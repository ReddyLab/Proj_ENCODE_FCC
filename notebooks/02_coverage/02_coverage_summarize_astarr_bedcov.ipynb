{
 "cells": [
  {
   "cell_type": "markdown",
   "id": "c7d66e76",
   "metadata": {},
   "source": [
    "**Set environment**"
   ]
  },
  {
   "cell_type": "code",
   "execution_count": 1,
   "id": "46d3c4cf",
   "metadata": {},
   "outputs": [
    {
     "name": "stdout",
     "output_type": "stream",
     "text": [
      "You are in Singularity: singularity_proj_combeffect \n",
      "BASE DIRECTORY:     /mount/work \n",
      "PATH OF SOURCE:     /mount/work/source \n",
      "PATH OF EXECUTABLE: /mount/work/exe \n",
      "PATH OF ANNOTATION: /mount/work/annotation \n",
      "PATH OF PROJECT:    /mount/project \n",
      "PATH OF RESULTS:    /mount/work/out/proj_combeffect_encode_fcc \n"
     ]
    }
   ],
   "source": [
    "suppressMessages(suppressWarnings(source(\"../config_sing.R\")))\n",
    "show_env()"
   ]
  },
  {
   "cell_type": "code",
   "execution_count": 2,
   "id": "8e946fd4",
   "metadata": {},
   "outputs": [
    {
     "name": "stdout",
     "output_type": "stream",
     "text": [
      "[1] \"KS91_K562_hg38_ASTARRseq_Depth.GATA1.unstranded.perbase.tsv\"\n",
      "[1] \"KS91_K562_hg38_ASTARRseq_Depth.MYC.unstranded.perbase.tsv\"\n",
      "[1] \"KS91_K562_hg38_ASTARRseq_Input_rep1.GATA1.unstranded.dedups.perbase.tsv.gz\"\n",
      "[1] \"KS91_K562_hg38_ASTARRseq_Input_rep1.MYC.unstranded.dedups.perbase.tsv.gz\"\n",
      "[1] \"KS91_K562_hg38_ASTARRseq_Input_rep2.GATA1.unstranded.dedups.perbase.tsv.gz\"\n",
      "[1] \"KS91_K562_hg38_ASTARRseq_Input_rep2.MYC.unstranded.dedups.perbase.tsv.gz\"\n",
      "[1] \"KS91_K562_hg38_ASTARRseq_Input_rep3.GATA1.unstranded.dedups.perbase.tsv.gz\"\n",
      "[1] \"KS91_K562_hg38_ASTARRseq_Input_rep3.MYC.unstranded.dedups.perbase.tsv.gz\"\n",
      "[1] \"KS91_K562_hg38_ASTARRseq_Input_rep4.GATA1.unstranded.dedups.perbase.tsv.gz\"\n",
      "[1] \"KS91_K562_hg38_ASTARRseq_Input_rep4.MYC.unstranded.dedups.perbase.tsv.gz\"\n",
      "[1] \"KS91_K562_hg38_ASTARRseq_Input_rep5.GATA1.unstranded.dedups.perbase.tsv.gz\"\n",
      "[1] \"KS91_K562_hg38_ASTARRseq_Input_rep5.MYC.unstranded.dedups.perbase.tsv.gz\"\n",
      "[1] \"KS91_K562_hg38_ASTARRseq_Input_rep6.GATA1.unstranded.dedups.perbase.tsv.gz\"\n",
      "[1] \"KS91_K562_hg38_ASTARRseq_Input_rep6.MYC.unstranded.dedups.perbase.tsv.gz\"\n",
      "[1] \"KS91_K562_hg38_ASTARRseq_Output_rep1.GATA1.unstranded.perbase.tsv.gz\"\n",
      "[1] \"KS91_K562_hg38_ASTARRseq_Output_rep1.MYC.unstranded.perbase.tsv.gz\"\n",
      "[1] \"KS91_K562_hg38_ASTARRseq_Output_rep2.GATA1.unstranded.perbase.tsv.gz\"\n",
      "[1] \"KS91_K562_hg38_ASTARRseq_Output_rep2.MYC.unstranded.perbase.tsv.gz\"\n",
      "[1] \"KS91_K562_hg38_ASTARRseq_Output_rep3.GATA1.unstranded.perbase.tsv.gz\"\n",
      "[1] \"KS91_K562_hg38_ASTARRseq_Output_rep3.MYC.unstranded.perbase.tsv.gz\"\n",
      "[1] \"KS91_K562_hg38_ASTARRseq_Output_rep4.GATA1.unstranded.perbase.tsv.gz\"\n",
      "[1] \"KS91_K562_hg38_ASTARRseq_Output_rep4.MYC.unstranded.perbase.tsv.gz\"\n",
      "[1] \"KS91_K562_hg38_ASTARRseq_Ratio.GATA1.unstranded.perbase.tsv\"\n",
      "[1] \"KS91_K562_hg38_ASTARRseq_Ratio.MYC.unstranded.perbase.tsv\"\n",
      "[1] \"region_GATA1.bed\"\n",
      "[1] \"region_MYC.bed\"\n",
      "[1] \"test.bw\"\n"
     ]
    }
   ],
   "source": [
    "fdiry = file.path(FD_RES, \"KS91_K562_ASTARRseq\", \"coverage\")\n",
    "for (x in dir(fdiry)) {print(x)}"
   ]
  },
  {
   "cell_type": "markdown",
   "id": "5303ad7f",
   "metadata": {},
   "source": [
    "## Import library sizes"
   ]
  },
  {
   "cell_type": "code",
   "execution_count": 3,
   "id": "5e2045f8",
   "metadata": {},
   "outputs": [
    {
     "data": {
      "text/html": [
       "<table class=\"dataframe\">\n",
       "<caption>A tibble: 6 × 5</caption>\n",
       "<thead>\n",
       "\t<tr><th scope=col>Sample</th><th scope=col>Group</th><th scope=col>Replicate</th><th scope=col>Region</th><th scope=col>Size</th></tr>\n",
       "\t<tr><th scope=col>&lt;chr&gt;</th><th scope=col>&lt;chr&gt;</th><th scope=col>&lt;chr&gt;</th><th scope=col>&lt;chr&gt;</th><th scope=col>&lt;dbl&gt;</th></tr>\n",
       "</thead>\n",
       "<tbody>\n",
       "\t<tr><td>Input_rep1</td><td>Input</td><td>rep1</td><td>GATA1</td><td>358823</td></tr>\n",
       "\t<tr><td>Input_rep1</td><td>Input</td><td>rep1</td><td>MYC  </td><td>255600</td></tr>\n",
       "\t<tr><td>Input_rep2</td><td>Input</td><td>rep2</td><td>GATA1</td><td>461577</td></tr>\n",
       "\t<tr><td>Input_rep2</td><td>Input</td><td>rep2</td><td>MYC  </td><td>331419</td></tr>\n",
       "\t<tr><td>Input_rep3</td><td>Input</td><td>rep3</td><td>GATA1</td><td>496229</td></tr>\n",
       "\t<tr><td>Input_rep3</td><td>Input</td><td>rep3</td><td>MYC  </td><td>359228</td></tr>\n",
       "</tbody>\n",
       "</table>\n"
      ],
      "text/latex": [
       "A tibble: 6 × 5\n",
       "\\begin{tabular}{lllll}\n",
       " Sample & Group & Replicate & Region & Size\\\\\n",
       " <chr> & <chr> & <chr> & <chr> & <dbl>\\\\\n",
       "\\hline\n",
       "\t Input\\_rep1 & Input & rep1 & GATA1 & 358823\\\\\n",
       "\t Input\\_rep1 & Input & rep1 & MYC   & 255600\\\\\n",
       "\t Input\\_rep2 & Input & rep2 & GATA1 & 461577\\\\\n",
       "\t Input\\_rep2 & Input & rep2 & MYC   & 331419\\\\\n",
       "\t Input\\_rep3 & Input & rep3 & GATA1 & 496229\\\\\n",
       "\t Input\\_rep3 & Input & rep3 & MYC   & 359228\\\\\n",
       "\\end{tabular}\n"
      ],
      "text/markdown": [
       "\n",
       "A tibble: 6 × 5\n",
       "\n",
       "| Sample &lt;chr&gt; | Group &lt;chr&gt; | Replicate &lt;chr&gt; | Region &lt;chr&gt; | Size &lt;dbl&gt; |\n",
       "|---|---|---|---|---|\n",
       "| Input_rep1 | Input | rep1 | GATA1 | 358823 |\n",
       "| Input_rep1 | Input | rep1 | MYC   | 255600 |\n",
       "| Input_rep2 | Input | rep2 | GATA1 | 461577 |\n",
       "| Input_rep2 | Input | rep2 | MYC   | 331419 |\n",
       "| Input_rep3 | Input | rep3 | GATA1 | 496229 |\n",
       "| Input_rep3 | Input | rep3 | MYC   | 359228 |\n",
       "\n"
      ],
      "text/plain": [
       "  Sample     Group Replicate Region Size  \n",
       "1 Input_rep1 Input rep1      GATA1  358823\n",
       "2 Input_rep1 Input rep1      MYC    255600\n",
       "3 Input_rep2 Input rep2      GATA1  461577\n",
       "4 Input_rep2 Input rep2      MYC    331419\n",
       "5 Input_rep3 Input rep3      GATA1  496229\n",
       "6 Input_rep3 Input rep3      MYC    359228"
      ]
     },
     "metadata": {},
     "output_type": "display_data"
    }
   ],
   "source": [
    "###\n",
    "fdiry = file.path(FD_RES, \"KS91_K562_ASTARRseq\", \"fragment\")\n",
    "fname = \"library_size.tsv\"\n",
    "fpath = file.path(fdiry, fname)\n",
    "\n",
    "dat_lib = read_tsv(fpath, show_col_types = FALSE)\n",
    "head(dat_lib)"
   ]
  },
  {
   "cell_type": "markdown",
   "id": "2242659d",
   "metadata": {},
   "source": [
    "## Test"
   ]
  },
  {
   "cell_type": "code",
   "execution_count": 4,
   "id": "1f8594f4",
   "metadata": {},
   "outputs": [
    {
     "name": "stdout",
     "output_type": "stream",
     "text": [
      "\n",
      " Import: Input (Deduplicated) \n",
      "[1] \"/mount/work/out/proj_combeffect_encode_fcc/KS91_K562_ASTARRseq/coverage/KS91_K562_hg38_ASTARRseq_Input_rep1.GATA1.unstranded.dedups.perbase.tsv.gz\"\n",
      "[1] \"/mount/work/out/proj_combeffect_encode_fcc/KS91_K562_ASTARRseq/coverage/KS91_K562_hg38_ASTARRseq_Input_rep2.GATA1.unstranded.dedups.perbase.tsv.gz\"\n",
      "[1] \"/mount/work/out/proj_combeffect_encode_fcc/KS91_K562_ASTARRseq/coverage/KS91_K562_hg38_ASTARRseq_Input_rep3.GATA1.unstranded.dedups.perbase.tsv.gz\"\n",
      "[1] \"/mount/work/out/proj_combeffect_encode_fcc/KS91_K562_ASTARRseq/coverage/KS91_K562_hg38_ASTARRseq_Input_rep4.GATA1.unstranded.dedups.perbase.tsv.gz\"\n",
      "[1] \"/mount/work/out/proj_combeffect_encode_fcc/KS91_K562_ASTARRseq/coverage/KS91_K562_hg38_ASTARRseq_Input_rep5.GATA1.unstranded.dedups.perbase.tsv.gz\"\n",
      "[1] \"/mount/work/out/proj_combeffect_encode_fcc/KS91_K562_ASTARRseq/coverage/KS91_K562_hg38_ASTARRseq_Input_rep6.GATA1.unstranded.dedups.perbase.tsv.gz\"\n",
      "\n",
      " Import: Output \n",
      "[1] \"/mount/work/out/proj_combeffect_encode_fcc/KS91_K562_ASTARRseq/coverage/KS91_K562_hg38_ASTARRseq_Output_rep1.GATA1.unstranded.perbase.tsv.gz\"\n",
      "[1] \"/mount/work/out/proj_combeffect_encode_fcc/KS91_K562_ASTARRseq/coverage/KS91_K562_hg38_ASTARRseq_Output_rep2.GATA1.unstranded.perbase.tsv.gz\"\n",
      "[1] \"/mount/work/out/proj_combeffect_encode_fcc/KS91_K562_ASTARRseq/coverage/KS91_K562_hg38_ASTARRseq_Output_rep3.GATA1.unstranded.perbase.tsv.gz\"\n",
      "[1] \"/mount/work/out/proj_combeffect_encode_fcc/KS91_K562_ASTARRseq/coverage/KS91_K562_hg38_ASTARRseq_Output_rep4.GATA1.unstranded.perbase.tsv.gz\"\n"
     ]
    }
   ],
   "source": [
    "### init: file directory\n",
    "fdiry = file.path(FD_RES, \"KS91_K562_ASTARRseq\", \"coverage\")\n",
    "\n",
    "### init: column names and types\n",
    "ctypes = c(col_character(), col_integer(), col_integer())\n",
    "cnames = c(\"Chrom\", \"Loc\", \"Depth\")\n",
    "\n",
    "### init: regions\n",
    "REGIONS = c(\"GATA1\", \"MYC\")\n",
    "\n",
    "### get one example\n",
    "REGION = REGIONS[1]\n",
    "\n",
    "### INPUT: set sample group and number of replicates\n",
    "GROUP   = \"Input\"\n",
    "REPLS   = paste0(\"rep\", 1:6)\n",
    "\n",
    "### INPUT: import data\n",
    "cat(\"\\n\", \"Import: Input (Deduplicated)\", \"\\n\")\n",
    "lst_dat_inp = lapply(REPLS, function(repl){\n",
    "    ### get sample file path\n",
    "    sam   = paste(GROUP, repl, sep=\"_\")\n",
    "    fglob = paste0(\"*\", sam, \"*\", REGION, \"*\", \"perbase.tsv.gz\")\n",
    "    fpath = Sys.glob(file.path(fdiry, fglob))\n",
    "\n",
    "    ### read data\n",
    "    print(fpath); flush.console()\n",
    "    dat = read_tsv(\n",
    "        fpath, \n",
    "        col_types = ctypes, \n",
    "        col_names = cnames)\n",
    "    dat$Sample = sam\n",
    "    dat$Region = REGION\n",
    "    return(dat)\n",
    "})\n",
    "\n",
    "### OUTPUT: set sample group and number of replicates\n",
    "GROUP  = \"Output\"\n",
    "REPLS  = paste0(\"rep\", 1:4)\n",
    "\n",
    "### OUTPUT: import data\n",
    "cat(\"\\n\", \"Import: Output\", \"\\n\")\n",
    "lst_dat_out = lapply(REPLS, function(repl){\n",
    "    ### get sample file path\n",
    "    sam   = paste(GROUP, repl, sep=\"_\")\n",
    "    fglob = paste0(\"*\", sam, \"*\", REGION, \"*\", \"perbase.tsv.gz\")\n",
    "    fpath = Sys.glob(file.path(fdiry, fglob))\n",
    "\n",
    "    ### read data\n",
    "    print(fpath); flush.console()\n",
    "    dat = read_tsv(\n",
    "        fpath, \n",
    "        col_types = ctypes, \n",
    "        col_names = cnames)\n",
    "    dat$Sample = sam\n",
    "    dat$Region = REGION\n",
    "    return(dat)\n",
    "})"
   ]
  },
  {
   "cell_type": "code",
   "execution_count": 5,
   "id": "a442f64a",
   "metadata": {},
   "outputs": [
    {
     "name": "stdout",
     "output_type": "stream",
     "text": [
      "\n",
      " Normalize and arrange \n"
     ]
    },
    {
     "data": {
      "text/html": [
       "<table class=\"dataframe\">\n",
       "<caption>A tibble: 6 × 11</caption>\n",
       "<thead>\n",
       "\t<tr><th scope=col>Chrom</th><th scope=col>Loc</th><th scope=col>Depth</th><th scope=col>Sample</th><th scope=col>Region</th><th scope=col>Group</th><th scope=col>Replicate</th><th scope=col>Size</th><th scope=col>Depth_Norm_add00</th><th scope=col>Depth_Norm_add01</th><th scope=col>Depth_Norm_add10</th></tr>\n",
       "\t<tr><th scope=col>&lt;chr&gt;</th><th scope=col>&lt;dbl&gt;</th><th scope=col>&lt;dbl&gt;</th><th scope=col>&lt;chr&gt;</th><th scope=col>&lt;chr&gt;</th><th scope=col>&lt;chr&gt;</th><th scope=col>&lt;chr&gt;</th><th scope=col>&lt;dbl&gt;</th><th scope=col>&lt;dbl&gt;</th><th scope=col>&lt;dbl&gt;</th><th scope=col>&lt;dbl&gt;</th></tr>\n",
       "</thead>\n",
       "<tbody>\n",
       "\t<tr><td>chrX</td><td>47786400</td><td>0</td><td>Input_rep1</td><td>GATA1</td><td>Input</td><td>rep1</td><td>358823</td><td>0</td><td>2.786889e-06</td><td>2.786889e-05</td></tr>\n",
       "\t<tr><td>chrX</td><td>47786401</td><td>0</td><td>Input_rep1</td><td>GATA1</td><td>Input</td><td>rep1</td><td>358823</td><td>0</td><td>2.786889e-06</td><td>2.786889e-05</td></tr>\n",
       "\t<tr><td>chrX</td><td>47786402</td><td>0</td><td>Input_rep1</td><td>GATA1</td><td>Input</td><td>rep1</td><td>358823</td><td>0</td><td>2.786889e-06</td><td>2.786889e-05</td></tr>\n",
       "\t<tr><td>chrX</td><td>47786403</td><td>0</td><td>Input_rep1</td><td>GATA1</td><td>Input</td><td>rep1</td><td>358823</td><td>0</td><td>2.786889e-06</td><td>2.786889e-05</td></tr>\n",
       "\t<tr><td>chrX</td><td>47786404</td><td>0</td><td>Input_rep1</td><td>GATA1</td><td>Input</td><td>rep1</td><td>358823</td><td>0</td><td>2.786889e-06</td><td>2.786889e-05</td></tr>\n",
       "\t<tr><td>chrX</td><td>47786405</td><td>0</td><td>Input_rep1</td><td>GATA1</td><td>Input</td><td>rep1</td><td>358823</td><td>0</td><td>2.786889e-06</td><td>2.786889e-05</td></tr>\n",
       "</tbody>\n",
       "</table>\n"
      ],
      "text/latex": [
       "A tibble: 6 × 11\n",
       "\\begin{tabular}{lllllllllll}\n",
       " Chrom & Loc & Depth & Sample & Region & Group & Replicate & Size & Depth\\_Norm\\_add00 & Depth\\_Norm\\_add01 & Depth\\_Norm\\_add10\\\\\n",
       " <chr> & <dbl> & <dbl> & <chr> & <chr> & <chr> & <chr> & <dbl> & <dbl> & <dbl> & <dbl>\\\\\n",
       "\\hline\n",
       "\t chrX & 47786400 & 0 & Input\\_rep1 & GATA1 & Input & rep1 & 358823 & 0 & 2.786889e-06 & 2.786889e-05\\\\\n",
       "\t chrX & 47786401 & 0 & Input\\_rep1 & GATA1 & Input & rep1 & 358823 & 0 & 2.786889e-06 & 2.786889e-05\\\\\n",
       "\t chrX & 47786402 & 0 & Input\\_rep1 & GATA1 & Input & rep1 & 358823 & 0 & 2.786889e-06 & 2.786889e-05\\\\\n",
       "\t chrX & 47786403 & 0 & Input\\_rep1 & GATA1 & Input & rep1 & 358823 & 0 & 2.786889e-06 & 2.786889e-05\\\\\n",
       "\t chrX & 47786404 & 0 & Input\\_rep1 & GATA1 & Input & rep1 & 358823 & 0 & 2.786889e-06 & 2.786889e-05\\\\\n",
       "\t chrX & 47786405 & 0 & Input\\_rep1 & GATA1 & Input & rep1 & 358823 & 0 & 2.786889e-06 & 2.786889e-05\\\\\n",
       "\\end{tabular}\n"
      ],
      "text/markdown": [
       "\n",
       "A tibble: 6 × 11\n",
       "\n",
       "| Chrom &lt;chr&gt; | Loc &lt;dbl&gt; | Depth &lt;dbl&gt; | Sample &lt;chr&gt; | Region &lt;chr&gt; | Group &lt;chr&gt; | Replicate &lt;chr&gt; | Size &lt;dbl&gt; | Depth_Norm_add00 &lt;dbl&gt; | Depth_Norm_add01 &lt;dbl&gt; | Depth_Norm_add10 &lt;dbl&gt; |\n",
       "|---|---|---|---|---|---|---|---|---|---|---|\n",
       "| chrX | 47786400 | 0 | Input_rep1 | GATA1 | Input | rep1 | 358823 | 0 | 2.786889e-06 | 2.786889e-05 |\n",
       "| chrX | 47786401 | 0 | Input_rep1 | GATA1 | Input | rep1 | 358823 | 0 | 2.786889e-06 | 2.786889e-05 |\n",
       "| chrX | 47786402 | 0 | Input_rep1 | GATA1 | Input | rep1 | 358823 | 0 | 2.786889e-06 | 2.786889e-05 |\n",
       "| chrX | 47786403 | 0 | Input_rep1 | GATA1 | Input | rep1 | 358823 | 0 | 2.786889e-06 | 2.786889e-05 |\n",
       "| chrX | 47786404 | 0 | Input_rep1 | GATA1 | Input | rep1 | 358823 | 0 | 2.786889e-06 | 2.786889e-05 |\n",
       "| chrX | 47786405 | 0 | Input_rep1 | GATA1 | Input | rep1 | 358823 | 0 | 2.786889e-06 | 2.786889e-05 |\n",
       "\n"
      ],
      "text/plain": [
       "  Chrom Loc      Depth Sample     Region Group Replicate Size  \n",
       "1 chrX  47786400 0     Input_rep1 GATA1  Input rep1      358823\n",
       "2 chrX  47786401 0     Input_rep1 GATA1  Input rep1      358823\n",
       "3 chrX  47786402 0     Input_rep1 GATA1  Input rep1      358823\n",
       "4 chrX  47786403 0     Input_rep1 GATA1  Input rep1      358823\n",
       "5 chrX  47786404 0     Input_rep1 GATA1  Input rep1      358823\n",
       "6 chrX  47786405 0     Input_rep1 GATA1  Input rep1      358823\n",
       "  Depth_Norm_add00 Depth_Norm_add01 Depth_Norm_add10\n",
       "1 0                2.786889e-06     2.786889e-05    \n",
       "2 0                2.786889e-06     2.786889e-05    \n",
       "3 0                2.786889e-06     2.786889e-05    \n",
       "4 0                2.786889e-06     2.786889e-05    \n",
       "5 0                2.786889e-06     2.786889e-05    \n",
       "6 0                2.786889e-06     2.786889e-05    "
      ]
     },
     "metadata": {},
     "output_type": "display_data"
    }
   ],
   "source": [
    "### normalize and arrange columns\n",
    "cat(\"\\n\", \"Normalize and arrange\", \"\\n\"); flush.console()\n",
    "dat_depth = bind_rows(lst_dat_inp, lst_dat_out) %>% \n",
    "    left_join(dat_lib, by=c(\"Sample\", \"Region\")) %>%\n",
    "    mutate(\n",
    "        Depth_Norm_add00 =  Depth       / Size, \n",
    "        Depth_Norm_add01 = (Depth +  1) / Size,\n",
    "        Depth_Norm_add10 = (Depth + 10) / Size)\n",
    "head(dat_depth)"
   ]
  },
  {
   "cell_type": "code",
   "execution_count": 25,
   "id": "0dd387dd",
   "metadata": {},
   "outputs": [
    {
     "data": {
      "text/html": [
       "<table class=\"dataframe\">\n",
       "<caption>A tibble: 6 × 5</caption>\n",
       "<thead>\n",
       "\t<tr><th scope=col>Chrom</th><th scope=col>Loc</th><th scope=col>Input</th><th scope=col>Output</th><th scope=col>FC</th></tr>\n",
       "\t<tr><th scope=col>&lt;chr&gt;</th><th scope=col>&lt;dbl&gt;</th><th scope=col>&lt;dbl&gt;</th><th scope=col>&lt;dbl&gt;</th><th scope=col>&lt;dbl&gt;</th></tr>\n",
       "</thead>\n",
       "<tbody>\n",
       "\t<tr><td>chrX</td><td>47786400</td><td>0</td><td>0</td><td>NaN</td></tr>\n",
       "\t<tr><td>chrX</td><td>47786401</td><td>0</td><td>0</td><td>NaN</td></tr>\n",
       "\t<tr><td>chrX</td><td>47786402</td><td>0</td><td>0</td><td>NaN</td></tr>\n",
       "\t<tr><td>chrX</td><td>47786403</td><td>0</td><td>0</td><td>NaN</td></tr>\n",
       "\t<tr><td>chrX</td><td>47786404</td><td>0</td><td>0</td><td>NaN</td></tr>\n",
       "\t<tr><td>chrX</td><td>47786405</td><td>0</td><td>0</td><td>NaN</td></tr>\n",
       "</tbody>\n",
       "</table>\n"
      ],
      "text/latex": [
       "A tibble: 6 × 5\n",
       "\\begin{tabular}{lllll}\n",
       " Chrom & Loc & Input & Output & FC\\\\\n",
       " <chr> & <dbl> & <dbl> & <dbl> & <dbl>\\\\\n",
       "\\hline\n",
       "\t chrX & 47786400 & 0 & 0 & NaN\\\\\n",
       "\t chrX & 47786401 & 0 & 0 & NaN\\\\\n",
       "\t chrX & 47786402 & 0 & 0 & NaN\\\\\n",
       "\t chrX & 47786403 & 0 & 0 & NaN\\\\\n",
       "\t chrX & 47786404 & 0 & 0 & NaN\\\\\n",
       "\t chrX & 47786405 & 0 & 0 & NaN\\\\\n",
       "\\end{tabular}\n"
      ],
      "text/markdown": [
       "\n",
       "A tibble: 6 × 5\n",
       "\n",
       "| Chrom &lt;chr&gt; | Loc &lt;dbl&gt; | Input &lt;dbl&gt; | Output &lt;dbl&gt; | FC &lt;dbl&gt; |\n",
       "|---|---|---|---|---|\n",
       "| chrX | 47786400 | 0 | 0 | NaN |\n",
       "| chrX | 47786401 | 0 | 0 | NaN |\n",
       "| chrX | 47786402 | 0 | 0 | NaN |\n",
       "| chrX | 47786403 | 0 | 0 | NaN |\n",
       "| chrX | 47786404 | 0 | 0 | NaN |\n",
       "| chrX | 47786405 | 0 | 0 | NaN |\n",
       "\n"
      ],
      "text/plain": [
       "  Chrom Loc      Input Output FC \n",
       "1 chrX  47786400 0     0      NaN\n",
       "2 chrX  47786401 0     0      NaN\n",
       "3 chrX  47786402 0     0      NaN\n",
       "4 chrX  47786403 0     0      NaN\n",
       "5 chrX  47786404 0     0      NaN\n",
       "6 chrX  47786405 0     0      NaN"
      ]
     },
     "metadata": {},
     "output_type": "display_data"
    }
   ],
   "source": [
    "tmp_add00 = dat_depth %>% \n",
    "    dplyr::select(\n",
    "        Chrom,  Loc, \n",
    "        Sample, Group, Replicate, Region, \n",
    "        Depth,  Size,  Depth_Norm_add00) %>% \n",
    "    dplyr::rename(Value = Depth_Norm_add00) %>% \n",
    "    group_by(Chrom, Loc, Group) %>% \n",
    "    summarize(Value = mean(Value), .groups='drop') %>% \n",
    "    spread(Group, Value) %>%\n",
    "    mutate(FC = Output / Input)\n",
    "head(tmp_add00)"
   ]
  },
  {
   "cell_type": "code",
   "execution_count": 13,
   "id": "19e2c170",
   "metadata": {},
   "outputs": [
    {
     "data": {
      "text/html": [
       "<table class=\"dataframe\">\n",
       "<caption>A tibble: 6 × 5</caption>\n",
       "<thead>\n",
       "\t<tr><th scope=col>Chrom</th><th scope=col>Loc</th><th scope=col>Input</th><th scope=col>Output</th><th scope=col>FC</th></tr>\n",
       "\t<tr><th scope=col>&lt;chr&gt;</th><th scope=col>&lt;dbl&gt;</th><th scope=col>&lt;dbl&gt;</th><th scope=col>&lt;dbl&gt;</th><th scope=col>&lt;dbl&gt;</th></tr>\n",
       "</thead>\n",
       "<tbody>\n",
       "\t<tr><td>chrX</td><td>47786400</td><td>2.294508e-06</td><td>1.763146e-06</td><td>0.76842</td></tr>\n",
       "\t<tr><td>chrX</td><td>47786401</td><td>2.294508e-06</td><td>1.763146e-06</td><td>0.76842</td></tr>\n",
       "\t<tr><td>chrX</td><td>47786402</td><td>2.294508e-06</td><td>1.763146e-06</td><td>0.76842</td></tr>\n",
       "\t<tr><td>chrX</td><td>47786403</td><td>2.294508e-06</td><td>1.763146e-06</td><td>0.76842</td></tr>\n",
       "\t<tr><td>chrX</td><td>47786404</td><td>2.294508e-06</td><td>1.763146e-06</td><td>0.76842</td></tr>\n",
       "\t<tr><td>chrX</td><td>47786405</td><td>2.294508e-06</td><td>1.763146e-06</td><td>0.76842</td></tr>\n",
       "</tbody>\n",
       "</table>\n"
      ],
      "text/latex": [
       "A tibble: 6 × 5\n",
       "\\begin{tabular}{lllll}\n",
       " Chrom & Loc & Input & Output & FC\\\\\n",
       " <chr> & <dbl> & <dbl> & <dbl> & <dbl>\\\\\n",
       "\\hline\n",
       "\t chrX & 47786400 & 2.294508e-06 & 1.763146e-06 & 0.76842\\\\\n",
       "\t chrX & 47786401 & 2.294508e-06 & 1.763146e-06 & 0.76842\\\\\n",
       "\t chrX & 47786402 & 2.294508e-06 & 1.763146e-06 & 0.76842\\\\\n",
       "\t chrX & 47786403 & 2.294508e-06 & 1.763146e-06 & 0.76842\\\\\n",
       "\t chrX & 47786404 & 2.294508e-06 & 1.763146e-06 & 0.76842\\\\\n",
       "\t chrX & 47786405 & 2.294508e-06 & 1.763146e-06 & 0.76842\\\\\n",
       "\\end{tabular}\n"
      ],
      "text/markdown": [
       "\n",
       "A tibble: 6 × 5\n",
       "\n",
       "| Chrom &lt;chr&gt; | Loc &lt;dbl&gt; | Input &lt;dbl&gt; | Output &lt;dbl&gt; | FC &lt;dbl&gt; |\n",
       "|---|---|---|---|---|\n",
       "| chrX | 47786400 | 2.294508e-06 | 1.763146e-06 | 0.76842 |\n",
       "| chrX | 47786401 | 2.294508e-06 | 1.763146e-06 | 0.76842 |\n",
       "| chrX | 47786402 | 2.294508e-06 | 1.763146e-06 | 0.76842 |\n",
       "| chrX | 47786403 | 2.294508e-06 | 1.763146e-06 | 0.76842 |\n",
       "| chrX | 47786404 | 2.294508e-06 | 1.763146e-06 | 0.76842 |\n",
       "| chrX | 47786405 | 2.294508e-06 | 1.763146e-06 | 0.76842 |\n",
       "\n"
      ],
      "text/plain": [
       "  Chrom Loc      Input        Output       FC     \n",
       "1 chrX  47786400 2.294508e-06 1.763146e-06 0.76842\n",
       "2 chrX  47786401 2.294508e-06 1.763146e-06 0.76842\n",
       "3 chrX  47786402 2.294508e-06 1.763146e-06 0.76842\n",
       "4 chrX  47786403 2.294508e-06 1.763146e-06 0.76842\n",
       "5 chrX  47786404 2.294508e-06 1.763146e-06 0.76842\n",
       "6 chrX  47786405 2.294508e-06 1.763146e-06 0.76842"
      ]
     },
     "metadata": {},
     "output_type": "display_data"
    }
   ],
   "source": [
    "tmp_add01 = dat_depth %>% \n",
    "    dplyr::select(\n",
    "        Chrom,  Loc, \n",
    "        Sample, Group, Replicate, Region, \n",
    "        Depth,  Size,  Depth_Norm_add01) %>% \n",
    "    dplyr::rename(Value = Depth_Norm_add01) %>% \n",
    "    group_by(Chrom, Loc, Group) %>% \n",
    "    summarize(Value = mean(Value), .groups='drop') %>% \n",
    "    spread(Group, Value) %>%\n",
    "    mutate(FC = Output / Input)\n",
    "head(tmp_add01)"
   ]
  },
  {
   "cell_type": "code",
   "execution_count": 14,
   "id": "1e25cb4a",
   "metadata": {},
   "outputs": [
    {
     "data": {
      "text/html": [
       "<table class=\"dataframe\">\n",
       "<caption>A tibble: 6 × 5</caption>\n",
       "<thead>\n",
       "\t<tr><th scope=col>Chrom</th><th scope=col>Loc</th><th scope=col>Input</th><th scope=col>Output</th><th scope=col>FC</th></tr>\n",
       "\t<tr><th scope=col>&lt;chr&gt;</th><th scope=col>&lt;dbl&gt;</th><th scope=col>&lt;dbl&gt;</th><th scope=col>&lt;dbl&gt;</th><th scope=col>&lt;dbl&gt;</th></tr>\n",
       "</thead>\n",
       "<tbody>\n",
       "\t<tr><td>chrX</td><td>47786400</td><td>2.294508e-05</td><td>1.763146e-05</td><td>0.76842</td></tr>\n",
       "\t<tr><td>chrX</td><td>47786401</td><td>2.294508e-05</td><td>1.763146e-05</td><td>0.76842</td></tr>\n",
       "\t<tr><td>chrX</td><td>47786402</td><td>2.294508e-05</td><td>1.763146e-05</td><td>0.76842</td></tr>\n",
       "\t<tr><td>chrX</td><td>47786403</td><td>2.294508e-05</td><td>1.763146e-05</td><td>0.76842</td></tr>\n",
       "\t<tr><td>chrX</td><td>47786404</td><td>2.294508e-05</td><td>1.763146e-05</td><td>0.76842</td></tr>\n",
       "\t<tr><td>chrX</td><td>47786405</td><td>2.294508e-05</td><td>1.763146e-05</td><td>0.76842</td></tr>\n",
       "</tbody>\n",
       "</table>\n"
      ],
      "text/latex": [
       "A tibble: 6 × 5\n",
       "\\begin{tabular}{lllll}\n",
       " Chrom & Loc & Input & Output & FC\\\\\n",
       " <chr> & <dbl> & <dbl> & <dbl> & <dbl>\\\\\n",
       "\\hline\n",
       "\t chrX & 47786400 & 2.294508e-05 & 1.763146e-05 & 0.76842\\\\\n",
       "\t chrX & 47786401 & 2.294508e-05 & 1.763146e-05 & 0.76842\\\\\n",
       "\t chrX & 47786402 & 2.294508e-05 & 1.763146e-05 & 0.76842\\\\\n",
       "\t chrX & 47786403 & 2.294508e-05 & 1.763146e-05 & 0.76842\\\\\n",
       "\t chrX & 47786404 & 2.294508e-05 & 1.763146e-05 & 0.76842\\\\\n",
       "\t chrX & 47786405 & 2.294508e-05 & 1.763146e-05 & 0.76842\\\\\n",
       "\\end{tabular}\n"
      ],
      "text/markdown": [
       "\n",
       "A tibble: 6 × 5\n",
       "\n",
       "| Chrom &lt;chr&gt; | Loc &lt;dbl&gt; | Input &lt;dbl&gt; | Output &lt;dbl&gt; | FC &lt;dbl&gt; |\n",
       "|---|---|---|---|---|\n",
       "| chrX | 47786400 | 2.294508e-05 | 1.763146e-05 | 0.76842 |\n",
       "| chrX | 47786401 | 2.294508e-05 | 1.763146e-05 | 0.76842 |\n",
       "| chrX | 47786402 | 2.294508e-05 | 1.763146e-05 | 0.76842 |\n",
       "| chrX | 47786403 | 2.294508e-05 | 1.763146e-05 | 0.76842 |\n",
       "| chrX | 47786404 | 2.294508e-05 | 1.763146e-05 | 0.76842 |\n",
       "| chrX | 47786405 | 2.294508e-05 | 1.763146e-05 | 0.76842 |\n",
       "\n"
      ],
      "text/plain": [
       "  Chrom Loc      Input        Output       FC     \n",
       "1 chrX  47786400 2.294508e-05 1.763146e-05 0.76842\n",
       "2 chrX  47786401 2.294508e-05 1.763146e-05 0.76842\n",
       "3 chrX  47786402 2.294508e-05 1.763146e-05 0.76842\n",
       "4 chrX  47786403 2.294508e-05 1.763146e-05 0.76842\n",
       "5 chrX  47786404 2.294508e-05 1.763146e-05 0.76842\n",
       "6 chrX  47786405 2.294508e-05 1.763146e-05 0.76842"
      ]
     },
     "metadata": {},
     "output_type": "display_data"
    }
   ],
   "source": [
    "tmp_add10 = dat_depth %>% \n",
    "    dplyr::select(\n",
    "        Chrom,  Loc, \n",
    "        Sample, Group, Replicate, Region, \n",
    "        Depth,  Size,  Depth_Norm_add10) %>% \n",
    "    dplyr::rename(Value = Depth_Norm_add10) %>% \n",
    "    group_by(Chrom, Loc, Group) %>% \n",
    "    summarize(Value = mean(Value), .groups='drop') %>% \n",
    "    spread(Group, Value) %>%\n",
    "    mutate(FC = Output / Input)\n",
    "head(tmp_add10)"
   ]
  },
  {
   "cell_type": "code",
   "execution_count": null,
   "id": "bb0e115a",
   "metadata": {},
   "outputs": [],
   "source": [
    "dat = tmp_add00\n",
    "dat$log2FC = log2(dat$FC)\n",
    "dat = dat %>% dplyr::filter(Loc>=48780000, Loc<=48826000)\n",
    "\n",
    "gp1 = ggplot(dat, aes(x=Loc, y=FC)) +\n",
    "    geom_hline(yintercept=0, color=\"grey10\") +\n",
    "    geom_line(size=1) + \n",
    "    theme_cowplot() +\n",
    "    labs(\n",
    "        title=\"FC = ((Count_Output / LibSize_Output) / (Count_Input / LibSize_Input)\",\n",
    "        y = \"FC\")\n",
    "\n",
    "gp2 = ggplot(dat, aes(x=Loc, y=log2FC)) +\n",
    "    geom_hline(yintercept=0, color=\"grey10\") +\n",
    "    geom_line(size=1) + \n",
    "    theme_cowplot() +\n",
    "    labs(y = \"log2(FC)\")"
   ]
  },
  {
   "cell_type": "code",
   "execution_count": 22,
   "id": "098d5a00",
   "metadata": {},
   "outputs": [],
   "source": [
    "dat = tmp_add01\n",
    "dat$log2FC = log2(dat$FC)\n",
    "dat = dat %>% dplyr::filter(Loc>=48780000, Loc<=48826000)\n",
    "\n",
    "gp1 = ggplot(dat, aes(x=Loc, y=FC)) +\n",
    "    geom_hline(yintercept=0, color=\"grey10\") +\n",
    "    geom_line(size=1) + \n",
    "    theme_cowplot() +\n",
    "    labs(\n",
    "        title=\"FC = ((Count_Output+1) / LibSize_Output) / (Count_Input+1) / LibSize_Input\",\n",
    "        y = \"FC\")\n",
    "\n",
    "gp2 = ggplot(dat, aes(x=Loc, y=log2FC)) +\n",
    "    geom_hline(yintercept=0, color=\"grey10\") +\n",
    "    geom_line(size=1) + \n",
    "    theme_cowplot() +\n",
    "    labs(y = \"log2(FC)\")"
   ]
  },
  {
   "cell_type": "code",
   "execution_count": 24,
   "id": "32f8aa6b",
   "metadata": {},
   "outputs": [
    {
     "data": {
      "image/png": "[encoded data removed]",
      "text/plain": [
       "plot without title"
      ]
     },
     "metadata": {
      "image/png": {
       "height": 360,
       "width": 900
      }
     },
     "output_type": "display_data"
    }
   ],
   "source": [
    "options(repr.plot.height=6, repr.plot.width=15)\n",
    "plot_grid(gp1, gp2, align=\"v\", ncol=1)"
   ]
  },
  {
   "cell_type": "code",
   "execution_count": 17,
   "id": "a1256213",
   "metadata": {},
   "outputs": [
    {
     "name": "stderr",
     "output_type": "stream",
     "text": [
      "Warning message:\n",
      "“Removed 1954349 row(s) containing missing values (geom_path).”\n"
     ]
    },
    {
     "data": {
      "image/png": "[encoded data removed]",
      "text/plain": [
       "plot without title"
      ]
     },
     "metadata": {
      "image/png": {
       "height": 180,
       "width": 900
      }
     },
     "output_type": "display_data"
    }
   ],
   "source": [
    "dat = tmp_add10\n",
    "gpt = ggplot(dat, aes(x=Loc, y=FC)) +\n",
    "    geom_hline(yintercept=0, color=\"grey10\") +\n",
    "    geom_line(size=1) + \n",
    "    theme_cowplot() +\n",
    "    xlim(48780000, 48826000) +\n",
    "    labs(title=\"FC = ((Count_Output+10) / LibSize_Output) / (Count_Input+10) / LibSize_Input\")\n",
    "\n",
    "options(repr.plot.height=3, repr.plot.width=15)\n",
    "print(gpt)"
   ]
  },
  {
   "cell_type": "code",
   "execution_count": null,
   "id": "7a250c79",
   "metadata": {},
   "outputs": [],
   "source": [
    "### summarize and calculate fold change\n",
    "    dat_ratio = dat_depth %>% \n",
    "        group_by(Chrom, Loc, Group) %>% \n",
    "        summarize(Value = mean(Depth_Norm), .groups='drop') %>% \n",
    "        spread(Group, Value) %>%\n",
    "        mutate(\n",
    "            FC_out00_inp01 =  Output     / (Input+1),\n",
    "            FC_out01_inp01 = (Output+1)  / (Input+1),\n",
    "            FC_out10_inp10 = (Output+10) / (Input+10))"
   ]
  },
  {
   "cell_type": "markdown",
   "id": "9a71ab04",
   "metadata": {},
   "source": [
    "## Import coverage per each base pair"
   ]
  },
  {
   "cell_type": "code",
   "execution_count": 4,
   "id": "f31e6730",
   "metadata": {},
   "outputs": [
    {
     "name": "stdout",
     "output_type": "stream",
     "text": [
      "REGION: GATA1 \n",
      "\n",
      " Import: Input (Deduplicated) \n",
      "[1] \"/mount/work/out/proj_combeffect_encode_fcc/KS91_K562_ASTARRseq/coverage/KS91_K562_hg38_ASTARRseq_Input_rep1.GATA1.unstranded.dedups.perbase.tsv.gz\"\n",
      "[1] \"/mount/work/out/proj_combeffect_encode_fcc/KS91_K562_ASTARRseq/coverage/KS91_K562_hg38_ASTARRseq_Input_rep2.GATA1.unstranded.dedups.perbase.tsv.gz\"\n",
      "[1] \"/mount/work/out/proj_combeffect_encode_fcc/KS91_K562_ASTARRseq/coverage/KS91_K562_hg38_ASTARRseq_Input_rep3.GATA1.unstranded.dedups.perbase.tsv.gz\"\n",
      "[1] \"/mount/work/out/proj_combeffect_encode_fcc/KS91_K562_ASTARRseq/coverage/KS91_K562_hg38_ASTARRseq_Input_rep4.GATA1.unstranded.dedups.perbase.tsv.gz\"\n",
      "[1] \"/mount/work/out/proj_combeffect_encode_fcc/KS91_K562_ASTARRseq/coverage/KS91_K562_hg38_ASTARRseq_Input_rep5.GATA1.unstranded.dedups.perbase.tsv.gz\"\n",
      "[1] \"/mount/work/out/proj_combeffect_encode_fcc/KS91_K562_ASTARRseq/coverage/KS91_K562_hg38_ASTARRseq_Input_rep6.GATA1.unstranded.dedups.perbase.tsv.gz\"\n",
      "\n",
      " Import: Output \n",
      "[1] \"/mount/work/out/proj_combeffect_encode_fcc/KS91_K562_ASTARRseq/coverage/KS91_K562_hg38_ASTARRseq_Output_rep1.GATA1.unstranded.perbase.tsv.gz\"\n",
      "[1] \"/mount/work/out/proj_combeffect_encode_fcc/KS91_K562_ASTARRseq/coverage/KS91_K562_hg38_ASTARRseq_Output_rep2.GATA1.unstranded.perbase.tsv.gz\"\n",
      "[1] \"/mount/work/out/proj_combeffect_encode_fcc/KS91_K562_ASTARRseq/coverage/KS91_K562_hg38_ASTARRseq_Output_rep3.GATA1.unstranded.perbase.tsv.gz\"\n",
      "[1] \"/mount/work/out/proj_combeffect_encode_fcc/KS91_K562_ASTARRseq/coverage/KS91_K562_hg38_ASTARRseq_Output_rep4.GATA1.unstranded.perbase.tsv.gz\"\n",
      "\n",
      " Normalize and arrange \n",
      "\n",
      " Save table \n",
      "/mount/work/out/proj_combeffect_encode_fcc/KS91_K562_ASTARRseq/coverage/KS91_K562_hg38_ASTARRseq_Depth.GATA1.unstranded.perbase.tsv \n",
      "/mount/work/out/proj_combeffect_encode_fcc/KS91_K562_ASTARRseq/coverage/KS91_K562_hg38_ASTARRseq_Ratio.GATA1.unstranded.perbase.tsv \n",
      "--------------------------------------\n",
      "\n",
      "REGION: MYC \n",
      "\n",
      " Import: Input (Deduplicated) \n",
      "[1] \"/mount/work/out/proj_combeffect_encode_fcc/KS91_K562_ASTARRseq/coverage/KS91_K562_hg38_ASTARRseq_Input_rep1.MYC.unstranded.dedups.perbase.tsv.gz\"\n",
      "[1] \"/mount/work/out/proj_combeffect_encode_fcc/KS91_K562_ASTARRseq/coverage/KS91_K562_hg38_ASTARRseq_Input_rep2.MYC.unstranded.dedups.perbase.tsv.gz\"\n",
      "[1] \"/mount/work/out/proj_combeffect_encode_fcc/KS91_K562_ASTARRseq/coverage/KS91_K562_hg38_ASTARRseq_Input_rep3.MYC.unstranded.dedups.perbase.tsv.gz\"\n",
      "[1] \"/mount/work/out/proj_combeffect_encode_fcc/KS91_K562_ASTARRseq/coverage/KS91_K562_hg38_ASTARRseq_Input_rep4.MYC.unstranded.dedups.perbase.tsv.gz\"\n",
      "[1] \"/mount/work/out/proj_combeffect_encode_fcc/KS91_K562_ASTARRseq/coverage/KS91_K562_hg38_ASTARRseq_Input_rep5.MYC.unstranded.dedups.perbase.tsv.gz\"\n",
      "[1] \"/mount/work/out/proj_combeffect_encode_fcc/KS91_K562_ASTARRseq/coverage/KS91_K562_hg38_ASTARRseq_Input_rep6.MYC.unstranded.dedups.perbase.tsv.gz\"\n",
      "\n",
      " Import: Output \n",
      "[1] \"/mount/work/out/proj_combeffect_encode_fcc/KS91_K562_ASTARRseq/coverage/KS91_K562_hg38_ASTARRseq_Output_rep1.MYC.unstranded.perbase.tsv.gz\"\n",
      "[1] \"/mount/work/out/proj_combeffect_encode_fcc/KS91_K562_ASTARRseq/coverage/KS91_K562_hg38_ASTARRseq_Output_rep2.MYC.unstranded.perbase.tsv.gz\"\n",
      "[1] \"/mount/work/out/proj_combeffect_encode_fcc/KS91_K562_ASTARRseq/coverage/KS91_K562_hg38_ASTARRseq_Output_rep3.MYC.unstranded.perbase.tsv.gz\"\n",
      "[1] \"/mount/work/out/proj_combeffect_encode_fcc/KS91_K562_ASTARRseq/coverage/KS91_K562_hg38_ASTARRseq_Output_rep4.MYC.unstranded.perbase.tsv.gz\"\n",
      "\n",
      " Normalize and arrange \n",
      "\n",
      " Save table \n",
      "/mount/work/out/proj_combeffect_encode_fcc/KS91_K562_ASTARRseq/coverage/KS91_K562_hg38_ASTARRseq_Depth.MYC.unstranded.perbase.tsv \n",
      "/mount/work/out/proj_combeffect_encode_fcc/KS91_K562_ASTARRseq/coverage/KS91_K562_hg38_ASTARRseq_Ratio.MYC.unstranded.perbase.tsv \n",
      "--------------------------------------\n",
      "\n"
     ]
    }
   ],
   "source": [
    "### init: file directory\n",
    "fdiry = file.path(FD_RES, \"KS91_K562_ASTARRseq\", \"coverage\")\n",
    "\n",
    "### init: column names and types\n",
    "ctypes = c(col_character(), col_integer(), col_integer())\n",
    "cnames = c(\"Chrom\", \"Loc\", \"Depth\")\n",
    "\n",
    "### init: regions\n",
    "REGIONS = c(\"GATA1\", \"MYC\")\n",
    "\n",
    "for (REGION in REGIONS){\n",
    "    cat(\"REGION:\", REGION, \"\\n\")\n",
    "    \n",
    "    ### INPUT: set sample group and number of replicates\n",
    "    GROUP   = \"Input\"\n",
    "    REPLS   = paste0(\"rep\", 1:6)\n",
    "\n",
    "    ### INPUT: import data\n",
    "    cat(\"\\n\", \"Import: Input (Deduplicated)\", \"\\n\")\n",
    "    lst_dat_inp = lapply(REPLS, function(repl){\n",
    "        ### get sample file path\n",
    "        sam   = paste(GROUP, repl, sep=\"_\")\n",
    "        fglob = paste0(\"*\", sam, \"*\", REGION, \"*\", \"perbase.tsv.gz\")\n",
    "        fpath = Sys.glob(file.path(fdiry, fglob))\n",
    "\n",
    "        ### read data\n",
    "        print(fpath); flush.console()\n",
    "        dat = read_tsv(\n",
    "            fpath, \n",
    "            col_types = ctypes, \n",
    "            col_names = cnames)\n",
    "        dat$Sample = sam\n",
    "        dat$Region = REGION\n",
    "        return(dat)\n",
    "    })\n",
    "    \n",
    "    ### OUTPUT: set sample group and number of replicates\n",
    "    GROUP  = \"Output\"\n",
    "    REPLS  = paste0(\"rep\", 1:4)\n",
    "\n",
    "    ### OUTPUT: import data\n",
    "    cat(\"\\n\", \"Import: Output\", \"\\n\")\n",
    "    lst_dat_out = lapply(REPLS, function(repl){\n",
    "        ### get sample file path\n",
    "        sam   = paste(GROUP, repl, sep=\"_\")\n",
    "        fglob = paste0(\"*\", sam, \"*\", REGION, \"*\", \"perbase.tsv.gz\")\n",
    "        fpath = Sys.glob(file.path(fdiry, fglob))\n",
    "\n",
    "        ### read data\n",
    "        print(fpath); flush.console()\n",
    "        dat = read_tsv(\n",
    "            fpath, \n",
    "            col_types = ctypes, \n",
    "            col_names = cnames)\n",
    "        dat$Sample = sam\n",
    "        dat$Region = REGION\n",
    "        return(dat)\n",
    "    })\n",
    "    \n",
    "    ### normalize and arrange columns\n",
    "    cat(\"\\n\", \"Normalize and arrange\", \"\\n\"); flush.console()\n",
    "    dat_depth = bind_rows(lst_dat_inp, lst_dat_out) %>% \n",
    "        left_join(dat_lib, by=c(\"Sample\", \"Region\")) %>%\n",
    "        mutate(Depth_Norm = Depth / Size)\n",
    "    \n",
    "    dat_depth = dat_depth %>% dplyr::select(\n",
    "        Chrom,  Loc, \n",
    "        Sample, Group, Replicate, Region, \n",
    "        Depth,  Size,  Depth_Norm)\n",
    "    \n",
    "    ### summarize and calculate fold change\n",
    "    dat_ratio = dat_depth %>% \n",
    "        group_by(Chrom, Loc, Group) %>% \n",
    "        summarize(Value = mean(Depth_Norm), .groups='drop') %>% \n",
    "        spread(Group, Value) %>%\n",
    "        mutate(\n",
    "            FC_out00_inp01 =  Output     / (Input+1),\n",
    "            FC_out01_inp01 = (Output+1)  / (Input+1),\n",
    "            FC_out10_inp10 = (Output+10) / (Input+10))\n",
    "\n",
    "    ### store the table\n",
    "    cat(\"\\n\", \"Save table\", \"\\n\")\n",
    "    \n",
    "    fname = paste0(\"KS91_K562_hg38_ASTARRseq_Depth.\", REGION, \".unstranded.perbase.tsv\")\n",
    "    fpath = file.path(fdiry, fname)\n",
    "    cat(fpath, \"\\n\"); flush.console()\n",
    "    write_tsv(dat_depth, fpath)\n",
    "    \n",
    "    fname = paste0(\"KS91_K562_hg38_ASTARRseq_Ratio.\", REGION, \".unstranded.perbase.tsv\")\n",
    "    fpath = file.path(fdiry, fname)\n",
    "    cat(fpath, \"\\n\"); flush.console()\n",
    "    write_tsv(dat_ratio, fpath)\n",
    "    \n",
    "    cat(\"--------------------------------------\\n\\n\")\n",
    "}"
   ]
  },
  {
   "cell_type": "markdown",
   "id": "ecd3fb08",
   "metadata": {},
   "source": [
    "-----"
   ]
  },
  {
   "cell_type": "code",
   "execution_count": null,
   "id": "ab67f0b4",
   "metadata": {},
   "outputs": [],
   "source": []
  },
  {
   "cell_type": "code",
   "execution_count": null,
   "id": "4d909170",
   "metadata": {},
   "outputs": [],
   "source": []
  },
  {
   "cell_type": "code",
   "execution_count": null,
   "id": "b41a33ed",
   "metadata": {},
   "outputs": [],
   "source": []
  },
  {
   "cell_type": "code",
   "execution_count": null,
   "id": "2804a41f",
   "metadata": {},
   "outputs": [],
   "source": []
  },
  {
   "cell_type": "code",
   "execution_count": null,
   "id": "da17fd9d",
   "metadata": {},
   "outputs": [],
   "source": [
    "### init: file directory\n",
    "fdiry = file.path(FD_RES, \"KS91_K562_ASTARRseq\", \"coverage\")\n",
    "\n",
    "### init: column names and types\n",
    "ctypes = c(col_character(), col_integer(), col_integer())\n",
    "cnames = c(\"Chrom\", \"Loc\", \"Depth\")\n",
    "\n",
    "### init: regions\n",
    "regions = c(\"GATA1\", \"MYC\")\n",
    "\n",
    "for (region in regions){\n",
    "    print(\n",
    "}\n",
    "\n",
    "### INPUT: set sample group and number of replicates\n",
    "\n",
    "GROUP   = \"Input\"\n",
    "REPLS   = paste0(\"rep\", 1:6)\n",
    "\n",
    "### INPUT: import data\n",
    "cat(\"Input (Deduplicated)\", \"\\n\")\n",
    "lst_dat_inp = lapply(REPLS, function(repl){\n",
    "    ### get sample file path\n",
    "    sam   = paste(GROUP, repl, sep=\"_\")\n",
    "    fglob = paste0(\"*\", sam, \"*\", REGION, \"*\", \"perbase.tsv.gz\")\n",
    "    fpath = Sys.glob(file.path(fdiry, fglob))\n",
    "    \n",
    "    ### read data\n",
    "    print(fpath)\n",
    "    dat = read_tsv(\n",
    "        fpath, \n",
    "        col_types = ctypes, \n",
    "        col_names = cnames)\n",
    "    dat$Sample = sam\n",
    "    dat$Region = REGION\n",
    "    return(dat)\n",
    "})"
   ]
  },
  {
   "cell_type": "code",
   "execution_count": 6,
   "id": "3a556c8d",
   "metadata": {},
   "outputs": [
    {
     "name": "stdout",
     "output_type": "stream",
     "text": [
      "Input (Deduplicated) \n",
      "[1] \"/mount/work/out/proj_combeffect_encode_fcc/KS91_K562_ASTARRseq/coverage/KS91_K562_hg38_ASTARRseq_Input_rep1.GATA1.unstranded.dedups.perbase.tsv.gz\"\n",
      "[1] \"/mount/work/out/proj_combeffect_encode_fcc/KS91_K562_ASTARRseq/coverage/KS91_K562_hg38_ASTARRseq_Input_rep2.GATA1.unstranded.dedups.perbase.tsv.gz\"\n",
      "[1] \"/mount/work/out/proj_combeffect_encode_fcc/KS91_K562_ASTARRseq/coverage/KS91_K562_hg38_ASTARRseq_Input_rep3.GATA1.unstranded.dedups.perbase.tsv.gz\"\n",
      "[1] \"/mount/work/out/proj_combeffect_encode_fcc/KS91_K562_ASTARRseq/coverage/KS91_K562_hg38_ASTARRseq_Input_rep4.GATA1.unstranded.dedups.perbase.tsv.gz\"\n",
      "[1] \"/mount/work/out/proj_combeffect_encode_fcc/KS91_K562_ASTARRseq/coverage/KS91_K562_hg38_ASTARRseq_Input_rep5.GATA1.unstranded.dedups.perbase.tsv.gz\"\n",
      "[1] \"/mount/work/out/proj_combeffect_encode_fcc/KS91_K562_ASTARRseq/coverage/KS91_K562_hg38_ASTARRseq_Input_rep6.GATA1.unstranded.dedups.perbase.tsv.gz\"\n",
      "\n",
      " Output \n",
      "[1] \"/mount/work/out/proj_combeffect_encode_fcc/KS91_K562_ASTARRseq/coverage/KS91_K562_hg38_ASTARRseq_Output_rep1.GATA1.unstranded.perbase.tsv.gz\"\n",
      "[1] \"/mount/work/out/proj_combeffect_encode_fcc/KS91_K562_ASTARRseq/coverage/KS91_K562_hg38_ASTARRseq_Output_rep2.GATA1.unstranded.perbase.tsv.gz\"\n",
      "[1] \"/mount/work/out/proj_combeffect_encode_fcc/KS91_K562_ASTARRseq/coverage/KS91_K562_hg38_ASTARRseq_Output_rep3.GATA1.unstranded.perbase.tsv.gz\"\n",
      "[1] \"/mount/work/out/proj_combeffect_encode_fcc/KS91_K562_ASTARRseq/coverage/KS91_K562_hg38_ASTARRseq_Output_rep4.GATA1.unstranded.perbase.tsv.gz\"\n"
     ]
    }
   ],
   "source": [
    "### init: file directory\n",
    "fdiry = file.path(FD_RES, \"KS91_K562_ASTARRseq\", \"coverage\")\n",
    "\n",
    "### init:\n",
    "ctypes = c(col_character(), col_integer(), col_integer())\n",
    "cnames = c(\"Chrom\", \"Loc\", \"Depth\")\n",
    "\n",
    "### INPUT: set sample group and number of replicates\n",
    "REGION = \"GATA1\"\n",
    "GROUP  = \"Input\"\n",
    "REPLS  = paste0(\"rep\", 1:6)\n",
    "\n",
    "### INPUT: import data\n",
    "cat(\"Input (Deduplicated)\", \"\\n\")\n",
    "lst_dat_inp = lapply(REPLS, function(repl){\n",
    "    ### get sample file path\n",
    "    sam   = paste(GROUP, repl, sep=\"_\")\n",
    "    fglob = paste0(\"*\", sam, \"*\", REGION, \"*\", \"perbase.tsv.gz\")\n",
    "    fpath = Sys.glob(file.path(fdiry, fglob))\n",
    "    \n",
    "    ### read data\n",
    "    print(fpath)\n",
    "    dat = read_tsv(\n",
    "        fpath, \n",
    "        col_types = ctypes, \n",
    "        col_names = cnames)\n",
    "    dat$Sample = sam\n",
    "    dat$Region = REGION\n",
    "    return(dat)\n",
    "})\n",
    "\n",
    "### OUTPUT: set sample group and number of replicates\n",
    "REGION = \"GATA1\"\n",
    "GROUP  = \"Output\"\n",
    "REPLS  = paste0(\"rep\", 1:4)\n",
    "\n",
    "### OUTPUT: import data\n",
    "cat(\"\\n\", \"Output\", \"\\n\")\n",
    "lst_dat_out = lapply(REPLS, function(repl){\n",
    "    ### get sample file path\n",
    "    sam   = paste(GROUP, repl, sep=\"_\")\n",
    "    fglob = paste0(\"*\", sam, \"*\", REGION, \"*\", \"perbase.tsv.gz\")\n",
    "    fpath = Sys.glob(file.path(fdiry, fglob))\n",
    "    \n",
    "    ### read data\n",
    "    print(fpath)\n",
    "    dat = read_tsv(\n",
    "        fpath, \n",
    "        col_types = ctypes, \n",
    "        col_names = cnames)\n",
    "    dat$Sample = sam\n",
    "    dat$Region = REGION\n",
    "    return(dat)\n",
    "})"
   ]
  },
  {
   "cell_type": "code",
   "execution_count": 9,
   "id": "a3b24762",
   "metadata": {},
   "outputs": [
    {
     "name": "stdout",
     "output_type": "stream",
     "text": [
      "[1] 20003500        9\n"
     ]
    },
    {
     "data": {
      "text/html": [
       "<table class=\"dataframe\">\n",
       "<caption>A tibble: 6 × 9</caption>\n",
       "<thead>\n",
       "\t<tr><th scope=col>Chrom</th><th scope=col>Loc</th><th scope=col>Depth</th><th scope=col>Sample</th><th scope=col>Region</th><th scope=col>Group</th><th scope=col>Replicate</th><th scope=col>Size</th><th scope=col>Depth_Norm</th></tr>\n",
       "\t<tr><th scope=col>&lt;chr&gt;</th><th scope=col>&lt;dbl&gt;</th><th scope=col>&lt;dbl&gt;</th><th scope=col>&lt;chr&gt;</th><th scope=col>&lt;chr&gt;</th><th scope=col>&lt;chr&gt;</th><th scope=col>&lt;chr&gt;</th><th scope=col>&lt;dbl&gt;</th><th scope=col>&lt;dbl&gt;</th></tr>\n",
       "</thead>\n",
       "<tbody>\n",
       "\t<tr><td>chrX</td><td>47786400</td><td>0</td><td>Input_rep1</td><td>GATA1</td><td>Input</td><td>rep1</td><td>358823</td><td>0</td></tr>\n",
       "\t<tr><td>chrX</td><td>47786401</td><td>0</td><td>Input_rep1</td><td>GATA1</td><td>Input</td><td>rep1</td><td>358823</td><td>0</td></tr>\n",
       "\t<tr><td>chrX</td><td>47786402</td><td>0</td><td>Input_rep1</td><td>GATA1</td><td>Input</td><td>rep1</td><td>358823</td><td>0</td></tr>\n",
       "\t<tr><td>chrX</td><td>47786403</td><td>0</td><td>Input_rep1</td><td>GATA1</td><td>Input</td><td>rep1</td><td>358823</td><td>0</td></tr>\n",
       "\t<tr><td>chrX</td><td>47786404</td><td>0</td><td>Input_rep1</td><td>GATA1</td><td>Input</td><td>rep1</td><td>358823</td><td>0</td></tr>\n",
       "\t<tr><td>chrX</td><td>47786405</td><td>0</td><td>Input_rep1</td><td>GATA1</td><td>Input</td><td>rep1</td><td>358823</td><td>0</td></tr>\n",
       "</tbody>\n",
       "</table>\n"
      ],
      "text/latex": [
       "A tibble: 6 × 9\n",
       "\\begin{tabular}{lllllllll}\n",
       " Chrom & Loc & Depth & Sample & Region & Group & Replicate & Size & Depth\\_Norm\\\\\n",
       " <chr> & <dbl> & <dbl> & <chr> & <chr> & <chr> & <chr> & <dbl> & <dbl>\\\\\n",
       "\\hline\n",
       "\t chrX & 47786400 & 0 & Input\\_rep1 & GATA1 & Input & rep1 & 358823 & 0\\\\\n",
       "\t chrX & 47786401 & 0 & Input\\_rep1 & GATA1 & Input & rep1 & 358823 & 0\\\\\n",
       "\t chrX & 47786402 & 0 & Input\\_rep1 & GATA1 & Input & rep1 & 358823 & 0\\\\\n",
       "\t chrX & 47786403 & 0 & Input\\_rep1 & GATA1 & Input & rep1 & 358823 & 0\\\\\n",
       "\t chrX & 47786404 & 0 & Input\\_rep1 & GATA1 & Input & rep1 & 358823 & 0\\\\\n",
       "\t chrX & 47786405 & 0 & Input\\_rep1 & GATA1 & Input & rep1 & 358823 & 0\\\\\n",
       "\\end{tabular}\n"
      ],
      "text/markdown": [
       "\n",
       "A tibble: 6 × 9\n",
       "\n",
       "| Chrom &lt;chr&gt; | Loc &lt;dbl&gt; | Depth &lt;dbl&gt; | Sample &lt;chr&gt; | Region &lt;chr&gt; | Group &lt;chr&gt; | Replicate &lt;chr&gt; | Size &lt;dbl&gt; | Depth_Norm &lt;dbl&gt; |\n",
       "|---|---|---|---|---|---|---|---|---|\n",
       "| chrX | 47786400 | 0 | Input_rep1 | GATA1 | Input | rep1 | 358823 | 0 |\n",
       "| chrX | 47786401 | 0 | Input_rep1 | GATA1 | Input | rep1 | 358823 | 0 |\n",
       "| chrX | 47786402 | 0 | Input_rep1 | GATA1 | Input | rep1 | 358823 | 0 |\n",
       "| chrX | 47786403 | 0 | Input_rep1 | GATA1 | Input | rep1 | 358823 | 0 |\n",
       "| chrX | 47786404 | 0 | Input_rep1 | GATA1 | Input | rep1 | 358823 | 0 |\n",
       "| chrX | 47786405 | 0 | Input_rep1 | GATA1 | Input | rep1 | 358823 | 0 |\n",
       "\n"
      ],
      "text/plain": [
       "  Chrom Loc      Depth Sample     Region Group Replicate Size   Depth_Norm\n",
       "1 chrX  47786400 0     Input_rep1 GATA1  Input rep1      358823 0         \n",
       "2 chrX  47786401 0     Input_rep1 GATA1  Input rep1      358823 0         \n",
       "3 chrX  47786402 0     Input_rep1 GATA1  Input rep1      358823 0         \n",
       "4 chrX  47786403 0     Input_rep1 GATA1  Input rep1      358823 0         \n",
       "5 chrX  47786404 0     Input_rep1 GATA1  Input rep1      358823 0         \n",
       "6 chrX  47786405 0     Input_rep1 GATA1  Input rep1      358823 0         "
      ]
     },
     "metadata": {},
     "output_type": "display_data"
    }
   ],
   "source": [
    "### summarize\n",
    "dat = bind_rows(lst_dat_inp, lst_dat_out) %>% \n",
    "    left_join(dat_lib, by=c(\"Sample\", \"Region\")) %>%\n",
    "    mutate(Depth_Norm = Depth / Size)\n",
    "\n",
    "### assign\n",
    "dat_astarr = dat\n",
    "print(dim(dat))\n",
    "head(dat)"
   ]
  },
  {
   "cell_type": "code",
   "execution_count": 16,
   "id": "9862dc17",
   "metadata": {},
   "outputs": [
    {
     "data": {
      "text/html": [
       "<table class=\"dataframe\">\n",
       "<caption>A tibble: 6 × 9</caption>\n",
       "<thead>\n",
       "\t<tr><th scope=col>Chrom</th><th scope=col>Loc</th><th scope=col>Sample</th><th scope=col>Group</th><th scope=col>Replicate</th><th scope=col>Region</th><th scope=col>Depth</th><th scope=col>Size</th><th scope=col>Depth_Norm</th></tr>\n",
       "\t<tr><th scope=col>&lt;chr&gt;</th><th scope=col>&lt;dbl&gt;</th><th scope=col>&lt;chr&gt;</th><th scope=col>&lt;chr&gt;</th><th scope=col>&lt;chr&gt;</th><th scope=col>&lt;chr&gt;</th><th scope=col>&lt;dbl&gt;</th><th scope=col>&lt;dbl&gt;</th><th scope=col>&lt;dbl&gt;</th></tr>\n",
       "</thead>\n",
       "<tbody>\n",
       "\t<tr><td>chrX</td><td>47786400</td><td>Input_rep1</td><td>Input</td><td>rep1</td><td>GATA1</td><td>0</td><td>358823</td><td>0</td></tr>\n",
       "\t<tr><td>chrX</td><td>47786401</td><td>Input_rep1</td><td>Input</td><td>rep1</td><td>GATA1</td><td>0</td><td>358823</td><td>0</td></tr>\n",
       "\t<tr><td>chrX</td><td>47786402</td><td>Input_rep1</td><td>Input</td><td>rep1</td><td>GATA1</td><td>0</td><td>358823</td><td>0</td></tr>\n",
       "\t<tr><td>chrX</td><td>47786403</td><td>Input_rep1</td><td>Input</td><td>rep1</td><td>GATA1</td><td>0</td><td>358823</td><td>0</td></tr>\n",
       "\t<tr><td>chrX</td><td>47786404</td><td>Input_rep1</td><td>Input</td><td>rep1</td><td>GATA1</td><td>0</td><td>358823</td><td>0</td></tr>\n",
       "\t<tr><td>chrX</td><td>47786405</td><td>Input_rep1</td><td>Input</td><td>rep1</td><td>GATA1</td><td>0</td><td>358823</td><td>0</td></tr>\n",
       "</tbody>\n",
       "</table>\n"
      ],
      "text/latex": [
       "A tibble: 6 × 9\n",
       "\\begin{tabular}{lllllllll}\n",
       " Chrom & Loc & Sample & Group & Replicate & Region & Depth & Size & Depth\\_Norm\\\\\n",
       " <chr> & <dbl> & <chr> & <chr> & <chr> & <chr> & <dbl> & <dbl> & <dbl>\\\\\n",
       "\\hline\n",
       "\t chrX & 47786400 & Input\\_rep1 & Input & rep1 & GATA1 & 0 & 358823 & 0\\\\\n",
       "\t chrX & 47786401 & Input\\_rep1 & Input & rep1 & GATA1 & 0 & 358823 & 0\\\\\n",
       "\t chrX & 47786402 & Input\\_rep1 & Input & rep1 & GATA1 & 0 & 358823 & 0\\\\\n",
       "\t chrX & 47786403 & Input\\_rep1 & Input & rep1 & GATA1 & 0 & 358823 & 0\\\\\n",
       "\t chrX & 47786404 & Input\\_rep1 & Input & rep1 & GATA1 & 0 & 358823 & 0\\\\\n",
       "\t chrX & 47786405 & Input\\_rep1 & Input & rep1 & GATA1 & 0 & 358823 & 0\\\\\n",
       "\\end{tabular}\n"
      ],
      "text/markdown": [
       "\n",
       "A tibble: 6 × 9\n",
       "\n",
       "| Chrom &lt;chr&gt; | Loc &lt;dbl&gt; | Sample &lt;chr&gt; | Group &lt;chr&gt; | Replicate &lt;chr&gt; | Region &lt;chr&gt; | Depth &lt;dbl&gt; | Size &lt;dbl&gt; | Depth_Norm &lt;dbl&gt; |\n",
       "|---|---|---|---|---|---|---|---|---|\n",
       "| chrX | 47786400 | Input_rep1 | Input | rep1 | GATA1 | 0 | 358823 | 0 |\n",
       "| chrX | 47786401 | Input_rep1 | Input | rep1 | GATA1 | 0 | 358823 | 0 |\n",
       "| chrX | 47786402 | Input_rep1 | Input | rep1 | GATA1 | 0 | 358823 | 0 |\n",
       "| chrX | 47786403 | Input_rep1 | Input | rep1 | GATA1 | 0 | 358823 | 0 |\n",
       "| chrX | 47786404 | Input_rep1 | Input | rep1 | GATA1 | 0 | 358823 | 0 |\n",
       "| chrX | 47786405 | Input_rep1 | Input | rep1 | GATA1 | 0 | 358823 | 0 |\n",
       "\n"
      ],
      "text/plain": [
       "  Chrom Loc      Sample     Group Replicate Region Depth Size   Depth_Norm\n",
       "1 chrX  47786400 Input_rep1 Input rep1      GATA1  0     358823 0         \n",
       "2 chrX  47786401 Input_rep1 Input rep1      GATA1  0     358823 0         \n",
       "3 chrX  47786402 Input_rep1 Input rep1      GATA1  0     358823 0         \n",
       "4 chrX  47786403 Input_rep1 Input rep1      GATA1  0     358823 0         \n",
       "5 chrX  47786404 Input_rep1 Input rep1      GATA1  0     358823 0         \n",
       "6 chrX  47786405 Input_rep1 Input rep1      GATA1  0     358823 0         "
      ]
     },
     "metadata": {},
     "output_type": "display_data"
    }
   ],
   "source": [
    "dat %>% head %>% dplyr::select(Chrom, Loc, Sample, Group, Replicate, Region, Depth, Size, Depth_Norm)"
   ]
  },
  {
   "cell_type": "code",
   "execution_count": 11,
   "id": "5fe550b5",
   "metadata": {},
   "outputs": [
    {
     "name": "stdout",
     "output_type": "stream",
     "text": [
      "[1] \"/mount/work/out/proj_combeffect_encode_fcc/KS91_K562_ASTARRseq/coverage/KS91_K562_hg38_ASTARRseq_Depth.GATA1.unstranded.perbase.tsv\"\n"
     ]
    }
   ],
   "source": [
    "fname = paste0(\"KS91_K562_hg38_ASTARRseq_Depth.\", REGION, \".unstranded.perbase.tsv\")\n",
    "fpath = file.path(fdiry, fname)\n",
    "print(fpath)\n"
   ]
  },
  {
   "cell_type": "code",
   "execution_count": null,
   "id": "5d258f54",
   "metadata": {},
   "outputs": [],
   "source": []
  },
  {
   "cell_type": "code",
   "execution_count": null,
   "id": "624701a7",
   "metadata": {},
   "outputs": [],
   "source": []
  },
  {
   "cell_type": "code",
   "execution_count": null,
   "id": "297df975",
   "metadata": {},
   "outputs": [],
   "source": []
  },
  {
   "cell_type": "code",
   "execution_count": 4,
   "id": "5898ac45",
   "metadata": {},
   "outputs": [],
   "source": [
    "### init: file directory\n",
    "fdiry = file.path(FD_RES, \"KS91_K562_ASTARRseq\", \"coverage\")\n",
    "\n",
    "### init:\n",
    "ctypes = c(col_character(), col_integer(), col_integer())\n",
    "cnames = c(\"Chrom\", \"Loc\", \"Depth\")\n",
    "\n",
    "### INPUT: set sample group and number of replicates\n",
    "GROUP   = \"Input\"\n",
    "REPLICS = paste0(\"rep\", 1:6)\n",
    "\n",
    "### INPUT: import data\n",
    "lst_dat_inp = lapply(REPLICS, function(replic){\n",
    "    ### get sample file path\n",
    "    sam   = paste(GROUP, replic, sep=\"_\")\n",
    "    fglob = paste0(\"*\", sam, \"*\")\n",
    "    fpath = Sys.glob(file.path(fdiry, fglob))\n",
    "    \n",
    "    ### read data\n",
    "    dat = read_tsv(\n",
    "        fpath, \n",
    "        col_types = ctypes, \n",
    "        col_names = cnames)\n",
    "    dat$Sample = sam\n",
    "    return(dat)\n",
    "})\n",
    "\n",
    "### OUTPUT: set sample group and number of replicates\n",
    "GROUP   = \"Output\"\n",
    "REPLICS = paste0(\"rep\", 1:4)\n",
    "\n",
    "### OUTPUT: import data\n",
    "lst_dat_out = lapply(REPLICS, function(replic){\n",
    "    ### get sample file path\n",
    "    sam   = paste(GROUP, replic, sep=\"_\")\n",
    "    fglob = paste0(\"*\", sam, \"*\")\n",
    "    fpath = Sys.glob(file.path(fdiry, fglob))\n",
    "    \n",
    "    ### read data\n",
    "    dat = read_tsv(\n",
    "        fpath, \n",
    "        col_types = ctypes, \n",
    "        col_names = cnames)\n",
    "    dat$Sample = sam\n",
    "    return(dat)\n",
    "})"
   ]
  },
  {
   "cell_type": "code",
   "execution_count": 3,
   "id": "b6572aa1",
   "metadata": {},
   "outputs": [
    {
     "name": "stderr",
     "output_type": "stream",
     "text": [
      "\u001b[1mRows: \u001b[22m\u001b[34m10\u001b[39m \u001b[1mColumns: \u001b[22m\u001b[34m4\u001b[39m\n",
      "\u001b[36m──\u001b[39m \u001b[1mColumn specification\u001b[22m \u001b[36m────────────────────────────────────────────────────────────────────────────────────────────────────\u001b[39m\n",
      "\u001b[1mDelimiter:\u001b[22m \"\\t\"\n",
      "\u001b[31mchr\u001b[39m (3): Sample, Group, Replicate\n",
      "\u001b[32mdbl\u001b[39m (1): Size\n",
      "\n",
      "\u001b[36mℹ\u001b[39m Use `spec()` to retrieve the full column specification for this data.\n",
      "\u001b[36mℹ\u001b[39m Specify the column types or set `show_col_types = FALSE` to quiet this message.\n"
     ]
    },
    {
     "data": {
      "text/html": [
       "<table class=\"dataframe\">\n",
       "<caption>A tibble: 6 × 4</caption>\n",
       "<thead>\n",
       "\t<tr><th scope=col>Sample</th><th scope=col>Group</th><th scope=col>Replicate</th><th scope=col>Size</th></tr>\n",
       "\t<tr><th scope=col>&lt;chr&gt;</th><th scope=col>&lt;chr&gt;</th><th scope=col>&lt;chr&gt;</th><th scope=col>&lt;dbl&gt;</th></tr>\n",
       "</thead>\n",
       "<tbody>\n",
       "\t<tr><td>Input_rep1</td><td>Input</td><td>rep1</td><td>358823</td></tr>\n",
       "\t<tr><td>Input_rep2</td><td>Input</td><td>rep2</td><td>461577</td></tr>\n",
       "\t<tr><td>Input_rep3</td><td>Input</td><td>rep3</td><td>496229</td></tr>\n",
       "\t<tr><td>Input_rep4</td><td>Input</td><td>rep4</td><td>464845</td></tr>\n",
       "\t<tr><td>Input_rep5</td><td>Input</td><td>rep5</td><td>454013</td></tr>\n",
       "\t<tr><td>Input_rep6</td><td>Input</td><td>rep6</td><td>409058</td></tr>\n",
       "</tbody>\n",
       "</table>\n"
      ],
      "text/latex": [
       "A tibble: 6 × 4\n",
       "\\begin{tabular}{llll}\n",
       " Sample & Group & Replicate & Size\\\\\n",
       " <chr> & <chr> & <chr> & <dbl>\\\\\n",
       "\\hline\n",
       "\t Input\\_rep1 & Input & rep1 & 358823\\\\\n",
       "\t Input\\_rep2 & Input & rep2 & 461577\\\\\n",
       "\t Input\\_rep3 & Input & rep3 & 496229\\\\\n",
       "\t Input\\_rep4 & Input & rep4 & 464845\\\\\n",
       "\t Input\\_rep5 & Input & rep5 & 454013\\\\\n",
       "\t Input\\_rep6 & Input & rep6 & 409058\\\\\n",
       "\\end{tabular}\n"
      ],
      "text/markdown": [
       "\n",
       "A tibble: 6 × 4\n",
       "\n",
       "| Sample &lt;chr&gt; | Group &lt;chr&gt; | Replicate &lt;chr&gt; | Size &lt;dbl&gt; |\n",
       "|---|---|---|---|\n",
       "| Input_rep1 | Input | rep1 | 358823 |\n",
       "| Input_rep2 | Input | rep2 | 461577 |\n",
       "| Input_rep3 | Input | rep3 | 496229 |\n",
       "| Input_rep4 | Input | rep4 | 464845 |\n",
       "| Input_rep5 | Input | rep5 | 454013 |\n",
       "| Input_rep6 | Input | rep6 | 409058 |\n",
       "\n"
      ],
      "text/plain": [
       "  Sample     Group Replicate Size  \n",
       "1 Input_rep1 Input rep1      358823\n",
       "2 Input_rep2 Input rep2      461577\n",
       "3 Input_rep3 Input rep3      496229\n",
       "4 Input_rep4 Input rep4      464845\n",
       "5 Input_rep5 Input rep5      454013\n",
       "6 Input_rep6 Input rep6      409058"
      ]
     },
     "metadata": {},
     "output_type": "display_data"
    }
   ],
   "source": [
    "fdiry = file.path(FD_RES, \"KS91_K562_ASTARRseq\", \"fragment\")\n",
    "fname = \"library_size.tsv\"\n",
    "dat_lib = read_tsv(file.path(fdiry, fname))\n",
    "head(dat_lib)"
   ]
  },
  {
   "cell_type": "code",
   "execution_count": 5,
   "id": "7d49b008",
   "metadata": {},
   "outputs": [
    {
     "data": {
      "text/html": [
       "<table class=\"dataframe\">\n",
       "<caption>A tibble: 6 × 8</caption>\n",
       "<thead>\n",
       "\t<tr><th scope=col>Chrom</th><th scope=col>Loc</th><th scope=col>Depth</th><th scope=col>Sample</th><th scope=col>Group</th><th scope=col>Replicate</th><th scope=col>Size</th><th scope=col>Depth_Norm</th></tr>\n",
       "\t<tr><th scope=col>&lt;chr&gt;</th><th scope=col>&lt;dbl&gt;</th><th scope=col>&lt;dbl&gt;</th><th scope=col>&lt;chr&gt;</th><th scope=col>&lt;chr&gt;</th><th scope=col>&lt;chr&gt;</th><th scope=col>&lt;dbl&gt;</th><th scope=col>&lt;dbl&gt;</th></tr>\n",
       "</thead>\n",
       "<tbody>\n",
       "\t<tr><td>chrX</td><td>47786400</td><td>0</td><td>Input_rep1</td><td>Input</td><td>rep1</td><td>358823</td><td>0</td></tr>\n",
       "\t<tr><td>chrX</td><td>47786401</td><td>0</td><td>Input_rep1</td><td>Input</td><td>rep1</td><td>358823</td><td>0</td></tr>\n",
       "\t<tr><td>chrX</td><td>47786402</td><td>0</td><td>Input_rep1</td><td>Input</td><td>rep1</td><td>358823</td><td>0</td></tr>\n",
       "\t<tr><td>chrX</td><td>47786403</td><td>0</td><td>Input_rep1</td><td>Input</td><td>rep1</td><td>358823</td><td>0</td></tr>\n",
       "\t<tr><td>chrX</td><td>47786404</td><td>0</td><td>Input_rep1</td><td>Input</td><td>rep1</td><td>358823</td><td>0</td></tr>\n",
       "\t<tr><td>chrX</td><td>47786405</td><td>0</td><td>Input_rep1</td><td>Input</td><td>rep1</td><td>358823</td><td>0</td></tr>\n",
       "</tbody>\n",
       "</table>\n"
      ],
      "text/latex": [
       "A tibble: 6 × 8\n",
       "\\begin{tabular}{llllllll}\n",
       " Chrom & Loc & Depth & Sample & Group & Replicate & Size & Depth\\_Norm\\\\\n",
       " <chr> & <dbl> & <dbl> & <chr> & <chr> & <chr> & <dbl> & <dbl>\\\\\n",
       "\\hline\n",
       "\t chrX & 47786400 & 0 & Input\\_rep1 & Input & rep1 & 358823 & 0\\\\\n",
       "\t chrX & 47786401 & 0 & Input\\_rep1 & Input & rep1 & 358823 & 0\\\\\n",
       "\t chrX & 47786402 & 0 & Input\\_rep1 & Input & rep1 & 358823 & 0\\\\\n",
       "\t chrX & 47786403 & 0 & Input\\_rep1 & Input & rep1 & 358823 & 0\\\\\n",
       "\t chrX & 47786404 & 0 & Input\\_rep1 & Input & rep1 & 358823 & 0\\\\\n",
       "\t chrX & 47786405 & 0 & Input\\_rep1 & Input & rep1 & 358823 & 0\\\\\n",
       "\\end{tabular}\n"
      ],
      "text/markdown": [
       "\n",
       "A tibble: 6 × 8\n",
       "\n",
       "| Chrom &lt;chr&gt; | Loc &lt;dbl&gt; | Depth &lt;dbl&gt; | Sample &lt;chr&gt; | Group &lt;chr&gt; | Replicate &lt;chr&gt; | Size &lt;dbl&gt; | Depth_Norm &lt;dbl&gt; |\n",
       "|---|---|---|---|---|---|---|---|\n",
       "| chrX | 47786400 | 0 | Input_rep1 | Input | rep1 | 358823 | 0 |\n",
       "| chrX | 47786401 | 0 | Input_rep1 | Input | rep1 | 358823 | 0 |\n",
       "| chrX | 47786402 | 0 | Input_rep1 | Input | rep1 | 358823 | 0 |\n",
       "| chrX | 47786403 | 0 | Input_rep1 | Input | rep1 | 358823 | 0 |\n",
       "| chrX | 47786404 | 0 | Input_rep1 | Input | rep1 | 358823 | 0 |\n",
       "| chrX | 47786405 | 0 | Input_rep1 | Input | rep1 | 358823 | 0 |\n",
       "\n"
      ],
      "text/plain": [
       "  Chrom Loc      Depth Sample     Group Replicate Size   Depth_Norm\n",
       "1 chrX  47786400 0     Input_rep1 Input rep1      358823 0         \n",
       "2 chrX  47786401 0     Input_rep1 Input rep1      358823 0         \n",
       "3 chrX  47786402 0     Input_rep1 Input rep1      358823 0         \n",
       "4 chrX  47786403 0     Input_rep1 Input rep1      358823 0         \n",
       "5 chrX  47786404 0     Input_rep1 Input rep1      358823 0         \n",
       "6 chrX  47786405 0     Input_rep1 Input rep1      358823 0         "
      ]
     },
     "metadata": {},
     "output_type": "display_data"
    }
   ],
   "source": [
    "dat_astarr = bind_rows(lst_dat_inp, lst_dat_out) %>% \n",
    "    left_join(dat_lib, by=\"Sample\") %>%\n",
    "    mutate(Depth_Norm = Depth / Size)\n",
    "head(dat_astarr)"
   ]
  },
  {
   "cell_type": "code",
   "execution_count": 14,
   "id": "a4203ef1",
   "metadata": {},
   "outputs": [
    {
     "name": "stderr",
     "output_type": "stream",
     "text": [
      "\u001b[1m\u001b[22m`summarise()` has grouped output by 'Loc'. You can override using the `.groups` argument.\n"
     ]
    },
    {
     "data": {
      "text/html": [
       "<table class=\"dataframe\">\n",
       "<caption>A grouped_df: 6 × 4</caption>\n",
       "<thead>\n",
       "\t<tr><th scope=col>Loc</th><th scope=col>Input</th><th scope=col>Output</th><th scope=col>Ratio</th></tr>\n",
       "\t<tr><th scope=col>&lt;dbl&gt;</th><th scope=col>&lt;dbl&gt;</th><th scope=col>&lt;dbl&gt;</th><th scope=col>&lt;dbl&gt;</th></tr>\n",
       "</thead>\n",
       "<tbody>\n",
       "\t<tr><td>47786400</td><td>0</td><td>0</td><td>0</td></tr>\n",
       "\t<tr><td>47786401</td><td>0</td><td>0</td><td>0</td></tr>\n",
       "\t<tr><td>47786402</td><td>0</td><td>0</td><td>0</td></tr>\n",
       "\t<tr><td>47786403</td><td>0</td><td>0</td><td>0</td></tr>\n",
       "\t<tr><td>47786404</td><td>0</td><td>0</td><td>0</td></tr>\n",
       "\t<tr><td>47786405</td><td>0</td><td>0</td><td>0</td></tr>\n",
       "</tbody>\n",
       "</table>\n"
      ],
      "text/latex": [
       "A grouped\\_df: 6 × 4\n",
       "\\begin{tabular}{llll}\n",
       " Loc & Input & Output & Ratio\\\\\n",
       " <dbl> & <dbl> & <dbl> & <dbl>\\\\\n",
       "\\hline\n",
       "\t 47786400 & 0 & 0 & 0\\\\\n",
       "\t 47786401 & 0 & 0 & 0\\\\\n",
       "\t 47786402 & 0 & 0 & 0\\\\\n",
       "\t 47786403 & 0 & 0 & 0\\\\\n",
       "\t 47786404 & 0 & 0 & 0\\\\\n",
       "\t 47786405 & 0 & 0 & 0\\\\\n",
       "\\end{tabular}\n"
      ],
      "text/markdown": [
       "\n",
       "A grouped_df: 6 × 4\n",
       "\n",
       "| Loc &lt;dbl&gt; | Input &lt;dbl&gt; | Output &lt;dbl&gt; | Ratio &lt;dbl&gt; |\n",
       "|---|---|---|---|\n",
       "| 47786400 | 0 | 0 | 0 |\n",
       "| 47786401 | 0 | 0 | 0 |\n",
       "| 47786402 | 0 | 0 | 0 |\n",
       "| 47786403 | 0 | 0 | 0 |\n",
       "| 47786404 | 0 | 0 | 0 |\n",
       "| 47786405 | 0 | 0 | 0 |\n",
       "\n"
      ],
      "text/plain": [
       "  Loc      Input Output Ratio\n",
       "1 47786400 0     0      0    \n",
       "2 47786401 0     0      0    \n",
       "3 47786402 0     0      0    \n",
       "4 47786403 0     0      0    \n",
       "5 47786404 0     0      0    \n",
       "6 47786405 0     0      0    "
      ]
     },
     "metadata": {},
     "output_type": "display_data"
    }
   ],
   "source": [
    "### summarize the repeats for output and inptu\n",
    "dat = dat_astarr\n",
    "dat = dat %>% \n",
    "    group_by(Loc, Group) %>% \n",
    "    summarise(Depth_Norm = sum(Depth_Norm))\n",
    "\n",
    "### calculate the ratio\n",
    "dat = dat %>% \n",
    "    spread(Group, Depth_Norm) %>% \n",
    "    mutate(Ratio = Output / (Input+1))\n",
    "\n",
    "head(dat)"
   ]
  },
  {
   "cell_type": "code",
   "execution_count": 15,
   "id": "6fd2cfca",
   "metadata": {},
   "outputs": [],
   "source": [
    "fdiry = file.path(FD_RES, \"KS91_K562_ASTARRseq\", \"coverage\")\n",
    "fname = \"KS91_K562_hg38_ASTARRseq_Ratio.GATA1.unstranded.perbase.tsv\"\n",
    "fpath = file.path(fdiry, fname)\n",
    "\n",
    "write_tsv(dat, fpath)"
   ]
  },
  {
   "cell_type": "code",
   "execution_count": null,
   "id": "851b749c",
   "metadata": {},
   "outputs": [],
   "source": []
  }
 ],
 "metadata": {
  "kernelspec": {
   "display_name": "R",
   "language": "R",
   "name": "ir"
  },
  "language_info": {
   "codemirror_mode": "r",
   "file_extension": ".r",
   "mimetype": "text/x-r-source",
   "name": "R",
   "pygments_lexer": "r",
   "version": "4.2.0"
  }
 },
 "nbformat": 4,
 "nbformat_minor": 5
}
