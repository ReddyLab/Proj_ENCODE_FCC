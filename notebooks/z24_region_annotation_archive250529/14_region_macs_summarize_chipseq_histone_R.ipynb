{
 "cells": [
  {
   "cell_type": "raw",
   "id": "433728f3-90cc-4866-9c92-74d4207c9a78",
   "metadata": {},
   "source": [
    "---\n",
    "title: Region annotation 14 (ASTARR MACS peaks)\n",
    "subtitle: Summarize annotations (ChIP-seq; histone)\n",
    "format:\n",
    "    html:\n",
    "        code-fold:  true\n",
    "        code-tools: true\n",
    "---"
   ]
  },
  {
   "cell_type": "markdown",
   "id": "c64ca28b-7590-4958-ac17-50c65745c0e4",
   "metadata": {},
   "source": [
    "**Set environment**"
   ]
  },
  {
   "cell_type": "code",
   "execution_count": 1,
   "id": "eb658b14-61a8-485e-a348-53f4c3058133",
   "metadata": {
    "tags": []
   },
   "outputs": [
    {
     "name": "stdout",
     "output_type": "stream",
     "text": [
      "You are working on        Singularity: singularity_proj_encode_fcc \n",
      "BASE DIRECTORY (FD_BASE): /data/reddylab/Kuei \n",
      "REPO DIRECTORY (FD_REPO): /data/reddylab/Kuei/repo \n",
      "WORK DIRECTORY (FD_WORK): /data/reddylab/Kuei/work \n",
      "DATA DIRECTORY (FD_DATA): /data/reddylab/Kuei/data \n",
      "\n",
      "You are working with      ENCODE FCC \n",
      "PATH OF PROJECT (FD_PRJ): /data/reddylab/Kuei/repo/Proj_ENCODE_FCC \n",
      "PROJECT RESULTS (FD_RES): /data/reddylab/Kuei/repo/Proj_ENCODE_FCC/results \n",
      "PROJECT SCRIPTS (FD_EXE): /data/reddylab/Kuei/repo/Proj_ENCODE_FCC/scripts \n",
      "PROJECT DATA    (FD_DAT): /data/reddylab/Kuei/repo/Proj_ENCODE_FCC/data \n",
      "PROJECT NOTE    (FD_NBK): /data/reddylab/Kuei/repo/Proj_ENCODE_FCC/notebooks \n",
      "PROJECT DOCS    (FD_DOC): /data/reddylab/Kuei/repo/Proj_ENCODE_FCC/docs \n",
      "PROJECT LOG     (FD_LOG): /data/reddylab/Kuei/repo/Proj_ENCODE_FCC/log \n",
      "PROJECT REF     (FD_REF): /data/reddylab/Kuei/repo/Proj_ENCODE_FCC/references \n",
      "\n"
     ]
    }
   ],
   "source": [
    "suppressMessages(suppressWarnings(source(\"../run_config_project_sing.R\")))\n",
    "show_env()"
   ]
  },
  {
   "cell_type": "markdown",
   "id": "9987d7cb-2944-464a-8a96-e244dd337d55",
   "metadata": {},
   "source": [
    "**Set global variables**"
   ]
  },
  {
   "cell_type": "code",
   "execution_count": 2,
   "id": "c6338794-f84f-4fab-9e57-d9bf335d4950",
   "metadata": {},
   "outputs": [
    {
     "name": "stdout",
     "output_type": "stream",
     "text": [
      "metadata.label.astarr_macs.tsv \n",
      "metadata.label.chipseq_flagship.tsv \n",
      "metadata.label.chipseq_full.tsv \n",
      "metadata.label.chipseq_histone.tsv \n",
      "metadata.label.chipseq_subset.tsv \n",
      "metadata.label.main.tsv \n",
      "metadata.label.ocr.tsv \n"
     ]
    }
   ],
   "source": [
    "txt_fdiry = file.path(FD_RES, \"region\", \"summary\")\n",
    "vec = dir(txt_fdiry)\n",
    "for (txt in vec){cat(txt, \"\\n\")}"
   ]
  },
  {
   "cell_type": "code",
   "execution_count": 3,
   "id": "6233a2b1-d829-45c6-8fd2-929c6d32b13a",
   "metadata": {},
   "outputs": [],
   "source": [
    "TXT_FDIRY_REGION_LABEL   = file.path(FD_RES, \"region\", \"summary\")\n",
    "TXT_FNAME_REGION_LABEL_A = \"metadata.label.astarr_macs.tsv\"\n",
    "TXT_FNAME_REGION_LABEL_B = \"metadata.label.chipseq_histone.tsv\""
   ]
  },
  {
   "cell_type": "markdown",
   "id": "8e9e2125-7228-4cfa-a209-fd215a35b3aa",
   "metadata": {},
   "source": [
    "## Import data"
   ]
  },
  {
   "cell_type": "code",
   "execution_count": 4,
   "id": "e0189ecc-2b91-4f03-9e02-1423bacc099f",
   "metadata": {},
   "outputs": [
    {
     "data": {
      "text/html": [
       "<table class=\"dataframe\">\n",
       "<caption>A spec_tbl_df: 2 × 3</caption>\n",
       "<thead>\n",
       "\t<tr><th scope=col>Folder</th><th scope=col>FName</th><th scope=col>Label</th></tr>\n",
       "\t<tr><th scope=col>&lt;chr&gt;</th><th scope=col>&lt;chr&gt;</th><th scope=col>&lt;chr&gt;</th></tr>\n",
       "</thead>\n",
       "<tbody>\n",
       "\t<tr><td>fcc_astarr_macs</td><td>K562.hg38.ASTARR.macs.KS91.input.rep_all.max_overlaps.q5.bed.gz</td><td>fcc_astarr_macs_input_overlap</td></tr>\n",
       "\t<tr><td>fcc_astarr_macs</td><td>K562.hg38.ASTARR.macs.KS91.input.rep_all.union.q5.bed.gz       </td><td>fcc_astarr_macs_input_union  </td></tr>\n",
       "</tbody>\n",
       "</table>\n"
      ],
      "text/latex": [
       "A spec\\_tbl\\_df: 2 × 3\n",
       "\\begin{tabular}{lll}\n",
       " Folder & FName & Label\\\\\n",
       " <chr> & <chr> & <chr>\\\\\n",
       "\\hline\n",
       "\t fcc\\_astarr\\_macs & K562.hg38.ASTARR.macs.KS91.input.rep\\_all.max\\_overlaps.q5.bed.gz & fcc\\_astarr\\_macs\\_input\\_overlap\\\\\n",
       "\t fcc\\_astarr\\_macs & K562.hg38.ASTARR.macs.KS91.input.rep\\_all.union.q5.bed.gz        & fcc\\_astarr\\_macs\\_input\\_union  \\\\\n",
       "\\end{tabular}\n"
      ],
      "text/markdown": [
       "\n",
       "A spec_tbl_df: 2 × 3\n",
       "\n",
       "| Folder &lt;chr&gt; | FName &lt;chr&gt; | Label &lt;chr&gt; |\n",
       "|---|---|---|\n",
       "| fcc_astarr_macs | K562.hg38.ASTARR.macs.KS91.input.rep_all.max_overlaps.q5.bed.gz | fcc_astarr_macs_input_overlap |\n",
       "| fcc_astarr_macs | K562.hg38.ASTARR.macs.KS91.input.rep_all.union.q5.bed.gz        | fcc_astarr_macs_input_union   |\n",
       "\n"
      ],
      "text/plain": [
       "  Folder         \n",
       "1 fcc_astarr_macs\n",
       "2 fcc_astarr_macs\n",
       "  FName                                                          \n",
       "1 K562.hg38.ASTARR.macs.KS91.input.rep_all.max_overlaps.q5.bed.gz\n",
       "2 K562.hg38.ASTARR.macs.KS91.input.rep_all.union.q5.bed.gz       \n",
       "  Label                        \n",
       "1 fcc_astarr_macs_input_overlap\n",
       "2 fcc_astarr_macs_input_union  "
      ]
     },
     "metadata": {},
     "output_type": "display_data"
    }
   ],
   "source": [
    "txt_fdiry = TXT_FDIRY_REGION_LABEL\n",
    "txt_fname = TXT_FNAME_REGION_LABEL_A\n",
    "txt_fpath = file.path(txt_fdiry, txt_fname)\n",
    "\n",
    "dat_region_label_A = read_tsv(txt_fpath, show_col_types = FALSE)\n",
    "dat_region_label_A"
   ]
  },
  {
   "cell_type": "code",
   "execution_count": 5,
   "id": "5e34317d-e684-4fb1-9546-c4527f004c65",
   "metadata": {},
   "outputs": [
    {
     "data": {
      "text/html": [
       "<table class=\"dataframe\">\n",
       "<caption>A tibble: 6 × 3</caption>\n",
       "<thead>\n",
       "\t<tr><th scope=col>Folder</th><th scope=col>FName</th><th scope=col>Label</th></tr>\n",
       "\t<tr><th scope=col>&lt;chr&gt;</th><th scope=col>&lt;chr&gt;</th><th scope=col>&lt;chr&gt;</th></tr>\n",
       "</thead>\n",
       "<tbody>\n",
       "\t<tr><td>encode_chipseq_histone</td><td>ENCFF122CSI.bed.gz</td><td>encode_chipseq_H3K4me3_ENCFF122CSI </td></tr>\n",
       "\t<tr><td>encode_chipseq_histone</td><td>ENCFF135ZLM.bed.gz</td><td>encode_chipseq_H3K4me1_ENCFF135ZLM </td></tr>\n",
       "\t<tr><td>encode_chipseq_histone</td><td>ENCFF148UQI.bed.gz</td><td>encode_chipseq_H3K9ac_ENCFF148UQI  </td></tr>\n",
       "\t<tr><td>encode_chipseq_histone</td><td>ENCFF193ERO.bed.gz</td><td>encode_chipseq_H3K36me3_ENCFF193ERO</td></tr>\n",
       "\t<tr><td>encode_chipseq_histone</td><td>ENCFF209OQD.bed.gz</td><td>encode_chipseq_H3K79me2_ENCFF209OQD</td></tr>\n",
       "\t<tr><td>encode_chipseq_histone</td><td>ENCFF213OTI.bed.gz</td><td>encode_chipseq_H2AFZ_ENCFF213OTI   </td></tr>\n",
       "</tbody>\n",
       "</table>\n"
      ],
      "text/latex": [
       "A tibble: 6 × 3\n",
       "\\begin{tabular}{lll}\n",
       " Folder & FName & Label\\\\\n",
       " <chr> & <chr> & <chr>\\\\\n",
       "\\hline\n",
       "\t encode\\_chipseq\\_histone & ENCFF122CSI.bed.gz & encode\\_chipseq\\_H3K4me3\\_ENCFF122CSI \\\\\n",
       "\t encode\\_chipseq\\_histone & ENCFF135ZLM.bed.gz & encode\\_chipseq\\_H3K4me1\\_ENCFF135ZLM \\\\\n",
       "\t encode\\_chipseq\\_histone & ENCFF148UQI.bed.gz & encode\\_chipseq\\_H3K9ac\\_ENCFF148UQI  \\\\\n",
       "\t encode\\_chipseq\\_histone & ENCFF193ERO.bed.gz & encode\\_chipseq\\_H3K36me3\\_ENCFF193ERO\\\\\n",
       "\t encode\\_chipseq\\_histone & ENCFF209OQD.bed.gz & encode\\_chipseq\\_H3K79me2\\_ENCFF209OQD\\\\\n",
       "\t encode\\_chipseq\\_histone & ENCFF213OTI.bed.gz & encode\\_chipseq\\_H2AFZ\\_ENCFF213OTI   \\\\\n",
       "\\end{tabular}\n"
      ],
      "text/markdown": [
       "\n",
       "A tibble: 6 × 3\n",
       "\n",
       "| Folder &lt;chr&gt; | FName &lt;chr&gt; | Label &lt;chr&gt; |\n",
       "|---|---|---|\n",
       "| encode_chipseq_histone | ENCFF122CSI.bed.gz | encode_chipseq_H3K4me3_ENCFF122CSI  |\n",
       "| encode_chipseq_histone | ENCFF135ZLM.bed.gz | encode_chipseq_H3K4me1_ENCFF135ZLM  |\n",
       "| encode_chipseq_histone | ENCFF148UQI.bed.gz | encode_chipseq_H3K9ac_ENCFF148UQI   |\n",
       "| encode_chipseq_histone | ENCFF193ERO.bed.gz | encode_chipseq_H3K36me3_ENCFF193ERO |\n",
       "| encode_chipseq_histone | ENCFF209OQD.bed.gz | encode_chipseq_H3K79me2_ENCFF209OQD |\n",
       "| encode_chipseq_histone | ENCFF213OTI.bed.gz | encode_chipseq_H2AFZ_ENCFF213OTI    |\n",
       "\n"
      ],
      "text/plain": [
       "  Folder                 FName              Label                              \n",
       "1 encode_chipseq_histone ENCFF122CSI.bed.gz encode_chipseq_H3K4me3_ENCFF122CSI \n",
       "2 encode_chipseq_histone ENCFF135ZLM.bed.gz encode_chipseq_H3K4me1_ENCFF135ZLM \n",
       "3 encode_chipseq_histone ENCFF148UQI.bed.gz encode_chipseq_H3K9ac_ENCFF148UQI  \n",
       "4 encode_chipseq_histone ENCFF193ERO.bed.gz encode_chipseq_H3K36me3_ENCFF193ERO\n",
       "5 encode_chipseq_histone ENCFF209OQD.bed.gz encode_chipseq_H3K79me2_ENCFF209OQD\n",
       "6 encode_chipseq_histone ENCFF213OTI.bed.gz encode_chipseq_H2AFZ_ENCFF213OTI   "
      ]
     },
     "metadata": {},
     "output_type": "display_data"
    }
   ],
   "source": [
    "txt_fdiry = TXT_FDIRY_REGION_LABEL\n",
    "txt_fname = TXT_FNAME_REGION_LABEL_B\n",
    "txt_fpath = file.path(txt_fdiry, txt_fname)\n",
    "\n",
    "dat_region_label_B = read_tsv(txt_fpath, show_col_types = FALSE)\n",
    "head(dat_region_label_B)"
   ]
  },
  {
   "cell_type": "markdown",
   "id": "a979c900-95d0-4556-8add-737c45fb47e1",
   "metadata": {},
   "source": [
    "**Check colnumn names**"
   ]
  },
  {
   "cell_type": "code",
   "execution_count": 6,
   "id": "acda5219-a7a1-4d91-b7dd-0f581b2c85cc",
   "metadata": {},
   "outputs": [
    {
     "name": "stdout",
     "output_type": "stream",
     "text": [
      "fcc_astarr_macs \n",
      "[1] \"Chrom\"      \"ChromStart\" \"ChromEnd\"  \n",
      "\n"
     ]
    }
   ],
   "source": [
    "dat = dat_region_label_A\n",
    "vec = unique(dat$Folder)\n",
    "vec_txt_region_folder_A = vec\n",
    "\n",
    "for (txt_region_folder_A in vec_txt_region_folder_A){\n",
    "    ### get column names for region A\n",
    "    txt_fdiry = file.path(FD_RES, \"region\", txt_region_folder_A, \"summary\")\n",
    "    txt_fname = \"description.tsv\"\n",
    "    txt_fpath = file.path(txt_fdiry, txt_fname)\n",
    "    dat_cname = read_tsv(txt_fpath, show_col_types = FALSE)\n",
    "    vec_txt_cname_A = dat_cname$Name\n",
    "\n",
    "    ### show results\n",
    "    cat(txt_region_folder_A, \"\\n\")\n",
    "    print(vec_txt_cname_A)\n",
    "    cat(\"\\n\")\n",
    "}"
   ]
  },
  {
   "cell_type": "code",
   "execution_count": 7,
   "id": "80f4a952-bdb0-4113-9e20-4269ff8fcbed",
   "metadata": {},
   "outputs": [
    {
     "name": "stdout",
     "output_type": "stream",
     "text": [
      "encode_chipseq_histone \n",
      " [1] \"Chrom\"       \"ChromStart\"  \"ChromEnd\"    \"Name\"        \"Score\"      \n",
      " [6] \"Strand\"      \"SignalValue\" \"PValue\"      \"QValue\"      \"Peak\"       \n",
      "\n"
     ]
    }
   ],
   "source": [
    "dat = dat_region_label_B\n",
    "vec = unique(dat$Folder)\n",
    "vec_txt_region_folder_B = vec\n",
    "\n",
    "for (txt_region_folder_B in vec_txt_region_folder_B){\n",
    "    ### get column names for region B\n",
    "    txt_fdiry = file.path(FD_RES, \"region\", txt_region_folder_B, \"summary\")\n",
    "    txt_fname = \"description.tsv\"\n",
    "    txt_fpath = file.path(txt_fdiry, txt_fname)\n",
    "    dat_cname = read_tsv(txt_fpath, show_col_types = FALSE)\n",
    "    vec_txt_cname_B = dat_cname$Name\n",
    "\n",
    "    ### show results\n",
    "    cat(txt_region_folder_B, \"\\n\")\n",
    "    print(vec_txt_cname_B)\n",
    "    cat(\"\\n\")\n",
    "}"
   ]
  },
  {
   "cell_type": "markdown",
   "id": "ab55eb61-3543-4ab2-bbf8-c3fc7a957a25",
   "metadata": {},
   "source": [
    "## Main"
   ]
  },
  {
   "cell_type": "code",
   "execution_count": 8,
   "id": "4757dba1-1cf4-4bf3-a7db-a9ade60db7c7",
   "metadata": {},
   "outputs": [
    {
     "data": {
      "text/html": [
       "<dl>\n",
       "\t<dt>$`1`</dt>\n",
       "\t\t<dd><dl>\n",
       "\t<dt>$Folder</dt>\n",
       "\t\t<dd>'fcc_astarr_macs'</dd>\n",
       "\t<dt>$FName</dt>\n",
       "\t\t<dd>'K562.hg38.ASTARR.macs.KS91.input.rep_all.max_overlaps.q5.bed.gz'</dd>\n",
       "\t<dt>$Label</dt>\n",
       "\t\t<dd>'fcc_astarr_macs_input_overlap'</dd>\n",
       "</dl>\n",
       "</dd>\n",
       "\t<dt>$`2`</dt>\n",
       "\t\t<dd><dl>\n",
       "\t<dt>$Folder</dt>\n",
       "\t\t<dd>'fcc_astarr_macs'</dd>\n",
       "\t<dt>$FName</dt>\n",
       "\t\t<dd>'K562.hg38.ASTARR.macs.KS91.input.rep_all.union.q5.bed.gz'</dd>\n",
       "\t<dt>$Label</dt>\n",
       "\t\t<dd>'fcc_astarr_macs_input_union'</dd>\n",
       "</dl>\n",
       "</dd>\n",
       "</dl>\n"
      ],
      "text/latex": [
       "\\begin{description}\n",
       "\\item[\\$`1`] \\begin{description}\n",
       "\\item[\\$Folder] 'fcc\\_astarr\\_macs'\n",
       "\\item[\\$FName] 'K562.hg38.ASTARR.macs.KS91.input.rep\\_all.max\\_overlaps.q5.bed.gz'\n",
       "\\item[\\$Label] 'fcc\\_astarr\\_macs\\_input\\_overlap'\n",
       "\\end{description}\n",
       "\n",
       "\\item[\\$`2`] \\begin{description}\n",
       "\\item[\\$Folder] 'fcc\\_astarr\\_macs'\n",
       "\\item[\\$FName] 'K562.hg38.ASTARR.macs.KS91.input.rep\\_all.union.q5.bed.gz'\n",
       "\\item[\\$Label] 'fcc\\_astarr\\_macs\\_input\\_union'\n",
       "\\end{description}\n",
       "\n",
       "\\end{description}\n"
      ],
      "text/markdown": [
       "$`1`\n",
       ":   $Folder\n",
       ":   'fcc_astarr_macs'\n",
       "$FName\n",
       ":   'K562.hg38.ASTARR.macs.KS91.input.rep_all.max_overlaps.q5.bed.gz'\n",
       "$Label\n",
       ":   'fcc_astarr_macs_input_overlap'\n",
       "\n",
       "\n",
       "\n",
       "$`2`\n",
       ":   $Folder\n",
       ":   'fcc_astarr_macs'\n",
       "$FName\n",
       ":   'K562.hg38.ASTARR.macs.KS91.input.rep_all.union.q5.bed.gz'\n",
       "$Label\n",
       ":   'fcc_astarr_macs_input_union'\n",
       "\n",
       "\n",
       "\n",
       "\n",
       "\n"
      ],
      "text/plain": [
       "$`1`\n",
       "$`1`$Folder\n",
       "[1] \"fcc_astarr_macs\"\n",
       "\n",
       "$`1`$FName\n",
       "[1] \"K562.hg38.ASTARR.macs.KS91.input.rep_all.max_overlaps.q5.bed.gz\"\n",
       "\n",
       "$`1`$Label\n",
       "[1] \"fcc_astarr_macs_input_overlap\"\n",
       "\n",
       "\n",
       "$`2`\n",
       "$`2`$Folder\n",
       "[1] \"fcc_astarr_macs\"\n",
       "\n",
       "$`2`$FName\n",
       "[1] \"K562.hg38.ASTARR.macs.KS91.input.rep_all.union.q5.bed.gz\"\n",
       "\n",
       "$`2`$Label\n",
       "[1] \"fcc_astarr_macs_input_union\"\n",
       "\n"
      ]
     },
     "metadata": {},
     "output_type": "display_data"
    }
   ],
   "source": [
    "dat = dat_region_label_A\n",
    "lst = split(dat, 1:nrow(dat))\n",
    "lst = lapply(lst, as.list)\n",
    "lst_region_label_A = lst\n",
    "lst"
   ]
  },
  {
   "cell_type": "code",
   "execution_count": 9,
   "id": "2189ac20-90a0-422f-8265-620a2ae8afed",
   "metadata": {},
   "outputs": [
    {
     "name": "stdout",
     "output_type": "stream",
     "text": [
      "[1] \"encode_chipseq_histone\"\n"
     ]
    }
   ],
   "source": [
    "dat = dat_region_label_B\n",
    "vec = unique(dat$Folder)\n",
    "print(vec)\n",
    "\n",
    "vec_txt_region_folder_B = \"encode_chipseq_histone\""
   ]
  },
  {
   "cell_type": "markdown",
   "id": "a5257aea-c248-4e29-9f9a-fb3a2e1b99dd",
   "metadata": {},
   "source": [
    "**Loop**"
   ]
  },
  {
   "cell_type": "code",
   "execution_count": 10,
   "id": "a13bba4b-8284-49db-b156-e1ff6bddb5eb",
   "metadata": {},
   "outputs": [
    {
     "name": "stdout",
     "output_type": "stream",
     "text": [
      "===========================================\n",
      "Read annotation... \n",
      "Region A: fcc_astarr_macs | fcc_astarr_macs_input_overlap \n",
      "Region B: encode_chipseq_histone \n",
      "FDiry:    \n",
      "[1] \"/data/reddylab/Kuei/repo/Proj_ENCODE_FCC/results/region_annotation/fcc_astarr_macs_input_overlap/encode_chipseq_histone\"\n",
      "FName:    \n",
      " [1] \"fcc_astarr_macs_input_overlap.encode_chipseq_H2AFZ_ENCFF213OTI.bed.gz\"   \n",
      " [2] \"fcc_astarr_macs_input_overlap.encode_chipseq_H3K27ac_ENCFF544LXB.bed.gz\" \n",
      " [3] \"fcc_astarr_macs_input_overlap.encode_chipseq_H3K27me3_ENCFF323WOT.bed.gz\"\n",
      " [4] \"fcc_astarr_macs_input_overlap.encode_chipseq_H3K27me3_ENCFF801AHF.bed.gz\"\n",
      " [5] \"fcc_astarr_macs_input_overlap.encode_chipseq_H3K36me3_ENCFF193ERO.bed.gz\"\n",
      " [6] \"fcc_astarr_macs_input_overlap.encode_chipseq_H3K36me3_ENCFF561OUZ.bed.gz\"\n",
      " [7] \"fcc_astarr_macs_input_overlap.encode_chipseq_H3K4me1_ENCFF135ZLM.bed.gz\" \n",
      " [8] \"fcc_astarr_macs_input_overlap.encode_chipseq_H3K4me1_ENCFF540NGG.bed.gz\" \n",
      " [9] \"fcc_astarr_macs_input_overlap.encode_chipseq_H3K4me2_ENCFF749KLQ.bed.gz\" \n",
      "[10] \"fcc_astarr_macs_input_overlap.encode_chipseq_H3K4me3_ENCFF122CSI.bed.gz\" \n",
      "[11] \"fcc_astarr_macs_input_overlap.encode_chipseq_H3K4me3_ENCFF689QIJ.bed.gz\" \n",
      "[12] \"fcc_astarr_macs_input_overlap.encode_chipseq_H3K4me3_ENCFF706WUF.bed.gz\" \n",
      "[13] \"fcc_astarr_macs_input_overlap.encode_chipseq_H3K4me3_ENCFF885FQN.bed.gz\" \n",
      "[14] \"fcc_astarr_macs_input_overlap.encode_chipseq_H3K79me2_ENCFF209OQD.bed.gz\"\n",
      "[15] \"fcc_astarr_macs_input_overlap.encode_chipseq_H3K9ac_ENCFF148UQI.bed.gz\"  \n",
      "[16] \"fcc_astarr_macs_input_overlap.encode_chipseq_H3K9ac_ENCFF891CHI.bed.gz\"  \n",
      "[17] \"fcc_astarr_macs_input_overlap.encode_chipseq_H3K9me1_ENCFF462AVD.bed.gz\" \n",
      "[18] \"fcc_astarr_macs_input_overlap.encode_chipseq_H3K9me3_ENCFF963GZJ.bed.gz\" \n",
      "[19] \"fcc_astarr_macs_input_overlap.encode_chipseq_H4K20me1_ENCFF909RKY.bed.gz\"\n",
      "\n",
      "Save annotation... \n",
      "FDiry:  /data/reddylab/Kuei/repo/Proj_ENCODE_FCC/results/region_annotation/fcc_astarr_macs_input_overlap/summary \n",
      "FName1: region.intersect.encode_chipseq_histone.tsv \n",
      "FName2: region.annotation.encode_chipseq_histone.tsv \n",
      "\n",
      "===========================================\n",
      "Read annotation... \n",
      "Region A: fcc_astarr_macs | fcc_astarr_macs_input_union \n",
      "Region B: encode_chipseq_histone \n",
      "FDiry:    \n",
      "[1] \"/data/reddylab/Kuei/repo/Proj_ENCODE_FCC/results/region_annotation/fcc_astarr_macs_input_union/encode_chipseq_histone\"\n",
      "FName:    \n",
      " [1] \"fcc_astarr_macs_input_union.encode_chipseq_H2AFZ_ENCFF213OTI.bed.gz\"   \n",
      " [2] \"fcc_astarr_macs_input_union.encode_chipseq_H3K27ac_ENCFF544LXB.bed.gz\" \n",
      " [3] \"fcc_astarr_macs_input_union.encode_chipseq_H3K27me3_ENCFF323WOT.bed.gz\"\n",
      " [4] \"fcc_astarr_macs_input_union.encode_chipseq_H3K27me3_ENCFF801AHF.bed.gz\"\n",
      " [5] \"fcc_astarr_macs_input_union.encode_chipseq_H3K36me3_ENCFF193ERO.bed.gz\"\n",
      " [6] \"fcc_astarr_macs_input_union.encode_chipseq_H3K36me3_ENCFF561OUZ.bed.gz\"\n",
      " [7] \"fcc_astarr_macs_input_union.encode_chipseq_H3K4me1_ENCFF135ZLM.bed.gz\" \n",
      " [8] \"fcc_astarr_macs_input_union.encode_chipseq_H3K4me1_ENCFF540NGG.bed.gz\" \n",
      " [9] \"fcc_astarr_macs_input_union.encode_chipseq_H3K4me2_ENCFF749KLQ.bed.gz\" \n",
      "[10] \"fcc_astarr_macs_input_union.encode_chipseq_H3K4me3_ENCFF122CSI.bed.gz\" \n",
      "[11] \"fcc_astarr_macs_input_union.encode_chipseq_H3K4me3_ENCFF689QIJ.bed.gz\" \n",
      "[12] \"fcc_astarr_macs_input_union.encode_chipseq_H3K4me3_ENCFF706WUF.bed.gz\" \n",
      "[13] \"fcc_astarr_macs_input_union.encode_chipseq_H3K4me3_ENCFF885FQN.bed.gz\" \n",
      "[14] \"fcc_astarr_macs_input_union.encode_chipseq_H3K79me2_ENCFF209OQD.bed.gz\"\n",
      "[15] \"fcc_astarr_macs_input_union.encode_chipseq_H3K9ac_ENCFF148UQI.bed.gz\"  \n",
      "[16] \"fcc_astarr_macs_input_union.encode_chipseq_H3K9ac_ENCFF891CHI.bed.gz\"  \n",
      "[17] \"fcc_astarr_macs_input_union.encode_chipseq_H3K9me1_ENCFF462AVD.bed.gz\" \n",
      "[18] \"fcc_astarr_macs_input_union.encode_chipseq_H3K9me3_ENCFF963GZJ.bed.gz\" \n",
      "[19] \"fcc_astarr_macs_input_union.encode_chipseq_H4K20me1_ENCFF909RKY.bed.gz\"\n",
      "\n",
      "Save annotation... \n",
      "FDiry:  /data/reddylab/Kuei/repo/Proj_ENCODE_FCC/results/region_annotation/fcc_astarr_macs_input_union/summary \n",
      "FName1: region.intersect.encode_chipseq_histone.tsv \n",
      "FName2: region.annotation.encode_chipseq_histone.tsv \n",
      "\n"
     ]
    }
   ],
   "source": [
    "### loop through region A\n",
    "for (idx in seq_along(lst_region_label_A)){\n",
    "    ### get region A\n",
    "    lst = lst_region_label_A[[idx]]\n",
    "    txt_region_folder_A = lst$Folder\n",
    "    txt_region_label_A  = lst$Label\n",
    "\n",
    "    ### get column names for region A\n",
    "    txt_fdiry = file.path(FD_RES, \"region\", txt_region_folder_A, \"summary\")\n",
    "    txt_fname = \"description.tsv\"\n",
    "    txt_fpath = file.path(txt_fdiry, txt_fname)\n",
    "    dat_cname = read_tsv(txt_fpath, show_col_types = FALSE)\n",
    "    vec_txt_cname_A = dat_cname$Name\n",
    "\n",
    "    ### loop through region B\n",
    "    for (txt_region_folder_B in vec_txt_region_folder_B){\n",
    "        ### get column names for region B\n",
    "        txt_fdiry = file.path(FD_RES, \"region\", txt_region_folder_B, \"summary\")\n",
    "        txt_fname = \"description.tsv\"\n",
    "        txt_fpath = file.path(txt_fdiry, txt_fname)\n",
    "        dat_cname = read_tsv(txt_fpath, show_col_types = FALSE)\n",
    "        vec_txt_cname_B = dat_cname$Name\n",
    "\n",
    "        ### get total column names for annotation table\n",
    "        vec_txt_cname = c(\n",
    "            paste0(vec_txt_cname_A, \"_A\"),\n",
    "            paste0(vec_txt_cname_B, \"_B\"),\n",
    "            \"Overlap\"\n",
    "        )\n",
    "        \n",
    "        ### get directory of annotation table\n",
    "        txt_fdiry = file.path(\n",
    "            FD_RES, \n",
    "            \"region_annotation\",\n",
    "            txt_region_label_A, \n",
    "            txt_region_folder_B\n",
    "        )\n",
    "        txt_fname = \"*bed.gz\"\n",
    "        txt_fglob = file.path(txt_fdiry, txt_fname)\n",
    "\n",
    "        ### get annotation table files\n",
    "        vec_txt_fpath = Sys.glob(txt_fglob)\n",
    "        vec_txt_fname = basename(vec_txt_fpath)\n",
    "\n",
    "        ### show progress\n",
    "        cat(\"===========================================\\n\")\n",
    "        cat(\"Read annotation...\", \"\\n\")\n",
    "        cat(\"Region A:\", txt_region_folder_A, \"|\", txt_region_label_A, \"\\n\")\n",
    "        cat(\"Region B:\", txt_region_folder_B, \"\\n\")\n",
    "        cat(\"FDiry:   \", \"\\n\")\n",
    "        print(txt_fdiry)\n",
    "        cat(\"FName:   \", \"\\n\")\n",
    "        print(vec_txt_fname)\n",
    "        cat(\"\\n\")\n",
    "        flush.console()\n",
    "        \n",
    "        ### import annotation tables\n",
    "        lst = lapply(vec_txt_fname, function(txt_fname){\n",
    "            ### set directory\n",
    "            txt_fpath = file.path(txt_fdiry, txt_fname)\n",
    "            \n",
    "            ### get annotation of region A and region B\n",
    "            vec = str_split(txt_fname, \"\\\\.\")[[1]]\n",
    "            txt_annot_A = vec[1]\n",
    "            txt_annot_B = vec[2]\n",
    "\n",
    "            ### get group,label of region B\n",
    "            vec = str_split(txt_annot_B, \"_\")[[1]]\n",
    "            txt_group_B = \"ChIP-seq:Histone\"\n",
    "            txt_label_B = vec[3]\n",
    "            \n",
    "            ### read table and add annotation labels\n",
    "            dat = read_tsv(txt_fpath, col_names = vec_txt_cname, show_col_types = FALSE)\n",
    "            dat = dat %>% \n",
    "                dplyr::mutate(\n",
    "                    Region_A = fun_gen_region(Chrom_A, ChromStart_A, ChromEnd_A),\n",
    "                    Region_B = fun_gen_region(Chrom_B, ChromStart_B, ChromEnd_B),\n",
    "                    Annotation_A = txt_annot_A,\n",
    "                    Annotation_B = txt_annot_B,\n",
    "                    Group_B = txt_group_B,\n",
    "                    Label_B = txt_label_B\n",
    "                )\n",
    "            return(dat)\n",
    "        }) \n",
    "\n",
    "        ### concatenate tables\n",
    "        dat = bind_rows(lst)\n",
    "        dat_region_annot_pair = dat\n",
    "        \n",
    "        ### summarize annotation tables\n",
    "        dat = dat_region_annot_pair\n",
    "        dat = dat %>%\n",
    "            dplyr::group_by(\n",
    "                Chrom_A, ChromStart_A, ChromEnd_A, Region_A,\n",
    "                Annotation_A,\n",
    "                Annotation_B,\n",
    "                Group_B,\n",
    "                Label_B\n",
    "            ) %>%\n",
    "            dplyr::summarise(\n",
    "                Region_Annot = paste(Region_B, collapse=\";\"),\n",
    "                Region_Count = n(),\n",
    "                .groups = \"drop\")\n",
    "\n",
    "        ### rename the columns and assign\n",
    "        colnames(dat) = c(\n",
    "            \"Chrom\", \"ChromStart\", \"ChromEnd\", \"Region\", \n",
    "            \"Annotation_A\", \n",
    "            \"Annotation_B\",\n",
    "            \"Group\",\n",
    "            \"Label\",\n",
    "            \"Region_Annot\",\n",
    "            \"Region_Count\"\n",
    "        )\n",
    "        dat_region_annot_summary = dat\n",
    "\n",
    "        ### set directory\n",
    "        txt_fdiry = file.path(\n",
    "            FD_RES, \n",
    "            \"region_annotation\",\n",
    "            txt_region_label_A,\n",
    "            \"summary\"\n",
    "        )\n",
    "        txt_fname1 = paste(\"region\", \"intersect\",  txt_region_folder_B, \"tsv\", sep = \".\")\n",
    "        txt_fpath1 = file.path(txt_fdiry, txt_fname1)\n",
    "        txt_fname2 = paste(\"region\", \"annotation\", txt_region_folder_B, \"tsv\", sep = \".\")\n",
    "        txt_fpath2 = file.path(txt_fdiry, txt_fname2)\n",
    "        \n",
    "        ### show progress\n",
    "        cat(\"Save annotation...\",  \"\\n\")\n",
    "        cat(\"FDiry: \", txt_fdiry, \"\\n\")\n",
    "        cat(\"FName1:\", txt_fname1, \"\\n\")\n",
    "        cat(\"FName2:\", txt_fname2, \"\\n\")\n",
    "        cat(\"\\n\")\n",
    "        flush.console()\n",
    "\n",
    "        ### write tables\n",
    "        dir.create(txt_fdiry, showWarnings = FALSE)\n",
    "        write_tsv(dat_region_annot_pair,    txt_fpath1)\n",
    "        write_tsv(dat_region_annot_summary, txt_fpath2)\n",
    "    } ### end loop region B\n",
    "} ### end loop region A"
   ]
  },
  {
   "cell_type": "markdown",
   "id": "166521a6-6d26-4891-9bbc-2a2222bacd83",
   "metadata": {},
   "source": [
    "## Review"
   ]
  },
  {
   "cell_type": "code",
   "execution_count": 11,
   "id": "64f4d297-6631-4a2a-923f-b8696c220f82",
   "metadata": {},
   "outputs": [
    {
     "data": {
      "text/html": [
       "<table class=\"dataframe\">\n",
       "<caption>A tibble: 6 × 20</caption>\n",
       "<thead>\n",
       "\t<tr><th scope=col>Chrom_A</th><th scope=col>ChromStart_A</th><th scope=col>ChromEnd_A</th><th scope=col>Chrom_B</th><th scope=col>ChromStart_B</th><th scope=col>ChromEnd_B</th><th scope=col>Name_B</th><th scope=col>Score_B</th><th scope=col>Strand_B</th><th scope=col>SignalValue_B</th><th scope=col>PValue_B</th><th scope=col>QValue_B</th><th scope=col>Peak_B</th><th scope=col>Overlap</th><th scope=col>Region_A</th><th scope=col>Region_B</th><th scope=col>Annotation_A</th><th scope=col>Annotation_B</th><th scope=col>Group_B</th><th scope=col>Label_B</th></tr>\n",
       "\t<tr><th scope=col>&lt;chr&gt;</th><th scope=col>&lt;dbl&gt;</th><th scope=col>&lt;dbl&gt;</th><th scope=col>&lt;chr&gt;</th><th scope=col>&lt;dbl&gt;</th><th scope=col>&lt;dbl&gt;</th><th scope=col>&lt;chr&gt;</th><th scope=col>&lt;dbl&gt;</th><th scope=col>&lt;chr&gt;</th><th scope=col>&lt;dbl&gt;</th><th scope=col>&lt;dbl&gt;</th><th scope=col>&lt;dbl&gt;</th><th scope=col>&lt;dbl&gt;</th><th scope=col>&lt;dbl&gt;</th><th scope=col>&lt;chr&gt;</th><th scope=col>&lt;chr&gt;</th><th scope=col>&lt;chr&gt;</th><th scope=col>&lt;chr&gt;</th><th scope=col>&lt;chr&gt;</th><th scope=col>&lt;chr&gt;</th></tr>\n",
       "</thead>\n",
       "<tbody>\n",
       "\t<tr><td>chr1</td><td>605090</td><td>605823</td><td>chr1</td><td>605268</td><td>605529</td><td>Peak_47666</td><td>143</td><td>.</td><td> 5.45970</td><td>14.34741</td><td>12.12313</td><td>131</td><td>261</td><td>chr1:605090-605823</td><td>chr1:605268-605529</td><td>fcc_astarr_macs_input_union</td><td>encode_chipseq_H2AFZ_ENCFF213OTI</td><td>ChIP-seq:Histone</td><td>H2AFZ</td></tr>\n",
       "\t<tr><td>chr1</td><td>777949</td><td>779437</td><td>chr1</td><td>778410</td><td>778710</td><td>Peak_8638 </td><td>607</td><td>.</td><td>19.66396</td><td>60.70675</td><td>57.38058</td><td>127</td><td>300</td><td>chr1:777949-779437</td><td>chr1:778410-778710</td><td>fcc_astarr_macs_input_union</td><td>encode_chipseq_H2AFZ_ENCFF213OTI</td><td>ChIP-seq:Histone</td><td>H2AFZ</td></tr>\n",
       "\t<tr><td>chr1</td><td>777949</td><td>779437</td><td>chr1</td><td>778914</td><td>779389</td><td>Peak_22352</td><td>308</td><td>.</td><td>10.97061</td><td>30.87924</td><td>28.19931</td><td>297</td><td>475</td><td>chr1:777949-779437</td><td>chr1:778914-779389</td><td>fcc_astarr_macs_input_union</td><td>encode_chipseq_H2AFZ_ENCFF213OTI</td><td>ChIP-seq:Histone</td><td>H2AFZ</td></tr>\n",
       "\t<tr><td>chr1</td><td>812211</td><td>813042</td><td>chr1</td><td>812754</td><td>813043</td><td>Peak_49239</td><td>138</td><td>.</td><td> 7.02968</td><td>13.82738</td><td>11.62081</td><td>129</td><td>288</td><td>chr1:812211-813042</td><td>chr1:812754-813043</td><td>fcc_astarr_macs_input_union</td><td>encode_chipseq_H2AFZ_ENCFF213OTI</td><td>ChIP-seq:Histone</td><td>H2AFZ</td></tr>\n",
       "\t<tr><td>chr1</td><td>826754</td><td>828040</td><td>chr1</td><td>826693</td><td>827529</td><td>Peak_14708</td><td>435</td><td>.</td><td>15.46530</td><td>43.50309</td><td>40.53623</td><td>727</td><td>775</td><td>chr1:826754-828040</td><td>chr1:826693-827529</td><td>fcc_astarr_macs_input_union</td><td>encode_chipseq_H2AFZ_ENCFF213OTI</td><td>ChIP-seq:Histone</td><td>H2AFZ</td></tr>\n",
       "\t<tr><td>chr1</td><td>826754</td><td>828040</td><td>chr1</td><td>827701</td><td>827862</td><td>Peak_49240</td><td>138</td><td>.</td><td> 7.02968</td><td>13.82738</td><td>11.62081</td><td> 36</td><td>161</td><td>chr1:826754-828040</td><td>chr1:827701-827862</td><td>fcc_astarr_macs_input_union</td><td>encode_chipseq_H2AFZ_ENCFF213OTI</td><td>ChIP-seq:Histone</td><td>H2AFZ</td></tr>\n",
       "</tbody>\n",
       "</table>\n"
      ],
      "text/latex": [
       "A tibble: 6 × 20\n",
       "\\begin{tabular}{llllllllllllllllllll}\n",
       " Chrom\\_A & ChromStart\\_A & ChromEnd\\_A & Chrom\\_B & ChromStart\\_B & ChromEnd\\_B & Name\\_B & Score\\_B & Strand\\_B & SignalValue\\_B & PValue\\_B & QValue\\_B & Peak\\_B & Overlap & Region\\_A & Region\\_B & Annotation\\_A & Annotation\\_B & Group\\_B & Label\\_B\\\\\n",
       " <chr> & <dbl> & <dbl> & <chr> & <dbl> & <dbl> & <chr> & <dbl> & <chr> & <dbl> & <dbl> & <dbl> & <dbl> & <dbl> & <chr> & <chr> & <chr> & <chr> & <chr> & <chr>\\\\\n",
       "\\hline\n",
       "\t chr1 & 605090 & 605823 & chr1 & 605268 & 605529 & Peak\\_47666 & 143 & . &  5.45970 & 14.34741 & 12.12313 & 131 & 261 & chr1:605090-605823 & chr1:605268-605529 & fcc\\_astarr\\_macs\\_input\\_union & encode\\_chipseq\\_H2AFZ\\_ENCFF213OTI & ChIP-seq:Histone & H2AFZ\\\\\n",
       "\t chr1 & 777949 & 779437 & chr1 & 778410 & 778710 & Peak\\_8638  & 607 & . & 19.66396 & 60.70675 & 57.38058 & 127 & 300 & chr1:777949-779437 & chr1:778410-778710 & fcc\\_astarr\\_macs\\_input\\_union & encode\\_chipseq\\_H2AFZ\\_ENCFF213OTI & ChIP-seq:Histone & H2AFZ\\\\\n",
       "\t chr1 & 777949 & 779437 & chr1 & 778914 & 779389 & Peak\\_22352 & 308 & . & 10.97061 & 30.87924 & 28.19931 & 297 & 475 & chr1:777949-779437 & chr1:778914-779389 & fcc\\_astarr\\_macs\\_input\\_union & encode\\_chipseq\\_H2AFZ\\_ENCFF213OTI & ChIP-seq:Histone & H2AFZ\\\\\n",
       "\t chr1 & 812211 & 813042 & chr1 & 812754 & 813043 & Peak\\_49239 & 138 & . &  7.02968 & 13.82738 & 11.62081 & 129 & 288 & chr1:812211-813042 & chr1:812754-813043 & fcc\\_astarr\\_macs\\_input\\_union & encode\\_chipseq\\_H2AFZ\\_ENCFF213OTI & ChIP-seq:Histone & H2AFZ\\\\\n",
       "\t chr1 & 826754 & 828040 & chr1 & 826693 & 827529 & Peak\\_14708 & 435 & . & 15.46530 & 43.50309 & 40.53623 & 727 & 775 & chr1:826754-828040 & chr1:826693-827529 & fcc\\_astarr\\_macs\\_input\\_union & encode\\_chipseq\\_H2AFZ\\_ENCFF213OTI & ChIP-seq:Histone & H2AFZ\\\\\n",
       "\t chr1 & 826754 & 828040 & chr1 & 827701 & 827862 & Peak\\_49240 & 138 & . &  7.02968 & 13.82738 & 11.62081 &  36 & 161 & chr1:826754-828040 & chr1:827701-827862 & fcc\\_astarr\\_macs\\_input\\_union & encode\\_chipseq\\_H2AFZ\\_ENCFF213OTI & ChIP-seq:Histone & H2AFZ\\\\\n",
       "\\end{tabular}\n"
      ],
      "text/markdown": [
       "\n",
       "A tibble: 6 × 20\n",
       "\n",
       "| Chrom_A &lt;chr&gt; | ChromStart_A &lt;dbl&gt; | ChromEnd_A &lt;dbl&gt; | Chrom_B &lt;chr&gt; | ChromStart_B &lt;dbl&gt; | ChromEnd_B &lt;dbl&gt; | Name_B &lt;chr&gt; | Score_B &lt;dbl&gt; | Strand_B &lt;chr&gt; | SignalValue_B &lt;dbl&gt; | PValue_B &lt;dbl&gt; | QValue_B &lt;dbl&gt; | Peak_B &lt;dbl&gt; | Overlap &lt;dbl&gt; | Region_A &lt;chr&gt; | Region_B &lt;chr&gt; | Annotation_A &lt;chr&gt; | Annotation_B &lt;chr&gt; | Group_B &lt;chr&gt; | Label_B &lt;chr&gt; |\n",
       "|---|---|---|---|---|---|---|---|---|---|---|---|---|---|---|---|---|---|---|---|\n",
       "| chr1 | 605090 | 605823 | chr1 | 605268 | 605529 | Peak_47666 | 143 | . |  5.45970 | 14.34741 | 12.12313 | 131 | 261 | chr1:605090-605823 | chr1:605268-605529 | fcc_astarr_macs_input_union | encode_chipseq_H2AFZ_ENCFF213OTI | ChIP-seq:Histone | H2AFZ |\n",
       "| chr1 | 777949 | 779437 | chr1 | 778410 | 778710 | Peak_8638  | 607 | . | 19.66396 | 60.70675 | 57.38058 | 127 | 300 | chr1:777949-779437 | chr1:778410-778710 | fcc_astarr_macs_input_union | encode_chipseq_H2AFZ_ENCFF213OTI | ChIP-seq:Histone | H2AFZ |\n",
       "| chr1 | 777949 | 779437 | chr1 | 778914 | 779389 | Peak_22352 | 308 | . | 10.97061 | 30.87924 | 28.19931 | 297 | 475 | chr1:777949-779437 | chr1:778914-779389 | fcc_astarr_macs_input_union | encode_chipseq_H2AFZ_ENCFF213OTI | ChIP-seq:Histone | H2AFZ |\n",
       "| chr1 | 812211 | 813042 | chr1 | 812754 | 813043 | Peak_49239 | 138 | . |  7.02968 | 13.82738 | 11.62081 | 129 | 288 | chr1:812211-813042 | chr1:812754-813043 | fcc_astarr_macs_input_union | encode_chipseq_H2AFZ_ENCFF213OTI | ChIP-seq:Histone | H2AFZ |\n",
       "| chr1 | 826754 | 828040 | chr1 | 826693 | 827529 | Peak_14708 | 435 | . | 15.46530 | 43.50309 | 40.53623 | 727 | 775 | chr1:826754-828040 | chr1:826693-827529 | fcc_astarr_macs_input_union | encode_chipseq_H2AFZ_ENCFF213OTI | ChIP-seq:Histone | H2AFZ |\n",
       "| chr1 | 826754 | 828040 | chr1 | 827701 | 827862 | Peak_49240 | 138 | . |  7.02968 | 13.82738 | 11.62081 |  36 | 161 | chr1:826754-828040 | chr1:827701-827862 | fcc_astarr_macs_input_union | encode_chipseq_H2AFZ_ENCFF213OTI | ChIP-seq:Histone | H2AFZ |\n",
       "\n"
      ],
      "text/plain": [
       "  Chrom_A ChromStart_A ChromEnd_A Chrom_B ChromStart_B ChromEnd_B Name_B    \n",
       "1 chr1    605090       605823     chr1    605268       605529     Peak_47666\n",
       "2 chr1    777949       779437     chr1    778410       778710     Peak_8638 \n",
       "3 chr1    777949       779437     chr1    778914       779389     Peak_22352\n",
       "4 chr1    812211       813042     chr1    812754       813043     Peak_49239\n",
       "5 chr1    826754       828040     chr1    826693       827529     Peak_14708\n",
       "6 chr1    826754       828040     chr1    827701       827862     Peak_49240\n",
       "  Score_B Strand_B SignalValue_B PValue_B QValue_B Peak_B Overlap\n",
       "1 143     .         5.45970      14.34741 12.12313 131    261    \n",
       "2 607     .        19.66396      60.70675 57.38058 127    300    \n",
       "3 308     .        10.97061      30.87924 28.19931 297    475    \n",
       "4 138     .         7.02968      13.82738 11.62081 129    288    \n",
       "5 435     .        15.46530      43.50309 40.53623 727    775    \n",
       "6 138     .         7.02968      13.82738 11.62081  36    161    \n",
       "  Region_A           Region_B           Annotation_A               \n",
       "1 chr1:605090-605823 chr1:605268-605529 fcc_astarr_macs_input_union\n",
       "2 chr1:777949-779437 chr1:778410-778710 fcc_astarr_macs_input_union\n",
       "3 chr1:777949-779437 chr1:778914-779389 fcc_astarr_macs_input_union\n",
       "4 chr1:812211-813042 chr1:812754-813043 fcc_astarr_macs_input_union\n",
       "5 chr1:826754-828040 chr1:826693-827529 fcc_astarr_macs_input_union\n",
       "6 chr1:826754-828040 chr1:827701-827862 fcc_astarr_macs_input_union\n",
       "  Annotation_B                     Group_B          Label_B\n",
       "1 encode_chipseq_H2AFZ_ENCFF213OTI ChIP-seq:Histone H2AFZ  \n",
       "2 encode_chipseq_H2AFZ_ENCFF213OTI ChIP-seq:Histone H2AFZ  \n",
       "3 encode_chipseq_H2AFZ_ENCFF213OTI ChIP-seq:Histone H2AFZ  \n",
       "4 encode_chipseq_H2AFZ_ENCFF213OTI ChIP-seq:Histone H2AFZ  \n",
       "5 encode_chipseq_H2AFZ_ENCFF213OTI ChIP-seq:Histone H2AFZ  \n",
       "6 encode_chipseq_H2AFZ_ENCFF213OTI ChIP-seq:Histone H2AFZ  "
      ]
     },
     "metadata": {},
     "output_type": "display_data"
    }
   ],
   "source": [
    "head(dat_region_annot_pair)"
   ]
  },
  {
   "cell_type": "code",
   "execution_count": 12,
   "id": "20fef47a-3314-4898-bdac-f1a23f66c9ac",
   "metadata": {},
   "outputs": [
    {
     "data": {
      "text/html": [
       "<table class=\"dataframe\">\n",
       "<caption>A tibble: 6 × 10</caption>\n",
       "<thead>\n",
       "\t<tr><th scope=col>Chrom</th><th scope=col>ChromStart</th><th scope=col>ChromEnd</th><th scope=col>Region</th><th scope=col>Annotation_A</th><th scope=col>Annotation_B</th><th scope=col>Group</th><th scope=col>Label</th><th scope=col>Region_Annot</th><th scope=col>Region_Count</th></tr>\n",
       "\t<tr><th scope=col>&lt;chr&gt;</th><th scope=col>&lt;dbl&gt;</th><th scope=col>&lt;dbl&gt;</th><th scope=col>&lt;chr&gt;</th><th scope=col>&lt;chr&gt;</th><th scope=col>&lt;chr&gt;</th><th scope=col>&lt;chr&gt;</th><th scope=col>&lt;chr&gt;</th><th scope=col>&lt;chr&gt;</th><th scope=col>&lt;int&gt;</th></tr>\n",
       "</thead>\n",
       "<tbody>\n",
       "\t<tr><td>chr1</td><td> 16015</td><td> 16477</td><td>chr1:16015-16477  </td><td>fcc_astarr_macs_input_union</td><td>encode_chipseq_H3K36me3_ENCFF193ERO</td><td>ChIP-seq:Histone</td><td>H3K36me3</td><td>chr1:16092-16380                                        </td><td>1</td></tr>\n",
       "\t<tr><td>chr1</td><td> 16015</td><td> 16477</td><td>chr1:16015-16477  </td><td>fcc_astarr_macs_input_union</td><td>encode_chipseq_H3K36me3_ENCFF561OUZ</td><td>ChIP-seq:Histone</td><td>H3K36me3</td><td>chr1:16209-16339                                        </td><td>1</td></tr>\n",
       "\t<tr><td>chr1</td><td>118518</td><td>118743</td><td>chr1:118518-118743</td><td>fcc_astarr_macs_input_union</td><td>encode_chipseq_H3K4me3_ENCFF689QIJ </td><td>ChIP-seq:Histone</td><td>H3K4me3 </td><td>chr1:118439-118645                                      </td><td>1</td></tr>\n",
       "\t<tr><td>chr1</td><td>118518</td><td>118743</td><td>chr1:118518-118743</td><td>fcc_astarr_macs_input_union</td><td>encode_chipseq_H3K9ac_ENCFF891CHI  </td><td>ChIP-seq:Histone</td><td>H3K9ac  </td><td>chr1:118435-119129                                      </td><td>1</td></tr>\n",
       "\t<tr><td>chr1</td><td>137737</td><td>139544</td><td>chr1:137737-139544</td><td>fcc_astarr_macs_input_union</td><td>encode_chipseq_H3K27ac_ENCFF544LXB </td><td>ChIP-seq:Histone</td><td>H3K27ac </td><td>chr1:137650-138169;chr1:138356-139236;chr1:139285-139490</td><td>3</td></tr>\n",
       "\t<tr><td>chr1</td><td>137737</td><td>139544</td><td>chr1:137737-139544</td><td>fcc_astarr_macs_input_union</td><td>encode_chipseq_H3K36me3_ENCFF193ERO</td><td>ChIP-seq:Histone</td><td>H3K36me3</td><td>chr1:139300-139473                                      </td><td>1</td></tr>\n",
       "</tbody>\n",
       "</table>\n"
      ],
      "text/latex": [
       "A tibble: 6 × 10\n",
       "\\begin{tabular}{llllllllll}\n",
       " Chrom & ChromStart & ChromEnd & Region & Annotation\\_A & Annotation\\_B & Group & Label & Region\\_Annot & Region\\_Count\\\\\n",
       " <chr> & <dbl> & <dbl> & <chr> & <chr> & <chr> & <chr> & <chr> & <chr> & <int>\\\\\n",
       "\\hline\n",
       "\t chr1 &  16015 &  16477 & chr1:16015-16477   & fcc\\_astarr\\_macs\\_input\\_union & encode\\_chipseq\\_H3K36me3\\_ENCFF193ERO & ChIP-seq:Histone & H3K36me3 & chr1:16092-16380                                         & 1\\\\\n",
       "\t chr1 &  16015 &  16477 & chr1:16015-16477   & fcc\\_astarr\\_macs\\_input\\_union & encode\\_chipseq\\_H3K36me3\\_ENCFF561OUZ & ChIP-seq:Histone & H3K36me3 & chr1:16209-16339                                         & 1\\\\\n",
       "\t chr1 & 118518 & 118743 & chr1:118518-118743 & fcc\\_astarr\\_macs\\_input\\_union & encode\\_chipseq\\_H3K4me3\\_ENCFF689QIJ  & ChIP-seq:Histone & H3K4me3  & chr1:118439-118645                                       & 1\\\\\n",
       "\t chr1 & 118518 & 118743 & chr1:118518-118743 & fcc\\_astarr\\_macs\\_input\\_union & encode\\_chipseq\\_H3K9ac\\_ENCFF891CHI   & ChIP-seq:Histone & H3K9ac   & chr1:118435-119129                                       & 1\\\\\n",
       "\t chr1 & 137737 & 139544 & chr1:137737-139544 & fcc\\_astarr\\_macs\\_input\\_union & encode\\_chipseq\\_H3K27ac\\_ENCFF544LXB  & ChIP-seq:Histone & H3K27ac  & chr1:137650-138169;chr1:138356-139236;chr1:139285-139490 & 3\\\\\n",
       "\t chr1 & 137737 & 139544 & chr1:137737-139544 & fcc\\_astarr\\_macs\\_input\\_union & encode\\_chipseq\\_H3K36me3\\_ENCFF193ERO & ChIP-seq:Histone & H3K36me3 & chr1:139300-139473                                       & 1\\\\\n",
       "\\end{tabular}\n"
      ],
      "text/markdown": [
       "\n",
       "A tibble: 6 × 10\n",
       "\n",
       "| Chrom &lt;chr&gt; | ChromStart &lt;dbl&gt; | ChromEnd &lt;dbl&gt; | Region &lt;chr&gt; | Annotation_A &lt;chr&gt; | Annotation_B &lt;chr&gt; | Group &lt;chr&gt; | Label &lt;chr&gt; | Region_Annot &lt;chr&gt; | Region_Count &lt;int&gt; |\n",
       "|---|---|---|---|---|---|---|---|---|---|\n",
       "| chr1 |  16015 |  16477 | chr1:16015-16477   | fcc_astarr_macs_input_union | encode_chipseq_H3K36me3_ENCFF193ERO | ChIP-seq:Histone | H3K36me3 | chr1:16092-16380                                         | 1 |\n",
       "| chr1 |  16015 |  16477 | chr1:16015-16477   | fcc_astarr_macs_input_union | encode_chipseq_H3K36me3_ENCFF561OUZ | ChIP-seq:Histone | H3K36me3 | chr1:16209-16339                                         | 1 |\n",
       "| chr1 | 118518 | 118743 | chr1:118518-118743 | fcc_astarr_macs_input_union | encode_chipseq_H3K4me3_ENCFF689QIJ  | ChIP-seq:Histone | H3K4me3  | chr1:118439-118645                                       | 1 |\n",
       "| chr1 | 118518 | 118743 | chr1:118518-118743 | fcc_astarr_macs_input_union | encode_chipseq_H3K9ac_ENCFF891CHI   | ChIP-seq:Histone | H3K9ac   | chr1:118435-119129                                       | 1 |\n",
       "| chr1 | 137737 | 139544 | chr1:137737-139544 | fcc_astarr_macs_input_union | encode_chipseq_H3K27ac_ENCFF544LXB  | ChIP-seq:Histone | H3K27ac  | chr1:137650-138169;chr1:138356-139236;chr1:139285-139490 | 3 |\n",
       "| chr1 | 137737 | 139544 | chr1:137737-139544 | fcc_astarr_macs_input_union | encode_chipseq_H3K36me3_ENCFF193ERO | ChIP-seq:Histone | H3K36me3 | chr1:139300-139473                                       | 1 |\n",
       "\n"
      ],
      "text/plain": [
       "  Chrom ChromStart ChromEnd Region             Annotation_A               \n",
       "1 chr1   16015      16477   chr1:16015-16477   fcc_astarr_macs_input_union\n",
       "2 chr1   16015      16477   chr1:16015-16477   fcc_astarr_macs_input_union\n",
       "3 chr1  118518     118743   chr1:118518-118743 fcc_astarr_macs_input_union\n",
       "4 chr1  118518     118743   chr1:118518-118743 fcc_astarr_macs_input_union\n",
       "5 chr1  137737     139544   chr1:137737-139544 fcc_astarr_macs_input_union\n",
       "6 chr1  137737     139544   chr1:137737-139544 fcc_astarr_macs_input_union\n",
       "  Annotation_B                        Group            Label   \n",
       "1 encode_chipseq_H3K36me3_ENCFF193ERO ChIP-seq:Histone H3K36me3\n",
       "2 encode_chipseq_H3K36me3_ENCFF561OUZ ChIP-seq:Histone H3K36me3\n",
       "3 encode_chipseq_H3K4me3_ENCFF689QIJ  ChIP-seq:Histone H3K4me3 \n",
       "4 encode_chipseq_H3K9ac_ENCFF891CHI   ChIP-seq:Histone H3K9ac  \n",
       "5 encode_chipseq_H3K27ac_ENCFF544LXB  ChIP-seq:Histone H3K27ac \n",
       "6 encode_chipseq_H3K36me3_ENCFF193ERO ChIP-seq:Histone H3K36me3\n",
       "  Region_Annot                                             Region_Count\n",
       "1 chr1:16092-16380                                         1           \n",
       "2 chr1:16209-16339                                         1           \n",
       "3 chr1:118439-118645                                       1           \n",
       "4 chr1:118435-119129                                       1           \n",
       "5 chr1:137650-138169;chr1:138356-139236;chr1:139285-139490 3           \n",
       "6 chr1:139300-139473                                       1           "
      ]
     },
     "metadata": {},
     "output_type": "display_data"
    }
   ],
   "source": [
    "head(dat_region_annot_summary)"
   ]
  },
  {
   "cell_type": "code",
   "execution_count": null,
   "id": "5e42da3f-6a48-4d18-9376-4c7ce6380423",
   "metadata": {},
   "outputs": [],
   "source": []
  },
  {
   "cell_type": "code",
   "execution_count": null,
   "id": "5f1653b3-6d41-4c7a-8490-49b3821a9c04",
   "metadata": {},
   "outputs": [],
   "source": []
  }
 ],
 "metadata": {
  "kernelspec": {
   "display_name": "R",
   "language": "R",
   "name": "ir"
  },
  "language_info": {
   "codemirror_mode": "r",
   "file_extension": ".r",
   "mimetype": "text/x-r-source",
   "name": "R",
   "pygments_lexer": "r",
   "version": "4.4.1"
  }
 },
 "nbformat": 4,
 "nbformat_minor": 5
}
