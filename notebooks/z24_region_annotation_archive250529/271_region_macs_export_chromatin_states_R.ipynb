{
 "cells": [
  {
   "cell_type": "raw",
   "id": "b59932b6-a002-4866-9d62-f3bdad518743",
   "metadata": {},
   "source": [
    "---\n",
    "title: FCC Peak calls\n",
    "subtitle: export annotation\n",
    "format:\n",
    "    html:\n",
    "        code-fold:  true\n",
    "        code-tools: true\n",
    "---"
   ]
  },
  {
   "cell_type": "markdown",
   "id": "10b6ae12-fb91-4ee4-9565-f666b9c06946",
   "metadata": {},
   "source": [
    "**Set environment**"
   ]
  },
  {
   "cell_type": "code",
   "execution_count": 1,
   "id": "4fb12135-c793-4b91-afa0-75fc5e8204e8",
   "metadata": {
    "tags": []
   },
   "outputs": [
    {
     "name": "stdout",
     "output_type": "stream",
     "text": [
      "You are working on        Singularity: singularity_proj_encode_fcc \n",
      "BASE DIRECTORY (FD_BASE): /data/reddylab/Kuei \n",
      "REPO DIRECTORY (FD_REPO): /data/reddylab/Kuei/repo \n",
      "WORK DIRECTORY (FD_WORK): /data/reddylab/Kuei/work \n",
      "DATA DIRECTORY (FD_DATA): /data/reddylab/Kuei/data \n",
      "\n",
      "You are working with      ENCODE FCC \n",
      "PATH OF PROJECT (FD_PRJ): /data/reddylab/Kuei/repo/Proj_ENCODE_FCC \n",
      "PROJECT RESULTS (FD_RES): /data/reddylab/Kuei/repo/Proj_ENCODE_FCC/results \n",
      "PROJECT SCRIPTS (FD_EXE): /data/reddylab/Kuei/repo/Proj_ENCODE_FCC/scripts \n",
      "PROJECT DATA    (FD_DAT): /data/reddylab/Kuei/repo/Proj_ENCODE_FCC/data \n",
      "PROJECT NOTE    (FD_NBK): /data/reddylab/Kuei/repo/Proj_ENCODE_FCC/notebooks \n",
      "PROJECT DOCS    (FD_DOC): /data/reddylab/Kuei/repo/Proj_ENCODE_FCC/docs \n",
      "PROJECT LOG     (FD_LOG): /data/reddylab/Kuei/repo/Proj_ENCODE_FCC/log \n",
      "PROJECT REF     (FD_REF): /data/reddylab/Kuei/repo/Proj_ENCODE_FCC/references \n",
      "\n"
     ]
    }
   ],
   "source": [
    "suppressMessages(suppressWarnings(source(\"../run_config_project_sing.R\")))\n",
    "show_env()"
   ]
  },
  {
   "cell_type": "markdown",
   "id": "c80945b5-59bb-4871-92c0-47c29a712757",
   "metadata": {},
   "source": [
    "## Import data"
   ]
  },
  {
   "cell_type": "code",
   "execution_count": 2,
   "id": "693196c9-84e5-4c09-b8c1-e5b988592515",
   "metadata": {},
   "outputs": [
    {
     "name": "stdout",
     "output_type": "stream",
     "text": [
      "matrix.annotation.encode_chipseq_flagship.tsv \n",
      "matrix.annotation.encode_chipseq_full.tsv \n",
      "matrix.annotation.encode_chipseq_histone.tsv \n",
      "matrix.annotation.encode_chipseq_subset.tsv \n",
      "matrix.annotation.fcc_peak_call.tsv \n",
      "matrix.annotation.genome_tss.tsv \n",
      "matrix.annotation.merge.fcc.tss.chipseq.tsv \n",
      "region.annotation.encode_chipseq_flagship.tmp.tsv \n",
      "region.annotation.encode_chipseq_flagship.tsv \n",
      "region.annotation.encode_chipseq_histone.tsv \n",
      "region.annotation.encode_chipseq_subset.tsv \n",
      "region.annotation.encode_chromatin_states.tsv \n",
      "region.annotation.encode_e2g_benchmark.tsv \n",
      "region.annotation.fcc_astarr_csaw.tsv \n",
      "region.annotation.fcc_crispri_growth.tsv \n",
      "region.annotation.fcc_crispri_hcrff.tsv \n",
      "region.annotation.fcc_mpra_agarwal2023.tsv \n",
      "region.annotation.fcc_starrmpra_junke.tsv \n",
      "region.annotation.genome_tss.tsv \n",
      "region.annotation.module_tf_shannon.tsv \n",
      "region.intersect.encode_chipseq_flagship.tmp.tsv \n",
      "region.intersect.encode_chipseq_flagship.tsv \n",
      "region.intersect.encode_chipseq_histone.tsv \n",
      "region.intersect.encode_chipseq_subset.tsv \n",
      "region.intersect.encode_chromatin_states.tsv \n",
      "region.intersect.encode_e2g_benchmark.tsv \n",
      "region.intersect.fcc_astarr_csaw.tsv \n",
      "region.intersect.fcc_crispri_growth.tsv \n",
      "region.intersect.fcc_crispri_hcrff.tsv \n",
      "region.intersect.fcc_mpra_agarwal2023.tsv \n",
      "region.intersect.fcc_starrmpra_junke.tsv \n",
      "region.intersect.genome_tss.tsv \n",
      "region.intersect.module_tf_shannon.tsv \n",
      "region.summary.encode_chipseq_flagship.tsv \n",
      "region.summary.encode_chipseq_full.tsv \n",
      "region.summary.encode_chipseq_histone.tsv \n",
      "region.summary.encode_chipseq_subset.tsv \n",
      "region.summary.encode_e2g_benchmark.regulated.tsv \n",
      "region.summary.encode_e2g_benchmark.tsv \n",
      "region.summary.fcc_peak_call.assayvote.starrmpra.tsv \n",
      "region.summary.fcc_peak_call.assayvote.starrmpracrispri.tsv \n",
      "region.summary.fcc_peak_call.label.tsv \n",
      "region.summary.fcc_peak_call.tsv \n",
      "region.summary.genome_tss.tsv \n"
     ]
    }
   ],
   "source": [
    "txt_fdiry = file.path(\n",
    "    FD_RES, \n",
    "    \"region_annotation\", \n",
    "    \"fcc_astarr_macs_input_overlap\",\n",
    "    \"summary\"\n",
    ")\n",
    "vec = dir(txt_fdiry)\n",
    "for (txt in vec){cat(txt, \"\\n\")}"
   ]
  },
  {
   "cell_type": "code",
   "execution_count": 3,
   "id": "076d2140-69f1-43da-aa9f-13cd4233b47a",
   "metadata": {},
   "outputs": [
    {
     "name": "stdout",
     "output_type": "stream",
     "text": [
      "[1] 418821     10\n"
     ]
    },
    {
     "data": {
      "text/html": [
       "<table>\n",
       " <thead>\n",
       "  <tr>\n",
       "   <th style=\"text-align:left;\"> Chrom </th>\n",
       "   <th style=\"text-align:right;\"> ChromStart </th>\n",
       "   <th style=\"text-align:right;\"> ChromEnd </th>\n",
       "   <th style=\"text-align:left;\"> Region </th>\n",
       "   <th style=\"text-align:left;\"> Annotation_A </th>\n",
       "   <th style=\"text-align:left;\"> Annotation_B </th>\n",
       "   <th style=\"text-align:left;\"> Group </th>\n",
       "   <th style=\"text-align:left;\"> Label </th>\n",
       "   <th style=\"text-align:left;\"> Region_Annot </th>\n",
       "   <th style=\"text-align:right;\"> Region_Count </th>\n",
       "  </tr>\n",
       " </thead>\n",
       "<tbody>\n",
       "  <tr>\n",
       "   <td style=\"text-align:left;\"> chr1 </td>\n",
       "   <td style=\"text-align:right;\"> 10038 </td>\n",
       "   <td style=\"text-align:right;\"> 10405 </td>\n",
       "   <td style=\"text-align:left;\"> chr1:10038-10405 </td>\n",
       "   <td style=\"text-align:left;\"> fcc_astarr_macs_input_overlap </td>\n",
       "   <td style=\"text-align:left;\"> encode_ccres_ENCFF286VQG </td>\n",
       "   <td style=\"text-align:left;\"> cCREs </td>\n",
       "   <td style=\"text-align:left;\"> Low-DNase </td>\n",
       "   <td style=\"text-align:left;\"> chr1:10033-10250;chr1:10385-10713 </td>\n",
       "   <td style=\"text-align:right;\"> 2 </td>\n",
       "  </tr>\n",
       "  <tr>\n",
       "   <td style=\"text-align:left;\"> chr1 </td>\n",
       "   <td style=\"text-align:right;\"> 10038 </td>\n",
       "   <td style=\"text-align:right;\"> 10405 </td>\n",
       "   <td style=\"text-align:left;\"> chr1:10038-10405 </td>\n",
       "   <td style=\"text-align:left;\"> fcc_astarr_macs_input_overlap </td>\n",
       "   <td style=\"text-align:left;\"> encode_chromhmm_ENCFF106BGJ </td>\n",
       "   <td style=\"text-align:left;\"> ChromHMM </td>\n",
       "   <td style=\"text-align:left;\"> Quies </td>\n",
       "   <td style=\"text-align:left;\"> chr1:0-16000 </td>\n",
       "   <td style=\"text-align:right;\"> 1 </td>\n",
       "  </tr>\n",
       "  <tr>\n",
       "   <td style=\"text-align:left;\"> chr1 </td>\n",
       "   <td style=\"text-align:right;\"> 14282 </td>\n",
       "   <td style=\"text-align:right;\"> 14614 </td>\n",
       "   <td style=\"text-align:left;\"> chr1:14282-14614 </td>\n",
       "   <td style=\"text-align:left;\"> fcc_astarr_macs_input_overlap </td>\n",
       "   <td style=\"text-align:left;\"> encode_chromhmm_ENCFF106BGJ </td>\n",
       "   <td style=\"text-align:left;\"> ChromHMM </td>\n",
       "   <td style=\"text-align:left;\"> Quies </td>\n",
       "   <td style=\"text-align:left;\"> chr1:0-16000 </td>\n",
       "   <td style=\"text-align:right;\"> 1 </td>\n",
       "  </tr>\n",
       "</tbody>\n",
       "</table>"
      ]
     },
     "metadata": {},
     "output_type": "display_data"
    }
   ],
   "source": [
    "txt_fdiry = file.path(\n",
    "    FD_RES, \n",
    "    \"region_annotation\", \n",
    "    \"fcc_astarr_macs_input_overlap\",\n",
    "    \"summary\"\n",
    ")\n",
    "txt_fname = \"region.annotation.encode_chromatin_states.tsv\"\n",
    "txt_fpath = file.path(txt_fdiry, txt_fname)\n",
    "\n",
    "dat = read_tsv(txt_fpath, show_col_types = FALSE)\n",
    "\n",
    "dat_region_annot_import = dat\n",
    "print(dim(dat))\n",
    "fun_display_table(head(dat, 3))"
   ]
  },
  {
   "cell_type": "code",
   "execution_count": 5,
   "id": "32533b4e-8ac7-4255-a18e-747a46ab5f9f",
   "metadata": {},
   "outputs": [
    {
     "name": "stdout",
     "output_type": "stream",
     "text": [
      "\n",
      "               cCREs cCREs:REST+ silencer cCREs:STARR silencer \n",
      "              193629                 3843                  383 \n",
      "            ChromHMM \n",
      "              220966 \n"
     ]
    }
   ],
   "source": [
    "dat = dat_region_annot_import\n",
    "res = table(dat$Group)\n",
    "print(res)"
   ]
  },
  {
   "cell_type": "code",
   "execution_count": 24,
   "id": "0681aa11-3d11-47de-a842-3f2a224c5331",
   "metadata": {},
   "outputs": [],
   "source": [
    "dat = dat_region_annot_import\n",
    "lst = list(\n",
    "    \"encode_chromatin_states.full\"     = dat %>% dplyr::filter(Group %in% c(\"cCREs\", \"ChromHMM\")),\n",
    "    \"encode_chromatin_states.ccres\"    = dat %>% dplyr::filter(Group == \"cCREs\"),\n",
    "    \"encode_chromatin_states.chromhmm\" = dat %>% dplyr::filter(Group == \"ChromHMM\")\n",
    ")\n",
    "lst = lapply(lst, function(dat){\n",
    "    dat = dat %>% dplyr::select(Chrom:Region, Group, Label) %>% dplyr::distinct()\n",
    "    return(dat)\n",
    "})\n",
    "\n",
    "lst_dat = lst"
   ]
  },
  {
   "cell_type": "code",
   "execution_count": 25,
   "id": "e70be95d-171b-4501-a4c3-89d8b6b71467",
   "metadata": {},
   "outputs": [
    {
     "data": {
      "text/html": [
       "<table class=\"dataframe\">\n",
       "<caption>A tibble: 3 × 6</caption>\n",
       "<thead>\n",
       "\t<tr><th scope=col>Chrom</th><th scope=col>ChromStart</th><th scope=col>ChromEnd</th><th scope=col>Region</th><th scope=col>Group</th><th scope=col>Label</th></tr>\n",
       "\t<tr><th scope=col>&lt;chr&gt;</th><th scope=col>&lt;dbl&gt;</th><th scope=col>&lt;dbl&gt;</th><th scope=col>&lt;chr&gt;</th><th scope=col>&lt;chr&gt;</th><th scope=col>&lt;chr&gt;</th></tr>\n",
       "</thead>\n",
       "<tbody>\n",
       "\t<tr><td>chr1</td><td>10038</td><td>10405</td><td>chr1:10038-10405</td><td>cCREs   </td><td>Low-DNase</td></tr>\n",
       "\t<tr><td>chr1</td><td>10038</td><td>10405</td><td>chr1:10038-10405</td><td>ChromHMM</td><td>Quies    </td></tr>\n",
       "\t<tr><td>chr1</td><td>14282</td><td>14614</td><td>chr1:14282-14614</td><td>ChromHMM</td><td>Quies    </td></tr>\n",
       "</tbody>\n",
       "</table>\n"
      ],
      "text/latex": [
       "A tibble: 3 × 6\n",
       "\\begin{tabular}{llllll}\n",
       " Chrom & ChromStart & ChromEnd & Region & Group & Label\\\\\n",
       " <chr> & <dbl> & <dbl> & <chr> & <chr> & <chr>\\\\\n",
       "\\hline\n",
       "\t chr1 & 10038 & 10405 & chr1:10038-10405 & cCREs    & Low-DNase\\\\\n",
       "\t chr1 & 10038 & 10405 & chr1:10038-10405 & ChromHMM & Quies    \\\\\n",
       "\t chr1 & 14282 & 14614 & chr1:14282-14614 & ChromHMM & Quies    \\\\\n",
       "\\end{tabular}\n"
      ],
      "text/markdown": [
       "\n",
       "A tibble: 3 × 6\n",
       "\n",
       "| Chrom &lt;chr&gt; | ChromStart &lt;dbl&gt; | ChromEnd &lt;dbl&gt; | Region &lt;chr&gt; | Group &lt;chr&gt; | Label &lt;chr&gt; |\n",
       "|---|---|---|---|---|---|\n",
       "| chr1 | 10038 | 10405 | chr1:10038-10405 | cCREs    | Low-DNase |\n",
       "| chr1 | 10038 | 10405 | chr1:10038-10405 | ChromHMM | Quies     |\n",
       "| chr1 | 14282 | 14614 | chr1:14282-14614 | ChromHMM | Quies     |\n",
       "\n"
      ],
      "text/plain": [
       "  Chrom ChromStart ChromEnd Region           Group    Label    \n",
       "1 chr1  10038      10405    chr1:10038-10405 cCREs    Low-DNase\n",
       "2 chr1  10038      10405    chr1:10038-10405 ChromHMM Quies    \n",
       "3 chr1  14282      14614    chr1:14282-14614 ChromHMM Quies    "
      ]
     },
     "metadata": {},
     "output_type": "display_data"
    }
   ],
   "source": [
    "lst = lst_dat\n",
    "head(lst[[1]], 3)"
   ]
  },
  {
   "cell_type": "code",
   "execution_count": 26,
   "id": "7db669b2-9eef-467b-9829-da149fdc1948",
   "metadata": {},
   "outputs": [],
   "source": [
    "lst = lst_dat\n",
    "lst = lapply(lst, function(dat){\n",
    "    dat = dat %>% \n",
    "        dplyr::select(-Group) %>%\n",
    "        dplyr::mutate(Value = 1) %>% \n",
    "        tidyr::spread(Label, Value) %>%\n",
    "        replace(is.na(.), 0)\n",
    "    return(dat)\n",
    "})\n",
    "lst_mat = lst"
   ]
  },
  {
   "cell_type": "code",
   "execution_count": 27,
   "id": "aec1237a-c1f5-4358-987d-e6ef646eb50f",
   "metadata": {},
   "outputs": [
    {
     "data": {
      "text/html": [
       "<table class=\"dataframe\">\n",
       "<caption>A tibble: 3 × 27</caption>\n",
       "<thead>\n",
       "\t<tr><th scope=col>Chrom</th><th scope=col>ChromStart</th><th scope=col>ChromEnd</th><th scope=col>Region</th><th scope=col>Biv</th><th scope=col>CA-CTCF</th><th scope=col>CA-H3K4me3</th><th scope=col>CA-only</th><th scope=col>CA-TF</th><th scope=col>dELS</th><th scope=col>⋯</th><th scope=col>PLS</th><th scope=col>Quies</th><th scope=col>ReprPC</th><th scope=col>Tss</th><th scope=col>TssFlnk</th><th scope=col>TssFlnkD</th><th scope=col>TssFlnkU</th><th scope=col>Tx</th><th scope=col>TxWk</th><th scope=col>ZNF/Rpts</th></tr>\n",
       "\t<tr><th scope=col>&lt;chr&gt;</th><th scope=col>&lt;dbl&gt;</th><th scope=col>&lt;dbl&gt;</th><th scope=col>&lt;chr&gt;</th><th scope=col>&lt;dbl&gt;</th><th scope=col>&lt;dbl&gt;</th><th scope=col>&lt;dbl&gt;</th><th scope=col>&lt;dbl&gt;</th><th scope=col>&lt;dbl&gt;</th><th scope=col>&lt;dbl&gt;</th><th scope=col>⋯</th><th scope=col>&lt;dbl&gt;</th><th scope=col>&lt;dbl&gt;</th><th scope=col>&lt;dbl&gt;</th><th scope=col>&lt;dbl&gt;</th><th scope=col>&lt;dbl&gt;</th><th scope=col>&lt;dbl&gt;</th><th scope=col>&lt;dbl&gt;</th><th scope=col>&lt;dbl&gt;</th><th scope=col>&lt;dbl&gt;</th><th scope=col>&lt;dbl&gt;</th></tr>\n",
       "</thead>\n",
       "<tbody>\n",
       "\t<tr><td>chr1</td><td>10038</td><td>10405</td><td>chr1:10038-10405</td><td>0</td><td>0</td><td>0</td><td>0</td><td>0</td><td>0</td><td>⋯</td><td>0</td><td>1</td><td>0</td><td>0</td><td>0</td><td>0</td><td>0</td><td>0</td><td>0</td><td>0</td></tr>\n",
       "\t<tr><td>chr1</td><td>14282</td><td>14614</td><td>chr1:14282-14614</td><td>0</td><td>0</td><td>0</td><td>0</td><td>0</td><td>0</td><td>⋯</td><td>0</td><td>1</td><td>0</td><td>0</td><td>0</td><td>0</td><td>0</td><td>0</td><td>0</td><td>0</td></tr>\n",
       "\t<tr><td>chr1</td><td>16025</td><td>16338</td><td>chr1:16025-16338</td><td>0</td><td>0</td><td>0</td><td>0</td><td>0</td><td>0</td><td>⋯</td><td>0</td><td>1</td><td>0</td><td>0</td><td>0</td><td>0</td><td>0</td><td>0</td><td>1</td><td>0</td></tr>\n",
       "</tbody>\n",
       "</table>\n"
      ],
      "text/latex": [
       "A tibble: 3 × 27\n",
       "\\begin{tabular}{lllllllllllllllllllll}\n",
       " Chrom & ChromStart & ChromEnd & Region & Biv & CA-CTCF & CA-H3K4me3 & CA-only & CA-TF & dELS & ⋯ & PLS & Quies & ReprPC & Tss & TssFlnk & TssFlnkD & TssFlnkU & Tx & TxWk & ZNF/Rpts\\\\\n",
       " <chr> & <dbl> & <dbl> & <chr> & <dbl> & <dbl> & <dbl> & <dbl> & <dbl> & <dbl> & ⋯ & <dbl> & <dbl> & <dbl> & <dbl> & <dbl> & <dbl> & <dbl> & <dbl> & <dbl> & <dbl>\\\\\n",
       "\\hline\n",
       "\t chr1 & 10038 & 10405 & chr1:10038-10405 & 0 & 0 & 0 & 0 & 0 & 0 & ⋯ & 0 & 1 & 0 & 0 & 0 & 0 & 0 & 0 & 0 & 0\\\\\n",
       "\t chr1 & 14282 & 14614 & chr1:14282-14614 & 0 & 0 & 0 & 0 & 0 & 0 & ⋯ & 0 & 1 & 0 & 0 & 0 & 0 & 0 & 0 & 0 & 0\\\\\n",
       "\t chr1 & 16025 & 16338 & chr1:16025-16338 & 0 & 0 & 0 & 0 & 0 & 0 & ⋯ & 0 & 1 & 0 & 0 & 0 & 0 & 0 & 0 & 1 & 0\\\\\n",
       "\\end{tabular}\n"
      ],
      "text/markdown": [
       "\n",
       "A tibble: 3 × 27\n",
       "\n",
       "| Chrom &lt;chr&gt; | ChromStart &lt;dbl&gt; | ChromEnd &lt;dbl&gt; | Region &lt;chr&gt; | Biv &lt;dbl&gt; | CA-CTCF &lt;dbl&gt; | CA-H3K4me3 &lt;dbl&gt; | CA-only &lt;dbl&gt; | CA-TF &lt;dbl&gt; | dELS &lt;dbl&gt; | ⋯ ⋯ | PLS &lt;dbl&gt; | Quies &lt;dbl&gt; | ReprPC &lt;dbl&gt; | Tss &lt;dbl&gt; | TssFlnk &lt;dbl&gt; | TssFlnkD &lt;dbl&gt; | TssFlnkU &lt;dbl&gt; | Tx &lt;dbl&gt; | TxWk &lt;dbl&gt; | ZNF/Rpts &lt;dbl&gt; |\n",
       "|---|---|---|---|---|---|---|---|---|---|---|---|---|---|---|---|---|---|---|---|---|\n",
       "| chr1 | 10038 | 10405 | chr1:10038-10405 | 0 | 0 | 0 | 0 | 0 | 0 | ⋯ | 0 | 1 | 0 | 0 | 0 | 0 | 0 | 0 | 0 | 0 |\n",
       "| chr1 | 14282 | 14614 | chr1:14282-14614 | 0 | 0 | 0 | 0 | 0 | 0 | ⋯ | 0 | 1 | 0 | 0 | 0 | 0 | 0 | 0 | 0 | 0 |\n",
       "| chr1 | 16025 | 16338 | chr1:16025-16338 | 0 | 0 | 0 | 0 | 0 | 0 | ⋯ | 0 | 1 | 0 | 0 | 0 | 0 | 0 | 0 | 1 | 0 |\n",
       "\n"
      ],
      "text/plain": [
       "  Chrom ChromStart ChromEnd Region           Biv CA-CTCF CA-H3K4me3 CA-only\n",
       "1 chr1  10038      10405    chr1:10038-10405 0   0       0          0      \n",
       "2 chr1  14282      14614    chr1:14282-14614 0   0       0          0      \n",
       "3 chr1  16025      16338    chr1:16025-16338 0   0       0          0      \n",
       "  CA-TF dELS ⋯ PLS Quies ReprPC Tss TssFlnk TssFlnkD TssFlnkU Tx TxWk ZNF/Rpts\n",
       "1 0     0    ⋯ 0   1     0      0   0       0        0        0  0    0       \n",
       "2 0     0    ⋯ 0   1     0      0   0       0        0        0  0    0       \n",
       "3 0     0    ⋯ 0   1     0      0   0       0        0        0  1    0       "
      ]
     },
     "metadata": {},
     "output_type": "display_data"
    }
   ],
   "source": [
    "lst = lst_mat\n",
    "head(lst[[1]], 3)"
   ]
  },
  {
   "cell_type": "code",
   "execution_count": 30,
   "id": "2b112279-85c7-423d-b14b-9e2341f35d69",
   "metadata": {},
   "outputs": [
    {
     "name": "stdout",
     "output_type": "stream",
     "text": [
      "encode_chromatin_states.full \n",
      "region.summary.encode_chromatin_states.full.tsv \n",
      "encode_chromatin_states.ccres \n",
      "region.summary.encode_chromatin_states.ccres.tsv \n",
      "encode_chromatin_states.chromhmm \n",
      "region.summary.encode_chromatin_states.chromhmm.tsv \n"
     ]
    }
   ],
   "source": [
    "txt_fdiry = file.path(\n",
    "    FD_RES, \n",
    "    \"region_annotation\", \n",
    "    \"fcc_astarr_macs_input_overlap\",\n",
    "    \"summary\"\n",
    ")\n",
    "\n",
    "lst = lst_dat\n",
    "for (idx in names(lst)){\n",
    "    dat = lst[[idx]]\n",
    "    cat(idx, \"\\n\")\n",
    "    \n",
    "    txt_fname = paste(\"region\", \"summary\", idx, \"tsv\", sep = \".\")\n",
    "    txt_fpath = file.path(txt_fdiry, txt_fname)\n",
    "    cat(txt_fname, \"\\n\")\n",
    "\n",
    "    write_tsv(dat, txt_fpath)\n",
    "}"
   ]
  },
  {
   "cell_type": "code",
   "execution_count": 31,
   "id": "7beb4731-90f8-4807-a18f-05b65653e69b",
   "metadata": {},
   "outputs": [
    {
     "name": "stdout",
     "output_type": "stream",
     "text": [
      "encode_chromatin_states.full \n",
      "matrix.annotation.encode_chromatin_states.full.tsv \n",
      "encode_chromatin_states.ccres \n",
      "matrix.annotation.encode_chromatin_states.ccres.tsv \n",
      "encode_chromatin_states.chromhmm \n",
      "matrix.annotation.encode_chromatin_states.chromhmm.tsv \n"
     ]
    }
   ],
   "source": [
    "txt_fdiry = file.path(\n",
    "    FD_RES, \n",
    "    \"region_annotation\", \n",
    "    \"fcc_astarr_macs_input_overlap\",\n",
    "    \"summary\"\n",
    ")\n",
    "\n",
    "lst = lst_mat\n",
    "for (idx in names(lst)){\n",
    "    dat = lst[[idx]]\n",
    "    cat(idx, \"\\n\")\n",
    "    \n",
    "    txt_fname = paste(\"matrix\", \"annotation\", idx, \"tsv\", sep = \".\")\n",
    "    txt_fpath = file.path(txt_fdiry, txt_fname)\n",
    "    cat(txt_fname, \"\\n\")\n",
    "\n",
    "    write_tsv(dat, txt_fpath)\n",
    "}"
   ]
  },
  {
   "cell_type": "code",
   "execution_count": null,
   "id": "5867f37d-3a8c-4b8b-92ea-2593c84a106c",
   "metadata": {},
   "outputs": [],
   "source": []
  }
 ],
 "metadata": {
  "kernelspec": {
   "display_name": "R",
   "language": "R",
   "name": "ir"
  },
  "language_info": {
   "codemirror_mode": "r",
   "file_extension": ".r",
   "mimetype": "text/x-r-source",
   "name": "R",
   "pygments_lexer": "r",
   "version": "4.4.1"
  }
 },
 "nbformat": 4,
 "nbformat_minor": 5
}
