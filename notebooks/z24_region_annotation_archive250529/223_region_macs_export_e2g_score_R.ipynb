{
 "cells": [
  {
   "cell_type": "raw",
   "id": "2eb8ea30-45ef-41c6-803c-ed4530adbb4c",
   "metadata": {},
   "source": [
    "---\n",
    "title: Region annotation 11 (ASTARR MACS peaks)\n",
    "subtitle: Summarize annotations (Main)\n",
    "format:\n",
    "    html:\n",
    "        code-fold:  true\n",
    "        code-tools: true\n",
    "---"
   ]
  },
  {
   "cell_type": "markdown",
   "id": "ca66039d-5678-4f21-aa83-abb8c2e19ee1",
   "metadata": {},
   "source": [
    "**Set environment**"
   ]
  },
  {
   "cell_type": "code",
   "execution_count": 1,
   "id": "a2fc94af-4b1d-4c5d-9f4f-de320e3be72a",
   "metadata": {
    "tags": []
   },
   "outputs": [
    {
     "name": "stdout",
     "output_type": "stream",
     "text": [
      "You are working on        Singularity: singularity_proj_encode_fcc \n",
      "BASE DIRECTORY (FD_BASE): /data/reddylab/Kuei \n",
      "REPO DIRECTORY (FD_REPO): /data/reddylab/Kuei/repo \n",
      "WORK DIRECTORY (FD_WORK): /data/reddylab/Kuei/work \n",
      "DATA DIRECTORY (FD_DATA): /data/reddylab/Kuei/data \n",
      "\n",
      "You are working with      ENCODE FCC \n",
      "PATH OF PROJECT (FD_PRJ): /data/reddylab/Kuei/repo/Proj_ENCODE_FCC \n",
      "PROJECT RESULTS (FD_RES): /data/reddylab/Kuei/repo/Proj_ENCODE_FCC/results \n",
      "PROJECT SCRIPTS (FD_EXE): /data/reddylab/Kuei/repo/Proj_ENCODE_FCC/scripts \n",
      "PROJECT DATA    (FD_DAT): /data/reddylab/Kuei/repo/Proj_ENCODE_FCC/data \n",
      "PROJECT NOTE    (FD_NBK): /data/reddylab/Kuei/repo/Proj_ENCODE_FCC/notebooks \n",
      "PROJECT DOCS    (FD_DOC): /data/reddylab/Kuei/repo/Proj_ENCODE_FCC/docs \n",
      "PROJECT LOG     (FD_LOG): /data/reddylab/Kuei/repo/Proj_ENCODE_FCC/log \n",
      "PROJECT REF     (FD_REF): /data/reddylab/Kuei/repo/Proj_ENCODE_FCC/references \n",
      "\n"
     ]
    }
   ],
   "source": [
    "suppressMessages(suppressWarnings(source(\"../run_config_project_sing.R\")))\n",
    "show_env()"
   ]
  },
  {
   "cell_type": "markdown",
   "id": "118d7db1-1c4c-4e5a-a2ea-116a2ad16dfd",
   "metadata": {},
   "source": [
    "**Set global variables**"
   ]
  },
  {
   "cell_type": "code",
   "execution_count": 2,
   "id": "6d73da94-5f68-470e-ab6d-0e33cf35bb78",
   "metadata": {},
   "outputs": [
    {
     "name": "stdout",
     "output_type": "stream",
     "text": [
      "matrix.annotation.fcc_peak_call.tsv \n",
      "matrix.annotation.genome_tss.tsv \n",
      "region.annotation.encode_chipseq_flagship.tmp.tsv \n",
      "region.annotation.encode_chipseq_flagship.tsv \n",
      "region.annotation.encode_chipseq_histone.tsv \n",
      "region.annotation.encode_chipseq_subset.tsv \n",
      "region.annotation.encode_chromatin_states.tsv \n",
      "region.annotation.encode_e2g_benchmark.tsv \n",
      "region.annotation.fcc_astarr_csaw.tsv \n",
      "region.annotation.fcc_crispri_growth.tsv \n",
      "region.annotation.fcc_crispri_hcrff.tsv \n",
      "region.annotation.fcc_mpra_agarwal2023.tsv \n",
      "region.annotation.fcc_starrmpra_junke.tsv \n",
      "region.annotation.genome_tss.tsv \n",
      "region.annotation.module_tf_shannon.tsv \n",
      "region.intersect.encode_chipseq_flagship.tmp.tsv \n",
      "region.intersect.encode_chipseq_flagship.tsv \n",
      "region.intersect.encode_chipseq_histone.tsv \n",
      "region.intersect.encode_chipseq_subset.tsv \n",
      "region.intersect.encode_chromatin_states.tsv \n",
      "region.intersect.encode_e2g_benchmark.tsv \n",
      "region.intersect.fcc_astarr_csaw.tsv \n",
      "region.intersect.fcc_crispri_growth.tsv \n",
      "region.intersect.fcc_crispri_hcrff.tsv \n",
      "region.intersect.fcc_mpra_agarwal2023.tsv \n",
      "region.intersect.fcc_starrmpra_junke.tsv \n",
      "region.intersect.genome_tss.tsv \n",
      "region.intersect.module_tf_shannon.tsv \n",
      "region.summary.fcc_peak_call.assayvote.tsv \n",
      "region.summary.fcc_peak_call.tsv \n",
      "region.summary.genome_tss.tsv \n"
     ]
    }
   ],
   "source": [
    "txt_fdiry = file.path(FD_RES, \"region_annotation\", \"fcc_astarr_macs_input_overlap\", \"summary\")\n",
    "vec = dir(txt_fdiry)\n",
    "for (txt in vec){cat(txt, \"\\n\")}"
   ]
  },
  {
   "cell_type": "markdown",
   "id": "037dd385-a0f2-4b95-bdb7-41e3e44aec08",
   "metadata": {},
   "source": [
    "## Import data"
   ]
  },
  {
   "cell_type": "code",
   "execution_count": 3,
   "id": "1cfe8f4a-9e80-4468-badd-0ada28c8f96c",
   "metadata": {},
   "outputs": [
    {
     "name": "stdout",
     "output_type": "stream",
     "text": [
      "[1] 3236   10\n"
     ]
    },
    {
     "data": {
      "text/html": [
       "<table>\n",
       " <thead>\n",
       "  <tr>\n",
       "   <th style=\"text-align:left;\"> Chrom </th>\n",
       "   <th style=\"text-align:right;\"> ChromStart </th>\n",
       "   <th style=\"text-align:right;\"> ChromEnd </th>\n",
       "   <th style=\"text-align:left;\"> Region </th>\n",
       "   <th style=\"text-align:left;\"> Annotation_A </th>\n",
       "   <th style=\"text-align:left;\"> Annotation_B </th>\n",
       "   <th style=\"text-align:left;\"> Group </th>\n",
       "   <th style=\"text-align:left;\"> Label </th>\n",
       "   <th style=\"text-align:left;\"> Region_Annot </th>\n",
       "   <th style=\"text-align:right;\"> Region_Count </th>\n",
       "  </tr>\n",
       " </thead>\n",
       "<tbody>\n",
       "  <tr>\n",
       "   <td style=\"text-align:left;\"> chr1 </td>\n",
       "   <td style=\"text-align:right;\"> 3774056 </td>\n",
       "   <td style=\"text-align:right;\"> 3776283 </td>\n",
       "   <td style=\"text-align:left;\"> chr1:3774056-3776283 </td>\n",
       "   <td style=\"text-align:left;\"> fcc_astarr_macs_input_overlap </td>\n",
       "   <td style=\"text-align:left;\"> encode_e2g_benchmark </td>\n",
       "   <td style=\"text-align:left;\"> E2G-Benchmark </td>\n",
       "   <td style=\"text-align:left;\"> Regulated:TRUE </td>\n",
       "   <td style=\"text-align:left;\"> chr1:3774714-3775214;chr1:3774714-3775214;chr1:3774714-3775214 </td>\n",
       "   <td style=\"text-align:right;\"> 3 </td>\n",
       "  </tr>\n",
       "  <tr>\n",
       "   <td style=\"text-align:left;\"> chr1 </td>\n",
       "   <td style=\"text-align:right;\"> 3803955 </td>\n",
       "   <td style=\"text-align:right;\"> 3806146 </td>\n",
       "   <td style=\"text-align:left;\"> chr1:3803955-3806146 </td>\n",
       "   <td style=\"text-align:left;\"> fcc_astarr_macs_input_overlap </td>\n",
       "   <td style=\"text-align:left;\"> encode_e2g_benchmark </td>\n",
       "   <td style=\"text-align:left;\"> E2G-Benchmark </td>\n",
       "   <td style=\"text-align:left;\"> Regulated:FALSE </td>\n",
       "   <td style=\"text-align:left;\"> chr1:3803570-3805848;chr1:3803570-3805848 </td>\n",
       "   <td style=\"text-align:right;\"> 2 </td>\n",
       "  </tr>\n",
       "  <tr>\n",
       "   <td style=\"text-align:left;\"> chr1 </td>\n",
       "   <td style=\"text-align:right;\"> 4126841 </td>\n",
       "   <td style=\"text-align:right;\"> 4128109 </td>\n",
       "   <td style=\"text-align:left;\"> chr1:4126841-4128109 </td>\n",
       "   <td style=\"text-align:left;\"> fcc_astarr_macs_input_overlap </td>\n",
       "   <td style=\"text-align:left;\"> encode_e2g_benchmark </td>\n",
       "   <td style=\"text-align:left;\"> E2G-Benchmark </td>\n",
       "   <td style=\"text-align:left;\"> Regulated:FALSE </td>\n",
       "   <td style=\"text-align:left;\"> chr1:4126791-4127291 </td>\n",
       "   <td style=\"text-align:right;\"> 1 </td>\n",
       "  </tr>\n",
       "</tbody>\n",
       "</table>"
      ]
     },
     "metadata": {},
     "output_type": "display_data"
    }
   ],
   "source": [
    "txt_fdiry = file.path(FD_RES, \"region_annotation\", \"fcc_astarr_macs_input_overlap\", \"summary\")\n",
    "txt_fname = \"region.annotation.encode_e2g_benchmark.tsv\"\n",
    "txt_fpath = file.path(txt_fdiry, txt_fname)\n",
    "\n",
    "dat = read_tsv(txt_fpath, show_col_types = FALSE)\n",
    "\n",
    "### assign and show\n",
    "dat_region_annot_pair = dat\n",
    "print(dim(dat))\n",
    "fun_display_table(head(dat, 3))"
   ]
  },
  {
   "cell_type": "code",
   "execution_count": 3,
   "id": "d782edad-ca16-4f6b-ba69-14dc7efedb55",
   "metadata": {},
   "outputs": [
    {
     "name": "stdout",
     "output_type": "stream",
     "text": [
      "[1] 8770   19\n"
     ]
    },
    {
     "data": {
      "text/html": [
       "<table>\n",
       " <thead>\n",
       "  <tr>\n",
       "   <th style=\"text-align:left;\"> Chrom_A </th>\n",
       "   <th style=\"text-align:right;\"> ChromStart_A </th>\n",
       "   <th style=\"text-align:right;\"> ChromEnd_A </th>\n",
       "   <th style=\"text-align:left;\"> Chrom_B </th>\n",
       "   <th style=\"text-align:right;\"> ChromStart_B </th>\n",
       "   <th style=\"text-align:right;\"> ChromEnd_B </th>\n",
       "   <th style=\"text-align:left;\"> Name_B </th>\n",
       "   <th style=\"text-align:right;\"> Score_B </th>\n",
       "   <th style=\"text-align:left;\"> Region_B </th>\n",
       "   <th style=\"text-align:left;\"> Target_B </th>\n",
       "   <th style=\"text-align:right;\"> NLog10P_B </th>\n",
       "   <th style=\"text-align:left;\"> Regulated_B </th>\n",
       "   <th style=\"text-align:left;\"> Source_B </th>\n",
       "   <th style=\"text-align:left;\"> Group_B </th>\n",
       "   <th style=\"text-align:left;\"> Label_B </th>\n",
       "   <th style=\"text-align:right;\"> Overlap </th>\n",
       "   <th style=\"text-align:left;\"> Region_A </th>\n",
       "   <th style=\"text-align:left;\"> Annotation_A </th>\n",
       "   <th style=\"text-align:left;\"> Annotation_B </th>\n",
       "  </tr>\n",
       " </thead>\n",
       "<tbody>\n",
       "  <tr>\n",
       "   <td style=\"text-align:left;\"> chr1 </td>\n",
       "   <td style=\"text-align:right;\"> 3774056 </td>\n",
       "   <td style=\"text-align:right;\"> 3776283 </td>\n",
       "   <td style=\"text-align:left;\"> chr1 </td>\n",
       "   <td style=\"text-align:right;\"> 3774714 </td>\n",
       "   <td style=\"text-align:right;\"> 3775214 </td>\n",
       "   <td style=\"text-align:left;\"> CEP104|chr1:3691278-3691778:* </td>\n",
       "   <td style=\"text-align:right;\"> -0.2934319 </td>\n",
       "   <td style=\"text-align:left;\"> chr1:3774714-3775214 </td>\n",
       "   <td style=\"text-align:left;\"> CEP104 </td>\n",
       "   <td style=\"text-align:right;\"> 2.395344 </td>\n",
       "   <td style=\"text-align:left;\"> TRUE </td>\n",
       "   <td style=\"text-align:left;\"> Ulirsch2016 </td>\n",
       "   <td style=\"text-align:left;\"> E2G-Benchmark </td>\n",
       "   <td style=\"text-align:left;\"> Regulated:TRUE </td>\n",
       "   <td style=\"text-align:right;\"> 500 </td>\n",
       "   <td style=\"text-align:left;\"> chr1:3774056-3776283 </td>\n",
       "   <td style=\"text-align:left;\"> fcc_astarr_macs_input_overlap </td>\n",
       "   <td style=\"text-align:left;\"> encode_e2g_benchmark </td>\n",
       "  </tr>\n",
       "  <tr>\n",
       "   <td style=\"text-align:left;\"> chr1 </td>\n",
       "   <td style=\"text-align:right;\"> 3774056 </td>\n",
       "   <td style=\"text-align:right;\"> 3776283 </td>\n",
       "   <td style=\"text-align:left;\"> chr1 </td>\n",
       "   <td style=\"text-align:right;\"> 3774714 </td>\n",
       "   <td style=\"text-align:right;\"> 3775214 </td>\n",
       "   <td style=\"text-align:left;\"> LRRC47|chr1:3691278-3691778:* </td>\n",
       "   <td style=\"text-align:right;\"> -0.3311781 </td>\n",
       "   <td style=\"text-align:left;\"> chr1:3774714-3775214 </td>\n",
       "   <td style=\"text-align:left;\"> LRRC47 </td>\n",
       "   <td style=\"text-align:right;\"> 2.109514 </td>\n",
       "   <td style=\"text-align:left;\"> TRUE </td>\n",
       "   <td style=\"text-align:left;\"> Ulirsch2016 </td>\n",
       "   <td style=\"text-align:left;\"> E2G-Benchmark </td>\n",
       "   <td style=\"text-align:left;\"> Regulated:TRUE </td>\n",
       "   <td style=\"text-align:right;\"> 500 </td>\n",
       "   <td style=\"text-align:left;\"> chr1:3774056-3776283 </td>\n",
       "   <td style=\"text-align:left;\"> fcc_astarr_macs_input_overlap </td>\n",
       "   <td style=\"text-align:left;\"> encode_e2g_benchmark </td>\n",
       "  </tr>\n",
       "  <tr>\n",
       "   <td style=\"text-align:left;\"> chr1 </td>\n",
       "   <td style=\"text-align:right;\"> 3774056 </td>\n",
       "   <td style=\"text-align:right;\"> 3776283 </td>\n",
       "   <td style=\"text-align:left;\"> chr1 </td>\n",
       "   <td style=\"text-align:right;\"> 3774714 </td>\n",
       "   <td style=\"text-align:right;\"> 3775214 </td>\n",
       "   <td style=\"text-align:left;\"> SMIM1|chr1:3691278-3691778:* </td>\n",
       "   <td style=\"text-align:right;\"> -0.4720192 </td>\n",
       "   <td style=\"text-align:left;\"> chr1:3774714-3775214 </td>\n",
       "   <td style=\"text-align:left;\"> SMIM1 </td>\n",
       "   <td style=\"text-align:right;\"> 3.192703 </td>\n",
       "   <td style=\"text-align:left;\"> TRUE </td>\n",
       "   <td style=\"text-align:left;\"> Ulirsch2016 </td>\n",
       "   <td style=\"text-align:left;\"> E2G-Benchmark </td>\n",
       "   <td style=\"text-align:left;\"> Regulated:TRUE </td>\n",
       "   <td style=\"text-align:right;\"> 500 </td>\n",
       "   <td style=\"text-align:left;\"> chr1:3774056-3776283 </td>\n",
       "   <td style=\"text-align:left;\"> fcc_astarr_macs_input_overlap </td>\n",
       "   <td style=\"text-align:left;\"> encode_e2g_benchmark </td>\n",
       "  </tr>\n",
       "</tbody>\n",
       "</table>"
      ]
     },
     "metadata": {},
     "output_type": "display_data"
    }
   ],
   "source": [
    "txt_fdiry = file.path(FD_RES, \"region_annotation\", \"fcc_astarr_macs_input_overlap\", \"summary\")\n",
    "txt_fname = \"region.intersect.encode_e2g_benchmark.tsv\"\n",
    "txt_fpath = file.path(txt_fdiry, txt_fname)\n",
    "\n",
    "dat = read_tsv(txt_fpath, show_col_types = FALSE)\n",
    "\n",
    "### assign and show\n",
    "dat_region_annot_pair = dat\n",
    "print(dim(dat))\n",
    "fun_display_table(head(dat, 3))"
   ]
  },
  {
   "cell_type": "code",
   "execution_count": 4,
   "id": "679e41c8-b218-46da-8182-e2d3e7df0d91",
   "metadata": {},
   "outputs": [
    {
     "data": {
      "text/plain": [
       "\n",
       "Regulated:FALSE  Regulated:TRUE \n",
       "           8323             447 "
      ]
     },
     "metadata": {},
     "output_type": "display_data"
    }
   ],
   "source": [
    "dat = dat_region_annot_pair\n",
    "table(dat$Label_B)"
   ]
  },
  {
   "cell_type": "code",
   "execution_count": 5,
   "id": "57a442f6-5cf7-4b05-8991-553923cb8001",
   "metadata": {},
   "outputs": [
    {
     "name": "stdout",
     "output_type": "stream",
     "text": [
      "[1] 447  19\n"
     ]
    }
   ],
   "source": [
    "dat = dat_region_annot_pair\n",
    "dat = dat %>% dplyr::filter(Regulated_B)\n",
    "print(dim(dat))"
   ]
  },
  {
   "cell_type": "markdown",
   "id": "80bb892d-97f0-499b-8073-d4b95007a3a6",
   "metadata": {},
   "source": [
    "## Arrange table"
   ]
  },
  {
   "cell_type": "code",
   "execution_count": 7,
   "id": "4fe1f379-f0d2-477e-8468-687361a37978",
   "metadata": {},
   "outputs": [
    {
     "name": "stdout",
     "output_type": "stream",
     "text": [
      "[1] 8770   10\n"
     ]
    },
    {
     "data": {
      "text/html": [
       "<table>\n",
       " <thead>\n",
       "  <tr>\n",
       "   <th style=\"text-align:left;\"> Chrom </th>\n",
       "   <th style=\"text-align:right;\"> ChromStart </th>\n",
       "   <th style=\"text-align:right;\"> ChromEnd </th>\n",
       "   <th style=\"text-align:left;\"> Region </th>\n",
       "   <th style=\"text-align:left;\"> Group </th>\n",
       "   <th style=\"text-align:left;\"> Target </th>\n",
       "   <th style=\"text-align:right;\"> Score </th>\n",
       "   <th style=\"text-align:right;\"> NLog10P </th>\n",
       "   <th style=\"text-align:left;\"> Regulated </th>\n",
       "   <th style=\"text-align:left;\"> Source </th>\n",
       "  </tr>\n",
       " </thead>\n",
       "<tbody>\n",
       "  <tr>\n",
       "   <td style=\"text-align:left;\"> chr1 </td>\n",
       "   <td style=\"text-align:right;\"> 3774056 </td>\n",
       "   <td style=\"text-align:right;\"> 3776283 </td>\n",
       "   <td style=\"text-align:left;\"> chr1:3774056-3776283 </td>\n",
       "   <td style=\"text-align:left;\"> E2G-Benchmark </td>\n",
       "   <td style=\"text-align:left;\"> CEP104 </td>\n",
       "   <td style=\"text-align:right;\"> -0.2934319 </td>\n",
       "   <td style=\"text-align:right;\"> 2.395344 </td>\n",
       "   <td style=\"text-align:left;\"> TRUE </td>\n",
       "   <td style=\"text-align:left;\"> Ulirsch2016 </td>\n",
       "  </tr>\n",
       "  <tr>\n",
       "   <td style=\"text-align:left;\"> chr1 </td>\n",
       "   <td style=\"text-align:right;\"> 3774056 </td>\n",
       "   <td style=\"text-align:right;\"> 3776283 </td>\n",
       "   <td style=\"text-align:left;\"> chr1:3774056-3776283 </td>\n",
       "   <td style=\"text-align:left;\"> E2G-Benchmark </td>\n",
       "   <td style=\"text-align:left;\"> LRRC47 </td>\n",
       "   <td style=\"text-align:right;\"> -0.3311781 </td>\n",
       "   <td style=\"text-align:right;\"> 2.109514 </td>\n",
       "   <td style=\"text-align:left;\"> TRUE </td>\n",
       "   <td style=\"text-align:left;\"> Ulirsch2016 </td>\n",
       "  </tr>\n",
       "  <tr>\n",
       "   <td style=\"text-align:left;\"> chr1 </td>\n",
       "   <td style=\"text-align:right;\"> 3774056 </td>\n",
       "   <td style=\"text-align:right;\"> 3776283 </td>\n",
       "   <td style=\"text-align:left;\"> chr1:3774056-3776283 </td>\n",
       "   <td style=\"text-align:left;\"> E2G-Benchmark </td>\n",
       "   <td style=\"text-align:left;\"> SMIM1 </td>\n",
       "   <td style=\"text-align:right;\"> -0.4720192 </td>\n",
       "   <td style=\"text-align:right;\"> 3.192703 </td>\n",
       "   <td style=\"text-align:left;\"> TRUE </td>\n",
       "   <td style=\"text-align:left;\"> Ulirsch2016 </td>\n",
       "  </tr>\n",
       "</tbody>\n",
       "</table>"
      ]
     },
     "metadata": {},
     "output_type": "display_data"
    }
   ],
   "source": [
    "vec_txt_input = c(\n",
    "    \"Chrom_A\", \"ChromStart_A\", \"ChromEnd_A\", \"Region_A\",\n",
    "    \"Group_B\", \n",
    "    \"Target_B\", \n",
    "    \"Score_B\", \n",
    "    \"NLog10P_B\",\n",
    "    \"Regulated_B\",\n",
    "    \"Source_B\"\n",
    ")\n",
    "vec_txt_output = c(\n",
    "    \"Chrom\", \"ChromStart\", \"ChromEnd\", \"Region\",\n",
    "    \"Group\", \n",
    "    \"Target\", \n",
    "    \"Score\", \n",
    "    \"NLog10P\", \n",
    "    \"Regulated\",\n",
    "    \"Source\"\n",
    ")\n",
    "\n",
    "dat = dat_region_annot_pair\n",
    "dat = dat %>% dplyr::select(!!!vec_txt_input) \n",
    "colnames(dat) = vec_txt_output\n",
    "\n",
    "dat_region_annot_arrange = dat\n",
    "print(dim(dat))\n",
    "fun_display_table(head(dat, 3))"
   ]
  },
  {
   "cell_type": "markdown",
   "id": "7b203c5b-73c2-48ed-bb1c-dc0cdd189bfd",
   "metadata": {},
   "source": [
    "## Explore"
   ]
  },
  {
   "cell_type": "code",
   "execution_count": 8,
   "id": "986ae040-c2ad-4cb0-a5d3-1d5bd9216c91",
   "metadata": {},
   "outputs": [
    {
     "data": {
      "text/plain": [
       "       \n",
       "         neg  pos\n",
       "  FALSE 4670 3653\n",
       "  TRUE   447    0"
      ]
     },
     "metadata": {},
     "output_type": "display_data"
    }
   ],
   "source": [
    "dat = dat_region_annot_arrange\n",
    "dat = dat %>% dplyr::mutate(Sign = ifelse(Score > 0, \"pos\", \"neg\"))\n",
    "table(dat$Regulated, dat$Sign)"
   ]
  },
  {
   "cell_type": "code",
   "execution_count": 26,
   "id": "cb51f434-14ef-4447-9ae7-71e165423477",
   "metadata": {},
   "outputs": [
    {
     "data": {
      "text/plain": [
       "       \n",
       "         neg  pos\n",
       "  FALSE 3339 4984\n",
       "  TRUE   442    5"
      ]
     },
     "metadata": {},
     "output_type": "display_data"
    }
   ],
   "source": [
    "dat = dat_region_annot_arrange\n",
    "dat = dat %>% \n",
    "    dplyr::mutate(ZScore = scale(Score)) %>%\n",
    "    dplyr::mutate(Sign = ifelse(ZScore > 0, \"pos\", \"neg\"))\n",
    "table(dat$Regulated, dat$Sign)"
   ]
  },
  {
   "cell_type": "code",
   "execution_count": 27,
   "id": "c52d2072-39ad-445c-9d7d-640ebfdf9724",
   "metadata": {},
   "outputs": [
    {
     "name": "stdout",
     "output_type": "stream",
     "text": [
      "[1] -0.01096219\n"
     ]
    },
    {
     "data": {
      "image/png": "[encoded data removed]",
      "text/plain": [
       "plot without title"
      ]
     },
     "metadata": {
      "image/png": {
       "height": 300,
       "width": 420
      }
     },
     "output_type": "display_data"
    }
   ],
   "source": [
    "dat = dat_region_annot_arrange\n",
    "gpt = ggplot(dat, aes(x=Score)) +\n",
    "    geom_histogram(bins = 50) +\n",
    "    theme_cowplot() +\n",
    "    background_grid()\n",
    "\n",
    "options(repr.plot.width=7, repr.plot.height=5)\n",
    "print(mean(dat$Score))\n",
    "print(gpt)"
   ]
  },
  {
   "cell_type": "markdown",
   "id": "1541b923-21ad-4763-b38d-5e5a817408df",
   "metadata": {},
   "source": [
    "## Summary: Score"
   ]
  },
  {
   "cell_type": "code",
   "execution_count": 9,
   "id": "583dd80d-3ae1-45a9-8fe4-56ca9aca0184",
   "metadata": {},
   "outputs": [],
   "source": [
    "fun_get_absmax = function(x){ x[which.max(abs(x))] }"
   ]
  },
  {
   "cell_type": "code",
   "execution_count": 10,
   "id": "ba3d0391-2980-46f6-860f-2ecf333bffcf",
   "metadata": {},
   "outputs": [
    {
     "name": "stdout",
     "output_type": "stream",
     "text": [
      "[1] 3035   10\n"
     ]
    },
    {
     "data": {
      "text/html": [
       "<table>\n",
       " <thead>\n",
       "  <tr>\n",
       "   <th style=\"text-align:left;\"> Chrom </th>\n",
       "   <th style=\"text-align:right;\"> ChromStart </th>\n",
       "   <th style=\"text-align:right;\"> ChromEnd </th>\n",
       "   <th style=\"text-align:left;\"> Region </th>\n",
       "   <th style=\"text-align:left;\"> Group </th>\n",
       "   <th style=\"text-align:left;\"> Target </th>\n",
       "   <th style=\"text-align:right;\"> Score </th>\n",
       "   <th style=\"text-align:right;\"> NLog10P </th>\n",
       "   <th style=\"text-align:left;\"> Regulated </th>\n",
       "   <th style=\"text-align:left;\"> Source </th>\n",
       "  </tr>\n",
       " </thead>\n",
       "<tbody>\n",
       "  <tr>\n",
       "   <td style=\"text-align:left;\"> chr10 </td>\n",
       "   <td style=\"text-align:right;\"> 100370621 </td>\n",
       "   <td style=\"text-align:right;\"> 100371621 </td>\n",
       "   <td style=\"text-align:left;\"> chr10:100370621-100371621 </td>\n",
       "   <td style=\"text-align:left;\"> E2G-Benchmark </td>\n",
       "   <td style=\"text-align:left;\"> SCD </td>\n",
       "   <td style=\"text-align:right;\"> -0.0453927 </td>\n",
       "   <td style=\"text-align:right;\"> 0.1944848 </td>\n",
       "   <td style=\"text-align:left;\"> FALSE </td>\n",
       "   <td style=\"text-align:left;\"> Gasperini et al., 2019 </td>\n",
       "  </tr>\n",
       "  <tr>\n",
       "   <td style=\"text-align:left;\"> chr10 </td>\n",
       "   <td style=\"text-align:right;\"> 103965924 </td>\n",
       "   <td style=\"text-align:right;\"> 103967748 </td>\n",
       "   <td style=\"text-align:left;\"> chr10:103965924-103967748 </td>\n",
       "   <td style=\"text-align:left;\"> E2G-Benchmark </td>\n",
       "   <td style=\"text-align:left;\"> USMG5 </td>\n",
       "   <td style=\"text-align:right;\"> -0.0443076 </td>\n",
       "   <td style=\"text-align:right;\"> 0.0386363 </td>\n",
       "   <td style=\"text-align:left;\"> FALSE </td>\n",
       "   <td style=\"text-align:left;\"> Gasperini et al., 2019 </td>\n",
       "  </tr>\n",
       "  <tr>\n",
       "   <td style=\"text-align:left;\"> chr10 </td>\n",
       "   <td style=\"text-align:right;\"> 110857401 </td>\n",
       "   <td style=\"text-align:right;\"> 110858807 </td>\n",
       "   <td style=\"text-align:left;\"> chr10:110857401-110858807 </td>\n",
       "   <td style=\"text-align:left;\"> E2G-Benchmark </td>\n",
       "   <td style=\"text-align:left;\"> SMC3 </td>\n",
       "   <td style=\"text-align:right;\"> -0.0435389 </td>\n",
       "   <td style=\"text-align:right;\"> 0.2316810 </td>\n",
       "   <td style=\"text-align:left;\"> FALSE </td>\n",
       "   <td style=\"text-align:left;\"> Gasperini et al., 2019 </td>\n",
       "  </tr>\n",
       "</tbody>\n",
       "</table>"
      ]
     },
     "metadata": {},
     "output_type": "display_data"
    }
   ],
   "source": [
    "### preprocess\n",
    "dat = dat_region_annot_arrange\n",
    "dat = dat %>% dplyr::mutate(Score_Abs = abs(Score))\n",
    "\n",
    "### summarize scores for each region\n",
    "dat = dat %>%\n",
    "    dplyr::group_by(Region) %>%\n",
    "    dplyr::slice_max(NLog10P,   n = 1) %>%\n",
    "    dplyr::slice_max(Score_Abs, n = 1) %>%\n",
    "    dplyr::ungroup() %>%\n",
    "    dplyr::select(-Score_Abs)\n",
    "\n",
    "dat_region_score_summary = dat\n",
    "print(dim(dat))\n",
    "fun_display_table(head(dat, 3))"
   ]
  },
  {
   "cell_type": "markdown",
   "id": "85d951f2-35d4-454a-bafa-6c83ab44b984",
   "metadata": {},
   "source": [
    "## Summary: Annotation"
   ]
  },
  {
   "cell_type": "code",
   "execution_count": 11,
   "id": "f732fe67-b068-47dd-b8f1-8cce5c881efe",
   "metadata": {},
   "outputs": [
    {
     "name": "stdout",
     "output_type": "stream",
     "text": [
      "[1] 3035    6\n"
     ]
    },
    {
     "data": {
      "text/html": [
       "<table class=\"dataframe\">\n",
       "<caption>A tibble: 3 × 6</caption>\n",
       "<thead>\n",
       "\t<tr><th scope=col>Chrom</th><th scope=col>ChromStart</th><th scope=col>ChromEnd</th><th scope=col>Region</th><th scope=col>Regulated_Ifany</th><th scope=col>Regulated_Count</th></tr>\n",
       "\t<tr><th scope=col>&lt;chr&gt;</th><th scope=col>&lt;dbl&gt;</th><th scope=col>&lt;dbl&gt;</th><th scope=col>&lt;chr&gt;</th><th scope=col>&lt;lgl&gt;</th><th scope=col>&lt;int&gt;</th></tr>\n",
       "</thead>\n",
       "<tbody>\n",
       "\t<tr><td>chr1</td><td>3774056</td><td>3776283</td><td>chr1:3774056-3776283</td><td> TRUE</td><td>3</td></tr>\n",
       "\t<tr><td>chr1</td><td>3803955</td><td>3806146</td><td>chr1:3803955-3806146</td><td>FALSE</td><td>0</td></tr>\n",
       "\t<tr><td>chr1</td><td>4126841</td><td>4128109</td><td>chr1:4126841-4128109</td><td>FALSE</td><td>0</td></tr>\n",
       "</tbody>\n",
       "</table>\n"
      ],
      "text/latex": [
       "A tibble: 3 × 6\n",
       "\\begin{tabular}{llllll}\n",
       " Chrom & ChromStart & ChromEnd & Region & Regulated\\_Ifany & Regulated\\_Count\\\\\n",
       " <chr> & <dbl> & <dbl> & <chr> & <lgl> & <int>\\\\\n",
       "\\hline\n",
       "\t chr1 & 3774056 & 3776283 & chr1:3774056-3776283 &  TRUE & 3\\\\\n",
       "\t chr1 & 3803955 & 3806146 & chr1:3803955-3806146 & FALSE & 0\\\\\n",
       "\t chr1 & 4126841 & 4128109 & chr1:4126841-4128109 & FALSE & 0\\\\\n",
       "\\end{tabular}\n"
      ],
      "text/markdown": [
       "\n",
       "A tibble: 3 × 6\n",
       "\n",
       "| Chrom &lt;chr&gt; | ChromStart &lt;dbl&gt; | ChromEnd &lt;dbl&gt; | Region &lt;chr&gt; | Regulated_Ifany &lt;lgl&gt; | Regulated_Count &lt;int&gt; |\n",
       "|---|---|---|---|---|---|\n",
       "| chr1 | 3774056 | 3776283 | chr1:3774056-3776283 |  TRUE | 3 |\n",
       "| chr1 | 3803955 | 3806146 | chr1:3803955-3806146 | FALSE | 0 |\n",
       "| chr1 | 4126841 | 4128109 | chr1:4126841-4128109 | FALSE | 0 |\n",
       "\n"
      ],
      "text/plain": [
       "  Chrom ChromStart ChromEnd Region               Regulated_Ifany\n",
       "1 chr1  3774056    3776283  chr1:3774056-3776283  TRUE          \n",
       "2 chr1  3803955    3806146  chr1:3803955-3806146 FALSE          \n",
       "3 chr1  4126841    4128109  chr1:4126841-4128109 FALSE          \n",
       "  Regulated_Count\n",
       "1 3              \n",
       "2 0              \n",
       "3 0              "
      ]
     },
     "metadata": {},
     "output_type": "display_data"
    }
   ],
   "source": [
    "dat = dat_region_annot_arrange\n",
    "dat = dat %>%\n",
    "    dplyr::group_by(Chrom, ChromStart, ChromEnd, Region) %>%\n",
    "    dplyr::summarize(\n",
    "        Regulated_Ifany = any(Regulated),\n",
    "        Regulated_Count = sum(Regulated),\n",
    "        .groups = \"drop\"\n",
    "    )\n",
    "\n",
    "dat_region_annot_summary = dat\n",
    "print(dim(dat))\n",
    "head(dat, 3)"
   ]
  },
  {
   "cell_type": "code",
   "execution_count": 12,
   "id": "9129cbc2-c7d9-4004-9941-fba86bf16004",
   "metadata": {},
   "outputs": [
    {
     "data": {
      "text/plain": [
       "       \n",
       "           0    1    2    3    4    5\n",
       "  FALSE 2675    0    0    0    0    0\n",
       "  TRUE     0  299   44   10    5    2"
      ]
     },
     "metadata": {},
     "output_type": "display_data"
    }
   ],
   "source": [
    "table(\n",
    "    dat$Regulated_Ifany,\n",
    "    dat$Regulated_Count\n",
    ")"
   ]
  },
  {
   "cell_type": "markdown",
   "id": "53f8d086-792f-44cd-ad53-30ef9c68046d",
   "metadata": {},
   "source": [
    "## Check"
   ]
  },
  {
   "cell_type": "code",
   "execution_count": 18,
   "id": "57149e55-a96c-4e93-9a86-32d3ae4c4ddc",
   "metadata": {},
   "outputs": [
    {
     "name": "stdout",
     "output_type": "stream",
     "text": [
      "[1] 3035\n"
     ]
    }
   ],
   "source": [
    "dat = dat_region_annot_pair\n",
    "vec = dat$Region_A\n",
    "vec = unique(sort(vec))\n",
    "print(length(vec))"
   ]
  },
  {
   "cell_type": "code",
   "execution_count": 19,
   "id": "d559858f-d443-477c-bf97-c0ff269d486e",
   "metadata": {},
   "outputs": [
    {
     "name": "stdout",
     "output_type": "stream",
     "text": [
      "[1] 3035\n"
     ]
    }
   ],
   "source": [
    "dat = dat_region_annot_arrange\n",
    "vec = dat$Region\n",
    "vec = unique(sort(vec))\n",
    "print(length(vec))"
   ]
  },
  {
   "cell_type": "code",
   "execution_count": 20,
   "id": "422c359e-2764-47e9-8716-f73f725f0b4a",
   "metadata": {},
   "outputs": [
    {
     "name": "stdout",
     "output_type": "stream",
     "text": [
      "[1] 3035\n"
     ]
    }
   ],
   "source": [
    "dat = dat_region_annot_summary\n",
    "vec = dat$Region\n",
    "vec = unique(sort(vec))\n",
    "print(length(vec))"
   ]
  },
  {
   "cell_type": "code",
   "execution_count": 21,
   "id": "ee1dc998-861e-4be0-b664-f8fdbe9b854d",
   "metadata": {},
   "outputs": [
    {
     "name": "stdout",
     "output_type": "stream",
     "text": [
      "[1] 3035\n"
     ]
    }
   ],
   "source": [
    "dat = dat_region_score_summary\n",
    "vec = dat$Region\n",
    "vec = unique(sort(vec))\n",
    "print(length(vec))"
   ]
  },
  {
   "cell_type": "markdown",
   "id": "e1cf8628-49a9-4317-83b3-613a15de7162",
   "metadata": {},
   "source": [
    "## Export results"
   ]
  },
  {
   "cell_type": "code",
   "execution_count": 14,
   "id": "db91b5c2-7cb7-43b3-9512-2278fe3615dd",
   "metadata": {},
   "outputs": [],
   "source": [
    "txt_fdiry = file.path(FD_RES, \"region_annotation\", \"fcc_astarr_macs_input_overlap\", \"summary\")\n",
    "txt_fname = \"region.summary.encode_e2g_benchmark.score.tsv\"\n",
    "txt_fpath = file.path(txt_fdiry, txt_fname)\n",
    "\n",
    "dat = dat_region_score_summary\n",
    "write_tsv(dat, txt_fpath)"
   ]
  },
  {
   "cell_type": "code",
   "execution_count": 15,
   "id": "31787705-2d4c-4fd4-972f-4190aa353090",
   "metadata": {},
   "outputs": [],
   "source": [
    "txt_fdiry = file.path(FD_RES, \"region_annotation\", \"fcc_astarr_macs_input_overlap\", \"summary\")\n",
    "txt_fname = \"region.summary.encode_e2g_benchmark.regulated.tsv\"\n",
    "txt_fpath = file.path(txt_fdiry, txt_fname)\n",
    "\n",
    "dat = dat_region_annot_summary\n",
    "write_tsv(dat, txt_fpath)"
   ]
  },
  {
   "cell_type": "code",
   "execution_count": null,
   "id": "e6e89312-2d2b-48f1-836c-cdfc88616e19",
   "metadata": {},
   "outputs": [],
   "source": []
  },
  {
   "cell_type": "code",
   "execution_count": null,
   "id": "22b85c4d-15c8-4c13-96ab-70df59aa6b86",
   "metadata": {},
   "outputs": [],
   "source": []
  }
 ],
 "metadata": {
  "kernelspec": {
   "display_name": "R",
   "language": "R",
   "name": "ir"
  },
  "language_info": {
   "codemirror_mode": "r",
   "file_extension": ".r",
   "mimetype": "text/x-r-source",
   "name": "R",
   "pygments_lexer": "r",
   "version": "4.4.2"
  }
 },
 "nbformat": 4,
 "nbformat_minor": 5
}
