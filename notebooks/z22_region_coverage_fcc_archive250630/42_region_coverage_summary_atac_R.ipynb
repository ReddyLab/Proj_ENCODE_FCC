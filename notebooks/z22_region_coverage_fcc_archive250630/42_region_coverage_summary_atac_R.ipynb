{
 "cells": [
  {
   "cell_type": "raw",
   "id": "a9b43120-3564-4d90-872e-845da845e5a9",
   "metadata": {},
   "source": [
    "---\n",
    "title: ...\n",
    "subtitle: TPM of ATAC\n",
    "format:\n",
    "    html:\n",
    "        code-fold:  true\n",
    "        code-tools: true\n",
    "---"
   ]
  }
 ],
 "metadata": {
  "kernelspec": {
   "display_name": "R",
   "language": "R",
   "name": "ir"
  },
  "language_info": {
   "codemirror_mode": "r",
   "file_extension": ".r",
   "mimetype": "text/x-r-source",
   "name": "R",
   "pygments_lexer": "r",
   "version": "4.4.2"
  }
 },
 "nbformat": 4,
 "nbformat_minor": 5
}
