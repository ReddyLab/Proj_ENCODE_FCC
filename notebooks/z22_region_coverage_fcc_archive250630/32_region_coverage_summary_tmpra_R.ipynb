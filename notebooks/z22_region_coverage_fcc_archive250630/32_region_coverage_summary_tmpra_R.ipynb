{
 "cells": [
  {
   "cell_type": "raw",
   "id": "2bcd338f-4e71-4013-b7db-59ed237eb785",
   "metadata": {},
   "source": [
    "---\n",
    "title: Region Coverage 32\n",
    "subtitle: Summarize coverage for Tiling MPRA\n",
    "format:\n",
    "    html:\n",
    "        code-fold:  true\n",
    "        code-tools: true\n",
    "---"
   ]
  },
  {
   "cell_type": "markdown",
   "id": "86a99faa-bde0-4232-811b-063145ce1b2a",
   "metadata": {},
   "source": [
    "**Set environment**"
   ]
  },
  {
   "cell_type": "code",
   "execution_count": 1,
   "id": "962db143-054b-40da-aace-8bc20cb5e1a1",
   "metadata": {},
   "outputs": [
    {
     "name": "stdout",
     "output_type": "stream",
     "text": [
      "You are working on        Singularity: singularity_proj_encode_fcc \n",
      "BASE DIRECTORY (FD_BASE): /data/reddylab/Kuei \n",
      "REPO DIRECTORY (FD_REPO): /data/reddylab/Kuei/repo \n",
      "WORK DIRECTORY (FD_WORK): /data/reddylab/Kuei/work \n",
      "DATA DIRECTORY (FD_DATA): /data/reddylab/Kuei/data \n",
      "\n",
      "You are working with      ENCODE FCC \n",
      "PATH OF PROJECT (FD_PRJ): /data/reddylab/Kuei/repo/Proj_ENCODE_FCC \n",
      "PROJECT RESULTS (FD_RES): /data/reddylab/Kuei/repo/Proj_ENCODE_FCC/results \n",
      "PROJECT SCRIPTS (FD_EXE): /data/reddylab/Kuei/repo/Proj_ENCODE_FCC/scripts \n",
      "PROJECT DATA    (FD_DAT): /data/reddylab/Kuei/repo/Proj_ENCODE_FCC/data \n",
      "PROJECT NOTE    (FD_NBK): /data/reddylab/Kuei/repo/Proj_ENCODE_FCC/notebooks \n",
      "PROJECT DOCS    (FD_DOC): /data/reddylab/Kuei/repo/Proj_ENCODE_FCC/docs \n",
      "PROJECT LOG     (FD_LOG): /data/reddylab/Kuei/repo/Proj_ENCODE_FCC/log \n",
      "PROJECT REF     (FD_REF): /data/reddylab/Kuei/repo/Proj_ENCODE_FCC/references \n",
      "\n"
     ]
    }
   ],
   "source": [
    "suppressMessages(suppressWarnings(source(\"../run_config_project_sing.R\")))\n",
    "suppressMessages(suppressWarnings(library(\"DESeq2\")))\n",
    "suppressMessages(suppressWarnings(library(\"edgeR\")))\n",
    "show_env()"
   ]
  },
  {
   "cell_type": "markdown",
   "id": "ad685158-f721-460b-89cd-bc2e7e575808",
   "metadata": {},
   "source": [
    "**Set global variable**"
   ]
  },
  {
   "cell_type": "code",
   "execution_count": 4,
   "id": "1a74ddca-6ed0-46b2-8755-ea696ab34c8a",
   "metadata": {},
   "outputs": [
    {
     "name": "stdout",
     "output_type": "stream",
     "text": [
      "CRISPRi_FlowFISH_K562_Riley_JinWoo \n",
      "CRISPRi_Growth_K562_Gersbach_JinWoo \n",
      "MPRA_Lenti_K562_Nadav_Vikram \n",
      "MPRA_Tiling_K562_Tewhey_Hannah \n",
      "STARR_ATAC_K562_Reddy_KS274 \n",
      "STARR_ATAC_K562_Reddy_KS91 \n",
      "STARR_ATAC_K562_Reddy_KSMerge \n",
      "STARR_WHG_K562_Reddy_A001 \n"
     ]
    }
   ],
   "source": [
    "txt_fdiry = file.path(FD_RES, \"assay_fcc\")\n",
    "vec = dir(txt_fdiry)\n",
    "for (txt in vec) {cat(txt, \"\\n\")}"
   ]
  },
  {
   "cell_type": "code",
   "execution_count": 5,
   "id": "b0542706-309c-48e0-bdd3-e52accf76124",
   "metadata": {},
   "outputs": [],
   "source": [
    "#VEC_TXT_ASSAY = c(\n",
    "#    \"STARR_ATAC_K562_Reddy_KS91\",\n",
    "#    \"STARR_ATAC_K562_Reddy_KS274\",\n",
    "#    \"STARR_ATAC_K562_Reddy_KSMerge\",\n",
    "#    \"STARR_WHG_K562_Reddy_A001\"\n",
    "#)\n",
    "TXT_ASSAY = \"MPRA_Tiling_K562_Tewhey_Hannah\"\n",
    "VEC_TXT_PREFIX = c(\"OL13\", \"OL43\", \"OL45\")"
   ]
  },
  {
   "cell_type": "markdown",
   "id": "f6cc7b33-de16-4ee0-ad2d-b4966adbf217",
   "metadata": {},
   "source": [
    "**Helper function**"
   ]
  },
  {
   "cell_type": "code",
   "execution_count": 10,
   "id": "f8a4ed5a-58db-4e6b-bc16-2b3c370a60e3",
   "metadata": {},
   "outputs": [],
   "source": [
    "get_fpkm = function(mat, vec_num_length){\n",
    "    ### normlaized by size\n",
    "    fun = function(x){x * 10^6 / sum(x)}\n",
    "    mat = apply(mat, 2, fun)\n",
    "    \n",
    "    ### normlaized by length\n",
    "    vec = vec_num_length\n",
    "    fun = function(x){x/vec}\n",
    "    mat = apply(mat, 2, fun)\n",
    "\n",
    "    return(mat)\n",
    "}\n",
    "\n",
    "get_tpm  = function(mat, vec_num_length){\n",
    "    ### normlaized by length\n",
    "    vec = vec_num_length\n",
    "    fun = function(x){x/vec}\n",
    "    mat = apply(mat, 2, fun)\n",
    "    \n",
    "    ### normlaized by size\n",
    "    fun = function(x){x * 10^6 / sum(x)}\n",
    "    mat = apply(mat, 2, fun)\n",
    "    \n",
    "    return(mat)\n",
    "}"
   ]
  },
  {
   "cell_type": "markdown",
   "id": "5fafaf98-357a-43d0-805c-585f9bd78009",
   "metadata": {},
   "source": [
    "## Execute"
   ]
  },
  {
   "cell_type": "code",
   "execution_count": 11,
   "id": "3f61e9da-01a1-434b-8f14-9b1353d9b633",
   "metadata": {},
   "outputs": [
    {
     "name": "stdout",
     "output_type": "stream",
     "text": [
      "data.count_column.norm.OL13.rds \n",
      "data.count_column.norm.OL43.rds \n",
      "data.count_column.norm.OL45.rds \n",
      "data.count_column.raw.OL13.rds \n",
      "data.count_column.raw.OL43.rds \n",
      "data.count_column.raw.OL45.rds \n",
      "data.deseq2.OL13.rds \n",
      "data.deseq2.OL43.rds \n",
      "data.deseq2.OL45.rds \n",
      "data.edger.OL13.rds \n",
      "data.edger.OL43.rds \n",
      "data.edger.OL45.rds \n",
      "matrix.count.norm.OL13.tsv \n",
      "matrix.count.norm.OL43.tsv \n",
      "matrix.count.norm.OL45.tsv \n",
      "matrix.count.raw.OL13.tsv \n",
      "matrix.count.raw.OL43.tsv \n",
      "matrix.count.raw.OL45.tsv \n"
     ]
    }
   ],
   "source": [
    "txt_region = \"fcc_astarr_macs_input_overlap\"\n",
    "txt_assay  = TXT_ASSAY\n",
    "txt_fdiry = file.path(\n",
    "    FD_RES, \n",
    "    \"region_coverage_fcc\",\n",
    "    txt_region,\n",
    "    txt_assay, \n",
    "    \"overlap_count\", \n",
    "    \"summary\")\n",
    "for (txt in dir(txt_fdiry)){cat(txt, \"\\n\")}"
   ]
  },
  {
   "cell_type": "code",
   "execution_count": 12,
   "id": "192a1ac6-6651-4115-9d2d-f49334cc69d5",
   "metadata": {},
   "outputs": [
    {
     "name": "stdout",
     "output_type": "stream",
     "text": [
      "Assay:  MPRA_Tiling_K562_Tewhey_Hannah \n",
      "Prefix: OL13 \n",
      "Region: fcc_astarr_macs_input_overlap \n",
      "\n"
     ]
    },
    {
     "name": "stderr",
     "output_type": "stream",
     "text": [
      "Warning message in filterByExpr.DGEList(dge):\n",
      "“All samples appear to belong to the same group.”\n",
      "Warning message in filterByExpr.DGEList(dge):\n",
      "“All samples appear to belong to the same group.”\n"
     ]
    },
    {
     "name": "stdout",
     "output_type": "stream",
     "text": [
      "Assay:  MPRA_Tiling_K562_Tewhey_Hannah \n",
      "Prefix: OL43 \n",
      "Region: fcc_astarr_macs_input_overlap \n",
      "\n"
     ]
    },
    {
     "name": "stderr",
     "output_type": "stream",
     "text": [
      "Warning message in filterByExpr.DGEList(dge):\n",
      "“All samples appear to belong to the same group.”\n",
      "Warning message in filterByExpr.DGEList(dge):\n",
      "“All samples appear to belong to the same group.”\n"
     ]
    },
    {
     "name": "stdout",
     "output_type": "stream",
     "text": [
      "Assay:  MPRA_Tiling_K562_Tewhey_Hannah \n",
      "Prefix: OL45 \n",
      "Region: fcc_astarr_macs_input_overlap \n",
      "\n"
     ]
    },
    {
     "name": "stderr",
     "output_type": "stream",
     "text": [
      "Warning message in filterByExpr.DGEList(dge):\n",
      "“All samples appear to belong to the same group.”\n",
      "Warning message in filterByExpr.DGEList(dge):\n",
      "“All samples appear to belong to the same group.”\n"
     ]
    }
   ],
   "source": [
    "### init\n",
    "txt_assay      = TXT_ASSAY\n",
    "vec_txt_prefix = VEC_TXT_PREFIX\n",
    "vec_txt_region = c(\"fcc_astarr_macs_input_overlap\") #, \"astarr_macs_input_union\")\n",
    "\n",
    "### init \n",
    "lst_dat_screen     = list()\n",
    "lst_dat_dds_result = list()\n",
    "lst_dat_summary    = list()\n",
    "\n",
    "### excute\n",
    "for (txt_prefix in vec_txt_prefix){\n",
    "    for (txt_region_label in vec_txt_region) {\n",
    "        \n",
    "        ### show progress\n",
    "        cat(\"Assay: \", txt_assay,         \"\\n\")\n",
    "        cat(\"Prefix:\", txt_prefix,        \"\\n\")\n",
    "        cat(\"Region:\", txt_region_label,  \"\\n\")\n",
    "        cat(\"\\n\")\n",
    "        flush.console()\n",
    "\n",
    "        ### set file directory\n",
    "        txt_fdiry = file.path(\n",
    "            FD_RES, \n",
    "            \"region_coverage_fcc\",\n",
    "            txt_region_label,\n",
    "            txt_assay, \n",
    "            \"overlap_count\", \n",
    "            \"summary\"\n",
    "        )\n",
    "                \n",
    "        ### get raw \n",
    "        txt_fname = paste(\"data.count_column.raw\", txt_prefix, \"rds\", sep = \".\")\n",
    "        txt_fpath = file.path(txt_fdiry, txt_fname)\n",
    "\n",
    "        lst_dat = readRDS(txt_fpath)\n",
    "        dat_cnt = lst_dat$data_cnt\n",
    "        dat_col = lst_dat$data_col\n",
    "        dat_reg = dat_cnt %>% dplyr::select(Chrom, ChromStart, ChromEnd, Region)\n",
    "        \n",
    "        ### get DESeq2 object\n",
    "        txt_fname = paste(\"data.deseq2\", txt_prefix, \"rds\", sep = \".\")\n",
    "        txt_fpath = file.path(txt_fdiry, txt_fname)\n",
    "\n",
    "        dds = readRDS(txt_fpath)\n",
    "        \n",
    "        ### get EdgeR object\n",
    "        txt_fname = paste(\"data.edger\", txt_prefix, \"rds\", sep = \".\")\n",
    "        txt_fpath = file.path(txt_fdiry, txt_fname)\n",
    "\n",
    "        lst_dge = readRDS(txt_fpath)\n",
    "\n",
    "        ### ========================================\n",
    "        ### Calculate: Screened\n",
    "        ### ----------------------------------------\n",
    "        \n",
    "        lst = lst_dge\n",
    "        lst = lapply(lst, function(dge){\n",
    "            idx = filterByExpr(dge)\n",
    "            dat = data.frame(\n",
    "                Region = names(idx),\n",
    "                Screen = idx\n",
    "            )\n",
    "            return(dat)\n",
    "        })\n",
    "        \n",
    "        dat = bind_rows(lst, .id = \"Set\")\n",
    "        dat = dat %>% tidyr::spread(Set, Screen)\n",
    "        dat = dplyr::left_join(dat_reg, dat, by = \"Region\")\n",
    "        \n",
    "        dat_screen = dat\n",
    "        \n",
    "        ### ========================================\n",
    "        ### Calculate DESeq2 Counts & Log2FC\n",
    "        ### ----------------------------------------\n",
    "\n",
    "        ### DESeq2 normalized counts\n",
    "        mat = counts(dds, normalized=TRUE)\n",
    "        dat = mat %>% as.data.frame %>% rownames_to_column(\"Region\")\n",
    "        dat = dplyr::left_join(dat_reg, dat, by = \"Region\")\n",
    "\n",
    "        mat_dds_count = mat\n",
    "        dat_dds_count = dat\n",
    "\n",
    "        ### Deseq2 results\n",
    "        res = results(dds, contrast = c(\"Group\", \"Output\", \"Input\"))\n",
    "        dat = res %>% as.data.frame %>% rownames_to_column(\"Region\")\n",
    "        dat = dplyr::left_join(dat_reg, dat, by = \"Region\")\n",
    "        \n",
    "        dat_dds_result = dat\n",
    "        \n",
    "        ### ========================================\n",
    "        ### Calculate CPM\n",
    "        ### ----------------------------------------\n",
    "        \n",
    "        ### ========================================\n",
    "        ### Calculate TPM & FPKM\n",
    "        ### ----------------------------------------\n",
    "\n",
    "        ### init and get region length\n",
    "        dat = dat_cnt\n",
    "        dat = dat %>% dplyr::mutate(Length = ChromEnd - ChromStart)\n",
    "\n",
    "        ### arrange count into matrix\n",
    "        mat = dat %>% \n",
    "           dplyr::select(\n",
    "               Region, \n",
    "               starts_with(\"Input\"), \n",
    "               starts_with(\"Output\")) %>% \n",
    "           column_to_rownames(var = \"Region\")\n",
    "        \n",
    "        ### calculate TPM and FPKM\n",
    "        mat_tpm  = get_tpm(mat, dat$Length)\n",
    "        mat_fpkm = get_fpkm(mat, dat$Length)\n",
    "        \n",
    "        ### arrange matrix into dataframe\n",
    "        mat = mat_tpm\n",
    "        dat = mat %>% as.data.frame %>% rownames_to_column(\"Region\")\n",
    "        dat = dplyr::left_join(dat_reg, dat, by = \"Region\")\n",
    "        \n",
    "        dat_tpm = dat\n",
    "        \n",
    "        mat = mat_fpkm\n",
    "        dat = mat %>% as.data.frame %>% rownames_to_column(\"Region\")\n",
    "        dat = dplyr::left_join(dat_reg, dat, by = \"Region\")\n",
    "        \n",
    "        dat_fpkm = dat\n",
    "        \n",
    "        ### ========================================\n",
    "        ### Calculate mean TPM & FPKM\n",
    "        ### ----------------------------------------\n",
    "        \n",
    "        ### convert to tidy data\n",
    "        lst = list(\n",
    "            \"TPM\"   = mat_tpm,\n",
    "            \"FPKM\"  = mat_fpkm,\n",
    "            \"DESeq\" = mat_dds_count\n",
    "        )\n",
    "        lst = lapply(lst, function(mat){\n",
    "            dat = mat %>% \n",
    "                as.data.frame %>% \n",
    "                rownames_to_column(var = \"Region\") %>% \n",
    "                tidyr::gather(Sample, Value, -Region)\n",
    "            return(dat)\n",
    "        })\n",
    "        dat = bind_rows(lst, .id = \"Method\")\n",
    "        \n",
    "        ### calculate mean by group (Input & Output)\n",
    "        tmp = dat_col %>% dplyr::select(Sample, Group)\n",
    "        dat = dplyr::left_join(dat, tmp, by=\"Sample\")\n",
    "        dat = dat %>%\n",
    "            dplyr::group_by(Region, Method, Group) %>%\n",
    "            dplyr::summarize(Mean = mean(Value), .groups = \"drop\") %>%\n",
    "            dplyr::mutate(Name = paste(Group, Method, sep = \"_\")) %>%\n",
    "            dplyr::select(Region, Name, Mean) %>%\n",
    "            tidyr::spread(Name, Mean)\n",
    "        \n",
    "        dat = dplyr::left_join(dat_reg, dat, by = \"Region\")\n",
    "        dat_summary = dat\n",
    "\n",
    "        ### ========================================\n",
    "        ### Save results\n",
    "        ### ----------------------------------------\n",
    "\n",
    "        ### collect\n",
    "        lst_dat_screen[[txt_prefix]]     = dat_screen\n",
    "        lst_dat_dds_result[[txt_prefix]] = dat_dds_result\n",
    "        lst_dat_summary[[txt_prefix]]    = dat_summary\n",
    "        \n",
    "        #txt_fname = \"matrix.count.TPM.WGS.tsv\"\n",
    "        txt_fname = paste(\"matrix.count.TPM\", txt_prefix, \"tsv\", sep = \".\")\n",
    "        txt_fpath = file.path(txt_fdiry, txt_fname)\n",
    "        dat = dat_tpm\n",
    "        write_tsv(dat, txt_fpath)\n",
    "        \n",
    "        #txt_fname = \"matrix.count.FPKM.WGS.tsv\"\n",
    "        txt_fname = paste(\"matrix.count.FPKM\", txt_prefix, \"tsv\", sep = \".\")\n",
    "        txt_fpath = file.path(txt_fdiry, txt_fname)\n",
    "        dat = dat_fpkm\n",
    "        write_tsv(dat, txt_fpath)\n",
    "        \n",
    "        #txt_fname = \"matrix.count.deseq.WGS.tsv\"\n",
    "        txt_fname = paste(\"matrix.count.deseq\", txt_prefix, \"tsv\", sep = \".\")\n",
    "        txt_fpath = file.path(txt_fdiry, txt_fname)\n",
    "        dat = dat_dds_count\n",
    "        write_tsv(dat, txt_fpath)\n",
    "        \n",
    "        #txt_fname = \"result.coverage.Log2FC.deseq.tsv\"\n",
    "        txt_fname = paste(\"result.coverage.Log2FC.deseq\", txt_prefix, \"tsv\", sep = \".\")\n",
    "        txt_fpath = file.path(txt_fdiry, txt_fname)\n",
    "        dat = dat_dds_result\n",
    "        write_tsv(dat, txt_fpath)\n",
    "        \n",
    "        #txt_fname = \"result.coverage.TPM.FPKM.tsv\"\n",
    "        txt_fname = paste(\"result.coverage.summary\", txt_prefix, \"tsv\", sep = \".\")\n",
    "        txt_fpath = file.path(txt_fdiry, txt_fname)\n",
    "        dat = dat_summary\n",
    "        write_tsv(dat, txt_fpath)\n",
    "        \n",
    "        #txt_fname = \"result.coverage.screened.tsv\"\n",
    "        txt_fname = paste(\"result.coverage.screened\", txt_prefix, \"tsv\", sep = \".\")\n",
    "        txt_fpath = file.path(txt_fdiry, txt_fname)\n",
    "        dat = dat_screen\n",
    "        write_tsv(dat, txt_fpath)\n",
    "    }\n",
    "}"
   ]
  },
  {
   "cell_type": "code",
   "execution_count": 34,
   "id": "e5eabe42-5dd3-4f34-aa23-6a3dd5cdb6f5",
   "metadata": {},
   "outputs": [],
   "source": [
    "### concatenate batches\n",
    "lst = lst_dat_screen\n",
    "dat = bind_rows(lst, .id = \"Batch\")\n",
    "dat_screen_merge = dat\n",
    "\n",
    "lst = lst_dat_dds_result\n",
    "dat = bind_rows(lst, .id = \"Batch\")\n",
    "dat_dds_result_merge = dat\n",
    "\n",
    "lst = lst_dat_summary\n",
    "dat = bind_rows(lst, .id = \"Batch\")\n",
    "dat_summary_merge = dat\n",
    "\n",
    "#txt_fname = \"result.coverage.Log2FC.deseq.tsv\"\n",
    "txt_fname = paste(\"result.coverage.Log2FC.deseq\", \"tsv\", sep = \".\")\n",
    "txt_fpath = file.path(txt_fdiry, txt_fname)\n",
    "dat = dat_dds_result\n",
    "write_tsv(dat, txt_fpath)\n",
    "\n",
    "#txt_fname = \"result.coverage.TPM.FPKM.tsv\"\n",
    "txt_fname = paste(\"result.coverage.summary\", \"tsv\", sep = \".\")\n",
    "txt_fpath = file.path(txt_fdiry, txt_fname)\n",
    "dat = dat_summary\n",
    "write_tsv(dat, txt_fpath)\n",
    "\n",
    "#txt_fname = \"result.coverage.screened.tsv\"\n",
    "txt_fname = paste(\"result.coverage.screened\", \"tsv\", sep = \".\")\n",
    "txt_fpath = file.path(txt_fdiry, txt_fname)\n",
    "dat = dat_screen\n",
    "write_tsv(dat, txt_fpath)"
   ]
  },
  {
   "cell_type": "markdown",
   "id": "364daccf-fcbe-4e11-8af8-49186e8b9897",
   "metadata": {},
   "source": [
    "## Review"
   ]
  },
  {
   "cell_type": "code",
   "execution_count": 13,
   "id": "24b88d16-479e-4543-8126-2f2112b3e889",
   "metadata": {},
   "outputs": [
    {
     "data": {
      "text/html": [
       "<table class=\"dataframe\">\n",
       "<caption>A tibble: 3 × 12</caption>\n",
       "<thead>\n",
       "\t<tr><th scope=col>Chrom</th><th scope=col>ChromStart</th><th scope=col>ChromEnd</th><th scope=col>Region</th><th scope=col>Input.rep1</th><th scope=col>Input.rep2</th><th scope=col>Input.rep3</th><th scope=col>Input.rep4</th><th scope=col>Output.rep1</th><th scope=col>Output.rep2</th><th scope=col>Output.rep3</th><th scope=col>Output.rep4</th></tr>\n",
       "\t<tr><th scope=col>&lt;chr&gt;</th><th scope=col>&lt;dbl&gt;</th><th scope=col>&lt;dbl&gt;</th><th scope=col>&lt;chr&gt;</th><th scope=col>&lt;dbl&gt;</th><th scope=col>&lt;dbl&gt;</th><th scope=col>&lt;dbl&gt;</th><th scope=col>&lt;dbl&gt;</th><th scope=col>&lt;dbl&gt;</th><th scope=col>&lt;dbl&gt;</th><th scope=col>&lt;dbl&gt;</th><th scope=col>&lt;dbl&gt;</th></tr>\n",
       "</thead>\n",
       "<tbody>\n",
       "\t<tr><td>chr11</td><td>4551522</td><td>4551988</td><td>chr11:4551522-4551988</td><td>3716.401</td><td>3689.427</td><td>3781.900</td><td>3471.689</td><td> 3477.805</td><td> 3062.594</td><td> 3092.089</td><td> 3827.598</td></tr>\n",
       "\t<tr><td>chr11</td><td>4554256</td><td>4554817</td><td>chr11:4554256-4554817</td><td>4330.065</td><td>4009.521</td><td>4027.212</td><td>4348.617</td><td>18448.857</td><td>22620.272</td><td>25658.699</td><td>17362.778</td></tr>\n",
       "\t<tr><td>chr11</td><td>4577505</td><td>4578002</td><td>chr11:4577505-4578002</td><td>4143.710</td><td>4283.688</td><td>4479.677</td><td>4265.496</td><td> 2262.879</td><td> 2264.222</td><td> 2298.794</td><td> 2077.526</td></tr>\n",
       "</tbody>\n",
       "</table>\n"
      ],
      "text/latex": [
       "A tibble: 3 × 12\n",
       "\\begin{tabular}{llllllllllll}\n",
       " Chrom & ChromStart & ChromEnd & Region & Input.rep1 & Input.rep2 & Input.rep3 & Input.rep4 & Output.rep1 & Output.rep2 & Output.rep3 & Output.rep4\\\\\n",
       " <chr> & <dbl> & <dbl> & <chr> & <dbl> & <dbl> & <dbl> & <dbl> & <dbl> & <dbl> & <dbl> & <dbl>\\\\\n",
       "\\hline\n",
       "\t chr11 & 4551522 & 4551988 & chr11:4551522-4551988 & 3716.401 & 3689.427 & 3781.900 & 3471.689 &  3477.805 &  3062.594 &  3092.089 &  3827.598\\\\\n",
       "\t chr11 & 4554256 & 4554817 & chr11:4554256-4554817 & 4330.065 & 4009.521 & 4027.212 & 4348.617 & 18448.857 & 22620.272 & 25658.699 & 17362.778\\\\\n",
       "\t chr11 & 4577505 & 4578002 & chr11:4577505-4578002 & 4143.710 & 4283.688 & 4479.677 & 4265.496 &  2262.879 &  2264.222 &  2298.794 &  2077.526\\\\\n",
       "\\end{tabular}\n"
      ],
      "text/markdown": [
       "\n",
       "A tibble: 3 × 12\n",
       "\n",
       "| Chrom &lt;chr&gt; | ChromStart &lt;dbl&gt; | ChromEnd &lt;dbl&gt; | Region &lt;chr&gt; | Input.rep1 &lt;dbl&gt; | Input.rep2 &lt;dbl&gt; | Input.rep3 &lt;dbl&gt; | Input.rep4 &lt;dbl&gt; | Output.rep1 &lt;dbl&gt; | Output.rep2 &lt;dbl&gt; | Output.rep3 &lt;dbl&gt; | Output.rep4 &lt;dbl&gt; |\n",
       "|---|---|---|---|---|---|---|---|---|---|---|---|\n",
       "| chr11 | 4551522 | 4551988 | chr11:4551522-4551988 | 3716.401 | 3689.427 | 3781.900 | 3471.689 |  3477.805 |  3062.594 |  3092.089 |  3827.598 |\n",
       "| chr11 | 4554256 | 4554817 | chr11:4554256-4554817 | 4330.065 | 4009.521 | 4027.212 | 4348.617 | 18448.857 | 22620.272 | 25658.699 | 17362.778 |\n",
       "| chr11 | 4577505 | 4578002 | chr11:4577505-4578002 | 4143.710 | 4283.688 | 4479.677 | 4265.496 |  2262.879 |  2264.222 |  2298.794 |  2077.526 |\n",
       "\n"
      ],
      "text/plain": [
       "  Chrom ChromStart ChromEnd Region                Input.rep1 Input.rep2\n",
       "1 chr11 4551522    4551988  chr11:4551522-4551988 3716.401   3689.427  \n",
       "2 chr11 4554256    4554817  chr11:4554256-4554817 4330.065   4009.521  \n",
       "3 chr11 4577505    4578002  chr11:4577505-4578002 4143.710   4283.688  \n",
       "  Input.rep3 Input.rep4 Output.rep1 Output.rep2 Output.rep3 Output.rep4\n",
       "1 3781.900   3471.689    3477.805    3062.594    3092.089    3827.598  \n",
       "2 4027.212   4348.617   18448.857   22620.272   25658.699   17362.778  \n",
       "3 4479.677   4265.496    2262.879    2264.222    2298.794    2077.526  "
      ]
     },
     "metadata": {},
     "output_type": "display_data"
    }
   ],
   "source": [
    "head(dat_dds_count, 3)"
   ]
  },
  {
   "cell_type": "code",
   "execution_count": 14,
   "id": "3f1db47e-2a09-45f2-ad9d-5ea42c8b82a3",
   "metadata": {},
   "outputs": [
    {
     "data": {
      "text/html": [
       "<table class=\"dataframe\">\n",
       "<caption>A tibble: 3 × 10</caption>\n",
       "<thead>\n",
       "\t<tr><th scope=col>Chrom</th><th scope=col>ChromStart</th><th scope=col>ChromEnd</th><th scope=col>Region</th><th scope=col>baseMean</th><th scope=col>log2FoldChange</th><th scope=col>lfcSE</th><th scope=col>stat</th><th scope=col>pvalue</th><th scope=col>padj</th></tr>\n",
       "\t<tr><th scope=col>&lt;chr&gt;</th><th scope=col>&lt;dbl&gt;</th><th scope=col>&lt;dbl&gt;</th><th scope=col>&lt;chr&gt;</th><th scope=col>&lt;dbl&gt;</th><th scope=col>&lt;dbl&gt;</th><th scope=col>&lt;dbl&gt;</th><th scope=col>&lt;dbl&gt;</th><th scope=col>&lt;dbl&gt;</th><th scope=col>&lt;dbl&gt;</th></tr>\n",
       "</thead>\n",
       "<tbody>\n",
       "\t<tr><td>chr11</td><td>4551522</td><td>4551988</td><td>chr11:4551522-4551988</td><td> 3514.938</td><td>-0.1224555</td><td>0.06977571</td><td> -1.754988</td><td>7.926142e-02</td><td>8.515946e-02</td></tr>\n",
       "\t<tr><td>chr11</td><td>4554256</td><td>4554817</td><td>chr11:4554256-4554817</td><td>12600.753</td><td> 2.3306759</td><td>0.13529796</td><td> 17.226245</td><td>1.687560e-66</td><td>3.588790e-66</td></tr>\n",
       "\t<tr><td>chr11</td><td>4577505</td><td>4578002</td><td>chr11:4577505-4578002</td><td> 3259.499</td><td>-0.9483542</td><td>0.04568293</td><td>-20.759486</td><td>1.006372e-95</td><td>2.556309e-95</td></tr>\n",
       "</tbody>\n",
       "</table>\n"
      ],
      "text/latex": [
       "A tibble: 3 × 10\n",
       "\\begin{tabular}{llllllllll}\n",
       " Chrom & ChromStart & ChromEnd & Region & baseMean & log2FoldChange & lfcSE & stat & pvalue & padj\\\\\n",
       " <chr> & <dbl> & <dbl> & <chr> & <dbl> & <dbl> & <dbl> & <dbl> & <dbl> & <dbl>\\\\\n",
       "\\hline\n",
       "\t chr11 & 4551522 & 4551988 & chr11:4551522-4551988 &  3514.938 & -0.1224555 & 0.06977571 &  -1.754988 & 7.926142e-02 & 8.515946e-02\\\\\n",
       "\t chr11 & 4554256 & 4554817 & chr11:4554256-4554817 & 12600.753 &  2.3306759 & 0.13529796 &  17.226245 & 1.687560e-66 & 3.588790e-66\\\\\n",
       "\t chr11 & 4577505 & 4578002 & chr11:4577505-4578002 &  3259.499 & -0.9483542 & 0.04568293 & -20.759486 & 1.006372e-95 & 2.556309e-95\\\\\n",
       "\\end{tabular}\n"
      ],
      "text/markdown": [
       "\n",
       "A tibble: 3 × 10\n",
       "\n",
       "| Chrom &lt;chr&gt; | ChromStart &lt;dbl&gt; | ChromEnd &lt;dbl&gt; | Region &lt;chr&gt; | baseMean &lt;dbl&gt; | log2FoldChange &lt;dbl&gt; | lfcSE &lt;dbl&gt; | stat &lt;dbl&gt; | pvalue &lt;dbl&gt; | padj &lt;dbl&gt; |\n",
       "|---|---|---|---|---|---|---|---|---|---|\n",
       "| chr11 | 4551522 | 4551988 | chr11:4551522-4551988 |  3514.938 | -0.1224555 | 0.06977571 |  -1.754988 | 7.926142e-02 | 8.515946e-02 |\n",
       "| chr11 | 4554256 | 4554817 | chr11:4554256-4554817 | 12600.753 |  2.3306759 | 0.13529796 |  17.226245 | 1.687560e-66 | 3.588790e-66 |\n",
       "| chr11 | 4577505 | 4578002 | chr11:4577505-4578002 |  3259.499 | -0.9483542 | 0.04568293 | -20.759486 | 1.006372e-95 | 2.556309e-95 |\n",
       "\n"
      ],
      "text/plain": [
       "  Chrom ChromStart ChromEnd Region                baseMean  log2FoldChange\n",
       "1 chr11 4551522    4551988  chr11:4551522-4551988  3514.938 -0.1224555    \n",
       "2 chr11 4554256    4554817  chr11:4554256-4554817 12600.753  2.3306759    \n",
       "3 chr11 4577505    4578002  chr11:4577505-4578002  3259.499 -0.9483542    \n",
       "  lfcSE      stat       pvalue       padj        \n",
       "1 0.06977571  -1.754988 7.926142e-02 8.515946e-02\n",
       "2 0.13529796  17.226245 1.687560e-66 3.588790e-66\n",
       "3 0.04568293 -20.759486 1.006372e-95 2.556309e-95"
      ]
     },
     "metadata": {},
     "output_type": "display_data"
    }
   ],
   "source": [
    "head(dat_dds_result, 3)"
   ]
  },
  {
   "cell_type": "code",
   "execution_count": 15,
   "id": "d8294838-629f-4778-b878-91f4e4e53964",
   "metadata": {},
   "outputs": [
    {
     "data": {
      "text/html": [
       "<table class=\"dataframe\">\n",
       "<caption>A tibble: 3 × 12</caption>\n",
       "<thead>\n",
       "\t<tr><th scope=col>Chrom</th><th scope=col>ChromStart</th><th scope=col>ChromEnd</th><th scope=col>Region</th><th scope=col>Input.rep1</th><th scope=col>Input.rep2</th><th scope=col>Input.rep3</th><th scope=col>Input.rep4</th><th scope=col>Output.rep1</th><th scope=col>Output.rep2</th><th scope=col>Output.rep3</th><th scope=col>Output.rep4</th></tr>\n",
       "\t<tr><th scope=col>&lt;chr&gt;</th><th scope=col>&lt;dbl&gt;</th><th scope=col>&lt;dbl&gt;</th><th scope=col>&lt;chr&gt;</th><th scope=col>&lt;dbl&gt;</th><th scope=col>&lt;dbl&gt;</th><th scope=col>&lt;dbl&gt;</th><th scope=col>&lt;dbl&gt;</th><th scope=col>&lt;dbl&gt;</th><th scope=col>&lt;dbl&gt;</th><th scope=col>&lt;dbl&gt;</th><th scope=col>&lt;dbl&gt;</th></tr>\n",
       "</thead>\n",
       "<tbody>\n",
       "\t<tr><td>chr11</td><td>4551522</td><td>4551988</td><td>chr11:4551522-4551988</td><td>1208.863</td><td>1205.974</td><td>1231.235</td><td>1128.986</td><td> 518.0909</td><td> 485.5760</td><td> 485.0615</td><td> 543.7931</td></tr>\n",
       "\t<tr><td>chr11</td><td>4554256</td><td>4554817</td><td>chr11:4554256-4554817</td><td>1169.962</td><td>1088.665</td><td>1089.077</td><td>1174.686</td><td>2282.9334</td><td>2979.1240</td><td>3343.5090</td><td>2049.0362</td></tr>\n",
       "\t<tr><td>chr11</td><td>4577505</td><td>4578002</td><td>chr11:4577505-4578002</td><td>1263.785</td><td>1312.884</td><td>1367.437</td><td>1300.608</td><td> 316.0760</td><td> 336.6017</td><td> 338.1227</td><td> 276.7472</td></tr>\n",
       "</tbody>\n",
       "</table>\n"
      ],
      "text/latex": [
       "A tibble: 3 × 12\n",
       "\\begin{tabular}{llllllllllll}\n",
       " Chrom & ChromStart & ChromEnd & Region & Input.rep1 & Input.rep2 & Input.rep3 & Input.rep4 & Output.rep1 & Output.rep2 & Output.rep3 & Output.rep4\\\\\n",
       " <chr> & <dbl> & <dbl> & <chr> & <dbl> & <dbl> & <dbl> & <dbl> & <dbl> & <dbl> & <dbl> & <dbl>\\\\\n",
       "\\hline\n",
       "\t chr11 & 4551522 & 4551988 & chr11:4551522-4551988 & 1208.863 & 1205.974 & 1231.235 & 1128.986 &  518.0909 &  485.5760 &  485.0615 &  543.7931\\\\\n",
       "\t chr11 & 4554256 & 4554817 & chr11:4554256-4554817 & 1169.962 & 1088.665 & 1089.077 & 1174.686 & 2282.9334 & 2979.1240 & 3343.5090 & 2049.0362\\\\\n",
       "\t chr11 & 4577505 & 4578002 & chr11:4577505-4578002 & 1263.785 & 1312.884 & 1367.437 & 1300.608 &  316.0760 &  336.6017 &  338.1227 &  276.7472\\\\\n",
       "\\end{tabular}\n"
      ],
      "text/markdown": [
       "\n",
       "A tibble: 3 × 12\n",
       "\n",
       "| Chrom &lt;chr&gt; | ChromStart &lt;dbl&gt; | ChromEnd &lt;dbl&gt; | Region &lt;chr&gt; | Input.rep1 &lt;dbl&gt; | Input.rep2 &lt;dbl&gt; | Input.rep3 &lt;dbl&gt; | Input.rep4 &lt;dbl&gt; | Output.rep1 &lt;dbl&gt; | Output.rep2 &lt;dbl&gt; | Output.rep3 &lt;dbl&gt; | Output.rep4 &lt;dbl&gt; |\n",
       "|---|---|---|---|---|---|---|---|---|---|---|---|\n",
       "| chr11 | 4551522 | 4551988 | chr11:4551522-4551988 | 1208.863 | 1205.974 | 1231.235 | 1128.986 |  518.0909 |  485.5760 |  485.0615 |  543.7931 |\n",
       "| chr11 | 4554256 | 4554817 | chr11:4554256-4554817 | 1169.962 | 1088.665 | 1089.077 | 1174.686 | 2282.9334 | 2979.1240 | 3343.5090 | 2049.0362 |\n",
       "| chr11 | 4577505 | 4578002 | chr11:4577505-4578002 | 1263.785 | 1312.884 | 1367.437 | 1300.608 |  316.0760 |  336.6017 |  338.1227 |  276.7472 |\n",
       "\n"
      ],
      "text/plain": [
       "  Chrom ChromStart ChromEnd Region                Input.rep1 Input.rep2\n",
       "1 chr11 4551522    4551988  chr11:4551522-4551988 1208.863   1205.974  \n",
       "2 chr11 4554256    4554817  chr11:4554256-4554817 1169.962   1088.665  \n",
       "3 chr11 4577505    4578002  chr11:4577505-4578002 1263.785   1312.884  \n",
       "  Input.rep3 Input.rep4 Output.rep1 Output.rep2 Output.rep3 Output.rep4\n",
       "1 1231.235   1128.986    518.0909    485.5760    485.0615    543.7931  \n",
       "2 1089.077   1174.686   2282.9334   2979.1240   3343.5090   2049.0362  \n",
       "3 1367.437   1300.608    316.0760    336.6017    338.1227    276.7472  "
      ]
     },
     "metadata": {},
     "output_type": "display_data"
    }
   ],
   "source": [
    "head(dat_tpm, 3)"
   ]
  },
  {
   "cell_type": "code",
   "execution_count": 16,
   "id": "2c176987-3c22-44d1-b036-f4991831aea4",
   "metadata": {},
   "outputs": [
    {
     "data": {
      "text/html": [
       "<table class=\"dataframe\">\n",
       "<caption>A tibble: 3 × 12</caption>\n",
       "<thead>\n",
       "\t<tr><th scope=col>Chrom</th><th scope=col>ChromStart</th><th scope=col>ChromEnd</th><th scope=col>Region</th><th scope=col>Input.rep1</th><th scope=col>Input.rep2</th><th scope=col>Input.rep3</th><th scope=col>Input.rep4</th><th scope=col>Output.rep1</th><th scope=col>Output.rep2</th><th scope=col>Output.rep3</th><th scope=col>Output.rep4</th></tr>\n",
       "\t<tr><th scope=col>&lt;chr&gt;</th><th scope=col>&lt;dbl&gt;</th><th scope=col>&lt;dbl&gt;</th><th scope=col>&lt;chr&gt;</th><th scope=col>&lt;dbl&gt;</th><th scope=col>&lt;dbl&gt;</th><th scope=col>&lt;dbl&gt;</th><th scope=col>&lt;dbl&gt;</th><th scope=col>&lt;dbl&gt;</th><th scope=col>&lt;dbl&gt;</th><th scope=col>&lt;dbl&gt;</th><th scope=col>&lt;dbl&gt;</th></tr>\n",
       "</thead>\n",
       "<tbody>\n",
       "\t<tr><td>chr11</td><td>4551522</td><td>4551988</td><td>chr11:4551522-4551988</td><td>1.610915</td><td>1.608294</td><td>1.642112</td><td>1.505946</td><td>0.6019377</td><td>0.5733794</td><td>0.5738492</td><td>0.6303662</td></tr>\n",
       "\t<tr><td>chr11</td><td>4554256</td><td>4554817</td><td>chr11:4554256-4554817</td><td>1.559077</td><td>1.451851</td><td>1.452514</td><td>1.566905</td><td>2.6523983</td><td>3.5178187</td><td>3.9555190</td><td>2.3752475</td></tr>\n",
       "\t<tr><td>chr11</td><td>4577505</td><td>4578002</td><td>chr11:4577505-4578002</td><td>1.684104</td><td>1.750870</td><td>1.823766</td><td>1.734873</td><td>0.3672291</td><td>0.3974671</td><td>0.4000141</td><td>0.3208060</td></tr>\n",
       "</tbody>\n",
       "</table>\n"
      ],
      "text/latex": [
       "A tibble: 3 × 12\n",
       "\\begin{tabular}{llllllllllll}\n",
       " Chrom & ChromStart & ChromEnd & Region & Input.rep1 & Input.rep2 & Input.rep3 & Input.rep4 & Output.rep1 & Output.rep2 & Output.rep3 & Output.rep4\\\\\n",
       " <chr> & <dbl> & <dbl> & <chr> & <dbl> & <dbl> & <dbl> & <dbl> & <dbl> & <dbl> & <dbl> & <dbl>\\\\\n",
       "\\hline\n",
       "\t chr11 & 4551522 & 4551988 & chr11:4551522-4551988 & 1.610915 & 1.608294 & 1.642112 & 1.505946 & 0.6019377 & 0.5733794 & 0.5738492 & 0.6303662\\\\\n",
       "\t chr11 & 4554256 & 4554817 & chr11:4554256-4554817 & 1.559077 & 1.451851 & 1.452514 & 1.566905 & 2.6523983 & 3.5178187 & 3.9555190 & 2.3752475\\\\\n",
       "\t chr11 & 4577505 & 4578002 & chr11:4577505-4578002 & 1.684104 & 1.750870 & 1.823766 & 1.734873 & 0.3672291 & 0.3974671 & 0.4000141 & 0.3208060\\\\\n",
       "\\end{tabular}\n"
      ],
      "text/markdown": [
       "\n",
       "A tibble: 3 × 12\n",
       "\n",
       "| Chrom &lt;chr&gt; | ChromStart &lt;dbl&gt; | ChromEnd &lt;dbl&gt; | Region &lt;chr&gt; | Input.rep1 &lt;dbl&gt; | Input.rep2 &lt;dbl&gt; | Input.rep3 &lt;dbl&gt; | Input.rep4 &lt;dbl&gt; | Output.rep1 &lt;dbl&gt; | Output.rep2 &lt;dbl&gt; | Output.rep3 &lt;dbl&gt; | Output.rep4 &lt;dbl&gt; |\n",
       "|---|---|---|---|---|---|---|---|---|---|---|---|\n",
       "| chr11 | 4551522 | 4551988 | chr11:4551522-4551988 | 1.610915 | 1.608294 | 1.642112 | 1.505946 | 0.6019377 | 0.5733794 | 0.5738492 | 0.6303662 |\n",
       "| chr11 | 4554256 | 4554817 | chr11:4554256-4554817 | 1.559077 | 1.451851 | 1.452514 | 1.566905 | 2.6523983 | 3.5178187 | 3.9555190 | 2.3752475 |\n",
       "| chr11 | 4577505 | 4578002 | chr11:4577505-4578002 | 1.684104 | 1.750870 | 1.823766 | 1.734873 | 0.3672291 | 0.3974671 | 0.4000141 | 0.3208060 |\n",
       "\n"
      ],
      "text/plain": [
       "  Chrom ChromStart ChromEnd Region                Input.rep1 Input.rep2\n",
       "1 chr11 4551522    4551988  chr11:4551522-4551988 1.610915   1.608294  \n",
       "2 chr11 4554256    4554817  chr11:4554256-4554817 1.559077   1.451851  \n",
       "3 chr11 4577505    4578002  chr11:4577505-4578002 1.684104   1.750870  \n",
       "  Input.rep3 Input.rep4 Output.rep1 Output.rep2 Output.rep3 Output.rep4\n",
       "1 1.642112   1.505946   0.6019377   0.5733794   0.5738492   0.6303662  \n",
       "2 1.452514   1.566905   2.6523983   3.5178187   3.9555190   2.3752475  \n",
       "3 1.823766   1.734873   0.3672291   0.3974671   0.4000141   0.3208060  "
      ]
     },
     "metadata": {},
     "output_type": "display_data"
    }
   ],
   "source": [
    "head(dat_fpkm, 3)"
   ]
  },
  {
   "cell_type": "code",
   "execution_count": 17,
   "id": "d2aefdcd-bd8b-49ef-9ff2-fc6121e19809",
   "metadata": {},
   "outputs": [
    {
     "data": {
      "text/html": [
       "<table class=\"dataframe\">\n",
       "<caption>A tibble: 3 × 10</caption>\n",
       "<thead>\n",
       "\t<tr><th scope=col>Chrom</th><th scope=col>ChromStart</th><th scope=col>ChromEnd</th><th scope=col>Region</th><th scope=col>Input_DESeq</th><th scope=col>Input_FPKM</th><th scope=col>Input_TPM</th><th scope=col>Output_DESeq</th><th scope=col>Output_FPKM</th><th scope=col>Output_TPM</th></tr>\n",
       "\t<tr><th scope=col>&lt;chr&gt;</th><th scope=col>&lt;dbl&gt;</th><th scope=col>&lt;dbl&gt;</th><th scope=col>&lt;chr&gt;</th><th scope=col>&lt;dbl&gt;</th><th scope=col>&lt;dbl&gt;</th><th scope=col>&lt;dbl&gt;</th><th scope=col>&lt;dbl&gt;</th><th scope=col>&lt;dbl&gt;</th><th scope=col>&lt;dbl&gt;</th></tr>\n",
       "</thead>\n",
       "<tbody>\n",
       "\t<tr><td>chr11</td><td>4551522</td><td>4551988</td><td>chr11:4551522-4551988</td><td>3664.854</td><td>1.591817</td><td>1193.764</td><td> 3365.022</td><td>0.5948831</td><td> 508.1304</td></tr>\n",
       "\t<tr><td>chr11</td><td>4554256</td><td>4554817</td><td>chr11:4554256-4554817</td><td>4178.854</td><td>1.507587</td><td>1130.598</td><td>21022.651</td><td>3.1252459</td><td>2663.6506</td></tr>\n",
       "\t<tr><td>chr11</td><td>4577505</td><td>4578002</td><td>chr11:4577505-4578002</td><td>4293.143</td><td>1.748403</td><td>1311.179</td><td> 2225.855</td><td>0.3713791</td><td> 316.8869</td></tr>\n",
       "</tbody>\n",
       "</table>\n"
      ],
      "text/latex": [
       "A tibble: 3 × 10\n",
       "\\begin{tabular}{llllllllll}\n",
       " Chrom & ChromStart & ChromEnd & Region & Input\\_DESeq & Input\\_FPKM & Input\\_TPM & Output\\_DESeq & Output\\_FPKM & Output\\_TPM\\\\\n",
       " <chr> & <dbl> & <dbl> & <chr> & <dbl> & <dbl> & <dbl> & <dbl> & <dbl> & <dbl>\\\\\n",
       "\\hline\n",
       "\t chr11 & 4551522 & 4551988 & chr11:4551522-4551988 & 3664.854 & 1.591817 & 1193.764 &  3365.022 & 0.5948831 &  508.1304\\\\\n",
       "\t chr11 & 4554256 & 4554817 & chr11:4554256-4554817 & 4178.854 & 1.507587 & 1130.598 & 21022.651 & 3.1252459 & 2663.6506\\\\\n",
       "\t chr11 & 4577505 & 4578002 & chr11:4577505-4578002 & 4293.143 & 1.748403 & 1311.179 &  2225.855 & 0.3713791 &  316.8869\\\\\n",
       "\\end{tabular}\n"
      ],
      "text/markdown": [
       "\n",
       "A tibble: 3 × 10\n",
       "\n",
       "| Chrom &lt;chr&gt; | ChromStart &lt;dbl&gt; | ChromEnd &lt;dbl&gt; | Region &lt;chr&gt; | Input_DESeq &lt;dbl&gt; | Input_FPKM &lt;dbl&gt; | Input_TPM &lt;dbl&gt; | Output_DESeq &lt;dbl&gt; | Output_FPKM &lt;dbl&gt; | Output_TPM &lt;dbl&gt; |\n",
       "|---|---|---|---|---|---|---|---|---|---|\n",
       "| chr11 | 4551522 | 4551988 | chr11:4551522-4551988 | 3664.854 | 1.591817 | 1193.764 |  3365.022 | 0.5948831 |  508.1304 |\n",
       "| chr11 | 4554256 | 4554817 | chr11:4554256-4554817 | 4178.854 | 1.507587 | 1130.598 | 21022.651 | 3.1252459 | 2663.6506 |\n",
       "| chr11 | 4577505 | 4578002 | chr11:4577505-4578002 | 4293.143 | 1.748403 | 1311.179 |  2225.855 | 0.3713791 |  316.8869 |\n",
       "\n"
      ],
      "text/plain": [
       "  Chrom ChromStart ChromEnd Region                Input_DESeq Input_FPKM\n",
       "1 chr11 4551522    4551988  chr11:4551522-4551988 3664.854    1.591817  \n",
       "2 chr11 4554256    4554817  chr11:4554256-4554817 4178.854    1.507587  \n",
       "3 chr11 4577505    4578002  chr11:4577505-4578002 4293.143    1.748403  \n",
       "  Input_TPM Output_DESeq Output_FPKM Output_TPM\n",
       "1 1193.764   3365.022    0.5948831    508.1304 \n",
       "2 1130.598  21022.651    3.1252459   2663.6506 \n",
       "3 1311.179   2225.855    0.3713791    316.8869 "
      ]
     },
     "metadata": {},
     "output_type": "display_data"
    }
   ],
   "source": [
    "head(dat_summary, 3)"
   ]
  },
  {
   "cell_type": "code",
   "execution_count": null,
   "id": "f9435804-86c0-4d43-a649-6a0391c794cb",
   "metadata": {},
   "outputs": [],
   "source": []
  }
 ],
 "metadata": {
  "kernelspec": {
   "display_name": "R",
   "language": "R",
   "name": "ir"
  },
  "language_info": {
   "codemirror_mode": "r",
   "file_extension": ".r",
   "mimetype": "text/x-r-source",
   "name": "R",
   "pygments_lexer": "r",
   "version": "4.4.2"
  }
 },
 "nbformat": 4,
 "nbformat_minor": 5
}
