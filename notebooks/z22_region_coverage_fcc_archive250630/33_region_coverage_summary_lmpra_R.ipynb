{
 "cells": [
  {
   "cell_type": "raw",
   "id": "4bcf1f9d-e3e0-490c-bdeb-2610dd5d4be4",
   "metadata": {},
   "source": [
    "---\n",
    "title: ...\n",
    "subtitle: ...\n",
    "format:\n",
    "    html:\n",
    "        code-fold:  true\n",
    "        code-tools: true\n",
    "---"
   ]
  },
  {
   "cell_type": "markdown",
   "id": "3ddaca31-419a-4d93-8ded-61e6ec4188c0",
   "metadata": {},
   "source": [
    "**Set environment**"
   ]
  },
  {
   "cell_type": "code",
   "execution_count": 1,
   "id": "a904c7b0-7ab4-4a8b-92e0-bbd4db646dc0",
   "metadata": {},
   "outputs": [
    {
     "name": "stdout",
     "output_type": "stream",
     "text": [
      "You are working on        Singularity: singularity_proj_encode_fcc \n",
      "BASE DIRECTORY (FD_BASE): /data/reddylab/Kuei \n",
      "REPO DIRECTORY (FD_REPO): /data/reddylab/Kuei/repo \n",
      "WORK DIRECTORY (FD_WORK): /data/reddylab/Kuei/work \n",
      "DATA DIRECTORY (FD_DATA): /data/reddylab/Kuei/data \n",
      "\n",
      "You are working with      ENCODE FCC \n",
      "PATH OF PROJECT (FD_PRJ): /data/reddylab/Kuei/repo/Proj_ENCODE_FCC \n",
      "PROJECT RESULTS (FD_RES): /data/reddylab/Kuei/repo/Proj_ENCODE_FCC/results \n",
      "PROJECT SCRIPTS (FD_EXE): /data/reddylab/Kuei/repo/Proj_ENCODE_FCC/scripts \n",
      "PROJECT DATA    (FD_DAT): /data/reddylab/Kuei/repo/Proj_ENCODE_FCC/data \n",
      "PROJECT NOTE    (FD_NBK): /data/reddylab/Kuei/repo/Proj_ENCODE_FCC/notebooks \n",
      "PROJECT DOCS    (FD_DOC): /data/reddylab/Kuei/repo/Proj_ENCODE_FCC/docs \n",
      "PROJECT LOG     (FD_LOG): /data/reddylab/Kuei/repo/Proj_ENCODE_FCC/log \n",
      "PROJECT REF     (FD_REF): /data/reddylab/Kuei/repo/Proj_ENCODE_FCC/references \n",
      "\n"
     ]
    }
   ],
   "source": [
    "suppressMessages(suppressWarnings(source(\"../run_config_project_sing.R\")))\n",
    "show_env()"
   ]
  },
  {
   "cell_type": "code",
   "execution_count": 2,
   "id": "a18f3752-9dc4-46fa-83b6-e9cf151f3ab5",
   "metadata": {},
   "outputs": [
    {
     "name": "stdout",
     "output_type": "stream",
     "text": [
      "atac_ENCFF333TAT \n",
      "atac_ENCFF558BLC \n",
      "atac_ENCFF925CYR \n",
      "atac_ENCFF948AFM \n",
      "dnase_ENCFF185XRG \n",
      "dnase_ENCFF274YGF \n",
      "fcc_astarr_macs_input_overlap \n",
      "fcc_astarr_macs_input_union \n"
     ]
    }
   ],
   "source": [
    "txt_fdiry = file.path(FD_RES, \"region_coverage_fcc\")\n",
    "vec = dir(txt_fdiry)\n",
    "for (txt in vec) {cat(txt, \"\\n\")}"
   ]
  },
  {
   "cell_type": "code",
   "execution_count": 3,
   "id": "ba8bf69f-1f21-45d9-a8a8-6a2b2c18f266",
   "metadata": {},
   "outputs": [
    {
     "name": "stdout",
     "output_type": "stream",
     "text": [
      "CRISPRi_FlowFISH_K562_Riley_JinWoo \n",
      "CRISPRi_Growth_K562_Gersbach_JinWoo \n",
      "MPRA_Lenti_K562_Nadav_Vikram \n",
      "MPRA_Tiling_K562_Tewhey_Hannah \n",
      "STARR_ATAC_K562_Reddy_KS274 \n",
      "STARR_ATAC_K562_Reddy_KS91 \n",
      "STARR_ATAC_K562_Reddy_KSMerge \n",
      "STARR_WHG_K562_Reddy_A001 \n"
     ]
    }
   ],
   "source": [
    "txt_region = \"fcc_astarr_macs_input_union\"\n",
    "txt_fdiry  = file.path(FD_RES, \"region_coverage_fcc\", txt_region)\n",
    "vec = dir(txt_fdiry)\n",
    "for (txt in vec) {cat(txt, \"\\n\")}"
   ]
  },
  {
   "cell_type": "markdown",
   "id": "6319daef-59ff-4981-9e2c-ac8d51ffe610",
   "metadata": {},
   "source": [
    "```\n",
    "vec_txt_assay = c(\n",
    "    \"CRISPRi_FlowFISH_K562_Riley_JinWoo\",\n",
    "    \"CRISPRi_Growth_K562_Gersbach_JinWoo\",\n",
    "    \"MPRA_Lenti_K562_Nadav_Vikram\"\n",
    ")\n",
    "```"
   ]
  },
  {
   "cell_type": "markdown",
   "id": "ac18f462-a2fb-4245-a9db-b4e03bec0d79",
   "metadata": {},
   "source": [
    "## Import region data"
   ]
  },
  {
   "cell_type": "markdown",
   "id": "83f7ccc0-195f-4c95-b8b7-493e0049bc1e",
   "metadata": {},
   "source": [
    "**Read region metadata table**"
   ]
  },
  {
   "cell_type": "code",
   "execution_count": 4,
   "id": "925b8eab-843c-459c-9330-66b830b7fe05",
   "metadata": {},
   "outputs": [
    {
     "data": {
      "text/html": [
       "<table>\n",
       " <thead>\n",
       "  <tr>\n",
       "   <th style=\"text-align:left;\"> Folder </th>\n",
       "   <th style=\"text-align:left;\"> FName </th>\n",
       "   <th style=\"text-align:left;\"> Label </th>\n",
       "   <th style=\"text-align:left;\"> FPath </th>\n",
       "  </tr>\n",
       " </thead>\n",
       "<tbody>\n",
       "  <tr>\n",
       "   <td style=\"text-align:left;\"> region_for_analysis </td>\n",
       "   <td style=\"text-align:left;\"> K562.hg38.ASTARR.macs.KS91.input.rep_all.max_overlaps.q5.bed.gz </td>\n",
       "   <td style=\"text-align:left;\"> fcc_astarr_macs_input_overlap </td>\n",
       "   <td style=\"text-align:left;\"> /data/reddylab/Kuei/repo/Proj_ENCODE_FCC/results/region/region_for_analysis/K562.hg38.ASTARR.macs.KS91.input.rep_all.max_overlaps.q5.bed.gz </td>\n",
       "  </tr>\n",
       "  <tr>\n",
       "   <td style=\"text-align:left;\"> region_for_analysis </td>\n",
       "   <td style=\"text-align:left;\"> K562.hg38.ASTARR.macs.KS91.input.rep_all.union.q5.bed.gz </td>\n",
       "   <td style=\"text-align:left;\"> fcc_astarr_macs_input_union </td>\n",
       "   <td style=\"text-align:left;\"> /data/reddylab/Kuei/repo/Proj_ENCODE_FCC/results/region/region_for_analysis/K562.hg38.ASTARR.macs.KS91.input.rep_all.union.q5.bed.gz </td>\n",
       "  </tr>\n",
       "  <tr>\n",
       "   <td style=\"text-align:left;\"> region_for_analysis </td>\n",
       "   <td style=\"text-align:left;\"> K562.hg38.ENCSR000EKS.ENCFF274YGF.DNase.bed.gz </td>\n",
       "   <td style=\"text-align:left;\"> dnase_ENCFF274YGF </td>\n",
       "   <td style=\"text-align:left;\"> /data/reddylab/Kuei/repo/Proj_ENCODE_FCC/results/region/region_for_analysis/K562.hg38.ENCSR000EKS.ENCFF274YGF.DNase.bed.gz </td>\n",
       "  </tr>\n",
       "  <tr>\n",
       "   <td style=\"text-align:left;\"> region_for_analysis </td>\n",
       "   <td style=\"text-align:left;\"> K562.hg38.ENCSR000EOT.ENCFF185XRG.DNase.bed.gz </td>\n",
       "   <td style=\"text-align:left;\"> dnase_ENCFF185XRG </td>\n",
       "   <td style=\"text-align:left;\"> /data/reddylab/Kuei/repo/Proj_ENCODE_FCC/results/region/region_for_analysis/K562.hg38.ENCSR000EOT.ENCFF185XRG.DNase.bed.gz </td>\n",
       "  </tr>\n",
       "  <tr>\n",
       "   <td style=\"text-align:left;\"> region_for_analysis </td>\n",
       "   <td style=\"text-align:left;\"> K562.hg38.ENCSR483RKN.ENCFF558BLC.ATAC.bed.gz </td>\n",
       "   <td style=\"text-align:left;\"> atac_ENCFF558BLC </td>\n",
       "   <td style=\"text-align:left;\"> /data/reddylab/Kuei/repo/Proj_ENCODE_FCC/results/region/region_for_analysis/K562.hg38.ENCSR483RKN.ENCFF558BLC.ATAC.bed.gz </td>\n",
       "  </tr>\n",
       "  <tr>\n",
       "   <td style=\"text-align:left;\"> region_for_analysis </td>\n",
       "   <td style=\"text-align:left;\"> K562.hg38.ENCSR483RKN.ENCFF925CYR.ATAC.bed.gz </td>\n",
       "   <td style=\"text-align:left;\"> atac_ENCFF925CYR </td>\n",
       "   <td style=\"text-align:left;\"> /data/reddylab/Kuei/repo/Proj_ENCODE_FCC/results/region/region_for_analysis/K562.hg38.ENCSR483RKN.ENCFF925CYR.ATAC.bed.gz </td>\n",
       "  </tr>\n",
       "  <tr>\n",
       "   <td style=\"text-align:left;\"> region_for_analysis </td>\n",
       "   <td style=\"text-align:left;\"> K562.hg38.ENCSR868FGK.ENCFF333TAT.ATAC.bed.gz </td>\n",
       "   <td style=\"text-align:left;\"> atac_ENCFF333TAT </td>\n",
       "   <td style=\"text-align:left;\"> /data/reddylab/Kuei/repo/Proj_ENCODE_FCC/results/region/region_for_analysis/K562.hg38.ENCSR868FGK.ENCFF333TAT.ATAC.bed.gz </td>\n",
       "  </tr>\n",
       "  <tr>\n",
       "   <td style=\"text-align:left;\"> region_for_analysis </td>\n",
       "   <td style=\"text-align:left;\"> K562.hg38.ENCSR868FGK.ENCFF948AFM.ATAC.bed.gz </td>\n",
       "   <td style=\"text-align:left;\"> atac_ENCFF948AFM </td>\n",
       "   <td style=\"text-align:left;\"> /data/reddylab/Kuei/repo/Proj_ENCODE_FCC/results/region/region_for_analysis/K562.hg38.ENCSR868FGK.ENCFF948AFM.ATAC.bed.gz </td>\n",
       "  </tr>\n",
       "</tbody>\n",
       "</table>"
      ]
     },
     "metadata": {},
     "output_type": "display_data"
    }
   ],
   "source": [
    "### set directory\n",
    "txt_fdiry = file.path(FD_RES, \"region\", \"summary\")\n",
    "txt_fname = \"metadata.label.region_for_analysis.tsv\"\n",
    "txt_fpath = file.path(txt_fdiry, txt_fname)\n",
    "\n",
    "### read table\n",
    "dat = read_tsv(txt_fpath, show_col_types = FALSE)\n",
    "\n",
    "### assign and show\n",
    "dat_meta_region = dat\n",
    "fun_display_table(dat)"
   ]
  },
  {
   "cell_type": "markdown",
   "id": "ccc8102b-9647-4a69-99b4-83abf3480126",
   "metadata": {},
   "source": [
    "**Create region list for looping**"
   ]
  },
  {
   "cell_type": "code",
   "execution_count": 5,
   "id": "13762472-abf6-45c6-aea9-94523bb49f84",
   "metadata": {},
   "outputs": [
    {
     "name": "stdout",
     "output_type": "stream",
     "text": [
      "$atac_ENCFF333TAT\n",
      "[1] \"region_for_analysis\"\n",
      "\n",
      "$atac_ENCFF558BLC\n",
      "[1] \"region_for_analysis\"\n",
      "\n",
      "$atac_ENCFF925CYR\n",
      "[1] \"region_for_analysis\"\n",
      "\n",
      "$atac_ENCFF948AFM\n",
      "[1] \"region_for_analysis\"\n",
      "\n",
      "$dnase_ENCFF185XRG\n",
      "[1] \"region_for_analysis\"\n",
      "\n",
      "$dnase_ENCFF274YGF\n",
      "[1] \"region_for_analysis\"\n",
      "\n",
      "$fcc_astarr_macs_input_overlap\n",
      "[1] \"region_for_analysis\"\n",
      "\n",
      "$fcc_astarr_macs_input_union\n",
      "[1] \"region_for_analysis\"\n",
      "\n"
     ]
    }
   ],
   "source": [
    "dat = dat_meta_region\n",
    "lst = split(dat$Folder, dat$Label)\n",
    "\n",
    "lst_txt_region = lst\n",
    "print(lst)"
   ]
  },
  {
   "cell_type": "markdown",
   "id": "eba2852a-8bf5-4263-9179-dad4b281f07f",
   "metadata": {},
   "source": [
    "## Helper functions"
   ]
  },
  {
   "cell_type": "code",
   "execution_count": 6,
   "id": "80c49827-ba91-46af-ad0d-34e2e68307ce",
   "metadata": {},
   "outputs": [],
   "source": [
    "fun_get_absmax = function(x){ x[which.max(abs(x))] }"
   ]
  },
  {
   "cell_type": "markdown",
   "id": "b03117e8-3b1f-4f1f-9e1f-1a6d0d67a46f",
   "metadata": {},
   "source": [
    "## Lenti-MPRA"
   ]
  },
  {
   "cell_type": "code",
   "execution_count": 7,
   "id": "49e882e5-dea1-452b-8508-2a51889139a4",
   "metadata": {},
   "outputs": [
    {
     "name": "stdout",
     "output_type": "stream",
     "text": [
      "[1] \"atac_ENCFF333TAT\"              \"atac_ENCFF558BLC\"             \n",
      "[3] \"atac_ENCFF925CYR\"              \"atac_ENCFF948AFM\"             \n",
      "[5] \"dnase_ENCFF185XRG\"             \"dnase_ENCFF274YGF\"            \n",
      "[7] \"fcc_astarr_macs_input_overlap\" \"fcc_astarr_macs_input_union\"  \n"
     ]
    }
   ],
   "source": [
    "### get region folders\n",
    "txt_fdiry = file.path(FD_RES, \"region_coverage_fcc\")\n",
    "vec_txt_region = dir(txt_fdiry)\n",
    "print(vec_txt_region)"
   ]
  },
  {
   "cell_type": "code",
   "execution_count": 11,
   "id": "3d83cf60-1d37-4955-acf4-08eeb9d9f27b",
   "metadata": {},
   "outputs": [
    {
     "name": "stdout",
     "output_type": "stream",
     "text": [
      "====================\n",
      "Region Folder: fcc_astarr_macs_input_overlap \n",
      "Assay  Folder: MPRA_Lenti_K562_Nadav_Vikram \n",
      "Import Files:\n",
      "[1] \"LMPRA_K562.hg38.ZScore.stranded.bed.gz\"\n",
      "\n",
      "Save Files:\n",
      "[1] \"/data/reddylab/Kuei/repo/Proj_ENCODE_FCC/results/region_coverage_fcc/fcc_astarr_macs_input_overlap/MPRA_Lenti_K562_Nadav_Vikram/overlap_score/summary/result.score.tsv\"\n",
      "\n"
     ]
    }
   ],
   "source": [
    "### init\n",
    "txt_assay = \"MPRA_Lenti_K562_Nadav_Vikram\"\n",
    "#txt_fdiry = file.path(FD_RES, \"region_coverage_fcc\")\n",
    "#vec_txt_region = dir(txt_fdiry)\n",
    "vec_txt_region = c(\"fcc_astarr_macs_input_overlap\")\n",
    "txt_fname_import = \"LMPRA_K562.hg38.ZScore.stranded.bed.gz\"\n",
    "\n",
    "for (txt_region in vec_txt_region){\n",
    "     \n",
    "    ### show progress:\n",
    "    cat(\"====================\\n\")\n",
    "    cat(\"Region Folder:\", txt_region, \"\\n\")\n",
    "    cat(\"Assay  Folder:\", txt_assay,  \"\\n\")\n",
    "    cat(\"Import Files:\\n\")\n",
    "    print(txt_fname_import)\n",
    "    cat(\"\\n\")\n",
    "    flush.console()\n",
    "    \n",
    "    ### set directory and import assay description\n",
    "    txt_fdiry = file.path(FD_RES, \"assay_fcc\", txt_assay, \"coverage\", \"summary\")\n",
    "    txt_fname = \"description.tsv\"\n",
    "    txt_fpath = file.path(txt_fdiry, txt_fname)\n",
    "    \n",
    "    dat_cname_assay = read_tsv(txt_fpath, show_col_types = FALSE)\n",
    "\n",
    "    ### set directory and import region description\n",
    "    txt_folder = lst_txt_region[[txt_region]]\n",
    "    txt_fdiry  = file.path(FD_RES, \"region\", txt_folder, \"summary\")\n",
    "    txt_fname  = \"description.tsv\"\n",
    "    txt_fpath  = file.path(txt_fdiry, txt_fname)\n",
    "\n",
    "    dat_cname_region = read_tsv(txt_fpath, show_col_types = FALSE)\n",
    "\n",
    "    ### set column names/types for overlap score\n",
    "    vec_txt_cname = c(\n",
    "        paste(dat_cname_region$Name, \"A\", sep = \"_\"), \n",
    "        paste(dat_cname_assay$Name,  \"B\", sep = \"_\"), \n",
    "        \"Overlap\"\n",
    "    )\n",
    "\n",
    "    ### set directory and import region-assay overlap\n",
    "    txt_folder = \"overlap_score\"\n",
    "    txt_fdiry  = file.path(FD_RES, \"region_coverage_fcc\", txt_region, txt_assay, txt_folder)\n",
    "    txt_fname  = txt_fname_import\n",
    "    txt_fpath  = file.path(txt_fdiry, txt_fname)\n",
    "\n",
    "    dat_overlap_import = read_tsv(txt_fpath, col_names = vec_txt_cname, show_col_types = FALSE)\n",
    "    \n",
    "    ### arrange overlapped scores\n",
    "    dat = dat_overlap_import\n",
    "    dat = dat %>% \n",
    "        dplyr::mutate(\n",
    "            Chrom      = Chrom_A,\n",
    "            ChromStart = ChromStart_A,\n",
    "            ChromEnd   = ChromEnd_A,\n",
    "            Region     = fun_gen_region(Chrom_A, ChromStart_A, ChromEnd_A),\n",
    "            Score      = Score_B\n",
    "        )\n",
    "    dat_overlap_arrange = dat\n",
    "    \n",
    "    ### summarize scores for each region\n",
    "    dat = dat_overlap_arrange\n",
    "    dat = dat %>% \n",
    "        dplyr::group_by(Chrom, ChromStart, ChromEnd, Region) %>%\n",
    "        dplyr::summarise(\n",
    "            Mean    = mean(Score),\n",
    "            Median  = median(Score),\n",
    "            AbsMax  = fun_get_absmax(Score),\n",
    "            Max     = max(Score),\n",
    "            Min     = min(Score),\n",
    "            Count   = n(),\n",
    "            .groups = \"drop\"\n",
    "        )\n",
    "    dat_score_summary = dat\n",
    "    \n",
    "    ### set directory to save results\n",
    "    txt_folder = \"overlap_score\"\n",
    "    txt_fdiry  = file.path(FD_RES, \"region_coverage_fcc\", txt_region, txt_assay, txt_folder, \"summary\")\n",
    "    txt_fname = \"result.score.tsv\"\n",
    "    txt_fpath  = file.path(txt_fdiry, txt_fname)\n",
    "\n",
    "    ### export region scores\n",
    "    txt_cmd = paste(\"mkdir -p\", txt_fdiry)\n",
    "    system(txt_cmd)\n",
    "    dat = dat_score_summary\n",
    "    dat = dat %>% dplyr::arrange(Chrom, ChromStart, ChromEnd)\n",
    "    write_tsv(dat, txt_fpath)\n",
    "    \n",
    "    ### show progress:\n",
    "    cat(\"Save Files:\\n\")\n",
    "    print(txt_fpath)\n",
    "    cat(\"\\n\")\n",
    "    flush.console()\n",
    "}"
   ]
  },
  {
   "cell_type": "code",
   "execution_count": 12,
   "id": "75bd6284-a4ba-452f-9d05-4a52ace238c4",
   "metadata": {},
   "outputs": [
    {
     "data": {
      "text/html": [
       "<table class=\"dataframe\">\n",
       "<caption>A tibble: 6 × 11</caption>\n",
       "<thead>\n",
       "\t<tr><th scope=col>Chrom_A</th><th scope=col>ChromStart_A</th><th scope=col>ChromEnd_A</th><th scope=col>Region_A</th><th scope=col>Chrom_B</th><th scope=col>ChromStart_B</th><th scope=col>ChromEnd_B</th><th scope=col>Name_B</th><th scope=col>Score_B</th><th scope=col>Strand_B</th><th scope=col>Overlap</th></tr>\n",
       "\t<tr><th scope=col>&lt;chr&gt;</th><th scope=col>&lt;dbl&gt;</th><th scope=col>&lt;dbl&gt;</th><th scope=col>&lt;chr&gt;</th><th scope=col>&lt;chr&gt;</th><th scope=col>&lt;dbl&gt;</th><th scope=col>&lt;dbl&gt;</th><th scope=col>&lt;chr&gt;</th><th scope=col>&lt;dbl&gt;</th><th scope=col>&lt;chr&gt;</th><th scope=col>&lt;dbl&gt;</th></tr>\n",
       "</thead>\n",
       "<tbody>\n",
       "\t<tr><td>chr1</td><td>115429</td><td>115969</td><td>chr1:115429-115969</td><td>chr1</td><td>115631</td><td>115831</td><td>peak1_Reversed:</td><td> 2.05110076</td><td>-</td><td>200</td></tr>\n",
       "\t<tr><td>chr1</td><td>138321</td><td>139517</td><td>chr1:138321-139517</td><td>chr1</td><td>138940</td><td>139140</td><td>peak2_Reversed:</td><td> 1.53918178</td><td>-</td><td>200</td></tr>\n",
       "\t<tr><td>chr1</td><td>138321</td><td>139517</td><td>chr1:138321-139517</td><td>chr1</td><td>138940</td><td>139140</td><td>peak2          </td><td>-0.06555714</td><td>+</td><td>200</td></tr>\n",
       "\t<tr><td>chr1</td><td>267910</td><td>268557</td><td>chr1:267910-268557</td><td>chr1</td><td>267911</td><td>268111</td><td>peak4_Reversed:</td><td>-1.60494471</td><td>-</td><td>200</td></tr>\n",
       "\t<tr><td>chr1</td><td>267910</td><td>268557</td><td>chr1:267910-268557</td><td>chr1</td><td>267911</td><td>268111</td><td>peak4          </td><td> 2.72276750</td><td>+</td><td>200</td></tr>\n",
       "\t<tr><td>chr1</td><td>778233</td><td>779389</td><td>chr1:778233-779389</td><td>chr1</td><td>778638</td><td>778838</td><td>peak11         </td><td> 5.37675880</td><td>+</td><td>200</td></tr>\n",
       "</tbody>\n",
       "</table>\n"
      ],
      "text/latex": [
       "A tibble: 6 × 11\n",
       "\\begin{tabular}{lllllllllll}\n",
       " Chrom\\_A & ChromStart\\_A & ChromEnd\\_A & Region\\_A & Chrom\\_B & ChromStart\\_B & ChromEnd\\_B & Name\\_B & Score\\_B & Strand\\_B & Overlap\\\\\n",
       " <chr> & <dbl> & <dbl> & <chr> & <chr> & <dbl> & <dbl> & <chr> & <dbl> & <chr> & <dbl>\\\\\n",
       "\\hline\n",
       "\t chr1 & 115429 & 115969 & chr1:115429-115969 & chr1 & 115631 & 115831 & peak1\\_Reversed: &  2.05110076 & - & 200\\\\\n",
       "\t chr1 & 138321 & 139517 & chr1:138321-139517 & chr1 & 138940 & 139140 & peak2\\_Reversed: &  1.53918178 & - & 200\\\\\n",
       "\t chr1 & 138321 & 139517 & chr1:138321-139517 & chr1 & 138940 & 139140 & peak2           & -0.06555714 & + & 200\\\\\n",
       "\t chr1 & 267910 & 268557 & chr1:267910-268557 & chr1 & 267911 & 268111 & peak4\\_Reversed: & -1.60494471 & - & 200\\\\\n",
       "\t chr1 & 267910 & 268557 & chr1:267910-268557 & chr1 & 267911 & 268111 & peak4           &  2.72276750 & + & 200\\\\\n",
       "\t chr1 & 778233 & 779389 & chr1:778233-779389 & chr1 & 778638 & 778838 & peak11          &  5.37675880 & + & 200\\\\\n",
       "\\end{tabular}\n"
      ],
      "text/markdown": [
       "\n",
       "A tibble: 6 × 11\n",
       "\n",
       "| Chrom_A &lt;chr&gt; | ChromStart_A &lt;dbl&gt; | ChromEnd_A &lt;dbl&gt; | Region_A &lt;chr&gt; | Chrom_B &lt;chr&gt; | ChromStart_B &lt;dbl&gt; | ChromEnd_B &lt;dbl&gt; | Name_B &lt;chr&gt; | Score_B &lt;dbl&gt; | Strand_B &lt;chr&gt; | Overlap &lt;dbl&gt; |\n",
       "|---|---|---|---|---|---|---|---|---|---|---|\n",
       "| chr1 | 115429 | 115969 | chr1:115429-115969 | chr1 | 115631 | 115831 | peak1_Reversed: |  2.05110076 | - | 200 |\n",
       "| chr1 | 138321 | 139517 | chr1:138321-139517 | chr1 | 138940 | 139140 | peak2_Reversed: |  1.53918178 | - | 200 |\n",
       "| chr1 | 138321 | 139517 | chr1:138321-139517 | chr1 | 138940 | 139140 | peak2           | -0.06555714 | + | 200 |\n",
       "| chr1 | 267910 | 268557 | chr1:267910-268557 | chr1 | 267911 | 268111 | peak4_Reversed: | -1.60494471 | - | 200 |\n",
       "| chr1 | 267910 | 268557 | chr1:267910-268557 | chr1 | 267911 | 268111 | peak4           |  2.72276750 | + | 200 |\n",
       "| chr1 | 778233 | 779389 | chr1:778233-779389 | chr1 | 778638 | 778838 | peak11          |  5.37675880 | + | 200 |\n",
       "\n"
      ],
      "text/plain": [
       "  Chrom_A ChromStart_A ChromEnd_A Region_A           Chrom_B ChromStart_B\n",
       "1 chr1    115429       115969     chr1:115429-115969 chr1    115631      \n",
       "2 chr1    138321       139517     chr1:138321-139517 chr1    138940      \n",
       "3 chr1    138321       139517     chr1:138321-139517 chr1    138940      \n",
       "4 chr1    267910       268557     chr1:267910-268557 chr1    267911      \n",
       "5 chr1    267910       268557     chr1:267910-268557 chr1    267911      \n",
       "6 chr1    778233       779389     chr1:778233-779389 chr1    778638      \n",
       "  ChromEnd_B Name_B          Score_B     Strand_B Overlap\n",
       "1 115831     peak1_Reversed:  2.05110076 -        200    \n",
       "2 139140     peak2_Reversed:  1.53918178 -        200    \n",
       "3 139140     peak2           -0.06555714 +        200    \n",
       "4 268111     peak4_Reversed: -1.60494471 -        200    \n",
       "5 268111     peak4            2.72276750 +        200    \n",
       "6 778838     peak11           5.37675880 +        200    "
      ]
     },
     "metadata": {},
     "output_type": "display_data"
    }
   ],
   "source": [
    "dat = dat_overlap_import\n",
    "head(dat)"
   ]
  },
  {
   "cell_type": "code",
   "execution_count": 13,
   "id": "4baab758-e8a7-4953-a080-3a48afa33511",
   "metadata": {},
   "outputs": [
    {
     "data": {
      "text/html": [
       "<table class=\"dataframe\">\n",
       "<caption>A tibble: 6 × 10</caption>\n",
       "<thead>\n",
       "\t<tr><th scope=col>Chrom</th><th scope=col>ChromStart</th><th scope=col>ChromEnd</th><th scope=col>Region</th><th scope=col>Mean</th><th scope=col>Median</th><th scope=col>AbsMax</th><th scope=col>Max</th><th scope=col>Min</th><th scope=col>Count</th></tr>\n",
       "\t<tr><th scope=col>&lt;chr&gt;</th><th scope=col>&lt;dbl&gt;</th><th scope=col>&lt;dbl&gt;</th><th scope=col>&lt;chr&gt;</th><th scope=col>&lt;dbl&gt;</th><th scope=col>&lt;dbl&gt;</th><th scope=col>&lt;dbl&gt;</th><th scope=col>&lt;dbl&gt;</th><th scope=col>&lt;dbl&gt;</th><th scope=col>&lt;int&gt;</th></tr>\n",
       "</thead>\n",
       "<tbody>\n",
       "\t<tr><td>chr1</td><td>115429</td><td>115969</td><td>chr1:115429-115969</td><td>2.0511008</td><td>2.0511008</td><td>2.051101</td><td>2.051101</td><td> 2.05110076</td><td>1</td></tr>\n",
       "\t<tr><td>chr1</td><td>138321</td><td>139517</td><td>chr1:138321-139517</td><td>0.7368123</td><td>0.7368123</td><td>1.539182</td><td>1.539182</td><td>-0.06555714</td><td>2</td></tr>\n",
       "\t<tr><td>chr1</td><td>267910</td><td>268557</td><td>chr1:267910-268557</td><td>0.5589114</td><td>0.5589114</td><td>2.722768</td><td>2.722768</td><td>-1.60494471</td><td>2</td></tr>\n",
       "\t<tr><td>chr1</td><td>778233</td><td>779389</td><td>chr1:778233-779389</td><td>5.9122769</td><td>5.9122769</td><td>6.447795</td><td>6.447795</td><td> 5.37675880</td><td>2</td></tr>\n",
       "\t<tr><td>chr1</td><td>842516</td><td>843431</td><td>chr1:842516-843431</td><td>2.9496819</td><td>2.9496819</td><td>3.005957</td><td>3.005957</td><td> 2.89340716</td><td>2</td></tr>\n",
       "\t<tr><td>chr1</td><td>898691</td><td>899306</td><td>chr1:898691-899306</td><td>2.2380783</td><td>2.2380783</td><td>3.499723</td><td>3.499723</td><td> 0.97643397</td><td>2</td></tr>\n",
       "</tbody>\n",
       "</table>\n"
      ],
      "text/latex": [
       "A tibble: 6 × 10\n",
       "\\begin{tabular}{llllllllll}\n",
       " Chrom & ChromStart & ChromEnd & Region & Mean & Median & AbsMax & Max & Min & Count\\\\\n",
       " <chr> & <dbl> & <dbl> & <chr> & <dbl> & <dbl> & <dbl> & <dbl> & <dbl> & <int>\\\\\n",
       "\\hline\n",
       "\t chr1 & 115429 & 115969 & chr1:115429-115969 & 2.0511008 & 2.0511008 & 2.051101 & 2.051101 &  2.05110076 & 1\\\\\n",
       "\t chr1 & 138321 & 139517 & chr1:138321-139517 & 0.7368123 & 0.7368123 & 1.539182 & 1.539182 & -0.06555714 & 2\\\\\n",
       "\t chr1 & 267910 & 268557 & chr1:267910-268557 & 0.5589114 & 0.5589114 & 2.722768 & 2.722768 & -1.60494471 & 2\\\\\n",
       "\t chr1 & 778233 & 779389 & chr1:778233-779389 & 5.9122769 & 5.9122769 & 6.447795 & 6.447795 &  5.37675880 & 2\\\\\n",
       "\t chr1 & 842516 & 843431 & chr1:842516-843431 & 2.9496819 & 2.9496819 & 3.005957 & 3.005957 &  2.89340716 & 2\\\\\n",
       "\t chr1 & 898691 & 899306 & chr1:898691-899306 & 2.2380783 & 2.2380783 & 3.499723 & 3.499723 &  0.97643397 & 2\\\\\n",
       "\\end{tabular}\n"
      ],
      "text/markdown": [
       "\n",
       "A tibble: 6 × 10\n",
       "\n",
       "| Chrom &lt;chr&gt; | ChromStart &lt;dbl&gt; | ChromEnd &lt;dbl&gt; | Region &lt;chr&gt; | Mean &lt;dbl&gt; | Median &lt;dbl&gt; | AbsMax &lt;dbl&gt; | Max &lt;dbl&gt; | Min &lt;dbl&gt; | Count &lt;int&gt; |\n",
       "|---|---|---|---|---|---|---|---|---|---|\n",
       "| chr1 | 115429 | 115969 | chr1:115429-115969 | 2.0511008 | 2.0511008 | 2.051101 | 2.051101 |  2.05110076 | 1 |\n",
       "| chr1 | 138321 | 139517 | chr1:138321-139517 | 0.7368123 | 0.7368123 | 1.539182 | 1.539182 | -0.06555714 | 2 |\n",
       "| chr1 | 267910 | 268557 | chr1:267910-268557 | 0.5589114 | 0.5589114 | 2.722768 | 2.722768 | -1.60494471 | 2 |\n",
       "| chr1 | 778233 | 779389 | chr1:778233-779389 | 5.9122769 | 5.9122769 | 6.447795 | 6.447795 |  5.37675880 | 2 |\n",
       "| chr1 | 842516 | 843431 | chr1:842516-843431 | 2.9496819 | 2.9496819 | 3.005957 | 3.005957 |  2.89340716 | 2 |\n",
       "| chr1 | 898691 | 899306 | chr1:898691-899306 | 2.2380783 | 2.2380783 | 3.499723 | 3.499723 |  0.97643397 | 2 |\n",
       "\n"
      ],
      "text/plain": [
       "  Chrom ChromStart ChromEnd Region             Mean      Median    AbsMax  \n",
       "1 chr1  115429     115969   chr1:115429-115969 2.0511008 2.0511008 2.051101\n",
       "2 chr1  138321     139517   chr1:138321-139517 0.7368123 0.7368123 1.539182\n",
       "3 chr1  267910     268557   chr1:267910-268557 0.5589114 0.5589114 2.722768\n",
       "4 chr1  778233     779389   chr1:778233-779389 5.9122769 5.9122769 6.447795\n",
       "5 chr1  842516     843431   chr1:842516-843431 2.9496819 2.9496819 3.005957\n",
       "6 chr1  898691     899306   chr1:898691-899306 2.2380783 2.2380783 3.499723\n",
       "  Max      Min         Count\n",
       "1 2.051101  2.05110076 1    \n",
       "2 1.539182 -0.06555714 2    \n",
       "3 2.722768 -1.60494471 2    \n",
       "4 6.447795  5.37675880 2    \n",
       "5 3.005957  2.89340716 2    \n",
       "6 3.499723  0.97643397 2    "
      ]
     },
     "metadata": {},
     "output_type": "display_data"
    }
   ],
   "source": [
    "dat = dat_score_summary\n",
    "head(dat)"
   ]
  },
  {
   "cell_type": "code",
   "execution_count": 25,
   "id": "ff706200-82df-49ba-8057-91bd7ad40a07",
   "metadata": {},
   "outputs": [
    {
     "data": {
      "text/html": [
       "<table class=\"dataframe\">\n",
       "<caption>A tibble: 6 × 10</caption>\n",
       "<thead>\n",
       "\t<tr><th scope=col>Chrom</th><th scope=col>ChromStart</th><th scope=col>ChromEnd</th><th scope=col>Region</th><th scope=col>Mean</th><th scope=col>Median</th><th scope=col>AbsMax</th><th scope=col>Max</th><th scope=col>Min</th><th scope=col>Count</th></tr>\n",
       "\t<tr><th scope=col>&lt;chr&gt;</th><th scope=col>&lt;dbl&gt;</th><th scope=col>&lt;dbl&gt;</th><th scope=col>&lt;chr&gt;</th><th scope=col>&lt;dbl&gt;</th><th scope=col>&lt;dbl&gt;</th><th scope=col>&lt;dbl&gt;</th><th scope=col>&lt;dbl&gt;</th><th scope=col>&lt;dbl&gt;</th><th scope=col>&lt;int&gt;</th></tr>\n",
       "</thead>\n",
       "<tbody>\n",
       "\t<tr><td>chr1</td><td>115429</td><td>115969</td><td>chr1:115429-115969</td><td>2.0511008</td><td>2.0511008</td><td>2.051101</td><td>2.051101</td><td> 2.05110076</td><td>1</td></tr>\n",
       "\t<tr><td>chr1</td><td>138321</td><td>139517</td><td>chr1:138321-139517</td><td>0.7368123</td><td>0.7368123</td><td>1.539182</td><td>1.539182</td><td>-0.06555714</td><td>2</td></tr>\n",
       "\t<tr><td>chr1</td><td>267910</td><td>268557</td><td>chr1:267910-268557</td><td>0.5589114</td><td>0.5589114</td><td>2.722768</td><td>2.722768</td><td>-1.60494471</td><td>2</td></tr>\n",
       "\t<tr><td>chr1</td><td>778233</td><td>779389</td><td>chr1:778233-779389</td><td>5.9122769</td><td>5.9122769</td><td>6.447795</td><td>6.447795</td><td> 5.37675880</td><td>2</td></tr>\n",
       "\t<tr><td>chr1</td><td>842516</td><td>843431</td><td>chr1:842516-843431</td><td>2.9496819</td><td>2.9496819</td><td>3.005957</td><td>3.005957</td><td> 2.89340716</td><td>2</td></tr>\n",
       "\t<tr><td>chr1</td><td>898691</td><td>899306</td><td>chr1:898691-899306</td><td>2.2380783</td><td>2.2380783</td><td>3.499723</td><td>3.499723</td><td> 0.97643397</td><td>2</td></tr>\n",
       "</tbody>\n",
       "</table>\n"
      ],
      "text/latex": [
       "A tibble: 6 × 10\n",
       "\\begin{tabular}{llllllllll}\n",
       " Chrom & ChromStart & ChromEnd & Region & Mean & Median & AbsMax & Max & Min & Count\\\\\n",
       " <chr> & <dbl> & <dbl> & <chr> & <dbl> & <dbl> & <dbl> & <dbl> & <dbl> & <int>\\\\\n",
       "\\hline\n",
       "\t chr1 & 115429 & 115969 & chr1:115429-115969 & 2.0511008 & 2.0511008 & 2.051101 & 2.051101 &  2.05110076 & 1\\\\\n",
       "\t chr1 & 138321 & 139517 & chr1:138321-139517 & 0.7368123 & 0.7368123 & 1.539182 & 1.539182 & -0.06555714 & 2\\\\\n",
       "\t chr1 & 267910 & 268557 & chr1:267910-268557 & 0.5589114 & 0.5589114 & 2.722768 & 2.722768 & -1.60494471 & 2\\\\\n",
       "\t chr1 & 778233 & 779389 & chr1:778233-779389 & 5.9122769 & 5.9122769 & 6.447795 & 6.447795 &  5.37675880 & 2\\\\\n",
       "\t chr1 & 842516 & 843431 & chr1:842516-843431 & 2.9496819 & 2.9496819 & 3.005957 & 3.005957 &  2.89340716 & 2\\\\\n",
       "\t chr1 & 898691 & 899306 & chr1:898691-899306 & 2.2380783 & 2.2380783 & 3.499723 & 3.499723 &  0.97643397 & 2\\\\\n",
       "\\end{tabular}\n"
      ],
      "text/markdown": [
       "\n",
       "A tibble: 6 × 10\n",
       "\n",
       "| Chrom &lt;chr&gt; | ChromStart &lt;dbl&gt; | ChromEnd &lt;dbl&gt; | Region &lt;chr&gt; | Mean &lt;dbl&gt; | Median &lt;dbl&gt; | AbsMax &lt;dbl&gt; | Max &lt;dbl&gt; | Min &lt;dbl&gt; | Count &lt;int&gt; |\n",
       "|---|---|---|---|---|---|---|---|---|---|\n",
       "| chr1 | 115429 | 115969 | chr1:115429-115969 | 2.0511008 | 2.0511008 | 2.051101 | 2.051101 |  2.05110076 | 1 |\n",
       "| chr1 | 138321 | 139517 | chr1:138321-139517 | 0.7368123 | 0.7368123 | 1.539182 | 1.539182 | -0.06555714 | 2 |\n",
       "| chr1 | 267910 | 268557 | chr1:267910-268557 | 0.5589114 | 0.5589114 | 2.722768 | 2.722768 | -1.60494471 | 2 |\n",
       "| chr1 | 778233 | 779389 | chr1:778233-779389 | 5.9122769 | 5.9122769 | 6.447795 | 6.447795 |  5.37675880 | 2 |\n",
       "| chr1 | 842516 | 843431 | chr1:842516-843431 | 2.9496819 | 2.9496819 | 3.005957 | 3.005957 |  2.89340716 | 2 |\n",
       "| chr1 | 898691 | 899306 | chr1:898691-899306 | 2.2380783 | 2.2380783 | 3.499723 | 3.499723 |  0.97643397 | 2 |\n",
       "\n"
      ],
      "text/plain": [
       "  Chrom ChromStart ChromEnd Region             Mean      Median    AbsMax  \n",
       "1 chr1  115429     115969   chr1:115429-115969 2.0511008 2.0511008 2.051101\n",
       "2 chr1  138321     139517   chr1:138321-139517 0.7368123 0.7368123 1.539182\n",
       "3 chr1  267910     268557   chr1:267910-268557 0.5589114 0.5589114 2.722768\n",
       "4 chr1  778233     779389   chr1:778233-779389 5.9122769 5.9122769 6.447795\n",
       "5 chr1  842516     843431   chr1:842516-843431 2.9496819 2.9496819 3.005957\n",
       "6 chr1  898691     899306   chr1:898691-899306 2.2380783 2.2380783 3.499723\n",
       "  Max      Min         Count\n",
       "1 2.051101  2.05110076 1    \n",
       "2 1.539182 -0.06555714 2    \n",
       "3 2.722768 -1.60494471 2    \n",
       "4 6.447795  5.37675880 2    \n",
       "5 3.005957  2.89340716 2    \n",
       "6 3.499723  0.97643397 2    "
      ]
     },
     "metadata": {},
     "output_type": "display_data"
    }
   ],
   "source": [
    "dat = dat_score_summary\n",
    "head(dat)"
   ]
  }
 ],
 "metadata": {
  "kernelspec": {
   "display_name": "R",
   "language": "R",
   "name": "ir"
  },
  "language_info": {
   "codemirror_mode": "r",
   "file_extension": ".r",
   "mimetype": "text/x-r-source",
   "name": "R",
   "pygments_lexer": "r",
   "version": "4.4.2"
  }
 },
 "nbformat": 4,
 "nbformat_minor": 5
}
