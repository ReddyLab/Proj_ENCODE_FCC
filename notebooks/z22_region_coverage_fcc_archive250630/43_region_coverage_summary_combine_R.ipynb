{
 "cells": [
  {
   "cell_type": "raw",
   "id": "11e127c5-1370-4f70-9247-2bd8643ff165",
   "metadata": {},
   "source": [
    "---\n",
    "title: ...\n",
    "subtitle: combine ATAC, setup total, final, and share verion of table\n",
    "format:\n",
    "    html:\n",
    "        code-fold:  true\n",
    "        code-tools: true\n",
    "---"
   ]
  }
 ],
 "metadata": {
  "kernelspec": {
   "display_name": "R",
   "language": "R",
   "name": "ir"
  },
  "language_info": {
   "codemirror_mode": "r",
   "file_extension": ".r",
   "mimetype": "text/x-r-source",
   "name": "R",
   "pygments_lexer": "r",
   "version": "4.4.2"
  }
 },
 "nbformat": 4,
 "nbformat_minor": 5
}
