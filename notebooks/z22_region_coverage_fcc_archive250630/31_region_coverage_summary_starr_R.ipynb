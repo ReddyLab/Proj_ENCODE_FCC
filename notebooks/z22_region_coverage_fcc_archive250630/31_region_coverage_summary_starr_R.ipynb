{
 "cells": [
  {
   "cell_type": "raw",
   "id": "252ffcd5-7df3-4f1b-a011-351e9fa8c587",
   "metadata": {},
   "source": [
    "---\n",
    "title: Region Coverage 31\n",
    "subtitle: Summarize coverage for STARR-seq\n",
    "format:\n",
    "    html:\n",
    "        code-fold:  true\n",
    "        code-tools: true\n",
    "---"
   ]
  },
  {
   "cell_type": "markdown",
   "id": "ec93a6e2-fdfc-4fc3-85b3-8802eb3575a8",
   "metadata": {},
   "source": [
    "**Set environment**"
   ]
  },
  {
   "cell_type": "code",
   "execution_count": 1,
   "id": "f468c164-27c3-40ae-9636-6f001acb1cd1",
   "metadata": {},
   "outputs": [
    {
     "name": "stdout",
     "output_type": "stream",
     "text": [
      "You are working on        Singularity: singularity_proj_encode_fcc \n",
      "BASE DIRECTORY (FD_BASE): /data/reddylab/Kuei \n",
      "REPO DIRECTORY (FD_REPO): /data/reddylab/Kuei/repo \n",
      "WORK DIRECTORY (FD_WORK): /data/reddylab/Kuei/work \n",
      "DATA DIRECTORY (FD_DATA): /data/reddylab/Kuei/data \n",
      "\n",
      "You are working with      ENCODE FCC \n",
      "PATH OF PROJECT (FD_PRJ): /data/reddylab/Kuei/repo/Proj_ENCODE_FCC \n",
      "PROJECT RESULTS (FD_RES): /data/reddylab/Kuei/repo/Proj_ENCODE_FCC/results \n",
      "PROJECT SCRIPTS (FD_EXE): /data/reddylab/Kuei/repo/Proj_ENCODE_FCC/scripts \n",
      "PROJECT DATA    (FD_DAT): /data/reddylab/Kuei/repo/Proj_ENCODE_FCC/data \n",
      "PROJECT NOTE    (FD_NBK): /data/reddylab/Kuei/repo/Proj_ENCODE_FCC/notebooks \n",
      "PROJECT DOCS    (FD_DOC): /data/reddylab/Kuei/repo/Proj_ENCODE_FCC/docs \n",
      "PROJECT LOG     (FD_LOG): /data/reddylab/Kuei/repo/Proj_ENCODE_FCC/log \n",
      "PROJECT REF     (FD_REF): /data/reddylab/Kuei/repo/Proj_ENCODE_FCC/references \n",
      "\n"
     ]
    }
   ],
   "source": [
    "suppressMessages(suppressWarnings(source(\"../run_config_project_sing.R\")))\n",
    "suppressMessages(suppressWarnings(library(\"DESeq2\")))\n",
    "suppressMessages(suppressWarnings(library(\"edgeR\")))\n",
    "show_env()"
   ]
  },
  {
   "cell_type": "markdown",
   "id": "18805bfd-69dc-48b0-b4ce-cf3ae72c9dd6",
   "metadata": {},
   "source": [
    "**Set global variable**"
   ]
  },
  {
   "cell_type": "code",
   "execution_count": 2,
   "id": "3c7accc1-a2e8-416e-8ced-63df9fb3cb94",
   "metadata": {},
   "outputs": [
    {
     "name": "stdout",
     "output_type": "stream",
     "text": [
      "CRISPRi_FlowFISH_K562_Riley_JinWoo \n",
      "CRISPRi_Growth_K562_Gersbach_JinWoo \n",
      "MPRA_Lenti_K562_Nadav_Vikram \n",
      "MPRA_Tiling_K562_Tewhey_Hannah \n",
      "STARR_ATAC_K562_Reddy_KS274 \n",
      "STARR_ATAC_K562_Reddy_KS91 \n",
      "STARR_ATAC_K562_Reddy_KSMerge \n",
      "STARR_WHG_K562_Reddy_A001 \n"
     ]
    }
   ],
   "source": [
    "txt_fdiry = file.path(FD_RES, \"assay_fcc\")\n",
    "vec = dir(txt_fdiry)\n",
    "for (txt in vec) {cat(txt, \"\\n\")}"
   ]
  },
  {
   "cell_type": "code",
   "execution_count": 3,
   "id": "25e03497-b916-4c94-9ed1-dd317622429d",
   "metadata": {},
   "outputs": [],
   "source": [
    "VEC_TXT_ASSAY = c(\n",
    "    \"STARR_ATAC_K562_Reddy_KS91\",\n",
    "    \"STARR_ATAC_K562_Reddy_KS274\",\n",
    "    \"STARR_ATAC_K562_Reddy_KSMerge\",\n",
    "    \"STARR_WHG_K562_Reddy_A001\"\n",
    ")"
   ]
  },
  {
   "cell_type": "markdown",
   "id": "e4ac4e2e-4e09-41d2-9b9f-bfad106270f6",
   "metadata": {},
   "source": [
    "**Helper function**"
   ]
  },
  {
   "cell_type": "code",
   "execution_count": 4,
   "id": "56250e70-ccd9-4ed5-b9b2-3933ee4883c0",
   "metadata": {},
   "outputs": [],
   "source": [
    "get_fpkm = function(mat, vec_num_length){\n",
    "    ### normlaized by size\n",
    "    fun = function(x){x * 10^6 / sum(x)}\n",
    "    mat = apply(mat, 2, fun)\n",
    "    \n",
    "    ### normlaized by length\n",
    "    vec = vec_num_length\n",
    "    fun = function(x){x/vec}\n",
    "    mat = apply(mat, 2, fun)\n",
    "\n",
    "    return(mat)\n",
    "}\n",
    "\n",
    "get_tpm  = function(mat, vec_num_length){\n",
    "    ### normlaized by length\n",
    "    vec = vec_num_length\n",
    "    fun = function(x){x/vec}\n",
    "    mat = apply(mat, 2, fun)\n",
    "    \n",
    "    ### normlaized by size\n",
    "    fun = function(x){x * 10^6 / sum(x)}\n",
    "    mat = apply(mat, 2, fun)\n",
    "    \n",
    "    return(mat)\n",
    "}"
   ]
  },
  {
   "cell_type": "markdown",
   "id": "409cb0e3-f6c9-44f2-b240-0936f7a8719d",
   "metadata": {},
   "source": [
    "## Execute"
   ]
  },
  {
   "cell_type": "code",
   "execution_count": 9,
   "id": "6ad9f832-f909-4b13-b3e1-8cb524e41a11",
   "metadata": {},
   "outputs": [
    {
     "name": "stderr",
     "output_type": "stream",
     "text": [
      "Warning message in gzfile(file, \"rb\"):\n",
      "“cannot open compressed file '/data/reddylab/Kuei/repo/Proj_ENCODE_FCC/results/region_coverage_fcc/astarr_macs_input_union/STARR_ATAC_K562_Reddy_KS91/overlap_count/summary/data.count_column.raw.WGS.rds', probable reason 'No such file or directory'”\n"
     ]
    },
    {
     "ename": "ERROR",
     "evalue": "Error in gzfile(file, \"rb\"): cannot open the connection\n",
     "output_type": "error",
     "traceback": [
      "Error in gzfile(file, \"rb\"): cannot open the connection\nTraceback:\n",
      "1. gzfile(file, \"rb\")",
      "2. .handleSimpleError(function (cnd) \n . {\n .     watcher$capture_plot_and_output()\n .     cnd <- sanitize_call(cnd)\n .     watcher$push(cnd)\n .     switch(on_error, continue = invokeRestart(\"eval_continue\"), \n .         stop = invokeRestart(\"eval_stop\"), error = NULL)\n . }, \"cannot open the connection\", base::quote(gzfile(file, \"rb\")))"
     ]
    }
   ],
   "source": [
    "txt_fpath = \"/data/reddylab/Kuei/repo/Proj_ENCODE_FCC/results/region_coverage_fcc/astarr_macs_input_union/STARR_ATAC_K562_Reddy_KS91/overlap_count/summary/data.count_column.raw.WGS.rds\"\n",
    "lst_dat = readRDS(txt_fpath)"
   ]
  },
  {
   "cell_type": "code",
   "execution_count": 11,
   "id": "78139da4-2e73-4d67-b92e-75735cedf172",
   "metadata": {},
   "outputs": [
    {
     "name": "stdout",
     "output_type": "stream",
     "text": [
      "Assay         STARR_ATAC_K562_Reddy_KS91 \n",
      "Region Label  fcc_astarr_macs_input_overlap \n",
      "\n"
     ]
    },
    {
     "name": "stderr",
     "output_type": "stream",
     "text": [
      "Warning message in filterByExpr.DGEList(dge):\n",
      "“All samples appear to belong to the same group.”\n",
      "Warning message in filterByExpr.DGEList(dge):\n",
      "“All samples appear to belong to the same group.”\n"
     ]
    },
    {
     "name": "stdout",
     "output_type": "stream",
     "text": [
      "Assay         STARR_ATAC_K562_Reddy_KS91 \n",
      "Region Label  fcc_astarr_macs_input_union \n",
      "\n"
     ]
    },
    {
     "name": "stderr",
     "output_type": "stream",
     "text": [
      "Warning message in filterByExpr.DGEList(dge):\n",
      "“All samples appear to belong to the same group.”\n",
      "Warning message in filterByExpr.DGEList(dge):\n",
      "“All samples appear to belong to the same group.”\n"
     ]
    },
    {
     "name": "stdout",
     "output_type": "stream",
     "text": [
      "Assay         STARR_ATAC_K562_Reddy_KS274 \n",
      "Region Label  fcc_astarr_macs_input_overlap \n",
      "\n"
     ]
    },
    {
     "name": "stderr",
     "output_type": "stream",
     "text": [
      "Warning message in filterByExpr.DGEList(dge):\n",
      "“All samples appear to belong to the same group.”\n",
      "Warning message in filterByExpr.DGEList(dge):\n",
      "“All samples appear to belong to the same group.”\n"
     ]
    },
    {
     "name": "stdout",
     "output_type": "stream",
     "text": [
      "Assay         STARR_ATAC_K562_Reddy_KS274 \n",
      "Region Label  fcc_astarr_macs_input_union \n",
      "\n"
     ]
    },
    {
     "name": "stderr",
     "output_type": "stream",
     "text": [
      "Warning message in filterByExpr.DGEList(dge):\n",
      "“All samples appear to belong to the same group.”\n",
      "Warning message in filterByExpr.DGEList(dge):\n",
      "“All samples appear to belong to the same group.”\n"
     ]
    },
    {
     "name": "stdout",
     "output_type": "stream",
     "text": [
      "Assay         STARR_ATAC_K562_Reddy_KSMerge \n",
      "Region Label  fcc_astarr_macs_input_overlap \n",
      "\n"
     ]
    },
    {
     "name": "stderr",
     "output_type": "stream",
     "text": [
      "Warning message in filterByExpr.DGEList(dge):\n",
      "“All samples appear to belong to the same group.”\n",
      "Warning message in filterByExpr.DGEList(dge):\n",
      "“All samples appear to belong to the same group.”\n"
     ]
    },
    {
     "name": "stdout",
     "output_type": "stream",
     "text": [
      "Assay         STARR_ATAC_K562_Reddy_KSMerge \n",
      "Region Label  fcc_astarr_macs_input_union \n",
      "\n"
     ]
    },
    {
     "name": "stderr",
     "output_type": "stream",
     "text": [
      "Warning message in filterByExpr.DGEList(dge):\n",
      "“All samples appear to belong to the same group.”\n",
      "Warning message in filterByExpr.DGEList(dge):\n",
      "“All samples appear to belong to the same group.”\n"
     ]
    },
    {
     "name": "stdout",
     "output_type": "stream",
     "text": [
      "Assay         STARR_WHG_K562_Reddy_A001 \n",
      "Region Label  fcc_astarr_macs_input_overlap \n",
      "\n"
     ]
    },
    {
     "name": "stderr",
     "output_type": "stream",
     "text": [
      "Warning message in filterByExpr.DGEList(dge):\n",
      "“All samples appear to belong to the same group.”\n",
      "Warning message in filterByExpr.DGEList(dge):\n",
      "“All samples appear to belong to the same group.”\n"
     ]
    },
    {
     "name": "stdout",
     "output_type": "stream",
     "text": [
      "Assay         STARR_WHG_K562_Reddy_A001 \n",
      "Region Label  fcc_astarr_macs_input_union \n",
      "\n"
     ]
    },
    {
     "name": "stderr",
     "output_type": "stream",
     "text": [
      "Warning message in filterByExpr.DGEList(dge):\n",
      "“All samples appear to belong to the same group.”\n",
      "Warning message in filterByExpr.DGEList(dge):\n",
      "“All samples appear to belong to the same group.”\n"
     ]
    }
   ],
   "source": [
    "###\n",
    "vec_txt_assay  = VEC_TXT_ASSAY\n",
    "vec_txt_region = c(\"fcc_astarr_macs_input_overlap\", \"fcc_astarr_macs_input_union\")\n",
    "\n",
    "###\n",
    "for (txt_assay in vec_txt_assay){\n",
    "    for (txt_region_label in vec_txt_region) {\n",
    "        \n",
    "        ### show progress\n",
    "        cat(\"Assay        \", txt_assay,         \"\\n\")\n",
    "        cat(\"Region Label \", txt_region_label,  \"\\n\")\n",
    "        cat(\"\\n\")\n",
    "        flush.console()\n",
    "\n",
    "        ### get column and column data\n",
    "        txt_fdiry = file.path(\n",
    "            FD_RES, \n",
    "            \"region_coverage_fcc\",\n",
    "            txt_region_label,\n",
    "            txt_assay, \n",
    "            \"overlap_count\", \n",
    "            \"summary\")\n",
    "\n",
    "        ###\n",
    "        txt_fname = \"data.count_column.raw.WGS.rds\"\n",
    "        txt_fpath = file.path(txt_fdiry, txt_fname)\n",
    "\n",
    "        lst_dat = readRDS(txt_fpath)\n",
    "        dat_cnt = lst_dat$data_cnt\n",
    "        dat_col = lst_dat$data_col\n",
    "        dat_reg = dat_cnt %>% dplyr::select(Chrom, ChromStart, ChromEnd, Region)\n",
    "        \n",
    "        ###\n",
    "        txt_fname = \"data.deseq2.rds\"\n",
    "        txt_fpath = file.path(txt_fdiry, txt_fname)\n",
    "\n",
    "        dds = readRDS(txt_fpath)\n",
    "        \n",
    "        ###\n",
    "        txt_fname = \"data.edger.rds\"\n",
    "        txt_fpath = file.path(txt_fdiry, txt_fname)\n",
    "\n",
    "        lst_dge = readRDS(txt_fpath)\n",
    "\n",
    "        ### ========================================\n",
    "        ### Calculate: Screened\n",
    "        ### ----------------------------------------\n",
    "        \n",
    "        lst = lst_dge\n",
    "        lst = lapply(lst, function(dge){\n",
    "            idx = filterByExpr(dge)\n",
    "            dat = data.frame(\n",
    "                Region = names(idx),\n",
    "                Screen = idx\n",
    "            )\n",
    "            return(dat)\n",
    "        })\n",
    "        \n",
    "        dat = bind_rows(lst, .id = \"Set\")\n",
    "        dat = dat %>% tidyr::spread(Set, Screen)\n",
    "        dat = dplyr::left_join(dat_reg, dat, by = \"Region\")\n",
    "        \n",
    "        dat_screen = dat\n",
    "        \n",
    "        ### ========================================\n",
    "        ### Calculate DESeq2 Counts & Log2FC\n",
    "        ### ----------------------------------------\n",
    "\n",
    "        ### DESeq2 normalized counts\n",
    "        mat = counts(dds, normalized=TRUE)\n",
    "        dat = mat %>% as.data.frame %>% rownames_to_column(\"Region\")\n",
    "        dat = dplyr::left_join(dat_reg, dat, by = \"Region\")\n",
    "\n",
    "        mat_dds_count = mat\n",
    "        dat_dds_count = dat\n",
    "\n",
    "        ### Deseq2 results\n",
    "        res = results(dds, contrast = c(\"Group\", \"Output\", \"Input\"))\n",
    "        dat = res %>% as.data.frame %>% rownames_to_column(\"Region\")\n",
    "        dat = dplyr::left_join(dat_reg, dat, by = \"Region\")\n",
    "        \n",
    "        dat_dds_result = dat\n",
    "\n",
    "        ### ========================================\n",
    "        ### Calculate CPM\n",
    "        ### ----------------------------------------\n",
    "        \n",
    "        ### ========================================\n",
    "        ### Calculate TPM & FPKM\n",
    "        ### ----------------------------------------\n",
    "\n",
    "        ### init and get region length\n",
    "        dat = dat_cnt\n",
    "        dat = dat %>% dplyr::mutate(Length = ChromEnd - ChromStart)\n",
    "\n",
    "        ### arrange count into matrix\n",
    "        mat = dat %>% \n",
    "           dplyr::select(\n",
    "               Region, \n",
    "               starts_with(\"Input\"), \n",
    "               starts_with(\"Output\")) %>% \n",
    "           column_to_rownames(var = \"Region\")\n",
    "        \n",
    "        ### calculate TPM and FPKM\n",
    "        mat_tpm  = get_tpm(mat, dat$Length)\n",
    "        mat_fpkm = get_fpkm(mat, dat$Length)\n",
    "\n",
    "        ### arrange matrix into dataframe\n",
    "        mat = mat_tpm\n",
    "        dat = mat %>% as.data.frame %>% rownames_to_column(\"Region\")\n",
    "        dat = dplyr::left_join(dat_reg, dat, by = \"Region\")\n",
    "        dat_tpm = dat\n",
    "\n",
    "        mat = mat_fpkm\n",
    "        dat = mat %>% as.data.frame %>% rownames_to_column(\"Region\")\n",
    "        dat = dplyr::left_join(dat_reg, dat, by = \"Region\")\n",
    "        dat_fpkm = dat\n",
    "        \n",
    "        ### ========================================\n",
    "        ### Calculate mean TPM & FPKM\n",
    "        ### ----------------------------------------\n",
    "        \n",
    "        ### convert to tidy data\n",
    "        lst = list(\n",
    "            \"TPM\"   = mat_tpm,\n",
    "            \"FPKM\"  = mat_fpkm,\n",
    "            \"DESeq\" = mat_dds_count\n",
    "        )\n",
    "        lst = lapply(lst, function(mat){\n",
    "            dat = mat %>% \n",
    "                as.data.frame %>% \n",
    "                rownames_to_column(var = \"Region\") %>% \n",
    "                tidyr::gather(Sample, Value, -Region)\n",
    "            return(dat)\n",
    "        })\n",
    "        dat = bind_rows(lst, .id = \"Method\")\n",
    "        \n",
    "        ### calculate mean by group (Input & Output)\n",
    "        tmp = dat_col %>% dplyr::select(Sample, Group)\n",
    "        dat = dplyr::left_join(dat, tmp, by=\"Sample\")\n",
    "        dat = dat %>%\n",
    "            dplyr::group_by(Region, Method, Group) %>%\n",
    "            dplyr::summarize(Mean = mean(Value), .groups = \"drop\") %>%\n",
    "            dplyr::mutate(Name = paste(Group, Method, sep = \"_\")) %>%\n",
    "            dplyr::select(Region, Name, Mean) %>%\n",
    "            tidyr::spread(Name, Mean)\n",
    "        \n",
    "        dat = dplyr::left_join(dat_reg, dat, by = \"Region\")\n",
    "        dat_summary = dat\n",
    "\n",
    "        ### ========================================\n",
    "        ### Save results\n",
    "        ### ----------------------------------------\n",
    "        \n",
    "        txt_fname = \"matrix.count.TPM.WGS.tsv\"\n",
    "        txt_fpath = file.path(txt_fdiry, txt_fname)\n",
    "        dat = dat_tpm\n",
    "        write_tsv(dat, txt_fpath)\n",
    "        \n",
    "        txt_fname = \"matrix.count.FPKM.WGS.tsv\"\n",
    "        txt_fpath = file.path(txt_fdiry, txt_fname)\n",
    "        dat = dat_fpkm\n",
    "        write_tsv(dat, txt_fpath)\n",
    "        \n",
    "        txt_fname = \"matrix.count.deseq.WGS.tsv\"\n",
    "        txt_fpath = file.path(txt_fdiry, txt_fname)\n",
    "        dat = dat_dds_count\n",
    "        write_tsv(dat, txt_fpath)\n",
    "        \n",
    "        txt_fname = \"result.coverage.Log2FC.deseq.tsv\"\n",
    "        txt_fpath = file.path(txt_fdiry, txt_fname)\n",
    "        dat = dat_dds_result\n",
    "        write_tsv(dat, txt_fpath)\n",
    "        \n",
    "        txt_fname = \"result.coverage.summary.tsv\"\n",
    "        txt_fpath = file.path(txt_fdiry, txt_fname)\n",
    "        dat = dat_summary\n",
    "        write_tsv(dat, txt_fpath)\n",
    "        \n",
    "        txt_fname = \"result.coverage.screened.tsv\"\n",
    "        txt_fpath = file.path(txt_fdiry, txt_fname)\n",
    "        dat = dat_screen\n",
    "        write_tsv(dat, txt_fpath)\n",
    "        \n",
    "    }\n",
    "}"
   ]
  },
  {
   "cell_type": "markdown",
   "id": "789f8f48-6326-4cc3-8f1b-7a2e8a3b47fd",
   "metadata": {},
   "source": [
    "## Review"
   ]
  },
  {
   "cell_type": "code",
   "execution_count": 56,
   "id": "bdc68f35-74e5-457e-a197-97dcaa278782",
   "metadata": {},
   "outputs": [
    {
     "data": {
      "text/html": [
       "<table class=\"dataframe\">\n",
       "<caption>A tibble: 3 × 14</caption>\n",
       "<thead>\n",
       "\t<tr><th scope=col>Chrom</th><th scope=col>ChromStart</th><th scope=col>ChromEnd</th><th scope=col>Region</th><th scope=col>Input.rep1</th><th scope=col>Input.rep2</th><th scope=col>Input.rep3</th><th scope=col>Input.rep4</th><th scope=col>Input.rep5</th><th scope=col>Input.rep6</th><th scope=col>Output.rep1</th><th scope=col>Output.rep2</th><th scope=col>Output.rep3</th><th scope=col>Output.rep4</th></tr>\n",
       "\t<tr><th scope=col>&lt;chr&gt;</th><th scope=col>&lt;dbl&gt;</th><th scope=col>&lt;dbl&gt;</th><th scope=col>&lt;chr&gt;</th><th scope=col>&lt;dbl&gt;</th><th scope=col>&lt;dbl&gt;</th><th scope=col>&lt;dbl&gt;</th><th scope=col>&lt;dbl&gt;</th><th scope=col>&lt;dbl&gt;</th><th scope=col>&lt;dbl&gt;</th><th scope=col>&lt;dbl&gt;</th><th scope=col>&lt;dbl&gt;</th><th scope=col>&lt;dbl&gt;</th><th scope=col>&lt;dbl&gt;</th></tr>\n",
       "</thead>\n",
       "<tbody>\n",
       "\t<tr><td>chr1</td><td>10038</td><td>10405</td><td>chr1:10038-10405</td><td>85.29216</td><td>94.85917</td><td>103.92258</td><td>104.02099</td><td>82.94011</td><td>106.93828</td><td>26.91726</td><td>34.93514</td><td>11.10767</td><td>15.78996</td></tr>\n",
       "\t<tr><td>chr1</td><td>14282</td><td>14614</td><td>chr1:14282-14614</td><td>62.35151</td><td>63.69770</td><td> 65.16457</td><td> 62.23090</td><td>57.31255</td><td> 66.44709</td><td>43.06761</td><td>66.95901</td><td>72.19984</td><td>64.73885</td></tr>\n",
       "\t<tr><td>chr1</td><td>16025</td><td>16338</td><td>chr1:16025-16338</td><td>72.93950</td><td>86.61054</td><td> 74.53464</td><td> 77.22082</td><td>82.94011</td><td> 85.13533</td><td>43.06761</td><td>20.37883</td><td>41.65375</td><td>28.42194</td></tr>\n",
       "</tbody>\n",
       "</table>\n"
      ],
      "text/latex": [
       "A tibble: 3 × 14\n",
       "\\begin{tabular}{llllllllllllll}\n",
       " Chrom & ChromStart & ChromEnd & Region & Input.rep1 & Input.rep2 & Input.rep3 & Input.rep4 & Input.rep5 & Input.rep6 & Output.rep1 & Output.rep2 & Output.rep3 & Output.rep4\\\\\n",
       " <chr> & <dbl> & <dbl> & <chr> & <dbl> & <dbl> & <dbl> & <dbl> & <dbl> & <dbl> & <dbl> & <dbl> & <dbl> & <dbl>\\\\\n",
       "\\hline\n",
       "\t chr1 & 10038 & 10405 & chr1:10038-10405 & 85.29216 & 94.85917 & 103.92258 & 104.02099 & 82.94011 & 106.93828 & 26.91726 & 34.93514 & 11.10767 & 15.78996\\\\\n",
       "\t chr1 & 14282 & 14614 & chr1:14282-14614 & 62.35151 & 63.69770 &  65.16457 &  62.23090 & 57.31255 &  66.44709 & 43.06761 & 66.95901 & 72.19984 & 64.73885\\\\\n",
       "\t chr1 & 16025 & 16338 & chr1:16025-16338 & 72.93950 & 86.61054 &  74.53464 &  77.22082 & 82.94011 &  85.13533 & 43.06761 & 20.37883 & 41.65375 & 28.42194\\\\\n",
       "\\end{tabular}\n"
      ],
      "text/markdown": [
       "\n",
       "A tibble: 3 × 14\n",
       "\n",
       "| Chrom &lt;chr&gt; | ChromStart &lt;dbl&gt; | ChromEnd &lt;dbl&gt; | Region &lt;chr&gt; | Input.rep1 &lt;dbl&gt; | Input.rep2 &lt;dbl&gt; | Input.rep3 &lt;dbl&gt; | Input.rep4 &lt;dbl&gt; | Input.rep5 &lt;dbl&gt; | Input.rep6 &lt;dbl&gt; | Output.rep1 &lt;dbl&gt; | Output.rep2 &lt;dbl&gt; | Output.rep3 &lt;dbl&gt; | Output.rep4 &lt;dbl&gt; |\n",
       "|---|---|---|---|---|---|---|---|---|---|---|---|---|---|\n",
       "| chr1 | 10038 | 10405 | chr1:10038-10405 | 85.29216 | 94.85917 | 103.92258 | 104.02099 | 82.94011 | 106.93828 | 26.91726 | 34.93514 | 11.10767 | 15.78996 |\n",
       "| chr1 | 14282 | 14614 | chr1:14282-14614 | 62.35151 | 63.69770 |  65.16457 |  62.23090 | 57.31255 |  66.44709 | 43.06761 | 66.95901 | 72.19984 | 64.73885 |\n",
       "| chr1 | 16025 | 16338 | chr1:16025-16338 | 72.93950 | 86.61054 |  74.53464 |  77.22082 | 82.94011 |  85.13533 | 43.06761 | 20.37883 | 41.65375 | 28.42194 |\n",
       "\n"
      ],
      "text/plain": [
       "  Chrom ChromStart ChromEnd Region           Input.rep1 Input.rep2 Input.rep3\n",
       "1 chr1  10038      10405    chr1:10038-10405 85.29216   94.85917   103.92258 \n",
       "2 chr1  14282      14614    chr1:14282-14614 62.35151   63.69770    65.16457 \n",
       "3 chr1  16025      16338    chr1:16025-16338 72.93950   86.61054    74.53464 \n",
       "  Input.rep4 Input.rep5 Input.rep6 Output.rep1 Output.rep2 Output.rep3\n",
       "1 104.02099  82.94011   106.93828  26.91726    34.93514    11.10767   \n",
       "2  62.23090  57.31255    66.44709  43.06761    66.95901    72.19984   \n",
       "3  77.22082  82.94011    85.13533  43.06761    20.37883    41.65375   \n",
       "  Output.rep4\n",
       "1 15.78996   \n",
       "2 64.73885   \n",
       "3 28.42194   "
      ]
     },
     "metadata": {},
     "output_type": "display_data"
    }
   ],
   "source": [
    "head(dat_dds_count, 3)"
   ]
  },
  {
   "cell_type": "code",
   "execution_count": 57,
   "id": "8e478932-082c-493d-88a6-e90f76266a44",
   "metadata": {},
   "outputs": [
    {
     "data": {
      "text/html": [
       "<table class=\"dataframe\">\n",
       "<caption>A tibble: 3 × 10</caption>\n",
       "<thead>\n",
       "\t<tr><th scope=col>Chrom</th><th scope=col>ChromStart</th><th scope=col>ChromEnd</th><th scope=col>Region</th><th scope=col>baseMean</th><th scope=col>log2FoldChange</th><th scope=col>lfcSE</th><th scope=col>stat</th><th scope=col>pvalue</th><th scope=col>padj</th></tr>\n",
       "\t<tr><th scope=col>&lt;chr&gt;</th><th scope=col>&lt;dbl&gt;</th><th scope=col>&lt;dbl&gt;</th><th scope=col>&lt;chr&gt;</th><th scope=col>&lt;dbl&gt;</th><th scope=col>&lt;dbl&gt;</th><th scope=col>&lt;dbl&gt;</th><th scope=col>&lt;dbl&gt;</th><th scope=col>&lt;dbl&gt;</th><th scope=col>&lt;dbl&gt;</th></tr>\n",
       "</thead>\n",
       "<tbody>\n",
       "\t<tr><td>chr1</td><td>10038</td><td>10405</td><td>chr1:10038-10405</td><td>66.67233</td><td>-2.23485278</td><td>0.2790669</td><td>-8.0083052</td><td>1.163000e-15</td><td>8.299026e-15</td></tr>\n",
       "\t<tr><td>chr1</td><td>14282</td><td>14614</td><td>chr1:14282-14614</td><td>62.41696</td><td> 0.03179054</td><td>0.1644506</td><td> 0.1933136</td><td>8.467134e-01</td><td>8.816469e-01</td></tr>\n",
       "\t<tr><td>chr1</td><td>16025</td><td>16338</td><td>chr1:16025-16338</td><td>61.29031</td><td>-1.33934074</td><td>0.2226910</td><td>-6.0143468</td><td>1.806134e-09</td><td>8.654528e-09</td></tr>\n",
       "</tbody>\n",
       "</table>\n"
      ],
      "text/latex": [
       "A tibble: 3 × 10\n",
       "\\begin{tabular}{llllllllll}\n",
       " Chrom & ChromStart & ChromEnd & Region & baseMean & log2FoldChange & lfcSE & stat & pvalue & padj\\\\\n",
       " <chr> & <dbl> & <dbl> & <chr> & <dbl> & <dbl> & <dbl> & <dbl> & <dbl> & <dbl>\\\\\n",
       "\\hline\n",
       "\t chr1 & 10038 & 10405 & chr1:10038-10405 & 66.67233 & -2.23485278 & 0.2790669 & -8.0083052 & 1.163000e-15 & 8.299026e-15\\\\\n",
       "\t chr1 & 14282 & 14614 & chr1:14282-14614 & 62.41696 &  0.03179054 & 0.1644506 &  0.1933136 & 8.467134e-01 & 8.816469e-01\\\\\n",
       "\t chr1 & 16025 & 16338 & chr1:16025-16338 & 61.29031 & -1.33934074 & 0.2226910 & -6.0143468 & 1.806134e-09 & 8.654528e-09\\\\\n",
       "\\end{tabular}\n"
      ],
      "text/markdown": [
       "\n",
       "A tibble: 3 × 10\n",
       "\n",
       "| Chrom &lt;chr&gt; | ChromStart &lt;dbl&gt; | ChromEnd &lt;dbl&gt; | Region &lt;chr&gt; | baseMean &lt;dbl&gt; | log2FoldChange &lt;dbl&gt; | lfcSE &lt;dbl&gt; | stat &lt;dbl&gt; | pvalue &lt;dbl&gt; | padj &lt;dbl&gt; |\n",
       "|---|---|---|---|---|---|---|---|---|---|\n",
       "| chr1 | 10038 | 10405 | chr1:10038-10405 | 66.67233 | -2.23485278 | 0.2790669 | -8.0083052 | 1.163000e-15 | 8.299026e-15 |\n",
       "| chr1 | 14282 | 14614 | chr1:14282-14614 | 62.41696 |  0.03179054 | 0.1644506 |  0.1933136 | 8.467134e-01 | 8.816469e-01 |\n",
       "| chr1 | 16025 | 16338 | chr1:16025-16338 | 61.29031 | -1.33934074 | 0.2226910 | -6.0143468 | 1.806134e-09 | 8.654528e-09 |\n",
       "\n"
      ],
      "text/plain": [
       "  Chrom ChromStart ChromEnd Region           baseMean log2FoldChange lfcSE    \n",
       "1 chr1  10038      10405    chr1:10038-10405 66.67233 -2.23485278    0.2790669\n",
       "2 chr1  14282      14614    chr1:14282-14614 62.41696  0.03179054    0.1644506\n",
       "3 chr1  16025      16338    chr1:16025-16338 61.29031 -1.33934074    0.2226910\n",
       "  stat       pvalue       padj        \n",
       "1 -8.0083052 1.163000e-15 8.299026e-15\n",
       "2  0.1933136 8.467134e-01 8.816469e-01\n",
       "3 -6.0143468 1.806134e-09 8.654528e-09"
      ]
     },
     "metadata": {},
     "output_type": "display_data"
    }
   ],
   "source": [
    "head(dat_dds_result, 3)"
   ]
  },
  {
   "cell_type": "code",
   "execution_count": 59,
   "id": "c8c0fdbd-fdd6-4bfb-925c-3942891c7a33",
   "metadata": {},
   "outputs": [
    {
     "data": {
      "text/html": [
       "<table class=\"dataframe\">\n",
       "<caption>A tibble: 3 × 14</caption>\n",
       "<thead>\n",
       "\t<tr><th scope=col>Chrom</th><th scope=col>ChromStart</th><th scope=col>ChromEnd</th><th scope=col>Region</th><th scope=col>Input.rep1</th><th scope=col>Input.rep2</th><th scope=col>Input.rep3</th><th scope=col>Input.rep4</th><th scope=col>Input.rep5</th><th scope=col>Input.rep6</th><th scope=col>Output.rep1</th><th scope=col>Output.rep2</th><th scope=col>Output.rep3</th><th scope=col>Output.rep4</th></tr>\n",
       "\t<tr><th scope=col>&lt;chr&gt;</th><th scope=col>&lt;dbl&gt;</th><th scope=col>&lt;dbl&gt;</th><th scope=col>&lt;chr&gt;</th><th scope=col>&lt;dbl&gt;</th><th scope=col>&lt;dbl&gt;</th><th scope=col>&lt;dbl&gt;</th><th scope=col>&lt;dbl&gt;</th><th scope=col>&lt;dbl&gt;</th><th scope=col>&lt;dbl&gt;</th><th scope=col>&lt;dbl&gt;</th><th scope=col>&lt;dbl&gt;</th><th scope=col>&lt;dbl&gt;</th><th scope=col>&lt;dbl&gt;</th></tr>\n",
       "</thead>\n",
       "<tbody>\n",
       "\t<tr><td>chr1</td><td>10038</td><td>10405</td><td>chr1:10038-10405</td><td>3.445338</td><td>3.888148</td><td>4.290341</td><td>4.273202</td><td>3.397390</td><td>4.345809</td><td>0.8436118</td><td>1.171350</td><td>0.3693823</td><td>0.4884531</td></tr>\n",
       "\t<tr><td>chr1</td><td>14282</td><td>14614</td><td>chr1:14282-14614</td><td>2.784182</td><td>2.886126</td><td>2.973866</td><td>2.825963</td><td>2.595126</td><td>2.984980</td><td>1.4920749</td><td>2.481768</td><td>2.6541010</td><td>2.2137812</td></tr>\n",
       "\t<tr><td>chr1</td><td>16025</td><td>16338</td><td>chr1:16025-16338</td><td>3.454675</td><td>4.162517</td><td>3.607961</td><td>3.719535</td><td>3.983521</td><td>4.056664</td><td>1.5826481</td><td>0.801171</td><td>1.6241611</td><td>1.0309013</td></tr>\n",
       "</tbody>\n",
       "</table>\n"
      ],
      "text/latex": [
       "A tibble: 3 × 14\n",
       "\\begin{tabular}{llllllllllllll}\n",
       " Chrom & ChromStart & ChromEnd & Region & Input.rep1 & Input.rep2 & Input.rep3 & Input.rep4 & Input.rep5 & Input.rep6 & Output.rep1 & Output.rep2 & Output.rep3 & Output.rep4\\\\\n",
       " <chr> & <dbl> & <dbl> & <chr> & <dbl> & <dbl> & <dbl> & <dbl> & <dbl> & <dbl> & <dbl> & <dbl> & <dbl> & <dbl>\\\\\n",
       "\\hline\n",
       "\t chr1 & 10038 & 10405 & chr1:10038-10405 & 3.445338 & 3.888148 & 4.290341 & 4.273202 & 3.397390 & 4.345809 & 0.8436118 & 1.171350 & 0.3693823 & 0.4884531\\\\\n",
       "\t chr1 & 14282 & 14614 & chr1:14282-14614 & 2.784182 & 2.886126 & 2.973866 & 2.825963 & 2.595126 & 2.984980 & 1.4920749 & 2.481768 & 2.6541010 & 2.2137812\\\\\n",
       "\t chr1 & 16025 & 16338 & chr1:16025-16338 & 3.454675 & 4.162517 & 3.607961 & 3.719535 & 3.983521 & 4.056664 & 1.5826481 & 0.801171 & 1.6241611 & 1.0309013\\\\\n",
       "\\end{tabular}\n"
      ],
      "text/markdown": [
       "\n",
       "A tibble: 3 × 14\n",
       "\n",
       "| Chrom &lt;chr&gt; | ChromStart &lt;dbl&gt; | ChromEnd &lt;dbl&gt; | Region &lt;chr&gt; | Input.rep1 &lt;dbl&gt; | Input.rep2 &lt;dbl&gt; | Input.rep3 &lt;dbl&gt; | Input.rep4 &lt;dbl&gt; | Input.rep5 &lt;dbl&gt; | Input.rep6 &lt;dbl&gt; | Output.rep1 &lt;dbl&gt; | Output.rep2 &lt;dbl&gt; | Output.rep3 &lt;dbl&gt; | Output.rep4 &lt;dbl&gt; |\n",
       "|---|---|---|---|---|---|---|---|---|---|---|---|---|---|\n",
       "| chr1 | 10038 | 10405 | chr1:10038-10405 | 3.445338 | 3.888148 | 4.290341 | 4.273202 | 3.397390 | 4.345809 | 0.8436118 | 1.171350 | 0.3693823 | 0.4884531 |\n",
       "| chr1 | 14282 | 14614 | chr1:14282-14614 | 2.784182 | 2.886126 | 2.973866 | 2.825963 | 2.595126 | 2.984980 | 1.4920749 | 2.481768 | 2.6541010 | 2.2137812 |\n",
       "| chr1 | 16025 | 16338 | chr1:16025-16338 | 3.454675 | 4.162517 | 3.607961 | 3.719535 | 3.983521 | 4.056664 | 1.5826481 | 0.801171 | 1.6241611 | 1.0309013 |\n",
       "\n"
      ],
      "text/plain": [
       "  Chrom ChromStart ChromEnd Region           Input.rep1 Input.rep2 Input.rep3\n",
       "1 chr1  10038      10405    chr1:10038-10405 3.445338   3.888148   4.290341  \n",
       "2 chr1  14282      14614    chr1:14282-14614 2.784182   2.886126   2.973866  \n",
       "3 chr1  16025      16338    chr1:16025-16338 3.454675   4.162517   3.607961  \n",
       "  Input.rep4 Input.rep5 Input.rep6 Output.rep1 Output.rep2 Output.rep3\n",
       "1 4.273202   3.397390   4.345809   0.8436118   1.171350    0.3693823  \n",
       "2 2.825963   2.595126   2.984980   1.4920749   2.481768    2.6541010  \n",
       "3 3.719535   3.983521   4.056664   1.5826481   0.801171    1.6241611  \n",
       "  Output.rep4\n",
       "1 0.4884531  \n",
       "2 2.2137812  \n",
       "3 1.0309013  "
      ]
     },
     "metadata": {},
     "output_type": "display_data"
    }
   ],
   "source": [
    "head(dat_tpm, 3)"
   ]
  },
  {
   "cell_type": "code",
   "execution_count": 60,
   "id": "c97294ae-b5a0-4790-9105-c472e910459d",
   "metadata": {},
   "outputs": [
    {
     "data": {
      "text/html": [
       "<table class=\"dataframe\">\n",
       "<caption>A tibble: 3 × 14</caption>\n",
       "<thead>\n",
       "\t<tr><th scope=col>Chrom</th><th scope=col>ChromStart</th><th scope=col>ChromEnd</th><th scope=col>Region</th><th scope=col>Input.rep1</th><th scope=col>Input.rep2</th><th scope=col>Input.rep3</th><th scope=col>Input.rep4</th><th scope=col>Input.rep5</th><th scope=col>Input.rep6</th><th scope=col>Output.rep1</th><th scope=col>Output.rep2</th><th scope=col>Output.rep3</th><th scope=col>Output.rep4</th></tr>\n",
       "\t<tr><th scope=col>&lt;chr&gt;</th><th scope=col>&lt;dbl&gt;</th><th scope=col>&lt;dbl&gt;</th><th scope=col>&lt;chr&gt;</th><th scope=col>&lt;dbl&gt;</th><th scope=col>&lt;dbl&gt;</th><th scope=col>&lt;dbl&gt;</th><th scope=col>&lt;dbl&gt;</th><th scope=col>&lt;dbl&gt;</th><th scope=col>&lt;dbl&gt;</th><th scope=col>&lt;dbl&gt;</th><th scope=col>&lt;dbl&gt;</th><th scope=col>&lt;dbl&gt;</th><th scope=col>&lt;dbl&gt;</th></tr>\n",
       "</thead>\n",
       "<tbody>\n",
       "\t<tr><td>chr1</td><td>10038</td><td>10405</td><td>chr1:10038-10405</td><td>0.003629544</td><td>0.004114802</td><td>0.004548045</td><td>0.004522405</td><td>0.003592098</td><td>0.004579404</td><td>0.0008557153</td><td>0.0012171316</td><td>0.0003817082</td><td>0.000488374</td></tr>\n",
       "\t<tr><td>chr1</td><td>14282</td><td>14614</td><td>chr1:14282-14614</td><td>0.002933039</td><td>0.003054368</td><td>0.003152495</td><td>0.002990766</td><td>0.002743856</td><td>0.003145428</td><td>0.0015134820</td><td>0.0025787671</td><td>0.0027426652</td><td>0.002213423</td></tr>\n",
       "\t<tr><td>chr1</td><td>16025</td><td>16338</td><td>chr1:16025-16338</td><td>0.003639380</td><td>0.004405164</td><td>0.003824677</td><td>0.003936449</td><td>0.004211821</td><td>0.004274716</td><td>0.0016053547</td><td>0.0008324843</td><td>0.0016783574</td><td>0.001030734</td></tr>\n",
       "</tbody>\n",
       "</table>\n"
      ],
      "text/latex": [
       "A tibble: 3 × 14\n",
       "\\begin{tabular}{llllllllllllll}\n",
       " Chrom & ChromStart & ChromEnd & Region & Input.rep1 & Input.rep2 & Input.rep3 & Input.rep4 & Input.rep5 & Input.rep6 & Output.rep1 & Output.rep2 & Output.rep3 & Output.rep4\\\\\n",
       " <chr> & <dbl> & <dbl> & <chr> & <dbl> & <dbl> & <dbl> & <dbl> & <dbl> & <dbl> & <dbl> & <dbl> & <dbl> & <dbl>\\\\\n",
       "\\hline\n",
       "\t chr1 & 10038 & 10405 & chr1:10038-10405 & 0.003629544 & 0.004114802 & 0.004548045 & 0.004522405 & 0.003592098 & 0.004579404 & 0.0008557153 & 0.0012171316 & 0.0003817082 & 0.000488374\\\\\n",
       "\t chr1 & 14282 & 14614 & chr1:14282-14614 & 0.002933039 & 0.003054368 & 0.003152495 & 0.002990766 & 0.002743856 & 0.003145428 & 0.0015134820 & 0.0025787671 & 0.0027426652 & 0.002213423\\\\\n",
       "\t chr1 & 16025 & 16338 & chr1:16025-16338 & 0.003639380 & 0.004405164 & 0.003824677 & 0.003936449 & 0.004211821 & 0.004274716 & 0.0016053547 & 0.0008324843 & 0.0016783574 & 0.001030734\\\\\n",
       "\\end{tabular}\n"
      ],
      "text/markdown": [
       "\n",
       "A tibble: 3 × 14\n",
       "\n",
       "| Chrom &lt;chr&gt; | ChromStart &lt;dbl&gt; | ChromEnd &lt;dbl&gt; | Region &lt;chr&gt; | Input.rep1 &lt;dbl&gt; | Input.rep2 &lt;dbl&gt; | Input.rep3 &lt;dbl&gt; | Input.rep4 &lt;dbl&gt; | Input.rep5 &lt;dbl&gt; | Input.rep6 &lt;dbl&gt; | Output.rep1 &lt;dbl&gt; | Output.rep2 &lt;dbl&gt; | Output.rep3 &lt;dbl&gt; | Output.rep4 &lt;dbl&gt; |\n",
       "|---|---|---|---|---|---|---|---|---|---|---|---|---|---|\n",
       "| chr1 | 10038 | 10405 | chr1:10038-10405 | 0.003629544 | 0.004114802 | 0.004548045 | 0.004522405 | 0.003592098 | 0.004579404 | 0.0008557153 | 0.0012171316 | 0.0003817082 | 0.000488374 |\n",
       "| chr1 | 14282 | 14614 | chr1:14282-14614 | 0.002933039 | 0.003054368 | 0.003152495 | 0.002990766 | 0.002743856 | 0.003145428 | 0.0015134820 | 0.0025787671 | 0.0027426652 | 0.002213423 |\n",
       "| chr1 | 16025 | 16338 | chr1:16025-16338 | 0.003639380 | 0.004405164 | 0.003824677 | 0.003936449 | 0.004211821 | 0.004274716 | 0.0016053547 | 0.0008324843 | 0.0016783574 | 0.001030734 |\n",
       "\n"
      ],
      "text/plain": [
       "  Chrom ChromStart ChromEnd Region           Input.rep1  Input.rep2 \n",
       "1 chr1  10038      10405    chr1:10038-10405 0.003629544 0.004114802\n",
       "2 chr1  14282      14614    chr1:14282-14614 0.002933039 0.003054368\n",
       "3 chr1  16025      16338    chr1:16025-16338 0.003639380 0.004405164\n",
       "  Input.rep3  Input.rep4  Input.rep5  Input.rep6  Output.rep1  Output.rep2 \n",
       "1 0.004548045 0.004522405 0.003592098 0.004579404 0.0008557153 0.0012171316\n",
       "2 0.003152495 0.002990766 0.002743856 0.003145428 0.0015134820 0.0025787671\n",
       "3 0.003824677 0.003936449 0.004211821 0.004274716 0.0016053547 0.0008324843\n",
       "  Output.rep3  Output.rep4\n",
       "1 0.0003817082 0.000488374\n",
       "2 0.0027426652 0.002213423\n",
       "3 0.0016783574 0.001030734"
      ]
     },
     "metadata": {},
     "output_type": "display_data"
    }
   ],
   "source": [
    "head(dat_fpkm, 3)"
   ]
  },
  {
   "cell_type": "code",
   "execution_count": 58,
   "id": "e96991e2-06ac-4e1b-a99e-c62c6582583e",
   "metadata": {},
   "outputs": [
    {
     "data": {
      "text/html": [
       "<table class=\"dataframe\">\n",
       "<caption>A tibble: 3 × 8</caption>\n",
       "<thead>\n",
       "\t<tr><th scope=col>Chrom</th><th scope=col>ChromStart</th><th scope=col>ChromEnd</th><th scope=col>Region</th><th scope=col>Input_FPKM</th><th scope=col>Input_TPM</th><th scope=col>Output_FPKM</th><th scope=col>Output_TPM</th></tr>\n",
       "\t<tr><th scope=col>&lt;chr&gt;</th><th scope=col>&lt;dbl&gt;</th><th scope=col>&lt;dbl&gt;</th><th scope=col>&lt;chr&gt;</th><th scope=col>&lt;dbl&gt;</th><th scope=col>&lt;dbl&gt;</th><th scope=col>&lt;dbl&gt;</th><th scope=col>&lt;dbl&gt;</th></tr>\n",
       "</thead>\n",
       "<tbody>\n",
       "\t<tr><td>chr1</td><td>10038</td><td>10405</td><td>chr1:10038-10405</td><td>0.004164383</td><td>3.940038</td><td>0.0007357323</td><td>0.7181993</td></tr>\n",
       "\t<tr><td>chr1</td><td>14282</td><td>14614</td><td>chr1:14282-14614</td><td>0.003003325</td><td>2.841707</td><td>0.0022620843</td><td>2.2104314</td></tr>\n",
       "\t<tr><td>chr1</td><td>16025</td><td>16338</td><td>chr1:16025-16338</td><td>0.004048701</td><td>3.830812</td><td>0.0012867327</td><td>1.2597204</td></tr>\n",
       "</tbody>\n",
       "</table>\n"
      ],
      "text/latex": [
       "A tibble: 3 × 8\n",
       "\\begin{tabular}{llllllll}\n",
       " Chrom & ChromStart & ChromEnd & Region & Input\\_FPKM & Input\\_TPM & Output\\_FPKM & Output\\_TPM\\\\\n",
       " <chr> & <dbl> & <dbl> & <chr> & <dbl> & <dbl> & <dbl> & <dbl>\\\\\n",
       "\\hline\n",
       "\t chr1 & 10038 & 10405 & chr1:10038-10405 & 0.004164383 & 3.940038 & 0.0007357323 & 0.7181993\\\\\n",
       "\t chr1 & 14282 & 14614 & chr1:14282-14614 & 0.003003325 & 2.841707 & 0.0022620843 & 2.2104314\\\\\n",
       "\t chr1 & 16025 & 16338 & chr1:16025-16338 & 0.004048701 & 3.830812 & 0.0012867327 & 1.2597204\\\\\n",
       "\\end{tabular}\n"
      ],
      "text/markdown": [
       "\n",
       "A tibble: 3 × 8\n",
       "\n",
       "| Chrom &lt;chr&gt; | ChromStart &lt;dbl&gt; | ChromEnd &lt;dbl&gt; | Region &lt;chr&gt; | Input_FPKM &lt;dbl&gt; | Input_TPM &lt;dbl&gt; | Output_FPKM &lt;dbl&gt; | Output_TPM &lt;dbl&gt; |\n",
       "|---|---|---|---|---|---|---|---|\n",
       "| chr1 | 10038 | 10405 | chr1:10038-10405 | 0.004164383 | 3.940038 | 0.0007357323 | 0.7181993 |\n",
       "| chr1 | 14282 | 14614 | chr1:14282-14614 | 0.003003325 | 2.841707 | 0.0022620843 | 2.2104314 |\n",
       "| chr1 | 16025 | 16338 | chr1:16025-16338 | 0.004048701 | 3.830812 | 0.0012867327 | 1.2597204 |\n",
       "\n"
      ],
      "text/plain": [
       "  Chrom ChromStart ChromEnd Region           Input_FPKM  Input_TPM Output_FPKM \n",
       "1 chr1  10038      10405    chr1:10038-10405 0.004164383 3.940038  0.0007357323\n",
       "2 chr1  14282      14614    chr1:14282-14614 0.003003325 2.841707  0.0022620843\n",
       "3 chr1  16025      16338    chr1:16025-16338 0.004048701 3.830812  0.0012867327\n",
       "  Output_TPM\n",
       "1 0.7181993 \n",
       "2 2.2104314 \n",
       "3 1.2597204 "
      ]
     },
     "metadata": {},
     "output_type": "display_data"
    }
   ],
   "source": [
    "head(dat_summary, 3)"
   ]
  }
 ],
 "metadata": {
  "kernelspec": {
   "display_name": "R",
   "language": "R",
   "name": "ir"
  },
  "language_info": {
   "codemirror_mode": "r",
   "file_extension": ".r",
   "mimetype": "text/x-r-source",
   "name": "R",
   "pygments_lexer": "r",
   "version": "4.4.2"
  }
 },
 "nbformat": 4,
 "nbformat_minor": 5
}
