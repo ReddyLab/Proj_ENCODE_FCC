{
 "cells": [
  {
   "cell_type": "raw",
   "id": "9e384b1c-0b44-45b1-9e39-da493ed97d5d",
   "metadata": {},
   "source": [
    "---\n",
    "title: Region Coverage 22\n",
    "subtitle: Apply DESeq2 to process count matrix (TMPRA)\n",
    "format:\n",
    "    html:\n",
    "        code-fold:  true\n",
    "        code-tools: true\n",
    "---"
   ]
  },
  {
   "cell_type": "markdown",
   "id": "3bb3cd00-bf7b-4809-a473-017abecc8253",
   "metadata": {},
   "source": [
    "**Set environment**"
   ]
  },
  {
   "cell_type": "code",
   "execution_count": 1,
   "id": "3ccd9387-8ef5-438e-9dd0-c8f3e547d722",
   "metadata": {},
   "outputs": [
    {
     "name": "stdout",
     "output_type": "stream",
     "text": [
      "You are working on        Singularity: singularity_proj_encode_fcc \n",
      "BASE DIRECTORY (FD_BASE): /data/reddylab/Kuei \n",
      "REPO DIRECTORY (FD_REPO): /data/reddylab/Kuei/repo \n",
      "WORK DIRECTORY (FD_WORK): /data/reddylab/Kuei/work \n",
      "DATA DIRECTORY (FD_DATA): /data/reddylab/Kuei/data \n",
      "\n",
      "You are working with      ENCODE FCC \n",
      "PATH OF PROJECT (FD_PRJ): /data/reddylab/Kuei/repo/Proj_ENCODE_FCC \n",
      "PROJECT RESULTS (FD_RES): /data/reddylab/Kuei/repo/Proj_ENCODE_FCC/results \n",
      "PROJECT SCRIPTS (FD_EXE): /data/reddylab/Kuei/repo/Proj_ENCODE_FCC/scripts \n",
      "PROJECT DATA    (FD_DAT): /data/reddylab/Kuei/repo/Proj_ENCODE_FCC/data \n",
      "PROJECT NOTE    (FD_NBK): /data/reddylab/Kuei/repo/Proj_ENCODE_FCC/notebooks \n",
      "PROJECT DOCS    (FD_DOC): /data/reddylab/Kuei/repo/Proj_ENCODE_FCC/docs \n",
      "PROJECT LOG     (FD_LOG): /data/reddylab/Kuei/repo/Proj_ENCODE_FCC/log \n",
      "PROJECT REF     (FD_REF): /data/reddylab/Kuei/repo/Proj_ENCODE_FCC/references \n",
      "\n"
     ]
    }
   ],
   "source": [
    "suppressMessages(suppressWarnings(source(\"../run_config_project_sing.R\")))\n",
    "suppressMessages(suppressWarnings(library(\"DESeq2\")))\n",
    "suppressMessages(suppressWarnings(library(\"edgeR\")))\n",
    "show_env()"
   ]
  },
  {
   "cell_type": "markdown",
   "id": "6f5d183c-a7fd-4ac0-ab82-d99cc6af245d",
   "metadata": {},
   "source": [
    "## Loop through regions and assays to create count matrix"
   ]
  },
  {
   "cell_type": "markdown",
   "id": "ffc8e76b-4aa2-460e-898e-efc2287abccd",
   "metadata": {},
   "source": [
    "**Check files: region**"
   ]
  },
  {
   "cell_type": "code",
   "execution_count": 2,
   "id": "194b53af-d0cf-486d-9cd9-76e27c074430",
   "metadata": {},
   "outputs": [
    {
     "name": "stdout",
     "output_type": "stream",
     "text": [
      "atac_ENCFF333TAT \n",
      "atac_ENCFF558BLC \n",
      "atac_ENCFF925CYR \n",
      "atac_ENCFF948AFM \n",
      "dnase_ENCFF185XRG \n",
      "dnase_ENCFF274YGF \n",
      "fcc_astarr_macs_input_overlap \n",
      "fcc_astarr_macs_input_union \n"
     ]
    }
   ],
   "source": [
    "txt_fdiry = file.path(FD_RES, \"region_coverage_fcc\")\n",
    "\n",
    "vec = dir(txt_fdiry)\n",
    "for (txt in vec){cat(txt, \"\\n\")}"
   ]
  },
  {
   "cell_type": "markdown",
   "id": "ad37914e-d97d-4ec8-bbf3-ad1bb395013b",
   "metadata": {},
   "source": [
    "**Check files: assays**"
   ]
  },
  {
   "cell_type": "code",
   "execution_count": 3,
   "id": "14b52709-6d41-408b-973f-a5609c620d25",
   "metadata": {},
   "outputs": [
    {
     "name": "stdout",
     "output_type": "stream",
     "text": [
      "[1] \"/data/reddylab/Kuei/repo/Proj_ENCODE_FCC/results/region_coverage_fcc/fcc_astarr_macs_input_overlap/MPRA_Tiling_K562_Tewhey_Hannah/overlap_count/summary/data.count_column.raw.OL13.rds\"\n",
      "[2] \"/data/reddylab/Kuei/repo/Proj_ENCODE_FCC/results/region_coverage_fcc/fcc_astarr_macs_input_overlap/MPRA_Tiling_K562_Tewhey_Hannah/overlap_count/summary/data.count_column.raw.OL43.rds\"\n",
      "[3] \"/data/reddylab/Kuei/repo/Proj_ENCODE_FCC/results/region_coverage_fcc/fcc_astarr_macs_input_overlap/MPRA_Tiling_K562_Tewhey_Hannah/overlap_count/summary/data.count_column.raw.OL45.rds\"\n"
     ]
    }
   ],
   "source": [
    "txt_assay  = \"MPRA_Tiling_K562_Tewhey_Hannah\"\n",
    "txt_region = \"fcc_astarr_macs_input_overlap\"\n",
    "txt_fdiry  = file.path(\n",
    "    FD_RES, \"region_coverage_fcc\",\n",
    "    txt_region,\n",
    "    txt_assay,\n",
    "    \"overlap_count\",\n",
    "    \"summary\"\n",
    ")\n",
    "txt_fname = \"data*raw*rds\"\n",
    "txt_fglob = file.path(txt_fdiry, txt_fname)\n",
    "\n",
    "vec_txt_fpath = Sys.glob(txt_fglob)\n",
    "print(vec_txt_fpath)"
   ]
  },
  {
   "cell_type": "markdown",
   "id": "a4d77216-e8e6-4b87-bc65-4dba5d70233a",
   "metadata": {},
   "source": [
    "**Generate effect size**"
   ]
  },
  {
   "cell_type": "code",
   "execution_count": 4,
   "id": "903758a8-c975-46ba-992e-efa5710ad30b",
   "metadata": {},
   "outputs": [
    {
     "name": "stdout",
     "output_type": "stream",
     "text": [
      "\n",
      "====================\n",
      "Region: atac_ENCFF333TAT \n",
      "Assay:  MPRA_Tiling_K562_Tewhey_Hannah \n",
      "Prefix: OL13 \n",
      "FPath:  /data/reddylab/Kuei/repo/Proj_ENCODE_FCC/results/region_coverage_fcc/atac_ENCFF333TAT/MPRA_Tiling_K562_Tewhey_Hannah/overlap_count/summary/data.count_column.raw.OL13.rds \n",
      "FName:  data.count_column.raw.OL13.rds \n",
      "Import Counts:\n",
      "#Rows (Before filter): 20 \n",
      "#Rows (After  filter): 20 \n",
      "\n",
      "Apply DESeq2: ~Group \n"
     ]
    },
    {
     "name": "stderr",
     "output_type": "stream",
     "text": [
      "estimating size factors\n",
      "\n",
      "estimating dispersions\n",
      "\n",
      "gene-wise dispersion estimates\n",
      "\n",
      "mean-dispersion relationship\n",
      "\n",
      "final dispersion estimates\n",
      "\n",
      "fitting model and testing\n",
      "\n"
     ]
    },
    {
     "name": "stdout",
     "output_type": "stream",
     "text": [
      "\n",
      "====================\n",
      "Region: atac_ENCFF333TAT \n",
      "Assay:  MPRA_Tiling_K562_Tewhey_Hannah \n",
      "Prefix: OL43 \n",
      "FPath:  /data/reddylab/Kuei/repo/Proj_ENCODE_FCC/results/region_coverage_fcc/atac_ENCFF333TAT/MPRA_Tiling_K562_Tewhey_Hannah/overlap_count/summary/data.count_column.raw.OL43.rds \n",
      "FName:  data.count_column.raw.OL43.rds \n",
      "Import Counts:\n",
      "#Rows (Before filter): 337 \n",
      "#Rows (After  filter): 337 \n",
      "\n",
      "Apply DESeq2: ~Group \n"
     ]
    },
    {
     "name": "stderr",
     "output_type": "stream",
     "text": [
      "estimating size factors\n",
      "\n",
      "estimating dispersions\n",
      "\n",
      "gene-wise dispersion estimates\n",
      "\n",
      "mean-dispersion relationship\n",
      "\n",
      "-- note: fitType='parametric', but the dispersion trend was not well captured by the\n",
      "   function: y = a/x + b, and a local regression fit was automatically substituted.\n",
      "   specify fitType='local' or 'mean' to avoid this message next time.\n",
      "\n",
      "final dispersion estimates\n",
      "\n",
      "fitting model and testing\n",
      "\n"
     ]
    },
    {
     "name": "stdout",
     "output_type": "stream",
     "text": [
      "\n",
      "====================\n",
      "Region: atac_ENCFF333TAT \n",
      "Assay:  MPRA_Tiling_K562_Tewhey_Hannah \n",
      "Prefix: OL45 \n",
      "FPath:  /data/reddylab/Kuei/repo/Proj_ENCODE_FCC/results/region_coverage_fcc/atac_ENCFF333TAT/MPRA_Tiling_K562_Tewhey_Hannah/overlap_count/summary/data.count_column.raw.OL45.rds \n",
      "FName:  data.count_column.raw.OL45.rds \n",
      "Import Counts:\n",
      "#Rows (Before filter): 834 \n",
      "#Rows (After  filter): 834 \n",
      "\n",
      "Apply DESeq2: ~Group \n"
     ]
    },
    {
     "name": "stderr",
     "output_type": "stream",
     "text": [
      "estimating size factors\n",
      "\n",
      "estimating dispersions\n",
      "\n",
      "gene-wise dispersion estimates\n",
      "\n",
      "mean-dispersion relationship\n",
      "\n",
      "-- note: fitType='parametric', but the dispersion trend was not well captured by the\n",
      "   function: y = a/x + b, and a local regression fit was automatically substituted.\n",
      "   specify fitType='local' or 'mean' to avoid this message next time.\n",
      "\n",
      "final dispersion estimates\n",
      "\n",
      "fitting model and testing\n",
      "\n"
     ]
    },
    {
     "name": "stdout",
     "output_type": "stream",
     "text": [
      "\n",
      "====================\n",
      "Region: atac_ENCFF558BLC \n",
      "Assay:  MPRA_Tiling_K562_Tewhey_Hannah \n",
      "Prefix: OL13 \n",
      "FPath:  /data/reddylab/Kuei/repo/Proj_ENCODE_FCC/results/region_coverage_fcc/atac_ENCFF558BLC/MPRA_Tiling_K562_Tewhey_Hannah/overlap_count/summary/data.count_column.raw.OL13.rds \n",
      "FName:  data.count_column.raw.OL13.rds \n",
      "Import Counts:\n",
      "#Rows (Before filter): 16 \n",
      "#Rows (After  filter): 16 \n",
      "\n",
      "Apply DESeq2: ~Group \n"
     ]
    },
    {
     "name": "stderr",
     "output_type": "stream",
     "text": [
      "estimating size factors\n",
      "\n",
      "estimating dispersions\n",
      "\n",
      "gene-wise dispersion estimates\n",
      "\n",
      "mean-dispersion relationship\n",
      "\n",
      "final dispersion estimates\n",
      "\n",
      "fitting model and testing\n",
      "\n"
     ]
    },
    {
     "name": "stdout",
     "output_type": "stream",
     "text": [
      "\n",
      "====================\n",
      "Region: atac_ENCFF558BLC \n",
      "Assay:  MPRA_Tiling_K562_Tewhey_Hannah \n",
      "Prefix: OL43 \n",
      "FPath:  /data/reddylab/Kuei/repo/Proj_ENCODE_FCC/results/region_coverage_fcc/atac_ENCFF558BLC/MPRA_Tiling_K562_Tewhey_Hannah/overlap_count/summary/data.count_column.raw.OL43.rds \n",
      "FName:  data.count_column.raw.OL43.rds \n",
      "Import Counts:\n",
      "#Rows (Before filter): 231 \n",
      "#Rows (After  filter): 231 \n",
      "\n",
      "Apply DESeq2: ~Group \n"
     ]
    },
    {
     "name": "stderr",
     "output_type": "stream",
     "text": [
      "estimating size factors\n",
      "\n",
      "estimating dispersions\n",
      "\n",
      "gene-wise dispersion estimates\n",
      "\n",
      "mean-dispersion relationship\n",
      "\n",
      "final dispersion estimates\n",
      "\n",
      "fitting model and testing\n",
      "\n"
     ]
    },
    {
     "name": "stdout",
     "output_type": "stream",
     "text": [
      "\n",
      "====================\n",
      "Region: atac_ENCFF558BLC \n",
      "Assay:  MPRA_Tiling_K562_Tewhey_Hannah \n",
      "Prefix: OL45 \n",
      "FPath:  /data/reddylab/Kuei/repo/Proj_ENCODE_FCC/results/region_coverage_fcc/atac_ENCFF558BLC/MPRA_Tiling_K562_Tewhey_Hannah/overlap_count/summary/data.count_column.raw.OL45.rds \n",
      "FName:  data.count_column.raw.OL45.rds \n",
      "Import Counts:\n",
      "#Rows (Before filter): 593 \n",
      "#Rows (After  filter): 593 \n",
      "\n",
      "Apply DESeq2: ~Group \n"
     ]
    },
    {
     "name": "stderr",
     "output_type": "stream",
     "text": [
      "estimating size factors\n",
      "\n",
      "estimating dispersions\n",
      "\n",
      "gene-wise dispersion estimates\n",
      "\n",
      "mean-dispersion relationship\n",
      "\n",
      "-- note: fitType='parametric', but the dispersion trend was not well captured by the\n",
      "   function: y = a/x + b, and a local regression fit was automatically substituted.\n",
      "   specify fitType='local' or 'mean' to avoid this message next time.\n",
      "\n",
      "final dispersion estimates\n",
      "\n",
      "fitting model and testing\n",
      "\n"
     ]
    },
    {
     "name": "stdout",
     "output_type": "stream",
     "text": [
      "\n",
      "====================\n",
      "Region: atac_ENCFF925CYR \n",
      "Assay:  MPRA_Tiling_K562_Tewhey_Hannah \n",
      "Prefix: OL13 \n",
      "FPath:  /data/reddylab/Kuei/repo/Proj_ENCODE_FCC/results/region_coverage_fcc/atac_ENCFF925CYR/MPRA_Tiling_K562_Tewhey_Hannah/overlap_count/summary/data.count_column.raw.OL13.rds \n",
      "FName:  data.count_column.raw.OL13.rds \n",
      "Import Counts:\n",
      "#Rows (Before filter): 12 \n",
      "#Rows (After  filter): 12 \n",
      "\n",
      "Apply DESeq2: ~Group \n"
     ]
    },
    {
     "name": "stderr",
     "output_type": "stream",
     "text": [
      "estimating size factors\n",
      "\n",
      "estimating dispersions\n",
      "\n",
      "gene-wise dispersion estimates\n",
      "\n",
      "mean-dispersion relationship\n",
      "\n",
      "final dispersion estimates\n",
      "\n",
      "fitting model and testing\n",
      "\n"
     ]
    },
    {
     "name": "stdout",
     "output_type": "stream",
     "text": [
      "\n",
      "====================\n",
      "Region: atac_ENCFF925CYR \n",
      "Assay:  MPRA_Tiling_K562_Tewhey_Hannah \n",
      "Prefix: OL43 \n",
      "FPath:  /data/reddylab/Kuei/repo/Proj_ENCODE_FCC/results/region_coverage_fcc/atac_ENCFF925CYR/MPRA_Tiling_K562_Tewhey_Hannah/overlap_count/summary/data.count_column.raw.OL43.rds \n",
      "FName:  data.count_column.raw.OL43.rds \n",
      "Import Counts:\n",
      "#Rows (Before filter): 122 \n",
      "#Rows (After  filter): 122 \n",
      "\n",
      "Apply DESeq2: ~Group \n"
     ]
    },
    {
     "name": "stderr",
     "output_type": "stream",
     "text": [
      "estimating size factors\n",
      "\n",
      "estimating dispersions\n",
      "\n",
      "gene-wise dispersion estimates\n",
      "\n",
      "mean-dispersion relationship\n",
      "\n",
      "final dispersion estimates\n",
      "\n",
      "fitting model and testing\n",
      "\n"
     ]
    },
    {
     "name": "stdout",
     "output_type": "stream",
     "text": [
      "\n",
      "====================\n",
      "Region: atac_ENCFF925CYR \n",
      "Assay:  MPRA_Tiling_K562_Tewhey_Hannah \n",
      "Prefix: OL45 \n",
      "FPath:  /data/reddylab/Kuei/repo/Proj_ENCODE_FCC/results/region_coverage_fcc/atac_ENCFF925CYR/MPRA_Tiling_K562_Tewhey_Hannah/overlap_count/summary/data.count_column.raw.OL45.rds \n",
      "FName:  data.count_column.raw.OL45.rds \n",
      "Import Counts:\n",
      "#Rows (Before filter): 290 \n",
      "#Rows (After  filter): 290 \n",
      "\n",
      "Apply DESeq2: ~Group \n"
     ]
    },
    {
     "name": "stderr",
     "output_type": "stream",
     "text": [
      "estimating size factors\n",
      "\n",
      "estimating dispersions\n",
      "\n",
      "gene-wise dispersion estimates\n",
      "\n",
      "mean-dispersion relationship\n",
      "\n",
      "-- note: fitType='parametric', but the dispersion trend was not well captured by the\n",
      "   function: y = a/x + b, and a local regression fit was automatically substituted.\n",
      "   specify fitType='local' or 'mean' to avoid this message next time.\n",
      "\n",
      "final dispersion estimates\n",
      "\n",
      "fitting model and testing\n",
      "\n"
     ]
    },
    {
     "name": "stdout",
     "output_type": "stream",
     "text": [
      "\n",
      "====================\n",
      "Region: atac_ENCFF948AFM \n",
      "Assay:  MPRA_Tiling_K562_Tewhey_Hannah \n",
      "Prefix: OL13 \n",
      "FPath:  /data/reddylab/Kuei/repo/Proj_ENCODE_FCC/results/region_coverage_fcc/atac_ENCFF948AFM/MPRA_Tiling_K562_Tewhey_Hannah/overlap_count/summary/data.count_column.raw.OL13.rds \n",
      "FName:  data.count_column.raw.OL13.rds \n",
      "Import Counts:\n",
      "#Rows (Before filter): 15 \n",
      "#Rows (After  filter): 15 \n",
      "\n",
      "Apply DESeq2: ~Group \n"
     ]
    },
    {
     "name": "stderr",
     "output_type": "stream",
     "text": [
      "estimating size factors\n",
      "\n",
      "estimating dispersions\n",
      "\n",
      "gene-wise dispersion estimates\n",
      "\n",
      "mean-dispersion relationship\n",
      "\n",
      "final dispersion estimates\n",
      "\n",
      "fitting model and testing\n",
      "\n"
     ]
    },
    {
     "name": "stdout",
     "output_type": "stream",
     "text": [
      "\n",
      "====================\n",
      "Region: atac_ENCFF948AFM \n",
      "Assay:  MPRA_Tiling_K562_Tewhey_Hannah \n",
      "Prefix: OL43 \n",
      "FPath:  /data/reddylab/Kuei/repo/Proj_ENCODE_FCC/results/region_coverage_fcc/atac_ENCFF948AFM/MPRA_Tiling_K562_Tewhey_Hannah/overlap_count/summary/data.count_column.raw.OL43.rds \n",
      "FName:  data.count_column.raw.OL43.rds \n",
      "Import Counts:\n",
      "#Rows (Before filter): 209 \n",
      "#Rows (After  filter): 209 \n",
      "\n",
      "Apply DESeq2: ~Group \n"
     ]
    },
    {
     "name": "stderr",
     "output_type": "stream",
     "text": [
      "estimating size factors\n",
      "\n",
      "estimating dispersions\n",
      "\n",
      "gene-wise dispersion estimates\n",
      "\n",
      "mean-dispersion relationship\n",
      "\n",
      "final dispersion estimates\n",
      "\n",
      "fitting model and testing\n",
      "\n"
     ]
    },
    {
     "name": "stdout",
     "output_type": "stream",
     "text": [
      "\n",
      "====================\n",
      "Region: atac_ENCFF948AFM \n",
      "Assay:  MPRA_Tiling_K562_Tewhey_Hannah \n",
      "Prefix: OL45 \n",
      "FPath:  /data/reddylab/Kuei/repo/Proj_ENCODE_FCC/results/region_coverage_fcc/atac_ENCFF948AFM/MPRA_Tiling_K562_Tewhey_Hannah/overlap_count/summary/data.count_column.raw.OL45.rds \n",
      "FName:  data.count_column.raw.OL45.rds \n",
      "Import Counts:\n",
      "#Rows (Before filter): 477 \n",
      "#Rows (After  filter): 477 \n",
      "\n",
      "Apply DESeq2: ~Group \n"
     ]
    },
    {
     "name": "stderr",
     "output_type": "stream",
     "text": [
      "estimating size factors\n",
      "\n",
      "estimating dispersions\n",
      "\n",
      "gene-wise dispersion estimates\n",
      "\n",
      "mean-dispersion relationship\n",
      "\n",
      "-- note: fitType='parametric', but the dispersion trend was not well captured by the\n",
      "   function: y = a/x + b, and a local regression fit was automatically substituted.\n",
      "   specify fitType='local' or 'mean' to avoid this message next time.\n",
      "\n",
      "final dispersion estimates\n",
      "\n",
      "fitting model and testing\n",
      "\n"
     ]
    },
    {
     "name": "stdout",
     "output_type": "stream",
     "text": [
      "\n",
      "====================\n",
      "Region: dnase_ENCFF185XRG \n",
      "Assay:  MPRA_Tiling_K562_Tewhey_Hannah \n",
      "Prefix: OL13 \n",
      "FPath:  /data/reddylab/Kuei/repo/Proj_ENCODE_FCC/results/region_coverage_fcc/dnase_ENCFF185XRG/MPRA_Tiling_K562_Tewhey_Hannah/overlap_count/summary/data.count_column.raw.OL13.rds \n",
      "FName:  data.count_column.raw.OL13.rds \n",
      "Import Counts:\n",
      "#Rows (Before filter): 27 \n",
      "#Rows (After  filter): 27 \n",
      "\n",
      "Apply DESeq2: ~Group \n"
     ]
    },
    {
     "name": "stderr",
     "output_type": "stream",
     "text": [
      "estimating size factors\n",
      "\n",
      "estimating dispersions\n",
      "\n",
      "gene-wise dispersion estimates\n",
      "\n",
      "mean-dispersion relationship\n",
      "\n",
      "-- note: fitType='parametric', but the dispersion trend was not well captured by the\n",
      "   function: y = a/x + b, and a local regression fit was automatically substituted.\n",
      "   specify fitType='local' or 'mean' to avoid this message next time.\n",
      "\n",
      "final dispersion estimates\n",
      "\n",
      "fitting model and testing\n",
      "\n"
     ]
    },
    {
     "name": "stdout",
     "output_type": "stream",
     "text": [
      "\n",
      "====================\n",
      "Region: dnase_ENCFF185XRG \n",
      "Assay:  MPRA_Tiling_K562_Tewhey_Hannah \n",
      "Prefix: OL43 \n",
      "FPath:  /data/reddylab/Kuei/repo/Proj_ENCODE_FCC/results/region_coverage_fcc/dnase_ENCFF185XRG/MPRA_Tiling_K562_Tewhey_Hannah/overlap_count/summary/data.count_column.raw.OL43.rds \n",
      "FName:  data.count_column.raw.OL43.rds \n",
      "Import Counts:\n",
      "#Rows (Before filter): 382 \n",
      "#Rows (After  filter): 382 \n",
      "\n",
      "Apply DESeq2: ~Group \n"
     ]
    },
    {
     "name": "stderr",
     "output_type": "stream",
     "text": [
      "estimating size factors\n",
      "\n",
      "estimating dispersions\n",
      "\n",
      "gene-wise dispersion estimates\n",
      "\n",
      "mean-dispersion relationship\n",
      "\n",
      "final dispersion estimates\n",
      "\n",
      "fitting model and testing\n",
      "\n"
     ]
    },
    {
     "name": "stdout",
     "output_type": "stream",
     "text": [
      "\n",
      "====================\n",
      "Region: dnase_ENCFF185XRG \n",
      "Assay:  MPRA_Tiling_K562_Tewhey_Hannah \n",
      "Prefix: OL45 \n",
      "FPath:  /data/reddylab/Kuei/repo/Proj_ENCODE_FCC/results/region_coverage_fcc/dnase_ENCFF185XRG/MPRA_Tiling_K562_Tewhey_Hannah/overlap_count/summary/data.count_column.raw.OL45.rds \n",
      "FName:  data.count_column.raw.OL45.rds \n",
      "Import Counts:\n",
      "#Rows (Before filter): 839 \n",
      "#Rows (After  filter): 839 \n",
      "\n",
      "Apply DESeq2: ~Group \n"
     ]
    },
    {
     "name": "stderr",
     "output_type": "stream",
     "text": [
      "estimating size factors\n",
      "\n",
      "estimating dispersions\n",
      "\n",
      "gene-wise dispersion estimates\n",
      "\n",
      "mean-dispersion relationship\n",
      "\n",
      "-- note: fitType='parametric', but the dispersion trend was not well captured by the\n",
      "   function: y = a/x + b, and a local regression fit was automatically substituted.\n",
      "   specify fitType='local' or 'mean' to avoid this message next time.\n",
      "\n",
      "final dispersion estimates\n",
      "\n",
      "fitting model and testing\n",
      "\n"
     ]
    },
    {
     "name": "stdout",
     "output_type": "stream",
     "text": [
      "\n",
      "====================\n",
      "Region: dnase_ENCFF274YGF \n",
      "Assay:  MPRA_Tiling_K562_Tewhey_Hannah \n",
      "Prefix: OL13 \n",
      "FPath:  /data/reddylab/Kuei/repo/Proj_ENCODE_FCC/results/region_coverage_fcc/dnase_ENCFF274YGF/MPRA_Tiling_K562_Tewhey_Hannah/overlap_count/summary/data.count_column.raw.OL13.rds \n",
      "FName:  data.count_column.raw.OL13.rds \n",
      "Import Counts:\n",
      "#Rows (Before filter): 24 \n",
      "#Rows (After  filter): 24 \n",
      "\n",
      "Apply DESeq2: ~Group \n"
     ]
    },
    {
     "name": "stderr",
     "output_type": "stream",
     "text": [
      "estimating size factors\n",
      "\n",
      "estimating dispersions\n",
      "\n",
      "gene-wise dispersion estimates\n",
      "\n",
      "mean-dispersion relationship\n",
      "\n",
      "-- note: fitType='parametric', but the dispersion trend was not well captured by the\n",
      "   function: y = a/x + b, and a local regression fit was automatically substituted.\n",
      "   specify fitType='local' or 'mean' to avoid this message next time.\n",
      "\n",
      "final dispersion estimates\n",
      "\n",
      "fitting model and testing\n",
      "\n"
     ]
    },
    {
     "name": "stdout",
     "output_type": "stream",
     "text": [
      "\n",
      "====================\n",
      "Region: dnase_ENCFF274YGF \n",
      "Assay:  MPRA_Tiling_K562_Tewhey_Hannah \n",
      "Prefix: OL43 \n",
      "FPath:  /data/reddylab/Kuei/repo/Proj_ENCODE_FCC/results/region_coverage_fcc/dnase_ENCFF274YGF/MPRA_Tiling_K562_Tewhey_Hannah/overlap_count/summary/data.count_column.raw.OL43.rds \n",
      "FName:  data.count_column.raw.OL43.rds \n",
      "Import Counts:\n",
      "#Rows (Before filter): 292 \n",
      "#Rows (After  filter): 292 \n",
      "\n",
      "Apply DESeq2: ~Group \n"
     ]
    },
    {
     "name": "stderr",
     "output_type": "stream",
     "text": [
      "estimating size factors\n",
      "\n",
      "estimating dispersions\n",
      "\n",
      "gene-wise dispersion estimates\n",
      "\n",
      "mean-dispersion relationship\n",
      "\n",
      "final dispersion estimates\n",
      "\n",
      "fitting model and testing\n",
      "\n"
     ]
    },
    {
     "name": "stdout",
     "output_type": "stream",
     "text": [
      "\n",
      "====================\n",
      "Region: dnase_ENCFF274YGF \n",
      "Assay:  MPRA_Tiling_K562_Tewhey_Hannah \n",
      "Prefix: OL45 \n",
      "FPath:  /data/reddylab/Kuei/repo/Proj_ENCODE_FCC/results/region_coverage_fcc/dnase_ENCFF274YGF/MPRA_Tiling_K562_Tewhey_Hannah/overlap_count/summary/data.count_column.raw.OL45.rds \n",
      "FName:  data.count_column.raw.OL45.rds \n",
      "Import Counts:\n",
      "#Rows (Before filter): 615 \n",
      "#Rows (After  filter): 615 \n",
      "\n",
      "Apply DESeq2: ~Group \n"
     ]
    },
    {
     "name": "stderr",
     "output_type": "stream",
     "text": [
      "estimating size factors\n",
      "\n",
      "estimating dispersions\n",
      "\n",
      "gene-wise dispersion estimates\n",
      "\n",
      "mean-dispersion relationship\n",
      "\n",
      "-- note: fitType='parametric', but the dispersion trend was not well captured by the\n",
      "   function: y = a/x + b, and a local regression fit was automatically substituted.\n",
      "   specify fitType='local' or 'mean' to avoid this message next time.\n",
      "\n",
      "final dispersion estimates\n",
      "\n",
      "fitting model and testing\n",
      "\n"
     ]
    },
    {
     "name": "stdout",
     "output_type": "stream",
     "text": [
      "\n",
      "====================\n",
      "Region: fcc_astarr_macs_input_overlap \n",
      "Assay:  MPRA_Tiling_K562_Tewhey_Hannah \n",
      "Prefix: OL13 \n",
      "FPath:  /data/reddylab/Kuei/repo/Proj_ENCODE_FCC/results/region_coverage_fcc/fcc_astarr_macs_input_overlap/MPRA_Tiling_K562_Tewhey_Hannah/overlap_count/summary/data.count_column.raw.OL13.rds \n",
      "FName:  data.count_column.raw.OL13.rds \n",
      "Import Counts:\n",
      "#Rows (Before filter): 18 \n",
      "#Rows (After  filter): 18 \n",
      "\n",
      "Apply DESeq2: ~Group \n"
     ]
    },
    {
     "name": "stderr",
     "output_type": "stream",
     "text": [
      "estimating size factors\n",
      "\n",
      "estimating dispersions\n",
      "\n",
      "gene-wise dispersion estimates\n",
      "\n",
      "mean-dispersion relationship\n",
      "\n",
      "-- note: fitType='parametric', but the dispersion trend was not well captured by the\n",
      "   function: y = a/x + b, and a local regression fit was automatically substituted.\n",
      "   specify fitType='local' or 'mean' to avoid this message next time.\n",
      "\n",
      "final dispersion estimates\n",
      "\n",
      "fitting model and testing\n",
      "\n"
     ]
    },
    {
     "name": "stdout",
     "output_type": "stream",
     "text": [
      "\n",
      "====================\n",
      "Region: fcc_astarr_macs_input_overlap \n",
      "Assay:  MPRA_Tiling_K562_Tewhey_Hannah \n",
      "Prefix: OL43 \n",
      "FPath:  /data/reddylab/Kuei/repo/Proj_ENCODE_FCC/results/region_coverage_fcc/fcc_astarr_macs_input_overlap/MPRA_Tiling_K562_Tewhey_Hannah/overlap_count/summary/data.count_column.raw.OL43.rds \n",
      "FName:  data.count_column.raw.OL43.rds \n",
      "Import Counts:\n",
      "#Rows (Before filter): 307 \n",
      "#Rows (After  filter): 307 \n",
      "\n",
      "Apply DESeq2: ~Group \n"
     ]
    },
    {
     "name": "stderr",
     "output_type": "stream",
     "text": [
      "estimating size factors\n",
      "\n",
      "estimating dispersions\n",
      "\n",
      "gene-wise dispersion estimates\n",
      "\n",
      "mean-dispersion relationship\n",
      "\n",
      "final dispersion estimates\n",
      "\n",
      "fitting model and testing\n",
      "\n"
     ]
    },
    {
     "name": "stdout",
     "output_type": "stream",
     "text": [
      "\n",
      "====================\n",
      "Region: fcc_astarr_macs_input_overlap \n",
      "Assay:  MPRA_Tiling_K562_Tewhey_Hannah \n",
      "Prefix: OL45 \n",
      "FPath:  /data/reddylab/Kuei/repo/Proj_ENCODE_FCC/results/region_coverage_fcc/fcc_astarr_macs_input_overlap/MPRA_Tiling_K562_Tewhey_Hannah/overlap_count/summary/data.count_column.raw.OL45.rds \n",
      "FName:  data.count_column.raw.OL45.rds \n",
      "Import Counts:\n",
      "#Rows (Before filter): 823 \n",
      "#Rows (After  filter): 823 \n",
      "\n",
      "Apply DESeq2: ~Group \n"
     ]
    },
    {
     "name": "stderr",
     "output_type": "stream",
     "text": [
      "estimating size factors\n",
      "\n",
      "estimating dispersions\n",
      "\n",
      "gene-wise dispersion estimates\n",
      "\n",
      "mean-dispersion relationship\n",
      "\n",
      "-- note: fitType='parametric', but the dispersion trend was not well captured by the\n",
      "   function: y = a/x + b, and a local regression fit was automatically substituted.\n",
      "   specify fitType='local' or 'mean' to avoid this message next time.\n",
      "\n",
      "final dispersion estimates\n",
      "\n",
      "fitting model and testing\n",
      "\n"
     ]
    },
    {
     "name": "stdout",
     "output_type": "stream",
     "text": [
      "\n",
      "====================\n",
      "Region: fcc_astarr_macs_input_union \n",
      "Assay:  MPRA_Tiling_K562_Tewhey_Hannah \n",
      "Prefix: OL13 \n",
      "FPath:  /data/reddylab/Kuei/repo/Proj_ENCODE_FCC/results/region_coverage_fcc/fcc_astarr_macs_input_union/MPRA_Tiling_K562_Tewhey_Hannah/overlap_count/summary/data.count_column.raw.OL13.rds \n",
      "FName:  data.count_column.raw.OL13.rds \n",
      "Import Counts:\n",
      "#Rows (Before filter): 22 \n",
      "#Rows (After  filter): 22 \n",
      "\n",
      "Apply DESeq2: ~Group \n"
     ]
    },
    {
     "name": "stderr",
     "output_type": "stream",
     "text": [
      "estimating size factors\n",
      "\n",
      "estimating dispersions\n",
      "\n",
      "gene-wise dispersion estimates\n",
      "\n",
      "mean-dispersion relationship\n",
      "\n",
      "final dispersion estimates\n",
      "\n",
      "fitting model and testing\n",
      "\n"
     ]
    },
    {
     "name": "stdout",
     "output_type": "stream",
     "text": [
      "\n",
      "====================\n",
      "Region: fcc_astarr_macs_input_union \n",
      "Assay:  MPRA_Tiling_K562_Tewhey_Hannah \n",
      "Prefix: OL43 \n",
      "FPath:  /data/reddylab/Kuei/repo/Proj_ENCODE_FCC/results/region_coverage_fcc/fcc_astarr_macs_input_union/MPRA_Tiling_K562_Tewhey_Hannah/overlap_count/summary/data.count_column.raw.OL43.rds \n",
      "FName:  data.count_column.raw.OL43.rds \n",
      "Import Counts:\n",
      "#Rows (Before filter): 394 \n",
      "#Rows (After  filter): 394 \n",
      "\n",
      "Apply DESeq2: ~Group \n"
     ]
    },
    {
     "name": "stderr",
     "output_type": "stream",
     "text": [
      "estimating size factors\n",
      "\n",
      "estimating dispersions\n",
      "\n",
      "gene-wise dispersion estimates\n",
      "\n",
      "mean-dispersion relationship\n",
      "\n",
      "final dispersion estimates\n",
      "\n",
      "fitting model and testing\n",
      "\n"
     ]
    },
    {
     "name": "stdout",
     "output_type": "stream",
     "text": [
      "\n",
      "====================\n",
      "Region: fcc_astarr_macs_input_union \n",
      "Assay:  MPRA_Tiling_K562_Tewhey_Hannah \n",
      "Prefix: OL45 \n",
      "FPath:  /data/reddylab/Kuei/repo/Proj_ENCODE_FCC/results/region_coverage_fcc/fcc_astarr_macs_input_union/MPRA_Tiling_K562_Tewhey_Hannah/overlap_count/summary/data.count_column.raw.OL45.rds \n",
      "FName:  data.count_column.raw.OL45.rds \n",
      "Import Counts:\n",
      "#Rows (Before filter): 1306 \n",
      "#Rows (After  filter): 1306 \n",
      "\n",
      "Apply DESeq2: ~Group \n"
     ]
    },
    {
     "name": "stderr",
     "output_type": "stream",
     "text": [
      "estimating size factors\n",
      "\n",
      "estimating dispersions\n",
      "\n",
      "gene-wise dispersion estimates\n",
      "\n",
      "mean-dispersion relationship\n",
      "\n",
      "-- note: fitType='parametric', but the dispersion trend was not well captured by the\n",
      "   function: y = a/x + b, and a local regression fit was automatically substituted.\n",
      "   specify fitType='local' or 'mean' to avoid this message next time.\n",
      "\n",
      "final dispersion estimates\n",
      "\n",
      "fitting model and testing\n",
      "\n"
     ]
    }
   ],
   "source": [
    "### init: region folders\n",
    "txt_fdiry = file.path(FD_RES, \"region_coverage_fcc\")\n",
    "vec_txt_region = dir(txt_fdiry)\n",
    "\n",
    "### init: assay name\n",
    "txt_assay  = \"MPRA_Tiling_K562_Tewhey_Hannah\"\n",
    "\n",
    "### init: assay prefix and helper function\n",
    "vec_txt_prefix = c(\"OL13\", \"OL43\", \"OL45\")\n",
    "fun_get_prefix = function(txt){\n",
    "    res = fun_str_map_detect(txt, vec_txt_prefix, vec_txt_prefix)\n",
    "    return(res)\n",
    "}\n",
    "\n",
    "### loop\n",
    "for (txt_region in vec_txt_region) {\n",
    "\n",
    "    ### init: get RDS files w/ count matrix and column information\n",
    "    txt_fdiry = file.path(FD_RES, \"region_coverage_fcc\", txt_region, txt_assay, \"overlap_count\", \"summary\")\n",
    "    txt_fname = \"data*count_column*raw*rds\"\n",
    "    txt_fglob = file.path(txt_fdiry, txt_fname)\n",
    "    \n",
    "    vec_txt_fpath_inp = Sys.glob(txt_fglob)\n",
    "    \n",
    "    ### loop\n",
    "    for (txt_fpath_inp in vec_txt_fpath_inp){\n",
    "\n",
    "        ### read object\n",
    "        lst_dat = readRDS(txt_fpath_inp)\n",
    "        dat_cnt = lst_dat$data_cnt\n",
    "        dat_col = lst_dat$data_col\n",
    "        \n",
    "        ### arrange column data\n",
    "        dat_col = dat_col  %>% \n",
    "            dplyr::mutate(Group = factor(Group, levels = c(\"Input\", \"Output\"))) %>%\n",
    "            column_to_rownames(var = \"Sample\")\n",
    "        \n",
    "        ### arrange count matrix\n",
    "        mat_tot = dat_cnt %>%\n",
    "            dplyr::select(-Chrom, -ChromStart, -ChromEnd) %>%\n",
    "            column_to_rownames(var = \"Region\")\n",
    "        mat_inp = mat_tot %>% dplyr::select(starts_with(\"Input\"))\n",
    "        mat_out = mat_tot %>% dplyr::select(starts_with(\"Output\"))\n",
    "\n",
    "        ### create list of DGE objects for total, input, and output\n",
    "        lst = list()\n",
    "        lst[[\"Total\"]]  = DGEList(counts=mat_tot, group = dat_col$Group)\n",
    "        lst[[\"Input\"]]  = DGEList(counts=mat_inp, group = rep(\"Input\",  ncol(mat_inp)))\n",
    "        lst[[\"Output\"]] = DGEList(counts=mat_out, group = rep(\"Output\", ncol(mat_out)))\n",
    "        lst_edger = lst\n",
    "\n",
    "        ### filter counts using filterByExpr from edgeR\n",
    "        dge = lst_edger[[\"Total\"]]\n",
    "        idx = filterByExpr(dge)\n",
    "\n",
    "        ### Check: index matched when filtering\n",
    "        x = names(idx)\n",
    "        y = row.names(mat_tot)\n",
    "        if (!all(x == y)) {stop(\"Error index\")}\n",
    "\n",
    "        ### if passed: filter matrix\n",
    "        mat_cnt = mat_tot[idx,]\n",
    "\n",
    "        ### show progress:\n",
    "        txt_fpath  = txt_fpath_inp\n",
    "        txt_fname  = basename(txt_fpath)\n",
    "        txt_prefix = fun_get_prefix(txt_fname)\n",
    "        \n",
    "        cat(\"\\n====================\\n\")\n",
    "        cat(\"Region:\", txt_region, \"\\n\")\n",
    "        cat(\"Assay: \", txt_assay,  \"\\n\")\n",
    "        cat(\"Prefix:\", txt_prefix, \"\\n\")\n",
    "        cat(\"FPath: \", txt_fpath,  \"\\n\")\n",
    "        cat(\"FName: \", txt_fname,  \"\\n\")\n",
    "        cat(\"Import Counts:\\n\")\n",
    "        cat(\"#Rows (Before filter):\", nrow(dat_cnt), \"\\n\")\n",
    "        cat(\"#Rows (After  filter):\", nrow(mat_cnt), \"\\n\")\n",
    "        cat(\"\\n\")\n",
    "        flush.console()\n",
    "\n",
    "        ### create dds object\n",
    "        cat(\"Apply DESeq2: ~Group\", \"\\n\")\n",
    "        dds = DESeqDataSetFromMatrix(\n",
    "            countData = mat_cnt, \n",
    "            colData   = dat_col, \n",
    "            design    = ~Group)\n",
    "        \n",
    "        ### ensure Input group is set as reference\n",
    "        dds$Group <- relevel(dds$Group, ref = \"Input\")\n",
    "\n",
    "        ### run deseq analysis\n",
    "        dds = DESeq(dds)\n",
    "\n",
    "        ### save deseq object\n",
    "        txt_fdiry = dirname(txt_fpath_inp)\n",
    "        txt_fname = paste(\"data\", \"deseq2\", txt_prefix, \"rds\", sep=\".\")\n",
    "        txt_fpath = file.path(txt_fdiry, txt_fname)\n",
    "        \n",
    "        obj = dds\n",
    "        saveRDS(obj, txt_fpath)\n",
    "\n",
    "        ### save DGEList object\n",
    "        txt_fdiry = dirname(txt_fpath_inp)\n",
    "        txt_fname = paste(\"data\", \"edger\", txt_prefix, \"rds\", sep=\".\")\n",
    "        txt_fpath = file.path(txt_fdiry, txt_fname)\n",
    "        \n",
    "        obj = lst_edger\n",
    "        saveRDS(obj, txt_fpath)\n",
    "    }\n",
    "}"
   ]
  },
  {
   "cell_type": "code",
   "execution_count": null,
   "id": "50a12488-1839-423b-a935-8272ee0a84d2",
   "metadata": {},
   "outputs": [],
   "source": []
  }
 ],
 "metadata": {
  "kernelspec": {
   "display_name": "R",
   "language": "R",
   "name": "ir"
  },
  "language_info": {
   "codemirror_mode": "r",
   "file_extension": ".r",
   "mimetype": "text/x-r-source",
   "name": "R",
   "pygments_lexer": "r",
   "version": "4.4.2"
  }
 },
 "nbformat": 4,
 "nbformat_minor": 5
}
