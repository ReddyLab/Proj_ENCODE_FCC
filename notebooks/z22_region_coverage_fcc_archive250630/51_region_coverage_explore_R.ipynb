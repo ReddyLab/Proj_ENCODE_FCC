{
 "cells": [
  {
   "cell_type": "markdown",
   "id": "aac488f3-ce40-4efc-b471-49780303f747",
   "metadata": {},
   "source": [
    "three different notebooks\n",
    "- density plot\n",
    "- correlation summary across multiple atac region set\n",
    "- correlation plot of fcc astarr input overlap"
   ]
  }
 ],
 "metadata": {
  "kernelspec": {
   "display_name": "R",
   "language": "R",
   "name": "ir"
  },
  "language_info": {
   "codemirror_mode": "r",
   "file_extension": ".r",
   "mimetype": "text/x-r-source",
   "name": "R",
   "pygments_lexer": "r",
   "version": "4.4.2"
  }
 },
 "nbformat": 4,
 "nbformat_minor": 5
}
