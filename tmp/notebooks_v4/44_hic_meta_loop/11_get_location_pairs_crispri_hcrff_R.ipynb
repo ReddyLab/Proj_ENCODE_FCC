{
 "cells": [
  {
   "cell_type": "markdown",
   "id": "bcd15c03-9fc3-4c76-addf-19ee09d9fd83",
   "metadata": {},
   "source": [
    "**Set environment**"
   ]
  },
  {
   "cell_type": "code",
   "execution_count": 5,
   "id": "429fc292-62a8-40eb-9dad-8a782af34e61",
   "metadata": {},
   "outputs": [
    {
     "name": "stdout",
     "output_type": "stream",
     "text": [
      "You are in Singularity: singularity_proj_encode_fcc \n",
      "BASE DIRECTORY (FD_BASE): /data/reddylab/Kuei \n",
      "WORK DIRECTORY (FD_WORK): /data/reddylab/Kuei/out \n",
      "CODE DIRECTORY (FD_CODE): /data/reddylab/Kuei/code \n",
      "PATH OF PROJECT (FD_PRJ): /data/reddylab/Kuei/code/Proj_CombEffect_ENCODE_FCC \n",
      "PATH OF RESULTS (FD_RES): /data/reddylab/Kuei/out/proj_combeffect_encode_fcc \n",
      "PATH OF LOG     (FD_LOG): /data/reddylab/Kuei/out/proj_combeffect_encode_fcc/log \n"
     ]
    }
   ],
   "source": [
    "suppressWarnings(suppressMessages(source(\"../config/config_sing.R\")))\n",
    "library(pheatmap)\n",
    "show_env()"
   ]
  },
  {
   "cell_type": "markdown",
   "id": "a7a67950-3fba-4b06-a38c-6b7d4ad1c512",
   "metadata": {},
   "source": [
    "## Import TSS"
   ]
  },
  {
   "cell_type": "code",
   "execution_count": 2,
   "id": "fb7b5c7f-0ef3-4bb0-bbb0-e23dd3ccb76a",
   "metadata": {},
   "outputs": [
    {
     "data": {
      "text/html": [
       "<table class=\"dataframe\">\n",
       "<caption>A tibble: 6 × 5</caption>\n",
       "<thead>\n",
       "\t<tr><th scope=col>Chrom</th><th scope=col>Start</th><th scope=col>End</th><th scope=col>Gene</th><th scope=col>Score</th></tr>\n",
       "\t<tr><th scope=col>&lt;chr&gt;</th><th scope=col>&lt;dbl&gt;</th><th scope=col>&lt;dbl&gt;</th><th scope=col>&lt;chr&gt;</th><th scope=col>&lt;dbl&gt;</th></tr>\n",
       "</thead>\n",
       "<tbody>\n",
       "\t<tr><td>chr1</td><td> 29370</td><td> 29371</td><td>WASH7P   </td><td>2.30000e-04</td></tr>\n",
       "\t<tr><td>chr1</td><td>827522</td><td>827523</td><td>LINC00115</td><td>6.44656e+01</td></tr>\n",
       "\t<tr><td>chr1</td><td>827590</td><td>827591</td><td>LINC01128</td><td>6.44603e+01</td></tr>\n",
       "\t<tr><td>chr1</td><td>876802</td><td>876803</td><td>FAM41C   </td><td>7.88399e-03</td></tr>\n",
       "\t<tr><td>chr1</td><td>959256</td><td>959257</td><td>NOC2L    </td><td>1.04866e+02</td></tr>\n",
       "\t<tr><td>chr1</td><td>960583</td><td>960584</td><td>KLHL17   </td><td>8.22571e+00</td></tr>\n",
       "</tbody>\n",
       "</table>\n"
      ],
      "text/latex": [
       "A tibble: 6 × 5\n",
       "\\begin{tabular}{lllll}\n",
       " Chrom & Start & End & Gene & Score\\\\\n",
       " <chr> & <dbl> & <dbl> & <chr> & <dbl>\\\\\n",
       "\\hline\n",
       "\t chr1 &  29370 &  29371 & WASH7P    & 2.30000e-04\\\\\n",
       "\t chr1 & 827522 & 827523 & LINC00115 & 6.44656e+01\\\\\n",
       "\t chr1 & 827590 & 827591 & LINC01128 & 6.44603e+01\\\\\n",
       "\t chr1 & 876802 & 876803 & FAM41C    & 7.88399e-03\\\\\n",
       "\t chr1 & 959256 & 959257 & NOC2L     & 1.04866e+02\\\\\n",
       "\t chr1 & 960583 & 960584 & KLHL17    & 8.22571e+00\\\\\n",
       "\\end{tabular}\n"
      ],
      "text/markdown": [
       "\n",
       "A tibble: 6 × 5\n",
       "\n",
       "| Chrom &lt;chr&gt; | Start &lt;dbl&gt; | End &lt;dbl&gt; | Gene &lt;chr&gt; | Score &lt;dbl&gt; |\n",
       "|---|---|---|---|---|\n",
       "| chr1 |  29370 |  29371 | WASH7P    | 2.30000e-04 |\n",
       "| chr1 | 827522 | 827523 | LINC00115 | 6.44656e+01 |\n",
       "| chr1 | 827590 | 827591 | LINC01128 | 6.44603e+01 |\n",
       "| chr1 | 876802 | 876803 | FAM41C    | 7.88399e-03 |\n",
       "| chr1 | 959256 | 959257 | NOC2L     | 1.04866e+02 |\n",
       "| chr1 | 960583 | 960584 | KLHL17    | 8.22571e+00 |\n",
       "\n"
      ],
      "text/plain": [
       "  Chrom Start  End    Gene      Score      \n",
       "1 chr1   29370  29371 WASH7P    2.30000e-04\n",
       "2 chr1  827522 827523 LINC00115 6.44656e+01\n",
       "3 chr1  827590 827591 LINC01128 6.44603e+01\n",
       "4 chr1  876802 876803 FAM41C    7.88399e-03\n",
       "5 chr1  959256 959257 NOC2L     1.04866e+02\n",
       "6 chr1  960583 960584 KLHL17    8.22571e+00"
      ]
     },
     "metadata": {},
     "output_type": "display_data"
    }
   ],
   "source": [
    "fdiry = file.path(FD_RES, \"results\", \"region\", \"annotation_tss_pol2\")\n",
    "fname = \"K562.TSS.selected_by_highest_Pol2_signal.filtered_by_RNAseq_TPM.bed.gz\"\n",
    "fpath = file.path(fdiry, fname)\n",
    "\n",
    "cnames = c(\"Chrom\", \"Start\", \"End\", \"Gene\", \"Score\")\n",
    "dat = read_tsv(fpath, col_names = cnames, show_col_types = FALSE)\n",
    "\n",
    "dat_region_tss = dat\n",
    "head(dat)"
   ]
  },
  {
   "cell_type": "markdown",
   "id": "bf836585-f19d-4380-988d-a4aaf1de0796",
   "metadata": {},
   "source": [
    "## Import CRISPRi-HCRFF peaks"
   ]
  },
  {
   "cell_type": "code",
   "execution_count": 3,
   "id": "cc61405b-06bb-446f-80ab-a5f7a1c37508",
   "metadata": {},
   "outputs": [
    {
     "name": "stdout",
     "output_type": "stream",
     "text": [
      "[1] 113  10\n"
     ]
    },
    {
     "data": {
      "text/html": [
       "<table class=\"dataframe\">\n",
       "<caption>A tibble: 6 × 10</caption>\n",
       "<thead>\n",
       "\t<tr><th scope=col>Chrom</th><th scope=col>Start</th><th scope=col>End</th><th scope=col>Name</th><th scope=col>Score</th><th scope=col>Strand</th><th scope=col>Gene_Symbol</th><th scope=col>Gene_Ensembl</th><th scope=col>Assay_Type</th><th scope=col>Assay_Label</th></tr>\n",
       "\t<tr><th scope=col>&lt;chr&gt;</th><th scope=col>&lt;dbl&gt;</th><th scope=col>&lt;dbl&gt;</th><th scope=col>&lt;chr&gt;</th><th scope=col>&lt;dbl&gt;</th><th scope=col>&lt;chr&gt;</th><th scope=col>&lt;chr&gt;</th><th scope=col>&lt;chr&gt;</th><th scope=col>&lt;chr&gt;</th><th scope=col>&lt;chr&gt;</th></tr>\n",
       "</thead>\n",
       "<tbody>\n",
       "\t<tr><td>chr11</td><td>5248847</td><td>5249047</td><td>chr11:5248847-5249047</td><td>1.0686240</td><td>.</td><td>HBG1</td><td>ENST00000330597.5</td><td>CRISPRi-HCRFF</td><td>CRISPRi-HCRFF:HBG1</td></tr>\n",
       "\t<tr><td>chr11</td><td>5248847</td><td>5249047</td><td>chr11:5248847-5249047</td><td>0.9357701</td><td>.</td><td>HBG2</td><td>ENST00000336906.6</td><td>CRISPRi-HCRFF</td><td>CRISPRi-HCRFF:HBG2</td></tr>\n",
       "\t<tr><td>chr11</td><td>5249847</td><td>5250847</td><td>chr11:5249847-5250847</td><td>1.8908899</td><td>.</td><td>HBG1</td><td>ENST00000330597.5</td><td>CRISPRi-HCRFF</td><td>CRISPRi-HCRFF:HBG1</td></tr>\n",
       "\t<tr><td>chr11</td><td>5249847</td><td>5250847</td><td>chr11:5249847-5250847</td><td>1.9229558</td><td>.</td><td>HBG2</td><td>ENST00000336906.6</td><td>CRISPRi-HCRFF</td><td>CRISPRi-HCRFF:HBG2</td></tr>\n",
       "\t<tr><td>chr11</td><td>5253147</td><td>5253547</td><td>chr11:5253147-5253547</td><td>1.3303423</td><td>.</td><td>HBG1</td><td>ENST00000330597.5</td><td>CRISPRi-HCRFF</td><td>CRISPRi-HCRFF:HBG1</td></tr>\n",
       "\t<tr><td>chr11</td><td>5253147</td><td>5253547</td><td>chr11:5253147-5253547</td><td>1.3232571</td><td>.</td><td>HBG2</td><td>ENST00000336906.6</td><td>CRISPRi-HCRFF</td><td>CRISPRi-HCRFF:HBG2</td></tr>\n",
       "</tbody>\n",
       "</table>\n"
      ],
      "text/latex": [
       "A tibble: 6 × 10\n",
       "\\begin{tabular}{llllllllll}\n",
       " Chrom & Start & End & Name & Score & Strand & Gene\\_Symbol & Gene\\_Ensembl & Assay\\_Type & Assay\\_Label\\\\\n",
       " <chr> & <dbl> & <dbl> & <chr> & <dbl> & <chr> & <chr> & <chr> & <chr> & <chr>\\\\\n",
       "\\hline\n",
       "\t chr11 & 5248847 & 5249047 & chr11:5248847-5249047 & 1.0686240 & . & HBG1 & ENST00000330597.5 & CRISPRi-HCRFF & CRISPRi-HCRFF:HBG1\\\\\n",
       "\t chr11 & 5248847 & 5249047 & chr11:5248847-5249047 & 0.9357701 & . & HBG2 & ENST00000336906.6 & CRISPRi-HCRFF & CRISPRi-HCRFF:HBG2\\\\\n",
       "\t chr11 & 5249847 & 5250847 & chr11:5249847-5250847 & 1.8908899 & . & HBG1 & ENST00000330597.5 & CRISPRi-HCRFF & CRISPRi-HCRFF:HBG1\\\\\n",
       "\t chr11 & 5249847 & 5250847 & chr11:5249847-5250847 & 1.9229558 & . & HBG2 & ENST00000336906.6 & CRISPRi-HCRFF & CRISPRi-HCRFF:HBG2\\\\\n",
       "\t chr11 & 5253147 & 5253547 & chr11:5253147-5253547 & 1.3303423 & . & HBG1 & ENST00000330597.5 & CRISPRi-HCRFF & CRISPRi-HCRFF:HBG1\\\\\n",
       "\t chr11 & 5253147 & 5253547 & chr11:5253147-5253547 & 1.3232571 & . & HBG2 & ENST00000336906.6 & CRISPRi-HCRFF & CRISPRi-HCRFF:HBG2\\\\\n",
       "\\end{tabular}\n"
      ],
      "text/markdown": [
       "\n",
       "A tibble: 6 × 10\n",
       "\n",
       "| Chrom &lt;chr&gt; | Start &lt;dbl&gt; | End &lt;dbl&gt; | Name &lt;chr&gt; | Score &lt;dbl&gt; | Strand &lt;chr&gt; | Gene_Symbol &lt;chr&gt; | Gene_Ensembl &lt;chr&gt; | Assay_Type &lt;chr&gt; | Assay_Label &lt;chr&gt; |\n",
       "|---|---|---|---|---|---|---|---|---|---|\n",
       "| chr11 | 5248847 | 5249047 | chr11:5248847-5249047 | 1.0686240 | . | HBG1 | ENST00000330597.5 | CRISPRi-HCRFF | CRISPRi-HCRFF:HBG1 |\n",
       "| chr11 | 5248847 | 5249047 | chr11:5248847-5249047 | 0.9357701 | . | HBG2 | ENST00000336906.6 | CRISPRi-HCRFF | CRISPRi-HCRFF:HBG2 |\n",
       "| chr11 | 5249847 | 5250847 | chr11:5249847-5250847 | 1.8908899 | . | HBG1 | ENST00000330597.5 | CRISPRi-HCRFF | CRISPRi-HCRFF:HBG1 |\n",
       "| chr11 | 5249847 | 5250847 | chr11:5249847-5250847 | 1.9229558 | . | HBG2 | ENST00000336906.6 | CRISPRi-HCRFF | CRISPRi-HCRFF:HBG2 |\n",
       "| chr11 | 5253147 | 5253547 | chr11:5253147-5253547 | 1.3303423 | . | HBG1 | ENST00000330597.5 | CRISPRi-HCRFF | CRISPRi-HCRFF:HBG1 |\n",
       "| chr11 | 5253147 | 5253547 | chr11:5253147-5253547 | 1.3232571 | . | HBG2 | ENST00000336906.6 | CRISPRi-HCRFF | CRISPRi-HCRFF:HBG2 |\n",
       "\n"
      ],
      "text/plain": [
       "  Chrom Start   End     Name                  Score     Strand Gene_Symbol\n",
       "1 chr11 5248847 5249047 chr11:5248847-5249047 1.0686240 .      HBG1       \n",
       "2 chr11 5248847 5249047 chr11:5248847-5249047 0.9357701 .      HBG2       \n",
       "3 chr11 5249847 5250847 chr11:5249847-5250847 1.8908899 .      HBG1       \n",
       "4 chr11 5249847 5250847 chr11:5249847-5250847 1.9229558 .      HBG2       \n",
       "5 chr11 5253147 5253547 chr11:5253147-5253547 1.3303423 .      HBG1       \n",
       "6 chr11 5253147 5253547 chr11:5253147-5253547 1.3232571 .      HBG2       \n",
       "  Gene_Ensembl      Assay_Type    Assay_Label       \n",
       "1 ENST00000330597.5 CRISPRi-HCRFF CRISPRi-HCRFF:HBG1\n",
       "2 ENST00000336906.6 CRISPRi-HCRFF CRISPRi-HCRFF:HBG2\n",
       "3 ENST00000330597.5 CRISPRi-HCRFF CRISPRi-HCRFF:HBG1\n",
       "4 ENST00000336906.6 CRISPRi-HCRFF CRISPRi-HCRFF:HBG2\n",
       "5 ENST00000330597.5 CRISPRi-HCRFF CRISPRi-HCRFF:HBG1\n",
       "6 ENST00000336906.6 CRISPRi-HCRFF CRISPRi-HCRFF:HBG2"
      ]
     },
     "metadata": {},
     "output_type": "display_data"
    }
   ],
   "source": [
    "###\n",
    "fdiry = file.path(FD_RES, \"results\", \"region\", \"annotation_crispri_hcrff\")\n",
    "fname = \"description.tsv\"\n",
    "fpath = file.path(fdiry, fname)\n",
    "\n",
    "###\n",
    "dat = read_tsv(fpath, show_col_types = FALSE)\n",
    "\n",
    "###\n",
    "fname = \"crispri_hcrff.casa.bed.gz\"\n",
    "fpath = file.path(fdiry, fname)\n",
    "\n",
    "###\n",
    "vec = dat$Name\n",
    "dat = read_tsv(fpath, col_names = vec, show_col_types = FALSE)\n",
    "\n",
    "###\n",
    "dat_peak_crispri_hcrff = dat\n",
    "print(dim(dat))\n",
    "head(dat)"
   ]
  },
  {
   "cell_type": "markdown",
   "id": "90e330fa-0897-4fa2-a8fe-027f010cdba9",
   "metadata": {},
   "source": [
    "## Explore"
   ]
  },
  {
   "cell_type": "code",
   "execution_count": 4,
   "id": "3cdb9aea-60c7-4fed-b2b9-51be59d0cdc1",
   "metadata": {},
   "outputs": [
    {
     "data": {
      "text/html": [
       "<table class=\"dataframe\">\n",
       "<caption>A spec_tbl_df: 20 × 5</caption>\n",
       "<thead>\n",
       "\t<tr><th scope=col>Chrom</th><th scope=col>Start</th><th scope=col>End</th><th scope=col>Gene</th><th scope=col>Score</th></tr>\n",
       "\t<tr><th scope=col>&lt;chr&gt;</th><th scope=col>&lt;dbl&gt;</th><th scope=col>&lt;dbl&gt;</th><th scope=col>&lt;chr&gt;</th><th scope=col>&lt;dbl&gt;</th></tr>\n",
       "</thead>\n",
       "<tbody>\n",
       "\t<tr><td>chr11</td><td>  5249857</td><td>  5249858</td><td>HBG1   </td><td> 17.42930</td></tr>\n",
       "\t<tr><td>chr11</td><td>  5254781</td><td>  5254782</td><td>HBG2   </td><td> 15.73020</td></tr>\n",
       "\t<tr><td>chr11</td><td>  5269945</td><td>  5269946</td><td>HBE1   </td><td>319.92500</td></tr>\n",
       "\t<tr><td>chr11</td><td> 33869878</td><td> 33869879</td><td>LMO2   </td><td>  8.55278</td></tr>\n",
       "\t<tr><td>chr11</td><td> 34051730</td><td> 34051731</td><td>CAPRIN1</td><td>203.81000</td></tr>\n",
       "\t<tr><td>chr11</td><td> 34438933</td><td> 34438934</td><td>CAT    </td><td> 68.08190</td></tr>\n",
       "\t<tr><td>chr11</td><td> 61792910</td><td> 61792911</td><td>FEN1   </td><td>232.47000</td></tr>\n",
       "\t<tr><td>chr11</td><td> 61816202</td><td> 61816203</td><td>FADS2  </td><td>418.26700</td></tr>\n",
       "\t<tr><td>chr11</td><td> 61817003</td><td> 61817004</td><td>FADS1  </td><td>158.66100</td></tr>\n",
       "\t<tr><td>chr11</td><td> 61891545</td><td> 61891546</td><td>FADS3  </td><td>  8.24971</td></tr>\n",
       "\t<tr><td>chr12</td><td>112013347</td><td>112013348</td><td>ERP29  </td><td>282.37200</td></tr>\n",
       "\t<tr><td>chr4 </td><td> 55636298</td><td> 55636299</td><td>NMU    </td><td> 58.38680</td></tr>\n",
       "\t<tr><td>chr5 </td><td> 88883184</td><td> 88883185</td><td>MEF2C  </td><td> 35.03940</td></tr>\n",
       "\t<tr><td>chr6 </td><td>109382467</td><td>109382468</td><td>CD164  </td><td>276.34100</td></tr>\n",
       "\t<tr><td>chr6 </td><td>135054822</td><td>135054823</td><td>HBS1L  </td><td>153.87900</td></tr>\n",
       "\t<tr><td>chr6 </td><td>135181307</td><td>135181308</td><td>MYB    </td><td> 15.10130</td></tr>\n",
       "\t<tr><td>chr8 </td><td>127736230</td><td>127736231</td><td>MYC    </td><td>272.78100</td></tr>\n",
       "\t<tr><td>chr8 </td><td>127794532</td><td>127794533</td><td>PVT1   </td><td> 10.31760</td></tr>\n",
       "\t<tr><td>chrX </td><td> 48786589</td><td> 48786590</td><td>GATA1  </td><td> 70.42080</td></tr>\n",
       "\t<tr><td>chrX </td><td> 48802066</td><td> 48802067</td><td>HDAC6  </td><td>183.30000</td></tr>\n",
       "</tbody>\n",
       "</table>\n"
      ],
      "text/latex": [
       "A spec\\_tbl\\_df: 20 × 5\n",
       "\\begin{tabular}{lllll}\n",
       " Chrom & Start & End & Gene & Score\\\\\n",
       " <chr> & <dbl> & <dbl> & <chr> & <dbl>\\\\\n",
       "\\hline\n",
       "\t chr11 &   5249857 &   5249858 & HBG1    &  17.42930\\\\\n",
       "\t chr11 &   5254781 &   5254782 & HBG2    &  15.73020\\\\\n",
       "\t chr11 &   5269945 &   5269946 & HBE1    & 319.92500\\\\\n",
       "\t chr11 &  33869878 &  33869879 & LMO2    &   8.55278\\\\\n",
       "\t chr11 &  34051730 &  34051731 & CAPRIN1 & 203.81000\\\\\n",
       "\t chr11 &  34438933 &  34438934 & CAT     &  68.08190\\\\\n",
       "\t chr11 &  61792910 &  61792911 & FEN1    & 232.47000\\\\\n",
       "\t chr11 &  61816202 &  61816203 & FADS2   & 418.26700\\\\\n",
       "\t chr11 &  61817003 &  61817004 & FADS1   & 158.66100\\\\\n",
       "\t chr11 &  61891545 &  61891546 & FADS3   &   8.24971\\\\\n",
       "\t chr12 & 112013347 & 112013348 & ERP29   & 282.37200\\\\\n",
       "\t chr4  &  55636298 &  55636299 & NMU     &  58.38680\\\\\n",
       "\t chr5  &  88883184 &  88883185 & MEF2C   &  35.03940\\\\\n",
       "\t chr6  & 109382467 & 109382468 & CD164   & 276.34100\\\\\n",
       "\t chr6  & 135054822 & 135054823 & HBS1L   & 153.87900\\\\\n",
       "\t chr6  & 135181307 & 135181308 & MYB     &  15.10130\\\\\n",
       "\t chr8  & 127736230 & 127736231 & MYC     & 272.78100\\\\\n",
       "\t chr8  & 127794532 & 127794533 & PVT1    &  10.31760\\\\\n",
       "\t chrX  &  48786589 &  48786590 & GATA1   &  70.42080\\\\\n",
       "\t chrX  &  48802066 &  48802067 & HDAC6   & 183.30000\\\\\n",
       "\\end{tabular}\n"
      ],
      "text/markdown": [
       "\n",
       "A spec_tbl_df: 20 × 5\n",
       "\n",
       "| Chrom &lt;chr&gt; | Start &lt;dbl&gt; | End &lt;dbl&gt; | Gene &lt;chr&gt; | Score &lt;dbl&gt; |\n",
       "|---|---|---|---|---|\n",
       "| chr11 |   5249857 |   5249858 | HBG1    |  17.42930 |\n",
       "| chr11 |   5254781 |   5254782 | HBG2    |  15.73020 |\n",
       "| chr11 |   5269945 |   5269946 | HBE1    | 319.92500 |\n",
       "| chr11 |  33869878 |  33869879 | LMO2    |   8.55278 |\n",
       "| chr11 |  34051730 |  34051731 | CAPRIN1 | 203.81000 |\n",
       "| chr11 |  34438933 |  34438934 | CAT     |  68.08190 |\n",
       "| chr11 |  61792910 |  61792911 | FEN1    | 232.47000 |\n",
       "| chr11 |  61816202 |  61816203 | FADS2   | 418.26700 |\n",
       "| chr11 |  61817003 |  61817004 | FADS1   | 158.66100 |\n",
       "| chr11 |  61891545 |  61891546 | FADS3   |   8.24971 |\n",
       "| chr12 | 112013347 | 112013348 | ERP29   | 282.37200 |\n",
       "| chr4  |  55636298 |  55636299 | NMU     |  58.38680 |\n",
       "| chr5  |  88883184 |  88883185 | MEF2C   |  35.03940 |\n",
       "| chr6  | 109382467 | 109382468 | CD164   | 276.34100 |\n",
       "| chr6  | 135054822 | 135054823 | HBS1L   | 153.87900 |\n",
       "| chr6  | 135181307 | 135181308 | MYB     |  15.10130 |\n",
       "| chr8  | 127736230 | 127736231 | MYC     | 272.78100 |\n",
       "| chr8  | 127794532 | 127794533 | PVT1    |  10.31760 |\n",
       "| chrX  |  48786589 |  48786590 | GATA1   |  70.42080 |\n",
       "| chrX  |  48802066 |  48802067 | HDAC6   | 183.30000 |\n",
       "\n"
      ],
      "text/plain": [
       "   Chrom Start     End       Gene    Score    \n",
       "1  chr11   5249857   5249858 HBG1     17.42930\n",
       "2  chr11   5254781   5254782 HBG2     15.73020\n",
       "3  chr11   5269945   5269946 HBE1    319.92500\n",
       "4  chr11  33869878  33869879 LMO2      8.55278\n",
       "5  chr11  34051730  34051731 CAPRIN1 203.81000\n",
       "6  chr11  34438933  34438934 CAT      68.08190\n",
       "7  chr11  61792910  61792911 FEN1    232.47000\n",
       "8  chr11  61816202  61816203 FADS2   418.26700\n",
       "9  chr11  61817003  61817004 FADS1   158.66100\n",
       "10 chr11  61891545  61891546 FADS3     8.24971\n",
       "11 chr12 112013347 112013348 ERP29   282.37200\n",
       "12 chr4   55636298  55636299 NMU      58.38680\n",
       "13 chr5   88883184  88883185 MEF2C    35.03940\n",
       "14 chr6  109382467 109382468 CD164   276.34100\n",
       "15 chr6  135054822 135054823 HBS1L   153.87900\n",
       "16 chr6  135181307 135181308 MYB      15.10130\n",
       "17 chr8  127736230 127736231 MYC     272.78100\n",
       "18 chr8  127794532 127794533 PVT1     10.31760\n",
       "19 chrX   48786589  48786590 GATA1    70.42080\n",
       "20 chrX   48802066  48802067 HDAC6   183.30000"
      ]
     },
     "metadata": {},
     "output_type": "display_data"
    }
   ],
   "source": [
    "dat = dat_peak_crispri_hcrff\n",
    "vec = dat$Gene_Symbol\n",
    "\n",
    "dat = dat_region_tss\n",
    "dat = dat %>% dplyr::filter(Gene %in% vec)\n",
    "\n",
    "dat"
   ]
  },
  {
   "cell_type": "code",
   "execution_count": 6,
   "id": "776a8aba-cf5c-4dd2-83cc-a04cf69ca681",
   "metadata": {},
   "outputs": [
    {
     "data": {
      "text/html": [
       "<table class=\"dataframe\">\n",
       "<caption>A tibble: 6 × 21</caption>\n",
       "<thead>\n",
       "\t<tr><th scope=col>Length</th><th scope=col>CAPRIN1</th><th scope=col>CAT</th><th scope=col>CD164</th><th scope=col>ERP29</th><th scope=col>FADS1</th><th scope=col>FADS2</th><th scope=col>FADS3</th><th scope=col>FEN1</th><th scope=col>GATA1</th><th scope=col>⋯</th><th scope=col>HBG1</th><th scope=col>HBG2</th><th scope=col>HBS1L</th><th scope=col>HDAC6</th><th scope=col>LMO2</th><th scope=col>MEF2C</th><th scope=col>MYB</th><th scope=col>MYC</th><th scope=col>NMU</th><th scope=col>PVT1</th></tr>\n",
       "\t<tr><th scope=col>&lt;dbl&gt;</th><th scope=col>&lt;int&gt;</th><th scope=col>&lt;int&gt;</th><th scope=col>&lt;int&gt;</th><th scope=col>&lt;int&gt;</th><th scope=col>&lt;int&gt;</th><th scope=col>&lt;int&gt;</th><th scope=col>&lt;int&gt;</th><th scope=col>&lt;int&gt;</th><th scope=col>&lt;int&gt;</th><th scope=col>⋯</th><th scope=col>&lt;int&gt;</th><th scope=col>&lt;int&gt;</th><th scope=col>&lt;int&gt;</th><th scope=col>&lt;int&gt;</th><th scope=col>&lt;int&gt;</th><th scope=col>&lt;int&gt;</th><th scope=col>&lt;int&gt;</th><th scope=col>&lt;int&gt;</th><th scope=col>&lt;int&gt;</th><th scope=col>&lt;int&gt;</th></tr>\n",
       "</thead>\n",
       "<tbody>\n",
       "\t<tr><td>200</td><td>NA</td><td>NA</td><td>NA</td><td>NA</td><td>NA</td><td>NA</td><td>NA</td><td>NA</td><td>NA</td><td>⋯</td><td> 1</td><td> 1</td><td>NA</td><td>NA</td><td>NA</td><td>NA</td><td>NA</td><td>NA</td><td>NA</td><td>3</td></tr>\n",
       "\t<tr><td>300</td><td>NA</td><td>NA</td><td>NA</td><td>NA</td><td>NA</td><td> 1</td><td>NA</td><td>NA</td><td>NA</td><td>⋯</td><td>NA</td><td>NA</td><td>NA</td><td>NA</td><td>NA</td><td>NA</td><td>NA</td><td>NA</td><td>NA</td><td>1</td></tr>\n",
       "\t<tr><td>400</td><td>NA</td><td> 1</td><td>NA</td><td>NA</td><td> 1</td><td>NA</td><td> 1</td><td>NA</td><td>NA</td><td>⋯</td><td> 4</td><td> 3</td><td>NA</td><td>NA</td><td>NA</td><td>NA</td><td>NA</td><td>NA</td><td>NA</td><td>3</td></tr>\n",
       "\t<tr><td>500</td><td> 1</td><td>NA</td><td>NA</td><td>NA</td><td>NA</td><td>NA</td><td>NA</td><td> 1</td><td>NA</td><td>⋯</td><td>NA</td><td> 2</td><td>NA</td><td>NA</td><td> 1</td><td>NA</td><td> 1</td><td>NA</td><td> 1</td><td>1</td></tr>\n",
       "\t<tr><td>600</td><td> 1</td><td>NA</td><td> 1</td><td> 2</td><td>NA</td><td>NA</td><td> 1</td><td>NA</td><td>NA</td><td>⋯</td><td> 2</td><td> 1</td><td>NA</td><td>NA</td><td>NA</td><td> 1</td><td>NA</td><td>NA</td><td>NA</td><td>1</td></tr>\n",
       "\t<tr><td>700</td><td>NA</td><td>NA</td><td> 1</td><td>NA</td><td>NA</td><td>NA</td><td>NA</td><td>NA</td><td>NA</td><td>⋯</td><td>NA</td><td>NA</td><td>NA</td><td> 1</td><td>NA</td><td>NA</td><td>NA</td><td> 1</td><td>NA</td><td>1</td></tr>\n",
       "</tbody>\n",
       "</table>\n"
      ],
      "text/latex": [
       "A tibble: 6 × 21\n",
       "\\begin{tabular}{lllllllllllllllllllll}\n",
       " Length & CAPRIN1 & CAT & CD164 & ERP29 & FADS1 & FADS2 & FADS3 & FEN1 & GATA1 & ⋯ & HBG1 & HBG2 & HBS1L & HDAC6 & LMO2 & MEF2C & MYB & MYC & NMU & PVT1\\\\\n",
       " <dbl> & <int> & <int> & <int> & <int> & <int> & <int> & <int> & <int> & <int> & ⋯ & <int> & <int> & <int> & <int> & <int> & <int> & <int> & <int> & <int> & <int>\\\\\n",
       "\\hline\n",
       "\t 200 & NA & NA & NA & NA & NA & NA & NA & NA & NA & ⋯ &  1 &  1 & NA & NA & NA & NA & NA & NA & NA & 3\\\\\n",
       "\t 300 & NA & NA & NA & NA & NA &  1 & NA & NA & NA & ⋯ & NA & NA & NA & NA & NA & NA & NA & NA & NA & 1\\\\\n",
       "\t 400 & NA &  1 & NA & NA &  1 & NA &  1 & NA & NA & ⋯ &  4 &  3 & NA & NA & NA & NA & NA & NA & NA & 3\\\\\n",
       "\t 500 &  1 & NA & NA & NA & NA & NA & NA &  1 & NA & ⋯ & NA &  2 & NA & NA &  1 & NA &  1 & NA &  1 & 1\\\\\n",
       "\t 600 &  1 & NA &  1 &  2 & NA & NA &  1 & NA & NA & ⋯ &  2 &  1 & NA & NA & NA &  1 & NA & NA & NA & 1\\\\\n",
       "\t 700 & NA & NA &  1 & NA & NA & NA & NA & NA & NA & ⋯ & NA & NA & NA &  1 & NA & NA & NA &  1 & NA & 1\\\\\n",
       "\\end{tabular}\n"
      ],
      "text/markdown": [
       "\n",
       "A tibble: 6 × 21\n",
       "\n",
       "| Length &lt;dbl&gt; | CAPRIN1 &lt;int&gt; | CAT &lt;int&gt; | CD164 &lt;int&gt; | ERP29 &lt;int&gt; | FADS1 &lt;int&gt; | FADS2 &lt;int&gt; | FADS3 &lt;int&gt; | FEN1 &lt;int&gt; | GATA1 &lt;int&gt; | ⋯ ⋯ | HBG1 &lt;int&gt; | HBG2 &lt;int&gt; | HBS1L &lt;int&gt; | HDAC6 &lt;int&gt; | LMO2 &lt;int&gt; | MEF2C &lt;int&gt; | MYB &lt;int&gt; | MYC &lt;int&gt; | NMU &lt;int&gt; | PVT1 &lt;int&gt; |\n",
       "|---|---|---|---|---|---|---|---|---|---|---|---|---|---|---|---|---|---|---|---|---|\n",
       "| 200 | NA | NA | NA | NA | NA | NA | NA | NA | NA | ⋯ |  1 |  1 | NA | NA | NA | NA | NA | NA | NA | 3 |\n",
       "| 300 | NA | NA | NA | NA | NA |  1 | NA | NA | NA | ⋯ | NA | NA | NA | NA | NA | NA | NA | NA | NA | 1 |\n",
       "| 400 | NA |  1 | NA | NA |  1 | NA |  1 | NA | NA | ⋯ |  4 |  3 | NA | NA | NA | NA | NA | NA | NA | 3 |\n",
       "| 500 |  1 | NA | NA | NA | NA | NA | NA |  1 | NA | ⋯ | NA |  2 | NA | NA |  1 | NA |  1 | NA |  1 | 1 |\n",
       "| 600 |  1 | NA |  1 |  2 | NA | NA |  1 | NA | NA | ⋯ |  2 |  1 | NA | NA | NA |  1 | NA | NA | NA | 1 |\n",
       "| 700 | NA | NA |  1 | NA | NA | NA | NA | NA | NA | ⋯ | NA | NA | NA |  1 | NA | NA | NA |  1 | NA | 1 |\n",
       "\n"
      ],
      "text/plain": [
       "  Length CAPRIN1 CAT CD164 ERP29 FADS1 FADS2 FADS3 FEN1 GATA1 ⋯ HBG1 HBG2 HBS1L\n",
       "1 200    NA      NA  NA    NA    NA    NA    NA    NA   NA    ⋯  1    1   NA   \n",
       "2 300    NA      NA  NA    NA    NA     1    NA    NA   NA    ⋯ NA   NA   NA   \n",
       "3 400    NA       1  NA    NA     1    NA     1    NA   NA    ⋯  4    3   NA   \n",
       "4 500     1      NA  NA    NA    NA    NA    NA     1   NA    ⋯ NA    2   NA   \n",
       "5 600     1      NA   1     2    NA    NA     1    NA   NA    ⋯  2    1   NA   \n",
       "6 700    NA      NA   1    NA    NA    NA    NA    NA   NA    ⋯ NA   NA   NA   \n",
       "  HDAC6 LMO2 MEF2C MYB MYC NMU PVT1\n",
       "1 NA    NA   NA    NA  NA  NA  3   \n",
       "2 NA    NA   NA    NA  NA  NA  1   \n",
       "3 NA    NA   NA    NA  NA  NA  3   \n",
       "4 NA     1   NA     1  NA   1  1   \n",
       "5 NA    NA    1    NA  NA  NA  1   \n",
       "6  1    NA   NA    NA   1  NA  1   "
      ]
     },
     "metadata": {},
     "output_type": "display_data"
    }
   ],
   "source": [
    "dat = dat_peak_crispri_hcrff\n",
    "dat = dat %>% dplyr::mutate(Length = End - Start)\n",
    "dat = dat %>% \n",
    "    dplyr::group_by(Gene_Symbol, Length) %>% \n",
    "    dplyr::summarise(Count = n(), .groups=\"drop\") %>%\n",
    "    tidyr::spread(Gene_Symbol, Count)\n",
    "head(dat) "
   ]
  },
  {
   "cell_type": "code",
   "execution_count": 7,
   "id": "bab4054b-5807-4c32-a835-ac478f9cef08",
   "metadata": {},
   "outputs": [
    {
     "data": {
      "image/png": "[encoded data removed]",
      "text/plain": [
       "plot without title"
      ]
     },
     "metadata": {
      "image/png": {
       "height": 420,
       "width": 420
      }
     },
     "output_type": "display_data"
    }
   ],
   "source": [
    "mat = dat\n",
    "mat = mat %>% column_to_rownames(\"Length\") %>% as.matrix %>% replace(is.na(.), 0)\n",
    "pheatmap(mat, cluster_rows = FALSE)"
   ]
  },
  {
   "cell_type": "markdown",
   "id": "5bb89911-2e7b-4a49-9f2d-cc9f3c7697f1",
   "metadata": {},
   "source": [
    "## Create Peak-TSS pairs"
   ]
  },
  {
   "cell_type": "code",
   "execution_count": 8,
   "id": "5accd05b-0ca6-4b2b-b938-94e19e1d0325",
   "metadata": {},
   "outputs": [
    {
     "name": "stdout",
     "output_type": "stream",
     "text": [
      "[1] 113   8\n"
     ]
    },
    {
     "data": {
      "text/html": [
       "<table class=\"dataframe\">\n",
       "<caption>A tibble: 6 × 8</caption>\n",
       "<thead>\n",
       "\t<tr><th scope=col>Chrom_Peak</th><th scope=col>Start_Peak</th><th scope=col>End_Peak</th><th scope=col>Chrom_TSS</th><th scope=col>Start_TSS</th><th scope=col>End_TSS</th><th scope=col>Name</th><th scope=col>Score</th></tr>\n",
       "\t<tr><th scope=col>&lt;chr&gt;</th><th scope=col>&lt;dbl&gt;</th><th scope=col>&lt;dbl&gt;</th><th scope=col>&lt;chr&gt;</th><th scope=col>&lt;dbl&gt;</th><th scope=col>&lt;dbl&gt;</th><th scope=col>&lt;chr&gt;</th><th scope=col>&lt;dbl&gt;</th></tr>\n",
       "</thead>\n",
       "<tbody>\n",
       "\t<tr><td>chr11</td><td>5248847</td><td>5249047</td><td>chr11</td><td>5249857</td><td>5249858</td><td>chr11:5248847-5249047|HBG1</td><td>1.0686240</td></tr>\n",
       "\t<tr><td>chr11</td><td>5248847</td><td>5249047</td><td>chr11</td><td>5254781</td><td>5254782</td><td>chr11:5248847-5249047|HBG2</td><td>0.9357701</td></tr>\n",
       "\t<tr><td>chr11</td><td>5249847</td><td>5250847</td><td>chr11</td><td>5249857</td><td>5249858</td><td>chr11:5249847-5250847|HBG1</td><td>1.8908899</td></tr>\n",
       "\t<tr><td>chr11</td><td>5249847</td><td>5250847</td><td>chr11</td><td>5254781</td><td>5254782</td><td>chr11:5249847-5250847|HBG2</td><td>1.9229558</td></tr>\n",
       "\t<tr><td>chr11</td><td>5253147</td><td>5253547</td><td>chr11</td><td>5249857</td><td>5249858</td><td>chr11:5253147-5253547|HBG1</td><td>1.3303423</td></tr>\n",
       "\t<tr><td>chr11</td><td>5253147</td><td>5253547</td><td>chr11</td><td>5254781</td><td>5254782</td><td>chr11:5253147-5253547|HBG2</td><td>1.3232571</td></tr>\n",
       "</tbody>\n",
       "</table>\n"
      ],
      "text/latex": [
       "A tibble: 6 × 8\n",
       "\\begin{tabular}{llllllll}\n",
       " Chrom\\_Peak & Start\\_Peak & End\\_Peak & Chrom\\_TSS & Start\\_TSS & End\\_TSS & Name & Score\\\\\n",
       " <chr> & <dbl> & <dbl> & <chr> & <dbl> & <dbl> & <chr> & <dbl>\\\\\n",
       "\\hline\n",
       "\t chr11 & 5248847 & 5249047 & chr11 & 5249857 & 5249858 & chr11:5248847-5249047\\textbar{}HBG1 & 1.0686240\\\\\n",
       "\t chr11 & 5248847 & 5249047 & chr11 & 5254781 & 5254782 & chr11:5248847-5249047\\textbar{}HBG2 & 0.9357701\\\\\n",
       "\t chr11 & 5249847 & 5250847 & chr11 & 5249857 & 5249858 & chr11:5249847-5250847\\textbar{}HBG1 & 1.8908899\\\\\n",
       "\t chr11 & 5249847 & 5250847 & chr11 & 5254781 & 5254782 & chr11:5249847-5250847\\textbar{}HBG2 & 1.9229558\\\\\n",
       "\t chr11 & 5253147 & 5253547 & chr11 & 5249857 & 5249858 & chr11:5253147-5253547\\textbar{}HBG1 & 1.3303423\\\\\n",
       "\t chr11 & 5253147 & 5253547 & chr11 & 5254781 & 5254782 & chr11:5253147-5253547\\textbar{}HBG2 & 1.3232571\\\\\n",
       "\\end{tabular}\n"
      ],
      "text/markdown": [
       "\n",
       "A tibble: 6 × 8\n",
       "\n",
       "| Chrom_Peak &lt;chr&gt; | Start_Peak &lt;dbl&gt; | End_Peak &lt;dbl&gt; | Chrom_TSS &lt;chr&gt; | Start_TSS &lt;dbl&gt; | End_TSS &lt;dbl&gt; | Name &lt;chr&gt; | Score &lt;dbl&gt; |\n",
       "|---|---|---|---|---|---|---|---|\n",
       "| chr11 | 5248847 | 5249047 | chr11 | 5249857 | 5249858 | chr11:5248847-5249047|HBG1 | 1.0686240 |\n",
       "| chr11 | 5248847 | 5249047 | chr11 | 5254781 | 5254782 | chr11:5248847-5249047|HBG2 | 0.9357701 |\n",
       "| chr11 | 5249847 | 5250847 | chr11 | 5249857 | 5249858 | chr11:5249847-5250847|HBG1 | 1.8908899 |\n",
       "| chr11 | 5249847 | 5250847 | chr11 | 5254781 | 5254782 | chr11:5249847-5250847|HBG2 | 1.9229558 |\n",
       "| chr11 | 5253147 | 5253547 | chr11 | 5249857 | 5249858 | chr11:5253147-5253547|HBG1 | 1.3303423 |\n",
       "| chr11 | 5253147 | 5253547 | chr11 | 5254781 | 5254782 | chr11:5253147-5253547|HBG2 | 1.3232571 |\n",
       "\n"
      ],
      "text/plain": [
       "  Chrom_Peak Start_Peak End_Peak Chrom_TSS Start_TSS End_TSS\n",
       "1 chr11      5248847    5249047  chr11     5249857   5249858\n",
       "2 chr11      5248847    5249047  chr11     5254781   5254782\n",
       "3 chr11      5249847    5250847  chr11     5249857   5249858\n",
       "4 chr11      5249847    5250847  chr11     5254781   5254782\n",
       "5 chr11      5253147    5253547  chr11     5249857   5249858\n",
       "6 chr11      5253147    5253547  chr11     5254781   5254782\n",
       "  Name                       Score    \n",
       "1 chr11:5248847-5249047|HBG1 1.0686240\n",
       "2 chr11:5248847-5249047|HBG2 0.9357701\n",
       "3 chr11:5249847-5250847|HBG1 1.8908899\n",
       "4 chr11:5249847-5250847|HBG2 1.9229558\n",
       "5 chr11:5253147-5253547|HBG1 1.3303423\n",
       "6 chr11:5253147-5253547|HBG2 1.3232571"
      ]
     },
     "metadata": {},
     "output_type": "display_data"
    }
   ],
   "source": [
    "###\n",
    "dat = dat_peak_crispri_hcrff\n",
    "dat = dat %>%\n",
    "    dplyr::mutate(\n",
    "        Name = paste(Name, Gene_Symbol, sep=\"|\"),\n",
    "        Gene = Gene_Symbol\n",
    "    ) %>%\n",
    "    dplyr::rename(\n",
    "        \"Chrom_Peak\" = \"Chrom\", \n",
    "        \"Start_Peak\" = \"Start\", \n",
    "        \"End_Peak\"   = \"End\") %>%\n",
    "    dplyr::select(Chrom_Peak, Start_Peak, End_Peak, Name, Score, Gene)\n",
    "\n",
    "###\n",
    "dat1 = dat\n",
    "\n",
    "###\n",
    "dat = dat_region_tss\n",
    "dat = dat %>%\n",
    "    dplyr::rename(\n",
    "        \"Chrom_TSS\" = \"Chrom\", \n",
    "        \"Start_TSS\" = \"Start\", \n",
    "        \"End_TSS\"   = \"End\") %>%\n",
    "    dplyr::select(Chrom_TSS, Start_TSS, End_TSS, Gene)\n",
    "\n",
    "###\n",
    "dat2 = dat\n",
    "\n",
    "###\n",
    "dat = dplyr::left_join(dat1, dat2, by=\"Gene\")\n",
    "dat = dat %>% \n",
    "    dplyr::select(\n",
    "        Chrom_Peak, Start_Peak, End_Peak, \n",
    "        Chrom_TSS,  Start_TSS,  End_TSS, \n",
    "        Name, Score) %>%\n",
    "    dplyr::arrange(\n",
    "        Chrom_Peak, Start_Peak, End_Peak, \n",
    "        Chrom_TSS,  Start_TSS,  End_TSS)\n",
    "\n",
    "###\n",
    "dat_region_pair = dat\n",
    "print(dim(dat))\n",
    "head(dat)"
   ]
  },
  {
   "cell_type": "code",
   "execution_count": 12,
   "id": "ef5d81e4-6e2c-4e3a-ac63-137735571ae3",
   "metadata": {},
   "outputs": [
    {
     "name": "stdout",
     "output_type": "stream",
     "text": [
      "[1] 113   8\n"
     ]
    },
    {
     "data": {
      "text/html": [
       "<table class=\"dataframe\">\n",
       "<caption>A tibble: 6 × 8</caption>\n",
       "<thead>\n",
       "\t<tr><th scope=col>Chrom_Peak</th><th scope=col>Start_Peak</th><th scope=col>End_Peak</th><th scope=col>Chrom_TSS</th><th scope=col>Start_TSS</th><th scope=col>End_TSS</th><th scope=col>Name</th><th scope=col>Score</th></tr>\n",
       "\t<tr><th scope=col>&lt;chr&gt;</th><th scope=col>&lt;dbl&gt;</th><th scope=col>&lt;dbl&gt;</th><th scope=col>&lt;chr&gt;</th><th scope=col>&lt;dbl&gt;</th><th scope=col>&lt;dbl&gt;</th><th scope=col>&lt;chr&gt;</th><th scope=col>&lt;dbl&gt;</th></tr>\n",
       "</thead>\n",
       "<tbody>\n",
       "\t<tr><td>chr11</td><td>5248947</td><td>5248948</td><td>chr11</td><td>5249857</td><td>5249858</td><td>chr11:5248847-5249047|HBG1</td><td>1.0686240</td></tr>\n",
       "\t<tr><td>chr11</td><td>5248947</td><td>5248948</td><td>chr11</td><td>5254781</td><td>5254782</td><td>chr11:5248847-5249047|HBG2</td><td>0.9357701</td></tr>\n",
       "\t<tr><td>chr11</td><td>5250347</td><td>5250348</td><td>chr11</td><td>5249857</td><td>5249858</td><td>chr11:5249847-5250847|HBG1</td><td>1.8908899</td></tr>\n",
       "\t<tr><td>chr11</td><td>5250347</td><td>5250348</td><td>chr11</td><td>5254781</td><td>5254782</td><td>chr11:5249847-5250847|HBG2</td><td>1.9229558</td></tr>\n",
       "\t<tr><td>chr11</td><td>5253347</td><td>5253348</td><td>chr11</td><td>5249857</td><td>5249858</td><td>chr11:5253147-5253547|HBG1</td><td>1.3303423</td></tr>\n",
       "\t<tr><td>chr11</td><td>5253347</td><td>5253348</td><td>chr11</td><td>5254781</td><td>5254782</td><td>chr11:5253147-5253547|HBG2</td><td>1.3232571</td></tr>\n",
       "</tbody>\n",
       "</table>\n"
      ],
      "text/latex": [
       "A tibble: 6 × 8\n",
       "\\begin{tabular}{llllllll}\n",
       " Chrom\\_Peak & Start\\_Peak & End\\_Peak & Chrom\\_TSS & Start\\_TSS & End\\_TSS & Name & Score\\\\\n",
       " <chr> & <dbl> & <dbl> & <chr> & <dbl> & <dbl> & <chr> & <dbl>\\\\\n",
       "\\hline\n",
       "\t chr11 & 5248947 & 5248948 & chr11 & 5249857 & 5249858 & chr11:5248847-5249047\\textbar{}HBG1 & 1.0686240\\\\\n",
       "\t chr11 & 5248947 & 5248948 & chr11 & 5254781 & 5254782 & chr11:5248847-5249047\\textbar{}HBG2 & 0.9357701\\\\\n",
       "\t chr11 & 5250347 & 5250348 & chr11 & 5249857 & 5249858 & chr11:5249847-5250847\\textbar{}HBG1 & 1.8908899\\\\\n",
       "\t chr11 & 5250347 & 5250348 & chr11 & 5254781 & 5254782 & chr11:5249847-5250847\\textbar{}HBG2 & 1.9229558\\\\\n",
       "\t chr11 & 5253347 & 5253348 & chr11 & 5249857 & 5249858 & chr11:5253147-5253547\\textbar{}HBG1 & 1.3303423\\\\\n",
       "\t chr11 & 5253347 & 5253348 & chr11 & 5254781 & 5254782 & chr11:5253147-5253547\\textbar{}HBG2 & 1.3232571\\\\\n",
       "\\end{tabular}\n"
      ],
      "text/markdown": [
       "\n",
       "A tibble: 6 × 8\n",
       "\n",
       "| Chrom_Peak &lt;chr&gt; | Start_Peak &lt;dbl&gt; | End_Peak &lt;dbl&gt; | Chrom_TSS &lt;chr&gt; | Start_TSS &lt;dbl&gt; | End_TSS &lt;dbl&gt; | Name &lt;chr&gt; | Score &lt;dbl&gt; |\n",
       "|---|---|---|---|---|---|---|---|\n",
       "| chr11 | 5248947 | 5248948 | chr11 | 5249857 | 5249858 | chr11:5248847-5249047|HBG1 | 1.0686240 |\n",
       "| chr11 | 5248947 | 5248948 | chr11 | 5254781 | 5254782 | chr11:5248847-5249047|HBG2 | 0.9357701 |\n",
       "| chr11 | 5250347 | 5250348 | chr11 | 5249857 | 5249858 | chr11:5249847-5250847|HBG1 | 1.8908899 |\n",
       "| chr11 | 5250347 | 5250348 | chr11 | 5254781 | 5254782 | chr11:5249847-5250847|HBG2 | 1.9229558 |\n",
       "| chr11 | 5253347 | 5253348 | chr11 | 5249857 | 5249858 | chr11:5253147-5253547|HBG1 | 1.3303423 |\n",
       "| chr11 | 5253347 | 5253348 | chr11 | 5254781 | 5254782 | chr11:5253147-5253547|HBG2 | 1.3232571 |\n",
       "\n"
      ],
      "text/plain": [
       "  Chrom_Peak Start_Peak End_Peak Chrom_TSS Start_TSS End_TSS\n",
       "1 chr11      5248947    5248948  chr11     5249857   5249858\n",
       "2 chr11      5248947    5248948  chr11     5254781   5254782\n",
       "3 chr11      5250347    5250348  chr11     5249857   5249858\n",
       "4 chr11      5250347    5250348  chr11     5254781   5254782\n",
       "5 chr11      5253347    5253348  chr11     5249857   5249858\n",
       "6 chr11      5253347    5253348  chr11     5254781   5254782\n",
       "  Name                       Score    \n",
       "1 chr11:5248847-5249047|HBG1 1.0686240\n",
       "2 chr11:5248847-5249047|HBG2 0.9357701\n",
       "3 chr11:5249847-5250847|HBG1 1.8908899\n",
       "4 chr11:5249847-5250847|HBG2 1.9229558\n",
       "5 chr11:5253147-5253547|HBG1 1.3303423\n",
       "6 chr11:5253147-5253547|HBG2 1.3232571"
      ]
     },
     "metadata": {},
     "output_type": "display_data"
    }
   ],
   "source": [
    "dat = dat_region_pair\n",
    "dat = dat %>%\n",
    "    dplyr::mutate(Start_Peak = (Start_Peak + End_Peak) %/% 2) %>%\n",
    "    dplyr::mutate(  End_Peak = Start_Peak + 1) #%>%\n",
    "    #dplyr::mutate(      Name = str_replace_all(Name, pattern = \":|-|\\\\|\", replacement = \"_\"))\n",
    "\n",
    "dat_loc_pair = dat\n",
    "print(dim(dat))\n",
    "head(dat)"
   ]
  },
  {
   "cell_type": "code",
   "execution_count": 15,
   "id": "e1a4e311-5a7b-48c9-aef0-f2424e89fbc2",
   "metadata": {},
   "outputs": [
    {
     "name": "stdout",
     "output_type": "stream",
     "text": [
      "[1] 95  8\n"
     ]
    },
    {
     "data": {
      "text/html": [
       "<table class=\"dataframe\">\n",
       "<caption>A tibble: 6 × 8</caption>\n",
       "<thead>\n",
       "\t<tr><th scope=col>Chrom_Peak</th><th scope=col>Start_Peak</th><th scope=col>End_Peak</th><th scope=col>Chrom_TSS</th><th scope=col>Start_TSS</th><th scope=col>End_TSS</th><th scope=col>Name</th><th scope=col>Score</th></tr>\n",
       "\t<tr><th scope=col>&lt;chr&gt;</th><th scope=col>&lt;dbl&gt;</th><th scope=col>&lt;dbl&gt;</th><th scope=col>&lt;chr&gt;</th><th scope=col>&lt;dbl&gt;</th><th scope=col>&lt;dbl&gt;</th><th scope=col>&lt;chr&gt;</th><th scope=col>&lt;dbl&gt;</th></tr>\n",
       "</thead>\n",
       "<tbody>\n",
       "\t<tr><td>chr11</td><td>5248947</td><td>5248948</td><td>chr11</td><td>5254781</td><td>5254782</td><td>chr11:5248847-5249047|HBG2</td><td>0.9357701</td></tr>\n",
       "\t<tr><td>chr11</td><td>5250347</td><td>5250348</td><td>chr11</td><td>5254781</td><td>5254782</td><td>chr11:5249847-5250847|HBG2</td><td>1.9229558</td></tr>\n",
       "\t<tr><td>chr11</td><td>5253347</td><td>5253348</td><td>chr11</td><td>5249857</td><td>5249858</td><td>chr11:5253147-5253547|HBG1</td><td>1.3303423</td></tr>\n",
       "\t<tr><td>chr11</td><td>5253347</td><td>5253348</td><td>chr11</td><td>5254781</td><td>5254782</td><td>chr11:5253147-5253547|HBG2</td><td>1.3232571</td></tr>\n",
       "\t<tr><td>chr11</td><td>5254147</td><td>5254148</td><td>chr11</td><td>5249857</td><td>5249858</td><td>chr11:5253647-5254647|HBG1</td><td>1.5044044</td></tr>\n",
       "\t<tr><td>chr11</td><td>5275747</td><td>5275748</td><td>chr11</td><td>5269945</td><td>5269946</td><td>chr11:5275247-5276247|HBE1</td><td>0.9203765</td></tr>\n",
       "</tbody>\n",
       "</table>\n"
      ],
      "text/latex": [
       "A tibble: 6 × 8\n",
       "\\begin{tabular}{llllllll}\n",
       " Chrom\\_Peak & Start\\_Peak & End\\_Peak & Chrom\\_TSS & Start\\_TSS & End\\_TSS & Name & Score\\\\\n",
       " <chr> & <dbl> & <dbl> & <chr> & <dbl> & <dbl> & <chr> & <dbl>\\\\\n",
       "\\hline\n",
       "\t chr11 & 5248947 & 5248948 & chr11 & 5254781 & 5254782 & chr11:5248847-5249047\\textbar{}HBG2 & 0.9357701\\\\\n",
       "\t chr11 & 5250347 & 5250348 & chr11 & 5254781 & 5254782 & chr11:5249847-5250847\\textbar{}HBG2 & 1.9229558\\\\\n",
       "\t chr11 & 5253347 & 5253348 & chr11 & 5249857 & 5249858 & chr11:5253147-5253547\\textbar{}HBG1 & 1.3303423\\\\\n",
       "\t chr11 & 5253347 & 5253348 & chr11 & 5254781 & 5254782 & chr11:5253147-5253547\\textbar{}HBG2 & 1.3232571\\\\\n",
       "\t chr11 & 5254147 & 5254148 & chr11 & 5249857 & 5249858 & chr11:5253647-5254647\\textbar{}HBG1 & 1.5044044\\\\\n",
       "\t chr11 & 5275747 & 5275748 & chr11 & 5269945 & 5269946 & chr11:5275247-5276247\\textbar{}HBE1 & 0.9203765\\\\\n",
       "\\end{tabular}\n"
      ],
      "text/markdown": [
       "\n",
       "A tibble: 6 × 8\n",
       "\n",
       "| Chrom_Peak &lt;chr&gt; | Start_Peak &lt;dbl&gt; | End_Peak &lt;dbl&gt; | Chrom_TSS &lt;chr&gt; | Start_TSS &lt;dbl&gt; | End_TSS &lt;dbl&gt; | Name &lt;chr&gt; | Score &lt;dbl&gt; |\n",
       "|---|---|---|---|---|---|---|---|\n",
       "| chr11 | 5248947 | 5248948 | chr11 | 5254781 | 5254782 | chr11:5248847-5249047|HBG2 | 0.9357701 |\n",
       "| chr11 | 5250347 | 5250348 | chr11 | 5254781 | 5254782 | chr11:5249847-5250847|HBG2 | 1.9229558 |\n",
       "| chr11 | 5253347 | 5253348 | chr11 | 5249857 | 5249858 | chr11:5253147-5253547|HBG1 | 1.3303423 |\n",
       "| chr11 | 5253347 | 5253348 | chr11 | 5254781 | 5254782 | chr11:5253147-5253547|HBG2 | 1.3232571 |\n",
       "| chr11 | 5254147 | 5254148 | chr11 | 5249857 | 5249858 | chr11:5253647-5254647|HBG1 | 1.5044044 |\n",
       "| chr11 | 5275747 | 5275748 | chr11 | 5269945 | 5269946 | chr11:5275247-5276247|HBE1 | 0.9203765 |\n",
       "\n"
      ],
      "text/plain": [
       "  Chrom_Peak Start_Peak End_Peak Chrom_TSS Start_TSS End_TSS\n",
       "1 chr11      5248947    5248948  chr11     5254781   5254782\n",
       "2 chr11      5250347    5250348  chr11     5254781   5254782\n",
       "3 chr11      5253347    5253348  chr11     5249857   5249858\n",
       "4 chr11      5253347    5253348  chr11     5254781   5254782\n",
       "5 chr11      5254147    5254148  chr11     5249857   5249858\n",
       "6 chr11      5275747    5275748  chr11     5269945   5269946\n",
       "  Name                       Score    \n",
       "1 chr11:5248847-5249047|HBG2 0.9357701\n",
       "2 chr11:5249847-5250847|HBG2 1.9229558\n",
       "3 chr11:5253147-5253547|HBG1 1.3303423\n",
       "4 chr11:5253147-5253547|HBG2 1.3232571\n",
       "5 chr11:5253647-5254647|HBG1 1.5044044\n",
       "6 chr11:5275247-5276247|HBE1 0.9203765"
      ]
     },
     "metadata": {},
     "output_type": "display_data"
    }
   ],
   "source": [
    "dat = dat_loc_pair\n",
    "dat = dat %>%\n",
    "    dplyr::mutate(Length = Start_Peak - Start_TSS) %>%\n",
    "    dplyr::filter(abs(Length) >= 1000) %>%\n",
    "    dplyr::select(-Length)\n",
    "    \n",
    "dat_loc_pair_filter = dat\n",
    "print(dim(dat))\n",
    "head(dat)"
   ]
  },
  {
   "cell_type": "markdown",
   "id": "5c4ce48e-cbae-4929-aeb4-087ef879fa13",
   "metadata": {},
   "source": [
    "## Store results"
   ]
  },
  {
   "cell_type": "code",
   "execution_count": 16,
   "id": "59e517b2-8e33-4bfb-a0ba-72593acf6d5b",
   "metadata": {},
   "outputs": [],
   "source": [
    "fdiry = file.path(FD_RES, \"results\", \"hic_intact_K562_deep\", \"coverage_aggregate\")\n",
    "fname = \"region_pair.TSS.crispri_hcrff.bedpe\"\n",
    "fpath = file.path(fdiry, fname)\n",
    "\n",
    "dat = dat_region_pair\n",
    "colnames(dat)[1] = paste0(\"#\", colnames(dat)[1])\n",
    "\n",
    "write_tsv(dat, fpath)"
   ]
  },
  {
   "cell_type": "code",
   "execution_count": 17,
   "id": "b132213f-aa2e-476e-8f84-0811fed20d5a",
   "metadata": {},
   "outputs": [],
   "source": [
    "fdiry = file.path(FD_RES, \"results\", \"hic_intact_K562_deep\", \"coverage_aggregate\")\n",
    "fname = \"location_pair.TSS.crispri_hcrff.bedpe\"\n",
    "fpath = file.path(fdiry, fname)\n",
    "\n",
    "dat = dat_loc_pair\n",
    "colnames(dat)[1] = paste0(\"#\", colnames(dat)[1])\n",
    "\n",
    "write_tsv(dat, fpath)"
   ]
  },
  {
   "cell_type": "code",
   "execution_count": 21,
   "id": "38c0287f-6096-4fc0-9a93-911089bff6b6",
   "metadata": {},
   "outputs": [],
   "source": [
    "fdiry = file.path(FD_RES, \"results\", \"hic_intact_K562_deep\", \"coverage_aggregate\")\n",
    "fname = \"location_pair.TSS.crispri_hcrff.filter1kb.bedpe\"\n",
    "fpath = file.path(fdiry, fname)\n",
    "\n",
    "dat = dat_loc_pair_filter\n",
    "colnames(dat)[1] = paste0(\"#\", colnames(dat)[1])\n",
    "\n",
    "write_tsv(dat, fpath)"
   ]
  },
  {
   "cell_type": "code",
   "execution_count": 19,
   "id": "b91f0afd-94c2-4a3a-b111-c5536dc3e630",
   "metadata": {},
   "outputs": [
    {
     "name": "stdout",
     "output_type": "stream",
     "text": [
      "location_pair.TSS.crispri_hcrff.chr11.bedpe \n",
      "location_pair.TSS.crispri_hcrff.chr12.bedpe \n",
      "location_pair.TSS.crispri_hcrff.chr4.bedpe \n",
      "location_pair.TSS.crispri_hcrff.chr5.bedpe \n",
      "location_pair.TSS.crispri_hcrff.chr6.bedpe \n",
      "location_pair.TSS.crispri_hcrff.chr8.bedpe \n",
      "location_pair.TSS.crispri_hcrff.chrX.bedpe \n"
     ]
    }
   ],
   "source": [
    "dat = dat_loc_pair\n",
    "lst = split(dat, dat$Chrom_Peak)\n",
    "\n",
    "fdiry = file.path(FD_RES, \"results\", \"hic_intact_K562_deep\", \"coverage_aggregate\")\n",
    "for (idx in names(lst)) {\n",
    "    ###\n",
    "    fname = paste(\"location_pair.TSS.crispri_hcrff\", idx, \"bedpe\", sep=\".\")\n",
    "    fpath = file.path(fdiry, fname)\n",
    "    cat(fname, \"\\n\")\n",
    "\n",
    "    ###\n",
    "    dat = lst[[idx]]\n",
    "    colnames(dat)[1] = paste0(\"#\", colnames(dat)[1])\n",
    "\n",
    "    write_tsv(dat, fpath)\n",
    "}"
   ]
  },
  {
   "cell_type": "code",
   "execution_count": 22,
   "id": "abfafaf2-3582-4d0e-8dc1-277c7633c585",
   "metadata": {},
   "outputs": [
    {
     "name": "stdout",
     "output_type": "stream",
     "text": [
      "location_pair.TSS.crispri_hcrff.filter1kb.chr11.bedpe \n",
      "location_pair.TSS.crispri_hcrff.filter1kb.chr12.bedpe \n",
      "location_pair.TSS.crispri_hcrff.filter1kb.chr4.bedpe \n",
      "location_pair.TSS.crispri_hcrff.filter1kb.chr5.bedpe \n",
      "location_pair.TSS.crispri_hcrff.filter1kb.chr6.bedpe \n",
      "location_pair.TSS.crispri_hcrff.filter1kb.chr8.bedpe \n",
      "location_pair.TSS.crispri_hcrff.filter1kb.chrX.bedpe \n"
     ]
    }
   ],
   "source": [
    "dat = dat_loc_pair_filter\n",
    "lst = split(dat, dat$Chrom_Peak)\n",
    "\n",
    "fdiry = file.path(FD_RES, \"results\", \"hic_intact_K562_deep\", \"coverage_aggregate\")\n",
    "for (idx in names(lst)) {\n",
    "    ###\n",
    "    fname = paste(\"location_pair.TSS.crispri_hcrff.filter1kb\", idx, \"bedpe\", sep=\".\")\n",
    "    fpath = file.path(fdiry, fname)\n",
    "    cat(fname, \"\\n\")\n",
    "\n",
    "    ###\n",
    "    dat = lst[[idx]]\n",
    "    colnames(dat)[1] = paste0(\"#\", colnames(dat)[1])\n",
    "\n",
    "    write_tsv(dat, fpath)\n",
    "}"
   ]
  },
  {
   "cell_type": "code",
   "execution_count": null,
   "id": "2bbb1f2e-1751-4906-955a-a2a915cdab45",
   "metadata": {},
   "outputs": [],
   "source": []
  },
  {
   "cell_type": "code",
   "execution_count": null,
   "id": "4631a81c-5f9a-447e-b387-eeb47070ec45",
   "metadata": {},
   "outputs": [],
   "source": []
  }
 ],
 "metadata": {
  "kernelspec": {
   "display_name": "R",
   "language": "R",
   "name": "ir"
  },
  "language_info": {
   "codemirror_mode": "r",
   "file_extension": ".r",
   "mimetype": "text/x-r-source",
   "name": "R",
   "pygments_lexer": "r",
   "version": "4.3.1"
  }
 },
 "nbformat": 4,
 "nbformat_minor": 5
}
