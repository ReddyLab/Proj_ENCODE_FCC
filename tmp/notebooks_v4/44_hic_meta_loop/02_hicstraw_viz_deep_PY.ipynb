{
 "cells": [
  {
   "cell_type": "markdown",
   "id": "86f90bfb-6a62-4057-84b3-42a79adb8f3f",
   "metadata": {},
   "source": [
    "Analyzing Hi-C Data with Straw - Colaboratory\n",
    "https://colab.research.google.com/drive/1-GG-n-p9nZ7Be82UVJG7n3Q_wQ9IeuFN?usp=sharing"
   ]
  },
  {
   "cell_type": "code",
   "execution_count": 9,
   "id": "26d5a3b0-9666-4fba-a1d7-86f5970b13d4",
   "metadata": {},
   "outputs": [
    {
     "data": {
      "text/plain": [
       "array([], dtype=float64)"
      ]
     },
     "execution_count": 9,
     "metadata": {},
     "output_type": "execute_result"
    }
   ],
   "source": [
    "np.array([])"
   ]
  },
  {
   "cell_type": "code",
   "execution_count": 1,
   "id": "c2becc4c-ca00-461d-8525-32878f54384e",
   "metadata": {},
   "outputs": [
    {
     "name": "stdout",
     "output_type": "stream",
     "text": [
      "You are in Singularity: singularity_proj_encode_fcc\n",
      "BASE DIRECTORY (FD_BASE): /data/reddylab/Kuei\n",
      "WORK DIRECTORY (FD_WORK): /data/reddylab/Kuei/out\n",
      "CODE DIRECTORY (FD_CODE): /data/reddylab/Kuei/code\n",
      "PATH OF PROJECT (FD_PRJ): /data/reddylab/Kuei/code/Proj_CombEffect_ENCODE_FCC\n",
      "PATH OF RESULTS (FD_RES): /data/reddylab/Kuei/out/proj_combeffect_encode_fcc\n",
      "PATH OF LOG     (FD_LOG): /data/reddylab/Kuei/out/proj_combeffect_encode_fcc/log\n",
      "\n"
     ]
    }
   ],
   "source": [
    "import numpy as np\n",
    "import itertools as it\n",
    "import os, sys\n",
    "import gzip\n",
    "import re\n",
    "\n",
    "import hicstraw\n",
    "from matplotlib.colors import LinearSegmentedColormap\n",
    "from matplotlib import pyplot as plt\n",
    "from matplotlib import gridspec\n",
    "import matplotlib.pyplot as plt \n",
    "import seaborn as sns\n",
    "\n",
    "sys.path.append('..')\n",
    "from config.config_sing import *\n",
    "show_env()"
   ]
  },
  {
   "cell_type": "code",
   "execution_count": 2,
   "id": "ccc97bad-173e-4d92-ad53-29cdbf951e45",
   "metadata": {},
   "outputs": [
    {
     "name": "stdout",
     "output_type": "stream",
     "text": [
      "log\n",
      "Readme.md\n",
      "results\n",
      "results_v1.tar.gz\n",
      "results_v2.tar.gz\n",
      "results_v3\n",
      "source\n"
     ]
    }
   ],
   "source": [
    "%%bash\n",
    "ls /data/reddylab/Kuei/out/proj_combeffect_encode_fcc"
   ]
  },
  {
   "cell_type": "code",
   "execution_count": 3,
   "id": "d2403f6b-bd7b-4fc4-b089-5fd8e561704d",
   "metadata": {},
   "outputs": [
    {
     "name": "stdout",
     "output_type": "stream",
     "text": [
      "inter.hic\n",
      "localizedList_primary_10.bedpe\n"
     ]
    }
   ],
   "source": [
    "%%bash\n",
    "ls /data/reddylab/Kuei/out/proj_combeffect_encode_fcc/source/hic_intact_K562_deep"
   ]
  },
  {
   "cell_type": "code",
   "execution_count": 4,
   "id": "d2ec6b80-6305-42a0-8a51-6c2284bffbc0",
   "metadata": {},
   "outputs": [
    {
     "name": "stdout",
     "output_type": "stream",
     "text": [
      "<hicstraw.HiCFile object at 0x7f4a34701630>\n",
      "hg38\n",
      "[2500000, 1000000, 500000, 250000, 100000, 50000, 25000, 10000, 5000, 2000, 1000, 500, 200, 100, 50, 20, 10, 1]\n"
     ]
    }
   ],
   "source": [
    "fdiry = os.path.join(FD_RES, \"source\", \"hic_intact_K562_deep\")\n",
    "fname = \"inter.hic\"\n",
    "fpath = os.path.join(fdiry, fname)\n",
    "hic   = hicstraw.HiCFile(fpath)\n",
    "\n",
    "print(hic)\n",
    "print(hic.getGenomeID())\n",
    "print(hic.getResolutions())"
   ]
  },
  {
   "cell_type": "code",
   "execution_count": null,
   "id": "09d740b7-53c8-48a9-85df-91febb004d20",
   "metadata": {},
   "outputs": [],
   "source": []
  },
  {
   "cell_type": "code",
   "execution_count": 6,
   "id": "7479eaae-5a0e-4dc2-95cb-73ba327b0319",
   "metadata": {},
   "outputs": [],
   "source": [
    "txt_normalization = \"RU\"\n",
    "val_resolution    = 100\n",
    "txt_chrom         = \"chr8\"\n",
    "\n",
    "matrix_object = hic.getMatrixZoomData(\n",
    "    txt_chrom, \n",
    "    txt_chrom, \n",
    "    \"oe\", \n",
    "    txt_normalization, \n",
    "    \"BP\", \n",
    "    val_resolution)"
   ]
  },
  {
   "cell_type": "code",
   "execution_count": 13,
   "id": "fdcaff34-da4b-45d8-a58d-50d2d1f0eb0c",
   "metadata": {},
   "outputs": [],
   "source": [
    "#chr8\t127736230\t127736231\n",
    "num_start1 =  127736230 - 10000\n",
    "num_end1   =  127736230 + 10000\n",
    "\n",
    "num_start2 =  127793817 - 10000\t\n",
    "num_end2   =  127795585 + 10000\n",
    "\n",
    "matrix_numpy = matrix_object.getRecordsAsMatrix(\n",
    "    int(num_start1),\n",
    "    int(num_end1),\n",
    "    int(num_start2),\n",
    "    int(num_end2)\n",
    ")"
   ]
  },
  {
   "cell_type": "code",
   "execution_count": 11,
   "id": "70543358-6d49-443b-8fb1-c7ce679edeca",
   "metadata": {},
   "outputs": [
    {
     "data": {
      "image/png": "[encoded data removed]",
      "text/plain": [
       "<Figure size 520.597x480 with 1 Axes>"
      ]
     },
     "metadata": {},
     "output_type": "display_data"
    }
   ],
   "source": [
    "REDMAP = LinearSegmentedColormap.from_list(\"bright_red\", [(1,1,1),(1,0,0)])\n",
    "# helper function for plotting\n",
    "def plot_hic_map(dense_matrix, maxcolor):\n",
    "    plt.matshow(dense_matrix, cmap=REDMAP, vmin=0, vmax=maxcolor)\n",
    "    plt.show()\n",
    "\n",
    "plot_hic_map(matrix_numpy, 5)"
   ]
  },
  {
   "cell_type": "code",
   "execution_count": null,
   "id": "a2c91dc6-6994-4a0a-99ad-b70690eb2c19",
   "metadata": {},
   "outputs": [],
   "source": []
  }
 ],
 "metadata": {
  "kernelspec": {
   "display_name": "Python 3 (ipykernel)",
   "language": "python",
   "name": "python3"
  },
  "language_info": {
   "codemirror_mode": {
    "name": "ipython",
    "version": 3
   },
   "file_extension": ".py",
   "mimetype": "text/x-python",
   "name": "python",
   "nbconvert_exporter": "python",
   "pygments_lexer": "ipython3",
   "version": "3.7.4"
  }
 },
 "nbformat": 4,
 "nbformat_minor": 5
}
