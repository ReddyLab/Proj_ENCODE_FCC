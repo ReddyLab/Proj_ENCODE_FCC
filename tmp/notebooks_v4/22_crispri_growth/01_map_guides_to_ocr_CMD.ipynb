{
 "cells": [
  {
   "cell_type": "markdown",
   "id": "07d89722-34a6-4c6e-8a0c-373c5832dde4",
   "metadata": {},
   "source": [
    "# Map the guides of CRISPRi-growth screen to the open chromatin regions identified in ATAC seq"
   ]
  },
  {
   "cell_type": "code",
   "execution_count": 1,
   "id": "acfb205a-8fc5-4f50-94e8-0fe4ff47f7be",
   "metadata": {},
   "outputs": [
    {
     "name": "stdout",
     "output_type": "stream",
     "text": [
      "You are on Duke Server: HARDAC\n",
      "BASE DIRECTORY (FD_BASE): /data/reddylab/Kuei\n",
      "WORK DIRECTORY (FD_WORK): /data/reddylab/Kuei/out\n",
      "CODE DIRECTORY (FD_CODE): /data/reddylab/Kuei/code\n",
      "SING DIRECTORY (FD_SING): /data/reddylab/Kuei/singularity\n",
      "PATH OF PROJECT (FD_PRJ): /data/reddylab/Kuei/code/Proj_CombEffect_ENCODE_FCC\n",
      "PATH OF RESULTS (FD_RES): /data/reddylab/Kuei/out/proj_combeffect_encode_fcc\n",
      "PATH OF LOG     (FD_LOG): /data/reddylab/Kuei/out/proj_combeffect_encode_fcc/log\n",
      "\n"
     ]
    }
   ],
   "source": [
    "### set env\n",
    "source ../config/config_duke.sh\n",
    "source ../config/config_load_module_bedtools.sh\n",
    "show_env"
   ]
  },
  {
   "cell_type": "code",
   "execution_count": 30,
   "id": "05afdad4-0e71-4990-ba10-14d2d9f0d2c5",
   "metadata": {},
   "outputs": [],
   "source": [
    "cat > run_annot_test.sh << 'EOF'\n",
    "#!/bin/bash\n",
    "\n",
    "### print start message\n",
    "timer_start=`date +%s`\n",
    "echo \"Hostname:          \" $(hostname)\n",
    "echo \"Slurm Array Index: \" ${SLURM_ARRAY_TASK_ID}\n",
    "echo \"Time Stamp:        \" $(date +\"%m-%d-%y+%T\")\n",
    "echo\n",
    "\n",
    "### setup input and output\n",
    "source ../config/config_duke.sh\n",
    "FP_REG=$1\n",
    "FP_ANT=$2\n",
    "FP_OUT=$3\n",
    "\n",
    "### show I/O file\n",
    "echo \"Input: \" ${FP_REG}\n",
    "echo\n",
    "echo \"show first few lines of input\"\n",
    "zcat ${FP_REG} | head -5\n",
    "echo\n",
    "echo \"Input: \" ${FP_ANT}\n",
    "echo\n",
    "echo \"show first few lines of input\"\n",
    "zcat ${FP_ANT} | head -5\n",
    "echo\n",
    "\n",
    "### show output file\n",
    "echo\n",
    "echo \"Output: \" ${FP_OUT}\n",
    "echo\n",
    "echo \"show first few lines of output:\"\n",
    "zcat ${FP_OUT} | head -5\n",
    "echo\n",
    "\n",
    "### print end message\n",
    "timer=`date +%s`\n",
    "runtime=$(echo \"${timer} - ${timer_start}\" | bc -l)\n",
    "echo\n",
    "echo 'Done!'\n",
    "echo \"Run Time: $(displaytime ${runtime})\"\n",
    "\n",
    "EOF\n",
    "\n",
    "chmod +x run_annot_test.sh"
   ]
  },
  {
   "cell_type": "code",
   "execution_count": 31,
   "id": "91d531ec-4b38-4bb8-8c46-7c125d9ac89f",
   "metadata": {},
   "outputs": [],
   "source": [
    "cat > run_annot.sh << 'EOF'\n",
    "#!/bin/bash\n",
    "\n",
    "### print start message\n",
    "timer_start=`date +%s`\n",
    "echo \"Hostname:          \" $(hostname)\n",
    "echo \"Slurm Array Index: \" ${SLURM_ARRAY_TASK_ID}\n",
    "echo \"Time Stamp:        \" $(date +\"%m-%d-%y+%T\")\n",
    "echo\n",
    "\n",
    "### setup input and output\n",
    "source ../config/config_duke.sh\n",
    "FP_REG=$1\n",
    "FP_ANT=$2\n",
    "FP_OUT=$3\n",
    "\n",
    "### show I/O file\n",
    "echo \"Input: \" ${FP_REG}\n",
    "echo\n",
    "echo \"show first few lines of input\"\n",
    "zcat ${FP_REG} | head -5\n",
    "echo\n",
    "echo \"Input: \" ${FP_ANT}\n",
    "echo\n",
    "echo \"show first few lines of input\"\n",
    "zcat ${FP_ANT} | head -\n",
    "echo\n",
    "\n",
    "### execute: annotation using intersect\n",
    "bedtools intersect \\\n",
    "    -a ${FP_REG} \\\n",
    "    -b ${FP_ANT} \\\n",
    "    -wo \\\n",
    "| gzip -c \\\n",
    "> ${FP_OUT}\n",
    "\n",
    "### show output file\n",
    "echo\n",
    "echo \"Output: \" ${FP_OUT}\n",
    "echo\n",
    "echo \"show first few lines of output:\"\n",
    "zcat ${FP_OUT} | head -5\n",
    "echo\n",
    "\n",
    "### print end message\n",
    "timer=`date +%s`\n",
    "runtime=$(echo \"${timer} - ${timer_start}\" | bc -l)\n",
    "echo\n",
    "echo 'Done!'\n",
    "echo \"Run Time: $(displaytime ${runtime})\"\n",
    "\n",
    "EOF\n",
    "\n",
    "chmod +x run_annot.sh"
   ]
  },
  {
   "cell_type": "code",
   "execution_count": 24,
   "id": "073ce962-921c-4d7e-a7e3-22b88a19fedb",
   "metadata": {},
   "outputs": [
    {
     "name": "stdout",
     "output_type": "stream",
     "text": [
      "KS91_K562_hg38_ASTARRseq_Input.all_reps.masked.union_narrowPeak.q5.bed\n",
      "KS91_K562_hg38_ASTARRseq_Input.all_reps.masked.union_narrowPeak.q5.bed.gz\n"
     ]
    }
   ],
   "source": [
    "FDIRY=${FD_RES}/results/region/KS91_K562_ASTARRseq_peak_macs_input\n",
    "ls -1 ${FDIRY}/KS91_K562_hg38_ASTARRseq_Input* | xargs -n 1 basename"
   ]
  },
  {
   "cell_type": "code",
   "execution_count": 25,
   "id": "cf2ffc44-abdb-4e82-afb9-b1a5503aa59f",
   "metadata": {},
   "outputs": [
    {
     "name": "stdout",
     "output_type": "stream",
     "text": [
      "\u001b[0m\u001b[38;5;27mcoverage\u001b[0m\n",
      "\u001b[38;5;27mcoverage_astarrseq_peak_macs_input\u001b[0m\n"
     ]
    }
   ],
   "source": [
    "FDIRY=${FD_RES}/results/CRISPRi_Growth_K562_Gersbach\n",
    "ls -1 ${FDIRY}"
   ]
  },
  {
   "cell_type": "code",
   "execution_count": 26,
   "id": "863b8a53-c90d-4d17-9a4e-dffaa5c270af",
   "metadata": {},
   "outputs": [
    {
     "name": "stdout",
     "output_type": "stream",
     "text": [
      "CRISPRi_rAVG_log2FC_2.bed\n",
      "\u001b[0m\u001b[38;5;9mCRISPRi_rAVG_log2FC_2.bed.gz\u001b[0m\n",
      "CRISPRi_rAVG_log2FC_2.wig\n"
     ]
    }
   ],
   "source": [
    "FDIRY=${FD_RES}/results/CRISPRi_Growth_K562_Gersbach/coverage\n",
    "ls -1 ${FDIRY}"
   ]
  },
  {
   "cell_type": "code",
   "execution_count": 27,
   "id": "cbe844d9-cbeb-43ec-8ca1-7d44387738cb",
   "metadata": {},
   "outputs": [
    {
     "name": "stdout",
     "output_type": "stream",
     "text": [
      "chr1\t605580\t605581\tid-1\t-0.180660\n",
      "chr1\t605581\t605582\tid-2\t0.486646\n",
      "chr1\t605589\t605590\tid-3\t3.171240\n",
      "chr1\t605591\t605592\tid-4\t-0.364573\n",
      "chr1\t605592\t605593\tid-5\t-0.206319\n",
      "chr1\t605609\t605610\tid-6\t-0.266750\n",
      "chr1\t605617\t605618\tid-7\t-0.774100\n",
      "chr1\t605618\t605619\tid-8\t-0.353224\n",
      "chr1\t605619\t605620\tid-9\t-0.187707\n",
      "chr1\t605620\t605621\tid-10\t-0.420401\n",
      "\n",
      "chr1\t605580\t605581\tid-1\t-0.180660\n",
      "chr1\t605581\t605582\tid-2\t0.486646\n",
      "chr1\t605589\t605590\tid-3\t3.171240\n",
      "chr1\t605591\t605592\tid-4\t-0.364573\n",
      "chr1\t605592\t605593\tid-5\t-0.206319\n",
      "chr1\t605609\t605610\tid-6\t-0.266750\n",
      "chr1\t605617\t605618\tid-7\t-0.774100\n",
      "chr1\t605618\t605619\tid-8\t-0.353224\n",
      "chr1\t605619\t605620\tid-9\t-0.187707\n",
      "chr1\t605620\t605621\tid-10\t-0.420401\n"
     ]
    }
   ],
   "source": [
    "FDIRY=${FD_RES}/results/CRISPRi_Growth_K562_Gersbach/coverage\n",
    "head ${FDIRY}/CRISPRi_rAVG_log2FC_2.bed\n",
    "echo\n",
    "zcat ${FDIRY}/CRISPRi_rAVG_log2FC_2.bed.gz | head"
   ]
  },
  {
   "cell_type": "code",
   "execution_count": 34,
   "id": "2110aa9a-ff4d-45db-bc28-2edd69fba01e",
   "metadata": {},
   "outputs": [
    {
     "name": "stdout",
     "output_type": "stream",
     "text": [
      "Submitted batch job 29917218\n"
     ]
    }
   ],
   "source": [
    "FD_REG=${FD_RES}/results/region/KS91_K562_ASTARRseq_peak_macs_input\n",
    "FN_REG=KS91_K562_hg38_ASTARRseq_Input.all_reps.masked.union_narrowPeak.q5.bed.gz\n",
    "FP_REG=${FD_REG}/${FN_REG}\n",
    "\n",
    "FD_ANT=${FD_RES}/results/CRISPRi_Growth_K562_Gersbach/coverage\n",
    "FN_ANT=CRISPRi_rAVG_log2FC_2.bed.gz\n",
    "FP_ANT=${FD_ANT}/${FN_ANT}\n",
    "\n",
    "FD_OUT=${FD_RES}/results/CRISPRi_Growth_K562_Gersbach/coverage_astarrseq_peak_macs_input\n",
    "FN_OUT=CRISPRi_rAVG_log2FC_2.bed.gz\n",
    "FP_OUT=${FD_OUT}/${FN_OUT}\n",
    "\n",
    "FN_LOG=\"coverage_KS91_K562_ASTARRseq_peak_macs_input_crispri_growth.txt\"\n",
    "\n",
    "sbatch -p ${NODE} \\\n",
    "    --exclude=dl-01 \\\n",
    "    --cpus-per-task 8 \\\n",
    "    --mem 4G \\\n",
    "    --output ${FD_LOG}/${FN_LOG} \\\n",
    "    ./run_annot.sh ${FP_REG} ${FP_ANT} ${FP_OUT}"
   ]
  },
  {
   "cell_type": "code",
   "execution_count": 35,
   "id": "d58dd528-62ac-4493-b633-3cca23c1901d",
   "metadata": {},
   "outputs": [
    {
     "name": "stdout",
     "output_type": "stream",
     "text": [
      "Hostname:           x1-03-4.genome.duke.edu\n",
      "Slurm Array Index: \n",
      "Time Stamp:         06-02-23+11:36:23\n",
      "\n",
      "Input:  /data/reddylab/Kuei/out/proj_combeffect_encode_fcc/results/region/KS91_K562_ASTARRseq_peak_macs_input/KS91_K562_hg38_ASTARRseq_Input.all_reps.masked.union_narrowPeak.q5.bed.gz\n",
      "\n",
      "show first few lines of input\n",
      "chr1\t10015\t10442\n",
      "chr1\t14253\t14645\n",
      "chr1\t16015\t16477\n",
      "chr1\t17237\t17772\n",
      "chr1\t28903\t29613\n",
      "\n",
      "Input:  /data/reddylab/Kuei/out/proj_combeffect_encode_fcc/results/CRISPRi_Growth_K562_Gersbach/coverage/CRISPRi_rAVG_log2FC_2.bed.gz\n",
      "\n",
      "show first few lines of input\n",
      "chr1\t605580\t605581\tid-1\t-0.180660\n",
      "chr1\t605581\t605582\tid-2\t0.486646\n",
      "chr1\t605589\t605590\tid-3\t3.171240\n",
      "chr1\t605591\t605592\tid-4\t-0.364573\n",
      "chr1\t605592\t605593\tid-5\t-0.206319\n",
      "\n",
      "\n",
      "Output:  /data/reddylab/Kuei/out/proj_combeffect_encode_fcc/results/CRISPRi_Growth_K562_Gersbach/coverage_astarrseq_peak_macs_input/CRISPRi_rAVG_log2FC_2.bed.gz\n",
      "\n",
      "show first few lines of output:\n",
      "chr1\t605090\t605823\tchr1\t605580\t605581\tid-1\t-0.180660\t1\n",
      "chr1\t605090\t605823\tchr1\t605581\t605582\tid-2\t0.486646\t1\n",
      "chr1\t605090\t605823\tchr1\t605589\t605590\tid-3\t3.171240\t1\n",
      "chr1\t605090\t605823\tchr1\t605591\t605592\tid-4\t-0.364573\t1\n",
      "chr1\t605090\t605823\tchr1\t605592\t605593\tid-5\t-0.206319\t1\n",
      "\n",
      "\n",
      "Done!\n",
      "Run Time: 5 seconds\n"
     ]
    }
   ],
   "source": [
    "cat ${FD_LOG}/${FN_LOG}"
   ]
  },
  {
   "cell_type": "code",
   "execution_count": null,
   "id": "b1e32cc4-bfee-405b-8343-53dad324b774",
   "metadata": {},
   "outputs": [],
   "source": []
  }
 ],
 "metadata": {
  "kernelspec": {
   "display_name": "Bash",
   "language": "bash",
   "name": "bash"
  },
  "language_info": {
   "codemirror_mode": "shell",
   "file_extension": ".sh",
   "mimetype": "text/x-sh",
   "name": "bash"
  }
 },
 "nbformat": 4,
 "nbformat_minor": 5
}
