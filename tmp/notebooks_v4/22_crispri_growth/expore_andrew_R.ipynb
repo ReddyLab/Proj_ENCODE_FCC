{
 "cells": [
  {
   "cell_type": "code",
   "execution_count": 1,
   "metadata": {},
   "outputs": [
    {
     "name": "stdout",
     "output_type": "stream",
     "text": [
      "You are in Singularity: singularity_proj_encode_fcc \n",
      "BASE DIRECTORY (FD_BASE): /data/reddylab/Kuei \n",
      "WORK DIRECTORY (FD_WORK): /data/reddylab/Kuei/out \n",
      "CODE DIRECTORY (FD_CODE): /data/reddylab/Kuei/code \n",
      "PATH OF PROJECT (FD_PRJ): /data/reddylab/Kuei/code/Proj_CombEffect_ENCODE_FCC \n",
      "PATH OF RESULTS (FD_RES): /data/reddylab/Kuei/out/proj_combeffect_encode_fcc \n",
      "PATH OF LOG     (FD_LOG): /data/reddylab/Kuei/out/proj_combeffect_encode_fcc/log \n"
     ]
    }
   ],
   "source": [
    "suppressMessages(suppressWarnings(source(\"../config/config_sing.R\")))\n",
    "show_env()"
   ]
  },
  {
   "cell_type": "code",
   "execution_count": 2,
   "metadata": {},
   "outputs": [
    {
     "data": {
      "text/html": [
       "<style>\n",
       ".list-inline {list-style: none; margin:0; padding: 0}\n",
       ".list-inline>li {display: inline-block}\n",
       ".list-inline>li:not(:last-child)::after {content: \"\\00b7\"; padding: 0 .5ex}\n",
       "</style>\n",
       "<ol class=list-inline><li>'2023-04-26_DHS.Summary.forAndrew_README.txt'</li><li>'2023-04-26_DHS.Summary.forAndrew.csv'</li><li>'2023-04-26_DHS.Summary.forAndrew.fdr_0.1.hg38.txt'</li></ol>\n"
      ],
      "text/latex": [
       "\\begin{enumerate*}\n",
       "\\item '2023-04-26\\_DHS.Summary.forAndrew\\_README.txt'\n",
       "\\item '2023-04-26\\_DHS.Summary.forAndrew.csv'\n",
       "\\item '2023-04-26\\_DHS.Summary.forAndrew.fdr\\_0.1.hg38.txt'\n",
       "\\end{enumerate*}\n"
      ],
      "text/markdown": [
       "1. '2023-04-26_DHS.Summary.forAndrew_README.txt'\n",
       "2. '2023-04-26_DHS.Summary.forAndrew.csv'\n",
       "3. '2023-04-26_DHS.Summary.forAndrew.fdr_0.1.hg38.txt'\n",
       "\n",
       "\n"
      ],
      "text/plain": [
       "[1] \"2023-04-26_DHS.Summary.forAndrew_README.txt\"      \n",
       "[2] \"2023-04-26_DHS.Summary.forAndrew.csv\"             \n",
       "[3] \"2023-04-26_DHS.Summary.forAndrew.fdr_0.1.hg38.txt\""
      ]
     },
     "metadata": {},
     "output_type": "display_data"
    }
   ],
   "source": [
    "fdiry = \"/data/reddylab/Alex/collab/20181203_Tyler/data/2023_resubmission\"\n",
    "dir(fdiry)"
   ]
  },
  {
   "cell_type": "code",
   "execution_count": 3,
   "metadata": {},
   "outputs": [
    {
     "name": "stderr",
     "output_type": "stream",
     "text": [
      "\u001b[1m\u001b[22mNew names:\n",
      "\u001b[36m•\u001b[39m `` -> `...1`\n",
      "\u001b[1mRows: \u001b[22m\u001b[34m111619\u001b[39m \u001b[1mColumns: \u001b[22m\u001b[34m11\u001b[39m\n",
      "\u001b[36m──\u001b[39m \u001b[1mColumn specification\u001b[22m \u001b[36m─────────────────────────────────────────────────────────────────────\u001b[39m\n",
      "\u001b[1mDelimiter:\u001b[22m \",\"\n",
      "\u001b[31mchr\u001b[39m (3): DHS, chrom, NEG\n",
      "\u001b[32mdbl\u001b[39m (8): ...1, chromStart, chromEnd, distanceToTSS, Discovery_dhs_allen_v3_b...\n",
      "\n",
      "\u001b[36mℹ\u001b[39m Use `spec()` to retrieve the full column specification for this data.\n",
      "\u001b[36mℹ\u001b[39m Specify the column types or set `show_col_types = FALSE` to quiet this message.\n"
     ]
    },
    {
     "name": "stdout",
     "output_type": "stream",
     "text": [
      "[1] 111619     11\n"
     ]
    },
    {
     "data": {
      "text/html": [
       "<table class=\"dataframe\">\n",
       "<caption>A tibble: 6 × 11</caption>\n",
       "<thead>\n",
       "\t<tr><th scope=col>...1</th><th scope=col>DHS</th><th scope=col>chrom</th><th scope=col>chromStart</th><th scope=col>chromEnd</th><th scope=col>distanceToTSS</th><th scope=col>NEG</th><th scope=col>Discovery_dhs_allen_v3_bnd30</th><th scope=col>Discovery_dhs_allen_v3_bnd30_fdr_corr</th><th scope=col>Discovery_tW</th><th scope=col>Discovery_tWvar</th></tr>\n",
       "\t<tr><th scope=col>&lt;dbl&gt;</th><th scope=col>&lt;chr&gt;</th><th scope=col>&lt;chr&gt;</th><th scope=col>&lt;dbl&gt;</th><th scope=col>&lt;dbl&gt;</th><th scope=col>&lt;dbl&gt;</th><th scope=col>&lt;chr&gt;</th><th scope=col>&lt;dbl&gt;</th><th scope=col>&lt;dbl&gt;</th><th scope=col>&lt;dbl&gt;</th><th scope=col>&lt;dbl&gt;</th></tr>\n",
       "</thead>\n",
       "<tbody>\n",
       "\t<tr><td>1</td><td>chr1.1    </td><td>chr1</td><td>   540930</td><td>   541007</td><td> 81027</td><td>test</td><td>0.0062132</td><td>0.3165152</td><td>-0.2834374</td><td>0.007386932</td></tr>\n",
       "\t<tr><td>2</td><td>chr1.10   </td><td>chr1</td><td>   800724</td><td>   800827</td><td> 11355</td><td>test</td><td>0.7692786</td><td>0.9671833</td><td> 0.1091706</td><td>0.009395779</td></tr>\n",
       "\t<tr><td>3</td><td>chr1.100  </td><td>chr1</td><td>  1076108</td><td>  1077461</td><td>  3712</td><td>test</td><td>0.2871543</td><td>0.8187786</td><td>-0.1281287</td><td>0.004907937</td></tr>\n",
       "\t<tr><td>4</td><td>chr1.1000 </td><td>chr1</td><td>  4233275</td><td>  4233565</td><td>232604</td><td>test</td><td>0.2175203</td><td>0.7961312</td><td>-0.1864916</td><td>0.003963096</td></tr>\n",
       "\t<tr><td>5</td><td>chr1.10000</td><td>chr1</td><td>176918079</td><td>176918582</td><td> 79999</td><td>test</td><td>0.1692996</td><td>0.7905916</td><td> 0.1056251</td><td>0.011558812</td></tr>\n",
       "\t<tr><td>6</td><td>chr1.10001</td><td>chr1</td><td>176923498</td><td>176923669</td><td> 74912</td><td>test</td><td>0.5538674</td><td>0.9280808</td><td>-0.1608449</td><td>0.005476333</td></tr>\n",
       "</tbody>\n",
       "</table>\n"
      ],
      "text/latex": [
       "A tibble: 6 × 11\n",
       "\\begin{tabular}{lllllllllll}\n",
       " ...1 & DHS & chrom & chromStart & chromEnd & distanceToTSS & NEG & Discovery\\_dhs\\_allen\\_v3\\_bnd30 & Discovery\\_dhs\\_allen\\_v3\\_bnd30\\_fdr\\_corr & Discovery\\_tW & Discovery\\_tWvar\\\\\n",
       " <dbl> & <chr> & <chr> & <dbl> & <dbl> & <dbl> & <chr> & <dbl> & <dbl> & <dbl> & <dbl>\\\\\n",
       "\\hline\n",
       "\t 1 & chr1.1     & chr1 &    540930 &    541007 &  81027 & test & 0.0062132 & 0.3165152 & -0.2834374 & 0.007386932\\\\\n",
       "\t 2 & chr1.10    & chr1 &    800724 &    800827 &  11355 & test & 0.7692786 & 0.9671833 &  0.1091706 & 0.009395779\\\\\n",
       "\t 3 & chr1.100   & chr1 &   1076108 &   1077461 &   3712 & test & 0.2871543 & 0.8187786 & -0.1281287 & 0.004907937\\\\\n",
       "\t 4 & chr1.1000  & chr1 &   4233275 &   4233565 & 232604 & test & 0.2175203 & 0.7961312 & -0.1864916 & 0.003963096\\\\\n",
       "\t 5 & chr1.10000 & chr1 & 176918079 & 176918582 &  79999 & test & 0.1692996 & 0.7905916 &  0.1056251 & 0.011558812\\\\\n",
       "\t 6 & chr1.10001 & chr1 & 176923498 & 176923669 &  74912 & test & 0.5538674 & 0.9280808 & -0.1608449 & 0.005476333\\\\\n",
       "\\end{tabular}\n"
      ],
      "text/markdown": [
       "\n",
       "A tibble: 6 × 11\n",
       "\n",
       "| ...1 &lt;dbl&gt; | DHS &lt;chr&gt; | chrom &lt;chr&gt; | chromStart &lt;dbl&gt; | chromEnd &lt;dbl&gt; | distanceToTSS &lt;dbl&gt; | NEG &lt;chr&gt; | Discovery_dhs_allen_v3_bnd30 &lt;dbl&gt; | Discovery_dhs_allen_v3_bnd30_fdr_corr &lt;dbl&gt; | Discovery_tW &lt;dbl&gt; | Discovery_tWvar &lt;dbl&gt; |\n",
       "|---|---|---|---|---|---|---|---|---|---|---|\n",
       "| 1 | chr1.1     | chr1 |    540930 |    541007 |  81027 | test | 0.0062132 | 0.3165152 | -0.2834374 | 0.007386932 |\n",
       "| 2 | chr1.10    | chr1 |    800724 |    800827 |  11355 | test | 0.7692786 | 0.9671833 |  0.1091706 | 0.009395779 |\n",
       "| 3 | chr1.100   | chr1 |   1076108 |   1077461 |   3712 | test | 0.2871543 | 0.8187786 | -0.1281287 | 0.004907937 |\n",
       "| 4 | chr1.1000  | chr1 |   4233275 |   4233565 | 232604 | test | 0.2175203 | 0.7961312 | -0.1864916 | 0.003963096 |\n",
       "| 5 | chr1.10000 | chr1 | 176918079 | 176918582 |  79999 | test | 0.1692996 | 0.7905916 |  0.1056251 | 0.011558812 |\n",
       "| 6 | chr1.10001 | chr1 | 176923498 | 176923669 |  74912 | test | 0.5538674 | 0.9280808 | -0.1608449 | 0.005476333 |\n",
       "\n"
      ],
      "text/plain": [
       "  ...1 DHS        chrom chromStart chromEnd  distanceToTSS NEG \n",
       "1 1    chr1.1     chr1     540930     541007  81027        test\n",
       "2 2    chr1.10    chr1     800724     800827  11355        test\n",
       "3 3    chr1.100   chr1    1076108    1077461   3712        test\n",
       "4 4    chr1.1000  chr1    4233275    4233565 232604        test\n",
       "5 5    chr1.10000 chr1  176918079  176918582  79999        test\n",
       "6 6    chr1.10001 chr1  176923498  176923669  74912        test\n",
       "  Discovery_dhs_allen_v3_bnd30 Discovery_dhs_allen_v3_bnd30_fdr_corr\n",
       "1 0.0062132                    0.3165152                            \n",
       "2 0.7692786                    0.9671833                            \n",
       "3 0.2871543                    0.8187786                            \n",
       "4 0.2175203                    0.7961312                            \n",
       "5 0.1692996                    0.7905916                            \n",
       "6 0.5538674                    0.9280808                            \n",
       "  Discovery_tW Discovery_tWvar\n",
       "1 -0.2834374   0.007386932    \n",
       "2  0.1091706   0.009395779    \n",
       "3 -0.1281287   0.004907937    \n",
       "4 -0.1864916   0.003963096    \n",
       "5  0.1056251   0.011558812    \n",
       "6 -0.1608449   0.005476333    "
      ]
     },
     "metadata": {},
     "output_type": "display_data"
    }
   ],
   "source": [
    "fdiry = \"/data/reddylab/Alex/collab/20181203_Tyler/data/2023_resubmission\"\n",
    "fname = \"2023-04-26_DHS.Summary.forAndrew.csv\"\n",
    "fpath = file.path(fdiry, fname)\n",
    "\n",
    "dat = read_csv(fpath)\n",
    "print(dim(dat))\n",
    "head(dat)"
   ]
  },
  {
   "cell_type": "code",
   "execution_count": 4,
   "metadata": {},
   "outputs": [
    {
     "data": {
      "text/plain": [
       "\n",
       "   NEG   test \n",
       "   292 111327 "
      ]
     },
     "metadata": {},
     "output_type": "display_data"
    }
   ],
   "source": [
    "table(dat$NEG)"
   ]
  },
  {
   "cell_type": "code",
   "execution_count": 5,
   "metadata": {},
   "outputs": [],
   "source": [
    "dat = dat %>% dplyr::select(chrom, chromStart, chromEnd)"
   ]
  },
  {
   "cell_type": "code",
   "execution_count": 6,
   "metadata": {},
   "outputs": [
    {
     "data": {
      "text/html": [
       "<table class=\"dataframe\">\n",
       "<caption>A tibble: 6 × 3</caption>\n",
       "<thead>\n",
       "\t<tr><th scope=col>chrom</th><th scope=col>chromStart</th><th scope=col>chromEnd</th></tr>\n",
       "\t<tr><th scope=col>&lt;chr&gt;</th><th scope=col>&lt;dbl&gt;</th><th scope=col>&lt;dbl&gt;</th></tr>\n",
       "</thead>\n",
       "<tbody>\n",
       "\t<tr><td>chr1</td><td>   540930</td><td>   541007</td></tr>\n",
       "\t<tr><td>chr1</td><td>   800724</td><td>   800827</td></tr>\n",
       "\t<tr><td>chr1</td><td>  1076108</td><td>  1077461</td></tr>\n",
       "\t<tr><td>chr1</td><td>  4233275</td><td>  4233565</td></tr>\n",
       "\t<tr><td>chr1</td><td>176918079</td><td>176918582</td></tr>\n",
       "\t<tr><td>chr1</td><td>176923498</td><td>176923669</td></tr>\n",
       "</tbody>\n",
       "</table>\n"
      ],
      "text/latex": [
       "A tibble: 6 × 3\n",
       "\\begin{tabular}{lll}\n",
       " chrom & chromStart & chromEnd\\\\\n",
       " <chr> & <dbl> & <dbl>\\\\\n",
       "\\hline\n",
       "\t chr1 &    540930 &    541007\\\\\n",
       "\t chr1 &    800724 &    800827\\\\\n",
       "\t chr1 &   1076108 &   1077461\\\\\n",
       "\t chr1 &   4233275 &   4233565\\\\\n",
       "\t chr1 & 176918079 & 176918582\\\\\n",
       "\t chr1 & 176923498 & 176923669\\\\\n",
       "\\end{tabular}\n"
      ],
      "text/markdown": [
       "\n",
       "A tibble: 6 × 3\n",
       "\n",
       "| chrom &lt;chr&gt; | chromStart &lt;dbl&gt; | chromEnd &lt;dbl&gt; |\n",
       "|---|---|---|\n",
       "| chr1 |    540930 |    541007 |\n",
       "| chr1 |    800724 |    800827 |\n",
       "| chr1 |   1076108 |   1077461 |\n",
       "| chr1 |   4233275 |   4233565 |\n",
       "| chr1 | 176918079 | 176918582 |\n",
       "| chr1 | 176923498 | 176923669 |\n",
       "\n"
      ],
      "text/plain": [
       "  chrom chromStart chromEnd \n",
       "1 chr1     540930     541007\n",
       "2 chr1     800724     800827\n",
       "3 chr1    1076108    1077461\n",
       "4 chr1    4233275    4233565\n",
       "5 chr1  176918079  176918582\n",
       "6 chr1  176923498  176923669"
      ]
     },
     "metadata": {},
     "output_type": "display_data"
    }
   ],
   "source": [
    "head(dat)"
   ]
  },
  {
   "cell_type": "code",
   "execution_count": 9,
   "metadata": {},
   "outputs": [],
   "source": [
    "fdiry = file.path(FD_RES, \"results\", \"region\", \"annotation_crispri_growth\")\n",
    "fname = \"crispri_growth_dhs_total.bed\"\n",
    "fpath = file.path(fdiry, fname)\n",
    "\n",
    "write_tsv(dat, fpath, col_names=FALSE)"
   ]
  },
  {
   "cell_type": "code",
   "execution_count": null,
   "metadata": {},
   "outputs": [],
   "source": []
  }
 ],
 "metadata": {
  "kernelspec": {
   "display_name": "R",
   "language": "R",
   "name": "ir"
  },
  "language_info": {
   "codemirror_mode": "r",
   "file_extension": ".r",
   "mimetype": "text/x-r-source",
   "name": "R",
   "pygments_lexer": "r",
   "version": "4.3.0"
  }
 },
 "nbformat": 4,
 "nbformat_minor": 4
}
