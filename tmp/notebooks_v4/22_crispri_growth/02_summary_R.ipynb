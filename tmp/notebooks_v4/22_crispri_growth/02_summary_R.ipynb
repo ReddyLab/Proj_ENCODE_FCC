{
 "cells": [
  {
   "cell_type": "code",
   "execution_count": 1,
   "metadata": {},
   "outputs": [
    {
     "name": "stdout",
     "output_type": "stream",
     "text": [
      "You are in Singularity: singularity_proj_encode_fcc \n",
      "BASE DIRECTORY (FD_BASE): /data/reddylab/Kuei \n",
      "WORK DIRECTORY (FD_WORK): /data/reddylab/Kuei/out \n",
      "CODE DIRECTORY (FD_CODE): /data/reddylab/Kuei/code \n",
      "PATH OF PROJECT (FD_PRJ): /data/reddylab/Kuei/code/Proj_CombEffect_ENCODE_FCC \n",
      "PATH OF RESULTS (FD_RES): /data/reddylab/Kuei/out/proj_combeffect_encode_fcc \n",
      "PATH OF LOG     (FD_LOG): /data/reddylab/Kuei/out/proj_combeffect_encode_fcc/log \n"
     ]
    }
   ],
   "source": [
    "suppressMessages(suppressWarnings(source(\"../config/config_sing.R\")))\n",
    "show_env()"
   ]
  },
  {
   "cell_type": "code",
   "execution_count": 2,
   "metadata": {},
   "outputs": [
    {
     "data": {
      "text/html": [
       "'CRISPRi_rAVG_log2FC_2.bed.gz'"
      ],
      "text/latex": [
       "'CRISPRi\\_rAVG\\_log2FC\\_2.bed.gz'"
      ],
      "text/markdown": [
       "'CRISPRi_rAVG_log2FC_2.bed.gz'"
      ],
      "text/plain": [
       "[1] \"CRISPRi_rAVG_log2FC_2.bed.gz\""
      ]
     },
     "metadata": {},
     "output_type": "display_data"
    }
   ],
   "source": [
    "fdiry = file.path(FD_RES, \"results\", \"CRISPRi_Growth_K562_Gersbach\", \"coverage_astarrseq_peak_macs_input\")\n",
    "dir(fdiry)"
   ]
  },
  {
   "cell_type": "code",
   "execution_count": 3,
   "metadata": {},
   "outputs": [
    {
     "name": "stdout",
     "output_type": "stream",
     "text": [
      "[1] 824575     10\n"
     ]
    },
    {
     "data": {
      "text/html": [
       "<table class=\"dataframe\">\n",
       "<caption>A tibble: 6 × 10</caption>\n",
       "<thead>\n",
       "\t<tr><th scope=col>Chrom_Peak</th><th scope=col>Start_Peak</th><th scope=col>End_Peak</th><th scope=col>Chrom</th><th scope=col>Start</th><th scope=col>End</th><th scope=col>Name</th><th scope=col>Score</th><th scope=col>Overlap</th><th scope=col>Peak</th></tr>\n",
       "\t<tr><th scope=col>&lt;chr&gt;</th><th scope=col>&lt;dbl&gt;</th><th scope=col>&lt;dbl&gt;</th><th scope=col>&lt;chr&gt;</th><th scope=col>&lt;dbl&gt;</th><th scope=col>&lt;dbl&gt;</th><th scope=col>&lt;chr&gt;</th><th scope=col>&lt;dbl&gt;</th><th scope=col>&lt;dbl&gt;</th><th scope=col>&lt;chr&gt;</th></tr>\n",
       "</thead>\n",
       "<tbody>\n",
       "\t<tr><td>chr1</td><td>605090</td><td>605823</td><td>chr1</td><td>605580</td><td>605581</td><td>id-1</td><td>-0.180660</td><td>1</td><td>chr1:605090-605823</td></tr>\n",
       "\t<tr><td>chr1</td><td>605090</td><td>605823</td><td>chr1</td><td>605581</td><td>605582</td><td>id-2</td><td> 0.486646</td><td>1</td><td>chr1:605090-605823</td></tr>\n",
       "\t<tr><td>chr1</td><td>605090</td><td>605823</td><td>chr1</td><td>605589</td><td>605590</td><td>id-3</td><td> 3.171240</td><td>1</td><td>chr1:605090-605823</td></tr>\n",
       "\t<tr><td>chr1</td><td>605090</td><td>605823</td><td>chr1</td><td>605591</td><td>605592</td><td>id-4</td><td>-0.364573</td><td>1</td><td>chr1:605090-605823</td></tr>\n",
       "\t<tr><td>chr1</td><td>605090</td><td>605823</td><td>chr1</td><td>605592</td><td>605593</td><td>id-5</td><td>-0.206319</td><td>1</td><td>chr1:605090-605823</td></tr>\n",
       "\t<tr><td>chr1</td><td>605090</td><td>605823</td><td>chr1</td><td>605609</td><td>605610</td><td>id-6</td><td>-0.266750</td><td>1</td><td>chr1:605090-605823</td></tr>\n",
       "</tbody>\n",
       "</table>\n"
      ],
      "text/latex": [
       "A tibble: 6 × 10\n",
       "\\begin{tabular}{llllllllll}\n",
       " Chrom\\_Peak & Start\\_Peak & End\\_Peak & Chrom & Start & End & Name & Score & Overlap & Peak\\\\\n",
       " <chr> & <dbl> & <dbl> & <chr> & <dbl> & <dbl> & <chr> & <dbl> & <dbl> & <chr>\\\\\n",
       "\\hline\n",
       "\t chr1 & 605090 & 605823 & chr1 & 605580 & 605581 & id-1 & -0.180660 & 1 & chr1:605090-605823\\\\\n",
       "\t chr1 & 605090 & 605823 & chr1 & 605581 & 605582 & id-2 &  0.486646 & 1 & chr1:605090-605823\\\\\n",
       "\t chr1 & 605090 & 605823 & chr1 & 605589 & 605590 & id-3 &  3.171240 & 1 & chr1:605090-605823\\\\\n",
       "\t chr1 & 605090 & 605823 & chr1 & 605591 & 605592 & id-4 & -0.364573 & 1 & chr1:605090-605823\\\\\n",
       "\t chr1 & 605090 & 605823 & chr1 & 605592 & 605593 & id-5 & -0.206319 & 1 & chr1:605090-605823\\\\\n",
       "\t chr1 & 605090 & 605823 & chr1 & 605609 & 605610 & id-6 & -0.266750 & 1 & chr1:605090-605823\\\\\n",
       "\\end{tabular}\n"
      ],
      "text/markdown": [
       "\n",
       "A tibble: 6 × 10\n",
       "\n",
       "| Chrom_Peak &lt;chr&gt; | Start_Peak &lt;dbl&gt; | End_Peak &lt;dbl&gt; | Chrom &lt;chr&gt; | Start &lt;dbl&gt; | End &lt;dbl&gt; | Name &lt;chr&gt; | Score &lt;dbl&gt; | Overlap &lt;dbl&gt; | Peak &lt;chr&gt; |\n",
       "|---|---|---|---|---|---|---|---|---|---|\n",
       "| chr1 | 605090 | 605823 | chr1 | 605580 | 605581 | id-1 | -0.180660 | 1 | chr1:605090-605823 |\n",
       "| chr1 | 605090 | 605823 | chr1 | 605581 | 605582 | id-2 |  0.486646 | 1 | chr1:605090-605823 |\n",
       "| chr1 | 605090 | 605823 | chr1 | 605589 | 605590 | id-3 |  3.171240 | 1 | chr1:605090-605823 |\n",
       "| chr1 | 605090 | 605823 | chr1 | 605591 | 605592 | id-4 | -0.364573 | 1 | chr1:605090-605823 |\n",
       "| chr1 | 605090 | 605823 | chr1 | 605592 | 605593 | id-5 | -0.206319 | 1 | chr1:605090-605823 |\n",
       "| chr1 | 605090 | 605823 | chr1 | 605609 | 605610 | id-6 | -0.266750 | 1 | chr1:605090-605823 |\n",
       "\n"
      ],
      "text/plain": [
       "  Chrom_Peak Start_Peak End_Peak Chrom Start  End    Name Score     Overlap\n",
       "1 chr1       605090     605823   chr1  605580 605581 id-1 -0.180660 1      \n",
       "2 chr1       605090     605823   chr1  605581 605582 id-2  0.486646 1      \n",
       "3 chr1       605090     605823   chr1  605589 605590 id-3  3.171240 1      \n",
       "4 chr1       605090     605823   chr1  605591 605592 id-4 -0.364573 1      \n",
       "5 chr1       605090     605823   chr1  605592 605593 id-5 -0.206319 1      \n",
       "6 chr1       605090     605823   chr1  605609 605610 id-6 -0.266750 1      \n",
       "  Peak              \n",
       "1 chr1:605090-605823\n",
       "2 chr1:605090-605823\n",
       "3 chr1:605090-605823\n",
       "4 chr1:605090-605823\n",
       "5 chr1:605090-605823\n",
       "6 chr1:605090-605823"
      ]
     },
     "metadata": {},
     "output_type": "display_data"
    }
   ],
   "source": [
    "fdiry = file.path(FD_RES, \"results\", \"CRISPRi_Growth_K562_Gersbach\", \"coverage_astarrseq_peak_macs_input\")\n",
    "fname = \"CRISPRi_rAVG_log2FC_2.bed.gz\"\n",
    "fpath = file.path(fdiry, fname)\n",
    "\n",
    "cnames = c(\"Chrom\", \"Start\", \"End\", \"Name\", \"Score\")\n",
    "cnames = c(\"Chrom_Peak\", \"Start_Peak\", \"End_Peak\", cnames, \"Overlap\")\n",
    "\n",
    "dat = read_tsv(fpath, col_names = cnames, show_col_types = FALSE)\n",
    "dat = dat %>% dplyr::mutate(Peak = paste0(Chrom_Peak, \":\", Start_Peak, \"-\", End_Peak))\n",
    "\n",
    "dat_peak_crispri_growth = dat\n",
    "print(dim(dat))\n",
    "head(dat)"
   ]
  },
  {
   "cell_type": "code",
   "execution_count": 4,
   "metadata": {},
   "outputs": [
    {
     "name": "stdout",
     "output_type": "stream",
     "text": [
      "[1] 80288     6\n"
     ]
    },
    {
     "data": {
      "text/html": [
       "<table class=\"dataframe\">\n",
       "<caption>A tibble: 6 × 6</caption>\n",
       "<thead>\n",
       "\t<tr><th scope=col>Peak</th><th scope=col>Score_Mean</th><th scope=col>Score_Max</th><th scope=col>Score_Min</th><th scope=col>Score_Max_Abs</th><th scope=col>Count</th></tr>\n",
       "\t<tr><th scope=col>&lt;chr&gt;</th><th scope=col>&lt;dbl&gt;</th><th scope=col>&lt;dbl&gt;</th><th scope=col>&lt;dbl&gt;</th><th scope=col>&lt;dbl&gt;</th><th scope=col>&lt;int&gt;</th></tr>\n",
       "</thead>\n",
       "<tbody>\n",
       "\t<tr><td>chr10:100009096-100010466</td><td>-0.03786170</td><td>0.526902</td><td>-0.655965</td><td>0.655965</td><td>10</td></tr>\n",
       "\t<tr><td>chr10:100045961-100046653</td><td> 0.10873570</td><td>0.646953</td><td>-0.497578</td><td>0.646953</td><td>10</td></tr>\n",
       "\t<tr><td>chr10:100065094-100065486</td><td>-0.00323730</td><td>1.305380</td><td>-0.677550</td><td>1.305380</td><td>10</td></tr>\n",
       "\t<tr><td>chr10:100129051-100131059</td><td>-0.26576144</td><td>0.253159</td><td>-0.767330</td><td>0.767330</td><td> 9</td></tr>\n",
       "\t<tr><td>chr10:100185017-100187275</td><td>-0.01202196</td><td>0.730481</td><td>-0.954435</td><td>0.954435</td><td>25</td></tr>\n",
       "\t<tr><td>chr10:100228452-100230090</td><td>-0.01822050</td><td>0.446912</td><td>-0.768059</td><td>0.768059</td><td>10</td></tr>\n",
       "</tbody>\n",
       "</table>\n"
      ],
      "text/latex": [
       "A tibble: 6 × 6\n",
       "\\begin{tabular}{llllll}\n",
       " Peak & Score\\_Mean & Score\\_Max & Score\\_Min & Score\\_Max\\_Abs & Count\\\\\n",
       " <chr> & <dbl> & <dbl> & <dbl> & <dbl> & <int>\\\\\n",
       "\\hline\n",
       "\t chr10:100009096-100010466 & -0.03786170 & 0.526902 & -0.655965 & 0.655965 & 10\\\\\n",
       "\t chr10:100045961-100046653 &  0.10873570 & 0.646953 & -0.497578 & 0.646953 & 10\\\\\n",
       "\t chr10:100065094-100065486 & -0.00323730 & 1.305380 & -0.677550 & 1.305380 & 10\\\\\n",
       "\t chr10:100129051-100131059 & -0.26576144 & 0.253159 & -0.767330 & 0.767330 &  9\\\\\n",
       "\t chr10:100185017-100187275 & -0.01202196 & 0.730481 & -0.954435 & 0.954435 & 25\\\\\n",
       "\t chr10:100228452-100230090 & -0.01822050 & 0.446912 & -0.768059 & 0.768059 & 10\\\\\n",
       "\\end{tabular}\n"
      ],
      "text/markdown": [
       "\n",
       "A tibble: 6 × 6\n",
       "\n",
       "| Peak &lt;chr&gt; | Score_Mean &lt;dbl&gt; | Score_Max &lt;dbl&gt; | Score_Min &lt;dbl&gt; | Score_Max_Abs &lt;dbl&gt; | Count &lt;int&gt; |\n",
       "|---|---|---|---|---|---|\n",
       "| chr10:100009096-100010466 | -0.03786170 | 0.526902 | -0.655965 | 0.655965 | 10 |\n",
       "| chr10:100045961-100046653 |  0.10873570 | 0.646953 | -0.497578 | 0.646953 | 10 |\n",
       "| chr10:100065094-100065486 | -0.00323730 | 1.305380 | -0.677550 | 1.305380 | 10 |\n",
       "| chr10:100129051-100131059 | -0.26576144 | 0.253159 | -0.767330 | 0.767330 |  9 |\n",
       "| chr10:100185017-100187275 | -0.01202196 | 0.730481 | -0.954435 | 0.954435 | 25 |\n",
       "| chr10:100228452-100230090 | -0.01822050 | 0.446912 | -0.768059 | 0.768059 | 10 |\n",
       "\n"
      ],
      "text/plain": [
       "  Peak                      Score_Mean  Score_Max Score_Min Score_Max_Abs Count\n",
       "1 chr10:100009096-100010466 -0.03786170 0.526902  -0.655965 0.655965      10   \n",
       "2 chr10:100045961-100046653  0.10873570 0.646953  -0.497578 0.646953      10   \n",
       "3 chr10:100065094-100065486 -0.00323730 1.305380  -0.677550 1.305380      10   \n",
       "4 chr10:100129051-100131059 -0.26576144 0.253159  -0.767330 0.767330       9   \n",
       "5 chr10:100185017-100187275 -0.01202196 0.730481  -0.954435 0.954435      25   \n",
       "6 chr10:100228452-100230090 -0.01822050 0.446912  -0.768059 0.768059      10   "
      ]
     },
     "metadata": {},
     "output_type": "display_data"
    }
   ],
   "source": [
    "dat = dat_peak_crispri_growth\n",
    "dat = dat %>% \n",
    "    dplyr::group_by(Peak) %>% \n",
    "    dplyr::summarise(\n",
    "        Score_Mean    = mean(Score),\n",
    "        Score_Max     = max(Score),\n",
    "        Score_Min     = min(Score),\n",
    "        Score_Max_Abs = max(abs(Score)),\n",
    "        Count         = n()\n",
    "    )\n",
    "\n",
    "dat_peak_summary_crispri_growth = dat\n",
    "print(dim(dat))\n",
    "head(dat)"
   ]
  },
  {
   "cell_type": "code",
   "execution_count": 5,
   "metadata": {},
   "outputs": [
    {
     "data": {
      "text/plain": [
       "   Min. 1st Qu.  Median    Mean 3rd Qu.    Max. \n",
       "   1.00   10.00   10.00   10.27   10.00   69.00 "
      ]
     },
     "metadata": {},
     "output_type": "display_data"
    }
   ],
   "source": [
    "dat = dat_peak_summary_crispri_growth\n",
    "vec = dat$Count\n",
    "summary(vec)"
   ]
  },
  {
   "cell_type": "code",
   "execution_count": 6,
   "metadata": {},
   "outputs": [
    {
     "data": {
      "image/png": "[encoded data removed]",
      "text/plain": [
       "plot without title"
      ]
     },
     "metadata": {
      "image/png": {
       "height": 300,
       "width": 360
      }
     },
     "output_type": "display_data"
    }
   ],
   "source": [
    "dat = dat_peak_summary_crispri_growth\n",
    "gpt = ggplot(dat, aes(x=Count)) + geom_histogram(binwidth = 1) + theme_cowplot()\n",
    "\n",
    "options(repr.plot.height=5, repr.plot.width=6)\n",
    "print(gpt)"
   ]
  },
  {
   "cell_type": "code",
   "execution_count": 7,
   "metadata": {},
   "outputs": [
    {
     "name": "stderr",
     "output_type": "stream",
     "text": [
      "Warning message:\n",
      "“\u001b[1m\u001b[22mTransformation introduced infinite values in continuous y-axis”\n",
      "Warning message:\n",
      "“\u001b[1m\u001b[22mRemoved 23 rows containing missing values (`geom_bar()`).”\n"
     ]
    },
    {
     "data": {
      "image/png": "[encoded data removed]",
      "text/plain": [
       "plot without title"
      ]
     },
     "metadata": {
      "image/png": {
       "height": 300,
       "width": 360
      }
     },
     "output_type": "display_data"
    }
   ],
   "source": [
    "dat = dat_peak_summary_crispri_growth\n",
    "gpt = ggplot(dat, aes(x=Count)) + geom_histogram(binwidth = 1) + scale_y_log10() + theme_cowplot()\n",
    "\n",
    "options(repr.plot.height=5, repr.plot.width=6)\n",
    "print(gpt)"
   ]
  },
  {
   "cell_type": "code",
   "execution_count": 8,
   "metadata": {},
   "outputs": [
    {
     "data": {
      "image/png": "[encoded data removed]",
      "text/plain": [
       "plot without title"
      ]
     },
     "metadata": {
      "image/png": {
       "height": 240,
       "width": 480
      }
     },
     "output_type": "display_data"
    }
   ],
   "source": [
    "dat = dat_peak_summary_crispri_growth\n",
    "gpt = ggplot(dat, aes(x=Count, y=Score_Mean)) + geom_point() + theme_cowplot()\n",
    "\n",
    "options(repr.plot.height=4, repr.plot.width=8)\n",
    "print(gpt)"
   ]
  },
  {
   "cell_type": "code",
   "execution_count": 9,
   "metadata": {},
   "outputs": [
    {
     "data": {
      "image/png": "[encoded data removed]",
      "text/plain": [
       "plot without title"
      ]
     },
     "metadata": {
      "image/png": {
       "height": 240,
       "width": 480
      }
     },
     "output_type": "display_data"
    }
   ],
   "source": [
    "dat = dat_peak_summary_crispri_growth\n",
    "gpt = ggplot(dat, aes(x=Count, y=Score_Max_Abs)) + geom_point() + theme_cowplot()\n",
    "\n",
    "options(repr.plot.height=4, repr.plot.width=8)\n",
    "print(gpt)"
   ]
  },
  {
   "cell_type": "code",
   "execution_count": 10,
   "metadata": {},
   "outputs": [
    {
     "data": {
      "image/png": "[encoded data removed]",
      "text/plain": [
       "plot without title"
      ]
     },
     "metadata": {
      "image/png": {
       "height": 240,
       "width": 480
      }
     },
     "output_type": "display_data"
    }
   ],
   "source": [
    "dat = dat_peak_summary_crispri_growth\n",
    "gpt = ggplot(dat, aes(x=Score_Mean, y=Score_Max_Abs)) + geom_point() + theme_cowplot()\n",
    "\n",
    "options(repr.plot.height=4, repr.plot.width=8)\n",
    "print(gpt)"
   ]
  },
  {
   "cell_type": "markdown",
   "metadata": {},
   "source": [
    "## Test the idea of filteration"
   ]
  },
  {
   "cell_type": "code",
   "execution_count": 11,
   "metadata": {},
   "outputs": [
    {
     "name": "stdout",
     "output_type": "stream",
     "text": [
      "[1] \"77378 / 80288 = 96.3755480271024 %\"\n"
     ]
    },
    {
     "data": {
      "text/html": [
       "<table class=\"dataframe\">\n",
       "<caption>A tibble: 6 × 6</caption>\n",
       "<thead>\n",
       "\t<tr><th scope=col>Peak</th><th scope=col>Score_Mean</th><th scope=col>Score_Max</th><th scope=col>Score_Min</th><th scope=col>Score_Max_Abs</th><th scope=col>Count</th></tr>\n",
       "\t<tr><th scope=col>&lt;chr&gt;</th><th scope=col>&lt;dbl&gt;</th><th scope=col>&lt;dbl&gt;</th><th scope=col>&lt;dbl&gt;</th><th scope=col>&lt;dbl&gt;</th><th scope=col>&lt;int&gt;</th></tr>\n",
       "</thead>\n",
       "<tbody>\n",
       "\t<tr><td>chr10:100009096-100010466</td><td>-0.03786170</td><td>0.526902</td><td>-0.655965</td><td>0.655965</td><td>10</td></tr>\n",
       "\t<tr><td>chr10:100045961-100046653</td><td> 0.10873570</td><td>0.646953</td><td>-0.497578</td><td>0.646953</td><td>10</td></tr>\n",
       "\t<tr><td>chr10:100065094-100065486</td><td>-0.00323730</td><td>1.305380</td><td>-0.677550</td><td>1.305380</td><td>10</td></tr>\n",
       "\t<tr><td>chr10:100129051-100131059</td><td>-0.26576144</td><td>0.253159</td><td>-0.767330</td><td>0.767330</td><td> 9</td></tr>\n",
       "\t<tr><td>chr10:100185017-100187275</td><td>-0.01202196</td><td>0.730481</td><td>-0.954435</td><td>0.954435</td><td>25</td></tr>\n",
       "\t<tr><td>chr10:100228452-100230090</td><td>-0.01822050</td><td>0.446912</td><td>-0.768059</td><td>0.768059</td><td>10</td></tr>\n",
       "</tbody>\n",
       "</table>\n"
      ],
      "text/latex": [
       "A tibble: 6 × 6\n",
       "\\begin{tabular}{llllll}\n",
       " Peak & Score\\_Mean & Score\\_Max & Score\\_Min & Score\\_Max\\_Abs & Count\\\\\n",
       " <chr> & <dbl> & <dbl> & <dbl> & <dbl> & <int>\\\\\n",
       "\\hline\n",
       "\t chr10:100009096-100010466 & -0.03786170 & 0.526902 & -0.655965 & 0.655965 & 10\\\\\n",
       "\t chr10:100045961-100046653 &  0.10873570 & 0.646953 & -0.497578 & 0.646953 & 10\\\\\n",
       "\t chr10:100065094-100065486 & -0.00323730 & 1.305380 & -0.677550 & 1.305380 & 10\\\\\n",
       "\t chr10:100129051-100131059 & -0.26576144 & 0.253159 & -0.767330 & 0.767330 &  9\\\\\n",
       "\t chr10:100185017-100187275 & -0.01202196 & 0.730481 & -0.954435 & 0.954435 & 25\\\\\n",
       "\t chr10:100228452-100230090 & -0.01822050 & 0.446912 & -0.768059 & 0.768059 & 10\\\\\n",
       "\\end{tabular}\n"
      ],
      "text/markdown": [
       "\n",
       "A tibble: 6 × 6\n",
       "\n",
       "| Peak &lt;chr&gt; | Score_Mean &lt;dbl&gt; | Score_Max &lt;dbl&gt; | Score_Min &lt;dbl&gt; | Score_Max_Abs &lt;dbl&gt; | Count &lt;int&gt; |\n",
       "|---|---|---|---|---|---|\n",
       "| chr10:100009096-100010466 | -0.03786170 | 0.526902 | -0.655965 | 0.655965 | 10 |\n",
       "| chr10:100045961-100046653 |  0.10873570 | 0.646953 | -0.497578 | 0.646953 | 10 |\n",
       "| chr10:100065094-100065486 | -0.00323730 | 1.305380 | -0.677550 | 1.305380 | 10 |\n",
       "| chr10:100129051-100131059 | -0.26576144 | 0.253159 | -0.767330 | 0.767330 |  9 |\n",
       "| chr10:100185017-100187275 | -0.01202196 | 0.730481 | -0.954435 | 0.954435 | 25 |\n",
       "| chr10:100228452-100230090 | -0.01822050 | 0.446912 | -0.768059 | 0.768059 | 10 |\n",
       "\n"
      ],
      "text/plain": [
       "  Peak                      Score_Mean  Score_Max Score_Min Score_Max_Abs Count\n",
       "1 chr10:100009096-100010466 -0.03786170 0.526902  -0.655965 0.655965      10   \n",
       "2 chr10:100045961-100046653  0.10873570 0.646953  -0.497578 0.646953      10   \n",
       "3 chr10:100065094-100065486 -0.00323730 1.305380  -0.677550 1.305380      10   \n",
       "4 chr10:100129051-100131059 -0.26576144 0.253159  -0.767330 0.767330       9   \n",
       "5 chr10:100185017-100187275 -0.01202196 0.730481  -0.954435 0.954435      25   \n",
       "6 chr10:100228452-100230090 -0.01822050 0.446912  -0.768059 0.768059      10   "
      ]
     },
     "metadata": {},
     "output_type": "display_data"
    }
   ],
   "source": [
    "dat = dat_peak_summary_crispri_growth\n",
    "val_count_peak_total = nrow(dat)\n",
    "\n",
    "dat = dat %>% dplyr::filter(Count >= 5)\n",
    "val_count_peak_filter = nrow(dat)\n",
    "\n",
    "val1 = val_count_peak_filter\n",
    "val2 = val_count_peak_total\n",
    "print(paste(val1, \"/\", val2, \"=\", val1 / val2 * 100, \"%\"))\n",
    "head(dat)"
   ]
  },
  {
   "cell_type": "code",
   "execution_count": 12,
   "metadata": {},
   "outputs": [
    {
     "name": "stdout",
     "output_type": "stream",
     "text": [
      "[1] \"62120 / 80288 = 77.371462734157 %\"\n"
     ]
    },
    {
     "data": {
      "text/html": [
       "<table class=\"dataframe\">\n",
       "<caption>A tibble: 6 × 6</caption>\n",
       "<thead>\n",
       "\t<tr><th scope=col>Peak</th><th scope=col>Score_Mean</th><th scope=col>Score_Max</th><th scope=col>Score_Min</th><th scope=col>Score_Max_Abs</th><th scope=col>Count</th></tr>\n",
       "\t<tr><th scope=col>&lt;chr&gt;</th><th scope=col>&lt;dbl&gt;</th><th scope=col>&lt;dbl&gt;</th><th scope=col>&lt;dbl&gt;</th><th scope=col>&lt;dbl&gt;</th><th scope=col>&lt;int&gt;</th></tr>\n",
       "</thead>\n",
       "<tbody>\n",
       "\t<tr><td>chr10:100009096-100010466</td><td>-0.03786170</td><td>0.526902</td><td>-0.655965</td><td>0.655965</td><td>10</td></tr>\n",
       "\t<tr><td>chr10:100045961-100046653</td><td> 0.10873570</td><td>0.646953</td><td>-0.497578</td><td>0.646953</td><td>10</td></tr>\n",
       "\t<tr><td>chr10:100065094-100065486</td><td>-0.00323730</td><td>1.305380</td><td>-0.677550</td><td>1.305380</td><td>10</td></tr>\n",
       "\t<tr><td>chr10:100185017-100187275</td><td>-0.01202196</td><td>0.730481</td><td>-0.954435</td><td>0.954435</td><td>25</td></tr>\n",
       "\t<tr><td>chr10:100228452-100230090</td><td>-0.01822050</td><td>0.446912</td><td>-0.768059</td><td>0.768059</td><td>10</td></tr>\n",
       "\t<tr><td>chr10:100240591-100241246</td><td>-0.00780470</td><td>0.892650</td><td>-0.570208</td><td>0.892650</td><td>10</td></tr>\n",
       "</tbody>\n",
       "</table>\n"
      ],
      "text/latex": [
       "A tibble: 6 × 6\n",
       "\\begin{tabular}{llllll}\n",
       " Peak & Score\\_Mean & Score\\_Max & Score\\_Min & Score\\_Max\\_Abs & Count\\\\\n",
       " <chr> & <dbl> & <dbl> & <dbl> & <dbl> & <int>\\\\\n",
       "\\hline\n",
       "\t chr10:100009096-100010466 & -0.03786170 & 0.526902 & -0.655965 & 0.655965 & 10\\\\\n",
       "\t chr10:100045961-100046653 &  0.10873570 & 0.646953 & -0.497578 & 0.646953 & 10\\\\\n",
       "\t chr10:100065094-100065486 & -0.00323730 & 1.305380 & -0.677550 & 1.305380 & 10\\\\\n",
       "\t chr10:100185017-100187275 & -0.01202196 & 0.730481 & -0.954435 & 0.954435 & 25\\\\\n",
       "\t chr10:100228452-100230090 & -0.01822050 & 0.446912 & -0.768059 & 0.768059 & 10\\\\\n",
       "\t chr10:100240591-100241246 & -0.00780470 & 0.892650 & -0.570208 & 0.892650 & 10\\\\\n",
       "\\end{tabular}\n"
      ],
      "text/markdown": [
       "\n",
       "A tibble: 6 × 6\n",
       "\n",
       "| Peak &lt;chr&gt; | Score_Mean &lt;dbl&gt; | Score_Max &lt;dbl&gt; | Score_Min &lt;dbl&gt; | Score_Max_Abs &lt;dbl&gt; | Count &lt;int&gt; |\n",
       "|---|---|---|---|---|---|\n",
       "| chr10:100009096-100010466 | -0.03786170 | 0.526902 | -0.655965 | 0.655965 | 10 |\n",
       "| chr10:100045961-100046653 |  0.10873570 | 0.646953 | -0.497578 | 0.646953 | 10 |\n",
       "| chr10:100065094-100065486 | -0.00323730 | 1.305380 | -0.677550 | 1.305380 | 10 |\n",
       "| chr10:100185017-100187275 | -0.01202196 | 0.730481 | -0.954435 | 0.954435 | 25 |\n",
       "| chr10:100228452-100230090 | -0.01822050 | 0.446912 | -0.768059 | 0.768059 | 10 |\n",
       "| chr10:100240591-100241246 | -0.00780470 | 0.892650 | -0.570208 | 0.892650 | 10 |\n",
       "\n"
      ],
      "text/plain": [
       "  Peak                      Score_Mean  Score_Max Score_Min Score_Max_Abs Count\n",
       "1 chr10:100009096-100010466 -0.03786170 0.526902  -0.655965 0.655965      10   \n",
       "2 chr10:100045961-100046653  0.10873570 0.646953  -0.497578 0.646953      10   \n",
       "3 chr10:100065094-100065486 -0.00323730 1.305380  -0.677550 1.305380      10   \n",
       "4 chr10:100185017-100187275 -0.01202196 0.730481  -0.954435 0.954435      25   \n",
       "5 chr10:100228452-100230090 -0.01822050 0.446912  -0.768059 0.768059      10   \n",
       "6 chr10:100240591-100241246 -0.00780470 0.892650  -0.570208 0.892650      10   "
      ]
     },
     "metadata": {},
     "output_type": "display_data"
    }
   ],
   "source": [
    "dat = dat_peak_summary_crispri_growth\n",
    "val_count_peak_total = nrow(dat)\n",
    "\n",
    "dat = dat %>% dplyr::filter(Count >= 10)\n",
    "val_count_peak_filter = nrow(dat)\n",
    "\n",
    "val1 = val_count_peak_filter\n",
    "val2 = val_count_peak_total\n",
    "print(paste(val1, \"/\", val2, \"=\", val1 / val2 * 100, \"%\"))\n",
    "head(dat)"
   ]
  },
  {
   "cell_type": "code",
   "execution_count": 13,
   "metadata": {},
   "outputs": [
    {
     "name": "stdout",
     "output_type": "stream",
     "text": [
      "[1] \"70457 / 80288 = 87.7553308090873 %\"\n"
     ]
    },
    {
     "data": {
      "text/html": [
       "<table class=\"dataframe\">\n",
       "<caption>A tibble: 6 × 6</caption>\n",
       "<thead>\n",
       "\t<tr><th scope=col>Peak</th><th scope=col>Score_Mean</th><th scope=col>Score_Max</th><th scope=col>Score_Min</th><th scope=col>Score_Max_Abs</th><th scope=col>Count</th></tr>\n",
       "\t<tr><th scope=col>&lt;chr&gt;</th><th scope=col>&lt;dbl&gt;</th><th scope=col>&lt;dbl&gt;</th><th scope=col>&lt;dbl&gt;</th><th scope=col>&lt;dbl&gt;</th><th scope=col>&lt;int&gt;</th></tr>\n",
       "</thead>\n",
       "<tbody>\n",
       "\t<tr><td>chr10:100009096-100010466</td><td>-0.03786170</td><td>0.526902</td><td>-0.655965</td><td>0.655965</td><td>10</td></tr>\n",
       "\t<tr><td>chr10:100045961-100046653</td><td> 0.10873570</td><td>0.646953</td><td>-0.497578</td><td>0.646953</td><td>10</td></tr>\n",
       "\t<tr><td>chr10:100065094-100065486</td><td>-0.00323730</td><td>1.305380</td><td>-0.677550</td><td>1.305380</td><td>10</td></tr>\n",
       "\t<tr><td>chr10:100129051-100131059</td><td>-0.26576144</td><td>0.253159</td><td>-0.767330</td><td>0.767330</td><td> 9</td></tr>\n",
       "\t<tr><td>chr10:100185017-100187275</td><td>-0.01202196</td><td>0.730481</td><td>-0.954435</td><td>0.954435</td><td>25</td></tr>\n",
       "\t<tr><td>chr10:100228452-100230090</td><td>-0.01822050</td><td>0.446912</td><td>-0.768059</td><td>0.768059</td><td>10</td></tr>\n",
       "</tbody>\n",
       "</table>\n"
      ],
      "text/latex": [
       "A tibble: 6 × 6\n",
       "\\begin{tabular}{llllll}\n",
       " Peak & Score\\_Mean & Score\\_Max & Score\\_Min & Score\\_Max\\_Abs & Count\\\\\n",
       " <chr> & <dbl> & <dbl> & <dbl> & <dbl> & <int>\\\\\n",
       "\\hline\n",
       "\t chr10:100009096-100010466 & -0.03786170 & 0.526902 & -0.655965 & 0.655965 & 10\\\\\n",
       "\t chr10:100045961-100046653 &  0.10873570 & 0.646953 & -0.497578 & 0.646953 & 10\\\\\n",
       "\t chr10:100065094-100065486 & -0.00323730 & 1.305380 & -0.677550 & 1.305380 & 10\\\\\n",
       "\t chr10:100129051-100131059 & -0.26576144 & 0.253159 & -0.767330 & 0.767330 &  9\\\\\n",
       "\t chr10:100185017-100187275 & -0.01202196 & 0.730481 & -0.954435 & 0.954435 & 25\\\\\n",
       "\t chr10:100228452-100230090 & -0.01822050 & 0.446912 & -0.768059 & 0.768059 & 10\\\\\n",
       "\\end{tabular}\n"
      ],
      "text/markdown": [
       "\n",
       "A tibble: 6 × 6\n",
       "\n",
       "| Peak &lt;chr&gt; | Score_Mean &lt;dbl&gt; | Score_Max &lt;dbl&gt; | Score_Min &lt;dbl&gt; | Score_Max_Abs &lt;dbl&gt; | Count &lt;int&gt; |\n",
       "|---|---|---|---|---|---|\n",
       "| chr10:100009096-100010466 | -0.03786170 | 0.526902 | -0.655965 | 0.655965 | 10 |\n",
       "| chr10:100045961-100046653 |  0.10873570 | 0.646953 | -0.497578 | 0.646953 | 10 |\n",
       "| chr10:100065094-100065486 | -0.00323730 | 1.305380 | -0.677550 | 1.305380 | 10 |\n",
       "| chr10:100129051-100131059 | -0.26576144 | 0.253159 | -0.767330 | 0.767330 |  9 |\n",
       "| chr10:100185017-100187275 | -0.01202196 | 0.730481 | -0.954435 | 0.954435 | 25 |\n",
       "| chr10:100228452-100230090 | -0.01822050 | 0.446912 | -0.768059 | 0.768059 | 10 |\n",
       "\n"
      ],
      "text/plain": [
       "  Peak                      Score_Mean  Score_Max Score_Min Score_Max_Abs Count\n",
       "1 chr10:100009096-100010466 -0.03786170 0.526902  -0.655965 0.655965      10   \n",
       "2 chr10:100045961-100046653  0.10873570 0.646953  -0.497578 0.646953      10   \n",
       "3 chr10:100065094-100065486 -0.00323730 1.305380  -0.677550 1.305380      10   \n",
       "4 chr10:100129051-100131059 -0.26576144 0.253159  -0.767330 0.767330       9   \n",
       "5 chr10:100185017-100187275 -0.01202196 0.730481  -0.954435 0.954435      25   \n",
       "6 chr10:100228452-100230090 -0.01822050 0.446912  -0.768059 0.768059      10   "
      ]
     },
     "metadata": {},
     "output_type": "display_data"
    }
   ],
   "source": [
    "dat = dat_peak_summary_crispri_growth\n",
    "val_count_peak_total = nrow(dat)\n",
    "val_sd = 0.5713106\n",
    "\n",
    "dat = dat %>% dplyr::filter(Count >= 5) %>% dplyr::filter(Score_Max_Abs >= val_sd * 1)\n",
    "val_count_peak_filter = nrow(dat)\n",
    "\n",
    "val1 = val_count_peak_filter\n",
    "val2 = val_count_peak_total\n",
    "print(paste(val1, \"/\", val2, \"=\", val1 / val2 * 100, \"%\"))\n",
    "head(dat)"
   ]
  },
  {
   "cell_type": "code",
   "execution_count": 14,
   "metadata": {},
   "outputs": [
    {
     "name": "stdout",
     "output_type": "stream",
     "text": [
      "[1] \"45695 / 80288 = 56.9138601036269 %\"\n"
     ]
    },
    {
     "data": {
      "text/html": [
       "<table class=\"dataframe\">\n",
       "<caption>A tibble: 6 × 6</caption>\n",
       "<thead>\n",
       "\t<tr><th scope=col>Peak</th><th scope=col>Score_Mean</th><th scope=col>Score_Max</th><th scope=col>Score_Min</th><th scope=col>Score_Max_Abs</th><th scope=col>Count</th></tr>\n",
       "\t<tr><th scope=col>&lt;chr&gt;</th><th scope=col>&lt;dbl&gt;</th><th scope=col>&lt;dbl&gt;</th><th scope=col>&lt;dbl&gt;</th><th scope=col>&lt;dbl&gt;</th><th scope=col>&lt;int&gt;</th></tr>\n",
       "</thead>\n",
       "<tbody>\n",
       "\t<tr><td>chr10:100065094-100065486</td><td>-0.00323730</td><td>1.305380</td><td>-0.677550</td><td>1.305380</td><td>10</td></tr>\n",
       "\t<tr><td>chr10:100185017-100187275</td><td>-0.01202196</td><td>0.730481</td><td>-0.954435</td><td>0.954435</td><td>25</td></tr>\n",
       "\t<tr><td>chr10:100240591-100241246</td><td>-0.00780470</td><td>0.892650</td><td>-0.570208</td><td>0.892650</td><td>10</td></tr>\n",
       "\t<tr><td>chr10:100267066-100268374</td><td> 0.25902410</td><td>2.091760</td><td>-0.823935</td><td>2.091760</td><td>10</td></tr>\n",
       "\t<tr><td>chr10:100289686-100290090</td><td> 0.05728600</td><td>0.961458</td><td>-0.710980</td><td>0.961458</td><td>10</td></tr>\n",
       "\t<tr><td>chr10:100325166-100325596</td><td> 0.02724390</td><td>0.597514</td><td>-0.883929</td><td>0.883929</td><td>10</td></tr>\n",
       "</tbody>\n",
       "</table>\n"
      ],
      "text/latex": [
       "A tibble: 6 × 6\n",
       "\\begin{tabular}{llllll}\n",
       " Peak & Score\\_Mean & Score\\_Max & Score\\_Min & Score\\_Max\\_Abs & Count\\\\\n",
       " <chr> & <dbl> & <dbl> & <dbl> & <dbl> & <int>\\\\\n",
       "\\hline\n",
       "\t chr10:100065094-100065486 & -0.00323730 & 1.305380 & -0.677550 & 1.305380 & 10\\\\\n",
       "\t chr10:100185017-100187275 & -0.01202196 & 0.730481 & -0.954435 & 0.954435 & 25\\\\\n",
       "\t chr10:100240591-100241246 & -0.00780470 & 0.892650 & -0.570208 & 0.892650 & 10\\\\\n",
       "\t chr10:100267066-100268374 &  0.25902410 & 2.091760 & -0.823935 & 2.091760 & 10\\\\\n",
       "\t chr10:100289686-100290090 &  0.05728600 & 0.961458 & -0.710980 & 0.961458 & 10\\\\\n",
       "\t chr10:100325166-100325596 &  0.02724390 & 0.597514 & -0.883929 & 0.883929 & 10\\\\\n",
       "\\end{tabular}\n"
      ],
      "text/markdown": [
       "\n",
       "A tibble: 6 × 6\n",
       "\n",
       "| Peak &lt;chr&gt; | Score_Mean &lt;dbl&gt; | Score_Max &lt;dbl&gt; | Score_Min &lt;dbl&gt; | Score_Max_Abs &lt;dbl&gt; | Count &lt;int&gt; |\n",
       "|---|---|---|---|---|---|\n",
       "| chr10:100065094-100065486 | -0.00323730 | 1.305380 | -0.677550 | 1.305380 | 10 |\n",
       "| chr10:100185017-100187275 | -0.01202196 | 0.730481 | -0.954435 | 0.954435 | 25 |\n",
       "| chr10:100240591-100241246 | -0.00780470 | 0.892650 | -0.570208 | 0.892650 | 10 |\n",
       "| chr10:100267066-100268374 |  0.25902410 | 2.091760 | -0.823935 | 2.091760 | 10 |\n",
       "| chr10:100289686-100290090 |  0.05728600 | 0.961458 | -0.710980 | 0.961458 | 10 |\n",
       "| chr10:100325166-100325596 |  0.02724390 | 0.597514 | -0.883929 | 0.883929 | 10 |\n",
       "\n"
      ],
      "text/plain": [
       "  Peak                      Score_Mean  Score_Max Score_Min Score_Max_Abs Count\n",
       "1 chr10:100065094-100065486 -0.00323730 1.305380  -0.677550 1.305380      10   \n",
       "2 chr10:100185017-100187275 -0.01202196 0.730481  -0.954435 0.954435      25   \n",
       "3 chr10:100240591-100241246 -0.00780470 0.892650  -0.570208 0.892650      10   \n",
       "4 chr10:100267066-100268374  0.25902410 2.091760  -0.823935 2.091760      10   \n",
       "5 chr10:100289686-100290090  0.05728600 0.961458  -0.710980 0.961458      10   \n",
       "6 chr10:100325166-100325596  0.02724390 0.597514  -0.883929 0.883929      10   "
      ]
     },
     "metadata": {},
     "output_type": "display_data"
    }
   ],
   "source": [
    "dat = dat_peak_summary_crispri_growth\n",
    "val_count_peak_total = nrow(dat)\n",
    "val_sd = 0.5713106\n",
    "\n",
    "dat = dat %>% dplyr::filter(Count >= 5) %>% dplyr::filter(Score_Max_Abs >= val_sd * 1.5)\n",
    "val_count_peak_filter = nrow(dat)\n",
    "\n",
    "val1 = val_count_peak_filter\n",
    "val2 = val_count_peak_total\n",
    "print(paste(val1, \"/\", val2, \"=\", val1 / val2 * 100, \"%\"))\n",
    "head(dat)"
   ]
  },
  {
   "cell_type": "code",
   "execution_count": 15,
   "metadata": {},
   "outputs": [
    {
     "name": "stdout",
     "output_type": "stream",
     "text": [
      "[1] \"22041 / 80288 = 27.4524212833798 %\"\n"
     ]
    },
    {
     "data": {
      "text/html": [
       "<table class=\"dataframe\">\n",
       "<caption>A tibble: 6 × 6</caption>\n",
       "<thead>\n",
       "\t<tr><th scope=col>Peak</th><th scope=col>Score_Mean</th><th scope=col>Score_Max</th><th scope=col>Score_Min</th><th scope=col>Score_Max_Abs</th><th scope=col>Count</th></tr>\n",
       "\t<tr><th scope=col>&lt;chr&gt;</th><th scope=col>&lt;dbl&gt;</th><th scope=col>&lt;dbl&gt;</th><th scope=col>&lt;dbl&gt;</th><th scope=col>&lt;dbl&gt;</th><th scope=col>&lt;int&gt;</th></tr>\n",
       "</thead>\n",
       "<tbody>\n",
       "\t<tr><td>chr10:100065094-100065486</td><td>-0.0032373</td><td>1.30538</td><td>-0.677550</td><td>1.30538</td><td>10</td></tr>\n",
       "\t<tr><td>chr10:100267066-100268374</td><td> 0.2590241</td><td>2.09176</td><td>-0.823935</td><td>2.09176</td><td>10</td></tr>\n",
       "\t<tr><td>chr10:100346328-100347693</td><td> 1.4925327</td><td>6.29504</td><td>-0.070348</td><td>6.29504</td><td>10</td></tr>\n",
       "\t<tr><td>chr10:100358645-100359733</td><td> 1.7914824</td><td>6.14112</td><td>-0.744532</td><td>6.14112</td><td>10</td></tr>\n",
       "\t<tr><td>chr10:100370571-100371646</td><td> 0.6905307</td><td>1.97055</td><td>-0.259636</td><td>1.97055</td><td>20</td></tr>\n",
       "\t<tr><td>chr10:100373060-100374238</td><td> 1.2942563</td><td>2.91255</td><td>-0.966814</td><td>2.91255</td><td>10</td></tr>\n",
       "</tbody>\n",
       "</table>\n"
      ],
      "text/latex": [
       "A tibble: 6 × 6\n",
       "\\begin{tabular}{llllll}\n",
       " Peak & Score\\_Mean & Score\\_Max & Score\\_Min & Score\\_Max\\_Abs & Count\\\\\n",
       " <chr> & <dbl> & <dbl> & <dbl> & <dbl> & <int>\\\\\n",
       "\\hline\n",
       "\t chr10:100065094-100065486 & -0.0032373 & 1.30538 & -0.677550 & 1.30538 & 10\\\\\n",
       "\t chr10:100267066-100268374 &  0.2590241 & 2.09176 & -0.823935 & 2.09176 & 10\\\\\n",
       "\t chr10:100346328-100347693 &  1.4925327 & 6.29504 & -0.070348 & 6.29504 & 10\\\\\n",
       "\t chr10:100358645-100359733 &  1.7914824 & 6.14112 & -0.744532 & 6.14112 & 10\\\\\n",
       "\t chr10:100370571-100371646 &  0.6905307 & 1.97055 & -0.259636 & 1.97055 & 20\\\\\n",
       "\t chr10:100373060-100374238 &  1.2942563 & 2.91255 & -0.966814 & 2.91255 & 10\\\\\n",
       "\\end{tabular}\n"
      ],
      "text/markdown": [
       "\n",
       "A tibble: 6 × 6\n",
       "\n",
       "| Peak &lt;chr&gt; | Score_Mean &lt;dbl&gt; | Score_Max &lt;dbl&gt; | Score_Min &lt;dbl&gt; | Score_Max_Abs &lt;dbl&gt; | Count &lt;int&gt; |\n",
       "|---|---|---|---|---|---|\n",
       "| chr10:100065094-100065486 | -0.0032373 | 1.30538 | -0.677550 | 1.30538 | 10 |\n",
       "| chr10:100267066-100268374 |  0.2590241 | 2.09176 | -0.823935 | 2.09176 | 10 |\n",
       "| chr10:100346328-100347693 |  1.4925327 | 6.29504 | -0.070348 | 6.29504 | 10 |\n",
       "| chr10:100358645-100359733 |  1.7914824 | 6.14112 | -0.744532 | 6.14112 | 10 |\n",
       "| chr10:100370571-100371646 |  0.6905307 | 1.97055 | -0.259636 | 1.97055 | 20 |\n",
       "| chr10:100373060-100374238 |  1.2942563 | 2.91255 | -0.966814 | 2.91255 | 10 |\n",
       "\n"
      ],
      "text/plain": [
       "  Peak                      Score_Mean Score_Max Score_Min Score_Max_Abs Count\n",
       "1 chr10:100065094-100065486 -0.0032373 1.30538   -0.677550 1.30538       10   \n",
       "2 chr10:100267066-100268374  0.2590241 2.09176   -0.823935 2.09176       10   \n",
       "3 chr10:100346328-100347693  1.4925327 6.29504   -0.070348 6.29504       10   \n",
       "4 chr10:100358645-100359733  1.7914824 6.14112   -0.744532 6.14112       10   \n",
       "5 chr10:100370571-100371646  0.6905307 1.97055   -0.259636 1.97055       20   \n",
       "6 chr10:100373060-100374238  1.2942563 2.91255   -0.966814 2.91255       10   "
      ]
     },
     "metadata": {},
     "output_type": "display_data"
    }
   ],
   "source": [
    "dat = dat_peak_summary_crispri_growth\n",
    "val_count_peak_total = nrow(dat)\n",
    "val_sd = 0.5713106\n",
    "\n",
    "dat = dat %>% dplyr::filter(Count >= 5) %>% dplyr::filter(Score_Max_Abs >= val_sd * 2)\n",
    "val_count_peak_filter = nrow(dat)\n",
    "\n",
    "val1 = val_count_peak_filter\n",
    "val2 = val_count_peak_total\n",
    "print(paste(val1, \"/\", val2, \"=\", val1 / val2 * 100, \"%\"))\n",
    "head(dat)"
   ]
  },
  {
   "cell_type": "code",
   "execution_count": 16,
   "metadata": {},
   "outputs": [],
   "source": [
    "get_max_1st = function(x){\n",
    "    sort(x, decreasing = TRUE)[1]\n",
    "}\n",
    "get_max_2nd = function(x){\n",
    "    sort(x, decreasing = TRUE)[2]\n",
    "}\n",
    "\n",
    "get_min_1st = function(x){\n",
    "    sort(x, decreasing = FALSE)[1]\n",
    "}\n",
    "get_min_2nd = function(x){\n",
    "    sort(x, decreasing = FALSE)[2]\n",
    "}"
   ]
  },
  {
   "cell_type": "code",
   "execution_count": 17,
   "metadata": {},
   "outputs": [
    {
     "name": "stdout",
     "output_type": "stream",
     "text": [
      "[1] 5\n",
      "[1] 3\n",
      "[1] -2\n",
      "[1] -1\n"
     ]
    }
   ],
   "source": [
    "x = c(1, 2, 3, -1, -2, 5)\n",
    "print(get_max_1st(x))\n",
    "print(get_max_2nd(x))\n",
    "print(get_min_1st(x))\n",
    "print(get_min_2nd(x))"
   ]
  },
  {
   "cell_type": "code",
   "execution_count": 18,
   "metadata": {},
   "outputs": [
    {
     "name": "stdout",
     "output_type": "stream",
     "text": [
      "[1] 80288    10\n"
     ]
    },
    {
     "data": {
      "text/html": [
       "<table class=\"dataframe\">\n",
       "<caption>A tibble: 6 × 10</caption>\n",
       "<thead>\n",
       "\t<tr><th scope=col>Peak</th><th scope=col>Score_Mean</th><th scope=col>Score_Max</th><th scope=col>Score_Min</th><th scope=col>Score_Max_Abs</th><th scope=col>Score_Max_1</th><th scope=col>Score_Max_2</th><th scope=col>Score_Min_1</th><th scope=col>Score_Min_2</th><th scope=col>Count</th></tr>\n",
       "\t<tr><th scope=col>&lt;chr&gt;</th><th scope=col>&lt;dbl&gt;</th><th scope=col>&lt;dbl&gt;</th><th scope=col>&lt;dbl&gt;</th><th scope=col>&lt;dbl&gt;</th><th scope=col>&lt;dbl&gt;</th><th scope=col>&lt;dbl&gt;</th><th scope=col>&lt;dbl&gt;</th><th scope=col>&lt;dbl&gt;</th><th scope=col>&lt;int&gt;</th></tr>\n",
       "</thead>\n",
       "<tbody>\n",
       "\t<tr><td>chr10:100009096-100010466</td><td>-0.03786170</td><td>0.526902</td><td>-0.655965</td><td>0.655965</td><td>0.526902</td><td>0.484747</td><td>-0.655965</td><td>-0.609279</td><td>10</td></tr>\n",
       "\t<tr><td>chr10:100045961-100046653</td><td> 0.10873570</td><td>0.646953</td><td>-0.497578</td><td>0.646953</td><td>0.646953</td><td>0.568021</td><td>-0.497578</td><td>-0.212699</td><td>10</td></tr>\n",
       "\t<tr><td>chr10:100065094-100065486</td><td>-0.00323730</td><td>1.305380</td><td>-0.677550</td><td>1.305380</td><td>1.305380</td><td>0.485304</td><td>-0.677550</td><td>-0.572938</td><td>10</td></tr>\n",
       "\t<tr><td>chr10:100129051-100131059</td><td>-0.26576144</td><td>0.253159</td><td>-0.767330</td><td>0.767330</td><td>0.253159</td><td>0.059893</td><td>-0.767330</td><td>-0.671687</td><td> 9</td></tr>\n",
       "\t<tr><td>chr10:100185017-100187275</td><td>-0.01202196</td><td>0.730481</td><td>-0.954435</td><td>0.954435</td><td>0.730481</td><td>0.684225</td><td>-0.954435</td><td>-0.518497</td><td>25</td></tr>\n",
       "\t<tr><td>chr10:100228452-100230090</td><td>-0.01822050</td><td>0.446912</td><td>-0.768059</td><td>0.768059</td><td>0.446912</td><td>0.236027</td><td>-0.768059</td><td>-0.334032</td><td>10</td></tr>\n",
       "</tbody>\n",
       "</table>\n"
      ],
      "text/latex": [
       "A tibble: 6 × 10\n",
       "\\begin{tabular}{llllllllll}\n",
       " Peak & Score\\_Mean & Score\\_Max & Score\\_Min & Score\\_Max\\_Abs & Score\\_Max\\_1 & Score\\_Max\\_2 & Score\\_Min\\_1 & Score\\_Min\\_2 & Count\\\\\n",
       " <chr> & <dbl> & <dbl> & <dbl> & <dbl> & <dbl> & <dbl> & <dbl> & <dbl> & <int>\\\\\n",
       "\\hline\n",
       "\t chr10:100009096-100010466 & -0.03786170 & 0.526902 & -0.655965 & 0.655965 & 0.526902 & 0.484747 & -0.655965 & -0.609279 & 10\\\\\n",
       "\t chr10:100045961-100046653 &  0.10873570 & 0.646953 & -0.497578 & 0.646953 & 0.646953 & 0.568021 & -0.497578 & -0.212699 & 10\\\\\n",
       "\t chr10:100065094-100065486 & -0.00323730 & 1.305380 & -0.677550 & 1.305380 & 1.305380 & 0.485304 & -0.677550 & -0.572938 & 10\\\\\n",
       "\t chr10:100129051-100131059 & -0.26576144 & 0.253159 & -0.767330 & 0.767330 & 0.253159 & 0.059893 & -0.767330 & -0.671687 &  9\\\\\n",
       "\t chr10:100185017-100187275 & -0.01202196 & 0.730481 & -0.954435 & 0.954435 & 0.730481 & 0.684225 & -0.954435 & -0.518497 & 25\\\\\n",
       "\t chr10:100228452-100230090 & -0.01822050 & 0.446912 & -0.768059 & 0.768059 & 0.446912 & 0.236027 & -0.768059 & -0.334032 & 10\\\\\n",
       "\\end{tabular}\n"
      ],
      "text/markdown": [
       "\n",
       "A tibble: 6 × 10\n",
       "\n",
       "| Peak &lt;chr&gt; | Score_Mean &lt;dbl&gt; | Score_Max &lt;dbl&gt; | Score_Min &lt;dbl&gt; | Score_Max_Abs &lt;dbl&gt; | Score_Max_1 &lt;dbl&gt; | Score_Max_2 &lt;dbl&gt; | Score_Min_1 &lt;dbl&gt; | Score_Min_2 &lt;dbl&gt; | Count &lt;int&gt; |\n",
       "|---|---|---|---|---|---|---|---|---|---|\n",
       "| chr10:100009096-100010466 | -0.03786170 | 0.526902 | -0.655965 | 0.655965 | 0.526902 | 0.484747 | -0.655965 | -0.609279 | 10 |\n",
       "| chr10:100045961-100046653 |  0.10873570 | 0.646953 | -0.497578 | 0.646953 | 0.646953 | 0.568021 | -0.497578 | -0.212699 | 10 |\n",
       "| chr10:100065094-100065486 | -0.00323730 | 1.305380 | -0.677550 | 1.305380 | 1.305380 | 0.485304 | -0.677550 | -0.572938 | 10 |\n",
       "| chr10:100129051-100131059 | -0.26576144 | 0.253159 | -0.767330 | 0.767330 | 0.253159 | 0.059893 | -0.767330 | -0.671687 |  9 |\n",
       "| chr10:100185017-100187275 | -0.01202196 | 0.730481 | -0.954435 | 0.954435 | 0.730481 | 0.684225 | -0.954435 | -0.518497 | 25 |\n",
       "| chr10:100228452-100230090 | -0.01822050 | 0.446912 | -0.768059 | 0.768059 | 0.446912 | 0.236027 | -0.768059 | -0.334032 | 10 |\n",
       "\n"
      ],
      "text/plain": [
       "  Peak                      Score_Mean  Score_Max Score_Min Score_Max_Abs\n",
       "1 chr10:100009096-100010466 -0.03786170 0.526902  -0.655965 0.655965     \n",
       "2 chr10:100045961-100046653  0.10873570 0.646953  -0.497578 0.646953     \n",
       "3 chr10:100065094-100065486 -0.00323730 1.305380  -0.677550 1.305380     \n",
       "4 chr10:100129051-100131059 -0.26576144 0.253159  -0.767330 0.767330     \n",
       "5 chr10:100185017-100187275 -0.01202196 0.730481  -0.954435 0.954435     \n",
       "6 chr10:100228452-100230090 -0.01822050 0.446912  -0.768059 0.768059     \n",
       "  Score_Max_1 Score_Max_2 Score_Min_1 Score_Min_2 Count\n",
       "1 0.526902    0.484747    -0.655965   -0.609279   10   \n",
       "2 0.646953    0.568021    -0.497578   -0.212699   10   \n",
       "3 1.305380    0.485304    -0.677550   -0.572938   10   \n",
       "4 0.253159    0.059893    -0.767330   -0.671687    9   \n",
       "5 0.730481    0.684225    -0.954435   -0.518497   25   \n",
       "6 0.446912    0.236027    -0.768059   -0.334032   10   "
      ]
     },
     "metadata": {},
     "output_type": "display_data"
    }
   ],
   "source": [
    "dat = dat_peak_crispri_growth\n",
    "dat = dat %>% \n",
    "    dplyr::group_by(Peak) %>% \n",
    "    dplyr::summarise(\n",
    "        Score_Mean    = mean(Score),\n",
    "        Score_Max     = max(Score),\n",
    "        Score_Min     = min(Score),\n",
    "        Score_Max_Abs = max(abs(Score)),\n",
    "        Score_Max_1 = get_max_1st(Score),\n",
    "        Score_Max_2 = get_max_2nd(Score),\n",
    "        Score_Min_1 = get_min_1st(Score),\n",
    "        Score_Min_2 = get_min_2nd(Score),\n",
    "        Count       = n()\n",
    "    )\n",
    "\n",
    "dat_peak_summary_crispri_growth_v2 = dat\n",
    "print(dim(dat))\n",
    "head(dat)"
   ]
  },
  {
   "cell_type": "code",
   "execution_count": 31,
   "metadata": {},
   "outputs": [
    {
     "name": "stdout",
     "output_type": "stream",
     "text": [
      "[1] 80288\n",
      "[1] 77378\n",
      "[1] 43369\n",
      "[1] \"43369 / 80288 = 54.0167895575927 %\"\n"
     ]
    }
   ],
   "source": [
    "dat = dat_peak_summary_crispri_growth_v2\n",
    "val_count_peak_total = nrow(dat)\n",
    "val_sd = 0.5713106\n",
    "print(val_count_peak_total)\n",
    "\n",
    "dat = dat %>% dplyr::filter(Count >= 5)\n",
    "val_count_peak_filter = nrow(dat)\n",
    "print(val_count_peak_filter)\n",
    "\n",
    "dat1 = dat %>% \n",
    "    dplyr::filter(\n",
    "        Score_Max_1 >= val_sd, \n",
    "        Score_Max_2 >= val_sd\n",
    "    )\n",
    "dat2 = dat %>% \n",
    "    dplyr::filter(\n",
    "        abs(Score_Min_1) >= val_sd, \n",
    "        abs(Score_Min_2) >= val_sd\n",
    "    )\n",
    "\n",
    "dat = bind_rows(dat1, dat2) %>% dplyr::distinct()\n",
    "val_count_peak_filter = nrow(dat)\n",
    "print(val_count_peak_filter)\n",
    "\n",
    "dat_peak_filter_two_guide_1std = dat\n",
    "val1 = val_count_peak_filter\n",
    "val2 = val_count_peak_total\n",
    "print(paste(val1, \"/\", val2, \"=\", val1 / val2 * 100, \"%\"))"
   ]
  },
  {
   "cell_type": "code",
   "execution_count": 32,
   "metadata": {},
   "outputs": [
    {
     "name": "stdout",
     "output_type": "stream",
     "text": [
      "[1] 80288\n",
      "[1] 77378\n",
      "[1] 22041\n",
      "[1] \"22041 / 80288 = 27.4524212833798 %\"\n"
     ]
    }
   ],
   "source": [
    "dat = dat_peak_summary_crispri_growth_v2\n",
    "val_count_peak_total = nrow(dat)\n",
    "val_sd = 0.5713106\n",
    "print(val_count_peak_total)\n",
    "\n",
    "dat = dat %>% dplyr::filter(Count >= 5)\n",
    "val_count_peak_filter = nrow(dat)\n",
    "print(val_count_peak_filter)\n",
    "\n",
    "dat = dat %>% dplyr::filter(Score_Max_Abs >= val_sd*2)\n",
    "val_count_peak_filter = nrow(dat)\n",
    "print(val_count_peak_filter)\n",
    "\n",
    "dat_peak_filter_one_guide_2std = dat\n",
    "val1 = val_count_peak_filter\n",
    "val2 = val_count_peak_total\n",
    "print(paste(val1, \"/\", val2, \"=\", val1 / val2 * 100, \"%\"))"
   ]
  },
  {
   "cell_type": "code",
   "execution_count": 41,
   "metadata": {},
   "outputs": [
    {
     "name": "stdout",
     "output_type": "stream",
     "text": [
      "[1] 80288\n",
      "[1] 77378\n",
      "[1] 5353\n",
      "[1] \"5353 / 80288 = 6.66724790753288 %\"\n"
     ]
    }
   ],
   "source": [
    "dat = dat_peak_summary_crispri_growth_v2\n",
    "val_count_peak_total = nrow(dat)\n",
    "val_sd = 0.5713106\n",
    "print(val_count_peak_total)\n",
    "\n",
    "dat = dat %>% dplyr::filter(Count >= 5)\n",
    "val_count_peak_filter = nrow(dat)\n",
    "print(val_count_peak_filter)\n",
    "\n",
    "dat = dat %>% dplyr::filter(Score_Max_Abs >= val_sd*3)\n",
    "val_count_peak_filter = nrow(dat)\n",
    "print(val_count_peak_filter)\n",
    "\n",
    "dat_peak_filter_one_guide_3std = dat\n",
    "val1 = val_count_peak_filter\n",
    "val2 = val_count_peak_total\n",
    "print(paste(val1, \"/\", val2, \"=\", val1 / val2 * 100, \"%\"))"
   ]
  },
  {
   "cell_type": "code",
   "execution_count": 38,
   "metadata": {},
   "outputs": [
    {
     "data": {
      "text/html": [
       "<table class=\"dataframe\">\n",
       "<caption>A tibble: 6 × 3</caption>\n",
       "<thead>\n",
       "\t<tr><th scope=col>Chrom</th><th scope=col>Start</th><th scope=col>End</th></tr>\n",
       "\t<tr><th scope=col>&lt;chr&gt;</th><th scope=col>&lt;chr&gt;</th><th scope=col>&lt;chr&gt;</th></tr>\n",
       "</thead>\n",
       "<tbody>\n",
       "\t<tr><td>chr1</td><td>100132370</td><td>100133575</td></tr>\n",
       "\t<tr><td>chr1</td><td>100213080</td><td>100213553</td></tr>\n",
       "\t<tr><td>chr1</td><td>100248889</td><td>100250320</td></tr>\n",
       "\t<tr><td>chr1</td><td>100265529</td><td>100267006</td></tr>\n",
       "\t<tr><td>chr1</td><td>100325360</td><td>100326339</td></tr>\n",
       "\t<tr><td>chr1</td><td>100347294</td><td>100347528</td></tr>\n",
       "</tbody>\n",
       "</table>\n"
      ],
      "text/latex": [
       "A tibble: 6 × 3\n",
       "\\begin{tabular}{lll}\n",
       " Chrom & Start & End\\\\\n",
       " <chr> & <chr> & <chr>\\\\\n",
       "\\hline\n",
       "\t chr1 & 100132370 & 100133575\\\\\n",
       "\t chr1 & 100213080 & 100213553\\\\\n",
       "\t chr1 & 100248889 & 100250320\\\\\n",
       "\t chr1 & 100265529 & 100267006\\\\\n",
       "\t chr1 & 100325360 & 100326339\\\\\n",
       "\t chr1 & 100347294 & 100347528\\\\\n",
       "\\end{tabular}\n"
      ],
      "text/markdown": [
       "\n",
       "A tibble: 6 × 3\n",
       "\n",
       "| Chrom &lt;chr&gt; | Start &lt;chr&gt; | End &lt;chr&gt; |\n",
       "|---|---|---|\n",
       "| chr1 | 100132370 | 100133575 |\n",
       "| chr1 | 100213080 | 100213553 |\n",
       "| chr1 | 100248889 | 100250320 |\n",
       "| chr1 | 100265529 | 100267006 |\n",
       "| chr1 | 100325360 | 100326339 |\n",
       "| chr1 | 100347294 | 100347528 |\n",
       "\n"
      ],
      "text/plain": [
       "  Chrom Start     End      \n",
       "1 chr1  100132370 100133575\n",
       "2 chr1  100213080 100213553\n",
       "3 chr1  100248889 100250320\n",
       "4 chr1  100265529 100267006\n",
       "5 chr1  100325360 100326339\n",
       "6 chr1  100347294 100347528"
      ]
     },
     "metadata": {},
     "output_type": "display_data"
    }
   ],
   "source": [
    "dat = dat_peak_filter_two_guide_1std %>% \n",
    "    dplyr::select(Peak) %>% \n",
    "    tidyr::separate(Peak, c(\"Chrom\", \"Start\", \"End\")) %>%\n",
    "    dplyr::arrange(Chrom, Start, End)\n",
    "head(dat)"
   ]
  },
  {
   "cell_type": "code",
   "execution_count": 39,
   "metadata": {},
   "outputs": [],
   "source": [
    "fdiry = file.path(FD_RES, \"results\", \"region\", \"annotation_crispri_growth\")\n",
    "fname = \"crispri_growth_ocr_two_guide_1std.bed.gz\"\n",
    "fpath = file.path(fdiry, fname)\n",
    "\n",
    "dat = dat_peak_filter_two_guide_1std\n",
    "dat = dat %>% \n",
    "    dplyr::select(Peak) %>% \n",
    "    tidyr::separate(Peak, c(\"Chrom\", \"Start\", \"End\")) %>%\n",
    "    dplyr::arrange(Chrom, Start, End)\n",
    "\n",
    "write_tsv(dat, fpath, col_names=FALSE)"
   ]
  },
  {
   "cell_type": "code",
   "execution_count": 40,
   "metadata": {},
   "outputs": [],
   "source": [
    "fdiry = file.path(FD_RES, \"results\", \"region\", \"annotation_crispri_growth\")\n",
    "fname = \"crispri_growth_ocr_one_guide_2std.bed.gz\"\n",
    "fpath = file.path(fdiry, fname)\n",
    "\n",
    "dat = dat_peak_filter_one_guide_2std\n",
    "dat = dat %>% \n",
    "    dplyr::select(Peak) %>% \n",
    "    tidyr::separate(Peak, c(\"Chrom\", \"Start\", \"End\")) %>%\n",
    "    dplyr::arrange(Chrom, Start, End)\n",
    "\n",
    "write_tsv(dat, fpath, col_names=FALSE)"
   ]
  },
  {
   "cell_type": "code",
   "execution_count": 42,
   "metadata": {},
   "outputs": [],
   "source": [
    "fdiry = file.path(FD_RES, \"results\", \"region\", \"annotation_crispri_growth\")\n",
    "fname = \"crispri_growth_ocr_one_guide_3std.bed.gz\"\n",
    "fpath = file.path(fdiry, fname)\n",
    "\n",
    "dat = dat_peak_filter_one_guide_3std\n",
    "dat = dat %>% \n",
    "    dplyr::select(Peak) %>% \n",
    "    tidyr::separate(Peak, c(\"Chrom\", \"Start\", \"End\")) %>%\n",
    "    dplyr::arrange(Chrom, Start, End)\n",
    "\n",
    "write_tsv(dat, fpath, col_names=FALSE)"
   ]
  },
  {
   "cell_type": "code",
   "execution_count": null,
   "metadata": {},
   "outputs": [],
   "source": []
  }
 ],
 "metadata": {
  "kernelspec": {
   "display_name": "R",
   "language": "R",
   "name": "ir"
  },
  "language_info": {
   "codemirror_mode": "r",
   "file_extension": ".r",
   "mimetype": "text/x-r-source",
   "name": "R",
   "pygments_lexer": "r",
   "version": "4.3.0"
  }
 },
 "nbformat": 4,
 "nbformat_minor": 4
}
