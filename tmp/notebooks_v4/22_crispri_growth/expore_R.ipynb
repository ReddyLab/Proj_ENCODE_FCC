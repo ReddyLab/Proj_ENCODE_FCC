{
 "cells": [
  {
   "cell_type": "code",
   "execution_count": 1,
   "metadata": {},
   "outputs": [
    {
     "name": "stdout",
     "output_type": "stream",
     "text": [
      "You are in Singularity: singularity_proj_encode_fcc \n",
      "BASE DIRECTORY (FD_BASE): /data/reddylab/Kuei \n",
      "WORK DIRECTORY (FD_WORK): /data/reddylab/Kuei/out \n",
      "CODE DIRECTORY (FD_CODE): /data/reddylab/Kuei/code \n",
      "PATH OF PROJECT (FD_PRJ): /data/reddylab/Kuei/code/Proj_CombEffect_ENCODE_FCC \n",
      "PATH OF RESULTS (FD_RES): /data/reddylab/Kuei/out/proj_combeffect_encode_fcc \n",
      "PATH OF LOG     (FD_LOG): /data/reddylab/Kuei/out/proj_combeffect_encode_fcc/log \n"
     ]
    }
   ],
   "source": [
    "suppressMessages(suppressWarnings(source(\"../config/config_sing.R\")))\n",
    "show_env()"
   ]
  },
  {
   "cell_type": "code",
   "execution_count": 5,
   "metadata": {},
   "outputs": [
    {
     "data": {
      "text/html": [
       "<style>\n",
       ".list-inline {list-style: none; margin:0; padding: 0}\n",
       ".list-inline>li {display: inline-block}\n",
       ".list-inline>li:not(:last-child)::after {content: \"\\00b7\"; padding: 0 .5ex}\n",
       "</style>\n",
       "<ol class=list-inline><li>'CRISPRi_rAVG_log2FC_2.bed'</li><li>'CRISPRi_rAVG_log2FC_2.wig'</li></ol>\n"
      ],
      "text/latex": [
       "\\begin{enumerate*}\n",
       "\\item 'CRISPRi\\_rAVG\\_log2FC\\_2.bed'\n",
       "\\item 'CRISPRi\\_rAVG\\_log2FC\\_2.wig'\n",
       "\\end{enumerate*}\n"
      ],
      "text/markdown": [
       "1. 'CRISPRi_rAVG_log2FC_2.bed'\n",
       "2. 'CRISPRi_rAVG_log2FC_2.wig'\n",
       "\n",
       "\n"
      ],
      "text/plain": [
       "[1] \"CRISPRi_rAVG_log2FC_2.bed\" \"CRISPRi_rAVG_log2FC_2.wig\""
      ]
     },
     "metadata": {},
     "output_type": "display_data"
    }
   ],
   "source": [
    "fdiry = file.path(FD_RES, \"results\", \"CRISPRi_Growth_K562_Gersbach\", \"coverage\")\n",
    "dir(fdiry)"
   ]
  },
  {
   "cell_type": "code",
   "execution_count": 6,
   "metadata": {},
   "outputs": [
    {
     "data": {
      "text/html": [
       "<style>\n",
       ".list-inline {list-style: none; margin:0; padding: 0}\n",
       ".list-inline>li {display: inline-block}\n",
       ".list-inline>li:not(:last-child)::after {content: \"\\00b7\"; padding: 0 .5ex}\n",
       "</style>\n",
       "<ol class=list-inline><li>'chr1\\t605580\\t605581\\tid-1\\t-0.180660'</li><li>'chr1\\t605581\\t605582\\tid-2\\t0.486646'</li><li>'chr1\\t605589\\t605590\\tid-3\\t3.171240'</li><li>'chr1\\t605591\\t605592\\tid-4\\t-0.364573'</li><li>'chr1\\t605592\\t605593\\tid-5\\t-0.206319'</li><li>'chr1\\t605609\\t605610\\tid-6\\t-0.266750'</li><li>'chr1\\t605617\\t605618\\tid-7\\t-0.774100'</li><li>'chr1\\t605618\\t605619\\tid-8\\t-0.353224'</li><li>'chr1\\t605619\\t605620\\tid-9\\t-0.187707'</li><li>'chr1\\t605620\\t605621\\tid-10\\t-0.420401'</li></ol>\n"
      ],
      "text/latex": [
       "\\begin{enumerate*}\n",
       "\\item 'chr1\\textbackslash{}t605580\\textbackslash{}t605581\\textbackslash{}tid-1\\textbackslash{}t-0.180660'\n",
       "\\item 'chr1\\textbackslash{}t605581\\textbackslash{}t605582\\textbackslash{}tid-2\\textbackslash{}t0.486646'\n",
       "\\item 'chr1\\textbackslash{}t605589\\textbackslash{}t605590\\textbackslash{}tid-3\\textbackslash{}t3.171240'\n",
       "\\item 'chr1\\textbackslash{}t605591\\textbackslash{}t605592\\textbackslash{}tid-4\\textbackslash{}t-0.364573'\n",
       "\\item 'chr1\\textbackslash{}t605592\\textbackslash{}t605593\\textbackslash{}tid-5\\textbackslash{}t-0.206319'\n",
       "\\item 'chr1\\textbackslash{}t605609\\textbackslash{}t605610\\textbackslash{}tid-6\\textbackslash{}t-0.266750'\n",
       "\\item 'chr1\\textbackslash{}t605617\\textbackslash{}t605618\\textbackslash{}tid-7\\textbackslash{}t-0.774100'\n",
       "\\item 'chr1\\textbackslash{}t605618\\textbackslash{}t605619\\textbackslash{}tid-8\\textbackslash{}t-0.353224'\n",
       "\\item 'chr1\\textbackslash{}t605619\\textbackslash{}t605620\\textbackslash{}tid-9\\textbackslash{}t-0.187707'\n",
       "\\item 'chr1\\textbackslash{}t605620\\textbackslash{}t605621\\textbackslash{}tid-10\\textbackslash{}t-0.420401'\n",
       "\\end{enumerate*}\n"
      ],
      "text/markdown": [
       "1. 'chr1\\t605580\\t605581\\tid-1\\t-0.180660'\n",
       "2. 'chr1\\t605581\\t605582\\tid-2\\t0.486646'\n",
       "3. 'chr1\\t605589\\t605590\\tid-3\\t3.171240'\n",
       "4. 'chr1\\t605591\\t605592\\tid-4\\t-0.364573'\n",
       "5. 'chr1\\t605592\\t605593\\tid-5\\t-0.206319'\n",
       "6. 'chr1\\t605609\\t605610\\tid-6\\t-0.266750'\n",
       "7. 'chr1\\t605617\\t605618\\tid-7\\t-0.774100'\n",
       "8. 'chr1\\t605618\\t605619\\tid-8\\t-0.353224'\n",
       "9. 'chr1\\t605619\\t605620\\tid-9\\t-0.187707'\n",
       "10. 'chr1\\t605620\\t605621\\tid-10\\t-0.420401'\n",
       "\n",
       "\n"
      ],
      "text/plain": [
       " [1] \"chr1\\t605580\\t605581\\tid-1\\t-0.180660\" \n",
       " [2] \"chr1\\t605581\\t605582\\tid-2\\t0.486646\"  \n",
       " [3] \"chr1\\t605589\\t605590\\tid-3\\t3.171240\"  \n",
       " [4] \"chr1\\t605591\\t605592\\tid-4\\t-0.364573\" \n",
       " [5] \"chr1\\t605592\\t605593\\tid-5\\t-0.206319\" \n",
       " [6] \"chr1\\t605609\\t605610\\tid-6\\t-0.266750\" \n",
       " [7] \"chr1\\t605617\\t605618\\tid-7\\t-0.774100\" \n",
       " [8] \"chr1\\t605618\\t605619\\tid-8\\t-0.353224\" \n",
       " [9] \"chr1\\t605619\\t605620\\tid-9\\t-0.187707\" \n",
       "[10] \"chr1\\t605620\\t605621\\tid-10\\t-0.420401\""
      ]
     },
     "metadata": {},
     "output_type": "display_data"
    }
   ],
   "source": [
    "fdiry = file.path(FD_RES, \"results\", \"CRISPRi_Growth_K562_Gersbach\", \"coverage\")\n",
    "fname = \"CRISPRi_rAVG_log2FC_2.bed\"\n",
    "fpath = file.path(fdiry, fname)\n",
    "\n",
    "txt = paste(\"head\", fpath)\n",
    "system(txt, intern=TRUE)"
   ]
  },
  {
   "cell_type": "code",
   "execution_count": 8,
   "metadata": {},
   "outputs": [
    {
     "name": "stderr",
     "output_type": "stream",
     "text": [
      "\u001b[1mRows: \u001b[22m\u001b[34m1083147\u001b[39m \u001b[1mColumns: \u001b[22m\u001b[34m5\u001b[39m\n",
      "\u001b[36m──\u001b[39m \u001b[1mColumn specification\u001b[22m \u001b[36m─────────────────────────────────────────────────────────────────────\u001b[39m\n",
      "\u001b[1mDelimiter:\u001b[22m \"\\t\"\n",
      "\u001b[31mchr\u001b[39m (2): Chrom, Name\n",
      "\u001b[32mdbl\u001b[39m (3): Start, End, Score\n",
      "\n",
      "\u001b[36mℹ\u001b[39m Use `spec()` to retrieve the full column specification for this data.\n",
      "\u001b[36mℹ\u001b[39m Specify the column types or set `show_col_types = FALSE` to quiet this message.\n"
     ]
    },
    {
     "name": "stdout",
     "output_type": "stream",
     "text": [
      "[1] 1083147       5\n"
     ]
    },
    {
     "data": {
      "text/html": [
       "<table class=\"dataframe\">\n",
       "<caption>A tibble: 6 × 5</caption>\n",
       "<thead>\n",
       "\t<tr><th scope=col>Chrom</th><th scope=col>Start</th><th scope=col>End</th><th scope=col>Name</th><th scope=col>Score</th></tr>\n",
       "\t<tr><th scope=col>&lt;chr&gt;</th><th scope=col>&lt;dbl&gt;</th><th scope=col>&lt;dbl&gt;</th><th scope=col>&lt;chr&gt;</th><th scope=col>&lt;dbl&gt;</th></tr>\n",
       "</thead>\n",
       "<tbody>\n",
       "\t<tr><td>chr1</td><td>605580</td><td>605581</td><td>id-1</td><td>-0.180660</td></tr>\n",
       "\t<tr><td>chr1</td><td>605581</td><td>605582</td><td>id-2</td><td> 0.486646</td></tr>\n",
       "\t<tr><td>chr1</td><td>605589</td><td>605590</td><td>id-3</td><td> 3.171240</td></tr>\n",
       "\t<tr><td>chr1</td><td>605591</td><td>605592</td><td>id-4</td><td>-0.364573</td></tr>\n",
       "\t<tr><td>chr1</td><td>605592</td><td>605593</td><td>id-5</td><td>-0.206319</td></tr>\n",
       "\t<tr><td>chr1</td><td>605609</td><td>605610</td><td>id-6</td><td>-0.266750</td></tr>\n",
       "</tbody>\n",
       "</table>\n"
      ],
      "text/latex": [
       "A tibble: 6 × 5\n",
       "\\begin{tabular}{lllll}\n",
       " Chrom & Start & End & Name & Score\\\\\n",
       " <chr> & <dbl> & <dbl> & <chr> & <dbl>\\\\\n",
       "\\hline\n",
       "\t chr1 & 605580 & 605581 & id-1 & -0.180660\\\\\n",
       "\t chr1 & 605581 & 605582 & id-2 &  0.486646\\\\\n",
       "\t chr1 & 605589 & 605590 & id-3 &  3.171240\\\\\n",
       "\t chr1 & 605591 & 605592 & id-4 & -0.364573\\\\\n",
       "\t chr1 & 605592 & 605593 & id-5 & -0.206319\\\\\n",
       "\t chr1 & 605609 & 605610 & id-6 & -0.266750\\\\\n",
       "\\end{tabular}\n"
      ],
      "text/markdown": [
       "\n",
       "A tibble: 6 × 5\n",
       "\n",
       "| Chrom &lt;chr&gt; | Start &lt;dbl&gt; | End &lt;dbl&gt; | Name &lt;chr&gt; | Score &lt;dbl&gt; |\n",
       "|---|---|---|---|---|\n",
       "| chr1 | 605580 | 605581 | id-1 | -0.180660 |\n",
       "| chr1 | 605581 | 605582 | id-2 |  0.486646 |\n",
       "| chr1 | 605589 | 605590 | id-3 |  3.171240 |\n",
       "| chr1 | 605591 | 605592 | id-4 | -0.364573 |\n",
       "| chr1 | 605592 | 605593 | id-5 | -0.206319 |\n",
       "| chr1 | 605609 | 605610 | id-6 | -0.266750 |\n",
       "\n"
      ],
      "text/plain": [
       "  Chrom Start  End    Name Score    \n",
       "1 chr1  605580 605581 id-1 -0.180660\n",
       "2 chr1  605581 605582 id-2  0.486646\n",
       "3 chr1  605589 605590 id-3  3.171240\n",
       "4 chr1  605591 605592 id-4 -0.364573\n",
       "5 chr1  605592 605593 id-5 -0.206319\n",
       "6 chr1  605609 605610 id-6 -0.266750"
      ]
     },
     "metadata": {},
     "output_type": "display_data"
    }
   ],
   "source": [
    "fdiry = file.path(FD_RES, \"results\", \"CRISPRi_Growth_K562_Gersbach\", \"coverage\")\n",
    "fname = \"CRISPRi_rAVG_log2FC_2.bed\"\n",
    "fpath = file.path(fdiry, fname)\n",
    "\n",
    "cnames = c(\"Chrom\", \"Start\", \"End\", \"Name\", \"Score\")\n",
    "dat = read_tsv(fpath, col_names = cnames)\n",
    "\n",
    "### assign and show\n",
    "dat_guides_crispri_growth = dat\n",
    "print(dim(dat))\n",
    "head(dat)"
   ]
  },
  {
   "cell_type": "code",
   "execution_count": 11,
   "metadata": {},
   "outputs": [
    {
     "data": {
      "text/plain": [
       "     Min.   1st Qu.    Median      Mean   3rd Qu.      Max. \n",
       "-8.901310 -0.328361 -0.025019  0.000325  0.287618 16.367500 "
      ]
     },
     "metadata": {},
     "output_type": "display_data"
    }
   ],
   "source": [
    "summary(dat$Score)"
   ]
  },
  {
   "cell_type": "code",
   "execution_count": 20,
   "metadata": {},
   "outputs": [
    {
     "name": "stdout",
     "output_type": "stream",
     "text": [
      "[1] 1083147       5\n",
      "[1] 1077211       5\n"
     ]
    },
    {
     "data": {
      "image/png": "[encoded data removed]",
      "text/plain": [
       "plot without title"
      ]
     },
     "metadata": {
      "image/png": {
       "height": 300,
       "width": 480
      }
     },
     "output_type": "display_data"
    }
   ],
   "source": [
    "dat = dat_guides_crispri_growth\n",
    "print(dim(dat))\n",
    "dat = dat %>% dplyr::filter(abs(Score) < 2)\n",
    "print(dim(dat))\n",
    "\n",
    "gpt = ggplot(dat, aes(x=Score)) + \n",
    "    geom_histogram(binwidth = 0.1) +\n",
    "    geom_vline(xintercept = c(0)) +\n",
    "    theme_cowplot()\n",
    "\n",
    "options(repr.plot.height=5, repr.plot.width=8)\n",
    "print(gpt)"
   ]
  },
  {
   "cell_type": "code",
   "execution_count": 22,
   "metadata": {},
   "outputs": [
    {
     "name": "stdout",
     "output_type": "stream",
     "text": [
      "[1] 0.0003245292\n",
      "[1] 0.5713106\n"
     ]
    }
   ],
   "source": [
    "dat = dat_guides_crispri_growth\n",
    "vec = dat$Score\n",
    "print(mean(vec))\n",
    "print(sd(vec))"
   ]
  },
  {
   "cell_type": "code",
   "execution_count": 31,
   "metadata": {},
   "outputs": [
    {
     "data": {
      "image/png": "[encoded data removed]",
      "text/plain": [
       "plot without title"
      ]
     },
     "metadata": {
      "image/png": {
       "height": 300,
       "width": 480
      }
     },
     "output_type": "display_data"
    }
   ],
   "source": [
    "### init\n",
    "dat = dat_guides_crispri_growth\n",
    "vec = dat$Score\n",
    "\n",
    "### stats\n",
    "val_mu = mean(vec)\n",
    "val_sd = sd(vec)\n",
    "vec_sd = c(val_sd, -val_sd)\n",
    "\n",
    "### visualize\n",
    "dat = dat %>% dplyr::filter(abs(Score) < 2)\n",
    "gpt = ggplot(dat, aes(x=Score)) + \n",
    "    geom_histogram(binwidth = 0.1) +\n",
    "    geom_vline(xintercept = vec_sd * 1.0, linetype=\"dashed\", color=\"red\") +\n",
    "    geom_vline(xintercept = vec_sd * 1.5, linetype=\"dashed\", color=\"blue\") +\n",
    "    geom_vline(xintercept = vec_sd * 2.0, linetype=\"dashed\", color=\"chartreuse4\") +\n",
    "    theme_cowplot()\n",
    "\n",
    "options(repr.plot.height=5, repr.plot.width=8)\n",
    "print(gpt)"
   ]
  },
  {
   "cell_type": "code",
   "execution_count": null,
   "metadata": {},
   "outputs": [],
   "source": []
  }
 ],
 "metadata": {
  "kernelspec": {
   "display_name": "R",
   "language": "R",
   "name": "ir"
  },
  "language_info": {
   "codemirror_mode": "r",
   "file_extension": ".r",
   "mimetype": "text/x-r-source",
   "name": "R",
   "pygments_lexer": "r",
   "version": "4.3.0"
  }
 },
 "nbformat": 4,
 "nbformat_minor": 4
}
