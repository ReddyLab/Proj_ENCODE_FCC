{
 "cells": [
  {
   "cell_type": "code",
   "execution_count": 1,
   "id": "65e1b301",
   "metadata": {},
   "outputs": [],
   "source": [
    "#SSH_TRACK=kk319@trackhub.genome.duke.edu"
   ]
  },
  {
   "cell_type": "code",
   "execution_count": 1,
   "id": "236fa480",
   "metadata": {},
   "outputs": [
    {
     "name": "stdout",
     "output_type": "stream",
     "text": [
      "You are on Duke Server: HARDAC\n",
      "BASE DIRECTORY (FD_BASE): /data/reddylab/Kuei\n",
      "WORK DIRECTORY (FD_WORK): /data/reddylab/Kuei/out\n",
      "CODE DIRECTORY (FD_CODE): /data/reddylab/Kuei/code\n",
      "SING DIRECTORY (FD_SING): /data/reddylab/Kuei/singularity\n",
      "PATH OF PROJECT (FD_PRJ): /data/reddylab/Kuei/code/Proj_CombEffect_ENCODE_FCC\n",
      "PATH OF RESULTS (FD_RES): /data/reddylab/Kuei/out/proj_combeffect_encode_fcc\n",
      "PATH OF LOG     (FD_LOG): /data/reddylab/Kuei/out/proj_combeffect_encode_fcc/log\n",
      "\n"
     ]
    }
   ],
   "source": [
    "source ../config/config_duke.sh\n",
    "show_env"
   ]
  },
  {
   "cell_type": "code",
   "execution_count": 2,
   "id": "622fc2ae",
   "metadata": {},
   "outputs": [
    {
     "name": "stdout",
     "output_type": "stream",
     "text": [
      "/data/reddylab/Kuei/out\n",
      "\u001b[0m\u001b[38;5;27mtrack_annotation\u001b[0m   \u001b[38;5;27mtrack_crispri_growth\u001b[0m  \u001b[38;5;27mtrack_hic_loop\u001b[0m\n",
      "\u001b[38;5;27mtrack_crispri_e2g\u001b[0m  \u001b[38;5;27mtrack_crispri_hcrff\u001b[0m   \u001b[38;5;27mtrack_starrmpra\u001b[0m\n"
     ]
    }
   ],
   "source": [
    "echo ${FD_WORK}\n",
    "ls   ${FD_WORK}/trackhub/proj_combeffect_encode_fcc"
   ]
  },
  {
   "cell_type": "markdown",
   "id": "7336be06-2c12-4690-b8a4-f34f1eb6a0b4",
   "metadata": {},
   "source": [
    "```\n",
    "tar -zcvf archive-name.tar.gz source-directory-name\n",
    "-z : Compress archive using gzip program in Linux or Unix\n",
    "-c : Create archive on Linux\n",
    "-v : Verbose i.e display progress while creating archive\n",
    "-f : Archive File name\n",
    "```"
   ]
  },
  {
   "cell_type": "code",
   "execution_count": 4,
   "id": "0ed0314a-5cde-4450-99a4-cd660c11c8de",
   "metadata": {},
   "outputs": [
    {
     "name": "stdout",
     "output_type": "stream",
     "text": [
      "proj_combeffect_encode_fcc/\n",
      "proj_combeffect_encode_fcc/track_hic_loop/\n",
      "proj_combeffect_encode_fcc/.ipynb_checkpoints/\n",
      "proj_combeffect_encode_fcc/track_starrmpra/\n",
      "proj_combeffect_encode_fcc/track_starrmpra/.ipynb_checkpoints/\n",
      "proj_combeffect_encode_fcc/track_starrmpra/track_signal_smooth_w1000_s1/\n",
      "proj_combeffect_encode_fcc/track_starrmpra/track_signal_smooth_w1000_s1/MPRA_Lenti.K562.Nadav.hg38.ZScore.mean.SUBSET.unstranded.bw\n",
      "proj_combeffect_encode_fcc/track_starrmpra/track_signal_smooth_w1000_s1/STARRseq_ATAC.K562.TR.hg38.pLog2FC.mean.SUBSET.unstranded.bw\n",
      "proj_combeffect_encode_fcc/track_starrmpra/track_signal_smooth_w1000_s1/MPRA_Tiling.K562.Tewhey.hg38.Log2FC_norm.mean.MERGE.stranded_pos.bw\n",
      "proj_combeffect_encode_fcc/track_starrmpra/track_signal_smooth_w1000_s1/STARRseq_WHG.K562.TR.hg38.pLog2FC.mean.SUBSET.unstranded.bw\n",
      "proj_combeffect_encode_fcc/track_starrmpra/track_signal_original/\n",
      "proj_combeffect_encode_fcc/track_starrmpra/track_signal_original/MPRA_Lenti.K562.Nadav.hg38.ZScore.mean.SUBSET.unstranded.bw\n",
      "proj_combeffect_encode_fcc/track_starrmpra/track_signal_original/STARRseq_ATAC.K562.TR.hg38.pLog2FC.mean.SUBSET.unstranded.bw\n",
      "proj_combeffect_encode_fcc/track_starrmpra/track_signal_original/MPRA_Tiling.K562.Tewhey.hg38.Log2FC_norm.mean.MERGE.stranded_pos.bw\n",
      "proj_combeffect_encode_fcc/track_starrmpra/track_signal_original/STARRseq_WHG.K562.TR.hg38.pLog2FC.mean.SUBSET.unstranded.bw\n",
      "proj_combeffect_encode_fcc/track_starrmpra/track_signal_original/STARRseq_ATAC.K562.TR.hg38.Input.mean.SUBSET.unstranded.bw\n",
      "proj_combeffect_encode_fcc/track_starrmpra/track_region/\n",
      "proj_combeffect_encode_fcc/track_starrmpra/track_region/enhancer_zscore_junke.peak.ASTARR_A.bed.gz\n",
      "proj_combeffect_encode_fcc/track_starrmpra/track_region/enhancer_zscore_junke.peak.LMPRA_R.bed.gz\n",
      "proj_combeffect_encode_fcc/track_starrmpra/track_region/enhancer_zscore_junke.peak.LMPRA_A.bed.gz\n",
      "proj_combeffect_encode_fcc/track_starrmpra/track_region/enhancer_zscore_junke.peak.WSTARR_AB.bed.gz\n",
      "proj_combeffect_encode_fcc/track_starrmpra/track_region/enhancer_zscore_junke.peak.WSTARR_R.bed.gz\n",
      "proj_combeffect_encode_fcc/track_starrmpra/track_region/enhancer_zscore_junke.peak.WSTARR_A.bed.gz\n",
      "proj_combeffect_encode_fcc/track_starrmpra/track_region/KS91_K562_hg38_ASTARRseq_Input.all_reps.masked.union_narrowPeak.q5.bed.gz\n",
      "proj_combeffect_encode_fcc/track_starrmpra/track_region/enhancer_zscore_junke.peak.ASTARR_R.bed.gz\n",
      "proj_combeffect_encode_fcc/track_starrmpra/track_region/enhancer_zscore_junke.peak.TMPRA_A.bed.gz\n",
      "proj_combeffect_encode_fcc/track_starrmpra/track_region/enhancer_zscore_junke.peak.ASTARR_AB.bed.gz\n",
      "proj_combeffect_encode_fcc/track_starrmpra/track_region/enhancer_zscore_junke.peak.TMPRA_R.bed.gz\n",
      "proj_combeffect_encode_fcc/track_starrmpra/track_region/enhancer_zscore_junke.peak.LMPRA_AB.bed.gz\n",
      "proj_combeffect_encode_fcc/track_crispri_e2g/\n",
      "proj_combeffect_encode_fcc/track_crispri_e2g/.ipynb_checkpoints/\n",
      "proj_combeffect_encode_fcc/track_crispri_e2g/track_region/\n",
      "proj_combeffect_encode_fcc/track_crispri_e2g/track_region/.ipynb_checkpoints/\n",
      "proj_combeffect_encode_fcc/track_crispri_e2g/track_region/CRISPRi_e2g.K562.EPBenchmark.hg38.region2TSS.bedpe.gz\n",
      "proj_combeffect_encode_fcc/track_crispri_e2g/track_region/CRISPRi_e2g.K562.EPBenchmark.hg38.region.bed.gz\n",
      "proj_combeffect_encode_fcc/track_crispri_e2g/track_region/CRISPRi_e2g.K562.EPBenchmark.hg38.region2TSS.bigInteract\n",
      "proj_combeffect_encode_fcc/track_crispri_growth/\n",
      "proj_combeffect_encode_fcc/track_crispri_growth/.ipynb_checkpoints/\n",
      "proj_combeffect_encode_fcc/track_crispri_growth/track_signal/\n",
      "proj_combeffect_encode_fcc/track_crispri_growth/track_signal/CRISPRi_growth.K562.Gersbach.hg38.ZScore.unstranded.bw\n",
      "proj_combeffect_encode_fcc/track_crispri_growth/track_region/\n",
      "proj_combeffect_encode_fcc/track_crispri_growth/track_region/CRISPRi_growth.K562.Gersbach.hg38.dhs.region_call.signif_guides.bed.gz\n",
      "proj_combeffect_encode_fcc/track_annotation/\n",
      "proj_combeffect_encode_fcc/track_annotation/K562.ENCSR913HQX.ENCFF286VQG.ccres.cat2name.bed.gz\n",
      "proj_combeffect_encode_fcc/track_annotation/K562.TSS.selected_by_highest_Pol2_signal.bed.gz\n",
      "proj_combeffect_encode_fcc/track_annotation/K562.ENCSR365YNI.ENCFF106BGJ.ChromHMM.bed.gz\n",
      "proj_combeffect_encode_fcc/track_annotation/enhancer_merge.region.starrmpra_crispri_atac.bed.gz\n",
      "proj_combeffect_encode_fcc/track_crispri_hcrff/\n",
      "proj_combeffect_encode_fcc/track_crispri_hcrff/.ipynb_checkpoints/\n",
      "proj_combeffect_encode_fcc/track_crispri_hcrff/track_signal_filtered/\n",
      "proj_combeffect_encode_fcc/track_crispri_hcrff/track_signal_filtered/CRISPRi_hcrff.K562.Reilly.hg38.ZScore.HDAC6.unstranded.bw\n",
      "proj_combeffect_encode_fcc/track_crispri_hcrff/track_signal_filtered/CRISPRi_hcrff.K562.Reilly.hg38.ZScore.FADS2.unstranded.bw\n",
      "proj_combeffect_encode_fcc/track_crispri_hcrff/track_signal_filtered/CRISPRi_hcrff.K562.Reilly.hg38.ZScore.HBG1.unstranded.bw\n",
      "proj_combeffect_encode_fcc/track_crispri_hcrff/track_signal_filtered/CRISPRi_hcrff.K562.Reilly.hg38.ZScore.CAPRIN1.unstranded.bw\n",
      "proj_combeffect_encode_fcc/track_crispri_hcrff/track_signal_filtered/CRISPRi_hcrff.K562.Reilly.hg38.ZScore.HBG2.unstranded.bw\n",
      "proj_combeffect_encode_fcc/track_crispri_hcrff/track_signal_filtered/CRISPRi_hcrff.K562.Reilly.hg38.ZScore.MYC.unstranded.bw\n",
      "proj_combeffect_encode_fcc/track_crispri_hcrff/track_signal_filtered/CRISPRi_hcrff.K562.Reilly.hg38.ZScore.FADS1.unstranded.bw\n",
      "proj_combeffect_encode_fcc/track_crispri_hcrff/track_signal_filtered/CRISPRi_hcrff.K562.Reilly.hg38.ZScore.PVT1.unstranded.bw\n",
      "proj_combeffect_encode_fcc/track_crispri_hcrff/track_signal_filtered/CRISPRi_hcrff.K562.Reilly.hg38.ZScore.MEF2C.unstranded.bw\n",
      "proj_combeffect_encode_fcc/track_crispri_hcrff/track_signal_filtered/CRISPRi_hcrff.K562.Reilly.hg38.ZScore.LMO2.unstranded.bw\n",
      "proj_combeffect_encode_fcc/track_crispri_hcrff/track_signal_filtered/CRISPRi_hcrff.K562.Reilly.hg38.ZScore.MYB.unstranded.bw\n",
      "proj_combeffect_encode_fcc/track_crispri_hcrff/track_signal_filtered/CRISPRi_hcrff.K562.Reilly.hg38.ZScore.CD164.unstranded.bw\n",
      "proj_combeffect_encode_fcc/track_crispri_hcrff/track_signal_filtered/CRISPRi_hcrff.K562.Reilly.hg38.ZScore.HBE1.unstranded.bw\n",
      "proj_combeffect_encode_fcc/track_crispri_hcrff/track_signal_filtered/CRISPRi_hcrff.K562.Reilly.hg38.ZScore.FEN1.unstranded.bw\n",
      "proj_combeffect_encode_fcc/track_crispri_hcrff/track_signal_filtered/CRISPRi_hcrff.K562.Reilly.hg38.ZScore.HBS1L.unstranded.bw\n",
      "proj_combeffect_encode_fcc/track_crispri_hcrff/track_signal_filtered/CRISPRi_hcrff.K562.Reilly.hg38.ZScore.NMU.unstranded.bw\n",
      "proj_combeffect_encode_fcc/track_crispri_hcrff/track_signal_filtered/CRISPRi_hcrff.K562.Reilly.hg38.ZScore.CAT.unstranded.bw\n",
      "proj_combeffect_encode_fcc/track_crispri_hcrff/track_signal_filtered/CRISPRi_hcrff.K562.Reilly.hg38.ZScore.ERP29.unstranded.bw\n",
      "proj_combeffect_encode_fcc/track_crispri_hcrff/track_signal_filtered/CRISPRi_hcrff.K562.Reilly.hg38.ZScore.GATA1.unstranded.bw\n",
      "proj_combeffect_encode_fcc/track_crispri_hcrff/track_signal_filtered/CRISPRi_hcrff.K562.Reilly.hg38.ZScore.FADS3.unstranded.bw\n",
      "proj_combeffect_encode_fcc/track_crispri_hcrff/track_signal/\n",
      "proj_combeffect_encode_fcc/track_crispri_hcrff/track_signal/CRISPRi_hcrff.K562.Reilly.hg38.ZScore.HDAC6.unstranded.bw\n",
      "proj_combeffect_encode_fcc/track_crispri_hcrff/track_signal/CRISPRi_hcrff.K562.Reilly.hg38.ZScore.FADS2.unstranded.bw\n",
      "proj_combeffect_encode_fcc/track_crispri_hcrff/track_signal/CRISPRi_hcrff.K562.Reilly.hg38.ZScore.HBG1.unstranded.bw\n",
      "proj_combeffect_encode_fcc/track_crispri_hcrff/track_signal/CRISPRi_hcrff.K562.Reilly.hg38.ZScore.CAPRIN1.unstranded.bw\n",
      "proj_combeffect_encode_fcc/track_crispri_hcrff/track_signal/CRISPRi_hcrff.K562.Reilly.hg38.ZScore.HBG2.unstranded.bw\n",
      "proj_combeffect_encode_fcc/track_crispri_hcrff/track_signal/CRISPRi_hcrff.K562.Reilly.hg38.ZScore.MYC.unstranded.bw\n",
      "proj_combeffect_encode_fcc/track_crispri_hcrff/track_signal/CRISPRi_hcrff.K562.Reilly.hg38.ZScore.FADS1.unstranded.bw\n",
      "proj_combeffect_encode_fcc/track_crispri_hcrff/track_signal/CRISPRi_hcrff.K562.Reilly.hg38.ZScore.PVT1.unstranded.bw\n",
      "proj_combeffect_encode_fcc/track_crispri_hcrff/track_signal/CRISPRi_hcrff.K562.Reilly.hg38.ZScore.MEF2C.unstranded.bw\n",
      "proj_combeffect_encode_fcc/track_crispri_hcrff/track_signal/CRISPRi_hcrff.K562.Reilly.hg38.ZScore.LMO2.unstranded.bw\n",
      "proj_combeffect_encode_fcc/track_crispri_hcrff/track_signal/CRISPRi_hcrff.K562.Reilly.hg38.ZScore.MYB.unstranded.bw\n",
      "proj_combeffect_encode_fcc/track_crispri_hcrff/track_signal/CRISPRi_hcrff.K562.Reilly.hg38.ZScore.CD164.unstranded.bw\n",
      "proj_combeffect_encode_fcc/track_crispri_hcrff/track_signal/CRISPRi_hcrff.K562.Reilly.hg38.ZScore.HBE1.unstranded.bw\n",
      "proj_combeffect_encode_fcc/track_crispri_hcrff/track_signal/CRISPRi_hcrff.K562.Reilly.hg38.ZScore.FEN1.unstranded.bw\n",
      "proj_combeffect_encode_fcc/track_crispri_hcrff/track_signal/CRISPRi_hcrff.K562.Reilly.hg38.ZScore.HBS1L.unstranded.bw\n",
      "proj_combeffect_encode_fcc/track_crispri_hcrff/track_signal/CRISPRi_hcrff.K562.Reilly.hg38.ZScore.NMU.unstranded.bw\n",
      "proj_combeffect_encode_fcc/track_crispri_hcrff/track_signal/CRISPRi_hcrff.K562.Reilly.hg38.ZScore.CAT.unstranded.bw\n",
      "proj_combeffect_encode_fcc/track_crispri_hcrff/track_signal/CRISPRi_hcrff.K562.Reilly.hg38.ZScore.ERP29.unstranded.bw\n",
      "proj_combeffect_encode_fcc/track_crispri_hcrff/track_signal/CRISPRi_hcrff.K562.Reilly.hg38.ZScore.GATA1.unstranded.bw\n",
      "proj_combeffect_encode_fcc/track_crispri_hcrff/track_signal/CRISPRi_hcrff.K562.Reilly.hg38.ZScore.FADS3.unstranded.bw\n",
      "proj_combeffect_encode_fcc/track_crispri_hcrff/track_region/\n",
      "proj_combeffect_encode_fcc/track_crispri_hcrff/track_region/CRISPRi_hcrff.K562.Reilly.hg38.region_call.CASA.ERP29.bed\n",
      "proj_combeffect_encode_fcc/track_crispri_hcrff/track_region/CRISPRi_hcrff.K562.Reilly.hg38.region_call.CASA.MYB.bed\n",
      "proj_combeffect_encode_fcc/track_crispri_hcrff/track_region/CRISPRi_hcrff.K562.Reilly.hg38.region_call.CASA.FADS1.bed\n",
      "proj_combeffect_encode_fcc/track_crispri_hcrff/track_region/CRISPRi_hcrff.K562.Reilly.hg38.region_call.CASA.GATA1.bed\n",
      "proj_combeffect_encode_fcc/track_crispri_hcrff/track_region/CRISPRi_hcrff.K562.Reilly.hg38.region_call.CASA.MYC.bed\n",
      "proj_combeffect_encode_fcc/track_crispri_hcrff/track_region/CRISPRi_hcrff.K562.Reilly.hg38.region_call.CASA.MEF2C.bed\n",
      "proj_combeffect_encode_fcc/track_crispri_hcrff/track_region/CRISPRi_hcrff.K562.Reilly.hg38.region_call.CASA.FEN1.bed\n",
      "proj_combeffect_encode_fcc/track_crispri_hcrff/track_region/CRISPRi_hcrff.K562.Reilly.hg38.region_call.CASA.LMO2.bed\n",
      "proj_combeffect_encode_fcc/track_crispri_hcrff/track_region/CRISPRi_hcrff.K562.Reilly.hg38.region_call.CASA.HDAC6.bed\n",
      "proj_combeffect_encode_fcc/track_crispri_hcrff/track_region/CRISPRi_hcrff.K562.Reilly.hg38.region_call.CASA.CD164.bed\n",
      "proj_combeffect_encode_fcc/track_crispri_hcrff/track_region/CRISPRi_hcrff.K562.Reilly.hg38.region_call.CASA.NMU.bed\n",
      "proj_combeffect_encode_fcc/track_crispri_hcrff/track_region/CRISPRi_hcrff.K562.Reilly.hg38.region_call.CASA.FADS3.bed\n",
      "proj_combeffect_encode_fcc/track_crispri_hcrff/track_region/CRISPRi_hcrff.K562.Reilly.hg38.region_call.CASA.HBG1.bed\n",
      "proj_combeffect_encode_fcc/track_crispri_hcrff/track_region/CRISPRi_hcrff.K562.Reilly.hg38.region_call.CASA.PVT1.bed\n",
      "proj_combeffect_encode_fcc/track_crispri_hcrff/track_region/CRISPRi_hcrff.K562.Reilly.hg38.region_call.CASA.CAT.bed\n",
      "proj_combeffect_encode_fcc/track_crispri_hcrff/track_region/CRISPRi_hcrff.K562.Reilly.hg38.region_call.CASA.HBG2.bed\n",
      "proj_combeffect_encode_fcc/track_crispri_hcrff/track_region/CRISPRi_hcrff.K562.Reilly.hg38.region_call.CASA.CAPRIN1.bed\n",
      "proj_combeffect_encode_fcc/track_crispri_hcrff/track_region/CRISPRi_hcrff.K562.Reilly.hg38.region_call.CASA.HBS1L.bed\n",
      "proj_combeffect_encode_fcc/track_crispri_hcrff/track_region/CRISPRi_hcrff.K562.Reilly.hg38.region_call.CASA.HBE1.bed\n",
      "proj_combeffect_encode_fcc/track_crispri_hcrff/track_region/CRISPRi_hcrff.K562.Reilly.hg38.region_call.CASA.FADS2.bed\n"
     ]
    }
   ],
   "source": [
    "cd ${FD_WORK}/trackhub\n",
    "tar -zchvf proj_combeffect_encode_fcc.tar.gz proj_combeffect_encode_fcc"
   ]
  },
  {
   "cell_type": "code",
   "execution_count": 5,
   "id": "1883ae00-0033-4cc6-a3b8-062b1f9fc28e",
   "metadata": {},
   "outputs": [
    {
     "name": "stdout",
     "output_type": "stream",
     "text": [
      "total 1979280\n",
      "drwxrwsr-x+ 9 kk319 reddylab       8192 Jul 10 16:32 \u001b[0m\u001b[38;5;27mproj_combeffect_encode_fcc\u001b[0m\n",
      "-rw-rw-r--  1 kk319 reddylab 2026652232 Jul 18 15:50 \u001b[38;5;9mproj_combeffect_encode_fcc.tar.gz\u001b[0m\n"
     ]
    }
   ],
   "source": [
    "cd ${FD_WORK}/trackhub\n",
    "ls -l"
   ]
  },
  {
   "cell_type": "markdown",
   "id": "2ea5e9c1-4235-40dd-8ca9-c7f080c4e7e6",
   "metadata": {},
   "source": [
    "```\n",
    "tar -zcvf archive-name.tar.gz source-directory-name\n",
    "tar -xvzf community_images.tar.gz\n",
    "```"
   ]
  },
  {
   "cell_type": "code",
   "execution_count": null,
   "id": "6f9937e8-3a00-4659-ae8f-efc63c532987",
   "metadata": {},
   "outputs": [],
   "source": []
  }
 ],
 "metadata": {
  "kernelspec": {
   "display_name": "Bash",
   "language": "bash",
   "name": "bash"
  },
  "language_info": {
   "codemirror_mode": "shell",
   "file_extension": ".sh",
   "mimetype": "text/x-sh",
   "name": "bash"
  }
 },
 "nbformat": 4,
 "nbformat_minor": 5
}
