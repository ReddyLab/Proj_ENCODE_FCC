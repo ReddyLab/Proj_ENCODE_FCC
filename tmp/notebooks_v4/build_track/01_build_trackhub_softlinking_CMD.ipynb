{
 "cells": [
  {
   "cell_type": "code",
   "execution_count": 1,
   "id": "76b93df2",
   "metadata": {},
   "outputs": [],
   "source": [
    "#SSH_TRACK=kk319@trackhub.genome.duke.edu"
   ]
  },
  {
   "cell_type": "markdown",
   "id": "660df423-ba74-4eac-9d99-93cf83b8b4aa",
   "metadata": {},
   "source": [
    "**Set environment**"
   ]
  },
  {
   "cell_type": "code",
   "execution_count": 2,
   "id": "f84e62db",
   "metadata": {},
   "outputs": [
    {
     "name": "stdout",
     "output_type": "stream",
     "text": [
      "You are on Duke Server: HARDAC\n",
      "BASE DIRECTORY (FD_BASE): /data/reddylab/Kuei\n",
      "WORK DIRECTORY (FD_WORK): /data/reddylab/Kuei/out\n",
      "CODE DIRECTORY (FD_CODE): /data/reddylab/Kuei/code\n",
      "SING DIRECTORY (FD_SING): /data/reddylab/Kuei/singularity\n",
      "PATH OF PROJECT (FD_PRJ): /data/reddylab/Kuei/code/Proj_CombEffect_ENCODE_FCC\n",
      "PATH OF RESULTS (FD_RES): /data/reddylab/Kuei/out/proj_combeffect_encode_fcc\n",
      "PATH OF LOG     (FD_LOG): /data/reddylab/Kuei/out/proj_combeffect_encode_fcc/log\n",
      "\n"
     ]
    }
   ],
   "source": [
    "source ../config/config_duke.sh\n",
    "show_env"
   ]
  },
  {
   "cell_type": "code",
   "execution_count": 3,
   "id": "d119bfb9-5c99-4e32-aee4-08f0fe4364fd",
   "metadata": {},
   "outputs": [
    {
     "name": "stdout",
     "output_type": "stream",
     "text": [
      "/data/reddylab/Kuei/out\n",
      "\u001b[0m\u001b[38;5;27mtrack_annotation\u001b[0m      \u001b[38;5;27mtrack_crispri_hcrff\u001b[0m  \u001b[38;5;27mtrack_hic_loop\u001b[0m\n",
      "\u001b[38;5;27mtrack_crispri_growth\u001b[0m  \u001b[38;5;27mtrack_encode_e2g\u001b[0m     \u001b[38;5;27mtrack_starrmpra\u001b[0m\n"
     ]
    }
   ],
   "source": [
    "echo ${FD_WORK} \n",
    "ls   ${FD_WORK}/trackhub/proj_combeffect_encode_fcc"
   ]
  },
  {
   "cell_type": "code",
   "execution_count": 4,
   "id": "b788cf51-faef-4383-8fc4-e123375d57db",
   "metadata": {},
   "outputs": [
    {
     "name": "stdout",
     "output_type": "stream",
     "text": [
      "/data/reddylab/Kuei/out/proj_combeffect_encode_fcc\n",
      "result.Log2FC.raw.deseq.starrmpra.tsv  \u001b[0m\u001b[38;5;27mtrack_crispri_hcrff\u001b[0m\n",
      "result.ranknorm.starrmpra.crispr.tsv   \u001b[38;5;27mtrack_smooth_sliding_w1000_s1\u001b[0m\n",
      "result.ranknorm.starrmpra.full.tsv     \u001b[38;5;27mtrack_smooth_sliding_w500_s1\u001b[0m\n",
      "result.ranknorm.starrmpra.mean.tsv     \u001b[38;5;27mtrack_starrmpra\u001b[0m\n"
     ]
    }
   ],
   "source": [
    "echo ${FD_RES}\n",
    "ls   ${FD_RES}/results/comparison"
   ]
  },
  {
   "cell_type": "code",
   "execution_count": 5,
   "id": "7ad7edfd-d0ff-4447-9aa4-2108450f921d",
   "metadata": {},
   "outputs": [
    {
     "name": "stdout",
     "output_type": "stream",
     "text": [
      "total 8\n",
      "lrwxrwxrwx 1 kk319 reddylab 138 Jun 24 14:12 \u001b[0m\u001b[38;5;51mMPRA_Lenti.K562.Nadav.hg38.ZScore.mean.SUBSET.unstranded.bg\u001b[0m -> /data/reddylab/Kuei/out/proj_combeffect_encode_fcc/results/LentiMPRA_K562_Nadav/coverage/K562.vikram230621.LMPRA.Mean.ZScore.unstranded.bg\n",
      "lrwxrwxrwx 1 kk319 reddylab 138 Jun 24 14:12 \u001b[38;5;51mMPRA_Lenti.K562.Nadav.hg38.ZScore.mean.SUBSET.unstranded.bw\u001b[0m -> /data/reddylab/Kuei/out/proj_combeffect_encode_fcc/results/LentiMPRA_K562_Nadav/coverage/K562.vikram230621.LMPRA.Mean.ZScore.unstranded.bw\n",
      "lrwxrwxrwx 1 kk319 reddylab 145 Jun 24 14:11 \u001b[38;5;51mMPRA_Tiling.K562.Tewhey.hg38.Log2FC_norm.mean.MERGE.stranded_pos.bg\u001b[0m\u001b[K -> /data/reddylab/Kuei/out/proj_combeffect_encode_fcc/results/Tewhey_K562_TileMPRA/coverage/track_counts/Merge.hg38.norm.Log2FC.mean.stranded_pos.bg\n",
      "lrwxrwxrwx 1 kk319 reddylab 145 Jun 24 14:11 \u001b[38;5;51mMPRA_Tiling.K562.Tewhey.hg38.Log2FC_norm.mean.MERGE.stranded_pos.bw\u001b[0m\u001b[K -> /data/reddylab/Kuei/out/proj_combeffect_encode_fcc/results/Tewhey_K562_TileMPRA/coverage/track_counts/Merge.hg38.norm.Log2FC.mean.stranded_pos.bw\n",
      "lrwxrwxrwx 1 kk319 reddylab 158 Jun 24 13:11 \u001b[38;5;51mSTARRseq_ATAC.K562.TR.hg38.pLog2FC.mean.SUBSET.unstranded.bg\u001b[0m -> /data/reddylab/Kuei/out/proj_combeffect_encode_fcc/results/KS91_K562_ASTARRseq/coverage/track_normalized/KS91_K562_ASTARRseq.pLog2FC.mean.SUBSET.unstranded.bg\n",
      "lrwxrwxrwx 1 kk319 reddylab 158 Jun 24 13:11 \u001b[38;5;51mSTARRseq_ATAC.K562.TR.hg38.pLog2FC.mean.SUBSET.unstranded.bw\u001b[0m -> /data/reddylab/Kuei/out/proj_combeffect_encode_fcc/results/KS91_K562_ASTARRseq/coverage/track_normalized/KS91_K562_ASTARRseq.pLog2FC.mean.SUBSET.unstranded.bw\n",
      "lrwxrwxrwx 1 kk319 reddylab 158 Jun 24 14:09 \u001b[38;5;51mSTARRseq_WHG.K562.TR.hg38.pLog2FC.mean.SUBSET.unstranded.bg\u001b[0m -> /data/reddylab/Kuei/out/proj_combeffect_encode_fcc/results/A001_K562_WSTARRseq/coverage/track_normalized/A001_K562_WSTARRseq.pLog2FC.mean.SUBSET.unstranded.bg\n",
      "lrwxrwxrwx 1 kk319 reddylab 158 Jun 24 14:09 \u001b[38;5;51mSTARRseq_WHG.K562.TR.hg38.pLog2FC.mean.SUBSET.unstranded.bw\u001b[0m -> /data/reddylab/Kuei/out/proj_combeffect_encode_fcc/results/A001_K562_WSTARRseq/coverage/track_normalized/A001_K562_WSTARRseq.pLog2FC.mean.SUBSET.unstranded.bw\n"
     ]
    }
   ],
   "source": [
    "ls -l ${FD_RES}/results/comparison/track_starrmpra"
   ]
  },
  {
   "cell_type": "markdown",
   "id": "f467784e-2bbf-47ef-b079-f75d60e7d3df",
   "metadata": {},
   "source": [
    "```\n",
    "### create a soft link\n",
    "ln -s file1 link1\n",
    "\n",
    "### To verify new soft link run:\n",
    "ls -l file1 link1\n",
    "```"
   ]
  },
  {
   "cell_type": "markdown",
   "id": "6933b20c-4e6a-4b6c-92b1-7933ef846a81",
   "metadata": {},
   "source": [
    "## Track Signal Original"
   ]
  },
  {
   "cell_type": "code",
   "execution_count": 40,
   "id": "53a5820c-8da9-412b-9551-f02723c2739d",
   "metadata": {},
   "outputs": [],
   "source": [
    "### init\n",
    "FD_LINK=${FD_WORK}/trackhub/proj_combeffect_encode_fcc/track_starrmpra/track_signal_original\n",
    "FD_FILE=${FD_RES}/results\n",
    "\n",
    "###\n",
    "FN_LINK=MPRA_Lenti.K562.Nadav.hg38.ZScore.mean.SUBSET.unstranded.bw\n",
    "FN_FILE=LentiMPRA_K562_Nadav/coverage/K562.vikram230621.LMPRA.Mean.ZScore.unstranded.bw\n",
    "\n",
    "FP_LINK=${FD_LINK}/${FN_LINK}\n",
    "FP_FILE=${FD_FILE}/${FN_FILE}\n",
    "ln -fs ${FP_FILE} ${FP_LINK} \n",
    "\n",
    "###\n",
    "FN_LINK=MPRA_Tiling.K562.Tewhey.hg38.Log2FC_norm.mean.MERGE.stranded_pos.bw\n",
    "FN_FILE=Tewhey_K562_TileMPRA/coverage/track_counts/Merge.hg38.norm.Log2FC.mean.stranded_pos.bw\n",
    "\n",
    "FP_LINK=${FD_LINK}/${FN_LINK}\n",
    "FP_FILE=${FD_FILE}/${FN_FILE}\n",
    "ln -fs ${FP_FILE} ${FP_LINK} \n",
    "\n",
    "###\n",
    "FN_LINK=STARRseq_WHG.K562.TR.hg38.pLog2FC.mean.SUBSET.unstranded.bw\n",
    "FN_FILE=A001_K562_WSTARRseq/coverage/track_normalized/A001_K562_WSTARRseq.pLog2FC.mean.SUBSET.unstranded.bw\n",
    "\n",
    "FP_LINK=${FD_LINK}/${FN_LINK}\n",
    "FP_FILE=${FD_FILE}/${FN_FILE}\n",
    "ln -fs ${FP_FILE} ${FP_LINK} \n",
    "\n",
    "###\n",
    "FN_LINK=STARRseq_ATAC.K562.TR.hg38.pLog2FC.mean.SUBSET.unstranded.bw\n",
    "FN_FILE=KS91_K562_ASTARRseq/coverage/track_normalized/KS91_K562_ASTARRseq.pLog2FC.mean.SUBSET.unstranded.bw\n",
    "\n",
    "FP_LINK=${FD_LINK}/${FN_LINK}\n",
    "FP_FILE=${FD_FILE}/${FN_FILE}\n",
    "ln -fs ${FP_FILE} ${FP_LINK} \n",
    "\n",
    "###\n",
    "FN_LINK=STARRseq_ATAC.K562.TR.hg38.Input.mean.SUBSET.unstranded.bw\n",
    "FN_FILE=KS91_K562_ASTARRseq/coverage/track_normalized/KS91_K562_ASTARRseq.Input.mean.SUBSET.unstranded.bw\n",
    "\n",
    "FP_LINK=${FD_LINK}/${FN_LINK}\n",
    "FP_FILE=${FD_FILE}/${FN_FILE}\n",
    "ln -fs ${FP_FILE} ${FP_LINK} "
   ]
  },
  {
   "cell_type": "code",
   "execution_count": 39,
   "id": "1de3c75c-00ed-460a-aaa9-bbc4a7184591",
   "metadata": {},
   "outputs": [
    {
     "name": "stdout",
     "output_type": "stream",
     "text": [
      "/data/reddylab/Kuei/out/proj_combeffect_encode_fcc/results/KS91_K562_ASTARRseq/coverage/track_normalized/KS91_K562_ASTARRseq.Input.mean.SUBSET.unstranded.bw\n",
      "/data/reddylab/Kuei/out/proj_combeffect_encode_fcc/results/KS91_K562_ASTARRseq/coverage/track_normalized/KS91_K562_ASTARRseq.Output.mean.SUBSET.unstranded.bw\n",
      "/data/reddylab/Kuei/out/proj_combeffect_encode_fcc/results/KS91_K562_ASTARRseq/coverage/track_normalized/KS91_K562_ASTARRseq.pLog2FC.mean.SUBSET.unstranded.bw\n"
     ]
    }
   ],
   "source": [
    "ls ${FD_FILE}/KS91_K562_ASTARRseq/coverage/track_normalized/*bw"
   ]
  },
  {
   "cell_type": "code",
   "execution_count": 42,
   "id": "f951b357-b397-4ab0-9d42-611e7a38480c",
   "metadata": {},
   "outputs": [
    {
     "name": "stdout",
     "output_type": "stream",
     "text": [
      "\u001b[0m\u001b[38;5;27mtrack_signal_original\u001b[0m\n",
      "\u001b[38;5;27mtrack_signal_smooth_w1000_s1\u001b[0m\n"
     ]
    }
   ],
   "source": [
    "ls -1 ${FD_WORK}/trackhub/proj_combeffect_encode_fcc/track_starrmpra"
   ]
  },
  {
   "cell_type": "code",
   "execution_count": 41,
   "id": "f3d91380-23ec-49f3-aab6-f29d041dce3d",
   "metadata": {},
   "outputs": [
    {
     "name": "stdout",
     "output_type": "stream",
     "text": [
      "\u001b[0m\u001b[38;5;51mMPRA_Lenti.K562.Nadav.hg38.ZScore.mean.SUBSET.unstranded.bw\u001b[0m\n",
      "\u001b[38;5;51mMPRA_Tiling.K562.Tewhey.hg38.Log2FC_norm.mean.MERGE.stranded_pos.bw\u001b[0m\n",
      "\u001b[38;5;51mSTARRseq_ATAC.K562.TR.hg38.Input.mean.SUBSET.unstranded.bw\u001b[0m\n",
      "\u001b[38;5;51mSTARRseq_ATAC.K562.TR.hg38.pLog2FC.mean.SUBSET.unstranded.bw\u001b[0m\n",
      "\u001b[38;5;51mSTARRseq_WHG.K562.TR.hg38.pLog2FC.mean.SUBSET.unstranded.bw\u001b[0m\n"
     ]
    }
   ],
   "source": [
    "ls -1 ${FD_WORK}/trackhub/proj_combeffect_encode_fcc/track_starrmpra/track_signal_original"
   ]
  },
  {
   "cell_type": "markdown",
   "id": "7be982f6-0b37-4710-8de1-efc2cf0a41de",
   "metadata": {},
   "source": [
    "## Track Signal Smooth"
   ]
  },
  {
   "cell_type": "code",
   "execution_count": 51,
   "id": "3d780e2f-f03c-46c5-ab9b-c092e29708b4",
   "metadata": {},
   "outputs": [
    {
     "name": "stdout",
     "output_type": "stream",
     "text": [
      "MPRA_Lenti.K562.Nadav.hg38.ZScore.mean.SUBSET.unstranded.bg\n",
      "MPRA_Lenti.K562.Nadav.hg38.ZScore.mean.SUBSET.unstranded.bw\n",
      "MPRA_Tiling.K562.Tewhey.hg38.Log2FC_norm.mean.MERGE.stranded_pos.bg\n",
      "MPRA_Tiling.K562.Tewhey.hg38.Log2FC_norm.mean.MERGE.stranded_pos.bw\n",
      "STARRseq_ATAC.K562.TR.hg38.pLog2FC.mean.SUBSET.unstranded.bg\n",
      "STARRseq_ATAC.K562.TR.hg38.pLog2FC.mean.SUBSET.unstranded.bw\n",
      "STARRseq_WHG.K562.TR.hg38.pLog2FC.mean.SUBSET.unstranded.bg\n",
      "STARRseq_WHG.K562.TR.hg38.pLog2FC.mean.SUBSET.unstranded.bw\n"
     ]
    }
   ],
   "source": [
    "ls ${FD_RES}/results/comparison/track_smooth_sliding_w1000_s1/summary"
   ]
  },
  {
   "cell_type": "code",
   "execution_count": 52,
   "id": "7530952f-7c66-4bd0-bdfd-4cbaaf55f742",
   "metadata": {},
   "outputs": [
    {
     "name": "stdout",
     "output_type": "stream",
     "text": [
      "MPRA_Lenti.K562.Nadav.hg38.ZScore.mean.SUBSET.unstranded.bw\n",
      "MPRA_Tiling.K562.Tewhey.hg38.Log2FC_norm.mean.MERGE.stranded_pos.bw\n",
      "STARRseq_ATAC.K562.TR.hg38.pLog2FC.mean.SUBSET.unstranded.bw\n",
      "STARRseq_WHG.K562.TR.hg38.pLog2FC.mean.SUBSET.unstranded.bw\n"
     ]
    }
   ],
   "source": [
    "ls ${FD_RES}/results/comparison/track_smooth_sliding_w1000_s1/summary/*bw | xargs -n 1 basename"
   ]
  },
  {
   "cell_type": "code",
   "execution_count": 53,
   "id": "ea34be58-2a5c-437a-bc30-c3d6d890ffe1",
   "metadata": {},
   "outputs": [],
   "source": [
    "### init\n",
    "FD_LINK=${FD_WORK}/trackhub/proj_combeffect_encode_fcc/track_starrmpra/track_signal_smooth_w1000_s1\n",
    "FD_FILE=${FD_RES}/results/comparison/track_smooth_sliding_w1000_s1/summary\n",
    "\n",
    "###\n",
    "FN_LINK=MPRA_Lenti.K562.Nadav.hg38.ZScore.mean.SUBSET.unstranded.bw\n",
    "FN_FILE=MPRA_Lenti.K562.Nadav.hg38.ZScore.mean.SUBSET.unstranded.bw\n",
    "\n",
    "FP_LINK=${FD_LINK}/${FN_LINK}\n",
    "FP_FILE=${FD_FILE}/${FN_FILE}\n",
    "ln -fs ${FP_FILE} ${FP_LINK} \n",
    "\n",
    "###\n",
    "FN_LINK=MPRA_Tiling.K562.Tewhey.hg38.Log2FC_norm.mean.MERGE.stranded_pos.bw\n",
    "FN_FILE=MPRA_Tiling.K562.Tewhey.hg38.Log2FC_norm.mean.MERGE.stranded_pos.bw\n",
    "\n",
    "FP_LINK=${FD_LINK}/${FN_LINK}\n",
    "FP_FILE=${FD_FILE}/${FN_FILE}\n",
    "ln -fs ${FP_FILE} ${FP_LINK} \n",
    "\n",
    "###\n",
    "FN_LINK=STARRseq_WHG.K562.TR.hg38.pLog2FC.mean.SUBSET.unstranded.bw\n",
    "FN_FILE=STARRseq_WHG.K562.TR.hg38.pLog2FC.mean.SUBSET.unstranded.bw\n",
    "\n",
    "FP_LINK=${FD_LINK}/${FN_LINK}\n",
    "FP_FILE=${FD_FILE}/${FN_FILE}\n",
    "ln -fs ${FP_FILE} ${FP_LINK} \n",
    "\n",
    "###\n",
    "FN_LINK=STARRseq_ATAC.K562.TR.hg38.pLog2FC.mean.SUBSET.unstranded.bw\n",
    "FN_FILE=STARRseq_ATAC.K562.TR.hg38.pLog2FC.mean.SUBSET.unstranded.bw\n",
    "\n",
    "FP_LINK=${FD_LINK}/${FN_LINK}\n",
    "FP_FILE=${FD_FILE}/${FN_FILE}\n",
    "ln -fs ${FP_FILE} ${FP_LINK}"
   ]
  },
  {
   "cell_type": "code",
   "execution_count": 55,
   "id": "0c7bbde3-1d68-46c6-9cd5-f77c2ce6ca0e",
   "metadata": {},
   "outputs": [
    {
     "name": "stdout",
     "output_type": "stream",
     "text": [
      "/data/reddylab/Kuei/out/trackhub/proj_combeffect_encode_fcc/track_starrmpra/track_signal_smooth_w1000_s1\n",
      "\u001b[0m\u001b[38;5;51mMPRA_Lenti.K562.Nadav.hg38.ZScore.mean.SUBSET.unstranded.bw\u001b[0m\n",
      "\u001b[38;5;51mMPRA_Tiling.K562.Tewhey.hg38.Log2FC_norm.mean.MERGE.stranded_pos.bw\u001b[0m\n",
      "\u001b[38;5;51mSTARRseq_ATAC.K562.TR.hg38.pLog2FC.mean.SUBSET.unstranded.bw\u001b[0m\n",
      "\u001b[38;5;51mSTARRseq_WHG.K562.TR.hg38.pLog2FC.mean.SUBSET.unstranded.bw\u001b[0m\n"
     ]
    }
   ],
   "source": [
    "echo ${FD_WORK}/trackhub/proj_combeffect_encode_fcc/track_starrmpra/track_signal_smooth_w1000_s1\n",
    "ls ${FD_WORK}/trackhub/proj_combeffect_encode_fcc/track_starrmpra/track_signal_smooth_w1000_s1"
   ]
  },
  {
   "cell_type": "markdown",
   "id": "8ad161f0-d820-4baf-bbae-a9dd6a340bd1",
   "metadata": {},
   "source": [
    "## Track STARRMPRA Region"
   ]
  },
  {
   "cell_type": "code",
   "execution_count": 59,
   "id": "75ad8d1a-eab5-407c-bef0-fe661d10e26a",
   "metadata": {},
   "outputs": [
    {
     "name": "stdout",
     "output_type": "stream",
     "text": [
      "description.tsv\n",
      "\u001b[0m\u001b[38;5;9menhancer_zscore_junke.peak.ASTARR_AB.bed.gz\u001b[0m\n",
      "\u001b[38;5;9menhancer_zscore_junke.peak.ASTARR_A.bed.gz\u001b[0m\n",
      "\u001b[38;5;9menhancer_zscore_junke.peak.ASTARR_R.bed.gz\u001b[0m\n",
      "\u001b[38;5;9menhancer_zscore_junke.peak.LMPRA_AB.bed.gz\u001b[0m\n",
      "\u001b[38;5;9menhancer_zscore_junke.peak.LMPRA_A.bed.gz\u001b[0m\n",
      "\u001b[38;5;9menhancer_zscore_junke.peak.LMPRA_R.bed.gz\u001b[0m\n",
      "\u001b[38;5;9menhancer_zscore_junke.peak.TMPRA_A.bed.gz\u001b[0m\n",
      "\u001b[38;5;9menhancer_zscore_junke.peak.TMPRA_R.bed.gz\u001b[0m\n",
      "\u001b[38;5;9menhancer_zscore_junke.peak.WSTARR_AB.bed.gz\u001b[0m\n",
      "\u001b[38;5;9menhancer_zscore_junke.peak.WSTARR_A.bed.gz\u001b[0m\n",
      "\u001b[38;5;9menhancer_zscore_junke.peak.WSTARR_R.bed.gz\u001b[0m\n"
     ]
    }
   ],
   "source": [
    "ls ${FD_RES}/results/region/annotation_enhancer_zscore_junke"
   ]
  },
  {
   "cell_type": "code",
   "execution_count": 69,
   "id": "0b49d0d3-d861-484e-b801-d8c368ca44bf",
   "metadata": {},
   "outputs": [
    {
     "name": "stdout",
     "output_type": "stream",
     "text": [
      "enhancer_zscore_junke.peak.ASTARR_AB.bed.gz\n",
      "enhancer_zscore_junke.peak.ASTARR_A.bed.gz\n",
      "enhancer_zscore_junke.peak.ASTARR_R.bed.gz\n",
      "enhancer_zscore_junke.peak.LMPRA_AB.bed.gz\n",
      "enhancer_zscore_junke.peak.LMPRA_A.bed.gz\n",
      "enhancer_zscore_junke.peak.LMPRA_R.bed.gz\n",
      "enhancer_zscore_junke.peak.TMPRA_A.bed.gz\n",
      "enhancer_zscore_junke.peak.TMPRA_R.bed.gz\n",
      "enhancer_zscore_junke.peak.WSTARR_AB.bed.gz\n",
      "enhancer_zscore_junke.peak.WSTARR_A.bed.gz\n",
      "enhancer_zscore_junke.peak.WSTARR_R.bed.gz\n"
     ]
    }
   ],
   "source": [
    "### init\n",
    "FD_LINK=${FD_WORK}/trackhub/proj_combeffect_encode_fcc/track_starrmpra/track_region\n",
    "FD_FILE=${FD_RES}/results/region/annotation_enhancer_zscore_junke\n",
    "\n",
    "FP_FILES=($(ls ${FD_FILE}/*bed.gz))\n",
    "for FP_FILE in ${FP_FILES[@]}; do\n",
    "    FN_FILE=$(basename ${FP_FILE})\n",
    "    FN_LINK=${FN_FILE}\n",
    "    FP_LINK=${FD_LINK}/${FN_LINK}\n",
    "    \n",
    "    echo ${FN_FILE}\n",
    "    ln -fs ${FP_FILE} ${FP_LINK}\n",
    "done"
   ]
  },
  {
   "cell_type": "code",
   "execution_count": 70,
   "id": "4a39c7fc-ed5b-4af9-b59b-d53d37113d3d",
   "metadata": {},
   "outputs": [
    {
     "name": "stdout",
     "output_type": "stream",
     "text": [
      "/data/reddylab/Kuei/out/trackhub/proj_combeffect_encode_fcc/track_starrmpra/track_region\n",
      "\u001b[0m\u001b[38;5;51menhancer_zscore_junke.peak.ASTARR_AB.bed.gz\u001b[0m\n",
      "\u001b[38;5;51menhancer_zscore_junke.peak.ASTARR_A.bed.gz\u001b[0m\n",
      "\u001b[38;5;51menhancer_zscore_junke.peak.ASTARR_R.bed.gz\u001b[0m\n",
      "\u001b[38;5;51menhancer_zscore_junke.peak.LMPRA_AB.bed.gz\u001b[0m\n",
      "\u001b[38;5;51menhancer_zscore_junke.peak.LMPRA_A.bed.gz\u001b[0m\n",
      "\u001b[38;5;51menhancer_zscore_junke.peak.LMPRA_R.bed.gz\u001b[0m\n",
      "\u001b[38;5;51menhancer_zscore_junke.peak.TMPRA_A.bed.gz\u001b[0m\n",
      "\u001b[38;5;51menhancer_zscore_junke.peak.TMPRA_R.bed.gz\u001b[0m\n",
      "\u001b[38;5;51menhancer_zscore_junke.peak.WSTARR_AB.bed.gz\u001b[0m\n",
      "\u001b[38;5;51menhancer_zscore_junke.peak.WSTARR_A.bed.gz\u001b[0m\n",
      "\u001b[38;5;51menhancer_zscore_junke.peak.WSTARR_R.bed.gz\u001b[0m\n"
     ]
    }
   ],
   "source": [
    "echo ${FD_WORK}/trackhub/proj_combeffect_encode_fcc/track_starrmpra/track_region\n",
    "ls   ${FD_WORK}/trackhub/proj_combeffect_encode_fcc/track_starrmpra/track_region"
   ]
  },
  {
   "cell_type": "markdown",
   "id": "940cdeef-001e-4d33-a26c-5eea9944a2e7",
   "metadata": {},
   "source": [
    "## ATAC"
   ]
  },
  {
   "cell_type": "code",
   "execution_count": 120,
   "id": "007dfd7c-f0a4-4aa7-ad0e-3426e0309cc3",
   "metadata": {},
   "outputs": [],
   "source": [
    "FD_LINK=${FD_WORK}/trackhub/proj_combeffect_encode_fcc/track_starrmpra/track_region\n",
    "FD_FILE=${FD_RES}/results/region/KS91_K562_ASTARRseq_peak_macs_input\n",
    "\n",
    "FN_FILE=KS91_K562_hg38_ASTARRseq_Input.all_reps.masked.union_narrowPeak.q5.bed.gz\n",
    "FN_LINK=KS91_K562_hg38_ASTARRseq_Input.all_reps.masked.union_narrowPeak.q5.bed.gz\n",
    "\n",
    "FP_FILE=${FD_FILE}/${FN_FILE}\n",
    "FP_LINK=${FD_LINK}/${FN_LINK}\n",
    "\n",
    "ln -fs ${FP_FILE} ${FP_LINK}"
   ]
  },
  {
   "cell_type": "code",
   "execution_count": 121,
   "id": "75ea5062-74a4-4f1b-a008-7447ef807e34",
   "metadata": {},
   "outputs": [
    {
     "name": "stdout",
     "output_type": "stream",
     "text": [
      "/data/reddylab/Kuei/out/trackhub/proj_combeffect_encode_fcc/track_starrmpra/track_region\n",
      "\u001b[0m\u001b[38;5;51menhancer_zscore_junke.peak.ASTARR_AB.bed.gz\u001b[0m\n",
      "\u001b[38;5;51menhancer_zscore_junke.peak.ASTARR_A.bed.gz\u001b[0m\n",
      "\u001b[38;5;51menhancer_zscore_junke.peak.ASTARR_R.bed.gz\u001b[0m\n",
      "\u001b[38;5;51menhancer_zscore_junke.peak.LMPRA_AB.bed.gz\u001b[0m\n",
      "\u001b[38;5;51menhancer_zscore_junke.peak.LMPRA_A.bed.gz\u001b[0m\n",
      "\u001b[38;5;51menhancer_zscore_junke.peak.LMPRA_R.bed.gz\u001b[0m\n",
      "\u001b[38;5;51menhancer_zscore_junke.peak.TMPRA_A.bed.gz\u001b[0m\n",
      "\u001b[38;5;51menhancer_zscore_junke.peak.TMPRA_R.bed.gz\u001b[0m\n",
      "\u001b[38;5;51menhancer_zscore_junke.peak.WSTARR_AB.bed.gz\u001b[0m\n",
      "\u001b[38;5;51menhancer_zscore_junke.peak.WSTARR_A.bed.gz\u001b[0m\n",
      "\u001b[38;5;51menhancer_zscore_junke.peak.WSTARR_R.bed.gz\u001b[0m\n",
      "\u001b[38;5;51mKS91_K562_hg38_ASTARRseq_Input.all_reps.masked.union_narrowPeak.q5.bed.gz\u001b[0m\n"
     ]
    }
   ],
   "source": [
    "echo ${FD_WORK}/trackhub/proj_combeffect_encode_fcc/track_starrmpra/track_region\n",
    "ls   ${FD_WORK}/trackhub/proj_combeffect_encode_fcc/track_starrmpra/track_region"
   ]
  },
  {
   "cell_type": "code",
   "execution_count": null,
   "id": "e70ce802-cedd-471f-a88a-28ed5ae4f239",
   "metadata": {},
   "outputs": [],
   "source": []
  },
  {
   "cell_type": "markdown",
   "id": "cea3cbf2-fa21-4721-a2a1-9b4ce919de36",
   "metadata": {},
   "source": [
    "Test updated name\n",
    "```\n",
    "STARRseq_ATAC.K562.TR.hg38.Input.Union.bed.gz\n",
    "STARRseq_ATAC.K562.TR.hg38.Input.Intersect.bed.gz\n",
    "```"
   ]
  },
  {
   "cell_type": "code",
   "execution_count": 46,
   "id": "03da7fcb-d2d7-4b43-b8ac-0123bb701673",
   "metadata": {},
   "outputs": [
    {
     "name": "stdout",
     "output_type": "stream",
     "text": [
      "\u001b[0m\u001b[38;5;9mKS91_K562_hg38_ASTARRseq_Input.all_reps.masked.union_narrowPeak.q5.bed.gz\u001b[0m\n",
      "KS91_K562_hg38_ASTARRseq_Input.q5.in_all.max_overlaps.bed\n",
      "\u001b[38;5;9mKS91_K562_hg38_ASTARRseq_Input_rep1.masked.dedup.fragments.counts.txt.gz\u001b[0m\n",
      "\u001b[38;5;9mKS91_K562_hg38_ASTARRseq_Input_rep2.masked.dedup.fragments.counts.txt.gz\u001b[0m\n",
      "\u001b[38;5;9mKS91_K562_hg38_ASTARRseq_Input_rep3.masked.dedup.fragments.counts.txt.gz\u001b[0m\n",
      "\u001b[38;5;9mKS91_K562_hg38_ASTARRseq_Input_rep4.masked.dedup.fragments.counts.txt.gz\u001b[0m\n",
      "\u001b[38;5;9mKS91_K562_hg38_ASTARRseq_Input_rep5.masked.dedup.fragments.counts.txt.gz\u001b[0m\n",
      "\u001b[38;5;9mKS91_K562_hg38_ASTARRseq_Input_rep6.masked.dedup.fragments.counts.txt.gz\u001b[0m\n",
      "\u001b[38;5;9mKS91_K562_hg38_ASTARRseq_Output_rep1.f3q10.fragments.counts.txt.gz\u001b[0m\n",
      "\u001b[38;5;9mKS91_K562_hg38_ASTARRseq_Output_rep2.f3q10.fragments.counts.txt.gz\u001b[0m\n",
      "\u001b[38;5;9mKS91_K562_hg38_ASTARRseq_Output_rep3.f3q10.fragments.counts.txt.gz\u001b[0m\n",
      "\u001b[38;5;9mKS91_K562_hg38_ASTARRseq_Output_rep4.f3q10.fragments.counts.txt.gz\u001b[0m\n",
      "md5sums_check.txt\n",
      "md5sums_source.txt\n"
     ]
    }
   ],
   "source": [
    "ls ${FD_RES}/source/KS91_K562_astarrseq_fragments_wgs"
   ]
  },
  {
   "cell_type": "code",
   "execution_count": 47,
   "id": "b8a1c011-f812-452b-b882-708637f5ef45",
   "metadata": {},
   "outputs": [],
   "source": [
    "FD_LINK=${FD_WORK}/trackhub/proj_combeffect_encode_fcc/track_starrmpra/track_region\n",
    "FD_FILE=${FD_RES}/results/region/KS91_K562_ASTARRseq_peak_macs_input\n",
    "\n",
    "FN_FILE=KS91_K562_hg38_ASTARRseq_Input.all_reps.masked.union_narrowPeak.q5.bed.gz\n",
    "FN_LINK=STARRseq_ATAC.K562.TR.hg38.Input.Intersect.bed.gz\n",
    "\n",
    "FP_FILE=${FD_FILE}/${FN_FILE}\n",
    "FP_LINK=${FD_LINK}/${FN_LINK}\n",
    "\n",
    "ln -fs ${FP_FILE} ${FP_LINK}"
   ]
  },
  {
   "cell_type": "code",
   "execution_count": 48,
   "id": "d1a2c255-0290-4642-b307-a8e12e203d92",
   "metadata": {},
   "outputs": [],
   "source": [
    "FD_LINK=${FD_WORK}/trackhub/proj_combeffect_encode_fcc/track_starrmpra/track_region\n",
    "FD_FILE=${FD_RES}/source/KS91_K562_astarrseq_fragments_wgs\n",
    "\n",
    "FN_FILE=KS91_K562_hg38_ASTARRseq_Input.q5.in_all.max_overlaps.bed\n",
    "FN_LINK=STARRseq_ATAC.K562.TR.hg38.Input.Union.bed.gz\n",
    "\n",
    "FP_FILE=${FD_FILE}/${FN_FILE}\n",
    "FP_LINK=${FD_LINK}/${FN_LINK}\n",
    "\n",
    "ln -fs ${FP_FILE} ${FP_LINK}"
   ]
  },
  {
   "cell_type": "code",
   "execution_count": 49,
   "id": "a79c50a3-ea14-402e-b981-b6653585e075",
   "metadata": {},
   "outputs": [
    {
     "name": "stdout",
     "output_type": "stream",
     "text": [
      "lrwxrwxrwx 1 kk319 reddylab 175 Oct 28 12:25 \u001b[0m\u001b[38;5;51m/data/reddylab/Kuei/out/trackhub/proj_combeffect_encode_fcc/track_starrmpra/track_region/STARRseq_ATAC.K562.TR.hg38.Input.Intersect.bed.gz\u001b[0m\u001b[K -> \u001b[38;5;9m/data/reddylab/Kuei/out/proj_combeffect_encode_fcc/results/region/KS91_K562_ASTARRseq_peak_macs_input/KS91_K562_hg38_ASTARRseq_Input.all_reps.masked.union_narrowPeak.q5.bed.gz\u001b[0m\u001b[K\n",
      "lrwxrwxrwx 1 kk319 reddylab 149 Oct 28 12:25 \u001b[38;5;51m/data/reddylab/Kuei/out/trackhub/proj_combeffect_encode_fcc/track_starrmpra/track_region/STARRseq_ATAC.K562.TR.hg38.Input.Union.bed.gz\u001b[0m\u001b[K -> /data/reddylab/Kuei/out/proj_combeffect_encode_fcc/source/KS91_K562_astarrseq_fragments_wgs/KS91_K562_hg38_ASTARRseq_Input.q5.in_all.max_overlaps.bed\n"
     ]
    }
   ],
   "source": [
    "FD_LINK=${FD_WORK}/trackhub/proj_combeffect_encode_fcc/track_starrmpra/track_region\n",
    "ls -l ${FD_LINK}/STARRseq_ATAC*"
   ]
  },
  {
   "cell_type": "code",
   "execution_count": null,
   "id": "49f268f4-c141-4c01-b30a-bd1ceabfd98e",
   "metadata": {},
   "outputs": [],
   "source": []
  },
  {
   "cell_type": "markdown",
   "id": "8f7c0039-003b-42c4-aa51-9e67ed50fc00",
   "metadata": {},
   "source": [
    "## Track CRISPRi-HCRFF"
   ]
  },
  {
   "cell_type": "code",
   "execution_count": 90,
   "id": "72906f36-2ec5-48a2-900a-8f3670101a88",
   "metadata": {},
   "outputs": [
    {
     "name": "stdout",
     "output_type": "stream",
     "text": [
      "CAPRIN1_HCRFF_rAVG.log2FC_2.bw                 HBG2_HCRFF_rAVG.log2FC_2.bw\n",
      "CAT_HCRFF_rAVG.log2FC_2.bw                     HBS1L_HCRFF_rAVG.log2FC_2.bw\n",
      "CD164_HCRFF_rAVG.log2FC_2.bw                   HDAC6_HCRFF_rAVG.log2FC_2.bw\n",
      "CRISPRi_rAVG_log2FC_2.bw                       KS91_K562_bs5_log2ratio.bw\n",
      "ERP29_HCRFF_rAVG.log2FC_2.bw                   LMO2_HCRFF_rAVG.log2FC_2.bw\n",
      "FADS1_HCRFF_rAVG.log2FC_2.bw                   MEF2C_HCRFF_rAVG.log2FC_2.bw\n",
      "FADS2_HCRFF_rAVG.log2FC_2.bw                   MYB_HCRFF_rAVG.log2FC_2.bw\n",
      "FADS3_HCRFF_rAVG.log2FC_2.bw                   MYC_HCRFF_rAVG.log2FC_2.bw\n",
      "FEN1_FADS123_MPRA_tiling.Z_bp.bw               nadav_K562_MPRA_log2FC_Z_bp.bw\n",
      "FEN1_HCRFF_rAVG.log2FC_2.bw                    NMU_HCRFF_rAVG.log2FC_2.bw\n",
      "GATA1_HCRFF_rAVG.log2FC_2.bw                   OL45_K562_20220628.Z_bp.bw\n",
      "GATA-MYC_Tile_K562_K562_20210130.hg38.Z_bp.bw  PVT1_HCRFF_rAVG.log2FC_2.bw\n",
      "HBE1_HCRFF_rAVG.log2FC_2.bw                    trackDb.txt\n",
      "HBG1_HCRFF_rAVG.log2FC_2.bw\n"
     ]
    }
   ],
   "source": [
    "ls ${FD_RES}/source/CRISPRi_FlowFISH/track_bigwig"
   ]
  },
  {
   "cell_type": "code",
   "execution_count": 91,
   "id": "9c3445ba-6494-4873-884f-150465c9889b",
   "metadata": {},
   "outputs": [
    {
     "name": "stdout",
     "output_type": "stream",
     "text": [
      "CAPRIN1_HCRFF_rAVG.log2FC_2.filtered.bw\n",
      "CAT_HCRFF_rAVG.log2FC_2.filtered.bw\n",
      "CD164_HCRFF_rAVG.log2FC_2.filtered.bw\n",
      "ERP29_HCRFF_rAVG.log2FC_2.filtered.bw\n",
      "FADS1_HCRFF_rAVG.log2FC_2.filtered.bw\n",
      "FADS2_HCRFF_rAVG.log2FC_2.filtered.bw\n",
      "FADS3_HCRFF_rAVG.log2FC_2.filtered.bw\n",
      "FEN1_HCRFF_rAVG.log2FC_2.filtered.bw\n",
      "GATA1_HCRFF_rAVG.log2FC_2.filtered.bw\n",
      "HBE1_HCRFF_rAVG.log2FC_2.filtered.bw\n",
      "HBG1_HCRFF_rAVG.log2FC_2.filtered.bw\n",
      "HBG2_HCRFF_rAVG.log2FC_2.filtered.bw\n",
      "HBS1L_HCRFF_rAVG.log2FC_2.filtered.bw\n",
      "HDAC6_HCRFF_rAVG.log2FC_2.filtered.bw\n",
      "LMO2_HCRFF_rAVG.log2FC_2.filtered.bw\n",
      "MEF2C_HCRFF_rAVG.log2FC_2.filtered.bw\n",
      "MYB_HCRFF_rAVG.log2FC_2.filtered.bw\n",
      "MYC_HCRFF_rAVG.log2FC_2.filtered.bw\n",
      "NMU_HCRFF_rAVG.log2FC_2.filtered.bw\n",
      "PVT1_HCRFF_rAVG.log2FC_2.filtered.bw\n"
     ]
    }
   ],
   "source": [
    "ls ${FD_RES}/results/CRISPRi_FlowFISH/coverage/*filtered.bw | xargs -n 1 basename"
   ]
  },
  {
   "cell_type": "code",
   "execution_count": 107,
   "id": "0977bbaa-0e3a-4e8a-98b1-2a30590d2100",
   "metadata": {},
   "outputs": [
    {
     "name": "stdout",
     "output_type": "stream",
     "text": [
      "CAPRIN1_HCRFF_CASA_elem_quant.bed  HBG1_HCRFF_CASA_elem_quant.bed\n",
      "CAT_HCRFF_CASA_elem_quant.bed      HBG2_HCRFF_CASA_elem_quant.bed\n",
      "CD164_HCRFF_CASA_elem_quant.bed    HBS1L_HCRFF_CASA_elem_quant.bed\n",
      "ERP29_HCRFF_CASA_elem_quant.bed    HDAC6_HCRFF_CASA_elem_quant.bed\n",
      "FADS1_HCRFF_CASA_elem_quant.bed    LMO2_HCRFF_CASA_elem_quant.bed\n",
      "FADS2_HCRFF_CASA_elem_quant.bed    MEF2C_HCRFF_CASA_elem_quant.bed\n",
      "FADS3_HCRFF_CASA_elem_quant.bed    MYB_HCRFF_CASA_elem_quant.bed\n",
      "FEN1_HCRFF_CASA_elem_quant.bed     MYC_HCRFF_CASA_elem_quant.bed\n",
      "GATA1_HCRFF_CASA_elem_quant.bed    NMU_HCRFF_CASA_elem_quant.bed\n",
      "HBE1_HCRFF_CASA_elem_quant.bed     PVT1_HCRFF_CASA_elem_quant.bed\n"
     ]
    }
   ],
   "source": [
    "ls ${FD_RES}/source/CRISPRi_FlowFISH/peak_casa_calls"
   ]
  },
  {
   "cell_type": "code",
   "execution_count": 92,
   "id": "b36cf4b8-358c-40c4-8acb-f1d3a3bb58a3",
   "metadata": {},
   "outputs": [
    {
     "name": "stdout",
     "output_type": "stream",
     "text": [
      "CRISPRi_hcrff.K562.Reilly.hg38.ZScore.CAPRIN1.unstranded.bw\n",
      "CRISPRi_hcrff.K562.Reilly.hg38.ZScore.CAT.unstranded.bw\n",
      "CRISPRi_hcrff.K562.Reilly.hg38.ZScore.CD164.unstranded.bw\n",
      "CRISPRi_hcrff.K562.Reilly.hg38.ZScore.ERP29.unstranded.bw\n",
      "CRISPRi_hcrff.K562.Reilly.hg38.ZScore.FADS1.unstranded.bw\n",
      "CRISPRi_hcrff.K562.Reilly.hg38.ZScore.FADS2.unstranded.bw\n",
      "CRISPRi_hcrff.K562.Reilly.hg38.ZScore.FADS3.unstranded.bw\n",
      "CRISPRi_hcrff.K562.Reilly.hg38.ZScore.FEN1.unstranded.bw\n",
      "CRISPRi_hcrff.K562.Reilly.hg38.ZScore.GATA1.unstranded.bw\n",
      "CRISPRi_hcrff.K562.Reilly.hg38.ZScore.HBE1.unstranded.bw\n",
      "CRISPRi_hcrff.K562.Reilly.hg38.ZScore.HBG1.unstranded.bw\n",
      "CRISPRi_hcrff.K562.Reilly.hg38.ZScore.HBG2.unstranded.bw\n",
      "CRISPRi_hcrff.K562.Reilly.hg38.ZScore.HBS1L.unstranded.bw\n",
      "CRISPRi_hcrff.K562.Reilly.hg38.ZScore.HDAC6.unstranded.bw\n",
      "CRISPRi_hcrff.K562.Reilly.hg38.ZScore.LMO2.unstranded.bw\n",
      "CRISPRi_hcrff.K562.Reilly.hg38.ZScore.MEF2C.unstranded.bw\n",
      "CRISPRi_hcrff.K562.Reilly.hg38.ZScore.MYB.unstranded.bw\n",
      "CRISPRi_hcrff.K562.Reilly.hg38.ZScore.MYC.unstranded.bw\n",
      "CRISPRi_hcrff.K562.Reilly.hg38.ZScore.NMU.unstranded.bw\n",
      "CRISPRi_hcrff.K562.Reilly.hg38.ZScore.PVT1.unstranded.bw\n"
     ]
    }
   ],
   "source": [
    "### init\n",
    "FD_LINK=${FD_WORK}/trackhub/proj_combeffect_encode_fcc/track_crispri_hcrff/track_signal\n",
    "FP_FILES=($(ls ${FD_RES}/source/CRISPRi_FlowFISH/track_bigwig/*HCRFF*bw))\n",
    "\n",
    "for FP_FILE in ${FP_FILES[@]}; do\n",
    "    FN_FILE=$(basename ${FP_FILE})\n",
    "    IFS='_' read -r -a ARRAY <<< ${FN_FILE}\n",
    "    ID_FILE=${ARRAY[0]}\n",
    "    \n",
    "    FN_LINK=\"CRISPRi_hcrff.K562.Reilly.hg38.ZScore.${ID_FILE}.unstranded.bw\"\n",
    "    FP_LINK=${FD_LINK}/${FN_LINK}\n",
    "    ln -fs ${FP_FILE} ${FP_LINK} \n",
    "    \n",
    "    echo ${FN_LINK}\n",
    "done"
   ]
  },
  {
   "cell_type": "code",
   "execution_count": 93,
   "id": "e2ba3c5e-4d29-44e6-967e-246e0b4c3e98",
   "metadata": {},
   "outputs": [
    {
     "name": "stdout",
     "output_type": "stream",
     "text": [
      "CRISPRi_hcrff.K562.Reilly.hg38.ZScore.CAPRIN1.unstranded.bw\n",
      "CRISPRi_hcrff.K562.Reilly.hg38.ZScore.CAT.unstranded.bw\n",
      "CRISPRi_hcrff.K562.Reilly.hg38.ZScore.CD164.unstranded.bw\n",
      "CRISPRi_hcrff.K562.Reilly.hg38.ZScore.ERP29.unstranded.bw\n",
      "CRISPRi_hcrff.K562.Reilly.hg38.ZScore.FADS1.unstranded.bw\n",
      "CRISPRi_hcrff.K562.Reilly.hg38.ZScore.FADS2.unstranded.bw\n",
      "CRISPRi_hcrff.K562.Reilly.hg38.ZScore.FADS3.unstranded.bw\n",
      "CRISPRi_hcrff.K562.Reilly.hg38.ZScore.FEN1.unstranded.bw\n",
      "CRISPRi_hcrff.K562.Reilly.hg38.ZScore.GATA1.unstranded.bw\n",
      "CRISPRi_hcrff.K562.Reilly.hg38.ZScore.HBE1.unstranded.bw\n",
      "CRISPRi_hcrff.K562.Reilly.hg38.ZScore.HBG1.unstranded.bw\n",
      "CRISPRi_hcrff.K562.Reilly.hg38.ZScore.HBG2.unstranded.bw\n",
      "CRISPRi_hcrff.K562.Reilly.hg38.ZScore.HBS1L.unstranded.bw\n",
      "CRISPRi_hcrff.K562.Reilly.hg38.ZScore.HDAC6.unstranded.bw\n",
      "CRISPRi_hcrff.K562.Reilly.hg38.ZScore.LMO2.unstranded.bw\n",
      "CRISPRi_hcrff.K562.Reilly.hg38.ZScore.MEF2C.unstranded.bw\n",
      "CRISPRi_hcrff.K562.Reilly.hg38.ZScore.MYB.unstranded.bw\n",
      "CRISPRi_hcrff.K562.Reilly.hg38.ZScore.MYC.unstranded.bw\n",
      "CRISPRi_hcrff.K562.Reilly.hg38.ZScore.NMU.unstranded.bw\n",
      "CRISPRi_hcrff.K562.Reilly.hg38.ZScore.PVT1.unstranded.bw\n"
     ]
    }
   ],
   "source": [
    "### init\n",
    "FD_LINK=${FD_WORK}/trackhub/proj_combeffect_encode_fcc/track_crispri_hcrff/track_signal_filtered\n",
    "FP_FILES=($(ls ${FD_RES}/results/CRISPRi_FlowFISH/coverage/*filtered.bw))\n",
    "\n",
    "for FP_FILE in ${FP_FILES[@]}; do\n",
    "    FN_FILE=$(basename ${FP_FILE})\n",
    "    IFS='_' read -r -a ARRAY <<< ${FN_FILE}\n",
    "    ID_FILE=${ARRAY[0]}\n",
    "    \n",
    "    FN_LINK=\"CRISPRi_hcrff.K562.Reilly.hg38.ZScore.${ID_FILE}.unstranded.bw\"\n",
    "    FP_LINK=${FD_LINK}/${FN_LINK}\n",
    "    ln -fs ${FP_FILE} ${FP_LINK}\n",
    "    \n",
    "    echo ${FN_LINK}\n",
    "done"
   ]
  },
  {
   "cell_type": "code",
   "execution_count": 115,
   "id": "e0f54b6b-875d-4304-9f51-87b4bfcfdc98",
   "metadata": {},
   "outputs": [
    {
     "name": "stdout",
     "output_type": "stream",
     "text": [
      "CRISPRi_hcrff.K562.Reilly.hg38.region_call.CASA.CAPRIN1.bed\n",
      "CRISPRi_hcrff.K562.Reilly.hg38.region_call.CASA.CAT.bed\n",
      "CRISPRi_hcrff.K562.Reilly.hg38.region_call.CASA.CD164.bed\n",
      "CRISPRi_hcrff.K562.Reilly.hg38.region_call.CASA.ERP29.bed\n",
      "CRISPRi_hcrff.K562.Reilly.hg38.region_call.CASA.FADS1.bed\n",
      "CRISPRi_hcrff.K562.Reilly.hg38.region_call.CASA.FADS2.bed\n",
      "CRISPRi_hcrff.K562.Reilly.hg38.region_call.CASA.FADS3.bed\n",
      "CRISPRi_hcrff.K562.Reilly.hg38.region_call.CASA.FEN1.bed\n",
      "CRISPRi_hcrff.K562.Reilly.hg38.region_call.CASA.GATA1.bed\n",
      "CRISPRi_hcrff.K562.Reilly.hg38.region_call.CASA.HBE1.bed\n",
      "CRISPRi_hcrff.K562.Reilly.hg38.region_call.CASA.HBG1.bed\n",
      "CRISPRi_hcrff.K562.Reilly.hg38.region_call.CASA.HBG2.bed\n",
      "CRISPRi_hcrff.K562.Reilly.hg38.region_call.CASA.HBS1L.bed\n",
      "CRISPRi_hcrff.K562.Reilly.hg38.region_call.CASA.HDAC6.bed\n",
      "CRISPRi_hcrff.K562.Reilly.hg38.region_call.CASA.LMO2.bed\n",
      "CRISPRi_hcrff.K562.Reilly.hg38.region_call.CASA.MEF2C.bed\n",
      "CRISPRi_hcrff.K562.Reilly.hg38.region_call.CASA.MYB.bed\n",
      "CRISPRi_hcrff.K562.Reilly.hg38.region_call.CASA.MYC.bed\n",
      "CRISPRi_hcrff.K562.Reilly.hg38.region_call.CASA.NMU.bed\n",
      "CRISPRi_hcrff.K562.Reilly.hg38.region_call.CASA.PVT1.bed\n"
     ]
    }
   ],
   "source": [
    "### init\n",
    "FD_LINK=${FD_WORK}/trackhub/proj_combeffect_encode_fcc/track_crispri_hcrff/track_region\n",
    "FP_FILES=($(ls ${FD_RES}/source/CRISPRi_FlowFISH/peak_casa_calls/*HCRFF*CASA*))\n",
    "\n",
    "for FP_FILE in ${FP_FILES[@]}; do\n",
    "    FN_FILE=$(basename ${FP_FILE})\n",
    "    IFS='_' read -r -a ARRAY <<< ${FN_FILE}\n",
    "    ID_FILE=${ARRAY[0]}\n",
    "    \n",
    "    FN_LINK=\"CRISPRi_hcrff.K562.Reilly.hg38.region_call.CASA.${ID_FILE}.bed\"\n",
    "    FP_LINK=${FD_LINK}/${FN_LINK}\n",
    "    ln -fs ${FP_FILE} ${FP_LINK}\n",
    "    \n",
    "    echo ${FN_LINK}\n",
    "done"
   ]
  },
  {
   "cell_type": "markdown",
   "id": "17b5d6d3-fd79-4d26-89cc-130f38ef7b7d",
   "metadata": {},
   "source": [
    "## Track CRISPRi-Growth"
   ]
  },
  {
   "cell_type": "code",
   "execution_count": 96,
   "id": "e6236502-3750-4a99-99fa-9cfad83779c1",
   "metadata": {},
   "outputs": [
    {
     "name": "stdout",
     "output_type": "stream",
     "text": [
      "CAPRIN1_HCRFF_rAVG.log2FC_2.bw                 HBG2_HCRFF_rAVG.log2FC_2.bw\n",
      "CAT_HCRFF_rAVG.log2FC_2.bw                     HBS1L_HCRFF_rAVG.log2FC_2.bw\n",
      "CD164_HCRFF_rAVG.log2FC_2.bw                   HDAC6_HCRFF_rAVG.log2FC_2.bw\n",
      "CRISPRi_rAVG_log2FC_2.bw                       KS91_K562_bs5_log2ratio.bw\n",
      "ERP29_HCRFF_rAVG.log2FC_2.bw                   LMO2_HCRFF_rAVG.log2FC_2.bw\n",
      "FADS1_HCRFF_rAVG.log2FC_2.bw                   MEF2C_HCRFF_rAVG.log2FC_2.bw\n",
      "FADS2_HCRFF_rAVG.log2FC_2.bw                   MYB_HCRFF_rAVG.log2FC_2.bw\n",
      "FADS3_HCRFF_rAVG.log2FC_2.bw                   MYC_HCRFF_rAVG.log2FC_2.bw\n",
      "FEN1_FADS123_MPRA_tiling.Z_bp.bw               nadav_K562_MPRA_log2FC_Z_bp.bw\n",
      "FEN1_HCRFF_rAVG.log2FC_2.bw                    NMU_HCRFF_rAVG.log2FC_2.bw\n",
      "GATA1_HCRFF_rAVG.log2FC_2.bw                   OL45_K562_20220628.Z_bp.bw\n",
      "GATA-MYC_Tile_K562_K562_20210130.hg38.Z_bp.bw  PVT1_HCRFF_rAVG.log2FC_2.bw\n",
      "HBE1_HCRFF_rAVG.log2FC_2.bw                    trackDb.txt\n",
      "HBG1_HCRFF_rAVG.log2FC_2.bw\n"
     ]
    }
   ],
   "source": [
    "ls ${FD_RES}/source/CRISPRi_FlowFISH/track_bigwig"
   ]
  },
  {
   "cell_type": "code",
   "execution_count": 100,
   "id": "aa466395-3ed6-44eb-92c6-b85df9ac9652",
   "metadata": {},
   "outputs": [
    {
     "name": "stdout",
     "output_type": "stream",
     "text": [
      "track\t\u001b[01;31m\u001b[KCRISPRi_growth\u001b[m\u001b[K\n",
      "parent\tCRISPRi_guide_log2FC_rAVG\ton\n",
      "type\tbigWig\n",
      "bigDataUrl\thttps://data.cyverse.org/dav-anon/iplant/home/ohjinwoo94/CRISPRi_rAVG_log2FC_2.bw\n",
      "shortLabel\tgrowth log2FC\n",
      "longLabel\tCRISPRi growth screen (Gersbach). log2FC (Control/treatment) z-transformed \n",
      "\n",
      "\u001b[36m\u001b[K--\u001b[m\u001b[K\n",
      "track\t\u001b[01;31m\u001b[KCRISPRi_growth\u001b[m\u001b[K_screen_coverages\n",
      "parent\tScreen_coverages_(CRISPR&Reporter)\ton\n",
      "bigDataUrl\thttps://data.cyverse.org/dav-anon/iplant/home/ohjinwoo94/gersbach_\u001b[01;31m\u001b[KCRISPRi_growth\u001b[m\u001b[K_coverage.bb\n",
      "shortLabel\tCRISPRi growth cov\n",
      "longLabel\tCRISPRi growth screen coverages of tested elements\n",
      "visibility\tdense\n",
      "mouseOver value: $name / $chrom:$chromStart-$chromEnd\n",
      "type\tbigBed 4 + \n",
      "\n"
     ]
    }
   ],
   "source": [
    "cat ${FD_RES}/source/CRISPRi_FlowFISH/track_bigwig/trackDb.txt | grep CRISPRi_growth -A 6"
   ]
  },
  {
   "cell_type": "code",
   "execution_count": 101,
   "id": "92f41d59-af29-4a6d-9d8e-20c1546ec471",
   "metadata": {},
   "outputs": [
    {
     "name": "stdout",
     "output_type": "stream",
     "text": [
      "/data/reddylab/Kuei/out/proj_combeffect_encode_fcc/source/CRISPRi_FlowFISH/track_bigwig/CRISPRi_rAVG_log2FC_2.bw\n"
     ]
    }
   ],
   "source": [
    "ls ${FD_RES}/source/CRISPRi_FlowFISH/track_bigwig/CRISPRi_rAVG_log2FC_2.bw"
   ]
  },
  {
   "cell_type": "code",
   "execution_count": 102,
   "id": "26d6afe2-8e96-40c0-8e30-86b26690816d",
   "metadata": {},
   "outputs": [],
   "source": [
    "### init\n",
    "FD_LINK=${FD_WORK}/trackhub/proj_combeffect_encode_fcc/track_crispri_growth/track_signal\n",
    "FD_FILE=${FD_RES}/source/CRISPRi_FlowFISH/track_bigwig\n",
    "\n",
    "###\n",
    "FN_LINK=CRISPRi_growth.K562.Gersbach.hg38.ZScore.unstranded.bw\n",
    "FN_FILE=CRISPRi_rAVG_log2FC_2.bw\n",
    "\n",
    "FP_LINK=${FD_LINK}/${FN_LINK}\n",
    "FP_FILE=${FD_FILE}/${FN_FILE}\n",
    "ln -fs ${FP_FILE} ${FP_LINK} "
   ]
  },
  {
   "cell_type": "code",
   "execution_count": 7,
   "id": "b806253f-244f-439b-8abb-7de9b7f8002c",
   "metadata": {},
   "outputs": [
    {
     "name": "stdout",
     "output_type": "stream",
     "text": [
      "\u001b[0m\u001b[38;5;9mcrispri_growth.dhs.active.bed.gz\u001b[0m  description.tsv\n",
      "\u001b[38;5;9mcrispri_growth.dhs.total.bed.gz\u001b[0m\n"
     ]
    }
   ],
   "source": [
    "ls ${FD_RES}/results/region/annotation_crispri_growth"
   ]
  },
  {
   "cell_type": "code",
   "execution_count": 8,
   "id": "a6889bac-dfcc-45ca-8ce0-0604f39a465e",
   "metadata": {},
   "outputs": [],
   "source": [
    "### init\n",
    "FD_LINK=${FD_WORK}/trackhub/proj_combeffect_encode_fcc/track_crispri_growth/track_region\n",
    "FD_FILE=${FD_RES}/results/region/annotation_crispri_growth\n",
    "\n",
    "###\n",
    "#FN_LINK=crispri_growth.dhs.total.bed.gz\n",
    "#FN_LINK=crispri_growth.dhs.region_calls.bed.gz\n",
    "#FN_LINK=CRISPRi_growth.K562.Gersbach.hg38.dhs.screened.bed.gz\n",
    "FN_LINK=CRISPRi_growth.K562.Gersbach.hg38.dhs.region_call.signif_guides.bed.gz\n",
    "FN_FILE=crispri_growth.dhs.active.bed.gz\n",
    "\n",
    "FP_LINK=${FD_LINK}/${FN_LINK}\n",
    "FP_FILE=${FD_FILE}/${FN_FILE}\n",
    "ln -fs ${FP_FILE} ${FP_LINK} "
   ]
  },
  {
   "cell_type": "markdown",
   "id": "9814f5be-3cae-417d-9168-930b579b3783",
   "metadata": {},
   "source": [
    "## Track ENCODE-E2G"
   ]
  },
  {
   "cell_type": "code",
   "execution_count": 22,
   "id": "0a7de8d2-a122-4dbe-a779-5a19abe4da1f",
   "metadata": {},
   "outputs": [
    {
     "name": "stdout",
     "output_type": "stream",
     "text": [
      "description.tsv\n",
      "\u001b[0m\u001b[38;5;9mK562.EPCrisprBenchmark.active.bed.gz\u001b[0m\n",
      "\u001b[38;5;9mK562.EPCrisprBenchmark.active.merge.bed.gz\u001b[0m\n",
      "K562.EPCrisprBenchmark.active.region2TSS_Original.bed\n",
      "\u001b[38;5;9mK562.EPCrisprBenchmark.active.region2TSS_Original.bedpe.gz\u001b[0m\n",
      "K562.EPCrisprBenchmark.active.region2TSS_Original.bigInteract\n",
      "K562.EPCrisprBenchmark.active.region2TSS_Updated.bed\n",
      "\u001b[38;5;9mK562.EPCrisprBenchmark.active.region2TSS_Updated.bedpe.gz\u001b[0m\n",
      "K562.EPCrisprBenchmark.active.region2TSS_Updated.bigInteract\n",
      "\u001b[38;5;9mK562.EPCrisprBenchmark.total.bed.gz\u001b[0m\n",
      "\u001b[38;5;9mK562.EPCrisprBenchmark.total.merge.bed.gz\u001b[0m\n",
      "K562.EPCrisprBenchmark.total.region2TSS_Original.bed\n",
      "\u001b[38;5;9mK562.EPCrisprBenchmark.total.region2TSS_Original.bedpe.gz\u001b[0m\n",
      "K562.EPCrisprBenchmark.total.region2TSS_Original.bigInteract\n",
      "K562.EPCrisprBenchmark.total.region2TSS_Updated.bed\n",
      "\u001b[38;5;9mK562.EPCrisprBenchmark.total.region2TSS_Updated.bedpe.gz\u001b[0m\n",
      "K562.EPCrisprBenchmark.total.region2TSS_Updated.bigInteract\n",
      "\u001b[38;5;27mtmp\u001b[0m\n"
     ]
    }
   ],
   "source": [
    "FD_FILE=${FD_RES}/results/region/annotation_encode_e2g_benchmark\n",
    "ls ${FD_FILE}"
   ]
  },
  {
   "cell_type": "code",
   "execution_count": 35,
   "id": "8ccf3691-07cb-4b19-bdd8-3d2fa2890d06",
   "metadata": {},
   "outputs": [],
   "source": [
    "### init\n",
    "FD_LINK=${FD_WORK}/trackhub/proj_combeffect_encode_fcc/track_encode_e2g/track_region\n",
    "FD_FILE=${FD_RES}/results/region/annotation_encode_e2g_benchmark\n",
    "\n",
    "###\n",
    "FN_LINK=ENCODE_E2G.K562.EPCrisprBenchmark.hg38.region.active.bed.gz\n",
    "FN_FILE=K562.EPCrisprBenchmark.active.bed.gz\n",
    "\n",
    "FP_LINK=${FD_LINK}/${FN_LINK}\n",
    "FP_FILE=${FD_FILE}/${FN_FILE}\n",
    "ln -fs ${FP_FILE} ${FP_LINK}"
   ]
  },
  {
   "cell_type": "code",
   "execution_count": 36,
   "id": "50a95233-f98e-471c-8ef1-fbe26c79b973",
   "metadata": {},
   "outputs": [],
   "source": [
    "### init\n",
    "FD_LINK=${FD_WORK}/trackhub/proj_combeffect_encode_fcc/track_encode_e2g/track_region\n",
    "FD_FILE=${FD_RES}/results/region/annotation_encode_e2g_benchmark\n",
    "\n",
    "###\n",
    "FN_LINK=ENCODE_E2G.K562.EPCrisprBenchmark.hg38.region.total.bed.gz\n",
    "FN_FILE=K562.EPCrisprBenchmark.total.bed.gz\n",
    "\n",
    "FP_LINK=${FD_LINK}/${FN_LINK}\n",
    "FP_FILE=${FD_FILE}/${FN_FILE}\n",
    "ln -fs ${FP_FILE} ${FP_LINK}"
   ]
  },
  {
   "cell_type": "code",
   "execution_count": 37,
   "id": "76bb4581-2086-4030-aab4-2c4425ea9761",
   "metadata": {},
   "outputs": [],
   "source": [
    "### init\n",
    "FD_LINK=${FD_WORK}/trackhub/proj_combeffect_encode_fcc/track_encode_e2g/track_region\n",
    "FD_FILE=${FD_RES}/results/region/annotation_encode_e2g_benchmark\n",
    "\n",
    "###\n",
    "FN_LINK=ENCODE_E2G.K562.EPCrisprBenchmark.hg38.region2TSS_Original.active.bedpe.gz\n",
    "FN_FILE=K562.EPCrisprBenchmark.active.region2TSS_Original.bedpe.gz\n",
    "\n",
    "FP_LINK=${FD_LINK}/${FN_LINK}\n",
    "FP_FILE=${FD_FILE}/${FN_FILE}\n",
    "ln -fs ${FP_FILE} ${FP_LINK}"
   ]
  },
  {
   "cell_type": "code",
   "execution_count": 38,
   "id": "f782bd63-1b88-498f-a00c-e556da2f9943",
   "metadata": {},
   "outputs": [],
   "source": [
    "### init\n",
    "FD_LINK=${FD_WORK}/trackhub/proj_combeffect_encode_fcc/track_encode_e2g/track_region\n",
    "FD_FILE=${FD_RES}/results/region/annotation_encode_e2g_benchmark\n",
    "\n",
    "###\n",
    "FN_LINK=ENCODE_E2G.K562.EPCrisprBenchmark.hg38.region2TSS_Updated.active.bedpe.gz\n",
    "FN_FILE=K562.EPCrisprBenchmark.active.region2TSS_Updated.bedpe.gz\n",
    "\n",
    "FP_LINK=${FD_LINK}/${FN_LINK}\n",
    "FP_FILE=${FD_FILE}/${FN_FILE}\n",
    "ln -fs ${FP_FILE} ${FP_LINK}"
   ]
  },
  {
   "cell_type": "code",
   "execution_count": 39,
   "id": "3324377f-20cf-44b0-96cd-42bbdc1d6d1b",
   "metadata": {},
   "outputs": [],
   "source": [
    "### init\n",
    "FD_LINK=${FD_WORK}/trackhub/proj_combeffect_encode_fcc/track_encode_e2g/track_region\n",
    "FD_FILE=${FD_RES}/results/region/annotation_encode_e2g_benchmark\n",
    "\n",
    "###\n",
    "FN_LINK=ENCODE_E2G.K562.EPCrisprBenchmark.hg38.region2TSS_Original.total.bedpe.gz\n",
    "FN_FILE=K562.EPCrisprBenchmark.total.region2TSS_Original.bedpe.gz\n",
    "\n",
    "FP_LINK=${FD_LINK}/${FN_LINK}\n",
    "FP_FILE=${FD_FILE}/${FN_FILE}\n",
    "ln -fs ${FP_FILE} ${FP_LINK}"
   ]
  },
  {
   "cell_type": "code",
   "execution_count": 40,
   "id": "839fa9fe-3670-4d98-af38-750d1b4dd683",
   "metadata": {},
   "outputs": [],
   "source": [
    "### init\n",
    "FD_LINK=${FD_WORK}/trackhub/proj_combeffect_encode_fcc/track_encode_e2g/track_region\n",
    "FD_FILE=${FD_RES}/results/region/annotation_encode_e2g_benchmark\n",
    "\n",
    "###\n",
    "FN_LINK=ENCODE_E2G.K562.EPCrisprBenchmark.hg38.region2TSS_Updated.total.bedpe.gz\n",
    "FN_FILE=K562.EPCrisprBenchmark.total.region2TSS_Updated.bedpe.gz\n",
    "\n",
    "FP_LINK=${FD_LINK}/${FN_LINK}\n",
    "FP_FILE=${FD_FILE}/${FN_FILE}\n",
    "ln -fs ${FP_FILE} ${FP_LINK}"
   ]
  },
  {
   "cell_type": "code",
   "execution_count": 41,
   "id": "ccca42f9-7c19-4a46-8eef-a563c0a3b133",
   "metadata": {},
   "outputs": [],
   "source": [
    "### init\n",
    "FD_LINK=${FD_WORK}/trackhub/proj_combeffect_encode_fcc/track_encode_e2g/track_region\n",
    "FD_FILE=${FD_RES}/results/region/annotation_encode_e2g_benchmark\n",
    "\n",
    "###\n",
    "FN_LINK=ENCODE_E2G.K562.EPCrisprBenchmark.hg38.region2TSS_Original.active.bigInteract\n",
    "FN_FILE=K562.EPCrisprBenchmark.active.region2TSS_Original.bigInteract\n",
    "\n",
    "FP_LINK=${FD_LINK}/${FN_LINK}\n",
    "FP_FILE=${FD_FILE}/${FN_FILE}\n",
    "ln -fs ${FP_FILE} ${FP_LINK}"
   ]
  },
  {
   "cell_type": "code",
   "execution_count": 42,
   "id": "da2eb59b-fa46-47c4-982f-aea1f3a70400",
   "metadata": {},
   "outputs": [],
   "source": [
    "### init\n",
    "FD_LINK=${FD_WORK}/trackhub/proj_combeffect_encode_fcc/track_encode_e2g/track_region\n",
    "FD_FILE=${FD_RES}/results/region/annotation_encode_e2g_benchmark\n",
    "\n",
    "###\n",
    "FN_LINK=ENCODE_E2G.K562.EPCrisprBenchmark.hg38.region2TSS_Updated.active.bigInteract\n",
    "FN_FILE=K562.EPCrisprBenchmark.active.region2TSS_Updated.bigInteract\n",
    "\n",
    "FP_LINK=${FD_LINK}/${FN_LINK}\n",
    "FP_FILE=${FD_FILE}/${FN_FILE}\n",
    "ln -fs ${FP_FILE} ${FP_LINK}"
   ]
  },
  {
   "cell_type": "code",
   "execution_count": 43,
   "id": "787feda1-5ce7-4acb-b7fd-c9db2e76376d",
   "metadata": {},
   "outputs": [],
   "source": [
    "### init\n",
    "FD_LINK=${FD_WORK}/trackhub/proj_combeffect_encode_fcc/track_encode_e2g/track_region\n",
    "FD_FILE=${FD_RES}/results/region/annotation_encode_e2g_benchmark\n",
    "\n",
    "###\n",
    "FN_LINK=ENCODE_E2G.K562.EPCrisprBenchmark.hg38.region2TSS_Original.total.bigInteract\n",
    "FN_FILE=K562.EPCrisprBenchmark.total.region2TSS_Original.bigInteract\n",
    "\n",
    "FP_LINK=${FD_LINK}/${FN_LINK}\n",
    "FP_FILE=${FD_FILE}/${FN_FILE}\n",
    "ln -fs ${FP_FILE} ${FP_LINK}"
   ]
  },
  {
   "cell_type": "code",
   "execution_count": 44,
   "id": "b52620f9-435c-4e65-a70d-296dba87ea01",
   "metadata": {},
   "outputs": [],
   "source": [
    "### init\n",
    "FD_LINK=${FD_WORK}/trackhub/proj_combeffect_encode_fcc/track_encode_e2g/track_region\n",
    "FD_FILE=${FD_RES}/results/region/annotation_encode_e2g_benchmark\n",
    "\n",
    "###\n",
    "FN_LINK=ENCODE_E2G.K562.EPCrisprBenchmark.hg38.region2TSS_Updated.total.bigInteract\n",
    "FN_FILE=K562.EPCrisprBenchmark.total.region2TSS_Updated.bigInteract\n",
    "\n",
    "FP_LINK=${FD_LINK}/${FN_LINK}\n",
    "FP_FILE=${FD_FILE}/${FN_FILE}\n",
    "ln -fs ${FP_FILE} ${FP_LINK}"
   ]
  },
  {
   "cell_type": "code",
   "execution_count": null,
   "id": "c139b3ed-d44c-43db-bbd5-a435436b3b10",
   "metadata": {},
   "outputs": [],
   "source": []
  },
  {
   "cell_type": "code",
   "execution_count": null,
   "id": "8fa8f3ac-4e10-44be-9948-8a9dd41443de",
   "metadata": {},
   "outputs": [],
   "source": []
  },
  {
   "cell_type": "code",
   "execution_count": null,
   "id": "ba2b712e-1b42-428a-8c64-5f3a3b430829",
   "metadata": {},
   "outputs": [],
   "source": []
  },
  {
   "cell_type": "code",
   "execution_count": 133,
   "id": "53cd9fb0-9836-41df-aa54-9a65546d2ee4",
   "metadata": {},
   "outputs": [
    {
     "name": "stdout",
     "output_type": "stream",
     "text": [
      "\u001b[0m\u001b[38;5;9mcrispri_e2g.region2TSS.bedpe.gz\u001b[0m     \u001b[38;5;9mcrispri_e2g.region.bed.gz\u001b[0m\n",
      "crispri_e2g.region2TSS.bigInteract  description.tsv\n",
      "crispri_e2g.region2TSS.inter.bed\n"
     ]
    }
   ],
   "source": [
    "FD_FILE=${FD_RES}/results/region/annotation_crispri_e2g\n",
    "ls ${FD_FILE}"
   ]
  },
  {
   "cell_type": "code",
   "execution_count": 134,
   "id": "4dcc6651-e20e-49e8-8995-7b46dd4a324c",
   "metadata": {},
   "outputs": [],
   "source": [
    "### init\n",
    "FD_LINK=${FD_WORK}/trackhub/proj_combeffect_encode_fcc/track_crispri_e2g/track_region\n",
    "FD_FILE=${FD_RES}/results/region/annotation_crispri_e2g\n",
    "\n",
    "###\n",
    "FN_LINK=CRISPRi_e2g.K562.EPBenchmark.hg38.region.bed.gz\n",
    "FN_FILE=crispri_e2g.region.bed.gz\n",
    "\n",
    "FP_LINK=${FD_LINK}/${FN_LINK}\n",
    "FP_FILE=${FD_FILE}/${FN_FILE}\n",
    "ln -fs ${FP_FILE} ${FP_LINK}"
   ]
  },
  {
   "cell_type": "code",
   "execution_count": 135,
   "id": "fae3b6f1-5366-46c2-ba79-4608e1334da1",
   "metadata": {},
   "outputs": [],
   "source": [
    "### init\n",
    "FD_LINK=${FD_WORK}/trackhub/proj_combeffect_encode_fcc/track_crispri_e2g/track_region\n",
    "FD_FILE=${FD_RES}/results/region/annotation_crispri_e2g\n",
    "\n",
    "###\n",
    "FN_LINK=CRISPRi_e2g.K562.EPBenchmark.hg38.region2TSS.bedpe.gz\n",
    "FN_FILE=crispri_e2g.region2TSS.bedpe.gz\n",
    "\n",
    "FP_LINK=${FD_LINK}/${FN_LINK}\n",
    "FP_FILE=${FD_FILE}/${FN_FILE}\n",
    "ln -fs ${FP_FILE} ${FP_LINK} "
   ]
  },
  {
   "cell_type": "code",
   "execution_count": 139,
   "id": "dd847351-aef5-4e54-b8d7-5c7c2528c8d3",
   "metadata": {},
   "outputs": [],
   "source": [
    "### init\n",
    "FD_LINK=${FD_WORK}/trackhub/proj_combeffect_encode_fcc/track_crispri_e2g/track_region\n",
    "FD_FILE=${FD_RES}/results/region/annotation_crispri_e2g\n",
    "\n",
    "###\n",
    "FN_LINK=CRISPRi_e2g.K562.EPBenchmark.hg38.region2TSS.bigInteract\n",
    "FN_FILE=crispri_e2g.region2TSS.bigInteract\n",
    "\n",
    "FP_LINK=${FD_LINK}/${FN_LINK}\n",
    "FP_FILE=${FD_FILE}/${FN_FILE}\n",
    "ln -fs ${FP_FILE} ${FP_LINK} "
   ]
  },
  {
   "cell_type": "code",
   "execution_count": 140,
   "id": "fdd7956a-ee14-48bd-9d23-d76b870c65cd",
   "metadata": {},
   "outputs": [
    {
     "name": "stdout",
     "output_type": "stream",
     "text": [
      "\u001b[0m\u001b[38;5;51mCRISPRi_e2g.K562.EPBenchmark.hg38.region2TSS.bedpe.gz\u001b[0m\n",
      "\u001b[38;5;51mCRISPRi_e2g.K562.EPBenchmark.hg38.region2TSS.bigInteract\u001b[0m\n",
      "\u001b[38;5;51mCRISPRi_e2g.K562.EPBenchmark.hg38.region.bed.gz\u001b[0m\n"
     ]
    }
   ],
   "source": [
    "FD_LINK=${FD_WORK}/trackhub/proj_combeffect_encode_fcc/track_crispri_e2g/track_region\n",
    "ls ${FD_LINK}"
   ]
  },
  {
   "cell_type": "markdown",
   "id": "e0c4b9bb-6c96-45dd-b2fe-64052ff285fd",
   "metadata": {},
   "source": [
    "## Track Annotation"
   ]
  },
  {
   "cell_type": "code",
   "execution_count": 58,
   "id": "c8d63028-56d0-405f-b996-32537340a4f1",
   "metadata": {},
   "outputs": [
    {
     "name": "stdout",
     "output_type": "stream",
     "text": [
      "description.tsv\n",
      "K562.TSS.selected_by_highest_Pol2_signal.bed\n",
      "\u001b[0m\u001b[38;5;9mK562.TSS.selected_by_highest_Pol2_signal.bed.gz\u001b[0m\n",
      "\u001b[38;5;9mK562.TSS.selected_by_highest_Pol2_signal.filtered_by_RNAseq_TPM.bed.gz\u001b[0m\n"
     ]
    }
   ],
   "source": [
    "ls ${FD_RES}/results/region/annotation_tss_pol2"
   ]
  },
  {
   "cell_type": "code",
   "execution_count": 50,
   "id": "358db4aa-4bc0-478f-b803-996a22646cf9",
   "metadata": {},
   "outputs": [],
   "source": [
    "### init\n",
    "FD_LINK=${FD_WORK}/trackhub/proj_combeffect_encode_fcc/track_annotation\n",
    "FD_FILE=${FD_RES}/results/region/annotation_tss_pol2\n",
    "\n",
    "###\n",
    "FN_LINK=K562.TSS.selected_by_highest_Pol2_signal.bed.gz\n",
    "FN_FILE=K562.TSS.selected_by_highest_Pol2_signal.bed.gz\n",
    "\n",
    "FP_LINK=${FD_LINK}/${FN_LINK}\n",
    "FP_FILE=${FD_FILE}/${FN_FILE}\n",
    "ln -fs ${FP_FILE} ${FP_LINK} "
   ]
  },
  {
   "cell_type": "code",
   "execution_count": 59,
   "id": "407b7edb-6fbc-4f80-b031-7861ec9c095a",
   "metadata": {},
   "outputs": [],
   "source": [
    "### init\n",
    "FD_LINK=${FD_WORK}/trackhub/proj_combeffect_encode_fcc/track_annotation\n",
    "FD_FILE=${FD_RES}/results/region/annotation_tss_pol2\n",
    "\n",
    "###\n",
    "FN_LINK=K562.TSS.selected_by_highest_Pol2_signal.filtered_by_RNAseq_TPM.bed.gz\n",
    "FN_FILE=K562.TSS.selected_by_highest_Pol2_signal.filtered_by_RNAseq_TPM.bed.gz\n",
    "\n",
    "FP_LINK=${FD_LINK}/${FN_LINK}\n",
    "FP_FILE=${FD_FILE}/${FN_FILE}\n",
    "ln -fs ${FP_FILE} ${FP_LINK} "
   ]
  },
  {
   "cell_type": "markdown",
   "id": "8866da4a-2aa6-4d9d-885b-bec06c9b8c25",
   "metadata": {},
   "source": [
    "```\n",
    "### init\n",
    "FD_LINK=${FD_WORK}/trackhub/proj_combeffect_encode_fcc/track_annotation\n",
    "FD_FILE=${FD_RES}/results/region/annotation_enhancer_merge\n",
    "\n",
    "###\n",
    "FN_LINK=enhancer_merge.region.starrmpra_crispri_atac.bed.gz\n",
    "FN_FILE=enhancer_merge.region.starrmpra_crispri_atac.bed.gz\n",
    "\n",
    "FP_LINK=${FD_LINK}/${FN_LINK}\n",
    "FP_FILE=${FD_FILE}/${FN_FILE}\n",
    "ln -fs ${FP_FILE} ${FP_LINK}\n",
    "```"
   ]
  },
  {
   "cell_type": "code",
   "execution_count": 54,
   "id": "0f28f133-e816-4e9f-94a4-d0b7019c5736",
   "metadata": {},
   "outputs": [],
   "source": [
    "### init\n",
    "FD_LINK=${FD_WORK}/trackhub/proj_combeffect_encode_fcc/track_annotation\n",
    "FD_FILE=${FD_RES}/results/region/annotation_ccre/summary\n",
    "\n",
    "###\n",
    "FN_LINK=K562.ENCSR913HQX.ENCFF286VQG.ccres.cat2name.bed.gz\n",
    "FN_FILE=K562.ENCSR913HQX.ENCFF286VQG.ccres.cat2name.bed.gz\n",
    "\n",
    "FP_LINK=${FD_LINK}/${FN_LINK}\n",
    "FP_FILE=${FD_FILE}/${FN_FILE}\n",
    "ln -fs ${FP_FILE} ${FP_LINK} "
   ]
  },
  {
   "cell_type": "code",
   "execution_count": 55,
   "id": "e12f9ee6-da3f-4b27-9683-684dd482cf12",
   "metadata": {},
   "outputs": [],
   "source": [
    "### init\n",
    "FD_LINK=${FD_WORK}/trackhub/proj_combeffect_encode_fcc/track_annotation\n",
    "FD_FILE=${FD_RES}/results/region/annotation_ccre/summary\n",
    "\n",
    "###\n",
    "FN_LINK=K562.ENCSR913HQX.ENCFF286VQG.ccres.cat2name.PLS_ELS.bed.gz\n",
    "FN_FILE=K562.ENCSR913HQX.ENCFF286VQG.ccres.cat2name.PLS_ELS.bed.gz\n",
    "\n",
    "FP_LINK=${FD_LINK}/${FN_LINK}\n",
    "FP_FILE=${FD_FILE}/${FN_FILE}\n",
    "ln -fs ${FP_FILE} ${FP_LINK} "
   ]
  },
  {
   "cell_type": "code",
   "execution_count": 56,
   "id": "4405c278-2fec-416f-a096-7b07fae1b21b",
   "metadata": {},
   "outputs": [],
   "source": [
    "### init\n",
    "FD_LINK=${FD_WORK}/trackhub/proj_combeffect_encode_fcc/track_annotation\n",
    "FD_FILE=${FD_RES}/results/region/annotation_chromHMM\n",
    "\n",
    "###\n",
    "FN_LINK=K562.ENCSR365YNI.ENCFF106BGJ.ChromHMM.bed.gz\n",
    "FN_FILE=K562.ENCSR365YNI.ENCFF106BGJ.ChromHMM.bed.gz\n",
    "\n",
    "FP_LINK=${FD_LINK}/${FN_LINK}\n",
    "FP_FILE=${FD_FILE}/${FN_FILE}\n",
    "ln -fs ${FP_FILE} ${FP_LINK} "
   ]
  },
  {
   "cell_type": "code",
   "execution_count": 60,
   "id": "c6deadb0-fe4c-45d6-9a71-a324ea0c210e",
   "metadata": {},
   "outputs": [
    {
     "name": "stdout",
     "output_type": "stream",
     "text": [
      "266042529 \u001b[0m\u001b[38;5;51mK562.ENCSR365YNI.ENCFF106BGJ.ChromHMM.bed.gz\u001b[0m\n",
      "266042537 \u001b[38;5;51mK562.ENCSR913HQX.ENCFF286VQG.ccres.cat2name.bed.gz\u001b[0m\n",
      "266042539 \u001b[38;5;51mK562.ENCSR913HQX.ENCFF286VQG.ccres.cat2name.PLS_ELS.bed.gz\u001b[0m\n",
      "266042531 \u001b[38;5;51mK562.TSS.selected_by_highest_Pol2_signal.bed.gz\u001b[0m\n",
      "266042547 \u001b[38;5;51mK562.TSS.selected_by_highest_Pol2_signal.filtered_by_RNAseq_TPM.bed.gz\u001b[0m\n"
     ]
    }
   ],
   "source": [
    "FD_LINK=${FD_WORK}/trackhub/proj_combeffect_encode_fcc/track_annotation\n",
    "ls -i ${FD_LINK}"
   ]
  },
  {
   "cell_type": "code",
   "execution_count": null,
   "id": "7a3fcdf4-e4ef-4c4a-9678-3d042c5b51d7",
   "metadata": {},
   "outputs": [],
   "source": []
  }
 ],
 "metadata": {
  "kernelspec": {
   "display_name": "Bash",
   "language": "bash",
   "name": "bash"
  },
  "language_info": {
   "codemirror_mode": "shell",
   "file_extension": ".sh",
   "mimetype": "text/x-sh",
   "name": "bash"
  }
 },
 "nbformat": 4,
 "nbformat_minor": 5
}
