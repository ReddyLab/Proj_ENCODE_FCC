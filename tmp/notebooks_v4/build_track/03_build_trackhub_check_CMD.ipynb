{
 "cells": [
  {
   "cell_type": "code",
   "execution_count": 1,
   "id": "11ebb54a-3b82-4232-a4f3-0b19a674c992",
   "metadata": {},
   "outputs": [
    {
     "name": "stdout",
     "output_type": "stream",
     "text": [
      "You are on Duke Server: HARDAC\n",
      "BASE DIRECTORY (FD_BASE): /data/reddylab/Kuei\n",
      "WORK DIRECTORY (FD_WORK): /data/reddylab/Kuei/out\n",
      "CODE DIRECTORY (FD_CODE): /data/reddylab/Kuei/code\n",
      "SING DIRECTORY (FD_SING): /data/reddylab/Kuei/singularity\n",
      "PATH OF PROJECT (FD_PRJ): /data/reddylab/Kuei/code/Proj_CombEffect_ENCODE_FCC\n",
      "PATH OF RESULTS (FD_RES): /data/reddylab/Kuei/out/proj_combeffect_encode_fcc\n",
      "PATH OF LOG     (FD_LOG): /data/reddylab/Kuei/out/proj_combeffect_encode_fcc/log\n",
      "\n"
     ]
    }
   ],
   "source": [
    "source ../config/config_duke.sh\n",
    "show_env"
   ]
  },
  {
   "cell_type": "code",
   "execution_count": 2,
   "id": "da7ff6ec-4e50-4e4a-ac8a-ec12d31c1b97",
   "metadata": {},
   "outputs": [
    {
     "name": "stdout",
     "output_type": "stream",
     "text": [
      "\u001b[0m\u001b[38;5;27mproj_combeffect\u001b[0m\n",
      "\u001b[38;5;27mproj_combeffect_encode_fcc\u001b[0m\n",
      "\u001b[38;5;27mscratch\u001b[0m\n",
      "\u001b[38;5;27mtrackhub\u001b[0m\n"
     ]
    }
   ],
   "source": [
    "ls -1 ${FD_WORK}"
   ]
  },
  {
   "cell_type": "code",
   "execution_count": 3,
   "id": "08264329-b14e-478e-92a9-15f2e14ee503",
   "metadata": {},
   "outputs": [
    {
     "name": "stdout",
     "output_type": "stream",
     "text": [
      "\u001b[0m\u001b[38;5;27mproj_combeffect_encode_fcc\u001b[0m\n",
      "\u001b[38;5;9mproj_combeffect_encode_fcc.tar.gz\u001b[0m\n"
     ]
    }
   ],
   "source": [
    "ls -1 ${FD_WORK}/trackhub"
   ]
  },
  {
   "cell_type": "code",
   "execution_count": 4,
   "id": "40060d08-303a-4371-8594-f289c712bf5e",
   "metadata": {},
   "outputs": [
    {
     "name": "stdout",
     "output_type": "stream",
     "text": [
      "\u001b[0m\u001b[38;5;27mtrack_annotation\u001b[0m\n",
      "\u001b[38;5;27mtrack_crispri_growth\u001b[0m\n",
      "\u001b[38;5;27mtrack_crispri_hcrff\u001b[0m\n",
      "\u001b[38;5;27mtrack_encode_e2g\u001b[0m\n",
      "\u001b[38;5;27mtrack_hic_loop\u001b[0m\n",
      "\u001b[38;5;27mtrack_starrmpra\u001b[0m\n"
     ]
    }
   ],
   "source": [
    "ls -1 ${FD_WORK}/trackhub/proj_combeffect_encode_fcc"
   ]
  },
  {
   "cell_type": "code",
   "execution_count": 5,
   "id": "f5c30dc0-8822-4fd3-9a56-37663f73cec4",
   "metadata": {},
   "outputs": [
    {
     "name": "stdout",
     "output_type": "stream",
     "text": [
      "\u001b[0m\u001b[38;5;51mMPRA_Lenti.K562.Nadav.hg38.ZScore.mean.SUBSET.unstranded.bw\u001b[0m\n",
      "\u001b[38;5;51mMPRA_Tiling.K562.Tewhey.hg38.Log2FC_norm.mean.MERGE.stranded_pos.bw\u001b[0m\n",
      "\u001b[38;5;51mSTARRseq_ATAC.K562.TR.hg38.Input.mean.SUBSET.unstranded.bw\u001b[0m\n",
      "\u001b[38;5;51mSTARRseq_ATAC.K562.TR.hg38.pLog2FC.mean.SUBSET.unstranded.bw\u001b[0m\n",
      "\u001b[38;5;51mSTARRseq_WHG.K562.TR.hg38.pLog2FC.mean.SUBSET.unstranded.bw\u001b[0m\n"
     ]
    }
   ],
   "source": [
    "ls -1 ${FD_WORK}/trackhub/proj_combeffect_encode_fcc/track_starrmpra/track_signal_original"
   ]
  },
  {
   "cell_type": "code",
   "execution_count": 7,
   "id": "03e20a80-955f-425e-9771-c0855494049e",
   "metadata": {},
   "outputs": [
    {
     "name": "stdout",
     "output_type": "stream",
     "text": [
      "\u001b[0m\u001b[38;5;51mENCODE_E2G.K562.EPCrisprBenchmark.hg38.region2TSS_Original.bigInteract\u001b[0m\n",
      "\u001b[38;5;51mENCODE_E2G.K562.EPCrisprBenchmark.hg38.region2TSS_Updated.bigInteract\u001b[0m\n",
      "\u001b[38;5;51mENCODE_E2G.K562.EPCrisprBenchmark.hg38.region.bed.gz\u001b[0m\n"
     ]
    }
   ],
   "source": [
    "ls -1 ${FD_WORK}/trackhub/proj_combeffect_encode_fcc/track_encode_e2g/track_region"
   ]
  },
  {
   "cell_type": "code",
   "execution_count": 8,
   "id": "aaec3572-806b-4d74-bc92-801245750741",
   "metadata": {},
   "outputs": [
    {
     "name": "stdout",
     "output_type": "stream",
     "text": [
      "total 3\n",
      "lrwxrwxrwx 1 kk319 reddylab 159 Oct 17 15:41 \u001b[0m\u001b[38;5;51mENCODE_E2G.K562.EPCrisprBenchmark.hg38.region2TSS_Original.bigInteract\u001b[0m\u001b[K -> /data/reddylab/Kuei/out/proj_combeffect_encode_fcc/results/region/annotation_encode_e2g_benchmark/K562.EPCrisprBenchmark.active.region2TSS_Original.bigInteract\n",
      "lrwxrwxrwx 1 kk319 reddylab 158 Oct 17 15:41 \u001b[38;5;51mENCODE_E2G.K562.EPCrisprBenchmark.hg38.region2TSS_Updated.bigInteract\u001b[0m\u001b[K -> /data/reddylab/Kuei/out/proj_combeffect_encode_fcc/results/region/annotation_encode_e2g_benchmark/K562.EPCrisprBenchmark.active.region2TSS_Updated.bigInteract\n",
      "lrwxrwxrwx 1 kk319 reddylab 134 Oct 17 15:48 \u001b[38;5;51mENCODE_E2G.K562.EPCrisprBenchmark.hg38.region.bed.gz\u001b[0m -> \u001b[38;5;9m/data/reddylab/Kuei/out/proj_combeffect_encode_fcc/results/region/annotation_encode_e2g_benchmark/K562.EPCrisprBenchmark.active.bed.gz\u001b[0m\u001b[K\n"
     ]
    }
   ],
   "source": [
    "ls -l ${FD_WORK}/trackhub/proj_combeffect_encode_fcc/track_encode_e2g/track_region"
   ]
  },
  {
   "cell_type": "code",
   "execution_count": null,
   "id": "63336e17-60b1-4770-8aee-e58aad104e2c",
   "metadata": {},
   "outputs": [],
   "source": []
  }
 ],
 "metadata": {
  "kernelspec": {
   "display_name": "Bash",
   "language": "bash",
   "name": "bash"
  },
  "language_info": {
   "codemirror_mode": "shell",
   "file_extension": ".sh",
   "mimetype": "text/x-sh",
   "name": "bash"
  }
 },
 "nbformat": 4,
 "nbformat_minor": 5
}
