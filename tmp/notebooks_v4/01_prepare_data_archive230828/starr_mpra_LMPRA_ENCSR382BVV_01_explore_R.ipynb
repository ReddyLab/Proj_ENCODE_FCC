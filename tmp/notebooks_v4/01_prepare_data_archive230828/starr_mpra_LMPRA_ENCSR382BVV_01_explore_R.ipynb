{
 "cells": [
  {
   "cell_type": "markdown",
   "metadata": {},
   "source": [
    "**Set environment**"
   ]
  },
  {
   "cell_type": "code",
   "execution_count": 1,
   "metadata": {},
   "outputs": [
    {
     "name": "stdout",
     "output_type": "stream",
     "text": [
      "You are in Singularity: singularity_proj_encode_fcc \n",
      "BASE DIRECTORY (FD_BASE): /data/reddylab/Kuei \n",
      "WORK DIRECTORY (FD_WORK): /data/reddylab/Kuei/out \n",
      "CODE DIRECTORY (FD_CODE): /data/reddylab/Kuei/code \n",
      "PATH OF PROJECT (FD_PRJ): /data/reddylab/Kuei/code/Proj_CombEffect_ENCODE_FCC \n",
      "PATH OF RESULTS (FD_RES): /data/reddylab/Kuei/out/proj_combeffect_encode_fcc \n",
      "PATH OF LOG     (FD_LOG): /data/reddylab/Kuei/out/proj_combeffect_encode_fcc/log \n"
     ]
    }
   ],
   "source": [
    "suppressMessages(suppressWarnings(source(\"../config/config_sing.R\")))\n",
    "show_env()"
   ]
  },
  {
   "cell_type": "code",
   "execution_count": null,
   "metadata": {},
   "outputs": [],
   "source": []
  },
  {
   "cell_type": "code",
   "execution_count": 5,
   "metadata": {},
   "outputs": [
    {
     "data": {
      "text/html": [
       "<style>\n",
       ".list-inline {list-style: none; margin:0; padding: 0}\n",
       ".list-inline>li {display: inline-block}\n",
       ".list-inline>li:not(:last-child)::after {content: \"\\00b7\"; padding: 0 .5ex}\n",
       "</style>\n",
       "<ol class=list-inline><li>'ENCFF012HZW.bigBed'</li><li>'ENCFF348WYK.bed.gz'</li><li>'ENCFF616IAQ.tsv'</li></ol>\n"
      ],
      "text/latex": [
       "\\begin{enumerate*}\n",
       "\\item 'ENCFF012HZW.bigBed'\n",
       "\\item 'ENCFF348WYK.bed.gz'\n",
       "\\item 'ENCFF616IAQ.tsv'\n",
       "\\end{enumerate*}\n"
      ],
      "text/markdown": [
       "1. 'ENCFF012HZW.bigBed'\n",
       "2. 'ENCFF348WYK.bed.gz'\n",
       "3. 'ENCFF616IAQ.tsv'\n",
       "\n",
       "\n"
      ],
      "text/plain": [
       "[1] \"ENCFF012HZW.bigBed\" \"ENCFF348WYK.bed.gz\" \"ENCFF616IAQ.tsv\"   "
      ]
     },
     "metadata": {},
     "output_type": "display_data"
    }
   ],
   "source": [
    "fdiry = file.path(FD_RES, \"source\", \"MPRA\", \"MPRA_LentiMPRA_K562_Nadav\")\n",
    "dir(fdiry)"
   ]
  },
  {
   "cell_type": "code",
   "execution_count": 41,
   "metadata": {},
   "outputs": [
    {
     "name": "stderr",
     "output_type": "stream",
     "text": [
      "\u001b[1mRows: \u001b[22m\u001b[34m226946\u001b[39m \u001b[1mColumns: \u001b[22m\u001b[34m2\u001b[39m\n",
      "\u001b[36m──\u001b[39m \u001b[1mColumn specification\u001b[22m \u001b[36m─────────────────────────────────────────────────────────────────────\u001b[39m\n",
      "\u001b[1mDelimiter:\u001b[22m \"\\t\"\n",
      "\u001b[31mchr\u001b[39m (1): name\n",
      "\u001b[32mdbl\u001b[39m (1): meanVal\n",
      "\n",
      "\u001b[36mℹ\u001b[39m Use `spec()` to retrieve the full column specification for this data.\n",
      "\u001b[36mℹ\u001b[39m Specify the column types or set `show_col_types = FALSE` to quiet this message.\n"
     ]
    },
    {
     "name": "stdout",
     "output_type": "stream",
     "text": [
      "[1] 226946      2\n"
     ]
    },
    {
     "data": {
      "text/html": [
       "<table class=\"dataframe\">\n",
       "<caption>A tibble: 6 × 2</caption>\n",
       "<thead>\n",
       "\t<tr><th scope=col>name</th><th scope=col>meanVal</th></tr>\n",
       "\t<tr><th scope=col>&lt;chr&gt;</th><th scope=col>&lt;dbl&gt;</th></tr>\n",
       "</thead>\n",
       "<tbody>\n",
       "\t<tr><td>BCL11A_1             </td><td>-0.2093</td></tr>\n",
       "\t<tr><td>BCL11A_10            </td><td>-0.4507</td></tr>\n",
       "\t<tr><td>BCL11A_1003_Reversed:</td><td>-0.0176</td></tr>\n",
       "\t<tr><td>BCL11A_1005          </td><td>-0.4406</td></tr>\n",
       "\t<tr><td>BCL11A_1005_Reversed:</td><td>-0.3736</td></tr>\n",
       "\t<tr><td>BCL11A_1007          </td><td> 0.0489</td></tr>\n",
       "</tbody>\n",
       "</table>\n"
      ],
      "text/latex": [
       "A tibble: 6 × 2\n",
       "\\begin{tabular}{ll}\n",
       " name & meanVal\\\\\n",
       " <chr> & <dbl>\\\\\n",
       "\\hline\n",
       "\t BCL11A\\_1              & -0.2093\\\\\n",
       "\t BCL11A\\_10             & -0.4507\\\\\n",
       "\t BCL11A\\_1003\\_Reversed: & -0.0176\\\\\n",
       "\t BCL11A\\_1005           & -0.4406\\\\\n",
       "\t BCL11A\\_1005\\_Reversed: & -0.3736\\\\\n",
       "\t BCL11A\\_1007           &  0.0489\\\\\n",
       "\\end{tabular}\n"
      ],
      "text/markdown": [
       "\n",
       "A tibble: 6 × 2\n",
       "\n",
       "| name &lt;chr&gt; | meanVal &lt;dbl&gt; |\n",
       "|---|---|\n",
       "| BCL11A_1              | -0.2093 |\n",
       "| BCL11A_10             | -0.4507 |\n",
       "| BCL11A_1003_Reversed: | -0.0176 |\n",
       "| BCL11A_1005           | -0.4406 |\n",
       "| BCL11A_1005_Reversed: | -0.3736 |\n",
       "| BCL11A_1007           |  0.0489 |\n",
       "\n"
      ],
      "text/plain": [
       "  name                  meanVal\n",
       "1 BCL11A_1              -0.2093\n",
       "2 BCL11A_10             -0.4507\n",
       "3 BCL11A_1003_Reversed: -0.0176\n",
       "4 BCL11A_1005           -0.4406\n",
       "5 BCL11A_1005_Reversed: -0.3736\n",
       "6 BCL11A_1007            0.0489"
      ]
     },
     "metadata": {},
     "output_type": "display_data"
    }
   ],
   "source": [
    "fdiry = file.path(FD_RES, \"source\", \"MPRA\", \"MPRA_LentiMPRA_K562_Nadav\")\n",
    "fname = \"ENCFF616IAQ.tsv\"\n",
    "fpath = file.path(fdiry, fname)\n",
    "\n",
    "dat = read_tsv(fpath)\n",
    "\n",
    "dat_lmpra_score = dat\n",
    "print(dim(dat))\n",
    "head(dat)"
   ]
  },
  {
   "cell_type": "code",
   "execution_count": 18,
   "metadata": {},
   "outputs": [
    {
     "name": "stderr",
     "output_type": "stream",
     "text": [
      "\u001b[1mRows: \u001b[22m\u001b[34m226631\u001b[39m \u001b[1mColumns: \u001b[22m\u001b[34m11\u001b[39m\n",
      "\u001b[36m──\u001b[39m \u001b[1mColumn specification\u001b[22m \u001b[36m─────────────────────────────────────────────────────────────────────\u001b[39m\n",
      "\u001b[1mDelimiter:\u001b[22m \"\\t\"\n",
      "\u001b[31mchr\u001b[39m (3): X1, X4, X6\n",
      "\u001b[32mdbl\u001b[39m (8): X2, X3, X5, X7, X8, X9, X10, X11\n",
      "\n",
      "\u001b[36mℹ\u001b[39m Use `spec()` to retrieve the full column specification for this data.\n",
      "\u001b[36mℹ\u001b[39m Specify the column types or set `show_col_types = FALSE` to quiet this message.\n"
     ]
    },
    {
     "name": "stdout",
     "output_type": "stream",
     "text": [
      "[1] 226631     11\n"
     ]
    },
    {
     "data": {
      "text/html": [
       "<table class=\"dataframe\">\n",
       "<caption>A tibble: 6 × 11</caption>\n",
       "<thead>\n",
       "\t<tr><th scope=col>X1</th><th scope=col>X2</th><th scope=col>X3</th><th scope=col>X4</th><th scope=col>X5</th><th scope=col>X6</th><th scope=col>X7</th><th scope=col>X8</th><th scope=col>X9</th><th scope=col>X10</th><th scope=col>X11</th></tr>\n",
       "\t<tr><th scope=col>&lt;chr&gt;</th><th scope=col>&lt;dbl&gt;</th><th scope=col>&lt;dbl&gt;</th><th scope=col>&lt;chr&gt;</th><th scope=col>&lt;dbl&gt;</th><th scope=col>&lt;chr&gt;</th><th scope=col>&lt;dbl&gt;</th><th scope=col>&lt;dbl&gt;</th><th scope=col>&lt;dbl&gt;</th><th scope=col>&lt;dbl&gt;</th><th scope=col>&lt;dbl&gt;</th></tr>\n",
       "</thead>\n",
       "<tbody>\n",
       "\t<tr><td>chr1</td><td>115631</td><td>115831</td><td>peak1_Reversed:</td><td>0</td><td>-</td><td> 0.1572</td><td>0.0780</td><td>0.0735</td><td>-1</td><td>-1</td></tr>\n",
       "\t<tr><td>chr1</td><td>138940</td><td>139140</td><td>peak2_Reversed:</td><td>0</td><td>-</td><td> 0.2047</td><td>0.0510</td><td>0.0490</td><td>-1</td><td>-1</td></tr>\n",
       "\t<tr><td>chr1</td><td>138940</td><td>139140</td><td>peak2          </td><td>0</td><td>+</td><td>-0.2317</td><td>0.0790</td><td>0.0562</td><td>-1</td><td>-1</td></tr>\n",
       "\t<tr><td>chr1</td><td>203225</td><td>203425</td><td>peak3_Reversed:</td><td>0</td><td>-</td><td> 0.0023</td><td>0.0768</td><td>0.0643</td><td>-1</td><td>-1</td></tr>\n",
       "\t<tr><td>chr1</td><td>203225</td><td>203425</td><td>peak3          </td><td>0</td><td>+</td><td> 0.0524</td><td>0.0834</td><td>0.0721</td><td>-1</td><td>-1</td></tr>\n",
       "\t<tr><td>chr1</td><td>267911</td><td>268111</td><td>peak4_Reversed:</td><td>0</td><td>-</td><td>-0.3220</td><td>0.0529</td><td>0.0352</td><td>-1</td><td>-1</td></tr>\n",
       "</tbody>\n",
       "</table>\n"
      ],
      "text/latex": [
       "A tibble: 6 × 11\n",
       "\\begin{tabular}{lllllllllll}\n",
       " X1 & X2 & X3 & X4 & X5 & X6 & X7 & X8 & X9 & X10 & X11\\\\\n",
       " <chr> & <dbl> & <dbl> & <chr> & <dbl> & <chr> & <dbl> & <dbl> & <dbl> & <dbl> & <dbl>\\\\\n",
       "\\hline\n",
       "\t chr1 & 115631 & 115831 & peak1\\_Reversed: & 0 & - &  0.1572 & 0.0780 & 0.0735 & -1 & -1\\\\\n",
       "\t chr1 & 138940 & 139140 & peak2\\_Reversed: & 0 & - &  0.2047 & 0.0510 & 0.0490 & -1 & -1\\\\\n",
       "\t chr1 & 138940 & 139140 & peak2           & 0 & + & -0.2317 & 0.0790 & 0.0562 & -1 & -1\\\\\n",
       "\t chr1 & 203225 & 203425 & peak3\\_Reversed: & 0 & - &  0.0023 & 0.0768 & 0.0643 & -1 & -1\\\\\n",
       "\t chr1 & 203225 & 203425 & peak3           & 0 & + &  0.0524 & 0.0834 & 0.0721 & -1 & -1\\\\\n",
       "\t chr1 & 267911 & 268111 & peak4\\_Reversed: & 0 & - & -0.3220 & 0.0529 & 0.0352 & -1 & -1\\\\\n",
       "\\end{tabular}\n"
      ],
      "text/markdown": [
       "\n",
       "A tibble: 6 × 11\n",
       "\n",
       "| X1 &lt;chr&gt; | X2 &lt;dbl&gt; | X3 &lt;dbl&gt; | X4 &lt;chr&gt; | X5 &lt;dbl&gt; | X6 &lt;chr&gt; | X7 &lt;dbl&gt; | X8 &lt;dbl&gt; | X9 &lt;dbl&gt; | X10 &lt;dbl&gt; | X11 &lt;dbl&gt; |\n",
       "|---|---|---|---|---|---|---|---|---|---|---|\n",
       "| chr1 | 115631 | 115831 | peak1_Reversed: | 0 | - |  0.1572 | 0.0780 | 0.0735 | -1 | -1 |\n",
       "| chr1 | 138940 | 139140 | peak2_Reversed: | 0 | - |  0.2047 | 0.0510 | 0.0490 | -1 | -1 |\n",
       "| chr1 | 138940 | 139140 | peak2           | 0 | + | -0.2317 | 0.0790 | 0.0562 | -1 | -1 |\n",
       "| chr1 | 203225 | 203425 | peak3_Reversed: | 0 | - |  0.0023 | 0.0768 | 0.0643 | -1 | -1 |\n",
       "| chr1 | 203225 | 203425 | peak3           | 0 | + |  0.0524 | 0.0834 | 0.0721 | -1 | -1 |\n",
       "| chr1 | 267911 | 268111 | peak4_Reversed: | 0 | - | -0.3220 | 0.0529 | 0.0352 | -1 | -1 |\n",
       "\n"
      ],
      "text/plain": [
       "  X1   X2     X3     X4              X5 X6 X7      X8     X9     X10 X11\n",
       "1 chr1 115631 115831 peak1_Reversed: 0  -   0.1572 0.0780 0.0735 -1  -1 \n",
       "2 chr1 138940 139140 peak2_Reversed: 0  -   0.2047 0.0510 0.0490 -1  -1 \n",
       "3 chr1 138940 139140 peak2           0  +  -0.2317 0.0790 0.0562 -1  -1 \n",
       "4 chr1 203225 203425 peak3_Reversed: 0  -   0.0023 0.0768 0.0643 -1  -1 \n",
       "5 chr1 203225 203425 peak3           0  +   0.0524 0.0834 0.0721 -1  -1 \n",
       "6 chr1 267911 268111 peak4_Reversed: 0  -  -0.3220 0.0529 0.0352 -1  -1 "
      ]
     },
     "metadata": {},
     "output_type": "display_data"
    }
   ],
   "source": [
    "fdiry = file.path(FD_RES, \"source\", \"MPRA\", \"MPRA_LentiMPRA_K562_Nadav\")\n",
    "fname = \"ENCFF348WYK.bed.gz\"\n",
    "fpath = file.path(fdiry, fname)\n",
    "\n",
    "cnames = c(\"Chrom\", \"Start\", \"End\", \"Name\", \"Score\", \"Strand\")\n",
    "dat = read_tsv(fpath, col_names=FALSE)\n",
    "\n",
    "dat_lmpra_import = dat\n",
    "print(dim(dat))\n",
    "head(dat)"
   ]
  },
  {
   "cell_type": "code",
   "execution_count": 29,
   "metadata": {},
   "outputs": [
    {
     "data": {
      "text/plain": [
       "       X5          X7                X8                X9               X10    \n",
       " Min.   :0   Min.   :-1.8879   Min.   :0.00770   Min.   :0.01120   Min.   :-1  \n",
       " 1st Qu.:0   1st Qu.:-0.2593   1st Qu.:0.04970   1st Qu.:0.04230   1st Qu.:-1  \n",
       " Median :0   Median :-0.0004   Median :0.06900   Median :0.05710   Median :-1  \n",
       " Mean   :0   Mean   : 0.1042   Mean   :0.07148   Mean   :0.06703   Mean   :-1  \n",
       " 3rd Qu.:0   3rd Qu.: 0.3718   3rd Qu.:0.08970   3rd Qu.:0.07750   3rd Qu.:-1  \n",
       " Max.   :0   Max.   : 3.7401   Max.   :0.40040   Max.   :0.91510   Max.   :-1  \n",
       "      X11    \n",
       " Min.   :-1  \n",
       " 1st Qu.:-1  \n",
       " Median :-1  \n",
       " Mean   :-1  \n",
       " 3rd Qu.:-1  \n",
       " Max.   :-1  "
      ]
     },
     "metadata": {},
     "output_type": "display_data"
    }
   ],
   "source": [
    "dat = dat_lmpra_import\n",
    "dat = dat[,c(\"X5\", \"X7\", \"X8\", \"X9\", \"X10\", \"X11\")]\n",
    "summary(dat)"
   ]
  },
  {
   "cell_type": "code",
   "execution_count": 30,
   "metadata": {},
   "outputs": [
    {
     "name": "stdout",
     "output_type": "stream",
     "text": [
      "[1] 0.0780 0.0510 0.0790 0.0768 0.0834 0.0529\n",
      "holm \n",
      "[1] 0.1174248 0.1174248 0.1174248 0.1174248 0.1174248 0.1174248\n",
      "hochberg \n",
      "[1] 0.1174248 0.1174248 0.1174248 0.1174248 0.1174248 0.1174248\n",
      "hommel \n",
      "[1] 0.1174248 0.1174248 0.1174248 0.1174248 0.1174248 0.1174248\n",
      "bonferroni \n",
      "[1] 0.1174248 0.1174248 0.1174248 0.1174248 0.1174248 0.1174248\n",
      "BH \n",
      "[1] 0.1174248 0.1174248 0.1174248 0.1174248 0.1174248 0.1174248\n",
      "BY \n",
      "[1] 0.1174248 0.1174248 0.1174248 0.1174248 0.1174248 0.1174248\n",
      "none \n",
      "[1] 0.1174248 0.1174248 0.1174248 0.1174248 0.1174248 0.1174248\n"
     ]
    }
   ],
   "source": [
    "dat = dat_lmpra_import\n",
    "vec = dat$X8\n",
    "print(head(vec))\n",
    "\n",
    "p_adjust_methods = p.adjust.methods[p.adjust.methods != \"fdr\"]\n",
    "\n",
    "for (meth in p_adjust_methods){\n",
    "    cat(meth, \"\\n\")\n",
    "    tmp = p.adjust(vec, method=\"fdr\")\n",
    "    print(head(tmp))\n",
    "}\n"
   ]
  },
  {
   "cell_type": "code",
   "execution_count": 34,
   "metadata": {},
   "outputs": [
    {
     "name": "stdout",
     "output_type": "stream",
     "text": [
      "[1] 0.0780 0.0510 0.0790 0.0768 0.0834 0.0529\n",
      "[1] 0.0735 0.0490 0.0562 0.0643 0.0721 0.0352\n",
      "[1] 0.08572987 0.05771550 0.49128252 0.25628757 0.21004812 0.58769229\n"
     ]
    }
   ],
   "source": [
    "dat = dat_lmpra_import\n",
    "vec1 = dat$X8\n",
    "vec2 = dat$X9\n",
    "vec3 = log2(vec1) -  log2(vec2)\n",
    "print(head(vec1))\n",
    "print(head(vec2))\n",
    "print(head(vec3))"
   ]
  },
  {
   "cell_type": "code",
   "execution_count": 9,
   "metadata": {},
   "outputs": [
    {
     "data": {
      "image/png": "[encoded data removed]",
      "text/plain": [
       "plot without title"
      ]
     },
     "metadata": {
      "image/png": {
       "height": 300,
       "width": 420
      }
     },
     "output_type": "display_data"
    }
   ],
   "source": [
    "dat = dat_lmpra_import\n",
    "gpt = ggplot(dat, aes(x=X7)) + \n",
    "    geom_histogram(binwidth = 0.1) + \n",
    "    theme_cowplot()\n",
    "\n",
    "options(repr.plot.height=5, repr.plot.width=7)\n",
    "print(gpt)"
   ]
  },
  {
   "cell_type": "code",
   "execution_count": 15,
   "metadata": {},
   "outputs": [
    {
     "data": {
      "image/png": "[encoded data removed]",
      "text/plain": [
       "plot without title"
      ]
     },
     "metadata": {
      "image/png": {
       "height": 300,
       "width": 420
      }
     },
     "output_type": "display_data"
    }
   ],
   "source": [
    "dat = dat_lmpra_import\n",
    "gpt = ggplot(dat, aes(x=X8)) + \n",
    "    geom_histogram(binwidth = 0.005) + \n",
    "    theme_cowplot()\n",
    "\n",
    "options(repr.plot.height=5, repr.plot.width=7)\n",
    "print(gpt)"
   ]
  },
  {
   "cell_type": "code",
   "execution_count": 16,
   "metadata": {},
   "outputs": [
    {
     "data": {
      "image/png": "[encoded data removed]",
      "text/plain": [
       "plot without title"
      ]
     },
     "metadata": {
      "image/png": {
       "height": 300,
       "width": 420
      }
     },
     "output_type": "display_data"
    }
   ],
   "source": [
    "dat = dat_lmpra_import\n",
    "gpt = ggplot(dat, aes(x=X9)) + \n",
    "    geom_histogram(binwidth = 0.005) + \n",
    "    theme_cowplot()\n",
    "\n",
    "options(repr.plot.height=5, repr.plot.width=7)\n",
    "print(gpt)"
   ]
  },
  {
   "cell_type": "code",
   "execution_count": 40,
   "metadata": {},
   "outputs": [
    {
     "name": "stdout",
     "output_type": "stream",
     "text": [
      "[1] 114898      4\n"
     ]
    },
    {
     "data": {
      "text/html": [
       "<table class=\"dataframe\">\n",
       "<caption>A tibble: 6 × 4</caption>\n",
       "<thead>\n",
       "\t<tr><th scope=col>X1</th><th scope=col>X2</th><th scope=col>X3</th><th scope=col>Score</th></tr>\n",
       "\t<tr><th scope=col>&lt;chr&gt;</th><th scope=col>&lt;dbl&gt;</th><th scope=col>&lt;dbl&gt;</th><th scope=col>&lt;dbl&gt;</th></tr>\n",
       "</thead>\n",
       "<tbody>\n",
       "\t<tr><td>chr1</td><td>115631</td><td>115831</td><td> 0.15720</td></tr>\n",
       "\t<tr><td>chr1</td><td>138940</td><td>139140</td><td>-0.01350</td></tr>\n",
       "\t<tr><td>chr1</td><td>203225</td><td>203425</td><td> 0.02735</td></tr>\n",
       "\t<tr><td>chr1</td><td>267911</td><td>268111</td><td> 0.05975</td></tr>\n",
       "\t<tr><td>chr1</td><td>586093</td><td>586293</td><td> 0.07640</td></tr>\n",
       "\t<tr><td>chr1</td><td>629847</td><td>630047</td><td>-0.48830</td></tr>\n",
       "</tbody>\n",
       "</table>\n"
      ],
      "text/latex": [
       "A tibble: 6 × 4\n",
       "\\begin{tabular}{llll}\n",
       " X1 & X2 & X3 & Score\\\\\n",
       " <chr> & <dbl> & <dbl> & <dbl>\\\\\n",
       "\\hline\n",
       "\t chr1 & 115631 & 115831 &  0.15720\\\\\n",
       "\t chr1 & 138940 & 139140 & -0.01350\\\\\n",
       "\t chr1 & 203225 & 203425 &  0.02735\\\\\n",
       "\t chr1 & 267911 & 268111 &  0.05975\\\\\n",
       "\t chr1 & 586093 & 586293 &  0.07640\\\\\n",
       "\t chr1 & 629847 & 630047 & -0.48830\\\\\n",
       "\\end{tabular}\n"
      ],
      "text/markdown": [
       "\n",
       "A tibble: 6 × 4\n",
       "\n",
       "| X1 &lt;chr&gt; | X2 &lt;dbl&gt; | X3 &lt;dbl&gt; | Score &lt;dbl&gt; |\n",
       "|---|---|---|---|\n",
       "| chr1 | 115631 | 115831 |  0.15720 |\n",
       "| chr1 | 138940 | 139140 | -0.01350 |\n",
       "| chr1 | 203225 | 203425 |  0.02735 |\n",
       "| chr1 | 267911 | 268111 |  0.05975 |\n",
       "| chr1 | 586093 | 586293 |  0.07640 |\n",
       "| chr1 | 629847 | 630047 | -0.48830 |\n",
       "\n"
      ],
      "text/plain": [
       "  X1   X2     X3     Score   \n",
       "1 chr1 115631 115831  0.15720\n",
       "2 chr1 138940 139140 -0.01350\n",
       "3 chr1 203225 203425  0.02735\n",
       "4 chr1 267911 268111  0.05975\n",
       "5 chr1 586093 586293  0.07640\n",
       "6 chr1 629847 630047 -0.48830"
      ]
     },
     "metadata": {},
     "output_type": "display_data"
    }
   ],
   "source": [
    "dat = dat_lmpra_import\n",
    "dat = dat %>% \n",
    "    dplyr::group_by(X1, X2, X3) %>%\n",
    "    dplyr::summarize(Score = mean(X7), .groups=\"drop\")\n",
    "\n",
    "print(dim(dat))\n",
    "head(dat)"
   ]
  },
  {
   "cell_type": "code",
   "execution_count": 39,
   "metadata": {},
   "outputs": [
    {
     "data": {
      "image/png": "[encoded data removed]",
      "text/plain": [
       "plot without title"
      ]
     },
     "metadata": {
      "image/png": {
       "height": 300,
       "width": 420
      }
     },
     "output_type": "display_data"
    }
   ],
   "source": [
    "gpt = ggplot(dat, aes(x=Score)) + \n",
    "    geom_histogram(binwidth = 0.1) + \n",
    "    theme_cowplot()\n",
    "\n",
    "options(repr.plot.height=5, repr.plot.width=7)\n",
    "print(gpt)"
   ]
  },
  {
   "cell_type": "code",
   "execution_count": 45,
   "metadata": {},
   "outputs": [
    {
     "name": "stdout",
     "output_type": "stream",
     "text": [
      "[1] 226631     11\n",
      "[1] 226946      2\n",
      "[1] 226631     12\n"
     ]
    },
    {
     "data": {
      "text/html": [
       "<table class=\"dataframe\">\n",
       "<caption>A tibble: 6 × 12</caption>\n",
       "<thead>\n",
       "\t<tr><th scope=col>X1</th><th scope=col>X2</th><th scope=col>X3</th><th scope=col>X4</th><th scope=col>X5</th><th scope=col>X6</th><th scope=col>X7</th><th scope=col>X8</th><th scope=col>X9</th><th scope=col>X10</th><th scope=col>X11</th><th scope=col>meanVal</th></tr>\n",
       "\t<tr><th scope=col>&lt;chr&gt;</th><th scope=col>&lt;dbl&gt;</th><th scope=col>&lt;dbl&gt;</th><th scope=col>&lt;chr&gt;</th><th scope=col>&lt;dbl&gt;</th><th scope=col>&lt;chr&gt;</th><th scope=col>&lt;dbl&gt;</th><th scope=col>&lt;dbl&gt;</th><th scope=col>&lt;dbl&gt;</th><th scope=col>&lt;dbl&gt;</th><th scope=col>&lt;dbl&gt;</th><th scope=col>&lt;dbl&gt;</th></tr>\n",
       "</thead>\n",
       "<tbody>\n",
       "\t<tr><td>chr1</td><td>115631</td><td>115831</td><td>peak1_Reversed:</td><td>0</td><td>-</td><td> 0.1572</td><td>0.0780</td><td>0.0735</td><td>-1</td><td>-1</td><td> 0.1572</td></tr>\n",
       "\t<tr><td>chr1</td><td>138940</td><td>139140</td><td>peak2_Reversed:</td><td>0</td><td>-</td><td> 0.2047</td><td>0.0510</td><td>0.0490</td><td>-1</td><td>-1</td><td> 0.2047</td></tr>\n",
       "\t<tr><td>chr1</td><td>138940</td><td>139140</td><td>peak2          </td><td>0</td><td>+</td><td>-0.2317</td><td>0.0790</td><td>0.0562</td><td>-1</td><td>-1</td><td>-0.2317</td></tr>\n",
       "\t<tr><td>chr1</td><td>203225</td><td>203425</td><td>peak3_Reversed:</td><td>0</td><td>-</td><td> 0.0023</td><td>0.0768</td><td>0.0643</td><td>-1</td><td>-1</td><td> 0.0023</td></tr>\n",
       "\t<tr><td>chr1</td><td>203225</td><td>203425</td><td>peak3          </td><td>0</td><td>+</td><td> 0.0524</td><td>0.0834</td><td>0.0721</td><td>-1</td><td>-1</td><td> 0.0524</td></tr>\n",
       "\t<tr><td>chr1</td><td>267911</td><td>268111</td><td>peak4_Reversed:</td><td>0</td><td>-</td><td>-0.3220</td><td>0.0529</td><td>0.0352</td><td>-1</td><td>-1</td><td>-0.3220</td></tr>\n",
       "</tbody>\n",
       "</table>\n"
      ],
      "text/latex": [
       "A tibble: 6 × 12\n",
       "\\begin{tabular}{llllllllllll}\n",
       " X1 & X2 & X3 & X4 & X5 & X6 & X7 & X8 & X9 & X10 & X11 & meanVal\\\\\n",
       " <chr> & <dbl> & <dbl> & <chr> & <dbl> & <chr> & <dbl> & <dbl> & <dbl> & <dbl> & <dbl> & <dbl>\\\\\n",
       "\\hline\n",
       "\t chr1 & 115631 & 115831 & peak1\\_Reversed: & 0 & - &  0.1572 & 0.0780 & 0.0735 & -1 & -1 &  0.1572\\\\\n",
       "\t chr1 & 138940 & 139140 & peak2\\_Reversed: & 0 & - &  0.2047 & 0.0510 & 0.0490 & -1 & -1 &  0.2047\\\\\n",
       "\t chr1 & 138940 & 139140 & peak2           & 0 & + & -0.2317 & 0.0790 & 0.0562 & -1 & -1 & -0.2317\\\\\n",
       "\t chr1 & 203225 & 203425 & peak3\\_Reversed: & 0 & - &  0.0023 & 0.0768 & 0.0643 & -1 & -1 &  0.0023\\\\\n",
       "\t chr1 & 203225 & 203425 & peak3           & 0 & + &  0.0524 & 0.0834 & 0.0721 & -1 & -1 &  0.0524\\\\\n",
       "\t chr1 & 267911 & 268111 & peak4\\_Reversed: & 0 & - & -0.3220 & 0.0529 & 0.0352 & -1 & -1 & -0.3220\\\\\n",
       "\\end{tabular}\n"
      ],
      "text/markdown": [
       "\n",
       "A tibble: 6 × 12\n",
       "\n",
       "| X1 &lt;chr&gt; | X2 &lt;dbl&gt; | X3 &lt;dbl&gt; | X4 &lt;chr&gt; | X5 &lt;dbl&gt; | X6 &lt;chr&gt; | X7 &lt;dbl&gt; | X8 &lt;dbl&gt; | X9 &lt;dbl&gt; | X10 &lt;dbl&gt; | X11 &lt;dbl&gt; | meanVal &lt;dbl&gt; |\n",
       "|---|---|---|---|---|---|---|---|---|---|---|---|\n",
       "| chr1 | 115631 | 115831 | peak1_Reversed: | 0 | - |  0.1572 | 0.0780 | 0.0735 | -1 | -1 |  0.1572 |\n",
       "| chr1 | 138940 | 139140 | peak2_Reversed: | 0 | - |  0.2047 | 0.0510 | 0.0490 | -1 | -1 |  0.2047 |\n",
       "| chr1 | 138940 | 139140 | peak2           | 0 | + | -0.2317 | 0.0790 | 0.0562 | -1 | -1 | -0.2317 |\n",
       "| chr1 | 203225 | 203425 | peak3_Reversed: | 0 | - |  0.0023 | 0.0768 | 0.0643 | -1 | -1 |  0.0023 |\n",
       "| chr1 | 203225 | 203425 | peak3           | 0 | + |  0.0524 | 0.0834 | 0.0721 | -1 | -1 |  0.0524 |\n",
       "| chr1 | 267911 | 268111 | peak4_Reversed: | 0 | - | -0.3220 | 0.0529 | 0.0352 | -1 | -1 | -0.3220 |\n",
       "\n"
      ],
      "text/plain": [
       "  X1   X2     X3     X4              X5 X6 X7      X8     X9     X10 X11\n",
       "1 chr1 115631 115831 peak1_Reversed: 0  -   0.1572 0.0780 0.0735 -1  -1 \n",
       "2 chr1 138940 139140 peak2_Reversed: 0  -   0.2047 0.0510 0.0490 -1  -1 \n",
       "3 chr1 138940 139140 peak2           0  +  -0.2317 0.0790 0.0562 -1  -1 \n",
       "4 chr1 203225 203425 peak3_Reversed: 0  -   0.0023 0.0768 0.0643 -1  -1 \n",
       "5 chr1 203225 203425 peak3           0  +   0.0524 0.0834 0.0721 -1  -1 \n",
       "6 chr1 267911 268111 peak4_Reversed: 0  -  -0.3220 0.0529 0.0352 -1  -1 \n",
       "  meanVal\n",
       "1  0.1572\n",
       "2  0.2047\n",
       "3 -0.2317\n",
       "4  0.0023\n",
       "5  0.0524\n",
       "6 -0.3220"
      ]
     },
     "metadata": {},
     "output_type": "display_data"
    }
   ],
   "source": [
    "dat1 = dat_lmpra_import\n",
    "dat2 = dat_lmpra_score\n",
    "dat  = dplyr::left_join(dat1, dat2, by=c(\"X4\" = \"name\")) %>% na.omit\n",
    "print(dim(dat1))\n",
    "print(dim(dat2))\n",
    "print(dim(dat))\n",
    "head(dat)"
   ]
  },
  {
   "cell_type": "code",
   "execution_count": 46,
   "metadata": {},
   "outputs": [
    {
     "data": {
      "text/html": [
       "TRUE"
      ],
      "text/latex": [
       "TRUE"
      ],
      "text/markdown": [
       "TRUE"
      ],
      "text/plain": [
       "[1] TRUE"
      ]
     },
     "metadata": {},
     "output_type": "display_data"
    }
   ],
   "source": [
    "all(dat$X7 == dat$meanVal)"
   ]
  },
  {
   "cell_type": "code",
   "execution_count": null,
   "metadata": {},
   "outputs": [],
   "source": []
  }
 ],
 "metadata": {
  "kernelspec": {
   "display_name": "R",
   "language": "R",
   "name": "ir"
  },
  "language_info": {
   "codemirror_mode": "r",
   "file_extension": ".r",
   "mimetype": "text/x-r-source",
   "name": "R",
   "pygments_lexer": "r",
   "version": "4.3.0"
  }
 },
 "nbformat": 4,
 "nbformat_minor": 4
}
