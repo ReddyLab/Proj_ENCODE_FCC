{
 "cells": [
  {
   "cell_type": "markdown",
   "id": "81608e85-5de0-44b0-8de2-d1cc53df9919",
   "metadata": {},
   "source": [
    "**Set environment**"
   ]
  },
  {
   "cell_type": "code",
   "execution_count": 1,
   "id": "2f15be40-f55f-46c3-b690-959a6ca9f2c5",
   "metadata": {},
   "outputs": [
    {
     "name": "stdout",
     "output_type": "stream",
     "text": [
      "You are on Duke Server: HARDAC\n",
      "BASE DIRECTORY (FD_BASE): /data/reddylab/Kuei\n",
      "WORK DIRECTORY (FD_WORK): /data/reddylab/Kuei/out\n",
      "CODE DIRECTORY (FD_CODE): /data/reddylab/Kuei/code\n",
      "SING DIRECTORY (FD_SING): /data/reddylab/Kuei/singularity\n",
      "PATH OF PROJECT (FD_PRJ): /data/reddylab/Kuei/code/Proj_CombEffect_ENCODE_FCC\n",
      "PATH OF RESULTS (FD_RES): /data/reddylab/Kuei/out/proj_combeffect_encode_fcc\n",
      "PATH OF LOG     (FD_LOG): /data/reddylab/Kuei/out/proj_combeffect_encode_fcc/log\n",
      "\n"
     ]
    }
   ],
   "source": [
    "### set env\n",
    "source ../config/config_duke.sh\n",
    "show_env"
   ]
  },
  {
   "cell_type": "markdown",
   "id": "f6a41f7b-8eea-4358-9849-6247cfcb087b",
   "metadata": {},
   "source": [
    "**Check data**"
   ]
  },
  {
   "cell_type": "code",
   "execution_count": 2,
   "id": "52f5e501-8cb0-4e43-9939-8a451132d6fc",
   "metadata": {},
   "outputs": [
    {
     "name": "stdout",
     "output_type": "stream",
     "text": [
      "\u001b[0m\u001b[38;5;27mATAC_STARR_deep\u001b[0m  \u001b[38;5;27mWHG_STARR_seq_TR\u001b[0m\n"
     ]
    }
   ],
   "source": [
    "FDIRY=${FD_RES}/source/annotation_enhancer_junke\n",
    "ls ${FDIRY}"
   ]
  },
  {
   "cell_type": "code",
   "execution_count": 3,
   "id": "66bb05b5-9c6a-4f28-8a92-c3fb5c9cf684",
   "metadata": {},
   "outputs": [
    {
     "name": "stdout",
     "output_type": "stream",
     "text": [
      "/data/reddylab/Kuei/out/proj_combeffect_encode_fcc/source/annotation_enhancer_junke/ATAC_STARR_deep:\n",
      "\u001b[0m\u001b[38;5;27mdeep_ATAC_STARR_seq.full_overlap_100bp_bin_10bp_stepSize\u001b[0m\n",
      "\u001b[38;5;9mdeep_ATAC_STARR_seq.full_overlap_100bp_bin_10bp_stepSize.tar.gz\u001b[0m\n",
      "\u001b[38;5;27mdeep_ATAC_STARR_seq.full_overlap_30bp_bin_10bp_stepSize\u001b[0m\n",
      "\u001b[38;5;9mdeep_ATAC_STARR_seq.full_overlap_30bp_bin_10bp_stepSize.tar.gz\u001b[0m\n",
      "\u001b[38;5;9mdeep_ATAC_STARR_seq.full_overlap_30bp_bin_10bp_stepSize.zip\u001b[0m\n",
      "\n",
      "/data/reddylab/Kuei/out/proj_combeffect_encode_fcc/source/annotation_enhancer_junke/WHG_STARR_seq_TR:\n",
      "\u001b[38;5;27mWHG_STARR_seq_TR.full_overlap_100_bp_bin_10_bp_stepSize\u001b[0m\n",
      "\u001b[38;5;9mWHG_STARR_seq_TR.full_overlap_100_bp_bin_10_bp_stepSize.tar.gz\u001b[0m\n",
      "\u001b[38;5;27mWHG_STARR_seq_TR.full_overlap_30bp_bin_10bp_stepSize\u001b[0m\n",
      "\u001b[38;5;9mWHG_STARR_seq_TR.full_overlap_30bp_bin_10bp_stepSize.tar.gz\u001b[0m\n",
      "\u001b[38;5;9mWHG_STARR_seq_TR.full_overlap_30bp_bin_10bp_stepSize.zip\u001b[0m\n"
     ]
    }
   ],
   "source": [
    "ls ${FDIRY}/*"
   ]
  },
  {
   "cell_type": "code",
   "execution_count": 4,
   "id": "3477ddc4-933f-40f2-b669-09ad0852e002",
   "metadata": {},
   "outputs": [
    {
     "name": "stdout",
     "output_type": "stream",
     "text": [
      "\u001b[0m\u001b[38;5;34mmerged_sig_down_in_each_orientation.bed.gz\u001b[0m\n",
      "\u001b[38;5;34mmerged_sig_up_in_each_orientation.bed.gz\u001b[0m\n",
      "\u001b[38;5;34morientation_independent_up_regulated_peaks_intersection.bed.gz\u001b[0m\n",
      "\u001b[38;5;34morientation_independent_up_regulated_peaks_union.bed.gz\u001b[0m\n",
      "\u001b[38;5;34msize_constrained_merged_sig_down_in_each_orientation.bed.gz\u001b[0m\n",
      "\u001b[38;5;34msize_constrained_merged_sig_up_in_each_orientation.bed.gz\u001b[0m\n",
      "\u001b[38;5;34msize_constrained_orientation_independent_up_regulated_peaks_intersection.bed.gz\u001b[0m\n",
      "\u001b[38;5;34msize_constrained_orientation_independent_up_regulated_peaks_union.bed.gz\u001b[0m\n"
     ]
    }
   ],
   "source": [
    "FOLDER=ATAC_STARR_deep/deep_ATAC_STARR_seq.full_overlap_30bp_bin_10bp_stepSize\n",
    "ls ${FDIRY}/${FOLDER}/processed/merged_peak"
   ]
  },
  {
   "cell_type": "code",
   "execution_count": 5,
   "id": "f8c3e1cc-10e8-4a05-8d33-162d6b11ea78",
   "metadata": {},
   "outputs": [
    {
     "name": "stdout",
     "output_type": "stream",
     "text": [
      "\u001b[0m\u001b[38;5;34mmerged_sig_down_in_each_orientation.bed.gz\u001b[0m\n",
      "\u001b[38;5;34mmerged_sig_up_in_each_orientation.bed.gz\u001b[0m\n",
      "\u001b[38;5;34morientation_independent_up_regulated_peaks_intersection.bed.gz\u001b[0m\n",
      "\u001b[38;5;34morientation_independent_up_regulated_peaks_union.bed.gz\u001b[0m\n",
      "\u001b[38;5;34msize_constrained_merged_sig_down_in_each_orientation.bed.gz\u001b[0m\n",
      "\u001b[38;5;34msize_constrained_merged_sig_up_in_each_orientation.bed.gz\u001b[0m\n",
      "\u001b[38;5;34msize_constrained_orientation_independent_up_regulated_peaks_intersection.bed.gz\u001b[0m\n",
      "\u001b[38;5;34msize_constrained_orientation_independent_up_regulated_peaks_union.bed.gz\u001b[0m\n"
     ]
    }
   ],
   "source": [
    "FOLDER=ATAC_STARR_deep/deep_ATAC_STARR_seq.full_overlap_100bp_bin_10bp_stepSize\n",
    "ls ${FDIRY}/${FOLDER}/processed/merged_peak"
   ]
  },
  {
   "cell_type": "markdown",
   "id": "72f370f5-d10a-47aa-ba07-1694d81686ba",
   "metadata": {},
   "source": [
    "`orientation_independent_up_regulated_peaks_union.bed.gz`\n",
    "\n",
    "\n",
    "- Peak-level result in each orientation\n",
    "    - Bin-level results in each orientation are merged if they have at least 1bp overlap to obtain peak-level calls using merge() function in pybedtools.\n",
    "\n",
    "\n",
    "- Orientation-independent peak-level result\n",
    "    - Orientation-independent peaks are obtained using peaks identified in each orientation using intersection approach and union approach\n"
   ]
  },
  {
   "cell_type": "code",
   "execution_count": 6,
   "id": "047399ff-c372-4d08-ab1d-67ba282304c0",
   "metadata": {},
   "outputs": [
    {
     "name": "stdout",
     "output_type": "stream",
     "text": [
      "chr1\t115570\t115690\t1.4952896512620995\t1.82095079987959,1.66186347192832,1.74277916472736,1.54387790434756,1.91413871907028,1.4181134451867,1.86643627905353,1.30901836693522,1.84216866291719,1.09315926195444,1.82767631312962,1.06569367686141,1.41344635184672,1.43837516687016,1.37092951623346,1.36211622436814,1.34860686377287,1.32902519097671,1.49503004945863,1.04238759572408\t120\n",
      "chr1\t605280\t605300\t1.6238683456372849\t1.58785326486738,1.65988342640719\t20\n",
      "chr1\t605330\t605340\t1.5091428036904149\t1.4930959195631,1.52518968781773\t10\n",
      "chr1\t605350\t605370\t1.42610648932794\t1.42523404635122,1.42697893230466\t20\n",
      "chr1\t605440\t605480\t1.3046829521276848\t1.25570268932241,1.35366321493296\t40\n",
      "chr1\t778380\t778500\t1.318766055942441\t1.12485217282795,1.23698077824756,1.28910522566857,1.236040929058,1.22261155639637,1.57111506539541,1.17778661417775,1.54810596272064,1.16146804273947,1.54792420670479,1.09351822627306,1.53320213869928,1.04787306653372,1.52148485299973,1.58811436875772,1.05537699599863,1.51998124423109,1.05856481627873,1.52244879919791\t120\n",
      "chr1\t778600\t778870\t1.6899255056617677\t1.00614038874834,1.72746140080833,1.28531997547361,1.42109763353583,1.34282278601668,1.37422685273693,1.34132347021103,1.36221054826622,1.37506088352439,1.48214324738529,1.31754491868028,1.48447603699449,2.14117917420351,1.7480061946072,2.11776274781059,1.72577816953797,2.11162972155576,1.71396395641835,2.10764627477756,1.71188123075335,2.10619435359279,1.71329516907337,2.09355749256736,1.69589774058678,2.12202077408849,1.68052095118792,2.14693727674723,1.67721340200208,2.12496109190802,1.62841642464626,2.10761075334857,1.59603360586785,2.08211955401085,1.57512840637927,2.07333954261098,1.57481824026546,2.08931843083986,1.52655299082734,2.10386177184142,1.44992005562243,2.12842112679042,1.429193354492,1.98903601672909,1.30714327800031,1.96657683433652,1.28862159386708,1.50845094056383,1.24857948116085,1.01074603626226,1.55411298082597\t270\n",
      "chr1\t827380\t827400\t1.181033309673875\t1.16212996789568,1.19993665145207\t20\n",
      "chr1\t842880\t842960\t1.6499864016499755\t1.1712344346569,1.20589575739969,1.43512076911618,1.27940469595762,2.21580443856452,1.21781511481176,2.23656463959729,2.23531183919376,1.85272592555206\t80\n",
      "chr1\t944400\t944440\t1.09022352295175\t1.09616313222022,1.08428391368328\t40\n"
     ]
    }
   ],
   "source": [
    "FOLDER=ATAC_STARR_deep/deep_ATAC_STARR_seq.full_overlap_30bp_bin_10bp_stepSize\n",
    "zcat ${FDIRY}/${FOLDER}/processed/merged_peak/orientation_independent_up_regulated_peaks_union.bed.gz | head"
   ]
  },
  {
   "cell_type": "code",
   "execution_count": 7,
   "id": "7e3de716-fbe0-463c-83da-9ab67985f800",
   "metadata": {},
   "outputs": [
    {
     "name": "stdout",
     "output_type": "stream",
     "text": [
      "33916\n"
     ]
    }
   ],
   "source": [
    "FOLDER=ATAC_STARR_deep/deep_ATAC_STARR_seq.full_overlap_30bp_bin_10bp_stepSize\n",
    "zcat ${FDIRY}/${FOLDER}/processed/merged_peak/orientation_independent_up_regulated_peaks_union.bed.gz | wc -l"
   ]
  },
  {
   "cell_type": "code",
   "execution_count": null,
   "id": "d1ef2280-e425-44b2-bb7a-c476468ba9d9",
   "metadata": {},
   "outputs": [],
   "source": []
  }
 ],
 "metadata": {
  "kernelspec": {
   "display_name": "Bash",
   "language": "bash",
   "name": "bash"
  },
  "language_info": {
   "codemirror_mode": "shell",
   "file_extension": ".sh",
   "mimetype": "text/x-sh",
   "name": "bash"
  }
 },
 "nbformat": 4,
 "nbformat_minor": 5
}
