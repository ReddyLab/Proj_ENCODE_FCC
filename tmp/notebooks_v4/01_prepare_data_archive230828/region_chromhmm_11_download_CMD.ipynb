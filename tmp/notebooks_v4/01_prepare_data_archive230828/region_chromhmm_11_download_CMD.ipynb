{
 "cells": [
  {
   "cell_type": "code",
   "execution_count": 1,
   "id": "427b2564-532d-4047-aa78-770012eddfe9",
   "metadata": {},
   "outputs": [
    {
     "name": "stdout",
     "output_type": "stream",
     "text": [
      "You are on Duke Server: HARDAC\n",
      "BASE DIRECTORY (FD_BASE): /data/reddylab/Kuei\n",
      "WORK DIRECTORY (FD_WORK): /data/reddylab/Kuei/out\n",
      "CODE DIRECTORY (FD_CODE): /data/reddylab/Kuei/code\n",
      "SING DIRECTORY (FD_SING): /data/reddylab/Kuei/singularity\n",
      "PATH OF PROJECT (FD_PRJ): /data/reddylab/Kuei/code/Proj_CombEffect_ENCODE_FCC\n",
      "PATH OF RESULTS (FD_RES): /data/reddylab/Kuei/out/proj_combeffect_encode_fcc\n",
      "PATH OF LOG     (FD_LOG): /data/reddylab/Kuei/out/proj_combeffect_encode_fcc/log\n",
      "\n"
     ]
    }
   ],
   "source": [
    "### set env\n",
    "source ../config/config_duke.sh\n",
    "show_env"
   ]
  },
  {
   "cell_type": "code",
   "execution_count": 3,
   "id": "3a708159-cf07-46fa-8717-7bb5488dd76a",
   "metadata": {},
   "outputs": [
    {
     "name": "stdout",
     "output_type": "stream",
     "text": [
      "ChIP_ENCSR000EWA-ENCSR000AKP-ENCSR000EWC-ENCSR000DWB-ENCSR000EWB-ENCSR000APE.bb\n",
      "Human epigenomes with ChromHMM state (DAC, Kaili Fan).xlsx\n",
      "\u001b[0m\u001b[38;5;9mK562.ENCSR365YNI.ENCFF106BGJ.ChromHMM.bed.gz\u001b[0m\n",
      "Readme.md\n"
     ]
    }
   ],
   "source": [
    "ls ${FD_RES}/source/annotation_chromHMM"
   ]
  },
  {
   "cell_type": "code",
   "execution_count": 4,
   "id": "da609762-5721-4822-93f9-5806fa0d18ec",
   "metadata": {},
   "outputs": [
    {
     "name": "stdout",
     "output_type": "stream",
     "text": [
      "ChIP_ENCSR000EWA-ENCSR000AKP-ENCSR000EWC-ENCSR000DWB-ENCSR000EWB-ENCSR000APE.bed\n",
      "description.tsv\n"
     ]
    }
   ],
   "source": [
    "ls ${FD_RES}/results/region/annotation_chromHMM"
   ]
  },
  {
   "cell_type": "code",
   "execution_count": 6,
   "id": "83bd4e21-3817-4e96-90cc-4481c1356963",
   "metadata": {},
   "outputs": [
    {
     "name": "stdout",
     "output_type": "stream",
     "text": [
      "\u001b[0m\u001b[38;5;9m/data/reddylab/Kuei/out/proj_combeffect_encode_fcc/source/annotation_chromHMM/K562.ENCSR365YNI.ENCFF106BGJ.ChromHMM.bed.gz\u001b[0m\u001b[K\n"
     ]
    }
   ],
   "source": [
    "FD_INP=${FD_RES}/source/annotation_chromHMM\n",
    "FN_INP=K562.ENCSR365YNI.ENCFF106BGJ.ChromHMM.bed.gz\n",
    "FD_OUT=${FD_RES}/results/region/annotation_chromHMM\n",
    "\n",
    "ls ${FD_INP}/${FN_INP}\n",
    "cp ${FD_INP}/${FN_INP} ${FD_OUT}"
   ]
  },
  {
   "cell_type": "code",
   "execution_count": 7,
   "id": "22171133-290b-4a11-a375-803c5bf931d1",
   "metadata": {},
   "outputs": [
    {
     "name": "stdout",
     "output_type": "stream",
     "text": [
      "ChIP_ENCSR000EWA-ENCSR000AKP-ENCSR000EWC-ENCSR000DWB-ENCSR000EWB-ENCSR000APE.bed\n",
      "description.tsv\n",
      "\u001b[0m\u001b[38;5;9mK562.ENCSR365YNI.ENCFF106BGJ.ChromHMM.bed.gz\u001b[0m\n"
     ]
    }
   ],
   "source": [
    "ls ${FD_RES}/results/region/annotation_chromHMM"
   ]
  },
  {
   "cell_type": "code",
   "execution_count": null,
   "id": "cfa5f5a8-f613-465a-a91b-5e4482893ad3",
   "metadata": {},
   "outputs": [],
   "source": []
  }
 ],
 "metadata": {
  "kernelspec": {
   "display_name": "Bash",
   "language": "bash",
   "name": "bash"
  },
  "language_info": {
   "codemirror_mode": "shell",
   "file_extension": ".sh",
   "mimetype": "text/x-sh",
   "name": "bash"
  }
 },
 "nbformat": 4,
 "nbformat_minor": 5
}
