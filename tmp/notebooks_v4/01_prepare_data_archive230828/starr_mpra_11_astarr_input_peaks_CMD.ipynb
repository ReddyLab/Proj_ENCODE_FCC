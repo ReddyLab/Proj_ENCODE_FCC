{
 "cells": [
  {
   "cell_type": "code",
   "execution_count": 1,
   "id": "c1d1e8aa-a4df-4e2e-ad40-8c6649f25bdf",
   "metadata": {},
   "outputs": [],
   "source": [
    "FPATH=\"/data/reddylab/Alex/encode4_duke/processing/atac_seq/210401_KS91_K562ASTARR_NovaSeq.hg38-pe-blacklist-removal/KS91_K562_hg38_ASTARRseq_Input_allReps.masked.dedup.sorted_peaks.narrowPeak\"\n",
    "FDIRY=$(dirname  ${FPATH})\n",
    "FNAME=$(basename ${FPATH})"
   ]
  },
  {
   "cell_type": "code",
   "execution_count": 2,
   "id": "b6402e23-b4f7-4331-b3c8-3cea79460857",
   "metadata": {},
   "outputs": [
    {
     "name": "stdout",
     "output_type": "stream",
     "text": [
      "KS91_K562_hg38_ASTARRseq_Input_allReps.masked.dedup.sorted_peaks.narrowPeak\n"
     ]
    }
   ],
   "source": [
    "echo ${FNAME}"
   ]
  },
  {
   "cell_type": "code",
   "execution_count": 3,
   "id": "41b1b1ee-d318-4378-8b1f-e6dca674473c",
   "metadata": {},
   "outputs": [
    {
     "name": "stdout",
     "output_type": "stream",
     "text": [
      "KS91_K562_hg38_ASTARRseq_Input_allReps.masked.dedup.sorted_peaks.narrowPeak\n",
      "KS91_K562_hg38_ASTARRseq_Input_rep1_L001.masked.dedup.sorted_peaks.narrowPeak\n",
      "KS91_K562_hg38_ASTARRseq_Input_rep1_L001.masked.dedup.unpaired_peaks.narrowPeak\n",
      "KS91_K562_hg38_ASTARRseq_Input_rep1_L002.masked.dedup.sorted_peaks.narrowPeak\n",
      "KS91_K562_hg38_ASTARRseq_Input_rep1_L002.masked.dedup.unpaired_peaks.narrowPeak\n",
      "KS91_K562_hg38_ASTARRseq_Input_rep1_L003.masked.dedup.sorted_peaks.narrowPeak\n",
      "KS91_K562_hg38_ASTARRseq_Input_rep1_L003.masked.dedup.unpaired_peaks.narrowPeak\n",
      "KS91_K562_hg38_ASTARRseq_Input_rep1_L004.masked.dedup.sorted_peaks.narrowPeak\n",
      "KS91_K562_hg38_ASTARRseq_Input_rep1_L004.masked.dedup.unpaired_peaks.narrowPeak\n",
      "KS91_K562_hg38_ASTARRseq_Input_rep1.masked.dups_marked_peaks.narrowPeak\n",
      "KS91_K562_hg38_ASTARRseq_Input_rep2_L001.masked.dedup.sorted_peaks.narrowPeak\n",
      "KS91_K562_hg38_ASTARRseq_Input_rep2_L001.masked.dedup.unpaired_peaks.narrowPeak\n",
      "KS91_K562_hg38_ASTARRseq_Input_rep2_L002.masked.dedup.sorted_peaks.narrowPeak\n",
      "KS91_K562_hg38_ASTARRseq_Input_rep2_L002.masked.dedup.unpaired_peaks.narrowPeak\n",
      "KS91_K562_hg38_ASTARRseq_Input_rep2_L003.masked.dedup.sorted_peaks.narrowPeak\n",
      "KS91_K562_hg38_ASTARRseq_Input_rep2_L003.masked.dedup.unpaired_peaks.narrowPeak\n",
      "KS91_K562_hg38_ASTARRseq_Input_rep2_L004.masked.dedup.sorted_peaks.narrowPeak\n",
      "KS91_K562_hg38_ASTARRseq_Input_rep2_L004.masked.dedup.unpaired_peaks.narrowPeak\n",
      "KS91_K562_hg38_ASTARRseq_Input_rep2.masked.dups_marked_peaks.narrowPeak\n",
      "KS91_K562_hg38_ASTARRseq_Input_rep3_L001.masked.dedup.sorted_peaks.narrowPeak\n",
      "KS91_K562_hg38_ASTARRseq_Input_rep3_L001.masked.dedup.unpaired_peaks.narrowPeak\n",
      "KS91_K562_hg38_ASTARRseq_Input_rep3_L002.masked.dedup.sorted_peaks.narrowPeak\n",
      "KS91_K562_hg38_ASTARRseq_Input_rep3_L002.masked.dedup.unpaired_peaks.narrowPeak\n",
      "KS91_K562_hg38_ASTARRseq_Input_rep3_L003.masked.dedup.sorted_peaks.narrowPeak\n",
      "KS91_K562_hg38_ASTARRseq_Input_rep3_L003.masked.dedup.unpaired_peaks.narrowPeak\n",
      "KS91_K562_hg38_ASTARRseq_Input_rep3_L004.masked.dedup.sorted_peaks.narrowPeak\n",
      "KS91_K562_hg38_ASTARRseq_Input_rep3_L004.masked.dedup.unpaired_peaks.narrowPeak\n",
      "KS91_K562_hg38_ASTARRseq_Input_rep3.masked.dups_marked_peaks.narrowPeak\n",
      "KS91_K562_hg38_ASTARRseq_Input_rep4_L001.masked.dedup.sorted_peaks.narrowPeak\n",
      "KS91_K562_hg38_ASTARRseq_Input_rep4_L001.masked.dedup.unpaired_peaks.narrowPeak\n",
      "KS91_K562_hg38_ASTARRseq_Input_rep4_L002.masked.dedup.sorted_peaks.narrowPeak\n",
      "KS91_K562_hg38_ASTARRseq_Input_rep4_L002.masked.dedup.unpaired_peaks.narrowPeak\n",
      "KS91_K562_hg38_ASTARRseq_Input_rep4_L003.masked.dedup.sorted_peaks.narrowPeak\n",
      "KS91_K562_hg38_ASTARRseq_Input_rep4_L003.masked.dedup.unpaired_peaks.narrowPeak\n",
      "KS91_K562_hg38_ASTARRseq_Input_rep4_L004.masked.dedup.sorted_peaks.narrowPeak\n",
      "KS91_K562_hg38_ASTARRseq_Input_rep4_L004.masked.dedup.unpaired_peaks.narrowPeak\n",
      "KS91_K562_hg38_ASTARRseq_Input_rep4.masked.dups_marked_peaks.narrowPeak\n",
      "KS91_K562_hg38_ASTARRseq_Input_rep5_L001.masked.dedup.sorted_peaks.narrowPeak\n",
      "KS91_K562_hg38_ASTARRseq_Input_rep5_L001.masked.dedup.unpaired_peaks.narrowPeak\n",
      "KS91_K562_hg38_ASTARRseq_Input_rep5_L002.masked.dedup.sorted_peaks.narrowPeak\n",
      "KS91_K562_hg38_ASTARRseq_Input_rep5_L002.masked.dedup.unpaired_peaks.narrowPeak\n",
      "KS91_K562_hg38_ASTARRseq_Input_rep5_L003.masked.dedup.sorted_peaks.narrowPeak\n",
      "KS91_K562_hg38_ASTARRseq_Input_rep5_L003.masked.dedup.unpaired_peaks.narrowPeak\n",
      "KS91_K562_hg38_ASTARRseq_Input_rep5_L004.masked.dedup.sorted_peaks.narrowPeak\n",
      "KS91_K562_hg38_ASTARRseq_Input_rep5_L004.masked.dedup.unpaired_peaks.narrowPeak\n",
      "KS91_K562_hg38_ASTARRseq_Input_rep5.masked.dups_marked_peaks.narrowPeak\n",
      "KS91_K562_hg38_ASTARRseq_Input_rep6_L001.masked.dedup.sorted_peaks.narrowPeak\n",
      "KS91_K562_hg38_ASTARRseq_Input_rep6_L001.masked.dedup.unpaired_peaks.narrowPeak\n",
      "KS91_K562_hg38_ASTARRseq_Input_rep6_L002.masked.dedup.sorted_peaks.narrowPeak\n",
      "KS91_K562_hg38_ASTARRseq_Input_rep6_L002.masked.dedup.unpaired_peaks.narrowPeak\n",
      "KS91_K562_hg38_ASTARRseq_Input_rep6_L003.masked.dedup.sorted_peaks.narrowPeak\n",
      "KS91_K562_hg38_ASTARRseq_Input_rep6_L003.masked.dedup.unpaired_peaks.narrowPeak\n",
      "KS91_K562_hg38_ASTARRseq_Input_rep6_L004.masked.dedup.sorted_peaks.narrowPeak\n",
      "KS91_K562_hg38_ASTARRseq_Input_rep6_L004.masked.dedup.unpaired_peaks.narrowPeak\n",
      "KS91_K562_hg38_ASTARRseq_Input_rep6.masked.dups_marked_peaks.narrowPeak\n"
     ]
    }
   ],
   "source": [
    "ls ${FDIRY}/*narrowPeak | xargs -n 1 basename"
   ]
  },
  {
   "cell_type": "code",
   "execution_count": 4,
   "id": "fcd4e3e1-b129-4ae2-bf2d-4798d2ba36a2",
   "metadata": {},
   "outputs": [
    {
     "name": "stdout",
     "output_type": "stream",
     "text": [
      "KS91_K562_hg38_ASTARRseq_Input_allReps.masked.dedup.sorted_peaks.narrowPeak\n",
      "KS91_K562_hg38_ASTARRseq_Input_rep1_L001.masked.dedup.sorted_peaks.narrowPeak\n",
      "KS91_K562_hg38_ASTARRseq_Input_rep1_L002.masked.dedup.sorted_peaks.narrowPeak\n",
      "KS91_K562_hg38_ASTARRseq_Input_rep1_L003.masked.dedup.sorted_peaks.narrowPeak\n",
      "KS91_K562_hg38_ASTARRseq_Input_rep1_L004.masked.dedup.sorted_peaks.narrowPeak\n",
      "KS91_K562_hg38_ASTARRseq_Input_rep2_L001.masked.dedup.sorted_peaks.narrowPeak\n",
      "KS91_K562_hg38_ASTARRseq_Input_rep2_L002.masked.dedup.sorted_peaks.narrowPeak\n",
      "KS91_K562_hg38_ASTARRseq_Input_rep2_L003.masked.dedup.sorted_peaks.narrowPeak\n",
      "KS91_K562_hg38_ASTARRseq_Input_rep2_L004.masked.dedup.sorted_peaks.narrowPeak\n",
      "KS91_K562_hg38_ASTARRseq_Input_rep3_L001.masked.dedup.sorted_peaks.narrowPeak\n",
      "KS91_K562_hg38_ASTARRseq_Input_rep3_L002.masked.dedup.sorted_peaks.narrowPeak\n",
      "KS91_K562_hg38_ASTARRseq_Input_rep3_L003.masked.dedup.sorted_peaks.narrowPeak\n",
      "KS91_K562_hg38_ASTARRseq_Input_rep3_L004.masked.dedup.sorted_peaks.narrowPeak\n",
      "KS91_K562_hg38_ASTARRseq_Input_rep4_L001.masked.dedup.sorted_peaks.narrowPeak\n",
      "KS91_K562_hg38_ASTARRseq_Input_rep4_L002.masked.dedup.sorted_peaks.narrowPeak\n",
      "KS91_K562_hg38_ASTARRseq_Input_rep4_L003.masked.dedup.sorted_peaks.narrowPeak\n",
      "KS91_K562_hg38_ASTARRseq_Input_rep4_L004.masked.dedup.sorted_peaks.narrowPeak\n",
      "KS91_K562_hg38_ASTARRseq_Input_rep5_L001.masked.dedup.sorted_peaks.narrowPeak\n",
      "KS91_K562_hg38_ASTARRseq_Input_rep5_L002.masked.dedup.sorted_peaks.narrowPeak\n",
      "KS91_K562_hg38_ASTARRseq_Input_rep5_L003.masked.dedup.sorted_peaks.narrowPeak\n",
      "KS91_K562_hg38_ASTARRseq_Input_rep5_L004.masked.dedup.sorted_peaks.narrowPeak\n",
      "KS91_K562_hg38_ASTARRseq_Input_rep6_L001.masked.dedup.sorted_peaks.narrowPeak\n",
      "KS91_K562_hg38_ASTARRseq_Input_rep6_L002.masked.dedup.sorted_peaks.narrowPeak\n",
      "KS91_K562_hg38_ASTARRseq_Input_rep6_L003.masked.dedup.sorted_peaks.narrowPeak\n",
      "KS91_K562_hg38_ASTARRseq_Input_rep6_L004.masked.dedup.sorted_peaks.narrowPeak\n"
     ]
    }
   ],
   "source": [
    "ls ${FDIRY}/*dedup.sorted_peaks.narrowPeak | xargs -n 1 basename "
   ]
  },
  {
   "cell_type": "code",
   "execution_count": 5,
   "id": "062d0a51-0270-4108-aafd-41f362842d16",
   "metadata": {},
   "outputs": [
    {
     "name": "stdout",
     "output_type": "stream",
     "text": [
      "chr1\t10015\t10460\tKS91_K562_hg38_ASTARRseq_Input_allReps.masked.dedup.sorted_peak_1\t2116\t.\t5.18111\t213.87830\t211.67725\t174\n",
      "chr1\t14251\t14785\tKS91_K562_hg38_ASTARRseq_Input_allReps.masked.dedup.sorted_peak_2\t682\t.\t3.09253\t70.19241\t68.26026\t209\n",
      "chr1\t16002\t16539\tKS91_K562_hg38_ASTARRseq_Input_allReps.masked.dedup.sorted_peak_3\t961\t.\t3.56762\t98.12730\t96.11854\t238\n",
      "chr1\t17216\t17767\tKS91_K562_hg38_ASTARRseq_Input_allReps.masked.dedup.sorted_peak_4\t4118\t.\t7.42208\t414.24924\t411.86002\t277\n",
      "chr1\t28886\t29620\tKS91_K562_hg38_ASTARRseq_Input_allReps.masked.dedup.sorted_peak_5\t5101\t.\t8.39914\t512.58478\t510.12634\t431\n",
      "chr1\t30774\t31172\tKS91_K562_hg38_ASTARRseq_Input_allReps.masked.dedup.sorted_peak_6\t1932\t.\t4.94805\t195.44458\t193.26704\t104\n",
      "chr1\t101595\t101867\tKS91_K562_hg38_ASTARRseq_Input_allReps.masked.dedup.sorted_peak_7\t406\t.\t2.54574\t42.45045\t40.63149\t81\n",
      "chr1\t115401\t115993\tKS91_K562_hg38_ASTARRseq_Input_allReps.masked.dedup.sorted_peak_8\t21961\t.\t21.40571\t2199.63330\t2196.19482\t334\n",
      "chr1\t127538\t127799\tKS91_K562_hg38_ASTARRseq_Input_allReps.masked.dedup.sorted_peak_9\t19\t.\t1.30872\t3.13706\t1.95339\t3\n",
      "chr1\t136059\t137429\tKS91_K562_hg38_ASTARRseq_Input_allReps.masked.dedup.sorted_peak_10\t12927\t.\t8.47666\t1295.69177\t1292.79187\t740\n"
     ]
    }
   ],
   "source": [
    "head ${FDIRY}/KS91_K562_hg38_ASTARRseq_Input_allReps.masked.dedup.sorted_peaks.narrowPeak"
   ]
  },
  {
   "cell_type": "code",
   "execution_count": 6,
   "id": "76fe0081-4a36-4329-a6c7-d0be120b1412",
   "metadata": {},
   "outputs": [
    {
     "name": "stdout",
     "output_type": "stream",
     "text": [
      "325150\n"
     ]
    }
   ],
   "source": [
    "cat ${FDIRY}/KS91_K562_hg38_ASTARRseq_Input_allReps.masked.dedup.sorted_peaks.narrowPeak | wc -l"
   ]
  },
  {
   "cell_type": "markdown",
   "id": "47aebd99-e65a-4c93-af7b-7ef6a6407278",
   "metadata": {
    "tags": []
   },
   "source": [
    "## The ATAC file I am using"
   ]
  },
  {
   "cell_type": "markdown",
   "id": "c768221e-5e7e-47a8-a9fe-e402e7c13771",
   "metadata": {},
   "source": [
    "the ATAC file I got from Keith is called\n",
    "`KS91_K562_hg38_ASTARRseq_Input.all_reps.masked.union_narrowPeak.q5`\n",
    "\n",
    "according to the name, I guess it is using `KS91_K562_hg38_ASTARRseq_Input_allReps.masked.dedup.sorted_peaks.narrowPeak` and filtered based on qvalue\n",
    "\n",
    "The filteration should be q5, which I believe represents $Q <= 10^{-5}$ or $-\\log_{10}(Q) > 5$\n",
    "\n",
    "If this is true, then I should get the exact same file by filter rows using the same threshold in `KS91_K562_hg38_ASTARRseq_Input_allReps.masked.dedup.sorted_peaks.narrowPeak`"
   ]
  },
  {
   "cell_type": "code",
   "execution_count": 10,
   "id": "2b61f1de-1449-4571-99e4-eb8c1314347f",
   "metadata": {},
   "outputs": [
    {
     "name": "stdout",
     "output_type": "stream",
     "text": [
      "\u001b[0m\u001b[38;5;27mA001_K562_WSTARRseq\u001b[0m           \u001b[38;5;27mhic_intact_K562_deep\u001b[0m         \u001b[38;5;27mregion\u001b[0m\n",
      "\u001b[38;5;27mcomparison\u001b[0m                    \u001b[38;5;27mhic_intact_K562_ENCSR479XDG\u001b[0m  \u001b[38;5;27mTewhey_K562_TileMPRA\u001b[0m\n",
      "\u001b[38;5;27mCRISPRi_FlowFISH\u001b[0m              \u001b[38;5;27mKS91_K562_ASTARRseq\u001b[0m\n",
      "\u001b[38;5;27mCRISPRi_Growth_K562_Gersbach\u001b[0m  \u001b[38;5;27mLentiMPRA_K562_Nadav\u001b[0m\n"
     ]
    }
   ],
   "source": [
    "FD_RES=/data/reddylab/Kuei/out/proj_combeffect_encode_fcc\n",
    "ls ${FD_RES}/results"
   ]
  },
  {
   "cell_type": "code",
   "execution_count": 13,
   "id": "531fd466-feb3-4143-b7cc-95713a879a27",
   "metadata": {},
   "outputs": [
    {
     "name": "stdout",
     "output_type": "stream",
     "text": [
      "\u001b[0m\u001b[38;5;27mannotation_ccre\u001b[0m\n",
      "\u001b[38;5;27mannotation_chipseq_histone\u001b[0m\n",
      "\u001b[38;5;27mannotation_chipseq_tf\u001b[0m\n",
      "\u001b[38;5;27mannotation_chipseq_tf_subset\u001b[0m\n",
      "\u001b[38;5;27mannotation_chromHMM\u001b[0m\n",
      "\u001b[38;5;27mannotation_crispri_e2g\u001b[0m\n",
      "\u001b[38;5;27mannotation_crispri_growth\u001b[0m\n",
      "\u001b[38;5;27mannotation_crispri_hcrff\u001b[0m\n",
      "\u001b[38;5;27mannotation_enhancer_junke\u001b[0m\n",
      "\u001b[38;5;27mannotation_enhancer_zscore_junke\u001b[0m\n",
      "\u001b[38;5;27mannotation_hic\u001b[0m\n",
      "\u001b[38;5;27mannotation_tss_pol2\u001b[0m\n",
      "\u001b[38;5;27mannotation_tss_pol2_span\u001b[0m\n",
      "description.tsv\n",
      "\u001b[38;5;27menrichment_prepare_annotation\u001b[0m\n",
      "\u001b[38;5;27menrichment_prepare_score_merge\u001b[0m\n",
      "\u001b[38;5;27menrichment_prepare_score_split\u001b[0m\n",
      "\u001b[38;5;27menrichment_results_merge\u001b[0m\n",
      "\u001b[38;5;27menrichment_results_split\u001b[0m\n",
      "KS91_K562_hg38_ASTARRseq_Input.all_reps.masked.union_narrowPeak.q5.bed\n",
      "\u001b[38;5;9mKS91_K562_hg38_ASTARRseq_Input.all_reps.masked.union_narrowPeak.q5.bed.gz\u001b[0m\n",
      "peak.annotation.screen.tsv\n",
      "\u001b[38;5;27mregion_pair\u001b[0m\n",
      "\u001b[38;5;27msummary\u001b[0m\n",
      "\u001b[38;5;27mtmp\u001b[0m\n"
     ]
    }
   ],
   "source": [
    "ls ${FD_RES}/results/region/KS91_K562_ASTARRseq_peak_macs_input"
   ]
  },
  {
   "cell_type": "code",
   "execution_count": 14,
   "id": "29e48cdc-8f26-445d-bf8c-5bf039544f1f",
   "metadata": {},
   "outputs": [
    {
     "name": "stdout",
     "output_type": "stream",
     "text": [
      "247520\n"
     ]
    }
   ],
   "source": [
    "cat ${FD_RES}/results/region/KS91_K562_ASTARRseq_peak_macs_input/KS91_K562_hg38_ASTARRseq_Input.all_reps.masked.union_narrowPeak.q5.bed | wc -l"
   ]
  }
 ],
 "metadata": {
  "kernelspec": {
   "display_name": "Bash",
   "language": "bash",
   "name": "bash"
  },
  "language_info": {
   "codemirror_mode": "shell",
   "file_extension": ".sh",
   "mimetype": "text/x-sh",
   "name": "bash"
  }
 },
 "nbformat": 4,
 "nbformat_minor": 5
}
