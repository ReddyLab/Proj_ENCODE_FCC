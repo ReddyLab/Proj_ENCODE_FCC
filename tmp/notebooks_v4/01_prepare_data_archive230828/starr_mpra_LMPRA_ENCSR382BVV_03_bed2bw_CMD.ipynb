{
 "cells": [
  {
   "cell_type": "code",
   "execution_count": 1,
   "id": "00ff78e8-76a6-4684-b438-1161c252e157",
   "metadata": {},
   "outputs": [
    {
     "name": "stdout",
     "output_type": "stream",
     "text": [
      "You are on Duke Server: HARDAC\n",
      "BASE DIRECTORY (FD_BASE): /data/reddylab/Kuei\n",
      "WORK DIRECTORY (FD_WORK): /data/reddylab/Kuei/out\n",
      "CODE DIRECTORY (FD_CODE): /data/reddylab/Kuei/code\n",
      "SING DIRECTORY (FD_SING): /data/reddylab/Kuei/singularity\n",
      "PATH OF PROJECT (FD_PRJ): /data/reddylab/Kuei/code/Proj_CombEffect_ENCODE_FCC\n",
      "PATH OF RESULTS (FD_RES): /data/reddylab/Kuei/out/proj_combeffect_encode_fcc\n",
      "PATH OF LOG     (FD_LOG): /data/reddylab/Kuei/out/proj_combeffect_encode_fcc/log\n",
      "\n"
     ]
    }
   ],
   "source": [
    "### set env\n",
    "source ../config/config_duke.sh\n",
    "source ../config/config_load_module_bedtools.sh\n",
    "show_env"
   ]
  },
  {
   "cell_type": "code",
   "execution_count": null,
   "id": "42f2175d-b747-4d8c-895d-6d3e45067408",
   "metadata": {},
   "outputs": [],
   "source": []
  },
  {
   "cell_type": "code",
   "execution_count": 2,
   "id": "75c0344b-0e72-4aa3-86da-6bff136fb7fb",
   "metadata": {},
   "outputs": [
    {
     "name": "stdout",
     "output_type": "stream",
     "text": [
      "chr1\t115631\t115831\n",
      "chr1\t138940\t139140\n",
      "chr1\t203225\t203425\n",
      "chr1\t267911\t268111\n",
      "chr1\t586093\t586293\n",
      "chr1\t629847\t630047\n",
      "chr1\t630216\t630416\n",
      "chr1\t631350\t631550\n",
      "chr1\t633928\t634128\n",
      "chr1\t634309\t634509\n"
     ]
    }
   ],
   "source": [
    "FDIRY=${FD_RES}/results/LentiMPRA_K562_Nadav/coverage\n",
    "FNAME=K562.ENCSR382BVV.ENCFF348WYK.LMPRA.region.bed.gz\n",
    "FPATH=${FDIRY}/${FNAME}\n",
    "zcat ${FPATH} | head"
   ]
  },
  {
   "cell_type": "markdown",
   "id": "8a0b113a-92f9-4ef6-9fbc-ad02773d870c",
   "metadata": {},
   "source": [
    "## Merge"
   ]
  },
  {
   "cell_type": "code",
   "execution_count": 3,
   "id": "4647a953-ee82-48c1-bc1e-ee1bbdb337a7",
   "metadata": {},
   "outputs": [
    {
     "name": "stdout",
     "output_type": "stream",
     "text": [
      "Submitted batch job 30021470\n"
     ]
    }
   ],
   "source": [
    "sbatch -p ${NODE} \\\n",
    "    --exclude=dl-01 \\\n",
    "    --cpus-per-task 8 \\\n",
    "    --mem 4G \\\n",
    "    --output ${FD_LOG}/merge_region_LMPRA.%a.txt \\\n",
    "    --array 0 \\\n",
    "    <<'EOF'\n",
    "#!/bin/bash\n",
    "### set directories\n",
    "source ../config/config_duke.sh\n",
    "\n",
    "### print start message\n",
    "timer_start=`date +%s`\n",
    "echo \"Hostname:          \" $(hostname)\n",
    "echo \"Slurm Array Index: \" ${SLURM_ARRAY_TASK_ID}\n",
    "echo \"Time Stamp:        \" $(date +\"%m-%d-%y+%T\")\n",
    "echo\n",
    "\n",
    "### set input and output\n",
    "FD_INP=${FD_RES}/results/LentiMPRA_K562_Nadav/coverage\n",
    "FD_OUT=${FD_RES}/results/LentiMPRA_K562_Nadav/coverage\n",
    "\n",
    "FN_INP=K562.ENCSR382BVV.ENCFF348WYK.LMPRA.region.bed.gz\n",
    "FP_INP=${FD_INP}/${FN_INP}\n",
    "\n",
    "FN_OUT=K562.ENCSR382BVV.ENCFF348WYK.LMPRA.region_merge.bed.gz\n",
    "FP_OUT=${FD_OUT}/${FN_OUT}\n",
    "\n",
    "### show I/O file\n",
    "echo \"Input: \" ${FP_INP}\n",
    "echo\n",
    "echo \"show first few lines of input\"\n",
    "zcat ${FP_INP} | head -5\n",
    "echo\n",
    "\n",
    "### init: create output folder if not exist\n",
    "mkdir -p ${FD_OUT}\n",
    "\n",
    "### merge the regions within the bed file\n",
    "bedtools merge \\\n",
    "    -i ${FP_INP} \\\n",
    "| gzip -c \\\n",
    "> ${FP_OUT}\n",
    "\n",
    "### show output file\n",
    "echo\n",
    "echo \"Output: \" ${FP_OUT}\n",
    "echo\n",
    "echo \"show first few lines of output:\"\n",
    "zcat ${FP_OUT} | head -5\n",
    "echo\n",
    "\n",
    "### print end message\n",
    "timer=`date +%s`\n",
    "runtime=$(echo \"${timer} - ${timer_start}\" | bc -l)\n",
    "echo\n",
    "echo 'Done!'\n",
    "echo \"Run Time: $(displaytime ${runtime})\"\n",
    "\n",
    "EOF"
   ]
  },
  {
   "cell_type": "code",
   "execution_count": 5,
   "id": "58646a6a-380b-42e4-8d30-079ee6b1939e",
   "metadata": {},
   "outputs": [
    {
     "name": "stdout",
     "output_type": "stream",
     "text": [
      "Hostname:           x1-01-3.genome.duke.edu\n",
      "Slurm Array Index:  0\n",
      "Time Stamp:         06-20-23+13:57:51\n",
      "\n",
      "Input:  /data/reddylab/Kuei/out/proj_combeffect_encode_fcc/results/LentiMPRA_K562_Nadav/coverage/K562.ENCSR382BVV.ENCFF348WYK.LMPRA.region.bed.gz\n",
      "\n",
      "show first few lines of input\n",
      "chr1\t115631\t115831\n",
      "chr1\t138940\t139140\n",
      "chr1\t203225\t203425\n",
      "chr1\t267911\t268111\n",
      "chr1\t586093\t586293\n",
      "\n",
      "\n",
      "Output:  /data/reddylab/Kuei/out/proj_combeffect_encode_fcc/results/LentiMPRA_K562_Nadav/coverage/K562.ENCSR382BVV.ENCFF348WYK.LMPRA.region_merge.bed.gz\n",
      "\n",
      "show first few lines of output:\n",
      "chr1\t115631\t115831\n",
      "chr1\t138940\t139140\n",
      "chr1\t203225\t203425\n",
      "chr1\t267911\t268111\n",
      "chr1\t586093\t586293\n",
      "\n",
      "\n",
      "Done!\n",
      "Run Time: 0 seconds\n"
     ]
    }
   ],
   "source": [
    "cat ${FD_LOG}/merge_region_LMPRA.0.txt"
   ]
  },
  {
   "cell_type": "markdown",
   "id": "ee40269d-9360-45b5-8e13-73c030121469",
   "metadata": {},
   "source": [
    "## Make windows"
   ]
  },
  {
   "cell_type": "code",
   "execution_count": 6,
   "id": "72088daf-a7e6-4199-adc2-2a8d4df549cb",
   "metadata": {},
   "outputs": [
    {
     "name": "stdout",
     "output_type": "stream",
     "text": [
      "Submitted batch job 30021472\n"
     ]
    }
   ],
   "source": [
    "sbatch -p ${NODE} \\\n",
    "    --exclude=dl-01 \\\n",
    "    --cpus-per-task 8 \\\n",
    "    --mem 4G \\\n",
    "    --output ${FD_LOG}/makewindow_region_LMPRA.%a.txt \\\n",
    "    --array 0 \\\n",
    "    <<'EOF'\n",
    "#!/bin/bash\n",
    "### set directories\n",
    "source ../config/config_duke.sh\n",
    "\n",
    "### print start message\n",
    "timer_start=`date +%s`\n",
    "echo \"Hostname:          \" $(hostname)\n",
    "echo \"Slurm Array Index: \" ${SLURM_ARRAY_TASK_ID}\n",
    "echo \"Time Stamp:        \" $(date +\"%m-%d-%y+%T\")\n",
    "echo\n",
    "\n",
    "### set input and output\n",
    "FD_INP=${FD_RES}/results/LentiMPRA_K562_Nadav/coverage\n",
    "FD_OUT=${FD_RES}/results/LentiMPRA_K562_Nadav/coverage\n",
    "\n",
    "FN_INP=K562.ENCSR382BVV.ENCFF348WYK.LMPRA.region_merge.bed.gz\n",
    "FP_INP=${FD_INP}/${FN_INP}\n",
    "\n",
    "FN_OUT=K562.ENCSR382BVV.ENCFF348WYK.LMPRA.region_merge_perbase.bed.gz\n",
    "FP_OUT=${FD_OUT}/${FN_OUT}\n",
    "\n",
    "### show I/O file\n",
    "echo \"Input: \" ${FP_INP}\n",
    "echo\n",
    "echo \"show first few lines of input\"\n",
    "zcat ${FP_INP} | head -5\n",
    "echo\n",
    "\n",
    "### init: create output folder if not exist\n",
    "mkdir -p ${FD_OUT}\n",
    "\n",
    "### merge the regions within the bed file\n",
    "bedtools makewindows -b ${FP_INP} -w 1 | gzip -c > ${FP_OUT}\n",
    "\n",
    "### show output file\n",
    "echo\n",
    "echo \"Output: \" ${FP_OUT}\n",
    "echo\n",
    "echo \"show first few lines of output:\"\n",
    "zcat ${FP_OUT} | head -5\n",
    "echo\n",
    "\n",
    "### print end message\n",
    "timer=`date +%s`\n",
    "runtime=$(echo \"${timer} - ${timer_start}\" | bc -l)\n",
    "echo\n",
    "echo 'Done!'\n",
    "echo \"Run Time: $(displaytime ${runtime})\"\n",
    "\n",
    "EOF"
   ]
  },
  {
   "cell_type": "code",
   "execution_count": 8,
   "id": "8135f600-d53f-4a5a-b828-ee8a0dbfb5f9",
   "metadata": {},
   "outputs": [
    {
     "name": "stdout",
     "output_type": "stream",
     "text": [
      "Hostname:           x1-01-3.genome.duke.edu\n",
      "Slurm Array Index:  0\n",
      "Time Stamp:         06-20-23+14:08:23\n",
      "\n",
      "Input:  /data/reddylab/Kuei/out/proj_combeffect_encode_fcc/results/LentiMPRA_K562_Nadav/coverage/K562.ENCSR382BVV.ENCFF348WYK.LMPRA.region_merge.bed.gz\n",
      "\n",
      "show first few lines of input\n",
      "chr1\t115631\t115831\n",
      "chr1\t138940\t139140\n",
      "chr1\t203225\t203425\n",
      "chr1\t267911\t268111\n",
      "chr1\t586093\t586293\n",
      "\n",
      "\n",
      "Output:  /data/reddylab/Kuei/out/proj_combeffect_encode_fcc/results/LentiMPRA_K562_Nadav/coverage/K562.ENCSR382BVV.ENCFF348WYK.LMPRA.region_merge_perbase.bed.gz\n",
      "\n",
      "show first few lines of output:\n",
      "chr1\t115631\t115632\n",
      "chr1\t115632\t115633\n",
      "chr1\t115633\t115634\n",
      "chr1\t115634\t115635\n",
      "chr1\t115635\t115636\n",
      "\n",
      "\n",
      "Done!\n",
      "Run Time: 38 seconds\n"
     ]
    }
   ],
   "source": [
    "cat ${FD_LOG}/makewindow_region_LMPRA.0.txt"
   ]
  },
  {
   "cell_type": "code",
   "execution_count": 11,
   "id": "7efa8353-52ba-490e-b7ba-29c378df8983",
   "metadata": {},
   "outputs": [
    {
     "name": "stdout",
     "output_type": "stream",
     "text": [
      "chr1\t115821\t115822\n",
      "chr1\t115822\t115823\n",
      "chr1\t115823\t115824\n",
      "chr1\t115824\t115825\n",
      "chr1\t115825\t115826\n",
      "chr1\t115826\t115827\n",
      "chr1\t115827\t115828\n",
      "chr1\t115828\t115829\n",
      "chr1\t115829\t115830\n",
      "chr1\t115830\t115831\n",
      "chr1\t138940\t138941\n",
      "chr1\t138941\t138942\n",
      "chr1\t138942\t138943\n",
      "chr1\t138943\t138944\n",
      "chr1\t138944\t138945\n",
      "chr1\t138945\t138946\n",
      "chr1\t138946\t138947\n",
      "chr1\t138947\t138948\n",
      "chr1\t138948\t138949\n",
      "chr1\t138949\t138950\n"
     ]
    }
   ],
   "source": [
    "FPATH=/data/reddylab/Kuei/out/proj_combeffect_encode_fcc/results/LentiMPRA_K562_Nadav/coverage/K562.ENCSR382BVV.ENCFF348WYK.LMPRA.region_merge_perbase.bed.gz\n",
    "zcat ${FPATH} | head -n 210 | tail -n 20"
   ]
  },
  {
   "cell_type": "markdown",
   "id": "c1623245-7779-4b90-88d3-a2c31aedeeeb",
   "metadata": {},
   "source": [
    "## Map and summarize"
   ]
  },
  {
   "cell_type": "code",
   "execution_count": 25,
   "id": "b468f0a4-62ef-4d24-ba59-e9eb7265c018",
   "metadata": {},
   "outputs": [
    {
     "name": "stdout",
     "output_type": "stream",
     "text": [
      "Submitted batch job 30021477\n"
     ]
    }
   ],
   "source": [
    "sbatch -p ${NODE} \\\n",
    "    --exclude=dl-01 \\\n",
    "    --cpus-per-task 8 \\\n",
    "    --mem 4G \\\n",
    "    --output ${FD_LOG}/coverage_LMPRA.%a.txt \\\n",
    "    --array 0 \\\n",
    "    <<'EOF'\n",
    "#!/bin/bash\n",
    "### set directories\n",
    "source ../config/config_duke.sh\n",
    "\n",
    "### print start message\n",
    "timer_start=`date +%s`\n",
    "echo \"Hostname:          \" $(hostname)\n",
    "echo \"Slurm Array Index: \" ${SLURM_ARRAY_TASK_ID}\n",
    "echo \"Time Stamp:        \" $(date +\"%m-%d-%y+%T\")\n",
    "echo\n",
    "\n",
    "### set input and output\n",
    "FD_INP=${FD_RES}/results/LentiMPRA_K562_Nadav/coverage\n",
    "FD_OUT=${FD_RES}/results/LentiMPRA_K562_Nadav/coverage\n",
    "\n",
    "FN_REG=K562.ENCSR382BVV.ENCFF348WYK.LMPRA.region_merge_perbase.bed.gz\n",
    "FP_REG=${FD_INP}/${FN_REG}\n",
    "\n",
    "FN_INP=K562.ENCSR382BVV.ENCFF348WYK.LMPRA.stranded.bed.gz\n",
    "FP_INP=${FD_INP}/${FN_INP}\n",
    "\n",
    "FN_OUT=K562.ENCSR382BVV.ENCFF348WYK.LMPRA.unstranded.bg\n",
    "FP_OUT=${FD_OUT}/${FN_OUT}\n",
    "\n",
    "### show I/O file\n",
    "echo \"Input: \" ${FP_INP}\n",
    "echo\n",
    "echo \"show first few lines of input\"\n",
    "zcat ${FP_INP} | head -5\n",
    "echo\n",
    "\n",
    "### init: create output folder if not exist\n",
    "mkdir -p ${FD_OUT}\n",
    "\n",
    "### merge the regions within the bed file\n",
    "### execute\n",
    "bedtools map \\\n",
    "    -a ${FP_REG} \\\n",
    "    -b ${FP_INP} \\\n",
    "    -c 5    \\\n",
    "    -o mean \\\n",
    "| grep -v $'\\t\\\\.' \\\n",
    "> ${FP_OUT}\n",
    "\n",
    "### show output file\n",
    "echo\n",
    "echo \"Output: \" ${FP_OUT}\n",
    "echo\n",
    "echo \"show first few lines of output:\"\n",
    "cat ${FP_OUT} | head -5\n",
    "echo\n",
    "\n",
    "### print end message\n",
    "timer=`date +%s`\n",
    "runtime=$(echo \"${timer} - ${timer_start}\" | bc -l)\n",
    "echo\n",
    "echo 'Done!'\n",
    "echo \"Run Time: $(displaytime ${runtime})\"\n",
    "\n",
    "EOF"
   ]
  },
  {
   "cell_type": "code",
   "execution_count": 26,
   "id": "81845304-900b-4dad-b9a8-1c7d280947f5",
   "metadata": {},
   "outputs": [
    {
     "name": "stdout",
     "output_type": "stream",
     "text": [
      "Hostname:           x1-01-3.genome.duke.edu\n",
      "Slurm Array Index:  0\n",
      "Time Stamp:         06-20-23+14:21:52\n",
      "\n",
      "Input:  /data/reddylab/Kuei/out/proj_combeffect_encode_fcc/results/LentiMPRA_K562_Nadav/coverage/K562.ENCSR382BVV.ENCFF348WYK.LMPRA.stranded.bed.gz\n",
      "\n",
      "show first few lines of input\n",
      "chr1\t115631\t115831\tpeak1_Reversed:\t0.1572\t-\n",
      "chr1\t138940\t139140\tpeak2_Reversed:\t0.2047\t-\n",
      "chr1\t138940\t139140\tpeak2\t-0.2317\t+\n",
      "chr1\t203225\t203425\tpeak3_Reversed:\t0.0023\t-\n",
      "chr1\t203225\t203425\tpeak3\t0.0524\t+\n",
      "\n",
      "\n",
      "Output:  /data/reddylab/Kuei/out/proj_combeffect_encode_fcc/results/LentiMPRA_K562_Nadav/coverage/K562.ENCSR382BVV.ENCFF348WYK.LMPRA.unstranded.bg\n",
      "\n",
      "show first few lines of output:\n",
      "chr1\t115631\t115632\t0.1572\n",
      "chr1\t115632\t115633\t0.1572\n",
      "chr1\t115633\t115634\t0.1572\n",
      "chr1\t115634\t115635\t0.1572\n",
      "chr1\t115635\t115636\t0.1572\n",
      "\n",
      "\n",
      "Done!\n",
      "Run Time: 1 minutes and 7 seconds\n"
     ]
    }
   ],
   "source": [
    "cat ${FD_LOG}/coverage_LMPRA.0.txt"
   ]
  },
  {
   "cell_type": "code",
   "execution_count": 29,
   "id": "1b4461c0-af93-4e8d-bc9a-ee2907a4b93f",
   "metadata": {},
   "outputs": [
    {
     "name": "stdout",
     "output_type": "stream",
     "text": [
      "chr1\t115821\t115822\t0.1572\n",
      "chr1\t115822\t115823\t0.1572\n",
      "chr1\t115823\t115824\t0.1572\n",
      "chr1\t115824\t115825\t0.1572\n",
      "chr1\t115825\t115826\t0.1572\n",
      "chr1\t115826\t115827\t0.1572\n",
      "chr1\t115827\t115828\t0.1572\n",
      "chr1\t115828\t115829\t0.1572\n",
      "chr1\t115829\t115830\t0.1572\n",
      "chr1\t115830\t115831\t0.1572\n",
      "chr1\t138940\t138941\t-0.0135\n",
      "chr1\t138941\t138942\t-0.0135\n",
      "chr1\t138942\t138943\t-0.0135\n",
      "chr1\t138943\t138944\t-0.0135\n",
      "chr1\t138944\t138945\t-0.0135\n",
      "chr1\t138945\t138946\t-0.0135\n",
      "chr1\t138946\t138947\t-0.0135\n",
      "chr1\t138947\t138948\t-0.0135\n",
      "chr1\t138948\t138949\t-0.0135\n",
      "chr1\t138949\t138950\t-0.0135\n"
     ]
    }
   ],
   "source": [
    "FPATH=/data/reddylab/Kuei/out/proj_combeffect_encode_fcc/results/LentiMPRA_K562_Nadav/coverage/K562.ENCSR382BVV.ENCFF348WYK.LMPRA.unstranded.bg\n",
    "cat ${FPATH} | head -n 210 | tail -n 20"
   ]
  },
  {
   "cell_type": "code",
   "execution_count": 30,
   "id": "1daf2a53-a072-4b31-a261-bbd270fa0ea5",
   "metadata": {},
   "outputs": [
    {
     "name": "stdout",
     "output_type": "stream",
     "text": [
      "chr1\t115665\t115666\t0.1572\n",
      "chr1\t115666\t115667\t0.1572\n",
      "chr1\t115667\t115668\t0.1572\n",
      "chr1\t115668\t115669\t0.1572\n",
      "chr1\t115669\t115670\t0.1572\n"
     ]
    }
   ],
   "source": [
    "FPATH=/data/reddylab/Kuei/out/proj_combeffect_encode_fcc/results/LentiMPRA_K562_Nadav/coverage/K562.ENCSR382BVV.ENCFF348WYK.LMPRA.unstranded.bg\n",
    "cat ${FPATH} | head -n 39 | tail -n 5"
   ]
  },
  {
   "cell_type": "markdown",
   "id": "48a82a9c-605d-4f96-b62e-cb2c413b7673",
   "metadata": {},
   "source": [
    "## Convert bg to bw"
   ]
  },
  {
   "cell_type": "code",
   "execution_count": 21,
   "id": "be046538-c026-4129-a0b8-d5efaeaa31cb",
   "metadata": {},
   "outputs": [
    {
     "name": "stdout",
     "output_type": "stream",
     "text": [
      "\u001b[0m\u001b[38;5;34m/data/common/shared_conda_envs/ucsc/bin/bedGraphToBigWig\u001b[0m\n"
     ]
    }
   ],
   "source": [
    "FD_UCSC=/data/common/shared_conda_envs/ucsc/bin\n",
    "ls ${FD_UCSC}/bedGraphToBigWig"
   ]
  },
  {
   "cell_type": "code",
   "execution_count": 22,
   "id": "31f40c5c-e9a8-4979-8c02-12b17ad8eac2",
   "metadata": {},
   "outputs": [
    {
     "name": "stdout",
     "output_type": "stream",
     "text": [
      "\u001b[0m\u001b[38;5;9mK562.ENCSR382BVV.ENCFF348WYK.LMPRA.region.bed.gz\u001b[0m\n",
      "\u001b[38;5;9mK562.ENCSR382BVV.ENCFF348WYK.LMPRA.region_merge.bed.gz\u001b[0m\n",
      "\u001b[38;5;9mK562.ENCSR382BVV.ENCFF348WYK.LMPRA.region_merge_perbase.bed.gz\u001b[0m\n",
      "\u001b[38;5;9mK562.ENCSR382BVV.ENCFF348WYK.LMPRA.stranded.bed.gz\u001b[0m\n",
      "\u001b[38;5;9mK562.ENCSR382BVV.ENCFF348WYK.LMPRA.unstranded.bed.gz\u001b[0m\n",
      "K562.ENCSR382BVV.ENCFF348WYK.LMPRA.unstranded.bg\n",
      "K562.ENCSR382BVV.ENCFF348WYK.LMPRA.unstranded.bw\n",
      "K562.ENCSR382BVV.ENCFF348WYK.LMPRA.unstraned.bg\n",
      "nadav_K562_MPRA_log2FC_Z_bp.bed\n",
      "\u001b[38;5;9mnadav_K562_MPRA_log2FC_Z_bp.bed.gz\u001b[0m\n",
      "nadav_K562_MPRA_log2FC_Z_bp.wig\n"
     ]
    }
   ],
   "source": [
    "FDIRY=${FD_RES}/results/LentiMPRA_K562_Nadav/coverage\n",
    "ls ${FDIRY}"
   ]
  },
  {
   "cell_type": "code",
   "execution_count": 31,
   "id": "cee56ed8-2cd1-4061-91d5-018ca51714ed",
   "metadata": {},
   "outputs": [],
   "source": [
    "FP_CHR=${FD_RES}/source/chrom.sizes.hg38\n",
    "\n",
    "FD_INP=${FD_RES}/results/LentiMPRA_K562_Nadav/coverage\n",
    "FN_INP=K562.ENCSR382BVV.ENCFF348WYK.LMPRA.unstranded.bg\n",
    "FP_INP=${FD_INP}/${FN_INP}\n",
    "\n",
    "FD_OUT=${FD_INP}\n",
    "FN_OUT=K562.ENCSR382BVV.ENCFF348WYK.LMPRA.unstranded.bw\n",
    "FP_OUT=${FD_OUT}/${FN_OUT}\n",
    "\n",
    "${FD_UCSC}/bedGraphToBigWig ${FP_INP} ${FP_CHR} ${FP_OUT}"
   ]
  },
  {
   "cell_type": "code",
   "execution_count": null,
   "id": "a71d31f6-cf9e-438e-8c97-a089678c6877",
   "metadata": {},
   "outputs": [],
   "source": []
  }
 ],
 "metadata": {
  "kernelspec": {
   "display_name": "Bash",
   "language": "bash",
   "name": "bash"
  },
  "language_info": {
   "codemirror_mode": "shell",
   "file_extension": ".sh",
   "mimetype": "text/x-sh",
   "name": "bash"
  }
 },
 "nbformat": 4,
 "nbformat_minor": 5
}
