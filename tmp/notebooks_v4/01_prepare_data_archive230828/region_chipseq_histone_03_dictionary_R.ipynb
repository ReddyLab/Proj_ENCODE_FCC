{
 "cells": [
  {
   "cell_type": "markdown",
   "metadata": {},
   "source": [
    "**Set environment**"
   ]
  },
  {
   "cell_type": "code",
   "execution_count": 1,
   "metadata": {},
   "outputs": [
    {
     "name": "stdout",
     "output_type": "stream",
     "text": [
      "You are in Singularity: singularity_proj_encode_fcc \n",
      "BASE DIRECTORY (FD_BASE): /data/reddylab/Kuei \n",
      "WORK DIRECTORY (FD_WORK): /data/reddylab/Kuei/out \n",
      "CODE DIRECTORY (FD_CODE): /data/reddylab/Kuei/code \n",
      "PATH OF PROJECT (FD_PRJ): /data/reddylab/Kuei/code/Proj_CombEffect_ENCODE_FCC \n",
      "PATH OF RESULTS (FD_RES): /data/reddylab/Kuei/out/proj_combeffect_encode_fcc \n",
      "PATH OF LOG     (FD_LOG): /data/reddylab/Kuei/out/proj_combeffect_encode_fcc/log \n"
     ]
    }
   ],
   "source": [
    "suppressMessages(suppressWarnings(source(\"../config/config_sing.R\")))\n",
    "show_env()"
   ]
  },
  {
   "cell_type": "markdown",
   "metadata": {},
   "source": [
    "**Check data**"
   ]
  },
  {
   "cell_type": "code",
   "execution_count": 2,
   "metadata": {},
   "outputs": [
    {
     "data": {
      "text/html": [
       "<style>\n",
       ".list-inline {list-style: none; margin:0; padding: 0}\n",
       ".list-inline>li {display: inline-block}\n",
       ".list-inline>li:not(:last-child)::after {content: \"\\00b7\"; padding: 0 .5ex}\n",
       "</style>\n",
       "<ol class=list-inline><li>'accession_info_peaks.tsv'</li><li>'description.tsv'</li><li>'download.sh'</li><li>'K562.ENCSR000AKP.ENCFF544LXB.H3K27ac.bed.gz'</li><li>'K562.ENCSR000AKQ.ENCFF323WOT.H3K27me3.bed.gz'</li><li>'K562.ENCSR000AKR.ENCFF193ERO.H3K36me3.bed.gz'</li><li>'K562.ENCSR000AKS.ENCFF135ZLM.H3K4me1.bed.gz'</li><li>'K562.ENCSR000AKT.ENCFF749KLQ.H3K4me2.bed.gz'</li><li>'K562.ENCSR000AKU.ENCFF689QIJ.H3K4me3.bed.gz'</li><li>'K562.ENCSR000AKV.ENCFF891CHI.H3K9ac.bed.gz'</li><li>'K562.ENCSR000AKW.ENCFF462AVD.H3K9me1.bed.gz'</li><li>'K562.ENCSR000AKX.ENCFF909RKY.H4K20me1.bed.gz'</li><li>'K562.ENCSR000APC.ENCFF213OTI.H2AFZ.bed.gz'</li><li>'K562.ENCSR000APD.ENCFF209OQD.H3K79me2.bed.gz'</li><li>'K562.ENCSR000APE.ENCFF963GZJ.H3K9me3.bed.gz'</li><li>'K562.ENCSR000DWB.ENCFF561OUZ.H3K36me3.bed.gz'</li><li>'K562.ENCSR000DWD.ENCFF706WUF.H3K4me3.bed.gz'</li><li>'K562.ENCSR000EVZ.ENCFF148UQI.H3K9ac.bed.gz'</li><li>'K562.ENCSR000EWA.ENCFF122CSI.H3K4me3.bed.gz'</li><li>'K562.ENCSR000EWB.ENCFF801AHF.H3K27me3.bed.gz'</li><li>'K562.ENCSR000EWC.ENCFF540NGG.H3K4me1.bed.gz'</li><li>'K562.ENCSR668LDD.ENCFF885FQN.H3K4me3.bed.gz'</li></ol>\n"
      ],
      "text/latex": [
       "\\begin{enumerate*}\n",
       "\\item 'accession\\_info\\_peaks.tsv'\n",
       "\\item 'description.tsv'\n",
       "\\item 'download.sh'\n",
       "\\item 'K562.ENCSR000AKP.ENCFF544LXB.H3K27ac.bed.gz'\n",
       "\\item 'K562.ENCSR000AKQ.ENCFF323WOT.H3K27me3.bed.gz'\n",
       "\\item 'K562.ENCSR000AKR.ENCFF193ERO.H3K36me3.bed.gz'\n",
       "\\item 'K562.ENCSR000AKS.ENCFF135ZLM.H3K4me1.bed.gz'\n",
       "\\item 'K562.ENCSR000AKT.ENCFF749KLQ.H3K4me2.bed.gz'\n",
       "\\item 'K562.ENCSR000AKU.ENCFF689QIJ.H3K4me3.bed.gz'\n",
       "\\item 'K562.ENCSR000AKV.ENCFF891CHI.H3K9ac.bed.gz'\n",
       "\\item 'K562.ENCSR000AKW.ENCFF462AVD.H3K9me1.bed.gz'\n",
       "\\item 'K562.ENCSR000AKX.ENCFF909RKY.H4K20me1.bed.gz'\n",
       "\\item 'K562.ENCSR000APC.ENCFF213OTI.H2AFZ.bed.gz'\n",
       "\\item 'K562.ENCSR000APD.ENCFF209OQD.H3K79me2.bed.gz'\n",
       "\\item 'K562.ENCSR000APE.ENCFF963GZJ.H3K9me3.bed.gz'\n",
       "\\item 'K562.ENCSR000DWB.ENCFF561OUZ.H3K36me3.bed.gz'\n",
       "\\item 'K562.ENCSR000DWD.ENCFF706WUF.H3K4me3.bed.gz'\n",
       "\\item 'K562.ENCSR000EVZ.ENCFF148UQI.H3K9ac.bed.gz'\n",
       "\\item 'K562.ENCSR000EWA.ENCFF122CSI.H3K4me3.bed.gz'\n",
       "\\item 'K562.ENCSR000EWB.ENCFF801AHF.H3K27me3.bed.gz'\n",
       "\\item 'K562.ENCSR000EWC.ENCFF540NGG.H3K4me1.bed.gz'\n",
       "\\item 'K562.ENCSR668LDD.ENCFF885FQN.H3K4me3.bed.gz'\n",
       "\\end{enumerate*}\n"
      ],
      "text/markdown": [
       "1. 'accession_info_peaks.tsv'\n",
       "2. 'description.tsv'\n",
       "3. 'download.sh'\n",
       "4. 'K562.ENCSR000AKP.ENCFF544LXB.H3K27ac.bed.gz'\n",
       "5. 'K562.ENCSR000AKQ.ENCFF323WOT.H3K27me3.bed.gz'\n",
       "6. 'K562.ENCSR000AKR.ENCFF193ERO.H3K36me3.bed.gz'\n",
       "7. 'K562.ENCSR000AKS.ENCFF135ZLM.H3K4me1.bed.gz'\n",
       "8. 'K562.ENCSR000AKT.ENCFF749KLQ.H3K4me2.bed.gz'\n",
       "9. 'K562.ENCSR000AKU.ENCFF689QIJ.H3K4me3.bed.gz'\n",
       "10. 'K562.ENCSR000AKV.ENCFF891CHI.H3K9ac.bed.gz'\n",
       "11. 'K562.ENCSR000AKW.ENCFF462AVD.H3K9me1.bed.gz'\n",
       "12. 'K562.ENCSR000AKX.ENCFF909RKY.H4K20me1.bed.gz'\n",
       "13. 'K562.ENCSR000APC.ENCFF213OTI.H2AFZ.bed.gz'\n",
       "14. 'K562.ENCSR000APD.ENCFF209OQD.H3K79me2.bed.gz'\n",
       "15. 'K562.ENCSR000APE.ENCFF963GZJ.H3K9me3.bed.gz'\n",
       "16. 'K562.ENCSR000DWB.ENCFF561OUZ.H3K36me3.bed.gz'\n",
       "17. 'K562.ENCSR000DWD.ENCFF706WUF.H3K4me3.bed.gz'\n",
       "18. 'K562.ENCSR000EVZ.ENCFF148UQI.H3K9ac.bed.gz'\n",
       "19. 'K562.ENCSR000EWA.ENCFF122CSI.H3K4me3.bed.gz'\n",
       "20. 'K562.ENCSR000EWB.ENCFF801AHF.H3K27me3.bed.gz'\n",
       "21. 'K562.ENCSR000EWC.ENCFF540NGG.H3K4me1.bed.gz'\n",
       "22. 'K562.ENCSR668LDD.ENCFF885FQN.H3K4me3.bed.gz'\n",
       "\n",
       "\n"
      ],
      "text/plain": [
       " [1] \"accession_info_peaks.tsv\"                    \n",
       " [2] \"description.tsv\"                             \n",
       " [3] \"download.sh\"                                 \n",
       " [4] \"K562.ENCSR000AKP.ENCFF544LXB.H3K27ac.bed.gz\" \n",
       " [5] \"K562.ENCSR000AKQ.ENCFF323WOT.H3K27me3.bed.gz\"\n",
       " [6] \"K562.ENCSR000AKR.ENCFF193ERO.H3K36me3.bed.gz\"\n",
       " [7] \"K562.ENCSR000AKS.ENCFF135ZLM.H3K4me1.bed.gz\" \n",
       " [8] \"K562.ENCSR000AKT.ENCFF749KLQ.H3K4me2.bed.gz\" \n",
       " [9] \"K562.ENCSR000AKU.ENCFF689QIJ.H3K4me3.bed.gz\" \n",
       "[10] \"K562.ENCSR000AKV.ENCFF891CHI.H3K9ac.bed.gz\"  \n",
       "[11] \"K562.ENCSR000AKW.ENCFF462AVD.H3K9me1.bed.gz\" \n",
       "[12] \"K562.ENCSR000AKX.ENCFF909RKY.H4K20me1.bed.gz\"\n",
       "[13] \"K562.ENCSR000APC.ENCFF213OTI.H2AFZ.bed.gz\"   \n",
       "[14] \"K562.ENCSR000APD.ENCFF209OQD.H3K79me2.bed.gz\"\n",
       "[15] \"K562.ENCSR000APE.ENCFF963GZJ.H3K9me3.bed.gz\" \n",
       "[16] \"K562.ENCSR000DWB.ENCFF561OUZ.H3K36me3.bed.gz\"\n",
       "[17] \"K562.ENCSR000DWD.ENCFF706WUF.H3K4me3.bed.gz\" \n",
       "[18] \"K562.ENCSR000EVZ.ENCFF148UQI.H3K9ac.bed.gz\"  \n",
       "[19] \"K562.ENCSR000EWA.ENCFF122CSI.H3K4me3.bed.gz\" \n",
       "[20] \"K562.ENCSR000EWB.ENCFF801AHF.H3K27me3.bed.gz\"\n",
       "[21] \"K562.ENCSR000EWC.ENCFF540NGG.H3K4me1.bed.gz\" \n",
       "[22] \"K562.ENCSR668LDD.ENCFF885FQN.H3K4me3.bed.gz\" "
      ]
     },
     "metadata": {},
     "output_type": "display_data"
    }
   ],
   "source": [
    "fdiry = file.path(FD_RES, \"results\", \"region\", \"annotation_chipseq_histone\")\n",
    "dir(fdiry)"
   ]
  },
  {
   "cell_type": "markdown",
   "metadata": {},
   "source": [
    "## Import data"
   ]
  },
  {
   "cell_type": "code",
   "execution_count": 3,
   "metadata": {},
   "outputs": [
    {
     "name": "stderr",
     "output_type": "stream",
     "text": [
      "\u001b[1mRows: \u001b[22m\u001b[34m43357\u001b[39m \u001b[1mColumns: \u001b[22m\u001b[34m10\u001b[39m\n",
      "\u001b[36m──\u001b[39m \u001b[1mColumn specification\u001b[22m \u001b[36m─────────────────────────────────────────────────────────────────────\u001b[39m\n",
      "\u001b[1mDelimiter:\u001b[22m \"\\t\"\n",
      "\u001b[31mchr\u001b[39m (3): X1, X4, X6\n",
      "\u001b[32mdbl\u001b[39m (7): X2, X3, X5, X7, X8, X9, X10\n",
      "\n",
      "\u001b[36mℹ\u001b[39m Use `spec()` to retrieve the full column specification for this data.\n",
      "\u001b[36mℹ\u001b[39m Specify the column types or set `show_col_types = FALSE` to quiet this message.\n"
     ]
    },
    {
     "name": "stdout",
     "output_type": "stream",
     "text": [
      "[1] 43357    10\n"
     ]
    },
    {
     "data": {
      "text/html": [
       "<table class=\"dataframe\">\n",
       "<caption>A tibble: 6 × 10</caption>\n",
       "<thead>\n",
       "\t<tr><th scope=col>X1</th><th scope=col>X2</th><th scope=col>X3</th><th scope=col>X4</th><th scope=col>X5</th><th scope=col>X6</th><th scope=col>X7</th><th scope=col>X8</th><th scope=col>X9</th><th scope=col>X10</th></tr>\n",
       "\t<tr><th scope=col>&lt;chr&gt;</th><th scope=col>&lt;dbl&gt;</th><th scope=col>&lt;dbl&gt;</th><th scope=col>&lt;chr&gt;</th><th scope=col>&lt;dbl&gt;</th><th scope=col>&lt;chr&gt;</th><th scope=col>&lt;dbl&gt;</th><th scope=col>&lt;dbl&gt;</th><th scope=col>&lt;dbl&gt;</th><th scope=col>&lt;dbl&gt;</th></tr>\n",
       "</thead>\n",
       "<tbody>\n",
       "\t<tr><td>chr1</td><td>116255</td><td>116555</td><td>Peak_36713</td><td> 72</td><td>.</td><td> 5.02750</td><td> 7.24936</td><td> 5.23560</td><td>146</td></tr>\n",
       "\t<tr><td>chr1</td><td>118439</td><td>118645</td><td>Peak_33234</td><td> 82</td><td>.</td><td> 5.48455</td><td> 8.25731</td><td> 6.21388</td><td>158</td></tr>\n",
       "\t<tr><td>chr1</td><td>118799</td><td>119097</td><td>Peak_30464</td><td> 92</td><td>.</td><td> 5.94159</td><td> 9.29949</td><td> 7.22801</td><td>144</td></tr>\n",
       "\t<tr><td>chr1</td><td>137660</td><td>138147</td><td>Peak_27205</td><td>108</td><td>.</td><td> 6.48119</td><td>10.86944</td><td> 8.75676</td><td>313</td></tr>\n",
       "\t<tr><td>chr1</td><td>138369</td><td>138568</td><td>Peak_27797</td><td>103</td><td>.</td><td> 6.39864</td><td>10.37345</td><td> 8.26920</td><td>161</td></tr>\n",
       "\t<tr><td>chr1</td><td>138614</td><td>139604</td><td>Peak_17721</td><td>211</td><td>.</td><td>10.51205</td><td>21.18594</td><td>18.86761</td><td>838</td></tr>\n",
       "</tbody>\n",
       "</table>\n"
      ],
      "text/latex": [
       "A tibble: 6 × 10\n",
       "\\begin{tabular}{llllllllll}\n",
       " X1 & X2 & X3 & X4 & X5 & X6 & X7 & X8 & X9 & X10\\\\\n",
       " <chr> & <dbl> & <dbl> & <chr> & <dbl> & <chr> & <dbl> & <dbl> & <dbl> & <dbl>\\\\\n",
       "\\hline\n",
       "\t chr1 & 116255 & 116555 & Peak\\_36713 &  72 & . &  5.02750 &  7.24936 &  5.23560 & 146\\\\\n",
       "\t chr1 & 118439 & 118645 & Peak\\_33234 &  82 & . &  5.48455 &  8.25731 &  6.21388 & 158\\\\\n",
       "\t chr1 & 118799 & 119097 & Peak\\_30464 &  92 & . &  5.94159 &  9.29949 &  7.22801 & 144\\\\\n",
       "\t chr1 & 137660 & 138147 & Peak\\_27205 & 108 & . &  6.48119 & 10.86944 &  8.75676 & 313\\\\\n",
       "\t chr1 & 138369 & 138568 & Peak\\_27797 & 103 & . &  6.39864 & 10.37345 &  8.26920 & 161\\\\\n",
       "\t chr1 & 138614 & 139604 & Peak\\_17721 & 211 & . & 10.51205 & 21.18594 & 18.86761 & 838\\\\\n",
       "\\end{tabular}\n"
      ],
      "text/markdown": [
       "\n",
       "A tibble: 6 × 10\n",
       "\n",
       "| X1 &lt;chr&gt; | X2 &lt;dbl&gt; | X3 &lt;dbl&gt; | X4 &lt;chr&gt; | X5 &lt;dbl&gt; | X6 &lt;chr&gt; | X7 &lt;dbl&gt; | X8 &lt;dbl&gt; | X9 &lt;dbl&gt; | X10 &lt;dbl&gt; |\n",
       "|---|---|---|---|---|---|---|---|---|---|\n",
       "| chr1 | 116255 | 116555 | Peak_36713 |  72 | . |  5.02750 |  7.24936 |  5.23560 | 146 |\n",
       "| chr1 | 118439 | 118645 | Peak_33234 |  82 | . |  5.48455 |  8.25731 |  6.21388 | 158 |\n",
       "| chr1 | 118799 | 119097 | Peak_30464 |  92 | . |  5.94159 |  9.29949 |  7.22801 | 144 |\n",
       "| chr1 | 137660 | 138147 | Peak_27205 | 108 | . |  6.48119 | 10.86944 |  8.75676 | 313 |\n",
       "| chr1 | 138369 | 138568 | Peak_27797 | 103 | . |  6.39864 | 10.37345 |  8.26920 | 161 |\n",
       "| chr1 | 138614 | 139604 | Peak_17721 | 211 | . | 10.51205 | 21.18594 | 18.86761 | 838 |\n",
       "\n"
      ],
      "text/plain": [
       "  X1   X2     X3     X4         X5  X6 X7       X8       X9       X10\n",
       "1 chr1 116255 116555 Peak_36713  72 .   5.02750  7.24936  5.23560 146\n",
       "2 chr1 118439 118645 Peak_33234  82 .   5.48455  8.25731  6.21388 158\n",
       "3 chr1 118799 119097 Peak_30464  92 .   5.94159  9.29949  7.22801 144\n",
       "4 chr1 137660 138147 Peak_27205 108 .   6.48119 10.86944  8.75676 313\n",
       "5 chr1 138369 138568 Peak_27797 103 .   6.39864 10.37345  8.26920 161\n",
       "6 chr1 138614 139604 Peak_17721 211 .  10.51205 21.18594 18.86761 838"
      ]
     },
     "metadata": {},
     "output_type": "display_data"
    }
   ],
   "source": [
    "### set file directory\n",
    "fdiry = file.path(FD_RES, \"results\", \"region\", \"annotation_chipseq_histone\")\n",
    "fname = \"K562.ENCSR000AKU.ENCFF689QIJ.H3K4me3.bed.gz\"\n",
    "fpath = file.path(fdiry, fname)\n",
    "\n",
    "### read table\n",
    "dat = read_tsv(fpath, col_names=FALSE)\n",
    "\n",
    "### assign and show\n",
    "dat_chipseq_histone = dat\n",
    "print(dim(dat))\n",
    "head(dat)"
   ]
  },
  {
   "cell_type": "markdown",
   "metadata": {},
   "source": [
    "## Data dictionary: ENCODE narrowPeak"
   ]
  },
  {
   "cell_type": "markdown",
   "metadata": {},
   "source": [
    "[ENCODE narrowPeak: Narrow (or Point-Source) Peaks format](http://genome.ucsc.edu/FAQ/FAQformat.html#format12)"
   ]
  },
  {
   "cell_type": "code",
   "execution_count": 4,
   "metadata": {},
   "outputs": [
    {
     "data": {
      "text/html": [
       "<table class=\"dataframe\">\n",
       "<caption>A tibble: 10 × 2</caption>\n",
       "<thead>\n",
       "\t<tr><th scope=col>Name</th><th scope=col>Description</th></tr>\n",
       "\t<tr><th scope=col>&lt;chr&gt;</th><th scope=col>&lt;chr&gt;</th></tr>\n",
       "</thead>\n",
       "<tbody>\n",
       "\t<tr><td>Chrom      </td><td>Name of the chromosome (or contig, scaffold, etc.).                                                                                                                                                                                                              </td></tr>\n",
       "\t<tr><td>Start      </td><td>The starting position of the feature in the chromosome or scaffold. The first base in a chromosome is numbered 0.                                                                                                                                                </td></tr>\n",
       "\t<tr><td>End        </td><td>The ending position of the feature in the chromosome or scaffold. The chromEnd base is not included in the display of the feature. For example, the first 100 bases of a chromosome are defined as chromStart=0, chromEnd=100, and span the bases numbered 0-99. </td></tr>\n",
       "\t<tr><td>Name       </td><td>Name given to a region (preferably unique). Use '.' if no name is assigned.                                                                                                                                                                                      </td></tr>\n",
       "\t<tr><td>Score      </td><td>Indicates how dark the peak will be displayed in the browser (0-1000). If all scores were '0' when the data were submitted to the DCC, the DCC assigned scores 1-1000 based on signal value. Ideally the average signalValue per base spread is between 100-1000.</td></tr>\n",
       "\t<tr><td>Strand     </td><td>+/- to denote strand or orientation (whenever applicable). Use '.' if no orientation is assigned.                                                                                                                                                                </td></tr>\n",
       "\t<tr><td>SignalValue</td><td>Measurement of overall (usually, average) enrichment for the region.                                                                                                                                                                                             </td></tr>\n",
       "\t<tr><td>pValue     </td><td>Measurement of statistical significance (-log10). Use -1 if no pValue is assigned.                                                                                                                                                                               </td></tr>\n",
       "\t<tr><td>qValue     </td><td>Measurement of statistical significance using false discovery rate (-log10). Use -1 if no qValue is assigned.                                                                                                                                                    </td></tr>\n",
       "\t<tr><td>peak       </td><td>Point-source called for this peak; 0-based offset from chromStart. Use -1 if no point-source called.                                                                                                                                                             </td></tr>\n",
       "</tbody>\n",
       "</table>\n"
      ],
      "text/latex": [
       "A tibble: 10 × 2\n",
       "\\begin{tabular}{ll}\n",
       " Name & Description\\\\\n",
       " <chr> & <chr>\\\\\n",
       "\\hline\n",
       "\t Chrom       & Name of the chromosome (or contig, scaffold, etc.).                                                                                                                                                                                                              \\\\\n",
       "\t Start       & The starting position of the feature in the chromosome or scaffold. The first base in a chromosome is numbered 0.                                                                                                                                                \\\\\n",
       "\t End         & The ending position of the feature in the chromosome or scaffold. The chromEnd base is not included in the display of the feature. For example, the first 100 bases of a chromosome are defined as chromStart=0, chromEnd=100, and span the bases numbered 0-99. \\\\\n",
       "\t Name        & Name given to a region (preferably unique). Use '.' if no name is assigned.                                                                                                                                                                                      \\\\\n",
       "\t Score       & Indicates how dark the peak will be displayed in the browser (0-1000). If all scores were '0' when the data were submitted to the DCC, the DCC assigned scores 1-1000 based on signal value. Ideally the average signalValue per base spread is between 100-1000.\\\\\n",
       "\t Strand      & +/- to denote strand or orientation (whenever applicable). Use '.' if no orientation is assigned.                                                                                                                                                                \\\\\n",
       "\t SignalValue & Measurement of overall (usually, average) enrichment for the region.                                                                                                                                                                                             \\\\\n",
       "\t pValue      & Measurement of statistical significance (-log10). Use -1 if no pValue is assigned.                                                                                                                                                                               \\\\\n",
       "\t qValue      & Measurement of statistical significance using false discovery rate (-log10). Use -1 if no qValue is assigned.                                                                                                                                                    \\\\\n",
       "\t peak        & Point-source called for this peak; 0-based offset from chromStart. Use -1 if no point-source called.                                                                                                                                                             \\\\\n",
       "\\end{tabular}\n"
      ],
      "text/markdown": [
       "\n",
       "A tibble: 10 × 2\n",
       "\n",
       "| Name &lt;chr&gt; | Description &lt;chr&gt; |\n",
       "|---|---|\n",
       "| Chrom       | Name of the chromosome (or contig, scaffold, etc.).                                                                                                                                                                                                               |\n",
       "| Start       | The starting position of the feature in the chromosome or scaffold. The first base in a chromosome is numbered 0.                                                                                                                                                 |\n",
       "| End         | The ending position of the feature in the chromosome or scaffold. The chromEnd base is not included in the display of the feature. For example, the first 100 bases of a chromosome are defined as chromStart=0, chromEnd=100, and span the bases numbered 0-99.  |\n",
       "| Name        | Name given to a region (preferably unique). Use '.' if no name is assigned.                                                                                                                                                                                       |\n",
       "| Score       | Indicates how dark the peak will be displayed in the browser (0-1000). If all scores were '0' when the data were submitted to the DCC, the DCC assigned scores 1-1000 based on signal value. Ideally the average signalValue per base spread is between 100-1000. |\n",
       "| Strand      | +/- to denote strand or orientation (whenever applicable). Use '.' if no orientation is assigned.                                                                                                                                                                 |\n",
       "| SignalValue | Measurement of overall (usually, average) enrichment for the region.                                                                                                                                                                                              |\n",
       "| pValue      | Measurement of statistical significance (-log10). Use -1 if no pValue is assigned.                                                                                                                                                                                |\n",
       "| qValue      | Measurement of statistical significance using false discovery rate (-log10). Use -1 if no qValue is assigned.                                                                                                                                                     |\n",
       "| peak        | Point-source called for this peak; 0-based offset from chromStart. Use -1 if no point-source called.                                                                                                                                                              |\n",
       "\n"
      ],
      "text/plain": [
       "   Name       \n",
       "1  Chrom      \n",
       "2  Start      \n",
       "3  End        \n",
       "4  Name       \n",
       "5  Score      \n",
       "6  Strand     \n",
       "7  SignalValue\n",
       "8  pValue     \n",
       "9  qValue     \n",
       "10 peak       \n",
       "   Description                                                                                                                                                                                                                                                      \n",
       "1  Name of the chromosome (or contig, scaffold, etc.).                                                                                                                                                                                                              \n",
       "2  The starting position of the feature in the chromosome or scaffold. The first base in a chromosome is numbered 0.                                                                                                                                                \n",
       "3  The ending position of the feature in the chromosome or scaffold. The chromEnd base is not included in the display of the feature. For example, the first 100 bases of a chromosome are defined as chromStart=0, chromEnd=100, and span the bases numbered 0-99. \n",
       "4  Name given to a region (preferably unique). Use '.' if no name is assigned.                                                                                                                                                                                      \n",
       "5  Indicates how dark the peak will be displayed in the browser (0-1000). If all scores were '0' when the data were submitted to the DCC, the DCC assigned scores 1-1000 based on signal value. Ideally the average signalValue per base spread is between 100-1000.\n",
       "6  +/- to denote strand or orientation (whenever applicable). Use '.' if no orientation is assigned.                                                                                                                                                                \n",
       "7  Measurement of overall (usually, average) enrichment for the region.                                                                                                                                                                                             \n",
       "8  Measurement of statistical significance (-log10). Use -1 if no pValue is assigned.                                                                                                                                                                               \n",
       "9  Measurement of statistical significance using false discovery rate (-log10). Use -1 if no qValue is assigned.                                                                                                                                                    \n",
       "10 Point-source called for this peak; 0-based offset from chromStart. Use -1 if no point-source called.                                                                                                                                                             "
      ]
     },
     "metadata": {},
     "output_type": "display_data"
    }
   ],
   "source": [
    "dat_cnames = tribble(\n",
    "    ~Name,         ~Description,\n",
    "    \"Chrom\",       \"Name of the chromosome (or contig, scaffold, etc.).\",\n",
    "    \"Start\",       \"The starting position of the feature in the chromosome or scaffold. The first base in a chromosome is numbered 0.\",\n",
    "    \"End\",         \"The ending position of the feature in the chromosome or scaffold. The chromEnd base is not included in the display of the feature. For example, the first 100 bases of a chromosome are defined as chromStart=0, chromEnd=100, and span the bases numbered 0-99.\",\n",
    "    \"Name\",        \"Name given to a region (preferably unique). Use '.' if no name is assigned.\",\n",
    "    \"Score\",       \"Indicates how dark the peak will be displayed in the browser (0-1000). If all scores were '0' when the data were submitted to the DCC, the DCC assigned scores 1-1000 based on signal value. Ideally the average signalValue per base spread is between 100-1000.\",\n",
    "    \"Strand\",      \"+/- to denote strand or orientation (whenever applicable). Use '.' if no orientation is assigned.\",\n",
    "    \"SignalValue\", \"Measurement of overall (usually, average) enrichment for the region.\",\n",
    "    \"pValue\",      \"Measurement of statistical significance (-log10). Use -1 if no pValue is assigned.\",\n",
    "    \"qValue\",      \"Measurement of statistical significance using false discovery rate (-log10). Use -1 if no qValue is assigned.\",\n",
    "    \"peak\",        \"Point-source called for this peak; 0-based offset from chromStart. Use -1 if no point-source called.\"\n",
    ")\n",
    "dat_cnames"
   ]
  },
  {
   "cell_type": "code",
   "execution_count": 5,
   "metadata": {},
   "outputs": [],
   "source": [
    "fdiry = file.path(FD_RES, \"results\", \"region\", \"annotation_chipseq_histone\")\n",
    "fname = \"description.tsv\"\n",
    "fpath = file.path(fdiry, fname)\n",
    "\n",
    "dat = dat_cnames\n",
    "write_tsv(dat, fpath)"
   ]
  },
  {
   "cell_type": "code",
   "execution_count": null,
   "metadata": {},
   "outputs": [],
   "source": []
  }
 ],
 "metadata": {
  "kernelspec": {
   "display_name": "R",
   "language": "R",
   "name": "ir"
  },
  "language_info": {
   "codemirror_mode": "r",
   "file_extension": ".r",
   "mimetype": "text/x-r-source",
   "name": "R",
   "pygments_lexer": "r",
   "version": "4.3.0"
  }
 },
 "nbformat": 4,
 "nbformat_minor": 4
}
