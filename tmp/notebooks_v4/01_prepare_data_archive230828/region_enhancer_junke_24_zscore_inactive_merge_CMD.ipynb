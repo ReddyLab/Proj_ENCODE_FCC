{
 "cells": [
  {
   "cell_type": "markdown",
   "metadata": {},
   "source": [
    "**Set environment**"
   ]
  },
  {
   "cell_type": "code",
   "execution_count": 1,
   "metadata": {},
   "outputs": [
    {
     "name": "stdout",
     "output_type": "stream",
     "text": [
      "You are on Duke Server: HARDAC\n",
      "BASE DIRECTORY (FD_BASE): /data/reddylab/Kuei\n",
      "WORK DIRECTORY (FD_WORK): /data/reddylab/Kuei/out\n",
      "CODE DIRECTORY (FD_CODE): /data/reddylab/Kuei/code\n",
      "SING DIRECTORY (FD_SING): /data/reddylab/Kuei/singularity\n",
      "PATH OF PROJECT (FD_PRJ): /data/reddylab/Kuei/code/Proj_CombEffect_ENCODE_FCC\n",
      "PATH OF RESULTS (FD_RES): /data/reddylab/Kuei/out/proj_combeffect_encode_fcc\n",
      "PATH OF LOG     (FD_LOG): /data/reddylab/Kuei/out/proj_combeffect_encode_fcc/log\n",
      "\n"
     ]
    }
   ],
   "source": [
    "### set env\n",
    "source ../config/config_duke.sh\n",
    "source ../config/config_load_module_bedtools.sh\n",
    "show_env"
   ]
  },
  {
   "cell_type": "code",
   "execution_count": 3,
   "metadata": {},
   "outputs": [
    {
     "name": "stdout",
     "output_type": "stream",
     "text": [
      "description.tsv\n",
      "\u001b[0m\u001b[38;5;9menhancer_zscore_junke.inactive.ASTARR.bed.gz\u001b[0m\n",
      "\u001b[38;5;9menhancer_zscore_junke.inactive.LMPRA.bed.gz\u001b[0m\n",
      "\u001b[38;5;9menhancer_zscore_junke.inactive.TMPRA.bed.gz\u001b[0m\n",
      "\u001b[38;5;9menhancer_zscore_junke.inactive.TMPRA_OL13.bed.gz\u001b[0m\n",
      "\u001b[38;5;9menhancer_zscore_junke.inactive.TMPRA_OL43.bed.gz\u001b[0m\n",
      "\u001b[38;5;9menhancer_zscore_junke.inactive.TMPRA_OL45.bed.gz\u001b[0m\n",
      "\u001b[38;5;9menhancer_zscore_junke.inactive.WSTARR.bed.gz\u001b[0m\n",
      "\u001b[38;5;9menhancer_zscore_junke.peak.ASTARR_AB.bed.gz\u001b[0m\n",
      "\u001b[38;5;9menhancer_zscore_junke.peak.ASTARR_A.bed.gz\u001b[0m\n",
      "\u001b[38;5;9menhancer_zscore_junke.peak.ASTARR_R.bed.gz\u001b[0m\n",
      "\u001b[38;5;9menhancer_zscore_junke.peak.LMPRA_AB.bed.gz\u001b[0m\n",
      "\u001b[38;5;9menhancer_zscore_junke.peak.LMPRA_A.bed.gz\u001b[0m\n",
      "\u001b[38;5;9menhancer_zscore_junke.peak.LMPRA_R.bed.gz\u001b[0m\n",
      "\u001b[38;5;9menhancer_zscore_junke.peak.TMPRA_A.bed.gz\u001b[0m\n",
      "\u001b[38;5;9menhancer_zscore_junke.peak.TMPRA_R.bed.gz\u001b[0m\n",
      "\u001b[38;5;9menhancer_zscore_junke.peak.WSTARR_AB.bed.gz\u001b[0m\n",
      "\u001b[38;5;9menhancer_zscore_junke.peak.WSTARR_A.bed.gz\u001b[0m\n",
      "\u001b[38;5;9menhancer_zscore_junke.peak.WSTARR_R.bed.gz\u001b[0m\n"
     ]
    }
   ],
   "source": [
    "FD_INP=${FD_RES}/results/region/annotation_enhancer_zscore_junke\n",
    "ls ${FD_INP}"
   ]
  },
  {
   "cell_type": "code",
   "execution_count": 4,
   "metadata": {},
   "outputs": [
    {
     "name": "stdout",
     "output_type": "stream",
     "text": [
      "chr1\t115710\t115810\tbin_59\t0.488572939976538\t-\t0.0494318585308272\t0.109071399098828\t0.650631884838429\tN\tinactive\t145\t190\t215\t190\t208\t161\t21\t53\t54\t72\n",
      "chr1\t115720\t115820\tbin_61\t0.344825933065463\t-\t0.20866546748985\t0.338232419737616\t0.5492064954387383\tN\tinactive\t132\t169\t194\t170\t189\t144\t18\t43\t43\t64\n",
      "chr1\t115730\t115830\tbin_63\t0.249383142479579\t+\t0.441324871085628\t0.5858410419082\t0.4818637214319384\tN\tinactive\t132\t167\t217\t176\t199\t159\t22\t44\t43\t52\n",
      "chr1\t115730\t115830\tbin_64\t0.399196858523378\t-\t0.109188715315645\t0.204992193295846\t0.5875696753413435\tN\tinactive\t147\t190\t221\t189\t213\t189\t41\t47\t49\t64\n",
      "chr1\t115740\t115840\tbin_65\t0.201335693587275\t+\t0.489442923072408\t0.629799310960666\t0.44796227667644267\tN\tinactive\t109\t142\t176\t150\t162\t142\t21\t37\t32\t45\n",
      "chr1\t115740\t115840\tbin_66\t0.33711287381878\t-\t0.199192716207137\t0.3265277102148\t0.5437642949062316\tN\tinactive\t131\t166\t200\t168\t186\t154\t31\t41\t42\t54\n",
      "chr1\t115750\t115850\tbin_67\t0.23340999007543\t-\t0.452647630053691\t0.596362040063265\t0.47059334274827214\tN\tinactive\t123\t125\t158\t139\t142\t129\t21\t34\t29\t42\n",
      "chr1\t115750\t115850\tbin_68\t0.362093286329202\t+\t0.245930709451309\t0.382807377821435\t0.5613900397525352\tN\tinactive\t98\t158\t185\t152\t173\t141\t31\t41\t36\t53\n",
      "chr1\t115760\t115860\tbin_69\t0.223662105881115\t-\t0.463018502669129\t0.605872017561687\t0.4637154051029818\tN\tinactive\t117\t118\t143\t131\t132\t121\t21\t31\t27\t38\n",
      "chr1\t115760\t115860\tbin_70\t0.412170800428383\t+\t0.22488725872213\t0.35793312489644\t0.5967238632304738\tN\tinactive\t85\t147\t174\t147\t164\t129\t31\t41\t34\t52\n"
     ]
    }
   ],
   "source": [
    "FD_INP=${FD_RES}/results/region/annotation_enhancer_zscore_junke\n",
    "FN_INP=enhancer_zscore_junke.inactive.ASTARR.bed.gz\n",
    "FP_INP=${FD_INP}/${FN_INP}\n",
    "fun_head ${FP_INP}"
   ]
  },
  {
   "cell_type": "code",
   "execution_count": 5,
   "metadata": {},
   "outputs": [
    {
     "name": "stdout",
     "output_type": "stream",
     "text": [
      "ASTARR\n",
      "TMPRA\n"
     ]
    }
   ],
   "source": [
    "ASSAYS=(\"ASTARR\" \"WSTARR\" \"TMPRA\" \"LMPRA\")\n",
    "echo ${ASSAYS[0]}\n",
    "echo ${ASSAYS[2]}"
   ]
  },
  {
   "cell_type": "code",
   "execution_count": 9,
   "metadata": {},
   "outputs": [
    {
     "name": "stdout",
     "output_type": "stream",
     "text": [
      "Submitted batch job 30178399\n"
     ]
    }
   ],
   "source": [
    "sbatch -p ${NODE} \\\n",
    "    --exclude=dl-01 \\\n",
    "    --cpus-per-task 8 \\\n",
    "    --mem 4G \\\n",
    "    --output ${FD_LOG}/annotation_enhancer_merge_starrmpra_inactive.%a.txt \\\n",
    "    --array 0-3 \\\n",
    "    <<'EOF'\n",
    "#!/bin/bash\n",
    "### set directories\n",
    "source ../config/config_duke.sh\n",
    "\n",
    "### print start message\n",
    "timer_start=`date +%s`\n",
    "echo \"Hostname:          \" $(hostname)\n",
    "echo \"Slurm Array Index: \" ${SLURM_ARRAY_TASK_ID}\n",
    "echo \"Time Stamp:        \" $(date +\"%m-%d-%y+%T\")\n",
    "echo\n",
    "\n",
    "### set input and output\n",
    "ASSAYS=(\"ASTARR\" \"WSTARR\" \"TMPRA\" \"LMPRA\")\n",
    "ASSAY=${ASSAYS[${SLURM_ARRAY_TASK_ID}]}\n",
    "\n",
    "FD_INP=${FD_RES}/results/region/annotation_enhancer_zscore_junke\n",
    "FD_OUT=${FD_RES}/results/region/annotation_enhancer_zscore_junke\n",
    "\n",
    "FN_INP=enhancer_zscore_junke.inactive.${ASSAY}.bed.gz\n",
    "FN_OUT=enhancer_zscore_junke.inactive.merge.${ASSAY}.bed.gz\n",
    "\n",
    "FP_INP=${FD_INP}/${FN_INP}\n",
    "FP_OUT=${FD_OUT}/${FN_OUT}\n",
    "\n",
    "### show I/O file\n",
    "echo \"Input: \" ${FP_INP}\n",
    "echo\n",
    "echo \"show first few lines of input\"\n",
    "fun_head ${FP_INP}\n",
    "echo\n",
    "\n",
    "### init: create output folder if not exist\n",
    "mkdir -p ${FD_OUT}\n",
    "\n",
    "### merge the regions within the bed file\n",
    "bedtools merge \\\n",
    "    -i ${FP_INP} \\\n",
    "| gzip -c \\\n",
    "> ${FP_OUT}\n",
    "\n",
    "### show output file\n",
    "echo\n",
    "echo \"Output: \" ${FP_OUT}\n",
    "echo\n",
    "echo \"show first few lines of output:\"\n",
    "fun_head ${FP_OUT}\n",
    "echo\n",
    "\n",
    "### print end message\n",
    "timer=`date +%s`\n",
    "runtime=$(echo \"${timer} - ${timer_start}\" | bc -l)\n",
    "echo\n",
    "echo 'Done!'\n",
    "echo \"Run Time: $(displaytime ${runtime})\"\n",
    "\n",
    "EOF"
   ]
  },
  {
   "cell_type": "code",
   "execution_count": 10,
   "metadata": {},
   "outputs": [
    {
     "name": "stdout",
     "output_type": "stream",
     "text": [
      "Hostname:           x1-03-3.genome.duke.edu\n",
      "Slurm Array Index:  0\n",
      "Time Stamp:         08-10-23+14:36:07\n",
      "\n",
      "Input:  /data/reddylab/Kuei/out/proj_combeffect_encode_fcc/results/region/annotation_enhancer_zscore_junke/enhancer_zscore_junke.inactive.ASTARR.bed.gz\n",
      "\n",
      "show first few lines of input\n",
      "chr1\t115710\t115810\tbin_59\t0.488572939976538\t-\t0.0494318585308272\t0.109071399098828\t0.650631884838429\tN\tinactive\t145\t190\t215\t190\t208\t161\t21\t53\t54\t72\n",
      "chr1\t115720\t115820\tbin_61\t0.344825933065463\t-\t0.20866546748985\t0.338232419737616\t0.5492064954387383\tN\tinactive\t132\t169\t194\t170\t189\t144\t18\t43\t43\t64\n",
      "chr1\t115730\t115830\tbin_63\t0.249383142479579\t+\t0.441324871085628\t0.5858410419082\t0.4818637214319384\tN\tinactive\t132\t167\t217\t176\t199\t159\t22\t44\t43\t52\n",
      "chr1\t115730\t115830\tbin_64\t0.399196858523378\t-\t0.109188715315645\t0.204992193295846\t0.5875696753413435\tN\tinactive\t147\t190\t221\t189\t213\t189\t41\t47\t49\t64\n",
      "chr1\t115740\t115840\tbin_65\t0.201335693587275\t+\t0.489442923072408\t0.629799310960666\t0.44796227667644267\tN\tinactive\t109\t142\t176\t150\t162\t142\t21\t37\t32\t45\n",
      "chr1\t115740\t115840\tbin_66\t0.33711287381878\t-\t0.199192716207137\t0.3265277102148\t0.5437642949062316\tN\tinactive\t131\t166\t200\t168\t186\t154\t31\t41\t42\t54\n",
      "chr1\t115750\t115850\tbin_67\t0.23340999007543\t-\t0.452647630053691\t0.596362040063265\t0.47059334274827214\tN\tinactive\t123\t125\t158\t139\t142\t129\t21\t34\t29\t42\n",
      "chr1\t115750\t115850\tbin_68\t0.362093286329202\t+\t0.245930709451309\t0.382807377821435\t0.5613900397525352\tN\tinactive\t98\t158\t185\t152\t173\t141\t31\t41\t36\t53\n",
      "chr1\t115760\t115860\tbin_69\t0.223662105881115\t-\t0.463018502669129\t0.605872017561687\t0.4637154051029818\tN\tinactive\t117\t118\t143\t131\t132\t121\t21\t31\t27\t38\n",
      "chr1\t115760\t115860\tbin_70\t0.412170800428383\t+\t0.22488725872213\t0.35793312489644\t0.5967238632304738\tN\tinactive\t85\t147\t174\t147\t164\t129\t31\t41\t34\t52\n",
      "\n",
      "\n",
      "Output:  /data/reddylab/Kuei/out/proj_combeffect_encode_fcc/results/region/annotation_enhancer_zscore_junke/enhancer_zscore_junke.inactive.merge.ASTARR.bed.gz\n",
      "\n",
      "show first few lines of output:\n",
      "chr1\t115710\t115870\n",
      "chr1\t136400\t136570\n",
      "chr1\t136770\t136870\n",
      "chr1\t137120\t137240\n",
      "chr1\t139050\t139210\n",
      "chr1\t605250\t605480\n",
      "chr1\t778000\t778390\n",
      "chr1\t778860\t779020\n",
      "chr1\t779100\t779510\n",
      "chr1\t779770\t779880\n",
      "\n",
      "\n",
      "Done!\n",
      "Run Time: 6 seconds\n"
     ]
    }
   ],
   "source": [
    "cat ${FD_LOG}/annotation_enhancer_merge_starrmpra_inactive.0.txt"
   ]
  },
  {
   "cell_type": "code",
   "execution_count": 11,
   "metadata": {},
   "outputs": [
    {
     "name": "stdout",
     "output_type": "stream",
     "text": [
      "Hostname:           x1-03-4.genome.duke.edu\n",
      "Slurm Array Index:  1\n",
      "Time Stamp:         08-10-23+14:36:07\n",
      "\n",
      "Input:  /data/reddylab/Kuei/out/proj_combeffect_encode_fcc/results/region/annotation_enhancer_zscore_junke/enhancer_zscore_junke.inactive.WSTARR.bed.gz\n",
      "\n",
      "show first few lines of input\n",
      "chr1\t88430\t88530\tbin_43\t0.219133859242476\t+\t0.735784438477576\t0.910566085869422\t0.2949021802449866\tN\tinactive\t11\t11\t11\t4\n",
      "chr1\t88440\t88540\tbin_44\t0.243784462697835\t+\t0.705576146063813\t0.898184561496427\t0.34164495665210354\tN\tinactive\t11\t11\t12\t4\n",
      "chr1\t88450\t88550\tbin_45\t0.269256185975577\t+\t0.676086384487412\t0.885449245240551\t0.3899447505306429\tN\tinactive\t11\t11\t13\t4\n",
      "chr1\t133200\t133300\tbin_62\t0.0159003788123292\t+\t0.973923556971652\t0.992733089896101\t-0.09047163631857148\tN\tinactive\t14\t12\t5\t11\n",
      "chr1\t133200\t133300\tbin_63\t0.184097336156335\t-\t0.661300909358384\t0.879543475902448\t0.22846549573687386\tN\tinactive\t18\t19\t8\t11\n",
      "chr1\t133210\t133310\tbin_64\t-0.0126174104498143\t+\t0.979625649760522\t0.994631294789604\t-0.14454741785145164\tN\tinactive\t14\t12\t5\t10\n",
      "chr1\t133210\t133310\tbin_65\t0.184097336156335\t-\t0.661300909358384\t0.879543475902448\t0.22846549573687386\tN\tinactive\t18\t19\t8\t11\n",
      "chr1\t133220\t133320\tbin_66\t-0.108832725709117\t+\t0.821970710776557\t0.942993639230674\t-0.32699207792845003\tN\tinactive\t15\t12\t5\t10\n",
      "chr1\t133220\t133320\tbin_67\t0.184097336156335\t-\t0.661300909358384\t0.879543475902448\t0.22846549573687386\tN\tinactive\t18\t19\t8\t11\n",
      "chr1\t133230\t133330\tbin_68\t-0.0485040768114792\t+\t0.916966523133765\t0.97508120853216\t-0.21259615445856436\tN\tinactive\t15\t12\t6\t10\n",
      "\n",
      "\n",
      "Output:  /data/reddylab/Kuei/out/proj_combeffect_encode_fcc/results/region/annotation_enhancer_zscore_junke/enhancer_zscore_junke.inactive.merge.WSTARR.bed.gz\n",
      "\n",
      "show first few lines of output:\n",
      "chr1\t88430\t88550\n",
      "chr1\t133200\t133410\n",
      "chr1\t133490\t133610\n",
      "chr1\t135190\t135560\n",
      "chr1\t138970\t139370\n",
      "chr1\t139390\t139500\n",
      "chr1\t181170\t181880\n",
      "chr1\t182490\t182710\n",
      "chr1\t182880\t183240\n",
      "chr1\t183300\t184630\n",
      "\n",
      "\n",
      "Done!\n",
      "Run Time: 5 minutes and 28 seconds\n"
     ]
    }
   ],
   "source": [
    "cat ${FD_LOG}/annotation_enhancer_merge_starrmpra_inactive.1.txt"
   ]
  },
  {
   "cell_type": "code",
   "execution_count": null,
   "metadata": {},
   "outputs": [],
   "source": []
  },
  {
   "cell_type": "code",
   "execution_count": null,
   "metadata": {},
   "outputs": [],
   "source": []
  }
 ],
 "metadata": {
  "kernelspec": {
   "display_name": "Bash",
   "language": "bash",
   "name": "bash"
  },
  "language_info": {
   "codemirror_mode": "shell",
   "file_extension": ".sh",
   "mimetype": "text/x-sh",
   "name": "bash"
  }
 },
 "nbformat": 4,
 "nbformat_minor": 5
}
