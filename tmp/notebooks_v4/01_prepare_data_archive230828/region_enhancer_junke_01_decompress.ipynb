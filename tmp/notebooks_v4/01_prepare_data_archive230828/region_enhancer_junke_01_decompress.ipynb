{
 "cells": [
  {
   "cell_type": "markdown",
   "id": "4dff63a0-946a-4c63-8b84-b1a23a91522d",
   "metadata": {},
   "source": [
    "**Set environment**"
   ]
  },
  {
   "cell_type": "code",
   "execution_count": 1,
   "id": "6bb761aa-de1d-43e3-ab87-357e5052ab46",
   "metadata": {},
   "outputs": [
    {
     "name": "stdout",
     "output_type": "stream",
     "text": [
      "You are on Duke Server: HARDAC\n",
      "BASE DIRECTORY (FD_BASE): /data/reddylab/Kuei\n",
      "WORK DIRECTORY (FD_WORK): /data/reddylab/Kuei/out\n",
      "CODE DIRECTORY (FD_CODE): /data/reddylab/Kuei/code\n",
      "SING DIRECTORY (FD_SING): /data/reddylab/Kuei/singularity\n",
      "PATH OF PROJECT (FD_PRJ): /data/reddylab/Kuei/code/Proj_CombEffect_ENCODE_FCC\n",
      "PATH OF RESULTS (FD_RES): /data/reddylab/Kuei/out/proj_combeffect_encode_fcc\n",
      "PATH OF LOG     (FD_LOG): /data/reddylab/Kuei/out/proj_combeffect_encode_fcc/log\n",
      "\n"
     ]
    }
   ],
   "source": [
    "### set env\n",
    "source ../config/config_duke.sh\n",
    "show_env"
   ]
  },
  {
   "cell_type": "markdown",
   "id": "4e5b9030-8c34-45b3-a29d-472ca3adeeff",
   "metadata": {},
   "source": [
    "**Check data**"
   ]
  },
  {
   "cell_type": "code",
   "execution_count": 2,
   "id": "4a41651d-d2c6-4a08-ba2b-eedb1dbec86d",
   "metadata": {},
   "outputs": [
    {
     "name": "stdout",
     "output_type": "stream",
     "text": [
      "\u001b[0m\u001b[38;5;27mATAC_STARR_deep\u001b[0m  \u001b[38;5;27mWHG_STARR_seq_TR\u001b[0m\n"
     ]
    }
   ],
   "source": [
    "FDIRY=${FD_RES}/source/annotation_enhancer_junke\n",
    "ls ${FDIRY}"
   ]
  },
  {
   "cell_type": "code",
   "execution_count": 3,
   "id": "dda1b3b7-89b0-4dbc-a833-b2812a52670f",
   "metadata": {},
   "outputs": [
    {
     "name": "stdout",
     "output_type": "stream",
     "text": [
      "\u001b[0m\u001b[38;5;9m/data/reddylab/Kuei/out/proj_combeffect_encode_fcc/source/annotation_enhancer_junke/ATAC_STARR_deep/deep_ATAC_STARR_seq.full_overlap_100bp_bin_10bp_stepSize.tar.gz\u001b[0m\u001b[K\n",
      "\u001b[38;5;9m/data/reddylab/Kuei/out/proj_combeffect_encode_fcc/source/annotation_enhancer_junke/ATAC_STARR_deep/deep_ATAC_STARR_seq.full_overlap_30bp_bin_10bp_stepSize.tar.gz\u001b[0m\u001b[K\n",
      "\u001b[38;5;9m/data/reddylab/Kuei/out/proj_combeffect_encode_fcc/source/annotation_enhancer_junke/WHG_STARR_seq_TR/WHG_STARR_seq_TR.full_overlap_100_bp_bin_10_bp_stepSize.tar.gz\u001b[0m\u001b[K\n",
      "\u001b[38;5;9m/data/reddylab/Kuei/out/proj_combeffect_encode_fcc/source/annotation_enhancer_junke/WHG_STARR_seq_TR/WHG_STARR_seq_TR.full_overlap_30bp_bin_10bp_stepSize.tar.gz\u001b[0m\u001b[K\n"
     ]
    }
   ],
   "source": [
    "ls ${FDIRY}/*/*.tar.gz"
   ]
  },
  {
   "cell_type": "code",
   "execution_count": 4,
   "id": "f2784307-041b-4136-b3d4-d0973620a597",
   "metadata": {},
   "outputs": [
    {
     "name": "stdout",
     "output_type": "stream",
     "text": [
      "\u001b[0m\u001b[38;5;27mdeep_ATAC_STARR_seq.full_overlap_100bp_bin_10bp_stepSize\u001b[0m\n",
      "\u001b[38;5;9mdeep_ATAC_STARR_seq.full_overlap_100bp_bin_10bp_stepSize.tar.gz\u001b[0m\n",
      "\u001b[38;5;27mdeep_ATAC_STARR_seq.full_overlap_30bp_bin_10bp_stepSize\u001b[0m\n",
      "\u001b[38;5;9mdeep_ATAC_STARR_seq.full_overlap_30bp_bin_10bp_stepSize.tar.gz\u001b[0m\n",
      "\u001b[38;5;9mdeep_ATAC_STARR_seq.full_overlap_30bp_bin_10bp_stepSize.zip\u001b[0m\n"
     ]
    }
   ],
   "source": [
    "cd ${FD_RES}/source/annotation_enhancer_junke/ATAC_STARR_deep\n",
    "ls"
   ]
  },
  {
   "cell_type": "code",
   "execution_count": 5,
   "id": "8d3edb91-802c-4f83-8d25-4764d5ad64ad",
   "metadata": {},
   "outputs": [
    {
     "name": "stdout",
     "output_type": "stream",
     "text": [
      "deep_ATAC_STARR_seq.full_overlap_100bp_bin_10bp_stepSize/\n",
      "deep_ATAC_STARR_seq.full_overlap_100bp_bin_10bp_stepSize/processed/\n",
      "deep_ATAC_STARR_seq.full_overlap_100bp_bin_10bp_stepSize/processed/bin_level/\n",
      "deep_ATAC_STARR_seq.full_overlap_100bp_bin_10bp_stepSize/processed/bin_level/all_bin_tested_in_both_orientations.bed.gz\n",
      "deep_ATAC_STARR_seq.full_overlap_100bp_bin_10bp_stepSize/processed/bin_level/inactive_bins_with_raw_count.bed.gz\n",
      "deep_ATAC_STARR_seq.full_overlap_100bp_bin_10bp_stepSize/processed/bin_level/orientation_independent_significantly_up_regulated_bins.bed.gz\n",
      "deep_ATAC_STARR_seq.full_overlap_100bp_bin_10bp_stepSize/processed/bin_level/significantly_down_regulated_bins_with_raw_count.bed.gz\n",
      "deep_ATAC_STARR_seq.full_overlap_100bp_bin_10bp_stepSize/processed/bin_level/significantly_up_regulated_bins_with_raw_count.bed.gz\n",
      "deep_ATAC_STARR_seq.full_overlap_100bp_bin_10bp_stepSize/processed/merged_peak/\n",
      "deep_ATAC_STARR_seq.full_overlap_100bp_bin_10bp_stepSize/processed/merged_peak/merged_sig_down_in_each_orientation.bed.gz\n",
      "deep_ATAC_STARR_seq.full_overlap_100bp_bin_10bp_stepSize/processed/merged_peak/merged_sig_up_in_each_orientation.bed.gz\n",
      "deep_ATAC_STARR_seq.full_overlap_100bp_bin_10bp_stepSize/processed/merged_peak/orientation_independent_up_regulated_peaks_intersection.bed.gz\n",
      "deep_ATAC_STARR_seq.full_overlap_100bp_bin_10bp_stepSize/processed/merged_peak/orientation_independent_up_regulated_peaks_union.bed.gz\n",
      "deep_ATAC_STARR_seq.full_overlap_100bp_bin_10bp_stepSize/processed/merged_peak/size_constrained_merged_sig_down_in_each_orientation.bed.gz\n",
      "deep_ATAC_STARR_seq.full_overlap_100bp_bin_10bp_stepSize/processed/merged_peak/size_constrained_merged_sig_up_in_each_orientation.bed.gz\n",
      "deep_ATAC_STARR_seq.full_overlap_100bp_bin_10bp_stepSize/processed/merged_peak/size_constrained_orientation_independent_up_regulated_peaks_intersection.bed.gz\n",
      "deep_ATAC_STARR_seq.full_overlap_100bp_bin_10bp_stepSize/processed/merged_peak/size_constrained_orientation_independent_up_regulated_peaks_union.bed.gz\n",
      "deep_ATAC_STARR_seq.full_overlap_30bp_bin_10bp_stepSize/\n",
      "deep_ATAC_STARR_seq.full_overlap_30bp_bin_10bp_stepSize/processed/\n",
      "deep_ATAC_STARR_seq.full_overlap_30bp_bin_10bp_stepSize/processed/bin_level/\n",
      "deep_ATAC_STARR_seq.full_overlap_30bp_bin_10bp_stepSize/processed/bin_level/all_bin_tested_in_both_orientations.bed.gz\n",
      "deep_ATAC_STARR_seq.full_overlap_30bp_bin_10bp_stepSize/processed/bin_level/inactive_bins_with_raw_count.bed.gz\n",
      "deep_ATAC_STARR_seq.full_overlap_30bp_bin_10bp_stepSize/processed/bin_level/orientation_independent_significantly_up_regulated_bins.bed.gz\n",
      "deep_ATAC_STARR_seq.full_overlap_30bp_bin_10bp_stepSize/processed/bin_level/significantly_down_regulated_bins_with_raw_count.bed.gz\n",
      "deep_ATAC_STARR_seq.full_overlap_30bp_bin_10bp_stepSize/processed/bin_level/significantly_up_regulated_bins_with_raw_count.bed.gz\n",
      "deep_ATAC_STARR_seq.full_overlap_30bp_bin_10bp_stepSize/processed/merged_peak/\n",
      "deep_ATAC_STARR_seq.full_overlap_30bp_bin_10bp_stepSize/processed/merged_peak/merged_sig_down_in_each_orientation.bed.gz\n",
      "deep_ATAC_STARR_seq.full_overlap_30bp_bin_10bp_stepSize/processed/merged_peak/merged_sig_up_in_each_orientation.bed.gz\n",
      "deep_ATAC_STARR_seq.full_overlap_30bp_bin_10bp_stepSize/processed/merged_peak/orientation_independent_up_regulated_peaks_intersection.bed.gz\n",
      "deep_ATAC_STARR_seq.full_overlap_30bp_bin_10bp_stepSize/processed/merged_peak/orientation_independent_up_regulated_peaks_union.bed.gz\n",
      "deep_ATAC_STARR_seq.full_overlap_30bp_bin_10bp_stepSize/processed/merged_peak/size_constrained_merged_sig_down_in_each_orientation.bed.gz\n",
      "deep_ATAC_STARR_seq.full_overlap_30bp_bin_10bp_stepSize/processed/merged_peak/size_constrained_merged_sig_up_in_each_orientation.bed.gz\n",
      "deep_ATAC_STARR_seq.full_overlap_30bp_bin_10bp_stepSize/processed/merged_peak/size_constrained_orientation_independent_up_regulated_peaks_intersection.bed.gz\n",
      "deep_ATAC_STARR_seq.full_overlap_30bp_bin_10bp_stepSize/processed/merged_peak/size_constrained_orientation_independent_up_regulated_peaks_union.bed.gz\n"
     ]
    }
   ],
   "source": [
    "tar -xvzf deep_ATAC_STARR_seq.full_overlap_100bp_bin_10bp_stepSize.tar.gz\n",
    "tar -xvzf deep_ATAC_STARR_seq.full_overlap_30bp_bin_10bp_stepSize.tar.gz"
   ]
  },
  {
   "cell_type": "code",
   "execution_count": 6,
   "id": "b5b3ad7d-f6f9-4f34-bb2d-c7a816e2cf16",
   "metadata": {},
   "outputs": [
    {
     "name": "stdout",
     "output_type": "stream",
     "text": [
      "\u001b[0m\u001b[38;5;27mdeep_ATAC_STARR_seq.full_overlap_100bp_bin_10bp_stepSize\u001b[0m\n",
      "\u001b[38;5;9mdeep_ATAC_STARR_seq.full_overlap_100bp_bin_10bp_stepSize.tar.gz\u001b[0m\n",
      "\u001b[38;5;27mdeep_ATAC_STARR_seq.full_overlap_30bp_bin_10bp_stepSize\u001b[0m\n",
      "\u001b[38;5;9mdeep_ATAC_STARR_seq.full_overlap_30bp_bin_10bp_stepSize.tar.gz\u001b[0m\n",
      "\u001b[38;5;9mdeep_ATAC_STARR_seq.full_overlap_30bp_bin_10bp_stepSize.zip\u001b[0m\n"
     ]
    }
   ],
   "source": [
    "ls"
   ]
  },
  {
   "cell_type": "code",
   "execution_count": 7,
   "id": "d6664555-9a15-4555-8708-9b6446190a9c",
   "metadata": {},
   "outputs": [
    {
     "name": "stdout",
     "output_type": "stream",
     "text": [
      "\u001b[0m\u001b[38;5;9mWHG_STARR_seq_TR.full_overlap_100_bp_bin_10_bp_stepSize.tar.gz\u001b[0m\n",
      "\u001b[38;5;27mWHG_STARR_seq_TR.full_overlap_30bp_bin_10bp_stepSize\u001b[0m\n",
      "\u001b[38;5;9mWHG_STARR_seq_TR.full_overlap_30bp_bin_10bp_stepSize.tar.gz\u001b[0m\n",
      "\u001b[38;5;9mWHG_STARR_seq_TR.full_overlap_30bp_bin_10bp_stepSize.zip\u001b[0m\n"
     ]
    }
   ],
   "source": [
    "cd ${FD_RES}/source/annotation_enhancer_junke/WHG_STARR_seq_TR\n",
    "ls"
   ]
  },
  {
   "cell_type": "code",
   "execution_count": 8,
   "id": "a1a8b7de-0f3e-41ff-a04d-87159ae08f87",
   "metadata": {},
   "outputs": [
    {
     "name": "stdout",
     "output_type": "stream",
     "text": [
      "WHG_STARR_seq_TR.full_overlap_30bp_bin_10bp_stepSize/\n",
      "WHG_STARR_seq_TR.full_overlap_30bp_bin_10bp_stepSize/processed/\n",
      "WHG_STARR_seq_TR.full_overlap_30bp_bin_10bp_stepSize/processed/bin_level/\n",
      "WHG_STARR_seq_TR.full_overlap_30bp_bin_10bp_stepSize/processed/bin_level/all_bin_tested_in_both_orientations.bed.gz\n",
      "WHG_STARR_seq_TR.full_overlap_30bp_bin_10bp_stepSize/processed/bin_level/inactive_bins_with_raw_count.bed.gz\n",
      "WHG_STARR_seq_TR.full_overlap_30bp_bin_10bp_stepSize/processed/bin_level/orientation_independent_significantly_up_regulated_bins.bed.gz\n",
      "WHG_STARR_seq_TR.full_overlap_30bp_bin_10bp_stepSize/processed/bin_level/significantly_down_regulated_bins_with_raw_count.bed.gz\n",
      "WHG_STARR_seq_TR.full_overlap_30bp_bin_10bp_stepSize/processed/bin_level/significantly_up_regulated_bins_with_raw_count.bed.gz\n",
      "WHG_STARR_seq_TR.full_overlap_30bp_bin_10bp_stepSize/processed/merged_peak/\n",
      "WHG_STARR_seq_TR.full_overlap_30bp_bin_10bp_stepSize/processed/merged_peak/merged_sig_down_in_each_orientation.bed.gz\n",
      "WHG_STARR_seq_TR.full_overlap_30bp_bin_10bp_stepSize/processed/merged_peak/merged_sig_up_in_each_orientation.bed.gz\n",
      "WHG_STARR_seq_TR.full_overlap_30bp_bin_10bp_stepSize/processed/merged_peak/orientation_independent_up_regulated_peaks_intersection.bed.gz\n",
      "WHG_STARR_seq_TR.full_overlap_30bp_bin_10bp_stepSize/processed/merged_peak/orientation_independent_up_regulated_peaks_union.bed.gz\n",
      "WHG_STARR_seq_TR.full_overlap_30bp_bin_10bp_stepSize/processed/merged_peak/size_constrained_merged_sig_down_in_each_orientation.bed.gz\n",
      "WHG_STARR_seq_TR.full_overlap_30bp_bin_10bp_stepSize/processed/merged_peak/size_constrained_merged_sig_up_in_each_orientation.bed.gz\n",
      "WHG_STARR_seq_TR.full_overlap_30bp_bin_10bp_stepSize/processed/merged_peak/size_constrained_orientation_independent_up_regulated_peaks_intersection.bed.gz\n",
      "WHG_STARR_seq_TR.full_overlap_30bp_bin_10bp_stepSize/processed/merged_peak/size_constrained_orientation_independent_up_regulated_peaks_union.bed.gz\n",
      "WHG_STARR_seq_TR.full_overlap_30bp_bin_10bp_stepSize/__MACOSX/\n",
      "WHG_STARR_seq_TR.full_overlap_30bp_bin_10bp_stepSize/__MACOSX/._processed\n",
      "WHG_STARR_seq_TR.full_overlap_100_bp_bin_10_bp_stepSize/\n",
      "WHG_STARR_seq_TR.full_overlap_100_bp_bin_10_bp_stepSize/processed/\n",
      "WHG_STARR_seq_TR.full_overlap_100_bp_bin_10_bp_stepSize/processed/bin_level/\n",
      "WHG_STARR_seq_TR.full_overlap_100_bp_bin_10_bp_stepSize/processed/bin_level/all_bin_tested_in_both_orientations.bed.gz\n",
      "WHG_STARR_seq_TR.full_overlap_100_bp_bin_10_bp_stepSize/processed/bin_level/inactive_bins_with_raw_count.bed.gz\n",
      "WHG_STARR_seq_TR.full_overlap_100_bp_bin_10_bp_stepSize/processed/bin_level/orientation_independent_significantly_up_regulated_bins.bed.gz\n",
      "WHG_STARR_seq_TR.full_overlap_100_bp_bin_10_bp_stepSize/processed/bin_level/significantly_down_regulated_bins_with_raw_count.bed.gz\n",
      "WHG_STARR_seq_TR.full_overlap_100_bp_bin_10_bp_stepSize/processed/bin_level/significantly_up_regulated_bins_with_raw_count.bed.gz\n",
      "WHG_STARR_seq_TR.full_overlap_100_bp_bin_10_bp_stepSize/processed/merged_peak/\n",
      "WHG_STARR_seq_TR.full_overlap_100_bp_bin_10_bp_stepSize/processed/merged_peak/merged_sig_down_in_each_orientation.bed.gz\n",
      "WHG_STARR_seq_TR.full_overlap_100_bp_bin_10_bp_stepSize/processed/merged_peak/merged_sig_up_in_each_orientation.bed.gz\n",
      "WHG_STARR_seq_TR.full_overlap_100_bp_bin_10_bp_stepSize/processed/merged_peak/orientation_independent_up_regulated_peaks_intersection.bed.gz\n",
      "WHG_STARR_seq_TR.full_overlap_100_bp_bin_10_bp_stepSize/processed/merged_peak/orientation_independent_up_regulated_peaks_union.bed.gz\n",
      "WHG_STARR_seq_TR.full_overlap_100_bp_bin_10_bp_stepSize/processed/merged_peak/size_constrained_merged_sig_down_in_each_orientation.bed.gz\n",
      "WHG_STARR_seq_TR.full_overlap_100_bp_bin_10_bp_stepSize/processed/merged_peak/size_constrained_merged_sig_up_in_each_orientation.bed.gz\n",
      "WHG_STARR_seq_TR.full_overlap_100_bp_bin_10_bp_stepSize/processed/merged_peak/size_constrained_orientation_independent_up_regulated_peaks_intersection.bed.gz\n",
      "WHG_STARR_seq_TR.full_overlap_100_bp_bin_10_bp_stepSize/processed/merged_peak/size_constrained_orientation_independent_up_regulated_peaks_union.bed.gz\n",
      "WHG_STARR_seq_TR.full_overlap_100_bp_bin_10_bp_stepSize/__MACOSX/\n",
      "WHG_STARR_seq_TR.full_overlap_100_bp_bin_10_bp_stepSize/__MACOSX/._processed\n"
     ]
    }
   ],
   "source": [
    "tar -xvzf WHG_STARR_seq_TR.full_overlap_30bp_bin_10bp_stepSize.tar.gz\n",
    "tar -xvzf WHG_STARR_seq_TR.full_overlap_100_bp_bin_10_bp_stepSize.tar.gz"
   ]
  },
  {
   "cell_type": "code",
   "execution_count": 9,
   "id": "84279b82-2f17-428d-a5ee-da8e0486592d",
   "metadata": {},
   "outputs": [
    {
     "name": "stdout",
     "output_type": "stream",
     "text": [
      "\u001b[0m\u001b[38;5;27mWHG_STARR_seq_TR.full_overlap_100_bp_bin_10_bp_stepSize\u001b[0m\n",
      "\u001b[38;5;9mWHG_STARR_seq_TR.full_overlap_100_bp_bin_10_bp_stepSize.tar.gz\u001b[0m\n",
      "\u001b[38;5;27mWHG_STARR_seq_TR.full_overlap_30bp_bin_10bp_stepSize\u001b[0m\n",
      "\u001b[38;5;9mWHG_STARR_seq_TR.full_overlap_30bp_bin_10bp_stepSize.tar.gz\u001b[0m\n",
      "\u001b[38;5;9mWHG_STARR_seq_TR.full_overlap_30bp_bin_10bp_stepSize.zip\u001b[0m\n"
     ]
    }
   ],
   "source": [
    "ls"
   ]
  },
  {
   "cell_type": "code",
   "execution_count": null,
   "id": "95b391eb-3d1d-4c2e-8c4b-9081b470b284",
   "metadata": {},
   "outputs": [],
   "source": []
  }
 ],
 "metadata": {
  "kernelspec": {
   "display_name": "Bash",
   "language": "bash",
   "name": "bash"
  },
  "language_info": {
   "codemirror_mode": "shell",
   "file_extension": ".sh",
   "mimetype": "text/x-sh",
   "name": "bash"
  }
 },
 "nbformat": 4,
 "nbformat_minor": 5
}
