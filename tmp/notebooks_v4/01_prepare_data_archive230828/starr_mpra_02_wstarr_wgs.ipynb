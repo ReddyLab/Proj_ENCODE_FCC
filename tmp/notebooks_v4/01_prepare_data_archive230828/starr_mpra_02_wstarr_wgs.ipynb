{
 "cells": [
  {
   "cell_type": "markdown",
   "id": "4c571369",
   "metadata": {},
   "source": [
    "**Set environment**"
   ]
  },
  {
   "cell_type": "code",
   "execution_count": 1,
   "id": "83549dc1",
   "metadata": {},
   "outputs": [
    {
     "name": "stdout",
     "output_type": "stream",
     "text": [
      "You are on Duke Server: HARDAC\n",
      "BASE DIRECTORY (FD_BASE): /data/reddylab/Kuei\n",
      "WORK DIRECTORY (FD_WORK): /data/reddylab/Kuei/out\n",
      "CODE DIRECTORY (FD_CODE): /data/reddylab/Kuei/code\n",
      "SING DIRECTORY (FD_SING): /data/reddylab/Kuei/singularity\n",
      "PATH OF PROJECT (FD_PRJ): /data/reddylab/Kuei/code/Proj_CombEffect_ENCODE_FCC\n",
      "PATH OF RESULTS (FD_RES): /data/reddylab/Kuei/out/proj_combeffect_encode_fcc\n",
      "PATH OF LOG     (FD_LOG): /data/reddylab/Kuei/out/proj_combeffect_encode_fcc/log\n",
      "\n"
     ]
    }
   ],
   "source": [
    "source ../config/config_duke.sh\n",
    "show_env"
   ]
  },
  {
   "cell_type": "code",
   "execution_count": 2,
   "id": "912dd6f2-7be4-4415-8f34-5334e1afac0a",
   "metadata": {},
   "outputs": [
    {
     "name": "stdout",
     "output_type": "stream",
     "text": [
      "\u001b[0m\u001b[38;5;27mfragments\u001b[0m\n",
      "\u001b[38;5;27mmetadata\u001b[0m\n",
      "\u001b[38;5;27mmotifs\u001b[0m\n",
      "\u001b[38;5;27mpeaks\u001b[0m\n",
      "\u001b[38;5;27mprocessed_raw_reads\u001b[0m\n",
      "\u001b[38;5;27mqc\u001b[0m\n",
      "\u001b[38;5;27mraw_reads\u001b[0m\n"
     ]
    }
   ],
   "source": [
    "ls -1 /data/reddylab/Alex/encode4_duke/data/starr_seq"
   ]
  },
  {
   "cell_type": "code",
   "execution_count": 1,
   "id": "4ad5bdd3-ec9f-4650-ae91-e2cf69a92400",
   "metadata": {},
   "outputs": [
    {
     "name": "stdout",
     "output_type": "stream",
     "text": [
      "\u001b[0m\u001b[38;5;9mA001-input-K562-rep1.masked.dedup.fragments.counts.txt.gz\u001b[0m\n",
      "\u001b[38;5;9mA001-input-K562-rep2.masked.dedup.fragments.counts.txt.gz\u001b[0m\n",
      "\u001b[38;5;9mA001-input-K562-rep3.masked.dedup.fragments.counts.txt.gz\u001b[0m\n",
      "\u001b[38;5;9mA001-input-K562-rep4.masked.dedup.fragments.counts.txt.gz\u001b[0m\n",
      "\u001b[38;5;9mA001-K562-rep1.masked.dedup.fragments.bedpe.gz\u001b[0m\n",
      "\u001b[38;5;9mA001-K562-rep1.masked.dedup.fragments.counts.txt.gz\u001b[0m\n",
      "\u001b[38;5;9mA001-K562-rep2.masked.dedup.fragments.bedpe.gz\u001b[0m\n",
      "\u001b[38;5;9mA001-K562-rep2.masked.dedup.fragments.counts.txt.gz\u001b[0m\n",
      "\u001b[38;5;9mA001-K562-rep3.masked.dedup.fragments.bedpe.gz\u001b[0m\n",
      "\u001b[38;5;9mA001-K562-rep3.masked.dedup.fragments.counts.txt.gz\u001b[0m\n"
     ]
    }
   ],
   "source": [
    "ls /data/reddylab/Alex/encode4_duke/data/starr_seq/fragments"
   ]
  },
  {
   "cell_type": "code",
   "execution_count": null,
   "id": "03a1b88c-6d8a-4ead-924d-8dc82a123f3c",
   "metadata": {},
   "outputs": [],
   "source": []
  },
  {
   "cell_type": "code",
   "execution_count": null,
   "id": "135c8648-bfa0-43ea-b71e-03abcfe24f09",
   "metadata": {},
   "outputs": [],
   "source": []
  },
  {
   "cell_type": "markdown",
   "id": "ec4491f1",
   "metadata": {},
   "source": [
    "## WSTARR WGS files\n",
    "```\n",
    "FD_WGS_WSTARR=/data/reddylab/Alex/encode4_duke/data/starr_seq/fragments\n",
    "FP_WGS_WSTARR=($(ls ${FD_WGS_WSTARR}/*.fragments.counts.txt.gz))\n",
    "```"
   ]
  },
  {
   "cell_type": "code",
   "execution_count": 4,
   "id": "c077f715-9c98-49b9-8a5c-9a20e4a0f6c1",
   "metadata": {},
   "outputs": [
    {
     "name": "stdout",
     "output_type": "stream",
     "text": [
      "\u001b[0m\u001b[38;5;27mfragments\u001b[0m  \u001b[38;5;27mmetadata\u001b[0m  \u001b[38;5;27mmotifs\u001b[0m  \u001b[38;5;27mpeaks\u001b[0m  \u001b[38;5;27mprocessed_raw_reads\u001b[0m  \u001b[38;5;27mqc\u001b[0m  \u001b[38;5;27mraw_reads\u001b[0m\n"
     ]
    }
   ],
   "source": [
    "ls /data/reddylab/Alex/encode4_duke/data/starr_seq"
   ]
  },
  {
   "cell_type": "code",
   "execution_count": 14,
   "id": "b260f3f1-1abb-4497-b5b9-d5ffb665050d",
   "metadata": {},
   "outputs": [
    {
     "name": "stdout",
     "output_type": "stream",
     "text": [
      "\u001b[0m\u001b[38;5;27m210401_KS91_K562ASTARR_NovaSeq\u001b[0m  \u001b[38;5;27m210401_KS91_K562ASTARR_NovaSeq.hg38\u001b[0m\n"
     ]
    }
   ],
   "source": [
    "ls /data/reddylab/Alex/encode4_duke/data/starr_seq/processed_raw_reads"
   ]
  },
  {
   "cell_type": "code",
   "execution_count": 16,
   "id": "f5a819dc-0150-4c4a-ace8-374d6b4b7b94",
   "metadata": {},
   "outputs": [
    {
     "name": "stdout",
     "output_type": "stream",
     "text": [
      "\u001b[0m\u001b[38;5;27mfragments\u001b[0m  \u001b[38;5;27mmetadata\u001b[0m  \u001b[38;5;27mmotifs\u001b[0m  \u001b[38;5;27mpeaks\u001b[0m  \u001b[38;5;27mprocessed_raw_reads\u001b[0m  \u001b[38;5;27mqc\u001b[0m  \u001b[38;5;27mraw_reads\u001b[0m\n"
     ]
    }
   ],
   "source": [
    "ls /data/reddylab/Alex/encode4_duke/data/starr_seq/"
   ]
  },
  {
   "cell_type": "code",
   "execution_count": 2,
   "id": "09727f9d",
   "metadata": {},
   "outputs": [
    {
     "name": "stdout",
     "output_type": "stream",
     "text": [
      "/data/reddylab/Alex/encode4_duke/data/starr_seq/fragments\n"
     ]
    }
   ],
   "source": [
    "echo ${FD_WGS_WSTARR}"
   ]
  },
  {
   "cell_type": "code",
   "execution_count": 3,
   "id": "7fd40ce8",
   "metadata": {},
   "outputs": [
    {
     "name": "stdout",
     "output_type": "stream",
     "text": [
      "\u001b[0m\u001b[38;5;9mA001-input-K562-rep1.masked.dedup.fragments.counts.txt.gz\u001b[0m\n",
      "\u001b[38;5;9mA001-input-K562-rep2.masked.dedup.fragments.counts.txt.gz\u001b[0m\n",
      "\u001b[38;5;9mA001-input-K562-rep3.masked.dedup.fragments.counts.txt.gz\u001b[0m\n",
      "\u001b[38;5;9mA001-input-K562-rep4.masked.dedup.fragments.counts.txt.gz\u001b[0m\n",
      "\u001b[38;5;9mA001-K562-rep1.masked.dedup.fragments.bedpe.gz\u001b[0m\n",
      "\u001b[38;5;9mA001-K562-rep1.masked.dedup.fragments.counts.txt.gz\u001b[0m\n",
      "\u001b[38;5;9mA001-K562-rep2.masked.dedup.fragments.bedpe.gz\u001b[0m\n",
      "\u001b[38;5;9mA001-K562-rep2.masked.dedup.fragments.counts.txt.gz\u001b[0m\n",
      "\u001b[38;5;9mA001-K562-rep3.masked.dedup.fragments.bedpe.gz\u001b[0m\n",
      "\u001b[38;5;9mA001-K562-rep3.masked.dedup.fragments.counts.txt.gz\u001b[0m\n"
     ]
    }
   ],
   "source": [
    "ls ${FD_WGS_WSTARR}"
   ]
  },
  {
   "cell_type": "code",
   "execution_count": 4,
   "id": "18acb3f7",
   "metadata": {},
   "outputs": [
    {
     "name": "stdout",
     "output_type": "stream",
     "text": [
      "A001-input-K562-rep1.masked.dedup.fragments.counts.txt.gz\n",
      "\n",
      "A001-input-K562-rep2.masked.dedup.fragments.counts.txt.gz\n",
      "\n",
      "A001-input-K562-rep3.masked.dedup.fragments.counts.txt.gz\n",
      "\n",
      "A001-input-K562-rep4.masked.dedup.fragments.counts.txt.gz\n",
      "\n",
      "A001-K562-rep1.masked.dedup.fragments.counts.txt.gz\n",
      "\n",
      "A001-K562-rep2.masked.dedup.fragments.counts.txt.gz\n",
      "\n",
      "A001-K562-rep3.masked.dedup.fragments.counts.txt.gz\n",
      "\n"
     ]
    }
   ],
   "source": [
    "for FPATH in ${FP_WGS_WSTARR[@]}; do\n",
    "    FNAME=$(basename ${FPATH})\n",
    "    echo ${FNAME}\n",
    "    echo\n",
    "done"
   ]
  },
  {
   "cell_type": "markdown",
   "id": "fd28dda1",
   "metadata": {},
   "source": [
    "## Explore the files"
   ]
  },
  {
   "cell_type": "code",
   "execution_count": 5,
   "id": "08b98772",
   "metadata": {},
   "outputs": [
    {
     "name": "stdout",
     "output_type": "stream",
     "text": [
      "/data/reddylab/Alex/encode4_duke/data/starr_seq/fragments/A001-input-K562-rep1.masked.dedup.fragments.counts.txt.gz\n",
      "\n",
      "chr1\t10335\t10549\tchr1_10335_10549\t1\t.\n",
      "chr1\t16983\t17500\tchr1_16983_17500\t1\t.\n",
      "chr1\t16985\t17499\tchr1_16985_17499\t1\t.\n",
      "chr1\t17004\t17500\tchr1_17004_17500\t1\t.\n",
      "chr1\t17483\t17898\tchr1_17483_17898\t1\t.\n",
      "chr1\t17487\t17941\tchr1_17487_17941\t1\t.\n",
      "chr1\t33606\t33997\tchr1_33606_33997\t1\t.\n",
      "chr1\t33617\t33997\tchr1_33617_33997\t1\t.\n",
      "chr1\t38785\t39226\tchr1_38785_39226\t1\t.\n",
      "chr1\t46328\t46678\tchr1_46328_46678\t1\t.\n"
     ]
    }
   ],
   "source": [
    "FPATH=${FP_WGS_WSTARR[0]}\n",
    "echo ${FPATH}\n",
    "echo\n",
    "zcat ${FPATH} | head"
   ]
  },
  {
   "cell_type": "markdown",
   "id": "a9a2f7fb",
   "metadata": {},
   "source": [
    "## Get the files to the source folder"
   ]
  },
  {
   "cell_type": "code",
   "execution_count": 6,
   "id": "92a60efd",
   "metadata": {},
   "outputs": [
    {
     "name": "stdout",
     "output_type": "stream",
     "text": [
      "\u001b[0m\u001b[38;5;27mA001_K562_wstarrseq_fragments\u001b[0m\n",
      "\u001b[38;5;27mA001_K562_wstarrseq_fragments_wgs\u001b[0m\n",
      "\u001b[38;5;27mannotation_cCREs\u001b[0m\n",
      "\u001b[38;5;27mannotation_chromHMM\u001b[0m\n",
      "\u001b[38;5;27mannotation_enhancer_junke\u001b[0m\n",
      "\u001b[38;5;27mannotation_remap2022\u001b[0m\n",
      "chrom.sizes.hg19\n",
      "chrom.sizes.hg38\n",
      "\u001b[38;5;27mCRISPRi_FlowFISH\u001b[0m\n",
      "\u001b[38;5;27mKS91_K562_astarrseq_fragments_220510\u001b[0m\n",
      "\u001b[38;5;27mKS91_K562_astarrseq_fragments_wgs\u001b[0m\n",
      "\u001b[38;5;27mKS91_K562_astarrseq_peak_macs\u001b[0m\n",
      "\u001b[38;5;27mMPRA\u001b[0m\n",
      "\u001b[38;5;27mnegative_control_junke\u001b[0m\n",
      "Readme.md\n",
      "\u001b[38;5;27mtmp\u001b[0m\n"
     ]
    }
   ],
   "source": [
    "ls -1 ${FD_RES}/source"
   ]
  },
  {
   "cell_type": "code",
   "execution_count": 7,
   "id": "6b35b312",
   "metadata": {},
   "outputs": [
    {
     "name": "stdout",
     "output_type": "stream",
     "text": [
      "/data/reddylab/Alex/encode4_duke/data/starr_seq/fragments/A001-input-K562-rep1.masked.dedup.fragments.counts.txt.gz\n",
      "A001-input-K562-rep1.masked.dedup.fragments.counts.txt.gz\n",
      "\n",
      "/data/reddylab/Alex/encode4_duke/data/starr_seq/fragments/A001-input-K562-rep2.masked.dedup.fragments.counts.txt.gz\n",
      "A001-input-K562-rep2.masked.dedup.fragments.counts.txt.gz\n",
      "\n",
      "/data/reddylab/Alex/encode4_duke/data/starr_seq/fragments/A001-input-K562-rep3.masked.dedup.fragments.counts.txt.gz\n",
      "A001-input-K562-rep3.masked.dedup.fragments.counts.txt.gz\n",
      "\n",
      "/data/reddylab/Alex/encode4_duke/data/starr_seq/fragments/A001-input-K562-rep4.masked.dedup.fragments.counts.txt.gz\n",
      "A001-input-K562-rep4.masked.dedup.fragments.counts.txt.gz\n",
      "\n",
      "/data/reddylab/Alex/encode4_duke/data/starr_seq/fragments/A001-K562-rep1.masked.dedup.fragments.counts.txt.gz\n",
      "A001-K562-rep1.masked.dedup.fragments.counts.txt.gz\n",
      "\n",
      "/data/reddylab/Alex/encode4_duke/data/starr_seq/fragments/A001-K562-rep2.masked.dedup.fragments.counts.txt.gz\n",
      "A001-K562-rep2.masked.dedup.fragments.counts.txt.gz\n",
      "\n",
      "/data/reddylab/Alex/encode4_duke/data/starr_seq/fragments/A001-K562-rep3.masked.dedup.fragments.counts.txt.gz\n",
      "A001-K562-rep3.masked.dedup.fragments.counts.txt.gz\n",
      "\n"
     ]
    }
   ],
   "source": [
    "FD_OUT=${FD_RES}/source/A001_K562_wstarrseq_fragments_wgs\n",
    "\n",
    "for FPATH in ${FP_WGS_WSTARR[@]}; do\n",
    "    FNAME=$(basename ${FPATH})\n",
    "    cp ${FPATH} ${FD_OUT}/${FNAME}\n",
    "    echo ${FPATH}\n",
    "    echo ${FNAME}\n",
    "    echo\n",
    "done"
   ]
  },
  {
   "cell_type": "markdown",
   "id": "ae592b88",
   "metadata": {},
   "source": [
    "**Check results**"
   ]
  },
  {
   "cell_type": "code",
   "execution_count": 10,
   "id": "f0f0f50a",
   "metadata": {},
   "outputs": [
    {
     "name": "stdout",
     "output_type": "stream",
     "text": [
      "A001-input-K562-rep1.masked.dedup.fragments.counts.txt.gz\n",
      "A001-input-K562-rep2.masked.dedup.fragments.counts.txt.gz\n",
      "A001-input-K562-rep3.masked.dedup.fragments.counts.txt.gz\n",
      "A001-input-K562-rep4.masked.dedup.fragments.counts.txt.gz\n",
      "A001-K562-rep1.masked.dedup.fragments.counts.txt.gz\n",
      "A001-K562-rep2.masked.dedup.fragments.counts.txt.gz\n",
      "A001-K562-rep3.masked.dedup.fragments.counts.txt.gz\n"
     ]
    }
   ],
   "source": [
    "ls ${FD_RES}/source/A001_K562_wstarrseq_fragments_wgs/*count* | xargs -n 1 basename"
   ]
  },
  {
   "cell_type": "code",
   "execution_count": null,
   "id": "57e1ec5b",
   "metadata": {},
   "outputs": [],
   "source": []
  }
 ],
 "metadata": {
  "kernelspec": {
   "display_name": "Bash",
   "language": "bash",
   "name": "bash"
  },
  "language_info": {
   "codemirror_mode": "shell",
   "file_extension": ".sh",
   "mimetype": "text/x-sh",
   "name": "bash"
  }
 },
 "nbformat": 4,
 "nbformat_minor": 5
}
