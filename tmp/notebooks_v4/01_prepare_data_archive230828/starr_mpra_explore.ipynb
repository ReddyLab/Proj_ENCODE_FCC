{
 "cells": [
  {
   "cell_type": "code",
   "execution_count": 1,
   "metadata": {},
   "outputs": [
    {
     "name": "stdout",
     "output_type": "stream",
     "text": [
      "You are in Singularity: singularity_proj_encode_fcc \n",
      "BASE DIRECTORY (FD_BASE): /data/reddylab/Kuei \n",
      "WORK DIRECTORY (FD_WORK): /data/reddylab/Kuei/out \n",
      "CODE DIRECTORY (FD_CODE): /data/reddylab/Kuei/code \n",
      "PATH OF PROJECT (FD_PRJ): /data/reddylab/Kuei/code/Proj_CombEffect_ENCODE_FCC \n",
      "PATH OF RESULTS (FD_RES): /data/reddylab/Kuei/out/proj_combeffect_encode_fcc \n",
      "PATH OF LOG     (FD_LOG): /data/reddylab/Kuei/out/proj_combeffect_encode_fcc/log \n"
     ]
    }
   ],
   "source": [
    "suppressMessages(suppressWarnings(source(\"../config/config_sing.R\")))\n",
    "show_env()"
   ]
  },
  {
   "cell_type": "code",
   "execution_count": 5,
   "metadata": {},
   "outputs": [],
   "source": [
    "FD_WGS_WSTARR=\"/data/reddylab/Alex/encode4_duke/data/starr_seq/fragments\"\n",
    "FP_WGS_WSTARR=Sys.glob(file.path(FD_WGS_WSTARR, \"*.fragments.counts.txt.gz\"))"
   ]
  },
  {
   "cell_type": "code",
   "execution_count": 6,
   "metadata": {},
   "outputs": [
    {
     "data": {
      "text/html": [
       "<style>\n",
       ".list-inline {list-style: none; margin:0; padding: 0}\n",
       ".list-inline>li {display: inline-block}\n",
       ".list-inline>li:not(:last-child)::after {content: \"\\00b7\"; padding: 0 .5ex}\n",
       "</style>\n",
       "<ol class=list-inline><li>'/data/reddylab/Alex/encode4_duke/data/starr_seq/fragments/A001-input-K562-rep1.masked.dedup.fragments.counts.txt.gz'</li><li>'/data/reddylab/Alex/encode4_duke/data/starr_seq/fragments/A001-input-K562-rep2.masked.dedup.fragments.counts.txt.gz'</li><li>'/data/reddylab/Alex/encode4_duke/data/starr_seq/fragments/A001-input-K562-rep3.masked.dedup.fragments.counts.txt.gz'</li><li>'/data/reddylab/Alex/encode4_duke/data/starr_seq/fragments/A001-input-K562-rep4.masked.dedup.fragments.counts.txt.gz'</li><li>'/data/reddylab/Alex/encode4_duke/data/starr_seq/fragments/A001-K562-rep1.masked.dedup.fragments.counts.txt.gz'</li><li>'/data/reddylab/Alex/encode4_duke/data/starr_seq/fragments/A001-K562-rep2.masked.dedup.fragments.counts.txt.gz'</li><li>'/data/reddylab/Alex/encode4_duke/data/starr_seq/fragments/A001-K562-rep3.masked.dedup.fragments.counts.txt.gz'</li></ol>\n"
      ],
      "text/latex": [
       "\\begin{enumerate*}\n",
       "\\item '/data/reddylab/Alex/encode4\\_duke/data/starr\\_seq/fragments/A001-input-K562-rep1.masked.dedup.fragments.counts.txt.gz'\n",
       "\\item '/data/reddylab/Alex/encode4\\_duke/data/starr\\_seq/fragments/A001-input-K562-rep2.masked.dedup.fragments.counts.txt.gz'\n",
       "\\item '/data/reddylab/Alex/encode4\\_duke/data/starr\\_seq/fragments/A001-input-K562-rep3.masked.dedup.fragments.counts.txt.gz'\n",
       "\\item '/data/reddylab/Alex/encode4\\_duke/data/starr\\_seq/fragments/A001-input-K562-rep4.masked.dedup.fragments.counts.txt.gz'\n",
       "\\item '/data/reddylab/Alex/encode4\\_duke/data/starr\\_seq/fragments/A001-K562-rep1.masked.dedup.fragments.counts.txt.gz'\n",
       "\\item '/data/reddylab/Alex/encode4\\_duke/data/starr\\_seq/fragments/A001-K562-rep2.masked.dedup.fragments.counts.txt.gz'\n",
       "\\item '/data/reddylab/Alex/encode4\\_duke/data/starr\\_seq/fragments/A001-K562-rep3.masked.dedup.fragments.counts.txt.gz'\n",
       "\\end{enumerate*}\n"
      ],
      "text/markdown": [
       "1. '/data/reddylab/Alex/encode4_duke/data/starr_seq/fragments/A001-input-K562-rep1.masked.dedup.fragments.counts.txt.gz'\n",
       "2. '/data/reddylab/Alex/encode4_duke/data/starr_seq/fragments/A001-input-K562-rep2.masked.dedup.fragments.counts.txt.gz'\n",
       "3. '/data/reddylab/Alex/encode4_duke/data/starr_seq/fragments/A001-input-K562-rep3.masked.dedup.fragments.counts.txt.gz'\n",
       "4. '/data/reddylab/Alex/encode4_duke/data/starr_seq/fragments/A001-input-K562-rep4.masked.dedup.fragments.counts.txt.gz'\n",
       "5. '/data/reddylab/Alex/encode4_duke/data/starr_seq/fragments/A001-K562-rep1.masked.dedup.fragments.counts.txt.gz'\n",
       "6. '/data/reddylab/Alex/encode4_duke/data/starr_seq/fragments/A001-K562-rep2.masked.dedup.fragments.counts.txt.gz'\n",
       "7. '/data/reddylab/Alex/encode4_duke/data/starr_seq/fragments/A001-K562-rep3.masked.dedup.fragments.counts.txt.gz'\n",
       "\n",
       "\n"
      ],
      "text/plain": [
       "[1] \"/data/reddylab/Alex/encode4_duke/data/starr_seq/fragments/A001-input-K562-rep1.masked.dedup.fragments.counts.txt.gz\"\n",
       "[2] \"/data/reddylab/Alex/encode4_duke/data/starr_seq/fragments/A001-input-K562-rep2.masked.dedup.fragments.counts.txt.gz\"\n",
       "[3] \"/data/reddylab/Alex/encode4_duke/data/starr_seq/fragments/A001-input-K562-rep3.masked.dedup.fragments.counts.txt.gz\"\n",
       "[4] \"/data/reddylab/Alex/encode4_duke/data/starr_seq/fragments/A001-input-K562-rep4.masked.dedup.fragments.counts.txt.gz\"\n",
       "[5] \"/data/reddylab/Alex/encode4_duke/data/starr_seq/fragments/A001-K562-rep1.masked.dedup.fragments.counts.txt.gz\"      \n",
       "[6] \"/data/reddylab/Alex/encode4_duke/data/starr_seq/fragments/A001-K562-rep2.masked.dedup.fragments.counts.txt.gz\"      \n",
       "[7] \"/data/reddylab/Alex/encode4_duke/data/starr_seq/fragments/A001-K562-rep3.masked.dedup.fragments.counts.txt.gz\"      "
      ]
     },
     "metadata": {},
     "output_type": "display_data"
    }
   ],
   "source": [
    "FP_WGS_WSTARR"
   ]
  },
  {
   "cell_type": "code",
   "execution_count": 11,
   "metadata": {},
   "outputs": [],
   "source": [
    "fpaths = FP_WGS_WSTARR\n",
    "fpath = fpaths[1]"
   ]
  },
  {
   "cell_type": "code",
   "execution_count": 13,
   "metadata": {},
   "outputs": [
    {
     "data": {
      "text/html": [
       "<style>\n",
       ".list-inline {list-style: none; margin:0; padding: 0}\n",
       ".list-inline>li {display: inline-block}\n",
       ".list-inline>li:not(:last-child)::after {content: \"\\00b7\"; padding: 0 .5ex}\n",
       "</style>\n",
       "<ol class=list-inline><li>'chr1\\t10335\\t10549\\tchr1_10335_10549\\t1\\t.'</li><li>'chr1\\t16983\\t17500\\tchr1_16983_17500\\t1\\t.'</li><li>'chr1\\t16985\\t17499\\tchr1_16985_17499\\t1\\t.'</li><li>'chr1\\t17004\\t17500\\tchr1_17004_17500\\t1\\t.'</li><li>'chr1\\t17483\\t17898\\tchr1_17483_17898\\t1\\t.'</li><li>'chr1\\t17487\\t17941\\tchr1_17487_17941\\t1\\t.'</li><li>'chr1\\t33606\\t33997\\tchr1_33606_33997\\t1\\t.'</li><li>'chr1\\t33617\\t33997\\tchr1_33617_33997\\t1\\t.'</li><li>'chr1\\t38785\\t39226\\tchr1_38785_39226\\t1\\t.'</li><li>'chr1\\t46328\\t46678\\tchr1_46328_46678\\t1\\t.'</li></ol>\n"
      ],
      "text/latex": [
       "\\begin{enumerate*}\n",
       "\\item 'chr1\\textbackslash{}t10335\\textbackslash{}t10549\\textbackslash{}tchr1\\_10335\\_10549\\textbackslash{}t1\\textbackslash{}t.'\n",
       "\\item 'chr1\\textbackslash{}t16983\\textbackslash{}t17500\\textbackslash{}tchr1\\_16983\\_17500\\textbackslash{}t1\\textbackslash{}t.'\n",
       "\\item 'chr1\\textbackslash{}t16985\\textbackslash{}t17499\\textbackslash{}tchr1\\_16985\\_17499\\textbackslash{}t1\\textbackslash{}t.'\n",
       "\\item 'chr1\\textbackslash{}t17004\\textbackslash{}t17500\\textbackslash{}tchr1\\_17004\\_17500\\textbackslash{}t1\\textbackslash{}t.'\n",
       "\\item 'chr1\\textbackslash{}t17483\\textbackslash{}t17898\\textbackslash{}tchr1\\_17483\\_17898\\textbackslash{}t1\\textbackslash{}t.'\n",
       "\\item 'chr1\\textbackslash{}t17487\\textbackslash{}t17941\\textbackslash{}tchr1\\_17487\\_17941\\textbackslash{}t1\\textbackslash{}t.'\n",
       "\\item 'chr1\\textbackslash{}t33606\\textbackslash{}t33997\\textbackslash{}tchr1\\_33606\\_33997\\textbackslash{}t1\\textbackslash{}t.'\n",
       "\\item 'chr1\\textbackslash{}t33617\\textbackslash{}t33997\\textbackslash{}tchr1\\_33617\\_33997\\textbackslash{}t1\\textbackslash{}t.'\n",
       "\\item 'chr1\\textbackslash{}t38785\\textbackslash{}t39226\\textbackslash{}tchr1\\_38785\\_39226\\textbackslash{}t1\\textbackslash{}t.'\n",
       "\\item 'chr1\\textbackslash{}t46328\\textbackslash{}t46678\\textbackslash{}tchr1\\_46328\\_46678\\textbackslash{}t1\\textbackslash{}t.'\n",
       "\\end{enumerate*}\n"
      ],
      "text/markdown": [
       "1. 'chr1\\t10335\\t10549\\tchr1_10335_10549\\t1\\t.'\n",
       "2. 'chr1\\t16983\\t17500\\tchr1_16983_17500\\t1\\t.'\n",
       "3. 'chr1\\t16985\\t17499\\tchr1_16985_17499\\t1\\t.'\n",
       "4. 'chr1\\t17004\\t17500\\tchr1_17004_17500\\t1\\t.'\n",
       "5. 'chr1\\t17483\\t17898\\tchr1_17483_17898\\t1\\t.'\n",
       "6. 'chr1\\t17487\\t17941\\tchr1_17487_17941\\t1\\t.'\n",
       "7. 'chr1\\t33606\\t33997\\tchr1_33606_33997\\t1\\t.'\n",
       "8. 'chr1\\t33617\\t33997\\tchr1_33617_33997\\t1\\t.'\n",
       "9. 'chr1\\t38785\\t39226\\tchr1_38785_39226\\t1\\t.'\n",
       "10. 'chr1\\t46328\\t46678\\tchr1_46328_46678\\t1\\t.'\n",
       "\n",
       "\n"
      ],
      "text/plain": [
       " [1] \"chr1\\t10335\\t10549\\tchr1_10335_10549\\t1\\t.\"\n",
       " [2] \"chr1\\t16983\\t17500\\tchr1_16983_17500\\t1\\t.\"\n",
       " [3] \"chr1\\t16985\\t17499\\tchr1_16985_17499\\t1\\t.\"\n",
       " [4] \"chr1\\t17004\\t17500\\tchr1_17004_17500\\t1\\t.\"\n",
       " [5] \"chr1\\t17483\\t17898\\tchr1_17483_17898\\t1\\t.\"\n",
       " [6] \"chr1\\t17487\\t17941\\tchr1_17487_17941\\t1\\t.\"\n",
       " [7] \"chr1\\t33606\\t33997\\tchr1_33606_33997\\t1\\t.\"\n",
       " [8] \"chr1\\t33617\\t33997\\tchr1_33617_33997\\t1\\t.\"\n",
       " [9] \"chr1\\t38785\\t39226\\tchr1_38785_39226\\t1\\t.\"\n",
       "[10] \"chr1\\t46328\\t46678\\tchr1_46328_46678\\t1\\t.\""
      ]
     },
     "metadata": {},
     "output_type": "display_data"
    }
   ],
   "source": [
    "txt = paste(\"zcat\", fpath, \"|\", \"head\")\n",
    "system(txt, intern=TRUE)"
   ]
  },
  {
   "cell_type": "code",
   "execution_count": 14,
   "metadata": {},
   "outputs": [
    {
     "name": "stderr",
     "output_type": "stream",
     "text": [
      "\u001b[1mRows: \u001b[22m\u001b[34m26908970\u001b[39m \u001b[1mColumns: \u001b[22m\u001b[34m6\u001b[39m\n",
      "\u001b[36m──\u001b[39m \u001b[1mColumn specification\u001b[22m \u001b[36m─────────────────────────────────────────────────────────────────────\u001b[39m\n",
      "\u001b[1mDelimiter:\u001b[22m \"\\t\"\n",
      "\u001b[31mchr\u001b[39m (3): Chrom, Name, Strand\n",
      "\u001b[32mdbl\u001b[39m (3): Start, End, Score\n",
      "\n",
      "\u001b[36mℹ\u001b[39m Use `spec()` to retrieve the full column specification for this data.\n",
      "\u001b[36mℹ\u001b[39m Specify the column types or set `show_col_types = FALSE` to quiet this message.\n"
     ]
    }
   ],
   "source": [
    "cnames = c(\"Chrom\", \"Start\", \"End\", \"Name\", \"Score\", \"Strand\")\n",
    "dat = read_tsv(fpath, col_names=cnames)"
   ]
  },
  {
   "cell_type": "code",
   "execution_count": null,
   "metadata": {},
   "outputs": [],
   "source": []
  }
 ],
 "metadata": {
  "kernelspec": {
   "display_name": "R",
   "language": "R",
   "name": "ir"
  },
  "language_info": {
   "codemirror_mode": "r",
   "file_extension": ".r",
   "mimetype": "text/x-r-source",
   "name": "R",
   "pygments_lexer": "r",
   "version": "4.3.0"
  }
 },
 "nbformat": 4,
 "nbformat_minor": 4
}
