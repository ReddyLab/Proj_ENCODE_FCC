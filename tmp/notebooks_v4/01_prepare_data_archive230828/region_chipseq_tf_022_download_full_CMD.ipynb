{
 "cells": [
  {
   "cell_type": "markdown",
   "id": "5e48a780-6db3-493f-81d1-a5b2d29320b3",
   "metadata": {},
   "source": [
    "# Download TF master set for Flagship (K562 only)"
   ]
  },
  {
   "cell_type": "markdown",
   "id": "83e27819-43d1-49e7-a4d7-31adf953526e",
   "metadata": {},
   "source": [
    "**Set environment**"
   ]
  },
  {
   "cell_type": "code",
   "execution_count": 1,
   "id": "5e555dc6",
   "metadata": {},
   "outputs": [
    {
     "name": "stdout",
     "output_type": "stream",
     "text": [
      "You are on Duke Server: HARDAC\n",
      "BASE DIRECTORY (FD_BASE): /data/reddylab/Kuei\n",
      "WORK DIRECTORY (FD_WORK): /data/reddylab/Kuei/out\n",
      "CODE DIRECTORY (FD_CODE): /data/reddylab/Kuei/code\n",
      "SING DIRECTORY (FD_SING): /data/reddylab/Kuei/singularity\n",
      "PATH OF PROJECT (FD_PRJ): /data/reddylab/Kuei/code/Proj_CombEffect_ENCODE_FCC\n",
      "PATH OF RESULTS (FD_RES): /data/reddylab/Kuei/out/proj_combeffect_encode_fcc\n",
      "PATH OF LOG     (FD_LOG): /data/reddylab/Kuei/out/proj_combeffect_encode_fcc/log\n",
      "\n"
     ]
    }
   ],
   "source": [
    "source ../config/config_duke.sh\n",
    "show_env"
   ]
  },
  {
   "cell_type": "markdown",
   "id": "792e9e03-e516-4797-b7a8-5414e2ce4a14",
   "metadata": {},
   "source": [
    "## Extract command into a script"
   ]
  },
  {
   "cell_type": "code",
   "execution_count": 2,
   "id": "c91df80e",
   "metadata": {},
   "outputs": [
    {
     "name": "stdout",
     "output_type": "stream",
     "text": [
      "/data/reddylab/Kuei/out/proj_combeffect_encode_fcc/results/region/annotation_chipseq_tf_subset/accession_info_peaks.tsv\n"
     ]
    }
   ],
   "source": [
    "FDIRY=${FD_RES}/results/region/annotation_chipseq_tf_subset/accession_info_peaks.tsv\n",
    "ls ${FDIRY}"
   ]
  },
  {
   "cell_type": "code",
   "execution_count": 3,
   "id": "230d686f",
   "metadata": {},
   "outputs": [
    {
     "name": "stdout",
     "output_type": "stream",
     "text": [
      "736\n",
      "\n",
      "Experiment_Accession\tPeak_Accession\tBiosample\tTarget\tLab\tRFA\tFN_INP\tFN_OUT\tURL\tCMD\n",
      "ENCSR805SIA\tENCFF500BWO\tHomo sapiens K562 genetically modified (insertion) using CRISPR targeting H. sapiens PURB\tPURB\tRichard Myers, HAIB\tENCODE4\tENCFF500BWO.bed.gz\tK562.ENCSR805SIA.ENCFF500BWO.PURB.bed.gz\thttps://www.encodeproject.org/ENCFF500BWO/@@download/ENCFF500BWO.bed.gz\twget https://www.encodeproject.org/ENCFF500BWO/@@download/ENCFF500BWO.bed.gz -O K562.ENCSR805SIA.ENCFF500BWO.PURB.bed.gz\n",
      "ENCSR125RFR\tENCFF863ZFH\tHomo sapiens K562 genetically modified (insertion) using CRISPR targeting H. sapiens ATF6\tATF6\tRichard Myers, HAIB\tENCODE4\tENCFF863ZFH.bed.gz\tK562.ENCSR125RFR.ENCFF863ZFH.ATF6.bed.gz\thttps://www.encodeproject.org/ENCFF863ZFH/@@download/ENCFF863ZFH.bed.gz\twget https://www.encodeproject.org/ENCFF863ZFH/@@download/ENCFF863ZFH.bed.gz -O K562.ENCSR125RFR.ENCFF863ZFH.ATF6.bed.gz\n",
      "ENCSR841GLE\tENCFF515LWL\tHomo sapiens K562 genetically modified (insertion) using CRISPR targeting H. sapiens ZNF217\tZNF217\tRichard Myers, HAIB\tENCODE4\tENCFF515LWL.bed.gz\tK562.ENCSR841GLE.ENCFF515LWL.ZNF217.bed.gz\thttps://www.encodeproject.org/ENCFF515LWL/@@download/ENCFF515LWL.bed.gz\twget https://www.encodeproject.org/ENCFF515LWL/@@download/ENCFF515LWL.bed.gz -O K562.ENCSR841GLE.ENCFF515LWL.ZNF217.bed.gz\n",
      "ENCSR014ARU\tENCFF121HYT\tHomo sapiens K562 genetically modified (insertion) using CRISPR targeting H. sapiens ATF2\tATF2\tRichard Myers, HAIB\tENCODE4\tENCFF121HYT.bed.gz\tK562.ENCSR014ARU.ENCFF121HYT.ATF2.bed.gz\thttps://www.encodeproject.org/ENCFF121HYT/@@download/ENCFF121HYT.bed.gz\twget https://www.encodeproject.org/ENCFF121HYT/@@download/ENCFF121HYT.bed.gz -O K562.ENCSR014ARU.ENCFF121HYT.ATF2.bed.gz\n",
      "ENCSR172XJS\tENCFF169QYL\tHomo sapiens K562 genetically modified (insertion) using CRISPR targeting H. sapiens ZNF165\tZNF165\tMichael Snyder, Stanford\tENCODE4\tENCFF169QYL.bed.gz\tK562.ENCSR172XJS.ENCFF169QYL.ZNF165.bed.gz\thttps://www.encodeproject.org/ENCFF169QYL/@@download/ENCFF169QYL.bed.gz\twget https://www.encodeproject.org/ENCFF169QYL/@@download/ENCFF169QYL.bed.gz -O K562.ENCSR172XJS.ENCFF169QYL.ZNF165.bed.gz\n",
      "ENCSR676KDJ\tENCFF528IDR\tHomo sapiens K562 genetically modified (insertion) using CRISPR targeting H. sapiens ARID4B\tARID4B\tMichael Snyder, Stanford\tENCODE4\tENCFF528IDR.bed.gz\tK562.ENCSR676KDJ.ENCFF528IDR.ARID4B.bed.gz\thttps://www.encodeproject.org/ENCFF528IDR/@@download/ENCFF528IDR.bed.gz\twget https://www.encodeproject.org/ENCFF528IDR/@@download/ENCFF528IDR.bed.gz -O K562.ENCSR676KDJ.ENCFF528IDR.ARID4B.bed.gz\n",
      "ENCSR817FMN\tENCFF303CVC\tHomo sapiens K562 genetically modified (insertion) using CRISPR targeting H. sapiens TEAD4\tTEAD4\tRichard Myers, HAIB\tENCODE4\tENCFF303CVC.bed.gz\tK562.ENCSR817FMN.ENCFF303CVC.TEAD4.bed.gz\thttps://www.encodeproject.org/ENCFF303CVC/@@download/ENCFF303CVC.bed.gz\twget https://www.encodeproject.org/ENCFF303CVC/@@download/ENCFF303CVC.bed.gz -O K562.ENCSR817FMN.ENCFF303CVC.TEAD4.bed.gz\n",
      "ENCSR845GGY\tENCFF295XBK\tHomo sapiens K562 genetically modified (insertion) using CRISPR targeting H. sapiens ZNF263\tZNF263\tRichard Myers, HAIB\tENCODE4\tENCFF295XBK.bed.gz\tK562.ENCSR845GGY.ENCFF295XBK.ZNF263.bed.gz\thttps://www.encodeproject.org/ENCFF295XBK/@@download/ENCFF295XBK.bed.gz\twget https://www.encodeproject.org/ENCFF295XBK/@@download/ENCFF295XBK.bed.gz -O K562.ENCSR845GGY.ENCFF295XBK.ZNF263.bed.gz\n",
      "ENCSR576AMK\tENCFF893YKY\tHomo sapiens K562 genetically modified (insertion) using CRISPR targeting H. sapiens PPARD\tPPARD\tMichael Snyder, Stanford\tENCODE4\tENCFF893YKY.bed.gz\tK562.ENCSR576AMK.ENCFF893YKY.PPARD.bed.gz\thttps://www.encodeproject.org/ENCFF893YKY/@@download/ENCFF893YKY.bed.gz\twget https://www.encodeproject.org/ENCFF893YKY/@@download/ENCFF893YKY.bed.gz -O K562.ENCSR576AMK.ENCFF893YKY.PPARD.bed.gz\n"
     ]
    }
   ],
   "source": [
    "FDIRY=${FD_RES}/results/region/annotation_chipseq_tf\n",
    "FNAME=accession_info_peaks.tsv\n",
    "FPATH=${FDIRY}/${FNAME}\n",
    "\n",
    "cat  ${FPATH} | wc -l\n",
    "echo\n",
    "head ${FPATH}"
   ]
  },
  {
   "cell_type": "code",
   "execution_count": 4,
   "id": "e2153757",
   "metadata": {
    "tags": []
   },
   "outputs": [],
   "source": [
    "FD_INP=${FD_RES}/results/region/annotation_chipseq_tf\n",
    "FN_INP=accession_info_peaks.tsv\n",
    "FP_INP=${FD_INP}/${FN_INP}\n",
    "\n",
    "FD_OUT=${FD_RES}/results/region/annotation_chipseq_tf\n",
    "FN_OUT=download.sh\n",
    "FP_OUT=${FD_OUT}/${FN_OUT}\n",
    "\n",
    "cat  /dev/null     >  ${FP_OUT}\n",
    "echo '#!/bin/bash' >> ${FP_OUT}\n",
    "\n",
    "FP_AWK=/data/reddylab/software/bin/print_tab_cols.awk\n",
    "cat ${FP_INP} \\\n",
    "| awk -f ${FP_AWK} -v cols=CMD \\\n",
    ">> ${FP_OUT}"
   ]
  },
  {
   "cell_type": "code",
   "execution_count": 5,
   "id": "10d2bc81",
   "metadata": {},
   "outputs": [
    {
     "name": "stdout",
     "output_type": "stream",
     "text": [
      "736\n",
      "\n",
      "#!/bin/bash\n",
      "wget https://www.encodeproject.org/ENCFF500BWO/@@download/ENCFF500BWO.bed.gz -O K562.ENCSR805SIA.ENCFF500BWO.PURB.bed.gz \n",
      "wget https://www.encodeproject.org/ENCFF863ZFH/@@download/ENCFF863ZFH.bed.gz -O K562.ENCSR125RFR.ENCFF863ZFH.ATF6.bed.gz \n",
      "wget https://www.encodeproject.org/ENCFF515LWL/@@download/ENCFF515LWL.bed.gz -O K562.ENCSR841GLE.ENCFF515LWL.ZNF217.bed.gz \n",
      "wget https://www.encodeproject.org/ENCFF121HYT/@@download/ENCFF121HYT.bed.gz -O K562.ENCSR014ARU.ENCFF121HYT.ATF2.bed.gz \n",
      "wget https://www.encodeproject.org/ENCFF169QYL/@@download/ENCFF169QYL.bed.gz -O K562.ENCSR172XJS.ENCFF169QYL.ZNF165.bed.gz \n",
      "wget https://www.encodeproject.org/ENCFF528IDR/@@download/ENCFF528IDR.bed.gz -O K562.ENCSR676KDJ.ENCFF528IDR.ARID4B.bed.gz \n",
      "wget https://www.encodeproject.org/ENCFF303CVC/@@download/ENCFF303CVC.bed.gz -O K562.ENCSR817FMN.ENCFF303CVC.TEAD4.bed.gz \n",
      "wget https://www.encodeproject.org/ENCFF295XBK/@@download/ENCFF295XBK.bed.gz -O K562.ENCSR845GGY.ENCFF295XBK.ZNF263.bed.gz \n",
      "wget https://www.encodeproject.org/ENCFF893YKY/@@download/ENCFF893YKY.bed.gz -O K562.ENCSR576AMK.ENCFF893YKY.PPARD.bed.gz \n"
     ]
    }
   ],
   "source": [
    "cat  ${FP_OUT} | wc -l\n",
    "echo\n",
    "head ${FP_OUT}"
   ]
  },
  {
   "cell_type": "markdown",
   "id": "5393f071-9edb-4bb4-b3de-701af38cfbdd",
   "metadata": {},
   "source": [
    "## Download files and sort"
   ]
  },
  {
   "cell_type": "code",
   "execution_count": 6,
   "id": "35d55083-e38a-4aa3-90f6-8a8147d16d9f",
   "metadata": {},
   "outputs": [
    {
     "name": "stdout",
     "output_type": "stream",
     "text": [
      "Submitted batch job 29696139\n"
     ]
    }
   ],
   "source": [
    "sbatch -p ${NODE} \\\n",
    "    --exclude=dl-01 \\\n",
    "    --cpus-per-task 8 \\\n",
    "    --mem 8G \\\n",
    "    --output ${FD_LOG}/download_chipseq_tf_full.%a.txt \\\n",
    "    --array 0 \\\n",
    "    <<'EOF'\n",
    "#!/bin/bash\n",
    "### set directories\n",
    "source ../config/config_duke.sh\n",
    "\n",
    "### print start message\n",
    "timer_start=`date +%s`\n",
    "echo \"Hostname:          \" $(hostname)\n",
    "echo \"Slurm Array Index: \" ${SLURM_ARRAY_TASK_ID}\n",
    "echo \"Time Stamp:        \" $(date +\"%m-%d-%y+%T\")\n",
    "echo\n",
    "\n",
    "### set I/O \n",
    "FDIRY=${FD_RES}/results/region/annotation_chipseq_tf\n",
    "FNAME=download.sh\n",
    "FPATH=${FDIRY}/${FNAME}\n",
    "\n",
    "### execute: download\n",
    "echo \"Downloading files...\"\n",
    "\n",
    "chmod +x ${FPATH}\n",
    "cd   ${FDIRY}\n",
    "bash ${FPATH}\n",
    "\n",
    "### execute: sort\n",
    "echo \"Sorting files...\"\n",
    "\n",
    "FD_INP=${FD_RES}/results/region/annotation_chipseq_tf\n",
    "FP_INPS=($(ls ${FD_INP}/K562.*.bed.gz))\n",
    "FP_TMP=${FD_INP}/tmp.bed.gz\n",
    "\n",
    "for FP_INP in ${FP_INPS[@]}; do\n",
    "\n",
    "    ### show progress\n",
    "    FN_INP=$(basename ${FP_INP})\n",
    "    echo ${FN_INP}\n",
    "\n",
    "    ### sort bed file\n",
    "    zcat ${FP_INP} | sort -k 1,1 -k2,2n | gzip -c > ${FP_TMP}\n",
    "    mv ${FP_TMP} ${FP_INP}\n",
    "    \n",
    "    ### check if sorted\n",
    "    zcat ${FP_INP} | sort -k 1,1 -k2,2n -C || echo -n \"not\" ; echo \"sorted!\"\n",
    "    \n",
    "done\n",
    "\n",
    "### print end message\n",
    "timer=`date +%s`\n",
    "runtime=$(echo \"${timer} - ${timer_start}\" | bc -l)\n",
    "echo\n",
    "echo 'Done!'\n",
    "echo \"Run Time: $(displaytime ${runtime})\"\n",
    "\n",
    "EOF"
   ]
  },
  {
   "cell_type": "markdown",
   "id": "a3e4c298-b045-449c-b043-bd408e83ac65",
   "metadata": {},
   "source": [
    "**Check results**"
   ]
  },
  {
   "cell_type": "code",
   "execution_count": 8,
   "id": "de251d7e",
   "metadata": {},
   "outputs": [
    {
     "name": "stdout",
     "output_type": "stream",
     "text": [
      "735\n"
     ]
    }
   ],
   "source": [
    "FD_INP=${FD_RES}/results/region/annotation_chipseq_tf\n",
    "FP_INPS=($(ls ${FD_INP}/K562.*.bed.gz))\n",
    "\n",
    "echo ${#FP_INPS[@]}"
   ]
  }
 ],
 "metadata": {
  "kernelspec": {
   "display_name": "Bash",
   "language": "bash",
   "name": "bash"
  },
  "language_info": {
   "codemirror_mode": "shell",
   "file_extension": ".sh",
   "mimetype": "text/x-sh",
   "name": "bash"
  }
 },
 "nbformat": 4,
 "nbformat_minor": 5
}
