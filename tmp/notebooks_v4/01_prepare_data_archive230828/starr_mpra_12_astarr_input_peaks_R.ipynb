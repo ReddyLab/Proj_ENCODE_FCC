{
 "cells": [
  {
   "cell_type": "code",
   "execution_count": 1,
   "metadata": {},
   "outputs": [],
   "source": [
    "suppressWarnings(suppressMessages(source(\"../config/config_sing.R\")))"
   ]
  },
  {
   "cell_type": "code",
   "execution_count": 4,
   "metadata": {},
   "outputs": [
    {
     "data": {
      "text/html": [
       "'/data/reddylab/Kuei/out/proj_combeffect_encode_fcc'"
      ],
      "text/latex": [
       "'/data/reddylab/Kuei/out/proj\\_combeffect\\_encode\\_fcc'"
      ],
      "text/markdown": [
       "'/data/reddylab/Kuei/out/proj_combeffect_encode_fcc'"
      ],
      "text/plain": [
       "[1] \"/data/reddylab/Kuei/out/proj_combeffect_encode_fcc\""
      ]
     },
     "metadata": {},
     "output_type": "display_data"
    }
   ],
   "source": [
    "FD_RES"
   ]
  },
  {
   "cell_type": "code",
   "execution_count": 13,
   "metadata": {},
   "outputs": [
    {
     "name": "stdout",
     "output_type": "stream",
     "text": [
      "[1] 247520      4\n"
     ]
    },
    {
     "data": {
      "text/html": [
       "<table class=\"dataframe\">\n",
       "<caption>A tibble: 10 × 4</caption>\n",
       "<thead>\n",
       "\t<tr><th scope=col>X1</th><th scope=col>X2</th><th scope=col>X3</th><th scope=col>Region</th></tr>\n",
       "\t<tr><th scope=col>&lt;chr&gt;</th><th scope=col>&lt;dbl&gt;</th><th scope=col>&lt;dbl&gt;</th><th scope=col>&lt;chr&gt;</th></tr>\n",
       "</thead>\n",
       "<tbody>\n",
       "\t<tr><td>chr1</td><td> 10015</td><td> 10442</td><td>chr1:10015-10442  </td></tr>\n",
       "\t<tr><td>chr1</td><td> 14253</td><td> 14645</td><td>chr1:14253-14645  </td></tr>\n",
       "\t<tr><td>chr1</td><td> 16015</td><td> 16477</td><td>chr1:16015-16477  </td></tr>\n",
       "\t<tr><td>chr1</td><td> 17237</td><td> 17772</td><td>chr1:17237-17772  </td></tr>\n",
       "\t<tr><td>chr1</td><td> 28903</td><td> 29613</td><td>chr1:28903-29613  </td></tr>\n",
       "\t<tr><td>chr1</td><td> 30803</td><td> 31072</td><td>chr1:30803-31072  </td></tr>\n",
       "\t<tr><td>chr1</td><td>101603</td><td>101849</td><td>chr1:101603-101849</td></tr>\n",
       "\t<tr><td>chr1</td><td>115411</td><td>115986</td><td>chr1:115411-115986</td></tr>\n",
       "\t<tr><td>chr1</td><td>118518</td><td>118743</td><td>chr1:118518-118743</td></tr>\n",
       "\t<tr><td>chr1</td><td>136071</td><td>137429</td><td>chr1:136071-137429</td></tr>\n",
       "</tbody>\n",
       "</table>\n"
      ],
      "text/latex": [
       "A tibble: 10 × 4\n",
       "\\begin{tabular}{llll}\n",
       " X1 & X2 & X3 & Region\\\\\n",
       " <chr> & <dbl> & <dbl> & <chr>\\\\\n",
       "\\hline\n",
       "\t chr1 &  10015 &  10442 & chr1:10015-10442  \\\\\n",
       "\t chr1 &  14253 &  14645 & chr1:14253-14645  \\\\\n",
       "\t chr1 &  16015 &  16477 & chr1:16015-16477  \\\\\n",
       "\t chr1 &  17237 &  17772 & chr1:17237-17772  \\\\\n",
       "\t chr1 &  28903 &  29613 & chr1:28903-29613  \\\\\n",
       "\t chr1 &  30803 &  31072 & chr1:30803-31072  \\\\\n",
       "\t chr1 & 101603 & 101849 & chr1:101603-101849\\\\\n",
       "\t chr1 & 115411 & 115986 & chr1:115411-115986\\\\\n",
       "\t chr1 & 118518 & 118743 & chr1:118518-118743\\\\\n",
       "\t chr1 & 136071 & 137429 & chr1:136071-137429\\\\\n",
       "\\end{tabular}\n"
      ],
      "text/markdown": [
       "\n",
       "A tibble: 10 × 4\n",
       "\n",
       "| X1 &lt;chr&gt; | X2 &lt;dbl&gt; | X3 &lt;dbl&gt; | Region &lt;chr&gt; |\n",
       "|---|---|---|---|\n",
       "| chr1 |  10015 |  10442 | chr1:10015-10442   |\n",
       "| chr1 |  14253 |  14645 | chr1:14253-14645   |\n",
       "| chr1 |  16015 |  16477 | chr1:16015-16477   |\n",
       "| chr1 |  17237 |  17772 | chr1:17237-17772   |\n",
       "| chr1 |  28903 |  29613 | chr1:28903-29613   |\n",
       "| chr1 |  30803 |  31072 | chr1:30803-31072   |\n",
       "| chr1 | 101603 | 101849 | chr1:101603-101849 |\n",
       "| chr1 | 115411 | 115986 | chr1:115411-115986 |\n",
       "| chr1 | 118518 | 118743 | chr1:118518-118743 |\n",
       "| chr1 | 136071 | 137429 | chr1:136071-137429 |\n",
       "\n"
      ],
      "text/plain": [
       "   X1   X2     X3     Region            \n",
       "1  chr1  10015  10442 chr1:10015-10442  \n",
       "2  chr1  14253  14645 chr1:14253-14645  \n",
       "3  chr1  16015  16477 chr1:16015-16477  \n",
       "4  chr1  17237  17772 chr1:17237-17772  \n",
       "5  chr1  28903  29613 chr1:28903-29613  \n",
       "6  chr1  30803  31072 chr1:30803-31072  \n",
       "7  chr1 101603 101849 chr1:101603-101849\n",
       "8  chr1 115411 115986 chr1:115411-115986\n",
       "9  chr1 118518 118743 chr1:118518-118743\n",
       "10 chr1 136071 137429 chr1:136071-137429"
      ]
     },
     "metadata": {},
     "output_type": "display_data"
    }
   ],
   "source": [
    "fdiry = file.path(FD_RES, \"results\", \"region\", \"KS91_K562_ASTARRseq_peak_macs_input\")\n",
    "fname = \"KS91_K562_hg38_ASTARRseq_Input.all_reps.masked.union_narrowPeak.q5.bed\"\n",
    "fpath = file.path(fdiry, fname)\n",
    "\n",
    "dat = read_tsv(fpath, col_names = FALSE, show_col_types = FALSE)\n",
    "dat = dat %>% dplyr::mutate(Region = paste0(X1, \":\", X2, \"-\", X3))\n",
    "\n",
    "dat_astarr_input_subset = dat\n",
    "print(dim(dat))\n",
    "head(dat, 10)"
   ]
  },
  {
   "cell_type": "code",
   "execution_count": 14,
   "metadata": {},
   "outputs": [
    {
     "name": "stdout",
     "output_type": "stream",
     "text": [
      "[1] 325150     11\n"
     ]
    },
    {
     "data": {
      "text/html": [
       "<table class=\"dataframe\">\n",
       "<caption>A tibble: 10 × 11</caption>\n",
       "<thead>\n",
       "\t<tr><th scope=col>X1</th><th scope=col>X2</th><th scope=col>X3</th><th scope=col>X4</th><th scope=col>X5</th><th scope=col>X6</th><th scope=col>X7</th><th scope=col>X8</th><th scope=col>X9</th><th scope=col>X10</th><th scope=col>Region</th></tr>\n",
       "\t<tr><th scope=col>&lt;chr&gt;</th><th scope=col>&lt;dbl&gt;</th><th scope=col>&lt;dbl&gt;</th><th scope=col>&lt;chr&gt;</th><th scope=col>&lt;dbl&gt;</th><th scope=col>&lt;chr&gt;</th><th scope=col>&lt;dbl&gt;</th><th scope=col>&lt;dbl&gt;</th><th scope=col>&lt;dbl&gt;</th><th scope=col>&lt;dbl&gt;</th><th scope=col>&lt;chr&gt;</th></tr>\n",
       "</thead>\n",
       "<tbody>\n",
       "\t<tr><td>chr1</td><td> 10015</td><td> 10460</td><td>KS91_K562_hg38_ASTARRseq_Input_allReps.masked.dedup.sorted_peak_1 </td><td> 2116</td><td>.</td><td> 5.18111</td><td> 213.87830</td><td> 211.67725</td><td>174</td><td>chr1:10015-10460  </td></tr>\n",
       "\t<tr><td>chr1</td><td> 14251</td><td> 14785</td><td>KS91_K562_hg38_ASTARRseq_Input_allReps.masked.dedup.sorted_peak_2 </td><td>  682</td><td>.</td><td> 3.09253</td><td>  70.19241</td><td>  68.26026</td><td>209</td><td>chr1:14251-14785  </td></tr>\n",
       "\t<tr><td>chr1</td><td> 16002</td><td> 16539</td><td>KS91_K562_hg38_ASTARRseq_Input_allReps.masked.dedup.sorted_peak_3 </td><td>  961</td><td>.</td><td> 3.56762</td><td>  98.12730</td><td>  96.11854</td><td>238</td><td>chr1:16002-16539  </td></tr>\n",
       "\t<tr><td>chr1</td><td> 17216</td><td> 17767</td><td>KS91_K562_hg38_ASTARRseq_Input_allReps.masked.dedup.sorted_peak_4 </td><td> 4118</td><td>.</td><td> 7.42208</td><td> 414.24924</td><td> 411.86002</td><td>277</td><td>chr1:17216-17767  </td></tr>\n",
       "\t<tr><td>chr1</td><td> 28886</td><td> 29620</td><td>KS91_K562_hg38_ASTARRseq_Input_allReps.masked.dedup.sorted_peak_5 </td><td> 5101</td><td>.</td><td> 8.39914</td><td> 512.58478</td><td> 510.12634</td><td>431</td><td>chr1:28886-29620  </td></tr>\n",
       "\t<tr><td>chr1</td><td> 30774</td><td> 31172</td><td>KS91_K562_hg38_ASTARRseq_Input_allReps.masked.dedup.sorted_peak_6 </td><td> 1932</td><td>.</td><td> 4.94805</td><td> 195.44458</td><td> 193.26704</td><td>104</td><td>chr1:30774-31172  </td></tr>\n",
       "\t<tr><td>chr1</td><td>101595</td><td>101867</td><td>KS91_K562_hg38_ASTARRseq_Input_allReps.masked.dedup.sorted_peak_7 </td><td>  406</td><td>.</td><td> 2.54574</td><td>  42.45045</td><td>  40.63149</td><td> 81</td><td>chr1:101595-101867</td></tr>\n",
       "\t<tr><td>chr1</td><td>115401</td><td>115993</td><td>KS91_K562_hg38_ASTARRseq_Input_allReps.masked.dedup.sorted_peak_8 </td><td>21961</td><td>.</td><td>21.40571</td><td>2199.63330</td><td>2196.19482</td><td>334</td><td>chr1:115401-115993</td></tr>\n",
       "\t<tr><td>chr1</td><td>127538</td><td>127799</td><td>KS91_K562_hg38_ASTARRseq_Input_allReps.masked.dedup.sorted_peak_9 </td><td>   19</td><td>.</td><td> 1.30872</td><td>   3.13706</td><td>   1.95339</td><td>  3</td><td>chr1:127538-127799</td></tr>\n",
       "\t<tr><td>chr1</td><td>136059</td><td>137429</td><td>KS91_K562_hg38_ASTARRseq_Input_allReps.masked.dedup.sorted_peak_10</td><td>12927</td><td>.</td><td> 8.47666</td><td>1295.69177</td><td>1292.79187</td><td>740</td><td>chr1:136059-137429</td></tr>\n",
       "</tbody>\n",
       "</table>\n"
      ],
      "text/latex": [
       "A tibble: 10 × 11\n",
       "\\begin{tabular}{lllllllllll}\n",
       " X1 & X2 & X3 & X4 & X5 & X6 & X7 & X8 & X9 & X10 & Region\\\\\n",
       " <chr> & <dbl> & <dbl> & <chr> & <dbl> & <chr> & <dbl> & <dbl> & <dbl> & <dbl> & <chr>\\\\\n",
       "\\hline\n",
       "\t chr1 &  10015 &  10460 & KS91\\_K562\\_hg38\\_ASTARRseq\\_Input\\_allReps.masked.dedup.sorted\\_peak\\_1  &  2116 & . &  5.18111 &  213.87830 &  211.67725 & 174 & chr1:10015-10460  \\\\\n",
       "\t chr1 &  14251 &  14785 & KS91\\_K562\\_hg38\\_ASTARRseq\\_Input\\_allReps.masked.dedup.sorted\\_peak\\_2  &   682 & . &  3.09253 &   70.19241 &   68.26026 & 209 & chr1:14251-14785  \\\\\n",
       "\t chr1 &  16002 &  16539 & KS91\\_K562\\_hg38\\_ASTARRseq\\_Input\\_allReps.masked.dedup.sorted\\_peak\\_3  &   961 & . &  3.56762 &   98.12730 &   96.11854 & 238 & chr1:16002-16539  \\\\\n",
       "\t chr1 &  17216 &  17767 & KS91\\_K562\\_hg38\\_ASTARRseq\\_Input\\_allReps.masked.dedup.sorted\\_peak\\_4  &  4118 & . &  7.42208 &  414.24924 &  411.86002 & 277 & chr1:17216-17767  \\\\\n",
       "\t chr1 &  28886 &  29620 & KS91\\_K562\\_hg38\\_ASTARRseq\\_Input\\_allReps.masked.dedup.sorted\\_peak\\_5  &  5101 & . &  8.39914 &  512.58478 &  510.12634 & 431 & chr1:28886-29620  \\\\\n",
       "\t chr1 &  30774 &  31172 & KS91\\_K562\\_hg38\\_ASTARRseq\\_Input\\_allReps.masked.dedup.sorted\\_peak\\_6  &  1932 & . &  4.94805 &  195.44458 &  193.26704 & 104 & chr1:30774-31172  \\\\\n",
       "\t chr1 & 101595 & 101867 & KS91\\_K562\\_hg38\\_ASTARRseq\\_Input\\_allReps.masked.dedup.sorted\\_peak\\_7  &   406 & . &  2.54574 &   42.45045 &   40.63149 &  81 & chr1:101595-101867\\\\\n",
       "\t chr1 & 115401 & 115993 & KS91\\_K562\\_hg38\\_ASTARRseq\\_Input\\_allReps.masked.dedup.sorted\\_peak\\_8  & 21961 & . & 21.40571 & 2199.63330 & 2196.19482 & 334 & chr1:115401-115993\\\\\n",
       "\t chr1 & 127538 & 127799 & KS91\\_K562\\_hg38\\_ASTARRseq\\_Input\\_allReps.masked.dedup.sorted\\_peak\\_9  &    19 & . &  1.30872 &    3.13706 &    1.95339 &   3 & chr1:127538-127799\\\\\n",
       "\t chr1 & 136059 & 137429 & KS91\\_K562\\_hg38\\_ASTARRseq\\_Input\\_allReps.masked.dedup.sorted\\_peak\\_10 & 12927 & . &  8.47666 & 1295.69177 & 1292.79187 & 740 & chr1:136059-137429\\\\\n",
       "\\end{tabular}\n"
      ],
      "text/markdown": [
       "\n",
       "A tibble: 10 × 11\n",
       "\n",
       "| X1 &lt;chr&gt; | X2 &lt;dbl&gt; | X3 &lt;dbl&gt; | X4 &lt;chr&gt; | X5 &lt;dbl&gt; | X6 &lt;chr&gt; | X7 &lt;dbl&gt; | X8 &lt;dbl&gt; | X9 &lt;dbl&gt; | X10 &lt;dbl&gt; | Region &lt;chr&gt; |\n",
       "|---|---|---|---|---|---|---|---|---|---|---|\n",
       "| chr1 |  10015 |  10460 | KS91_K562_hg38_ASTARRseq_Input_allReps.masked.dedup.sorted_peak_1  |  2116 | . |  5.18111 |  213.87830 |  211.67725 | 174 | chr1:10015-10460   |\n",
       "| chr1 |  14251 |  14785 | KS91_K562_hg38_ASTARRseq_Input_allReps.masked.dedup.sorted_peak_2  |   682 | . |  3.09253 |   70.19241 |   68.26026 | 209 | chr1:14251-14785   |\n",
       "| chr1 |  16002 |  16539 | KS91_K562_hg38_ASTARRseq_Input_allReps.masked.dedup.sorted_peak_3  |   961 | . |  3.56762 |   98.12730 |   96.11854 | 238 | chr1:16002-16539   |\n",
       "| chr1 |  17216 |  17767 | KS91_K562_hg38_ASTARRseq_Input_allReps.masked.dedup.sorted_peak_4  |  4118 | . |  7.42208 |  414.24924 |  411.86002 | 277 | chr1:17216-17767   |\n",
       "| chr1 |  28886 |  29620 | KS91_K562_hg38_ASTARRseq_Input_allReps.masked.dedup.sorted_peak_5  |  5101 | . |  8.39914 |  512.58478 |  510.12634 | 431 | chr1:28886-29620   |\n",
       "| chr1 |  30774 |  31172 | KS91_K562_hg38_ASTARRseq_Input_allReps.masked.dedup.sorted_peak_6  |  1932 | . |  4.94805 |  195.44458 |  193.26704 | 104 | chr1:30774-31172   |\n",
       "| chr1 | 101595 | 101867 | KS91_K562_hg38_ASTARRseq_Input_allReps.masked.dedup.sorted_peak_7  |   406 | . |  2.54574 |   42.45045 |   40.63149 |  81 | chr1:101595-101867 |\n",
       "| chr1 | 115401 | 115993 | KS91_K562_hg38_ASTARRseq_Input_allReps.masked.dedup.sorted_peak_8  | 21961 | . | 21.40571 | 2199.63330 | 2196.19482 | 334 | chr1:115401-115993 |\n",
       "| chr1 | 127538 | 127799 | KS91_K562_hg38_ASTARRseq_Input_allReps.masked.dedup.sorted_peak_9  |    19 | . |  1.30872 |    3.13706 |    1.95339 |   3 | chr1:127538-127799 |\n",
       "| chr1 | 136059 | 137429 | KS91_K562_hg38_ASTARRseq_Input_allReps.masked.dedup.sorted_peak_10 | 12927 | . |  8.47666 | 1295.69177 | 1292.79187 | 740 | chr1:136059-137429 |\n",
       "\n"
      ],
      "text/plain": [
       "   X1   X2     X3    \n",
       "1  chr1  10015  10460\n",
       "2  chr1  14251  14785\n",
       "3  chr1  16002  16539\n",
       "4  chr1  17216  17767\n",
       "5  chr1  28886  29620\n",
       "6  chr1  30774  31172\n",
       "7  chr1 101595 101867\n",
       "8  chr1 115401 115993\n",
       "9  chr1 127538 127799\n",
       "10 chr1 136059 137429\n",
       "   X4                                                                 X5    X6\n",
       "1  KS91_K562_hg38_ASTARRseq_Input_allReps.masked.dedup.sorted_peak_1   2116 . \n",
       "2  KS91_K562_hg38_ASTARRseq_Input_allReps.masked.dedup.sorted_peak_2    682 . \n",
       "3  KS91_K562_hg38_ASTARRseq_Input_allReps.masked.dedup.sorted_peak_3    961 . \n",
       "4  KS91_K562_hg38_ASTARRseq_Input_allReps.masked.dedup.sorted_peak_4   4118 . \n",
       "5  KS91_K562_hg38_ASTARRseq_Input_allReps.masked.dedup.sorted_peak_5   5101 . \n",
       "6  KS91_K562_hg38_ASTARRseq_Input_allReps.masked.dedup.sorted_peak_6   1932 . \n",
       "7  KS91_K562_hg38_ASTARRseq_Input_allReps.masked.dedup.sorted_peak_7    406 . \n",
       "8  KS91_K562_hg38_ASTARRseq_Input_allReps.masked.dedup.sorted_peak_8  21961 . \n",
       "9  KS91_K562_hg38_ASTARRseq_Input_allReps.masked.dedup.sorted_peak_9     19 . \n",
       "10 KS91_K562_hg38_ASTARRseq_Input_allReps.masked.dedup.sorted_peak_10 12927 . \n",
       "   X7       X8         X9         X10 Region            \n",
       "1   5.18111  213.87830  211.67725 174 chr1:10015-10460  \n",
       "2   3.09253   70.19241   68.26026 209 chr1:14251-14785  \n",
       "3   3.56762   98.12730   96.11854 238 chr1:16002-16539  \n",
       "4   7.42208  414.24924  411.86002 277 chr1:17216-17767  \n",
       "5   8.39914  512.58478  510.12634 431 chr1:28886-29620  \n",
       "6   4.94805  195.44458  193.26704 104 chr1:30774-31172  \n",
       "7   2.54574   42.45045   40.63149  81 chr1:101595-101867\n",
       "8  21.40571 2199.63330 2196.19482 334 chr1:115401-115993\n",
       "9   1.30872    3.13706    1.95339   3 chr1:127538-127799\n",
       "10  8.47666 1295.69177 1292.79187 740 chr1:136059-137429"
      ]
     },
     "metadata": {},
     "output_type": "display_data"
    }
   ],
   "source": [
    "fdiry = \"/data/reddylab/Alex/encode4_duke/processing/atac_seq/210401_KS91_K562ASTARR_NovaSeq.hg38-pe-blacklist-removal\"\n",
    "fname = \"KS91_K562_hg38_ASTARRseq_Input_allReps.masked.dedup.sorted_peaks.narrowPeak\"\n",
    "fpath = file.path(fdiry, fname)\n",
    "\n",
    "dat = read_tsv(fpath, col_names = FALSE, show_col_types = FALSE)\n",
    "dat = dat %>% dplyr::mutate(Region = paste0(X1, \":\", X2, \"-\", X3))\n",
    "\n",
    "dat_astarr_input_full = dat\n",
    "print(dim(dat))\n",
    "head(dat, 10)"
   ]
  },
  {
   "cell_type": "code",
   "execution_count": 7,
   "metadata": {},
   "outputs": [
    {
     "name": "stdout",
     "output_type": "stream",
     "text": [
      "[1] 262796     10\n"
     ]
    }
   ],
   "source": [
    "dat = dat_astarr_input_full\n",
    "dat = dat %>% dplyr::filter(X9 > 5)\n",
    "print(dim(dat))"
   ]
  },
  {
   "cell_type": "code",
   "execution_count": 15,
   "metadata": {},
   "outputs": [
    {
     "name": "stdout",
     "output_type": "stream",
     "text": [
      "[1] 2559\n"
     ]
    }
   ],
   "source": [
    "dat  = dat_astarr_input_subset\n",
    "vec1 = dat$Region\n",
    "\n",
    "dat  = dat_astarr_input_full\n",
    "vec2 = dat$Region\n",
    "\n",
    "print(length(intersect(vec1, vec2)))"
   ]
  },
  {
   "cell_type": "code",
   "execution_count": 11,
   "metadata": {},
   "outputs": [
    {
     "name": "stdout",
     "output_type": "stream",
     "text": [
      "[1] 2559   11\n"
     ]
    }
   ],
   "source": [
    "dat = dat_astarr_input_subset\n",
    "vec = dat$Region\n",
    "\n",
    "dat = dat_astarr_input_full\n",
    "dat = dat %>% dplyr::filter(Region %in% vec)\n",
    "\n",
    "print(dim(dat))"
   ]
  },
  {
   "cell_type": "code",
   "execution_count": null,
   "metadata": {},
   "outputs": [],
   "source": []
  }
 ],
 "metadata": {
  "kernelspec": {
   "display_name": "R",
   "language": "R",
   "name": "ir"
  },
  "language_info": {
   "codemirror_mode": "r",
   "file_extension": ".r",
   "mimetype": "text/x-r-source",
   "name": "R",
   "pygments_lexer": "r",
   "version": "4.3.0"
  }
 },
 "nbformat": 4,
 "nbformat_minor": 4
}
