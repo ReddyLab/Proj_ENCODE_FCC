{
 "cells": [
  {
   "cell_type": "code",
   "execution_count": 1,
   "metadata": {},
   "outputs": [
    {
     "name": "stdout",
     "output_type": "stream",
     "text": [
      "You are in Singularity: singularity_proj_encode_fcc \n",
      "BASE DIRECTORY (FD_BASE): /data/reddylab/Kuei \n",
      "WORK DIRECTORY (FD_WORK): /data/reddylab/Kuei/out \n",
      "CODE DIRECTORY (FD_CODE): /data/reddylab/Kuei/code \n",
      "PATH OF PROJECT (FD_PRJ): /data/reddylab/Kuei/code/Proj_CombEffect_ENCODE_FCC \n",
      "PATH OF RESULTS (FD_RES): /data/reddylab/Kuei/out/proj_combeffect_encode_fcc \n",
      "PATH OF LOG     (FD_LOG): /data/reddylab/Kuei/out/proj_combeffect_encode_fcc/log \n"
     ]
    }
   ],
   "source": [
    "suppressMessages(suppressWarnings(source(\"../config/config_sing.R\")))\n",
    "show_env()"
   ]
  },
  {
   "cell_type": "code",
   "execution_count": 3,
   "metadata": {},
   "outputs": [
    {
     "data": {
      "text/html": [
       "<style>\n",
       ".list-inline {list-style: none; margin:0; padding: 0}\n",
       ".list-inline>li {display: inline-block}\n",
       ".list-inline>li:not(:last-child)::after {content: \"\\00b7\"; padding: 0 .5ex}\n",
       "</style>\n",
       "<ol class=list-inline><li>'ENCFF460YVY.bed.gz'</li><li>'MPRA_LentiMPRA_K562_Nadav'</li><li>'MPRA_TilingMPRA_K562_Tewhey'</li><li>'syn22348180'</li><li>'syn26435687'</li></ol>\n"
      ],
      "text/latex": [
       "\\begin{enumerate*}\n",
       "\\item 'ENCFF460YVY.bed.gz'\n",
       "\\item 'MPRA\\_LentiMPRA\\_K562\\_Nadav'\n",
       "\\item 'MPRA\\_TilingMPRA\\_K562\\_Tewhey'\n",
       "\\item 'syn22348180'\n",
       "\\item 'syn26435687'\n",
       "\\end{enumerate*}\n"
      ],
      "text/markdown": [
       "1. 'ENCFF460YVY.bed.gz'\n",
       "2. 'MPRA_LentiMPRA_K562_Nadav'\n",
       "3. 'MPRA_TilingMPRA_K562_Tewhey'\n",
       "4. 'syn22348180'\n",
       "5. 'syn26435687'\n",
       "\n",
       "\n"
      ],
      "text/plain": [
       "[1] \"ENCFF460YVY.bed.gz\"          \"MPRA_LentiMPRA_K562_Nadav\"  \n",
       "[3] \"MPRA_TilingMPRA_K562_Tewhey\" \"syn22348180\"                \n",
       "[5] \"syn26435687\"                "
      ]
     },
     "metadata": {},
     "output_type": "display_data"
    }
   ],
   "source": [
    "fdiry = file.path(FD_RES, \"source\", \"MPRA\")\n",
    "dir(fdiry)"
   ]
  },
  {
   "cell_type": "code",
   "execution_count": 14,
   "metadata": {},
   "outputs": [
    {
     "data": {
      "text/html": [
       "<table class=\"dataframe\">\n",
       "<caption>A tibble: 6 × 11</caption>\n",
       "<thead>\n",
       "\t<tr><th scope=col>X1</th><th scope=col>X2</th><th scope=col>X3</th><th scope=col>X4</th><th scope=col>X5</th><th scope=col>X6</th><th scope=col>X7</th><th scope=col>X8</th><th scope=col>X9</th><th scope=col>X10</th><th scope=col>X11</th></tr>\n",
       "\t<tr><th scope=col>&lt;chr&gt;</th><th scope=col>&lt;dbl&gt;</th><th scope=col>&lt;dbl&gt;</th><th scope=col>&lt;chr&gt;</th><th scope=col>&lt;dbl&gt;</th><th scope=col>&lt;chr&gt;</th><th scope=col>&lt;dbl&gt;</th><th scope=col>&lt;dbl&gt;</th><th scope=col>&lt;dbl&gt;</th><th scope=col>&lt;dbl&gt;</th><th scope=col>&lt;dbl&gt;</th></tr>\n",
       "</thead>\n",
       "<tbody>\n",
       "\t<tr><td>chr1</td><td>1023675</td><td>1023875</td><td>1:959155:G:A:R:wC </td><td>0</td><td>+</td><td>-0.1392093</td><td> 551.4086</td><td> 501.0816</td><td>  1.1068080</td><td>  0.9089365</td></tr>\n",
       "\t<tr><td>chr1</td><td>2143712</td><td>2143912</td><td>1:2075251:A:G:R:wC</td><td>0</td><td>+</td><td>-0.1752083</td><td> 120.0460</td><td> 106.3356</td><td>  0.5448022</td><td>  0.4223745</td></tr>\n",
       "\t<tr><td>chr1</td><td>2152198</td><td>2152398</td><td>1:2083737:T:C:R:wC</td><td>0</td><td>+</td><td> 2.7394997</td><td> 184.8635</td><td>1236.2097</td><td>183.2445769</td><td>182.0708645</td></tr>\n",
       "\t<tr><td>chr1</td><td>2187000</td><td>2187200</td><td>1:2118539:T:C:R:wC</td><td>0</td><td>+</td><td>-0.1248074</td><td>1315.0006</td><td>1205.9835</td><td>  1.2537602</td><td>  1.0397038</td></tr>\n",
       "\t<tr><td>chr1</td><td>2188294</td><td>2188494</td><td>1:2119833:A:G:R:wC</td><td>0</td><td>+</td><td> 0.8876836</td><td> 124.8777</td><td> 230.9197</td><td> 10.9094066</td><td> 10.3579876</td></tr>\n",
       "\t<tr><td>chr1</td><td>2189086</td><td>2189286</td><td>1:2120625:C:A:R:wC</td><td>0</td><td>+</td><td> 0.2763376</td><td> 786.7700</td><td> 954.2709</td><td>  4.9812611</td><td>  4.5596303</td></tr>\n",
       "</tbody>\n",
       "</table>\n"
      ],
      "text/latex": [
       "A tibble: 6 × 11\n",
       "\\begin{tabular}{lllllllllll}\n",
       " X1 & X2 & X3 & X4 & X5 & X6 & X7 & X8 & X9 & X10 & X11\\\\\n",
       " <chr> & <dbl> & <dbl> & <chr> & <dbl> & <chr> & <dbl> & <dbl> & <dbl> & <dbl> & <dbl>\\\\\n",
       "\\hline\n",
       "\t chr1 & 1023675 & 1023875 & 1:959155:G:A:R:wC  & 0 & + & -0.1392093 &  551.4086 &  501.0816 &   1.1068080 &   0.9089365\\\\\n",
       "\t chr1 & 2143712 & 2143912 & 1:2075251:A:G:R:wC & 0 & + & -0.1752083 &  120.0460 &  106.3356 &   0.5448022 &   0.4223745\\\\\n",
       "\t chr1 & 2152198 & 2152398 & 1:2083737:T:C:R:wC & 0 & + &  2.7394997 &  184.8635 & 1236.2097 & 183.2445769 & 182.0708645\\\\\n",
       "\t chr1 & 2187000 & 2187200 & 1:2118539:T:C:R:wC & 0 & + & -0.1248074 & 1315.0006 & 1205.9835 &   1.2537602 &   1.0397038\\\\\n",
       "\t chr1 & 2188294 & 2188494 & 1:2119833:A:G:R:wC & 0 & + &  0.8876836 &  124.8777 &  230.9197 &  10.9094066 &  10.3579876\\\\\n",
       "\t chr1 & 2189086 & 2189286 & 1:2120625:C:A:R:wC & 0 & + &  0.2763376 &  786.7700 &  954.2709 &   4.9812611 &   4.5596303\\\\\n",
       "\\end{tabular}\n"
      ],
      "text/markdown": [
       "\n",
       "A tibble: 6 × 11\n",
       "\n",
       "| X1 &lt;chr&gt; | X2 &lt;dbl&gt; | X3 &lt;dbl&gt; | X4 &lt;chr&gt; | X5 &lt;dbl&gt; | X6 &lt;chr&gt; | X7 &lt;dbl&gt; | X8 &lt;dbl&gt; | X9 &lt;dbl&gt; | X10 &lt;dbl&gt; | X11 &lt;dbl&gt; |\n",
       "|---|---|---|---|---|---|---|---|---|---|---|\n",
       "| chr1 | 1023675 | 1023875 | 1:959155:G:A:R:wC  | 0 | + | -0.1392093 |  551.4086 |  501.0816 |   1.1068080 |   0.9089365 |\n",
       "| chr1 | 2143712 | 2143912 | 1:2075251:A:G:R:wC | 0 | + | -0.1752083 |  120.0460 |  106.3356 |   0.5448022 |   0.4223745 |\n",
       "| chr1 | 2152198 | 2152398 | 1:2083737:T:C:R:wC | 0 | + |  2.7394997 |  184.8635 | 1236.2097 | 183.2445769 | 182.0708645 |\n",
       "| chr1 | 2187000 | 2187200 | 1:2118539:T:C:R:wC | 0 | + | -0.1248074 | 1315.0006 | 1205.9835 |   1.2537602 |   1.0397038 |\n",
       "| chr1 | 2188294 | 2188494 | 1:2119833:A:G:R:wC | 0 | + |  0.8876836 |  124.8777 |  230.9197 |  10.9094066 |  10.3579876 |\n",
       "| chr1 | 2189086 | 2189286 | 1:2120625:C:A:R:wC | 0 | + |  0.2763376 |  786.7700 |  954.2709 |   4.9812611 |   4.5596303 |\n",
       "\n"
      ],
      "text/plain": [
       "  X1   X2      X3      X4                 X5 X6 X7         X8        X9       \n",
       "1 chr1 1023675 1023875 1:959155:G:A:R:wC  0  +  -0.1392093  551.4086  501.0816\n",
       "2 chr1 2143712 2143912 1:2075251:A:G:R:wC 0  +  -0.1752083  120.0460  106.3356\n",
       "3 chr1 2152198 2152398 1:2083737:T:C:R:wC 0  +   2.7394997  184.8635 1236.2097\n",
       "4 chr1 2187000 2187200 1:2118539:T:C:R:wC 0  +  -0.1248074 1315.0006 1205.9835\n",
       "5 chr1 2188294 2188494 1:2119833:A:G:R:wC 0  +   0.8876836  124.8777  230.9197\n",
       "6 chr1 2189086 2189286 1:2120625:C:A:R:wC 0  +   0.2763376  786.7700  954.2709\n",
       "  X10         X11        \n",
       "1   1.1068080   0.9089365\n",
       "2   0.5448022   0.4223745\n",
       "3 183.2445769 182.0708645\n",
       "4   1.2537602   1.0397038\n",
       "5  10.9094066  10.3579876\n",
       "6   4.9812611   4.5596303"
      ]
     },
     "metadata": {},
     "output_type": "display_data"
    }
   ],
   "source": [
    "fdiry = file.path(FD_RES, \"source\", \"MPRA\")\n",
    "fname = 'ENCFF460YVY.bed.gz'\n",
    "fpath = file.path(fdiry, fname)\n",
    "\n",
    "dat = read_tsv(fpath, col_names = FALSE, show_col_types = FALSE)\n",
    "dat_import = dat\n",
    "head(dat)"
   ]
  },
  {
   "cell_type": "code",
   "execution_count": 15,
   "metadata": {},
   "outputs": [
    {
     "data": {
      "text/html": [
       "<table class=\"dataframe\">\n",
       "<caption>A tibble: 6 × 11</caption>\n",
       "<thead>\n",
       "\t<tr><th scope=col>X1</th><th scope=col>X2</th><th scope=col>X3</th><th scope=col>X4</th><th scope=col>X5</th><th scope=col>X6</th><th scope=col>X7</th><th scope=col>X8</th><th scope=col>X9</th><th scope=col>X10</th><th scope=col>X11</th></tr>\n",
       "\t<tr><th scope=col>&lt;chr&gt;</th><th scope=col>&lt;dbl&gt;</th><th scope=col>&lt;dbl&gt;</th><th scope=col>&lt;chr&gt;</th><th scope=col>&lt;dbl&gt;</th><th scope=col>&lt;chr&gt;</th><th scope=col>&lt;dbl&gt;</th><th scope=col>&lt;dbl&gt;</th><th scope=col>&lt;dbl&gt;</th><th scope=col>&lt;dbl&gt;</th><th scope=col>&lt;dbl&gt;</th></tr>\n",
       "</thead>\n",
       "<tbody>\n",
       "\t<tr><td>chrX</td><td> 70454115</td><td> 70454315</td><td>X:69674065:NA:NA </td><td>0</td><td>+</td><td> 0.49854410</td><td>1094.8423</td><td>1547.3113</td><td>19.1598800</td><td>18.5147921</td></tr>\n",
       "\t<tr><td>chrX</td><td>143267279</td><td>143267479</td><td>X:142355162:NA:NA</td><td>0</td><td>+</td><td> 0.52988758</td><td> 389.2569</td><td> 562.0250</td><td> 8.5623888</td><td> 8.0513576</td></tr>\n",
       "\t<tr><td>chrX</td><td>148748824</td><td>148749024</td><td>X:147830448:NA:NA</td><td>0</td><td>+</td><td>-0.15031670</td><td> 453.3272</td><td> 408.3090</td><td> 0.9603526</td><td> 0.7796993</td></tr>\n",
       "\t<tr><td>chrX</td><td>148986507</td><td>148986707</td><td>X:148068137:NA:NA</td><td>0</td><td>+</td><td> 0.08418549</td><td> 741.8442</td><td> 786.0530</td><td> 0.6361323</td><td> 0.4994786</td></tr>\n",
       "\t<tr><td>chrX</td><td>150764767</td><td>150764967</td><td>X:149933340:NA:NA</td><td>0</td><td>+</td><td> 0.37306456</td><td> 334.4344</td><td> 433.7831</td><td> 4.8266605</td><td> 4.4100505</td></tr>\n",
       "\t<tr><td>chrX</td><td>151594955</td><td>151595155</td><td>X:150763527:NA:NA</td><td>0</td><td>+</td><td> 0.51633413</td><td>1054.1158</td><td>1507.9738</td><td>14.2864330</td><td>13.6905690</td></tr>\n",
       "</tbody>\n",
       "</table>\n"
      ],
      "text/latex": [
       "A tibble: 6 × 11\n",
       "\\begin{tabular}{lllllllllll}\n",
       " X1 & X2 & X3 & X4 & X5 & X6 & X7 & X8 & X9 & X10 & X11\\\\\n",
       " <chr> & <dbl> & <dbl> & <chr> & <dbl> & <chr> & <dbl> & <dbl> & <dbl> & <dbl> & <dbl>\\\\\n",
       "\\hline\n",
       "\t chrX &  70454115 &  70454315 & X:69674065:NA:NA  & 0 & + &  0.49854410 & 1094.8423 & 1547.3113 & 19.1598800 & 18.5147921\\\\\n",
       "\t chrX & 143267279 & 143267479 & X:142355162:NA:NA & 0 & + &  0.52988758 &  389.2569 &  562.0250 &  8.5623888 &  8.0513576\\\\\n",
       "\t chrX & 148748824 & 148749024 & X:147830448:NA:NA & 0 & + & -0.15031670 &  453.3272 &  408.3090 &  0.9603526 &  0.7796993\\\\\n",
       "\t chrX & 148986507 & 148986707 & X:148068137:NA:NA & 0 & + &  0.08418549 &  741.8442 &  786.0530 &  0.6361323 &  0.4994786\\\\\n",
       "\t chrX & 150764767 & 150764967 & X:149933340:NA:NA & 0 & + &  0.37306456 &  334.4344 &  433.7831 &  4.8266605 &  4.4100505\\\\\n",
       "\t chrX & 151594955 & 151595155 & X:150763527:NA:NA & 0 & + &  0.51633413 & 1054.1158 & 1507.9738 & 14.2864330 & 13.6905690\\\\\n",
       "\\end{tabular}\n"
      ],
      "text/markdown": [
       "\n",
       "A tibble: 6 × 11\n",
       "\n",
       "| X1 &lt;chr&gt; | X2 &lt;dbl&gt; | X3 &lt;dbl&gt; | X4 &lt;chr&gt; | X5 &lt;dbl&gt; | X6 &lt;chr&gt; | X7 &lt;dbl&gt; | X8 &lt;dbl&gt; | X9 &lt;dbl&gt; | X10 &lt;dbl&gt; | X11 &lt;dbl&gt; |\n",
       "|---|---|---|---|---|---|---|---|---|---|---|\n",
       "| chrX |  70454115 |  70454315 | X:69674065:NA:NA  | 0 | + |  0.49854410 | 1094.8423 | 1547.3113 | 19.1598800 | 18.5147921 |\n",
       "| chrX | 143267279 | 143267479 | X:142355162:NA:NA | 0 | + |  0.52988758 |  389.2569 |  562.0250 |  8.5623888 |  8.0513576 |\n",
       "| chrX | 148748824 | 148749024 | X:147830448:NA:NA | 0 | + | -0.15031670 |  453.3272 |  408.3090 |  0.9603526 |  0.7796993 |\n",
       "| chrX | 148986507 | 148986707 | X:148068137:NA:NA | 0 | + |  0.08418549 |  741.8442 |  786.0530 |  0.6361323 |  0.4994786 |\n",
       "| chrX | 150764767 | 150764967 | X:149933340:NA:NA | 0 | + |  0.37306456 |  334.4344 |  433.7831 |  4.8266605 |  4.4100505 |\n",
       "| chrX | 151594955 | 151595155 | X:150763527:NA:NA | 0 | + |  0.51633413 | 1054.1158 | 1507.9738 | 14.2864330 | 13.6905690 |\n",
       "\n"
      ],
      "text/plain": [
       "  X1   X2        X3        X4                X5 X6 X7          X8       \n",
       "1 chrX  70454115  70454315 X:69674065:NA:NA  0  +   0.49854410 1094.8423\n",
       "2 chrX 143267279 143267479 X:142355162:NA:NA 0  +   0.52988758  389.2569\n",
       "3 chrX 148748824 148749024 X:147830448:NA:NA 0  +  -0.15031670  453.3272\n",
       "4 chrX 148986507 148986707 X:148068137:NA:NA 0  +   0.08418549  741.8442\n",
       "5 chrX 150764767 150764967 X:149933340:NA:NA 0  +   0.37306456  334.4344\n",
       "6 chrX 151594955 151595155 X:150763527:NA:NA 0  +   0.51633413 1054.1158\n",
       "  X9        X10        X11       \n",
       "1 1547.3113 19.1598800 18.5147921\n",
       "2  562.0250  8.5623888  8.0513576\n",
       "3  408.3090  0.9603526  0.7796993\n",
       "4  786.0530  0.6361323  0.4994786\n",
       "5  433.7831  4.8266605  4.4100505\n",
       "6 1507.9738 14.2864330 13.6905690"
      ]
     },
     "metadata": {},
     "output_type": "display_data"
    }
   ],
   "source": [
    "tail(dat)"
   ]
  },
  {
   "cell_type": "code",
   "execution_count": 12,
   "metadata": {},
   "outputs": [
    {
     "name": "stdout",
     "output_type": "stream",
     "text": [
      "[1] 378  11\n"
     ]
    },
    {
     "data": {
      "text/html": [
       "<table class=\"dataframe\">\n",
       "<caption>A tibble: 6 × 11</caption>\n",
       "<thead>\n",
       "\t<tr><th scope=col>X1</th><th scope=col>X2</th><th scope=col>X3</th><th scope=col>X4</th><th scope=col>X5</th><th scope=col>X6</th><th scope=col>X7</th><th scope=col>X8</th><th scope=col>X9</th><th scope=col>X10</th><th scope=col>X11</th></tr>\n",
       "\t<tr><th scope=col>&lt;chr&gt;</th><th scope=col>&lt;dbl&gt;</th><th scope=col>&lt;dbl&gt;</th><th scope=col>&lt;chr&gt;</th><th scope=col>&lt;dbl&gt;</th><th scope=col>&lt;chr&gt;</th><th scope=col>&lt;dbl&gt;</th><th scope=col>&lt;dbl&gt;</th><th scope=col>&lt;dbl&gt;</th><th scope=col>&lt;dbl&gt;</th><th scope=col>&lt;dbl&gt;</th></tr>\n",
       "</thead>\n",
       "<tbody>\n",
       "\t<tr><td>chr1</td><td>23791094</td><td>23791294</td><td>1:24117684:NA:NA</td><td>0</td><td>+</td><td>6.0772109</td><td> 485.0993</td><td>32754.8506</td><td>999.000000</td><td>999.000000</td></tr>\n",
       "\t<tr><td>chr1</td><td>25922433</td><td>25922633</td><td>1:26249024:NA:NA</td><td>0</td><td>+</td><td>2.7449208</td><td>1299.5008</td><td> 8711.8125</td><td>999.000000</td><td>999.000000</td></tr>\n",
       "\t<tr><td>chr1</td><td>33258966</td><td>33259166</td><td>1:33724667:NA:NA</td><td>0</td><td>+</td><td>0.3943566</td><td> 965.3980</td><td> 1268.7525</td><td> 10.700397</td><td> 10.152252</td></tr>\n",
       "\t<tr><td>chr1</td><td>37025386</td><td>37025586</td><td>1:37491087:NA:NA</td><td>0</td><td>+</td><td>0.2104183</td><td> 704.9148</td><td>  816.1596</td><td>  2.136177</td><td>  1.848835</td></tr>\n",
       "\t<tr><td>chr1</td><td>41954333</td><td>41954533</td><td>1:42420104:NA:NA</td><td>0</td><td>+</td><td>0.1720222</td><td> 594.3118</td><td>  670.2789</td><td>  1.435284</td><td>  1.204316</td></tr>\n",
       "\t<tr><td>chr1</td><td>50197436</td><td>50197636</td><td>1:50663208:NA:NA</td><td>0</td><td>+</td><td>0.1937130</td><td> 688.5359</td><td>  787.1001</td><td>  1.935731</td><td>  1.662221</td></tr>\n",
       "</tbody>\n",
       "</table>\n"
      ],
      "text/latex": [
       "A tibble: 6 × 11\n",
       "\\begin{tabular}{lllllllllll}\n",
       " X1 & X2 & X3 & X4 & X5 & X6 & X7 & X8 & X9 & X10 & X11\\\\\n",
       " <chr> & <dbl> & <dbl> & <chr> & <dbl> & <chr> & <dbl> & <dbl> & <dbl> & <dbl> & <dbl>\\\\\n",
       "\\hline\n",
       "\t chr1 & 23791094 & 23791294 & 1:24117684:NA:NA & 0 & + & 6.0772109 &  485.0993 & 32754.8506 & 999.000000 & 999.000000\\\\\n",
       "\t chr1 & 25922433 & 25922633 & 1:26249024:NA:NA & 0 & + & 2.7449208 & 1299.5008 &  8711.8125 & 999.000000 & 999.000000\\\\\n",
       "\t chr1 & 33258966 & 33259166 & 1:33724667:NA:NA & 0 & + & 0.3943566 &  965.3980 &  1268.7525 &  10.700397 &  10.152252\\\\\n",
       "\t chr1 & 37025386 & 37025586 & 1:37491087:NA:NA & 0 & + & 0.2104183 &  704.9148 &   816.1596 &   2.136177 &   1.848835\\\\\n",
       "\t chr1 & 41954333 & 41954533 & 1:42420104:NA:NA & 0 & + & 0.1720222 &  594.3118 &   670.2789 &   1.435284 &   1.204316\\\\\n",
       "\t chr1 & 50197436 & 50197636 & 1:50663208:NA:NA & 0 & + & 0.1937130 &  688.5359 &   787.1001 &   1.935731 &   1.662221\\\\\n",
       "\\end{tabular}\n"
      ],
      "text/markdown": [
       "\n",
       "A tibble: 6 × 11\n",
       "\n",
       "| X1 &lt;chr&gt; | X2 &lt;dbl&gt; | X3 &lt;dbl&gt; | X4 &lt;chr&gt; | X5 &lt;dbl&gt; | X6 &lt;chr&gt; | X7 &lt;dbl&gt; | X8 &lt;dbl&gt; | X9 &lt;dbl&gt; | X10 &lt;dbl&gt; | X11 &lt;dbl&gt; |\n",
       "|---|---|---|---|---|---|---|---|---|---|---|\n",
       "| chr1 | 23791094 | 23791294 | 1:24117684:NA:NA | 0 | + | 6.0772109 |  485.0993 | 32754.8506 | 999.000000 | 999.000000 |\n",
       "| chr1 | 25922433 | 25922633 | 1:26249024:NA:NA | 0 | + | 2.7449208 | 1299.5008 |  8711.8125 | 999.000000 | 999.000000 |\n",
       "| chr1 | 33258966 | 33259166 | 1:33724667:NA:NA | 0 | + | 0.3943566 |  965.3980 |  1268.7525 |  10.700397 |  10.152252 |\n",
       "| chr1 | 37025386 | 37025586 | 1:37491087:NA:NA | 0 | + | 0.2104183 |  704.9148 |   816.1596 |   2.136177 |   1.848835 |\n",
       "| chr1 | 41954333 | 41954533 | 1:42420104:NA:NA | 0 | + | 0.1720222 |  594.3118 |   670.2789 |   1.435284 |   1.204316 |\n",
       "| chr1 | 50197436 | 50197636 | 1:50663208:NA:NA | 0 | + | 0.1937130 |  688.5359 |   787.1001 |   1.935731 |   1.662221 |\n",
       "\n"
      ],
      "text/plain": [
       "  X1   X2       X3       X4               X5 X6 X7        X8        X9        \n",
       "1 chr1 23791094 23791294 1:24117684:NA:NA 0  +  6.0772109  485.0993 32754.8506\n",
       "2 chr1 25922433 25922633 1:26249024:NA:NA 0  +  2.7449208 1299.5008  8711.8125\n",
       "3 chr1 33258966 33259166 1:33724667:NA:NA 0  +  0.3943566  965.3980  1268.7525\n",
       "4 chr1 37025386 37025586 1:37491087:NA:NA 0  +  0.2104183  704.9148   816.1596\n",
       "5 chr1 41954333 41954533 1:42420104:NA:NA 0  +  0.1720222  594.3118   670.2789\n",
       "6 chr1 50197436 50197636 1:50663208:NA:NA 0  +  0.1937130  688.5359   787.1001\n",
       "  X10        X11       \n",
       "1 999.000000 999.000000\n",
       "2 999.000000 999.000000\n",
       "3  10.700397  10.152252\n",
       "4   2.136177   1.848835\n",
       "5   1.435284   1.204316\n",
       "6   1.935731   1.662221"
      ]
     },
     "metadata": {},
     "output_type": "display_data"
    }
   ],
   "source": [
    "dat = dat_import\n",
    "dat = dat %>% dplyr::filter(str_detect(X4, \":NA:NA\"))\n",
    "print(dim(dat))\n",
    "head(dat)"
   ]
  },
  {
   "cell_type": "code",
   "execution_count": 13,
   "metadata": {},
   "outputs": [
    {
     "data": {
      "text/plain": [
       "\n",
       " chr1 chr10 chr11 chr12 chr13 chr14 chr15 chr16 chr17 chr18 chr19  chr2 chr20 \n",
       "   21    17    20    20    12    17    14    10    12     8     6    39    10 \n",
       "chr21 chr22  chr3  chr4  chr5  chr6  chr7  chr8  chr9  chrX \n",
       "    3     1    33    19    29    27    17    12    18    13 "
      ]
     },
     "metadata": {},
     "output_type": "display_data"
    }
   ],
   "source": [
    "table(dat$X1)"
   ]
  },
  {
   "cell_type": "code",
   "execution_count": null,
   "metadata": {},
   "outputs": [],
   "source": []
  }
 ],
 "metadata": {
  "kernelspec": {
   "display_name": "R",
   "language": "R",
   "name": "ir"
  },
  "language_info": {
   "codemirror_mode": "r",
   "file_extension": ".r",
   "mimetype": "text/x-r-source",
   "name": "R",
   "pygments_lexer": "r",
   "version": "4.3.0"
  }
 },
 "nbformat": 4,
 "nbformat_minor": 4
}
