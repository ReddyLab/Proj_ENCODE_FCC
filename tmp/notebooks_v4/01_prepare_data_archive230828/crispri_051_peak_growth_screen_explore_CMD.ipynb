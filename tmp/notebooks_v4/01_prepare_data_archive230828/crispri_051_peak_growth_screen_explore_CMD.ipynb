{
 "cells": [
  {
   "cell_type": "markdown",
   "id": "c88c5ab5",
   "metadata": {},
   "source": [
    "**Set environment**"
   ]
  },
  {
   "cell_type": "code",
   "execution_count": 1,
   "id": "52ff648a",
   "metadata": {},
   "outputs": [
    {
     "name": "stdout",
     "output_type": "stream",
     "text": [
      "You are on Duke Server: HARDAC\n",
      "BASE DIRECTORY (FD_BASE): /data/reddylab/Kuei\n",
      "WORK DIRECTORY (FD_WORK): /data/reddylab/Kuei/out\n",
      "CODE DIRECTORY (FD_CODE): /data/reddylab/Kuei/code\n",
      "SING DIRECTORY (FD_SING): /data/reddylab/Kuei/singularity\n",
      "PATH OF PROJECT (FD_PRJ): /data/reddylab/Kuei/code/Proj_CombEffect_ENCODE_FCC\n",
      "PATH OF RESULTS (FD_RES): /data/reddylab/Kuei/out/proj_combeffect_encode_fcc\n",
      "PATH OF LOG     (FD_LOG): /data/reddylab/Kuei/out/proj_combeffect_encode_fcc/log\n",
      "\n"
     ]
    }
   ],
   "source": [
    "source ../config/config_duke.sh\n",
    "show_env"
   ]
  },
  {
   "cell_type": "markdown",
   "id": "5194a623",
   "metadata": {},
   "source": [
    "## Andrew's new method"
   ]
  },
  {
   "cell_type": "code",
   "execution_count": 2,
   "id": "2741cbc7",
   "metadata": {},
   "outputs": [
    {
     "name": "stdout",
     "output_type": "stream",
     "text": [
      "/data/reddylab/Alex/collab/20181203_Tyler/data/2023_resubmission/2023-04-26_DHS.Summary.forAndrew.fdr_0.1.hg38.txt\n"
     ]
    }
   ],
   "source": [
    "ls /data/reddylab/Alex/collab/20181203_Tyler/data/2023_resubmission/2023-04-26_DHS.Summary.forAndrew.fdr_0.1.hg38.txt"
   ]
  },
  {
   "cell_type": "code",
   "execution_count": 3,
   "id": "46c1380b",
   "metadata": {},
   "outputs": [
    {
     "name": "stdout",
     "output_type": "stream",
     "text": [
      "2023-04-26_DHS.Summary.forAndrew.csv\n",
      "2023-04-26_DHS.Summary.forAndrew.fdr_0.1.hg38.txt\n",
      "2023-04-26_DHS.Summary.forAndrew_README.txt\n"
     ]
    }
   ],
   "source": [
    "FDIRY=/data/reddylab/Alex/collab/20181203_Tyler/data/2023_resubmission\n",
    "ls ${FDIRY}"
   ]
  },
  {
   "cell_type": "code",
   "execution_count": 4,
   "id": "d07f99b1",
   "metadata": {},
   "outputs": [
    {
     "name": "stdout",
     "output_type": "stream",
     "text": [
      "\"\",\"DHS\",\"chrom\",\"chromStart\",\"chromEnd\",\"distanceToTSS\",\"NEG\",\"Discovery_dhs_allen_v3_bnd30\",\"Discovery_dhs_allen_v3_bnd30_fdr_corr\",\"Discovery_tW\",\"Discovery_tWvar\"\n",
      "\"1\",\"chr1.1\",\"chr1\",540930,541007,81027,\"test\",0.0062132,0.316515228193431,-0.283437413509697,0.00738693172619981\n",
      "\"2\",\"chr1.10\",\"chr1\",800724,800827,11355,\"test\",0.7692786,0.967183263898229,0.109170590679347,0.00939577869037229\n",
      "\"3\",\"chr1.100\",\"chr1\",1076108,1077461,3712,\"test\",0.2871543,0.818778567734548,-0.128128652544268,0.00490793698757213\n",
      "\"4\",\"chr1.1000\",\"chr1\",4233275,4233565,232604,\"test\",0.2175203,0.796131150852124,-0.186491575916649,0.00396309647119159\n",
      "\"5\",\"chr1.10000\",\"chr1\",176918079,176918582,79999,\"test\",0.1692996,0.79059163721754,0.10562510480624,0.0115588120131788\n",
      "\"6\",\"chr1.10001\",\"chr1\",176923498,176923669,74912,\"test\",0.5538674,0.928080801512635,-0.160844883831111,0.00547633278425441\n",
      "\"7\",\"chr1.10002\",\"chr1\",177133755,177133971,53,\"test\",0.0760792,0.607196602262231,0.098552270382926,0.00840196078702728\n",
      "\"8\",\"chr1.10003\",\"chr1\",177139947,177140032,-601,\"test\",0.0433218,0.525195232401448,-0.242949436958924,0.00944207472653205\n",
      "\"9\",\"chr1.10004\",\"chr1\",177150501,177151462,9869,\"test\",0.7369264,0.959488006737589,-0.142667383272578,0.00517653387685755\n"
     ]
    }
   ],
   "source": [
    "head ${FDIRY}/2023-04-26_DHS.Summary.forAndrew.csv"
   ]
  },
  {
   "cell_type": "code",
   "execution_count": 5,
   "id": "ec266f7c",
   "metadata": {},
   "outputs": [
    {
     "name": "stdout",
     "output_type": "stream",
     "text": [
      "/data/reddylab/Alex/collab/20181203_Tyler/data/2023_resubmission/2023-04-26_DHS.Summary.forAndrew.fdr_0.1.hg38.txt\n"
     ]
    }
   ],
   "source": [
    "ls ${FDIRY}/2023-04-26_DHS.Summary.forAndrew.fdr_0.1.hg38.txt"
   ]
  },
  {
   "cell_type": "code",
   "execution_count": 6,
   "id": "666bc509",
   "metadata": {},
   "outputs": [
    {
     "name": "stdout",
     "output_type": "stream",
     "text": [
      "chrom_hg38\tstart_hg38\tend_hg38\tDiscovery_dhs_allen_v3_bnd30_fdr_corr\tDiscovery_tW\n",
      "chr1\t4325670\t4325804\t0.0\t-0.47007960971838\n",
      "chr1\t180908280\t180908486\t0.0059498735583685\t-0.19504011630456697\n",
      "chr1\t183996132\t183996280\t0.0\t-0.40868035984729\n",
      "chr1\t197146195\t197147165\t0.000232539583333333\t-0.42666634087417604\n",
      "chr1\t5638770\t5638847\t0.00107470996621622\t-0.42873984467492104\n",
      "chr1\t201678793\t201678935\t0.0380838411949685\t-0.44785967602898796\n",
      "chr1\t201709388\t201709917\t0.0644329383415435\t-0.20845115416210502\n",
      "chr1\t202341688\t202342333\t0.0389594325581395\t-0.277242891951656\n",
      "chr1\t202592283\t202592470\t0.00370424287812041\t-0.412198533098234\n"
     ]
    }
   ],
   "source": [
    "head ${FDIRY}/2023-04-26_DHS.Summary.forAndrew.fdr_0.1.hg38.txt"
   ]
  },
  {
   "cell_type": "code",
   "execution_count": 7,
   "id": "9f70227c",
   "metadata": {},
   "outputs": [
    {
     "name": "stdout",
     "output_type": "stream",
     "text": [
      "# Readme for Andrew, 2023-04-26, MtW\n",
      "File is a DHS-level summary of the Klann et al. Discovery screen, with 111,619 targeted unique DHSs. \n",
      "\n",
      "Column Descriptions\n",
      "\n",
      "DHS: ID for DHS targeted\n",
      "chrom: chromosome number of DHS\n",
      "chromStart: DHS start location in hg19 coordinates\n",
      "chromEnd: DHS end location in hg19 coordinates\n",
      "distanceToTSS: distance in bp from the midpoint of the DHS to the nearest TSS. We have been defining promoters as within 3 kb of a TSS. Note that this number is negative if the DHS is upstream of the TSS.\n",
      "NEG: specifies whether the DHS was used as a non-essential gene control. NEG is \"test\" if it was not used as a control and \"NEG\" if it was one of the DHSs in the promoter of a previously identified non-essential gene. The gRNAs within \"NEG\" DHSs were used as negative controls whose p-value distribution was forced to uniform and used to transform the DESeq2 p-values of all DHSs before aggregation.\n",
      "Discovery_dhs_allen_v3_bnd30: RRA/Allen Method p-value for this DHS, aggregating transformed DESeq2 p-values. Uses a 30% bound or a minimum bound of 3 order statistics.\n",
      "Discovery_dhs_allen_v3_bnd30_fdr_corr: Benjamini-Hochberg correction of previous. We have been defining essential DHSs as adjusted p-value < 0.05, though it is clear that plenty of essential elements have p > 0.05.\n",
      "Discovery_tW: ter Weele estimator for this DHS\n",
      "Discovery_tWvar: estimated ter Weele estimator variance for this DHS. Not sure how much this is correct."
     ]
    }
   ],
   "source": [
    "cat ${FDIRY}/2023-04-26_DHS.Summary.forAndrew_README.txt"
   ]
  },
  {
   "cell_type": "markdown",
   "id": "0ce52fa2-3e2f-4a7f-a440-c6a0e2edbb75",
   "metadata": {},
   "source": [
    "**COPY**"
   ]
  },
  {
   "cell_type": "code",
   "execution_count": 8,
   "id": "e048b689",
   "metadata": {},
   "outputs": [
    {
     "name": "stdout",
     "output_type": "stream",
     "text": [
      "2023-04-26_DHS.Summary.forAndrew.csv\n",
      "2023-04-26_DHS.Summary.forAndrew.fdr_0.1.hg38.txt\n",
      "2023-04-26_DHS.Summary.forAndrew_README.txt\n"
     ]
    }
   ],
   "source": [
    "ls /data/reddylab/Alex/collab/20181203_Tyler/data/2023_resubmission"
   ]
  },
  {
   "cell_type": "code",
   "execution_count": 9,
   "id": "e804ae6c-c3d3-4d14-ae49-0f695659f8fe",
   "metadata": {},
   "outputs": [],
   "source": [
    "cp -R /data/reddylab/Alex/collab/20181203_Tyler/data/2023_resubmission ${FD_RES}/source/CRISPRi_growth"
   ]
  },
  {
   "cell_type": "code",
   "execution_count": 10,
   "id": "296591d1-a329-4854-ad5f-ea758db9a639",
   "metadata": {},
   "outputs": [
    {
     "name": "stdout",
     "output_type": "stream",
     "text": [
      "\u001b[0m\u001b[38;5;27m2023_resubmission\u001b[0m\n",
      "\u001b[38;5;9mk562-gw-v3-all.sorted.counts.results.hg38.txt.gz\u001b[0m\n",
      "\u001b[38;5;9mk562-gw-v3-all.sorted.counts.results.top_guide_fdr_0_05.hg38.bed.gz\u001b[0m\n"
     ]
    }
   ],
   "source": [
    "ls ${FD_RES}/source/CRISPRi_growth"
   ]
  },
  {
   "cell_type": "markdown",
   "id": "2514ad78-9690-4fdb-b956-2d1866915a64",
   "metadata": {},
   "source": [
    "## Data shared by Alex"
   ]
  },
  {
   "cell_type": "markdown",
   "id": "c5a8d59d-bb95-44c6-ba60-ec9c22b4cc73",
   "metadata": {},
   "source": [
    "Alex 2023/06/02 (Fri)\n",
    ">  the DHSs with at least one guide with a FDR corrected  p-value<0.05, with hg38 DHS coordinates (N=6242)"
   ]
  },
  {
   "cell_type": "code",
   "execution_count": 11,
   "id": "b2a6c253-9f72-4601-83e8-fe650f178433",
   "metadata": {},
   "outputs": [
    {
     "name": "stdout",
     "output_type": "stream",
     "text": [
      "\u001b[0m\u001b[38;5;27m2023_resubmission\u001b[0m\n",
      "\u001b[38;5;9mk562-gw-v3-all.sorted.counts.results.hg38.txt.gz\u001b[0m\n",
      "\u001b[38;5;9mk562-gw-v3-all.sorted.counts.results.top_guide_fdr_0_05.hg38.bed.gz\u001b[0m\n"
     ]
    }
   ],
   "source": [
    "ls ${FD_RES}/source/CRISPRi_growth"
   ]
  },
  {
   "cell_type": "code",
   "execution_count": 12,
   "id": "4d4090bc-326a-49bf-8509-4c4d203ee360",
   "metadata": {},
   "outputs": [
    {
     "name": "stdout",
     "output_type": "stream",
     "text": [
      ",chrom,start,end,name,log2FoldChange,padj\n",
      "504606,chr19,11155578,11156290,chr19.1899.3,-2.5499221330448902,3.7717754464886194e-123\n",
      "686888,chr22,30356286,30357525,chr22.1285.6,-3.05990880813048,9.819760352734177e-120\n",
      "868222,chr6,34530428,34530534,chr6.2172.8,-3.10019428139202,1.2328386240784196e-117\n",
      "50002,chr1,20685850,20686283,chr1.2930.10,-2.86215844702983,9.548565386149998e-109\n",
      "811835,chr5,70924811,70925615,chr5.1649.1,-2.9271102477485402,4.298640119179999e-107\n",
      "811815,chr5,70049360,70050252,chr5.1647.1,-2.9271102477485402,4.298640119179999e-107\n",
      "386777,chr16,57462310,57463327,chr16.3065.6,-2.09481057272803,3.5842907862448394e-106\n",
      "689122,chr22,18909140,18909239,chr22.149.8,-2.42524610954485,2.6154276492962095e-105\n",
      "890582,chr6,110179101,110180607,chr6.4246.1,-3.73201679641146,2.4664637353097096e-101\n"
     ]
    }
   ],
   "source": [
    "FDIRY=${FD_RES}/source/CRISPRi_growth\n",
    "FNAME=k562-gw-v3-all.sorted.counts.results.top_guide_fdr_0_05.hg38.bed.gz\n",
    "FPATH=${FDIRY}/${FNAME}\n",
    "\n",
    "zcat ${FPATH} | head"
   ]
  },
  {
   "cell_type": "code",
   "execution_count": null,
   "id": "0634a918-d86a-42cf-ad51-34ed5b565600",
   "metadata": {},
   "outputs": [],
   "source": []
  }
 ],
 "metadata": {
  "kernelspec": {
   "display_name": "Bash",
   "language": "bash",
   "name": "bash"
  },
  "language_info": {
   "codemirror_mode": "shell",
   "file_extension": ".sh",
   "mimetype": "text/x-sh",
   "name": "bash"
  }
 },
 "nbformat": 4,
 "nbformat_minor": 5
}
