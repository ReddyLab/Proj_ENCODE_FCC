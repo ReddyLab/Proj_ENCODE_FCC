{
 "cells": [
  {
   "cell_type": "code",
   "execution_count": 1,
   "metadata": {},
   "outputs": [
    {
     "name": "stdout",
     "output_type": "stream",
     "text": [
      "You are in Singularity: singularity_proj_encode_fcc \n",
      "BASE DIRECTORY (FD_BASE): /data/reddylab/Kuei \n",
      "WORK DIRECTORY (FD_WORK): /data/reddylab/Kuei/out \n",
      "CODE DIRECTORY (FD_CODE): /data/reddylab/Kuei/code \n",
      "PATH OF PROJECT (FD_PRJ): /data/reddylab/Kuei/code/Proj_CombEffect_ENCODE_FCC \n",
      "PATH OF RESULTS (FD_RES): /data/reddylab/Kuei/out/proj_combeffect_encode_fcc \n",
      "PATH OF LOG     (FD_LOG): /data/reddylab/Kuei/out/proj_combeffect_encode_fcc/log \n"
     ]
    }
   ],
   "source": [
    "suppressMessages(suppressWarnings(source(\"../config/config_sing.R\")))\n",
    "show_env()"
   ]
  },
  {
   "cell_type": "code",
   "execution_count": 3,
   "metadata": {},
   "outputs": [
    {
     "name": "stdout",
     "output_type": "stream",
     "text": [
      "[1] 44197     6\n"
     ]
    },
    {
     "data": {
      "text/html": [
       "<table class=\"dataframe\">\n",
       "<caption>A tibble: 6 × 6</caption>\n",
       "<thead>\n",
       "\t<tr><th scope=col>X1</th><th scope=col>X2</th><th scope=col>X3</th><th scope=col>X4</th><th scope=col>X5</th><th scope=col>X6</th></tr>\n",
       "\t<tr><th scope=col>&lt;chr&gt;</th><th scope=col>&lt;dbl&gt;</th><th scope=col>&lt;dbl&gt;</th><th scope=col>&lt;chr&gt;</th><th scope=col>&lt;chr&gt;</th><th scope=col>&lt;chr&gt;</th></tr>\n",
       "</thead>\n",
       "<tbody>\n",
       "\t<tr><td>chr1</td><td>629639</td><td>629933</td><td>.</td><td>.</td><td>+</td></tr>\n",
       "\t<tr><td>chr1</td><td>631869</td><td>632014</td><td>.</td><td>.</td><td>+</td></tr>\n",
       "\t<tr><td>chr1</td><td>632233</td><td>632301</td><td>.</td><td>.</td><td>+</td></tr>\n",
       "\t<tr><td>chr1</td><td>633715</td><td>633730</td><td>.</td><td>.</td><td>+</td></tr>\n",
       "\t<tr><td>chr1</td><td>633733</td><td>633816</td><td>.</td><td>.</td><td>+</td></tr>\n",
       "\t<tr><td>chr1</td><td>633849</td><td>634021</td><td>.</td><td>.</td><td>+</td></tr>\n",
       "</tbody>\n",
       "</table>\n"
      ],
      "text/latex": [
       "A tibble: 6 × 6\n",
       "\\begin{tabular}{llllll}\n",
       " X1 & X2 & X3 & X4 & X5 & X6\\\\\n",
       " <chr> & <dbl> & <dbl> & <chr> & <chr> & <chr>\\\\\n",
       "\\hline\n",
       "\t chr1 & 629639 & 629933 & . & . & +\\\\\n",
       "\t chr1 & 631869 & 632014 & . & . & +\\\\\n",
       "\t chr1 & 632233 & 632301 & . & . & +\\\\\n",
       "\t chr1 & 633715 & 633730 & . & . & +\\\\\n",
       "\t chr1 & 633733 & 633816 & . & . & +\\\\\n",
       "\t chr1 & 633849 & 634021 & . & . & +\\\\\n",
       "\\end{tabular}\n"
      ],
      "text/markdown": [
       "\n",
       "A tibble: 6 × 6\n",
       "\n",
       "| X1 &lt;chr&gt; | X2 &lt;dbl&gt; | X3 &lt;dbl&gt; | X4 &lt;chr&gt; | X5 &lt;chr&gt; | X6 &lt;chr&gt; |\n",
       "|---|---|---|---|---|---|\n",
       "| chr1 | 629639 | 629933 | . | . | + |\n",
       "| chr1 | 631869 | 632014 | . | . | + |\n",
       "| chr1 | 632233 | 632301 | . | . | + |\n",
       "| chr1 | 633715 | 633730 | . | . | + |\n",
       "| chr1 | 633733 | 633816 | . | . | + |\n",
       "| chr1 | 633849 | 634021 | . | . | + |\n",
       "\n"
      ],
      "text/plain": [
       "  X1   X2     X3     X4 X5 X6\n",
       "1 chr1 629639 629933 .  .  + \n",
       "2 chr1 631869 632014 .  .  + \n",
       "3 chr1 632233 632301 .  .  + \n",
       "4 chr1 633715 633730 .  .  + \n",
       "5 chr1 633733 633816 .  .  + \n",
       "6 chr1 633849 634021 .  .  + "
      ]
     },
     "metadata": {},
     "output_type": "display_data"
    }
   ],
   "source": [
    "### set file path\n",
    "fdiry = file.path(FD_RES, \"source\")\n",
    "fname = \"ENCSR099CRL.ENCFF349CHI.TSS.RAMPAGE.bed.gz\"\n",
    "fpath = file.path(fdiry, fname)\n",
    "\n",
    "### read file\n",
    "dat = read_tsv(fpath, col_names = FALSE, show_col_types = FALSE)\n",
    "\n",
    "### assign and show info\n",
    "dat_encode_tss_rampage = dat\n",
    "print(dim(dat))\n",
    "head(dat)"
   ]
  },
  {
   "cell_type": "code",
   "execution_count": 4,
   "metadata": {},
   "outputs": [
    {
     "name": "stdout",
     "output_type": "stream",
     "text": [
      "[1] 63315     6\n"
     ]
    },
    {
     "data": {
      "text/html": [
       "<table class=\"dataframe\">\n",
       "<caption>A tibble: 6 × 6</caption>\n",
       "<thead>\n",
       "\t<tr><th scope=col>X1</th><th scope=col>X2</th><th scope=col>X3</th><th scope=col>X4</th><th scope=col>X5</th><th scope=col>X6</th></tr>\n",
       "\t<tr><th scope=col>&lt;chr&gt;</th><th scope=col>&lt;dbl&gt;</th><th scope=col>&lt;dbl&gt;</th><th scope=col>&lt;chr&gt;</th><th scope=col>&lt;chr&gt;</th><th scope=col>&lt;chr&gt;</th></tr>\n",
       "</thead>\n",
       "<tbody>\n",
       "\t<tr><td>chr1</td><td>629889</td><td>629939</td><td>.</td><td>.</td><td>+</td></tr>\n",
       "\t<tr><td>chr1</td><td>630294</td><td>630316</td><td>.</td><td>.</td><td>+</td></tr>\n",
       "\t<tr><td>chr1</td><td>631364</td><td>631385</td><td>.</td><td>.</td><td>+</td></tr>\n",
       "\t<tr><td>chr1</td><td>631509</td><td>631739</td><td>.</td><td>.</td><td>+</td></tr>\n",
       "\t<tr><td>chr1</td><td>633648</td><td>633656</td><td>.</td><td>.</td><td>+</td></tr>\n",
       "\t<tr><td>chr1</td><td>633993</td><td>634031</td><td>.</td><td>.</td><td>+</td></tr>\n",
       "</tbody>\n",
       "</table>\n"
      ],
      "text/latex": [
       "A tibble: 6 × 6\n",
       "\\begin{tabular}{llllll}\n",
       " X1 & X2 & X3 & X4 & X5 & X6\\\\\n",
       " <chr> & <dbl> & <dbl> & <chr> & <chr> & <chr>\\\\\n",
       "\\hline\n",
       "\t chr1 & 629889 & 629939 & . & . & +\\\\\n",
       "\t chr1 & 630294 & 630316 & . & . & +\\\\\n",
       "\t chr1 & 631364 & 631385 & . & . & +\\\\\n",
       "\t chr1 & 631509 & 631739 & . & . & +\\\\\n",
       "\t chr1 & 633648 & 633656 & . & . & +\\\\\n",
       "\t chr1 & 633993 & 634031 & . & . & +\\\\\n",
       "\\end{tabular}\n"
      ],
      "text/markdown": [
       "\n",
       "A tibble: 6 × 6\n",
       "\n",
       "| X1 &lt;chr&gt; | X2 &lt;dbl&gt; | X3 &lt;dbl&gt; | X4 &lt;chr&gt; | X5 &lt;chr&gt; | X6 &lt;chr&gt; |\n",
       "|---|---|---|---|---|---|\n",
       "| chr1 | 629889 | 629939 | . | . | + |\n",
       "| chr1 | 630294 | 630316 | . | . | + |\n",
       "| chr1 | 631364 | 631385 | . | . | + |\n",
       "| chr1 | 631509 | 631739 | . | . | + |\n",
       "| chr1 | 633648 | 633656 | . | . | + |\n",
       "| chr1 | 633993 | 634031 | . | . | + |\n",
       "\n"
      ],
      "text/plain": [
       "  X1   X2     X3     X4 X5 X6\n",
       "1 chr1 629889 629939 .  .  + \n",
       "2 chr1 630294 630316 .  .  + \n",
       "3 chr1 631364 631385 .  .  + \n",
       "4 chr1 631509 631739 .  .  + \n",
       "5 chr1 633648 633656 .  .  + \n",
       "6 chr1 633993 634031 .  .  + "
      ]
     },
     "metadata": {},
     "output_type": "display_data"
    }
   ],
   "source": [
    "### set file path\n",
    "fdiry = file.path(FD_RES, \"source\")\n",
    "fname = \"ENCSR491RPJ.ENCFF395ERE.TSS.CAGE.bed.gz\"\n",
    "fpath = file.path(fdiry, fname)\n",
    "\n",
    "### read file\n",
    "dat = read_tsv(fpath, col_names = FALSE, show_col_types = FALSE)\n",
    "\n",
    "### assign and show info\n",
    "dat_encode_tss_cage = dat\n",
    "print(dim(dat))\n",
    "head(dat)"
   ]
  },
  {
   "cell_type": "code",
   "execution_count": null,
   "metadata": {},
   "outputs": [],
   "source": []
  }
 ],
 "metadata": {
  "kernelspec": {
   "display_name": "R",
   "language": "R",
   "name": "ir"
  },
  "language_info": {
   "codemirror_mode": "r",
   "file_extension": ".r",
   "mimetype": "text/x-r-source",
   "name": "R",
   "pygments_lexer": "r",
   "version": "4.3.0"
  }
 },
 "nbformat": 4,
 "nbformat_minor": 4
}
