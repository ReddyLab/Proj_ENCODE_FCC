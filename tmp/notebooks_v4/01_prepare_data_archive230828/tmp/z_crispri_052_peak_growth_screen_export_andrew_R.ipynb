{
 "cells": [
  {
   "cell_type": "markdown",
   "metadata": {},
   "source": [
    "**Set environment**"
   ]
  },
  {
   "cell_type": "code",
   "execution_count": 1,
   "metadata": {},
   "outputs": [
    {
     "name": "stdout",
     "output_type": "stream",
     "text": [
      "You are in Singularity: singularity_proj_encode_fcc \n",
      "BASE DIRECTORY (FD_BASE): /data/reddylab/Kuei \n",
      "WORK DIRECTORY (FD_WORK): /data/reddylab/Kuei/out \n",
      "CODE DIRECTORY (FD_CODE): /data/reddylab/Kuei/code \n",
      "PATH OF PROJECT (FD_PRJ): /data/reddylab/Kuei/code/Proj_CombEffect_ENCODE_FCC \n",
      "PATH OF RESULTS (FD_RES): /data/reddylab/Kuei/out/proj_combeffect_encode_fcc \n",
      "PATH OF LOG     (FD_LOG): /data/reddylab/Kuei/out/proj_combeffect_encode_fcc/log \n"
     ]
    }
   ],
   "source": [
    "suppressWarnings(suppressMessages(source(\"../config/config_sing.R\")))\n",
    "show_env()"
   ]
  },
  {
   "cell_type": "markdown",
   "metadata": {},
   "source": [
    "**Check data**"
   ]
  },
  {
   "cell_type": "code",
   "execution_count": 2,
   "metadata": {},
   "outputs": [
    {
     "data": {
      "text/html": [
       "<style>\n",
       ".list-inline {list-style: none; margin:0; padding: 0}\n",
       ".list-inline>li {display: inline-block}\n",
       ".list-inline>li:not(:last-child)::after {content: \"\\00b7\"; padding: 0 .5ex}\n",
       "</style>\n",
       "<ol class=list-inline><li>'2023-04-26_DHS.Summary.forAndrew_README.txt'</li><li>'2023-04-26_DHS.Summary.forAndrew.csv'</li><li>'2023-04-26_DHS.Summary.forAndrew.fdr_0.1.hg38.txt'</li></ol>\n"
      ],
      "text/latex": [
       "\\begin{enumerate*}\n",
       "\\item '2023-04-26\\_DHS.Summary.forAndrew\\_README.txt'\n",
       "\\item '2023-04-26\\_DHS.Summary.forAndrew.csv'\n",
       "\\item '2023-04-26\\_DHS.Summary.forAndrew.fdr\\_0.1.hg38.txt'\n",
       "\\end{enumerate*}\n"
      ],
      "text/markdown": [
       "1. '2023-04-26_DHS.Summary.forAndrew_README.txt'\n",
       "2. '2023-04-26_DHS.Summary.forAndrew.csv'\n",
       "3. '2023-04-26_DHS.Summary.forAndrew.fdr_0.1.hg38.txt'\n",
       "\n",
       "\n"
      ],
      "text/plain": [
       "[1] \"2023-04-26_DHS.Summary.forAndrew_README.txt\"      \n",
       "[2] \"2023-04-26_DHS.Summary.forAndrew.csv\"             \n",
       "[3] \"2023-04-26_DHS.Summary.forAndrew.fdr_0.1.hg38.txt\""
      ]
     },
     "metadata": {},
     "output_type": "display_data"
    }
   ],
   "source": [
    "fdiry = \"/data/reddylab/Alex/collab/20181203_Tyler/data/2023_resubmission\"\n",
    "dir(fdiry)"
   ]
  },
  {
   "cell_type": "markdown",
   "metadata": {},
   "source": [
    "## Import data"
   ]
  },
  {
   "cell_type": "code",
   "execution_count": 3,
   "metadata": {},
   "outputs": [
    {
     "name": "stderr",
     "output_type": "stream",
     "text": [
      "\u001b[1mRows: \u001b[22m\u001b[34m1369\u001b[39m \u001b[1mColumns: \u001b[22m\u001b[34m5\u001b[39m\n",
      "\u001b[36m──\u001b[39m \u001b[1mColumn specification\u001b[22m \u001b[36m─────────────────────────────────────────────────────────────────────\u001b[39m\n",
      "\u001b[1mDelimiter:\u001b[22m \"\\t\"\n",
      "\u001b[31mchr\u001b[39m (1): chrom_hg38\n",
      "\u001b[32mdbl\u001b[39m (4): start_hg38, end_hg38, Discovery_dhs_allen_v3_bnd30_fdr_corr, Discov...\n",
      "\n",
      "\u001b[36mℹ\u001b[39m Use `spec()` to retrieve the full column specification for this data.\n",
      "\u001b[36mℹ\u001b[39m Specify the column types or set `show_col_types = FALSE` to quiet this message.\n"
     ]
    },
    {
     "name": "stdout",
     "output_type": "stream",
     "text": [
      "[1] 1369    5\n"
     ]
    },
    {
     "data": {
      "text/html": [
       "<table class=\"dataframe\">\n",
       "<caption>A tibble: 6 × 5</caption>\n",
       "<thead>\n",
       "\t<tr><th scope=col>chrom_hg38</th><th scope=col>start_hg38</th><th scope=col>end_hg38</th><th scope=col>Discovery_dhs_allen_v3_bnd30_fdr_corr</th><th scope=col>Discovery_tW</th></tr>\n",
       "\t<tr><th scope=col>&lt;chr&gt;</th><th scope=col>&lt;dbl&gt;</th><th scope=col>&lt;dbl&gt;</th><th scope=col>&lt;dbl&gt;</th><th scope=col>&lt;dbl&gt;</th></tr>\n",
       "</thead>\n",
       "<tbody>\n",
       "\t<tr><td>chr1</td><td>2391007</td><td>2392600</td><td>0.095522624</td><td>-0.2216320</td></tr>\n",
       "\t<tr><td>chr1</td><td>2575150</td><td>2575371</td><td>0.072667148</td><td>-0.3325301</td></tr>\n",
       "\t<tr><td>chr1</td><td>2973829</td><td>2974258</td><td>0.002697176</td><td>-0.5423709</td></tr>\n",
       "\t<tr><td>chr1</td><td>3162608</td><td>3162727</td><td>0.023417554</td><td>-0.3274078</td></tr>\n",
       "\t<tr><td>chr1</td><td>3292375</td><td>3292532</td><td>0.038083841</td><td>-0.4174702</td></tr>\n",
       "\t<tr><td>chr1</td><td>3351126</td><td>3351315</td><td>0.000000000</td><td>-0.3601274</td></tr>\n",
       "</tbody>\n",
       "</table>\n"
      ],
      "text/latex": [
       "A tibble: 6 × 5\n",
       "\\begin{tabular}{lllll}\n",
       " chrom\\_hg38 & start\\_hg38 & end\\_hg38 & Discovery\\_dhs\\_allen\\_v3\\_bnd30\\_fdr\\_corr & Discovery\\_tW\\\\\n",
       " <chr> & <dbl> & <dbl> & <dbl> & <dbl>\\\\\n",
       "\\hline\n",
       "\t chr1 & 2391007 & 2392600 & 0.095522624 & -0.2216320\\\\\n",
       "\t chr1 & 2575150 & 2575371 & 0.072667148 & -0.3325301\\\\\n",
       "\t chr1 & 2973829 & 2974258 & 0.002697176 & -0.5423709\\\\\n",
       "\t chr1 & 3162608 & 3162727 & 0.023417554 & -0.3274078\\\\\n",
       "\t chr1 & 3292375 & 3292532 & 0.038083841 & -0.4174702\\\\\n",
       "\t chr1 & 3351126 & 3351315 & 0.000000000 & -0.3601274\\\\\n",
       "\\end{tabular}\n"
      ],
      "text/markdown": [
       "\n",
       "A tibble: 6 × 5\n",
       "\n",
       "| chrom_hg38 &lt;chr&gt; | start_hg38 &lt;dbl&gt; | end_hg38 &lt;dbl&gt; | Discovery_dhs_allen_v3_bnd30_fdr_corr &lt;dbl&gt; | Discovery_tW &lt;dbl&gt; |\n",
       "|---|---|---|---|---|\n",
       "| chr1 | 2391007 | 2392600 | 0.095522624 | -0.2216320 |\n",
       "| chr1 | 2575150 | 2575371 | 0.072667148 | -0.3325301 |\n",
       "| chr1 | 2973829 | 2974258 | 0.002697176 | -0.5423709 |\n",
       "| chr1 | 3162608 | 3162727 | 0.023417554 | -0.3274078 |\n",
       "| chr1 | 3292375 | 3292532 | 0.038083841 | -0.4174702 |\n",
       "| chr1 | 3351126 | 3351315 | 0.000000000 | -0.3601274 |\n",
       "\n"
      ],
      "text/plain": [
       "  chrom_hg38 start_hg38 end_hg38 Discovery_dhs_allen_v3_bnd30_fdr_corr\n",
       "1 chr1       2391007    2392600  0.095522624                          \n",
       "2 chr1       2575150    2575371  0.072667148                          \n",
       "3 chr1       2973829    2974258  0.002697176                          \n",
       "4 chr1       3162608    3162727  0.023417554                          \n",
       "5 chr1       3292375    3292532  0.038083841                          \n",
       "6 chr1       3351126    3351315  0.000000000                          \n",
       "  Discovery_tW\n",
       "1 -0.2216320  \n",
       "2 -0.3325301  \n",
       "3 -0.5423709  \n",
       "4 -0.3274078  \n",
       "5 -0.4174702  \n",
       "6 -0.3601274  "
      ]
     },
     "metadata": {},
     "output_type": "display_data"
    }
   ],
   "source": [
    "fdiry = \"/data/reddylab/Alex/collab/20181203_Tyler/data/2023_resubmission\"\n",
    "fname = \"2023-04-26_DHS.Summary.forAndrew.fdr_0.1.hg38.txt\"\n",
    "fpath = file.path(fdiry, fname)\n",
    "\n",
    "dat = read_tsv(fpath)\n",
    "dat = dat %>% dplyr::arrange(chrom_hg38, start_hg38, end_hg38)\n",
    "\n",
    "dat_peak_crispri_growth_fdr = dat\n",
    "print(dim(dat))\n",
    "head(dat)"
   ]
  },
  {
   "cell_type": "markdown",
   "metadata": {},
   "source": [
    "## setup data dictionary"
   ]
  },
  {
   "cell_type": "code",
   "execution_count": 4,
   "metadata": {},
   "outputs": [
    {
     "data": {
      "text/html": [
       "<table class=\"dataframe\">\n",
       "<caption>A tibble: 5 × 2</caption>\n",
       "<thead>\n",
       "\t<tr><th scope=col>Name</th><th scope=col>Description</th></tr>\n",
       "\t<tr><th scope=col>&lt;chr&gt;</th><th scope=col>&lt;chr&gt;</th></tr>\n",
       "</thead>\n",
       "<tbody>\n",
       "\t<tr><td>Chrom                                </td><td>Chromosome                                                                                                                   </td></tr>\n",
       "\t<tr><td>Start                                </td><td>Start position                                                                                                               </td></tr>\n",
       "\t<tr><td>End                                  </td><td>End position                                                                                                                 </td></tr>\n",
       "\t<tr><td>Discovery_dhs_allen_v3_bnd30_fdr_corr</td><td>Benjamini-Hochbery correction of RRA/Allen Method p-value for DHS; the p-value is aggregated from transformed DESeq2 p-values</td></tr>\n",
       "\t<tr><td>Discovery_tW                         </td><td>ter Weele estimator for this DHS                                                                                             </td></tr>\n",
       "</tbody>\n",
       "</table>\n"
      ],
      "text/latex": [
       "A tibble: 5 × 2\n",
       "\\begin{tabular}{ll}\n",
       " Name & Description\\\\\n",
       " <chr> & <chr>\\\\\n",
       "\\hline\n",
       "\t Chrom                                 & Chromosome                                                                                                                   \\\\\n",
       "\t Start                                 & Start position                                                                                                               \\\\\n",
       "\t End                                   & End position                                                                                                                 \\\\\n",
       "\t Discovery\\_dhs\\_allen\\_v3\\_bnd30\\_fdr\\_corr & Benjamini-Hochbery correction of RRA/Allen Method p-value for DHS; the p-value is aggregated from transformed DESeq2 p-values\\\\\n",
       "\t Discovery\\_tW                          & ter Weele estimator for this DHS                                                                                             \\\\\n",
       "\\end{tabular}\n"
      ],
      "text/markdown": [
       "\n",
       "A tibble: 5 × 2\n",
       "\n",
       "| Name &lt;chr&gt; | Description &lt;chr&gt; |\n",
       "|---|---|\n",
       "| Chrom                                 | Chromosome                                                                                                                    |\n",
       "| Start                                 | Start position                                                                                                                |\n",
       "| End                                   | End position                                                                                                                  |\n",
       "| Discovery_dhs_allen_v3_bnd30_fdr_corr | Benjamini-Hochbery correction of RRA/Allen Method p-value for DHS; the p-value is aggregated from transformed DESeq2 p-values |\n",
       "| Discovery_tW                          | ter Weele estimator for this DHS                                                                                              |\n",
       "\n"
      ],
      "text/plain": [
       "  Name                                 \n",
       "1 Chrom                                \n",
       "2 Start                                \n",
       "3 End                                  \n",
       "4 Discovery_dhs_allen_v3_bnd30_fdr_corr\n",
       "5 Discovery_tW                         \n",
       "  Description                                                                                                                  \n",
       "1 Chromosome                                                                                                                   \n",
       "2 Start position                                                                                                               \n",
       "3 End position                                                                                                                 \n",
       "4 Benjamini-Hochbery correction of RRA/Allen Method p-value for DHS; the p-value is aggregated from transformed DESeq2 p-values\n",
       "5 ter Weele estimator for this DHS                                                                                             "
      ]
     },
     "metadata": {},
     "output_type": "display_data"
    }
   ],
   "source": [
    "dat_cnames = tribble(\n",
    "    ~Name,         ~Description,\n",
    "    \"Chrom\",       \"Chromosome\",\n",
    "    \"Start\",       \"Start position\",\n",
    "    \"End\",         \"End position\",\n",
    "    \"Discovery_dhs_allen_v3_bnd30_fdr_corr\", \n",
    "    \"Benjamini-Hochbery correction of RRA/Allen Method p-value for DHS; the p-value is aggregated from transformed DESeq2 p-values\",\n",
    "    \"Discovery_tW\",\n",
    "    \"ter Weele estimator for this DHS\"\n",
    ")\n",
    "\n",
    "dat_cnames"
   ]
  },
  {
   "cell_type": "markdown",
   "metadata": {},
   "source": [
    "## Save results"
   ]
  },
  {
   "cell_type": "code",
   "execution_count": 5,
   "metadata": {},
   "outputs": [],
   "source": [
    "fdiry = file.path(FD_RES, \"results\", \"region\", \"annotation_crispri_growth\")\n",
    "fname = \"description.tsv\"\n",
    "fpath = file.path(fdiry, fname)\n",
    "\n",
    "dat = dat_cnames\n",
    "write_tsv(dat, fpath)"
   ]
  },
  {
   "cell_type": "code",
   "execution_count": 6,
   "metadata": {},
   "outputs": [],
   "source": [
    "fdiry = file.path(FD_RES, \"results\", \"region\", \"annotation_crispri_growth\")\n",
    "fname = \"crispri_growth_dhs.bed.gz\"\n",
    "fpath = file.path(fdiry, fname)\n",
    "\n",
    "dat = dat_peak_crispri_growth_fdr\n",
    "write_tsv(dat, fpath, col_names = FALSE)"
   ]
  },
  {
   "cell_type": "code",
   "execution_count": null,
   "metadata": {},
   "outputs": [],
   "source": []
  }
 ],
 "metadata": {
  "kernelspec": {
   "display_name": "R (alex_py3)",
   "language": "R",
   "name": "ir_alex_py3"
  },
  "language_info": {
   "codemirror_mode": "r",
   "file_extension": ".r",
   "mimetype": "text/x-r-source",
   "name": "R",
   "pygments_lexer": "r",
   "version": "4.3.0"
  }
 },
 "nbformat": 4,
 "nbformat_minor": 4
}
