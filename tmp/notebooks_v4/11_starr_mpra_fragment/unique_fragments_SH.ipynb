{
 "cells": [
  {
   "cell_type": "code",
   "execution_count": 14,
   "id": "d9374914-85be-460d-a59a-db68212652a1",
   "metadata": {},
   "outputs": [
    {
     "name": "stdout",
     "output_type": "stream",
     "text": [
      "You are on Duke Server: HARDAC\n",
      "BASE DIRECTORY (FD_BASE): /data/reddylab/Kuei\n",
      "WORK DIRECTORY (FD_WORK): /data/reddylab/Kuei/out\n",
      "CODE DIRECTORY (FD_CODE): /data/reddylab/Kuei/code\n",
      "SING DIRECTORY (FD_SING): /data/reddylab/Kuei/singularity\n",
      "PATH OF PROJECT (FD_PRJ): /data/reddylab/Kuei/code/Proj_CombEffect_ENCODE_FCC\n",
      "PATH OF RESULTS (FD_RES): /data/reddylab/Kuei/out/proj_combeffect_encode_fcc\n",
      "PATH OF LOG     (FD_LOG): /data/reddylab/Kuei/out/proj_combeffect_encode_fcc/log\n",
      "\n"
     ]
    }
   ],
   "source": [
    "source ../config/config_duke.sh\n",
    "source ../config/config_load_module_bedtools.sh\n",
    "show_env"
   ]
  },
  {
   "cell_type": "code",
   "execution_count": 16,
   "id": "b62769b9-8153-4691-90df-808ea976ba39",
   "metadata": {},
   "outputs": [
    {
     "name": "stdout",
     "output_type": "stream",
     "text": [
      "\u001b[0m\u001b[38;5;9mA001-input-K562-rep1.masked.dedup.fragments.counts.txt.gz\u001b[0m\n",
      "\u001b[38;5;9mA001-input-K562-rep2.masked.dedup.fragments.counts.txt.gz\u001b[0m\n",
      "\u001b[38;5;9mA001-input-K562-rep3.masked.dedup.fragments.counts.txt.gz\u001b[0m\n",
      "\u001b[38;5;9mA001-input-K562-rep4.masked.dedup.fragments.counts.txt.gz\u001b[0m\n",
      "\u001b[38;5;9mA001-K562-rep1.masked.dedup.fragments.counts.txt.gz\u001b[0m\n",
      "\u001b[38;5;9mA001-K562-rep2.masked.dedup.fragments.counts.txt.gz\u001b[0m\n",
      "\u001b[38;5;9mA001-K562-rep3.masked.dedup.fragments.counts.txt.gz\u001b[0m\n",
      "md5sums_check.txt\n",
      "md5sums_source.txt\n"
     ]
    }
   ],
   "source": [
    "ls ${FD_RES}/source/A001_K562_wstarrseq_fragments_wgs"
   ]
  },
  {
   "cell_type": "code",
   "execution_count": 17,
   "id": "90b67d51-33c2-49ae-a2b9-57e61d24e7b8",
   "metadata": {},
   "outputs": [
    {
     "name": "stdout",
     "output_type": "stream",
     "text": [
      "\u001b[0m\u001b[38;5;9mKS91_K562_hg38_ASTARRseq_Input_rep1.masked.dedup.fragments.counts.txt.gz\u001b[0m\n",
      "\u001b[38;5;9mKS91_K562_hg38_ASTARRseq_Input_rep2.masked.dedup.fragments.counts.txt.gz\u001b[0m\n",
      "\u001b[38;5;9mKS91_K562_hg38_ASTARRseq_Input_rep3.masked.dedup.fragments.counts.txt.gz\u001b[0m\n",
      "\u001b[38;5;9mKS91_K562_hg38_ASTARRseq_Input_rep4.masked.dedup.fragments.counts.txt.gz\u001b[0m\n",
      "\u001b[38;5;9mKS91_K562_hg38_ASTARRseq_Input_rep5.masked.dedup.fragments.counts.txt.gz\u001b[0m\n",
      "\u001b[38;5;9mKS91_K562_hg38_ASTARRseq_Input_rep6.masked.dedup.fragments.counts.txt.gz\u001b[0m\n",
      "\u001b[38;5;9mKS91_K562_hg38_ASTARRseq_Output_rep1.f3q10.fragments.counts.txt.gz\u001b[0m\n",
      "\u001b[38;5;9mKS91_K562_hg38_ASTARRseq_Output_rep2.f3q10.fragments.counts.txt.gz\u001b[0m\n",
      "\u001b[38;5;9mKS91_K562_hg38_ASTARRseq_Output_rep3.f3q10.fragments.counts.txt.gz\u001b[0m\n",
      "\u001b[38;5;9mKS91_K562_hg38_ASTARRseq_Output_rep4.f3q10.fragments.counts.txt.gz\u001b[0m\n",
      "md5sums_check.txt\n",
      "md5sums_source.txt\n"
     ]
    }
   ],
   "source": [
    "ls ${FD_RES}/source/KS91_K562_astarrseq_fragments_wgs"
   ]
  },
  {
   "cell_type": "code",
   "execution_count": null,
   "id": "05e205fd-00bf-4c12-8b00-7363411c6ad1",
   "metadata": {},
   "outputs": [],
   "source": []
  },
  {
   "cell_type": "code",
   "execution_count": 20,
   "id": "d6a47a3e-0f5b-4979-8f7a-21c4dfad0ed2",
   "metadata": {},
   "outputs": [],
   "source": [
    "FP_OUT=test.bed"
   ]
  },
  {
   "cell_type": "code",
   "execution_count": 19,
   "id": "b7ff0900-3989-4ebe-9195-30b70fecfd0d",
   "metadata": {},
   "outputs": [
    {
     "name": "stdout",
     "output_type": "stream",
     "text": [
      "chr1\t10335\t10549\n",
      "chr1\t16983\t17500\n",
      "chr1\t16985\t17499\n",
      "chr1\t17004\t17500\n",
      "chr1\t17483\t17898\n",
      "chr1\t17487\t17941\n",
      "chr1\t33606\t33997\n",
      "chr1\t33617\t33997\n",
      "chr1\t38785\t39226\n",
      "chr1\t46328\t46678\n"
     ]
    }
   ],
   "source": [
    "FDIRY=${FD_RES}/source/A001_K562_wstarrseq_fragments_wgs\n",
    "FNAME=A001-input-K562-rep1.masked.dedup.fragments.counts.txt.gz\n",
    "FPATH=${FDIRY}/${FNAME}\n",
    "zcat ${FPATH} | head | cut -f1-3"
   ]
  },
  {
   "cell_type": "code",
   "execution_count": 32,
   "id": "d0160bc8-476e-45af-bba5-2544943ac077",
   "metadata": {},
   "outputs": [
    {
     "name": "stdout",
     "output_type": "stream",
     "text": [
      "a\n",
      "b\n",
      "c\n"
     ]
    }
   ],
   "source": [
    "cat > test.txt << EOF\n",
    "a\n",
    "a\n",
    "a\n",
    "b\n",
    "b\n",
    "c\n",
    "EOF\n",
    "\n",
    "cat test.txt | sort | uniq"
   ]
  },
  {
   "cell_type": "code",
   "execution_count": 38,
   "id": "df2e8ea0-e618-4418-b855-7020d20fba5b",
   "metadata": {},
   "outputs": [],
   "source": [
    "cat /dev/null > test.txt\n",
    "cat test.txt"
   ]
  },
  {
   "cell_type": "code",
   "execution_count": 39,
   "id": "59fbf5d1-415a-4e71-92d5-f9e381711726",
   "metadata": {},
   "outputs": [
    {
     "name": "stdout",
     "output_type": "stream",
     "text": [
      "A\n"
     ]
    }
   ],
   "source": [
    "echo \"A\" >> test.txt\n",
    "cat test.txt"
   ]
  },
  {
   "cell_type": "markdown",
   "id": "83acd58f-ff2a-4e61-8271-a5a88ca303dc",
   "metadata": {},
   "source": [
    "**Check data**"
   ]
  },
  {
   "cell_type": "code",
   "execution_count": 13,
   "id": "8c954aca-d97c-41ac-88d9-a66ca3c806d9",
   "metadata": {},
   "outputs": [
    {
     "name": "stdout",
     "output_type": "stream",
     "text": [
      "\u001b[0m\u001b[38;5;27m/data/reddylab/Kuei/out/proj_combeffect_encode_fcc/results/A001_K562_WSTARRseq/fragment\u001b[0m\u001b[K\n",
      "/data/reddylab/Alex/encode4_duke/data/starr_seq/fragments/A001-input-K562-rep1.masked.dedup.fragments.counts.txt.gz\n",
      "/data/reddylab/Alex/encode4_duke/data/starr_seq/fragments/A001-input-K562-rep2.masked.dedup.fragments.counts.txt.gz\n",
      "/data/reddylab/Alex/encode4_duke/data/starr_seq/fragments/A001-input-K562-rep3.masked.dedup.fragments.counts.txt.gz\n",
      "/data/reddylab/Alex/encode4_duke/data/starr_seq/fragments/A001-input-K562-rep4.masked.dedup.fragments.counts.txt.gz\n",
      "/data/reddylab/Alex/encode4_duke/data/starr_seq/fragments/A001-K562-rep1.masked.dedup.fragments.counts.txt.gz\n",
      "/data/reddylab/Alex/encode4_duke/data/starr_seq/fragments/A001-K562-rep2.masked.dedup.fragments.counts.txt.gz\n",
      "/data/reddylab/Alex/encode4_duke/data/starr_seq/fragments/A001-K562-rep3.masked.dedup.fragments.counts.txt.gz\n"
     ]
    }
   ],
   "source": [
    "FD_OUT=${FD_RES}/results/A001_K562_WSTARRseq/fragment\n",
    "FP_INPS=(${FP_WGS_WSTARR[@]})\n",
    "\n",
    "ls -d ${FD_OUT}\n",
    "\n",
    "for FP_INP in ${FP_INPS[@]}; do\n",
    "    echo ${FP_INP}\n",
    "done"
   ]
  },
  {
   "cell_type": "code",
   "execution_count": 12,
   "id": "767c5a55-182f-4672-8bef-97c8dfbd7648",
   "metadata": {},
   "outputs": [
    {
     "name": "stdout",
     "output_type": "stream",
     "text": [
      "\u001b[0m\u001b[38;5;27m/data/reddylab/Kuei/out/proj_combeffect_encode_fcc/results/KS91_K562_ASTARRseq/fragment\u001b[0m\u001b[K\n",
      "/data/reddylab/Alex/encode4_duke/processing/atac_seq/210401_KS91_K562ASTARR_NovaSeq.hg38-pe-blacklist-removal/merged2/KS91_K562_hg38_ASTARRseq_Input_rep1.masked.dedup.fragments.counts.txt.gz\n",
      "/data/reddylab/Alex/encode4_duke/processing/atac_seq/210401_KS91_K562ASTARR_NovaSeq.hg38-pe-blacklist-removal/merged2/KS91_K562_hg38_ASTARRseq_Input_rep2.masked.dedup.fragments.counts.txt.gz\n",
      "/data/reddylab/Alex/encode4_duke/processing/atac_seq/210401_KS91_K562ASTARR_NovaSeq.hg38-pe-blacklist-removal/merged2/KS91_K562_hg38_ASTARRseq_Input_rep3.masked.dedup.fragments.counts.txt.gz\n",
      "/data/reddylab/Alex/encode4_duke/processing/atac_seq/210401_KS91_K562ASTARR_NovaSeq.hg38-pe-blacklist-removal/merged2/KS91_K562_hg38_ASTARRseq_Input_rep4.masked.dedup.fragments.counts.txt.gz\n",
      "/data/reddylab/Alex/encode4_duke/processing/atac_seq/210401_KS91_K562ASTARR_NovaSeq.hg38-pe-blacklist-removal/merged2/KS91_K562_hg38_ASTARRseq_Input_rep5.masked.dedup.fragments.counts.txt.gz\n",
      "/data/reddylab/Alex/encode4_duke/processing/atac_seq/210401_KS91_K562ASTARR_NovaSeq.hg38-pe-blacklist-removal/merged2/KS91_K562_hg38_ASTARRseq_Input_rep6.masked.dedup.fragments.counts.txt.gz\n",
      "/data/reddylab/Alex/encode4_duke/processing/starr_seq/210401_KS91_K562ASTARR_NovaSeq.hg38-pe-umis/KS91_K562_hg38_ASTARRseq_Output_rep1.f3q10.fragments.counts.txt.gz\n",
      "/data/reddylab/Alex/encode4_duke/processing/starr_seq/210401_KS91_K562ASTARR_NovaSeq.hg38-pe-umis/KS91_K562_hg38_ASTARRseq_Output_rep2.f3q10.fragments.counts.txt.gz\n",
      "/data/reddylab/Alex/encode4_duke/processing/starr_seq/210401_KS91_K562ASTARR_NovaSeq.hg38-pe-umis/KS91_K562_hg38_ASTARRseq_Output_rep3.f3q10.fragments.counts.txt.gz\n",
      "/data/reddylab/Alex/encode4_duke/processing/starr_seq/210401_KS91_K562ASTARR_NovaSeq.hg38-pe-umis/KS91_K562_hg38_ASTARRseq_Output_rep4.f3q10.fragments.counts.txt.gz\n"
     ]
    }
   ],
   "source": [
    "FD_OUT=${FD_RES}/results/KS91_K562_ASTARRseq/fragment\n",
    "FP_INPS=(${FP_WGS_ASTARR[@]})\n",
    "\n",
    "ls -d ${FD_OUT}\n",
    "\n",
    "for FP_INP in ${FP_INPS[@]}; do\n",
    "    echo ${FP_INP}\n",
    "done"
   ]
  },
  {
   "cell_type": "markdown",
   "id": "a71a2c11-24e4-43ef-861f-830c93d25162",
   "metadata": {},
   "source": [
    "**Execute**"
   ]
  },
  {
   "cell_type": "code",
   "execution_count": 55,
   "id": "dc1ad866-571f-4835-a983-272f066146e6",
   "metadata": {},
   "outputs": [
    {
     "name": "stdout",
     "output_type": "stream",
     "text": [
      "Submitted batch job 29931519\n"
     ]
    }
   ],
   "source": [
    "sbatch -p ${NODE} \\\n",
    "    --exclude=dl-01 \\\n",
    "    --cpus-per-task 8 \\\n",
    "    --mem 20G \\\n",
    "    --output ${FD_LOG}/unique_fragments_astarr.%a.txt \\\n",
    "    --array 0 \\\n",
    "    <<'EOF'\n",
    "#!/bin/bash\n",
    "\n",
    "### print start message\n",
    "timer_start=`date +%s`\n",
    "echo \"Hostname:          \" $(hostname)\n",
    "echo \"Slurm Array Index: \" ${SLURM_ARRAY_TASK_ID}\n",
    "echo \"Time Stamp:        \" $(date +\"%m-%d-%y+%T\")\n",
    "echo\n",
    "\n",
    "### setup input and output\n",
    "source ../config/config_duke.sh\n",
    "\n",
    "FD_INP=${FD_RES}/source/KS91_K562_astarrseq_fragments_wgs\n",
    "FP_INPS=($(ls ${FD_INP}/*.counts.txt.gz))\n",
    "\n",
    "ASSAY=KS91_K562_ASTARRseq\n",
    "FD_FRG=${FD_RES}/results/${ASSAY}/fragment\n",
    "FN_FRG_TOT=${ASSAY}.WGS.unstranded.bed\n",
    "FN_FRG_UNI=${ASSAY}.WGS.unstranded.uniq.bed.gz\n",
    "FP_FRG_TOT=${FD_FRG}/${FN_FRG_TOT}\n",
    "FP_FRG_UNI=${FD_FRG}/${FN_FRG_UNI}\n",
    "\n",
    "### show I/O file\n",
    "echo \"show first few lines of input\"\n",
    "echo\n",
    "for FP_INP in ${FP_INPS[@]}; do\n",
    "    echo \"Input: \" ${FP_INP}\n",
    "    zcat ${FP_INP} | head -n 3\n",
    "    echo\n",
    "done\n",
    "\n",
    "### execute: combine all fragment files\n",
    "cat /dev/null > ${FP_FRG_TOT}\n",
    "for FP_INP in ${FP_INPS[@]}; do\n",
    "    zcat ${FP_INP} | cut -f1-4 >> ${FP_FRG_TOT}\n",
    "done\n",
    "\n",
    "### execute: unique the file\n",
    "cat ${FP_FRG_TOT} \\\n",
    "| sort -k 1,1 -k2,2n \\\n",
    "| uniq \\\n",
    "| gzip -c \\\n",
    "> ${FP_FRG_UNI}\n",
    "\n",
    "### execute: calculate number of lines\n",
    "echo \"Number of unique fragments:\"\n",
    "wc -l ${FP_FRG_UNI}\n",
    "echo\n",
    "\n",
    "### show output file\n",
    "echo \"show first few lines of output:\"\n",
    "echo\n",
    "echo \"Output: \" ${FP_FRG_UNI}\n",
    "zcat ${FP_FRG_UNI} | head -5\n",
    "echo\n",
    "\n",
    "### print end message\n",
    "timer=`date +%s`\n",
    "runtime=$(echo \"${timer} - ${timer_start}\" | bc -l)\n",
    "echo\n",
    "echo 'Done!'\n",
    "echo \"Run Time: $(displaytime ${runtime})\"\n",
    "\n",
    "EOF"
   ]
  },
  {
   "cell_type": "markdown",
   "id": "085529e3-ff14-4ed2-83a0-68c073fb4330",
   "metadata": {},
   "source": [
    "**Check results**"
   ]
  },
  {
   "cell_type": "code",
   "execution_count": 56,
   "id": "fbeae1c0-79af-42aa-b3e7-8363d01e618c",
   "metadata": {},
   "outputs": [
    {
     "name": "stdout",
     "output_type": "stream",
     "text": [
      "Hostname:           x1-02-4.genome.duke.edu\n",
      "Slurm Array Index:  0\n",
      "Time Stamp:         06-07-23+22:21:10\n",
      "\n",
      "show first few lines of input\n",
      "\n",
      "Input:  /data/reddylab/Kuei/out/proj_combeffect_encode_fcc/source/KS91_K562_astarrseq_fragments_wgs/KS91_K562_hg38_ASTARRseq_Input_rep1.masked.dedup.fragments.counts.txt.gz\n",
      "chr1\t10001\t10143\tchr1_10001_10143\t1\t.\n",
      "chr1\t10002\t10118\tchr1_10002_10118\t1\t.\n",
      "chr1\t10002\t10131\tchr1_10002_10131\t1\t.\n",
      "\n",
      "Input:  /data/reddylab/Kuei/out/proj_combeffect_encode_fcc/source/KS91_K562_astarrseq_fragments_wgs/KS91_K562_hg38_ASTARRseq_Input_rep2.masked.dedup.fragments.counts.txt.gz\n",
      "chr1\t10001\t10233\tchr1_10001_10233\t1\t.\n",
      "chr1\t10001\t10351\tchr1_10001_10351\t1\t.\n",
      "chr1\t10002\t10119\tchr1_10002_10119\t1\t.\n",
      "\n",
      "Input:  /data/reddylab/Kuei/out/proj_combeffect_encode_fcc/source/KS91_K562_astarrseq_fragments_wgs/KS91_K562_hg38_ASTARRseq_Input_rep3.masked.dedup.fragments.counts.txt.gz\n",
      "chr1\t10001\t10203\tchr1_10001_10203\t1\t.\n",
      "chr1\t10002\t10113\tchr1_10002_10113\t1\t.\n",
      "chr1\t10002\t10131\tchr1_10002_10131\t1\t.\n",
      "\n",
      "Input:  /data/reddylab/Kuei/out/proj_combeffect_encode_fcc/source/KS91_K562_astarrseq_fragments_wgs/KS91_K562_hg38_ASTARRseq_Input_rep4.masked.dedup.fragments.counts.txt.gz\n",
      "chr1\t10001\t10125\tchr1_10001_10125\t1\t.\n",
      "chr1\t10001\t10326\tchr1_10001_10326\t1\t.\n",
      "chr1\t10002\t10119\tchr1_10002_10119\t1\t.\n",
      "\n",
      "Input:  /data/reddylab/Kuei/out/proj_combeffect_encode_fcc/source/KS91_K562_astarrseq_fragments_wgs/KS91_K562_hg38_ASTARRseq_Input_rep5.masked.dedup.fragments.counts.txt.gz\n",
      "chr1\t10001\t10119\tchr1_10001_10119\t1\t.\n",
      "chr1\t10001\t10131\tchr1_10001_10131\t1\t.\n",
      "chr1\t10001\t10215\tchr1_10001_10215\t1\t.\n",
      "\n",
      "Input:  /data/reddylab/Kuei/out/proj_combeffect_encode_fcc/source/KS91_K562_astarrseq_fragments_wgs/KS91_K562_hg38_ASTARRseq_Input_rep6.masked.dedup.fragments.counts.txt.gz\n",
      "chr1\t10001\t10119\tchr1_10001_10119\t1\t.\n",
      "chr1\t10001\t10143\tchr1_10001_10143\t1\t.\n",
      "chr1\t10002\t10119\tchr1_10002_10119\t1\t.\n",
      "\n",
      "Input:  /data/reddylab/Kuei/out/proj_combeffect_encode_fcc/source/KS91_K562_astarrseq_fragments_wgs/KS91_K562_hg38_ASTARRseq_Output_rep1.f3q10.fragments.counts.txt.gz\n",
      "chr1\t10057\t10233\tchr1_10057_10233\t2\t.\n",
      "chr1\t10188\t10442\tchr1_10188_10442\t1\t.\n",
      "chr1\t10285\t10349\tchr1_10285_10349\t1\t.\n",
      "\n",
      "Input:  /data/reddylab/Kuei/out/proj_combeffect_encode_fcc/source/KS91_K562_astarrseq_fragments_wgs/KS91_K562_hg38_ASTARRseq_Output_rep2.f3q10.fragments.counts.txt.gz\n",
      "chr1\t10051\t10233\tchr1_10051_10233\t1\t.\n",
      "chr1\t10056\t10233\tchr1_10056_10233\t1\t.\n",
      "chr1\t10057\t10233\tchr1_10057_10233\t5\t.\n",
      "\n",
      "Input:  /data/reddylab/Kuei/out/proj_combeffect_encode_fcc/source/KS91_K562_astarrseq_fragments_wgs/KS91_K562_hg38_ASTARRseq_Output_rep3.f3q10.fragments.counts.txt.gz\n",
      "chr1\t10057\t10233\tchr1_10057_10233\t2\t.\n",
      "chr1\t10087\t10412\tchr1_10087_10412\t1\t.\n",
      "chr1\t10342\t10452\tchr1_10342_10452\t1\t.\n",
      "\n",
      "Input:  /data/reddylab/Kuei/out/proj_combeffect_encode_fcc/source/KS91_K562_astarrseq_fragments_wgs/KS91_K562_hg38_ASTARRseq_Output_rep4.f3q10.fragments.counts.txt.gz\n",
      "chr1\t10033\t10130\tchr1_10033_10130\t1\t.\n",
      "chr1\t10057\t10233\tchr1_10057_10233\t3\t.\n",
      "chr1\t10104\t10345\tchr1_10104_10345\t1\t.\n",
      "\n",
      "Number of unique fragments:\n",
      "18034187 /data/reddylab/Kuei/out/proj_combeffect_encode_fcc/results/KS91_K562_ASTARRseq/fragment/KS91_K562_ASTARRseq.WGS.unstranded.uniq.bed.gz\n",
      "\n",
      "show first few lines of output:\n",
      "\n",
      "Output:  /data/reddylab/Kuei/out/proj_combeffect_encode_fcc/results/KS91_K562_ASTARRseq/fragment/KS91_K562_ASTARRseq.WGS.unstranded.uniq.bed.gz\n",
      "chr1\t10001\t10119\tchr1_10001_10119\n",
      "chr1\t10001\t10125\tchr1_10001_10125\n",
      "chr1\t10001\t10131\tchr1_10001_10131\n",
      "chr1\t10001\t10143\tchr1_10001_10143\n",
      "chr1\t10001\t10203\tchr1_10001_10203\n",
      "\n",
      "\n",
      "Done!\n",
      "Run Time: 23 hours 16 minutes and 36 seconds\n"
     ]
    }
   ],
   "source": [
    "cat ${FD_LOG}/unique_fragments_astarr.0.txt"
   ]
  },
  {
   "cell_type": "markdown",
   "id": "2e2cfc5a-c62f-4216-ac21-70f542498245",
   "metadata": {},
   "source": [
    "**Execute**"
   ]
  },
  {
   "cell_type": "code",
   "execution_count": 54,
   "id": "e736f4a9-32c7-4944-9a3c-1905252ae0ca",
   "metadata": {},
   "outputs": [
    {
     "name": "stdout",
     "output_type": "stream",
     "text": [
      "Submitted batch job 29931518\n"
     ]
    }
   ],
   "source": [
    "sbatch -p ${NODE} \\\n",
    "    --exclude=dl-01 \\\n",
    "    --cpus-per-task 8 \\\n",
    "    --mem 20G \\\n",
    "    --output ${FD_LOG}/unique_fragments_wstarr.%a.txt \\\n",
    "    --array 0 \\\n",
    "    <<'EOF'\n",
    "#!/bin/bash\n",
    "\n",
    "### print start message\n",
    "timer_start=`date +%s`\n",
    "echo \"Hostname:          \" $(hostname)\n",
    "echo \"Slurm Array Index: \" ${SLURM_ARRAY_TASK_ID}\n",
    "echo \"Time Stamp:        \" $(date +\"%m-%d-%y+%T\")\n",
    "echo\n",
    "\n",
    "### setup input and output\n",
    "source ../config/config_duke.sh\n",
    "\n",
    "FD_INP=${FD_RES}/source/A001_K562_wstarrseq_fragments_wgs\n",
    "FP_INPS=($(ls ${FD_INP}/*.counts.txt.gz))\n",
    "\n",
    "ASSAY=A001_K562_WSTARRseq\n",
    "FD_FRG=${FD_RES}/results/${ASSAY}/fragment\n",
    "FN_FRG_TOT=${ASSAY}.WGS.unstranded.bed\n",
    "FN_FRG_UNI=${ASSAY}.WGS.unstranded.uniq.bed.gz\n",
    "FP_FRG_TOT=${FD_FRG}/${FN_FRG_TOT}\n",
    "FP_FRG_UNI=${FD_FRG}/${FN_FRG_UNI}\n",
    "\n",
    "### show I/O file\n",
    "echo \"show first few lines of input\"\n",
    "echo\n",
    "for FP_INP in ${FP_INPS[@]}; do\n",
    "    echo \"Input: \" ${FP_INP}\n",
    "    zcat ${FP_INP} | head -n 3\n",
    "    echo\n",
    "done\n",
    "\n",
    "### execute: combine all fragment files\n",
    "cat /dev/null > ${FP_FRG_TOT}\n",
    "for FP_INP in ${FP_INPS[@]}; do\n",
    "    zcat ${FP_INP} | cut -f1-4 >> ${FP_FRG_TOT}\n",
    "done\n",
    "\n",
    "### execute: unique the file\n",
    "cat ${FP_FRG_TOT} \\\n",
    "| sort -k 1,1 -k2,2n \\\n",
    "| uniq \\\n",
    "| gzip -c \\\n",
    "> ${FP_FRG_UNI}\n",
    "\n",
    "### execute: calculate number of lines\n",
    "echo \"Number of unique fragments:\"\n",
    "wc -l ${FP_FRG_UNI}\n",
    "echo\n",
    "\n",
    "### show output file\n",
    "echo \"show first few lines of output:\"\n",
    "echo\n",
    "echo \"Output: \" ${FP_FRG_UNI}\n",
    "zcat ${FP_FRG_UNI} | head -5\n",
    "echo\n",
    "\n",
    "### print end message\n",
    "timer=`date +%s`\n",
    "runtime=$(echo \"${timer} - ${timer_start}\" | bc -l)\n",
    "echo\n",
    "echo 'Done!'\n",
    "echo \"Run Time: $(displaytime ${runtime})\"\n",
    "\n",
    "EOF"
   ]
  },
  {
   "cell_type": "markdown",
   "id": "dd6f13bd-1768-4ac6-904e-a39076d34148",
   "metadata": {},
   "source": [
    "**Check results**"
   ]
  },
  {
   "cell_type": "code",
   "execution_count": 53,
   "id": "d9a9e8ab-491a-4ae5-a109-deeedc1e8ee4",
   "metadata": {},
   "outputs": [
    {
     "name": "stdout",
     "output_type": "stream",
     "text": [
      "Hostname:           x1-02-4.genome.duke.edu\n",
      "Slurm Array Index:  0\n",
      "Time Stamp:         06-07-23+22:20:10\n",
      "\n",
      "show first few lines of input\n",
      "\n",
      "Input:  /data/reddylab/Kuei/out/proj_combeffect_encode_fcc/source/A001_K562_wstarrseq_fragments_wgs/A001-input-K562-rep1.masked.dedup.fragments.counts.txt.gz\n",
      "chr1\t10335\t10549\tchr1_10335_10549\t1\t.\n",
      "chr1\t16983\t17500\tchr1_16983_17500\t1\t.\n",
      "chr1\t16985\t17499\tchr1_16985_17499\t1\t.\n",
      "\n",
      "Input:  /data/reddylab/Kuei/out/proj_combeffect_encode_fcc/source/A001_K562_wstarrseq_fragments_wgs/A001-input-K562-rep2.masked.dedup.fragments.counts.txt.gz\n",
      "chr1\t10244\t10370\tchr1_10244_10370\t1\t.\n",
      "chr1\t14494\t14961\tchr1_14494_14961\t1\t.\n",
      "chr1\t15593\t16258\tchr1_15593_16258\t1\t.\n",
      "\n",
      "Input:  /data/reddylab/Kuei/out/proj_combeffect_encode_fcc/source/A001_K562_wstarrseq_fragments_wgs/A001-input-K562-rep3.masked.dedup.fragments.counts.txt.gz\n",
      "chr1\t10247\t10299\tchr1_10247_10299\t1\t.\n",
      "chr1\t14684\t15184\tchr1_14684_15184\t1\t.\n",
      "chr1\t14690\t15158\tchr1_14690_15158\t1\t.\n",
      "\n",
      "Input:  /data/reddylab/Kuei/out/proj_combeffect_encode_fcc/source/A001_K562_wstarrseq_fragments_wgs/A001-input-K562-rep4.masked.dedup.fragments.counts.txt.gz\n",
      "chr1\t10086\t10542\tchr1_10086_10542\t1\t.\n",
      "chr1\t14845\t15207\tchr1_14845_15207\t1\t.\n",
      "chr1\t15520\t15834\tchr1_15520_15834\t1\t.\n",
      "\n",
      "Input:  /data/reddylab/Kuei/out/proj_combeffect_encode_fcc/source/A001_K562_wstarrseq_fragments_wgs/A001-K562-rep1.masked.dedup.fragments.counts.txt.gz\n",
      "chr1\t14845\t15207\tchr1_14845_15207\t1\t.\n",
      "chr1\t15512\t16248\tchr1_15512_16248\t1\t.\n",
      "chr1\t15652\t16254\tchr1_15652_16254\t1\t.\n",
      "\n",
      "Input:  /data/reddylab/Kuei/out/proj_combeffect_encode_fcc/source/A001_K562_wstarrseq_fragments_wgs/A001-K562-rep2.masked.dedup.fragments.counts.txt.gz\n",
      "chr1\t14510\t14960\tchr1_14510_14960\t1\t.\n",
      "chr1\t14684\t15162\tchr1_14684_15162\t1\t.\n",
      "chr1\t14688\t15199\tchr1_14688_15199\t1\t.\n",
      "\n",
      "Input:  /data/reddylab/Kuei/out/proj_combeffect_encode_fcc/source/A001_K562_wstarrseq_fragments_wgs/A001-K562-rep3.masked.dedup.fragments.counts.txt.gz\n",
      "chr1\t10537\t11067\tchr1_10537_11067\t1\t.\n",
      "chr1\t14408\t14799\tchr1_14408_14799\t1\t.\n",
      "chr1\t14498\t14937\tchr1_14498_14937\t1\t.\n",
      "\n",
      "Number of unique fragments:\n",
      "32 /data/reddylab/Kuei/out/proj_combeffect_encode_fcc/results/A001_K562_WSTARRseq/fragment/A001_K562_WSTARRseq.WGS.unstranded.uniq.bed.gz\n",
      "\n",
      "show first few lines of output:\n",
      "\n",
      "Output:  /data/reddylab/Kuei/out/proj_combeffect_encode_fcc/results/A001_K562_WSTARRseq/fragment/A001_K562_WSTARRseq.WGS.unstranded.uniq.bed.gz\n",
      "chr1\t10086\t10542\tchr1_10086_10542\n",
      "chr1\t10244\t10370\tchr1_10244_10370\n",
      "chr1\t10247\t10299\tchr1_10247_10299\n",
      "chr1\t10335\t10549\tchr1_10335_10549\n",
      "chr1\t10537\t11067\tchr1_10537_11067\n",
      "\n",
      "\n",
      "Done!\n",
      "Run Time: 1 seconds\n"
     ]
    }
   ],
   "source": [
    "cat ${FD_LOG}/unique_fragments_wstarr.0.txt"
   ]
  },
  {
   "cell_type": "code",
   "execution_count": null,
   "id": "4c3e16f9-1112-49bc-833b-faf59429d322",
   "metadata": {},
   "outputs": [],
   "source": []
  },
  {
   "cell_type": "code",
   "execution_count": null,
   "id": "0f1f81a4-7253-47c4-b134-3b5c6274966e",
   "metadata": {},
   "outputs": [],
   "source": []
  },
  {
   "cell_type": "code",
   "execution_count": null,
   "id": "f72a80fd-bdad-4f6b-a664-defd0114e072",
   "metadata": {},
   "outputs": [],
   "source": []
  },
  {
   "cell_type": "code",
   "execution_count": null,
   "id": "90afccc4-a951-4aec-9a05-abe283a4cb14",
   "metadata": {},
   "outputs": [],
   "source": []
  }
 ],
 "metadata": {
  "kernelspec": {
   "display_name": "Bash",
   "language": "bash",
   "name": "bash"
  },
  "language_info": {
   "codemirror_mode": "shell",
   "file_extension": ".sh",
   "mimetype": "text/x-sh",
   "name": "bash"
  }
 },
 "nbformat": 4,
 "nbformat_minor": 5
}
