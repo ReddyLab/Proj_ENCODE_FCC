{
 "cells": [
  {
   "cell_type": "markdown",
   "metadata": {},
   "source": [
    "**Set environment**"
   ]
  },
  {
   "cell_type": "code",
   "execution_count": 1,
   "metadata": {},
   "outputs": [
    {
     "name": "stdout",
     "output_type": "stream",
     "text": [
      "You are in Singularity: singularity_proj_encode_fcc \n",
      "BASE DIRECTORY (FD_BASE): /data/reddylab/Kuei \n",
      "WORK DIRECTORY (FD_WORK): /data/reddylab/Kuei/out \n",
      "CODE DIRECTORY (FD_CODE): /data/reddylab/Kuei/code \n",
      "PATH OF PROJECT (FD_PRJ): /data/reddylab/Kuei/code/Proj_CombEffect_ENCODE_FCC \n",
      "PATH OF RESULTS (FD_RES): /data/reddylab/Kuei/out/proj_combeffect_encode_fcc \n",
      "PATH OF LOG     (FD_LOG): /data/reddylab/Kuei/out/proj_combeffect_encode_fcc/log \n"
     ]
    }
   ],
   "source": [
    "suppressWarnings(suppressMessages(source(\"../config/config_sing.R\")))\n",
    "suppressWarnings(suppressMessages(library(\"GenomicRanges\")))\n",
    "show_env()"
   ]
  },
  {
   "cell_type": "markdown",
   "metadata": {},
   "source": [
    "## Import data"
   ]
  },
  {
   "cell_type": "code",
   "execution_count": 2,
   "metadata": {},
   "outputs": [
    {
     "name": "stdout",
     "output_type": "stream",
     "text": [
      "[1] \"OL13_20220512.hg19.raw.stranded_pos.bed\"    \n",
      "[2] \"OL13_20220512.hg38.raw.stranded_pos.bed\"    \n",
      "[3] \"OL13_20220512.unlifted.raw.stranded_pos.bed\"\n",
      "[4] \"OL43_20221003.hg38.raw.stranded_pos.bed\"    \n",
      "[5] \"OL45_20220927.hg38.raw.stranded_pos.bed\"    \n"
     ]
    }
   ],
   "source": [
    "fdiry = file.path(FD_RES, \"results\", \"Tewhey_K562_TileMPRA\", \"fragment\")\n",
    "print(dir(fdiry))"
   ]
  },
  {
   "cell_type": "code",
   "execution_count": 3,
   "metadata": {},
   "outputs": [
    {
     "name": "stdout",
     "output_type": "stream",
     "text": [
      "[1] 21914     6\n"
     ]
    },
    {
     "data": {
      "text/html": [
       "<table class=\"dataframe\">\n",
       "<caption>A tibble: 6 × 6</caption>\n",
       "<thead>\n",
       "\t<tr><th scope=col>Chrom</th><th scope=col>Start</th><th scope=col>End</th><th scope=col>Name</th><th scope=col>Score</th><th scope=col>Strand</th></tr>\n",
       "\t<tr><th scope=col>&lt;chr&gt;</th><th scope=col>&lt;dbl&gt;</th><th scope=col>&lt;dbl&gt;</th><th scope=col>&lt;chr&gt;</th><th scope=col>&lt;chr&gt;</th><th scope=col>&lt;chr&gt;</th></tr>\n",
       "</thead>\n",
       "<tbody>\n",
       "\t<tr><td>chr11</td><td>61787329</td><td>61787528</td><td>chr11:61554801-61555000</td><td>.</td><td>+</td></tr>\n",
       "\t<tr><td>chr11</td><td>61787334</td><td>61787533</td><td>chr11:61554806-61555005</td><td>.</td><td>+</td></tr>\n",
       "\t<tr><td>chr11</td><td>61787339</td><td>61787538</td><td>chr11:61554811-61555010</td><td>.</td><td>+</td></tr>\n",
       "\t<tr><td>chr11</td><td>61787344</td><td>61787543</td><td>chr11:61554816-61555015</td><td>.</td><td>+</td></tr>\n",
       "\t<tr><td>chr11</td><td>61787349</td><td>61787548</td><td>chr11:61554821-61555020</td><td>.</td><td>+</td></tr>\n",
       "\t<tr><td>chr11</td><td>61787354</td><td>61787553</td><td>chr11:61554826-61555025</td><td>.</td><td>+</td></tr>\n",
       "</tbody>\n",
       "</table>\n"
      ],
      "text/latex": [
       "A tibble: 6 × 6\n",
       "\\begin{tabular}{llllll}\n",
       " Chrom & Start & End & Name & Score & Strand\\\\\n",
       " <chr> & <dbl> & <dbl> & <chr> & <chr> & <chr>\\\\\n",
       "\\hline\n",
       "\t chr11 & 61787329 & 61787528 & chr11:61554801-61555000 & . & +\\\\\n",
       "\t chr11 & 61787334 & 61787533 & chr11:61554806-61555005 & . & +\\\\\n",
       "\t chr11 & 61787339 & 61787538 & chr11:61554811-61555010 & . & +\\\\\n",
       "\t chr11 & 61787344 & 61787543 & chr11:61554816-61555015 & . & +\\\\\n",
       "\t chr11 & 61787349 & 61787548 & chr11:61554821-61555020 & . & +\\\\\n",
       "\t chr11 & 61787354 & 61787553 & chr11:61554826-61555025 & . & +\\\\\n",
       "\\end{tabular}\n"
      ],
      "text/markdown": [
       "\n",
       "A tibble: 6 × 6\n",
       "\n",
       "| Chrom &lt;chr&gt; | Start &lt;dbl&gt; | End &lt;dbl&gt; | Name &lt;chr&gt; | Score &lt;chr&gt; | Strand &lt;chr&gt; |\n",
       "|---|---|---|---|---|---|\n",
       "| chr11 | 61787329 | 61787528 | chr11:61554801-61555000 | . | + |\n",
       "| chr11 | 61787334 | 61787533 | chr11:61554806-61555005 | . | + |\n",
       "| chr11 | 61787339 | 61787538 | chr11:61554811-61555010 | . | + |\n",
       "| chr11 | 61787344 | 61787543 | chr11:61554816-61555015 | . | + |\n",
       "| chr11 | 61787349 | 61787548 | chr11:61554821-61555020 | . | + |\n",
       "| chr11 | 61787354 | 61787553 | chr11:61554826-61555025 | . | + |\n",
       "\n"
      ],
      "text/plain": [
       "  Chrom Start    End      Name                    Score Strand\n",
       "1 chr11 61787329 61787528 chr11:61554801-61555000 .     +     \n",
       "2 chr11 61787334 61787533 chr11:61554806-61555005 .     +     \n",
       "3 chr11 61787339 61787538 chr11:61554811-61555010 .     +     \n",
       "4 chr11 61787344 61787543 chr11:61554816-61555015 .     +     \n",
       "5 chr11 61787349 61787548 chr11:61554821-61555020 .     +     \n",
       "6 chr11 61787354 61787553 chr11:61554826-61555025 .     +     "
      ]
     },
     "metadata": {},
     "output_type": "display_data"
    }
   ],
   "source": [
    "fdiry = file.path(FD_RES, \"results\", \"Tewhey_K562_TileMPRA\", \"fragment\")\n",
    "fname = \"OL13_20220512.hg38.raw.stranded_pos.bed\"\n",
    "fpath = file.path(fdiry, fname)\n",
    "\n",
    "cnames = c(\"Chrom\", \"Start\", \"End\", \"Name\", \"Score\", \"Strand\")\n",
    "dat = read_tsv(fpath, col_names = cnames, show_col_types = FALSE)\n",
    "\n",
    "dat_frag_tmpra_OL13 = dat\n",
    "print(dim(dat))\n",
    "head(dat)"
   ]
  },
  {
   "cell_type": "code",
   "execution_count": 4,
   "metadata": {},
   "outputs": [
    {
     "name": "stdout",
     "output_type": "stream",
     "text": [
      "[1] 96087     6\n"
     ]
    },
    {
     "data": {
      "text/html": [
       "<table class=\"dataframe\">\n",
       "<caption>A tibble: 6 × 6</caption>\n",
       "<thead>\n",
       "\t<tr><th scope=col>Chrom</th><th scope=col>Start</th><th scope=col>End</th><th scope=col>Name</th><th scope=col>Score</th><th scope=col>Strand</th></tr>\n",
       "\t<tr><th scope=col>&lt;chr&gt;</th><th scope=col>&lt;dbl&gt;</th><th scope=col>&lt;dbl&gt;</th><th scope=col>&lt;chr&gt;</th><th scope=col>&lt;chr&gt;</th><th scope=col>&lt;chr&gt;</th></tr>\n",
       "</thead>\n",
       "<tbody>\n",
       "\t<tr><td>chr8</td><td>126735901</td><td>126736100</td><td>chr8:126735901-126736100</td><td>.</td><td>+</td></tr>\n",
       "\t<tr><td>chr8</td><td>126735951</td><td>126736150</td><td>chr8:126735951-126736150</td><td>.</td><td>+</td></tr>\n",
       "\t<tr><td>chr8</td><td>126736001</td><td>126736200</td><td>chr8:126736001-126736200</td><td>.</td><td>+</td></tr>\n",
       "\t<tr><td>chr8</td><td>126736051</td><td>126736250</td><td>chr8:126736051-126736250</td><td>.</td><td>+</td></tr>\n",
       "\t<tr><td>chr8</td><td>126736101</td><td>126736300</td><td>chr8:126736101-126736300</td><td>.</td><td>+</td></tr>\n",
       "\t<tr><td>chr8</td><td>126736151</td><td>126736350</td><td>chr8:126736151-126736350</td><td>.</td><td>+</td></tr>\n",
       "</tbody>\n",
       "</table>\n"
      ],
      "text/latex": [
       "A tibble: 6 × 6\n",
       "\\begin{tabular}{llllll}\n",
       " Chrom & Start & End & Name & Score & Strand\\\\\n",
       " <chr> & <dbl> & <dbl> & <chr> & <chr> & <chr>\\\\\n",
       "\\hline\n",
       "\t chr8 & 126735901 & 126736100 & chr8:126735901-126736100 & . & +\\\\\n",
       "\t chr8 & 126735951 & 126736150 & chr8:126735951-126736150 & . & +\\\\\n",
       "\t chr8 & 126736001 & 126736200 & chr8:126736001-126736200 & . & +\\\\\n",
       "\t chr8 & 126736051 & 126736250 & chr8:126736051-126736250 & . & +\\\\\n",
       "\t chr8 & 126736101 & 126736300 & chr8:126736101-126736300 & . & +\\\\\n",
       "\t chr8 & 126736151 & 126736350 & chr8:126736151-126736350 & . & +\\\\\n",
       "\\end{tabular}\n"
      ],
      "text/markdown": [
       "\n",
       "A tibble: 6 × 6\n",
       "\n",
       "| Chrom &lt;chr&gt; | Start &lt;dbl&gt; | End &lt;dbl&gt; | Name &lt;chr&gt; | Score &lt;chr&gt; | Strand &lt;chr&gt; |\n",
       "|---|---|---|---|---|---|\n",
       "| chr8 | 126735901 | 126736100 | chr8:126735901-126736100 | . | + |\n",
       "| chr8 | 126735951 | 126736150 | chr8:126735951-126736150 | . | + |\n",
       "| chr8 | 126736001 | 126736200 | chr8:126736001-126736200 | . | + |\n",
       "| chr8 | 126736051 | 126736250 | chr8:126736051-126736250 | . | + |\n",
       "| chr8 | 126736101 | 126736300 | chr8:126736101-126736300 | . | + |\n",
       "| chr8 | 126736151 | 126736350 | chr8:126736151-126736350 | . | + |\n",
       "\n"
      ],
      "text/plain": [
       "  Chrom Start     End       Name                     Score Strand\n",
       "1 chr8  126735901 126736100 chr8:126735901-126736100 .     +     \n",
       "2 chr8  126735951 126736150 chr8:126735951-126736150 .     +     \n",
       "3 chr8  126736001 126736200 chr8:126736001-126736200 .     +     \n",
       "4 chr8  126736051 126736250 chr8:126736051-126736250 .     +     \n",
       "5 chr8  126736101 126736300 chr8:126736101-126736300 .     +     \n",
       "6 chr8  126736151 126736350 chr8:126736151-126736350 .     +     "
      ]
     },
     "metadata": {},
     "output_type": "display_data"
    }
   ],
   "source": [
    "fdiry = file.path(FD_RES, \"results\", \"Tewhey_K562_TileMPRA\", \"fragment\")\n",
    "fname = \"OL43_20221003.hg38.raw.stranded_pos.bed\"\n",
    "fpath = file.path(fdiry, fname)\n",
    "\n",
    "cnames = c(\"Chrom\", \"Start\", \"End\", \"Name\", \"Score\", \"Strand\")\n",
    "dat = read_tsv(fpath, col_names = cnames, show_col_types = FALSE)\n",
    "\n",
    "dat_frag_tmpra_OL43 = dat\n",
    "print(dim(dat))\n",
    "head(dat)"
   ]
  },
  {
   "cell_type": "code",
   "execution_count": 5,
   "metadata": {},
   "outputs": [
    {
     "name": "stdout",
     "output_type": "stream",
     "text": [
      "[1] 91092     6\n"
     ]
    },
    {
     "data": {
      "text/html": [
       "<table class=\"dataframe\">\n",
       "<caption>A tibble: 6 × 6</caption>\n",
       "<thead>\n",
       "\t<tr><th scope=col>Chrom</th><th scope=col>Start</th><th scope=col>End</th><th scope=col>Name</th><th scope=col>Score</th><th scope=col>Strand</th></tr>\n",
       "\t<tr><th scope=col>&lt;chr&gt;</th><th scope=col>&lt;dbl&gt;</th><th scope=col>&lt;dbl&gt;</th><th scope=col>&lt;chr&gt;</th><th scope=col>&lt;chr&gt;</th><th scope=col>&lt;chr&gt;</th></tr>\n",
       "</thead>\n",
       "<tbody>\n",
       "\t<tr><td>chr11</td><td>4505501</td><td>4505700</td><td>chr11:4505501-4505700</td><td>.</td><td>+</td></tr>\n",
       "\t<tr><td>chr11</td><td>4505601</td><td>4505800</td><td>chr11:4505601-4505800</td><td>.</td><td>+</td></tr>\n",
       "\t<tr><td>chr11</td><td>4505701</td><td>4505900</td><td>chr11:4505701-4505900</td><td>.</td><td>+</td></tr>\n",
       "\t<tr><td>chr11</td><td>4505801</td><td>4506000</td><td>chr11:4505801-4506000</td><td>.</td><td>+</td></tr>\n",
       "\t<tr><td>chr11</td><td>4505901</td><td>4506100</td><td>chr11:4505901-4506100</td><td>.</td><td>+</td></tr>\n",
       "\t<tr><td>chr11</td><td>4506001</td><td>4506200</td><td>chr11:4506001-4506200</td><td>.</td><td>+</td></tr>\n",
       "</tbody>\n",
       "</table>\n"
      ],
      "text/latex": [
       "A tibble: 6 × 6\n",
       "\\begin{tabular}{llllll}\n",
       " Chrom & Start & End & Name & Score & Strand\\\\\n",
       " <chr> & <dbl> & <dbl> & <chr> & <chr> & <chr>\\\\\n",
       "\\hline\n",
       "\t chr11 & 4505501 & 4505700 & chr11:4505501-4505700 & . & +\\\\\n",
       "\t chr11 & 4505601 & 4505800 & chr11:4505601-4505800 & . & +\\\\\n",
       "\t chr11 & 4505701 & 4505900 & chr11:4505701-4505900 & . & +\\\\\n",
       "\t chr11 & 4505801 & 4506000 & chr11:4505801-4506000 & . & +\\\\\n",
       "\t chr11 & 4505901 & 4506100 & chr11:4505901-4506100 & . & +\\\\\n",
       "\t chr11 & 4506001 & 4506200 & chr11:4506001-4506200 & . & +\\\\\n",
       "\\end{tabular}\n"
      ],
      "text/markdown": [
       "\n",
       "A tibble: 6 × 6\n",
       "\n",
       "| Chrom &lt;chr&gt; | Start &lt;dbl&gt; | End &lt;dbl&gt; | Name &lt;chr&gt; | Score &lt;chr&gt; | Strand &lt;chr&gt; |\n",
       "|---|---|---|---|---|---|\n",
       "| chr11 | 4505501 | 4505700 | chr11:4505501-4505700 | . | + |\n",
       "| chr11 | 4505601 | 4505800 | chr11:4505601-4505800 | . | + |\n",
       "| chr11 | 4505701 | 4505900 | chr11:4505701-4505900 | . | + |\n",
       "| chr11 | 4505801 | 4506000 | chr11:4505801-4506000 | . | + |\n",
       "| chr11 | 4505901 | 4506100 | chr11:4505901-4506100 | . | + |\n",
       "| chr11 | 4506001 | 4506200 | chr11:4506001-4506200 | . | + |\n",
       "\n"
      ],
      "text/plain": [
       "  Chrom Start   End     Name                  Score Strand\n",
       "1 chr11 4505501 4505700 chr11:4505501-4505700 .     +     \n",
       "2 chr11 4505601 4505800 chr11:4505601-4505800 .     +     \n",
       "3 chr11 4505701 4505900 chr11:4505701-4505900 .     +     \n",
       "4 chr11 4505801 4506000 chr11:4505801-4506000 .     +     \n",
       "5 chr11 4505901 4506100 chr11:4505901-4506100 .     +     \n",
       "6 chr11 4506001 4506200 chr11:4506001-4506200 .     +     "
      ]
     },
     "metadata": {},
     "output_type": "display_data"
    }
   ],
   "source": [
    "fdiry = file.path(FD_RES, \"results\", \"Tewhey_K562_TileMPRA\", \"fragment\")\n",
    "fname = \"OL45_20220927.hg38.raw.stranded_pos.bed\"\n",
    "fpath = file.path(fdiry, fname)\n",
    "\n",
    "cnames = c(\"Chrom\", \"Start\", \"End\", \"Name\", \"Score\", \"Strand\")\n",
    "dat = read_tsv(fpath, col_names = cnames, show_col_types = FALSE)\n",
    "\n",
    "dat_frag_tmpra_OL45 = dat\n",
    "print(dim(dat))\n",
    "head(dat)"
   ]
  },
  {
   "cell_type": "markdown",
   "metadata": {},
   "source": [
    "## Setup GRanges for each file"
   ]
  },
  {
   "cell_type": "code",
   "execution_count": 6,
   "metadata": {},
   "outputs": [],
   "source": [
    "dat = dat_frag_tmpra_OL13\n",
    "grg = GRanges(\n",
    "    seqnames = dat$Chrom,\n",
    "    ranges   = IRanges(\n",
    "        start = dat$Start, \n",
    "        end   = dat$End, \n",
    "        names = dat$Name\n",
    "    ))\n",
    "\n",
    "grg_frag_tmpra_OL13 = grg"
   ]
  },
  {
   "cell_type": "code",
   "execution_count": 7,
   "metadata": {},
   "outputs": [],
   "source": [
    "dat = dat_frag_tmpra_OL43\n",
    "grg = GRanges(\n",
    "    seqnames = dat$Chrom,\n",
    "    ranges   = IRanges(\n",
    "        start = dat$Start, \n",
    "        end   = dat$End, \n",
    "        names = dat$Name\n",
    "    ))\n",
    "\n",
    "grg_frag_tmpra_OL43 = grg"
   ]
  },
  {
   "cell_type": "code",
   "execution_count": 8,
   "metadata": {},
   "outputs": [],
   "source": [
    "dat = dat_frag_tmpra_OL45\n",
    "grg = GRanges(\n",
    "    seqnames = dat$Chrom,\n",
    "    ranges   = IRanges(\n",
    "        start = dat$Start, \n",
    "        end   = dat$End, \n",
    "        names = dat$Name\n",
    "    ))\n",
    "\n",
    "grg_frag_tmpra_OL45 = grg"
   ]
  },
  {
   "cell_type": "markdown",
   "metadata": {},
   "source": [
    "## OL13 | FADS region"
   ]
  },
  {
   "cell_type": "code",
   "execution_count": 9,
   "metadata": {},
   "outputs": [
    {
     "data": {
      "text/plain": [
       "GRanges object with 21914 ranges and 0 metadata columns:\n",
       "                          seqnames            ranges strand\n",
       "                             <Rle>         <IRanges>  <Rle>\n",
       "  chr11:61554801-61555000    chr11 61787329-61787528      *\n",
       "  chr11:61554806-61555005    chr11 61787334-61787533      *\n",
       "  chr11:61554811-61555010    chr11 61787339-61787538      *\n",
       "  chr11:61554816-61555015    chr11 61787344-61787543      *\n",
       "  chr11:61554821-61555020    chr11 61787349-61787548      *\n",
       "                      ...      ...               ...    ...\n",
       "  chr11:61665601-61665800    chr11 61898129-61898328      *\n",
       "  chr11:61665606-61665805    chr11 61898134-61898333      *\n",
       "  chr11:61665611-61665810    chr11 61898139-61898338      *\n",
       "  chr11:61665616-61665815    chr11 61898144-61898343      *\n",
       "  chr11:61665621-61665820    chr11 61898149-61898348      *\n",
       "  -------\n",
       "  seqinfo: 1 sequence from an unspecified genome; no seqlengths"
      ]
     },
     "metadata": {},
     "output_type": "display_data"
    }
   ],
   "source": [
    "grg = grg_frag_tmpra_OL13\n",
    "grg"
   ]
  },
  {
   "cell_type": "code",
   "execution_count": 10,
   "metadata": {},
   "outputs": [
    {
     "name": "stdout",
     "output_type": "stream",
     "text": [
      "GRanges object with 1 range and 2 metadata columns:\n",
      "      seqnames            ranges strand |        Gene     Dataset\n",
      "         <Rle>         <IRanges>  <Rle> | <character> <character>\n",
      "  [1]    chr11 61787329-61898348      * |        FADS        OL13\n",
      "  -------\n",
      "  seqinfo: 1 sequence from an unspecified genome; no seqlengths\n"
     ]
    }
   ],
   "source": [
    "grg = grg_frag_tmpra_OL13\n",
    "grg = GenomicRanges::reduce(grg)\n",
    "\n",
    "grg$Gene  = \"FADS\"\n",
    "grg$Dataset = \"OL13\"\n",
    "grg_range_OL13  = grg\n",
    "print(grg)"
   ]
  },
  {
   "cell_type": "markdown",
   "metadata": {},
   "source": [
    "**Summary**\n",
    "```\n",
    "chr11 61787329 61898348 FADS\n",
    "```"
   ]
  },
  {
   "cell_type": "markdown",
   "metadata": {},
   "source": [
    "## OL43 | GATA-MYC region"
   ]
  },
  {
   "cell_type": "code",
   "execution_count": 11,
   "metadata": {},
   "outputs": [
    {
     "data": {
      "text/plain": [
       "GRanges object with 96087 ranges and 0 metadata columns:\n",
       "                           seqnames              ranges strand\n",
       "                              <Rle>           <IRanges>  <Rle>\n",
       "  chr8:126735901-126736100     chr8 126735901-126736100      *\n",
       "  chr8:126735951-126736150     chr8 126735951-126736150      *\n",
       "  chr8:126736001-126736200     chr8 126736001-126736200      *\n",
       "  chr8:126736051-126736250     chr8 126736051-126736250      *\n",
       "  chr8:126736101-126736300     chr8 126736101-126736300      *\n",
       "                       ...      ...                 ...    ...\n",
       "    chrX:49880251-49880450     chrX   49880251-49880450      *\n",
       "    chrX:49880301-49880500     chrX   49880301-49880500      *\n",
       "    chrX:49880351-49880550     chrX   49880351-49880550      *\n",
       "    chrX:49880401-49880600     chrX   49880401-49880600      *\n",
       "    chrX:49880451-49880650     chrX   49880451-49880650      *\n",
       "  -------\n",
       "  seqinfo: 2 sequences from an unspecified genome; no seqlengths"
      ]
     },
     "metadata": {},
     "output_type": "display_data"
    }
   ],
   "source": [
    "grg = grg_frag_tmpra_OL43\n",
    "grg"
   ]
  },
  {
   "cell_type": "code",
   "execution_count": 12,
   "metadata": {},
   "outputs": [
    {
     "name": "stdout",
     "output_type": "stream",
     "text": [
      "GRanges object with 7 ranges and 0 metadata columns:\n",
      "      seqnames              ranges strand\n",
      "         <Rle>           <IRanges>  <Rle>\n",
      "  [1]     chr8 126735901-127794350      *\n",
      "  [2]     chr8 127794451-128736550      *\n",
      "  [3]     chrX   47785501-48280750      *\n",
      "  [4]     chrX   48280801-48660600      *\n",
      "  [5]     chrX   48660651-48835550      *\n",
      "  [6]     chrX   48835701-49348350      *\n",
      "  [7]     chrX   49528401-49880650      *\n",
      "  -------\n",
      "  seqinfo: 2 sequences from an unspecified genome; no seqlengths\n",
      "\n",
      "GRanges object with 2 ranges and 0 metadata columns:\n",
      "      seqnames              ranges strand\n",
      "         <Rle>           <IRanges>  <Rle>\n",
      "  [1]     chr8 126735901-128736550      *\n",
      "  [2]     chrX   47785501-49880650      *\n",
      "  -------\n",
      "  seqinfo: 2 sequences from an unspecified genome; no seqlengths\n"
     ]
    }
   ],
   "source": [
    "grg = grg_frag_tmpra_OL43\n",
    "\n",
    "grg = GenomicRanges::reduce(grg)\n",
    "print(grg)\n",
    "cat(\"\\n\")\n",
    "\n",
    "grg = range(grg)\n",
    "print(grg)"
   ]
  },
  {
   "cell_type": "code",
   "execution_count": 13,
   "metadata": {},
   "outputs": [
    {
     "data": {
      "text/plain": [
       "GRanges object with 2 ranges and 2 metadata columns:\n",
       "      seqnames              ranges strand |        Gene     Dataset\n",
       "         <Rle>           <IRanges>  <Rle> | <character> <character>\n",
       "  [1]     chr8 126735901-128736550      * |         MYC        OL43\n",
       "  [2]     chrX   47785501-49880650      * |       GATA1        OL43\n",
       "  -------\n",
       "  seqinfo: 2 sequences from an unspecified genome; no seqlengths"
      ]
     },
     "metadata": {},
     "output_type": "display_data"
    }
   ],
   "source": [
    "grg = grg_frag_tmpra_OL43\n",
    "grg = GenomicRanges::reduce(grg)\n",
    "grg = range(grg)\n",
    "\n",
    "grg$Gene = c(\"MYC\", \"GATA1\")\n",
    "grg$Dataset = \"OL43\"\n",
    "grg_range_OL43 = grg\n",
    "grg "
   ]
  },
  {
   "cell_type": "markdown",
   "metadata": {},
   "source": [
    "**Summary**\n",
    "```\n",
    "chr8 126735901 128736550 MYC\n",
    "chrX  47785501 49880650  GATA1\n",
    "```"
   ]
  },
  {
   "cell_type": "markdown",
   "metadata": {},
   "source": [
    "## OL45"
   ]
  },
  {
   "cell_type": "code",
   "execution_count": 14,
   "metadata": {},
   "outputs": [
    {
     "name": "stdout",
     "output_type": "stream",
     "text": [
      "[1] 4\n",
      "[1] \"chr11\" \"chr16\" \"chr2\"  \"chr20\"\n"
     ]
    }
   ],
   "source": [
    "grg = grg_frag_tmpra_OL45\n",
    "grg = GenomicRanges::reduce(grg)\n",
    "lst = split(grg, grg@seqnames)\n",
    "print(length(lst))\n",
    "print(names(lst))"
   ]
  },
  {
   "cell_type": "code",
   "execution_count": 15,
   "metadata": {},
   "outputs": [
    {
     "data": {
      "text/plain": [
       "$chr11\n",
       "GRanges object with 1 range and 0 metadata columns:\n",
       "      seqnames           ranges strand\n",
       "         <Rle>        <IRanges>  <Rle>\n",
       "  [1]    chr11 4505501-34870100      *\n",
       "  -------\n",
       "  seqinfo: 4 sequences from an unspecified genome; no seqlengths\n",
       "\n",
       "$chr16\n",
       "GRanges object with 1 range and 0 metadata columns:\n",
       "      seqnames        ranges strand\n",
       "         <Rle>     <IRanges>  <Rle>\n",
       "  [1]    chr16 10001-1173100      *\n",
       "  -------\n",
       "  seqinfo: 4 sequences from an unspecified genome; no seqlengths\n",
       "\n",
       "$chr2\n",
       "GRanges object with 1 range and 0 metadata columns:\n",
       "      seqnames            ranges strand\n",
       "         <Rle>         <IRanges>  <Rle>\n",
       "  [1]     chr2 59553301-61553700      *\n",
       "  -------\n",
       "  seqinfo: 4 sequences from an unspecified genome; no seqlengths\n",
       "\n",
       "$chr20\n",
       "GRanges object with 1 range and 0 metadata columns:\n",
       "      seqnames            ranges strand\n",
       "         <Rle>         <IRanges>  <Rle>\n",
       "  [1]    chr20 56391301-58391700      *\n",
       "  -------\n",
       "  seqinfo: 4 sequences from an unspecified genome; no seqlengths\n"
      ]
     },
     "metadata": {},
     "output_type": "display_data"
    }
   ],
   "source": [
    "lapply(lst, range)"
   ]
  },
  {
   "cell_type": "code",
   "execution_count": 16,
   "metadata": {},
   "outputs": [
    {
     "name": "stdout",
     "output_type": "stream",
     "text": [
      "GRanges object with 1 range and 2 metadata columns:\n",
      "      seqnames          ranges strand |        Gene     Dataset\n",
      "         <Rle>       <IRanges>  <Rle> | <character> <character>\n",
      "  [1]    chr11 4505501-6505900      * |        HBE1        OL45\n",
      "  -------\n",
      "  seqinfo: 4 sequences from an unspecified genome; no seqlengths\n"
     ]
    }
   ],
   "source": [
    "grg = lst[[\"chr11\"]]\n",
    "idx = grg@ranges@start < 7000000\n",
    "grg = grg[which(idx)]\n",
    "\n",
    "grg = range(grg)\n",
    "grg$Gene = \"HBE1\"\n",
    "grg$Dataset = \"OL45\"\n",
    "grg_range_OL45_chr11_v1 = grg\n",
    "print(grg)"
   ]
  },
  {
   "cell_type": "code",
   "execution_count": 17,
   "metadata": {},
   "outputs": [
    {
     "name": "stdout",
     "output_type": "stream",
     "text": [
      "GRanges object with 1 range and 2 metadata columns:\n",
      "      seqnames            ranges strand |        Gene     Dataset\n",
      "         <Rle>         <IRanges>  <Rle> | <character> <character>\n",
      "  [1]    chr11 32869701-34870100      * |        LMO2        OL45\n",
      "  -------\n",
      "  seqinfo: 4 sequences from an unspecified genome; no seqlengths\n"
     ]
    }
   ],
   "source": [
    "grg = lst[[\"chr11\"]]\n",
    "idx = grg@ranges@start > 7000000\n",
    "grg = grg[which(idx)]\n",
    "\n",
    "grg = range(grg)\n",
    "grg$Gene = \"LMO2\"\n",
    "grg$Dataset = \"OL45\"\n",
    "grg_range_OL45_chr11_v2 = grg\n",
    "print(grg)"
   ]
  },
  {
   "cell_type": "code",
   "execution_count": 18,
   "metadata": {},
   "outputs": [
    {
     "name": "stdout",
     "output_type": "stream",
     "text": [
      "GRanges object with 1 range and 2 metadata columns:\n",
      "      seqnames        ranges strand |        Gene     Dataset\n",
      "         <Rle>     <IRanges>  <Rle> | <character> <character>\n",
      "  [1]    chr16 10001-1173100      * |        HBA2        OL45\n",
      "  -------\n",
      "  seqinfo: 4 sequences from an unspecified genome; no seqlengths\n"
     ]
    }
   ],
   "source": [
    "grg = lst[[\"chr16\"]]\n",
    "grg = range(grg)\n",
    "grg$Gene = \"HBA2\"\n",
    "grg$Dataset = \"OL45\"\n",
    "grg_range_OL45_chr16 = grg\n",
    "print(grg)"
   ]
  },
  {
   "cell_type": "code",
   "execution_count": 19,
   "metadata": {},
   "outputs": [
    {
     "name": "stdout",
     "output_type": "stream",
     "text": [
      "GRanges object with 1 range and 2 metadata columns:\n",
      "      seqnames            ranges strand |        Gene     Dataset\n",
      "         <Rle>         <IRanges>  <Rle> | <character> <character>\n",
      "  [1]     chr2 59553301-61553700      * |      BCL11A        OL45\n",
      "  -------\n",
      "  seqinfo: 4 sequences from an unspecified genome; no seqlengths\n"
     ]
    }
   ],
   "source": [
    "grg = lst[[\"chr2\"]]\n",
    "grg = range(grg)\n",
    "grg$Gene = \"BCL11A\"\n",
    "grg$Dataset = \"OL45\"\n",
    "grg_range_OL45_chr2 = grg\n",
    "print(grg)"
   ]
  },
  {
   "cell_type": "code",
   "execution_count": 20,
   "metadata": {},
   "outputs": [
    {
     "name": "stdout",
     "output_type": "stream",
     "text": [
      "GRanges object with 1 range and 2 metadata columns:\n",
      "      seqnames            ranges strand |        Gene     Dataset\n",
      "         <Rle>         <IRanges>  <Rle> | <character> <character>\n",
      "  [1]    chr20 56391301-58391700      * |       RBM38        OL45\n",
      "  -------\n",
      "  seqinfo: 4 sequences from an unspecified genome; no seqlengths\n"
     ]
    }
   ],
   "source": [
    "grg = lst[[\"chr20\"]]\n",
    "grg = range(grg)\n",
    "grg$Gene = \"RBM38\"\n",
    "grg$Dataset = \"OL45\"\n",
    "grg_range_OL45_chr20 = grg\n",
    "print(grg)"
   ]
  },
  {
   "cell_type": "markdown",
   "metadata": {},
   "source": [
    "## Combine and export"
   ]
  },
  {
   "cell_type": "code",
   "execution_count": 21,
   "metadata": {},
   "outputs": [
    {
     "name": "stderr",
     "output_type": "stream",
     "text": [
      "Warning message in .merge_two_Seqinfo_objects(x, y):\n",
      "“The 2 combined objects have no sequence levels in common. (Use\n",
      "  suppressWarnings() to suppress this warning.)”\n",
      "Warning message in .merge_two_Seqinfo_objects(x, y):\n",
      "“Each of the 2 combined objects has sequence levels not in the other:\n",
      "  - in 'x': chr8, chrX\n",
      "  - in 'y': chr16, chr2, chr20\n",
      "  Make sure to always combine/compare objects based on the same reference\n",
      "  genome (use suppressWarnings() to suppress this warning).”\n"
     ]
    },
    {
     "name": "stdout",
     "output_type": "stream",
     "text": [
      "GRanges object with 8 ranges and 2 metadata columns:\n",
      "      seqnames              ranges strand |        Gene     Dataset\n",
      "         <Rle>           <IRanges>  <Rle> | <character> <character>\n",
      "  [1]    chr11   61787329-61898348      * |        FADS        OL13\n",
      "  [2]     chr8 126735901-128736550      * |         MYC        OL43\n",
      "  [3]     chrX   47785501-49880650      * |       GATA1        OL43\n",
      "  [4]    chr11     4505501-6505900      * |        HBE1        OL45\n",
      "  [5]    chr11   32869701-34870100      * |        LMO2        OL45\n",
      "  [6]    chr16       10001-1173100      * |        HBA2        OL45\n",
      "  [7]     chr2   59553301-61553700      * |      BCL11A        OL45\n",
      "  [8]    chr20   56391301-58391700      * |       RBM38        OL45\n",
      "  -------\n",
      "  seqinfo: 6 sequences from an unspecified genome; no seqlengths\n"
     ]
    }
   ],
   "source": [
    "grg = c(\n",
    "    grg_range_OL13,\n",
    "    grg_range_OL43,\n",
    "    grg_range_OL45_chr11_v1, \n",
    "    grg_range_OL45_chr11_v2,\n",
    "    grg_range_OL45_chr16,\n",
    "    grg_range_OL45_chr2,\n",
    "    grg_range_OL45_chr20\n",
    ")\n",
    "\n",
    "grg_range_merge = grg\n",
    "print(grg)"
   ]
  },
  {
   "cell_type": "code",
   "execution_count": 22,
   "metadata": {},
   "outputs": [
    {
     "data": {
      "text/html": [
       "<table class=\"dataframe\">\n",
       "<caption>A data.frame: 8 × 5</caption>\n",
       "<thead>\n",
       "\t<tr><th scope=col>Chrom</th><th scope=col>Start</th><th scope=col>End</th><th scope=col>Gene</th><th scope=col>Dataset</th></tr>\n",
       "\t<tr><th scope=col>&lt;chr&gt;</th><th scope=col>&lt;int&gt;</th><th scope=col>&lt;int&gt;</th><th scope=col>&lt;chr&gt;</th><th scope=col>&lt;chr&gt;</th></tr>\n",
       "</thead>\n",
       "<tbody>\n",
       "\t<tr><td>chr11</td><td>  4505501</td><td>  6505900</td><td>HBE1  </td><td>OL45</td></tr>\n",
       "\t<tr><td>chr11</td><td> 32869701</td><td> 34870100</td><td>LMO2  </td><td>OL45</td></tr>\n",
       "\t<tr><td>chr11</td><td> 61787329</td><td> 61898348</td><td>FADS  </td><td>OL13</td></tr>\n",
       "\t<tr><td>chr16</td><td>    10001</td><td>  1173100</td><td>HBA2  </td><td>OL45</td></tr>\n",
       "\t<tr><td>chr2 </td><td> 59553301</td><td> 61553700</td><td>BCL11A</td><td>OL45</td></tr>\n",
       "\t<tr><td>chr20</td><td> 56391301</td><td> 58391700</td><td>RBM38 </td><td>OL45</td></tr>\n",
       "\t<tr><td>chr8 </td><td>126735901</td><td>128736550</td><td>MYC   </td><td>OL43</td></tr>\n",
       "\t<tr><td>chrX </td><td> 47785501</td><td> 49880650</td><td>GATA1 </td><td>OL43</td></tr>\n",
       "</tbody>\n",
       "</table>\n"
      ],
      "text/latex": [
       "A data.frame: 8 × 5\n",
       "\\begin{tabular}{lllll}\n",
       " Chrom & Start & End & Gene & Dataset\\\\\n",
       " <chr> & <int> & <int> & <chr> & <chr>\\\\\n",
       "\\hline\n",
       "\t chr11 &   4505501 &   6505900 & HBE1   & OL45\\\\\n",
       "\t chr11 &  32869701 &  34870100 & LMO2   & OL45\\\\\n",
       "\t chr11 &  61787329 &  61898348 & FADS   & OL13\\\\\n",
       "\t chr16 &     10001 &   1173100 & HBA2   & OL45\\\\\n",
       "\t chr2  &  59553301 &  61553700 & BCL11A & OL45\\\\\n",
       "\t chr20 &  56391301 &  58391700 & RBM38  & OL45\\\\\n",
       "\t chr8  & 126735901 & 128736550 & MYC    & OL43\\\\\n",
       "\t chrX  &  47785501 &  49880650 & GATA1  & OL43\\\\\n",
       "\\end{tabular}\n"
      ],
      "text/markdown": [
       "\n",
       "A data.frame: 8 × 5\n",
       "\n",
       "| Chrom &lt;chr&gt; | Start &lt;int&gt; | End &lt;int&gt; | Gene &lt;chr&gt; | Dataset &lt;chr&gt; |\n",
       "|---|---|---|---|---|\n",
       "| chr11 |   4505501 |   6505900 | HBE1   | OL45 |\n",
       "| chr11 |  32869701 |  34870100 | LMO2   | OL45 |\n",
       "| chr11 |  61787329 |  61898348 | FADS   | OL13 |\n",
       "| chr16 |     10001 |   1173100 | HBA2   | OL45 |\n",
       "| chr2  |  59553301 |  61553700 | BCL11A | OL45 |\n",
       "| chr20 |  56391301 |  58391700 | RBM38  | OL45 |\n",
       "| chr8  | 126735901 | 128736550 | MYC    | OL43 |\n",
       "| chrX  |  47785501 |  49880650 | GATA1  | OL43 |\n",
       "\n"
      ],
      "text/plain": [
       "  Chrom Start     End       Gene   Dataset\n",
       "1 chr11   4505501   6505900 HBE1   OL45   \n",
       "2 chr11  32869701  34870100 LMO2   OL45   \n",
       "3 chr11  61787329  61898348 FADS   OL13   \n",
       "4 chr16     10001   1173100 HBA2   OL45   \n",
       "5 chr2   59553301  61553700 BCL11A OL45   \n",
       "6 chr20  56391301  58391700 RBM38  OL45   \n",
       "7 chr8  126735901 128736550 MYC    OL43   \n",
       "8 chrX   47785501  49880650 GATA1  OL43   "
      ]
     },
     "metadata": {},
     "output_type": "display_data"
    }
   ],
   "source": [
    "grg = grg_range_merge\n",
    "dat = data.frame(\n",
    "    Chrom   = as.character(seqnames(grg)),\n",
    "    Start   = start(grg),\n",
    "    End     = end(grg),\n",
    "    Gene    = grg$Gene,\n",
    "    Dataset = grg$Dataset\n",
    ")\n",
    "dat = dat %>% dplyr::arrange(Chrom, Start, End)\n",
    "dat"
   ]
  },
  {
   "cell_type": "code",
   "execution_count": 23,
   "metadata": {},
   "outputs": [
    {
     "name": "stdout",
     "output_type": "stream",
     "text": [
      "[1] \"/data/reddylab/Kuei/out/proj_combeffect_encode_fcc/results/region/region_screened_tmpra.bed\"\n"
     ]
    }
   ],
   "source": [
    "grg = grg_range_merge\n",
    "dat = data.frame(\n",
    "    Chrom   = as.character(seqnames(grg)),\n",
    "    Start   = start(grg),\n",
    "    End     = end(grg),\n",
    "    Gene    = grg$Gene,\n",
    "    Dataset = grg$Dataset\n",
    ")\n",
    "dat = dat %>% dplyr::arrange(Chrom, Start, End)\n",
    "\n",
    "fdiry = file.path(FD_RES, \"results\", \"region\")\n",
    "fname = \"region_screened_tmpra.bed\"\n",
    "fpath = file.path(fdiry, fname)\n",
    "print(fpath)\n",
    "\n",
    "write_tsv(dat, fpath, col_names = FALSE)"
   ]
  },
  {
   "cell_type": "markdown",
   "metadata": {},
   "source": [
    "## Check: total length"
   ]
  },
  {
   "cell_type": "code",
   "execution_count": 28,
   "metadata": {},
   "outputs": [
    {
     "data": {
      "text/plain": [
       "GRanges object with 8 ranges and 1 metadata column:\n",
       "      seqnames              ranges strand |        Name\n",
       "         <Rle>           <IRanges>  <Rle> | <character>\n",
       "  [1]    chr11   61787329-61898348      * |        FADS\n",
       "  [2]     chr8 126735901-128736550      * |         MYC\n",
       "  [3]     chrX   47785501-49880650      * |       GATA1\n",
       "  [4]    chr11     4505501-6505900      * |        HBE1\n",
       "  [5]    chr11   32869701-34870100      * |        LMO2\n",
       "  [6]    chr16       10001-1173100      * |        HBA2\n",
       "  [7]     chr2   59553301-61553700      * |      BCL11A\n",
       "  [8]    chr20   56391301-58391700      * |       RBM38\n",
       "  -------\n",
       "  seqinfo: 6 sequences from an unspecified genome; no seqlengths"
      ]
     },
     "metadata": {},
     "output_type": "display_data"
    }
   ],
   "source": [
    "grg = grg_range_merge\n",
    "grg"
   ]
  },
  {
   "cell_type": "code",
   "execution_count": 31,
   "metadata": {},
   "outputs": [
    {
     "data": {
      "text/html": [
       "<style>\n",
       ".list-inline {list-style: none; margin:0; padding: 0}\n",
       ".list-inline>li {display: inline-block}\n",
       ".list-inline>li:not(:last-child)::after {content: \"\\00b7\"; padding: 0 .5ex}\n",
       "</style>\n",
       "<ol class=list-inline><li>111020</li><li>2000650</li><li>2095150</li><li>2000400</li><li>2000400</li><li>1163100</li><li>2000400</li><li>2000400</li></ol>\n"
      ],
      "text/latex": [
       "\\begin{enumerate*}\n",
       "\\item 111020\n",
       "\\item 2000650\n",
       "\\item 2095150\n",
       "\\item 2000400\n",
       "\\item 2000400\n",
       "\\item 1163100\n",
       "\\item 2000400\n",
       "\\item 2000400\n",
       "\\end{enumerate*}\n"
      ],
      "text/markdown": [
       "1. 111020\n",
       "2. 2000650\n",
       "3. 2095150\n",
       "4. 2000400\n",
       "5. 2000400\n",
       "6. 1163100\n",
       "7. 2000400\n",
       "8. 2000400\n",
       "\n",
       "\n"
      ],
      "text/plain": [
       "[1]  111020 2000650 2095150 2000400 2000400 1163100 2000400 2000400"
      ]
     },
     "metadata": {},
     "output_type": "display_data"
    }
   ],
   "source": [
    "lengths(grg)"
   ]
  },
  {
   "cell_type": "code",
   "execution_count": 33,
   "metadata": {},
   "outputs": [
    {
     "data": {
      "text/html": [
       "13371520"
      ],
      "text/latex": [
       "13371520"
      ],
      "text/markdown": [
       "13371520"
      ],
      "text/plain": [
       "[1] 13371520"
      ]
     },
     "metadata": {},
     "output_type": "display_data"
    }
   ],
   "source": [
    "sum(lengths(grg))"
   ]
  },
  {
   "cell_type": "code",
   "execution_count": 34,
   "metadata": {},
   "outputs": [
    {
     "name": "stdout",
     "output_type": "stream",
     "text": [
      "[1] 209093      6\n"
     ]
    }
   ],
   "source": [
    "dat = bind_rows(\n",
    "    dat_frag_tmpra_OL13,\n",
    "    dat_frag_tmpra_OL43,\n",
    "    dat_frag_tmpra_OL45)\n",
    "print(dim(dat))"
   ]
  },
  {
   "cell_type": "markdown",
   "metadata": {},
   "source": [
    "## Check: intersect ranges with peak"
   ]
  },
  {
   "cell_type": "code",
   "execution_count": 36,
   "metadata": {},
   "outputs": [
    {
     "name": "stdout",
     "output_type": "stream",
     "text": [
      "[1] 247520      3\n"
     ]
    },
    {
     "data": {
      "text/html": [
       "<table class=\"dataframe\">\n",
       "<caption>A tibble: 6 × 3</caption>\n",
       "<thead>\n",
       "\t<tr><th scope=col>Chrom</th><th scope=col>Start</th><th scope=col>End</th></tr>\n",
       "\t<tr><th scope=col>&lt;chr&gt;</th><th scope=col>&lt;dbl&gt;</th><th scope=col>&lt;dbl&gt;</th></tr>\n",
       "</thead>\n",
       "<tbody>\n",
       "\t<tr><td>chr1</td><td>10015</td><td>10442</td></tr>\n",
       "\t<tr><td>chr1</td><td>14253</td><td>14645</td></tr>\n",
       "\t<tr><td>chr1</td><td>16015</td><td>16477</td></tr>\n",
       "\t<tr><td>chr1</td><td>17237</td><td>17772</td></tr>\n",
       "\t<tr><td>chr1</td><td>28903</td><td>29613</td></tr>\n",
       "\t<tr><td>chr1</td><td>30803</td><td>31072</td></tr>\n",
       "</tbody>\n",
       "</table>\n"
      ],
      "text/latex": [
       "A tibble: 6 × 3\n",
       "\\begin{tabular}{lll}\n",
       " Chrom & Start & End\\\\\n",
       " <chr> & <dbl> & <dbl>\\\\\n",
       "\\hline\n",
       "\t chr1 & 10015 & 10442\\\\\n",
       "\t chr1 & 14253 & 14645\\\\\n",
       "\t chr1 & 16015 & 16477\\\\\n",
       "\t chr1 & 17237 & 17772\\\\\n",
       "\t chr1 & 28903 & 29613\\\\\n",
       "\t chr1 & 30803 & 31072\\\\\n",
       "\\end{tabular}\n"
      ],
      "text/markdown": [
       "\n",
       "A tibble: 6 × 3\n",
       "\n",
       "| Chrom &lt;chr&gt; | Start &lt;dbl&gt; | End &lt;dbl&gt; |\n",
       "|---|---|---|\n",
       "| chr1 | 10015 | 10442 |\n",
       "| chr1 | 14253 | 14645 |\n",
       "| chr1 | 16015 | 16477 |\n",
       "| chr1 | 17237 | 17772 |\n",
       "| chr1 | 28903 | 29613 |\n",
       "| chr1 | 30803 | 31072 |\n",
       "\n"
      ],
      "text/plain": [
       "  Chrom Start End  \n",
       "1 chr1  10015 10442\n",
       "2 chr1  14253 14645\n",
       "3 chr1  16015 16477\n",
       "4 chr1  17237 17772\n",
       "5 chr1  28903 29613\n",
       "6 chr1  30803 31072"
      ]
     },
     "metadata": {},
     "output_type": "display_data"
    }
   ],
   "source": [
    "fdiry = file.path(FD_RES, \"results\", \"region\", \"KS91_K562_ASTARRseq_peak_macs_input\")\n",
    "fname = \"KS91_K562_hg38_ASTARRseq_Input.all_reps.masked.union_narrowPeak.q5.bed\"\n",
    "fpath = file.path(fdiry, fname)\n",
    "\n",
    "cnames = c(\"Chrom\", \"Start\", \"End\")\n",
    "dat = read_tsv(fpath, col_names = cnames, show_col_types = FALSE)\n",
    "\n",
    "dat_peak_atac_wgs = dat %>% mutate(Peak = paste(Chrom, Start, End, sep=\"_\"))\n",
    "print(dim(dat))\n",
    "head(dat)"
   ]
  },
  {
   "cell_type": "code",
   "execution_count": 37,
   "metadata": {},
   "outputs": [
    {
     "data": {
      "text/plain": [
       "GRanges object with 247520 ranges and 0 metadata columns:\n",
       "           seqnames              ranges strand\n",
       "              <Rle>           <IRanges>  <Rle>\n",
       "       [1]     chr1         10015-10442      *\n",
       "       [2]     chr1         14253-14645      *\n",
       "       [3]     chr1         16015-16477      *\n",
       "       [4]     chr1         17237-17772      *\n",
       "       [5]     chr1         28903-29613      *\n",
       "       ...      ...                 ...    ...\n",
       "  [247516]     chrX 156009687-156010227      *\n",
       "  [247517]     chrX 156016391-156016836      *\n",
       "  [247518]     chrX 156024950-156025593      *\n",
       "  [247519]     chrX 156030187-156030740      *\n",
       "  [247520]     chrY   11215098-11215422      *\n",
       "  -------\n",
       "  seqinfo: 83 sequences from an unspecified genome; no seqlengths"
      ]
     },
     "metadata": {},
     "output_type": "display_data"
    }
   ],
   "source": [
    "dat = dat_peak_atac_wgs\n",
    "grg = GRanges(\n",
    "    seqnames = dat$Chrom,\n",
    "    ranges   = IRanges(\n",
    "        start = dat$Start, \n",
    "        end   = dat$End\n",
    "    )\n",
    ")\n",
    "\n",
    "grg_peak = grg\n",
    "grg"
   ]
  },
  {
   "cell_type": "code",
   "execution_count": 40,
   "metadata": {},
   "outputs": [
    {
     "name": "stdout",
     "output_type": "stream",
     "text": [
      "[1] 247520\n",
      "[1] 198313779\n"
     ]
    }
   ],
   "source": [
    "print(length(grg_peak))\n",
    "print(sum(lengths(grg_peak)))"
   ]
  },
  {
   "cell_type": "code",
   "execution_count": 92,
   "metadata": {},
   "outputs": [],
   "source": [
    "grg  = grg_range_merge\n",
    "lst  = split(grg, grg$Name)\n",
    "idxs = names(lst)\n",
    "\n",
    "lst = lapply(idxs, function(idx){\n",
    "    grg = lst[[idx]]\n",
    "    grg = GenomicRanges::intersect(grg_peak, grg, ignore.strand = TRUE)\n",
    "    grg$Name = idx\n",
    "    return(grg)\n",
    "})\n",
    "names(lst) = idxs"
   ]
  },
  {
   "cell_type": "code",
   "execution_count": 93,
   "metadata": {},
   "outputs": [
    {
     "data": {
      "text/html": [
       "<dl>\n",
       "\t<dt>$BCL11A</dt>\n",
       "\t\t<dd>184</dd>\n",
       "\t<dt>$FADS</dt>\n",
       "\t\t<dd>22</dd>\n",
       "\t<dt>$GATA1</dt>\n",
       "\t\t<dd>206</dd>\n",
       "\t<dt>$HBA2</dt>\n",
       "\t\t<dd>284</dd>\n",
       "\t<dt>$HBE1</dt>\n",
       "\t\t<dd>266</dd>\n",
       "\t<dt>$LMO2</dt>\n",
       "\t\t<dd>301</dd>\n",
       "\t<dt>$MYC</dt>\n",
       "\t\t<dd>188</dd>\n",
       "\t<dt>$RBM38</dt>\n",
       "\t\t<dd>271</dd>\n",
       "</dl>\n"
      ],
      "text/latex": [
       "\\begin{description}\n",
       "\\item[\\$BCL11A] 184\n",
       "\\item[\\$FADS] 22\n",
       "\\item[\\$GATA1] 206\n",
       "\\item[\\$HBA2] 284\n",
       "\\item[\\$HBE1] 266\n",
       "\\item[\\$LMO2] 301\n",
       "\\item[\\$MYC] 188\n",
       "\\item[\\$RBM38] 271\n",
       "\\end{description}\n"
      ],
      "text/markdown": [
       "$BCL11A\n",
       ":   184\n",
       "$FADS\n",
       ":   22\n",
       "$GATA1\n",
       ":   206\n",
       "$HBA2\n",
       ":   284\n",
       "$HBE1\n",
       ":   266\n",
       "$LMO2\n",
       ":   301\n",
       "$MYC\n",
       ":   188\n",
       "$RBM38\n",
       ":   271\n",
       "\n",
       "\n"
      ],
      "text/plain": [
       "$BCL11A\n",
       "[1] 184\n",
       "\n",
       "$FADS\n",
       "[1] 22\n",
       "\n",
       "$GATA1\n",
       "[1] 206\n",
       "\n",
       "$HBA2\n",
       "[1] 284\n",
       "\n",
       "$HBE1\n",
       "[1] 266\n",
       "\n",
       "$LMO2\n",
       "[1] 301\n",
       "\n",
       "$MYC\n",
       "[1] 188\n",
       "\n",
       "$RBM38\n",
       "[1] 271\n"
      ]
     },
     "metadata": {},
     "output_type": "display_data"
    }
   ],
   "source": [
    "lapply(lst, length)"
   ]
  },
  {
   "cell_type": "code",
   "execution_count": null,
   "metadata": {},
   "outputs": [],
   "source": []
  },
  {
   "cell_type": "code",
   "execution_count": null,
   "metadata": {},
   "outputs": [],
   "source": []
  }
 ],
 "metadata": {
  "kernelspec": {
   "display_name": "R",
   "language": "R",
   "name": "ir"
  },
  "language_info": {
   "codemirror_mode": "r",
   "file_extension": ".r",
   "mimetype": "text/x-r-source",
   "name": "R",
   "pygments_lexer": "r",
   "version": "4.2.2"
  }
 },
 "nbformat": 4,
 "nbformat_minor": 4
}
