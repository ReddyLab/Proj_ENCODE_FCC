{
 "cells": [
  {
   "cell_type": "markdown",
   "metadata": {},
   "source": [
    "**Set environment**"
   ]
  },
  {
   "cell_type": "code",
   "execution_count": 1,
   "metadata": {},
   "outputs": [
    {
     "name": "stdout",
     "output_type": "stream",
     "text": [
      "You are in Singularity: singularity_proj_combeffect \n",
      "BASE DIRECTORY (FD_BASE): /data/reddylab/Kuei \n",
      "WORK DIRECTORY (FD_WORK): /data/reddylab/Kuei/out \n",
      "CODE DIRECTORY (FD_CODE): /data/reddylab/Kuei/code \n",
      "PATH OF PROJECT (FD_PRJ): /data/reddylab/Kuei/code/Proj_CombEffect_ENCODE_FCC \n",
      "PATH OF RESULTS (FD_RES): /data/reddylab/Kuei/out/proj_combeffect_encode_fcc \n",
      "PATH OF LOG     (FD_LOG): /data/reddylab/Kuei/out/proj_combeffect_encode_fcc/log \n"
     ]
    }
   ],
   "source": [
    "suppressMessages(suppressWarnings(source(\"../config/config_sing.R\")))\n",
    "show_env()"
   ]
  },
  {
   "cell_type": "markdown",
   "metadata": {},
   "source": [
    "## Import TMPRA data\n",
    "```\n",
    "OL13 (FADS)\n",
    "OL43 (GATA/MYC)\n",
    "OL45 (HBE1/LMO2/RBM38/HBA2/BCL11A)\n",
    "```"
   ]
  },
  {
   "cell_type": "markdown",
   "metadata": {},
   "source": [
    "**Check data file paths**"
   ]
  },
  {
   "cell_type": "code",
   "execution_count": 2,
   "metadata": {},
   "outputs": [
    {
     "name": "stdout",
     "output_type": "stream",
     "text": [
      " [1] \"FADS_tile_snp.20190214.attributes\"       \n",
      " [2] \"OL13_20220512_counts.out\"                \n",
      " [3] \"OL13_20220512_normalized_counts.out\"     \n",
      " [4] \"OL43_20211228_counts.out\"                \n",
      " [5] \"OL43_20211228_normalized_counts.out\"     \n",
      " [6] \"OL43_20221003_counts.out\"                \n",
      " [7] \"OL43_20221003_K562_normalized_counts.out\"\n",
      " [8] \"OL43_K562.bed\"                           \n",
      " [9] \"OL43.attributes\"                         \n",
      "[10] \"OL45_20220927_counts.out\"                \n",
      "[11] \"OL45_20220927_K562_normalized_counts.out\"\n",
      "[12] \"OL45_K562.bed\"                           \n",
      "[13] \"OL45.attributes\"                         \n"
     ]
    }
   ],
   "source": [
    "fdiry = file.path(FD_RES, \"source\", \"MPRA\", \"Tewhey_TMPRA\", \"tiling_counts\")\n",
    "print(dir(fdiry))"
   ]
  },
  {
   "cell_type": "code",
   "execution_count": 3,
   "metadata": {},
   "outputs": [
    {
     "name": "stdout",
     "output_type": "stream",
     "text": [
      "[1] \"OL13_20220512_counts.out\"                \n",
      "[2] \"OL13_20220512_normalized_counts.out\"     \n",
      "[3] \"OL43_20211228_counts.out\"                \n",
      "[4] \"OL43_20211228_normalized_counts.out\"     \n",
      "[5] \"OL43_20221003_counts.out\"                \n",
      "[6] \"OL43_20221003_K562_normalized_counts.out\"\n",
      "[7] \"OL45_20220927_counts.out\"                \n",
      "[8] \"OL45_20220927_K562_normalized_counts.out\"\n"
     ]
    }
   ],
   "source": [
    "fdiry  = file.path(FD_RES, \"source\", \"MPRA\", \"Tewhey_TMPRA\", \"tiling_counts\")\n",
    "fpaths = dir(fdiry)\n",
    "print(grep(\"out\", fpaths, value=TRUE))"
   ]
  },
  {
   "cell_type": "markdown",
   "metadata": {},
   "source": [
    "**Setup metadata**"
   ]
  },
  {
   "cell_type": "code",
   "execution_count": 4,
   "metadata": {},
   "outputs": [
    {
     "data": {
      "text/html": [
       "<table class=\"dataframe\">\n",
       "<caption>A data.frame: 6 × 6</caption>\n",
       "<thead>\n",
       "\t<tr><th scope=col>Dataset</th><th scope=col>Process</th><th scope=col>Genome</th><th scope=col>N_Rep_Input</th><th scope=col>N_Rep_Output</th><th scope=col>FName</th></tr>\n",
       "\t<tr><th scope=col>&lt;chr&gt;</th><th scope=col>&lt;chr&gt;</th><th scope=col>&lt;chr&gt;</th><th scope=col>&lt;dbl&gt;</th><th scope=col>&lt;dbl&gt;</th><th scope=col>&lt;chr&gt;</th></tr>\n",
       "</thead>\n",
       "<tbody>\n",
       "\t<tr><td>OL13_20220512</td><td>raw </td><td>hg19</td><td>4</td><td>4</td><td>OL13_20220512_counts.out                </td></tr>\n",
       "\t<tr><td>OL13_20220512</td><td>norm</td><td>hg19</td><td>4</td><td>4</td><td>OL13_20220512_normalized_counts.out     </td></tr>\n",
       "\t<tr><td>OL43_20221003</td><td>raw </td><td>hg38</td><td>6</td><td>5</td><td>OL43_20221003_counts.out                </td></tr>\n",
       "\t<tr><td>OL43_20221003</td><td>norm</td><td>hg38</td><td>6</td><td>5</td><td>OL43_20221003_K562_normalized_counts.out</td></tr>\n",
       "\t<tr><td>OL45_20220927</td><td>raw </td><td>hg38</td><td>4</td><td>4</td><td>OL45_20220927_counts.out                </td></tr>\n",
       "\t<tr><td>OL45_20220927</td><td>norm</td><td>hg38</td><td>4</td><td>4</td><td>OL45_20220927_K562_normalized_counts.out</td></tr>\n",
       "</tbody>\n",
       "</table>\n"
      ],
      "text/latex": [
       "A data.frame: 6 × 6\n",
       "\\begin{tabular}{llllll}\n",
       " Dataset & Process & Genome & N\\_Rep\\_Input & N\\_Rep\\_Output & FName\\\\\n",
       " <chr> & <chr> & <chr> & <dbl> & <dbl> & <chr>\\\\\n",
       "\\hline\n",
       "\t OL13\\_20220512 & raw  & hg19 & 4 & 4 & OL13\\_20220512\\_counts.out                \\\\\n",
       "\t OL13\\_20220512 & norm & hg19 & 4 & 4 & OL13\\_20220512\\_normalized\\_counts.out     \\\\\n",
       "\t OL43\\_20221003 & raw  & hg38 & 6 & 5 & OL43\\_20221003\\_counts.out                \\\\\n",
       "\t OL43\\_20221003 & norm & hg38 & 6 & 5 & OL43\\_20221003\\_K562\\_normalized\\_counts.out\\\\\n",
       "\t OL45\\_20220927 & raw  & hg38 & 4 & 4 & OL45\\_20220927\\_counts.out                \\\\\n",
       "\t OL45\\_20220927 & norm & hg38 & 4 & 4 & OL45\\_20220927\\_K562\\_normalized\\_counts.out\\\\\n",
       "\\end{tabular}\n"
      ],
      "text/markdown": [
       "\n",
       "A data.frame: 6 × 6\n",
       "\n",
       "| Dataset &lt;chr&gt; | Process &lt;chr&gt; | Genome &lt;chr&gt; | N_Rep_Input &lt;dbl&gt; | N_Rep_Output &lt;dbl&gt; | FName &lt;chr&gt; |\n",
       "|---|---|---|---|---|---|\n",
       "| OL13_20220512 | raw  | hg19 | 4 | 4 | OL13_20220512_counts.out                 |\n",
       "| OL13_20220512 | norm | hg19 | 4 | 4 | OL13_20220512_normalized_counts.out      |\n",
       "| OL43_20221003 | raw  | hg38 | 6 | 5 | OL43_20221003_counts.out                 |\n",
       "| OL43_20221003 | norm | hg38 | 6 | 5 | OL43_20221003_K562_normalized_counts.out |\n",
       "| OL45_20220927 | raw  | hg38 | 4 | 4 | OL45_20220927_counts.out                 |\n",
       "| OL45_20220927 | norm | hg38 | 4 | 4 | OL45_20220927_K562_normalized_counts.out |\n",
       "\n"
      ],
      "text/plain": [
       "  Dataset       Process Genome N_Rep_Input N_Rep_Output\n",
       "1 OL13_20220512 raw     hg19   4           4           \n",
       "2 OL13_20220512 norm    hg19   4           4           \n",
       "3 OL43_20221003 raw     hg38   6           5           \n",
       "4 OL43_20221003 norm    hg38   6           5           \n",
       "5 OL45_20220927 raw     hg38   4           4           \n",
       "6 OL45_20220927 norm    hg38   4           4           \n",
       "  FName                                   \n",
       "1 OL13_20220512_counts.out                \n",
       "2 OL13_20220512_normalized_counts.out     \n",
       "3 OL43_20221003_counts.out                \n",
       "4 OL43_20221003_K562_normalized_counts.out\n",
       "5 OL45_20220927_counts.out                \n",
       "6 OL45_20220927_K562_normalized_counts.out"
      ]
     },
     "metadata": {},
     "output_type": "display_data"
    }
   ],
   "source": [
    "dat_meta = data.frame(\n",
    "    Dataset = c(\n",
    "        \"OL13_20220512\", \"OL13_20220512\", \n",
    "        \"OL43_20221003\", \"OL43_20221003\", \n",
    "        \"OL45_20220927\", \"OL45_20220927\"),\n",
    "    Process = c(\"raw\", \"norm\", \"raw\", \"norm\", \"raw\", \"norm\"),\n",
    "    Genome  = c(\"hg19\", \"hg19\", \"hg38\", \"hg38\", \"hg38\", \"hg38\"),\n",
    "    N_Rep_Input  = c(4, 4, 6, 6, 4, 4),  \n",
    "    N_Rep_Output = c(4, 4, 5, 5, 4, 4), \n",
    "    FName = c(\n",
    "        \"OL13_20220512_counts.out\",\n",
    "        \"OL13_20220512_normalized_counts.out\",\n",
    "        \"OL43_20221003_counts.out\",\n",
    "        \"OL43_20221003_K562_normalized_counts.out\",\n",
    "        \"OL45_20220927_counts.out\",\n",
    "        \"OL45_20220927_K562_normalized_counts.out\")\n",
    ")\n",
    "dat_meta"
   ]
  },
  {
   "cell_type": "markdown",
   "metadata": {},
   "source": [
    "**Read data**"
   ]
  },
  {
   "cell_type": "code",
   "execution_count": 5,
   "metadata": {},
   "outputs": [
    {
     "name": "stdout",
     "output_type": "stream",
     "text": [
      "\n",
      "=======================\n",
      "OL13_20220512_counts.out \n",
      "Shape: 55229 9 \n",
      "                                               Name Input.rep1 Input.rep2\n",
      "1       (11:61555216-61555415;11:61555315:T:C_A_wC)       1609       1221\n",
      "2 (11:61555231-61555430_RC;11:61555330:T:C_A_wC_RC)       1179        582\n",
      "3 (11:61555315:T:C_A_wC_RC;11:61555216-61555415_RC)       1066        643\n",
      "  Input.rep3 Input.rep4 Output.rep1 Output.rep2 Output.rep3 Output.rep4\n",
      "1       1396        798         845         283         574        1223\n",
      "2       1225        721         476         416         912         956\n",
      "3       1206        681         470         846         540         847\n",
      "\n",
      "=======================\n",
      "OL13_20220512_normalized_counts.out \n",
      "Shape: 55229 9 \n",
      "                                               Name Input.rep1 Input.rep2\n",
      "1       (11:61555216-61555415;11:61555315:T:C_A_wC)   881.8510  1196.3976\n",
      "2 (11:61555231-61555430_RC;11:61555330:T:C_A_wC_RC)   646.1792   570.2730\n",
      "3 (11:61555315:T:C_A_wC_RC;11:61555216-61555415_RC)   584.2468   630.0439\n",
      "  Input.rep3 Input.rep4 Output.rep1 Output.rep2 Output.rep3 Output.rep4\n",
      "1   855.5317   774.9257    1807.947    569.6449    730.4747    1493.445\n",
      "2   750.7352   700.1522    1018.441    837.3579   1160.6148    1167.403\n",
      "3   739.0912   661.3088    1005.604   1702.8961    687.2061    1034.299\n",
      "\n",
      "=======================\n",
      "OL43_20221003_counts.out \n",
      "Shape: 99307 12 \n",
      "                                                     Name Input.rep1 Input.rep2\n",
      "1           (8:127381651-127381850;8:127320401-127320600)       1318       1810\n",
      "2 (8:127742001-127742200;Nadav:negCtrl:seq31776.neg1.MYC)        634        730\n",
      "3 (8:128045001-128045200;Nadav:posCtrl:seq31797.pos5.MYC)        416        432\n",
      "  Input.rep3 Input.rep4 Input.rep5 Input.rep6 Output.rep1 Output.rep2\n",
      "1       1477       1505        738        687         620         636\n",
      "2        698        761        316        343         158         194\n",
      "3        418        409        181        211       11164        6818\n",
      "  Output.rep3 Output.rep4 Output.rep5\n",
      "1         781         520         538\n",
      "2         268         141         251\n",
      "3       12118        9512       10450\n",
      "\n",
      "=======================\n",
      "OL43_20221003_K562_normalized_counts.out \n",
      "Shape: 99307 12 \n",
      "                                                     Name Input.rep1 Input.rep2\n",
      "1           (8:127381651-127381850;8:127320401-127320600)   887.4466  1078.7715\n",
      "2 (8:127742001-127742200;Nadav:negCtrl:seq31776.neg1.MYC)   426.8901   435.0846\n",
      "3 (8:128045001-128045200;Nadav:posCtrl:seq31797.pos5.MYC)   280.1045   257.4747\n",
      "  Input.rep3 Input.rep4 Input.rep5 Input.rep6 Output.rep1 Output.rep2\n",
      "1   946.8314   945.7219   962.3235   893.9085    961.7725   1136.6673\n",
      "2   447.4531   478.2022   412.0518   446.3037    245.0969    346.7193\n",
      "3   267.9590   257.0101   236.0170   274.5483  17318.1102  12185.2169\n",
      "  Output.rep3 Output.rep4 Output.rep5\n",
      "1    842.9706    896.6654    760.1443\n",
      "2    289.2652    243.1343    354.6398\n",
      "3  13079.5358  16402.0789  14764.8855\n",
      "\n",
      "=======================\n",
      "OL45_20220927_counts.out \n",
      "Shape: 94381 9 \n",
      "                                                                  Name\n",
      "1 (Nadav:posCtrl:seq33763.pos1.GATA1;Nadav:posCtrl:ENSG00000102317.270\n",
      "2                                                  1:10437778:C:T:R:wC\n",
      "3                                                  1:10451799:C:T:R:wC\n",
      "  Input.rep1 Input.rep2 Input.rep3 Input.rep4 Output.rep1 Output.rep2\n",
      "1        897        717        761        724       56816       37391\n",
      "2        645        437        491        493        2239        1698\n",
      "3        603        584        512        429         336         280\n",
      "  Output.rep3 Output.rep4\n",
      "1       36946       52349\n",
      "2        1202        2532\n",
      "3         321         333\n",
      "\n",
      "=======================\n",
      "OL45_20220927_K562_normalized_counts.out \n",
      "Shape: 94381 9 \n",
      "                                                                  Name\n",
      "1 (Nadav:posCtrl:seq33763.pos1.GATA1;Nadav:posCtrl:ENSG00000102317.270\n",
      "2                                                  1:10437778:C:T:R:wC\n",
      "3                                                  1:10451799:C:T:R:wC\n",
      "  Input.rep1 Input.rep2 Input.rep3 Input.rep4 Output.rep1 Output.rep2\n",
      "1   660.3527   622.9447   644.2283   623.2888  69961.0133  56175.0918\n",
      "2   474.8355   379.6748   415.6585   424.4218   2757.0175   2551.0231\n",
      "3   443.9160   507.3915   433.4361   369.3244    413.7373    420.6634\n",
      "  Output.rep3 Output.rep4\n",
      "1  62517.7362  58457.7541\n",
      "2   2033.9501   2827.4663\n",
      "3    543.1763    371.8587\n"
     ]
    }
   ],
   "source": [
    "lst_dat_read = lapply(1:nrow(dat_meta), function(idx){\n",
    "\n",
    "    ### Extract\n",
    "    xrow  = dat_meta[idx,]\n",
    "    fname = xrow$FName\n",
    "    n_rep_input  = xrow$N_Rep_Input\n",
    "    n_rep_output = xrow$N_Rep_Output\n",
    "    \n",
    "    ### set file directory\n",
    "    fdiry = file.path(FD_RES, \"source\", \"MPRA\", \"Tewhey_TMPRA\", \"tiling_counts\")\n",
    "    fpath = file.path(fdiry, fname)\n",
    "          \n",
    "    ### read data\n",
    "    dat = read.table(fpath, row.names=1)\n",
    "    dat = dat %>% rownames_to_column(var = \"Name\")\n",
    "\n",
    "    ### rename columns & assign\n",
    "    cnames = c(\n",
    "        \"Name\", \n",
    "        paste0(\"Input.rep\",  1:n_rep_input), \n",
    "        paste0(\"Output.rep\", 1:n_rep_output)\n",
    "    )\n",
    "    colnames(dat) = cnames\n",
    "    \n",
    "    ### show progress and return\n",
    "    cat(\"\\n=======================\\n\")\n",
    "    cat(fname, \"\\n\")\n",
    "    cat(\"Shape:\", dim(dat), \"\\n\")\n",
    "    print(head(dat, 3))\n",
    "    flush.console()\n",
    "    return(dat)\n",
    "})\n",
    "\n",
    "names(lst_dat_read) = paste(dat_meta$Dataset, dat_meta$Genome, dat_meta$Process, sep=\".\")"
   ]
  },
  {
   "cell_type": "markdown",
   "metadata": {},
   "source": [
    "**Debug**"
   ]
  },
  {
   "cell_type": "code",
   "execution_count": null,
   "metadata": {},
   "outputs": [],
   "source": []
  },
  {
   "cell_type": "code",
   "execution_count": null,
   "metadata": {},
   "outputs": [],
   "source": []
  },
  {
   "cell_type": "code",
   "execution_count": 6,
   "metadata": {},
   "outputs": [
    {
     "name": "stdout",
     "output_type": "stream",
     "text": [
      "[1] \"OL13_20220512.hg19.raw\"  \"OL13_20220512.hg19.norm\"\n",
      "[3] \"OL43_20221003.hg38.raw\"  \"OL43_20221003.hg38.norm\"\n",
      "[5] \"OL45_20220927.hg38.raw\"  \"OL45_20220927.hg38.norm\"\n"
     ]
    },
    {
     "data": {
      "text/html": [
       "6"
      ],
      "text/latex": [
       "6"
      ],
      "text/markdown": [
       "6"
      ],
      "text/plain": [
       "[1] 6"
      ]
     },
     "metadata": {},
     "output_type": "display_data"
    }
   ],
   "source": [
    "lst = lst_dat_read\n",
    "print(names(lst))\n",
    "length(lst)"
   ]
  },
  {
   "cell_type": "code",
   "execution_count": 7,
   "metadata": {},
   "outputs": [
    {
     "data": {
      "text/html": [
       "<table class=\"dataframe\">\n",
       "<caption>A tibble: 6 × 12</caption>\n",
       "<thead>\n",
       "\t<tr><th scope=col>Name</th><th scope=col>Input.rep1</th><th scope=col>Input.rep2</th><th scope=col>Input.rep3</th><th scope=col>Input.rep4</th><th scope=col>Input.rep5</th><th scope=col>Input.rep6</th><th scope=col>Output.rep1</th><th scope=col>Output.rep2</th><th scope=col>Output.rep3</th><th scope=col>Output.rep4</th><th scope=col>Output.rep5</th></tr>\n",
       "\t<tr><th scope=col>&lt;chr&gt;</th><th scope=col>&lt;int&gt;</th><th scope=col>&lt;int&gt;</th><th scope=col>&lt;int&gt;</th><th scope=col>&lt;int&gt;</th><th scope=col>&lt;int&gt;</th><th scope=col>&lt;int&gt;</th><th scope=col>&lt;int&gt;</th><th scope=col>&lt;int&gt;</th><th scope=col>&lt;int&gt;</th><th scope=col>&lt;int&gt;</th><th scope=col>&lt;int&gt;</th></tr>\n",
       "</thead>\n",
       "<tbody>\n",
       "\t<tr><td>8:127381651-127381850</td><td>1318</td><td>1810</td><td>1477</td><td>1505</td><td>738</td><td>687</td><td>  620</td><td>  636</td><td>  781</td><td>  520</td><td>  538</td></tr>\n",
       "\t<tr><td>8:127320401-127320600</td><td>1318</td><td>1810</td><td>1477</td><td>1505</td><td>738</td><td>687</td><td>  620</td><td>  636</td><td>  781</td><td>  520</td><td>  538</td></tr>\n",
       "\t<tr><td>8:127742001-127742200</td><td> 634</td><td> 730</td><td> 698</td><td> 761</td><td>316</td><td>343</td><td>  158</td><td>  194</td><td>  268</td><td>  141</td><td>  251</td></tr>\n",
       "\t<tr><td>8:128045001-128045200</td><td> 416</td><td> 432</td><td> 418</td><td> 409</td><td>181</td><td>211</td><td>11164</td><td> 6818</td><td>12118</td><td> 9512</td><td>10450</td></tr>\n",
       "\t<tr><td>8:128176951-128177150</td><td>1150</td><td>1271</td><td>1325</td><td>1255</td><td>597</td><td>580</td><td>14919</td><td> 9299</td><td>28832</td><td>15790</td><td>19501</td></tr>\n",
       "\t<tr><td>X:48782961-48783160  </td><td> 345</td><td> 370</td><td> 389</td><td> 373</td><td>211</td><td>187</td><td>17116</td><td>10370</td><td>22126</td><td>16725</td><td>18361</td></tr>\n",
       "</tbody>\n",
       "</table>\n"
      ],
      "text/latex": [
       "A tibble: 6 × 12\n",
       "\\begin{tabular}{llllllllllll}\n",
       " Name & Input.rep1 & Input.rep2 & Input.rep3 & Input.rep4 & Input.rep5 & Input.rep6 & Output.rep1 & Output.rep2 & Output.rep3 & Output.rep4 & Output.rep5\\\\\n",
       " <chr> & <int> & <int> & <int> & <int> & <int> & <int> & <int> & <int> & <int> & <int> & <int>\\\\\n",
       "\\hline\n",
       "\t 8:127381651-127381850 & 1318 & 1810 & 1477 & 1505 & 738 & 687 &   620 &   636 &   781 &   520 &   538\\\\\n",
       "\t 8:127320401-127320600 & 1318 & 1810 & 1477 & 1505 & 738 & 687 &   620 &   636 &   781 &   520 &   538\\\\\n",
       "\t 8:127742001-127742200 &  634 &  730 &  698 &  761 & 316 & 343 &   158 &   194 &   268 &   141 &   251\\\\\n",
       "\t 8:128045001-128045200 &  416 &  432 &  418 &  409 & 181 & 211 & 11164 &  6818 & 12118 &  9512 & 10450\\\\\n",
       "\t 8:128176951-128177150 & 1150 & 1271 & 1325 & 1255 & 597 & 580 & 14919 &  9299 & 28832 & 15790 & 19501\\\\\n",
       "\t X:48782961-48783160   &  345 &  370 &  389 &  373 & 211 & 187 & 17116 & 10370 & 22126 & 16725 & 18361\\\\\n",
       "\\end{tabular}\n"
      ],
      "text/markdown": [
       "\n",
       "A tibble: 6 × 12\n",
       "\n",
       "| Name &lt;chr&gt; | Input.rep1 &lt;int&gt; | Input.rep2 &lt;int&gt; | Input.rep3 &lt;int&gt; | Input.rep4 &lt;int&gt; | Input.rep5 &lt;int&gt; | Input.rep6 &lt;int&gt; | Output.rep1 &lt;int&gt; | Output.rep2 &lt;int&gt; | Output.rep3 &lt;int&gt; | Output.rep4 &lt;int&gt; | Output.rep5 &lt;int&gt; |\n",
       "|---|---|---|---|---|---|---|---|---|---|---|---|\n",
       "| 8:127381651-127381850 | 1318 | 1810 | 1477 | 1505 | 738 | 687 |   620 |   636 |   781 |   520 |   538 |\n",
       "| 8:127320401-127320600 | 1318 | 1810 | 1477 | 1505 | 738 | 687 |   620 |   636 |   781 |   520 |   538 |\n",
       "| 8:127742001-127742200 |  634 |  730 |  698 |  761 | 316 | 343 |   158 |   194 |   268 |   141 |   251 |\n",
       "| 8:128045001-128045200 |  416 |  432 |  418 |  409 | 181 | 211 | 11164 |  6818 | 12118 |  9512 | 10450 |\n",
       "| 8:128176951-128177150 | 1150 | 1271 | 1325 | 1255 | 597 | 580 | 14919 |  9299 | 28832 | 15790 | 19501 |\n",
       "| X:48782961-48783160   |  345 |  370 |  389 |  373 | 211 | 187 | 17116 | 10370 | 22126 | 16725 | 18361 |\n",
       "\n"
      ],
      "text/plain": [
       "  Name                  Input.rep1 Input.rep2 Input.rep3 Input.rep4 Input.rep5\n",
       "1 8:127381651-127381850 1318       1810       1477       1505       738       \n",
       "2 8:127320401-127320600 1318       1810       1477       1505       738       \n",
       "3 8:127742001-127742200  634        730        698        761       316       \n",
       "4 8:128045001-128045200  416        432        418        409       181       \n",
       "5 8:128176951-128177150 1150       1271       1325       1255       597       \n",
       "6 X:48782961-48783160    345        370        389        373       211       \n",
       "  Input.rep6 Output.rep1 Output.rep2 Output.rep3 Output.rep4 Output.rep5\n",
       "1 687          620         636         781         520         538      \n",
       "2 687          620         636         781         520         538      \n",
       "3 343          158         194         268         141         251      \n",
       "4 211        11164        6818       12118        9512       10450      \n",
       "5 580        14919        9299       28832       15790       19501      \n",
       "6 187        17116       10370       22126       16725       18361      "
      ]
     },
     "metadata": {},
     "output_type": "display_data"
    }
   ],
   "source": [
    "dat = lst[[\"OL43_20221003.hg38.raw\"]]\n",
    "dat = dat %>% \n",
    "    dplyr::mutate(Name = gsub(\"\\\\(|\\\\)\", \"\", Name)) %>% \n",
    "    tidyr::separate_rows(Name, sep=\";\") %>%\n",
    "    dplyr::filter(!grepl(pattern = \"Nadav\", Name))\n",
    "\n",
    "head(dat)"
   ]
  },
  {
   "cell_type": "code",
   "execution_count": null,
   "metadata": {},
   "outputs": [],
   "source": []
  },
  {
   "cell_type": "code",
   "execution_count": null,
   "metadata": {},
   "outputs": [],
   "source": []
  },
  {
   "cell_type": "code",
   "execution_count": 8,
   "metadata": {},
   "outputs": [],
   "source": [
    "dat = lst[[\"OL45_20220927.hg38.raw\"]]\n",
    "dat = dat %>% \n",
    "    dplyr::mutate(Name = gsub(\"\\\\(|\\\\)\", \"\", Name)) %>% \n",
    "    tidyr::separate_rows(Name, sep=\";\") %>%\n",
    "    dplyr::filter(!grepl(pattern = \"Nadav|ORF\", Name)) "
   ]
  },
  {
   "cell_type": "code",
   "execution_count": 9,
   "metadata": {},
   "outputs": [
    {
     "data": {
      "text/html": [
       "<table class=\"dataframe\">\n",
       "<caption>A tibble: 6 × 9</caption>\n",
       "<thead>\n",
       "\t<tr><th scope=col>Name</th><th scope=col>Input.rep1</th><th scope=col>Input.rep2</th><th scope=col>Input.rep3</th><th scope=col>Input.rep4</th><th scope=col>Output.rep1</th><th scope=col>Output.rep2</th><th scope=col>Output.rep3</th><th scope=col>Output.rep4</th></tr>\n",
       "\t<tr><th scope=col>&lt;chr&gt;</th><th scope=col>&lt;int&gt;</th><th scope=col>&lt;int&gt;</th><th scope=col>&lt;int&gt;</th><th scope=col>&lt;int&gt;</th><th scope=col>&lt;int&gt;</th><th scope=col>&lt;int&gt;</th><th scope=col>&lt;int&gt;</th><th scope=col>&lt;int&gt;</th></tr>\n",
       "</thead>\n",
       "<tbody>\n",
       "\t<tr><td>1:10437778:C:T:R:wC </td><td>645</td><td>437</td><td>491</td><td>493</td><td> 2239</td><td> 1698</td><td> 1202</td><td> 2532</td></tr>\n",
       "\t<tr><td>1:10451799:C:T:R:wC </td><td>603</td><td>584</td><td>512</td><td>429</td><td>  336</td><td>  280</td><td>  321</td><td>  333</td></tr>\n",
       "\t<tr><td>1:110198727:C:G:R:wC</td><td>681</td><td>589</td><td>628</td><td>550</td><td>46046</td><td>37138</td><td>33992</td><td>53823</td></tr>\n",
       "\t<tr><td>1:110881742:NA:NA   </td><td>930</td><td>795</td><td>874</td><td>765</td><td>24701</td><td>18211</td><td>17386</td><td>29053</td></tr>\n",
       "\t<tr><td>1:111838694:C:T:R:wC</td><td>834</td><td>579</td><td>755</td><td>763</td><td>34228</td><td>34188</td><td>32379</td><td>37480</td></tr>\n",
       "\t<tr><td>1:113047064:NA:NA   </td><td>635</td><td>500</td><td>560</td><td>550</td><td>  390</td><td>  326</td><td>  243</td><td>  574</td></tr>\n",
       "</tbody>\n",
       "</table>\n"
      ],
      "text/latex": [
       "A tibble: 6 × 9\n",
       "\\begin{tabular}{lllllllll}\n",
       " Name & Input.rep1 & Input.rep2 & Input.rep3 & Input.rep4 & Output.rep1 & Output.rep2 & Output.rep3 & Output.rep4\\\\\n",
       " <chr> & <int> & <int> & <int> & <int> & <int> & <int> & <int> & <int>\\\\\n",
       "\\hline\n",
       "\t 1:10437778:C:T:R:wC  & 645 & 437 & 491 & 493 &  2239 &  1698 &  1202 &  2532\\\\\n",
       "\t 1:10451799:C:T:R:wC  & 603 & 584 & 512 & 429 &   336 &   280 &   321 &   333\\\\\n",
       "\t 1:110198727:C:G:R:wC & 681 & 589 & 628 & 550 & 46046 & 37138 & 33992 & 53823\\\\\n",
       "\t 1:110881742:NA:NA    & 930 & 795 & 874 & 765 & 24701 & 18211 & 17386 & 29053\\\\\n",
       "\t 1:111838694:C:T:R:wC & 834 & 579 & 755 & 763 & 34228 & 34188 & 32379 & 37480\\\\\n",
       "\t 1:113047064:NA:NA    & 635 & 500 & 560 & 550 &   390 &   326 &   243 &   574\\\\\n",
       "\\end{tabular}\n"
      ],
      "text/markdown": [
       "\n",
       "A tibble: 6 × 9\n",
       "\n",
       "| Name &lt;chr&gt; | Input.rep1 &lt;int&gt; | Input.rep2 &lt;int&gt; | Input.rep3 &lt;int&gt; | Input.rep4 &lt;int&gt; | Output.rep1 &lt;int&gt; | Output.rep2 &lt;int&gt; | Output.rep3 &lt;int&gt; | Output.rep4 &lt;int&gt; |\n",
       "|---|---|---|---|---|---|---|---|---|\n",
       "| 1:10437778:C:T:R:wC  | 645 | 437 | 491 | 493 |  2239 |  1698 |  1202 |  2532 |\n",
       "| 1:10451799:C:T:R:wC  | 603 | 584 | 512 | 429 |   336 |   280 |   321 |   333 |\n",
       "| 1:110198727:C:G:R:wC | 681 | 589 | 628 | 550 | 46046 | 37138 | 33992 | 53823 |\n",
       "| 1:110881742:NA:NA    | 930 | 795 | 874 | 765 | 24701 | 18211 | 17386 | 29053 |\n",
       "| 1:111838694:C:T:R:wC | 834 | 579 | 755 | 763 | 34228 | 34188 | 32379 | 37480 |\n",
       "| 1:113047064:NA:NA    | 635 | 500 | 560 | 550 |   390 |   326 |   243 |   574 |\n",
       "\n"
      ],
      "text/plain": [
       "  Name                 Input.rep1 Input.rep2 Input.rep3 Input.rep4 Output.rep1\n",
       "1 1:10437778:C:T:R:wC  645        437        491        493         2239      \n",
       "2 1:10451799:C:T:R:wC  603        584        512        429          336      \n",
       "3 1:110198727:C:G:R:wC 681        589        628        550        46046      \n",
       "4 1:110881742:NA:NA    930        795        874        765        24701      \n",
       "5 1:111838694:C:T:R:wC 834        579        755        763        34228      \n",
       "6 1:113047064:NA:NA    635        500        560        550          390      \n",
       "  Output.rep2 Output.rep3 Output.rep4\n",
       "1  1698        1202        2532      \n",
       "2   280         321         333      \n",
       "3 37138       33992       53823      \n",
       "4 18211       17386       29053      \n",
       "5 34188       32379       37480      \n",
       "6   326         243         574      "
      ]
     },
     "metadata": {},
     "output_type": "display_data"
    }
   ],
   "source": [
    "head(dat)"
   ]
  },
  {
   "cell_type": "code",
   "execution_count": 10,
   "metadata": {},
   "outputs": [
    {
     "data": {
      "text/html": [
       "<table class=\"dataframe\">\n",
       "<caption>A tibble: 6 × 9</caption>\n",
       "<thead>\n",
       "\t<tr><th scope=col>Name</th><th scope=col>Input.rep1</th><th scope=col>Input.rep2</th><th scope=col>Input.rep3</th><th scope=col>Input.rep4</th><th scope=col>Output.rep1</th><th scope=col>Output.rep2</th><th scope=col>Output.rep3</th><th scope=col>Output.rep4</th></tr>\n",
       "\t<tr><th scope=col>&lt;chr&gt;</th><th scope=col>&lt;int&gt;</th><th scope=col>&lt;int&gt;</th><th scope=col>&lt;int&gt;</th><th scope=col>&lt;int&gt;</th><th scope=col>&lt;int&gt;</th><th scope=col>&lt;int&gt;</th><th scope=col>&lt;int&gt;</th><th scope=col>&lt;int&gt;</th></tr>\n",
       "</thead>\n",
       "<tbody>\n",
       "\t<tr><td>X:24819107:NA:NA</td><td> 667</td><td> 588</td><td> 585</td><td> 534</td><td>  421</td><td> 247</td><td> 320</td><td>  418</td></tr>\n",
       "\t<tr><td>X:24893812:NA:NA</td><td> 809</td><td> 716</td><td> 698</td><td> 723</td><td>  485</td><td> 582</td><td> 341</td><td>  553</td></tr>\n",
       "\t<tr><td>X:39110157:NA:NA</td><td> 509</td><td> 425</td><td> 551</td><td> 474</td><td>  428</td><td> 237</td><td> 310</td><td>  372</td></tr>\n",
       "\t<tr><td>X:49154578:NA:NA</td><td> 868</td><td> 776</td><td> 830</td><td> 720</td><td>  535</td><td> 373</td><td> 435</td><td>  648</td></tr>\n",
       "\t<tr><td>X:64815540:NA:NA</td><td> 603</td><td> 522</td><td> 498</td><td> 525</td><td>10737</td><td>9883</td><td>9705</td><td>13399</td></tr>\n",
       "\t<tr><td>X:69674065:NA:NA</td><td>1461</td><td>1287</td><td>1267</td><td>1226</td><td> 1172</td><td>1016</td><td> 954</td><td> 1365</td></tr>\n",
       "</tbody>\n",
       "</table>\n"
      ],
      "text/latex": [
       "A tibble: 6 × 9\n",
       "\\begin{tabular}{lllllllll}\n",
       " Name & Input.rep1 & Input.rep2 & Input.rep3 & Input.rep4 & Output.rep1 & Output.rep2 & Output.rep3 & Output.rep4\\\\\n",
       " <chr> & <int> & <int> & <int> & <int> & <int> & <int> & <int> & <int>\\\\\n",
       "\\hline\n",
       "\t X:24819107:NA:NA &  667 &  588 &  585 &  534 &   421 &  247 &  320 &   418\\\\\n",
       "\t X:24893812:NA:NA &  809 &  716 &  698 &  723 &   485 &  582 &  341 &   553\\\\\n",
       "\t X:39110157:NA:NA &  509 &  425 &  551 &  474 &   428 &  237 &  310 &   372\\\\\n",
       "\t X:49154578:NA:NA &  868 &  776 &  830 &  720 &   535 &  373 &  435 &   648\\\\\n",
       "\t X:64815540:NA:NA &  603 &  522 &  498 &  525 & 10737 & 9883 & 9705 & 13399\\\\\n",
       "\t X:69674065:NA:NA & 1461 & 1287 & 1267 & 1226 &  1172 & 1016 &  954 &  1365\\\\\n",
       "\\end{tabular}\n"
      ],
      "text/markdown": [
       "\n",
       "A tibble: 6 × 9\n",
       "\n",
       "| Name &lt;chr&gt; | Input.rep1 &lt;int&gt; | Input.rep2 &lt;int&gt; | Input.rep3 &lt;int&gt; | Input.rep4 &lt;int&gt; | Output.rep1 &lt;int&gt; | Output.rep2 &lt;int&gt; | Output.rep3 &lt;int&gt; | Output.rep4 &lt;int&gt; |\n",
       "|---|---|---|---|---|---|---|---|---|\n",
       "| X:24819107:NA:NA |  667 |  588 |  585 |  534 |   421 |  247 |  320 |   418 |\n",
       "| X:24893812:NA:NA |  809 |  716 |  698 |  723 |   485 |  582 |  341 |   553 |\n",
       "| X:39110157:NA:NA |  509 |  425 |  551 |  474 |   428 |  237 |  310 |   372 |\n",
       "| X:49154578:NA:NA |  868 |  776 |  830 |  720 |   535 |  373 |  435 |   648 |\n",
       "| X:64815540:NA:NA |  603 |  522 |  498 |  525 | 10737 | 9883 | 9705 | 13399 |\n",
       "| X:69674065:NA:NA | 1461 | 1287 | 1267 | 1226 |  1172 | 1016 |  954 |  1365 |\n",
       "\n"
      ],
      "text/plain": [
       "  Name             Input.rep1 Input.rep2 Input.rep3 Input.rep4 Output.rep1\n",
       "1 X:24819107:NA:NA  667        588        585        534         421      \n",
       "2 X:24893812:NA:NA  809        716        698        723         485      \n",
       "3 X:39110157:NA:NA  509        425        551        474         428      \n",
       "4 X:49154578:NA:NA  868        776        830        720         535      \n",
       "5 X:64815540:NA:NA  603        522        498        525       10737      \n",
       "6 X:69674065:NA:NA 1461       1287       1267       1226        1172      \n",
       "  Output.rep2 Output.rep3 Output.rep4\n",
       "1  247         320          418      \n",
       "2  582         341          553      \n",
       "3  237         310          372      \n",
       "4  373         435          648      \n",
       "5 9883        9705        13399      \n",
       "6 1016         954         1365      "
      ]
     },
     "metadata": {},
     "output_type": "display_data"
    }
   ],
   "source": [
    "tail(dat)"
   ]
  },
  {
   "cell_type": "code",
   "execution_count": 11,
   "metadata": {},
   "outputs": [
    {
     "name": "stdout",
     "output_type": "stream",
     "text": [
      "[1] 91110     9\n"
     ]
    }
   ],
   "source": [
    "pattern=\":[0-9]*-[0-9]*\"\n",
    "pattern = \"^[chr|0-9|X]+:[0-9]*-[0-9]*\"\n",
    "res = dat %>% dplyr::filter(str_detect(string=Name, pattern=pattern))\n",
    "print(dim(res))"
   ]
  },
  {
   "cell_type": "code",
   "execution_count": 12,
   "metadata": {},
   "outputs": [
    {
     "data": {
      "text/html": [
       "<table class=\"dataframe\">\n",
       "<caption>A tibble: 6 × 9</caption>\n",
       "<thead>\n",
       "\t<tr><th scope=col>Name</th><th scope=col>Input.rep1</th><th scope=col>Input.rep2</th><th scope=col>Input.rep3</th><th scope=col>Input.rep4</th><th scope=col>Output.rep1</th><th scope=col>Output.rep2</th><th scope=col>Output.rep3</th><th scope=col>Output.rep4</th></tr>\n",
       "\t<tr><th scope=col>&lt;chr&gt;</th><th scope=col>&lt;int&gt;</th><th scope=col>&lt;int&gt;</th><th scope=col>&lt;int&gt;</th><th scope=col>&lt;int&gt;</th><th scope=col>&lt;int&gt;</th><th scope=col>&lt;int&gt;</th><th scope=col>&lt;int&gt;</th><th scope=col>&lt;int&gt;</th></tr>\n",
       "</thead>\n",
       "<tbody>\n",
       "\t<tr><td>chr11:32869701-32869900</td><td>298</td><td>270</td><td>296</td><td>317</td><td> 533</td><td> 442</td><td>378</td><td> 894</td></tr>\n",
       "\t<tr><td>chr11:32869801-32870000</td><td>454</td><td>339</td><td>430</td><td>426</td><td> 361</td><td> 252</td><td>262</td><td> 356</td></tr>\n",
       "\t<tr><td>chr11:32869901-32870100</td><td>359</td><td>282</td><td>259</td><td>307</td><td> 129</td><td>  74</td><td> 95</td><td>  85</td></tr>\n",
       "\t<tr><td>chr11:32870001-32870200</td><td>447</td><td>366</td><td>485</td><td>371</td><td> 266</td><td> 227</td><td>177</td><td> 226</td></tr>\n",
       "\t<tr><td>chr11:32870101-32870300</td><td>397</td><td>352</td><td>358</td><td>306</td><td>2057</td><td>1104</td><td>879</td><td>1983</td></tr>\n",
       "\t<tr><td>chr11:32870201-32870400</td><td>296</td><td>227</td><td>294</td><td>214</td><td> 349</td><td> 244</td><td>222</td><td> 338</td></tr>\n",
       "</tbody>\n",
       "</table>\n"
      ],
      "text/latex": [
       "A tibble: 6 × 9\n",
       "\\begin{tabular}{lllllllll}\n",
       " Name & Input.rep1 & Input.rep2 & Input.rep3 & Input.rep4 & Output.rep1 & Output.rep2 & Output.rep3 & Output.rep4\\\\\n",
       " <chr> & <int> & <int> & <int> & <int> & <int> & <int> & <int> & <int>\\\\\n",
       "\\hline\n",
       "\t chr11:32869701-32869900 & 298 & 270 & 296 & 317 &  533 &  442 & 378 &  894\\\\\n",
       "\t chr11:32869801-32870000 & 454 & 339 & 430 & 426 &  361 &  252 & 262 &  356\\\\\n",
       "\t chr11:32869901-32870100 & 359 & 282 & 259 & 307 &  129 &   74 &  95 &   85\\\\\n",
       "\t chr11:32870001-32870200 & 447 & 366 & 485 & 371 &  266 &  227 & 177 &  226\\\\\n",
       "\t chr11:32870101-32870300 & 397 & 352 & 358 & 306 & 2057 & 1104 & 879 & 1983\\\\\n",
       "\t chr11:32870201-32870400 & 296 & 227 & 294 & 214 &  349 &  244 & 222 &  338\\\\\n",
       "\\end{tabular}\n"
      ],
      "text/markdown": [
       "\n",
       "A tibble: 6 × 9\n",
       "\n",
       "| Name &lt;chr&gt; | Input.rep1 &lt;int&gt; | Input.rep2 &lt;int&gt; | Input.rep3 &lt;int&gt; | Input.rep4 &lt;int&gt; | Output.rep1 &lt;int&gt; | Output.rep2 &lt;int&gt; | Output.rep3 &lt;int&gt; | Output.rep4 &lt;int&gt; |\n",
       "|---|---|---|---|---|---|---|---|---|\n",
       "| chr11:32869701-32869900 | 298 | 270 | 296 | 317 |  533 |  442 | 378 |  894 |\n",
       "| chr11:32869801-32870000 | 454 | 339 | 430 | 426 |  361 |  252 | 262 |  356 |\n",
       "| chr11:32869901-32870100 | 359 | 282 | 259 | 307 |  129 |   74 |  95 |   85 |\n",
       "| chr11:32870001-32870200 | 447 | 366 | 485 | 371 |  266 |  227 | 177 |  226 |\n",
       "| chr11:32870101-32870300 | 397 | 352 | 358 | 306 | 2057 | 1104 | 879 | 1983 |\n",
       "| chr11:32870201-32870400 | 296 | 227 | 294 | 214 |  349 |  244 | 222 |  338 |\n",
       "\n"
      ],
      "text/plain": [
       "  Name                    Input.rep1 Input.rep2 Input.rep3 Input.rep4\n",
       "1 chr11:32869701-32869900 298        270        296        317       \n",
       "2 chr11:32869801-32870000 454        339        430        426       \n",
       "3 chr11:32869901-32870100 359        282        259        307       \n",
       "4 chr11:32870001-32870200 447        366        485        371       \n",
       "5 chr11:32870101-32870300 397        352        358        306       \n",
       "6 chr11:32870201-32870400 296        227        294        214       \n",
       "  Output.rep1 Output.rep2 Output.rep3 Output.rep4\n",
       "1  533         442        378          894       \n",
       "2  361         252        262          356       \n",
       "3  129          74         95           85       \n",
       "4  266         227        177          226       \n",
       "5 2057        1104        879         1983       \n",
       "6  349         244        222          338       "
      ]
     },
     "metadata": {},
     "output_type": "display_data"
    }
   ],
   "source": [
    "head(res)"
   ]
  },
  {
   "cell_type": "code",
   "execution_count": 13,
   "metadata": {},
   "outputs": [
    {
     "data": {
      "text/html": [
       "<table class=\"dataframe\">\n",
       "<caption>A tibble: 6 × 9</caption>\n",
       "<thead>\n",
       "\t<tr><th scope=col>Name</th><th scope=col>Input.rep1</th><th scope=col>Input.rep2</th><th scope=col>Input.rep3</th><th scope=col>Input.rep4</th><th scope=col>Output.rep1</th><th scope=col>Output.rep2</th><th scope=col>Output.rep3</th><th scope=col>Output.rep4</th></tr>\n",
       "\t<tr><th scope=col>&lt;chr&gt;</th><th scope=col>&lt;int&gt;</th><th scope=col>&lt;int&gt;</th><th scope=col>&lt;int&gt;</th><th scope=col>&lt;int&gt;</th><th scope=col>&lt;int&gt;</th><th scope=col>&lt;int&gt;</th><th scope=col>&lt;int&gt;</th><th scope=col>&lt;int&gt;</th></tr>\n",
       "</thead>\n",
       "<tbody>\n",
       "\t<tr><td>chr20:58391001-58391200</td><td>1138</td><td>862</td><td>1125</td><td>1080</td><td>1122</td><td> 752</td><td> 760</td><td>1095</td></tr>\n",
       "\t<tr><td>chr20:58391101-58391300</td><td> 947</td><td>792</td><td>1005</td><td> 925</td><td>1395</td><td>1118</td><td>1281</td><td>1631</td></tr>\n",
       "\t<tr><td>chr20:58391201-58391400</td><td> 684</td><td>619</td><td> 659</td><td> 624</td><td> 455</td><td> 326</td><td> 380</td><td> 577</td></tr>\n",
       "\t<tr><td>chr20:58391301-58391500</td><td> 375</td><td>367</td><td> 341</td><td> 315</td><td> 467</td><td> 416</td><td> 257</td><td> 423</td></tr>\n",
       "\t<tr><td>chr20:58391401-58391600</td><td> 532</td><td>464</td><td> 456</td><td> 510</td><td> 402</td><td> 435</td><td> 398</td><td> 600</td></tr>\n",
       "\t<tr><td>chr20:58391501-58391700</td><td> 850</td><td>752</td><td> 725</td><td> 694</td><td> 841</td><td> 589</td><td> 549</td><td> 840</td></tr>\n",
       "</tbody>\n",
       "</table>\n"
      ],
      "text/latex": [
       "A tibble: 6 × 9\n",
       "\\begin{tabular}{lllllllll}\n",
       " Name & Input.rep1 & Input.rep2 & Input.rep3 & Input.rep4 & Output.rep1 & Output.rep2 & Output.rep3 & Output.rep4\\\\\n",
       " <chr> & <int> & <int> & <int> & <int> & <int> & <int> & <int> & <int>\\\\\n",
       "\\hline\n",
       "\t chr20:58391001-58391200 & 1138 & 862 & 1125 & 1080 & 1122 &  752 &  760 & 1095\\\\\n",
       "\t chr20:58391101-58391300 &  947 & 792 & 1005 &  925 & 1395 & 1118 & 1281 & 1631\\\\\n",
       "\t chr20:58391201-58391400 &  684 & 619 &  659 &  624 &  455 &  326 &  380 &  577\\\\\n",
       "\t chr20:58391301-58391500 &  375 & 367 &  341 &  315 &  467 &  416 &  257 &  423\\\\\n",
       "\t chr20:58391401-58391600 &  532 & 464 &  456 &  510 &  402 &  435 &  398 &  600\\\\\n",
       "\t chr20:58391501-58391700 &  850 & 752 &  725 &  694 &  841 &  589 &  549 &  840\\\\\n",
       "\\end{tabular}\n"
      ],
      "text/markdown": [
       "\n",
       "A tibble: 6 × 9\n",
       "\n",
       "| Name &lt;chr&gt; | Input.rep1 &lt;int&gt; | Input.rep2 &lt;int&gt; | Input.rep3 &lt;int&gt; | Input.rep4 &lt;int&gt; | Output.rep1 &lt;int&gt; | Output.rep2 &lt;int&gt; | Output.rep3 &lt;int&gt; | Output.rep4 &lt;int&gt; |\n",
       "|---|---|---|---|---|---|---|---|---|\n",
       "| chr20:58391001-58391200 | 1138 | 862 | 1125 | 1080 | 1122 |  752 |  760 | 1095 |\n",
       "| chr20:58391101-58391300 |  947 | 792 | 1005 |  925 | 1395 | 1118 | 1281 | 1631 |\n",
       "| chr20:58391201-58391400 |  684 | 619 |  659 |  624 |  455 |  326 |  380 |  577 |\n",
       "| chr20:58391301-58391500 |  375 | 367 |  341 |  315 |  467 |  416 |  257 |  423 |\n",
       "| chr20:58391401-58391600 |  532 | 464 |  456 |  510 |  402 |  435 |  398 |  600 |\n",
       "| chr20:58391501-58391700 |  850 | 752 |  725 |  694 |  841 |  589 |  549 |  840 |\n",
       "\n"
      ],
      "text/plain": [
       "  Name                    Input.rep1 Input.rep2 Input.rep3 Input.rep4\n",
       "1 chr20:58391001-58391200 1138       862        1125       1080      \n",
       "2 chr20:58391101-58391300  947       792        1005        925      \n",
       "3 chr20:58391201-58391400  684       619         659        624      \n",
       "4 chr20:58391301-58391500  375       367         341        315      \n",
       "5 chr20:58391401-58391600  532       464         456        510      \n",
       "6 chr20:58391501-58391700  850       752         725        694      \n",
       "  Output.rep1 Output.rep2 Output.rep3 Output.rep4\n",
       "1 1122         752         760        1095       \n",
       "2 1395        1118        1281        1631       \n",
       "3  455         326         380         577       \n",
       "4  467         416         257         423       \n",
       "5  402         435         398         600       \n",
       "6  841         589         549         840       "
      ]
     },
     "metadata": {},
     "output_type": "display_data"
    }
   ],
   "source": [
    "tail(res)"
   ]
  },
  {
   "cell_type": "markdown",
   "metadata": {},
   "source": [
    "## Preprocess the table: Extract only tiling regions"
   ]
  },
  {
   "cell_type": "code",
   "execution_count": 14,
   "metadata": {},
   "outputs": [],
   "source": [
    "get_strand = function(x){ifelse(is.na(x), \"+\", \"-\")}\n",
    "add_chrom  = function(x){ifelse(str_detect(x, \"chr\"), x, paste0(\"chr\", x))}\n",
    "\n",
    "fun_extract   = function(dat) {\n",
    "    ### Input:  dataframe\n",
    "    ### Output: dataframe\n",
    "    ### Description:\n",
    "    ###     Preprocess the raw dataframe\n",
    "    ###     - expand duplicates\n",
    "    ###     - filter and extract only tiling oligos\n",
    "    ###     - get location information\n",
    "    ### ===========================================\n",
    "    ### init regex pattern\n",
    "    pattern = \"^[chr|0-9|X]+:[0-9]*-[0-9]*\"\n",
    "    \n",
    "    ### preprocess\n",
    "    res = dat %>% \n",
    "        dplyr::mutate(Name = gsub(\"\\\\(|\\\\)\", \"\", Name)) %>% \n",
    "        tidyr::separate_rows(Name, sep=\";\") %>%\n",
    "        dplyr::filter(!grepl(pattern = \"Nadav\", Name)) %>%\n",
    "        dplyr::filter(str_detect(string=Name, pattern=pattern)) %>%\n",
    "        tidyr::separate(Name, c(\"Chrom\", \"Start\", \"End\", \"Strand\"), remove=FALSE, fill=\"right\") %>%\n",
    "        dplyr::mutate(\n",
    "            Chrom  = add_chrom(Chrom),\n",
    "            Start  = as.integer(Start),\n",
    "            End    = as.integer(End),\n",
    "            Name   = add_chrom(Name),\n",
    "            Strand = get_strand(Strand))\n",
    "    return(res)\n",
    "}"
   ]
  },
  {
   "cell_type": "code",
   "execution_count": 15,
   "metadata": {},
   "outputs": [
    {
     "name": "stdout",
     "output_type": "stream",
     "text": [
      "$OL13_20220512.hg19.raw\n",
      "[1] 55229     9\n",
      "\n",
      "$OL13_20220512.hg19.norm\n",
      "[1] 55229     9\n",
      "\n",
      "$OL43_20221003.hg38.raw\n",
      "[1] 99307    12\n",
      "\n",
      "$OL43_20221003.hg38.norm\n",
      "[1] 99307    12\n",
      "\n",
      "$OL45_20220927.hg38.raw\n",
      "[1] 94381     9\n",
      "\n",
      "$OL45_20220927.hg38.norm\n",
      "[1] 94381     9\n",
      "\n",
      "++++++++++++++++++++++++++++++++++++++++\n",
      "$OL13_20220512.hg19.raw\n",
      "[1] 43907    13\n",
      "\n",
      "$OL13_20220512.hg19.norm\n",
      "[1] 43907    13\n",
      "\n",
      "$OL43_20221003.hg38.raw\n",
      "[1] 96108    16\n",
      "\n",
      "$OL43_20221003.hg38.norm\n",
      "[1] 96108    16\n",
      "\n",
      "$OL45_20220927.hg38.raw\n",
      "[1] 91110    13\n",
      "\n",
      "$OL45_20220927.hg38.norm\n",
      "[1] 91110    13\n",
      "\n"
     ]
    }
   ],
   "source": [
    "### init\n",
    "lst = lst_dat_read\n",
    "\n",
    "### before preprocessed\n",
    "print(lapply(lst, dim))\n",
    "cat(\"++++++++++++++++++++++++++++++++++++++++\\n\")\n",
    "\n",
    "### after proprocessed\n",
    "lst = lapply(lst, fun_extract)\n",
    "lst_dat_extract = lst\n",
    "print(lapply(lst, dim))"
   ]
  },
  {
   "cell_type": "markdown",
   "metadata": {},
   "source": [
    "**Show results**"
   ]
  },
  {
   "cell_type": "code",
   "execution_count": 16,
   "metadata": {},
   "outputs": [
    {
     "data": {
      "text/html": [
       "<dl>\n",
       "\t<dt>$OL13_20220512.hg19.raw</dt>\n",
       "\t\t<dd><table class=\"dataframe\">\n",
       "<caption>A tibble: 3 × 13</caption>\n",
       "<thead>\n",
       "\t<tr><th scope=col>Name</th><th scope=col>Chrom</th><th scope=col>Start</th><th scope=col>End</th><th scope=col>Strand</th><th scope=col>Input.rep1</th><th scope=col>Input.rep2</th><th scope=col>Input.rep3</th><th scope=col>Input.rep4</th><th scope=col>Output.rep1</th><th scope=col>Output.rep2</th><th scope=col>Output.rep3</th><th scope=col>Output.rep4</th></tr>\n",
       "\t<tr><th scope=col>&lt;chr&gt;</th><th scope=col>&lt;chr&gt;</th><th scope=col>&lt;int&gt;</th><th scope=col>&lt;int&gt;</th><th scope=col>&lt;chr&gt;</th><th scope=col>&lt;int&gt;</th><th scope=col>&lt;int&gt;</th><th scope=col>&lt;int&gt;</th><th scope=col>&lt;int&gt;</th><th scope=col>&lt;int&gt;</th><th scope=col>&lt;int&gt;</th><th scope=col>&lt;int&gt;</th><th scope=col>&lt;int&gt;</th></tr>\n",
       "</thead>\n",
       "<tbody>\n",
       "\t<tr><td>chr11:61559376-61559575_RC</td><td>chr11</td><td>61559376</td><td>61559575</td><td>-</td><td>363</td><td>256</td><td>368</td><td>252</td><td>  0</td><td> 32</td><td>  0</td><td> 37</td></tr>\n",
       "\t<tr><td>chr11:61628981-61629180_RC</td><td>chr11</td><td>61628981</td><td>61629180</td><td>-</td><td>823</td><td>497</td><td>638</td><td>344</td><td> 78</td><td>300</td><td>263</td><td>298</td></tr>\n",
       "\t<tr><td>chr11:61628421-61628620   </td><td>chr11</td><td>61628421</td><td>61628620</td><td>+</td><td>400</td><td>378</td><td>637</td><td>250</td><td>138</td><td>165</td><td>295</td><td>236</td></tr>\n",
       "</tbody>\n",
       "</table>\n",
       "</dd>\n",
       "\t<dt>$OL13_20220512.hg19.norm</dt>\n",
       "\t\t<dd><table class=\"dataframe\">\n",
       "<caption>A tibble: 3 × 13</caption>\n",
       "<thead>\n",
       "\t<tr><th scope=col>Name</th><th scope=col>Chrom</th><th scope=col>Start</th><th scope=col>End</th><th scope=col>Strand</th><th scope=col>Input.rep1</th><th scope=col>Input.rep2</th><th scope=col>Input.rep3</th><th scope=col>Input.rep4</th><th scope=col>Output.rep1</th><th scope=col>Output.rep2</th><th scope=col>Output.rep3</th><th scope=col>Output.rep4</th></tr>\n",
       "\t<tr><th scope=col>&lt;chr&gt;</th><th scope=col>&lt;chr&gt;</th><th scope=col>&lt;int&gt;</th><th scope=col>&lt;int&gt;</th><th scope=col>&lt;chr&gt;</th><th scope=col>&lt;dbl&gt;</th><th scope=col>&lt;dbl&gt;</th><th scope=col>&lt;dbl&gt;</th><th scope=col>&lt;dbl&gt;</th><th scope=col>&lt;dbl&gt;</th><th scope=col>&lt;dbl&gt;</th><th scope=col>&lt;dbl&gt;</th><th scope=col>&lt;dbl&gt;</th></tr>\n",
       "</thead>\n",
       "<tbody>\n",
       "\t<tr><td>chr11:61648876-61649075_RC</td><td>chr11</td><td>61648876</td><td>61649075</td><td>-</td><td>303.0849</td><td>283.1768</td><td>304.58401</td><td>238.8869</td><td>179.7249</td><td>181.1592</td><td>  0.0000</td><td>363.8974</td></tr>\n",
       "\t<tr><td>chr11:61558796-61558995   </td><td>chr11</td><td>61558796</td><td>61558995</td><td>+</td><td>488.8819</td><td>550.6760</td><td>591.39550</td><td>539.9232</td><td>842.9954</td><td>215.3781</td><td>674.4801</td><td>461.5880</td></tr>\n",
       "\t<tr><td>chr11:61652526-61652725   </td><td>chr11</td><td>61652526</td><td>61652725</td><td>+</td><td>118.9320</td><td>117.5821</td><td> 86.41116</td><td>140.8073</td><td>  0.0000</td><td>255.6357</td><td>442.8662</td><td>124.5555</td></tr>\n",
       "</tbody>\n",
       "</table>\n",
       "</dd>\n",
       "\t<dt>$OL43_20221003.hg38.raw</dt>\n",
       "\t\t<dd><table class=\"dataframe\">\n",
       "<caption>A tibble: 3 × 16</caption>\n",
       "<thead>\n",
       "\t<tr><th scope=col>Name</th><th scope=col>Chrom</th><th scope=col>Start</th><th scope=col>End</th><th scope=col>Strand</th><th scope=col>Input.rep1</th><th scope=col>Input.rep2</th><th scope=col>Input.rep3</th><th scope=col>Input.rep4</th><th scope=col>Input.rep5</th><th scope=col>Input.rep6</th><th scope=col>Output.rep1</th><th scope=col>Output.rep2</th><th scope=col>Output.rep3</th><th scope=col>Output.rep4</th><th scope=col>Output.rep5</th></tr>\n",
       "\t<tr><th scope=col>&lt;chr&gt;</th><th scope=col>&lt;chr&gt;</th><th scope=col>&lt;int&gt;</th><th scope=col>&lt;int&gt;</th><th scope=col>&lt;chr&gt;</th><th scope=col>&lt;int&gt;</th><th scope=col>&lt;int&gt;</th><th scope=col>&lt;int&gt;</th><th scope=col>&lt;int&gt;</th><th scope=col>&lt;int&gt;</th><th scope=col>&lt;int&gt;</th><th scope=col>&lt;int&gt;</th><th scope=col>&lt;int&gt;</th><th scope=col>&lt;int&gt;</th><th scope=col>&lt;int&gt;</th><th scope=col>&lt;int&gt;</th></tr>\n",
       "</thead>\n",
       "<tbody>\n",
       "\t<tr><td>chr8:127212351-127212550</td><td>chr8</td><td>127212351</td><td>127212550</td><td>+</td><td>498</td><td>576</td><td>544</td><td>596</td><td>231</td><td>270</td><td>  228</td><td>  201</td><td>  369</td><td>  182</td><td>  251</td></tr>\n",
       "\t<tr><td>chrX:48539581-48539780  </td><td>chrX</td><td> 48539581</td><td> 48539780</td><td>+</td><td>271</td><td>290</td><td>221</td><td>253</td><td>108</td><td>139</td><td>15877</td><td>10329</td><td>17175</td><td>14124</td><td>14530</td></tr>\n",
       "\t<tr><td>chrX:48294251-48294450  </td><td>chrX</td><td> 48294251</td><td> 48294450</td><td>+</td><td>181</td><td>221</td><td>277</td><td>253</td><td> 96</td><td>106</td><td>   38</td><td>   73</td><td>  128</td><td>   74</td><td>  105</td></tr>\n",
       "</tbody>\n",
       "</table>\n",
       "</dd>\n",
       "\t<dt>$OL43_20221003.hg38.norm</dt>\n",
       "\t\t<dd><table class=\"dataframe\">\n",
       "<caption>A tibble: 3 × 16</caption>\n",
       "<thead>\n",
       "\t<tr><th scope=col>Name</th><th scope=col>Chrom</th><th scope=col>Start</th><th scope=col>End</th><th scope=col>Strand</th><th scope=col>Input.rep1</th><th scope=col>Input.rep2</th><th scope=col>Input.rep3</th><th scope=col>Input.rep4</th><th scope=col>Input.rep5</th><th scope=col>Input.rep6</th><th scope=col>Output.rep1</th><th scope=col>Output.rep2</th><th scope=col>Output.rep3</th><th scope=col>Output.rep4</th><th scope=col>Output.rep5</th></tr>\n",
       "\t<tr><th scope=col>&lt;chr&gt;</th><th scope=col>&lt;chr&gt;</th><th scope=col>&lt;int&gt;</th><th scope=col>&lt;int&gt;</th><th scope=col>&lt;chr&gt;</th><th scope=col>&lt;dbl&gt;</th><th scope=col>&lt;dbl&gt;</th><th scope=col>&lt;dbl&gt;</th><th scope=col>&lt;dbl&gt;</th><th scope=col>&lt;dbl&gt;</th><th scope=col>&lt;dbl&gt;</th><th scope=col>&lt;dbl&gt;</th><th scope=col>&lt;dbl&gt;</th><th scope=col>&lt;dbl&gt;</th><th scope=col>&lt;dbl&gt;</th><th scope=col>&lt;dbl&gt;</th></tr>\n",
       "</thead>\n",
       "<tbody>\n",
       "\t<tr><td>chr8:127441201-127441400</td><td>chr8</td><td>127441201</td><td>127441400</td><td>+</td><td> 233.6449</td><td> 222.3104</td><td> 171.1604</td><td> 221.1921</td><td> 215.1536</td><td> 252.4283</td><td> 228.0332</td><td>121.5305</td><td>212.6315</td><td> 184.5061</td><td>156.8328</td></tr>\n",
       "\t<tr><td>chr8:127491151-127491350</td><td>chr8</td><td>127491151</td><td>127491350</td><td>+</td><td> 438.3367</td><td> 409.4564</td><td> 412.1954</td><td> 390.8565</td><td> 355.9815</td><td> 352.6189</td><td> 642.2158</td><td>616.5884</td><td>457.6434</td><td> 496.6147</td><td>508.6468</td></tr>\n",
       "\t<tr><td>chr8:128028501-128028700</td><td>chr8</td><td>128028501</td><td>128028700</td><td>+</td><td>1120.4181</td><td>1169.3644</td><td>1135.3002</td><td>1182.6237</td><td>1090.1117</td><td>1122.9157</td><td>1002.1049</td><td>886.4576</td><td>943.3499</td><td>1046.6844</td><td>916.9771</td></tr>\n",
       "</tbody>\n",
       "</table>\n",
       "</dd>\n",
       "\t<dt>$OL45_20220927.hg38.raw</dt>\n",
       "\t\t<dd><table class=\"dataframe\">\n",
       "<caption>A tibble: 3 × 13</caption>\n",
       "<thead>\n",
       "\t<tr><th scope=col>Name</th><th scope=col>Chrom</th><th scope=col>Start</th><th scope=col>End</th><th scope=col>Strand</th><th scope=col>Input.rep1</th><th scope=col>Input.rep2</th><th scope=col>Input.rep3</th><th scope=col>Input.rep4</th><th scope=col>Output.rep1</th><th scope=col>Output.rep2</th><th scope=col>Output.rep3</th><th scope=col>Output.rep4</th></tr>\n",
       "\t<tr><th scope=col>&lt;chr&gt;</th><th scope=col>&lt;chr&gt;</th><th scope=col>&lt;int&gt;</th><th scope=col>&lt;int&gt;</th><th scope=col>&lt;chr&gt;</th><th scope=col>&lt;int&gt;</th><th scope=col>&lt;int&gt;</th><th scope=col>&lt;int&gt;</th><th scope=col>&lt;int&gt;</th><th scope=col>&lt;int&gt;</th><th scope=col>&lt;int&gt;</th><th scope=col>&lt;int&gt;</th><th scope=col>&lt;int&gt;</th></tr>\n",
       "</thead>\n",
       "<tbody>\n",
       "\t<tr><td>chr20:58250701-58250900</td><td>chr20</td><td>58250701</td><td>58250900</td><td>+</td><td>225</td><td>216</td><td>217</td><td>192</td><td> 120</td><td> 105</td><td> 121</td><td>  98</td></tr>\n",
       "\t<tr><td>chr11:33783701-33783900</td><td>chr11</td><td>33783701</td><td>33783900</td><td>+</td><td>786</td><td>596</td><td>647</td><td>773</td><td>2050</td><td>1933</td><td>1917</td><td>2263</td></tr>\n",
       "\t<tr><td>chr11:5570301-5570500  </td><td>chr11</td><td> 5570301</td><td> 5570500</td><td>+</td><td>294</td><td>254</td><td>226</td><td>187</td><td> 158</td><td> 137</td><td> 110</td><td> 250</td></tr>\n",
       "</tbody>\n",
       "</table>\n",
       "</dd>\n",
       "\t<dt>$OL45_20220927.hg38.norm</dt>\n",
       "\t\t<dd><table class=\"dataframe\">\n",
       "<caption>A tibble: 3 × 13</caption>\n",
       "<thead>\n",
       "\t<tr><th scope=col>Name</th><th scope=col>Chrom</th><th scope=col>Start</th><th scope=col>End</th><th scope=col>Strand</th><th scope=col>Input.rep1</th><th scope=col>Input.rep2</th><th scope=col>Input.rep3</th><th scope=col>Input.rep4</th><th scope=col>Output.rep1</th><th scope=col>Output.rep2</th><th scope=col>Output.rep3</th><th scope=col>Output.rep4</th></tr>\n",
       "\t<tr><th scope=col>&lt;chr&gt;</th><th scope=col>&lt;chr&gt;</th><th scope=col>&lt;int&gt;</th><th scope=col>&lt;int&gt;</th><th scope=col>&lt;chr&gt;</th><th scope=col>&lt;dbl&gt;</th><th scope=col>&lt;dbl&gt;</th><th scope=col>&lt;dbl&gt;</th><th scope=col>&lt;dbl&gt;</th><th scope=col>&lt;dbl&gt;</th><th scope=col>&lt;dbl&gt;</th><th scope=col>&lt;dbl&gt;</th><th scope=col>&lt;dbl&gt;</th></tr>\n",
       "</thead>\n",
       "<tbody>\n",
       "\t<tr><td>chr2:60047901-60048100 </td><td>chr2 </td><td>60047901</td><td>60048100</td><td>+</td><td>635.3226</td><td>677.6804</td><td>700.1009</td><td>686.1342</td><td>446.9841</td><td>381.6018</td><td>419.6503</td><td>503.62848</td></tr>\n",
       "\t<tr><td>chr11:33672501-33672700</td><td>chr11</td><td>33672501</td><td>33672700</td><td>+</td><td>711.1490</td><td>671.5987</td><td>617.9851</td><td>668.9163</td><td>507.3208</td><td>438.6918</td><td>417.9581</td><td>714.68343</td></tr>\n",
       "\t<tr><td>chr11:34229601-34229800</td><td>chr11</td><td>34229601</td><td>34229800</td><td>+</td><td>128.8313</td><td>118.1597</td><td>126.1367</td><td>141.1870</td><td>155.1515</td><td>174.2748</td><td>135.3711</td><td> 92.68551</td></tr>\n",
       "</tbody>\n",
       "</table>\n",
       "</dd>\n",
       "</dl>\n"
      ],
      "text/latex": [
       "\\begin{description}\n",
       "\\item[\\$OL13\\_20220512.hg19.raw] A tibble: 3 × 13\n",
       "\\begin{tabular}{lllllllllllll}\n",
       " Name & Chrom & Start & End & Strand & Input.rep1 & Input.rep2 & Input.rep3 & Input.rep4 & Output.rep1 & Output.rep2 & Output.rep3 & Output.rep4\\\\\n",
       " <chr> & <chr> & <int> & <int> & <chr> & <int> & <int> & <int> & <int> & <int> & <int> & <int> & <int>\\\\\n",
       "\\hline\n",
       "\t chr11:61559376-61559575\\_RC & chr11 & 61559376 & 61559575 & - & 363 & 256 & 368 & 252 &   0 &  32 &   0 &  37\\\\\n",
       "\t chr11:61628981-61629180\\_RC & chr11 & 61628981 & 61629180 & - & 823 & 497 & 638 & 344 &  78 & 300 & 263 & 298\\\\\n",
       "\t chr11:61628421-61628620    & chr11 & 61628421 & 61628620 & + & 400 & 378 & 637 & 250 & 138 & 165 & 295 & 236\\\\\n",
       "\\end{tabular}\n",
       "\n",
       "\\item[\\$OL13\\_20220512.hg19.norm] A tibble: 3 × 13\n",
       "\\begin{tabular}{lllllllllllll}\n",
       " Name & Chrom & Start & End & Strand & Input.rep1 & Input.rep2 & Input.rep3 & Input.rep4 & Output.rep1 & Output.rep2 & Output.rep3 & Output.rep4\\\\\n",
       " <chr> & <chr> & <int> & <int> & <chr> & <dbl> & <dbl> & <dbl> & <dbl> & <dbl> & <dbl> & <dbl> & <dbl>\\\\\n",
       "\\hline\n",
       "\t chr11:61648876-61649075\\_RC & chr11 & 61648876 & 61649075 & - & 303.0849 & 283.1768 & 304.58401 & 238.8869 & 179.7249 & 181.1592 &   0.0000 & 363.8974\\\\\n",
       "\t chr11:61558796-61558995    & chr11 & 61558796 & 61558995 & + & 488.8819 & 550.6760 & 591.39550 & 539.9232 & 842.9954 & 215.3781 & 674.4801 & 461.5880\\\\\n",
       "\t chr11:61652526-61652725    & chr11 & 61652526 & 61652725 & + & 118.9320 & 117.5821 &  86.41116 & 140.8073 &   0.0000 & 255.6357 & 442.8662 & 124.5555\\\\\n",
       "\\end{tabular}\n",
       "\n",
       "\\item[\\$OL43\\_20221003.hg38.raw] A tibble: 3 × 16\n",
       "\\begin{tabular}{llllllllllllllll}\n",
       " Name & Chrom & Start & End & Strand & Input.rep1 & Input.rep2 & Input.rep3 & Input.rep4 & Input.rep5 & Input.rep6 & Output.rep1 & Output.rep2 & Output.rep3 & Output.rep4 & Output.rep5\\\\\n",
       " <chr> & <chr> & <int> & <int> & <chr> & <int> & <int> & <int> & <int> & <int> & <int> & <int> & <int> & <int> & <int> & <int>\\\\\n",
       "\\hline\n",
       "\t chr8:127212351-127212550 & chr8 & 127212351 & 127212550 & + & 498 & 576 & 544 & 596 & 231 & 270 &   228 &   201 &   369 &   182 &   251\\\\\n",
       "\t chrX:48539581-48539780   & chrX &  48539581 &  48539780 & + & 271 & 290 & 221 & 253 & 108 & 139 & 15877 & 10329 & 17175 & 14124 & 14530\\\\\n",
       "\t chrX:48294251-48294450   & chrX &  48294251 &  48294450 & + & 181 & 221 & 277 & 253 &  96 & 106 &    38 &    73 &   128 &    74 &   105\\\\\n",
       "\\end{tabular}\n",
       "\n",
       "\\item[\\$OL43\\_20221003.hg38.norm] A tibble: 3 × 16\n",
       "\\begin{tabular}{llllllllllllllll}\n",
       " Name & Chrom & Start & End & Strand & Input.rep1 & Input.rep2 & Input.rep3 & Input.rep4 & Input.rep5 & Input.rep6 & Output.rep1 & Output.rep2 & Output.rep3 & Output.rep4 & Output.rep5\\\\\n",
       " <chr> & <chr> & <int> & <int> & <chr> & <dbl> & <dbl> & <dbl> & <dbl> & <dbl> & <dbl> & <dbl> & <dbl> & <dbl> & <dbl> & <dbl>\\\\\n",
       "\\hline\n",
       "\t chr8:127441201-127441400 & chr8 & 127441201 & 127441400 & + &  233.6449 &  222.3104 &  171.1604 &  221.1921 &  215.1536 &  252.4283 &  228.0332 & 121.5305 & 212.6315 &  184.5061 & 156.8328\\\\\n",
       "\t chr8:127491151-127491350 & chr8 & 127491151 & 127491350 & + &  438.3367 &  409.4564 &  412.1954 &  390.8565 &  355.9815 &  352.6189 &  642.2158 & 616.5884 & 457.6434 &  496.6147 & 508.6468\\\\\n",
       "\t chr8:128028501-128028700 & chr8 & 128028501 & 128028700 & + & 1120.4181 & 1169.3644 & 1135.3002 & 1182.6237 & 1090.1117 & 1122.9157 & 1002.1049 & 886.4576 & 943.3499 & 1046.6844 & 916.9771\\\\\n",
       "\\end{tabular}\n",
       "\n",
       "\\item[\\$OL45\\_20220927.hg38.raw] A tibble: 3 × 13\n",
       "\\begin{tabular}{lllllllllllll}\n",
       " Name & Chrom & Start & End & Strand & Input.rep1 & Input.rep2 & Input.rep3 & Input.rep4 & Output.rep1 & Output.rep2 & Output.rep3 & Output.rep4\\\\\n",
       " <chr> & <chr> & <int> & <int> & <chr> & <int> & <int> & <int> & <int> & <int> & <int> & <int> & <int>\\\\\n",
       "\\hline\n",
       "\t chr20:58250701-58250900 & chr20 & 58250701 & 58250900 & + & 225 & 216 & 217 & 192 &  120 &  105 &  121 &   98\\\\\n",
       "\t chr11:33783701-33783900 & chr11 & 33783701 & 33783900 & + & 786 & 596 & 647 & 773 & 2050 & 1933 & 1917 & 2263\\\\\n",
       "\t chr11:5570301-5570500   & chr11 &  5570301 &  5570500 & + & 294 & 254 & 226 & 187 &  158 &  137 &  110 &  250\\\\\n",
       "\\end{tabular}\n",
       "\n",
       "\\item[\\$OL45\\_20220927.hg38.norm] A tibble: 3 × 13\n",
       "\\begin{tabular}{lllllllllllll}\n",
       " Name & Chrom & Start & End & Strand & Input.rep1 & Input.rep2 & Input.rep3 & Input.rep4 & Output.rep1 & Output.rep2 & Output.rep3 & Output.rep4\\\\\n",
       " <chr> & <chr> & <int> & <int> & <chr> & <dbl> & <dbl> & <dbl> & <dbl> & <dbl> & <dbl> & <dbl> & <dbl>\\\\\n",
       "\\hline\n",
       "\t chr2:60047901-60048100  & chr2  & 60047901 & 60048100 & + & 635.3226 & 677.6804 & 700.1009 & 686.1342 & 446.9841 & 381.6018 & 419.6503 & 503.62848\\\\\n",
       "\t chr11:33672501-33672700 & chr11 & 33672501 & 33672700 & + & 711.1490 & 671.5987 & 617.9851 & 668.9163 & 507.3208 & 438.6918 & 417.9581 & 714.68343\\\\\n",
       "\t chr11:34229601-34229800 & chr11 & 34229601 & 34229800 & + & 128.8313 & 118.1597 & 126.1367 & 141.1870 & 155.1515 & 174.2748 & 135.3711 &  92.68551\\\\\n",
       "\\end{tabular}\n",
       "\n",
       "\\end{description}\n"
      ],
      "text/markdown": [
       "$OL13_20220512.hg19.raw\n",
       ":   \n",
       "A tibble: 3 × 13\n",
       "\n",
       "| Name &lt;chr&gt; | Chrom &lt;chr&gt; | Start &lt;int&gt; | End &lt;int&gt; | Strand &lt;chr&gt; | Input.rep1 &lt;int&gt; | Input.rep2 &lt;int&gt; | Input.rep3 &lt;int&gt; | Input.rep4 &lt;int&gt; | Output.rep1 &lt;int&gt; | Output.rep2 &lt;int&gt; | Output.rep3 &lt;int&gt; | Output.rep4 &lt;int&gt; |\n",
       "|---|---|---|---|---|---|---|---|---|---|---|---|---|\n",
       "| chr11:61559376-61559575_RC | chr11 | 61559376 | 61559575 | - | 363 | 256 | 368 | 252 |   0 |  32 |   0 |  37 |\n",
       "| chr11:61628981-61629180_RC | chr11 | 61628981 | 61629180 | - | 823 | 497 | 638 | 344 |  78 | 300 | 263 | 298 |\n",
       "| chr11:61628421-61628620    | chr11 | 61628421 | 61628620 | + | 400 | 378 | 637 | 250 | 138 | 165 | 295 | 236 |\n",
       "\n",
       "\n",
       "$OL13_20220512.hg19.norm\n",
       ":   \n",
       "A tibble: 3 × 13\n",
       "\n",
       "| Name &lt;chr&gt; | Chrom &lt;chr&gt; | Start &lt;int&gt; | End &lt;int&gt; | Strand &lt;chr&gt; | Input.rep1 &lt;dbl&gt; | Input.rep2 &lt;dbl&gt; | Input.rep3 &lt;dbl&gt; | Input.rep4 &lt;dbl&gt; | Output.rep1 &lt;dbl&gt; | Output.rep2 &lt;dbl&gt; | Output.rep3 &lt;dbl&gt; | Output.rep4 &lt;dbl&gt; |\n",
       "|---|---|---|---|---|---|---|---|---|---|---|---|---|\n",
       "| chr11:61648876-61649075_RC | chr11 | 61648876 | 61649075 | - | 303.0849 | 283.1768 | 304.58401 | 238.8869 | 179.7249 | 181.1592 |   0.0000 | 363.8974 |\n",
       "| chr11:61558796-61558995    | chr11 | 61558796 | 61558995 | + | 488.8819 | 550.6760 | 591.39550 | 539.9232 | 842.9954 | 215.3781 | 674.4801 | 461.5880 |\n",
       "| chr11:61652526-61652725    | chr11 | 61652526 | 61652725 | + | 118.9320 | 117.5821 |  86.41116 | 140.8073 |   0.0000 | 255.6357 | 442.8662 | 124.5555 |\n",
       "\n",
       "\n",
       "$OL43_20221003.hg38.raw\n",
       ":   \n",
       "A tibble: 3 × 16\n",
       "\n",
       "| Name &lt;chr&gt; | Chrom &lt;chr&gt; | Start &lt;int&gt; | End &lt;int&gt; | Strand &lt;chr&gt; | Input.rep1 &lt;int&gt; | Input.rep2 &lt;int&gt; | Input.rep3 &lt;int&gt; | Input.rep4 &lt;int&gt; | Input.rep5 &lt;int&gt; | Input.rep6 &lt;int&gt; | Output.rep1 &lt;int&gt; | Output.rep2 &lt;int&gt; | Output.rep3 &lt;int&gt; | Output.rep4 &lt;int&gt; | Output.rep5 &lt;int&gt; |\n",
       "|---|---|---|---|---|---|---|---|---|---|---|---|---|---|---|---|\n",
       "| chr8:127212351-127212550 | chr8 | 127212351 | 127212550 | + | 498 | 576 | 544 | 596 | 231 | 270 |   228 |   201 |   369 |   182 |   251 |\n",
       "| chrX:48539581-48539780   | chrX |  48539581 |  48539780 | + | 271 | 290 | 221 | 253 | 108 | 139 | 15877 | 10329 | 17175 | 14124 | 14530 |\n",
       "| chrX:48294251-48294450   | chrX |  48294251 |  48294450 | + | 181 | 221 | 277 | 253 |  96 | 106 |    38 |    73 |   128 |    74 |   105 |\n",
       "\n",
       "\n",
       "$OL43_20221003.hg38.norm\n",
       ":   \n",
       "A tibble: 3 × 16\n",
       "\n",
       "| Name &lt;chr&gt; | Chrom &lt;chr&gt; | Start &lt;int&gt; | End &lt;int&gt; | Strand &lt;chr&gt; | Input.rep1 &lt;dbl&gt; | Input.rep2 &lt;dbl&gt; | Input.rep3 &lt;dbl&gt; | Input.rep4 &lt;dbl&gt; | Input.rep5 &lt;dbl&gt; | Input.rep6 &lt;dbl&gt; | Output.rep1 &lt;dbl&gt; | Output.rep2 &lt;dbl&gt; | Output.rep3 &lt;dbl&gt; | Output.rep4 &lt;dbl&gt; | Output.rep5 &lt;dbl&gt; |\n",
       "|---|---|---|---|---|---|---|---|---|---|---|---|---|---|---|---|\n",
       "| chr8:127441201-127441400 | chr8 | 127441201 | 127441400 | + |  233.6449 |  222.3104 |  171.1604 |  221.1921 |  215.1536 |  252.4283 |  228.0332 | 121.5305 | 212.6315 |  184.5061 | 156.8328 |\n",
       "| chr8:127491151-127491350 | chr8 | 127491151 | 127491350 | + |  438.3367 |  409.4564 |  412.1954 |  390.8565 |  355.9815 |  352.6189 |  642.2158 | 616.5884 | 457.6434 |  496.6147 | 508.6468 |\n",
       "| chr8:128028501-128028700 | chr8 | 128028501 | 128028700 | + | 1120.4181 | 1169.3644 | 1135.3002 | 1182.6237 | 1090.1117 | 1122.9157 | 1002.1049 | 886.4576 | 943.3499 | 1046.6844 | 916.9771 |\n",
       "\n",
       "\n",
       "$OL45_20220927.hg38.raw\n",
       ":   \n",
       "A tibble: 3 × 13\n",
       "\n",
       "| Name &lt;chr&gt; | Chrom &lt;chr&gt; | Start &lt;int&gt; | End &lt;int&gt; | Strand &lt;chr&gt; | Input.rep1 &lt;int&gt; | Input.rep2 &lt;int&gt; | Input.rep3 &lt;int&gt; | Input.rep4 &lt;int&gt; | Output.rep1 &lt;int&gt; | Output.rep2 &lt;int&gt; | Output.rep3 &lt;int&gt; | Output.rep4 &lt;int&gt; |\n",
       "|---|---|---|---|---|---|---|---|---|---|---|---|---|\n",
       "| chr20:58250701-58250900 | chr20 | 58250701 | 58250900 | + | 225 | 216 | 217 | 192 |  120 |  105 |  121 |   98 |\n",
       "| chr11:33783701-33783900 | chr11 | 33783701 | 33783900 | + | 786 | 596 | 647 | 773 | 2050 | 1933 | 1917 | 2263 |\n",
       "| chr11:5570301-5570500   | chr11 |  5570301 |  5570500 | + | 294 | 254 | 226 | 187 |  158 |  137 |  110 |  250 |\n",
       "\n",
       "\n",
       "$OL45_20220927.hg38.norm\n",
       ":   \n",
       "A tibble: 3 × 13\n",
       "\n",
       "| Name &lt;chr&gt; | Chrom &lt;chr&gt; | Start &lt;int&gt; | End &lt;int&gt; | Strand &lt;chr&gt; | Input.rep1 &lt;dbl&gt; | Input.rep2 &lt;dbl&gt; | Input.rep3 &lt;dbl&gt; | Input.rep4 &lt;dbl&gt; | Output.rep1 &lt;dbl&gt; | Output.rep2 &lt;dbl&gt; | Output.rep3 &lt;dbl&gt; | Output.rep4 &lt;dbl&gt; |\n",
       "|---|---|---|---|---|---|---|---|---|---|---|---|---|\n",
       "| chr2:60047901-60048100  | chr2  | 60047901 | 60048100 | + | 635.3226 | 677.6804 | 700.1009 | 686.1342 | 446.9841 | 381.6018 | 419.6503 | 503.62848 |\n",
       "| chr11:33672501-33672700 | chr11 | 33672501 | 33672700 | + | 711.1490 | 671.5987 | 617.9851 | 668.9163 | 507.3208 | 438.6918 | 417.9581 | 714.68343 |\n",
       "| chr11:34229601-34229800 | chr11 | 34229601 | 34229800 | + | 128.8313 | 118.1597 | 126.1367 | 141.1870 | 155.1515 | 174.2748 | 135.3711 |  92.68551 |\n",
       "\n",
       "\n",
       "\n",
       "\n"
      ],
      "text/plain": [
       "$OL13_20220512.hg19.raw\n",
       "\u001b[90m# A tibble: 3 × 13\u001b[39m\n",
       "  Name        Chrom  Start    End Strand Input…¹ Input…² Input…³ Input…⁴ Outpu…⁵\n",
       "  \u001b[3m\u001b[90m<chr>\u001b[39m\u001b[23m       \u001b[3m\u001b[90m<chr>\u001b[39m\u001b[23m  \u001b[3m\u001b[90m<int>\u001b[39m\u001b[23m  \u001b[3m\u001b[90m<int>\u001b[39m\u001b[23m \u001b[3m\u001b[90m<chr>\u001b[39m\u001b[23m    \u001b[3m\u001b[90m<int>\u001b[39m\u001b[23m   \u001b[3m\u001b[90m<int>\u001b[39m\u001b[23m   \u001b[3m\u001b[90m<int>\u001b[39m\u001b[23m   \u001b[3m\u001b[90m<int>\u001b[39m\u001b[23m   \u001b[3m\u001b[90m<int>\u001b[39m\u001b[23m\n",
       "\u001b[90m1\u001b[39m chr11:6155… chr11 6.16\u001b[90me\u001b[39m7 6.16\u001b[90me\u001b[39m7 -          363     256     368     252       0\n",
       "\u001b[90m2\u001b[39m chr11:6162… chr11 6.16\u001b[90me\u001b[39m7 6.16\u001b[90me\u001b[39m7 -          823     497     638     344      78\n",
       "\u001b[90m3\u001b[39m chr11:6162… chr11 6.16\u001b[90me\u001b[39m7 6.16\u001b[90me\u001b[39m7 +          400     378     637     250     138\n",
       "\u001b[90m# … with 3 more variables: Output.rep2 <int>, Output.rep3 <int>,\u001b[39m\n",
       "\u001b[90m#   Output.rep4 <int>, and abbreviated variable names ¹​Input.rep1, ²​Input.rep2,\u001b[39m\n",
       "\u001b[90m#   ³​Input.rep3, ⁴​Input.rep4, ⁵​Output.rep1\u001b[39m\n",
       "\n",
       "$OL13_20220512.hg19.norm\n",
       "\u001b[90m# A tibble: 3 × 13\u001b[39m\n",
       "  Name        Chrom  Start    End Strand Input…¹ Input…² Input…³ Input…⁴ Outpu…⁵\n",
       "  \u001b[3m\u001b[90m<chr>\u001b[39m\u001b[23m       \u001b[3m\u001b[90m<chr>\u001b[39m\u001b[23m  \u001b[3m\u001b[90m<int>\u001b[39m\u001b[23m  \u001b[3m\u001b[90m<int>\u001b[39m\u001b[23m \u001b[3m\u001b[90m<chr>\u001b[39m\u001b[23m    \u001b[3m\u001b[90m<dbl>\u001b[39m\u001b[23m   \u001b[3m\u001b[90m<dbl>\u001b[39m\u001b[23m   \u001b[3m\u001b[90m<dbl>\u001b[39m\u001b[23m   \u001b[3m\u001b[90m<dbl>\u001b[39m\u001b[23m   \u001b[3m\u001b[90m<dbl>\u001b[39m\u001b[23m\n",
       "\u001b[90m1\u001b[39m chr11:6164… chr11 6.16\u001b[90me\u001b[39m7 6.16\u001b[90me\u001b[39m7 -         303.    283.   305.     239.    180.\n",
       "\u001b[90m2\u001b[39m chr11:6155… chr11 6.16\u001b[90me\u001b[39m7 6.16\u001b[90me\u001b[39m7 +         489.    551.   591.     540.    843.\n",
       "\u001b[90m3\u001b[39m chr11:6165… chr11 6.17\u001b[90me\u001b[39m7 6.17\u001b[90me\u001b[39m7 +         119.    118.    86.4    141.      0 \n",
       "\u001b[90m# … with 3 more variables: Output.rep2 <dbl>, Output.rep3 <dbl>,\u001b[39m\n",
       "\u001b[90m#   Output.rep4 <dbl>, and abbreviated variable names ¹​Input.rep1, ²​Input.rep2,\u001b[39m\n",
       "\u001b[90m#   ³​Input.rep3, ⁴​Input.rep4, ⁵​Output.rep1\u001b[39m\n",
       "\n",
       "$OL43_20221003.hg38.raw\n",
       "\u001b[90m# A tibble: 3 × 16\u001b[39m\n",
       "  Name        Chrom  Start    End Strand Input…¹ Input…² Input…³ Input…⁴ Input…⁵\n",
       "  \u001b[3m\u001b[90m<chr>\u001b[39m\u001b[23m       \u001b[3m\u001b[90m<chr>\u001b[39m\u001b[23m  \u001b[3m\u001b[90m<int>\u001b[39m\u001b[23m  \u001b[3m\u001b[90m<int>\u001b[39m\u001b[23m \u001b[3m\u001b[90m<chr>\u001b[39m\u001b[23m    \u001b[3m\u001b[90m<int>\u001b[39m\u001b[23m   \u001b[3m\u001b[90m<int>\u001b[39m\u001b[23m   \u001b[3m\u001b[90m<int>\u001b[39m\u001b[23m   \u001b[3m\u001b[90m<int>\u001b[39m\u001b[23m   \u001b[3m\u001b[90m<int>\u001b[39m\u001b[23m\n",
       "\u001b[90m1\u001b[39m chr8:12721… chr8  1.27\u001b[90me\u001b[39m8 1.27\u001b[90me\u001b[39m8 +          498     576     544     596     231\n",
       "\u001b[90m2\u001b[39m chrX:48539… chrX  4.85\u001b[90me\u001b[39m7 4.85\u001b[90me\u001b[39m7 +          271     290     221     253     108\n",
       "\u001b[90m3\u001b[39m chrX:48294… chrX  4.83\u001b[90me\u001b[39m7 4.83\u001b[90me\u001b[39m7 +          181     221     277     253      96\n",
       "\u001b[90m# … with 6 more variables: Input.rep6 <int>, Output.rep1 <int>,\u001b[39m\n",
       "\u001b[90m#   Output.rep2 <int>, Output.rep3 <int>, Output.rep4 <int>, Output.rep5 <int>,\u001b[39m\n",
       "\u001b[90m#   and abbreviated variable names ¹​Input.rep1, ²​Input.rep2, ³​Input.rep3,\u001b[39m\n",
       "\u001b[90m#   ⁴​Input.rep4, ⁵​Input.rep5\u001b[39m\n",
       "\n",
       "$OL43_20221003.hg38.norm\n",
       "\u001b[90m# A tibble: 3 × 16\u001b[39m\n",
       "  Name        Chrom  Start    End Strand Input…¹ Input…² Input…³ Input…⁴ Input…⁵\n",
       "  \u001b[3m\u001b[90m<chr>\u001b[39m\u001b[23m       \u001b[3m\u001b[90m<chr>\u001b[39m\u001b[23m  \u001b[3m\u001b[90m<int>\u001b[39m\u001b[23m  \u001b[3m\u001b[90m<int>\u001b[39m\u001b[23m \u001b[3m\u001b[90m<chr>\u001b[39m\u001b[23m    \u001b[3m\u001b[90m<dbl>\u001b[39m\u001b[23m   \u001b[3m\u001b[90m<dbl>\u001b[39m\u001b[23m   \u001b[3m\u001b[90m<dbl>\u001b[39m\u001b[23m   \u001b[3m\u001b[90m<dbl>\u001b[39m\u001b[23m   \u001b[3m\u001b[90m<dbl>\u001b[39m\u001b[23m\n",
       "\u001b[90m1\u001b[39m chr8:12744… chr8  1.27\u001b[90me\u001b[39m8 1.27\u001b[90me\u001b[39m8 +         234.    222.    171.    221.    215.\n",
       "\u001b[90m2\u001b[39m chr8:12749… chr8  1.27\u001b[90me\u001b[39m8 1.27\u001b[90me\u001b[39m8 +         438.    409.    412.    391.    356.\n",
       "\u001b[90m3\u001b[39m chr8:12802… chr8  1.28\u001b[90me\u001b[39m8 1.28\u001b[90me\u001b[39m8 +        \u001b[4m1\u001b[24m120.   \u001b[4m1\u001b[24m169.   \u001b[4m1\u001b[24m135.   \u001b[4m1\u001b[24m183.   \u001b[4m1\u001b[24m090.\n",
       "\u001b[90m# … with 6 more variables: Input.rep6 <dbl>, Output.rep1 <dbl>,\u001b[39m\n",
       "\u001b[90m#   Output.rep2 <dbl>, Output.rep3 <dbl>, Output.rep4 <dbl>, Output.rep5 <dbl>,\u001b[39m\n",
       "\u001b[90m#   and abbreviated variable names ¹​Input.rep1, ²​Input.rep2, ³​Input.rep3,\u001b[39m\n",
       "\u001b[90m#   ⁴​Input.rep4, ⁵​Input.rep5\u001b[39m\n",
       "\n",
       "$OL45_20220927.hg38.raw\n",
       "\u001b[90m# A tibble: 3 × 13\u001b[39m\n",
       "  Name        Chrom  Start    End Strand Input…¹ Input…² Input…³ Input…⁴ Outpu…⁵\n",
       "  \u001b[3m\u001b[90m<chr>\u001b[39m\u001b[23m       \u001b[3m\u001b[90m<chr>\u001b[39m\u001b[23m  \u001b[3m\u001b[90m<int>\u001b[39m\u001b[23m  \u001b[3m\u001b[90m<int>\u001b[39m\u001b[23m \u001b[3m\u001b[90m<chr>\u001b[39m\u001b[23m    \u001b[3m\u001b[90m<int>\u001b[39m\u001b[23m   \u001b[3m\u001b[90m<int>\u001b[39m\u001b[23m   \u001b[3m\u001b[90m<int>\u001b[39m\u001b[23m   \u001b[3m\u001b[90m<int>\u001b[39m\u001b[23m   \u001b[3m\u001b[90m<int>\u001b[39m\u001b[23m\n",
       "\u001b[90m1\u001b[39m chr20:5825… chr20 5.83\u001b[90me\u001b[39m7 5.83\u001b[90me\u001b[39m7 +          225     216     217     192     120\n",
       "\u001b[90m2\u001b[39m chr11:3378… chr11 3.38\u001b[90me\u001b[39m7 3.38\u001b[90me\u001b[39m7 +          786     596     647     773    \u001b[4m2\u001b[24m050\n",
       "\u001b[90m3\u001b[39m chr11:5570… chr11 5.57\u001b[90me\u001b[39m6 5.57\u001b[90me\u001b[39m6 +          294     254     226     187     158\n",
       "\u001b[90m# … with 3 more variables: Output.rep2 <int>, Output.rep3 <int>,\u001b[39m\n",
       "\u001b[90m#   Output.rep4 <int>, and abbreviated variable names ¹​Input.rep1, ²​Input.rep2,\u001b[39m\n",
       "\u001b[90m#   ³​Input.rep3, ⁴​Input.rep4, ⁵​Output.rep1\u001b[39m\n",
       "\n",
       "$OL45_20220927.hg38.norm\n",
       "\u001b[90m# A tibble: 3 × 13\u001b[39m\n",
       "  Name        Chrom  Start    End Strand Input…¹ Input…² Input…³ Input…⁴ Outpu…⁵\n",
       "  \u001b[3m\u001b[90m<chr>\u001b[39m\u001b[23m       \u001b[3m\u001b[90m<chr>\u001b[39m\u001b[23m  \u001b[3m\u001b[90m<int>\u001b[39m\u001b[23m  \u001b[3m\u001b[90m<int>\u001b[39m\u001b[23m \u001b[3m\u001b[90m<chr>\u001b[39m\u001b[23m    \u001b[3m\u001b[90m<dbl>\u001b[39m\u001b[23m   \u001b[3m\u001b[90m<dbl>\u001b[39m\u001b[23m   \u001b[3m\u001b[90m<dbl>\u001b[39m\u001b[23m   \u001b[3m\u001b[90m<dbl>\u001b[39m\u001b[23m   \u001b[3m\u001b[90m<dbl>\u001b[39m\u001b[23m\n",
       "\u001b[90m1\u001b[39m chr2:60047… chr2  6.00\u001b[90me\u001b[39m7 6.00\u001b[90me\u001b[39m7 +         635.    678.    700.    686.    447.\n",
       "\u001b[90m2\u001b[39m chr11:3367… chr11 3.37\u001b[90me\u001b[39m7 3.37\u001b[90me\u001b[39m7 +         711.    672.    618.    669.    507.\n",
       "\u001b[90m3\u001b[39m chr11:3422… chr11 3.42\u001b[90me\u001b[39m7 3.42\u001b[90me\u001b[39m7 +         129.    118.    126.    141.    155.\n",
       "\u001b[90m# … with 3 more variables: Output.rep2 <dbl>, Output.rep3 <dbl>,\u001b[39m\n",
       "\u001b[90m#   Output.rep4 <dbl>, and abbreviated variable names ¹​Input.rep1, ²​Input.rep2,\u001b[39m\n",
       "\u001b[90m#   ³​Input.rep3, ⁴​Input.rep4, ⁵​Output.rep1\u001b[39m\n"
      ]
     },
     "metadata": {},
     "output_type": "display_data"
    }
   ],
   "source": [
    "set.seed(123)\n",
    "lst = lst_dat_extract\n",
    "lapply(lst, slice_sample, n=3)"
   ]
  },
  {
   "cell_type": "code",
   "execution_count": 17,
   "metadata": {},
   "outputs": [
    {
     "data": {
      "text/plain": [
       "$OL13_20220512.hg19.raw\n",
       "\n",
       "chr11 \n",
       "43907 \n",
       "\n",
       "$OL13_20220512.hg19.norm\n",
       "\n",
       "chr11 \n",
       "43907 \n",
       "\n",
       "$OL43_20221003.hg38.raw\n",
       "\n",
       " chr8  chrX \n",
       "41905 54203 \n",
       "\n",
       "$OL43_20221003.hg38.norm\n",
       "\n",
       " chr8  chrX \n",
       "41905 54203 \n",
       "\n",
       "$OL45_20220927.hg38.raw\n",
       "\n",
       "chr11 chr16  chr2 chr20 \n",
       "39857 11439 19917 19897 \n",
       "\n",
       "$OL45_20220927.hg38.norm\n",
       "\n",
       "chr11 chr16  chr2 chr20 \n",
       "39857 11439 19917 19897 \n"
      ]
     },
     "metadata": {},
     "output_type": "display_data"
    }
   ],
   "source": [
    "lst = lst_dat_extract\n",
    "lapply(lst, function(dat){table(dat$Chrom)})"
   ]
  },
  {
   "cell_type": "markdown",
   "metadata": {},
   "source": [
    "## Filter out the fragments (Oligos) where mean input is zero"
   ]
  },
  {
   "cell_type": "markdown",
   "metadata": {},
   "source": [
    "**Helper function**"
   ]
  },
  {
   "cell_type": "code",
   "execution_count": 18,
   "metadata": {},
   "outputs": [],
   "source": [
    "fun_filter = function(dat){\n",
    "    ### Input:  dataframe\n",
    "    ### Output: dataframe\n",
    "    ### Description:\n",
    "    ###     calculate the mean of input for each fragment and \n",
    "    ###     filter out the fragment w/ plasmid mean is zero\n",
    "    ###     - convert wide matrix to long matrix\n",
    "    ###     - group by the input and output to calculate the mean\n",
    "    ###     - get the non-zero fragments from the input dataframe\n",
    "    \n",
    "    ### calculate the mean of input for each fragment and \n",
    "    tmp = dat %>% \n",
    "        tidyr::gather(Sample, Value, -Chrom, -Start, -End, -Name, -Strand) %>% \n",
    "        tidyr::separate(Sample, c(\"Group\", \"Rep\"), sep=\"\\\\.\", remove=FALSE) %>%\n",
    "        dplyr::filter(Group == \"Input\") %>%\n",
    "        dplyr::group_by(Chrom, Start, End, Name, Strand, Group) %>%\n",
    "        dplyr::summarise(Value = mean(Value), .groups=\"drop\")\n",
    "    \n",
    "    ### filter out the fragment w/ plasmid mean is zero\n",
    "    tmp = tmp %>% dplyr::filter(Value > 0)\n",
    "    idx = unique(tmp$Name)\n",
    "    res = dat %>% dplyr::filter(Name %in% idx)\n",
    "    return(res)\n",
    "}"
   ]
  },
  {
   "cell_type": "markdown",
   "metadata": {},
   "source": [
    "**Filter**"
   ]
  },
  {
   "cell_type": "code",
   "execution_count": 19,
   "metadata": {},
   "outputs": [
    {
     "name": "stdout",
     "output_type": "stream",
     "text": [
      "$OL13_20220512.hg19.raw\n",
      "[1] 43907    13\n",
      "\n",
      "$OL13_20220512.hg19.norm\n",
      "[1] 43907    13\n",
      "\n",
      "$OL43_20221003.hg38.raw\n",
      "[1] 96108    16\n",
      "\n",
      "$OL43_20221003.hg38.norm\n",
      "[1] 96108    16\n",
      "\n",
      "$OL45_20220927.hg38.raw\n",
      "[1] 91110    13\n",
      "\n",
      "$OL45_20220927.hg38.norm\n",
      "[1] 91110    13\n",
      "\n",
      "++++++++++++++++++++++++++++++++++++++++\n",
      "$OL13_20220512.hg19.raw\n",
      "[1] 43871    13\n",
      "\n",
      "$OL13_20220512.hg19.norm\n",
      "[1] 43871    13\n",
      "\n",
      "$OL43_20221003.hg38.raw\n",
      "[1] 96087    16\n",
      "\n",
      "$OL43_20221003.hg38.norm\n",
      "[1] 96087    16\n",
      "\n",
      "$OL45_20220927.hg38.raw\n",
      "[1] 91092    13\n",
      "\n",
      "$OL45_20220927.hg38.norm\n",
      "[1] 91092    13\n",
      "\n"
     ]
    }
   ],
   "source": [
    "### init\n",
    "lst = lst_dat_extract\n",
    "\n",
    "### show info before processing\n",
    "print(lapply(lst, dim))\n",
    "cat(\"++++++++++++++++++++++++++++++++++++++++\\n\")\n",
    "\n",
    "### processing\n",
    "lst = lapply(lst, fun_filter)\n",
    "\n",
    "### assign and show info\n",
    "lst_dat_filter = lst\n",
    "print(lapply(lst, dim))"
   ]
  },
  {
   "cell_type": "markdown",
   "metadata": {},
   "source": [
    "**Show results**"
   ]
  },
  {
   "cell_type": "code",
   "execution_count": 20,
   "metadata": {},
   "outputs": [
    {
     "data": {
      "text/html": [
       "<table class=\"dataframe\">\n",
       "<caption>A tibble: 6 × 13</caption>\n",
       "<thead>\n",
       "\t<tr><th scope=col>Name</th><th scope=col>Chrom</th><th scope=col>Start</th><th scope=col>End</th><th scope=col>Strand</th><th scope=col>Input.rep1</th><th scope=col>Input.rep2</th><th scope=col>Input.rep3</th><th scope=col>Input.rep4</th><th scope=col>Output.rep1</th><th scope=col>Output.rep2</th><th scope=col>Output.rep3</th><th scope=col>Output.rep4</th></tr>\n",
       "\t<tr><th scope=col>&lt;chr&gt;</th><th scope=col>&lt;chr&gt;</th><th scope=col>&lt;int&gt;</th><th scope=col>&lt;int&gt;</th><th scope=col>&lt;chr&gt;</th><th scope=col>&lt;int&gt;</th><th scope=col>&lt;int&gt;</th><th scope=col>&lt;int&gt;</th><th scope=col>&lt;int&gt;</th><th scope=col>&lt;int&gt;</th><th scope=col>&lt;int&gt;</th><th scope=col>&lt;int&gt;</th><th scope=col>&lt;int&gt;</th></tr>\n",
       "</thead>\n",
       "<tbody>\n",
       "\t<tr><td>chr11:61555216-61555415   </td><td>chr11</td><td>61555216</td><td>61555415</td><td>+</td><td>1609</td><td>1221</td><td>1396</td><td>798</td><td>845</td><td>283</td><td>574</td><td>1223</td></tr>\n",
       "\t<tr><td>chr11:61555231-61555430_RC</td><td>chr11</td><td>61555231</td><td>61555430</td><td>-</td><td>1179</td><td> 582</td><td>1225</td><td>721</td><td>476</td><td>416</td><td>912</td><td> 956</td></tr>\n",
       "\t<tr><td>chr11:61555216-61555415_RC</td><td>chr11</td><td>61555216</td><td>61555415</td><td>-</td><td>1066</td><td> 643</td><td>1206</td><td>681</td><td>470</td><td>846</td><td>540</td><td> 847</td></tr>\n",
       "\t<tr><td>chr11:61555231-61555430   </td><td>chr11</td><td>61555231</td><td>61555430</td><td>+</td><td>1063</td><td> 701</td><td> 786</td><td>416</td><td>357</td><td>568</td><td>599</td><td> 518</td></tr>\n",
       "\t<tr><td>chr11:61555366-61555565_RC</td><td>chr11</td><td>61555366</td><td>61555565</td><td>-</td><td>1239</td><td> 722</td><td>1341</td><td>682</td><td>311</td><td>421</td><td>604</td><td> 556</td></tr>\n",
       "\t<tr><td>chr11:61555366-61555565   </td><td>chr11</td><td>61555366</td><td>61555565</td><td>+</td><td>1362</td><td> 885</td><td>1213</td><td>856</td><td>407</td><td> 49</td><td>519</td><td> 344</td></tr>\n",
       "</tbody>\n",
       "</table>\n"
      ],
      "text/latex": [
       "A tibble: 6 × 13\n",
       "\\begin{tabular}{lllllllllllll}\n",
       " Name & Chrom & Start & End & Strand & Input.rep1 & Input.rep2 & Input.rep3 & Input.rep4 & Output.rep1 & Output.rep2 & Output.rep3 & Output.rep4\\\\\n",
       " <chr> & <chr> & <int> & <int> & <chr> & <int> & <int> & <int> & <int> & <int> & <int> & <int> & <int>\\\\\n",
       "\\hline\n",
       "\t chr11:61555216-61555415    & chr11 & 61555216 & 61555415 & + & 1609 & 1221 & 1396 & 798 & 845 & 283 & 574 & 1223\\\\\n",
       "\t chr11:61555231-61555430\\_RC & chr11 & 61555231 & 61555430 & - & 1179 &  582 & 1225 & 721 & 476 & 416 & 912 &  956\\\\\n",
       "\t chr11:61555216-61555415\\_RC & chr11 & 61555216 & 61555415 & - & 1066 &  643 & 1206 & 681 & 470 & 846 & 540 &  847\\\\\n",
       "\t chr11:61555231-61555430    & chr11 & 61555231 & 61555430 & + & 1063 &  701 &  786 & 416 & 357 & 568 & 599 &  518\\\\\n",
       "\t chr11:61555366-61555565\\_RC & chr11 & 61555366 & 61555565 & - & 1239 &  722 & 1341 & 682 & 311 & 421 & 604 &  556\\\\\n",
       "\t chr11:61555366-61555565    & chr11 & 61555366 & 61555565 & + & 1362 &  885 & 1213 & 856 & 407 &  49 & 519 &  344\\\\\n",
       "\\end{tabular}\n"
      ],
      "text/markdown": [
       "\n",
       "A tibble: 6 × 13\n",
       "\n",
       "| Name &lt;chr&gt; | Chrom &lt;chr&gt; | Start &lt;int&gt; | End &lt;int&gt; | Strand &lt;chr&gt; | Input.rep1 &lt;int&gt; | Input.rep2 &lt;int&gt; | Input.rep3 &lt;int&gt; | Input.rep4 &lt;int&gt; | Output.rep1 &lt;int&gt; | Output.rep2 &lt;int&gt; | Output.rep3 &lt;int&gt; | Output.rep4 &lt;int&gt; |\n",
       "|---|---|---|---|---|---|---|---|---|---|---|---|---|\n",
       "| chr11:61555216-61555415    | chr11 | 61555216 | 61555415 | + | 1609 | 1221 | 1396 | 798 | 845 | 283 | 574 | 1223 |\n",
       "| chr11:61555231-61555430_RC | chr11 | 61555231 | 61555430 | - | 1179 |  582 | 1225 | 721 | 476 | 416 | 912 |  956 |\n",
       "| chr11:61555216-61555415_RC | chr11 | 61555216 | 61555415 | - | 1066 |  643 | 1206 | 681 | 470 | 846 | 540 |  847 |\n",
       "| chr11:61555231-61555430    | chr11 | 61555231 | 61555430 | + | 1063 |  701 |  786 | 416 | 357 | 568 | 599 |  518 |\n",
       "| chr11:61555366-61555565_RC | chr11 | 61555366 | 61555565 | - | 1239 |  722 | 1341 | 682 | 311 | 421 | 604 |  556 |\n",
       "| chr11:61555366-61555565    | chr11 | 61555366 | 61555565 | + | 1362 |  885 | 1213 | 856 | 407 |  49 | 519 |  344 |\n",
       "\n"
      ],
      "text/plain": [
       "  Name                       Chrom Start    End      Strand Input.rep1\n",
       "1 chr11:61555216-61555415    chr11 61555216 61555415 +      1609      \n",
       "2 chr11:61555231-61555430_RC chr11 61555231 61555430 -      1179      \n",
       "3 chr11:61555216-61555415_RC chr11 61555216 61555415 -      1066      \n",
       "4 chr11:61555231-61555430    chr11 61555231 61555430 +      1063      \n",
       "5 chr11:61555366-61555565_RC chr11 61555366 61555565 -      1239      \n",
       "6 chr11:61555366-61555565    chr11 61555366 61555565 +      1362      \n",
       "  Input.rep2 Input.rep3 Input.rep4 Output.rep1 Output.rep2 Output.rep3\n",
       "1 1221       1396       798        845         283         574        \n",
       "2  582       1225       721        476         416         912        \n",
       "3  643       1206       681        470         846         540        \n",
       "4  701        786       416        357         568         599        \n",
       "5  722       1341       682        311         421         604        \n",
       "6  885       1213       856        407          49         519        \n",
       "  Output.rep4\n",
       "1 1223       \n",
       "2  956       \n",
       "3  847       \n",
       "4  518       \n",
       "5  556       \n",
       "6  344       "
      ]
     },
     "metadata": {},
     "output_type": "display_data"
    }
   ],
   "source": [
    "lst = lst_dat_filter\n",
    "dat = lst[[1]]\n",
    "head(dat)"
   ]
  },
  {
   "cell_type": "markdown",
   "metadata": {},
   "source": [
    "## Calculate mean for normalized count table"
   ]
  },
  {
   "cell_type": "markdown",
   "metadata": {},
   "source": [
    "**Helper function**"
   ]
  },
  {
   "cell_type": "code",
   "execution_count": 21,
   "metadata": {},
   "outputs": [],
   "source": [
    "fun_add_mean_column = function(dat){\n",
    "    ### get input and output to calculate log2FC\n",
    "    x_inp = dat %>% dplyr::select(starts_with(\"Input\"))  %>% apply(., 1, mean)\n",
    "    x_out = dat %>% dplyr::select(starts_with(\"Output\")) %>% apply(., 1, mean)\n",
    "    x_lfc = log2(x_out) - log2(x_inp)\n",
    "    \n",
    "    ### add columns\n",
    "    dat$Input.mean  = x_inp\n",
    "    dat$Output.mean = x_out\n",
    "    dat$Log2FC.mean = x_lfc\n",
    " \n",
    "    return(dat)\n",
    "}"
   ]
  },
  {
   "cell_type": "markdown",
   "metadata": {},
   "source": [
    "**Calculate**"
   ]
  },
  {
   "cell_type": "code",
   "execution_count": 22,
   "metadata": {},
   "outputs": [
    {
     "name": "stdout",
     "output_type": "stream",
     "text": [
      "[1] \"OL13_20220512.hg19.raw\"  \"OL13_20220512.hg19.norm\"\n",
      "[3] \"OL43_20221003.hg38.raw\"  \"OL43_20221003.hg38.norm\"\n",
      "[5] \"OL45_20220927.hg38.raw\"  \"OL45_20220927.hg38.norm\"\n",
      "=======================\n",
      "[1] \"OL13_20220512.hg19.norm\" \"OL43_20221003.hg38.norm\"\n",
      "[3] \"OL45_20220927.hg38.norm\"\n"
     ]
    }
   ],
   "source": [
    "lst = lst_dat_filter\n",
    "print(names(lst))\n",
    "cat(\"=======================\\n\")\n",
    "sid = grep(\"norm\", names(lst), value=TRUE)\n",
    "print(sid)"
   ]
  },
  {
   "cell_type": "code",
   "execution_count": 23,
   "metadata": {},
   "outputs": [
    {
     "name": "stdout",
     "output_type": "stream",
     "text": [
      "OL13_20220512.hg19.norm \n",
      "OL43_20221003.hg38.norm \n",
      "OL45_20220927.hg38.norm \n"
     ]
    }
   ],
   "source": [
    "### init\n",
    "lst  = lst_dat_filter\n",
    "idxs = grep(\"norm\", names(lst), value=TRUE)\n",
    "\n",
    "### add mean for normalization count\n",
    "for (idx in idxs){\n",
    "    cat(idx, \"\\n\")\n",
    "    lst[[idx]] = fun_add_mean_column(lst[[idx]])\n",
    "}\n",
    "\n",
    "### assigned\n",
    "lst_dat_prep = lst"
   ]
  },
  {
   "cell_type": "markdown",
   "metadata": {},
   "source": [
    "**Show results**"
   ]
  },
  {
   "cell_type": "code",
   "execution_count": 24,
   "metadata": {},
   "outputs": [
    {
     "name": "stdout",
     "output_type": "stream",
     "text": [
      "OL13_20220512.hg19.raw"
     ]
    },
    {
     "data": {
      "text/html": [
       "<table class=\"dataframe\">\n",
       "<caption>A tibble: 3 × 13</caption>\n",
       "<thead>\n",
       "\t<tr><th scope=col>Name</th><th scope=col>Chrom</th><th scope=col>Start</th><th scope=col>End</th><th scope=col>Strand</th><th scope=col>Input.rep1</th><th scope=col>Input.rep2</th><th scope=col>Input.rep3</th><th scope=col>Input.rep4</th><th scope=col>Output.rep1</th><th scope=col>Output.rep2</th><th scope=col>Output.rep3</th><th scope=col>Output.rep4</th></tr>\n",
       "\t<tr><th scope=col>&lt;chr&gt;</th><th scope=col>&lt;chr&gt;</th><th scope=col>&lt;int&gt;</th><th scope=col>&lt;int&gt;</th><th scope=col>&lt;chr&gt;</th><th scope=col>&lt;int&gt;</th><th scope=col>&lt;int&gt;</th><th scope=col>&lt;int&gt;</th><th scope=col>&lt;int&gt;</th><th scope=col>&lt;int&gt;</th><th scope=col>&lt;int&gt;</th><th scope=col>&lt;int&gt;</th><th scope=col>&lt;int&gt;</th></tr>\n",
       "</thead>\n",
       "<tbody>\n",
       "\t<tr><td>chr11:61555216-61555415   </td><td>chr11</td><td>61555216</td><td>61555415</td><td>+</td><td>1609</td><td>1221</td><td>1396</td><td>798</td><td>845</td><td>283</td><td>574</td><td>1223</td></tr>\n",
       "\t<tr><td>chr11:61555231-61555430_RC</td><td>chr11</td><td>61555231</td><td>61555430</td><td>-</td><td>1179</td><td> 582</td><td>1225</td><td>721</td><td>476</td><td>416</td><td>912</td><td> 956</td></tr>\n",
       "\t<tr><td>chr11:61555216-61555415_RC</td><td>chr11</td><td>61555216</td><td>61555415</td><td>-</td><td>1066</td><td> 643</td><td>1206</td><td>681</td><td>470</td><td>846</td><td>540</td><td> 847</td></tr>\n",
       "</tbody>\n",
       "</table>\n"
      ],
      "text/latex": [
       "A tibble: 3 × 13\n",
       "\\begin{tabular}{lllllllllllll}\n",
       " Name & Chrom & Start & End & Strand & Input.rep1 & Input.rep2 & Input.rep3 & Input.rep4 & Output.rep1 & Output.rep2 & Output.rep3 & Output.rep4\\\\\n",
       " <chr> & <chr> & <int> & <int> & <chr> & <int> & <int> & <int> & <int> & <int> & <int> & <int> & <int>\\\\\n",
       "\\hline\n",
       "\t chr11:61555216-61555415    & chr11 & 61555216 & 61555415 & + & 1609 & 1221 & 1396 & 798 & 845 & 283 & 574 & 1223\\\\\n",
       "\t chr11:61555231-61555430\\_RC & chr11 & 61555231 & 61555430 & - & 1179 &  582 & 1225 & 721 & 476 & 416 & 912 &  956\\\\\n",
       "\t chr11:61555216-61555415\\_RC & chr11 & 61555216 & 61555415 & - & 1066 &  643 & 1206 & 681 & 470 & 846 & 540 &  847\\\\\n",
       "\\end{tabular}\n"
      ],
      "text/markdown": [
       "\n",
       "A tibble: 3 × 13\n",
       "\n",
       "| Name &lt;chr&gt; | Chrom &lt;chr&gt; | Start &lt;int&gt; | End &lt;int&gt; | Strand &lt;chr&gt; | Input.rep1 &lt;int&gt; | Input.rep2 &lt;int&gt; | Input.rep3 &lt;int&gt; | Input.rep4 &lt;int&gt; | Output.rep1 &lt;int&gt; | Output.rep2 &lt;int&gt; | Output.rep3 &lt;int&gt; | Output.rep4 &lt;int&gt; |\n",
       "|---|---|---|---|---|---|---|---|---|---|---|---|---|\n",
       "| chr11:61555216-61555415    | chr11 | 61555216 | 61555415 | + | 1609 | 1221 | 1396 | 798 | 845 | 283 | 574 | 1223 |\n",
       "| chr11:61555231-61555430_RC | chr11 | 61555231 | 61555430 | - | 1179 |  582 | 1225 | 721 | 476 | 416 | 912 |  956 |\n",
       "| chr11:61555216-61555415_RC | chr11 | 61555216 | 61555415 | - | 1066 |  643 | 1206 | 681 | 470 | 846 | 540 |  847 |\n",
       "\n"
      ],
      "text/plain": [
       "  Name                       Chrom Start    End      Strand Input.rep1\n",
       "1 chr11:61555216-61555415    chr11 61555216 61555415 +      1609      \n",
       "2 chr11:61555231-61555430_RC chr11 61555231 61555430 -      1179      \n",
       "3 chr11:61555216-61555415_RC chr11 61555216 61555415 -      1066      \n",
       "  Input.rep2 Input.rep3 Input.rep4 Output.rep1 Output.rep2 Output.rep3\n",
       "1 1221       1396       798        845         283         574        \n",
       "2  582       1225       721        476         416         912        \n",
       "3  643       1206       681        470         846         540        \n",
       "  Output.rep4\n",
       "1 1223       \n",
       "2  956       \n",
       "3  847       "
      ]
     },
     "metadata": {},
     "output_type": "display_data"
    }
   ],
   "source": [
    "lst = lst_dat_prep\n",
    "idx = names(lst)[1]\n",
    "dat = lst_dat_prep[[1]]\n",
    "\n",
    "cat(idx)\n",
    "head(dat, 3)"
   ]
  },
  {
   "cell_type": "code",
   "execution_count": 25,
   "metadata": {},
   "outputs": [
    {
     "name": "stdout",
     "output_type": "stream",
     "text": [
      "OL13_20220512.hg19.norm"
     ]
    },
    {
     "data": {
      "text/html": [
       "<table class=\"dataframe\">\n",
       "<caption>A tibble: 3 × 16</caption>\n",
       "<thead>\n",
       "\t<tr><th scope=col>Name</th><th scope=col>Chrom</th><th scope=col>Start</th><th scope=col>End</th><th scope=col>Strand</th><th scope=col>Input.rep1</th><th scope=col>Input.rep2</th><th scope=col>Input.rep3</th><th scope=col>Input.rep4</th><th scope=col>Output.rep1</th><th scope=col>Output.rep2</th><th scope=col>Output.rep3</th><th scope=col>Output.rep4</th><th scope=col>Input.mean</th><th scope=col>Output.mean</th><th scope=col>Log2FC.mean</th></tr>\n",
       "\t<tr><th scope=col>&lt;chr&gt;</th><th scope=col>&lt;chr&gt;</th><th scope=col>&lt;int&gt;</th><th scope=col>&lt;int&gt;</th><th scope=col>&lt;chr&gt;</th><th scope=col>&lt;dbl&gt;</th><th scope=col>&lt;dbl&gt;</th><th scope=col>&lt;dbl&gt;</th><th scope=col>&lt;dbl&gt;</th><th scope=col>&lt;dbl&gt;</th><th scope=col>&lt;dbl&gt;</th><th scope=col>&lt;dbl&gt;</th><th scope=col>&lt;dbl&gt;</th><th scope=col>&lt;dbl&gt;</th><th scope=col>&lt;dbl&gt;</th><th scope=col>&lt;dbl&gt;</th></tr>\n",
       "</thead>\n",
       "<tbody>\n",
       "\t<tr><td>chr11:61555216-61555415   </td><td>chr11</td><td>61555216</td><td>61555415</td><td>+</td><td>881.8510</td><td>1196.3976</td><td>855.5317</td><td>774.9257</td><td>1807.947</td><td> 569.6449</td><td> 730.4747</td><td>1493.445</td><td>927.1765</td><td>1150.378</td><td>0.3111919</td></tr>\n",
       "\t<tr><td>chr11:61555231-61555430_RC</td><td>chr11</td><td>61555231</td><td>61555430</td><td>-</td><td>646.1792</td><td> 570.2730</td><td>750.7352</td><td>700.1522</td><td>1018.441</td><td> 837.3579</td><td>1160.6148</td><td>1167.403</td><td>666.8349</td><td>1045.954</td><td>0.6494180</td></tr>\n",
       "\t<tr><td>chr11:61555216-61555415_RC</td><td>chr11</td><td>61555216</td><td>61555415</td><td>-</td><td>584.2468</td><td> 630.0439</td><td>739.0912</td><td>661.3088</td><td>1005.604</td><td>1702.8961</td><td> 687.2061</td><td>1034.299</td><td>653.6727</td><td>1107.501</td><td>0.7606680</td></tr>\n",
       "</tbody>\n",
       "</table>\n"
      ],
      "text/latex": [
       "A tibble: 3 × 16\n",
       "\\begin{tabular}{llllllllllllllll}\n",
       " Name & Chrom & Start & End & Strand & Input.rep1 & Input.rep2 & Input.rep3 & Input.rep4 & Output.rep1 & Output.rep2 & Output.rep3 & Output.rep4 & Input.mean & Output.mean & Log2FC.mean\\\\\n",
       " <chr> & <chr> & <int> & <int> & <chr> & <dbl> & <dbl> & <dbl> & <dbl> & <dbl> & <dbl> & <dbl> & <dbl> & <dbl> & <dbl> & <dbl>\\\\\n",
       "\\hline\n",
       "\t chr11:61555216-61555415    & chr11 & 61555216 & 61555415 & + & 881.8510 & 1196.3976 & 855.5317 & 774.9257 & 1807.947 &  569.6449 &  730.4747 & 1493.445 & 927.1765 & 1150.378 & 0.3111919\\\\\n",
       "\t chr11:61555231-61555430\\_RC & chr11 & 61555231 & 61555430 & - & 646.1792 &  570.2730 & 750.7352 & 700.1522 & 1018.441 &  837.3579 & 1160.6148 & 1167.403 & 666.8349 & 1045.954 & 0.6494180\\\\\n",
       "\t chr11:61555216-61555415\\_RC & chr11 & 61555216 & 61555415 & - & 584.2468 &  630.0439 & 739.0912 & 661.3088 & 1005.604 & 1702.8961 &  687.2061 & 1034.299 & 653.6727 & 1107.501 & 0.7606680\\\\\n",
       "\\end{tabular}\n"
      ],
      "text/markdown": [
       "\n",
       "A tibble: 3 × 16\n",
       "\n",
       "| Name &lt;chr&gt; | Chrom &lt;chr&gt; | Start &lt;int&gt; | End &lt;int&gt; | Strand &lt;chr&gt; | Input.rep1 &lt;dbl&gt; | Input.rep2 &lt;dbl&gt; | Input.rep3 &lt;dbl&gt; | Input.rep4 &lt;dbl&gt; | Output.rep1 &lt;dbl&gt; | Output.rep2 &lt;dbl&gt; | Output.rep3 &lt;dbl&gt; | Output.rep4 &lt;dbl&gt; | Input.mean &lt;dbl&gt; | Output.mean &lt;dbl&gt; | Log2FC.mean &lt;dbl&gt; |\n",
       "|---|---|---|---|---|---|---|---|---|---|---|---|---|---|---|---|\n",
       "| chr11:61555216-61555415    | chr11 | 61555216 | 61555415 | + | 881.8510 | 1196.3976 | 855.5317 | 774.9257 | 1807.947 |  569.6449 |  730.4747 | 1493.445 | 927.1765 | 1150.378 | 0.3111919 |\n",
       "| chr11:61555231-61555430_RC | chr11 | 61555231 | 61555430 | - | 646.1792 |  570.2730 | 750.7352 | 700.1522 | 1018.441 |  837.3579 | 1160.6148 | 1167.403 | 666.8349 | 1045.954 | 0.6494180 |\n",
       "| chr11:61555216-61555415_RC | chr11 | 61555216 | 61555415 | - | 584.2468 |  630.0439 | 739.0912 | 661.3088 | 1005.604 | 1702.8961 |  687.2061 | 1034.299 | 653.6727 | 1107.501 | 0.7606680 |\n",
       "\n"
      ],
      "text/plain": [
       "  Name                       Chrom Start    End      Strand Input.rep1\n",
       "1 chr11:61555216-61555415    chr11 61555216 61555415 +      881.8510  \n",
       "2 chr11:61555231-61555430_RC chr11 61555231 61555430 -      646.1792  \n",
       "3 chr11:61555216-61555415_RC chr11 61555216 61555415 -      584.2468  \n",
       "  Input.rep2 Input.rep3 Input.rep4 Output.rep1 Output.rep2 Output.rep3\n",
       "1 1196.3976  855.5317   774.9257   1807.947     569.6449    730.4747  \n",
       "2  570.2730  750.7352   700.1522   1018.441     837.3579   1160.6148  \n",
       "3  630.0439  739.0912   661.3088   1005.604    1702.8961    687.2061  \n",
       "  Output.rep4 Input.mean Output.mean Log2FC.mean\n",
       "1 1493.445    927.1765   1150.378    0.3111919  \n",
       "2 1167.403    666.8349   1045.954    0.6494180  \n",
       "3 1034.299    653.6727   1107.501    0.7606680  "
      ]
     },
     "metadata": {},
     "output_type": "display_data"
    }
   ],
   "source": [
    "lst = lst_dat_prep\n",
    "idx = names(lst)[2]\n",
    "dat = lst_dat_prep[[2]]\n",
    "\n",
    "cat(idx)\n",
    "head(dat, 3)"
   ]
  },
  {
   "cell_type": "code",
   "execution_count": 26,
   "metadata": {},
   "outputs": [
    {
     "name": "stdout",
     "output_type": "stream",
     "text": [
      "OL43_20221003.hg38.raw"
     ]
    },
    {
     "data": {
      "text/html": [
       "<table class=\"dataframe\">\n",
       "<caption>A tibble: 3 × 16</caption>\n",
       "<thead>\n",
       "\t<tr><th scope=col>Name</th><th scope=col>Chrom</th><th scope=col>Start</th><th scope=col>End</th><th scope=col>Strand</th><th scope=col>Input.rep1</th><th scope=col>Input.rep2</th><th scope=col>Input.rep3</th><th scope=col>Input.rep4</th><th scope=col>Input.rep5</th><th scope=col>Input.rep6</th><th scope=col>Output.rep1</th><th scope=col>Output.rep2</th><th scope=col>Output.rep3</th><th scope=col>Output.rep4</th><th scope=col>Output.rep5</th></tr>\n",
       "\t<tr><th scope=col>&lt;chr&gt;</th><th scope=col>&lt;chr&gt;</th><th scope=col>&lt;int&gt;</th><th scope=col>&lt;int&gt;</th><th scope=col>&lt;chr&gt;</th><th scope=col>&lt;int&gt;</th><th scope=col>&lt;int&gt;</th><th scope=col>&lt;int&gt;</th><th scope=col>&lt;int&gt;</th><th scope=col>&lt;int&gt;</th><th scope=col>&lt;int&gt;</th><th scope=col>&lt;int&gt;</th><th scope=col>&lt;int&gt;</th><th scope=col>&lt;int&gt;</th><th scope=col>&lt;int&gt;</th><th scope=col>&lt;int&gt;</th></tr>\n",
       "</thead>\n",
       "<tbody>\n",
       "\t<tr><td>chr8:127381651-127381850</td><td>chr8</td><td>127381651</td><td>127381850</td><td>+</td><td>1318</td><td>1810</td><td>1477</td><td>1505</td><td>738</td><td>687</td><td>620</td><td>636</td><td>781</td><td>520</td><td>538</td></tr>\n",
       "\t<tr><td>chr8:127320401-127320600</td><td>chr8</td><td>127320401</td><td>127320600</td><td>+</td><td>1318</td><td>1810</td><td>1477</td><td>1505</td><td>738</td><td>687</td><td>620</td><td>636</td><td>781</td><td>520</td><td>538</td></tr>\n",
       "\t<tr><td>chr8:127742001-127742200</td><td>chr8</td><td>127742001</td><td>127742200</td><td>+</td><td> 634</td><td> 730</td><td> 698</td><td> 761</td><td>316</td><td>343</td><td>158</td><td>194</td><td>268</td><td>141</td><td>251</td></tr>\n",
       "</tbody>\n",
       "</table>\n"
      ],
      "text/latex": [
       "A tibble: 3 × 16\n",
       "\\begin{tabular}{llllllllllllllll}\n",
       " Name & Chrom & Start & End & Strand & Input.rep1 & Input.rep2 & Input.rep3 & Input.rep4 & Input.rep5 & Input.rep6 & Output.rep1 & Output.rep2 & Output.rep3 & Output.rep4 & Output.rep5\\\\\n",
       " <chr> & <chr> & <int> & <int> & <chr> & <int> & <int> & <int> & <int> & <int> & <int> & <int> & <int> & <int> & <int> & <int>\\\\\n",
       "\\hline\n",
       "\t chr8:127381651-127381850 & chr8 & 127381651 & 127381850 & + & 1318 & 1810 & 1477 & 1505 & 738 & 687 & 620 & 636 & 781 & 520 & 538\\\\\n",
       "\t chr8:127320401-127320600 & chr8 & 127320401 & 127320600 & + & 1318 & 1810 & 1477 & 1505 & 738 & 687 & 620 & 636 & 781 & 520 & 538\\\\\n",
       "\t chr8:127742001-127742200 & chr8 & 127742001 & 127742200 & + &  634 &  730 &  698 &  761 & 316 & 343 & 158 & 194 & 268 & 141 & 251\\\\\n",
       "\\end{tabular}\n"
      ],
      "text/markdown": [
       "\n",
       "A tibble: 3 × 16\n",
       "\n",
       "| Name &lt;chr&gt; | Chrom &lt;chr&gt; | Start &lt;int&gt; | End &lt;int&gt; | Strand &lt;chr&gt; | Input.rep1 &lt;int&gt; | Input.rep2 &lt;int&gt; | Input.rep3 &lt;int&gt; | Input.rep4 &lt;int&gt; | Input.rep5 &lt;int&gt; | Input.rep6 &lt;int&gt; | Output.rep1 &lt;int&gt; | Output.rep2 &lt;int&gt; | Output.rep3 &lt;int&gt; | Output.rep4 &lt;int&gt; | Output.rep5 &lt;int&gt; |\n",
       "|---|---|---|---|---|---|---|---|---|---|---|---|---|---|---|---|\n",
       "| chr8:127381651-127381850 | chr8 | 127381651 | 127381850 | + | 1318 | 1810 | 1477 | 1505 | 738 | 687 | 620 | 636 | 781 | 520 | 538 |\n",
       "| chr8:127320401-127320600 | chr8 | 127320401 | 127320600 | + | 1318 | 1810 | 1477 | 1505 | 738 | 687 | 620 | 636 | 781 | 520 | 538 |\n",
       "| chr8:127742001-127742200 | chr8 | 127742001 | 127742200 | + |  634 |  730 |  698 |  761 | 316 | 343 | 158 | 194 | 268 | 141 | 251 |\n",
       "\n"
      ],
      "text/plain": [
       "  Name                     Chrom Start     End       Strand Input.rep1\n",
       "1 chr8:127381651-127381850 chr8  127381651 127381850 +      1318      \n",
       "2 chr8:127320401-127320600 chr8  127320401 127320600 +      1318      \n",
       "3 chr8:127742001-127742200 chr8  127742001 127742200 +       634      \n",
       "  Input.rep2 Input.rep3 Input.rep4 Input.rep5 Input.rep6 Output.rep1\n",
       "1 1810       1477       1505       738        687        620        \n",
       "2 1810       1477       1505       738        687        620        \n",
       "3  730        698        761       316        343        158        \n",
       "  Output.rep2 Output.rep3 Output.rep4 Output.rep5\n",
       "1 636         781         520         538        \n",
       "2 636         781         520         538        \n",
       "3 194         268         141         251        "
      ]
     },
     "metadata": {},
     "output_type": "display_data"
    }
   ],
   "source": [
    "lst = lst_dat_prep\n",
    "idx = names(lst)[3]\n",
    "dat = lst_dat_prep[[3]]\n",
    "\n",
    "cat(idx)\n",
    "head(dat, 3)"
   ]
  },
  {
   "cell_type": "code",
   "execution_count": 27,
   "metadata": {},
   "outputs": [
    {
     "name": "stdout",
     "output_type": "stream",
     "text": [
      "OL43_20221003.hg38.norm"
     ]
    },
    {
     "data": {
      "text/html": [
       "<table class=\"dataframe\">\n",
       "<caption>A tibble: 3 × 19</caption>\n",
       "<thead>\n",
       "\t<tr><th scope=col>Name</th><th scope=col>Chrom</th><th scope=col>Start</th><th scope=col>End</th><th scope=col>Strand</th><th scope=col>Input.rep1</th><th scope=col>Input.rep2</th><th scope=col>Input.rep3</th><th scope=col>Input.rep4</th><th scope=col>Input.rep5</th><th scope=col>Input.rep6</th><th scope=col>Output.rep1</th><th scope=col>Output.rep2</th><th scope=col>Output.rep3</th><th scope=col>Output.rep4</th><th scope=col>Output.rep5</th><th scope=col>Input.mean</th><th scope=col>Output.mean</th><th scope=col>Log2FC.mean</th></tr>\n",
       "\t<tr><th scope=col>&lt;chr&gt;</th><th scope=col>&lt;chr&gt;</th><th scope=col>&lt;int&gt;</th><th scope=col>&lt;int&gt;</th><th scope=col>&lt;chr&gt;</th><th scope=col>&lt;dbl&gt;</th><th scope=col>&lt;dbl&gt;</th><th scope=col>&lt;dbl&gt;</th><th scope=col>&lt;dbl&gt;</th><th scope=col>&lt;dbl&gt;</th><th scope=col>&lt;dbl&gt;</th><th scope=col>&lt;dbl&gt;</th><th scope=col>&lt;dbl&gt;</th><th scope=col>&lt;dbl&gt;</th><th scope=col>&lt;dbl&gt;</th><th scope=col>&lt;dbl&gt;</th><th scope=col>&lt;dbl&gt;</th><th scope=col>&lt;dbl&gt;</th><th scope=col>&lt;dbl&gt;</th></tr>\n",
       "</thead>\n",
       "<tbody>\n",
       "\t<tr><td>chr8:127381651-127381850</td><td>chr8</td><td>127381651</td><td>127381850</td><td>+</td><td>887.4466</td><td>1078.7715</td><td>946.8314</td><td>945.7219</td><td>962.3235</td><td>893.9085</td><td>961.7725</td><td>1136.6673</td><td>842.9706</td><td>896.6654</td><td>760.1443</td><td>952.5006</td><td>919.6440</td><td>-0.0506444</td></tr>\n",
       "\t<tr><td>chr8:127320401-127320600</td><td>chr8</td><td>127320401</td><td>127320600</td><td>+</td><td>887.4466</td><td>1078.7715</td><td>946.8314</td><td>945.7219</td><td>962.3235</td><td>893.9085</td><td>961.7725</td><td>1136.6673</td><td>842.9706</td><td>896.6654</td><td>760.1443</td><td>952.5006</td><td>919.6440</td><td>-0.0506444</td></tr>\n",
       "\t<tr><td>chr8:127742001-127742200</td><td>chr8</td><td>127742001</td><td>127742200</td><td>+</td><td>426.8901</td><td> 435.0846</td><td>447.4531</td><td>478.2022</td><td>412.0518</td><td>446.3037</td><td>245.0969</td><td> 346.7193</td><td>289.2652</td><td>243.1343</td><td>354.6398</td><td>440.9976</td><td>295.7711</td><td>-0.5762898</td></tr>\n",
       "</tbody>\n",
       "</table>\n"
      ],
      "text/latex": [
       "A tibble: 3 × 19\n",
       "\\begin{tabular}{lllllllllllllllllll}\n",
       " Name & Chrom & Start & End & Strand & Input.rep1 & Input.rep2 & Input.rep3 & Input.rep4 & Input.rep5 & Input.rep6 & Output.rep1 & Output.rep2 & Output.rep3 & Output.rep4 & Output.rep5 & Input.mean & Output.mean & Log2FC.mean\\\\\n",
       " <chr> & <chr> & <int> & <int> & <chr> & <dbl> & <dbl> & <dbl> & <dbl> & <dbl> & <dbl> & <dbl> & <dbl> & <dbl> & <dbl> & <dbl> & <dbl> & <dbl> & <dbl>\\\\\n",
       "\\hline\n",
       "\t chr8:127381651-127381850 & chr8 & 127381651 & 127381850 & + & 887.4466 & 1078.7715 & 946.8314 & 945.7219 & 962.3235 & 893.9085 & 961.7725 & 1136.6673 & 842.9706 & 896.6654 & 760.1443 & 952.5006 & 919.6440 & -0.0506444\\\\\n",
       "\t chr8:127320401-127320600 & chr8 & 127320401 & 127320600 & + & 887.4466 & 1078.7715 & 946.8314 & 945.7219 & 962.3235 & 893.9085 & 961.7725 & 1136.6673 & 842.9706 & 896.6654 & 760.1443 & 952.5006 & 919.6440 & -0.0506444\\\\\n",
       "\t chr8:127742001-127742200 & chr8 & 127742001 & 127742200 & + & 426.8901 &  435.0846 & 447.4531 & 478.2022 & 412.0518 & 446.3037 & 245.0969 &  346.7193 & 289.2652 & 243.1343 & 354.6398 & 440.9976 & 295.7711 & -0.5762898\\\\\n",
       "\\end{tabular}\n"
      ],
      "text/markdown": [
       "\n",
       "A tibble: 3 × 19\n",
       "\n",
       "| Name &lt;chr&gt; | Chrom &lt;chr&gt; | Start &lt;int&gt; | End &lt;int&gt; | Strand &lt;chr&gt; | Input.rep1 &lt;dbl&gt; | Input.rep2 &lt;dbl&gt; | Input.rep3 &lt;dbl&gt; | Input.rep4 &lt;dbl&gt; | Input.rep5 &lt;dbl&gt; | Input.rep6 &lt;dbl&gt; | Output.rep1 &lt;dbl&gt; | Output.rep2 &lt;dbl&gt; | Output.rep3 &lt;dbl&gt; | Output.rep4 &lt;dbl&gt; | Output.rep5 &lt;dbl&gt; | Input.mean &lt;dbl&gt; | Output.mean &lt;dbl&gt; | Log2FC.mean &lt;dbl&gt; |\n",
       "|---|---|---|---|---|---|---|---|---|---|---|---|---|---|---|---|---|---|---|\n",
       "| chr8:127381651-127381850 | chr8 | 127381651 | 127381850 | + | 887.4466 | 1078.7715 | 946.8314 | 945.7219 | 962.3235 | 893.9085 | 961.7725 | 1136.6673 | 842.9706 | 896.6654 | 760.1443 | 952.5006 | 919.6440 | -0.0506444 |\n",
       "| chr8:127320401-127320600 | chr8 | 127320401 | 127320600 | + | 887.4466 | 1078.7715 | 946.8314 | 945.7219 | 962.3235 | 893.9085 | 961.7725 | 1136.6673 | 842.9706 | 896.6654 | 760.1443 | 952.5006 | 919.6440 | -0.0506444 |\n",
       "| chr8:127742001-127742200 | chr8 | 127742001 | 127742200 | + | 426.8901 |  435.0846 | 447.4531 | 478.2022 | 412.0518 | 446.3037 | 245.0969 |  346.7193 | 289.2652 | 243.1343 | 354.6398 | 440.9976 | 295.7711 | -0.5762898 |\n",
       "\n"
      ],
      "text/plain": [
       "  Name                     Chrom Start     End       Strand Input.rep1\n",
       "1 chr8:127381651-127381850 chr8  127381651 127381850 +      887.4466  \n",
       "2 chr8:127320401-127320600 chr8  127320401 127320600 +      887.4466  \n",
       "3 chr8:127742001-127742200 chr8  127742001 127742200 +      426.8901  \n",
       "  Input.rep2 Input.rep3 Input.rep4 Input.rep5 Input.rep6 Output.rep1\n",
       "1 1078.7715  946.8314   945.7219   962.3235   893.9085   961.7725   \n",
       "2 1078.7715  946.8314   945.7219   962.3235   893.9085   961.7725   \n",
       "3  435.0846  447.4531   478.2022   412.0518   446.3037   245.0969   \n",
       "  Output.rep2 Output.rep3 Output.rep4 Output.rep5 Input.mean Output.mean\n",
       "1 1136.6673   842.9706    896.6654    760.1443    952.5006   919.6440   \n",
       "2 1136.6673   842.9706    896.6654    760.1443    952.5006   919.6440   \n",
       "3  346.7193   289.2652    243.1343    354.6398    440.9976   295.7711   \n",
       "  Log2FC.mean\n",
       "1 -0.0506444 \n",
       "2 -0.0506444 \n",
       "3 -0.5762898 "
      ]
     },
     "metadata": {},
     "output_type": "display_data"
    }
   ],
   "source": [
    "lst = lst_dat_prep\n",
    "idx = names(lst)[4]\n",
    "dat = lst_dat_prep[[4]]\n",
    "\n",
    "cat(idx)\n",
    "head(dat, 3)"
   ]
  },
  {
   "cell_type": "markdown",
   "metadata": {},
   "source": [
    "## Store the fragments and counts\n",
    "```\n",
    "* OL13 (FADS)\n",
    "* OL43 (GATA/MYC)\n",
    "* OL45 (HBE1/LMO2/RBM38/HBA2/BCL11A)\n",
    "\n",
    "- OL13_20220512_counts.out\n",
    "- OL13_20220512_normalized_counts.out\n",
    "- OL43_20211228_counts.out      \n",
    "- OL43_20211228_normalized_counts.out\n",
    "- OL43_20221003_counts.out \n",
    "- OL43_20221003_K562_normalized_counts.out\n",
    "- OL45_20220927_counts.out \n",
    "- OL45_20220927_K562_normalized_counts.out\n",
    "\n",
    "+++++++++++++++++++++++++++++++++++++++++++++++++++++++++++++\n",
    "Fragments\n",
    "\n",
    "OL13_20220512.hg19.stranded_pos.bed\n",
    "OL43_20221003.hg38.stranded_pos.bed\n",
    "OL45_20221003.hg38.stranded_pos.bed\n",
    "\n",
    "+++++++++++++++++++++++++++++++++++++++++++++++++++++++++++++\n",
    "Counts: OL13_20220512\n",
    "\n",
    "OL13_20220512.hg19.raw.Input .rep[1-4].stranded_pos.bed\n",
    "OL13_20220512.hg19.raw.Output.rep[1-4].stranded_pos.bed\n",
    "\n",
    "OL13_20220512.hg19.norm.Input .mean.stranded_pos.bed\n",
    "OL13_20220512.hg19.norm.Output.mean.stranded_pos.bed\n",
    "OL13_20220512.hg19.norm.Log2FC.mean.stranded_pos.bed\n",
    "\n",
    "+++++++++++++++++++++++++++++++++++++++++++++++++++++++++++++\n",
    "Counts: OL43_20221003\n",
    "\n",
    "OL43_20221003.hg38.raw.Input .rep[1-6].stranded_pos.bed\n",
    "OL43_20221003.hg38.raw.Output.rep[1-5].stranded_pos.bed\n",
    "\n",
    "OL43_20221003.hg38.norm.Input .rep[1-6].stranded_pos.bed\n",
    "OL43_20221003.hg38.norm.Output.rep[1-5].stranded_pos.bed\n",
    "\n",
    "OL43_20221003.hg38.norm.Input .mean.stranded_pos.bed\n",
    "OL43_20221003.hg38.norm.Output.mean.stranded_pos.bed\n",
    "OL43_20221003.hg38.norm.Log2FC.mean.stranded_pos.bed\n",
    "\n",
    "+++++++++++++++++++++++++++++++++++++++++++++++++++++++++++++\n",
    "Counts: OL45_20220927\n",
    "\n",
    "OL43_20221003.hg38.raw. Input .rep[1-4].stranded_pos.bed\n",
    "OL43_20221003.hg38.norm.Output.rep[1-4].stranded_pos.bed\n",
    "\n",
    "OL43_20221003.hg38.norm.Input .rep[1-4].stranded_pos.bed\n",
    "OL43_20221003.hg38.norm.Output.rep[1-4].stranded_pos.bed\n",
    "\n",
    "OL43_20221003.hg38.norm.Input .mean.stranded_pos.bed\n",
    "OL43_20221003.hg38.norm.Output.mean.stranded_pos.bed\n",
    "OL43_20221003.hg38.norm.Log2FC.mean.stranded_pos.bed\n",
    "```"
   ]
  },
  {
   "cell_type": "markdown",
   "metadata": {},
   "source": [
    "## Store fragment counts"
   ]
  },
  {
   "cell_type": "code",
   "execution_count": 28,
   "metadata": {},
   "outputs": [],
   "source": [
    "#CHROMS = paste0(\"chr\", c(1:22, \"X\", \"Y\"))\n",
    "#CHROMS"
   ]
  },
  {
   "cell_type": "markdown",
   "metadata": {},
   "source": [
    "**Store fragments**"
   ]
  },
  {
   "cell_type": "code",
   "execution_count": 29,
   "metadata": {},
   "outputs": [
    {
     "data": {
      "text/html": [
       "<style>\n",
       ".list-inline {list-style: none; margin:0; padding: 0}\n",
       ".list-inline>li {display: inline-block}\n",
       ".list-inline>li:not(:last-child)::after {content: \"\\00b7\"; padding: 0 .5ex}\n",
       "</style>\n",
       "<ol class=list-inline><li>'OL13_20220512.hg19.raw'</li><li>'OL43_20221003.hg38.raw'</li><li>'OL45_20220927.hg38.raw'</li></ol>\n"
      ],
      "text/latex": [
       "\\begin{enumerate*}\n",
       "\\item 'OL13\\_20220512.hg19.raw'\n",
       "\\item 'OL43\\_20221003.hg38.raw'\n",
       "\\item 'OL45\\_20220927.hg38.raw'\n",
       "\\end{enumerate*}\n"
      ],
      "text/markdown": [
       "1. 'OL13_20220512.hg19.raw'\n",
       "2. 'OL43_20221003.hg38.raw'\n",
       "3. 'OL45_20220927.hg38.raw'\n",
       "\n",
       "\n"
      ],
      "text/plain": [
       "[1] \"OL13_20220512.hg19.raw\" \"OL43_20221003.hg38.raw\" \"OL45_20220927.hg38.raw\""
      ]
     },
     "metadata": {},
     "output_type": "display_data"
    }
   ],
   "source": [
    "lst  = lst_dat_prep\n",
    "idxs = grep(\"raw\", names(lst), value=TRUE)\n",
    "idxs"
   ]
  },
  {
   "cell_type": "code",
   "execution_count": 30,
   "metadata": {},
   "outputs": [
    {
     "name": "stdout",
     "output_type": "stream",
     "text": [
      "\n",
      "=======================\n",
      "Sample: OL13_20220512.hg19.raw \n",
      "\u001b[90m# A tibble: 6 × 6\u001b[39m\n",
      "  Chrom    Start      End Name                    Score Strand\n",
      "  \u001b[3m\u001b[90m<chr>\u001b[39m\u001b[23m    \u001b[3m\u001b[90m<int>\u001b[39m\u001b[23m    \u001b[3m\u001b[90m<int>\u001b[39m\u001b[23m \u001b[3m\u001b[90m<chr>\u001b[39m\u001b[23m                   \u001b[3m\u001b[90m<chr>\u001b[39m\u001b[23m \u001b[3m\u001b[90m<chr>\u001b[39m\u001b[23m \n",
      "\u001b[90m1\u001b[39m chr11 61\u001b[4m5\u001b[24m\u001b[4m5\u001b[24m\u001b[4m4\u001b[24m801 61\u001b[4m5\u001b[24m\u001b[4m5\u001b[24m\u001b[4m5\u001b[24m000 chr11:61554801-61555000 .     +     \n",
      "\u001b[90m2\u001b[39m chr11 61\u001b[4m5\u001b[24m\u001b[4m5\u001b[24m\u001b[4m4\u001b[24m806 61\u001b[4m5\u001b[24m\u001b[4m5\u001b[24m\u001b[4m5\u001b[24m005 chr11:61554806-61555005 .     +     \n",
      "\u001b[90m3\u001b[39m chr11 61\u001b[4m5\u001b[24m\u001b[4m5\u001b[24m\u001b[4m4\u001b[24m811 61\u001b[4m5\u001b[24m\u001b[4m5\u001b[24m\u001b[4m5\u001b[24m010 chr11:61554811-61555010 .     +     \n",
      "\u001b[90m4\u001b[39m chr11 61\u001b[4m5\u001b[24m\u001b[4m5\u001b[24m\u001b[4m4\u001b[24m816 61\u001b[4m5\u001b[24m\u001b[4m5\u001b[24m\u001b[4m5\u001b[24m015 chr11:61554816-61555015 .     +     \n",
      "\u001b[90m5\u001b[39m chr11 61\u001b[4m5\u001b[24m\u001b[4m5\u001b[24m\u001b[4m4\u001b[24m821 61\u001b[4m5\u001b[24m\u001b[4m5\u001b[24m\u001b[4m5\u001b[24m020 chr11:61554821-61555020 .     +     \n",
      "\u001b[90m6\u001b[39m chr11 61\u001b[4m5\u001b[24m\u001b[4m5\u001b[24m\u001b[4m4\u001b[24m826 61\u001b[4m5\u001b[24m\u001b[4m5\u001b[24m\u001b[4m5\u001b[24m025 chr11:61554826-61555025 .     +     \n",
      "\n",
      "Saved Table: OL13_20220512.hg19.raw.stranded_pos.bed \n",
      "\n",
      "=======================\n",
      "Sample: OL43_20221003.hg38.raw \n",
      "\u001b[90m# A tibble: 6 × 6\u001b[39m\n",
      "  Chrom     Start       End Name                     Score Strand\n",
      "  \u001b[3m\u001b[90m<chr>\u001b[39m\u001b[23m     \u001b[3m\u001b[90m<int>\u001b[39m\u001b[23m     \u001b[3m\u001b[90m<int>\u001b[39m\u001b[23m \u001b[3m\u001b[90m<chr>\u001b[39m\u001b[23m                    \u001b[3m\u001b[90m<chr>\u001b[39m\u001b[23m \u001b[3m\u001b[90m<chr>\u001b[39m\u001b[23m \n",
      "\u001b[90m1\u001b[39m chr8  126\u001b[4m7\u001b[24m\u001b[4m3\u001b[24m\u001b[4m5\u001b[24m901 126\u001b[4m7\u001b[24m\u001b[4m3\u001b[24m\u001b[4m6\u001b[24m100 chr8:126735901-126736100 .     +     \n",
      "\u001b[90m2\u001b[39m chr8  126\u001b[4m7\u001b[24m\u001b[4m3\u001b[24m\u001b[4m5\u001b[24m951 126\u001b[4m7\u001b[24m\u001b[4m3\u001b[24m\u001b[4m6\u001b[24m150 chr8:126735951-126736150 .     +     \n",
      "\u001b[90m3\u001b[39m chr8  126\u001b[4m7\u001b[24m\u001b[4m3\u001b[24m\u001b[4m6\u001b[24m001 126\u001b[4m7\u001b[24m\u001b[4m3\u001b[24m\u001b[4m6\u001b[24m200 chr8:126736001-126736200 .     +     \n",
      "\u001b[90m4\u001b[39m chr8  126\u001b[4m7\u001b[24m\u001b[4m3\u001b[24m\u001b[4m6\u001b[24m051 126\u001b[4m7\u001b[24m\u001b[4m3\u001b[24m\u001b[4m6\u001b[24m250 chr8:126736051-126736250 .     +     \n",
      "\u001b[90m5\u001b[39m chr8  126\u001b[4m7\u001b[24m\u001b[4m3\u001b[24m\u001b[4m6\u001b[24m101 126\u001b[4m7\u001b[24m\u001b[4m3\u001b[24m\u001b[4m6\u001b[24m300 chr8:126736101-126736300 .     +     \n",
      "\u001b[90m6\u001b[39m chr8  126\u001b[4m7\u001b[24m\u001b[4m3\u001b[24m\u001b[4m6\u001b[24m151 126\u001b[4m7\u001b[24m\u001b[4m3\u001b[24m\u001b[4m6\u001b[24m350 chr8:126736151-126736350 .     +     \n",
      "\n",
      "Saved Table: OL43_20221003.hg38.raw.stranded_pos.bed \n",
      "\n",
      "=======================\n",
      "Sample: OL45_20220927.hg38.raw \n",
      "\u001b[90m# A tibble: 6 × 6\u001b[39m\n",
      "  Chrom   Start     End Name                  Score Strand\n",
      "  \u001b[3m\u001b[90m<chr>\u001b[39m\u001b[23m   \u001b[3m\u001b[90m<int>\u001b[39m\u001b[23m   \u001b[3m\u001b[90m<int>\u001b[39m\u001b[23m \u001b[3m\u001b[90m<chr>\u001b[39m\u001b[23m                 \u001b[3m\u001b[90m<chr>\u001b[39m\u001b[23m \u001b[3m\u001b[90m<chr>\u001b[39m\u001b[23m \n",
      "\u001b[90m1\u001b[39m chr11 4\u001b[4m5\u001b[24m\u001b[4m0\u001b[24m\u001b[4m5\u001b[24m501 4\u001b[4m5\u001b[24m\u001b[4m0\u001b[24m\u001b[4m5\u001b[24m700 chr11:4505501-4505700 .     +     \n",
      "\u001b[90m2\u001b[39m chr11 4\u001b[4m5\u001b[24m\u001b[4m0\u001b[24m\u001b[4m5\u001b[24m601 4\u001b[4m5\u001b[24m\u001b[4m0\u001b[24m\u001b[4m5\u001b[24m800 chr11:4505601-4505800 .     +     \n",
      "\u001b[90m3\u001b[39m chr11 4\u001b[4m5\u001b[24m\u001b[4m0\u001b[24m\u001b[4m5\u001b[24m701 4\u001b[4m5\u001b[24m\u001b[4m0\u001b[24m\u001b[4m5\u001b[24m900 chr11:4505701-4505900 .     +     \n",
      "\u001b[90m4\u001b[39m chr11 4\u001b[4m5\u001b[24m\u001b[4m0\u001b[24m\u001b[4m5\u001b[24m801 4\u001b[4m5\u001b[24m\u001b[4m0\u001b[24m\u001b[4m6\u001b[24m000 chr11:4505801-4506000 .     +     \n",
      "\u001b[90m5\u001b[39m chr11 4\u001b[4m5\u001b[24m\u001b[4m0\u001b[24m\u001b[4m5\u001b[24m901 4\u001b[4m5\u001b[24m\u001b[4m0\u001b[24m\u001b[4m6\u001b[24m100 chr11:4505901-4506100 .     +     \n",
      "\u001b[90m6\u001b[39m chr11 4\u001b[4m5\u001b[24m\u001b[4m0\u001b[24m\u001b[4m6\u001b[24m001 4\u001b[4m5\u001b[24m\u001b[4m0\u001b[24m\u001b[4m6\u001b[24m200 chr11:4506001-4506200 .     +     \n",
      "\n",
      "Saved Table: OL45_20220927.hg38.raw.stranded_pos.bed \n"
     ]
    }
   ],
   "source": [
    "assay  = \"Tewhey_K562_TileMPRA\"\n",
    "folder = \"fragment\"\n",
    "strand = \"stranded_pos\"\n",
    "\n",
    "lst  = lst_dat_prep\n",
    "idxs = grep(\"raw\", names(lst), value=TRUE)\n",
    "\n",
    "for (idx in idxs){\n",
    "    ### show progres\n",
    "    cat(\"\\n=======================\")\n",
    "    cat(\"\\nSample:\", idx, \"\\n\")\n",
    "    \n",
    "    ### init\n",
    "    dat = lst[[idx]]\n",
    "    #dat$Chrom = factor(dat$Chrom, levels=CHROMS)\n",
    "    \n",
    "    ### extract positive trands and order by positions\n",
    "    dat = dat %>% \n",
    "       dplyr::filter(Strand == \"+\") %>% \n",
    "       dplyr::arrange(Chrom, Start, End)\n",
    "    \n",
    "    ### arrange the column into bed file format\n",
    "    dat = dat %>%\n",
    "         dplyr::mutate(Score = \".\") %>%\n",
    "         dplyr::select(Chrom, Start, End, Name, Score, Strand)\n",
    "    \n",
    "    ### save table\n",
    "    fdiry = file.path(FD_RES, \"results\", assay, folder)\n",
    "    fname = paste(idx, strand, \"bed\", sep=\".\")\n",
    "    fpath = file.path(fdiry, fname)\n",
    "    write_tsv(dat, fpath, col_names=FALSE)\n",
    "\n",
    "    ### show progress\n",
    "    print(head(dat))\n",
    "    cat(\"\\nSaved Table:\", fname, \"\\n\")\n",
    "}"
   ]
  },
  {
   "cell_type": "markdown",
   "metadata": {},
   "source": [
    "**Store table of counts**"
   ]
  },
  {
   "cell_type": "code",
   "execution_count": 31,
   "metadata": {},
   "outputs": [
    {
     "name": "stdout",
     "output_type": "stream",
     "text": [
      "Saved directory: \n",
      "/data/reddylab/Kuei/out/proj_combeffect_encode_fcc/results/Tewhey_K562_TileMPRA/fragment_count/summary \n",
      "\n",
      "=======================\n",
      "Sample: OL13_20220512.hg19.raw \n",
      "\u001b[90m# A tibble: 6 × 13\u001b[39m\n",
      "  Name        Chrom  Start    End Strand Input…¹ Input…² Input…³ Input…⁴ Outpu…⁵\n",
      "  \u001b[3m\u001b[90m<chr>\u001b[39m\u001b[23m       \u001b[3m\u001b[90m<chr>\u001b[39m\u001b[23m  \u001b[3m\u001b[90m<int>\u001b[39m\u001b[23m  \u001b[3m\u001b[90m<int>\u001b[39m\u001b[23m \u001b[3m\u001b[90m<chr>\u001b[39m\u001b[23m    \u001b[3m\u001b[90m<int>\u001b[39m\u001b[23m   \u001b[3m\u001b[90m<int>\u001b[39m\u001b[23m   \u001b[3m\u001b[90m<int>\u001b[39m\u001b[23m   \u001b[3m\u001b[90m<int>\u001b[39m\u001b[23m   \u001b[3m\u001b[90m<int>\u001b[39m\u001b[23m\n",
      "\u001b[90m1\u001b[39m chr11:6155… chr11 6.16\u001b[90me\u001b[39m7 6.16\u001b[90me\u001b[39m7 +          971     542     785     640     112\n",
      "\u001b[90m2\u001b[39m chr11:6155… chr11 6.16\u001b[90me\u001b[39m7 6.16\u001b[90me\u001b[39m7 +         \u001b[4m1\u001b[24m267     562    \u001b[4m1\u001b[24m059     564     211\n",
      "\u001b[90m3\u001b[39m chr11:6155… chr11 6.16\u001b[90me\u001b[39m7 6.16\u001b[90me\u001b[39m7 +         \u001b[4m1\u001b[24m183     641    \u001b[4m1\u001b[24m118     655     261\n",
      "\u001b[90m4\u001b[39m chr11:6155… chr11 6.16\u001b[90me\u001b[39m7 6.16\u001b[90me\u001b[39m7 +         \u001b[4m1\u001b[24m020     476    \u001b[4m1\u001b[24m086     584     137\n",
      "\u001b[90m5\u001b[39m chr11:6155… chr11 6.16\u001b[90me\u001b[39m7 6.16\u001b[90me\u001b[39m7 +         \u001b[4m1\u001b[24m138     580     894     565     187\n",
      "\u001b[90m6\u001b[39m chr11:6155… chr11 6.16\u001b[90me\u001b[39m7 6.16\u001b[90me\u001b[39m7 +          702     406     745     318      82\n",
      "\u001b[90m# … with 3 more variables: Output.rep2 <int>, Output.rep3 <int>,\u001b[39m\n",
      "\u001b[90m#   Output.rep4 <int>, and abbreviated variable names ¹​Input.rep1, ²​Input.rep2,\u001b[39m\n",
      "\u001b[90m#   ³​Input.rep3, ⁴​Input.rep4, ⁵​Output.rep1\u001b[39m\n",
      "\n",
      "Saved Table: OL13_20220512.hg19.raw.stranded_pos.tsv \n",
      "\n",
      "=======================\n",
      "Sample: OL13_20220512.hg19.norm \n",
      "\u001b[90m# A tibble: 6 × 16\u001b[39m\n",
      "  Name        Chrom  Start    End Strand Input…¹ Input…² Input…³ Input…⁴ Outpu…⁵\n",
      "  \u001b[3m\u001b[90m<chr>\u001b[39m\u001b[23m       \u001b[3m\u001b[90m<chr>\u001b[39m\u001b[23m  \u001b[3m\u001b[90m<int>\u001b[39m\u001b[23m  \u001b[3m\u001b[90m<int>\u001b[39m\u001b[23m \u001b[3m\u001b[90m<chr>\u001b[39m\u001b[23m    \u001b[3m\u001b[90m<dbl>\u001b[39m\u001b[23m   \u001b[3m\u001b[90m<dbl>\u001b[39m\u001b[23m   \u001b[3m\u001b[90m<dbl>\u001b[39m\u001b[23m   \u001b[3m\u001b[90m<dbl>\u001b[39m\u001b[23m   \u001b[3m\u001b[90m<dbl>\u001b[39m\u001b[23m\n",
      "\u001b[90m1\u001b[39m chr11:6155… chr11 6.16\u001b[90me\u001b[39m7 6.16\u001b[90me\u001b[39m7 +         532.    531.    481.    621.    240.\n",
      "\u001b[90m2\u001b[39m chr11:6155… chr11 6.16\u001b[90me\u001b[39m7 6.16\u001b[90me\u001b[39m7 +         694.    551.    649.    548.    451.\n",
      "\u001b[90m3\u001b[39m chr11:6155… chr11 6.16\u001b[90me\u001b[39m7 6.16\u001b[90me\u001b[39m7 +         648.    628.    685.    636.    558.\n",
      "\u001b[90m4\u001b[39m chr11:6155… chr11 6.16\u001b[90me\u001b[39m7 6.16\u001b[90me\u001b[39m7 +         559.    466.    666.    567.    293.\n",
      "\u001b[90m5\u001b[39m chr11:6155… chr11 6.16\u001b[90me\u001b[39m7 6.16\u001b[90me\u001b[39m7 +         624.    568.    548.    549.    400.\n",
      "\u001b[90m6\u001b[39m chr11:6155… chr11 6.16\u001b[90me\u001b[39m7 6.16\u001b[90me\u001b[39m7 +         385.    398.    457.    309.    175.\n",
      "\u001b[90m# … with 6 more variables: Output.rep2 <dbl>, Output.rep3 <dbl>,\u001b[39m\n",
      "\u001b[90m#   Output.rep4 <dbl>, Input.mean <dbl>, Output.mean <dbl>, Log2FC.mean <dbl>,\u001b[39m\n",
      "\u001b[90m#   and abbreviated variable names ¹​Input.rep1, ²​Input.rep2, ³​Input.rep3,\u001b[39m\n",
      "\u001b[90m#   ⁴​Input.rep4, ⁵​Output.rep1\u001b[39m\n",
      "\n",
      "Saved Table: OL13_20220512.hg19.norm.stranded_pos.tsv \n",
      "\n",
      "=======================\n",
      "Sample: OL43_20221003.hg38.raw \n",
      "\u001b[90m# A tibble: 6 × 16\u001b[39m\n",
      "  Name        Chrom  Start    End Strand Input…¹ Input…² Input…³ Input…⁴ Input…⁵\n",
      "  \u001b[3m\u001b[90m<chr>\u001b[39m\u001b[23m       \u001b[3m\u001b[90m<chr>\u001b[39m\u001b[23m  \u001b[3m\u001b[90m<int>\u001b[39m\u001b[23m  \u001b[3m\u001b[90m<int>\u001b[39m\u001b[23m \u001b[3m\u001b[90m<chr>\u001b[39m\u001b[23m    \u001b[3m\u001b[90m<int>\u001b[39m\u001b[23m   \u001b[3m\u001b[90m<int>\u001b[39m\u001b[23m   \u001b[3m\u001b[90m<int>\u001b[39m\u001b[23m   \u001b[3m\u001b[90m<int>\u001b[39m\u001b[23m   \u001b[3m\u001b[90m<int>\u001b[39m\u001b[23m\n",
      "\u001b[90m1\u001b[39m chr8:12673… chr8  1.27\u001b[90me\u001b[39m8 1.27\u001b[90me\u001b[39m8 +         \u001b[4m1\u001b[24m190    \u001b[4m1\u001b[24m409    \u001b[4m1\u001b[24m259    \u001b[4m1\u001b[24m179     665\n",
      "\u001b[90m2\u001b[39m chr8:12673… chr8  1.27\u001b[90me\u001b[39m8 1.27\u001b[90me\u001b[39m8 +          194     161     161     208      95\n",
      "\u001b[90m3\u001b[39m chr8:12673… chr8  1.27\u001b[90me\u001b[39m8 1.27\u001b[90me\u001b[39m8 +          746     757     708     704     350\n",
      "\u001b[90m4\u001b[39m chr8:12673… chr8  1.27\u001b[90me\u001b[39m8 1.27\u001b[90me\u001b[39m8 +          934    \u001b[4m1\u001b[24m056     988     985     500\n",
      "\u001b[90m5\u001b[39m chr8:12673… chr8  1.27\u001b[90me\u001b[39m8 1.27\u001b[90me\u001b[39m8 +          697     887     772     796     377\n",
      "\u001b[90m6\u001b[39m chr8:12673… chr8  1.27\u001b[90me\u001b[39m8 1.27\u001b[90me\u001b[39m8 +         \u001b[4m1\u001b[24m225    \u001b[4m1\u001b[24m454    \u001b[4m1\u001b[24m264    \u001b[4m1\u001b[24m256     638\n",
      "\u001b[90m# … with 6 more variables: Input.rep6 <int>, Output.rep1 <int>,\u001b[39m\n",
      "\u001b[90m#   Output.rep2 <int>, Output.rep3 <int>, Output.rep4 <int>, Output.rep5 <int>,\u001b[39m\n",
      "\u001b[90m#   and abbreviated variable names ¹​Input.rep1, ²​Input.rep2, ³​Input.rep3,\u001b[39m\n",
      "\u001b[90m#   ⁴​Input.rep4, ⁵​Input.rep5\u001b[39m\n",
      "\n",
      "Saved Table: OL43_20221003.hg38.raw.stranded_pos.tsv \n",
      "\n",
      "=======================\n",
      "Sample: OL43_20221003.hg38.norm \n",
      "\u001b[90m# A tibble: 6 × 19\u001b[39m\n",
      "  Name        Chrom  Start    End Strand Input…¹ Input…² Input…³ Input…⁴ Input…⁵\n",
      "  \u001b[3m\u001b[90m<chr>\u001b[39m\u001b[23m       \u001b[3m\u001b[90m<chr>\u001b[39m\u001b[23m  \u001b[3m\u001b[90m<int>\u001b[39m\u001b[23m  \u001b[3m\u001b[90m<int>\u001b[39m\u001b[23m \u001b[3m\u001b[90m<chr>\u001b[39m\u001b[23m    \u001b[3m\u001b[90m<dbl>\u001b[39m\u001b[23m   \u001b[3m\u001b[90m<dbl>\u001b[39m\u001b[23m   \u001b[3m\u001b[90m<dbl>\u001b[39m\u001b[23m   \u001b[3m\u001b[90m<dbl>\u001b[39m\u001b[23m   \u001b[3m\u001b[90m<dbl>\u001b[39m\u001b[23m\n",
      "\u001b[90m1\u001b[39m chr8:12673… chr8  1.27\u001b[90me\u001b[39m8 1.27\u001b[90me\u001b[39m8 +         801.   840.     807.    741.    867.\n",
      "\u001b[90m2\u001b[39m chr8:12673… chr8  1.27\u001b[90me\u001b[39m8 1.27\u001b[90me\u001b[39m8 +         131.    96.0    103.    131.    124.\n",
      "\u001b[90m3\u001b[39m chr8:12673… chr8  1.27\u001b[90me\u001b[39m8 1.27\u001b[90me\u001b[39m8 +         502.   451.     454.    442.    456.\n",
      "\u001b[90m4\u001b[39m chr8:12673… chr8  1.27\u001b[90me\u001b[39m8 1.27\u001b[90me\u001b[39m8 +         629.   629.     633.    619.    652.\n",
      "\u001b[90m5\u001b[39m chr8:12673… chr8  1.27\u001b[90me\u001b[39m8 1.27\u001b[90me\u001b[39m8 +         469.   529.     495.    500.    492.\n",
      "\u001b[90m6\u001b[39m chr8:12673… chr8  1.27\u001b[90me\u001b[39m8 1.27\u001b[90me\u001b[39m8 +         825.   867.     810.    789.    832.\n",
      "\u001b[90m# … with 9 more variables: Input.rep6 <dbl>, Output.rep1 <dbl>,\u001b[39m\n",
      "\u001b[90m#   Output.rep2 <dbl>, Output.rep3 <dbl>, Output.rep4 <dbl>, Output.rep5 <dbl>,\u001b[39m\n",
      "\u001b[90m#   Input.mean <dbl>, Output.mean <dbl>, Log2FC.mean <dbl>, and abbreviated\u001b[39m\n",
      "\u001b[90m#   variable names ¹​Input.rep1, ²​Input.rep2, ³​Input.rep3, ⁴​Input.rep4,\u001b[39m\n",
      "\u001b[90m#   ⁵​Input.rep5\u001b[39m\n",
      "\n",
      "Saved Table: OL43_20221003.hg38.norm.stranded_pos.tsv \n",
      "\n",
      "=======================\n",
      "Sample: OL45_20220927.hg38.raw \n",
      "\u001b[90m# A tibble: 6 × 13\u001b[39m\n",
      "  Name        Chrom  Start    End Strand Input…¹ Input…² Input…³ Input…⁴ Outpu…⁵\n",
      "  \u001b[3m\u001b[90m<chr>\u001b[39m\u001b[23m       \u001b[3m\u001b[90m<chr>\u001b[39m\u001b[23m  \u001b[3m\u001b[90m<int>\u001b[39m\u001b[23m  \u001b[3m\u001b[90m<int>\u001b[39m\u001b[23m \u001b[3m\u001b[90m<chr>\u001b[39m\u001b[23m    \u001b[3m\u001b[90m<int>\u001b[39m\u001b[23m   \u001b[3m\u001b[90m<int>\u001b[39m\u001b[23m   \u001b[3m\u001b[90m<int>\u001b[39m\u001b[23m   \u001b[3m\u001b[90m<int>\u001b[39m\u001b[23m   \u001b[3m\u001b[90m<int>\u001b[39m\u001b[23m\n",
      "\u001b[90m1\u001b[39m chr11:4505… chr11 4.51\u001b[90me\u001b[39m6 4.51\u001b[90me\u001b[39m6 +          811     664     917     815     643\n",
      "\u001b[90m2\u001b[39m chr11:4505… chr11 4.51\u001b[90me\u001b[39m6 4.51\u001b[90me\u001b[39m6 +          693     552     607     551     413\n",
      "\u001b[90m3\u001b[39m chr11:4505… chr11 4.51\u001b[90me\u001b[39m6 4.51\u001b[90me\u001b[39m6 +          577     414     448     371     303\n",
      "\u001b[90m4\u001b[39m chr11:4505… chr11 4.51\u001b[90me\u001b[39m6 4.51\u001b[90me\u001b[39m6 +          855     754     688     812     366\n",
      "\u001b[90m5\u001b[39m chr11:4505… chr11 4.51\u001b[90me\u001b[39m6 4.51\u001b[90me\u001b[39m6 +          317     217     313     280     117\n",
      "\u001b[90m6\u001b[39m chr11:4506… chr11 4.51\u001b[90me\u001b[39m6 4.51\u001b[90me\u001b[39m6 +          444     422     454     473     237\n",
      "\u001b[90m# … with 3 more variables: Output.rep2 <int>, Output.rep3 <int>,\u001b[39m\n",
      "\u001b[90m#   Output.rep4 <int>, and abbreviated variable names ¹​Input.rep1, ²​Input.rep2,\u001b[39m\n",
      "\u001b[90m#   ³​Input.rep3, ⁴​Input.rep4, ⁵​Output.rep1\u001b[39m\n",
      "\n",
      "Saved Table: OL45_20220927.hg38.raw.stranded_pos.tsv \n",
      "\n",
      "=======================\n",
      "Sample: OL45_20220927.hg38.norm \n",
      "\u001b[90m# A tibble: 6 × 16\u001b[39m\n",
      "  Name        Chrom  Start    End Strand Input…¹ Input…² Input…³ Input…⁴ Outpu…⁵\n",
      "  \u001b[3m\u001b[90m<chr>\u001b[39m\u001b[23m       \u001b[3m\u001b[90m<chr>\u001b[39m\u001b[23m  \u001b[3m\u001b[90m<int>\u001b[39m\u001b[23m  \u001b[3m\u001b[90m<int>\u001b[39m\u001b[23m \u001b[3m\u001b[90m<chr>\u001b[39m\u001b[23m    \u001b[3m\u001b[90m<dbl>\u001b[39m\u001b[23m   \u001b[3m\u001b[90m<dbl>\u001b[39m\u001b[23m   \u001b[3m\u001b[90m<dbl>\u001b[39m\u001b[23m   \u001b[3m\u001b[90m<dbl>\u001b[39m\u001b[23m   \u001b[3m\u001b[90m<dbl>\u001b[39m\u001b[23m\n",
      "\u001b[90m1\u001b[39m chr11:4505… chr11 4.51\u001b[90me\u001b[39m6 4.51\u001b[90me\u001b[39m6 +         597.    577.    776.    702.    792.\n",
      "\u001b[90m2\u001b[39m chr11:4505… chr11 4.51\u001b[90me\u001b[39m6 4.51\u001b[90me\u001b[39m6 +         510.    480.    514.    474.    509.\n",
      "\u001b[90m3\u001b[39m chr11:4505… chr11 4.51\u001b[90me\u001b[39m6 4.51\u001b[90me\u001b[39m6 +         425.    360.    379.    319.    373.\n",
      "\u001b[90m4\u001b[39m chr11:4505… chr11 4.51\u001b[90me\u001b[39m6 4.51\u001b[90me\u001b[39m6 +         629.    655.    582.    699.    451.\n",
      "\u001b[90m5\u001b[39m chr11:4505… chr11 4.51\u001b[90me\u001b[39m6 4.51\u001b[90me\u001b[39m6 +         233.    189.    265.    241.    144.\n",
      "\u001b[90m6\u001b[39m chr11:4506… chr11 4.51\u001b[90me\u001b[39m6 4.51\u001b[90me\u001b[39m6 +         327.    367.    384.    407.    292.\n",
      "\u001b[90m# … with 6 more variables: Output.rep2 <dbl>, Output.rep3 <dbl>,\u001b[39m\n",
      "\u001b[90m#   Output.rep4 <dbl>, Input.mean <dbl>, Output.mean <dbl>, Log2FC.mean <dbl>,\u001b[39m\n",
      "\u001b[90m#   and abbreviated variable names ¹​Input.rep1, ²​Input.rep2, ³​Input.rep3,\u001b[39m\n",
      "\u001b[90m#   ⁴​Input.rep4, ⁵​Output.rep1\u001b[39m\n",
      "\n",
      "Saved Table: OL45_20220927.hg38.norm.stranded_pos.tsv \n"
     ]
    }
   ],
   "source": [
    "assay  = \"Tewhey_K562_TileMPRA\"\n",
    "folder = \"fragment_count\"\n",
    "strand = \"stranded_pos\"\n",
    "\n",
    "lst  = lst_dat_prep\n",
    "idxs = names(lst)\n",
    "\n",
    "fdiry = file.path(FD_RES, \"results\", assay, folder, \"summary\")\n",
    "cat(\"Saved directory:\", \"\\n\")\n",
    "cat(fdiry, \"\\n\")\n",
    "\n",
    "for (idx in idxs){\n",
    "    ### show progres\n",
    "    cat(\"\\n=======================\")\n",
    "    cat(\"\\nSample:\", idx, \"\\n\")\n",
    "    \n",
    "    ### init\n",
    "    dat = lst[[idx]]\n",
    "    #dat$Chrom = factor(dat$Chrom, levels=CHROMS)\n",
    "    \n",
    "    ### extract positive trands and order by positions\n",
    "    dat = dat %>% \n",
    "       dplyr::filter(Strand == \"+\") %>% \n",
    "       dplyr::arrange(Chrom, Start, End)\n",
    "    \n",
    "    ### save table\n",
    "    fdiry = file.path(FD_RES, \"results\", assay, folder, \"summary\")\n",
    "    fname = paste(idx, strand, \"tsv\", sep=\".\")\n",
    "    fpath = file.path(fdiry, fname)\n",
    "    write_tsv(dat, fpath)\n",
    "\n",
    "    ### show progress\n",
    "    print(head(dat))\n",
    "    cat(\"\\nSaved Table:\", fname, \"\\n\")\n",
    "}"
   ]
  },
  {
   "cell_type": "code",
   "execution_count": null,
   "metadata": {},
   "outputs": [],
   "source": []
  }
 ],
 "metadata": {
  "kernelspec": {
   "display_name": "R",
   "language": "R",
   "name": "ir"
  },
  "language_info": {
   "codemirror_mode": "r",
   "file_extension": ".r",
   "mimetype": "text/x-r-source",
   "name": "R",
   "pygments_lexer": "r",
   "version": "4.3.0"
  }
 },
 "nbformat": 4,
 "nbformat_minor": 4
}
