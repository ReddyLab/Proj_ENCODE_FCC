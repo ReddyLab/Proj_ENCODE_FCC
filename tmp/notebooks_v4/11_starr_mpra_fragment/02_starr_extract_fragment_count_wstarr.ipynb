{
 "cells": [
  {
   "cell_type": "markdown",
   "id": "3ad08c24-fdb2-461e-97ff-f49f5e678206",
   "metadata": {},
   "source": [
    "**Set environment**"
   ]
  },
  {
   "cell_type": "code",
   "execution_count": 1,
   "id": "99feaaaa-e834-4943-a22a-5c8d76662b31",
   "metadata": {},
   "outputs": [
    {
     "name": "stdout",
     "output_type": "stream",
     "text": [
      "You are on Duke Server: HARDAC\n",
      "BASE DIRECTORY (FD_BASE): /data/reddylab/Kuei\n",
      "WORK DIRECTORY (FD_WORK): /data/reddylab/Kuei/out\n",
      "CODE DIRECTORY (FD_CODE): /data/reddylab/Kuei/code\n",
      "SING DIRECTORY (FD_SING): /data/reddylab/Kuei/singularity\n",
      "PATH OF PROJECT (FD_PRJ): /data/reddylab/Kuei/code/Proj_CombEffect_ENCODE_FCC\n",
      "PATH OF RESULTS (FD_RES): /data/reddylab/Kuei/out/proj_combeffect_encode_fcc\n",
      "PATH OF LOG     (FD_LOG): /data/reddylab/Kuei/out/proj_combeffect_encode_fcc/log\n",
      "\n"
     ]
    }
   ],
   "source": [
    "source ../config/config_duke.sh\n",
    "show_env"
   ]
  },
  {
   "cell_type": "markdown",
   "id": "5f0f5223-69db-4128-a59b-0615655230c2",
   "metadata": {},
   "source": [
    "**Check data**"
   ]
  },
  {
   "cell_type": "code",
   "execution_count": 4,
   "id": "628f9ee1-4824-429f-81fd-241b07840e00",
   "metadata": {},
   "outputs": [
    {
     "name": "stdout",
     "output_type": "stream",
     "text": [
      "\u001b[0m\u001b[38;5;9mA001-input-K562-rep1.masked.dedup.fragments.counts.txt.gz\u001b[0m\n",
      "\u001b[38;5;9mA001-input-K562-rep2.masked.dedup.fragments.counts.txt.gz\u001b[0m\n",
      "\u001b[38;5;9mA001-input-K562-rep3.masked.dedup.fragments.counts.txt.gz\u001b[0m\n",
      "\u001b[38;5;9mA001-input-K562-rep4.masked.dedup.fragments.counts.txt.gz\u001b[0m\n",
      "\u001b[38;5;9mA001-K562-rep1.masked.dedup.fragments.counts.txt.gz\u001b[0m\n",
      "\u001b[38;5;9mA001-K562-rep2.masked.dedup.fragments.counts.txt.gz\u001b[0m\n",
      "\u001b[38;5;9mA001-K562-rep3.masked.dedup.fragments.counts.txt.gz\u001b[0m\n",
      "md5sums_check.txt\n",
      "md5sums_source.txt\n"
     ]
    }
   ],
   "source": [
    "ls ${FD_RES}/source/A001_K562_wstarrseq_fragments_wgs"
   ]
  },
  {
   "cell_type": "markdown",
   "id": "93618c89-899c-4b8f-a972-d24ab6ef80e9",
   "metadata": {},
   "source": [
    "## Copy and rename the input samples"
   ]
  },
  {
   "cell_type": "code",
   "execution_count": 5,
   "id": "d1c14e3f-ece9-4feb-8a98-351ef2a5d797",
   "metadata": {},
   "outputs": [
    {
     "name": "stdout",
     "output_type": "stream",
     "text": [
      "1\n",
      "/data/reddylab/Kuei/out/proj_combeffect_encode_fcc/source/A001_K562_wstarrseq_fragments_wgs/A001-input-K562-rep1.masked.dedup.fragments.counts.txt.gz\n",
      "/data/reddylab/Kuei/out/proj_combeffect_encode_fcc/results/A001_K562_WSTARRseq/fragment_count/A001_K562_WSTARRseq.Input.rep1.WGS.unstranded.bed.gz\n",
      "2\n",
      "/data/reddylab/Kuei/out/proj_combeffect_encode_fcc/source/A001_K562_wstarrseq_fragments_wgs/A001-input-K562-rep2.masked.dedup.fragments.counts.txt.gz\n",
      "/data/reddylab/Kuei/out/proj_combeffect_encode_fcc/results/A001_K562_WSTARRseq/fragment_count/A001_K562_WSTARRseq.Input.rep2.WGS.unstranded.bed.gz\n",
      "3\n",
      "/data/reddylab/Kuei/out/proj_combeffect_encode_fcc/source/A001_K562_wstarrseq_fragments_wgs/A001-input-K562-rep3.masked.dedup.fragments.counts.txt.gz\n",
      "/data/reddylab/Kuei/out/proj_combeffect_encode_fcc/results/A001_K562_WSTARRseq/fragment_count/A001_K562_WSTARRseq.Input.rep3.WGS.unstranded.bed.gz\n",
      "4\n",
      "/data/reddylab/Kuei/out/proj_combeffect_encode_fcc/source/A001_K562_wstarrseq_fragments_wgs/A001-input-K562-rep4.masked.dedup.fragments.counts.txt.gz\n",
      "/data/reddylab/Kuei/out/proj_combeffect_encode_fcc/results/A001_K562_WSTARRseq/fragment_count/A001_K562_WSTARRseq.Input.rep4.WGS.unstranded.bed.gz\n"
     ]
    }
   ],
   "source": [
    "ASSAY=A001_K562_WSTARRseq\n",
    "PREFIX=A001_K562_WSTARRseq\n",
    "FOLDER=fragment_count\n",
    "GROUP=Input\n",
    "REGION=WGS\n",
    "STRAND=unstranded\n",
    "\n",
    "FD_INP=${FD_RES}/source/A001_K562_wstarrseq_fragments_wgs\n",
    "FD_OUT=${FD_RES}/results/${ASSAY}/${FOLDER}\n",
    "for IDX in {1..4}; do\n",
    "    FP_INP=$(ls ${FD_INP}/*input*rep${IDX}*)\n",
    "    FP_OUT=${FD_OUT}/${PREFIX}.${GROUP}.rep${IDX}.${REGION}.${STRAND}.bed.gz\n",
    "    cp ${FP_INP} ${FP_OUT}\n",
    "    \n",
    "    echo ${IDX}\n",
    "    echo ${FP_INP}\n",
    "    echo ${FP_OUT}\n",
    "done"
   ]
  },
  {
   "cell_type": "markdown",
   "id": "2b771964-cc13-4870-bae6-5200c002341d",
   "metadata": {},
   "source": [
    "## Copy and rename the output samples"
   ]
  },
  {
   "cell_type": "code",
   "execution_count": 6,
   "id": "4fc3e34f-fe53-4b63-9f40-bdb2c04c6968",
   "metadata": {},
   "outputs": [
    {
     "name": "stdout",
     "output_type": "stream",
     "text": [
      "1\n",
      "/data/reddylab/Kuei/out/proj_combeffect_encode_fcc/source/A001_K562_wstarrseq_fragments_wgs/A001-K562-rep1.masked.dedup.fragments.counts.txt.gz\n",
      "/data/reddylab/Kuei/out/proj_combeffect_encode_fcc/results/A001_K562_WSTARRseq/fragment_count/A001_K562_WSTARRseq.Output.rep1.WGS.unstranded.bed.gz\n",
      "2\n",
      "/data/reddylab/Kuei/out/proj_combeffect_encode_fcc/source/A001_K562_wstarrseq_fragments_wgs/A001-K562-rep2.masked.dedup.fragments.counts.txt.gz\n",
      "/data/reddylab/Kuei/out/proj_combeffect_encode_fcc/results/A001_K562_WSTARRseq/fragment_count/A001_K562_WSTARRseq.Output.rep2.WGS.unstranded.bed.gz\n",
      "3\n",
      "/data/reddylab/Kuei/out/proj_combeffect_encode_fcc/source/A001_K562_wstarrseq_fragments_wgs/A001-K562-rep3.masked.dedup.fragments.counts.txt.gz\n",
      "/data/reddylab/Kuei/out/proj_combeffect_encode_fcc/results/A001_K562_WSTARRseq/fragment_count/A001_K562_WSTARRseq.Output.rep3.WGS.unstranded.bed.gz\n"
     ]
    }
   ],
   "source": [
    "ASSAY=A001_K562_WSTARRseq\n",
    "PREFIX=A001_K562_WSTARRseq\n",
    "FOLDER=fragment_count\n",
    "GROUP=Output\n",
    "REGION=WGS\n",
    "STRAND=unstranded\n",
    "\n",
    "FD_INP=${FD_RES}/source/A001_K562_wstarrseq_fragments_wgs\n",
    "FD_OUT=${FD_RES}/results/${ASSAY}/${FOLDER}\n",
    "for IDX in {1..3}; do\n",
    "    FP_INP=$(ls ${FD_INP}/A001-K562-rep${IDX}*)\n",
    "    FP_OUT=${FD_OUT}/${PREFIX}.${GROUP}.rep${IDX}.${REGION}.${STRAND}.bed.gz\n",
    "    cp ${FP_INP} ${FP_OUT}\n",
    "    \n",
    "    echo ${IDX}\n",
    "    echo ${FP_INP}\n",
    "    echo ${FP_OUT}\n",
    "done"
   ]
  },
  {
   "cell_type": "markdown",
   "id": "979bed15-6312-42d7-bbed-52957df46be5",
   "metadata": {},
   "source": [
    "## Check results"
   ]
  },
  {
   "cell_type": "code",
   "execution_count": 7,
   "id": "c2f5bdd5-8ac3-4d79-bd5d-e5280ad2d1ce",
   "metadata": {},
   "outputs": [
    {
     "name": "stdout",
     "output_type": "stream",
     "text": [
      "chr1\t10335\t10549\tchr1_10335_10549\t1\t.\n",
      "chr1\t16983\t17500\tchr1_16983_17500\t1\t.\n",
      "chr1\t16985\t17499\tchr1_16985_17499\t1\t.\n",
      "chr1\t17004\t17500\tchr1_17004_17500\t1\t.\n",
      "chr1\t17483\t17898\tchr1_17483_17898\t1\t.\n",
      "chr1\t17487\t17941\tchr1_17487_17941\t1\t.\n",
      "chr1\t33606\t33997\tchr1_33606_33997\t1\t.\n",
      "chr1\t33617\t33997\tchr1_33617_33997\t1\t.\n",
      "chr1\t38785\t39226\tchr1_38785_39226\t1\t.\n",
      "chr1\t46328\t46678\tchr1_46328_46678\t1\t.\n"
     ]
    }
   ],
   "source": [
    "ASSAY=A001_K562_WSTARRseq\n",
    "PREFIX=A001_K562_WSTARRseq\n",
    "FOLDER=fragment_count\n",
    "GROUP=Input\n",
    "REPLIC=rep1\n",
    "REGION=WGS\n",
    "STRAND=unstranded\n",
    "\n",
    "FDIRY=${FD_RES}/results/${ASSAY}/${FOLDER}\n",
    "FNAME=${PREFIX}.${GROUP}.${REPLIC}.${REGION}.${STRAND}.bed.gz\n",
    "zcat ${FDIRY}/${FNAME} | head"
   ]
  },
  {
   "cell_type": "code",
   "execution_count": 8,
   "id": "a6087f18-c7cd-4650-8c06-bf1aea1d890e",
   "metadata": {},
   "outputs": [
    {
     "name": "stdout",
     "output_type": "stream",
     "text": [
      "chr1\t14845\t15207\tchr1_14845_15207\t1\t.\n",
      "chr1\t15512\t16248\tchr1_15512_16248\t1\t.\n",
      "chr1\t15652\t16254\tchr1_15652_16254\t1\t.\n",
      "chr1\t15658\t16259\tchr1_15658_16259\t1\t.\n",
      "chr1\t15665\t16244\tchr1_15665_16244\t1\t.\n",
      "chr1\t15667\t16478\tchr1_15667_16478\t1\t.\n",
      "chr1\t15673\t16249\tchr1_15673_16249\t1\t.\n",
      "chr1\t15682\t16254\tchr1_15682_16254\t1\t.\n",
      "chr1\t15716\t16249\tchr1_15716_16249\t1\t.\n",
      "chr1\t15725\t16253\tchr1_15725_16253\t1\t.\n"
     ]
    }
   ],
   "source": [
    "ASSAY=A001_K562_WSTARRseq\n",
    "PREFIX=A001_K562_WSTARRseq\n",
    "FOLDER=fragment_count\n",
    "GROUP=Output\n",
    "REPLIC=rep1\n",
    "REGION=WGS\n",
    "STRAND=unstranded\n",
    "\n",
    "FDIRY=${FD_RES}/results/${ASSAY}/${FOLDER}\n",
    "FNAME=${PREFIX}.${GROUP}.${REPLIC}.${REGION}.${STRAND}.bed.gz\n",
    "zcat ${FDIRY}/${FNAME} | head"
   ]
  },
  {
   "cell_type": "code",
   "execution_count": null,
   "id": "9c0b173f-b317-48bf-9fe3-48f00431a214",
   "metadata": {},
   "outputs": [],
   "source": []
  }
 ],
 "metadata": {
  "kernelspec": {
   "display_name": "Bash",
   "language": "bash",
   "name": "bash"
  },
  "language_info": {
   "codemirror_mode": "shell",
   "file_extension": ".sh",
   "mimetype": "text/x-sh",
   "name": "bash"
  }
 },
 "nbformat": 4,
 "nbformat_minor": 5
}
