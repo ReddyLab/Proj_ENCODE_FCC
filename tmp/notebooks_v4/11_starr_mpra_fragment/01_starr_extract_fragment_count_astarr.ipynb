{
 "cells": [
  {
   "cell_type": "markdown",
   "id": "35e984cf-2ee8-4cba-b586-5d5d805c963d",
   "metadata": {},
   "source": [
    "**Set environment**"
   ]
  },
  {
   "cell_type": "code",
   "execution_count": 1,
   "id": "e3cffda9-543c-4069-b52d-67c317cce688",
   "metadata": {},
   "outputs": [
    {
     "name": "stdout",
     "output_type": "stream",
     "text": [
      "You are on Duke Server: HARDAC\n",
      "BASE DIRECTORY (FD_BASE): /data/reddylab/Kuei\n",
      "WORK DIRECTORY (FD_WORK): /data/reddylab/Kuei/out\n",
      "CODE DIRECTORY (FD_CODE): /data/reddylab/Kuei/code\n",
      "SING DIRECTORY (FD_SING): /data/reddylab/Kuei/singularity\n",
      "PATH OF PROJECT (FD_PRJ): /data/reddylab/Kuei/code/Proj_CombEffect_ENCODE_FCC\n",
      "PATH OF RESULTS (FD_RES): /data/reddylab/Kuei/out/proj_combeffect_encode_fcc\n",
      "PATH OF LOG     (FD_LOG): /data/reddylab/Kuei/out/proj_combeffect_encode_fcc/log\n",
      "\n"
     ]
    }
   ],
   "source": [
    "source ../config/config_duke.sh\n",
    "show_env"
   ]
  },
  {
   "cell_type": "markdown",
   "id": "0b285019-bb51-4d2f-87bc-b833f32a2a5c",
   "metadata": {},
   "source": [
    "**Check data: Original file name**"
   ]
  },
  {
   "cell_type": "code",
   "execution_count": 2,
   "id": "e3184baa-5f0f-4083-8803-f9bf84aa5d79",
   "metadata": {},
   "outputs": [
    {
     "name": "stdout",
     "output_type": "stream",
     "text": [
      "\u001b[0m\u001b[38;5;9mKS91_K562_hg38_ASTARRseq_Input_rep1.masked.dedup.fragments.counts.txt.gz\u001b[0m\n",
      "\u001b[38;5;9mKS91_K562_hg38_ASTARRseq_Input_rep2.masked.dedup.fragments.counts.txt.gz\u001b[0m\n",
      "\u001b[38;5;9mKS91_K562_hg38_ASTARRseq_Input_rep3.masked.dedup.fragments.counts.txt.gz\u001b[0m\n",
      "\u001b[38;5;9mKS91_K562_hg38_ASTARRseq_Input_rep4.masked.dedup.fragments.counts.txt.gz\u001b[0m\n",
      "\u001b[38;5;9mKS91_K562_hg38_ASTARRseq_Input_rep5.masked.dedup.fragments.counts.txt.gz\u001b[0m\n",
      "\u001b[38;5;9mKS91_K562_hg38_ASTARRseq_Input_rep6.masked.dedup.fragments.counts.txt.gz\u001b[0m\n",
      "\u001b[38;5;9mKS91_K562_hg38_ASTARRseq_Output_rep1.f3q10.fragments.counts.txt.gz\u001b[0m\n",
      "\u001b[38;5;9mKS91_K562_hg38_ASTARRseq_Output_rep2.f3q10.fragments.counts.txt.gz\u001b[0m\n",
      "\u001b[38;5;9mKS91_K562_hg38_ASTARRseq_Output_rep3.f3q10.fragments.counts.txt.gz\u001b[0m\n",
      "\u001b[38;5;9mKS91_K562_hg38_ASTARRseq_Output_rep4.f3q10.fragments.counts.txt.gz\u001b[0m\n"
     ]
    }
   ],
   "source": [
    "ls ${FD_RES}/source/KS91_K562_astarrseq_fragments_wgs"
   ]
  },
  {
   "cell_type": "markdown",
   "id": "0b8084fc-895d-4b39-a03a-bc1b61d0fd1a",
   "metadata": {},
   "source": [
    "## Copy and rename the input samples"
   ]
  },
  {
   "cell_type": "code",
   "execution_count": 3,
   "id": "9eb86159-8041-4b81-b6c0-14ebb87f4cb3",
   "metadata": {},
   "outputs": [
    {
     "name": "stdout",
     "output_type": "stream",
     "text": [
      "1\n",
      "/data/reddylab/Kuei/out/proj_combeffect_encode_fcc/source/KS91_K562_astarrseq_fragments_wgs/KS91_K562_hg38_ASTARRseq_Input_rep1.masked.dedup.fragments.counts.txt.gz\n",
      "/data/reddylab/Kuei/out/proj_combeffect_encode_fcc/results/KS91_K562_ASTARRseq/fragment_count/KS91_K562_ASTARRseq.Input.rep1.WGS.unstranded.bed.gz\n",
      "2\n",
      "/data/reddylab/Kuei/out/proj_combeffect_encode_fcc/source/KS91_K562_astarrseq_fragments_wgs/KS91_K562_hg38_ASTARRseq_Input_rep2.masked.dedup.fragments.counts.txt.gz\n",
      "/data/reddylab/Kuei/out/proj_combeffect_encode_fcc/results/KS91_K562_ASTARRseq/fragment_count/KS91_K562_ASTARRseq.Input.rep2.WGS.unstranded.bed.gz\n",
      "3\n",
      "/data/reddylab/Kuei/out/proj_combeffect_encode_fcc/source/KS91_K562_astarrseq_fragments_wgs/KS91_K562_hg38_ASTARRseq_Input_rep3.masked.dedup.fragments.counts.txt.gz\n",
      "/data/reddylab/Kuei/out/proj_combeffect_encode_fcc/results/KS91_K562_ASTARRseq/fragment_count/KS91_K562_ASTARRseq.Input.rep3.WGS.unstranded.bed.gz\n",
      "4\n",
      "/data/reddylab/Kuei/out/proj_combeffect_encode_fcc/source/KS91_K562_astarrseq_fragments_wgs/KS91_K562_hg38_ASTARRseq_Input_rep4.masked.dedup.fragments.counts.txt.gz\n",
      "/data/reddylab/Kuei/out/proj_combeffect_encode_fcc/results/KS91_K562_ASTARRseq/fragment_count/KS91_K562_ASTARRseq.Input.rep4.WGS.unstranded.bed.gz\n",
      "5\n",
      "/data/reddylab/Kuei/out/proj_combeffect_encode_fcc/source/KS91_K562_astarrseq_fragments_wgs/KS91_K562_hg38_ASTARRseq_Input_rep5.masked.dedup.fragments.counts.txt.gz\n",
      "/data/reddylab/Kuei/out/proj_combeffect_encode_fcc/results/KS91_K562_ASTARRseq/fragment_count/KS91_K562_ASTARRseq.Input.rep5.WGS.unstranded.bed.gz\n",
      "6\n",
      "/data/reddylab/Kuei/out/proj_combeffect_encode_fcc/source/KS91_K562_astarrseq_fragments_wgs/KS91_K562_hg38_ASTARRseq_Input_rep6.masked.dedup.fragments.counts.txt.gz\n",
      "/data/reddylab/Kuei/out/proj_combeffect_encode_fcc/results/KS91_K562_ASTARRseq/fragment_count/KS91_K562_ASTARRseq.Input.rep6.WGS.unstranded.bed.gz\n"
     ]
    }
   ],
   "source": [
    "ASSAY=KS91_K562_ASTARRseq\n",
    "PREFIX=KS91_K562_ASTARRseq\n",
    "FOLDER=fragment_count\n",
    "GROUP=Input\n",
    "REGION=WGS\n",
    "STRAND=unstranded\n",
    "\n",
    "FD_INP=${FD_RES}/source/KS91_K562_astarrseq_fragments_wgs\n",
    "FD_OUT=${FD_RES}/results/${ASSAY}/${FOLDER}\n",
    "for IDX in {1..6}; do\n",
    "    FP_INP=$(ls ${FD_INP}/*${GROUP}_rep${IDX}*)\n",
    "    FP_OUT=${FD_OUT}/${PREFIX}.${GROUP}.rep${IDX}.${REGION}.${STRAND}.bed.gz\n",
    "    cp ${FP_INP} ${FP_OUT}\n",
    "    \n",
    "    echo ${IDX}\n",
    "    echo ${FP_INP}\n",
    "    echo ${FP_OUT}\n",
    "done"
   ]
  },
  {
   "cell_type": "markdown",
   "id": "136b4ae3-4052-4e5f-96d6-59bdb368ac8f",
   "metadata": {},
   "source": [
    "## Copy and rename the output samples"
   ]
  },
  {
   "cell_type": "code",
   "execution_count": 4,
   "id": "639d5ad4-93bf-41cc-b78d-8e23c2a9d8f1",
   "metadata": {},
   "outputs": [
    {
     "name": "stdout",
     "output_type": "stream",
     "text": [
      "1\n",
      "/data/reddylab/Kuei/out/proj_combeffect_encode_fcc/source/KS91_K562_astarrseq_fragments_wgs/KS91_K562_hg38_ASTARRseq_Output_rep1.f3q10.fragments.counts.txt.gz\n",
      "/data/reddylab/Kuei/out/proj_combeffect_encode_fcc/results/KS91_K562_ASTARRseq/fragment_count/KS91_K562_ASTARRseq.Output.rep1.WGS.unstranded.bed.gz\n",
      "2\n",
      "/data/reddylab/Kuei/out/proj_combeffect_encode_fcc/source/KS91_K562_astarrseq_fragments_wgs/KS91_K562_hg38_ASTARRseq_Output_rep2.f3q10.fragments.counts.txt.gz\n",
      "/data/reddylab/Kuei/out/proj_combeffect_encode_fcc/results/KS91_K562_ASTARRseq/fragment_count/KS91_K562_ASTARRseq.Output.rep2.WGS.unstranded.bed.gz\n",
      "3\n",
      "/data/reddylab/Kuei/out/proj_combeffect_encode_fcc/source/KS91_K562_astarrseq_fragments_wgs/KS91_K562_hg38_ASTARRseq_Output_rep3.f3q10.fragments.counts.txt.gz\n",
      "/data/reddylab/Kuei/out/proj_combeffect_encode_fcc/results/KS91_K562_ASTARRseq/fragment_count/KS91_K562_ASTARRseq.Output.rep3.WGS.unstranded.bed.gz\n",
      "4\n",
      "/data/reddylab/Kuei/out/proj_combeffect_encode_fcc/source/KS91_K562_astarrseq_fragments_wgs/KS91_K562_hg38_ASTARRseq_Output_rep4.f3q10.fragments.counts.txt.gz\n",
      "/data/reddylab/Kuei/out/proj_combeffect_encode_fcc/results/KS91_K562_ASTARRseq/fragment_count/KS91_K562_ASTARRseq.Output.rep4.WGS.unstranded.bed.gz\n"
     ]
    }
   ],
   "source": [
    "ASSAY=KS91_K562_ASTARRseq\n",
    "PREFIX=KS91_K562_ASTARRseq\n",
    "FOLDER=fragment_count\n",
    "GROUP=Output\n",
    "REGION=WGS\n",
    "STRAND=unstranded\n",
    "\n",
    "FD_INP=${FD_RES}/source/KS91_K562_astarrseq_fragments_wgs\n",
    "FD_OUT=${FD_RES}/results/${ASSAY}/${FOLDER}\n",
    "for IDX in {1..4}; do\n",
    "    FP_INP=$(ls ${FD_INP}/*${GROUP}_rep${IDX}*)\n",
    "    FP_OUT=${FD_OUT}/${PREFIX}.${GROUP}.rep${IDX}.${REGION}.${STRAND}.bed.gz\n",
    "    cp ${FP_INP} ${FP_OUT}\n",
    "    \n",
    "    echo ${IDX}\n",
    "    echo ${FP_INP}\n",
    "    echo ${FP_OUT}\n",
    "done"
   ]
  },
  {
   "cell_type": "markdown",
   "id": "e07762e3-01a8-42c3-9215-ab9652b2d1e4",
   "metadata": {},
   "source": [
    "## Check results"
   ]
  },
  {
   "cell_type": "code",
   "execution_count": 8,
   "id": "3985b9d2-e8c8-4714-b693-3e14b5d88b5e",
   "metadata": {},
   "outputs": [
    {
     "name": "stdout",
     "output_type": "stream",
     "text": [
      "chr1\t10001\t10143\tchr1_10001_10143\t1\t.\n",
      "chr1\t10002\t10118\tchr1_10002_10118\t1\t.\n",
      "chr1\t10002\t10131\tchr1_10002_10131\t1\t.\n",
      "chr1\t10002\t10203\tchr1_10002_10203\t1\t.\n",
      "chr1\t10002\t10209\tchr1_10002_10209\t1\t.\n",
      "chr1\t10002\t10227\tchr1_10002_10227\t1\t.\n",
      "chr1\t10002\t10436\tchr1_10002_10436\t1\t.\n",
      "chr1\t10003\t10113\tchr1_10003_10113\t1\t.\n",
      "chr1\t10003\t10118\tchr1_10003_10118\t1\t.\n",
      "chr1\t10003\t10119\tchr1_10003_10119\t1\t.\n"
     ]
    }
   ],
   "source": [
    "ASSAY=KS91_K562_ASTARRseq\n",
    "PREFIX=KS91_K562_ASTARRseq\n",
    "FOLDER=fragment_count\n",
    "GROUP=Input\n",
    "REPLIC=rep1\n",
    "REGION=WGS\n",
    "STRAND=unstranded\n",
    "\n",
    "FDIRY=${FD_RES}/results/${ASSAY}/${FOLDER}\n",
    "FNAME=${PREFIX}.${GROUP}.${REPLIC}.${REGION}.${STRAND}.bed.gz\n",
    "zcat ${FDIRY}/${FNAME} | head"
   ]
  },
  {
   "cell_type": "code",
   "execution_count": 9,
   "id": "9d3d32f3-0040-41e2-aa54-620c47cf20aa",
   "metadata": {},
   "outputs": [
    {
     "name": "stdout",
     "output_type": "stream",
     "text": [
      "chr1\t10057\t10233\tchr1_10057_10233\t2\t.\n",
      "chr1\t10188\t10442\tchr1_10188_10442\t1\t.\n",
      "chr1\t10285\t10349\tchr1_10285_10349\t1\t.\n",
      "chr1\t10287\t10332\tchr1_10287_10332\t1\t.\n",
      "chr1\t10365\t10449\tchr1_10365_10449\t1\t.\n",
      "chr1\t10389\t10442\tchr1_10389_10442\t1\t.\n",
      "chr1\t13471\t13708\tchr1_13471_13708\t1\t.\n",
      "chr1\t14098\t14507\tchr1_14098_14507\t1\t.\n",
      "chr1\t14132\t14498\tchr1_14132_14498\t1\t.\n",
      "chr1\t14134\t14498\tchr1_14134_14498\t1\t.\n"
     ]
    }
   ],
   "source": [
    "ASSAY=KS91_K562_ASTARRseq\n",
    "PREFIX=KS91_K562_ASTARRseq\n",
    "FOLDER=fragment_count\n",
    "GROUP=Output\n",
    "REPLIC=rep1\n",
    "REGION=WGS\n",
    "STRAND=unstranded\n",
    "\n",
    "FDIRY=${FD_RES}/results/${ASSAY}/${FOLDER}\n",
    "FNAME=${PREFIX}.${GROUP}.${REPLIC}.${REGION}.${STRAND}.bed.gz\n",
    "zcat ${FDIRY}/${FNAME} | head"
   ]
  },
  {
   "cell_type": "code",
   "execution_count": null,
   "id": "c1f3374c-585d-4102-a2d7-63fc2fd28217",
   "metadata": {},
   "outputs": [],
   "source": []
  }
 ],
 "metadata": {
  "kernelspec": {
   "display_name": "Bash",
   "language": "bash",
   "name": "bash"
  },
  "language_info": {
   "codemirror_mode": "shell",
   "file_extension": ".sh",
   "mimetype": "text/x-sh",
   "name": "bash"
  }
 },
 "nbformat": 4,
 "nbformat_minor": 5
}
