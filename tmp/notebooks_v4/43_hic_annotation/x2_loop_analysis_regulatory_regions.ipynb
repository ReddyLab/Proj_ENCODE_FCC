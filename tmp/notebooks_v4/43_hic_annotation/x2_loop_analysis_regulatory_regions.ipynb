{
 "cells": [
  {
   "cell_type": "code",
   "execution_count": 1,
   "metadata": {},
   "outputs": [
    {
     "name": "stdout",
     "output_type": "stream",
     "text": [
      "You are in Singularity: singularity_proj_encode_fcc \n",
      "BASE DIRECTORY (FD_BASE): /data/reddylab/Kuei \n",
      "WORK DIRECTORY (FD_WORK): /data/reddylab/Kuei/out \n",
      "CODE DIRECTORY (FD_CODE): /data/reddylab/Kuei/code \n",
      "PATH OF PROJECT (FD_PRJ): /data/reddylab/Kuei/code/Proj_CombEffect_ENCODE_FCC \n",
      "PATH OF RESULTS (FD_RES): /data/reddylab/Kuei/out/proj_combeffect_encode_fcc \n",
      "PATH OF LOG     (FD_LOG): /data/reddylab/Kuei/out/proj_combeffect_encode_fcc/log \n"
     ]
    }
   ],
   "source": [
    "suppressMessages(suppressWarnings(source(\"../config/config_sing.R\")))\n",
    "show_env()"
   ]
  },
  {
   "cell_type": "code",
   "execution_count": 2,
   "metadata": {},
   "outputs": [
    {
     "data": {
      "text/html": [
       "<style>\n",
       ".list-inline {list-style: none; margin:0; padding: 0}\n",
       ".list-inline>li {display: inline-block}\n",
       ".list-inline>li:not(:last-child)::after {content: \"\\00b7\"; padding: 0 .5ex}\n",
       "</style>\n",
       "<ol class=list-inline><li>'description.tsv'</li><li>'enhancer_zscore_junke.concat.STARR.bed.gz'</li><li>'enhancer_zscore_junke.concat.STARRMPRA.bed.gz'</li><li>'enhancer_zscore_junke.merge.STARR.bed.gz'</li><li>'enhancer_zscore_junke.merge.STARRMPRA.bed.gz'</li><li>'enhancer_zscore_junke.peak.ASTARR.bed.gz'</li><li>'enhancer_zscore_junke.peak.LMPRA.bed.gz'</li><li>'enhancer_zscore_junke.peak.TMPRA.bed.gz'</li><li>'enhancer_zscore_junke.peak.WSTARR.bed.gz'</li></ol>\n"
      ],
      "text/latex": [
       "\\begin{enumerate*}\n",
       "\\item 'description.tsv'\n",
       "\\item 'enhancer\\_zscore\\_junke.concat.STARR.bed.gz'\n",
       "\\item 'enhancer\\_zscore\\_junke.concat.STARRMPRA.bed.gz'\n",
       "\\item 'enhancer\\_zscore\\_junke.merge.STARR.bed.gz'\n",
       "\\item 'enhancer\\_zscore\\_junke.merge.STARRMPRA.bed.gz'\n",
       "\\item 'enhancer\\_zscore\\_junke.peak.ASTARR.bed.gz'\n",
       "\\item 'enhancer\\_zscore\\_junke.peak.LMPRA.bed.gz'\n",
       "\\item 'enhancer\\_zscore\\_junke.peak.TMPRA.bed.gz'\n",
       "\\item 'enhancer\\_zscore\\_junke.peak.WSTARR.bed.gz'\n",
       "\\end{enumerate*}\n"
      ],
      "text/markdown": [
       "1. 'description.tsv'\n",
       "2. 'enhancer_zscore_junke.concat.STARR.bed.gz'\n",
       "3. 'enhancer_zscore_junke.concat.STARRMPRA.bed.gz'\n",
       "4. 'enhancer_zscore_junke.merge.STARR.bed.gz'\n",
       "5. 'enhancer_zscore_junke.merge.STARRMPRA.bed.gz'\n",
       "6. 'enhancer_zscore_junke.peak.ASTARR.bed.gz'\n",
       "7. 'enhancer_zscore_junke.peak.LMPRA.bed.gz'\n",
       "8. 'enhancer_zscore_junke.peak.TMPRA.bed.gz'\n",
       "9. 'enhancer_zscore_junke.peak.WSTARR.bed.gz'\n",
       "\n",
       "\n"
      ],
      "text/plain": [
       "[1] \"description.tsv\"                              \n",
       "[2] \"enhancer_zscore_junke.concat.STARR.bed.gz\"    \n",
       "[3] \"enhancer_zscore_junke.concat.STARRMPRA.bed.gz\"\n",
       "[4] \"enhancer_zscore_junke.merge.STARR.bed.gz\"     \n",
       "[5] \"enhancer_zscore_junke.merge.STARRMPRA.bed.gz\" \n",
       "[6] \"enhancer_zscore_junke.peak.ASTARR.bed.gz\"     \n",
       "[7] \"enhancer_zscore_junke.peak.LMPRA.bed.gz\"      \n",
       "[8] \"enhancer_zscore_junke.peak.TMPRA.bed.gz\"      \n",
       "[9] \"enhancer_zscore_junke.peak.WSTARR.bed.gz\"     "
      ]
     },
     "metadata": {},
     "output_type": "display_data"
    }
   ],
   "source": [
    "fdiry = file.path(\n",
    "    FD_RES, \n",
    "    \"results\", \n",
    "    \"region\", \n",
    "    \"annotation_enhancer_zscore_junke\")\n",
    "dir(fdiry)"
   ]
  },
  {
   "cell_type": "code",
   "execution_count": 3,
   "metadata": {},
   "outputs": [
    {
     "data": {
      "text/html": [
       "<style>\n",
       ".list-inline {list-style: none; margin:0; padding: 0}\n",
       ".list-inline>li {display: inline-block}\n",
       ".list-inline>li:not(:last-child)::after {content: \"\\00b7\"; padding: 0 .5ex}\n",
       "</style>\n",
       "<ol class=list-inline><li>'loopA.annotation.enhancer_zscore_junke.merge.STARR.bed.gz'</li><li>'loopA.annotation.enhancer_zscore_junke.merge.STARRMPRA.bed.gz'</li><li>'loopA.annotation.enhancer_zscore_junke.peak.ASTARR.bed.gz'</li><li>'loopA.annotation.enhancer_zscore_junke.peak.LMPRA.bed.gz'</li><li>'loopA.annotation.enhancer_zscore_junke.peak.TMPRA.bed.gz'</li><li>'loopA.annotation.enhancer_zscore_junke.peak.WSTARR.bed.gz'</li><li>'loopB.annotation.enhancer_zscore_junke.merge.STARR.bed.gz'</li><li>'loopB.annotation.enhancer_zscore_junke.merge.STARRMPRA.bed.gz'</li><li>'loopB.annotation.enhancer_zscore_junke.peak.ASTARR.bed.gz'</li><li>'loopB.annotation.enhancer_zscore_junke.peak.LMPRA.bed.gz'</li><li>'loopB.annotation.enhancer_zscore_junke.peak.TMPRA.bed.gz'</li><li>'loopB.annotation.enhancer_zscore_junke.peak.WSTARR.bed.gz'</li></ol>\n"
      ],
      "text/latex": [
       "\\begin{enumerate*}\n",
       "\\item 'loopA.annotation.enhancer\\_zscore\\_junke.merge.STARR.bed.gz'\n",
       "\\item 'loopA.annotation.enhancer\\_zscore\\_junke.merge.STARRMPRA.bed.gz'\n",
       "\\item 'loopA.annotation.enhancer\\_zscore\\_junke.peak.ASTARR.bed.gz'\n",
       "\\item 'loopA.annotation.enhancer\\_zscore\\_junke.peak.LMPRA.bed.gz'\n",
       "\\item 'loopA.annotation.enhancer\\_zscore\\_junke.peak.TMPRA.bed.gz'\n",
       "\\item 'loopA.annotation.enhancer\\_zscore\\_junke.peak.WSTARR.bed.gz'\n",
       "\\item 'loopB.annotation.enhancer\\_zscore\\_junke.merge.STARR.bed.gz'\n",
       "\\item 'loopB.annotation.enhancer\\_zscore\\_junke.merge.STARRMPRA.bed.gz'\n",
       "\\item 'loopB.annotation.enhancer\\_zscore\\_junke.peak.ASTARR.bed.gz'\n",
       "\\item 'loopB.annotation.enhancer\\_zscore\\_junke.peak.LMPRA.bed.gz'\n",
       "\\item 'loopB.annotation.enhancer\\_zscore\\_junke.peak.TMPRA.bed.gz'\n",
       "\\item 'loopB.annotation.enhancer\\_zscore\\_junke.peak.WSTARR.bed.gz'\n",
       "\\end{enumerate*}\n"
      ],
      "text/markdown": [
       "1. 'loopA.annotation.enhancer_zscore_junke.merge.STARR.bed.gz'\n",
       "2. 'loopA.annotation.enhancer_zscore_junke.merge.STARRMPRA.bed.gz'\n",
       "3. 'loopA.annotation.enhancer_zscore_junke.peak.ASTARR.bed.gz'\n",
       "4. 'loopA.annotation.enhancer_zscore_junke.peak.LMPRA.bed.gz'\n",
       "5. 'loopA.annotation.enhancer_zscore_junke.peak.TMPRA.bed.gz'\n",
       "6. 'loopA.annotation.enhancer_zscore_junke.peak.WSTARR.bed.gz'\n",
       "7. 'loopB.annotation.enhancer_zscore_junke.merge.STARR.bed.gz'\n",
       "8. 'loopB.annotation.enhancer_zscore_junke.merge.STARRMPRA.bed.gz'\n",
       "9. 'loopB.annotation.enhancer_zscore_junke.peak.ASTARR.bed.gz'\n",
       "10. 'loopB.annotation.enhancer_zscore_junke.peak.LMPRA.bed.gz'\n",
       "11. 'loopB.annotation.enhancer_zscore_junke.peak.TMPRA.bed.gz'\n",
       "12. 'loopB.annotation.enhancer_zscore_junke.peak.WSTARR.bed.gz'\n",
       "\n",
       "\n"
      ],
      "text/plain": [
       " [1] \"loopA.annotation.enhancer_zscore_junke.merge.STARR.bed.gz\"    \n",
       " [2] \"loopA.annotation.enhancer_zscore_junke.merge.STARRMPRA.bed.gz\"\n",
       " [3] \"loopA.annotation.enhancer_zscore_junke.peak.ASTARR.bed.gz\"    \n",
       " [4] \"loopA.annotation.enhancer_zscore_junke.peak.LMPRA.bed.gz\"     \n",
       " [5] \"loopA.annotation.enhancer_zscore_junke.peak.TMPRA.bed.gz\"     \n",
       " [6] \"loopA.annotation.enhancer_zscore_junke.peak.WSTARR.bed.gz\"    \n",
       " [7] \"loopB.annotation.enhancer_zscore_junke.merge.STARR.bed.gz\"    \n",
       " [8] \"loopB.annotation.enhancer_zscore_junke.merge.STARRMPRA.bed.gz\"\n",
       " [9] \"loopB.annotation.enhancer_zscore_junke.peak.ASTARR.bed.gz\"    \n",
       "[10] \"loopB.annotation.enhancer_zscore_junke.peak.LMPRA.bed.gz\"     \n",
       "[11] \"loopB.annotation.enhancer_zscore_junke.peak.TMPRA.bed.gz\"     \n",
       "[12] \"loopB.annotation.enhancer_zscore_junke.peak.WSTARR.bed.gz\"    "
      ]
     },
     "metadata": {},
     "output_type": "display_data"
    }
   ],
   "source": [
    "fdiry = file.path(\n",
    "    FD_RES, \n",
    "    \"results\", \n",
    "    \"region\", \n",
    "    \"hic_intact_ENCSR479XDG\", \n",
    "    \"loop\",\n",
    "    \"annotation_enhancer_zscore_junke\"\n",
    ")\n",
    "dir(fdiry)"
   ]
  },
  {
   "cell_type": "code",
   "execution_count": 4,
   "metadata": {},
   "outputs": [
    {
     "data": {
      "text/html": [
       "<style>\n",
       ".list-inline {list-style: none; margin:0; padding: 0}\n",
       ".list-inline>li {display: inline-block}\n",
       ".list-inline>li:not(:last-child)::after {content: \"\\00b7\"; padding: 0 .5ex}\n",
       "</style>\n",
       "<ol class=list-inline><li>'loopA.annotation.enhancer_zscore_junke.merge.STARR.bed.gz'</li><li>'loopA.annotation.enhancer_zscore_junke.merge.STARRMPRA.bed.gz'</li><li>'loopA.annotation.enhancer_zscore_junke.peak.ASTARR.bed.gz'</li><li>'loopA.annotation.enhancer_zscore_junke.peak.LMPRA.bed.gz'</li><li>'loopA.annotation.enhancer_zscore_junke.peak.TMPRA.bed.gz'</li><li>'loopA.annotation.enhancer_zscore_junke.peak.WSTARR.bed.gz'</li><li>'loopB.annotation.enhancer_zscore_junke.merge.STARR.bed.gz'</li><li>'loopB.annotation.enhancer_zscore_junke.merge.STARRMPRA.bed.gz'</li><li>'loopB.annotation.enhancer_zscore_junke.peak.ASTARR.bed.gz'</li><li>'loopB.annotation.enhancer_zscore_junke.peak.LMPRA.bed.gz'</li><li>'loopB.annotation.enhancer_zscore_junke.peak.TMPRA.bed.gz'</li><li>'loopB.annotation.enhancer_zscore_junke.peak.WSTARR.bed.gz'</li></ol>\n"
      ],
      "text/latex": [
       "\\begin{enumerate*}\n",
       "\\item 'loopA.annotation.enhancer\\_zscore\\_junke.merge.STARR.bed.gz'\n",
       "\\item 'loopA.annotation.enhancer\\_zscore\\_junke.merge.STARRMPRA.bed.gz'\n",
       "\\item 'loopA.annotation.enhancer\\_zscore\\_junke.peak.ASTARR.bed.gz'\n",
       "\\item 'loopA.annotation.enhancer\\_zscore\\_junke.peak.LMPRA.bed.gz'\n",
       "\\item 'loopA.annotation.enhancer\\_zscore\\_junke.peak.TMPRA.bed.gz'\n",
       "\\item 'loopA.annotation.enhancer\\_zscore\\_junke.peak.WSTARR.bed.gz'\n",
       "\\item 'loopB.annotation.enhancer\\_zscore\\_junke.merge.STARR.bed.gz'\n",
       "\\item 'loopB.annotation.enhancer\\_zscore\\_junke.merge.STARRMPRA.bed.gz'\n",
       "\\item 'loopB.annotation.enhancer\\_zscore\\_junke.peak.ASTARR.bed.gz'\n",
       "\\item 'loopB.annotation.enhancer\\_zscore\\_junke.peak.LMPRA.bed.gz'\n",
       "\\item 'loopB.annotation.enhancer\\_zscore\\_junke.peak.TMPRA.bed.gz'\n",
       "\\item 'loopB.annotation.enhancer\\_zscore\\_junke.peak.WSTARR.bed.gz'\n",
       "\\end{enumerate*}\n"
      ],
      "text/markdown": [
       "1. 'loopA.annotation.enhancer_zscore_junke.merge.STARR.bed.gz'\n",
       "2. 'loopA.annotation.enhancer_zscore_junke.merge.STARRMPRA.bed.gz'\n",
       "3. 'loopA.annotation.enhancer_zscore_junke.peak.ASTARR.bed.gz'\n",
       "4. 'loopA.annotation.enhancer_zscore_junke.peak.LMPRA.bed.gz'\n",
       "5. 'loopA.annotation.enhancer_zscore_junke.peak.TMPRA.bed.gz'\n",
       "6. 'loopA.annotation.enhancer_zscore_junke.peak.WSTARR.bed.gz'\n",
       "7. 'loopB.annotation.enhancer_zscore_junke.merge.STARR.bed.gz'\n",
       "8. 'loopB.annotation.enhancer_zscore_junke.merge.STARRMPRA.bed.gz'\n",
       "9. 'loopB.annotation.enhancer_zscore_junke.peak.ASTARR.bed.gz'\n",
       "10. 'loopB.annotation.enhancer_zscore_junke.peak.LMPRA.bed.gz'\n",
       "11. 'loopB.annotation.enhancer_zscore_junke.peak.TMPRA.bed.gz'\n",
       "12. 'loopB.annotation.enhancer_zscore_junke.peak.WSTARR.bed.gz'\n",
       "\n",
       "\n"
      ],
      "text/plain": [
       " [1] \"loopA.annotation.enhancer_zscore_junke.merge.STARR.bed.gz\"    \n",
       " [2] \"loopA.annotation.enhancer_zscore_junke.merge.STARRMPRA.bed.gz\"\n",
       " [3] \"loopA.annotation.enhancer_zscore_junke.peak.ASTARR.bed.gz\"    \n",
       " [4] \"loopA.annotation.enhancer_zscore_junke.peak.LMPRA.bed.gz\"     \n",
       " [5] \"loopA.annotation.enhancer_zscore_junke.peak.TMPRA.bed.gz\"     \n",
       " [6] \"loopA.annotation.enhancer_zscore_junke.peak.WSTARR.bed.gz\"    \n",
       " [7] \"loopB.annotation.enhancer_zscore_junke.merge.STARR.bed.gz\"    \n",
       " [8] \"loopB.annotation.enhancer_zscore_junke.merge.STARRMPRA.bed.gz\"\n",
       " [9] \"loopB.annotation.enhancer_zscore_junke.peak.ASTARR.bed.gz\"    \n",
       "[10] \"loopB.annotation.enhancer_zscore_junke.peak.LMPRA.bed.gz\"     \n",
       "[11] \"loopB.annotation.enhancer_zscore_junke.peak.TMPRA.bed.gz\"     \n",
       "[12] \"loopB.annotation.enhancer_zscore_junke.peak.WSTARR.bed.gz\"    "
      ]
     },
     "metadata": {},
     "output_type": "display_data"
    }
   ],
   "source": [
    "fdiry = file.path(\n",
    "    FD_RES, \n",
    "    \"results\", \n",
    "    \"region\", \n",
    "    \"hic_intact_deep\", \n",
    "    \"loop\",\n",
    "    \"annotation_enhancer_zscore_junke\"\n",
    ")\n",
    "dir(fdiry)"
   ]
  },
  {
   "cell_type": "markdown",
   "metadata": {},
   "source": [
    "## CRISPR"
   ]
  },
  {
   "cell_type": "code",
   "execution_count": 5,
   "metadata": {},
   "outputs": [
    {
     "data": {
      "text/html": [
       "<style>\n",
       ".list-inline {list-style: none; margin:0; padding: 0}\n",
       ".list-inline>li {display: inline-block}\n",
       ".list-inline>li:not(:last-child)::after {content: \"\\00b7\"; padding: 0 .5ex}\n",
       "</style>\n",
       "<ol class=list-inline><li>'crispri_growth_dhs_total.bed'</li><li>'crispri_growth_dhs.bed.gz'</li><li>'crispri_growth_ocr_one_guide_2std.bed.gz'</li><li>'crispri_growth_ocr_one_guide_3std.bed.gz'</li><li>'crispri_growth_ocr_two_guide_1std.bed.gz'</li><li>'description.tsv'</li></ol>\n"
      ],
      "text/latex": [
       "\\begin{enumerate*}\n",
       "\\item 'crispri\\_growth\\_dhs\\_total.bed'\n",
       "\\item 'crispri\\_growth\\_dhs.bed.gz'\n",
       "\\item 'crispri\\_growth\\_ocr\\_one\\_guide\\_2std.bed.gz'\n",
       "\\item 'crispri\\_growth\\_ocr\\_one\\_guide\\_3std.bed.gz'\n",
       "\\item 'crispri\\_growth\\_ocr\\_two\\_guide\\_1std.bed.gz'\n",
       "\\item 'description.tsv'\n",
       "\\end{enumerate*}\n"
      ],
      "text/markdown": [
       "1. 'crispri_growth_dhs_total.bed'\n",
       "2. 'crispri_growth_dhs.bed.gz'\n",
       "3. 'crispri_growth_ocr_one_guide_2std.bed.gz'\n",
       "4. 'crispri_growth_ocr_one_guide_3std.bed.gz'\n",
       "5. 'crispri_growth_ocr_two_guide_1std.bed.gz'\n",
       "6. 'description.tsv'\n",
       "\n",
       "\n"
      ],
      "text/plain": [
       "[1] \"crispri_growth_dhs_total.bed\"            \n",
       "[2] \"crispri_growth_dhs.bed.gz\"               \n",
       "[3] \"crispri_growth_ocr_one_guide_2std.bed.gz\"\n",
       "[4] \"crispri_growth_ocr_one_guide_3std.bed.gz\"\n",
       "[5] \"crispri_growth_ocr_two_guide_1std.bed.gz\"\n",
       "[6] \"description.tsv\"                         "
      ]
     },
     "metadata": {},
     "output_type": "display_data"
    }
   ],
   "source": [
    "folder_annot = \"annotation_crispri_growth\"\n",
    "fdiry = file.path(\n",
    "    FD_RES, \n",
    "    \"results\", \n",
    "    \"region\", \n",
    "    folder_annot)\n",
    "dir(fdiry)"
   ]
  },
  {
   "cell_type": "code",
   "execution_count": 6,
   "metadata": {},
   "outputs": [
    {
     "name": "stdout",
     "output_type": "stream",
     "text": [
      "[1] 5 2\n"
     ]
    },
    {
     "data": {
      "text/html": [
       "<table class=\"dataframe\">\n",
       "<caption>A spec_tbl_df: 5 × 2</caption>\n",
       "<thead>\n",
       "\t<tr><th scope=col>Name</th><th scope=col>Description</th></tr>\n",
       "\t<tr><th scope=col>&lt;chr&gt;</th><th scope=col>&lt;chr&gt;</th></tr>\n",
       "</thead>\n",
       "<tbody>\n",
       "\t<tr><td>Chrom                                </td><td>Chromosome                                                                                                                   </td></tr>\n",
       "\t<tr><td>Start                                </td><td>Start position                                                                                                               </td></tr>\n",
       "\t<tr><td>End                                  </td><td>End position                                                                                                                 </td></tr>\n",
       "\t<tr><td>Discovery_dhs_allen_v3_bnd30_fdr_corr</td><td>Benjamini-Hochbery correction of RRA/Allen Method p-value for DHS; the p-value is aggregated from transformed DESeq2 p-values</td></tr>\n",
       "\t<tr><td>Discovery_tW                         </td><td>ter Weele estimator for this DHS                                                                                             </td></tr>\n",
       "</tbody>\n",
       "</table>\n"
      ],
      "text/latex": [
       "A spec\\_tbl\\_df: 5 × 2\n",
       "\\begin{tabular}{ll}\n",
       " Name & Description\\\\\n",
       " <chr> & <chr>\\\\\n",
       "\\hline\n",
       "\t Chrom                                 & Chromosome                                                                                                                   \\\\\n",
       "\t Start                                 & Start position                                                                                                               \\\\\n",
       "\t End                                   & End position                                                                                                                 \\\\\n",
       "\t Discovery\\_dhs\\_allen\\_v3\\_bnd30\\_fdr\\_corr & Benjamini-Hochbery correction of RRA/Allen Method p-value for DHS; the p-value is aggregated from transformed DESeq2 p-values\\\\\n",
       "\t Discovery\\_tW                          & ter Weele estimator for this DHS                                                                                             \\\\\n",
       "\\end{tabular}\n"
      ],
      "text/markdown": [
       "\n",
       "A spec_tbl_df: 5 × 2\n",
       "\n",
       "| Name &lt;chr&gt; | Description &lt;chr&gt; |\n",
       "|---|---|\n",
       "| Chrom                                 | Chromosome                                                                                                                    |\n",
       "| Start                                 | Start position                                                                                                                |\n",
       "| End                                   | End position                                                                                                                  |\n",
       "| Discovery_dhs_allen_v3_bnd30_fdr_corr | Benjamini-Hochbery correction of RRA/Allen Method p-value for DHS; the p-value is aggregated from transformed DESeq2 p-values |\n",
       "| Discovery_tW                          | ter Weele estimator for this DHS                                                                                              |\n",
       "\n"
      ],
      "text/plain": [
       "  Name                                 \n",
       "1 Chrom                                \n",
       "2 Start                                \n",
       "3 End                                  \n",
       "4 Discovery_dhs_allen_v3_bnd30_fdr_corr\n",
       "5 Discovery_tW                         \n",
       "  Description                                                                                                                  \n",
       "1 Chromosome                                                                                                                   \n",
       "2 Start position                                                                                                               \n",
       "3 End position                                                                                                                 \n",
       "4 Benjamini-Hochbery correction of RRA/Allen Method p-value for DHS; the p-value is aggregated from transformed DESeq2 p-values\n",
       "5 ter Weele estimator for this DHS                                                                                             "
      ]
     },
     "metadata": {},
     "output_type": "display_data"
    }
   ],
   "source": [
    "fdiry = file.path(\n",
    "    FD_RES, \n",
    "    \"results\", \n",
    "    \"region\", \n",
    "    folder_annot)\n",
    "fname = \"description.tsv\"\n",
    "fpath = file.path(fdiry, fname)\n",
    "\n",
    "dat = read_tsv(fpath, show_col_types = FALSE)\n",
    "\n",
    "dat_cnames = dat\n",
    "print(dim(dat))\n",
    "dat"
   ]
  },
  {
   "cell_type": "code",
   "execution_count": 7,
   "metadata": {},
   "outputs": [
    {
     "data": {
      "text/html": [
       "<style>\n",
       ".list-inline {list-style: none; margin:0; padding: 0}\n",
       ".list-inline>li {display: inline-block}\n",
       ".list-inline>li:not(:last-child)::after {content: \"\\00b7\"; padding: 0 .5ex}\n",
       "</style>\n",
       "<ol class=list-inline><li>'loopA.annotation.crispri_growth_ocr_one_guide_3std.bed.gz'</li><li>'loopB.annotation.crispri_growth_ocr_one_guide_3std.bed.gz'</li></ol>\n"
      ],
      "text/latex": [
       "\\begin{enumerate*}\n",
       "\\item 'loopA.annotation.crispri\\_growth\\_ocr\\_one\\_guide\\_3std.bed.gz'\n",
       "\\item 'loopB.annotation.crispri\\_growth\\_ocr\\_one\\_guide\\_3std.bed.gz'\n",
       "\\end{enumerate*}\n"
      ],
      "text/markdown": [
       "1. 'loopA.annotation.crispri_growth_ocr_one_guide_3std.bed.gz'\n",
       "2. 'loopB.annotation.crispri_growth_ocr_one_guide_3std.bed.gz'\n",
       "\n",
       "\n"
      ],
      "text/plain": [
       "[1] \"loopA.annotation.crispri_growth_ocr_one_guide_3std.bed.gz\"\n",
       "[2] \"loopB.annotation.crispri_growth_ocr_one_guide_3std.bed.gz\""
      ]
     },
     "metadata": {},
     "output_type": "display_data"
    }
   ],
   "source": [
    "fdiry = file.path(\n",
    "    FD_RES, \n",
    "    \"results\", \n",
    "    \"region\", \n",
    "    \"hic_intact_ENCSR479XDG\", \n",
    "    \"loop\",\n",
    "    folder_annot\n",
    ")\n",
    "dir(fdiry)"
   ]
  },
  {
   "cell_type": "code",
   "execution_count": 8,
   "metadata": {},
   "outputs": [
    {
     "data": {
      "text/html": [
       "<table class=\"dataframe\">\n",
       "<caption>A tibble: 6 × 9</caption>\n",
       "<thead>\n",
       "\t<tr><th scope=col>Chrom_Loop</th><th scope=col>Start_Loop</th><th scope=col>End_Loop</th><th scope=col>Chrom</th><th scope=col>Start</th><th scope=col>End</th><th scope=col>Discovery_dhs_allen_v3_bnd30_fdr_corr</th><th scope=col>Loop_Side</th><th scope=col>Loop_Region</th></tr>\n",
       "\t<tr><th scope=col>&lt;chr&gt;</th><th scope=col>&lt;dbl&gt;</th><th scope=col>&lt;dbl&gt;</th><th scope=col>&lt;chr&gt;</th><th scope=col>&lt;dbl&gt;</th><th scope=col>&lt;dbl&gt;</th><th scope=col>&lt;dbl&gt;</th><th scope=col>&lt;chr&gt;</th><th scope=col>&lt;chr&gt;</th></tr>\n",
       "</thead>\n",
       "<tbody>\n",
       "\t<tr><td>chr1</td><td>3565000</td><td>3566000</td><td>chr1</td><td>3564998</td><td>3568427</td><td>1000</td><td>LoopA</td><td>chr1:3565000-End_Loop</td></tr>\n",
       "\t<tr><td>chr1</td><td>3565000</td><td>3566000</td><td>chr1</td><td>3564998</td><td>3568427</td><td>1000</td><td>LoopA</td><td>chr1:3565000-End_Loop</td></tr>\n",
       "\t<tr><td>chr1</td><td>6268000</td><td>6269000</td><td>chr1</td><td>6268041</td><td>6271007</td><td> 959</td><td>LoopA</td><td>chr1:6268000-End_Loop</td></tr>\n",
       "\t<tr><td>chr1</td><td>6554000</td><td>6555000</td><td>chr1</td><td>6553715</td><td>6555614</td><td>1000</td><td>LoopA</td><td>chr1:6554000-End_Loop</td></tr>\n",
       "\t<tr><td>chr1</td><td>6554000</td><td>6555000</td><td>chr1</td><td>6553715</td><td>6555614</td><td>1000</td><td>LoopA</td><td>chr1:6554000-End_Loop</td></tr>\n",
       "\t<tr><td>chr1</td><td>6554000</td><td>6555000</td><td>chr1</td><td>6553715</td><td>6555614</td><td>1000</td><td>LoopA</td><td>chr1:6554000-End_Loop</td></tr>\n",
       "</tbody>\n",
       "</table>\n"
      ],
      "text/latex": [
       "A tibble: 6 × 9\n",
       "\\begin{tabular}{lllllllll}\n",
       " Chrom\\_Loop & Start\\_Loop & End\\_Loop & Chrom & Start & End & Discovery\\_dhs\\_allen\\_v3\\_bnd30\\_fdr\\_corr & Loop\\_Side & Loop\\_Region\\\\\n",
       " <chr> & <dbl> & <dbl> & <chr> & <dbl> & <dbl> & <dbl> & <chr> & <chr>\\\\\n",
       "\\hline\n",
       "\t chr1 & 3565000 & 3566000 & chr1 & 3564998 & 3568427 & 1000 & LoopA & chr1:3565000-End\\_Loop\\\\\n",
       "\t chr1 & 3565000 & 3566000 & chr1 & 3564998 & 3568427 & 1000 & LoopA & chr1:3565000-End\\_Loop\\\\\n",
       "\t chr1 & 6268000 & 6269000 & chr1 & 6268041 & 6271007 &  959 & LoopA & chr1:6268000-End\\_Loop\\\\\n",
       "\t chr1 & 6554000 & 6555000 & chr1 & 6553715 & 6555614 & 1000 & LoopA & chr1:6554000-End\\_Loop\\\\\n",
       "\t chr1 & 6554000 & 6555000 & chr1 & 6553715 & 6555614 & 1000 & LoopA & chr1:6554000-End\\_Loop\\\\\n",
       "\t chr1 & 6554000 & 6555000 & chr1 & 6553715 & 6555614 & 1000 & LoopA & chr1:6554000-End\\_Loop\\\\\n",
       "\\end{tabular}\n"
      ],
      "text/markdown": [
       "\n",
       "A tibble: 6 × 9\n",
       "\n",
       "| Chrom_Loop &lt;chr&gt; | Start_Loop &lt;dbl&gt; | End_Loop &lt;dbl&gt; | Chrom &lt;chr&gt; | Start &lt;dbl&gt; | End &lt;dbl&gt; | Discovery_dhs_allen_v3_bnd30_fdr_corr &lt;dbl&gt; | Loop_Side &lt;chr&gt; | Loop_Region &lt;chr&gt; |\n",
       "|---|---|---|---|---|---|---|---|---|\n",
       "| chr1 | 3565000 | 3566000 | chr1 | 3564998 | 3568427 | 1000 | LoopA | chr1:3565000-End_Loop |\n",
       "| chr1 | 3565000 | 3566000 | chr1 | 3564998 | 3568427 | 1000 | LoopA | chr1:3565000-End_Loop |\n",
       "| chr1 | 6268000 | 6269000 | chr1 | 6268041 | 6271007 |  959 | LoopA | chr1:6268000-End_Loop |\n",
       "| chr1 | 6554000 | 6555000 | chr1 | 6553715 | 6555614 | 1000 | LoopA | chr1:6554000-End_Loop |\n",
       "| chr1 | 6554000 | 6555000 | chr1 | 6553715 | 6555614 | 1000 | LoopA | chr1:6554000-End_Loop |\n",
       "| chr1 | 6554000 | 6555000 | chr1 | 6553715 | 6555614 | 1000 | LoopA | chr1:6554000-End_Loop |\n",
       "\n"
      ],
      "text/plain": [
       "  Chrom_Loop Start_Loop End_Loop Chrom Start   End    \n",
       "1 chr1       3565000    3566000  chr1  3564998 3568427\n",
       "2 chr1       3565000    3566000  chr1  3564998 3568427\n",
       "3 chr1       6268000    6269000  chr1  6268041 6271007\n",
       "4 chr1       6554000    6555000  chr1  6553715 6555614\n",
       "5 chr1       6554000    6555000  chr1  6553715 6555614\n",
       "6 chr1       6554000    6555000  chr1  6553715 6555614\n",
       "  Discovery_dhs_allen_v3_bnd30_fdr_corr Loop_Side Loop_Region          \n",
       "1 1000                                  LoopA     chr1:3565000-End_Loop\n",
       "2 1000                                  LoopA     chr1:3565000-End_Loop\n",
       "3  959                                  LoopA     chr1:6268000-End_Loop\n",
       "4 1000                                  LoopA     chr1:6554000-End_Loop\n",
       "5 1000                                  LoopA     chr1:6554000-End_Loop\n",
       "6 1000                                  LoopA     chr1:6554000-End_Loop"
      ]
     },
     "metadata": {},
     "output_type": "display_data"
    }
   ],
   "source": [
    "loop_side   = \"LoopA\"\n",
    "\n",
    "fdiry = file.path(\n",
    "    FD_RES, \n",
    "    \"results\", \n",
    "    \"region\", \n",
    "    \"hic_intact_ENCSR479XDG\", \n",
    "    \"loop\",\n",
    "    folder_annot\n",
    ")\n",
    "fname  = \"loopA.annotation.crispri_growth_ocr_one_guide_3std.bed.gz\"\n",
    "fpath = file.path(fdiry, fname)\n",
    "\n",
    "cnames = dat_cnames$Name\n",
    "cnames = c(\"Chrom_Loop\", \"Start_Loop\", \"End_Loop\", cnames, \"Overlap\")\n",
    "\n",
    "dat = read_tsv(fpath, col_names = cnames, show_col_types = FALSE)\n",
    "    dat = dat %>% dplyr::mutate(\n",
    "        Loop_Side   = loop_side,\n",
    "        Loop_Region = paste0(Chrom_Loop, \":\", Start_Loop, \"-\", \"End_Loop\")\n",
    "    )\n",
    "dat_loopA = dat\n",
    "head(dat)"
   ]
  },
  {
   "cell_type": "code",
   "execution_count": null,
   "metadata": {},
   "outputs": [],
   "source": []
  },
  {
   "cell_type": "markdown",
   "metadata": {},
   "source": [
    "## CRISPR"
   ]
  },
  {
   "cell_type": "code",
   "execution_count": 79,
   "metadata": {},
   "outputs": [
    {
     "data": {
      "text/html": [
       "<style>\n",
       ".list-inline {list-style: none; margin:0; padding: 0}\n",
       ".list-inline>li {display: inline-block}\n",
       ".list-inline>li:not(:last-child)::after {content: \"\\00b7\"; padding: 0 .5ex}\n",
       "</style>\n",
       "<ol class=list-inline><li>'crispri_casa_peak.bed'</li><li>'crispri_casa_peak.bed.gz'</li><li>'crispri_casa_peak.tsv'</li><li>'crispri_gene_tss.tsv'</li><li>'description.tsv'</li><li>'K562_HCRFF_20genes_TSS_TES_coords.tsv'</li></ol>\n"
      ],
      "text/latex": [
       "\\begin{enumerate*}\n",
       "\\item 'crispri\\_casa\\_peak.bed'\n",
       "\\item 'crispri\\_casa\\_peak.bed.gz'\n",
       "\\item 'crispri\\_casa\\_peak.tsv'\n",
       "\\item 'crispri\\_gene\\_tss.tsv'\n",
       "\\item 'description.tsv'\n",
       "\\item 'K562\\_HCRFF\\_20genes\\_TSS\\_TES\\_coords.tsv'\n",
       "\\end{enumerate*}\n"
      ],
      "text/markdown": [
       "1. 'crispri_casa_peak.bed'\n",
       "2. 'crispri_casa_peak.bed.gz'\n",
       "3. 'crispri_casa_peak.tsv'\n",
       "4. 'crispri_gene_tss.tsv'\n",
       "5. 'description.tsv'\n",
       "6. 'K562_HCRFF_20genes_TSS_TES_coords.tsv'\n",
       "\n",
       "\n"
      ],
      "text/plain": [
       "[1] \"crispri_casa_peak.bed\"                \n",
       "[2] \"crispri_casa_peak.bed.gz\"             \n",
       "[3] \"crispri_casa_peak.tsv\"                \n",
       "[4] \"crispri_gene_tss.tsv\"                 \n",
       "[5] \"description.tsv\"                      \n",
       "[6] \"K562_HCRFF_20genes_TSS_TES_coords.tsv\""
      ]
     },
     "metadata": {},
     "output_type": "display_data"
    }
   ],
   "source": [
    "folder_annot = \"annotation_crispri_hcrff\"\n",
    "fdiry = file.path(\n",
    "    FD_RES, \n",
    "    \"results\", \n",
    "    \"region\", \n",
    "    folder_annot)\n",
    "dir(fdiry)"
   ]
  },
  {
   "cell_type": "code",
   "execution_count": 80,
   "metadata": {},
   "outputs": [
    {
     "name": "stdout",
     "output_type": "stream",
     "text": [
      "[1] 8 2\n"
     ]
    },
    {
     "data": {
      "text/html": [
       "<table class=\"dataframe\">\n",
       "<caption>A spec_tbl_df: 8 × 2</caption>\n",
       "<thead>\n",
       "\t<tr><th scope=col>Name</th><th scope=col>Description</th></tr>\n",
       "\t<tr><th scope=col>&lt;chr&gt;</th><th scope=col>&lt;chr&gt;</th></tr>\n",
       "</thead>\n",
       "<tbody>\n",
       "\t<tr><td>Chrom      </td><td>Chromosome                                                 </td></tr>\n",
       "\t<tr><td>Start      </td><td>Start position                                             </td></tr>\n",
       "\t<tr><td>End        </td><td>End position                                               </td></tr>\n",
       "\t<tr><td>Name       </td><td>Name                                                       </td></tr>\n",
       "\t<tr><td>Score      </td><td>Score                                                      </td></tr>\n",
       "\t<tr><td>Strand     </td><td>[+-.]; Use '.' if no strand is assigned.                   </td></tr>\n",
       "\t<tr><td>Gene_Symbol</td><td>Gene symbol;     Gene that is screened for CRISPRi-FlowFish</td></tr>\n",
       "\t<tr><td>Gene_ENS   </td><td>Gene Ensembl ID; Gene that is screened for CRISPRi-FlowFish</td></tr>\n",
       "</tbody>\n",
       "</table>\n"
      ],
      "text/latex": [
       "A spec\\_tbl\\_df: 8 × 2\n",
       "\\begin{tabular}{ll}\n",
       " Name & Description\\\\\n",
       " <chr> & <chr>\\\\\n",
       "\\hline\n",
       "\t Chrom       & Chromosome                                                 \\\\\n",
       "\t Start       & Start position                                             \\\\\n",
       "\t End         & End position                                               \\\\\n",
       "\t Name        & Name                                                       \\\\\n",
       "\t Score       & Score                                                      \\\\\n",
       "\t Strand      & {[}+-.{]}; Use '.' if no strand is assigned.                   \\\\\n",
       "\t Gene\\_Symbol & Gene symbol;     Gene that is screened for CRISPRi-FlowFish\\\\\n",
       "\t Gene\\_ENS    & Gene Ensembl ID; Gene that is screened for CRISPRi-FlowFish\\\\\n",
       "\\end{tabular}\n"
      ],
      "text/markdown": [
       "\n",
       "A spec_tbl_df: 8 × 2\n",
       "\n",
       "| Name &lt;chr&gt; | Description &lt;chr&gt; |\n",
       "|---|---|\n",
       "| Chrom       | Chromosome                                                  |\n",
       "| Start       | Start position                                              |\n",
       "| End         | End position                                                |\n",
       "| Name        | Name                                                        |\n",
       "| Score       | Score                                                       |\n",
       "| Strand      | [+-.]; Use '.' if no strand is assigned.                    |\n",
       "| Gene_Symbol | Gene symbol;     Gene that is screened for CRISPRi-FlowFish |\n",
       "| Gene_ENS    | Gene Ensembl ID; Gene that is screened for CRISPRi-FlowFish |\n",
       "\n"
      ],
      "text/plain": [
       "  Name        Description                                                \n",
       "1 Chrom       Chromosome                                                 \n",
       "2 Start       Start position                                             \n",
       "3 End         End position                                               \n",
       "4 Name        Name                                                       \n",
       "5 Score       Score                                                      \n",
       "6 Strand      [+-.]; Use '.' if no strand is assigned.                   \n",
       "7 Gene_Symbol Gene symbol;     Gene that is screened for CRISPRi-FlowFish\n",
       "8 Gene_ENS    Gene Ensembl ID; Gene that is screened for CRISPRi-FlowFish"
      ]
     },
     "metadata": {},
     "output_type": "display_data"
    }
   ],
   "source": [
    "fdiry = file.path(\n",
    "    FD_RES, \n",
    "    \"results\", \n",
    "    \"region\", \n",
    "    folder_annot)\n",
    "fname = \"description.tsv\"\n",
    "fpath = file.path(fdiry, fname)\n",
    "\n",
    "dat = read_tsv(fpath, show_col_types = FALSE)\n",
    "\n",
    "dat_cnames = dat\n",
    "print(dim(dat))\n",
    "dat"
   ]
  },
  {
   "cell_type": "code",
   "execution_count": 81,
   "metadata": {},
   "outputs": [
    {
     "data": {
      "text/html": [
       "<table class=\"dataframe\">\n",
       "<caption>A tibble: 6 × 14</caption>\n",
       "<thead>\n",
       "\t<tr><th scope=col>Chrom_Loop</th><th scope=col>Start_Loop</th><th scope=col>End_Loop</th><th scope=col>Chrom</th><th scope=col>Start</th><th scope=col>End</th><th scope=col>Name</th><th scope=col>Score</th><th scope=col>Strand</th><th scope=col>Gene_Symbol</th><th scope=col>Gene_ENS</th><th scope=col>Overlap</th><th scope=col>Loop_Side</th><th scope=col>Loop_Region</th></tr>\n",
       "\t<tr><th scope=col>&lt;chr&gt;</th><th scope=col>&lt;dbl&gt;</th><th scope=col>&lt;dbl&gt;</th><th scope=col>&lt;chr&gt;</th><th scope=col>&lt;dbl&gt;</th><th scope=col>&lt;dbl&gt;</th><th scope=col>&lt;chr&gt;</th><th scope=col>&lt;dbl&gt;</th><th scope=col>&lt;chr&gt;</th><th scope=col>&lt;chr&gt;</th><th scope=col>&lt;chr&gt;</th><th scope=col>&lt;dbl&gt;</th><th scope=col>&lt;chr&gt;</th><th scope=col>&lt;chr&gt;</th></tr>\n",
       "</thead>\n",
       "<tbody>\n",
       "\t<tr><td>chr11</td><td>5252000</td><td>5254000</td><td>chr11</td><td>5253147</td><td>5253547</td><td>chr11:5253147-5253547</td><td>1.3303423</td><td>.</td><td>HBG1</td><td>ENST00000330597.5</td><td> 400</td><td>LoopA</td><td>chr11:5252000-End_Loop</td></tr>\n",
       "\t<tr><td>chr11</td><td>5252000</td><td>5254000</td><td>chr11</td><td>5253147</td><td>5253547</td><td>chr11:5253147-5253547</td><td>1.3232571</td><td>.</td><td>HBG2</td><td>ENST00000336906.6</td><td> 400</td><td>LoopA</td><td>chr11:5252000-End_Loop</td></tr>\n",
       "\t<tr><td>chr11</td><td>5280000</td><td>5290000</td><td>chr11</td><td>5280447</td><td>5281147</td><td>chr11:5280447-5281147</td><td>1.8384635</td><td>.</td><td>HBE1</td><td>ENST00000336906.6</td><td> 700</td><td>LoopA</td><td>chr11:5280000-End_Loop</td></tr>\n",
       "\t<tr><td>chr11</td><td>5280000</td><td>5290000</td><td>chr11</td><td>5284147</td><td>5286047</td><td>chr11:5284147-5286047</td><td>1.8675340</td><td>.</td><td>HBE1</td><td>ENST00000336906.6</td><td>1900</td><td>LoopA</td><td>chr11:5280000-End_Loop</td></tr>\n",
       "\t<tr><td>chr11</td><td>5280000</td><td>5290000</td><td>chr11</td><td>5287947</td><td>5288547</td><td>chr11:5287947-5288547</td><td>0.7740956</td><td>.</td><td>HBE1</td><td>ENST00000336906.6</td><td> 600</td><td>LoopA</td><td>chr11:5280000-End_Loop</td></tr>\n",
       "\t<tr><td>chr11</td><td>5280000</td><td>5290000</td><td>chr11</td><td>5279747</td><td>5281147</td><td>chr11:5279747-5281147</td><td>3.5807704</td><td>.</td><td>HBG1</td><td>ENST00000330597.5</td><td>1147</td><td>LoopA</td><td>chr11:5280000-End_Loop</td></tr>\n",
       "</tbody>\n",
       "</table>\n"
      ],
      "text/latex": [
       "A tibble: 6 × 14\n",
       "\\begin{tabular}{llllllllllllll}\n",
       " Chrom\\_Loop & Start\\_Loop & End\\_Loop & Chrom & Start & End & Name & Score & Strand & Gene\\_Symbol & Gene\\_ENS & Overlap & Loop\\_Side & Loop\\_Region\\\\\n",
       " <chr> & <dbl> & <dbl> & <chr> & <dbl> & <dbl> & <chr> & <dbl> & <chr> & <chr> & <chr> & <dbl> & <chr> & <chr>\\\\\n",
       "\\hline\n",
       "\t chr11 & 5252000 & 5254000 & chr11 & 5253147 & 5253547 & chr11:5253147-5253547 & 1.3303423 & . & HBG1 & ENST00000330597.5 &  400 & LoopA & chr11:5252000-End\\_Loop\\\\\n",
       "\t chr11 & 5252000 & 5254000 & chr11 & 5253147 & 5253547 & chr11:5253147-5253547 & 1.3232571 & . & HBG2 & ENST00000336906.6 &  400 & LoopA & chr11:5252000-End\\_Loop\\\\\n",
       "\t chr11 & 5280000 & 5290000 & chr11 & 5280447 & 5281147 & chr11:5280447-5281147 & 1.8384635 & . & HBE1 & ENST00000336906.6 &  700 & LoopA & chr11:5280000-End\\_Loop\\\\\n",
       "\t chr11 & 5280000 & 5290000 & chr11 & 5284147 & 5286047 & chr11:5284147-5286047 & 1.8675340 & . & HBE1 & ENST00000336906.6 & 1900 & LoopA & chr11:5280000-End\\_Loop\\\\\n",
       "\t chr11 & 5280000 & 5290000 & chr11 & 5287947 & 5288547 & chr11:5287947-5288547 & 0.7740956 & . & HBE1 & ENST00000336906.6 &  600 & LoopA & chr11:5280000-End\\_Loop\\\\\n",
       "\t chr11 & 5280000 & 5290000 & chr11 & 5279747 & 5281147 & chr11:5279747-5281147 & 3.5807704 & . & HBG1 & ENST00000330597.5 & 1147 & LoopA & chr11:5280000-End\\_Loop\\\\\n",
       "\\end{tabular}\n"
      ],
      "text/markdown": [
       "\n",
       "A tibble: 6 × 14\n",
       "\n",
       "| Chrom_Loop &lt;chr&gt; | Start_Loop &lt;dbl&gt; | End_Loop &lt;dbl&gt; | Chrom &lt;chr&gt; | Start &lt;dbl&gt; | End &lt;dbl&gt; | Name &lt;chr&gt; | Score &lt;dbl&gt; | Strand &lt;chr&gt; | Gene_Symbol &lt;chr&gt; | Gene_ENS &lt;chr&gt; | Overlap &lt;dbl&gt; | Loop_Side &lt;chr&gt; | Loop_Region &lt;chr&gt; |\n",
       "|---|---|---|---|---|---|---|---|---|---|---|---|---|---|\n",
       "| chr11 | 5252000 | 5254000 | chr11 | 5253147 | 5253547 | chr11:5253147-5253547 | 1.3303423 | . | HBG1 | ENST00000330597.5 |  400 | LoopA | chr11:5252000-End_Loop |\n",
       "| chr11 | 5252000 | 5254000 | chr11 | 5253147 | 5253547 | chr11:5253147-5253547 | 1.3232571 | . | HBG2 | ENST00000336906.6 |  400 | LoopA | chr11:5252000-End_Loop |\n",
       "| chr11 | 5280000 | 5290000 | chr11 | 5280447 | 5281147 | chr11:5280447-5281147 | 1.8384635 | . | HBE1 | ENST00000336906.6 |  700 | LoopA | chr11:5280000-End_Loop |\n",
       "| chr11 | 5280000 | 5290000 | chr11 | 5284147 | 5286047 | chr11:5284147-5286047 | 1.8675340 | . | HBE1 | ENST00000336906.6 | 1900 | LoopA | chr11:5280000-End_Loop |\n",
       "| chr11 | 5280000 | 5290000 | chr11 | 5287947 | 5288547 | chr11:5287947-5288547 | 0.7740956 | . | HBE1 | ENST00000336906.6 |  600 | LoopA | chr11:5280000-End_Loop |\n",
       "| chr11 | 5280000 | 5290000 | chr11 | 5279747 | 5281147 | chr11:5279747-5281147 | 3.5807704 | . | HBG1 | ENST00000330597.5 | 1147 | LoopA | chr11:5280000-End_Loop |\n",
       "\n"
      ],
      "text/plain": [
       "  Chrom_Loop Start_Loop End_Loop Chrom Start   End     Name                 \n",
       "1 chr11      5252000    5254000  chr11 5253147 5253547 chr11:5253147-5253547\n",
       "2 chr11      5252000    5254000  chr11 5253147 5253547 chr11:5253147-5253547\n",
       "3 chr11      5280000    5290000  chr11 5280447 5281147 chr11:5280447-5281147\n",
       "4 chr11      5280000    5290000  chr11 5284147 5286047 chr11:5284147-5286047\n",
       "5 chr11      5280000    5290000  chr11 5287947 5288547 chr11:5287947-5288547\n",
       "6 chr11      5280000    5290000  chr11 5279747 5281147 chr11:5279747-5281147\n",
       "  Score     Strand Gene_Symbol Gene_ENS          Overlap Loop_Side\n",
       "1 1.3303423 .      HBG1        ENST00000330597.5  400    LoopA    \n",
       "2 1.3232571 .      HBG2        ENST00000336906.6  400    LoopA    \n",
       "3 1.8384635 .      HBE1        ENST00000336906.6  700    LoopA    \n",
       "4 1.8675340 .      HBE1        ENST00000336906.6 1900    LoopA    \n",
       "5 0.7740956 .      HBE1        ENST00000336906.6  600    LoopA    \n",
       "6 3.5807704 .      HBG1        ENST00000330597.5 1147    LoopA    \n",
       "  Loop_Region           \n",
       "1 chr11:5252000-End_Loop\n",
       "2 chr11:5252000-End_Loop\n",
       "3 chr11:5280000-End_Loop\n",
       "4 chr11:5280000-End_Loop\n",
       "5 chr11:5280000-End_Loop\n",
       "6 chr11:5280000-End_Loop"
      ]
     },
     "metadata": {},
     "output_type": "display_data"
    }
   ],
   "source": [
    "loop_side   = \"LoopA\"\n",
    "\n",
    "fdiry = file.path(\n",
    "    FD_RES, \n",
    "    \"results\", \n",
    "    \"region\", \n",
    "    \"hic_intact_ENCSR479XDG\", \n",
    "    \"loop\",\n",
    "    folder_annot\n",
    ")\n",
    "fname  = \"loopA*peak*.bed.gz\"\n",
    "fglob  = file.path(fdiry, fname)\n",
    "fpaths = Sys.glob(fglob)\n",
    "\n",
    "\n",
    "cnames = dat_cnames$Name\n",
    "cnames = c(\"Chrom_Loop\", \"Start_Loop\", \"End_Loop\", cnames, \"Overlap\")\n",
    "\n",
    "lst = lapply(fpaths, function(fpath){\n",
    "    dat = read_tsv(fpath, col_names = cnames, show_col_types = FALSE)\n",
    "    dat = dat %>% dplyr::mutate(\n",
    "        Loop_Side   = loop_side,\n",
    "        Loop_Region = paste0(Chrom_Loop, \":\", Start_Loop, \"-\", \"End_Loop\")\n",
    "    )\n",
    "    return(dat)\n",
    "})\n",
    "lst_dat_loopA = lst\n",
    "head(lst[[1]])"
   ]
  },
  {
   "cell_type": "code",
   "execution_count": 82,
   "metadata": {},
   "outputs": [
    {
     "data": {
      "text/html": [
       "<table class=\"dataframe\">\n",
       "<caption>A tibble: 6 × 14</caption>\n",
       "<thead>\n",
       "\t<tr><th scope=col>Chrom_Loop</th><th scope=col>Start_Loop</th><th scope=col>End_Loop</th><th scope=col>Chrom</th><th scope=col>Start</th><th scope=col>End</th><th scope=col>Name</th><th scope=col>Score</th><th scope=col>Strand</th><th scope=col>Gene_Symbol</th><th scope=col>Gene_ENS</th><th scope=col>Overlap</th><th scope=col>Loop_Side</th><th scope=col>Loop_Region</th></tr>\n",
       "\t<tr><th scope=col>&lt;chr&gt;</th><th scope=col>&lt;dbl&gt;</th><th scope=col>&lt;dbl&gt;</th><th scope=col>&lt;chr&gt;</th><th scope=col>&lt;dbl&gt;</th><th scope=col>&lt;dbl&gt;</th><th scope=col>&lt;chr&gt;</th><th scope=col>&lt;dbl&gt;</th><th scope=col>&lt;chr&gt;</th><th scope=col>&lt;chr&gt;</th><th scope=col>&lt;chr&gt;</th><th scope=col>&lt;dbl&gt;</th><th scope=col>&lt;chr&gt;</th><th scope=col>&lt;chr&gt;</th></tr>\n",
       "</thead>\n",
       "<tbody>\n",
       "\t<tr><td>chr11</td><td>5250000</td><td>5252000</td><td>chr11</td><td>5249847</td><td>5250847</td><td>chr11:5249847-5250847</td><td>1.8908899</td><td>.</td><td>HBG1</td><td>ENST00000330597.5</td><td> 847</td><td>LoopB</td><td>chr11:5250000-End_Loop</td></tr>\n",
       "\t<tr><td>chr11</td><td>5250000</td><td>5252000</td><td>chr11</td><td>5249847</td><td>5250847</td><td>chr11:5249847-5250847</td><td>1.9229558</td><td>.</td><td>HBG2</td><td>ENST00000336906.6</td><td> 847</td><td>LoopB</td><td>chr11:5250000-End_Loop</td></tr>\n",
       "\t<tr><td>chr11</td><td>5288000</td><td>5290000</td><td>chr11</td><td>5287947</td><td>5288547</td><td>chr11:5287947-5288547</td><td>0.7740956</td><td>.</td><td>HBE1</td><td>ENST00000336906.6</td><td> 547</td><td>LoopB</td><td>chr11:5288000-End_Loop</td></tr>\n",
       "\t<tr><td>chr11</td><td>5288000</td><td>5290000</td><td>chr11</td><td>5287947</td><td>5288547</td><td>chr11:5287947-5288547</td><td>0.7740956</td><td>.</td><td>HBE1</td><td>ENST00000336906.6</td><td> 547</td><td>LoopB</td><td>chr11:5288000-End_Loop</td></tr>\n",
       "\t<tr><td>chr11</td><td>5500000</td><td>5510000</td><td>chr11</td><td>5503747</td><td>5505947</td><td>chr11:5503747-5505947</td><td>0.8096994</td><td>.</td><td>HBE1</td><td>ENST00000336906.6</td><td>2200</td><td>LoopB</td><td>chr11:5500000-End_Loop</td></tr>\n",
       "\t<tr><td>chr11</td><td>5500000</td><td>5510000</td><td>chr11</td><td>5503747</td><td>5505947</td><td>chr11:5503747-5505947</td><td>0.8096994</td><td>.</td><td>HBE1</td><td>ENST00000336906.6</td><td>2200</td><td>LoopB</td><td>chr11:5500000-End_Loop</td></tr>\n",
       "</tbody>\n",
       "</table>\n"
      ],
      "text/latex": [
       "A tibble: 6 × 14\n",
       "\\begin{tabular}{llllllllllllll}\n",
       " Chrom\\_Loop & Start\\_Loop & End\\_Loop & Chrom & Start & End & Name & Score & Strand & Gene\\_Symbol & Gene\\_ENS & Overlap & Loop\\_Side & Loop\\_Region\\\\\n",
       " <chr> & <dbl> & <dbl> & <chr> & <dbl> & <dbl> & <chr> & <dbl> & <chr> & <chr> & <chr> & <dbl> & <chr> & <chr>\\\\\n",
       "\\hline\n",
       "\t chr11 & 5250000 & 5252000 & chr11 & 5249847 & 5250847 & chr11:5249847-5250847 & 1.8908899 & . & HBG1 & ENST00000330597.5 &  847 & LoopB & chr11:5250000-End\\_Loop\\\\\n",
       "\t chr11 & 5250000 & 5252000 & chr11 & 5249847 & 5250847 & chr11:5249847-5250847 & 1.9229558 & . & HBG2 & ENST00000336906.6 &  847 & LoopB & chr11:5250000-End\\_Loop\\\\\n",
       "\t chr11 & 5288000 & 5290000 & chr11 & 5287947 & 5288547 & chr11:5287947-5288547 & 0.7740956 & . & HBE1 & ENST00000336906.6 &  547 & LoopB & chr11:5288000-End\\_Loop\\\\\n",
       "\t chr11 & 5288000 & 5290000 & chr11 & 5287947 & 5288547 & chr11:5287947-5288547 & 0.7740956 & . & HBE1 & ENST00000336906.6 &  547 & LoopB & chr11:5288000-End\\_Loop\\\\\n",
       "\t chr11 & 5500000 & 5510000 & chr11 & 5503747 & 5505947 & chr11:5503747-5505947 & 0.8096994 & . & HBE1 & ENST00000336906.6 & 2200 & LoopB & chr11:5500000-End\\_Loop\\\\\n",
       "\t chr11 & 5500000 & 5510000 & chr11 & 5503747 & 5505947 & chr11:5503747-5505947 & 0.8096994 & . & HBE1 & ENST00000336906.6 & 2200 & LoopB & chr11:5500000-End\\_Loop\\\\\n",
       "\\end{tabular}\n"
      ],
      "text/markdown": [
       "\n",
       "A tibble: 6 × 14\n",
       "\n",
       "| Chrom_Loop &lt;chr&gt; | Start_Loop &lt;dbl&gt; | End_Loop &lt;dbl&gt; | Chrom &lt;chr&gt; | Start &lt;dbl&gt; | End &lt;dbl&gt; | Name &lt;chr&gt; | Score &lt;dbl&gt; | Strand &lt;chr&gt; | Gene_Symbol &lt;chr&gt; | Gene_ENS &lt;chr&gt; | Overlap &lt;dbl&gt; | Loop_Side &lt;chr&gt; | Loop_Region &lt;chr&gt; |\n",
       "|---|---|---|---|---|---|---|---|---|---|---|---|---|---|\n",
       "| chr11 | 5250000 | 5252000 | chr11 | 5249847 | 5250847 | chr11:5249847-5250847 | 1.8908899 | . | HBG1 | ENST00000330597.5 |  847 | LoopB | chr11:5250000-End_Loop |\n",
       "| chr11 | 5250000 | 5252000 | chr11 | 5249847 | 5250847 | chr11:5249847-5250847 | 1.9229558 | . | HBG2 | ENST00000336906.6 |  847 | LoopB | chr11:5250000-End_Loop |\n",
       "| chr11 | 5288000 | 5290000 | chr11 | 5287947 | 5288547 | chr11:5287947-5288547 | 0.7740956 | . | HBE1 | ENST00000336906.6 |  547 | LoopB | chr11:5288000-End_Loop |\n",
       "| chr11 | 5288000 | 5290000 | chr11 | 5287947 | 5288547 | chr11:5287947-5288547 | 0.7740956 | . | HBE1 | ENST00000336906.6 |  547 | LoopB | chr11:5288000-End_Loop |\n",
       "| chr11 | 5500000 | 5510000 | chr11 | 5503747 | 5505947 | chr11:5503747-5505947 | 0.8096994 | . | HBE1 | ENST00000336906.6 | 2200 | LoopB | chr11:5500000-End_Loop |\n",
       "| chr11 | 5500000 | 5510000 | chr11 | 5503747 | 5505947 | chr11:5503747-5505947 | 0.8096994 | . | HBE1 | ENST00000336906.6 | 2200 | LoopB | chr11:5500000-End_Loop |\n",
       "\n"
      ],
      "text/plain": [
       "  Chrom_Loop Start_Loop End_Loop Chrom Start   End     Name                 \n",
       "1 chr11      5250000    5252000  chr11 5249847 5250847 chr11:5249847-5250847\n",
       "2 chr11      5250000    5252000  chr11 5249847 5250847 chr11:5249847-5250847\n",
       "3 chr11      5288000    5290000  chr11 5287947 5288547 chr11:5287947-5288547\n",
       "4 chr11      5288000    5290000  chr11 5287947 5288547 chr11:5287947-5288547\n",
       "5 chr11      5500000    5510000  chr11 5503747 5505947 chr11:5503747-5505947\n",
       "6 chr11      5500000    5510000  chr11 5503747 5505947 chr11:5503747-5505947\n",
       "  Score     Strand Gene_Symbol Gene_ENS          Overlap Loop_Side\n",
       "1 1.8908899 .      HBG1        ENST00000330597.5  847    LoopB    \n",
       "2 1.9229558 .      HBG2        ENST00000336906.6  847    LoopB    \n",
       "3 0.7740956 .      HBE1        ENST00000336906.6  547    LoopB    \n",
       "4 0.7740956 .      HBE1        ENST00000336906.6  547    LoopB    \n",
       "5 0.8096994 .      HBE1        ENST00000336906.6 2200    LoopB    \n",
       "6 0.8096994 .      HBE1        ENST00000336906.6 2200    LoopB    \n",
       "  Loop_Region           \n",
       "1 chr11:5250000-End_Loop\n",
       "2 chr11:5250000-End_Loop\n",
       "3 chr11:5288000-End_Loop\n",
       "4 chr11:5288000-End_Loop\n",
       "5 chr11:5500000-End_Loop\n",
       "6 chr11:5500000-End_Loop"
      ]
     },
     "metadata": {},
     "output_type": "display_data"
    }
   ],
   "source": [
    "loop_side   = \"LoopB\"\n",
    "\n",
    "fdiry = file.path(\n",
    "    FD_RES, \n",
    "    \"results\", \n",
    "    \"region\", \n",
    "    \"hic_intact_ENCSR479XDG\", \n",
    "    \"loop\",\n",
    "    folder_annot\n",
    ")\n",
    "fname  = \"loopB*peak*.bed.gz\"\n",
    "fglob  = file.path(fdiry, fname)\n",
    "fpaths = Sys.glob(fglob)\n",
    "\n",
    "\n",
    "cnames = dat_cnames$Name\n",
    "cnames = c(\"Chrom_Loop\", \"Start_Loop\", \"End_Loop\", cnames, \"Overlap\")\n",
    "\n",
    "lst = lapply(fpaths, function(fpath){\n",
    "    dat = read_tsv(fpath, col_names = cnames, show_col_types = FALSE)\n",
    "    dat = dat %>% dplyr::mutate(\n",
    "        Loop_Side   = loop_side,\n",
    "        Loop_Region = paste0(Chrom_Loop, \":\", Start_Loop, \"-\", \"End_Loop\")\n",
    "    )\n",
    "    return(dat)\n",
    "})\n",
    "lst_dat_loopB = lst\n",
    "head(lst[[1]])"
   ]
  },
  {
   "cell_type": "code",
   "execution_count": 83,
   "metadata": {},
   "outputs": [
    {
     "data": {
      "text/html": [
       "<table class=\"dataframe\">\n",
       "<caption>A tibble: 6 × 8</caption>\n",
       "<thead>\n",
       "\t<tr><th scope=col>Chrom</th><th scope=col>Start</th><th scope=col>End</th><th scope=col>Name</th><th scope=col>Score</th><th scope=col>Strand</th><th scope=col>Gene_Symbol</th><th scope=col>Gene_ENS</th></tr>\n",
       "\t<tr><th scope=col>&lt;chr&gt;</th><th scope=col>&lt;dbl&gt;</th><th scope=col>&lt;dbl&gt;</th><th scope=col>&lt;chr&gt;</th><th scope=col>&lt;dbl&gt;</th><th scope=col>&lt;chr&gt;</th><th scope=col>&lt;chr&gt;</th><th scope=col>&lt;chr&gt;</th></tr>\n",
       "</thead>\n",
       "<tbody>\n",
       "\t<tr><td>chr11</td><td>33944871</td><td>33945471</td><td>chr11:33944871-33945471</td><td>0.8037646</td><td>.</td><td>CAPRIN1</td><td>ENSG00000135387</td></tr>\n",
       "\t<tr><td>chr11</td><td>34050971</td><td>34051471</td><td>chr11:34050971-34051471</td><td>0.9739873</td><td>.</td><td>CAPRIN1</td><td>ENSG00000135387</td></tr>\n",
       "\t<tr><td>chr11</td><td>34051571</td><td>34054171</td><td>chr11:34051571-34054171</td><td>2.0642907</td><td>.</td><td>CAPRIN1</td><td>ENSG00000135387</td></tr>\n",
       "\t<tr><td>chr11</td><td>34085871</td><td>34086871</td><td>chr11:34085871-34086871</td><td>1.0092724</td><td>.</td><td>CAPRIN1</td><td>ENSG00000135387</td></tr>\n",
       "\t<tr><td>chr11</td><td>33944868</td><td>33945268</td><td>chr11:33944868-33945268</td><td>1.2146755</td><td>.</td><td>CAT    </td><td>ENSG00000121691</td></tr>\n",
       "\t<tr><td>chr11</td><td>34437468</td><td>34440568</td><td>chr11:34437468-34440568</td><td>3.2866681</td><td>.</td><td>CAT    </td><td>ENSG00000121691</td></tr>\n",
       "</tbody>\n",
       "</table>\n"
      ],
      "text/latex": [
       "A tibble: 6 × 8\n",
       "\\begin{tabular}{llllllll}\n",
       " Chrom & Start & End & Name & Score & Strand & Gene\\_Symbol & Gene\\_ENS\\\\\n",
       " <chr> & <dbl> & <dbl> & <chr> & <dbl> & <chr> & <chr> & <chr>\\\\\n",
       "\\hline\n",
       "\t chr11 & 33944871 & 33945471 & chr11:33944871-33945471 & 0.8037646 & . & CAPRIN1 & ENSG00000135387\\\\\n",
       "\t chr11 & 34050971 & 34051471 & chr11:34050971-34051471 & 0.9739873 & . & CAPRIN1 & ENSG00000135387\\\\\n",
       "\t chr11 & 34051571 & 34054171 & chr11:34051571-34054171 & 2.0642907 & . & CAPRIN1 & ENSG00000135387\\\\\n",
       "\t chr11 & 34085871 & 34086871 & chr11:34085871-34086871 & 1.0092724 & . & CAPRIN1 & ENSG00000135387\\\\\n",
       "\t chr11 & 33944868 & 33945268 & chr11:33944868-33945268 & 1.2146755 & . & CAT     & ENSG00000121691\\\\\n",
       "\t chr11 & 34437468 & 34440568 & chr11:34437468-34440568 & 3.2866681 & . & CAT     & ENSG00000121691\\\\\n",
       "\\end{tabular}\n"
      ],
      "text/markdown": [
       "\n",
       "A tibble: 6 × 8\n",
       "\n",
       "| Chrom &lt;chr&gt; | Start &lt;dbl&gt; | End &lt;dbl&gt; | Name &lt;chr&gt; | Score &lt;dbl&gt; | Strand &lt;chr&gt; | Gene_Symbol &lt;chr&gt; | Gene_ENS &lt;chr&gt; |\n",
       "|---|---|---|---|---|---|---|---|\n",
       "| chr11 | 33944871 | 33945471 | chr11:33944871-33945471 | 0.8037646 | . | CAPRIN1 | ENSG00000135387 |\n",
       "| chr11 | 34050971 | 34051471 | chr11:34050971-34051471 | 0.9739873 | . | CAPRIN1 | ENSG00000135387 |\n",
       "| chr11 | 34051571 | 34054171 | chr11:34051571-34054171 | 2.0642907 | . | CAPRIN1 | ENSG00000135387 |\n",
       "| chr11 | 34085871 | 34086871 | chr11:34085871-34086871 | 1.0092724 | . | CAPRIN1 | ENSG00000135387 |\n",
       "| chr11 | 33944868 | 33945268 | chr11:33944868-33945268 | 1.2146755 | . | CAT     | ENSG00000121691 |\n",
       "| chr11 | 34437468 | 34440568 | chr11:34437468-34440568 | 3.2866681 | . | CAT     | ENSG00000121691 |\n",
       "\n"
      ],
      "text/plain": [
       "  Chrom Start    End      Name                    Score     Strand Gene_Symbol\n",
       "1 chr11 33944871 33945471 chr11:33944871-33945471 0.8037646 .      CAPRIN1    \n",
       "2 chr11 34050971 34051471 chr11:34050971-34051471 0.9739873 .      CAPRIN1    \n",
       "3 chr11 34051571 34054171 chr11:34051571-34054171 2.0642907 .      CAPRIN1    \n",
       "4 chr11 34085871 34086871 chr11:34085871-34086871 1.0092724 .      CAPRIN1    \n",
       "5 chr11 33944868 33945268 chr11:33944868-33945268 1.2146755 .      CAT        \n",
       "6 chr11 34437468 34440568 chr11:34437468-34440568 3.2866681 .      CAT        \n",
       "  Gene_ENS       \n",
       "1 ENSG00000135387\n",
       "2 ENSG00000135387\n",
       "3 ENSG00000135387\n",
       "4 ENSG00000135387\n",
       "5 ENSG00000121691\n",
       "6 ENSG00000121691"
      ]
     },
     "metadata": {},
     "output_type": "display_data"
    }
   ],
   "source": [
    "fdiry = file.path(\n",
    "    FD_RES, \n",
    "    \"results\", \n",
    "    \"region\",\n",
    "    folder_annot\n",
    ")\n",
    "fname  = \"*peak*.bed.gz\"\n",
    "fglob  = file.path(fdiry, fname)\n",
    "fpaths = Sys.glob(fglob)\n",
    "\n",
    "cnames = dat_cnames$Name\n",
    "\n",
    "lst = lapply(fpaths, function(fpath){\n",
    "    dat = read_tsv(fpath, col_names = cnames, show_col_types = FALSE)\n",
    "    return(dat)\n",
    "})\n",
    "\n",
    "lst_dat_region = lst\n",
    "head(lst[[1]])"
   ]
  },
  {
   "cell_type": "code",
   "execution_count": 84,
   "metadata": {},
   "outputs": [
    {
     "name": "stdout",
     "output_type": "stream",
     "text": [
      "[1] 71  7\n"
     ]
    },
    {
     "data": {
      "text/html": [
       "<table class=\"dataframe\">\n",
       "<caption>A tibble: 6 × 7</caption>\n",
       "<thead>\n",
       "\t<tr><th scope=col>Chrom</th><th scope=col>Start</th><th scope=col>End</th><th scope=col>Name</th><th scope=col>Score</th><th scope=col>Strand</th><th scope=col>Gene_Symbol</th></tr>\n",
       "\t<tr><th scope=col>&lt;chr&gt;</th><th scope=col>&lt;dbl&gt;</th><th scope=col>&lt;dbl&gt;</th><th scope=col>&lt;chr&gt;</th><th scope=col>&lt;dbl&gt;</th><th scope=col>&lt;chr&gt;</th><th scope=col>&lt;chr&gt;</th></tr>\n",
       "</thead>\n",
       "<tbody>\n",
       "\t<tr><td>chr11</td><td>5253147</td><td>5253547</td><td>chr11:5253147-5253547</td><td>1.3303423</td><td>.</td><td>HBG1</td></tr>\n",
       "\t<tr><td>chr11</td><td>5253147</td><td>5253547</td><td>chr11:5253147-5253547</td><td>1.3232571</td><td>.</td><td>HBG2</td></tr>\n",
       "\t<tr><td>chr11</td><td>5280447</td><td>5281147</td><td>chr11:5280447-5281147</td><td>1.8384635</td><td>.</td><td>HBE1</td></tr>\n",
       "\t<tr><td>chr11</td><td>5284147</td><td>5286047</td><td>chr11:5284147-5286047</td><td>1.8675340</td><td>.</td><td>HBE1</td></tr>\n",
       "\t<tr><td>chr11</td><td>5287947</td><td>5288547</td><td>chr11:5287947-5288547</td><td>0.7740956</td><td>.</td><td>HBE1</td></tr>\n",
       "\t<tr><td>chr11</td><td>5279747</td><td>5281147</td><td>chr11:5279747-5281147</td><td>3.5807704</td><td>.</td><td>HBG1</td></tr>\n",
       "</tbody>\n",
       "</table>\n"
      ],
      "text/latex": [
       "A tibble: 6 × 7\n",
       "\\begin{tabular}{lllllll}\n",
       " Chrom & Start & End & Name & Score & Strand & Gene\\_Symbol\\\\\n",
       " <chr> & <dbl> & <dbl> & <chr> & <dbl> & <chr> & <chr>\\\\\n",
       "\\hline\n",
       "\t chr11 & 5253147 & 5253547 & chr11:5253147-5253547 & 1.3303423 & . & HBG1\\\\\n",
       "\t chr11 & 5253147 & 5253547 & chr11:5253147-5253547 & 1.3232571 & . & HBG2\\\\\n",
       "\t chr11 & 5280447 & 5281147 & chr11:5280447-5281147 & 1.8384635 & . & HBE1\\\\\n",
       "\t chr11 & 5284147 & 5286047 & chr11:5284147-5286047 & 1.8675340 & . & HBE1\\\\\n",
       "\t chr11 & 5287947 & 5288547 & chr11:5287947-5288547 & 0.7740956 & . & HBE1\\\\\n",
       "\t chr11 & 5279747 & 5281147 & chr11:5279747-5281147 & 3.5807704 & . & HBG1\\\\\n",
       "\\end{tabular}\n"
      ],
      "text/markdown": [
       "\n",
       "A tibble: 6 × 7\n",
       "\n",
       "| Chrom &lt;chr&gt; | Start &lt;dbl&gt; | End &lt;dbl&gt; | Name &lt;chr&gt; | Score &lt;dbl&gt; | Strand &lt;chr&gt; | Gene_Symbol &lt;chr&gt; |\n",
       "|---|---|---|---|---|---|---|\n",
       "| chr11 | 5253147 | 5253547 | chr11:5253147-5253547 | 1.3303423 | . | HBG1 |\n",
       "| chr11 | 5253147 | 5253547 | chr11:5253147-5253547 | 1.3232571 | . | HBG2 |\n",
       "| chr11 | 5280447 | 5281147 | chr11:5280447-5281147 | 1.8384635 | . | HBE1 |\n",
       "| chr11 | 5284147 | 5286047 | chr11:5284147-5286047 | 1.8675340 | . | HBE1 |\n",
       "| chr11 | 5287947 | 5288547 | chr11:5287947-5288547 | 0.7740956 | . | HBE1 |\n",
       "| chr11 | 5279747 | 5281147 | chr11:5279747-5281147 | 3.5807704 | . | HBG1 |\n",
       "\n"
      ],
      "text/plain": [
       "  Chrom Start   End     Name                  Score     Strand Gene_Symbol\n",
       "1 chr11 5253147 5253547 chr11:5253147-5253547 1.3303423 .      HBG1       \n",
       "2 chr11 5253147 5253547 chr11:5253147-5253547 1.3232571 .      HBG2       \n",
       "3 chr11 5280447 5281147 chr11:5280447-5281147 1.8384635 .      HBE1       \n",
       "4 chr11 5284147 5286047 chr11:5284147-5286047 1.8675340 .      HBE1       \n",
       "5 chr11 5287947 5288547 chr11:5287947-5288547 0.7740956 .      HBE1       \n",
       "6 chr11 5279747 5281147 chr11:5279747-5281147 3.5807704 .      HBG1       "
      ]
     },
     "metadata": {},
     "output_type": "display_data"
    }
   ],
   "source": [
    "dat = bind_rows(lst_dat_loopA, lst_dat_loopB)\n",
    "dat = dat %>% \n",
    "    dplyr::select(Chrom, Start, End, Name, Score, Strand, Gene_Symbol) %>% \n",
    "    dplyr::distinct() %>% \n",
    "    dplyr::mutate(Name = paste0(Chrom, \":\", Start, \"-\", End))\n",
    "\n",
    "dat_region_looped = dat\n",
    "print(dim(dat))\n",
    "head(dat)"
   ]
  },
  {
   "cell_type": "code",
   "execution_count": 85,
   "metadata": {},
   "outputs": [
    {
     "name": "stdout",
     "output_type": "stream",
     "text": [
      "[1] 113   7\n"
     ]
    },
    {
     "data": {
      "text/html": [
       "<table class=\"dataframe\">\n",
       "<caption>A tibble: 6 × 7</caption>\n",
       "<thead>\n",
       "\t<tr><th scope=col>Chrom</th><th scope=col>Start</th><th scope=col>End</th><th scope=col>Name</th><th scope=col>Score</th><th scope=col>Strand</th><th scope=col>Gene_Symbol</th></tr>\n",
       "\t<tr><th scope=col>&lt;chr&gt;</th><th scope=col>&lt;dbl&gt;</th><th scope=col>&lt;dbl&gt;</th><th scope=col>&lt;chr&gt;</th><th scope=col>&lt;dbl&gt;</th><th scope=col>&lt;chr&gt;</th><th scope=col>&lt;chr&gt;</th></tr>\n",
       "</thead>\n",
       "<tbody>\n",
       "\t<tr><td>chr11</td><td>33944871</td><td>33945471</td><td>chr11:33944871-33945471</td><td>0.8037646</td><td>.</td><td>CAPRIN1</td></tr>\n",
       "\t<tr><td>chr11</td><td>34050971</td><td>34051471</td><td>chr11:34050971-34051471</td><td>0.9739873</td><td>.</td><td>CAPRIN1</td></tr>\n",
       "\t<tr><td>chr11</td><td>34051571</td><td>34054171</td><td>chr11:34051571-34054171</td><td>2.0642907</td><td>.</td><td>CAPRIN1</td></tr>\n",
       "\t<tr><td>chr11</td><td>34085871</td><td>34086871</td><td>chr11:34085871-34086871</td><td>1.0092724</td><td>.</td><td>CAPRIN1</td></tr>\n",
       "\t<tr><td>chr11</td><td>33944868</td><td>33945268</td><td>chr11:33944868-33945268</td><td>1.2146755</td><td>.</td><td>CAT    </td></tr>\n",
       "\t<tr><td>chr11</td><td>34437468</td><td>34440568</td><td>chr11:34437468-34440568</td><td>3.2866681</td><td>.</td><td>CAT    </td></tr>\n",
       "</tbody>\n",
       "</table>\n"
      ],
      "text/latex": [
       "A tibble: 6 × 7\n",
       "\\begin{tabular}{lllllll}\n",
       " Chrom & Start & End & Name & Score & Strand & Gene\\_Symbol\\\\\n",
       " <chr> & <dbl> & <dbl> & <chr> & <dbl> & <chr> & <chr>\\\\\n",
       "\\hline\n",
       "\t chr11 & 33944871 & 33945471 & chr11:33944871-33945471 & 0.8037646 & . & CAPRIN1\\\\\n",
       "\t chr11 & 34050971 & 34051471 & chr11:34050971-34051471 & 0.9739873 & . & CAPRIN1\\\\\n",
       "\t chr11 & 34051571 & 34054171 & chr11:34051571-34054171 & 2.0642907 & . & CAPRIN1\\\\\n",
       "\t chr11 & 34085871 & 34086871 & chr11:34085871-34086871 & 1.0092724 & . & CAPRIN1\\\\\n",
       "\t chr11 & 33944868 & 33945268 & chr11:33944868-33945268 & 1.2146755 & . & CAT    \\\\\n",
       "\t chr11 & 34437468 & 34440568 & chr11:34437468-34440568 & 3.2866681 & . & CAT    \\\\\n",
       "\\end{tabular}\n"
      ],
      "text/markdown": [
       "\n",
       "A tibble: 6 × 7\n",
       "\n",
       "| Chrom &lt;chr&gt; | Start &lt;dbl&gt; | End &lt;dbl&gt; | Name &lt;chr&gt; | Score &lt;dbl&gt; | Strand &lt;chr&gt; | Gene_Symbol &lt;chr&gt; |\n",
       "|---|---|---|---|---|---|---|\n",
       "| chr11 | 33944871 | 33945471 | chr11:33944871-33945471 | 0.8037646 | . | CAPRIN1 |\n",
       "| chr11 | 34050971 | 34051471 | chr11:34050971-34051471 | 0.9739873 | . | CAPRIN1 |\n",
       "| chr11 | 34051571 | 34054171 | chr11:34051571-34054171 | 2.0642907 | . | CAPRIN1 |\n",
       "| chr11 | 34085871 | 34086871 | chr11:34085871-34086871 | 1.0092724 | . | CAPRIN1 |\n",
       "| chr11 | 33944868 | 33945268 | chr11:33944868-33945268 | 1.2146755 | . | CAT     |\n",
       "| chr11 | 34437468 | 34440568 | chr11:34437468-34440568 | 3.2866681 | . | CAT     |\n",
       "\n"
      ],
      "text/plain": [
       "  Chrom Start    End      Name                    Score     Strand Gene_Symbol\n",
       "1 chr11 33944871 33945471 chr11:33944871-33945471 0.8037646 .      CAPRIN1    \n",
       "2 chr11 34050971 34051471 chr11:34050971-34051471 0.9739873 .      CAPRIN1    \n",
       "3 chr11 34051571 34054171 chr11:34051571-34054171 2.0642907 .      CAPRIN1    \n",
       "4 chr11 34085871 34086871 chr11:34085871-34086871 1.0092724 .      CAPRIN1    \n",
       "5 chr11 33944868 33945268 chr11:33944868-33945268 1.2146755 .      CAT        \n",
       "6 chr11 34437468 34440568 chr11:34437468-34440568 3.2866681 .      CAT        "
      ]
     },
     "metadata": {},
     "output_type": "display_data"
    }
   ],
   "source": [
    "dat = bind_rows(lst_dat_region)\n",
    "dat = dat %>% \n",
    "    dplyr::select(Chrom, Start, End, Name, Score, Strand, Gene_Symbol) %>% \n",
    "    dplyr::distinct() %>% \n",
    "    dplyr::mutate(Name = paste0(Chrom, \":\", Start, \"-\", End))\n",
    "\n",
    "dat_region_total = dat\n",
    "print(dim(dat))\n",
    "head(dat)"
   ]
  },
  {
   "cell_type": "code",
   "execution_count": 91,
   "metadata": {},
   "outputs": [
    {
     "name": "stdout",
     "output_type": "stream",
     "text": [
      "[1] 42\n"
     ]
    },
    {
     "data": {
      "text/html": [
       "<table class=\"dataframe\">\n",
       "<caption>A data.frame: 2 × 3</caption>\n",
       "<thead>\n",
       "\t<tr><th scope=col>Label</th><th scope=col>Count</th><th scope=col>Assay</th></tr>\n",
       "\t<tr><th scope=col>&lt;fct&gt;</th><th scope=col>&lt;int&gt;</th><th scope=col>&lt;chr&gt;</th></tr>\n",
       "</thead>\n",
       "<tbody>\n",
       "\t<tr><td>Looped    </td><td>71</td><td>CRISPRi-HCRFF</td></tr>\n",
       "\t<tr><td>Not Looped</td><td>42</td><td>CRISPRi-HCRFF</td></tr>\n",
       "</tbody>\n",
       "</table>\n"
      ],
      "text/latex": [
       "A data.frame: 2 × 3\n",
       "\\begin{tabular}{lll}\n",
       " Label & Count & Assay\\\\\n",
       " <fct> & <int> & <chr>\\\\\n",
       "\\hline\n",
       "\t Looped     & 71 & CRISPRi-HCRFF\\\\\n",
       "\t Not Looped & 42 & CRISPRi-HCRFF\\\\\n",
       "\\end{tabular}\n"
      ],
      "text/markdown": [
       "\n",
       "A data.frame: 2 × 3\n",
       "\n",
       "| Label &lt;fct&gt; | Count &lt;int&gt; | Assay &lt;chr&gt; |\n",
       "|---|---|---|\n",
       "| Looped     | 71 | CRISPRi-HCRFF |\n",
       "| Not Looped | 42 | CRISPRi-HCRFF |\n",
       "\n"
      ],
      "text/plain": [
       "  Label      Count Assay        \n",
       "1 Looped     71    CRISPRi-HCRFF\n",
       "2 Not Looped 42    CRISPRi-HCRFF"
      ]
     },
     "metadata": {},
     "output_type": "display_data"
    }
   ],
   "source": [
    "dat1 = dat_region_looped\n",
    "dat2 = dat_region_total\n",
    "print(nrow(dat2) - nrow(dat1))\n",
    "\n",
    "vec1 = dat1$Name\n",
    "vec2 = dat2$Name\n",
    "\n",
    "dat = data.frame(\n",
    "    Region = vec2,\n",
    "    Label  = ifelse(vec2 %in% vec1, \"Looped\", \"Not Looped\")\n",
    ")\n",
    "\n",
    "dat = table(dat$Label) %>%\n",
    "    as.data.frame %>%\n",
    "    dplyr::mutate(Assay = \"CRISPRi-HCRFF\")\n",
    "colnames(dat) = c(\"Label\", \"Count\", \"Assay\")\n",
    "\n",
    "dat_region_summary_crispri_hcrff = dat\n",
    "dat"
   ]
  },
  {
   "cell_type": "markdown",
   "metadata": {},
   "source": [
    "## enhancer calls"
   ]
  },
  {
   "cell_type": "code",
   "execution_count": 92,
   "metadata": {},
   "outputs": [
    {
     "name": "stdout",
     "output_type": "stream",
     "text": [
      "[1] 7 2\n"
     ]
    },
    {
     "data": {
      "text/html": [
       "<table class=\"dataframe\">\n",
       "<caption>A spec_tbl_df: 7 × 2</caption>\n",
       "<thead>\n",
       "\t<tr><th scope=col>Name</th><th scope=col>Description</th></tr>\n",
       "\t<tr><th scope=col>&lt;chr&gt;</th><th scope=col>&lt;chr&gt;</th></tr>\n",
       "</thead>\n",
       "<tbody>\n",
       "\t<tr><td>Chrom </td><td>Seqnames                   </td></tr>\n",
       "\t<tr><td>Start </td><td>Start                      </td></tr>\n",
       "\t<tr><td>End   </td><td>End                        </td></tr>\n",
       "\t<tr><td>Name  </td><td>Name                       </td></tr>\n",
       "\t<tr><td>Score </td><td>Z_score based on mean logFC</td></tr>\n",
       "\t<tr><td>Strand</td><td>Strand                     </td></tr>\n",
       "\t<tr><td>Assay </td><td>Assay type                 </td></tr>\n",
       "</tbody>\n",
       "</table>\n"
      ],
      "text/latex": [
       "A spec\\_tbl\\_df: 7 × 2\n",
       "\\begin{tabular}{ll}\n",
       " Name & Description\\\\\n",
       " <chr> & <chr>\\\\\n",
       "\\hline\n",
       "\t Chrom  & Seqnames                   \\\\\n",
       "\t Start  & Start                      \\\\\n",
       "\t End    & End                        \\\\\n",
       "\t Name   & Name                       \\\\\n",
       "\t Score  & Z\\_score based on mean logFC\\\\\n",
       "\t Strand & Strand                     \\\\\n",
       "\t Assay  & Assay type                 \\\\\n",
       "\\end{tabular}\n"
      ],
      "text/markdown": [
       "\n",
       "A spec_tbl_df: 7 × 2\n",
       "\n",
       "| Name &lt;chr&gt; | Description &lt;chr&gt; |\n",
       "|---|---|\n",
       "| Chrom  | Seqnames                    |\n",
       "| Start  | Start                       |\n",
       "| End    | End                         |\n",
       "| Name   | Name                        |\n",
       "| Score  | Z_score based on mean logFC |\n",
       "| Strand | Strand                      |\n",
       "| Assay  | Assay type                  |\n",
       "\n"
      ],
      "text/plain": [
       "  Name   Description                \n",
       "1 Chrom  Seqnames                   \n",
       "2 Start  Start                      \n",
       "3 End    End                        \n",
       "4 Name   Name                       \n",
       "5 Score  Z_score based on mean logFC\n",
       "6 Strand Strand                     \n",
       "7 Assay  Assay type                 "
      ]
     },
     "metadata": {},
     "output_type": "display_data"
    }
   ],
   "source": [
    "fdiry = file.path(\n",
    "    FD_RES, \n",
    "    \"results\", \n",
    "    \"region\", \n",
    "    \"annotation_enhancer_zscore_junke\")\n",
    "fname = \"description.tsv\"\n",
    "fpath = file.path(fdiry, fname)\n",
    "\n",
    "dat = read_tsv(fpath, show_col_types = FALSE)\n",
    "\n",
    "dat_cnames = dat\n",
    "print(dim(dat))\n",
    "dat"
   ]
  },
  {
   "cell_type": "code",
   "execution_count": 93,
   "metadata": {},
   "outputs": [
    {
     "data": {
      "text/html": [
       "<table class=\"dataframe\">\n",
       "<caption>A tibble: 6 × 13</caption>\n",
       "<thead>\n",
       "\t<tr><th scope=col>Chrom_Loop</th><th scope=col>Start_Loop</th><th scope=col>End_Loop</th><th scope=col>Chrom</th><th scope=col>Start</th><th scope=col>End</th><th scope=col>Name</th><th scope=col>Score</th><th scope=col>Strand</th><th scope=col>Assay</th><th scope=col>Overlap</th><th scope=col>Loop_Side</th><th scope=col>Loop_Region</th></tr>\n",
       "\t<tr><th scope=col>&lt;chr&gt;</th><th scope=col>&lt;dbl&gt;</th><th scope=col>&lt;dbl&gt;</th><th scope=col>&lt;chr&gt;</th><th scope=col>&lt;dbl&gt;</th><th scope=col>&lt;dbl&gt;</th><th scope=col>&lt;chr&gt;</th><th scope=col>&lt;dbl&gt;</th><th scope=col>&lt;chr&gt;</th><th scope=col>&lt;chr&gt;</th><th scope=col>&lt;dbl&gt;</th><th scope=col>&lt;chr&gt;</th><th scope=col>&lt;chr&gt;</th></tr>\n",
       "</thead>\n",
       "<tbody>\n",
       "\t<tr><td>chr1</td><td> 5915000</td><td> 5920000</td><td>chr1</td><td> 5917710</td><td> 5917930</td><td>peak_both_6 </td><td>2.16929</td><td>.</td><td>ASTARR</td><td>220</td><td>LoopA</td><td>chr1:5915000-End_Loop </td></tr>\n",
       "\t<tr><td>chr1</td><td>11842000</td><td>11843000</td><td>chr1</td><td>11842320</td><td>11842500</td><td>peak_both_14</td><td>2.27415</td><td>.</td><td>ASTARR</td><td>180</td><td>LoopA</td><td>chr1:11842000-End_Loop</td></tr>\n",
       "\t<tr><td>chr1</td><td>11842000</td><td>11844000</td><td>chr1</td><td>11842320</td><td>11842500</td><td>peak_both_14</td><td>2.27415</td><td>.</td><td>ASTARR</td><td>180</td><td>LoopA</td><td>chr1:11842000-End_Loop</td></tr>\n",
       "\t<tr><td>chr1</td><td>12448000</td><td>12450000</td><td>chr1</td><td>12448880</td><td>12449190</td><td>peak_both_15</td><td>2.36353</td><td>.</td><td>ASTARR</td><td>310</td><td>LoopA</td><td>chr1:12448000-End_Loop</td></tr>\n",
       "\t<tr><td>chr1</td><td>12448000</td><td>12450000</td><td>chr1</td><td>12448880</td><td>12449190</td><td>peak_both_15</td><td>2.36353</td><td>.</td><td>ASTARR</td><td>310</td><td>LoopA</td><td>chr1:12448000-End_Loop</td></tr>\n",
       "\t<tr><td>chr1</td><td>14422000</td><td>14424000</td><td>chr1</td><td>14422210</td><td>14422360</td><td>peak_both_19</td><td>2.11237</td><td>.</td><td>ASTARR</td><td>150</td><td>LoopA</td><td>chr1:14422000-End_Loop</td></tr>\n",
       "</tbody>\n",
       "</table>\n"
      ],
      "text/latex": [
       "A tibble: 6 × 13\n",
       "\\begin{tabular}{lllllllllllll}\n",
       " Chrom\\_Loop & Start\\_Loop & End\\_Loop & Chrom & Start & End & Name & Score & Strand & Assay & Overlap & Loop\\_Side & Loop\\_Region\\\\\n",
       " <chr> & <dbl> & <dbl> & <chr> & <dbl> & <dbl> & <chr> & <dbl> & <chr> & <chr> & <dbl> & <chr> & <chr>\\\\\n",
       "\\hline\n",
       "\t chr1 &  5915000 &  5920000 & chr1 &  5917710 &  5917930 & peak\\_both\\_6  & 2.16929 & . & ASTARR & 220 & LoopA & chr1:5915000-End\\_Loop \\\\\n",
       "\t chr1 & 11842000 & 11843000 & chr1 & 11842320 & 11842500 & peak\\_both\\_14 & 2.27415 & . & ASTARR & 180 & LoopA & chr1:11842000-End\\_Loop\\\\\n",
       "\t chr1 & 11842000 & 11844000 & chr1 & 11842320 & 11842500 & peak\\_both\\_14 & 2.27415 & . & ASTARR & 180 & LoopA & chr1:11842000-End\\_Loop\\\\\n",
       "\t chr1 & 12448000 & 12450000 & chr1 & 12448880 & 12449190 & peak\\_both\\_15 & 2.36353 & . & ASTARR & 310 & LoopA & chr1:12448000-End\\_Loop\\\\\n",
       "\t chr1 & 12448000 & 12450000 & chr1 & 12448880 & 12449190 & peak\\_both\\_15 & 2.36353 & . & ASTARR & 310 & LoopA & chr1:12448000-End\\_Loop\\\\\n",
       "\t chr1 & 14422000 & 14424000 & chr1 & 14422210 & 14422360 & peak\\_both\\_19 & 2.11237 & . & ASTARR & 150 & LoopA & chr1:14422000-End\\_Loop\\\\\n",
       "\\end{tabular}\n"
      ],
      "text/markdown": [
       "\n",
       "A tibble: 6 × 13\n",
       "\n",
       "| Chrom_Loop &lt;chr&gt; | Start_Loop &lt;dbl&gt; | End_Loop &lt;dbl&gt; | Chrom &lt;chr&gt; | Start &lt;dbl&gt; | End &lt;dbl&gt; | Name &lt;chr&gt; | Score &lt;dbl&gt; | Strand &lt;chr&gt; | Assay &lt;chr&gt; | Overlap &lt;dbl&gt; | Loop_Side &lt;chr&gt; | Loop_Region &lt;chr&gt; |\n",
       "|---|---|---|---|---|---|---|---|---|---|---|---|---|\n",
       "| chr1 |  5915000 |  5920000 | chr1 |  5917710 |  5917930 | peak_both_6  | 2.16929 | . | ASTARR | 220 | LoopA | chr1:5915000-End_Loop  |\n",
       "| chr1 | 11842000 | 11843000 | chr1 | 11842320 | 11842500 | peak_both_14 | 2.27415 | . | ASTARR | 180 | LoopA | chr1:11842000-End_Loop |\n",
       "| chr1 | 11842000 | 11844000 | chr1 | 11842320 | 11842500 | peak_both_14 | 2.27415 | . | ASTARR | 180 | LoopA | chr1:11842000-End_Loop |\n",
       "| chr1 | 12448000 | 12450000 | chr1 | 12448880 | 12449190 | peak_both_15 | 2.36353 | . | ASTARR | 310 | LoopA | chr1:12448000-End_Loop |\n",
       "| chr1 | 12448000 | 12450000 | chr1 | 12448880 | 12449190 | peak_both_15 | 2.36353 | . | ASTARR | 310 | LoopA | chr1:12448000-End_Loop |\n",
       "| chr1 | 14422000 | 14424000 | chr1 | 14422210 | 14422360 | peak_both_19 | 2.11237 | . | ASTARR | 150 | LoopA | chr1:14422000-End_Loop |\n",
       "\n"
      ],
      "text/plain": [
       "  Chrom_Loop Start_Loop End_Loop Chrom Start    End      Name         Score  \n",
       "1 chr1        5915000    5920000 chr1   5917710  5917930 peak_both_6  2.16929\n",
       "2 chr1       11842000   11843000 chr1  11842320 11842500 peak_both_14 2.27415\n",
       "3 chr1       11842000   11844000 chr1  11842320 11842500 peak_both_14 2.27415\n",
       "4 chr1       12448000   12450000 chr1  12448880 12449190 peak_both_15 2.36353\n",
       "5 chr1       12448000   12450000 chr1  12448880 12449190 peak_both_15 2.36353\n",
       "6 chr1       14422000   14424000 chr1  14422210 14422360 peak_both_19 2.11237\n",
       "  Strand Assay  Overlap Loop_Side Loop_Region           \n",
       "1 .      ASTARR 220     LoopA     chr1:5915000-End_Loop \n",
       "2 .      ASTARR 180     LoopA     chr1:11842000-End_Loop\n",
       "3 .      ASTARR 180     LoopA     chr1:11842000-End_Loop\n",
       "4 .      ASTARR 310     LoopA     chr1:12448000-End_Loop\n",
       "5 .      ASTARR 310     LoopA     chr1:12448000-End_Loop\n",
       "6 .      ASTARR 150     LoopA     chr1:14422000-End_Loop"
      ]
     },
     "metadata": {},
     "output_type": "display_data"
    }
   ],
   "source": [
    "loop_side   = \"LoopA\"\n",
    "\n",
    "fdiry = file.path(\n",
    "    FD_RES, \n",
    "    \"results\", \n",
    "    \"region\", \n",
    "    \"hic_intact_ENCSR479XDG\", \n",
    "    \"loop\",\n",
    "    \"annotation_enhancer_zscore_junke\"\n",
    ")\n",
    "fname  = \"loopA*peak*.bed.gz\"\n",
    "fglob  = file.path(fdiry, fname)\n",
    "fpaths = Sys.glob(fglob)\n",
    "\n",
    "\n",
    "cnames = dat_cnames$Name\n",
    "cnames = c(\"Chrom_Loop\", \"Start_Loop\", \"End_Loop\", cnames, \"Overlap\")\n",
    "\n",
    "lst = lapply(fpaths, function(fpath){\n",
    "    dat = read_tsv(fpath, col_names = cnames, show_col_types = FALSE)\n",
    "    dat = dat %>% dplyr::mutate(\n",
    "        Loop_Side   = loop_side,\n",
    "        Loop_Region = paste0(Chrom_Loop, \":\", Start_Loop, \"-\", \"End_Loop\")\n",
    "    )\n",
    "    return(dat)\n",
    "})\n",
    "lst_dat_loopA = lst\n",
    "head(lst[[1]])"
   ]
  },
  {
   "cell_type": "code",
   "execution_count": 94,
   "metadata": {},
   "outputs": [
    {
     "data": {
      "text/html": [
       "<table class=\"dataframe\">\n",
       "<caption>A tibble: 6 × 13</caption>\n",
       "<thead>\n",
       "\t<tr><th scope=col>Chrom_Loop</th><th scope=col>Start_Loop</th><th scope=col>End_Loop</th><th scope=col>Chrom</th><th scope=col>Start</th><th scope=col>End</th><th scope=col>Name</th><th scope=col>Score</th><th scope=col>Strand</th><th scope=col>Assay</th><th scope=col>Overlap</th><th scope=col>Loop_Side</th><th scope=col>Loop_Region</th></tr>\n",
       "\t<tr><th scope=col>&lt;chr&gt;</th><th scope=col>&lt;dbl&gt;</th><th scope=col>&lt;dbl&gt;</th><th scope=col>&lt;chr&gt;</th><th scope=col>&lt;dbl&gt;</th><th scope=col>&lt;dbl&gt;</th><th scope=col>&lt;chr&gt;</th><th scope=col>&lt;dbl&gt;</th><th scope=col>&lt;chr&gt;</th><th scope=col>&lt;chr&gt;</th><th scope=col>&lt;dbl&gt;</th><th scope=col>&lt;chr&gt;</th><th scope=col>&lt;chr&gt;</th></tr>\n",
       "</thead>\n",
       "<tbody>\n",
       "\t<tr><td>chr1</td><td> 5910000</td><td> 5920000</td><td>chr1</td><td> 5917710</td><td> 5917930</td><td>peak_both_6 </td><td>2.16929</td><td>.</td><td>ASTARR</td><td>220</td><td>LoopB</td><td>chr1:5910000-End_Loop </td></tr>\n",
       "\t<tr><td>chr1</td><td> 5915000</td><td> 5920000</td><td>chr1</td><td> 5917710</td><td> 5917930</td><td>peak_both_6 </td><td>2.16929</td><td>.</td><td>ASTARR</td><td>220</td><td>LoopB</td><td>chr1:5915000-End_Loop </td></tr>\n",
       "\t<tr><td>chr1</td><td> 5916000</td><td> 5918000</td><td>chr1</td><td> 5917710</td><td> 5917930</td><td>peak_both_6 </td><td>2.16929</td><td>.</td><td>ASTARR</td><td>220</td><td>LoopB</td><td>chr1:5916000-End_Loop </td></tr>\n",
       "\t<tr><td>chr1</td><td> 8900000</td><td> 8902000</td><td>chr1</td><td> 8900040</td><td> 8900240</td><td>peak_both_11</td><td>2.21447</td><td>.</td><td>ASTARR</td><td>200</td><td>LoopB</td><td>chr1:8900000-End_Loop </td></tr>\n",
       "\t<tr><td>chr1</td><td> 8900000</td><td> 8910000</td><td>chr1</td><td> 8900040</td><td> 8900240</td><td>peak_both_11</td><td>2.21447</td><td>.</td><td>ASTARR</td><td>200</td><td>LoopB</td><td>chr1:8900000-End_Loop </td></tr>\n",
       "\t<tr><td>chr1</td><td>11795000</td><td>11800000</td><td>chr1</td><td>11797900</td><td>11798080</td><td>peak_both_13</td><td>2.14054</td><td>.</td><td>ASTARR</td><td>180</td><td>LoopB</td><td>chr1:11795000-End_Loop</td></tr>\n",
       "</tbody>\n",
       "</table>\n"
      ],
      "text/latex": [
       "A tibble: 6 × 13\n",
       "\\begin{tabular}{lllllllllllll}\n",
       " Chrom\\_Loop & Start\\_Loop & End\\_Loop & Chrom & Start & End & Name & Score & Strand & Assay & Overlap & Loop\\_Side & Loop\\_Region\\\\\n",
       " <chr> & <dbl> & <dbl> & <chr> & <dbl> & <dbl> & <chr> & <dbl> & <chr> & <chr> & <dbl> & <chr> & <chr>\\\\\n",
       "\\hline\n",
       "\t chr1 &  5910000 &  5920000 & chr1 &  5917710 &  5917930 & peak\\_both\\_6  & 2.16929 & . & ASTARR & 220 & LoopB & chr1:5910000-End\\_Loop \\\\\n",
       "\t chr1 &  5915000 &  5920000 & chr1 &  5917710 &  5917930 & peak\\_both\\_6  & 2.16929 & . & ASTARR & 220 & LoopB & chr1:5915000-End\\_Loop \\\\\n",
       "\t chr1 &  5916000 &  5918000 & chr1 &  5917710 &  5917930 & peak\\_both\\_6  & 2.16929 & . & ASTARR & 220 & LoopB & chr1:5916000-End\\_Loop \\\\\n",
       "\t chr1 &  8900000 &  8902000 & chr1 &  8900040 &  8900240 & peak\\_both\\_11 & 2.21447 & . & ASTARR & 200 & LoopB & chr1:8900000-End\\_Loop \\\\\n",
       "\t chr1 &  8900000 &  8910000 & chr1 &  8900040 &  8900240 & peak\\_both\\_11 & 2.21447 & . & ASTARR & 200 & LoopB & chr1:8900000-End\\_Loop \\\\\n",
       "\t chr1 & 11795000 & 11800000 & chr1 & 11797900 & 11798080 & peak\\_both\\_13 & 2.14054 & . & ASTARR & 180 & LoopB & chr1:11795000-End\\_Loop\\\\\n",
       "\\end{tabular}\n"
      ],
      "text/markdown": [
       "\n",
       "A tibble: 6 × 13\n",
       "\n",
       "| Chrom_Loop &lt;chr&gt; | Start_Loop &lt;dbl&gt; | End_Loop &lt;dbl&gt; | Chrom &lt;chr&gt; | Start &lt;dbl&gt; | End &lt;dbl&gt; | Name &lt;chr&gt; | Score &lt;dbl&gt; | Strand &lt;chr&gt; | Assay &lt;chr&gt; | Overlap &lt;dbl&gt; | Loop_Side &lt;chr&gt; | Loop_Region &lt;chr&gt; |\n",
       "|---|---|---|---|---|---|---|---|---|---|---|---|---|\n",
       "| chr1 |  5910000 |  5920000 | chr1 |  5917710 |  5917930 | peak_both_6  | 2.16929 | . | ASTARR | 220 | LoopB | chr1:5910000-End_Loop  |\n",
       "| chr1 |  5915000 |  5920000 | chr1 |  5917710 |  5917930 | peak_both_6  | 2.16929 | . | ASTARR | 220 | LoopB | chr1:5915000-End_Loop  |\n",
       "| chr1 |  5916000 |  5918000 | chr1 |  5917710 |  5917930 | peak_both_6  | 2.16929 | . | ASTARR | 220 | LoopB | chr1:5916000-End_Loop  |\n",
       "| chr1 |  8900000 |  8902000 | chr1 |  8900040 |  8900240 | peak_both_11 | 2.21447 | . | ASTARR | 200 | LoopB | chr1:8900000-End_Loop  |\n",
       "| chr1 |  8900000 |  8910000 | chr1 |  8900040 |  8900240 | peak_both_11 | 2.21447 | . | ASTARR | 200 | LoopB | chr1:8900000-End_Loop  |\n",
       "| chr1 | 11795000 | 11800000 | chr1 | 11797900 | 11798080 | peak_both_13 | 2.14054 | . | ASTARR | 180 | LoopB | chr1:11795000-End_Loop |\n",
       "\n"
      ],
      "text/plain": [
       "  Chrom_Loop Start_Loop End_Loop Chrom Start    End      Name         Score  \n",
       "1 chr1        5910000    5920000 chr1   5917710  5917930 peak_both_6  2.16929\n",
       "2 chr1        5915000    5920000 chr1   5917710  5917930 peak_both_6  2.16929\n",
       "3 chr1        5916000    5918000 chr1   5917710  5917930 peak_both_6  2.16929\n",
       "4 chr1        8900000    8902000 chr1   8900040  8900240 peak_both_11 2.21447\n",
       "5 chr1        8900000    8910000 chr1   8900040  8900240 peak_both_11 2.21447\n",
       "6 chr1       11795000   11800000 chr1  11797900 11798080 peak_both_13 2.14054\n",
       "  Strand Assay  Overlap Loop_Side Loop_Region           \n",
       "1 .      ASTARR 220     LoopB     chr1:5910000-End_Loop \n",
       "2 .      ASTARR 220     LoopB     chr1:5915000-End_Loop \n",
       "3 .      ASTARR 220     LoopB     chr1:5916000-End_Loop \n",
       "4 .      ASTARR 200     LoopB     chr1:8900000-End_Loop \n",
       "5 .      ASTARR 200     LoopB     chr1:8900000-End_Loop \n",
       "6 .      ASTARR 180     LoopB     chr1:11795000-End_Loop"
      ]
     },
     "metadata": {},
     "output_type": "display_data"
    }
   ],
   "source": [
    "loop_side   = \"LoopB\"\n",
    "\n",
    "fdiry = file.path(\n",
    "    FD_RES, \n",
    "    \"results\", \n",
    "    \"region\", \n",
    "    \"hic_intact_ENCSR479XDG\", \n",
    "    \"loop\",\n",
    "    \"annotation_enhancer_zscore_junke\"\n",
    ")\n",
    "fname  = \"loopB*peak*.bed.gz\"\n",
    "fglob  = file.path(fdiry, fname)\n",
    "fpaths = Sys.glob(fglob)\n",
    "\n",
    "\n",
    "cnames = dat_cnames$Name\n",
    "cnames = c(\"Chrom_Loop\", \"Start_Loop\", \"End_Loop\", cnames, \"Overlap\")\n",
    "\n",
    "lst = lapply(fpaths, function(fpath){\n",
    "    dat = read_tsv(fpath, col_names = cnames, show_col_types = FALSE)\n",
    "    dat = dat %>% dplyr::mutate(\n",
    "        Loop_Side   = loop_side,\n",
    "        Loop_Region = paste0(Chrom_Loop, \":\", Start_Loop, \"-\", \"End_Loop\")\n",
    "    )\n",
    "    return(dat)\n",
    "})\n",
    "lst_dat_loopB = lst\n",
    "head(lst[[1]])"
   ]
  },
  {
   "cell_type": "code",
   "execution_count": 95,
   "metadata": {},
   "outputs": [
    {
     "data": {
      "text/html": [
       "<table class=\"dataframe\">\n",
       "<caption>A tibble: 6 × 7</caption>\n",
       "<thead>\n",
       "\t<tr><th scope=col>Chrom</th><th scope=col>Start</th><th scope=col>End</th><th scope=col>Name</th><th scope=col>Score</th><th scope=col>Strand</th><th scope=col>Assay</th></tr>\n",
       "\t<tr><th scope=col>&lt;chr&gt;</th><th scope=col>&lt;dbl&gt;</th><th scope=col>&lt;dbl&gt;</th><th scope=col>&lt;chr&gt;</th><th scope=col>&lt;dbl&gt;</th><th scope=col>&lt;chr&gt;</th><th scope=col>&lt;chr&gt;</th></tr>\n",
       "</thead>\n",
       "<tbody>\n",
       "\t<tr><td>chr1</td><td>1013020</td><td>1013470</td><td>peak_both_1</td><td>2.18160</td><td>.</td><td>ASTARR</td></tr>\n",
       "\t<tr><td>chr1</td><td>1724540</td><td>1724700</td><td>peak_both_2</td><td>2.15437</td><td>.</td><td>ASTARR</td></tr>\n",
       "\t<tr><td>chr1</td><td>2290700</td><td>2291030</td><td>peak_both_3</td><td>2.38858</td><td>.</td><td>ASTARR</td></tr>\n",
       "\t<tr><td>chr1</td><td>3313260</td><td>3313400</td><td>peak_both_4</td><td>2.17945</td><td>.</td><td>ASTARR</td></tr>\n",
       "\t<tr><td>chr1</td><td>5856530</td><td>5856630</td><td>peak_both_5</td><td>1.99653</td><td>.</td><td>ASTARR</td></tr>\n",
       "\t<tr><td>chr1</td><td>5917710</td><td>5917930</td><td>peak_both_6</td><td>2.16929</td><td>.</td><td>ASTARR</td></tr>\n",
       "</tbody>\n",
       "</table>\n"
      ],
      "text/latex": [
       "A tibble: 6 × 7\n",
       "\\begin{tabular}{lllllll}\n",
       " Chrom & Start & End & Name & Score & Strand & Assay\\\\\n",
       " <chr> & <dbl> & <dbl> & <chr> & <dbl> & <chr> & <chr>\\\\\n",
       "\\hline\n",
       "\t chr1 & 1013020 & 1013470 & peak\\_both\\_1 & 2.18160 & . & ASTARR\\\\\n",
       "\t chr1 & 1724540 & 1724700 & peak\\_both\\_2 & 2.15437 & . & ASTARR\\\\\n",
       "\t chr1 & 2290700 & 2291030 & peak\\_both\\_3 & 2.38858 & . & ASTARR\\\\\n",
       "\t chr1 & 3313260 & 3313400 & peak\\_both\\_4 & 2.17945 & . & ASTARR\\\\\n",
       "\t chr1 & 5856530 & 5856630 & peak\\_both\\_5 & 1.99653 & . & ASTARR\\\\\n",
       "\t chr1 & 5917710 & 5917930 & peak\\_both\\_6 & 2.16929 & . & ASTARR\\\\\n",
       "\\end{tabular}\n"
      ],
      "text/markdown": [
       "\n",
       "A tibble: 6 × 7\n",
       "\n",
       "| Chrom &lt;chr&gt; | Start &lt;dbl&gt; | End &lt;dbl&gt; | Name &lt;chr&gt; | Score &lt;dbl&gt; | Strand &lt;chr&gt; | Assay &lt;chr&gt; |\n",
       "|---|---|---|---|---|---|---|\n",
       "| chr1 | 1013020 | 1013470 | peak_both_1 | 2.18160 | . | ASTARR |\n",
       "| chr1 | 1724540 | 1724700 | peak_both_2 | 2.15437 | . | ASTARR |\n",
       "| chr1 | 2290700 | 2291030 | peak_both_3 | 2.38858 | . | ASTARR |\n",
       "| chr1 | 3313260 | 3313400 | peak_both_4 | 2.17945 | . | ASTARR |\n",
       "| chr1 | 5856530 | 5856630 | peak_both_5 | 1.99653 | . | ASTARR |\n",
       "| chr1 | 5917710 | 5917930 | peak_both_6 | 2.16929 | . | ASTARR |\n",
       "\n"
      ],
      "text/plain": [
       "  Chrom Start   End     Name        Score   Strand Assay \n",
       "1 chr1  1013020 1013470 peak_both_1 2.18160 .      ASTARR\n",
       "2 chr1  1724540 1724700 peak_both_2 2.15437 .      ASTARR\n",
       "3 chr1  2290700 2291030 peak_both_3 2.38858 .      ASTARR\n",
       "4 chr1  3313260 3313400 peak_both_4 2.17945 .      ASTARR\n",
       "5 chr1  5856530 5856630 peak_both_5 1.99653 .      ASTARR\n",
       "6 chr1  5917710 5917930 peak_both_6 2.16929 .      ASTARR"
      ]
     },
     "metadata": {},
     "output_type": "display_data"
    }
   ],
   "source": [
    "fdiry = file.path(\n",
    "    FD_RES, \n",
    "    \"results\", \n",
    "    \"region\",\n",
    "    \"annotation_enhancer_zscore_junke\"\n",
    ")\n",
    "fname  = \"*peak*.bed.gz\"\n",
    "fglob  = file.path(fdiry, fname)\n",
    "fpaths = Sys.glob(fglob)\n",
    "\n",
    "cnames = dat_cnames$Name\n",
    "\n",
    "lst = lapply(fpaths, function(fpath){\n",
    "    dat = read_tsv(fpath, col_names = cnames, show_col_types = FALSE)\n",
    "    return(dat)\n",
    "})\n",
    "\n",
    "lst_dat_region = lst\n",
    "head(lst[[1]])"
   ]
  },
  {
   "cell_type": "code",
   "execution_count": null,
   "metadata": {},
   "outputs": [],
   "source": []
  },
  {
   "cell_type": "code",
   "execution_count": 96,
   "metadata": {},
   "outputs": [
    {
     "name": "stdout",
     "output_type": "stream",
     "text": [
      "[1] 19868     7\n"
     ]
    },
    {
     "data": {
      "text/html": [
       "<table class=\"dataframe\">\n",
       "<caption>A tibble: 6 × 7</caption>\n",
       "<thead>\n",
       "\t<tr><th scope=col>Chrom</th><th scope=col>Start</th><th scope=col>End</th><th scope=col>Name</th><th scope=col>Score</th><th scope=col>Strand</th><th scope=col>Assay</th></tr>\n",
       "\t<tr><th scope=col>&lt;chr&gt;</th><th scope=col>&lt;dbl&gt;</th><th scope=col>&lt;dbl&gt;</th><th scope=col>&lt;chr&gt;</th><th scope=col>&lt;dbl&gt;</th><th scope=col>&lt;chr&gt;</th><th scope=col>&lt;chr&gt;</th></tr>\n",
       "</thead>\n",
       "<tbody>\n",
       "\t<tr><td>chr1</td><td> 5917710</td><td> 5917930</td><td>chr1:5917710-5917930  </td><td>2.16929</td><td>.</td><td>ASTARR</td></tr>\n",
       "\t<tr><td>chr1</td><td>11842320</td><td>11842500</td><td>chr1:11842320-11842500</td><td>2.27415</td><td>.</td><td>ASTARR</td></tr>\n",
       "\t<tr><td>chr1</td><td>12448880</td><td>12449190</td><td>chr1:12448880-12449190</td><td>2.36353</td><td>.</td><td>ASTARR</td></tr>\n",
       "\t<tr><td>chr1</td><td>14422210</td><td>14422360</td><td>chr1:14422210-14422360</td><td>2.11237</td><td>.</td><td>ASTARR</td></tr>\n",
       "\t<tr><td>chr1</td><td>14437020</td><td>14437360</td><td>chr1:14437020-14437360</td><td>2.57142</td><td>.</td><td>ASTARR</td></tr>\n",
       "\t<tr><td>chr1</td><td>15952850</td><td>15953160</td><td>chr1:15952850-15953160</td><td>2.58023</td><td>.</td><td>ASTARR</td></tr>\n",
       "</tbody>\n",
       "</table>\n"
      ],
      "text/latex": [
       "A tibble: 6 × 7\n",
       "\\begin{tabular}{lllllll}\n",
       " Chrom & Start & End & Name & Score & Strand & Assay\\\\\n",
       " <chr> & <dbl> & <dbl> & <chr> & <dbl> & <chr> & <chr>\\\\\n",
       "\\hline\n",
       "\t chr1 &  5917710 &  5917930 & chr1:5917710-5917930   & 2.16929 & . & ASTARR\\\\\n",
       "\t chr1 & 11842320 & 11842500 & chr1:11842320-11842500 & 2.27415 & . & ASTARR\\\\\n",
       "\t chr1 & 12448880 & 12449190 & chr1:12448880-12449190 & 2.36353 & . & ASTARR\\\\\n",
       "\t chr1 & 14422210 & 14422360 & chr1:14422210-14422360 & 2.11237 & . & ASTARR\\\\\n",
       "\t chr1 & 14437020 & 14437360 & chr1:14437020-14437360 & 2.57142 & . & ASTARR\\\\\n",
       "\t chr1 & 15952850 & 15953160 & chr1:15952850-15953160 & 2.58023 & . & ASTARR\\\\\n",
       "\\end{tabular}\n"
      ],
      "text/markdown": [
       "\n",
       "A tibble: 6 × 7\n",
       "\n",
       "| Chrom &lt;chr&gt; | Start &lt;dbl&gt; | End &lt;dbl&gt; | Name &lt;chr&gt; | Score &lt;dbl&gt; | Strand &lt;chr&gt; | Assay &lt;chr&gt; |\n",
       "|---|---|---|---|---|---|---|\n",
       "| chr1 |  5917710 |  5917930 | chr1:5917710-5917930   | 2.16929 | . | ASTARR |\n",
       "| chr1 | 11842320 | 11842500 | chr1:11842320-11842500 | 2.27415 | . | ASTARR |\n",
       "| chr1 | 12448880 | 12449190 | chr1:12448880-12449190 | 2.36353 | . | ASTARR |\n",
       "| chr1 | 14422210 | 14422360 | chr1:14422210-14422360 | 2.11237 | . | ASTARR |\n",
       "| chr1 | 14437020 | 14437360 | chr1:14437020-14437360 | 2.57142 | . | ASTARR |\n",
       "| chr1 | 15952850 | 15953160 | chr1:15952850-15953160 | 2.58023 | . | ASTARR |\n",
       "\n"
      ],
      "text/plain": [
       "  Chrom Start    End      Name                   Score   Strand Assay \n",
       "1 chr1   5917710  5917930 chr1:5917710-5917930   2.16929 .      ASTARR\n",
       "2 chr1  11842320 11842500 chr1:11842320-11842500 2.27415 .      ASTARR\n",
       "3 chr1  12448880 12449190 chr1:12448880-12449190 2.36353 .      ASTARR\n",
       "4 chr1  14422210 14422360 chr1:14422210-14422360 2.11237 .      ASTARR\n",
       "5 chr1  14437020 14437360 chr1:14437020-14437360 2.57142 .      ASTARR\n",
       "6 chr1  15952850 15953160 chr1:15952850-15953160 2.58023 .      ASTARR"
      ]
     },
     "metadata": {},
     "output_type": "display_data"
    }
   ],
   "source": [
    "dat = bind_rows(lst_dat_loopA, lst_dat_loopB)\n",
    "dat = dat %>% \n",
    "    dplyr::select(Chrom, Start, End, Name, Score, Strand, Assay) %>% \n",
    "    dplyr::distinct() %>% \n",
    "    dplyr::mutate(Name = paste0(Chrom, \":\", Start, \"-\", End))\n",
    "\n",
    "dat_region_looped = dat\n",
    "print(dim(dat))\n",
    "head(dat)"
   ]
  },
  {
   "cell_type": "code",
   "execution_count": 97,
   "metadata": {},
   "outputs": [
    {
     "name": "stdout",
     "output_type": "stream",
     "text": [
      "[1] 63654     7\n"
     ]
    },
    {
     "data": {
      "text/html": [
       "<table class=\"dataframe\">\n",
       "<caption>A tibble: 6 × 7</caption>\n",
       "<thead>\n",
       "\t<tr><th scope=col>Chrom</th><th scope=col>Start</th><th scope=col>End</th><th scope=col>Name</th><th scope=col>Score</th><th scope=col>Strand</th><th scope=col>Assay</th></tr>\n",
       "\t<tr><th scope=col>&lt;chr&gt;</th><th scope=col>&lt;dbl&gt;</th><th scope=col>&lt;dbl&gt;</th><th scope=col>&lt;chr&gt;</th><th scope=col>&lt;dbl&gt;</th><th scope=col>&lt;chr&gt;</th><th scope=col>&lt;chr&gt;</th></tr>\n",
       "</thead>\n",
       "<tbody>\n",
       "\t<tr><td>chr1</td><td>1013020</td><td>1013470</td><td>chr1:1013020-1013470</td><td>2.18160</td><td>.</td><td>ASTARR</td></tr>\n",
       "\t<tr><td>chr1</td><td>1724540</td><td>1724700</td><td>chr1:1724540-1724700</td><td>2.15437</td><td>.</td><td>ASTARR</td></tr>\n",
       "\t<tr><td>chr1</td><td>2290700</td><td>2291030</td><td>chr1:2290700-2291030</td><td>2.38858</td><td>.</td><td>ASTARR</td></tr>\n",
       "\t<tr><td>chr1</td><td>3313260</td><td>3313400</td><td>chr1:3313260-3313400</td><td>2.17945</td><td>.</td><td>ASTARR</td></tr>\n",
       "\t<tr><td>chr1</td><td>5856530</td><td>5856630</td><td>chr1:5856530-5856630</td><td>1.99653</td><td>.</td><td>ASTARR</td></tr>\n",
       "\t<tr><td>chr1</td><td>5917710</td><td>5917930</td><td>chr1:5917710-5917930</td><td>2.16929</td><td>.</td><td>ASTARR</td></tr>\n",
       "</tbody>\n",
       "</table>\n"
      ],
      "text/latex": [
       "A tibble: 6 × 7\n",
       "\\begin{tabular}{lllllll}\n",
       " Chrom & Start & End & Name & Score & Strand & Assay\\\\\n",
       " <chr> & <dbl> & <dbl> & <chr> & <dbl> & <chr> & <chr>\\\\\n",
       "\\hline\n",
       "\t chr1 & 1013020 & 1013470 & chr1:1013020-1013470 & 2.18160 & . & ASTARR\\\\\n",
       "\t chr1 & 1724540 & 1724700 & chr1:1724540-1724700 & 2.15437 & . & ASTARR\\\\\n",
       "\t chr1 & 2290700 & 2291030 & chr1:2290700-2291030 & 2.38858 & . & ASTARR\\\\\n",
       "\t chr1 & 3313260 & 3313400 & chr1:3313260-3313400 & 2.17945 & . & ASTARR\\\\\n",
       "\t chr1 & 5856530 & 5856630 & chr1:5856530-5856630 & 1.99653 & . & ASTARR\\\\\n",
       "\t chr1 & 5917710 & 5917930 & chr1:5917710-5917930 & 2.16929 & . & ASTARR\\\\\n",
       "\\end{tabular}\n"
      ],
      "text/markdown": [
       "\n",
       "A tibble: 6 × 7\n",
       "\n",
       "| Chrom &lt;chr&gt; | Start &lt;dbl&gt; | End &lt;dbl&gt; | Name &lt;chr&gt; | Score &lt;dbl&gt; | Strand &lt;chr&gt; | Assay &lt;chr&gt; |\n",
       "|---|---|---|---|---|---|---|\n",
       "| chr1 | 1013020 | 1013470 | chr1:1013020-1013470 | 2.18160 | . | ASTARR |\n",
       "| chr1 | 1724540 | 1724700 | chr1:1724540-1724700 | 2.15437 | . | ASTARR |\n",
       "| chr1 | 2290700 | 2291030 | chr1:2290700-2291030 | 2.38858 | . | ASTARR |\n",
       "| chr1 | 3313260 | 3313400 | chr1:3313260-3313400 | 2.17945 | . | ASTARR |\n",
       "| chr1 | 5856530 | 5856630 | chr1:5856530-5856630 | 1.99653 | . | ASTARR |\n",
       "| chr1 | 5917710 | 5917930 | chr1:5917710-5917930 | 2.16929 | . | ASTARR |\n",
       "\n"
      ],
      "text/plain": [
       "  Chrom Start   End     Name                 Score   Strand Assay \n",
       "1 chr1  1013020 1013470 chr1:1013020-1013470 2.18160 .      ASTARR\n",
       "2 chr1  1724540 1724700 chr1:1724540-1724700 2.15437 .      ASTARR\n",
       "3 chr1  2290700 2291030 chr1:2290700-2291030 2.38858 .      ASTARR\n",
       "4 chr1  3313260 3313400 chr1:3313260-3313400 2.17945 .      ASTARR\n",
       "5 chr1  5856530 5856630 chr1:5856530-5856630 1.99653 .      ASTARR\n",
       "6 chr1  5917710 5917930 chr1:5917710-5917930 2.16929 .      ASTARR"
      ]
     },
     "metadata": {},
     "output_type": "display_data"
    }
   ],
   "source": [
    "dat = bind_rows(lst_dat_region)\n",
    "dat = dat %>% \n",
    "    dplyr::select(Chrom, Start, End, Name, Score, Strand, Assay) %>% \n",
    "    dplyr::distinct() %>% \n",
    "    dplyr::mutate(Name = paste0(Chrom, \":\", Start, \"-\", End))\n",
    "\n",
    "dat_region_total = dat\n",
    "print(dim(dat))\n",
    "head(dat)"
   ]
  },
  {
   "cell_type": "code",
   "execution_count": 98,
   "metadata": {},
   "outputs": [
    {
     "name": "stdout",
     "output_type": "stream",
     "text": [
      "[1] \"ASTARR\" \"LMPRA\"  \"TMPRA\"  \"WSTARR\"\n"
     ]
    },
    {
     "data": {
      "text/html": [
       "<table class=\"dataframe\">\n",
       "<caption>A tibble: 6 × 7</caption>\n",
       "<thead>\n",
       "\t<tr><th scope=col>Chrom</th><th scope=col>Start</th><th scope=col>End</th><th scope=col>Name</th><th scope=col>Score</th><th scope=col>Strand</th><th scope=col>Assay</th></tr>\n",
       "\t<tr><th scope=col>&lt;chr&gt;</th><th scope=col>&lt;dbl&gt;</th><th scope=col>&lt;dbl&gt;</th><th scope=col>&lt;chr&gt;</th><th scope=col>&lt;dbl&gt;</th><th scope=col>&lt;chr&gt;</th><th scope=col>&lt;chr&gt;</th></tr>\n",
       "</thead>\n",
       "<tbody>\n",
       "\t<tr><td>chr1</td><td> 5917710</td><td> 5917930</td><td>chr1:5917710-5917930  </td><td>2.16929</td><td>.</td><td>ASTARR</td></tr>\n",
       "\t<tr><td>chr1</td><td>11842320</td><td>11842500</td><td>chr1:11842320-11842500</td><td>2.27415</td><td>.</td><td>ASTARR</td></tr>\n",
       "\t<tr><td>chr1</td><td>12448880</td><td>12449190</td><td>chr1:12448880-12449190</td><td>2.36353</td><td>.</td><td>ASTARR</td></tr>\n",
       "\t<tr><td>chr1</td><td>14422210</td><td>14422360</td><td>chr1:14422210-14422360</td><td>2.11237</td><td>.</td><td>ASTARR</td></tr>\n",
       "\t<tr><td>chr1</td><td>14437020</td><td>14437360</td><td>chr1:14437020-14437360</td><td>2.57142</td><td>.</td><td>ASTARR</td></tr>\n",
       "\t<tr><td>chr1</td><td>15952850</td><td>15953160</td><td>chr1:15952850-15953160</td><td>2.58023</td><td>.</td><td>ASTARR</td></tr>\n",
       "</tbody>\n",
       "</table>\n"
      ],
      "text/latex": [
       "A tibble: 6 × 7\n",
       "\\begin{tabular}{lllllll}\n",
       " Chrom & Start & End & Name & Score & Strand & Assay\\\\\n",
       " <chr> & <dbl> & <dbl> & <chr> & <dbl> & <chr> & <chr>\\\\\n",
       "\\hline\n",
       "\t chr1 &  5917710 &  5917930 & chr1:5917710-5917930   & 2.16929 & . & ASTARR\\\\\n",
       "\t chr1 & 11842320 & 11842500 & chr1:11842320-11842500 & 2.27415 & . & ASTARR\\\\\n",
       "\t chr1 & 12448880 & 12449190 & chr1:12448880-12449190 & 2.36353 & . & ASTARR\\\\\n",
       "\t chr1 & 14422210 & 14422360 & chr1:14422210-14422360 & 2.11237 & . & ASTARR\\\\\n",
       "\t chr1 & 14437020 & 14437360 & chr1:14437020-14437360 & 2.57142 & . & ASTARR\\\\\n",
       "\t chr1 & 15952850 & 15953160 & chr1:15952850-15953160 & 2.58023 & . & ASTARR\\\\\n",
       "\\end{tabular}\n"
      ],
      "text/markdown": [
       "\n",
       "A tibble: 6 × 7\n",
       "\n",
       "| Chrom &lt;chr&gt; | Start &lt;dbl&gt; | End &lt;dbl&gt; | Name &lt;chr&gt; | Score &lt;dbl&gt; | Strand &lt;chr&gt; | Assay &lt;chr&gt; |\n",
       "|---|---|---|---|---|---|---|\n",
       "| chr1 |  5917710 |  5917930 | chr1:5917710-5917930   | 2.16929 | . | ASTARR |\n",
       "| chr1 | 11842320 | 11842500 | chr1:11842320-11842500 | 2.27415 | . | ASTARR |\n",
       "| chr1 | 12448880 | 12449190 | chr1:12448880-12449190 | 2.36353 | . | ASTARR |\n",
       "| chr1 | 14422210 | 14422360 | chr1:14422210-14422360 | 2.11237 | . | ASTARR |\n",
       "| chr1 | 14437020 | 14437360 | chr1:14437020-14437360 | 2.57142 | . | ASTARR |\n",
       "| chr1 | 15952850 | 15953160 | chr1:15952850-15953160 | 2.58023 | . | ASTARR |\n",
       "\n"
      ],
      "text/plain": [
       "  Chrom Start    End      Name                   Score   Strand Assay \n",
       "1 chr1   5917710  5917930 chr1:5917710-5917930   2.16929 .      ASTARR\n",
       "2 chr1  11842320 11842500 chr1:11842320-11842500 2.27415 .      ASTARR\n",
       "3 chr1  12448880 12449190 chr1:12448880-12449190 2.36353 .      ASTARR\n",
       "4 chr1  14422210 14422360 chr1:14422210-14422360 2.11237 .      ASTARR\n",
       "5 chr1  14437020 14437360 chr1:14437020-14437360 2.57142 .      ASTARR\n",
       "6 chr1  15952850 15953160 chr1:15952850-15953160 2.58023 .      ASTARR"
      ]
     },
     "metadata": {},
     "output_type": "display_data"
    }
   ],
   "source": [
    "dat = dat_region_looped\n",
    "lst = split(dat, dat$Assay)\n",
    "\n",
    "lst_region_looped = lst\n",
    "print(names(lst))\n",
    "head(lst[[1]])"
   ]
  },
  {
   "cell_type": "code",
   "execution_count": 99,
   "metadata": {},
   "outputs": [
    {
     "name": "stdout",
     "output_type": "stream",
     "text": [
      "[1] \"ASTARR\" \"LMPRA\"  \"TMPRA\"  \"WSTARR\"\n"
     ]
    },
    {
     "data": {
      "text/html": [
       "<table class=\"dataframe\">\n",
       "<caption>A tibble: 6 × 7</caption>\n",
       "<thead>\n",
       "\t<tr><th scope=col>Chrom</th><th scope=col>Start</th><th scope=col>End</th><th scope=col>Name</th><th scope=col>Score</th><th scope=col>Strand</th><th scope=col>Assay</th></tr>\n",
       "\t<tr><th scope=col>&lt;chr&gt;</th><th scope=col>&lt;dbl&gt;</th><th scope=col>&lt;dbl&gt;</th><th scope=col>&lt;chr&gt;</th><th scope=col>&lt;dbl&gt;</th><th scope=col>&lt;chr&gt;</th><th scope=col>&lt;chr&gt;</th></tr>\n",
       "</thead>\n",
       "<tbody>\n",
       "\t<tr><td>chr1</td><td>1013020</td><td>1013470</td><td>chr1:1013020-1013470</td><td>2.18160</td><td>.</td><td>ASTARR</td></tr>\n",
       "\t<tr><td>chr1</td><td>1724540</td><td>1724700</td><td>chr1:1724540-1724700</td><td>2.15437</td><td>.</td><td>ASTARR</td></tr>\n",
       "\t<tr><td>chr1</td><td>2290700</td><td>2291030</td><td>chr1:2290700-2291030</td><td>2.38858</td><td>.</td><td>ASTARR</td></tr>\n",
       "\t<tr><td>chr1</td><td>3313260</td><td>3313400</td><td>chr1:3313260-3313400</td><td>2.17945</td><td>.</td><td>ASTARR</td></tr>\n",
       "\t<tr><td>chr1</td><td>5856530</td><td>5856630</td><td>chr1:5856530-5856630</td><td>1.99653</td><td>.</td><td>ASTARR</td></tr>\n",
       "\t<tr><td>chr1</td><td>5917710</td><td>5917930</td><td>chr1:5917710-5917930</td><td>2.16929</td><td>.</td><td>ASTARR</td></tr>\n",
       "</tbody>\n",
       "</table>\n"
      ],
      "text/latex": [
       "A tibble: 6 × 7\n",
       "\\begin{tabular}{lllllll}\n",
       " Chrom & Start & End & Name & Score & Strand & Assay\\\\\n",
       " <chr> & <dbl> & <dbl> & <chr> & <dbl> & <chr> & <chr>\\\\\n",
       "\\hline\n",
       "\t chr1 & 1013020 & 1013470 & chr1:1013020-1013470 & 2.18160 & . & ASTARR\\\\\n",
       "\t chr1 & 1724540 & 1724700 & chr1:1724540-1724700 & 2.15437 & . & ASTARR\\\\\n",
       "\t chr1 & 2290700 & 2291030 & chr1:2290700-2291030 & 2.38858 & . & ASTARR\\\\\n",
       "\t chr1 & 3313260 & 3313400 & chr1:3313260-3313400 & 2.17945 & . & ASTARR\\\\\n",
       "\t chr1 & 5856530 & 5856630 & chr1:5856530-5856630 & 1.99653 & . & ASTARR\\\\\n",
       "\t chr1 & 5917710 & 5917930 & chr1:5917710-5917930 & 2.16929 & . & ASTARR\\\\\n",
       "\\end{tabular}\n"
      ],
      "text/markdown": [
       "\n",
       "A tibble: 6 × 7\n",
       "\n",
       "| Chrom &lt;chr&gt; | Start &lt;dbl&gt; | End &lt;dbl&gt; | Name &lt;chr&gt; | Score &lt;dbl&gt; | Strand &lt;chr&gt; | Assay &lt;chr&gt; |\n",
       "|---|---|---|---|---|---|---|\n",
       "| chr1 | 1013020 | 1013470 | chr1:1013020-1013470 | 2.18160 | . | ASTARR |\n",
       "| chr1 | 1724540 | 1724700 | chr1:1724540-1724700 | 2.15437 | . | ASTARR |\n",
       "| chr1 | 2290700 | 2291030 | chr1:2290700-2291030 | 2.38858 | . | ASTARR |\n",
       "| chr1 | 3313260 | 3313400 | chr1:3313260-3313400 | 2.17945 | . | ASTARR |\n",
       "| chr1 | 5856530 | 5856630 | chr1:5856530-5856630 | 1.99653 | . | ASTARR |\n",
       "| chr1 | 5917710 | 5917930 | chr1:5917710-5917930 | 2.16929 | . | ASTARR |\n",
       "\n"
      ],
      "text/plain": [
       "  Chrom Start   End     Name                 Score   Strand Assay \n",
       "1 chr1  1013020 1013470 chr1:1013020-1013470 2.18160 .      ASTARR\n",
       "2 chr1  1724540 1724700 chr1:1724540-1724700 2.15437 .      ASTARR\n",
       "3 chr1  2290700 2291030 chr1:2290700-2291030 2.38858 .      ASTARR\n",
       "4 chr1  3313260 3313400 chr1:3313260-3313400 2.17945 .      ASTARR\n",
       "5 chr1  5856530 5856630 chr1:5856530-5856630 1.99653 .      ASTARR\n",
       "6 chr1  5917710 5917930 chr1:5917710-5917930 2.16929 .      ASTARR"
      ]
     },
     "metadata": {},
     "output_type": "display_data"
    }
   ],
   "source": [
    "dat = dat_region_total\n",
    "lst = split(dat, dat$Assay)\n",
    "\n",
    "lst_region_total = lst\n",
    "print(names(lst))\n",
    "head(lst[[1]])"
   ]
  },
  {
   "cell_type": "code",
   "execution_count": 100,
   "metadata": {},
   "outputs": [
    {
     "data": {
      "text/html": [
       "<dl>\n",
       "\t<dt>$ASTARR</dt>\n",
       "\t\t<dd>1455</dd>\n",
       "\t<dt>$LMPRA</dt>\n",
       "\t\t<dd>9854</dd>\n",
       "\t<dt>$TMPRA</dt>\n",
       "\t\t<dd>1031</dd>\n",
       "\t<dt>$WSTARR</dt>\n",
       "\t\t<dd>7528</dd>\n",
       "</dl>\n"
      ],
      "text/latex": [
       "\\begin{description}\n",
       "\\item[\\$ASTARR] 1455\n",
       "\\item[\\$LMPRA] 9854\n",
       "\\item[\\$TMPRA] 1031\n",
       "\\item[\\$WSTARR] 7528\n",
       "\\end{description}\n"
      ],
      "text/markdown": [
       "$ASTARR\n",
       ":   1455\n",
       "$LMPRA\n",
       ":   9854\n",
       "$TMPRA\n",
       ":   1031\n",
       "$WSTARR\n",
       ":   7528\n",
       "\n",
       "\n"
      ],
      "text/plain": [
       "$ASTARR\n",
       "[1] 1455\n",
       "\n",
       "$LMPRA\n",
       "[1] 9854\n",
       "\n",
       "$TMPRA\n",
       "[1] 1031\n",
       "\n",
       "$WSTARR\n",
       "[1] 7528\n"
      ]
     },
     "metadata": {},
     "output_type": "display_data"
    }
   ],
   "source": [
    "lst = lst_region_looped\n",
    "lapply(lst, nrow)"
   ]
  },
  {
   "cell_type": "code",
   "execution_count": 101,
   "metadata": {},
   "outputs": [
    {
     "data": {
      "text/html": [
       "<dl>\n",
       "\t<dt>$ASTARR</dt>\n",
       "\t\t<dd>3123</dd>\n",
       "\t<dt>$LMPRA</dt>\n",
       "\t\t<dd>26732</dd>\n",
       "\t<dt>$TMPRA</dt>\n",
       "\t\t<dd>8294</dd>\n",
       "\t<dt>$WSTARR</dt>\n",
       "\t\t<dd>25505</dd>\n",
       "</dl>\n"
      ],
      "text/latex": [
       "\\begin{description}\n",
       "\\item[\\$ASTARR] 3123\n",
       "\\item[\\$LMPRA] 26732\n",
       "\\item[\\$TMPRA] 8294\n",
       "\\item[\\$WSTARR] 25505\n",
       "\\end{description}\n"
      ],
      "text/markdown": [
       "$ASTARR\n",
       ":   3123\n",
       "$LMPRA\n",
       ":   26732\n",
       "$TMPRA\n",
       ":   8294\n",
       "$WSTARR\n",
       ":   25505\n",
       "\n",
       "\n"
      ],
      "text/plain": [
       "$ASTARR\n",
       "[1] 3123\n",
       "\n",
       "$LMPRA\n",
       "[1] 26732\n",
       "\n",
       "$TMPRA\n",
       "[1] 8294\n",
       "\n",
       "$WSTARR\n",
       "[1] 25505\n"
      ]
     },
     "metadata": {},
     "output_type": "display_data"
    }
   ],
   "source": [
    "lst = lst_region_total\n",
    "lapply(lst, nrow)"
   ]
  },
  {
   "cell_type": "code",
   "execution_count": 103,
   "metadata": {},
   "outputs": [
    {
     "name": "stdout",
     "output_type": "stream",
     "text": [
      "[1] 1668\n",
      "[1] 16878\n",
      "[1] 7263\n",
      "[1] 17977\n"
     ]
    },
    {
     "data": {
      "text/html": [
       "<table class=\"dataframe\">\n",
       "<caption>A data.frame: 8 × 3</caption>\n",
       "<thead>\n",
       "\t<tr><th scope=col>Label</th><th scope=col>Count</th><th scope=col>Assay</th></tr>\n",
       "\t<tr><th scope=col>&lt;fct&gt;</th><th scope=col>&lt;int&gt;</th><th scope=col>&lt;chr&gt;</th></tr>\n",
       "</thead>\n",
       "<tbody>\n",
       "\t<tr><td>Looped    </td><td> 1455</td><td>ASTARR</td></tr>\n",
       "\t<tr><td>Not Looped</td><td> 1668</td><td>ASTARR</td></tr>\n",
       "\t<tr><td>Looped    </td><td> 9854</td><td>LMPRA </td></tr>\n",
       "\t<tr><td>Not Looped</td><td>16878</td><td>LMPRA </td></tr>\n",
       "\t<tr><td>Looped    </td><td> 1031</td><td>TMPRA </td></tr>\n",
       "\t<tr><td>Not Looped</td><td> 7263</td><td>TMPRA </td></tr>\n",
       "\t<tr><td>Looped    </td><td> 7528</td><td>WSTARR</td></tr>\n",
       "\t<tr><td>Not Looped</td><td>17977</td><td>WSTARR</td></tr>\n",
       "</tbody>\n",
       "</table>\n"
      ],
      "text/latex": [
       "A data.frame: 8 × 3\n",
       "\\begin{tabular}{lll}\n",
       " Label & Count & Assay\\\\\n",
       " <fct> & <int> & <chr>\\\\\n",
       "\\hline\n",
       "\t Looped     &  1455 & ASTARR\\\\\n",
       "\t Not Looped &  1668 & ASTARR\\\\\n",
       "\t Looped     &  9854 & LMPRA \\\\\n",
       "\t Not Looped & 16878 & LMPRA \\\\\n",
       "\t Looped     &  1031 & TMPRA \\\\\n",
       "\t Not Looped &  7263 & TMPRA \\\\\n",
       "\t Looped     &  7528 & WSTARR\\\\\n",
       "\t Not Looped & 17977 & WSTARR\\\\\n",
       "\\end{tabular}\n"
      ],
      "text/markdown": [
       "\n",
       "A data.frame: 8 × 3\n",
       "\n",
       "| Label &lt;fct&gt; | Count &lt;int&gt; | Assay &lt;chr&gt; |\n",
       "|---|---|---|\n",
       "| Looped     |  1455 | ASTARR |\n",
       "| Not Looped |  1668 | ASTARR |\n",
       "| Looped     |  9854 | LMPRA  |\n",
       "| Not Looped | 16878 | LMPRA  |\n",
       "| Looped     |  1031 | TMPRA  |\n",
       "| Not Looped |  7263 | TMPRA  |\n",
       "| Looped     |  7528 | WSTARR |\n",
       "| Not Looped | 17977 | WSTARR |\n",
       "\n"
      ],
      "text/plain": [
       "  Label      Count Assay \n",
       "1 Looped      1455 ASTARR\n",
       "2 Not Looped  1668 ASTARR\n",
       "3 Looped      9854 LMPRA \n",
       "4 Not Looped 16878 LMPRA \n",
       "5 Looped      1031 TMPRA \n",
       "6 Not Looped  7263 TMPRA \n",
       "7 Looped      7528 WSTARR\n",
       "8 Not Looped 17977 WSTARR"
      ]
     },
     "metadata": {},
     "output_type": "display_data"
    }
   ],
   "source": [
    "vec = names(lst_region_total)\n",
    "lst = lapply(vec, function(idx){\n",
    "    dat1 = lst_region_looped[[idx]]\n",
    "    dat2 = lst_region_total[[idx]]\n",
    "    print(nrow(dat2) - nrow(dat1))\n",
    "    \n",
    "    vec1 = dat1$Name\n",
    "    vec2 = dat2$Name\n",
    "    \n",
    "    dat = data.frame(\n",
    "        Region = vec2,\n",
    "        Label  = ifelse(vec2 %in% vec1, \"Looped\", \"Not Looped\")\n",
    "    )\n",
    "    return(dat)\n",
    "})\n",
    "names(lst) = vec\n",
    "\n",
    "lst = lapply(vec, function(idx){\n",
    "    dat = lst[[idx]]\n",
    "    dat = table(dat$Label) %>%\n",
    "        as.data.frame %>%\n",
    "        dplyr::mutate(Assay = idx)\n",
    "    return(dat)\n",
    "})\n",
    "names(lst) = vec\n",
    "\n",
    "dat = bind_rows(lst)\n",
    "colnames(dat) = c(\"Label\", \"Count\", \"Assay\")\n",
    "\n",
    "dat_region_summary_starrmpra = dat\n",
    "dat"
   ]
  },
  {
   "cell_type": "code",
   "execution_count": 104,
   "metadata": {},
   "outputs": [
    {
     "data": {
      "image/png": "[encoded data removed]",
      "text/plain": [
       "plot without title"
      ]
     },
     "metadata": {
      "image/png": {
       "height": 420,
       "width": 420
      }
     },
     "output_type": "display_data"
    }
   ],
   "source": [
    "scale_fill = scale_fill_manual(values =c(\n",
    "    \"Not Looped\" = \"grey50\", \n",
    "    \"Looped\" = \"lightcoral\"))\n",
    "\n",
    "dat = dat_region_summary_crispri_hcrff\n",
    "gpt = ggplot(dat, aes(x=Assay, y=Count, fill=Label)) + \n",
    "    geom_col() +\n",
    "    labs(x=\"\", title=\"Regulatory regions\") +\n",
    "    theme_cowplot() +\n",
    "    theme(axis.text.x=element_text(angle=90, vjust=0.5, hjust=1)) +\n",
    "    scale_fill\n",
    "\n",
    "print(gpt)"
   ]
  },
  {
   "cell_type": "code",
   "execution_count": 105,
   "metadata": {},
   "outputs": [
    {
     "data": {
      "image/png": "[encoded data removed]",
      "text/plain": [
       "plot without title"
      ]
     },
     "metadata": {
      "image/png": {
       "height": 420,
       "width": 420
      }
     },
     "output_type": "display_data"
    }
   ],
   "source": [
    "scale_fill = scale_fill_manual(values =c(\n",
    "    \"Not Looped\" = \"grey50\", \n",
    "    \"Looped\" = \"lightcoral\"))\n",
    "\n",
    "dat = dat_region_summary_starrmpra\n",
    "gpt = ggplot(dat, aes(x=Assay, y=Count, fill=Label)) + \n",
    "    geom_col() +\n",
    "    labs(x=\"\", title=\"Regulatory regions\") +\n",
    "    theme_cowplot() +\n",
    "    theme(axis.text.x=element_text(angle=90, vjust=0.5, hjust=1)) +\n",
    "    scale_fill\n",
    "\n",
    "print(gpt)"
   ]
  },
  {
   "cell_type": "code",
   "execution_count": 117,
   "metadata": {},
   "outputs": [
    {
     "data": {
      "image/png": "[encoded data removed]",
      "text/plain": [
       "plot without title"
      ]
     },
     "metadata": {
      "image/png": {
       "height": 420,
       "width": 420
      }
     },
     "output_type": "display_data"
    }
   ],
   "source": [
    "scale_fill = scale_fill_manual(values =c(\n",
    "    \"Not Looped\" = \"grey50\", \n",
    "    \"Looped\" = \"lightcoral\"))\n",
    "\n",
    "dat = bind_rows(dat_region_summary_crispri_hcrff, dat_region_summary_starrmpra)\n",
    "dat = dat %>% dplyr::mutate(Assay = factor(Assay, levels=c(\"ASTARR\", \"WSTARR\", \"TMPRA\", \"LMPRA\", \"CRISPRi-HCRFF\")))\n",
    "gpt = ggplot(dat, aes(x=Assay, y=Count, fill=Label)) + \n",
    "    geom_col() +\n",
    "    labs(x=\"\", title=\"Regulatory regions\") +\n",
    "    theme_cowplot() +\n",
    "    theme(axis.text.x=element_text(angle=90, vjust=0.5, hjust=1)) +\n",
    "    scale_fill\n",
    "\n",
    "print(gpt)"
   ]
  },
  {
   "cell_type": "code",
   "execution_count": 125,
   "metadata": {},
   "outputs": [
    {
     "data": {
      "text/html": [
       "<table class=\"dataframe\">\n",
       "<caption>A grouped_df: 10 × 6</caption>\n",
       "<thead>\n",
       "\t<tr><th scope=col>Label</th><th scope=col>Count</th><th scope=col>Assay</th><th scope=col>Total</th><th scope=col>Freq</th><th scope=col>Txt</th></tr>\n",
       "\t<tr><th scope=col>&lt;fct&gt;</th><th scope=col>&lt;int&gt;</th><th scope=col>&lt;fct&gt;</th><th scope=col>&lt;int&gt;</th><th scope=col>&lt;dbl&gt;</th><th scope=col>&lt;chr&gt;</th></tr>\n",
       "</thead>\n",
       "<tbody>\n",
       "\t<tr><td>Looped    </td><td> 1455</td><td>ASTARR       </td><td> 3123</td><td>0.4658982</td><td>1455/3123 = ~46.6  </td></tr>\n",
       "\t<tr><td>Not Looped</td><td> 1668</td><td>ASTARR       </td><td> 3123</td><td>0.5341018</td><td>1668/3123 = ~53.4  </td></tr>\n",
       "\t<tr><td>Looped    </td><td> 7528</td><td>WSTARR       </td><td>25505</td><td>0.2951578</td><td>7528/25505 = ~29.5 </td></tr>\n",
       "\t<tr><td>Not Looped</td><td>17977</td><td>WSTARR       </td><td>25505</td><td>0.7048422</td><td>17977/25505 = ~70.5</td></tr>\n",
       "\t<tr><td>Looped    </td><td> 1031</td><td>TMPRA        </td><td> 8294</td><td>0.1243067</td><td>1031/8294 = ~12.4  </td></tr>\n",
       "\t<tr><td>Not Looped</td><td> 7263</td><td>TMPRA        </td><td> 8294</td><td>0.8756933</td><td>7263/8294 = ~87.6  </td></tr>\n",
       "\t<tr><td>Looped    </td><td> 9854</td><td>LMPRA        </td><td>26732</td><td>0.3686219</td><td>9854/26732 = ~36.9 </td></tr>\n",
       "\t<tr><td>Not Looped</td><td>16878</td><td>LMPRA        </td><td>26732</td><td>0.6313781</td><td>16878/26732 = ~63.1</td></tr>\n",
       "\t<tr><td>Looped    </td><td>   71</td><td>CRISPRi-HCRFF</td><td>  113</td><td>0.6283186</td><td>71/113 = ~62.8     </td></tr>\n",
       "\t<tr><td>Not Looped</td><td>   42</td><td>CRISPRi-HCRFF</td><td>  113</td><td>0.3716814</td><td>42/113 = ~37.2     </td></tr>\n",
       "</tbody>\n",
       "</table>\n"
      ],
      "text/latex": [
       "A grouped\\_df: 10 × 6\n",
       "\\begin{tabular}{llllll}\n",
       " Label & Count & Assay & Total & Freq & Txt\\\\\n",
       " <fct> & <int> & <fct> & <int> & <dbl> & <chr>\\\\\n",
       "\\hline\n",
       "\t Looped     &  1455 & ASTARR        &  3123 & 0.4658982 & 1455/3123 = \\textasciitilde{}46.6  \\\\\n",
       "\t Not Looped &  1668 & ASTARR        &  3123 & 0.5341018 & 1668/3123 = \\textasciitilde{}53.4  \\\\\n",
       "\t Looped     &  7528 & WSTARR        & 25505 & 0.2951578 & 7528/25505 = \\textasciitilde{}29.5 \\\\\n",
       "\t Not Looped & 17977 & WSTARR        & 25505 & 0.7048422 & 17977/25505 = \\textasciitilde{}70.5\\\\\n",
       "\t Looped     &  1031 & TMPRA         &  8294 & 0.1243067 & 1031/8294 = \\textasciitilde{}12.4  \\\\\n",
       "\t Not Looped &  7263 & TMPRA         &  8294 & 0.8756933 & 7263/8294 = \\textasciitilde{}87.6  \\\\\n",
       "\t Looped     &  9854 & LMPRA         & 26732 & 0.3686219 & 9854/26732 = \\textasciitilde{}36.9 \\\\\n",
       "\t Not Looped & 16878 & LMPRA         & 26732 & 0.6313781 & 16878/26732 = \\textasciitilde{}63.1\\\\\n",
       "\t Looped     &    71 & CRISPRi-HCRFF &   113 & 0.6283186 & 71/113 = \\textasciitilde{}62.8     \\\\\n",
       "\t Not Looped &    42 & CRISPRi-HCRFF &   113 & 0.3716814 & 42/113 = \\textasciitilde{}37.2     \\\\\n",
       "\\end{tabular}\n"
      ],
      "text/markdown": [
       "\n",
       "A grouped_df: 10 × 6\n",
       "\n",
       "| Label &lt;fct&gt; | Count &lt;int&gt; | Assay &lt;fct&gt; | Total &lt;int&gt; | Freq &lt;dbl&gt; | Txt &lt;chr&gt; |\n",
       "|---|---|---|---|---|---|\n",
       "| Looped     |  1455 | ASTARR        |  3123 | 0.4658982 | 1455/3123 = ~46.6   |\n",
       "| Not Looped |  1668 | ASTARR        |  3123 | 0.5341018 | 1668/3123 = ~53.4   |\n",
       "| Looped     |  7528 | WSTARR        | 25505 | 0.2951578 | 7528/25505 = ~29.5  |\n",
       "| Not Looped | 17977 | WSTARR        | 25505 | 0.7048422 | 17977/25505 = ~70.5 |\n",
       "| Looped     |  1031 | TMPRA         |  8294 | 0.1243067 | 1031/8294 = ~12.4   |\n",
       "| Not Looped |  7263 | TMPRA         |  8294 | 0.8756933 | 7263/8294 = ~87.6   |\n",
       "| Looped     |  9854 | LMPRA         | 26732 | 0.3686219 | 9854/26732 = ~36.9  |\n",
       "| Not Looped | 16878 | LMPRA         | 26732 | 0.6313781 | 16878/26732 = ~63.1 |\n",
       "| Looped     |    71 | CRISPRi-HCRFF |   113 | 0.6283186 | 71/113 = ~62.8      |\n",
       "| Not Looped |    42 | CRISPRi-HCRFF |   113 | 0.3716814 | 42/113 = ~37.2      |\n",
       "\n"
      ],
      "text/plain": [
       "   Label      Count Assay         Total Freq      Txt                \n",
       "1  Looped      1455 ASTARR         3123 0.4658982 1455/3123 = ~46.6  \n",
       "2  Not Looped  1668 ASTARR         3123 0.5341018 1668/3123 = ~53.4  \n",
       "3  Looped      7528 WSTARR        25505 0.2951578 7528/25505 = ~29.5 \n",
       "4  Not Looped 17977 WSTARR        25505 0.7048422 17977/25505 = ~70.5\n",
       "5  Looped      1031 TMPRA          8294 0.1243067 1031/8294 = ~12.4  \n",
       "6  Not Looped  7263 TMPRA          8294 0.8756933 7263/8294 = ~87.6  \n",
       "7  Looped      9854 LMPRA         26732 0.3686219 9854/26732 = ~36.9 \n",
       "8  Not Looped 16878 LMPRA         26732 0.6313781 16878/26732 = ~63.1\n",
       "9  Looped        71 CRISPRi-HCRFF   113 0.6283186 71/113 = ~62.8     \n",
       "10 Not Looped    42 CRISPRi-HCRFF   113 0.3716814 42/113 = ~37.2     "
      ]
     },
     "metadata": {},
     "output_type": "display_data"
    }
   ],
   "source": [
    "dat = bind_rows(dat_region_summary_crispri_hcrff, dat_region_summary_starrmpra)\n",
    "dat = dat %>% dplyr::group_by(Assay) %>% \n",
    "    dplyr::mutate(\n",
    "        Total = sum(Count),\n",
    "        Freq = Count / sum(Count))\n",
    "dat = dat %>% \n",
    "    dplyr::mutate(Txt = paste0(Count, \"/\", Total, \" = ~\", round(Freq, 3) * 100)) %>%\n",
    "    dplyr::mutate(Assay = factor(Assay, levels=c(\"ASTARR\", \"WSTARR\", \"TMPRA\", \"LMPRA\", \"CRISPRi-HCRFF\")))\n",
    "dat %>% arrange(Assay)"
   ]
  },
  {
   "cell_type": "code",
   "execution_count": 119,
   "metadata": {},
   "outputs": [
    {
     "name": "stdout",
     "output_type": "stream",
     "text": [
      "[1] 0.6283186\n",
      "[1] 0.4658982\n"
     ]
    }
   ],
   "source": [
    "print(71 / (71+42))\n",
    "print(1455 / (1455+1668\t))"
   ]
  },
  {
   "cell_type": "code",
   "execution_count": 120,
   "metadata": {},
   "outputs": [
    {
     "data": {
      "image/png": "[encoded data removed]",
      "text/plain": [
       "plot without title"
      ]
     },
     "metadata": {
      "image/png": {
       "height": 420,
       "width": 420
      }
     },
     "output_type": "display_data"
    }
   ],
   "source": [
    "scale_fill = scale_fill_manual(values =c(\n",
    "    \"Not Looped\" = \"grey50\", \n",
    "    \"Looped\" = \"lightcoral\"))\n",
    "\n",
    "dat = bind_rows(dat_region_summary_crispri_hcrff, dat_region_summary_starrmpra)\n",
    "dat = dat %>% dplyr::group_by(Assay) %>% dplyr::mutate(Freq = Count / sum(Count))\n",
    "dat = dat %>% dplyr::mutate(Assay = factor(Assay, levels=c(\"ASTARR\", \"WSTARR\", \"TMPRA\", \"LMPRA\", \"CRISPRi-HCRFF\")))\n",
    "gpt = ggplot(dat, aes(x=Assay, y=Freq, fill=Label)) + \n",
    "    geom_col() +\n",
    "    labs(x=\"\", y=\"Frequeny\", title=\"Regulatory regions\") +\n",
    "    theme_cowplot() +\n",
    "    theme(axis.text.x=element_text(angle=90, vjust=0.5, hjust=1)) +\n",
    "    scale_fill\n",
    "\n",
    "print(gpt)"
   ]
  },
  {
   "cell_type": "code",
   "execution_count": null,
   "metadata": {},
   "outputs": [],
   "source": []
  }
 ],
 "metadata": {
  "kernelspec": {
   "display_name": "R",
   "language": "R",
   "name": "ir"
  },
  "language_info": {
   "codemirror_mode": "r",
   "file_extension": ".r",
   "mimetype": "text/x-r-source",
   "name": "R",
   "pygments_lexer": "r",
   "version": "4.3.0"
  }
 },
 "nbformat": 4,
 "nbformat_minor": 4
}
