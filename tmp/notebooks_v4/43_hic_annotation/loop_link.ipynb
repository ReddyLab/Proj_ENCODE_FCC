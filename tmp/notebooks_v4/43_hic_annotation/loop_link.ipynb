{
 "cells": [
  {
   "cell_type": "code",
   "execution_count": 1,
   "metadata": {},
   "outputs": [
    {
     "name": "stdout",
     "output_type": "stream",
     "text": [
      "You are in Singularity: singularity_proj_encode_fcc \n",
      "BASE DIRECTORY (FD_BASE): /data/reddylab/Kuei \n",
      "WORK DIRECTORY (FD_WORK): /data/reddylab/Kuei/out \n",
      "CODE DIRECTORY (FD_CODE): /data/reddylab/Kuei/code \n",
      "PATH OF PROJECT (FD_PRJ): /data/reddylab/Kuei/code/Proj_CombEffect_ENCODE_FCC \n",
      "PATH OF RESULTS (FD_RES): /data/reddylab/Kuei/out/proj_combeffect_encode_fcc \n",
      "PATH OF LOG     (FD_LOG): /data/reddylab/Kuei/out/proj_combeffect_encode_fcc/log \n"
     ]
    }
   ],
   "source": [
    "suppressMessages(suppressWarnings(source(\"../config/config_sing.R\")))\n",
    "show_env()"
   ]
  },
  {
   "cell_type": "code",
   "execution_count": null,
   "metadata": {},
   "outputs": [],
   "source": []
  },
  {
   "cell_type": "code",
   "execution_count": 3,
   "metadata": {},
   "outputs": [
    {
     "name": "stderr",
     "output_type": "stream",
     "text": [
      "\u001b[1mRows: \u001b[22m\u001b[34m6440\u001b[39m \u001b[1mColumns: \u001b[22m\u001b[34m4\u001b[39m\n",
      "\u001b[36m──\u001b[39m \u001b[1mColumn specification\u001b[22m \u001b[36m─────────────────────────────────────────────────────────────────────\u001b[39m\n",
      "\u001b[1mDelimiter:\u001b[22m \"\\t\"\n",
      "\u001b[31mchr\u001b[39m (3): LoopA, Annotation, Label\n",
      "\u001b[32mdbl\u001b[39m (1): Count\n",
      "\n",
      "\u001b[36mℹ\u001b[39m Use `spec()` to retrieve the full column specification for this data.\n",
      "\u001b[36mℹ\u001b[39m Specify the column types or set `show_col_types = FALSE` to quiet this message.\n"
     ]
    },
    {
     "name": "stdout",
     "output_type": "stream",
     "text": [
      "[1] 6440    4\n"
     ]
    },
    {
     "data": {
      "text/html": [
       "<table class=\"dataframe\">\n",
       "<caption>A tibble: 6 × 4</caption>\n",
       "<thead>\n",
       "\t<tr><th scope=col>LoopA</th><th scope=col>Annotation</th><th scope=col>Label</th><th scope=col>Count</th></tr>\n",
       "\t<tr><th scope=col>&lt;chr&gt;</th><th scope=col>&lt;chr&gt;</th><th scope=col>&lt;chr&gt;</th><th scope=col>&lt;dbl&gt;</th></tr>\n",
       "</thead>\n",
       "<tbody>\n",
       "\t<tr><td>chr10:100340000-100350000</td><td>TSS_POL2</td><td>TSS</td><td>1</td></tr>\n",
       "\t<tr><td>chr10:100347000-100348000</td><td>TSS_POL2</td><td>TSS</td><td>1</td></tr>\n",
       "\t<tr><td>chr10:100515000-100520000</td><td>TSS_POL2</td><td>TSS</td><td>1</td></tr>\n",
       "\t<tr><td>chr10:101030000-101035000</td><td>TSS_POL2</td><td>TSS</td><td>2</td></tr>\n",
       "\t<tr><td>chr10:101030000-101040000</td><td>TSS_POL2</td><td>TSS</td><td>2</td></tr>\n",
       "\t<tr><td>chr10:101060000-101070000</td><td>TSS_POL2</td><td>TSS</td><td>1</td></tr>\n",
       "</tbody>\n",
       "</table>\n"
      ],
      "text/latex": [
       "A tibble: 6 × 4\n",
       "\\begin{tabular}{llll}\n",
       " LoopA & Annotation & Label & Count\\\\\n",
       " <chr> & <chr> & <chr> & <dbl>\\\\\n",
       "\\hline\n",
       "\t chr10:100340000-100350000 & TSS\\_POL2 & TSS & 1\\\\\n",
       "\t chr10:100347000-100348000 & TSS\\_POL2 & TSS & 1\\\\\n",
       "\t chr10:100515000-100520000 & TSS\\_POL2 & TSS & 1\\\\\n",
       "\t chr10:101030000-101035000 & TSS\\_POL2 & TSS & 2\\\\\n",
       "\t chr10:101030000-101040000 & TSS\\_POL2 & TSS & 2\\\\\n",
       "\t chr10:101060000-101070000 & TSS\\_POL2 & TSS & 1\\\\\n",
       "\\end{tabular}\n"
      ],
      "text/markdown": [
       "\n",
       "A tibble: 6 × 4\n",
       "\n",
       "| LoopA &lt;chr&gt; | Annotation &lt;chr&gt; | Label &lt;chr&gt; | Count &lt;dbl&gt; |\n",
       "|---|---|---|---|\n",
       "| chr10:100340000-100350000 | TSS_POL2 | TSS | 1 |\n",
       "| chr10:100347000-100348000 | TSS_POL2 | TSS | 1 |\n",
       "| chr10:100515000-100520000 | TSS_POL2 | TSS | 1 |\n",
       "| chr10:101030000-101035000 | TSS_POL2 | TSS | 2 |\n",
       "| chr10:101030000-101040000 | TSS_POL2 | TSS | 2 |\n",
       "| chr10:101060000-101070000 | TSS_POL2 | TSS | 1 |\n",
       "\n"
      ],
      "text/plain": [
       "  LoopA                     Annotation Label Count\n",
       "1 chr10:100340000-100350000 TSS_POL2   TSS   1    \n",
       "2 chr10:100347000-100348000 TSS_POL2   TSS   1    \n",
       "3 chr10:100515000-100520000 TSS_POL2   TSS   1    \n",
       "4 chr10:101030000-101035000 TSS_POL2   TSS   2    \n",
       "5 chr10:101030000-101040000 TSS_POL2   TSS   2    \n",
       "6 chr10:101060000-101070000 TSS_POL2   TSS   1    "
      ]
     },
     "metadata": {},
     "output_type": "display_data"
    }
   ],
   "source": [
    "fdiry = file.path(\n",
    "    FD_RES, \n",
    "    \"results\", \n",
    "    \"region\", \n",
    "    \"hic_intact_ENCSR479XDG\", \n",
    "    \"loop\",\n",
    "    \"summary\"\n",
    ")\n",
    "fname = \"loopA.summary.tss_pol2.tsv\"\n",
    "fpath = file.path(fdiry, fname)\n",
    "\n",
    "dat = read_tsv(fpath)\n",
    "\n",
    "dat_loopA_annot_tss_count = dat\n",
    "print(dim(dat))\n",
    "head(dat)"
   ]
  },
  {
   "cell_type": "code",
   "execution_count": 4,
   "metadata": {},
   "outputs": [
    {
     "name": "stderr",
     "output_type": "stream",
     "text": [
      "\u001b[1mRows: \u001b[22m\u001b[34m6400\u001b[39m \u001b[1mColumns: \u001b[22m\u001b[34m4\u001b[39m\n",
      "\u001b[36m──\u001b[39m \u001b[1mColumn specification\u001b[22m \u001b[36m─────────────────────────────────────────────────────────────────────\u001b[39m\n",
      "\u001b[1mDelimiter:\u001b[22m \"\\t\"\n",
      "\u001b[31mchr\u001b[39m (3): LoopB, Annotation, Label\n",
      "\u001b[32mdbl\u001b[39m (1): Count\n",
      "\n",
      "\u001b[36mℹ\u001b[39m Use `spec()` to retrieve the full column specification for this data.\n",
      "\u001b[36mℹ\u001b[39m Specify the column types or set `show_col_types = FALSE` to quiet this message.\n"
     ]
    },
    {
     "name": "stdout",
     "output_type": "stream",
     "text": [
      "[1] 6400    4\n"
     ]
    },
    {
     "data": {
      "text/html": [
       "<table class=\"dataframe\">\n",
       "<caption>A tibble: 6 × 4</caption>\n",
       "<thead>\n",
       "\t<tr><th scope=col>LoopB</th><th scope=col>Annotation</th><th scope=col>Label</th><th scope=col>Count</th></tr>\n",
       "\t<tr><th scope=col>&lt;chr&gt;</th><th scope=col>&lt;chr&gt;</th><th scope=col>&lt;chr&gt;</th><th scope=col>&lt;dbl&gt;</th></tr>\n",
       "</thead>\n",
       "<tbody>\n",
       "\t<tr><td>chr10:100372000-100374000</td><td>TSS_POL2</td><td>TSS</td><td>1</td></tr>\n",
       "\t<tr><td>chr10:100373000-100374000</td><td>TSS_POL2</td><td>TSS</td><td>1</td></tr>\n",
       "\t<tr><td>chr10:101060000-101070000</td><td>TSS_POL2</td><td>TSS</td><td>1</td></tr>\n",
       "\t<tr><td>chr10:101780000-101785000</td><td>TSS_POL2</td><td>TSS</td><td>2</td></tr>\n",
       "\t<tr><td>chr10:102050000-102060000</td><td>TSS_POL2</td><td>TSS</td><td>1</td></tr>\n",
       "\t<tr><td>chr10:102055000-102060000</td><td>TSS_POL2</td><td>TSS</td><td>1</td></tr>\n",
       "</tbody>\n",
       "</table>\n"
      ],
      "text/latex": [
       "A tibble: 6 × 4\n",
       "\\begin{tabular}{llll}\n",
       " LoopB & Annotation & Label & Count\\\\\n",
       " <chr> & <chr> & <chr> & <dbl>\\\\\n",
       "\\hline\n",
       "\t chr10:100372000-100374000 & TSS\\_POL2 & TSS & 1\\\\\n",
       "\t chr10:100373000-100374000 & TSS\\_POL2 & TSS & 1\\\\\n",
       "\t chr10:101060000-101070000 & TSS\\_POL2 & TSS & 1\\\\\n",
       "\t chr10:101780000-101785000 & TSS\\_POL2 & TSS & 2\\\\\n",
       "\t chr10:102050000-102060000 & TSS\\_POL2 & TSS & 1\\\\\n",
       "\t chr10:102055000-102060000 & TSS\\_POL2 & TSS & 1\\\\\n",
       "\\end{tabular}\n"
      ],
      "text/markdown": [
       "\n",
       "A tibble: 6 × 4\n",
       "\n",
       "| LoopB &lt;chr&gt; | Annotation &lt;chr&gt; | Label &lt;chr&gt; | Count &lt;dbl&gt; |\n",
       "|---|---|---|---|\n",
       "| chr10:100372000-100374000 | TSS_POL2 | TSS | 1 |\n",
       "| chr10:100373000-100374000 | TSS_POL2 | TSS | 1 |\n",
       "| chr10:101060000-101070000 | TSS_POL2 | TSS | 1 |\n",
       "| chr10:101780000-101785000 | TSS_POL2 | TSS | 2 |\n",
       "| chr10:102050000-102060000 | TSS_POL2 | TSS | 1 |\n",
       "| chr10:102055000-102060000 | TSS_POL2 | TSS | 1 |\n",
       "\n"
      ],
      "text/plain": [
       "  LoopB                     Annotation Label Count\n",
       "1 chr10:100372000-100374000 TSS_POL2   TSS   1    \n",
       "2 chr10:100373000-100374000 TSS_POL2   TSS   1    \n",
       "3 chr10:101060000-101070000 TSS_POL2   TSS   1    \n",
       "4 chr10:101780000-101785000 TSS_POL2   TSS   2    \n",
       "5 chr10:102050000-102060000 TSS_POL2   TSS   1    \n",
       "6 chr10:102055000-102060000 TSS_POL2   TSS   1    "
      ]
     },
     "metadata": {},
     "output_type": "display_data"
    }
   ],
   "source": [
    "fdiry = file.path(\n",
    "    FD_RES, \n",
    "    \"results\", \n",
    "    \"region\", \n",
    "    \"hic_intact_ENCSR479XDG\", \n",
    "    \"loop\",\n",
    "    \"summary\"\n",
    ")\n",
    "fname = \"loopB.summary.tss_pol2.tsv\"\n",
    "fpath = file.path(fdiry, fname)\n",
    "\n",
    "dat = read_tsv(fpath)\n",
    "\n",
    "dat_loopB_annot_tss_count = dat\n",
    "print(dim(dat))\n",
    "head(dat)"
   ]
  },
  {
   "cell_type": "code",
   "execution_count": 39,
   "metadata": {},
   "outputs": [
    {
     "name": "stderr",
     "output_type": "stream",
     "text": [
      "\u001b[1mRows: \u001b[22m\u001b[34m5463\u001b[39m \u001b[1mColumns: \u001b[22m\u001b[34m5\u001b[39m\n",
      "\u001b[36m──\u001b[39m \u001b[1mColumn specification\u001b[22m \u001b[36m─────────────────────────────────────────────────────────────────────\u001b[39m\n",
      "\u001b[1mDelimiter:\u001b[22m \"\\t\"\n",
      "\u001b[31mchr\u001b[39m (4): LoopA, Annotation, Label, Note\n",
      "\u001b[32mdbl\u001b[39m (1): Count\n",
      "\n",
      "\u001b[36mℹ\u001b[39m Use `spec()` to retrieve the full column specification for this data.\n",
      "\u001b[36mℹ\u001b[39m Specify the column types or set `show_col_types = FALSE` to quiet this message.\n"
     ]
    },
    {
     "name": "stdout",
     "output_type": "stream",
     "text": [
      "[1] 5463    5\n"
     ]
    },
    {
     "data": {
      "text/html": [
       "<table class=\"dataframe\">\n",
       "<caption>A tibble: 6 × 5</caption>\n",
       "<thead>\n",
       "\t<tr><th scope=col>LoopA</th><th scope=col>Annotation</th><th scope=col>Label</th><th scope=col>Count</th><th scope=col>Note</th></tr>\n",
       "\t<tr><th scope=col>&lt;chr&gt;</th><th scope=col>&lt;chr&gt;</th><th scope=col>&lt;chr&gt;</th><th scope=col>&lt;dbl&gt;</th><th scope=col>&lt;chr&gt;</th></tr>\n",
       "</thead>\n",
       "<tbody>\n",
       "\t<tr><td>chr10:100340000-100350000</td><td>Enhancer</td><td>Enhancer_STARR</td><td>2</td><td>WSTARR|WSTARR</td></tr>\n",
       "\t<tr><td>chr10:100347000-100348000</td><td>Enhancer</td><td>Enhancer_STARR</td><td>1</td><td>WSTARR       </td></tr>\n",
       "\t<tr><td>chr10:101010000-101020000</td><td>Enhancer</td><td>Enhancer_STARR</td><td>1</td><td>WSTARR       </td></tr>\n",
       "\t<tr><td>chr10:101780000-101785000</td><td>Enhancer</td><td>Enhancer_STARR</td><td>1</td><td>WSTARR       </td></tr>\n",
       "\t<tr><td>chr10:102064000-102066000</td><td>Enhancer</td><td>Enhancer_STARR</td><td>1</td><td>WSTARR       </td></tr>\n",
       "\t<tr><td>chr10:102112000-102113000</td><td>Enhancer</td><td>Enhancer_STARR</td><td>1</td><td>WSTARR       </td></tr>\n",
       "</tbody>\n",
       "</table>\n"
      ],
      "text/latex": [
       "A tibble: 6 × 5\n",
       "\\begin{tabular}{lllll}\n",
       " LoopA & Annotation & Label & Count & Note\\\\\n",
       " <chr> & <chr> & <chr> & <dbl> & <chr>\\\\\n",
       "\\hline\n",
       "\t chr10:100340000-100350000 & Enhancer & Enhancer\\_STARR & 2 & WSTARR\\textbar{}WSTARR\\\\\n",
       "\t chr10:100347000-100348000 & Enhancer & Enhancer\\_STARR & 1 & WSTARR       \\\\\n",
       "\t chr10:101010000-101020000 & Enhancer & Enhancer\\_STARR & 1 & WSTARR       \\\\\n",
       "\t chr10:101780000-101785000 & Enhancer & Enhancer\\_STARR & 1 & WSTARR       \\\\\n",
       "\t chr10:102064000-102066000 & Enhancer & Enhancer\\_STARR & 1 & WSTARR       \\\\\n",
       "\t chr10:102112000-102113000 & Enhancer & Enhancer\\_STARR & 1 & WSTARR       \\\\\n",
       "\\end{tabular}\n"
      ],
      "text/markdown": [
       "\n",
       "A tibble: 6 × 5\n",
       "\n",
       "| LoopA &lt;chr&gt; | Annotation &lt;chr&gt; | Label &lt;chr&gt; | Count &lt;dbl&gt; | Note &lt;chr&gt; |\n",
       "|---|---|---|---|---|\n",
       "| chr10:100340000-100350000 | Enhancer | Enhancer_STARR | 2 | WSTARR|WSTARR |\n",
       "| chr10:100347000-100348000 | Enhancer | Enhancer_STARR | 1 | WSTARR        |\n",
       "| chr10:101010000-101020000 | Enhancer | Enhancer_STARR | 1 | WSTARR        |\n",
       "| chr10:101780000-101785000 | Enhancer | Enhancer_STARR | 1 | WSTARR        |\n",
       "| chr10:102064000-102066000 | Enhancer | Enhancer_STARR | 1 | WSTARR        |\n",
       "| chr10:102112000-102113000 | Enhancer | Enhancer_STARR | 1 | WSTARR        |\n",
       "\n"
      ],
      "text/plain": [
       "  LoopA                     Annotation Label          Count Note         \n",
       "1 chr10:100340000-100350000 Enhancer   Enhancer_STARR 2     WSTARR|WSTARR\n",
       "2 chr10:100347000-100348000 Enhancer   Enhancer_STARR 1     WSTARR       \n",
       "3 chr10:101010000-101020000 Enhancer   Enhancer_STARR 1     WSTARR       \n",
       "4 chr10:101780000-101785000 Enhancer   Enhancer_STARR 1     WSTARR       \n",
       "5 chr10:102064000-102066000 Enhancer   Enhancer_STARR 1     WSTARR       \n",
       "6 chr10:102112000-102113000 Enhancer   Enhancer_STARR 1     WSTARR       "
      ]
     },
     "metadata": {},
     "output_type": "display_data"
    }
   ],
   "source": [
    "fdiry = file.path(\n",
    "    FD_RES, \n",
    "    \"results\", \n",
    "    \"region\", \n",
    "    \"hic_intact_ENCSR479XDG\", \n",
    "    \"loop\",\n",
    "    \"summary\"\n",
    ")\n",
    "fname = \"loopA.summary.enhancer_zscore_junke_peak_starr.tsv\"\n",
    "fpath = file.path(fdiry, fname)\n",
    "\n",
    "dat = read_tsv(fpath)\n",
    "dat = dat %>% dplyr::mutate(Label = \"Enhancer_STARR\")\n",
    "\n",
    "dat_loopA_annot_starr_count = dat\n",
    "print(dim(dat))\n",
    "head(dat)"
   ]
  },
  {
   "cell_type": "code",
   "execution_count": 40,
   "metadata": {},
   "outputs": [
    {
     "name": "stderr",
     "output_type": "stream",
     "text": [
      "\u001b[1mRows: \u001b[22m\u001b[34m5386\u001b[39m \u001b[1mColumns: \u001b[22m\u001b[34m5\u001b[39m\n",
      "\u001b[36m──\u001b[39m \u001b[1mColumn specification\u001b[22m \u001b[36m─────────────────────────────────────────────────────────────────────\u001b[39m\n",
      "\u001b[1mDelimiter:\u001b[22m \"\\t\"\n",
      "\u001b[31mchr\u001b[39m (4): LoopB, Annotation, Label, Note\n",
      "\u001b[32mdbl\u001b[39m (1): Count\n",
      "\n",
      "\u001b[36mℹ\u001b[39m Use `spec()` to retrieve the full column specification for this data.\n",
      "\u001b[36mℹ\u001b[39m Specify the column types or set `show_col_types = FALSE` to quiet this message.\n"
     ]
    },
    {
     "name": "stdout",
     "output_type": "stream",
     "text": [
      "[1] 5386    5\n"
     ]
    },
    {
     "data": {
      "text/html": [
       "<table class=\"dataframe\">\n",
       "<caption>A tibble: 6 × 5</caption>\n",
       "<thead>\n",
       "\t<tr><th scope=col>LoopB</th><th scope=col>Annotation</th><th scope=col>Label</th><th scope=col>Count</th><th scope=col>Note</th></tr>\n",
       "\t<tr><th scope=col>&lt;chr&gt;</th><th scope=col>&lt;chr&gt;</th><th scope=col>&lt;chr&gt;</th><th scope=col>&lt;dbl&gt;</th><th scope=col>&lt;chr&gt;</th></tr>\n",
       "</thead>\n",
       "<tbody>\n",
       "\t<tr><td>chr10:100372000-100374000</td><td>Enhancer</td><td>Enhancer_STARR</td><td>2</td><td>WSTARR|WSTARR       </td></tr>\n",
       "\t<tr><td>chr10:100373000-100374000</td><td>Enhancer</td><td>Enhancer_STARR</td><td>2</td><td>WSTARR|WSTARR       </td></tr>\n",
       "\t<tr><td>chr10:101780000-101785000</td><td>Enhancer</td><td>Enhancer_STARR</td><td>1</td><td>WSTARR              </td></tr>\n",
       "\t<tr><td>chr10:102050000-102060000</td><td>Enhancer</td><td>Enhancer_STARR</td><td>3</td><td>WSTARR|WSTARR|WSTARR</td></tr>\n",
       "\t<tr><td>chr10:102055000-102060000</td><td>Enhancer</td><td>Enhancer_STARR</td><td>3</td><td>WSTARR|WSTARR|WSTARR</td></tr>\n",
       "\t<tr><td>chr10:102065000-102070000</td><td>Enhancer</td><td>Enhancer_STARR</td><td>1</td><td>WSTARR              </td></tr>\n",
       "</tbody>\n",
       "</table>\n"
      ],
      "text/latex": [
       "A tibble: 6 × 5\n",
       "\\begin{tabular}{lllll}\n",
       " LoopB & Annotation & Label & Count & Note\\\\\n",
       " <chr> & <chr> & <chr> & <dbl> & <chr>\\\\\n",
       "\\hline\n",
       "\t chr10:100372000-100374000 & Enhancer & Enhancer\\_STARR & 2 & WSTARR\\textbar{}WSTARR       \\\\\n",
       "\t chr10:100373000-100374000 & Enhancer & Enhancer\\_STARR & 2 & WSTARR\\textbar{}WSTARR       \\\\\n",
       "\t chr10:101780000-101785000 & Enhancer & Enhancer\\_STARR & 1 & WSTARR              \\\\\n",
       "\t chr10:102050000-102060000 & Enhancer & Enhancer\\_STARR & 3 & WSTARR\\textbar{}WSTARR\\textbar{}WSTARR\\\\\n",
       "\t chr10:102055000-102060000 & Enhancer & Enhancer\\_STARR & 3 & WSTARR\\textbar{}WSTARR\\textbar{}WSTARR\\\\\n",
       "\t chr10:102065000-102070000 & Enhancer & Enhancer\\_STARR & 1 & WSTARR              \\\\\n",
       "\\end{tabular}\n"
      ],
      "text/markdown": [
       "\n",
       "A tibble: 6 × 5\n",
       "\n",
       "| LoopB &lt;chr&gt; | Annotation &lt;chr&gt; | Label &lt;chr&gt; | Count &lt;dbl&gt; | Note &lt;chr&gt; |\n",
       "|---|---|---|---|---|\n",
       "| chr10:100372000-100374000 | Enhancer | Enhancer_STARR | 2 | WSTARR|WSTARR        |\n",
       "| chr10:100373000-100374000 | Enhancer | Enhancer_STARR | 2 | WSTARR|WSTARR        |\n",
       "| chr10:101780000-101785000 | Enhancer | Enhancer_STARR | 1 | WSTARR               |\n",
       "| chr10:102050000-102060000 | Enhancer | Enhancer_STARR | 3 | WSTARR|WSTARR|WSTARR |\n",
       "| chr10:102055000-102060000 | Enhancer | Enhancer_STARR | 3 | WSTARR|WSTARR|WSTARR |\n",
       "| chr10:102065000-102070000 | Enhancer | Enhancer_STARR | 1 | WSTARR               |\n",
       "\n"
      ],
      "text/plain": [
       "  LoopB                     Annotation Label          Count\n",
       "1 chr10:100372000-100374000 Enhancer   Enhancer_STARR 2    \n",
       "2 chr10:100373000-100374000 Enhancer   Enhancer_STARR 2    \n",
       "3 chr10:101780000-101785000 Enhancer   Enhancer_STARR 1    \n",
       "4 chr10:102050000-102060000 Enhancer   Enhancer_STARR 3    \n",
       "5 chr10:102055000-102060000 Enhancer   Enhancer_STARR 3    \n",
       "6 chr10:102065000-102070000 Enhancer   Enhancer_STARR 1    \n",
       "  Note                \n",
       "1 WSTARR|WSTARR       \n",
       "2 WSTARR|WSTARR       \n",
       "3 WSTARR              \n",
       "4 WSTARR|WSTARR|WSTARR\n",
       "5 WSTARR|WSTARR|WSTARR\n",
       "6 WSTARR              "
      ]
     },
     "metadata": {},
     "output_type": "display_data"
    }
   ],
   "source": [
    "fdiry = file.path(\n",
    "    FD_RES, \n",
    "    \"results\", \n",
    "    \"region\", \n",
    "    \"hic_intact_ENCSR479XDG\", \n",
    "    \"loop\",\n",
    "    \"summary\"\n",
    ")\n",
    "fname = \"loopB.summary.enhancer_zscore_junke_peak_starr.tsv\"\n",
    "fpath = file.path(fdiry, fname)\n",
    "\n",
    "dat = read_tsv(fpath)\n",
    "dat = dat %>% dplyr::mutate(Label = \"Enhancer_STARR\")\n",
    "\n",
    "dat_loopB_annot_starr_count = dat\n",
    "print(dim(dat))\n",
    "head(dat)"
   ]
  },
  {
   "cell_type": "code",
   "execution_count": 41,
   "metadata": {},
   "outputs": [
    {
     "name": "stderr",
     "output_type": "stream",
     "text": [
      "\u001b[1mRows: \u001b[22m\u001b[34m46004\u001b[39m \u001b[1mColumns: \u001b[22m\u001b[34m9\u001b[39m\n",
      "\u001b[36m──\u001b[39m \u001b[1mColumn specification\u001b[22m \u001b[36m─────────────────────────────────────────────────────────────────────\u001b[39m\n",
      "\u001b[1mDelimiter:\u001b[22m \"\\t\"\n",
      "\u001b[31mchr\u001b[39m (2): Chrom1, Chrom2\n",
      "\u001b[32mdbl\u001b[39m (7): Start1, End1, Start2, End2, Length1, Length2, Distance\n",
      "\n",
      "\u001b[36mℹ\u001b[39m Use `spec()` to retrieve the full column specification for this data.\n",
      "\u001b[36mℹ\u001b[39m Specify the column types or set `show_col_types = FALSE` to quiet this message.\n"
     ]
    },
    {
     "name": "stdout",
     "output_type": "stream",
     "text": [
      "[1] 46004    11\n"
     ]
    },
    {
     "data": {
      "text/html": [
       "<table class=\"dataframe\">\n",
       "<caption>A tibble: 6 × 11</caption>\n",
       "<thead>\n",
       "\t<tr><th scope=col>Chrom1</th><th scope=col>Start1</th><th scope=col>End1</th><th scope=col>Chrom2</th><th scope=col>Start2</th><th scope=col>End2</th><th scope=col>Length1</th><th scope=col>Length2</th><th scope=col>Distance</th><th scope=col>LoopA</th><th scope=col>LoopB</th></tr>\n",
       "\t<tr><th scope=col>&lt;chr&gt;</th><th scope=col>&lt;dbl&gt;</th><th scope=col>&lt;dbl&gt;</th><th scope=col>&lt;chr&gt;</th><th scope=col>&lt;dbl&gt;</th><th scope=col>&lt;dbl&gt;</th><th scope=col>&lt;dbl&gt;</th><th scope=col>&lt;dbl&gt;</th><th scope=col>&lt;dbl&gt;</th><th scope=col>&lt;chr&gt;</th><th scope=col>&lt;chr&gt;</th></tr>\n",
       "</thead>\n",
       "<tbody>\n",
       "\t<tr><td>chr10</td><td>102835000</td><td>102836000</td><td>chr10</td><td>102901000</td><td>102902000</td><td>1000</td><td>1000</td><td> 66000</td><td>chr10:102835000-102836000</td><td>chr10:102901000-102902000</td></tr>\n",
       "\t<tr><td>chr10</td><td>123583000</td><td>123584000</td><td>chr10</td><td>123967000</td><td>123968000</td><td>1000</td><td>1000</td><td>384000</td><td>chr10:123583000-123584000</td><td>chr10:123967000-123968000</td></tr>\n",
       "\t<tr><td>chr10</td><td> 60780000</td><td> 60782000</td><td>chr10</td><td> 60828000</td><td> 60830000</td><td>2000</td><td>2000</td><td> 48000</td><td>chr10: 60780000- 60782000</td><td>chr10: 60828000- 60830000</td></tr>\n",
       "\t<tr><td>chr10</td><td> 33050000</td><td> 33051000</td><td>chr10</td><td> 33067000</td><td> 33068000</td><td>1000</td><td>1000</td><td> 17000</td><td>chr10: 33050000- 33051000</td><td>chr10: 33067000- 33068000</td></tr>\n",
       "\t<tr><td>chr10</td><td> 11412000</td><td> 11414000</td><td>chr10</td><td> 11472000</td><td> 11474000</td><td>2000</td><td>2000</td><td> 60000</td><td>chr10: 11412000- 11414000</td><td>chr10: 11472000- 11474000</td></tr>\n",
       "\t<tr><td>chr10</td><td> 45005000</td><td> 45010000</td><td>chr10</td><td> 45465000</td><td> 45470000</td><td>5000</td><td>5000</td><td>460000</td><td>chr10: 45005000- 45010000</td><td>chr10: 45465000- 45470000</td></tr>\n",
       "</tbody>\n",
       "</table>\n"
      ],
      "text/latex": [
       "A tibble: 6 × 11\n",
       "\\begin{tabular}{lllllllllll}\n",
       " Chrom1 & Start1 & End1 & Chrom2 & Start2 & End2 & Length1 & Length2 & Distance & LoopA & LoopB\\\\\n",
       " <chr> & <dbl> & <dbl> & <chr> & <dbl> & <dbl> & <dbl> & <dbl> & <dbl> & <chr> & <chr>\\\\\n",
       "\\hline\n",
       "\t chr10 & 102835000 & 102836000 & chr10 & 102901000 & 102902000 & 1000 & 1000 &  66000 & chr10:102835000-102836000 & chr10:102901000-102902000\\\\\n",
       "\t chr10 & 123583000 & 123584000 & chr10 & 123967000 & 123968000 & 1000 & 1000 & 384000 & chr10:123583000-123584000 & chr10:123967000-123968000\\\\\n",
       "\t chr10 &  60780000 &  60782000 & chr10 &  60828000 &  60830000 & 2000 & 2000 &  48000 & chr10: 60780000- 60782000 & chr10: 60828000- 60830000\\\\\n",
       "\t chr10 &  33050000 &  33051000 & chr10 &  33067000 &  33068000 & 1000 & 1000 &  17000 & chr10: 33050000- 33051000 & chr10: 33067000- 33068000\\\\\n",
       "\t chr10 &  11412000 &  11414000 & chr10 &  11472000 &  11474000 & 2000 & 2000 &  60000 & chr10: 11412000- 11414000 & chr10: 11472000- 11474000\\\\\n",
       "\t chr10 &  45005000 &  45010000 & chr10 &  45465000 &  45470000 & 5000 & 5000 & 460000 & chr10: 45005000- 45010000 & chr10: 45465000- 45470000\\\\\n",
       "\\end{tabular}\n"
      ],
      "text/markdown": [
       "\n",
       "A tibble: 6 × 11\n",
       "\n",
       "| Chrom1 &lt;chr&gt; | Start1 &lt;dbl&gt; | End1 &lt;dbl&gt; | Chrom2 &lt;chr&gt; | Start2 &lt;dbl&gt; | End2 &lt;dbl&gt; | Length1 &lt;dbl&gt; | Length2 &lt;dbl&gt; | Distance &lt;dbl&gt; | LoopA &lt;chr&gt; | LoopB &lt;chr&gt; |\n",
       "|---|---|---|---|---|---|---|---|---|---|---|\n",
       "| chr10 | 102835000 | 102836000 | chr10 | 102901000 | 102902000 | 1000 | 1000 |  66000 | chr10:102835000-102836000 | chr10:102901000-102902000 |\n",
       "| chr10 | 123583000 | 123584000 | chr10 | 123967000 | 123968000 | 1000 | 1000 | 384000 | chr10:123583000-123584000 | chr10:123967000-123968000 |\n",
       "| chr10 |  60780000 |  60782000 | chr10 |  60828000 |  60830000 | 2000 | 2000 |  48000 | chr10: 60780000- 60782000 | chr10: 60828000- 60830000 |\n",
       "| chr10 |  33050000 |  33051000 | chr10 |  33067000 |  33068000 | 1000 | 1000 |  17000 | chr10: 33050000- 33051000 | chr10: 33067000- 33068000 |\n",
       "| chr10 |  11412000 |  11414000 | chr10 |  11472000 |  11474000 | 2000 | 2000 |  60000 | chr10: 11412000- 11414000 | chr10: 11472000- 11474000 |\n",
       "| chr10 |  45005000 |  45010000 | chr10 |  45465000 |  45470000 | 5000 | 5000 | 460000 | chr10: 45005000- 45010000 | chr10: 45465000- 45470000 |\n",
       "\n"
      ],
      "text/plain": [
       "  Chrom1 Start1    End1      Chrom2 Start2    End2      Length1 Length2\n",
       "1 chr10  102835000 102836000 chr10  102901000 102902000 1000    1000   \n",
       "2 chr10  123583000 123584000 chr10  123967000 123968000 1000    1000   \n",
       "3 chr10   60780000  60782000 chr10   60828000  60830000 2000    2000   \n",
       "4 chr10   33050000  33051000 chr10   33067000  33068000 1000    1000   \n",
       "5 chr10   11412000  11414000 chr10   11472000  11474000 2000    2000   \n",
       "6 chr10   45005000  45010000 chr10   45465000  45470000 5000    5000   \n",
       "  Distance LoopA                     LoopB                    \n",
       "1  66000   chr10:102835000-102836000 chr10:102901000-102902000\n",
       "2 384000   chr10:123583000-123584000 chr10:123967000-123968000\n",
       "3  48000   chr10: 60780000- 60782000 chr10: 60828000- 60830000\n",
       "4  17000   chr10: 33050000- 33051000 chr10: 33067000- 33068000\n",
       "5  60000   chr10: 11412000- 11414000 chr10: 11472000- 11474000\n",
       "6 460000   chr10: 45005000- 45010000 chr10: 45465000- 45470000"
      ]
     },
     "metadata": {},
     "output_type": "display_data"
    }
   ],
   "source": [
    "fdiry = file.path(\n",
    "    FD_RES, \n",
    "    \"results\", \n",
    "    \"region\", \n",
    "    \"hic_intact_ENCSR479XDG\", \n",
    "    \"loop\"\n",
    ")\n",
    "fname = \"loop.tsv\"\n",
    "fpath = file.path(fdiry, fname)\n",
    "\n",
    "dat = read_tsv(fpath)\n",
    "dat = dat %>% dplyr::mutate(\n",
    "    LoopA = paste0(Chrom1, \":\", format(Start1, scientific=FALSE), \"-\", format(End1, scientific=FALSE)),\n",
    "    LoopB = paste0(Chrom2, \":\", format(Start2, scientific=FALSE), \"-\", format(End2, scientific=FALSE))\n",
    ")\n",
    "dat_loop_info = dat\n",
    "print(dim(dat))\n",
    "head(dat)"
   ]
  },
  {
   "cell_type": "code",
   "execution_count": null,
   "metadata": {},
   "outputs": [],
   "source": []
  },
  {
   "cell_type": "code",
   "execution_count": 43,
   "metadata": {},
   "outputs": [
    {
     "name": "stdout",
     "output_type": "stream",
     "text": [
      "[1] 11903     2\n"
     ]
    },
    {
     "data": {
      "text/html": [
       "<table class=\"dataframe\">\n",
       "<caption>A tibble: 6 × 2</caption>\n",
       "<thead>\n",
       "\t<tr><th scope=col>LoopA</th><th scope=col>LabelA</th></tr>\n",
       "\t<tr><th scope=col>&lt;chr&gt;</th><th scope=col>&lt;chr&gt;</th></tr>\n",
       "</thead>\n",
       "<tbody>\n",
       "\t<tr><td>chr10:100340000-100350000</td><td>TSS</td></tr>\n",
       "\t<tr><td>chr10:100347000-100348000</td><td>TSS</td></tr>\n",
       "\t<tr><td>chr10:100515000-100520000</td><td>TSS</td></tr>\n",
       "\t<tr><td>chr10:101030000-101035000</td><td>TSS</td></tr>\n",
       "\t<tr><td>chr10:101030000-101040000</td><td>TSS</td></tr>\n",
       "\t<tr><td>chr10:101060000-101070000</td><td>TSS</td></tr>\n",
       "</tbody>\n",
       "</table>\n"
      ],
      "text/latex": [
       "A tibble: 6 × 2\n",
       "\\begin{tabular}{ll}\n",
       " LoopA & LabelA\\\\\n",
       " <chr> & <chr>\\\\\n",
       "\\hline\n",
       "\t chr10:100340000-100350000 & TSS\\\\\n",
       "\t chr10:100347000-100348000 & TSS\\\\\n",
       "\t chr10:100515000-100520000 & TSS\\\\\n",
       "\t chr10:101030000-101035000 & TSS\\\\\n",
       "\t chr10:101030000-101040000 & TSS\\\\\n",
       "\t chr10:101060000-101070000 & TSS\\\\\n",
       "\\end{tabular}\n"
      ],
      "text/markdown": [
       "\n",
       "A tibble: 6 × 2\n",
       "\n",
       "| LoopA &lt;chr&gt; | LabelA &lt;chr&gt; |\n",
       "|---|---|\n",
       "| chr10:100340000-100350000 | TSS |\n",
       "| chr10:100347000-100348000 | TSS |\n",
       "| chr10:100515000-100520000 | TSS |\n",
       "| chr10:101030000-101035000 | TSS |\n",
       "| chr10:101030000-101040000 | TSS |\n",
       "| chr10:101060000-101070000 | TSS |\n",
       "\n"
      ],
      "text/plain": [
       "  LoopA                     LabelA\n",
       "1 chr10:100340000-100350000 TSS   \n",
       "2 chr10:100347000-100348000 TSS   \n",
       "3 chr10:100515000-100520000 TSS   \n",
       "4 chr10:101030000-101035000 TSS   \n",
       "5 chr10:101030000-101040000 TSS   \n",
       "6 chr10:101060000-101070000 TSS   "
      ]
     },
     "metadata": {},
     "output_type": "display_data"
    }
   ],
   "source": [
    "lst = list(dat_loopA_annot_tss_count, dat_loopA_annot_starr_count)\n",
    "lst = lapply(lst, function(dat){\n",
    "    dat = dat %>% dplyr::select(LoopA, Label) %>% dplyr::rename(LabelA = Label)\n",
    "    return(dat)\n",
    "})\n",
    "\n",
    "dat = bind_rows(lst) %>% dplyr::distinct()\n",
    "\n",
    "dat_loopA = dat\n",
    "print(dim(dat))\n",
    "head(dat)"
   ]
  },
  {
   "cell_type": "code",
   "execution_count": 44,
   "metadata": {},
   "outputs": [
    {
     "name": "stdout",
     "output_type": "stream",
     "text": [
      "[1] 11786     2\n"
     ]
    },
    {
     "data": {
      "text/html": [
       "<table class=\"dataframe\">\n",
       "<caption>A tibble: 6 × 2</caption>\n",
       "<thead>\n",
       "\t<tr><th scope=col>LoopB</th><th scope=col>LabelB</th></tr>\n",
       "\t<tr><th scope=col>&lt;chr&gt;</th><th scope=col>&lt;chr&gt;</th></tr>\n",
       "</thead>\n",
       "<tbody>\n",
       "\t<tr><td>chr10:100372000-100374000</td><td>TSS</td></tr>\n",
       "\t<tr><td>chr10:100373000-100374000</td><td>TSS</td></tr>\n",
       "\t<tr><td>chr10:101060000-101070000</td><td>TSS</td></tr>\n",
       "\t<tr><td>chr10:101780000-101785000</td><td>TSS</td></tr>\n",
       "\t<tr><td>chr10:102050000-102060000</td><td>TSS</td></tr>\n",
       "\t<tr><td>chr10:102055000-102060000</td><td>TSS</td></tr>\n",
       "</tbody>\n",
       "</table>\n"
      ],
      "text/latex": [
       "A tibble: 6 × 2\n",
       "\\begin{tabular}{ll}\n",
       " LoopB & LabelB\\\\\n",
       " <chr> & <chr>\\\\\n",
       "\\hline\n",
       "\t chr10:100372000-100374000 & TSS\\\\\n",
       "\t chr10:100373000-100374000 & TSS\\\\\n",
       "\t chr10:101060000-101070000 & TSS\\\\\n",
       "\t chr10:101780000-101785000 & TSS\\\\\n",
       "\t chr10:102050000-102060000 & TSS\\\\\n",
       "\t chr10:102055000-102060000 & TSS\\\\\n",
       "\\end{tabular}\n"
      ],
      "text/markdown": [
       "\n",
       "A tibble: 6 × 2\n",
       "\n",
       "| LoopB &lt;chr&gt; | LabelB &lt;chr&gt; |\n",
       "|---|---|\n",
       "| chr10:100372000-100374000 | TSS |\n",
       "| chr10:100373000-100374000 | TSS |\n",
       "| chr10:101060000-101070000 | TSS |\n",
       "| chr10:101780000-101785000 | TSS |\n",
       "| chr10:102050000-102060000 | TSS |\n",
       "| chr10:102055000-102060000 | TSS |\n",
       "\n"
      ],
      "text/plain": [
       "  LoopB                     LabelB\n",
       "1 chr10:100372000-100374000 TSS   \n",
       "2 chr10:100373000-100374000 TSS   \n",
       "3 chr10:101060000-101070000 TSS   \n",
       "4 chr10:101780000-101785000 TSS   \n",
       "5 chr10:102050000-102060000 TSS   \n",
       "6 chr10:102055000-102060000 TSS   "
      ]
     },
     "metadata": {},
     "output_type": "display_data"
    }
   ],
   "source": [
    "lst = list(dat_loopB_annot_tss_count, dat_loopB_annot_starr_count)\n",
    "lst = lapply(lst, function(dat){\n",
    "    dat = dat %>% dplyr::select(LoopB, Label) %>% dplyr::rename(LabelB = Label)\n",
    "    return(dat)\n",
    "})\n",
    "\n",
    "dat = bind_rows(lst) %>% dplyr::distinct()\n",
    "\n",
    "dat_loopB = dat\n",
    "print(dim(dat))\n",
    "head(dat)"
   ]
  },
  {
   "cell_type": "code",
   "execution_count": 48,
   "metadata": {},
   "outputs": [
    {
     "data": {
      "text/html": [
       "<table class=\"dataframe\">\n",
       "<caption>A rowwise_df: 6 × 2</caption>\n",
       "<thead>\n",
       "\t<tr><th scope=col>Loop</th><th scope=col>Label</th></tr>\n",
       "\t<tr><th scope=col>&lt;chr&gt;</th><th scope=col>&lt;chr&gt;</th></tr>\n",
       "</thead>\n",
       "<tbody>\n",
       "\t<tr><td>chr10:102835000-102836000|chr10:102901000-102902000</td><td>X---X</td></tr>\n",
       "\t<tr><td>chr10:123583000-123584000|chr10:123967000-123968000</td><td>X---X</td></tr>\n",
       "\t<tr><td>chr10: 60780000- 60782000|chr10: 60828000- 60830000</td><td>X---X</td></tr>\n",
       "\t<tr><td>chr10: 33050000- 33051000|chr10: 33067000- 33068000</td><td>X---X</td></tr>\n",
       "\t<tr><td>chr10: 11412000- 11414000|chr10: 11472000- 11474000</td><td>X---X</td></tr>\n",
       "\t<tr><td>chr10: 45005000- 45010000|chr10: 45465000- 45470000</td><td>X---X</td></tr>\n",
       "</tbody>\n",
       "</table>\n"
      ],
      "text/latex": [
       "A rowwise\\_df: 6 × 2\n",
       "\\begin{tabular}{ll}\n",
       " Loop & Label\\\\\n",
       " <chr> & <chr>\\\\\n",
       "\\hline\n",
       "\t chr10:102835000-102836000\\textbar{}chr10:102901000-102902000 & X---X\\\\\n",
       "\t chr10:123583000-123584000\\textbar{}chr10:123967000-123968000 & X---X\\\\\n",
       "\t chr10: 60780000- 60782000\\textbar{}chr10: 60828000- 60830000 & X---X\\\\\n",
       "\t chr10: 33050000- 33051000\\textbar{}chr10: 33067000- 33068000 & X---X\\\\\n",
       "\t chr10: 11412000- 11414000\\textbar{}chr10: 11472000- 11474000 & X---X\\\\\n",
       "\t chr10: 45005000- 45010000\\textbar{}chr10: 45465000- 45470000 & X---X\\\\\n",
       "\\end{tabular}\n"
      ],
      "text/markdown": [
       "\n",
       "A rowwise_df: 6 × 2\n",
       "\n",
       "| Loop &lt;chr&gt; | Label &lt;chr&gt; |\n",
       "|---|---|\n",
       "| chr10:102835000-102836000|chr10:102901000-102902000 | X---X |\n",
       "| chr10:123583000-123584000|chr10:123967000-123968000 | X---X |\n",
       "| chr10: 60780000- 60782000|chr10: 60828000- 60830000 | X---X |\n",
       "| chr10: 33050000- 33051000|chr10: 33067000- 33068000 | X---X |\n",
       "| chr10: 11412000- 11414000|chr10: 11472000- 11474000 | X---X |\n",
       "| chr10: 45005000- 45010000|chr10: 45465000- 45470000 | X---X |\n",
       "\n"
      ],
      "text/plain": [
       "  Loop                                                Label\n",
       "1 chr10:102835000-102836000|chr10:102901000-102902000 X---X\n",
       "2 chr10:123583000-123584000|chr10:123967000-123968000 X---X\n",
       "3 chr10: 60780000- 60782000|chr10: 60828000- 60830000 X---X\n",
       "4 chr10: 33050000- 33051000|chr10: 33067000- 33068000 X---X\n",
       "5 chr10: 11412000- 11414000|chr10: 11472000- 11474000 X---X\n",
       "6 chr10: 45005000- 45010000|chr10: 45465000- 45470000 X---X"
      ]
     },
     "metadata": {},
     "output_type": "display_data"
    }
   ],
   "source": [
    "dat_loop = dat_loop_info %>% dplyr::select(LoopA, LoopB)\n",
    "dat_loop = dat_loop %>% dplyr::mutate(Loop=paste(LoopA, LoopB, sep=\"|\"))\n",
    "dat_loop = dat_loop %>% dplyr::left_join(dat_loopA, by=\"LoopA\", relationship = \"many-to-many\")\n",
    "dat_loop = dat_loop %>% dplyr::left_join(dat_loopB, by=\"LoopB\", relationship = \"many-to-many\")\n",
    "dat_loop = dat_loop %>% replace(is.na(.),\"X\")\n",
    "\n",
    "dat_loop = dat_loop %>% \n",
    "    dplyr::rowwise() %>% \n",
    "    dplyr::mutate(Label = paste(sort(c(LabelA, LabelB)), collapse = \"---\")) %>%\n",
    "    dplyr::select(Loop, Label) %>%\n",
    "    dplyr::distinct()\n",
    "\n",
    "head(dat_loop)"
   ]
  },
  {
   "cell_type": "code",
   "execution_count": 50,
   "metadata": {},
   "outputs": [
    {
     "data": {
      "image/png": "[encoded data removed]",
      "text/plain": [
       "plot without title"
      ]
     },
     "metadata": {
      "image/png": {
       "height": 420,
       "width": 420
      }
     },
     "output_type": "display_data"
    }
   ],
   "source": [
    "dat = as.data.frame(table(dat_loop$Label))\n",
    "gpt = ggplot(dat, aes(x=Var1, y=Freq)) +\n",
    "    geom_col() + \n",
    "    labs(x=\"\", y=\"Count\") +\n",
    "    theme_cowplot() +\n",
    "    theme(axis.text.x=element_text(angle=90, vjust=0.5, hjust=1))\n",
    "\n",
    "print(gpt)"
   ]
  },
  {
   "cell_type": "code",
   "execution_count": null,
   "metadata": {},
   "outputs": [],
   "source": []
  }
 ],
 "metadata": {
  "kernelspec": {
   "display_name": "R",
   "language": "R",
   "name": "ir"
  },
  "language_info": {
   "codemirror_mode": "r",
   "file_extension": ".r",
   "mimetype": "text/x-r-source",
   "name": "R",
   "pygments_lexer": "r",
   "version": "4.3.0"
  }
 },
 "nbformat": 4,
 "nbformat_minor": 4
}
