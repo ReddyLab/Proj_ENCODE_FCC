{
 "cells": [
  {
   "cell_type": "code",
   "execution_count": 1,
   "metadata": {},
   "outputs": [
    {
     "name": "stdout",
     "output_type": "stream",
     "text": [
      "You are in Singularity: singularity_proj_encode_fcc \n",
      "BASE DIRECTORY (FD_BASE): /data/reddylab/Kuei \n",
      "WORK DIRECTORY (FD_WORK): /data/reddylab/Kuei/out \n",
      "CODE DIRECTORY (FD_CODE): /data/reddylab/Kuei/code \n",
      "PATH OF PROJECT (FD_PRJ): /data/reddylab/Kuei/code/Proj_CombEffect_ENCODE_FCC \n",
      "PATH OF RESULTS (FD_RES): /data/reddylab/Kuei/out/proj_combeffect_encode_fcc \n",
      "PATH OF LOG     (FD_LOG): /data/reddylab/Kuei/out/proj_combeffect_encode_fcc/log \n"
     ]
    }
   ],
   "source": [
    "suppressMessages(suppressWarnings(source(\"../config/config_sing.R\")))\n",
    "show_env()"
   ]
  },
  {
   "cell_type": "code",
   "execution_count": 2,
   "metadata": {},
   "outputs": [
    {
     "data": {
      "text/html": [
       "<style>\n",
       ".list-inline {list-style: none; margin:0; padding: 0}\n",
       ".list-inline>li {display: inline-block}\n",
       ".list-inline>li:not(:last-child)::after {content: \"\\00b7\"; padding: 0 .5ex}\n",
       "</style>\n",
       "<ol class=list-inline><li>'description.tsv'</li><li>'enhancer_zscore_junke.concat.STARR.bed.gz'</li><li>'enhancer_zscore_junke.concat.STARRMPRA.bed.gz'</li><li>'enhancer_zscore_junke.merge.STARR.bed.gz'</li><li>'enhancer_zscore_junke.merge.STARRMPRA.bed.gz'</li><li>'enhancer_zscore_junke.peak.ASTARR.bed.gz'</li><li>'enhancer_zscore_junke.peak.LMPRA.bed.gz'</li><li>'enhancer_zscore_junke.peak.TMPRA_GATAMYC.bed.gz'</li><li>'enhancer_zscore_junke.peak.WSTARR.bed.gz'</li></ol>\n"
      ],
      "text/latex": [
       "\\begin{enumerate*}\n",
       "\\item 'description.tsv'\n",
       "\\item 'enhancer\\_zscore\\_junke.concat.STARR.bed.gz'\n",
       "\\item 'enhancer\\_zscore\\_junke.concat.STARRMPRA.bed.gz'\n",
       "\\item 'enhancer\\_zscore\\_junke.merge.STARR.bed.gz'\n",
       "\\item 'enhancer\\_zscore\\_junke.merge.STARRMPRA.bed.gz'\n",
       "\\item 'enhancer\\_zscore\\_junke.peak.ASTARR.bed.gz'\n",
       "\\item 'enhancer\\_zscore\\_junke.peak.LMPRA.bed.gz'\n",
       "\\item 'enhancer\\_zscore\\_junke.peak.TMPRA\\_GATAMYC.bed.gz'\n",
       "\\item 'enhancer\\_zscore\\_junke.peak.WSTARR.bed.gz'\n",
       "\\end{enumerate*}\n"
      ],
      "text/markdown": [
       "1. 'description.tsv'\n",
       "2. 'enhancer_zscore_junke.concat.STARR.bed.gz'\n",
       "3. 'enhancer_zscore_junke.concat.STARRMPRA.bed.gz'\n",
       "4. 'enhancer_zscore_junke.merge.STARR.bed.gz'\n",
       "5. 'enhancer_zscore_junke.merge.STARRMPRA.bed.gz'\n",
       "6. 'enhancer_zscore_junke.peak.ASTARR.bed.gz'\n",
       "7. 'enhancer_zscore_junke.peak.LMPRA.bed.gz'\n",
       "8. 'enhancer_zscore_junke.peak.TMPRA_GATAMYC.bed.gz'\n",
       "9. 'enhancer_zscore_junke.peak.WSTARR.bed.gz'\n",
       "\n",
       "\n"
      ],
      "text/plain": [
       "[1] \"description.tsv\"                                \n",
       "[2] \"enhancer_zscore_junke.concat.STARR.bed.gz\"      \n",
       "[3] \"enhancer_zscore_junke.concat.STARRMPRA.bed.gz\"  \n",
       "[4] \"enhancer_zscore_junke.merge.STARR.bed.gz\"       \n",
       "[5] \"enhancer_zscore_junke.merge.STARRMPRA.bed.gz\"   \n",
       "[6] \"enhancer_zscore_junke.peak.ASTARR.bed.gz\"       \n",
       "[7] \"enhancer_zscore_junke.peak.LMPRA.bed.gz\"        \n",
       "[8] \"enhancer_zscore_junke.peak.TMPRA_GATAMYC.bed.gz\"\n",
       "[9] \"enhancer_zscore_junke.peak.WSTARR.bed.gz\"       "
      ]
     },
     "metadata": {},
     "output_type": "display_data"
    }
   ],
   "source": [
    "fdiry = file.path(\n",
    "    FD_RES, \n",
    "    \"results\", \n",
    "    \"region\", \n",
    "    \"annotation_enhancer_zscore_junke\")\n",
    "dir(fdiry)"
   ]
  },
  {
   "cell_type": "code",
   "execution_count": 3,
   "metadata": {},
   "outputs": [
    {
     "data": {
      "text/html": [
       "<style>\n",
       ".list-inline {list-style: none; margin:0; padding: 0}\n",
       ".list-inline>li {display: inline-block}\n",
       ".list-inline>li:not(:last-child)::after {content: \"\\00b7\"; padding: 0 .5ex}\n",
       "</style>\n",
       "<ol class=list-inline><li>'loopA.annotation.enhancer_zscore_junke_peak_astarr.bed.gz'</li><li>'loopA.annotation.enhancer_zscore_junke_peak_wstarr.bed.gz'</li><li>'loopA.annotation.enhancer_zscore_junke.concat.STARR.bed.gz'</li><li>'loopA.annotation.enhancer_zscore_junke.concat.STARRMPRA.bed.gz'</li><li>'loopA.annotation.enhancer_zscore_junke.merge.STARR.bed.gz'</li><li>'loopA.annotation.enhancer_zscore_junke.merge.STARRMPRA.bed.gz'</li><li>'loopA.annotation.enhancer_zscore_junke.peak.ASTARR.bed.gz'</li><li>'loopA.annotation.enhancer_zscore_junke.peak.LMPRA.bed.gz'</li><li>'loopA.annotation.enhancer_zscore_junke.peak.TMPRA_GATAMYC.bed.gz'</li><li>'loopA.annotation.enhancer_zscore_junke.peak.WSTARR.bed.gz'</li><li>'loopB.annotation.enhancer_zscore_junke_peak_astarr.bed.gz'</li><li>'loopB.annotation.enhancer_zscore_junke_peak_wstarr.bed.gz'</li><li>'loopB.annotation.enhancer_zscore_junke.concat.STARR.bed.gz'</li><li>'loopB.annotation.enhancer_zscore_junke.concat.STARRMPRA.bed.gz'</li><li>'loopB.annotation.enhancer_zscore_junke.merge.STARR.bed.gz'</li><li>'loopB.annotation.enhancer_zscore_junke.merge.STARRMPRA.bed.gz'</li><li>'loopB.annotation.enhancer_zscore_junke.peak.ASTARR.bed.gz'</li><li>'loopB.annotation.enhancer_zscore_junke.peak.LMPRA.bed.gz'</li><li>'loopB.annotation.enhancer_zscore_junke.peak.TMPRA_GATAMYC.bed.gz'</li><li>'loopB.annotation.enhancer_zscore_junke.peak.WSTARR.bed.gz'</li></ol>\n"
      ],
      "text/latex": [
       "\\begin{enumerate*}\n",
       "\\item 'loopA.annotation.enhancer\\_zscore\\_junke\\_peak\\_astarr.bed.gz'\n",
       "\\item 'loopA.annotation.enhancer\\_zscore\\_junke\\_peak\\_wstarr.bed.gz'\n",
       "\\item 'loopA.annotation.enhancer\\_zscore\\_junke.concat.STARR.bed.gz'\n",
       "\\item 'loopA.annotation.enhancer\\_zscore\\_junke.concat.STARRMPRA.bed.gz'\n",
       "\\item 'loopA.annotation.enhancer\\_zscore\\_junke.merge.STARR.bed.gz'\n",
       "\\item 'loopA.annotation.enhancer\\_zscore\\_junke.merge.STARRMPRA.bed.gz'\n",
       "\\item 'loopA.annotation.enhancer\\_zscore\\_junke.peak.ASTARR.bed.gz'\n",
       "\\item 'loopA.annotation.enhancer\\_zscore\\_junke.peak.LMPRA.bed.gz'\n",
       "\\item 'loopA.annotation.enhancer\\_zscore\\_junke.peak.TMPRA\\_GATAMYC.bed.gz'\n",
       "\\item 'loopA.annotation.enhancer\\_zscore\\_junke.peak.WSTARR.bed.gz'\n",
       "\\item 'loopB.annotation.enhancer\\_zscore\\_junke\\_peak\\_astarr.bed.gz'\n",
       "\\item 'loopB.annotation.enhancer\\_zscore\\_junke\\_peak\\_wstarr.bed.gz'\n",
       "\\item 'loopB.annotation.enhancer\\_zscore\\_junke.concat.STARR.bed.gz'\n",
       "\\item 'loopB.annotation.enhancer\\_zscore\\_junke.concat.STARRMPRA.bed.gz'\n",
       "\\item 'loopB.annotation.enhancer\\_zscore\\_junke.merge.STARR.bed.gz'\n",
       "\\item 'loopB.annotation.enhancer\\_zscore\\_junke.merge.STARRMPRA.bed.gz'\n",
       "\\item 'loopB.annotation.enhancer\\_zscore\\_junke.peak.ASTARR.bed.gz'\n",
       "\\item 'loopB.annotation.enhancer\\_zscore\\_junke.peak.LMPRA.bed.gz'\n",
       "\\item 'loopB.annotation.enhancer\\_zscore\\_junke.peak.TMPRA\\_GATAMYC.bed.gz'\n",
       "\\item 'loopB.annotation.enhancer\\_zscore\\_junke.peak.WSTARR.bed.gz'\n",
       "\\end{enumerate*}\n"
      ],
      "text/markdown": [
       "1. 'loopA.annotation.enhancer_zscore_junke_peak_astarr.bed.gz'\n",
       "2. 'loopA.annotation.enhancer_zscore_junke_peak_wstarr.bed.gz'\n",
       "3. 'loopA.annotation.enhancer_zscore_junke.concat.STARR.bed.gz'\n",
       "4. 'loopA.annotation.enhancer_zscore_junke.concat.STARRMPRA.bed.gz'\n",
       "5. 'loopA.annotation.enhancer_zscore_junke.merge.STARR.bed.gz'\n",
       "6. 'loopA.annotation.enhancer_zscore_junke.merge.STARRMPRA.bed.gz'\n",
       "7. 'loopA.annotation.enhancer_zscore_junke.peak.ASTARR.bed.gz'\n",
       "8. 'loopA.annotation.enhancer_zscore_junke.peak.LMPRA.bed.gz'\n",
       "9. 'loopA.annotation.enhancer_zscore_junke.peak.TMPRA_GATAMYC.bed.gz'\n",
       "10. 'loopA.annotation.enhancer_zscore_junke.peak.WSTARR.bed.gz'\n",
       "11. 'loopB.annotation.enhancer_zscore_junke_peak_astarr.bed.gz'\n",
       "12. 'loopB.annotation.enhancer_zscore_junke_peak_wstarr.bed.gz'\n",
       "13. 'loopB.annotation.enhancer_zscore_junke.concat.STARR.bed.gz'\n",
       "14. 'loopB.annotation.enhancer_zscore_junke.concat.STARRMPRA.bed.gz'\n",
       "15. 'loopB.annotation.enhancer_zscore_junke.merge.STARR.bed.gz'\n",
       "16. 'loopB.annotation.enhancer_zscore_junke.merge.STARRMPRA.bed.gz'\n",
       "17. 'loopB.annotation.enhancer_zscore_junke.peak.ASTARR.bed.gz'\n",
       "18. 'loopB.annotation.enhancer_zscore_junke.peak.LMPRA.bed.gz'\n",
       "19. 'loopB.annotation.enhancer_zscore_junke.peak.TMPRA_GATAMYC.bed.gz'\n",
       "20. 'loopB.annotation.enhancer_zscore_junke.peak.WSTARR.bed.gz'\n",
       "\n",
       "\n"
      ],
      "text/plain": [
       " [1] \"loopA.annotation.enhancer_zscore_junke_peak_astarr.bed.gz\"       \n",
       " [2] \"loopA.annotation.enhancer_zscore_junke_peak_wstarr.bed.gz\"       \n",
       " [3] \"loopA.annotation.enhancer_zscore_junke.concat.STARR.bed.gz\"      \n",
       " [4] \"loopA.annotation.enhancer_zscore_junke.concat.STARRMPRA.bed.gz\"  \n",
       " [5] \"loopA.annotation.enhancer_zscore_junke.merge.STARR.bed.gz\"       \n",
       " [6] \"loopA.annotation.enhancer_zscore_junke.merge.STARRMPRA.bed.gz\"   \n",
       " [7] \"loopA.annotation.enhancer_zscore_junke.peak.ASTARR.bed.gz\"       \n",
       " [8] \"loopA.annotation.enhancer_zscore_junke.peak.LMPRA.bed.gz\"        \n",
       " [9] \"loopA.annotation.enhancer_zscore_junke.peak.TMPRA_GATAMYC.bed.gz\"\n",
       "[10] \"loopA.annotation.enhancer_zscore_junke.peak.WSTARR.bed.gz\"       \n",
       "[11] \"loopB.annotation.enhancer_zscore_junke_peak_astarr.bed.gz\"       \n",
       "[12] \"loopB.annotation.enhancer_zscore_junke_peak_wstarr.bed.gz\"       \n",
       "[13] \"loopB.annotation.enhancer_zscore_junke.concat.STARR.bed.gz\"      \n",
       "[14] \"loopB.annotation.enhancer_zscore_junke.concat.STARRMPRA.bed.gz\"  \n",
       "[15] \"loopB.annotation.enhancer_zscore_junke.merge.STARR.bed.gz\"       \n",
       "[16] \"loopB.annotation.enhancer_zscore_junke.merge.STARRMPRA.bed.gz\"   \n",
       "[17] \"loopB.annotation.enhancer_zscore_junke.peak.ASTARR.bed.gz\"       \n",
       "[18] \"loopB.annotation.enhancer_zscore_junke.peak.LMPRA.bed.gz\"        \n",
       "[19] \"loopB.annotation.enhancer_zscore_junke.peak.TMPRA_GATAMYC.bed.gz\"\n",
       "[20] \"loopB.annotation.enhancer_zscore_junke.peak.WSTARR.bed.gz\"       "
      ]
     },
     "metadata": {},
     "output_type": "display_data"
    }
   ],
   "source": [
    "fdiry = file.path(\n",
    "    FD_RES, \n",
    "    \"results\", \n",
    "    \"region\", \n",
    "    \"hic_intact_ENCSR479XDG\", \n",
    "    \"loop\",\n",
    "    \"annotation_enhancer_zscore_junke\"\n",
    ")\n",
    "dir(fdiry)"
   ]
  },
  {
   "cell_type": "code",
   "execution_count": 4,
   "metadata": {},
   "outputs": [
    {
     "name": "stderr",
     "output_type": "stream",
     "text": [
      "\u001b[1mRows: \u001b[22m\u001b[34m4\u001b[39m \u001b[1mColumns: \u001b[22m\u001b[34m2\u001b[39m\n",
      "\u001b[36m──\u001b[39m \u001b[1mColumn specification\u001b[22m \u001b[36m─────────────────────────────────────────────────────────────────────\u001b[39m\n",
      "\u001b[1mDelimiter:\u001b[22m \"\\t\"\n",
      "\u001b[31mchr\u001b[39m (2): Name, Description\n",
      "\n",
      "\u001b[36mℹ\u001b[39m Use `spec()` to retrieve the full column specification for this data.\n",
      "\u001b[36mℹ\u001b[39m Specify the column types or set `show_col_types = FALSE` to quiet this message.\n"
     ]
    },
    {
     "name": "stdout",
     "output_type": "stream",
     "text": [
      "[1] 4 2\n"
     ]
    },
    {
     "data": {
      "text/html": [
       "<table class=\"dataframe\">\n",
       "<caption>A spec_tbl_df: 4 × 2</caption>\n",
       "<thead>\n",
       "\t<tr><th scope=col>Name</th><th scope=col>Description</th></tr>\n",
       "\t<tr><th scope=col>&lt;chr&gt;</th><th scope=col>&lt;chr&gt;</th></tr>\n",
       "</thead>\n",
       "<tbody>\n",
       "\t<tr><td>Chrom</td><td>Seqnames   </td></tr>\n",
       "\t<tr><td>Start</td><td>Start      </td></tr>\n",
       "\t<tr><td>End  </td><td>End        </td></tr>\n",
       "\t<tr><td>Assay</td><td>Assay label</td></tr>\n",
       "</tbody>\n",
       "</table>\n"
      ],
      "text/latex": [
       "A spec\\_tbl\\_df: 4 × 2\n",
       "\\begin{tabular}{ll}\n",
       " Name & Description\\\\\n",
       " <chr> & <chr>\\\\\n",
       "\\hline\n",
       "\t Chrom & Seqnames   \\\\\n",
       "\t Start & Start      \\\\\n",
       "\t End   & End        \\\\\n",
       "\t Assay & Assay label\\\\\n",
       "\\end{tabular}\n"
      ],
      "text/markdown": [
       "\n",
       "A spec_tbl_df: 4 × 2\n",
       "\n",
       "| Name &lt;chr&gt; | Description &lt;chr&gt; |\n",
       "|---|---|\n",
       "| Chrom | Seqnames    |\n",
       "| Start | Start       |\n",
       "| End   | End         |\n",
       "| Assay | Assay label |\n",
       "\n"
      ],
      "text/plain": [
       "  Name  Description\n",
       "1 Chrom Seqnames   \n",
       "2 Start Start      \n",
       "3 End   End        \n",
       "4 Assay Assay label"
      ]
     },
     "metadata": {},
     "output_type": "display_data"
    }
   ],
   "source": [
    "folder = \"annotation_enhancer_zscore_junke\"\n",
    "fdiry  = file.path(FD_RES, \"results\", \"region\", folder)\n",
    "fname = \"description.tsv\"\n",
    "fpath = file.path(fdiry, fname)\n",
    "\n",
    "dat = read_tsv(fpath)\n",
    "\n",
    "dat_cnames = dat\n",
    "print(dim(dat))\n",
    "dat"
   ]
  },
  {
   "cell_type": "code",
   "execution_count": 5,
   "metadata": {},
   "outputs": [
    {
     "name": "stdout",
     "output_type": "stream",
     "text": [
      "[1] 14962    11\n"
     ]
    },
    {
     "data": {
      "text/html": [
       "<table class=\"dataframe\">\n",
       "<caption>A rowwise_df: 6 × 11</caption>\n",
       "<thead>\n",
       "\t<tr><th scope=col>Chrom_Loop</th><th scope=col>Start_Loop</th><th scope=col>End_Loop</th><th scope=col>Chrom</th><th scope=col>Start</th><th scope=col>End</th><th scope=col>Assay</th><th scope=col>Overlap</th><th scope=col>LoopA</th><th scope=col>Annotation</th><th scope=col>Label</th></tr>\n",
       "\t<tr><th scope=col>&lt;chr&gt;</th><th scope=col>&lt;dbl&gt;</th><th scope=col>&lt;dbl&gt;</th><th scope=col>&lt;chr&gt;</th><th scope=col>&lt;dbl&gt;</th><th scope=col>&lt;dbl&gt;</th><th scope=col>&lt;chr&gt;</th><th scope=col>&lt;dbl&gt;</th><th scope=col>&lt;chr&gt;</th><th scope=col>&lt;chr&gt;</th><th scope=col>&lt;chr&gt;</th></tr>\n",
       "</thead>\n",
       "<tbody>\n",
       "\t<tr><td>chr1</td><td> 770000</td><td> 780000</td><td>chr1</td><td> 778420</td><td> 779050</td><td>WSTARR</td><td>630</td><td>chr1:770000-780000  </td><td>Enhancer_ZScore_Junke</td><td>Enhancer_STARRMPRA</td></tr>\n",
       "\t<tr><td>chr1</td><td> 904000</td><td> 906000</td><td>chr1</td><td> 904350</td><td> 904550</td><td>LMPRA </td><td>200</td><td>chr1:904000-906000  </td><td>Enhancer_ZScore_Junke</td><td>Enhancer_STARRMPRA</td></tr>\n",
       "\t<tr><td>chr1</td><td>1000000</td><td>1005000</td><td>chr1</td><td>1000690</td><td>1000990</td><td>WSTARR</td><td>300</td><td>chr1:1000000-1005000</td><td>Enhancer_ZScore_Junke</td><td>Enhancer_STARRMPRA</td></tr>\n",
       "\t<tr><td>chr1</td><td>1000000</td><td>1005000</td><td>chr1</td><td>1001030</td><td>1001180</td><td>WSTARR</td><td>150</td><td>chr1:1000000-1005000</td><td>Enhancer_ZScore_Junke</td><td>Enhancer_STARRMPRA</td></tr>\n",
       "\t<tr><td>chr1</td><td>1000000</td><td>1005000</td><td>chr1</td><td>1003910</td><td>1004100</td><td>WSTARR</td><td>190</td><td>chr1:1000000-1005000</td><td>Enhancer_ZScore_Junke</td><td>Enhancer_STARRMPRA</td></tr>\n",
       "\t<tr><td>chr1</td><td>1020000</td><td>1025000</td><td>chr1</td><td>1021790</td><td>1022250</td><td>WSTARR</td><td>460</td><td>chr1:1020000-1025000</td><td>Enhancer_ZScore_Junke</td><td>Enhancer_STARRMPRA</td></tr>\n",
       "</tbody>\n",
       "</table>\n"
      ],
      "text/latex": [
       "A rowwise\\_df: 6 × 11\n",
       "\\begin{tabular}{lllllllllll}\n",
       " Chrom\\_Loop & Start\\_Loop & End\\_Loop & Chrom & Start & End & Assay & Overlap & LoopA & Annotation & Label\\\\\n",
       " <chr> & <dbl> & <dbl> & <chr> & <dbl> & <dbl> & <chr> & <dbl> & <chr> & <chr> & <chr>\\\\\n",
       "\\hline\n",
       "\t chr1 &  770000 &  780000 & chr1 &  778420 &  779050 & WSTARR & 630 & chr1:770000-780000   & Enhancer\\_ZScore\\_Junke & Enhancer\\_STARRMPRA\\\\\n",
       "\t chr1 &  904000 &  906000 & chr1 &  904350 &  904550 & LMPRA  & 200 & chr1:904000-906000   & Enhancer\\_ZScore\\_Junke & Enhancer\\_STARRMPRA\\\\\n",
       "\t chr1 & 1000000 & 1005000 & chr1 & 1000690 & 1000990 & WSTARR & 300 & chr1:1000000-1005000 & Enhancer\\_ZScore\\_Junke & Enhancer\\_STARRMPRA\\\\\n",
       "\t chr1 & 1000000 & 1005000 & chr1 & 1001030 & 1001180 & WSTARR & 150 & chr1:1000000-1005000 & Enhancer\\_ZScore\\_Junke & Enhancer\\_STARRMPRA\\\\\n",
       "\t chr1 & 1000000 & 1005000 & chr1 & 1003910 & 1004100 & WSTARR & 190 & chr1:1000000-1005000 & Enhancer\\_ZScore\\_Junke & Enhancer\\_STARRMPRA\\\\\n",
       "\t chr1 & 1020000 & 1025000 & chr1 & 1021790 & 1022250 & WSTARR & 460 & chr1:1020000-1025000 & Enhancer\\_ZScore\\_Junke & Enhancer\\_STARRMPRA\\\\\n",
       "\\end{tabular}\n"
      ],
      "text/markdown": [
       "\n",
       "A rowwise_df: 6 × 11\n",
       "\n",
       "| Chrom_Loop &lt;chr&gt; | Start_Loop &lt;dbl&gt; | End_Loop &lt;dbl&gt; | Chrom &lt;chr&gt; | Start &lt;dbl&gt; | End &lt;dbl&gt; | Assay &lt;chr&gt; | Overlap &lt;dbl&gt; | LoopA &lt;chr&gt; | Annotation &lt;chr&gt; | Label &lt;chr&gt; |\n",
       "|---|---|---|---|---|---|---|---|---|---|---|\n",
       "| chr1 |  770000 |  780000 | chr1 |  778420 |  779050 | WSTARR | 630 | chr1:770000-780000   | Enhancer_ZScore_Junke | Enhancer_STARRMPRA |\n",
       "| chr1 |  904000 |  906000 | chr1 |  904350 |  904550 | LMPRA  | 200 | chr1:904000-906000   | Enhancer_ZScore_Junke | Enhancer_STARRMPRA |\n",
       "| chr1 | 1000000 | 1005000 | chr1 | 1000690 | 1000990 | WSTARR | 300 | chr1:1000000-1005000 | Enhancer_ZScore_Junke | Enhancer_STARRMPRA |\n",
       "| chr1 | 1000000 | 1005000 | chr1 | 1001030 | 1001180 | WSTARR | 150 | chr1:1000000-1005000 | Enhancer_ZScore_Junke | Enhancer_STARRMPRA |\n",
       "| chr1 | 1000000 | 1005000 | chr1 | 1003910 | 1004100 | WSTARR | 190 | chr1:1000000-1005000 | Enhancer_ZScore_Junke | Enhancer_STARRMPRA |\n",
       "| chr1 | 1020000 | 1025000 | chr1 | 1021790 | 1022250 | WSTARR | 460 | chr1:1020000-1025000 | Enhancer_ZScore_Junke | Enhancer_STARRMPRA |\n",
       "\n"
      ],
      "text/plain": [
       "  Chrom_Loop Start_Loop End_Loop Chrom Start   End     Assay  Overlap\n",
       "1 chr1        770000     780000  chr1   778420  779050 WSTARR 630    \n",
       "2 chr1        904000     906000  chr1   904350  904550 LMPRA  200    \n",
       "3 chr1       1000000    1005000  chr1  1000690 1000990 WSTARR 300    \n",
       "4 chr1       1000000    1005000  chr1  1001030 1001180 WSTARR 150    \n",
       "5 chr1       1000000    1005000  chr1  1003910 1004100 WSTARR 190    \n",
       "6 chr1       1020000    1025000  chr1  1021790 1022250 WSTARR 460    \n",
       "  LoopA                Annotation            Label             \n",
       "1 chr1:770000-780000   Enhancer_ZScore_Junke Enhancer_STARRMPRA\n",
       "2 chr1:904000-906000   Enhancer_ZScore_Junke Enhancer_STARRMPRA\n",
       "3 chr1:1000000-1005000 Enhancer_ZScore_Junke Enhancer_STARRMPRA\n",
       "4 chr1:1000000-1005000 Enhancer_ZScore_Junke Enhancer_STARRMPRA\n",
       "5 chr1:1000000-1005000 Enhancer_ZScore_Junke Enhancer_STARRMPRA\n",
       "6 chr1:1020000-1025000 Enhancer_ZScore_Junke Enhancer_STARRMPRA"
      ]
     },
     "metadata": {},
     "output_type": "display_data"
    }
   ],
   "source": [
    "### init\n",
    "annotation = \"Enhancer_ZScore_Junke\"\n",
    "label      = \"Enhancer_STARRMPRA\"\n",
    "cnames = dat_cnames$Name\n",
    "cnames = c(\"Chrom_Loop\", \"Start_Loop\", \"End_Loop\", cnames, \"Overlap\")\n",
    "\n",
    "###\n",
    "fdiry = file.path(\n",
    "    FD_RES, \n",
    "    \"results\", \n",
    "    \"region\", \n",
    "    \"hic_intact_ENCSR479XDG\", \n",
    "    \"loop\",\n",
    "    \"annotation_enhancer_zscore_junke\"\n",
    ")\n",
    "fname = \"loopA.annotation.enhancer_zscore_junke.merge.STARRMPRA.bed.gz\"\n",
    "fpath = file.path(fdiry, fname)\n",
    "\n",
    "\n",
    "### read data\n",
    "dat = read_tsv(fpath, col_names = cnames, show_col_types = FALSE)\n",
    "dat = dat %>% dplyr::rowwise() %>% dplyr::mutate(\n",
    "    LoopA      = paste0(\n",
    "        Chrom_Loop, \n",
    "        \":\",\n",
    "        format(Start_Loop, scientific=FALSE), \n",
    "        \"-\",\n",
    "        format(End_Loop,   scientific=FALSE)),\n",
    "    Annotation = annotation,\n",
    "    Label      = label\n",
    ")\n",
    "\n",
    "\n",
    "### assign and show\n",
    "dat_loopA_annot_starrmpra = dat\n",
    "print(dim(dat))\n",
    "head(dat)"
   ]
  },
  {
   "cell_type": "code",
   "execution_count": 6,
   "metadata": {},
   "outputs": [
    {
     "name": "stdout",
     "output_type": "stream",
     "text": [
      "[1] 15128    11\n"
     ]
    },
    {
     "data": {
      "text/html": [
       "<table class=\"dataframe\">\n",
       "<caption>A rowwise_df: 6 × 11</caption>\n",
       "<thead>\n",
       "\t<tr><th scope=col>Chrom_Loop</th><th scope=col>Start_Loop</th><th scope=col>End_Loop</th><th scope=col>Chrom</th><th scope=col>Start</th><th scope=col>End</th><th scope=col>Assay</th><th scope=col>Overlap</th><th scope=col>LoopB</th><th scope=col>Annotation</th><th scope=col>Label</th></tr>\n",
       "\t<tr><th scope=col>&lt;chr&gt;</th><th scope=col>&lt;dbl&gt;</th><th scope=col>&lt;dbl&gt;</th><th scope=col>&lt;chr&gt;</th><th scope=col>&lt;dbl&gt;</th><th scope=col>&lt;dbl&gt;</th><th scope=col>&lt;chr&gt;</th><th scope=col>&lt;dbl&gt;</th><th scope=col>&lt;chr&gt;</th><th scope=col>&lt;chr&gt;</th><th scope=col>&lt;chr&gt;</th></tr>\n",
       "</thead>\n",
       "<tbody>\n",
       "\t<tr><td>chr1</td><td>1060000</td><td>1065000</td><td>chr1</td><td>1064070</td><td>1064300</td><td>WSTARR</td><td>230</td><td>chr1:1060000-1065000</td><td>Enhancer_ZScore_Junke</td><td>Enhancer_STARRMPRA</td></tr>\n",
       "\t<tr><td>chr1</td><td>1060000</td><td>1065000</td><td>chr1</td><td>1064510</td><td>1064750</td><td>WSTARR</td><td>240</td><td>chr1:1060000-1065000</td><td>Enhancer_ZScore_Junke</td><td>Enhancer_STARRMPRA</td></tr>\n",
       "\t<tr><td>chr1</td><td>1060000</td><td>1065000</td><td>chr1</td><td>1064070</td><td>1064300</td><td>WSTARR</td><td>230</td><td>chr1:1060000-1065000</td><td>Enhancer_ZScore_Junke</td><td>Enhancer_STARRMPRA</td></tr>\n",
       "\t<tr><td>chr1</td><td>1060000</td><td>1065000</td><td>chr1</td><td>1064510</td><td>1064750</td><td>WSTARR</td><td>240</td><td>chr1:1060000-1065000</td><td>Enhancer_ZScore_Junke</td><td>Enhancer_STARRMPRA</td></tr>\n",
       "\t<tr><td>chr1</td><td>1060000</td><td>1065000</td><td>chr1</td><td>1064070</td><td>1064300</td><td>WSTARR</td><td>230</td><td>chr1:1060000-1065000</td><td>Enhancer_ZScore_Junke</td><td>Enhancer_STARRMPRA</td></tr>\n",
       "\t<tr><td>chr1</td><td>1060000</td><td>1065000</td><td>chr1</td><td>1064510</td><td>1064750</td><td>WSTARR</td><td>240</td><td>chr1:1060000-1065000</td><td>Enhancer_ZScore_Junke</td><td>Enhancer_STARRMPRA</td></tr>\n",
       "</tbody>\n",
       "</table>\n"
      ],
      "text/latex": [
       "A rowwise\\_df: 6 × 11\n",
       "\\begin{tabular}{lllllllllll}\n",
       " Chrom\\_Loop & Start\\_Loop & End\\_Loop & Chrom & Start & End & Assay & Overlap & LoopB & Annotation & Label\\\\\n",
       " <chr> & <dbl> & <dbl> & <chr> & <dbl> & <dbl> & <chr> & <dbl> & <chr> & <chr> & <chr>\\\\\n",
       "\\hline\n",
       "\t chr1 & 1060000 & 1065000 & chr1 & 1064070 & 1064300 & WSTARR & 230 & chr1:1060000-1065000 & Enhancer\\_ZScore\\_Junke & Enhancer\\_STARRMPRA\\\\\n",
       "\t chr1 & 1060000 & 1065000 & chr1 & 1064510 & 1064750 & WSTARR & 240 & chr1:1060000-1065000 & Enhancer\\_ZScore\\_Junke & Enhancer\\_STARRMPRA\\\\\n",
       "\t chr1 & 1060000 & 1065000 & chr1 & 1064070 & 1064300 & WSTARR & 230 & chr1:1060000-1065000 & Enhancer\\_ZScore\\_Junke & Enhancer\\_STARRMPRA\\\\\n",
       "\t chr1 & 1060000 & 1065000 & chr1 & 1064510 & 1064750 & WSTARR & 240 & chr1:1060000-1065000 & Enhancer\\_ZScore\\_Junke & Enhancer\\_STARRMPRA\\\\\n",
       "\t chr1 & 1060000 & 1065000 & chr1 & 1064070 & 1064300 & WSTARR & 230 & chr1:1060000-1065000 & Enhancer\\_ZScore\\_Junke & Enhancer\\_STARRMPRA\\\\\n",
       "\t chr1 & 1060000 & 1065000 & chr1 & 1064510 & 1064750 & WSTARR & 240 & chr1:1060000-1065000 & Enhancer\\_ZScore\\_Junke & Enhancer\\_STARRMPRA\\\\\n",
       "\\end{tabular}\n"
      ],
      "text/markdown": [
       "\n",
       "A rowwise_df: 6 × 11\n",
       "\n",
       "| Chrom_Loop &lt;chr&gt; | Start_Loop &lt;dbl&gt; | End_Loop &lt;dbl&gt; | Chrom &lt;chr&gt; | Start &lt;dbl&gt; | End &lt;dbl&gt; | Assay &lt;chr&gt; | Overlap &lt;dbl&gt; | LoopB &lt;chr&gt; | Annotation &lt;chr&gt; | Label &lt;chr&gt; |\n",
       "|---|---|---|---|---|---|---|---|---|---|---|\n",
       "| chr1 | 1060000 | 1065000 | chr1 | 1064070 | 1064300 | WSTARR | 230 | chr1:1060000-1065000 | Enhancer_ZScore_Junke | Enhancer_STARRMPRA |\n",
       "| chr1 | 1060000 | 1065000 | chr1 | 1064510 | 1064750 | WSTARR | 240 | chr1:1060000-1065000 | Enhancer_ZScore_Junke | Enhancer_STARRMPRA |\n",
       "| chr1 | 1060000 | 1065000 | chr1 | 1064070 | 1064300 | WSTARR | 230 | chr1:1060000-1065000 | Enhancer_ZScore_Junke | Enhancer_STARRMPRA |\n",
       "| chr1 | 1060000 | 1065000 | chr1 | 1064510 | 1064750 | WSTARR | 240 | chr1:1060000-1065000 | Enhancer_ZScore_Junke | Enhancer_STARRMPRA |\n",
       "| chr1 | 1060000 | 1065000 | chr1 | 1064070 | 1064300 | WSTARR | 230 | chr1:1060000-1065000 | Enhancer_ZScore_Junke | Enhancer_STARRMPRA |\n",
       "| chr1 | 1060000 | 1065000 | chr1 | 1064510 | 1064750 | WSTARR | 240 | chr1:1060000-1065000 | Enhancer_ZScore_Junke | Enhancer_STARRMPRA |\n",
       "\n"
      ],
      "text/plain": [
       "  Chrom_Loop Start_Loop End_Loop Chrom Start   End     Assay  Overlap\n",
       "1 chr1       1060000    1065000  chr1  1064070 1064300 WSTARR 230    \n",
       "2 chr1       1060000    1065000  chr1  1064510 1064750 WSTARR 240    \n",
       "3 chr1       1060000    1065000  chr1  1064070 1064300 WSTARR 230    \n",
       "4 chr1       1060000    1065000  chr1  1064510 1064750 WSTARR 240    \n",
       "5 chr1       1060000    1065000  chr1  1064070 1064300 WSTARR 230    \n",
       "6 chr1       1060000    1065000  chr1  1064510 1064750 WSTARR 240    \n",
       "  LoopB                Annotation            Label             \n",
       "1 chr1:1060000-1065000 Enhancer_ZScore_Junke Enhancer_STARRMPRA\n",
       "2 chr1:1060000-1065000 Enhancer_ZScore_Junke Enhancer_STARRMPRA\n",
       "3 chr1:1060000-1065000 Enhancer_ZScore_Junke Enhancer_STARRMPRA\n",
       "4 chr1:1060000-1065000 Enhancer_ZScore_Junke Enhancer_STARRMPRA\n",
       "5 chr1:1060000-1065000 Enhancer_ZScore_Junke Enhancer_STARRMPRA\n",
       "6 chr1:1060000-1065000 Enhancer_ZScore_Junke Enhancer_STARRMPRA"
      ]
     },
     "metadata": {},
     "output_type": "display_data"
    }
   ],
   "source": [
    "### init\n",
    "annotation = \"Enhancer_ZScore_Junke\"\n",
    "label      = \"Enhancer_STARRMPRA\"\n",
    "cnames = dat_cnames$Name\n",
    "cnames = c(\"Chrom_Loop\", \"Start_Loop\", \"End_Loop\", cnames, \"Overlap\")\n",
    "\n",
    "###\n",
    "fdiry = file.path(\n",
    "    FD_RES, \n",
    "    \"results\", \n",
    "    \"region\", \n",
    "    \"hic_intact_ENCSR479XDG\", \n",
    "    \"loop\",\n",
    "    \"annotation_enhancer_zscore_junke\"\n",
    ")\n",
    "fname = \"loopB.annotation.enhancer_zscore_junke.merge.STARRMPRA.bed.gz\"\n",
    "fpath = file.path(fdiry, fname)\n",
    "\n",
    "\n",
    "### read data\n",
    "dat = read_tsv(fpath, col_names = cnames, show_col_types = FALSE)\n",
    "dat = dat %>% dplyr::rowwise() %>% dplyr::mutate(\n",
    "    LoopB      = paste0(\n",
    "        Chrom_Loop, \n",
    "        \":\",\n",
    "        format(Start_Loop, scientific=FALSE), \n",
    "        \"-\",\n",
    "        format(End_Loop,   scientific=FALSE)),\n",
    "    Annotation = annotation,\n",
    "    Label      = label\n",
    ")\n",
    "\n",
    "\n",
    "### assign and show\n",
    "dat_loopB_annot_starrmpra = dat\n",
    "print(dim(dat))\n",
    "head(dat)"
   ]
  },
  {
   "cell_type": "code",
   "execution_count": 12,
   "metadata": {},
   "outputs": [
    {
     "name": "stdout",
     "output_type": "stream",
     "text": [
      "[1] 49102     4\n"
     ]
    },
    {
     "data": {
      "text/html": [
       "<table class=\"dataframe\">\n",
       "<caption>A tibble: 6 × 4</caption>\n",
       "<thead>\n",
       "\t<tr><th scope=col>Chrom</th><th scope=col>Start</th><th scope=col>End</th><th scope=col>Assay</th></tr>\n",
       "\t<tr><th scope=col>&lt;chr&gt;</th><th scope=col>&lt;dbl&gt;</th><th scope=col>&lt;dbl&gt;</th><th scope=col>&lt;chr&gt;</th></tr>\n",
       "</thead>\n",
       "<tbody>\n",
       "\t<tr><td>chr1</td><td>778420</td><td>779050</td><td>WSTARR      </td></tr>\n",
       "\t<tr><td>chr1</td><td>827430</td><td>827560</td><td>WSTARR      </td></tr>\n",
       "\t<tr><td>chr1</td><td>904350</td><td>904550</td><td>LMPRA       </td></tr>\n",
       "\t<tr><td>chr1</td><td>941699</td><td>941899</td><td>LMPRA       </td></tr>\n",
       "\t<tr><td>chr1</td><td>959200</td><td>959620</td><td>LMPRA,WSTARR</td></tr>\n",
       "\t<tr><td>chr1</td><td>960501</td><td>960701</td><td>LMPRA       </td></tr>\n",
       "</tbody>\n",
       "</table>\n"
      ],
      "text/latex": [
       "A tibble: 6 × 4\n",
       "\\begin{tabular}{llll}\n",
       " Chrom & Start & End & Assay\\\\\n",
       " <chr> & <dbl> & <dbl> & <chr>\\\\\n",
       "\\hline\n",
       "\t chr1 & 778420 & 779050 & WSTARR      \\\\\n",
       "\t chr1 & 827430 & 827560 & WSTARR      \\\\\n",
       "\t chr1 & 904350 & 904550 & LMPRA       \\\\\n",
       "\t chr1 & 941699 & 941899 & LMPRA       \\\\\n",
       "\t chr1 & 959200 & 959620 & LMPRA,WSTARR\\\\\n",
       "\t chr1 & 960501 & 960701 & LMPRA       \\\\\n",
       "\\end{tabular}\n"
      ],
      "text/markdown": [
       "\n",
       "A tibble: 6 × 4\n",
       "\n",
       "| Chrom &lt;chr&gt; | Start &lt;dbl&gt; | End &lt;dbl&gt; | Assay &lt;chr&gt; |\n",
       "|---|---|---|---|\n",
       "| chr1 | 778420 | 779050 | WSTARR       |\n",
       "| chr1 | 827430 | 827560 | WSTARR       |\n",
       "| chr1 | 904350 | 904550 | LMPRA        |\n",
       "| chr1 | 941699 | 941899 | LMPRA        |\n",
       "| chr1 | 959200 | 959620 | LMPRA,WSTARR |\n",
       "| chr1 | 960501 | 960701 | LMPRA        |\n",
       "\n"
      ],
      "text/plain": [
       "  Chrom Start  End    Assay       \n",
       "1 chr1  778420 779050 WSTARR      \n",
       "2 chr1  827430 827560 WSTARR      \n",
       "3 chr1  904350 904550 LMPRA       \n",
       "4 chr1  941699 941899 LMPRA       \n",
       "5 chr1  959200 959620 LMPRA,WSTARR\n",
       "6 chr1  960501 960701 LMPRA       "
      ]
     },
     "metadata": {},
     "output_type": "display_data"
    }
   ],
   "source": [
    "fdiry = file.path(\n",
    "    FD_RES, \n",
    "    \"results\", \n",
    "    \"region\", \n",
    "    \"annotation_enhancer_zscore_junke\"\n",
    ")\n",
    "fname = \"enhancer_zscore_junke.merge.STARRMPRA.bed.gz\"\n",
    "fpath = file.path(fdiry, fname)\n",
    "\n",
    "\n",
    "### read data\n",
    "cnames = dat_cnames$Name\n",
    "dat = read_tsv(fpath, col_names = cnames, show_col_types = FALSE)\n",
    "\n",
    "dat_peak_annot_starrmpra = dat\n",
    "print(dim(dat))\n",
    "head(dat)"
   ]
  },
  {
   "cell_type": "code",
   "execution_count": 13,
   "metadata": {},
   "outputs": [
    {
     "name": "stdout",
     "output_type": "stream",
     "text": [
      "[1] 49102     3\n"
     ]
    }
   ],
   "source": [
    "dat = dat_peak_annot_starrmpra\n",
    "dat = dat %>% dplyr::select(Chrom, Start, End) %>% dplyr::distinct()\n",
    "print(dim(dat))"
   ]
  },
  {
   "cell_type": "code",
   "execution_count": 14,
   "metadata": {},
   "outputs": [
    {
     "name": "stdout",
     "output_type": "stream",
     "text": [
      "[1] 9192    4\n",
      "[1] 9154    4\n",
      "[1] 14916     4\n"
     ]
    },
    {
     "data": {
      "text/html": [
       "<table class=\"dataframe\">\n",
       "<caption>A rowwise_df: 6 × 4</caption>\n",
       "<thead>\n",
       "\t<tr><th scope=col>Chrom</th><th scope=col>Start</th><th scope=col>End</th><th scope=col>Assay</th></tr>\n",
       "\t<tr><th scope=col>&lt;chr&gt;</th><th scope=col>&lt;dbl&gt;</th><th scope=col>&lt;dbl&gt;</th><th scope=col>&lt;chr&gt;</th></tr>\n",
       "</thead>\n",
       "<tbody>\n",
       "\t<tr><td>chr1</td><td> 778420</td><td> 779050</td><td>WSTARR</td></tr>\n",
       "\t<tr><td>chr1</td><td> 904350</td><td> 904550</td><td>LMPRA </td></tr>\n",
       "\t<tr><td>chr1</td><td>1000690</td><td>1000990</td><td>WSTARR</td></tr>\n",
       "\t<tr><td>chr1</td><td>1001030</td><td>1001180</td><td>WSTARR</td></tr>\n",
       "\t<tr><td>chr1</td><td>1003910</td><td>1004100</td><td>WSTARR</td></tr>\n",
       "\t<tr><td>chr1</td><td>1021790</td><td>1022250</td><td>WSTARR</td></tr>\n",
       "</tbody>\n",
       "</table>\n"
      ],
      "text/latex": [
       "A rowwise\\_df: 6 × 4\n",
       "\\begin{tabular}{llll}\n",
       " Chrom & Start & End & Assay\\\\\n",
       " <chr> & <dbl> & <dbl> & <chr>\\\\\n",
       "\\hline\n",
       "\t chr1 &  778420 &  779050 & WSTARR\\\\\n",
       "\t chr1 &  904350 &  904550 & LMPRA \\\\\n",
       "\t chr1 & 1000690 & 1000990 & WSTARR\\\\\n",
       "\t chr1 & 1001030 & 1001180 & WSTARR\\\\\n",
       "\t chr1 & 1003910 & 1004100 & WSTARR\\\\\n",
       "\t chr1 & 1021790 & 1022250 & WSTARR\\\\\n",
       "\\end{tabular}\n"
      ],
      "text/markdown": [
       "\n",
       "A rowwise_df: 6 × 4\n",
       "\n",
       "| Chrom &lt;chr&gt; | Start &lt;dbl&gt; | End &lt;dbl&gt; | Assay &lt;chr&gt; |\n",
       "|---|---|---|---|\n",
       "| chr1 |  778420 |  779050 | WSTARR |\n",
       "| chr1 |  904350 |  904550 | LMPRA  |\n",
       "| chr1 | 1000690 | 1000990 | WSTARR |\n",
       "| chr1 | 1001030 | 1001180 | WSTARR |\n",
       "| chr1 | 1003910 | 1004100 | WSTARR |\n",
       "| chr1 | 1021790 | 1022250 | WSTARR |\n",
       "\n"
      ],
      "text/plain": [
       "  Chrom Start   End     Assay \n",
       "1 chr1   778420  779050 WSTARR\n",
       "2 chr1   904350  904550 LMPRA \n",
       "3 chr1  1000690 1000990 WSTARR\n",
       "4 chr1  1001030 1001180 WSTARR\n",
       "5 chr1  1003910 1004100 WSTARR\n",
       "6 chr1  1021790 1022250 WSTARR"
      ]
     },
     "metadata": {},
     "output_type": "display_data"
    }
   ],
   "source": [
    "dat1 = dat_loopA_annot_starrmpra %>% dplyr::select(Chrom, Start, End, Assay) %>% dplyr::distinct()\n",
    "dat2 = dat_loopB_annot_starrmpra %>% dplyr::select(Chrom, Start, End, Assay) %>% dplyr::distinct()\n",
    "dat  = bind_rows(dat1, dat2) %>% dplyr::distinct()\n",
    "\n",
    "dat_loop_annot_starrmpra = dat\n",
    "print(dim(dat1))\n",
    "print(dim(dat2))\n",
    "print(dim(dat))\n",
    "head(dat)"
   ]
  },
  {
   "cell_type": "code",
   "execution_count": 18,
   "metadata": {},
   "outputs": [
    {
     "data": {
      "text/html": [
       "<table class=\"dataframe\">\n",
       "<caption>A tibble: 2 × 3</caption>\n",
       "<thead>\n",
       "\t<tr><th scope=col>Assay</th><th scope=col>Category</th><th scope=col>Count</th></tr>\n",
       "\t<tr><th scope=col>&lt;chr&gt;</th><th scope=col>&lt;chr&gt;</th><th scope=col>&lt;dbl&gt;</th></tr>\n",
       "</thead>\n",
       "<tbody>\n",
       "\t<tr><td>STARR/MPRA</td><td>Within Loop anchor    </td><td>14916</td></tr>\n",
       "\t<tr><td>STARR/MPRA</td><td>Not Within Loop anchor</td><td>34186</td></tr>\n",
       "</tbody>\n",
       "</table>\n"
      ],
      "text/latex": [
       "A tibble: 2 × 3\n",
       "\\begin{tabular}{lll}\n",
       " Assay & Category & Count\\\\\n",
       " <chr> & <chr> & <dbl>\\\\\n",
       "\\hline\n",
       "\t STARR/MPRA & Within Loop anchor     & 14916\\\\\n",
       "\t STARR/MPRA & Not Within Loop anchor & 34186\\\\\n",
       "\\end{tabular}\n"
      ],
      "text/markdown": [
       "\n",
       "A tibble: 2 × 3\n",
       "\n",
       "| Assay &lt;chr&gt; | Category &lt;chr&gt; | Count &lt;dbl&gt; |\n",
       "|---|---|---|\n",
       "| STARR/MPRA | Within Loop anchor     | 14916 |\n",
       "| STARR/MPRA | Not Within Loop anchor | 34186 |\n",
       "\n"
      ],
      "text/plain": [
       "  Assay      Category               Count\n",
       "1 STARR/MPRA Within Loop anchor     14916\n",
       "2 STARR/MPRA Not Within Loop anchor 34186"
      ]
     },
     "metadata": {},
     "output_type": "display_data"
    }
   ],
   "source": [
    "dat = tribble(\n",
    "    ~Assay,       ~Category,                ~Count,\n",
    "    \"STARR/MPRA\", \"Within Loop anchor\",     14916,\n",
    "    \"STARR/MPRA\", \"Not Within Loop anchor\", 49102 - 14916\n",
    ")\n",
    "dat"
   ]
  },
  {
   "cell_type": "code",
   "execution_count": 29,
   "metadata": {},
   "outputs": [
    {
     "data": {
      "image/png": "[encoded data removed]",
      "text/plain": [
       "plot without title"
      ]
     },
     "metadata": {
      "image/png": {
       "height": 420,
       "width": 420
      }
     },
     "output_type": "display_data"
    }
   ],
   "source": [
    "scale_fill = scale_fill_manual(values =c(\"Not Within Loop anchor\" = \"grey50\", \"Within Loop anchor\" = \"lightcoral\"))\n",
    "\n",
    "gpt = ggplot(dat, aes(x=Assay, y=Count, fill=Category)) + \n",
    "    geom_col() +\n",
    "    labs(x=\"\", title=\"CREs identified in STARR/MPRA/CRISPR\") +\n",
    "    theme_cowplot() +\n",
    "    theme(axis.text.x=element_text(angle=90, vjust=0.5, hjust=1)) +\n",
    "    scale_fill\n",
    "\n",
    "print(gpt)"
   ]
  },
  {
   "cell_type": "code",
   "execution_count": 31,
   "metadata": {},
   "outputs": [
    {
     "data": {
      "text/html": [
       "0.30377581361248"
      ],
      "text/latex": [
       "0.30377581361248"
      ],
      "text/markdown": [
       "0.30377581361248"
      ],
      "text/plain": [
       "[1] 0.3037758"
      ]
     },
     "metadata": {},
     "output_type": "display_data"
    }
   ],
   "source": [
    "14916/49102"
   ]
  },
  {
   "cell_type": "code",
   "execution_count": null,
   "metadata": {},
   "outputs": [],
   "source": []
  },
  {
   "cell_type": "code",
   "execution_count": 12,
   "metadata": {},
   "outputs": [
    {
     "name": "stdout",
     "output_type": "stream",
     "text": [
      "[1] 1557   18\n"
     ]
    },
    {
     "data": {
      "text/html": [
       "<table class=\"dataframe\">\n",
       "<caption>A rowwise_df: 6 × 18</caption>\n",
       "<thead>\n",
       "\t<tr><th scope=col>Chrom_Loop</th><th scope=col>Start_Loop</th><th scope=col>End_Loop</th><th scope=col>Chrom</th><th scope=col>Start</th><th scope=col>End</th><th scope=col>Name</th><th scope=col>Log2FC</th><th scope=col>Strand</th><th scope=col>Zscore</th><th scope=col>summit_Start</th><th scope=col>summit_End</th><th scope=col>summit_Log2FC</th><th scope=col>summit_Zscore</th><th scope=col>Overlap</th><th scope=col>LoopA</th><th scope=col>Annotation</th><th scope=col>Label</th></tr>\n",
       "\t<tr><th scope=col>&lt;chr&gt;</th><th scope=col>&lt;dbl&gt;</th><th scope=col>&lt;dbl&gt;</th><th scope=col>&lt;chr&gt;</th><th scope=col>&lt;dbl&gt;</th><th scope=col>&lt;dbl&gt;</th><th scope=col>&lt;chr&gt;</th><th scope=col>&lt;dbl&gt;</th><th scope=col>&lt;chr&gt;</th><th scope=col>&lt;dbl&gt;</th><th scope=col>&lt;dbl&gt;</th><th scope=col>&lt;dbl&gt;</th><th scope=col>&lt;dbl&gt;</th><th scope=col>&lt;dbl&gt;</th><th scope=col>&lt;dbl&gt;</th><th scope=col>&lt;chr&gt;</th><th scope=col>&lt;chr&gt;</th><th scope=col>&lt;chr&gt;</th></tr>\n",
       "</thead>\n",
       "<tbody>\n",
       "\t<tr><td>chr1</td><td> 5915000</td><td> 5920000</td><td>chr1</td><td> 5917710</td><td> 5917930</td><td>peak_both_6 </td><td>2.640920</td><td>.</td><td>2.169290</td><td> 5917760</td><td> 5917860</td><td>2.806423</td><td>2.286066</td><td>220</td><td>chr1:5915000-5920000  </td><td>Enhancer</td><td>Enhancer_ZScore_ASTARR</td></tr>\n",
       "\t<tr><td>chr1</td><td>11842000</td><td>11843000</td><td>chr1</td><td>11842320</td><td>11842500</td><td>peak_both_14</td><td>2.789535</td><td>.</td><td>2.274151</td><td>11842370</td><td>11842470</td><td>2.995219</td><td>2.419278</td><td>180</td><td>chr1:11842000-11843000</td><td>Enhancer</td><td>Enhancer_ZScore_ASTARR</td></tr>\n",
       "\t<tr><td>chr1</td><td>11842000</td><td>11844000</td><td>chr1</td><td>11842320</td><td>11842500</td><td>peak_both_14</td><td>2.789535</td><td>.</td><td>2.274151</td><td>11842370</td><td>11842470</td><td>2.995219</td><td>2.419278</td><td>180</td><td>chr1:11842000-11844000</td><td>Enhancer</td><td>Enhancer_ZScore_ASTARR</td></tr>\n",
       "\t<tr><td>chr1</td><td>12448000</td><td>12450000</td><td>chr1</td><td>12448880</td><td>12449190</td><td>peak_both_15</td><td>2.916206</td><td>.</td><td>2.363527</td><td>12448990</td><td>12449090</td><td>3.311143</td><td>2.642188</td><td>310</td><td>chr1:12448000-12450000</td><td>Enhancer</td><td>Enhancer_ZScore_ASTARR</td></tr>\n",
       "\t<tr><td>chr1</td><td>12448000</td><td>12450000</td><td>chr1</td><td>12448880</td><td>12449190</td><td>peak_both_15</td><td>2.916206</td><td>.</td><td>2.363527</td><td>12448990</td><td>12449090</td><td>3.311143</td><td>2.642188</td><td>310</td><td>chr1:12448000-12450000</td><td>Enhancer</td><td>Enhancer_ZScore_ASTARR</td></tr>\n",
       "\t<tr><td>chr1</td><td>14422000</td><td>14424000</td><td>chr1</td><td>14422210</td><td>14422360</td><td>peak_both_19</td><td>2.560252</td><td>.</td><td>2.112373</td><td>14422230</td><td>14422330</td><td>2.691481</td><td>2.204965</td><td>150</td><td>chr1:14422000-14424000</td><td>Enhancer</td><td>Enhancer_ZScore_ASTARR</td></tr>\n",
       "</tbody>\n",
       "</table>\n"
      ],
      "text/latex": [
       "A rowwise\\_df: 6 × 18\n",
       "\\begin{tabular}{llllllllllllllllll}\n",
       " Chrom\\_Loop & Start\\_Loop & End\\_Loop & Chrom & Start & End & Name & Log2FC & Strand & Zscore & summit\\_Start & summit\\_End & summit\\_Log2FC & summit\\_Zscore & Overlap & LoopA & Annotation & Label\\\\\n",
       " <chr> & <dbl> & <dbl> & <chr> & <dbl> & <dbl> & <chr> & <dbl> & <chr> & <dbl> & <dbl> & <dbl> & <dbl> & <dbl> & <dbl> & <chr> & <chr> & <chr>\\\\\n",
       "\\hline\n",
       "\t chr1 &  5915000 &  5920000 & chr1 &  5917710 &  5917930 & peak\\_both\\_6  & 2.640920 & . & 2.169290 &  5917760 &  5917860 & 2.806423 & 2.286066 & 220 & chr1:5915000-5920000   & Enhancer & Enhancer\\_ZScore\\_ASTARR\\\\\n",
       "\t chr1 & 11842000 & 11843000 & chr1 & 11842320 & 11842500 & peak\\_both\\_14 & 2.789535 & . & 2.274151 & 11842370 & 11842470 & 2.995219 & 2.419278 & 180 & chr1:11842000-11843000 & Enhancer & Enhancer\\_ZScore\\_ASTARR\\\\\n",
       "\t chr1 & 11842000 & 11844000 & chr1 & 11842320 & 11842500 & peak\\_both\\_14 & 2.789535 & . & 2.274151 & 11842370 & 11842470 & 2.995219 & 2.419278 & 180 & chr1:11842000-11844000 & Enhancer & Enhancer\\_ZScore\\_ASTARR\\\\\n",
       "\t chr1 & 12448000 & 12450000 & chr1 & 12448880 & 12449190 & peak\\_both\\_15 & 2.916206 & . & 2.363527 & 12448990 & 12449090 & 3.311143 & 2.642188 & 310 & chr1:12448000-12450000 & Enhancer & Enhancer\\_ZScore\\_ASTARR\\\\\n",
       "\t chr1 & 12448000 & 12450000 & chr1 & 12448880 & 12449190 & peak\\_both\\_15 & 2.916206 & . & 2.363527 & 12448990 & 12449090 & 3.311143 & 2.642188 & 310 & chr1:12448000-12450000 & Enhancer & Enhancer\\_ZScore\\_ASTARR\\\\\n",
       "\t chr1 & 14422000 & 14424000 & chr1 & 14422210 & 14422360 & peak\\_both\\_19 & 2.560252 & . & 2.112373 & 14422230 & 14422330 & 2.691481 & 2.204965 & 150 & chr1:14422000-14424000 & Enhancer & Enhancer\\_ZScore\\_ASTARR\\\\\n",
       "\\end{tabular}\n"
      ],
      "text/markdown": [
       "\n",
       "A rowwise_df: 6 × 18\n",
       "\n",
       "| Chrom_Loop &lt;chr&gt; | Start_Loop &lt;dbl&gt; | End_Loop &lt;dbl&gt; | Chrom &lt;chr&gt; | Start &lt;dbl&gt; | End &lt;dbl&gt; | Name &lt;chr&gt; | Log2FC &lt;dbl&gt; | Strand &lt;chr&gt; | Zscore &lt;dbl&gt; | summit_Start &lt;dbl&gt; | summit_End &lt;dbl&gt; | summit_Log2FC &lt;dbl&gt; | summit_Zscore &lt;dbl&gt; | Overlap &lt;dbl&gt; | LoopA &lt;chr&gt; | Annotation &lt;chr&gt; | Label &lt;chr&gt; |\n",
       "|---|---|---|---|---|---|---|---|---|---|---|---|---|---|---|---|---|---|\n",
       "| chr1 |  5915000 |  5920000 | chr1 |  5917710 |  5917930 | peak_both_6  | 2.640920 | . | 2.169290 |  5917760 |  5917860 | 2.806423 | 2.286066 | 220 | chr1:5915000-5920000   | Enhancer | Enhancer_ZScore_ASTARR |\n",
       "| chr1 | 11842000 | 11843000 | chr1 | 11842320 | 11842500 | peak_both_14 | 2.789535 | . | 2.274151 | 11842370 | 11842470 | 2.995219 | 2.419278 | 180 | chr1:11842000-11843000 | Enhancer | Enhancer_ZScore_ASTARR |\n",
       "| chr1 | 11842000 | 11844000 | chr1 | 11842320 | 11842500 | peak_both_14 | 2.789535 | . | 2.274151 | 11842370 | 11842470 | 2.995219 | 2.419278 | 180 | chr1:11842000-11844000 | Enhancer | Enhancer_ZScore_ASTARR |\n",
       "| chr1 | 12448000 | 12450000 | chr1 | 12448880 | 12449190 | peak_both_15 | 2.916206 | . | 2.363527 | 12448990 | 12449090 | 3.311143 | 2.642188 | 310 | chr1:12448000-12450000 | Enhancer | Enhancer_ZScore_ASTARR |\n",
       "| chr1 | 12448000 | 12450000 | chr1 | 12448880 | 12449190 | peak_both_15 | 2.916206 | . | 2.363527 | 12448990 | 12449090 | 3.311143 | 2.642188 | 310 | chr1:12448000-12450000 | Enhancer | Enhancer_ZScore_ASTARR |\n",
       "| chr1 | 14422000 | 14424000 | chr1 | 14422210 | 14422360 | peak_both_19 | 2.560252 | . | 2.112373 | 14422230 | 14422330 | 2.691481 | 2.204965 | 150 | chr1:14422000-14424000 | Enhancer | Enhancer_ZScore_ASTARR |\n",
       "\n"
      ],
      "text/plain": [
       "  Chrom_Loop Start_Loop End_Loop Chrom Start    End      Name         Log2FC  \n",
       "1 chr1        5915000    5920000 chr1   5917710  5917930 peak_both_6  2.640920\n",
       "2 chr1       11842000   11843000 chr1  11842320 11842500 peak_both_14 2.789535\n",
       "3 chr1       11842000   11844000 chr1  11842320 11842500 peak_both_14 2.789535\n",
       "4 chr1       12448000   12450000 chr1  12448880 12449190 peak_both_15 2.916206\n",
       "5 chr1       12448000   12450000 chr1  12448880 12449190 peak_both_15 2.916206\n",
       "6 chr1       14422000   14424000 chr1  14422210 14422360 peak_both_19 2.560252\n",
       "  Strand Zscore   summit_Start summit_End summit_Log2FC summit_Zscore Overlap\n",
       "1 .      2.169290  5917760      5917860   2.806423      2.286066      220    \n",
       "2 .      2.274151 11842370     11842470   2.995219      2.419278      180    \n",
       "3 .      2.274151 11842370     11842470   2.995219      2.419278      180    \n",
       "4 .      2.363527 12448990     12449090   3.311143      2.642188      310    \n",
       "5 .      2.363527 12448990     12449090   3.311143      2.642188      310    \n",
       "6 .      2.112373 14422230     14422330   2.691481      2.204965      150    \n",
       "  LoopA                  Annotation Label                 \n",
       "1 chr1:5915000-5920000   Enhancer   Enhancer_ZScore_ASTARR\n",
       "2 chr1:11842000-11843000 Enhancer   Enhancer_ZScore_ASTARR\n",
       "3 chr1:11842000-11844000 Enhancer   Enhancer_ZScore_ASTARR\n",
       "4 chr1:12448000-12450000 Enhancer   Enhancer_ZScore_ASTARR\n",
       "5 chr1:12448000-12450000 Enhancer   Enhancer_ZScore_ASTARR\n",
       "6 chr1:14422000-14424000 Enhancer   Enhancer_ZScore_ASTARR"
      ]
     },
     "metadata": {},
     "output_type": "display_data"
    }
   ],
   "source": [
    "### init\n",
    "annotation = \"Enhancer\"\n",
    "label      = \"Enhancer_ZScore_ASTARR\"\n",
    "cnames = dat_cnames$Name\n",
    "cnames = c(\"Chrom_Loop\", \"Start_Loop\", \"End_Loop\", cnames, \"Overlap\")\n",
    "\n",
    "###\n",
    "fdiry = file.path(\n",
    "    FD_RES, \n",
    "    \"results\", \n",
    "    \"region\", \n",
    "    \"hic_intact_ENCSR479XDG\", \n",
    "    \"loop\",\n",
    "    \"annotation_enhancer_zscore_junke\"\n",
    ")\n",
    "fname = \"loopA.annotation.enhancer_zscore_junke_peak_astarr.bed.gz\"\n",
    "fpath = file.path(fdiry, fname)\n",
    "\n",
    "\n",
    "### read data\n",
    "dat = read_tsv(fpath, col_names = cnames, show_col_types = FALSE)\n",
    "dat = dat %>% dplyr::rowwise() %>% dplyr::mutate(\n",
    "    LoopA      = paste0(\n",
    "        Chrom_Loop, \n",
    "        \":\",\n",
    "        format(Start_Loop, scientific=FALSE), \n",
    "        \"-\",\n",
    "        format(End_Loop,   scientific=FALSE)),\n",
    "    Annotation = annotation,\n",
    "    Label      = label\n",
    ")\n",
    "\n",
    "\n",
    "### assign and show\n",
    "dat_loopA_annot_astarr = dat\n",
    "print(dim(dat))\n",
    "head(dat)"
   ]
  },
  {
   "cell_type": "code",
   "execution_count": 13,
   "metadata": {},
   "outputs": [
    {
     "name": "stdout",
     "output_type": "stream",
     "text": [
      "[1] 7631   18\n"
     ]
    },
    {
     "data": {
      "text/html": [
       "<table class=\"dataframe\">\n",
       "<caption>A rowwise_df: 6 × 18</caption>\n",
       "<thead>\n",
       "\t<tr><th scope=col>Chrom_Loop</th><th scope=col>Start_Loop</th><th scope=col>End_Loop</th><th scope=col>Chrom</th><th scope=col>Start</th><th scope=col>End</th><th scope=col>Name</th><th scope=col>Log2FC</th><th scope=col>Strand</th><th scope=col>Zscore</th><th scope=col>summit_Start</th><th scope=col>summit_End</th><th scope=col>summit_Log2FC</th><th scope=col>summit_Zscore</th><th scope=col>Overlap</th><th scope=col>LoopA</th><th scope=col>Annotation</th><th scope=col>Label</th></tr>\n",
       "\t<tr><th scope=col>&lt;chr&gt;</th><th scope=col>&lt;dbl&gt;</th><th scope=col>&lt;dbl&gt;</th><th scope=col>&lt;chr&gt;</th><th scope=col>&lt;dbl&gt;</th><th scope=col>&lt;dbl&gt;</th><th scope=col>&lt;chr&gt;</th><th scope=col>&lt;dbl&gt;</th><th scope=col>&lt;chr&gt;</th><th scope=col>&lt;dbl&gt;</th><th scope=col>&lt;dbl&gt;</th><th scope=col>&lt;dbl&gt;</th><th scope=col>&lt;dbl&gt;</th><th scope=col>&lt;dbl&gt;</th><th scope=col>&lt;dbl&gt;</th><th scope=col>&lt;chr&gt;</th><th scope=col>&lt;chr&gt;</th><th scope=col>&lt;chr&gt;</th></tr>\n",
       "</thead>\n",
       "<tbody>\n",
       "\t<tr><td>chr1</td><td> 770000</td><td> 780000</td><td>chr1</td><td> 778420</td><td> 779050</td><td>peak_both_1 </td><td>1.716052</td><td>.</td><td>3.133377</td><td> 778630</td><td> 778730</td><td>2.248917</td><td>4.143803</td><td>630</td><td>chr1:770000-780000  </td><td>Enhancer</td><td>Enhancer_ZScore_WSTARR</td></tr>\n",
       "\t<tr><td>chr1</td><td>1000000</td><td>1005000</td><td>chr1</td><td>1000690</td><td>1000990</td><td>peak_both_5 </td><td>1.176388</td><td>.</td><td>2.110060</td><td>1000790</td><td>1000890</td><td>1.255087</td><td>2.259289</td><td>300</td><td>chr1:1000000-1005000</td><td>Enhancer</td><td>Enhancer_ZScore_WSTARR</td></tr>\n",
       "\t<tr><td>chr1</td><td>1000000</td><td>1005000</td><td>chr1</td><td>1001030</td><td>1001180</td><td>peak_both_6 </td><td>1.333345</td><td>.</td><td>2.407682</td><td>1001050</td><td>1001150</td><td>1.368707</td><td>2.474737</td><td>150</td><td>chr1:1000000-1005000</td><td>Enhancer</td><td>Enhancer_ZScore_WSTARR</td></tr>\n",
       "\t<tr><td>chr1</td><td>1000000</td><td>1005000</td><td>chr1</td><td>1003910</td><td>1004100</td><td>peak_both_7 </td><td>1.195468</td><td>.</td><td>2.146239</td><td>1003910</td><td>1004010</td><td>1.229472</td><td>2.210717</td><td>190</td><td>chr1:1000000-1005000</td><td>Enhancer</td><td>Enhancer_ZScore_WSTARR</td></tr>\n",
       "\t<tr><td>chr1</td><td>1020000</td><td>1025000</td><td>chr1</td><td>1021790</td><td>1022250</td><td>peak_both_12</td><td>1.323528</td><td>.</td><td>2.389068</td><td>1021920</td><td>1022020</td><td>1.490026</td><td>2.704782</td><td>460</td><td>chr1:1020000-1025000</td><td>Enhancer</td><td>Enhancer_ZScore_WSTARR</td></tr>\n",
       "\t<tr><td>chr1</td><td>1116000</td><td>1118000</td><td>chr1</td><td>1115970</td><td>1116170</td><td>peak_both_20</td><td>1.245184</td><td>.</td><td>2.240511</td><td>1116020</td><td>1116120</td><td>1.277292</td><td>2.301394</td><td>170</td><td>chr1:1116000-1118000</td><td>Enhancer</td><td>Enhancer_ZScore_WSTARR</td></tr>\n",
       "</tbody>\n",
       "</table>\n"
      ],
      "text/latex": [
       "A rowwise\\_df: 6 × 18\n",
       "\\begin{tabular}{llllllllllllllllll}\n",
       " Chrom\\_Loop & Start\\_Loop & End\\_Loop & Chrom & Start & End & Name & Log2FC & Strand & Zscore & summit\\_Start & summit\\_End & summit\\_Log2FC & summit\\_Zscore & Overlap & LoopA & Annotation & Label\\\\\n",
       " <chr> & <dbl> & <dbl> & <chr> & <dbl> & <dbl> & <chr> & <dbl> & <chr> & <dbl> & <dbl> & <dbl> & <dbl> & <dbl> & <dbl> & <chr> & <chr> & <chr>\\\\\n",
       "\\hline\n",
       "\t chr1 &  770000 &  780000 & chr1 &  778420 &  779050 & peak\\_both\\_1  & 1.716052 & . & 3.133377 &  778630 &  778730 & 2.248917 & 4.143803 & 630 & chr1:770000-780000   & Enhancer & Enhancer\\_ZScore\\_WSTARR\\\\\n",
       "\t chr1 & 1000000 & 1005000 & chr1 & 1000690 & 1000990 & peak\\_both\\_5  & 1.176388 & . & 2.110060 & 1000790 & 1000890 & 1.255087 & 2.259289 & 300 & chr1:1000000-1005000 & Enhancer & Enhancer\\_ZScore\\_WSTARR\\\\\n",
       "\t chr1 & 1000000 & 1005000 & chr1 & 1001030 & 1001180 & peak\\_both\\_6  & 1.333345 & . & 2.407682 & 1001050 & 1001150 & 1.368707 & 2.474737 & 150 & chr1:1000000-1005000 & Enhancer & Enhancer\\_ZScore\\_WSTARR\\\\\n",
       "\t chr1 & 1000000 & 1005000 & chr1 & 1003910 & 1004100 & peak\\_both\\_7  & 1.195468 & . & 2.146239 & 1003910 & 1004010 & 1.229472 & 2.210717 & 190 & chr1:1000000-1005000 & Enhancer & Enhancer\\_ZScore\\_WSTARR\\\\\n",
       "\t chr1 & 1020000 & 1025000 & chr1 & 1021790 & 1022250 & peak\\_both\\_12 & 1.323528 & . & 2.389068 & 1021920 & 1022020 & 1.490026 & 2.704782 & 460 & chr1:1020000-1025000 & Enhancer & Enhancer\\_ZScore\\_WSTARR\\\\\n",
       "\t chr1 & 1116000 & 1118000 & chr1 & 1115970 & 1116170 & peak\\_both\\_20 & 1.245184 & . & 2.240511 & 1116020 & 1116120 & 1.277292 & 2.301394 & 170 & chr1:1116000-1118000 & Enhancer & Enhancer\\_ZScore\\_WSTARR\\\\\n",
       "\\end{tabular}\n"
      ],
      "text/markdown": [
       "\n",
       "A rowwise_df: 6 × 18\n",
       "\n",
       "| Chrom_Loop &lt;chr&gt; | Start_Loop &lt;dbl&gt; | End_Loop &lt;dbl&gt; | Chrom &lt;chr&gt; | Start &lt;dbl&gt; | End &lt;dbl&gt; | Name &lt;chr&gt; | Log2FC &lt;dbl&gt; | Strand &lt;chr&gt; | Zscore &lt;dbl&gt; | summit_Start &lt;dbl&gt; | summit_End &lt;dbl&gt; | summit_Log2FC &lt;dbl&gt; | summit_Zscore &lt;dbl&gt; | Overlap &lt;dbl&gt; | LoopA &lt;chr&gt; | Annotation &lt;chr&gt; | Label &lt;chr&gt; |\n",
       "|---|---|---|---|---|---|---|---|---|---|---|---|---|---|---|---|---|---|\n",
       "| chr1 |  770000 |  780000 | chr1 |  778420 |  779050 | peak_both_1  | 1.716052 | . | 3.133377 |  778630 |  778730 | 2.248917 | 4.143803 | 630 | chr1:770000-780000   | Enhancer | Enhancer_ZScore_WSTARR |\n",
       "| chr1 | 1000000 | 1005000 | chr1 | 1000690 | 1000990 | peak_both_5  | 1.176388 | . | 2.110060 | 1000790 | 1000890 | 1.255087 | 2.259289 | 300 | chr1:1000000-1005000 | Enhancer | Enhancer_ZScore_WSTARR |\n",
       "| chr1 | 1000000 | 1005000 | chr1 | 1001030 | 1001180 | peak_both_6  | 1.333345 | . | 2.407682 | 1001050 | 1001150 | 1.368707 | 2.474737 | 150 | chr1:1000000-1005000 | Enhancer | Enhancer_ZScore_WSTARR |\n",
       "| chr1 | 1000000 | 1005000 | chr1 | 1003910 | 1004100 | peak_both_7  | 1.195468 | . | 2.146239 | 1003910 | 1004010 | 1.229472 | 2.210717 | 190 | chr1:1000000-1005000 | Enhancer | Enhancer_ZScore_WSTARR |\n",
       "| chr1 | 1020000 | 1025000 | chr1 | 1021790 | 1022250 | peak_both_12 | 1.323528 | . | 2.389068 | 1021920 | 1022020 | 1.490026 | 2.704782 | 460 | chr1:1020000-1025000 | Enhancer | Enhancer_ZScore_WSTARR |\n",
       "| chr1 | 1116000 | 1118000 | chr1 | 1115970 | 1116170 | peak_both_20 | 1.245184 | . | 2.240511 | 1116020 | 1116120 | 1.277292 | 2.301394 | 170 | chr1:1116000-1118000 | Enhancer | Enhancer_ZScore_WSTARR |\n",
       "\n"
      ],
      "text/plain": [
       "  Chrom_Loop Start_Loop End_Loop Chrom Start   End     Name         Log2FC  \n",
       "1 chr1        770000     780000  chr1   778420  779050 peak_both_1  1.716052\n",
       "2 chr1       1000000    1005000  chr1  1000690 1000990 peak_both_5  1.176388\n",
       "3 chr1       1000000    1005000  chr1  1001030 1001180 peak_both_6  1.333345\n",
       "4 chr1       1000000    1005000  chr1  1003910 1004100 peak_both_7  1.195468\n",
       "5 chr1       1020000    1025000  chr1  1021790 1022250 peak_both_12 1.323528\n",
       "6 chr1       1116000    1118000  chr1  1115970 1116170 peak_both_20 1.245184\n",
       "  Strand Zscore   summit_Start summit_End summit_Log2FC summit_Zscore Overlap\n",
       "1 .      3.133377  778630       778730    2.248917      4.143803      630    \n",
       "2 .      2.110060 1000790      1000890    1.255087      2.259289      300    \n",
       "3 .      2.407682 1001050      1001150    1.368707      2.474737      150    \n",
       "4 .      2.146239 1003910      1004010    1.229472      2.210717      190    \n",
       "5 .      2.389068 1021920      1022020    1.490026      2.704782      460    \n",
       "6 .      2.240511 1116020      1116120    1.277292      2.301394      170    \n",
       "  LoopA                Annotation Label                 \n",
       "1 chr1:770000-780000   Enhancer   Enhancer_ZScore_WSTARR\n",
       "2 chr1:1000000-1005000 Enhancer   Enhancer_ZScore_WSTARR\n",
       "3 chr1:1000000-1005000 Enhancer   Enhancer_ZScore_WSTARR\n",
       "4 chr1:1000000-1005000 Enhancer   Enhancer_ZScore_WSTARR\n",
       "5 chr1:1020000-1025000 Enhancer   Enhancer_ZScore_WSTARR\n",
       "6 chr1:1116000-1118000 Enhancer   Enhancer_ZScore_WSTARR"
      ]
     },
     "metadata": {},
     "output_type": "display_data"
    }
   ],
   "source": [
    "### init\n",
    "annotation = \"Enhancer\"\n",
    "label      = \"Enhancer_ZScore_WSTARR\"\n",
    "cnames = dat_cnames$Name\n",
    "cnames = c(\"Chrom_Loop\", \"Start_Loop\", \"End_Loop\", cnames, \"Overlap\")\n",
    "\n",
    "###\n",
    "fdiry = file.path(\n",
    "    FD_RES, \n",
    "    \"results\", \n",
    "    \"region\", \n",
    "    \"hic_intact_ENCSR479XDG\", \n",
    "    \"loop\",\n",
    "    \"annotation_enhancer_zscore_junke\"\n",
    ")\n",
    "fname = \"loopA.annotation.enhancer_zscore_junke_peak_wstarr.bed.gz\"\n",
    "fpath = file.path(fdiry, fname)\n",
    "\n",
    "\n",
    "### read data\n",
    "dat = read_tsv(fpath, col_names = cnames, show_col_types = FALSE)\n",
    "dat = dat %>% dplyr::rowwise() %>% dplyr::mutate(\n",
    "    LoopA      = paste0(\n",
    "        Chrom_Loop, \n",
    "        \":\",\n",
    "        format(Start_Loop, scientific=FALSE), \n",
    "        \"-\",\n",
    "        format(End_Loop,   scientific=FALSE)),\n",
    "    Annotation = annotation,\n",
    "    Label      = label\n",
    ")\n",
    "\n",
    "\n",
    "### assign and show\n",
    "dat_loopA_annot_wstarr = dat\n",
    "print(dim(dat))\n",
    "head(dat)"
   ]
  },
  {
   "cell_type": "code",
   "execution_count": 14,
   "metadata": {},
   "outputs": [
    {
     "name": "stdout",
     "output_type": "stream",
     "text": [
      "[1] 1573   18\n"
     ]
    },
    {
     "data": {
      "text/html": [
       "<table class=\"dataframe\">\n",
       "<caption>A rowwise_df: 6 × 18</caption>\n",
       "<thead>\n",
       "\t<tr><th scope=col>Chrom_Loop</th><th scope=col>Start_Loop</th><th scope=col>End_Loop</th><th scope=col>Chrom</th><th scope=col>Start</th><th scope=col>End</th><th scope=col>Name</th><th scope=col>Log2FC</th><th scope=col>Strand</th><th scope=col>Zscore</th><th scope=col>summit_Start</th><th scope=col>summit_End</th><th scope=col>summit_Log2FC</th><th scope=col>summit_Zscore</th><th scope=col>Overlap</th><th scope=col>LoopB</th><th scope=col>Annotation</th><th scope=col>Label</th></tr>\n",
       "\t<tr><th scope=col>&lt;chr&gt;</th><th scope=col>&lt;dbl&gt;</th><th scope=col>&lt;dbl&gt;</th><th scope=col>&lt;chr&gt;</th><th scope=col>&lt;dbl&gt;</th><th scope=col>&lt;dbl&gt;</th><th scope=col>&lt;chr&gt;</th><th scope=col>&lt;dbl&gt;</th><th scope=col>&lt;chr&gt;</th><th scope=col>&lt;dbl&gt;</th><th scope=col>&lt;dbl&gt;</th><th scope=col>&lt;dbl&gt;</th><th scope=col>&lt;dbl&gt;</th><th scope=col>&lt;dbl&gt;</th><th scope=col>&lt;dbl&gt;</th><th scope=col>&lt;chr&gt;</th><th scope=col>&lt;chr&gt;</th><th scope=col>&lt;chr&gt;</th></tr>\n",
       "</thead>\n",
       "<tbody>\n",
       "\t<tr><td>chr1</td><td> 5910000</td><td> 5920000</td><td>chr1</td><td> 5917710</td><td> 5917930</td><td>peak_both_6 </td><td>2.640920</td><td>.</td><td>2.169290</td><td> 5917760</td><td> 5917860</td><td>2.806423</td><td>2.286066</td><td>220</td><td>chr1:5910000-5920000  </td><td>Enhancer</td><td>Enhancer_ZScore_ASTARR</td></tr>\n",
       "\t<tr><td>chr1</td><td> 5915000</td><td> 5920000</td><td>chr1</td><td> 5917710</td><td> 5917930</td><td>peak_both_6 </td><td>2.640920</td><td>.</td><td>2.169290</td><td> 5917760</td><td> 5917860</td><td>2.806423</td><td>2.286066</td><td>220</td><td>chr1:5915000-5920000  </td><td>Enhancer</td><td>Enhancer_ZScore_ASTARR</td></tr>\n",
       "\t<tr><td>chr1</td><td> 5916000</td><td> 5918000</td><td>chr1</td><td> 5917710</td><td> 5917930</td><td>peak_both_6 </td><td>2.640920</td><td>.</td><td>2.169290</td><td> 5917760</td><td> 5917860</td><td>2.806423</td><td>2.286066</td><td>220</td><td>chr1:5916000-5918000  </td><td>Enhancer</td><td>Enhancer_ZScore_ASTARR</td></tr>\n",
       "\t<tr><td>chr1</td><td> 8900000</td><td> 8902000</td><td>chr1</td><td> 8900040</td><td> 8900240</td><td>peak_both_11</td><td>2.704947</td><td>.</td><td>2.214467</td><td> 8900090</td><td> 8900190</td><td>2.850193</td><td>2.316950</td><td>200</td><td>chr1:8900000-8902000  </td><td>Enhancer</td><td>Enhancer_ZScore_ASTARR</td></tr>\n",
       "\t<tr><td>chr1</td><td> 8900000</td><td> 8910000</td><td>chr1</td><td> 8900040</td><td> 8900240</td><td>peak_both_11</td><td>2.704947</td><td>.</td><td>2.214467</td><td> 8900090</td><td> 8900190</td><td>2.850193</td><td>2.316950</td><td>200</td><td>chr1:8900000-8910000  </td><td>Enhancer</td><td>Enhancer_ZScore_ASTARR</td></tr>\n",
       "\t<tr><td>chr1</td><td>11795000</td><td>11800000</td><td>chr1</td><td>11797900</td><td>11798080</td><td>peak_both_13</td><td>2.600173</td><td>.</td><td>2.140540</td><td>11797980</td><td>11798080</td><td>2.645214</td><td>2.172320</td><td>180</td><td>chr1:11795000-11800000</td><td>Enhancer</td><td>Enhancer_ZScore_ASTARR</td></tr>\n",
       "</tbody>\n",
       "</table>\n"
      ],
      "text/latex": [
       "A rowwise\\_df: 6 × 18\n",
       "\\begin{tabular}{llllllllllllllllll}\n",
       " Chrom\\_Loop & Start\\_Loop & End\\_Loop & Chrom & Start & End & Name & Log2FC & Strand & Zscore & summit\\_Start & summit\\_End & summit\\_Log2FC & summit\\_Zscore & Overlap & LoopB & Annotation & Label\\\\\n",
       " <chr> & <dbl> & <dbl> & <chr> & <dbl> & <dbl> & <chr> & <dbl> & <chr> & <dbl> & <dbl> & <dbl> & <dbl> & <dbl> & <dbl> & <chr> & <chr> & <chr>\\\\\n",
       "\\hline\n",
       "\t chr1 &  5910000 &  5920000 & chr1 &  5917710 &  5917930 & peak\\_both\\_6  & 2.640920 & . & 2.169290 &  5917760 &  5917860 & 2.806423 & 2.286066 & 220 & chr1:5910000-5920000   & Enhancer & Enhancer\\_ZScore\\_ASTARR\\\\\n",
       "\t chr1 &  5915000 &  5920000 & chr1 &  5917710 &  5917930 & peak\\_both\\_6  & 2.640920 & . & 2.169290 &  5917760 &  5917860 & 2.806423 & 2.286066 & 220 & chr1:5915000-5920000   & Enhancer & Enhancer\\_ZScore\\_ASTARR\\\\\n",
       "\t chr1 &  5916000 &  5918000 & chr1 &  5917710 &  5917930 & peak\\_both\\_6  & 2.640920 & . & 2.169290 &  5917760 &  5917860 & 2.806423 & 2.286066 & 220 & chr1:5916000-5918000   & Enhancer & Enhancer\\_ZScore\\_ASTARR\\\\\n",
       "\t chr1 &  8900000 &  8902000 & chr1 &  8900040 &  8900240 & peak\\_both\\_11 & 2.704947 & . & 2.214467 &  8900090 &  8900190 & 2.850193 & 2.316950 & 200 & chr1:8900000-8902000   & Enhancer & Enhancer\\_ZScore\\_ASTARR\\\\\n",
       "\t chr1 &  8900000 &  8910000 & chr1 &  8900040 &  8900240 & peak\\_both\\_11 & 2.704947 & . & 2.214467 &  8900090 &  8900190 & 2.850193 & 2.316950 & 200 & chr1:8900000-8910000   & Enhancer & Enhancer\\_ZScore\\_ASTARR\\\\\n",
       "\t chr1 & 11795000 & 11800000 & chr1 & 11797900 & 11798080 & peak\\_both\\_13 & 2.600173 & . & 2.140540 & 11797980 & 11798080 & 2.645214 & 2.172320 & 180 & chr1:11795000-11800000 & Enhancer & Enhancer\\_ZScore\\_ASTARR\\\\\n",
       "\\end{tabular}\n"
      ],
      "text/markdown": [
       "\n",
       "A rowwise_df: 6 × 18\n",
       "\n",
       "| Chrom_Loop &lt;chr&gt; | Start_Loop &lt;dbl&gt; | End_Loop &lt;dbl&gt; | Chrom &lt;chr&gt; | Start &lt;dbl&gt; | End &lt;dbl&gt; | Name &lt;chr&gt; | Log2FC &lt;dbl&gt; | Strand &lt;chr&gt; | Zscore &lt;dbl&gt; | summit_Start &lt;dbl&gt; | summit_End &lt;dbl&gt; | summit_Log2FC &lt;dbl&gt; | summit_Zscore &lt;dbl&gt; | Overlap &lt;dbl&gt; | LoopB &lt;chr&gt; | Annotation &lt;chr&gt; | Label &lt;chr&gt; |\n",
       "|---|---|---|---|---|---|---|---|---|---|---|---|---|---|---|---|---|---|\n",
       "| chr1 |  5910000 |  5920000 | chr1 |  5917710 |  5917930 | peak_both_6  | 2.640920 | . | 2.169290 |  5917760 |  5917860 | 2.806423 | 2.286066 | 220 | chr1:5910000-5920000   | Enhancer | Enhancer_ZScore_ASTARR |\n",
       "| chr1 |  5915000 |  5920000 | chr1 |  5917710 |  5917930 | peak_both_6  | 2.640920 | . | 2.169290 |  5917760 |  5917860 | 2.806423 | 2.286066 | 220 | chr1:5915000-5920000   | Enhancer | Enhancer_ZScore_ASTARR |\n",
       "| chr1 |  5916000 |  5918000 | chr1 |  5917710 |  5917930 | peak_both_6  | 2.640920 | . | 2.169290 |  5917760 |  5917860 | 2.806423 | 2.286066 | 220 | chr1:5916000-5918000   | Enhancer | Enhancer_ZScore_ASTARR |\n",
       "| chr1 |  8900000 |  8902000 | chr1 |  8900040 |  8900240 | peak_both_11 | 2.704947 | . | 2.214467 |  8900090 |  8900190 | 2.850193 | 2.316950 | 200 | chr1:8900000-8902000   | Enhancer | Enhancer_ZScore_ASTARR |\n",
       "| chr1 |  8900000 |  8910000 | chr1 |  8900040 |  8900240 | peak_both_11 | 2.704947 | . | 2.214467 |  8900090 |  8900190 | 2.850193 | 2.316950 | 200 | chr1:8900000-8910000   | Enhancer | Enhancer_ZScore_ASTARR |\n",
       "| chr1 | 11795000 | 11800000 | chr1 | 11797900 | 11798080 | peak_both_13 | 2.600173 | . | 2.140540 | 11797980 | 11798080 | 2.645214 | 2.172320 | 180 | chr1:11795000-11800000 | Enhancer | Enhancer_ZScore_ASTARR |\n",
       "\n"
      ],
      "text/plain": [
       "  Chrom_Loop Start_Loop End_Loop Chrom Start    End      Name         Log2FC  \n",
       "1 chr1        5910000    5920000 chr1   5917710  5917930 peak_both_6  2.640920\n",
       "2 chr1        5915000    5920000 chr1   5917710  5917930 peak_both_6  2.640920\n",
       "3 chr1        5916000    5918000 chr1   5917710  5917930 peak_both_6  2.640920\n",
       "4 chr1        8900000    8902000 chr1   8900040  8900240 peak_both_11 2.704947\n",
       "5 chr1        8900000    8910000 chr1   8900040  8900240 peak_both_11 2.704947\n",
       "6 chr1       11795000   11800000 chr1  11797900 11798080 peak_both_13 2.600173\n",
       "  Strand Zscore   summit_Start summit_End summit_Log2FC summit_Zscore Overlap\n",
       "1 .      2.169290  5917760      5917860   2.806423      2.286066      220    \n",
       "2 .      2.169290  5917760      5917860   2.806423      2.286066      220    \n",
       "3 .      2.169290  5917760      5917860   2.806423      2.286066      220    \n",
       "4 .      2.214467  8900090      8900190   2.850193      2.316950      200    \n",
       "5 .      2.214467  8900090      8900190   2.850193      2.316950      200    \n",
       "6 .      2.140540 11797980     11798080   2.645214      2.172320      180    \n",
       "  LoopB                  Annotation Label                 \n",
       "1 chr1:5910000-5920000   Enhancer   Enhancer_ZScore_ASTARR\n",
       "2 chr1:5915000-5920000   Enhancer   Enhancer_ZScore_ASTARR\n",
       "3 chr1:5916000-5918000   Enhancer   Enhancer_ZScore_ASTARR\n",
       "4 chr1:8900000-8902000   Enhancer   Enhancer_ZScore_ASTARR\n",
       "5 chr1:8900000-8910000   Enhancer   Enhancer_ZScore_ASTARR\n",
       "6 chr1:11795000-11800000 Enhancer   Enhancer_ZScore_ASTARR"
      ]
     },
     "metadata": {},
     "output_type": "display_data"
    }
   ],
   "source": [
    "### init\n",
    "annotation = \"Enhancer\"\n",
    "label      = \"Enhancer_ZScore_ASTARR\"\n",
    "cnames = dat_cnames$Name\n",
    "cnames = c(\"Chrom_Loop\", \"Start_Loop\", \"End_Loop\", cnames, \"Overlap\")\n",
    "\n",
    "###\n",
    "fdiry = file.path(\n",
    "    FD_RES, \n",
    "    \"results\", \n",
    "    \"region\", \n",
    "    \"hic_intact_ENCSR479XDG\", \n",
    "    \"loop\",\n",
    "    \"annotation_enhancer_zscore_junke\"\n",
    ")\n",
    "fname = \"loopB.annotation.enhancer_zscore_junke_peak_astarr.bed.gz\"\n",
    "fpath = file.path(fdiry, fname)\n",
    "\n",
    "\n",
    "### read data\n",
    "dat = read_tsv(fpath, col_names = cnames, show_col_types = FALSE)\n",
    "dat = dat %>% dplyr::rowwise() %>% dplyr::mutate(\n",
    "    LoopB      = paste0(\n",
    "        Chrom_Loop, \n",
    "        \":\",\n",
    "        format(Start_Loop, scientific=FALSE), \n",
    "        \"-\",\n",
    "        format(End_Loop,   scientific=FALSE)),\n",
    "    Annotation = annotation,\n",
    "    Label      = label\n",
    ")\n",
    "\n",
    "\n",
    "### assign and show\n",
    "dat_loopB_annot_astarr = dat\n",
    "print(dim(dat))\n",
    "head(dat)"
   ]
  },
  {
   "cell_type": "code",
   "execution_count": 15,
   "metadata": {},
   "outputs": [
    {
     "name": "stdout",
     "output_type": "stream",
     "text": [
      "[1] 7652   18\n"
     ]
    },
    {
     "data": {
      "text/html": [
       "<table class=\"dataframe\">\n",
       "<caption>A rowwise_df: 6 × 18</caption>\n",
       "<thead>\n",
       "\t<tr><th scope=col>Chrom_Loop</th><th scope=col>Start_Loop</th><th scope=col>End_Loop</th><th scope=col>Chrom</th><th scope=col>Start</th><th scope=col>End</th><th scope=col>Name</th><th scope=col>Log2FC</th><th scope=col>Strand</th><th scope=col>Zscore</th><th scope=col>summit_Start</th><th scope=col>summit_End</th><th scope=col>summit_Log2FC</th><th scope=col>summit_Zscore</th><th scope=col>Overlap</th><th scope=col>LoopB</th><th scope=col>Annotation</th><th scope=col>Label</th></tr>\n",
       "\t<tr><th scope=col>&lt;chr&gt;</th><th scope=col>&lt;dbl&gt;</th><th scope=col>&lt;dbl&gt;</th><th scope=col>&lt;chr&gt;</th><th scope=col>&lt;dbl&gt;</th><th scope=col>&lt;dbl&gt;</th><th scope=col>&lt;chr&gt;</th><th scope=col>&lt;dbl&gt;</th><th scope=col>&lt;chr&gt;</th><th scope=col>&lt;dbl&gt;</th><th scope=col>&lt;dbl&gt;</th><th scope=col>&lt;dbl&gt;</th><th scope=col>&lt;dbl&gt;</th><th scope=col>&lt;dbl&gt;</th><th scope=col>&lt;dbl&gt;</th><th scope=col>&lt;chr&gt;</th><th scope=col>&lt;chr&gt;</th><th scope=col>&lt;chr&gt;</th></tr>\n",
       "</thead>\n",
       "<tbody>\n",
       "\t<tr><td>chr1</td><td>1060000</td><td>1065000</td><td>chr1</td><td>1064070</td><td>1064300</td><td>peak_both_15</td><td>1.525521</td><td>.</td><td>2.772089</td><td>1064200</td><td>1064300</td><td>1.817103</td><td>3.324991</td><td>230</td><td>chr1:1060000-1065000</td><td>Enhancer</td><td>Enhancer_ZScore_WSTARR</td></tr>\n",
       "\t<tr><td>chr1</td><td>1060000</td><td>1065000</td><td>chr1</td><td>1064510</td><td>1064750</td><td>peak_both_16</td><td>1.763787</td><td>.</td><td>3.223892</td><td>1064510</td><td>1064610</td><td>1.978610</td><td>3.631243</td><td>240</td><td>chr1:1060000-1065000</td><td>Enhancer</td><td>Enhancer_ZScore_WSTARR</td></tr>\n",
       "\t<tr><td>chr1</td><td>1060000</td><td>1065000</td><td>chr1</td><td>1064070</td><td>1064300</td><td>peak_both_15</td><td>1.525521</td><td>.</td><td>2.772089</td><td>1064200</td><td>1064300</td><td>1.817103</td><td>3.324991</td><td>230</td><td>chr1:1060000-1065000</td><td>Enhancer</td><td>Enhancer_ZScore_WSTARR</td></tr>\n",
       "\t<tr><td>chr1</td><td>1060000</td><td>1065000</td><td>chr1</td><td>1064510</td><td>1064750</td><td>peak_both_16</td><td>1.763787</td><td>.</td><td>3.223892</td><td>1064510</td><td>1064610</td><td>1.978610</td><td>3.631243</td><td>240</td><td>chr1:1060000-1065000</td><td>Enhancer</td><td>Enhancer_ZScore_WSTARR</td></tr>\n",
       "\t<tr><td>chr1</td><td>1060000</td><td>1065000</td><td>chr1</td><td>1064070</td><td>1064300</td><td>peak_both_15</td><td>1.525521</td><td>.</td><td>2.772089</td><td>1064200</td><td>1064300</td><td>1.817103</td><td>3.324991</td><td>230</td><td>chr1:1060000-1065000</td><td>Enhancer</td><td>Enhancer_ZScore_WSTARR</td></tr>\n",
       "\t<tr><td>chr1</td><td>1060000</td><td>1065000</td><td>chr1</td><td>1064510</td><td>1064750</td><td>peak_both_16</td><td>1.763787</td><td>.</td><td>3.223892</td><td>1064510</td><td>1064610</td><td>1.978610</td><td>3.631243</td><td>240</td><td>chr1:1060000-1065000</td><td>Enhancer</td><td>Enhancer_ZScore_WSTARR</td></tr>\n",
       "</tbody>\n",
       "</table>\n"
      ],
      "text/latex": [
       "A rowwise\\_df: 6 × 18\n",
       "\\begin{tabular}{llllllllllllllllll}\n",
       " Chrom\\_Loop & Start\\_Loop & End\\_Loop & Chrom & Start & End & Name & Log2FC & Strand & Zscore & summit\\_Start & summit\\_End & summit\\_Log2FC & summit\\_Zscore & Overlap & LoopB & Annotation & Label\\\\\n",
       " <chr> & <dbl> & <dbl> & <chr> & <dbl> & <dbl> & <chr> & <dbl> & <chr> & <dbl> & <dbl> & <dbl> & <dbl> & <dbl> & <dbl> & <chr> & <chr> & <chr>\\\\\n",
       "\\hline\n",
       "\t chr1 & 1060000 & 1065000 & chr1 & 1064070 & 1064300 & peak\\_both\\_15 & 1.525521 & . & 2.772089 & 1064200 & 1064300 & 1.817103 & 3.324991 & 230 & chr1:1060000-1065000 & Enhancer & Enhancer\\_ZScore\\_WSTARR\\\\\n",
       "\t chr1 & 1060000 & 1065000 & chr1 & 1064510 & 1064750 & peak\\_both\\_16 & 1.763787 & . & 3.223892 & 1064510 & 1064610 & 1.978610 & 3.631243 & 240 & chr1:1060000-1065000 & Enhancer & Enhancer\\_ZScore\\_WSTARR\\\\\n",
       "\t chr1 & 1060000 & 1065000 & chr1 & 1064070 & 1064300 & peak\\_both\\_15 & 1.525521 & . & 2.772089 & 1064200 & 1064300 & 1.817103 & 3.324991 & 230 & chr1:1060000-1065000 & Enhancer & Enhancer\\_ZScore\\_WSTARR\\\\\n",
       "\t chr1 & 1060000 & 1065000 & chr1 & 1064510 & 1064750 & peak\\_both\\_16 & 1.763787 & . & 3.223892 & 1064510 & 1064610 & 1.978610 & 3.631243 & 240 & chr1:1060000-1065000 & Enhancer & Enhancer\\_ZScore\\_WSTARR\\\\\n",
       "\t chr1 & 1060000 & 1065000 & chr1 & 1064070 & 1064300 & peak\\_both\\_15 & 1.525521 & . & 2.772089 & 1064200 & 1064300 & 1.817103 & 3.324991 & 230 & chr1:1060000-1065000 & Enhancer & Enhancer\\_ZScore\\_WSTARR\\\\\n",
       "\t chr1 & 1060000 & 1065000 & chr1 & 1064510 & 1064750 & peak\\_both\\_16 & 1.763787 & . & 3.223892 & 1064510 & 1064610 & 1.978610 & 3.631243 & 240 & chr1:1060000-1065000 & Enhancer & Enhancer\\_ZScore\\_WSTARR\\\\\n",
       "\\end{tabular}\n"
      ],
      "text/markdown": [
       "\n",
       "A rowwise_df: 6 × 18\n",
       "\n",
       "| Chrom_Loop &lt;chr&gt; | Start_Loop &lt;dbl&gt; | End_Loop &lt;dbl&gt; | Chrom &lt;chr&gt; | Start &lt;dbl&gt; | End &lt;dbl&gt; | Name &lt;chr&gt; | Log2FC &lt;dbl&gt; | Strand &lt;chr&gt; | Zscore &lt;dbl&gt; | summit_Start &lt;dbl&gt; | summit_End &lt;dbl&gt; | summit_Log2FC &lt;dbl&gt; | summit_Zscore &lt;dbl&gt; | Overlap &lt;dbl&gt; | LoopB &lt;chr&gt; | Annotation &lt;chr&gt; | Label &lt;chr&gt; |\n",
       "|---|---|---|---|---|---|---|---|---|---|---|---|---|---|---|---|---|---|\n",
       "| chr1 | 1060000 | 1065000 | chr1 | 1064070 | 1064300 | peak_both_15 | 1.525521 | . | 2.772089 | 1064200 | 1064300 | 1.817103 | 3.324991 | 230 | chr1:1060000-1065000 | Enhancer | Enhancer_ZScore_WSTARR |\n",
       "| chr1 | 1060000 | 1065000 | chr1 | 1064510 | 1064750 | peak_both_16 | 1.763787 | . | 3.223892 | 1064510 | 1064610 | 1.978610 | 3.631243 | 240 | chr1:1060000-1065000 | Enhancer | Enhancer_ZScore_WSTARR |\n",
       "| chr1 | 1060000 | 1065000 | chr1 | 1064070 | 1064300 | peak_both_15 | 1.525521 | . | 2.772089 | 1064200 | 1064300 | 1.817103 | 3.324991 | 230 | chr1:1060000-1065000 | Enhancer | Enhancer_ZScore_WSTARR |\n",
       "| chr1 | 1060000 | 1065000 | chr1 | 1064510 | 1064750 | peak_both_16 | 1.763787 | . | 3.223892 | 1064510 | 1064610 | 1.978610 | 3.631243 | 240 | chr1:1060000-1065000 | Enhancer | Enhancer_ZScore_WSTARR |\n",
       "| chr1 | 1060000 | 1065000 | chr1 | 1064070 | 1064300 | peak_both_15 | 1.525521 | . | 2.772089 | 1064200 | 1064300 | 1.817103 | 3.324991 | 230 | chr1:1060000-1065000 | Enhancer | Enhancer_ZScore_WSTARR |\n",
       "| chr1 | 1060000 | 1065000 | chr1 | 1064510 | 1064750 | peak_both_16 | 1.763787 | . | 3.223892 | 1064510 | 1064610 | 1.978610 | 3.631243 | 240 | chr1:1060000-1065000 | Enhancer | Enhancer_ZScore_WSTARR |\n",
       "\n"
      ],
      "text/plain": [
       "  Chrom_Loop Start_Loop End_Loop Chrom Start   End     Name         Log2FC  \n",
       "1 chr1       1060000    1065000  chr1  1064070 1064300 peak_both_15 1.525521\n",
       "2 chr1       1060000    1065000  chr1  1064510 1064750 peak_both_16 1.763787\n",
       "3 chr1       1060000    1065000  chr1  1064070 1064300 peak_both_15 1.525521\n",
       "4 chr1       1060000    1065000  chr1  1064510 1064750 peak_both_16 1.763787\n",
       "5 chr1       1060000    1065000  chr1  1064070 1064300 peak_both_15 1.525521\n",
       "6 chr1       1060000    1065000  chr1  1064510 1064750 peak_both_16 1.763787\n",
       "  Strand Zscore   summit_Start summit_End summit_Log2FC summit_Zscore Overlap\n",
       "1 .      2.772089 1064200      1064300    1.817103      3.324991      230    \n",
       "2 .      3.223892 1064510      1064610    1.978610      3.631243      240    \n",
       "3 .      2.772089 1064200      1064300    1.817103      3.324991      230    \n",
       "4 .      3.223892 1064510      1064610    1.978610      3.631243      240    \n",
       "5 .      2.772089 1064200      1064300    1.817103      3.324991      230    \n",
       "6 .      3.223892 1064510      1064610    1.978610      3.631243      240    \n",
       "  LoopB                Annotation Label                 \n",
       "1 chr1:1060000-1065000 Enhancer   Enhancer_ZScore_WSTARR\n",
       "2 chr1:1060000-1065000 Enhancer   Enhancer_ZScore_WSTARR\n",
       "3 chr1:1060000-1065000 Enhancer   Enhancer_ZScore_WSTARR\n",
       "4 chr1:1060000-1065000 Enhancer   Enhancer_ZScore_WSTARR\n",
       "5 chr1:1060000-1065000 Enhancer   Enhancer_ZScore_WSTARR\n",
       "6 chr1:1060000-1065000 Enhancer   Enhancer_ZScore_WSTARR"
      ]
     },
     "metadata": {},
     "output_type": "display_data"
    }
   ],
   "source": [
    "### init\n",
    "annotation = \"Enhancer\"\n",
    "label      = \"Enhancer_ZScore_WSTARR\"\n",
    "cnames = dat_cnames$Name\n",
    "cnames = c(\"Chrom_Loop\", \"Start_Loop\", \"End_Loop\", cnames, \"Overlap\")\n",
    "\n",
    "###\n",
    "fdiry = file.path(\n",
    "    FD_RES, \n",
    "    \"results\", \n",
    "    \"region\", \n",
    "    \"hic_intact_ENCSR479XDG\", \n",
    "    \"loop\",\n",
    "    \"annotation_enhancer_zscore_junke\"\n",
    ")\n",
    "fname = \"loopB.annotation.enhancer_zscore_junke_peak_wstarr.bed.gz\"\n",
    "fpath = file.path(fdiry, fname)\n",
    "\n",
    "\n",
    "### read data\n",
    "dat = read_tsv(fpath, col_names = cnames, show_col_types = FALSE)\n",
    "dat = dat %>% dplyr::rowwise() %>% dplyr::mutate(\n",
    "    LoopB      = paste0(\n",
    "        Chrom_Loop, \n",
    "        \":\",\n",
    "        format(Start_Loop, scientific=FALSE), \n",
    "        \"-\",\n",
    "        format(End_Loop,   scientific=FALSE)),\n",
    "    Annotation = annotation,\n",
    "    Label      = label\n",
    ")\n",
    "\n",
    "\n",
    "### assign and show\n",
    "dat_loopB_annot_wstarr = dat\n",
    "print(dim(dat))\n",
    "head(dat)"
   ]
  },
  {
   "cell_type": "code",
   "execution_count": null,
   "metadata": {},
   "outputs": [],
   "source": []
  },
  {
   "cell_type": "code",
   "execution_count": null,
   "metadata": {},
   "outputs": [],
   "source": []
  },
  {
   "cell_type": "code",
   "execution_count": 17,
   "metadata": {},
   "outputs": [
    {
     "name": "stdout",
     "output_type": "stream",
     "text": [
      "[1] 1220    4\n"
     ]
    },
    {
     "data": {
      "text/html": [
       "<table class=\"dataframe\">\n",
       "<caption>A tibble: 6 × 4</caption>\n",
       "<thead>\n",
       "\t<tr><th scope=col>LoopA</th><th scope=col>Annotation</th><th scope=col>Label</th><th scope=col>Count</th></tr>\n",
       "\t<tr><th scope=col>&lt;chr&gt;</th><th scope=col>&lt;chr&gt;</th><th scope=col>&lt;chr&gt;</th><th scope=col>&lt;int&gt;</th></tr>\n",
       "</thead>\n",
       "<tbody>\n",
       "\t<tr><td>chr10:110500000-110505000</td><td>Enhancer</td><td>Enhancer_ZScore_ASTARR</td><td>1</td></tr>\n",
       "\t<tr><td>chr10:112382000-112384000</td><td>Enhancer</td><td>Enhancer_ZScore_ASTARR</td><td>1</td></tr>\n",
       "\t<tr><td>chr10:116945000-116950000</td><td>Enhancer</td><td>Enhancer_ZScore_ASTARR</td><td>1</td></tr>\n",
       "\t<tr><td>chr10:118765000-118770000</td><td>Enhancer</td><td>Enhancer_ZScore_ASTARR</td><td>1</td></tr>\n",
       "\t<tr><td>chr10:119520000-119522000</td><td>Enhancer</td><td>Enhancer_ZScore_ASTARR</td><td>1</td></tr>\n",
       "\t<tr><td>chr10:133140000-133145000</td><td>Enhancer</td><td>Enhancer_ZScore_ASTARR</td><td>1</td></tr>\n",
       "</tbody>\n",
       "</table>\n"
      ],
      "text/latex": [
       "A tibble: 6 × 4\n",
       "\\begin{tabular}{llll}\n",
       " LoopA & Annotation & Label & Count\\\\\n",
       " <chr> & <chr> & <chr> & <int>\\\\\n",
       "\\hline\n",
       "\t chr10:110500000-110505000 & Enhancer & Enhancer\\_ZScore\\_ASTARR & 1\\\\\n",
       "\t chr10:112382000-112384000 & Enhancer & Enhancer\\_ZScore\\_ASTARR & 1\\\\\n",
       "\t chr10:116945000-116950000 & Enhancer & Enhancer\\_ZScore\\_ASTARR & 1\\\\\n",
       "\t chr10:118765000-118770000 & Enhancer & Enhancer\\_ZScore\\_ASTARR & 1\\\\\n",
       "\t chr10:119520000-119522000 & Enhancer & Enhancer\\_ZScore\\_ASTARR & 1\\\\\n",
       "\t chr10:133140000-133145000 & Enhancer & Enhancer\\_ZScore\\_ASTARR & 1\\\\\n",
       "\\end{tabular}\n"
      ],
      "text/markdown": [
       "\n",
       "A tibble: 6 × 4\n",
       "\n",
       "| LoopA &lt;chr&gt; | Annotation &lt;chr&gt; | Label &lt;chr&gt; | Count &lt;int&gt; |\n",
       "|---|---|---|---|\n",
       "| chr10:110500000-110505000 | Enhancer | Enhancer_ZScore_ASTARR | 1 |\n",
       "| chr10:112382000-112384000 | Enhancer | Enhancer_ZScore_ASTARR | 1 |\n",
       "| chr10:116945000-116950000 | Enhancer | Enhancer_ZScore_ASTARR | 1 |\n",
       "| chr10:118765000-118770000 | Enhancer | Enhancer_ZScore_ASTARR | 1 |\n",
       "| chr10:119520000-119522000 | Enhancer | Enhancer_ZScore_ASTARR | 1 |\n",
       "| chr10:133140000-133145000 | Enhancer | Enhancer_ZScore_ASTARR | 1 |\n",
       "\n"
      ],
      "text/plain": [
       "  LoopA                     Annotation Label                  Count\n",
       "1 chr10:110500000-110505000 Enhancer   Enhancer_ZScore_ASTARR 1    \n",
       "2 chr10:112382000-112384000 Enhancer   Enhancer_ZScore_ASTARR 1    \n",
       "3 chr10:116945000-116950000 Enhancer   Enhancer_ZScore_ASTARR 1    \n",
       "4 chr10:118765000-118770000 Enhancer   Enhancer_ZScore_ASTARR 1    \n",
       "5 chr10:119520000-119522000 Enhancer   Enhancer_ZScore_ASTARR 1    \n",
       "6 chr10:133140000-133145000 Enhancer   Enhancer_ZScore_ASTARR 1    "
      ]
     },
     "metadata": {},
     "output_type": "display_data"
    }
   ],
   "source": [
    "dat = dat_loopA_annot_astarr\n",
    "dat = dat %>% \n",
    "    dplyr::group_by(LoopA, Annotation, Label) %>%\n",
    "    dplyr::summarise(Count = n(), .groups = \"drop\")\n",
    "\n",
    "### assign and show\n",
    "dat_loopA_annot_astarr_count = dat\n",
    "print(dim(dat))\n",
    "head(dat)"
   ]
  },
  {
   "cell_type": "code",
   "execution_count": 18,
   "metadata": {},
   "outputs": [
    {
     "name": "stdout",
     "output_type": "stream",
     "text": [
      "[1] 5040    4\n"
     ]
    },
    {
     "data": {
      "text/html": [
       "<table class=\"dataframe\">\n",
       "<caption>A tibble: 6 × 4</caption>\n",
       "<thead>\n",
       "\t<tr><th scope=col>LoopA</th><th scope=col>Annotation</th><th scope=col>Label</th><th scope=col>Count</th></tr>\n",
       "\t<tr><th scope=col>&lt;chr&gt;</th><th scope=col>&lt;chr&gt;</th><th scope=col>&lt;chr&gt;</th><th scope=col>&lt;int&gt;</th></tr>\n",
       "</thead>\n",
       "<tbody>\n",
       "\t<tr><td>chr10:100340000-100350000</td><td>Enhancer</td><td>Enhancer_ZScore_WSTARR</td><td>2</td></tr>\n",
       "\t<tr><td>chr10:100347000-100348000</td><td>Enhancer</td><td>Enhancer_ZScore_WSTARR</td><td>1</td></tr>\n",
       "\t<tr><td>chr10:101010000-101020000</td><td>Enhancer</td><td>Enhancer_ZScore_WSTARR</td><td>1</td></tr>\n",
       "\t<tr><td>chr10:101780000-101785000</td><td>Enhancer</td><td>Enhancer_ZScore_WSTARR</td><td>1</td></tr>\n",
       "\t<tr><td>chr10:102064000-102066000</td><td>Enhancer</td><td>Enhancer_ZScore_WSTARR</td><td>1</td></tr>\n",
       "\t<tr><td>chr10:102112000-102113000</td><td>Enhancer</td><td>Enhancer_ZScore_WSTARR</td><td>1</td></tr>\n",
       "</tbody>\n",
       "</table>\n"
      ],
      "text/latex": [
       "A tibble: 6 × 4\n",
       "\\begin{tabular}{llll}\n",
       " LoopA & Annotation & Label & Count\\\\\n",
       " <chr> & <chr> & <chr> & <int>\\\\\n",
       "\\hline\n",
       "\t chr10:100340000-100350000 & Enhancer & Enhancer\\_ZScore\\_WSTARR & 2\\\\\n",
       "\t chr10:100347000-100348000 & Enhancer & Enhancer\\_ZScore\\_WSTARR & 1\\\\\n",
       "\t chr10:101010000-101020000 & Enhancer & Enhancer\\_ZScore\\_WSTARR & 1\\\\\n",
       "\t chr10:101780000-101785000 & Enhancer & Enhancer\\_ZScore\\_WSTARR & 1\\\\\n",
       "\t chr10:102064000-102066000 & Enhancer & Enhancer\\_ZScore\\_WSTARR & 1\\\\\n",
       "\t chr10:102112000-102113000 & Enhancer & Enhancer\\_ZScore\\_WSTARR & 1\\\\\n",
       "\\end{tabular}\n"
      ],
      "text/markdown": [
       "\n",
       "A tibble: 6 × 4\n",
       "\n",
       "| LoopA &lt;chr&gt; | Annotation &lt;chr&gt; | Label &lt;chr&gt; | Count &lt;int&gt; |\n",
       "|---|---|---|---|\n",
       "| chr10:100340000-100350000 | Enhancer | Enhancer_ZScore_WSTARR | 2 |\n",
       "| chr10:100347000-100348000 | Enhancer | Enhancer_ZScore_WSTARR | 1 |\n",
       "| chr10:101010000-101020000 | Enhancer | Enhancer_ZScore_WSTARR | 1 |\n",
       "| chr10:101780000-101785000 | Enhancer | Enhancer_ZScore_WSTARR | 1 |\n",
       "| chr10:102064000-102066000 | Enhancer | Enhancer_ZScore_WSTARR | 1 |\n",
       "| chr10:102112000-102113000 | Enhancer | Enhancer_ZScore_WSTARR | 1 |\n",
       "\n"
      ],
      "text/plain": [
       "  LoopA                     Annotation Label                  Count\n",
       "1 chr10:100340000-100350000 Enhancer   Enhancer_ZScore_WSTARR 2    \n",
       "2 chr10:100347000-100348000 Enhancer   Enhancer_ZScore_WSTARR 1    \n",
       "3 chr10:101010000-101020000 Enhancer   Enhancer_ZScore_WSTARR 1    \n",
       "4 chr10:101780000-101785000 Enhancer   Enhancer_ZScore_WSTARR 1    \n",
       "5 chr10:102064000-102066000 Enhancer   Enhancer_ZScore_WSTARR 1    \n",
       "6 chr10:102112000-102113000 Enhancer   Enhancer_ZScore_WSTARR 1    "
      ]
     },
     "metadata": {},
     "output_type": "display_data"
    }
   ],
   "source": [
    "dat = dat_loopA_annot_wstarr\n",
    "dat = dat %>% \n",
    "    dplyr::group_by(LoopA, Annotation, Label) %>%\n",
    "    dplyr::summarise(Count = n(), .groups = \"drop\")\n",
    "\n",
    "### assign and show\n",
    "dat_loopA_annot_wstarr_count = dat\n",
    "print(dim(dat))\n",
    "head(dat)"
   ]
  },
  {
   "cell_type": "code",
   "execution_count": 20,
   "metadata": {},
   "outputs": [
    {
     "name": "stdout",
     "output_type": "stream",
     "text": [
      "[1] 1227    4\n"
     ]
    },
    {
     "data": {
      "text/html": [
       "<table class=\"dataframe\">\n",
       "<caption>A tibble: 6 × 4</caption>\n",
       "<thead>\n",
       "\t<tr><th scope=col>LoopB</th><th scope=col>Annotation</th><th scope=col>Label</th><th scope=col>Count</th></tr>\n",
       "\t<tr><th scope=col>&lt;chr&gt;</th><th scope=col>&lt;chr&gt;</th><th scope=col>&lt;chr&gt;</th><th scope=col>&lt;int&gt;</th></tr>\n",
       "</thead>\n",
       "<tbody>\n",
       "\t<tr><td>chr10:102810000-102815000</td><td>Enhancer</td><td>Enhancer_ZScore_ASTARR</td><td>1</td></tr>\n",
       "\t<tr><td>chr10:11710000-11711000  </td><td>Enhancer</td><td>Enhancer_ZScore_ASTARR</td><td>1</td></tr>\n",
       "\t<tr><td>chr10:128629000-128630000</td><td>Enhancer</td><td>Enhancer_ZScore_ASTARR</td><td>1</td></tr>\n",
       "\t<tr><td>chr10:22815000-22820000  </td><td>Enhancer</td><td>Enhancer_ZScore_ASTARR</td><td>1</td></tr>\n",
       "\t<tr><td>chr10:24920000-24925000  </td><td>Enhancer</td><td>Enhancer_ZScore_ASTARR</td><td>1</td></tr>\n",
       "\t<tr><td>chr10:25493000-25494000  </td><td>Enhancer</td><td>Enhancer_ZScore_ASTARR</td><td>1</td></tr>\n",
       "</tbody>\n",
       "</table>\n"
      ],
      "text/latex": [
       "A tibble: 6 × 4\n",
       "\\begin{tabular}{llll}\n",
       " LoopB & Annotation & Label & Count\\\\\n",
       " <chr> & <chr> & <chr> & <int>\\\\\n",
       "\\hline\n",
       "\t chr10:102810000-102815000 & Enhancer & Enhancer\\_ZScore\\_ASTARR & 1\\\\\n",
       "\t chr10:11710000-11711000   & Enhancer & Enhancer\\_ZScore\\_ASTARR & 1\\\\\n",
       "\t chr10:128629000-128630000 & Enhancer & Enhancer\\_ZScore\\_ASTARR & 1\\\\\n",
       "\t chr10:22815000-22820000   & Enhancer & Enhancer\\_ZScore\\_ASTARR & 1\\\\\n",
       "\t chr10:24920000-24925000   & Enhancer & Enhancer\\_ZScore\\_ASTARR & 1\\\\\n",
       "\t chr10:25493000-25494000   & Enhancer & Enhancer\\_ZScore\\_ASTARR & 1\\\\\n",
       "\\end{tabular}\n"
      ],
      "text/markdown": [
       "\n",
       "A tibble: 6 × 4\n",
       "\n",
       "| LoopB &lt;chr&gt; | Annotation &lt;chr&gt; | Label &lt;chr&gt; | Count &lt;int&gt; |\n",
       "|---|---|---|---|\n",
       "| chr10:102810000-102815000 | Enhancer | Enhancer_ZScore_ASTARR | 1 |\n",
       "| chr10:11710000-11711000   | Enhancer | Enhancer_ZScore_ASTARR | 1 |\n",
       "| chr10:128629000-128630000 | Enhancer | Enhancer_ZScore_ASTARR | 1 |\n",
       "| chr10:22815000-22820000   | Enhancer | Enhancer_ZScore_ASTARR | 1 |\n",
       "| chr10:24920000-24925000   | Enhancer | Enhancer_ZScore_ASTARR | 1 |\n",
       "| chr10:25493000-25494000   | Enhancer | Enhancer_ZScore_ASTARR | 1 |\n",
       "\n"
      ],
      "text/plain": [
       "  LoopB                     Annotation Label                  Count\n",
       "1 chr10:102810000-102815000 Enhancer   Enhancer_ZScore_ASTARR 1    \n",
       "2 chr10:11710000-11711000   Enhancer   Enhancer_ZScore_ASTARR 1    \n",
       "3 chr10:128629000-128630000 Enhancer   Enhancer_ZScore_ASTARR 1    \n",
       "4 chr10:22815000-22820000   Enhancer   Enhancer_ZScore_ASTARR 1    \n",
       "5 chr10:24920000-24925000   Enhancer   Enhancer_ZScore_ASTARR 1    \n",
       "6 chr10:25493000-25494000   Enhancer   Enhancer_ZScore_ASTARR 1    "
      ]
     },
     "metadata": {},
     "output_type": "display_data"
    }
   ],
   "source": [
    "dat = dat_loopB_annot_astarr\n",
    "dat = dat %>% \n",
    "    dplyr::group_by(LoopB, Annotation, Label) %>%\n",
    "    dplyr::summarise(Count = n(), .groups = \"drop\")\n",
    "\n",
    "### assign and show\n",
    "dat_loopB_annot_astarr_count = dat\n",
    "print(dim(dat))\n",
    "head(dat)"
   ]
  },
  {
   "cell_type": "code",
   "execution_count": 21,
   "metadata": {},
   "outputs": [
    {
     "name": "stdout",
     "output_type": "stream",
     "text": [
      "[1] 4926    4\n"
     ]
    },
    {
     "data": {
      "text/html": [
       "<table class=\"dataframe\">\n",
       "<caption>A tibble: 6 × 4</caption>\n",
       "<thead>\n",
       "\t<tr><th scope=col>LoopB</th><th scope=col>Annotation</th><th scope=col>Label</th><th scope=col>Count</th></tr>\n",
       "\t<tr><th scope=col>&lt;chr&gt;</th><th scope=col>&lt;chr&gt;</th><th scope=col>&lt;chr&gt;</th><th scope=col>&lt;int&gt;</th></tr>\n",
       "</thead>\n",
       "<tbody>\n",
       "\t<tr><td>chr10:100372000-100374000</td><td>Enhancer</td><td>Enhancer_ZScore_WSTARR</td><td>2</td></tr>\n",
       "\t<tr><td>chr10:100373000-100374000</td><td>Enhancer</td><td>Enhancer_ZScore_WSTARR</td><td>2</td></tr>\n",
       "\t<tr><td>chr10:101780000-101785000</td><td>Enhancer</td><td>Enhancer_ZScore_WSTARR</td><td>1</td></tr>\n",
       "\t<tr><td>chr10:102050000-102060000</td><td>Enhancer</td><td>Enhancer_ZScore_WSTARR</td><td>3</td></tr>\n",
       "\t<tr><td>chr10:102055000-102060000</td><td>Enhancer</td><td>Enhancer_ZScore_WSTARR</td><td>3</td></tr>\n",
       "\t<tr><td>chr10:102065000-102070000</td><td>Enhancer</td><td>Enhancer_ZScore_WSTARR</td><td>1</td></tr>\n",
       "</tbody>\n",
       "</table>\n"
      ],
      "text/latex": [
       "A tibble: 6 × 4\n",
       "\\begin{tabular}{llll}\n",
       " LoopB & Annotation & Label & Count\\\\\n",
       " <chr> & <chr> & <chr> & <int>\\\\\n",
       "\\hline\n",
       "\t chr10:100372000-100374000 & Enhancer & Enhancer\\_ZScore\\_WSTARR & 2\\\\\n",
       "\t chr10:100373000-100374000 & Enhancer & Enhancer\\_ZScore\\_WSTARR & 2\\\\\n",
       "\t chr10:101780000-101785000 & Enhancer & Enhancer\\_ZScore\\_WSTARR & 1\\\\\n",
       "\t chr10:102050000-102060000 & Enhancer & Enhancer\\_ZScore\\_WSTARR & 3\\\\\n",
       "\t chr10:102055000-102060000 & Enhancer & Enhancer\\_ZScore\\_WSTARR & 3\\\\\n",
       "\t chr10:102065000-102070000 & Enhancer & Enhancer\\_ZScore\\_WSTARR & 1\\\\\n",
       "\\end{tabular}\n"
      ],
      "text/markdown": [
       "\n",
       "A tibble: 6 × 4\n",
       "\n",
       "| LoopB &lt;chr&gt; | Annotation &lt;chr&gt; | Label &lt;chr&gt; | Count &lt;int&gt; |\n",
       "|---|---|---|---|\n",
       "| chr10:100372000-100374000 | Enhancer | Enhancer_ZScore_WSTARR | 2 |\n",
       "| chr10:100373000-100374000 | Enhancer | Enhancer_ZScore_WSTARR | 2 |\n",
       "| chr10:101780000-101785000 | Enhancer | Enhancer_ZScore_WSTARR | 1 |\n",
       "| chr10:102050000-102060000 | Enhancer | Enhancer_ZScore_WSTARR | 3 |\n",
       "| chr10:102055000-102060000 | Enhancer | Enhancer_ZScore_WSTARR | 3 |\n",
       "| chr10:102065000-102070000 | Enhancer | Enhancer_ZScore_WSTARR | 1 |\n",
       "\n"
      ],
      "text/plain": [
       "  LoopB                     Annotation Label                  Count\n",
       "1 chr10:100372000-100374000 Enhancer   Enhancer_ZScore_WSTARR 2    \n",
       "2 chr10:100373000-100374000 Enhancer   Enhancer_ZScore_WSTARR 2    \n",
       "3 chr10:101780000-101785000 Enhancer   Enhancer_ZScore_WSTARR 1    \n",
       "4 chr10:102050000-102060000 Enhancer   Enhancer_ZScore_WSTARR 3    \n",
       "5 chr10:102055000-102060000 Enhancer   Enhancer_ZScore_WSTARR 3    \n",
       "6 chr10:102065000-102070000 Enhancer   Enhancer_ZScore_WSTARR 1    "
      ]
     },
     "metadata": {},
     "output_type": "display_data"
    }
   ],
   "source": [
    "dat = dat_loopB_annot_wstarr\n",
    "dat = dat %>% \n",
    "    dplyr::group_by(LoopB, Annotation, Label) %>%\n",
    "    dplyr::summarise(Count = n(), .groups = \"drop\")\n",
    "\n",
    "### assign and show\n",
    "dat_loopB_annot_wstarr_count = dat\n",
    "print(dim(dat))\n",
    "head(dat)"
   ]
  },
  {
   "cell_type": "code",
   "execution_count": 22,
   "metadata": {},
   "outputs": [
    {
     "name": "stdout",
     "output_type": "stream",
     "text": [
      "[1] 5463    5\n"
     ]
    },
    {
     "data": {
      "text/html": [
       "<table class=\"dataframe\">\n",
       "<caption>A tibble: 6 × 5</caption>\n",
       "<thead>\n",
       "\t<tr><th scope=col>LoopA</th><th scope=col>Annotation</th><th scope=col>Label</th><th scope=col>Count</th><th scope=col>Note</th></tr>\n",
       "\t<tr><th scope=col>&lt;chr&gt;</th><th scope=col>&lt;chr&gt;</th><th scope=col>&lt;chr&gt;</th><th scope=col>&lt;int&gt;</th><th scope=col>&lt;chr&gt;</th></tr>\n",
       "</thead>\n",
       "<tbody>\n",
       "\t<tr><td>chr10:100340000-100350000</td><td>Enhancer</td><td>Enhancer_ZScore_STARR</td><td>2</td><td>WSTARR|WSTARR</td></tr>\n",
       "\t<tr><td>chr10:100347000-100348000</td><td>Enhancer</td><td>Enhancer_ZScore_STARR</td><td>1</td><td>WSTARR       </td></tr>\n",
       "\t<tr><td>chr10:101010000-101020000</td><td>Enhancer</td><td>Enhancer_ZScore_STARR</td><td>1</td><td>WSTARR       </td></tr>\n",
       "\t<tr><td>chr10:101780000-101785000</td><td>Enhancer</td><td>Enhancer_ZScore_STARR</td><td>1</td><td>WSTARR       </td></tr>\n",
       "\t<tr><td>chr10:102064000-102066000</td><td>Enhancer</td><td>Enhancer_ZScore_STARR</td><td>1</td><td>WSTARR       </td></tr>\n",
       "\t<tr><td>chr10:102112000-102113000</td><td>Enhancer</td><td>Enhancer_ZScore_STARR</td><td>1</td><td>WSTARR       </td></tr>\n",
       "</tbody>\n",
       "</table>\n"
      ],
      "text/latex": [
       "A tibble: 6 × 5\n",
       "\\begin{tabular}{lllll}\n",
       " LoopA & Annotation & Label & Count & Note\\\\\n",
       " <chr> & <chr> & <chr> & <int> & <chr>\\\\\n",
       "\\hline\n",
       "\t chr10:100340000-100350000 & Enhancer & Enhancer\\_ZScore\\_STARR & 2 & WSTARR\\textbar{}WSTARR\\\\\n",
       "\t chr10:100347000-100348000 & Enhancer & Enhancer\\_ZScore\\_STARR & 1 & WSTARR       \\\\\n",
       "\t chr10:101010000-101020000 & Enhancer & Enhancer\\_ZScore\\_STARR & 1 & WSTARR       \\\\\n",
       "\t chr10:101780000-101785000 & Enhancer & Enhancer\\_ZScore\\_STARR & 1 & WSTARR       \\\\\n",
       "\t chr10:102064000-102066000 & Enhancer & Enhancer\\_ZScore\\_STARR & 1 & WSTARR       \\\\\n",
       "\t chr10:102112000-102113000 & Enhancer & Enhancer\\_ZScore\\_STARR & 1 & WSTARR       \\\\\n",
       "\\end{tabular}\n"
      ],
      "text/markdown": [
       "\n",
       "A tibble: 6 × 5\n",
       "\n",
       "| LoopA &lt;chr&gt; | Annotation &lt;chr&gt; | Label &lt;chr&gt; | Count &lt;int&gt; | Note &lt;chr&gt; |\n",
       "|---|---|---|---|---|\n",
       "| chr10:100340000-100350000 | Enhancer | Enhancer_ZScore_STARR | 2 | WSTARR|WSTARR |\n",
       "| chr10:100347000-100348000 | Enhancer | Enhancer_ZScore_STARR | 1 | WSTARR        |\n",
       "| chr10:101010000-101020000 | Enhancer | Enhancer_ZScore_STARR | 1 | WSTARR        |\n",
       "| chr10:101780000-101785000 | Enhancer | Enhancer_ZScore_STARR | 1 | WSTARR        |\n",
       "| chr10:102064000-102066000 | Enhancer | Enhancer_ZScore_STARR | 1 | WSTARR        |\n",
       "| chr10:102112000-102113000 | Enhancer | Enhancer_ZScore_STARR | 1 | WSTARR        |\n",
       "\n"
      ],
      "text/plain": [
       "  LoopA                     Annotation Label                 Count\n",
       "1 chr10:100340000-100350000 Enhancer   Enhancer_ZScore_STARR 2    \n",
       "2 chr10:100347000-100348000 Enhancer   Enhancer_ZScore_STARR 1    \n",
       "3 chr10:101010000-101020000 Enhancer   Enhancer_ZScore_STARR 1    \n",
       "4 chr10:101780000-101785000 Enhancer   Enhancer_ZScore_STARR 1    \n",
       "5 chr10:102064000-102066000 Enhancer   Enhancer_ZScore_STARR 1    \n",
       "6 chr10:102112000-102113000 Enhancer   Enhancer_ZScore_STARR 1    \n",
       "  Note         \n",
       "1 WSTARR|WSTARR\n",
       "2 WSTARR       \n",
       "3 WSTARR       \n",
       "4 WSTARR       \n",
       "5 WSTARR       \n",
       "6 WSTARR       "
      ]
     },
     "metadata": {},
     "output_type": "display_data"
    }
   ],
   "source": [
    "dat = bind_rows(\n",
    "    dat_loopA_annot_astarr %>% dplyr::mutate(Label=\"Enhancer_ZScore_STARR\", Note=\"ASTARR\"), \n",
    "    dat_loopA_annot_wstarr %>% dplyr::mutate(Label=\"Enhancer_ZScore_STARR\", Note=\"WSTARR\"))\n",
    "\n",
    "dat = dat %>% \n",
    "    dplyr::group_by(LoopA, Annotation, Label) %>%\n",
    "    dplyr::summarise(\n",
    "        Count = n(), \n",
    "        Note  = paste(Note, collapse=\"|\"),\n",
    "        .groups = \"drop\")\n",
    "\n",
    "dat_loopA_annot_starr_count = dat\n",
    "print(dim(dat))\n",
    "head(dat)"
   ]
  },
  {
   "cell_type": "code",
   "execution_count": 23,
   "metadata": {},
   "outputs": [
    {
     "name": "stdout",
     "output_type": "stream",
     "text": [
      "[1] 5386    5\n"
     ]
    },
    {
     "data": {
      "text/html": [
       "<table class=\"dataframe\">\n",
       "<caption>A tibble: 6 × 5</caption>\n",
       "<thead>\n",
       "\t<tr><th scope=col>LoopB</th><th scope=col>Annotation</th><th scope=col>Label</th><th scope=col>Count</th><th scope=col>Note</th></tr>\n",
       "\t<tr><th scope=col>&lt;chr&gt;</th><th scope=col>&lt;chr&gt;</th><th scope=col>&lt;chr&gt;</th><th scope=col>&lt;int&gt;</th><th scope=col>&lt;chr&gt;</th></tr>\n",
       "</thead>\n",
       "<tbody>\n",
       "\t<tr><td>chr10:100372000-100374000</td><td>Enhancer</td><td>Enhancer_ZScore_STARR</td><td>2</td><td>WSTARR|WSTARR       </td></tr>\n",
       "\t<tr><td>chr10:100373000-100374000</td><td>Enhancer</td><td>Enhancer_ZScore_STARR</td><td>2</td><td>WSTARR|WSTARR       </td></tr>\n",
       "\t<tr><td>chr10:101780000-101785000</td><td>Enhancer</td><td>Enhancer_ZScore_STARR</td><td>1</td><td>WSTARR              </td></tr>\n",
       "\t<tr><td>chr10:102050000-102060000</td><td>Enhancer</td><td>Enhancer_ZScore_STARR</td><td>3</td><td>WSTARR|WSTARR|WSTARR</td></tr>\n",
       "\t<tr><td>chr10:102055000-102060000</td><td>Enhancer</td><td>Enhancer_ZScore_STARR</td><td>3</td><td>WSTARR|WSTARR|WSTARR</td></tr>\n",
       "\t<tr><td>chr10:102065000-102070000</td><td>Enhancer</td><td>Enhancer_ZScore_STARR</td><td>1</td><td>WSTARR              </td></tr>\n",
       "</tbody>\n",
       "</table>\n"
      ],
      "text/latex": [
       "A tibble: 6 × 5\n",
       "\\begin{tabular}{lllll}\n",
       " LoopB & Annotation & Label & Count & Note\\\\\n",
       " <chr> & <chr> & <chr> & <int> & <chr>\\\\\n",
       "\\hline\n",
       "\t chr10:100372000-100374000 & Enhancer & Enhancer\\_ZScore\\_STARR & 2 & WSTARR\\textbar{}WSTARR       \\\\\n",
       "\t chr10:100373000-100374000 & Enhancer & Enhancer\\_ZScore\\_STARR & 2 & WSTARR\\textbar{}WSTARR       \\\\\n",
       "\t chr10:101780000-101785000 & Enhancer & Enhancer\\_ZScore\\_STARR & 1 & WSTARR              \\\\\n",
       "\t chr10:102050000-102060000 & Enhancer & Enhancer\\_ZScore\\_STARR & 3 & WSTARR\\textbar{}WSTARR\\textbar{}WSTARR\\\\\n",
       "\t chr10:102055000-102060000 & Enhancer & Enhancer\\_ZScore\\_STARR & 3 & WSTARR\\textbar{}WSTARR\\textbar{}WSTARR\\\\\n",
       "\t chr10:102065000-102070000 & Enhancer & Enhancer\\_ZScore\\_STARR & 1 & WSTARR              \\\\\n",
       "\\end{tabular}\n"
      ],
      "text/markdown": [
       "\n",
       "A tibble: 6 × 5\n",
       "\n",
       "| LoopB &lt;chr&gt; | Annotation &lt;chr&gt; | Label &lt;chr&gt; | Count &lt;int&gt; | Note &lt;chr&gt; |\n",
       "|---|---|---|---|---|\n",
       "| chr10:100372000-100374000 | Enhancer | Enhancer_ZScore_STARR | 2 | WSTARR|WSTARR        |\n",
       "| chr10:100373000-100374000 | Enhancer | Enhancer_ZScore_STARR | 2 | WSTARR|WSTARR        |\n",
       "| chr10:101780000-101785000 | Enhancer | Enhancer_ZScore_STARR | 1 | WSTARR               |\n",
       "| chr10:102050000-102060000 | Enhancer | Enhancer_ZScore_STARR | 3 | WSTARR|WSTARR|WSTARR |\n",
       "| chr10:102055000-102060000 | Enhancer | Enhancer_ZScore_STARR | 3 | WSTARR|WSTARR|WSTARR |\n",
       "| chr10:102065000-102070000 | Enhancer | Enhancer_ZScore_STARR | 1 | WSTARR               |\n",
       "\n"
      ],
      "text/plain": [
       "  LoopB                     Annotation Label                 Count\n",
       "1 chr10:100372000-100374000 Enhancer   Enhancer_ZScore_STARR 2    \n",
       "2 chr10:100373000-100374000 Enhancer   Enhancer_ZScore_STARR 2    \n",
       "3 chr10:101780000-101785000 Enhancer   Enhancer_ZScore_STARR 1    \n",
       "4 chr10:102050000-102060000 Enhancer   Enhancer_ZScore_STARR 3    \n",
       "5 chr10:102055000-102060000 Enhancer   Enhancer_ZScore_STARR 3    \n",
       "6 chr10:102065000-102070000 Enhancer   Enhancer_ZScore_STARR 1    \n",
       "  Note                \n",
       "1 WSTARR|WSTARR       \n",
       "2 WSTARR|WSTARR       \n",
       "3 WSTARR              \n",
       "4 WSTARR|WSTARR|WSTARR\n",
       "5 WSTARR|WSTARR|WSTARR\n",
       "6 WSTARR              "
      ]
     },
     "metadata": {},
     "output_type": "display_data"
    }
   ],
   "source": [
    "dat = bind_rows(\n",
    "    dat_loopB_annot_astarr %>% dplyr::mutate(Label=\"Enhancer_ZScore_STARR\", Note=\"ASTARR\"), \n",
    "    dat_loopB_annot_wstarr %>% dplyr::mutate(Label=\"Enhancer_ZScore_STARR\", Note=\"WSTARR\"))\n",
    "\n",
    "dat = dat %>% \n",
    "    dplyr::group_by(LoopB, Annotation, Label) %>%\n",
    "    dplyr::summarise(\n",
    "        Count = n(), \n",
    "        Note  = paste(Note, collapse=\"|\"),\n",
    "        .groups = \"drop\")\n",
    "\n",
    "dat_loopB_annot_starr_count = dat\n",
    "print(dim(dat))\n",
    "head(dat)"
   ]
  },
  {
   "cell_type": "code",
   "execution_count": 24,
   "metadata": {},
   "outputs": [],
   "source": [
    "fdiry = file.path(\n",
    "    FD_RES, \n",
    "    \"results\", \n",
    "    \"region\", \n",
    "    \"hic_intact_ENCSR479XDG\", \n",
    "    \"loop\",\n",
    "    \"summary\"\n",
    ")\n",
    "fname = \"loopA.summary.enhancer_zscore_junke_peak_starr.tsv\"\n",
    "fpath = file.path(fdiry, fname)\n",
    "\n",
    "dat = dat_loopA_annot_starr_count\n",
    "write_tsv(dat, fpath)"
   ]
  },
  {
   "cell_type": "code",
   "execution_count": 25,
   "metadata": {},
   "outputs": [],
   "source": [
    "fdiry = file.path(\n",
    "    FD_RES, \n",
    "    \"results\", \n",
    "    \"region\", \n",
    "    \"hic_intact_ENCSR479XDG\", \n",
    "    \"loop\",\n",
    "    \"summary\"\n",
    ")\n",
    "fname = \"loopB.summary.enhancer_zscore_junke_peak_starr.tsv\"\n",
    "fpath = file.path(fdiry, fname)\n",
    "\n",
    "dat = dat_loopB_annot_starr_count\n",
    "write_tsv(dat, fpath)"
   ]
  },
  {
   "cell_type": "code",
   "execution_count": null,
   "metadata": {},
   "outputs": [],
   "source": []
  }
 ],
 "metadata": {
  "kernelspec": {
   "display_name": "R",
   "language": "R",
   "name": "ir"
  },
  "language_info": {
   "codemirror_mode": "r",
   "file_extension": ".r",
   "mimetype": "text/x-r-source",
   "name": "R",
   "pygments_lexer": "r",
   "version": "4.3.0"
  }
 },
 "nbformat": 4,
 "nbformat_minor": 4
}
