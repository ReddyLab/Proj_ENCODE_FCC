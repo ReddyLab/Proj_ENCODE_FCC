{
 "cells": [
  {
   "cell_type": "markdown",
   "metadata": {},
   "source": [
    "**Set environment**"
   ]
  },
  {
   "cell_type": "code",
   "execution_count": 1,
   "metadata": {},
   "outputs": [
    {
     "name": "stdout",
     "output_type": "stream",
     "text": [
      "You are in Singularity: singularity_proj_encode_fcc \n",
      "BASE DIRECTORY (FD_BASE): /data/reddylab/Kuei \n",
      "WORK DIRECTORY (FD_WORK): /data/reddylab/Kuei/out \n",
      "CODE DIRECTORY (FD_CODE): /data/reddylab/Kuei/code \n",
      "PATH OF PROJECT (FD_PRJ): /data/reddylab/Kuei/code/Proj_CombEffect_ENCODE_FCC \n",
      "PATH OF RESULTS (FD_RES): /data/reddylab/Kuei/out/proj_combeffect_encode_fcc \n",
      "PATH OF LOG     (FD_LOG): /data/reddylab/Kuei/out/proj_combeffect_encode_fcc/log \n"
     ]
    }
   ],
   "source": [
    "suppressMessages(suppressWarnings(source(\"../config/config_sing.R\")))\n",
    "show_env()"
   ]
  },
  {
   "cell_type": "code",
   "execution_count": 2,
   "metadata": {},
   "outputs": [],
   "source": [
    "FOLDER_ANTS  = c(\n",
    "    \"annotation_enhancer_zscore_junke\",\n",
    "    \"annotation_crispri_growth\",\n",
    "    \"annotation_enhancer_merge\"\n",
    ")\n",
    "\n",
    "FOLDER_LOOPS = c(\n",
    "    \"hic_intact_ENCSR479XDG\",\n",
    "    \"hic_intact_deep\"\n",
    ")"
   ]
  },
  {
   "cell_type": "markdown",
   "metadata": {},
   "source": [
    "## Example 01"
   ]
  },
  {
   "cell_type": "markdown",
   "metadata": {},
   "source": [
    "**Check data**"
   ]
  },
  {
   "cell_type": "code",
   "execution_count": 3,
   "metadata": {},
   "outputs": [],
   "source": [
    "folder_ant  = FOLDER_ANTS[1]\n",
    "folder_loop = FOLDER_LOOPS[1]"
   ]
  },
  {
   "cell_type": "code",
   "execution_count": 4,
   "metadata": {},
   "outputs": [
    {
     "name": "stdout",
     "output_type": "stream",
     "text": [
      " [1] \"enhancer_zscore_junke.peak.ASTARR_AB.bed.gz\"\n",
      " [2] \"enhancer_zscore_junke.peak.ASTARR_A.bed.gz\" \n",
      " [3] \"enhancer_zscore_junke.peak.ASTARR_R.bed.gz\" \n",
      " [4] \"enhancer_zscore_junke.peak.LMPRA_AB.bed.gz\" \n",
      " [5] \"enhancer_zscore_junke.peak.LMPRA_A.bed.gz\"  \n",
      " [6] \"enhancer_zscore_junke.peak.LMPRA_R.bed.gz\"  \n",
      " [7] \"enhancer_zscore_junke.peak.TMPRA_A.bed.gz\"  \n",
      " [8] \"enhancer_zscore_junke.peak.TMPRA_R.bed.gz\"  \n",
      " [9] \"enhancer_zscore_junke.peak.WSTARR_AB.bed.gz\"\n",
      "[10] \"enhancer_zscore_junke.peak.WSTARR_A.bed.gz\" \n",
      "[11] \"enhancer_zscore_junke.peak.WSTARR_R.bed.gz\" \n"
     ]
    }
   ],
   "source": [
    "fdiry  = file.path(FD_RES, \"results\", \"region\", folder_ant)\n",
    "fname  = \"*.bed.gz\"\n",
    "fglob  = file.path(fdiry, fname)\n",
    "fpaths = Sys.glob(fglob)\n",
    "fnames = basename(fpaths)\n",
    "print(fnames)"
   ]
  },
  {
   "cell_type": "code",
   "execution_count": 5,
   "metadata": {},
   "outputs": [
    {
     "name": "stdout",
     "output_type": "stream",
     "text": [
      " [1] \"loopA.annotation.enhancer_zscore_junke.peak.ASTARR_AB.bed.gz\"\n",
      " [2] \"loopA.annotation.enhancer_zscore_junke.peak.ASTARR_A.bed.gz\" \n",
      " [3] \"loopA.annotation.enhancer_zscore_junke.peak.ASTARR_R.bed.gz\" \n",
      " [4] \"loopA.annotation.enhancer_zscore_junke.peak.LMPRA_AB.bed.gz\" \n",
      " [5] \"loopA.annotation.enhancer_zscore_junke.peak.LMPRA_A.bed.gz\"  \n",
      " [6] \"loopA.annotation.enhancer_zscore_junke.peak.LMPRA_R.bed.gz\"  \n",
      " [7] \"loopA.annotation.enhancer_zscore_junke.peak.TMPRA_A.bed.gz\"  \n",
      " [8] \"loopA.annotation.enhancer_zscore_junke.peak.TMPRA_R.bed.gz\"  \n",
      " [9] \"loopA.annotation.enhancer_zscore_junke.peak.WSTARR_AB.bed.gz\"\n",
      "[10] \"loopA.annotation.enhancer_zscore_junke.peak.WSTARR_A.bed.gz\" \n",
      "[11] \"loopA.annotation.enhancer_zscore_junke.peak.WSTARR_R.bed.gz\" \n",
      "[12] \"loopB.annotation.enhancer_zscore_junke.peak.ASTARR_AB.bed.gz\"\n",
      "[13] \"loopB.annotation.enhancer_zscore_junke.peak.ASTARR_A.bed.gz\" \n",
      "[14] \"loopB.annotation.enhancer_zscore_junke.peak.ASTARR_R.bed.gz\" \n",
      "[15] \"loopB.annotation.enhancer_zscore_junke.peak.LMPRA_AB.bed.gz\" \n",
      "[16] \"loopB.annotation.enhancer_zscore_junke.peak.LMPRA_A.bed.gz\"  \n",
      "[17] \"loopB.annotation.enhancer_zscore_junke.peak.LMPRA_R.bed.gz\"  \n",
      "[18] \"loopB.annotation.enhancer_zscore_junke.peak.TMPRA_A.bed.gz\"  \n",
      "[19] \"loopB.annotation.enhancer_zscore_junke.peak.TMPRA_R.bed.gz\"  \n",
      "[20] \"loopB.annotation.enhancer_zscore_junke.peak.WSTARR_AB.bed.gz\"\n",
      "[21] \"loopB.annotation.enhancer_zscore_junke.peak.WSTARR_A.bed.gz\" \n",
      "[22] \"loopB.annotation.enhancer_zscore_junke.peak.WSTARR_R.bed.gz\" \n"
     ]
    }
   ],
   "source": [
    "fdiry = file.path(FD_RES, \"results\", \"region\", folder_loop, \"loop\", folder_ant)\n",
    "fname  = \"*.bed.gz\"\n",
    "fglob  = file.path(fdiry, fname)\n",
    "fpaths = Sys.glob(fglob)\n",
    "fnames = basename(fpaths)\n",
    "print(fnames)"
   ]
  },
  {
   "cell_type": "markdown",
   "metadata": {},
   "source": [
    "**Execute: Single example**"
   ]
  },
  {
   "cell_type": "code",
   "execution_count": 6,
   "metadata": {},
   "outputs": [
    {
     "name": "stdout",
     "output_type": "stream",
     "text": [
      "[1] \"enhancer_zscore_junke.peak.ASTARR_AB.bed.gz\"\n",
      "\n",
      "\u001b[90m# A tibble: 6 × 10\u001b[39m\n",
      "  Chrom   Start     End Name  Score Strand Assay_Type Assay_Label Dataset Region\n",
      "  \u001b[3m\u001b[90m<chr>\u001b[39m\u001b[23m   \u001b[3m\u001b[90m<dbl>\u001b[39m\u001b[23m   \u001b[3m\u001b[90m<dbl>\u001b[39m\u001b[23m \u001b[3m\u001b[90m<chr>\u001b[39m\u001b[23m \u001b[3m\u001b[90m<dbl>\u001b[39m\u001b[23m \u001b[3m\u001b[90m<chr>\u001b[39m\u001b[23m  \u001b[3m\u001b[90m<chr>\u001b[39m\u001b[23m      \u001b[3m\u001b[90m<chr>\u001b[39m\u001b[23m       \u001b[3m\u001b[90m<chr>\u001b[39m\u001b[23m   \u001b[3m\u001b[90m<chr>\u001b[39m\u001b[23m \n",
      "\u001b[90m1\u001b[39m chr1  1\u001b[4m0\u001b[24m\u001b[4m1\u001b[24m\u001b[4m3\u001b[24m020 1\u001b[4m0\u001b[24m\u001b[4m1\u001b[24m\u001b[4m3\u001b[24m470 peak…  2.18 .      ASTARR     ASTARR_AB   ASTARR… chr1:…\n",
      "\u001b[90m2\u001b[39m chr1  1\u001b[4m7\u001b[24m\u001b[4m2\u001b[24m\u001b[4m4\u001b[24m540 1\u001b[4m7\u001b[24m\u001b[4m2\u001b[24m\u001b[4m4\u001b[24m700 peak…  2.15 .      ASTARR     ASTARR_AB   ASTARR… chr1:…\n",
      "\u001b[90m3\u001b[39m chr1  2\u001b[4m2\u001b[24m\u001b[4m9\u001b[24m\u001b[4m0\u001b[24m700 2\u001b[4m2\u001b[24m\u001b[4m9\u001b[24m\u001b[4m1\u001b[24m030 peak…  2.39 .      ASTARR     ASTARR_AB   ASTARR… chr1:…\n",
      "\u001b[90m4\u001b[39m chr1  3\u001b[4m3\u001b[24m\u001b[4m1\u001b[24m\u001b[4m3\u001b[24m260 3\u001b[4m3\u001b[24m\u001b[4m1\u001b[24m\u001b[4m3\u001b[24m400 peak…  2.18 .      ASTARR     ASTARR_AB   ASTARR… chr1:…\n",
      "\u001b[90m5\u001b[39m chr1  5\u001b[4m8\u001b[24m\u001b[4m5\u001b[24m\u001b[4m6\u001b[24m530 5\u001b[4m8\u001b[24m\u001b[4m5\u001b[24m\u001b[4m6\u001b[24m630 peak…  2.00 .      ASTARR     ASTARR_AB   ASTARR… chr1:…\n",
      "\u001b[90m6\u001b[39m chr1  5\u001b[4m9\u001b[24m\u001b[4m1\u001b[24m\u001b[4m7\u001b[24m710 5\u001b[4m9\u001b[24m\u001b[4m1\u001b[24m\u001b[4m7\u001b[24m930 peak…  2.17 .      ASTARR     ASTARR_AB   ASTARR… chr1:…\n",
      "\n",
      "[1] \"loopA.annotation.enhancer_zscore_junke.peak.ASTARR_AB.bed.gz\"\n",
      "[2] \"loopB.annotation.enhancer_zscore_junke.peak.ASTARR_AB.bed.gz\"\n",
      "\n",
      "\u001b[90m# A tibble: 6 × 14\u001b[39m\n",
      "  Chrom_Loop Start_Loop End_Loop Chrom    Start      End Name       Score Strand\n",
      "  \u001b[3m\u001b[90m<chr>\u001b[39m\u001b[23m           \u001b[3m\u001b[90m<dbl>\u001b[39m\u001b[23m    \u001b[3m\u001b[90m<dbl>\u001b[39m\u001b[23m \u001b[3m\u001b[90m<chr>\u001b[39m\u001b[23m    \u001b[3m\u001b[90m<dbl>\u001b[39m\u001b[23m    \u001b[3m\u001b[90m<dbl>\u001b[39m\u001b[23m \u001b[3m\u001b[90m<chr>\u001b[39m\u001b[23m      \u001b[3m\u001b[90m<dbl>\u001b[39m\u001b[23m \u001b[3m\u001b[90m<chr>\u001b[39m\u001b[23m \n",
      "\u001b[90m1\u001b[39m chr1          5\u001b[4m9\u001b[24m\u001b[4m1\u001b[24m\u001b[4m5\u001b[24m000  5\u001b[4m9\u001b[24m\u001b[4m2\u001b[24m\u001b[4m0\u001b[24m000 chr1   5\u001b[4m9\u001b[24m\u001b[4m1\u001b[24m\u001b[4m7\u001b[24m710  5\u001b[4m9\u001b[24m\u001b[4m1\u001b[24m\u001b[4m7\u001b[24m930 peak_both…  2.17 .     \n",
      "\u001b[90m2\u001b[39m chr1         11\u001b[4m8\u001b[24m\u001b[4m4\u001b[24m\u001b[4m2\u001b[24m000 11\u001b[4m8\u001b[24m\u001b[4m4\u001b[24m\u001b[4m3\u001b[24m000 chr1  11\u001b[4m8\u001b[24m\u001b[4m4\u001b[24m\u001b[4m2\u001b[24m320 11\u001b[4m8\u001b[24m\u001b[4m4\u001b[24m\u001b[4m2\u001b[24m500 peak_both…  2.27 .     \n",
      "\u001b[90m3\u001b[39m chr1         11\u001b[4m8\u001b[24m\u001b[4m4\u001b[24m\u001b[4m2\u001b[24m000 11\u001b[4m8\u001b[24m\u001b[4m4\u001b[24m\u001b[4m4\u001b[24m000 chr1  11\u001b[4m8\u001b[24m\u001b[4m4\u001b[24m\u001b[4m2\u001b[24m320 11\u001b[4m8\u001b[24m\u001b[4m4\u001b[24m\u001b[4m2\u001b[24m500 peak_both…  2.27 .     \n",
      "\u001b[90m4\u001b[39m chr1         12\u001b[4m4\u001b[24m\u001b[4m4\u001b[24m\u001b[4m8\u001b[24m000 12\u001b[4m4\u001b[24m\u001b[4m5\u001b[24m\u001b[4m0\u001b[24m000 chr1  12\u001b[4m4\u001b[24m\u001b[4m4\u001b[24m\u001b[4m8\u001b[24m880 12\u001b[4m4\u001b[24m\u001b[4m4\u001b[24m\u001b[4m9\u001b[24m190 peak_both…  2.36 .     \n",
      "\u001b[90m5\u001b[39m chr1         12\u001b[4m4\u001b[24m\u001b[4m4\u001b[24m\u001b[4m8\u001b[24m000 12\u001b[4m4\u001b[24m\u001b[4m5\u001b[24m\u001b[4m0\u001b[24m000 chr1  12\u001b[4m4\u001b[24m\u001b[4m4\u001b[24m\u001b[4m8\u001b[24m880 12\u001b[4m4\u001b[24m\u001b[4m4\u001b[24m\u001b[4m9\u001b[24m190 peak_both…  2.36 .     \n",
      "\u001b[90m6\u001b[39m chr1         14\u001b[4m4\u001b[24m\u001b[4m2\u001b[24m\u001b[4m2\u001b[24m000 14\u001b[4m4\u001b[24m\u001b[4m2\u001b[24m\u001b[4m4\u001b[24m000 chr1  14\u001b[4m4\u001b[24m\u001b[4m2\u001b[24m\u001b[4m2\u001b[24m210 14\u001b[4m4\u001b[24m\u001b[4m2\u001b[24m\u001b[4m2\u001b[24m360 peak_both…  2.11 .     \n",
      "\u001b[90m# ℹ 5 more variables: Assay_Type <chr>, Assay_Label <chr>, Dataset <chr>,\u001b[39m\n",
      "\u001b[90m#   Overlap <dbl>, Region <chr>\u001b[39m\n",
      "\n",
      "       Total       Looped        Check   Percentage \n",
      "3123.0000000 1455.0000000 1455.0000000    0.4658982 \n",
      "\n"
     ]
    }
   ],
   "source": [
    "### import annotation description file\n",
    "fdiry  = file.path(FD_RES, \"results\", \"region\", folder_ant)\n",
    "fname = \"description.tsv\"\n",
    "fpath = file.path(fdiry, fname)\n",
    "dat = read_tsv(fpath, show_col_types = FALSE)\n",
    "cnames = dat$Name\n",
    "\n",
    "### set file path for annotation\n",
    "fdiry = file.path(FD_RES, \"results\", \"region\", folder_ant)\n",
    "fname = \"*.bed.gz\"\n",
    "fglob = file.path(fdiry, fname)\n",
    "fpaths_ant = Sys.glob(fglob)\n",
    "\n",
    "for (fpath_ant in fpaths_ant[1]){\n",
    "    ### init\n",
    "    fname_ant = basename(fpath_ant)\n",
    "    print(fname_ant)\n",
    "    cat(\"\\n\")\n",
    "    \n",
    "    ### import annotation file\n",
    "    dat_ant = read_tsv(fpath_ant, col_names = cnames, show_col_types = FALSE)\n",
    "    dat_ant = dat_ant %>% dplyr::mutate(Region = paste0(Chrom, \":\", Start, \"-\", End))\n",
    "    print(head(dat_ant))\n",
    "    cat(\"\\n\")\n",
    "    \n",
    "    ### set file path for loops\n",
    "    fdiry = file.path(FD_RES, \"results\", \"region\", folder_loop, \"loop\", folder_ant)\n",
    "    fname = paste0(\"*\", fname_ant)\n",
    "    fglob = file.path(fdiry, fname)\n",
    "    fpaths_loop = Sys.glob(fglob)\n",
    "    fnames_loop = basename(fpaths_loop)\n",
    "    print(fnames_loop)\n",
    "    cat(\"\\n\")\n",
    "    \n",
    "    ### import loop file\n",
    "    vec = c(\"Chrom_Loop\", \"Start_Loop\", \"End_Loop\", cnames, \"Overlap\")\n",
    "    lst = lapply(fpaths_loop, function(fpath_loop){\n",
    "        dat = read_tsv(fpath_loop, col_names = vec, show_col_types = FALSE)\n",
    "        dat = dat %>% dplyr::mutate(Region = paste0(Chrom, \":\", Start, \"-\", End))\n",
    "        return(dat)\n",
    "    })\n",
    "    dat_loop = bind_rows(lst)\n",
    "    print(head(dat_loop))\n",
    "    cat(\"\\n\")\n",
    "    \n",
    "    vec_ant_total = unique(dat_ant$Region)\n",
    "    vec_ant_loop  = unique(dat_loop$Region)\n",
    "    vec = vec_ant_total %in% vec_ant_loop\n",
    "    res = c(\n",
    "        length(vec_ant_total), \n",
    "        length(vec_ant_loop), \n",
    "        sum(vec), \n",
    "        mean(vec))\n",
    "    names(res) = c(\"Total\", \"Looped\", \"Check\", \"Percentage\")\n",
    "    print(res)\n",
    "    cat(\"\\n\")\n",
    "    \n",
    "    #\n",
    "    #print(sum(vec))\n",
    "    #cat(\"\\n\")\n",
    "}"
   ]
  },
  {
   "cell_type": "markdown",
   "metadata": {},
   "source": [
    "**Execute: loop**"
   ]
  },
  {
   "cell_type": "code",
   "execution_count": 7,
   "metadata": {},
   "outputs": [
    {
     "name": "stdout",
     "output_type": "stream",
     "text": [
      "[1] \"enhancer_zscore_junke.peak.ASTARR_AB.bed.gz\"\n",
      "[1] \"enhancer_zscore_junke.peak.ASTARR_A.bed.gz\"\n",
      "[1] \"enhancer_zscore_junke.peak.ASTARR_R.bed.gz\"\n",
      "[1] \"enhancer_zscore_junke.peak.LMPRA_AB.bed.gz\"\n",
      "[1] \"enhancer_zscore_junke.peak.LMPRA_A.bed.gz\"\n",
      "[1] \"enhancer_zscore_junke.peak.LMPRA_R.bed.gz\"\n",
      "[1] \"enhancer_zscore_junke.peak.TMPRA_A.bed.gz\"\n",
      "[1] \"enhancer_zscore_junke.peak.TMPRA_R.bed.gz\"\n",
      "[1] \"enhancer_zscore_junke.peak.WSTARR_AB.bed.gz\"\n",
      "[1] \"enhancer_zscore_junke.peak.WSTARR_A.bed.gz\"\n",
      "[1] \"enhancer_zscore_junke.peak.WSTARR_R.bed.gz\"\n"
     ]
    }
   ],
   "source": [
    "for(fname in basename(fpaths_ant)) print(fname)"
   ]
  },
  {
   "cell_type": "code",
   "execution_count": 8,
   "metadata": {},
   "outputs": [
    {
     "data": {
      "text/html": [
       "<style>\n",
       ".list-inline {list-style: none; margin:0; padding: 0}\n",
       ".list-inline>li {display: inline-block}\n",
       ".list-inline>li:not(:last-child)::after {content: \"\\00b7\"; padding: 0 .5ex}\n",
       "</style>\n",
       "<ol class=list-inline><li>'ASTARR_AB'</li><li>'ASTARR_A'</li><li>'ASTARR_R'</li><li>'LMPRA_AB'</li><li>'LMPRA_A'</li><li>'LMPRA_R'</li><li>'TMPRA_A'</li><li>'TMPRA_R'</li><li>'WSTARR_AB'</li><li>'WSTARR_A'</li><li>'WSTARR_R'</li></ol>\n"
      ],
      "text/latex": [
       "\\begin{enumerate*}\n",
       "\\item 'ASTARR\\_AB'\n",
       "\\item 'ASTARR\\_A'\n",
       "\\item 'ASTARR\\_R'\n",
       "\\item 'LMPRA\\_AB'\n",
       "\\item 'LMPRA\\_A'\n",
       "\\item 'LMPRA\\_R'\n",
       "\\item 'TMPRA\\_A'\n",
       "\\item 'TMPRA\\_R'\n",
       "\\item 'WSTARR\\_AB'\n",
       "\\item 'WSTARR\\_A'\n",
       "\\item 'WSTARR\\_R'\n",
       "\\end{enumerate*}\n"
      ],
      "text/markdown": [
       "1. 'ASTARR_AB'\n",
       "2. 'ASTARR_A'\n",
       "3. 'ASTARR_R'\n",
       "4. 'LMPRA_AB'\n",
       "5. 'LMPRA_A'\n",
       "6. 'LMPRA_R'\n",
       "7. 'TMPRA_A'\n",
       "8. 'TMPRA_R'\n",
       "9. 'WSTARR_AB'\n",
       "10. 'WSTARR_A'\n",
       "11. 'WSTARR_R'\n",
       "\n",
       "\n"
      ],
      "text/plain": [
       " [1] \"ASTARR_AB\" \"ASTARR_A\"  \"ASTARR_R\"  \"LMPRA_AB\"  \"LMPRA_A\"   \"LMPRA_R\"  \n",
       " [7] \"TMPRA_A\"   \"TMPRA_R\"   \"WSTARR_AB\" \"WSTARR_A\"  \"WSTARR_R\" "
      ]
     },
     "metadata": {},
     "output_type": "display_data"
    }
   ],
   "source": [
    "labels_ant = fpaths_ant %>% \n",
    "    str_split(., \"\\\\.\") %>%\n",
    "    do.call(rbind, .) %>%\n",
    "    as.data.frame %>%\n",
    "    dplyr::pull(3)\n",
    "\n",
    "labels_ant"
   ]
  },
  {
   "cell_type": "code",
   "execution_count": 9,
   "metadata": {},
   "outputs": [],
   "source": [
    "### import annotation description file\n",
    "fdiry  = file.path(FD_RES, \"results\", \"region\", folder_ant)\n",
    "fname = \"description.tsv\"\n",
    "fpath = file.path(fdiry, fname)\n",
    "dat = read_tsv(fpath, show_col_types = FALSE)\n",
    "cnames = dat$Name\n",
    "\n",
    "### set file path for annotation\n",
    "fdiry = file.path(FD_RES, \"results\", \"region\", folder_ant)\n",
    "fname = \"*.bed.gz\"\n",
    "fglob = file.path(fdiry, fname)\n",
    "fpaths_ant = Sys.glob(fglob)\n",
    "labels_ant = fpaths_ant %>% \n",
    "    str_split(., \"\\\\.\") %>%\n",
    "    do.call(rbind, .) %>%\n",
    "    as.data.frame %>%\n",
    "    dplyr::pull(3)\n",
    "names(fpaths_ant) = labels_ant\n",
    "\n",
    "###\n",
    "lst = lapply(fpaths_ant, function(fpath_ant){\n",
    "    ### init\n",
    "    fname_ant = basename(fpath_ant)\n",
    "    \n",
    "    ### import annotation file\n",
    "    dat_ant = read_tsv(fpath_ant, col_names = cnames, show_col_types = FALSE)\n",
    "    dat_ant = dat_ant %>% dplyr::mutate(Region = paste0(Chrom, \":\", Start, \"-\", End))\n",
    "    \n",
    "    ### set file path for loops\n",
    "    fdiry = file.path(FD_RES, \"results\", \"region\", folder_loop, \"loop\", folder_ant)\n",
    "    fname = paste0(\"*\", fname_ant)\n",
    "    fglob = file.path(fdiry, fname)\n",
    "    fpaths_loop = Sys.glob(fglob)\n",
    "    fnames_loop = basename(fpaths_loop)\n",
    "    \n",
    "    ### import loop file\n",
    "    vec = c(\"Chrom_Loop\", \"Start_Loop\", \"End_Loop\", cnames, \"Overlap\")\n",
    "    lst = lapply(fpaths_loop, function(fpath_loop){\n",
    "        dat = read_tsv(fpath_loop, col_names = vec, show_col_types = FALSE)\n",
    "        dat = dat %>% dplyr::mutate(Region = paste0(Chrom, \":\", Start, \"-\", End))\n",
    "        return(dat)\n",
    "    })\n",
    "    dat_loop = bind_rows(lst)\n",
    "    \n",
    "    ###\n",
    "    vec_ant_total = unique(dat_ant$Region)\n",
    "    vec_ant_loop  = unique(dat_loop$Region)\n",
    "    vec = vec_ant_total %in% vec_ant_loop\n",
    "    res = c(\n",
    "        length(vec_ant_total), \n",
    "        length(vec_ant_loop), \n",
    "        sum(vec), \n",
    "        mean(vec))\n",
    "    names(res) = c(\"Total\", \"Looped\", \"Check\", \"Percentage\")\n",
    "    return(res)\n",
    "})"
   ]
  },
  {
   "cell_type": "code",
   "execution_count": 10,
   "metadata": {},
   "outputs": [
    {
     "data": {
      "text/html": [
       "<table class=\"dataframe\">\n",
       "<caption>A tibble: 11 × 5</caption>\n",
       "<thead>\n",
       "\t<tr><th scope=col>Label</th><th scope=col>Total</th><th scope=col>Looped</th><th scope=col>Check</th><th scope=col>Percentage</th></tr>\n",
       "\t<tr><th scope=col>&lt;chr&gt;</th><th scope=col>&lt;dbl&gt;</th><th scope=col>&lt;dbl&gt;</th><th scope=col>&lt;dbl&gt;</th><th scope=col>&lt;dbl&gt;</th></tr>\n",
       "</thead>\n",
       "<tbody>\n",
       "\t<tr><td>ASTARR_AB</td><td> 3123</td><td> 1455</td><td> 1455</td><td>0.46589817</td></tr>\n",
       "\t<tr><td>ASTARR_A </td><td> 9368</td><td> 4277</td><td> 4277</td><td>0.45655423</td></tr>\n",
       "\t<tr><td>ASTARR_R </td><td>17897</td><td> 8808</td><td> 8808</td><td>0.49214952</td></tr>\n",
       "\t<tr><td>LMPRA_AB </td><td>26732</td><td> 9854</td><td> 9854</td><td>0.36862188</td></tr>\n",
       "\t<tr><td>LMPRA_A  </td><td>40096</td><td>14869</td><td>14869</td><td>0.37083500</td></tr>\n",
       "\t<tr><td>LMPRA_R  </td><td> 1525</td><td>  426</td><td>  426</td><td>0.27934426</td></tr>\n",
       "\t<tr><td>TMPRA_A  </td><td> 8294</td><td> 1031</td><td> 1031</td><td>0.12430673</td></tr>\n",
       "\t<tr><td>TMPRA_R  </td><td>  363</td><td>   33</td><td>   33</td><td>0.09090909</td></tr>\n",
       "\t<tr><td>WSTARR_AB</td><td>25505</td><td> 7528</td><td> 7528</td><td>0.29515781</td></tr>\n",
       "\t<tr><td>WSTARR_A </td><td>79738</td><td>16863</td><td>16863</td><td>0.21148010</td></tr>\n",
       "\t<tr><td>WSTARR_R </td><td>62201</td><td> 5999</td><td> 5999</td><td>0.09644539</td></tr>\n",
       "</tbody>\n",
       "</table>\n"
      ],
      "text/latex": [
       "A tibble: 11 × 5\n",
       "\\begin{tabular}{lllll}\n",
       " Label & Total & Looped & Check & Percentage\\\\\n",
       " <chr> & <dbl> & <dbl> & <dbl> & <dbl>\\\\\n",
       "\\hline\n",
       "\t ASTARR\\_AB &  3123 &  1455 &  1455 & 0.46589817\\\\\n",
       "\t ASTARR\\_A  &  9368 &  4277 &  4277 & 0.45655423\\\\\n",
       "\t ASTARR\\_R  & 17897 &  8808 &  8808 & 0.49214952\\\\\n",
       "\t LMPRA\\_AB  & 26732 &  9854 &  9854 & 0.36862188\\\\\n",
       "\t LMPRA\\_A   & 40096 & 14869 & 14869 & 0.37083500\\\\\n",
       "\t LMPRA\\_R   &  1525 &   426 &   426 & 0.27934426\\\\\n",
       "\t TMPRA\\_A   &  8294 &  1031 &  1031 & 0.12430673\\\\\n",
       "\t TMPRA\\_R   &   363 &    33 &    33 & 0.09090909\\\\\n",
       "\t WSTARR\\_AB & 25505 &  7528 &  7528 & 0.29515781\\\\\n",
       "\t WSTARR\\_A  & 79738 & 16863 & 16863 & 0.21148010\\\\\n",
       "\t WSTARR\\_R  & 62201 &  5999 &  5999 & 0.09644539\\\\\n",
       "\\end{tabular}\n"
      ],
      "text/markdown": [
       "\n",
       "A tibble: 11 × 5\n",
       "\n",
       "| Label &lt;chr&gt; | Total &lt;dbl&gt; | Looped &lt;dbl&gt; | Check &lt;dbl&gt; | Percentage &lt;dbl&gt; |\n",
       "|---|---|---|---|---|\n",
       "| ASTARR_AB |  3123 |  1455 |  1455 | 0.46589817 |\n",
       "| ASTARR_A  |  9368 |  4277 |  4277 | 0.45655423 |\n",
       "| ASTARR_R  | 17897 |  8808 |  8808 | 0.49214952 |\n",
       "| LMPRA_AB  | 26732 |  9854 |  9854 | 0.36862188 |\n",
       "| LMPRA_A   | 40096 | 14869 | 14869 | 0.37083500 |\n",
       "| LMPRA_R   |  1525 |   426 |   426 | 0.27934426 |\n",
       "| TMPRA_A   |  8294 |  1031 |  1031 | 0.12430673 |\n",
       "| TMPRA_R   |   363 |    33 |    33 | 0.09090909 |\n",
       "| WSTARR_AB | 25505 |  7528 |  7528 | 0.29515781 |\n",
       "| WSTARR_A  | 79738 | 16863 | 16863 | 0.21148010 |\n",
       "| WSTARR_R  | 62201 |  5999 |  5999 | 0.09644539 |\n",
       "\n"
      ],
      "text/plain": [
       "   Label     Total Looped Check Percentage\n",
       "1  ASTARR_AB  3123  1455   1455 0.46589817\n",
       "2  ASTARR_A   9368  4277   4277 0.45655423\n",
       "3  ASTARR_R  17897  8808   8808 0.49214952\n",
       "4  LMPRA_AB  26732  9854   9854 0.36862188\n",
       "5  LMPRA_A   40096 14869  14869 0.37083500\n",
       "6  LMPRA_R    1525   426    426 0.27934426\n",
       "7  TMPRA_A    8294  1031   1031 0.12430673\n",
       "8  TMPRA_R     363    33     33 0.09090909\n",
       "9  WSTARR_AB 25505  7528   7528 0.29515781\n",
       "10 WSTARR_A  79738 16863  16863 0.21148010\n",
       "11 WSTARR_R  62201  5999   5999 0.09644539"
      ]
     },
     "metadata": {},
     "output_type": "display_data"
    }
   ],
   "source": [
    "dat = bind_rows(lst, .id = \"Label\")\n",
    "dat"
   ]
  },
  {
   "cell_type": "markdown",
   "metadata": {},
   "source": [
    "## Example 02"
   ]
  },
  {
   "cell_type": "code",
   "execution_count": 114,
   "metadata": {},
   "outputs": [],
   "source": [
    "folder_ant  = FOLDER_ANTS[3]\n",
    "folder_loop = FOLDER_LOOPS[1]"
   ]
  },
  {
   "cell_type": "code",
   "execution_count": 115,
   "metadata": {},
   "outputs": [
    {
     "name": "stdout",
     "output_type": "stream",
     "text": [
      "[1] \"enhancer_merge.concat.crispri_hcrff.bed.gz\"  \n",
      "[2] \"enhancer_merge.concat.starrmpracrispr.bed.gz\"\n",
      "[3] \"enhancer_merge.region.crispri_hcrff.bed.gz\"  \n",
      "[4] \"enhancer_merge.region.starrmpracrispr.bed.gz\"\n"
     ]
    }
   ],
   "source": [
    "fdiry  = file.path(FD_RES, \"results\", \"region\", folder_ant)\n",
    "fname  = \"*.bed.gz\"\n",
    "fglob  = file.path(fdiry, fname)\n",
    "fpaths = Sys.glob(fglob)\n",
    "fnames = basename(fpaths)\n",
    "print(fnames)"
   ]
  },
  {
   "cell_type": "code",
   "execution_count": 116,
   "metadata": {},
   "outputs": [
    {
     "name": "stdout",
     "output_type": "stream",
     "text": [
      "[1] \"loopA.annotation.enhancer_merge.region.crispri_hcrff.bed.gz\"  \n",
      "[2] \"loopA.annotation.enhancer_merge.region.starrmpracrispr.bed.gz\"\n",
      "[3] \"loopB.annotation.enhancer_merge.region.crispri_hcrff.bed.gz\"  \n",
      "[4] \"loopB.annotation.enhancer_merge.region.starrmpracrispr.bed.gz\"\n"
     ]
    }
   ],
   "source": [
    "fdiry = file.path(FD_RES, \"results\", \"region\", folder_loop, \"loop\", folder_ant)\n",
    "fname  = \"*.bed.gz\"\n",
    "fglob  = file.path(fdiry, fname)\n",
    "fpaths = Sys.glob(fglob)\n",
    "fnames = basename(fpaths)\n",
    "print(fnames)"
   ]
  },
  {
   "cell_type": "code",
   "execution_count": 117,
   "metadata": {},
   "outputs": [
    {
     "name": "stdout",
     "output_type": "stream",
     "text": [
      "enhancer_merge.concat.crispri_hcrff.bed.gz \n",
      "[1] \"*enhancer_merge.concat.crispri_hcrff.bed.gz\"\n",
      "character(0)\n",
      "\n",
      "enhancer_merge.concat.starrmpracrispr.bed.gz \n",
      "[1] \"*enhancer_merge.concat.starrmpracrispr.bed.gz\"\n",
      "character(0)\n",
      "\n",
      "enhancer_merge.region.crispri_hcrff.bed.gz \n",
      "[1] \"*enhancer_merge.region.crispri_hcrff.bed.gz\"\n",
      "[1] \"loopA.annotation.enhancer_merge.region.crispri_hcrff.bed.gz\"\n",
      "[2] \"loopB.annotation.enhancer_merge.region.crispri_hcrff.bed.gz\"\n",
      "\n",
      "[1] \"Import\"\n",
      "\n",
      "enhancer_merge.region.starrmpracrispr.bed.gz \n",
      "[1] \"*enhancer_merge.region.starrmpracrispr.bed.gz\"\n",
      "[1] \"loopA.annotation.enhancer_merge.region.starrmpracrispr.bed.gz\"\n",
      "[2] \"loopB.annotation.enhancer_merge.region.starrmpracrispr.bed.gz\"\n",
      "\n",
      "[1] \"Import\"\n",
      "\n"
     ]
    }
   ],
   "source": [
    "fdiry  = file.path(FD_RES, \"results\", \"region\", folder_ant)\n",
    "fname  = \"*.bed.gz\"\n",
    "fglob  = file.path(fdiry, fname)\n",
    "fpaths = Sys.glob(fglob)\n",
    "fnames = basename(fpaths)\n",
    "\n",
    "for (fname in fnames){\n",
    "    cat(fname, \"\\n\")\n",
    "    fdiry = file.path(FD_RES, \"results\", \"region\", folder_loop, \"loop\", folder_ant)\n",
    "    fname  = paste0(\"*\", fname)\n",
    "    print(fname)\n",
    "    fglob  = file.path(fdiry, fname)\n",
    "    fpaths = Sys.glob(fglob)\n",
    "    fnames = basename(fpaths)\n",
    "    print(fnames)\n",
    "    cat(\"\\n\")\n",
    "    if (identical(fnames, character(0))){\n",
    "        next\n",
    "    }\n",
    "    print(\"Import\")\n",
    "    cat(\"\\n\")\n",
    "}"
   ]
  },
  {
   "cell_type": "code",
   "execution_count": 118,
   "metadata": {},
   "outputs": [
    {
     "name": "stdout",
     "output_type": "stream",
     "text": [
      "[1] \"/data/reddylab/Kuei/out/proj_combeffect_encode_fcc/results/region/annotation_enhancer_merge/enhancer_merge.region.crispri_hcrff.bed.gz\"  \n",
      "[2] \"/data/reddylab/Kuei/out/proj_combeffect_encode_fcc/results/region/annotation_enhancer_merge/enhancer_merge.region.starrmpracrispr.bed.gz\"\n"
     ]
    }
   ],
   "source": [
    "fdiry = file.path(FD_RES, \"results\", \"region\", folder_ant)\n",
    "fname = \"*region*.bed.gz\"\n",
    "fglob = file.path(fdiry, fname)\n",
    "fpaths = Sys.glob(fglob)\n",
    "print(fpaths)"
   ]
  },
  {
   "cell_type": "code",
   "execution_count": 122,
   "metadata": {},
   "outputs": [],
   "source": [
    "### import annotation description file\n",
    "fdiry  = file.path(FD_RES, \"results\", \"region\", folder_ant)\n",
    "fname = \"description.tsv\"\n",
    "fpath = file.path(fdiry, fname)\n",
    "dat = read_tsv(fpath, show_col_types = FALSE)\n",
    "cnames = dat$Name\n",
    "\n",
    "### set file path for annotation\n",
    "fdiry = file.path(FD_RES, \"results\", \"region\", folder_ant)\n",
    "fname = \"*region*.bed.gz\"\n",
    "fglob = file.path(fdiry, fname)\n",
    "fpaths_ant = Sys.glob(fglob)\n",
    "fnames_ant = basename(fpaths_ant)\n",
    "labels_ant = fnames_ant %>% \n",
    "    str_split(., \"\\\\.\") %>%\n",
    "    do.call(rbind, .) %>%\n",
    "    as.data.frame %>%\n",
    "    dplyr::pull(3)\n",
    "names(fpaths_ant) = labels_ant\n",
    "\n",
    "###\n",
    "lst = lapply(fpaths_ant, function(fpath_ant){\n",
    "    ### init\n",
    "    fname_ant = basename(fpath_ant)\n",
    "    \n",
    "    ### import annotation file\n",
    "    dat_ant = read_tsv(fpath_ant, col_names = cnames, show_col_types = FALSE)\n",
    "    dat_ant = dat_ant %>% dplyr::mutate(Region = paste0(Chrom, \":\", Start, \"-\", End))\n",
    "    \n",
    "    ### set file path for loops\n",
    "    fdiry = file.path(FD_RES, \"results\", \"region\", folder_loop, \"loop\", folder_ant)\n",
    "    fname = paste0(\"*\", fname_ant)\n",
    "    fglob = file.path(fdiry, fname)\n",
    "    fpaths_loop = Sys.glob(fglob)\n",
    "    fnames_loop = basename(fpaths_loop)\n",
    "    \n",
    "    ### import loop file\n",
    "    vec = c(\"Chrom_Loop\", \"Start_Loop\", \"End_Loop\", cnames, \"Overlap\")\n",
    "    lst = lapply(fpaths_loop, function(fpath_loop){\n",
    "        dat = read_tsv(fpath_loop, col_names = vec, show_col_types = FALSE)\n",
    "        dat = dat %>% dplyr::mutate(Region = paste0(Chrom, \":\", Start, \"-\", End))\n",
    "        return(dat)\n",
    "    })\n",
    "    dat_loop = bind_rows(lst)\n",
    "    \n",
    "    ###\n",
    "    vec_ant_total = unique(dat_ant$Region)\n",
    "    vec_ant_loop  = unique(dat_loop$Region)\n",
    "    vec = vec_ant_total %in% vec_ant_loop\n",
    "    res = c(\n",
    "        length(vec_ant_total), \n",
    "        length(vec_ant_loop), \n",
    "        sum(vec), \n",
    "        mean(vec))\n",
    "    names(res) = c(\"Total\", \"Looped\", \"Check\", \"Percentage\")\n",
    "    return(res)\n",
    "})"
   ]
  },
  {
   "cell_type": "code",
   "execution_count": 124,
   "metadata": {},
   "outputs": [
    {
     "data": {
      "text/html": [
       "<table class=\"dataframe\">\n",
       "<caption>A tibble: 2 × 5</caption>\n",
       "<thead>\n",
       "\t<tr><th scope=col>Label</th><th scope=col>Total</th><th scope=col>Looped</th><th scope=col>Check</th><th scope=col>Percentage</th></tr>\n",
       "\t<tr><th scope=col>&lt;chr&gt;</th><th scope=col>&lt;dbl&gt;</th><th scope=col>&lt;dbl&gt;</th><th scope=col>&lt;dbl&gt;</th><th scope=col>&lt;dbl&gt;</th></tr>\n",
       "</thead>\n",
       "<tbody>\n",
       "\t<tr><td>crispri_hcrff  </td><td>    80</td><td>   46</td><td>   46</td><td>0.5750000</td></tr>\n",
       "\t<tr><td>starrmpracrispr</td><td>182231</td><td>37793</td><td>37793</td><td>0.2073906</td></tr>\n",
       "</tbody>\n",
       "</table>\n"
      ],
      "text/latex": [
       "A tibble: 2 × 5\n",
       "\\begin{tabular}{lllll}\n",
       " Label & Total & Looped & Check & Percentage\\\\\n",
       " <chr> & <dbl> & <dbl> & <dbl> & <dbl>\\\\\n",
       "\\hline\n",
       "\t crispri\\_hcrff   &     80 &    46 &    46 & 0.5750000\\\\\n",
       "\t starrmpracrispr & 182231 & 37793 & 37793 & 0.2073906\\\\\n",
       "\\end{tabular}\n"
      ],
      "text/markdown": [
       "\n",
       "A tibble: 2 × 5\n",
       "\n",
       "| Label &lt;chr&gt; | Total &lt;dbl&gt; | Looped &lt;dbl&gt; | Check &lt;dbl&gt; | Percentage &lt;dbl&gt; |\n",
       "|---|---|---|---|---|\n",
       "| crispri_hcrff   |     80 |    46 |    46 | 0.5750000 |\n",
       "| starrmpracrispr | 182231 | 37793 | 37793 | 0.2073906 |\n",
       "\n"
      ],
      "text/plain": [
       "  Label           Total  Looped Check Percentage\n",
       "1 crispri_hcrff       80    46     46 0.5750000 \n",
       "2 starrmpracrispr 182231 37793  37793 0.2073906 "
      ]
     },
     "metadata": {},
     "output_type": "display_data"
    }
   ],
   "source": [
    "dat = bind_rows(lst, .id = \"Label\")\n",
    "dat"
   ]
  },
  {
   "cell_type": "markdown",
   "metadata": {},
   "source": [
    "## Example 03"
   ]
  },
  {
   "cell_type": "code",
   "execution_count": 125,
   "metadata": {},
   "outputs": [],
   "source": [
    "folder_ant  = FOLDER_ANTS[2]\n",
    "folder_loop = FOLDER_LOOPS[1]"
   ]
  },
  {
   "cell_type": "code",
   "execution_count": 126,
   "metadata": {},
   "outputs": [
    {
     "name": "stdout",
     "output_type": "stream",
     "text": [
      "[1] \"crispri_growth_dhs.bed.gz\"\n"
     ]
    }
   ],
   "source": [
    "fdiry  = file.path(FD_RES, \"results\", \"region\", folder_ant)\n",
    "fname  = \"*.bed.gz\"\n",
    "fglob  = file.path(fdiry, fname)\n",
    "fpaths = Sys.glob(fglob)\n",
    "fnames = basename(fpaths)\n",
    "print(fnames)"
   ]
  },
  {
   "cell_type": "code",
   "execution_count": 127,
   "metadata": {},
   "outputs": [
    {
     "name": "stdout",
     "output_type": "stream",
     "text": [
      "[1] \"loopA.annotation.crispri_growth_dhs.bed.gz\"\n",
      "[2] \"loopB.annotation.crispri_growth_dhs.bed.gz\"\n"
     ]
    }
   ],
   "source": [
    "fdiry = file.path(FD_RES, \"results\", \"region\", folder_loop, \"loop\", folder_ant)\n",
    "fname  = \"*.bed.gz\"\n",
    "fglob  = file.path(fdiry, fname)\n",
    "fpaths = Sys.glob(fglob)\n",
    "fnames = basename(fpaths)\n",
    "print(fnames)"
   ]
  },
  {
   "cell_type": "code",
   "execution_count": 130,
   "metadata": {},
   "outputs": [],
   "source": [
    "### import annotation description file\n",
    "fdiry  = file.path(FD_RES, \"results\", \"region\", folder_ant)\n",
    "fname = \"description.tsv\"\n",
    "fpath = file.path(fdiry, fname)\n",
    "dat = read_tsv(fpath, show_col_types = FALSE)\n",
    "cnames = dat$Name\n",
    "\n",
    "### set file path for annotation\n",
    "fdiry = file.path(FD_RES, \"results\", \"region\", folder_ant)\n",
    "fname = \"*.bed.gz\"\n",
    "fglob = file.path(fdiry, fname)\n",
    "fpaths_ant = Sys.glob(fglob)\n",
    "fnames_ant = basename(fpaths_ant)\n",
    "labels_ant = fnames_ant %>% \n",
    "    str_split(., \"\\\\.\") %>%\n",
    "    do.call(rbind, .) %>%\n",
    "    as.data.frame %>%\n",
    "    dplyr::pull(1)\n",
    "names(fpaths_ant) = labels_ant\n",
    "\n",
    "###\n",
    "lst = lapply(fpaths_ant, function(fpath_ant){\n",
    "    ### init\n",
    "    fname_ant = basename(fpath_ant)\n",
    "    \n",
    "    ### import annotation file\n",
    "    dat_ant = read_tsv(fpath_ant, col_names = cnames, show_col_types = FALSE)\n",
    "    dat_ant = dat_ant %>% dplyr::mutate(Region = paste0(Chrom, \":\", Start, \"-\", End))\n",
    "    \n",
    "    ### set file path for loops\n",
    "    fdiry = file.path(FD_RES, \"results\", \"region\", folder_loop, \"loop\", folder_ant)\n",
    "    fname = paste0(\"*\", fname_ant)\n",
    "    fglob = file.path(fdiry, fname)\n",
    "    fpaths_loop = Sys.glob(fglob)\n",
    "    fnames_loop = basename(fpaths_loop)\n",
    "    \n",
    "    ### import loop file\n",
    "    vec = c(\"Chrom_Loop\", \"Start_Loop\", \"End_Loop\", cnames, \"Overlap\")\n",
    "    lst = lapply(fpaths_loop, function(fpath_loop){\n",
    "        dat = read_tsv(fpath_loop, col_names = vec, show_col_types = FALSE)\n",
    "        dat = dat %>% dplyr::mutate(Region = paste0(Chrom, \":\", Start, \"-\", End))\n",
    "        return(dat)\n",
    "    })\n",
    "    dat_loop = bind_rows(lst)\n",
    "    \n",
    "    ###\n",
    "    vec_ant_total = unique(dat_ant$Region)\n",
    "    vec_ant_loop  = unique(dat_loop$Region)\n",
    "    vec = vec_ant_total %in% vec_ant_loop\n",
    "    res = c(\n",
    "        length(vec_ant_total), \n",
    "        length(vec_ant_loop), \n",
    "        sum(vec), \n",
    "        mean(vec))\n",
    "    names(res) = c(\"Total\", \"Looped\", \"Check\", \"Percentage\")\n",
    "    return(res)\n",
    "})"
   ]
  },
  {
   "cell_type": "code",
   "execution_count": 131,
   "metadata": {},
   "outputs": [
    {
     "data": {
      "text/html": [
       "<strong>$crispri_growth_dhs</strong> = <style>\n",
       ".dl-inline {width: auto; margin:0; padding: 0}\n",
       ".dl-inline>dt, .dl-inline>dd {float: none; width: auto; display: inline-block}\n",
       ".dl-inline>dt::after {content: \":\\0020\"; padding-right: .5ex}\n",
       ".dl-inline>dt:not(:first-of-type) {padding-left: .5ex}\n",
       "</style><dl class=dl-inline><dt>Total</dt><dd>6242</dd><dt>Looped</dt><dd>2257</dd><dt>Check</dt><dd>2257</dd><dt>Percentage</dt><dd>0.361582826017302</dd></dl>\n"
      ],
      "text/latex": [
       "\\textbf{\\$crispri\\_growth\\_dhs} = \\begin{description*}\n",
       "\\item[Total] 6242\n",
       "\\item[Looped] 2257\n",
       "\\item[Check] 2257\n",
       "\\item[Percentage] 0.361582826017302\n",
       "\\end{description*}\n"
      ],
      "text/markdown": [
       "**$crispri_growth_dhs** = Total\n",
       ":   6242Looped\n",
       ":   2257Check\n",
       ":   2257Percentage\n",
       ":   0.361582826017302\n",
       "\n"
      ],
      "text/plain": [
       "$crispri_growth_dhs\n",
       "       Total       Looped        Check   Percentage \n",
       "6242.0000000 2257.0000000 2257.0000000    0.3615828 \n"
      ]
     },
     "metadata": {},
     "output_type": "display_data"
    }
   ],
   "source": [
    "lst"
   ]
  },
  {
   "cell_type": "code",
   "execution_count": 132,
   "metadata": {},
   "outputs": [
    {
     "data": {
      "text/html": [
       "<table class=\"dataframe\">\n",
       "<caption>A tibble: 1 × 5</caption>\n",
       "<thead>\n",
       "\t<tr><th scope=col>Label</th><th scope=col>Total</th><th scope=col>Looped</th><th scope=col>Check</th><th scope=col>Percentage</th></tr>\n",
       "\t<tr><th scope=col>&lt;chr&gt;</th><th scope=col>&lt;dbl&gt;</th><th scope=col>&lt;dbl&gt;</th><th scope=col>&lt;dbl&gt;</th><th scope=col>&lt;dbl&gt;</th></tr>\n",
       "</thead>\n",
       "<tbody>\n",
       "\t<tr><td>crispri_growth_dhs</td><td>6242</td><td>2257</td><td>2257</td><td>0.3615828</td></tr>\n",
       "</tbody>\n",
       "</table>\n"
      ],
      "text/latex": [
       "A tibble: 1 × 5\n",
       "\\begin{tabular}{lllll}\n",
       " Label & Total & Looped & Check & Percentage\\\\\n",
       " <chr> & <dbl> & <dbl> & <dbl> & <dbl>\\\\\n",
       "\\hline\n",
       "\t crispri\\_growth\\_dhs & 6242 & 2257 & 2257 & 0.3615828\\\\\n",
       "\\end{tabular}\n"
      ],
      "text/markdown": [
       "\n",
       "A tibble: 1 × 5\n",
       "\n",
       "| Label &lt;chr&gt; | Total &lt;dbl&gt; | Looped &lt;dbl&gt; | Check &lt;dbl&gt; | Percentage &lt;dbl&gt; |\n",
       "|---|---|---|---|---|\n",
       "| crispri_growth_dhs | 6242 | 2257 | 2257 | 0.3615828 |\n",
       "\n"
      ],
      "text/plain": [
       "  Label              Total Looped Check Percentage\n",
       "1 crispri_growth_dhs 6242  2257   2257  0.3615828 "
      ]
     },
     "metadata": {},
     "output_type": "display_data"
    }
   ],
   "source": [
    "dat = bind_rows(lst, .id = \"Label\")\n",
    "dat"
   ]
  },
  {
   "cell_type": "code",
   "execution_count": null,
   "metadata": {},
   "outputs": [],
   "source": []
  }
 ],
 "metadata": {
  "kernelspec": {
   "display_name": "R",
   "language": "R",
   "name": "ir"
  },
  "language_info": {
   "codemirror_mode": "r",
   "file_extension": ".r",
   "mimetype": "text/x-r-source",
   "name": "R",
   "pygments_lexer": "r",
   "version": "4.3.0"
  }
 },
 "nbformat": 4,
 "nbformat_minor": 4
}
