{
 "cells": [
  {
   "cell_type": "code",
   "execution_count": 1,
   "metadata": {},
   "outputs": [
    {
     "name": "stdout",
     "output_type": "stream",
     "text": [
      "You are in Singularity: singularity_proj_encode_fcc \n",
      "BASE DIRECTORY (FD_BASE): /data/reddylab/Kuei \n",
      "WORK DIRECTORY (FD_WORK): /data/reddylab/Kuei/out \n",
      "CODE DIRECTORY (FD_CODE): /data/reddylab/Kuei/code \n",
      "PATH OF PROJECT (FD_PRJ): /data/reddylab/Kuei/code/Proj_CombEffect_ENCODE_FCC \n",
      "PATH OF RESULTS (FD_RES): /data/reddylab/Kuei/out/proj_combeffect_encode_fcc \n",
      "PATH OF LOG     (FD_LOG): /data/reddylab/Kuei/out/proj_combeffect_encode_fcc/log \n"
     ]
    }
   ],
   "source": [
    "suppressMessages(suppressWarnings(source(\"../config/config_sing.R\")))\n",
    "show_env()"
   ]
  },
  {
   "cell_type": "markdown",
   "metadata": {},
   "source": [
    "## Loop CRISPRi-HCRFF"
   ]
  },
  {
   "cell_type": "code",
   "execution_count": 47,
   "metadata": {},
   "outputs": [],
   "source": [
    "FOLDER = \"annotation_crispri_hcrff\""
   ]
  },
  {
   "cell_type": "code",
   "execution_count": 48,
   "metadata": {},
   "outputs": [
    {
     "data": {
      "text/html": [
       "<style>\n",
       ".list-inline {list-style: none; margin:0; padding: 0}\n",
       ".list-inline>li {display: inline-block}\n",
       ".list-inline>li:not(:last-child)::after {content: \"\\00b7\"; padding: 0 .5ex}\n",
       "</style>\n",
       "<ol class=list-inline><li>'loopA.annotation.crispri_hcrff_casa.bed.gz'</li><li>'loopB.annotation.crispri_hcrff_casa.bed.gz'</li></ol>\n"
      ],
      "text/latex": [
       "\\begin{enumerate*}\n",
       "\\item 'loopA.annotation.crispri\\_hcrff\\_casa.bed.gz'\n",
       "\\item 'loopB.annotation.crispri\\_hcrff\\_casa.bed.gz'\n",
       "\\end{enumerate*}\n"
      ],
      "text/markdown": [
       "1. 'loopA.annotation.crispri_hcrff_casa.bed.gz'\n",
       "2. 'loopB.annotation.crispri_hcrff_casa.bed.gz'\n",
       "\n",
       "\n"
      ],
      "text/plain": [
       "[1] \"loopA.annotation.crispri_hcrff_casa.bed.gz\"\n",
       "[2] \"loopB.annotation.crispri_hcrff_casa.bed.gz\""
      ]
     },
     "metadata": {},
     "output_type": "display_data"
    }
   ],
   "source": [
    "fdiry = file.path(\n",
    "    FD_RES, \n",
    "    \"results\", \n",
    "    \"region\", \n",
    "    \"hic_intact_deep\", \n",
    "    \"loop\",\n",
    "    FOLDER\n",
    ")\n",
    "dir(fdiry)"
   ]
  },
  {
   "cell_type": "code",
   "execution_count": 49,
   "metadata": {},
   "outputs": [
    {
     "name": "stdout",
     "output_type": "stream",
     "text": [
      "[1] 10  2\n"
     ]
    },
    {
     "data": {
      "text/html": [
       "<table class=\"dataframe\">\n",
       "<caption>A spec_tbl_df: 10 × 2</caption>\n",
       "<thead>\n",
       "\t<tr><th scope=col>Name</th><th scope=col>Description</th></tr>\n",
       "\t<tr><th scope=col>&lt;chr&gt;</th><th scope=col>&lt;chr&gt;</th></tr>\n",
       "</thead>\n",
       "<tbody>\n",
       "\t<tr><td>Chrom      </td><td>Chromosome                                                 </td></tr>\n",
       "\t<tr><td>Start      </td><td>Start position                                             </td></tr>\n",
       "\t<tr><td>End        </td><td>End position                                               </td></tr>\n",
       "\t<tr><td>Name       </td><td>Name                                                       </td></tr>\n",
       "\t<tr><td>Score      </td><td>Score                                                      </td></tr>\n",
       "\t<tr><td>Strand     </td><td>[+-.]; Use '.' if no strand is assigned.                   </td></tr>\n",
       "\t<tr><td>Gene_Symbol</td><td>Gene symbol;     Gene that is screened for CRISPRi-FlowFish</td></tr>\n",
       "\t<tr><td>Gene_ENS   </td><td>Gene Ensembl ID; Gene that is screened for CRISPRi-FlowFish</td></tr>\n",
       "\t<tr><td>Assay_Type </td><td>Assay type                                                 </td></tr>\n",
       "\t<tr><td>Assay_Label</td><td>Assay label                                                </td></tr>\n",
       "</tbody>\n",
       "</table>\n"
      ],
      "text/latex": [
       "A spec\\_tbl\\_df: 10 × 2\n",
       "\\begin{tabular}{ll}\n",
       " Name & Description\\\\\n",
       " <chr> & <chr>\\\\\n",
       "\\hline\n",
       "\t Chrom       & Chromosome                                                 \\\\\n",
       "\t Start       & Start position                                             \\\\\n",
       "\t End         & End position                                               \\\\\n",
       "\t Name        & Name                                                       \\\\\n",
       "\t Score       & Score                                                      \\\\\n",
       "\t Strand      & {[}+-.{]}; Use '.' if no strand is assigned.                   \\\\\n",
       "\t Gene\\_Symbol & Gene symbol;     Gene that is screened for CRISPRi-FlowFish\\\\\n",
       "\t Gene\\_ENS    & Gene Ensembl ID; Gene that is screened for CRISPRi-FlowFish\\\\\n",
       "\t Assay\\_Type  & Assay type                                                 \\\\\n",
       "\t Assay\\_Label & Assay label                                                \\\\\n",
       "\\end{tabular}\n"
      ],
      "text/markdown": [
       "\n",
       "A spec_tbl_df: 10 × 2\n",
       "\n",
       "| Name &lt;chr&gt; | Description &lt;chr&gt; |\n",
       "|---|---|\n",
       "| Chrom       | Chromosome                                                  |\n",
       "| Start       | Start position                                              |\n",
       "| End         | End position                                                |\n",
       "| Name        | Name                                                        |\n",
       "| Score       | Score                                                       |\n",
       "| Strand      | [+-.]; Use '.' if no strand is assigned.                    |\n",
       "| Gene_Symbol | Gene symbol;     Gene that is screened for CRISPRi-FlowFish |\n",
       "| Gene_ENS    | Gene Ensembl ID; Gene that is screened for CRISPRi-FlowFish |\n",
       "| Assay_Type  | Assay type                                                  |\n",
       "| Assay_Label | Assay label                                                 |\n",
       "\n"
      ],
      "text/plain": [
       "   Name        Description                                                \n",
       "1  Chrom       Chromosome                                                 \n",
       "2  Start       Start position                                             \n",
       "3  End         End position                                               \n",
       "4  Name        Name                                                       \n",
       "5  Score       Score                                                      \n",
       "6  Strand      [+-.]; Use '.' if no strand is assigned.                   \n",
       "7  Gene_Symbol Gene symbol;     Gene that is screened for CRISPRi-FlowFish\n",
       "8  Gene_ENS    Gene Ensembl ID; Gene that is screened for CRISPRi-FlowFish\n",
       "9  Assay_Type  Assay type                                                 \n",
       "10 Assay_Label Assay label                                                "
      ]
     },
     "metadata": {},
     "output_type": "display_data"
    }
   ],
   "source": [
    "fdiry = file.path(\n",
    "    FD_RES, \n",
    "    \"results\", \n",
    "    \"region\", \n",
    "    FOLDER)\n",
    "fname = \"description.tsv\"\n",
    "fpath = file.path(fdiry, fname)\n",
    "\n",
    "dat = read_tsv(fpath, show_col_types = FALSE)\n",
    "\n",
    "dat_cnames = dat\n",
    "print(dim(dat))\n",
    "dat"
   ]
  },
  {
   "cell_type": "code",
   "execution_count": 50,
   "metadata": {},
   "outputs": [
    {
     "data": {
      "text/html": [
       "<table class=\"dataframe\">\n",
       "<caption>A tibble: 6 × 3</caption>\n",
       "<thead>\n",
       "\t<tr><th scope=col>Region_Loop</th><th scope=col>Region_CASA</th><th scope=col>Gene_Symbol</th></tr>\n",
       "\t<tr><th scope=col>&lt;chr&gt;</th><th scope=col>&lt;chr&gt;</th><th scope=col>&lt;chr&gt;</th></tr>\n",
       "</thead>\n",
       "<tbody>\n",
       "\t<tr><td>chr11:5240000-5250000</td><td>chr11:5248847-5249047</td><td>HBG1</td></tr>\n",
       "\t<tr><td>chr11:5240000-5250000</td><td>chr11:5248847-5249047</td><td>HBG2</td></tr>\n",
       "\t<tr><td>chr11:5270000-5271000</td><td>chr11:5269147-5271147</td><td>HBE1</td></tr>\n",
       "\t<tr><td>chr11:5270000-5280000</td><td>chr11:5275847-5276247</td><td>HBG1</td></tr>\n",
       "\t<tr><td>chr11:5270000-5280000</td><td>chr11:5275747-5276247</td><td>HBG2</td></tr>\n",
       "\t<tr><td>chr11:5270000-5280000</td><td>chr11:5275247-5276247</td><td>HBE1</td></tr>\n",
       "</tbody>\n",
       "</table>\n"
      ],
      "text/latex": [
       "A tibble: 6 × 3\n",
       "\\begin{tabular}{lll}\n",
       " Region\\_Loop & Region\\_CASA & Gene\\_Symbol\\\\\n",
       " <chr> & <chr> & <chr>\\\\\n",
       "\\hline\n",
       "\t chr11:5240000-5250000 & chr11:5248847-5249047 & HBG1\\\\\n",
       "\t chr11:5240000-5250000 & chr11:5248847-5249047 & HBG2\\\\\n",
       "\t chr11:5270000-5271000 & chr11:5269147-5271147 & HBE1\\\\\n",
       "\t chr11:5270000-5280000 & chr11:5275847-5276247 & HBG1\\\\\n",
       "\t chr11:5270000-5280000 & chr11:5275747-5276247 & HBG2\\\\\n",
       "\t chr11:5270000-5280000 & chr11:5275247-5276247 & HBE1\\\\\n",
       "\\end{tabular}\n"
      ],
      "text/markdown": [
       "\n",
       "A tibble: 6 × 3\n",
       "\n",
       "| Region_Loop &lt;chr&gt; | Region_CASA &lt;chr&gt; | Gene_Symbol &lt;chr&gt; |\n",
       "|---|---|---|\n",
       "| chr11:5240000-5250000 | chr11:5248847-5249047 | HBG1 |\n",
       "| chr11:5240000-5250000 | chr11:5248847-5249047 | HBG2 |\n",
       "| chr11:5270000-5271000 | chr11:5269147-5271147 | HBE1 |\n",
       "| chr11:5270000-5280000 | chr11:5275847-5276247 | HBG1 |\n",
       "| chr11:5270000-5280000 | chr11:5275747-5276247 | HBG2 |\n",
       "| chr11:5270000-5280000 | chr11:5275247-5276247 | HBE1 |\n",
       "\n"
      ],
      "text/plain": [
       "  Region_Loop           Region_CASA           Gene_Symbol\n",
       "1 chr11:5240000-5250000 chr11:5248847-5249047 HBG1       \n",
       "2 chr11:5240000-5250000 chr11:5248847-5249047 HBG2       \n",
       "3 chr11:5270000-5271000 chr11:5269147-5271147 HBE1       \n",
       "4 chr11:5270000-5280000 chr11:5275847-5276247 HBG1       \n",
       "5 chr11:5270000-5280000 chr11:5275747-5276247 HBG2       \n",
       "6 chr11:5270000-5280000 chr11:5275247-5276247 HBE1       "
      ]
     },
     "metadata": {},
     "output_type": "display_data"
    }
   ],
   "source": [
    "fdiry = file.path(\n",
    "    FD_RES, \n",
    "    \"results\", \n",
    "    \"region\", \n",
    "    \"hic_intact_deep\", \n",
    "    \"loop\",\n",
    "    FOLDER\n",
    ")\n",
    "\n",
    "cnames = dat_cnames$Name\n",
    "cnames = c(\"Chrom_Loop\", \"Start_Loop\", \"End_Loop\", cnames, \"Overlap\")\n",
    "\n",
    "vec = c(\"loopA\", \"loopB\")\n",
    "lst = lapply(vec, function(txt_loop){\n",
    "    fname = paste0(txt_loop, \"*\")\n",
    "    fglob = file.path(fdiry, fname)\n",
    "    fpath = Sys.glob(fglob)\n",
    "    \n",
    "    dat = read_tsv(fpath, col_names = cnames, show_col_types = FALSE)\n",
    "    dat = dat %>% \n",
    "        dplyr::mutate(\n",
    "            Region_Loop = paste0(Chrom_Loop, \":\", Start_Loop, \"-\", End_Loop),\n",
    "            Region_CASA  = paste0(Chrom,      \":\", Start,      \"-\", End)\n",
    "        ) %>%\n",
    "        dplyr::select(Region_Loop, Region_CASA, Gene_Symbol) %>%\n",
    "        dplyr::distinct()\n",
    "    return(dat)\n",
    "})\n",
    "names(lst) = vec\n",
    "\n",
    "lst_loop_annot_crispri_hcrff = lst\n",
    "head(lst[[1]])"
   ]
  },
  {
   "cell_type": "markdown",
   "metadata": {},
   "source": [
    "## Loop OCRs"
   ]
  },
  {
   "cell_type": "code",
   "execution_count": 51,
   "metadata": {},
   "outputs": [],
   "source": [
    "FOLDER = \"KS91_K562_ASTARRseq_peak_macs_input\""
   ]
  },
  {
   "cell_type": "code",
   "execution_count": 52,
   "metadata": {},
   "outputs": [
    {
     "data": {
      "text/html": [
       "<style>\n",
       ".list-inline {list-style: none; margin:0; padding: 0}\n",
       ".list-inline>li {display: inline-block}\n",
       ".list-inline>li:not(:last-child)::after {content: \"\\00b7\"; padding: 0 .5ex}\n",
       "</style>\n",
       "<ol class=list-inline><li>'loopA.annotation.KS91_K562_hg38_ASTARRseq_Input.all_reps.masked.union_narrowPeak.q5.bed.gz'</li><li>'loopB.annotation.KS91_K562_hg38_ASTARRseq_Input.all_reps.masked.union_narrowPeak.q5.bed.gz'</li><li>'network_ocr_edge_simplify.tsv'</li><li>'network_ocr_metric_edge.csv'</li><li>'network_ocr_metric_node.csv'</li><li>'network_ocr_node.tsv'</li></ol>\n"
      ],
      "text/latex": [
       "\\begin{enumerate*}\n",
       "\\item 'loopA.annotation.KS91\\_K562\\_hg38\\_ASTARRseq\\_Input.all\\_reps.masked.union\\_narrowPeak.q5.bed.gz'\n",
       "\\item 'loopB.annotation.KS91\\_K562\\_hg38\\_ASTARRseq\\_Input.all\\_reps.masked.union\\_narrowPeak.q5.bed.gz'\n",
       "\\item 'network\\_ocr\\_edge\\_simplify.tsv'\n",
       "\\item 'network\\_ocr\\_metric\\_edge.csv'\n",
       "\\item 'network\\_ocr\\_metric\\_node.csv'\n",
       "\\item 'network\\_ocr\\_node.tsv'\n",
       "\\end{enumerate*}\n"
      ],
      "text/markdown": [
       "1. 'loopA.annotation.KS91_K562_hg38_ASTARRseq_Input.all_reps.masked.union_narrowPeak.q5.bed.gz'\n",
       "2. 'loopB.annotation.KS91_K562_hg38_ASTARRseq_Input.all_reps.masked.union_narrowPeak.q5.bed.gz'\n",
       "3. 'network_ocr_edge_simplify.tsv'\n",
       "4. 'network_ocr_metric_edge.csv'\n",
       "5. 'network_ocr_metric_node.csv'\n",
       "6. 'network_ocr_node.tsv'\n",
       "\n",
       "\n"
      ],
      "text/plain": [
       "[1] \"loopA.annotation.KS91_K562_hg38_ASTARRseq_Input.all_reps.masked.union_narrowPeak.q5.bed.gz\"\n",
       "[2] \"loopB.annotation.KS91_K562_hg38_ASTARRseq_Input.all_reps.masked.union_narrowPeak.q5.bed.gz\"\n",
       "[3] \"network_ocr_edge_simplify.tsv\"                                                             \n",
       "[4] \"network_ocr_metric_edge.csv\"                                                               \n",
       "[5] \"network_ocr_metric_node.csv\"                                                               \n",
       "[6] \"network_ocr_node.tsv\"                                                                      "
      ]
     },
     "metadata": {},
     "output_type": "display_data"
    }
   ],
   "source": [
    "fdiry = file.path(\n",
    "    FD_RES, \n",
    "    \"results\", \n",
    "    \"region\", \n",
    "    \"hic_intact_deep\", \n",
    "    \"loop\",\n",
    "    FOLDER\n",
    ")\n",
    "dir(fdiry)"
   ]
  },
  {
   "cell_type": "code",
   "execution_count": 53,
   "metadata": {},
   "outputs": [
    {
     "name": "stdout",
     "output_type": "stream",
     "text": [
      "[1] 3 2\n"
     ]
    },
    {
     "data": {
      "text/html": [
       "<table class=\"dataframe\">\n",
       "<caption>A spec_tbl_df: 3 × 2</caption>\n",
       "<thead>\n",
       "\t<tr><th scope=col>Name</th><th scope=col>Description</th></tr>\n",
       "\t<tr><th scope=col>&lt;chr&gt;</th><th scope=col>&lt;chr&gt;</th></tr>\n",
       "</thead>\n",
       "<tbody>\n",
       "\t<tr><td>Chrom</td><td>Seqnames</td></tr>\n",
       "\t<tr><td>Start</td><td>Start   </td></tr>\n",
       "\t<tr><td>End  </td><td>End     </td></tr>\n",
       "</tbody>\n",
       "</table>\n"
      ],
      "text/latex": [
       "A spec\\_tbl\\_df: 3 × 2\n",
       "\\begin{tabular}{ll}\n",
       " Name & Description\\\\\n",
       " <chr> & <chr>\\\\\n",
       "\\hline\n",
       "\t Chrom & Seqnames\\\\\n",
       "\t Start & Start   \\\\\n",
       "\t End   & End     \\\\\n",
       "\\end{tabular}\n"
      ],
      "text/markdown": [
       "\n",
       "A spec_tbl_df: 3 × 2\n",
       "\n",
       "| Name &lt;chr&gt; | Description &lt;chr&gt; |\n",
       "|---|---|\n",
       "| Chrom | Seqnames |\n",
       "| Start | Start    |\n",
       "| End   | End      |\n",
       "\n"
      ],
      "text/plain": [
       "  Name  Description\n",
       "1 Chrom Seqnames   \n",
       "2 Start Start      \n",
       "3 End   End        "
      ]
     },
     "metadata": {},
     "output_type": "display_data"
    }
   ],
   "source": [
    "fdiry = file.path(\n",
    "    FD_RES, \n",
    "    \"results\", \n",
    "    \"region\", \n",
    "    FOLDER)\n",
    "fname = \"description.tsv\"\n",
    "fpath = file.path(fdiry, fname)\n",
    "\n",
    "dat = read_tsv(fpath, show_col_types = FALSE)\n",
    "\n",
    "dat_cnames = dat\n",
    "print(dim(dat))\n",
    "dat"
   ]
  },
  {
   "cell_type": "code",
   "execution_count": 54,
   "metadata": {},
   "outputs": [
    {
     "data": {
      "text/html": [
       "<table class=\"dataframe\">\n",
       "<caption>A tibble: 6 × 2</caption>\n",
       "<thead>\n",
       "\t<tr><th scope=col>Region_Loop</th><th scope=col>Region_OCR</th></tr>\n",
       "\t<tr><th scope=col>&lt;chr&gt;</th><th scope=col>&lt;chr&gt;</th></tr>\n",
       "</thead>\n",
       "<tbody>\n",
       "\t<tr><td>chr1:778000-779000</td><td>chr1:777949-779437</td></tr>\n",
       "\t<tr><td>chr1:870000-875000</td><td>chr1:873248-873781</td></tr>\n",
       "\t<tr><td>chr1:904000-905000</td><td>chr1:903633-905556</td></tr>\n",
       "\t<tr><td>chr1:904000-906000</td><td>chr1:903633-905556</td></tr>\n",
       "\t<tr><td>chr1:906000-908000</td><td>chr1:906458-907282</td></tr>\n",
       "\t<tr><td>chr1:920000-925000</td><td>chr1:920697-921526</td></tr>\n",
       "</tbody>\n",
       "</table>\n"
      ],
      "text/latex": [
       "A tibble: 6 × 2\n",
       "\\begin{tabular}{ll}\n",
       " Region\\_Loop & Region\\_OCR\\\\\n",
       " <chr> & <chr>\\\\\n",
       "\\hline\n",
       "\t chr1:778000-779000 & chr1:777949-779437\\\\\n",
       "\t chr1:870000-875000 & chr1:873248-873781\\\\\n",
       "\t chr1:904000-905000 & chr1:903633-905556\\\\\n",
       "\t chr1:904000-906000 & chr1:903633-905556\\\\\n",
       "\t chr1:906000-908000 & chr1:906458-907282\\\\\n",
       "\t chr1:920000-925000 & chr1:920697-921526\\\\\n",
       "\\end{tabular}\n"
      ],
      "text/markdown": [
       "\n",
       "A tibble: 6 × 2\n",
       "\n",
       "| Region_Loop &lt;chr&gt; | Region_OCR &lt;chr&gt; |\n",
       "|---|---|\n",
       "| chr1:778000-779000 | chr1:777949-779437 |\n",
       "| chr1:870000-875000 | chr1:873248-873781 |\n",
       "| chr1:904000-905000 | chr1:903633-905556 |\n",
       "| chr1:904000-906000 | chr1:903633-905556 |\n",
       "| chr1:906000-908000 | chr1:906458-907282 |\n",
       "| chr1:920000-925000 | chr1:920697-921526 |\n",
       "\n"
      ],
      "text/plain": [
       "  Region_Loop        Region_OCR        \n",
       "1 chr1:778000-779000 chr1:777949-779437\n",
       "2 chr1:870000-875000 chr1:873248-873781\n",
       "3 chr1:904000-905000 chr1:903633-905556\n",
       "4 chr1:904000-906000 chr1:903633-905556\n",
       "5 chr1:906000-908000 chr1:906458-907282\n",
       "6 chr1:920000-925000 chr1:920697-921526"
      ]
     },
     "metadata": {},
     "output_type": "display_data"
    }
   ],
   "source": [
    "fdiry = file.path(\n",
    "    FD_RES, \n",
    "    \"results\", \n",
    "    \"region\", \n",
    "    \"hic_intact_deep\", \n",
    "    \"loop\",\n",
    "    FOLDER\n",
    ")\n",
    "\n",
    "cnames = dat_cnames$Name\n",
    "cnames = c(\"Chrom_Loop\", \"Start_Loop\", \"End_Loop\", cnames, \"Overlap\")\n",
    "\n",
    "vec = c(\"loopA\", \"loopB\")\n",
    "lst = lapply(vec, function(txt_loop){\n",
    "    fname = paste0(txt_loop, \"*\")\n",
    "    fglob = file.path(fdiry, fname)\n",
    "    fpath = Sys.glob(fglob)\n",
    "    \n",
    "    dat = read_tsv(fpath, col_names = cnames, show_col_types = FALSE)\n",
    "    dat = dat %>% \n",
    "        dplyr::mutate(\n",
    "            Region_Loop = paste0(Chrom_Loop, \":\", Start_Loop, \"-\", End_Loop),\n",
    "            Region_OCR  = paste0(Chrom,      \":\", Start,      \"-\", End)\n",
    "        ) %>%\n",
    "        dplyr::select(Region_Loop, Region_OCR) %>%\n",
    "        dplyr::distinct()\n",
    "    return(dat)\n",
    "})\n",
    "names(lst) = vec\n",
    "\n",
    "lst_loop_annot_ocr = lst\n",
    "head(lst[[1]])"
   ]
  },
  {
   "cell_type": "markdown",
   "metadata": {},
   "source": [
    "## OCR TSS"
   ]
  },
  {
   "cell_type": "code",
   "execution_count": 62,
   "metadata": {},
   "outputs": [],
   "source": [
    "FOLDER = \"annotation_tss_pol2\""
   ]
  },
  {
   "cell_type": "code",
   "execution_count": 63,
   "metadata": {},
   "outputs": [
    {
     "data": {
      "text/html": [
       "'peak.annotation.K562.TSS.selected_by_highest_Pol2_signal.bed.gz'"
      ],
      "text/latex": [
       "'peak.annotation.K562.TSS.selected\\_by\\_highest\\_Pol2\\_signal.bed.gz'"
      ],
      "text/markdown": [
       "'peak.annotation.K562.TSS.selected_by_highest_Pol2_signal.bed.gz'"
      ],
      "text/plain": [
       "[1] \"peak.annotation.K562.TSS.selected_by_highest_Pol2_signal.bed.gz\""
      ]
     },
     "metadata": {},
     "output_type": "display_data"
    }
   ],
   "source": [
    "fdiry = file.path(\n",
    "    FD_RES, \n",
    "    \"results\", \n",
    "    \"region\", \n",
    "    \"KS91_K562_ASTARRseq_peak_macs_input\",\n",
    "    FOLDER\n",
    ")\n",
    "dir(fdiry)"
   ]
  },
  {
   "cell_type": "code",
   "execution_count": 64,
   "metadata": {},
   "outputs": [
    {
     "name": "stdout",
     "output_type": "stream",
     "text": [
      "[1] 5 2\n"
     ]
    },
    {
     "data": {
      "text/html": [
       "<table class=\"dataframe\">\n",
       "<caption>A spec_tbl_df: 5 × 2</caption>\n",
       "<thead>\n",
       "\t<tr><th scope=col>Name</th><th scope=col>Description</th></tr>\n",
       "\t<tr><th scope=col>&lt;chr&gt;</th><th scope=col>&lt;chr&gt;</th></tr>\n",
       "</thead>\n",
       "<tbody>\n",
       "\t<tr><td>Chrom</td><td>Chromosome                                                                                 </td></tr>\n",
       "\t<tr><td>Start</td><td>TSS position                                                                               </td></tr>\n",
       "\t<tr><td>End  </td><td>TSS position                                                                               </td></tr>\n",
       "\t<tr><td>Name </td><td>Gene name                                                                                  </td></tr>\n",
       "\t<tr><td>Score</td><td>highest level of pol2 chip seq (ENCFF914WIS.bigWig) at [TSS-500, TSS+500] among TSS isoform</td></tr>\n",
       "</tbody>\n",
       "</table>\n"
      ],
      "text/latex": [
       "A spec\\_tbl\\_df: 5 × 2\n",
       "\\begin{tabular}{ll}\n",
       " Name & Description\\\\\n",
       " <chr> & <chr>\\\\\n",
       "\\hline\n",
       "\t Chrom & Chromosome                                                                                 \\\\\n",
       "\t Start & TSS position                                                                               \\\\\n",
       "\t End   & TSS position                                                                               \\\\\n",
       "\t Name  & Gene name                                                                                  \\\\\n",
       "\t Score & highest level of pol2 chip seq (ENCFF914WIS.bigWig) at {[}TSS-500, TSS+500{]} among TSS isoform\\\\\n",
       "\\end{tabular}\n"
      ],
      "text/markdown": [
       "\n",
       "A spec_tbl_df: 5 × 2\n",
       "\n",
       "| Name &lt;chr&gt; | Description &lt;chr&gt; |\n",
       "|---|---|\n",
       "| Chrom | Chromosome                                                                                  |\n",
       "| Start | TSS position                                                                                |\n",
       "| End   | TSS position                                                                                |\n",
       "| Name  | Gene name                                                                                   |\n",
       "| Score | highest level of pol2 chip seq (ENCFF914WIS.bigWig) at [TSS-500, TSS+500] among TSS isoform |\n",
       "\n"
      ],
      "text/plain": [
       "  Name \n",
       "1 Chrom\n",
       "2 Start\n",
       "3 End  \n",
       "4 Name \n",
       "5 Score\n",
       "  Description                                                                                \n",
       "1 Chromosome                                                                                 \n",
       "2 TSS position                                                                               \n",
       "3 TSS position                                                                               \n",
       "4 Gene name                                                                                  \n",
       "5 highest level of pol2 chip seq (ENCFF914WIS.bigWig) at [TSS-500, TSS+500] among TSS isoform"
      ]
     },
     "metadata": {},
     "output_type": "display_data"
    }
   ],
   "source": [
    "fdiry = file.path(\n",
    "    FD_RES, \n",
    "    \"results\", \n",
    "    \"region\", \n",
    "    FOLDER)\n",
    "fname = \"description.tsv\"\n",
    "fpath = file.path(fdiry, fname)\n",
    "\n",
    "dat = read_tsv(fpath, show_col_types = FALSE)\n",
    "\n",
    "dat_cnames = dat\n",
    "print(dim(dat))\n",
    "dat"
   ]
  },
  {
   "cell_type": "code",
   "execution_count": 81,
   "metadata": {},
   "outputs": [
    {
     "name": "stdout",
     "output_type": "stream",
     "text": [
      "[1] 17751     3\n"
     ]
    },
    {
     "data": {
      "text/html": [
       "<table class=\"dataframe\">\n",
       "<caption>A tibble: 6 × 3</caption>\n",
       "<thead>\n",
       "\t<tr><th scope=col>Region_OCR</th><th scope=col>Region_TSS</th><th scope=col>Gene_TSS</th></tr>\n",
       "\t<tr><th scope=col>&lt;chr&gt;</th><th scope=col>&lt;chr&gt;</th><th scope=col>&lt;chr&gt;</th></tr>\n",
       "</thead>\n",
       "<tbody>\n",
       "\t<tr><td>chr1:17237-17772  </td><td>chr1:17436-17437  </td><td>MIR6859-1   </td></tr>\n",
       "\t<tr><td>chr1:17237-17772  </td><td>chr1:17436-17437  </td><td>MIR6859-2   </td></tr>\n",
       "\t<tr><td>chr1:17237-17772  </td><td>chr1:17436-17437  </td><td>MIR6859-3   </td></tr>\n",
       "\t<tr><td>chr1:17237-17772  </td><td>chr1:17436-17437  </td><td>MIR6859-4   </td></tr>\n",
       "\t<tr><td>chr1:28903-29613  </td><td>chr1:29370-29371  </td><td>WASH7P      </td></tr>\n",
       "\t<tr><td>chr1:777949-779437</td><td>chr1:778634-778635</td><td>LOC100288069</td></tr>\n",
       "</tbody>\n",
       "</table>\n"
      ],
      "text/latex": [
       "A tibble: 6 × 3\n",
       "\\begin{tabular}{lll}\n",
       " Region\\_OCR & Region\\_TSS & Gene\\_TSS\\\\\n",
       " <chr> & <chr> & <chr>\\\\\n",
       "\\hline\n",
       "\t chr1:17237-17772   & chr1:17436-17437   & MIR6859-1   \\\\\n",
       "\t chr1:17237-17772   & chr1:17436-17437   & MIR6859-2   \\\\\n",
       "\t chr1:17237-17772   & chr1:17436-17437   & MIR6859-3   \\\\\n",
       "\t chr1:17237-17772   & chr1:17436-17437   & MIR6859-4   \\\\\n",
       "\t chr1:28903-29613   & chr1:29370-29371   & WASH7P      \\\\\n",
       "\t chr1:777949-779437 & chr1:778634-778635 & LOC100288069\\\\\n",
       "\\end{tabular}\n"
      ],
      "text/markdown": [
       "\n",
       "A tibble: 6 × 3\n",
       "\n",
       "| Region_OCR &lt;chr&gt; | Region_TSS &lt;chr&gt; | Gene_TSS &lt;chr&gt; |\n",
       "|---|---|---|\n",
       "| chr1:17237-17772   | chr1:17436-17437   | MIR6859-1    |\n",
       "| chr1:17237-17772   | chr1:17436-17437   | MIR6859-2    |\n",
       "| chr1:17237-17772   | chr1:17436-17437   | MIR6859-3    |\n",
       "| chr1:17237-17772   | chr1:17436-17437   | MIR6859-4    |\n",
       "| chr1:28903-29613   | chr1:29370-29371   | WASH7P       |\n",
       "| chr1:777949-779437 | chr1:778634-778635 | LOC100288069 |\n",
       "\n"
      ],
      "text/plain": [
       "  Region_OCR         Region_TSS         Gene_TSS    \n",
       "1 chr1:17237-17772   chr1:17436-17437   MIR6859-1   \n",
       "2 chr1:17237-17772   chr1:17436-17437   MIR6859-2   \n",
       "3 chr1:17237-17772   chr1:17436-17437   MIR6859-3   \n",
       "4 chr1:17237-17772   chr1:17436-17437   MIR6859-4   \n",
       "5 chr1:28903-29613   chr1:29370-29371   WASH7P      \n",
       "6 chr1:777949-779437 chr1:778634-778635 LOC100288069"
      ]
     },
     "metadata": {},
     "output_type": "display_data"
    }
   ],
   "source": [
    "fdiry = file.path(\n",
    "    FD_RES, \n",
    "    \"results\", \n",
    "    \"region\", \n",
    "    \"KS91_K562_ASTARRseq_peak_macs_input\",\n",
    "    FOLDER\n",
    ")\n",
    "fname = \"peak.annotation.K562.TSS.selected_by_highest_Pol2_signal.bed.gz\"\n",
    "fpath = file.path(fdiry, fname)\n",
    "\n",
    "cnames = dat_cnames$Name\n",
    "cnames = c(\"Chrom_OCR\", \"Start_OCR\", \"End_OCR\", cnames, \"Overlap\")\n",
    "\n",
    "dat = read_tsv(fpath, col_names = cnames, show_col_types = FALSE)\n",
    "dat = dat %>% \n",
    "        dplyr::mutate(\n",
    "            Region_OCR = paste0(Chrom_OCR, \":\", Start_OCR, \"-\", End_OCR),\n",
    "            Region_TSS = paste0(Chrom,     \":\", Start,    \"-\", End),\n",
    "            Gene_TSS   = Name\n",
    "        ) %>%\n",
    "        dplyr::select(Region_OCR, Region_TSS, Gene_TSS) %>%\n",
    "        dplyr::distinct()\n",
    "\n",
    "dat_ocr_tss = dat\n",
    "print(dim(dat))\n",
    "head(dat)"
   ]
  },
  {
   "cell_type": "markdown",
   "metadata": {},
   "source": [
    "## CRISPRi-HCRFF"
   ]
  },
  {
   "cell_type": "code",
   "execution_count": 90,
   "metadata": {},
   "outputs": [
    {
     "name": "stdout",
     "output_type": "stream",
     "text": [
      "[1] 10  2\n"
     ]
    },
    {
     "data": {
      "text/html": [
       "<table class=\"dataframe\">\n",
       "<caption>A spec_tbl_df: 10 × 2</caption>\n",
       "<thead>\n",
       "\t<tr><th scope=col>Name</th><th scope=col>Description</th></tr>\n",
       "\t<tr><th scope=col>&lt;chr&gt;</th><th scope=col>&lt;chr&gt;</th></tr>\n",
       "</thead>\n",
       "<tbody>\n",
       "\t<tr><td>Chrom      </td><td>Chromosome                                                 </td></tr>\n",
       "\t<tr><td>Start      </td><td>Start position                                             </td></tr>\n",
       "\t<tr><td>End        </td><td>End position                                               </td></tr>\n",
       "\t<tr><td>Name       </td><td>Name                                                       </td></tr>\n",
       "\t<tr><td>Score      </td><td>Score                                                      </td></tr>\n",
       "\t<tr><td>Strand     </td><td>[+-.]; Use '.' if no strand is assigned.                   </td></tr>\n",
       "\t<tr><td>Gene_Symbol</td><td>Gene symbol;     Gene that is screened for CRISPRi-FlowFish</td></tr>\n",
       "\t<tr><td>Gene_ENS   </td><td>Gene Ensembl ID; Gene that is screened for CRISPRi-FlowFish</td></tr>\n",
       "\t<tr><td>Assay_Type </td><td>Assay type                                                 </td></tr>\n",
       "\t<tr><td>Assay_Label</td><td>Assay label                                                </td></tr>\n",
       "</tbody>\n",
       "</table>\n"
      ],
      "text/latex": [
       "A spec\\_tbl\\_df: 10 × 2\n",
       "\\begin{tabular}{ll}\n",
       " Name & Description\\\\\n",
       " <chr> & <chr>\\\\\n",
       "\\hline\n",
       "\t Chrom       & Chromosome                                                 \\\\\n",
       "\t Start       & Start position                                             \\\\\n",
       "\t End         & End position                                               \\\\\n",
       "\t Name        & Name                                                       \\\\\n",
       "\t Score       & Score                                                      \\\\\n",
       "\t Strand      & {[}+-.{]}; Use '.' if no strand is assigned.                   \\\\\n",
       "\t Gene\\_Symbol & Gene symbol;     Gene that is screened for CRISPRi-FlowFish\\\\\n",
       "\t Gene\\_ENS    & Gene Ensembl ID; Gene that is screened for CRISPRi-FlowFish\\\\\n",
       "\t Assay\\_Type  & Assay type                                                 \\\\\n",
       "\t Assay\\_Label & Assay label                                                \\\\\n",
       "\\end{tabular}\n"
      ],
      "text/markdown": [
       "\n",
       "A spec_tbl_df: 10 × 2\n",
       "\n",
       "| Name &lt;chr&gt; | Description &lt;chr&gt; |\n",
       "|---|---|\n",
       "| Chrom       | Chromosome                                                  |\n",
       "| Start       | Start position                                              |\n",
       "| End         | End position                                                |\n",
       "| Name        | Name                                                        |\n",
       "| Score       | Score                                                       |\n",
       "| Strand      | [+-.]; Use '.' if no strand is assigned.                    |\n",
       "| Gene_Symbol | Gene symbol;     Gene that is screened for CRISPRi-FlowFish |\n",
       "| Gene_ENS    | Gene Ensembl ID; Gene that is screened for CRISPRi-FlowFish |\n",
       "| Assay_Type  | Assay type                                                  |\n",
       "| Assay_Label | Assay label                                                 |\n",
       "\n"
      ],
      "text/plain": [
       "   Name        Description                                                \n",
       "1  Chrom       Chromosome                                                 \n",
       "2  Start       Start position                                             \n",
       "3  End         End position                                               \n",
       "4  Name        Name                                                       \n",
       "5  Score       Score                                                      \n",
       "6  Strand      [+-.]; Use '.' if no strand is assigned.                   \n",
       "7  Gene_Symbol Gene symbol;     Gene that is screened for CRISPRi-FlowFish\n",
       "8  Gene_ENS    Gene Ensembl ID; Gene that is screened for CRISPRi-FlowFish\n",
       "9  Assay_Type  Assay type                                                 \n",
       "10 Assay_Label Assay label                                                "
      ]
     },
     "metadata": {},
     "output_type": "display_data"
    }
   ],
   "source": [
    "FOLDER = \"annotation_crispri_hcrff\"\n",
    "\n",
    "fdiry = file.path(\n",
    "    FD_RES, \n",
    "    \"results\", \n",
    "    \"region\", \n",
    "    FOLDER)\n",
    "fname = \"description.tsv\"\n",
    "fpath = file.path(fdiry, fname)\n",
    "\n",
    "dat = read_tsv(fpath, show_col_types = FALSE)\n",
    "dat_cnames = dat\n",
    "print(dim(dat))\n",
    "dat"
   ]
  },
  {
   "cell_type": "code",
   "execution_count": 93,
   "metadata": {},
   "outputs": [
    {
     "name": "stdout",
     "output_type": "stream",
     "text": [
      "[1] 113  10\n"
     ]
    },
    {
     "data": {
      "text/html": [
       "<table class=\"dataframe\">\n",
       "<caption>A tibble: 6 × 10</caption>\n",
       "<thead>\n",
       "\t<tr><th scope=col>Chrom</th><th scope=col>Start</th><th scope=col>End</th><th scope=col>Name</th><th scope=col>Score</th><th scope=col>Strand</th><th scope=col>Gene_Symbol</th><th scope=col>Gene_ENS</th><th scope=col>Assay_Type</th><th scope=col>Assay_Label</th></tr>\n",
       "\t<tr><th scope=col>&lt;chr&gt;</th><th scope=col>&lt;dbl&gt;</th><th scope=col>&lt;dbl&gt;</th><th scope=col>&lt;chr&gt;</th><th scope=col>&lt;dbl&gt;</th><th scope=col>&lt;chr&gt;</th><th scope=col>&lt;chr&gt;</th><th scope=col>&lt;chr&gt;</th><th scope=col>&lt;chr&gt;</th><th scope=col>&lt;chr&gt;</th></tr>\n",
       "</thead>\n",
       "<tbody>\n",
       "\t<tr><td>chr11</td><td>33944871</td><td>33945471</td><td>chr11:33944871-33945471</td><td>0.8037646</td><td>.</td><td>CAPRIN1</td><td>ENSG00000135387</td><td>CRISPRi-HCRFF</td><td>CRISPRi-HCRFF:CAPRIN1</td></tr>\n",
       "\t<tr><td>chr11</td><td>34050971</td><td>34051471</td><td>chr11:34050971-34051471</td><td>0.9739873</td><td>.</td><td>CAPRIN1</td><td>ENSG00000135387</td><td>CRISPRi-HCRFF</td><td>CRISPRi-HCRFF:CAPRIN1</td></tr>\n",
       "\t<tr><td>chr11</td><td>34051571</td><td>34054171</td><td>chr11:34051571-34054171</td><td>2.0642907</td><td>.</td><td>CAPRIN1</td><td>ENSG00000135387</td><td>CRISPRi-HCRFF</td><td>CRISPRi-HCRFF:CAPRIN1</td></tr>\n",
       "\t<tr><td>chr11</td><td>34085871</td><td>34086871</td><td>chr11:34085871-34086871</td><td>1.0092724</td><td>.</td><td>CAPRIN1</td><td>ENSG00000135387</td><td>CRISPRi-HCRFF</td><td>CRISPRi-HCRFF:CAPRIN1</td></tr>\n",
       "\t<tr><td>chr11</td><td>33944868</td><td>33945268</td><td>chr11:33944868-33945268</td><td>1.2146755</td><td>.</td><td>CAT    </td><td>ENSG00000121691</td><td>CRISPRi-HCRFF</td><td>CRISPRi-HCRFF:CAT    </td></tr>\n",
       "\t<tr><td>chr11</td><td>34437468</td><td>34440568</td><td>chr11:34437468-34440568</td><td>3.2866681</td><td>.</td><td>CAT    </td><td>ENSG00000121691</td><td>CRISPRi-HCRFF</td><td>CRISPRi-HCRFF:CAT    </td></tr>\n",
       "</tbody>\n",
       "</table>\n"
      ],
      "text/latex": [
       "A tibble: 6 × 10\n",
       "\\begin{tabular}{llllllllll}\n",
       " Chrom & Start & End & Name & Score & Strand & Gene\\_Symbol & Gene\\_ENS & Assay\\_Type & Assay\\_Label\\\\\n",
       " <chr> & <dbl> & <dbl> & <chr> & <dbl> & <chr> & <chr> & <chr> & <chr> & <chr>\\\\\n",
       "\\hline\n",
       "\t chr11 & 33944871 & 33945471 & chr11:33944871-33945471 & 0.8037646 & . & CAPRIN1 & ENSG00000135387 & CRISPRi-HCRFF & CRISPRi-HCRFF:CAPRIN1\\\\\n",
       "\t chr11 & 34050971 & 34051471 & chr11:34050971-34051471 & 0.9739873 & . & CAPRIN1 & ENSG00000135387 & CRISPRi-HCRFF & CRISPRi-HCRFF:CAPRIN1\\\\\n",
       "\t chr11 & 34051571 & 34054171 & chr11:34051571-34054171 & 2.0642907 & . & CAPRIN1 & ENSG00000135387 & CRISPRi-HCRFF & CRISPRi-HCRFF:CAPRIN1\\\\\n",
       "\t chr11 & 34085871 & 34086871 & chr11:34085871-34086871 & 1.0092724 & . & CAPRIN1 & ENSG00000135387 & CRISPRi-HCRFF & CRISPRi-HCRFF:CAPRIN1\\\\\n",
       "\t chr11 & 33944868 & 33945268 & chr11:33944868-33945268 & 1.2146755 & . & CAT     & ENSG00000121691 & CRISPRi-HCRFF & CRISPRi-HCRFF:CAT    \\\\\n",
       "\t chr11 & 34437468 & 34440568 & chr11:34437468-34440568 & 3.2866681 & . & CAT     & ENSG00000121691 & CRISPRi-HCRFF & CRISPRi-HCRFF:CAT    \\\\\n",
       "\\end{tabular}\n"
      ],
      "text/markdown": [
       "\n",
       "A tibble: 6 × 10\n",
       "\n",
       "| Chrom &lt;chr&gt; | Start &lt;dbl&gt; | End &lt;dbl&gt; | Name &lt;chr&gt; | Score &lt;dbl&gt; | Strand &lt;chr&gt; | Gene_Symbol &lt;chr&gt; | Gene_ENS &lt;chr&gt; | Assay_Type &lt;chr&gt; | Assay_Label &lt;chr&gt; |\n",
       "|---|---|---|---|---|---|---|---|---|---|\n",
       "| chr11 | 33944871 | 33945471 | chr11:33944871-33945471 | 0.8037646 | . | CAPRIN1 | ENSG00000135387 | CRISPRi-HCRFF | CRISPRi-HCRFF:CAPRIN1 |\n",
       "| chr11 | 34050971 | 34051471 | chr11:34050971-34051471 | 0.9739873 | . | CAPRIN1 | ENSG00000135387 | CRISPRi-HCRFF | CRISPRi-HCRFF:CAPRIN1 |\n",
       "| chr11 | 34051571 | 34054171 | chr11:34051571-34054171 | 2.0642907 | . | CAPRIN1 | ENSG00000135387 | CRISPRi-HCRFF | CRISPRi-HCRFF:CAPRIN1 |\n",
       "| chr11 | 34085871 | 34086871 | chr11:34085871-34086871 | 1.0092724 | . | CAPRIN1 | ENSG00000135387 | CRISPRi-HCRFF | CRISPRi-HCRFF:CAPRIN1 |\n",
       "| chr11 | 33944868 | 33945268 | chr11:33944868-33945268 | 1.2146755 | . | CAT     | ENSG00000121691 | CRISPRi-HCRFF | CRISPRi-HCRFF:CAT     |\n",
       "| chr11 | 34437468 | 34440568 | chr11:34437468-34440568 | 3.2866681 | . | CAT     | ENSG00000121691 | CRISPRi-HCRFF | CRISPRi-HCRFF:CAT     |\n",
       "\n"
      ],
      "text/plain": [
       "  Chrom Start    End      Name                    Score     Strand Gene_Symbol\n",
       "1 chr11 33944871 33945471 chr11:33944871-33945471 0.8037646 .      CAPRIN1    \n",
       "2 chr11 34050971 34051471 chr11:34050971-34051471 0.9739873 .      CAPRIN1    \n",
       "3 chr11 34051571 34054171 chr11:34051571-34054171 2.0642907 .      CAPRIN1    \n",
       "4 chr11 34085871 34086871 chr11:34085871-34086871 1.0092724 .      CAPRIN1    \n",
       "5 chr11 33944868 33945268 chr11:33944868-33945268 1.2146755 .      CAT        \n",
       "6 chr11 34437468 34440568 chr11:34437468-34440568 3.2866681 .      CAT        \n",
       "  Gene_ENS        Assay_Type    Assay_Label          \n",
       "1 ENSG00000135387 CRISPRi-HCRFF CRISPRi-HCRFF:CAPRIN1\n",
       "2 ENSG00000135387 CRISPRi-HCRFF CRISPRi-HCRFF:CAPRIN1\n",
       "3 ENSG00000135387 CRISPRi-HCRFF CRISPRi-HCRFF:CAPRIN1\n",
       "4 ENSG00000135387 CRISPRi-HCRFF CRISPRi-HCRFF:CAPRIN1\n",
       "5 ENSG00000121691 CRISPRi-HCRFF CRISPRi-HCRFF:CAT    \n",
       "6 ENSG00000121691 CRISPRi-HCRFF CRISPRi-HCRFF:CAT    "
      ]
     },
     "metadata": {},
     "output_type": "display_data"
    }
   ],
   "source": [
    "fdiry = file.path(\n",
    "    FD_RES, \n",
    "    \"results\", \n",
    "    \"region\", \n",
    "    FOLDER)\n",
    "fname = \"crispri_hcrff_casa.bed.gz\"\n",
    "fpath = file.path(fdiry, fname)\n",
    "\n",
    "cnames = dat_cnames$Name\n",
    "dat = read_tsv(fpath, col_names = cnames, show_col_types = FALSE)\n",
    "\n",
    "dat_region_casa = dat\n",
    "print(dim(dat))\n",
    "head(dat)"
   ]
  },
  {
   "cell_type": "markdown",
   "metadata": {},
   "source": [
    "## Merge"
   ]
  },
  {
   "cell_type": "code",
   "execution_count": 82,
   "metadata": {},
   "outputs": [
    {
     "name": "stdout",
     "output_type": "stream",
     "text": [
      "[1] 64  3\n"
     ]
    },
    {
     "data": {
      "text/html": [
       "<table class=\"dataframe\">\n",
       "<caption>A tibble: 6 × 3</caption>\n",
       "<thead>\n",
       "\t<tr><th scope=col>Gene_Symbol</th><th scope=col>Region_CASA</th><th scope=col>Region_OCR</th></tr>\n",
       "\t<tr><th scope=col>&lt;chr&gt;</th><th scope=col>&lt;chr&gt;</th><th scope=col>&lt;chr&gt;</th></tr>\n",
       "</thead>\n",
       "<tbody>\n",
       "\t<tr><td>HBG1</td><td>chr11:5275847-5276247  </td><td>chr11:5275424-5276195  </td></tr>\n",
       "\t<tr><td>HBG2</td><td>chr11:5275747-5276247  </td><td>chr11:5275424-5276195  </td></tr>\n",
       "\t<tr><td>HBE1</td><td>chr11:5275247-5276247  </td><td>chr11:5275424-5276195  </td></tr>\n",
       "\t<tr><td>HBE1</td><td>chr11:5503747-5505947  </td><td>chr11:5504314-5505017  </td></tr>\n",
       "\t<tr><td>HBE1</td><td>chr11:5503747-5505947  </td><td>chr11:5505314-5506176  </td></tr>\n",
       "\t<tr><td>LMO2</td><td>chr11:33937168-33938068</td><td>chr11:33936760-33937819</td></tr>\n",
       "</tbody>\n",
       "</table>\n"
      ],
      "text/latex": [
       "A tibble: 6 × 3\n",
       "\\begin{tabular}{lll}\n",
       " Gene\\_Symbol & Region\\_CASA & Region\\_OCR\\\\\n",
       " <chr> & <chr> & <chr>\\\\\n",
       "\\hline\n",
       "\t HBG1 & chr11:5275847-5276247   & chr11:5275424-5276195  \\\\\n",
       "\t HBG2 & chr11:5275747-5276247   & chr11:5275424-5276195  \\\\\n",
       "\t HBE1 & chr11:5275247-5276247   & chr11:5275424-5276195  \\\\\n",
       "\t HBE1 & chr11:5503747-5505947   & chr11:5504314-5505017  \\\\\n",
       "\t HBE1 & chr11:5503747-5505947   & chr11:5505314-5506176  \\\\\n",
       "\t LMO2 & chr11:33937168-33938068 & chr11:33936760-33937819\\\\\n",
       "\\end{tabular}\n"
      ],
      "text/markdown": [
       "\n",
       "A tibble: 6 × 3\n",
       "\n",
       "| Gene_Symbol &lt;chr&gt; | Region_CASA &lt;chr&gt; | Region_OCR &lt;chr&gt; |\n",
       "|---|---|---|\n",
       "| HBG1 | chr11:5275847-5276247   | chr11:5275424-5276195   |\n",
       "| HBG2 | chr11:5275747-5276247   | chr11:5275424-5276195   |\n",
       "| HBE1 | chr11:5275247-5276247   | chr11:5275424-5276195   |\n",
       "| HBE1 | chr11:5503747-5505947   | chr11:5504314-5505017   |\n",
       "| HBE1 | chr11:5503747-5505947   | chr11:5505314-5506176   |\n",
       "| LMO2 | chr11:33937168-33938068 | chr11:33936760-33937819 |\n",
       "\n"
      ],
      "text/plain": [
       "  Gene_Symbol Region_CASA             Region_OCR             \n",
       "1 HBG1        chr11:5275847-5276247   chr11:5275424-5276195  \n",
       "2 HBG2        chr11:5275747-5276247   chr11:5275424-5276195  \n",
       "3 HBE1        chr11:5275247-5276247   chr11:5275424-5276195  \n",
       "4 HBE1        chr11:5503747-5505947   chr11:5504314-5505017  \n",
       "5 HBE1        chr11:5503747-5505947   chr11:5505314-5506176  \n",
       "6 LMO2        chr11:33937168-33938068 chr11:33936760-33937819"
      ]
     },
     "metadata": {},
     "output_type": "display_data"
    }
   ],
   "source": [
    "dat_loopA = lst_loop_annot_crispri_hcrff[[\"loopA\"]]\n",
    "dat_loopB = lst_loop_annot_ocr[[\"loopB\"]]\n",
    "\n",
    "dat = dplyr::inner_join(dat_loopA, dat_loopB, by=\"Region_Loop\", relationship = \"many-to-many\")\n",
    "dat = dat %>% dplyr::select(Gene_Symbol, Region_CASA, Region_OCR)\n",
    "\n",
    "dat_loopAB_casa_ocr = dat\n",
    "print(dim(dat))\n",
    "head(dat)"
   ]
  },
  {
   "cell_type": "code",
   "execution_count": 83,
   "metadata": {},
   "outputs": [
    {
     "name": "stdout",
     "output_type": "stream",
     "text": [
      "[1] 64  3\n"
     ]
    },
    {
     "data": {
      "text/html": [
       "<table class=\"dataframe\">\n",
       "<caption>A tibble: 6 × 3</caption>\n",
       "<thead>\n",
       "\t<tr><th scope=col>Gene_Symbol</th><th scope=col>Region_CASA</th><th scope=col>Region_OCR</th></tr>\n",
       "\t<tr><th scope=col>&lt;chr&gt;</th><th scope=col>&lt;chr&gt;</th><th scope=col>&lt;chr&gt;</th></tr>\n",
       "</thead>\n",
       "<tbody>\n",
       "\t<tr><td>HBG1</td><td>chr11:5275847-5276247  </td><td>chr11:5275424-5276195  </td></tr>\n",
       "\t<tr><td>HBG2</td><td>chr11:5275747-5276247  </td><td>chr11:5275424-5276195  </td></tr>\n",
       "\t<tr><td>HBE1</td><td>chr11:5275247-5276247  </td><td>chr11:5275424-5276195  </td></tr>\n",
       "\t<tr><td>HBE1</td><td>chr11:5503747-5505947  </td><td>chr11:5504314-5505017  </td></tr>\n",
       "\t<tr><td>HBE1</td><td>chr11:5503747-5505947  </td><td>chr11:5505314-5506176  </td></tr>\n",
       "\t<tr><td>LMO2</td><td>chr11:33937168-33938068</td><td>chr11:33936760-33937819</td></tr>\n",
       "</tbody>\n",
       "</table>\n"
      ],
      "text/latex": [
       "A tibble: 6 × 3\n",
       "\\begin{tabular}{lll}\n",
       " Gene\\_Symbol & Region\\_CASA & Region\\_OCR\\\\\n",
       " <chr> & <chr> & <chr>\\\\\n",
       "\\hline\n",
       "\t HBG1 & chr11:5275847-5276247   & chr11:5275424-5276195  \\\\\n",
       "\t HBG2 & chr11:5275747-5276247   & chr11:5275424-5276195  \\\\\n",
       "\t HBE1 & chr11:5275247-5276247   & chr11:5275424-5276195  \\\\\n",
       "\t HBE1 & chr11:5503747-5505947   & chr11:5504314-5505017  \\\\\n",
       "\t HBE1 & chr11:5503747-5505947   & chr11:5505314-5506176  \\\\\n",
       "\t LMO2 & chr11:33937168-33938068 & chr11:33936760-33937819\\\\\n",
       "\\end{tabular}\n"
      ],
      "text/markdown": [
       "\n",
       "A tibble: 6 × 3\n",
       "\n",
       "| Gene_Symbol &lt;chr&gt; | Region_CASA &lt;chr&gt; | Region_OCR &lt;chr&gt; |\n",
       "|---|---|---|\n",
       "| HBG1 | chr11:5275847-5276247   | chr11:5275424-5276195   |\n",
       "| HBG2 | chr11:5275747-5276247   | chr11:5275424-5276195   |\n",
       "| HBE1 | chr11:5275247-5276247   | chr11:5275424-5276195   |\n",
       "| HBE1 | chr11:5503747-5505947   | chr11:5504314-5505017   |\n",
       "| HBE1 | chr11:5503747-5505947   | chr11:5505314-5506176   |\n",
       "| LMO2 | chr11:33937168-33938068 | chr11:33936760-33937819 |\n",
       "\n"
      ],
      "text/plain": [
       "  Gene_Symbol Region_CASA             Region_OCR             \n",
       "1 HBG1        chr11:5275847-5276247   chr11:5275424-5276195  \n",
       "2 HBG2        chr11:5275747-5276247   chr11:5275424-5276195  \n",
       "3 HBE1        chr11:5275247-5276247   chr11:5275424-5276195  \n",
       "4 HBE1        chr11:5503747-5505947   chr11:5504314-5505017  \n",
       "5 HBE1        chr11:5503747-5505947   chr11:5505314-5506176  \n",
       "6 LMO2        chr11:33937168-33938068 chr11:33936760-33937819"
      ]
     },
     "metadata": {},
     "output_type": "display_data"
    }
   ],
   "source": [
    "dat_loopA = lst_loop_annot_ocr[[\"loopA\"]]\n",
    "dat_loopB = lst_loop_annot_crispri_hcrff[[\"loopB\"]]\n",
    "\n",
    "dat = dplyr::inner_join(dat_loopA, dat_loopB, by=\"Region_Loop\", relationship = \"many-to-many\")\n",
    "dat = dat %>% dplyr::select(Gene_Symbol, Region_CASA, Region_OCR)\n",
    "\n",
    "dat_loopAB_ocr_casa = dat\n",
    "print(dim(dat))\n",
    "head(dat)"
   ]
  },
  {
   "cell_type": "code",
   "execution_count": 84,
   "metadata": {},
   "outputs": [
    {
     "name": "stdout",
     "output_type": "stream",
     "text": [
      "[1] 58  3\n"
     ]
    },
    {
     "data": {
      "text/html": [
       "<table class=\"dataframe\">\n",
       "<caption>A tibble: 6 × 3</caption>\n",
       "<thead>\n",
       "\t<tr><th scope=col>Gene_Symbol</th><th scope=col>Region_CASA</th><th scope=col>Region_OCR</th></tr>\n",
       "\t<tr><th scope=col>&lt;chr&gt;</th><th scope=col>&lt;chr&gt;</th><th scope=col>&lt;chr&gt;</th></tr>\n",
       "</thead>\n",
       "<tbody>\n",
       "\t<tr><td>HBG1</td><td>chr11:5275847-5276247  </td><td>chr11:5275424-5276195  </td></tr>\n",
       "\t<tr><td>HBG2</td><td>chr11:5275747-5276247  </td><td>chr11:5275424-5276195  </td></tr>\n",
       "\t<tr><td>HBE1</td><td>chr11:5275247-5276247  </td><td>chr11:5275424-5276195  </td></tr>\n",
       "\t<tr><td>HBE1</td><td>chr11:5503747-5505947  </td><td>chr11:5504314-5505017  </td></tr>\n",
       "\t<tr><td>HBE1</td><td>chr11:5503747-5505947  </td><td>chr11:5505314-5506176  </td></tr>\n",
       "\t<tr><td>LMO2</td><td>chr11:33937168-33938068</td><td>chr11:33936760-33937819</td></tr>\n",
       "</tbody>\n",
       "</table>\n"
      ],
      "text/latex": [
       "A tibble: 6 × 3\n",
       "\\begin{tabular}{lll}\n",
       " Gene\\_Symbol & Region\\_CASA & Region\\_OCR\\\\\n",
       " <chr> & <chr> & <chr>\\\\\n",
       "\\hline\n",
       "\t HBG1 & chr11:5275847-5276247   & chr11:5275424-5276195  \\\\\n",
       "\t HBG2 & chr11:5275747-5276247   & chr11:5275424-5276195  \\\\\n",
       "\t HBE1 & chr11:5275247-5276247   & chr11:5275424-5276195  \\\\\n",
       "\t HBE1 & chr11:5503747-5505947   & chr11:5504314-5505017  \\\\\n",
       "\t HBE1 & chr11:5503747-5505947   & chr11:5505314-5506176  \\\\\n",
       "\t LMO2 & chr11:33937168-33938068 & chr11:33936760-33937819\\\\\n",
       "\\end{tabular}\n"
      ],
      "text/markdown": [
       "\n",
       "A tibble: 6 × 3\n",
       "\n",
       "| Gene_Symbol &lt;chr&gt; | Region_CASA &lt;chr&gt; | Region_OCR &lt;chr&gt; |\n",
       "|---|---|---|\n",
       "| HBG1 | chr11:5275847-5276247   | chr11:5275424-5276195   |\n",
       "| HBG2 | chr11:5275747-5276247   | chr11:5275424-5276195   |\n",
       "| HBE1 | chr11:5275247-5276247   | chr11:5275424-5276195   |\n",
       "| HBE1 | chr11:5503747-5505947   | chr11:5504314-5505017   |\n",
       "| HBE1 | chr11:5503747-5505947   | chr11:5505314-5506176   |\n",
       "| LMO2 | chr11:33937168-33938068 | chr11:33936760-33937819 |\n",
       "\n"
      ],
      "text/plain": [
       "  Gene_Symbol Region_CASA             Region_OCR             \n",
       "1 HBG1        chr11:5275847-5276247   chr11:5275424-5276195  \n",
       "2 HBG2        chr11:5275747-5276247   chr11:5275424-5276195  \n",
       "3 HBE1        chr11:5275247-5276247   chr11:5275424-5276195  \n",
       "4 HBE1        chr11:5503747-5505947   chr11:5504314-5505017  \n",
       "5 HBE1        chr11:5503747-5505947   chr11:5505314-5506176  \n",
       "6 LMO2        chr11:33937168-33938068 chr11:33936760-33937819"
      ]
     },
     "metadata": {},
     "output_type": "display_data"
    }
   ],
   "source": [
    "dat = bind_rows(dat_loopAB_casa_ocr, dat_loopAB_ocr_casa)\n",
    "dat = dat %>% dplyr::distinct()\n",
    "\n",
    "dat_loop_casa_ocr = dat\n",
    "print(dim(dat))\n",
    "head(dat)"
   ]
  },
  {
   "cell_type": "code",
   "execution_count": 85,
   "metadata": {},
   "outputs": [
    {
     "name": "stdout",
     "output_type": "stream",
     "text": [
      "[1] 66  5\n"
     ]
    },
    {
     "data": {
      "text/html": [
       "<table class=\"dataframe\">\n",
       "<caption>A tibble: 6 × 5</caption>\n",
       "<thead>\n",
       "\t<tr><th scope=col>Gene_Symbol</th><th scope=col>Region_CASA</th><th scope=col>Region_OCR</th><th scope=col>Region_TSS</th><th scope=col>Gene_TSS</th></tr>\n",
       "\t<tr><th scope=col>&lt;chr&gt;</th><th scope=col>&lt;chr&gt;</th><th scope=col>&lt;chr&gt;</th><th scope=col>&lt;chr&gt;</th><th scope=col>&lt;chr&gt;</th></tr>\n",
       "</thead>\n",
       "<tbody>\n",
       "\t<tr><td>HBG1</td><td>chr11:5275847-5276247  </td><td>chr11:5275424-5276195  </td><td>NA                   </td><td>NA    </td></tr>\n",
       "\t<tr><td>HBG2</td><td>chr11:5275747-5276247  </td><td>chr11:5275424-5276195  </td><td>NA                   </td><td>NA    </td></tr>\n",
       "\t<tr><td>HBE1</td><td>chr11:5275247-5276247  </td><td>chr11:5275424-5276195  </td><td>NA                   </td><td>NA    </td></tr>\n",
       "\t<tr><td>HBE1</td><td>chr11:5503747-5505947  </td><td>chr11:5504314-5505017  </td><td>NA                   </td><td>NA    </td></tr>\n",
       "\t<tr><td>HBE1</td><td>chr11:5503747-5505947  </td><td>chr11:5505314-5506176  </td><td>chr11:5505652-5505653</td><td>OR51B5</td></tr>\n",
       "\t<tr><td>LMO2</td><td>chr11:33937168-33938068</td><td>chr11:33936760-33937819</td><td>NA                   </td><td>NA    </td></tr>\n",
       "</tbody>\n",
       "</table>\n"
      ],
      "text/latex": [
       "A tibble: 6 × 5\n",
       "\\begin{tabular}{lllll}\n",
       " Gene\\_Symbol & Region\\_CASA & Region\\_OCR & Region\\_TSS & Gene\\_TSS\\\\\n",
       " <chr> & <chr> & <chr> & <chr> & <chr>\\\\\n",
       "\\hline\n",
       "\t HBG1 & chr11:5275847-5276247   & chr11:5275424-5276195   & NA                    & NA    \\\\\n",
       "\t HBG2 & chr11:5275747-5276247   & chr11:5275424-5276195   & NA                    & NA    \\\\\n",
       "\t HBE1 & chr11:5275247-5276247   & chr11:5275424-5276195   & NA                    & NA    \\\\\n",
       "\t HBE1 & chr11:5503747-5505947   & chr11:5504314-5505017   & NA                    & NA    \\\\\n",
       "\t HBE1 & chr11:5503747-5505947   & chr11:5505314-5506176   & chr11:5505652-5505653 & OR51B5\\\\\n",
       "\t LMO2 & chr11:33937168-33938068 & chr11:33936760-33937819 & NA                    & NA    \\\\\n",
       "\\end{tabular}\n"
      ],
      "text/markdown": [
       "\n",
       "A tibble: 6 × 5\n",
       "\n",
       "| Gene_Symbol &lt;chr&gt; | Region_CASA &lt;chr&gt; | Region_OCR &lt;chr&gt; | Region_TSS &lt;chr&gt; | Gene_TSS &lt;chr&gt; |\n",
       "|---|---|---|---|---|\n",
       "| HBG1 | chr11:5275847-5276247   | chr11:5275424-5276195   | NA                    | NA     |\n",
       "| HBG2 | chr11:5275747-5276247   | chr11:5275424-5276195   | NA                    | NA     |\n",
       "| HBE1 | chr11:5275247-5276247   | chr11:5275424-5276195   | NA                    | NA     |\n",
       "| HBE1 | chr11:5503747-5505947   | chr11:5504314-5505017   | NA                    | NA     |\n",
       "| HBE1 | chr11:5503747-5505947   | chr11:5505314-5506176   | chr11:5505652-5505653 | OR51B5 |\n",
       "| LMO2 | chr11:33937168-33938068 | chr11:33936760-33937819 | NA                    | NA     |\n",
       "\n"
      ],
      "text/plain": [
       "  Gene_Symbol Region_CASA             Region_OCR             \n",
       "1 HBG1        chr11:5275847-5276247   chr11:5275424-5276195  \n",
       "2 HBG2        chr11:5275747-5276247   chr11:5275424-5276195  \n",
       "3 HBE1        chr11:5275247-5276247   chr11:5275424-5276195  \n",
       "4 HBE1        chr11:5503747-5505947   chr11:5504314-5505017  \n",
       "5 HBE1        chr11:5503747-5505947   chr11:5505314-5506176  \n",
       "6 LMO2        chr11:33937168-33938068 chr11:33936760-33937819\n",
       "  Region_TSS            Gene_TSS\n",
       "1 NA                    NA      \n",
       "2 NA                    NA      \n",
       "3 NA                    NA      \n",
       "4 NA                    NA      \n",
       "5 chr11:5505652-5505653 OR51B5  \n",
       "6 NA                    NA      "
      ]
     },
     "metadata": {},
     "output_type": "display_data"
    }
   ],
   "source": [
    "dat = dplyr::left_join(\n",
    "    dat_loop_casa_ocr, \n",
    "    dat_ocr_tss, \n",
    "    by = \"Region_OCR\", \n",
    "    relationship = \"many-to-many\")\n",
    "\n",
    "dat_loop_casa_ocr_tss = dat\n",
    "print(dim(dat))\n",
    "head(dat)"
   ]
  },
  {
   "cell_type": "code",
   "execution_count": 95,
   "metadata": {},
   "outputs": [
    {
     "name": "stdout",
     "output_type": "stream",
     "text": [
      "[1] 24  5\n"
     ]
    }
   ],
   "source": [
    "dat = dat_loop_casa_ocr_tss\n",
    "dat = dat %>% na.omit\n",
    "print(dim(dat))"
   ]
  },
  {
   "cell_type": "code",
   "execution_count": 109,
   "metadata": {},
   "outputs": [
    {
     "name": "stdout",
     "output_type": "stream",
     "text": [
      "[1] 11  5\n"
     ]
    },
    {
     "data": {
      "text/html": [
       "<table class=\"dataframe\">\n",
       "<caption>A tibble: 11 × 5</caption>\n",
       "<thead>\n",
       "\t<tr><th scope=col>Gene_Tested</th><th scope=col>Region_CASA</th><th scope=col>Region_OCR</th><th scope=col>Region_TSS</th><th scope=col>Gene_TSS</th></tr>\n",
       "\t<tr><th scope=col>&lt;chr&gt;</th><th scope=col>&lt;chr&gt;</th><th scope=col>&lt;chr&gt;</th><th scope=col>&lt;chr&gt;</th><th scope=col>&lt;chr&gt;</th></tr>\n",
       "</thead>\n",
       "<tbody>\n",
       "\t<tr><td>CAPRIN1</td><td>chr11:34050971-34051471  </td><td>chr11:34051154-34053574  </td><td>chr11:34051730-34051731  </td><td>CAPRIN1</td></tr>\n",
       "\t<tr><td>CAT    </td><td>chr11:34437468-34440568  </td><td>chr11:34438322-34439455  </td><td>chr11:34438933-34438934  </td><td>CAT    </td></tr>\n",
       "\t<tr><td>FEN1   </td><td>chr11:61792000-61794000  </td><td>chr11:61792068-61793464  </td><td>chr11:61792910-61792911  </td><td>FEN1   </td></tr>\n",
       "\t<tr><td>FADS1  </td><td>chr11:61814000-61818400  </td><td>chr11:61814735-61817343  </td><td>chr11:61817003-61817004  </td><td>FADS1  </td></tr>\n",
       "\t<tr><td>FADS2  </td><td>chr11:61814500-61817200  </td><td>chr11:61814735-61817343  </td><td>chr11:61816202-61816203  </td><td>FADS2  </td></tr>\n",
       "\t<tr><td>ERP29  </td><td>chr12:112012926-112014926</td><td>chr12:112012488-112014471</td><td>chr12:112013347-112013348</td><td>ERP29  </td></tr>\n",
       "\t<tr><td>NMU    </td><td>chr4:55634441-55640941   </td><td>chr4:55635016-55637634   </td><td>chr4:55636298-55636299   </td><td>NMU    </td></tr>\n",
       "\t<tr><td>MEF2C  </td><td>chr5:88882114-88885514   </td><td>chr5:88882266-88884842   </td><td>chr5:88883184-88883185   </td><td>MEF2C  </td></tr>\n",
       "\t<tr><td>GATA1  </td><td>chrX:48786097-48786997   </td><td>chrX:48785773-48786737   </td><td>chrX:48786589-48786590   </td><td>GATA1  </td></tr>\n",
       "\t<tr><td>HDAC6  </td><td>chrX:48800297-48801097   </td><td>chrX:48800352-48802804   </td><td>chrX:48802066-48802067   </td><td>HDAC6  </td></tr>\n",
       "\t<tr><td>HDAC6  </td><td>chrX:48801697-48802997   </td><td>chrX:48800352-48802804   </td><td>chrX:48802066-48802067   </td><td>HDAC6  </td></tr>\n",
       "</tbody>\n",
       "</table>\n"
      ],
      "text/latex": [
       "A tibble: 11 × 5\n",
       "\\begin{tabular}{lllll}\n",
       " Gene\\_Tested & Region\\_CASA & Region\\_OCR & Region\\_TSS & Gene\\_TSS\\\\\n",
       " <chr> & <chr> & <chr> & <chr> & <chr>\\\\\n",
       "\\hline\n",
       "\t CAPRIN1 & chr11:34050971-34051471   & chr11:34051154-34053574   & chr11:34051730-34051731   & CAPRIN1\\\\\n",
       "\t CAT     & chr11:34437468-34440568   & chr11:34438322-34439455   & chr11:34438933-34438934   & CAT    \\\\\n",
       "\t FEN1    & chr11:61792000-61794000   & chr11:61792068-61793464   & chr11:61792910-61792911   & FEN1   \\\\\n",
       "\t FADS1   & chr11:61814000-61818400   & chr11:61814735-61817343   & chr11:61817003-61817004   & FADS1  \\\\\n",
       "\t FADS2   & chr11:61814500-61817200   & chr11:61814735-61817343   & chr11:61816202-61816203   & FADS2  \\\\\n",
       "\t ERP29   & chr12:112012926-112014926 & chr12:112012488-112014471 & chr12:112013347-112013348 & ERP29  \\\\\n",
       "\t NMU     & chr4:55634441-55640941    & chr4:55635016-55637634    & chr4:55636298-55636299    & NMU    \\\\\n",
       "\t MEF2C   & chr5:88882114-88885514    & chr5:88882266-88884842    & chr5:88883184-88883185    & MEF2C  \\\\\n",
       "\t GATA1   & chrX:48786097-48786997    & chrX:48785773-48786737    & chrX:48786589-48786590    & GATA1  \\\\\n",
       "\t HDAC6   & chrX:48800297-48801097    & chrX:48800352-48802804    & chrX:48802066-48802067    & HDAC6  \\\\\n",
       "\t HDAC6   & chrX:48801697-48802997    & chrX:48800352-48802804    & chrX:48802066-48802067    & HDAC6  \\\\\n",
       "\\end{tabular}\n"
      ],
      "text/markdown": [
       "\n",
       "A tibble: 11 × 5\n",
       "\n",
       "| Gene_Tested &lt;chr&gt; | Region_CASA &lt;chr&gt; | Region_OCR &lt;chr&gt; | Region_TSS &lt;chr&gt; | Gene_TSS &lt;chr&gt; |\n",
       "|---|---|---|---|---|\n",
       "| CAPRIN1 | chr11:34050971-34051471   | chr11:34051154-34053574   | chr11:34051730-34051731   | CAPRIN1 |\n",
       "| CAT     | chr11:34437468-34440568   | chr11:34438322-34439455   | chr11:34438933-34438934   | CAT     |\n",
       "| FEN1    | chr11:61792000-61794000   | chr11:61792068-61793464   | chr11:61792910-61792911   | FEN1    |\n",
       "| FADS1   | chr11:61814000-61818400   | chr11:61814735-61817343   | chr11:61817003-61817004   | FADS1   |\n",
       "| FADS2   | chr11:61814500-61817200   | chr11:61814735-61817343   | chr11:61816202-61816203   | FADS2   |\n",
       "| ERP29   | chr12:112012926-112014926 | chr12:112012488-112014471 | chr12:112013347-112013348 | ERP29   |\n",
       "| NMU     | chr4:55634441-55640941    | chr4:55635016-55637634    | chr4:55636298-55636299    | NMU     |\n",
       "| MEF2C   | chr5:88882114-88885514    | chr5:88882266-88884842    | chr5:88883184-88883185    | MEF2C   |\n",
       "| GATA1   | chrX:48786097-48786997    | chrX:48785773-48786737    | chrX:48786589-48786590    | GATA1   |\n",
       "| HDAC6   | chrX:48800297-48801097    | chrX:48800352-48802804    | chrX:48802066-48802067    | HDAC6   |\n",
       "| HDAC6   | chrX:48801697-48802997    | chrX:48800352-48802804    | chrX:48802066-48802067    | HDAC6   |\n",
       "\n"
      ],
      "text/plain": [
       "   Gene_Tested Region_CASA               Region_OCR               \n",
       "1  CAPRIN1     chr11:34050971-34051471   chr11:34051154-34053574  \n",
       "2  CAT         chr11:34437468-34440568   chr11:34438322-34439455  \n",
       "3  FEN1        chr11:61792000-61794000   chr11:61792068-61793464  \n",
       "4  FADS1       chr11:61814000-61818400   chr11:61814735-61817343  \n",
       "5  FADS2       chr11:61814500-61817200   chr11:61814735-61817343  \n",
       "6  ERP29       chr12:112012926-112014926 chr12:112012488-112014471\n",
       "7  NMU         chr4:55634441-55640941    chr4:55635016-55637634   \n",
       "8  MEF2C       chr5:88882114-88885514    chr5:88882266-88884842   \n",
       "9  GATA1       chrX:48786097-48786997    chrX:48785773-48786737   \n",
       "10 HDAC6       chrX:48800297-48801097    chrX:48800352-48802804   \n",
       "11 HDAC6       chrX:48801697-48802997    chrX:48800352-48802804   \n",
       "   Region_TSS                Gene_TSS\n",
       "1  chr11:34051730-34051731   CAPRIN1 \n",
       "2  chr11:34438933-34438934   CAT     \n",
       "3  chr11:61792910-61792911   FEN1    \n",
       "4  chr11:61817003-61817004   FADS1   \n",
       "5  chr11:61816202-61816203   FADS2   \n",
       "6  chr12:112013347-112013348 ERP29   \n",
       "7  chr4:55636298-55636299    NMU     \n",
       "8  chr5:88883184-88883185    MEF2C   \n",
       "9  chrX:48786589-48786590    GATA1   \n",
       "10 chrX:48802066-48802067    HDAC6   \n",
       "11 chrX:48802066-48802067    HDAC6   "
      ]
     },
     "metadata": {},
     "output_type": "display_data"
    }
   ],
   "source": [
    "dat = dat_loop_casa_ocr_tss\n",
    "colnames(dat)[1] = \"Gene_Tested\"\n",
    "dat = dat %>% dplyr::filter(Gene_Tested == Gene_TSS)\n",
    "print(dim(dat))\n",
    "dat"
   ]
  },
  {
   "cell_type": "markdown",
   "metadata": {},
   "source": [
    "**Report numbers**"
   ]
  },
  {
   "cell_type": "code",
   "execution_count": 103,
   "metadata": {},
   "outputs": [],
   "source": [
    "dat = dat_region_casa\n",
    "dat = dat %>% dplyr::group_by(Gene_Symbol) %>% dplyr::summarise(Count_Total = n())\n",
    "dat1 = dat"
   ]
  },
  {
   "cell_type": "code",
   "execution_count": 104,
   "metadata": {},
   "outputs": [],
   "source": [
    "dat = dat_loop_casa_ocr_tss\n",
    "dat = dat %>% dplyr::filter(Gene_Symbol == Gene_TSS)\n",
    "dat = dat %>% dplyr::group_by(Gene_Symbol) %>% dplyr::summarise(Count_Loop2TSS = n())\n",
    "dat2 = dat"
   ]
  },
  {
   "cell_type": "code",
   "execution_count": 112,
   "metadata": {},
   "outputs": [
    {
     "data": {
      "text/html": [
       "<table class=\"dataframe\">\n",
       "<caption>A tibble: 20 × 3</caption>\n",
       "<thead>\n",
       "\t<tr><th scope=col>Gene_Tested</th><th scope=col>Count_Total</th><th scope=col>Count_Loop2TSS</th></tr>\n",
       "\t<tr><th scope=col>&lt;chr&gt;</th><th scope=col>&lt;int&gt;</th><th scope=col>&lt;int&gt;</th></tr>\n",
       "</thead>\n",
       "<tbody>\n",
       "\t<tr><td>CAPRIN1</td><td> 4</td><td>1</td></tr>\n",
       "\t<tr><td>CAT    </td><td> 2</td><td>1</td></tr>\n",
       "\t<tr><td>CD164  </td><td> 5</td><td>0</td></tr>\n",
       "\t<tr><td>ERP29  </td><td> 4</td><td>1</td></tr>\n",
       "\t<tr><td>FADS1  </td><td> 5</td><td>1</td></tr>\n",
       "\t<tr><td>FADS2  </td><td> 4</td><td>1</td></tr>\n",
       "\t<tr><td>FADS3  </td><td> 6</td><td>0</td></tr>\n",
       "\t<tr><td>FEN1   </td><td> 2</td><td>1</td></tr>\n",
       "\t<tr><td>GATA1  </td><td> 3</td><td>1</td></tr>\n",
       "\t<tr><td>HBE1   </td><td> 6</td><td>0</td></tr>\n",
       "\t<tr><td>HBG1   </td><td>13</td><td>0</td></tr>\n",
       "\t<tr><td>HBG2   </td><td>13</td><td>0</td></tr>\n",
       "\t<tr><td>HBS1L  </td><td> 1</td><td>0</td></tr>\n",
       "\t<tr><td>HDAC6  </td><td> 3</td><td>2</td></tr>\n",
       "\t<tr><td>LMO2   </td><td> 6</td><td>0</td></tr>\n",
       "\t<tr><td>MEF2C  </td><td> 3</td><td>1</td></tr>\n",
       "\t<tr><td>MYB    </td><td> 4</td><td>0</td></tr>\n",
       "\t<tr><td>MYC    </td><td> 5</td><td>0</td></tr>\n",
       "\t<tr><td>NMU    </td><td>11</td><td>1</td></tr>\n",
       "\t<tr><td>PVT1   </td><td>13</td><td>0</td></tr>\n",
       "</tbody>\n",
       "</table>\n"
      ],
      "text/latex": [
       "A tibble: 20 × 3\n",
       "\\begin{tabular}{lll}\n",
       " Gene\\_Tested & Count\\_Total & Count\\_Loop2TSS\\\\\n",
       " <chr> & <int> & <int>\\\\\n",
       "\\hline\n",
       "\t CAPRIN1 &  4 & 1\\\\\n",
       "\t CAT     &  2 & 1\\\\\n",
       "\t CD164   &  5 & 0\\\\\n",
       "\t ERP29   &  4 & 1\\\\\n",
       "\t FADS1   &  5 & 1\\\\\n",
       "\t FADS2   &  4 & 1\\\\\n",
       "\t FADS3   &  6 & 0\\\\\n",
       "\t FEN1    &  2 & 1\\\\\n",
       "\t GATA1   &  3 & 1\\\\\n",
       "\t HBE1    &  6 & 0\\\\\n",
       "\t HBG1    & 13 & 0\\\\\n",
       "\t HBG2    & 13 & 0\\\\\n",
       "\t HBS1L   &  1 & 0\\\\\n",
       "\t HDAC6   &  3 & 2\\\\\n",
       "\t LMO2    &  6 & 0\\\\\n",
       "\t MEF2C   &  3 & 1\\\\\n",
       "\t MYB     &  4 & 0\\\\\n",
       "\t MYC     &  5 & 0\\\\\n",
       "\t NMU     & 11 & 1\\\\\n",
       "\t PVT1    & 13 & 0\\\\\n",
       "\\end{tabular}\n"
      ],
      "text/markdown": [
       "\n",
       "A tibble: 20 × 3\n",
       "\n",
       "| Gene_Tested &lt;chr&gt; | Count_Total &lt;int&gt; | Count_Loop2TSS &lt;int&gt; |\n",
       "|---|---|---|\n",
       "| CAPRIN1 |  4 | 1 |\n",
       "| CAT     |  2 | 1 |\n",
       "| CD164   |  5 | 0 |\n",
       "| ERP29   |  4 | 1 |\n",
       "| FADS1   |  5 | 1 |\n",
       "| FADS2   |  4 | 1 |\n",
       "| FADS3   |  6 | 0 |\n",
       "| FEN1    |  2 | 1 |\n",
       "| GATA1   |  3 | 1 |\n",
       "| HBE1    |  6 | 0 |\n",
       "| HBG1    | 13 | 0 |\n",
       "| HBG2    | 13 | 0 |\n",
       "| HBS1L   |  1 | 0 |\n",
       "| HDAC6   |  3 | 2 |\n",
       "| LMO2    |  6 | 0 |\n",
       "| MEF2C   |  3 | 1 |\n",
       "| MYB     |  4 | 0 |\n",
       "| MYC     |  5 | 0 |\n",
       "| NMU     | 11 | 1 |\n",
       "| PVT1    | 13 | 0 |\n",
       "\n"
      ],
      "text/plain": [
       "   Gene_Tested Count_Total Count_Loop2TSS\n",
       "1  CAPRIN1      4          1             \n",
       "2  CAT          2          1             \n",
       "3  CD164        5          0             \n",
       "4  ERP29        4          1             \n",
       "5  FADS1        5          1             \n",
       "6  FADS2        4          1             \n",
       "7  FADS3        6          0             \n",
       "8  FEN1         2          1             \n",
       "9  GATA1        3          1             \n",
       "10 HBE1         6          0             \n",
       "11 HBG1        13          0             \n",
       "12 HBG2        13          0             \n",
       "13 HBS1L        1          0             \n",
       "14 HDAC6        3          2             \n",
       "15 LMO2         6          0             \n",
       "16 MEF2C        3          1             \n",
       "17 MYB          4          0             \n",
       "18 MYC          5          0             \n",
       "19 NMU         11          1             \n",
       "20 PVT1        13          0             "
      ]
     },
     "metadata": {},
     "output_type": "display_data"
    }
   ],
   "source": [
    "dat = dplyr::left_join(dat1, dat2, by=\"Gene_Symbol\")\n",
    "dat[is.na(dat)] = 0\n",
    "colnames(dat)[1] = \"Gene_Tested\"\n",
    "dat"
   ]
  },
  {
   "cell_type": "code",
   "execution_count": null,
   "metadata": {},
   "outputs": [],
   "source": []
  }
 ],
 "metadata": {
  "kernelspec": {
   "display_name": "R",
   "language": "R",
   "name": "ir"
  },
  "language_info": {
   "codemirror_mode": "r",
   "file_extension": ".r",
   "mimetype": "text/x-r-source",
   "name": "R",
   "pygments_lexer": "r",
   "version": "4.3.0"
  }
 },
 "nbformat": 4,
 "nbformat_minor": 4
}
