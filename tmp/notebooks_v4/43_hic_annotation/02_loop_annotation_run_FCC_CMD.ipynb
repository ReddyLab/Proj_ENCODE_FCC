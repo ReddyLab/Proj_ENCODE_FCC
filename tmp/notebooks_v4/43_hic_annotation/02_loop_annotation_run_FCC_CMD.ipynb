{
 "cells": [
  {
   "cell_type": "markdown",
   "id": "14822c17-5d3c-4244-af1b-f9700e14be13",
   "metadata": {},
   "source": [
    "**Set environment**"
   ]
  },
  {
   "cell_type": "code",
   "execution_count": 1,
   "id": "7daba40b-102d-4cc8-9457-e8facb806ead",
   "metadata": {},
   "outputs": [
    {
     "name": "stdout",
     "output_type": "stream",
     "text": [
      "You are on Duke Server: HARDAC\n",
      "BASE DIRECTORY (FD_BASE): /data/reddylab/Kuei\n",
      "WORK DIRECTORY (FD_WORK): /data/reddylab/Kuei/out\n",
      "CODE DIRECTORY (FD_CODE): /data/reddylab/Kuei/code\n",
      "SING DIRECTORY (FD_SING): /data/reddylab/Kuei/singularity\n",
      "PATH OF PROJECT (FD_PRJ): /data/reddylab/Kuei/code/Proj_CombEffect_ENCODE_FCC\n",
      "PATH OF RESULTS (FD_RES): /data/reddylab/Kuei/out/proj_combeffect_encode_fcc\n",
      "PATH OF LOG     (FD_LOG): /data/reddylab/Kuei/out/proj_combeffect_encode_fcc/log\n",
      "\n"
     ]
    }
   ],
   "source": [
    "### set env\n",
    "source ../config/config_duke.sh\n",
    "source ../config/config_load_module_bedtools.sh\n",
    "show_env"
   ]
  },
  {
   "cell_type": "markdown",
   "id": "1bed12e0-8bcc-466f-ab09-427e1f8ddae6",
   "metadata": {},
   "source": [
    "## Region to annotation: Loop anchors"
   ]
  },
  {
   "cell_type": "markdown",
   "id": "677b94ac-759b-4467-a150-f626ca6b114b",
   "metadata": {},
   "source": [
    "**Check data**"
   ]
  },
  {
   "cell_type": "code",
   "execution_count": 2,
   "id": "cdaa1a15-84d8-44b5-aa7f-a33391fd3c73",
   "metadata": {},
   "outputs": [
    {
     "name": "stdout",
     "output_type": "stream",
     "text": [
      "\u001b[0m\u001b[38;5;9m/data/reddylab/Kuei/out/proj_combeffect_encode_fcc/results/region/hic_intact_ENCSR479XDG/loop/loopA.bed.gz\u001b[0m\u001b[K\n",
      "\u001b[38;5;9m/data/reddylab/Kuei/out/proj_combeffect_encode_fcc/results/region/hic_intact_ENCSR479XDG/loop/loopB.bed.gz\u001b[0m\u001b[K\n",
      "/data/reddylab/Kuei/out/proj_combeffect_encode_fcc/results/region/hic_intact_ENCSR479XDG/loop/loop.tsv\n"
     ]
    }
   ],
   "source": [
    "ls -1 ${FD_RES}/results/region/hic_intact_ENCSR479XDG/loop/loop*"
   ]
  },
  {
   "cell_type": "code",
   "execution_count": 3,
   "id": "9b919ff2-3459-4f8f-ad84-7c402d5312a6",
   "metadata": {},
   "outputs": [
    {
     "name": "stdout",
     "output_type": "stream",
     "text": [
      "\u001b[0m\u001b[38;5;9m/data/reddylab/Kuei/out/proj_combeffect_encode_fcc/results/region/hic_intact_deep/loop/loopA.bed.gz\u001b[0m\u001b[K\n",
      "\u001b[38;5;9m/data/reddylab/Kuei/out/proj_combeffect_encode_fcc/results/region/hic_intact_deep/loop/loopB.bed.gz\u001b[0m\u001b[K\n",
      "/data/reddylab/Kuei/out/proj_combeffect_encode_fcc/results/region/hic_intact_deep/loop/loop.tsv\n"
     ]
    }
   ],
   "source": [
    "ls -1 ${FD_RES}/results/region/hic_intact_deep/loop/loop*"
   ]
  },
  {
   "cell_type": "code",
   "execution_count": 4,
   "id": "46f91315-620f-4bf8-8591-e87fbd88acbe",
   "metadata": {},
   "outputs": [
    {
     "name": "stdout",
     "output_type": "stream",
     "text": [
      "\u001b[0m\u001b[38;5;9m/data/reddylab/Kuei/out/proj_combeffect_encode_fcc/results/region/hic_intact_ENCSR479XDG/loop/loopA.bed.gz\u001b[0m\u001b[K\n",
      "\u001b[38;5;9m/data/reddylab/Kuei/out/proj_combeffect_encode_fcc/results/region/hic_intact_ENCSR479XDG/loop/loopB.bed.gz\u001b[0m\u001b[K\n",
      "\u001b[0m\u001b[38;5;9m/data/reddylab/Kuei/out/proj_combeffect_encode_fcc/results/region/hic_intact_deep/loop/loopA.bed.gz\u001b[0m\u001b[K\n",
      "\u001b[38;5;9m/data/reddylab/Kuei/out/proj_combeffect_encode_fcc/results/region/hic_intact_deep/loop/loopB.bed.gz\u001b[0m\u001b[K\n"
     ]
    }
   ],
   "source": [
    "for FOLDER_LOOP in \"hic_intact_ENCSR479XDG\" \"hic_intact_deep\"; do\n",
    "    ls ${FD_RES}/results/region/${FOLDER_LOOP}/loop/loop*.bed.gz\n",
    "done"
   ]
  },
  {
   "cell_type": "markdown",
   "id": "75824190-dd2c-4b0e-a58e-89e366437e83",
   "metadata": {},
   "source": [
    "## Annotation"
   ]
  },
  {
   "cell_type": "markdown",
   "id": "a40e3d10-dc00-402a-8355-501e222bbfd1",
   "metadata": {},
   "source": [
    "**Check data**"
   ]
  },
  {
   "cell_type": "markdown",
   "id": "e14e666e-7d28-404b-ab48-c2e66ab9e6ce",
   "metadata": {},
   "source": [
    "**Check output**"
   ]
  },
  {
   "cell_type": "markdown",
   "id": "49cd2ee2-9c63-4673-88e4-39e15408ac9a",
   "metadata": {},
   "source": [
    "**Execute**"
   ]
  },
  {
   "cell_type": "markdown",
   "id": "2a44a7ef-9a54-4d52-b107-e49456cba4d8",
   "metadata": {},
   "source": [
    "**Check results**"
   ]
  },
  {
   "cell_type": "markdown",
   "id": "286776d6-88d4-4b3c-8cb1-09cbc528fac8",
   "metadata": {},
   "source": [
    "## Annotation: Enhancer calls from Junke"
   ]
  },
  {
   "cell_type": "markdown",
   "id": "10d19213-4a0d-493b-8f09-6d0979f0edea",
   "metadata": {},
   "source": [
    "**Check data**"
   ]
  },
  {
   "cell_type": "code",
   "execution_count": 5,
   "id": "c6443c82-3e52-4fbd-9fb6-d97dbc86a42f",
   "metadata": {},
   "outputs": [
    {
     "name": "stdout",
     "output_type": "stream",
     "text": [
      "enhancer_zscore_junke.peak.ASTARR_AB.bed.gz\n",
      "enhancer_zscore_junke.peak.ASTARR_A.bed.gz\n",
      "enhancer_zscore_junke.peak.ASTARR_R.bed.gz\n",
      "enhancer_zscore_junke.peak.LMPRA_AB.bed.gz\n",
      "enhancer_zscore_junke.peak.LMPRA_A.bed.gz\n",
      "enhancer_zscore_junke.peak.LMPRA_R.bed.gz\n",
      "enhancer_zscore_junke.peak.TMPRA_A.bed.gz\n",
      "enhancer_zscore_junke.peak.TMPRA_R.bed.gz\n",
      "enhancer_zscore_junke.peak.WSTARR_AB.bed.gz\n",
      "enhancer_zscore_junke.peak.WSTARR_A.bed.gz\n",
      "enhancer_zscore_junke.peak.WSTARR_R.bed.gz\n"
     ]
    }
   ],
   "source": [
    "FOLDER_ANT=annotation_enhancer_zscore_junke\n",
    "FD_ANT=${FD_RES}/results/region/${FOLDER_ANT}\n",
    "FP_ANTS=($(ls ${FD_ANT}/*bed.gz))\n",
    "\n",
    "basename -a ${FP_ANTS[@]}"
   ]
  },
  {
   "cell_type": "markdown",
   "id": "c2377f2b-37dc-453d-82f8-963c5bf8ac64",
   "metadata": {},
   "source": [
    "**Check output**"
   ]
  },
  {
   "cell_type": "code",
   "execution_count": 9,
   "id": "0d6020a1-edf6-48ed-a622-a1e07a4ee47e",
   "metadata": {},
   "outputs": [
    {
     "name": "stdout",
     "output_type": "stream",
     "text": [
      "\n",
      "\n"
     ]
    }
   ],
   "source": [
    "FOLDER_ANT=annotation_enhancer_zscore_junke\n",
    "\n",
    "for FOLDER_LOOP in \"hic_intact_ENCSR479XDG\" \"hic_intact_deep\"; do\n",
    "    FD_OUT=${FD_RES}/results/region/${FOLDER_LOOP}/loop/${FOLDER_ANT}\n",
    "    #ls -d ${FD_OUT}\n",
    "    #rm ${FD_OUT}/loop*bed.gz\n",
    "    echo\n",
    "done"
   ]
  },
  {
   "cell_type": "code",
   "execution_count": 10,
   "id": "d9ab71da-395c-4abb-adf6-5435dfd01942",
   "metadata": {},
   "outputs": [
    {
     "name": "stdout",
     "output_type": "stream",
     "text": [
      "\u001b[0m\u001b[38;5;27m/data/reddylab/Kuei/out/proj_combeffect_encode_fcc/results/region/hic_intact_ENCSR479XDG/loop/annotation_enhancer_zscore_junke\u001b[0m\u001b[K\n",
      "\n",
      "\u001b[0m\u001b[38;5;27m/data/reddylab/Kuei/out/proj_combeffect_encode_fcc/results/region/hic_intact_deep/loop/annotation_enhancer_zscore_junke\u001b[0m\u001b[K\n",
      "\n"
     ]
    }
   ],
   "source": [
    "FOLDER_ANT=annotation_enhancer_zscore_junke\n",
    "\n",
    "for FOLDER_LOOP in \"hic_intact_ENCSR479XDG\" \"hic_intact_deep\"; do\n",
    "    FD_OUT=${FD_RES}/results/region/${FOLDER_LOOP}/loop/${FOLDER_ANT}\n",
    "    ls -d ${FD_OUT}\n",
    "    ls ${FD_OUT}\n",
    "    echo\n",
    "done"
   ]
  },
  {
   "cell_type": "markdown",
   "id": "84cae88e-b065-4f03-899c-0d69f6aead03",
   "metadata": {},
   "source": [
    "**Execute**"
   ]
  },
  {
   "cell_type": "code",
   "execution_count": 11,
   "id": "a88886da-5764-40d9-b454-f55566aca354",
   "metadata": {
    "collapsed": true,
    "jupyter": {
     "outputs_hidden": true
    },
    "tags": []
   },
   "outputs": [
    {
     "name": "stdout",
     "output_type": "stream",
     "text": [
      "=======================================\n",
      "File Prefix (Annotation): enhancer_zscore_junke.peak.ASTARR_AB\n",
      "File Name   (Annotation): enhancer_zscore_junke.peak.ASTARR_AB.bed.gz\n",
      "\n",
      "+++++++++++++++++++++++++++++++++++++++\n",
      "File FOLDER (LOOP): hic_intact_ENCSR479XDG\n",
      "\n",
      "File Name (Region): loopA.bed.gz\n",
      "File Name (Output): loopA.annotation.enhancer_zscore_junke.peak.ASTARR_AB.bed.gz\n",
      "File Path (Log):    ${FD_LOG}/annotation.hic_intact_ENCSR479XDG.loopA.enhancer_zscore_junke.peak.ASTARR_AB.0.txt\n",
      "\n",
      "Submitted batch job 30010278\n",
      "\n",
      "File Name (Region): loopB.bed.gz\n",
      "File Name (Output): loopB.annotation.enhancer_zscore_junke.peak.ASTARR_AB.bed.gz\n",
      "File Path (Log):    ${FD_LOG}/annotation.hic_intact_ENCSR479XDG.loopB.enhancer_zscore_junke.peak.ASTARR_AB.0.txt\n",
      "\n",
      "Submitted batch job 30010279\n",
      "\n",
      "+++++++++++++++++++++++++++++++++++++++\n",
      "File FOLDER (LOOP): hic_intact_deep\n",
      "\n",
      "File Name (Region): loopA.bed.gz\n",
      "File Name (Output): loopA.annotation.enhancer_zscore_junke.peak.ASTARR_AB.bed.gz\n",
      "File Path (Log):    ${FD_LOG}/annotation.hic_intact_deep.loopA.enhancer_zscore_junke.peak.ASTARR_AB.0.txt\n",
      "\n",
      "Submitted batch job 30010280\n",
      "\n",
      "File Name (Region): loopB.bed.gz\n",
      "File Name (Output): loopB.annotation.enhancer_zscore_junke.peak.ASTARR_AB.bed.gz\n",
      "File Path (Log):    ${FD_LOG}/annotation.hic_intact_deep.loopB.enhancer_zscore_junke.peak.ASTARR_AB.0.txt\n",
      "\n",
      "Submitted batch job 30010281\n",
      "\n",
      "=======================================\n",
      "File Prefix (Annotation): enhancer_zscore_junke.peak.ASTARR_A\n",
      "File Name   (Annotation): enhancer_zscore_junke.peak.ASTARR_A.bed.gz\n",
      "\n",
      "+++++++++++++++++++++++++++++++++++++++\n",
      "File FOLDER (LOOP): hic_intact_ENCSR479XDG\n",
      "\n",
      "File Name (Region): loopA.bed.gz\n",
      "File Name (Output): loopA.annotation.enhancer_zscore_junke.peak.ASTARR_A.bed.gz\n",
      "File Path (Log):    ${FD_LOG}/annotation.hic_intact_ENCSR479XDG.loopA.enhancer_zscore_junke.peak.ASTARR_A.0.txt\n",
      "\n",
      "Submitted batch job 30010282\n",
      "\n",
      "File Name (Region): loopB.bed.gz\n",
      "File Name (Output): loopB.annotation.enhancer_zscore_junke.peak.ASTARR_A.bed.gz\n",
      "File Path (Log):    ${FD_LOG}/annotation.hic_intact_ENCSR479XDG.loopB.enhancer_zscore_junke.peak.ASTARR_A.0.txt\n",
      "\n",
      "Submitted batch job 30010283\n",
      "\n",
      "+++++++++++++++++++++++++++++++++++++++\n",
      "File FOLDER (LOOP): hic_intact_deep\n",
      "\n",
      "File Name (Region): loopA.bed.gz\n",
      "File Name (Output): loopA.annotation.enhancer_zscore_junke.peak.ASTARR_A.bed.gz\n",
      "File Path (Log):    ${FD_LOG}/annotation.hic_intact_deep.loopA.enhancer_zscore_junke.peak.ASTARR_A.0.txt\n",
      "\n",
      "Submitted batch job 30010284\n",
      "\n",
      "File Name (Region): loopB.bed.gz\n",
      "File Name (Output): loopB.annotation.enhancer_zscore_junke.peak.ASTARR_A.bed.gz\n",
      "File Path (Log):    ${FD_LOG}/annotation.hic_intact_deep.loopB.enhancer_zscore_junke.peak.ASTARR_A.0.txt\n",
      "\n",
      "Submitted batch job 30010285\n",
      "\n",
      "=======================================\n",
      "File Prefix (Annotation): enhancer_zscore_junke.peak.ASTARR_R\n",
      "File Name   (Annotation): enhancer_zscore_junke.peak.ASTARR_R.bed.gz\n",
      "\n",
      "+++++++++++++++++++++++++++++++++++++++\n",
      "File FOLDER (LOOP): hic_intact_ENCSR479XDG\n",
      "\n",
      "File Name (Region): loopA.bed.gz\n",
      "File Name (Output): loopA.annotation.enhancer_zscore_junke.peak.ASTARR_R.bed.gz\n",
      "File Path (Log):    ${FD_LOG}/annotation.hic_intact_ENCSR479XDG.loopA.enhancer_zscore_junke.peak.ASTARR_R.0.txt\n",
      "\n",
      "Submitted batch job 30010286\n",
      "\n",
      "File Name (Region): loopB.bed.gz\n",
      "File Name (Output): loopB.annotation.enhancer_zscore_junke.peak.ASTARR_R.bed.gz\n",
      "File Path (Log):    ${FD_LOG}/annotation.hic_intact_ENCSR479XDG.loopB.enhancer_zscore_junke.peak.ASTARR_R.0.txt\n",
      "\n",
      "Submitted batch job 30010287\n",
      "\n",
      "+++++++++++++++++++++++++++++++++++++++\n",
      "File FOLDER (LOOP): hic_intact_deep\n",
      "\n",
      "File Name (Region): loopA.bed.gz\n",
      "File Name (Output): loopA.annotation.enhancer_zscore_junke.peak.ASTARR_R.bed.gz\n",
      "File Path (Log):    ${FD_LOG}/annotation.hic_intact_deep.loopA.enhancer_zscore_junke.peak.ASTARR_R.0.txt\n",
      "\n",
      "Submitted batch job 30010288\n",
      "\n",
      "File Name (Region): loopB.bed.gz\n",
      "File Name (Output): loopB.annotation.enhancer_zscore_junke.peak.ASTARR_R.bed.gz\n",
      "File Path (Log):    ${FD_LOG}/annotation.hic_intact_deep.loopB.enhancer_zscore_junke.peak.ASTARR_R.0.txt\n",
      "\n",
      "Submitted batch job 30010289\n",
      "\n",
      "=======================================\n",
      "File Prefix (Annotation): enhancer_zscore_junke.peak.LMPRA_AB\n",
      "File Name   (Annotation): enhancer_zscore_junke.peak.LMPRA_AB.bed.gz\n",
      "\n",
      "+++++++++++++++++++++++++++++++++++++++\n",
      "File FOLDER (LOOP): hic_intact_ENCSR479XDG\n",
      "\n",
      "File Name (Region): loopA.bed.gz\n",
      "File Name (Output): loopA.annotation.enhancer_zscore_junke.peak.LMPRA_AB.bed.gz\n",
      "File Path (Log):    ${FD_LOG}/annotation.hic_intact_ENCSR479XDG.loopA.enhancer_zscore_junke.peak.LMPRA_AB.0.txt\n",
      "\n",
      "Submitted batch job 30010290\n",
      "\n",
      "File Name (Region): loopB.bed.gz\n",
      "File Name (Output): loopB.annotation.enhancer_zscore_junke.peak.LMPRA_AB.bed.gz\n",
      "File Path (Log):    ${FD_LOG}/annotation.hic_intact_ENCSR479XDG.loopB.enhancer_zscore_junke.peak.LMPRA_AB.0.txt\n",
      "\n",
      "Submitted batch job 30010291\n",
      "\n",
      "+++++++++++++++++++++++++++++++++++++++\n",
      "File FOLDER (LOOP): hic_intact_deep\n",
      "\n",
      "File Name (Region): loopA.bed.gz\n",
      "File Name (Output): loopA.annotation.enhancer_zscore_junke.peak.LMPRA_AB.bed.gz\n",
      "File Path (Log):    ${FD_LOG}/annotation.hic_intact_deep.loopA.enhancer_zscore_junke.peak.LMPRA_AB.0.txt\n",
      "\n",
      "Submitted batch job 30010292\n",
      "\n",
      "File Name (Region): loopB.bed.gz\n",
      "File Name (Output): loopB.annotation.enhancer_zscore_junke.peak.LMPRA_AB.bed.gz\n",
      "File Path (Log):    ${FD_LOG}/annotation.hic_intact_deep.loopB.enhancer_zscore_junke.peak.LMPRA_AB.0.txt\n",
      "\n",
      "Submitted batch job 30010293\n",
      "\n",
      "=======================================\n",
      "File Prefix (Annotation): enhancer_zscore_junke.peak.LMPRA_A\n",
      "File Name   (Annotation): enhancer_zscore_junke.peak.LMPRA_A.bed.gz\n",
      "\n",
      "+++++++++++++++++++++++++++++++++++++++\n",
      "File FOLDER (LOOP): hic_intact_ENCSR479XDG\n",
      "\n",
      "File Name (Region): loopA.bed.gz\n",
      "File Name (Output): loopA.annotation.enhancer_zscore_junke.peak.LMPRA_A.bed.gz\n",
      "File Path (Log):    ${FD_LOG}/annotation.hic_intact_ENCSR479XDG.loopA.enhancer_zscore_junke.peak.LMPRA_A.0.txt\n",
      "\n",
      "Submitted batch job 30010294\n",
      "\n",
      "File Name (Region): loopB.bed.gz\n",
      "File Name (Output): loopB.annotation.enhancer_zscore_junke.peak.LMPRA_A.bed.gz\n",
      "File Path (Log):    ${FD_LOG}/annotation.hic_intact_ENCSR479XDG.loopB.enhancer_zscore_junke.peak.LMPRA_A.0.txt\n",
      "\n",
      "Submitted batch job 30010295\n",
      "\n",
      "+++++++++++++++++++++++++++++++++++++++\n",
      "File FOLDER (LOOP): hic_intact_deep\n",
      "\n",
      "File Name (Region): loopA.bed.gz\n",
      "File Name (Output): loopA.annotation.enhancer_zscore_junke.peak.LMPRA_A.bed.gz\n",
      "File Path (Log):    ${FD_LOG}/annotation.hic_intact_deep.loopA.enhancer_zscore_junke.peak.LMPRA_A.0.txt\n",
      "\n",
      "Submitted batch job 30010296\n",
      "\n",
      "File Name (Region): loopB.bed.gz\n",
      "File Name (Output): loopB.annotation.enhancer_zscore_junke.peak.LMPRA_A.bed.gz\n",
      "File Path (Log):    ${FD_LOG}/annotation.hic_intact_deep.loopB.enhancer_zscore_junke.peak.LMPRA_A.0.txt\n",
      "\n",
      "Submitted batch job 30010297\n",
      "\n",
      "=======================================\n",
      "File Prefix (Annotation): enhancer_zscore_junke.peak.LMPRA_R\n",
      "File Name   (Annotation): enhancer_zscore_junke.peak.LMPRA_R.bed.gz\n",
      "\n",
      "+++++++++++++++++++++++++++++++++++++++\n",
      "File FOLDER (LOOP): hic_intact_ENCSR479XDG\n",
      "\n",
      "File Name (Region): loopA.bed.gz\n",
      "File Name (Output): loopA.annotation.enhancer_zscore_junke.peak.LMPRA_R.bed.gz\n",
      "File Path (Log):    ${FD_LOG}/annotation.hic_intact_ENCSR479XDG.loopA.enhancer_zscore_junke.peak.LMPRA_R.0.txt\n",
      "\n",
      "Submitted batch job 30010298\n",
      "\n",
      "File Name (Region): loopB.bed.gz\n",
      "File Name (Output): loopB.annotation.enhancer_zscore_junke.peak.LMPRA_R.bed.gz\n",
      "File Path (Log):    ${FD_LOG}/annotation.hic_intact_ENCSR479XDG.loopB.enhancer_zscore_junke.peak.LMPRA_R.0.txt\n",
      "\n",
      "Submitted batch job 30010299\n",
      "\n",
      "+++++++++++++++++++++++++++++++++++++++\n",
      "File FOLDER (LOOP): hic_intact_deep\n",
      "\n",
      "File Name (Region): loopA.bed.gz\n",
      "File Name (Output): loopA.annotation.enhancer_zscore_junke.peak.LMPRA_R.bed.gz\n",
      "File Path (Log):    ${FD_LOG}/annotation.hic_intact_deep.loopA.enhancer_zscore_junke.peak.LMPRA_R.0.txt\n",
      "\n",
      "Submitted batch job 30010300\n",
      "\n",
      "File Name (Region): loopB.bed.gz\n",
      "File Name (Output): loopB.annotation.enhancer_zscore_junke.peak.LMPRA_R.bed.gz\n",
      "File Path (Log):    ${FD_LOG}/annotation.hic_intact_deep.loopB.enhancer_zscore_junke.peak.LMPRA_R.0.txt\n",
      "\n",
      "Submitted batch job 30010301\n",
      "\n",
      "=======================================\n",
      "File Prefix (Annotation): enhancer_zscore_junke.peak.TMPRA_A\n",
      "File Name   (Annotation): enhancer_zscore_junke.peak.TMPRA_A.bed.gz\n",
      "\n",
      "+++++++++++++++++++++++++++++++++++++++\n",
      "File FOLDER (LOOP): hic_intact_ENCSR479XDG\n",
      "\n",
      "File Name (Region): loopA.bed.gz\n",
      "File Name (Output): loopA.annotation.enhancer_zscore_junke.peak.TMPRA_A.bed.gz\n",
      "File Path (Log):    ${FD_LOG}/annotation.hic_intact_ENCSR479XDG.loopA.enhancer_zscore_junke.peak.TMPRA_A.0.txt\n",
      "\n",
      "Submitted batch job 30010302\n",
      "\n",
      "File Name (Region): loopB.bed.gz\n",
      "File Name (Output): loopB.annotation.enhancer_zscore_junke.peak.TMPRA_A.bed.gz\n",
      "File Path (Log):    ${FD_LOG}/annotation.hic_intact_ENCSR479XDG.loopB.enhancer_zscore_junke.peak.TMPRA_A.0.txt\n",
      "\n",
      "Submitted batch job 30010303\n",
      "\n",
      "+++++++++++++++++++++++++++++++++++++++\n",
      "File FOLDER (LOOP): hic_intact_deep\n",
      "\n",
      "File Name (Region): loopA.bed.gz\n",
      "File Name (Output): loopA.annotation.enhancer_zscore_junke.peak.TMPRA_A.bed.gz\n",
      "File Path (Log):    ${FD_LOG}/annotation.hic_intact_deep.loopA.enhancer_zscore_junke.peak.TMPRA_A.0.txt\n",
      "\n",
      "Submitted batch job 30010304\n",
      "\n",
      "File Name (Region): loopB.bed.gz\n",
      "File Name (Output): loopB.annotation.enhancer_zscore_junke.peak.TMPRA_A.bed.gz\n",
      "File Path (Log):    ${FD_LOG}/annotation.hic_intact_deep.loopB.enhancer_zscore_junke.peak.TMPRA_A.0.txt\n",
      "\n",
      "Submitted batch job 30010305\n",
      "\n",
      "=======================================\n",
      "File Prefix (Annotation): enhancer_zscore_junke.peak.TMPRA_R\n",
      "File Name   (Annotation): enhancer_zscore_junke.peak.TMPRA_R.bed.gz\n",
      "\n",
      "+++++++++++++++++++++++++++++++++++++++\n",
      "File FOLDER (LOOP): hic_intact_ENCSR479XDG\n",
      "\n",
      "File Name (Region): loopA.bed.gz\n",
      "File Name (Output): loopA.annotation.enhancer_zscore_junke.peak.TMPRA_R.bed.gz\n",
      "File Path (Log):    ${FD_LOG}/annotation.hic_intact_ENCSR479XDG.loopA.enhancer_zscore_junke.peak.TMPRA_R.0.txt\n",
      "\n",
      "Submitted batch job 30010306\n",
      "\n",
      "File Name (Region): loopB.bed.gz\n",
      "File Name (Output): loopB.annotation.enhancer_zscore_junke.peak.TMPRA_R.bed.gz\n",
      "File Path (Log):    ${FD_LOG}/annotation.hic_intact_ENCSR479XDG.loopB.enhancer_zscore_junke.peak.TMPRA_R.0.txt\n",
      "\n",
      "Submitted batch job 30010307\n",
      "\n",
      "+++++++++++++++++++++++++++++++++++++++\n",
      "File FOLDER (LOOP): hic_intact_deep\n",
      "\n",
      "File Name (Region): loopA.bed.gz\n",
      "File Name (Output): loopA.annotation.enhancer_zscore_junke.peak.TMPRA_R.bed.gz\n",
      "File Path (Log):    ${FD_LOG}/annotation.hic_intact_deep.loopA.enhancer_zscore_junke.peak.TMPRA_R.0.txt\n",
      "\n",
      "Submitted batch job 30010308\n",
      "\n",
      "File Name (Region): loopB.bed.gz\n",
      "File Name (Output): loopB.annotation.enhancer_zscore_junke.peak.TMPRA_R.bed.gz\n",
      "File Path (Log):    ${FD_LOG}/annotation.hic_intact_deep.loopB.enhancer_zscore_junke.peak.TMPRA_R.0.txt\n",
      "\n",
      "Submitted batch job 30010309\n",
      "\n",
      "=======================================\n",
      "File Prefix (Annotation): enhancer_zscore_junke.peak.WSTARR_AB\n",
      "File Name   (Annotation): enhancer_zscore_junke.peak.WSTARR_AB.bed.gz\n",
      "\n",
      "+++++++++++++++++++++++++++++++++++++++\n",
      "File FOLDER (LOOP): hic_intact_ENCSR479XDG\n",
      "\n",
      "File Name (Region): loopA.bed.gz\n",
      "File Name (Output): loopA.annotation.enhancer_zscore_junke.peak.WSTARR_AB.bed.gz\n",
      "File Path (Log):    ${FD_LOG}/annotation.hic_intact_ENCSR479XDG.loopA.enhancer_zscore_junke.peak.WSTARR_AB.0.txt\n",
      "\n",
      "Submitted batch job 30010310\n",
      "\n",
      "File Name (Region): loopB.bed.gz\n",
      "File Name (Output): loopB.annotation.enhancer_zscore_junke.peak.WSTARR_AB.bed.gz\n",
      "File Path (Log):    ${FD_LOG}/annotation.hic_intact_ENCSR479XDG.loopB.enhancer_zscore_junke.peak.WSTARR_AB.0.txt\n",
      "\n",
      "Submitted batch job 30010311\n",
      "\n",
      "+++++++++++++++++++++++++++++++++++++++\n",
      "File FOLDER (LOOP): hic_intact_deep\n",
      "\n",
      "File Name (Region): loopA.bed.gz\n",
      "File Name (Output): loopA.annotation.enhancer_zscore_junke.peak.WSTARR_AB.bed.gz\n",
      "File Path (Log):    ${FD_LOG}/annotation.hic_intact_deep.loopA.enhancer_zscore_junke.peak.WSTARR_AB.0.txt\n",
      "\n",
      "Submitted batch job 30010312\n",
      "\n",
      "File Name (Region): loopB.bed.gz\n",
      "File Name (Output): loopB.annotation.enhancer_zscore_junke.peak.WSTARR_AB.bed.gz\n",
      "File Path (Log):    ${FD_LOG}/annotation.hic_intact_deep.loopB.enhancer_zscore_junke.peak.WSTARR_AB.0.txt\n",
      "\n",
      "Submitted batch job 30010313\n",
      "\n",
      "=======================================\n",
      "File Prefix (Annotation): enhancer_zscore_junke.peak.WSTARR_A\n",
      "File Name   (Annotation): enhancer_zscore_junke.peak.WSTARR_A.bed.gz\n",
      "\n",
      "+++++++++++++++++++++++++++++++++++++++\n",
      "File FOLDER (LOOP): hic_intact_ENCSR479XDG\n",
      "\n",
      "File Name (Region): loopA.bed.gz\n",
      "File Name (Output): loopA.annotation.enhancer_zscore_junke.peak.WSTARR_A.bed.gz\n",
      "File Path (Log):    ${FD_LOG}/annotation.hic_intact_ENCSR479XDG.loopA.enhancer_zscore_junke.peak.WSTARR_A.0.txt\n",
      "\n",
      "Submitted batch job 30010314\n",
      "\n",
      "File Name (Region): loopB.bed.gz\n",
      "File Name (Output): loopB.annotation.enhancer_zscore_junke.peak.WSTARR_A.bed.gz\n",
      "File Path (Log):    ${FD_LOG}/annotation.hic_intact_ENCSR479XDG.loopB.enhancer_zscore_junke.peak.WSTARR_A.0.txt\n",
      "\n",
      "Submitted batch job 30010315\n",
      "\n",
      "+++++++++++++++++++++++++++++++++++++++\n",
      "File FOLDER (LOOP): hic_intact_deep\n",
      "\n",
      "File Name (Region): loopA.bed.gz\n",
      "File Name (Output): loopA.annotation.enhancer_zscore_junke.peak.WSTARR_A.bed.gz\n",
      "File Path (Log):    ${FD_LOG}/annotation.hic_intact_deep.loopA.enhancer_zscore_junke.peak.WSTARR_A.0.txt\n",
      "\n",
      "Submitted batch job 30010316\n",
      "\n",
      "File Name (Region): loopB.bed.gz\n",
      "File Name (Output): loopB.annotation.enhancer_zscore_junke.peak.WSTARR_A.bed.gz\n",
      "File Path (Log):    ${FD_LOG}/annotation.hic_intact_deep.loopB.enhancer_zscore_junke.peak.WSTARR_A.0.txt\n",
      "\n",
      "Submitted batch job 30010317\n",
      "\n",
      "=======================================\n",
      "File Prefix (Annotation): enhancer_zscore_junke.peak.WSTARR_R\n",
      "File Name   (Annotation): enhancer_zscore_junke.peak.WSTARR_R.bed.gz\n",
      "\n",
      "+++++++++++++++++++++++++++++++++++++++\n",
      "File FOLDER (LOOP): hic_intact_ENCSR479XDG\n",
      "\n",
      "File Name (Region): loopA.bed.gz\n",
      "File Name (Output): loopA.annotation.enhancer_zscore_junke.peak.WSTARR_R.bed.gz\n",
      "File Path (Log):    ${FD_LOG}/annotation.hic_intact_ENCSR479XDG.loopA.enhancer_zscore_junke.peak.WSTARR_R.0.txt\n",
      "\n",
      "Submitted batch job 30010318\n",
      "\n",
      "File Name (Region): loopB.bed.gz\n",
      "File Name (Output): loopB.annotation.enhancer_zscore_junke.peak.WSTARR_R.bed.gz\n",
      "File Path (Log):    ${FD_LOG}/annotation.hic_intact_ENCSR479XDG.loopB.enhancer_zscore_junke.peak.WSTARR_R.0.txt\n",
      "\n",
      "Submitted batch job 30010319\n",
      "\n",
      "+++++++++++++++++++++++++++++++++++++++\n",
      "File FOLDER (LOOP): hic_intact_deep\n",
      "\n",
      "File Name (Region): loopA.bed.gz\n",
      "File Name (Output): loopA.annotation.enhancer_zscore_junke.peak.WSTARR_R.bed.gz\n",
      "File Path (Log):    ${FD_LOG}/annotation.hic_intact_deep.loopA.enhancer_zscore_junke.peak.WSTARR_R.0.txt\n",
      "\n",
      "Submitted batch job 30010320\n",
      "\n",
      "File Name (Region): loopB.bed.gz\n",
      "File Name (Output): loopB.annotation.enhancer_zscore_junke.peak.WSTARR_R.bed.gz\n",
      "File Path (Log):    ${FD_LOG}/annotation.hic_intact_deep.loopB.enhancer_zscore_junke.peak.WSTARR_R.0.txt\n",
      "\n",
      "Submitted batch job 30010321\n",
      "\n"
     ]
    }
   ],
   "source": [
    "FOLDER_LOOPS=(\"hic_intact_ENCSR479XDG\" \"hic_intact_deep\")\n",
    "PREFIX_LOOPS=(\"loopA\" \"loopB\")\n",
    "\n",
    "FOLDER_ANT=annotation_enhancer_zscore_junke\n",
    "FD_ANT=${FD_RES}/results/region/${FOLDER_ANT}\n",
    "FP_ANTS=($(ls ${FD_ANT}/*bed.gz))\n",
    "\n",
    "for FP_ANT in ${FP_ANTS[@]}; do\n",
    "    FN_ANT=$(basename ${FP_ANT})\n",
    "    PREFIX_ANT=${FN_ANT%.bed.gz}\n",
    "    echo \"=======================================\"\n",
    "    echo \"File Prefix (Annotation):\" ${PREFIX_ANT}\n",
    "    echo \"File Name   (Annotation):\" ${FN_ANT}\n",
    "    echo\n",
    "    for FOLDER_LOOP in ${FOLDER_LOOPS[@]}; do\n",
    "        FD_REG=${FD_RES}/results/region/${FOLDER_LOOP}/loop\n",
    "        FD_OUT=${FD_RES}/results/region/${FOLDER_LOOP}/loop/${FOLDER_ANT}\n",
    "        mkdir -p ${FD_OUT}\n",
    "        echo \"+++++++++++++++++++++++++++++++++++++++\"\n",
    "        echo \"File FOLDER (LOOP):\" ${FOLDER_LOOP}\n",
    "        echo\n",
    "        for PREFIX_LOOP in ${PREFIX_LOOPS[@]}; do\n",
    "            FN_LOG=annotation.${FOLDER_LOOP}.${PREFIX_LOOP}.${PREFIX_ANT}.%a.txt\n",
    "            FP_LOG='${FD_LOG}/'annotation.${FOLDER_LOOP}.${PREFIX_LOOP}.${PREFIX_ANT}.0.txt\n",
    "            \n",
    "            FN_REG=${PREFIX_LOOP}.bed.gz\n",
    "            FP_REG=${FD_REG}/${FN_REG}\n",
    "            \n",
    "            FN_OUT=${PREFIX_LOOP}.annotation.${FN_ANT}\n",
    "            FP_OUT=${FD_OUT}/${FN_OUT}\n",
    "            \n",
    "            echo \"File Name (Region):\" ${FN_REG}\n",
    "            echo \"File Name (Output):\" ${FN_OUT} \n",
    "            echo \"File Path (Log):   \" ${FP_LOG}\n",
    "            echo\n",
    "            sbatch -p ${NODE} \\\n",
    "                --exclude=dl-01 \\\n",
    "                --cpus-per-task 8 \\\n",
    "                --mem 4G \\\n",
    "                --output ${FD_LOG}/${FN_LOG} \\\n",
    "                --array 0 \\\n",
    "                ./run_annot.sh ${FP_REG} ${FP_ANT} ${FP_OUT}\n",
    "            echo\n",
    "        done\n",
    "    done\n",
    "done"
   ]
  },
  {
   "cell_type": "markdown",
   "id": "23af9e64-c252-4a83-9240-83bed65442e2",
   "metadata": {},
   "source": [
    "**Check results**"
   ]
  },
  {
   "cell_type": "code",
   "execution_count": 13,
   "id": "1433101e-528f-470f-ac2d-0273984253e8",
   "metadata": {},
   "outputs": [
    {
     "name": "stdout",
     "output_type": "stream",
     "text": [
      "\u001b[0m\u001b[38;5;27m/data/reddylab/Kuei/out/proj_combeffect_encode_fcc/results/region/hic_intact_ENCSR479XDG/loop/annotation_enhancer_zscore_junke\u001b[0m\u001b[K\n",
      "\u001b[0m\u001b[38;5;9mloopA.annotation.enhancer_zscore_junke.peak.ASTARR_AB.bed.gz\u001b[0m\n",
      "\u001b[38;5;9mloopA.annotation.enhancer_zscore_junke.peak.ASTARR_A.bed.gz\u001b[0m\n",
      "\u001b[38;5;9mloopA.annotation.enhancer_zscore_junke.peak.ASTARR_R.bed.gz\u001b[0m\n",
      "\u001b[38;5;9mloopA.annotation.enhancer_zscore_junke.peak.LMPRA_AB.bed.gz\u001b[0m\n",
      "\u001b[38;5;9mloopA.annotation.enhancer_zscore_junke.peak.LMPRA_A.bed.gz\u001b[0m\n",
      "\u001b[38;5;9mloopA.annotation.enhancer_zscore_junke.peak.LMPRA_R.bed.gz\u001b[0m\n",
      "\u001b[38;5;9mloopA.annotation.enhancer_zscore_junke.peak.TMPRA_A.bed.gz\u001b[0m\n",
      "\u001b[38;5;9mloopA.annotation.enhancer_zscore_junke.peak.TMPRA_R.bed.gz\u001b[0m\n",
      "\u001b[38;5;9mloopA.annotation.enhancer_zscore_junke.peak.WSTARR_AB.bed.gz\u001b[0m\n",
      "\u001b[38;5;9mloopA.annotation.enhancer_zscore_junke.peak.WSTARR_A.bed.gz\u001b[0m\n",
      "\u001b[38;5;9mloopA.annotation.enhancer_zscore_junke.peak.WSTARR_R.bed.gz\u001b[0m\n",
      "\u001b[38;5;9mloopB.annotation.enhancer_zscore_junke.peak.ASTARR_AB.bed.gz\u001b[0m\n",
      "\u001b[38;5;9mloopB.annotation.enhancer_zscore_junke.peak.ASTARR_A.bed.gz\u001b[0m\n",
      "\u001b[38;5;9mloopB.annotation.enhancer_zscore_junke.peak.ASTARR_R.bed.gz\u001b[0m\n",
      "\u001b[38;5;9mloopB.annotation.enhancer_zscore_junke.peak.LMPRA_AB.bed.gz\u001b[0m\n",
      "\u001b[38;5;9mloopB.annotation.enhancer_zscore_junke.peak.LMPRA_A.bed.gz\u001b[0m\n",
      "\u001b[38;5;9mloopB.annotation.enhancer_zscore_junke.peak.LMPRA_R.bed.gz\u001b[0m\n",
      "\u001b[38;5;9mloopB.annotation.enhancer_zscore_junke.peak.TMPRA_A.bed.gz\u001b[0m\n",
      "\u001b[38;5;9mloopB.annotation.enhancer_zscore_junke.peak.TMPRA_R.bed.gz\u001b[0m\n",
      "\u001b[38;5;9mloopB.annotation.enhancer_zscore_junke.peak.WSTARR_AB.bed.gz\u001b[0m\n",
      "\u001b[38;5;9mloopB.annotation.enhancer_zscore_junke.peak.WSTARR_A.bed.gz\u001b[0m\n",
      "\u001b[38;5;9mloopB.annotation.enhancer_zscore_junke.peak.WSTARR_R.bed.gz\u001b[0m\n",
      "\n",
      "\u001b[0m\u001b[38;5;27m/data/reddylab/Kuei/out/proj_combeffect_encode_fcc/results/region/hic_intact_deep/loop/annotation_enhancer_zscore_junke\u001b[0m\u001b[K\n",
      "\u001b[0m\u001b[38;5;9mloopA.annotation.enhancer_zscore_junke.peak.ASTARR_AB.bed.gz\u001b[0m\n",
      "\u001b[38;5;9mloopA.annotation.enhancer_zscore_junke.peak.ASTARR_A.bed.gz\u001b[0m\n",
      "\u001b[38;5;9mloopA.annotation.enhancer_zscore_junke.peak.ASTARR_R.bed.gz\u001b[0m\n",
      "\u001b[38;5;9mloopA.annotation.enhancer_zscore_junke.peak.LMPRA_AB.bed.gz\u001b[0m\n",
      "\u001b[38;5;9mloopA.annotation.enhancer_zscore_junke.peak.LMPRA_A.bed.gz\u001b[0m\n",
      "\u001b[38;5;9mloopA.annotation.enhancer_zscore_junke.peak.LMPRA_R.bed.gz\u001b[0m\n",
      "\u001b[38;5;9mloopA.annotation.enhancer_zscore_junke.peak.TMPRA_A.bed.gz\u001b[0m\n",
      "\u001b[38;5;9mloopA.annotation.enhancer_zscore_junke.peak.TMPRA_R.bed.gz\u001b[0m\n",
      "\u001b[38;5;9mloopA.annotation.enhancer_zscore_junke.peak.WSTARR_AB.bed.gz\u001b[0m\n",
      "\u001b[38;5;9mloopA.annotation.enhancer_zscore_junke.peak.WSTARR_A.bed.gz\u001b[0m\n",
      "\u001b[38;5;9mloopA.annotation.enhancer_zscore_junke.peak.WSTARR_R.bed.gz\u001b[0m\n",
      "\u001b[38;5;9mloopB.annotation.enhancer_zscore_junke.peak.ASTARR_AB.bed.gz\u001b[0m\n",
      "\u001b[38;5;9mloopB.annotation.enhancer_zscore_junke.peak.ASTARR_A.bed.gz\u001b[0m\n",
      "\u001b[38;5;9mloopB.annotation.enhancer_zscore_junke.peak.ASTARR_R.bed.gz\u001b[0m\n",
      "\u001b[38;5;9mloopB.annotation.enhancer_zscore_junke.peak.LMPRA_AB.bed.gz\u001b[0m\n",
      "\u001b[38;5;9mloopB.annotation.enhancer_zscore_junke.peak.LMPRA_A.bed.gz\u001b[0m\n",
      "\u001b[38;5;9mloopB.annotation.enhancer_zscore_junke.peak.LMPRA_R.bed.gz\u001b[0m\n",
      "\u001b[38;5;9mloopB.annotation.enhancer_zscore_junke.peak.TMPRA_A.bed.gz\u001b[0m\n",
      "\u001b[38;5;9mloopB.annotation.enhancer_zscore_junke.peak.TMPRA_R.bed.gz\u001b[0m\n",
      "\u001b[38;5;9mloopB.annotation.enhancer_zscore_junke.peak.WSTARR_AB.bed.gz\u001b[0m\n",
      "\u001b[38;5;9mloopB.annotation.enhancer_zscore_junke.peak.WSTARR_A.bed.gz\u001b[0m\n",
      "\u001b[38;5;9mloopB.annotation.enhancer_zscore_junke.peak.WSTARR_R.bed.gz\u001b[0m\n",
      "\n"
     ]
    }
   ],
   "source": [
    "FOLDER_ANT=annotation_enhancer_zscore_junke\n",
    "\n",
    "for FOLDER_LOOP in \"hic_intact_ENCSR479XDG\" \"hic_intact_deep\"; do\n",
    "    FD_OUT=${FD_RES}/results/region/${FOLDER_LOOP}/loop/${FOLDER_ANT}\n",
    "    ls -d ${FD_OUT}\n",
    "    ls ${FD_OUT}\n",
    "    echo\n",
    "done"
   ]
  },
  {
   "cell_type": "code",
   "execution_count": 12,
   "id": "4fe50d9f-edb5-41dc-b063-6de4e52758b3",
   "metadata": {},
   "outputs": [
    {
     "name": "stdout",
     "output_type": "stream",
     "text": [
      "Hostname:           x1-03-4.genome.duke.edu\n",
      "Slurm Array Index:  0\n",
      "Time Stamp:         06-16-23+09:29:01\n",
      "\n",
      "Input:  /data/reddylab/Kuei/out/proj_combeffect_encode_fcc/results/region/hic_intact_ENCSR479XDG/loop/loopA.bed.gz\n",
      "\n",
      "show first few lines of input\n",
      "chr1\t770000\t780000\n",
      "chr1\t904000\t906000\n",
      "chr1\t920000\t925000\n",
      "chr1\t980000\t990000\n",
      "chr1\t984000\t985000\n",
      "\n",
      "Input:  /data/reddylab/Kuei/out/proj_combeffect_encode_fcc/results/region/annotation_enhancer_zscore_junke/enhancer_zscore_junke.peak.ASTARR_AB.bed.gz\n",
      "\n",
      "show first few lines of input\n",
      "chr1\t1013020\t1013470\tpeak_both_1\t2.1815960444053615\t.\tASTARR\tASTARR_AB\tASTARR_TR\n",
      "chr1\t1724540\t1724700\tpeak_both_2\t2.15437368509707\t.\tASTARR\tASTARR_AB\tASTARR_TR\n",
      "chr1\t2290700\t2291030\tpeak_both_3\t2.388581751849955\t.\tASTARR\tASTARR_AB\tASTARR_TR\n",
      "chr1\t3313260\t3313400\tpeak_both_4\t2.179445521958002\t.\tASTARR\tASTARR_AB\tASTARR_TR\n",
      "chr1\t5856530\t5856630\tpeak_both_5\t1.9965321443474449\t.\tASTARR\tASTARR_AB\tASTARR_TR\n",
      "\n",
      "\n",
      "Output:  /data/reddylab/Kuei/out/proj_combeffect_encode_fcc/results/region/hic_intact_ENCSR479XDG/loop/annotation_enhancer_zscore_junke/loopA.annotation.enhancer_zscore_junke.peak.ASTARR_AB.bed.gz\n",
      "\n",
      "show first few lines of output:\n",
      "chr1\t5915000\t5920000\tchr1\t5917710\t5917930\tpeak_both_6\t2.1692904325347873\t.\tASTARR\tASTARR_AB\tASTARR_TR\t220\n",
      "chr1\t11842000\t11843000\tchr1\t11842320\t11842500\tpeak_both_14\t2.2741507667363146\t.\tASTARR\tASTARR_AB\tASTARR_TR\t180\n",
      "chr1\t11842000\t11844000\tchr1\t11842320\t11842500\tpeak_both_14\t2.2741507667363146\t.\tASTARR\tASTARR_AB\tASTARR_TR\t180\n",
      "chr1\t12448000\t12450000\tchr1\t12448880\t12449190\tpeak_both_15\t2.363527426043006\t.\tASTARR\tASTARR_AB\tASTARR_TR\t310\n",
      "chr1\t12448000\t12450000\tchr1\t12448880\t12449190\tpeak_both_15\t2.363527426043006\t.\tASTARR\tASTARR_AB\tASTARR_TR\t310\n",
      "\n",
      "\n",
      "Done!\n",
      "Run Time: 0 seconds\n"
     ]
    }
   ],
   "source": [
    "cat ${FD_LOG}/annotation.hic_intact_ENCSR479XDG.loopA.enhancer_zscore_junke.peak.ASTARR_AB.0.txt"
   ]
  },
  {
   "cell_type": "markdown",
   "id": "ae7e37ff-671a-4b86-b8cd-372ef5def109",
   "metadata": {},
   "source": [
    "## Annotation: CRISPRi-HCRFF"
   ]
  },
  {
   "cell_type": "markdown",
   "id": "f8249377-efee-43e6-be7c-9585ecae90f5",
   "metadata": {},
   "source": [
    "**Check data**"
   ]
  },
  {
   "cell_type": "code",
   "execution_count": 14,
   "id": "3a27527d-82b8-457e-99ae-9d8ca4859dcb",
   "metadata": {},
   "outputs": [
    {
     "name": "stdout",
     "output_type": "stream",
     "text": [
      "crispri_hcrff_casa.bed.gz\n"
     ]
    }
   ],
   "source": [
    "FOLDER_ANT=annotation_crispri_hcrff\n",
    "FD_ANT=${FD_RES}/results/region/${FOLDER_ANT}\n",
    "FP_ANTS=($(ls ${FD_ANT}/*bed.gz))\n",
    "\n",
    "basename -a ${FP_ANTS[@]}"
   ]
  },
  {
   "cell_type": "markdown",
   "id": "8b944ce2-5cc8-4be3-a260-e2d83c8b950c",
   "metadata": {},
   "source": [
    "**Check output**"
   ]
  },
  {
   "cell_type": "code",
   "execution_count": 25,
   "id": "990b2d64-7839-4a14-8bd3-04d5302a0088",
   "metadata": {},
   "outputs": [
    {
     "name": "stdout",
     "output_type": "stream",
     "text": [
      "\u001b[0m\u001b[38;5;27m/data/reddylab/Kuei/out/proj_combeffect_encode_fcc/results/region/hic_intact_ENCSR479XDG/loop/annotation_crispri_hcrff\u001b[0m\u001b[K\n",
      "\n",
      "\u001b[0m\u001b[38;5;27m/data/reddylab/Kuei/out/proj_combeffect_encode_fcc/results/region/hic_intact_deep/loop/annotation_crispri_hcrff\u001b[0m\u001b[K\n",
      "\n"
     ]
    }
   ],
   "source": [
    "FOLDER_ANT=annotation_crispri_hcrff\n",
    "\n",
    "for FOLDER_LOOP in \"hic_intact_ENCSR479XDG\" \"hic_intact_deep\"; do\n",
    "    FD_OUT=${FD_RES}/results/region/${FOLDER_LOOP}/loop/${FOLDER_ANT}\n",
    "    mkdir -p ${FD_OUT}\n",
    "    ls -d ${FD_OUT}\n",
    "    ls ${FD_OUT}\n",
    "    #rm ${FD_OUT}/loop*bed.gz\n",
    "    echo\n",
    "done"
   ]
  },
  {
   "cell_type": "markdown",
   "id": "6aa7190f-b92c-4485-a13a-7a0e2a1f4d97",
   "metadata": {},
   "source": [
    "**Execute**"
   ]
  },
  {
   "cell_type": "code",
   "execution_count": 26,
   "id": "2eb1eafd-400d-4e35-9485-0a1bd97cd0c9",
   "metadata": {},
   "outputs": [
    {
     "name": "stdout",
     "output_type": "stream",
     "text": [
      "=======================================\n",
      "File Prefix (Annotation): crispri_hcrff_casa\n",
      "File Name   (Annotation): crispri_hcrff_casa.bed.gz\n",
      "\n",
      "+++++++++++++++++++++++++++++++++++++++\n",
      "File FOLDER (LOOP): hic_intact_ENCSR479XDG\n",
      "\n",
      "File Name (Region): loopA.bed.gz\n",
      "File Name (Output): loopA.annotation.crispri_hcrff_casa.bed.gz\n",
      "File Path (Log):    ${FD_LOG}/annotation.hic_intact_ENCSR479XDG.loopA.crispri_hcrff_casa.0.txt\n",
      "\n",
      "Submitted batch job 30010326\n",
      "\n",
      "File Name (Region): loopB.bed.gz\n",
      "File Name (Output): loopB.annotation.crispri_hcrff_casa.bed.gz\n",
      "File Path (Log):    ${FD_LOG}/annotation.hic_intact_ENCSR479XDG.loopB.crispri_hcrff_casa.0.txt\n",
      "\n",
      "Submitted batch job 30010327\n",
      "\n",
      "+++++++++++++++++++++++++++++++++++++++\n",
      "File FOLDER (LOOP): hic_intact_deep\n",
      "\n",
      "File Name (Region): loopA.bed.gz\n",
      "File Name (Output): loopA.annotation.crispri_hcrff_casa.bed.gz\n",
      "File Path (Log):    ${FD_LOG}/annotation.hic_intact_deep.loopA.crispri_hcrff_casa.0.txt\n",
      "\n",
      "Submitted batch job 30010328\n",
      "\n",
      "File Name (Region): loopB.bed.gz\n",
      "File Name (Output): loopB.annotation.crispri_hcrff_casa.bed.gz\n",
      "File Path (Log):    ${FD_LOG}/annotation.hic_intact_deep.loopB.crispri_hcrff_casa.0.txt\n",
      "\n",
      "Submitted batch job 30010329\n",
      "\n"
     ]
    }
   ],
   "source": [
    "FOLDER_LOOPS=(\"hic_intact_ENCSR479XDG\" \"hic_intact_deep\")\n",
    "PREFIX_LOOPS=(\"loopA\" \"loopB\")\n",
    "\n",
    "FOLDER_ANT=annotation_crispri_hcrff\n",
    "FD_ANT=${FD_RES}/results/region/${FOLDER_ANT}\n",
    "FP_ANTS=($(ls ${FD_ANT}/*bed.gz))\n",
    "\n",
    "for FP_ANT in ${FP_ANTS[@]}; do\n",
    "    FN_ANT=$(basename ${FP_ANT})\n",
    "    PREFIX_ANT=${FN_ANT%.bed.gz}\n",
    "    echo \"=======================================\"\n",
    "    echo \"File Prefix (Annotation):\" ${PREFIX_ANT}\n",
    "    echo \"File Name   (Annotation):\" ${FN_ANT}\n",
    "    echo\n",
    "    for FOLDER_LOOP in ${FOLDER_LOOPS[@]}; do\n",
    "        FD_REG=${FD_RES}/results/region/${FOLDER_LOOP}/loop\n",
    "        FD_OUT=${FD_RES}/results/region/${FOLDER_LOOP}/loop/${FOLDER_ANT}\n",
    "        mkdir -p ${FD_OUT}\n",
    "        echo \"+++++++++++++++++++++++++++++++++++++++\"\n",
    "        echo \"File FOLDER (LOOP):\" ${FOLDER_LOOP}\n",
    "        echo\n",
    "        for PREFIX_LOOP in ${PREFIX_LOOPS[@]}; do\n",
    "            FN_LOG=annotation.${FOLDER_LOOP}.${PREFIX_LOOP}.${PREFIX_ANT}.%a.txt\n",
    "            FP_LOG='${FD_LOG}/'annotation.${FOLDER_LOOP}.${PREFIX_LOOP}.${PREFIX_ANT}.0.txt\n",
    "            \n",
    "            FN_REG=${PREFIX_LOOP}.bed.gz\n",
    "            FP_REG=${FD_REG}/${FN_REG}\n",
    "            \n",
    "            FN_OUT=${PREFIX_LOOP}.annotation.${FN_ANT}\n",
    "            FP_OUT=${FD_OUT}/${FN_OUT}\n",
    "            \n",
    "            echo \"File Name (Region):\" ${FN_REG}\n",
    "            echo \"File Name (Output):\" ${FN_OUT} \n",
    "            echo \"File Path (Log):   \" ${FP_LOG}\n",
    "            echo\n",
    "            sbatch -p ${NODE} \\\n",
    "                --exclude=dl-01 \\\n",
    "                --cpus-per-task 8 \\\n",
    "                --mem 4G \\\n",
    "                --output ${FD_LOG}/${FN_LOG} \\\n",
    "                --array 0 \\\n",
    "                ./run_annot.sh ${FP_REG} ${FP_ANT} ${FP_OUT}\n",
    "            echo\n",
    "        done\n",
    "    done\n",
    "done"
   ]
  },
  {
   "cell_type": "markdown",
   "id": "3d6a923b-7522-4ba4-83fa-71104c9cc66f",
   "metadata": {},
   "source": [
    "**Check results**"
   ]
  },
  {
   "cell_type": "code",
   "execution_count": 27,
   "id": "76d11d6b-59b4-45eb-9b09-40857675b926",
   "metadata": {},
   "outputs": [
    {
     "name": "stdout",
     "output_type": "stream",
     "text": [
      "\u001b[0m\u001b[38;5;27m/data/reddylab/Kuei/out/proj_combeffect_encode_fcc/results/region/hic_intact_ENCSR479XDG/loop/annotation_crispri_hcrff\u001b[0m\u001b[K\n",
      "\u001b[0m\u001b[38;5;9mloopA.annotation.crispri_hcrff_casa.bed.gz\u001b[0m\n",
      "\u001b[38;5;9mloopB.annotation.crispri_hcrff_casa.bed.gz\u001b[0m\n",
      "\n",
      "\u001b[0m\u001b[38;5;27m/data/reddylab/Kuei/out/proj_combeffect_encode_fcc/results/region/hic_intact_deep/loop/annotation_crispri_hcrff\u001b[0m\u001b[K\n",
      "\u001b[0m\u001b[38;5;9mloopA.annotation.crispri_hcrff_casa.bed.gz\u001b[0m\n",
      "\u001b[38;5;9mloopB.annotation.crispri_hcrff_casa.bed.gz\u001b[0m\n",
      "\n"
     ]
    }
   ],
   "source": [
    "FOLDER_ANT=annotation_crispri_hcrff\n",
    "\n",
    "for FOLDER_LOOP in \"hic_intact_ENCSR479XDG\" \"hic_intact_deep\"; do\n",
    "    FD_OUT=${FD_RES}/results/region/${FOLDER_LOOP}/loop/${FOLDER_ANT}\n",
    "    mkdir -p ${FD_OUT}\n",
    "    ls -d ${FD_OUT}\n",
    "    ls ${FD_OUT}\n",
    "    #rm ${FD_OUT}/loop*bed.gz\n",
    "    echo\n",
    "done"
   ]
  },
  {
   "cell_type": "code",
   "execution_count": 28,
   "id": "d40ef317-71c7-48a0-bd57-c2cc312e0ab9",
   "metadata": {},
   "outputs": [
    {
     "name": "stdout",
     "output_type": "stream",
     "text": [
      "Hostname:           x1-03-4.genome.duke.edu\n",
      "Slurm Array Index:  0\n",
      "Time Stamp:         06-16-23+09:32:35\n",
      "\n",
      "Input:  /data/reddylab/Kuei/out/proj_combeffect_encode_fcc/results/region/hic_intact_ENCSR479XDG/loop/loopA.bed.gz\n",
      "\n",
      "show first few lines of input\n",
      "chr1\t770000\t780000\n",
      "chr1\t904000\t906000\n",
      "chr1\t920000\t925000\n",
      "chr1\t980000\t990000\n",
      "chr1\t984000\t985000\n",
      "\n",
      "Input:  /data/reddylab/Kuei/out/proj_combeffect_encode_fcc/results/region/annotation_crispri_hcrff/crispri_hcrff_casa.bed.gz\n",
      "\n",
      "show first few lines of input\n",
      "chr11\t33944871\t33945471\tchr11:33944871-33945471\t0.803764617\t.\tCAPRIN1\tENSG00000135387\tCRISPRi-HCRFF\tCRISPRi-HCRFF:CAPRIN1\n",
      "chr11\t34050971\t34051471\tchr11:34050971-34051471\t0.973987294\t.\tCAPRIN1\tENSG00000135387\tCRISPRi-HCRFF\tCRISPRi-HCRFF:CAPRIN1\n",
      "chr11\t34051571\t34054171\tchr11:34051571-34054171\t2.06429067\t.\tCAPRIN1\tENSG00000135387\tCRISPRi-HCRFF\tCRISPRi-HCRFF:CAPRIN1\n",
      "chr11\t34085871\t34086871\tchr11:34085871-34086871\t1.009272431\t.\tCAPRIN1\tENSG00000135387\tCRISPRi-HCRFF\tCRISPRi-HCRFF:CAPRIN1\n",
      "chr11\t33944868\t33945268\tchr11:33944868-33945268\t1.214675507\t.\tCAT\tENSG00000121691\tCRISPRi-HCRFF\tCRISPRi-HCRFF:CAT\n",
      "\n",
      "\n",
      "Output:  /data/reddylab/Kuei/out/proj_combeffect_encode_fcc/results/region/hic_intact_ENCSR479XDG/loop/annotation_crispri_hcrff/loopA.annotation.crispri_hcrff_casa.bed.gz\n",
      "\n",
      "show first few lines of output:\n",
      "chr11\t5252000\t5254000\tchr11\t5253147\t5253547\tchr11:5253147-5253547\t1.3303423439388775\t.\tHBG1\tENST00000330597.5\tCRISPRi-HCRFF\tCRISPRi-HCRFF:HBG1\t400\n",
      "chr11\t5252000\t5254000\tchr11\t5253147\t5253547\tchr11:5253147-5253547\t1.3232570811102125\t.\tHBG2\tENST00000336906.6\tCRISPRi-HCRFF\tCRISPRi-HCRFF:HBG2\t400\n",
      "chr11\t5280000\t5290000\tchr11\t5280447\t5281147\tchr11:5280447-5281147\t1.8384634789161785\t.\tHBE1\tENST00000336906.6\tCRISPRi-HCRFF\tCRISPRi-HCRFF:HBE1\t700\n",
      "chr11\t5280000\t5290000\tchr11\t5284147\t5286047\tchr11:5284147-5286047\t1.867533976986064\t.\tHBE1\tENST00000336906.6\tCRISPRi-HCRFF\tCRISPRi-HCRFF:HBE1\t1900\n",
      "chr11\t5280000\t5290000\tchr11\t5287947\t5288547\tchr11:5287947-5288547\t0.7740955982573108\t.\tHBE1\tENST00000336906.6\tCRISPRi-HCRFF\tCRISPRi-HCRFF:HBE1\t600\n",
      "\n",
      "\n",
      "Done!\n",
      "Run Time: 0 seconds\n"
     ]
    }
   ],
   "source": [
    "cat ${FD_LOG}/annotation.hic_intact_ENCSR479XDG.loopA.crispri_hcrff_casa.0.txt"
   ]
  },
  {
   "cell_type": "markdown",
   "id": "93d0e20f-df3f-4d4b-a4f2-39e8087d91ee",
   "metadata": {},
   "source": [
    "## Annotation: CRISPRi-Growth"
   ]
  },
  {
   "cell_type": "markdown",
   "id": "769ee6da-ebfb-4241-ae15-398d0b0b8ab4",
   "metadata": {},
   "source": [
    "**Check data**"
   ]
  },
  {
   "cell_type": "code",
   "execution_count": 29,
   "id": "cd9b815a-4283-465e-bdad-356e91f2e591",
   "metadata": {},
   "outputs": [
    {
     "name": "stdout",
     "output_type": "stream",
     "text": [
      "crispri_growth_dhs.bed.gz\n"
     ]
    }
   ],
   "source": [
    "FOLDER_ANT=annotation_crispri_growth\n",
    "FD_ANT=${FD_RES}/results/region/${FOLDER_ANT}\n",
    "FP_ANTS=($(ls ${FD_ANT}/*bed.gz))\n",
    "\n",
    "basename -a ${FP_ANTS[@]}"
   ]
  },
  {
   "cell_type": "markdown",
   "id": "d05d478e-e8e6-44f6-9f26-a22c79d0fc93",
   "metadata": {},
   "source": [
    "**Check output**"
   ]
  },
  {
   "cell_type": "code",
   "execution_count": 32,
   "id": "225a96a5-91dc-4388-97d6-d99453708bff",
   "metadata": {},
   "outputs": [
    {
     "name": "stdout",
     "output_type": "stream",
     "text": [
      "\u001b[0m\u001b[38;5;27m/data/reddylab/Kuei/out/proj_combeffect_encode_fcc/results/region/hic_intact_ENCSR479XDG/loop/annotation_crispri_growth\u001b[0m\u001b[K\n",
      "\n",
      "\u001b[0m\u001b[38;5;27m/data/reddylab/Kuei/out/proj_combeffect_encode_fcc/results/region/hic_intact_deep/loop/annotation_crispri_growth\u001b[0m\u001b[K\n",
      "\n"
     ]
    }
   ],
   "source": [
    "FOLDER_ANT=annotation_crispri_growth\n",
    "\n",
    "for FOLDER_LOOP in \"hic_intact_ENCSR479XDG\" \"hic_intact_deep\"; do\n",
    "    FD_OUT=${FD_RES}/results/region/${FOLDER_LOOP}/loop/${FOLDER_ANT}\n",
    "    mkdir -p ${FD_OUT}\n",
    "    ls -d ${FD_OUT}\n",
    "    ls ${FD_OUT}\n",
    "    #rm ${FD_OUT}/loop*bed.gz\n",
    "    echo\n",
    "done"
   ]
  },
  {
   "cell_type": "markdown",
   "id": "204b51ae-a472-4657-b97c-5b856c7eacfd",
   "metadata": {},
   "source": [
    "**Execute**"
   ]
  },
  {
   "cell_type": "code",
   "execution_count": 33,
   "id": "cecbe69c-5c49-47e5-8b79-fba6810f10ad",
   "metadata": {},
   "outputs": [
    {
     "name": "stdout",
     "output_type": "stream",
     "text": [
      "=======================================\n",
      "File Prefix (Annotation): crispri_growth_dhs\n",
      "File Name   (Annotation): crispri_growth_dhs.bed.gz\n",
      "\n",
      "+++++++++++++++++++++++++++++++++++++++\n",
      "File FOLDER (LOOP): hic_intact_ENCSR479XDG\n",
      "\n",
      "File Name (Region): loopA.bed.gz\n",
      "File Name (Output): loopA.annotation.crispri_growth_dhs.bed.gz\n",
      "File Path (Log):    ${FD_LOG}/annotation.hic_intact_ENCSR479XDG.loopA.crispri_growth_dhs.0.txt\n",
      "\n",
      "Submitted batch job 30010330\n",
      "\n",
      "File Name (Region): loopB.bed.gz\n",
      "File Name (Output): loopB.annotation.crispri_growth_dhs.bed.gz\n",
      "File Path (Log):    ${FD_LOG}/annotation.hic_intact_ENCSR479XDG.loopB.crispri_growth_dhs.0.txt\n",
      "\n",
      "Submitted batch job 30010331\n",
      "\n",
      "+++++++++++++++++++++++++++++++++++++++\n",
      "File FOLDER (LOOP): hic_intact_deep\n",
      "\n",
      "File Name (Region): loopA.bed.gz\n",
      "File Name (Output): loopA.annotation.crispri_growth_dhs.bed.gz\n",
      "File Path (Log):    ${FD_LOG}/annotation.hic_intact_deep.loopA.crispri_growth_dhs.0.txt\n",
      "\n",
      "Submitted batch job 30010332\n",
      "\n",
      "File Name (Region): loopB.bed.gz\n",
      "File Name (Output): loopB.annotation.crispri_growth_dhs.bed.gz\n",
      "File Path (Log):    ${FD_LOG}/annotation.hic_intact_deep.loopB.crispri_growth_dhs.0.txt\n",
      "\n",
      "Submitted batch job 30010333\n",
      "\n"
     ]
    }
   ],
   "source": [
    "FOLDER_LOOPS=(\"hic_intact_ENCSR479XDG\" \"hic_intact_deep\")\n",
    "PREFIX_LOOPS=(\"loopA\" \"loopB\")\n",
    "\n",
    "FOLDER_ANT=annotation_crispri_growth\n",
    "FD_ANT=${FD_RES}/results/region/${FOLDER_ANT}\n",
    "FP_ANTS=($(ls ${FD_ANT}/*bed.gz))\n",
    "\n",
    "for FP_ANT in ${FP_ANTS[@]}; do\n",
    "    FN_ANT=$(basename ${FP_ANT})\n",
    "    PREFIX_ANT=${FN_ANT%.bed.gz}\n",
    "    echo \"=======================================\"\n",
    "    echo \"File Prefix (Annotation):\" ${PREFIX_ANT}\n",
    "    echo \"File Name   (Annotation):\" ${FN_ANT}\n",
    "    echo\n",
    "    for FOLDER_LOOP in ${FOLDER_LOOPS[@]}; do\n",
    "        FD_REG=${FD_RES}/results/region/${FOLDER_LOOP}/loop\n",
    "        FD_OUT=${FD_RES}/results/region/${FOLDER_LOOP}/loop/${FOLDER_ANT}\n",
    "        mkdir -p ${FD_OUT}\n",
    "        echo \"+++++++++++++++++++++++++++++++++++++++\"\n",
    "        echo \"File FOLDER (LOOP):\" ${FOLDER_LOOP}\n",
    "        echo\n",
    "        for PREFIX_LOOP in ${PREFIX_LOOPS[@]}; do\n",
    "            FN_LOG=annotation.${FOLDER_LOOP}.${PREFIX_LOOP}.${PREFIX_ANT}.%a.txt\n",
    "            FP_LOG='${FD_LOG}/'annotation.${FOLDER_LOOP}.${PREFIX_LOOP}.${PREFIX_ANT}.0.txt\n",
    "            \n",
    "            FN_REG=${PREFIX_LOOP}.bed.gz\n",
    "            FP_REG=${FD_REG}/${FN_REG}\n",
    "            \n",
    "            FN_OUT=${PREFIX_LOOP}.annotation.${FN_ANT}\n",
    "            FP_OUT=${FD_OUT}/${FN_OUT}\n",
    "            \n",
    "            echo \"File Name (Region):\" ${FN_REG}\n",
    "            echo \"File Name (Output):\" ${FN_OUT} \n",
    "            echo \"File Path (Log):   \" ${FP_LOG}\n",
    "            echo\n",
    "            sbatch -p ${NODE} \\\n",
    "                --exclude=dl-01 \\\n",
    "                --cpus-per-task 8 \\\n",
    "                --mem 4G \\\n",
    "                --output ${FD_LOG}/${FN_LOG} \\\n",
    "                --array 0 \\\n",
    "                ./run_annot.sh ${FP_REG} ${FP_ANT} ${FP_OUT}\n",
    "            echo\n",
    "        done\n",
    "    done\n",
    "done"
   ]
  },
  {
   "cell_type": "markdown",
   "id": "cb2a8d6b-77dc-48d6-852c-e7d4873bb651",
   "metadata": {},
   "source": [
    "**Check results**"
   ]
  },
  {
   "cell_type": "code",
   "execution_count": 34,
   "id": "b048ae09-fc3b-4834-96ad-1afe848ea585",
   "metadata": {},
   "outputs": [
    {
     "name": "stdout",
     "output_type": "stream",
     "text": [
      "\u001b[0m\u001b[38;5;27m/data/reddylab/Kuei/out/proj_combeffect_encode_fcc/results/region/hic_intact_ENCSR479XDG/loop/annotation_crispri_growth\u001b[0m\u001b[K\n",
      "\u001b[0m\u001b[38;5;9mloopA.annotation.crispri_growth_dhs.bed.gz\u001b[0m\n",
      "\u001b[38;5;9mloopB.annotation.crispri_growth_dhs.bed.gz\u001b[0m\n",
      "\n",
      "\u001b[0m\u001b[38;5;27m/data/reddylab/Kuei/out/proj_combeffect_encode_fcc/results/region/hic_intact_deep/loop/annotation_crispri_growth\u001b[0m\u001b[K\n",
      "\u001b[0m\u001b[38;5;9mloopA.annotation.crispri_growth_dhs.bed.gz\u001b[0m\n",
      "\u001b[38;5;9mloopB.annotation.crispri_growth_dhs.bed.gz\u001b[0m\n",
      "\n"
     ]
    }
   ],
   "source": [
    "FOLDER_ANT=annotation_crispri_growth\n",
    "\n",
    "for FOLDER_LOOP in \"hic_intact_ENCSR479XDG\" \"hic_intact_deep\"; do\n",
    "    FD_OUT=${FD_RES}/results/region/${FOLDER_LOOP}/loop/${FOLDER_ANT}\n",
    "    mkdir -p ${FD_OUT}\n",
    "    ls -d ${FD_OUT}\n",
    "    ls ${FD_OUT}\n",
    "    #rm ${FD_OUT}/loop*bed.gz\n",
    "    echo\n",
    "done"
   ]
  },
  {
   "cell_type": "code",
   "execution_count": 35,
   "id": "ae2ca38a-c651-4aa7-bce9-ffa72ee966e2",
   "metadata": {},
   "outputs": [
    {
     "name": "stdout",
     "output_type": "stream",
     "text": [
      "Hostname:           x1-03-4.genome.duke.edu\n",
      "Slurm Array Index:  0\n",
      "Time Stamp:         06-16-23+09:33:49\n",
      "\n",
      "Input:  /data/reddylab/Kuei/out/proj_combeffect_encode_fcc/results/region/hic_intact_ENCSR479XDG/loop/loopA.bed.gz\n",
      "\n",
      "show first few lines of input\n",
      "chr1\t770000\t780000\n",
      "chr1\t904000\t906000\n",
      "chr1\t920000\t925000\n",
      "chr1\t980000\t990000\n",
      "chr1\t984000\t985000\n",
      "\n",
      "Input:  /data/reddylab/Kuei/out/proj_combeffect_encode_fcc/results/region/annotation_crispri_growth/crispri_growth_dhs.bed.gz\n",
      "\n",
      "show first few lines of input\n",
      "chr1\t605550\t605627\tchr1.1.1\t-0.985933797051245\t3.24578658189092e-11\tCRISPRi-Growth\tCRISPRi-Growth\n",
      "chr1\t826642\t827902\tchr1.4.8\t0.185507412283124\t0.0325051212861127\tCRISPRi-Growth\tCRISPRi-Growth\n",
      "chr1\t964946\t965136\tchr1.41.7\t-1.1466792071519\t1.46465391074394e-26\tCRISPRi-Growth\tCRISPRi-Growth\n",
      "chr1\t995761\t996190\tchr1.53.2\t0.21410749393477305\t0.0187408911746605\tCRISPRi-Growth\tCRISPRi-Growth\n",
      "chr1\t1067929\t1070953\tchr1.74.8\t-0.338370170783949\t0.0337196418434639\tCRISPRi-Growth\tCRISPRi-Growth\n",
      "\n",
      "\n",
      "Output:  /data/reddylab/Kuei/out/proj_combeffect_encode_fcc/results/region/hic_intact_ENCSR479XDG/loop/annotation_crispri_growth/loopA.annotation.crispri_growth_dhs.bed.gz\n",
      "\n",
      "show first few lines of output:\n",
      "chr1\t1300000\t1310000\tchr1\t1300037\t1300357\tchr1.170.3\t-1.05531374805495\t2.46224280386627e-12\tCRISPRi-Growth\tCRISPRi-Growth\t320\n",
      "chr1\t1320000\t1325000\tchr1\t1322530\t1322787\tchr1.176.6\t-0.180913168400948\t0.030752787347994\tCRISPRi-Growth\tCRISPRi-Growth\t257\n",
      "chr1\t5630000\t5640000\tchr1\t5637260\t5637479\tchr1.1049.1\t0.299119426727173\t0.0202774828019906\tCRISPRi-Growth\tCRISPRi-Growth\t219\n",
      "chr1\t5630000\t5640000\tchr1\t5638770\t5638847\tchr1.1050.5\t-1.24775198296008\t2.03231093322476e-14\tCRISPRi-Growth\tCRISPRi-Growth\t77\n",
      "chr1\t5635000\t5640000\tchr1\t5637260\t5637479\tchr1.1049.1\t0.299119426727173\t0.0202774828019906\tCRISPRi-Growth\tCRISPRi-Growth\t219\n",
      "\n",
      "\n",
      "Done!\n",
      "Run Time: 0 seconds\n"
     ]
    }
   ],
   "source": [
    "cat ${FD_LOG}/annotation.hic_intact_ENCSR479XDG.loopA.crispri_growth_dhs.0.txt"
   ]
  },
  {
   "cell_type": "markdown",
   "id": "3245dea4-ddef-430f-a623-a9c8127802a7",
   "metadata": {},
   "source": [
    "## Annotation: CRISPRi-E2G"
   ]
  },
  {
   "cell_type": "markdown",
   "id": "aba7029c-b127-4f45-a978-999cfa708e33",
   "metadata": {},
   "source": [
    "**Check data**"
   ]
  },
  {
   "cell_type": "code",
   "execution_count": 51,
   "id": "16a89588-1a2f-42da-ba0d-366e1a72ad09",
   "metadata": {},
   "outputs": [
    {
     "name": "stdout",
     "output_type": "stream",
     "text": [
      "crispri_e2g_region.bed.gz\n"
     ]
    }
   ],
   "source": [
    "FOLDER_ANT=annotation_crispri_e2g\n",
    "FD_ANT=${FD_RES}/results/region/${FOLDER_ANT}\n",
    "FP_ANTS=($(ls ${FD_ANT}/*bed.gz))\n",
    "\n",
    "basename -a ${FP_ANTS[@]}"
   ]
  },
  {
   "cell_type": "markdown",
   "id": "7c1b748d-7053-475b-b889-84589b19c0af",
   "metadata": {},
   "source": [
    "**Check output**"
   ]
  },
  {
   "cell_type": "code",
   "execution_count": 53,
   "id": "4fbc6739-cd33-4ef9-895d-f9957e9cd83e",
   "metadata": {},
   "outputs": [
    {
     "name": "stdout",
     "output_type": "stream",
     "text": [
      "\u001b[0m\u001b[38;5;27m/data/reddylab/Kuei/out/proj_combeffect_encode_fcc/results/region/hic_intact_ENCSR479XDG/loop/annotation_crispri_e2g\u001b[0m\u001b[K\n",
      "\n",
      "\u001b[0m\u001b[38;5;27m/data/reddylab/Kuei/out/proj_combeffect_encode_fcc/results/region/hic_intact_deep/loop/annotation_crispri_e2g\u001b[0m\u001b[K\n",
      "\n"
     ]
    }
   ],
   "source": [
    "FOLDER_ANT=annotation_crispri_e2g\n",
    "\n",
    "for FOLDER_LOOP in \"hic_intact_ENCSR479XDG\" \"hic_intact_deep\"; do\n",
    "    FD_OUT=${FD_RES}/results/region/${FOLDER_LOOP}/loop/${FOLDER_ANT}\n",
    "    mkdir -p ${FD_OUT}\n",
    "    ls -d ${FD_OUT}\n",
    "    ls ${FD_OUT}\n",
    "    #rm ${FD_OUT}/loop*bed.gz\n",
    "    echo\n",
    "done"
   ]
  },
  {
   "cell_type": "markdown",
   "id": "44afb3ca-e075-40d0-b52c-f9cb0065962e",
   "metadata": {},
   "source": [
    "**Execute**"
   ]
  },
  {
   "cell_type": "code",
   "execution_count": 54,
   "id": "1cfb09d0-848f-4adb-9143-6643f758bf80",
   "metadata": {},
   "outputs": [
    {
     "name": "stdout",
     "output_type": "stream",
     "text": [
      "=======================================\n",
      "File Prefix (Annotation): crispri_e2g_region\n",
      "File Name   (Annotation): crispri_e2g_region.bed.gz\n",
      "\n",
      "+++++++++++++++++++++++++++++++++++++++\n",
      "File FOLDER (LOOP): hic_intact_ENCSR479XDG\n",
      "\n",
      "File Name (Region): loopA.bed.gz\n",
      "File Name (Output): loopA.annotation.crispri_e2g_region.bed.gz\n",
      "File Path (Log):    ${FD_LOG}/annotation.hic_intact_ENCSR479XDG.loopA.crispri_e2g_region.0.txt\n",
      "\n",
      "Submitted batch job 30010366\n",
      "\n",
      "File Name (Region): loopB.bed.gz\n",
      "File Name (Output): loopB.annotation.crispri_e2g_region.bed.gz\n",
      "File Path (Log):    ${FD_LOG}/annotation.hic_intact_ENCSR479XDG.loopB.crispri_e2g_region.0.txt\n",
      "\n",
      "Submitted batch job 30010367\n",
      "\n",
      "+++++++++++++++++++++++++++++++++++++++\n",
      "File FOLDER (LOOP): hic_intact_deep\n",
      "\n",
      "File Name (Region): loopA.bed.gz\n",
      "File Name (Output): loopA.annotation.crispri_e2g_region.bed.gz\n",
      "File Path (Log):    ${FD_LOG}/annotation.hic_intact_deep.loopA.crispri_e2g_region.0.txt\n",
      "\n",
      "Submitted batch job 30010368\n",
      "\n",
      "File Name (Region): loopB.bed.gz\n",
      "File Name (Output): loopB.annotation.crispri_e2g_region.bed.gz\n",
      "File Path (Log):    ${FD_LOG}/annotation.hic_intact_deep.loopB.crispri_e2g_region.0.txt\n",
      "\n",
      "Submitted batch job 30010369\n",
      "\n"
     ]
    }
   ],
   "source": [
    "FOLDER_LOOPS=(\"hic_intact_ENCSR479XDG\" \"hic_intact_deep\")\n",
    "PREFIX_LOOPS=(\"loopA\" \"loopB\")\n",
    "\n",
    "FOLDER_ANT=annotation_crispri_e2g\n",
    "FD_ANT=${FD_RES}/results/region/${FOLDER_ANT}\n",
    "FP_ANTS=($(ls ${FD_ANT}/*bed.gz))\n",
    "\n",
    "for FP_ANT in ${FP_ANTS[@]}; do\n",
    "    FN_ANT=$(basename ${FP_ANT})\n",
    "    PREFIX_ANT=${FN_ANT%.bed.gz}\n",
    "    echo \"=======================================\"\n",
    "    echo \"File Prefix (Annotation):\" ${PREFIX_ANT}\n",
    "    echo \"File Name   (Annotation):\" ${FN_ANT}\n",
    "    echo\n",
    "    for FOLDER_LOOP in ${FOLDER_LOOPS[@]}; do\n",
    "        FD_REG=${FD_RES}/results/region/${FOLDER_LOOP}/loop\n",
    "        FD_OUT=${FD_RES}/results/region/${FOLDER_LOOP}/loop/${FOLDER_ANT}\n",
    "        mkdir -p ${FD_OUT}\n",
    "        echo \"+++++++++++++++++++++++++++++++++++++++\"\n",
    "        echo \"File FOLDER (LOOP):\" ${FOLDER_LOOP}\n",
    "        echo\n",
    "        for PREFIX_LOOP in ${PREFIX_LOOPS[@]}; do\n",
    "            FN_LOG=annotation.${FOLDER_LOOP}.${PREFIX_LOOP}.${PREFIX_ANT}.%a.txt\n",
    "            FP_LOG='${FD_LOG}/'annotation.${FOLDER_LOOP}.${PREFIX_LOOP}.${PREFIX_ANT}.0.txt\n",
    "            \n",
    "            FN_REG=${PREFIX_LOOP}.bed.gz\n",
    "            FP_REG=${FD_REG}/${FN_REG}\n",
    "            \n",
    "            FN_OUT=${PREFIX_LOOP}.annotation.${FN_ANT}\n",
    "            FP_OUT=${FD_OUT}/${FN_OUT}\n",
    "            \n",
    "            echo \"File Name (Region):\" ${FN_REG}\n",
    "            echo \"File Name (Output):\" ${FN_OUT} \n",
    "            echo \"File Path (Log):   \" ${FP_LOG}\n",
    "            echo\n",
    "            sbatch -p ${NODE} \\\n",
    "                --exclude=dl-01 \\\n",
    "                --cpus-per-task 8 \\\n",
    "                --mem 4G \\\n",
    "                --output ${FD_LOG}/${FN_LOG} \\\n",
    "                --array 0 \\\n",
    "                ./run_annot.sh ${FP_REG} ${FP_ANT} ${FP_OUT}\n",
    "            echo\n",
    "        done\n",
    "    done\n",
    "done"
   ]
  },
  {
   "cell_type": "markdown",
   "id": "5acd99d3-71f7-411f-9717-c9b61335873c",
   "metadata": {},
   "source": [
    "**Check results**"
   ]
  },
  {
   "cell_type": "code",
   "execution_count": 55,
   "id": "014bea20-5596-43aa-825c-d54ce0f38a0a",
   "metadata": {},
   "outputs": [
    {
     "name": "stdout",
     "output_type": "stream",
     "text": [
      "\u001b[0m\u001b[38;5;27m/data/reddylab/Kuei/out/proj_combeffect_encode_fcc/results/region/hic_intact_ENCSR479XDG/loop/annotation_crispri_e2g\u001b[0m\u001b[K\n",
      "\u001b[0m\u001b[38;5;9mloopA.annotation.crispri_e2g_region.bed.gz\u001b[0m\n",
      "\u001b[38;5;9mloopB.annotation.crispri_e2g_region.bed.gz\u001b[0m\n",
      "\n",
      "\u001b[0m\u001b[38;5;27m/data/reddylab/Kuei/out/proj_combeffect_encode_fcc/results/region/hic_intact_deep/loop/annotation_crispri_e2g\u001b[0m\u001b[K\n",
      "\u001b[0m\u001b[38;5;9mloopA.annotation.crispri_e2g_region.bed.gz\u001b[0m\n",
      "\u001b[38;5;9mloopB.annotation.crispri_e2g_region.bed.gz\u001b[0m\n",
      "\n"
     ]
    }
   ],
   "source": [
    "FOLDER_ANT=annotation_crispri_e2g\n",
    "\n",
    "for FOLDER_LOOP in \"hic_intact_ENCSR479XDG\" \"hic_intact_deep\"; do\n",
    "    FD_OUT=${FD_RES}/results/region/${FOLDER_LOOP}/loop/${FOLDER_ANT}\n",
    "    mkdir -p ${FD_OUT}\n",
    "    ls -d ${FD_OUT}\n",
    "    ls ${FD_OUT}\n",
    "    #rm ${FD_OUT}/loop*bed.gz\n",
    "    echo\n",
    "done"
   ]
  },
  {
   "cell_type": "code",
   "execution_count": 56,
   "id": "84e3e4e7-ccd3-4f05-869d-cef789314e67",
   "metadata": {},
   "outputs": [
    {
     "name": "stdout",
     "output_type": "stream",
     "text": [
      "Hostname:           x1-03-4.genome.duke.edu\n",
      "Slurm Array Index:  0\n",
      "Time Stamp:         06-16-23+11:10:13\n",
      "\n",
      "Input:  /data/reddylab/Kuei/out/proj_combeffect_encode_fcc/results/region/hic_intact_ENCSR479XDG/loop/loopA.bed.gz\n",
      "\n",
      "show first few lines of input\n",
      "chr1\t770000\t780000\n",
      "chr1\t904000\t906000\n",
      "chr1\t920000\t925000\n",
      "chr1\t980000\t990000\n",
      "chr1\t984000\t985000\n",
      "\n",
      "Input:  /data/reddylab/Kuei/out/proj_combeffect_encode_fcc/results/region/annotation_crispri_e2g/crispri_e2g_region.bed.gz\n",
      "\n",
      "show first few lines of input\n",
      "chr1\t8858063\t8858563\tENO1|chr1:8918122-8918622:.\t-0.10741\tENO1\tchr1:8879248-8879249\tGasperini et al., 2019\tCRISPRi-E2G\tCRISPRi-E2G:ENO1\n",
      "chr1\t17441310\t17441810\tSDHB|chr1:17767806-17768306:.\t-0.08968\tSDHB\tchr1:17054169-17054170\tGasperini et al., 2019\tCRISPRi-E2G\tCRISPRi-E2G:SDHB\n",
      "chr1\t25933351\t25933954\tNUDC|chr1:26259842-26260445:.\t-0.08462\tNUDC\tchr1:26900238-26900239\tGasperini et al., 2019\tCRISPRi-E2G\tCRISPRi-E2G:NUDC\n",
      "chr1\t25933351\t25933954\tSTMN1|chr1:26259842-26260445:.\t-0.12223\tSTMN1\tchr1:25906990-25906991\tGasperini et al., 2019\tCRISPRi-E2G\tCRISPRi-E2G:STMN1\n",
      "chr1\t26377523\t26378866\tLIN28A|chr1:26704014-26705357:.\t-0.05172\tLIN28A\tchr1:26410778-26410779\tGasperini et al., 2019\tCRISPRi-E2G\tCRISPRi-E2G:LIN28A\n",
      "\n",
      "\n",
      "Output:  /data/reddylab/Kuei/out/proj_combeffect_encode_fcc/results/region/hic_intact_ENCSR479XDG/loop/annotation_crispri_e2g/loopA.annotation.crispri_e2g_region.bed.gz\n",
      "\n",
      "show first few lines of output:\n",
      "chr1\t8850000\t8860000\tchr1\t8858063\t8858563\tENO1|chr1:8918122-8918622:.\t-0.10741\tENO1\tchr1:8879248-8879249\tGasperini et al., 2019\tCRISPRi-E2G\tCRISPRi-E2G:ENO1\t500\n",
      "chr1\t8858000\t8860000\tchr1\t8858063\t8858563\tENO1|chr1:8918122-8918622:.\t-0.10741\tENO1\tchr1:8879248-8879249\tGasperini et al., 2019\tCRISPRi-E2G\tCRISPRi-E2G:ENO1\t500\n",
      "chr1\t25933000\t25934000\tchr1\t25933351\t25933954\tNUDC|chr1:26259842-26260445:.\t-0.08462\tNUDC\tchr1:26900238-26900239\tGasperini et al., 2019\tCRISPRi-E2G\tCRISPRi-E2G:NUDC\t603\n",
      "chr1\t25933000\t25934000\tchr1\t25933351\t25933954\tSTMN1|chr1:26259842-26260445:.\t-0.12223\tSTMN1\tchr1:25906990-25906991\tGasperini et al., 2019\tCRISPRi-E2G\tCRISPRi-E2G:STMN1\t603\n",
      "chr1\t28880000\t28885000\tchr1\t28883765\t28884265\tEPB41|chr1:29210277-29210777:.\t-0.26521\tEPB41\tchr1:28887091-28887092\tGasperini et al., 2019\tCRISPRi-E2G\tCRISPRi-E2G:EPB41\t500\n",
      "\n",
      "\n",
      "Done!\n",
      "Run Time: 0 seconds\n"
     ]
    }
   ],
   "source": [
    "cat ${FD_LOG}/annotation.hic_intact_ENCSR479XDG.loopA.crispri_e2g_region.0.txt"
   ]
  },
  {
   "cell_type": "markdown",
   "id": "3ca39ed6-8443-4e81-8c87-9195eb04c8d0",
   "metadata": {
    "tags": []
   },
   "source": [
    "## Annotation: Enhancer merge"
   ]
  },
  {
   "cell_type": "markdown",
   "id": "2e711327-ec85-4917-95ba-c4a07a251172",
   "metadata": {},
   "source": [
    "**Check data**"
   ]
  },
  {
   "cell_type": "code",
   "execution_count": 36,
   "id": "75a7e2e8-487d-4743-a614-dcc6184324c1",
   "metadata": {},
   "outputs": [
    {
     "name": "stdout",
     "output_type": "stream",
     "text": [
      "enhancer_merge.concat.crispri.bed.gz\n",
      "enhancer_merge.concat.crispri_hcrff.bed.gz\n",
      "enhancer_merge.concat.starrmpra.bed.gz\n",
      "enhancer_merge.concat.starrmpracrispr.bed.gz\n",
      "enhancer_merge.region.crispri.bed.gz\n",
      "enhancer_merge.region.crispri_hcrff.bed.gz\n",
      "enhancer_merge.region.starrmpra.bed.gz\n",
      "enhancer_merge.region.starrmpracrispr.bed.gz\n"
     ]
    }
   ],
   "source": [
    "FOLDER_ANT=annotation_enhancer_merge\n",
    "FD_ANT=${FD_RES}/results/region/${FOLDER_ANT}\n",
    "FP_ANTS=($(ls ${FD_ANT}/*bed.gz))\n",
    "\n",
    "basename -a ${FP_ANTS[@]}"
   ]
  },
  {
   "cell_type": "code",
   "execution_count": 37,
   "id": "dccddfea-e3ee-4f6c-a720-970861c9f101",
   "metadata": {},
   "outputs": [
    {
     "name": "stdout",
     "output_type": "stream",
     "text": [
      "enhancer_merge.region.crispri.bed.gz\n",
      "enhancer_merge.region.crispri_hcrff.bed.gz\n",
      "enhancer_merge.region.starrmpra.bed.gz\n",
      "enhancer_merge.region.starrmpracrispr.bed.gz\n"
     ]
    }
   ],
   "source": [
    "FOLDER_ANT=annotation_enhancer_merge\n",
    "FD_ANT=${FD_RES}/results/region/${FOLDER_ANT}\n",
    "FP_ANTS=($(ls ${FD_ANT}/*region*bed.gz))\n",
    "\n",
    "basename -a ${FP_ANTS[@]}"
   ]
  },
  {
   "cell_type": "markdown",
   "id": "ae93eadd-44e8-466f-bcba-9ffdf1979f12",
   "metadata": {},
   "source": [
    "**Check output**"
   ]
  },
  {
   "cell_type": "code",
   "execution_count": 40,
   "id": "74e74d7f-5a6c-4374-92c1-7bfa333edcbd",
   "metadata": {},
   "outputs": [
    {
     "name": "stdout",
     "output_type": "stream",
     "text": [
      "\u001b[0m\u001b[38;5;27m/data/reddylab/Kuei/out/proj_combeffect_encode_fcc/results/region/hic_intact_ENCSR479XDG/loop/annotation_enhancer_merge\u001b[0m\u001b[K\n",
      "\n",
      "\u001b[0m\u001b[38;5;27m/data/reddylab/Kuei/out/proj_combeffect_encode_fcc/results/region/hic_intact_deep/loop/annotation_enhancer_merge\u001b[0m\u001b[K\n",
      "\n"
     ]
    }
   ],
   "source": [
    "FOLDER_ANT=annotation_enhancer_merge\n",
    "\n",
    "for FOLDER_LOOP in \"hic_intact_ENCSR479XDG\" \"hic_intact_deep\"; do\n",
    "    FD_OUT=${FD_RES}/results/region/${FOLDER_LOOP}/loop/${FOLDER_ANT}\n",
    "    mkdir -p ${FD_OUT}\n",
    "    ls -d ${FD_OUT}\n",
    "    ls ${FD_OUT}\n",
    "    #rm ${FD_OUT}/loop*bed.gz\n",
    "    echo\n",
    "done"
   ]
  },
  {
   "cell_type": "markdown",
   "id": "9941c9d2-8757-4a47-8870-41e8151569e8",
   "metadata": {},
   "source": [
    "**Execute**"
   ]
  },
  {
   "cell_type": "code",
   "execution_count": 41,
   "id": "d7b539d2-4d12-4155-94fe-98db0134ffac",
   "metadata": {},
   "outputs": [
    {
     "name": "stdout",
     "output_type": "stream",
     "text": [
      "=======================================\n",
      "File Prefix (Annotation): enhancer_merge.region.crispri\n",
      "File Name   (Annotation): enhancer_merge.region.crispri.bed.gz\n",
      "\n",
      "+++++++++++++++++++++++++++++++++++++++\n",
      "File FOLDER (LOOP): hic_intact_ENCSR479XDG\n",
      "\n",
      "File Name (Region): loopA.bed.gz\n",
      "File Name (Output): loopA.annotation.enhancer_merge.region.crispri.bed.gz\n",
      "File Path (Log):    ${FD_LOG}/annotation.hic_intact_ENCSR479XDG.loopA.enhancer_merge.region.crispri.0.txt\n",
      "\n",
      "Submitted batch job 30010334\n",
      "\n",
      "File Name (Region): loopB.bed.gz\n",
      "File Name (Output): loopB.annotation.enhancer_merge.region.crispri.bed.gz\n",
      "File Path (Log):    ${FD_LOG}/annotation.hic_intact_ENCSR479XDG.loopB.enhancer_merge.region.crispri.0.txt\n",
      "\n",
      "Submitted batch job 30010335\n",
      "\n",
      "+++++++++++++++++++++++++++++++++++++++\n",
      "File FOLDER (LOOP): hic_intact_deep\n",
      "\n",
      "File Name (Region): loopA.bed.gz\n",
      "File Name (Output): loopA.annotation.enhancer_merge.region.crispri.bed.gz\n",
      "File Path (Log):    ${FD_LOG}/annotation.hic_intact_deep.loopA.enhancer_merge.region.crispri.0.txt\n",
      "\n",
      "Submitted batch job 30010336\n",
      "\n",
      "File Name (Region): loopB.bed.gz\n",
      "File Name (Output): loopB.annotation.enhancer_merge.region.crispri.bed.gz\n",
      "File Path (Log):    ${FD_LOG}/annotation.hic_intact_deep.loopB.enhancer_merge.region.crispri.0.txt\n",
      "\n",
      "Submitted batch job 30010337\n",
      "\n",
      "=======================================\n",
      "File Prefix (Annotation): enhancer_merge.region.crispri_hcrff\n",
      "File Name   (Annotation): enhancer_merge.region.crispri_hcrff.bed.gz\n",
      "\n",
      "+++++++++++++++++++++++++++++++++++++++\n",
      "File FOLDER (LOOP): hic_intact_ENCSR479XDG\n",
      "\n",
      "File Name (Region): loopA.bed.gz\n",
      "File Name (Output): loopA.annotation.enhancer_merge.region.crispri_hcrff.bed.gz\n",
      "File Path (Log):    ${FD_LOG}/annotation.hic_intact_ENCSR479XDG.loopA.enhancer_merge.region.crispri_hcrff.0.txt\n",
      "\n",
      "Submitted batch job 30010338\n",
      "\n",
      "File Name (Region): loopB.bed.gz\n",
      "File Name (Output): loopB.annotation.enhancer_merge.region.crispri_hcrff.bed.gz\n",
      "File Path (Log):    ${FD_LOG}/annotation.hic_intact_ENCSR479XDG.loopB.enhancer_merge.region.crispri_hcrff.0.txt\n",
      "\n",
      "Submitted batch job 30010339\n",
      "\n",
      "+++++++++++++++++++++++++++++++++++++++\n",
      "File FOLDER (LOOP): hic_intact_deep\n",
      "\n",
      "File Name (Region): loopA.bed.gz\n",
      "File Name (Output): loopA.annotation.enhancer_merge.region.crispri_hcrff.bed.gz\n",
      "File Path (Log):    ${FD_LOG}/annotation.hic_intact_deep.loopA.enhancer_merge.region.crispri_hcrff.0.txt\n",
      "\n",
      "Submitted batch job 30010340\n",
      "\n",
      "File Name (Region): loopB.bed.gz\n",
      "File Name (Output): loopB.annotation.enhancer_merge.region.crispri_hcrff.bed.gz\n",
      "File Path (Log):    ${FD_LOG}/annotation.hic_intact_deep.loopB.enhancer_merge.region.crispri_hcrff.0.txt\n",
      "\n",
      "Submitted batch job 30010341\n",
      "\n",
      "=======================================\n",
      "File Prefix (Annotation): enhancer_merge.region.starrmpra\n",
      "File Name   (Annotation): enhancer_merge.region.starrmpra.bed.gz\n",
      "\n",
      "+++++++++++++++++++++++++++++++++++++++\n",
      "File FOLDER (LOOP): hic_intact_ENCSR479XDG\n",
      "\n",
      "File Name (Region): loopA.bed.gz\n",
      "File Name (Output): loopA.annotation.enhancer_merge.region.starrmpra.bed.gz\n",
      "File Path (Log):    ${FD_LOG}/annotation.hic_intact_ENCSR479XDG.loopA.enhancer_merge.region.starrmpra.0.txt\n",
      "\n",
      "Submitted batch job 30010342\n",
      "\n",
      "File Name (Region): loopB.bed.gz\n",
      "File Name (Output): loopB.annotation.enhancer_merge.region.starrmpra.bed.gz\n",
      "File Path (Log):    ${FD_LOG}/annotation.hic_intact_ENCSR479XDG.loopB.enhancer_merge.region.starrmpra.0.txt\n",
      "\n",
      "Submitted batch job 30010343\n",
      "\n",
      "+++++++++++++++++++++++++++++++++++++++\n",
      "File FOLDER (LOOP): hic_intact_deep\n",
      "\n",
      "File Name (Region): loopA.bed.gz\n",
      "File Name (Output): loopA.annotation.enhancer_merge.region.starrmpra.bed.gz\n",
      "File Path (Log):    ${FD_LOG}/annotation.hic_intact_deep.loopA.enhancer_merge.region.starrmpra.0.txt\n",
      "\n",
      "Submitted batch job 30010344\n",
      "\n",
      "File Name (Region): loopB.bed.gz\n",
      "File Name (Output): loopB.annotation.enhancer_merge.region.starrmpra.bed.gz\n",
      "File Path (Log):    ${FD_LOG}/annotation.hic_intact_deep.loopB.enhancer_merge.region.starrmpra.0.txt\n",
      "\n",
      "Submitted batch job 30010345\n",
      "\n",
      "=======================================\n",
      "File Prefix (Annotation): enhancer_merge.region.starrmpracrispr\n",
      "File Name   (Annotation): enhancer_merge.region.starrmpracrispr.bed.gz\n",
      "\n",
      "+++++++++++++++++++++++++++++++++++++++\n",
      "File FOLDER (LOOP): hic_intact_ENCSR479XDG\n",
      "\n",
      "File Name (Region): loopA.bed.gz\n",
      "File Name (Output): loopA.annotation.enhancer_merge.region.starrmpracrispr.bed.gz\n",
      "File Path (Log):    ${FD_LOG}/annotation.hic_intact_ENCSR479XDG.loopA.enhancer_merge.region.starrmpracrispr.0.txt\n",
      "\n",
      "Submitted batch job 30010346\n",
      "\n",
      "File Name (Region): loopB.bed.gz\n",
      "File Name (Output): loopB.annotation.enhancer_merge.region.starrmpracrispr.bed.gz\n",
      "File Path (Log):    ${FD_LOG}/annotation.hic_intact_ENCSR479XDG.loopB.enhancer_merge.region.starrmpracrispr.0.txt\n",
      "\n",
      "Submitted batch job 30010347\n",
      "\n",
      "+++++++++++++++++++++++++++++++++++++++\n",
      "File FOLDER (LOOP): hic_intact_deep\n",
      "\n",
      "File Name (Region): loopA.bed.gz\n",
      "File Name (Output): loopA.annotation.enhancer_merge.region.starrmpracrispr.bed.gz\n",
      "File Path (Log):    ${FD_LOG}/annotation.hic_intact_deep.loopA.enhancer_merge.region.starrmpracrispr.0.txt\n",
      "\n",
      "Submitted batch job 30010348\n",
      "\n",
      "File Name (Region): loopB.bed.gz\n",
      "File Name (Output): loopB.annotation.enhancer_merge.region.starrmpracrispr.bed.gz\n",
      "File Path (Log):    ${FD_LOG}/annotation.hic_intact_deep.loopB.enhancer_merge.region.starrmpracrispr.0.txt\n",
      "\n",
      "Submitted batch job 30010349\n",
      "\n"
     ]
    }
   ],
   "source": [
    "FOLDER_LOOPS=(\"hic_intact_ENCSR479XDG\" \"hic_intact_deep\")\n",
    "PREFIX_LOOPS=(\"loopA\" \"loopB\")\n",
    "\n",
    "FOLDER_ANT=annotation_enhancer_merge\n",
    "FD_ANT=${FD_RES}/results/region/${FOLDER_ANT}\n",
    "FP_ANTS=($(ls ${FD_ANT}/*region*bed.gz))\n",
    "\n",
    "for FP_ANT in ${FP_ANTS[@]}; do\n",
    "    FN_ANT=$(basename ${FP_ANT})\n",
    "    PREFIX_ANT=${FN_ANT%.bed.gz}\n",
    "    echo \"=======================================\"\n",
    "    echo \"File Prefix (Annotation):\" ${PREFIX_ANT}\n",
    "    echo \"File Name   (Annotation):\" ${FN_ANT}\n",
    "    echo\n",
    "    for FOLDER_LOOP in ${FOLDER_LOOPS[@]}; do\n",
    "        FD_REG=${FD_RES}/results/region/${FOLDER_LOOP}/loop\n",
    "        FD_OUT=${FD_RES}/results/region/${FOLDER_LOOP}/loop/${FOLDER_ANT}\n",
    "        mkdir -p ${FD_OUT}\n",
    "        echo \"+++++++++++++++++++++++++++++++++++++++\"\n",
    "        echo \"File FOLDER (LOOP):\" ${FOLDER_LOOP}\n",
    "        echo\n",
    "        for PREFIX_LOOP in ${PREFIX_LOOPS[@]}; do\n",
    "            FN_LOG=annotation.${FOLDER_LOOP}.${PREFIX_LOOP}.${PREFIX_ANT}.%a.txt\n",
    "            FP_LOG='${FD_LOG}/'annotation.${FOLDER_LOOP}.${PREFIX_LOOP}.${PREFIX_ANT}.0.txt\n",
    "            \n",
    "            FN_REG=${PREFIX_LOOP}.bed.gz\n",
    "            FP_REG=${FD_REG}/${FN_REG}\n",
    "            \n",
    "            FN_OUT=${PREFIX_LOOP}.annotation.${FN_ANT}\n",
    "            FP_OUT=${FD_OUT}/${FN_OUT}\n",
    "            \n",
    "            echo \"File Name (Region):\" ${FN_REG}\n",
    "            echo \"File Name (Output):\" ${FN_OUT} \n",
    "            echo \"File Path (Log):   \" ${FP_LOG}\n",
    "            echo\n",
    "            sbatch -p ${NODE} \\\n",
    "                --exclude=dl-01 \\\n",
    "                --cpus-per-task 8 \\\n",
    "                --mem 4G \\\n",
    "                --output ${FD_LOG}/${FN_LOG} \\\n",
    "                --array 0 \\\n",
    "                ./run_annot.sh ${FP_REG} ${FP_ANT} ${FP_OUT}\n",
    "            echo\n",
    "        done\n",
    "    done\n",
    "done"
   ]
  },
  {
   "cell_type": "markdown",
   "id": "10460535-f858-40d1-bcf5-1df6904b2f43",
   "metadata": {},
   "source": [
    "**Check results**"
   ]
  },
  {
   "cell_type": "code",
   "execution_count": 42,
   "id": "4f819a9d-09c2-4535-a570-ab6780e2323f",
   "metadata": {},
   "outputs": [
    {
     "name": "stdout",
     "output_type": "stream",
     "text": [
      "\u001b[0m\u001b[38;5;27m/data/reddylab/Kuei/out/proj_combeffect_encode_fcc/results/region/hic_intact_ENCSR479XDG/loop/annotation_enhancer_merge\u001b[0m\u001b[K\n",
      "\u001b[0m\u001b[38;5;9mloopA.annotation.enhancer_merge.region.crispri.bed.gz\u001b[0m\n",
      "\u001b[38;5;9mloopA.annotation.enhancer_merge.region.crispri_hcrff.bed.gz\u001b[0m\n",
      "\u001b[38;5;9mloopA.annotation.enhancer_merge.region.starrmpra.bed.gz\u001b[0m\n",
      "\u001b[38;5;9mloopA.annotation.enhancer_merge.region.starrmpracrispr.bed.gz\u001b[0m\n",
      "\u001b[38;5;9mloopB.annotation.enhancer_merge.region.crispri.bed.gz\u001b[0m\n",
      "\u001b[38;5;9mloopB.annotation.enhancer_merge.region.crispri_hcrff.bed.gz\u001b[0m\n",
      "\u001b[38;5;9mloopB.annotation.enhancer_merge.region.starrmpra.bed.gz\u001b[0m\n",
      "\u001b[38;5;9mloopB.annotation.enhancer_merge.region.starrmpracrispr.bed.gz\u001b[0m\n",
      "\n",
      "\u001b[0m\u001b[38;5;27m/data/reddylab/Kuei/out/proj_combeffect_encode_fcc/results/region/hic_intact_deep/loop/annotation_enhancer_merge\u001b[0m\u001b[K\n",
      "\u001b[0m\u001b[38;5;9mloopA.annotation.enhancer_merge.region.crispri.bed.gz\u001b[0m\n",
      "\u001b[38;5;9mloopA.annotation.enhancer_merge.region.crispri_hcrff.bed.gz\u001b[0m\n",
      "\u001b[38;5;9mloopA.annotation.enhancer_merge.region.starrmpra.bed.gz\u001b[0m\n",
      "\u001b[38;5;9mloopA.annotation.enhancer_merge.region.starrmpracrispr.bed.gz\u001b[0m\n",
      "\u001b[38;5;9mloopB.annotation.enhancer_merge.region.crispri.bed.gz\u001b[0m\n",
      "\u001b[38;5;9mloopB.annotation.enhancer_merge.region.crispri_hcrff.bed.gz\u001b[0m\n",
      "\u001b[38;5;9mloopB.annotation.enhancer_merge.region.starrmpra.bed.gz\u001b[0m\n",
      "\u001b[38;5;9mloopB.annotation.enhancer_merge.region.starrmpracrispr.bed.gz\u001b[0m\n",
      "\n"
     ]
    }
   ],
   "source": [
    "FOLDER_ANT=annotation_enhancer_merge\n",
    "\n",
    "for FOLDER_LOOP in \"hic_intact_ENCSR479XDG\" \"hic_intact_deep\"; do\n",
    "    FD_OUT=${FD_RES}/results/region/${FOLDER_LOOP}/loop/${FOLDER_ANT}\n",
    "    mkdir -p ${FD_OUT}\n",
    "    ls -d ${FD_OUT}\n",
    "    ls ${FD_OUT}\n",
    "    #rm ${FD_OUT}/loop*bed.gz\n",
    "    echo\n",
    "done"
   ]
  },
  {
   "cell_type": "code",
   "execution_count": 43,
   "id": "724444eb-2597-4d94-b64b-8edec042b329",
   "metadata": {},
   "outputs": [
    {
     "name": "stdout",
     "output_type": "stream",
     "text": [
      "Hostname:           x1-02-1.genome.duke.edu\n",
      "Slurm Array Index:  0\n",
      "Time Stamp:         06-16-23+09:34:37\n",
      "\n",
      "Input:  /data/reddylab/Kuei/out/proj_combeffect_encode_fcc/results/region/hic_intact_ENCSR479XDG/loop/loopA.bed.gz\n",
      "\n",
      "show first few lines of input\n",
      "chr1\t770000\t780000\n",
      "chr1\t904000\t906000\n",
      "chr1\t920000\t925000\n",
      "chr1\t980000\t990000\n",
      "chr1\t984000\t985000\n",
      "\n",
      "Input:  /data/reddylab/Kuei/out/proj_combeffect_encode_fcc/results/region/annotation_enhancer_merge/enhancer_merge.region.crispri_hcrff.bed.gz\n",
      "\n",
      "show first few lines of input\n",
      "chr11\t5248847\t5249047\tCRISPRi-HCRFF\tCRISPRi-HCRFF:HBG1,CRISPRi-HCRFF:HBG2\n",
      "chr11\t5249847\t5250847\tCRISPRi-HCRFF\tCRISPRi-HCRFF:HBG1,CRISPRi-HCRFF:HBG2\n",
      "chr11\t5253147\t5253547\tCRISPRi-HCRFF\tCRISPRi-HCRFF:HBG1,CRISPRi-HCRFF:HBG2\n",
      "chr11\t5253647\t5254647\tCRISPRi-HCRFF\tCRISPRi-HCRFF:HBG1,CRISPRi-HCRFF:HBG2\n",
      "chr11\t5269147\t5271147\tCRISPRi-HCRFF\tCRISPRi-HCRFF:HBE1\n",
      "\n",
      "\n",
      "Output:  /data/reddylab/Kuei/out/proj_combeffect_encode_fcc/results/region/hic_intact_ENCSR479XDG/loop/annotation_enhancer_merge/loopA.annotation.enhancer_merge.region.crispri_hcrff.bed.gz\n",
      "\n",
      "show first few lines of output:\n",
      "chr11\t5252000\t5254000\tchr11\t5253147\t5253547\tCRISPRi-HCRFF\tCRISPRi-HCRFF:HBG1,CRISPRi-HCRFF:HBG2\t400\n",
      "chr11\t5280000\t5290000\tchr11\t5279747\t5281147\tCRISPRi-HCRFF\tCRISPRi-HCRFF:HBE1,CRISPRi-HCRFF:HBG1,CRISPRi-HCRFF:HBG2\t1147\n",
      "chr11\t5280000\t5290000\tchr11\t5281347\t5281947\tCRISPRi-HCRFF\tCRISPRi-HCRFF:HBG1,CRISPRi-HCRFF:HBG2\t600\n",
      "chr11\t5280000\t5290000\tchr11\t5282047\t5282647\tCRISPRi-HCRFF\tCRISPRi-HCRFF:HBG1,CRISPRi-HCRFF:HBG2\t600\n",
      "chr11\t5280000\t5290000\tchr11\t5283047\t5283447\tCRISPRi-HCRFF\tCRISPRi-HCRFF:HBG1,CRISPRi-HCRFF:HBG2\t400\n",
      "\n",
      "\n",
      "Done!\n",
      "Run Time: 0 seconds\n"
     ]
    }
   ],
   "source": [
    "cat ${FD_LOG}/annotation.hic_intact_ENCSR479XDG.loopA.enhancer_merge.region.crispri_hcrff.0.txt"
   ]
  },
  {
   "cell_type": "markdown",
   "id": "88af16ba-4a4e-4e2d-9538-31c0dd1e4a6c",
   "metadata": {},
   "source": [
    "## Annotation: open chromatin regions"
   ]
  },
  {
   "cell_type": "markdown",
   "id": "e51a3d6c-181b-4522-ae08-a2c0c3a91b56",
   "metadata": {},
   "source": [
    "**Check data**"
   ]
  },
  {
   "cell_type": "code",
   "execution_count": 45,
   "id": "dad63bbe-13a5-467d-9af3-4c6f204fffd6",
   "metadata": {},
   "outputs": [
    {
     "name": "stdout",
     "output_type": "stream",
     "text": [
      "KS91_K562_hg38_ASTARRseq_Input.all_reps.masked.union_narrowPeak.q5.bed.gz\n"
     ]
    }
   ],
   "source": [
    "FOLDER_ANT=KS91_K562_ASTARRseq_peak_macs_input\n",
    "FD_ANT=${FD_RES}/results/region/${FOLDER_ANT}\n",
    "FP_ANTS=($(ls ${FD_ANT}/*bed.gz))\n",
    "\n",
    "basename -a ${FP_ANTS[@]}"
   ]
  },
  {
   "cell_type": "markdown",
   "id": "008f4703-9c35-4937-8508-51d197aa4e58",
   "metadata": {},
   "source": [
    "**Check output**"
   ]
  },
  {
   "cell_type": "code",
   "execution_count": 47,
   "id": "838ea276-f6ce-4d7d-bbdf-8aa51ed8baed",
   "metadata": {},
   "outputs": [
    {
     "name": "stdout",
     "output_type": "stream",
     "text": [
      "\u001b[0m\u001b[38;5;27m/data/reddylab/Kuei/out/proj_combeffect_encode_fcc/results/region/hic_intact_ENCSR479XDG/loop/KS91_K562_ASTARRseq_peak_macs_input\u001b[0m\u001b[K\n",
      "\n",
      "\u001b[0m\u001b[38;5;27m/data/reddylab/Kuei/out/proj_combeffect_encode_fcc/results/region/hic_intact_deep/loop/KS91_K562_ASTARRseq_peak_macs_input\u001b[0m\u001b[K\n",
      "\n"
     ]
    }
   ],
   "source": [
    "FOLDER_ANT=KS91_K562_ASTARRseq_peak_macs_input\n",
    "\n",
    "for FOLDER_LOOP in \"hic_intact_ENCSR479XDG\" \"hic_intact_deep\"; do\n",
    "    FD_OUT=${FD_RES}/results/region/${FOLDER_LOOP}/loop/${FOLDER_ANT}\n",
    "    mkdir -p ${FD_OUT}\n",
    "    ls -d ${FD_OUT}\n",
    "    ls ${FD_OUT}\n",
    "    #rm ${FD_OUT}/loop*bed.gz\n",
    "    echo\n",
    "done"
   ]
  },
  {
   "cell_type": "markdown",
   "id": "d0cc83b5-26fc-480d-a9a5-62509c756fc8",
   "metadata": {},
   "source": [
    "**Execute**"
   ]
  },
  {
   "cell_type": "code",
   "execution_count": 49,
   "id": "c957ebf5-c7be-4938-bb0a-b78ae0be732e",
   "metadata": {},
   "outputs": [
    {
     "name": "stdout",
     "output_type": "stream",
     "text": [
      "=======================================\n",
      "File Prefix (Annotation): KS91_K562_hg38_ASTARRseq_Input.all_reps.masked.union_narrowPeak.q5\n",
      "File Name   (Annotation): KS91_K562_hg38_ASTARRseq_Input.all_reps.masked.union_narrowPeak.q5.bed.gz\n",
      "\n",
      "+++++++++++++++++++++++++++++++++++++++\n",
      "File FOLDER (LOOP): hic_intact_ENCSR479XDG\n",
      "\n",
      "File Name (Region): loopA.bed.gz\n",
      "File Name (Output): loopA.annotation.KS91_K562_hg38_ASTARRseq_Input.all_reps.masked.union_narrowPeak.q5.bed.gz\n",
      "File Path (Log):    ${FD_LOG}/annotation.hic_intact_ENCSR479XDG.loopA.KS91_K562_hg38_ASTARRseq_Input.all_reps.masked.union_narrowPeak.q5.0.txt\n",
      "\n",
      "Submitted batch job 30010352\n",
      "\n",
      "File Name (Region): loopB.bed.gz\n",
      "File Name (Output): loopB.annotation.KS91_K562_hg38_ASTARRseq_Input.all_reps.masked.union_narrowPeak.q5.bed.gz\n",
      "File Path (Log):    ${FD_LOG}/annotation.hic_intact_ENCSR479XDG.loopB.KS91_K562_hg38_ASTARRseq_Input.all_reps.masked.union_narrowPeak.q5.0.txt\n",
      "\n",
      "Submitted batch job 30010353\n",
      "\n",
      "+++++++++++++++++++++++++++++++++++++++\n",
      "File FOLDER (LOOP): hic_intact_deep\n",
      "\n",
      "File Name (Region): loopA.bed.gz\n",
      "File Name (Output): loopA.annotation.KS91_K562_hg38_ASTARRseq_Input.all_reps.masked.union_narrowPeak.q5.bed.gz\n",
      "File Path (Log):    ${FD_LOG}/annotation.hic_intact_deep.loopA.KS91_K562_hg38_ASTARRseq_Input.all_reps.masked.union_narrowPeak.q5.0.txt\n",
      "\n",
      "Submitted batch job 30010354\n",
      "\n",
      "File Name (Region): loopB.bed.gz\n",
      "File Name (Output): loopB.annotation.KS91_K562_hg38_ASTARRseq_Input.all_reps.masked.union_narrowPeak.q5.bed.gz\n",
      "File Path (Log):    ${FD_LOG}/annotation.hic_intact_deep.loopB.KS91_K562_hg38_ASTARRseq_Input.all_reps.masked.union_narrowPeak.q5.0.txt\n",
      "\n",
      "Submitted batch job 30010355\n",
      "\n"
     ]
    }
   ],
   "source": [
    "FOLDER_LOOPS=(\"hic_intact_ENCSR479XDG\" \"hic_intact_deep\")\n",
    "PREFIX_LOOPS=(\"loopA\" \"loopB\")\n",
    "\n",
    "FOLDER_ANT=KS91_K562_ASTARRseq_peak_macs_input\n",
    "FD_ANT=${FD_RES}/results/region/${FOLDER_ANT}\n",
    "FP_ANTS=($(ls ${FD_ANT}/*bed.gz))\n",
    "\n",
    "for FP_ANT in ${FP_ANTS[@]}; do\n",
    "    FN_ANT=$(basename ${FP_ANT})\n",
    "    PREFIX_ANT=${FN_ANT%.bed.gz}\n",
    "    echo \"=======================================\"\n",
    "    echo \"File Prefix (Annotation):\" ${PREFIX_ANT}\n",
    "    echo \"File Name   (Annotation):\" ${FN_ANT}\n",
    "    echo\n",
    "    for FOLDER_LOOP in ${FOLDER_LOOPS[@]}; do\n",
    "        FD_REG=${FD_RES}/results/region/${FOLDER_LOOP}/loop\n",
    "        FD_OUT=${FD_RES}/results/region/${FOLDER_LOOP}/loop/${FOLDER_ANT}\n",
    "        mkdir -p ${FD_OUT}\n",
    "        echo \"+++++++++++++++++++++++++++++++++++++++\"\n",
    "        echo \"File FOLDER (LOOP):\" ${FOLDER_LOOP}\n",
    "        echo\n",
    "        for PREFIX_LOOP in ${PREFIX_LOOPS[@]}; do\n",
    "            FN_LOG=annotation.${FOLDER_LOOP}.${PREFIX_LOOP}.${PREFIX_ANT}.%a.txt\n",
    "            FP_LOG='${FD_LOG}/'annotation.${FOLDER_LOOP}.${PREFIX_LOOP}.${PREFIX_ANT}.0.txt\n",
    "            \n",
    "            FN_REG=${PREFIX_LOOP}.bed.gz\n",
    "            FP_REG=${FD_REG}/${FN_REG}\n",
    "            \n",
    "            FN_OUT=${PREFIX_LOOP}.annotation.${FN_ANT}\n",
    "            FP_OUT=${FD_OUT}/${FN_OUT}\n",
    "            \n",
    "            echo \"File Name (Region):\" ${FN_REG}\n",
    "            echo \"File Name (Output):\" ${FN_OUT} \n",
    "            echo \"File Path (Log):   \" ${FP_LOG}\n",
    "            echo\n",
    "            sbatch -p ${NODE} \\\n",
    "                --exclude=dl-01 \\\n",
    "                --cpus-per-task 8 \\\n",
    "                --mem 4G \\\n",
    "                --output ${FD_LOG}/${FN_LOG} \\\n",
    "                --array 0 \\\n",
    "                ./run_annot.sh ${FP_REG} ${FP_ANT} ${FP_OUT}\n",
    "            echo\n",
    "        done\n",
    "    done\n",
    "done"
   ]
  },
  {
   "cell_type": "markdown",
   "id": "9ce35c92-ad1c-4443-9a90-6298992d208a",
   "metadata": {},
   "source": [
    "**Check results**"
   ]
  },
  {
   "cell_type": "code",
   "execution_count": 50,
   "id": "675fbb61-05dd-4777-96e4-c9ce9148acd6",
   "metadata": {},
   "outputs": [
    {
     "name": "stdout",
     "output_type": "stream",
     "text": [
      "\u001b[0m\u001b[38;5;27m/data/reddylab/Kuei/out/proj_combeffect_encode_fcc/results/region/hic_intact_ENCSR479XDG/loop/KS91_K562_ASTARRseq_peak_macs_input\u001b[0m\u001b[K\n",
      "\u001b[0m\u001b[38;5;9mloopA.annotation.KS91_K562_hg38_ASTARRseq_Input.all_reps.masked.union_narrowPeak.q5.bed.gz\u001b[0m\u001b[K\n",
      "\u001b[38;5;9mloopB.annotation.KS91_K562_hg38_ASTARRseq_Input.all_reps.masked.union_narrowPeak.q5.bed.gz\u001b[0m\u001b[K\n",
      "\n",
      "\u001b[0m\u001b[38;5;27m/data/reddylab/Kuei/out/proj_combeffect_encode_fcc/results/region/hic_intact_deep/loop/KS91_K562_ASTARRseq_peak_macs_input\u001b[0m\u001b[K\n",
      "\u001b[0m\u001b[38;5;9mloopA.annotation.KS91_K562_hg38_ASTARRseq_Input.all_reps.masked.union_narrowPeak.q5.bed.gz\u001b[0m\u001b[K\n",
      "\u001b[38;5;9mloopB.annotation.KS91_K562_hg38_ASTARRseq_Input.all_reps.masked.union_narrowPeak.q5.bed.gz\u001b[0m\u001b[K\n",
      "\n"
     ]
    }
   ],
   "source": [
    "FOLDER_ANT=KS91_K562_ASTARRseq_peak_macs_input\n",
    "\n",
    "for FOLDER_LOOP in \"hic_intact_ENCSR479XDG\" \"hic_intact_deep\"; do\n",
    "    FD_OUT=${FD_RES}/results/region/${FOLDER_LOOP}/loop/${FOLDER_ANT}\n",
    "    mkdir -p ${FD_OUT}\n",
    "    ls -d ${FD_OUT}\n",
    "    ls ${FD_OUT}\n",
    "    #rm ${FD_OUT}/loop*bed.gz\n",
    "    echo\n",
    "done"
   ]
  },
  {
   "cell_type": "markdown",
   "id": "b8f5663f-8cae-472d-adf5-63bb66a43865",
   "metadata": {},
   "source": [
    "## Annotation: XXX"
   ]
  },
  {
   "cell_type": "markdown",
   "id": "418b378d-9f72-4992-8df5-e6b696a8006c",
   "metadata": {},
   "source": [
    "**Check data**"
   ]
  },
  {
   "cell_type": "markdown",
   "id": "a58087e5-9e96-469b-a732-1c57d74a3721",
   "metadata": {},
   "source": [
    "**Check output**"
   ]
  },
  {
   "cell_type": "markdown",
   "id": "b8abf741-71ae-4075-ad98-5d19d9252dbb",
   "metadata": {},
   "source": [
    "**Execute**"
   ]
  },
  {
   "cell_type": "markdown",
   "id": "a6c1db07-90f2-44cc-8e44-35f94098811d",
   "metadata": {},
   "source": [
    "**Check results**"
   ]
  },
  {
   "cell_type": "code",
   "execution_count": null,
   "id": "2f661655-ce2b-4ba7-9e54-84e32e43b150",
   "metadata": {},
   "outputs": [],
   "source": []
  },
  {
   "cell_type": "code",
   "execution_count": null,
   "id": "14cd9bb4-1d70-49d7-9110-50823e3a950e",
   "metadata": {},
   "outputs": [],
   "source": []
  },
  {
   "cell_type": "code",
   "execution_count": null,
   "id": "ff2ec590-d5d4-4026-a14f-c25fdbf4227e",
   "metadata": {},
   "outputs": [],
   "source": []
  },
  {
   "cell_type": "code",
   "execution_count": 11,
   "id": "8d87b1e9-8d1b-493d-a0fe-2d5be988dcc0",
   "metadata": {},
   "outputs": [
    {
     "name": "stdout",
     "output_type": "stream",
     "text": [
      "description.tsv\n",
      "K562.TSS.selected_by_highest_Pol2_signal.bed\n",
      "\u001b[0m\u001b[38;5;9mK562.TSS.selected_by_highest_Pol2_signal.bed.gz\u001b[0m\n"
     ]
    }
   ],
   "source": [
    "FD_ANT=${FD_RES}/results/region/annotation_tss_pol2\n",
    "ls ${FD_ANT}"
   ]
  },
  {
   "cell_type": "code",
   "execution_count": 12,
   "id": "a845e953-089d-40bc-a8bd-5a205788c134",
   "metadata": {},
   "outputs": [
    {
     "name": "stdout",
     "output_type": "stream",
     "text": [
      "K562.TSS.selected_by_highest_Pol2_signal.bed.gz\n"
     ]
    }
   ],
   "source": [
    "FOLDER_ANT=annotation_tss_pol2\n",
    "FD_ANT=${FD_RES}/results/region/${FOLDER_ANT}\n",
    "ls ${FD_ANT}/*bed.gz | xargs -n 1 basename"
   ]
  },
  {
   "cell_type": "code",
   "execution_count": 13,
   "id": "2d51161c-f14b-4c31-8ce3-2b2969d86e93",
   "metadata": {},
   "outputs": [
    {
     "name": "stdout",
     "output_type": "stream",
     "text": [
      "enhancer_zscore_junke.merge.STARR.bed.gz\n",
      "enhancer_zscore_junke.merge.STARRMPRA.bed.gz\n",
      "enhancer_zscore_junke.peak.ASTARR.bed.gz\n",
      "enhancer_zscore_junke.peak.LMPRA.bed.gz\n",
      "enhancer_zscore_junke.peak.TMPRA.bed.gz\n",
      "enhancer_zscore_junke.peak.WSTARR.bed.gz\n"
     ]
    }
   ],
   "source": [
    "FOLDER_ANT=annotation_enhancer_zscore_junke\n",
    "FD_ANT=${FD_RES}/results/region/${FOLDER_ANT}\n",
    "ls ${FD_ANT}/{*peak*,*merge*}bed.gz | xargs -n 1 basename"
   ]
  },
  {
   "cell_type": "markdown",
   "id": "59ee15a6-34b8-43b5-9778-6a8bf7d8a338",
   "metadata": {},
   "source": [
    "**Check loop**"
   ]
  },
  {
   "cell_type": "code",
   "execution_count": 1,
   "id": "767091bb-eb98-41bc-82d1-9846a5bb0023",
   "metadata": {},
   "outputs": [
    {
     "name": "stdout",
     "output_type": "stream",
     "text": [
      "ls: cannot access /results/region/hic_intact_ENCSR479XDG/loop: No such file or directory\n",
      "ls: cannot access /results/region/hic_intact_deep/loop: No such file or directory\n"
     ]
    },
    {
     "ename": "",
     "evalue": "2",
     "output_type": "error",
     "traceback": []
    }
   ],
   "source": [
    "for FOLDER_LOOP in \"hic_intact_ENCSR479XDG\" \"hic_intact_deep\"; do\n",
    "    ls ${FD_RES}/results/region/${FOLDER_LOOP}/loop\n",
    "done"
   ]
  },
  {
   "cell_type": "code",
   "execution_count": null,
   "id": "94f0d884-e11c-49ee-a5b7-7bd029436238",
   "metadata": {},
   "outputs": [],
   "source": []
  },
  {
   "cell_type": "code",
   "execution_count": null,
   "id": "cdacc8cb-bded-4e26-89b2-66ea13ec95ab",
   "metadata": {},
   "outputs": [],
   "source": []
  },
  {
   "cell_type": "code",
   "execution_count": null,
   "id": "e900dd38-f950-4677-b40e-bd0ca4980561",
   "metadata": {},
   "outputs": [],
   "source": []
  },
  {
   "cell_type": "code",
   "execution_count": null,
   "id": "cfae3956-9049-4f09-a263-f02ed77b8c10",
   "metadata": {},
   "outputs": [],
   "source": []
  },
  {
   "cell_type": "markdown",
   "id": "0d30c799-922a-4e39-84e2-e528d9ceb77e",
   "metadata": {},
   "source": [
    "## Annotate: TSS"
   ]
  },
  {
   "cell_type": "code",
   "execution_count": 65,
   "id": "1971fb5f-7d9e-4cdf-a0e2-fa77627ddc99",
   "metadata": {},
   "outputs": [
    {
     "name": "stdout",
     "output_type": "stream",
     "text": [
      "K562.TSS.selected_by_highest_Pol2_signal.bed.gz\n",
      "K562.TSS.selected_by_highest_Pol2_signal\n",
      "\n",
      "hic_intact_ENCSR479XDG\n",
      "\n",
      "annotation.hic_intact_ENCSR479XDG.loopA.K562.TSS.selected_by_highest_Pol2_signal.%a.txt\n",
      "loopA.bed.gz\n",
      "loopA.annotation.K562.TSS.selected_by_highest_Pol2_signal.bed.gz\n",
      "\n",
      "annotation.hic_intact_ENCSR479XDG.loopB.K562.TSS.selected_by_highest_Pol2_signal.%a.txt\n",
      "loopB.bed.gz\n",
      "loopB.annotation.K562.TSS.selected_by_highest_Pol2_signal.bed.gz\n",
      "\n",
      "hic_intact_deep\n",
      "\n",
      "annotation.hic_intact_deep.loopA.K562.TSS.selected_by_highest_Pol2_signal.%a.txt\n",
      "loopA.bed.gz\n",
      "loopA.annotation.K562.TSS.selected_by_highest_Pol2_signal.bed.gz\n",
      "\n",
      "annotation.hic_intact_deep.loopB.K562.TSS.selected_by_highest_Pol2_signal.%a.txt\n",
      "loopB.bed.gz\n",
      "loopB.annotation.K562.TSS.selected_by_highest_Pol2_signal.bed.gz\n",
      "\n",
      "\n"
     ]
    }
   ],
   "source": [
    "FOLDER_ANT=annotation_tss_pol2\n",
    "FD_ANT=${FD_RES}/results/region/${FOLDER_ANT}\n",
    "FP_ANTS=($(ls ${FD_ANT}/*bed.gz))\n",
    "\n",
    "for FP_ANT in ${FP_ANTS[@]}; do\n",
    "    FN_ANT=$(basename ${FP_ANT})\n",
    "    PREFIX_ANT=${FN_ANT%.bed.gz}\n",
    "    echo ${FN_ANT}\n",
    "    echo ${PREFIX_ANT}\n",
    "    echo\n",
    "    \n",
    "    for FOLDER_LOOP in \"hic_intact_ENCSR479XDG\" \"hic_intact_deep\"; do\n",
    "        FD_REG=${FD_RES}/results/region/${FOLDER_LOOP}/loop\n",
    "        FD_OUT=${FD_RES}/results/region/${FOLDER_LOOP}/loop/${FOLDER_ANT}\n",
    "        echo ${FOLDER_LOOP}\n",
    "        echo\n",
    "\n",
    "        for PREFIX_LOOP in \"loopA\" \"loopB\"; do\n",
    "            FN_LOG=annotation.${FOLDER_LOOP}.${PREFIX_LOOP}.${PREFIX_ANT}.%a.txt\n",
    "            FN_REG=${PREFIX_LOOP}.bed.gz\n",
    "            FN_OUT=${PREFIX_LOOP}.annotation.${FN_ANT}\n",
    "\n",
    "            FP_REG=${FD_REG}/${FN_REG}\n",
    "            FP_OUT=${FD_OUT}/${FN_OUT}\n",
    "            echo ${FN_LOG}\n",
    "            echo ${FN_REG}\n",
    "            echo ${FN_OUT}\n",
    "            echo\n",
    "        done\n",
    "    done\n",
    "    echo\n",
    "done"
   ]
  },
  {
   "cell_type": "code",
   "execution_count": 66,
   "id": "246e8a27-ebd1-4008-a33f-39b48aa4440e",
   "metadata": {},
   "outputs": [
    {
     "name": "stdout",
     "output_type": "stream",
     "text": [
      "K562.TSS.selected_by_highest_Pol2_signal.bed.gz\n",
      "K562.TSS.selected_by_highest_Pol2_signal\n",
      "\n",
      "hic_intact_ENCSR479XDG\n",
      "\n",
      "annotation.hic_intact_ENCSR479XDG.loopA.K562.TSS.selected_by_highest_Pol2_signal.%a.txt\n",
      "loopA.bed.gz\n",
      "loopA.annotation.K562.TSS.selected_by_highest_Pol2_signal.bed.gz\n",
      "Submitted batch job 29917020\n",
      "\n",
      "annotation.hic_intact_ENCSR479XDG.loopB.K562.TSS.selected_by_highest_Pol2_signal.%a.txt\n",
      "loopB.bed.gz\n",
      "loopB.annotation.K562.TSS.selected_by_highest_Pol2_signal.bed.gz\n",
      "Submitted batch job 29917021\n",
      "\n",
      "hic_intact_deep\n",
      "\n",
      "annotation.hic_intact_deep.loopA.K562.TSS.selected_by_highest_Pol2_signal.%a.txt\n",
      "loopA.bed.gz\n",
      "loopA.annotation.K562.TSS.selected_by_highest_Pol2_signal.bed.gz\n",
      "Submitted batch job 29917022\n",
      "\n",
      "annotation.hic_intact_deep.loopB.K562.TSS.selected_by_highest_Pol2_signal.%a.txt\n",
      "loopB.bed.gz\n",
      "loopB.annotation.K562.TSS.selected_by_highest_Pol2_signal.bed.gz\n",
      "Submitted batch job 29917023\n",
      "\n",
      "\n"
     ]
    }
   ],
   "source": [
    "FOLDER_ANT=annotation_tss_pol2\n",
    "FD_ANT=${FD_RES}/results/region/${FOLDER_ANT}\n",
    "FP_ANTS=($(ls ${FD_ANT}/*bed.gz))\n",
    "\n",
    "for FP_ANT in ${FP_ANTS[@]}; do\n",
    "    FN_ANT=$(basename ${FP_ANT})\n",
    "    PREFIX_ANT=${FN_ANT%.bed.gz}\n",
    "    echo ${FN_ANT}\n",
    "    echo ${PREFIX_ANT}\n",
    "    echo\n",
    "    \n",
    "    for FOLDER_LOOP in \"hic_intact_ENCSR479XDG\" \"hic_intact_deep\"; do\n",
    "        FD_REG=${FD_RES}/results/region/${FOLDER_LOOP}/loop\n",
    "        FD_OUT=${FD_RES}/results/region/${FOLDER_LOOP}/loop/${FOLDER_ANT}\n",
    "        mkdir -p ${FD_OUT}\n",
    "        echo ${FOLDER_LOOP}\n",
    "        echo\n",
    "\n",
    "        for PREFIX_LOOP in \"loopA\" \"loopB\"; do\n",
    "            FN_LOG=annotation.${FOLDER_LOOP}.${PREFIX_LOOP}.${PREFIX_ANT}.%a.txt\n",
    "            FN_REG=${PREFIX_LOOP}.bed.gz\n",
    "            FN_OUT=${PREFIX_LOOP}.annotation.${FN_ANT}\n",
    "\n",
    "            FP_REG=${FD_REG}/${FN_REG}\n",
    "            FP_OUT=${FD_OUT}/${FN_OUT}\n",
    "            echo ${FN_LOG}\n",
    "            echo ${FN_REG}\n",
    "            echo ${FN_OUT}\n",
    "            sbatch -p ${NODE} \\\n",
    "                --exclude=dl-01 \\\n",
    "                --cpus-per-task 8 \\\n",
    "                --mem 4G \\\n",
    "                --output ${FD_LOG}/${FN_LOG} \\\n",
    "                --array 0 \\\n",
    "                ./run_annot.sh ${FP_REG} ${FP_ANT} ${FP_OUT}\n",
    "            echo\n",
    "        done\n",
    "    done\n",
    "    echo\n",
    "done"
   ]
  },
  {
   "cell_type": "code",
   "execution_count": 67,
   "id": "d5ea4732-0b89-4d74-adf2-11594f3973f5",
   "metadata": {},
   "outputs": [
    {
     "name": "stdout",
     "output_type": "stream",
     "text": [
      "Hostname:           x1-03-3.genome.duke.edu\n",
      "Slurm Array Index:  0\n",
      "Time Stamp:         06-01-23+13:38:53\n",
      "\n",
      "Input:  /data/reddylab/Kuei/out/proj_combeffect_encode_fcc/results/region/hic_intact_ENCSR479XDG/loop/loopA.bed.gz\n",
      "\n",
      "show first few lines of input\n",
      "chr1\t770000\t780000\n",
      "chr1\t904000\t906000\n",
      "chr1\t920000\t925000\n",
      "chr1\t980000\t990000\n",
      "chr1\t984000\t985000\n",
      "\n",
      "Input:  /data/reddylab/Kuei/out/proj_combeffect_encode_fcc/results/region/annotation_tss_pol2/K562.TSS.selected_by_highest_Pol2_signal.bed.gz\n",
      "\n",
      "show first few lines of input\n",
      "chr1\t11873\t11874\tDDX11L1\t2.3e-4\n",
      "chr1\t17436\t17437\tMIR6859-1\t9.43812\n",
      "chr1\t17436\t17437\tMIR6859-2\t9.43812\n",
      "chr1\t17436\t17437\tMIR6859-3\t9.43812\n",
      "chr1\t17436\t17437\tMIR6859-4\t9.43812\n",
      "\n",
      "\n",
      "Output:  /data/reddylab/Kuei/out/proj_combeffect_encode_fcc/results/region/hic_intact_ENCSR479XDG/loop/annotation_tss_pol2/loopA.annotation.K562.TSS.selected_by_highest_Pol2_signal.bed.gz\n",
      "\n",
      "show first few lines of output:\n",
      "chr1\t770000\t780000\tchr1\t778634\t778635\tLOC100288069\t230.561\t1\n",
      "chr1\t980000\t990000\tchr1\t981173\t981174\tPERM1\t0.0866495\t1\n",
      "chr1\t1000000\t1005000\tchr1\t1000097\t1000098\tHES4\t50.5814\t1\n",
      "chr1\t1020000\t1025000\tchr1\t1020119\t1020120\tAGRN\t2.71433\t1\n",
      "chr1\t1116000\t1118000\tchr1\t1116089\t1116090\tC1orf159\t16.4374\t1\n",
      "\n",
      "\n",
      "Done!\n",
      "Run Time: 1 seconds\n"
     ]
    }
   ],
   "source": [
    "cat ${FD_LOG}/annotation.hic_intact_ENCSR479XDG.loopA.K562.TSS.selected_by_highest_Pol2_signal.0.txt"
   ]
  },
  {
   "cell_type": "code",
   "execution_count": 68,
   "id": "253ccdd4-2502-434b-baae-d29e3d6b5b9d",
   "metadata": {},
   "outputs": [
    {
     "name": "stdout",
     "output_type": "stream",
     "text": [
      "Hostname:           x1-03-4.genome.duke.edu\n",
      "Slurm Array Index:  0\n",
      "Time Stamp:         06-01-23+13:38:53\n",
      "\n",
      "Input:  /data/reddylab/Kuei/out/proj_combeffect_encode_fcc/results/region/hic_intact_ENCSR479XDG/loop/loopB.bed.gz\n",
      "\n",
      "show first few lines of input\n",
      "chr1\t840000\t850000\n",
      "chr1\t976000\t978000\n",
      "chr1\t1060000\t1065000\n",
      "chr1\t1060000\t1065000\n",
      "chr1\t1060000\t1065000\n",
      "\n",
      "Input:  /data/reddylab/Kuei/out/proj_combeffect_encode_fcc/results/region/annotation_tss_pol2/K562.TSS.selected_by_highest_Pol2_signal.bed.gz\n",
      "\n",
      "show first few lines of input\n",
      "chr1\t11873\t11874\tDDX11L1\t2.3e-4\n",
      "chr1\t17436\t17437\tMIR6859-1\t9.43812\n",
      "chr1\t17436\t17437\tMIR6859-2\t9.43812\n",
      "chr1\t17436\t17437\tMIR6859-3\t9.43812\n",
      "chr1\t17436\t17437\tMIR6859-4\t9.43812\n",
      "\n",
      "\n",
      "Output:  /data/reddylab/Kuei/out/proj_combeffect_encode_fcc/results/region/hic_intact_ENCSR479XDG/loop/annotation_tss_pol2/loopB.annotation.K562.TSS.selected_by_highest_Pol2_signal.bed.gz\n",
      "\n",
      "show first few lines of output:\n",
      "chr1\t1116000\t1117000\tchr1\t1116089\t1116090\tC1orf159\t16.4374\t1\n",
      "chr1\t1205000\t1210000\tchr1\t1206592\t1206593\tTNFRSF18\t0.0495168\t1\n",
      "chr1\t1230000\t1235000\tchr1\t1232001\t1232002\tSDF4\t101.202\t1\n",
      "chr1\t1230000\t1235000\tchr1\t1232236\t1232237\tB3GALT6\t97.0228\t1\n",
      "chr1\t1290000\t1300000\tchr1\t1296170\t1296171\tMIR6726\t10.1557\t1\n",
      "\n",
      "\n",
      "Done!\n",
      "Run Time: 1 seconds\n"
     ]
    }
   ],
   "source": [
    "cat ${FD_LOG}/annotation.hic_intact_ENCSR479XDG.loopB.K562.TSS.selected_by_highest_Pol2_signal.0.txt"
   ]
  },
  {
   "cell_type": "code",
   "execution_count": 69,
   "id": "fadd1fbb-59a2-42fb-b12a-6001ecb8303c",
   "metadata": {},
   "outputs": [
    {
     "name": "stdout",
     "output_type": "stream",
     "text": [
      "Hostname:           x1-03-4.genome.duke.edu\n",
      "Slurm Array Index:  0\n",
      "Time Stamp:         06-01-23+13:38:54\n",
      "\n",
      "Input:  /data/reddylab/Kuei/out/proj_combeffect_encode_fcc/results/region/hic_intact_deep/loop/loopA.bed.gz\n",
      "\n",
      "show first few lines of input\n",
      "chr1\t778000\t779000\n",
      "chr1\t868000\t870000\n",
      "chr1\t870000\t872000\n",
      "chr1\t870000\t872000\n",
      "chr1\t870000\t875000\n",
      "\n",
      "Input:  /data/reddylab/Kuei/out/proj_combeffect_encode_fcc/results/region/annotation_tss_pol2/K562.TSS.selected_by_highest_Pol2_signal.bed.gz\n",
      "\n",
      "show first few lines of input\n",
      "chr1\t11873\t11874\tDDX11L1\t2.3e-4\n",
      "chr1\t17436\t17437\tMIR6859-1\t9.43812\n",
      "chr1\t17436\t17437\tMIR6859-2\t9.43812\n",
      "chr1\t17436\t17437\tMIR6859-3\t9.43812\n",
      "chr1\t17436\t17437\tMIR6859-4\t9.43812\n",
      "\n",
      "\n",
      "Output:  /data/reddylab/Kuei/out/proj_combeffect_encode_fcc/results/region/hic_intact_deep/loop/annotation_tss_pol2/loopA.annotation.K562.TSS.selected_by_highest_Pol2_signal.bed.gz\n",
      "\n",
      "show first few lines of output:\n",
      "chr1\t778000\t779000\tchr1\t778634\t778635\tLOC100288069\t230.561\t1\n",
      "chr1\t925000\t926000\tchr1\t925604\t925605\tLOC107985728\t0.795857\t1\n",
      "chr1\t925000\t926000\tchr1\t925730\t925731\tSAMD11\t0.544283\t1\n",
      "chr1\t955000\t960000\tchr1\t959256\t959257\tNOC2L\t104.866\t1\n",
      "chr1\t958000\t960000\tchr1\t959256\t959257\tNOC2L\t104.866\t1\n",
      "\n",
      "\n",
      "Done!\n",
      "Run Time: 0 seconds\n"
     ]
    }
   ],
   "source": [
    "cat ${FD_LOG}/annotation.hic_intact_deep.loopA.K562.TSS.selected_by_highest_Pol2_signal.0.txt"
   ]
  },
  {
   "cell_type": "code",
   "execution_count": 70,
   "id": "da904cf7-741d-45fa-8a14-ca8a2a2ef746",
   "metadata": {},
   "outputs": [
    {
     "name": "stdout",
     "output_type": "stream",
     "text": [
      "Hostname:           x1-03-4.genome.duke.edu\n",
      "Slurm Array Index:  0\n",
      "Time Stamp:         06-01-23+13:38:54\n",
      "\n",
      "Input:  /data/reddylab/Kuei/out/proj_combeffect_encode_fcc/results/region/hic_intact_deep/loop/loopB.bed.gz\n",
      "\n",
      "show first few lines of input\n",
      "chr1\t827000\t828000\n",
      "chr1\t923000\t924000\n",
      "chr1\t935000\t940000\n",
      "chr1\t940000\t941000\n",
      "chr1\t940000\t941000\n",
      "\n",
      "Input:  /data/reddylab/Kuei/out/proj_combeffect_encode_fcc/results/region/annotation_tss_pol2/K562.TSS.selected_by_highest_Pol2_signal.bed.gz\n",
      "\n",
      "show first few lines of input\n",
      "chr1\t11873\t11874\tDDX11L1\t2.3e-4\n",
      "chr1\t17436\t17437\tMIR6859-1\t9.43812\n",
      "chr1\t17436\t17437\tMIR6859-2\t9.43812\n",
      "chr1\t17436\t17437\tMIR6859-3\t9.43812\n",
      "chr1\t17436\t17437\tMIR6859-4\t9.43812\n",
      "\n",
      "\n",
      "Output:  /data/reddylab/Kuei/out/proj_combeffect_encode_fcc/results/region/hic_intact_deep/loop/annotation_tss_pol2/loopB.annotation.K562.TSS.selected_by_highest_Pol2_signal.bed.gz\n",
      "\n",
      "show first few lines of output:\n",
      "chr1\t827000\t828000\tchr1\t827522\t827523\tLINC00115\t64.4656\t1\n",
      "chr1\t827000\t828000\tchr1\t827590\t827591\tLINC01128\t64.4603\t1\n",
      "chr1\t959000\t960000\tchr1\t959256\t959257\tNOC2L\t104.866\t1\n",
      "chr1\t959000\t960000\tchr1\t959256\t959257\tNOC2L\t104.866\t1\n",
      "chr1\t959000\t960000\tchr1\t959256\t959257\tNOC2L\t104.866\t1\n",
      "\n",
      "\n",
      "Done!\n",
      "Run Time: 0 seconds\n"
     ]
    }
   ],
   "source": [
    "cat ${FD_LOG}/annotation.hic_intact_deep.loopB.K562.TSS.selected_by_highest_Pol2_signal.0.txt"
   ]
  },
  {
   "cell_type": "markdown",
   "id": "a3d6d962-6c86-43f7-a155-28d2e268f38e",
   "metadata": {},
   "source": [
    "## Annotate: CRISPR"
   ]
  },
  {
   "cell_type": "code",
   "execution_count": 71,
   "id": "692617ab-dd54-4ce8-a748-7e99f90c4f35",
   "metadata": {},
   "outputs": [
    {
     "name": "stdout",
     "output_type": "stream",
     "text": [
      "crispri_casa_peak.bed.gz\n",
      "crispri_casa_peak\n",
      "\n",
      "hic_intact_ENCSR479XDG\n",
      "\n",
      "annotation.hic_intact_ENCSR479XDG.loopA.crispri_casa_peak.%a.txt\n",
      "loopA.bed.gz\n",
      "loopA.annotation.crispri_casa_peak.bed.gz\n",
      "\n",
      "annotation.hic_intact_ENCSR479XDG.loopB.crispri_casa_peak.%a.txt\n",
      "loopB.bed.gz\n",
      "loopB.annotation.crispri_casa_peak.bed.gz\n",
      "\n",
      "hic_intact_deep\n",
      "\n",
      "annotation.hic_intact_deep.loopA.crispri_casa_peak.%a.txt\n",
      "loopA.bed.gz\n",
      "loopA.annotation.crispri_casa_peak.bed.gz\n",
      "\n",
      "annotation.hic_intact_deep.loopB.crispri_casa_peak.%a.txt\n",
      "loopB.bed.gz\n",
      "loopB.annotation.crispri_casa_peak.bed.gz\n",
      "\n",
      "\n"
     ]
    }
   ],
   "source": [
    "FOLDER_ANT=annotation_crispri_hcrff\n",
    "FD_ANT=${FD_RES}/results/region/${FOLDER_ANT}\n",
    "FP_ANTS=($(ls ${FD_ANT}/*bed.gz))\n",
    "\n",
    "for FP_ANT in ${FP_ANTS[@]}; do\n",
    "    FN_ANT=$(basename ${FP_ANT})\n",
    "    PREFIX_ANT=${FN_ANT%.bed.gz}\n",
    "    echo ${FN_ANT}\n",
    "    echo ${PREFIX_ANT}\n",
    "    echo\n",
    "    \n",
    "    for FOLDER_LOOP in \"hic_intact_ENCSR479XDG\" \"hic_intact_deep\"; do\n",
    "        FD_REG=${FD_RES}/results/region/${FOLDER_LOOP}/loop\n",
    "        FD_OUT=${FD_RES}/results/region/${FOLDER_LOOP}/loop/${FOLDER_ANT}\n",
    "        echo ${FOLDER_LOOP}\n",
    "        echo\n",
    "\n",
    "        for PREFIX_LOOP in \"loopA\" \"loopB\"; do\n",
    "            FN_LOG=annotation.${FOLDER_LOOP}.${PREFIX_LOOP}.${PREFIX_ANT}.%a.txt\n",
    "            FN_REG=${PREFIX_LOOP}.bed.gz\n",
    "            FN_OUT=${PREFIX_LOOP}.annotation.${FN_ANT}\n",
    "\n",
    "            FP_REG=${FD_REG}/${FN_REG}\n",
    "            FP_OUT=${FD_OUT}/${FN_OUT}\n",
    "            echo ${FN_LOG}\n",
    "            echo ${FN_REG}\n",
    "            echo ${FN_OUT}\n",
    "            echo\n",
    "        done\n",
    "    done\n",
    "    echo\n",
    "done"
   ]
  },
  {
   "cell_type": "code",
   "execution_count": 72,
   "id": "12cdad50-c760-42de-9f2c-a190f9d47f1b",
   "metadata": {},
   "outputs": [
    {
     "name": "stdout",
     "output_type": "stream",
     "text": [
      "crispri_casa_peak.bed.gz\n",
      "crispri_casa_peak\n",
      "\n",
      "hic_intact_ENCSR479XDG\n",
      "\n",
      "annotation.hic_intact_ENCSR479XDG.loopA.crispri_casa_peak.%a.txt\n",
      "loopA.bed.gz\n",
      "loopA.annotation.crispri_casa_peak.bed.gz\n",
      "Submitted batch job 29917024\n",
      "\n",
      "annotation.hic_intact_ENCSR479XDG.loopB.crispri_casa_peak.%a.txt\n",
      "loopB.bed.gz\n",
      "loopB.annotation.crispri_casa_peak.bed.gz\n",
      "Submitted batch job 29917025\n",
      "\n",
      "hic_intact_deep\n",
      "\n",
      "annotation.hic_intact_deep.loopA.crispri_casa_peak.%a.txt\n",
      "loopA.bed.gz\n",
      "loopA.annotation.crispri_casa_peak.bed.gz\n",
      "Submitted batch job 29917026\n",
      "\n",
      "annotation.hic_intact_deep.loopB.crispri_casa_peak.%a.txt\n",
      "loopB.bed.gz\n",
      "loopB.annotation.crispri_casa_peak.bed.gz\n",
      "Submitted batch job 29917027\n",
      "\n",
      "\n"
     ]
    }
   ],
   "source": [
    "FOLDER_ANT=annotation_crispri_hcrff\n",
    "FD_ANT=${FD_RES}/results/region/${FOLDER_ANT}\n",
    "FP_ANTS=($(ls ${FD_ANT}/*bed.gz))\n",
    "\n",
    "for FP_ANT in ${FP_ANTS[@]}; do\n",
    "    FN_ANT=$(basename ${FP_ANT})\n",
    "    PREFIX_ANT=${FN_ANT%.bed.gz}\n",
    "    echo ${FN_ANT}\n",
    "    echo ${PREFIX_ANT}\n",
    "    echo\n",
    "    \n",
    "    for FOLDER_LOOP in \"hic_intact_ENCSR479XDG\" \"hic_intact_deep\"; do\n",
    "        FD_REG=${FD_RES}/results/region/${FOLDER_LOOP}/loop\n",
    "        FD_OUT=${FD_RES}/results/region/${FOLDER_LOOP}/loop/${FOLDER_ANT}\n",
    "        mkdir -p ${FD_OUT}\n",
    "        echo ${FOLDER_LOOP}\n",
    "        echo\n",
    "\n",
    "        for PREFIX_LOOP in \"loopA\" \"loopB\"; do\n",
    "            FN_LOG=annotation.${FOLDER_LOOP}.${PREFIX_LOOP}.${PREFIX_ANT}.%a.txt\n",
    "            FN_REG=${PREFIX_LOOP}.bed.gz\n",
    "            FN_OUT=${PREFIX_LOOP}.annotation.${FN_ANT}\n",
    "\n",
    "            FP_REG=${FD_REG}/${FN_REG}\n",
    "            FP_OUT=${FD_OUT}/${FN_OUT}\n",
    "            echo ${FN_LOG}\n",
    "            echo ${FN_REG}\n",
    "            echo ${FN_OUT}\n",
    "            sbatch -p ${NODE} \\\n",
    "                --exclude=dl-01 \\\n",
    "                --cpus-per-task 8 \\\n",
    "                --mem 4G \\\n",
    "                --output ${FD_LOG}/${FN_LOG} \\\n",
    "                --array 0 \\\n",
    "                ./run_annot.sh ${FP_REG} ${FP_ANT} ${FP_OUT}\n",
    "            echo\n",
    "        done\n",
    "    done\n",
    "    echo\n",
    "done"
   ]
  },
  {
   "cell_type": "code",
   "execution_count": 73,
   "id": "7b894c46-6d25-4a38-b051-a32337f7ed00",
   "metadata": {},
   "outputs": [
    {
     "name": "stdout",
     "output_type": "stream",
     "text": [
      "Hostname:           x1-03-3.genome.duke.edu\n",
      "Slurm Array Index:  0\n",
      "Time Stamp:         06-01-23+13:39:07\n",
      "\n",
      "Input:  /data/reddylab/Kuei/out/proj_combeffect_encode_fcc/results/region/hic_intact_ENCSR479XDG/loop/loopA.bed.gz\n",
      "\n",
      "show first few lines of input\n",
      "chr1\t770000\t780000\n",
      "chr1\t904000\t906000\n",
      "chr1\t920000\t925000\n",
      "chr1\t980000\t990000\n",
      "chr1\t984000\t985000\n",
      "\n",
      "Input:  /data/reddylab/Kuei/out/proj_combeffect_encode_fcc/results/region/annotation_crispri_hcrff/crispri_casa_peak.bed.gz\n",
      "\n",
      "show first few lines of input\n",
      "chr11\t33944871\t33945471\tchr11:33944871-33945471\t0.803764617\t.\tCAPRIN1\tENSG00000135387\n",
      "chr11\t34050971\t34051471\tchr11:34050971-34051471\t0.973987294\t.\tCAPRIN1\tENSG00000135387\n",
      "chr11\t34051571\t34054171\tchr11:34051571-34054171\t2.06429067\t.\tCAPRIN1\tENSG00000135387\n",
      "chr11\t34085871\t34086871\tchr11:34085871-34086871\t1.009272431\t.\tCAPRIN1\tENSG00000135387\n",
      "chr11\t33944868\t33945268\tchr11:33944868-33945268\t1.214675507\t.\tCAT\tENSG00000121691\n",
      "\n",
      "\n",
      "Output:  /data/reddylab/Kuei/out/proj_combeffect_encode_fcc/results/region/hic_intact_ENCSR479XDG/loop/annotation_crispri_hcrff/loopA.annotation.crispri_casa_peak.bed.gz\n",
      "\n",
      "show first few lines of output:\n",
      "chr11\t5252000\t5254000\tchr11\t5253147\t5253547\tchr11:5253147-5253547\t1.3303423439388775\t.\tHBG1\tENST00000330597.5\t400\n",
      "chr11\t5252000\t5254000\tchr11\t5253147\t5253547\tchr11:5253147-5253547\t1.3232570811102125\t.\tHBG2\tENST00000336906.6\t400\n",
      "chr11\t5280000\t5290000\tchr11\t5280447\t5281147\tchr11:5280447-5281147\t1.8384634789161785\t.\tHBE1\tENST00000336906.6\t700\n",
      "chr11\t5280000\t5290000\tchr11\t5284147\t5286047\tchr11:5284147-5286047\t1.867533976986064\t.\tHBE1\tENST00000336906.6\t1900\n",
      "chr11\t5280000\t5290000\tchr11\t5287947\t5288547\tchr11:5287947-5288547\t0.7740955982573108\t.\tHBE1\tENST00000336906.6\t600\n",
      "\n",
      "\n",
      "Done!\n",
      "Run Time: 1 seconds\n"
     ]
    }
   ],
   "source": [
    "cat ${FD_LOG}/annotation.hic_intact_ENCSR479XDG.loopA.crispri_casa_peak.0.txt"
   ]
  },
  {
   "cell_type": "code",
   "execution_count": 74,
   "id": "2b2d5284-1f28-460c-8857-16920a8934f5",
   "metadata": {},
   "outputs": [
    {
     "name": "stdout",
     "output_type": "stream",
     "text": [
      "Hostname:           x1-03-4.genome.duke.edu\n",
      "Slurm Array Index:  0\n",
      "Time Stamp:         06-01-23+13:39:07\n",
      "\n",
      "Input:  /data/reddylab/Kuei/out/proj_combeffect_encode_fcc/results/region/hic_intact_ENCSR479XDG/loop/loopB.bed.gz\n",
      "\n",
      "show first few lines of input\n",
      "chr1\t840000\t850000\n",
      "chr1\t976000\t978000\n",
      "chr1\t1060000\t1065000\n",
      "chr1\t1060000\t1065000\n",
      "chr1\t1060000\t1065000\n",
      "\n",
      "Input:  /data/reddylab/Kuei/out/proj_combeffect_encode_fcc/results/region/annotation_crispri_hcrff/crispri_casa_peak.bed.gz\n",
      "\n",
      "show first few lines of input\n",
      "chr11\t33944871\t33945471\tchr11:33944871-33945471\t0.803764617\t.\tCAPRIN1\tENSG00000135387\n",
      "chr11\t34050971\t34051471\tchr11:34050971-34051471\t0.973987294\t.\tCAPRIN1\tENSG00000135387\n",
      "chr11\t34051571\t34054171\tchr11:34051571-34054171\t2.06429067\t.\tCAPRIN1\tENSG00000135387\n",
      "chr11\t34085871\t34086871\tchr11:34085871-34086871\t1.009272431\t.\tCAPRIN1\tENSG00000135387\n",
      "chr11\t33944868\t33945268\tchr11:33944868-33945268\t1.214675507\t.\tCAT\tENSG00000121691\n",
      "\n",
      "\n",
      "Output:  /data/reddylab/Kuei/out/proj_combeffect_encode_fcc/results/region/hic_intact_ENCSR479XDG/loop/annotation_crispri_hcrff/loopB.annotation.crispri_casa_peak.bed.gz\n",
      "\n",
      "show first few lines of output:\n",
      "chr11\t5250000\t5252000\tchr11\t5249847\t5250847\tchr11:5249847-5250847\t1.8908898984108689\t.\tHBG1\tENST00000330597.5\t847\n",
      "chr11\t5250000\t5252000\tchr11\t5249847\t5250847\tchr11:5249847-5250847\t1.9229557946824665\t.\tHBG2\tENST00000336906.6\t847\n",
      "chr11\t5288000\t5290000\tchr11\t5287947\t5288547\tchr11:5287947-5288547\t0.7740955982573108\t.\tHBE1\tENST00000336906.6\t547\n",
      "chr11\t5288000\t5290000\tchr11\t5287947\t5288547\tchr11:5287947-5288547\t0.7740955982573108\t.\tHBE1\tENST00000336906.6\t547\n",
      "chr11\t5500000\t5510000\tchr11\t5503747\t5505947\tchr11:5503747-5505947\t0.8096993948623967\t.\tHBE1\tENST00000336906.6\t2200\n",
      "\n",
      "\n",
      "Done!\n",
      "Run Time: 1 seconds\n"
     ]
    }
   ],
   "source": [
    "cat ${FD_LOG}/annotation.hic_intact_ENCSR479XDG.loopB.crispri_casa_peak.0.txt"
   ]
  },
  {
   "cell_type": "code",
   "execution_count": 75,
   "id": "5ae14fe6-3587-4602-a9f7-0f605757de7a",
   "metadata": {},
   "outputs": [
    {
     "name": "stdout",
     "output_type": "stream",
     "text": [
      "Hostname:           x1-03-4.genome.duke.edu\n",
      "Slurm Array Index:  0\n",
      "Time Stamp:         06-01-23+13:39:08\n",
      "\n",
      "Input:  /data/reddylab/Kuei/out/proj_combeffect_encode_fcc/results/region/hic_intact_deep/loop/loopA.bed.gz\n",
      "\n",
      "show first few lines of input\n",
      "chr1\t778000\t779000\n",
      "chr1\t868000\t870000\n",
      "chr1\t870000\t872000\n",
      "chr1\t870000\t872000\n",
      "chr1\t870000\t875000\n",
      "\n",
      "Input:  /data/reddylab/Kuei/out/proj_combeffect_encode_fcc/results/region/annotation_crispri_hcrff/crispri_casa_peak.bed.gz\n",
      "\n",
      "show first few lines of input\n",
      "chr11\t33944871\t33945471\tchr11:33944871-33945471\t0.803764617\t.\tCAPRIN1\tENSG00000135387\n",
      "chr11\t34050971\t34051471\tchr11:34050971-34051471\t0.973987294\t.\tCAPRIN1\tENSG00000135387\n",
      "chr11\t34051571\t34054171\tchr11:34051571-34054171\t2.06429067\t.\tCAPRIN1\tENSG00000135387\n",
      "chr11\t34085871\t34086871\tchr11:34085871-34086871\t1.009272431\t.\tCAPRIN1\tENSG00000135387\n",
      "chr11\t33944868\t33945268\tchr11:33944868-33945268\t1.214675507\t.\tCAT\tENSG00000121691\n",
      "\n",
      "\n",
      "Output:  /data/reddylab/Kuei/out/proj_combeffect_encode_fcc/results/region/hic_intact_deep/loop/annotation_crispri_hcrff/loopA.annotation.crispri_casa_peak.bed.gz\n",
      "\n",
      "show first few lines of output:\n",
      "chr11\t5240000\t5250000\tchr11\t5248847\t5249047\tchr11:5248847-5249047\t1.0686240084405354\t.\tHBG1\tENST00000330597.5\t200\n",
      "chr11\t5240000\t5250000\tchr11\t5248847\t5249047\tchr11:5248847-5249047\t0.9357700699599828\t.\tHBG2\tENST00000336906.6\t200\n",
      "chr11\t5240000\t5250000\tchr11\t5248847\t5249047\tchr11:5248847-5249047\t1.0686240084405354\t.\tHBG1\tENST00000330597.5\t200\n",
      "chr11\t5240000\t5250000\tchr11\t5248847\t5249047\tchr11:5248847-5249047\t0.9357700699599828\t.\tHBG2\tENST00000336906.6\t200\n",
      "chr11\t5270000\t5271000\tchr11\t5269147\t5271147\tchr11:5269147-5271147\t1.906478008877551\t.\tHBE1\tENST00000336906.6\t1000\n",
      "\n",
      "\n",
      "Done!\n",
      "Run Time: 0 seconds\n"
     ]
    }
   ],
   "source": [
    "cat ${FD_LOG}/annotation.hic_intact_deep.loopA.crispri_casa_peak.0.txt"
   ]
  },
  {
   "cell_type": "code",
   "execution_count": 76,
   "id": "959c7399-3890-40cf-a1f1-60703b5d1858",
   "metadata": {},
   "outputs": [
    {
     "name": "stdout",
     "output_type": "stream",
     "text": [
      "Hostname:           x1-03-4.genome.duke.edu\n",
      "Slurm Array Index:  0\n",
      "Time Stamp:         06-01-23+13:39:08\n",
      "\n",
      "Input:  /data/reddylab/Kuei/out/proj_combeffect_encode_fcc/results/region/hic_intact_deep/loop/loopB.bed.gz\n",
      "\n",
      "show first few lines of input\n",
      "chr1\t827000\t828000\n",
      "chr1\t923000\t924000\n",
      "chr1\t935000\t940000\n",
      "chr1\t940000\t941000\n",
      "chr1\t940000\t941000\n",
      "\n",
      "Input:  /data/reddylab/Kuei/out/proj_combeffect_encode_fcc/results/region/annotation_crispri_hcrff/crispri_casa_peak.bed.gz\n",
      "\n",
      "show first few lines of input\n",
      "chr11\t33944871\t33945471\tchr11:33944871-33945471\t0.803764617\t.\tCAPRIN1\tENSG00000135387\n",
      "chr11\t34050971\t34051471\tchr11:34050971-34051471\t0.973987294\t.\tCAPRIN1\tENSG00000135387\n",
      "chr11\t34051571\t34054171\tchr11:34051571-34054171\t2.06429067\t.\tCAPRIN1\tENSG00000135387\n",
      "chr11\t34085871\t34086871\tchr11:34085871-34086871\t1.009272431\t.\tCAPRIN1\tENSG00000135387\n",
      "chr11\t33944868\t33945268\tchr11:33944868-33945268\t1.214675507\t.\tCAT\tENSG00000121691\n",
      "\n",
      "\n",
      "Output:  /data/reddylab/Kuei/out/proj_combeffect_encode_fcc/results/region/hic_intact_deep/loop/annotation_crispri_hcrff/loopB.annotation.crispri_casa_peak.bed.gz\n",
      "\n",
      "show first few lines of output:\n",
      "chr11\t5270000\t5280000\tchr11\t5275847\t5276247\tchr11:5275847-5276247\t1.1738710482530481\t.\tHBG1\tENST00000330597.5\t400\n",
      "chr11\t5270000\t5280000\tchr11\t5275747\t5276247\tchr11:5275747-5276247\t1.0287391542075963\t.\tHBG2\tENST00000336906.6\t500\n",
      "chr11\t5270000\t5280000\tchr11\t5275247\t5276247\tchr11:5275247-5276247\t0.9203765387692084\t.\tHBE1\tENST00000336906.6\t1000\n",
      "chr11\t5270000\t5280000\tchr11\t5275847\t5276247\tchr11:5275847-5276247\t1.1738710482530481\t.\tHBG1\tENST00000330597.5\t400\n",
      "chr11\t5270000\t5280000\tchr11\t5275747\t5276247\tchr11:5275747-5276247\t1.0287391542075963\t.\tHBG2\tENST00000336906.6\t500\n",
      "\n",
      "\n",
      "Done!\n",
      "Run Time: 0 seconds\n"
     ]
    }
   ],
   "source": [
    "cat ${FD_LOG}/annotation.hic_intact_deep.loopB.crispri_casa_peak.0.txt"
   ]
  },
  {
   "cell_type": "markdown",
   "id": "b0eac6bd-8df9-4718-9271-508616986eec",
   "metadata": {},
   "source": [
    "## CRISPRi-Growth"
   ]
  },
  {
   "cell_type": "code",
   "execution_count": 80,
   "id": "3beb2cbe-3215-4d77-8c8b-084e19bd3870",
   "metadata": {},
   "outputs": [
    {
     "name": "stdout",
     "output_type": "stream",
     "text": [
      "crispri_growth_dhs.bed.gz\n",
      "crispri_growth_ocr_one_guide_2std.bed.gz\n",
      "crispri_growth_ocr_one_guide_3std.bed.gz\n",
      "crispri_growth_ocr_two_guide_1std.bed.gz\n"
     ]
    }
   ],
   "source": [
    "FOLDER_ANT=annotation_crispri_growth\n",
    "FD_ANT=${FD_RES}/results/region/${FOLDER_ANT}\n",
    "ls ${FD_ANT}/*bed.gz | xargs -n 1 basename"
   ]
  },
  {
   "cell_type": "code",
   "execution_count": 82,
   "id": "30bb3082-48c9-480f-b0d3-510758a7e132",
   "metadata": {},
   "outputs": [
    {
     "name": "stdout",
     "output_type": "stream",
     "text": [
      "crispri_growth_ocr_one_guide_3std.bed.gz\n",
      "crispri_growth_ocr_one_guide_3std\n",
      "\n",
      "hic_intact_ENCSR479XDG\n",
      "\n",
      "annotation.hic_intact_ENCSR479XDG.loopA.crispri_growth_ocr_one_guide_3std.%a.txt\n",
      "loopA.bed.gz\n",
      "loopA.annotation.crispri_growth_ocr_one_guide_3std.bed.gz\n",
      "\n",
      "annotation.hic_intact_ENCSR479XDG.loopB.crispri_growth_ocr_one_guide_3std.%a.txt\n",
      "loopB.bed.gz\n",
      "loopB.annotation.crispri_growth_ocr_one_guide_3std.bed.gz\n",
      "\n",
      "hic_intact_deep\n",
      "\n",
      "annotation.hic_intact_deep.loopA.crispri_growth_ocr_one_guide_3std.%a.txt\n",
      "loopA.bed.gz\n",
      "loopA.annotation.crispri_growth_ocr_one_guide_3std.bed.gz\n",
      "\n",
      "annotation.hic_intact_deep.loopB.crispri_growth_ocr_one_guide_3std.%a.txt\n",
      "loopB.bed.gz\n",
      "loopB.annotation.crispri_growth_ocr_one_guide_3std.bed.gz\n",
      "\n",
      "\n"
     ]
    }
   ],
   "source": [
    "FOLDER_ANT=annotation_crispri_growth\n",
    "FD_ANT=${FD_RES}/results/region/${FOLDER_ANT}\n",
    "FN_ANT=crispri_growth_ocr_one_guide_3std.bed.gz\n",
    "FP_ANTS=(${FD_ANT}/${FN_ANT})\n",
    "\n",
    "for FP_ANT in ${FP_ANTS[@]}; do\n",
    "    FN_ANT=$(basename ${FP_ANT})\n",
    "    PREFIX_ANT=${FN_ANT%.bed.gz}\n",
    "    echo ${FN_ANT}\n",
    "    echo ${PREFIX_ANT}\n",
    "    echo\n",
    "    \n",
    "    for FOLDER_LOOP in \"hic_intact_ENCSR479XDG\" \"hic_intact_deep\"; do\n",
    "        FD_REG=${FD_RES}/results/region/${FOLDER_LOOP}/loop\n",
    "        FD_OUT=${FD_RES}/results/region/${FOLDER_LOOP}/loop/${FOLDER_ANT}\n",
    "        echo ${FOLDER_LOOP}\n",
    "        echo\n",
    "\n",
    "        for PREFIX_LOOP in \"loopA\" \"loopB\"; do\n",
    "            FN_LOG=annotation.${FOLDER_LOOP}.${PREFIX_LOOP}.${PREFIX_ANT}.%a.txt\n",
    "            FN_REG=${PREFIX_LOOP}.bed.gz\n",
    "            FN_OUT=${PREFIX_LOOP}.annotation.${FN_ANT}\n",
    "\n",
    "            FP_REG=${FD_REG}/${FN_REG}\n",
    "            FP_OUT=${FD_OUT}/${FN_OUT}\n",
    "            echo ${FN_LOG}\n",
    "            echo ${FN_REG}\n",
    "            echo ${FN_OUT}\n",
    "            echo\n",
    "        done\n",
    "    done\n",
    "    echo\n",
    "done"
   ]
  },
  {
   "cell_type": "code",
   "execution_count": 83,
   "id": "5bbb49df-3797-4be2-9e10-8e9371f221d6",
   "metadata": {},
   "outputs": [
    {
     "name": "stdout",
     "output_type": "stream",
     "text": [
      "crispri_growth_ocr_one_guide_3std.bed.gz\n",
      "crispri_growth_ocr_one_guide_3std\n",
      "\n",
      "hic_intact_ENCSR479XDG\n",
      "\n",
      "annotation.hic_intact_ENCSR479XDG.loopA.crispri_growth_ocr_one_guide_3std.txt\n",
      "loopA.bed.gz\n",
      "loopA.annotation.crispri_growth_ocr_one_guide_3std.bed.gz\n",
      "Submitted batch job 29917336\n",
      "\n",
      "annotation.hic_intact_ENCSR479XDG.loopB.crispri_growth_ocr_one_guide_3std.txt\n",
      "loopB.bed.gz\n",
      "loopB.annotation.crispri_growth_ocr_one_guide_3std.bed.gz\n",
      "Submitted batch job 29917337\n",
      "\n",
      "hic_intact_deep\n",
      "\n",
      "annotation.hic_intact_deep.loopA.crispri_growth_ocr_one_guide_3std.txt\n",
      "loopA.bed.gz\n",
      "loopA.annotation.crispri_growth_ocr_one_guide_3std.bed.gz\n",
      "Submitted batch job 29917338\n",
      "\n",
      "annotation.hic_intact_deep.loopB.crispri_growth_ocr_one_guide_3std.txt\n",
      "loopB.bed.gz\n",
      "loopB.annotation.crispri_growth_ocr_one_guide_3std.bed.gz\n",
      "Submitted batch job 29917339\n",
      "\n",
      "\n"
     ]
    }
   ],
   "source": [
    "FOLDER_ANT=annotation_crispri_growth\n",
    "FD_ANT=${FD_RES}/results/region/${FOLDER_ANT}\n",
    "FN_ANT=crispri_growth_ocr_one_guide_3std.bed.gz\n",
    "FP_ANTS=(${FD_ANT}/${FN_ANT})\n",
    "\n",
    "for FP_ANT in ${FP_ANTS[@]}; do\n",
    "    FN_ANT=$(basename ${FP_ANT})\n",
    "    PREFIX_ANT=${FN_ANT%.bed.gz}\n",
    "    echo ${FN_ANT}\n",
    "    echo ${PREFIX_ANT}\n",
    "    echo\n",
    "    \n",
    "    for FOLDER_LOOP in \"hic_intact_ENCSR479XDG\" \"hic_intact_deep\"; do\n",
    "        FD_REG=${FD_RES}/results/region/${FOLDER_LOOP}/loop\n",
    "        FD_OUT=${FD_RES}/results/region/${FOLDER_LOOP}/loop/${FOLDER_ANT}\n",
    "        mkdir -p ${FD_OUT}\n",
    "        echo ${FOLDER_LOOP}\n",
    "        echo\n",
    "\n",
    "        for PREFIX_LOOP in \"loopA\" \"loopB\"; do\n",
    "            FN_LOG=annotation.${FOLDER_LOOP}.${PREFIX_LOOP}.${PREFIX_ANT}.txt\n",
    "            FN_REG=${PREFIX_LOOP}.bed.gz\n",
    "            FN_OUT=${PREFIX_LOOP}.annotation.${FN_ANT}\n",
    "\n",
    "            FP_REG=${FD_REG}/${FN_REG}\n",
    "            FP_OUT=${FD_OUT}/${FN_OUT}\n",
    "            echo ${FN_LOG}\n",
    "            echo ${FN_REG}\n",
    "            echo ${FN_OUT}\n",
    "            sbatch -p ${NODE} \\\n",
    "                --exclude=dl-01 \\\n",
    "                --cpus-per-task 8 \\\n",
    "                --mem 4G \\\n",
    "                --output ${FD_LOG}/${FN_LOG} \\\n",
    "                ./run_annot.sh ${FP_REG} ${FP_ANT} ${FP_OUT}\n",
    "            echo\n",
    "        done\n",
    "    done\n",
    "    echo\n",
    "done"
   ]
  },
  {
   "cell_type": "code",
   "execution_count": 84,
   "id": "735f0f21-e3a6-46c2-83cb-52303c1cc940",
   "metadata": {},
   "outputs": [
    {
     "name": "stdout",
     "output_type": "stream",
     "text": [
      "Hostname:           x1-02-1.genome.duke.edu\n",
      "Slurm Array Index: \n",
      "Time Stamp:         06-02-23+14:59:12\n",
      "\n",
      "Input:  /data/reddylab/Kuei/out/proj_combeffect_encode_fcc/results/region/hic_intact_deep/loop/loopA.bed.gz\n",
      "\n",
      "show first few lines of input\n",
      "chr1\t778000\t779000\n",
      "chr1\t868000\t870000\n",
      "chr1\t870000\t872000\n",
      "chr1\t870000\t872000\n",
      "chr1\t870000\t875000\n",
      "\n",
      "Input:  /data/reddylab/Kuei/out/proj_combeffect_encode_fcc/results/region/annotation_crispri_growth/crispri_growth_ocr_one_guide_3std.bed.gz\n",
      "\n",
      "show first few lines of input\n",
      "chr1\t100132370\t100133575\n",
      "chr1\t100883982\t100884629\n",
      "chr1\t101506712\t101506998\n",
      "chr1\t10398369\t10399864\n",
      "chr1\t10635621\t10636435\n",
      "\n",
      "\n",
      "Output:  /data/reddylab/Kuei/out/proj_combeffect_encode_fcc/results/region/hic_intact_deep/loop/annotation_crispri_growth/loopA.annotation.crispri_growth_ocr_one_guide_3std.bed.gz\n",
      "\n",
      "show first few lines of output:\n",
      "chr1\t1068000\t1070000\tchr1\t1068570\t1070643\t1430\n",
      "chr1\t1069000\t1070000\tchr1\t1068570\t1070643\t1000\n",
      "chr1\t1324000\t1325000\tchr1\t1324260\t1325767\t740\n",
      "chr1\t1324000\t1325000\tchr1\t1324260\t1325767\t740\n",
      "chr1\t1883000\t1884000\tchr1\t1883017\t1884125\t983\n",
      "\n",
      "\n",
      "Done!\n",
      "Run Time: 0 seconds\n"
     ]
    }
   ],
   "source": [
    "cat ${FD_LOG}/annotation.hic_intact_deep.loopA.crispri_growth_ocr_one_guide_3std.txt"
   ]
  },
  {
   "cell_type": "markdown",
   "id": "c8a8a79a-5738-4e43-907b-607b71b5c1a5",
   "metadata": {
    "tags": []
   },
   "source": [
    "## Annotate: STARRMPRA"
   ]
  },
  {
   "cell_type": "code",
   "execution_count": 77,
   "id": "1833e319-1065-42d3-a7c8-8c272fb41767",
   "metadata": {},
   "outputs": [
    {
     "name": "stdout",
     "output_type": "stream",
     "text": [
      "enhancer_zscore_junke.merge.STARR.bed.gz\n",
      "enhancer_zscore_junke.merge.STARR\n",
      "\n",
      "hic_intact_ENCSR479XDG\n",
      "\n",
      "annotation.hic_intact_ENCSR479XDG.loopA.enhancer_zscore_junke.merge.STARR.%a.txt\n",
      "loopA.bed.gz\n",
      "loopA.annotation.enhancer_zscore_junke.merge.STARR.bed.gz\n",
      "\n",
      "annotation.hic_intact_ENCSR479XDG.loopB.enhancer_zscore_junke.merge.STARR.%a.txt\n",
      "loopB.bed.gz\n",
      "loopB.annotation.enhancer_zscore_junke.merge.STARR.bed.gz\n",
      "\n",
      "hic_intact_deep\n",
      "\n",
      "annotation.hic_intact_deep.loopA.enhancer_zscore_junke.merge.STARR.%a.txt\n",
      "loopA.bed.gz\n",
      "loopA.annotation.enhancer_zscore_junke.merge.STARR.bed.gz\n",
      "\n",
      "annotation.hic_intact_deep.loopB.enhancer_zscore_junke.merge.STARR.%a.txt\n",
      "loopB.bed.gz\n",
      "loopB.annotation.enhancer_zscore_junke.merge.STARR.bed.gz\n",
      "\n",
      "\n",
      "enhancer_zscore_junke.merge.STARRMPRA.bed.gz\n",
      "enhancer_zscore_junke.merge.STARRMPRA\n",
      "\n",
      "hic_intact_ENCSR479XDG\n",
      "\n",
      "annotation.hic_intact_ENCSR479XDG.loopA.enhancer_zscore_junke.merge.STARRMPRA.%a.txt\n",
      "loopA.bed.gz\n",
      "loopA.annotation.enhancer_zscore_junke.merge.STARRMPRA.bed.gz\n",
      "\n",
      "annotation.hic_intact_ENCSR479XDG.loopB.enhancer_zscore_junke.merge.STARRMPRA.%a.txt\n",
      "loopB.bed.gz\n",
      "loopB.annotation.enhancer_zscore_junke.merge.STARRMPRA.bed.gz\n",
      "\n",
      "hic_intact_deep\n",
      "\n",
      "annotation.hic_intact_deep.loopA.enhancer_zscore_junke.merge.STARRMPRA.%a.txt\n",
      "loopA.bed.gz\n",
      "loopA.annotation.enhancer_zscore_junke.merge.STARRMPRA.bed.gz\n",
      "\n",
      "annotation.hic_intact_deep.loopB.enhancer_zscore_junke.merge.STARRMPRA.%a.txt\n",
      "loopB.bed.gz\n",
      "loopB.annotation.enhancer_zscore_junke.merge.STARRMPRA.bed.gz\n",
      "\n",
      "\n",
      "enhancer_zscore_junke.peak.ASTARR.bed.gz\n",
      "enhancer_zscore_junke.peak.ASTARR\n",
      "\n",
      "hic_intact_ENCSR479XDG\n",
      "\n",
      "annotation.hic_intact_ENCSR479XDG.loopA.enhancer_zscore_junke.peak.ASTARR.%a.txt\n",
      "loopA.bed.gz\n",
      "loopA.annotation.enhancer_zscore_junke.peak.ASTARR.bed.gz\n",
      "\n",
      "annotation.hic_intact_ENCSR479XDG.loopB.enhancer_zscore_junke.peak.ASTARR.%a.txt\n",
      "loopB.bed.gz\n",
      "loopB.annotation.enhancer_zscore_junke.peak.ASTARR.bed.gz\n",
      "\n",
      "hic_intact_deep\n",
      "\n",
      "annotation.hic_intact_deep.loopA.enhancer_zscore_junke.peak.ASTARR.%a.txt\n",
      "loopA.bed.gz\n",
      "loopA.annotation.enhancer_zscore_junke.peak.ASTARR.bed.gz\n",
      "\n",
      "annotation.hic_intact_deep.loopB.enhancer_zscore_junke.peak.ASTARR.%a.txt\n",
      "loopB.bed.gz\n",
      "loopB.annotation.enhancer_zscore_junke.peak.ASTARR.bed.gz\n",
      "\n",
      "\n",
      "enhancer_zscore_junke.peak.LMPRA.bed.gz\n",
      "enhancer_zscore_junke.peak.LMPRA\n",
      "\n",
      "hic_intact_ENCSR479XDG\n",
      "\n",
      "annotation.hic_intact_ENCSR479XDG.loopA.enhancer_zscore_junke.peak.LMPRA.%a.txt\n",
      "loopA.bed.gz\n",
      "loopA.annotation.enhancer_zscore_junke.peak.LMPRA.bed.gz\n",
      "\n",
      "annotation.hic_intact_ENCSR479XDG.loopB.enhancer_zscore_junke.peak.LMPRA.%a.txt\n",
      "loopB.bed.gz\n",
      "loopB.annotation.enhancer_zscore_junke.peak.LMPRA.bed.gz\n",
      "\n",
      "hic_intact_deep\n",
      "\n",
      "annotation.hic_intact_deep.loopA.enhancer_zscore_junke.peak.LMPRA.%a.txt\n",
      "loopA.bed.gz\n",
      "loopA.annotation.enhancer_zscore_junke.peak.LMPRA.bed.gz\n",
      "\n",
      "annotation.hic_intact_deep.loopB.enhancer_zscore_junke.peak.LMPRA.%a.txt\n",
      "loopB.bed.gz\n",
      "loopB.annotation.enhancer_zscore_junke.peak.LMPRA.bed.gz\n",
      "\n",
      "\n",
      "enhancer_zscore_junke.peak.TMPRA.bed.gz\n",
      "enhancer_zscore_junke.peak.TMPRA\n",
      "\n",
      "hic_intact_ENCSR479XDG\n",
      "\n",
      "annotation.hic_intact_ENCSR479XDG.loopA.enhancer_zscore_junke.peak.TMPRA.%a.txt\n",
      "loopA.bed.gz\n",
      "loopA.annotation.enhancer_zscore_junke.peak.TMPRA.bed.gz\n",
      "\n",
      "annotation.hic_intact_ENCSR479XDG.loopB.enhancer_zscore_junke.peak.TMPRA.%a.txt\n",
      "loopB.bed.gz\n",
      "loopB.annotation.enhancer_zscore_junke.peak.TMPRA.bed.gz\n",
      "\n",
      "hic_intact_deep\n",
      "\n",
      "annotation.hic_intact_deep.loopA.enhancer_zscore_junke.peak.TMPRA.%a.txt\n",
      "loopA.bed.gz\n",
      "loopA.annotation.enhancer_zscore_junke.peak.TMPRA.bed.gz\n",
      "\n",
      "annotation.hic_intact_deep.loopB.enhancer_zscore_junke.peak.TMPRA.%a.txt\n",
      "loopB.bed.gz\n",
      "loopB.annotation.enhancer_zscore_junke.peak.TMPRA.bed.gz\n",
      "\n",
      "\n",
      "enhancer_zscore_junke.peak.WSTARR.bed.gz\n",
      "enhancer_zscore_junke.peak.WSTARR\n",
      "\n",
      "hic_intact_ENCSR479XDG\n",
      "\n",
      "annotation.hic_intact_ENCSR479XDG.loopA.enhancer_zscore_junke.peak.WSTARR.%a.txt\n",
      "loopA.bed.gz\n",
      "loopA.annotation.enhancer_zscore_junke.peak.WSTARR.bed.gz\n",
      "\n",
      "annotation.hic_intact_ENCSR479XDG.loopB.enhancer_zscore_junke.peak.WSTARR.%a.txt\n",
      "loopB.bed.gz\n",
      "loopB.annotation.enhancer_zscore_junke.peak.WSTARR.bed.gz\n",
      "\n",
      "hic_intact_deep\n",
      "\n",
      "annotation.hic_intact_deep.loopA.enhancer_zscore_junke.peak.WSTARR.%a.txt\n",
      "loopA.bed.gz\n",
      "loopA.annotation.enhancer_zscore_junke.peak.WSTARR.bed.gz\n",
      "\n",
      "annotation.hic_intact_deep.loopB.enhancer_zscore_junke.peak.WSTARR.%a.txt\n",
      "loopB.bed.gz\n",
      "loopB.annotation.enhancer_zscore_junke.peak.WSTARR.bed.gz\n",
      "\n",
      "\n"
     ]
    }
   ],
   "source": [
    "FOLDER_ANT=annotation_enhancer_zscore_junke\n",
    "FD_ANT=${FD_RES}/results/region/${FOLDER_ANT}\n",
    "FP_ANTS=($(ls ${FD_ANT}/{*peak*,*merge*}bed.gz))\n",
    "\n",
    "for FP_ANT in ${FP_ANTS[@]}; do\n",
    "    FN_ANT=$(basename ${FP_ANT})\n",
    "    PREFIX_ANT=${FN_ANT%.bed.gz}\n",
    "    echo ${FN_ANT}\n",
    "    echo ${PREFIX_ANT}\n",
    "    echo\n",
    "    \n",
    "    for FOLDER_LOOP in \"hic_intact_ENCSR479XDG\" \"hic_intact_deep\"; do\n",
    "        FD_REG=${FD_RES}/results/region/${FOLDER_LOOP}/loop\n",
    "        FD_OUT=${FD_RES}/results/region/${FOLDER_LOOP}/loop/${FOLDER_ANT}\n",
    "        echo ${FOLDER_LOOP}\n",
    "        echo\n",
    "\n",
    "        for PREFIX_LOOP in \"loopA\" \"loopB\"; do\n",
    "            FN_LOG=annotation.${FOLDER_LOOP}.${PREFIX_LOOP}.${PREFIX_ANT}.%a.txt\n",
    "            FN_REG=${PREFIX_LOOP}.bed.gz\n",
    "            FN_OUT=${PREFIX_LOOP}.annotation.${FN_ANT}\n",
    "\n",
    "            FP_REG=${FD_REG}/${FN_REG}\n",
    "            FP_OUT=${FD_OUT}/${FN_OUT}\n",
    "            echo ${FN_LOG}\n",
    "            echo ${FN_REG}\n",
    "            echo ${FN_OUT}\n",
    "            echo\n",
    "        done\n",
    "    done\n",
    "    echo\n",
    "done"
   ]
  },
  {
   "cell_type": "code",
   "execution_count": 78,
   "id": "3f5ccf1f-a6ab-43b5-b19a-d873004fbb62",
   "metadata": {},
   "outputs": [
    {
     "name": "stdout",
     "output_type": "stream",
     "text": [
      "enhancer_zscore_junke.merge.STARR.bed.gz\n",
      "enhancer_zscore_junke.merge.STARR\n",
      "\n",
      "hic_intact_ENCSR479XDG\n",
      "\n",
      "annotation.hic_intact_ENCSR479XDG.loopA.enhancer_zscore_junke.merge.STARR.%a.txt\n",
      "loopA.bed.gz\n",
      "loopA.annotation.enhancer_zscore_junke.merge.STARR.bed.gz\n",
      "Submitted batch job 29917028\n",
      "\n",
      "annotation.hic_intact_ENCSR479XDG.loopB.enhancer_zscore_junke.merge.STARR.%a.txt\n",
      "loopB.bed.gz\n",
      "loopB.annotation.enhancer_zscore_junke.merge.STARR.bed.gz\n",
      "Submitted batch job 29917029\n",
      "\n",
      "hic_intact_deep\n",
      "\n",
      "annotation.hic_intact_deep.loopA.enhancer_zscore_junke.merge.STARR.%a.txt\n",
      "loopA.bed.gz\n",
      "loopA.annotation.enhancer_zscore_junke.merge.STARR.bed.gz\n",
      "Submitted batch job 29917030\n",
      "\n",
      "annotation.hic_intact_deep.loopB.enhancer_zscore_junke.merge.STARR.%a.txt\n",
      "loopB.bed.gz\n",
      "loopB.annotation.enhancer_zscore_junke.merge.STARR.bed.gz\n",
      "Submitted batch job 29917031\n",
      "\n",
      "\n",
      "enhancer_zscore_junke.merge.STARRMPRA.bed.gz\n",
      "enhancer_zscore_junke.merge.STARRMPRA\n",
      "\n",
      "hic_intact_ENCSR479XDG\n",
      "\n",
      "annotation.hic_intact_ENCSR479XDG.loopA.enhancer_zscore_junke.merge.STARRMPRA.%a.txt\n",
      "loopA.bed.gz\n",
      "loopA.annotation.enhancer_zscore_junke.merge.STARRMPRA.bed.gz\n",
      "Submitted batch job 29917032\n",
      "\n",
      "annotation.hic_intact_ENCSR479XDG.loopB.enhancer_zscore_junke.merge.STARRMPRA.%a.txt\n",
      "loopB.bed.gz\n",
      "loopB.annotation.enhancer_zscore_junke.merge.STARRMPRA.bed.gz\n",
      "Submitted batch job 29917033\n",
      "\n",
      "hic_intact_deep\n",
      "\n",
      "annotation.hic_intact_deep.loopA.enhancer_zscore_junke.merge.STARRMPRA.%a.txt\n",
      "loopA.bed.gz\n",
      "loopA.annotation.enhancer_zscore_junke.merge.STARRMPRA.bed.gz\n",
      "Submitted batch job 29917034\n",
      "\n",
      "annotation.hic_intact_deep.loopB.enhancer_zscore_junke.merge.STARRMPRA.%a.txt\n",
      "loopB.bed.gz\n",
      "loopB.annotation.enhancer_zscore_junke.merge.STARRMPRA.bed.gz\n",
      "Submitted batch job 29917035\n",
      "\n",
      "\n",
      "enhancer_zscore_junke.peak.ASTARR.bed.gz\n",
      "enhancer_zscore_junke.peak.ASTARR\n",
      "\n",
      "hic_intact_ENCSR479XDG\n",
      "\n",
      "annotation.hic_intact_ENCSR479XDG.loopA.enhancer_zscore_junke.peak.ASTARR.%a.txt\n",
      "loopA.bed.gz\n",
      "loopA.annotation.enhancer_zscore_junke.peak.ASTARR.bed.gz\n",
      "Submitted batch job 29917036\n",
      "\n",
      "annotation.hic_intact_ENCSR479XDG.loopB.enhancer_zscore_junke.peak.ASTARR.%a.txt\n",
      "loopB.bed.gz\n",
      "loopB.annotation.enhancer_zscore_junke.peak.ASTARR.bed.gz\n",
      "Submitted batch job 29917037\n",
      "\n",
      "hic_intact_deep\n",
      "\n",
      "annotation.hic_intact_deep.loopA.enhancer_zscore_junke.peak.ASTARR.%a.txt\n",
      "loopA.bed.gz\n",
      "loopA.annotation.enhancer_zscore_junke.peak.ASTARR.bed.gz\n",
      "Submitted batch job 29917038\n",
      "\n",
      "annotation.hic_intact_deep.loopB.enhancer_zscore_junke.peak.ASTARR.%a.txt\n",
      "loopB.bed.gz\n",
      "loopB.annotation.enhancer_zscore_junke.peak.ASTARR.bed.gz\n",
      "Submitted batch job 29917039\n",
      "\n",
      "\n",
      "enhancer_zscore_junke.peak.LMPRA.bed.gz\n",
      "enhancer_zscore_junke.peak.LMPRA\n",
      "\n",
      "hic_intact_ENCSR479XDG\n",
      "\n",
      "annotation.hic_intact_ENCSR479XDG.loopA.enhancer_zscore_junke.peak.LMPRA.%a.txt\n",
      "loopA.bed.gz\n",
      "loopA.annotation.enhancer_zscore_junke.peak.LMPRA.bed.gz\n",
      "Submitted batch job 29917040\n",
      "\n",
      "annotation.hic_intact_ENCSR479XDG.loopB.enhancer_zscore_junke.peak.LMPRA.%a.txt\n",
      "loopB.bed.gz\n",
      "loopB.annotation.enhancer_zscore_junke.peak.LMPRA.bed.gz\n",
      "Submitted batch job 29917041\n",
      "\n",
      "hic_intact_deep\n",
      "\n",
      "annotation.hic_intact_deep.loopA.enhancer_zscore_junke.peak.LMPRA.%a.txt\n",
      "loopA.bed.gz\n",
      "loopA.annotation.enhancer_zscore_junke.peak.LMPRA.bed.gz\n",
      "Submitted batch job 29917042\n",
      "\n",
      "annotation.hic_intact_deep.loopB.enhancer_zscore_junke.peak.LMPRA.%a.txt\n",
      "loopB.bed.gz\n",
      "loopB.annotation.enhancer_zscore_junke.peak.LMPRA.bed.gz\n",
      "Submitted batch job 29917043\n",
      "\n",
      "\n",
      "enhancer_zscore_junke.peak.TMPRA.bed.gz\n",
      "enhancer_zscore_junke.peak.TMPRA\n",
      "\n",
      "hic_intact_ENCSR479XDG\n",
      "\n",
      "annotation.hic_intact_ENCSR479XDG.loopA.enhancer_zscore_junke.peak.TMPRA.%a.txt\n",
      "loopA.bed.gz\n",
      "loopA.annotation.enhancer_zscore_junke.peak.TMPRA.bed.gz\n",
      "Submitted batch job 29917044\n",
      "\n",
      "annotation.hic_intact_ENCSR479XDG.loopB.enhancer_zscore_junke.peak.TMPRA.%a.txt\n",
      "loopB.bed.gz\n",
      "loopB.annotation.enhancer_zscore_junke.peak.TMPRA.bed.gz\n",
      "Submitted batch job 29917045\n",
      "\n",
      "hic_intact_deep\n",
      "\n",
      "annotation.hic_intact_deep.loopA.enhancer_zscore_junke.peak.TMPRA.%a.txt\n",
      "loopA.bed.gz\n",
      "loopA.annotation.enhancer_zscore_junke.peak.TMPRA.bed.gz\n",
      "Submitted batch job 29917046\n",
      "\n",
      "annotation.hic_intact_deep.loopB.enhancer_zscore_junke.peak.TMPRA.%a.txt\n",
      "loopB.bed.gz\n",
      "loopB.annotation.enhancer_zscore_junke.peak.TMPRA.bed.gz\n",
      "Submitted batch job 29917047\n",
      "\n",
      "\n",
      "enhancer_zscore_junke.peak.WSTARR.bed.gz\n",
      "enhancer_zscore_junke.peak.WSTARR\n",
      "\n",
      "hic_intact_ENCSR479XDG\n",
      "\n",
      "annotation.hic_intact_ENCSR479XDG.loopA.enhancer_zscore_junke.peak.WSTARR.%a.txt\n",
      "loopA.bed.gz\n",
      "loopA.annotation.enhancer_zscore_junke.peak.WSTARR.bed.gz\n",
      "Submitted batch job 29917048\n",
      "\n",
      "annotation.hic_intact_ENCSR479XDG.loopB.enhancer_zscore_junke.peak.WSTARR.%a.txt\n",
      "loopB.bed.gz\n",
      "loopB.annotation.enhancer_zscore_junke.peak.WSTARR.bed.gz\n",
      "Submitted batch job 29917049\n",
      "\n",
      "hic_intact_deep\n",
      "\n",
      "annotation.hic_intact_deep.loopA.enhancer_zscore_junke.peak.WSTARR.%a.txt\n",
      "loopA.bed.gz\n",
      "loopA.annotation.enhancer_zscore_junke.peak.WSTARR.bed.gz\n",
      "Submitted batch job 29917050\n",
      "\n",
      "annotation.hic_intact_deep.loopB.enhancer_zscore_junke.peak.WSTARR.%a.txt\n",
      "loopB.bed.gz\n",
      "loopB.annotation.enhancer_zscore_junke.peak.WSTARR.bed.gz\n",
      "Submitted batch job 29917051\n",
      "\n",
      "\n"
     ]
    }
   ],
   "source": [
    "FOLDER_ANT=annotation_enhancer_zscore_junke\n",
    "FD_ANT=${FD_RES}/results/region/${FOLDER_ANT}\n",
    "FP_ANTS=($(ls ${FD_ANT}/{*peak*,*merge*}bed.gz))\n",
    "\n",
    "for FP_ANT in ${FP_ANTS[@]}; do\n",
    "    FN_ANT=$(basename ${FP_ANT})\n",
    "    PREFIX_ANT=${FN_ANT%.bed.gz}\n",
    "    echo ${FN_ANT}\n",
    "    echo ${PREFIX_ANT}\n",
    "    echo\n",
    "    \n",
    "    for FOLDER_LOOP in \"hic_intact_ENCSR479XDG\" \"hic_intact_deep\"; do\n",
    "        FD_REG=${FD_RES}/results/region/${FOLDER_LOOP}/loop\n",
    "        FD_OUT=${FD_RES}/results/region/${FOLDER_LOOP}/loop/${FOLDER_ANT}\n",
    "        mkdir -p ${FD_OUT}\n",
    "        echo ${FOLDER_LOOP}\n",
    "        echo\n",
    "\n",
    "        for PREFIX_LOOP in \"loopA\" \"loopB\"; do\n",
    "            FN_LOG=annotation.${FOLDER_LOOP}.${PREFIX_LOOP}.${PREFIX_ANT}.%a.txt\n",
    "            FN_REG=${PREFIX_LOOP}.bed.gz\n",
    "            FN_OUT=${PREFIX_LOOP}.annotation.${FN_ANT}\n",
    "\n",
    "            FP_REG=${FD_REG}/${FN_REG}\n",
    "            FP_OUT=${FD_OUT}/${FN_OUT}\n",
    "            echo ${FN_LOG}\n",
    "            echo ${FN_REG}\n",
    "            echo ${FN_OUT}\n",
    "            sbatch -p ${NODE} \\\n",
    "                --exclude=dl-01 \\\n",
    "                --cpus-per-task 8 \\\n",
    "                --mem 4G \\\n",
    "                --output ${FD_LOG}/${FN_LOG} \\\n",
    "                --array 0 \\\n",
    "                ./run_annot.sh ${FP_REG} ${FP_ANT} ${FP_OUT}\n",
    "            echo\n",
    "        done\n",
    "    done\n",
    "    echo\n",
    "done"
   ]
  },
  {
   "cell_type": "code",
   "execution_count": null,
   "id": "750a3e7a-522a-4bbb-b6b0-68b8999a1bf8",
   "metadata": {},
   "outputs": [],
   "source": []
  }
 ],
 "metadata": {
  "kernelspec": {
   "display_name": "Bash",
   "language": "bash",
   "name": "bash"
  },
  "language_info": {
   "codemirror_mode": "shell",
   "file_extension": ".sh",
   "mimetype": "text/x-sh",
   "name": "bash"
  }
 },
 "nbformat": 4,
 "nbformat_minor": 5
}
