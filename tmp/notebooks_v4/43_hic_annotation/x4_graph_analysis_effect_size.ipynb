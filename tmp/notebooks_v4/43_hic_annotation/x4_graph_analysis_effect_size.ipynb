{
 "cells": [
  {
   "cell_type": "markdown",
   "metadata": {},
   "source": [
    "**Set environment**"
   ]
  },
  {
   "cell_type": "code",
   "execution_count": 1,
   "metadata": {},
   "outputs": [
    {
     "name": "stdout",
     "output_type": "stream",
     "text": [
      "You are in Singularity: singularity_proj_encode_fcc \n",
      "BASE DIRECTORY (FD_BASE): /data/reddylab/Kuei \n",
      "WORK DIRECTORY (FD_WORK): /data/reddylab/Kuei/out \n",
      "CODE DIRECTORY (FD_CODE): /data/reddylab/Kuei/code \n",
      "PATH OF PROJECT (FD_PRJ): /data/reddylab/Kuei/code/Proj_CombEffect_ENCODE_FCC \n",
      "PATH OF RESULTS (FD_RES): /data/reddylab/Kuei/out/proj_combeffect_encode_fcc \n",
      "PATH OF LOG     (FD_LOG): /data/reddylab/Kuei/out/proj_combeffect_encode_fcc/log \n"
     ]
    }
   ],
   "source": [
    "suppressMessages(suppressWarnings(source(\"../config/config_sing.R\")))\n",
    "show_env()"
   ]
  },
  {
   "cell_type": "markdown",
   "metadata": {},
   "source": [
    "## Import data"
   ]
  },
  {
   "cell_type": "markdown",
   "metadata": {},
   "source": [
    "### Network"
   ]
  },
  {
   "cell_type": "code",
   "execution_count": 2,
   "metadata": {},
   "outputs": [],
   "source": [
    "FOLDER_ANT  = \"KS91_K562_ASTARRseq_peak_macs_input\"\n",
    "FOLDER_LOOP = \"hic_intact_deep\""
   ]
  },
  {
   "cell_type": "code",
   "execution_count": 3,
   "metadata": {},
   "outputs": [
    {
     "name": "stderr",
     "output_type": "stream",
     "text": [
      "\u001b[1mRows: \u001b[22m\u001b[34m49673\u001b[39m \u001b[1mColumns: \u001b[22m\u001b[34m18\u001b[39m\n",
      "\u001b[36m──\u001b[39m \u001b[1mColumn specification\u001b[22m \u001b[36m─────────────────────────────────────────────────────────────────────\u001b[39m\n",
      "\u001b[1mDelimiter:\u001b[22m \",\"\n",
      "\u001b[31mchr\u001b[39m  (2): name, shared name\n",
      "\u001b[32mdbl\u001b[39m (14): AverageShortestPathLength, BetweennessCentrality, ClosenessCentral...\n",
      "\u001b[33mlgl\u001b[39m  (2): IsSingleNode, selected\n",
      "\n",
      "\u001b[36mℹ\u001b[39m Use `spec()` to retrieve the full column specification for this data.\n",
      "\u001b[36mℹ\u001b[39m Specify the column types or set `show_col_types = FALSE` to quiet this message.\n"
     ]
    },
    {
     "name": "stdout",
     "output_type": "stream",
     "text": [
      "[1] 49673    18\n"
     ]
    },
    {
     "data": {
      "text/html": [
       "<table class=\"dataframe\">\n",
       "<caption>A tibble: 6 × 18</caption>\n",
       "<thead>\n",
       "\t<tr><th scope=col>AverageShortestPathLength</th><th scope=col>BetweennessCentrality</th><th scope=col>ClosenessCentrality</th><th scope=col>ClusteringCoefficient</th><th scope=col>Degree</th><th scope=col>Eccentricity</th><th scope=col>IsSingleNode</th><th scope=col>name</th><th scope=col>NeighborhoodConnectivity</th><th scope=col>NumberOfDirectedEdges</th><th scope=col>NumberOfUndirectedEdges</th><th scope=col>PartnerOfMultiEdgedNodePairs</th><th scope=col>Radiality</th><th scope=col>selected</th><th scope=col>SelfLoops</th><th scope=col>shared name</th><th scope=col>Stress</th><th scope=col>TopologicalCoefficient</th></tr>\n",
       "\t<tr><th scope=col>&lt;dbl&gt;</th><th scope=col>&lt;dbl&gt;</th><th scope=col>&lt;dbl&gt;</th><th scope=col>&lt;dbl&gt;</th><th scope=col>&lt;dbl&gt;</th><th scope=col>&lt;dbl&gt;</th><th scope=col>&lt;lgl&gt;</th><th scope=col>&lt;chr&gt;</th><th scope=col>&lt;dbl&gt;</th><th scope=col>&lt;dbl&gt;</th><th scope=col>&lt;dbl&gt;</th><th scope=col>&lt;dbl&gt;</th><th scope=col>&lt;dbl&gt;</th><th scope=col>&lt;lgl&gt;</th><th scope=col>&lt;dbl&gt;</th><th scope=col>&lt;chr&gt;</th><th scope=col>&lt;dbl&gt;</th><th scope=col>&lt;dbl&gt;</th></tr>\n",
       "</thead>\n",
       "<tbody>\n",
       "\t<tr><td>10.48712</td><td>4.919747e-01</td><td>0.09535502</td><td>0.1000000</td><td>5</td><td>19</td><td>FALSE</td><td>chr10:100045961-100046653</td><td>3.80</td><td>0</td><td>5</td><td>0</td><td>0.3675250</td><td>FALSE</td><td>0</td><td>chr10:100045961-100046653</td><td>839830</td><td>0.2285714</td></tr>\n",
       "\t<tr><td>10.86052</td><td>2.724630e-02</td><td>0.09207666</td><td>0.1666667</td><td>4</td><td>20</td><td>FALSE</td><td>chr10:100433434-100434444</td><td>4.50</td><td>0</td><td>4</td><td>0</td><td>0.3426323</td><td>FALSE</td><td>0</td><td>chr10:100433434-100434444</td><td> 33716</td><td>0.3333333</td></tr>\n",
       "\t<tr><td>11.78541</td><td>4.614888e-05</td><td>0.08485069</td><td>0.3333333</td><td>3</td><td>26</td><td>FALSE</td><td>chr10:100185017-100187275</td><td>3.00</td><td>0</td><td>3</td><td>0</td><td>0.2809728</td><td>FALSE</td><td>0</td><td>chr10:100185017-100187275</td><td>    12</td><td>0.5333333</td></tr>\n",
       "\t<tr><td>11.78112</td><td>1.282016e-02</td><td>0.08488160</td><td>0.3333333</td><td>3</td><td>26</td><td>FALSE</td><td>chr10:100267066-100268374</td><td>3.00</td><td>0</td><td>3</td><td>0</td><td>0.2812589</td><td>FALSE</td><td>0</td><td>chr10:100267066-100268374</td><td>  7662</td><td>0.4444444</td></tr>\n",
       "\t<tr><td>10.81330</td><td>2.118233e-03</td><td>0.09247867</td><td>0.0000000</td><td>2</td><td>25</td><td>FALSE</td><td>chr10:100370571-100371646</td><td>7.50</td><td>0</td><td>2</td><td>0</td><td>0.3457797</td><td>FALSE</td><td>0</td><td>chr10:100370571-100371646</td><td>  2546</td><td>0.5416667</td></tr>\n",
       "\t<tr><td>10.80043</td><td>2.335595e-02</td><td>0.09258891</td><td>0.1666667</td><td>4</td><td>25</td><td>FALSE</td><td>chr10:100373060-100374238</td><td>4.75</td><td>0</td><td>4</td><td>0</td><td>0.3466381</td><td>FALSE</td><td>0</td><td>chr10:100373060-100374238</td><td> 15290</td><td>0.3035714</td></tr>\n",
       "</tbody>\n",
       "</table>\n"
      ],
      "text/latex": [
       "A tibble: 6 × 18\n",
       "\\begin{tabular}{llllllllllllllllll}\n",
       " AverageShortestPathLength & BetweennessCentrality & ClosenessCentrality & ClusteringCoefficient & Degree & Eccentricity & IsSingleNode & name & NeighborhoodConnectivity & NumberOfDirectedEdges & NumberOfUndirectedEdges & PartnerOfMultiEdgedNodePairs & Radiality & selected & SelfLoops & shared name & Stress & TopologicalCoefficient\\\\\n",
       " <dbl> & <dbl> & <dbl> & <dbl> & <dbl> & <dbl> & <lgl> & <chr> & <dbl> & <dbl> & <dbl> & <dbl> & <dbl> & <lgl> & <dbl> & <chr> & <dbl> & <dbl>\\\\\n",
       "\\hline\n",
       "\t 10.48712 & 4.919747e-01 & 0.09535502 & 0.1000000 & 5 & 19 & FALSE & chr10:100045961-100046653 & 3.80 & 0 & 5 & 0 & 0.3675250 & FALSE & 0 & chr10:100045961-100046653 & 839830 & 0.2285714\\\\\n",
       "\t 10.86052 & 2.724630e-02 & 0.09207666 & 0.1666667 & 4 & 20 & FALSE & chr10:100433434-100434444 & 4.50 & 0 & 4 & 0 & 0.3426323 & FALSE & 0 & chr10:100433434-100434444 &  33716 & 0.3333333\\\\\n",
       "\t 11.78541 & 4.614888e-05 & 0.08485069 & 0.3333333 & 3 & 26 & FALSE & chr10:100185017-100187275 & 3.00 & 0 & 3 & 0 & 0.2809728 & FALSE & 0 & chr10:100185017-100187275 &     12 & 0.5333333\\\\\n",
       "\t 11.78112 & 1.282016e-02 & 0.08488160 & 0.3333333 & 3 & 26 & FALSE & chr10:100267066-100268374 & 3.00 & 0 & 3 & 0 & 0.2812589 & FALSE & 0 & chr10:100267066-100268374 &   7662 & 0.4444444\\\\\n",
       "\t 10.81330 & 2.118233e-03 & 0.09247867 & 0.0000000 & 2 & 25 & FALSE & chr10:100370571-100371646 & 7.50 & 0 & 2 & 0 & 0.3457797 & FALSE & 0 & chr10:100370571-100371646 &   2546 & 0.5416667\\\\\n",
       "\t 10.80043 & 2.335595e-02 & 0.09258891 & 0.1666667 & 4 & 25 & FALSE & chr10:100373060-100374238 & 4.75 & 0 & 4 & 0 & 0.3466381 & FALSE & 0 & chr10:100373060-100374238 &  15290 & 0.3035714\\\\\n",
       "\\end{tabular}\n"
      ],
      "text/markdown": [
       "\n",
       "A tibble: 6 × 18\n",
       "\n",
       "| AverageShortestPathLength &lt;dbl&gt; | BetweennessCentrality &lt;dbl&gt; | ClosenessCentrality &lt;dbl&gt; | ClusteringCoefficient &lt;dbl&gt; | Degree &lt;dbl&gt; | Eccentricity &lt;dbl&gt; | IsSingleNode &lt;lgl&gt; | name &lt;chr&gt; | NeighborhoodConnectivity &lt;dbl&gt; | NumberOfDirectedEdges &lt;dbl&gt; | NumberOfUndirectedEdges &lt;dbl&gt; | PartnerOfMultiEdgedNodePairs &lt;dbl&gt; | Radiality &lt;dbl&gt; | selected &lt;lgl&gt; | SelfLoops &lt;dbl&gt; | shared name &lt;chr&gt; | Stress &lt;dbl&gt; | TopologicalCoefficient &lt;dbl&gt; |\n",
       "|---|---|---|---|---|---|---|---|---|---|---|---|---|---|---|---|---|---|\n",
       "| 10.48712 | 4.919747e-01 | 0.09535502 | 0.1000000 | 5 | 19 | FALSE | chr10:100045961-100046653 | 3.80 | 0 | 5 | 0 | 0.3675250 | FALSE | 0 | chr10:100045961-100046653 | 839830 | 0.2285714 |\n",
       "| 10.86052 | 2.724630e-02 | 0.09207666 | 0.1666667 | 4 | 20 | FALSE | chr10:100433434-100434444 | 4.50 | 0 | 4 | 0 | 0.3426323 | FALSE | 0 | chr10:100433434-100434444 |  33716 | 0.3333333 |\n",
       "| 11.78541 | 4.614888e-05 | 0.08485069 | 0.3333333 | 3 | 26 | FALSE | chr10:100185017-100187275 | 3.00 | 0 | 3 | 0 | 0.2809728 | FALSE | 0 | chr10:100185017-100187275 |     12 | 0.5333333 |\n",
       "| 11.78112 | 1.282016e-02 | 0.08488160 | 0.3333333 | 3 | 26 | FALSE | chr10:100267066-100268374 | 3.00 | 0 | 3 | 0 | 0.2812589 | FALSE | 0 | chr10:100267066-100268374 |   7662 | 0.4444444 |\n",
       "| 10.81330 | 2.118233e-03 | 0.09247867 | 0.0000000 | 2 | 25 | FALSE | chr10:100370571-100371646 | 7.50 | 0 | 2 | 0 | 0.3457797 | FALSE | 0 | chr10:100370571-100371646 |   2546 | 0.5416667 |\n",
       "| 10.80043 | 2.335595e-02 | 0.09258891 | 0.1666667 | 4 | 25 | FALSE | chr10:100373060-100374238 | 4.75 | 0 | 4 | 0 | 0.3466381 | FALSE | 0 | chr10:100373060-100374238 |  15290 | 0.3035714 |\n",
       "\n"
      ],
      "text/plain": [
       "  AverageShortestPathLength BetweennessCentrality ClosenessCentrality\n",
       "1 10.48712                  4.919747e-01          0.09535502         \n",
       "2 10.86052                  2.724630e-02          0.09207666         \n",
       "3 11.78541                  4.614888e-05          0.08485069         \n",
       "4 11.78112                  1.282016e-02          0.08488160         \n",
       "5 10.81330                  2.118233e-03          0.09247867         \n",
       "6 10.80043                  2.335595e-02          0.09258891         \n",
       "  ClusteringCoefficient Degree Eccentricity IsSingleNode\n",
       "1 0.1000000             5      19           FALSE       \n",
       "2 0.1666667             4      20           FALSE       \n",
       "3 0.3333333             3      26           FALSE       \n",
       "4 0.3333333             3      26           FALSE       \n",
       "5 0.0000000             2      25           FALSE       \n",
       "6 0.1666667             4      25           FALSE       \n",
       "  name                      NeighborhoodConnectivity NumberOfDirectedEdges\n",
       "1 chr10:100045961-100046653 3.80                     0                    \n",
       "2 chr10:100433434-100434444 4.50                     0                    \n",
       "3 chr10:100185017-100187275 3.00                     0                    \n",
       "4 chr10:100267066-100268374 3.00                     0                    \n",
       "5 chr10:100370571-100371646 7.50                     0                    \n",
       "6 chr10:100373060-100374238 4.75                     0                    \n",
       "  NumberOfUndirectedEdges PartnerOfMultiEdgedNodePairs Radiality selected\n",
       "1 5                       0                            0.3675250 FALSE   \n",
       "2 4                       0                            0.3426323 FALSE   \n",
       "3 3                       0                            0.2809728 FALSE   \n",
       "4 3                       0                            0.2812589 FALSE   \n",
       "5 2                       0                            0.3457797 FALSE   \n",
       "6 4                       0                            0.3466381 FALSE   \n",
       "  SelfLoops shared name               Stress TopologicalCoefficient\n",
       "1 0         chr10:100045961-100046653 839830 0.2285714             \n",
       "2 0         chr10:100433434-100434444  33716 0.3333333             \n",
       "3 0         chr10:100185017-100187275     12 0.5333333             \n",
       "4 0         chr10:100267066-100268374   7662 0.4444444             \n",
       "5 0         chr10:100370571-100371646   2546 0.5416667             \n",
       "6 0         chr10:100373060-100374238  15290 0.3035714             "
      ]
     },
     "metadata": {},
     "output_type": "display_data"
    }
   ],
   "source": [
    "fdiry = file.path(FD_RES, \"results\", \"region\", FOLDER_LOOP, \"loop\", FOLDER_ANT)\n",
    "fname = \"network_ocr_metric_node.csv\"\n",
    "fpath = file.path(fdiry, fname)\n",
    "\n",
    "dat = read_csv(fpath)\n",
    "\n",
    "dat_network_ocr_metric_node = dat\n",
    "print(dim(dat))\n",
    "head(dat)"
   ]
  },
  {
   "cell_type": "markdown",
   "metadata": {},
   "source": [
    "### ASTARR/WSTARR/TMPRA"
   ]
  },
  {
   "cell_type": "code",
   "execution_count": 4,
   "metadata": {},
   "outputs": [
    {
     "name": "stdout",
     "output_type": "stream",
     "text": [
      "[1] 495260      9\n"
     ]
    },
    {
     "data": {
      "text/html": [
       "<table class=\"dataframe\">\n",
       "<caption>A tibble: 6 × 9</caption>\n",
       "<thead>\n",
       "\t<tr><th scope=col>Assay</th><th scope=col>Peak</th><th scope=col>baseMean</th><th scope=col>log2FoldChange</th><th scope=col>lfcSE</th><th scope=col>stat</th><th scope=col>pvalue</th><th scope=col>padj</th><th scope=col>Dataset</th></tr>\n",
       "\t<tr><th scope=col>&lt;chr&gt;</th><th scope=col>&lt;chr&gt;</th><th scope=col>&lt;dbl&gt;</th><th scope=col>&lt;dbl&gt;</th><th scope=col>&lt;dbl&gt;</th><th scope=col>&lt;dbl&gt;</th><th scope=col>&lt;dbl&gt;</th><th scope=col>&lt;dbl&gt;</th><th scope=col>&lt;chr&gt;</th></tr>\n",
       "</thead>\n",
       "<tbody>\n",
       "\t<tr><td>ASTARR</td><td>chr1:100006256-100006880</td><td> 74.39238</td><td>-0.01311792</td><td>0.15512423</td><td>-0.08456397</td><td>9.326080e-01</td><td>0.9510236543</td><td>NA</td></tr>\n",
       "\t<tr><td>ASTARR</td><td>chr1:100010437-100010915</td><td> 48.25931</td><td>-0.80687947</td><td>0.22174651</td><td>-3.63874709</td><td>2.739677e-04</td><td>0.0008947519</td><td>NA</td></tr>\n",
       "\t<tr><td>ASTARR</td><td>chr1:10002087-10003910  </td><td>224.35927</td><td>-0.34892859</td><td>0.09743886</td><td>-3.58100041</td><td>3.422811e-04</td><td>0.0010926173</td><td>NA</td></tr>\n",
       "\t<tr><td>ASTARR</td><td>chr1:100021298-100021629</td><td> 38.13434</td><td>-1.03799571</td><td>0.25401013</td><td>-4.08643436</td><td>4.380534e-05</td><td>0.0001707736</td><td>NA</td></tr>\n",
       "\t<tr><td>ASTARR</td><td>chr1:100023727-100023976</td><td> 32.62049</td><td>-0.19100207</td><td>0.25625467</td><td>-0.74536036</td><td>4.560539e-01</td><td>0.5497617125</td><td>NA</td></tr>\n",
       "\t<tr><td>ASTARR</td><td>chr1:100027983-100029702</td><td>290.98442</td><td>-0.18001582</td><td>0.09610434</td><td>-1.87312902</td><td>6.105057e-02</td><td>0.1032752224</td><td>NA</td></tr>\n",
       "</tbody>\n",
       "</table>\n"
      ],
      "text/latex": [
       "A tibble: 6 × 9\n",
       "\\begin{tabular}{lllllllll}\n",
       " Assay & Peak & baseMean & log2FoldChange & lfcSE & stat & pvalue & padj & Dataset\\\\\n",
       " <chr> & <chr> & <dbl> & <dbl> & <dbl> & <dbl> & <dbl> & <dbl> & <chr>\\\\\n",
       "\\hline\n",
       "\t ASTARR & chr1:100006256-100006880 &  74.39238 & -0.01311792 & 0.15512423 & -0.08456397 & 9.326080e-01 & 0.9510236543 & NA\\\\\n",
       "\t ASTARR & chr1:100010437-100010915 &  48.25931 & -0.80687947 & 0.22174651 & -3.63874709 & 2.739677e-04 & 0.0008947519 & NA\\\\\n",
       "\t ASTARR & chr1:10002087-10003910   & 224.35927 & -0.34892859 & 0.09743886 & -3.58100041 & 3.422811e-04 & 0.0010926173 & NA\\\\\n",
       "\t ASTARR & chr1:100021298-100021629 &  38.13434 & -1.03799571 & 0.25401013 & -4.08643436 & 4.380534e-05 & 0.0001707736 & NA\\\\\n",
       "\t ASTARR & chr1:100023727-100023976 &  32.62049 & -0.19100207 & 0.25625467 & -0.74536036 & 4.560539e-01 & 0.5497617125 & NA\\\\\n",
       "\t ASTARR & chr1:100027983-100029702 & 290.98442 & -0.18001582 & 0.09610434 & -1.87312902 & 6.105057e-02 & 0.1032752224 & NA\\\\\n",
       "\\end{tabular}\n"
      ],
      "text/markdown": [
       "\n",
       "A tibble: 6 × 9\n",
       "\n",
       "| Assay &lt;chr&gt; | Peak &lt;chr&gt; | baseMean &lt;dbl&gt; | log2FoldChange &lt;dbl&gt; | lfcSE &lt;dbl&gt; | stat &lt;dbl&gt; | pvalue &lt;dbl&gt; | padj &lt;dbl&gt; | Dataset &lt;chr&gt; |\n",
       "|---|---|---|---|---|---|---|---|---|\n",
       "| ASTARR | chr1:100006256-100006880 |  74.39238 | -0.01311792 | 0.15512423 | -0.08456397 | 9.326080e-01 | 0.9510236543 | NA |\n",
       "| ASTARR | chr1:100010437-100010915 |  48.25931 | -0.80687947 | 0.22174651 | -3.63874709 | 2.739677e-04 | 0.0008947519 | NA |\n",
       "| ASTARR | chr1:10002087-10003910   | 224.35927 | -0.34892859 | 0.09743886 | -3.58100041 | 3.422811e-04 | 0.0010926173 | NA |\n",
       "| ASTARR | chr1:100021298-100021629 |  38.13434 | -1.03799571 | 0.25401013 | -4.08643436 | 4.380534e-05 | 0.0001707736 | NA |\n",
       "| ASTARR | chr1:100023727-100023976 |  32.62049 | -0.19100207 | 0.25625467 | -0.74536036 | 4.560539e-01 | 0.5497617125 | NA |\n",
       "| ASTARR | chr1:100027983-100029702 | 290.98442 | -0.18001582 | 0.09610434 | -1.87312902 | 6.105057e-02 | 0.1032752224 | NA |\n",
       "\n"
      ],
      "text/plain": [
       "  Assay  Peak                     baseMean  log2FoldChange lfcSE     \n",
       "1 ASTARR chr1:100006256-100006880  74.39238 -0.01311792    0.15512423\n",
       "2 ASTARR chr1:100010437-100010915  48.25931 -0.80687947    0.22174651\n",
       "3 ASTARR chr1:10002087-10003910   224.35927 -0.34892859    0.09743886\n",
       "4 ASTARR chr1:100021298-100021629  38.13434 -1.03799571    0.25401013\n",
       "5 ASTARR chr1:100023727-100023976  32.62049 -0.19100207    0.25625467\n",
       "6 ASTARR chr1:100027983-100029702 290.98442 -0.18001582    0.09610434\n",
       "  stat        pvalue       padj         Dataset\n",
       "1 -0.08456397 9.326080e-01 0.9510236543 NA     \n",
       "2 -3.63874709 2.739677e-04 0.0008947519 NA     \n",
       "3 -3.58100041 3.422811e-04 0.0010926173 NA     \n",
       "4 -4.08643436 4.380534e-05 0.0001707736 NA     \n",
       "5 -0.74536036 4.560539e-01 0.5497617125 NA     \n",
       "6 -1.87312902 6.105057e-02 0.1032752224 NA     "
      ]
     },
     "metadata": {},
     "output_type": "display_data"
    }
   ],
   "source": [
    "### init\n",
    "ASSAYS = c(\"KS91_K562_ASTARRseq\", \"A001_K562_WSTARRseq\", \"Tewhey_K562_TileMPRA\")\n",
    "LABELS = c(\"ASTARR\", \"WSTARR\", \"TMPRA\")\n",
    "FOLDER = \"coverage_astarrseq_peak_macs_input\"\n",
    "\n",
    "fnames = c(\n",
    "    \"result.Log2FC.raw.deseq.WGS.tsv\",\n",
    "    \"result.Log2FC.raw.deseq.WGS.tsv\",\n",
    "    \"result.Log2FC.raw.deseq.Merge.tsv\"\n",
    ")\n",
    "names(fnames) = ASSAYS\n",
    "\n",
    "### loop and import data\n",
    "lst = lapply(ASSAYS, function(ASSAY){\n",
    "    \n",
    "    ### set file directories\n",
    "    fdiry = file.path(FD_RES, \"results\", ASSAY, FOLDER, \"summary\")\n",
    "    fname = fnames[ASSAY]\n",
    "    fpath = file.path(fdiry, fname)\n",
    "\n",
    "    ### read data\n",
    "    dat = read_tsv(fpath, show_col_types = FALSE)\n",
    "    return(dat)\n",
    "})\n",
    "\n",
    "names(lst) = LABELS\n",
    "dat = bind_rows(lst, .id = \"Assay\")\n",
    "\n",
    "### assign and show\n",
    "dat_peak_score_deseq_starrmpra = dat\n",
    "print(dim(dat))\n",
    "head(dat)"
   ]
  },
  {
   "cell_type": "markdown",
   "metadata": {},
   "source": [
    "### LMPRA"
   ]
  },
  {
   "cell_type": "code",
   "execution_count": 5,
   "metadata": {},
   "outputs": [
    {
     "name": "stdout",
     "output_type": "stream",
     "text": [
      "[1] 37180     7\n"
     ]
    },
    {
     "data": {
      "text/html": [
       "<table class=\"dataframe\">\n",
       "<caption>A tibble: 6 × 7</caption>\n",
       "<thead>\n",
       "\t<tr><th scope=col>Peak</th><th scope=col>Mean</th><th scope=col>Median</th><th scope=col>Max</th><th scope=col>Min</th><th scope=col>Count</th><th scope=col>Mean_Pos</th></tr>\n",
       "\t<tr><th scope=col>&lt;chr&gt;</th><th scope=col>&lt;dbl&gt;</th><th scope=col>&lt;dbl&gt;</th><th scope=col>&lt;dbl&gt;</th><th scope=col>&lt;dbl&gt;</th><th scope=col>&lt;dbl&gt;</th><th scope=col>&lt;dbl&gt;</th></tr>\n",
       "</thead>\n",
       "<tbody>\n",
       "\t<tr><td>chr10:100045961-100046653</td><td>0.065811</td><td>0.065811</td><td>0.065811</td><td>0.065811</td><td>200</td><td>0.065811</td></tr>\n",
       "\t<tr><td>chr10:100228452-100230090</td><td>2.158430</td><td>2.158430</td><td>2.158430</td><td>2.158430</td><td>200</td><td>2.158430</td></tr>\n",
       "\t<tr><td>chr10:100267066-100268374</td><td>1.338820</td><td>1.338820</td><td>1.338820</td><td>1.338820</td><td>200</td><td>1.338820</td></tr>\n",
       "\t<tr><td>chr10:100285974-100287341</td><td>1.322260</td><td>1.322260</td><td>1.322260</td><td>1.322260</td><td>200</td><td>1.322260</td></tr>\n",
       "\t<tr><td>chr10:100289686-100290090</td><td>0.548885</td><td>0.548885</td><td>0.548885</td><td>0.548885</td><td>200</td><td>0.548885</td></tr>\n",
       "\t<tr><td>chr10:100342247-100342824</td><td>0.176936</td><td>0.176936</td><td>0.176936</td><td>0.176936</td><td>200</td><td>0.176936</td></tr>\n",
       "</tbody>\n",
       "</table>\n"
      ],
      "text/latex": [
       "A tibble: 6 × 7\n",
       "\\begin{tabular}{lllllll}\n",
       " Peak & Mean & Median & Max & Min & Count & Mean\\_Pos\\\\\n",
       " <chr> & <dbl> & <dbl> & <dbl> & <dbl> & <dbl> & <dbl>\\\\\n",
       "\\hline\n",
       "\t chr10:100045961-100046653 & 0.065811 & 0.065811 & 0.065811 & 0.065811 & 200 & 0.065811\\\\\n",
       "\t chr10:100228452-100230090 & 2.158430 & 2.158430 & 2.158430 & 2.158430 & 200 & 2.158430\\\\\n",
       "\t chr10:100267066-100268374 & 1.338820 & 1.338820 & 1.338820 & 1.338820 & 200 & 1.338820\\\\\n",
       "\t chr10:100285974-100287341 & 1.322260 & 1.322260 & 1.322260 & 1.322260 & 200 & 1.322260\\\\\n",
       "\t chr10:100289686-100290090 & 0.548885 & 0.548885 & 0.548885 & 0.548885 & 200 & 0.548885\\\\\n",
       "\t chr10:100342247-100342824 & 0.176936 & 0.176936 & 0.176936 & 0.176936 & 200 & 0.176936\\\\\n",
       "\\end{tabular}\n"
      ],
      "text/markdown": [
       "\n",
       "A tibble: 6 × 7\n",
       "\n",
       "| Peak &lt;chr&gt; | Mean &lt;dbl&gt; | Median &lt;dbl&gt; | Max &lt;dbl&gt; | Min &lt;dbl&gt; | Count &lt;dbl&gt; | Mean_Pos &lt;dbl&gt; |\n",
       "|---|---|---|---|---|---|---|\n",
       "| chr10:100045961-100046653 | 0.065811 | 0.065811 | 0.065811 | 0.065811 | 200 | 0.065811 |\n",
       "| chr10:100228452-100230090 | 2.158430 | 2.158430 | 2.158430 | 2.158430 | 200 | 2.158430 |\n",
       "| chr10:100267066-100268374 | 1.338820 | 1.338820 | 1.338820 | 1.338820 | 200 | 1.338820 |\n",
       "| chr10:100285974-100287341 | 1.322260 | 1.322260 | 1.322260 | 1.322260 | 200 | 1.322260 |\n",
       "| chr10:100289686-100290090 | 0.548885 | 0.548885 | 0.548885 | 0.548885 | 200 | 0.548885 |\n",
       "| chr10:100342247-100342824 | 0.176936 | 0.176936 | 0.176936 | 0.176936 | 200 | 0.176936 |\n",
       "\n"
      ],
      "text/plain": [
       "  Peak                      Mean     Median   Max      Min      Count Mean_Pos\n",
       "1 chr10:100045961-100046653 0.065811 0.065811 0.065811 0.065811 200   0.065811\n",
       "2 chr10:100228452-100230090 2.158430 2.158430 2.158430 2.158430 200   2.158430\n",
       "3 chr10:100267066-100268374 1.338820 1.338820 1.338820 1.338820 200   1.338820\n",
       "4 chr10:100285974-100287341 1.322260 1.322260 1.322260 1.322260 200   1.322260\n",
       "5 chr10:100289686-100290090 0.548885 0.548885 0.548885 0.548885 200   0.548885\n",
       "6 chr10:100342247-100342824 0.176936 0.176936 0.176936 0.176936 200   0.176936"
      ]
     },
     "metadata": {},
     "output_type": "display_data"
    }
   ],
   "source": [
    "ASSAY   = \"LentiMPRA_K562_Nadav\"\n",
    "FOLDER  = \"coverage_astarrseq_peak_macs_input\"\n",
    "\n",
    "fdiry = file.path(FD_RES, \"results\", ASSAY, FOLDER, \"summary\")\n",
    "fname = \"results.summary.tsv\"\n",
    "fpath = file.path(fdiry, fname)\n",
    "\n",
    "dat = read_tsv(fpath, show_col_types = FALSE)\n",
    "\n",
    "dat_peak_score_summary_lmpra = dat\n",
    "print(dim(dat))\n",
    "head(dat)"
   ]
  },
  {
   "cell_type": "markdown",
   "metadata": {},
   "source": [
    "### CRISPRi-Growth"
   ]
  },
  {
   "cell_type": "code",
   "execution_count": 6,
   "metadata": {},
   "outputs": [
    {
     "name": "stdout",
     "output_type": "stream",
     "text": [
      "[1] 80288     8\n"
     ]
    },
    {
     "data": {
      "text/html": [
       "<table class=\"dataframe\">\n",
       "<caption>A tibble: 6 × 8</caption>\n",
       "<thead>\n",
       "\t<tr><th scope=col>Peak</th><th scope=col>Mean</th><th scope=col>Median</th><th scope=col>Max</th><th scope=col>Min</th><th scope=col>Count</th><th scope=col>Mean_Neg</th><th scope=col>Mean_Pos</th></tr>\n",
       "\t<tr><th scope=col>&lt;chr&gt;</th><th scope=col>&lt;dbl&gt;</th><th scope=col>&lt;dbl&gt;</th><th scope=col>&lt;dbl&gt;</th><th scope=col>&lt;dbl&gt;</th><th scope=col>&lt;dbl&gt;</th><th scope=col>&lt;dbl&gt;</th><th scope=col>&lt;dbl&gt;</th></tr>\n",
       "</thead>\n",
       "<tbody>\n",
       "\t<tr><td>chr10:100009096-100010466</td><td>-0.03786170</td><td> 0.0303830</td><td>0.526902</td><td>-0.655965</td><td>10</td><td>-0.3840866</td><td>0.3083632</td></tr>\n",
       "\t<tr><td>chr10:100045961-100046653</td><td> 0.10873570</td><td> 0.1820295</td><td>0.646953</td><td>-0.497578</td><td>10</td><td>-0.2750008</td><td>0.3645600</td></tr>\n",
       "\t<tr><td>chr10:100065094-100065486</td><td>-0.00323730</td><td>-0.0931995</td><td>1.305380</td><td>-0.677550</td><td>10</td><td>-0.3639722</td><td>0.5378650</td></tr>\n",
       "\t<tr><td>chr10:100129051-100131059</td><td>-0.26576144</td><td>-0.2617330</td><td>0.253159</td><td>-0.767330</td><td> 9</td><td>-0.4522120</td><td>0.1071397</td></tr>\n",
       "\t<tr><td>chr10:100185017-100187275</td><td>-0.01202196</td><td>-0.0613300</td><td>0.730481</td><td>-0.954435</td><td>25</td><td>-0.2790666</td><td>0.3278531</td></tr>\n",
       "\t<tr><td>chr10:100228452-100230090</td><td>-0.01822050</td><td> 0.0722880</td><td>0.446912</td><td>-0.768059</td><td>10</td><td>-0.3293750</td><td>0.1892158</td></tr>\n",
       "</tbody>\n",
       "</table>\n"
      ],
      "text/latex": [
       "A tibble: 6 × 8\n",
       "\\begin{tabular}{llllllll}\n",
       " Peak & Mean & Median & Max & Min & Count & Mean\\_Neg & Mean\\_Pos\\\\\n",
       " <chr> & <dbl> & <dbl> & <dbl> & <dbl> & <dbl> & <dbl> & <dbl>\\\\\n",
       "\\hline\n",
       "\t chr10:100009096-100010466 & -0.03786170 &  0.0303830 & 0.526902 & -0.655965 & 10 & -0.3840866 & 0.3083632\\\\\n",
       "\t chr10:100045961-100046653 &  0.10873570 &  0.1820295 & 0.646953 & -0.497578 & 10 & -0.2750008 & 0.3645600\\\\\n",
       "\t chr10:100065094-100065486 & -0.00323730 & -0.0931995 & 1.305380 & -0.677550 & 10 & -0.3639722 & 0.5378650\\\\\n",
       "\t chr10:100129051-100131059 & -0.26576144 & -0.2617330 & 0.253159 & -0.767330 &  9 & -0.4522120 & 0.1071397\\\\\n",
       "\t chr10:100185017-100187275 & -0.01202196 & -0.0613300 & 0.730481 & -0.954435 & 25 & -0.2790666 & 0.3278531\\\\\n",
       "\t chr10:100228452-100230090 & -0.01822050 &  0.0722880 & 0.446912 & -0.768059 & 10 & -0.3293750 & 0.1892158\\\\\n",
       "\\end{tabular}\n"
      ],
      "text/markdown": [
       "\n",
       "A tibble: 6 × 8\n",
       "\n",
       "| Peak &lt;chr&gt; | Mean &lt;dbl&gt; | Median &lt;dbl&gt; | Max &lt;dbl&gt; | Min &lt;dbl&gt; | Count &lt;dbl&gt; | Mean_Neg &lt;dbl&gt; | Mean_Pos &lt;dbl&gt; |\n",
       "|---|---|---|---|---|---|---|---|\n",
       "| chr10:100009096-100010466 | -0.03786170 |  0.0303830 | 0.526902 | -0.655965 | 10 | -0.3840866 | 0.3083632 |\n",
       "| chr10:100045961-100046653 |  0.10873570 |  0.1820295 | 0.646953 | -0.497578 | 10 | -0.2750008 | 0.3645600 |\n",
       "| chr10:100065094-100065486 | -0.00323730 | -0.0931995 | 1.305380 | -0.677550 | 10 | -0.3639722 | 0.5378650 |\n",
       "| chr10:100129051-100131059 | -0.26576144 | -0.2617330 | 0.253159 | -0.767330 |  9 | -0.4522120 | 0.1071397 |\n",
       "| chr10:100185017-100187275 | -0.01202196 | -0.0613300 | 0.730481 | -0.954435 | 25 | -0.2790666 | 0.3278531 |\n",
       "| chr10:100228452-100230090 | -0.01822050 |  0.0722880 | 0.446912 | -0.768059 | 10 | -0.3293750 | 0.1892158 |\n",
       "\n"
      ],
      "text/plain": [
       "  Peak                      Mean        Median     Max      Min       Count\n",
       "1 chr10:100009096-100010466 -0.03786170  0.0303830 0.526902 -0.655965 10   \n",
       "2 chr10:100045961-100046653  0.10873570  0.1820295 0.646953 -0.497578 10   \n",
       "3 chr10:100065094-100065486 -0.00323730 -0.0931995 1.305380 -0.677550 10   \n",
       "4 chr10:100129051-100131059 -0.26576144 -0.2617330 0.253159 -0.767330  9   \n",
       "5 chr10:100185017-100187275 -0.01202196 -0.0613300 0.730481 -0.954435 25   \n",
       "6 chr10:100228452-100230090 -0.01822050  0.0722880 0.446912 -0.768059 10   \n",
       "  Mean_Neg   Mean_Pos \n",
       "1 -0.3840866 0.3083632\n",
       "2 -0.2750008 0.3645600\n",
       "3 -0.3639722 0.5378650\n",
       "4 -0.4522120 0.1071397\n",
       "5 -0.2790666 0.3278531\n",
       "6 -0.3293750 0.1892158"
      ]
     },
     "metadata": {},
     "output_type": "display_data"
    }
   ],
   "source": [
    "ASSAY   = \"CRISPRi_Growth_K562_Gersbach\"\n",
    "FOLDER  = \"coverage_astarrseq_peak_macs_input\"\n",
    "\n",
    "fdiry = file.path(FD_RES, \"results\", ASSAY, FOLDER, \"summary\")\n",
    "fname = \"results.summary.tsv\"\n",
    "fpath = file.path(fdiry, fname)\n",
    "\n",
    "dat = read_tsv(fpath, show_col_types = FALSE)\n",
    "\n",
    "dat_peak_score_summary_crispri_growth = dat\n",
    "print(dim(dat))\n",
    "head(dat)"
   ]
  },
  {
   "cell_type": "markdown",
   "metadata": {},
   "source": [
    "### CRISPRi-HCRFF"
   ]
  },
  {
   "cell_type": "code",
   "execution_count": 7,
   "metadata": {},
   "outputs": [
    {
     "name": "stdout",
     "output_type": "stream",
     "text": [
      "[1] 3084    9\n"
     ]
    },
    {
     "data": {
      "text/html": [
       "<table class=\"dataframe\">\n",
       "<caption>A tibble: 6 × 9</caption>\n",
       "<thead>\n",
       "\t<tr><th scope=col>Peak</th><th scope=col>Gene</th><th scope=col>Mean</th><th scope=col>Median</th><th scope=col>Max</th><th scope=col>Min</th><th scope=col>Count</th><th scope=col>Mean_Neg</th><th scope=col>Mean_Pos</th></tr>\n",
       "\t<tr><th scope=col>&lt;chr&gt;</th><th scope=col>&lt;chr&gt;</th><th scope=col>&lt;dbl&gt;</th><th scope=col>&lt;dbl&gt;</th><th scope=col>&lt;dbl&gt;</th><th scope=col>&lt;dbl&gt;</th><th scope=col>&lt;dbl&gt;</th><th scope=col>&lt;dbl&gt;</th><th scope=col>&lt;dbl&gt;</th></tr>\n",
       "</thead>\n",
       "<tbody>\n",
       "\t<tr><td>chr11:33065336-33066228</td><td>CAPRIN1</td><td>-0.27343935</td><td>-0.2533300</td><td>1.82911</td><td>-2.32196</td><td>46</td><td>-0.5695431</td><td>0.4782085</td></tr>\n",
       "\t<tr><td>chr11:33065336-33066228</td><td>CAT    </td><td>-0.01256696</td><td>-0.1384765</td><td>1.43868</td><td>-1.77410</td><td>46</td><td>-0.5122241</td><td>0.6369873</td></tr>\n",
       "\t<tr><td>chr11:33065336-33066228</td><td>LMO2   </td><td> 0.03675483</td><td>-0.0071000</td><td>1.09905</td><td>-1.14702</td><td>46</td><td>-0.4276747</td><td>0.5011843</td></tr>\n",
       "\t<tr><td>chr11:33068519-33069100</td><td>CAPRIN1</td><td>-0.11785479</td><td>-0.0847600</td><td>1.64429</td><td>-2.01338</td><td>53</td><td>-0.4252182</td><td>0.4797963</td></tr>\n",
       "\t<tr><td>chr11:33068519-33069100</td><td>CAT    </td><td>-0.15932204</td><td>-0.1697360</td><td>2.12211</td><td>-2.59035</td><td>53</td><td>-0.6266582</td><td>0.6769637</td></tr>\n",
       "\t<tr><td>chr11:33068519-33069100</td><td>LMO2   </td><td>-0.08303026</td><td>-0.1090310</td><td>2.73010</td><td>-2.25265</td><td>53</td><td>-0.5389359</td><td>0.5116293</td></tr>\n",
       "</tbody>\n",
       "</table>\n"
      ],
      "text/latex": [
       "A tibble: 6 × 9\n",
       "\\begin{tabular}{lllllllll}\n",
       " Peak & Gene & Mean & Median & Max & Min & Count & Mean\\_Neg & Mean\\_Pos\\\\\n",
       " <chr> & <chr> & <dbl> & <dbl> & <dbl> & <dbl> & <dbl> & <dbl> & <dbl>\\\\\n",
       "\\hline\n",
       "\t chr11:33065336-33066228 & CAPRIN1 & -0.27343935 & -0.2533300 & 1.82911 & -2.32196 & 46 & -0.5695431 & 0.4782085\\\\\n",
       "\t chr11:33065336-33066228 & CAT     & -0.01256696 & -0.1384765 & 1.43868 & -1.77410 & 46 & -0.5122241 & 0.6369873\\\\\n",
       "\t chr11:33065336-33066228 & LMO2    &  0.03675483 & -0.0071000 & 1.09905 & -1.14702 & 46 & -0.4276747 & 0.5011843\\\\\n",
       "\t chr11:33068519-33069100 & CAPRIN1 & -0.11785479 & -0.0847600 & 1.64429 & -2.01338 & 53 & -0.4252182 & 0.4797963\\\\\n",
       "\t chr11:33068519-33069100 & CAT     & -0.15932204 & -0.1697360 & 2.12211 & -2.59035 & 53 & -0.6266582 & 0.6769637\\\\\n",
       "\t chr11:33068519-33069100 & LMO2    & -0.08303026 & -0.1090310 & 2.73010 & -2.25265 & 53 & -0.5389359 & 0.5116293\\\\\n",
       "\\end{tabular}\n"
      ],
      "text/markdown": [
       "\n",
       "A tibble: 6 × 9\n",
       "\n",
       "| Peak &lt;chr&gt; | Gene &lt;chr&gt; | Mean &lt;dbl&gt; | Median &lt;dbl&gt; | Max &lt;dbl&gt; | Min &lt;dbl&gt; | Count &lt;dbl&gt; | Mean_Neg &lt;dbl&gt; | Mean_Pos &lt;dbl&gt; |\n",
       "|---|---|---|---|---|---|---|---|---|\n",
       "| chr11:33065336-33066228 | CAPRIN1 | -0.27343935 | -0.2533300 | 1.82911 | -2.32196 | 46 | -0.5695431 | 0.4782085 |\n",
       "| chr11:33065336-33066228 | CAT     | -0.01256696 | -0.1384765 | 1.43868 | -1.77410 | 46 | -0.5122241 | 0.6369873 |\n",
       "| chr11:33065336-33066228 | LMO2    |  0.03675483 | -0.0071000 | 1.09905 | -1.14702 | 46 | -0.4276747 | 0.5011843 |\n",
       "| chr11:33068519-33069100 | CAPRIN1 | -0.11785479 | -0.0847600 | 1.64429 | -2.01338 | 53 | -0.4252182 | 0.4797963 |\n",
       "| chr11:33068519-33069100 | CAT     | -0.15932204 | -0.1697360 | 2.12211 | -2.59035 | 53 | -0.6266582 | 0.6769637 |\n",
       "| chr11:33068519-33069100 | LMO2    | -0.08303026 | -0.1090310 | 2.73010 | -2.25265 | 53 | -0.5389359 | 0.5116293 |\n",
       "\n"
      ],
      "text/plain": [
       "  Peak                    Gene    Mean        Median     Max     Min      Count\n",
       "1 chr11:33065336-33066228 CAPRIN1 -0.27343935 -0.2533300 1.82911 -2.32196 46   \n",
       "2 chr11:33065336-33066228 CAT     -0.01256696 -0.1384765 1.43868 -1.77410 46   \n",
       "3 chr11:33065336-33066228 LMO2     0.03675483 -0.0071000 1.09905 -1.14702 46   \n",
       "4 chr11:33068519-33069100 CAPRIN1 -0.11785479 -0.0847600 1.64429 -2.01338 53   \n",
       "5 chr11:33068519-33069100 CAT     -0.15932204 -0.1697360 2.12211 -2.59035 53   \n",
       "6 chr11:33068519-33069100 LMO2    -0.08303026 -0.1090310 2.73010 -2.25265 53   \n",
       "  Mean_Neg   Mean_Pos \n",
       "1 -0.5695431 0.4782085\n",
       "2 -0.5122241 0.6369873\n",
       "3 -0.4276747 0.5011843\n",
       "4 -0.4252182 0.4797963\n",
       "5 -0.6266582 0.6769637\n",
       "6 -0.5389359 0.5116293"
      ]
     },
     "metadata": {},
     "output_type": "display_data"
    }
   ],
   "source": [
    "ASSAY   = \"CRISPRi_FlowFISH\"\n",
    "FOLDER  = \"coverage_astarrseq_peak_macs_input\"\n",
    "\n",
    "fdiry = file.path(FD_RES, \"results\", ASSAY, FOLDER, \"summary\")\n",
    "fname = \"results.summary.Merge.tsv\"\n",
    "fpath = file.path(fdiry, fname)\n",
    "\n",
    "dat = read_tsv(fpath, show_col_types = FALSE)\n",
    "\n",
    "dat_peak_score_summary_crispri_hcrff = dat\n",
    "print(dim(dat))\n",
    "head(dat)"
   ]
  },
  {
   "cell_type": "markdown",
   "metadata": {},
   "source": [
    "## Analysis"
   ]
  },
  {
   "cell_type": "code",
   "execution_count": 8,
   "metadata": {},
   "outputs": [
    {
     "data": {
      "text/html": [
       "<style>\n",
       ".list-inline {list-style: none; margin:0; padding: 0}\n",
       ".list-inline>li {display: inline-block}\n",
       ".list-inline>li:not(:last-child)::after {content: \"\\00b7\"; padding: 0 .5ex}\n",
       "</style>\n",
       "<ol class=list-inline><li>[0.5,1.5]</li><li>(1.5,2.5]</li><li>(2.5,3.5]</li><li>(3.5,4.5]</li><li>(4.5,5.5]</li><li>(5.5,6.5]</li></ol>\n",
       "\n",
       "<details>\n",
       "\t<summary style=display:list-item;cursor:pointer>\n",
       "\t\t<strong>Levels</strong>:\n",
       "\t</summary>\n",
       "\t<style>\n",
       "\t.list-inline {list-style: none; margin:0; padding: 0}\n",
       "\t.list-inline>li {display: inline-block}\n",
       "\t.list-inline>li:not(:last-child)::after {content: \"\\00b7\"; padding: 0 .5ex}\n",
       "\t</style>\n",
       "\t<ol class=list-inline><li>'[0.5,1.5]'</li><li>'(1.5,2.5]'</li><li>'(2.5,3.5]'</li><li>'(3.5,4.5]'</li><li>'(4.5,5.5]'</li><li>'(5.5,6.5]'</li></ol>\n",
       "</details>"
      ],
      "text/latex": [
       "\\begin{enumerate*}\n",
       "\\item {[}0.5,1.5{]}\n",
       "\\item (1.5,2.5{]}\n",
       "\\item (2.5,3.5{]}\n",
       "\\item (3.5,4.5{]}\n",
       "\\item (4.5,5.5{]}\n",
       "\\item (5.5,6.5{]}\n",
       "\\end{enumerate*}\n",
       "\n",
       "\\emph{Levels}: \\begin{enumerate*}\n",
       "\\item '{[}0.5,1.5{]}'\n",
       "\\item '(1.5,2.5{]}'\n",
       "\\item '(2.5,3.5{]}'\n",
       "\\item '(3.5,4.5{]}'\n",
       "\\item '(4.5,5.5{]}'\n",
       "\\item '(5.5,6.5{]}'\n",
       "\\end{enumerate*}\n"
      ],
      "text/markdown": [
       "1. [0.5,1.5]\n",
       "2. (1.5,2.5]\n",
       "3. (2.5,3.5]\n",
       "4. (3.5,4.5]\n",
       "5. (4.5,5.5]\n",
       "6. (5.5,6.5]\n",
       "\n",
       "\n",
       "\n",
       "**Levels**: 1. '[0.5,1.5]'\n",
       "2. '(1.5,2.5]'\n",
       "3. '(2.5,3.5]'\n",
       "4. '(3.5,4.5]'\n",
       "5. '(4.5,5.5]'\n",
       "6. '(5.5,6.5]'\n",
       "\n",
       "\n"
      ],
      "text/plain": [
       "[1] [0.5,1.5] (1.5,2.5] (2.5,3.5] (3.5,4.5] (4.5,5.5] (5.5,6.5]\n",
       "Levels: [0.5,1.5] (1.5,2.5] (2.5,3.5] (3.5,4.5] (4.5,5.5] (5.5,6.5]"
      ]
     },
     "metadata": {},
     "output_type": "display_data"
    }
   ],
   "source": [
    "x = c(1,2,3,4,5,6)\n",
    "cut_width(x, width=1)"
   ]
  },
  {
   "cell_type": "code",
   "execution_count": 9,
   "metadata": {},
   "outputs": [
    {
     "data": {
      "text/html": [
       "<style>\n",
       ".list-inline {list-style: none; margin:0; padding: 0}\n",
       ".list-inline>li {display: inline-block}\n",
       ".list-inline>li:not(:last-child)::after {content: \"\\00b7\"; padding: 0 .5ex}\n",
       "</style>\n",
       "<ol class=list-inline><li>[1,2.67]</li><li>[1,2.67]</li><li>(2.67,4.33]</li><li>(2.67,4.33]</li><li>(4.33,6]</li><li>(4.33,6]</li></ol>\n",
       "\n",
       "<details>\n",
       "\t<summary style=display:list-item;cursor:pointer>\n",
       "\t\t<strong>Levels</strong>:\n",
       "\t</summary>\n",
       "\t<style>\n",
       "\t.list-inline {list-style: none; margin:0; padding: 0}\n",
       "\t.list-inline>li {display: inline-block}\n",
       "\t.list-inline>li:not(:last-child)::after {content: \"\\00b7\"; padding: 0 .5ex}\n",
       "\t</style>\n",
       "\t<ol class=list-inline><li>'[1,2.67]'</li><li>'(2.67,4.33]'</li><li>'(4.33,6]'</li></ol>\n",
       "</details>"
      ],
      "text/latex": [
       "\\begin{enumerate*}\n",
       "\\item {[}1,2.67{]}\n",
       "\\item {[}1,2.67{]}\n",
       "\\item (2.67,4.33{]}\n",
       "\\item (2.67,4.33{]}\n",
       "\\item (4.33,6{]}\n",
       "\\item (4.33,6{]}\n",
       "\\end{enumerate*}\n",
       "\n",
       "\\emph{Levels}: \\begin{enumerate*}\n",
       "\\item '{[}1,2.67{]}'\n",
       "\\item '(2.67,4.33{]}'\n",
       "\\item '(4.33,6{]}'\n",
       "\\end{enumerate*}\n"
      ],
      "text/markdown": [
       "1. [1,2.67]\n",
       "2. [1,2.67]\n",
       "3. (2.67,4.33]\n",
       "4. (2.67,4.33]\n",
       "5. (4.33,6]\n",
       "6. (4.33,6]\n",
       "\n",
       "\n",
       "\n",
       "**Levels**: 1. '[1,2.67]'\n",
       "2. '(2.67,4.33]'\n",
       "3. '(4.33,6]'\n",
       "\n",
       "\n"
      ],
      "text/plain": [
       "[1] [1,2.67]    [1,2.67]    (2.67,4.33] (2.67,4.33] (4.33,6]    (4.33,6]   \n",
       "Levels: [1,2.67] (2.67,4.33] (4.33,6]"
      ]
     },
     "metadata": {},
     "output_type": "display_data"
    }
   ],
   "source": [
    "x = c(1,2,3,4,5,6)\n",
    "cut_number(x, n=3)"
   ]
  },
  {
   "cell_type": "code",
   "execution_count": 10,
   "metadata": {},
   "outputs": [
    {
     "name": "stdout",
     "output_type": "stream",
     "text": [
      "   Min. 1st Qu.  Median    Mean 3rd Qu.    Max. \n",
      "  1.000   1.000   2.000   3.388   5.000  38.000 \n"
     ]
    }
   ],
   "source": [
    "dat = dat_network_ocr_metric_node\n",
    "print(summary(dat$Degree))"
   ]
  },
  {
   "cell_type": "code",
   "execution_count": 11,
   "metadata": {},
   "outputs": [
    {
     "data": {
      "text/html": [
       "<style>\n",
       ".dl-inline {width: auto; margin:0; padding: 0}\n",
       ".dl-inline>dt, .dl-inline>dd {float: none; width: auto; display: inline-block}\n",
       ".dl-inline>dt::after {content: \":\\0020\"; padding-right: .5ex}\n",
       ".dl-inline>dt:not(:first-of-type) {padding-left: .5ex}\n",
       "</style><dl class=dl-inline><dt>25%</dt><dd>1</dd><dt>50%</dt><dd>2</dd><dt>75%</dt><dd>5</dd></dl>\n"
      ],
      "text/latex": [
       "\\begin{description*}\n",
       "\\item[25\\textbackslash{}\\%] 1\n",
       "\\item[50\\textbackslash{}\\%] 2\n",
       "\\item[75\\textbackslash{}\\%] 5\n",
       "\\end{description*}\n"
      ],
      "text/markdown": [
       "25%\n",
       ":   150%\n",
       ":   275%\n",
       ":   5\n",
       "\n"
      ],
      "text/plain": [
       "25% 50% 75% \n",
       "  1   2   5 "
      ]
     },
     "metadata": {},
     "output_type": "display_data"
    }
   ],
   "source": [
    "dat = dat_network_ocr_metric_node\n",
    "quantile(dat$Degree, probs = c(0.25, 0.5, 0.75))"
   ]
  },
  {
   "cell_type": "code",
   "execution_count": 12,
   "metadata": {},
   "outputs": [
    {
     "data": {
      "text/html": [
       "<style>\n",
       ".dl-inline {width: auto; margin:0; padding: 0}\n",
       ".dl-inline>dt, .dl-inline>dd {float: none; width: auto; display: inline-block}\n",
       ".dl-inline>dt::after {content: \":\\0020\"; padding-right: .5ex}\n",
       ".dl-inline>dt:not(:first-of-type) {padding-left: .5ex}\n",
       "</style><dl class=dl-inline><dt>20%</dt><dd>1</dd><dt>40%</dt><dd>2</dd><dt>60%</dt><dd>3</dd><dt>80%</dt><dd>5</dd></dl>\n"
      ],
      "text/latex": [
       "\\begin{description*}\n",
       "\\item[20\\textbackslash{}\\%] 1\n",
       "\\item[40\\textbackslash{}\\%] 2\n",
       "\\item[60\\textbackslash{}\\%] 3\n",
       "\\item[80\\textbackslash{}\\%] 5\n",
       "\\end{description*}\n"
      ],
      "text/markdown": [
       "20%\n",
       ":   140%\n",
       ":   260%\n",
       ":   380%\n",
       ":   5\n",
       "\n"
      ],
      "text/plain": [
       "20% 40% 60% 80% \n",
       "  1   2   3   5 "
      ]
     },
     "metadata": {},
     "output_type": "display_data"
    }
   ],
   "source": [
    "dat = dat_network_ocr_metric_node\n",
    "quantile(dat$Degree, probs = c(0.2, 0.4, 0.6, 0.8))"
   ]
  },
  {
   "cell_type": "code",
   "execution_count": 13,
   "metadata": {},
   "outputs": [
    {
     "data": {
      "text/plain": [
       "vec\n",
       " (0,1]  (1,2]  (2,3]  (3,5] (5,40] \n",
       " 15197  10085   7009   8468   8914 "
      ]
     },
     "metadata": {},
     "output_type": "display_data"
    }
   ],
   "source": [
    "dat = dat_network_ocr_metric_node\n",
    "vec = c(0,1,2,3,5,40)\n",
    "vec = cut(dat$Degree, breaks = vec)\n",
    "table(vec)"
   ]
  },
  {
   "cell_type": "code",
   "execution_count": 14,
   "metadata": {},
   "outputs": [
    {
     "name": "stdout",
     "output_type": "stream",
     "text": [
      "    Min.  1st Qu.   Median     Mean  3rd Qu.     Max. \n",
      "0.000000 0.000000 0.001085 0.045834 0.021577 1.000000 \n"
     ]
    }
   ],
   "source": [
    "dat = dat_network_ocr_metric_node\n",
    "print(summary(dat$BetweennessCentrality))"
   ]
  },
  {
   "cell_type": "code",
   "execution_count": 15,
   "metadata": {},
   "outputs": [
    {
     "data": {
      "text/html": [
       "<style>\n",
       ".dl-inline {width: auto; margin:0; padding: 0}\n",
       ".dl-inline>dt, .dl-inline>dd {float: none; width: auto; display: inline-block}\n",
       ".dl-inline>dt::after {content: \":\\0020\"; padding-right: .5ex}\n",
       ".dl-inline>dt:not(:first-of-type) {padding-left: .5ex}\n",
       "</style><dl class=dl-inline><dt>20%</dt><dd>0</dd><dt>40%</dt><dd>2.3653024469778e-05</dd><dt>60%</dt><dd>0.00447340542171478</dd><dt>80%</dt><dd>0.0362130848070145</dd></dl>\n"
      ],
      "text/latex": [
       "\\begin{description*}\n",
       "\\item[20\\textbackslash{}\\%] 0\n",
       "\\item[40\\textbackslash{}\\%] 2.3653024469778e-05\n",
       "\\item[60\\textbackslash{}\\%] 0.00447340542171478\n",
       "\\item[80\\textbackslash{}\\%] 0.0362130848070145\n",
       "\\end{description*}\n"
      ],
      "text/markdown": [
       "20%\n",
       ":   040%\n",
       ":   2.3653024469778e-0560%\n",
       ":   0.0044734054217147880%\n",
       ":   0.0362130848070145\n",
       "\n"
      ],
      "text/plain": [
       "         20%          40%          60%          80% \n",
       "0.000000e+00 2.365302e-05 4.473405e-03 3.621308e-02 "
      ]
     },
     "metadata": {},
     "output_type": "display_data"
    }
   ],
   "source": [
    "dat = dat_network_ocr_metric_node\n",
    "quantile(dat$BetweennessCentrality, probs = c(0.2, 0.4, 0.6, 0.8))"
   ]
  },
  {
   "cell_type": "code",
   "execution_count": 16,
   "metadata": {},
   "outputs": [
    {
     "data": {
      "text/html": [
       "0.0023653024469778"
      ],
      "text/latex": [
       "0.0023653024469778"
      ],
      "text/markdown": [
       "0.0023653024469778"
      ],
      "text/plain": [
       "[1] 0.002365302"
      ]
     },
     "metadata": {},
     "output_type": "display_data"
    }
   ],
   "source": [
    "2.3653024469778e-05 * 100"
   ]
  },
  {
   "cell_type": "code",
   "execution_count": 17,
   "metadata": {},
   "outputs": [
    {
     "data": {
      "text/plain": [
       "vec\n",
       "   (0,0.001] (0.001,0.01]  (0.01,0.05]     (0.05,1] \n",
       "        6956         8813         7665         8539 "
      ]
     },
     "metadata": {},
     "output_type": "display_data"
    }
   ],
   "source": [
    "dat = dat_network_ocr_dat = dat_network_ocr_metric_node\n",
    "vec = c(0, 0.001, 0.01, 0.05, 1)\n",
    "vec = cut(dat$BetweennessCentrality, breaks = vec)\n",
    "table(vec)"
   ]
  },
  {
   "cell_type": "code",
   "execution_count": 18,
   "metadata": {},
   "outputs": [
    {
     "name": "stdout",
     "output_type": "stream",
     "text": [
      "\n",
      "   Q1    Q2    Q3    Q4    Q5 \n",
      "15197 10085  7009  8468  8914 \n",
      "[1] 49673     4\n"
     ]
    },
    {
     "data": {
      "text/html": [
       "<table class=\"dataframe\">\n",
       "<caption>A tibble: 6 × 4</caption>\n",
       "<thead>\n",
       "\t<tr><th scope=col>Peak</th><th scope=col>Degree</th><th scope=col>BetweennessCentrality</th><th scope=col>Group</th></tr>\n",
       "\t<tr><th scope=col>&lt;chr&gt;</th><th scope=col>&lt;dbl&gt;</th><th scope=col>&lt;dbl&gt;</th><th scope=col>&lt;fct&gt;</th></tr>\n",
       "</thead>\n",
       "<tbody>\n",
       "\t<tr><td>chr10:100045961-100046653</td><td>5</td><td>4.919747e-01</td><td>Q4</td></tr>\n",
       "\t<tr><td>chr10:100433434-100434444</td><td>4</td><td>2.724630e-02</td><td>Q4</td></tr>\n",
       "\t<tr><td>chr10:100185017-100187275</td><td>3</td><td>4.614888e-05</td><td>Q3</td></tr>\n",
       "\t<tr><td>chr10:100267066-100268374</td><td>3</td><td>1.282016e-02</td><td>Q3</td></tr>\n",
       "\t<tr><td>chr10:100370571-100371646</td><td>2</td><td>2.118233e-03</td><td>Q2</td></tr>\n",
       "\t<tr><td>chr10:100373060-100374238</td><td>4</td><td>2.335595e-02</td><td>Q4</td></tr>\n",
       "</tbody>\n",
       "</table>\n"
      ],
      "text/latex": [
       "A tibble: 6 × 4\n",
       "\\begin{tabular}{llll}\n",
       " Peak & Degree & BetweennessCentrality & Group\\\\\n",
       " <chr> & <dbl> & <dbl> & <fct>\\\\\n",
       "\\hline\n",
       "\t chr10:100045961-100046653 & 5 & 4.919747e-01 & Q4\\\\\n",
       "\t chr10:100433434-100434444 & 4 & 2.724630e-02 & Q4\\\\\n",
       "\t chr10:100185017-100187275 & 3 & 4.614888e-05 & Q3\\\\\n",
       "\t chr10:100267066-100268374 & 3 & 1.282016e-02 & Q3\\\\\n",
       "\t chr10:100370571-100371646 & 2 & 2.118233e-03 & Q2\\\\\n",
       "\t chr10:100373060-100374238 & 4 & 2.335595e-02 & Q4\\\\\n",
       "\\end{tabular}\n"
      ],
      "text/markdown": [
       "\n",
       "A tibble: 6 × 4\n",
       "\n",
       "| Peak &lt;chr&gt; | Degree &lt;dbl&gt; | BetweennessCentrality &lt;dbl&gt; | Group &lt;fct&gt; |\n",
       "|---|---|---|---|\n",
       "| chr10:100045961-100046653 | 5 | 4.919747e-01 | Q4 |\n",
       "| chr10:100433434-100434444 | 4 | 2.724630e-02 | Q4 |\n",
       "| chr10:100185017-100187275 | 3 | 4.614888e-05 | Q3 |\n",
       "| chr10:100267066-100268374 | 3 | 1.282016e-02 | Q3 |\n",
       "| chr10:100370571-100371646 | 2 | 2.118233e-03 | Q2 |\n",
       "| chr10:100373060-100374238 | 4 | 2.335595e-02 | Q4 |\n",
       "\n"
      ],
      "text/plain": [
       "  Peak                      Degree BetweennessCentrality Group\n",
       "1 chr10:100045961-100046653 5      4.919747e-01          Q4   \n",
       "2 chr10:100433434-100434444 4      2.724630e-02          Q4   \n",
       "3 chr10:100185017-100187275 3      4.614888e-05          Q3   \n",
       "4 chr10:100267066-100268374 3      1.282016e-02          Q3   \n",
       "5 chr10:100370571-100371646 2      2.118233e-03          Q2   \n",
       "6 chr10:100373060-100374238 4      2.335595e-02          Q4   "
      ]
     },
     "metadata": {},
     "output_type": "display_data"
    }
   ],
   "source": [
    "dat = dat_network_ocr_metric_node\n",
    "\n",
    "vec = c(0,1,2,3,5,40)\n",
    "txt = paste0(\"Q\", 1:(length(vec)-1))\n",
    "dat = dat %>% \n",
    "    dplyr::mutate(Peak = name) %>%\n",
    "    dplyr::select(Peak, Degree, BetweennessCentrality) %>%\n",
    "    dplyr::mutate(Group=cut(Degree, breaks = vec, labels = txt))\n",
    "\n",
    "dat_node = dat\n",
    "print(table(dat$Group))\n",
    "print(dim(dat))\n",
    "head(dat)"
   ]
  },
  {
   "cell_type": "code",
   "execution_count": 25,
   "metadata": {},
   "outputs": [
    {
     "name": "stdout",
     "output_type": "stream",
     "text": [
      "[1] 49673     5\n"
     ]
    },
    {
     "data": {
      "text/html": [
       "<table class=\"dataframe\">\n",
       "<caption>A tibble: 6 × 5</caption>\n",
       "<thead>\n",
       "\t<tr><th scope=col>Peak</th><th scope=col>Degree</th><th scope=col>BetweennessCentrality</th><th scope=col>Group</th><th scope=col>Score</th></tr>\n",
       "\t<tr><th scope=col>&lt;chr&gt;</th><th scope=col>&lt;dbl&gt;</th><th scope=col>&lt;dbl&gt;</th><th scope=col>&lt;fct&gt;</th><th scope=col>&lt;dbl&gt;</th></tr>\n",
       "</thead>\n",
       "<tbody>\n",
       "\t<tr><td>chr10:100045961-100046653</td><td>5</td><td>4.919747e-01</td><td>Q4</td><td>-0.3578426</td></tr>\n",
       "\t<tr><td>chr10:100433434-100434444</td><td>4</td><td>2.724630e-02</td><td>Q4</td><td> 0.2022724</td></tr>\n",
       "\t<tr><td>chr10:100185017-100187275</td><td>3</td><td>4.614888e-05</td><td>Q3</td><td> 0.5285143</td></tr>\n",
       "\t<tr><td>chr10:100267066-100268374</td><td>3</td><td>1.282016e-02</td><td>Q3</td><td> 0.5337811</td></tr>\n",
       "\t<tr><td>chr10:100370571-100371646</td><td>2</td><td>2.118233e-03</td><td>Q2</td><td> 0.2682377</td></tr>\n",
       "\t<tr><td>chr10:100373060-100374238</td><td>4</td><td>2.335595e-02</td><td>Q4</td><td> 0.8575862</td></tr>\n",
       "</tbody>\n",
       "</table>\n"
      ],
      "text/latex": [
       "A tibble: 6 × 5\n",
       "\\begin{tabular}{lllll}\n",
       " Peak & Degree & BetweennessCentrality & Group & Score\\\\\n",
       " <chr> & <dbl> & <dbl> & <fct> & <dbl>\\\\\n",
       "\\hline\n",
       "\t chr10:100045961-100046653 & 5 & 4.919747e-01 & Q4 & -0.3578426\\\\\n",
       "\t chr10:100433434-100434444 & 4 & 2.724630e-02 & Q4 &  0.2022724\\\\\n",
       "\t chr10:100185017-100187275 & 3 & 4.614888e-05 & Q3 &  0.5285143\\\\\n",
       "\t chr10:100267066-100268374 & 3 & 1.282016e-02 & Q3 &  0.5337811\\\\\n",
       "\t chr10:100370571-100371646 & 2 & 2.118233e-03 & Q2 &  0.2682377\\\\\n",
       "\t chr10:100373060-100374238 & 4 & 2.335595e-02 & Q4 &  0.8575862\\\\\n",
       "\\end{tabular}\n"
      ],
      "text/markdown": [
       "\n",
       "A tibble: 6 × 5\n",
       "\n",
       "| Peak &lt;chr&gt; | Degree &lt;dbl&gt; | BetweennessCentrality &lt;dbl&gt; | Group &lt;fct&gt; | Score &lt;dbl&gt; |\n",
       "|---|---|---|---|---|\n",
       "| chr10:100045961-100046653 | 5 | 4.919747e-01 | Q4 | -0.3578426 |\n",
       "| chr10:100433434-100434444 | 4 | 2.724630e-02 | Q4 |  0.2022724 |\n",
       "| chr10:100185017-100187275 | 3 | 4.614888e-05 | Q3 |  0.5285143 |\n",
       "| chr10:100267066-100268374 | 3 | 1.282016e-02 | Q3 |  0.5337811 |\n",
       "| chr10:100370571-100371646 | 2 | 2.118233e-03 | Q2 |  0.2682377 |\n",
       "| chr10:100373060-100374238 | 4 | 2.335595e-02 | Q4 |  0.8575862 |\n",
       "\n"
      ],
      "text/plain": [
       "  Peak                      Degree BetweennessCentrality Group Score     \n",
       "1 chr10:100045961-100046653 5      4.919747e-01          Q4    -0.3578426\n",
       "2 chr10:100433434-100434444 4      2.724630e-02          Q4     0.2022724\n",
       "3 chr10:100185017-100187275 3      4.614888e-05          Q3     0.5285143\n",
       "4 chr10:100267066-100268374 3      1.282016e-02          Q3     0.5337811\n",
       "5 chr10:100370571-100371646 2      2.118233e-03          Q2     0.2682377\n",
       "6 chr10:100373060-100374238 4      2.335595e-02          Q4     0.8575862"
      ]
     },
     "metadata": {},
     "output_type": "display_data"
    }
   ],
   "source": [
    "dat_score = dat_peak_score_deseq_starrmpra %>% \n",
    "    dplyr::filter(Assay==\"ASTARR\") %>%\n",
    "    dplyr::mutate(Score = log2FoldChange) %>%\n",
    "    dplyr::select(Peak, Score)\n",
    "\n",
    "dat = dat_node %>% \n",
    "    dplyr::left_join(dat_score, by=\"Peak\") %>%\n",
    "    na.omit()\n",
    "\n",
    "print(dim(dat))\n",
    "head(dat)"
   ]
  },
  {
   "cell_type": "code",
   "execution_count": 26,
   "metadata": {},
   "outputs": [
    {
     "data": {
      "image/png": "[encoded data removed]",
      "text/plain": [
       "plot without title"
      ]
     },
     "metadata": {
      "image/png": {
       "height": 300,
       "width": 480
      }
     },
     "output_type": "display_data"
    }
   ],
   "source": [
    "gpt = ggplot(dat, aes(x=Degree, y=Score)) + \n",
    "    geom_point() + \n",
    "    geom_hline(yintercept = 0) +\n",
    "    theme_cowplot()\n",
    "\n",
    "options(repr.plot.height=5, repr.plot.width=8)\n",
    "print(gpt)"
   ]
  },
  {
   "cell_type": "code",
   "execution_count": 29,
   "metadata": {},
   "outputs": [
    {
     "data": {
      "image/png": "[encoded data removed]",
      "text/plain": [
       "plot without title"
      ]
     },
     "metadata": {
      "image/png": {
       "height": 300,
       "width": 300
      }
     },
     "output_type": "display_data"
    }
   ],
   "source": [
    "gpt = ggplot(dat, aes(x=Group, y=Score)) + \n",
    "    geom_boxplot() + \n",
    "    geom_hline(yintercept = 0) +\n",
    "    labs(\n",
    "        x = \"Connectivity\",\n",
    "        y = \"Log2FC\",\n",
    "        title = \"ASTARR\"\n",
    "    ) +\n",
    "    theme_cowplot()\n",
    "\n",
    "options(repr.plot.height=5, repr.plot.width=5)\n",
    "print(gpt)"
   ]
  },
  {
   "cell_type": "code",
   "execution_count": 30,
   "metadata": {},
   "outputs": [
    {
     "name": "stdout",
     "output_type": "stream",
     "text": [
      "[1] 49664     5\n"
     ]
    },
    {
     "data": {
      "text/html": [
       "<table class=\"dataframe\">\n",
       "<caption>A tibble: 6 × 5</caption>\n",
       "<thead>\n",
       "\t<tr><th scope=col>Peak</th><th scope=col>Degree</th><th scope=col>BetweennessCentrality</th><th scope=col>Group</th><th scope=col>Score</th></tr>\n",
       "\t<tr><th scope=col>&lt;chr&gt;</th><th scope=col>&lt;dbl&gt;</th><th scope=col>&lt;dbl&gt;</th><th scope=col>&lt;fct&gt;</th><th scope=col>&lt;dbl&gt;</th></tr>\n",
       "</thead>\n",
       "<tbody>\n",
       "\t<tr><td>chr10:100045961-100046653</td><td>5</td><td>4.919747e-01</td><td>Q4</td><td>-0.293573031</td></tr>\n",
       "\t<tr><td>chr10:100433434-100434444</td><td>4</td><td>2.724630e-02</td><td>Q4</td><td>-0.001685325</td></tr>\n",
       "\t<tr><td>chr10:100185017-100187275</td><td>3</td><td>4.614888e-05</td><td>Q3</td><td> 0.262190157</td></tr>\n",
       "\t<tr><td>chr10:100267066-100268374</td><td>3</td><td>1.282016e-02</td><td>Q3</td><td> 0.461165665</td></tr>\n",
       "\t<tr><td>chr10:100370571-100371646</td><td>2</td><td>2.118233e-03</td><td>Q2</td><td> 0.257714211</td></tr>\n",
       "\t<tr><td>chr10:100373060-100374238</td><td>4</td><td>2.335595e-02</td><td>Q4</td><td> 1.597732852</td></tr>\n",
       "</tbody>\n",
       "</table>\n"
      ],
      "text/latex": [
       "A tibble: 6 × 5\n",
       "\\begin{tabular}{lllll}\n",
       " Peak & Degree & BetweennessCentrality & Group & Score\\\\\n",
       " <chr> & <dbl> & <dbl> & <fct> & <dbl>\\\\\n",
       "\\hline\n",
       "\t chr10:100045961-100046653 & 5 & 4.919747e-01 & Q4 & -0.293573031\\\\\n",
       "\t chr10:100433434-100434444 & 4 & 2.724630e-02 & Q4 & -0.001685325\\\\\n",
       "\t chr10:100185017-100187275 & 3 & 4.614888e-05 & Q3 &  0.262190157\\\\\n",
       "\t chr10:100267066-100268374 & 3 & 1.282016e-02 & Q3 &  0.461165665\\\\\n",
       "\t chr10:100370571-100371646 & 2 & 2.118233e-03 & Q2 &  0.257714211\\\\\n",
       "\t chr10:100373060-100374238 & 4 & 2.335595e-02 & Q4 &  1.597732852\\\\\n",
       "\\end{tabular}\n"
      ],
      "text/markdown": [
       "\n",
       "A tibble: 6 × 5\n",
       "\n",
       "| Peak &lt;chr&gt; | Degree &lt;dbl&gt; | BetweennessCentrality &lt;dbl&gt; | Group &lt;fct&gt; | Score &lt;dbl&gt; |\n",
       "|---|---|---|---|---|\n",
       "| chr10:100045961-100046653 | 5 | 4.919747e-01 | Q4 | -0.293573031 |\n",
       "| chr10:100433434-100434444 | 4 | 2.724630e-02 | Q4 | -0.001685325 |\n",
       "| chr10:100185017-100187275 | 3 | 4.614888e-05 | Q3 |  0.262190157 |\n",
       "| chr10:100267066-100268374 | 3 | 1.282016e-02 | Q3 |  0.461165665 |\n",
       "| chr10:100370571-100371646 | 2 | 2.118233e-03 | Q2 |  0.257714211 |\n",
       "| chr10:100373060-100374238 | 4 | 2.335595e-02 | Q4 |  1.597732852 |\n",
       "\n"
      ],
      "text/plain": [
       "  Peak                      Degree BetweennessCentrality Group Score       \n",
       "1 chr10:100045961-100046653 5      4.919747e-01          Q4    -0.293573031\n",
       "2 chr10:100433434-100434444 4      2.724630e-02          Q4    -0.001685325\n",
       "3 chr10:100185017-100187275 3      4.614888e-05          Q3     0.262190157\n",
       "4 chr10:100267066-100268374 3      1.282016e-02          Q3     0.461165665\n",
       "5 chr10:100370571-100371646 2      2.118233e-03          Q2     0.257714211\n",
       "6 chr10:100373060-100374238 4      2.335595e-02          Q4     1.597732852"
      ]
     },
     "metadata": {},
     "output_type": "display_data"
    }
   ],
   "source": [
    "dat_score = dat_peak_score_deseq_starrmpra %>% \n",
    "    dplyr::filter(Assay==\"WSTARR\") %>%\n",
    "    dplyr::mutate(Score = log2FoldChange) %>%\n",
    "    dplyr::select(Peak, Score)\n",
    "\n",
    "dat = dat_node %>% \n",
    "    dplyr::left_join(dat_score, by=\"Peak\") %>%\n",
    "    na.omit()\n",
    "\n",
    "print(dim(dat))\n",
    "head(dat)"
   ]
  },
  {
   "cell_type": "code",
   "execution_count": 31,
   "metadata": {},
   "outputs": [
    {
     "data": {
      "image/png": "[encoded data removed]",
      "text/plain": [
       "plot without title"
      ]
     },
     "metadata": {
      "image/png": {
       "height": 300,
       "width": 480
      }
     },
     "output_type": "display_data"
    }
   ],
   "source": [
    "gpt = ggplot(dat, aes(x=Degree, y=Score)) + \n",
    "    geom_point() + \n",
    "    geom_hline(yintercept = 0) +\n",
    "    theme_cowplot()\n",
    "\n",
    "options(repr.plot.height=5, repr.plot.width=8)\n",
    "print(gpt)"
   ]
  },
  {
   "cell_type": "code",
   "execution_count": 32,
   "metadata": {},
   "outputs": [
    {
     "data": {
      "image/png": "[encoded data removed]",
      "text/plain": [
       "plot without title"
      ]
     },
     "metadata": {
      "image/png": {
       "height": 300,
       "width": 300
      }
     },
     "output_type": "display_data"
    }
   ],
   "source": [
    "gpt = ggplot(dat, aes(x=Group, y=Score)) + \n",
    "    geom_boxplot() + \n",
    "    geom_hline(yintercept = 0) +\n",
    "    labs(\n",
    "        x = \"Connectivity\",\n",
    "        y = \"Log2FC\",\n",
    "        title = \"WSTARR\"\n",
    "    ) +\n",
    "    theme_cowplot()\n",
    "\n",
    "options(repr.plot.height=5, repr.plot.width=5)\n",
    "print(gpt)"
   ]
  },
  {
   "cell_type": "code",
   "execution_count": 39,
   "metadata": {},
   "outputs": [
    {
     "name": "stdout",
     "output_type": "stream",
     "text": [
      "[1] 423   5\n"
     ]
    },
    {
     "data": {
      "text/html": [
       "<table class=\"dataframe\">\n",
       "<caption>A tibble: 6 × 5</caption>\n",
       "<thead>\n",
       "\t<tr><th scope=col>Peak</th><th scope=col>Degree</th><th scope=col>BetweennessCentrality</th><th scope=col>Group</th><th scope=col>Score</th></tr>\n",
       "\t<tr><th scope=col>&lt;chr&gt;</th><th scope=col>&lt;dbl&gt;</th><th scope=col>&lt;dbl&gt;</th><th scope=col>&lt;fct&gt;</th><th scope=col>&lt;dbl&gt;</th></tr>\n",
       "</thead>\n",
       "<tbody>\n",
       "\t<tr><td>chr11:33015389-33016533</td><td>2</td><td>6.493506e-03</td><td>Q2</td><td> 1.6154604</td></tr>\n",
       "\t<tr><td>chr11:33065336-33066228</td><td>7</td><td>3.596881e-03</td><td>Q5</td><td>-0.1510474</td></tr>\n",
       "\t<tr><td>chr11:33068519-33069100</td><td>3</td><td>3.021641e-06</td><td>Q3</td><td>-0.5414250</td></tr>\n",
       "\t<tr><td>chr11:33682287-33683069</td><td>2</td><td>5.309606e-05</td><td>Q2</td><td> 0.8453394</td></tr>\n",
       "\t<tr><td>chr11:33685020-33685711</td><td>7</td><td>8.533430e-03</td><td>Q5</td><td>-0.4406270</td></tr>\n",
       "\t<tr><td>chr11:33687699-33688148</td><td>7</td><td>8.533430e-03</td><td>Q5</td><td> 0.1558351</td></tr>\n",
       "</tbody>\n",
       "</table>\n"
      ],
      "text/latex": [
       "A tibble: 6 × 5\n",
       "\\begin{tabular}{lllll}\n",
       " Peak & Degree & BetweennessCentrality & Group & Score\\\\\n",
       " <chr> & <dbl> & <dbl> & <fct> & <dbl>\\\\\n",
       "\\hline\n",
       "\t chr11:33015389-33016533 & 2 & 6.493506e-03 & Q2 &  1.6154604\\\\\n",
       "\t chr11:33065336-33066228 & 7 & 3.596881e-03 & Q5 & -0.1510474\\\\\n",
       "\t chr11:33068519-33069100 & 3 & 3.021641e-06 & Q3 & -0.5414250\\\\\n",
       "\t chr11:33682287-33683069 & 2 & 5.309606e-05 & Q2 &  0.8453394\\\\\n",
       "\t chr11:33685020-33685711 & 7 & 8.533430e-03 & Q5 & -0.4406270\\\\\n",
       "\t chr11:33687699-33688148 & 7 & 8.533430e-03 & Q5 &  0.1558351\\\\\n",
       "\\end{tabular}\n"
      ],
      "text/markdown": [
       "\n",
       "A tibble: 6 × 5\n",
       "\n",
       "| Peak &lt;chr&gt; | Degree &lt;dbl&gt; | BetweennessCentrality &lt;dbl&gt; | Group &lt;fct&gt; | Score &lt;dbl&gt; |\n",
       "|---|---|---|---|---|\n",
       "| chr11:33015389-33016533 | 2 | 6.493506e-03 | Q2 |  1.6154604 |\n",
       "| chr11:33065336-33066228 | 7 | 3.596881e-03 | Q5 | -0.1510474 |\n",
       "| chr11:33068519-33069100 | 3 | 3.021641e-06 | Q3 | -0.5414250 |\n",
       "| chr11:33682287-33683069 | 2 | 5.309606e-05 | Q2 |  0.8453394 |\n",
       "| chr11:33685020-33685711 | 7 | 8.533430e-03 | Q5 | -0.4406270 |\n",
       "| chr11:33687699-33688148 | 7 | 8.533430e-03 | Q5 |  0.1558351 |\n",
       "\n"
      ],
      "text/plain": [
       "  Peak                    Degree BetweennessCentrality Group Score     \n",
       "1 chr11:33015389-33016533 2      6.493506e-03          Q2     1.6154604\n",
       "2 chr11:33065336-33066228 7      3.596881e-03          Q5    -0.1510474\n",
       "3 chr11:33068519-33069100 3      3.021641e-06          Q3    -0.5414250\n",
       "4 chr11:33682287-33683069 2      5.309606e-05          Q2     0.8453394\n",
       "5 chr11:33685020-33685711 7      8.533430e-03          Q5    -0.4406270\n",
       "6 chr11:33687699-33688148 7      8.533430e-03          Q5     0.1558351"
      ]
     },
     "metadata": {},
     "output_type": "display_data"
    }
   ],
   "source": [
    "dat_score = dat_peak_score_deseq_starrmpra %>% \n",
    "    dplyr::filter(Assay==\"TMPRA\") %>%\n",
    "    dplyr::mutate(Score = log2FoldChange) %>%\n",
    "    dplyr::select(Peak, Score)\n",
    "\n",
    "dat = dat_node %>% \n",
    "    dplyr::left_join(dat_score, by=\"Peak\") %>%\n",
    "    na.omit()\n",
    "\n",
    "print(dim(dat))\n",
    "head(dat)"
   ]
  },
  {
   "cell_type": "code",
   "execution_count": 40,
   "metadata": {},
   "outputs": [
    {
     "data": {
      "image/png": "[encoded data removed]",
      "text/plain": [
       "plot without title"
      ]
     },
     "metadata": {
      "image/png": {
       "height": 300,
       "width": 480
      }
     },
     "output_type": "display_data"
    }
   ],
   "source": [
    "gpt = ggplot(dat, aes(x=Degree, y=Score)) + \n",
    "    geom_point() + \n",
    "    geom_hline(yintercept = 0) +\n",
    "    theme_cowplot()\n",
    "\n",
    "options(repr.plot.height=5, repr.plot.width=8)\n",
    "print(gpt)"
   ]
  },
  {
   "cell_type": "code",
   "execution_count": 41,
   "metadata": {},
   "outputs": [
    {
     "data": {
      "image/png": "[encoded data removed]",
      "text/plain": [
       "plot without title"
      ]
     },
     "metadata": {
      "image/png": {
       "height": 300,
       "width": 300
      }
     },
     "output_type": "display_data"
    }
   ],
   "source": [
    "gpt = ggplot(dat, aes(x=Group, y=Score)) + \n",
    "    geom_boxplot() + \n",
    "    geom_hline(yintercept = 0) +\n",
    "    labs(\n",
    "        x = \"Connectivity\",\n",
    "        y = \"Log2FC\",\n",
    "        title = \"TMPRA\"\n",
    "    ) +\n",
    "    theme_cowplot()\n",
    "\n",
    "options(repr.plot.height=5, repr.plot.width=5)\n",
    "print(gpt)"
   ]
  },
  {
   "cell_type": "code",
   "execution_count": 58,
   "metadata": {},
   "outputs": [
    {
     "data": {
      "text/html": [
       "<table class=\"dataframe\">\n",
       "<caption>A tibble: 6 × 7</caption>\n",
       "<thead>\n",
       "\t<tr><th scope=col>Peak</th><th scope=col>Mean</th><th scope=col>Median</th><th scope=col>Max</th><th scope=col>Min</th><th scope=col>Count</th><th scope=col>Mean_Pos</th></tr>\n",
       "\t<tr><th scope=col>&lt;chr&gt;</th><th scope=col>&lt;dbl&gt;</th><th scope=col>&lt;dbl&gt;</th><th scope=col>&lt;dbl&gt;</th><th scope=col>&lt;dbl&gt;</th><th scope=col>&lt;dbl&gt;</th><th scope=col>&lt;dbl&gt;</th></tr>\n",
       "</thead>\n",
       "<tbody>\n",
       "\t<tr><td>chr10:100045961-100046653</td><td>0.065811</td><td>0.065811</td><td>0.065811</td><td>0.065811</td><td>200</td><td>0.065811</td></tr>\n",
       "\t<tr><td>chr10:100228452-100230090</td><td>2.158430</td><td>2.158430</td><td>2.158430</td><td>2.158430</td><td>200</td><td>2.158430</td></tr>\n",
       "\t<tr><td>chr10:100267066-100268374</td><td>1.338820</td><td>1.338820</td><td>1.338820</td><td>1.338820</td><td>200</td><td>1.338820</td></tr>\n",
       "\t<tr><td>chr10:100285974-100287341</td><td>1.322260</td><td>1.322260</td><td>1.322260</td><td>1.322260</td><td>200</td><td>1.322260</td></tr>\n",
       "\t<tr><td>chr10:100289686-100290090</td><td>0.548885</td><td>0.548885</td><td>0.548885</td><td>0.548885</td><td>200</td><td>0.548885</td></tr>\n",
       "\t<tr><td>chr10:100342247-100342824</td><td>0.176936</td><td>0.176936</td><td>0.176936</td><td>0.176936</td><td>200</td><td>0.176936</td></tr>\n",
       "</tbody>\n",
       "</table>\n"
      ],
      "text/latex": [
       "A tibble: 6 × 7\n",
       "\\begin{tabular}{lllllll}\n",
       " Peak & Mean & Median & Max & Min & Count & Mean\\_Pos\\\\\n",
       " <chr> & <dbl> & <dbl> & <dbl> & <dbl> & <dbl> & <dbl>\\\\\n",
       "\\hline\n",
       "\t chr10:100045961-100046653 & 0.065811 & 0.065811 & 0.065811 & 0.065811 & 200 & 0.065811\\\\\n",
       "\t chr10:100228452-100230090 & 2.158430 & 2.158430 & 2.158430 & 2.158430 & 200 & 2.158430\\\\\n",
       "\t chr10:100267066-100268374 & 1.338820 & 1.338820 & 1.338820 & 1.338820 & 200 & 1.338820\\\\\n",
       "\t chr10:100285974-100287341 & 1.322260 & 1.322260 & 1.322260 & 1.322260 & 200 & 1.322260\\\\\n",
       "\t chr10:100289686-100290090 & 0.548885 & 0.548885 & 0.548885 & 0.548885 & 200 & 0.548885\\\\\n",
       "\t chr10:100342247-100342824 & 0.176936 & 0.176936 & 0.176936 & 0.176936 & 200 & 0.176936\\\\\n",
       "\\end{tabular}\n"
      ],
      "text/markdown": [
       "\n",
       "A tibble: 6 × 7\n",
       "\n",
       "| Peak &lt;chr&gt; | Mean &lt;dbl&gt; | Median &lt;dbl&gt; | Max &lt;dbl&gt; | Min &lt;dbl&gt; | Count &lt;dbl&gt; | Mean_Pos &lt;dbl&gt; |\n",
       "|---|---|---|---|---|---|---|\n",
       "| chr10:100045961-100046653 | 0.065811 | 0.065811 | 0.065811 | 0.065811 | 200 | 0.065811 |\n",
       "| chr10:100228452-100230090 | 2.158430 | 2.158430 | 2.158430 | 2.158430 | 200 | 2.158430 |\n",
       "| chr10:100267066-100268374 | 1.338820 | 1.338820 | 1.338820 | 1.338820 | 200 | 1.338820 |\n",
       "| chr10:100285974-100287341 | 1.322260 | 1.322260 | 1.322260 | 1.322260 | 200 | 1.322260 |\n",
       "| chr10:100289686-100290090 | 0.548885 | 0.548885 | 0.548885 | 0.548885 | 200 | 0.548885 |\n",
       "| chr10:100342247-100342824 | 0.176936 | 0.176936 | 0.176936 | 0.176936 | 200 | 0.176936 |\n",
       "\n"
      ],
      "text/plain": [
       "  Peak                      Mean     Median   Max      Min      Count Mean_Pos\n",
       "1 chr10:100045961-100046653 0.065811 0.065811 0.065811 0.065811 200   0.065811\n",
       "2 chr10:100228452-100230090 2.158430 2.158430 2.158430 2.158430 200   2.158430\n",
       "3 chr10:100267066-100268374 1.338820 1.338820 1.338820 1.338820 200   1.338820\n",
       "4 chr10:100285974-100287341 1.322260 1.322260 1.322260 1.322260 200   1.322260\n",
       "5 chr10:100289686-100290090 0.548885 0.548885 0.548885 0.548885 200   0.548885\n",
       "6 chr10:100342247-100342824 0.176936 0.176936 0.176936 0.176936 200   0.176936"
      ]
     },
     "metadata": {},
     "output_type": "display_data"
    }
   ],
   "source": [
    "dat = dat_peak_score_summary_lmpra\n",
    "head(dat)"
   ]
  },
  {
   "cell_type": "code",
   "execution_count": 59,
   "metadata": {},
   "outputs": [
    {
     "name": "stdout",
     "output_type": "stream",
     "text": [
      "[1] 17388     5\n"
     ]
    },
    {
     "data": {
      "text/html": [
       "<table class=\"dataframe\">\n",
       "<caption>A tibble: 6 × 5</caption>\n",
       "<thead>\n",
       "\t<tr><th scope=col>Peak</th><th scope=col>Degree</th><th scope=col>BetweennessCentrality</th><th scope=col>Group</th><th scope=col>Score</th></tr>\n",
       "\t<tr><th scope=col>&lt;chr&gt;</th><th scope=col>&lt;dbl&gt;</th><th scope=col>&lt;dbl&gt;</th><th scope=col>&lt;fct&gt;</th><th scope=col>&lt;dbl&gt;</th></tr>\n",
       "</thead>\n",
       "<tbody>\n",
       "\t<tr><td>chr10:100045961-100046653</td><td>5</td><td>0.491974710</td><td>Q4</td><td>0.065811</td></tr>\n",
       "\t<tr><td>chr10:100433434-100434444</td><td>4</td><td>0.027246297</td><td>Q4</td><td>0.088399</td></tr>\n",
       "\t<tr><td>chr10:100267066-100268374</td><td>3</td><td>0.012820158</td><td>Q3</td><td>1.338820</td></tr>\n",
       "\t<tr><td>chr10:100370571-100371646</td><td>2</td><td>0.002118233</td><td>Q2</td><td>0.249392</td></tr>\n",
       "\t<tr><td>chr10:100373060-100374238</td><td>4</td><td>0.023355946</td><td>Q4</td><td>2.767325</td></tr>\n",
       "\t<tr><td>chr10:100228452-100230090</td><td>2</td><td>0.004291845</td><td>Q2</td><td>2.158430</td></tr>\n",
       "</tbody>\n",
       "</table>\n"
      ],
      "text/latex": [
       "A tibble: 6 × 5\n",
       "\\begin{tabular}{lllll}\n",
       " Peak & Degree & BetweennessCentrality & Group & Score\\\\\n",
       " <chr> & <dbl> & <dbl> & <fct> & <dbl>\\\\\n",
       "\\hline\n",
       "\t chr10:100045961-100046653 & 5 & 0.491974710 & Q4 & 0.065811\\\\\n",
       "\t chr10:100433434-100434444 & 4 & 0.027246297 & Q4 & 0.088399\\\\\n",
       "\t chr10:100267066-100268374 & 3 & 0.012820158 & Q3 & 1.338820\\\\\n",
       "\t chr10:100370571-100371646 & 2 & 0.002118233 & Q2 & 0.249392\\\\\n",
       "\t chr10:100373060-100374238 & 4 & 0.023355946 & Q4 & 2.767325\\\\\n",
       "\t chr10:100228452-100230090 & 2 & 0.004291845 & Q2 & 2.158430\\\\\n",
       "\\end{tabular}\n"
      ],
      "text/markdown": [
       "\n",
       "A tibble: 6 × 5\n",
       "\n",
       "| Peak &lt;chr&gt; | Degree &lt;dbl&gt; | BetweennessCentrality &lt;dbl&gt; | Group &lt;fct&gt; | Score &lt;dbl&gt; |\n",
       "|---|---|---|---|---|\n",
       "| chr10:100045961-100046653 | 5 | 0.491974710 | Q4 | 0.065811 |\n",
       "| chr10:100433434-100434444 | 4 | 0.027246297 | Q4 | 0.088399 |\n",
       "| chr10:100267066-100268374 | 3 | 0.012820158 | Q3 | 1.338820 |\n",
       "| chr10:100370571-100371646 | 2 | 0.002118233 | Q2 | 0.249392 |\n",
       "| chr10:100373060-100374238 | 4 | 0.023355946 | Q4 | 2.767325 |\n",
       "| chr10:100228452-100230090 | 2 | 0.004291845 | Q2 | 2.158430 |\n",
       "\n"
      ],
      "text/plain": [
       "  Peak                      Degree BetweennessCentrality Group Score   \n",
       "1 chr10:100045961-100046653 5      0.491974710           Q4    0.065811\n",
       "2 chr10:100433434-100434444 4      0.027246297           Q4    0.088399\n",
       "3 chr10:100267066-100268374 3      0.012820158           Q3    1.338820\n",
       "4 chr10:100370571-100371646 2      0.002118233           Q2    0.249392\n",
       "5 chr10:100373060-100374238 4      0.023355946           Q4    2.767325\n",
       "6 chr10:100228452-100230090 2      0.004291845           Q2    2.158430"
      ]
     },
     "metadata": {},
     "output_type": "display_data"
    }
   ],
   "source": [
    "dat_score = dat_peak_score_summary_lmpra %>%\n",
    "    dplyr::mutate(Score = Mean) %>%\n",
    "    dplyr::select(Peak, Score)\n",
    "\n",
    "dat = dat_node %>% \n",
    "    dplyr::left_join(dat_score, by=\"Peak\") %>%\n",
    "    na.omit()\n",
    "\n",
    "print(dim(dat))\n",
    "head(dat)"
   ]
  },
  {
   "cell_type": "code",
   "execution_count": 60,
   "metadata": {},
   "outputs": [
    {
     "data": {
      "image/png": "[encoded data removed]",
      "text/plain": [
       "plot without title"
      ]
     },
     "metadata": {
      "image/png": {
       "height": 300,
       "width": 480
      }
     },
     "output_type": "display_data"
    }
   ],
   "source": [
    "gpt = ggplot(dat, aes(x=Degree, y=Score)) + \n",
    "    geom_point() + \n",
    "    geom_hline(yintercept = 0) +\n",
    "    theme_cowplot()\n",
    "\n",
    "options(repr.plot.height=5, repr.plot.width=8)\n",
    "print(gpt)"
   ]
  },
  {
   "cell_type": "code",
   "execution_count": 61,
   "metadata": {},
   "outputs": [
    {
     "data": {
      "image/png": "[encoded data removed]",
      "text/plain": [
       "plot without title"
      ]
     },
     "metadata": {
      "image/png": {
       "height": 300,
       "width": 300
      }
     },
     "output_type": "display_data"
    }
   ],
   "source": [
    "gpt = ggplot(dat, aes(x=Group, y=Score)) + \n",
    "    geom_boxplot() + \n",
    "    geom_hline(yintercept = 0) +\n",
    "    labs(\n",
    "        x = \"Connectivity\",\n",
    "        y = \"Score\",\n",
    "        title = \"LMPRA\"\n",
    "    ) +\n",
    "    theme_cowplot()\n",
    "\n",
    "options(repr.plot.height=5, repr.plot.width=5)\n",
    "print(gpt)"
   ]
  },
  {
   "cell_type": "code",
   "execution_count": null,
   "metadata": {},
   "outputs": [],
   "source": []
  },
  {
   "cell_type": "code",
   "execution_count": 62,
   "metadata": {},
   "outputs": [
    {
     "data": {
      "text/html": [
       "<table class=\"dataframe\">\n",
       "<caption>A tibble: 6 × 8</caption>\n",
       "<thead>\n",
       "\t<tr><th scope=col>Peak</th><th scope=col>Mean</th><th scope=col>Median</th><th scope=col>Max</th><th scope=col>Min</th><th scope=col>Count</th><th scope=col>Mean_Neg</th><th scope=col>Mean_Pos</th></tr>\n",
       "\t<tr><th scope=col>&lt;chr&gt;</th><th scope=col>&lt;dbl&gt;</th><th scope=col>&lt;dbl&gt;</th><th scope=col>&lt;dbl&gt;</th><th scope=col>&lt;dbl&gt;</th><th scope=col>&lt;dbl&gt;</th><th scope=col>&lt;dbl&gt;</th><th scope=col>&lt;dbl&gt;</th></tr>\n",
       "</thead>\n",
       "<tbody>\n",
       "\t<tr><td>chr10:100009096-100010466</td><td>-0.03786170</td><td> 0.0303830</td><td>0.526902</td><td>-0.655965</td><td>10</td><td>-0.3840866</td><td>0.3083632</td></tr>\n",
       "\t<tr><td>chr10:100045961-100046653</td><td> 0.10873570</td><td> 0.1820295</td><td>0.646953</td><td>-0.497578</td><td>10</td><td>-0.2750008</td><td>0.3645600</td></tr>\n",
       "\t<tr><td>chr10:100065094-100065486</td><td>-0.00323730</td><td>-0.0931995</td><td>1.305380</td><td>-0.677550</td><td>10</td><td>-0.3639722</td><td>0.5378650</td></tr>\n",
       "\t<tr><td>chr10:100129051-100131059</td><td>-0.26576144</td><td>-0.2617330</td><td>0.253159</td><td>-0.767330</td><td> 9</td><td>-0.4522120</td><td>0.1071397</td></tr>\n",
       "\t<tr><td>chr10:100185017-100187275</td><td>-0.01202196</td><td>-0.0613300</td><td>0.730481</td><td>-0.954435</td><td>25</td><td>-0.2790666</td><td>0.3278531</td></tr>\n",
       "\t<tr><td>chr10:100228452-100230090</td><td>-0.01822050</td><td> 0.0722880</td><td>0.446912</td><td>-0.768059</td><td>10</td><td>-0.3293750</td><td>0.1892158</td></tr>\n",
       "</tbody>\n",
       "</table>\n"
      ],
      "text/latex": [
       "A tibble: 6 × 8\n",
       "\\begin{tabular}{llllllll}\n",
       " Peak & Mean & Median & Max & Min & Count & Mean\\_Neg & Mean\\_Pos\\\\\n",
       " <chr> & <dbl> & <dbl> & <dbl> & <dbl> & <dbl> & <dbl> & <dbl>\\\\\n",
       "\\hline\n",
       "\t chr10:100009096-100010466 & -0.03786170 &  0.0303830 & 0.526902 & -0.655965 & 10 & -0.3840866 & 0.3083632\\\\\n",
       "\t chr10:100045961-100046653 &  0.10873570 &  0.1820295 & 0.646953 & -0.497578 & 10 & -0.2750008 & 0.3645600\\\\\n",
       "\t chr10:100065094-100065486 & -0.00323730 & -0.0931995 & 1.305380 & -0.677550 & 10 & -0.3639722 & 0.5378650\\\\\n",
       "\t chr10:100129051-100131059 & -0.26576144 & -0.2617330 & 0.253159 & -0.767330 &  9 & -0.4522120 & 0.1071397\\\\\n",
       "\t chr10:100185017-100187275 & -0.01202196 & -0.0613300 & 0.730481 & -0.954435 & 25 & -0.2790666 & 0.3278531\\\\\n",
       "\t chr10:100228452-100230090 & -0.01822050 &  0.0722880 & 0.446912 & -0.768059 & 10 & -0.3293750 & 0.1892158\\\\\n",
       "\\end{tabular}\n"
      ],
      "text/markdown": [
       "\n",
       "A tibble: 6 × 8\n",
       "\n",
       "| Peak &lt;chr&gt; | Mean &lt;dbl&gt; | Median &lt;dbl&gt; | Max &lt;dbl&gt; | Min &lt;dbl&gt; | Count &lt;dbl&gt; | Mean_Neg &lt;dbl&gt; | Mean_Pos &lt;dbl&gt; |\n",
       "|---|---|---|---|---|---|---|---|\n",
       "| chr10:100009096-100010466 | -0.03786170 |  0.0303830 | 0.526902 | -0.655965 | 10 | -0.3840866 | 0.3083632 |\n",
       "| chr10:100045961-100046653 |  0.10873570 |  0.1820295 | 0.646953 | -0.497578 | 10 | -0.2750008 | 0.3645600 |\n",
       "| chr10:100065094-100065486 | -0.00323730 | -0.0931995 | 1.305380 | -0.677550 | 10 | -0.3639722 | 0.5378650 |\n",
       "| chr10:100129051-100131059 | -0.26576144 | -0.2617330 | 0.253159 | -0.767330 |  9 | -0.4522120 | 0.1071397 |\n",
       "| chr10:100185017-100187275 | -0.01202196 | -0.0613300 | 0.730481 | -0.954435 | 25 | -0.2790666 | 0.3278531 |\n",
       "| chr10:100228452-100230090 | -0.01822050 |  0.0722880 | 0.446912 | -0.768059 | 10 | -0.3293750 | 0.1892158 |\n",
       "\n"
      ],
      "text/plain": [
       "  Peak                      Mean        Median     Max      Min       Count\n",
       "1 chr10:100009096-100010466 -0.03786170  0.0303830 0.526902 -0.655965 10   \n",
       "2 chr10:100045961-100046653  0.10873570  0.1820295 0.646953 -0.497578 10   \n",
       "3 chr10:100065094-100065486 -0.00323730 -0.0931995 1.305380 -0.677550 10   \n",
       "4 chr10:100129051-100131059 -0.26576144 -0.2617330 0.253159 -0.767330  9   \n",
       "5 chr10:100185017-100187275 -0.01202196 -0.0613300 0.730481 -0.954435 25   \n",
       "6 chr10:100228452-100230090 -0.01822050  0.0722880 0.446912 -0.768059 10   \n",
       "  Mean_Neg   Mean_Pos \n",
       "1 -0.3840866 0.3083632\n",
       "2 -0.2750008 0.3645600\n",
       "3 -0.3639722 0.5378650\n",
       "4 -0.4522120 0.1071397\n",
       "5 -0.2790666 0.3278531\n",
       "6 -0.3293750 0.1892158"
      ]
     },
     "metadata": {},
     "output_type": "display_data"
    }
   ],
   "source": [
    "dat = dat_peak_score_summary_crispri_growth\n",
    "head(dat)"
   ]
  },
  {
   "cell_type": "code",
   "execution_count": 63,
   "metadata": {},
   "outputs": [
    {
     "name": "stdout",
     "output_type": "stream",
     "text": [
      "[1] 36348     5\n"
     ]
    },
    {
     "data": {
      "text/html": [
       "<table class=\"dataframe\">\n",
       "<caption>A tibble: 6 × 5</caption>\n",
       "<thead>\n",
       "\t<tr><th scope=col>Peak</th><th scope=col>Degree</th><th scope=col>BetweennessCentrality</th><th scope=col>Group</th><th scope=col>Score</th></tr>\n",
       "\t<tr><th scope=col>&lt;chr&gt;</th><th scope=col>&lt;dbl&gt;</th><th scope=col>&lt;dbl&gt;</th><th scope=col>&lt;fct&gt;</th><th scope=col>&lt;dbl&gt;</th></tr>\n",
       "</thead>\n",
       "<tbody>\n",
       "\t<tr><td>chr10:100045961-100046653</td><td>5</td><td>4.919747e-01</td><td>Q4</td><td> 0.10873570</td></tr>\n",
       "\t<tr><td>chr10:100433434-100434444</td><td>4</td><td>2.724630e-02</td><td>Q4</td><td> 0.05447410</td></tr>\n",
       "\t<tr><td>chr10:100185017-100187275</td><td>3</td><td>4.614888e-05</td><td>Q3</td><td>-0.01202196</td></tr>\n",
       "\t<tr><td>chr10:100267066-100268374</td><td>3</td><td>1.282016e-02</td><td>Q3</td><td> 0.25902410</td></tr>\n",
       "\t<tr><td>chr10:100370571-100371646</td><td>2</td><td>2.118233e-03</td><td>Q2</td><td> 0.69053075</td></tr>\n",
       "\t<tr><td>chr10:100373060-100374238</td><td>4</td><td>2.335595e-02</td><td>Q4</td><td> 1.29425630</td></tr>\n",
       "</tbody>\n",
       "</table>\n"
      ],
      "text/latex": [
       "A tibble: 6 × 5\n",
       "\\begin{tabular}{lllll}\n",
       " Peak & Degree & BetweennessCentrality & Group & Score\\\\\n",
       " <chr> & <dbl> & <dbl> & <fct> & <dbl>\\\\\n",
       "\\hline\n",
       "\t chr10:100045961-100046653 & 5 & 4.919747e-01 & Q4 &  0.10873570\\\\\n",
       "\t chr10:100433434-100434444 & 4 & 2.724630e-02 & Q4 &  0.05447410\\\\\n",
       "\t chr10:100185017-100187275 & 3 & 4.614888e-05 & Q3 & -0.01202196\\\\\n",
       "\t chr10:100267066-100268374 & 3 & 1.282016e-02 & Q3 &  0.25902410\\\\\n",
       "\t chr10:100370571-100371646 & 2 & 2.118233e-03 & Q2 &  0.69053075\\\\\n",
       "\t chr10:100373060-100374238 & 4 & 2.335595e-02 & Q4 &  1.29425630\\\\\n",
       "\\end{tabular}\n"
      ],
      "text/markdown": [
       "\n",
       "A tibble: 6 × 5\n",
       "\n",
       "| Peak &lt;chr&gt; | Degree &lt;dbl&gt; | BetweennessCentrality &lt;dbl&gt; | Group &lt;fct&gt; | Score &lt;dbl&gt; |\n",
       "|---|---|---|---|---|\n",
       "| chr10:100045961-100046653 | 5 | 4.919747e-01 | Q4 |  0.10873570 |\n",
       "| chr10:100433434-100434444 | 4 | 2.724630e-02 | Q4 |  0.05447410 |\n",
       "| chr10:100185017-100187275 | 3 | 4.614888e-05 | Q3 | -0.01202196 |\n",
       "| chr10:100267066-100268374 | 3 | 1.282016e-02 | Q3 |  0.25902410 |\n",
       "| chr10:100370571-100371646 | 2 | 2.118233e-03 | Q2 |  0.69053075 |\n",
       "| chr10:100373060-100374238 | 4 | 2.335595e-02 | Q4 |  1.29425630 |\n",
       "\n"
      ],
      "text/plain": [
       "  Peak                      Degree BetweennessCentrality Group Score      \n",
       "1 chr10:100045961-100046653 5      4.919747e-01          Q4     0.10873570\n",
       "2 chr10:100433434-100434444 4      2.724630e-02          Q4     0.05447410\n",
       "3 chr10:100185017-100187275 3      4.614888e-05          Q3    -0.01202196\n",
       "4 chr10:100267066-100268374 3      1.282016e-02          Q3     0.25902410\n",
       "5 chr10:100370571-100371646 2      2.118233e-03          Q2     0.69053075\n",
       "6 chr10:100373060-100374238 4      2.335595e-02          Q4     1.29425630"
      ]
     },
     "metadata": {},
     "output_type": "display_data"
    }
   ],
   "source": [
    "dat_score = dat_peak_score_summary_crispri_growth %>%\n",
    "    dplyr::mutate(Score = Mean) %>%\n",
    "    dplyr::select(Peak, Score)\n",
    "\n",
    "dat = dat_node %>% \n",
    "    dplyr::left_join(dat_score, by=\"Peak\") %>%\n",
    "    na.omit()\n",
    "\n",
    "print(dim(dat))\n",
    "head(dat)"
   ]
  },
  {
   "cell_type": "code",
   "execution_count": 64,
   "metadata": {},
   "outputs": [
    {
     "data": {
      "image/png": "[encoded data removed]",
      "text/plain": [
       "plot without title"
      ]
     },
     "metadata": {
      "image/png": {
       "height": 300,
       "width": 480
      }
     },
     "output_type": "display_data"
    }
   ],
   "source": [
    "gpt = ggplot(dat, aes(x=Degree, y=Score)) + \n",
    "    geom_point() + \n",
    "    geom_hline(yintercept = 0) +\n",
    "    theme_cowplot()\n",
    "\n",
    "options(repr.plot.height=5, repr.plot.width=8)\n",
    "print(gpt)"
   ]
  },
  {
   "cell_type": "code",
   "execution_count": 65,
   "metadata": {},
   "outputs": [
    {
     "data": {
      "image/png": "[encoded data removed]",
      "text/plain": [
       "plot without title"
      ]
     },
     "metadata": {
      "image/png": {
       "height": 300,
       "width": 300
      }
     },
     "output_type": "display_data"
    }
   ],
   "source": [
    "gpt = ggplot(dat, aes(x=Group, y=Score)) + \n",
    "    geom_boxplot() + \n",
    "    geom_hline(yintercept = 0) +\n",
    "    labs(\n",
    "        x = \"Connectivity\",\n",
    "        y = \"Z Score\",\n",
    "        title = \"CRISPRi-Growth\"\n",
    "    ) +\n",
    "    theme_cowplot()\n",
    "\n",
    "options(repr.plot.height=5, repr.plot.width=5)\n",
    "print(gpt)"
   ]
  },
  {
   "cell_type": "code",
   "execution_count": 179,
   "metadata": {},
   "outputs": [
    {
     "name": "stderr",
     "output_type": "stream",
     "text": [
      "Warning message:\n",
      "“\u001b[1m\u001b[22mRemoved 161 rows containing non-finite values (`stat_boxplot()`).”\n"
     ]
    },
    {
     "data": {
      "image/png": "[encoded data removed]",
      "text/plain": [
       "plot without title"
      ]
     },
     "metadata": {
      "image/png": {
       "height": 300,
       "width": 300
      }
     },
     "output_type": "display_data"
    }
   ],
   "source": [
    "gpt = ggplot(dat, aes(x=Group, y=Score)) + \n",
    "    geom_boxplot() + \n",
    "    geom_hline(yintercept = 0) +\n",
    "    ylim(c(-1, 1)) +\n",
    "    theme_cowplot()\n",
    "\n",
    "options(repr.plot.height=5, repr.plot.width=5)\n",
    "print(gpt)"
   ]
  },
  {
   "cell_type": "code",
   "execution_count": 69,
   "metadata": {},
   "outputs": [
    {
     "name": "stdout",
     "output_type": "stream",
     "text": [
      "[1] 1149    5\n"
     ]
    },
    {
     "data": {
      "text/html": [
       "<table class=\"dataframe\">\n",
       "<caption>A tibble: 6 × 5</caption>\n",
       "<thead>\n",
       "\t<tr><th scope=col>Peak</th><th scope=col>Degree</th><th scope=col>BetweennessCentrality</th><th scope=col>Group</th><th scope=col>Score</th></tr>\n",
       "\t<tr><th scope=col>&lt;chr&gt;</th><th scope=col>&lt;dbl&gt;</th><th scope=col>&lt;dbl&gt;</th><th scope=col>&lt;fct&gt;</th><th scope=col>&lt;dbl&gt;</th></tr>\n",
       "</thead>\n",
       "<tbody>\n",
       "\t<tr><td>chr11:4092104-4092566</td><td>2</td><td>0.0000046548</td><td>Q2</td><td>-0.11635528</td></tr>\n",
       "\t<tr><td>chr11:4092104-4092566</td><td>2</td><td>0.0000046548</td><td>Q2</td><td>-0.16674203</td></tr>\n",
       "\t<tr><td>chr11:4092104-4092566</td><td>2</td><td>0.0000046548</td><td>Q2</td><td>-0.25223588</td></tr>\n",
       "\t<tr><td>chr11:4092104-4092566</td><td>2</td><td>0.0000046548</td><td>Q2</td><td>-0.04147475</td></tr>\n",
       "\t<tr><td>chr11:4092104-4092566</td><td>2</td><td>0.0000046548</td><td>Q2</td><td>-0.09339174</td></tr>\n",
       "\t<tr><td>chr11:4094204-4095676</td><td>4</td><td>0.0171622477</td><td>Q4</td><td>-0.22842143</td></tr>\n",
       "</tbody>\n",
       "</table>\n"
      ],
      "text/latex": [
       "A tibble: 6 × 5\n",
       "\\begin{tabular}{lllll}\n",
       " Peak & Degree & BetweennessCentrality & Group & Score\\\\\n",
       " <chr> & <dbl> & <dbl> & <fct> & <dbl>\\\\\n",
       "\\hline\n",
       "\t chr11:4092104-4092566 & 2 & 0.0000046548 & Q2 & -0.11635528\\\\\n",
       "\t chr11:4092104-4092566 & 2 & 0.0000046548 & Q2 & -0.16674203\\\\\n",
       "\t chr11:4092104-4092566 & 2 & 0.0000046548 & Q2 & -0.25223588\\\\\n",
       "\t chr11:4092104-4092566 & 2 & 0.0000046548 & Q2 & -0.04147475\\\\\n",
       "\t chr11:4092104-4092566 & 2 & 0.0000046548 & Q2 & -0.09339174\\\\\n",
       "\t chr11:4094204-4095676 & 4 & 0.0171622477 & Q4 & -0.22842143\\\\\n",
       "\\end{tabular}\n"
      ],
      "text/markdown": [
       "\n",
       "A tibble: 6 × 5\n",
       "\n",
       "| Peak &lt;chr&gt; | Degree &lt;dbl&gt; | BetweennessCentrality &lt;dbl&gt; | Group &lt;fct&gt; | Score &lt;dbl&gt; |\n",
       "|---|---|---|---|---|\n",
       "| chr11:4092104-4092566 | 2 | 0.0000046548 | Q2 | -0.11635528 |\n",
       "| chr11:4092104-4092566 | 2 | 0.0000046548 | Q2 | -0.16674203 |\n",
       "| chr11:4092104-4092566 | 2 | 0.0000046548 | Q2 | -0.25223588 |\n",
       "| chr11:4092104-4092566 | 2 | 0.0000046548 | Q2 | -0.04147475 |\n",
       "| chr11:4092104-4092566 | 2 | 0.0000046548 | Q2 | -0.09339174 |\n",
       "| chr11:4094204-4095676 | 4 | 0.0171622477 | Q4 | -0.22842143 |\n",
       "\n"
      ],
      "text/plain": [
       "  Peak                  Degree BetweennessCentrality Group Score      \n",
       "1 chr11:4092104-4092566 2      0.0000046548          Q2    -0.11635528\n",
       "2 chr11:4092104-4092566 2      0.0000046548          Q2    -0.16674203\n",
       "3 chr11:4092104-4092566 2      0.0000046548          Q2    -0.25223588\n",
       "4 chr11:4092104-4092566 2      0.0000046548          Q2    -0.04147475\n",
       "5 chr11:4092104-4092566 2      0.0000046548          Q2    -0.09339174\n",
       "6 chr11:4094204-4095676 4      0.0171622477          Q4    -0.22842143"
      ]
     },
     "metadata": {},
     "output_type": "display_data"
    }
   ],
   "source": [
    "dat_score = dat_peak_score_summary_crispri_hcrff\n",
    "dat_score = dat_score %>%\n",
    "    dplyr::mutate(Score = Mean) %>%\n",
    "    dplyr::select(Peak, Score)\n",
    "\n",
    "dat = dat_node %>% \n",
    "    dplyr::left_join(dat_score, by=\"Peak\") %>%\n",
    "    na.omit()\n",
    "\n",
    "print(dim(dat))\n",
    "head(dat)"
   ]
  },
  {
   "cell_type": "code",
   "execution_count": 70,
   "metadata": {},
   "outputs": [
    {
     "data": {
      "image/png": "[encoded data removed]",
      "text/plain": [
       "plot without title"
      ]
     },
     "metadata": {
      "image/png": {
       "height": 300,
       "width": 480
      }
     },
     "output_type": "display_data"
    }
   ],
   "source": [
    "gpt = ggplot(dat, aes(x=Degree, y=Score)) + \n",
    "    geom_point() + \n",
    "    geom_hline(yintercept = 0) +\n",
    "    theme_cowplot()\n",
    "\n",
    "options(repr.plot.height=5, repr.plot.width=8)\n",
    "print(gpt)"
   ]
  },
  {
   "cell_type": "code",
   "execution_count": 71,
   "metadata": {},
   "outputs": [
    {
     "data": {
      "image/png": "[encoded data removed]",
      "text/plain": [
       "plot without title"
      ]
     },
     "metadata": {
      "image/png": {
       "height": 300,
       "width": 300
      }
     },
     "output_type": "display_data"
    }
   ],
   "source": [
    "gpt = ggplot(dat, aes(x=Group, y=Score)) + \n",
    "    geom_boxplot() + \n",
    "    geom_hline(yintercept = 0) +\n",
    "    labs(\n",
    "        x = \"Connectivity\",\n",
    "        y = \"Z Score\",\n",
    "        title = \"CRISPRi-HCRFF\"\n",
    "    ) +\n",
    "    theme_cowplot()\n",
    "\n",
    "options(repr.plot.height=5, repr.plot.width=5)\n",
    "print(gpt)"
   ]
  },
  {
   "cell_type": "code",
   "execution_count": 72,
   "metadata": {},
   "outputs": [
    {
     "name": "stderr",
     "output_type": "stream",
     "text": [
      "Warning message:\n",
      "“\u001b[1m\u001b[22mRemoved 48 rows containing non-finite values (`stat_boxplot()`).”\n"
     ]
    },
    {
     "data": {
      "image/png": "[encoded data removed]",
      "text/plain": [
       "plot without title"
      ]
     },
     "metadata": {
      "image/png": {
       "height": 300,
       "width": 300
      }
     },
     "output_type": "display_data"
    }
   ],
   "source": [
    "gpt = ggplot(dat, aes(x=Group, y=Score)) + \n",
    "    geom_boxplot() + \n",
    "    geom_hline(yintercept = 0) +\n",
    "    labs(\n",
    "        x = \"Connectivity\",\n",
    "        y = \"Z Score\",\n",
    "        title = \"CRISPRi-HCRFF\"\n",
    "    ) +\n",
    "    ylim(c(-1, 1)) +\n",
    "    theme_cowplot()\n",
    "\n",
    "options(repr.plot.height=5, repr.plot.width=5)\n",
    "print(gpt)"
   ]
  },
  {
   "cell_type": "code",
   "execution_count": null,
   "metadata": {},
   "outputs": [],
   "source": []
  },
  {
   "cell_type": "code",
   "execution_count": null,
   "metadata": {},
   "outputs": [],
   "source": []
  },
  {
   "cell_type": "code",
   "execution_count": null,
   "metadata": {},
   "outputs": [],
   "source": []
  },
  {
   "cell_type": "code",
   "execution_count": null,
   "metadata": {},
   "outputs": [],
   "source": []
  }
 ],
 "metadata": {
  "kernelspec": {
   "display_name": "R",
   "language": "R",
   "name": "ir"
  },
  "language_info": {
   "codemirror_mode": "r",
   "file_extension": ".r",
   "mimetype": "text/x-r-source",
   "name": "R",
   "pygments_lexer": "r",
   "version": "4.3.0"
  }
 },
 "nbformat": 4,
 "nbformat_minor": 4
}
