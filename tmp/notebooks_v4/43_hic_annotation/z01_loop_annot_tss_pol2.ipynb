{
 "cells": [
  {
   "cell_type": "code",
   "execution_count": 1,
   "id": "aefb5354-28f3-42cb-932d-1f0b3627626a",
   "metadata": {},
   "outputs": [
    {
     "name": "stdout",
     "output_type": "stream",
     "text": [
      "You are on Duke Server: HARDAC\n",
      "BASE DIRECTORY (FD_BASE): /data/reddylab/Kuei\n",
      "WORK DIRECTORY (FD_WORK): /data/reddylab/Kuei/out\n",
      "CODE DIRECTORY (FD_CODE): /data/reddylab/Kuei/code\n",
      "SING DIRECTORY (FD_SING): /data/reddylab/Kuei/singularity\n",
      "PATH OF PROJECT (FD_PRJ): /data/reddylab/Kuei/code/Proj_CombEffect_ENCODE_FCC\n",
      "PATH OF RESULTS (FD_RES): /data/reddylab/Kuei/out/proj_combeffect_encode_fcc\n",
      "PATH OF LOG     (FD_LOG): /data/reddylab/Kuei/out/proj_combeffect_encode_fcc/log\n",
      "\n"
     ]
    }
   ],
   "source": [
    "### set env\n",
    "source ../config/config_duke.sh\n",
    "source ../config/config_load_module_bedtools.sh\n",
    "show_env"
   ]
  },
  {
   "cell_type": "code",
   "execution_count": 2,
   "id": "f621f19e-817d-4d13-8483-83d34710c546",
   "metadata": {},
   "outputs": [
    {
     "name": "stdout",
     "output_type": "stream",
     "text": [
      "\u001b[0m\u001b[38;5;27mannotation_ccre\u001b[0m\n",
      "\u001b[38;5;27mannotation_chipseq_histone\u001b[0m\n",
      "\u001b[38;5;27mannotation_chipseq_tf\u001b[0m\n",
      "\u001b[38;5;27mannotation_chipseq_tf_subset\u001b[0m\n",
      "\u001b[38;5;27mannotation_chromHMM\u001b[0m\n",
      "\u001b[38;5;27mannotation_crispri_hcrff\u001b[0m\n",
      "\u001b[38;5;27mannotation_enhancer_junke\u001b[0m\n",
      "\u001b[38;5;27mannotation_enhancer_zscore_junke\u001b[0m\n",
      "\u001b[38;5;27mannotation_gencode\u001b[0m\n",
      "\u001b[38;5;27mannotation_hic\u001b[0m\n",
      "\u001b[38;5;27mannotation_tss_pol2\u001b[0m\n",
      "\u001b[38;5;27mannotation_tss_pol2_span\u001b[0m\n",
      "\u001b[38;5;27mhic_intact_ENCSR479XDG\u001b[0m\n",
      "\u001b[38;5;27mKS91_K562_ASTARRseq_peak_macs_input\u001b[0m\n",
      "region_screened_crispri_flowfish.bed\n",
      "region_screened_selected.bed\n",
      "region_screened_selected_perbase.bed\n",
      "\u001b[38;5;9mregion_screened_selected_perbase.bed.gz\u001b[0m\n",
      "region_screened_tmpra.bed\n",
      "region_screened_tmpra_crispr.bed\n"
     ]
    }
   ],
   "source": [
    "ls -1 ${FD_RES}/results/region"
   ]
  },
  {
   "cell_type": "code",
   "execution_count": 7,
   "id": "bfb5febf-58fe-43d8-a447-f5a00ed6f35e",
   "metadata": {},
   "outputs": [
    {
     "name": "stdout",
     "output_type": "stream",
     "text": [
      "description.tsv\n",
      "K562.TSS.selected_by_highest_Pol2_signal.bed\n",
      "\u001b[0m\u001b[38;5;9mK562.TSS.selected_by_highest_Pol2_signal.bed.gz\u001b[0m\n"
     ]
    }
   ],
   "source": [
    "ls -1 ${FD_RES}/results/region/annotation_tss_pol2"
   ]
  },
  {
   "cell_type": "code",
   "execution_count": 9,
   "id": "f9e827fc-17cc-4636-9c1c-69ca3e6ced36",
   "metadata": {},
   "outputs": [
    {
     "name": "stdout",
     "output_type": "stream",
     "text": [
      "chr1\t11873\t11874\tDDX11L1\t2.3e-4\n",
      "chr1\t17436\t17437\tMIR6859-1\t9.43812\n",
      "chr1\t17436\t17437\tMIR6859-2\t9.43812\n",
      "chr1\t17436\t17437\tMIR6859-3\t9.43812\n",
      "chr1\t17436\t17437\tMIR6859-4\t9.43812\n",
      "chr1\t29370\t29371\tWASH7P\t2.3e-4\n",
      "chr1\t30365\t30366\tMIR1302-10\t0.562995\n",
      "chr1\t30365\t30366\tMIR1302-11\t0.562995\n",
      "chr1\t30365\t30366\tMIR1302-2\t0.562995\n",
      "chr1\t30365\t30366\tMIR1302-9\t0.562995\n"
     ]
    }
   ],
   "source": [
    "FDIRY=${FD_RES}/results/region/annotation_tss_pol2\n",
    "FNAME=K562.TSS.selected_by_highest_Pol2_signal.bed.gz\n",
    "FPATH=${FDIRY}/${FNAME}\n",
    "zcat ${FPATH} | head"
   ]
  },
  {
   "cell_type": "code",
   "execution_count": 10,
   "id": "50382164-8454-411e-9acc-1303aa486568",
   "metadata": {},
   "outputs": [
    {
     "name": "stdout",
     "output_type": "stream",
     "text": [
      "\u001b[0m\u001b[38;5;27mannotation_enhancer_zscore_junke\u001b[0m\n",
      "\u001b[38;5;27mannotation_tss_pol2\u001b[0m\n",
      "\u001b[38;5;9mloopA.bed.gz\u001b[0m\n",
      "\u001b[38;5;9mloopB.bed.gz\u001b[0m\n"
     ]
    }
   ],
   "source": [
    "ls -1 ${FD_RES}/results/region/hic_intact_ENCSR479XDG/loop"
   ]
  },
  {
   "cell_type": "markdown",
   "id": "af8f6aba-46ad-41e9-8397-1eaacea359e6",
   "metadata": {},
   "source": [
    "**Script**"
   ]
  },
  {
   "cell_type": "code",
   "execution_count": 31,
   "id": "887e79d1-e95d-4cf7-9ca8-02def44dde6b",
   "metadata": {},
   "outputs": [],
   "source": [
    "cat > run_annot_test.sh << 'EOF'\n",
    "#!/bin/bash\n",
    "\n",
    "### print start message\n",
    "timer_start=`date +%s`\n",
    "echo \"Hostname:          \" $(hostname)\n",
    "echo \"Slurm Array Index: \" ${SLURM_ARRAY_TASK_ID}\n",
    "echo \"Time Stamp:        \" $(date +\"%m-%d-%y+%T\")\n",
    "echo\n",
    "\n",
    "### setup input and output\n",
    "source ../config/config_duke.sh\n",
    "FP_REG=$1\n",
    "FP_ANT=$2\n",
    "FD_OUT=$3\n",
    "\n",
    "### show I/O file\n",
    "echo \"Input: \" ${FP_REG}\n",
    "echo\n",
    "echo \"show first few lines of input\"\n",
    "zcat ${FP_REG} | head -5\n",
    "echo\n",
    "echo \"Input: \" ${FP_ANT}\n",
    "echo\n",
    "echo \"show first few lines of input\"\n",
    "zcat ${FP_ANT} | head -5\n",
    "echo\n",
    "\n",
    "### show output file\n",
    "echo\n",
    "echo \"Output: \" ${FP_OUT}\n",
    "echo\n",
    "echo \"show first few lines of output:\"\n",
    "zcat ${FP_OUT} | head -5\n",
    "echo\n",
    "\n",
    "### print end message\n",
    "timer=`date +%s`\n",
    "runtime=$(echo \"${timer} - ${timer_start}\" | bc -l)\n",
    "echo\n",
    "echo 'Done!'\n",
    "echo \"Run Time: $(displaytime ${runtime})\"\n",
    "\n",
    "EOF\n",
    "\n",
    "chmod +x run_annot_test.sh"
   ]
  },
  {
   "cell_type": "code",
   "execution_count": 38,
   "id": "10a1b242-f9ee-44b3-ae47-2abc43f0bd0c",
   "metadata": {},
   "outputs": [],
   "source": [
    "cat > run_annot.sh << 'EOF'\n",
    "#!/bin/bash\n",
    "\n",
    "### print start message\n",
    "timer_start=`date +%s`\n",
    "echo \"Hostname:          \" $(hostname)\n",
    "echo \"Slurm Array Index: \" ${SLURM_ARRAY_TASK_ID}\n",
    "echo \"Time Stamp:        \" $(date +\"%m-%d-%y+%T\")\n",
    "echo\n",
    "\n",
    "### setup input and output\n",
    "source ../config/config_duke.sh\n",
    "FP_REG=$1\n",
    "FP_ANT=$2\n",
    "FP_OUT=$3\n",
    "\n",
    "### show I/O file\n",
    "echo \"Input: \" ${FP_REG}\n",
    "echo\n",
    "echo \"show first few lines of input\"\n",
    "zcat ${FP_REG} | head -5\n",
    "echo\n",
    "echo \"Input: \" ${FP_ANT}\n",
    "echo\n",
    "echo \"show first few lines of input\"\n",
    "zcat ${FP_ANT} | head -5\n",
    "echo\n",
    "\n",
    "### execute: annotation using intersect\n",
    "bedtools intersect \\\n",
    "    -a ${FP_REG} \\\n",
    "    -b ${FP_ANT} \\\n",
    "    -wo \\\n",
    "    -f 0.7 \\\n",
    "    -F 0.7 \\\n",
    "    -e \\\n",
    "| gzip -c \\\n",
    "> ${FP_OUT}\n",
    "\n",
    "### show output file\n",
    "echo\n",
    "echo \"Output: \" ${FP_OUT}\n",
    "echo\n",
    "echo \"show first few lines of output:\"\n",
    "zcat ${FP_OUT} | head -5\n",
    "echo\n",
    "\n",
    "### print end message\n",
    "timer=`date +%s`\n",
    "runtime=$(echo \"${timer} - ${timer_start}\" | bc -l)\n",
    "echo\n",
    "echo 'Done!'\n",
    "echo \"Run Time: $(displaytime ${runtime})\"\n",
    "\n",
    "EOF\n",
    "\n",
    "chmod +x run_annot.sh"
   ]
  },
  {
   "cell_type": "markdown",
   "id": "ce270fc8-df11-4e04-be81-4a3e6a7c69e3",
   "metadata": {},
   "source": [
    "**RUN**"
   ]
  },
  {
   "cell_type": "code",
   "execution_count": 33,
   "id": "a5b380be-148b-4d8a-ac19-bb6d99d576e4",
   "metadata": {},
   "outputs": [
    {
     "name": "stdout",
     "output_type": "stream",
     "text": [
      "loopA\n",
      "loopA.bed.gz\n",
      "K562.TSS.selected_by_highest_Pol2_signal.bed.gz\n",
      "loopA.annotation.K562.TSS.selected_by_highest_Pol2_signal.bed.gz\n",
      "\n",
      "loopB\n",
      "loopB.bed.gz\n",
      "K562.TSS.selected_by_highest_Pol2_signal.bed.gz\n",
      "loopB.annotation.K562.TSS.selected_by_highest_Pol2_signal.bed.gz\n",
      "\n"
     ]
    }
   ],
   "source": [
    "FD_REG=${FD_RES}/results/region/hic_intact_ENCSR479XDG/loop\n",
    "FD_ANT=${FD_RES}/results/region/annotation_tss_pol2\n",
    "FD_OUT=${FD_RES}/results/region/hic_intact_ENCSR479XDG/loop/annotation_tss_pol2\n",
    "\n",
    "for PREFIX in \"loopA\" \"loopB\"; do\n",
    "    echo ${PREFIX}\n",
    "    FN_REG=${PREFIX}.bed.gz\n",
    "    FN_ANT=K562.TSS.selected_by_highest_Pol2_signal.bed.gz\n",
    "    FN_OUT=${PREFIX}.annotation.${FN_ANT}\n",
    "    \n",
    "    FP_REG=${FD_REG}/${FN_REG}\n",
    "    FP_ANT=${FD_ANT}/${FN_ANT}\n",
    "    FP_OUT=${FD_OUT}/${FN_OUT}\n",
    "    \n",
    "    echo ${FN_REG}\n",
    "    echo ${FN_ANT}\n",
    "    echo ${FN_OUT}\n",
    "    echo\n",
    "done"
   ]
  },
  {
   "cell_type": "code",
   "execution_count": 39,
   "id": "4eeb36af-3b64-4e34-b652-ca7b7536e352",
   "metadata": {},
   "outputs": [
    {
     "name": "stdout",
     "output_type": "stream",
     "text": [
      "loopA\n",
      "Submitted batch job 29825924\n",
      "loopB\n",
      "Submitted batch job 29825925\n"
     ]
    }
   ],
   "source": [
    "FD_REG=${FD_RES}/results/region/hic_intact_ENCSR479XDG/loop\n",
    "FD_ANT=${FD_RES}/results/region/annotation_tss_pol2\n",
    "FD_OUT=${FD_RES}/results/region/hic_intact_ENCSR479XDG/loop/annotation_tss_pol2\n",
    "\n",
    "for PREFIX in \"loopA\" \"loopB\"; do\n",
    "    echo ${PREFIX}\n",
    "    FN_REG=${PREFIX}.bed.gz\n",
    "    FN_ANT=K562.TSS.selected_by_highest_Pol2_signal.bed.gz\n",
    "    FN_OUT=${PREFIX}.annotation.${FN_ANT}\n",
    "    \n",
    "    FP_REG=${FD_REG}/${FN_REG}\n",
    "    FP_ANT=${FD_ANT}/${FN_ANT}\n",
    "    FP_OUT=${FD_OUT}/${FN_OUT}\n",
    "    \n",
    "    sbatch -p ${NODE} \\\n",
    "        --exclude=dl-01 \\\n",
    "        --cpus-per-task 8 \\\n",
    "        --mem 4G \\\n",
    "        --output ${FD_LOG}/annotation_hic_intact_ENCSR479XDG_${PREFIX}_tss_pol2.%a.txt \\\n",
    "        --array 0 \\\n",
    "        ./run_annot.sh ${FP_REG} ${FP_ANT} ${FP_OUT}\n",
    "done"
   ]
  },
  {
   "cell_type": "markdown",
   "id": "40b71d1a-a380-4716-806f-26899d82d54a",
   "metadata": {},
   "source": [
    "**Check Results**"
   ]
  },
  {
   "cell_type": "code",
   "execution_count": 40,
   "id": "d27ec0b0-1085-42fe-a87e-780f8ba7932a",
   "metadata": {},
   "outputs": [
    {
     "name": "stdout",
     "output_type": "stream",
     "text": [
      "Hostname:           x1-03-3.genome.duke.edu\n",
      "Slurm Array Index:  0\n",
      "Time Stamp:         05-18-23+13:06:51\n",
      "\n",
      "Input:  /data/reddylab/Kuei/out/proj_combeffect_encode_fcc/results/region/hic_intact_ENCSR479XDG/loop/loopA.bed.gz\n",
      "\n",
      "show first few lines of input\n",
      "chr1\t770000\t780000\n",
      "chr1\t904000\t906000\n",
      "chr1\t920000\t925000\n",
      "chr1\t980000\t990000\n",
      "chr1\t984000\t985000\n",
      "\n",
      "Input:  /data/reddylab/Kuei/out/proj_combeffect_encode_fcc/results/region/annotation_tss_pol2/K562.TSS.selected_by_highest_Pol2_signal.bed.gz\n",
      "\n",
      "show first few lines of input\n",
      "chr1\t11873\t11874\tDDX11L1\t2.3e-4\n",
      "chr1\t17436\t17437\tMIR6859-1\t9.43812\n",
      "chr1\t17436\t17437\tMIR6859-2\t9.43812\n",
      "chr1\t17436\t17437\tMIR6859-3\t9.43812\n",
      "chr1\t17436\t17437\tMIR6859-4\t9.43812\n",
      "\n",
      "\n",
      "Output:  /data/reddylab/Kuei/out/proj_combeffect_encode_fcc/results/region/hic_intact_ENCSR479XDG/loop/annotation_tss_pol2/loopA.annotation.K562.TSS.selected_by_highest_Pol2_signal.bed.gz\n",
      "\n",
      "show first few lines of output:\n",
      "chr1\t770000\t780000\tchr1\t778634\t778635\tLOC100288069\t230.561\t1\n",
      "chr1\t980000\t990000\tchr1\t981173\t981174\tPERM1\t0.0866495\t1\n",
      "chr1\t1000000\t1005000\tchr1\t1000097\t1000098\tHES4\t50.5814\t1\n",
      "chr1\t1020000\t1025000\tchr1\t1020119\t1020120\tAGRN\t2.71433\t1\n",
      "chr1\t1116000\t1118000\tchr1\t1116089\t1116090\tC1orf159\t16.4374\t1\n",
      "\n",
      "\n",
      "Done!\n",
      "Run Time: 1 seconds\n"
     ]
    }
   ],
   "source": [
    "cat ${FD_LOG}/annotation_hic_intact_ENCSR479XDG_loopA_tss_pol2.0.txt"
   ]
  },
  {
   "cell_type": "code",
   "execution_count": 41,
   "id": "9c4ac18e-5305-4ba1-a275-61daa9209918",
   "metadata": {},
   "outputs": [
    {
     "name": "stdout",
     "output_type": "stream",
     "text": [
      "Hostname:           x1-03-3.genome.duke.edu\n",
      "Slurm Array Index:  0\n",
      "Time Stamp:         05-18-23+13:06:51\n",
      "\n",
      "Input:  /data/reddylab/Kuei/out/proj_combeffect_encode_fcc/results/region/hic_intact_ENCSR479XDG/loop/loopB.bed.gz\n",
      "\n",
      "show first few lines of input\n",
      "chr1\t840000\t850000\n",
      "chr1\t976000\t978000\n",
      "chr1\t1060000\t1065000\n",
      "chr1\t1060000\t1065000\n",
      "chr1\t1060000\t1065000\n",
      "\n",
      "Input:  /data/reddylab/Kuei/out/proj_combeffect_encode_fcc/results/region/annotation_tss_pol2/K562.TSS.selected_by_highest_Pol2_signal.bed.gz\n",
      "\n",
      "show first few lines of input\n",
      "chr1\t11873\t11874\tDDX11L1\t2.3e-4\n",
      "chr1\t17436\t17437\tMIR6859-1\t9.43812\n",
      "chr1\t17436\t17437\tMIR6859-2\t9.43812\n",
      "chr1\t17436\t17437\tMIR6859-3\t9.43812\n",
      "chr1\t17436\t17437\tMIR6859-4\t9.43812\n",
      "\n",
      "\n",
      "Output:  /data/reddylab/Kuei/out/proj_combeffect_encode_fcc/results/region/hic_intact_ENCSR479XDG/loop/annotation_tss_pol2/loopB.annotation.K562.TSS.selected_by_highest_Pol2_signal.bed.gz\n",
      "\n",
      "show first few lines of output:\n",
      "chr1\t1116000\t1117000\tchr1\t1116089\t1116090\tC1orf159\t16.4374\t1\n",
      "chr1\t1205000\t1210000\tchr1\t1206592\t1206593\tTNFRSF18\t0.0495168\t1\n",
      "chr1\t1230000\t1235000\tchr1\t1232001\t1232002\tSDF4\t101.202\t1\n",
      "chr1\t1230000\t1235000\tchr1\t1232236\t1232237\tB3GALT6\t97.0228\t1\n",
      "chr1\t1290000\t1300000\tchr1\t1296170\t1296171\tMIR6726\t10.1557\t1\n",
      "\n",
      "\n",
      "Done!\n",
      "Run Time: 1 seconds\n"
     ]
    }
   ],
   "source": [
    "cat ${FD_LOG}/annotation_hic_intact_ENCSR479XDG_loopB_tss_pol2.0.txt"
   ]
  },
  {
   "cell_type": "code",
   "execution_count": 15,
   "id": "38ebaeab-bf49-4477-933d-96c309f9ba45",
   "metadata": {},
   "outputs": [
    {
     "name": "stdout",
     "output_type": "stream",
     "text": [
      "Hostname:           x2-06-2.genome.duke.edu\n",
      "Slurm Array Index:  0\n",
      "Time Stamp:         05-01-23+13:56:02\n",
      "\n",
      "Input:  /data/reddylab/Kuei/out/proj_combeffect_encode_fcc/results/region/KS91_K562_ASTARRseq_peak_macs_input/KS91_K562_hg38_ASTARRseq_Input.all_reps.masked.union_narrowPeak.q5.bed\n",
      "\n",
      "show first few lines of input\n",
      "chr1\t10015\t10442\n",
      "chr1\t14253\t14645\n",
      "chr1\t16015\t16477\n",
      "chr1\t17237\t17772\n",
      "chr1\t28903\t29613\n",
      "\n",
      "Input:  /data/reddylab/Kuei/out/proj_combeffect_encode_fcc/results/region/annotation_tss_pol2/K562.TSS.selected_by_highest_Pol2_signal.bed\n",
      "\n",
      "show first few lines of input\n",
      "chr19\t58351969\t58351970\tA1BG-AS1\t1.5218\n",
      "chr19\t58353492\t58353493\tA1BG\t5.62284\n",
      "chr10\t50885675\t50885676\tA1CF\t0.00706126\n",
      "chr12\t9065176\t9065177\tA2M-AS1\t0.00201544\n",
      "chr12\t9115919\t9115920\tA2M\t0.0400522\n",
      "\n",
      "\n",
      "Output:  /data/reddylab/Kuei/out/proj_combeffect_encode_fcc/results/region/KS91_K562_ASTARRseq_peak_macs_input/annotation_tss_pol2/peak.annotation.K562.TSS.selected_by_highest_Pol2_signal.bed.gz\n",
      "\n",
      "show first few lines of output:\n",
      "chr1\t17237\t17772\tchr1\t17436\t17437\tMIR6859-1\t9.43812\t1\n",
      "chr1\t17237\t17772\tchr1\t17436\t17437\tMIR6859-2\t9.43812\t1\n",
      "chr1\t17237\t17772\tchr1\t17436\t17437\tMIR6859-3\t9.43812\t1\n",
      "chr1\t17237\t17772\tchr1\t17436\t17437\tMIR6859-4\t9.43812\t1\n",
      "chr1\t28903\t29613\tchr1\t29370\t29371\tWASH7P\t2.3e-4\t1\n",
      "\n",
      "\n",
      "Done!\n",
      "Run Time: 0 seconds\n"
     ]
    }
   ],
   "source": [
    "cat ${FD_LOG}/annotation_astarr_peak_macs_input_tss_pol2.0.txt"
   ]
  },
  {
   "cell_type": "code",
   "execution_count": 10,
   "id": "34c514ab-496a-40d2-b891-d722d72c2f90",
   "metadata": {},
   "outputs": [
    {
     "name": "stdout",
     "output_type": "stream",
     "text": [
      "/data/reddylab/Kuei/out/proj_combeffect_encode_fcc/results/region/KS91_K562_ASTARRseq_peak_macs_input/annotation_tss_pol2/peak.annotation.K562.TSS.selected_by_highest_Pol2_signal.bed\n"
     ]
    }
   ],
   "source": [
    "ls /data/reddylab/Kuei/out/proj_combeffect_encode_fcc/results/region/KS91_K562_ASTARRseq_peak_macs_input/annotation_tss_pol2/peak.annotation.K562.TSS.selected_by_highest_Pol2_signal.bed"
   ]
  },
  {
   "cell_type": "code",
   "execution_count": 11,
   "id": "e82f4008-5a59-4c1d-b837-8cdc6343129e",
   "metadata": {},
   "outputs": [
    {
     "name": "stdout",
     "output_type": "stream",
     "text": [
      "chr1\t17237\t17772\tchr1\t17436\t17437\tMIR6859-1\t9.43812\t1\n",
      "chr1\t17237\t17772\tchr1\t17436\t17437\tMIR6859-2\t9.43812\t1\n",
      "chr1\t17237\t17772\tchr1\t17436\t17437\tMIR6859-3\t9.43812\t1\n",
      "chr1\t17237\t17772\tchr1\t17436\t17437\tMIR6859-4\t9.43812\t1\n",
      "chr1\t28903\t29613\tchr1\t29370\t29371\tWASH7P\t2.3e-4\t1\n",
      "chr1\t777949\t779437\tchr1\t778634\t778635\tLOC100288069\t230.561\t1\n",
      "chr1\t816774\t817547\tchr1\t817370\t817371\tFAM87B\t1.06609\t1\n",
      "chr1\t826754\t828040\tchr1\t827522\t827523\tLINC00115\t64.4656\t1\n",
      "chr1\t826754\t828040\tchr1\t827590\t827591\tLINC01128\t64.4603\t1\n",
      "chr1\t876474\t878030\tchr1\t876802\t876803\tFAM41C\t0.00788399\t1\n"
     ]
    }
   ],
   "source": [
    "zcat /data/reddylab/Kuei/out/proj_combeffect_encode_fcc/results/region/KS91_K562_ASTARRseq_peak_macs_input/annotation_tss_pol2/peak.annotation.K562.TSS.selected_by_highest_Pol2_signal.bed | head"
   ]
  },
  {
   "cell_type": "code",
   "execution_count": null,
   "id": "3ff6dfef-722c-431e-a3b2-9bd04b3276fc",
   "metadata": {},
   "outputs": [],
   "source": []
  }
 ],
 "metadata": {
  "kernelspec": {
   "display_name": "Bash",
   "language": "bash",
   "name": "bash"
  },
  "language_info": {
   "codemirror_mode": "shell",
   "file_extension": ".sh",
   "mimetype": "text/x-sh",
   "name": "bash"
  }
 },
 "nbformat": 4,
 "nbformat_minor": 5
}
