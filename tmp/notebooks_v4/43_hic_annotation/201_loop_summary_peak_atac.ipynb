{
 "cells": [
  {
   "cell_type": "markdown",
   "metadata": {},
   "source": [
    "**Set environment**"
   ]
  },
  {
   "cell_type": "code",
   "execution_count": 1,
   "metadata": {},
   "outputs": [
    {
     "name": "stdout",
     "output_type": "stream",
     "text": [
      "You are in Singularity: singularity_proj_encode_fcc \n",
      "BASE DIRECTORY (FD_BASE): /data/reddylab/Kuei \n",
      "WORK DIRECTORY (FD_WORK): /data/reddylab/Kuei/out \n",
      "CODE DIRECTORY (FD_CODE): /data/reddylab/Kuei/code \n",
      "PATH OF PROJECT (FD_PRJ): /data/reddylab/Kuei/code/Proj_CombEffect_ENCODE_FCC \n",
      "PATH OF RESULTS (FD_RES): /data/reddylab/Kuei/out/proj_combeffect_encode_fcc \n",
      "PATH OF LOG     (FD_LOG): /data/reddylab/Kuei/out/proj_combeffect_encode_fcc/log \n"
     ]
    }
   ],
   "source": [
    "suppressMessages(suppressWarnings(source(\"../config/config_sing.R\")))\n",
    "show_env()"
   ]
  },
  {
   "cell_type": "code",
   "execution_count": 2,
   "metadata": {},
   "outputs": [
    {
     "data": {
      "text/html": [
       "<style>\n",
       ".list-inline {list-style: none; margin:0; padding: 0}\n",
       ".list-inline>li {display: inline-block}\n",
       ".list-inline>li:not(:last-child)::after {content: \"\\00b7\"; padding: 0 .5ex}\n",
       "</style>\n",
       "<ol class=list-inline><li>'annotation_ccre'</li><li>'annotation_chipseq_histone'</li><li>'annotation_chipseq_tf'</li><li>'annotation_chipseq_tf_subset'</li><li>'annotation_chromHMM'</li><li>'annotation_crispri_e2g'</li><li>'annotation_crispri_growth'</li><li>'annotation_crispri_hcrff'</li><li>'annotation_enhancer_junke'</li><li>'annotation_enhancer_merge'</li><li>'annotation_enhancer_zscore_junke'</li><li>'annotation_gencode'</li><li>'annotation_hic'</li><li>'annotation_tss_pol2'</li><li>'annotation_tss_pol2_span'</li><li>'hic_intact_deep'</li><li>'hic_intact_ENCSR479XDG'</li><li>'KS91_K562_ASTARRseq_peak_macs_input'</li><li>'region_screened_crispri_flowfish.bed'</li><li>'region_screened_selected_perbase.bed'</li><li>'region_screened_selected_perbase.bed.gz'</li><li>'region_screened_selected.bed'</li><li>'region_screened_tmpra_crispr.bed'</li><li>'region_screened_tmpra.bed'</li></ol>\n"
      ],
      "text/latex": [
       "\\begin{enumerate*}\n",
       "\\item 'annotation\\_ccre'\n",
       "\\item 'annotation\\_chipseq\\_histone'\n",
       "\\item 'annotation\\_chipseq\\_tf'\n",
       "\\item 'annotation\\_chipseq\\_tf\\_subset'\n",
       "\\item 'annotation\\_chromHMM'\n",
       "\\item 'annotation\\_crispri\\_e2g'\n",
       "\\item 'annotation\\_crispri\\_growth'\n",
       "\\item 'annotation\\_crispri\\_hcrff'\n",
       "\\item 'annotation\\_enhancer\\_junke'\n",
       "\\item 'annotation\\_enhancer\\_merge'\n",
       "\\item 'annotation\\_enhancer\\_zscore\\_junke'\n",
       "\\item 'annotation\\_gencode'\n",
       "\\item 'annotation\\_hic'\n",
       "\\item 'annotation\\_tss\\_pol2'\n",
       "\\item 'annotation\\_tss\\_pol2\\_span'\n",
       "\\item 'hic\\_intact\\_deep'\n",
       "\\item 'hic\\_intact\\_ENCSR479XDG'\n",
       "\\item 'KS91\\_K562\\_ASTARRseq\\_peak\\_macs\\_input'\n",
       "\\item 'region\\_screened\\_crispri\\_flowfish.bed'\n",
       "\\item 'region\\_screened\\_selected\\_perbase.bed'\n",
       "\\item 'region\\_screened\\_selected\\_perbase.bed.gz'\n",
       "\\item 'region\\_screened\\_selected.bed'\n",
       "\\item 'region\\_screened\\_tmpra\\_crispr.bed'\n",
       "\\item 'region\\_screened\\_tmpra.bed'\n",
       "\\end{enumerate*}\n"
      ],
      "text/markdown": [
       "1. 'annotation_ccre'\n",
       "2. 'annotation_chipseq_histone'\n",
       "3. 'annotation_chipseq_tf'\n",
       "4. 'annotation_chipseq_tf_subset'\n",
       "5. 'annotation_chromHMM'\n",
       "6. 'annotation_crispri_e2g'\n",
       "7. 'annotation_crispri_growth'\n",
       "8. 'annotation_crispri_hcrff'\n",
       "9. 'annotation_enhancer_junke'\n",
       "10. 'annotation_enhancer_merge'\n",
       "11. 'annotation_enhancer_zscore_junke'\n",
       "12. 'annotation_gencode'\n",
       "13. 'annotation_hic'\n",
       "14. 'annotation_tss_pol2'\n",
       "15. 'annotation_tss_pol2_span'\n",
       "16. 'hic_intact_deep'\n",
       "17. 'hic_intact_ENCSR479XDG'\n",
       "18. 'KS91_K562_ASTARRseq_peak_macs_input'\n",
       "19. 'region_screened_crispri_flowfish.bed'\n",
       "20. 'region_screened_selected_perbase.bed'\n",
       "21. 'region_screened_selected_perbase.bed.gz'\n",
       "22. 'region_screened_selected.bed'\n",
       "23. 'region_screened_tmpra_crispr.bed'\n",
       "24. 'region_screened_tmpra.bed'\n",
       "\n",
       "\n"
      ],
      "text/plain": [
       " [1] \"annotation_ccre\"                        \n",
       " [2] \"annotation_chipseq_histone\"             \n",
       " [3] \"annotation_chipseq_tf\"                  \n",
       " [4] \"annotation_chipseq_tf_subset\"           \n",
       " [5] \"annotation_chromHMM\"                    \n",
       " [6] \"annotation_crispri_e2g\"                 \n",
       " [7] \"annotation_crispri_growth\"              \n",
       " [8] \"annotation_crispri_hcrff\"               \n",
       " [9] \"annotation_enhancer_junke\"              \n",
       "[10] \"annotation_enhancer_merge\"              \n",
       "[11] \"annotation_enhancer_zscore_junke\"       \n",
       "[12] \"annotation_gencode\"                     \n",
       "[13] \"annotation_hic\"                         \n",
       "[14] \"annotation_tss_pol2\"                    \n",
       "[15] \"annotation_tss_pol2_span\"               \n",
       "[16] \"hic_intact_deep\"                        \n",
       "[17] \"hic_intact_ENCSR479XDG\"                 \n",
       "[18] \"KS91_K562_ASTARRseq_peak_macs_input\"    \n",
       "[19] \"region_screened_crispri_flowfish.bed\"   \n",
       "[20] \"region_screened_selected_perbase.bed\"   \n",
       "[21] \"region_screened_selected_perbase.bed.gz\"\n",
       "[22] \"region_screened_selected.bed\"           \n",
       "[23] \"region_screened_tmpra_crispr.bed\"       \n",
       "[24] \"region_screened_tmpra.bed\"              "
      ]
     },
     "metadata": {},
     "output_type": "display_data"
    }
   ],
   "source": [
    "fdiry = file.path(FD_RES, \"results\", \"region\")\n",
    "dir(fdiry)"
   ]
  },
  {
   "cell_type": "markdown",
   "metadata": {},
   "source": [
    "## Import data"
   ]
  },
  {
   "cell_type": "code",
   "execution_count": 3,
   "metadata": {},
   "outputs": [],
   "source": [
    "FOLDER_ANT   = \"KS91_K562_ASTARRseq_peak_macs_input\"\n",
    "FOLDERS_LOOP = c(\n",
    "    \"hic_intact_ENCSR479XDG\",\n",
    "    \"hic_intact_deep\"\n",
    ")\n",
    "PREFIXS_LOOP = c(\"loopA\", \"loopB\")"
   ]
  },
  {
   "cell_type": "markdown",
   "metadata": {},
   "source": [
    "### Import loop data"
   ]
  },
  {
   "cell_type": "code",
   "execution_count": 4,
   "metadata": {},
   "outputs": [
    {
     "name": "stdout",
     "output_type": "stream",
     "text": [
      "[1] 174718     13\n"
     ]
    },
    {
     "data": {
      "text/html": [
       "<table class=\"dataframe\">\n",
       "<caption>A tibble: 6 × 13</caption>\n",
       "<thead>\n",
       "\t<tr><th scope=col>Chrom1</th><th scope=col>Start1</th><th scope=col>End1</th><th scope=col>Chrom2</th><th scope=col>Start2</th><th scope=col>End2</th><th scope=col>LoopA</th><th scope=col>LoopB</th><th scope=col>LengthA</th><th scope=col>LengthB</th><th scope=col>Distance</th><th scope=col>HiC</th><th scope=col>Edge</th></tr>\n",
       "\t<tr><th scope=col>&lt;chr&gt;</th><th scope=col>&lt;dbl&gt;</th><th scope=col>&lt;dbl&gt;</th><th scope=col>&lt;chr&gt;</th><th scope=col>&lt;dbl&gt;</th><th scope=col>&lt;dbl&gt;</th><th scope=col>&lt;chr&gt;</th><th scope=col>&lt;chr&gt;</th><th scope=col>&lt;dbl&gt;</th><th scope=col>&lt;dbl&gt;</th><th scope=col>&lt;dbl&gt;</th><th scope=col>&lt;chr&gt;</th><th scope=col>&lt;chr&gt;</th></tr>\n",
       "</thead>\n",
       "<tbody>\n",
       "\t<tr><td>chr10</td><td>102835000</td><td>102836000</td><td>chr10</td><td>102901000</td><td>102902000</td><td>chr10:102835000-102836000</td><td>chr10:102901000-102902000</td><td>1000</td><td>1000</td><td> 66000</td><td>hic_intact_ENCSR479XDG</td><td>chr10:102835000-102836000|chr10:102901000-102902000</td></tr>\n",
       "\t<tr><td>chr10</td><td>123583000</td><td>123584000</td><td>chr10</td><td>123967000</td><td>123968000</td><td>chr10:123583000-123584000</td><td>chr10:123967000-123968000</td><td>1000</td><td>1000</td><td>384000</td><td>hic_intact_ENCSR479XDG</td><td>chr10:123583000-123584000|chr10:123967000-123968000</td></tr>\n",
       "\t<tr><td>chr10</td><td> 60780000</td><td> 60782000</td><td>chr10</td><td> 60828000</td><td> 60830000</td><td>chr10:60780000-60782000  </td><td>chr10:60828000-60830000  </td><td>2000</td><td>2000</td><td> 48000</td><td>hic_intact_ENCSR479XDG</td><td>chr10:60780000-60782000|chr10:60828000-60830000    </td></tr>\n",
       "\t<tr><td>chr10</td><td> 33050000</td><td> 33051000</td><td>chr10</td><td> 33067000</td><td> 33068000</td><td>chr10:33050000-33051000  </td><td>chr10:33067000-33068000  </td><td>1000</td><td>1000</td><td> 17000</td><td>hic_intact_ENCSR479XDG</td><td>chr10:33050000-33051000|chr10:33067000-33068000    </td></tr>\n",
       "\t<tr><td>chr10</td><td> 11412000</td><td> 11414000</td><td>chr10</td><td> 11472000</td><td> 11474000</td><td>chr10:11412000-11414000  </td><td>chr10:11472000-11474000  </td><td>2000</td><td>2000</td><td> 60000</td><td>hic_intact_ENCSR479XDG</td><td>chr10:11412000-11414000|chr10:11472000-11474000    </td></tr>\n",
       "\t<tr><td>chr10</td><td> 45005000</td><td> 45010000</td><td>chr10</td><td> 45465000</td><td> 45470000</td><td>chr10:45005000-45010000  </td><td>chr10:45465000-45470000  </td><td>5000</td><td>5000</td><td>460000</td><td>hic_intact_ENCSR479XDG</td><td>chr10:45005000-45010000|chr10:45465000-45470000    </td></tr>\n",
       "</tbody>\n",
       "</table>\n"
      ],
      "text/latex": [
       "A tibble: 6 × 13\n",
       "\\begin{tabular}{lllllllllllll}\n",
       " Chrom1 & Start1 & End1 & Chrom2 & Start2 & End2 & LoopA & LoopB & LengthA & LengthB & Distance & HiC & Edge\\\\\n",
       " <chr> & <dbl> & <dbl> & <chr> & <dbl> & <dbl> & <chr> & <chr> & <dbl> & <dbl> & <dbl> & <chr> & <chr>\\\\\n",
       "\\hline\n",
       "\t chr10 & 102835000 & 102836000 & chr10 & 102901000 & 102902000 & chr10:102835000-102836000 & chr10:102901000-102902000 & 1000 & 1000 &  66000 & hic\\_intact\\_ENCSR479XDG & chr10:102835000-102836000\\textbar{}chr10:102901000-102902000\\\\\n",
       "\t chr10 & 123583000 & 123584000 & chr10 & 123967000 & 123968000 & chr10:123583000-123584000 & chr10:123967000-123968000 & 1000 & 1000 & 384000 & hic\\_intact\\_ENCSR479XDG & chr10:123583000-123584000\\textbar{}chr10:123967000-123968000\\\\\n",
       "\t chr10 &  60780000 &  60782000 & chr10 &  60828000 &  60830000 & chr10:60780000-60782000   & chr10:60828000-60830000   & 2000 & 2000 &  48000 & hic\\_intact\\_ENCSR479XDG & chr10:60780000-60782000\\textbar{}chr10:60828000-60830000    \\\\\n",
       "\t chr10 &  33050000 &  33051000 & chr10 &  33067000 &  33068000 & chr10:33050000-33051000   & chr10:33067000-33068000   & 1000 & 1000 &  17000 & hic\\_intact\\_ENCSR479XDG & chr10:33050000-33051000\\textbar{}chr10:33067000-33068000    \\\\\n",
       "\t chr10 &  11412000 &  11414000 & chr10 &  11472000 &  11474000 & chr10:11412000-11414000   & chr10:11472000-11474000   & 2000 & 2000 &  60000 & hic\\_intact\\_ENCSR479XDG & chr10:11412000-11414000\\textbar{}chr10:11472000-11474000    \\\\\n",
       "\t chr10 &  45005000 &  45010000 & chr10 &  45465000 &  45470000 & chr10:45005000-45010000   & chr10:45465000-45470000   & 5000 & 5000 & 460000 & hic\\_intact\\_ENCSR479XDG & chr10:45005000-45010000\\textbar{}chr10:45465000-45470000    \\\\\n",
       "\\end{tabular}\n"
      ],
      "text/markdown": [
       "\n",
       "A tibble: 6 × 13\n",
       "\n",
       "| Chrom1 &lt;chr&gt; | Start1 &lt;dbl&gt; | End1 &lt;dbl&gt; | Chrom2 &lt;chr&gt; | Start2 &lt;dbl&gt; | End2 &lt;dbl&gt; | LoopA &lt;chr&gt; | LoopB &lt;chr&gt; | LengthA &lt;dbl&gt; | LengthB &lt;dbl&gt; | Distance &lt;dbl&gt; | HiC &lt;chr&gt; | Edge &lt;chr&gt; |\n",
       "|---|---|---|---|---|---|---|---|---|---|---|---|---|\n",
       "| chr10 | 102835000 | 102836000 | chr10 | 102901000 | 102902000 | chr10:102835000-102836000 | chr10:102901000-102902000 | 1000 | 1000 |  66000 | hic_intact_ENCSR479XDG | chr10:102835000-102836000|chr10:102901000-102902000 |\n",
       "| chr10 | 123583000 | 123584000 | chr10 | 123967000 | 123968000 | chr10:123583000-123584000 | chr10:123967000-123968000 | 1000 | 1000 | 384000 | hic_intact_ENCSR479XDG | chr10:123583000-123584000|chr10:123967000-123968000 |\n",
       "| chr10 |  60780000 |  60782000 | chr10 |  60828000 |  60830000 | chr10:60780000-60782000   | chr10:60828000-60830000   | 2000 | 2000 |  48000 | hic_intact_ENCSR479XDG | chr10:60780000-60782000|chr10:60828000-60830000     |\n",
       "| chr10 |  33050000 |  33051000 | chr10 |  33067000 |  33068000 | chr10:33050000-33051000   | chr10:33067000-33068000   | 1000 | 1000 |  17000 | hic_intact_ENCSR479XDG | chr10:33050000-33051000|chr10:33067000-33068000     |\n",
       "| chr10 |  11412000 |  11414000 | chr10 |  11472000 |  11474000 | chr10:11412000-11414000   | chr10:11472000-11474000   | 2000 | 2000 |  60000 | hic_intact_ENCSR479XDG | chr10:11412000-11414000|chr10:11472000-11474000     |\n",
       "| chr10 |  45005000 |  45010000 | chr10 |  45465000 |  45470000 | chr10:45005000-45010000   | chr10:45465000-45470000   | 5000 | 5000 | 460000 | hic_intact_ENCSR479XDG | chr10:45005000-45010000|chr10:45465000-45470000     |\n",
       "\n"
      ],
      "text/plain": [
       "  Chrom1 Start1    End1      Chrom2 Start2    End2     \n",
       "1 chr10  102835000 102836000 chr10  102901000 102902000\n",
       "2 chr10  123583000 123584000 chr10  123967000 123968000\n",
       "3 chr10   60780000  60782000 chr10   60828000  60830000\n",
       "4 chr10   33050000  33051000 chr10   33067000  33068000\n",
       "5 chr10   11412000  11414000 chr10   11472000  11474000\n",
       "6 chr10   45005000  45010000 chr10   45465000  45470000\n",
       "  LoopA                     LoopB                     LengthA LengthB Distance\n",
       "1 chr10:102835000-102836000 chr10:102901000-102902000 1000    1000     66000  \n",
       "2 chr10:123583000-123584000 chr10:123967000-123968000 1000    1000    384000  \n",
       "3 chr10:60780000-60782000   chr10:60828000-60830000   2000    2000     48000  \n",
       "4 chr10:33050000-33051000   chr10:33067000-33068000   1000    1000     17000  \n",
       "5 chr10:11412000-11414000   chr10:11472000-11474000   2000    2000     60000  \n",
       "6 chr10:45005000-45010000   chr10:45465000-45470000   5000    5000    460000  \n",
       "  HiC                    Edge                                               \n",
       "1 hic_intact_ENCSR479XDG chr10:102835000-102836000|chr10:102901000-102902000\n",
       "2 hic_intact_ENCSR479XDG chr10:123583000-123584000|chr10:123967000-123968000\n",
       "3 hic_intact_ENCSR479XDG chr10:60780000-60782000|chr10:60828000-60830000    \n",
       "4 hic_intact_ENCSR479XDG chr10:33050000-33051000|chr10:33067000-33068000    \n",
       "5 hic_intact_ENCSR479XDG chr10:11412000-11414000|chr10:11472000-11474000    \n",
       "6 hic_intact_ENCSR479XDG chr10:45005000-45010000|chr10:45465000-45470000    "
      ]
     },
     "metadata": {},
     "output_type": "display_data"
    }
   ],
   "source": [
    "lst = lapply(FOLDERS_LOOP, function(FOLDER_LOOP){\n",
    "    fdiry = file.path(FD_RES, \"results\", \"region\", FOLDER_LOOP, \"loop\")\n",
    "    fname = \"loop.tsv\"\n",
    "    fpath = file.path(fdiry, fname)\n",
    "    \n",
    "    dat = read_tsv(fpath, show_col_types = FALSE)\n",
    "    dat = dat %>% dplyr::mutate(\n",
    "        HiC = FOLDER_LOOP,\n",
    "        Edge = paste(LoopA, LoopB, sep=\"|\")\n",
    "    )\n",
    "    return(dat)\n",
    "})\n",
    "\n",
    "dat = bind_rows(lst)\n",
    "dat_edge = dat\n",
    "lst_edge = split(dat, dat$HiC)\n",
    "print(dim(dat))\n",
    "head(dat)"
   ]
  },
  {
   "cell_type": "code",
   "execution_count": 5,
   "metadata": {},
   "outputs": [
    {
     "name": "stdout",
     "output_type": "stream",
     "text": [
      "[1] \"hic_intact_deep\"        \"hic_intact_ENCSR479XDG\"\n"
     ]
    }
   ],
   "source": [
    "print(names(lst_edge))"
   ]
  },
  {
   "cell_type": "code",
   "execution_count": 6,
   "metadata": {},
   "outputs": [
    {
     "name": "stdout",
     "output_type": "stream",
     "text": [
      "KS91_K562_ASTARRseq_peak_macs_input \n",
      "[1] \"Chrom\" \"Start\" \"End\"  \n",
      "\n",
      "[1] \"/data/reddylab/Kuei/out/proj_combeffect_encode_fcc/results/region/KS91_K562_ASTARRseq_peak_macs_input/KS91_K562_hg38_ASTARRseq_Input.all_reps.masked.union_narrowPeak.q5.bed.gz\"\n",
      "\n"
     ]
    }
   ],
   "source": [
    "## import annotation description file\n",
    "fdiry  = file.path(FD_RES, \"results\", \"region\", FOLDER_ANT)\n",
    "fname = \"description.tsv\"\n",
    "fpath = file.path(fdiry, fname)\n",
    "dat = read_tsv(fpath, show_col_types = FALSE)\n",
    "cnames = dat$Name\n",
    "cat(FOLDER_ANT, \"\\n\")\n",
    "print(cnames)\n",
    "cat(\"\\n\")\n",
    "\n",
    "### get file path of annotation file\n",
    "fdiry = file.path(FD_RES, \"results\", \"region\", FOLDER_ANT)\n",
    "fname = \"*.bed.gz\"\n",
    "fglob = file.path(fdiry, fname)\n",
    "fpath_ant = Sys.glob(fglob)\n",
    "print(fpath_ant)\n",
    "cat(\"\\n\")"
   ]
  },
  {
   "cell_type": "markdown",
   "metadata": {},
   "source": [
    "### Import annotation data"
   ]
  },
  {
   "cell_type": "code",
   "execution_count": 7,
   "metadata": {},
   "outputs": [
    {
     "data": {
      "text/html": [
       "<table class=\"dataframe\">\n",
       "<caption>A tibble: 6 × 4</caption>\n",
       "<thead>\n",
       "\t<tr><th scope=col>Chrom</th><th scope=col>Start</th><th scope=col>End</th><th scope=col>Region_Annot</th></tr>\n",
       "\t<tr><th scope=col>&lt;chr&gt;</th><th scope=col>&lt;dbl&gt;</th><th scope=col>&lt;dbl&gt;</th><th scope=col>&lt;chr&gt;</th></tr>\n",
       "</thead>\n",
       "<tbody>\n",
       "\t<tr><td>chr1</td><td>10015</td><td>10442</td><td>chr1:10015-10442</td></tr>\n",
       "\t<tr><td>chr1</td><td>14253</td><td>14645</td><td>chr1:14253-14645</td></tr>\n",
       "\t<tr><td>chr1</td><td>16015</td><td>16477</td><td>chr1:16015-16477</td></tr>\n",
       "\t<tr><td>chr1</td><td>17237</td><td>17772</td><td>chr1:17237-17772</td></tr>\n",
       "\t<tr><td>chr1</td><td>28903</td><td>29613</td><td>chr1:28903-29613</td></tr>\n",
       "\t<tr><td>chr1</td><td>30803</td><td>31072</td><td>chr1:30803-31072</td></tr>\n",
       "</tbody>\n",
       "</table>\n"
      ],
      "text/latex": [
       "A tibble: 6 × 4\n",
       "\\begin{tabular}{llll}\n",
       " Chrom & Start & End & Region\\_Annot\\\\\n",
       " <chr> & <dbl> & <dbl> & <chr>\\\\\n",
       "\\hline\n",
       "\t chr1 & 10015 & 10442 & chr1:10015-10442\\\\\n",
       "\t chr1 & 14253 & 14645 & chr1:14253-14645\\\\\n",
       "\t chr1 & 16015 & 16477 & chr1:16015-16477\\\\\n",
       "\t chr1 & 17237 & 17772 & chr1:17237-17772\\\\\n",
       "\t chr1 & 28903 & 29613 & chr1:28903-29613\\\\\n",
       "\t chr1 & 30803 & 31072 & chr1:30803-31072\\\\\n",
       "\\end{tabular}\n"
      ],
      "text/markdown": [
       "\n",
       "A tibble: 6 × 4\n",
       "\n",
       "| Chrom &lt;chr&gt; | Start &lt;dbl&gt; | End &lt;dbl&gt; | Region_Annot &lt;chr&gt; |\n",
       "|---|---|---|---|\n",
       "| chr1 | 10015 | 10442 | chr1:10015-10442 |\n",
       "| chr1 | 14253 | 14645 | chr1:14253-14645 |\n",
       "| chr1 | 16015 | 16477 | chr1:16015-16477 |\n",
       "| chr1 | 17237 | 17772 | chr1:17237-17772 |\n",
       "| chr1 | 28903 | 29613 | chr1:28903-29613 |\n",
       "| chr1 | 30803 | 31072 | chr1:30803-31072 |\n",
       "\n"
      ],
      "text/plain": [
       "  Chrom Start End   Region_Annot    \n",
       "1 chr1  10015 10442 chr1:10015-10442\n",
       "2 chr1  14253 14645 chr1:14253-14645\n",
       "3 chr1  16015 16477 chr1:16015-16477\n",
       "4 chr1  17237 17772 chr1:17237-17772\n",
       "5 chr1  28903 29613 chr1:28903-29613\n",
       "6 chr1  30803 31072 chr1:30803-31072"
      ]
     },
     "metadata": {},
     "output_type": "display_data"
    }
   ],
   "source": [
    "### init\n",
    "fname_ant = basename(fpath_ant)\n",
    "\n",
    "### import annotation file\n",
    "dat_ant = read_tsv(fpath_ant, col_names = cnames, show_col_types = FALSE)\n",
    "dat_ant = dat_ant %>% dplyr::mutate(Region_Annot = paste0(Chrom, \":\", Start, \"-\", End))\n",
    "head(dat_ant)"
   ]
  },
  {
   "cell_type": "code",
   "execution_count": 18,
   "metadata": {},
   "outputs": [
    {
     "name": "stdout",
     "output_type": "stream",
     "text": [
      "[1] 180110      3\n"
     ]
    },
    {
     "data": {
      "text/html": [
       "<table class=\"dataframe\">\n",
       "<caption>A tibble: 6 × 3</caption>\n",
       "<thead>\n",
       "\t<tr><th scope=col>Label</th><th scope=col>Region_Loop</th><th scope=col>Region_Annot</th></tr>\n",
       "\t<tr><th scope=col>&lt;chr&gt;</th><th scope=col>&lt;chr&gt;</th><th scope=col>&lt;chr&gt;</th></tr>\n",
       "</thead>\n",
       "<tbody>\n",
       "\t<tr><td>hic_intact_ENCSR479XDG.loopA</td><td>chr1:770000-780000</td><td>chr1:770944-771343</td></tr>\n",
       "\t<tr><td>hic_intact_ENCSR479XDG.loopA</td><td>chr1:770000-780000</td><td>chr1:777949-779437</td></tr>\n",
       "\t<tr><td>hic_intact_ENCSR479XDG.loopA</td><td>chr1:904000-906000</td><td>chr1:903633-905556</td></tr>\n",
       "\t<tr><td>hic_intact_ENCSR479XDG.loopA</td><td>chr1:920000-925000</td><td>chr1:920697-921526</td></tr>\n",
       "\t<tr><td>hic_intact_ENCSR479XDG.loopA</td><td>chr1:920000-925000</td><td>chr1:923417-925194</td></tr>\n",
       "\t<tr><td>hic_intact_ENCSR479XDG.loopA</td><td>chr1:980000-990000</td><td>chr1:984016-984547</td></tr>\n",
       "</tbody>\n",
       "</table>\n"
      ],
      "text/latex": [
       "A tibble: 6 × 3\n",
       "\\begin{tabular}{lll}\n",
       " Label & Region\\_Loop & Region\\_Annot\\\\\n",
       " <chr> & <chr> & <chr>\\\\\n",
       "\\hline\n",
       "\t hic\\_intact\\_ENCSR479XDG.loopA & chr1:770000-780000 & chr1:770944-771343\\\\\n",
       "\t hic\\_intact\\_ENCSR479XDG.loopA & chr1:770000-780000 & chr1:777949-779437\\\\\n",
       "\t hic\\_intact\\_ENCSR479XDG.loopA & chr1:904000-906000 & chr1:903633-905556\\\\\n",
       "\t hic\\_intact\\_ENCSR479XDG.loopA & chr1:920000-925000 & chr1:920697-921526\\\\\n",
       "\t hic\\_intact\\_ENCSR479XDG.loopA & chr1:920000-925000 & chr1:923417-925194\\\\\n",
       "\t hic\\_intact\\_ENCSR479XDG.loopA & chr1:980000-990000 & chr1:984016-984547\\\\\n",
       "\\end{tabular}\n"
      ],
      "text/markdown": [
       "\n",
       "A tibble: 6 × 3\n",
       "\n",
       "| Label &lt;chr&gt; | Region_Loop &lt;chr&gt; | Region_Annot &lt;chr&gt; |\n",
       "|---|---|---|\n",
       "| hic_intact_ENCSR479XDG.loopA | chr1:770000-780000 | chr1:770944-771343 |\n",
       "| hic_intact_ENCSR479XDG.loopA | chr1:770000-780000 | chr1:777949-779437 |\n",
       "| hic_intact_ENCSR479XDG.loopA | chr1:904000-906000 | chr1:903633-905556 |\n",
       "| hic_intact_ENCSR479XDG.loopA | chr1:920000-925000 | chr1:920697-921526 |\n",
       "| hic_intact_ENCSR479XDG.loopA | chr1:920000-925000 | chr1:923417-925194 |\n",
       "| hic_intact_ENCSR479XDG.loopA | chr1:980000-990000 | chr1:984016-984547 |\n",
       "\n"
      ],
      "text/plain": [
       "  Label                        Region_Loop        Region_Annot      \n",
       "1 hic_intact_ENCSR479XDG.loopA chr1:770000-780000 chr1:770944-771343\n",
       "2 hic_intact_ENCSR479XDG.loopA chr1:770000-780000 chr1:777949-779437\n",
       "3 hic_intact_ENCSR479XDG.loopA chr1:904000-906000 chr1:903633-905556\n",
       "4 hic_intact_ENCSR479XDG.loopA chr1:920000-925000 chr1:920697-921526\n",
       "5 hic_intact_ENCSR479XDG.loopA chr1:920000-925000 chr1:923417-925194\n",
       "6 hic_intact_ENCSR479XDG.loopA chr1:980000-990000 chr1:984016-984547"
      ]
     },
     "metadata": {},
     "output_type": "display_data"
    }
   ],
   "source": [
    "lst = lapply(FOLDERS_LOOP, function(FOLDER_LOOP){\n",
    "\n",
    "    ### get file path for corresponding loop annotation\n",
    "    fdiry = file.path(FD_RES, \"results\", \"region\", FOLDER_LOOP, \"loop\", FOLDER_ANT)\n",
    "    \n",
    "    lst = lapply(PREFIXS_LOOP, function(PREFIX_LOOP){\n",
    "        \n",
    "        ###\n",
    "        fname = paste0(PREFIX_LOOP, \"*\", fname_ant)\n",
    "        fglob = file.path(fdiry, fname)\n",
    "        fpath = Sys.glob(fglob)\n",
    "        \n",
    "        ###\n",
    "        vec = c(\"Chrom_Loop\", \"Start_Loop\", \"End_Loop\", cnames, \"Overlap\")\n",
    "        dat = read_tsv(fpath, col_names = vec, show_col_types = FALSE)\n",
    "        dat = dat %>% dplyr::mutate(\n",
    "            Region_Annot = paste0(Chrom, \":\", Start, \"-\", End),\n",
    "            Region_Loop  = paste0(Chrom_Loop, \":\", Start_Loop, \"-\", End_Loop),\n",
    "            Loop         = PREFIX_LOOP\n",
    "        )\n",
    "        return(dat)\n",
    "    })\n",
    "    dat = bind_rows(lst)\n",
    "    dat = dat %>% dplyr::mutate(HiC = FOLDER_LOOP)\n",
    "    return(dat)\n",
    "})\n",
    "\n",
    "###\n",
    "dat = bind_rows(lst)\n",
    "dat = dat %>% \n",
    "    dplyr::mutate(Label = paste(HiC, Loop, sep=\".\")) %>%\n",
    "    dplyr::select(Label, Region_Loop, Region_Annot) %>%\n",
    "    dplyr::distinct()\n",
    "\n",
    "### assign and show\n",
    "dat_loop_ocr = dat\n",
    "lst_loop_ocr = split(dat, dat$Label)\n",
    "print(dim(dat))\n",
    "head(dat)"
   ]
  },
  {
   "cell_type": "code",
   "execution_count": 19,
   "metadata": {},
   "outputs": [
    {
     "data": {
      "text/html": [
       "<style>\n",
       ".list-inline {list-style: none; margin:0; padding: 0}\n",
       ".list-inline>li {display: inline-block}\n",
       ".list-inline>li:not(:last-child)::after {content: \"\\00b7\"; padding: 0 .5ex}\n",
       "</style>\n",
       "<ol class=list-inline><li>'hic_intact_ENCSR479XDG.loopA'</li><li>'hic_intact_ENCSR479XDG.loopB'</li><li>'hic_intact_deep.loopA'</li><li>'hic_intact_deep.loopB'</li></ol>\n"
      ],
      "text/latex": [
       "\\begin{enumerate*}\n",
       "\\item 'hic\\_intact\\_ENCSR479XDG.loopA'\n",
       "\\item 'hic\\_intact\\_ENCSR479XDG.loopB'\n",
       "\\item 'hic\\_intact\\_deep.loopA'\n",
       "\\item 'hic\\_intact\\_deep.loopB'\n",
       "\\end{enumerate*}\n"
      ],
      "text/markdown": [
       "1. 'hic_intact_ENCSR479XDG.loopA'\n",
       "2. 'hic_intact_ENCSR479XDG.loopB'\n",
       "3. 'hic_intact_deep.loopA'\n",
       "4. 'hic_intact_deep.loopB'\n",
       "\n",
       "\n"
      ],
      "text/plain": [
       "[1] \"hic_intact_ENCSR479XDG.loopA\" \"hic_intact_ENCSR479XDG.loopB\"\n",
       "[3] \"hic_intact_deep.loopA\"        \"hic_intact_deep.loopB\"       "
      ]
     },
     "metadata": {},
     "output_type": "display_data"
    }
   ],
   "source": [
    "dat = dat_loop_ocr\n",
    "unique(dat$Label)"
   ]
  },
  {
   "cell_type": "code",
   "execution_count": 20,
   "metadata": {},
   "outputs": [
    {
     "name": "stdout",
     "output_type": "stream",
     "text": [
      "[1] \"hic_intact_deep.loopA\"        \"hic_intact_deep.loopB\"       \n",
      "[3] \"hic_intact_ENCSR479XDG.loopA\" \"hic_intact_ENCSR479XDG.loopB\"\n"
     ]
    }
   ],
   "source": [
    "lst = lst_loop_ocr\n",
    "print(names(lst))"
   ]
  },
  {
   "cell_type": "markdown",
   "metadata": {},
   "source": [
    "## Connect OCRs by loops"
   ]
  },
  {
   "cell_type": "markdown",
   "metadata": {},
   "source": [
    "**hic_intact_ENCSR479XDG**"
   ]
  },
  {
   "cell_type": "code",
   "execution_count": 63,
   "metadata": {},
   "outputs": [
    {
     "name": "stdout",
     "output_type": "stream",
     "text": [
      "Check Edge Label A: hic_intact_ENCSR479XDG.loopA \n",
      "Check Edge Label B: hic_intact_ENCSR479XDG.loopB \n",
      "#Loop (Total):      46004 \n",
      "#Loop (Total):      46004 \n",
      "#Link (OCR):        53964 \n",
      "#Edge (OCR):        26619 \n",
      "#Node (OCR):        42110 \n"
     ]
    },
    {
     "data": {
      "text/html": [
       "<table class=\"dataframe\">\n",
       "<caption>A tibble: 6 × 17</caption>\n",
       "<thead>\n",
       "\t<tr><th scope=col>Chrom1</th><th scope=col>Start1</th><th scope=col>End1</th><th scope=col>Chrom2</th><th scope=col>Start2</th><th scope=col>End2</th><th scope=col>LoopA</th><th scope=col>LoopB</th><th scope=col>LengthA</th><th scope=col>LengthB</th><th scope=col>Distance</th><th scope=col>HiC</th><th scope=col>Edge</th><th scope=col>LabelA</th><th scope=col>NodeA</th><th scope=col>LabelB</th><th scope=col>NodeB</th></tr>\n",
       "\t<tr><th scope=col>&lt;chr&gt;</th><th scope=col>&lt;dbl&gt;</th><th scope=col>&lt;dbl&gt;</th><th scope=col>&lt;chr&gt;</th><th scope=col>&lt;dbl&gt;</th><th scope=col>&lt;dbl&gt;</th><th scope=col>&lt;chr&gt;</th><th scope=col>&lt;chr&gt;</th><th scope=col>&lt;dbl&gt;</th><th scope=col>&lt;dbl&gt;</th><th scope=col>&lt;dbl&gt;</th><th scope=col>&lt;chr&gt;</th><th scope=col>&lt;chr&gt;</th><th scope=col>&lt;chr&gt;</th><th scope=col>&lt;chr&gt;</th><th scope=col>&lt;chr&gt;</th><th scope=col>&lt;chr&gt;</th></tr>\n",
       "</thead>\n",
       "<tbody>\n",
       "\t<tr><td>chr10</td><td> 11412000</td><td> 11414000</td><td>chr10</td><td> 11472000</td><td> 11474000</td><td>chr10:11412000-11414000  </td><td>chr10:11472000-11474000  </td><td> 2000</td><td> 2000</td><td>  60000</td><td>hic_intact_ENCSR479XDG</td><td>chr10:11412000-11414000|chr10:11472000-11474000    </td><td>hic_intact_ENCSR479XDG.loopA</td><td>chr10:11412050-11413031  </td><td>hic_intact_ENCSR479XDG.loopB</td><td>chr10:11471940-11472592  </td></tr>\n",
       "\t<tr><td>chr10</td><td> 11412000</td><td> 11414000</td><td>chr10</td><td> 11472000</td><td> 11474000</td><td>chr10:11412000-11414000  </td><td>chr10:11472000-11474000  </td><td> 2000</td><td> 2000</td><td>  60000</td><td>hic_intact_ENCSR479XDG</td><td>chr10:11412000-11414000|chr10:11472000-11474000    </td><td>hic_intact_ENCSR479XDG.loopA</td><td>chr10:11412050-11413031  </td><td>hic_intact_ENCSR479XDG.loopB</td><td>chr10:11473227-11473648  </td></tr>\n",
       "\t<tr><td>chr10</td><td>120420000</td><td>120430000</td><td>chr10</td><td>120600000</td><td>120610000</td><td>chr10:120420000-120430000</td><td>chr10:120600000-120610000</td><td>10000</td><td>10000</td><td> 180000</td><td>hic_intact_ENCSR479XDG</td><td>chr10:120420000-120430000|chr10:120600000-120610000</td><td>hic_intact_ENCSR479XDG.loopA</td><td>chr10:120423274-120423638</td><td>hic_intact_ENCSR479XDG.loopB</td><td>chr10:120600849-120601348</td></tr>\n",
       "\t<tr><td>chr10</td><td> 67885000</td><td> 67890000</td><td>chr10</td><td> 69315000</td><td> 69320000</td><td>chr10:67885000-67890000  </td><td>chr10:69315000-69320000  </td><td> 5000</td><td> 5000</td><td>1430000</td><td>hic_intact_ENCSR479XDG</td><td>chr10:67885000-67890000|chr10:69315000-69320000    </td><td>hic_intact_ENCSR479XDG.loopA</td><td>chr10:67885989-67886387  </td><td>hic_intact_ENCSR479XDG.loopB</td><td>chr10:69315429-69316171  </td></tr>\n",
       "\t<tr><td>chr10</td><td> 67885000</td><td> 67890000</td><td>chr10</td><td> 69315000</td><td> 69320000</td><td>chr10:67885000-67890000  </td><td>chr10:69315000-69320000  </td><td> 5000</td><td> 5000</td><td>1430000</td><td>hic_intact_ENCSR479XDG</td><td>chr10:67885000-67890000|chr10:69315000-69320000    </td><td>hic_intact_ENCSR479XDG.loopA</td><td>chr10:67885989-67886387  </td><td>hic_intact_ENCSR479XDG.loopB</td><td>chr10:69317164-69319347  </td></tr>\n",
       "\t<tr><td>chr10</td><td>110300000</td><td>110310000</td><td>chr10</td><td>112310000</td><td>112320000</td><td>chr10:110300000-110310000</td><td>chr10:112310000-112320000</td><td>10000</td><td>10000</td><td>2010000</td><td>hic_intact_ENCSR479XDG</td><td>chr10:110300000-110310000|chr10:112310000-112320000</td><td>hic_intact_ENCSR479XDG.loopA</td><td>chr10:110304321-110305606</td><td>hic_intact_ENCSR479XDG.loopB</td><td>chr10:112313241-112313740</td></tr>\n",
       "</tbody>\n",
       "</table>\n"
      ],
      "text/latex": [
       "A tibble: 6 × 17\n",
       "\\begin{tabular}{lllllllllllllllll}\n",
       " Chrom1 & Start1 & End1 & Chrom2 & Start2 & End2 & LoopA & LoopB & LengthA & LengthB & Distance & HiC & Edge & LabelA & NodeA & LabelB & NodeB\\\\\n",
       " <chr> & <dbl> & <dbl> & <chr> & <dbl> & <dbl> & <chr> & <chr> & <dbl> & <dbl> & <dbl> & <chr> & <chr> & <chr> & <chr> & <chr> & <chr>\\\\\n",
       "\\hline\n",
       "\t chr10 &  11412000 &  11414000 & chr10 &  11472000 &  11474000 & chr10:11412000-11414000   & chr10:11472000-11474000   &  2000 &  2000 &   60000 & hic\\_intact\\_ENCSR479XDG & chr10:11412000-11414000\\textbar{}chr10:11472000-11474000     & hic\\_intact\\_ENCSR479XDG.loopA & chr10:11412050-11413031   & hic\\_intact\\_ENCSR479XDG.loopB & chr10:11471940-11472592  \\\\\n",
       "\t chr10 &  11412000 &  11414000 & chr10 &  11472000 &  11474000 & chr10:11412000-11414000   & chr10:11472000-11474000   &  2000 &  2000 &   60000 & hic\\_intact\\_ENCSR479XDG & chr10:11412000-11414000\\textbar{}chr10:11472000-11474000     & hic\\_intact\\_ENCSR479XDG.loopA & chr10:11412050-11413031   & hic\\_intact\\_ENCSR479XDG.loopB & chr10:11473227-11473648  \\\\\n",
       "\t chr10 & 120420000 & 120430000 & chr10 & 120600000 & 120610000 & chr10:120420000-120430000 & chr10:120600000-120610000 & 10000 & 10000 &  180000 & hic\\_intact\\_ENCSR479XDG & chr10:120420000-120430000\\textbar{}chr10:120600000-120610000 & hic\\_intact\\_ENCSR479XDG.loopA & chr10:120423274-120423638 & hic\\_intact\\_ENCSR479XDG.loopB & chr10:120600849-120601348\\\\\n",
       "\t chr10 &  67885000 &  67890000 & chr10 &  69315000 &  69320000 & chr10:67885000-67890000   & chr10:69315000-69320000   &  5000 &  5000 & 1430000 & hic\\_intact\\_ENCSR479XDG & chr10:67885000-67890000\\textbar{}chr10:69315000-69320000     & hic\\_intact\\_ENCSR479XDG.loopA & chr10:67885989-67886387   & hic\\_intact\\_ENCSR479XDG.loopB & chr10:69315429-69316171  \\\\\n",
       "\t chr10 &  67885000 &  67890000 & chr10 &  69315000 &  69320000 & chr10:67885000-67890000   & chr10:69315000-69320000   &  5000 &  5000 & 1430000 & hic\\_intact\\_ENCSR479XDG & chr10:67885000-67890000\\textbar{}chr10:69315000-69320000     & hic\\_intact\\_ENCSR479XDG.loopA & chr10:67885989-67886387   & hic\\_intact\\_ENCSR479XDG.loopB & chr10:69317164-69319347  \\\\\n",
       "\t chr10 & 110300000 & 110310000 & chr10 & 112310000 & 112320000 & chr10:110300000-110310000 & chr10:112310000-112320000 & 10000 & 10000 & 2010000 & hic\\_intact\\_ENCSR479XDG & chr10:110300000-110310000\\textbar{}chr10:112310000-112320000 & hic\\_intact\\_ENCSR479XDG.loopA & chr10:110304321-110305606 & hic\\_intact\\_ENCSR479XDG.loopB & chr10:112313241-112313740\\\\\n",
       "\\end{tabular}\n"
      ],
      "text/markdown": [
       "\n",
       "A tibble: 6 × 17\n",
       "\n",
       "| Chrom1 &lt;chr&gt; | Start1 &lt;dbl&gt; | End1 &lt;dbl&gt; | Chrom2 &lt;chr&gt; | Start2 &lt;dbl&gt; | End2 &lt;dbl&gt; | LoopA &lt;chr&gt; | LoopB &lt;chr&gt; | LengthA &lt;dbl&gt; | LengthB &lt;dbl&gt; | Distance &lt;dbl&gt; | HiC &lt;chr&gt; | Edge &lt;chr&gt; | LabelA &lt;chr&gt; | NodeA &lt;chr&gt; | LabelB &lt;chr&gt; | NodeB &lt;chr&gt; |\n",
       "|---|---|---|---|---|---|---|---|---|---|---|---|---|---|---|---|---|\n",
       "| chr10 |  11412000 |  11414000 | chr10 |  11472000 |  11474000 | chr10:11412000-11414000   | chr10:11472000-11474000   |  2000 |  2000 |   60000 | hic_intact_ENCSR479XDG | chr10:11412000-11414000|chr10:11472000-11474000     | hic_intact_ENCSR479XDG.loopA | chr10:11412050-11413031   | hic_intact_ENCSR479XDG.loopB | chr10:11471940-11472592   |\n",
       "| chr10 |  11412000 |  11414000 | chr10 |  11472000 |  11474000 | chr10:11412000-11414000   | chr10:11472000-11474000   |  2000 |  2000 |   60000 | hic_intact_ENCSR479XDG | chr10:11412000-11414000|chr10:11472000-11474000     | hic_intact_ENCSR479XDG.loopA | chr10:11412050-11413031   | hic_intact_ENCSR479XDG.loopB | chr10:11473227-11473648   |\n",
       "| chr10 | 120420000 | 120430000 | chr10 | 120600000 | 120610000 | chr10:120420000-120430000 | chr10:120600000-120610000 | 10000 | 10000 |  180000 | hic_intact_ENCSR479XDG | chr10:120420000-120430000|chr10:120600000-120610000 | hic_intact_ENCSR479XDG.loopA | chr10:120423274-120423638 | hic_intact_ENCSR479XDG.loopB | chr10:120600849-120601348 |\n",
       "| chr10 |  67885000 |  67890000 | chr10 |  69315000 |  69320000 | chr10:67885000-67890000   | chr10:69315000-69320000   |  5000 |  5000 | 1430000 | hic_intact_ENCSR479XDG | chr10:67885000-67890000|chr10:69315000-69320000     | hic_intact_ENCSR479XDG.loopA | chr10:67885989-67886387   | hic_intact_ENCSR479XDG.loopB | chr10:69315429-69316171   |\n",
       "| chr10 |  67885000 |  67890000 | chr10 |  69315000 |  69320000 | chr10:67885000-67890000   | chr10:69315000-69320000   |  5000 |  5000 | 1430000 | hic_intact_ENCSR479XDG | chr10:67885000-67890000|chr10:69315000-69320000     | hic_intact_ENCSR479XDG.loopA | chr10:67885989-67886387   | hic_intact_ENCSR479XDG.loopB | chr10:69317164-69319347   |\n",
       "| chr10 | 110300000 | 110310000 | chr10 | 112310000 | 112320000 | chr10:110300000-110310000 | chr10:112310000-112320000 | 10000 | 10000 | 2010000 | hic_intact_ENCSR479XDG | chr10:110300000-110310000|chr10:112310000-112320000 | hic_intact_ENCSR479XDG.loopA | chr10:110304321-110305606 | hic_intact_ENCSR479XDG.loopB | chr10:112313241-112313740 |\n",
       "\n"
      ],
      "text/plain": [
       "  Chrom1 Start1    End1      Chrom2 Start2    End2     \n",
       "1 chr10   11412000  11414000 chr10   11472000  11474000\n",
       "2 chr10   11412000  11414000 chr10   11472000  11474000\n",
       "3 chr10  120420000 120430000 chr10  120600000 120610000\n",
       "4 chr10   67885000  67890000 chr10   69315000  69320000\n",
       "5 chr10   67885000  67890000 chr10   69315000  69320000\n",
       "6 chr10  110300000 110310000 chr10  112310000 112320000\n",
       "  LoopA                     LoopB                     LengthA LengthB Distance\n",
       "1 chr10:11412000-11414000   chr10:11472000-11474000    2000    2000     60000 \n",
       "2 chr10:11412000-11414000   chr10:11472000-11474000    2000    2000     60000 \n",
       "3 chr10:120420000-120430000 chr10:120600000-120610000 10000   10000    180000 \n",
       "4 chr10:67885000-67890000   chr10:69315000-69320000    5000    5000   1430000 \n",
       "5 chr10:67885000-67890000   chr10:69315000-69320000    5000    5000   1430000 \n",
       "6 chr10:110300000-110310000 chr10:112310000-112320000 10000   10000   2010000 \n",
       "  HiC                    Edge                                               \n",
       "1 hic_intact_ENCSR479XDG chr10:11412000-11414000|chr10:11472000-11474000    \n",
       "2 hic_intact_ENCSR479XDG chr10:11412000-11414000|chr10:11472000-11474000    \n",
       "3 hic_intact_ENCSR479XDG chr10:120420000-120430000|chr10:120600000-120610000\n",
       "4 hic_intact_ENCSR479XDG chr10:67885000-67890000|chr10:69315000-69320000    \n",
       "5 hic_intact_ENCSR479XDG chr10:67885000-67890000|chr10:69315000-69320000    \n",
       "6 hic_intact_ENCSR479XDG chr10:110300000-110310000|chr10:112310000-112320000\n",
       "  LabelA                       NodeA                    \n",
       "1 hic_intact_ENCSR479XDG.loopA chr10:11412050-11413031  \n",
       "2 hic_intact_ENCSR479XDG.loopA chr10:11412050-11413031  \n",
       "3 hic_intact_ENCSR479XDG.loopA chr10:120423274-120423638\n",
       "4 hic_intact_ENCSR479XDG.loopA chr10:67885989-67886387  \n",
       "5 hic_intact_ENCSR479XDG.loopA chr10:67885989-67886387  \n",
       "6 hic_intact_ENCSR479XDG.loopA chr10:110304321-110305606\n",
       "  LabelB                       NodeB                    \n",
       "1 hic_intact_ENCSR479XDG.loopB chr10:11471940-11472592  \n",
       "2 hic_intact_ENCSR479XDG.loopB chr10:11473227-11473648  \n",
       "3 hic_intact_ENCSR479XDG.loopB chr10:120600849-120601348\n",
       "4 hic_intact_ENCSR479XDG.loopB chr10:69315429-69316171  \n",
       "5 hic_intact_ENCSR479XDG.loopB chr10:69317164-69319347  \n",
       "6 hic_intact_ENCSR479XDG.loopB chr10:112313241-112313740"
      ]
     },
     "metadata": {},
     "output_type": "display_data"
    }
   ],
   "source": [
    "###\n",
    "lst = lst_edge\n",
    "dat_loop = lst[[\"hic_intact_ENCSR479XDG\"]]\n",
    "\n",
    "lst = lst_loop_ocr\n",
    "dat_loopA = lst[[\"hic_intact_ENCSR479XDG.loopA\"]]\n",
    "dat_loopB = lst[[\"hic_intact_ENCSR479XDG.loopB\"]]\n",
    "\n",
    "###\n",
    "dat_loopA = dat_loopA %>% \n",
    "    dplyr::rename(\n",
    "        LabelA = Label,\n",
    "        LoopA  = Region_Loop,\n",
    "        NodeA  = Region_Annot\n",
    "    )\n",
    "\n",
    "dat_loopB = dat_loopB %>% \n",
    "    dplyr::rename(\n",
    "        LabelB = Label,\n",
    "        LoopB  = Region_Loop,\n",
    "        NodeB  = Region_Annot\n",
    "    )\n",
    "\n",
    "###\n",
    "dat_edge = dat_loop\n",
    "dat_edge = dat_edge %>% dplyr::left_join(dat_loopA, by = \"LoopA\", relationship = \"many-to-many\") %>% na.omit\n",
    "dat_edge = dat_edge %>% dplyr::left_join(dat_loopB, by = \"LoopB\", relationship = \"many-to-many\") %>% na.omit\n",
    "dat_node = data.frame(Node = unique(c(dat_edge$NodeA, dat_edge$NodeB)))\n",
    "\n",
    "### assign and show\n",
    "cat(\"Check Edge Label A:\", unique(dat_edge$LabelA), \"\\n\")\n",
    "cat(\"Check Edge Label B:\", unique(dat_edge$LabelB), \"\\n\")\n",
    "cat(\"#Loop (Total):     \", nrow(dat_loop), \"\\n\")\n",
    "cat(\"#Loop (Total):     \", length(unique(dat_loop$Edge)), \"\\n\")\n",
    "cat(\"#Link (OCR):       \", nrow(dat_edge), \"\\n\")\n",
    "cat(\"#Edge (OCR):       \", length(unique(dat_edge$Edge)), \"\\n\")\n",
    "cat(\"#Node (OCR):       \", nrow(dat_node), \"\\n\")\n",
    "\n",
    "dat_node_hic_intact_ENCSR479XDG = dat_node\n",
    "dat_edge_hic_intact_ENCSR479XDG = dat_edge\n",
    "head(dat_edge)"
   ]
  },
  {
   "cell_type": "markdown",
   "metadata": {},
   "source": [
    "**hic_intact_deep**"
   ]
  },
  {
   "cell_type": "code",
   "execution_count": 64,
   "metadata": {},
   "outputs": [
    {
     "name": "stdout",
     "output_type": "stream",
     "text": [
      "Check Edge Label A: hic_intact_deep.loopA \n",
      "Check Edge Label B: hic_intact_deep.loopB \n",
      "#Loop (Total):      128714 \n",
      "#Loop (Total):      128714 \n",
      "#Link (OCR):        84150 \n",
      "#Edge (OCR):        61832 \n",
      "#Node (OCR):        49673 \n"
     ]
    },
    {
     "data": {
      "text/html": [
       "<table class=\"dataframe\">\n",
       "<caption>A tibble: 6 × 17</caption>\n",
       "<thead>\n",
       "\t<tr><th scope=col>Chrom1</th><th scope=col>Start1</th><th scope=col>End1</th><th scope=col>Chrom2</th><th scope=col>Start2</th><th scope=col>End2</th><th scope=col>LoopA</th><th scope=col>LoopB</th><th scope=col>LengthA</th><th scope=col>LengthB</th><th scope=col>Distance</th><th scope=col>HiC</th><th scope=col>Edge</th><th scope=col>LabelA</th><th scope=col>NodeA</th><th scope=col>LabelB</th><th scope=col>NodeB</th></tr>\n",
       "\t<tr><th scope=col>&lt;chr&gt;</th><th scope=col>&lt;dbl&gt;</th><th scope=col>&lt;dbl&gt;</th><th scope=col>&lt;chr&gt;</th><th scope=col>&lt;dbl&gt;</th><th scope=col>&lt;dbl&gt;</th><th scope=col>&lt;chr&gt;</th><th scope=col>&lt;chr&gt;</th><th scope=col>&lt;dbl&gt;</th><th scope=col>&lt;dbl&gt;</th><th scope=col>&lt;dbl&gt;</th><th scope=col>&lt;chr&gt;</th><th scope=col>&lt;chr&gt;</th><th scope=col>&lt;chr&gt;</th><th scope=col>&lt;chr&gt;</th><th scope=col>&lt;chr&gt;</th><th scope=col>&lt;chr&gt;</th></tr>\n",
       "</thead>\n",
       "<tbody>\n",
       "\t<tr><td>chr10</td><td>72223000</td><td>72224000</td><td>chr10</td><td>72328000</td><td>72329000</td><td>chr10:72223000-72224000</td><td>chr10:72328000-72329000</td><td>1000</td><td>1000</td><td> 105000</td><td>hic_intact_deep</td><td>chr10:72223000-72224000|chr10:72328000-72329000</td><td>hic_intact_deep.loopA</td><td>chr10:72222974-72223526</td><td>hic_intact_deep.loopB</td><td>chr10:72328024-72329889</td></tr>\n",
       "\t<tr><td>chr10</td><td>64041000</td><td>64042000</td><td>chr10</td><td>67697000</td><td>67698000</td><td>chr10:64041000-64042000</td><td>chr10:67697000-67698000</td><td>1000</td><td>1000</td><td>3656000</td><td>hic_intact_deep</td><td>chr10:64041000-64042000|chr10:67697000-67698000</td><td>hic_intact_deep.loopA</td><td>chr10:64041063-64042467</td><td>hic_intact_deep.loopB</td><td>chr10:67697784-67698056</td></tr>\n",
       "\t<tr><td>chr10</td><td>78302000</td><td>78304000</td><td>chr10</td><td>79194000</td><td>79196000</td><td>chr10:78302000-78304000</td><td>chr10:79194000-79196000</td><td>2000</td><td>2000</td><td> 892000</td><td>hic_intact_deep</td><td>chr10:78302000-78304000|chr10:79194000-79196000</td><td>hic_intact_deep.loopA</td><td>chr10:78302868-78304016</td><td>hic_intact_deep.loopB</td><td>chr10:79195028-79196033</td></tr>\n",
       "\t<tr><td>chr10</td><td>94362000</td><td>94363000</td><td>chr10</td><td>94444000</td><td>94445000</td><td>chr10:94362000-94363000</td><td>chr10:94444000-94445000</td><td>1000</td><td>1000</td><td>  82000</td><td>hic_intact_deep</td><td>chr10:94362000-94363000|chr10:94444000-94445000</td><td>hic_intact_deep.loopA</td><td>chr10:94362154-94363449</td><td>hic_intact_deep.loopB</td><td>chr10:94444393-94444687</td></tr>\n",
       "\t<tr><td>chr10</td><td>11780000</td><td>11785000</td><td>chr10</td><td>12710000</td><td>12715000</td><td>chr10:11780000-11785000</td><td>chr10:12710000-12715000</td><td>5000</td><td>5000</td><td> 930000</td><td>hic_intact_deep</td><td>chr10:11780000-11785000|chr10:12710000-12715000</td><td>hic_intact_deep.loopA</td><td>chr10:11780611-11781410</td><td>hic_intact_deep.loopB</td><td>chr10:12710834-12711579</td></tr>\n",
       "\t<tr><td>chr10</td><td>11780000</td><td>11785000</td><td>chr10</td><td>12710000</td><td>12715000</td><td>chr10:11780000-11785000</td><td>chr10:12710000-12715000</td><td>5000</td><td>5000</td><td> 930000</td><td>hic_intact_deep</td><td>chr10:11780000-11785000|chr10:12710000-12715000</td><td>hic_intact_deep.loopA</td><td>chr10:11780611-11781410</td><td>hic_intact_deep.loopB</td><td>chr10:12712881-12713104</td></tr>\n",
       "</tbody>\n",
       "</table>\n"
      ],
      "text/latex": [
       "A tibble: 6 × 17\n",
       "\\begin{tabular}{lllllllllllllllll}\n",
       " Chrom1 & Start1 & End1 & Chrom2 & Start2 & End2 & LoopA & LoopB & LengthA & LengthB & Distance & HiC & Edge & LabelA & NodeA & LabelB & NodeB\\\\\n",
       " <chr> & <dbl> & <dbl> & <chr> & <dbl> & <dbl> & <chr> & <chr> & <dbl> & <dbl> & <dbl> & <chr> & <chr> & <chr> & <chr> & <chr> & <chr>\\\\\n",
       "\\hline\n",
       "\t chr10 & 72223000 & 72224000 & chr10 & 72328000 & 72329000 & chr10:72223000-72224000 & chr10:72328000-72329000 & 1000 & 1000 &  105000 & hic\\_intact\\_deep & chr10:72223000-72224000\\textbar{}chr10:72328000-72329000 & hic\\_intact\\_deep.loopA & chr10:72222974-72223526 & hic\\_intact\\_deep.loopB & chr10:72328024-72329889\\\\\n",
       "\t chr10 & 64041000 & 64042000 & chr10 & 67697000 & 67698000 & chr10:64041000-64042000 & chr10:67697000-67698000 & 1000 & 1000 & 3656000 & hic\\_intact\\_deep & chr10:64041000-64042000\\textbar{}chr10:67697000-67698000 & hic\\_intact\\_deep.loopA & chr10:64041063-64042467 & hic\\_intact\\_deep.loopB & chr10:67697784-67698056\\\\\n",
       "\t chr10 & 78302000 & 78304000 & chr10 & 79194000 & 79196000 & chr10:78302000-78304000 & chr10:79194000-79196000 & 2000 & 2000 &  892000 & hic\\_intact\\_deep & chr10:78302000-78304000\\textbar{}chr10:79194000-79196000 & hic\\_intact\\_deep.loopA & chr10:78302868-78304016 & hic\\_intact\\_deep.loopB & chr10:79195028-79196033\\\\\n",
       "\t chr10 & 94362000 & 94363000 & chr10 & 94444000 & 94445000 & chr10:94362000-94363000 & chr10:94444000-94445000 & 1000 & 1000 &   82000 & hic\\_intact\\_deep & chr10:94362000-94363000\\textbar{}chr10:94444000-94445000 & hic\\_intact\\_deep.loopA & chr10:94362154-94363449 & hic\\_intact\\_deep.loopB & chr10:94444393-94444687\\\\\n",
       "\t chr10 & 11780000 & 11785000 & chr10 & 12710000 & 12715000 & chr10:11780000-11785000 & chr10:12710000-12715000 & 5000 & 5000 &  930000 & hic\\_intact\\_deep & chr10:11780000-11785000\\textbar{}chr10:12710000-12715000 & hic\\_intact\\_deep.loopA & chr10:11780611-11781410 & hic\\_intact\\_deep.loopB & chr10:12710834-12711579\\\\\n",
       "\t chr10 & 11780000 & 11785000 & chr10 & 12710000 & 12715000 & chr10:11780000-11785000 & chr10:12710000-12715000 & 5000 & 5000 &  930000 & hic\\_intact\\_deep & chr10:11780000-11785000\\textbar{}chr10:12710000-12715000 & hic\\_intact\\_deep.loopA & chr10:11780611-11781410 & hic\\_intact\\_deep.loopB & chr10:12712881-12713104\\\\\n",
       "\\end{tabular}\n"
      ],
      "text/markdown": [
       "\n",
       "A tibble: 6 × 17\n",
       "\n",
       "| Chrom1 &lt;chr&gt; | Start1 &lt;dbl&gt; | End1 &lt;dbl&gt; | Chrom2 &lt;chr&gt; | Start2 &lt;dbl&gt; | End2 &lt;dbl&gt; | LoopA &lt;chr&gt; | LoopB &lt;chr&gt; | LengthA &lt;dbl&gt; | LengthB &lt;dbl&gt; | Distance &lt;dbl&gt; | HiC &lt;chr&gt; | Edge &lt;chr&gt; | LabelA &lt;chr&gt; | NodeA &lt;chr&gt; | LabelB &lt;chr&gt; | NodeB &lt;chr&gt; |\n",
       "|---|---|---|---|---|---|---|---|---|---|---|---|---|---|---|---|---|\n",
       "| chr10 | 72223000 | 72224000 | chr10 | 72328000 | 72329000 | chr10:72223000-72224000 | chr10:72328000-72329000 | 1000 | 1000 |  105000 | hic_intact_deep | chr10:72223000-72224000|chr10:72328000-72329000 | hic_intact_deep.loopA | chr10:72222974-72223526 | hic_intact_deep.loopB | chr10:72328024-72329889 |\n",
       "| chr10 | 64041000 | 64042000 | chr10 | 67697000 | 67698000 | chr10:64041000-64042000 | chr10:67697000-67698000 | 1000 | 1000 | 3656000 | hic_intact_deep | chr10:64041000-64042000|chr10:67697000-67698000 | hic_intact_deep.loopA | chr10:64041063-64042467 | hic_intact_deep.loopB | chr10:67697784-67698056 |\n",
       "| chr10 | 78302000 | 78304000 | chr10 | 79194000 | 79196000 | chr10:78302000-78304000 | chr10:79194000-79196000 | 2000 | 2000 |  892000 | hic_intact_deep | chr10:78302000-78304000|chr10:79194000-79196000 | hic_intact_deep.loopA | chr10:78302868-78304016 | hic_intact_deep.loopB | chr10:79195028-79196033 |\n",
       "| chr10 | 94362000 | 94363000 | chr10 | 94444000 | 94445000 | chr10:94362000-94363000 | chr10:94444000-94445000 | 1000 | 1000 |   82000 | hic_intact_deep | chr10:94362000-94363000|chr10:94444000-94445000 | hic_intact_deep.loopA | chr10:94362154-94363449 | hic_intact_deep.loopB | chr10:94444393-94444687 |\n",
       "| chr10 | 11780000 | 11785000 | chr10 | 12710000 | 12715000 | chr10:11780000-11785000 | chr10:12710000-12715000 | 5000 | 5000 |  930000 | hic_intact_deep | chr10:11780000-11785000|chr10:12710000-12715000 | hic_intact_deep.loopA | chr10:11780611-11781410 | hic_intact_deep.loopB | chr10:12710834-12711579 |\n",
       "| chr10 | 11780000 | 11785000 | chr10 | 12710000 | 12715000 | chr10:11780000-11785000 | chr10:12710000-12715000 | 5000 | 5000 |  930000 | hic_intact_deep | chr10:11780000-11785000|chr10:12710000-12715000 | hic_intact_deep.loopA | chr10:11780611-11781410 | hic_intact_deep.loopB | chr10:12712881-12713104 |\n",
       "\n"
      ],
      "text/plain": [
       "  Chrom1 Start1   End1     Chrom2 Start2   End2     LoopA                  \n",
       "1 chr10  72223000 72224000 chr10  72328000 72329000 chr10:72223000-72224000\n",
       "2 chr10  64041000 64042000 chr10  67697000 67698000 chr10:64041000-64042000\n",
       "3 chr10  78302000 78304000 chr10  79194000 79196000 chr10:78302000-78304000\n",
       "4 chr10  94362000 94363000 chr10  94444000 94445000 chr10:94362000-94363000\n",
       "5 chr10  11780000 11785000 chr10  12710000 12715000 chr10:11780000-11785000\n",
       "6 chr10  11780000 11785000 chr10  12710000 12715000 chr10:11780000-11785000\n",
       "  LoopB                   LengthA LengthB Distance HiC            \n",
       "1 chr10:72328000-72329000 1000    1000     105000  hic_intact_deep\n",
       "2 chr10:67697000-67698000 1000    1000    3656000  hic_intact_deep\n",
       "3 chr10:79194000-79196000 2000    2000     892000  hic_intact_deep\n",
       "4 chr10:94444000-94445000 1000    1000      82000  hic_intact_deep\n",
       "5 chr10:12710000-12715000 5000    5000     930000  hic_intact_deep\n",
       "6 chr10:12710000-12715000 5000    5000     930000  hic_intact_deep\n",
       "  Edge                                            LabelA               \n",
       "1 chr10:72223000-72224000|chr10:72328000-72329000 hic_intact_deep.loopA\n",
       "2 chr10:64041000-64042000|chr10:67697000-67698000 hic_intact_deep.loopA\n",
       "3 chr10:78302000-78304000|chr10:79194000-79196000 hic_intact_deep.loopA\n",
       "4 chr10:94362000-94363000|chr10:94444000-94445000 hic_intact_deep.loopA\n",
       "5 chr10:11780000-11785000|chr10:12710000-12715000 hic_intact_deep.loopA\n",
       "6 chr10:11780000-11785000|chr10:12710000-12715000 hic_intact_deep.loopA\n",
       "  NodeA                   LabelB                NodeB                  \n",
       "1 chr10:72222974-72223526 hic_intact_deep.loopB chr10:72328024-72329889\n",
       "2 chr10:64041063-64042467 hic_intact_deep.loopB chr10:67697784-67698056\n",
       "3 chr10:78302868-78304016 hic_intact_deep.loopB chr10:79195028-79196033\n",
       "4 chr10:94362154-94363449 hic_intact_deep.loopB chr10:94444393-94444687\n",
       "5 chr10:11780611-11781410 hic_intact_deep.loopB chr10:12710834-12711579\n",
       "6 chr10:11780611-11781410 hic_intact_deep.loopB chr10:12712881-12713104"
      ]
     },
     "metadata": {},
     "output_type": "display_data"
    }
   ],
   "source": [
    "###\n",
    "lst = lst_edge\n",
    "dat_loop = lst[[\"hic_intact_deep\"]]\n",
    "\n",
    "lst = lst_loop_ocr\n",
    "dat_loopA = lst[[\"hic_intact_deep.loopA\"]]\n",
    "dat_loopB = lst[[\"hic_intact_deep.loopB\"]]\n",
    "\n",
    "###\n",
    "dat_loopA = dat_loopA %>% \n",
    "    dplyr::rename(\n",
    "        LabelA = Label,\n",
    "        LoopA  = Region_Loop,\n",
    "        NodeA  = Region_Annot\n",
    "    )\n",
    "\n",
    "dat_loopB = dat_loopB %>% \n",
    "    dplyr::rename(\n",
    "        LabelB = Label,\n",
    "        LoopB  = Region_Loop,\n",
    "        NodeB  = Region_Annot\n",
    "    )\n",
    "\n",
    "###\n",
    "dat_edge = dat_loop\n",
    "dat_edge = dat_edge %>% dplyr::left_join(dat_loopA, by = \"LoopA\", relationship = \"many-to-many\") %>% na.omit\n",
    "dat_edge = dat_edge %>% dplyr::left_join(dat_loopB, by = \"LoopB\", relationship = \"many-to-many\") %>% na.omit\n",
    "dat_node = data.frame(Node = unique(c(dat_edge$NodeA, dat_edge$NodeB)))\n",
    "\n",
    "### assign and show\n",
    "cat(\"Check Edge Label A:\", unique(dat_edge$LabelA), \"\\n\")\n",
    "cat(\"Check Edge Label B:\", unique(dat_edge$LabelB), \"\\n\")\n",
    "cat(\"#Loop (Total):     \", nrow(dat_loop), \"\\n\")\n",
    "cat(\"#Loop (Total):     \", length(unique(dat_loop$Edge)), \"\\n\")\n",
    "cat(\"#Link (OCR):       \", nrow(dat_edge), \"\\n\")\n",
    "cat(\"#Edge (OCR):       \", length(unique(dat_edge$Edge)), \"\\n\")\n",
    "cat(\"#Node (OCR):       \", nrow(dat_node), \"\\n\")\n",
    "\n",
    "### assign and show\n",
    "dat_node_hic_intact_deep = dat_node\n",
    "dat_edge_hic_intact_deep = dat_edge\n",
    "head(dat_edge)"
   ]
  },
  {
   "cell_type": "markdown",
   "metadata": {},
   "source": [
    "**Combine**"
   ]
  },
  {
   "cell_type": "code",
   "execution_count": 65,
   "metadata": {},
   "outputs": [],
   "source": [
    "lst_dat_node = list(\n",
    "    \"hic_intact_ENCSR479XDG\" = dat_node_hic_intact_ENCSR479XDG,\n",
    "    \"hic_intact_deep\"        = dat_node_hic_intact_deep\n",
    ")\n",
    "\n",
    "lst_dat_edge = list(\n",
    "    \"hic_intact_ENCSR479XDG\" = dat_edge_hic_intact_ENCSR479XDG,\n",
    "    \"hic_intact_deep\"        = dat_edge_hic_intact_deep\n",
    ")"
   ]
  },
  {
   "cell_type": "markdown",
   "metadata": {},
   "source": [
    "## Arrange data"
   ]
  },
  {
   "cell_type": "code",
   "execution_count": 81,
   "metadata": {},
   "outputs": [
    {
     "data": {
      "text/html": [
       "<table class=\"dataframe\">\n",
       "<caption>A data.frame: 6 × 1</caption>\n",
       "<thead>\n",
       "\t<tr><th></th><th scope=col>Node</th></tr>\n",
       "\t<tr><th></th><th scope=col>&lt;chr&gt;</th></tr>\n",
       "</thead>\n",
       "<tbody>\n",
       "\t<tr><th scope=row>1</th><td>chr10:11412050-11413031  </td></tr>\n",
       "\t<tr><th scope=row>2</th><td>chr10:120423274-120423638</td></tr>\n",
       "\t<tr><th scope=row>3</th><td>chr10:67885989-67886387  </td></tr>\n",
       "\t<tr><th scope=row>4</th><td>chr10:110304321-110305606</td></tr>\n",
       "\t<tr><th scope=row>5</th><td>chr10:110306041-110306427</td></tr>\n",
       "\t<tr><th scope=row>6</th><td>chr10:14837541-14839476  </td></tr>\n",
       "</tbody>\n",
       "</table>\n"
      ],
      "text/latex": [
       "A data.frame: 6 × 1\n",
       "\\begin{tabular}{r|l}\n",
       "  & Node\\\\\n",
       "  & <chr>\\\\\n",
       "\\hline\n",
       "\t1 & chr10:11412050-11413031  \\\\\n",
       "\t2 & chr10:120423274-120423638\\\\\n",
       "\t3 & chr10:67885989-67886387  \\\\\n",
       "\t4 & chr10:110304321-110305606\\\\\n",
       "\t5 & chr10:110306041-110306427\\\\\n",
       "\t6 & chr10:14837541-14839476  \\\\\n",
       "\\end{tabular}\n"
      ],
      "text/markdown": [
       "\n",
       "A data.frame: 6 × 1\n",
       "\n",
       "| <!--/--> | Node &lt;chr&gt; |\n",
       "|---|---|\n",
       "| 1 | chr10:11412050-11413031   |\n",
       "| 2 | chr10:120423274-120423638 |\n",
       "| 3 | chr10:67885989-67886387   |\n",
       "| 4 | chr10:110304321-110305606 |\n",
       "| 5 | chr10:110306041-110306427 |\n",
       "| 6 | chr10:14837541-14839476   |\n",
       "\n"
      ],
      "text/plain": [
       "  Node                     \n",
       "1 chr10:11412050-11413031  \n",
       "2 chr10:120423274-120423638\n",
       "3 chr10:67885989-67886387  \n",
       "4 chr10:110304321-110305606\n",
       "5 chr10:110306041-110306427\n",
       "6 chr10:14837541-14839476  "
      ]
     },
     "metadata": {},
     "output_type": "display_data"
    }
   ],
   "source": [
    "head(dat_node_hic_intact_ENCSR479XDG)"
   ]
  },
  {
   "cell_type": "code",
   "execution_count": 91,
   "metadata": {},
   "outputs": [
    {
     "name": "stdout",
     "output_type": "stream",
     "text": [
      "[1] \"hic_intact_ENCSR479XDG\" \"hic_intact_deep\"       \n",
      "[1] 42110     4\n",
      "[1] 49673     4\n"
     ]
    }
   ],
   "source": [
    "lst = lst_dat_node\n",
    "lst = lapply(lst, function(dat){\n",
    "    dat = dat %>% \n",
    "        tidyr::separate(Node, c(\"Chrom\", \"Start\", \"End\"), remove = FALSE) %>%\n",
    "        dplyr::distinct() %>%\n",
    "        dplyr::arrange(Chrom, Start, End)\n",
    "    return(dat)\n",
    "})\n",
    "\n",
    "lst_dat_node_arrange = lst\n",
    "print(names(lst))\n",
    "print(dim(lst[[1]]))\n",
    "print(dim(lst[[2]]))"
   ]
  },
  {
   "cell_type": "code",
   "execution_count": 86,
   "metadata": {},
   "outputs": [
    {
     "data": {
      "text/html": [
       "<table class=\"dataframe\">\n",
       "<caption>A data.frame: 3 × 4</caption>\n",
       "<thead>\n",
       "\t<tr><th></th><th scope=col>Node</th><th scope=col>Chrom</th><th scope=col>Start</th><th scope=col>End</th></tr>\n",
       "\t<tr><th></th><th scope=col>&lt;chr&gt;</th><th scope=col>&lt;chr&gt;</th><th scope=col>&lt;chr&gt;</th><th scope=col>&lt;chr&gt;</th></tr>\n",
       "</thead>\n",
       "<tbody>\n",
       "\t<tr><th scope=row>1</th><td>chr1:100036871-100039191</td><td>chr1</td><td>100036871</td><td>100039191</td></tr>\n",
       "\t<tr><th scope=row>2</th><td>chr1:100044617-100044899</td><td>chr1</td><td>100044617</td><td>100044899</td></tr>\n",
       "\t<tr><th scope=row>3</th><td>chr1:100046250-100046578</td><td>chr1</td><td>100046250</td><td>100046578</td></tr>\n",
       "</tbody>\n",
       "</table>\n"
      ],
      "text/latex": [
       "A data.frame: 3 × 4\n",
       "\\begin{tabular}{r|llll}\n",
       "  & Node & Chrom & Start & End\\\\\n",
       "  & <chr> & <chr> & <chr> & <chr>\\\\\n",
       "\\hline\n",
       "\t1 & chr1:100036871-100039191 & chr1 & 100036871 & 100039191\\\\\n",
       "\t2 & chr1:100044617-100044899 & chr1 & 100044617 & 100044899\\\\\n",
       "\t3 & chr1:100046250-100046578 & chr1 & 100046250 & 100046578\\\\\n",
       "\\end{tabular}\n"
      ],
      "text/markdown": [
       "\n",
       "A data.frame: 3 × 4\n",
       "\n",
       "| <!--/--> | Node &lt;chr&gt; | Chrom &lt;chr&gt; | Start &lt;chr&gt; | End &lt;chr&gt; |\n",
       "|---|---|---|---|---|\n",
       "| 1 | chr1:100036871-100039191 | chr1 | 100036871 | 100039191 |\n",
       "| 2 | chr1:100044617-100044899 | chr1 | 100044617 | 100044899 |\n",
       "| 3 | chr1:100046250-100046578 | chr1 | 100046250 | 100046578 |\n",
       "\n"
      ],
      "text/plain": [
       "  Node                     Chrom Start     End      \n",
       "1 chr1:100036871-100039191 chr1  100036871 100039191\n",
       "2 chr1:100044617-100044899 chr1  100044617 100044899\n",
       "3 chr1:100046250-100046578 chr1  100046250 100046578"
      ]
     },
     "metadata": {},
     "output_type": "display_data"
    }
   ],
   "source": [
    "lst = lst_dat_node_arrange\n",
    "head(lst[[1]], 3)"
   ]
  },
  {
   "cell_type": "code",
   "execution_count": 87,
   "metadata": {},
   "outputs": [
    {
     "data": {
      "text/html": [
       "<table class=\"dataframe\">\n",
       "<caption>A data.frame: 3 × 4</caption>\n",
       "<thead>\n",
       "\t<tr><th></th><th scope=col>Node</th><th scope=col>Chrom</th><th scope=col>Start</th><th scope=col>End</th></tr>\n",
       "\t<tr><th></th><th scope=col>&lt;chr&gt;</th><th scope=col>&lt;chr&gt;</th><th scope=col>&lt;chr&gt;</th><th scope=col>&lt;chr&gt;</th></tr>\n",
       "</thead>\n",
       "<tbody>\n",
       "\t<tr><th scope=row>1</th><td>chr1:100036871-100039191</td><td>chr1</td><td>100036871</td><td>100039191</td></tr>\n",
       "\t<tr><th scope=row>2</th><td>chr1:100071829-100072904</td><td>chr1</td><td>100071829</td><td>100072904</td></tr>\n",
       "\t<tr><th scope=row>3</th><td>chr1:100074313-100074743</td><td>chr1</td><td>100074313</td><td>100074743</td></tr>\n",
       "</tbody>\n",
       "</table>\n"
      ],
      "text/latex": [
       "A data.frame: 3 × 4\n",
       "\\begin{tabular}{r|llll}\n",
       "  & Node & Chrom & Start & End\\\\\n",
       "  & <chr> & <chr> & <chr> & <chr>\\\\\n",
       "\\hline\n",
       "\t1 & chr1:100036871-100039191 & chr1 & 100036871 & 100039191\\\\\n",
       "\t2 & chr1:100071829-100072904 & chr1 & 100071829 & 100072904\\\\\n",
       "\t3 & chr1:100074313-100074743 & chr1 & 100074313 & 100074743\\\\\n",
       "\\end{tabular}\n"
      ],
      "text/markdown": [
       "\n",
       "A data.frame: 3 × 4\n",
       "\n",
       "| <!--/--> | Node &lt;chr&gt; | Chrom &lt;chr&gt; | Start &lt;chr&gt; | End &lt;chr&gt; |\n",
       "|---|---|---|---|---|\n",
       "| 1 | chr1:100036871-100039191 | chr1 | 100036871 | 100039191 |\n",
       "| 2 | chr1:100071829-100072904 | chr1 | 100071829 | 100072904 |\n",
       "| 3 | chr1:100074313-100074743 | chr1 | 100074313 | 100074743 |\n",
       "\n"
      ],
      "text/plain": [
       "  Node                     Chrom Start     End      \n",
       "1 chr1:100036871-100039191 chr1  100036871 100039191\n",
       "2 chr1:100071829-100072904 chr1  100071829 100072904\n",
       "3 chr1:100074313-100074743 chr1  100074313 100074743"
      ]
     },
     "metadata": {},
     "output_type": "display_data"
    }
   ],
   "source": [
    "lst = lst_dat_node_arrange\n",
    "head(lst[[2]], 3)"
   ]
  },
  {
   "cell_type": "code",
   "execution_count": 88,
   "metadata": {},
   "outputs": [
    {
     "name": "stdout",
     "output_type": "stream",
     "text": [
      "[1] \"hic_intact_ENCSR479XDG\" \"hic_intact_deep\"       \n",
      "[1] 53964    15\n",
      "[1] 84150    15\n"
     ]
    }
   ],
   "source": [
    "lst = lst_dat_edge\n",
    "lst = lapply(lst, function(dat){\n",
    "    vec = c(\n",
    "        \"NodeA\",  \"NodeB\",   \"Edge\",\n",
    "        \"Chrom1\",  \"Start1\", \"End1\", \n",
    "        \"Chrom2\",  \"Start2\", \"End2\", \n",
    "        \"LoopA\",   \"LoopB\", \n",
    "        \"LengthA\", \"LengthB\",\n",
    "        \"Distance\",\n",
    "        \"HiC\"\n",
    "    )\n",
    "    \n",
    "    dat = dat %>% \n",
    "        dplyr::select({{vec}}) %>% \n",
    "        dplyr::arrange(Chrom1, Start1, End1, Chrom2, Start2, End2)\n",
    "    \n",
    "    return(dat)\n",
    "})\n",
    "\n",
    "lst_dat_edge_arrange = lst\n",
    "print(names(lst))\n",
    "print(dim(lst[[1]]))\n",
    "print(dim(lst[[2]]))"
   ]
  },
  {
   "cell_type": "code",
   "execution_count": 89,
   "metadata": {},
   "outputs": [
    {
     "data": {
      "text/html": [
       "<table class=\"dataframe\">\n",
       "<caption>A tibble: 3 × 15</caption>\n",
       "<thead>\n",
       "\t<tr><th scope=col>NodeA</th><th scope=col>NodeB</th><th scope=col>Edge</th><th scope=col>Chrom1</th><th scope=col>Start1</th><th scope=col>End1</th><th scope=col>Chrom2</th><th scope=col>Start2</th><th scope=col>End2</th><th scope=col>LoopA</th><th scope=col>LoopB</th><th scope=col>LengthA</th><th scope=col>LengthB</th><th scope=col>Distance</th><th scope=col>HiC</th></tr>\n",
       "\t<tr><th scope=col>&lt;chr&gt;</th><th scope=col>&lt;chr&gt;</th><th scope=col>&lt;chr&gt;</th><th scope=col>&lt;chr&gt;</th><th scope=col>&lt;dbl&gt;</th><th scope=col>&lt;dbl&gt;</th><th scope=col>&lt;chr&gt;</th><th scope=col>&lt;dbl&gt;</th><th scope=col>&lt;dbl&gt;</th><th scope=col>&lt;chr&gt;</th><th scope=col>&lt;chr&gt;</th><th scope=col>&lt;dbl&gt;</th><th scope=col>&lt;dbl&gt;</th><th scope=col>&lt;dbl&gt;</th><th scope=col>&lt;chr&gt;</th></tr>\n",
       "</thead>\n",
       "<tbody>\n",
       "\t<tr><td>chr1:770944-771343</td><td>chr1:841328-842007</td><td>chr1:770000-780000|chr1:840000-850000</td><td>chr1</td><td>770000</td><td>780000</td><td>chr1</td><td>840000</td><td>850000</td><td>chr1:770000-780000</td><td>chr1:840000-850000</td><td>10000</td><td>10000</td><td>70000</td><td>hic_intact_ENCSR479XDG</td></tr>\n",
       "\t<tr><td>chr1:770944-771343</td><td>chr1:842480-843449</td><td>chr1:770000-780000|chr1:840000-850000</td><td>chr1</td><td>770000</td><td>780000</td><td>chr1</td><td>840000</td><td>850000</td><td>chr1:770000-780000</td><td>chr1:840000-850000</td><td>10000</td><td>10000</td><td>70000</td><td>hic_intact_ENCSR479XDG</td></tr>\n",
       "\t<tr><td>chr1:777949-779437</td><td>chr1:841328-842007</td><td>chr1:770000-780000|chr1:840000-850000</td><td>chr1</td><td>770000</td><td>780000</td><td>chr1</td><td>840000</td><td>850000</td><td>chr1:770000-780000</td><td>chr1:840000-850000</td><td>10000</td><td>10000</td><td>70000</td><td>hic_intact_ENCSR479XDG</td></tr>\n",
       "</tbody>\n",
       "</table>\n"
      ],
      "text/latex": [
       "A tibble: 3 × 15\n",
       "\\begin{tabular}{lllllllllllllll}\n",
       " NodeA & NodeB & Edge & Chrom1 & Start1 & End1 & Chrom2 & Start2 & End2 & LoopA & LoopB & LengthA & LengthB & Distance & HiC\\\\\n",
       " <chr> & <chr> & <chr> & <chr> & <dbl> & <dbl> & <chr> & <dbl> & <dbl> & <chr> & <chr> & <dbl> & <dbl> & <dbl> & <chr>\\\\\n",
       "\\hline\n",
       "\t chr1:770944-771343 & chr1:841328-842007 & chr1:770000-780000\\textbar{}chr1:840000-850000 & chr1 & 770000 & 780000 & chr1 & 840000 & 850000 & chr1:770000-780000 & chr1:840000-850000 & 10000 & 10000 & 70000 & hic\\_intact\\_ENCSR479XDG\\\\\n",
       "\t chr1:770944-771343 & chr1:842480-843449 & chr1:770000-780000\\textbar{}chr1:840000-850000 & chr1 & 770000 & 780000 & chr1 & 840000 & 850000 & chr1:770000-780000 & chr1:840000-850000 & 10000 & 10000 & 70000 & hic\\_intact\\_ENCSR479XDG\\\\\n",
       "\t chr1:777949-779437 & chr1:841328-842007 & chr1:770000-780000\\textbar{}chr1:840000-850000 & chr1 & 770000 & 780000 & chr1 & 840000 & 850000 & chr1:770000-780000 & chr1:840000-850000 & 10000 & 10000 & 70000 & hic\\_intact\\_ENCSR479XDG\\\\\n",
       "\\end{tabular}\n"
      ],
      "text/markdown": [
       "\n",
       "A tibble: 3 × 15\n",
       "\n",
       "| NodeA &lt;chr&gt; | NodeB &lt;chr&gt; | Edge &lt;chr&gt; | Chrom1 &lt;chr&gt; | Start1 &lt;dbl&gt; | End1 &lt;dbl&gt; | Chrom2 &lt;chr&gt; | Start2 &lt;dbl&gt; | End2 &lt;dbl&gt; | LoopA &lt;chr&gt; | LoopB &lt;chr&gt; | LengthA &lt;dbl&gt; | LengthB &lt;dbl&gt; | Distance &lt;dbl&gt; | HiC &lt;chr&gt; |\n",
       "|---|---|---|---|---|---|---|---|---|---|---|---|---|---|---|\n",
       "| chr1:770944-771343 | chr1:841328-842007 | chr1:770000-780000|chr1:840000-850000 | chr1 | 770000 | 780000 | chr1 | 840000 | 850000 | chr1:770000-780000 | chr1:840000-850000 | 10000 | 10000 | 70000 | hic_intact_ENCSR479XDG |\n",
       "| chr1:770944-771343 | chr1:842480-843449 | chr1:770000-780000|chr1:840000-850000 | chr1 | 770000 | 780000 | chr1 | 840000 | 850000 | chr1:770000-780000 | chr1:840000-850000 | 10000 | 10000 | 70000 | hic_intact_ENCSR479XDG |\n",
       "| chr1:777949-779437 | chr1:841328-842007 | chr1:770000-780000|chr1:840000-850000 | chr1 | 770000 | 780000 | chr1 | 840000 | 850000 | chr1:770000-780000 | chr1:840000-850000 | 10000 | 10000 | 70000 | hic_intact_ENCSR479XDG |\n",
       "\n"
      ],
      "text/plain": [
       "  NodeA              NodeB              Edge                                 \n",
       "1 chr1:770944-771343 chr1:841328-842007 chr1:770000-780000|chr1:840000-850000\n",
       "2 chr1:770944-771343 chr1:842480-843449 chr1:770000-780000|chr1:840000-850000\n",
       "3 chr1:777949-779437 chr1:841328-842007 chr1:770000-780000|chr1:840000-850000\n",
       "  Chrom1 Start1 End1   Chrom2 Start2 End2   LoopA             \n",
       "1 chr1   770000 780000 chr1   840000 850000 chr1:770000-780000\n",
       "2 chr1   770000 780000 chr1   840000 850000 chr1:770000-780000\n",
       "3 chr1   770000 780000 chr1   840000 850000 chr1:770000-780000\n",
       "  LoopB              LengthA LengthB Distance HiC                   \n",
       "1 chr1:840000-850000 10000   10000   70000    hic_intact_ENCSR479XDG\n",
       "2 chr1:840000-850000 10000   10000   70000    hic_intact_ENCSR479XDG\n",
       "3 chr1:840000-850000 10000   10000   70000    hic_intact_ENCSR479XDG"
      ]
     },
     "metadata": {},
     "output_type": "display_data"
    }
   ],
   "source": [
    "lst = lst_dat_edge_arrange\n",
    "head(lst[[1]], 3)"
   ]
  },
  {
   "cell_type": "code",
   "execution_count": 90,
   "metadata": {},
   "outputs": [
    {
     "data": {
      "text/html": [
       "<table class=\"dataframe\">\n",
       "<caption>A tibble: 3 × 15</caption>\n",
       "<thead>\n",
       "\t<tr><th scope=col>NodeA</th><th scope=col>NodeB</th><th scope=col>Edge</th><th scope=col>Chrom1</th><th scope=col>Start1</th><th scope=col>End1</th><th scope=col>Chrom2</th><th scope=col>Start2</th><th scope=col>End2</th><th scope=col>LoopA</th><th scope=col>LoopB</th><th scope=col>LengthA</th><th scope=col>LengthB</th><th scope=col>Distance</th><th scope=col>HiC</th></tr>\n",
       "\t<tr><th scope=col>&lt;chr&gt;</th><th scope=col>&lt;chr&gt;</th><th scope=col>&lt;chr&gt;</th><th scope=col>&lt;chr&gt;</th><th scope=col>&lt;dbl&gt;</th><th scope=col>&lt;dbl&gt;</th><th scope=col>&lt;chr&gt;</th><th scope=col>&lt;dbl&gt;</th><th scope=col>&lt;dbl&gt;</th><th scope=col>&lt;chr&gt;</th><th scope=col>&lt;chr&gt;</th><th scope=col>&lt;dbl&gt;</th><th scope=col>&lt;dbl&gt;</th><th scope=col>&lt;dbl&gt;</th><th scope=col>&lt;chr&gt;</th></tr>\n",
       "</thead>\n",
       "<tbody>\n",
       "\t<tr><td>chr1:777949-779437</td><td>chr1:826754-828040</td><td>chr1:778000-779000|chr1:827000-828000</td><td>chr1</td><td>778000</td><td>779000</td><td>chr1</td><td>827000</td><td>828000</td><td>chr1:778000-779000</td><td>chr1:827000-828000</td><td>1000</td><td>1000</td><td>49000</td><td>hic_intact_deep</td></tr>\n",
       "\t<tr><td>chr1:873248-873781</td><td>chr1:935605-936252</td><td>chr1:870000-875000|chr1:935000-940000</td><td>chr1</td><td>870000</td><td>875000</td><td>chr1</td><td>935000</td><td>940000</td><td>chr1:870000-875000</td><td>chr1:935000-940000</td><td>5000</td><td>5000</td><td>65000</td><td>hic_intact_deep</td></tr>\n",
       "\t<tr><td>chr1:873248-873781</td><td>chr1:938228-938505</td><td>chr1:870000-875000|chr1:935000-940000</td><td>chr1</td><td>870000</td><td>875000</td><td>chr1</td><td>935000</td><td>940000</td><td>chr1:870000-875000</td><td>chr1:935000-940000</td><td>5000</td><td>5000</td><td>65000</td><td>hic_intact_deep</td></tr>\n",
       "</tbody>\n",
       "</table>\n"
      ],
      "text/latex": [
       "A tibble: 3 × 15\n",
       "\\begin{tabular}{lllllllllllllll}\n",
       " NodeA & NodeB & Edge & Chrom1 & Start1 & End1 & Chrom2 & Start2 & End2 & LoopA & LoopB & LengthA & LengthB & Distance & HiC\\\\\n",
       " <chr> & <chr> & <chr> & <chr> & <dbl> & <dbl> & <chr> & <dbl> & <dbl> & <chr> & <chr> & <dbl> & <dbl> & <dbl> & <chr>\\\\\n",
       "\\hline\n",
       "\t chr1:777949-779437 & chr1:826754-828040 & chr1:778000-779000\\textbar{}chr1:827000-828000 & chr1 & 778000 & 779000 & chr1 & 827000 & 828000 & chr1:778000-779000 & chr1:827000-828000 & 1000 & 1000 & 49000 & hic\\_intact\\_deep\\\\\n",
       "\t chr1:873248-873781 & chr1:935605-936252 & chr1:870000-875000\\textbar{}chr1:935000-940000 & chr1 & 870000 & 875000 & chr1 & 935000 & 940000 & chr1:870000-875000 & chr1:935000-940000 & 5000 & 5000 & 65000 & hic\\_intact\\_deep\\\\\n",
       "\t chr1:873248-873781 & chr1:938228-938505 & chr1:870000-875000\\textbar{}chr1:935000-940000 & chr1 & 870000 & 875000 & chr1 & 935000 & 940000 & chr1:870000-875000 & chr1:935000-940000 & 5000 & 5000 & 65000 & hic\\_intact\\_deep\\\\\n",
       "\\end{tabular}\n"
      ],
      "text/markdown": [
       "\n",
       "A tibble: 3 × 15\n",
       "\n",
       "| NodeA &lt;chr&gt; | NodeB &lt;chr&gt; | Edge &lt;chr&gt; | Chrom1 &lt;chr&gt; | Start1 &lt;dbl&gt; | End1 &lt;dbl&gt; | Chrom2 &lt;chr&gt; | Start2 &lt;dbl&gt; | End2 &lt;dbl&gt; | LoopA &lt;chr&gt; | LoopB &lt;chr&gt; | LengthA &lt;dbl&gt; | LengthB &lt;dbl&gt; | Distance &lt;dbl&gt; | HiC &lt;chr&gt; |\n",
       "|---|---|---|---|---|---|---|---|---|---|---|---|---|---|---|\n",
       "| chr1:777949-779437 | chr1:826754-828040 | chr1:778000-779000|chr1:827000-828000 | chr1 | 778000 | 779000 | chr1 | 827000 | 828000 | chr1:778000-779000 | chr1:827000-828000 | 1000 | 1000 | 49000 | hic_intact_deep |\n",
       "| chr1:873248-873781 | chr1:935605-936252 | chr1:870000-875000|chr1:935000-940000 | chr1 | 870000 | 875000 | chr1 | 935000 | 940000 | chr1:870000-875000 | chr1:935000-940000 | 5000 | 5000 | 65000 | hic_intact_deep |\n",
       "| chr1:873248-873781 | chr1:938228-938505 | chr1:870000-875000|chr1:935000-940000 | chr1 | 870000 | 875000 | chr1 | 935000 | 940000 | chr1:870000-875000 | chr1:935000-940000 | 5000 | 5000 | 65000 | hic_intact_deep |\n",
       "\n"
      ],
      "text/plain": [
       "  NodeA              NodeB              Edge                                 \n",
       "1 chr1:777949-779437 chr1:826754-828040 chr1:778000-779000|chr1:827000-828000\n",
       "2 chr1:873248-873781 chr1:935605-936252 chr1:870000-875000|chr1:935000-940000\n",
       "3 chr1:873248-873781 chr1:938228-938505 chr1:870000-875000|chr1:935000-940000\n",
       "  Chrom1 Start1 End1   Chrom2 Start2 End2   LoopA             \n",
       "1 chr1   778000 779000 chr1   827000 828000 chr1:778000-779000\n",
       "2 chr1   870000 875000 chr1   935000 940000 chr1:870000-875000\n",
       "3 chr1   870000 875000 chr1   935000 940000 chr1:870000-875000\n",
       "  LoopB              LengthA LengthB Distance HiC            \n",
       "1 chr1:827000-828000 1000    1000    49000    hic_intact_deep\n",
       "2 chr1:935000-940000 5000    5000    65000    hic_intact_deep\n",
       "3 chr1:935000-940000 5000    5000    65000    hic_intact_deep"
      ]
     },
     "metadata": {},
     "output_type": "display_data"
    }
   ],
   "source": [
    "lst = lst_dat_edge_arrange\n",
    "head(lst[[2]], 3)"
   ]
  },
  {
   "cell_type": "markdown",
   "metadata": {},
   "source": [
    "## Simplify the graph"
   ]
  },
  {
   "cell_type": "code",
   "execution_count": 77,
   "metadata": {},
   "outputs": [
    {
     "name": "stdout",
     "output_type": "stream",
     "text": [
      "[1] \"hic_intact_ENCSR479XDG\" \"hic_intact_deep\"       \n"
     ]
    }
   ],
   "source": [
    "lst = lst_dat_edge_arrange\n",
    "lst = lapply(lst, function(dat){\n",
    "    dat = dat %>%\n",
    "        dplyr::group_by(NodeA, NodeB) %>%\n",
    "        dplyr::summarise(\n",
    "            Distance  = mean(Distance),\n",
    "            Edges     = paste(Edge, collapse=\",\"),\n",
    "            Count     = n(),\n",
    "            .groups   = \"drop\"\n",
    "        )\n",
    "    return(dat)\n",
    "})\n",
    "\n",
    "lst_dat_edge_simplify = lst\n",
    "print(names(lst))"
   ]
  },
  {
   "cell_type": "code",
   "execution_count": 78,
   "metadata": {},
   "outputs": [
    {
     "name": "stdout",
     "output_type": "stream",
     "text": [
      "[1] 53964    15\n",
      "[1] 84150    15\n"
     ]
    }
   ],
   "source": [
    "lst = lst_dat_edge_arrange\n",
    "print(dim(lst[[1]]))\n",
    "print(dim(lst[[2]]))"
   ]
  },
  {
   "cell_type": "code",
   "execution_count": 79,
   "metadata": {},
   "outputs": [
    {
     "name": "stdout",
     "output_type": "stream",
     "text": [
      "[1] 53963     5\n",
      "[1] 84150     5\n"
     ]
    }
   ],
   "source": [
    "lst = lst_dat_edge_simplify\n",
    "print(dim(lst[[1]]))\n",
    "print(dim(lst[[2]]))"
   ]
  },
  {
   "cell_type": "code",
   "execution_count": 80,
   "metadata": {},
   "outputs": [
    {
     "name": "stdout",
     "output_type": "stream",
     "text": [
      "hic_intact_ENCSR479XDG \n",
      "\u001b[90m# A tibble: 6 × 5\u001b[39m\n",
      "  NodeA                     NodeB                     Distance Edges       Count\n",
      "  \u001b[3m\u001b[90m<chr>\u001b[39m\u001b[23m                     \u001b[3m\u001b[90m<chr>\u001b[39m\u001b[23m                        \u001b[3m\u001b[90m<dbl>\u001b[39m\u001b[23m \u001b[3m\u001b[90m<chr>\u001b[39m\u001b[23m       \u001b[3m\u001b[90m<int>\u001b[39m\u001b[23m\n",
      "\u001b[90m1\u001b[39m chr10:100342247-100342824 chr10:100508470-100509309   \u001b[4m1\u001b[24m\u001b[4m6\u001b[24m\u001b[4m6\u001b[24m000 chr10:1003…     1\n",
      "\u001b[90m2\u001b[39m chr10:100342247-100342824 chr10:100871690-100872646   \u001b[4m5\u001b[24m\u001b[4m3\u001b[24m\u001b[4m0\u001b[24m000 chr10:1003…     1\n",
      "\u001b[90m3\u001b[39m chr10:100342247-100342824 chr10:100878006-100879519   \u001b[4m5\u001b[24m\u001b[4m3\u001b[24m\u001b[4m0\u001b[24m000 chr10:1003…     1\n",
      "\u001b[90m4\u001b[39m chr10:100346328-100347693 chr10:100871690-100872646   \u001b[4m5\u001b[24m\u001b[4m3\u001b[24m\u001b[4m0\u001b[24m000 chr10:1003…     1\n",
      "\u001b[90m5\u001b[39m chr10:100346328-100347693 chr10:100878006-100879519   \u001b[4m5\u001b[24m\u001b[4m3\u001b[24m\u001b[4m0\u001b[24m000 chr10:1003…     1\n",
      "\u001b[90m6\u001b[39m chr10:100358645-100359733 chr10:100373060-100374238    \u001b[4m1\u001b[24m\u001b[4m4\u001b[24m000 chr10:1003…     1\n",
      "\n",
      "    1     2 \n",
      "53962     1 \n",
      "\n",
      "hic_intact_deep \n",
      "\u001b[90m# A tibble: 6 × 5\u001b[39m\n",
      "  NodeA                     NodeB                     Distance Edges       Count\n",
      "  \u001b[3m\u001b[90m<chr>\u001b[39m\u001b[23m                     \u001b[3m\u001b[90m<chr>\u001b[39m\u001b[23m                        \u001b[3m\u001b[90m<dbl>\u001b[39m\u001b[23m \u001b[3m\u001b[90m<chr>\u001b[39m\u001b[23m       \u001b[3m\u001b[90m<int>\u001b[39m\u001b[23m\n",
      "\u001b[90m1\u001b[39m chr10:100045961-100046653 chr10:100433434-100434444   \u001b[4m3\u001b[24m\u001b[4m8\u001b[24m\u001b[4m5\u001b[24m000 chr10:1000…     1\n",
      "\u001b[90m2\u001b[39m chr10:100185017-100187275 chr10:100267066-100268374    \u001b[4m8\u001b[24m\u001b[4m1\u001b[24m000 chr10:1001…     1\n",
      "\u001b[90m3\u001b[39m chr10:100185017-100187275 chr10:100370571-100371646   \u001b[4m1\u001b[24m\u001b[4m8\u001b[24m\u001b[4m5\u001b[24m000 chr10:1001…     1\n",
      "\u001b[90m4\u001b[39m chr10:100185017-100187275 chr10:100373060-100374238   \u001b[4m1\u001b[24m\u001b[4m8\u001b[24m\u001b[4m5\u001b[24m000 chr10:1001…     1\n",
      "\u001b[90m5\u001b[39m chr10:100228452-100230090 chr10:100285974-100287341    \u001b[4m5\u001b[24m\u001b[4m7\u001b[24m000 chr10:1002…     1\n",
      "\u001b[90m6\u001b[39m chr10:100228452-100230090 chr10:100535377-100536237   \u001b[4m3\u001b[24m\u001b[4m0\u001b[24m\u001b[4m6\u001b[24m000 chr10:1002…     1\n",
      "\n",
      "    1 \n",
      "84150 \n"
     ]
    }
   ],
   "source": [
    "lst = lst_dat_edge_simplify\n",
    "cat(names(lst)[1], \"\\n\")\n",
    "dat = lst[[1]]\n",
    "print(head(dat))\n",
    "print(table(dat$Count))\n",
    "cat(\"\\n\")\n",
    "\n",
    "cat(names(lst)[2], \"\\n\")\n",
    "dat = lst[[2]]\n",
    "print(head(dat))\n",
    "print(table(dat$Count))"
   ]
  },
  {
   "cell_type": "markdown",
   "metadata": {},
   "source": [
    "## Save results"
   ]
  },
  {
   "cell_type": "code",
   "execution_count": 94,
   "metadata": {},
   "outputs": [
    {
     "name": "stdout",
     "output_type": "stream",
     "text": [
      "[1] \"KS91_K562_ASTARRseq_peak_macs_input\"\n",
      "[1] \"hic_intact_ENCSR479XDG\" \"hic_intact_deep\"       \n"
     ]
    }
   ],
   "source": [
    "print(FOLDER_ANT)\n",
    "print(FOLDERS_LOOP)"
   ]
  },
  {
   "cell_type": "code",
   "execution_count": 92,
   "metadata": {},
   "outputs": [
    {
     "name": "stdout",
     "output_type": "stream",
     "text": [
      "[1] \"hic_intact_ENCSR479XDG\" \"hic_intact_deep\"       \n"
     ]
    }
   ],
   "source": [
    "lst = lst_dat_node_arrange\n",
    "vec = names(lst)\n",
    "print(vec)"
   ]
  },
  {
   "cell_type": "code",
   "execution_count": 93,
   "metadata": {},
   "outputs": [
    {
     "name": "stdout",
     "output_type": "stream",
     "text": [
      "[1] \"hic_intact_ENCSR479XDG\" \"hic_intact_deep\"       \n"
     ]
    }
   ],
   "source": [
    "lst = lst_dat_edge_simplify\n",
    "vec = names(lst)\n",
    "print(vec)"
   ]
  },
  {
   "cell_type": "code",
   "execution_count": 97,
   "metadata": {},
   "outputs": [
    {
     "name": "stdout",
     "output_type": "stream",
     "text": [
      "[1] \"/data/reddylab/Kuei/out/proj_combeffect_encode_fcc/results/region/hic_intact_ENCSR479XDG/loop/KS91_K562_ASTARRseq_peak_macs_input\"\n",
      "[1] \"/data/reddylab/Kuei/out/proj_combeffect_encode_fcc/results/region/hic_intact_deep/loop/KS91_K562_ASTARRseq_peak_macs_input\"\n"
     ]
    }
   ],
   "source": [
    "for (FOLDER_LOOP in FOLDERS_LOOP){\n",
    "    ###\n",
    "    fdiry = file.path(FD_RES, \"results\", \"region\", FOLDER_LOOP, \"loop\", FOLDER_ANT)\n",
    "    print(fdiry)\n",
    "    \n",
    "    ###\n",
    "    fname = \"network_ocr_node.tsv\"\n",
    "    fpath = file.path(fdiry, fname)\n",
    "    lst = lst_dat_node_arrange\n",
    "    dat = lst[[FOLDER_LOOP]]\n",
    "    write_tsv(dat, fpath)\n",
    "    \n",
    "    ###\n",
    "    fname = \"network_ocr_edge_simplify.tsv\"\n",
    "    fpath = file.path(fdiry, fname)\n",
    "    lst = lst_dat_edge_simplify\n",
    "    dat = lst[[FOLDER_LOOP]]\n",
    "    write_tsv(dat, fpath)\n",
    "}"
   ]
  },
  {
   "cell_type": "code",
   "execution_count": null,
   "metadata": {},
   "outputs": [],
   "source": []
  }
 ],
 "metadata": {
  "kernelspec": {
   "display_name": "R",
   "language": "R",
   "name": "ir"
  },
  "language_info": {
   "codemirror_mode": "r",
   "file_extension": ".r",
   "mimetype": "text/x-r-source",
   "name": "R",
   "pygments_lexer": "r",
   "version": "4.3.0"
  }
 },
 "nbformat": 4,
 "nbformat_minor": 4
}
