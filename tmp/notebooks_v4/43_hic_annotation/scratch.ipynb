{
 "cells": [
  {
   "cell_type": "code",
   "execution_count": 1,
   "metadata": {},
   "outputs": [
    {
     "name": "stdout",
     "output_type": "stream",
     "text": [
      "You are in Singularity: singularity_proj_encode_fcc \n",
      "BASE DIRECTORY (FD_BASE): /data/reddylab/Kuei \n",
      "WORK DIRECTORY (FD_WORK): /data/reddylab/Kuei/out \n",
      "CODE DIRECTORY (FD_CODE): /data/reddylab/Kuei/code \n",
      "PATH OF PROJECT (FD_PRJ): /data/reddylab/Kuei/code/Proj_CombEffect_ENCODE_FCC \n",
      "PATH OF RESULTS (FD_RES): /data/reddylab/Kuei/out/proj_combeffect_encode_fcc \n",
      "PATH OF LOG     (FD_LOG): /data/reddylab/Kuei/out/proj_combeffect_encode_fcc/log \n"
     ]
    }
   ],
   "source": [
    "suppressMessages(suppressWarnings(source(\"../config/config_sing.R\")))\n",
    "show_env()"
   ]
  },
  {
   "cell_type": "code",
   "execution_count": 2,
   "metadata": {},
   "outputs": [
    {
     "name": "stdout",
     "output_type": "stream",
     "text": [
      "[1] \"annotation_crispri_e2g\"\n"
     ]
    }
   ],
   "source": [
    "FOLDER_ANT  = \"annotation_crispri_e2g\"\n",
    "print(FOLDER_ANT)"
   ]
  },
  {
   "cell_type": "code",
   "execution_count": 3,
   "metadata": {},
   "outputs": [
    {
     "name": "stdout",
     "output_type": "stream",
     "text": [
      "annotation_crispri_e2g \n",
      " [1] \"Chrom\"       \"Start\"       \"End\"         \"Name\"        \"Score\"      \n",
      " [6] \"Gene_Symbol\" \"Gene_TSS\"    \"Reference\"   \"Assay_Type\"  \"Assay_Label\"\n",
      "\n",
      "[1] \"/data/reddylab/Kuei/out/proj_combeffect_encode_fcc/results/region/annotation_crispri_e2g/crispri_e2g.region.bed.gz\"\n",
      "\n"
     ]
    }
   ],
   "source": [
    "## import annotation description file\n",
    "fdiry  = file.path(FD_RES, \"results\", \"region\", FOLDER_ANT)\n",
    "fname = \"description.tsv\"\n",
    "fpath = file.path(fdiry, fname)\n",
    "dat = read_tsv(fpath, show_col_types = FALSE)\n",
    "cnames = dat$Name\n",
    "cat(FOLDER_ANT, \"\\n\")\n",
    "print(cnames)\n",
    "cat(\"\\n\")\n",
    "\n",
    "### get file path of annotation file\n",
    "fdiry = file.path(FD_RES, \"results\", \"region\", FOLDER_ANT)\n",
    "fname = \"*.bed.gz\"\n",
    "fglob = file.path(fdiry, fname)\n",
    "fpath_ant = Sys.glob(fglob)\n",
    "print(fpath_ant)\n",
    "cat(\"\\n\")"
   ]
  },
  {
   "cell_type": "code",
   "execution_count": 4,
   "metadata": {},
   "outputs": [],
   "source": [
    "### init\n",
    "fname_ant = basename(fpath_ant)\n",
    "\n",
    "### import annotation file\n",
    "dat_ant = read_tsv(fpath_ant, col_names = cnames, show_col_types = FALSE)\n",
    "dat_ant = dat_ant %>% dplyr::mutate(Region = paste0(Chrom, \":\", Start, \"-\", End))"
   ]
  },
  {
   "cell_type": "code",
   "execution_count": 10,
   "metadata": {},
   "outputs": [],
   "source": [
    "dat = dat_ant"
   ]
  },
  {
   "cell_type": "code",
   "execution_count": 13,
   "metadata": {},
   "outputs": [
    {
     "name": "stdout",
     "output_type": "stream",
     "text": [
      "[1] 464  11\n",
      "[1] 413\n"
     ]
    }
   ],
   "source": [
    "dat = read_tsv(fpath_ant, col_names = cnames, show_col_types = FALSE)\n",
    "dat = dat %>% dplyr::mutate(Region = paste0(Chrom, \":\", Start, \"-\", End))\n",
    "print(dim(dat))\n",
    "\n",
    "vec = unique(dat$Region)\n",
    "print(length(vec))"
   ]
  },
  {
   "cell_type": "code",
   "execution_count": 7,
   "metadata": {},
   "outputs": [
    {
     "data": {
      "text/html": [
       "413"
      ],
      "text/latex": [
       "413"
      ],
      "text/markdown": [
       "413"
      ],
      "text/plain": [
       "[1] 413"
      ]
     },
     "metadata": {},
     "output_type": "display_data"
    }
   ],
   "source": [
    "vec_ant_total = unique(dat_ant$Region)\n",
    "length(vec_ant_total)"
   ]
  },
  {
   "cell_type": "code",
   "execution_count": 9,
   "metadata": {},
   "outputs": [
    {
     "name": "stdout",
     "output_type": "stream",
     "text": [
      "[1] 464  11\n"
     ]
    }
   ],
   "source": [
    "print(dim(dat_ant))"
   ]
  },
  {
   "cell_type": "markdown",
   "metadata": {},
   "source": [
    "\"/data/reddylab/Kuei/out/proj_combeffect_encode_fcc/results/region/annotation_crispri_e2g/crispri_e2g.region.bed.gz\""
   ]
  }
 ],
 "metadata": {
  "kernelspec": {
   "display_name": "R",
   "language": "R",
   "name": "ir"
  },
  "language_info": {
   "codemirror_mode": "r",
   "file_extension": ".r",
   "mimetype": "text/x-r-source",
   "name": "R",
   "pygments_lexer": "r",
   "version": "4.3.0"
  }
 },
 "nbformat": 4,
 "nbformat_minor": 4
}
