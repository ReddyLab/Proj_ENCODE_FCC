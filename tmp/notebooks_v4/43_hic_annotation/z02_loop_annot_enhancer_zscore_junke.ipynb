{
 "cells": [
  {
   "cell_type": "markdown",
   "id": "b3420f7f-0d8f-4496-84fb-d7826c8fff18",
   "metadata": {},
   "source": [
    "**Set environment**"
   ]
  },
  {
   "cell_type": "code",
   "execution_count": 11,
   "id": "aefb5354-28f3-42cb-932d-1f0b3627626a",
   "metadata": {},
   "outputs": [
    {
     "name": "stdout",
     "output_type": "stream",
     "text": [
      "You are on Duke Server: HARDAC\n",
      "BASE DIRECTORY (FD_BASE): /data/reddylab/Kuei\n",
      "WORK DIRECTORY (FD_WORK): /data/reddylab/Kuei/out\n",
      "CODE DIRECTORY (FD_CODE): /data/reddylab/Kuei/code\n",
      "SING DIRECTORY (FD_SING): /data/reddylab/Kuei/singularity\n",
      "PATH OF PROJECT (FD_PRJ): /data/reddylab/Kuei/code/Proj_CombEffect_ENCODE_FCC\n",
      "PATH OF RESULTS (FD_RES): /data/reddylab/Kuei/out/proj_combeffect_encode_fcc\n",
      "PATH OF LOG     (FD_LOG): /data/reddylab/Kuei/out/proj_combeffect_encode_fcc/log\n",
      "\n"
     ]
    }
   ],
   "source": [
    "### set env\n",
    "source ../config/config_duke.sh\n",
    "source ../config/config_load_module_bedtools.sh\n",
    "show_env"
   ]
  },
  {
   "cell_type": "markdown",
   "id": "91b5c363-d618-4394-8ad3-174d48637021",
   "metadata": {},
   "source": [
    "**Check data**"
   ]
  },
  {
   "cell_type": "code",
   "execution_count": 12,
   "id": "f621f19e-817d-4d13-8483-83d34710c546",
   "metadata": {},
   "outputs": [
    {
     "name": "stdout",
     "output_type": "stream",
     "text": [
      "\u001b[0m\u001b[38;5;27mannotation_ccre\u001b[0m\n",
      "\u001b[38;5;27mannotation_chipseq_histone\u001b[0m\n",
      "\u001b[38;5;27mannotation_chipseq_tf\u001b[0m\n",
      "\u001b[38;5;27mannotation_chipseq_tf_subset\u001b[0m\n",
      "\u001b[38;5;27mannotation_chromHMM\u001b[0m\n",
      "\u001b[38;5;27mannotation_crispri_growth\u001b[0m\n",
      "\u001b[38;5;27mannotation_crispri_hcrff\u001b[0m\n",
      "\u001b[38;5;27mannotation_enhancer_junke\u001b[0m\n",
      "\u001b[38;5;27mannotation_enhancer_zscore_junke\u001b[0m\n",
      "\u001b[38;5;27mannotation_gencode\u001b[0m\n",
      "\u001b[38;5;27mannotation_hic\u001b[0m\n",
      "\u001b[38;5;27mannotation_tss_pol2\u001b[0m\n",
      "\u001b[38;5;27mannotation_tss_pol2_span\u001b[0m\n",
      "\u001b[38;5;27mhic_intact_ENCSR479XDG\u001b[0m\n",
      "\u001b[38;5;27mKS91_K562_ASTARRseq_peak_macs_input\u001b[0m\n",
      "region_screened_crispri_flowfish.bed\n",
      "region_screened_selected.bed\n",
      "region_screened_selected_perbase.bed\n",
      "\u001b[38;5;9mregion_screened_selected_perbase.bed.gz\u001b[0m\n",
      "region_screened_tmpra.bed\n",
      "region_screened_tmpra_crispr.bed\n"
     ]
    }
   ],
   "source": [
    "ls -1 ${FD_RES}/results/region"
   ]
  },
  {
   "cell_type": "code",
   "execution_count": 13,
   "id": "bfb5febf-58fe-43d8-a447-f5a00ed6f35e",
   "metadata": {},
   "outputs": [
    {
     "name": "stdout",
     "output_type": "stream",
     "text": [
      "description.tsv\n",
      "\u001b[0m\u001b[38;5;9menhancer_zscore_junke.concat.STARR.bed.gz\u001b[0m\n",
      "\u001b[38;5;9menhancer_zscore_junke.concat.STARRMPRA.bed.gz\u001b[0m\n",
      "\u001b[38;5;9menhancer_zscore_junke.merge.STARR.bed.gz\u001b[0m\n",
      "\u001b[38;5;9menhancer_zscore_junke.merge.STARRMPRA.bed.gz\u001b[0m\n",
      "\u001b[38;5;9menhancer_zscore_junke.peak.ASTARR.bed.gz\u001b[0m\n",
      "\u001b[38;5;9menhancer_zscore_junke.peak.LMPRA.bed.gz\u001b[0m\n",
      "\u001b[38;5;9menhancer_zscore_junke.peak.TMPRA_GATAMYC.bed.gz\u001b[0m\n",
      "\u001b[38;5;9menhancer_zscore_junke.peak.WSTARR.bed.gz\u001b[0m\n"
     ]
    }
   ],
   "source": [
    "ls -1 ${FD_RES}/results/region/annotation_enhancer_zscore_junke"
   ]
  },
  {
   "cell_type": "code",
   "execution_count": 14,
   "id": "6ac31edf-f108-4579-a114-065744d34bd2",
   "metadata": {},
   "outputs": [
    {
     "name": "stdout",
     "output_type": "stream",
     "text": [
      "\u001b[0m\u001b[38;5;9m/data/reddylab/Kuei/out/proj_combeffect_encode_fcc/results/region/annotation_enhancer_zscore_junke/enhancer_zscore_junke.merge.STARR.bed.gz\u001b[0m\u001b[K\n",
      "\u001b[38;5;9m/data/reddylab/Kuei/out/proj_combeffect_encode_fcc/results/region/annotation_enhancer_zscore_junke/enhancer_zscore_junke.merge.STARRMPRA.bed.gz\u001b[0m\u001b[K\n",
      "\u001b[38;5;9m/data/reddylab/Kuei/out/proj_combeffect_encode_fcc/results/region/annotation_enhancer_zscore_junke/enhancer_zscore_junke.peak.ASTARR.bed.gz\u001b[0m\u001b[K\n",
      "\u001b[38;5;9m/data/reddylab/Kuei/out/proj_combeffect_encode_fcc/results/region/annotation_enhancer_zscore_junke/enhancer_zscore_junke.peak.LMPRA.bed.gz\u001b[0m\u001b[K\n",
      "\u001b[38;5;9m/data/reddylab/Kuei/out/proj_combeffect_encode_fcc/results/region/annotation_enhancer_zscore_junke/enhancer_zscore_junke.peak.TMPRA_GATAMYC.bed.gz\u001b[0m\u001b[K\n",
      "\u001b[38;5;9m/data/reddylab/Kuei/out/proj_combeffect_encode_fcc/results/region/annotation_enhancer_zscore_junke/enhancer_zscore_junke.peak.WSTARR.bed.gz\u001b[0m\u001b[K\n"
     ]
    }
   ],
   "source": [
    "ls -1 ${FD_RES}/results/region/annotation_enhancer_zscore_junke/{*peak*bed.gz,*merge*bed.gz}"
   ]
  },
  {
   "cell_type": "code",
   "execution_count": 15,
   "id": "f9e827fc-17cc-4636-9c1c-69ca3e6ced36",
   "metadata": {},
   "outputs": [
    {
     "name": "stdout",
     "output_type": "stream",
     "text": [
      "chr1\t1013020\t1013470\tpeak_both_1\tASTARR\n",
      "chr1\t1724540\t1724700\tpeak_both_2\tASTARR\n",
      "chr1\t2290700\t2291030\tpeak_both_3\tASTARR\n",
      "chr1\t3313260\t3313400\tpeak_both_4\tASTARR\n",
      "chr1\t5856530\t5856630\tpeak_both_5\tASTARR\n",
      "chr1\t5917710\t5917930\tpeak_both_6\tASTARR\n",
      "chr1\t6949090\t6949200\tpeak_both_7\tASTARR\n",
      "chr1\t8211980\t8212260\tpeak_both_8\tASTARR\n",
      "chr1\t8873640\t8873890\tpeak_both_9\tASTARR\n",
      "chr1\t8877970\t8878130\tpeak_both_10\tASTARR\n"
     ]
    }
   ],
   "source": [
    "FDIRY=${FD_RES}/results/region/annotation_enhancer_zscore_junke\n",
    "FNAME=enhancer_zscore_junke.peak.ASTARR.bed.gz\n",
    "FPATH=${FDIRY}/${FNAME}\n",
    "zcat ${FPATH} | head"
   ]
  },
  {
   "cell_type": "code",
   "execution_count": 16,
   "id": "50382164-8454-411e-9acc-1303aa486568",
   "metadata": {},
   "outputs": [
    {
     "name": "stdout",
     "output_type": "stream",
     "text": [
      "\u001b[0m\u001b[38;5;27mannotation_enhancer_zscore_junke\u001b[0m\n",
      "\u001b[38;5;27mannotation_tss_pol2\u001b[0m\n",
      "\u001b[38;5;9mloopA.bed.gz\u001b[0m\n",
      "\u001b[38;5;9mloopB.bed.gz\u001b[0m\n",
      "loop.tsv\n",
      "\u001b[38;5;27msummary\u001b[0m\n"
     ]
    }
   ],
   "source": [
    "ls -1 ${FD_RES}/results/region/hic_intact_ENCSR479XDG/loop"
   ]
  },
  {
   "cell_type": "markdown",
   "id": "af8f6aba-46ad-41e9-8397-1eaacea359e6",
   "metadata": {},
   "source": [
    "**Script**"
   ]
  },
  {
   "cell_type": "code",
   "execution_count": 17,
   "id": "13244beb-51d4-48b5-aed3-7910bed9c4b7",
   "metadata": {},
   "outputs": [],
   "source": [
    "cat > run_annot_array.sh << 'EOF'\n",
    "#!/bin/bash\n",
    "\n",
    "### print start message\n",
    "timer_start=`date +%s`\n",
    "echo \"Hostname:          \" $(hostname)\n",
    "echo \"Slurm Array Index: \" ${SLURM_ARRAY_TASK_ID}\n",
    "echo \"Time Stamp:        \" $(date +\"%m-%d-%y+%T\")\n",
    "echo\n",
    "\n",
    "### setup input and output\n",
    "source ../config/config_duke.sh\n",
    "PREFIX=$1\n",
    "FD_REG=$2\n",
    "FD_ANT=$3\n",
    "FD_OUT=$4\n",
    "\n",
    "FP_REG=${FD_REG}/${PREFIX}.bed.gz\n",
    "\n",
    "FP_ANTS=($(ls ${FD_ANT}/*.bed.gz))\n",
    "FP_ANT=${FP_ANTS[SLURM_ARRAY_TASK_ID]}\n",
    "FN_ANT=$(basename ${FP_ANT})\n",
    "\n",
    "FN_OUT=${PREFIX}.annotation.${FN_ANT}\n",
    "FP_OUT=${FD_OUT}/${FN_OUT}\n",
    "\n",
    "### show I/O file\n",
    "echo \"Input: \" ${FP_REG}\n",
    "echo\n",
    "echo \"show first few lines of input\"\n",
    "zcat ${FP_REG} | head -5\n",
    "echo\n",
    "echo \"Input: \" ${FP_ANT}\n",
    "echo\n",
    "echo \"show first few lines of input\"\n",
    "zcat ${FP_ANT} | head -5\n",
    "echo\n",
    "\n",
    "### execute: annotation using intersect\n",
    "bedtools intersect \\\n",
    "    -a ${FP_REG} \\\n",
    "    -b ${FP_ANT} \\\n",
    "    -wo \\\n",
    "    -f 0.7 \\\n",
    "    -F 0.7 \\\n",
    "    -e \\\n",
    "| gzip -c \\\n",
    "> ${FP_OUT}\n",
    "\n",
    "### show output file\n",
    "echo\n",
    "echo \"Output: \" ${FP_OUT}\n",
    "echo\n",
    "echo \"show first few lines of output:\"\n",
    "zcat ${FP_OUT} | head -5\n",
    "echo\n",
    "\n",
    "### print end message\n",
    "timer=`date +%s`\n",
    "runtime=$(echo \"${timer} - ${timer_start}\" | bc -l)\n",
    "echo\n",
    "echo 'Done!'\n",
    "echo \"Run Time: $(displaytime ${runtime})\"\n",
    "\n",
    "EOF\n",
    "\n",
    "chmod +x run_annot_array.sh"
   ]
  },
  {
   "cell_type": "markdown",
   "id": "ce270fc8-df11-4e04-be81-4a3e6a7c69e3",
   "metadata": {},
   "source": [
    "**RUN**"
   ]
  },
  {
   "cell_type": "code",
   "execution_count": 24,
   "id": "4eeb36af-3b64-4e34-b652-ca7b7536e352",
   "metadata": {},
   "outputs": [
    {
     "name": "stdout",
     "output_type": "stream",
     "text": [
      "loopA\n",
      "Submitted batch job 29915551\n",
      "loopB\n",
      "Submitted batch job 29915552\n"
     ]
    }
   ],
   "source": [
    "FD_REG=${FD_RES}/results/region/hic_intact_ENCSR479XDG/loop\n",
    "FD_ANT=${FD_RES}/results/region/annotation_enhancer_zscore_junke\n",
    "FD_OUT=${FD_RES}/results/region/hic_intact_ENCSR479XDG/loop/annotation_enhancer_zscore_junke\n",
    "\n",
    "for PREFIX in \"loopA\" \"loopB\"; do\n",
    "    echo ${PREFIX}\n",
    "    \n",
    "    sbatch -p ${NODE} \\\n",
    "        --exclude=dl-01 \\\n",
    "        --cpus-per-task 8 \\\n",
    "        --mem 4G \\\n",
    "        --output ${FD_LOG}/annotation_hic_intact_ENCSR479XDG_${PREFIX}_enhancer_zscore_junke.%a.txt \\\n",
    "        --array 0-7 \\\n",
    "        ./run_annot_array.sh ${PREFIX} ${FD_REG} ${FD_ANT} ${FD_OUT}\n",
    "done"
   ]
  },
  {
   "cell_type": "markdown",
   "id": "40b71d1a-a380-4716-806f-26899d82d54a",
   "metadata": {},
   "source": [
    "**Check Results**"
   ]
  },
  {
   "cell_type": "code",
   "execution_count": 25,
   "id": "d27ec0b0-1085-42fe-a87e-780f8ba7932a",
   "metadata": {},
   "outputs": [
    {
     "name": "stdout",
     "output_type": "stream",
     "text": [
      "Hostname:           x1-01-3.genome.duke.edu\n",
      "Slurm Array Index:  0\n",
      "Time Stamp:         05-26-23+14:24:49\n",
      "\n",
      "Input:  /data/reddylab/Kuei/out/proj_combeffect_encode_fcc/results/region/hic_intact_ENCSR479XDG/loop/loopA.bed.gz\n",
      "\n",
      "show first few lines of input\n",
      "chr1\t770000\t780000\n",
      "chr1\t904000\t906000\n",
      "chr1\t920000\t925000\n",
      "chr1\t980000\t990000\n",
      "chr1\t984000\t985000\n",
      "\n",
      "Input:  /data/reddylab/Kuei/out/proj_combeffect_encode_fcc/results/region/annotation_enhancer_zscore_junke/enhancer_zscore_junke.concat.STARR.bed.gz\n",
      "\n",
      "show first few lines of input\n",
      "chr1\t778420\t779050\tWSTARR\n",
      "chr1\t827430\t827560\tWSTARR\n",
      "chr1\t959270\t959620\tWSTARR\n",
      "chr1\t997730\t997950\tWSTARR\n",
      "chr1\t1000690\t1000990\tWSTARR\n",
      "\n",
      "\n",
      "Output:  /data/reddylab/Kuei/out/proj_combeffect_encode_fcc/results/region/hic_intact_ENCSR479XDG/loop/annotation_enhancer_zscore_junke/loopA.annotation.enhancer_zscore_junke.concat.STARR.bed.gz\n",
      "\n",
      "show first few lines of output:\n",
      "chr1\t770000\t780000\tchr1\t778420\t779050\tWSTARR\t630\n",
      "chr1\t1000000\t1005000\tchr1\t1000690\t1000990\tWSTARR\t300\n",
      "chr1\t1000000\t1005000\tchr1\t1001030\t1001180\tWSTARR\t150\n",
      "chr1\t1000000\t1005000\tchr1\t1003910\t1004100\tWSTARR\t190\n",
      "chr1\t1020000\t1025000\tchr1\t1021790\t1022250\tWSTARR\t460\n",
      "\n",
      "\n",
      "Done!\n",
      "Run Time: 0 seconds\n"
     ]
    }
   ],
   "source": [
    "cat ${FD_LOG}/annotation_hic_intact_ENCSR479XDG_loopA_enhancer_zscore_junke.0.txt"
   ]
  },
  {
   "cell_type": "code",
   "execution_count": 26,
   "id": "c3c42a53-9a60-484c-8af6-c61c57b80450",
   "metadata": {},
   "outputs": [
    {
     "name": "stdout",
     "output_type": "stream",
     "text": [
      "Hostname:           x1-02-2.genome.duke.edu\n",
      "Slurm Array Index:  7\n",
      "Time Stamp:         05-26-23+14:24:49\n",
      "\n",
      "Input:  /data/reddylab/Kuei/out/proj_combeffect_encode_fcc/results/region/hic_intact_ENCSR479XDG/loop/loopA.bed.gz\n",
      "\n",
      "show first few lines of input\n",
      "chr1\t770000\t780000\n",
      "chr1\t904000\t906000\n",
      "chr1\t920000\t925000\n",
      "chr1\t980000\t990000\n",
      "chr1\t984000\t985000\n",
      "\n",
      "Input:  /data/reddylab/Kuei/out/proj_combeffect_encode_fcc/results/region/annotation_enhancer_zscore_junke/enhancer_zscore_junke.peak.WSTARR.bed.gz\n",
      "\n",
      "show first few lines of input\n",
      "chr1\t778420\t779050\tWSTARR\n",
      "chr1\t827430\t827560\tWSTARR\n",
      "chr1\t959270\t959620\tWSTARR\n",
      "chr1\t997730\t997950\tWSTARR\n",
      "chr1\t1000690\t1000990\tWSTARR\n",
      "\n",
      "\n",
      "Output:  /data/reddylab/Kuei/out/proj_combeffect_encode_fcc/results/region/hic_intact_ENCSR479XDG/loop/annotation_enhancer_zscore_junke/loopA.annotation.enhancer_zscore_junke.peak.WSTARR.bed.gz\n",
      "\n",
      "show first few lines of output:\n",
      "chr1\t770000\t780000\tchr1\t778420\t779050\tWSTARR\t630\n",
      "chr1\t1000000\t1005000\tchr1\t1000690\t1000990\tWSTARR\t300\n",
      "chr1\t1000000\t1005000\tchr1\t1001030\t1001180\tWSTARR\t150\n",
      "chr1\t1000000\t1005000\tchr1\t1003910\t1004100\tWSTARR\t190\n",
      "chr1\t1020000\t1025000\tchr1\t1021790\t1022250\tWSTARR\t460\n",
      "\n",
      "\n",
      "Done!\n",
      "Run Time: 0 seconds\n"
     ]
    }
   ],
   "source": [
    "cat ${FD_LOG}/annotation_hic_intact_ENCSR479XDG_loopA_enhancer_zscore_junke.7.txt"
   ]
  },
  {
   "cell_type": "code",
   "execution_count": 27,
   "id": "c0ca147d-9857-403c-bee6-6cff82edeb77",
   "metadata": {},
   "outputs": [
    {
     "name": "stdout",
     "output_type": "stream",
     "text": [
      "Hostname:           x1-02-2.genome.duke.edu\n",
      "Slurm Array Index:  0\n",
      "Time Stamp:         05-26-23+14:24:49\n",
      "\n",
      "Input:  /data/reddylab/Kuei/out/proj_combeffect_encode_fcc/results/region/hic_intact_ENCSR479XDG/loop/loopB.bed.gz\n",
      "\n",
      "show first few lines of input\n",
      "chr1\t840000\t850000\n",
      "chr1\t976000\t978000\n",
      "chr1\t1060000\t1065000\n",
      "chr1\t1060000\t1065000\n",
      "chr1\t1060000\t1065000\n",
      "\n",
      "Input:  /data/reddylab/Kuei/out/proj_combeffect_encode_fcc/results/region/annotation_enhancer_zscore_junke/enhancer_zscore_junke.concat.STARR.bed.gz\n",
      "\n",
      "show first few lines of input\n",
      "chr1\t778420\t779050\tWSTARR\n",
      "chr1\t827430\t827560\tWSTARR\n",
      "chr1\t959270\t959620\tWSTARR\n",
      "chr1\t997730\t997950\tWSTARR\n",
      "chr1\t1000690\t1000990\tWSTARR\n",
      "\n",
      "\n",
      "Output:  /data/reddylab/Kuei/out/proj_combeffect_encode_fcc/results/region/hic_intact_ENCSR479XDG/loop/annotation_enhancer_zscore_junke/loopB.annotation.enhancer_zscore_junke.concat.STARR.bed.gz\n",
      "\n",
      "show first few lines of output:\n",
      "chr1\t1060000\t1065000\tchr1\t1064070\t1064300\tWSTARR\t230\n",
      "chr1\t1060000\t1065000\tchr1\t1064510\t1064750\tWSTARR\t240\n",
      "chr1\t1060000\t1065000\tchr1\t1064070\t1064300\tWSTARR\t230\n",
      "chr1\t1060000\t1065000\tchr1\t1064510\t1064750\tWSTARR\t240\n",
      "chr1\t1060000\t1065000\tchr1\t1064070\t1064300\tWSTARR\t230\n",
      "\n",
      "\n",
      "Done!\n",
      "Run Time: 0 seconds\n"
     ]
    }
   ],
   "source": [
    "cat ${FD_LOG}/annotation_hic_intact_ENCSR479XDG_loopB_enhancer_zscore_junke.0.txt"
   ]
  },
  {
   "cell_type": "code",
   "execution_count": 28,
   "id": "3ff6dfef-722c-431e-a3b2-9bd04b3276fc",
   "metadata": {},
   "outputs": [
    {
     "name": "stdout",
     "output_type": "stream",
     "text": [
      "Hostname:           x1-02-1.genome.duke.edu\n",
      "Slurm Array Index:  1\n",
      "Time Stamp:         05-26-23+14:24:49\n",
      "\n",
      "Input:  /data/reddylab/Kuei/out/proj_combeffect_encode_fcc/results/region/hic_intact_ENCSR479XDG/loop/loopB.bed.gz\n",
      "\n",
      "show first few lines of input\n",
      "chr1\t840000\t850000\n",
      "chr1\t976000\t978000\n",
      "chr1\t1060000\t1065000\n",
      "chr1\t1060000\t1065000\n",
      "chr1\t1060000\t1065000\n",
      "\n",
      "Input:  /data/reddylab/Kuei/out/proj_combeffect_encode_fcc/results/region/annotation_enhancer_zscore_junke/enhancer_zscore_junke.concat.STARRMPRA.bed.gz\n",
      "\n",
      "show first few lines of input\n",
      "chr1\t778420\t779050\tWSTARR\n",
      "chr1\t827430\t827560\tWSTARR\n",
      "chr1\t904350\t904550\tLMPRA\n",
      "chr1\t941699\t941899\tLMPRA\n",
      "chr1\t959200\t959400\tLMPRA\n",
      "\n",
      "\n",
      "Output:  /data/reddylab/Kuei/out/proj_combeffect_encode_fcc/results/region/hic_intact_ENCSR479XDG/loop/annotation_enhancer_zscore_junke/loopB.annotation.enhancer_zscore_junke.concat.STARRMPRA.bed.gz\n",
      "\n",
      "show first few lines of output:\n",
      "chr1\t1060000\t1065000\tchr1\t1064070\t1064300\tWSTARR\t230\n",
      "chr1\t1060000\t1065000\tchr1\t1064510\t1064750\tWSTARR\t240\n",
      "chr1\t1060000\t1065000\tchr1\t1064070\t1064300\tWSTARR\t230\n",
      "chr1\t1060000\t1065000\tchr1\t1064510\t1064750\tWSTARR\t240\n",
      "chr1\t1060000\t1065000\tchr1\t1064070\t1064300\tWSTARR\t230\n",
      "\n",
      "\n",
      "Done!\n",
      "Run Time: 0 seconds\n"
     ]
    }
   ],
   "source": [
    "cat ${FD_LOG}/annotation_hic_intact_ENCSR479XDG_loopB_enhancer_zscore_junke.1.txt"
   ]
  },
  {
   "cell_type": "code",
   "execution_count": 29,
   "id": "28fc1be3-faf8-472c-8c96-faf1f3fbb0bc",
   "metadata": {},
   "outputs": [
    {
     "name": "stdout",
     "output_type": "stream",
     "text": [
      "Hostname:           x1-03-1.genome.duke.edu\n",
      "Slurm Array Index:  7\n",
      "Time Stamp:         05-26-23+14:24:49\n",
      "\n",
      "Input:  /data/reddylab/Kuei/out/proj_combeffect_encode_fcc/results/region/hic_intact_ENCSR479XDG/loop/loopB.bed.gz\n",
      "\n",
      "show first few lines of input\n",
      "chr1\t840000\t850000\n",
      "chr1\t976000\t978000\n",
      "chr1\t1060000\t1065000\n",
      "chr1\t1060000\t1065000\n",
      "chr1\t1060000\t1065000\n",
      "\n",
      "Input:  /data/reddylab/Kuei/out/proj_combeffect_encode_fcc/results/region/annotation_enhancer_zscore_junke/enhancer_zscore_junke.peak.WSTARR.bed.gz\n",
      "\n",
      "show first few lines of input\n",
      "chr1\t778420\t779050\tWSTARR\n",
      "chr1\t827430\t827560\tWSTARR\n",
      "chr1\t959270\t959620\tWSTARR\n",
      "chr1\t997730\t997950\tWSTARR\n",
      "chr1\t1000690\t1000990\tWSTARR\n",
      "\n",
      "\n",
      "Output:  /data/reddylab/Kuei/out/proj_combeffect_encode_fcc/results/region/hic_intact_ENCSR479XDG/loop/annotation_enhancer_zscore_junke/loopB.annotation.enhancer_zscore_junke.peak.WSTARR.bed.gz\n",
      "\n",
      "show first few lines of output:\n",
      "chr1\t1060000\t1065000\tchr1\t1064070\t1064300\tWSTARR\t230\n",
      "chr1\t1060000\t1065000\tchr1\t1064510\t1064750\tWSTARR\t240\n",
      "chr1\t1060000\t1065000\tchr1\t1064070\t1064300\tWSTARR\t230\n",
      "chr1\t1060000\t1065000\tchr1\t1064510\t1064750\tWSTARR\t240\n",
      "chr1\t1060000\t1065000\tchr1\t1064070\t1064300\tWSTARR\t230\n",
      "\n",
      "\n",
      "Done!\n",
      "Run Time: 0 seconds\n"
     ]
    }
   ],
   "source": [
    "cat ${FD_LOG}/annotation_hic_intact_ENCSR479XDG_loopB_enhancer_zscore_junke.7.txt"
   ]
  },
  {
   "cell_type": "code",
   "execution_count": null,
   "id": "d2325fc8-25d5-4e7c-ab6e-79a3e5940bd0",
   "metadata": {},
   "outputs": [],
   "source": []
  }
 ],
 "metadata": {
  "kernelspec": {
   "display_name": "Bash",
   "language": "bash",
   "name": "bash"
  },
  "language_info": {
   "codemirror_mode": "shell",
   "file_extension": ".sh",
   "mimetype": "text/x-sh",
   "name": "bash"
  }
 },
 "nbformat": 4,
 "nbformat_minor": 5
}
