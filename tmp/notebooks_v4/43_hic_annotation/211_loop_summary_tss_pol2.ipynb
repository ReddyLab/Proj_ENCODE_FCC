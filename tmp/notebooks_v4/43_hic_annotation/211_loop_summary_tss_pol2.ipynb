{
 "cells": [
  {
   "cell_type": "code",
   "execution_count": 1,
   "metadata": {},
   "outputs": [
    {
     "name": "stdout",
     "output_type": "stream",
     "text": [
      "You are in Singularity: singularity_proj_encode_fcc \n",
      "BASE DIRECTORY (FD_BASE): /data/reddylab/Kuei \n",
      "WORK DIRECTORY (FD_WORK): /data/reddylab/Kuei/out \n",
      "CODE DIRECTORY (FD_CODE): /data/reddylab/Kuei/code \n",
      "PATH OF PROJECT (FD_PRJ): /data/reddylab/Kuei/code/Proj_CombEffect_ENCODE_FCC \n",
      "PATH OF RESULTS (FD_RES): /data/reddylab/Kuei/out/proj_combeffect_encode_fcc \n",
      "PATH OF LOG     (FD_LOG): /data/reddylab/Kuei/out/proj_combeffect_encode_fcc/log \n"
     ]
    }
   ],
   "source": [
    "suppressMessages(suppressWarnings(source(\"../config/config_sing.R\")))\n",
    "show_env()"
   ]
  },
  {
   "cell_type": "code",
   "execution_count": 3,
   "metadata": {},
   "outputs": [
    {
     "data": {
      "text/html": [
       "<style>\n",
       ".list-inline {list-style: none; margin:0; padding: 0}\n",
       ".list-inline>li {display: inline-block}\n",
       ".list-inline>li:not(:last-child)::after {content: \"\\00b7\"; padding: 0 .5ex}\n",
       "</style>\n",
       "<ol class=list-inline><li>'loopA.annotation.K562.TSS.selected_by_highest_Pol2_signal.bed.gz'</li><li>'loopB.annotation.K562.TSS.selected_by_highest_Pol2_signal.bed.gz'</li></ol>\n"
      ],
      "text/latex": [
       "\\begin{enumerate*}\n",
       "\\item 'loopA.annotation.K562.TSS.selected\\_by\\_highest\\_Pol2\\_signal.bed.gz'\n",
       "\\item 'loopB.annotation.K562.TSS.selected\\_by\\_highest\\_Pol2\\_signal.bed.gz'\n",
       "\\end{enumerate*}\n"
      ],
      "text/markdown": [
       "1. 'loopA.annotation.K562.TSS.selected_by_highest_Pol2_signal.bed.gz'\n",
       "2. 'loopB.annotation.K562.TSS.selected_by_highest_Pol2_signal.bed.gz'\n",
       "\n",
       "\n"
      ],
      "text/plain": [
       "[1] \"loopA.annotation.K562.TSS.selected_by_highest_Pol2_signal.bed.gz\"\n",
       "[2] \"loopB.annotation.K562.TSS.selected_by_highest_Pol2_signal.bed.gz\""
      ]
     },
     "metadata": {},
     "output_type": "display_data"
    }
   ],
   "source": [
    "fdiry = file.path(\n",
    "    FD_RES, \n",
    "    \"results\", \n",
    "    \"region\", \n",
    "    \"hic_intact_ENCSR479XDG\", \n",
    "    \"loop\",\n",
    "    \"annotation_tss_pol2\"\n",
    ")\n",
    "dir(fdiry)"
   ]
  },
  {
   "cell_type": "code",
   "execution_count": 4,
   "metadata": {},
   "outputs": [
    {
     "data": {
      "text/html": [
       "<style>\n",
       ".list-inline {list-style: none; margin:0; padding: 0}\n",
       ".list-inline>li {display: inline-block}\n",
       ".list-inline>li:not(:last-child)::after {content: \"\\00b7\"; padding: 0 .5ex}\n",
       "</style>\n",
       "<ol class=list-inline><li>'description.tsv'</li><li>'K562.TSS.selected_by_highest_Pol2_signal.bed'</li><li>'K562.TSS.selected_by_highest_Pol2_signal.bed.gz'</li></ol>\n"
      ],
      "text/latex": [
       "\\begin{enumerate*}\n",
       "\\item 'description.tsv'\n",
       "\\item 'K562.TSS.selected\\_by\\_highest\\_Pol2\\_signal.bed'\n",
       "\\item 'K562.TSS.selected\\_by\\_highest\\_Pol2\\_signal.bed.gz'\n",
       "\\end{enumerate*}\n"
      ],
      "text/markdown": [
       "1. 'description.tsv'\n",
       "2. 'K562.TSS.selected_by_highest_Pol2_signal.bed'\n",
       "3. 'K562.TSS.selected_by_highest_Pol2_signal.bed.gz'\n",
       "\n",
       "\n"
      ],
      "text/plain": [
       "[1] \"description.tsv\"                                \n",
       "[2] \"K562.TSS.selected_by_highest_Pol2_signal.bed\"   \n",
       "[3] \"K562.TSS.selected_by_highest_Pol2_signal.bed.gz\""
      ]
     },
     "metadata": {},
     "output_type": "display_data"
    }
   ],
   "source": [
    "fdiry = file.path(\n",
    "    FD_RES, \n",
    "    \"results\", \n",
    "    \"region\", \n",
    "    \"annotation_tss_pol2\")\n",
    "dir(fdiry)"
   ]
  },
  {
   "cell_type": "markdown",
   "metadata": {},
   "source": [
    "## Import data"
   ]
  },
  {
   "cell_type": "code",
   "execution_count": 6,
   "metadata": {},
   "outputs": [
    {
     "name": "stdout",
     "output_type": "stream",
     "text": [
      "[1] 5 2\n"
     ]
    },
    {
     "data": {
      "text/html": [
       "<table class=\"dataframe\">\n",
       "<caption>A spec_tbl_df: 5 × 2</caption>\n",
       "<thead>\n",
       "\t<tr><th scope=col>Name</th><th scope=col>Description</th></tr>\n",
       "\t<tr><th scope=col>&lt;chr&gt;</th><th scope=col>&lt;chr&gt;</th></tr>\n",
       "</thead>\n",
       "<tbody>\n",
       "\t<tr><td>Chrom</td><td>Chromosome                                                                                 </td></tr>\n",
       "\t<tr><td>Start</td><td>TSS position                                                                               </td></tr>\n",
       "\t<tr><td>End  </td><td>TSS position                                                                               </td></tr>\n",
       "\t<tr><td>Name </td><td>Gene name                                                                                  </td></tr>\n",
       "\t<tr><td>Score</td><td>highest level of pol2 chip seq (ENCFF914WIS.bigWig) at [TSS-500, TSS+500] among TSS isoform</td></tr>\n",
       "</tbody>\n",
       "</table>\n"
      ],
      "text/latex": [
       "A spec\\_tbl\\_df: 5 × 2\n",
       "\\begin{tabular}{ll}\n",
       " Name & Description\\\\\n",
       " <chr> & <chr>\\\\\n",
       "\\hline\n",
       "\t Chrom & Chromosome                                                                                 \\\\\n",
       "\t Start & TSS position                                                                               \\\\\n",
       "\t End   & TSS position                                                                               \\\\\n",
       "\t Name  & Gene name                                                                                  \\\\\n",
       "\t Score & highest level of pol2 chip seq (ENCFF914WIS.bigWig) at {[}TSS-500, TSS+500{]} among TSS isoform\\\\\n",
       "\\end{tabular}\n"
      ],
      "text/markdown": [
       "\n",
       "A spec_tbl_df: 5 × 2\n",
       "\n",
       "| Name &lt;chr&gt; | Description &lt;chr&gt; |\n",
       "|---|---|\n",
       "| Chrom | Chromosome                                                                                  |\n",
       "| Start | TSS position                                                                                |\n",
       "| End   | TSS position                                                                                |\n",
       "| Name  | Gene name                                                                                   |\n",
       "| Score | highest level of pol2 chip seq (ENCFF914WIS.bigWig) at [TSS-500, TSS+500] among TSS isoform |\n",
       "\n"
      ],
      "text/plain": [
       "  Name \n",
       "1 Chrom\n",
       "2 Start\n",
       "3 End  \n",
       "4 Name \n",
       "5 Score\n",
       "  Description                                                                                \n",
       "1 Chromosome                                                                                 \n",
       "2 TSS position                                                                               \n",
       "3 TSS position                                                                               \n",
       "4 Gene name                                                                                  \n",
       "5 highest level of pol2 chip seq (ENCFF914WIS.bigWig) at [TSS-500, TSS+500] among TSS isoform"
      ]
     },
     "metadata": {},
     "output_type": "display_data"
    }
   ],
   "source": [
    "fdiry = file.path(\n",
    "    FD_RES, \n",
    "    \"results\", \n",
    "    \"region\", \n",
    "    \"annotation_tss_pol2\")\n",
    "fname = \"description.tsv\"\n",
    "fpath = file.path(fdiry, fname)\n",
    "\n",
    "dat = read_tsv(fpath, show_col_types = FALSE)\n",
    "\n",
    "dat_cnames = dat\n",
    "print(dim(dat))\n",
    "dat"
   ]
  },
  {
   "cell_type": "code",
   "execution_count": 22,
   "metadata": {},
   "outputs": [
    {
     "name": "stdout",
     "output_type": "stream",
     "text": [
      "[1] 9615   12\n"
     ]
    },
    {
     "data": {
      "text/html": [
       "<table class=\"dataframe\">\n",
       "<caption>A rowwise_df: 6 × 12</caption>\n",
       "<thead>\n",
       "\t<tr><th scope=col>Chrom_Loop</th><th scope=col>Start_Loop</th><th scope=col>End_Loop</th><th scope=col>Chrom</th><th scope=col>Start</th><th scope=col>End</th><th scope=col>Name</th><th scope=col>Score</th><th scope=col>Overlap</th><th scope=col>LoopA</th><th scope=col>Annotation</th><th scope=col>Label</th></tr>\n",
       "\t<tr><th scope=col>&lt;chr&gt;</th><th scope=col>&lt;dbl&gt;</th><th scope=col>&lt;dbl&gt;</th><th scope=col>&lt;chr&gt;</th><th scope=col>&lt;dbl&gt;</th><th scope=col>&lt;dbl&gt;</th><th scope=col>&lt;chr&gt;</th><th scope=col>&lt;dbl&gt;</th><th scope=col>&lt;dbl&gt;</th><th scope=col>&lt;chr&gt;</th><th scope=col>&lt;chr&gt;</th><th scope=col>&lt;chr&gt;</th></tr>\n",
       "</thead>\n",
       "<tbody>\n",
       "\t<tr><td>chr1</td><td> 770000</td><td> 780000</td><td>chr1</td><td> 778634</td><td> 778635</td><td>LOC100288069</td><td>230.5610000</td><td>1</td><td>chr1:770000-780000  </td><td>TSS_POL2</td><td>TSS</td></tr>\n",
       "\t<tr><td>chr1</td><td> 980000</td><td> 990000</td><td>chr1</td><td> 981173</td><td> 981174</td><td>PERM1       </td><td>  0.0866495</td><td>1</td><td>chr1:980000-990000  </td><td>TSS_POL2</td><td>TSS</td></tr>\n",
       "\t<tr><td>chr1</td><td>1000000</td><td>1005000</td><td>chr1</td><td>1000097</td><td>1000098</td><td>HES4        </td><td> 50.5814000</td><td>1</td><td>chr1:1000000-1005000</td><td>TSS_POL2</td><td>TSS</td></tr>\n",
       "\t<tr><td>chr1</td><td>1020000</td><td>1025000</td><td>chr1</td><td>1020119</td><td>1020120</td><td>AGRN        </td><td>  2.7143300</td><td>1</td><td>chr1:1020000-1025000</td><td>TSS_POL2</td><td>TSS</td></tr>\n",
       "\t<tr><td>chr1</td><td>1116000</td><td>1118000</td><td>chr1</td><td>1116089</td><td>1116090</td><td>C1orf159    </td><td> 16.4374000</td><td>1</td><td>chr1:1116000-1118000</td><td>TSS_POL2</td><td>TSS</td></tr>\n",
       "\t<tr><td>chr1</td><td>1300000</td><td>1310000</td><td>chr1</td><td>1304812</td><td>1304813</td><td>SNORD167    </td><td>  2.5613800</td><td>1</td><td>chr1:1300000-1310000</td><td>TSS_POL2</td><td>TSS</td></tr>\n",
       "</tbody>\n",
       "</table>\n"
      ],
      "text/latex": [
       "A rowwise\\_df: 6 × 12\n",
       "\\begin{tabular}{llllllllllll}\n",
       " Chrom\\_Loop & Start\\_Loop & End\\_Loop & Chrom & Start & End & Name & Score & Overlap & LoopA & Annotation & Label\\\\\n",
       " <chr> & <dbl> & <dbl> & <chr> & <dbl> & <dbl> & <chr> & <dbl> & <dbl> & <chr> & <chr> & <chr>\\\\\n",
       "\\hline\n",
       "\t chr1 &  770000 &  780000 & chr1 &  778634 &  778635 & LOC100288069 & 230.5610000 & 1 & chr1:770000-780000   & TSS\\_POL2 & TSS\\\\\n",
       "\t chr1 &  980000 &  990000 & chr1 &  981173 &  981174 & PERM1        &   0.0866495 & 1 & chr1:980000-990000   & TSS\\_POL2 & TSS\\\\\n",
       "\t chr1 & 1000000 & 1005000 & chr1 & 1000097 & 1000098 & HES4         &  50.5814000 & 1 & chr1:1000000-1005000 & TSS\\_POL2 & TSS\\\\\n",
       "\t chr1 & 1020000 & 1025000 & chr1 & 1020119 & 1020120 & AGRN         &   2.7143300 & 1 & chr1:1020000-1025000 & TSS\\_POL2 & TSS\\\\\n",
       "\t chr1 & 1116000 & 1118000 & chr1 & 1116089 & 1116090 & C1orf159     &  16.4374000 & 1 & chr1:1116000-1118000 & TSS\\_POL2 & TSS\\\\\n",
       "\t chr1 & 1300000 & 1310000 & chr1 & 1304812 & 1304813 & SNORD167     &   2.5613800 & 1 & chr1:1300000-1310000 & TSS\\_POL2 & TSS\\\\\n",
       "\\end{tabular}\n"
      ],
      "text/markdown": [
       "\n",
       "A rowwise_df: 6 × 12\n",
       "\n",
       "| Chrom_Loop &lt;chr&gt; | Start_Loop &lt;dbl&gt; | End_Loop &lt;dbl&gt; | Chrom &lt;chr&gt; | Start &lt;dbl&gt; | End &lt;dbl&gt; | Name &lt;chr&gt; | Score &lt;dbl&gt; | Overlap &lt;dbl&gt; | LoopA &lt;chr&gt; | Annotation &lt;chr&gt; | Label &lt;chr&gt; |\n",
       "|---|---|---|---|---|---|---|---|---|---|---|---|\n",
       "| chr1 |  770000 |  780000 | chr1 |  778634 |  778635 | LOC100288069 | 230.5610000 | 1 | chr1:770000-780000   | TSS_POL2 | TSS |\n",
       "| chr1 |  980000 |  990000 | chr1 |  981173 |  981174 | PERM1        |   0.0866495 | 1 | chr1:980000-990000   | TSS_POL2 | TSS |\n",
       "| chr1 | 1000000 | 1005000 | chr1 | 1000097 | 1000098 | HES4         |  50.5814000 | 1 | chr1:1000000-1005000 | TSS_POL2 | TSS |\n",
       "| chr1 | 1020000 | 1025000 | chr1 | 1020119 | 1020120 | AGRN         |   2.7143300 | 1 | chr1:1020000-1025000 | TSS_POL2 | TSS |\n",
       "| chr1 | 1116000 | 1118000 | chr1 | 1116089 | 1116090 | C1orf159     |  16.4374000 | 1 | chr1:1116000-1118000 | TSS_POL2 | TSS |\n",
       "| chr1 | 1300000 | 1310000 | chr1 | 1304812 | 1304813 | SNORD167     |   2.5613800 | 1 | chr1:1300000-1310000 | TSS_POL2 | TSS |\n",
       "\n"
      ],
      "text/plain": [
       "  Chrom_Loop Start_Loop End_Loop Chrom Start   End     Name         Score      \n",
       "1 chr1        770000     780000  chr1   778634  778635 LOC100288069 230.5610000\n",
       "2 chr1        980000     990000  chr1   981173  981174 PERM1          0.0866495\n",
       "3 chr1       1000000    1005000  chr1  1000097 1000098 HES4          50.5814000\n",
       "4 chr1       1020000    1025000  chr1  1020119 1020120 AGRN           2.7143300\n",
       "5 chr1       1116000    1118000  chr1  1116089 1116090 C1orf159      16.4374000\n",
       "6 chr1       1300000    1310000  chr1  1304812 1304813 SNORD167       2.5613800\n",
       "  Overlap LoopA                Annotation Label\n",
       "1 1       chr1:770000-780000   TSS_POL2   TSS  \n",
       "2 1       chr1:980000-990000   TSS_POL2   TSS  \n",
       "3 1       chr1:1000000-1005000 TSS_POL2   TSS  \n",
       "4 1       chr1:1020000-1025000 TSS_POL2   TSS  \n",
       "5 1       chr1:1116000-1118000 TSS_POL2   TSS  \n",
       "6 1       chr1:1300000-1310000 TSS_POL2   TSS  "
      ]
     },
     "metadata": {},
     "output_type": "display_data"
    }
   ],
   "source": [
    "### init\n",
    "annotation = \"TSS_POL2\"\n",
    "label      = \"TSS\"\n",
    "cnames = dat_cnames$Name\n",
    "cnames = c(\"Chrom_Loop\", \"Start_Loop\", \"End_Loop\", cnames, \"Overlap\")\n",
    "\n",
    "###\n",
    "fdiry = file.path(\n",
    "    FD_RES, \n",
    "    \"results\", \n",
    "    \"region\", \n",
    "    \"hic_intact_ENCSR479XDG\", \n",
    "    \"loop\",\n",
    "    \"annotation_tss_pol2\"\n",
    ")\n",
    "fname = \"loopA.annotation.K562.TSS.selected_by_highest_Pol2_signal.bed.gz\"\n",
    "fpath = file.path(fdiry, fname)\n",
    "\n",
    "### read data\n",
    "dat = read_tsv(fpath, col_names = cnames, show_col_types = FALSE)\n",
    "dat = dat %>% dplyr::rowwise() %>% dplyr::mutate(\n",
    "    LoopA      = paste0(\n",
    "        Chrom_Loop, \n",
    "        \":\",\n",
    "        format(Start_Loop, scientific=FALSE), \n",
    "        \"-\",\n",
    "        format(End_Loop,   scientific=FALSE)),\n",
    "    Annotation = annotation,\n",
    "    Label      = label\n",
    ")\n",
    "\n",
    "\n",
    "### assign and show\n",
    "dat_loopA_annot = dat\n",
    "print(dim(dat))\n",
    "head(dat)"
   ]
  },
  {
   "cell_type": "code",
   "execution_count": 23,
   "metadata": {},
   "outputs": [
    {
     "name": "stdout",
     "output_type": "stream",
     "text": [
      "[1] 9698   12\n"
     ]
    },
    {
     "data": {
      "text/html": [
       "<table class=\"dataframe\">\n",
       "<caption>A rowwise_df: 6 × 12</caption>\n",
       "<thead>\n",
       "\t<tr><th scope=col>Chrom_Loop</th><th scope=col>Start_Loop</th><th scope=col>End_Loop</th><th scope=col>Chrom</th><th scope=col>Start</th><th scope=col>End</th><th scope=col>Name</th><th scope=col>Score</th><th scope=col>Overlap</th><th scope=col>LoopB</th><th scope=col>Annotation</th><th scope=col>Label</th></tr>\n",
       "\t<tr><th scope=col>&lt;chr&gt;</th><th scope=col>&lt;dbl&gt;</th><th scope=col>&lt;dbl&gt;</th><th scope=col>&lt;chr&gt;</th><th scope=col>&lt;dbl&gt;</th><th scope=col>&lt;dbl&gt;</th><th scope=col>&lt;chr&gt;</th><th scope=col>&lt;dbl&gt;</th><th scope=col>&lt;dbl&gt;</th><th scope=col>&lt;chr&gt;</th><th scope=col>&lt;chr&gt;</th><th scope=col>&lt;chr&gt;</th></tr>\n",
       "</thead>\n",
       "<tbody>\n",
       "\t<tr><td>chr1</td><td>1116000</td><td>1117000</td><td>chr1</td><td>1116089</td><td>1116090</td><td>C1orf159</td><td> 16.4374000</td><td>1</td><td>chr1:1116000-1117000</td><td>TSS_POL2</td><td>TSS</td></tr>\n",
       "\t<tr><td>chr1</td><td>1205000</td><td>1210000</td><td>chr1</td><td>1206592</td><td>1206593</td><td>TNFRSF18</td><td>  0.0495168</td><td>1</td><td>chr1:1205000-1210000</td><td>TSS_POL2</td><td>TSS</td></tr>\n",
       "\t<tr><td>chr1</td><td>1230000</td><td>1235000</td><td>chr1</td><td>1232001</td><td>1232002</td><td>SDF4    </td><td>101.2020000</td><td>1</td><td>chr1:1230000-1235000</td><td>TSS_POL2</td><td>TSS</td></tr>\n",
       "\t<tr><td>chr1</td><td>1230000</td><td>1235000</td><td>chr1</td><td>1232236</td><td>1232237</td><td>B3GALT6 </td><td> 97.0228000</td><td>1</td><td>chr1:1230000-1235000</td><td>TSS_POL2</td><td>TSS</td></tr>\n",
       "\t<tr><td>chr1</td><td>1290000</td><td>1300000</td><td>chr1</td><td>1296170</td><td>1296171</td><td>MIR6726 </td><td> 10.1557000</td><td>1</td><td>chr1:1290000-1300000</td><td>TSS_POL2</td><td>TSS</td></tr>\n",
       "\t<tr><td>chr1</td><td>1324000</td><td>1326000</td><td>chr1</td><td>1324687</td><td>1324688</td><td>INTS11  </td><td>102.8120000</td><td>1</td><td>chr1:1324000-1326000</td><td>TSS_POL2</td><td>TSS</td></tr>\n",
       "</tbody>\n",
       "</table>\n"
      ],
      "text/latex": [
       "A rowwise\\_df: 6 × 12\n",
       "\\begin{tabular}{llllllllllll}\n",
       " Chrom\\_Loop & Start\\_Loop & End\\_Loop & Chrom & Start & End & Name & Score & Overlap & LoopB & Annotation & Label\\\\\n",
       " <chr> & <dbl> & <dbl> & <chr> & <dbl> & <dbl> & <chr> & <dbl> & <dbl> & <chr> & <chr> & <chr>\\\\\n",
       "\\hline\n",
       "\t chr1 & 1116000 & 1117000 & chr1 & 1116089 & 1116090 & C1orf159 &  16.4374000 & 1 & chr1:1116000-1117000 & TSS\\_POL2 & TSS\\\\\n",
       "\t chr1 & 1205000 & 1210000 & chr1 & 1206592 & 1206593 & TNFRSF18 &   0.0495168 & 1 & chr1:1205000-1210000 & TSS\\_POL2 & TSS\\\\\n",
       "\t chr1 & 1230000 & 1235000 & chr1 & 1232001 & 1232002 & SDF4     & 101.2020000 & 1 & chr1:1230000-1235000 & TSS\\_POL2 & TSS\\\\\n",
       "\t chr1 & 1230000 & 1235000 & chr1 & 1232236 & 1232237 & B3GALT6  &  97.0228000 & 1 & chr1:1230000-1235000 & TSS\\_POL2 & TSS\\\\\n",
       "\t chr1 & 1290000 & 1300000 & chr1 & 1296170 & 1296171 & MIR6726  &  10.1557000 & 1 & chr1:1290000-1300000 & TSS\\_POL2 & TSS\\\\\n",
       "\t chr1 & 1324000 & 1326000 & chr1 & 1324687 & 1324688 & INTS11   & 102.8120000 & 1 & chr1:1324000-1326000 & TSS\\_POL2 & TSS\\\\\n",
       "\\end{tabular}\n"
      ],
      "text/markdown": [
       "\n",
       "A rowwise_df: 6 × 12\n",
       "\n",
       "| Chrom_Loop &lt;chr&gt; | Start_Loop &lt;dbl&gt; | End_Loop &lt;dbl&gt; | Chrom &lt;chr&gt; | Start &lt;dbl&gt; | End &lt;dbl&gt; | Name &lt;chr&gt; | Score &lt;dbl&gt; | Overlap &lt;dbl&gt; | LoopB &lt;chr&gt; | Annotation &lt;chr&gt; | Label &lt;chr&gt; |\n",
       "|---|---|---|---|---|---|---|---|---|---|---|---|\n",
       "| chr1 | 1116000 | 1117000 | chr1 | 1116089 | 1116090 | C1orf159 |  16.4374000 | 1 | chr1:1116000-1117000 | TSS_POL2 | TSS |\n",
       "| chr1 | 1205000 | 1210000 | chr1 | 1206592 | 1206593 | TNFRSF18 |   0.0495168 | 1 | chr1:1205000-1210000 | TSS_POL2 | TSS |\n",
       "| chr1 | 1230000 | 1235000 | chr1 | 1232001 | 1232002 | SDF4     | 101.2020000 | 1 | chr1:1230000-1235000 | TSS_POL2 | TSS |\n",
       "| chr1 | 1230000 | 1235000 | chr1 | 1232236 | 1232237 | B3GALT6  |  97.0228000 | 1 | chr1:1230000-1235000 | TSS_POL2 | TSS |\n",
       "| chr1 | 1290000 | 1300000 | chr1 | 1296170 | 1296171 | MIR6726  |  10.1557000 | 1 | chr1:1290000-1300000 | TSS_POL2 | TSS |\n",
       "| chr1 | 1324000 | 1326000 | chr1 | 1324687 | 1324688 | INTS11   | 102.8120000 | 1 | chr1:1324000-1326000 | TSS_POL2 | TSS |\n",
       "\n"
      ],
      "text/plain": [
       "  Chrom_Loop Start_Loop End_Loop Chrom Start   End     Name     Score      \n",
       "1 chr1       1116000    1117000  chr1  1116089 1116090 C1orf159  16.4374000\n",
       "2 chr1       1205000    1210000  chr1  1206592 1206593 TNFRSF18   0.0495168\n",
       "3 chr1       1230000    1235000  chr1  1232001 1232002 SDF4     101.2020000\n",
       "4 chr1       1230000    1235000  chr1  1232236 1232237 B3GALT6   97.0228000\n",
       "5 chr1       1290000    1300000  chr1  1296170 1296171 MIR6726   10.1557000\n",
       "6 chr1       1324000    1326000  chr1  1324687 1324688 INTS11   102.8120000\n",
       "  Overlap LoopB                Annotation Label\n",
       "1 1       chr1:1116000-1117000 TSS_POL2   TSS  \n",
       "2 1       chr1:1205000-1210000 TSS_POL2   TSS  \n",
       "3 1       chr1:1230000-1235000 TSS_POL2   TSS  \n",
       "4 1       chr1:1230000-1235000 TSS_POL2   TSS  \n",
       "5 1       chr1:1290000-1300000 TSS_POL2   TSS  \n",
       "6 1       chr1:1324000-1326000 TSS_POL2   TSS  "
      ]
     },
     "metadata": {},
     "output_type": "display_data"
    }
   ],
   "source": [
    "### init\n",
    "annotation = \"TSS_POL2\"\n",
    "label      = \"TSS\"\n",
    "cnames = dat_cnames$Name\n",
    "cnames = c(\"Chrom_Loop\", \"Start_Loop\", \"End_Loop\", cnames, \"Overlap\")\n",
    "\n",
    "###\n",
    "fdiry = file.path(\n",
    "    FD_RES, \n",
    "    \"results\", \n",
    "    \"region\", \n",
    "    \"hic_intact_ENCSR479XDG\", \n",
    "    \"loop\",\n",
    "    \"annotation_tss_pol2\"\n",
    ")\n",
    "fname = \"loopB.annotation.K562.TSS.selected_by_highest_Pol2_signal.bed.gz\"\n",
    "fpath = file.path(fdiry, fname)\n",
    "\n",
    "### read data\n",
    "dat = read_tsv(fpath, col_names = cnames, show_col_types = FALSE)\n",
    "dat = dat %>% dplyr::rowwise() %>% dplyr::mutate(\n",
    "    LoopB      = paste0(\n",
    "        Chrom_Loop, \n",
    "        \":\",\n",
    "        format(Start_Loop, scientific=FALSE), \n",
    "        \"-\",\n",
    "        format(End_Loop,   scientific=FALSE)),\n",
    "    Annotation = annotation,\n",
    "    Label      = label\n",
    ")\n",
    "\n",
    "### assign and show\n",
    "dat_loopB_annot = dat\n",
    "print(dim(dat))\n",
    "head(dat)"
   ]
  },
  {
   "cell_type": "code",
   "execution_count": 24,
   "metadata": {},
   "outputs": [
    {
     "data": {
      "text/html": [
       "<style>\n",
       ".list-inline {list-style: none; margin:0; padding: 0}\n",
       ".list-inline>li {display: inline-block}\n",
       ".list-inline>li:not(:last-child)::after {content: \"\\00b7\"; padding: 0 .5ex}\n",
       "</style>\n",
       "<ol class=list-inline><li>'chr1: 900'</li><li>'chr1:1000'</li></ol>\n"
      ],
      "text/latex": [
       "\\begin{enumerate*}\n",
       "\\item 'chr1: 900'\n",
       "\\item 'chr1:1000'\n",
       "\\end{enumerate*}\n"
      ],
      "text/markdown": [
       "1. 'chr1: 900'\n",
       "2. 'chr1:1000'\n",
       "\n",
       "\n"
      ],
      "text/plain": [
       "[1] \"chr1: 900\" \"chr1:1000\""
      ]
     },
     "metadata": {},
     "output_type": "display_data"
    }
   ],
   "source": [
    "paste0(\"chr1\", \n",
    "        \":\",\n",
    "        format(c(900, 1000), scientific=FALSE))"
   ]
  },
  {
   "cell_type": "code",
   "execution_count": null,
   "metadata": {},
   "outputs": [],
   "source": []
  },
  {
   "cell_type": "code",
   "execution_count": 25,
   "metadata": {},
   "outputs": [
    {
     "name": "stdout",
     "output_type": "stream",
     "text": [
      "[1] 6440    4\n"
     ]
    },
    {
     "data": {
      "text/html": [
       "<table class=\"dataframe\">\n",
       "<caption>A tibble: 6 × 4</caption>\n",
       "<thead>\n",
       "\t<tr><th scope=col>LoopA</th><th scope=col>Annotation</th><th scope=col>Label</th><th scope=col>Count</th></tr>\n",
       "\t<tr><th scope=col>&lt;chr&gt;</th><th scope=col>&lt;chr&gt;</th><th scope=col>&lt;chr&gt;</th><th scope=col>&lt;int&gt;</th></tr>\n",
       "</thead>\n",
       "<tbody>\n",
       "\t<tr><td>chr10:100340000-100350000</td><td>TSS_POL2</td><td>TSS</td><td>1</td></tr>\n",
       "\t<tr><td>chr10:100347000-100348000</td><td>TSS_POL2</td><td>TSS</td><td>1</td></tr>\n",
       "\t<tr><td>chr10:100515000-100520000</td><td>TSS_POL2</td><td>TSS</td><td>1</td></tr>\n",
       "\t<tr><td>chr10:101030000-101035000</td><td>TSS_POL2</td><td>TSS</td><td>2</td></tr>\n",
       "\t<tr><td>chr10:101030000-101040000</td><td>TSS_POL2</td><td>TSS</td><td>2</td></tr>\n",
       "\t<tr><td>chr10:101060000-101070000</td><td>TSS_POL2</td><td>TSS</td><td>1</td></tr>\n",
       "</tbody>\n",
       "</table>\n"
      ],
      "text/latex": [
       "A tibble: 6 × 4\n",
       "\\begin{tabular}{llll}\n",
       " LoopA & Annotation & Label & Count\\\\\n",
       " <chr> & <chr> & <chr> & <int>\\\\\n",
       "\\hline\n",
       "\t chr10:100340000-100350000 & TSS\\_POL2 & TSS & 1\\\\\n",
       "\t chr10:100347000-100348000 & TSS\\_POL2 & TSS & 1\\\\\n",
       "\t chr10:100515000-100520000 & TSS\\_POL2 & TSS & 1\\\\\n",
       "\t chr10:101030000-101035000 & TSS\\_POL2 & TSS & 2\\\\\n",
       "\t chr10:101030000-101040000 & TSS\\_POL2 & TSS & 2\\\\\n",
       "\t chr10:101060000-101070000 & TSS\\_POL2 & TSS & 1\\\\\n",
       "\\end{tabular}\n"
      ],
      "text/markdown": [
       "\n",
       "A tibble: 6 × 4\n",
       "\n",
       "| LoopA &lt;chr&gt; | Annotation &lt;chr&gt; | Label &lt;chr&gt; | Count &lt;int&gt; |\n",
       "|---|---|---|---|\n",
       "| chr10:100340000-100350000 | TSS_POL2 | TSS | 1 |\n",
       "| chr10:100347000-100348000 | TSS_POL2 | TSS | 1 |\n",
       "| chr10:100515000-100520000 | TSS_POL2 | TSS | 1 |\n",
       "| chr10:101030000-101035000 | TSS_POL2 | TSS | 2 |\n",
       "| chr10:101030000-101040000 | TSS_POL2 | TSS | 2 |\n",
       "| chr10:101060000-101070000 | TSS_POL2 | TSS | 1 |\n",
       "\n"
      ],
      "text/plain": [
       "  LoopA                     Annotation Label Count\n",
       "1 chr10:100340000-100350000 TSS_POL2   TSS   1    \n",
       "2 chr10:100347000-100348000 TSS_POL2   TSS   1    \n",
       "3 chr10:100515000-100520000 TSS_POL2   TSS   1    \n",
       "4 chr10:101030000-101035000 TSS_POL2   TSS   2    \n",
       "5 chr10:101030000-101040000 TSS_POL2   TSS   2    \n",
       "6 chr10:101060000-101070000 TSS_POL2   TSS   1    "
      ]
     },
     "metadata": {},
     "output_type": "display_data"
    }
   ],
   "source": [
    "dat = dat_loopA_annot\n",
    "dat = dat %>% \n",
    "    dplyr::group_by(LoopA, Annotation, Label) %>%\n",
    "    dplyr::summarise(Count = n(), .groups = \"drop\")\n",
    "\n",
    "### assign and show\n",
    "dat_loopA_annot_count = dat\n",
    "print(dim(dat))\n",
    "head(dat)"
   ]
  },
  {
   "cell_type": "code",
   "execution_count": 26,
   "metadata": {},
   "outputs": [
    {
     "data": {
      "text/plain": [
       "\n",
       "   1    2    3    4    5    6    8    9   10   12 \n",
       "4192 1768  202  212    8   43    8    3    2    2 "
      ]
     },
     "metadata": {},
     "output_type": "display_data"
    }
   ],
   "source": [
    "table(dat$Count)"
   ]
  },
  {
   "cell_type": "code",
   "execution_count": 28,
   "metadata": {},
   "outputs": [
    {
     "name": "stdout",
     "output_type": "stream",
     "text": [
      "[1] 6400    4\n"
     ]
    },
    {
     "data": {
      "text/html": [
       "<table class=\"dataframe\">\n",
       "<caption>A tibble: 6 × 4</caption>\n",
       "<thead>\n",
       "\t<tr><th scope=col>LoopB</th><th scope=col>Annotation</th><th scope=col>Label</th><th scope=col>Count</th></tr>\n",
       "\t<tr><th scope=col>&lt;chr&gt;</th><th scope=col>&lt;chr&gt;</th><th scope=col>&lt;chr&gt;</th><th scope=col>&lt;int&gt;</th></tr>\n",
       "</thead>\n",
       "<tbody>\n",
       "\t<tr><td>chr10:100372000-100374000</td><td>TSS_POL2</td><td>TSS</td><td>1</td></tr>\n",
       "\t<tr><td>chr10:100373000-100374000</td><td>TSS_POL2</td><td>TSS</td><td>1</td></tr>\n",
       "\t<tr><td>chr10:101060000-101070000</td><td>TSS_POL2</td><td>TSS</td><td>1</td></tr>\n",
       "\t<tr><td>chr10:101780000-101785000</td><td>TSS_POL2</td><td>TSS</td><td>2</td></tr>\n",
       "\t<tr><td>chr10:102050000-102060000</td><td>TSS_POL2</td><td>TSS</td><td>1</td></tr>\n",
       "\t<tr><td>chr10:102055000-102060000</td><td>TSS_POL2</td><td>TSS</td><td>1</td></tr>\n",
       "</tbody>\n",
       "</table>\n"
      ],
      "text/latex": [
       "A tibble: 6 × 4\n",
       "\\begin{tabular}{llll}\n",
       " LoopB & Annotation & Label & Count\\\\\n",
       " <chr> & <chr> & <chr> & <int>\\\\\n",
       "\\hline\n",
       "\t chr10:100372000-100374000 & TSS\\_POL2 & TSS & 1\\\\\n",
       "\t chr10:100373000-100374000 & TSS\\_POL2 & TSS & 1\\\\\n",
       "\t chr10:101060000-101070000 & TSS\\_POL2 & TSS & 1\\\\\n",
       "\t chr10:101780000-101785000 & TSS\\_POL2 & TSS & 2\\\\\n",
       "\t chr10:102050000-102060000 & TSS\\_POL2 & TSS & 1\\\\\n",
       "\t chr10:102055000-102060000 & TSS\\_POL2 & TSS & 1\\\\\n",
       "\\end{tabular}\n"
      ],
      "text/markdown": [
       "\n",
       "A tibble: 6 × 4\n",
       "\n",
       "| LoopB &lt;chr&gt; | Annotation &lt;chr&gt; | Label &lt;chr&gt; | Count &lt;int&gt; |\n",
       "|---|---|---|---|\n",
       "| chr10:100372000-100374000 | TSS_POL2 | TSS | 1 |\n",
       "| chr10:100373000-100374000 | TSS_POL2 | TSS | 1 |\n",
       "| chr10:101060000-101070000 | TSS_POL2 | TSS | 1 |\n",
       "| chr10:101780000-101785000 | TSS_POL2 | TSS | 2 |\n",
       "| chr10:102050000-102060000 | TSS_POL2 | TSS | 1 |\n",
       "| chr10:102055000-102060000 | TSS_POL2 | TSS | 1 |\n",
       "\n"
      ],
      "text/plain": [
       "  LoopB                     Annotation Label Count\n",
       "1 chr10:100372000-100374000 TSS_POL2   TSS   1    \n",
       "2 chr10:100373000-100374000 TSS_POL2   TSS   1    \n",
       "3 chr10:101060000-101070000 TSS_POL2   TSS   1    \n",
       "4 chr10:101780000-101785000 TSS_POL2   TSS   2    \n",
       "5 chr10:102050000-102060000 TSS_POL2   TSS   1    \n",
       "6 chr10:102055000-102060000 TSS_POL2   TSS   1    "
      ]
     },
     "metadata": {},
     "output_type": "display_data"
    }
   ],
   "source": [
    "dat = dat_loopB_annot\n",
    "dat = dat %>% \n",
    "    dplyr::group_by(LoopB, Annotation, Label) %>%\n",
    "    dplyr::summarise(Count = n(), .groups = \"drop\")\n",
    "\n",
    "### assign and show\n",
    "dat_loopB_annot_count = dat\n",
    "print(dim(dat))\n",
    "head(dat)"
   ]
  },
  {
   "cell_type": "code",
   "execution_count": null,
   "metadata": {},
   "outputs": [],
   "source": []
  },
  {
   "cell_type": "code",
   "execution_count": null,
   "metadata": {},
   "outputs": [],
   "source": []
  },
  {
   "cell_type": "code",
   "execution_count": null,
   "metadata": {},
   "outputs": [],
   "source": []
  },
  {
   "cell_type": "code",
   "execution_count": 29,
   "metadata": {},
   "outputs": [],
   "source": [
    "fdiry = file.path(\n",
    "    FD_RES, \n",
    "    \"results\", \n",
    "    \"region\", \n",
    "    \"hic_intact_ENCSR479XDG\", \n",
    "    \"loop\",\n",
    "    \"summary\"\n",
    ")\n",
    "fname = \"loopA.summary.tss_pol2.tsv\"\n",
    "fpath = file.path(fdiry, fname)\n",
    "\n",
    "dat = dat_loopA_annot_count\n",
    "write_tsv(dat, fpath)"
   ]
  },
  {
   "cell_type": "code",
   "execution_count": 30,
   "metadata": {},
   "outputs": [],
   "source": [
    "fdiry = file.path(\n",
    "    FD_RES, \n",
    "    \"results\", \n",
    "    \"region\", \n",
    "    \"hic_intact_ENCSR479XDG\", \n",
    "    \"loop\",\n",
    "    \"summary\"\n",
    ")\n",
    "fname = \"loopB.summary.tss_pol2.tsv\"\n",
    "fpath = file.path(fdiry, fname)\n",
    "\n",
    "dat = dat_loopB_annot_count\n",
    "write_tsv(dat, fpath)"
   ]
  },
  {
   "cell_type": "code",
   "execution_count": null,
   "metadata": {},
   "outputs": [],
   "source": []
  }
 ],
 "metadata": {
  "kernelspec": {
   "display_name": "R",
   "language": "R",
   "name": "ir"
  },
  "language_info": {
   "codemirror_mode": "r",
   "file_extension": ".r",
   "mimetype": "text/x-r-source",
   "name": "R",
   "pygments_lexer": "r",
   "version": "4.3.0"
  }
 },
 "nbformat": 4,
 "nbformat_minor": 4
}
