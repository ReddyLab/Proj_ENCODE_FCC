{
 "cells": [
  {
   "cell_type": "markdown",
   "metadata": {},
   "source": [
    "**Set environment**"
   ]
  },
  {
   "cell_type": "code",
   "execution_count": 1,
   "metadata": {},
   "outputs": [
    {
     "name": "stdout",
     "output_type": "stream",
     "text": [
      "You are in Singularity: singularity_proj_encode_fcc \n",
      "BASE DIRECTORY (FD_BASE): /data/reddylab/Kuei \n",
      "WORK DIRECTORY (FD_WORK): /data/reddylab/Kuei/out \n",
      "CODE DIRECTORY (FD_CODE): /data/reddylab/Kuei/code \n",
      "PATH OF PROJECT (FD_PRJ): /data/reddylab/Kuei/code/Proj_CombEffect_ENCODE_FCC \n",
      "PATH OF RESULTS (FD_RES): /data/reddylab/Kuei/out/proj_combeffect_encode_fcc \n",
      "PATH OF LOG     (FD_LOG): /data/reddylab/Kuei/out/proj_combeffect_encode_fcc/log \n"
     ]
    }
   ],
   "source": [
    "suppressMessages(suppressWarnings(source(\"../config/config_sing.R\")))\n",
    "show_env()"
   ]
  },
  {
   "cell_type": "markdown",
   "metadata": {},
   "source": [
    "**Check data files**"
   ]
  },
  {
   "cell_type": "code",
   "execution_count": 13,
   "metadata": {},
   "outputs": [],
   "source": [
    "FOLDER_A = \"annotation_fcc_table\"\n",
    "FD_REG_A = file.path(\n",
    "    FD_RES, \n",
    "    \"results\", \n",
    "    \"region\", \n",
    "    FOLDER_A)\n",
    "\n",
    "FOLDER_B = \"annotation_ccres\"\n",
    "FD_REG_B = file.path(\n",
    "    FD_RES, \n",
    "    \"results\", \n",
    "    \"region\", \n",
    "    FOLDER_B)\n",
    "\n",
    "FD_REG_C = file.path(\n",
    "    FD_REG_A,\n",
    "    FOLDER_B\n",
    ")\n",
    "\n",
    "FD_OUT = file.path(\n",
    "    FD_REG_A,\n",
    "    \"summary\"\n",
    ")"
   ]
  },
  {
   "cell_type": "code",
   "execution_count": 3,
   "metadata": {},
   "outputs": [
    {
     "name": "stdout",
     "output_type": "stream",
     "text": [
      "[1] \"annotation_ccres\"\n",
      "[1] \"annotation_ccres_silencer\"\n",
      "[1] \"annotation_chromHMM\"\n",
      "[1] \"annotation_tss_pol2\"\n",
      "[1] \"description.tsv\"\n",
      "[1] \"fcc_table.starrmpra.crispri.atac.concat.bed.gz\"\n",
      "[1] \"fcc_table.starrmpra.crispri.atac.e2g_benchmark.concat.bed.gz\"\n",
      "[1] \"fcc_table.starrmpra.crispri.atac.e2g_benchmark.e2g_prediction.concat.bed.gz\"\n",
      "[1] \"fcc_table.starrmpra.crispri.atac.e2g_benchmark.e2g_prediction.merge.bed.gz\"\n",
      "[1] \"fcc_table.starrmpra.crispri.atac.e2g_benchmark.e2g_prediction.merge.tsv\"\n",
      "[1] \"fcc_table.starrmpra.crispri.atac.e2g_benchmark.merge.bed.gz\"\n",
      "[1] \"fcc_table.starrmpra.crispri.atac.e2g_benchmark.merge.tsv\"\n",
      "[1] \"fcc_table.starrmpra.crispri.atac.merge.bed.gz\"\n",
      "[1] \"fcc_table.starrmpra.crispri.atac.merge.tsv\"\n",
      "[1] \"summary\"\n"
     ]
    }
   ],
   "source": [
    "fdiry  = FD_REG_A\n",
    "fnames = dir(fdiry)\n",
    "for(fname in fnames){print(fname)}"
   ]
  },
  {
   "cell_type": "code",
   "execution_count": 4,
   "metadata": {},
   "outputs": [
    {
     "name": "stdout",
     "output_type": "stream",
     "text": [
      "[1] \"ccres_v3.bed.gz\"\n",
      "[1] \"ccres_v4.bed.gz\"\n",
      "[1] \"description.tsv\"\n",
      "[1] \"summary\"\n"
     ]
    }
   ],
   "source": [
    "fdiry  = FD_REG_B\n",
    "fnames = dir(fdiry)\n",
    "for(fname in fnames){print(fname)}"
   ]
  },
  {
   "cell_type": "code",
   "execution_count": 5,
   "metadata": {},
   "outputs": [
    {
     "name": "stdout",
     "output_type": "stream",
     "text": [
      "[1] \"peak.annotation.ccres_v3.bed.gz\"\n",
      "[1] \"peak.annotation.ccres_v4.bed.gz\"\n"
     ]
    }
   ],
   "source": [
    "fdiry  = FD_REG_C\n",
    "fnames = dir(fdiry)\n",
    "for(fname in fnames){print(fname)}"
   ]
  },
  {
   "cell_type": "markdown",
   "metadata": {},
   "source": [
    "## Import data"
   ]
  },
  {
   "cell_type": "code",
   "execution_count": 6,
   "metadata": {},
   "outputs": [
    {
     "name": "stdout",
     "output_type": "stream",
     "text": [
      "[1] \"Chrom_A\"     \"Start_A\"     \"End_A\"       \"Assay_Type\"  \"Assay_Label\"\n"
     ]
    },
    {
     "data": {
      "text/html": [
       "<table class=\"dataframe\">\n",
       "<caption>A spec_tbl_df: 5 × 2</caption>\n",
       "<thead>\n",
       "\t<tr><th scope=col>Name</th><th scope=col>Description</th></tr>\n",
       "\t<tr><th scope=col>&lt;chr&gt;</th><th scope=col>&lt;chr&gt;</th></tr>\n",
       "</thead>\n",
       "<tbody>\n",
       "\t<tr><td>Chrom      </td><td>Chromosome </td></tr>\n",
       "\t<tr><td>Start      </td><td>Start      </td></tr>\n",
       "\t<tr><td>End        </td><td>End        </td></tr>\n",
       "\t<tr><td>Assay_Type </td><td>Assay type </td></tr>\n",
       "\t<tr><td>Assay_Label</td><td>Assay label</td></tr>\n",
       "</tbody>\n",
       "</table>\n"
      ],
      "text/latex": [
       "A spec\\_tbl\\_df: 5 × 2\n",
       "\\begin{tabular}{ll}\n",
       " Name & Description\\\\\n",
       " <chr> & <chr>\\\\\n",
       "\\hline\n",
       "\t Chrom       & Chromosome \\\\\n",
       "\t Start       & Start      \\\\\n",
       "\t End         & End        \\\\\n",
       "\t Assay\\_Type  & Assay type \\\\\n",
       "\t Assay\\_Label & Assay label\\\\\n",
       "\\end{tabular}\n"
      ],
      "text/markdown": [
       "\n",
       "A spec_tbl_df: 5 × 2\n",
       "\n",
       "| Name &lt;chr&gt; | Description &lt;chr&gt; |\n",
       "|---|---|\n",
       "| Chrom       | Chromosome  |\n",
       "| Start       | Start       |\n",
       "| End         | End         |\n",
       "| Assay_Type  | Assay type  |\n",
       "| Assay_Label | Assay label |\n",
       "\n"
      ],
      "text/plain": [
       "  Name        Description\n",
       "1 Chrom       Chromosome \n",
       "2 Start       Start      \n",
       "3 End         End        \n",
       "4 Assay_Type  Assay type \n",
       "5 Assay_Label Assay label"
      ]
     },
     "metadata": {},
     "output_type": "display_data"
    }
   ],
   "source": [
    "### set file paths\n",
    "fdiry = FD_REG_A\n",
    "fname = \"description.tsv\"\n",
    "fpath = file.path(fdiry, fname)\n",
    "\n",
    "### read table\n",
    "dat = read_tsv(fpath, show_col_types = FALSE)\n",
    "vec = dat$Name\n",
    "vec[1:3] = paste(vec[1:3], \"A\", sep=\"_\")\n",
    "\n",
    "### assign and show\n",
    "vec_txt_cnames_reg_A = vec\n",
    "print(vec)\n",
    "dat"
   ]
  },
  {
   "cell_type": "code",
   "execution_count": 7,
   "metadata": {},
   "outputs": [
    {
     "name": "stdout",
     "output_type": "stream",
     "text": [
      " [1] \"Chrom_B\"    \"Start_B\"    \"End_B\"      \"Name_B\"     \"Score_B\"   \n",
      " [6] \"Strand_B\"   \"ThickStart\" \"ThickEnd\"   \"ItemRgb\"    \"Category\"  \n",
      "[11] \"Note\"      \n"
     ]
    },
    {
     "data": {
      "text/html": [
       "<table class=\"dataframe\">\n",
       "<caption>A spec_tbl_df: 11 × 2</caption>\n",
       "<thead>\n",
       "\t<tr><th scope=col>Name</th><th scope=col>Description</th></tr>\n",
       "\t<tr><th scope=col>&lt;chr&gt;</th><th scope=col>&lt;chr&gt;</th></tr>\n",
       "</thead>\n",
       "<tbody>\n",
       "\t<tr><td>Chrom     </td><td>Chromosome                                                 </td></tr>\n",
       "\t<tr><td>Start     </td><td>Start position                                             </td></tr>\n",
       "\t<tr><td>End       </td><td>End position                                               </td></tr>\n",
       "\t<tr><td>Name      </td><td>Name                                                       </td></tr>\n",
       "\t<tr><td>Score     </td><td>Score                                                      </td></tr>\n",
       "\t<tr><td>Strand    </td><td>[+-.]; Use '.' if no strand is assigned.                   </td></tr>\n",
       "\t<tr><td>ThickStart</td><td>The starting position at which the feature is drawn thickly</td></tr>\n",
       "\t<tr><td>ThickEnd  </td><td>The ending position at which the feature is drawn thickly  </td></tr>\n",
       "\t<tr><td>ItemRgb   </td><td>An RGB value of the form R,G,B (e.g. 255,0,0)              </td></tr>\n",
       "\t<tr><td>Category  </td><td>Label of cCREs type                                        </td></tr>\n",
       "\t<tr><td>Note      </td><td>Description                                                </td></tr>\n",
       "</tbody>\n",
       "</table>\n"
      ],
      "text/latex": [
       "A spec\\_tbl\\_df: 11 × 2\n",
       "\\begin{tabular}{ll}\n",
       " Name & Description\\\\\n",
       " <chr> & <chr>\\\\\n",
       "\\hline\n",
       "\t Chrom      & Chromosome                                                 \\\\\n",
       "\t Start      & Start position                                             \\\\\n",
       "\t End        & End position                                               \\\\\n",
       "\t Name       & Name                                                       \\\\\n",
       "\t Score      & Score                                                      \\\\\n",
       "\t Strand     & {[}+-.{]}; Use '.' if no strand is assigned.                   \\\\\n",
       "\t ThickStart & The starting position at which the feature is drawn thickly\\\\\n",
       "\t ThickEnd   & The ending position at which the feature is drawn thickly  \\\\\n",
       "\t ItemRgb    & An RGB value of the form R,G,B (e.g. 255,0,0)              \\\\\n",
       "\t Category   & Label of cCREs type                                        \\\\\n",
       "\t Note       & Description                                                \\\\\n",
       "\\end{tabular}\n"
      ],
      "text/markdown": [
       "\n",
       "A spec_tbl_df: 11 × 2\n",
       "\n",
       "| Name &lt;chr&gt; | Description &lt;chr&gt; |\n",
       "|---|---|\n",
       "| Chrom      | Chromosome                                                  |\n",
       "| Start      | Start position                                              |\n",
       "| End        | End position                                                |\n",
       "| Name       | Name                                                        |\n",
       "| Score      | Score                                                       |\n",
       "| Strand     | [+-.]; Use '.' if no strand is assigned.                    |\n",
       "| ThickStart | The starting position at which the feature is drawn thickly |\n",
       "| ThickEnd   | The ending position at which the feature is drawn thickly   |\n",
       "| ItemRgb    | An RGB value of the form R,G,B (e.g. 255,0,0)               |\n",
       "| Category   | Label of cCREs type                                         |\n",
       "| Note       | Description                                                 |\n",
       "\n"
      ],
      "text/plain": [
       "   Name       Description                                                \n",
       "1  Chrom      Chromosome                                                 \n",
       "2  Start      Start position                                             \n",
       "3  End        End position                                               \n",
       "4  Name       Name                                                       \n",
       "5  Score      Score                                                      \n",
       "6  Strand     [+-.]; Use '.' if no strand is assigned.                   \n",
       "7  ThickStart The starting position at which the feature is drawn thickly\n",
       "8  ThickEnd   The ending position at which the feature is drawn thickly  \n",
       "9  ItemRgb    An RGB value of the form R,G,B (e.g. 255,0,0)              \n",
       "10 Category   Label of cCREs type                                        \n",
       "11 Note       Description                                                "
      ]
     },
     "metadata": {},
     "output_type": "display_data"
    }
   ],
   "source": [
    "### set file paths\n",
    "fdiry = FD_REG_B\n",
    "fname = \"description.tsv\"\n",
    "fpath = file.path(fdiry, fname)\n",
    "\n",
    "### read table\n",
    "dat = read_tsv(fpath, show_col_types = FALSE)\n",
    "vec = dat$Name\n",
    "vec[1:6] = paste(vec[1:6], \"B\", sep=\"_\")\n",
    "\n",
    "### assign and show\n",
    "vec_txt_cnames_reg_B = vec\n",
    "print(vec)\n",
    "dat"
   ]
  },
  {
   "cell_type": "code",
   "execution_count": 8,
   "metadata": {},
   "outputs": [
    {
     "name": "stdout",
     "output_type": "stream",
     "text": [
      "                         ccres_v3                          ccres_v4 \n",
      "\"peak.annotation.ccres_v3.bed.gz\" \"peak.annotation.ccres_v4.bed.gz\" \n"
     ]
    }
   ],
   "source": [
    "### init: set column names\n",
    "vec_txt_cnames = c(\n",
    "    vec_txt_cnames_reg_A,\n",
    "    vec_txt_cnames_reg_B,\n",
    "    \"Overlap\"\n",
    ")\n",
    "\n",
    "### init: set file path\n",
    "fdiry  = FD_REG_C\n",
    "fname  = paste(\"peak.annotation\", \"bed.gz\", sep=\"*\")\n",
    "fglob  = file.path(fdiry, fname)\n",
    "fpaths = Sys.glob(fglob)\n",
    "fnames = basename(fpaths)\n",
    "\n",
    "### init: annotation and label\n",
    "annotations = fnames %>% \n",
    "    str_split(., \"\\\\.\") %>%\n",
    "    do.call(rbind, .) %>%\n",
    "    as.data.frame %>%\n",
    "    dplyr::pull(3)\n",
    "names(fnames)      = annotations\n",
    "names(annotations) = annotations\n",
    "print(fnames)"
   ]
  },
  {
   "cell_type": "code",
   "execution_count": 10,
   "metadata": {},
   "outputs": [
    {
     "name": "stdout",
     "output_type": "stream",
     "text": [
      "[1] 2\n",
      "=========================\n",
      "[1] \"ccres_v3\" \"ccres_v4\"\n",
      "=========================\n"
     ]
    },
    {
     "data": {
      "text/html": [
       "<table class=\"dataframe\">\n",
       "<caption>A tibble: 6 × 22</caption>\n",
       "<thead>\n",
       "\t<tr><th scope=col>Chrom_A</th><th scope=col>Start_A</th><th scope=col>End_A</th><th scope=col>Assay_Type</th><th scope=col>Assay_Label</th><th scope=col>Chrom_B</th><th scope=col>Start_B</th><th scope=col>End_B</th><th scope=col>Name_B</th><th scope=col>Score_B</th><th scope=col>⋯</th><th scope=col>ThickEnd</th><th scope=col>ItemRgb</th><th scope=col>Category</th><th scope=col>Note</th><th scope=col>Overlap</th><th scope=col>Annotation</th><th scope=col>Region_A</th><th scope=col>Region_B</th><th scope=col>Index_B</th><th scope=col>Label_B</th></tr>\n",
       "\t<tr><th scope=col>&lt;chr&gt;</th><th scope=col>&lt;dbl&gt;</th><th scope=col>&lt;dbl&gt;</th><th scope=col>&lt;chr&gt;</th><th scope=col>&lt;chr&gt;</th><th scope=col>&lt;chr&gt;</th><th scope=col>&lt;dbl&gt;</th><th scope=col>&lt;dbl&gt;</th><th scope=col>&lt;chr&gt;</th><th scope=col>&lt;dbl&gt;</th><th scope=col>⋯</th><th scope=col>&lt;dbl&gt;</th><th scope=col>&lt;chr&gt;</th><th scope=col>&lt;chr&gt;</th><th scope=col>&lt;chr&gt;</th><th scope=col>&lt;dbl&gt;</th><th scope=col>&lt;chr&gt;</th><th scope=col>&lt;chr&gt;</th><th scope=col>&lt;chr&gt;</th><th scope=col>&lt;chr&gt;</th><th scope=col>&lt;chr&gt;</th></tr>\n",
       "</thead>\n",
       "<tbody>\n",
       "\t<tr><td>chr1</td><td>180982</td><td>182087</td><td>ASTARR,ATAC             </td><td>ASTARR_R,ATAC                           </td><td>chr1</td><td>181251</td><td>181601</td><td>EH38E1310153</td><td>0</td><td>⋯</td><td>181601</td><td>6,218,147  </td><td>DNase-only    </td><td>All-data/Full-classification</td><td>350</td><td>ccres_v3</td><td>chr1:180982-182087</td><td>chr1:181251-181601</td><td>EH38E1310153</td><td>DNase-only    </td></tr>\n",
       "\t<tr><td>chr1</td><td>777949</td><td>779437</td><td>ASTARR,ATAC,LMPRA,WSTARR</td><td>ASTARR_A,ATAC,LMPRA_A,WSTARR_A,WSTARR_AB</td><td>chr1</td><td>778562</td><td>778912</td><td>EH38E1310158</td><td>0</td><td>⋯</td><td>778912</td><td>255,0,0    </td><td>PLS,CTCF-bound</td><td>All-data/Full-classification</td><td>350</td><td>ccres_v3</td><td>chr1:777949-779437</td><td>chr1:778562-778912</td><td>EH38E1310158</td><td>PLS,CTCF-bound</td></tr>\n",
       "\t<tr><td>chr1</td><td>777949</td><td>779437</td><td>ASTARR,ATAC,LMPRA,WSTARR</td><td>ASTARR_A,ATAC,LMPRA_A,WSTARR_A,WSTARR_AB</td><td>chr1</td><td>779086</td><td>779355</td><td>EH38E1310159</td><td>0</td><td>⋯</td><td>779355</td><td>255,0,0    </td><td>PLS           </td><td>All-data/Full-classification</td><td>269</td><td>ccres_v3</td><td>chr1:777949-779437</td><td>chr1:779086-779355</td><td>EH38E1310159</td><td>PLS           </td></tr>\n",
       "\t<tr><td>chr1</td><td>816774</td><td>817547</td><td>ATAC                    </td><td>ATAC                                    </td><td>chr1</td><td>817080</td><td>817403</td><td>EH38E1310166</td><td>0</td><td>⋯</td><td>817403</td><td>225,225,225</td><td>Low-DNase     </td><td>All-data/Full-classification</td><td>323</td><td>ccres_v3</td><td>chr1:816774-817547</td><td>chr1:817080-817403</td><td>EH38E1310166</td><td>Low-DNase     </td></tr>\n",
       "\t<tr><td>chr1</td><td>817905</td><td>818348</td><td>ATAC                    </td><td>ATAC                                    </td><td>chr1</td><td>817903</td><td>818252</td><td>EH38E1310167</td><td>0</td><td>⋯</td><td>818252</td><td>225,225,225</td><td>Low-DNase     </td><td>All-data/Full-classification</td><td>347</td><td>ccres_v3</td><td>chr1:817905-818348</td><td>chr1:817903-818252</td><td>EH38E1310167</td><td>Low-DNase     </td></tr>\n",
       "\t<tr><td>chr1</td><td>818602</td><td>819380</td><td>ATAC,WSTARR             </td><td>ATAC,WSTARR_A                           </td><td>chr1</td><td>818718</td><td>818872</td><td>EH38E1310168</td><td>0</td><td>⋯</td><td>818872</td><td>225,225,225</td><td>Low-DNase     </td><td>All-data/Full-classification</td><td>154</td><td>ccres_v3</td><td>chr1:818602-819380</td><td>chr1:818718-818872</td><td>EH38E1310168</td><td>Low-DNase     </td></tr>\n",
       "</tbody>\n",
       "</table>\n"
      ],
      "text/latex": [
       "A tibble: 6 × 22\n",
       "\\begin{tabular}{lllllllllllllllllllll}\n",
       " Chrom\\_A & Start\\_A & End\\_A & Assay\\_Type & Assay\\_Label & Chrom\\_B & Start\\_B & End\\_B & Name\\_B & Score\\_B & ⋯ & ThickEnd & ItemRgb & Category & Note & Overlap & Annotation & Region\\_A & Region\\_B & Index\\_B & Label\\_B\\\\\n",
       " <chr> & <dbl> & <dbl> & <chr> & <chr> & <chr> & <dbl> & <dbl> & <chr> & <dbl> & ⋯ & <dbl> & <chr> & <chr> & <chr> & <dbl> & <chr> & <chr> & <chr> & <chr> & <chr>\\\\\n",
       "\\hline\n",
       "\t chr1 & 180982 & 182087 & ASTARR,ATAC              & ASTARR\\_R,ATAC                            & chr1 & 181251 & 181601 & EH38E1310153 & 0 & ⋯ & 181601 & 6,218,147   & DNase-only     & All-data/Full-classification & 350 & ccres\\_v3 & chr1:180982-182087 & chr1:181251-181601 & EH38E1310153 & DNase-only    \\\\\n",
       "\t chr1 & 777949 & 779437 & ASTARR,ATAC,LMPRA,WSTARR & ASTARR\\_A,ATAC,LMPRA\\_A,WSTARR\\_A,WSTARR\\_AB & chr1 & 778562 & 778912 & EH38E1310158 & 0 & ⋯ & 778912 & 255,0,0     & PLS,CTCF-bound & All-data/Full-classification & 350 & ccres\\_v3 & chr1:777949-779437 & chr1:778562-778912 & EH38E1310158 & PLS,CTCF-bound\\\\\n",
       "\t chr1 & 777949 & 779437 & ASTARR,ATAC,LMPRA,WSTARR & ASTARR\\_A,ATAC,LMPRA\\_A,WSTARR\\_A,WSTARR\\_AB & chr1 & 779086 & 779355 & EH38E1310159 & 0 & ⋯ & 779355 & 255,0,0     & PLS            & All-data/Full-classification & 269 & ccres\\_v3 & chr1:777949-779437 & chr1:779086-779355 & EH38E1310159 & PLS           \\\\\n",
       "\t chr1 & 816774 & 817547 & ATAC                     & ATAC                                     & chr1 & 817080 & 817403 & EH38E1310166 & 0 & ⋯ & 817403 & 225,225,225 & Low-DNase      & All-data/Full-classification & 323 & ccres\\_v3 & chr1:816774-817547 & chr1:817080-817403 & EH38E1310166 & Low-DNase     \\\\\n",
       "\t chr1 & 817905 & 818348 & ATAC                     & ATAC                                     & chr1 & 817903 & 818252 & EH38E1310167 & 0 & ⋯ & 818252 & 225,225,225 & Low-DNase      & All-data/Full-classification & 347 & ccres\\_v3 & chr1:817905-818348 & chr1:817903-818252 & EH38E1310167 & Low-DNase     \\\\\n",
       "\t chr1 & 818602 & 819380 & ATAC,WSTARR              & ATAC,WSTARR\\_A                            & chr1 & 818718 & 818872 & EH38E1310168 & 0 & ⋯ & 818872 & 225,225,225 & Low-DNase      & All-data/Full-classification & 154 & ccres\\_v3 & chr1:818602-819380 & chr1:818718-818872 & EH38E1310168 & Low-DNase     \\\\\n",
       "\\end{tabular}\n"
      ],
      "text/markdown": [
       "\n",
       "A tibble: 6 × 22\n",
       "\n",
       "| Chrom_A &lt;chr&gt; | Start_A &lt;dbl&gt; | End_A &lt;dbl&gt; | Assay_Type &lt;chr&gt; | Assay_Label &lt;chr&gt; | Chrom_B &lt;chr&gt; | Start_B &lt;dbl&gt; | End_B &lt;dbl&gt; | Name_B &lt;chr&gt; | Score_B &lt;dbl&gt; | ⋯ ⋯ | ThickEnd &lt;dbl&gt; | ItemRgb &lt;chr&gt; | Category &lt;chr&gt; | Note &lt;chr&gt; | Overlap &lt;dbl&gt; | Annotation &lt;chr&gt; | Region_A &lt;chr&gt; | Region_B &lt;chr&gt; | Index_B &lt;chr&gt; | Label_B &lt;chr&gt; |\n",
       "|---|---|---|---|---|---|---|---|---|---|---|---|---|---|---|---|---|---|---|---|---|\n",
       "| chr1 | 180982 | 182087 | ASTARR,ATAC              | ASTARR_R,ATAC                            | chr1 | 181251 | 181601 | EH38E1310153 | 0 | ⋯ | 181601 | 6,218,147   | DNase-only     | All-data/Full-classification | 350 | ccres_v3 | chr1:180982-182087 | chr1:181251-181601 | EH38E1310153 | DNase-only     |\n",
       "| chr1 | 777949 | 779437 | ASTARR,ATAC,LMPRA,WSTARR | ASTARR_A,ATAC,LMPRA_A,WSTARR_A,WSTARR_AB | chr1 | 778562 | 778912 | EH38E1310158 | 0 | ⋯ | 778912 | 255,0,0     | PLS,CTCF-bound | All-data/Full-classification | 350 | ccres_v3 | chr1:777949-779437 | chr1:778562-778912 | EH38E1310158 | PLS,CTCF-bound |\n",
       "| chr1 | 777949 | 779437 | ASTARR,ATAC,LMPRA,WSTARR | ASTARR_A,ATAC,LMPRA_A,WSTARR_A,WSTARR_AB | chr1 | 779086 | 779355 | EH38E1310159 | 0 | ⋯ | 779355 | 255,0,0     | PLS            | All-data/Full-classification | 269 | ccres_v3 | chr1:777949-779437 | chr1:779086-779355 | EH38E1310159 | PLS            |\n",
       "| chr1 | 816774 | 817547 | ATAC                     | ATAC                                     | chr1 | 817080 | 817403 | EH38E1310166 | 0 | ⋯ | 817403 | 225,225,225 | Low-DNase      | All-data/Full-classification | 323 | ccres_v3 | chr1:816774-817547 | chr1:817080-817403 | EH38E1310166 | Low-DNase      |\n",
       "| chr1 | 817905 | 818348 | ATAC                     | ATAC                                     | chr1 | 817903 | 818252 | EH38E1310167 | 0 | ⋯ | 818252 | 225,225,225 | Low-DNase      | All-data/Full-classification | 347 | ccres_v3 | chr1:817905-818348 | chr1:817903-818252 | EH38E1310167 | Low-DNase      |\n",
       "| chr1 | 818602 | 819380 | ATAC,WSTARR              | ATAC,WSTARR_A                            | chr1 | 818718 | 818872 | EH38E1310168 | 0 | ⋯ | 818872 | 225,225,225 | Low-DNase      | All-data/Full-classification | 154 | ccres_v3 | chr1:818602-819380 | chr1:818718-818872 | EH38E1310168 | Low-DNase      |\n",
       "\n"
      ],
      "text/plain": [
       "  Chrom_A Start_A End_A  Assay_Type              \n",
       "1 chr1    180982  182087 ASTARR,ATAC             \n",
       "2 chr1    777949  779437 ASTARR,ATAC,LMPRA,WSTARR\n",
       "3 chr1    777949  779437 ASTARR,ATAC,LMPRA,WSTARR\n",
       "4 chr1    816774  817547 ATAC                    \n",
       "5 chr1    817905  818348 ATAC                    \n",
       "6 chr1    818602  819380 ATAC,WSTARR             \n",
       "  Assay_Label                              Chrom_B Start_B End_B  Name_B      \n",
       "1 ASTARR_R,ATAC                            chr1    181251  181601 EH38E1310153\n",
       "2 ASTARR_A,ATAC,LMPRA_A,WSTARR_A,WSTARR_AB chr1    778562  778912 EH38E1310158\n",
       "3 ASTARR_A,ATAC,LMPRA_A,WSTARR_A,WSTARR_AB chr1    779086  779355 EH38E1310159\n",
       "4 ATAC                                     chr1    817080  817403 EH38E1310166\n",
       "5 ATAC                                     chr1    817903  818252 EH38E1310167\n",
       "6 ATAC,WSTARR_A                            chr1    818718  818872 EH38E1310168\n",
       "  Score_B ⋯ ThickEnd ItemRgb     Category       Note                        \n",
       "1 0       ⋯ 181601   6,218,147   DNase-only     All-data/Full-classification\n",
       "2 0       ⋯ 778912   255,0,0     PLS,CTCF-bound All-data/Full-classification\n",
       "3 0       ⋯ 779355   255,0,0     PLS            All-data/Full-classification\n",
       "4 0       ⋯ 817403   225,225,225 Low-DNase      All-data/Full-classification\n",
       "5 0       ⋯ 818252   225,225,225 Low-DNase      All-data/Full-classification\n",
       "6 0       ⋯ 818872   225,225,225 Low-DNase      All-data/Full-classification\n",
       "  Overlap Annotation Region_A           Region_B           Index_B     \n",
       "1 350     ccres_v3   chr1:180982-182087 chr1:181251-181601 EH38E1310153\n",
       "2 350     ccres_v3   chr1:777949-779437 chr1:778562-778912 EH38E1310158\n",
       "3 269     ccres_v3   chr1:777949-779437 chr1:779086-779355 EH38E1310159\n",
       "4 323     ccres_v3   chr1:816774-817547 chr1:817080-817403 EH38E1310166\n",
       "5 347     ccres_v3   chr1:817905-818348 chr1:817903-818252 EH38E1310167\n",
       "6 154     ccres_v3   chr1:818602-819380 chr1:818718-818872 EH38E1310168\n",
       "  Label_B       \n",
       "1 DNase-only    \n",
       "2 PLS,CTCF-bound\n",
       "3 PLS           \n",
       "4 Low-DNase     \n",
       "5 Low-DNase     \n",
       "6 Low-DNase     "
      ]
     },
     "metadata": {},
     "output_type": "display_data"
    }
   ],
   "source": [
    "### Import data\n",
    "lst = lapply(annotations, function(annotation){\n",
    "    ### set file path\n",
    "    fname = fnames[annotation]\n",
    "    fpath = file.path(fdiry, fname)\n",
    "    \n",
    "    ### read data\n",
    "    dat = read_tsv(fpath, col_names = vec_txt_cnames, show_col_types = FALSE)\n",
    "    dat = dat %>% dplyr::mutate(\n",
    "        Annotation = annotation,\n",
    "        Region_A   = paste0(Chrom_A, \":\", Start_A, \"-\", End_A),\n",
    "        Region_B   = paste0(Chrom_B, \":\", Start_B, \"-\", End_B),\n",
    "        Index_B    = Name_B,\n",
    "        Label_B    = Category\n",
    "    )\n",
    "    return(dat)\n",
    "})\n",
    "\n",
    "### assign and show\n",
    "lst_peak_annot_import = lst\n",
    "print(length(lst))\n",
    "cat(\"=========================\\n\")\n",
    "print(names(lst))\n",
    "cat(\"=========================\\n\")\n",
    "head(lst[[1]])"
   ]
  },
  {
   "cell_type": "markdown",
   "metadata": {},
   "source": [
    "## Arrange the columns"
   ]
  },
  {
   "cell_type": "code",
   "execution_count": 11,
   "metadata": {},
   "outputs": [
    {
     "name": "stdout",
     "output_type": "stream",
     "text": [
      "[1] 2\n",
      "=========================\n",
      "[1] \"ccres_v3\" \"ccres_v4\"\n",
      "=========================\n"
     ]
    },
    {
     "data": {
      "text/html": [
       "<table class=\"dataframe\">\n",
       "<caption>A tibble: 6 × 13</caption>\n",
       "<thead>\n",
       "\t<tr><th scope=col>Chrom_A</th><th scope=col>Start_A</th><th scope=col>End_A</th><th scope=col>Region_A</th><th scope=col>Assay_Type</th><th scope=col>Assay_Label</th><th scope=col>Annotation</th><th scope=col>Chrom_B</th><th scope=col>Start_B</th><th scope=col>End_B</th><th scope=col>Region_B</th><th scope=col>Index_B</th><th scope=col>Label_B</th></tr>\n",
       "\t<tr><th scope=col>&lt;chr&gt;</th><th scope=col>&lt;dbl&gt;</th><th scope=col>&lt;dbl&gt;</th><th scope=col>&lt;chr&gt;</th><th scope=col>&lt;chr&gt;</th><th scope=col>&lt;chr&gt;</th><th scope=col>&lt;chr&gt;</th><th scope=col>&lt;chr&gt;</th><th scope=col>&lt;dbl&gt;</th><th scope=col>&lt;dbl&gt;</th><th scope=col>&lt;chr&gt;</th><th scope=col>&lt;chr&gt;</th><th scope=col>&lt;chr&gt;</th></tr>\n",
       "</thead>\n",
       "<tbody>\n",
       "\t<tr><td>chr1</td><td>180982</td><td>182087</td><td>chr1:180982-182087</td><td>ASTARR,ATAC             </td><td>ASTARR_R,ATAC                           </td><td>ccres_v3</td><td>chr1</td><td>181251</td><td>181601</td><td>chr1:181251-181601</td><td>EH38E1310153</td><td>DNase-only    </td></tr>\n",
       "\t<tr><td>chr1</td><td>777949</td><td>779437</td><td>chr1:777949-779437</td><td>ASTARR,ATAC,LMPRA,WSTARR</td><td>ASTARR_A,ATAC,LMPRA_A,WSTARR_A,WSTARR_AB</td><td>ccres_v3</td><td>chr1</td><td>778562</td><td>778912</td><td>chr1:778562-778912</td><td>EH38E1310158</td><td>PLS,CTCF-bound</td></tr>\n",
       "\t<tr><td>chr1</td><td>777949</td><td>779437</td><td>chr1:777949-779437</td><td>ASTARR,ATAC,LMPRA,WSTARR</td><td>ASTARR_A,ATAC,LMPRA_A,WSTARR_A,WSTARR_AB</td><td>ccres_v3</td><td>chr1</td><td>779086</td><td>779355</td><td>chr1:779086-779355</td><td>EH38E1310159</td><td>PLS           </td></tr>\n",
       "\t<tr><td>chr1</td><td>816774</td><td>817547</td><td>chr1:816774-817547</td><td>ATAC                    </td><td>ATAC                                    </td><td>ccres_v3</td><td>chr1</td><td>817080</td><td>817403</td><td>chr1:817080-817403</td><td>EH38E1310166</td><td>Low-DNase     </td></tr>\n",
       "\t<tr><td>chr1</td><td>817905</td><td>818348</td><td>chr1:817905-818348</td><td>ATAC                    </td><td>ATAC                                    </td><td>ccres_v3</td><td>chr1</td><td>817903</td><td>818252</td><td>chr1:817903-818252</td><td>EH38E1310167</td><td>Low-DNase     </td></tr>\n",
       "\t<tr><td>chr1</td><td>818602</td><td>819380</td><td>chr1:818602-819380</td><td>ATAC,WSTARR             </td><td>ATAC,WSTARR_A                           </td><td>ccres_v3</td><td>chr1</td><td>818718</td><td>818872</td><td>chr1:818718-818872</td><td>EH38E1310168</td><td>Low-DNase     </td></tr>\n",
       "</tbody>\n",
       "</table>\n"
      ],
      "text/latex": [
       "A tibble: 6 × 13\n",
       "\\begin{tabular}{lllllllllllll}\n",
       " Chrom\\_A & Start\\_A & End\\_A & Region\\_A & Assay\\_Type & Assay\\_Label & Annotation & Chrom\\_B & Start\\_B & End\\_B & Region\\_B & Index\\_B & Label\\_B\\\\\n",
       " <chr> & <dbl> & <dbl> & <chr> & <chr> & <chr> & <chr> & <chr> & <dbl> & <dbl> & <chr> & <chr> & <chr>\\\\\n",
       "\\hline\n",
       "\t chr1 & 180982 & 182087 & chr1:180982-182087 & ASTARR,ATAC              & ASTARR\\_R,ATAC                            & ccres\\_v3 & chr1 & 181251 & 181601 & chr1:181251-181601 & EH38E1310153 & DNase-only    \\\\\n",
       "\t chr1 & 777949 & 779437 & chr1:777949-779437 & ASTARR,ATAC,LMPRA,WSTARR & ASTARR\\_A,ATAC,LMPRA\\_A,WSTARR\\_A,WSTARR\\_AB & ccres\\_v3 & chr1 & 778562 & 778912 & chr1:778562-778912 & EH38E1310158 & PLS,CTCF-bound\\\\\n",
       "\t chr1 & 777949 & 779437 & chr1:777949-779437 & ASTARR,ATAC,LMPRA,WSTARR & ASTARR\\_A,ATAC,LMPRA\\_A,WSTARR\\_A,WSTARR\\_AB & ccres\\_v3 & chr1 & 779086 & 779355 & chr1:779086-779355 & EH38E1310159 & PLS           \\\\\n",
       "\t chr1 & 816774 & 817547 & chr1:816774-817547 & ATAC                     & ATAC                                     & ccres\\_v3 & chr1 & 817080 & 817403 & chr1:817080-817403 & EH38E1310166 & Low-DNase     \\\\\n",
       "\t chr1 & 817905 & 818348 & chr1:817905-818348 & ATAC                     & ATAC                                     & ccres\\_v3 & chr1 & 817903 & 818252 & chr1:817903-818252 & EH38E1310167 & Low-DNase     \\\\\n",
       "\t chr1 & 818602 & 819380 & chr1:818602-819380 & ATAC,WSTARR              & ATAC,WSTARR\\_A                            & ccres\\_v3 & chr1 & 818718 & 818872 & chr1:818718-818872 & EH38E1310168 & Low-DNase     \\\\\n",
       "\\end{tabular}\n"
      ],
      "text/markdown": [
       "\n",
       "A tibble: 6 × 13\n",
       "\n",
       "| Chrom_A &lt;chr&gt; | Start_A &lt;dbl&gt; | End_A &lt;dbl&gt; | Region_A &lt;chr&gt; | Assay_Type &lt;chr&gt; | Assay_Label &lt;chr&gt; | Annotation &lt;chr&gt; | Chrom_B &lt;chr&gt; | Start_B &lt;dbl&gt; | End_B &lt;dbl&gt; | Region_B &lt;chr&gt; | Index_B &lt;chr&gt; | Label_B &lt;chr&gt; |\n",
       "|---|---|---|---|---|---|---|---|---|---|---|---|---|\n",
       "| chr1 | 180982 | 182087 | chr1:180982-182087 | ASTARR,ATAC              | ASTARR_R,ATAC                            | ccres_v3 | chr1 | 181251 | 181601 | chr1:181251-181601 | EH38E1310153 | DNase-only     |\n",
       "| chr1 | 777949 | 779437 | chr1:777949-779437 | ASTARR,ATAC,LMPRA,WSTARR | ASTARR_A,ATAC,LMPRA_A,WSTARR_A,WSTARR_AB | ccres_v3 | chr1 | 778562 | 778912 | chr1:778562-778912 | EH38E1310158 | PLS,CTCF-bound |\n",
       "| chr1 | 777949 | 779437 | chr1:777949-779437 | ASTARR,ATAC,LMPRA,WSTARR | ASTARR_A,ATAC,LMPRA_A,WSTARR_A,WSTARR_AB | ccres_v3 | chr1 | 779086 | 779355 | chr1:779086-779355 | EH38E1310159 | PLS            |\n",
       "| chr1 | 816774 | 817547 | chr1:816774-817547 | ATAC                     | ATAC                                     | ccres_v3 | chr1 | 817080 | 817403 | chr1:817080-817403 | EH38E1310166 | Low-DNase      |\n",
       "| chr1 | 817905 | 818348 | chr1:817905-818348 | ATAC                     | ATAC                                     | ccres_v3 | chr1 | 817903 | 818252 | chr1:817903-818252 | EH38E1310167 | Low-DNase      |\n",
       "| chr1 | 818602 | 819380 | chr1:818602-819380 | ATAC,WSTARR              | ATAC,WSTARR_A                            | ccres_v3 | chr1 | 818718 | 818872 | chr1:818718-818872 | EH38E1310168 | Low-DNase      |\n",
       "\n"
      ],
      "text/plain": [
       "  Chrom_A Start_A End_A  Region_A           Assay_Type              \n",
       "1 chr1    180982  182087 chr1:180982-182087 ASTARR,ATAC             \n",
       "2 chr1    777949  779437 chr1:777949-779437 ASTARR,ATAC,LMPRA,WSTARR\n",
       "3 chr1    777949  779437 chr1:777949-779437 ASTARR,ATAC,LMPRA,WSTARR\n",
       "4 chr1    816774  817547 chr1:816774-817547 ATAC                    \n",
       "5 chr1    817905  818348 chr1:817905-818348 ATAC                    \n",
       "6 chr1    818602  819380 chr1:818602-819380 ATAC,WSTARR             \n",
       "  Assay_Label                              Annotation Chrom_B Start_B End_B \n",
       "1 ASTARR_R,ATAC                            ccres_v3   chr1    181251  181601\n",
       "2 ASTARR_A,ATAC,LMPRA_A,WSTARR_A,WSTARR_AB ccres_v3   chr1    778562  778912\n",
       "3 ASTARR_A,ATAC,LMPRA_A,WSTARR_A,WSTARR_AB ccres_v3   chr1    779086  779355\n",
       "4 ATAC                                     ccres_v3   chr1    817080  817403\n",
       "5 ATAC                                     ccres_v3   chr1    817903  818252\n",
       "6 ATAC,WSTARR_A                            ccres_v3   chr1    818718  818872\n",
       "  Region_B           Index_B      Label_B       \n",
       "1 chr1:181251-181601 EH38E1310153 DNase-only    \n",
       "2 chr1:778562-778912 EH38E1310158 PLS,CTCF-bound\n",
       "3 chr1:779086-779355 EH38E1310159 PLS           \n",
       "4 chr1:817080-817403 EH38E1310166 Low-DNase     \n",
       "5 chr1:817903-818252 EH38E1310167 Low-DNase     \n",
       "6 chr1:818718-818872 EH38E1310168 Low-DNase     "
      ]
     },
     "metadata": {},
     "output_type": "display_data"
    }
   ],
   "source": [
    "### init\n",
    "lst = lst_peak_annot_import\n",
    "\n",
    "lst = lapply(lst, function(dat){\n",
    "    ### Select\n",
    "    dat = dat %>%\n",
    "        dplyr::select(\n",
    "            Chrom_A, Start_A, End_A, Region_A, \n",
    "            Assay_Type, Assay_Label,\n",
    "            Annotation,\n",
    "            Chrom_B, Start_B, End_B, Region_B,\n",
    "            Index_B,\n",
    "            Label_B)\n",
    "\n",
    "    ### Arrange\n",
    "    dat = dat %>% \n",
    "        dplyr::arrange(Chrom_A,  Start_A,  End_A)\n",
    "    return(dat)\n",
    "})\n",
    "\n",
    "### assign and show\n",
    "lst_peak_annot_arrange = lst\n",
    "print(length(lst))\n",
    "cat(\"=========================\\n\")\n",
    "print(names(lst))\n",
    "cat(\"=========================\\n\")\n",
    "head(lst[[1]])"
   ]
  },
  {
   "cell_type": "markdown",
   "metadata": {},
   "source": [
    "## Save results"
   ]
  },
  {
   "cell_type": "code",
   "execution_count": 14,
   "metadata": {},
   "outputs": [
    {
     "data": {
      "text/html": [
       "'/data/reddylab/Kuei/out/proj_combeffect_encode_fcc/results/region/annotation_fcc_table/summary'"
      ],
      "text/latex": [
       "'/data/reddylab/Kuei/out/proj\\_combeffect\\_encode\\_fcc/results/region/annotation\\_fcc\\_table/summary'"
      ],
      "text/markdown": [
       "'/data/reddylab/Kuei/out/proj_combeffect_encode_fcc/results/region/annotation_fcc_table/summary'"
      ],
      "text/plain": [
       "[1] \"/data/reddylab/Kuei/out/proj_combeffect_encode_fcc/results/region/annotation_fcc_table/summary\""
      ]
     },
     "metadata": {},
     "output_type": "display_data"
    }
   ],
   "source": [
    "FD_OUT"
   ]
  },
  {
   "cell_type": "code",
   "execution_count": 15,
   "metadata": {},
   "outputs": [
    {
     "name": "stdout",
     "output_type": "stream",
     "text": [
      "[1] \"peak.annotation.ccres_v3.tsv\"\n",
      "[1] \"peak.annotation.ccres_v4.tsv\"\n"
     ]
    }
   ],
   "source": [
    "lst = lst_peak_annot_arrange\n",
    "for (idn in names(lst)){\n",
    "    ### set file path\n",
    "    fdiry = FD_OUT\n",
    "    fname = paste(\"peak.annotation\", idn, \"tsv\", sep=\".\")\n",
    "    fpath = file.path(fdiry, fname)\n",
    "    print(fname)\n",
    "    flush.console()\n",
    "\n",
    "    ### write table\n",
    "    dat = lst[[idn]]\n",
    "    write_tsv(dat, fpath)\n",
    "}"
   ]
  },
  {
   "cell_type": "code",
   "execution_count": null,
   "metadata": {},
   "outputs": [],
   "source": []
  },
  {
   "cell_type": "code",
   "execution_count": null,
   "metadata": {},
   "outputs": [],
   "source": []
  },
  {
   "cell_type": "code",
   "execution_count": null,
   "metadata": {},
   "outputs": [],
   "source": []
  },
  {
   "cell_type": "code",
   "execution_count": 11,
   "metadata": {},
   "outputs": [
    {
     "name": "stdout",
     "output_type": "stream",
     "text": [
      "[1] 2\n",
      "=========================\n",
      "[1] \"ccres_v3\" \"ccres_v4\"\n",
      "=========================\n"
     ]
    },
    {
     "data": {
      "text/html": [
       "<table class=\"dataframe\">\n",
       "<caption>A tibble: 6 × 9</caption>\n",
       "<thead>\n",
       "\t<tr><th scope=col>Peak</th><th scope=col>Assay_Type</th><th scope=col>Assay_Label</th><th scope=col>Annotation</th><th scope=col>Label</th><th scope=col>Count</th><th scope=col>Region</th><th scope=col>Score</th><th scope=col>Note</th></tr>\n",
       "\t<tr><th scope=col>&lt;chr&gt;</th><th scope=col>&lt;chr&gt;</th><th scope=col>&lt;chr&gt;</th><th scope=col>&lt;chr&gt;</th><th scope=col>&lt;chr&gt;</th><th scope=col>&lt;int&gt;</th><th scope=col>&lt;chr&gt;</th><th scope=col>&lt;dbl&gt;</th><th scope=col>&lt;chr&gt;</th></tr>\n",
       "</thead>\n",
       "<tbody>\n",
       "\t<tr><td>chr1:180982-182087</td><td>ASTARR,ATAC             </td><td>ASTARR_R,ATAC                           </td><td>ccres_v3</td><td>DNase-only    </td><td>1</td><td>chr1:181251-181601</td><td>0</td><td>EH38E1310153:DNase-only    </td></tr>\n",
       "\t<tr><td>chr1:777949-779437</td><td>ASTARR,ATAC,LMPRA,WSTARR</td><td>ASTARR_A,ATAC,LMPRA_A,WSTARR_A,WSTARR_AB</td><td>ccres_v3</td><td>PLS           </td><td>1</td><td>chr1:779086-779355</td><td>0</td><td>EH38E1310159:PLS           </td></tr>\n",
       "\t<tr><td>chr1:777949-779437</td><td>ASTARR,ATAC,LMPRA,WSTARR</td><td>ASTARR_A,ATAC,LMPRA_A,WSTARR_A,WSTARR_AB</td><td>ccres_v3</td><td>PLS,CTCF-bound</td><td>1</td><td>chr1:778562-778912</td><td>0</td><td>EH38E1310158:PLS,CTCF-bound</td></tr>\n",
       "\t<tr><td>chr1:816774-817547</td><td>ATAC                    </td><td>ATAC                                    </td><td>ccres_v3</td><td>Low-DNase     </td><td>1</td><td>chr1:817080-817403</td><td>0</td><td>EH38E1310166:Low-DNase     </td></tr>\n",
       "\t<tr><td>chr1:817905-818348</td><td>ATAC                    </td><td>ATAC                                    </td><td>ccres_v3</td><td>Low-DNase     </td><td>1</td><td>chr1:817903-818252</td><td>0</td><td>EH38E1310167:Low-DNase     </td></tr>\n",
       "\t<tr><td>chr1:818602-819380</td><td>ATAC,WSTARR             </td><td>ATAC,WSTARR_A                           </td><td>ccres_v3</td><td>Low-DNase     </td><td>1</td><td>chr1:818718-818872</td><td>0</td><td>EH38E1310168:Low-DNase     </td></tr>\n",
       "</tbody>\n",
       "</table>\n"
      ],
      "text/latex": [
       "A tibble: 6 × 9\n",
       "\\begin{tabular}{lllllllll}\n",
       " Peak & Assay\\_Type & Assay\\_Label & Annotation & Label & Count & Region & Score & Note\\\\\n",
       " <chr> & <chr> & <chr> & <chr> & <chr> & <int> & <chr> & <dbl> & <chr>\\\\\n",
       "\\hline\n",
       "\t chr1:180982-182087 & ASTARR,ATAC              & ASTARR\\_R,ATAC                            & ccres\\_v3 & DNase-only     & 1 & chr1:181251-181601 & 0 & EH38E1310153:DNase-only    \\\\\n",
       "\t chr1:777949-779437 & ASTARR,ATAC,LMPRA,WSTARR & ASTARR\\_A,ATAC,LMPRA\\_A,WSTARR\\_A,WSTARR\\_AB & ccres\\_v3 & PLS            & 1 & chr1:779086-779355 & 0 & EH38E1310159:PLS           \\\\\n",
       "\t chr1:777949-779437 & ASTARR,ATAC,LMPRA,WSTARR & ASTARR\\_A,ATAC,LMPRA\\_A,WSTARR\\_A,WSTARR\\_AB & ccres\\_v3 & PLS,CTCF-bound & 1 & chr1:778562-778912 & 0 & EH38E1310158:PLS,CTCF-bound\\\\\n",
       "\t chr1:816774-817547 & ATAC                     & ATAC                                     & ccres\\_v3 & Low-DNase      & 1 & chr1:817080-817403 & 0 & EH38E1310166:Low-DNase     \\\\\n",
       "\t chr1:817905-818348 & ATAC                     & ATAC                                     & ccres\\_v3 & Low-DNase      & 1 & chr1:817903-818252 & 0 & EH38E1310167:Low-DNase     \\\\\n",
       "\t chr1:818602-819380 & ATAC,WSTARR              & ATAC,WSTARR\\_A                            & ccres\\_v3 & Low-DNase      & 1 & chr1:818718-818872 & 0 & EH38E1310168:Low-DNase     \\\\\n",
       "\\end{tabular}\n"
      ],
      "text/markdown": [
       "\n",
       "A tibble: 6 × 9\n",
       "\n",
       "| Peak &lt;chr&gt; | Assay_Type &lt;chr&gt; | Assay_Label &lt;chr&gt; | Annotation &lt;chr&gt; | Label &lt;chr&gt; | Count &lt;int&gt; | Region &lt;chr&gt; | Score &lt;dbl&gt; | Note &lt;chr&gt; |\n",
       "|---|---|---|---|---|---|---|---|---|\n",
       "| chr1:180982-182087 | ASTARR,ATAC              | ASTARR_R,ATAC                            | ccres_v3 | DNase-only     | 1 | chr1:181251-181601 | 0 | EH38E1310153:DNase-only     |\n",
       "| chr1:777949-779437 | ASTARR,ATAC,LMPRA,WSTARR | ASTARR_A,ATAC,LMPRA_A,WSTARR_A,WSTARR_AB | ccres_v3 | PLS            | 1 | chr1:779086-779355 | 0 | EH38E1310159:PLS            |\n",
       "| chr1:777949-779437 | ASTARR,ATAC,LMPRA,WSTARR | ASTARR_A,ATAC,LMPRA_A,WSTARR_A,WSTARR_AB | ccres_v3 | PLS,CTCF-bound | 1 | chr1:778562-778912 | 0 | EH38E1310158:PLS,CTCF-bound |\n",
       "| chr1:816774-817547 | ATAC                     | ATAC                                     | ccres_v3 | Low-DNase      | 1 | chr1:817080-817403 | 0 | EH38E1310166:Low-DNase      |\n",
       "| chr1:817905-818348 | ATAC                     | ATAC                                     | ccres_v3 | Low-DNase      | 1 | chr1:817903-818252 | 0 | EH38E1310167:Low-DNase      |\n",
       "| chr1:818602-819380 | ATAC,WSTARR              | ATAC,WSTARR_A                            | ccres_v3 | Low-DNase      | 1 | chr1:818718-818872 | 0 | EH38E1310168:Low-DNase      |\n",
       "\n"
      ],
      "text/plain": [
       "  Peak               Assay_Type              \n",
       "1 chr1:180982-182087 ASTARR,ATAC             \n",
       "2 chr1:777949-779437 ASTARR,ATAC,LMPRA,WSTARR\n",
       "3 chr1:777949-779437 ASTARR,ATAC,LMPRA,WSTARR\n",
       "4 chr1:816774-817547 ATAC                    \n",
       "5 chr1:817905-818348 ATAC                    \n",
       "6 chr1:818602-819380 ATAC,WSTARR             \n",
       "  Assay_Label                              Annotation Label          Count\n",
       "1 ASTARR_R,ATAC                            ccres_v3   DNase-only     1    \n",
       "2 ASTARR_A,ATAC,LMPRA_A,WSTARR_A,WSTARR_AB ccres_v3   PLS            1    \n",
       "3 ASTARR_A,ATAC,LMPRA_A,WSTARR_A,WSTARR_AB ccres_v3   PLS,CTCF-bound 1    \n",
       "4 ATAC                                     ccres_v3   Low-DNase      1    \n",
       "5 ATAC                                     ccres_v3   Low-DNase      1    \n",
       "6 ATAC,WSTARR_A                            ccres_v3   Low-DNase      1    \n",
       "  Region             Score Note                       \n",
       "1 chr1:181251-181601 0     EH38E1310153:DNase-only    \n",
       "2 chr1:779086-779355 0     EH38E1310159:PLS           \n",
       "3 chr1:778562-778912 0     EH38E1310158:PLS,CTCF-bound\n",
       "4 chr1:817080-817403 0     EH38E1310166:Low-DNase     \n",
       "5 chr1:817903-818252 0     EH38E1310167:Low-DNase     \n",
       "6 chr1:818718-818872 0     EH38E1310168:Low-DNase     "
      ]
     },
     "metadata": {},
     "output_type": "display_data"
    }
   ],
   "source": [
    "### init\n",
    "lst = lst_peak_annot_import\n",
    "\n",
    "lst = lapply(lst, function(dat){\n",
    "    ### summarize\n",
    "    dat = dat %>%\n",
    "        dplyr::group_by(\n",
    "            Chrom_A, Start_A, End_A, Region_A, Assay_Type, Assay_Label, \n",
    "            Annotation, \n",
    "            Label_B) %>%\n",
    "        dplyr::summarise(\n",
    "            Count    = n(), \n",
    "            Region_B = paste(Region, collapse=\"|\"),\n",
    "            \n",
    "            Score_B  = mean(Value),\n",
    "            Note   = paste(Note, collapse=\"|\"),\n",
    "            .groups = \"drop\")\n",
    "    \n",
    "    ### Arrange\n",
    "    dat = dat %>% \n",
    "        dplyr::arrange(Chrom_Peak,  Start_Peak,  End_Peak) %>%\n",
    "        dplyr::select(-Chrom_Peak, -Start_Peak, -End_Peak) %>%\n",
    "        dplyr::rename(\"Peak\" = Name_Peak)\n",
    "    return(dat)\n",
    "})\n",
    "\n",
    "### assign and show\n",
    "lst_peak_annot_summary = lst\n",
    "print(length(lst))\n",
    "cat(\"=========================\\n\")\n",
    "print(names(lst))\n",
    "cat(\"=========================\\n\")\n",
    "head(lst[[1]])"
   ]
  },
  {
   "cell_type": "markdown",
   "metadata": {},
   "source": [
    "## Explore and check results"
   ]
  },
  {
   "cell_type": "code",
   "execution_count": 12,
   "metadata": {},
   "outputs": [
    {
     "name": "stdout",
     "output_type": "stream",
     "text": [
      "$ccres_v3\n",
      "\n",
      "     1      2      3      4      5      6      7      8      9     10     11 \n",
      "123249  28267   8534   2781    968    377    133     53     15      6      3 \n",
      "\n",
      "$ccres_v4\n",
      "\n",
      "     1      2      3      4      5      6      7      8      9     10     11 \n",
      "190961  48413  17663   6579   2533   1088    469    192     84     34     18 \n",
      "    12     13     14 \n",
      "     7      3      2 \n",
      "\n"
     ]
    }
   ],
   "source": [
    "lst = lst_peak_annot_summary\n",
    "lst = lapply(lst, function(dat){\n",
    "    res = table(dat$Count)\n",
    "    return(res)\n",
    "})\n",
    "print(lst)"
   ]
  },
  {
   "cell_type": "markdown",
   "metadata": {},
   "source": [
    "## Save results"
   ]
  },
  {
   "cell_type": "code",
   "execution_count": 13,
   "metadata": {},
   "outputs": [
    {
     "name": "stdout",
     "output_type": "stream",
     "text": [
      "[1] \"peak.summary.ccres_v3.tsv\"\n",
      "[1] \"peak.summary.ccres_v4.tsv\"\n"
     ]
    }
   ],
   "source": [
    "fdiry = file.path(\n",
    "    FD_REG, \n",
    "    \"summary\")\n",
    "\n",
    "lst = lst_peak_annot_summary\n",
    "for (idn in names(lst)){\n",
    "    fname = paste(\"peak.summary\", idn, \"tsv\", sep=\".\")\n",
    "    fpath = file.path(fdiry, fname)\n",
    "    print(fname)\n",
    "    flush.console()\n",
    "    \n",
    "    dat = lst[[idn]]\n",
    "    write_tsv(dat, fpath)\n",
    "}"
   ]
  },
  {
   "cell_type": "code",
   "execution_count": null,
   "metadata": {},
   "outputs": [],
   "source": []
  },
  {
   "cell_type": "code",
   "execution_count": null,
   "metadata": {},
   "outputs": [],
   "source": []
  },
  {
   "cell_type": "code",
   "execution_count": null,
   "metadata": {},
   "outputs": [],
   "source": []
  }
 ],
 "metadata": {
  "kernelspec": {
   "display_name": "R",
   "language": "R",
   "name": "ir"
  },
  "language_info": {
   "codemirror_mode": "r",
   "file_extension": ".r",
   "mimetype": "text/x-r-source",
   "name": "R",
   "pygments_lexer": "r",
   "version": "4.3.1"
  }
 },
 "nbformat": 4,
 "nbformat_minor": 4
}
