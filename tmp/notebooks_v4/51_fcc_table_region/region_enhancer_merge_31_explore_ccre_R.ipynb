{
 "cells": [
  {
   "cell_type": "markdown",
   "metadata": {},
   "source": [
    "**Set environment**"
   ]
  },
  {
   "cell_type": "code",
   "execution_count": 1,
   "metadata": {},
   "outputs": [
    {
     "name": "stdout",
     "output_type": "stream",
     "text": [
      "You are in Singularity: singularity_proj_encode_fcc \n",
      "BASE DIRECTORY (FD_BASE): /data/reddylab/Kuei \n",
      "WORK DIRECTORY (FD_WORK): /data/reddylab/Kuei/out \n",
      "CODE DIRECTORY (FD_CODE): /data/reddylab/Kuei/code \n",
      "PATH OF PROJECT (FD_PRJ): /data/reddylab/Kuei/code/Proj_CombEffect_ENCODE_FCC \n",
      "PATH OF RESULTS (FD_RES): /data/reddylab/Kuei/out/proj_combeffect_encode_fcc \n",
      "PATH OF LOG     (FD_LOG): /data/reddylab/Kuei/out/proj_combeffect_encode_fcc/log \n"
     ]
    }
   ],
   "source": [
    "suppressMessages(suppressWarnings(source(\"../config/config_sing.R\")))\n",
    "show_env()"
   ]
  },
  {
   "cell_type": "markdown",
   "metadata": {},
   "source": [
    "## Import data"
   ]
  },
  {
   "cell_type": "code",
   "execution_count": 2,
   "metadata": {},
   "outputs": [],
   "source": [
    "FOLDER_REG = \"region_active\"\n",
    "FOLDER_ANT = \"annotation_ccre\""
   ]
  },
  {
   "cell_type": "code",
   "execution_count": 3,
   "metadata": {},
   "outputs": [
    {
     "data": {
      "text/html": [
       "<style>\n",
       ".list-inline {list-style: none; margin:0; padding: 0}\n",
       ".list-inline>li {display: inline-block}\n",
       ".list-inline>li:not(:last-child)::after {content: \"\\00b7\"; padding: 0 .5ex}\n",
       "</style>\n",
       "<ol class=list-inline><li>'peak.summary.ccre_v3.tsv'</li><li>'peak.summary.ccre_v4.tsv'</li></ol>\n"
      ],
      "text/latex": [
       "\\begin{enumerate*}\n",
       "\\item 'peak.summary.ccre\\_v3.tsv'\n",
       "\\item 'peak.summary.ccre\\_v4.tsv'\n",
       "\\end{enumerate*}\n"
      ],
      "text/markdown": [
       "1. 'peak.summary.ccre_v3.tsv'\n",
       "2. 'peak.summary.ccre_v4.tsv'\n",
       "\n",
       "\n"
      ],
      "text/plain": [
       "[1] \"peak.summary.ccre_v3.tsv\" \"peak.summary.ccre_v4.tsv\""
      ]
     },
     "metadata": {},
     "output_type": "display_data"
    }
   ],
   "source": [
    "fdiry = file.path(\n",
    "    FD_RES, \n",
    "    \"results\", \n",
    "    \"region\", \n",
    "    \"annotation_enhancer_merge\",\n",
    "    FOLDER_REG,\n",
    "    \"summary\")\n",
    "dir(fdiry)"
   ]
  },
  {
   "cell_type": "code",
   "execution_count": 4,
   "metadata": {},
   "outputs": [
    {
     "name": "stdout",
     "output_type": "stream",
     "text": [
      "[1] 265837      9\n"
     ]
    },
    {
     "data": {
      "text/html": [
       "<table class=\"dataframe\">\n",
       "<caption>A tibble: 6 × 9</caption>\n",
       "<thead>\n",
       "\t<tr><th scope=col>Peak</th><th scope=col>Annotation</th><th scope=col>Label</th><th scope=col>Assay_Type</th><th scope=col>Assay_Label</th><th scope=col>Count</th><th scope=col>Region</th><th scope=col>Score</th><th scope=col>Note</th></tr>\n",
       "\t<tr><th scope=col>&lt;chr&gt;</th><th scope=col>&lt;chr&gt;</th><th scope=col>&lt;chr&gt;</th><th scope=col>&lt;chr&gt;</th><th scope=col>&lt;chr&gt;</th><th scope=col>&lt;dbl&gt;</th><th scope=col>&lt;chr&gt;</th><th scope=col>&lt;dbl&gt;</th><th scope=col>&lt;chr&gt;</th></tr>\n",
       "</thead>\n",
       "<tbody>\n",
       "\t<tr><td>chr1:10015-10442  </td><td>ccre_v4</td><td>Low-DNase</td><td>ATAC                      </td><td>ATAC                             </td><td>1</td><td>chr1:10033-10250  </td><td>0</td><td>EH38E2776516:Low-DNase</td></tr>\n",
       "\t<tr><td>chr1:16015-16477  </td><td>ccre_v4</td><td>Low-DNase</td><td>ATAC                      </td><td>ATAC                             </td><td>1</td><td>chr1:16097-16381  </td><td>0</td><td>EH38E3951272:Low-DNase</td></tr>\n",
       "\t<tr><td>chr1:17237-17772  </td><td>ccre_v4</td><td>Low-DNase</td><td>ATAC                      </td><td>ATAC                             </td><td>1</td><td>chr1:17343-17642  </td><td>0</td><td>EH38E3951273:Low-DNase</td></tr>\n",
       "\t<tr><td>chr1:28903-29613  </td><td>ccre_v4</td><td>Low-DNase</td><td>ATAC                      </td><td>ATAC                             </td><td>1</td><td>chr1:29320-29517  </td><td>0</td><td>EH38E3951274:Low-DNase</td></tr>\n",
       "\t<tr><td>chr1:115411-115986</td><td>ccre_v4</td><td>CA-CTCF  </td><td>ATAC,ENCODE-E2G_Prediction</td><td>ATAC,ENCODE-E2G_Prediction:SAMD11</td><td>1</td><td>chr1:115562-115912</td><td>0</td><td>EH38E3951280:CA-CTCF  </td></tr>\n",
       "\t<tr><td>chr1:118518-118743</td><td>ccre_v4</td><td>Low-DNase</td><td>ATAC                      </td><td>ATAC                             </td><td>1</td><td>chr1:118508-118826</td><td>0</td><td>EH38E3951281:Low-DNase</td></tr>\n",
       "</tbody>\n",
       "</table>\n"
      ],
      "text/latex": [
       "A tibble: 6 × 9\n",
       "\\begin{tabular}{lllllllll}\n",
       " Peak & Annotation & Label & Assay\\_Type & Assay\\_Label & Count & Region & Score & Note\\\\\n",
       " <chr> & <chr> & <chr> & <chr> & <chr> & <dbl> & <chr> & <dbl> & <chr>\\\\\n",
       "\\hline\n",
       "\t chr1:10015-10442   & ccre\\_v4 & Low-DNase & ATAC                       & ATAC                              & 1 & chr1:10033-10250   & 0 & EH38E2776516:Low-DNase\\\\\n",
       "\t chr1:16015-16477   & ccre\\_v4 & Low-DNase & ATAC                       & ATAC                              & 1 & chr1:16097-16381   & 0 & EH38E3951272:Low-DNase\\\\\n",
       "\t chr1:17237-17772   & ccre\\_v4 & Low-DNase & ATAC                       & ATAC                              & 1 & chr1:17343-17642   & 0 & EH38E3951273:Low-DNase\\\\\n",
       "\t chr1:28903-29613   & ccre\\_v4 & Low-DNase & ATAC                       & ATAC                              & 1 & chr1:29320-29517   & 0 & EH38E3951274:Low-DNase\\\\\n",
       "\t chr1:115411-115986 & ccre\\_v4 & CA-CTCF   & ATAC,ENCODE-E2G\\_Prediction & ATAC,ENCODE-E2G\\_Prediction:SAMD11 & 1 & chr1:115562-115912 & 0 & EH38E3951280:CA-CTCF  \\\\\n",
       "\t chr1:118518-118743 & ccre\\_v4 & Low-DNase & ATAC                       & ATAC                              & 1 & chr1:118508-118826 & 0 & EH38E3951281:Low-DNase\\\\\n",
       "\\end{tabular}\n"
      ],
      "text/markdown": [
       "\n",
       "A tibble: 6 × 9\n",
       "\n",
       "| Peak &lt;chr&gt; | Annotation &lt;chr&gt; | Label &lt;chr&gt; | Assay_Type &lt;chr&gt; | Assay_Label &lt;chr&gt; | Count &lt;dbl&gt; | Region &lt;chr&gt; | Score &lt;dbl&gt; | Note &lt;chr&gt; |\n",
       "|---|---|---|---|---|---|---|---|---|\n",
       "| chr1:10015-10442   | ccre_v4 | Low-DNase | ATAC                       | ATAC                              | 1 | chr1:10033-10250   | 0 | EH38E2776516:Low-DNase |\n",
       "| chr1:16015-16477   | ccre_v4 | Low-DNase | ATAC                       | ATAC                              | 1 | chr1:16097-16381   | 0 | EH38E3951272:Low-DNase |\n",
       "| chr1:17237-17772   | ccre_v4 | Low-DNase | ATAC                       | ATAC                              | 1 | chr1:17343-17642   | 0 | EH38E3951273:Low-DNase |\n",
       "| chr1:28903-29613   | ccre_v4 | Low-DNase | ATAC                       | ATAC                              | 1 | chr1:29320-29517   | 0 | EH38E3951274:Low-DNase |\n",
       "| chr1:115411-115986 | ccre_v4 | CA-CTCF   | ATAC,ENCODE-E2G_Prediction | ATAC,ENCODE-E2G_Prediction:SAMD11 | 1 | chr1:115562-115912 | 0 | EH38E3951280:CA-CTCF   |\n",
       "| chr1:118518-118743 | ccre_v4 | Low-DNase | ATAC                       | ATAC                              | 1 | chr1:118508-118826 | 0 | EH38E3951281:Low-DNase |\n",
       "\n"
      ],
      "text/plain": [
       "  Peak               Annotation Label     Assay_Type                \n",
       "1 chr1:10015-10442   ccre_v4    Low-DNase ATAC                      \n",
       "2 chr1:16015-16477   ccre_v4    Low-DNase ATAC                      \n",
       "3 chr1:17237-17772   ccre_v4    Low-DNase ATAC                      \n",
       "4 chr1:28903-29613   ccre_v4    Low-DNase ATAC                      \n",
       "5 chr1:115411-115986 ccre_v4    CA-CTCF   ATAC,ENCODE-E2G_Prediction\n",
       "6 chr1:118518-118743 ccre_v4    Low-DNase ATAC                      \n",
       "  Assay_Label                       Count Region             Score\n",
       "1 ATAC                              1     chr1:10033-10250   0    \n",
       "2 ATAC                              1     chr1:16097-16381   0    \n",
       "3 ATAC                              1     chr1:17343-17642   0    \n",
       "4 ATAC                              1     chr1:29320-29517   0    \n",
       "5 ATAC,ENCODE-E2G_Prediction:SAMD11 1     chr1:115562-115912 0    \n",
       "6 ATAC                              1     chr1:118508-118826 0    \n",
       "  Note                  \n",
       "1 EH38E2776516:Low-DNase\n",
       "2 EH38E3951272:Low-DNase\n",
       "3 EH38E3951273:Low-DNase\n",
       "4 EH38E3951274:Low-DNase\n",
       "5 EH38E3951280:CA-CTCF  \n",
       "6 EH38E3951281:Low-DNase"
      ]
     },
     "metadata": {},
     "output_type": "display_data"
    }
   ],
   "source": [
    "fdiry = file.path(\n",
    "    FD_RES, \n",
    "    \"results\", \n",
    "    \"region\", \n",
    "    \"annotation_enhancer_merge\",\n",
    "    FOLDER_REG,\n",
    "    \"summary\")\n",
    "fname = \"peak.summary.ccre_v4.tsv\"\n",
    "fpath = file.path(fdiry, fname)\n",
    "\n",
    "dat = read_tsv(fpath, show_col_types = FALSE)\n",
    "\n",
    "dat_peak_annot_summary = dat\n",
    "print(dim(dat))\n",
    "head(dat)"
   ]
  },
  {
   "cell_type": "code",
   "execution_count": 5,
   "metadata": {},
   "outputs": [
    {
     "data": {
      "text/plain": [
       "\n",
       "     1      2      3      4      5      6      7      8      9     10     11 \n",
       "186509  49233  18049   6966   2876   1275    538    221     94     41     20 \n",
       "    12     13     14 \n",
       "     9      3      3 "
      ]
     },
     "metadata": {},
     "output_type": "display_data"
    }
   ],
   "source": [
    "dat = dat_peak_annot_summary\n",
    "table(dat$Count)"
   ]
  },
  {
   "cell_type": "code",
   "execution_count": 6,
   "metadata": {},
   "outputs": [
    {
     "name": "stdout",
     "output_type": "stream",
     "text": [
      "[1] 68  5\n"
     ]
    },
    {
     "data": {
      "text/html": [
       "<table class=\"dataframe\">\n",
       "<caption>A tibble: 6 × 5</caption>\n",
       "<thead>\n",
       "\t<tr><th scope=col>Label</th><th scope=col>Assay_Type</th><th scope=col>Count</th><th scope=col>Total</th><th scope=col>Freq</th></tr>\n",
       "\t<tr><th scope=col>&lt;chr&gt;</th><th scope=col>&lt;chr&gt;</th><th scope=col>&lt;dbl&gt;</th><th scope=col>&lt;dbl&gt;</th><th scope=col>&lt;dbl&gt;</th></tr>\n",
       "</thead>\n",
       "<tbody>\n",
       "\t<tr><td>CA-CTCF</td><td>ASTARR               </td><td>  324</td><td> 25733</td><td>0.012590837</td></tr>\n",
       "\t<tr><td>CA-CTCF</td><td>ATAC                 </td><td>23103</td><td>364867</td><td>0.063318963</td></tr>\n",
       "\t<tr><td>CA-CTCF</td><td>CRISPRi-Growth       </td><td> 1007</td><td> 16883</td><td>0.059645798</td></tr>\n",
       "\t<tr><td>CA-CTCF</td><td>ENCODE-E2G_Benchmark </td><td>    5</td><td>  1148</td><td>0.004355401</td></tr>\n",
       "\t<tr><td>CA-CTCF</td><td>ENCODE-E2G_Prediction</td><td> 5983</td><td>120622</td><td>0.049601234</td></tr>\n",
       "\t<tr><td>CA-CTCF</td><td>LMPRA                </td><td> 5918</td><td> 92588</td><td>0.063917570</td></tr>\n",
       "</tbody>\n",
       "</table>\n"
      ],
      "text/latex": [
       "A tibble: 6 × 5\n",
       "\\begin{tabular}{lllll}\n",
       " Label & Assay\\_Type & Count & Total & Freq\\\\\n",
       " <chr> & <chr> & <dbl> & <dbl> & <dbl>\\\\\n",
       "\\hline\n",
       "\t CA-CTCF & ASTARR                &   324 &  25733 & 0.012590837\\\\\n",
       "\t CA-CTCF & ATAC                  & 23103 & 364867 & 0.063318963\\\\\n",
       "\t CA-CTCF & CRISPRi-Growth        &  1007 &  16883 & 0.059645798\\\\\n",
       "\t CA-CTCF & ENCODE-E2G\\_Benchmark  &     5 &   1148 & 0.004355401\\\\\n",
       "\t CA-CTCF & ENCODE-E2G\\_Prediction &  5983 & 120622 & 0.049601234\\\\\n",
       "\t CA-CTCF & LMPRA                 &  5918 &  92588 & 0.063917570\\\\\n",
       "\\end{tabular}\n"
      ],
      "text/markdown": [
       "\n",
       "A tibble: 6 × 5\n",
       "\n",
       "| Label &lt;chr&gt; | Assay_Type &lt;chr&gt; | Count &lt;dbl&gt; | Total &lt;dbl&gt; | Freq &lt;dbl&gt; |\n",
       "|---|---|---|---|---|\n",
       "| CA-CTCF | ASTARR                |   324 |  25733 | 0.012590837 |\n",
       "| CA-CTCF | ATAC                  | 23103 | 364867 | 0.063318963 |\n",
       "| CA-CTCF | CRISPRi-Growth        |  1007 |  16883 | 0.059645798 |\n",
       "| CA-CTCF | ENCODE-E2G_Benchmark  |     5 |   1148 | 0.004355401 |\n",
       "| CA-CTCF | ENCODE-E2G_Prediction |  5983 | 120622 | 0.049601234 |\n",
       "| CA-CTCF | LMPRA                 |  5918 |  92588 | 0.063917570 |\n",
       "\n"
      ],
      "text/plain": [
       "  Label   Assay_Type            Count Total  Freq       \n",
       "1 CA-CTCF ASTARR                  324  25733 0.012590837\n",
       "2 CA-CTCF ATAC                  23103 364867 0.063318963\n",
       "3 CA-CTCF CRISPRi-Growth         1007  16883 0.059645798\n",
       "4 CA-CTCF ENCODE-E2G_Benchmark      5   1148 0.004355401\n",
       "5 CA-CTCF ENCODE-E2G_Prediction  5983 120622 0.049601234\n",
       "6 CA-CTCF LMPRA                  5918  92588 0.063917570"
      ]
     },
     "metadata": {},
     "output_type": "display_data"
    }
   ],
   "source": [
    "dat = dat_peak_annot_summary\n",
    "dat = dat %>% tidyr::separate_longer_delim(Assay_Type, \",\")\n",
    "\n",
    "### count each\n",
    "dat1 = dat %>%\n",
    "    dplyr::group_by(Label, Assay_Type) %>%\n",
    "    dplyr::summarise(Count = sum(Count), .groups = \"drop\")\n",
    "\n",
    "### count total\n",
    "dat2 = dat %>%\n",
    "    dplyr::group_by(Assay_Type) %>%\n",
    "    dplyr::summarise(Total = sum(Count), .groups = \"drop\")\n",
    "\n",
    "### merge\n",
    "dat = dat1 %>% \n",
    "    dplyr::left_join(dat2, by = \"Assay_Type\") %>%\n",
    "    dplyr::mutate(Freq = Count / Total)\n",
    "\n",
    "dat_ccre_count = dat\n",
    "print(dim(dat))\n",
    "head(dat)"
   ]
  },
  {
   "cell_type": "code",
   "execution_count": 16,
   "metadata": {},
   "outputs": [
    {
     "data": {
      "image/png": "[encoded data removed]",
      "text/plain": [
       "plot without title"
      ]
     },
     "metadata": {
      "image/png": {
       "height": 300,
       "width": 480
      }
     },
     "output_type": "display_data"
    }
   ],
   "source": [
    "dat = dat_ccre_count\n",
    "\n",
    "###\n",
    "vec = c(\n",
    "    \"ATAC\", \n",
    "    \"ASTARR\", \"WSTARR\", \"TMPRA\", \"LMPRA\", \n",
    "    \"CRISPRi-HCRFF\", \n",
    "    \"CRISPRi-Growth\", \n",
    "    \"ENCODE-E2G_Benchmark\",\n",
    "    \"ENCODE-E2G_Prediction\")\n",
    "\n",
    "dat = dat %>% dplyr::mutate(Assay_Type = factor(Assay_Type, levels=rev(vec)))\n",
    "\n",
    "###\n",
    "vec = c(\n",
    "    \"PLS\"        = \"#fb8072\", \n",
    "    \"pELS\"       = \"#fdb462\", \n",
    "    \"dELS\"       = \"#80b1d3\", \n",
    "    \"CA-TF\"      = \"#8dd3c7\", \n",
    "    \"CA-H3K4me3\" = \"#fee08b\",  \n",
    "    \"CA-CTCF\"    = \"#bebada\", \n",
    "    \"CA-only\"    = \"#fccde5\", \n",
    "    \"Low-DNase\"  = \"#d9d9d9\")\n",
    "theme_fill = scale_fill_manual(values = vec)\n",
    "\n",
    "gpt = ggplot(dat, aes(x=Assay_Type, y=Freq, fill=Label)) + \n",
    "    geom_col() +\n",
    "    labs(x=\"Assay\", y=\"Proportion\") +\n",
    "    coord_flip() +\n",
    "    theme_cowplot() +\n",
    "    theme_fill\n",
    "\n",
    "options(repr.plot.height=5, repr.plot.width=8)\n",
    "print(gpt)"
   ]
  },
  {
   "cell_type": "code",
   "execution_count": null,
   "metadata": {},
   "outputs": [],
   "source": []
  }
 ],
 "metadata": {
  "kernelspec": {
   "display_name": "R",
   "language": "R",
   "name": "ir"
  },
  "language_info": {
   "codemirror_mode": "r",
   "file_extension": ".r",
   "mimetype": "text/x-r-source",
   "name": "R",
   "pygments_lexer": "r",
   "version": "4.3.1"
  }
 },
 "nbformat": 4,
 "nbformat_minor": 4
}
