{
 "cells": [
  {
   "cell_type": "markdown",
   "id": "a9d4d755-4c71-404d-9f9c-cee5ff482d64",
   "metadata": {},
   "source": [
    "**Set environment**"
   ]
  },
  {
   "cell_type": "code",
   "execution_count": 1,
   "id": "bf3c3c17-1bd7-4249-8163-46e07a133ffb",
   "metadata": {},
   "outputs": [
    {
     "name": "stdout",
     "output_type": "stream",
     "text": [
      "You are in Singularity: singularity_proj_encode_fcc \n",
      "BASE DIRECTORY (FD_BASE): /data/reddylab/Kuei \n",
      "WORK DIRECTORY (FD_WORK): /data/reddylab/Kuei/out \n",
      "CODE DIRECTORY (FD_CODE): /data/reddylab/Kuei/code \n",
      "PATH OF PROJECT (FD_PRJ): /data/reddylab/Kuei/code/Proj_CombEffect_ENCODE_FCC \n",
      "PATH OF RESULTS (FD_RES): /data/reddylab/Kuei/out/proj_combeffect_encode_fcc \n",
      "PATH OF LOG     (FD_LOG): /data/reddylab/Kuei/out/proj_combeffect_encode_fcc/log \n"
     ]
    }
   ],
   "source": [
    "suppressWarnings(suppressMessages(source(\"../config/config_sing.R\")))\n",
    "library(pheatmap)\n",
    "show_env()"
   ]
  },
  {
   "cell_type": "markdown",
   "id": "ece15f06-fd6e-47ce-bd5f-e6cd51afaa0e",
   "metadata": {},
   "source": [
    "**Check data files**"
   ]
  },
  {
   "cell_type": "code",
   "execution_count": 2,
   "id": "951d7564-050d-491f-97c1-6a8305ccf7eb",
   "metadata": {},
   "outputs": [
    {
     "name": "stdout",
     "output_type": "stream",
     "text": [
      "annotation_ccres \n",
      "annotation_ccres_silencer \n",
      "annotation_chromHMM \n",
      "annotation_tss_pol2 \n",
      "description.tsv \n",
      "fcc_table.starrmpra.crispri.atac.concat.bed.gz \n",
      "fcc_table.starrmpra.crispri.atac.e2g_benchmark.concat.bed.gz \n",
      "fcc_table.starrmpra.crispri.atac.e2g_benchmark.e2g_prediction.concat.bed.gz \n",
      "fcc_table.starrmpra.crispri.atac.e2g_benchmark.e2g_prediction.merge.bed.gz \n",
      "fcc_table.starrmpra.crispri.atac.e2g_benchmark.e2g_prediction.merge.tsv \n",
      "fcc_table.starrmpra.crispri.atac.e2g_benchmark.merge.bed.gz \n",
      "fcc_table.starrmpra.crispri.atac.e2g_benchmark.merge.tsv \n",
      "fcc_table.starrmpra.crispri.atac.merge.bed.gz \n",
      "fcc_table.starrmpra.crispri.atac.merge.tsv \n",
      "summary \n",
      "z_summary \n"
     ]
    }
   ],
   "source": [
    "fdiry = file.path(FD_RES, \"results\", \"region\", \"annotation_fcc_table\")\n",
    "for (txt in dir(fdiry)){cat(txt, \"\\n\")}"
   ]
  },
  {
   "cell_type": "markdown",
   "id": "c3b69ee7-9697-472a-8058-040a735647a1",
   "metadata": {},
   "source": [
    "## Import data"
   ]
  },
  {
   "cell_type": "code",
   "execution_count": 3,
   "id": "3ec26e3f-0a35-48da-a74d-f3811e978512",
   "metadata": {},
   "outputs": [
    {
     "name": "stdout",
     "output_type": "stream",
     "text": [
      "[1] 348966      6\n"
     ]
    },
    {
     "data": {
      "text/html": [
       "<table class=\"dataframe\">\n",
       "<caption>A tibble: 6 × 6</caption>\n",
       "<thead>\n",
       "\t<tr><th scope=col>Chrom</th><th scope=col>Start</th><th scope=col>End</th><th scope=col>Region</th><th scope=col>Assay_Type</th><th scope=col>Assay_Label</th></tr>\n",
       "\t<tr><th scope=col>&lt;chr&gt;</th><th scope=col>&lt;dbl&gt;</th><th scope=col>&lt;dbl&gt;</th><th scope=col>&lt;chr&gt;</th><th scope=col>&lt;chr&gt;</th><th scope=col>&lt;chr&gt;</th></tr>\n",
       "</thead>\n",
       "<tbody>\n",
       "\t<tr><td>chr1</td><td>10015</td><td>10442</td><td>chr1:10015-10442</td><td>ATAC</td><td>ATAC</td></tr>\n",
       "\t<tr><td>chr1</td><td>14253</td><td>14645</td><td>chr1:14253-14645</td><td>ATAC</td><td>ATAC</td></tr>\n",
       "\t<tr><td>chr1</td><td>16015</td><td>16477</td><td>chr1:16015-16477</td><td>ATAC</td><td>ATAC</td></tr>\n",
       "\t<tr><td>chr1</td><td>17237</td><td>17772</td><td>chr1:17237-17772</td><td>ATAC</td><td>ATAC</td></tr>\n",
       "\t<tr><td>chr1</td><td>28903</td><td>29613</td><td>chr1:28903-29613</td><td>ATAC</td><td>ATAC</td></tr>\n",
       "\t<tr><td>chr1</td><td>30803</td><td>31072</td><td>chr1:30803-31072</td><td>ATAC</td><td>ATAC</td></tr>\n",
       "</tbody>\n",
       "</table>\n"
      ],
      "text/latex": [
       "A tibble: 6 × 6\n",
       "\\begin{tabular}{llllll}\n",
       " Chrom & Start & End & Region & Assay\\_Type & Assay\\_Label\\\\\n",
       " <chr> & <dbl> & <dbl> & <chr> & <chr> & <chr>\\\\\n",
       "\\hline\n",
       "\t chr1 & 10015 & 10442 & chr1:10015-10442 & ATAC & ATAC\\\\\n",
       "\t chr1 & 14253 & 14645 & chr1:14253-14645 & ATAC & ATAC\\\\\n",
       "\t chr1 & 16015 & 16477 & chr1:16015-16477 & ATAC & ATAC\\\\\n",
       "\t chr1 & 17237 & 17772 & chr1:17237-17772 & ATAC & ATAC\\\\\n",
       "\t chr1 & 28903 & 29613 & chr1:28903-29613 & ATAC & ATAC\\\\\n",
       "\t chr1 & 30803 & 31072 & chr1:30803-31072 & ATAC & ATAC\\\\\n",
       "\\end{tabular}\n"
      ],
      "text/markdown": [
       "\n",
       "A tibble: 6 × 6\n",
       "\n",
       "| Chrom &lt;chr&gt; | Start &lt;dbl&gt; | End &lt;dbl&gt; | Region &lt;chr&gt; | Assay_Type &lt;chr&gt; | Assay_Label &lt;chr&gt; |\n",
       "|---|---|---|---|---|---|\n",
       "| chr1 | 10015 | 10442 | chr1:10015-10442 | ATAC | ATAC |\n",
       "| chr1 | 14253 | 14645 | chr1:14253-14645 | ATAC | ATAC |\n",
       "| chr1 | 16015 | 16477 | chr1:16015-16477 | ATAC | ATAC |\n",
       "| chr1 | 17237 | 17772 | chr1:17237-17772 | ATAC | ATAC |\n",
       "| chr1 | 28903 | 29613 | chr1:28903-29613 | ATAC | ATAC |\n",
       "| chr1 | 30803 | 31072 | chr1:30803-31072 | ATAC | ATAC |\n",
       "\n"
      ],
      "text/plain": [
       "  Chrom Start End   Region           Assay_Type Assay_Label\n",
       "1 chr1  10015 10442 chr1:10015-10442 ATAC       ATAC       \n",
       "2 chr1  14253 14645 chr1:14253-14645 ATAC       ATAC       \n",
       "3 chr1  16015 16477 chr1:16015-16477 ATAC       ATAC       \n",
       "4 chr1  17237 17772 chr1:17237-17772 ATAC       ATAC       \n",
       "5 chr1  28903 29613 chr1:28903-29613 ATAC       ATAC       \n",
       "6 chr1  30803 31072 chr1:30803-31072 ATAC       ATAC       "
      ]
     },
     "metadata": {},
     "output_type": "display_data"
    }
   ],
   "source": [
    "fdiry = file.path(FD_RES, \"results\", \"region\", \"annotation_fcc_table\")\n",
    "fname = \"fcc_table.starrmpra.crispri.atac.e2g_benchmark.merge.bed.gz\"\n",
    "fpath = file.path(fdiry, fname)\n",
    "\n",
    "cnames = c(\"Chrom\", \"Start\", \"End\", \"Assay_Type\", \"Assay_Label\")\n",
    "dat = read_tsv(fpath, col_names=cnames, show_col_types=FALSE)\n",
    "dat = dat %>% \n",
    "    dplyr::mutate(Region = paste0(Chrom, \":\", Start, \"-\", End)) %>%\n",
    "    dplyr::select(Chrom, Start, End, Region, Assay_Type, Assay_Label)\n",
    "\n",
    "dat_region_merge_import = dat\n",
    "print(dim(dat))\n",
    "head(dat)"
   ]
  },
  {
   "cell_type": "code",
   "execution_count": 4,
   "id": "332259c0-6f88-4399-a2b5-9d189b5dda72",
   "metadata": {},
   "outputs": [
    {
     "data": {
      "text/plain": [
       "\n",
       "          ASTARR_A ASTARR_A,ASTARR_AB  ASTARR_A,ASTARR_R           ASTARR_R \n",
       "               335                 45                 38                726 "
      ]
     },
     "metadata": {},
     "output_type": "display_data"
    }
   ],
   "source": [
    "dat = dat_region_merge_import\n",
    "txt = \"ASTARR\"\n",
    "dat = dat %>% dplyr::filter(Assay_Type == txt)\n",
    "table(dat$Assay_Label)"
   ]
  },
  {
   "cell_type": "markdown",
   "id": "b060b606-4042-4039-83dc-88234cd5cc35",
   "metadata": {},
   "source": [
    "## Calculate similarity"
   ]
  },
  {
   "cell_type": "code",
   "execution_count": null,
   "id": "6e0eedff-9862-45e2-889b-44050e18a115",
   "metadata": {},
   "outputs": [],
   "source": [
    "fun_jaccard = function(vec_txt_x, vec_txt_y){\n",
    "    x = vec_txt_x\n",
    "    y = vec_txt_y\n",
    "\n",
    "    num_size_x = \n",
    "    num_size_y = \n",
    "    num_size_intersect = \n",
    "    num_size_union     = \n",
    "    num_metric_jaccard = num_size_intersect / num_size_union\n",
    "}"
   ]
  },
  {
   "cell_type": "code",
   "execution_count": null,
   "id": "5c35f4f2-0162-417f-926b-9948614f9fc6",
   "metadata": {},
   "outputs": [],
   "source": []
  },
  {
   "cell_type": "code",
   "execution_count": null,
   "id": "084e3e6d-270e-4386-bbda-bbe2f7ba6ea6",
   "metadata": {},
   "outputs": [],
   "source": []
  },
  {
   "cell_type": "code",
   "execution_count": null,
   "id": "4871f139-68cf-4193-9c60-26fb6a268cdc",
   "metadata": {},
   "outputs": [],
   "source": []
  }
 ],
 "metadata": {
  "kernelspec": {
   "display_name": "R",
   "language": "R",
   "name": "ir"
  },
  "language_info": {
   "codemirror_mode": "r",
   "file_extension": ".r",
   "mimetype": "text/x-r-source",
   "name": "R",
   "pygments_lexer": "r",
   "version": "4.3.1"
  }
 },
 "nbformat": 4,
 "nbformat_minor": 5
}
