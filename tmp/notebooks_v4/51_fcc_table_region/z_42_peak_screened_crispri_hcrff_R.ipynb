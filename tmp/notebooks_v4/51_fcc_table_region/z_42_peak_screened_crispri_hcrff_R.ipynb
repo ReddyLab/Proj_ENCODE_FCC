{
 "cells": [
  {
   "cell_type": "markdown",
   "metadata": {},
   "source": [
    "**Set environment**"
   ]
  },
  {
   "cell_type": "code",
   "execution_count": 1,
   "metadata": {},
   "outputs": [
    {
     "name": "stdout",
     "output_type": "stream",
     "text": [
      "You are in Singularity: singularity_proj_encode_fcc \n",
      "BASE DIRECTORY (FD_BASE): /data/reddylab/Kuei \n",
      "WORK DIRECTORY (FD_WORK): /data/reddylab/Kuei/out \n",
      "CODE DIRECTORY (FD_CODE): /data/reddylab/Kuei/code \n",
      "PATH OF PROJECT (FD_PRJ): /data/reddylab/Kuei/code/Proj_CombEffect_ENCODE_FCC \n",
      "PATH OF RESULTS (FD_RES): /data/reddylab/Kuei/out/proj_combeffect_encode_fcc \n",
      "PATH OF LOG     (FD_LOG): /data/reddylab/Kuei/out/proj_combeffect_encode_fcc/log \n"
     ]
    }
   ],
   "source": [
    "suppressMessages(suppressWarnings(source(\"../config/config_sing.R\")))\n",
    "show_env()"
   ]
  },
  {
   "cell_type": "markdown",
   "metadata": {},
   "source": [
    "## Import data"
   ]
  },
  {
   "cell_type": "code",
   "execution_count": 2,
   "metadata": {},
   "outputs": [
    {
     "name": "stdout",
     "output_type": "stream",
     "text": [
      "[1] 180955     10\n"
     ]
    },
    {
     "data": {
      "text/html": [
       "<table class=\"dataframe\">\n",
       "<caption>A tibble: 6 × 10</caption>\n",
       "<thead>\n",
       "\t<tr><th scope=col>Chrom_ATAC</th><th scope=col>Start_ATAC</th><th scope=col>End_ATAC</th><th scope=col>Chrom_Guide</th><th scope=col>Start_Guide</th><th scope=col>End_Guide</th><th scope=col>Guide_ID</th><th scope=col>Score</th><th scope=col>Gene</th><th scope=col>Overlap</th></tr>\n",
       "\t<tr><th scope=col>&lt;chr&gt;</th><th scope=col>&lt;dbl&gt;</th><th scope=col>&lt;dbl&gt;</th><th scope=col>&lt;chr&gt;</th><th scope=col>&lt;dbl&gt;</th><th scope=col>&lt;dbl&gt;</th><th scope=col>&lt;chr&gt;</th><th scope=col>&lt;dbl&gt;</th><th scope=col>&lt;chr&gt;</th><th scope=col>&lt;dbl&gt;</th></tr>\n",
       "</thead>\n",
       "<tbody>\n",
       "\t<tr><td>chr10</td><td>100729027</td><td>100729908</td><td>chr10</td><td>100729052</td><td>100729053</td><td>id-241</td><td>-0.282619</td><td>CAPRIN1</td><td>1</td></tr>\n",
       "\t<tr><td>chr10</td><td>100729027</td><td>100729908</td><td>chr10</td><td>100729112</td><td>100729113</td><td>id-242</td><td>-1.319770</td><td>CAPRIN1</td><td>1</td></tr>\n",
       "\t<tr><td>chr10</td><td>100729027</td><td>100729908</td><td>chr10</td><td>100729138</td><td>100729139</td><td>id-243</td><td>-0.448425</td><td>CAPRIN1</td><td>1</td></tr>\n",
       "\t<tr><td>chr10</td><td>100729027</td><td>100729908</td><td>chr10</td><td>100729167</td><td>100729168</td><td>id-244</td><td>-0.189156</td><td>CAPRIN1</td><td>1</td></tr>\n",
       "\t<tr><td>chr10</td><td>100729027</td><td>100729908</td><td>chr10</td><td>100729178</td><td>100729179</td><td>id-245</td><td> 0.057306</td><td>CAPRIN1</td><td>1</td></tr>\n",
       "\t<tr><td>chr10</td><td>100729027</td><td>100729908</td><td>chr10</td><td>100729273</td><td>100729274</td><td>id-246</td><td> 1.171000</td><td>CAPRIN1</td><td>1</td></tr>\n",
       "</tbody>\n",
       "</table>\n"
      ],
      "text/latex": [
       "A tibble: 6 × 10\n",
       "\\begin{tabular}{llllllllll}\n",
       " Chrom\\_ATAC & Start\\_ATAC & End\\_ATAC & Chrom\\_Guide & Start\\_Guide & End\\_Guide & Guide\\_ID & Score & Gene & Overlap\\\\\n",
       " <chr> & <dbl> & <dbl> & <chr> & <dbl> & <dbl> & <chr> & <dbl> & <chr> & <dbl>\\\\\n",
       "\\hline\n",
       "\t chr10 & 100729027 & 100729908 & chr10 & 100729052 & 100729053 & id-241 & -0.282619 & CAPRIN1 & 1\\\\\n",
       "\t chr10 & 100729027 & 100729908 & chr10 & 100729112 & 100729113 & id-242 & -1.319770 & CAPRIN1 & 1\\\\\n",
       "\t chr10 & 100729027 & 100729908 & chr10 & 100729138 & 100729139 & id-243 & -0.448425 & CAPRIN1 & 1\\\\\n",
       "\t chr10 & 100729027 & 100729908 & chr10 & 100729167 & 100729168 & id-244 & -0.189156 & CAPRIN1 & 1\\\\\n",
       "\t chr10 & 100729027 & 100729908 & chr10 & 100729178 & 100729179 & id-245 &  0.057306 & CAPRIN1 & 1\\\\\n",
       "\t chr10 & 100729027 & 100729908 & chr10 & 100729273 & 100729274 & id-246 &  1.171000 & CAPRIN1 & 1\\\\\n",
       "\\end{tabular}\n"
      ],
      "text/markdown": [
       "\n",
       "A tibble: 6 × 10\n",
       "\n",
       "| Chrom_ATAC &lt;chr&gt; | Start_ATAC &lt;dbl&gt; | End_ATAC &lt;dbl&gt; | Chrom_Guide &lt;chr&gt; | Start_Guide &lt;dbl&gt; | End_Guide &lt;dbl&gt; | Guide_ID &lt;chr&gt; | Score &lt;dbl&gt; | Gene &lt;chr&gt; | Overlap &lt;dbl&gt; |\n",
       "|---|---|---|---|---|---|---|---|---|---|\n",
       "| chr10 | 100729027 | 100729908 | chr10 | 100729052 | 100729053 | id-241 | -0.282619 | CAPRIN1 | 1 |\n",
       "| chr10 | 100729027 | 100729908 | chr10 | 100729112 | 100729113 | id-242 | -1.319770 | CAPRIN1 | 1 |\n",
       "| chr10 | 100729027 | 100729908 | chr10 | 100729138 | 100729139 | id-243 | -0.448425 | CAPRIN1 | 1 |\n",
       "| chr10 | 100729027 | 100729908 | chr10 | 100729167 | 100729168 | id-244 | -0.189156 | CAPRIN1 | 1 |\n",
       "| chr10 | 100729027 | 100729908 | chr10 | 100729178 | 100729179 | id-245 |  0.057306 | CAPRIN1 | 1 |\n",
       "| chr10 | 100729027 | 100729908 | chr10 | 100729273 | 100729274 | id-246 |  1.171000 | CAPRIN1 | 1 |\n",
       "\n"
      ],
      "text/plain": [
       "  Chrom_ATAC Start_ATAC End_ATAC  Chrom_Guide Start_Guide End_Guide Guide_ID\n",
       "1 chr10      100729027  100729908 chr10       100729052   100729053 id-241  \n",
       "2 chr10      100729027  100729908 chr10       100729112   100729113 id-242  \n",
       "3 chr10      100729027  100729908 chr10       100729138   100729139 id-243  \n",
       "4 chr10      100729027  100729908 chr10       100729167   100729168 id-244  \n",
       "5 chr10      100729027  100729908 chr10       100729178   100729179 id-245  \n",
       "6 chr10      100729027  100729908 chr10       100729273   100729274 id-246  \n",
       "  Score     Gene    Overlap\n",
       "1 -0.282619 CAPRIN1 1      \n",
       "2 -1.319770 CAPRIN1 1      \n",
       "3 -0.448425 CAPRIN1 1      \n",
       "4 -0.189156 CAPRIN1 1      \n",
       "5  0.057306 CAPRIN1 1      \n",
       "6  1.171000 CAPRIN1 1      "
      ]
     },
     "metadata": {},
     "output_type": "display_data"
    }
   ],
   "source": [
    "fdiry = file.path(FD_RES, \"results\", \"CRISPRi_FlowFISH\", \"coverage_astarrseq_peak_macs_input\")\n",
    "fname = \"Merge_HCRFF_rAVG.log2FC_2.bed.gz\"\n",
    "fpath = file.path(fdiry, fname)\n",
    "\n",
    "cnames = c(\n",
    "    \"Chrom_ATAC\",  \"Start_ATAC\",  \"End_ATAC\",\n",
    "    \"Chrom_Guide\", \"Start_Guide\", \"End_Guide\", \"Guide_ID\", \"Score\", \"Gene\", \n",
    "    \"Overlap\"\n",
    ")\n",
    "dat = read_tsv(fpath, col_names = cnames, show_col_types = FALSE)\n",
    "\n",
    "dat_peak_crispri_hcrff_total = dat\n",
    "print(dim(dat))\n",
    "head(dat)"
   ]
  },
  {
   "cell_type": "code",
   "execution_count": 3,
   "metadata": {},
   "outputs": [
    {
     "name": "stdout",
     "output_type": "stream",
     "text": [
      "[1] 176457     10\n"
     ]
    },
    {
     "data": {
      "text/html": [
       "<table class=\"dataframe\">\n",
       "<caption>A tibble: 6 × 10</caption>\n",
       "<thead>\n",
       "\t<tr><th scope=col>Chrom_ATAC</th><th scope=col>Start_ATAC</th><th scope=col>End_ATAC</th><th scope=col>Chrom_Guide</th><th scope=col>Start_Guide</th><th scope=col>End_Guide</th><th scope=col>Guide_ID</th><th scope=col>Score</th><th scope=col>Gene</th><th scope=col>Overlap</th></tr>\n",
       "\t<tr><th scope=col>&lt;chr&gt;</th><th scope=col>&lt;dbl&gt;</th><th scope=col>&lt;dbl&gt;</th><th scope=col>&lt;chr&gt;</th><th scope=col>&lt;dbl&gt;</th><th scope=col>&lt;dbl&gt;</th><th scope=col>&lt;chr&gt;</th><th scope=col>&lt;dbl&gt;</th><th scope=col>&lt;chr&gt;</th><th scope=col>&lt;dbl&gt;</th></tr>\n",
       "</thead>\n",
       "<tbody>\n",
       "\t<tr><td>chr11</td><td>4092104</td><td>4092566</td><td>chr11</td><td>4092122</td><td>4092123</td><td>id-145</td><td>-1.101030</td><td>HBE1</td><td>1</td></tr>\n",
       "\t<tr><td>chr11</td><td>4092104</td><td>4092566</td><td>chr11</td><td>4092123</td><td>4092124</td><td>id-146</td><td>-0.061961</td><td>HBE1</td><td>1</td></tr>\n",
       "\t<tr><td>chr11</td><td>4092104</td><td>4092566</td><td>chr11</td><td>4092130</td><td>4092131</td><td>id-147</td><td> 0.528464</td><td>HBE1</td><td>1</td></tr>\n",
       "\t<tr><td>chr11</td><td>4092104</td><td>4092566</td><td>chr11</td><td>4092135</td><td>4092136</td><td>id-148</td><td> 0.497477</td><td>HBE1</td><td>1</td></tr>\n",
       "\t<tr><td>chr11</td><td>4092104</td><td>4092566</td><td>chr11</td><td>4092162</td><td>4092163</td><td>id-149</td><td>-0.190223</td><td>HBE1</td><td>1</td></tr>\n",
       "\t<tr><td>chr11</td><td>4092104</td><td>4092566</td><td>chr11</td><td>4092163</td><td>4092164</td><td>id-150</td><td>-1.781920</td><td>HBE1</td><td>1</td></tr>\n",
       "</tbody>\n",
       "</table>\n"
      ],
      "text/latex": [
       "A tibble: 6 × 10\n",
       "\\begin{tabular}{llllllllll}\n",
       " Chrom\\_ATAC & Start\\_ATAC & End\\_ATAC & Chrom\\_Guide & Start\\_Guide & End\\_Guide & Guide\\_ID & Score & Gene & Overlap\\\\\n",
       " <chr> & <dbl> & <dbl> & <chr> & <dbl> & <dbl> & <chr> & <dbl> & <chr> & <dbl>\\\\\n",
       "\\hline\n",
       "\t chr11 & 4092104 & 4092566 & chr11 & 4092122 & 4092123 & id-145 & -1.101030 & HBE1 & 1\\\\\n",
       "\t chr11 & 4092104 & 4092566 & chr11 & 4092123 & 4092124 & id-146 & -0.061961 & HBE1 & 1\\\\\n",
       "\t chr11 & 4092104 & 4092566 & chr11 & 4092130 & 4092131 & id-147 &  0.528464 & HBE1 & 1\\\\\n",
       "\t chr11 & 4092104 & 4092566 & chr11 & 4092135 & 4092136 & id-148 &  0.497477 & HBE1 & 1\\\\\n",
       "\t chr11 & 4092104 & 4092566 & chr11 & 4092162 & 4092163 & id-149 & -0.190223 & HBE1 & 1\\\\\n",
       "\t chr11 & 4092104 & 4092566 & chr11 & 4092163 & 4092164 & id-150 & -1.781920 & HBE1 & 1\\\\\n",
       "\\end{tabular}\n"
      ],
      "text/markdown": [
       "\n",
       "A tibble: 6 × 10\n",
       "\n",
       "| Chrom_ATAC &lt;chr&gt; | Start_ATAC &lt;dbl&gt; | End_ATAC &lt;dbl&gt; | Chrom_Guide &lt;chr&gt; | Start_Guide &lt;dbl&gt; | End_Guide &lt;dbl&gt; | Guide_ID &lt;chr&gt; | Score &lt;dbl&gt; | Gene &lt;chr&gt; | Overlap &lt;dbl&gt; |\n",
       "|---|---|---|---|---|---|---|---|---|---|\n",
       "| chr11 | 4092104 | 4092566 | chr11 | 4092122 | 4092123 | id-145 | -1.101030 | HBE1 | 1 |\n",
       "| chr11 | 4092104 | 4092566 | chr11 | 4092123 | 4092124 | id-146 | -0.061961 | HBE1 | 1 |\n",
       "| chr11 | 4092104 | 4092566 | chr11 | 4092130 | 4092131 | id-147 |  0.528464 | HBE1 | 1 |\n",
       "| chr11 | 4092104 | 4092566 | chr11 | 4092135 | 4092136 | id-148 |  0.497477 | HBE1 | 1 |\n",
       "| chr11 | 4092104 | 4092566 | chr11 | 4092162 | 4092163 | id-149 | -0.190223 | HBE1 | 1 |\n",
       "| chr11 | 4092104 | 4092566 | chr11 | 4092163 | 4092164 | id-150 | -1.781920 | HBE1 | 1 |\n",
       "\n"
      ],
      "text/plain": [
       "  Chrom_ATAC Start_ATAC End_ATAC Chrom_Guide Start_Guide End_Guide Guide_ID\n",
       "1 chr11      4092104    4092566  chr11       4092122     4092123   id-145  \n",
       "2 chr11      4092104    4092566  chr11       4092123     4092124   id-146  \n",
       "3 chr11      4092104    4092566  chr11       4092130     4092131   id-147  \n",
       "4 chr11      4092104    4092566  chr11       4092135     4092136   id-148  \n",
       "5 chr11      4092104    4092566  chr11       4092162     4092163   id-149  \n",
       "6 chr11      4092104    4092566  chr11       4092163     4092164   id-150  \n",
       "  Score     Gene Overlap\n",
       "1 -1.101030 HBE1 1      \n",
       "2 -0.061961 HBE1 1      \n",
       "3  0.528464 HBE1 1      \n",
       "4  0.497477 HBE1 1      \n",
       "5 -0.190223 HBE1 1      \n",
       "6 -1.781920 HBE1 1      "
      ]
     },
     "metadata": {},
     "output_type": "display_data"
    }
   ],
   "source": [
    "fdiry = file.path(FD_RES, \"results\", \"CRISPRi_FlowFISH\", \"coverage_astarrseq_peak_macs_input\")\n",
    "fname = \"Merge_HCRFF_rAVG.log2FC_2.filtered.bed.gz\"\n",
    "fpath = file.path(fdiry, fname)\n",
    "\n",
    "cnames = c(\n",
    "    \"Chrom_ATAC\",  \"Start_ATAC\",  \"End_ATAC\",\n",
    "    \"Chrom_Guide\", \"Start_Guide\", \"End_Guide\", \"Guide_ID\", \"Score\", \"Gene\", \n",
    "    \"Overlap\"\n",
    ")\n",
    "dat = read_tsv(fpath, col_names = cnames, show_col_types = FALSE)\n",
    "\n",
    "dat_peak_crispri_hcrff_filter = dat\n",
    "print(dim(dat))\n",
    "head(dat)"
   ]
  },
  {
   "cell_type": "markdown",
   "metadata": {},
   "source": [
    "## Get the ATAC peaks and arrange"
   ]
  },
  {
   "cell_type": "code",
   "execution_count": null,
   "metadata": {},
   "outputs": [],
   "source": [
    "dat = dat_peak_crispri_hcrff_total\n",
    "dat = dat %>% dplyr::select(Chrom_ATAC, Start_ATAC, End_ATAC)\n"
   ]
  }
 ],
 "metadata": {
  "kernelspec": {
   "display_name": "R (alex_py3)",
   "language": "R",
   "name": "ir_alex_py3"
  },
  "language_info": {
   "codemirror_mode": "r",
   "file_extension": ".r",
   "mimetype": "text/x-r-source",
   "name": "R",
   "pygments_lexer": "r",
   "version": "3.6.2"
  }
 },
 "nbformat": 4,
 "nbformat_minor": 4
}
