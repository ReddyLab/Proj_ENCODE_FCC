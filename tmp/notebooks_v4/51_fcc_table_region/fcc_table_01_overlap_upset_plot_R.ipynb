{
 "cells": [
  {
   "cell_type": "markdown",
   "metadata": {},
   "source": [
    "**Set environment**"
   ]
  },
  {
   "cell_type": "code",
   "execution_count": 1,
   "metadata": {},
   "outputs": [
    {
     "name": "stdout",
     "output_type": "stream",
     "text": [
      "You are in Singularity: singularity_proj_encode_fcc \n",
      "BASE DIRECTORY (FD_BASE): /data/reddylab/Kuei \n",
      "WORK DIRECTORY (FD_WORK): /data/reddylab/Kuei/out \n",
      "CODE DIRECTORY (FD_CODE): /data/reddylab/Kuei/code \n",
      "PATH OF PROJECT (FD_PRJ): /data/reddylab/Kuei/code/Proj_CombEffect_ENCODE_FCC \n",
      "PATH OF RESULTS (FD_RES): /data/reddylab/Kuei/out/proj_combeffect_encode_fcc \n",
      "PATH OF LOG     (FD_LOG): /data/reddylab/Kuei/out/proj_combeffect_encode_fcc/log \n"
     ]
    }
   ],
   "source": [
    "suppressWarnings(suppressMessages(source(\"../config/config_sing.R\")))\n",
    "library(UpSetR)\n",
    "show_env()"
   ]
  },
  {
   "cell_type": "markdown",
   "metadata": {},
   "source": [
    "**Check data files**"
   ]
  },
  {
   "cell_type": "code",
   "execution_count": 2,
   "metadata": {},
   "outputs": [
    {
     "name": "stdout",
     "output_type": "stream",
     "text": [
      "annotation_ccre \n",
      "annotation_chromHMM \n",
      "annotation_tss_pol2 \n",
      "description.tsv \n",
      "fcc_table.starrmpra.crispri.atac.concat.bed.gz \n",
      "fcc_table.starrmpra.crispri.atac.e2g_benchmark.concat.bed.gz \n",
      "fcc_table.starrmpra.crispri.atac.e2g_benchmark.e2g_prediction.concat.bed.gz \n",
      "fcc_table.starrmpra.crispri.atac.e2g_benchmark.e2g_prediction.merge.bed.gz \n",
      "fcc_table.starrmpra.crispri.atac.e2g_benchmark.e2g_prediction.merge.tsv \n",
      "fcc_table.starrmpra.crispri.atac.e2g_benchmark.merge.bed.gz \n",
      "fcc_table.starrmpra.crispri.atac.e2g_benchmark.merge.tsv \n",
      "fcc_table.starrmpra.crispri.atac.merge.bed.gz \n",
      "fcc_table.starrmpra.crispri.atac.merge.tsv \n",
      "summary \n"
     ]
    }
   ],
   "source": [
    "fdiry = file.path(FD_RES, \"results\", \"region\", \"annotation_fcc_table\")\n",
    "for (txt in dir(fdiry)){cat(txt, \"\\n\")}"
   ]
  },
  {
   "cell_type": "markdown",
   "metadata": {},
   "source": [
    "## Import data"
   ]
  },
  {
   "cell_type": "code",
   "execution_count": 3,
   "metadata": {},
   "outputs": [
    {
     "name": "stdout",
     "output_type": "stream",
     "text": [
      "[1] 348966      6\n"
     ]
    },
    {
     "data": {
      "text/html": [
       "<table class=\"dataframe\">\n",
       "<caption>A tibble: 6 × 6</caption>\n",
       "<thead>\n",
       "\t<tr><th scope=col>Chrom</th><th scope=col>Start</th><th scope=col>End</th><th scope=col>Region</th><th scope=col>Assay_Type</th><th scope=col>Assay_Label</th></tr>\n",
       "\t<tr><th scope=col>&lt;chr&gt;</th><th scope=col>&lt;dbl&gt;</th><th scope=col>&lt;dbl&gt;</th><th scope=col>&lt;chr&gt;</th><th scope=col>&lt;chr&gt;</th><th scope=col>&lt;chr&gt;</th></tr>\n",
       "</thead>\n",
       "<tbody>\n",
       "\t<tr><td>chr1</td><td>10015</td><td>10442</td><td>chr1:10015-10442</td><td>ATAC</td><td>ATAC</td></tr>\n",
       "\t<tr><td>chr1</td><td>14253</td><td>14645</td><td>chr1:14253-14645</td><td>ATAC</td><td>ATAC</td></tr>\n",
       "\t<tr><td>chr1</td><td>16015</td><td>16477</td><td>chr1:16015-16477</td><td>ATAC</td><td>ATAC</td></tr>\n",
       "\t<tr><td>chr1</td><td>17237</td><td>17772</td><td>chr1:17237-17772</td><td>ATAC</td><td>ATAC</td></tr>\n",
       "\t<tr><td>chr1</td><td>28903</td><td>29613</td><td>chr1:28903-29613</td><td>ATAC</td><td>ATAC</td></tr>\n",
       "\t<tr><td>chr1</td><td>30803</td><td>31072</td><td>chr1:30803-31072</td><td>ATAC</td><td>ATAC</td></tr>\n",
       "</tbody>\n",
       "</table>\n"
      ],
      "text/latex": [
       "A tibble: 6 × 6\n",
       "\\begin{tabular}{llllll}\n",
       " Chrom & Start & End & Region & Assay\\_Type & Assay\\_Label\\\\\n",
       " <chr> & <dbl> & <dbl> & <chr> & <chr> & <chr>\\\\\n",
       "\\hline\n",
       "\t chr1 & 10015 & 10442 & chr1:10015-10442 & ATAC & ATAC\\\\\n",
       "\t chr1 & 14253 & 14645 & chr1:14253-14645 & ATAC & ATAC\\\\\n",
       "\t chr1 & 16015 & 16477 & chr1:16015-16477 & ATAC & ATAC\\\\\n",
       "\t chr1 & 17237 & 17772 & chr1:17237-17772 & ATAC & ATAC\\\\\n",
       "\t chr1 & 28903 & 29613 & chr1:28903-29613 & ATAC & ATAC\\\\\n",
       "\t chr1 & 30803 & 31072 & chr1:30803-31072 & ATAC & ATAC\\\\\n",
       "\\end{tabular}\n"
      ],
      "text/markdown": [
       "\n",
       "A tibble: 6 × 6\n",
       "\n",
       "| Chrom &lt;chr&gt; | Start &lt;dbl&gt; | End &lt;dbl&gt; | Region &lt;chr&gt; | Assay_Type &lt;chr&gt; | Assay_Label &lt;chr&gt; |\n",
       "|---|---|---|---|---|---|\n",
       "| chr1 | 10015 | 10442 | chr1:10015-10442 | ATAC | ATAC |\n",
       "| chr1 | 14253 | 14645 | chr1:14253-14645 | ATAC | ATAC |\n",
       "| chr1 | 16015 | 16477 | chr1:16015-16477 | ATAC | ATAC |\n",
       "| chr1 | 17237 | 17772 | chr1:17237-17772 | ATAC | ATAC |\n",
       "| chr1 | 28903 | 29613 | chr1:28903-29613 | ATAC | ATAC |\n",
       "| chr1 | 30803 | 31072 | chr1:30803-31072 | ATAC | ATAC |\n",
       "\n"
      ],
      "text/plain": [
       "  Chrom Start End   Region           Assay_Type Assay_Label\n",
       "1 chr1  10015 10442 chr1:10015-10442 ATAC       ATAC       \n",
       "2 chr1  14253 14645 chr1:14253-14645 ATAC       ATAC       \n",
       "3 chr1  16015 16477 chr1:16015-16477 ATAC       ATAC       \n",
       "4 chr1  17237 17772 chr1:17237-17772 ATAC       ATAC       \n",
       "5 chr1  28903 29613 chr1:28903-29613 ATAC       ATAC       \n",
       "6 chr1  30803 31072 chr1:30803-31072 ATAC       ATAC       "
      ]
     },
     "metadata": {},
     "output_type": "display_data"
    }
   ],
   "source": [
    "fdiry = file.path(FD_RES, \"results\", \"region\", \"annotation_fcc_table\")\n",
    "fname = \"fcc_table.starrmpra.crispri.atac.e2g_benchmark.merge.bed.gz\"\n",
    "fpath = file.path(fdiry, fname)\n",
    "\n",
    "cnames = c(\"Chrom\", \"Start\", \"End\", \"Assay_Type\", \"Assay_Label\")\n",
    "dat = read_tsv(fpath, col_names=cnames, show_col_types=FALSE)\n",
    "dat = dat %>% \n",
    "    dplyr::mutate(Region = paste0(Chrom, \":\", Start, \"-\", End)) %>%\n",
    "    dplyr::select(Chrom, Start, End, Region, Assay_Type, Assay_Label)\n",
    "\n",
    "dat_region_merge_import = dat\n",
    "print(dim(dat))\n",
    "head(dat)"
   ]
  },
  {
   "cell_type": "markdown",
   "metadata": {},
   "source": [
    "**Check**"
   ]
  },
  {
   "cell_type": "code",
   "execution_count": 4,
   "metadata": {},
   "outputs": [
    {
     "data": {
      "text/plain": [
       "\n",
       "          ASTARR_A ASTARR_A,ASTARR_AB  ASTARR_A,ASTARR_R           ASTARR_R \n",
       "               335                 45                 38                726 "
      ]
     },
     "metadata": {},
     "output_type": "display_data"
    }
   ],
   "source": [
    "dat = dat_region_merge_import\n",
    "txt = \"ASTARR\"\n",
    "dat = dat %>% dplyr::filter(Assay_Type == txt)\n",
    "table(dat$Assay_Label)"
   ]
  },
  {
   "cell_type": "code",
   "execution_count": 5,
   "metadata": {},
   "outputs": [
    {
     "data": {
      "text/plain": [
       "\n",
       "  ATAC \n",
       "183366 "
      ]
     },
     "metadata": {},
     "output_type": "display_data"
    }
   ],
   "source": [
    "dat = dat_region_merge_import\n",
    "txt = \"ATAC\"\n",
    "dat = dat %>% dplyr::filter(Assay_Type == txt)\n",
    "table(dat$Assay_Label)"
   ]
  },
  {
   "cell_type": "markdown",
   "metadata": {},
   "source": [
    "## Arrange and summary"
   ]
  },
  {
   "cell_type": "code",
   "execution_count": 6,
   "metadata": {},
   "outputs": [
    {
     "name": "stdout",
     "output_type": "stream",
     "text": [
      "[1] \"ATAC\"\n",
      "[1] \"ASTARR,ATAC\"\n",
      "[1] \"ATAC,WSTARR\"\n",
      "[1] \"LMPRA\"\n",
      "[1] \"ATAC,CRISPRi-Growth\"\n",
      "[1] \"ASTARR,ATAC,LMPRA,WSTARR\"\n",
      "[1] \"WSTARR\"\n",
      "[1] \"ASTARR,ATAC,CRISPRi-Growth,LMPRA,WSTARR\"\n",
      "[1] \"ATAC,LMPRA\"\n",
      "[1] \"ASTARR,ATAC,LMPRA\"\n",
      "[1] \"ATAC,LMPRA,WSTARR\"\n",
      "[1] \"ASTARR,ATAC,WSTARR\"\n",
      "[1] \"ASTARR\"\n",
      "[1] \"CRISPRi-Growth\"\n",
      "[1] \"ASTARR,WSTARR\"\n",
      "[1] \"ASTARR,ATAC,CRISPRi-Growth\"\n",
      "[1] \"CRISPRi-Growth,WSTARR\"\n",
      "[1] \"ATAC,CRISPRi-Growth,LMPRA,WSTARR\"\n",
      "[1] \"ATAC,CRISPRi-Growth,WSTARR\"\n",
      "[1] \"LMPRA,WSTARR\"\n",
      "[1] \"ATAC,ENCODE-E2G_Benchmark,LMPRA,WSTARR\"\n",
      "[1] \"ATAC,CRISPRi-Growth,LMPRA\"\n",
      "[1] \"ASTARR,ATAC,CRISPRi-Growth,WSTARR\"\n",
      "[1] \"ATAC,ENCODE-E2G_Benchmark,LMPRA\"\n",
      "[1] \"ASTARR,ATAC,CRISPRi-Growth,LMPRA\"\n",
      "[1] \"ASTARR,LMPRA,WSTARR\"\n",
      "[1] \"ASTARR,ENCODE-E2G_Benchmark,WSTARR\"\n",
      "[1] \"ASTARR,ATAC,ENCODE-E2G_Benchmark,LMPRA,WSTARR\"\n",
      "[1] \"ASTARR,ATAC,ENCODE-E2G_Benchmark,LMPRA\"\n",
      "[1] \"ASTARR,CRISPRi-Growth\"\n",
      "[1] \"ASTARR,LMPRA\"\n",
      "[1] \"CRISPRi-Growth,LMPRA\"\n",
      "[1] \"ENCODE-E2G_Benchmark,WSTARR\"\n",
      "[1] \"ATAC,ENCODE-E2G_Benchmark\"\n",
      "[1] \"ASTARR,ATAC,ENCODE-E2G_Benchmark,WSTARR\"\n",
      "[1] \"ENCODE-E2G_Benchmark,LMPRA\"\n",
      "[1] \"ATAC,ENCODE-E2G_Benchmark,WSTARR\"\n",
      "[1] \"ASTARR,ATAC,CRISPRi-Growth,ENCODE-E2G_Benchmark,LMPRA\"\n",
      "[1] \"ASTARR,ATAC,CRISPRi-Growth,ENCODE-E2G_Benchmark,LMPRA,WSTARR\"\n",
      "[1] \"ASTARR,ATAC,ENCODE-E2G_Benchmark\"\n",
      "[1] \"TMPRA\"\n",
      "[1] \"LMPRA,TMPRA,WSTARR\"\n",
      "[1] \"LMPRA,TMPRA\"\n",
      "[1] \"TMPRA,WSTARR\"\n",
      "[1] \"ATAC,TMPRA\"\n",
      "[1] \"ATAC,LMPRA,TMPRA\"\n",
      "[1] \"ATAC,TMPRA,WSTARR\"\n",
      "[1] \"ASTARR,ATAC,TMPRA\"\n",
      "[1] \"ASTARR,ATAC,LMPRA,TMPRA\"\n",
      "[1] \"ASTARR,ATAC,TMPRA,WSTARR\"\n",
      "[1] \"ATAC,LMPRA,TMPRA,WSTARR\"\n",
      "[1] \"ASTARR,ATAC,CRISPRi-Growth,TMPRA\"\n",
      "[1] \"CRISPRi-HCRFF\"\n",
      "[1] \"ATAC,CRISPRi-HCRFF,LMPRA,TMPRA,WSTARR\"\n",
      "[1] \"ATAC,CRISPRi-HCRFF\"\n",
      "[1] \"ASTARR,ATAC,CRISPRi-HCRFF,WSTARR\"\n",
      "[1] \"ENCODE-E2G_Benchmark,TMPRA\"\n",
      "[1] \"ASTARR,ATAC,CRISPRi-HCRFF,ENCODE-E2G_Benchmark,LMPRA,TMPRA\"\n",
      "[1] \"ENCODE-E2G_Benchmark\"\n",
      "[1] \"ASTARR,ATAC,CRISPRi-HCRFF,ENCODE-E2G_Benchmark,LMPRA,TMPRA,WSTARR\"\n",
      "[1] \"ATAC,CRISPRi-HCRFF,ENCODE-E2G_Benchmark,LMPRA,TMPRA\"\n",
      "[1] \"ATAC,CRISPRi-HCRFF,TMPRA,WSTARR\"\n",
      "[1] \"ASTARR,TMPRA,WSTARR\"\n",
      "[1] \"ASTARR,ATAC,LMPRA,TMPRA,WSTARR\"\n",
      "[1] \"ASTARR,ATAC,CRISPRi-Growth,CRISPRi-HCRFF,TMPRA,WSTARR\"\n",
      "[1] \"ATAC,CRISPRi-Growth,CRISPRi-HCRFF\"\n",
      "[1] \"ASTARR,ATAC,CRISPRi-Growth,LMPRA,TMPRA\"\n",
      "[1] \"ENCODE-E2G_Benchmark,LMPRA,TMPRA\"\n",
      "[1] \"ATAC,CRISPRi-Growth,CRISPRi-HCRFF,ENCODE-E2G_Benchmark,TMPRA,WSTARR\"\n",
      "[1] \"ATAC,CRISPRi-Growth,CRISPRi-HCRFF,ENCODE-E2G_Benchmark,LMPRA,TMPRA,WSTARR\"\n",
      "[1] \"ATAC,CRISPRi-Growth,TMPRA\"\n",
      "[1] \"ASTARR,ATAC,CRISPRi-HCRFF,LMPRA,TMPRA,WSTARR\"\n",
      "[1] \"ATAC,CRISPRi-HCRFF,TMPRA\"\n",
      "[1] \"ATAC,CRISPRi-Growth,LMPRA,TMPRA,WSTARR\"\n",
      "[1] \"ATAC,CRISPRi-Growth,TMPRA,WSTARR\"\n",
      "[1] \"CRISPRi-HCRFF,TMPRA\"\n",
      "[1] \"ASTARR,ATAC,CRISPRi-Growth,CRISPRi-HCRFF,ENCODE-E2G_Benchmark,TMPRA,WSTARR\"\n",
      "[1] \"ATAC,CRISPRi-Growth,LMPRA,TMPRA\"\n",
      "[1] \"ASTARR,ATAC,CRISPRi-HCRFF,TMPRA,WSTARR\"\n",
      "[1] \"ATAC,CRISPRi-Growth,ENCODE-E2G_Benchmark,LMPRA,WSTARR\"\n",
      "[1] \"ASTARR,CRISPRi-Growth,WSTARR\"\n",
      "[1] \"ATAC,CRISPRi-HCRFF,LMPRA,WSTARR\"\n",
      "[1] \"ATAC,CRISPRi-HCRFF,LMPRA\"\n",
      "[1] \"ASTARR,ATAC,CRISPRi-Growth,LMPRA,TMPRA,WSTARR\"\n",
      "[1] \"ATAC,ENCODE-E2G_Benchmark,TMPRA\"\n",
      "[1] \"CRISPRi-Growth,TMPRA\"\n",
      "[1] \"ASTARR,TMPRA\"\n",
      "[1] \"ASTARR,LMPRA,TMPRA\"\n",
      "[1] \"CRISPRi-Growth,LMPRA,TMPRA,WSTARR\"\n",
      "[1] \"ASTARR,ATAC,CRISPRi-Growth,TMPRA,WSTARR\"\n",
      "[1] \"ATAC,CRISPRi-Growth,ENCODE-E2G_Benchmark\"\n",
      "[1] \"CRISPRi-Growth,LMPRA,WSTARR\"\n",
      "[1] \"ASTARR,ATAC,CRISPRi-Growth,ENCODE-E2G_Benchmark,WSTARR\"\n",
      "[1] \"ATAC,CRISPRi-Growth,ENCODE-E2G_Benchmark,LMPRA\"\n",
      "[1] \"ASTARR,ATAC,CRISPRi-Growth,CRISPRi-HCRFF\"\n",
      "[1] \"ASTARR,ATAC,CRISPRi-HCRFF,LMPRA\"\n",
      "[1] \"ASTARR,ATAC,CRISPRi-HCRFF\"\n",
      "[1] \"ASTARR,ATAC,CRISPRi-Growth,CRISPRi-HCRFF,LMPRA,WSTARR\"\n",
      "[1] \"ATAC,CRISPRi-HCRFF,ENCODE-E2G_Benchmark,LMPRA\"\n",
      "[1] \"ATAC,CRISPRi-Growth,CRISPRi-HCRFF,WSTARR\"\n",
      "[1] \"ATAC,CRISPRi-Growth,CRISPRi-HCRFF,LMPRA\"\n",
      "[1] \"ASTARR,ATAC,CRISPRi-Growth,CRISPRi-HCRFF,LMPRA\"\n",
      "[1] \"ASTARR,CRISPRi-Growth,LMPRA\"\n",
      "[1] \"ASTARR,ATAC,CRISPRi-Growth,CRISPRi-HCRFF,LMPRA,TMPRA,WSTARR\"\n",
      "[1] \"ASTARR,ATAC,CRISPRi-HCRFF,TMPRA\"\n",
      "[1] \"ASTARR,ATAC,CRISPRi-Growth,CRISPRi-HCRFF,ENCODE-E2G_Benchmark,LMPRA,TMPRA,WSTARR\"\n",
      "[1] \"ASTARR,ATAC,CRISPRi-Growth,ENCODE-E2G_Benchmark\"\n",
      "[1] \"ATAC,ENCODE-E2G_Benchmark,LMPRA,TMPRA\"\n",
      "[1] \"CRISPRi-Growth,LMPRA,TMPRA\"\n",
      "[1] \"ASTARR,ATAC,CRISPRi-Growth,ENCODE-E2G_Benchmark,LMPRA,TMPRA,WSTARR\"\n",
      "[1] \"ASTARR,ATAC,ENCODE-E2G_Benchmark,LMPRA,TMPRA,WSTARR\"\n",
      "[1] \"ATAC,ENCODE-E2G_Benchmark,TMPRA,WSTARR\"\n",
      "[1] \"ASTARR,ATAC,ENCODE-E2G_Benchmark,TMPRA\"\n",
      "[1] \"ATAC,ENCODE-E2G_Benchmark,LMPRA,TMPRA,WSTARR\"\n"
     ]
    }
   ],
   "source": [
    "dat = dat_region_merge_import\n",
    "for (x in unique(dat$Assay_Type))\n",
    "    print(x)"
   ]
  },
  {
   "cell_type": "markdown",
   "metadata": {},
   "source": [
    "**Remove only ATAC**"
   ]
  },
  {
   "cell_type": "code",
   "execution_count": 7,
   "metadata": {},
   "outputs": [
    {
     "name": "stdout",
     "output_type": "stream",
     "text": [
      "[1] 263825      6\n"
     ]
    },
    {
     "data": {
      "text/html": [
       "<table class=\"dataframe\">\n",
       "<caption>A tibble: 6 × 6</caption>\n",
       "<thead>\n",
       "\t<tr><th scope=col>Chrom</th><th scope=col>Start</th><th scope=col>End</th><th scope=col>Region</th><th scope=col>Assay_Type</th><th scope=col>Assay_Label</th></tr>\n",
       "\t<tr><th scope=col>&lt;chr&gt;</th><th scope=col>&lt;dbl&gt;</th><th scope=col>&lt;dbl&gt;</th><th scope=col>&lt;chr&gt;</th><th scope=col>&lt;chr&gt;</th><th scope=col>&lt;chr&gt;</th></tr>\n",
       "</thead>\n",
       "<tbody>\n",
       "\t<tr><td>chr1</td><td>136071</td><td>137429</td><td>chr1:136071-137429</td><td>ASTARR</td><td>ASTARR_R,ATAC</td></tr>\n",
       "\t<tr><td>chr1</td><td>136071</td><td>137429</td><td>chr1:136071-137429</td><td>ATAC  </td><td>ASTARR_R,ATAC</td></tr>\n",
       "\t<tr><td>chr1</td><td>180982</td><td>182087</td><td>chr1:180982-182087</td><td>ASTARR</td><td>ASTARR_R,ATAC</td></tr>\n",
       "\t<tr><td>chr1</td><td>180982</td><td>182087</td><td>chr1:180982-182087</td><td>ATAC  </td><td>ASTARR_R,ATAC</td></tr>\n",
       "\t<tr><td>chr1</td><td>183239</td><td>184602</td><td>chr1:183239-184602</td><td>ATAC  </td><td>ATAC,WSTARR_A</td></tr>\n",
       "\t<tr><td>chr1</td><td>183239</td><td>184602</td><td>chr1:183239-184602</td><td>WSTARR</td><td>ATAC,WSTARR_A</td></tr>\n",
       "</tbody>\n",
       "</table>\n"
      ],
      "text/latex": [
       "A tibble: 6 × 6\n",
       "\\begin{tabular}{llllll}\n",
       " Chrom & Start & End & Region & Assay\\_Type & Assay\\_Label\\\\\n",
       " <chr> & <dbl> & <dbl> & <chr> & <chr> & <chr>\\\\\n",
       "\\hline\n",
       "\t chr1 & 136071 & 137429 & chr1:136071-137429 & ASTARR & ASTARR\\_R,ATAC\\\\\n",
       "\t chr1 & 136071 & 137429 & chr1:136071-137429 & ATAC   & ASTARR\\_R,ATAC\\\\\n",
       "\t chr1 & 180982 & 182087 & chr1:180982-182087 & ASTARR & ASTARR\\_R,ATAC\\\\\n",
       "\t chr1 & 180982 & 182087 & chr1:180982-182087 & ATAC   & ASTARR\\_R,ATAC\\\\\n",
       "\t chr1 & 183239 & 184602 & chr1:183239-184602 & ATAC   & ATAC,WSTARR\\_A\\\\\n",
       "\t chr1 & 183239 & 184602 & chr1:183239-184602 & WSTARR & ATAC,WSTARR\\_A\\\\\n",
       "\\end{tabular}\n"
      ],
      "text/markdown": [
       "\n",
       "A tibble: 6 × 6\n",
       "\n",
       "| Chrom &lt;chr&gt; | Start &lt;dbl&gt; | End &lt;dbl&gt; | Region &lt;chr&gt; | Assay_Type &lt;chr&gt; | Assay_Label &lt;chr&gt; |\n",
       "|---|---|---|---|---|---|\n",
       "| chr1 | 136071 | 137429 | chr1:136071-137429 | ASTARR | ASTARR_R,ATAC |\n",
       "| chr1 | 136071 | 137429 | chr1:136071-137429 | ATAC   | ASTARR_R,ATAC |\n",
       "| chr1 | 180982 | 182087 | chr1:180982-182087 | ASTARR | ASTARR_R,ATAC |\n",
       "| chr1 | 180982 | 182087 | chr1:180982-182087 | ATAC   | ASTARR_R,ATAC |\n",
       "| chr1 | 183239 | 184602 | chr1:183239-184602 | ATAC   | ATAC,WSTARR_A |\n",
       "| chr1 | 183239 | 184602 | chr1:183239-184602 | WSTARR | ATAC,WSTARR_A |\n",
       "\n"
      ],
      "text/plain": [
       "  Chrom Start  End    Region             Assay_Type Assay_Label  \n",
       "1 chr1  136071 137429 chr1:136071-137429 ASTARR     ASTARR_R,ATAC\n",
       "2 chr1  136071 137429 chr1:136071-137429 ATAC       ASTARR_R,ATAC\n",
       "3 chr1  180982 182087 chr1:180982-182087 ASTARR     ASTARR_R,ATAC\n",
       "4 chr1  180982 182087 chr1:180982-182087 ATAC       ASTARR_R,ATAC\n",
       "5 chr1  183239 184602 chr1:183239-184602 ATAC       ATAC,WSTARR_A\n",
       "6 chr1  183239 184602 chr1:183239-184602 WSTARR     ATAC,WSTARR_A"
      ]
     },
     "metadata": {},
     "output_type": "display_data"
    }
   ],
   "source": [
    "dat = dat_region_merge_import\n",
    "dat = dat %>% dplyr::filter(Assay_Label != \"ATAC\")\n",
    "dat = dat %>% tidyr::separate_longer_delim(Assay_Type, \",\")\n",
    "\n",
    "dat_region_merge_arrange = dat\n",
    "print(dim(dat))\n",
    "head(dat)"
   ]
  },
  {
   "cell_type": "markdown",
   "metadata": {},
   "source": [
    "**Check results**"
   ]
  },
  {
   "cell_type": "code",
   "execution_count": 8,
   "metadata": {},
   "outputs": [
    {
     "data": {
      "text/plain": [
       "\n",
       "chr11 chr16  chr2 chr20  chr8  chrX \n",
       " 1522   618   684   821   991  1050 "
      ]
     },
     "metadata": {},
     "output_type": "display_data"
    }
   ],
   "source": [
    "vec = paste0(\"chr\", c(1:22, \"X\"))\n",
    "dat = dat_region_merge_arrange\n",
    "dat = dat %>% dplyr::filter(Chrom %in% vec, Assay_Type == \"TMPRA\")\n",
    "table(dat$Chrom)"
   ]
  },
  {
   "cell_type": "markdown",
   "metadata": {},
   "source": [
    "## Upset plot by Assay Type"
   ]
  },
  {
   "cell_type": "code",
   "execution_count": 9,
   "metadata": {},
   "outputs": [
    {
     "name": "stdout",
     "output_type": "stream",
     "text": [
      "$ASTARR\n",
      "[1] 19647\n",
      "\n",
      "$ATAC\n",
      "[1] 64076\n",
      "\n",
      "$`CRISPRi-Growth`\n",
      "[1] 6171\n",
      "\n",
      "$`CRISPRi-HCRFF`\n",
      "[1] 74\n",
      "\n",
      "$`ENCODE-E2G_Benchmark`\n",
      "[1] 384\n",
      "\n",
      "$LMPRA\n",
      "[1] 38993\n",
      "\n",
      "$TMPRA\n",
      "[1] 5686\n",
      "\n",
      "$WSTARR\n",
      "[1] 128794\n",
      "\n"
     ]
    }
   ],
   "source": [
    "dat = dat_region_merge_arrange\n",
    "lst = split(dat$Region, dat$Assay_Type)\n",
    "\n",
    "lst_region = lst\n",
    "lst = lapply(lst, length)\n",
    "print(lst)"
   ]
  },
  {
   "cell_type": "code",
   "execution_count": 10,
   "metadata": {},
   "outputs": [
    {
     "name": "stdout",
     "output_type": "stream",
     "text": [
      "[1] 263825\n",
      "[1] 65892\n",
      "[1] 164117\n"
     ]
    },
    {
     "data": {
      "text/html": [
       "<table class=\"dataframe\">\n",
       "<caption>A tibble: 6 × 6</caption>\n",
       "<thead>\n",
       "\t<tr><th scope=col>Chrom</th><th scope=col>Start</th><th scope=col>End</th><th scope=col>Region</th><th scope=col>Assay_Type</th><th scope=col>Assay_Label</th></tr>\n",
       "\t<tr><th scope=col>&lt;chr&gt;</th><th scope=col>&lt;dbl&gt;</th><th scope=col>&lt;dbl&gt;</th><th scope=col>&lt;chr&gt;</th><th scope=col>&lt;chr&gt;</th><th scope=col>&lt;chr&gt;</th></tr>\n",
       "</thead>\n",
       "<tbody>\n",
       "\t<tr><td>chr1</td><td>136071</td><td>137429</td><td>chr1:136071-137429</td><td>ASTARR</td><td>ASTARR_R,ATAC</td></tr>\n",
       "\t<tr><td>chr1</td><td>136071</td><td>137429</td><td>chr1:136071-137429</td><td>ATAC  </td><td>ASTARR_R,ATAC</td></tr>\n",
       "\t<tr><td>chr1</td><td>180982</td><td>182087</td><td>chr1:180982-182087</td><td>ASTARR</td><td>ASTARR_R,ATAC</td></tr>\n",
       "\t<tr><td>chr1</td><td>180982</td><td>182087</td><td>chr1:180982-182087</td><td>ATAC  </td><td>ASTARR_R,ATAC</td></tr>\n",
       "\t<tr><td>chr1</td><td>183239</td><td>184602</td><td>chr1:183239-184602</td><td>ATAC  </td><td>ATAC,WSTARR_A</td></tr>\n",
       "\t<tr><td>chr1</td><td>183239</td><td>184602</td><td>chr1:183239-184602</td><td>WSTARR</td><td>ATAC,WSTARR_A</td></tr>\n",
       "</tbody>\n",
       "</table>\n"
      ],
      "text/latex": [
       "A tibble: 6 × 6\n",
       "\\begin{tabular}{llllll}\n",
       " Chrom & Start & End & Region & Assay\\_Type & Assay\\_Label\\\\\n",
       " <chr> & <dbl> & <dbl> & <chr> & <chr> & <chr>\\\\\n",
       "\\hline\n",
       "\t chr1 & 136071 & 137429 & chr1:136071-137429 & ASTARR & ASTARR\\_R,ATAC\\\\\n",
       "\t chr1 & 136071 & 137429 & chr1:136071-137429 & ATAC   & ASTARR\\_R,ATAC\\\\\n",
       "\t chr1 & 180982 & 182087 & chr1:180982-182087 & ASTARR & ASTARR\\_R,ATAC\\\\\n",
       "\t chr1 & 180982 & 182087 & chr1:180982-182087 & ATAC   & ASTARR\\_R,ATAC\\\\\n",
       "\t chr1 & 183239 & 184602 & chr1:183239-184602 & ATAC   & ATAC,WSTARR\\_A\\\\\n",
       "\t chr1 & 183239 & 184602 & chr1:183239-184602 & WSTARR & ATAC,WSTARR\\_A\\\\\n",
       "\\end{tabular}\n"
      ],
      "text/markdown": [
       "\n",
       "A tibble: 6 × 6\n",
       "\n",
       "| Chrom &lt;chr&gt; | Start &lt;dbl&gt; | End &lt;dbl&gt; | Region &lt;chr&gt; | Assay_Type &lt;chr&gt; | Assay_Label &lt;chr&gt; |\n",
       "|---|---|---|---|---|---|\n",
       "| chr1 | 136071 | 137429 | chr1:136071-137429 | ASTARR | ASTARR_R,ATAC |\n",
       "| chr1 | 136071 | 137429 | chr1:136071-137429 | ATAC   | ASTARR_R,ATAC |\n",
       "| chr1 | 180982 | 182087 | chr1:180982-182087 | ASTARR | ASTARR_R,ATAC |\n",
       "| chr1 | 180982 | 182087 | chr1:180982-182087 | ATAC   | ASTARR_R,ATAC |\n",
       "| chr1 | 183239 | 184602 | chr1:183239-184602 | ATAC   | ATAC,WSTARR_A |\n",
       "| chr1 | 183239 | 184602 | chr1:183239-184602 | WSTARR | ATAC,WSTARR_A |\n",
       "\n"
      ],
      "text/plain": [
       "  Chrom Start  End    Region             Assay_Type Assay_Label  \n",
       "1 chr1  136071 137429 chr1:136071-137429 ASTARR     ASTARR_R,ATAC\n",
       "2 chr1  136071 137429 chr1:136071-137429 ATAC       ASTARR_R,ATAC\n",
       "3 chr1  180982 182087 chr1:180982-182087 ASTARR     ASTARR_R,ATAC\n",
       "4 chr1  180982 182087 chr1:180982-182087 ATAC       ASTARR_R,ATAC\n",
       "5 chr1  183239 184602 chr1:183239-184602 ATAC       ATAC,WSTARR_A\n",
       "6 chr1  183239 184602 chr1:183239-184602 WSTARR     ATAC,WSTARR_A"
      ]
     },
     "metadata": {},
     "output_type": "display_data"
    }
   ],
   "source": [
    "dat = dat_region_merge_arrange\n",
    "dat = dat %>% \n",
    "    dplyr::group_by(Region) %>% \n",
    "    dplyr::summarise(Count = n()) %>%\n",
    "    dplyr::filter(Count >= 2)\n",
    "vec = dat$Region\n",
    "\n",
    "dat = dat_region_merge_arrange\n",
    "dat = dat %>% dplyr::filter(Region %in% vec)\n",
    "\n",
    "dat_region_merge_arrange_filter = dat\n",
    "\n",
    "print(nrow(dat_region_merge_arrange))\n",
    "print(length(vec))\n",
    "print(nrow(dat_region_merge_arrange_filter))\n",
    "head(dat)"
   ]
  },
  {
   "cell_type": "code",
   "execution_count": 11,
   "metadata": {},
   "outputs": [],
   "source": [
    "dat = dat_region_merge_arrange_filter\n",
    "lst = split(dat$Region, dat$Assay_Type)\n",
    "\n",
    "lst_region = lst"
   ]
  },
  {
   "cell_type": "code",
   "execution_count": 12,
   "metadata": {},
   "outputs": [
    {
     "data": {
      "image/png": "[encoded data removed]",
      "text/plain": [
       "plot without title"
      ]
     },
     "metadata": {
      "image/png": {
       "height": 600,
       "width": 1800
      }
     },
     "output_type": "display_data"
    }
   ],
   "source": [
    "lst = lst_region\n",
    "\n",
    "options(repr.plot.height=10, repr.plot.width=30)\n",
    "upset(fromList(lst), \n",
    "      order.by = \"freq\", \n",
    "      nsets = 8,\n",
    "      nintersects = NA,\n",
    "      number.angles = 0,\n",
    "      point.size = 3, \n",
    "      line.size  = 2,\n",
    "      mb.ratio = c(0.6, 0.4),\n",
    "      mainbar.y.label = \"Regulatory regions identified\", \n",
    "      sets.x.label    = \"Assay Type\", \n",
    "      text.scale = c(\n",
    "          3, # upper barplot y axis title\n",
    "          2, # upper barplot y axis text\n",
    "          3, # left  barplot y axis title\n",
    "          2, # left  barplot y axis text\n",
    "          3, # set title\n",
    "          2  # upper barplot count number\n",
    "      )\n",
    ")"
   ]
  },
  {
   "cell_type": "markdown",
   "metadata": {},
   "source": [
    "## Upset plot by grouping STARR/MRPA"
   ]
  },
  {
   "cell_type": "code",
   "execution_count": 13,
   "metadata": {},
   "outputs": [
    {
     "data": {
      "text/html": [
       "<table class=\"dataframe\">\n",
       "<caption>A tibble: 6 × 6</caption>\n",
       "<thead>\n",
       "\t<tr><th scope=col>Chrom</th><th scope=col>Start</th><th scope=col>End</th><th scope=col>Region</th><th scope=col>Assay_Type</th><th scope=col>Assay_Label</th></tr>\n",
       "\t<tr><th scope=col>&lt;chr&gt;</th><th scope=col>&lt;dbl&gt;</th><th scope=col>&lt;dbl&gt;</th><th scope=col>&lt;chr&gt;</th><th scope=col>&lt;chr&gt;</th><th scope=col>&lt;chr&gt;</th></tr>\n",
       "</thead>\n",
       "<tbody>\n",
       "\t<tr><td>chr1</td><td>136071</td><td>137429</td><td>chr1:136071-137429</td><td>ASTARR</td><td>ASTARR_R,ATAC</td></tr>\n",
       "\t<tr><td>chr1</td><td>136071</td><td>137429</td><td>chr1:136071-137429</td><td>ATAC  </td><td>ASTARR_R,ATAC</td></tr>\n",
       "\t<tr><td>chr1</td><td>180982</td><td>182087</td><td>chr1:180982-182087</td><td>ASTARR</td><td>ASTARR_R,ATAC</td></tr>\n",
       "\t<tr><td>chr1</td><td>180982</td><td>182087</td><td>chr1:180982-182087</td><td>ATAC  </td><td>ASTARR_R,ATAC</td></tr>\n",
       "\t<tr><td>chr1</td><td>183239</td><td>184602</td><td>chr1:183239-184602</td><td>ATAC  </td><td>ATAC,WSTARR_A</td></tr>\n",
       "\t<tr><td>chr1</td><td>183239</td><td>184602</td><td>chr1:183239-184602</td><td>WSTARR</td><td>ATAC,WSTARR_A</td></tr>\n",
       "</tbody>\n",
       "</table>\n"
      ],
      "text/latex": [
       "A tibble: 6 × 6\n",
       "\\begin{tabular}{llllll}\n",
       " Chrom & Start & End & Region & Assay\\_Type & Assay\\_Label\\\\\n",
       " <chr> & <dbl> & <dbl> & <chr> & <chr> & <chr>\\\\\n",
       "\\hline\n",
       "\t chr1 & 136071 & 137429 & chr1:136071-137429 & ASTARR & ASTARR\\_R,ATAC\\\\\n",
       "\t chr1 & 136071 & 137429 & chr1:136071-137429 & ATAC   & ASTARR\\_R,ATAC\\\\\n",
       "\t chr1 & 180982 & 182087 & chr1:180982-182087 & ASTARR & ASTARR\\_R,ATAC\\\\\n",
       "\t chr1 & 180982 & 182087 & chr1:180982-182087 & ATAC   & ASTARR\\_R,ATAC\\\\\n",
       "\t chr1 & 183239 & 184602 & chr1:183239-184602 & ATAC   & ATAC,WSTARR\\_A\\\\\n",
       "\t chr1 & 183239 & 184602 & chr1:183239-184602 & WSTARR & ATAC,WSTARR\\_A\\\\\n",
       "\\end{tabular}\n"
      ],
      "text/markdown": [
       "\n",
       "A tibble: 6 × 6\n",
       "\n",
       "| Chrom &lt;chr&gt; | Start &lt;dbl&gt; | End &lt;dbl&gt; | Region &lt;chr&gt; | Assay_Type &lt;chr&gt; | Assay_Label &lt;chr&gt; |\n",
       "|---|---|---|---|---|---|\n",
       "| chr1 | 136071 | 137429 | chr1:136071-137429 | ASTARR | ASTARR_R,ATAC |\n",
       "| chr1 | 136071 | 137429 | chr1:136071-137429 | ATAC   | ASTARR_R,ATAC |\n",
       "| chr1 | 180982 | 182087 | chr1:180982-182087 | ASTARR | ASTARR_R,ATAC |\n",
       "| chr1 | 180982 | 182087 | chr1:180982-182087 | ATAC   | ASTARR_R,ATAC |\n",
       "| chr1 | 183239 | 184602 | chr1:183239-184602 | ATAC   | ATAC,WSTARR_A |\n",
       "| chr1 | 183239 | 184602 | chr1:183239-184602 | WSTARR | ATAC,WSTARR_A |\n",
       "\n"
      ],
      "text/plain": [
       "  Chrom Start  End    Region             Assay_Type Assay_Label  \n",
       "1 chr1  136071 137429 chr1:136071-137429 ASTARR     ASTARR_R,ATAC\n",
       "2 chr1  136071 137429 chr1:136071-137429 ATAC       ASTARR_R,ATAC\n",
       "3 chr1  180982 182087 chr1:180982-182087 ASTARR     ASTARR_R,ATAC\n",
       "4 chr1  180982 182087 chr1:180982-182087 ATAC       ASTARR_R,ATAC\n",
       "5 chr1  183239 184602 chr1:183239-184602 ATAC       ATAC,WSTARR_A\n",
       "6 chr1  183239 184602 chr1:183239-184602 WSTARR     ATAC,WSTARR_A"
      ]
     },
     "metadata": {},
     "output_type": "display_data"
    }
   ],
   "source": [
    "dat = dat_region_merge_arrange\n",
    "dat = dat %>% dplyr::mutate(\n",
    "    Assay_Type = dplyr::recode(\n",
    "        Assay_Type,\n",
    "        \"ENCODE-E2G_Benchmark\" = \"CRISPR EP Link\"\n",
    "    ))\n",
    "\n",
    "dat_region_merge_arrange_rename = dat\n",
    "head(dat)"
   ]
  },
  {
   "cell_type": "code",
   "execution_count": 14,
   "metadata": {},
   "outputs": [
    {
     "name": "stdout",
     "output_type": "stream",
     "text": [
      "\n",
      "          ATAC CRISPR EP Link CRISPRi-Growth  CRISPRi-HCRFF           MPRA \n",
      "         64076            384           6171             74          44039 \n",
      "         STARR \n",
      "        137332 \n",
      "[1] 252076      6\n"
     ]
    },
    {
     "data": {
      "text/html": [
       "<table class=\"dataframe\">\n",
       "<caption>A tibble: 6 × 6</caption>\n",
       "<thead>\n",
       "\t<tr><th scope=col>Chrom</th><th scope=col>Start</th><th scope=col>End</th><th scope=col>Region</th><th scope=col>Assay_Type</th><th scope=col>Assay_Label</th></tr>\n",
       "\t<tr><th scope=col>&lt;chr&gt;</th><th scope=col>&lt;dbl&gt;</th><th scope=col>&lt;dbl&gt;</th><th scope=col>&lt;chr&gt;</th><th scope=col>&lt;chr&gt;</th><th scope=col>&lt;chr&gt;</th></tr>\n",
       "</thead>\n",
       "<tbody>\n",
       "\t<tr><td>chr1</td><td>136071</td><td>137429</td><td>chr1:136071-137429</td><td>STARR</td><td>ASTARR_R,ATAC</td></tr>\n",
       "\t<tr><td>chr1</td><td>136071</td><td>137429</td><td>chr1:136071-137429</td><td>ATAC </td><td>ASTARR_R,ATAC</td></tr>\n",
       "\t<tr><td>chr1</td><td>180982</td><td>182087</td><td>chr1:180982-182087</td><td>STARR</td><td>ASTARR_R,ATAC</td></tr>\n",
       "\t<tr><td>chr1</td><td>180982</td><td>182087</td><td>chr1:180982-182087</td><td>ATAC </td><td>ASTARR_R,ATAC</td></tr>\n",
       "\t<tr><td>chr1</td><td>183239</td><td>184602</td><td>chr1:183239-184602</td><td>ATAC </td><td>ATAC,WSTARR_A</td></tr>\n",
       "\t<tr><td>chr1</td><td>183239</td><td>184602</td><td>chr1:183239-184602</td><td>STARR</td><td>ATAC,WSTARR_A</td></tr>\n",
       "</tbody>\n",
       "</table>\n"
      ],
      "text/latex": [
       "A tibble: 6 × 6\n",
       "\\begin{tabular}{llllll}\n",
       " Chrom & Start & End & Region & Assay\\_Type & Assay\\_Label\\\\\n",
       " <chr> & <dbl> & <dbl> & <chr> & <chr> & <chr>\\\\\n",
       "\\hline\n",
       "\t chr1 & 136071 & 137429 & chr1:136071-137429 & STARR & ASTARR\\_R,ATAC\\\\\n",
       "\t chr1 & 136071 & 137429 & chr1:136071-137429 & ATAC  & ASTARR\\_R,ATAC\\\\\n",
       "\t chr1 & 180982 & 182087 & chr1:180982-182087 & STARR & ASTARR\\_R,ATAC\\\\\n",
       "\t chr1 & 180982 & 182087 & chr1:180982-182087 & ATAC  & ASTARR\\_R,ATAC\\\\\n",
       "\t chr1 & 183239 & 184602 & chr1:183239-184602 & ATAC  & ATAC,WSTARR\\_A\\\\\n",
       "\t chr1 & 183239 & 184602 & chr1:183239-184602 & STARR & ATAC,WSTARR\\_A\\\\\n",
       "\\end{tabular}\n"
      ],
      "text/markdown": [
       "\n",
       "A tibble: 6 × 6\n",
       "\n",
       "| Chrom &lt;chr&gt; | Start &lt;dbl&gt; | End &lt;dbl&gt; | Region &lt;chr&gt; | Assay_Type &lt;chr&gt; | Assay_Label &lt;chr&gt; |\n",
       "|---|---|---|---|---|---|\n",
       "| chr1 | 136071 | 137429 | chr1:136071-137429 | STARR | ASTARR_R,ATAC |\n",
       "| chr1 | 136071 | 137429 | chr1:136071-137429 | ATAC  | ASTARR_R,ATAC |\n",
       "| chr1 | 180982 | 182087 | chr1:180982-182087 | STARR | ASTARR_R,ATAC |\n",
       "| chr1 | 180982 | 182087 | chr1:180982-182087 | ATAC  | ASTARR_R,ATAC |\n",
       "| chr1 | 183239 | 184602 | chr1:183239-184602 | ATAC  | ATAC,WSTARR_A |\n",
       "| chr1 | 183239 | 184602 | chr1:183239-184602 | STARR | ATAC,WSTARR_A |\n",
       "\n"
      ],
      "text/plain": [
       "  Chrom Start  End    Region             Assay_Type Assay_Label  \n",
       "1 chr1  136071 137429 chr1:136071-137429 STARR      ASTARR_R,ATAC\n",
       "2 chr1  136071 137429 chr1:136071-137429 ATAC       ASTARR_R,ATAC\n",
       "3 chr1  180982 182087 chr1:180982-182087 STARR      ASTARR_R,ATAC\n",
       "4 chr1  180982 182087 chr1:180982-182087 ATAC       ASTARR_R,ATAC\n",
       "5 chr1  183239 184602 chr1:183239-184602 ATAC       ATAC,WSTARR_A\n",
       "6 chr1  183239 184602 chr1:183239-184602 STARR      ATAC,WSTARR_A"
      ]
     },
     "metadata": {},
     "output_type": "display_data"
    }
   ],
   "source": [
    "dat = dat_region_merge_arrange_rename\n",
    "dat = dat %>% \n",
    "    dplyr::mutate(\n",
    "        Assay_Type = ifelse(\n",
    "            str_detect(Assay_Type, \"STARR\"),\n",
    "            \"STARR\",\n",
    "            Assay_Type\n",
    "        )\n",
    "    ) %>%\n",
    "    dplyr::mutate(\n",
    "        Assay_Type = ifelse(\n",
    "            str_detect(Assay_Type, \"MPRA\"),\n",
    "            \"MPRA\",\n",
    "            Assay_Type\n",
    "        )\n",
    "    )\n",
    "dat = dat %>% dplyr::distinct()\n",
    "res = table(dat$Assay_Type)\n",
    "\n",
    "###\n",
    "dat_region_merge_summary = dat\n",
    "print(res)\n",
    "print(dim(dat))\n",
    "head(dat)"
   ]
  },
  {
   "cell_type": "code",
   "execution_count": 15,
   "metadata": {},
   "outputs": [
    {
     "name": "stdout",
     "output_type": "stream",
     "text": [
      "$ATAC\n",
      "[1] 64076\n",
      "\n",
      "$`CRISPR EP Link`\n",
      "[1] 384\n",
      "\n",
      "$`CRISPRi-Growth`\n",
      "[1] 6171\n",
      "\n",
      "$`CRISPRi-HCRFF`\n",
      "[1] 74\n",
      "\n",
      "$MPRA\n",
      "[1] 44039\n",
      "\n",
      "$STARR\n",
      "[1] 137332\n",
      "\n"
     ]
    }
   ],
   "source": [
    "dat = dat_region_merge_summary\n",
    "lst = split(dat$Region, dat$Assay_Type)\n",
    "\n",
    "lst_region = lst\n",
    "lst = lapply(lst, length)\n",
    "print(lst)"
   ]
  },
  {
   "cell_type": "code",
   "execution_count": 16,
   "metadata": {},
   "outputs": [
    {
     "data": {
      "image/png": "[encoded data removed]",
      "text/plain": [
       "plot without title"
      ]
     },
     "metadata": {
      "image/png": {
       "height": 480,
       "width": 900
      }
     },
     "output_type": "display_data"
    }
   ],
   "source": [
    "lst = lst_region\n",
    "\n",
    "plt = upset(fromList(lst), \n",
    "      order.by = \"freq\", \n",
    "      nsets = 6,\n",
    "      nintersects = NA,\n",
    "      number.angles = 30,\n",
    "      point.size = 3, \n",
    "      line.size  = 2,\n",
    "      mb.ratio = c(0.7, 0.3),\n",
    "      mainbar.y.label = \"Regulatory regions identified\", \n",
    "      set_size.show = TRUE,\n",
    "      sets.x.label    = \"Assay Type\", \n",
    "      text.scale = c(\n",
    "          2.5, # upper barplot y axis title\n",
    "          2,   # upper barplot y axis text\n",
    "          1.6, # left  barplot y axis title\n",
    "          1.4, # left  barplot y axis text\n",
    "          2.5, # set title\n",
    "          1.7    # upper barplot count number\n",
    "      )\n",
    ")\n",
    "\n",
    "options(repr.plot.height=8, repr.plot.width=15)\n",
    "print(plt)"
   ]
  },
  {
   "cell_type": "markdown",
   "metadata": {},
   "source": [
    "## Upset plot by Assay Group (STARR / MPRA / CRISPRi / ENCODE-E2G / ATAC)"
   ]
  },
  {
   "cell_type": "code",
   "execution_count": 17,
   "metadata": {},
   "outputs": [
    {
     "name": "stdout",
     "output_type": "stream",
     "text": [
      "[1] 252019      6\n"
     ]
    },
    {
     "data": {
      "text/html": [
       "<table class=\"dataframe\">\n",
       "<caption>A tibble: 6 × 6</caption>\n",
       "<thead>\n",
       "\t<tr><th scope=col>Chrom</th><th scope=col>Start</th><th scope=col>End</th><th scope=col>Region</th><th scope=col>Assay_Type</th><th scope=col>Assay_Label</th></tr>\n",
       "\t<tr><th scope=col>&lt;chr&gt;</th><th scope=col>&lt;dbl&gt;</th><th scope=col>&lt;dbl&gt;</th><th scope=col>&lt;chr&gt;</th><th scope=col>&lt;chr&gt;</th><th scope=col>&lt;chr&gt;</th></tr>\n",
       "</thead>\n",
       "<tbody>\n",
       "\t<tr><td>chr1</td><td>136071</td><td>137429</td><td>chr1:136071-137429</td><td>STARR</td><td>ASTARR_R,ATAC</td></tr>\n",
       "\t<tr><td>chr1</td><td>136071</td><td>137429</td><td>chr1:136071-137429</td><td>ATAC </td><td>ASTARR_R,ATAC</td></tr>\n",
       "\t<tr><td>chr1</td><td>180982</td><td>182087</td><td>chr1:180982-182087</td><td>STARR</td><td>ASTARR_R,ATAC</td></tr>\n",
       "\t<tr><td>chr1</td><td>180982</td><td>182087</td><td>chr1:180982-182087</td><td>ATAC </td><td>ASTARR_R,ATAC</td></tr>\n",
       "\t<tr><td>chr1</td><td>183239</td><td>184602</td><td>chr1:183239-184602</td><td>ATAC </td><td>ATAC,WSTARR_A</td></tr>\n",
       "\t<tr><td>chr1</td><td>183239</td><td>184602</td><td>chr1:183239-184602</td><td>STARR</td><td>ATAC,WSTARR_A</td></tr>\n",
       "</tbody>\n",
       "</table>\n"
      ],
      "text/latex": [
       "A tibble: 6 × 6\n",
       "\\begin{tabular}{llllll}\n",
       " Chrom & Start & End & Region & Assay\\_Type & Assay\\_Label\\\\\n",
       " <chr> & <dbl> & <dbl> & <chr> & <chr> & <chr>\\\\\n",
       "\\hline\n",
       "\t chr1 & 136071 & 137429 & chr1:136071-137429 & STARR & ASTARR\\_R,ATAC\\\\\n",
       "\t chr1 & 136071 & 137429 & chr1:136071-137429 & ATAC  & ASTARR\\_R,ATAC\\\\\n",
       "\t chr1 & 180982 & 182087 & chr1:180982-182087 & STARR & ASTARR\\_R,ATAC\\\\\n",
       "\t chr1 & 180982 & 182087 & chr1:180982-182087 & ATAC  & ASTARR\\_R,ATAC\\\\\n",
       "\t chr1 & 183239 & 184602 & chr1:183239-184602 & ATAC  & ATAC,WSTARR\\_A\\\\\n",
       "\t chr1 & 183239 & 184602 & chr1:183239-184602 & STARR & ATAC,WSTARR\\_A\\\\\n",
       "\\end{tabular}\n"
      ],
      "text/markdown": [
       "\n",
       "A tibble: 6 × 6\n",
       "\n",
       "| Chrom &lt;chr&gt; | Start &lt;dbl&gt; | End &lt;dbl&gt; | Region &lt;chr&gt; | Assay_Type &lt;chr&gt; | Assay_Label &lt;chr&gt; |\n",
       "|---|---|---|---|---|---|\n",
       "| chr1 | 136071 | 137429 | chr1:136071-137429 | STARR | ASTARR_R,ATAC |\n",
       "| chr1 | 136071 | 137429 | chr1:136071-137429 | ATAC  | ASTARR_R,ATAC |\n",
       "| chr1 | 180982 | 182087 | chr1:180982-182087 | STARR | ASTARR_R,ATAC |\n",
       "| chr1 | 180982 | 182087 | chr1:180982-182087 | ATAC  | ASTARR_R,ATAC |\n",
       "| chr1 | 183239 | 184602 | chr1:183239-184602 | ATAC  | ATAC,WSTARR_A |\n",
       "| chr1 | 183239 | 184602 | chr1:183239-184602 | STARR | ATAC,WSTARR_A |\n",
       "\n"
      ],
      "text/plain": [
       "  Chrom Start  End    Region             Assay_Type Assay_Label  \n",
       "1 chr1  136071 137429 chr1:136071-137429 STARR      ASTARR_R,ATAC\n",
       "2 chr1  136071 137429 chr1:136071-137429 ATAC       ASTARR_R,ATAC\n",
       "3 chr1  180982 182087 chr1:180982-182087 STARR      ASTARR_R,ATAC\n",
       "4 chr1  180982 182087 chr1:180982-182087 ATAC       ASTARR_R,ATAC\n",
       "5 chr1  183239 184602 chr1:183239-184602 ATAC       ATAC,WSTARR_A\n",
       "6 chr1  183239 184602 chr1:183239-184602 STARR      ATAC,WSTARR_A"
      ]
     },
     "metadata": {},
     "output_type": "display_data"
    }
   ],
   "source": [
    "dat = dat_region_merge_arrange\n",
    "dat = dat %>% \n",
    "    dplyr::mutate(\n",
    "        Assay_Type = ifelse(\n",
    "            str_detect(Assay_Type, \"CRISPRi\"),\n",
    "            \"CRISPR\",\n",
    "            Assay_Type\n",
    "        )\n",
    "    ) %>%\n",
    "    dplyr::mutate(\n",
    "        Assay_Type = ifelse(\n",
    "            str_detect(Assay_Type, \"STARR\"),\n",
    "            \"STARR\",\n",
    "            Assay_Type\n",
    "        )\n",
    "    ) %>%\n",
    "    dplyr::mutate(\n",
    "        Assay_Type = ifelse(\n",
    "            str_detect(Assay_Type, \"MPRA\"),\n",
    "            \"MPRA\",\n",
    "            Assay_Type\n",
    "        )\n",
    "    ) %>%\n",
    "    dplyr::mutate(\n",
    "        Assay_Type = ifelse(\n",
    "            str_detect(Assay_Type, \"ENCODE-E2G\"),\n",
    "            \"CRISPR\",\n",
    "            Assay_Type\n",
    "        )\n",
    "    )\n",
    "\n",
    "dat = dat %>% dplyr::distinct()\n",
    "\n",
    "dat_region_merge_summary = dat\n",
    "print(dim(dat))\n",
    "head(dat)"
   ]
  },
  {
   "cell_type": "code",
   "execution_count": 18,
   "metadata": {},
   "outputs": [
    {
     "name": "stdout",
     "output_type": "stream",
     "text": [
      "[1] 252019\n",
      "[1] 65355\n",
      "[1] 151774\n"
     ]
    },
    {
     "data": {
      "text/html": [
       "<table class=\"dataframe\">\n",
       "<caption>A tibble: 6 × 6</caption>\n",
       "<thead>\n",
       "\t<tr><th scope=col>Chrom</th><th scope=col>Start</th><th scope=col>End</th><th scope=col>Region</th><th scope=col>Assay_Type</th><th scope=col>Assay_Label</th></tr>\n",
       "\t<tr><th scope=col>&lt;chr&gt;</th><th scope=col>&lt;dbl&gt;</th><th scope=col>&lt;dbl&gt;</th><th scope=col>&lt;chr&gt;</th><th scope=col>&lt;chr&gt;</th><th scope=col>&lt;chr&gt;</th></tr>\n",
       "</thead>\n",
       "<tbody>\n",
       "\t<tr><td>chr1</td><td>136071</td><td>137429</td><td>chr1:136071-137429</td><td>STARR</td><td>ASTARR_R,ATAC</td></tr>\n",
       "\t<tr><td>chr1</td><td>136071</td><td>137429</td><td>chr1:136071-137429</td><td>ATAC </td><td>ASTARR_R,ATAC</td></tr>\n",
       "\t<tr><td>chr1</td><td>180982</td><td>182087</td><td>chr1:180982-182087</td><td>STARR</td><td>ASTARR_R,ATAC</td></tr>\n",
       "\t<tr><td>chr1</td><td>180982</td><td>182087</td><td>chr1:180982-182087</td><td>ATAC </td><td>ASTARR_R,ATAC</td></tr>\n",
       "\t<tr><td>chr1</td><td>183239</td><td>184602</td><td>chr1:183239-184602</td><td>ATAC </td><td>ATAC,WSTARR_A</td></tr>\n",
       "\t<tr><td>chr1</td><td>183239</td><td>184602</td><td>chr1:183239-184602</td><td>STARR</td><td>ATAC,WSTARR_A</td></tr>\n",
       "</tbody>\n",
       "</table>\n"
      ],
      "text/latex": [
       "A tibble: 6 × 6\n",
       "\\begin{tabular}{llllll}\n",
       " Chrom & Start & End & Region & Assay\\_Type & Assay\\_Label\\\\\n",
       " <chr> & <dbl> & <dbl> & <chr> & <chr> & <chr>\\\\\n",
       "\\hline\n",
       "\t chr1 & 136071 & 137429 & chr1:136071-137429 & STARR & ASTARR\\_R,ATAC\\\\\n",
       "\t chr1 & 136071 & 137429 & chr1:136071-137429 & ATAC  & ASTARR\\_R,ATAC\\\\\n",
       "\t chr1 & 180982 & 182087 & chr1:180982-182087 & STARR & ASTARR\\_R,ATAC\\\\\n",
       "\t chr1 & 180982 & 182087 & chr1:180982-182087 & ATAC  & ASTARR\\_R,ATAC\\\\\n",
       "\t chr1 & 183239 & 184602 & chr1:183239-184602 & ATAC  & ATAC,WSTARR\\_A\\\\\n",
       "\t chr1 & 183239 & 184602 & chr1:183239-184602 & STARR & ATAC,WSTARR\\_A\\\\\n",
       "\\end{tabular}\n"
      ],
      "text/markdown": [
       "\n",
       "A tibble: 6 × 6\n",
       "\n",
       "| Chrom &lt;chr&gt; | Start &lt;dbl&gt; | End &lt;dbl&gt; | Region &lt;chr&gt; | Assay_Type &lt;chr&gt; | Assay_Label &lt;chr&gt; |\n",
       "|---|---|---|---|---|---|\n",
       "| chr1 | 136071 | 137429 | chr1:136071-137429 | STARR | ASTARR_R,ATAC |\n",
       "| chr1 | 136071 | 137429 | chr1:136071-137429 | ATAC  | ASTARR_R,ATAC |\n",
       "| chr1 | 180982 | 182087 | chr1:180982-182087 | STARR | ASTARR_R,ATAC |\n",
       "| chr1 | 180982 | 182087 | chr1:180982-182087 | ATAC  | ASTARR_R,ATAC |\n",
       "| chr1 | 183239 | 184602 | chr1:183239-184602 | ATAC  | ATAC,WSTARR_A |\n",
       "| chr1 | 183239 | 184602 | chr1:183239-184602 | STARR | ATAC,WSTARR_A |\n",
       "\n"
      ],
      "text/plain": [
       "  Chrom Start  End    Region             Assay_Type Assay_Label  \n",
       "1 chr1  136071 137429 chr1:136071-137429 STARR      ASTARR_R,ATAC\n",
       "2 chr1  136071 137429 chr1:136071-137429 ATAC       ASTARR_R,ATAC\n",
       "3 chr1  180982 182087 chr1:180982-182087 STARR      ASTARR_R,ATAC\n",
       "4 chr1  180982 182087 chr1:180982-182087 ATAC       ASTARR_R,ATAC\n",
       "5 chr1  183239 184602 chr1:183239-184602 ATAC       ATAC,WSTARR_A\n",
       "6 chr1  183239 184602 chr1:183239-184602 STARR      ATAC,WSTARR_A"
      ]
     },
     "metadata": {},
     "output_type": "display_data"
    }
   ],
   "source": [
    "dat = dat_region_merge_summary\n",
    "dat = dat %>% \n",
    "    dplyr::group_by(Region) %>% \n",
    "    dplyr::summarise(Count = n()) %>%\n",
    "    dplyr::filter(Count >= 2)\n",
    "vec = dat$Region\n",
    "\n",
    "dat = dat_region_merge_summary\n",
    "dat = dat %>% dplyr::filter(Region %in% vec)\n",
    "\n",
    "dat_region_merge_summary_filter = dat\n",
    "\n",
    "print(nrow(dat_region_merge_summary))\n",
    "print(length(vec))\n",
    "print(nrow(dat_region_merge_summary_filter))\n",
    "head(dat)"
   ]
  },
  {
   "cell_type": "code",
   "execution_count": 23,
   "metadata": {},
   "outputs": [
    {
     "name": "stdout",
     "output_type": "stream",
     "text": [
      "$ATAC\n",
      "[1] 64076\n",
      "\n",
      "$CRISPR\n",
      "[1] 5387\n",
      "\n",
      "$MPRA\n",
      "[1] 35632\n",
      "\n",
      "$STARR\n",
      "[1] 46679\n",
      "\n"
     ]
    }
   ],
   "source": [
    "dat = dat_region_merge_summary_filter\n",
    "dat = dat %>% dplyr::filter(Assay_Label != \"ATAC\")\n",
    "lst = split(dat$Region, dat$Assay_Type)\n",
    "\n",
    "lst_region = lst\n",
    "lst = lapply(lst, length)\n",
    "print(lst)"
   ]
  },
  {
   "cell_type": "code",
   "execution_count": 24,
   "metadata": {},
   "outputs": [
    {
     "data": {
      "image/png": "[encoded data removed]",
      "text/plain": [
       "plot without title"
      ]
     },
     "metadata": {
      "image/png": {
       "height": 420,
       "width": 720
      }
     },
     "output_type": "display_data"
    }
   ],
   "source": [
    "lst = lst_region\n",
    "\n",
    "plt = upset(fromList(lst), \n",
    "      order.by = \"freq\", \n",
    "      nsets = 8,\n",
    "      nintersects = NA,\n",
    "      number.angles = 0,\n",
    "      point.size = 3, \n",
    "      line.size  = 2,\n",
    "      mb.ratio = c(0.7, 0.3),\n",
    "      mainbar.y.label = \"Regulatory regions identified\", \n",
    "      sets.x.label    = \"Assay Type\", \n",
    "      text.scale = c(\n",
    "          2.5, # upper barplot y axis title\n",
    "          2, # upper barplot y axis text\n",
    "          1.6, # left  barplot y axis title\n",
    "          1.4, # left  barplot y axis text\n",
    "          2.5, # set title\n",
    "          2  # upper barplot count number\n",
    "      )\n",
    ")\n",
    "\n",
    "options(repr.plot.height=7, repr.plot.width=12)\n",
    "print(plt)"
   ]
  },
  {
   "cell_type": "code",
   "execution_count": 133,
   "metadata": {},
   "outputs": [
    {
     "data": {
      "text/html": [
       "<strong>png:</strong> 2"
      ],
      "text/latex": [
       "\\textbf{png:} 2"
      ],
      "text/markdown": [
       "**png:** 2"
      ],
      "text/plain": [
       "png \n",
       "  2 "
      ]
     },
     "metadata": {},
     "output_type": "display_data"
    }
   ],
   "source": [
    "pdf(\"fig.fcc_table.upset.group.pdf\", width = 14, height = 7)\n",
    "print(plt)\n",
    "dev.off()"
   ]
  },
  {
   "cell_type": "code",
   "execution_count": 52,
   "metadata": {},
   "outputs": [
    {
     "name": "stdout",
     "output_type": "stream",
     "text": [
      "$ATAC\n",
      "[1] 64166\n",
      "\n",
      "$CRISPR\n",
      "[1] 5384\n",
      "\n",
      "$MPRA\n",
      "[1] 35751\n",
      "\n",
      "$STARR\n",
      "[1] 46723\n",
      "\n"
     ]
    }
   ],
   "source": [
    "dat = dat_region_merge_summary_filter\n",
    "lst = split(dat$Region, dat$Assay_Type)\n",
    "\n",
    "lst_region = lst\n",
    "lst = lapply(lst, length)\n",
    "print(lst)"
   ]
  },
  {
   "cell_type": "code",
   "execution_count": 53,
   "metadata": {},
   "outputs": [
    {
     "data": {
      "image/png": "[encoded data removed]",
      "text/plain": [
       "plot without title"
      ]
     },
     "metadata": {
      "image/png": {
       "height": 420,
       "width": 720
      }
     },
     "output_type": "display_data"
    }
   ],
   "source": [
    "lst = lst_region\n",
    "\n",
    "plt = upset(fromList(lst), \n",
    "      order.by = \"freq\", \n",
    "      nsets = 8,\n",
    "      nintersects = NA,\n",
    "      number.angles = 0,\n",
    "      point.size = 3, \n",
    "      line.size  = 2,\n",
    "      mb.ratio = c(0.7, 0.3),\n",
    "      mainbar.y.label = \"Regulatory regions identified\", \n",
    "      sets.x.label    = \"Assay Type\", \n",
    "      text.scale = c(\n",
    "          2.5, # upper barplot y axis title\n",
    "          2, # upper barplot y axis text\n",
    "          1.6, # left  barplot y axis title\n",
    "          1.4, # left  barplot y axis text\n",
    "          2.5, # set title\n",
    "          2  # upper barplot count number\n",
    "      )\n",
    ")\n",
    "\n",
    "options(repr.plot.height=7, repr.plot.width=12)\n",
    "print(plt)"
   ]
  },
  {
   "cell_type": "code",
   "execution_count": 54,
   "metadata": {},
   "outputs": [
    {
     "data": {
      "text/html": [
       "<strong>png:</strong> 2"
      ],
      "text/latex": [
       "\\textbf{png:} 2"
      ],
      "text/markdown": [
       "**png:** 2"
      ],
      "text/plain": [
       "png \n",
       "  2 "
      ]
     },
     "metadata": {},
     "output_type": "display_data"
    }
   ],
   "source": [
    "pdf(\"fig.fcc_table.upset.pdf\", width = 10, height = 7)\n",
    "print(plt)\n",
    "dev.off()"
   ]
  },
  {
   "cell_type": "code",
   "execution_count": null,
   "metadata": {},
   "outputs": [],
   "source": []
  },
  {
   "cell_type": "markdown",
   "metadata": {},
   "source": [
    "## Percentage of ATAC in each assay"
   ]
  },
  {
   "cell_type": "code",
   "execution_count": 12,
   "metadata": {},
   "outputs": [
    {
     "name": "stdout",
     "output_type": "stream",
     "text": [
      "[1] \"ASTARR\"                \"ATAC\"                  \"CRISPRi-Growth\"       \n",
      "[4] \"CRISPRi-HCRFF\"         \"ENCODE-E2G_Benchmark\"  \"ENCODE-E2G_Prediction\"\n",
      "[7] \"LMPRA\"                 \"TMPRA\"                 \"WSTARR\"               \n",
      "[1] 247249\n"
     ]
    }
   ],
   "source": [
    "dat = dat_region_merge_arrange\n",
    "lst = split(dat$Region, dat$Assay_Type)\n",
    "vec = lst[[\"ATAC\"]]\n",
    "\n",
    "vec_txt_region_atac = vec\n",
    "lst_vec_txt_region  = lst\n",
    "print(names(lst))\n",
    "print(length(vec))"
   ]
  },
  {
   "cell_type": "code",
   "execution_count": 13,
   "metadata": {},
   "outputs": [
    {
     "data": {
      "text/html": [
       "<table class=\"dataframe\">\n",
       "<caption>A tibble: 9 × 6</caption>\n",
       "<thead>\n",
       "\t<tr><th scope=col>Assay</th><th scope=col>Count_ATAC</th><th scope=col>Count_Total</th><th scope=col>Freq_ATAC</th><th scope=col>Count_Label</th><th scope=col>Assay_Label</th></tr>\n",
       "\t<tr><th scope=col>&lt;chr&gt;</th><th scope=col>&lt;int&gt;</th><th scope=col>&lt;int&gt;</th><th scope=col>&lt;dbl&gt;</th><th scope=col>&lt;chr&gt;</th><th scope=col>&lt;chr&gt;</th></tr>\n",
       "</thead>\n",
       "<tbody>\n",
       "\t<tr><td>ASTARR               </td><td>  7827</td><td>  8539</td><td>0.9166179</td><td>9K  </td><td>ASTARR (9K)                </td></tr>\n",
       "\t<tr><td>ATAC                 </td><td>247249</td><td>247249</td><td>1.0000000</td><td>247K</td><td>ATAC (247K)                </td></tr>\n",
       "\t<tr><td>CRISPRi-Growth       </td><td>  4890</td><td>  6169</td><td>0.7926730</td><td>6K  </td><td>CRISPRi-Growth (6K)        </td></tr>\n",
       "\t<tr><td>CRISPRi-HCRFF        </td><td>    55</td><td>    75</td><td>0.7333333</td><td>75  </td><td>CRISPRi-HCRFF (75)         </td></tr>\n",
       "\t<tr><td>ENCODE-E2G_Benchmark </td><td>   357</td><td>   381</td><td>0.9370079</td><td>381 </td><td>ENCODE-E2G_Benchmark (381) </td></tr>\n",
       "\t<tr><td>ENCODE-E2G_Prediction</td><td> 37393</td><td> 45429</td><td>0.8231086</td><td>45K </td><td>ENCODE-E2G_Prediction (45K)</td></tr>\n",
       "\t<tr><td>LMPRA                </td><td> 32900</td><td> 37633</td><td>0.8742327</td><td>38K </td><td>LMPRA (38K)                </td></tr>\n",
       "\t<tr><td>TMPRA                </td><td>  1258</td><td>  7538</td><td>0.1668878</td><td>8K  </td><td>TMPRA (8K)                 </td></tr>\n",
       "\t<tr><td>WSTARR               </td><td> 33408</td><td> 71498</td><td>0.4672578</td><td>71K </td><td>WSTARR (71K)               </td></tr>\n",
       "</tbody>\n",
       "</table>\n"
      ],
      "text/latex": [
       "A tibble: 9 × 6\n",
       "\\begin{tabular}{llllll}\n",
       " Assay & Count\\_ATAC & Count\\_Total & Freq\\_ATAC & Count\\_Label & Assay\\_Label\\\\\n",
       " <chr> & <int> & <int> & <dbl> & <chr> & <chr>\\\\\n",
       "\\hline\n",
       "\t ASTARR                &   7827 &   8539 & 0.9166179 & 9K   & ASTARR (9K)                \\\\\n",
       "\t ATAC                  & 247249 & 247249 & 1.0000000 & 247K & ATAC (247K)                \\\\\n",
       "\t CRISPRi-Growth        &   4890 &   6169 & 0.7926730 & 6K   & CRISPRi-Growth (6K)        \\\\\n",
       "\t CRISPRi-HCRFF         &     55 &     75 & 0.7333333 & 75   & CRISPRi-HCRFF (75)         \\\\\n",
       "\t ENCODE-E2G\\_Benchmark  &    357 &    381 & 0.9370079 & 381  & ENCODE-E2G\\_Benchmark (381) \\\\\n",
       "\t ENCODE-E2G\\_Prediction &  37393 &  45429 & 0.8231086 & 45K  & ENCODE-E2G\\_Prediction (45K)\\\\\n",
       "\t LMPRA                 &  32900 &  37633 & 0.8742327 & 38K  & LMPRA (38K)                \\\\\n",
       "\t TMPRA                 &   1258 &   7538 & 0.1668878 & 8K   & TMPRA (8K)                 \\\\\n",
       "\t WSTARR                &  33408 &  71498 & 0.4672578 & 71K  & WSTARR (71K)               \\\\\n",
       "\\end{tabular}\n"
      ],
      "text/markdown": [
       "\n",
       "A tibble: 9 × 6\n",
       "\n",
       "| Assay &lt;chr&gt; | Count_ATAC &lt;int&gt; | Count_Total &lt;int&gt; | Freq_ATAC &lt;dbl&gt; | Count_Label &lt;chr&gt; | Assay_Label &lt;chr&gt; |\n",
       "|---|---|---|---|---|---|\n",
       "| ASTARR                |   7827 |   8539 | 0.9166179 | 9K   | ASTARR (9K)                 |\n",
       "| ATAC                  | 247249 | 247249 | 1.0000000 | 247K | ATAC (247K)                 |\n",
       "| CRISPRi-Growth        |   4890 |   6169 | 0.7926730 | 6K   | CRISPRi-Growth (6K)         |\n",
       "| CRISPRi-HCRFF         |     55 |     75 | 0.7333333 | 75   | CRISPRi-HCRFF (75)          |\n",
       "| ENCODE-E2G_Benchmark  |    357 |    381 | 0.9370079 | 381  | ENCODE-E2G_Benchmark (381)  |\n",
       "| ENCODE-E2G_Prediction |  37393 |  45429 | 0.8231086 | 45K  | ENCODE-E2G_Prediction (45K) |\n",
       "| LMPRA                 |  32900 |  37633 | 0.8742327 | 38K  | LMPRA (38K)                 |\n",
       "| TMPRA                 |   1258 |   7538 | 0.1668878 | 8K   | TMPRA (8K)                  |\n",
       "| WSTARR                |  33408 |  71498 | 0.4672578 | 71K  | WSTARR (71K)                |\n",
       "\n"
      ],
      "text/plain": [
       "  Assay                 Count_ATAC Count_Total Freq_ATAC Count_Label\n",
       "1 ASTARR                  7827       8539      0.9166179 9K         \n",
       "2 ATAC                  247249     247249      1.0000000 247K       \n",
       "3 CRISPRi-Growth          4890       6169      0.7926730 6K         \n",
       "4 CRISPRi-HCRFF             55         75      0.7333333 75         \n",
       "5 ENCODE-E2G_Benchmark     357        381      0.9370079 381        \n",
       "6 ENCODE-E2G_Prediction  37393      45429      0.8231086 45K        \n",
       "7 LMPRA                  32900      37633      0.8742327 38K        \n",
       "8 TMPRA                   1258       7538      0.1668878 8K         \n",
       "9 WSTARR                 33408      71498      0.4672578 71K        \n",
       "  Assay_Label                \n",
       "1 ASTARR (9K)                \n",
       "2 ATAC (247K)                \n",
       "3 CRISPRi-Growth (6K)        \n",
       "4 CRISPRi-HCRFF (75)         \n",
       "5 ENCODE-E2G_Benchmark (381) \n",
       "6 ENCODE-E2G_Prediction (45K)\n",
       "7 LMPRA (38K)                \n",
       "8 TMPRA (8K)                 \n",
       "9 WSTARR (71K)               "
      ]
     },
     "metadata": {},
     "output_type": "display_data"
    }
   ],
   "source": [
    "lst = lst_vec_txt_region\n",
    "\n",
    "lst = lapply(lst, function(vec_txt_region){\n",
    "    vec = vec_txt_region %in% vec_txt_region_atac\n",
    "    num_atac  = sum(vec)\n",
    "    num_total = length(vec_txt_region)\n",
    "    \n",
    "    vec = c(num_atac, num_total)\n",
    "    names(vec) = c(\"Count_ATAC\", \"Count_Total\")\n",
    "    return(vec)\n",
    "})\n",
    "\n",
    "dat = bind_rows(lst, .id = \"Assay\")\n",
    "dat = dat %>% \n",
    "    dplyr::mutate(\n",
    "        Freq_ATAC   = Count_ATAC / Count_Total,\n",
    "        Count_Label = ifelse(\n",
    "            Count_Total > 1000, \n",
    "            paste0(round(Count_Total / 1000), \"K\"),\n",
    "            Count_Total\n",
    "        )\n",
    "    ) %>%\n",
    "    dplyr::mutate(\n",
    "        Assay_Label = paste0(Assay, \" (\", Count_Label, \")\")\n",
    "    )\n",
    "\n",
    "dat_region_merge_isATAC = dat\n",
    "dat"
   ]
  },
  {
   "cell_type": "code",
   "execution_count": 14,
   "metadata": {},
   "outputs": [
    {
     "data": {
      "image/png": "[encoded data removed]",
      "text/plain": [
       "plot without title"
      ]
     },
     "metadata": {
      "image/png": {
       "height": 360,
       "width": 600
      }
     },
     "output_type": "display_data"
    }
   ],
   "source": [
    "dat = dat_region_merge_isATAC\n",
    "dat = dat %>% \n",
    "    dplyr::arrange(Freq_ATAC) %>%\n",
    "    dplyr::mutate(Assay_Label = factor(Assay_Label, levels=Assay_Label))\n",
    "\n",
    "gpt = ggplot(dat, aes(x=Freq_ATAC, y=Assay_Label)) + \n",
    "    geom_col() + \n",
    "    labs(x=\"Frequency of ATAC peaks\", y=\"Assays\") +\n",
    "    theme_cowplot()\n",
    "\n",
    "options(repr.plot.height=6, repr.plot.width=10)\n",
    "print(gpt)"
   ]
  },
  {
   "cell_type": "code",
   "execution_count": null,
   "metadata": {},
   "outputs": [],
   "source": []
  }
 ],
 "metadata": {
  "kernelspec": {
   "display_name": "R",
   "language": "R",
   "name": "ir"
  },
  "language_info": {
   "codemirror_mode": "r",
   "file_extension": ".r",
   "mimetype": "text/x-r-source",
   "name": "R",
   "pygments_lexer": "r",
   "version": "4.3.1"
  }
 },
 "nbformat": 4,
 "nbformat_minor": 4
}
