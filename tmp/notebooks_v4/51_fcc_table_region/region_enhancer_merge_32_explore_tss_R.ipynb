{
 "cells": [
  {
   "cell_type": "markdown",
   "metadata": {},
   "source": [
    "**Set environment**"
   ]
  },
  {
   "cell_type": "code",
   "execution_count": 1,
   "metadata": {},
   "outputs": [
    {
     "name": "stdout",
     "output_type": "stream",
     "text": [
      "You are in Singularity: singularity_proj_encode_fcc \n",
      "BASE DIRECTORY (FD_BASE): /data/reddylab/Kuei \n",
      "WORK DIRECTORY (FD_WORK): /data/reddylab/Kuei/out \n",
      "CODE DIRECTORY (FD_CODE): /data/reddylab/Kuei/code \n",
      "PATH OF PROJECT (FD_PRJ): /data/reddylab/Kuei/code/Proj_CombEffect_ENCODE_FCC \n",
      "PATH OF RESULTS (FD_RES): /data/reddylab/Kuei/out/proj_combeffect_encode_fcc \n",
      "PATH OF LOG     (FD_LOG): /data/reddylab/Kuei/out/proj_combeffect_encode_fcc/log \n"
     ]
    }
   ],
   "source": [
    "suppressMessages(suppressWarnings(source(\"../config/config_sing.R\")))\n",
    "show_env()"
   ]
  },
  {
   "cell_type": "markdown",
   "metadata": {},
   "source": [
    "## Import data"
   ]
  },
  {
   "cell_type": "code",
   "execution_count": 2,
   "metadata": {},
   "outputs": [],
   "source": [
    "FOLDER_REG = \"region_active\"\n",
    "FOLDER_ANT = \"annotation_tss_pol2\""
   ]
  },
  {
   "cell_type": "code",
   "execution_count": 3,
   "metadata": {},
   "outputs": [
    {
     "data": {
      "text/html": [
       "<style>\n",
       ".list-inline {list-style: none; margin:0; padding: 0}\n",
       ".list-inline>li {display: inline-block}\n",
       ".list-inline>li:not(:last-child)::after {content: \"\\00b7\"; padding: 0 .5ex}\n",
       "</style>\n",
       "<ol class=list-inline><li>'peak.summary.ccre_v3.tsv'</li><li>'peak.summary.ccre_v4.tsv'</li><li>'peak.summary.TSS_Pol2_RNAseq.tsv'</li><li>'peak.summary.TSS_Pol2.tsv'</li></ol>\n"
      ],
      "text/latex": [
       "\\begin{enumerate*}\n",
       "\\item 'peak.summary.ccre\\_v3.tsv'\n",
       "\\item 'peak.summary.ccre\\_v4.tsv'\n",
       "\\item 'peak.summary.TSS\\_Pol2\\_RNAseq.tsv'\n",
       "\\item 'peak.summary.TSS\\_Pol2.tsv'\n",
       "\\end{enumerate*}\n"
      ],
      "text/markdown": [
       "1. 'peak.summary.ccre_v3.tsv'\n",
       "2. 'peak.summary.ccre_v4.tsv'\n",
       "3. 'peak.summary.TSS_Pol2_RNAseq.tsv'\n",
       "4. 'peak.summary.TSS_Pol2.tsv'\n",
       "\n",
       "\n"
      ],
      "text/plain": [
       "[1] \"peak.summary.ccre_v3.tsv\"         \"peak.summary.ccre_v4.tsv\"        \n",
       "[3] \"peak.summary.TSS_Pol2_RNAseq.tsv\" \"peak.summary.TSS_Pol2.tsv\"       "
      ]
     },
     "metadata": {},
     "output_type": "display_data"
    }
   ],
   "source": [
    "fdiry = file.path(\n",
    "    FD_RES, \n",
    "    \"results\", \n",
    "    \"region\", \n",
    "    \"annotation_enhancer_merge\",\n",
    "    FOLDER_REG,\n",
    "    \"summary\")\n",
    "dir(fdiry)"
   ]
  },
  {
   "cell_type": "code",
   "execution_count": 7,
   "metadata": {},
   "outputs": [
    {
     "name": "stdout",
     "output_type": "stream",
     "text": [
      "[1] 10069     9\n"
     ]
    },
    {
     "data": {
      "text/html": [
       "<table class=\"dataframe\">\n",
       "<caption>A tibble: 6 × 9</caption>\n",
       "<thead>\n",
       "\t<tr><th scope=col>Peak</th><th scope=col>Assay_Type</th><th scope=col>Assay_Label</th><th scope=col>Annotation</th><th scope=col>Label</th><th scope=col>Count</th><th scope=col>Region</th><th scope=col>Score</th><th scope=col>Note</th></tr>\n",
       "\t<tr><th scope=col>&lt;chr&gt;</th><th scope=col>&lt;chr&gt;</th><th scope=col>&lt;chr&gt;</th><th scope=col>&lt;chr&gt;</th><th scope=col>&lt;chr&gt;</th><th scope=col>&lt;dbl&gt;</th><th scope=col>&lt;chr&gt;</th><th scope=col>&lt;dbl&gt;</th><th scope=col>&lt;chr&gt;</th></tr>\n",
       "</thead>\n",
       "<tbody>\n",
       "\t<tr><td>chr1:28903-29613   </td><td>ATAC                                                  </td><td>ATAC                                                                                                                                                                                                                                                                                                                                                                                                               </td><td>TSS_Pol2_RNAseq</td><td>TSS</td><td>1</td><td>chr1:29370-29371                     </td><td>  0.00023000</td><td>WASH7P             </td></tr>\n",
       "\t<tr><td>chr1:826642-828040 </td><td>ATAC,CRISPRi-Growth,ENCODE-E2G_Prediction,LMPRA,WSTARR</td><td>ATAC,CRISPRi-Growth,ENCODE-E2G_Prediction:FAM87B,ENCODE-E2G_Prediction:LINC00115,ENCODE-E2G_Prediction:LINC01128,ENCODE-E2G_Prediction:LOC100288069,ENCODE-E2G_Prediction:SAMD11,LMPRA_A,WSTARR_A,WSTARR_AB                                                                                                                                                                                                        </td><td>TSS_Pol2_RNAseq</td><td>TSS</td><td>2</td><td>chr1:827522-827523|chr1:827590-827591</td><td> 64.46295000</td><td>LINC00115|LINC01128</td></tr>\n",
       "\t<tr><td>chr1:876474-878030 </td><td>ATAC                                                  </td><td>ATAC                                                                                                                                                                                                                                                                                                                                                                                                               </td><td>TSS_Pol2_RNAseq</td><td>TSS</td><td>1</td><td>chr1:876802-876803                   </td><td>  0.00788399</td><td>FAM41C             </td></tr>\n",
       "\t<tr><td>chr1:958685-959974 </td><td>ATAC,ENCODE-E2G_Prediction,LMPRA,WSTARR               </td><td>ATAC,ENCODE-E2G_Prediction:KLHL17,ENCODE-E2G_Prediction:NOC2L,ENCODE-E2G_Prediction:PLEKHN1,ENCODE-E2G_Prediction:SAMD11,LMPRA_A,LMPRA_AB,WSTARR_A,WSTARR_AB                                                                                                                                                                                                                                                       </td><td>TSS_Pol2_RNAseq</td><td>TSS</td><td>1</td><td>chr1:959256-959257                   </td><td>104.86600000</td><td>NOC2L              </td></tr>\n",
       "\t<tr><td>chr1:960292-961635 </td><td>ATAC,ENCODE-E2G_Prediction,LMPRA,WSTARR               </td><td>ATAC,ENCODE-E2G_Prediction:KLHL17,ENCODE-E2G_Prediction:NOC2L,ENCODE-E2G_Prediction:PLEKHN1,LMPRA_A,LMPRA_AB,WSTARR_A                                                                                                                                                                                                                                                                                              </td><td>TSS_Pol2_RNAseq</td><td>TSS</td><td>1</td><td>chr1:960583-960584                   </td><td>  8.22571000</td><td>KLHL17             </td></tr>\n",
       "\t<tr><td>chr1:998921-1001250</td><td>ATAC,ENCODE-E2G_Prediction,WSTARR                     </td><td>ATAC,ENCODE-E2G_Prediction:AGRN,ENCODE-E2G_Prediction:CALML6,ENCODE-E2G_Prediction:FNDC10,ENCODE-E2G_Prediction:HES4,ENCODE-E2G_Prediction:ISG15,ENCODE-E2G_Prediction:LOC105378591,ENCODE-E2G_Prediction:PLEKHN1,ENCODE-E2G_Prediction:PRKCZ,ENCODE-E2G_Prediction:RNF223,ENCODE-E2G_Prediction:SAMD11,ENCODE-E2G_Prediction:SLC35E2B,ENCODE-E2G_Prediction:TAS1R3,ENCODE-E2G_Prediction:TTLL10,WSTARR_A,WSTARR_AB</td><td>TSS_Pol2_RNAseq</td><td>TSS</td><td>1</td><td>chr1:1000097-1000098                 </td><td> 50.58140000</td><td>HES4               </td></tr>\n",
       "</tbody>\n",
       "</table>\n"
      ],
      "text/latex": [
       "A tibble: 6 × 9\n",
       "\\begin{tabular}{lllllllll}\n",
       " Peak & Assay\\_Type & Assay\\_Label & Annotation & Label & Count & Region & Score & Note\\\\\n",
       " <chr> & <chr> & <chr> & <chr> & <chr> & <dbl> & <chr> & <dbl> & <chr>\\\\\n",
       "\\hline\n",
       "\t chr1:28903-29613    & ATAC                                                   & ATAC                                                                                                                                                                                                                                                                                                                                                                                                                & TSS\\_Pol2\\_RNAseq & TSS & 1 & chr1:29370-29371                      &   0.00023000 & WASH7P             \\\\\n",
       "\t chr1:826642-828040  & ATAC,CRISPRi-Growth,ENCODE-E2G\\_Prediction,LMPRA,WSTARR & ATAC,CRISPRi-Growth,ENCODE-E2G\\_Prediction:FAM87B,ENCODE-E2G\\_Prediction:LINC00115,ENCODE-E2G\\_Prediction:LINC01128,ENCODE-E2G\\_Prediction:LOC100288069,ENCODE-E2G\\_Prediction:SAMD11,LMPRA\\_A,WSTARR\\_A,WSTARR\\_AB                                                                                                                                                                                                         & TSS\\_Pol2\\_RNAseq & TSS & 2 & chr1:827522-827523\\textbar{}chr1:827590-827591 &  64.46295000 & LINC00115\\textbar{}LINC01128\\\\\n",
       "\t chr1:876474-878030  & ATAC                                                   & ATAC                                                                                                                                                                                                                                                                                                                                                                                                                & TSS\\_Pol2\\_RNAseq & TSS & 1 & chr1:876802-876803                    &   0.00788399 & FAM41C             \\\\\n",
       "\t chr1:958685-959974  & ATAC,ENCODE-E2G\\_Prediction,LMPRA,WSTARR                & ATAC,ENCODE-E2G\\_Prediction:KLHL17,ENCODE-E2G\\_Prediction:NOC2L,ENCODE-E2G\\_Prediction:PLEKHN1,ENCODE-E2G\\_Prediction:SAMD11,LMPRA\\_A,LMPRA\\_AB,WSTARR\\_A,WSTARR\\_AB                                                                                                                                                                                                                                                        & TSS\\_Pol2\\_RNAseq & TSS & 1 & chr1:959256-959257                    & 104.86600000 & NOC2L              \\\\\n",
       "\t chr1:960292-961635  & ATAC,ENCODE-E2G\\_Prediction,LMPRA,WSTARR                & ATAC,ENCODE-E2G\\_Prediction:KLHL17,ENCODE-E2G\\_Prediction:NOC2L,ENCODE-E2G\\_Prediction:PLEKHN1,LMPRA\\_A,LMPRA\\_AB,WSTARR\\_A                                                                                                                                                                                                                                                                                               & TSS\\_Pol2\\_RNAseq & TSS & 1 & chr1:960583-960584                    &   8.22571000 & KLHL17             \\\\\n",
       "\t chr1:998921-1001250 & ATAC,ENCODE-E2G\\_Prediction,WSTARR                      & ATAC,ENCODE-E2G\\_Prediction:AGRN,ENCODE-E2G\\_Prediction:CALML6,ENCODE-E2G\\_Prediction:FNDC10,ENCODE-E2G\\_Prediction:HES4,ENCODE-E2G\\_Prediction:ISG15,ENCODE-E2G\\_Prediction:LOC105378591,ENCODE-E2G\\_Prediction:PLEKHN1,ENCODE-E2G\\_Prediction:PRKCZ,ENCODE-E2G\\_Prediction:RNF223,ENCODE-E2G\\_Prediction:SAMD11,ENCODE-E2G\\_Prediction:SLC35E2B,ENCODE-E2G\\_Prediction:TAS1R3,ENCODE-E2G\\_Prediction:TTLL10,WSTARR\\_A,WSTARR\\_AB & TSS\\_Pol2\\_RNAseq & TSS & 1 & chr1:1000097-1000098                  &  50.58140000 & HES4               \\\\\n",
       "\\end{tabular}\n"
      ],
      "text/markdown": [
       "\n",
       "A tibble: 6 × 9\n",
       "\n",
       "| Peak &lt;chr&gt; | Assay_Type &lt;chr&gt; | Assay_Label &lt;chr&gt; | Annotation &lt;chr&gt; | Label &lt;chr&gt; | Count &lt;dbl&gt; | Region &lt;chr&gt; | Score &lt;dbl&gt; | Note &lt;chr&gt; |\n",
       "|---|---|---|---|---|---|---|---|---|\n",
       "| chr1:28903-29613    | ATAC                                                   | ATAC                                                                                                                                                                                                                                                                                                                                                                                                                | TSS_Pol2_RNAseq | TSS | 1 | chr1:29370-29371                      |   0.00023000 | WASH7P              |\n",
       "| chr1:826642-828040  | ATAC,CRISPRi-Growth,ENCODE-E2G_Prediction,LMPRA,WSTARR | ATAC,CRISPRi-Growth,ENCODE-E2G_Prediction:FAM87B,ENCODE-E2G_Prediction:LINC00115,ENCODE-E2G_Prediction:LINC01128,ENCODE-E2G_Prediction:LOC100288069,ENCODE-E2G_Prediction:SAMD11,LMPRA_A,WSTARR_A,WSTARR_AB                                                                                                                                                                                                         | TSS_Pol2_RNAseq | TSS | 2 | chr1:827522-827523|chr1:827590-827591 |  64.46295000 | LINC00115|LINC01128 |\n",
       "| chr1:876474-878030  | ATAC                                                   | ATAC                                                                                                                                                                                                                                                                                                                                                                                                                | TSS_Pol2_RNAseq | TSS | 1 | chr1:876802-876803                    |   0.00788399 | FAM41C              |\n",
       "| chr1:958685-959974  | ATAC,ENCODE-E2G_Prediction,LMPRA,WSTARR                | ATAC,ENCODE-E2G_Prediction:KLHL17,ENCODE-E2G_Prediction:NOC2L,ENCODE-E2G_Prediction:PLEKHN1,ENCODE-E2G_Prediction:SAMD11,LMPRA_A,LMPRA_AB,WSTARR_A,WSTARR_AB                                                                                                                                                                                                                                                        | TSS_Pol2_RNAseq | TSS | 1 | chr1:959256-959257                    | 104.86600000 | NOC2L               |\n",
       "| chr1:960292-961635  | ATAC,ENCODE-E2G_Prediction,LMPRA,WSTARR                | ATAC,ENCODE-E2G_Prediction:KLHL17,ENCODE-E2G_Prediction:NOC2L,ENCODE-E2G_Prediction:PLEKHN1,LMPRA_A,LMPRA_AB,WSTARR_A                                                                                                                                                                                                                                                                                               | TSS_Pol2_RNAseq | TSS | 1 | chr1:960583-960584                    |   8.22571000 | KLHL17              |\n",
       "| chr1:998921-1001250 | ATAC,ENCODE-E2G_Prediction,WSTARR                      | ATAC,ENCODE-E2G_Prediction:AGRN,ENCODE-E2G_Prediction:CALML6,ENCODE-E2G_Prediction:FNDC10,ENCODE-E2G_Prediction:HES4,ENCODE-E2G_Prediction:ISG15,ENCODE-E2G_Prediction:LOC105378591,ENCODE-E2G_Prediction:PLEKHN1,ENCODE-E2G_Prediction:PRKCZ,ENCODE-E2G_Prediction:RNF223,ENCODE-E2G_Prediction:SAMD11,ENCODE-E2G_Prediction:SLC35E2B,ENCODE-E2G_Prediction:TAS1R3,ENCODE-E2G_Prediction:TTLL10,WSTARR_A,WSTARR_AB | TSS_Pol2_RNAseq | TSS | 1 | chr1:1000097-1000098                  |  50.58140000 | HES4                |\n",
       "\n"
      ],
      "text/plain": [
       "  Peak                Assay_Type                                            \n",
       "1 chr1:28903-29613    ATAC                                                  \n",
       "2 chr1:826642-828040  ATAC,CRISPRi-Growth,ENCODE-E2G_Prediction,LMPRA,WSTARR\n",
       "3 chr1:876474-878030  ATAC                                                  \n",
       "4 chr1:958685-959974  ATAC,ENCODE-E2G_Prediction,LMPRA,WSTARR               \n",
       "5 chr1:960292-961635  ATAC,ENCODE-E2G_Prediction,LMPRA,WSTARR               \n",
       "6 chr1:998921-1001250 ATAC,ENCODE-E2G_Prediction,WSTARR                     \n",
       "  Assay_Label                                                                                                                                                                                                                                                                                                                                                                                                        \n",
       "1 ATAC                                                                                                                                                                                                                                                                                                                                                                                                               \n",
       "2 ATAC,CRISPRi-Growth,ENCODE-E2G_Prediction:FAM87B,ENCODE-E2G_Prediction:LINC00115,ENCODE-E2G_Prediction:LINC01128,ENCODE-E2G_Prediction:LOC100288069,ENCODE-E2G_Prediction:SAMD11,LMPRA_A,WSTARR_A,WSTARR_AB                                                                                                                                                                                                        \n",
       "3 ATAC                                                                                                                                                                                                                                                                                                                                                                                                               \n",
       "4 ATAC,ENCODE-E2G_Prediction:KLHL17,ENCODE-E2G_Prediction:NOC2L,ENCODE-E2G_Prediction:PLEKHN1,ENCODE-E2G_Prediction:SAMD11,LMPRA_A,LMPRA_AB,WSTARR_A,WSTARR_AB                                                                                                                                                                                                                                                       \n",
       "5 ATAC,ENCODE-E2G_Prediction:KLHL17,ENCODE-E2G_Prediction:NOC2L,ENCODE-E2G_Prediction:PLEKHN1,LMPRA_A,LMPRA_AB,WSTARR_A                                                                                                                                                                                                                                                                                              \n",
       "6 ATAC,ENCODE-E2G_Prediction:AGRN,ENCODE-E2G_Prediction:CALML6,ENCODE-E2G_Prediction:FNDC10,ENCODE-E2G_Prediction:HES4,ENCODE-E2G_Prediction:ISG15,ENCODE-E2G_Prediction:LOC105378591,ENCODE-E2G_Prediction:PLEKHN1,ENCODE-E2G_Prediction:PRKCZ,ENCODE-E2G_Prediction:RNF223,ENCODE-E2G_Prediction:SAMD11,ENCODE-E2G_Prediction:SLC35E2B,ENCODE-E2G_Prediction:TAS1R3,ENCODE-E2G_Prediction:TTLL10,WSTARR_A,WSTARR_AB\n",
       "  Annotation      Label Count Region                               \n",
       "1 TSS_Pol2_RNAseq TSS   1     chr1:29370-29371                     \n",
       "2 TSS_Pol2_RNAseq TSS   2     chr1:827522-827523|chr1:827590-827591\n",
       "3 TSS_Pol2_RNAseq TSS   1     chr1:876802-876803                   \n",
       "4 TSS_Pol2_RNAseq TSS   1     chr1:959256-959257                   \n",
       "5 TSS_Pol2_RNAseq TSS   1     chr1:960583-960584                   \n",
       "6 TSS_Pol2_RNAseq TSS   1     chr1:1000097-1000098                 \n",
       "  Score        Note               \n",
       "1   0.00023000 WASH7P             \n",
       "2  64.46295000 LINC00115|LINC01128\n",
       "3   0.00788399 FAM41C             \n",
       "4 104.86600000 NOC2L              \n",
       "5   8.22571000 KLHL17             \n",
       "6  50.58140000 HES4               "
      ]
     },
     "metadata": {},
     "output_type": "display_data"
    }
   ],
   "source": [
    "fdiry = file.path(\n",
    "    FD_RES, \n",
    "    \"results\", \n",
    "    \"region\", \n",
    "    \"annotation_enhancer_merge\",\n",
    "    FOLDER_REG,\n",
    "    \"summary\")\n",
    "fname = \"peak.summary.TSS_Pol2_RNAseq.tsv\"\n",
    "fpath = file.path(fdiry, fname)\n",
    "\n",
    "dat = read_tsv(fpath, show_col_types = FALSE)\n",
    "\n",
    "dat_peak_annot_summary = dat\n",
    "print(dim(dat))\n",
    "head(dat)"
   ]
  },
  {
   "cell_type": "code",
   "execution_count": 14,
   "metadata": {},
   "outputs": [
    {
     "name": "stdout",
     "output_type": "stream",
     "text": [
      "[1] 472141      4\n"
     ]
    }
   ],
   "source": [
    "dat = dat_peak_total\n",
    "dat = dat %>% dplyr::select(Chrom, Start, End, Assay_Type) %>% dplyr::distinct()\n",
    "print(dim(dat))"
   ]
  },
  {
   "cell_type": "code",
   "execution_count": 26,
   "metadata": {},
   "outputs": [
    {
     "name": "stdout",
     "output_type": "stream",
     "text": [
      "[1] 303293      6\n"
     ]
    },
    {
     "data": {
      "text/html": [
       "<table class=\"dataframe\">\n",
       "<caption>A tibble: 6 × 6</caption>\n",
       "<thead>\n",
       "\t<tr><th scope=col>Chrom</th><th scope=col>Start</th><th scope=col>End</th><th scope=col>Assay_Type</th><th scope=col>Assay_Label</th><th scope=col>Peak</th></tr>\n",
       "\t<tr><th scope=col>&lt;chr&gt;</th><th scope=col>&lt;dbl&gt;</th><th scope=col>&lt;dbl&gt;</th><th scope=col>&lt;chr&gt;</th><th scope=col>&lt;chr&gt;</th><th scope=col>&lt;chr&gt;</th></tr>\n",
       "</thead>\n",
       "<tbody>\n",
       "\t<tr><td>chr1</td><td>10015</td><td>10442</td><td>ATAC</td><td>ATAC</td><td>chr1:10015-10442</td></tr>\n",
       "\t<tr><td>chr1</td><td>14253</td><td>14645</td><td>ATAC</td><td>ATAC</td><td>chr1:14253-14645</td></tr>\n",
       "\t<tr><td>chr1</td><td>16015</td><td>16477</td><td>ATAC</td><td>ATAC</td><td>chr1:16015-16477</td></tr>\n",
       "\t<tr><td>chr1</td><td>17237</td><td>17772</td><td>ATAC</td><td>ATAC</td><td>chr1:17237-17772</td></tr>\n",
       "\t<tr><td>chr1</td><td>28903</td><td>29613</td><td>ATAC</td><td>ATAC</td><td>chr1:28903-29613</td></tr>\n",
       "\t<tr><td>chr1</td><td>30803</td><td>31072</td><td>ATAC</td><td>ATAC</td><td>chr1:30803-31072</td></tr>\n",
       "</tbody>\n",
       "</table>\n"
      ],
      "text/latex": [
       "A tibble: 6 × 6\n",
       "\\begin{tabular}{llllll}\n",
       " Chrom & Start & End & Assay\\_Type & Assay\\_Label & Peak\\\\\n",
       " <chr> & <dbl> & <dbl> & <chr> & <chr> & <chr>\\\\\n",
       "\\hline\n",
       "\t chr1 & 10015 & 10442 & ATAC & ATAC & chr1:10015-10442\\\\\n",
       "\t chr1 & 14253 & 14645 & ATAC & ATAC & chr1:14253-14645\\\\\n",
       "\t chr1 & 16015 & 16477 & ATAC & ATAC & chr1:16015-16477\\\\\n",
       "\t chr1 & 17237 & 17772 & ATAC & ATAC & chr1:17237-17772\\\\\n",
       "\t chr1 & 28903 & 29613 & ATAC & ATAC & chr1:28903-29613\\\\\n",
       "\t chr1 & 30803 & 31072 & ATAC & ATAC & chr1:30803-31072\\\\\n",
       "\\end{tabular}\n"
      ],
      "text/markdown": [
       "\n",
       "A tibble: 6 × 6\n",
       "\n",
       "| Chrom &lt;chr&gt; | Start &lt;dbl&gt; | End &lt;dbl&gt; | Assay_Type &lt;chr&gt; | Assay_Label &lt;chr&gt; | Peak &lt;chr&gt; |\n",
       "|---|---|---|---|---|---|\n",
       "| chr1 | 10015 | 10442 | ATAC | ATAC | chr1:10015-10442 |\n",
       "| chr1 | 14253 | 14645 | ATAC | ATAC | chr1:14253-14645 |\n",
       "| chr1 | 16015 | 16477 | ATAC | ATAC | chr1:16015-16477 |\n",
       "| chr1 | 17237 | 17772 | ATAC | ATAC | chr1:17237-17772 |\n",
       "| chr1 | 28903 | 29613 | ATAC | ATAC | chr1:28903-29613 |\n",
       "| chr1 | 30803 | 31072 | ATAC | ATAC | chr1:30803-31072 |\n",
       "\n"
      ],
      "text/plain": [
       "  Chrom Start End   Assay_Type Assay_Label Peak            \n",
       "1 chr1  10015 10442 ATAC       ATAC        chr1:10015-10442\n",
       "2 chr1  14253 14645 ATAC       ATAC        chr1:14253-14645\n",
       "3 chr1  16015 16477 ATAC       ATAC        chr1:16015-16477\n",
       "4 chr1  17237 17772 ATAC       ATAC        chr1:17237-17772\n",
       "5 chr1  28903 29613 ATAC       ATAC        chr1:28903-29613\n",
       "6 chr1  30803 31072 ATAC       ATAC        chr1:30803-31072"
      ]
     },
     "metadata": {},
     "output_type": "display_data"
    }
   ],
   "source": [
    "fdiry = file.path(\n",
    "    FD_RES, \n",
    "    \"results\", \n",
    "    \"region\", \n",
    "    \"annotation_enhancer_merge\")\n",
    "fname = \"enhancer_merge.concat.starrmpra_crispr_atac.active.merge.bed.gz\"\n",
    "fpath = file.path(fdiry, fname)\n",
    "\n",
    "cnames = c(\"Chrom\", \"Start\", \"End\", \"Assay_Type\", \"Assay_Label\")\n",
    "dat = read_tsv(fpath, col_names = cnames, show_col_types = FALSE)\n",
    "dat = dat %>% dplyr::mutate(Peak = paste0(Chrom, \":\", Start, \"-\", End))\n",
    "\n",
    "dat_peak_total = dat\n",
    "print(dim(dat))\n",
    "head(dat)"
   ]
  },
  {
   "cell_type": "code",
   "execution_count": 27,
   "metadata": {},
   "outputs": [
    {
     "name": "stdout",
     "output_type": "stream",
     "text": [
      "[1] 303293      6\n"
     ]
    }
   ],
   "source": [
    "dat = dat_peak_total\n",
    "dat = dat %>% dplyr::distinct()\n",
    "print(dim(dat))"
   ]
  },
  {
   "cell_type": "code",
   "execution_count": 28,
   "metadata": {},
   "outputs": [
    {
     "name": "stdout",
     "output_type": "stream",
     "text": [
      "[1] 303293      3\n"
     ]
    }
   ],
   "source": [
    "dat = dat_peak_total\n",
    "dat = dat %>% dplyr::select(Chrom, Start, End) %>% dplyr::distinct()\n",
    "print(dim(dat))"
   ]
  },
  {
   "cell_type": "code",
   "execution_count": null,
   "metadata": {},
   "outputs": [],
   "source": []
  },
  {
   "cell_type": "code",
   "execution_count": 30,
   "metadata": {},
   "outputs": [
    {
     "name": "stdout",
     "output_type": "stream",
     "text": [
      "[1] \"ASTARR\"                \"ATAC\"                  \"CRISPRi-Growth\"       \n",
      "[4] \"CRISPRi-HCRFF\"         \"ENCODE-E2G_Benchmark\"  \"ENCODE-E2G_Prediction\"\n",
      "[7] \"LMPRA\"                 \"TMPRA\"                 \"WSTARR\"               \n"
     ]
    }
   ],
   "source": [
    "dat = dat_peak_annot_summary\n",
    "dat = dat %>% tidyr::separate_longer_delim(Assay_Type, \",\")\n",
    "\n",
    "lst = split(dat$Peak, dat$Assay_Type)\n",
    "lst = lapply(lst, unique)\n",
    "\n",
    "lst_txt_peak_annot = lst\n",
    "print(names(lst))"
   ]
  },
  {
   "cell_type": "code",
   "execution_count": 31,
   "metadata": {},
   "outputs": [
    {
     "name": "stdout",
     "output_type": "stream",
     "text": [
      "[1] \"ASTARR\"                \"ATAC\"                  \"CRISPRi-Growth\"       \n",
      "[4] \"CRISPRi-HCRFF\"         \"ENCODE-E2G_Benchmark\"  \"ENCODE-E2G_Prediction\"\n",
      "[7] \"LMPRA\"                 \"TMPRA\"                 \"WSTARR\"               \n"
     ]
    }
   ],
   "source": [
    "dat = dat_peak_total\n",
    "dat = dat %>% tidyr::separate_longer_delim(Assay_Type, \",\")\n",
    "\n",
    "lst = split(dat$Peak, dat$Assay_Type)\n",
    "lst = lapply(lst, unique)\n",
    "\n",
    "lst_txt_peak_total = lst\n",
    "print(names(lst))"
   ]
  },
  {
   "cell_type": "code",
   "execution_count": 39,
   "metadata": {},
   "outputs": [
    {
     "data": {
      "text/html": [
       "<table class=\"dataframe\">\n",
       "<caption>A tibble: 9 × 7</caption>\n",
       "<thead>\n",
       "\t<tr><th scope=col>Assay</th><th scope=col>Count_TSS</th><th scope=col>Count_Total</th><th scope=col>Freq_TSS</th><th scope=col>Check</th><th scope=col>Count_Label</th><th scope=col>Assay_Label</th></tr>\n",
       "\t<tr><th scope=col>&lt;chr&gt;</th><th scope=col>&lt;int&gt;</th><th scope=col>&lt;int&gt;</th><th scope=col>&lt;dbl&gt;</th><th scope=col>&lt;lgl&gt;</th><th scope=col>&lt;chr&gt;</th><th scope=col>&lt;chr&gt;</th></tr>\n",
       "</thead>\n",
       "<tbody>\n",
       "\t<tr><td>ASTARR               </td><td>1787</td><td>  8539</td><td>0.20927509</td><td>TRUE</td><td>9K  </td><td>ASTARR (9K)                </td></tr>\n",
       "\t<tr><td>ATAC                 </td><td>9867</td><td>247249</td><td>0.03990714</td><td>TRUE</td><td>247K</td><td>ATAC (247K)                </td></tr>\n",
       "\t<tr><td>CRISPRi-Growth       </td><td>1532</td><td>  6169</td><td>0.24833847</td><td>TRUE</td><td>6K  </td><td>CRISPRi-Growth (6K)        </td></tr>\n",
       "\t<tr><td>CRISPRi-HCRFF        </td><td>  19</td><td>    75</td><td>0.25333333</td><td>TRUE</td><td>75  </td><td>CRISPRi-HCRFF (75)         </td></tr>\n",
       "\t<tr><td>ENCODE-E2G_Benchmark </td><td>   7</td><td>   381</td><td>0.01837270</td><td>TRUE</td><td>381 </td><td>ENCODE-E2G_Benchmark (381) </td></tr>\n",
       "\t<tr><td>ENCODE-E2G_Prediction</td><td>9614</td><td> 45429</td><td>0.21162693</td><td>TRUE</td><td>45K </td><td>ENCODE-E2G_Prediction (45K)</td></tr>\n",
       "\t<tr><td>LMPRA                </td><td>5782</td><td> 37633</td><td>0.15364175</td><td>TRUE</td><td>38K </td><td>LMPRA (38K)                </td></tr>\n",
       "\t<tr><td>TMPRA                </td><td> 119</td><td>  7538</td><td>0.01578668</td><td>TRUE</td><td>8K  </td><td>TMPRA (8K)                 </td></tr>\n",
       "\t<tr><td>WSTARR               </td><td>7811</td><td> 71498</td><td>0.10924781</td><td>TRUE</td><td>71K </td><td>WSTARR (71K)               </td></tr>\n",
       "</tbody>\n",
       "</table>\n"
      ],
      "text/latex": [
       "A tibble: 9 × 7\n",
       "\\begin{tabular}{lllllll}\n",
       " Assay & Count\\_TSS & Count\\_Total & Freq\\_TSS & Check & Count\\_Label & Assay\\_Label\\\\\n",
       " <chr> & <int> & <int> & <dbl> & <lgl> & <chr> & <chr>\\\\\n",
       "\\hline\n",
       "\t ASTARR                & 1787 &   8539 & 0.20927509 & TRUE & 9K   & ASTARR (9K)                \\\\\n",
       "\t ATAC                  & 9867 & 247249 & 0.03990714 & TRUE & 247K & ATAC (247K)                \\\\\n",
       "\t CRISPRi-Growth        & 1532 &   6169 & 0.24833847 & TRUE & 6K   & CRISPRi-Growth (6K)        \\\\\n",
       "\t CRISPRi-HCRFF         &   19 &     75 & 0.25333333 & TRUE & 75   & CRISPRi-HCRFF (75)         \\\\\n",
       "\t ENCODE-E2G\\_Benchmark  &    7 &    381 & 0.01837270 & TRUE & 381  & ENCODE-E2G\\_Benchmark (381) \\\\\n",
       "\t ENCODE-E2G\\_Prediction & 9614 &  45429 & 0.21162693 & TRUE & 45K  & ENCODE-E2G\\_Prediction (45K)\\\\\n",
       "\t LMPRA                 & 5782 &  37633 & 0.15364175 & TRUE & 38K  & LMPRA (38K)                \\\\\n",
       "\t TMPRA                 &  119 &   7538 & 0.01578668 & TRUE & 8K   & TMPRA (8K)                 \\\\\n",
       "\t WSTARR                & 7811 &  71498 & 0.10924781 & TRUE & 71K  & WSTARR (71K)               \\\\\n",
       "\\end{tabular}\n"
      ],
      "text/markdown": [
       "\n",
       "A tibble: 9 × 7\n",
       "\n",
       "| Assay &lt;chr&gt; | Count_TSS &lt;int&gt; | Count_Total &lt;int&gt; | Freq_TSS &lt;dbl&gt; | Check &lt;lgl&gt; | Count_Label &lt;chr&gt; | Assay_Label &lt;chr&gt; |\n",
       "|---|---|---|---|---|---|---|\n",
       "| ASTARR                | 1787 |   8539 | 0.20927509 | TRUE | 9K   | ASTARR (9K)                 |\n",
       "| ATAC                  | 9867 | 247249 | 0.03990714 | TRUE | 247K | ATAC (247K)                 |\n",
       "| CRISPRi-Growth        | 1532 |   6169 | 0.24833847 | TRUE | 6K   | CRISPRi-Growth (6K)         |\n",
       "| CRISPRi-HCRFF         |   19 |     75 | 0.25333333 | TRUE | 75   | CRISPRi-HCRFF (75)          |\n",
       "| ENCODE-E2G_Benchmark  |    7 |    381 | 0.01837270 | TRUE | 381  | ENCODE-E2G_Benchmark (381)  |\n",
       "| ENCODE-E2G_Prediction | 9614 |  45429 | 0.21162693 | TRUE | 45K  | ENCODE-E2G_Prediction (45K) |\n",
       "| LMPRA                 | 5782 |  37633 | 0.15364175 | TRUE | 38K  | LMPRA (38K)                 |\n",
       "| TMPRA                 |  119 |   7538 | 0.01578668 | TRUE | 8K   | TMPRA (8K)                  |\n",
       "| WSTARR                | 7811 |  71498 | 0.10924781 | TRUE | 71K  | WSTARR (71K)                |\n",
       "\n"
      ],
      "text/plain": [
       "  Assay                 Count_TSS Count_Total Freq_TSS   Check Count_Label\n",
       "1 ASTARR                1787        8539      0.20927509 TRUE  9K         \n",
       "2 ATAC                  9867      247249      0.03990714 TRUE  247K       \n",
       "3 CRISPRi-Growth        1532        6169      0.24833847 TRUE  6K         \n",
       "4 CRISPRi-HCRFF           19          75      0.25333333 TRUE  75         \n",
       "5 ENCODE-E2G_Benchmark     7         381      0.01837270 TRUE  381        \n",
       "6 ENCODE-E2G_Prediction 9614       45429      0.21162693 TRUE  45K        \n",
       "7 LMPRA                 5782       37633      0.15364175 TRUE  38K        \n",
       "8 TMPRA                  119        7538      0.01578668 TRUE  8K         \n",
       "9 WSTARR                7811       71498      0.10924781 TRUE  71K        \n",
       "  Assay_Label                \n",
       "1 ASTARR (9K)                \n",
       "2 ATAC (247K)                \n",
       "3 CRISPRi-Growth (6K)        \n",
       "4 CRISPRi-HCRFF (75)         \n",
       "5 ENCODE-E2G_Benchmark (381) \n",
       "6 ENCODE-E2G_Prediction (45K)\n",
       "7 LMPRA (38K)                \n",
       "8 TMPRA (8K)                 \n",
       "9 WSTARR (71K)               "
      ]
     },
     "metadata": {},
     "output_type": "display_data"
    }
   ],
   "source": [
    "###\n",
    "lst1 = lst_txt_peak_annot\n",
    "lst2 = lst_txt_peak_total\n",
    "vec  = names(lst1)\n",
    "names(vec) = vec\n",
    "vec_txt_assay = vec\n",
    "\n",
    "###\n",
    "lst = lapply(vec_txt_assay, function(txt_assay){\n",
    "    vec1 = lst1[[txt_assay]]\n",
    "    vec2 = lst2[[txt_assay]]\n",
    "    vec  = vec1 %in% vec2\n",
    "    res  = list(length(vec1), length(vec2), length(vec1)/length(vec2), all(vec))\n",
    "    names(res) = c(\"Count_TSS\", \"Count_Total\", \"Freq_TSS\", \"Check\")\n",
    "    return(res)\n",
    "})\n",
    "\n",
    "###\n",
    "dat = bind_rows(lst, .id=\"Assay\")\n",
    "dat = dat %>% \n",
    "    dplyr::mutate(\n",
    "        Count_Label = ifelse(\n",
    "            Count_Total > 1000, \n",
    "            paste0(round(Count_Total / 1000), \"K\"),\n",
    "            Count_Total\n",
    "        )\n",
    "    ) %>%\n",
    "    dplyr::mutate(\n",
    "        Assay_Label = paste0(Assay, \" (\", Count_Label, \")\")\n",
    "    )\n",
    "\n",
    "###\n",
    "dat_peak_isTSS = dat\n",
    "dat"
   ]
  },
  {
   "cell_type": "code",
   "execution_count": 40,
   "metadata": {},
   "outputs": [
    {
     "data": {
      "image/png": "[encoded data removed]",
      "text/plain": [
       "plot without title"
      ]
     },
     "metadata": {
      "image/png": {
       "height": 360,
       "width": 600
      }
     },
     "output_type": "display_data"
    }
   ],
   "source": [
    "dat = dat_peak_isTSS\n",
    "dat = dat %>% \n",
    "    dplyr::arrange(Freq_TSS) %>%\n",
    "    dplyr::mutate(Assay_Label = factor(Assay_Label, levels=Assay_Label))\n",
    "\n",
    "gpt = ggplot(dat, aes(x=Freq_TSS, y=Assay_Label)) + \n",
    "    geom_col() + \n",
    "    labs(x=\"Frequency of peaks with TSS\", y=\"Assays\") +\n",
    "    theme_cowplot()\n",
    "\n",
    "options(repr.plot.height=6, repr.plot.width=10)\n",
    "print(gpt)"
   ]
  },
  {
   "cell_type": "code",
   "execution_count": null,
   "metadata": {},
   "outputs": [],
   "source": []
  },
  {
   "cell_type": "code",
   "execution_count": null,
   "metadata": {},
   "outputs": [],
   "source": []
  },
  {
   "cell_type": "code",
   "execution_count": 8,
   "metadata": {},
   "outputs": [
    {
     "data": {
      "text/plain": [
       "\n",
       "   1    2    3    5    7 \n",
       "8864 1171   32    1    1 "
      ]
     },
     "metadata": {},
     "output_type": "display_data"
    }
   ],
   "source": [
    "dat = dat_peak_annot_summary\n",
    "table(dat$Count)"
   ]
  },
  {
   "cell_type": "code",
   "execution_count": 6,
   "metadata": {},
   "outputs": [
    {
     "name": "stdout",
     "output_type": "stream",
     "text": [
      "[1] 68  5\n"
     ]
    },
    {
     "data": {
      "text/html": [
       "<table class=\"dataframe\">\n",
       "<caption>A tibble: 6 × 5</caption>\n",
       "<thead>\n",
       "\t<tr><th scope=col>Label</th><th scope=col>Assay_Type</th><th scope=col>Count</th><th scope=col>Total</th><th scope=col>Freq</th></tr>\n",
       "\t<tr><th scope=col>&lt;chr&gt;</th><th scope=col>&lt;chr&gt;</th><th scope=col>&lt;dbl&gt;</th><th scope=col>&lt;dbl&gt;</th><th scope=col>&lt;dbl&gt;</th></tr>\n",
       "</thead>\n",
       "<tbody>\n",
       "\t<tr><td>CA-CTCF</td><td>ASTARR               </td><td>  324</td><td> 25733</td><td>0.012590837</td></tr>\n",
       "\t<tr><td>CA-CTCF</td><td>ATAC                 </td><td>23103</td><td>364867</td><td>0.063318963</td></tr>\n",
       "\t<tr><td>CA-CTCF</td><td>CRISPRi-Growth       </td><td> 1007</td><td> 16883</td><td>0.059645798</td></tr>\n",
       "\t<tr><td>CA-CTCF</td><td>ENCODE-E2G_Benchmark </td><td>    5</td><td>  1148</td><td>0.004355401</td></tr>\n",
       "\t<tr><td>CA-CTCF</td><td>ENCODE-E2G_Prediction</td><td> 5983</td><td>120622</td><td>0.049601234</td></tr>\n",
       "\t<tr><td>CA-CTCF</td><td>LMPRA                </td><td> 5918</td><td> 92588</td><td>0.063917570</td></tr>\n",
       "</tbody>\n",
       "</table>\n"
      ],
      "text/latex": [
       "A tibble: 6 × 5\n",
       "\\begin{tabular}{lllll}\n",
       " Label & Assay\\_Type & Count & Total & Freq\\\\\n",
       " <chr> & <chr> & <dbl> & <dbl> & <dbl>\\\\\n",
       "\\hline\n",
       "\t CA-CTCF & ASTARR                &   324 &  25733 & 0.012590837\\\\\n",
       "\t CA-CTCF & ATAC                  & 23103 & 364867 & 0.063318963\\\\\n",
       "\t CA-CTCF & CRISPRi-Growth        &  1007 &  16883 & 0.059645798\\\\\n",
       "\t CA-CTCF & ENCODE-E2G\\_Benchmark  &     5 &   1148 & 0.004355401\\\\\n",
       "\t CA-CTCF & ENCODE-E2G\\_Prediction &  5983 & 120622 & 0.049601234\\\\\n",
       "\t CA-CTCF & LMPRA                 &  5918 &  92588 & 0.063917570\\\\\n",
       "\\end{tabular}\n"
      ],
      "text/markdown": [
       "\n",
       "A tibble: 6 × 5\n",
       "\n",
       "| Label &lt;chr&gt; | Assay_Type &lt;chr&gt; | Count &lt;dbl&gt; | Total &lt;dbl&gt; | Freq &lt;dbl&gt; |\n",
       "|---|---|---|---|---|\n",
       "| CA-CTCF | ASTARR                |   324 |  25733 | 0.012590837 |\n",
       "| CA-CTCF | ATAC                  | 23103 | 364867 | 0.063318963 |\n",
       "| CA-CTCF | CRISPRi-Growth        |  1007 |  16883 | 0.059645798 |\n",
       "| CA-CTCF | ENCODE-E2G_Benchmark  |     5 |   1148 | 0.004355401 |\n",
       "| CA-CTCF | ENCODE-E2G_Prediction |  5983 | 120622 | 0.049601234 |\n",
       "| CA-CTCF | LMPRA                 |  5918 |  92588 | 0.063917570 |\n",
       "\n"
      ],
      "text/plain": [
       "  Label   Assay_Type            Count Total  Freq       \n",
       "1 CA-CTCF ASTARR                  324  25733 0.012590837\n",
       "2 CA-CTCF ATAC                  23103 364867 0.063318963\n",
       "3 CA-CTCF CRISPRi-Growth         1007  16883 0.059645798\n",
       "4 CA-CTCF ENCODE-E2G_Benchmark      5   1148 0.004355401\n",
       "5 CA-CTCF ENCODE-E2G_Prediction  5983 120622 0.049601234\n",
       "6 CA-CTCF LMPRA                  5918  92588 0.063917570"
      ]
     },
     "metadata": {},
     "output_type": "display_data"
    }
   ],
   "source": [
    "dat = dat_peak_annot_summary\n",
    "dat = dat %>% tidyr::separate_longer_delim(Assay_Type, \",\")\n",
    "\n",
    "### count each\n",
    "dat1 = dat %>%\n",
    "    dplyr::group_by(Label, Assay_Type) %>%\n",
    "    dplyr::summarise(Count = sum(Count), .groups = \"drop\")\n",
    "\n",
    "### count total\n",
    "dat2 = dat %>%\n",
    "    dplyr::group_by(Assay_Type) %>%\n",
    "    dplyr::summarise(Total = sum(Count), .groups = \"drop\")\n",
    "\n",
    "### merge\n",
    "dat = dat1 %>% \n",
    "    dplyr::left_join(dat2, by = \"Assay_Type\") %>%\n",
    "    dplyr::mutate(Freq = Count / Total)\n",
    "\n",
    "dat_ccre_count = dat\n",
    "print(dim(dat))\n",
    "head(dat)"
   ]
  },
  {
   "cell_type": "code",
   "execution_count": null,
   "metadata": {},
   "outputs": [],
   "source": [
    "dat = dat_ccre_count\n",
    "\n",
    "###\n",
    "vec = c(\n",
    "    \"ATAC\", \n",
    "    \"ASTARR\", \"WSTARR\", \"TMPRA\", \"LMPRA\", \n",
    "    \"CRISPRi-HCRFF\", \n",
    "    \"CRISPRi-Growth\", \n",
    "    \"ENCODE-E2G_Benchmark\",\n",
    "    \"ENCODE-E2G_Prediction\")\n",
    "\n",
    "dat = dat %>% dplyr::mutate(Assay_Type = factor(Assay_Type, levels=rev(vec)))\n",
    "\n",
    "###\n",
    "vec = c(\n",
    "    \"PLS\"        = \"#fb8072\", \n",
    "    \"pELS\"       = \"#fdb462\", \n",
    "    \"dELS\"       = \"#80b1d3\", \n",
    "    \"CA-TF\"      = \"#8dd3c7\", \n",
    "    \"CA-H3K4me3\" = \"#fee08b\",  \n",
    "    \"CA-CTCF\"    = \"#bebada\", \n",
    "    \"CA-only\"    = \"#fccde5\", \n",
    "    \"Low-DNase\"  = \"#d9d9d9\")\n",
    "theme_fill = scale_fill_manual(values = vec)\n",
    "\n",
    "gpt = ggplot(dat, aes(x=Assay_Type, y=Freq, fill=Label)) + \n",
    "    geom_col() +\n",
    "    labs(x=\"Assay\", y=\"Proportion\") +\n",
    "    coord_flip() +\n",
    "    theme_cowplot() +\n",
    "    theme_fill\n",
    "\n",
    "options(repr.plot.height=5, repr.plot.width=8)\n",
    "print(gpt)"
   ]
  },
  {
   "cell_type": "code",
   "execution_count": null,
   "metadata": {},
   "outputs": [],
   "source": []
  },
  {
   "cell_type": "code",
   "execution_count": null,
   "metadata": {},
   "outputs": [],
   "source": []
  },
  {
   "cell_type": "code",
   "execution_count": 16,
   "metadata": {},
   "outputs": [
    {
     "data": {
      "image/png": "[encoded data removed]",
      "text/plain": [
       "plot without title"
      ]
     },
     "metadata": {
      "image/png": {
       "height": 300,
       "width": 480
      }
     },
     "output_type": "display_data"
    }
   ],
   "source": [
    "dat = dat_ccre_count\n",
    "\n",
    "###\n",
    "vec = c(\n",
    "    \"ATAC\", \n",
    "    \"ASTARR\", \"WSTARR\", \"TMPRA\", \"LMPRA\", \n",
    "    \"CRISPRi-HCRFF\", \n",
    "    \"CRISPRi-Growth\", \n",
    "    \"ENCODE-E2G_Benchmark\",\n",
    "    \"ENCODE-E2G_Prediction\")\n",
    "\n",
    "dat = dat %>% dplyr::mutate(Assay_Type = factor(Assay_Type, levels=rev(vec)))\n",
    "\n",
    "###\n",
    "vec = c(\n",
    "    \"PLS\"        = \"#fb8072\", \n",
    "    \"pELS\"       = \"#fdb462\", \n",
    "    \"dELS\"       = \"#80b1d3\", \n",
    "    \"CA-TF\"      = \"#8dd3c7\", \n",
    "    \"CA-H3K4me3\" = \"#fee08b\",  \n",
    "    \"CA-CTCF\"    = \"#bebada\", \n",
    "    \"CA-only\"    = \"#fccde5\", \n",
    "    \"Low-DNase\"  = \"#d9d9d9\")\n",
    "theme_fill = scale_fill_manual(values = vec)\n",
    "\n",
    "gpt = ggplot(dat, aes(x=Assay_Type, y=Freq, fill=Label)) + \n",
    "    geom_col() +\n",
    "    labs(x=\"Assay\", y=\"Proportion\") +\n",
    "    coord_flip() +\n",
    "    theme_cowplot() +\n",
    "    theme_fill\n",
    "\n",
    "options(repr.plot.height=5, repr.plot.width=8)\n",
    "print(gpt)"
   ]
  },
  {
   "cell_type": "code",
   "execution_count": null,
   "metadata": {},
   "outputs": [],
   "source": []
  }
 ],
 "metadata": {
  "kernelspec": {
   "display_name": "R",
   "language": "R",
   "name": "ir"
  },
  "language_info": {
   "codemirror_mode": "r",
   "file_extension": ".r",
   "mimetype": "text/x-r-source",
   "name": "R",
   "pygments_lexer": "r",
   "version": "4.3.0"
  }
 },
 "nbformat": 4,
 "nbformat_minor": 4
}
