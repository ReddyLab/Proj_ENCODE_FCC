{
 "cells": [
  {
   "cell_type": "code",
   "execution_count": 1,
   "id": "005192a7-9ed4-497c-8d51-92c45a0473c3",
   "metadata": {},
   "outputs": [
    {
     "name": "stdout",
     "output_type": "stream",
     "text": [
      "You are in Singularity: singularity_proj_encode_fcc \n",
      "BASE DIRECTORY (FD_BASE): /data/reddylab/Kuei \n",
      "WORK DIRECTORY (FD_WORK): /data/reddylab/Kuei/out \n",
      "CODE DIRECTORY (FD_CODE): /data/reddylab/Kuei/code \n",
      "PATH OF PROJECT (FD_PRJ): /data/reddylab/Kuei/code/Proj_CombEffect_ENCODE_FCC \n",
      "PATH OF RESULTS (FD_RES): /data/reddylab/Kuei/out/proj_combeffect_encode_fcc \n",
      "PATH OF LOG     (FD_LOG): /data/reddylab/Kuei/out/proj_combeffect_encode_fcc/log \n"
     ]
    }
   ],
   "source": [
    "suppressMessages(suppressWarnings(source(\"../config/config_sing.R\")))\n",
    "show_env()"
   ]
  },
  {
   "cell_type": "code",
   "execution_count": 11,
   "id": "44b3aacd-5bc7-459b-bea5-142e68a810e1",
   "metadata": {},
   "outputs": [
    {
     "name": "stderr",
     "output_type": "stream",
     "text": [
      "Loading required package: stats4\n",
      "\n",
      "Loading required package: BiocGenerics\n",
      "\n",
      "\n",
      "Attaching package: ‘BiocGenerics’\n",
      "\n",
      "\n",
      "The following object is masked from ‘package:gridExtra’:\n",
      "\n",
      "    combine\n",
      "\n",
      "\n",
      "The following objects are masked from ‘package:lubridate’:\n",
      "\n",
      "    intersect, setdiff, union\n",
      "\n",
      "\n",
      "The following objects are masked from ‘package:dplyr’:\n",
      "\n",
      "    combine, intersect, setdiff, union\n",
      "\n",
      "\n",
      "The following objects are masked from ‘package:stats’:\n",
      "\n",
      "    IQR, mad, sd, var, xtabs\n",
      "\n",
      "\n",
      "The following objects are masked from ‘package:base’:\n",
      "\n",
      "    anyDuplicated, aperm, append, as.data.frame, basename, cbind,\n",
      "    colnames, dirname, do.call, duplicated, eval, evalq, Filter, Find,\n",
      "    get, grep, grepl, intersect, is.unsorted, lapply, Map, mapply,\n",
      "    match, mget, order, paste, pmax, pmax.int, pmin, pmin.int,\n",
      "    Position, rank, rbind, Reduce, rownames, sapply, setdiff, sort,\n",
      "    table, tapply, union, unique, unsplit, which.max, which.min\n",
      "\n",
      "\n",
      "Loading required package: S4Vectors\n",
      "\n",
      "\n",
      "Attaching package: ‘S4Vectors’\n",
      "\n",
      "\n",
      "The following objects are masked from ‘package:lubridate’:\n",
      "\n",
      "    second, second<-\n",
      "\n",
      "\n",
      "The following objects are masked from ‘package:dplyr’:\n",
      "\n",
      "    first, rename\n",
      "\n",
      "\n",
      "The following object is masked from ‘package:tidyr’:\n",
      "\n",
      "    expand\n",
      "\n",
      "\n",
      "The following object is masked from ‘package:utils’:\n",
      "\n",
      "    findMatches\n",
      "\n",
      "\n",
      "The following objects are masked from ‘package:base’:\n",
      "\n",
      "    expand.grid, I, unname\n",
      "\n",
      "\n",
      "Loading required package: IRanges\n",
      "\n",
      "\n",
      "Attaching package: ‘IRanges’\n",
      "\n",
      "\n",
      "The following object is masked from ‘package:lubridate’:\n",
      "\n",
      "    %within%\n",
      "\n",
      "\n",
      "The following objects are masked from ‘package:dplyr’:\n",
      "\n",
      "    collapse, desc, slice\n",
      "\n",
      "\n",
      "The following object is masked from ‘package:purrr’:\n",
      "\n",
      "    reduce\n",
      "\n",
      "\n",
      "Loading required package: GenomeInfoDb\n",
      "\n"
     ]
    }
   ],
   "source": [
    "library(GenomicRanges)"
   ]
  },
  {
   "cell_type": "code",
   "execution_count": 4,
   "id": "437ebaac-333a-4c51-941a-fff14cb1a3dc",
   "metadata": {},
   "outputs": [
    {
     "data": {
      "text/html": [
       "<table class=\"dataframe\">\n",
       "<caption>A spec_tbl_df: 11 × 2</caption>\n",
       "<thead>\n",
       "\t<tr><th scope=col>Name</th><th scope=col>Description</th></tr>\n",
       "\t<tr><th scope=col>&lt;chr&gt;</th><th scope=col>&lt;chr&gt;</th></tr>\n",
       "</thead>\n",
       "<tbody>\n",
       "\t<tr><td>Chrom     </td><td>Chromosome                                                 </td></tr>\n",
       "\t<tr><td>Start     </td><td>Start position                                             </td></tr>\n",
       "\t<tr><td>End       </td><td>End position                                               </td></tr>\n",
       "\t<tr><td>Name      </td><td>Name                                                       </td></tr>\n",
       "\t<tr><td>Score     </td><td>Score                                                      </td></tr>\n",
       "\t<tr><td>Strand    </td><td>[+-.]; Use '.' if no strand is assigned.                   </td></tr>\n",
       "\t<tr><td>ThickStart</td><td>The starting position at which the feature is drawn thickly</td></tr>\n",
       "\t<tr><td>ThickEnd  </td><td>The ending position at which the feature is drawn thickly  </td></tr>\n",
       "\t<tr><td>ItemRgb   </td><td>An RGB value of the form R,G,B (e.g. 255,0,0)              </td></tr>\n",
       "\t<tr><td>Category  </td><td>Label of cCREs type                                        </td></tr>\n",
       "\t<tr><td>Note      </td><td>Description                                                </td></tr>\n",
       "</tbody>\n",
       "</table>\n"
      ],
      "text/latex": [
       "A spec\\_tbl\\_df: 11 × 2\n",
       "\\begin{tabular}{ll}\n",
       " Name & Description\\\\\n",
       " <chr> & <chr>\\\\\n",
       "\\hline\n",
       "\t Chrom      & Chromosome                                                 \\\\\n",
       "\t Start      & Start position                                             \\\\\n",
       "\t End        & End position                                               \\\\\n",
       "\t Name       & Name                                                       \\\\\n",
       "\t Score      & Score                                                      \\\\\n",
       "\t Strand     & {[}+-.{]}; Use '.' if no strand is assigned.                   \\\\\n",
       "\t ThickStart & The starting position at which the feature is drawn thickly\\\\\n",
       "\t ThickEnd   & The ending position at which the feature is drawn thickly  \\\\\n",
       "\t ItemRgb    & An RGB value of the form R,G,B (e.g. 255,0,0)              \\\\\n",
       "\t Category   & Label of cCREs type                                        \\\\\n",
       "\t Note       & Description                                                \\\\\n",
       "\\end{tabular}\n"
      ],
      "text/markdown": [
       "\n",
       "A spec_tbl_df: 11 × 2\n",
       "\n",
       "| Name &lt;chr&gt; | Description &lt;chr&gt; |\n",
       "|---|---|\n",
       "| Chrom      | Chromosome                                                  |\n",
       "| Start      | Start position                                              |\n",
       "| End        | End position                                                |\n",
       "| Name       | Name                                                        |\n",
       "| Score      | Score                                                       |\n",
       "| Strand     | [+-.]; Use '.' if no strand is assigned.                    |\n",
       "| ThickStart | The starting position at which the feature is drawn thickly |\n",
       "| ThickEnd   | The ending position at which the feature is drawn thickly   |\n",
       "| ItemRgb    | An RGB value of the form R,G,B (e.g. 255,0,0)               |\n",
       "| Category   | Label of cCREs type                                         |\n",
       "| Note       | Description                                                 |\n",
       "\n"
      ],
      "text/plain": [
       "   Name       Description                                                \n",
       "1  Chrom      Chromosome                                                 \n",
       "2  Start      Start position                                             \n",
       "3  End        End position                                               \n",
       "4  Name       Name                                                       \n",
       "5  Score      Score                                                      \n",
       "6  Strand     [+-.]; Use '.' if no strand is assigned.                   \n",
       "7  ThickStart The starting position at which the feature is drawn thickly\n",
       "8  ThickEnd   The ending position at which the feature is drawn thickly  \n",
       "9  ItemRgb    An RGB value of the form R,G,B (e.g. 255,0,0)              \n",
       "10 Category   Label of cCREs type                                        \n",
       "11 Note       Description                                                "
      ]
     },
     "metadata": {},
     "output_type": "display_data"
    }
   ],
   "source": [
    "fdiry = file.path(FD_RES, \"results\", \"region\", \"annotation_ccres\")\n",
    "fname = \"description.tsv\"\n",
    "fpath = file.path(fdiry, fname)\n",
    "\n",
    "dat = read_tsv(fpath, show_col_types = FALSE)\n",
    "vec = dat$Name\n",
    "\n",
    "### assign and show\n",
    "vec_txt_cnames = vec\n",
    "dat"
   ]
  },
  {
   "cell_type": "code",
   "execution_count": 5,
   "id": "e324d2a6-5cd4-42c6-a111-6f52516fc2dc",
   "metadata": {},
   "outputs": [
    {
     "name": "stderr",
     "output_type": "stream",
     "text": [
      "\u001b[1mRows: \u001b[22m\u001b[34m2348854\u001b[39m \u001b[1mColumns: \u001b[22m\u001b[34m11\u001b[39m\n",
      "\u001b[36m──\u001b[39m \u001b[1mColumn specification\u001b[22m \u001b[36m──────────────────────────────────────────────────────────────────────\u001b[39m\n",
      "\u001b[1mDelimiter:\u001b[22m \"\\t\"\n",
      "\u001b[31mchr\u001b[39m (6): Chrom, Name, Strand, ItemRgb, Category, Note\n",
      "\u001b[32mdbl\u001b[39m (5): Start, End, Score, ThickStart, ThickEnd\n",
      "\n",
      "\u001b[36mℹ\u001b[39m Use `spec()` to retrieve the full column specification for this data.\n",
      "\u001b[36mℹ\u001b[39m Specify the column types or set `show_col_types = FALSE` to quiet this message.\n"
     ]
    },
    {
     "name": "stdout",
     "output_type": "stream",
     "text": [
      "[1] 2348854      11\n"
     ]
    },
    {
     "data": {
      "text/html": [
       "<table class=\"dataframe\">\n",
       "<caption>A tibble: 6 × 11</caption>\n",
       "<thead>\n",
       "\t<tr><th scope=col>Chrom</th><th scope=col>Start</th><th scope=col>End</th><th scope=col>Name</th><th scope=col>Score</th><th scope=col>Strand</th><th scope=col>ThickStart</th><th scope=col>ThickEnd</th><th scope=col>ItemRgb</th><th scope=col>Category</th><th scope=col>Note</th></tr>\n",
       "\t<tr><th scope=col>&lt;chr&gt;</th><th scope=col>&lt;dbl&gt;</th><th scope=col>&lt;dbl&gt;</th><th scope=col>&lt;chr&gt;</th><th scope=col>&lt;dbl&gt;</th><th scope=col>&lt;chr&gt;</th><th scope=col>&lt;dbl&gt;</th><th scope=col>&lt;dbl&gt;</th><th scope=col>&lt;chr&gt;</th><th scope=col>&lt;chr&gt;</th><th scope=col>&lt;chr&gt;</th></tr>\n",
       "</thead>\n",
       "<tbody>\n",
       "\t<tr><td>chr1</td><td>10033</td><td>10250</td><td>EH38E2776516</td><td>0</td><td>.</td><td>10033</td><td>10250</td><td>225,225,225</td><td>Low-DNase</td><td>All-data/Full-classification</td></tr>\n",
       "\t<tr><td>chr1</td><td>10385</td><td>10713</td><td>EH38E2776517</td><td>0</td><td>.</td><td>10385</td><td>10713</td><td>225,225,225</td><td>Low-DNase</td><td>All-data/Full-classification</td></tr>\n",
       "\t<tr><td>chr1</td><td>16097</td><td>16381</td><td>EH38E3951272</td><td>0</td><td>.</td><td>16097</td><td>16381</td><td>225,225,225</td><td>Low-DNase</td><td>All-data/Full-classification</td></tr>\n",
       "\t<tr><td>chr1</td><td>17343</td><td>17642</td><td>EH38E3951273</td><td>0</td><td>.</td><td>17343</td><td>17642</td><td>225,225,225</td><td>Low-DNase</td><td>All-data/Full-classification</td></tr>\n",
       "\t<tr><td>chr1</td><td>29320</td><td>29517</td><td>EH38E3951274</td><td>0</td><td>.</td><td>29320</td><td>29517</td><td>225,225,225</td><td>Low-DNase</td><td>All-data/Full-classification</td></tr>\n",
       "\t<tr><td>chr1</td><td>66350</td><td>66509</td><td>EH38E3951275</td><td>0</td><td>.</td><td>66350</td><td>66509</td><td>225,225,225</td><td>Low-DNase</td><td>All-data/Full-classification</td></tr>\n",
       "</tbody>\n",
       "</table>\n"
      ],
      "text/latex": [
       "A tibble: 6 × 11\n",
       "\\begin{tabular}{lllllllllll}\n",
       " Chrom & Start & End & Name & Score & Strand & ThickStart & ThickEnd & ItemRgb & Category & Note\\\\\n",
       " <chr> & <dbl> & <dbl> & <chr> & <dbl> & <chr> & <dbl> & <dbl> & <chr> & <chr> & <chr>\\\\\n",
       "\\hline\n",
       "\t chr1 & 10033 & 10250 & EH38E2776516 & 0 & . & 10033 & 10250 & 225,225,225 & Low-DNase & All-data/Full-classification\\\\\n",
       "\t chr1 & 10385 & 10713 & EH38E2776517 & 0 & . & 10385 & 10713 & 225,225,225 & Low-DNase & All-data/Full-classification\\\\\n",
       "\t chr1 & 16097 & 16381 & EH38E3951272 & 0 & . & 16097 & 16381 & 225,225,225 & Low-DNase & All-data/Full-classification\\\\\n",
       "\t chr1 & 17343 & 17642 & EH38E3951273 & 0 & . & 17343 & 17642 & 225,225,225 & Low-DNase & All-data/Full-classification\\\\\n",
       "\t chr1 & 29320 & 29517 & EH38E3951274 & 0 & . & 29320 & 29517 & 225,225,225 & Low-DNase & All-data/Full-classification\\\\\n",
       "\t chr1 & 66350 & 66509 & EH38E3951275 & 0 & . & 66350 & 66509 & 225,225,225 & Low-DNase & All-data/Full-classification\\\\\n",
       "\\end{tabular}\n"
      ],
      "text/markdown": [
       "\n",
       "A tibble: 6 × 11\n",
       "\n",
       "| Chrom &lt;chr&gt; | Start &lt;dbl&gt; | End &lt;dbl&gt; | Name &lt;chr&gt; | Score &lt;dbl&gt; | Strand &lt;chr&gt; | ThickStart &lt;dbl&gt; | ThickEnd &lt;dbl&gt; | ItemRgb &lt;chr&gt; | Category &lt;chr&gt; | Note &lt;chr&gt; |\n",
       "|---|---|---|---|---|---|---|---|---|---|---|\n",
       "| chr1 | 10033 | 10250 | EH38E2776516 | 0 | . | 10033 | 10250 | 225,225,225 | Low-DNase | All-data/Full-classification |\n",
       "| chr1 | 10385 | 10713 | EH38E2776517 | 0 | . | 10385 | 10713 | 225,225,225 | Low-DNase | All-data/Full-classification |\n",
       "| chr1 | 16097 | 16381 | EH38E3951272 | 0 | . | 16097 | 16381 | 225,225,225 | Low-DNase | All-data/Full-classification |\n",
       "| chr1 | 17343 | 17642 | EH38E3951273 | 0 | . | 17343 | 17642 | 225,225,225 | Low-DNase | All-data/Full-classification |\n",
       "| chr1 | 29320 | 29517 | EH38E3951274 | 0 | . | 29320 | 29517 | 225,225,225 | Low-DNase | All-data/Full-classification |\n",
       "| chr1 | 66350 | 66509 | EH38E3951275 | 0 | . | 66350 | 66509 | 225,225,225 | Low-DNase | All-data/Full-classification |\n",
       "\n"
      ],
      "text/plain": [
       "  Chrom Start End   Name         Score Strand ThickStart ThickEnd ItemRgb    \n",
       "1 chr1  10033 10250 EH38E2776516 0     .      10033      10250    225,225,225\n",
       "2 chr1  10385 10713 EH38E2776517 0     .      10385      10713    225,225,225\n",
       "3 chr1  16097 16381 EH38E3951272 0     .      16097      16381    225,225,225\n",
       "4 chr1  17343 17642 EH38E3951273 0     .      17343      17642    225,225,225\n",
       "5 chr1  29320 29517 EH38E3951274 0     .      29320      29517    225,225,225\n",
       "6 chr1  66350 66509 EH38E3951275 0     .      66350      66509    225,225,225\n",
       "  Category  Note                        \n",
       "1 Low-DNase All-data/Full-classification\n",
       "2 Low-DNase All-data/Full-classification\n",
       "3 Low-DNase All-data/Full-classification\n",
       "4 Low-DNase All-data/Full-classification\n",
       "5 Low-DNase All-data/Full-classification\n",
       "6 Low-DNase All-data/Full-classification"
      ]
     },
     "metadata": {},
     "output_type": "display_data"
    }
   ],
   "source": [
    "fdiry = file.path(FD_RES, \"results\", \"region\", \"annotation_ccres\")\n",
    "fname = \"ccres_v4.bed.gz\"\n",
    "fpath = file.path(fdiry, fname)\n",
    "\n",
    "dat = read_tsv(fpath, col_names=vec_txt_cnames, show_col_types = FALSE)\n",
    "\n",
    "dat_ccres_v4 = dat\n",
    "print(dim(dat))\n",
    "head(dat)"
   ]
  },
  {
   "cell_type": "code",
   "execution_count": 6,
   "id": "74930086-a809-4bbe-b2b5-d40e40972dc0",
   "metadata": {},
   "outputs": [
    {
     "data": {
      "text/html": [
       "<table class=\"dataframe\">\n",
       "<caption>A spec_tbl_df: 9 × 2</caption>\n",
       "<thead>\n",
       "\t<tr><th scope=col>Name</th><th scope=col>Description</th></tr>\n",
       "\t<tr><th scope=col>&lt;chr&gt;</th><th scope=col>&lt;chr&gt;</th></tr>\n",
       "</thead>\n",
       "<tbody>\n",
       "\t<tr><td>Chrom     </td><td>Chromosome                                                 </td></tr>\n",
       "\t<tr><td>Start     </td><td>Start position                                             </td></tr>\n",
       "\t<tr><td>End       </td><td>End position                                               </td></tr>\n",
       "\t<tr><td>Name      </td><td>ChromHMM Label; 15 state ChIP-seq model                    </td></tr>\n",
       "\t<tr><td>Score     </td><td>Score                                                      </td></tr>\n",
       "\t<tr><td>Strand    </td><td>[+-.]; Use '.' if no strand is assigned.                   </td></tr>\n",
       "\t<tr><td>ThickStart</td><td>The starting position at which the feature is drawn thickly</td></tr>\n",
       "\t<tr><td>ThickEnd  </td><td>The ending position at which the feature is drawn thickly  </td></tr>\n",
       "\t<tr><td>ItemRgb   </td><td>An RGB value of the form R,G,B (e.g. 255,0,0)              </td></tr>\n",
       "</tbody>\n",
       "</table>\n"
      ],
      "text/latex": [
       "A spec\\_tbl\\_df: 9 × 2\n",
       "\\begin{tabular}{ll}\n",
       " Name & Description\\\\\n",
       " <chr> & <chr>\\\\\n",
       "\\hline\n",
       "\t Chrom      & Chromosome                                                 \\\\\n",
       "\t Start      & Start position                                             \\\\\n",
       "\t End        & End position                                               \\\\\n",
       "\t Name       & ChromHMM Label; 15 state ChIP-seq model                    \\\\\n",
       "\t Score      & Score                                                      \\\\\n",
       "\t Strand     & {[}+-.{]}; Use '.' if no strand is assigned.                   \\\\\n",
       "\t ThickStart & The starting position at which the feature is drawn thickly\\\\\n",
       "\t ThickEnd   & The ending position at which the feature is drawn thickly  \\\\\n",
       "\t ItemRgb    & An RGB value of the form R,G,B (e.g. 255,0,0)              \\\\\n",
       "\\end{tabular}\n"
      ],
      "text/markdown": [
       "\n",
       "A spec_tbl_df: 9 × 2\n",
       "\n",
       "| Name &lt;chr&gt; | Description &lt;chr&gt; |\n",
       "|---|---|\n",
       "| Chrom      | Chromosome                                                  |\n",
       "| Start      | Start position                                              |\n",
       "| End        | End position                                                |\n",
       "| Name       | ChromHMM Label; 15 state ChIP-seq model                     |\n",
       "| Score      | Score                                                       |\n",
       "| Strand     | [+-.]; Use '.' if no strand is assigned.                    |\n",
       "| ThickStart | The starting position at which the feature is drawn thickly |\n",
       "| ThickEnd   | The ending position at which the feature is drawn thickly   |\n",
       "| ItemRgb    | An RGB value of the form R,G,B (e.g. 255,0,0)               |\n",
       "\n"
      ],
      "text/plain": [
       "  Name       Description                                                \n",
       "1 Chrom      Chromosome                                                 \n",
       "2 Start      Start position                                             \n",
       "3 End        End position                                               \n",
       "4 Name       ChromHMM Label; 15 state ChIP-seq model                    \n",
       "5 Score      Score                                                      \n",
       "6 Strand     [+-.]; Use '.' if no strand is assigned.                   \n",
       "7 ThickStart The starting position at which the feature is drawn thickly\n",
       "8 ThickEnd   The ending position at which the feature is drawn thickly  \n",
       "9 ItemRgb    An RGB value of the form R,G,B (e.g. 255,0,0)              "
      ]
     },
     "metadata": {},
     "output_type": "display_data"
    }
   ],
   "source": [
    "fdiry = file.path(FD_RES, \"results\", \"region\", \"annotation_chromHMM\")\n",
    "fname = \"description.tsv\"\n",
    "fpath = file.path(fdiry, fname)\n",
    "\n",
    "dat = read_tsv(fpath, show_col_types = FALSE)\n",
    "vec = dat$Name\n",
    "\n",
    "### assign and show\n",
    "vec_txt_cnames = vec\n",
    "dat"
   ]
  },
  {
   "cell_type": "code",
   "execution_count": 7,
   "id": "8993de58-c7c9-43da-abe6-f20d8c1588a6",
   "metadata": {},
   "outputs": [
    {
     "name": "stdout",
     "output_type": "stream",
     "text": [
      "[1] 429105      9\n"
     ]
    },
    {
     "data": {
      "text/html": [
       "<table class=\"dataframe\">\n",
       "<caption>A tibble: 6 × 9</caption>\n",
       "<thead>\n",
       "\t<tr><th scope=col>Chrom</th><th scope=col>Start</th><th scope=col>End</th><th scope=col>Name</th><th scope=col>Score</th><th scope=col>Strand</th><th scope=col>ThickStart</th><th scope=col>ThickEnd</th><th scope=col>ItemRgb</th></tr>\n",
       "\t<tr><th scope=col>&lt;chr&gt;</th><th scope=col>&lt;dbl&gt;</th><th scope=col>&lt;dbl&gt;</th><th scope=col>&lt;chr&gt;</th><th scope=col>&lt;dbl&gt;</th><th scope=col>&lt;chr&gt;</th><th scope=col>&lt;dbl&gt;</th><th scope=col>&lt;dbl&gt;</th><th scope=col>&lt;chr&gt;</th></tr>\n",
       "</thead>\n",
       "<tbody>\n",
       "\t<tr><td>chr1</td><td>     0</td><td> 16000</td><td>Quies</td><td>1</td><td>.</td><td>     0</td><td> 16000</td><td>220,220,220</td></tr>\n",
       "\t<tr><td>chr1</td><td> 16000</td><td> 16200</td><td>TxWk </td><td>1</td><td>.</td><td> 16000</td><td> 16200</td><td>63,154,80  </td></tr>\n",
       "\t<tr><td>chr1</td><td> 16200</td><td> 17400</td><td>Quies</td><td>1</td><td>.</td><td> 16200</td><td> 17400</td><td>220,220,220</td></tr>\n",
       "\t<tr><td>chr1</td><td> 17400</td><td> 17600</td><td>TxWk </td><td>1</td><td>.</td><td> 17400</td><td> 17600</td><td>63,154,80  </td></tr>\n",
       "\t<tr><td>chr1</td><td> 17600</td><td>118400</td><td>Quies</td><td>1</td><td>.</td><td> 17600</td><td>118400</td><td>220,220,220</td></tr>\n",
       "\t<tr><td>chr1</td><td>118400</td><td>120200</td><td>Enh1 </td><td>1</td><td>.</td><td>118400</td><td>120200</td><td>255,223,0  </td></tr>\n",
       "</tbody>\n",
       "</table>\n"
      ],
      "text/latex": [
       "A tibble: 6 × 9\n",
       "\\begin{tabular}{lllllllll}\n",
       " Chrom & Start & End & Name & Score & Strand & ThickStart & ThickEnd & ItemRgb\\\\\n",
       " <chr> & <dbl> & <dbl> & <chr> & <dbl> & <chr> & <dbl> & <dbl> & <chr>\\\\\n",
       "\\hline\n",
       "\t chr1 &      0 &  16000 & Quies & 1 & . &      0 &  16000 & 220,220,220\\\\\n",
       "\t chr1 &  16000 &  16200 & TxWk  & 1 & . &  16000 &  16200 & 63,154,80  \\\\\n",
       "\t chr1 &  16200 &  17400 & Quies & 1 & . &  16200 &  17400 & 220,220,220\\\\\n",
       "\t chr1 &  17400 &  17600 & TxWk  & 1 & . &  17400 &  17600 & 63,154,80  \\\\\n",
       "\t chr1 &  17600 & 118400 & Quies & 1 & . &  17600 & 118400 & 220,220,220\\\\\n",
       "\t chr1 & 118400 & 120200 & Enh1  & 1 & . & 118400 & 120200 & 255,223,0  \\\\\n",
       "\\end{tabular}\n"
      ],
      "text/markdown": [
       "\n",
       "A tibble: 6 × 9\n",
       "\n",
       "| Chrom &lt;chr&gt; | Start &lt;dbl&gt; | End &lt;dbl&gt; | Name &lt;chr&gt; | Score &lt;dbl&gt; | Strand &lt;chr&gt; | ThickStart &lt;dbl&gt; | ThickEnd &lt;dbl&gt; | ItemRgb &lt;chr&gt; |\n",
       "|---|---|---|---|---|---|---|---|---|\n",
       "| chr1 |      0 |  16000 | Quies | 1 | . |      0 |  16000 | 220,220,220 |\n",
       "| chr1 |  16000 |  16200 | TxWk  | 1 | . |  16000 |  16200 | 63,154,80   |\n",
       "| chr1 |  16200 |  17400 | Quies | 1 | . |  16200 |  17400 | 220,220,220 |\n",
       "| chr1 |  17400 |  17600 | TxWk  | 1 | . |  17400 |  17600 | 63,154,80   |\n",
       "| chr1 |  17600 | 118400 | Quies | 1 | . |  17600 | 118400 | 220,220,220 |\n",
       "| chr1 | 118400 | 120200 | Enh1  | 1 | . | 118400 | 120200 | 255,223,0   |\n",
       "\n"
      ],
      "text/plain": [
       "  Chrom Start  End    Name  Score Strand ThickStart ThickEnd ItemRgb    \n",
       "1 chr1       0  16000 Quies 1     .           0      16000   220,220,220\n",
       "2 chr1   16000  16200 TxWk  1     .       16000      16200   63,154,80  \n",
       "3 chr1   16200  17400 Quies 1     .       16200      17400   220,220,220\n",
       "4 chr1   17400  17600 TxWk  1     .       17400      17600   63,154,80  \n",
       "5 chr1   17600 118400 Quies 1     .       17600     118400   220,220,220\n",
       "6 chr1  118400 120200 Enh1  1     .      118400     120200   255,223,0  "
      ]
     },
     "metadata": {},
     "output_type": "display_data"
    }
   ],
   "source": [
    "fdiry = file.path(FD_RES, \"results\", \"region\", \"annotation_chromHMM\")\n",
    "fname = \"K562.ENCSR365YNI.ENCFF106BGJ.ChromHMM.bed.gz\"\n",
    "fpath = file.path(fdiry, fname)\n",
    "\n",
    "dat = read_tsv(fpath, col_names=vec_txt_cnames, show_col_types = FALSE)\n",
    "\n",
    "dat_chromhmm_v4 = dat\n",
    "print(dim(dat))\n",
    "head(dat)"
   ]
  },
  {
   "cell_type": "code",
   "execution_count": null,
   "id": "3f46c0f1-95a0-4740-aabe-536da93d08c0",
   "metadata": {},
   "outputs": [],
   "source": []
  },
  {
   "cell_type": "code",
   "execution_count": 9,
   "id": "3d2d1e17-9324-4860-87b3-8e6b893048cb",
   "metadata": {},
   "outputs": [
    {
     "data": {
      "text/html": [
       "<table class=\"dataframe\">\n",
       "<caption>A tibble: 6 × 11</caption>\n",
       "<thead>\n",
       "\t<tr><th scope=col>Chrom</th><th scope=col>Start</th><th scope=col>End</th><th scope=col>Name</th><th scope=col>Score</th><th scope=col>Strand</th><th scope=col>ThickStart</th><th scope=col>ThickEnd</th><th scope=col>ItemRgb</th><th scope=col>Category</th><th scope=col>Note</th></tr>\n",
       "\t<tr><th scope=col>&lt;chr&gt;</th><th scope=col>&lt;dbl&gt;</th><th scope=col>&lt;dbl&gt;</th><th scope=col>&lt;chr&gt;</th><th scope=col>&lt;dbl&gt;</th><th scope=col>&lt;chr&gt;</th><th scope=col>&lt;dbl&gt;</th><th scope=col>&lt;dbl&gt;</th><th scope=col>&lt;chr&gt;</th><th scope=col>&lt;chr&gt;</th><th scope=col>&lt;chr&gt;</th></tr>\n",
       "</thead>\n",
       "<tbody>\n",
       "\t<tr><td>chr1</td><td>10033</td><td>10250</td><td>EH38E2776516</td><td>0</td><td>.</td><td>10033</td><td>10250</td><td>225,225,225</td><td>Low-DNase</td><td>All-data/Full-classification</td></tr>\n",
       "\t<tr><td>chr1</td><td>10385</td><td>10713</td><td>EH38E2776517</td><td>0</td><td>.</td><td>10385</td><td>10713</td><td>225,225,225</td><td>Low-DNase</td><td>All-data/Full-classification</td></tr>\n",
       "\t<tr><td>chr1</td><td>16097</td><td>16381</td><td>EH38E3951272</td><td>0</td><td>.</td><td>16097</td><td>16381</td><td>225,225,225</td><td>Low-DNase</td><td>All-data/Full-classification</td></tr>\n",
       "\t<tr><td>chr1</td><td>17343</td><td>17642</td><td>EH38E3951273</td><td>0</td><td>.</td><td>17343</td><td>17642</td><td>225,225,225</td><td>Low-DNase</td><td>All-data/Full-classification</td></tr>\n",
       "\t<tr><td>chr1</td><td>29320</td><td>29517</td><td>EH38E3951274</td><td>0</td><td>.</td><td>29320</td><td>29517</td><td>225,225,225</td><td>Low-DNase</td><td>All-data/Full-classification</td></tr>\n",
       "\t<tr><td>chr1</td><td>66350</td><td>66509</td><td>EH38E3951275</td><td>0</td><td>.</td><td>66350</td><td>66509</td><td>225,225,225</td><td>Low-DNase</td><td>All-data/Full-classification</td></tr>\n",
       "</tbody>\n",
       "</table>\n"
      ],
      "text/latex": [
       "A tibble: 6 × 11\n",
       "\\begin{tabular}{lllllllllll}\n",
       " Chrom & Start & End & Name & Score & Strand & ThickStart & ThickEnd & ItemRgb & Category & Note\\\\\n",
       " <chr> & <dbl> & <dbl> & <chr> & <dbl> & <chr> & <dbl> & <dbl> & <chr> & <chr> & <chr>\\\\\n",
       "\\hline\n",
       "\t chr1 & 10033 & 10250 & EH38E2776516 & 0 & . & 10033 & 10250 & 225,225,225 & Low-DNase & All-data/Full-classification\\\\\n",
       "\t chr1 & 10385 & 10713 & EH38E2776517 & 0 & . & 10385 & 10713 & 225,225,225 & Low-DNase & All-data/Full-classification\\\\\n",
       "\t chr1 & 16097 & 16381 & EH38E3951272 & 0 & . & 16097 & 16381 & 225,225,225 & Low-DNase & All-data/Full-classification\\\\\n",
       "\t chr1 & 17343 & 17642 & EH38E3951273 & 0 & . & 17343 & 17642 & 225,225,225 & Low-DNase & All-data/Full-classification\\\\\n",
       "\t chr1 & 29320 & 29517 & EH38E3951274 & 0 & . & 29320 & 29517 & 225,225,225 & Low-DNase & All-data/Full-classification\\\\\n",
       "\t chr1 & 66350 & 66509 & EH38E3951275 & 0 & . & 66350 & 66509 & 225,225,225 & Low-DNase & All-data/Full-classification\\\\\n",
       "\\end{tabular}\n"
      ],
      "text/markdown": [
       "\n",
       "A tibble: 6 × 11\n",
       "\n",
       "| Chrom &lt;chr&gt; | Start &lt;dbl&gt; | End &lt;dbl&gt; | Name &lt;chr&gt; | Score &lt;dbl&gt; | Strand &lt;chr&gt; | ThickStart &lt;dbl&gt; | ThickEnd &lt;dbl&gt; | ItemRgb &lt;chr&gt; | Category &lt;chr&gt; | Note &lt;chr&gt; |\n",
       "|---|---|---|---|---|---|---|---|---|---|---|\n",
       "| chr1 | 10033 | 10250 | EH38E2776516 | 0 | . | 10033 | 10250 | 225,225,225 | Low-DNase | All-data/Full-classification |\n",
       "| chr1 | 10385 | 10713 | EH38E2776517 | 0 | . | 10385 | 10713 | 225,225,225 | Low-DNase | All-data/Full-classification |\n",
       "| chr1 | 16097 | 16381 | EH38E3951272 | 0 | . | 16097 | 16381 | 225,225,225 | Low-DNase | All-data/Full-classification |\n",
       "| chr1 | 17343 | 17642 | EH38E3951273 | 0 | . | 17343 | 17642 | 225,225,225 | Low-DNase | All-data/Full-classification |\n",
       "| chr1 | 29320 | 29517 | EH38E3951274 | 0 | . | 29320 | 29517 | 225,225,225 | Low-DNase | All-data/Full-classification |\n",
       "| chr1 | 66350 | 66509 | EH38E3951275 | 0 | . | 66350 | 66509 | 225,225,225 | Low-DNase | All-data/Full-classification |\n",
       "\n"
      ],
      "text/plain": [
       "  Chrom Start End   Name         Score Strand ThickStart ThickEnd ItemRgb    \n",
       "1 chr1  10033 10250 EH38E2776516 0     .      10033      10250    225,225,225\n",
       "2 chr1  10385 10713 EH38E2776517 0     .      10385      10713    225,225,225\n",
       "3 chr1  16097 16381 EH38E3951272 0     .      16097      16381    225,225,225\n",
       "4 chr1  17343 17642 EH38E3951273 0     .      17343      17642    225,225,225\n",
       "5 chr1  29320 29517 EH38E3951274 0     .      29320      29517    225,225,225\n",
       "6 chr1  66350 66509 EH38E3951275 0     .      66350      66509    225,225,225\n",
       "  Category  Note                        \n",
       "1 Low-DNase All-data/Full-classification\n",
       "2 Low-DNase All-data/Full-classification\n",
       "3 Low-DNase All-data/Full-classification\n",
       "4 Low-DNase All-data/Full-classification\n",
       "5 Low-DNase All-data/Full-classification\n",
       "6 Low-DNase All-data/Full-classification"
      ]
     },
     "metadata": {},
     "output_type": "display_data"
    }
   ],
   "source": [
    "dat = dat_ccres_v4\n",
    "head(dat)"
   ]
  },
  {
   "cell_type": "code",
   "execution_count": 8,
   "id": "d2edfd7a-5595-4835-9e6d-e750a6cb2fad",
   "metadata": {},
   "outputs": [
    {
     "data": {
      "text/html": [
       "<table class=\"dataframe\">\n",
       "<caption>A tibble: 6 × 9</caption>\n",
       "<thead>\n",
       "\t<tr><th scope=col>Chrom</th><th scope=col>Start</th><th scope=col>End</th><th scope=col>Name</th><th scope=col>Score</th><th scope=col>Strand</th><th scope=col>ThickStart</th><th scope=col>ThickEnd</th><th scope=col>ItemRgb</th></tr>\n",
       "\t<tr><th scope=col>&lt;chr&gt;</th><th scope=col>&lt;dbl&gt;</th><th scope=col>&lt;dbl&gt;</th><th scope=col>&lt;chr&gt;</th><th scope=col>&lt;dbl&gt;</th><th scope=col>&lt;chr&gt;</th><th scope=col>&lt;dbl&gt;</th><th scope=col>&lt;dbl&gt;</th><th scope=col>&lt;chr&gt;</th></tr>\n",
       "</thead>\n",
       "<tbody>\n",
       "\t<tr><td>chr1</td><td>     0</td><td> 16000</td><td>Quies</td><td>1</td><td>.</td><td>     0</td><td> 16000</td><td>220,220,220</td></tr>\n",
       "\t<tr><td>chr1</td><td> 16000</td><td> 16200</td><td>TxWk </td><td>1</td><td>.</td><td> 16000</td><td> 16200</td><td>63,154,80  </td></tr>\n",
       "\t<tr><td>chr1</td><td> 16200</td><td> 17400</td><td>Quies</td><td>1</td><td>.</td><td> 16200</td><td> 17400</td><td>220,220,220</td></tr>\n",
       "\t<tr><td>chr1</td><td> 17400</td><td> 17600</td><td>TxWk </td><td>1</td><td>.</td><td> 17400</td><td> 17600</td><td>63,154,80  </td></tr>\n",
       "\t<tr><td>chr1</td><td> 17600</td><td>118400</td><td>Quies</td><td>1</td><td>.</td><td> 17600</td><td>118400</td><td>220,220,220</td></tr>\n",
       "\t<tr><td>chr1</td><td>118400</td><td>120200</td><td>Enh1 </td><td>1</td><td>.</td><td>118400</td><td>120200</td><td>255,223,0  </td></tr>\n",
       "</tbody>\n",
       "</table>\n"
      ],
      "text/latex": [
       "A tibble: 6 × 9\n",
       "\\begin{tabular}{lllllllll}\n",
       " Chrom & Start & End & Name & Score & Strand & ThickStart & ThickEnd & ItemRgb\\\\\n",
       " <chr> & <dbl> & <dbl> & <chr> & <dbl> & <chr> & <dbl> & <dbl> & <chr>\\\\\n",
       "\\hline\n",
       "\t chr1 &      0 &  16000 & Quies & 1 & . &      0 &  16000 & 220,220,220\\\\\n",
       "\t chr1 &  16000 &  16200 & TxWk  & 1 & . &  16000 &  16200 & 63,154,80  \\\\\n",
       "\t chr1 &  16200 &  17400 & Quies & 1 & . &  16200 &  17400 & 220,220,220\\\\\n",
       "\t chr1 &  17400 &  17600 & TxWk  & 1 & . &  17400 &  17600 & 63,154,80  \\\\\n",
       "\t chr1 &  17600 & 118400 & Quies & 1 & . &  17600 & 118400 & 220,220,220\\\\\n",
       "\t chr1 & 118400 & 120200 & Enh1  & 1 & . & 118400 & 120200 & 255,223,0  \\\\\n",
       "\\end{tabular}\n"
      ],
      "text/markdown": [
       "\n",
       "A tibble: 6 × 9\n",
       "\n",
       "| Chrom &lt;chr&gt; | Start &lt;dbl&gt; | End &lt;dbl&gt; | Name &lt;chr&gt; | Score &lt;dbl&gt; | Strand &lt;chr&gt; | ThickStart &lt;dbl&gt; | ThickEnd &lt;dbl&gt; | ItemRgb &lt;chr&gt; |\n",
       "|---|---|---|---|---|---|---|---|---|\n",
       "| chr1 |      0 |  16000 | Quies | 1 | . |      0 |  16000 | 220,220,220 |\n",
       "| chr1 |  16000 |  16200 | TxWk  | 1 | . |  16000 |  16200 | 63,154,80   |\n",
       "| chr1 |  16200 |  17400 | Quies | 1 | . |  16200 |  17400 | 220,220,220 |\n",
       "| chr1 |  17400 |  17600 | TxWk  | 1 | . |  17400 |  17600 | 63,154,80   |\n",
       "| chr1 |  17600 | 118400 | Quies | 1 | . |  17600 | 118400 | 220,220,220 |\n",
       "| chr1 | 118400 | 120200 | Enh1  | 1 | . | 118400 | 120200 | 255,223,0   |\n",
       "\n"
      ],
      "text/plain": [
       "  Chrom Start  End    Name  Score Strand ThickStart ThickEnd ItemRgb    \n",
       "1 chr1       0  16000 Quies 1     .           0      16000   220,220,220\n",
       "2 chr1   16000  16200 TxWk  1     .       16000      16200   63,154,80  \n",
       "3 chr1   16200  17400 Quies 1     .       16200      17400   220,220,220\n",
       "4 chr1   17400  17600 TxWk  1     .       17400      17600   63,154,80  \n",
       "5 chr1   17600 118400 Quies 1     .       17600     118400   220,220,220\n",
       "6 chr1  118400 120200 Enh1  1     .      118400     120200   255,223,0  "
      ]
     },
     "metadata": {},
     "output_type": "display_data"
    }
   ],
   "source": [
    "dat = dat_chromhmm_v4\n",
    "head(dat)"
   ]
  },
  {
   "cell_type": "code",
   "execution_count": 19,
   "id": "94484ce6-5ffe-4c9c-9d71-8555c5a79b1f",
   "metadata": {},
   "outputs": [
    {
     "name": "stdout",
     "output_type": "stream",
     "text": [
      "GRanges object with 2348854 ranges and 0 metadata columns:\n",
      "            seqnames            ranges strand\n",
      "               <Rle>         <IRanges>  <Rle>\n",
      "  Low-DNase     chr1       10033-10250      *\n",
      "  Low-DNase     chr1       10385-10713      *\n",
      "  Low-DNase     chr1       16097-16381      *\n",
      "  Low-DNase     chr1       17343-17642      *\n",
      "  Low-DNase     chr1       29320-29517      *\n",
      "        ...      ...               ...    ...\n",
      "  Low-DNase     chrY 26670948-26671287      *\n",
      "  Low-DNase     chrY 26671292-26671478      *\n",
      "  Low-DNase     chrY 26671538-26671787      *\n",
      "  Low-DNase     chrY 56684007-56684171      *\n",
      "  Low-DNase     chrY 56685452-56685708      *\n",
      "  -------\n",
      "  seqinfo: 24 sequences from an unspecified genome; no seqlengths\n"
     ]
    }
   ],
   "source": [
    "dat = dat_ccres_v4\n",
    "grg = GRanges(\n",
    "    seqnames = dat$Chrom,\n",
    "    ranges   = IRanges(\n",
    "        start = dat$Start, \n",
    "        end   = dat$End,\n",
    "        name  = dat$Category\n",
    "    ))\n",
    "grg_ccres_v4 = grg\n",
    "print(grg)"
   ]
  },
  {
   "cell_type": "code",
   "execution_count": 20,
   "id": "31713d5d-498e-409d-81fe-fb1ff6988b0f",
   "metadata": {},
   "outputs": [
    {
     "name": "stdout",
     "output_type": "stream",
     "text": [
      "GRanges object with 429105 ranges and 0 metadata columns:\n",
      "        seqnames            ranges strand\n",
      "           <Rle>         <IRanges>  <Rle>\n",
      "  Quies     chr1           0-16000      *\n",
      "   TxWk     chr1       16000-16200      *\n",
      "  Quies     chr1       16200-17400      *\n",
      "   TxWk     chr1       17400-17600      *\n",
      "  Quies     chr1      17600-118400      *\n",
      "    ...      ...               ...    ...\n",
      "  Quies     chrY 56856600-56859400      *\n",
      "    Het     chrY 56859400-56860800      *\n",
      "  Quies     chrY 56860800-56868400      *\n",
      "    Het     chrY 56868400-56880800      *\n",
      "  Quies     chrY 56880800-57227400      *\n",
      "  -------\n",
      "  seqinfo: 25 sequences from an unspecified genome; no seqlengths\n"
     ]
    }
   ],
   "source": [
    "dat = dat_chromhmm_v4\n",
    "grg = GRanges(\n",
    "    seqnames = dat$Chrom,\n",
    "    ranges   = IRanges(\n",
    "        start = dat$Start, \n",
    "        end   = dat$End,\n",
    "        name  = dat$Name\n",
    "    ))\n",
    "grg_chromhmm_v4 = grg\n",
    "print(grg)"
   ]
  },
  {
   "cell_type": "code",
   "execution_count": 25,
   "id": "2fd51512-2972-438f-bcc1-51c0f59b29a2",
   "metadata": {},
   "outputs": [
    {
     "data": {
      "text/plain": [
       "Hits object with 2536765 hits and 0 metadata columns:\n",
       "            queryHits subjectHits\n",
       "            <integer>   <integer>\n",
       "        [1]         1           1\n",
       "        [2]         2           1\n",
       "        [3]         3           2\n",
       "        [4]         3           3\n",
       "        [5]         4           3\n",
       "        ...       ...         ...\n",
       "  [2536761]   2348850      429097\n",
       "  [2536762]   2348851      429097\n",
       "  [2536763]   2348852      429097\n",
       "  [2536764]   2348853      429097\n",
       "  [2536765]   2348854      429097\n",
       "  -------\n",
       "  queryLength: 2348854 / subjectLength: 429105"
      ]
     },
     "metadata": {},
     "output_type": "display_data"
    }
   ],
   "source": [
    "res = findOverlaps(grg_ccres_v4, grg_chromhmm_v4)\n",
    "res"
   ]
  },
  {
   "cell_type": "code",
   "execution_count": 27,
   "id": "a5345433-2c0c-43a0-ac49-8d3d30fca9b3",
   "metadata": {},
   "outputs": [
    {
     "data": {
      "text/html": [
       "<style>\n",
       ".list-inline {list-style: none; margin:0; padding: 0}\n",
       ".list-inline>li {display: inline-block}\n",
       ".list-inline>li:not(:last-child)::after {content: \"\\00b7\"; padding: 0 .5ex}\n",
       "</style>\n",
       "<ol class=list-inline><li>'from'</li><li>'to'</li><li>'nLnode'</li><li>'nRnode'</li><li>'elementMetadata'</li><li>'metadata'</li></ol>\n"
      ],
      "text/latex": [
       "\\begin{enumerate*}\n",
       "\\item 'from'\n",
       "\\item 'to'\n",
       "\\item 'nLnode'\n",
       "\\item 'nRnode'\n",
       "\\item 'elementMetadata'\n",
       "\\item 'metadata'\n",
       "\\end{enumerate*}\n"
      ],
      "text/markdown": [
       "1. 'from'\n",
       "2. 'to'\n",
       "3. 'nLnode'\n",
       "4. 'nRnode'\n",
       "5. 'elementMetadata'\n",
       "6. 'metadata'\n",
       "\n",
       "\n"
      ],
      "text/plain": [
       "[1] \"from\"            \"to\"              \"nLnode\"          \"nRnode\"         \n",
       "[5] \"elementMetadata\" \"metadata\"       "
      ]
     },
     "metadata": {},
     "output_type": "display_data"
    }
   ],
   "source": [
    "slotNames(res)"
   ]
  },
  {
   "cell_type": "code",
   "execution_count": 34,
   "id": "5e02e8bc-f9a4-4c9e-83bd-aa69dbe664b7",
   "metadata": {},
   "outputs": [
    {
     "name": "stdout",
     "output_type": "stream",
     "text": [
      "[1] 2536765       2\n"
     ]
    },
    {
     "data": {
      "text/html": [
       "<table class=\"dataframe\">\n",
       "<caption>A data.frame: 6 × 2</caption>\n",
       "<thead>\n",
       "\t<tr><th></th><th scope=col>Label_cCREs</th><th scope=col>Label_ChromHMM</th></tr>\n",
       "\t<tr><th></th><th scope=col>&lt;chr&gt;</th><th scope=col>&lt;chr&gt;</th></tr>\n",
       "</thead>\n",
       "<tbody>\n",
       "\t<tr><th scope=row>1</th><td>Low-DNase</td><td>Quies</td></tr>\n",
       "\t<tr><th scope=row>2</th><td>Low-DNase</td><td>Quies</td></tr>\n",
       "\t<tr><th scope=row>3</th><td>Low-DNase</td><td>TxWk </td></tr>\n",
       "\t<tr><th scope=row>4</th><td>Low-DNase</td><td>Quies</td></tr>\n",
       "\t<tr><th scope=row>5</th><td>Low-DNase</td><td>Quies</td></tr>\n",
       "\t<tr><th scope=row>6</th><td>Low-DNase</td><td>TxWk </td></tr>\n",
       "</tbody>\n",
       "</table>\n"
      ],
      "text/latex": [
       "A data.frame: 6 × 2\n",
       "\\begin{tabular}{r|ll}\n",
       "  & Label\\_cCREs & Label\\_ChromHMM\\\\\n",
       "  & <chr> & <chr>\\\\\n",
       "\\hline\n",
       "\t1 & Low-DNase & Quies\\\\\n",
       "\t2 & Low-DNase & Quies\\\\\n",
       "\t3 & Low-DNase & TxWk \\\\\n",
       "\t4 & Low-DNase & Quies\\\\\n",
       "\t5 & Low-DNase & Quies\\\\\n",
       "\t6 & Low-DNase & TxWk \\\\\n",
       "\\end{tabular}\n"
      ],
      "text/markdown": [
       "\n",
       "A data.frame: 6 × 2\n",
       "\n",
       "| <!--/--> | Label_cCREs &lt;chr&gt; | Label_ChromHMM &lt;chr&gt; |\n",
       "|---|---|---|\n",
       "| 1 | Low-DNase | Quies |\n",
       "| 2 | Low-DNase | Quies |\n",
       "| 3 | Low-DNase | TxWk  |\n",
       "| 4 | Low-DNase | Quies |\n",
       "| 5 | Low-DNase | Quies |\n",
       "| 6 | Low-DNase | TxWk  |\n",
       "\n"
      ],
      "text/plain": [
       "  Label_cCREs Label_ChromHMM\n",
       "1 Low-DNase   Quies         \n",
       "2 Low-DNase   Quies         \n",
       "3 Low-DNase   TxWk          \n",
       "4 Low-DNase   Quies         \n",
       "5 Low-DNase   Quies         \n",
       "6 Low-DNase   TxWk          "
      ]
     },
     "metadata": {},
     "output_type": "display_data"
    }
   ],
   "source": [
    "dat1 = dat_ccres_v4\n",
    "dat2 = dat_chromhmm_v4\n",
    "vec1 = dat_ccres_v4$Category\n",
    "vec2 = dat_chromhmm_v4$Name\n",
    "\n",
    "grg1 = grg_ccres_v4\n",
    "grg2 = grg_chromhmm_v4\n",
    "\n",
    "res = findOverlaps(grg_ccres_v4, grg_chromhmm_v4)\n",
    "vec_idx1 = res@from\n",
    "vec_idx2 = res@to\n",
    "\n",
    "dat = data.frame(\n",
    "    Label_cCREs    = vec1[vec_idx1],\n",
    "    Label_ChromHMM = vec2[vec_idx2]\n",
    ")\n",
    "\n",
    "dat_overlap = dat\n",
    "print(dim(dat))\n",
    "head(dat)"
   ]
  },
  {
   "cell_type": "code",
   "execution_count": 50,
   "id": "d09ecff8-76d8-4bf5-b37b-28afb7faea78",
   "metadata": {},
   "outputs": [
    {
     "name": "stdout",
     "output_type": "stream",
     "text": [
      "[1] 2536765       2\n"
     ]
    },
    {
     "data": {
      "text/html": [
       "<table class=\"dataframe\">\n",
       "<caption>A data.frame: 6 × 2</caption>\n",
       "<thead>\n",
       "\t<tr><th></th><th scope=col>Label_cCREs</th><th scope=col>Label_ChromHMM</th></tr>\n",
       "\t<tr><th></th><th scope=col>&lt;chr&gt;</th><th scope=col>&lt;chr&gt;</th></tr>\n",
       "</thead>\n",
       "<tbody>\n",
       "\t<tr><th scope=row>1</th><td>Low-DNase</td><td>Quiescent         </td></tr>\n",
       "\t<tr><th scope=row>2</th><td>Low-DNase</td><td>Quiescent         </td></tr>\n",
       "\t<tr><th scope=row>3</th><td>Low-DNase</td><td>Weak transcription</td></tr>\n",
       "\t<tr><th scope=row>4</th><td>Low-DNase</td><td>Quiescent         </td></tr>\n",
       "\t<tr><th scope=row>5</th><td>Low-DNase</td><td>Quiescent         </td></tr>\n",
       "\t<tr><th scope=row>6</th><td>Low-DNase</td><td>Weak transcription</td></tr>\n",
       "</tbody>\n",
       "</table>\n"
      ],
      "text/latex": [
       "A data.frame: 6 × 2\n",
       "\\begin{tabular}{r|ll}\n",
       "  & Label\\_cCREs & Label\\_ChromHMM\\\\\n",
       "  & <chr> & <chr>\\\\\n",
       "\\hline\n",
       "\t1 & Low-DNase & Quiescent         \\\\\n",
       "\t2 & Low-DNase & Quiescent         \\\\\n",
       "\t3 & Low-DNase & Weak transcription\\\\\n",
       "\t4 & Low-DNase & Quiescent         \\\\\n",
       "\t5 & Low-DNase & Quiescent         \\\\\n",
       "\t6 & Low-DNase & Weak transcription\\\\\n",
       "\\end{tabular}\n"
      ],
      "text/markdown": [
       "\n",
       "A data.frame: 6 × 2\n",
       "\n",
       "| <!--/--> | Label_cCREs &lt;chr&gt; | Label_ChromHMM &lt;chr&gt; |\n",
       "|---|---|---|\n",
       "| 1 | Low-DNase | Quiescent          |\n",
       "| 2 | Low-DNase | Quiescent          |\n",
       "| 3 | Low-DNase | Weak transcription |\n",
       "| 4 | Low-DNase | Quiescent          |\n",
       "| 5 | Low-DNase | Quiescent          |\n",
       "| 6 | Low-DNase | Weak transcription |\n",
       "\n"
      ],
      "text/plain": [
       "  Label_cCREs Label_ChromHMM    \n",
       "1 Low-DNase   Quiescent         \n",
       "2 Low-DNase   Quiescent         \n",
       "3 Low-DNase   Weak transcription\n",
       "4 Low-DNase   Quiescent         \n",
       "5 Low-DNase   Quiescent         \n",
       "6 Low-DNase   Weak transcription"
      ]
     },
     "metadata": {},
     "output_type": "display_data"
    }
   ],
   "source": [
    "vec_txt_label = c(\n",
    "    \"Tss\"        = \"Active TSS\", \n",
    "    \"TssFlnk\"    = \"Flanking TSS\", \n",
    "    \"TssFlnkD\"   = \"Flanking TSS\", \n",
    "    \"TssFlnkU\"   = \"Flanking TSS\", \n",
    "    \"Enh1\"       = \"Enhancer\", \n",
    "    \"Enh2\"       = \"Enhancer\", \n",
    "    \"EnhG1\"      = \"Enhancer in gene\", \n",
    "    \"EnhG2\"      = \"Enhancer in gene\", \n",
    "    \"Tx\"         = \"Transcription\",\n",
    "    \"TxWk\"       = \"Weak transcription\", \n",
    "    \"Biv\"        = \"Bivalent\",\n",
    "    \"ReprPC\"     = \"Repressed by Polycomb\", \n",
    "    \"ZNF/Rpts\"   = \"ZNF genes repeats\",\n",
    "    \"Quies\"      = \"Quiescent\", \n",
    "    \"Het\"        = \"Heterochromatin\")\n",
    "\n",
    "\n",
    "dat = dat_overlap\n",
    "vec = vec_txt_label\n",
    "\n",
    "dat = dat %>% dplyr::mutate(Label_ChromHMM = dplyr::recode(Label_ChromHMM, !!!vec)) \n",
    "\n",
    "dat_overlap2 = dat\n",
    "print(dim(dat))\n",
    "head(dat)"
   ]
  },
  {
   "cell_type": "code",
   "execution_count": 55,
   "id": "a40eaa6e-9638-4b29-adfd-2c5ebce3ba52",
   "metadata": {},
   "outputs": [
    {
     "data": {
      "text/html": [
       "<table class=\"dataframe\">\n",
       "<caption>A grouped_df: 6 × 4</caption>\n",
       "<thead>\n",
       "\t<tr><th scope=col>Label_ChromHMM</th><th scope=col>Label_cCREs</th><th scope=col>Count</th><th scope=col>Freq</th></tr>\n",
       "\t<tr><th scope=col>&lt;chr&gt;</th><th scope=col>&lt;chr&gt;</th><th scope=col>&lt;int&gt;</th><th scope=col>&lt;dbl&gt;</th></tr>\n",
       "</thead>\n",
       "<tbody>\n",
       "\t<tr><td>Active TSS</td><td>CA-CTCF   </td><td>    6</td><td>0.0001482726</td></tr>\n",
       "\t<tr><td>Active TSS</td><td>CA-H3K4me3</td><td>  102</td><td>0.0025206346</td></tr>\n",
       "\t<tr><td>Active TSS</td><td>CA-TF     </td><td>   11</td><td>0.0002718331</td></tr>\n",
       "\t<tr><td>Active TSS</td><td>Low-DNase </td><td> 8884</td><td>0.2195423318</td></tr>\n",
       "\t<tr><td>Active TSS</td><td>PLS       </td><td>10471</td><td>0.2587604409</td></tr>\n",
       "\t<tr><td>Active TSS</td><td>dELS      </td><td> 2644</td><td>0.0653388029</td></tr>\n",
       "</tbody>\n",
       "</table>\n"
      ],
      "text/latex": [
       "A grouped\\_df: 6 × 4\n",
       "\\begin{tabular}{llll}\n",
       " Label\\_ChromHMM & Label\\_cCREs & Count & Freq\\\\\n",
       " <chr> & <chr> & <int> & <dbl>\\\\\n",
       "\\hline\n",
       "\t Active TSS & CA-CTCF    &     6 & 0.0001482726\\\\\n",
       "\t Active TSS & CA-H3K4me3 &   102 & 0.0025206346\\\\\n",
       "\t Active TSS & CA-TF      &    11 & 0.0002718331\\\\\n",
       "\t Active TSS & Low-DNase  &  8884 & 0.2195423318\\\\\n",
       "\t Active TSS & PLS        & 10471 & 0.2587604409\\\\\n",
       "\t Active TSS & dELS       &  2644 & 0.0653388029\\\\\n",
       "\\end{tabular}\n"
      ],
      "text/markdown": [
       "\n",
       "A grouped_df: 6 × 4\n",
       "\n",
       "| Label_ChromHMM &lt;chr&gt; | Label_cCREs &lt;chr&gt; | Count &lt;int&gt; | Freq &lt;dbl&gt; |\n",
       "|---|---|---|---|\n",
       "| Active TSS | CA-CTCF    |     6 | 0.0001482726 |\n",
       "| Active TSS | CA-H3K4me3 |   102 | 0.0025206346 |\n",
       "| Active TSS | CA-TF      |    11 | 0.0002718331 |\n",
       "| Active TSS | Low-DNase  |  8884 | 0.2195423318 |\n",
       "| Active TSS | PLS        | 10471 | 0.2587604409 |\n",
       "| Active TSS | dELS       |  2644 | 0.0653388029 |\n",
       "\n"
      ],
      "text/plain": [
       "  Label_ChromHMM Label_cCREs Count Freq        \n",
       "1 Active TSS     CA-CTCF         6 0.0001482726\n",
       "2 Active TSS     CA-H3K4me3    102 0.0025206346\n",
       "3 Active TSS     CA-TF          11 0.0002718331\n",
       "4 Active TSS     Low-DNase    8884 0.2195423318\n",
       "5 Active TSS     PLS         10471 0.2587604409\n",
       "6 Active TSS     dELS         2644 0.0653388029"
      ]
     },
     "metadata": {},
     "output_type": "display_data"
    }
   ],
   "source": [
    "dat = dat_overlap2\n",
    "dat = dat %>%\n",
    "    dplyr::group_by(Label_ChromHMM, Label_cCREs) %>%\n",
    "    dplyr::summarise(Count = n(), .groups=\"drop\") %>%\n",
    "    dplyr::group_by(Label_ChromHMM) %>%\n",
    "    dplyr::mutate(Freq = Count / sum(Count))\n",
    "\n",
    "dat_overlap_count_chromhmm = dat\n",
    "head(dat)"
   ]
  },
  {
   "cell_type": "code",
   "execution_count": 57,
   "id": "7e6acb22-a0d6-4ce7-8d9b-966c54981991",
   "metadata": {},
   "outputs": [
    {
     "data": {
      "text/html": [
       "<table class=\"dataframe\">\n",
       "<caption>A grouped_df: 6 × 4</caption>\n",
       "<thead>\n",
       "\t<tr><th scope=col>Label_cCREs</th><th scope=col>Label_ChromHMM</th><th scope=col>Count</th><th scope=col>Freq</th></tr>\n",
       "\t<tr><th scope=col>&lt;chr&gt;</th><th scope=col>&lt;chr&gt;</th><th scope=col>&lt;int&gt;</th><th scope=col>&lt;dbl&gt;</th></tr>\n",
       "</thead>\n",
       "<tbody>\n",
       "\t<tr><td>CA-CTCF</td><td>Active TSS      </td><td>   6</td><td>0.0001860927</td></tr>\n",
       "\t<tr><td>CA-CTCF</td><td>Bivalent        </td><td>1823</td><td>0.0565411575</td></tr>\n",
       "\t<tr><td>CA-CTCF</td><td>Enhancer        </td><td> 497</td><td>0.0154146765</td></tr>\n",
       "\t<tr><td>CA-CTCF</td><td>Enhancer in gene</td><td>1207</td><td>0.0374356430</td></tr>\n",
       "\t<tr><td>CA-CTCF</td><td>Flanking TSS    </td><td> 639</td><td>0.0198188698</td></tr>\n",
       "\t<tr><td>CA-CTCF</td><td>Heterochromatin </td><td> 353</td><td>0.0109484523</td></tr>\n",
       "</tbody>\n",
       "</table>\n"
      ],
      "text/latex": [
       "A grouped\\_df: 6 × 4\n",
       "\\begin{tabular}{llll}\n",
       " Label\\_cCREs & Label\\_ChromHMM & Count & Freq\\\\\n",
       " <chr> & <chr> & <int> & <dbl>\\\\\n",
       "\\hline\n",
       "\t CA-CTCF & Active TSS       &    6 & 0.0001860927\\\\\n",
       "\t CA-CTCF & Bivalent         & 1823 & 0.0565411575\\\\\n",
       "\t CA-CTCF & Enhancer         &  497 & 0.0154146765\\\\\n",
       "\t CA-CTCF & Enhancer in gene & 1207 & 0.0374356430\\\\\n",
       "\t CA-CTCF & Flanking TSS     &  639 & 0.0198188698\\\\\n",
       "\t CA-CTCF & Heterochromatin  &  353 & 0.0109484523\\\\\n",
       "\\end{tabular}\n"
      ],
      "text/markdown": [
       "\n",
       "A grouped_df: 6 × 4\n",
       "\n",
       "| Label_cCREs &lt;chr&gt; | Label_ChromHMM &lt;chr&gt; | Count &lt;int&gt; | Freq &lt;dbl&gt; |\n",
       "|---|---|---|---|\n",
       "| CA-CTCF | Active TSS       |    6 | 0.0001860927 |\n",
       "| CA-CTCF | Bivalent         | 1823 | 0.0565411575 |\n",
       "| CA-CTCF | Enhancer         |  497 | 0.0154146765 |\n",
       "| CA-CTCF | Enhancer in gene | 1207 | 0.0374356430 |\n",
       "| CA-CTCF | Flanking TSS     |  639 | 0.0198188698 |\n",
       "| CA-CTCF | Heterochromatin  |  353 | 0.0109484523 |\n",
       "\n"
      ],
      "text/plain": [
       "  Label_cCREs Label_ChromHMM   Count Freq        \n",
       "1 CA-CTCF     Active TSS          6  0.0001860927\n",
       "2 CA-CTCF     Bivalent         1823  0.0565411575\n",
       "3 CA-CTCF     Enhancer          497  0.0154146765\n",
       "4 CA-CTCF     Enhancer in gene 1207  0.0374356430\n",
       "5 CA-CTCF     Flanking TSS      639  0.0198188698\n",
       "6 CA-CTCF     Heterochromatin   353  0.0109484523"
      ]
     },
     "metadata": {},
     "output_type": "display_data"
    }
   ],
   "source": [
    "dat = dat_overlap2\n",
    "dat = dat %>%\n",
    "    dplyr::group_by(Label_cCREs, Label_ChromHMM) %>%\n",
    "    dplyr::summarise(Count = n(), .groups=\"drop\") %>%\n",
    "    dplyr::group_by(Label_cCREs) %>%\n",
    "    dplyr::mutate(Freq = Count / sum(Count))\n",
    "\n",
    "dat_overlap_count_ccres = dat\n",
    "head(dat)"
   ]
  },
  {
   "cell_type": "code",
   "execution_count": 69,
   "id": "01870d09-4428-4d62-8223-332ec7e9d43c",
   "metadata": {},
   "outputs": [
    {
     "data": {
      "image/png": "[encoded data removed]",
      "text/plain": [
       "plot without title"
      ]
     },
     "metadata": {
      "image/png": {
       "height": 360,
       "width": 600
      }
     },
     "output_type": "display_data"
    }
   ],
   "source": [
    "### order Assay\n",
    "dat = dat_overlap_count_chromhmm\n",
    "dat = dat %>% \n",
    "    dplyr::filter(Label_cCREs == \"Low-DNase\") %>% \n",
    "    dplyr::arrange(Freq)\n",
    "\n",
    "vec_txt_label1 = dat$Label_ChromHMM\n",
    "\n",
    "### order label\n",
    "vec_txt_color = c(\n",
    "    \"PLS\"        = \"#fb8072\", \n",
    "    \"pELS\"       = \"#fdb462\", \n",
    "    \"dELS\"       = \"#fee08b\", \n",
    "    \"CA-TF\"      = \"#984ea3\", #\"#bebada\", \n",
    "    \"CA-CTCF\"    = \"#80b1d3\", \n",
    "    \"CA-H3K4me3\" = \"#fccde5\",  \n",
    "    \"CA-only\"    = \"#8dd3c7\", \n",
    "    \"Low-DNase\"  = \"#d9d9d9\")\n",
    "\n",
    "vec_txt_label2 = names(vec_txt_color)\n",
    "\n",
    "### set factor\n",
    "dat = dat_overlap_count\n",
    "dat = dat %>% \n",
    "    dplyr::mutate(\n",
    "        Label_ChromHMM = factor(Label_ChromHMM, levels=rev(vec_txt_label1)),\n",
    "        Label_cCREs    = factor(Label_cCREs,    levels=rev(vec_txt_label2)),\n",
    "    ) %>%\n",
    "    dplyr::mutate(`cCREs Category` = Label_cCREs)\n",
    "\n",
    "### plot\n",
    "theme_fill = scale_fill_manual(values = vec_txt_color)\n",
    "\n",
    "gpt = ggplot(dat, aes(x=Label_ChromHMM, y=Freq, fill=`cCREs Category`)) + \n",
    "    geom_col() +\n",
    "    labs(x=\"\", y=\"Proportion\", title = \"cCREs composition of each ChromHMM\") +\n",
    "    coord_flip() +\n",
    "    theme_cowplot() +\n",
    "    theme_fill\n",
    "\n",
    "### show and save\n",
    "options(repr.plot.height=6, repr.plot.width=10)\n",
    "print(gpt)\n",
    "#ggsave(\"fig.fcc_table.ccres.proportion.png\", gpt, width = 9, height = 4.5)\n",
    "#ggsave(\"fig.fcc_table.ccres.proportion.pdf\", gpt, width = 9, height = 4.5)"
   ]
  },
  {
   "cell_type": "code",
   "execution_count": 61,
   "id": "02062d23-1f94-4a48-9f67-cff41b89ab41",
   "metadata": {},
   "outputs": [
    {
     "data": {
      "text/html": [
       "<table class=\"dataframe\">\n",
       "<caption>A grouped_df: 6 × 4</caption>\n",
       "<thead>\n",
       "\t<tr><th scope=col>Label_cCREs</th><th scope=col>Label_ChromHMM</th><th scope=col>Count</th><th scope=col>Freq</th></tr>\n",
       "\t<tr><th scope=col>&lt;chr&gt;</th><th scope=col>&lt;chr&gt;</th><th scope=col>&lt;int&gt;</th><th scope=col>&lt;dbl&gt;</th></tr>\n",
       "</thead>\n",
       "<tbody>\n",
       "\t<tr><td>CA-CTCF</td><td>Active TSS      </td><td>   6</td><td>0.0001860927</td></tr>\n",
       "\t<tr><td>CA-CTCF</td><td>Bivalent        </td><td>1823</td><td>0.0565411575</td></tr>\n",
       "\t<tr><td>CA-CTCF</td><td>Enhancer        </td><td> 497</td><td>0.0154146765</td></tr>\n",
       "\t<tr><td>CA-CTCF</td><td>Enhancer in gene</td><td>1207</td><td>0.0374356430</td></tr>\n",
       "\t<tr><td>CA-CTCF</td><td>Flanking TSS    </td><td> 639</td><td>0.0198188698</td></tr>\n",
       "\t<tr><td>CA-CTCF</td><td>Heterochromatin </td><td> 353</td><td>0.0109484523</td></tr>\n",
       "</tbody>\n",
       "</table>\n"
      ],
      "text/latex": [
       "A grouped\\_df: 6 × 4\n",
       "\\begin{tabular}{llll}\n",
       " Label\\_cCREs & Label\\_ChromHMM & Count & Freq\\\\\n",
       " <chr> & <chr> & <int> & <dbl>\\\\\n",
       "\\hline\n",
       "\t CA-CTCF & Active TSS       &    6 & 0.0001860927\\\\\n",
       "\t CA-CTCF & Bivalent         & 1823 & 0.0565411575\\\\\n",
       "\t CA-CTCF & Enhancer         &  497 & 0.0154146765\\\\\n",
       "\t CA-CTCF & Enhancer in gene & 1207 & 0.0374356430\\\\\n",
       "\t CA-CTCF & Flanking TSS     &  639 & 0.0198188698\\\\\n",
       "\t CA-CTCF & Heterochromatin  &  353 & 0.0109484523\\\\\n",
       "\\end{tabular}\n"
      ],
      "text/markdown": [
       "\n",
       "A grouped_df: 6 × 4\n",
       "\n",
       "| Label_cCREs &lt;chr&gt; | Label_ChromHMM &lt;chr&gt; | Count &lt;int&gt; | Freq &lt;dbl&gt; |\n",
       "|---|---|---|---|\n",
       "| CA-CTCF | Active TSS       |    6 | 0.0001860927 |\n",
       "| CA-CTCF | Bivalent         | 1823 | 0.0565411575 |\n",
       "| CA-CTCF | Enhancer         |  497 | 0.0154146765 |\n",
       "| CA-CTCF | Enhancer in gene | 1207 | 0.0374356430 |\n",
       "| CA-CTCF | Flanking TSS     |  639 | 0.0198188698 |\n",
       "| CA-CTCF | Heterochromatin  |  353 | 0.0109484523 |\n",
       "\n"
      ],
      "text/plain": [
       "  Label_cCREs Label_ChromHMM   Count Freq        \n",
       "1 CA-CTCF     Active TSS          6  0.0001860927\n",
       "2 CA-CTCF     Bivalent         1823  0.0565411575\n",
       "3 CA-CTCF     Enhancer          497  0.0154146765\n",
       "4 CA-CTCF     Enhancer in gene 1207  0.0374356430\n",
       "5 CA-CTCF     Flanking TSS      639  0.0198188698\n",
       "6 CA-CTCF     Heterochromatin   353  0.0109484523"
      ]
     },
     "metadata": {},
     "output_type": "display_data"
    }
   ],
   "source": [
    "head(dat_overlap_count_ccres)"
   ]
  },
  {
   "cell_type": "code",
   "execution_count": 72,
   "id": "2afea250-7ec4-48b7-8fec-f053ead93681",
   "metadata": {},
   "outputs": [
    {
     "data": {
      "image/png": "[encoded data removed]",
      "text/plain": [
       "plot without title"
      ]
     },
     "metadata": {
      "image/png": {
       "height": 360,
       "width": 660
      }
     },
     "output_type": "display_data"
    }
   ],
   "source": [
    "### order Assay\n",
    "dat = dat_overlap_count_ccres\n",
    "vec = c(\"Heterochromatin\", \"Quiescent\")\n",
    "\n",
    "dat = dat %>% \n",
    "    dplyr::filter(Label_ChromHMM %in% vec) %>% \n",
    "    dplyr::group_by(Label_cCREs) %>%\n",
    "    dplyr::summarise(Freq = sum(Freq)) %>%\n",
    "    dplyr::arrange(Freq)\n",
    "\n",
    "vec_txt_label1 = dat$Label_cCREs\n",
    "\n",
    "### order label 1\n",
    "vec_txt_color1 = c(\n",
    "    \"Tss\"        = \"#FF0000\", \n",
    "    \"TssFlnk\"    = \"#FF4500\", \n",
    "    \"TssFlnkD\"   = \"#FF4500\", \n",
    "    \"TssFlnkU\"   = \"#FF4500\", \n",
    "    \"Enh1\"       = \"#FFDF00\", \n",
    "    \"Enh2\"       = \"#FFDF00\", \n",
    "    \"EnhG1\"      = \"#AADF07\", \n",
    "    \"EnhG2\"      = \"#AADF07\", \n",
    "    \"Tx\"         = \"#008000\",\n",
    "    \"TxWk\"       = \"#3F9A50\",\n",
    "    \"Biv\"        = \"#CD5C5C\",\n",
    "    \"ZNF/Rpts\"   = \"#68cdaa\",\n",
    "    \"ReprPC\"     = \"#8937DF\", \n",
    "    \"Het\"        = \"#4B0082\",\n",
    "    \"Quies\"      = \"#DCDCDC\")\n",
    "\n",
    "### order label 2\n",
    "vec_txt_color2 = c(\n",
    "    \"Active TSS\"            = \"#FF0000\", \n",
    "    \"Flanking TSS\"          = \"#FF4500\", \n",
    "    \"Enhancer\"              = \"#FFDF00\", \n",
    "    \"Enhancer in gene\"      = \"#AADF07\", \n",
    "    \"Transcription\"         = \"#008000\",\n",
    "    \"Weak transcription\"    = \"#3F9A50\", \n",
    "    \"ZNF genes repeats\"     = \"#68cdaa\",\n",
    "    \"Bivalent\"              = \"#CD5C5C\",  \n",
    "    \"Repressed by Polycomb\" = \"#8937DF\", \n",
    "    \"Heterochromatin\"       = \"#4B0082\",\n",
    "    \"Quiescent\"             = \"#DCDCDC\")\n",
    "\n",
    "vec_txt_color  = vec_txt_color2\n",
    "vec_txt_label2 = names(vec_txt_color)\n",
    "\n",
    "### set factors\n",
    "dat = dat_overlap_count_ccres\n",
    "\n",
    "dat = dat %>% \n",
    "    dplyr::mutate(\n",
    "        Label_cCREs    = factor(Label_cCREs,    levels = rev(vec_txt_label1)),\n",
    "        Label_ChromHMM = factor(Label_ChromHMM, levels = rev(vec_txt_label2))\n",
    "    ) %>% \n",
    "    dplyr::mutate(`ChromHMM State` = Label_ChromHMM)\n",
    "\n",
    "### plot\n",
    "theme_fill = scale_fill_manual(values = vec_txt_color2)\n",
    "\n",
    "gpt = ggplot(dat, aes(x=Label_cCREs, y=Freq, fill=`ChromHMM State`)) + \n",
    "    geom_col() +\n",
    "    labs(x=\"\", y=\"Proportion\", title = \"ChromHMM composition of each cCREs\") +\n",
    "    coord_flip() +\n",
    "    theme_cowplot() +\n",
    "    theme_fill\n",
    "\n",
    "### show and save\n",
    "options(repr.plot.height=6, repr.plot.width=11)\n",
    "print(gpt)\n",
    "#ggsave(\"fig.fcc_table.chromhmm.proportion.png\", gpt, width = 9.5, height = 4.5)\n",
    "#ggsave(\"fig.fcc_table.chromhmm.proportion.pdf\", gpt, width = 9.5, height = 4.5)"
   ]
  },
  {
   "cell_type": "code",
   "execution_count": null,
   "id": "3ec8c63d-29b9-418a-95b4-e9d73b44c218",
   "metadata": {},
   "outputs": [],
   "source": []
  }
 ],
 "metadata": {
  "kernelspec": {
   "display_name": "R",
   "language": "R",
   "name": "ir"
  },
  "language_info": {
   "codemirror_mode": "r",
   "file_extension": ".r",
   "mimetype": "text/x-r-source",
   "name": "R",
   "pygments_lexer": "r",
   "version": "4.3.1"
  }
 },
 "nbformat": 4,
 "nbformat_minor": 5
}
