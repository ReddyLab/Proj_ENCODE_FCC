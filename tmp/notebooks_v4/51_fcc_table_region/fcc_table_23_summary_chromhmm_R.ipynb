{
 "cells": [
  {
   "cell_type": "markdown",
   "metadata": {},
   "source": [
    "**Set environment**"
   ]
  },
  {
   "cell_type": "code",
   "execution_count": 1,
   "metadata": {},
   "outputs": [
    {
     "name": "stdout",
     "output_type": "stream",
     "text": [
      "You are in Singularity: singularity_proj_encode_fcc \n",
      "BASE DIRECTORY (FD_BASE): /data/reddylab/Kuei \n",
      "WORK DIRECTORY (FD_WORK): /data/reddylab/Kuei/out \n",
      "CODE DIRECTORY (FD_CODE): /data/reddylab/Kuei/code \n",
      "PATH OF PROJECT (FD_PRJ): /data/reddylab/Kuei/code/Proj_CombEffect_ENCODE_FCC \n",
      "PATH OF RESULTS (FD_RES): /data/reddylab/Kuei/out/proj_combeffect_encode_fcc \n",
      "PATH OF LOG     (FD_LOG): /data/reddylab/Kuei/out/proj_combeffect_encode_fcc/log \n"
     ]
    }
   ],
   "source": [
    "suppressMessages(suppressWarnings(source(\"../config/config_sing.R\")))\n",
    "show_env()"
   ]
  },
  {
   "cell_type": "markdown",
   "metadata": {},
   "source": [
    "**Check data files**"
   ]
  },
  {
   "cell_type": "code",
   "execution_count": 2,
   "metadata": {},
   "outputs": [],
   "source": [
    "FOLDER_A = \"annotation_fcc_table\"\n",
    "FD_REG_A = file.path(\n",
    "    FD_RES, \n",
    "    \"results\", \n",
    "    \"region\", \n",
    "    FOLDER_A)\n",
    "\n",
    "FOLDER_B = \"annotation_chromHMM\"\n",
    "FD_REG_B = file.path(\n",
    "    FD_RES, \n",
    "    \"results\", \n",
    "    \"region\", \n",
    "    FOLDER_B)\n",
    "\n",
    "FD_REG_C = file.path(\n",
    "    FD_REG_A,\n",
    "    FOLDER_B\n",
    ")\n",
    "\n",
    "FD_OUT = file.path(\n",
    "    FD_REG_A,\n",
    "    \"summary\"\n",
    ")"
   ]
  },
  {
   "cell_type": "code",
   "execution_count": 3,
   "metadata": {},
   "outputs": [
    {
     "name": "stdout",
     "output_type": "stream",
     "text": [
      "[1] \"annotation_ccres\"\n",
      "[1] \"annotation_ccres_silencer\"\n",
      "[1] \"annotation_chromHMM\"\n",
      "[1] \"annotation_tss_pol2\"\n",
      "[1] \"description.tsv\"\n",
      "[1] \"fcc_table.starrmpra.crispri.atac.concat.bed.gz\"\n",
      "[1] \"fcc_table.starrmpra.crispri.atac.e2g_benchmark.concat.bed.gz\"\n",
      "[1] \"fcc_table.starrmpra.crispri.atac.e2g_benchmark.e2g_prediction.concat.bed.gz\"\n",
      "[1] \"fcc_table.starrmpra.crispri.atac.e2g_benchmark.e2g_prediction.merge.bed.gz\"\n",
      "[1] \"fcc_table.starrmpra.crispri.atac.e2g_benchmark.e2g_prediction.merge.tsv\"\n",
      "[1] \"fcc_table.starrmpra.crispri.atac.e2g_benchmark.merge.bed.gz\"\n",
      "[1] \"fcc_table.starrmpra.crispri.atac.e2g_benchmark.merge.tsv\"\n",
      "[1] \"fcc_table.starrmpra.crispri.atac.merge.bed.gz\"\n",
      "[1] \"fcc_table.starrmpra.crispri.atac.merge.tsv\"\n",
      "[1] \"summary\"\n",
      "[1] \"z_summary\"\n"
     ]
    }
   ],
   "source": [
    "fdiry  = FD_REG_A\n",
    "fnames = dir(fdiry)\n",
    "for(fname in fnames){print(fname)}"
   ]
  },
  {
   "cell_type": "code",
   "execution_count": 4,
   "metadata": {},
   "outputs": [
    {
     "name": "stdout",
     "output_type": "stream",
     "text": [
      "[1] \"ChIP_ENCSR000EWA-ENCSR000AKP-ENCSR000EWC-ENCSR000DWB-ENCSR000EWB-ENCSR000APE.bed\"\n",
      "[1] \"description.tsv\"\n",
      "[1] \"K562.ENCSR365YNI.ENCFF106BGJ.ChromHMM.bed.gz\"\n"
     ]
    }
   ],
   "source": [
    "fdiry  = FD_REG_B\n",
    "fnames = dir(fdiry)\n",
    "for(fname in fnames){print(fname)}"
   ]
  },
  {
   "cell_type": "code",
   "execution_count": 5,
   "metadata": {},
   "outputs": [
    {
     "name": "stdout",
     "output_type": "stream",
     "text": [
      "[1] \"peak.annotation.K562.ENCSR365YNI.ENCFF106BGJ.ChromHMM.bed.gz\"\n"
     ]
    }
   ],
   "source": [
    "fdiry  = FD_REG_C\n",
    "fnames = dir(fdiry)\n",
    "for(fname in fnames){print(fname)}"
   ]
  },
  {
   "cell_type": "markdown",
   "metadata": {},
   "source": [
    "## Import data"
   ]
  },
  {
   "cell_type": "code",
   "execution_count": 6,
   "metadata": {},
   "outputs": [
    {
     "name": "stdout",
     "output_type": "stream",
     "text": [
      "[1] \"Chrom_A\"     \"Start_A\"     \"End_A\"       \"Assay_Type\"  \"Assay_Label\"\n"
     ]
    },
    {
     "data": {
      "text/html": [
       "<table class=\"dataframe\">\n",
       "<caption>A spec_tbl_df: 5 × 2</caption>\n",
       "<thead>\n",
       "\t<tr><th scope=col>Name</th><th scope=col>Description</th></tr>\n",
       "\t<tr><th scope=col>&lt;chr&gt;</th><th scope=col>&lt;chr&gt;</th></tr>\n",
       "</thead>\n",
       "<tbody>\n",
       "\t<tr><td>Chrom      </td><td>Chromosome </td></tr>\n",
       "\t<tr><td>Start      </td><td>Start      </td></tr>\n",
       "\t<tr><td>End        </td><td>End        </td></tr>\n",
       "\t<tr><td>Assay_Type </td><td>Assay type </td></tr>\n",
       "\t<tr><td>Assay_Label</td><td>Assay label</td></tr>\n",
       "</tbody>\n",
       "</table>\n"
      ],
      "text/latex": [
       "A spec\\_tbl\\_df: 5 × 2\n",
       "\\begin{tabular}{ll}\n",
       " Name & Description\\\\\n",
       " <chr> & <chr>\\\\\n",
       "\\hline\n",
       "\t Chrom       & Chromosome \\\\\n",
       "\t Start       & Start      \\\\\n",
       "\t End         & End        \\\\\n",
       "\t Assay\\_Type  & Assay type \\\\\n",
       "\t Assay\\_Label & Assay label\\\\\n",
       "\\end{tabular}\n"
      ],
      "text/markdown": [
       "\n",
       "A spec_tbl_df: 5 × 2\n",
       "\n",
       "| Name &lt;chr&gt; | Description &lt;chr&gt; |\n",
       "|---|---|\n",
       "| Chrom       | Chromosome  |\n",
       "| Start       | Start       |\n",
       "| End         | End         |\n",
       "| Assay_Type  | Assay type  |\n",
       "| Assay_Label | Assay label |\n",
       "\n"
      ],
      "text/plain": [
       "  Name        Description\n",
       "1 Chrom       Chromosome \n",
       "2 Start       Start      \n",
       "3 End         End        \n",
       "4 Assay_Type  Assay type \n",
       "5 Assay_Label Assay label"
      ]
     },
     "metadata": {},
     "output_type": "display_data"
    }
   ],
   "source": [
    "### set file paths\n",
    "fdiry = FD_REG_A\n",
    "fname = \"description.tsv\"\n",
    "fpath = file.path(fdiry, fname)\n",
    "\n",
    "### read table\n",
    "dat = read_tsv(fpath, show_col_types = FALSE)\n",
    "vec = dat$Name\n",
    "vec[1:3] = paste(vec[1:3], \"A\", sep=\"_\")\n",
    "\n",
    "### assign and show\n",
    "vec_txt_cnames_reg_A = vec\n",
    "print(vec)\n",
    "dat"
   ]
  },
  {
   "cell_type": "code",
   "execution_count": 7,
   "metadata": {},
   "outputs": [
    {
     "name": "stdout",
     "output_type": "stream",
     "text": [
      "[1] \"Chrom_B\"    \"Start_B\"    \"End_B\"      \"Name_B\"     \"Score_B\"   \n",
      "[6] \"Strand_B\"   \"ThickStart\" \"ThickEnd\"   \"ItemRgb\"   \n"
     ]
    },
    {
     "data": {
      "text/html": [
       "<table class=\"dataframe\">\n",
       "<caption>A spec_tbl_df: 9 × 2</caption>\n",
       "<thead>\n",
       "\t<tr><th scope=col>Name</th><th scope=col>Description</th></tr>\n",
       "\t<tr><th scope=col>&lt;chr&gt;</th><th scope=col>&lt;chr&gt;</th></tr>\n",
       "</thead>\n",
       "<tbody>\n",
       "\t<tr><td>Chrom     </td><td>Chromosome                                                 </td></tr>\n",
       "\t<tr><td>Start     </td><td>Start position                                             </td></tr>\n",
       "\t<tr><td>End       </td><td>End position                                               </td></tr>\n",
       "\t<tr><td>Name      </td><td>ChromHMM Label; 15 state ChIP-seq model                    </td></tr>\n",
       "\t<tr><td>Score     </td><td>Score                                                      </td></tr>\n",
       "\t<tr><td>Strand    </td><td>[+-.]; Use '.' if no strand is assigned.                   </td></tr>\n",
       "\t<tr><td>ThickStart</td><td>The starting position at which the feature is drawn thickly</td></tr>\n",
       "\t<tr><td>ThickEnd  </td><td>The ending position at which the feature is drawn thickly  </td></tr>\n",
       "\t<tr><td>ItemRgb   </td><td>An RGB value of the form R,G,B (e.g. 255,0,0)              </td></tr>\n",
       "</tbody>\n",
       "</table>\n"
      ],
      "text/latex": [
       "A spec\\_tbl\\_df: 9 × 2\n",
       "\\begin{tabular}{ll}\n",
       " Name & Description\\\\\n",
       " <chr> & <chr>\\\\\n",
       "\\hline\n",
       "\t Chrom      & Chromosome                                                 \\\\\n",
       "\t Start      & Start position                                             \\\\\n",
       "\t End        & End position                                               \\\\\n",
       "\t Name       & ChromHMM Label; 15 state ChIP-seq model                    \\\\\n",
       "\t Score      & Score                                                      \\\\\n",
       "\t Strand     & {[}+-.{]}; Use '.' if no strand is assigned.                   \\\\\n",
       "\t ThickStart & The starting position at which the feature is drawn thickly\\\\\n",
       "\t ThickEnd   & The ending position at which the feature is drawn thickly  \\\\\n",
       "\t ItemRgb    & An RGB value of the form R,G,B (e.g. 255,0,0)              \\\\\n",
       "\\end{tabular}\n"
      ],
      "text/markdown": [
       "\n",
       "A spec_tbl_df: 9 × 2\n",
       "\n",
       "| Name &lt;chr&gt; | Description &lt;chr&gt; |\n",
       "|---|---|\n",
       "| Chrom      | Chromosome                                                  |\n",
       "| Start      | Start position                                              |\n",
       "| End        | End position                                                |\n",
       "| Name       | ChromHMM Label; 15 state ChIP-seq model                     |\n",
       "| Score      | Score                                                       |\n",
       "| Strand     | [+-.]; Use '.' if no strand is assigned.                    |\n",
       "| ThickStart | The starting position at which the feature is drawn thickly |\n",
       "| ThickEnd   | The ending position at which the feature is drawn thickly   |\n",
       "| ItemRgb    | An RGB value of the form R,G,B (e.g. 255,0,0)               |\n",
       "\n"
      ],
      "text/plain": [
       "  Name       Description                                                \n",
       "1 Chrom      Chromosome                                                 \n",
       "2 Start      Start position                                             \n",
       "3 End        End position                                               \n",
       "4 Name       ChromHMM Label; 15 state ChIP-seq model                    \n",
       "5 Score      Score                                                      \n",
       "6 Strand     [+-.]; Use '.' if no strand is assigned.                   \n",
       "7 ThickStart The starting position at which the feature is drawn thickly\n",
       "8 ThickEnd   The ending position at which the feature is drawn thickly  \n",
       "9 ItemRgb    An RGB value of the form R,G,B (e.g. 255,0,0)              "
      ]
     },
     "metadata": {},
     "output_type": "display_data"
    }
   ],
   "source": [
    "### set file paths\n",
    "fdiry = FD_REG_B\n",
    "fname = \"description.tsv\"\n",
    "fpath = file.path(fdiry, fname)\n",
    "\n",
    "### read table\n",
    "dat = read_tsv(fpath, show_col_types = FALSE)\n",
    "vec = dat$Name\n",
    "vec[1:6] = paste(vec[1:6], \"B\", sep=\"_\")\n",
    "\n",
    "### assign and show\n",
    "vec_txt_cnames_reg_B = vec\n",
    "print(vec)\n",
    "dat"
   ]
  },
  {
   "cell_type": "code",
   "execution_count": 8,
   "metadata": {},
   "outputs": [
    {
     "name": "stdout",
     "output_type": "stream",
     "text": [
      "                                                      ChromHMM \n",
      "\"peak.annotation.K562.ENCSR365YNI.ENCFF106BGJ.ChromHMM.bed.gz\" \n"
     ]
    }
   ],
   "source": [
    "### init: set column names\n",
    "vec_txt_cnames = c(\n",
    "    vec_txt_cnames_reg_A,\n",
    "    vec_txt_cnames_reg_B,\n",
    "    \"Overlap\"\n",
    ")\n",
    "\n",
    "### init: set file path\n",
    "fdiry = FD_REG_C\n",
    "fname = \"peak.annotation.K562.ENCSR365YNI.ENCFF106BGJ.ChromHMM.bed.gz\"\n",
    "fpath = file.path(fdiry, fname)\n",
    "\n",
    "### init: annotation and label\n",
    "annotations = \"ChromHMM\"\n",
    "names(fnames)      = annotations\n",
    "names(annotations) = annotations\n",
    "print(fnames)"
   ]
  },
  {
   "cell_type": "code",
   "execution_count": 12,
   "metadata": {},
   "outputs": [
    {
     "name": "stdout",
     "output_type": "stream",
     "text": [
      "[1] 1\n",
      "=========================\n",
      "[1] \"ChromHMM\"\n",
      "=========================\n"
     ]
    },
    {
     "data": {
      "text/html": [
       "<table class=\"dataframe\">\n",
       "<caption>A tibble: 6 × 19</caption>\n",
       "<thead>\n",
       "\t<tr><th scope=col>Chrom_A</th><th scope=col>Start_A</th><th scope=col>End_A</th><th scope=col>Assay_Type</th><th scope=col>Assay_Label</th><th scope=col>Chrom_B</th><th scope=col>Start_B</th><th scope=col>End_B</th><th scope=col>Name_B</th><th scope=col>Score_B</th><th scope=col>Strand_B</th><th scope=col>ThickStart</th><th scope=col>ThickEnd</th><th scope=col>ItemRgb</th><th scope=col>Overlap</th><th scope=col>Annotation</th><th scope=col>Region_A</th><th scope=col>Region_B</th><th scope=col>Label_B</th></tr>\n",
       "\t<tr><th scope=col>&lt;chr&gt;</th><th scope=col>&lt;dbl&gt;</th><th scope=col>&lt;dbl&gt;</th><th scope=col>&lt;chr&gt;</th><th scope=col>&lt;chr&gt;</th><th scope=col>&lt;chr&gt;</th><th scope=col>&lt;dbl&gt;</th><th scope=col>&lt;dbl&gt;</th><th scope=col>&lt;chr&gt;</th><th scope=col>&lt;dbl&gt;</th><th scope=col>&lt;chr&gt;</th><th scope=col>&lt;dbl&gt;</th><th scope=col>&lt;dbl&gt;</th><th scope=col>&lt;chr&gt;</th><th scope=col>&lt;dbl&gt;</th><th scope=col>&lt;chr&gt;</th><th scope=col>&lt;chr&gt;</th><th scope=col>&lt;chr&gt;</th><th scope=col>&lt;chr&gt;</th></tr>\n",
       "</thead>\n",
       "<tbody>\n",
       "\t<tr><td>chr1</td><td>10015</td><td>10442</td><td>ATAC</td><td>ATAC</td><td>chr1</td><td>    0</td><td> 16000</td><td>Quies</td><td>1</td><td>.</td><td>    0</td><td> 16000</td><td>220,220,220</td><td>427</td><td>ChromHMM</td><td>chr1:10015-10442</td><td>chr1:0-16000     </td><td>Quies</td></tr>\n",
       "\t<tr><td>chr1</td><td>14253</td><td>14645</td><td>ATAC</td><td>ATAC</td><td>chr1</td><td>    0</td><td> 16000</td><td>Quies</td><td>1</td><td>.</td><td>    0</td><td> 16000</td><td>220,220,220</td><td>392</td><td>ChromHMM</td><td>chr1:14253-14645</td><td>chr1:0-16000     </td><td>Quies</td></tr>\n",
       "\t<tr><td>chr1</td><td>16015</td><td>16477</td><td>ATAC</td><td>ATAC</td><td>chr1</td><td>16000</td><td> 16200</td><td>TxWk </td><td>1</td><td>.</td><td>16000</td><td> 16200</td><td>63,154,80  </td><td>185</td><td>ChromHMM</td><td>chr1:16015-16477</td><td>chr1:16000-16200 </td><td>TxWk </td></tr>\n",
       "\t<tr><td>chr1</td><td>17237</td><td>17772</td><td>ATAC</td><td>ATAC</td><td>chr1</td><td>17400</td><td> 17600</td><td>TxWk </td><td>1</td><td>.</td><td>17400</td><td> 17600</td><td>63,154,80  </td><td>200</td><td>ChromHMM</td><td>chr1:17237-17772</td><td>chr1:17400-17600 </td><td>TxWk </td></tr>\n",
       "\t<tr><td>chr1</td><td>28903</td><td>29613</td><td>ATAC</td><td>ATAC</td><td>chr1</td><td>17600</td><td>118400</td><td>Quies</td><td>1</td><td>.</td><td>17600</td><td>118400</td><td>220,220,220</td><td>710</td><td>ChromHMM</td><td>chr1:28903-29613</td><td>chr1:17600-118400</td><td>Quies</td></tr>\n",
       "\t<tr><td>chr1</td><td>30803</td><td>31072</td><td>ATAC</td><td>ATAC</td><td>chr1</td><td>17600</td><td>118400</td><td>Quies</td><td>1</td><td>.</td><td>17600</td><td>118400</td><td>220,220,220</td><td>269</td><td>ChromHMM</td><td>chr1:30803-31072</td><td>chr1:17600-118400</td><td>Quies</td></tr>\n",
       "</tbody>\n",
       "</table>\n"
      ],
      "text/latex": [
       "A tibble: 6 × 19\n",
       "\\begin{tabular}{lllllllllllllllllll}\n",
       " Chrom\\_A & Start\\_A & End\\_A & Assay\\_Type & Assay\\_Label & Chrom\\_B & Start\\_B & End\\_B & Name\\_B & Score\\_B & Strand\\_B & ThickStart & ThickEnd & ItemRgb & Overlap & Annotation & Region\\_A & Region\\_B & Label\\_B\\\\\n",
       " <chr> & <dbl> & <dbl> & <chr> & <chr> & <chr> & <dbl> & <dbl> & <chr> & <dbl> & <chr> & <dbl> & <dbl> & <chr> & <dbl> & <chr> & <chr> & <chr> & <chr>\\\\\n",
       "\\hline\n",
       "\t chr1 & 10015 & 10442 & ATAC & ATAC & chr1 &     0 &  16000 & Quies & 1 & . &     0 &  16000 & 220,220,220 & 427 & ChromHMM & chr1:10015-10442 & chr1:0-16000      & Quies\\\\\n",
       "\t chr1 & 14253 & 14645 & ATAC & ATAC & chr1 &     0 &  16000 & Quies & 1 & . &     0 &  16000 & 220,220,220 & 392 & ChromHMM & chr1:14253-14645 & chr1:0-16000      & Quies\\\\\n",
       "\t chr1 & 16015 & 16477 & ATAC & ATAC & chr1 & 16000 &  16200 & TxWk  & 1 & . & 16000 &  16200 & 63,154,80   & 185 & ChromHMM & chr1:16015-16477 & chr1:16000-16200  & TxWk \\\\\n",
       "\t chr1 & 17237 & 17772 & ATAC & ATAC & chr1 & 17400 &  17600 & TxWk  & 1 & . & 17400 &  17600 & 63,154,80   & 200 & ChromHMM & chr1:17237-17772 & chr1:17400-17600  & TxWk \\\\\n",
       "\t chr1 & 28903 & 29613 & ATAC & ATAC & chr1 & 17600 & 118400 & Quies & 1 & . & 17600 & 118400 & 220,220,220 & 710 & ChromHMM & chr1:28903-29613 & chr1:17600-118400 & Quies\\\\\n",
       "\t chr1 & 30803 & 31072 & ATAC & ATAC & chr1 & 17600 & 118400 & Quies & 1 & . & 17600 & 118400 & 220,220,220 & 269 & ChromHMM & chr1:30803-31072 & chr1:17600-118400 & Quies\\\\\n",
       "\\end{tabular}\n"
      ],
      "text/markdown": [
       "\n",
       "A tibble: 6 × 19\n",
       "\n",
       "| Chrom_A &lt;chr&gt; | Start_A &lt;dbl&gt; | End_A &lt;dbl&gt; | Assay_Type &lt;chr&gt; | Assay_Label &lt;chr&gt; | Chrom_B &lt;chr&gt; | Start_B &lt;dbl&gt; | End_B &lt;dbl&gt; | Name_B &lt;chr&gt; | Score_B &lt;dbl&gt; | Strand_B &lt;chr&gt; | ThickStart &lt;dbl&gt; | ThickEnd &lt;dbl&gt; | ItemRgb &lt;chr&gt; | Overlap &lt;dbl&gt; | Annotation &lt;chr&gt; | Region_A &lt;chr&gt; | Region_B &lt;chr&gt; | Label_B &lt;chr&gt; |\n",
       "|---|---|---|---|---|---|---|---|---|---|---|---|---|---|---|---|---|---|---|\n",
       "| chr1 | 10015 | 10442 | ATAC | ATAC | chr1 |     0 |  16000 | Quies | 1 | . |     0 |  16000 | 220,220,220 | 427 | ChromHMM | chr1:10015-10442 | chr1:0-16000      | Quies |\n",
       "| chr1 | 14253 | 14645 | ATAC | ATAC | chr1 |     0 |  16000 | Quies | 1 | . |     0 |  16000 | 220,220,220 | 392 | ChromHMM | chr1:14253-14645 | chr1:0-16000      | Quies |\n",
       "| chr1 | 16015 | 16477 | ATAC | ATAC | chr1 | 16000 |  16200 | TxWk  | 1 | . | 16000 |  16200 | 63,154,80   | 185 | ChromHMM | chr1:16015-16477 | chr1:16000-16200  | TxWk  |\n",
       "| chr1 | 17237 | 17772 | ATAC | ATAC | chr1 | 17400 |  17600 | TxWk  | 1 | . | 17400 |  17600 | 63,154,80   | 200 | ChromHMM | chr1:17237-17772 | chr1:17400-17600  | TxWk  |\n",
       "| chr1 | 28903 | 29613 | ATAC | ATAC | chr1 | 17600 | 118400 | Quies | 1 | . | 17600 | 118400 | 220,220,220 | 710 | ChromHMM | chr1:28903-29613 | chr1:17600-118400 | Quies |\n",
       "| chr1 | 30803 | 31072 | ATAC | ATAC | chr1 | 17600 | 118400 | Quies | 1 | . | 17600 | 118400 | 220,220,220 | 269 | ChromHMM | chr1:30803-31072 | chr1:17600-118400 | Quies |\n",
       "\n"
      ],
      "text/plain": [
       "  Chrom_A Start_A End_A Assay_Type Assay_Label Chrom_B Start_B End_B  Name_B\n",
       "1 chr1    10015   10442 ATAC       ATAC        chr1        0    16000 Quies \n",
       "2 chr1    14253   14645 ATAC       ATAC        chr1        0    16000 Quies \n",
       "3 chr1    16015   16477 ATAC       ATAC        chr1    16000    16200 TxWk  \n",
       "4 chr1    17237   17772 ATAC       ATAC        chr1    17400    17600 TxWk  \n",
       "5 chr1    28903   29613 ATAC       ATAC        chr1    17600   118400 Quies \n",
       "6 chr1    30803   31072 ATAC       ATAC        chr1    17600   118400 Quies \n",
       "  Score_B Strand_B ThickStart ThickEnd ItemRgb     Overlap Annotation\n",
       "1 1       .            0       16000   220,220,220 427     ChromHMM  \n",
       "2 1       .            0       16000   220,220,220 392     ChromHMM  \n",
       "3 1       .        16000       16200   63,154,80   185     ChromHMM  \n",
       "4 1       .        17400       17600   63,154,80   200     ChromHMM  \n",
       "5 1       .        17600      118400   220,220,220 710     ChromHMM  \n",
       "6 1       .        17600      118400   220,220,220 269     ChromHMM  \n",
       "  Region_A         Region_B          Label_B\n",
       "1 chr1:10015-10442 chr1:0-16000      Quies  \n",
       "2 chr1:14253-14645 chr1:0-16000      Quies  \n",
       "3 chr1:16015-16477 chr1:16000-16200  TxWk   \n",
       "4 chr1:17237-17772 chr1:17400-17600  TxWk   \n",
       "5 chr1:28903-29613 chr1:17600-118400 Quies  \n",
       "6 chr1:30803-31072 chr1:17600-118400 Quies  "
      ]
     },
     "metadata": {},
     "output_type": "display_data"
    }
   ],
   "source": [
    "### Import data\n",
    "lst = lapply(annotations, function(annotation){\n",
    "    ### set file path\n",
    "    fname = fnames[annotation]\n",
    "    fpath = file.path(fdiry, fname)\n",
    "    \n",
    "    ### read data\n",
    "    dat = read_tsv(fpath, col_names = vec_txt_cnames, show_col_types = FALSE)\n",
    "    dat = dat %>% dplyr::mutate(\n",
    "        Annotation = annotation,\n",
    "        Region_A   = paste0(Chrom_A, \":\", Start_A, \"-\", End_A),\n",
    "        Region_B   = paste0(Chrom_B, \":\", Start_B, \"-\", End_B),\n",
    "        Label_B    = Name_B\n",
    "    )\n",
    "    return(dat)\n",
    "})\n",
    "\n",
    "### assign and show\n",
    "lst_peak_annot_import = lst\n",
    "print(length(lst))\n",
    "cat(\"=========================\\n\")\n",
    "print(names(lst))\n",
    "cat(\"=========================\\n\")\n",
    "head(lst[[1]])"
   ]
  },
  {
   "cell_type": "code",
   "execution_count": 14,
   "metadata": {},
   "outputs": [
    {
     "data": {
      "text/plain": [
       "\n",
       "     1 \n",
       "372559 "
      ]
     },
     "metadata": {},
     "output_type": "display_data"
    }
   ],
   "source": [
    "dat = lst[[1]]\n",
    "table(dat$Score_B)"
   ]
  },
  {
   "cell_type": "markdown",
   "metadata": {},
   "source": [
    "## Arrange the columns"
   ]
  },
  {
   "cell_type": "code",
   "execution_count": 15,
   "metadata": {},
   "outputs": [
    {
     "name": "stdout",
     "output_type": "stream",
     "text": [
      "[1] 1\n",
      "=========================\n",
      "[1] \"ChromHMM\"\n",
      "=========================\n"
     ]
    },
    {
     "data": {
      "text/html": [
       "<table class=\"dataframe\">\n",
       "<caption>A tibble: 6 × 12</caption>\n",
       "<thead>\n",
       "\t<tr><th scope=col>Chrom_A</th><th scope=col>Start_A</th><th scope=col>End_A</th><th scope=col>Region_A</th><th scope=col>Assay_Type</th><th scope=col>Assay_Label</th><th scope=col>Annotation</th><th scope=col>Chrom_B</th><th scope=col>Start_B</th><th scope=col>End_B</th><th scope=col>Region_B</th><th scope=col>Label_B</th></tr>\n",
       "\t<tr><th scope=col>&lt;chr&gt;</th><th scope=col>&lt;dbl&gt;</th><th scope=col>&lt;dbl&gt;</th><th scope=col>&lt;chr&gt;</th><th scope=col>&lt;chr&gt;</th><th scope=col>&lt;chr&gt;</th><th scope=col>&lt;chr&gt;</th><th scope=col>&lt;chr&gt;</th><th scope=col>&lt;dbl&gt;</th><th scope=col>&lt;dbl&gt;</th><th scope=col>&lt;chr&gt;</th><th scope=col>&lt;chr&gt;</th></tr>\n",
       "</thead>\n",
       "<tbody>\n",
       "\t<tr><td>chr1</td><td>10015</td><td>10442</td><td>chr1:10015-10442</td><td>ATAC</td><td>ATAC</td><td>ChromHMM</td><td>chr1</td><td>    0</td><td> 16000</td><td>chr1:0-16000     </td><td>Quies</td></tr>\n",
       "\t<tr><td>chr1</td><td>14253</td><td>14645</td><td>chr1:14253-14645</td><td>ATAC</td><td>ATAC</td><td>ChromHMM</td><td>chr1</td><td>    0</td><td> 16000</td><td>chr1:0-16000     </td><td>Quies</td></tr>\n",
       "\t<tr><td>chr1</td><td>16015</td><td>16477</td><td>chr1:16015-16477</td><td>ATAC</td><td>ATAC</td><td>ChromHMM</td><td>chr1</td><td>16000</td><td> 16200</td><td>chr1:16000-16200 </td><td>TxWk </td></tr>\n",
       "\t<tr><td>chr1</td><td>17237</td><td>17772</td><td>chr1:17237-17772</td><td>ATAC</td><td>ATAC</td><td>ChromHMM</td><td>chr1</td><td>17400</td><td> 17600</td><td>chr1:17400-17600 </td><td>TxWk </td></tr>\n",
       "\t<tr><td>chr1</td><td>28903</td><td>29613</td><td>chr1:28903-29613</td><td>ATAC</td><td>ATAC</td><td>ChromHMM</td><td>chr1</td><td>17600</td><td>118400</td><td>chr1:17600-118400</td><td>Quies</td></tr>\n",
       "\t<tr><td>chr1</td><td>30803</td><td>31072</td><td>chr1:30803-31072</td><td>ATAC</td><td>ATAC</td><td>ChromHMM</td><td>chr1</td><td>17600</td><td>118400</td><td>chr1:17600-118400</td><td>Quies</td></tr>\n",
       "</tbody>\n",
       "</table>\n"
      ],
      "text/latex": [
       "A tibble: 6 × 12\n",
       "\\begin{tabular}{llllllllllll}\n",
       " Chrom\\_A & Start\\_A & End\\_A & Region\\_A & Assay\\_Type & Assay\\_Label & Annotation & Chrom\\_B & Start\\_B & End\\_B & Region\\_B & Label\\_B\\\\\n",
       " <chr> & <dbl> & <dbl> & <chr> & <chr> & <chr> & <chr> & <chr> & <dbl> & <dbl> & <chr> & <chr>\\\\\n",
       "\\hline\n",
       "\t chr1 & 10015 & 10442 & chr1:10015-10442 & ATAC & ATAC & ChromHMM & chr1 &     0 &  16000 & chr1:0-16000      & Quies\\\\\n",
       "\t chr1 & 14253 & 14645 & chr1:14253-14645 & ATAC & ATAC & ChromHMM & chr1 &     0 &  16000 & chr1:0-16000      & Quies\\\\\n",
       "\t chr1 & 16015 & 16477 & chr1:16015-16477 & ATAC & ATAC & ChromHMM & chr1 & 16000 &  16200 & chr1:16000-16200  & TxWk \\\\\n",
       "\t chr1 & 17237 & 17772 & chr1:17237-17772 & ATAC & ATAC & ChromHMM & chr1 & 17400 &  17600 & chr1:17400-17600  & TxWk \\\\\n",
       "\t chr1 & 28903 & 29613 & chr1:28903-29613 & ATAC & ATAC & ChromHMM & chr1 & 17600 & 118400 & chr1:17600-118400 & Quies\\\\\n",
       "\t chr1 & 30803 & 31072 & chr1:30803-31072 & ATAC & ATAC & ChromHMM & chr1 & 17600 & 118400 & chr1:17600-118400 & Quies\\\\\n",
       "\\end{tabular}\n"
      ],
      "text/markdown": [
       "\n",
       "A tibble: 6 × 12\n",
       "\n",
       "| Chrom_A &lt;chr&gt; | Start_A &lt;dbl&gt; | End_A &lt;dbl&gt; | Region_A &lt;chr&gt; | Assay_Type &lt;chr&gt; | Assay_Label &lt;chr&gt; | Annotation &lt;chr&gt; | Chrom_B &lt;chr&gt; | Start_B &lt;dbl&gt; | End_B &lt;dbl&gt; | Region_B &lt;chr&gt; | Label_B &lt;chr&gt; |\n",
       "|---|---|---|---|---|---|---|---|---|---|---|---|\n",
       "| chr1 | 10015 | 10442 | chr1:10015-10442 | ATAC | ATAC | ChromHMM | chr1 |     0 |  16000 | chr1:0-16000      | Quies |\n",
       "| chr1 | 14253 | 14645 | chr1:14253-14645 | ATAC | ATAC | ChromHMM | chr1 |     0 |  16000 | chr1:0-16000      | Quies |\n",
       "| chr1 | 16015 | 16477 | chr1:16015-16477 | ATAC | ATAC | ChromHMM | chr1 | 16000 |  16200 | chr1:16000-16200  | TxWk  |\n",
       "| chr1 | 17237 | 17772 | chr1:17237-17772 | ATAC | ATAC | ChromHMM | chr1 | 17400 |  17600 | chr1:17400-17600  | TxWk  |\n",
       "| chr1 | 28903 | 29613 | chr1:28903-29613 | ATAC | ATAC | ChromHMM | chr1 | 17600 | 118400 | chr1:17600-118400 | Quies |\n",
       "| chr1 | 30803 | 31072 | chr1:30803-31072 | ATAC | ATAC | ChromHMM | chr1 | 17600 | 118400 | chr1:17600-118400 | Quies |\n",
       "\n"
      ],
      "text/plain": [
       "  Chrom_A Start_A End_A Region_A         Assay_Type Assay_Label Annotation\n",
       "1 chr1    10015   10442 chr1:10015-10442 ATAC       ATAC        ChromHMM  \n",
       "2 chr1    14253   14645 chr1:14253-14645 ATAC       ATAC        ChromHMM  \n",
       "3 chr1    16015   16477 chr1:16015-16477 ATAC       ATAC        ChromHMM  \n",
       "4 chr1    17237   17772 chr1:17237-17772 ATAC       ATAC        ChromHMM  \n",
       "5 chr1    28903   29613 chr1:28903-29613 ATAC       ATAC        ChromHMM  \n",
       "6 chr1    30803   31072 chr1:30803-31072 ATAC       ATAC        ChromHMM  \n",
       "  Chrom_B Start_B End_B  Region_B          Label_B\n",
       "1 chr1        0    16000 chr1:0-16000      Quies  \n",
       "2 chr1        0    16000 chr1:0-16000      Quies  \n",
       "3 chr1    16000    16200 chr1:16000-16200  TxWk   \n",
       "4 chr1    17400    17600 chr1:17400-17600  TxWk   \n",
       "5 chr1    17600   118400 chr1:17600-118400 Quies  \n",
       "6 chr1    17600   118400 chr1:17600-118400 Quies  "
      ]
     },
     "metadata": {},
     "output_type": "display_data"
    }
   ],
   "source": [
    "### init\n",
    "lst = lst_peak_annot_import\n",
    "\n",
    "lst = lapply(lst, function(dat){\n",
    "    ### Select\n",
    "    dat = dat %>%\n",
    "        dplyr::select(\n",
    "            Chrom_A, Start_A, End_A, Region_A, \n",
    "            Assay_Type, Assay_Label,\n",
    "            Annotation,\n",
    "            Chrom_B, Start_B, End_B, Region_B,\n",
    "            Label_B)\n",
    "\n",
    "    ### Arrange\n",
    "    dat = dat %>% \n",
    "        dplyr::arrange(Chrom_A,  Start_A,  End_A)\n",
    "    return(dat)\n",
    "})\n",
    "\n",
    "### assign and show\n",
    "lst_peak_annot_arrange = lst\n",
    "print(length(lst))\n",
    "cat(\"=========================\\n\")\n",
    "print(names(lst))\n",
    "cat(\"=========================\\n\")\n",
    "head(lst[[1]])"
   ]
  },
  {
   "cell_type": "markdown",
   "metadata": {},
   "source": [
    "## Save results"
   ]
  },
  {
   "cell_type": "code",
   "execution_count": 16,
   "metadata": {},
   "outputs": [
    {
     "data": {
      "text/html": [
       "'/data/reddylab/Kuei/out/proj_combeffect_encode_fcc/results/region/annotation_fcc_table/summary'"
      ],
      "text/latex": [
       "'/data/reddylab/Kuei/out/proj\\_combeffect\\_encode\\_fcc/results/region/annotation\\_fcc\\_table/summary'"
      ],
      "text/markdown": [
       "'/data/reddylab/Kuei/out/proj_combeffect_encode_fcc/results/region/annotation_fcc_table/summary'"
      ],
      "text/plain": [
       "[1] \"/data/reddylab/Kuei/out/proj_combeffect_encode_fcc/results/region/annotation_fcc_table/summary\""
      ]
     },
     "metadata": {},
     "output_type": "display_data"
    }
   ],
   "source": [
    "FD_OUT"
   ]
  },
  {
   "cell_type": "code",
   "execution_count": 17,
   "metadata": {},
   "outputs": [
    {
     "name": "stdout",
     "output_type": "stream",
     "text": [
      "[1] \"peak.annotation.ChromHMM.tsv\"\n"
     ]
    }
   ],
   "source": [
    "lst = lst_peak_annot_arrange\n",
    "for (idn in names(lst)){\n",
    "    ### set file path\n",
    "    fdiry = FD_OUT\n",
    "    fname = paste(\"peak.annotation\", idn, \"tsv\", sep=\".\")\n",
    "    fpath = file.path(fdiry, fname)\n",
    "    print(fname)\n",
    "    flush.console()\n",
    "\n",
    "    ### write table\n",
    "    dat = lst[[idn]]\n",
    "    write_tsv(dat, fpath)\n",
    "}"
   ]
  },
  {
   "cell_type": "code",
   "execution_count": null,
   "metadata": {},
   "outputs": [],
   "source": []
  }
 ],
 "metadata": {
  "kernelspec": {
   "display_name": "R",
   "language": "R",
   "name": "ir"
  },
  "language_info": {
   "codemirror_mode": "r",
   "file_extension": ".r",
   "mimetype": "text/x-r-source",
   "name": "R",
   "pygments_lexer": "r",
   "version": "4.3.1"
  }
 },
 "nbformat": 4,
 "nbformat_minor": 4
}
