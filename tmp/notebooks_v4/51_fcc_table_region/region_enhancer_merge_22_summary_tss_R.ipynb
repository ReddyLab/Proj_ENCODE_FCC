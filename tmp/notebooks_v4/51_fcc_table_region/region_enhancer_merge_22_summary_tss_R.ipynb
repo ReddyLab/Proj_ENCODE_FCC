{
 "cells": [
  {
   "cell_type": "markdown",
   "metadata": {},
   "source": [
    "**Set environment**"
   ]
  },
  {
   "cell_type": "code",
   "execution_count": 1,
   "metadata": {},
   "outputs": [
    {
     "name": "stdout",
     "output_type": "stream",
     "text": [
      "You are in Singularity: singularity_proj_encode_fcc \n",
      "BASE DIRECTORY (FD_BASE): /data/reddylab/Kuei \n",
      "WORK DIRECTORY (FD_WORK): /data/reddylab/Kuei/out \n",
      "CODE DIRECTORY (FD_CODE): /data/reddylab/Kuei/code \n",
      "PATH OF PROJECT (FD_PRJ): /data/reddylab/Kuei/code/Proj_CombEffect_ENCODE_FCC \n",
      "PATH OF RESULTS (FD_RES): /data/reddylab/Kuei/out/proj_combeffect_encode_fcc \n",
      "PATH OF LOG     (FD_LOG): /data/reddylab/Kuei/out/proj_combeffect_encode_fcc/log \n"
     ]
    }
   ],
   "source": [
    "suppressMessages(suppressWarnings(source(\"../config/config_sing.R\")))\n",
    "show_env()"
   ]
  },
  {
   "cell_type": "markdown",
   "metadata": {},
   "source": [
    "**Check data files**"
   ]
  },
  {
   "cell_type": "code",
   "execution_count": 2,
   "metadata": {},
   "outputs": [],
   "source": [
    "FOLDER = \"annotation_tss_pol2\""
   ]
  },
  {
   "cell_type": "code",
   "execution_count": 3,
   "metadata": {},
   "outputs": [],
   "source": [
    "FD_REG = file.path(\n",
    "    FD_RES, \n",
    "    \"results\", \n",
    "    \"region\", \n",
    "    \"annotation_enhancer_merge\")\n",
    "\n",
    "FD_ANT = file.path(\n",
    "    FD_RES, \n",
    "    \"results\", \n",
    "    \"region\", \n",
    "    FOLDER)"
   ]
  },
  {
   "cell_type": "code",
   "execution_count": 4,
   "metadata": {},
   "outputs": [
    {
     "name": "stdout",
     "output_type": "stream",
     "text": [
      "[1] \"description.tsv\"\n",
      "[1] \"enhancer_merge.concat.starrmpra_crispr_atac.active.bed.gz\"\n",
      "[1] \"enhancer_merge.concat.starrmpra_crispr_atac.active.merge.bed.gz\"\n",
      "[1] \"enhancer_merge.concat.starrmpra_crispr_atac.total.bed.gz\"\n",
      "[1] \"enhancer_merge.concat.starrmpra_crispr_atac.total.merge.bed.gz\"\n",
      "[1] \"enhancer_table.starrmpra_crispr_atac.active.merge.tsv\"\n",
      "[1] \"enhancer_table.starrmpra_crispr_atac.total.merge.tsv\"\n",
      "[1] \"region_active\"\n",
      "[1] \"region_total\"\n",
      "[1] \"summary\"\n",
      "[1] \"tmp\"\n"
     ]
    }
   ],
   "source": [
    "fdiry  = FD_REG\n",
    "fnames = dir(fdiry)\n",
    "for(fname in fnames){print(fname)}"
   ]
  },
  {
   "cell_type": "code",
   "execution_count": 5,
   "metadata": {},
   "outputs": [
    {
     "name": "stdout",
     "output_type": "stream",
     "text": [
      "[1] \"description.tsv\"\n",
      "[1] \"K562.TSS.selected_by_highest_Pol2_signal.bed\"\n",
      "[1] \"K562.TSS.selected_by_highest_Pol2_signal.bed.gz\"\n",
      "[1] \"K562.TSS.selected_by_highest_Pol2_signal.filtered_by_RNAseq_TPM.bed.gz\"\n"
     ]
    }
   ],
   "source": [
    "fdiry  = FD_ANT\n",
    "fnames = dir(fdiry)\n",
    "for(fname in fnames){print(fname)}"
   ]
  },
  {
   "cell_type": "code",
   "execution_count": 6,
   "metadata": {},
   "outputs": [
    {
     "name": "stdout",
     "output_type": "stream",
     "text": [
      "[1] \"peak.annotation.K562.TSS.selected_by_highest_Pol2_signal.bed.gz\"\n",
      "[1] \"peak.annotation.K562.TSS.selected_by_highest_Pol2_signal.filtered_by_RNAseq_TPM.bed.gz\"\n"
     ]
    }
   ],
   "source": [
    "fdiry = file.path(FD_REG, \"region_active\", FOLDER)\n",
    "fnames = dir(fdiry)\n",
    "for(fname in fnames){print(fname)}"
   ]
  },
  {
   "cell_type": "markdown",
   "metadata": {},
   "source": [
    "## Import data"
   ]
  },
  {
   "cell_type": "code",
   "execution_count": 7,
   "metadata": {},
   "outputs": [
    {
     "data": {
      "text/html": [
       "<table class=\"dataframe\">\n",
       "<caption>A spec_tbl_df: 5 × 2</caption>\n",
       "<thead>\n",
       "\t<tr><th scope=col>Name</th><th scope=col>Description</th></tr>\n",
       "\t<tr><th scope=col>&lt;chr&gt;</th><th scope=col>&lt;chr&gt;</th></tr>\n",
       "</thead>\n",
       "<tbody>\n",
       "\t<tr><td>Chrom      </td><td>Chromosome </td></tr>\n",
       "\t<tr><td>Start      </td><td>Start      </td></tr>\n",
       "\t<tr><td>End        </td><td>End        </td></tr>\n",
       "\t<tr><td>Assay_Type </td><td>Assay type </td></tr>\n",
       "\t<tr><td>Assay_Label</td><td>Assay label</td></tr>\n",
       "</tbody>\n",
       "</table>\n"
      ],
      "text/latex": [
       "A spec\\_tbl\\_df: 5 × 2\n",
       "\\begin{tabular}{ll}\n",
       " Name & Description\\\\\n",
       " <chr> & <chr>\\\\\n",
       "\\hline\n",
       "\t Chrom       & Chromosome \\\\\n",
       "\t Start       & Start      \\\\\n",
       "\t End         & End        \\\\\n",
       "\t Assay\\_Type  & Assay type \\\\\n",
       "\t Assay\\_Label & Assay label\\\\\n",
       "\\end{tabular}\n"
      ],
      "text/markdown": [
       "\n",
       "A spec_tbl_df: 5 × 2\n",
       "\n",
       "| Name &lt;chr&gt; | Description &lt;chr&gt; |\n",
       "|---|---|\n",
       "| Chrom       | Chromosome  |\n",
       "| Start       | Start       |\n",
       "| End         | End         |\n",
       "| Assay_Type  | Assay type  |\n",
       "| Assay_Label | Assay label |\n",
       "\n"
      ],
      "text/plain": [
       "  Name        Description\n",
       "1 Chrom       Chromosome \n",
       "2 Start       Start      \n",
       "3 End         End        \n",
       "4 Assay_Type  Assay type \n",
       "5 Assay_Label Assay label"
      ]
     },
     "metadata": {},
     "output_type": "display_data"
    }
   ],
   "source": [
    "### set file paths\n",
    "fdiry = FD_REG\n",
    "fname = \"description.tsv\"\n",
    "fpath = file.path(fdiry, fname)\n",
    "\n",
    "### read table\n",
    "dat = read_tsv(fpath, show_col_types = FALSE)\n",
    "vec = dat$Name\n",
    "vec[1:3] = paste(vec[1:3], \"Peak\", sep=\"_\")\n",
    "\n",
    "### assign and show\n",
    "vec_txt_cnames_reg = vec\n",
    "dat"
   ]
  },
  {
   "cell_type": "code",
   "execution_count": 8,
   "metadata": {},
   "outputs": [
    {
     "data": {
      "text/html": [
       "<table class=\"dataframe\">\n",
       "<caption>A spec_tbl_df: 5 × 2</caption>\n",
       "<thead>\n",
       "\t<tr><th scope=col>Name</th><th scope=col>Description</th></tr>\n",
       "\t<tr><th scope=col>&lt;chr&gt;</th><th scope=col>&lt;chr&gt;</th></tr>\n",
       "</thead>\n",
       "<tbody>\n",
       "\t<tr><td>Chrom</td><td>Chromosome                                                                                 </td></tr>\n",
       "\t<tr><td>Start</td><td>TSS position                                                                               </td></tr>\n",
       "\t<tr><td>End  </td><td>TSS position                                                                               </td></tr>\n",
       "\t<tr><td>Name </td><td>Gene name                                                                                  </td></tr>\n",
       "\t<tr><td>Score</td><td>highest level of pol2 chip seq (ENCFF914WIS.bigWig) at [TSS-500, TSS+500] among TSS isoform</td></tr>\n",
       "</tbody>\n",
       "</table>\n"
      ],
      "text/latex": [
       "A spec\\_tbl\\_df: 5 × 2\n",
       "\\begin{tabular}{ll}\n",
       " Name & Description\\\\\n",
       " <chr> & <chr>\\\\\n",
       "\\hline\n",
       "\t Chrom & Chromosome                                                                                 \\\\\n",
       "\t Start & TSS position                                                                               \\\\\n",
       "\t End   & TSS position                                                                               \\\\\n",
       "\t Name  & Gene name                                                                                  \\\\\n",
       "\t Score & highest level of pol2 chip seq (ENCFF914WIS.bigWig) at {[}TSS-500, TSS+500{]} among TSS isoform\\\\\n",
       "\\end{tabular}\n"
      ],
      "text/markdown": [
       "\n",
       "A spec_tbl_df: 5 × 2\n",
       "\n",
       "| Name &lt;chr&gt; | Description &lt;chr&gt; |\n",
       "|---|---|\n",
       "| Chrom | Chromosome                                                                                  |\n",
       "| Start | TSS position                                                                                |\n",
       "| End   | TSS position                                                                                |\n",
       "| Name  | Gene name                                                                                   |\n",
       "| Score | highest level of pol2 chip seq (ENCFF914WIS.bigWig) at [TSS-500, TSS+500] among TSS isoform |\n",
       "\n"
      ],
      "text/plain": [
       "  Name \n",
       "1 Chrom\n",
       "2 Start\n",
       "3 End  \n",
       "4 Name \n",
       "5 Score\n",
       "  Description                                                                                \n",
       "1 Chromosome                                                                                 \n",
       "2 TSS position                                                                               \n",
       "3 TSS position                                                                               \n",
       "4 Gene name                                                                                  \n",
       "5 highest level of pol2 chip seq (ENCFF914WIS.bigWig) at [TSS-500, TSS+500] among TSS isoform"
      ]
     },
     "metadata": {},
     "output_type": "display_data"
    }
   ],
   "source": [
    "### set file paths\n",
    "fdiry = FD_ANT\n",
    "fname = \"description.tsv\"\n",
    "fpath = file.path(fdiry, fname)\n",
    "\n",
    "### read table\n",
    "dat = read_tsv(fpath, show_col_types = FALSE)\n",
    "vec = dat$Name\n",
    "\n",
    "### assign and show\n",
    "vec_txt_cnames_ant = vec\n",
    "dat"
   ]
  },
  {
   "cell_type": "code",
   "execution_count": 12,
   "metadata": {},
   "outputs": [
    {
     "name": "stdout",
     "output_type": "stream",
     "text": [
      "                                                                                TSS_Pol2 \n",
      "                       \"peak.annotation.K562.TSS.selected_by_highest_Pol2_signal.bed.gz\" \n",
      "                                                                         TSS_Pol2_RNAseq \n",
      "\"peak.annotation.K562.TSS.selected_by_highest_Pol2_signal.filtered_by_RNAseq_TPM.bed.gz\" \n"
     ]
    }
   ],
   "source": [
    "### init: set column names\n",
    "cnames = c(\n",
    "    paste(vec_txt_cnames_reg, sep=\"_\"),\n",
    "    paste(vec_txt_cnames_ant, sep=\"_\"),\n",
    "    \"Overlap\"\n",
    ")\n",
    "\n",
    "### init: set file path\n",
    "fdiry = file.path(\n",
    "    FD_RES, \n",
    "    \"results\", \n",
    "    \"region\", \n",
    "    \"annotation_enhancer_merge\",\n",
    "    \"region_active\",\n",
    "    FOLDER)\n",
    "fname  = paste(\"peak.annotation\", \"bed.gz\", sep=\"*\")\n",
    "fglob  = file.path(fdiry, fname)\n",
    "fpaths = Sys.glob(fglob)\n",
    "fnames = basename(fpaths)\n",
    "\n",
    "### init: annotation and label\n",
    "annotations = c(\"TSS_Pol2\", \"TSS_Pol2_RNAseq\")\n",
    "\n",
    "names(fnames)      = annotations\n",
    "names(annotations) = annotations\n",
    "\n",
    "print(fnames)"
   ]
  },
  {
   "cell_type": "code",
   "execution_count": 17,
   "metadata": {},
   "outputs": [
    {
     "name": "stdout",
     "output_type": "stream",
     "text": [
      "[1] 2\n",
      "=========================\n",
      "[1] \"TSS_Pol2\"        \"TSS_Pol2_RNAseq\"\n",
      "=========================\n"
     ]
    },
    {
     "data": {
      "text/html": [
       "<table class=\"dataframe\">\n",
       "<caption>A tibble: 6 × 17</caption>\n",
       "<thead>\n",
       "\t<tr><th scope=col>Chrom_Peak</th><th scope=col>Start_Peak</th><th scope=col>End_Peak</th><th scope=col>Assay_Type</th><th scope=col>Assay_Label</th><th scope=col>Chrom</th><th scope=col>Start</th><th scope=col>End</th><th scope=col>Name</th><th scope=col>Score</th><th scope=col>Overlap</th><th scope=col>Name_Peak</th><th scope=col>Annotation</th><th scope=col>Label</th><th scope=col>Region</th><th scope=col>Value</th><th scope=col>Note</th></tr>\n",
       "\t<tr><th scope=col>&lt;chr&gt;</th><th scope=col>&lt;dbl&gt;</th><th scope=col>&lt;dbl&gt;</th><th scope=col>&lt;chr&gt;</th><th scope=col>&lt;chr&gt;</th><th scope=col>&lt;chr&gt;</th><th scope=col>&lt;dbl&gt;</th><th scope=col>&lt;dbl&gt;</th><th scope=col>&lt;chr&gt;</th><th scope=col>&lt;dbl&gt;</th><th scope=col>&lt;dbl&gt;</th><th scope=col>&lt;chr&gt;</th><th scope=col>&lt;chr&gt;</th><th scope=col>&lt;chr&gt;</th><th scope=col>&lt;chr&gt;</th><th scope=col>&lt;dbl&gt;</th><th scope=col>&lt;chr&gt;</th></tr>\n",
       "</thead>\n",
       "<tbody>\n",
       "\t<tr><td>chr1</td><td> 17237</td><td> 17772</td><td>ATAC                 </td><td>ATAC                                                                                                                                                                            </td><td>chr1</td><td> 17436</td><td> 17437</td><td>MIR6859-1   </td><td>9.43812</td><td>1</td><td>chr1:17237-17772  </td><td>TSS_Pol2</td><td>TSS</td><td>chr1:17436-17437  </td><td>9.43812</td><td>MIR6859-1   </td></tr>\n",
       "\t<tr><td>chr1</td><td> 17237</td><td> 17772</td><td>ATAC                 </td><td>ATAC                                                                                                                                                                            </td><td>chr1</td><td> 17436</td><td> 17437</td><td>MIR6859-2   </td><td>9.43812</td><td>1</td><td>chr1:17237-17772  </td><td>TSS_Pol2</td><td>TSS</td><td>chr1:17436-17437  </td><td>9.43812</td><td>MIR6859-2   </td></tr>\n",
       "\t<tr><td>chr1</td><td> 17237</td><td> 17772</td><td>ATAC                 </td><td>ATAC                                                                                                                                                                            </td><td>chr1</td><td> 17436</td><td> 17437</td><td>MIR6859-3   </td><td>9.43812</td><td>1</td><td>chr1:17237-17772  </td><td>TSS_Pol2</td><td>TSS</td><td>chr1:17436-17437  </td><td>9.43812</td><td>MIR6859-3   </td></tr>\n",
       "\t<tr><td>chr1</td><td> 17237</td><td> 17772</td><td>ATAC                 </td><td>ATAC                                                                                                                                                                            </td><td>chr1</td><td> 17436</td><td> 17437</td><td>MIR6859-4   </td><td>9.43812</td><td>1</td><td>chr1:17237-17772  </td><td>TSS_Pol2</td><td>TSS</td><td>chr1:17436-17437  </td><td>9.43812</td><td>MIR6859-4   </td></tr>\n",
       "\t<tr><td>chr1</td><td> 28903</td><td> 29613</td><td>ATAC                 </td><td>ATAC                                                                                                                                                                            </td><td>chr1</td><td> 29370</td><td> 29371</td><td>WASH7P      </td><td>0.00023</td><td>1</td><td>chr1:28903-29613  </td><td>TSS_Pol2</td><td>TSS</td><td>chr1:29370-29371  </td><td>0.00023</td><td>WASH7P      </td></tr>\n",
       "\t<tr><td>chr1</td><td>628759</td><td>629259</td><td>ENCODE-E2G_Prediction</td><td>ENCODE-E2G_Prediction:PLEKHN1,ENCODE-E2G_Prediction:RNF223,ENCODE-E2G_Prediction:SAMD11,ENCODE-E2G_Prediction:SCNN1D,ENCODE-E2G_Prediction:TNFRSF18,ENCODE-E2G_Prediction:TTLL10</td><td>chr1</td><td>629009</td><td>629010</td><td>LOC101928626</td><td>0.00023</td><td>1</td><td>chr1:628759-629259</td><td>TSS_Pol2</td><td>TSS</td><td>chr1:629009-629010</td><td>0.00023</td><td>LOC101928626</td></tr>\n",
       "</tbody>\n",
       "</table>\n"
      ],
      "text/latex": [
       "A tibble: 6 × 17\n",
       "\\begin{tabular}{lllllllllllllllll}\n",
       " Chrom\\_Peak & Start\\_Peak & End\\_Peak & Assay\\_Type & Assay\\_Label & Chrom & Start & End & Name & Score & Overlap & Name\\_Peak & Annotation & Label & Region & Value & Note\\\\\n",
       " <chr> & <dbl> & <dbl> & <chr> & <chr> & <chr> & <dbl> & <dbl> & <chr> & <dbl> & <dbl> & <chr> & <chr> & <chr> & <chr> & <dbl> & <chr>\\\\\n",
       "\\hline\n",
       "\t chr1 &  17237 &  17772 & ATAC                  & ATAC                                                                                                                                                                             & chr1 &  17436 &  17437 & MIR6859-1    & 9.43812 & 1 & chr1:17237-17772   & TSS\\_Pol2 & TSS & chr1:17436-17437   & 9.43812 & MIR6859-1   \\\\\n",
       "\t chr1 &  17237 &  17772 & ATAC                  & ATAC                                                                                                                                                                             & chr1 &  17436 &  17437 & MIR6859-2    & 9.43812 & 1 & chr1:17237-17772   & TSS\\_Pol2 & TSS & chr1:17436-17437   & 9.43812 & MIR6859-2   \\\\\n",
       "\t chr1 &  17237 &  17772 & ATAC                  & ATAC                                                                                                                                                                             & chr1 &  17436 &  17437 & MIR6859-3    & 9.43812 & 1 & chr1:17237-17772   & TSS\\_Pol2 & TSS & chr1:17436-17437   & 9.43812 & MIR6859-3   \\\\\n",
       "\t chr1 &  17237 &  17772 & ATAC                  & ATAC                                                                                                                                                                             & chr1 &  17436 &  17437 & MIR6859-4    & 9.43812 & 1 & chr1:17237-17772   & TSS\\_Pol2 & TSS & chr1:17436-17437   & 9.43812 & MIR6859-4   \\\\\n",
       "\t chr1 &  28903 &  29613 & ATAC                  & ATAC                                                                                                                                                                             & chr1 &  29370 &  29371 & WASH7P       & 0.00023 & 1 & chr1:28903-29613   & TSS\\_Pol2 & TSS & chr1:29370-29371   & 0.00023 & WASH7P      \\\\\n",
       "\t chr1 & 628759 & 629259 & ENCODE-E2G\\_Prediction & ENCODE-E2G\\_Prediction:PLEKHN1,ENCODE-E2G\\_Prediction:RNF223,ENCODE-E2G\\_Prediction:SAMD11,ENCODE-E2G\\_Prediction:SCNN1D,ENCODE-E2G\\_Prediction:TNFRSF18,ENCODE-E2G\\_Prediction:TTLL10 & chr1 & 629009 & 629010 & LOC101928626 & 0.00023 & 1 & chr1:628759-629259 & TSS\\_Pol2 & TSS & chr1:629009-629010 & 0.00023 & LOC101928626\\\\\n",
       "\\end{tabular}\n"
      ],
      "text/markdown": [
       "\n",
       "A tibble: 6 × 17\n",
       "\n",
       "| Chrom_Peak &lt;chr&gt; | Start_Peak &lt;dbl&gt; | End_Peak &lt;dbl&gt; | Assay_Type &lt;chr&gt; | Assay_Label &lt;chr&gt; | Chrom &lt;chr&gt; | Start &lt;dbl&gt; | End &lt;dbl&gt; | Name &lt;chr&gt; | Score &lt;dbl&gt; | Overlap &lt;dbl&gt; | Name_Peak &lt;chr&gt; | Annotation &lt;chr&gt; | Label &lt;chr&gt; | Region &lt;chr&gt; | Value &lt;dbl&gt; | Note &lt;chr&gt; |\n",
       "|---|---|---|---|---|---|---|---|---|---|---|---|---|---|---|---|---|\n",
       "| chr1 |  17237 |  17772 | ATAC                  | ATAC                                                                                                                                                                             | chr1 |  17436 |  17437 | MIR6859-1    | 9.43812 | 1 | chr1:17237-17772   | TSS_Pol2 | TSS | chr1:17436-17437   | 9.43812 | MIR6859-1    |\n",
       "| chr1 |  17237 |  17772 | ATAC                  | ATAC                                                                                                                                                                             | chr1 |  17436 |  17437 | MIR6859-2    | 9.43812 | 1 | chr1:17237-17772   | TSS_Pol2 | TSS | chr1:17436-17437   | 9.43812 | MIR6859-2    |\n",
       "| chr1 |  17237 |  17772 | ATAC                  | ATAC                                                                                                                                                                             | chr1 |  17436 |  17437 | MIR6859-3    | 9.43812 | 1 | chr1:17237-17772   | TSS_Pol2 | TSS | chr1:17436-17437   | 9.43812 | MIR6859-3    |\n",
       "| chr1 |  17237 |  17772 | ATAC                  | ATAC                                                                                                                                                                             | chr1 |  17436 |  17437 | MIR6859-4    | 9.43812 | 1 | chr1:17237-17772   | TSS_Pol2 | TSS | chr1:17436-17437   | 9.43812 | MIR6859-4    |\n",
       "| chr1 |  28903 |  29613 | ATAC                  | ATAC                                                                                                                                                                             | chr1 |  29370 |  29371 | WASH7P       | 0.00023 | 1 | chr1:28903-29613   | TSS_Pol2 | TSS | chr1:29370-29371   | 0.00023 | WASH7P       |\n",
       "| chr1 | 628759 | 629259 | ENCODE-E2G_Prediction | ENCODE-E2G_Prediction:PLEKHN1,ENCODE-E2G_Prediction:RNF223,ENCODE-E2G_Prediction:SAMD11,ENCODE-E2G_Prediction:SCNN1D,ENCODE-E2G_Prediction:TNFRSF18,ENCODE-E2G_Prediction:TTLL10 | chr1 | 629009 | 629010 | LOC101928626 | 0.00023 | 1 | chr1:628759-629259 | TSS_Pol2 | TSS | chr1:629009-629010 | 0.00023 | LOC101928626 |\n",
       "\n"
      ],
      "text/plain": [
       "  Chrom_Peak Start_Peak End_Peak Assay_Type           \n",
       "1 chr1        17237      17772   ATAC                 \n",
       "2 chr1        17237      17772   ATAC                 \n",
       "3 chr1        17237      17772   ATAC                 \n",
       "4 chr1        17237      17772   ATAC                 \n",
       "5 chr1        28903      29613   ATAC                 \n",
       "6 chr1       628759     629259   ENCODE-E2G_Prediction\n",
       "  Assay_Label                                                                                                                                                                     \n",
       "1 ATAC                                                                                                                                                                            \n",
       "2 ATAC                                                                                                                                                                            \n",
       "3 ATAC                                                                                                                                                                            \n",
       "4 ATAC                                                                                                                                                                            \n",
       "5 ATAC                                                                                                                                                                            \n",
       "6 ENCODE-E2G_Prediction:PLEKHN1,ENCODE-E2G_Prediction:RNF223,ENCODE-E2G_Prediction:SAMD11,ENCODE-E2G_Prediction:SCNN1D,ENCODE-E2G_Prediction:TNFRSF18,ENCODE-E2G_Prediction:TTLL10\n",
       "  Chrom Start  End    Name         Score   Overlap Name_Peak         \n",
       "1 chr1   17436  17437 MIR6859-1    9.43812 1       chr1:17237-17772  \n",
       "2 chr1   17436  17437 MIR6859-2    9.43812 1       chr1:17237-17772  \n",
       "3 chr1   17436  17437 MIR6859-3    9.43812 1       chr1:17237-17772  \n",
       "4 chr1   17436  17437 MIR6859-4    9.43812 1       chr1:17237-17772  \n",
       "5 chr1   29370  29371 WASH7P       0.00023 1       chr1:28903-29613  \n",
       "6 chr1  629009 629010 LOC101928626 0.00023 1       chr1:628759-629259\n",
       "  Annotation Label Region             Value   Note        \n",
       "1 TSS_Pol2   TSS   chr1:17436-17437   9.43812 MIR6859-1   \n",
       "2 TSS_Pol2   TSS   chr1:17436-17437   9.43812 MIR6859-2   \n",
       "3 TSS_Pol2   TSS   chr1:17436-17437   9.43812 MIR6859-3   \n",
       "4 TSS_Pol2   TSS   chr1:17436-17437   9.43812 MIR6859-4   \n",
       "5 TSS_Pol2   TSS   chr1:29370-29371   0.00023 WASH7P      \n",
       "6 TSS_Pol2   TSS   chr1:629009-629010 0.00023 LOC101928626"
      ]
     },
     "metadata": {},
     "output_type": "display_data"
    }
   ],
   "source": [
    "### Import data\n",
    "lst = lapply(annotations, function(annotation){\n",
    "    ### set file path\n",
    "    fname = fnames[annotation]\n",
    "    fpath = file.path(fdiry, fname)\n",
    "    \n",
    "    ### read data\n",
    "    dat = read_tsv(fpath, col_names = cnames, show_col_types = FALSE)\n",
    "    #dat = dat %>% dplyr::mutate(\n",
    "    #    Name_Peak  = paste0(Chrom_Peak, \":\", Start_Peak, \"-\", End_Peak),\n",
    "    #    Annotation = annotation,\n",
    "    #    Label      = Category,\n",
    "    #    Region     = paste0(Chrom, \":\", Start, \"-\", End),\n",
    "    #    Value      = Score,\n",
    "    #    Note       = paste0(Name, \":\", Category)\n",
    "    #)\n",
    "    ### arrange columns\n",
    "    dat = dat %>% dplyr::mutate(\n",
    "        Name_Peak  = paste0(Chrom_Peak, \":\", Start_Peak, \"-\", End_Peak),\n",
    "        Annotation = annotation,\n",
    "        Label      = \"TSS\",\n",
    "        Region     = paste0(Chrom, \":\", Start, \"-\", End),\n",
    "        Value      = Score,\n",
    "        Note       = Name\n",
    "    )\n",
    "    return(dat)\n",
    "})\n",
    "\n",
    "### assign and show\n",
    "lst_peak_annot_import = lst\n",
    "print(length(lst))\n",
    "cat(\"=========================\\n\")\n",
    "print(names(lst))\n",
    "cat(\"=========================\\n\")\n",
    "head(lst[[1]])"
   ]
  },
  {
   "cell_type": "markdown",
   "metadata": {},
   "source": [
    "## Arrange and summarize"
   ]
  },
  {
   "cell_type": "code",
   "execution_count": 18,
   "metadata": {},
   "outputs": [
    {
     "name": "stdout",
     "output_type": "stream",
     "text": [
      "[1] 2\n",
      "=========================\n",
      "[1] \"TSS_Pol2\"        \"TSS_Pol2_RNAseq\"\n",
      "=========================\n"
     ]
    },
    {
     "data": {
      "text/html": [
       "<table class=\"dataframe\">\n",
       "<caption>A tibble: 6 × 9</caption>\n",
       "<thead>\n",
       "\t<tr><th scope=col>Peak</th><th scope=col>Assay_Type</th><th scope=col>Assay_Label</th><th scope=col>Annotation</th><th scope=col>Label</th><th scope=col>Count</th><th scope=col>Region</th><th scope=col>Score</th><th scope=col>Note</th></tr>\n",
       "\t<tr><th scope=col>&lt;chr&gt;</th><th scope=col>&lt;chr&gt;</th><th scope=col>&lt;chr&gt;</th><th scope=col>&lt;chr&gt;</th><th scope=col>&lt;chr&gt;</th><th scope=col>&lt;int&gt;</th><th scope=col>&lt;chr&gt;</th><th scope=col>&lt;dbl&gt;</th><th scope=col>&lt;chr&gt;</th></tr>\n",
       "</thead>\n",
       "<tbody>\n",
       "\t<tr><td>chr1:17237-17772  </td><td>ATAC                                          </td><td>ATAC                                                                                                                                                                                                                                                                                                                                                                                                                                                                                                                                                                                                                                                                                                          </td><td>TSS_Pol2</td><td>TSS</td><td>4</td><td>chr1:17436-17437|chr1:17436-17437|chr1:17436-17437|chr1:17436-17437</td><td>  9.4381200</td><td>MIR6859-1|MIR6859-2|MIR6859-3|MIR6859-4</td></tr>\n",
       "\t<tr><td>chr1:28903-29613  </td><td>ATAC                                          </td><td>ATAC                                                                                                                                                                                                                                                                                                                                                                                                                                                                                                                                                                                                                                                                                                          </td><td>TSS_Pol2</td><td>TSS</td><td>1</td><td>chr1:29370-29371                                                   </td><td>  0.0002300</td><td>WASH7P                                 </td></tr>\n",
       "\t<tr><td>chr1:628759-629259</td><td>ENCODE-E2G_Prediction                         </td><td>ENCODE-E2G_Prediction:PLEKHN1,ENCODE-E2G_Prediction:RNF223,ENCODE-E2G_Prediction:SAMD11,ENCODE-E2G_Prediction:SCNN1D,ENCODE-E2G_Prediction:TNFRSF18,ENCODE-E2G_Prediction:TTLL10                                                                                                                                                                                                                                                                                                                                                                                                                                                                                                                              </td><td>TSS_Pol2</td><td>TSS</td><td>1</td><td>chr1:629009-629010                                                 </td><td>  0.0002300</td><td>LOC101928626                           </td></tr>\n",
       "\t<tr><td>chr1:632439-632939</td><td>ENCODE-E2G_Prediction                         </td><td>ENCODE-E2G_Prediction:AGRN,ENCODE-E2G_Prediction:CALML6,ENCODE-E2G_Prediction:CFAP74,ENCODE-E2G_Prediction:FAM87B,ENCODE-E2G_Prediction:ISG15,ENCODE-E2G_Prediction:KLHL17,ENCODE-E2G_Prediction:LINC00115,ENCODE-E2G_Prediction:LINC01128,ENCODE-E2G_Prediction:LINC01342,ENCODE-E2G_Prediction:LOC100288069,ENCODE-E2G_Prediction:LOC105378591,ENCODE-E2G_Prediction:MMEL1,ENCODE-E2G_Prediction:PLEKHN1,ENCODE-E2G_Prediction:PRKCZ,ENCODE-E2G_Prediction:RNF223,ENCODE-E2G_Prediction:SAMD11,ENCODE-E2G_Prediction:SCNN1D,ENCODE-E2G_Prediction:TNFRSF18,ENCODE-E2G_Prediction:TNFRSF4,ENCODE-E2G_Prediction:TP73,ENCODE-E2G_Prediction:TP73-AS1,ENCODE-E2G_Prediction:TPRG1L,ENCODE-E2G_Prediction:TTLL10</td><td>TSS_Pol2</td><td>TSS</td><td>1</td><td>chr1:632685-632686                                                 </td><td>  0.0730961</td><td>MIR12136                               </td></tr>\n",
       "\t<tr><td>chr1:777949-779437</td><td>ASTARR,ATAC,ENCODE-E2G_Prediction,LMPRA,WSTARR</td><td>ASTARR_A,ATAC,ENCODE-E2G_Prediction:FAM87B,ENCODE-E2G_Prediction:LINC00115,ENCODE-E2G_Prediction:LINC01128,ENCODE-E2G_Prediction:LOC100288069,ENCODE-E2G_Prediction:SAMD11,LMPRA_A,WSTARR_A,WSTARR_AB                                                                                                                                                                                                                                                                                                                                                                                                                                                                                                         </td><td>TSS_Pol2</td><td>TSS</td><td>1</td><td>chr1:778634-778635                                                 </td><td>230.5610000</td><td>LOC100288069                           </td></tr>\n",
       "\t<tr><td>chr1:816774-817620</td><td>ATAC,ENCODE-E2G_Prediction                    </td><td>ATAC,ENCODE-E2G_Prediction:FAM87B,ENCODE-E2G_Prediction:LINC00115,ENCODE-E2G_Prediction:LINC01128                                                                                                                                                                                                                                                                                                                                                                                                                                                                                                                                                                                                             </td><td>TSS_Pol2</td><td>TSS</td><td>1</td><td>chr1:817370-817371                                                 </td><td>  1.0660900</td><td>FAM87B                                 </td></tr>\n",
       "</tbody>\n",
       "</table>\n"
      ],
      "text/latex": [
       "A tibble: 6 × 9\n",
       "\\begin{tabular}{lllllllll}\n",
       " Peak & Assay\\_Type & Assay\\_Label & Annotation & Label & Count & Region & Score & Note\\\\\n",
       " <chr> & <chr> & <chr> & <chr> & <chr> & <int> & <chr> & <dbl> & <chr>\\\\\n",
       "\\hline\n",
       "\t chr1:17237-17772   & ATAC                                           & ATAC                                                                                                                                                                                                                                                                                                                                                                                                                                                                                                                                                                                                                                                                                                           & TSS\\_Pol2 & TSS & 4 & chr1:17436-17437\\textbar{}chr1:17436-17437\\textbar{}chr1:17436-17437\\textbar{}chr1:17436-17437 &   9.4381200 & MIR6859-1\\textbar{}MIR6859-2\\textbar{}MIR6859-3\\textbar{}MIR6859-4\\\\\n",
       "\t chr1:28903-29613   & ATAC                                           & ATAC                                                                                                                                                                                                                                                                                                                                                                                                                                                                                                                                                                                                                                                                                                           & TSS\\_Pol2 & TSS & 1 & chr1:29370-29371                                                    &   0.0002300 & WASH7P                                 \\\\\n",
       "\t chr1:628759-629259 & ENCODE-E2G\\_Prediction                          & ENCODE-E2G\\_Prediction:PLEKHN1,ENCODE-E2G\\_Prediction:RNF223,ENCODE-E2G\\_Prediction:SAMD11,ENCODE-E2G\\_Prediction:SCNN1D,ENCODE-E2G\\_Prediction:TNFRSF18,ENCODE-E2G\\_Prediction:TTLL10                                                                                                                                                                                                                                                                                                                                                                                                                                                                                                                               & TSS\\_Pol2 & TSS & 1 & chr1:629009-629010                                                  &   0.0002300 & LOC101928626                           \\\\\n",
       "\t chr1:632439-632939 & ENCODE-E2G\\_Prediction                          & ENCODE-E2G\\_Prediction:AGRN,ENCODE-E2G\\_Prediction:CALML6,ENCODE-E2G\\_Prediction:CFAP74,ENCODE-E2G\\_Prediction:FAM87B,ENCODE-E2G\\_Prediction:ISG15,ENCODE-E2G\\_Prediction:KLHL17,ENCODE-E2G\\_Prediction:LINC00115,ENCODE-E2G\\_Prediction:LINC01128,ENCODE-E2G\\_Prediction:LINC01342,ENCODE-E2G\\_Prediction:LOC100288069,ENCODE-E2G\\_Prediction:LOC105378591,ENCODE-E2G\\_Prediction:MMEL1,ENCODE-E2G\\_Prediction:PLEKHN1,ENCODE-E2G\\_Prediction:PRKCZ,ENCODE-E2G\\_Prediction:RNF223,ENCODE-E2G\\_Prediction:SAMD11,ENCODE-E2G\\_Prediction:SCNN1D,ENCODE-E2G\\_Prediction:TNFRSF18,ENCODE-E2G\\_Prediction:TNFRSF4,ENCODE-E2G\\_Prediction:TP73,ENCODE-E2G\\_Prediction:TP73-AS1,ENCODE-E2G\\_Prediction:TPRG1L,ENCODE-E2G\\_Prediction:TTLL10 & TSS\\_Pol2 & TSS & 1 & chr1:632685-632686                                                  &   0.0730961 & MIR12136                               \\\\\n",
       "\t chr1:777949-779437 & ASTARR,ATAC,ENCODE-E2G\\_Prediction,LMPRA,WSTARR & ASTARR\\_A,ATAC,ENCODE-E2G\\_Prediction:FAM87B,ENCODE-E2G\\_Prediction:LINC00115,ENCODE-E2G\\_Prediction:LINC01128,ENCODE-E2G\\_Prediction:LOC100288069,ENCODE-E2G\\_Prediction:SAMD11,LMPRA\\_A,WSTARR\\_A,WSTARR\\_AB                                                                                                                                                                                                                                                                                                                                                                                                                                                                                                          & TSS\\_Pol2 & TSS & 1 & chr1:778634-778635                                                  & 230.5610000 & LOC100288069                           \\\\\n",
       "\t chr1:816774-817620 & ATAC,ENCODE-E2G\\_Prediction                     & ATAC,ENCODE-E2G\\_Prediction:FAM87B,ENCODE-E2G\\_Prediction:LINC00115,ENCODE-E2G\\_Prediction:LINC01128                                                                                                                                                                                                                                                                                                                                                                                                                                                                                                                                                                                                              & TSS\\_Pol2 & TSS & 1 & chr1:817370-817371                                                  &   1.0660900 & FAM87B                                 \\\\\n",
       "\\end{tabular}\n"
      ],
      "text/markdown": [
       "\n",
       "A tibble: 6 × 9\n",
       "\n",
       "| Peak &lt;chr&gt; | Assay_Type &lt;chr&gt; | Assay_Label &lt;chr&gt; | Annotation &lt;chr&gt; | Label &lt;chr&gt; | Count &lt;int&gt; | Region &lt;chr&gt; | Score &lt;dbl&gt; | Note &lt;chr&gt; |\n",
       "|---|---|---|---|---|---|---|---|---|\n",
       "| chr1:17237-17772   | ATAC                                           | ATAC                                                                                                                                                                                                                                                                                                                                                                                                                                                                                                                                                                                                                                                                                                           | TSS_Pol2 | TSS | 4 | chr1:17436-17437|chr1:17436-17437|chr1:17436-17437|chr1:17436-17437 |   9.4381200 | MIR6859-1|MIR6859-2|MIR6859-3|MIR6859-4 |\n",
       "| chr1:28903-29613   | ATAC                                           | ATAC                                                                                                                                                                                                                                                                                                                                                                                                                                                                                                                                                                                                                                                                                                           | TSS_Pol2 | TSS | 1 | chr1:29370-29371                                                    |   0.0002300 | WASH7P                                  |\n",
       "| chr1:628759-629259 | ENCODE-E2G_Prediction                          | ENCODE-E2G_Prediction:PLEKHN1,ENCODE-E2G_Prediction:RNF223,ENCODE-E2G_Prediction:SAMD11,ENCODE-E2G_Prediction:SCNN1D,ENCODE-E2G_Prediction:TNFRSF18,ENCODE-E2G_Prediction:TTLL10                                                                                                                                                                                                                                                                                                                                                                                                                                                                                                                               | TSS_Pol2 | TSS | 1 | chr1:629009-629010                                                  |   0.0002300 | LOC101928626                            |\n",
       "| chr1:632439-632939 | ENCODE-E2G_Prediction                          | ENCODE-E2G_Prediction:AGRN,ENCODE-E2G_Prediction:CALML6,ENCODE-E2G_Prediction:CFAP74,ENCODE-E2G_Prediction:FAM87B,ENCODE-E2G_Prediction:ISG15,ENCODE-E2G_Prediction:KLHL17,ENCODE-E2G_Prediction:LINC00115,ENCODE-E2G_Prediction:LINC01128,ENCODE-E2G_Prediction:LINC01342,ENCODE-E2G_Prediction:LOC100288069,ENCODE-E2G_Prediction:LOC105378591,ENCODE-E2G_Prediction:MMEL1,ENCODE-E2G_Prediction:PLEKHN1,ENCODE-E2G_Prediction:PRKCZ,ENCODE-E2G_Prediction:RNF223,ENCODE-E2G_Prediction:SAMD11,ENCODE-E2G_Prediction:SCNN1D,ENCODE-E2G_Prediction:TNFRSF18,ENCODE-E2G_Prediction:TNFRSF4,ENCODE-E2G_Prediction:TP73,ENCODE-E2G_Prediction:TP73-AS1,ENCODE-E2G_Prediction:TPRG1L,ENCODE-E2G_Prediction:TTLL10 | TSS_Pol2 | TSS | 1 | chr1:632685-632686                                                  |   0.0730961 | MIR12136                                |\n",
       "| chr1:777949-779437 | ASTARR,ATAC,ENCODE-E2G_Prediction,LMPRA,WSTARR | ASTARR_A,ATAC,ENCODE-E2G_Prediction:FAM87B,ENCODE-E2G_Prediction:LINC00115,ENCODE-E2G_Prediction:LINC01128,ENCODE-E2G_Prediction:LOC100288069,ENCODE-E2G_Prediction:SAMD11,LMPRA_A,WSTARR_A,WSTARR_AB                                                                                                                                                                                                                                                                                                                                                                                                                                                                                                          | TSS_Pol2 | TSS | 1 | chr1:778634-778635                                                  | 230.5610000 | LOC100288069                            |\n",
       "| chr1:816774-817620 | ATAC,ENCODE-E2G_Prediction                     | ATAC,ENCODE-E2G_Prediction:FAM87B,ENCODE-E2G_Prediction:LINC00115,ENCODE-E2G_Prediction:LINC01128                                                                                                                                                                                                                                                                                                                                                                                                                                                                                                                                                                                                              | TSS_Pol2 | TSS | 1 | chr1:817370-817371                                                  |   1.0660900 | FAM87B                                  |\n",
       "\n"
      ],
      "text/plain": [
       "  Peak               Assay_Type                                    \n",
       "1 chr1:17237-17772   ATAC                                          \n",
       "2 chr1:28903-29613   ATAC                                          \n",
       "3 chr1:628759-629259 ENCODE-E2G_Prediction                         \n",
       "4 chr1:632439-632939 ENCODE-E2G_Prediction                         \n",
       "5 chr1:777949-779437 ASTARR,ATAC,ENCODE-E2G_Prediction,LMPRA,WSTARR\n",
       "6 chr1:816774-817620 ATAC,ENCODE-E2G_Prediction                    \n",
       "  Assay_Label                                                                                                                                                                                                                                                                                                                                                                                                                                                                                                                                                                                                                                                                                                   \n",
       "1 ATAC                                                                                                                                                                                                                                                                                                                                                                                                                                                                                                                                                                                                                                                                                                          \n",
       "2 ATAC                                                                                                                                                                                                                                                                                                                                                                                                                                                                                                                                                                                                                                                                                                          \n",
       "3 ENCODE-E2G_Prediction:PLEKHN1,ENCODE-E2G_Prediction:RNF223,ENCODE-E2G_Prediction:SAMD11,ENCODE-E2G_Prediction:SCNN1D,ENCODE-E2G_Prediction:TNFRSF18,ENCODE-E2G_Prediction:TTLL10                                                                                                                                                                                                                                                                                                                                                                                                                                                                                                                              \n",
       "4 ENCODE-E2G_Prediction:AGRN,ENCODE-E2G_Prediction:CALML6,ENCODE-E2G_Prediction:CFAP74,ENCODE-E2G_Prediction:FAM87B,ENCODE-E2G_Prediction:ISG15,ENCODE-E2G_Prediction:KLHL17,ENCODE-E2G_Prediction:LINC00115,ENCODE-E2G_Prediction:LINC01128,ENCODE-E2G_Prediction:LINC01342,ENCODE-E2G_Prediction:LOC100288069,ENCODE-E2G_Prediction:LOC105378591,ENCODE-E2G_Prediction:MMEL1,ENCODE-E2G_Prediction:PLEKHN1,ENCODE-E2G_Prediction:PRKCZ,ENCODE-E2G_Prediction:RNF223,ENCODE-E2G_Prediction:SAMD11,ENCODE-E2G_Prediction:SCNN1D,ENCODE-E2G_Prediction:TNFRSF18,ENCODE-E2G_Prediction:TNFRSF4,ENCODE-E2G_Prediction:TP73,ENCODE-E2G_Prediction:TP73-AS1,ENCODE-E2G_Prediction:TPRG1L,ENCODE-E2G_Prediction:TTLL10\n",
       "5 ASTARR_A,ATAC,ENCODE-E2G_Prediction:FAM87B,ENCODE-E2G_Prediction:LINC00115,ENCODE-E2G_Prediction:LINC01128,ENCODE-E2G_Prediction:LOC100288069,ENCODE-E2G_Prediction:SAMD11,LMPRA_A,WSTARR_A,WSTARR_AB                                                                                                                                                                                                                                                                                                                                                                                                                                                                                                         \n",
       "6 ATAC,ENCODE-E2G_Prediction:FAM87B,ENCODE-E2G_Prediction:LINC00115,ENCODE-E2G_Prediction:LINC01128                                                                                                                                                                                                                                                                                                                                                                                                                                                                                                                                                                                                             \n",
       "  Annotation Label Count\n",
       "1 TSS_Pol2   TSS   4    \n",
       "2 TSS_Pol2   TSS   1    \n",
       "3 TSS_Pol2   TSS   1    \n",
       "4 TSS_Pol2   TSS   1    \n",
       "5 TSS_Pol2   TSS   1    \n",
       "6 TSS_Pol2   TSS   1    \n",
       "  Region                                                             \n",
       "1 chr1:17436-17437|chr1:17436-17437|chr1:17436-17437|chr1:17436-17437\n",
       "2 chr1:29370-29371                                                   \n",
       "3 chr1:629009-629010                                                 \n",
       "4 chr1:632685-632686                                                 \n",
       "5 chr1:778634-778635                                                 \n",
       "6 chr1:817370-817371                                                 \n",
       "  Score       Note                                   \n",
       "1   9.4381200 MIR6859-1|MIR6859-2|MIR6859-3|MIR6859-4\n",
       "2   0.0002300 WASH7P                                 \n",
       "3   0.0002300 LOC101928626                           \n",
       "4   0.0730961 MIR12136                               \n",
       "5 230.5610000 LOC100288069                           \n",
       "6   1.0660900 FAM87B                                 "
      ]
     },
     "metadata": {},
     "output_type": "display_data"
    }
   ],
   "source": [
    "### init\n",
    "lst = lst_peak_annot_import\n",
    "\n",
    "lst = lapply(lst, function(dat){\n",
    "    ### summarize\n",
    "    dat = dat %>%\n",
    "        dplyr::group_by(Chrom_Peak, Start_Peak, End_Peak, Name_Peak, Assay_Type, Assay_Label, Annotation, Label) %>%\n",
    "        dplyr::summarise(\n",
    "            Count  = n(), \n",
    "            Region = paste(Region, collapse=\"|\"),\n",
    "            Score  = mean(Value),\n",
    "            Note   = paste(Note, collapse=\"|\"),\n",
    "            .groups = \"drop\")\n",
    "    \n",
    "    ### Arrange\n",
    "    dat = dat %>% \n",
    "        dplyr::arrange(Chrom_Peak,  Start_Peak,  End_Peak) %>%\n",
    "        dplyr::select(-Chrom_Peak, -Start_Peak, -End_Peak) %>%\n",
    "        dplyr::rename(\"Peak\" = Name_Peak)\n",
    "    return(dat)\n",
    "})\n",
    "\n",
    "### assign and show\n",
    "lst_peak_annot_summary = lst\n",
    "print(length(lst))\n",
    "cat(\"=========================\\n\")\n",
    "print(names(lst))\n",
    "cat(\"=========================\\n\")\n",
    "head(lst[[1]])"
   ]
  },
  {
   "cell_type": "markdown",
   "metadata": {},
   "source": [
    "## Explore and check results"
   ]
  },
  {
   "cell_type": "code",
   "execution_count": 19,
   "metadata": {},
   "outputs": [
    {
     "name": "stdout",
     "output_type": "stream",
     "text": [
      "$TSS_Pol2\n",
      "\n",
      "    1     2     3     4     5     6     7    10 \n",
      "15054  2417   133    16     3     1     2     1 \n",
      "\n",
      "$TSS_Pol2_RNAseq\n",
      "\n",
      "   1    2    3    5    7 \n",
      "8864 1171   32    1    1 \n",
      "\n"
     ]
    }
   ],
   "source": [
    "lst = lst_peak_annot_summary\n",
    "lst = lapply(lst, function(dat){\n",
    "    res = table(dat$Count)\n",
    "    return(res)\n",
    "})\n",
    "print(lst)"
   ]
  },
  {
   "cell_type": "markdown",
   "metadata": {},
   "source": [
    "## Save results"
   ]
  },
  {
   "cell_type": "code",
   "execution_count": 21,
   "metadata": {},
   "outputs": [
    {
     "name": "stdout",
     "output_type": "stream",
     "text": [
      "[1] \"peak.summary.TSS_Pol2.tsv\"\n",
      "[1] \"peak.summary.TSS_Pol2_RNAseq.tsv\"\n"
     ]
    }
   ],
   "source": [
    "fdiry = file.path(\n",
    "    FD_REG, \n",
    "    \"region_active\", \n",
    "    \"summary\")\n",
    "\n",
    "lst = lst_peak_annot_summary\n",
    "for (idn in names(lst)){\n",
    "    fname = paste(\"peak.summary\", idn,\"tsv\", sep=\".\")\n",
    "    fpath = file.path(fdiry, fname)\n",
    "    print(fname)\n",
    "    flush.console()\n",
    "    \n",
    "    dat = lst[[idn]]\n",
    "    write_tsv(dat, fpath)\n",
    "}"
   ]
  },
  {
   "cell_type": "code",
   "execution_count": null,
   "metadata": {},
   "outputs": [],
   "source": []
  }
 ],
 "metadata": {
  "kernelspec": {
   "display_name": "R",
   "language": "R",
   "name": "ir"
  },
  "language_info": {
   "codemirror_mode": "r",
   "file_extension": ".r",
   "mimetype": "text/x-r-source",
   "name": "R",
   "pygments_lexer": "r",
   "version": "4.3.0"
  }
 },
 "nbformat": 4,
 "nbformat_minor": 4
}
