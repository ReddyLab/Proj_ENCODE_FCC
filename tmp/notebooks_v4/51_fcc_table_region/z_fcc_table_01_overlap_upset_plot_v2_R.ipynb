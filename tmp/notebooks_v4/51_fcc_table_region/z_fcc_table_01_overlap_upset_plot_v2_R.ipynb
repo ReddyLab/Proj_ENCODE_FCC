{
 "cells": [
  {
   "cell_type": "markdown",
   "id": "f70b234f-b348-4bb8-a219-32fe2a9669bb",
   "metadata": {},
   "source": [
    "**Set environment**"
   ]
  },
  {
   "cell_type": "code",
   "execution_count": 1,
   "id": "40b61a5e-aa73-49ef-88fc-1b740eaf086f",
   "metadata": {},
   "outputs": [
    {
     "name": "stdout",
     "output_type": "stream",
     "text": [
      "You are in Singularity: singularity_proj_encode_fcc \n",
      "BASE DIRECTORY (FD_BASE): /data/reddylab/Kuei \n",
      "WORK DIRECTORY (FD_WORK): /data/reddylab/Kuei/out \n",
      "CODE DIRECTORY (FD_CODE): /data/reddylab/Kuei/code \n",
      "PATH OF PROJECT (FD_PRJ): /data/reddylab/Kuei/code/Proj_CombEffect_ENCODE_FCC \n",
      "PATH OF RESULTS (FD_RES): /data/reddylab/Kuei/out/proj_combeffect_encode_fcc \n",
      "PATH OF LOG     (FD_LOG): /data/reddylab/Kuei/out/proj_combeffect_encode_fcc/log \n"
     ]
    }
   ],
   "source": [
    "suppressWarnings(suppressMessages(source(\"../config/config_sing.R\")))\n",
    "library(UpSetR)\n",
    "show_env()"
   ]
  },
  {
   "cell_type": "markdown",
   "id": "6259a8b3-b69c-4e4e-8351-f779f5ce4115",
   "metadata": {},
   "source": [
    "**Check data files**"
   ]
  },
  {
   "cell_type": "code",
   "execution_count": 2,
   "id": "6f45a5d3-0f15-4ae2-97a7-0e2219e19a55",
   "metadata": {},
   "outputs": [
    {
     "name": "stdout",
     "output_type": "stream",
     "text": [
      "annotation_ccre \n",
      "annotation_chromHMM \n",
      "annotation_tss_pol2 \n",
      "description.tsv \n",
      "fcc_table.starrmpra.crispri.atac.concat.bed.gz \n",
      "fcc_table.starrmpra.crispri.atac.e2g_benchmark.concat.bed.gz \n",
      "fcc_table.starrmpra.crispri.atac.e2g_benchmark.e2g_prediction.concat.bed.gz \n",
      "fcc_table.starrmpra.crispri.atac.e2g_benchmark.e2g_prediction.merge.bed.gz \n",
      "fcc_table.starrmpra.crispri.atac.e2g_benchmark.e2g_prediction.merge.tsv \n",
      "fcc_table.starrmpra.crispri.atac.e2g_benchmark.merge.bed.gz \n",
      "fcc_table.starrmpra.crispri.atac.e2g_benchmark.merge.tsv \n",
      "fcc_table.starrmpra.crispri.atac.merge.bed.gz \n",
      "fcc_table.starrmpra.crispri.atac.merge.tsv \n",
      "summary \n"
     ]
    }
   ],
   "source": [
    "fdiry = file.path(FD_RES, \"results\", \"region\", \"annotation_fcc_table\")\n",
    "for (txt in dir(fdiry)){cat(txt, \"\\n\")}"
   ]
  },
  {
   "cell_type": "markdown",
   "id": "560119a9-ef99-4d3e-a3cd-b8a7b4e62dfc",
   "metadata": {},
   "source": [
    "## Import data"
   ]
  },
  {
   "cell_type": "code",
   "execution_count": 3,
   "id": "03bd6d3d-5f06-48d1-8123-90d70711dd49",
   "metadata": {},
   "outputs": [
    {
     "name": "stdout",
     "output_type": "stream",
     "text": [
      "[1] 348966      6\n"
     ]
    },
    {
     "data": {
      "text/html": [
       "<table class=\"dataframe\">\n",
       "<caption>A tibble: 6 × 6</caption>\n",
       "<thead>\n",
       "\t<tr><th scope=col>Chrom</th><th scope=col>Start</th><th scope=col>End</th><th scope=col>Region</th><th scope=col>Assay_Type</th><th scope=col>Assay_Label</th></tr>\n",
       "\t<tr><th scope=col>&lt;chr&gt;</th><th scope=col>&lt;dbl&gt;</th><th scope=col>&lt;dbl&gt;</th><th scope=col>&lt;chr&gt;</th><th scope=col>&lt;chr&gt;</th><th scope=col>&lt;chr&gt;</th></tr>\n",
       "</thead>\n",
       "<tbody>\n",
       "\t<tr><td>chr1</td><td>10015</td><td>10442</td><td>chr1:10015-10442</td><td>ATAC</td><td>ATAC</td></tr>\n",
       "\t<tr><td>chr1</td><td>14253</td><td>14645</td><td>chr1:14253-14645</td><td>ATAC</td><td>ATAC</td></tr>\n",
       "\t<tr><td>chr1</td><td>16015</td><td>16477</td><td>chr1:16015-16477</td><td>ATAC</td><td>ATAC</td></tr>\n",
       "\t<tr><td>chr1</td><td>17237</td><td>17772</td><td>chr1:17237-17772</td><td>ATAC</td><td>ATAC</td></tr>\n",
       "\t<tr><td>chr1</td><td>28903</td><td>29613</td><td>chr1:28903-29613</td><td>ATAC</td><td>ATAC</td></tr>\n",
       "\t<tr><td>chr1</td><td>30803</td><td>31072</td><td>chr1:30803-31072</td><td>ATAC</td><td>ATAC</td></tr>\n",
       "</tbody>\n",
       "</table>\n"
      ],
      "text/latex": [
       "A tibble: 6 × 6\n",
       "\\begin{tabular}{llllll}\n",
       " Chrom & Start & End & Region & Assay\\_Type & Assay\\_Label\\\\\n",
       " <chr> & <dbl> & <dbl> & <chr> & <chr> & <chr>\\\\\n",
       "\\hline\n",
       "\t chr1 & 10015 & 10442 & chr1:10015-10442 & ATAC & ATAC\\\\\n",
       "\t chr1 & 14253 & 14645 & chr1:14253-14645 & ATAC & ATAC\\\\\n",
       "\t chr1 & 16015 & 16477 & chr1:16015-16477 & ATAC & ATAC\\\\\n",
       "\t chr1 & 17237 & 17772 & chr1:17237-17772 & ATAC & ATAC\\\\\n",
       "\t chr1 & 28903 & 29613 & chr1:28903-29613 & ATAC & ATAC\\\\\n",
       "\t chr1 & 30803 & 31072 & chr1:30803-31072 & ATAC & ATAC\\\\\n",
       "\\end{tabular}\n"
      ],
      "text/markdown": [
       "\n",
       "A tibble: 6 × 6\n",
       "\n",
       "| Chrom &lt;chr&gt; | Start &lt;dbl&gt; | End &lt;dbl&gt; | Region &lt;chr&gt; | Assay_Type &lt;chr&gt; | Assay_Label &lt;chr&gt; |\n",
       "|---|---|---|---|---|---|\n",
       "| chr1 | 10015 | 10442 | chr1:10015-10442 | ATAC | ATAC |\n",
       "| chr1 | 14253 | 14645 | chr1:14253-14645 | ATAC | ATAC |\n",
       "| chr1 | 16015 | 16477 | chr1:16015-16477 | ATAC | ATAC |\n",
       "| chr1 | 17237 | 17772 | chr1:17237-17772 | ATAC | ATAC |\n",
       "| chr1 | 28903 | 29613 | chr1:28903-29613 | ATAC | ATAC |\n",
       "| chr1 | 30803 | 31072 | chr1:30803-31072 | ATAC | ATAC |\n",
       "\n"
      ],
      "text/plain": [
       "  Chrom Start End   Region           Assay_Type Assay_Label\n",
       "1 chr1  10015 10442 chr1:10015-10442 ATAC       ATAC       \n",
       "2 chr1  14253 14645 chr1:14253-14645 ATAC       ATAC       \n",
       "3 chr1  16015 16477 chr1:16015-16477 ATAC       ATAC       \n",
       "4 chr1  17237 17772 chr1:17237-17772 ATAC       ATAC       \n",
       "5 chr1  28903 29613 chr1:28903-29613 ATAC       ATAC       \n",
       "6 chr1  30803 31072 chr1:30803-31072 ATAC       ATAC       "
      ]
     },
     "metadata": {},
     "output_type": "display_data"
    }
   ],
   "source": [
    "fdiry = file.path(FD_RES, \"results\", \"region\", \"annotation_fcc_table\")\n",
    "fname = \"fcc_table.starrmpra.crispri.atac.e2g_benchmark.merge.bed.gz\"\n",
    "fpath = file.path(fdiry, fname)\n",
    "\n",
    "cnames = c(\"Chrom\", \"Start\", \"End\", \"Assay_Type\", \"Assay_Label\")\n",
    "dat = read_tsv(fpath, col_names=cnames, show_col_types=FALSE)\n",
    "dat = dat %>% \n",
    "    dplyr::mutate(Region = paste0(Chrom, \":\", Start, \"-\", End)) %>%\n",
    "    dplyr::select(Chrom, Start, End, Region, Assay_Type, Assay_Label)\n",
    "\n",
    "dat_region_merge_import = dat\n",
    "print(dim(dat))\n",
    "head(dat)"
   ]
  },
  {
   "cell_type": "code",
   "execution_count": 4,
   "id": "d9bc1df7-a158-4e2d-97ff-53328648735e",
   "metadata": {},
   "outputs": [
    {
     "data": {
      "text/plain": [
       "\n",
       "          ASTARR_A ASTARR_A,ASTARR_AB  ASTARR_A,ASTARR_R           ASTARR_R \n",
       "               335                 45                 38                726 "
      ]
     },
     "metadata": {},
     "output_type": "display_data"
    }
   ],
   "source": [
    "dat = dat_region_merge_import\n",
    "txt = \"ASTARR\"\n",
    "dat = dat %>% dplyr::filter(Assay_Type == txt)\n",
    "table(dat$Assay_Label)"
   ]
  },
  {
   "cell_type": "code",
   "execution_count": 5,
   "id": "67a3a245-e453-4592-b72a-95ffdb537513",
   "metadata": {},
   "outputs": [
    {
     "data": {
      "text/plain": [
       "\n",
       "  ATAC \n",
       "183366 "
      ]
     },
     "metadata": {},
     "output_type": "display_data"
    }
   ],
   "source": [
    "dat = dat_region_merge_import\n",
    "txt = \"ATAC\"\n",
    "dat = dat %>% dplyr::filter(Assay_Type == txt)\n",
    "table(dat$Assay_Label)"
   ]
  },
  {
   "cell_type": "markdown",
   "id": "9c1b9a3d-eb6c-4188-ac95-3e0028210b98",
   "metadata": {},
   "source": [
    "## Arrange and summary"
   ]
  },
  {
   "cell_type": "code",
   "execution_count": 6,
   "id": "bff4e1b1-b112-44ab-92fd-ff8913eb7132",
   "metadata": {},
   "outputs": [
    {
     "name": "stdout",
     "output_type": "stream",
     "text": [
      "[1] \"ASTARR\"\n",
      "[1] \"ASTARR,ATAC\"\n",
      "[1] \"ASTARR,ATAC,CRISPRi-Growth\"\n",
      "[1] \"ASTARR,ATAC,CRISPRi-Growth,CRISPRi-HCRFF\"\n",
      "[1] \"ASTARR,ATAC,CRISPRi-Growth,CRISPRi-HCRFF,ENCODE-E2G_Benchmark,LMPRA,TMPRA,WSTARR\"\n",
      "[1] \"ASTARR,ATAC,CRISPRi-Growth,CRISPRi-HCRFF,ENCODE-E2G_Benchmark,TMPRA,WSTARR\"\n",
      "[1] \"ASTARR,ATAC,CRISPRi-Growth,CRISPRi-HCRFF,LMPRA\"\n",
      "[1] \"ASTARR,ATAC,CRISPRi-Growth,CRISPRi-HCRFF,LMPRA,TMPRA,WSTARR\"\n",
      "[1] \"ASTARR,ATAC,CRISPRi-Growth,CRISPRi-HCRFF,LMPRA,WSTARR\"\n",
      "[1] \"ASTARR,ATAC,CRISPRi-Growth,CRISPRi-HCRFF,TMPRA,WSTARR\"\n",
      "[1] \"ASTARR,ATAC,CRISPRi-Growth,ENCODE-E2G_Benchmark\"\n",
      "[1] \"ASTARR,ATAC,CRISPRi-Growth,ENCODE-E2G_Benchmark,LMPRA\"\n",
      "[1] \"ASTARR,ATAC,CRISPRi-Growth,ENCODE-E2G_Benchmark,LMPRA,TMPRA,WSTARR\"\n",
      "[1] \"ASTARR,ATAC,CRISPRi-Growth,ENCODE-E2G_Benchmark,LMPRA,WSTARR\"\n",
      "[1] \"ASTARR,ATAC,CRISPRi-Growth,ENCODE-E2G_Benchmark,WSTARR\"\n",
      "[1] \"ASTARR,ATAC,CRISPRi-Growth,LMPRA\"\n",
      "[1] \"ASTARR,ATAC,CRISPRi-Growth,LMPRA,TMPRA\"\n",
      "[1] \"ASTARR,ATAC,CRISPRi-Growth,LMPRA,TMPRA,WSTARR\"\n",
      "[1] \"ASTARR,ATAC,CRISPRi-Growth,LMPRA,WSTARR\"\n",
      "[1] \"ASTARR,ATAC,CRISPRi-Growth,TMPRA\"\n",
      "[1] \"ASTARR,ATAC,CRISPRi-Growth,TMPRA,WSTARR\"\n",
      "[1] \"ASTARR,ATAC,CRISPRi-Growth,WSTARR\"\n",
      "[1] \"ASTARR,ATAC,CRISPRi-HCRFF\"\n",
      "[1] \"ASTARR,ATAC,CRISPRi-HCRFF,ENCODE-E2G_Benchmark,LMPRA,TMPRA\"\n",
      "[1] \"ASTARR,ATAC,CRISPRi-HCRFF,ENCODE-E2G_Benchmark,LMPRA,TMPRA,WSTARR\"\n",
      "[1] \"ASTARR,ATAC,CRISPRi-HCRFF,LMPRA\"\n",
      "[1] \"ASTARR,ATAC,CRISPRi-HCRFF,LMPRA,TMPRA,WSTARR\"\n",
      "[1] \"ASTARR,ATAC,CRISPRi-HCRFF,TMPRA\"\n",
      "[1] \"ASTARR,ATAC,CRISPRi-HCRFF,TMPRA,WSTARR\"\n",
      "[1] \"ASTARR,ATAC,CRISPRi-HCRFF,WSTARR\"\n",
      "[1] \"ASTARR,ATAC,ENCODE-E2G_Benchmark\"\n",
      "[1] \"ASTARR,ATAC,ENCODE-E2G_Benchmark,LMPRA\"\n",
      "[1] \"ASTARR,ATAC,ENCODE-E2G_Benchmark,LMPRA,TMPRA,WSTARR\"\n",
      "[1] \"ASTARR,ATAC,ENCODE-E2G_Benchmark,LMPRA,WSTARR\"\n",
      "[1] \"ASTARR,ATAC,ENCODE-E2G_Benchmark,TMPRA\"\n",
      "[1] \"ASTARR,ATAC,ENCODE-E2G_Benchmark,WSTARR\"\n",
      "[1] \"ASTARR,ATAC,LMPRA\"\n",
      "[1] \"ASTARR,ATAC,LMPRA,TMPRA\"\n",
      "[1] \"ASTARR,ATAC,LMPRA,TMPRA,WSTARR\"\n",
      "[1] \"ASTARR,ATAC,LMPRA,WSTARR\"\n",
      "[1] \"ASTARR,ATAC,TMPRA\"\n",
      "[1] \"ASTARR,ATAC,TMPRA,WSTARR\"\n",
      "[1] \"ASTARR,ATAC,WSTARR\"\n",
      "[1] \"ASTARR,CRISPRi-Growth\"\n",
      "[1] \"ASTARR,CRISPRi-Growth,LMPRA\"\n",
      "[1] \"ASTARR,CRISPRi-Growth,WSTARR\"\n",
      "[1] \"ASTARR,ENCODE-E2G_Benchmark,WSTARR\"\n",
      "[1] \"ASTARR,LMPRA\"\n",
      "[1] \"ASTARR,LMPRA,TMPRA\"\n",
      "[1] \"ASTARR,LMPRA,WSTARR\"\n",
      "[1] \"ASTARR,TMPRA\"\n",
      "[1] \"ASTARR,TMPRA,WSTARR\"\n",
      "[1] \"ASTARR,WSTARR\"\n",
      "[1] \"ATAC\"\n",
      "[1] \"ATAC,CRISPRi-Growth\"\n",
      "[1] \"ATAC,CRISPRi-Growth,CRISPRi-HCRFF\"\n",
      "[1] \"ATAC,CRISPRi-Growth,CRISPRi-HCRFF,ENCODE-E2G_Benchmark,LMPRA,TMPRA,WSTARR\"\n",
      "[1] \"ATAC,CRISPRi-Growth,CRISPRi-HCRFF,ENCODE-E2G_Benchmark,TMPRA,WSTARR\"\n",
      "[1] \"ATAC,CRISPRi-Growth,CRISPRi-HCRFF,LMPRA\"\n",
      "[1] \"ATAC,CRISPRi-Growth,CRISPRi-HCRFF,WSTARR\"\n",
      "[1] \"ATAC,CRISPRi-Growth,ENCODE-E2G_Benchmark\"\n",
      "[1] \"ATAC,CRISPRi-Growth,ENCODE-E2G_Benchmark,LMPRA\"\n",
      "[1] \"ATAC,CRISPRi-Growth,ENCODE-E2G_Benchmark,LMPRA,WSTARR\"\n",
      "[1] \"ATAC,CRISPRi-Growth,LMPRA\"\n",
      "[1] \"ATAC,CRISPRi-Growth,LMPRA,TMPRA\"\n",
      "[1] \"ATAC,CRISPRi-Growth,LMPRA,TMPRA,WSTARR\"\n",
      "[1] \"ATAC,CRISPRi-Growth,LMPRA,WSTARR\"\n",
      "[1] \"ATAC,CRISPRi-Growth,TMPRA\"\n",
      "[1] \"ATAC,CRISPRi-Growth,TMPRA,WSTARR\"\n",
      "[1] \"ATAC,CRISPRi-Growth,WSTARR\"\n",
      "[1] \"ATAC,CRISPRi-HCRFF\"\n",
      "[1] \"ATAC,CRISPRi-HCRFF,ENCODE-E2G_Benchmark,LMPRA\"\n",
      "[1] \"ATAC,CRISPRi-HCRFF,ENCODE-E2G_Benchmark,LMPRA,TMPRA\"\n",
      "[1] \"ATAC,CRISPRi-HCRFF,LMPRA\"\n",
      "[1] \"ATAC,CRISPRi-HCRFF,LMPRA,TMPRA,WSTARR\"\n",
      "[1] \"ATAC,CRISPRi-HCRFF,LMPRA,WSTARR\"\n",
      "[1] \"ATAC,CRISPRi-HCRFF,TMPRA\"\n",
      "[1] \"ATAC,CRISPRi-HCRFF,TMPRA,WSTARR\"\n",
      "[1] \"ATAC,ENCODE-E2G_Benchmark\"\n",
      "[1] \"ATAC,ENCODE-E2G_Benchmark,LMPRA\"\n",
      "[1] \"ATAC,ENCODE-E2G_Benchmark,LMPRA,TMPRA\"\n",
      "[1] \"ATAC,ENCODE-E2G_Benchmark,LMPRA,TMPRA,WSTARR\"\n",
      "[1] \"ATAC,ENCODE-E2G_Benchmark,LMPRA,WSTARR\"\n",
      "[1] \"ATAC,ENCODE-E2G_Benchmark,TMPRA\"\n",
      "[1] \"ATAC,ENCODE-E2G_Benchmark,TMPRA,WSTARR\"\n",
      "[1] \"ATAC,ENCODE-E2G_Benchmark,WSTARR\"\n",
      "[1] \"ATAC,LMPRA\"\n",
      "[1] \"ATAC,LMPRA,TMPRA\"\n",
      "[1] \"ATAC,LMPRA,TMPRA,WSTARR\"\n",
      "[1] \"ATAC,LMPRA,WSTARR\"\n",
      "[1] \"ATAC,TMPRA\"\n",
      "[1] \"ATAC,TMPRA,WSTARR\"\n",
      "[1] \"ATAC,WSTARR\"\n",
      "[1] \"CRISPRi-Growth\"\n",
      "[1] \"CRISPRi-Growth,LMPRA\"\n",
      "[1] \"CRISPRi-Growth,LMPRA,TMPRA\"\n",
      "[1] \"CRISPRi-Growth,LMPRA,TMPRA,WSTARR\"\n",
      "[1] \"CRISPRi-Growth,LMPRA,WSTARR\"\n",
      "[1] \"CRISPRi-Growth,TMPRA\"\n",
      "[1] \"CRISPRi-Growth,WSTARR\"\n",
      "[1] \"CRISPRi-HCRFF\"\n",
      "[1] \"CRISPRi-HCRFF,TMPRA\"\n",
      "[1] \"ENCODE-E2G_Benchmark\"\n",
      "[1] \"ENCODE-E2G_Benchmark,LMPRA\"\n",
      "[1] \"ENCODE-E2G_Benchmark,LMPRA,TMPRA\"\n",
      "[1] \"ENCODE-E2G_Benchmark,TMPRA\"\n",
      "[1] \"ENCODE-E2G_Benchmark,WSTARR\"\n",
      "[1] \"LMPRA\"\n",
      "[1] \"LMPRA,TMPRA\"\n",
      "[1] \"LMPRA,TMPRA,WSTARR\"\n",
      "[1] \"LMPRA,WSTARR\"\n",
      "[1] \"TMPRA\"\n",
      "[1] \"TMPRA,WSTARR\"\n",
      "[1] \"WSTARR\"\n"
     ]
    }
   ],
   "source": [
    "dat = dat_region_merge_import\n",
    "vec = sort(unique(dat$Assay_Type))\n",
    "for (x in vec)\n",
    "    print(x)"
   ]
  },
  {
   "cell_type": "code",
   "execution_count": 11,
   "id": "bcba4480-1d0d-437c-bfd2-6113987c9cd8",
   "metadata": {},
   "outputs": [
    {
     "name": "stdout",
     "output_type": "stream",
     "text": [
      "[1] 29  6\n"
     ]
    },
    {
     "data": {
      "text/html": [
       "<table class=\"dataframe\">\n",
       "<caption>A tibble: 29 × 6</caption>\n",
       "<thead>\n",
       "\t<tr><th scope=col>Chrom</th><th scope=col>Start</th><th scope=col>End</th><th scope=col>Region</th><th scope=col>Assay_Type</th><th scope=col>Assay_Label</th></tr>\n",
       "\t<tr><th scope=col>&lt;chr&gt;</th><th scope=col>&lt;dbl&gt;</th><th scope=col>&lt;dbl&gt;</th><th scope=col>&lt;chr&gt;</th><th scope=col>&lt;chr&gt;</th><th scope=col>&lt;chr&gt;</th></tr>\n",
       "</thead>\n",
       "<tbody>\n",
       "\t<tr><td>chr11</td><td>  5248847</td><td>  5249047</td><td>chr11:5248847-5249047   </td><td>CRISPRi-HCRFF                    </td><td>CRISPRi-HCRFF:HBG1,CRISPRi-HCRFF:HBG2     </td></tr>\n",
       "\t<tr><td>chr11</td><td>  5253147</td><td>  5253547</td><td>chr11:5253147-5253547   </td><td>CRISPRi-HCRFF                    </td><td>CRISPRi-HCRFF:HBG1,CRISPRi-HCRFF:HBG2     </td></tr>\n",
       "\t<tr><td>chr11</td><td>  5253647</td><td>  5254647</td><td>chr11:5253647-5254647   </td><td>ATAC,CRISPRi-HCRFF               </td><td>ATAC,CRISPRi-HCRFF:HBG1,CRISPRi-HCRFF:HBG2</td></tr>\n",
       "\t<tr><td>chr11</td><td>  5282047</td><td>  5282647</td><td>chr11:5282047-5282647   </td><td>CRISPRi-HCRFF                    </td><td>CRISPRi-HCRFF:HBG1,CRISPRi-HCRFF:HBG2     </td></tr>\n",
       "\t<tr><td>chr11</td><td>  5283047</td><td>  5283447</td><td>chr11:5283047-5283447   </td><td>CRISPRi-HCRFF                    </td><td>CRISPRi-HCRFF:HBG1,CRISPRi-HCRFF:HBG2     </td></tr>\n",
       "\t<tr><td>chr11</td><td> 33880468</td><td> 33883368</td><td>chr11:33880468-33883368 </td><td>ATAC,CRISPRi-Growth,CRISPRi-HCRFF</td><td>ATAC,CRISPRi-Growth,CRISPRi-HCRFF:LMO2    </td></tr>\n",
       "\t<tr><td>chr11</td><td> 33947368</td><td> 33947868</td><td>chr11:33947368-33947868 </td><td>CRISPRi-HCRFF                    </td><td>CRISPRi-HCRFF:LMO2                        </td></tr>\n",
       "\t<tr><td>chr11</td><td> 61796700</td><td> 61797200</td><td>chr11:61796700-61797200 </td><td>CRISPRi-HCRFF                    </td><td>CRISPRi-HCRFF:FEN1                        </td></tr>\n",
       "\t<tr><td>chr11</td><td> 61813200</td><td> 61813600</td><td>chr11:61813200-61813600 </td><td>CRISPRi-HCRFF                    </td><td>CRISPRi-HCRFF:FADS1                       </td></tr>\n",
       "\t<tr><td>chr11</td><td> 61864500</td><td> 61864800</td><td>chr11:61864500-61864800 </td><td>CRISPRi-HCRFF                    </td><td>CRISPRi-HCRFF:FADS2                       </td></tr>\n",
       "\t<tr><td>chr11</td><td> 61892600</td><td> 61893000</td><td>chr11:61892600-61893000 </td><td>CRISPRi-HCRFF                    </td><td>CRISPRi-HCRFF:FADS3                       </td></tr>\n",
       "\t<tr><td>chr4 </td><td> 55602941</td><td> 55606941</td><td>chr4:55602941-55606941  </td><td>ATAC,CRISPRi-HCRFF               </td><td>ATAC,CRISPRi-HCRFF:NMU                    </td></tr>\n",
       "\t<tr><td>chr4 </td><td> 55608941</td><td> 55613941</td><td>chr4:55608941-55613941  </td><td>ATAC,CRISPRi-HCRFF               </td><td>ATAC,CRISPRi-HCRFF:NMU                    </td></tr>\n",
       "\t<tr><td>chr4 </td><td> 55614441</td><td> 55617136</td><td>chr4:55614441-55617136  </td><td>ATAC,CRISPRi-HCRFF               </td><td>ATAC,CRISPRi-HCRFF:NMU                    </td></tr>\n",
       "\t<tr><td>chr4 </td><td> 55617441</td><td> 55618441</td><td>chr4:55617441-55618441  </td><td>ATAC,CRISPRi-HCRFF               </td><td>ATAC,CRISPRi-HCRFF:NMU                    </td></tr>\n",
       "\t<tr><td>chr4 </td><td> 55624941</td><td> 55627441</td><td>chr4:55624941-55627441  </td><td>ATAC,CRISPRi-HCRFF               </td><td>ATAC,CRISPRi-HCRFF:NMU                    </td></tr>\n",
       "\t<tr><td>chr4 </td><td> 55631941</td><td> 55633941</td><td>chr4:55631941-55633941  </td><td>CRISPRi-HCRFF                    </td><td>CRISPRi-HCRFF:NMU                         </td></tr>\n",
       "\t<tr><td>chr4 </td><td> 55666941</td><td> 55667441</td><td>chr4:55666941-55667441  </td><td>CRISPRi-HCRFF                    </td><td>CRISPRi-HCRFF:NMU                         </td></tr>\n",
       "\t<tr><td>chr4 </td><td> 55810941</td><td> 55811941</td><td>chr4:55810941-55811941  </td><td>CRISPRi-HCRFF                    </td><td>CRISPRi-HCRFF:NMU                         </td></tr>\n",
       "\t<tr><td>chr5 </td><td> 88836342</td><td> 88837414</td><td>chr5:88836342-88837414  </td><td>ATAC,CRISPRi-HCRFF               </td><td>ATAC,CRISPRi-HCRFF:MEF2C                  </td></tr>\n",
       "\t<tr><td>chr6 </td><td>109301445</td><td>109302345</td><td>chr6:109301445-109302345</td><td>CRISPRi-HCRFF                    </td><td>CRISPRi-HCRFF:CD164                       </td></tr>\n",
       "\t<tr><td>chr6 </td><td>135321986</td><td>135322486</td><td>chr6:135321986-135322486</td><td>CRISPRi-HCRFF                    </td><td>CRISPRi-HCRFF:MYB                         </td></tr>\n",
       "\t<tr><td>chr6 </td><td>135323786</td><td>135324986</td><td>chr6:135323786-135324986</td><td>CRISPRi-HCRFF                    </td><td>CRISPRi-HCRFF:MYB                         </td></tr>\n",
       "\t<tr><td>chr8 </td><td>128052169</td><td>128052369</td><td>chr8:128052169-128052369</td><td>CRISPRi-HCRFF                    </td><td>CRISPRi-HCRFF:PVT1                        </td></tr>\n",
       "\t<tr><td>chr8 </td><td>128053469</td><td>128054069</td><td>chr8:128053469-128054069</td><td>CRISPRi-HCRFF                    </td><td>CRISPRi-HCRFF:PVT1                        </td></tr>\n",
       "\t<tr><td>chr8 </td><td>128057569</td><td>128058469</td><td>chr8:128057569-128058469</td><td>CRISPRi-HCRFF                    </td><td>CRISPRi-HCRFF:PVT1                        </td></tr>\n",
       "\t<tr><td>chr8 </td><td>128058784</td><td>128059351</td><td>chr8:128058784-128059351</td><td>ATAC,CRISPRi-HCRFF               </td><td>ATAC,CRISPRi-HCRFF:PVT1                   </td></tr>\n",
       "\t<tr><td>chr8 </td><td>128059469</td><td>128059669</td><td>chr8:128059469-128059669</td><td>CRISPRi-HCRFF                    </td><td>CRISPRi-HCRFF:PVT1                        </td></tr>\n",
       "\t<tr><td>chr8 </td><td>128066469</td><td>128066869</td><td>chr8:128066469-128066869</td><td>CRISPRi-HCRFF                    </td><td>CRISPRi-HCRFF:PVT1                        </td></tr>\n",
       "</tbody>\n",
       "</table>\n"
      ],
      "text/latex": [
       "A tibble: 29 × 6\n",
       "\\begin{tabular}{llllll}\n",
       " Chrom & Start & End & Region & Assay\\_Type & Assay\\_Label\\\\\n",
       " <chr> & <dbl> & <dbl> & <chr> & <chr> & <chr>\\\\\n",
       "\\hline\n",
       "\t chr11 &   5248847 &   5249047 & chr11:5248847-5249047    & CRISPRi-HCRFF                     & CRISPRi-HCRFF:HBG1,CRISPRi-HCRFF:HBG2     \\\\\n",
       "\t chr11 &   5253147 &   5253547 & chr11:5253147-5253547    & CRISPRi-HCRFF                     & CRISPRi-HCRFF:HBG1,CRISPRi-HCRFF:HBG2     \\\\\n",
       "\t chr11 &   5253647 &   5254647 & chr11:5253647-5254647    & ATAC,CRISPRi-HCRFF                & ATAC,CRISPRi-HCRFF:HBG1,CRISPRi-HCRFF:HBG2\\\\\n",
       "\t chr11 &   5282047 &   5282647 & chr11:5282047-5282647    & CRISPRi-HCRFF                     & CRISPRi-HCRFF:HBG1,CRISPRi-HCRFF:HBG2     \\\\\n",
       "\t chr11 &   5283047 &   5283447 & chr11:5283047-5283447    & CRISPRi-HCRFF                     & CRISPRi-HCRFF:HBG1,CRISPRi-HCRFF:HBG2     \\\\\n",
       "\t chr11 &  33880468 &  33883368 & chr11:33880468-33883368  & ATAC,CRISPRi-Growth,CRISPRi-HCRFF & ATAC,CRISPRi-Growth,CRISPRi-HCRFF:LMO2    \\\\\n",
       "\t chr11 &  33947368 &  33947868 & chr11:33947368-33947868  & CRISPRi-HCRFF                     & CRISPRi-HCRFF:LMO2                        \\\\\n",
       "\t chr11 &  61796700 &  61797200 & chr11:61796700-61797200  & CRISPRi-HCRFF                     & CRISPRi-HCRFF:FEN1                        \\\\\n",
       "\t chr11 &  61813200 &  61813600 & chr11:61813200-61813600  & CRISPRi-HCRFF                     & CRISPRi-HCRFF:FADS1                       \\\\\n",
       "\t chr11 &  61864500 &  61864800 & chr11:61864500-61864800  & CRISPRi-HCRFF                     & CRISPRi-HCRFF:FADS2                       \\\\\n",
       "\t chr11 &  61892600 &  61893000 & chr11:61892600-61893000  & CRISPRi-HCRFF                     & CRISPRi-HCRFF:FADS3                       \\\\\n",
       "\t chr4  &  55602941 &  55606941 & chr4:55602941-55606941   & ATAC,CRISPRi-HCRFF                & ATAC,CRISPRi-HCRFF:NMU                    \\\\\n",
       "\t chr4  &  55608941 &  55613941 & chr4:55608941-55613941   & ATAC,CRISPRi-HCRFF                & ATAC,CRISPRi-HCRFF:NMU                    \\\\\n",
       "\t chr4  &  55614441 &  55617136 & chr4:55614441-55617136   & ATAC,CRISPRi-HCRFF                & ATAC,CRISPRi-HCRFF:NMU                    \\\\\n",
       "\t chr4  &  55617441 &  55618441 & chr4:55617441-55618441   & ATAC,CRISPRi-HCRFF                & ATAC,CRISPRi-HCRFF:NMU                    \\\\\n",
       "\t chr4  &  55624941 &  55627441 & chr4:55624941-55627441   & ATAC,CRISPRi-HCRFF                & ATAC,CRISPRi-HCRFF:NMU                    \\\\\n",
       "\t chr4  &  55631941 &  55633941 & chr4:55631941-55633941   & CRISPRi-HCRFF                     & CRISPRi-HCRFF:NMU                         \\\\\n",
       "\t chr4  &  55666941 &  55667441 & chr4:55666941-55667441   & CRISPRi-HCRFF                     & CRISPRi-HCRFF:NMU                         \\\\\n",
       "\t chr4  &  55810941 &  55811941 & chr4:55810941-55811941   & CRISPRi-HCRFF                     & CRISPRi-HCRFF:NMU                         \\\\\n",
       "\t chr5  &  88836342 &  88837414 & chr5:88836342-88837414   & ATAC,CRISPRi-HCRFF                & ATAC,CRISPRi-HCRFF:MEF2C                  \\\\\n",
       "\t chr6  & 109301445 & 109302345 & chr6:109301445-109302345 & CRISPRi-HCRFF                     & CRISPRi-HCRFF:CD164                       \\\\\n",
       "\t chr6  & 135321986 & 135322486 & chr6:135321986-135322486 & CRISPRi-HCRFF                     & CRISPRi-HCRFF:MYB                         \\\\\n",
       "\t chr6  & 135323786 & 135324986 & chr6:135323786-135324986 & CRISPRi-HCRFF                     & CRISPRi-HCRFF:MYB                         \\\\\n",
       "\t chr8  & 128052169 & 128052369 & chr8:128052169-128052369 & CRISPRi-HCRFF                     & CRISPRi-HCRFF:PVT1                        \\\\\n",
       "\t chr8  & 128053469 & 128054069 & chr8:128053469-128054069 & CRISPRi-HCRFF                     & CRISPRi-HCRFF:PVT1                        \\\\\n",
       "\t chr8  & 128057569 & 128058469 & chr8:128057569-128058469 & CRISPRi-HCRFF                     & CRISPRi-HCRFF:PVT1                        \\\\\n",
       "\t chr8  & 128058784 & 128059351 & chr8:128058784-128059351 & ATAC,CRISPRi-HCRFF                & ATAC,CRISPRi-HCRFF:PVT1                   \\\\\n",
       "\t chr8  & 128059469 & 128059669 & chr8:128059469-128059669 & CRISPRi-HCRFF                     & CRISPRi-HCRFF:PVT1                        \\\\\n",
       "\t chr8  & 128066469 & 128066869 & chr8:128066469-128066869 & CRISPRi-HCRFF                     & CRISPRi-HCRFF:PVT1                        \\\\\n",
       "\\end{tabular}\n"
      ],
      "text/markdown": [
       "\n",
       "A tibble: 29 × 6\n",
       "\n",
       "| Chrom &lt;chr&gt; | Start &lt;dbl&gt; | End &lt;dbl&gt; | Region &lt;chr&gt; | Assay_Type &lt;chr&gt; | Assay_Label &lt;chr&gt; |\n",
       "|---|---|---|---|---|---|\n",
       "| chr11 |   5248847 |   5249047 | chr11:5248847-5249047    | CRISPRi-HCRFF                     | CRISPRi-HCRFF:HBG1,CRISPRi-HCRFF:HBG2      |\n",
       "| chr11 |   5253147 |   5253547 | chr11:5253147-5253547    | CRISPRi-HCRFF                     | CRISPRi-HCRFF:HBG1,CRISPRi-HCRFF:HBG2      |\n",
       "| chr11 |   5253647 |   5254647 | chr11:5253647-5254647    | ATAC,CRISPRi-HCRFF                | ATAC,CRISPRi-HCRFF:HBG1,CRISPRi-HCRFF:HBG2 |\n",
       "| chr11 |   5282047 |   5282647 | chr11:5282047-5282647    | CRISPRi-HCRFF                     | CRISPRi-HCRFF:HBG1,CRISPRi-HCRFF:HBG2      |\n",
       "| chr11 |   5283047 |   5283447 | chr11:5283047-5283447    | CRISPRi-HCRFF                     | CRISPRi-HCRFF:HBG1,CRISPRi-HCRFF:HBG2      |\n",
       "| chr11 |  33880468 |  33883368 | chr11:33880468-33883368  | ATAC,CRISPRi-Growth,CRISPRi-HCRFF | ATAC,CRISPRi-Growth,CRISPRi-HCRFF:LMO2     |\n",
       "| chr11 |  33947368 |  33947868 | chr11:33947368-33947868  | CRISPRi-HCRFF                     | CRISPRi-HCRFF:LMO2                         |\n",
       "| chr11 |  61796700 |  61797200 | chr11:61796700-61797200  | CRISPRi-HCRFF                     | CRISPRi-HCRFF:FEN1                         |\n",
       "| chr11 |  61813200 |  61813600 | chr11:61813200-61813600  | CRISPRi-HCRFF                     | CRISPRi-HCRFF:FADS1                        |\n",
       "| chr11 |  61864500 |  61864800 | chr11:61864500-61864800  | CRISPRi-HCRFF                     | CRISPRi-HCRFF:FADS2                        |\n",
       "| chr11 |  61892600 |  61893000 | chr11:61892600-61893000  | CRISPRi-HCRFF                     | CRISPRi-HCRFF:FADS3                        |\n",
       "| chr4  |  55602941 |  55606941 | chr4:55602941-55606941   | ATAC,CRISPRi-HCRFF                | ATAC,CRISPRi-HCRFF:NMU                     |\n",
       "| chr4  |  55608941 |  55613941 | chr4:55608941-55613941   | ATAC,CRISPRi-HCRFF                | ATAC,CRISPRi-HCRFF:NMU                     |\n",
       "| chr4  |  55614441 |  55617136 | chr4:55614441-55617136   | ATAC,CRISPRi-HCRFF                | ATAC,CRISPRi-HCRFF:NMU                     |\n",
       "| chr4  |  55617441 |  55618441 | chr4:55617441-55618441   | ATAC,CRISPRi-HCRFF                | ATAC,CRISPRi-HCRFF:NMU                     |\n",
       "| chr4  |  55624941 |  55627441 | chr4:55624941-55627441   | ATAC,CRISPRi-HCRFF                | ATAC,CRISPRi-HCRFF:NMU                     |\n",
       "| chr4  |  55631941 |  55633941 | chr4:55631941-55633941   | CRISPRi-HCRFF                     | CRISPRi-HCRFF:NMU                          |\n",
       "| chr4  |  55666941 |  55667441 | chr4:55666941-55667441   | CRISPRi-HCRFF                     | CRISPRi-HCRFF:NMU                          |\n",
       "| chr4  |  55810941 |  55811941 | chr4:55810941-55811941   | CRISPRi-HCRFF                     | CRISPRi-HCRFF:NMU                          |\n",
       "| chr5  |  88836342 |  88837414 | chr5:88836342-88837414   | ATAC,CRISPRi-HCRFF                | ATAC,CRISPRi-HCRFF:MEF2C                   |\n",
       "| chr6  | 109301445 | 109302345 | chr6:109301445-109302345 | CRISPRi-HCRFF                     | CRISPRi-HCRFF:CD164                        |\n",
       "| chr6  | 135321986 | 135322486 | chr6:135321986-135322486 | CRISPRi-HCRFF                     | CRISPRi-HCRFF:MYB                          |\n",
       "| chr6  | 135323786 | 135324986 | chr6:135323786-135324986 | CRISPRi-HCRFF                     | CRISPRi-HCRFF:MYB                          |\n",
       "| chr8  | 128052169 | 128052369 | chr8:128052169-128052369 | CRISPRi-HCRFF                     | CRISPRi-HCRFF:PVT1                         |\n",
       "| chr8  | 128053469 | 128054069 | chr8:128053469-128054069 | CRISPRi-HCRFF                     | CRISPRi-HCRFF:PVT1                         |\n",
       "| chr8  | 128057569 | 128058469 | chr8:128057569-128058469 | CRISPRi-HCRFF                     | CRISPRi-HCRFF:PVT1                         |\n",
       "| chr8  | 128058784 | 128059351 | chr8:128058784-128059351 | ATAC,CRISPRi-HCRFF                | ATAC,CRISPRi-HCRFF:PVT1                    |\n",
       "| chr8  | 128059469 | 128059669 | chr8:128059469-128059669 | CRISPRi-HCRFF                     | CRISPRi-HCRFF:PVT1                         |\n",
       "| chr8  | 128066469 | 128066869 | chr8:128066469-128066869 | CRISPRi-HCRFF                     | CRISPRi-HCRFF:PVT1                         |\n",
       "\n"
      ],
      "text/plain": [
       "   Chrom Start     End       Region                  \n",
       "1  chr11   5248847   5249047 chr11:5248847-5249047   \n",
       "2  chr11   5253147   5253547 chr11:5253147-5253547   \n",
       "3  chr11   5253647   5254647 chr11:5253647-5254647   \n",
       "4  chr11   5282047   5282647 chr11:5282047-5282647   \n",
       "5  chr11   5283047   5283447 chr11:5283047-5283447   \n",
       "6  chr11  33880468  33883368 chr11:33880468-33883368 \n",
       "7  chr11  33947368  33947868 chr11:33947368-33947868 \n",
       "8  chr11  61796700  61797200 chr11:61796700-61797200 \n",
       "9  chr11  61813200  61813600 chr11:61813200-61813600 \n",
       "10 chr11  61864500  61864800 chr11:61864500-61864800 \n",
       "11 chr11  61892600  61893000 chr11:61892600-61893000 \n",
       "12 chr4   55602941  55606941 chr4:55602941-55606941  \n",
       "13 chr4   55608941  55613941 chr4:55608941-55613941  \n",
       "14 chr4   55614441  55617136 chr4:55614441-55617136  \n",
       "15 chr4   55617441  55618441 chr4:55617441-55618441  \n",
       "16 chr4   55624941  55627441 chr4:55624941-55627441  \n",
       "17 chr4   55631941  55633941 chr4:55631941-55633941  \n",
       "18 chr4   55666941  55667441 chr4:55666941-55667441  \n",
       "19 chr4   55810941  55811941 chr4:55810941-55811941  \n",
       "20 chr5   88836342  88837414 chr5:88836342-88837414  \n",
       "21 chr6  109301445 109302345 chr6:109301445-109302345\n",
       "22 chr6  135321986 135322486 chr6:135321986-135322486\n",
       "23 chr6  135323786 135324986 chr6:135323786-135324986\n",
       "24 chr8  128052169 128052369 chr8:128052169-128052369\n",
       "25 chr8  128053469 128054069 chr8:128053469-128054069\n",
       "26 chr8  128057569 128058469 chr8:128057569-128058469\n",
       "27 chr8  128058784 128059351 chr8:128058784-128059351\n",
       "28 chr8  128059469 128059669 chr8:128059469-128059669\n",
       "29 chr8  128066469 128066869 chr8:128066469-128066869\n",
       "   Assay_Type                        Assay_Label                               \n",
       "1  CRISPRi-HCRFF                     CRISPRi-HCRFF:HBG1,CRISPRi-HCRFF:HBG2     \n",
       "2  CRISPRi-HCRFF                     CRISPRi-HCRFF:HBG1,CRISPRi-HCRFF:HBG2     \n",
       "3  ATAC,CRISPRi-HCRFF                ATAC,CRISPRi-HCRFF:HBG1,CRISPRi-HCRFF:HBG2\n",
       "4  CRISPRi-HCRFF                     CRISPRi-HCRFF:HBG1,CRISPRi-HCRFF:HBG2     \n",
       "5  CRISPRi-HCRFF                     CRISPRi-HCRFF:HBG1,CRISPRi-HCRFF:HBG2     \n",
       "6  ATAC,CRISPRi-Growth,CRISPRi-HCRFF ATAC,CRISPRi-Growth,CRISPRi-HCRFF:LMO2    \n",
       "7  CRISPRi-HCRFF                     CRISPRi-HCRFF:LMO2                        \n",
       "8  CRISPRi-HCRFF                     CRISPRi-HCRFF:FEN1                        \n",
       "9  CRISPRi-HCRFF                     CRISPRi-HCRFF:FADS1                       \n",
       "10 CRISPRi-HCRFF                     CRISPRi-HCRFF:FADS2                       \n",
       "11 CRISPRi-HCRFF                     CRISPRi-HCRFF:FADS3                       \n",
       "12 ATAC,CRISPRi-HCRFF                ATAC,CRISPRi-HCRFF:NMU                    \n",
       "13 ATAC,CRISPRi-HCRFF                ATAC,CRISPRi-HCRFF:NMU                    \n",
       "14 ATAC,CRISPRi-HCRFF                ATAC,CRISPRi-HCRFF:NMU                    \n",
       "15 ATAC,CRISPRi-HCRFF                ATAC,CRISPRi-HCRFF:NMU                    \n",
       "16 ATAC,CRISPRi-HCRFF                ATAC,CRISPRi-HCRFF:NMU                    \n",
       "17 CRISPRi-HCRFF                     CRISPRi-HCRFF:NMU                         \n",
       "18 CRISPRi-HCRFF                     CRISPRi-HCRFF:NMU                         \n",
       "19 CRISPRi-HCRFF                     CRISPRi-HCRFF:NMU                         \n",
       "20 ATAC,CRISPRi-HCRFF                ATAC,CRISPRi-HCRFF:MEF2C                  \n",
       "21 CRISPRi-HCRFF                     CRISPRi-HCRFF:CD164                       \n",
       "22 CRISPRi-HCRFF                     CRISPRi-HCRFF:MYB                         \n",
       "23 CRISPRi-HCRFF                     CRISPRi-HCRFF:MYB                         \n",
       "24 CRISPRi-HCRFF                     CRISPRi-HCRFF:PVT1                        \n",
       "25 CRISPRi-HCRFF                     CRISPRi-HCRFF:PVT1                        \n",
       "26 CRISPRi-HCRFF                     CRISPRi-HCRFF:PVT1                        \n",
       "27 ATAC,CRISPRi-HCRFF                ATAC,CRISPRi-HCRFF:PVT1                   \n",
       "28 CRISPRi-HCRFF                     CRISPRi-HCRFF:PVT1                        \n",
       "29 CRISPRi-HCRFF                     CRISPRi-HCRFF:PVT1                        "
      ]
     },
     "metadata": {},
     "output_type": "display_data"
    }
   ],
   "source": [
    "dat = dat_region_merge_import\n",
    "dat = dat %>% \n",
    "    dplyr::filter( str_detect(Assay_Type, \"CRISPRi-HCRFF\")) %>% \n",
    "    dplyr::filter(!str_detect(Assay_Type, \"STARR|MPRA\")) %>%\n",
    "    dplyr::arrange(Chrom, Start, End) %>%\n",
    "    dplyr::distinct()\n",
    "print(dim(dat))\n",
    "dat"
   ]
  },
  {
   "cell_type": "code",
   "execution_count": null,
   "id": "70c6b64b-75e0-42aa-b932-b75b3f2ddc68",
   "metadata": {},
   "outputs": [],
   "source": []
  },
  {
   "cell_type": "code",
   "execution_count": null,
   "id": "9738f247-7643-4113-83d3-228ff1002c94",
   "metadata": {},
   "outputs": [],
   "source": []
  },
  {
   "cell_type": "code",
   "execution_count": null,
   "id": "0d56a632-5160-462d-82f8-5ebe1c93af10",
   "metadata": {},
   "outputs": [],
   "source": []
  },
  {
   "cell_type": "code",
   "execution_count": 23,
   "id": "c1500c6c-e26a-4fde-b63c-6e00089d6094",
   "metadata": {},
   "outputs": [
    {
     "name": "stdout",
     "output_type": "stream",
     "text": [
      "[1] 164391      6\n"
     ]
    },
    {
     "data": {
      "text/html": [
       "<table class=\"dataframe\">\n",
       "<caption>A tibble: 6 × 6</caption>\n",
       "<thead>\n",
       "\t<tr><th scope=col>Chrom</th><th scope=col>Start</th><th scope=col>End</th><th scope=col>Region</th><th scope=col>Assay_Type</th><th scope=col>Assay_Label</th></tr>\n",
       "\t<tr><th scope=col>&lt;chr&gt;</th><th scope=col>&lt;dbl&gt;</th><th scope=col>&lt;dbl&gt;</th><th scope=col>&lt;chr&gt;</th><th scope=col>&lt;chr&gt;</th><th scope=col>&lt;chr&gt;</th></tr>\n",
       "</thead>\n",
       "<tbody>\n",
       "\t<tr><td>chr1</td><td>136071</td><td>137429</td><td>chr1:136071-137429</td><td>ASTARR</td><td>ASTARR_R,ATAC</td></tr>\n",
       "\t<tr><td>chr1</td><td>136071</td><td>137429</td><td>chr1:136071-137429</td><td>ATAC  </td><td>ASTARR_R,ATAC</td></tr>\n",
       "\t<tr><td>chr1</td><td>180982</td><td>182087</td><td>chr1:180982-182087</td><td>ASTARR</td><td>ASTARR_R,ATAC</td></tr>\n",
       "\t<tr><td>chr1</td><td>180982</td><td>182087</td><td>chr1:180982-182087</td><td>ATAC  </td><td>ASTARR_R,ATAC</td></tr>\n",
       "\t<tr><td>chr1</td><td>183239</td><td>184602</td><td>chr1:183239-184602</td><td>ATAC  </td><td>ATAC,WSTARR_A</td></tr>\n",
       "\t<tr><td>chr1</td><td>183239</td><td>184602</td><td>chr1:183239-184602</td><td>WSTARR</td><td>ATAC,WSTARR_A</td></tr>\n",
       "</tbody>\n",
       "</table>\n"
      ],
      "text/latex": [
       "A tibble: 6 × 6\n",
       "\\begin{tabular}{llllll}\n",
       " Chrom & Start & End & Region & Assay\\_Type & Assay\\_Label\\\\\n",
       " <chr> & <dbl> & <dbl> & <chr> & <chr> & <chr>\\\\\n",
       "\\hline\n",
       "\t chr1 & 136071 & 137429 & chr1:136071-137429 & ASTARR & ASTARR\\_R,ATAC\\\\\n",
       "\t chr1 & 136071 & 137429 & chr1:136071-137429 & ATAC   & ASTARR\\_R,ATAC\\\\\n",
       "\t chr1 & 180982 & 182087 & chr1:180982-182087 & ASTARR & ASTARR\\_R,ATAC\\\\\n",
       "\t chr1 & 180982 & 182087 & chr1:180982-182087 & ATAC   & ASTARR\\_R,ATAC\\\\\n",
       "\t chr1 & 183239 & 184602 & chr1:183239-184602 & ATAC   & ATAC,WSTARR\\_A\\\\\n",
       "\t chr1 & 183239 & 184602 & chr1:183239-184602 & WSTARR & ATAC,WSTARR\\_A\\\\\n",
       "\\end{tabular}\n"
      ],
      "text/markdown": [
       "\n",
       "A tibble: 6 × 6\n",
       "\n",
       "| Chrom &lt;chr&gt; | Start &lt;dbl&gt; | End &lt;dbl&gt; | Region &lt;chr&gt; | Assay_Type &lt;chr&gt; | Assay_Label &lt;chr&gt; |\n",
       "|---|---|---|---|---|---|\n",
       "| chr1 | 136071 | 137429 | chr1:136071-137429 | ASTARR | ASTARR_R,ATAC |\n",
       "| chr1 | 136071 | 137429 | chr1:136071-137429 | ATAC   | ASTARR_R,ATAC |\n",
       "| chr1 | 180982 | 182087 | chr1:180982-182087 | ASTARR | ASTARR_R,ATAC |\n",
       "| chr1 | 180982 | 182087 | chr1:180982-182087 | ATAC   | ASTARR_R,ATAC |\n",
       "| chr1 | 183239 | 184602 | chr1:183239-184602 | ATAC   | ATAC,WSTARR_A |\n",
       "| chr1 | 183239 | 184602 | chr1:183239-184602 | WSTARR | ATAC,WSTARR_A |\n",
       "\n"
      ],
      "text/plain": [
       "  Chrom Start  End    Region             Assay_Type Assay_Label  \n",
       "1 chr1  136071 137429 chr1:136071-137429 ASTARR     ASTARR_R,ATAC\n",
       "2 chr1  136071 137429 chr1:136071-137429 ATAC       ASTARR_R,ATAC\n",
       "3 chr1  180982 182087 chr1:180982-182087 ASTARR     ASTARR_R,ATAC\n",
       "4 chr1  180982 182087 chr1:180982-182087 ATAC       ASTARR_R,ATAC\n",
       "5 chr1  183239 184602 chr1:183239-184602 ATAC       ATAC,WSTARR_A\n",
       "6 chr1  183239 184602 chr1:183239-184602 WSTARR     ATAC,WSTARR_A"
      ]
     },
     "metadata": {},
     "output_type": "display_data"
    }
   ],
   "source": [
    "dat = dat_region_merge_import\n",
    "dat = dat %>% dplyr::filter(Assay_Type != \"ATAC\")\n",
    "dat = dat %>% dplyr::filter(Assay_Type != \"ASTARR\")\n",
    "dat = dat %>% dplyr::filter(Assay_Type != \"WSTARR\")\n",
    "dat = dat %>% dplyr::filter(Assay_Type != \"ASTARR,WSTARR\")\n",
    "dat = dat %>% dplyr::filter(Assay_Type != \"TMPRA\")\n",
    "dat = dat %>% dplyr::filter(Assay_Type != \"LMPRA\")\n",
    "dat = dat %>% dplyr::filter(Assay_Type != \"LMPRA,TMPRA\")\n",
    "\n",
    "dat = dat %>% dplyr::filter(Assay_Type != \"ENCODE-E2G_Benchmark\")\n",
    "dat = dat %>% dplyr::filter(Assay_Type != \"ATAC,ENCODE-E2G_Benchmark\")\n",
    "\n",
    "dat = dat %>% tidyr::separate_longer_delim(Assay_Type, \",\")\n",
    "\n",
    "dat_region_merge_arrange = dat\n",
    "print(dim(dat))\n",
    "head(dat)"
   ]
  },
  {
   "cell_type": "code",
   "execution_count": 26,
   "id": "2b75013f-87ee-4f6c-a245-6ad62b44b11e",
   "metadata": {},
   "outputs": [],
   "source": [
    "#dat = dat_region_merge_arrange\n",
    "#dat = dat %>% dplyr::mutate(\n",
    "#    Assay_Type = dplyr::recode(\n",
    "#        Assay_Type,\n",
    "#        \"ENCODE-E2G_Benchmark\" = \"CRISPR EP Link\"\n",
    "#    ))\n",
    "\n",
    "#dat_region_merge_arrange_rename = dat\n",
    "#head(dat)"
   ]
  },
  {
   "cell_type": "code",
   "execution_count": null,
   "id": "100a3d9b-4b1d-44c2-95ce-8f509638ca31",
   "metadata": {},
   "outputs": [],
   "source": []
  },
  {
   "cell_type": "code",
   "execution_count": null,
   "id": "d105b69e-bf63-4db0-99ad-afec8be9a349",
   "metadata": {},
   "outputs": [],
   "source": []
  },
  {
   "cell_type": "code",
   "execution_count": null,
   "id": "c3017f5b-6cbe-40ef-a11e-de50edfc731f",
   "metadata": {},
   "outputs": [],
   "source": []
  },
  {
   "cell_type": "code",
   "execution_count": 27,
   "id": "cbc27833-4323-4710-a1cd-b269603d7414",
   "metadata": {},
   "outputs": [
    {
     "name": "stdout",
     "output_type": "stream",
     "text": [
      "\n",
      "                ATAC       CRISPRi-Growth        CRISPRi-HCRFF \n",
      "               64117                 6171                   75 \n",
      "ENCODE-E2G_Benchmark                 MPRA                STARR \n",
      "                 320                35751                46723 \n",
      "[1] 153157      6\n"
     ]
    },
    {
     "data": {
      "text/html": [
       "<table class=\"dataframe\">\n",
       "<caption>A tibble: 6 × 6</caption>\n",
       "<thead>\n",
       "\t<tr><th scope=col>Chrom</th><th scope=col>Start</th><th scope=col>End</th><th scope=col>Region</th><th scope=col>Assay_Type</th><th scope=col>Assay_Label</th></tr>\n",
       "\t<tr><th scope=col>&lt;chr&gt;</th><th scope=col>&lt;dbl&gt;</th><th scope=col>&lt;dbl&gt;</th><th scope=col>&lt;chr&gt;</th><th scope=col>&lt;chr&gt;</th><th scope=col>&lt;chr&gt;</th></tr>\n",
       "</thead>\n",
       "<tbody>\n",
       "\t<tr><td>chr1</td><td>136071</td><td>137429</td><td>chr1:136071-137429</td><td>STARR</td><td>ASTARR_R,ATAC</td></tr>\n",
       "\t<tr><td>chr1</td><td>136071</td><td>137429</td><td>chr1:136071-137429</td><td>ATAC </td><td>ASTARR_R,ATAC</td></tr>\n",
       "\t<tr><td>chr1</td><td>180982</td><td>182087</td><td>chr1:180982-182087</td><td>STARR</td><td>ASTARR_R,ATAC</td></tr>\n",
       "\t<tr><td>chr1</td><td>180982</td><td>182087</td><td>chr1:180982-182087</td><td>ATAC </td><td>ASTARR_R,ATAC</td></tr>\n",
       "\t<tr><td>chr1</td><td>183239</td><td>184602</td><td>chr1:183239-184602</td><td>ATAC </td><td>ATAC,WSTARR_A</td></tr>\n",
       "\t<tr><td>chr1</td><td>183239</td><td>184602</td><td>chr1:183239-184602</td><td>STARR</td><td>ATAC,WSTARR_A</td></tr>\n",
       "</tbody>\n",
       "</table>\n"
      ],
      "text/latex": [
       "A tibble: 6 × 6\n",
       "\\begin{tabular}{llllll}\n",
       " Chrom & Start & End & Region & Assay\\_Type & Assay\\_Label\\\\\n",
       " <chr> & <dbl> & <dbl> & <chr> & <chr> & <chr>\\\\\n",
       "\\hline\n",
       "\t chr1 & 136071 & 137429 & chr1:136071-137429 & STARR & ASTARR\\_R,ATAC\\\\\n",
       "\t chr1 & 136071 & 137429 & chr1:136071-137429 & ATAC  & ASTARR\\_R,ATAC\\\\\n",
       "\t chr1 & 180982 & 182087 & chr1:180982-182087 & STARR & ASTARR\\_R,ATAC\\\\\n",
       "\t chr1 & 180982 & 182087 & chr1:180982-182087 & ATAC  & ASTARR\\_R,ATAC\\\\\n",
       "\t chr1 & 183239 & 184602 & chr1:183239-184602 & ATAC  & ATAC,WSTARR\\_A\\\\\n",
       "\t chr1 & 183239 & 184602 & chr1:183239-184602 & STARR & ATAC,WSTARR\\_A\\\\\n",
       "\\end{tabular}\n"
      ],
      "text/markdown": [
       "\n",
       "A tibble: 6 × 6\n",
       "\n",
       "| Chrom &lt;chr&gt; | Start &lt;dbl&gt; | End &lt;dbl&gt; | Region &lt;chr&gt; | Assay_Type &lt;chr&gt; | Assay_Label &lt;chr&gt; |\n",
       "|---|---|---|---|---|---|\n",
       "| chr1 | 136071 | 137429 | chr1:136071-137429 | STARR | ASTARR_R,ATAC |\n",
       "| chr1 | 136071 | 137429 | chr1:136071-137429 | ATAC  | ASTARR_R,ATAC |\n",
       "| chr1 | 180982 | 182087 | chr1:180982-182087 | STARR | ASTARR_R,ATAC |\n",
       "| chr1 | 180982 | 182087 | chr1:180982-182087 | ATAC  | ASTARR_R,ATAC |\n",
       "| chr1 | 183239 | 184602 | chr1:183239-184602 | ATAC  | ATAC,WSTARR_A |\n",
       "| chr1 | 183239 | 184602 | chr1:183239-184602 | STARR | ATAC,WSTARR_A |\n",
       "\n"
      ],
      "text/plain": [
       "  Chrom Start  End    Region             Assay_Type Assay_Label  \n",
       "1 chr1  136071 137429 chr1:136071-137429 STARR      ASTARR_R,ATAC\n",
       "2 chr1  136071 137429 chr1:136071-137429 ATAC       ASTARR_R,ATAC\n",
       "3 chr1  180982 182087 chr1:180982-182087 STARR      ASTARR_R,ATAC\n",
       "4 chr1  180982 182087 chr1:180982-182087 ATAC       ASTARR_R,ATAC\n",
       "5 chr1  183239 184602 chr1:183239-184602 ATAC       ATAC,WSTARR_A\n",
       "6 chr1  183239 184602 chr1:183239-184602 STARR      ATAC,WSTARR_A"
      ]
     },
     "metadata": {},
     "output_type": "display_data"
    }
   ],
   "source": [
    "dat = dat_region_merge_arrange\n",
    "dat = dat %>% \n",
    "    dplyr::filter(Assay_Type, \"ENCODE-E2G_Benchmark\") %>%\n",
    "    dplyr::mutate(\n",
    "        Assay_Type = ifelse(\n",
    "            str_detect(Assay_Type, \"STARR\"),\n",
    "            \"STARR\",\n",
    "            Assay_Type\n",
    "        )\n",
    "    ) %>%\n",
    "    dplyr::mutate(\n",
    "        Assay_Type = ifelse(\n",
    "            str_detect(Assay_Type, \"MPRA\"),\n",
    "            \"MPRA\",\n",
    "            Assay_Type\n",
    "        )\n",
    "    )\n",
    "dat = dat %>% dplyr::distinct()\n",
    "res = table(dat$Assay_Type)\n",
    "\n",
    "###\n",
    "dat_region_merge_summary = dat\n",
    "print(res)\n",
    "print(dim(dat))\n",
    "head(dat)"
   ]
  },
  {
   "cell_type": "code",
   "execution_count": 17,
   "id": "56890be4-c264-4187-82cb-a9cdd5b6148a",
   "metadata": {},
   "outputs": [
    {
     "name": "stdout",
     "output_type": "stream",
     "text": [
      "$ATAC\n",
      "[1] 64166\n",
      "\n",
      "$`CRISPR EP Link`\n",
      "[1] 384\n",
      "\n",
      "$`CRISPRi-Growth`\n",
      "[1] 6171\n",
      "\n",
      "$`CRISPRi-HCRFF`\n",
      "[1] 75\n",
      "\n",
      "$MPRA\n",
      "[1] 35751\n",
      "\n",
      "$STARR\n",
      "[1] 46723\n",
      "\n"
     ]
    }
   ],
   "source": [
    "dat = dat_region_merge_summary\n",
    "lst = split(dat$Region, dat$Assay_Type)\n",
    "\n",
    "lst_region = lst\n",
    "lst = lapply(lst, length)\n",
    "print(lst)"
   ]
  },
  {
   "cell_type": "code",
   "execution_count": 22,
   "id": "2a97b1e9-cfa9-45cb-9d88-095eda39d7c9",
   "metadata": {},
   "outputs": [
    {
     "data": {
      "image/png": "[encoded data removed]",
      "text/plain": [
       "plot without title"
      ]
     },
     "metadata": {
      "image/png": {
       "height": 420,
       "width": 1020
      }
     },
     "output_type": "display_data"
    }
   ],
   "source": [
    "lst = lst_region\n",
    "\n",
    "plt = upset(fromList(lst), \n",
    "      order.by = \"freq\", \n",
    "      nsets = 8,\n",
    "      nintersects = NA,\n",
    "      number.angles = 30,\n",
    "      point.size = 3, \n",
    "      line.size  = 2,\n",
    "      mb.ratio = c(0.7, 0.3),\n",
    "      mainbar.y.label = \"Regulatory regions identified\", \n",
    "      sets.x.label    = \"Assay Type\", \n",
    "      text.scale = c(\n",
    "          2.5, # upper barplot y axis title\n",
    "          2, # upper barplot y axis text\n",
    "          1.6, # left  barplot y axis title\n",
    "          1.4, # left  barplot y axis text\n",
    "          2.5, # set title\n",
    "          2  # upper barplot count number\n",
    "      )\n",
    ")\n",
    "\n",
    "options(repr.plot.height=7, repr.plot.width=17)\n",
    "print(plt)"
   ]
  },
  {
   "cell_type": "code",
   "execution_count": null,
   "id": "891347bd-1edc-4fb1-a2ef-d4fd463fc492",
   "metadata": {},
   "outputs": [],
   "source": []
  }
 ],
 "metadata": {
  "kernelspec": {
   "display_name": "R",
   "language": "R",
   "name": "ir"
  },
  "language_info": {
   "codemirror_mode": "r",
   "file_extension": ".r",
   "mimetype": "text/x-r-source",
   "name": "R",
   "pygments_lexer": "r",
   "version": "4.3.1"
  }
 },
 "nbformat": 4,
 "nbformat_minor": 5
}
