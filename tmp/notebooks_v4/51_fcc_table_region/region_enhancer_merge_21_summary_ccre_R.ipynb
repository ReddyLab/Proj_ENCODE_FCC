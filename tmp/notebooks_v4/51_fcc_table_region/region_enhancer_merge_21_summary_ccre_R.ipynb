{
 "cells": [
  {
   "cell_type": "markdown",
   "metadata": {},
   "source": [
    "**Set environment**"
   ]
  },
  {
   "cell_type": "code",
   "execution_count": 1,
   "metadata": {},
   "outputs": [
    {
     "name": "stdout",
     "output_type": "stream",
     "text": [
      "You are in Singularity: singularity_proj_encode_fcc \n",
      "BASE DIRECTORY (FD_BASE): /data/reddylab/Kuei \n",
      "WORK DIRECTORY (FD_WORK): /data/reddylab/Kuei/out \n",
      "CODE DIRECTORY (FD_CODE): /data/reddylab/Kuei/code \n",
      "PATH OF PROJECT (FD_PRJ): /data/reddylab/Kuei/code/Proj_CombEffect_ENCODE_FCC \n",
      "PATH OF RESULTS (FD_RES): /data/reddylab/Kuei/out/proj_combeffect_encode_fcc \n",
      "PATH OF LOG     (FD_LOG): /data/reddylab/Kuei/out/proj_combeffect_encode_fcc/log \n"
     ]
    }
   ],
   "source": [
    "suppressMessages(suppressWarnings(source(\"../config/config_sing.R\")))\n",
    "show_env()"
   ]
  },
  {
   "cell_type": "markdown",
   "metadata": {},
   "source": [
    "**Check data files**"
   ]
  },
  {
   "cell_type": "code",
   "execution_count": 2,
   "metadata": {},
   "outputs": [],
   "source": [
    "FOLDER = \"annotation_ccre\""
   ]
  },
  {
   "cell_type": "code",
   "execution_count": 3,
   "metadata": {},
   "outputs": [],
   "source": [
    "FD_REG = file.path(\n",
    "    FD_RES, \n",
    "    \"results\", \n",
    "    \"region\", \n",
    "    \"annotation_enhancer_merge\")\n",
    "\n",
    "FD_ANT = file.path(\n",
    "    FD_RES, \n",
    "    \"results\", \n",
    "    \"region\", \n",
    "    FOLDER)"
   ]
  },
  {
   "cell_type": "code",
   "execution_count": 4,
   "metadata": {},
   "outputs": [
    {
     "name": "stdout",
     "output_type": "stream",
     "text": [
      "[1] \"description.tsv\"\n",
      "[1] \"enhancer_merge.concat.starrmpra_crispr_atac.active.bed.gz\"\n",
      "[1] \"enhancer_merge.concat.starrmpra_crispr_atac.active.merge.bed.gz\"\n",
      "[1] \"enhancer_merge.concat.starrmpra_crispr_atac.total.bed.gz\"\n",
      "[1] \"enhancer_merge.concat.starrmpra_crispr_atac.total.merge.bed.gz\"\n",
      "[1] \"enhancer_table.starrmpra_crispr_atac.active.merge.tsv\"\n",
      "[1] \"enhancer_table.starrmpra_crispr_atac.total.merge.tsv\"\n",
      "[1] \"region_active\"\n",
      "[1] \"region_total\"\n",
      "[1] \"summary\"\n",
      "[1] \"tmp\"\n"
     ]
    }
   ],
   "source": [
    "fdiry  = FD_REG\n",
    "fnames = dir(fdiry)\n",
    "for(fname in fnames){print(fname)}"
   ]
  },
  {
   "cell_type": "code",
   "execution_count": 5,
   "metadata": {},
   "outputs": [
    {
     "name": "stdout",
     "output_type": "stream",
     "text": [
      "[1] \"ccre_v3.bed.gz\"\n",
      "[1] \"ccre_v4.bed.gz\"\n",
      "[1] \"description.tsv\"\n",
      "[1] \"summary\"\n"
     ]
    }
   ],
   "source": [
    "fdiry  = FD_ANT\n",
    "fnames = dir(fdiry)\n",
    "for(fname in fnames){print(fname)}"
   ]
  },
  {
   "cell_type": "code",
   "execution_count": 6,
   "metadata": {},
   "outputs": [
    {
     "name": "stdout",
     "output_type": "stream",
     "text": [
      "[1] \"peak.annotation.ccre_v3.bed.gz\"\n",
      "[1] \"peak.annotation.ccre_v4.bed.gz\"\n"
     ]
    }
   ],
   "source": [
    "fdiry = file.path(FD_REG, \"region_active\", FOLDER)\n",
    "fnames = dir(fdiry)\n",
    "for(fname in fnames){print(fname)}"
   ]
  },
  {
   "cell_type": "markdown",
   "metadata": {},
   "source": [
    "## Import data"
   ]
  },
  {
   "cell_type": "code",
   "execution_count": 7,
   "metadata": {},
   "outputs": [
    {
     "data": {
      "text/html": [
       "<table class=\"dataframe\">\n",
       "<caption>A spec_tbl_df: 5 × 2</caption>\n",
       "<thead>\n",
       "\t<tr><th scope=col>Name</th><th scope=col>Description</th></tr>\n",
       "\t<tr><th scope=col>&lt;chr&gt;</th><th scope=col>&lt;chr&gt;</th></tr>\n",
       "</thead>\n",
       "<tbody>\n",
       "\t<tr><td>Chrom      </td><td>Chromosome </td></tr>\n",
       "\t<tr><td>Start      </td><td>Start      </td></tr>\n",
       "\t<tr><td>End        </td><td>End        </td></tr>\n",
       "\t<tr><td>Assay_Type </td><td>Assay type </td></tr>\n",
       "\t<tr><td>Assay_Label</td><td>Assay label</td></tr>\n",
       "</tbody>\n",
       "</table>\n"
      ],
      "text/latex": [
       "A spec\\_tbl\\_df: 5 × 2\n",
       "\\begin{tabular}{ll}\n",
       " Name & Description\\\\\n",
       " <chr> & <chr>\\\\\n",
       "\\hline\n",
       "\t Chrom       & Chromosome \\\\\n",
       "\t Start       & Start      \\\\\n",
       "\t End         & End        \\\\\n",
       "\t Assay\\_Type  & Assay type \\\\\n",
       "\t Assay\\_Label & Assay label\\\\\n",
       "\\end{tabular}\n"
      ],
      "text/markdown": [
       "\n",
       "A spec_tbl_df: 5 × 2\n",
       "\n",
       "| Name &lt;chr&gt; | Description &lt;chr&gt; |\n",
       "|---|---|\n",
       "| Chrom       | Chromosome  |\n",
       "| Start       | Start       |\n",
       "| End         | End         |\n",
       "| Assay_Type  | Assay type  |\n",
       "| Assay_Label | Assay label |\n",
       "\n"
      ],
      "text/plain": [
       "  Name        Description\n",
       "1 Chrom       Chromosome \n",
       "2 Start       Start      \n",
       "3 End         End        \n",
       "4 Assay_Type  Assay type \n",
       "5 Assay_Label Assay label"
      ]
     },
     "metadata": {},
     "output_type": "display_data"
    }
   ],
   "source": [
    "### set file paths\n",
    "fdiry = FD_REG\n",
    "fname = \"description.tsv\"\n",
    "fpath = file.path(fdiry, fname)\n",
    "\n",
    "### read table\n",
    "dat = read_tsv(fpath, show_col_types = FALSE)\n",
    "vec = dat$Name\n",
    "vec[1:3] = paste(vec[1:3], \"Peak\", sep=\"_\")\n",
    "\n",
    "### assign and show\n",
    "vec_txt_cnames_reg = vec\n",
    "dat"
   ]
  },
  {
   "cell_type": "code",
   "execution_count": 8,
   "metadata": {},
   "outputs": [
    {
     "data": {
      "text/html": [
       "<table class=\"dataframe\">\n",
       "<caption>A spec_tbl_df: 11 × 2</caption>\n",
       "<thead>\n",
       "\t<tr><th scope=col>Name</th><th scope=col>Description</th></tr>\n",
       "\t<tr><th scope=col>&lt;chr&gt;</th><th scope=col>&lt;chr&gt;</th></tr>\n",
       "</thead>\n",
       "<tbody>\n",
       "\t<tr><td>Chrom     </td><td>Chromosome                                                 </td></tr>\n",
       "\t<tr><td>Start     </td><td>Start position                                             </td></tr>\n",
       "\t<tr><td>End       </td><td>End position                                               </td></tr>\n",
       "\t<tr><td>Name      </td><td>Name                                                       </td></tr>\n",
       "\t<tr><td>Score     </td><td>Score                                                      </td></tr>\n",
       "\t<tr><td>Strand    </td><td>[+-.]; Use '.' if no strand is assigned.                   </td></tr>\n",
       "\t<tr><td>ThickStart</td><td>The starting position at which the feature is drawn thickly</td></tr>\n",
       "\t<tr><td>ThickEnd  </td><td>The ending position at which the feature is drawn thickly  </td></tr>\n",
       "\t<tr><td>ItemRgb   </td><td>An RGB value of the form R,G,B (e.g. 255,0,0)              </td></tr>\n",
       "\t<tr><td>Category  </td><td>Label of cCREs type                                        </td></tr>\n",
       "\t<tr><td>Note      </td><td>Description                                                </td></tr>\n",
       "</tbody>\n",
       "</table>\n"
      ],
      "text/latex": [
       "A spec\\_tbl\\_df: 11 × 2\n",
       "\\begin{tabular}{ll}\n",
       " Name & Description\\\\\n",
       " <chr> & <chr>\\\\\n",
       "\\hline\n",
       "\t Chrom      & Chromosome                                                 \\\\\n",
       "\t Start      & Start position                                             \\\\\n",
       "\t End        & End position                                               \\\\\n",
       "\t Name       & Name                                                       \\\\\n",
       "\t Score      & Score                                                      \\\\\n",
       "\t Strand     & {[}+-.{]}; Use '.' if no strand is assigned.                   \\\\\n",
       "\t ThickStart & The starting position at which the feature is drawn thickly\\\\\n",
       "\t ThickEnd   & The ending position at which the feature is drawn thickly  \\\\\n",
       "\t ItemRgb    & An RGB value of the form R,G,B (e.g. 255,0,0)              \\\\\n",
       "\t Category   & Label of cCREs type                                        \\\\\n",
       "\t Note       & Description                                                \\\\\n",
       "\\end{tabular}\n"
      ],
      "text/markdown": [
       "\n",
       "A spec_tbl_df: 11 × 2\n",
       "\n",
       "| Name &lt;chr&gt; | Description &lt;chr&gt; |\n",
       "|---|---|\n",
       "| Chrom      | Chromosome                                                  |\n",
       "| Start      | Start position                                              |\n",
       "| End        | End position                                                |\n",
       "| Name       | Name                                                        |\n",
       "| Score      | Score                                                       |\n",
       "| Strand     | [+-.]; Use '.' if no strand is assigned.                    |\n",
       "| ThickStart | The starting position at which the feature is drawn thickly |\n",
       "| ThickEnd   | The ending position at which the feature is drawn thickly   |\n",
       "| ItemRgb    | An RGB value of the form R,G,B (e.g. 255,0,0)               |\n",
       "| Category   | Label of cCREs type                                         |\n",
       "| Note       | Description                                                 |\n",
       "\n"
      ],
      "text/plain": [
       "   Name       Description                                                \n",
       "1  Chrom      Chromosome                                                 \n",
       "2  Start      Start position                                             \n",
       "3  End        End position                                               \n",
       "4  Name       Name                                                       \n",
       "5  Score      Score                                                      \n",
       "6  Strand     [+-.]; Use '.' if no strand is assigned.                   \n",
       "7  ThickStart The starting position at which the feature is drawn thickly\n",
       "8  ThickEnd   The ending position at which the feature is drawn thickly  \n",
       "9  ItemRgb    An RGB value of the form R,G,B (e.g. 255,0,0)              \n",
       "10 Category   Label of cCREs type                                        \n",
       "11 Note       Description                                                "
      ]
     },
     "metadata": {},
     "output_type": "display_data"
    }
   ],
   "source": [
    "### set file paths\n",
    "fdiry = FD_ANT\n",
    "fname = \"description.tsv\"\n",
    "fpath = file.path(fdiry, fname)\n",
    "\n",
    "### read table\n",
    "dat = read_tsv(fpath, show_col_types = FALSE)\n",
    "vec = dat$Name\n",
    "\n",
    "### assign and show\n",
    "vec_txt_cnames_ant = vec\n",
    "dat"
   ]
  },
  {
   "cell_type": "code",
   "execution_count": 9,
   "metadata": {},
   "outputs": [
    {
     "name": "stdout",
     "output_type": "stream",
     "text": [
      "                         ccre_v3                          ccre_v4 \n",
      "\"peak.annotation.ccre_v3.bed.gz\" \"peak.annotation.ccre_v4.bed.gz\" \n"
     ]
    }
   ],
   "source": [
    "### init: set column names\n",
    "cnames = c(\n",
    "    paste(vec_txt_cnames_reg, sep=\"_\"),\n",
    "    paste(vec_txt_cnames_ant, sep=\"_\"),\n",
    "    \"Overlap\"\n",
    ")\n",
    "\n",
    "### init: set file path\n",
    "fdiry = file.path(\n",
    "    FD_RES, \n",
    "    \"results\", \n",
    "    \"region\", \n",
    "    \"annotation_enhancer_merge\",\n",
    "    \"region_active\",\n",
    "    FOLDER)\n",
    "fname  = paste(\"peak.annotation\", \"bed.gz\", sep=\"*\")\n",
    "fglob  = file.path(fdiry, fname)\n",
    "fpaths = Sys.glob(fglob)\n",
    "fnames = basename(fpaths)\n",
    "\n",
    "### init: annotation and label\n",
    "annotations = fnames %>% \n",
    "    str_split(., \"\\\\.\") %>%\n",
    "    do.call(rbind, .) %>%\n",
    "    as.data.frame %>%\n",
    "    dplyr::pull(3)\n",
    "names(fnames) = annotations\n",
    "names(annotations) = annotations\n",
    "print(fnames)"
   ]
  },
  {
   "cell_type": "code",
   "execution_count": 10,
   "metadata": {},
   "outputs": [
    {
     "name": "stdout",
     "output_type": "stream",
     "text": [
      "[1] 2\n",
      "=========================\n",
      "[1] \"ccre_v3\" \"ccre_v4\"\n",
      "=========================\n"
     ]
    },
    {
     "data": {
      "text/html": [
       "<table class=\"dataframe\">\n",
       "<caption>A tibble: 6 × 22</caption>\n",
       "<thead>\n",
       "\t<tr><th scope=col>Chrom_Peak</th><th scope=col>Start_Peak</th><th scope=col>End_Peak</th><th scope=col>Assay_Type</th><th scope=col>Assay_Label</th><th scope=col>Chrom</th><th scope=col>Start</th><th scope=col>End</th><th scope=col>Name</th><th scope=col>Score</th><th scope=col>⋯</th><th scope=col>ThickEnd</th><th scope=col>ItemRgb</th><th scope=col>Category</th><th scope=col>Note</th><th scope=col>Overlap</th><th scope=col>Name_Peak</th><th scope=col>Annotation</th><th scope=col>Label</th><th scope=col>Region</th><th scope=col>Value</th></tr>\n",
       "\t<tr><th scope=col>&lt;chr&gt;</th><th scope=col>&lt;dbl&gt;</th><th scope=col>&lt;dbl&gt;</th><th scope=col>&lt;chr&gt;</th><th scope=col>&lt;chr&gt;</th><th scope=col>&lt;chr&gt;</th><th scope=col>&lt;dbl&gt;</th><th scope=col>&lt;dbl&gt;</th><th scope=col>&lt;chr&gt;</th><th scope=col>&lt;dbl&gt;</th><th scope=col>⋯</th><th scope=col>&lt;dbl&gt;</th><th scope=col>&lt;chr&gt;</th><th scope=col>&lt;chr&gt;</th><th scope=col>&lt;chr&gt;</th><th scope=col>&lt;dbl&gt;</th><th scope=col>&lt;chr&gt;</th><th scope=col>&lt;chr&gt;</th><th scope=col>&lt;chr&gt;</th><th scope=col>&lt;chr&gt;</th><th scope=col>&lt;dbl&gt;</th></tr>\n",
       "</thead>\n",
       "<tbody>\n",
       "\t<tr><td>chr1</td><td>180982</td><td>182087</td><td>ATAC                                          </td><td>ATAC                                                                                                                                                                                                 </td><td>chr1</td><td>181251</td><td>181601</td><td>EH38E1310153</td><td>0</td><td>⋯</td><td>181601</td><td>6,218,147  </td><td>DNase-only    </td><td>EH38E1310153:DNase-only    </td><td>350</td><td>chr1:180982-182087</td><td>ccre_v3</td><td>DNase-only    </td><td>chr1:181251-181601</td><td>0</td></tr>\n",
       "\t<tr><td>chr1</td><td>777949</td><td>779437</td><td>ASTARR,ATAC,ENCODE-E2G_Prediction,LMPRA,WSTARR</td><td>ASTARR_A,ATAC,ENCODE-E2G_Prediction:FAM87B,ENCODE-E2G_Prediction:LINC00115,ENCODE-E2G_Prediction:LINC01128,ENCODE-E2G_Prediction:LOC100288069,ENCODE-E2G_Prediction:SAMD11,LMPRA_A,WSTARR_A,WSTARR_AB</td><td>chr1</td><td>778562</td><td>778912</td><td>EH38E1310158</td><td>0</td><td>⋯</td><td>778912</td><td>255,0,0    </td><td>PLS,CTCF-bound</td><td>EH38E1310158:PLS,CTCF-bound</td><td>350</td><td>chr1:777949-779437</td><td>ccre_v3</td><td>PLS,CTCF-bound</td><td>chr1:778562-778912</td><td>0</td></tr>\n",
       "\t<tr><td>chr1</td><td>777949</td><td>779437</td><td>ASTARR,ATAC,ENCODE-E2G_Prediction,LMPRA,WSTARR</td><td>ASTARR_A,ATAC,ENCODE-E2G_Prediction:FAM87B,ENCODE-E2G_Prediction:LINC00115,ENCODE-E2G_Prediction:LINC01128,ENCODE-E2G_Prediction:LOC100288069,ENCODE-E2G_Prediction:SAMD11,LMPRA_A,WSTARR_A,WSTARR_AB</td><td>chr1</td><td>779086</td><td>779355</td><td>EH38E1310159</td><td>0</td><td>⋯</td><td>779355</td><td>255,0,0    </td><td>PLS           </td><td>EH38E1310159:PLS           </td><td>269</td><td>chr1:777949-779437</td><td>ccre_v3</td><td>PLS           </td><td>chr1:779086-779355</td><td>0</td></tr>\n",
       "\t<tr><td>chr1</td><td>816774</td><td>817620</td><td>ATAC,ENCODE-E2G_Prediction                    </td><td>ATAC,ENCODE-E2G_Prediction:FAM87B,ENCODE-E2G_Prediction:LINC00115,ENCODE-E2G_Prediction:LINC01128                                                                                                    </td><td>chr1</td><td>817080</td><td>817403</td><td>EH38E1310166</td><td>0</td><td>⋯</td><td>817403</td><td>225,225,225</td><td>Low-DNase     </td><td>EH38E1310166:Low-DNase     </td><td>323</td><td>chr1:816774-817620</td><td>ccre_v3</td><td>Low-DNase     </td><td>chr1:817080-817403</td><td>0</td></tr>\n",
       "\t<tr><td>chr1</td><td>817905</td><td>818348</td><td>ATAC                                          </td><td>ATAC                                                                                                                                                                                                 </td><td>chr1</td><td>817903</td><td>818252</td><td>EH38E1310167</td><td>0</td><td>⋯</td><td>818252</td><td>225,225,225</td><td>Low-DNase     </td><td>EH38E1310167:Low-DNase     </td><td>347</td><td>chr1:817905-818348</td><td>ccre_v3</td><td>Low-DNase     </td><td>chr1:817903-818252</td><td>0</td></tr>\n",
       "\t<tr><td>chr1</td><td>818602</td><td>819380</td><td>ATAC,WSTARR                                   </td><td>ATAC,WSTARR_A                                                                                                                                                                                        </td><td>chr1</td><td>818718</td><td>818872</td><td>EH38E1310168</td><td>0</td><td>⋯</td><td>818872</td><td>225,225,225</td><td>Low-DNase     </td><td>EH38E1310168:Low-DNase     </td><td>154</td><td>chr1:818602-819380</td><td>ccre_v3</td><td>Low-DNase     </td><td>chr1:818718-818872</td><td>0</td></tr>\n",
       "</tbody>\n",
       "</table>\n"
      ],
      "text/latex": [
       "A tibble: 6 × 22\n",
       "\\begin{tabular}{lllllllllllllllllllll}\n",
       " Chrom\\_Peak & Start\\_Peak & End\\_Peak & Assay\\_Type & Assay\\_Label & Chrom & Start & End & Name & Score & ⋯ & ThickEnd & ItemRgb & Category & Note & Overlap & Name\\_Peak & Annotation & Label & Region & Value\\\\\n",
       " <chr> & <dbl> & <dbl> & <chr> & <chr> & <chr> & <dbl> & <dbl> & <chr> & <dbl> & ⋯ & <dbl> & <chr> & <chr> & <chr> & <dbl> & <chr> & <chr> & <chr> & <chr> & <dbl>\\\\\n",
       "\\hline\n",
       "\t chr1 & 180982 & 182087 & ATAC                                           & ATAC                                                                                                                                                                                                  & chr1 & 181251 & 181601 & EH38E1310153 & 0 & ⋯ & 181601 & 6,218,147   & DNase-only     & EH38E1310153:DNase-only     & 350 & chr1:180982-182087 & ccre\\_v3 & DNase-only     & chr1:181251-181601 & 0\\\\\n",
       "\t chr1 & 777949 & 779437 & ASTARR,ATAC,ENCODE-E2G\\_Prediction,LMPRA,WSTARR & ASTARR\\_A,ATAC,ENCODE-E2G\\_Prediction:FAM87B,ENCODE-E2G\\_Prediction:LINC00115,ENCODE-E2G\\_Prediction:LINC01128,ENCODE-E2G\\_Prediction:LOC100288069,ENCODE-E2G\\_Prediction:SAMD11,LMPRA\\_A,WSTARR\\_A,WSTARR\\_AB & chr1 & 778562 & 778912 & EH38E1310158 & 0 & ⋯ & 778912 & 255,0,0     & PLS,CTCF-bound & EH38E1310158:PLS,CTCF-bound & 350 & chr1:777949-779437 & ccre\\_v3 & PLS,CTCF-bound & chr1:778562-778912 & 0\\\\\n",
       "\t chr1 & 777949 & 779437 & ASTARR,ATAC,ENCODE-E2G\\_Prediction,LMPRA,WSTARR & ASTARR\\_A,ATAC,ENCODE-E2G\\_Prediction:FAM87B,ENCODE-E2G\\_Prediction:LINC00115,ENCODE-E2G\\_Prediction:LINC01128,ENCODE-E2G\\_Prediction:LOC100288069,ENCODE-E2G\\_Prediction:SAMD11,LMPRA\\_A,WSTARR\\_A,WSTARR\\_AB & chr1 & 779086 & 779355 & EH38E1310159 & 0 & ⋯ & 779355 & 255,0,0     & PLS            & EH38E1310159:PLS            & 269 & chr1:777949-779437 & ccre\\_v3 & PLS            & chr1:779086-779355 & 0\\\\\n",
       "\t chr1 & 816774 & 817620 & ATAC,ENCODE-E2G\\_Prediction                     & ATAC,ENCODE-E2G\\_Prediction:FAM87B,ENCODE-E2G\\_Prediction:LINC00115,ENCODE-E2G\\_Prediction:LINC01128                                                                                                     & chr1 & 817080 & 817403 & EH38E1310166 & 0 & ⋯ & 817403 & 225,225,225 & Low-DNase      & EH38E1310166:Low-DNase      & 323 & chr1:816774-817620 & ccre\\_v3 & Low-DNase      & chr1:817080-817403 & 0\\\\\n",
       "\t chr1 & 817905 & 818348 & ATAC                                           & ATAC                                                                                                                                                                                                  & chr1 & 817903 & 818252 & EH38E1310167 & 0 & ⋯ & 818252 & 225,225,225 & Low-DNase      & EH38E1310167:Low-DNase      & 347 & chr1:817905-818348 & ccre\\_v3 & Low-DNase      & chr1:817903-818252 & 0\\\\\n",
       "\t chr1 & 818602 & 819380 & ATAC,WSTARR                                    & ATAC,WSTARR\\_A                                                                                                                                                                                         & chr1 & 818718 & 818872 & EH38E1310168 & 0 & ⋯ & 818872 & 225,225,225 & Low-DNase      & EH38E1310168:Low-DNase      & 154 & chr1:818602-819380 & ccre\\_v3 & Low-DNase      & chr1:818718-818872 & 0\\\\\n",
       "\\end{tabular}\n"
      ],
      "text/markdown": [
       "\n",
       "A tibble: 6 × 22\n",
       "\n",
       "| Chrom_Peak &lt;chr&gt; | Start_Peak &lt;dbl&gt; | End_Peak &lt;dbl&gt; | Assay_Type &lt;chr&gt; | Assay_Label &lt;chr&gt; | Chrom &lt;chr&gt; | Start &lt;dbl&gt; | End &lt;dbl&gt; | Name &lt;chr&gt; | Score &lt;dbl&gt; | ⋯ ⋯ | ThickEnd &lt;dbl&gt; | ItemRgb &lt;chr&gt; | Category &lt;chr&gt; | Note &lt;chr&gt; | Overlap &lt;dbl&gt; | Name_Peak &lt;chr&gt; | Annotation &lt;chr&gt; | Label &lt;chr&gt; | Region &lt;chr&gt; | Value &lt;dbl&gt; |\n",
       "|---|---|---|---|---|---|---|---|---|---|---|---|---|---|---|---|---|---|---|---|---|\n",
       "| chr1 | 180982 | 182087 | ATAC                                           | ATAC                                                                                                                                                                                                  | chr1 | 181251 | 181601 | EH38E1310153 | 0 | ⋯ | 181601 | 6,218,147   | DNase-only     | EH38E1310153:DNase-only     | 350 | chr1:180982-182087 | ccre_v3 | DNase-only     | chr1:181251-181601 | 0 |\n",
       "| chr1 | 777949 | 779437 | ASTARR,ATAC,ENCODE-E2G_Prediction,LMPRA,WSTARR | ASTARR_A,ATAC,ENCODE-E2G_Prediction:FAM87B,ENCODE-E2G_Prediction:LINC00115,ENCODE-E2G_Prediction:LINC01128,ENCODE-E2G_Prediction:LOC100288069,ENCODE-E2G_Prediction:SAMD11,LMPRA_A,WSTARR_A,WSTARR_AB | chr1 | 778562 | 778912 | EH38E1310158 | 0 | ⋯ | 778912 | 255,0,0     | PLS,CTCF-bound | EH38E1310158:PLS,CTCF-bound | 350 | chr1:777949-779437 | ccre_v3 | PLS,CTCF-bound | chr1:778562-778912 | 0 |\n",
       "| chr1 | 777949 | 779437 | ASTARR,ATAC,ENCODE-E2G_Prediction,LMPRA,WSTARR | ASTARR_A,ATAC,ENCODE-E2G_Prediction:FAM87B,ENCODE-E2G_Prediction:LINC00115,ENCODE-E2G_Prediction:LINC01128,ENCODE-E2G_Prediction:LOC100288069,ENCODE-E2G_Prediction:SAMD11,LMPRA_A,WSTARR_A,WSTARR_AB | chr1 | 779086 | 779355 | EH38E1310159 | 0 | ⋯ | 779355 | 255,0,0     | PLS            | EH38E1310159:PLS            | 269 | chr1:777949-779437 | ccre_v3 | PLS            | chr1:779086-779355 | 0 |\n",
       "| chr1 | 816774 | 817620 | ATAC,ENCODE-E2G_Prediction                     | ATAC,ENCODE-E2G_Prediction:FAM87B,ENCODE-E2G_Prediction:LINC00115,ENCODE-E2G_Prediction:LINC01128                                                                                                     | chr1 | 817080 | 817403 | EH38E1310166 | 0 | ⋯ | 817403 | 225,225,225 | Low-DNase      | EH38E1310166:Low-DNase      | 323 | chr1:816774-817620 | ccre_v3 | Low-DNase      | chr1:817080-817403 | 0 |\n",
       "| chr1 | 817905 | 818348 | ATAC                                           | ATAC                                                                                                                                                                                                  | chr1 | 817903 | 818252 | EH38E1310167 | 0 | ⋯ | 818252 | 225,225,225 | Low-DNase      | EH38E1310167:Low-DNase      | 347 | chr1:817905-818348 | ccre_v3 | Low-DNase      | chr1:817903-818252 | 0 |\n",
       "| chr1 | 818602 | 819380 | ATAC,WSTARR                                    | ATAC,WSTARR_A                                                                                                                                                                                         | chr1 | 818718 | 818872 | EH38E1310168 | 0 | ⋯ | 818872 | 225,225,225 | Low-DNase      | EH38E1310168:Low-DNase      | 154 | chr1:818602-819380 | ccre_v3 | Low-DNase      | chr1:818718-818872 | 0 |\n",
       "\n"
      ],
      "text/plain": [
       "  Chrom_Peak Start_Peak End_Peak Assay_Type                                    \n",
       "1 chr1       180982     182087   ATAC                                          \n",
       "2 chr1       777949     779437   ASTARR,ATAC,ENCODE-E2G_Prediction,LMPRA,WSTARR\n",
       "3 chr1       777949     779437   ASTARR,ATAC,ENCODE-E2G_Prediction,LMPRA,WSTARR\n",
       "4 chr1       816774     817620   ATAC,ENCODE-E2G_Prediction                    \n",
       "5 chr1       817905     818348   ATAC                                          \n",
       "6 chr1       818602     819380   ATAC,WSTARR                                   \n",
       "  Assay_Label                                                                                                                                                                                          \n",
       "1 ATAC                                                                                                                                                                                                 \n",
       "2 ASTARR_A,ATAC,ENCODE-E2G_Prediction:FAM87B,ENCODE-E2G_Prediction:LINC00115,ENCODE-E2G_Prediction:LINC01128,ENCODE-E2G_Prediction:LOC100288069,ENCODE-E2G_Prediction:SAMD11,LMPRA_A,WSTARR_A,WSTARR_AB\n",
       "3 ASTARR_A,ATAC,ENCODE-E2G_Prediction:FAM87B,ENCODE-E2G_Prediction:LINC00115,ENCODE-E2G_Prediction:LINC01128,ENCODE-E2G_Prediction:LOC100288069,ENCODE-E2G_Prediction:SAMD11,LMPRA_A,WSTARR_A,WSTARR_AB\n",
       "4 ATAC,ENCODE-E2G_Prediction:FAM87B,ENCODE-E2G_Prediction:LINC00115,ENCODE-E2G_Prediction:LINC01128                                                                                                    \n",
       "5 ATAC                                                                                                                                                                                                 \n",
       "6 ATAC,WSTARR_A                                                                                                                                                                                        \n",
       "  Chrom Start  End    Name         Score ⋯ ThickEnd ItemRgb     Category      \n",
       "1 chr1  181251 181601 EH38E1310153 0     ⋯ 181601   6,218,147   DNase-only    \n",
       "2 chr1  778562 778912 EH38E1310158 0     ⋯ 778912   255,0,0     PLS,CTCF-bound\n",
       "3 chr1  779086 779355 EH38E1310159 0     ⋯ 779355   255,0,0     PLS           \n",
       "4 chr1  817080 817403 EH38E1310166 0     ⋯ 817403   225,225,225 Low-DNase     \n",
       "5 chr1  817903 818252 EH38E1310167 0     ⋯ 818252   225,225,225 Low-DNase     \n",
       "6 chr1  818718 818872 EH38E1310168 0     ⋯ 818872   225,225,225 Low-DNase     \n",
       "  Note                        Overlap Name_Peak          Annotation\n",
       "1 EH38E1310153:DNase-only     350     chr1:180982-182087 ccre_v3   \n",
       "2 EH38E1310158:PLS,CTCF-bound 350     chr1:777949-779437 ccre_v3   \n",
       "3 EH38E1310159:PLS            269     chr1:777949-779437 ccre_v3   \n",
       "4 EH38E1310166:Low-DNase      323     chr1:816774-817620 ccre_v3   \n",
       "5 EH38E1310167:Low-DNase      347     chr1:817905-818348 ccre_v3   \n",
       "6 EH38E1310168:Low-DNase      154     chr1:818602-819380 ccre_v3   \n",
       "  Label          Region             Value\n",
       "1 DNase-only     chr1:181251-181601 0    \n",
       "2 PLS,CTCF-bound chr1:778562-778912 0    \n",
       "3 PLS            chr1:779086-779355 0    \n",
       "4 Low-DNase      chr1:817080-817403 0    \n",
       "5 Low-DNase      chr1:817903-818252 0    \n",
       "6 Low-DNase      chr1:818718-818872 0    "
      ]
     },
     "metadata": {},
     "output_type": "display_data"
    }
   ],
   "source": [
    "### Import data\n",
    "lst = lapply(annotations, function(annotation){\n",
    "    ### set file path\n",
    "    fname = fnames[annotation]\n",
    "    fpath = file.path(fdiry, fname)\n",
    "    \n",
    "    ### read data\n",
    "    dat = read_tsv(fpath, col_names = cnames, show_col_types = FALSE)\n",
    "    dat = dat %>% dplyr::mutate(\n",
    "        Name_Peak  = paste0(Chrom_Peak, \":\", Start_Peak, \"-\", End_Peak),\n",
    "        Annotation = annotation,\n",
    "        Label      = Category,\n",
    "        Region     = paste0(Chrom, \":\", Start, \"-\", End),\n",
    "        Value      = Score,\n",
    "        Note       = paste0(Name, \":\", Category)\n",
    "    )\n",
    "    return(dat)\n",
    "})\n",
    "\n",
    "### assign and show\n",
    "lst_peak_annot_import = lst\n",
    "print(length(lst))\n",
    "cat(\"=========================\\n\")\n",
    "print(names(lst))\n",
    "cat(\"=========================\\n\")\n",
    "head(lst[[1]])"
   ]
  },
  {
   "cell_type": "markdown",
   "metadata": {},
   "source": [
    "## Arrange and summarize"
   ]
  },
  {
   "cell_type": "code",
   "execution_count": 11,
   "metadata": {},
   "outputs": [
    {
     "name": "stdout",
     "output_type": "stream",
     "text": [
      "[1] 2\n",
      "=========================\n",
      "[1] \"ccre_v3\" \"ccre_v4\"\n",
      "=========================\n"
     ]
    },
    {
     "data": {
      "text/html": [
       "<table class=\"dataframe\">\n",
       "<caption>A tibble: 6 × 9</caption>\n",
       "<thead>\n",
       "\t<tr><th scope=col>Peak</th><th scope=col>Assay_Type</th><th scope=col>Assay_Label</th><th scope=col>Annotation</th><th scope=col>Label</th><th scope=col>Count</th><th scope=col>Region</th><th scope=col>Score</th><th scope=col>Note</th></tr>\n",
       "\t<tr><th scope=col>&lt;chr&gt;</th><th scope=col>&lt;chr&gt;</th><th scope=col>&lt;chr&gt;</th><th scope=col>&lt;chr&gt;</th><th scope=col>&lt;chr&gt;</th><th scope=col>&lt;int&gt;</th><th scope=col>&lt;chr&gt;</th><th scope=col>&lt;dbl&gt;</th><th scope=col>&lt;chr&gt;</th></tr>\n",
       "</thead>\n",
       "<tbody>\n",
       "\t<tr><td>chr1:180982-182087</td><td>ATAC                                          </td><td>ATAC                                                                                                                                                                                                 </td><td>ccre_v3</td><td>DNase-only    </td><td>1</td><td>chr1:181251-181601</td><td>0</td><td>EH38E1310153:DNase-only    </td></tr>\n",
       "\t<tr><td>chr1:777949-779437</td><td>ASTARR,ATAC,ENCODE-E2G_Prediction,LMPRA,WSTARR</td><td>ASTARR_A,ATAC,ENCODE-E2G_Prediction:FAM87B,ENCODE-E2G_Prediction:LINC00115,ENCODE-E2G_Prediction:LINC01128,ENCODE-E2G_Prediction:LOC100288069,ENCODE-E2G_Prediction:SAMD11,LMPRA_A,WSTARR_A,WSTARR_AB</td><td>ccre_v3</td><td>PLS           </td><td>1</td><td>chr1:779086-779355</td><td>0</td><td>EH38E1310159:PLS           </td></tr>\n",
       "\t<tr><td>chr1:777949-779437</td><td>ASTARR,ATAC,ENCODE-E2G_Prediction,LMPRA,WSTARR</td><td>ASTARR_A,ATAC,ENCODE-E2G_Prediction:FAM87B,ENCODE-E2G_Prediction:LINC00115,ENCODE-E2G_Prediction:LINC01128,ENCODE-E2G_Prediction:LOC100288069,ENCODE-E2G_Prediction:SAMD11,LMPRA_A,WSTARR_A,WSTARR_AB</td><td>ccre_v3</td><td>PLS,CTCF-bound</td><td>1</td><td>chr1:778562-778912</td><td>0</td><td>EH38E1310158:PLS,CTCF-bound</td></tr>\n",
       "\t<tr><td>chr1:816774-817620</td><td>ATAC,ENCODE-E2G_Prediction                    </td><td>ATAC,ENCODE-E2G_Prediction:FAM87B,ENCODE-E2G_Prediction:LINC00115,ENCODE-E2G_Prediction:LINC01128                                                                                                    </td><td>ccre_v3</td><td>Low-DNase     </td><td>1</td><td>chr1:817080-817403</td><td>0</td><td>EH38E1310166:Low-DNase     </td></tr>\n",
       "\t<tr><td>chr1:817905-818348</td><td>ATAC                                          </td><td>ATAC                                                                                                                                                                                                 </td><td>ccre_v3</td><td>Low-DNase     </td><td>1</td><td>chr1:817903-818252</td><td>0</td><td>EH38E1310167:Low-DNase     </td></tr>\n",
       "\t<tr><td>chr1:818602-819380</td><td>ATAC,WSTARR                                   </td><td>ATAC,WSTARR_A                                                                                                                                                                                        </td><td>ccre_v3</td><td>Low-DNase     </td><td>1</td><td>chr1:818718-818872</td><td>0</td><td>EH38E1310168:Low-DNase     </td></tr>\n",
       "</tbody>\n",
       "</table>\n"
      ],
      "text/latex": [
       "A tibble: 6 × 9\n",
       "\\begin{tabular}{lllllllll}\n",
       " Peak & Assay\\_Type & Assay\\_Label & Annotation & Label & Count & Region & Score & Note\\\\\n",
       " <chr> & <chr> & <chr> & <chr> & <chr> & <int> & <chr> & <dbl> & <chr>\\\\\n",
       "\\hline\n",
       "\t chr1:180982-182087 & ATAC                                           & ATAC                                                                                                                                                                                                  & ccre\\_v3 & DNase-only     & 1 & chr1:181251-181601 & 0 & EH38E1310153:DNase-only    \\\\\n",
       "\t chr1:777949-779437 & ASTARR,ATAC,ENCODE-E2G\\_Prediction,LMPRA,WSTARR & ASTARR\\_A,ATAC,ENCODE-E2G\\_Prediction:FAM87B,ENCODE-E2G\\_Prediction:LINC00115,ENCODE-E2G\\_Prediction:LINC01128,ENCODE-E2G\\_Prediction:LOC100288069,ENCODE-E2G\\_Prediction:SAMD11,LMPRA\\_A,WSTARR\\_A,WSTARR\\_AB & ccre\\_v3 & PLS            & 1 & chr1:779086-779355 & 0 & EH38E1310159:PLS           \\\\\n",
       "\t chr1:777949-779437 & ASTARR,ATAC,ENCODE-E2G\\_Prediction,LMPRA,WSTARR & ASTARR\\_A,ATAC,ENCODE-E2G\\_Prediction:FAM87B,ENCODE-E2G\\_Prediction:LINC00115,ENCODE-E2G\\_Prediction:LINC01128,ENCODE-E2G\\_Prediction:LOC100288069,ENCODE-E2G\\_Prediction:SAMD11,LMPRA\\_A,WSTARR\\_A,WSTARR\\_AB & ccre\\_v3 & PLS,CTCF-bound & 1 & chr1:778562-778912 & 0 & EH38E1310158:PLS,CTCF-bound\\\\\n",
       "\t chr1:816774-817620 & ATAC,ENCODE-E2G\\_Prediction                     & ATAC,ENCODE-E2G\\_Prediction:FAM87B,ENCODE-E2G\\_Prediction:LINC00115,ENCODE-E2G\\_Prediction:LINC01128                                                                                                     & ccre\\_v3 & Low-DNase      & 1 & chr1:817080-817403 & 0 & EH38E1310166:Low-DNase     \\\\\n",
       "\t chr1:817905-818348 & ATAC                                           & ATAC                                                                                                                                                                                                  & ccre\\_v3 & Low-DNase      & 1 & chr1:817903-818252 & 0 & EH38E1310167:Low-DNase     \\\\\n",
       "\t chr1:818602-819380 & ATAC,WSTARR                                    & ATAC,WSTARR\\_A                                                                                                                                                                                         & ccre\\_v3 & Low-DNase      & 1 & chr1:818718-818872 & 0 & EH38E1310168:Low-DNase     \\\\\n",
       "\\end{tabular}\n"
      ],
      "text/markdown": [
       "\n",
       "A tibble: 6 × 9\n",
       "\n",
       "| Peak &lt;chr&gt; | Assay_Type &lt;chr&gt; | Assay_Label &lt;chr&gt; | Annotation &lt;chr&gt; | Label &lt;chr&gt; | Count &lt;int&gt; | Region &lt;chr&gt; | Score &lt;dbl&gt; | Note &lt;chr&gt; |\n",
       "|---|---|---|---|---|---|---|---|---|\n",
       "| chr1:180982-182087 | ATAC                                           | ATAC                                                                                                                                                                                                  | ccre_v3 | DNase-only     | 1 | chr1:181251-181601 | 0 | EH38E1310153:DNase-only     |\n",
       "| chr1:777949-779437 | ASTARR,ATAC,ENCODE-E2G_Prediction,LMPRA,WSTARR | ASTARR_A,ATAC,ENCODE-E2G_Prediction:FAM87B,ENCODE-E2G_Prediction:LINC00115,ENCODE-E2G_Prediction:LINC01128,ENCODE-E2G_Prediction:LOC100288069,ENCODE-E2G_Prediction:SAMD11,LMPRA_A,WSTARR_A,WSTARR_AB | ccre_v3 | PLS            | 1 | chr1:779086-779355 | 0 | EH38E1310159:PLS            |\n",
       "| chr1:777949-779437 | ASTARR,ATAC,ENCODE-E2G_Prediction,LMPRA,WSTARR | ASTARR_A,ATAC,ENCODE-E2G_Prediction:FAM87B,ENCODE-E2G_Prediction:LINC00115,ENCODE-E2G_Prediction:LINC01128,ENCODE-E2G_Prediction:LOC100288069,ENCODE-E2G_Prediction:SAMD11,LMPRA_A,WSTARR_A,WSTARR_AB | ccre_v3 | PLS,CTCF-bound | 1 | chr1:778562-778912 | 0 | EH38E1310158:PLS,CTCF-bound |\n",
       "| chr1:816774-817620 | ATAC,ENCODE-E2G_Prediction                     | ATAC,ENCODE-E2G_Prediction:FAM87B,ENCODE-E2G_Prediction:LINC00115,ENCODE-E2G_Prediction:LINC01128                                                                                                     | ccre_v3 | Low-DNase      | 1 | chr1:817080-817403 | 0 | EH38E1310166:Low-DNase      |\n",
       "| chr1:817905-818348 | ATAC                                           | ATAC                                                                                                                                                                                                  | ccre_v3 | Low-DNase      | 1 | chr1:817903-818252 | 0 | EH38E1310167:Low-DNase      |\n",
       "| chr1:818602-819380 | ATAC,WSTARR                                    | ATAC,WSTARR_A                                                                                                                                                                                         | ccre_v3 | Low-DNase      | 1 | chr1:818718-818872 | 0 | EH38E1310168:Low-DNase      |\n",
       "\n"
      ],
      "text/plain": [
       "  Peak               Assay_Type                                    \n",
       "1 chr1:180982-182087 ATAC                                          \n",
       "2 chr1:777949-779437 ASTARR,ATAC,ENCODE-E2G_Prediction,LMPRA,WSTARR\n",
       "3 chr1:777949-779437 ASTARR,ATAC,ENCODE-E2G_Prediction,LMPRA,WSTARR\n",
       "4 chr1:816774-817620 ATAC,ENCODE-E2G_Prediction                    \n",
       "5 chr1:817905-818348 ATAC                                          \n",
       "6 chr1:818602-819380 ATAC,WSTARR                                   \n",
       "  Assay_Label                                                                                                                                                                                          \n",
       "1 ATAC                                                                                                                                                                                                 \n",
       "2 ASTARR_A,ATAC,ENCODE-E2G_Prediction:FAM87B,ENCODE-E2G_Prediction:LINC00115,ENCODE-E2G_Prediction:LINC01128,ENCODE-E2G_Prediction:LOC100288069,ENCODE-E2G_Prediction:SAMD11,LMPRA_A,WSTARR_A,WSTARR_AB\n",
       "3 ASTARR_A,ATAC,ENCODE-E2G_Prediction:FAM87B,ENCODE-E2G_Prediction:LINC00115,ENCODE-E2G_Prediction:LINC01128,ENCODE-E2G_Prediction:LOC100288069,ENCODE-E2G_Prediction:SAMD11,LMPRA_A,WSTARR_A,WSTARR_AB\n",
       "4 ATAC,ENCODE-E2G_Prediction:FAM87B,ENCODE-E2G_Prediction:LINC00115,ENCODE-E2G_Prediction:LINC01128                                                                                                    \n",
       "5 ATAC                                                                                                                                                                                                 \n",
       "6 ATAC,WSTARR_A                                                                                                                                                                                        \n",
       "  Annotation Label          Count Region             Score\n",
       "1 ccre_v3    DNase-only     1     chr1:181251-181601 0    \n",
       "2 ccre_v3    PLS            1     chr1:779086-779355 0    \n",
       "3 ccre_v3    PLS,CTCF-bound 1     chr1:778562-778912 0    \n",
       "4 ccre_v3    Low-DNase      1     chr1:817080-817403 0    \n",
       "5 ccre_v3    Low-DNase      1     chr1:817903-818252 0    \n",
       "6 ccre_v3    Low-DNase      1     chr1:818718-818872 0    \n",
       "  Note                       \n",
       "1 EH38E1310153:DNase-only    \n",
       "2 EH38E1310159:PLS           \n",
       "3 EH38E1310158:PLS,CTCF-bound\n",
       "4 EH38E1310166:Low-DNase     \n",
       "5 EH38E1310167:Low-DNase     \n",
       "6 EH38E1310168:Low-DNase     "
      ]
     },
     "metadata": {},
     "output_type": "display_data"
    }
   ],
   "source": [
    "### init\n",
    "lst = lst_peak_annot_import\n",
    "\n",
    "lst = lapply(lst, function(dat){\n",
    "    ### summarize\n",
    "    dat = dat %>%\n",
    "        dplyr::group_by(Chrom_Peak, Start_Peak, End_Peak, Name_Peak, Assay_Type, Assay_Label, Annotation, Label) %>%\n",
    "        dplyr::summarise(\n",
    "            Count  = n(), \n",
    "            Region = paste(Region, collapse=\"|\"),\n",
    "            Score  = mean(Value),\n",
    "            Note   = paste(Note, collapse=\"|\"),\n",
    "            .groups = \"drop\")\n",
    "    \n",
    "    ### Arrange\n",
    "    dat = dat %>% \n",
    "        dplyr::arrange(Chrom_Peak,  Start_Peak,  End_Peak) %>%\n",
    "        dplyr::select(-Chrom_Peak, -Start_Peak, -End_Peak) %>%\n",
    "        dplyr::rename(\"Peak\" = Name_Peak)\n",
    "    return(dat)\n",
    "})\n",
    "\n",
    "### assign and show\n",
    "lst_peak_annot_summary = lst\n",
    "print(length(lst))\n",
    "cat(\"=========================\\n\")\n",
    "print(names(lst))\n",
    "cat(\"=========================\\n\")\n",
    "head(lst[[1]])"
   ]
  },
  {
   "cell_type": "markdown",
   "metadata": {},
   "source": [
    "## Explore and check results"
   ]
  },
  {
   "cell_type": "code",
   "execution_count": 12,
   "metadata": {},
   "outputs": [
    {
     "name": "stdout",
     "output_type": "stream",
     "text": [
      "$ccre_v3\n",
      "\n",
      "     1      2      3      4      5      6      7      8      9     10     11 \n",
      "124267  29317   9023   3041   1126    430    170     62     18      7      3 \n",
      "\n",
      "$ccre_v4\n",
      "\n",
      "     1      2      3      4      5      6      7      8      9     10     11 \n",
      "186509  49233  18049   6966   2876   1275    538    221     94     41     20 \n",
      "    12     13     14 \n",
      "     9      3      3 \n",
      "\n"
     ]
    }
   ],
   "source": [
    "lst = lst_peak_annot_summary\n",
    "lst = lapply(lst, function(dat){\n",
    "    res = table(dat$Count)\n",
    "    return(res)\n",
    "})\n",
    "print(lst)"
   ]
  },
  {
   "cell_type": "markdown",
   "metadata": {},
   "source": [
    "## Save results"
   ]
  },
  {
   "cell_type": "code",
   "execution_count": 13,
   "metadata": {},
   "outputs": [
    {
     "name": "stdout",
     "output_type": "stream",
     "text": [
      "[1] \"peak.summary.ccre_v3.tsv\"\n",
      "[1] \"peak.summary.ccre_v4.tsv\"\n"
     ]
    }
   ],
   "source": [
    "fdiry = file.path(\n",
    "    FD_REG, \n",
    "    \"region_active\", \n",
    "    \"summary\")\n",
    "\n",
    "lst = lst_peak_annot_summary\n",
    "for (idn in names(lst)){\n",
    "    fname = paste(\"peak.summary\", idn,\"tsv\", sep=\".\")\n",
    "    fpath = file.path(fdiry, fname)\n",
    "    print(fname)\n",
    "    flush.console()\n",
    "    \n",
    "    dat = lst[[idn]]\n",
    "    write_tsv(dat, fpath)\n",
    "}"
   ]
  },
  {
   "cell_type": "code",
   "execution_count": null,
   "metadata": {},
   "outputs": [],
   "source": []
  },
  {
   "cell_type": "code",
   "execution_count": null,
   "metadata": {},
   "outputs": [],
   "source": []
  },
  {
   "cell_type": "code",
   "execution_count": null,
   "metadata": {},
   "outputs": [],
   "source": []
  },
  {
   "cell_type": "code",
   "execution_count": null,
   "metadata": {},
   "outputs": [],
   "source": []
  },
  {
   "cell_type": "code",
   "execution_count": null,
   "metadata": {},
   "outputs": [],
   "source": []
  },
  {
   "cell_type": "code",
   "execution_count": 24,
   "metadata": {},
   "outputs": [
    {
     "name": "stderr",
     "output_type": "stream",
     "text": [
      "\u001b[1mRows: \u001b[22m\u001b[34m396215\u001b[39m \u001b[1mColumns: \u001b[22m\u001b[34m17\u001b[39m\n",
      "\u001b[36m──\u001b[39m \u001b[1mColumn specification\u001b[22m \u001b[36m──────────────────────────────────────────────────────\u001b[39m\n",
      "\u001b[1mDelimiter:\u001b[22m \"\\t\"\n",
      "\u001b[31mchr\u001b[39m (9): Chrom_Region, Assay_Type_Region, Assay_Label_Region, Chrom_Annot, N...\n",
      "\u001b[32mdbl\u001b[39m (8): Start_Region, End_Region, Start_Annot, End_Annot, Score_Annot, Thic...\n",
      "\n",
      "\u001b[36mℹ\u001b[39m Use `spec()` to retrieve the full column specification for this data.\n",
      "\u001b[36mℹ\u001b[39m Specify the column types or set `show_col_types = FALSE` to quiet this message.\n"
     ]
    },
    {
     "data": {
      "text/html": [
       "<table class=\"dataframe\">\n",
       "<caption>A tibble: 6 × 23</caption>\n",
       "<thead>\n",
       "\t<tr><th scope=col>Chrom_Region</th><th scope=col>Start_Region</th><th scope=col>End_Region</th><th scope=col>Assay_Type_Region</th><th scope=col>Assay_Label_Region</th><th scope=col>Chrom_Annot</th><th scope=col>Start_Annot</th><th scope=col>End_Annot</th><th scope=col>Name_Annot</th><th scope=col>Score_Annot</th><th scope=col>⋯</th><th scope=col>ItemRgb_Annot</th><th scope=col>Category_Annot</th><th scope=col>Note_Annot</th><th scope=col>Overlap</th><th scope=col>Peak</th><th scope=col>Annotation</th><th scope=col>Label</th><th scope=col>Region</th><th scope=col>Value</th><th scope=col>Note</th></tr>\n",
       "\t<tr><th scope=col>&lt;chr&gt;</th><th scope=col>&lt;dbl&gt;</th><th scope=col>&lt;dbl&gt;</th><th scope=col>&lt;chr&gt;</th><th scope=col>&lt;chr&gt;</th><th scope=col>&lt;chr&gt;</th><th scope=col>&lt;dbl&gt;</th><th scope=col>&lt;dbl&gt;</th><th scope=col>&lt;chr&gt;</th><th scope=col>&lt;dbl&gt;</th><th scope=col>⋯</th><th scope=col>&lt;chr&gt;</th><th scope=col>&lt;chr&gt;</th><th scope=col>&lt;chr&gt;</th><th scope=col>&lt;dbl&gt;</th><th scope=col>&lt;chr&gt;</th><th scope=col>&lt;chr&gt;</th><th scope=col>&lt;chr&gt;</th><th scope=col>&lt;chr&gt;</th><th scope=col>&lt;dbl&gt;</th><th scope=col>&lt;chr&gt;</th></tr>\n",
       "</thead>\n",
       "<tbody>\n",
       "\t<tr><td>chr1</td><td> 10015</td><td> 10442</td><td>ATAC                      </td><td>ATAC                             </td><td>chr1</td><td> 10033</td><td> 10250</td><td>EH38E2776516</td><td>0</td><td>⋯</td><td>225,225,225</td><td>Low-DNase</td><td>All-data/Full-classification</td><td>217</td><td>chr1:10015-10442  </td><td>ccre_v4</td><td>Low-DNase</td><td>chr1:10033-10250  </td><td>0</td><td>EH38E2776516:Low-DNase</td></tr>\n",
       "\t<tr><td>chr1</td><td> 16015</td><td> 16477</td><td>ATAC                      </td><td>ATAC                             </td><td>chr1</td><td> 16097</td><td> 16381</td><td>EH38E3951272</td><td>0</td><td>⋯</td><td>225,225,225</td><td>Low-DNase</td><td>All-data/Full-classification</td><td>284</td><td>chr1:16015-16477  </td><td>ccre_v4</td><td>Low-DNase</td><td>chr1:16097-16381  </td><td>0</td><td>EH38E3951272:Low-DNase</td></tr>\n",
       "\t<tr><td>chr1</td><td> 17237</td><td> 17772</td><td>ATAC                      </td><td>ATAC                             </td><td>chr1</td><td> 17343</td><td> 17642</td><td>EH38E3951273</td><td>0</td><td>⋯</td><td>225,225,225</td><td>Low-DNase</td><td>All-data/Full-classification</td><td>299</td><td>chr1:17237-17772  </td><td>ccre_v4</td><td>Low-DNase</td><td>chr1:17343-17642  </td><td>0</td><td>EH38E3951273:Low-DNase</td></tr>\n",
       "\t<tr><td>chr1</td><td> 28903</td><td> 29613</td><td>ATAC                      </td><td>ATAC                             </td><td>chr1</td><td> 29320</td><td> 29517</td><td>EH38E3951274</td><td>0</td><td>⋯</td><td>225,225,225</td><td>Low-DNase</td><td>All-data/Full-classification</td><td>197</td><td>chr1:28903-29613  </td><td>ccre_v4</td><td>Low-DNase</td><td>chr1:29320-29517  </td><td>0</td><td>EH38E3951274:Low-DNase</td></tr>\n",
       "\t<tr><td>chr1</td><td>115411</td><td>115986</td><td>ATAC,ENCODE-E2G_Prediction</td><td>ATAC,ENCODE-E2G_Prediction:SAMD11</td><td>chr1</td><td>115562</td><td>115912</td><td>EH38E3951280</td><td>0</td><td>⋯</td><td>0,176,240  </td><td>CA-CTCF  </td><td>All-data/Full-classification</td><td>350</td><td>chr1:115411-115986</td><td>ccre_v4</td><td>CA-CTCF  </td><td>chr1:115562-115912</td><td>0</td><td>EH38E3951280:CA-CTCF  </td></tr>\n",
       "\t<tr><td>chr1</td><td>118518</td><td>118743</td><td>ATAC                      </td><td>ATAC                             </td><td>chr1</td><td>118508</td><td>118826</td><td>EH38E3951281</td><td>0</td><td>⋯</td><td>225,225,225</td><td>Low-DNase</td><td>All-data/Full-classification</td><td>225</td><td>chr1:118518-118743</td><td>ccre_v4</td><td>Low-DNase</td><td>chr1:118508-118826</td><td>0</td><td>EH38E3951281:Low-DNase</td></tr>\n",
       "</tbody>\n",
       "</table>\n"
      ],
      "text/latex": [
       "A tibble: 6 × 23\n",
       "\\begin{tabular}{lllllllllllllllllllll}\n",
       " Chrom\\_Region & Start\\_Region & End\\_Region & Assay\\_Type\\_Region & Assay\\_Label\\_Region & Chrom\\_Annot & Start\\_Annot & End\\_Annot & Name\\_Annot & Score\\_Annot & ⋯ & ItemRgb\\_Annot & Category\\_Annot & Note\\_Annot & Overlap & Peak & Annotation & Label & Region & Value & Note\\\\\n",
       " <chr> & <dbl> & <dbl> & <chr> & <chr> & <chr> & <dbl> & <dbl> & <chr> & <dbl> & ⋯ & <chr> & <chr> & <chr> & <dbl> & <chr> & <chr> & <chr> & <chr> & <dbl> & <chr>\\\\\n",
       "\\hline\n",
       "\t chr1 &  10015 &  10442 & ATAC                       & ATAC                              & chr1 &  10033 &  10250 & EH38E2776516 & 0 & ⋯ & 225,225,225 & Low-DNase & All-data/Full-classification & 217 & chr1:10015-10442   & ccre\\_v4 & Low-DNase & chr1:10033-10250   & 0 & EH38E2776516:Low-DNase\\\\\n",
       "\t chr1 &  16015 &  16477 & ATAC                       & ATAC                              & chr1 &  16097 &  16381 & EH38E3951272 & 0 & ⋯ & 225,225,225 & Low-DNase & All-data/Full-classification & 284 & chr1:16015-16477   & ccre\\_v4 & Low-DNase & chr1:16097-16381   & 0 & EH38E3951272:Low-DNase\\\\\n",
       "\t chr1 &  17237 &  17772 & ATAC                       & ATAC                              & chr1 &  17343 &  17642 & EH38E3951273 & 0 & ⋯ & 225,225,225 & Low-DNase & All-data/Full-classification & 299 & chr1:17237-17772   & ccre\\_v4 & Low-DNase & chr1:17343-17642   & 0 & EH38E3951273:Low-DNase\\\\\n",
       "\t chr1 &  28903 &  29613 & ATAC                       & ATAC                              & chr1 &  29320 &  29517 & EH38E3951274 & 0 & ⋯ & 225,225,225 & Low-DNase & All-data/Full-classification & 197 & chr1:28903-29613   & ccre\\_v4 & Low-DNase & chr1:29320-29517   & 0 & EH38E3951274:Low-DNase\\\\\n",
       "\t chr1 & 115411 & 115986 & ATAC,ENCODE-E2G\\_Prediction & ATAC,ENCODE-E2G\\_Prediction:SAMD11 & chr1 & 115562 & 115912 & EH38E3951280 & 0 & ⋯ & 0,176,240   & CA-CTCF   & All-data/Full-classification & 350 & chr1:115411-115986 & ccre\\_v4 & CA-CTCF   & chr1:115562-115912 & 0 & EH38E3951280:CA-CTCF  \\\\\n",
       "\t chr1 & 118518 & 118743 & ATAC                       & ATAC                              & chr1 & 118508 & 118826 & EH38E3951281 & 0 & ⋯ & 225,225,225 & Low-DNase & All-data/Full-classification & 225 & chr1:118518-118743 & ccre\\_v4 & Low-DNase & chr1:118508-118826 & 0 & EH38E3951281:Low-DNase\\\\\n",
       "\\end{tabular}\n"
      ],
      "text/markdown": [
       "\n",
       "A tibble: 6 × 23\n",
       "\n",
       "| Chrom_Region &lt;chr&gt; | Start_Region &lt;dbl&gt; | End_Region &lt;dbl&gt; | Assay_Type_Region &lt;chr&gt; | Assay_Label_Region &lt;chr&gt; | Chrom_Annot &lt;chr&gt; | Start_Annot &lt;dbl&gt; | End_Annot &lt;dbl&gt; | Name_Annot &lt;chr&gt; | Score_Annot &lt;dbl&gt; | ⋯ ⋯ | ItemRgb_Annot &lt;chr&gt; | Category_Annot &lt;chr&gt; | Note_Annot &lt;chr&gt; | Overlap &lt;dbl&gt; | Peak &lt;chr&gt; | Annotation &lt;chr&gt; | Label &lt;chr&gt; | Region &lt;chr&gt; | Value &lt;dbl&gt; | Note &lt;chr&gt; |\n",
       "|---|---|---|---|---|---|---|---|---|---|---|---|---|---|---|---|---|---|---|---|---|\n",
       "| chr1 |  10015 |  10442 | ATAC                       | ATAC                              | chr1 |  10033 |  10250 | EH38E2776516 | 0 | ⋯ | 225,225,225 | Low-DNase | All-data/Full-classification | 217 | chr1:10015-10442   | ccre_v4 | Low-DNase | chr1:10033-10250   | 0 | EH38E2776516:Low-DNase |\n",
       "| chr1 |  16015 |  16477 | ATAC                       | ATAC                              | chr1 |  16097 |  16381 | EH38E3951272 | 0 | ⋯ | 225,225,225 | Low-DNase | All-data/Full-classification | 284 | chr1:16015-16477   | ccre_v4 | Low-DNase | chr1:16097-16381   | 0 | EH38E3951272:Low-DNase |\n",
       "| chr1 |  17237 |  17772 | ATAC                       | ATAC                              | chr1 |  17343 |  17642 | EH38E3951273 | 0 | ⋯ | 225,225,225 | Low-DNase | All-data/Full-classification | 299 | chr1:17237-17772   | ccre_v4 | Low-DNase | chr1:17343-17642   | 0 | EH38E3951273:Low-DNase |\n",
       "| chr1 |  28903 |  29613 | ATAC                       | ATAC                              | chr1 |  29320 |  29517 | EH38E3951274 | 0 | ⋯ | 225,225,225 | Low-DNase | All-data/Full-classification | 197 | chr1:28903-29613   | ccre_v4 | Low-DNase | chr1:29320-29517   | 0 | EH38E3951274:Low-DNase |\n",
       "| chr1 | 115411 | 115986 | ATAC,ENCODE-E2G_Prediction | ATAC,ENCODE-E2G_Prediction:SAMD11 | chr1 | 115562 | 115912 | EH38E3951280 | 0 | ⋯ | 0,176,240   | CA-CTCF   | All-data/Full-classification | 350 | chr1:115411-115986 | ccre_v4 | CA-CTCF   | chr1:115562-115912 | 0 | EH38E3951280:CA-CTCF   |\n",
       "| chr1 | 118518 | 118743 | ATAC                       | ATAC                              | chr1 | 118508 | 118826 | EH38E3951281 | 0 | ⋯ | 225,225,225 | Low-DNase | All-data/Full-classification | 225 | chr1:118518-118743 | ccre_v4 | Low-DNase | chr1:118508-118826 | 0 | EH38E3951281:Low-DNase |\n",
       "\n"
      ],
      "text/plain": [
       "  Chrom_Region Start_Region End_Region Assay_Type_Region         \n",
       "1 chr1          10015        10442     ATAC                      \n",
       "2 chr1          16015        16477     ATAC                      \n",
       "3 chr1          17237        17772     ATAC                      \n",
       "4 chr1          28903        29613     ATAC                      \n",
       "5 chr1         115411       115986     ATAC,ENCODE-E2G_Prediction\n",
       "6 chr1         118518       118743     ATAC                      \n",
       "  Assay_Label_Region                Chrom_Annot Start_Annot End_Annot\n",
       "1 ATAC                              chr1         10033       10250   \n",
       "2 ATAC                              chr1         16097       16381   \n",
       "3 ATAC                              chr1         17343       17642   \n",
       "4 ATAC                              chr1         29320       29517   \n",
       "5 ATAC,ENCODE-E2G_Prediction:SAMD11 chr1        115562      115912   \n",
       "6 ATAC                              chr1        118508      118826   \n",
       "  Name_Annot   Score_Annot ⋯ ItemRgb_Annot Category_Annot\n",
       "1 EH38E2776516 0           ⋯ 225,225,225   Low-DNase     \n",
       "2 EH38E3951272 0           ⋯ 225,225,225   Low-DNase     \n",
       "3 EH38E3951273 0           ⋯ 225,225,225   Low-DNase     \n",
       "4 EH38E3951274 0           ⋯ 225,225,225   Low-DNase     \n",
       "5 EH38E3951280 0           ⋯ 0,176,240     CA-CTCF       \n",
       "6 EH38E3951281 0           ⋯ 225,225,225   Low-DNase     \n",
       "  Note_Annot                   Overlap Peak               Annotation Label    \n",
       "1 All-data/Full-classification 217     chr1:10015-10442   ccre_v4    Low-DNase\n",
       "2 All-data/Full-classification 284     chr1:16015-16477   ccre_v4    Low-DNase\n",
       "3 All-data/Full-classification 299     chr1:17237-17772   ccre_v4    Low-DNase\n",
       "4 All-data/Full-classification 197     chr1:28903-29613   ccre_v4    Low-DNase\n",
       "5 All-data/Full-classification 350     chr1:115411-115986 ccre_v4    CA-CTCF  \n",
       "6 All-data/Full-classification 225     chr1:118518-118743 ccre_v4    Low-DNase\n",
       "  Region             Value Note                  \n",
       "1 chr1:10033-10250   0     EH38E2776516:Low-DNase\n",
       "2 chr1:16097-16381   0     EH38E3951272:Low-DNase\n",
       "3 chr1:17343-17642   0     EH38E3951273:Low-DNase\n",
       "4 chr1:29320-29517   0     EH38E3951274:Low-DNase\n",
       "5 chr1:115562-115912 0     EH38E3951280:CA-CTCF  \n",
       "6 chr1:118508-118826 0     EH38E3951281:Low-DNase"
      ]
     },
     "metadata": {},
     "output_type": "display_data"
    }
   ],
   "source": [
    "### set file paths\n",
    "fdiry = file.path(FD_REG, FOLDER)\n",
    "fname = \"region_active.annotation.ccre_v4.bed.gz\"\n",
    "fpath = file.path(fdiry, fname)\n",
    "\n",
    "### read table\n",
    "vec_txt_cnames = c(\n",
    "    paste(vec_txt_cnames_reg, \"Region\", sep=\"_\"),\n",
    "    paste(vec_txt_cnames_ant, \"Annot\",  sep=\"_\"),\n",
    "    \"Overlap\"\n",
    ")\n",
    "dat = read_tsv(fpath, col_names = vec_txt_cnames)\n",
    "\n",
    "### arrange table\n",
    "txt_annotation = \"ccre_v4\"\n",
    "dat = dat %>% dplyr::mutate(\n",
    "    Peak       = paste0(Chrom_Region, \":\", Start_Region, \"-\", End_Region),\n",
    "    Annotation = txt_annotation,\n",
    "    Label      = Category_Annot,\n",
    "    Region     = paste0(Chrom_Annot, \":\", Start_Annot, \"-\", End_Annot),\n",
    "    Value      = Score_Annot,\n",
    "    Note       = paste0(Name_Annot, \":\", Category_Annot)\n",
    ")\n",
    "head(dat)"
   ]
  },
  {
   "cell_type": "code",
   "execution_count": null,
   "metadata": {},
   "outputs": [],
   "source": []
  },
  {
   "cell_type": "code",
   "execution_count": null,
   "metadata": {},
   "outputs": [],
   "source": []
  },
  {
   "cell_type": "code",
   "execution_count": 6,
   "metadata": {},
   "outputs": [
    {
     "name": "stdout",
     "output_type": "stream",
     "text": [
      "                         ccre_v3                          ccre_v4 \n",
      "\"peak.annotation.ccre_v3.bed.gz\" \"peak.annotation.ccre_v4.bed.gz\" \n"
     ]
    }
   ],
   "source": [
    "### init: set column names\n",
    "cnames = dat_cnames$Name\n",
    "cnames = c(\"Chrom_Peak\", \"Start_Peak\", \"End_Peak\", cnames, \"Overlap\")\n",
    "\n",
    "### init: set file path\n",
    "fdiry = file.path(\n",
    "    FD_RES, \n",
    "    \"results\", \n",
    "    \"region\", \n",
    "    \"KS91_K562_ASTARRseq_peak_macs_input\", \n",
    "    FOLDER)\n",
    "fname  = paste(\"peak.annotation\", \"bed.gz\", sep=\"*\")\n",
    "fglob  = file.path(fdiry, fname)\n",
    "fpaths = Sys.glob(fglob)\n",
    "fnames = basename(fpaths)\n",
    "\n",
    "### init: annotation and label\n",
    "annotations = fnames %>% \n",
    "    str_split(., \"\\\\.\") %>%\n",
    "    do.call(rbind, .) %>%\n",
    "    as.data.frame %>%\n",
    "    dplyr::pull(3)\n",
    "names(fnames) = annotations\n",
    "names(annotations) = annotations\n",
    "print(fnames)"
   ]
  },
  {
   "cell_type": "code",
   "execution_count": 8,
   "metadata": {},
   "outputs": [
    {
     "name": "stdout",
     "output_type": "stream",
     "text": [
      "[1] 2\n",
      "=========================\n",
      "[1] \"ccre_v3\" \"ccre_v4\"\n",
      "=========================\n"
     ]
    },
    {
     "data": {
      "text/html": [
       "<table class=\"dataframe\">\n",
       "<caption>A tibble: 6 × 20</caption>\n",
       "<thead>\n",
       "\t<tr><th scope=col>Chrom_Peak</th><th scope=col>Start_Peak</th><th scope=col>End_Peak</th><th scope=col>Chrom</th><th scope=col>Start</th><th scope=col>End</th><th scope=col>Name</th><th scope=col>Score</th><th scope=col>Strand</th><th scope=col>ThickStart</th><th scope=col>ThickEnd</th><th scope=col>ItemRgb</th><th scope=col>Category</th><th scope=col>Note</th><th scope=col>Overlap</th><th scope=col>Peak</th><th scope=col>Annotation</th><th scope=col>Label</th><th scope=col>Region</th><th scope=col>Value</th></tr>\n",
       "\t<tr><th scope=col>&lt;chr&gt;</th><th scope=col>&lt;dbl&gt;</th><th scope=col>&lt;dbl&gt;</th><th scope=col>&lt;chr&gt;</th><th scope=col>&lt;dbl&gt;</th><th scope=col>&lt;dbl&gt;</th><th scope=col>&lt;chr&gt;</th><th scope=col>&lt;dbl&gt;</th><th scope=col>&lt;chr&gt;</th><th scope=col>&lt;dbl&gt;</th><th scope=col>&lt;dbl&gt;</th><th scope=col>&lt;chr&gt;</th><th scope=col>&lt;chr&gt;</th><th scope=col>&lt;chr&gt;</th><th scope=col>&lt;dbl&gt;</th><th scope=col>&lt;chr&gt;</th><th scope=col>&lt;chr&gt;</th><th scope=col>&lt;chr&gt;</th><th scope=col>&lt;chr&gt;</th><th scope=col>&lt;dbl&gt;</th></tr>\n",
       "</thead>\n",
       "<tbody>\n",
       "\t<tr><td>chr1</td><td>180982</td><td>182087</td><td>chr1</td><td>181251</td><td>181601</td><td>EH38E1310153</td><td>0</td><td>.</td><td>181251</td><td>181601</td><td>6,218,147  </td><td>DNase-only    </td><td>EH38E1310153:DNase-only    </td><td>350</td><td>chr1:180982-182087</td><td>ccre_v3</td><td>DNase-only    </td><td>chr1:181251-181601</td><td>0</td></tr>\n",
       "\t<tr><td>chr1</td><td>777949</td><td>779437</td><td>chr1</td><td>778562</td><td>778912</td><td>EH38E1310158</td><td>0</td><td>.</td><td>778562</td><td>778912</td><td>255,0,0    </td><td>PLS,CTCF-bound</td><td>EH38E1310158:PLS,CTCF-bound</td><td>350</td><td>chr1:777949-779437</td><td>ccre_v3</td><td>PLS,CTCF-bound</td><td>chr1:778562-778912</td><td>0</td></tr>\n",
       "\t<tr><td>chr1</td><td>777949</td><td>779437</td><td>chr1</td><td>779086</td><td>779355</td><td>EH38E1310159</td><td>0</td><td>.</td><td>779086</td><td>779355</td><td>255,0,0    </td><td>PLS           </td><td>EH38E1310159:PLS           </td><td>269</td><td>chr1:777949-779437</td><td>ccre_v3</td><td>PLS           </td><td>chr1:779086-779355</td><td>0</td></tr>\n",
       "\t<tr><td>chr1</td><td>816774</td><td>817547</td><td>chr1</td><td>817080</td><td>817403</td><td>EH38E1310166</td><td>0</td><td>.</td><td>817080</td><td>817403</td><td>225,225,225</td><td>Low-DNase     </td><td>EH38E1310166:Low-DNase     </td><td>323</td><td>chr1:816774-817547</td><td>ccre_v3</td><td>Low-DNase     </td><td>chr1:817080-817403</td><td>0</td></tr>\n",
       "\t<tr><td>chr1</td><td>817905</td><td>818348</td><td>chr1</td><td>817903</td><td>818252</td><td>EH38E1310167</td><td>0</td><td>.</td><td>817903</td><td>818252</td><td>225,225,225</td><td>Low-DNase     </td><td>EH38E1310167:Low-DNase     </td><td>347</td><td>chr1:817905-818348</td><td>ccre_v3</td><td>Low-DNase     </td><td>chr1:817903-818252</td><td>0</td></tr>\n",
       "\t<tr><td>chr1</td><td>818602</td><td>819380</td><td>chr1</td><td>818718</td><td>818872</td><td>EH38E1310168</td><td>0</td><td>.</td><td>818718</td><td>818872</td><td>225,225,225</td><td>Low-DNase     </td><td>EH38E1310168:Low-DNase     </td><td>154</td><td>chr1:818602-819380</td><td>ccre_v3</td><td>Low-DNase     </td><td>chr1:818718-818872</td><td>0</td></tr>\n",
       "</tbody>\n",
       "</table>\n"
      ],
      "text/latex": [
       "A tibble: 6 × 20\n",
       "\\begin{tabular}{llllllllllllllllllll}\n",
       " Chrom\\_Peak & Start\\_Peak & End\\_Peak & Chrom & Start & End & Name & Score & Strand & ThickStart & ThickEnd & ItemRgb & Category & Note & Overlap & Peak & Annotation & Label & Region & Value\\\\\n",
       " <chr> & <dbl> & <dbl> & <chr> & <dbl> & <dbl> & <chr> & <dbl> & <chr> & <dbl> & <dbl> & <chr> & <chr> & <chr> & <dbl> & <chr> & <chr> & <chr> & <chr> & <dbl>\\\\\n",
       "\\hline\n",
       "\t chr1 & 180982 & 182087 & chr1 & 181251 & 181601 & EH38E1310153 & 0 & . & 181251 & 181601 & 6,218,147   & DNase-only     & EH38E1310153:DNase-only     & 350 & chr1:180982-182087 & ccre\\_v3 & DNase-only     & chr1:181251-181601 & 0\\\\\n",
       "\t chr1 & 777949 & 779437 & chr1 & 778562 & 778912 & EH38E1310158 & 0 & . & 778562 & 778912 & 255,0,0     & PLS,CTCF-bound & EH38E1310158:PLS,CTCF-bound & 350 & chr1:777949-779437 & ccre\\_v3 & PLS,CTCF-bound & chr1:778562-778912 & 0\\\\\n",
       "\t chr1 & 777949 & 779437 & chr1 & 779086 & 779355 & EH38E1310159 & 0 & . & 779086 & 779355 & 255,0,0     & PLS            & EH38E1310159:PLS            & 269 & chr1:777949-779437 & ccre\\_v3 & PLS            & chr1:779086-779355 & 0\\\\\n",
       "\t chr1 & 816774 & 817547 & chr1 & 817080 & 817403 & EH38E1310166 & 0 & . & 817080 & 817403 & 225,225,225 & Low-DNase      & EH38E1310166:Low-DNase      & 323 & chr1:816774-817547 & ccre\\_v3 & Low-DNase      & chr1:817080-817403 & 0\\\\\n",
       "\t chr1 & 817905 & 818348 & chr1 & 817903 & 818252 & EH38E1310167 & 0 & . & 817903 & 818252 & 225,225,225 & Low-DNase      & EH38E1310167:Low-DNase      & 347 & chr1:817905-818348 & ccre\\_v3 & Low-DNase      & chr1:817903-818252 & 0\\\\\n",
       "\t chr1 & 818602 & 819380 & chr1 & 818718 & 818872 & EH38E1310168 & 0 & . & 818718 & 818872 & 225,225,225 & Low-DNase      & EH38E1310168:Low-DNase      & 154 & chr1:818602-819380 & ccre\\_v3 & Low-DNase      & chr1:818718-818872 & 0\\\\\n",
       "\\end{tabular}\n"
      ],
      "text/markdown": [
       "\n",
       "A tibble: 6 × 20\n",
       "\n",
       "| Chrom_Peak &lt;chr&gt; | Start_Peak &lt;dbl&gt; | End_Peak &lt;dbl&gt; | Chrom &lt;chr&gt; | Start &lt;dbl&gt; | End &lt;dbl&gt; | Name &lt;chr&gt; | Score &lt;dbl&gt; | Strand &lt;chr&gt; | ThickStart &lt;dbl&gt; | ThickEnd &lt;dbl&gt; | ItemRgb &lt;chr&gt; | Category &lt;chr&gt; | Note &lt;chr&gt; | Overlap &lt;dbl&gt; | Peak &lt;chr&gt; | Annotation &lt;chr&gt; | Label &lt;chr&gt; | Region &lt;chr&gt; | Value &lt;dbl&gt; |\n",
       "|---|---|---|---|---|---|---|---|---|---|---|---|---|---|---|---|---|---|---|---|\n",
       "| chr1 | 180982 | 182087 | chr1 | 181251 | 181601 | EH38E1310153 | 0 | . | 181251 | 181601 | 6,218,147   | DNase-only     | EH38E1310153:DNase-only     | 350 | chr1:180982-182087 | ccre_v3 | DNase-only     | chr1:181251-181601 | 0 |\n",
       "| chr1 | 777949 | 779437 | chr1 | 778562 | 778912 | EH38E1310158 | 0 | . | 778562 | 778912 | 255,0,0     | PLS,CTCF-bound | EH38E1310158:PLS,CTCF-bound | 350 | chr1:777949-779437 | ccre_v3 | PLS,CTCF-bound | chr1:778562-778912 | 0 |\n",
       "| chr1 | 777949 | 779437 | chr1 | 779086 | 779355 | EH38E1310159 | 0 | . | 779086 | 779355 | 255,0,0     | PLS            | EH38E1310159:PLS            | 269 | chr1:777949-779437 | ccre_v3 | PLS            | chr1:779086-779355 | 0 |\n",
       "| chr1 | 816774 | 817547 | chr1 | 817080 | 817403 | EH38E1310166 | 0 | . | 817080 | 817403 | 225,225,225 | Low-DNase      | EH38E1310166:Low-DNase      | 323 | chr1:816774-817547 | ccre_v3 | Low-DNase      | chr1:817080-817403 | 0 |\n",
       "| chr1 | 817905 | 818348 | chr1 | 817903 | 818252 | EH38E1310167 | 0 | . | 817903 | 818252 | 225,225,225 | Low-DNase      | EH38E1310167:Low-DNase      | 347 | chr1:817905-818348 | ccre_v3 | Low-DNase      | chr1:817903-818252 | 0 |\n",
       "| chr1 | 818602 | 819380 | chr1 | 818718 | 818872 | EH38E1310168 | 0 | . | 818718 | 818872 | 225,225,225 | Low-DNase      | EH38E1310168:Low-DNase      | 154 | chr1:818602-819380 | ccre_v3 | Low-DNase      | chr1:818718-818872 | 0 |\n",
       "\n"
      ],
      "text/plain": [
       "  Chrom_Peak Start_Peak End_Peak Chrom Start  End    Name         Score Strand\n",
       "1 chr1       180982     182087   chr1  181251 181601 EH38E1310153 0     .     \n",
       "2 chr1       777949     779437   chr1  778562 778912 EH38E1310158 0     .     \n",
       "3 chr1       777949     779437   chr1  779086 779355 EH38E1310159 0     .     \n",
       "4 chr1       816774     817547   chr1  817080 817403 EH38E1310166 0     .     \n",
       "5 chr1       817905     818348   chr1  817903 818252 EH38E1310167 0     .     \n",
       "6 chr1       818602     819380   chr1  818718 818872 EH38E1310168 0     .     \n",
       "  ThickStart ThickEnd ItemRgb     Category       Note                       \n",
       "1 181251     181601   6,218,147   DNase-only     EH38E1310153:DNase-only    \n",
       "2 778562     778912   255,0,0     PLS,CTCF-bound EH38E1310158:PLS,CTCF-bound\n",
       "3 779086     779355   255,0,0     PLS            EH38E1310159:PLS           \n",
       "4 817080     817403   225,225,225 Low-DNase      EH38E1310166:Low-DNase     \n",
       "5 817903     818252   225,225,225 Low-DNase      EH38E1310167:Low-DNase     \n",
       "6 818718     818872   225,225,225 Low-DNase      EH38E1310168:Low-DNase     \n",
       "  Overlap Peak               Annotation Label          Region             Value\n",
       "1 350     chr1:180982-182087 ccre_v3    DNase-only     chr1:181251-181601 0    \n",
       "2 350     chr1:777949-779437 ccre_v3    PLS,CTCF-bound chr1:778562-778912 0    \n",
       "3 269     chr1:777949-779437 ccre_v3    PLS            chr1:779086-779355 0    \n",
       "4 323     chr1:816774-817547 ccre_v3    Low-DNase      chr1:817080-817403 0    \n",
       "5 347     chr1:817905-818348 ccre_v3    Low-DNase      chr1:817903-818252 0    \n",
       "6 154     chr1:818602-819380 ccre_v3    Low-DNase      chr1:818718-818872 0    "
      ]
     },
     "metadata": {},
     "output_type": "display_data"
    }
   ],
   "source": [
    "### Import data\n",
    "lst = lapply(annotations, function(annotation){\n",
    "    ### set file path\n",
    "    fname = fnames[annotation]\n",
    "    fpath = file.path(fdiry, fname)\n",
    "    \n",
    "    ### read data\n",
    "    dat = read_tsv(fpath, col_names = cnames, show_col_types = FALSE)\n",
    "    dat = dat %>% dplyr::mutate(\n",
    "        Peak       = paste0(Chrom_Peak, \":\", Start_Peak, \"-\", End_Peak),\n",
    "        Annotation = annotation,\n",
    "        Label      = Category,\n",
    "        Region     = paste0(Chrom, \":\", Start, \"-\", End),\n",
    "        Value      = Score,\n",
    "        Note       = paste0(Name, \":\", Category)\n",
    "    )\n",
    "    return(dat)\n",
    "})\n",
    "\n",
    "### assign and show\n",
    "lst_peak_annot_import = lst\n",
    "print(length(lst))\n",
    "cat(\"=========================\\n\")\n",
    "print(names(lst))\n",
    "cat(\"=========================\\n\")\n",
    "head(lst[[1]])"
   ]
  },
  {
   "cell_type": "code",
   "execution_count": 9,
   "metadata": {},
   "outputs": [
    {
     "data": {
      "text/plain": [
       "   Min. 1st Qu.  Median    Mean 3rd Qu.    Max. \n",
       "      0       0       0       0       0       0 "
      ]
     },
     "metadata": {},
     "output_type": "display_data"
    }
   ],
   "source": [
    "summary(lst[[1]]$Score)"
   ]
  },
  {
   "cell_type": "markdown",
   "metadata": {},
   "source": [
    "## Arrange and summarize"
   ]
  },
  {
   "cell_type": "code",
   "execution_count": 10,
   "metadata": {},
   "outputs": [
    {
     "name": "stdout",
     "output_type": "stream",
     "text": [
      "[1] 2\n",
      "=========================\n",
      "[1] \"ccre_v3\" \"ccre_v4\"\n",
      "=========================\n"
     ]
    },
    {
     "data": {
      "text/html": [
       "<table class=\"dataframe\">\n",
       "<caption>A tibble: 6 × 7</caption>\n",
       "<thead>\n",
       "\t<tr><th scope=col>Peak</th><th scope=col>Annotation</th><th scope=col>Label</th><th scope=col>Count</th><th scope=col>Region</th><th scope=col>Score</th><th scope=col>Note</th></tr>\n",
       "\t<tr><th scope=col>&lt;chr&gt;</th><th scope=col>&lt;chr&gt;</th><th scope=col>&lt;chr&gt;</th><th scope=col>&lt;int&gt;</th><th scope=col>&lt;chr&gt;</th><th scope=col>&lt;dbl&gt;</th><th scope=col>&lt;chr&gt;</th></tr>\n",
       "</thead>\n",
       "<tbody>\n",
       "\t<tr><td>chr1:180982-182087</td><td>ccre_v3</td><td>DNase-only    </td><td>1</td><td>chr1:181251-181601</td><td>0</td><td>EH38E1310153:DNase-only    </td></tr>\n",
       "\t<tr><td>chr1:777949-779437</td><td>ccre_v3</td><td>PLS           </td><td>1</td><td>chr1:779086-779355</td><td>0</td><td>EH38E1310159:PLS           </td></tr>\n",
       "\t<tr><td>chr1:777949-779437</td><td>ccre_v3</td><td>PLS,CTCF-bound</td><td>1</td><td>chr1:778562-778912</td><td>0</td><td>EH38E1310158:PLS,CTCF-bound</td></tr>\n",
       "\t<tr><td>chr1:816774-817547</td><td>ccre_v3</td><td>Low-DNase     </td><td>1</td><td>chr1:817080-817403</td><td>0</td><td>EH38E1310166:Low-DNase     </td></tr>\n",
       "\t<tr><td>chr1:817905-818348</td><td>ccre_v3</td><td>Low-DNase     </td><td>1</td><td>chr1:817903-818252</td><td>0</td><td>EH38E1310167:Low-DNase     </td></tr>\n",
       "\t<tr><td>chr1:818602-819380</td><td>ccre_v3</td><td>Low-DNase     </td><td>1</td><td>chr1:818718-818872</td><td>0</td><td>EH38E1310168:Low-DNase     </td></tr>\n",
       "</tbody>\n",
       "</table>\n"
      ],
      "text/latex": [
       "A tibble: 6 × 7\n",
       "\\begin{tabular}{lllllll}\n",
       " Peak & Annotation & Label & Count & Region & Score & Note\\\\\n",
       " <chr> & <chr> & <chr> & <int> & <chr> & <dbl> & <chr>\\\\\n",
       "\\hline\n",
       "\t chr1:180982-182087 & ccre\\_v3 & DNase-only     & 1 & chr1:181251-181601 & 0 & EH38E1310153:DNase-only    \\\\\n",
       "\t chr1:777949-779437 & ccre\\_v3 & PLS            & 1 & chr1:779086-779355 & 0 & EH38E1310159:PLS           \\\\\n",
       "\t chr1:777949-779437 & ccre\\_v3 & PLS,CTCF-bound & 1 & chr1:778562-778912 & 0 & EH38E1310158:PLS,CTCF-bound\\\\\n",
       "\t chr1:816774-817547 & ccre\\_v3 & Low-DNase      & 1 & chr1:817080-817403 & 0 & EH38E1310166:Low-DNase     \\\\\n",
       "\t chr1:817905-818348 & ccre\\_v3 & Low-DNase      & 1 & chr1:817903-818252 & 0 & EH38E1310167:Low-DNase     \\\\\n",
       "\t chr1:818602-819380 & ccre\\_v3 & Low-DNase      & 1 & chr1:818718-818872 & 0 & EH38E1310168:Low-DNase     \\\\\n",
       "\\end{tabular}\n"
      ],
      "text/markdown": [
       "\n",
       "A tibble: 6 × 7\n",
       "\n",
       "| Peak &lt;chr&gt; | Annotation &lt;chr&gt; | Label &lt;chr&gt; | Count &lt;int&gt; | Region &lt;chr&gt; | Score &lt;dbl&gt; | Note &lt;chr&gt; |\n",
       "|---|---|---|---|---|---|---|\n",
       "| chr1:180982-182087 | ccre_v3 | DNase-only     | 1 | chr1:181251-181601 | 0 | EH38E1310153:DNase-only     |\n",
       "| chr1:777949-779437 | ccre_v3 | PLS            | 1 | chr1:779086-779355 | 0 | EH38E1310159:PLS            |\n",
       "| chr1:777949-779437 | ccre_v3 | PLS,CTCF-bound | 1 | chr1:778562-778912 | 0 | EH38E1310158:PLS,CTCF-bound |\n",
       "| chr1:816774-817547 | ccre_v3 | Low-DNase      | 1 | chr1:817080-817403 | 0 | EH38E1310166:Low-DNase      |\n",
       "| chr1:817905-818348 | ccre_v3 | Low-DNase      | 1 | chr1:817903-818252 | 0 | EH38E1310167:Low-DNase      |\n",
       "| chr1:818602-819380 | ccre_v3 | Low-DNase      | 1 | chr1:818718-818872 | 0 | EH38E1310168:Low-DNase      |\n",
       "\n"
      ],
      "text/plain": [
       "  Peak               Annotation Label          Count Region             Score\n",
       "1 chr1:180982-182087 ccre_v3    DNase-only     1     chr1:181251-181601 0    \n",
       "2 chr1:777949-779437 ccre_v3    PLS            1     chr1:779086-779355 0    \n",
       "3 chr1:777949-779437 ccre_v3    PLS,CTCF-bound 1     chr1:778562-778912 0    \n",
       "4 chr1:816774-817547 ccre_v3    Low-DNase      1     chr1:817080-817403 0    \n",
       "5 chr1:817905-818348 ccre_v3    Low-DNase      1     chr1:817903-818252 0    \n",
       "6 chr1:818602-819380 ccre_v3    Low-DNase      1     chr1:818718-818872 0    \n",
       "  Note                       \n",
       "1 EH38E1310153:DNase-only    \n",
       "2 EH38E1310159:PLS           \n",
       "3 EH38E1310158:PLS,CTCF-bound\n",
       "4 EH38E1310166:Low-DNase     \n",
       "5 EH38E1310167:Low-DNase     \n",
       "6 EH38E1310168:Low-DNase     "
      ]
     },
     "metadata": {},
     "output_type": "display_data"
    }
   ],
   "source": [
    "### init\n",
    "lst = lst_peak_annot_import\n",
    "\n",
    "lst = lapply(lst, function(dat){\n",
    "    ### summarize\n",
    "    dat = dat %>%\n",
    "        dplyr::group_by(Chrom_Peak, Start_Peak, End_Peak, Peak, Annotation, Label) %>%\n",
    "        dplyr::summarise(\n",
    "            Count  = n(), \n",
    "            Region = paste(Region, collapse=\"|\"),\n",
    "            Score  = mean(Value),\n",
    "            Note   = paste(Note, collapse=\"|\"),\n",
    "            .groups = \"drop\")\n",
    "    \n",
    "    ### Arrange\n",
    "    dat = dat %>% \n",
    "        dplyr::arrange(Chrom_Peak,  Start_Peak,  End_Peak) %>%\n",
    "        dplyr::select(-Chrom_Peak, -Start_Peak, -End_Peak)\n",
    "    return(dat)\n",
    "})\n",
    "\n",
    "### assign and show\n",
    "lst_peak_annot_summary = lst\n",
    "print(length(lst))\n",
    "cat(\"=========================\\n\")\n",
    "print(names(lst))\n",
    "cat(\"=========================\\n\")\n",
    "head(lst[[1]])"
   ]
  },
  {
   "cell_type": "markdown",
   "metadata": {},
   "source": [
    "## Explore and check results"
   ]
  },
  {
   "cell_type": "code",
   "execution_count": 11,
   "metadata": {},
   "outputs": [
    {
     "name": "stdout",
     "output_type": "stream",
     "text": [
      "$ccre_v3\n",
      "\n",
      "     1      2      3      4      5      6      7      8      9     10     11 \n",
      "106905  27655   8345   2711    915    356    120     51     14      6      2 \n",
      "\n",
      "$ccre_v4\n",
      "\n",
      "     1      2      3      4      5      6      7      8      9     10     11 \n",
      "156242  47366  17294   6408   2429   1051    450    176     79     32     15 \n",
      "    12     13     14 \n",
      "     7      4      1 \n",
      "\n"
     ]
    }
   ],
   "source": [
    "lst = lst_peak_annot_summary\n",
    "lst = lapply(lst, function(dat){\n",
    "    res = table(dat$Count)\n",
    "    return(res)\n",
    "})\n",
    "print(lst)"
   ]
  },
  {
   "cell_type": "markdown",
   "metadata": {},
   "source": [
    "## Save results"
   ]
  },
  {
   "cell_type": "code",
   "execution_count": 12,
   "metadata": {},
   "outputs": [
    {
     "name": "stdout",
     "output_type": "stream",
     "text": [
      "[1] \"peak.summary.ccre_v3.tsv\"\n",
      "[1] \"peak.summary.ccre_v4.tsv\"\n"
     ]
    }
   ],
   "source": [
    "fdiry = file.path(\n",
    "    FD_RES, \n",
    "    \"results\", \n",
    "    \"region\", \n",
    "    \"annotation_enhancer_merge\", \n",
    "    \"summary_starrmpra_crispri_atac\")\n",
    "\n",
    "lst = lst_peak_annot_summary\n",
    "for (idn in names(lst)){\n",
    "    fname = paste(\"peak.summary\", idn,\"tsv\", sep=\".\")\n",
    "    fpath = file.path(fdiry, fname)\n",
    "    print(fname)\n",
    "    flush.console()\n",
    "    \n",
    "    dat = lst[[idn]]\n",
    "    write_tsv(dat, fpath)\n",
    "}"
   ]
  },
  {
   "cell_type": "code",
   "execution_count": null,
   "metadata": {},
   "outputs": [],
   "source": []
  }
 ],
 "metadata": {
  "kernelspec": {
   "display_name": "R",
   "language": "R",
   "name": "ir"
  },
  "language_info": {
   "codemirror_mode": "r",
   "file_extension": ".r",
   "mimetype": "text/x-r-source",
   "name": "R",
   "pygments_lexer": "r",
   "version": "4.3.1"
  }
 },
 "nbformat": 4,
 "nbformat_minor": 4
}
