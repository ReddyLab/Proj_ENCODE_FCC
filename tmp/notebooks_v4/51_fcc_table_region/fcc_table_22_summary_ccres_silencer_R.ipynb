{
 "cells": [
  {
   "cell_type": "markdown",
   "metadata": {},
   "source": [
    "**Set environment**"
   ]
  },
  {
   "cell_type": "code",
   "execution_count": 1,
   "metadata": {},
   "outputs": [
    {
     "name": "stdout",
     "output_type": "stream",
     "text": [
      "You are in Singularity: singularity_proj_encode_fcc \n",
      "BASE DIRECTORY (FD_BASE): /data/reddylab/Kuei \n",
      "WORK DIRECTORY (FD_WORK): /data/reddylab/Kuei/out \n",
      "CODE DIRECTORY (FD_CODE): /data/reddylab/Kuei/code \n",
      "PATH OF PROJECT (FD_PRJ): /data/reddylab/Kuei/code/Proj_CombEffect_ENCODE_FCC \n",
      "PATH OF RESULTS (FD_RES): /data/reddylab/Kuei/out/proj_combeffect_encode_fcc \n",
      "PATH OF LOG     (FD_LOG): /data/reddylab/Kuei/out/proj_combeffect_encode_fcc/log \n"
     ]
    }
   ],
   "source": [
    "suppressMessages(suppressWarnings(source(\"../config/config_sing.R\")))\n",
    "show_env()"
   ]
  },
  {
   "cell_type": "markdown",
   "metadata": {},
   "source": [
    "**Check data files**"
   ]
  },
  {
   "cell_type": "code",
   "execution_count": 2,
   "metadata": {},
   "outputs": [],
   "source": [
    "FOLDER_A = \"annotation_fcc_table\"\n",
    "FD_REG_A = file.path(\n",
    "    FD_RES, \n",
    "    \"results\", \n",
    "    \"region\", \n",
    "    FOLDER_A)\n",
    "\n",
    "FOLDER_B = \"annotation_ccres_silencer\"\n",
    "FD_REG_B = file.path(\n",
    "    FD_RES, \n",
    "    \"results\", \n",
    "    \"region\", \n",
    "    FOLDER_B)\n",
    "\n",
    "FD_REG_C = file.path(\n",
    "    FD_REG_A,\n",
    "    FOLDER_B\n",
    ")\n",
    "\n",
    "FD_OUT = file.path(\n",
    "    FD_REG_A,\n",
    "    \"summary\"\n",
    ")"
   ]
  },
  {
   "cell_type": "code",
   "execution_count": 3,
   "metadata": {},
   "outputs": [
    {
     "name": "stdout",
     "output_type": "stream",
     "text": [
      "[1] \"annotation_ccres\"\n",
      "[1] \"annotation_ccres_silencer\"\n",
      "[1] \"annotation_chromHMM\"\n",
      "[1] \"annotation_tss_pol2\"\n",
      "[1] \"description.tsv\"\n",
      "[1] \"fcc_table.starrmpra.crispri.atac.concat.bed.gz\"\n",
      "[1] \"fcc_table.starrmpra.crispri.atac.e2g_benchmark.concat.bed.gz\"\n",
      "[1] \"fcc_table.starrmpra.crispri.atac.e2g_benchmark.e2g_prediction.concat.bed.gz\"\n",
      "[1] \"fcc_table.starrmpra.crispri.atac.e2g_benchmark.e2g_prediction.merge.bed.gz\"\n",
      "[1] \"fcc_table.starrmpra.crispri.atac.e2g_benchmark.e2g_prediction.merge.tsv\"\n",
      "[1] \"fcc_table.starrmpra.crispri.atac.e2g_benchmark.merge.bed.gz\"\n",
      "[1] \"fcc_table.starrmpra.crispri.atac.e2g_benchmark.merge.tsv\"\n",
      "[1] \"fcc_table.starrmpra.crispri.atac.merge.bed.gz\"\n",
      "[1] \"fcc_table.starrmpra.crispri.atac.merge.tsv\"\n",
      "[1] \"summary\"\n",
      "[1] \"z_summary\"\n"
     ]
    }
   ],
   "source": [
    "fdiry  = FD_REG_A\n",
    "fnames = dir(fdiry)\n",
    "for(fname in fnames){print(fname)}"
   ]
  },
  {
   "cell_type": "code",
   "execution_count": 4,
   "metadata": {},
   "outputs": [
    {
     "name": "stdout",
     "output_type": "stream",
     "text": [
      "[1] \"ccres_v4.silencer.rest.bed.gz\"\n",
      "[1] \"ccres_v4.silencer.starr.bed.gz\"\n",
      "[1] \"description.tsv\"\n"
     ]
    }
   ],
   "source": [
    "fdiry  = FD_REG_B\n",
    "fnames = dir(fdiry)\n",
    "for(fname in fnames){print(fname)}"
   ]
  },
  {
   "cell_type": "code",
   "execution_count": 5,
   "metadata": {},
   "outputs": [
    {
     "name": "stdout",
     "output_type": "stream",
     "text": [
      "[1] \"peak.annotation.ccres_v4.silencer.rest.bed.gz\"\n",
      "[1] \"peak.annotation.ccres_v4.silencer.starr.bed.gz\"\n"
     ]
    }
   ],
   "source": [
    "fdiry  = FD_REG_C\n",
    "fnames = dir(fdiry)\n",
    "for(fname in fnames){print(fname)}"
   ]
  },
  {
   "cell_type": "markdown",
   "metadata": {},
   "source": [
    "## Import data"
   ]
  },
  {
   "cell_type": "code",
   "execution_count": 6,
   "metadata": {},
   "outputs": [
    {
     "name": "stdout",
     "output_type": "stream",
     "text": [
      "[1] \"Chrom_A\"     \"Start_A\"     \"End_A\"       \"Assay_Type\"  \"Assay_Label\"\n"
     ]
    },
    {
     "data": {
      "text/html": [
       "<table class=\"dataframe\">\n",
       "<caption>A spec_tbl_df: 5 × 2</caption>\n",
       "<thead>\n",
       "\t<tr><th scope=col>Name</th><th scope=col>Description</th></tr>\n",
       "\t<tr><th scope=col>&lt;chr&gt;</th><th scope=col>&lt;chr&gt;</th></tr>\n",
       "</thead>\n",
       "<tbody>\n",
       "\t<tr><td>Chrom      </td><td>Chromosome </td></tr>\n",
       "\t<tr><td>Start      </td><td>Start      </td></tr>\n",
       "\t<tr><td>End        </td><td>End        </td></tr>\n",
       "\t<tr><td>Assay_Type </td><td>Assay type </td></tr>\n",
       "\t<tr><td>Assay_Label</td><td>Assay label</td></tr>\n",
       "</tbody>\n",
       "</table>\n"
      ],
      "text/latex": [
       "A spec\\_tbl\\_df: 5 × 2\n",
       "\\begin{tabular}{ll}\n",
       " Name & Description\\\\\n",
       " <chr> & <chr>\\\\\n",
       "\\hline\n",
       "\t Chrom       & Chromosome \\\\\n",
       "\t Start       & Start      \\\\\n",
       "\t End         & End        \\\\\n",
       "\t Assay\\_Type  & Assay type \\\\\n",
       "\t Assay\\_Label & Assay label\\\\\n",
       "\\end{tabular}\n"
      ],
      "text/markdown": [
       "\n",
       "A spec_tbl_df: 5 × 2\n",
       "\n",
       "| Name &lt;chr&gt; | Description &lt;chr&gt; |\n",
       "|---|---|\n",
       "| Chrom       | Chromosome  |\n",
       "| Start       | Start       |\n",
       "| End         | End         |\n",
       "| Assay_Type  | Assay type  |\n",
       "| Assay_Label | Assay label |\n",
       "\n"
      ],
      "text/plain": [
       "  Name        Description\n",
       "1 Chrom       Chromosome \n",
       "2 Start       Start      \n",
       "3 End         End        \n",
       "4 Assay_Type  Assay type \n",
       "5 Assay_Label Assay label"
      ]
     },
     "metadata": {},
     "output_type": "display_data"
    }
   ],
   "source": [
    "### set file paths\n",
    "fdiry = FD_REG_A\n",
    "fname = \"description.tsv\"\n",
    "fpath = file.path(fdiry, fname)\n",
    "\n",
    "### read table\n",
    "dat = read_tsv(fpath, show_col_types = FALSE)\n",
    "vec = dat$Name\n",
    "vec[1:3] = paste(vec[1:3], \"A\", sep=\"_\")\n",
    "\n",
    "### assign and show\n",
    "vec_txt_cnames_reg_A = vec\n",
    "print(vec)\n",
    "dat"
   ]
  },
  {
   "cell_type": "code",
   "execution_count": 7,
   "metadata": {},
   "outputs": [
    {
     "name": "stdout",
     "output_type": "stream",
     "text": [
      "[1] \"Chrom_B\"           \"Start_B\"           \"End_B\"            \n",
      "[4] \"Name_B\"            \"Score_B\"           \"Strand_B\"         \n",
      "[7] \"Category_cCREs\"    \"Category_Silencer\"\n"
     ]
    },
    {
     "data": {
      "text/html": [
       "<table class=\"dataframe\">\n",
       "<caption>A spec_tbl_df: 8 × 2</caption>\n",
       "<thead>\n",
       "\t<tr><th scope=col>Name</th><th scope=col>Description</th></tr>\n",
       "\t<tr><th scope=col>&lt;chr&gt;</th><th scope=col>&lt;chr&gt;</th></tr>\n",
       "</thead>\n",
       "<tbody>\n",
       "\t<tr><td>Chrom            </td><td>Chromosome                              </td></tr>\n",
       "\t<tr><td>Start            </td><td>Start position                          </td></tr>\n",
       "\t<tr><td>End              </td><td>End position                            </td></tr>\n",
       "\t<tr><td>Name             </td><td>Name                                    </td></tr>\n",
       "\t<tr><td>Score            </td><td>Score                                   </td></tr>\n",
       "\t<tr><td>Strand           </td><td>[+-.]; Use '.' if no strand is assigned.</td></tr>\n",
       "\t<tr><td>Category_cCREs   </td><td>Label of cCREs type                     </td></tr>\n",
       "\t<tr><td>Category_Silencer</td><td>Label of silencer                       </td></tr>\n",
       "</tbody>\n",
       "</table>\n"
      ],
      "text/latex": [
       "A spec\\_tbl\\_df: 8 × 2\n",
       "\\begin{tabular}{ll}\n",
       " Name & Description\\\\\n",
       " <chr> & <chr>\\\\\n",
       "\\hline\n",
       "\t Chrom             & Chromosome                              \\\\\n",
       "\t Start             & Start position                          \\\\\n",
       "\t End               & End position                            \\\\\n",
       "\t Name              & Name                                    \\\\\n",
       "\t Score             & Score                                   \\\\\n",
       "\t Strand            & {[}+-.{]}; Use '.' if no strand is assigned.\\\\\n",
       "\t Category\\_cCREs    & Label of cCREs type                     \\\\\n",
       "\t Category\\_Silencer & Label of silencer                       \\\\\n",
       "\\end{tabular}\n"
      ],
      "text/markdown": [
       "\n",
       "A spec_tbl_df: 8 × 2\n",
       "\n",
       "| Name &lt;chr&gt; | Description &lt;chr&gt; |\n",
       "|---|---|\n",
       "| Chrom             | Chromosome                               |\n",
       "| Start             | Start position                           |\n",
       "| End               | End position                             |\n",
       "| Name              | Name                                     |\n",
       "| Score             | Score                                    |\n",
       "| Strand            | [+-.]; Use '.' if no strand is assigned. |\n",
       "| Category_cCREs    | Label of cCREs type                      |\n",
       "| Category_Silencer | Label of silencer                        |\n",
       "\n"
      ],
      "text/plain": [
       "  Name              Description                             \n",
       "1 Chrom             Chromosome                              \n",
       "2 Start             Start position                          \n",
       "3 End               End position                            \n",
       "4 Name              Name                                    \n",
       "5 Score             Score                                   \n",
       "6 Strand            [+-.]; Use '.' if no strand is assigned.\n",
       "7 Category_cCREs    Label of cCREs type                     \n",
       "8 Category_Silencer Label of silencer                       "
      ]
     },
     "metadata": {},
     "output_type": "display_data"
    }
   ],
   "source": [
    "### set file paths\n",
    "fdiry = FD_REG_B\n",
    "fname = \"description.tsv\"\n",
    "fpath = file.path(fdiry, fname)\n",
    "\n",
    "### read table\n",
    "dat = read_tsv(fpath, show_col_types = FALSE)\n",
    "vec = dat$Name\n",
    "vec[1:6] = paste(vec[1:6], \"B\", sep=\"_\")\n",
    "\n",
    "### assign and show\n",
    "vec_txt_cnames_reg_B = vec\n",
    "print(vec)\n",
    "dat"
   ]
  },
  {
   "cell_type": "code",
   "execution_count": 14,
   "metadata": {},
   "outputs": [
    {
     "name": "stdout",
     "output_type": "stream",
     "text": [
      "                          ccres_v4.silencer.rest \n",
      " \"peak.annotation.ccres_v4.silencer.rest.bed.gz\" \n",
      "                         ccres_v4.silencer.starr \n",
      "\"peak.annotation.ccres_v4.silencer.starr.bed.gz\" \n"
     ]
    }
   ],
   "source": [
    "### init: set column names\n",
    "vec_txt_cnames = c(\n",
    "    vec_txt_cnames_reg_A,\n",
    "    vec_txt_cnames_reg_B,\n",
    "    \"Overlap\"\n",
    ")\n",
    "\n",
    "### init: set file path\n",
    "fdiry  = FD_REG_C\n",
    "fname  = paste(\"peak.annotation\", \"bed.gz\", sep=\"*\")\n",
    "fglob  = file.path(fdiry, fname)\n",
    "fpaths = Sys.glob(fglob)\n",
    "fnames = basename(fpaths)\n",
    "\n",
    "### init: annotation and label\n",
    "annotations        = c(\"ccres_v4.silencer.rest\", \"ccres_v4.silencer.starr\")\n",
    "names(fnames)      = annotations\n",
    "names(annotations) = annotations\n",
    "print(fnames)"
   ]
  },
  {
   "cell_type": "code",
   "execution_count": 15,
   "metadata": {},
   "outputs": [
    {
     "name": "stdout",
     "output_type": "stream",
     "text": [
      "[1] 2\n",
      "=========================\n",
      "[1] \"ccres_v4.silencer.rest\"  \"ccres_v4.silencer.starr\"\n",
      "=========================\n"
     ]
    },
    {
     "data": {
      "text/html": [
       "<table class=\"dataframe\">\n",
       "<caption>A tibble: 6 × 20</caption>\n",
       "<thead>\n",
       "\t<tr><th scope=col>Chrom_A</th><th scope=col>Start_A</th><th scope=col>End_A</th><th scope=col>Assay_Type</th><th scope=col>Assay_Label</th><th scope=col>Chrom_B</th><th scope=col>Start_B</th><th scope=col>End_B</th><th scope=col>Name_B</th><th scope=col>Score_B</th><th scope=col>Strand_B</th><th scope=col>Category_cCREs</th><th scope=col>Category_Silencer</th><th scope=col>Overlap</th><th scope=col>Annotation</th><th scope=col>Region_A</th><th scope=col>Region_B</th><th scope=col>Index_cCREs</th><th scope=col>Label_cCREs</th><th scope=col>Label_Silencer</th></tr>\n",
       "\t<tr><th scope=col>&lt;chr&gt;</th><th scope=col>&lt;dbl&gt;</th><th scope=col>&lt;dbl&gt;</th><th scope=col>&lt;chr&gt;</th><th scope=col>&lt;chr&gt;</th><th scope=col>&lt;chr&gt;</th><th scope=col>&lt;dbl&gt;</th><th scope=col>&lt;dbl&gt;</th><th scope=col>&lt;chr&gt;</th><th scope=col>&lt;dbl&gt;</th><th scope=col>&lt;chr&gt;</th><th scope=col>&lt;chr&gt;</th><th scope=col>&lt;chr&gt;</th><th scope=col>&lt;dbl&gt;</th><th scope=col>&lt;chr&gt;</th><th scope=col>&lt;chr&gt;</th><th scope=col>&lt;chr&gt;</th><th scope=col>&lt;chr&gt;</th><th scope=col>&lt;chr&gt;</th><th scope=col>&lt;chr&gt;</th></tr>\n",
       "</thead>\n",
       "<tbody>\n",
       "\t<tr><td>chr1</td><td>1298873</td><td>1300610</td><td>ASTARR,ATAC,CRISPRi-Growth</td><td>ASTARR_R,ATAC,CRISPRi-Growth                     </td><td>chr1</td><td>1298966</td><td>1299316</td><td>EH38E2777310</td><td>0</td><td>.</td><td>dELS</td><td>REST+ enhancer/silencer</td><td>350</td><td>ccres_v4.silencer.rest</td><td>chr1:1298873-1300610</td><td>chr1:1298966-1299316</td><td>EH38E2777310</td><td>dELS</td><td>REST+ enhancer/silencer</td></tr>\n",
       "\t<tr><td>chr1</td><td>1334703</td><td>1335568</td><td>ATAC                      </td><td>ATAC                                             </td><td>chr1</td><td>1334920</td><td>1335266</td><td>EH38E2777380</td><td>0</td><td>.</td><td>dELS</td><td>REST+ enhancer/silencer</td><td>346</td><td>ccres_v4.silencer.rest</td><td>chr1:1334703-1335568</td><td>chr1:1334920-1335266</td><td>EH38E2777380</td><td>dELS</td><td>REST+ enhancer/silencer</td></tr>\n",
       "\t<tr><td>chr1</td><td>1374415</td><td>1376654</td><td>ATAC,WSTARR               </td><td>ATAC,WSTARR_A,WSTARR_AB                          </td><td>chr1</td><td>1375250</td><td>1375598</td><td>EH38E2777455</td><td>0</td><td>.</td><td>pELS</td><td>REST+ Non-silencer     </td><td>348</td><td>ccres_v4.silencer.rest</td><td>chr1:1374415-1376654</td><td>chr1:1375250-1375598</td><td>EH38E2777455</td><td>pELS</td><td>REST+ Non-silencer     </td></tr>\n",
       "\t<tr><td>chr1</td><td>1406792</td><td>1408163</td><td>ASTARR,ATAC,LMPRA,WSTARR  </td><td>ASTARR_R,ATAC,LMPRA_A,LMPRA_AB,WSTARR_A,WSTARR_AB</td><td>chr1</td><td>1407146</td><td>1407496</td><td>EH38E2777492</td><td>0</td><td>.</td><td>PLS </td><td>REST+ Non-silencer     </td><td>350</td><td>ccres_v4.silencer.rest</td><td>chr1:1406792-1408163</td><td>chr1:1407146-1407496</td><td>EH38E2777492</td><td>PLS </td><td>REST+ Non-silencer     </td></tr>\n",
       "\t<tr><td>chr1</td><td>1432984</td><td>1434718</td><td>ASTARR,ATAC,WSTARR        </td><td>ASTARR_R,ATAC,WSTARR_A                           </td><td>chr1</td><td>1433204</td><td>1433554</td><td>EH38E2777541</td><td>0</td><td>.</td><td>pELS</td><td>REST+ Non-silencer     </td><td>350</td><td>ccres_v4.silencer.rest</td><td>chr1:1432984-1434718</td><td>chr1:1433204-1433554</td><td>EH38E2777541</td><td>pELS</td><td>REST+ Non-silencer     </td></tr>\n",
       "\t<tr><td>chr1</td><td>1470698</td><td>1473196</td><td>ASTARR,ATAC,LMPRA,WSTARR  </td><td>ASTARR_R,ATAC,LMPRA_A,LMPRA_AB,WSTARR_A,WSTARR_AB</td><td>chr1</td><td>1472896</td><td>1473193</td><td>EH38E3951566</td><td>0</td><td>.</td><td>pELS</td><td>REST+ Non-silencer     </td><td>297</td><td>ccres_v4.silencer.rest</td><td>chr1:1470698-1473196</td><td>chr1:1472896-1473193</td><td>EH38E3951566</td><td>pELS</td><td>REST+ Non-silencer     </td></tr>\n",
       "</tbody>\n",
       "</table>\n"
      ],
      "text/latex": [
       "A tibble: 6 × 20\n",
       "\\begin{tabular}{llllllllllllllllllll}\n",
       " Chrom\\_A & Start\\_A & End\\_A & Assay\\_Type & Assay\\_Label & Chrom\\_B & Start\\_B & End\\_B & Name\\_B & Score\\_B & Strand\\_B & Category\\_cCREs & Category\\_Silencer & Overlap & Annotation & Region\\_A & Region\\_B & Index\\_cCREs & Label\\_cCREs & Label\\_Silencer\\\\\n",
       " <chr> & <dbl> & <dbl> & <chr> & <chr> & <chr> & <dbl> & <dbl> & <chr> & <dbl> & <chr> & <chr> & <chr> & <dbl> & <chr> & <chr> & <chr> & <chr> & <chr> & <chr>\\\\\n",
       "\\hline\n",
       "\t chr1 & 1298873 & 1300610 & ASTARR,ATAC,CRISPRi-Growth & ASTARR\\_R,ATAC,CRISPRi-Growth                      & chr1 & 1298966 & 1299316 & EH38E2777310 & 0 & . & dELS & REST+ enhancer/silencer & 350 & ccres\\_v4.silencer.rest & chr1:1298873-1300610 & chr1:1298966-1299316 & EH38E2777310 & dELS & REST+ enhancer/silencer\\\\\n",
       "\t chr1 & 1334703 & 1335568 & ATAC                       & ATAC                                              & chr1 & 1334920 & 1335266 & EH38E2777380 & 0 & . & dELS & REST+ enhancer/silencer & 346 & ccres\\_v4.silencer.rest & chr1:1334703-1335568 & chr1:1334920-1335266 & EH38E2777380 & dELS & REST+ enhancer/silencer\\\\\n",
       "\t chr1 & 1374415 & 1376654 & ATAC,WSTARR                & ATAC,WSTARR\\_A,WSTARR\\_AB                           & chr1 & 1375250 & 1375598 & EH38E2777455 & 0 & . & pELS & REST+ Non-silencer      & 348 & ccres\\_v4.silencer.rest & chr1:1374415-1376654 & chr1:1375250-1375598 & EH38E2777455 & pELS & REST+ Non-silencer     \\\\\n",
       "\t chr1 & 1406792 & 1408163 & ASTARR,ATAC,LMPRA,WSTARR   & ASTARR\\_R,ATAC,LMPRA\\_A,LMPRA\\_AB,WSTARR\\_A,WSTARR\\_AB & chr1 & 1407146 & 1407496 & EH38E2777492 & 0 & . & PLS  & REST+ Non-silencer      & 350 & ccres\\_v4.silencer.rest & chr1:1406792-1408163 & chr1:1407146-1407496 & EH38E2777492 & PLS  & REST+ Non-silencer     \\\\\n",
       "\t chr1 & 1432984 & 1434718 & ASTARR,ATAC,WSTARR         & ASTARR\\_R,ATAC,WSTARR\\_A                            & chr1 & 1433204 & 1433554 & EH38E2777541 & 0 & . & pELS & REST+ Non-silencer      & 350 & ccres\\_v4.silencer.rest & chr1:1432984-1434718 & chr1:1433204-1433554 & EH38E2777541 & pELS & REST+ Non-silencer     \\\\\n",
       "\t chr1 & 1470698 & 1473196 & ASTARR,ATAC,LMPRA,WSTARR   & ASTARR\\_R,ATAC,LMPRA\\_A,LMPRA\\_AB,WSTARR\\_A,WSTARR\\_AB & chr1 & 1472896 & 1473193 & EH38E3951566 & 0 & . & pELS & REST+ Non-silencer      & 297 & ccres\\_v4.silencer.rest & chr1:1470698-1473196 & chr1:1472896-1473193 & EH38E3951566 & pELS & REST+ Non-silencer     \\\\\n",
       "\\end{tabular}\n"
      ],
      "text/markdown": [
       "\n",
       "A tibble: 6 × 20\n",
       "\n",
       "| Chrom_A &lt;chr&gt; | Start_A &lt;dbl&gt; | End_A &lt;dbl&gt; | Assay_Type &lt;chr&gt; | Assay_Label &lt;chr&gt; | Chrom_B &lt;chr&gt; | Start_B &lt;dbl&gt; | End_B &lt;dbl&gt; | Name_B &lt;chr&gt; | Score_B &lt;dbl&gt; | Strand_B &lt;chr&gt; | Category_cCREs &lt;chr&gt; | Category_Silencer &lt;chr&gt; | Overlap &lt;dbl&gt; | Annotation &lt;chr&gt; | Region_A &lt;chr&gt; | Region_B &lt;chr&gt; | Index_cCREs &lt;chr&gt; | Label_cCREs &lt;chr&gt; | Label_Silencer &lt;chr&gt; |\n",
       "|---|---|---|---|---|---|---|---|---|---|---|---|---|---|---|---|---|---|---|---|\n",
       "| chr1 | 1298873 | 1300610 | ASTARR,ATAC,CRISPRi-Growth | ASTARR_R,ATAC,CRISPRi-Growth                      | chr1 | 1298966 | 1299316 | EH38E2777310 | 0 | . | dELS | REST+ enhancer/silencer | 350 | ccres_v4.silencer.rest | chr1:1298873-1300610 | chr1:1298966-1299316 | EH38E2777310 | dELS | REST+ enhancer/silencer |\n",
       "| chr1 | 1334703 | 1335568 | ATAC                       | ATAC                                              | chr1 | 1334920 | 1335266 | EH38E2777380 | 0 | . | dELS | REST+ enhancer/silencer | 346 | ccres_v4.silencer.rest | chr1:1334703-1335568 | chr1:1334920-1335266 | EH38E2777380 | dELS | REST+ enhancer/silencer |\n",
       "| chr1 | 1374415 | 1376654 | ATAC,WSTARR                | ATAC,WSTARR_A,WSTARR_AB                           | chr1 | 1375250 | 1375598 | EH38E2777455 | 0 | . | pELS | REST+ Non-silencer      | 348 | ccres_v4.silencer.rest | chr1:1374415-1376654 | chr1:1375250-1375598 | EH38E2777455 | pELS | REST+ Non-silencer      |\n",
       "| chr1 | 1406792 | 1408163 | ASTARR,ATAC,LMPRA,WSTARR   | ASTARR_R,ATAC,LMPRA_A,LMPRA_AB,WSTARR_A,WSTARR_AB | chr1 | 1407146 | 1407496 | EH38E2777492 | 0 | . | PLS  | REST+ Non-silencer      | 350 | ccres_v4.silencer.rest | chr1:1406792-1408163 | chr1:1407146-1407496 | EH38E2777492 | PLS  | REST+ Non-silencer      |\n",
       "| chr1 | 1432984 | 1434718 | ASTARR,ATAC,WSTARR         | ASTARR_R,ATAC,WSTARR_A                            | chr1 | 1433204 | 1433554 | EH38E2777541 | 0 | . | pELS | REST+ Non-silencer      | 350 | ccres_v4.silencer.rest | chr1:1432984-1434718 | chr1:1433204-1433554 | EH38E2777541 | pELS | REST+ Non-silencer      |\n",
       "| chr1 | 1470698 | 1473196 | ASTARR,ATAC,LMPRA,WSTARR   | ASTARR_R,ATAC,LMPRA_A,LMPRA_AB,WSTARR_A,WSTARR_AB | chr1 | 1472896 | 1473193 | EH38E3951566 | 0 | . | pELS | REST+ Non-silencer      | 297 | ccres_v4.silencer.rest | chr1:1470698-1473196 | chr1:1472896-1473193 | EH38E3951566 | pELS | REST+ Non-silencer      |\n",
       "\n"
      ],
      "text/plain": [
       "  Chrom_A Start_A End_A   Assay_Type                \n",
       "1 chr1    1298873 1300610 ASTARR,ATAC,CRISPRi-Growth\n",
       "2 chr1    1334703 1335568 ATAC                      \n",
       "3 chr1    1374415 1376654 ATAC,WSTARR               \n",
       "4 chr1    1406792 1408163 ASTARR,ATAC,LMPRA,WSTARR  \n",
       "5 chr1    1432984 1434718 ASTARR,ATAC,WSTARR        \n",
       "6 chr1    1470698 1473196 ASTARR,ATAC,LMPRA,WSTARR  \n",
       "  Assay_Label                                       Chrom_B Start_B End_B  \n",
       "1 ASTARR_R,ATAC,CRISPRi-Growth                      chr1    1298966 1299316\n",
       "2 ATAC                                              chr1    1334920 1335266\n",
       "3 ATAC,WSTARR_A,WSTARR_AB                           chr1    1375250 1375598\n",
       "4 ASTARR_R,ATAC,LMPRA_A,LMPRA_AB,WSTARR_A,WSTARR_AB chr1    1407146 1407496\n",
       "5 ASTARR_R,ATAC,WSTARR_A                            chr1    1433204 1433554\n",
       "6 ASTARR_R,ATAC,LMPRA_A,LMPRA_AB,WSTARR_A,WSTARR_AB chr1    1472896 1473193\n",
       "  Name_B       Score_B Strand_B Category_cCREs Category_Silencer       Overlap\n",
       "1 EH38E2777310 0       .        dELS           REST+ enhancer/silencer 350    \n",
       "2 EH38E2777380 0       .        dELS           REST+ enhancer/silencer 346    \n",
       "3 EH38E2777455 0       .        pELS           REST+ Non-silencer      348    \n",
       "4 EH38E2777492 0       .        PLS            REST+ Non-silencer      350    \n",
       "5 EH38E2777541 0       .        pELS           REST+ Non-silencer      350    \n",
       "6 EH38E3951566 0       .        pELS           REST+ Non-silencer      297    \n",
       "  Annotation             Region_A             Region_B             Index_cCREs \n",
       "1 ccres_v4.silencer.rest chr1:1298873-1300610 chr1:1298966-1299316 EH38E2777310\n",
       "2 ccres_v4.silencer.rest chr1:1334703-1335568 chr1:1334920-1335266 EH38E2777380\n",
       "3 ccres_v4.silencer.rest chr1:1374415-1376654 chr1:1375250-1375598 EH38E2777455\n",
       "4 ccres_v4.silencer.rest chr1:1406792-1408163 chr1:1407146-1407496 EH38E2777492\n",
       "5 ccres_v4.silencer.rest chr1:1432984-1434718 chr1:1433204-1433554 EH38E2777541\n",
       "6 ccres_v4.silencer.rest chr1:1470698-1473196 chr1:1472896-1473193 EH38E3951566\n",
       "  Label_cCREs Label_Silencer         \n",
       "1 dELS        REST+ enhancer/silencer\n",
       "2 dELS        REST+ enhancer/silencer\n",
       "3 pELS        REST+ Non-silencer     \n",
       "4 PLS         REST+ Non-silencer     \n",
       "5 pELS        REST+ Non-silencer     \n",
       "6 pELS        REST+ Non-silencer     "
      ]
     },
     "metadata": {},
     "output_type": "display_data"
    }
   ],
   "source": [
    "### Import data\n",
    "lst = lapply(annotations, function(annotation){\n",
    "    ### set file path\n",
    "    fname = fnames[annotation]\n",
    "    fpath = file.path(fdiry, fname)\n",
    "    \n",
    "    ### read data\n",
    "    dat = read_tsv(fpath, col_names = vec_txt_cnames, show_col_types = FALSE)\n",
    "    dat = dat %>% dplyr::mutate(\n",
    "        Annotation = annotation,\n",
    "        Region_A   = paste0(Chrom_A, \":\", Start_A, \"-\", End_A),\n",
    "        Region_B   = paste0(Chrom_B, \":\", Start_B, \"-\", End_B),\n",
    "        Index_cCREs    = Name_B,\n",
    "        Label_cCREs    = Category_cCREs,\n",
    "        Label_Silencer = Category_Silencer\n",
    "    )\n",
    "    return(dat)\n",
    "})\n",
    "\n",
    "### assign and show\n",
    "lst_peak_annot_import = lst\n",
    "print(length(lst))\n",
    "cat(\"=========================\\n\")\n",
    "print(names(lst))\n",
    "cat(\"=========================\\n\")\n",
    "head(lst[[1]])"
   ]
  },
  {
   "cell_type": "code",
   "execution_count": 16,
   "metadata": {},
   "outputs": [
    {
     "data": {
      "text/plain": [
       "\n",
       "   0 \n",
       "4325 "
      ]
     },
     "metadata": {},
     "output_type": "display_data"
    }
   ],
   "source": [
    "dat = lst[[1]]\n",
    "table(dat$Score_B)"
   ]
  },
  {
   "cell_type": "markdown",
   "metadata": {},
   "source": [
    "## Arrange the columns"
   ]
  },
  {
   "cell_type": "code",
   "execution_count": 17,
   "metadata": {},
   "outputs": [
    {
     "name": "stdout",
     "output_type": "stream",
     "text": [
      "[1] 2\n",
      "=========================\n",
      "[1] \"ccres_v4.silencer.rest\"  \"ccres_v4.silencer.starr\"\n",
      "=========================\n"
     ]
    },
    {
     "data": {
      "text/html": [
       "<table class=\"dataframe\">\n",
       "<caption>A tibble: 6 × 14</caption>\n",
       "<thead>\n",
       "\t<tr><th scope=col>Chrom_A</th><th scope=col>Start_A</th><th scope=col>End_A</th><th scope=col>Region_A</th><th scope=col>Assay_Type</th><th scope=col>Assay_Label</th><th scope=col>Annotation</th><th scope=col>Chrom_B</th><th scope=col>Start_B</th><th scope=col>End_B</th><th scope=col>Region_B</th><th scope=col>Index_cCREs</th><th scope=col>Label_cCREs</th><th scope=col>Label_Silencer</th></tr>\n",
       "\t<tr><th scope=col>&lt;chr&gt;</th><th scope=col>&lt;dbl&gt;</th><th scope=col>&lt;dbl&gt;</th><th scope=col>&lt;chr&gt;</th><th scope=col>&lt;chr&gt;</th><th scope=col>&lt;chr&gt;</th><th scope=col>&lt;chr&gt;</th><th scope=col>&lt;chr&gt;</th><th scope=col>&lt;dbl&gt;</th><th scope=col>&lt;dbl&gt;</th><th scope=col>&lt;chr&gt;</th><th scope=col>&lt;chr&gt;</th><th scope=col>&lt;chr&gt;</th><th scope=col>&lt;chr&gt;</th></tr>\n",
       "</thead>\n",
       "<tbody>\n",
       "\t<tr><td>chr1</td><td>1298873</td><td>1300610</td><td>chr1:1298873-1300610</td><td>ASTARR,ATAC,CRISPRi-Growth</td><td>ASTARR_R,ATAC,CRISPRi-Growth                     </td><td>ccres_v4.silencer.rest</td><td>chr1</td><td>1298966</td><td>1299316</td><td>chr1:1298966-1299316</td><td>EH38E2777310</td><td>dELS</td><td>REST+ enhancer/silencer</td></tr>\n",
       "\t<tr><td>chr1</td><td>1334703</td><td>1335568</td><td>chr1:1334703-1335568</td><td>ATAC                      </td><td>ATAC                                             </td><td>ccres_v4.silencer.rest</td><td>chr1</td><td>1334920</td><td>1335266</td><td>chr1:1334920-1335266</td><td>EH38E2777380</td><td>dELS</td><td>REST+ enhancer/silencer</td></tr>\n",
       "\t<tr><td>chr1</td><td>1374415</td><td>1376654</td><td>chr1:1374415-1376654</td><td>ATAC,WSTARR               </td><td>ATAC,WSTARR_A,WSTARR_AB                          </td><td>ccres_v4.silencer.rest</td><td>chr1</td><td>1375250</td><td>1375598</td><td>chr1:1375250-1375598</td><td>EH38E2777455</td><td>pELS</td><td>REST+ Non-silencer     </td></tr>\n",
       "\t<tr><td>chr1</td><td>1406792</td><td>1408163</td><td>chr1:1406792-1408163</td><td>ASTARR,ATAC,LMPRA,WSTARR  </td><td>ASTARR_R,ATAC,LMPRA_A,LMPRA_AB,WSTARR_A,WSTARR_AB</td><td>ccres_v4.silencer.rest</td><td>chr1</td><td>1407146</td><td>1407496</td><td>chr1:1407146-1407496</td><td>EH38E2777492</td><td>PLS </td><td>REST+ Non-silencer     </td></tr>\n",
       "\t<tr><td>chr1</td><td>1432984</td><td>1434718</td><td>chr1:1432984-1434718</td><td>ASTARR,ATAC,WSTARR        </td><td>ASTARR_R,ATAC,WSTARR_A                           </td><td>ccres_v4.silencer.rest</td><td>chr1</td><td>1433204</td><td>1433554</td><td>chr1:1433204-1433554</td><td>EH38E2777541</td><td>pELS</td><td>REST+ Non-silencer     </td></tr>\n",
       "\t<tr><td>chr1</td><td>1470698</td><td>1473196</td><td>chr1:1470698-1473196</td><td>ASTARR,ATAC,LMPRA,WSTARR  </td><td>ASTARR_R,ATAC,LMPRA_A,LMPRA_AB,WSTARR_A,WSTARR_AB</td><td>ccres_v4.silencer.rest</td><td>chr1</td><td>1472896</td><td>1473193</td><td>chr1:1472896-1473193</td><td>EH38E3951566</td><td>pELS</td><td>REST+ Non-silencer     </td></tr>\n",
       "</tbody>\n",
       "</table>\n"
      ],
      "text/latex": [
       "A tibble: 6 × 14\n",
       "\\begin{tabular}{llllllllllllll}\n",
       " Chrom\\_A & Start\\_A & End\\_A & Region\\_A & Assay\\_Type & Assay\\_Label & Annotation & Chrom\\_B & Start\\_B & End\\_B & Region\\_B & Index\\_cCREs & Label\\_cCREs & Label\\_Silencer\\\\\n",
       " <chr> & <dbl> & <dbl> & <chr> & <chr> & <chr> & <chr> & <chr> & <dbl> & <dbl> & <chr> & <chr> & <chr> & <chr>\\\\\n",
       "\\hline\n",
       "\t chr1 & 1298873 & 1300610 & chr1:1298873-1300610 & ASTARR,ATAC,CRISPRi-Growth & ASTARR\\_R,ATAC,CRISPRi-Growth                      & ccres\\_v4.silencer.rest & chr1 & 1298966 & 1299316 & chr1:1298966-1299316 & EH38E2777310 & dELS & REST+ enhancer/silencer\\\\\n",
       "\t chr1 & 1334703 & 1335568 & chr1:1334703-1335568 & ATAC                       & ATAC                                              & ccres\\_v4.silencer.rest & chr1 & 1334920 & 1335266 & chr1:1334920-1335266 & EH38E2777380 & dELS & REST+ enhancer/silencer\\\\\n",
       "\t chr1 & 1374415 & 1376654 & chr1:1374415-1376654 & ATAC,WSTARR                & ATAC,WSTARR\\_A,WSTARR\\_AB                           & ccres\\_v4.silencer.rest & chr1 & 1375250 & 1375598 & chr1:1375250-1375598 & EH38E2777455 & pELS & REST+ Non-silencer     \\\\\n",
       "\t chr1 & 1406792 & 1408163 & chr1:1406792-1408163 & ASTARR,ATAC,LMPRA,WSTARR   & ASTARR\\_R,ATAC,LMPRA\\_A,LMPRA\\_AB,WSTARR\\_A,WSTARR\\_AB & ccres\\_v4.silencer.rest & chr1 & 1407146 & 1407496 & chr1:1407146-1407496 & EH38E2777492 & PLS  & REST+ Non-silencer     \\\\\n",
       "\t chr1 & 1432984 & 1434718 & chr1:1432984-1434718 & ASTARR,ATAC,WSTARR         & ASTARR\\_R,ATAC,WSTARR\\_A                            & ccres\\_v4.silencer.rest & chr1 & 1433204 & 1433554 & chr1:1433204-1433554 & EH38E2777541 & pELS & REST+ Non-silencer     \\\\\n",
       "\t chr1 & 1470698 & 1473196 & chr1:1470698-1473196 & ASTARR,ATAC,LMPRA,WSTARR   & ASTARR\\_R,ATAC,LMPRA\\_A,LMPRA\\_AB,WSTARR\\_A,WSTARR\\_AB & ccres\\_v4.silencer.rest & chr1 & 1472896 & 1473193 & chr1:1472896-1473193 & EH38E3951566 & pELS & REST+ Non-silencer     \\\\\n",
       "\\end{tabular}\n"
      ],
      "text/markdown": [
       "\n",
       "A tibble: 6 × 14\n",
       "\n",
       "| Chrom_A &lt;chr&gt; | Start_A &lt;dbl&gt; | End_A &lt;dbl&gt; | Region_A &lt;chr&gt; | Assay_Type &lt;chr&gt; | Assay_Label &lt;chr&gt; | Annotation &lt;chr&gt; | Chrom_B &lt;chr&gt; | Start_B &lt;dbl&gt; | End_B &lt;dbl&gt; | Region_B &lt;chr&gt; | Index_cCREs &lt;chr&gt; | Label_cCREs &lt;chr&gt; | Label_Silencer &lt;chr&gt; |\n",
       "|---|---|---|---|---|---|---|---|---|---|---|---|---|---|\n",
       "| chr1 | 1298873 | 1300610 | chr1:1298873-1300610 | ASTARR,ATAC,CRISPRi-Growth | ASTARR_R,ATAC,CRISPRi-Growth                      | ccres_v4.silencer.rest | chr1 | 1298966 | 1299316 | chr1:1298966-1299316 | EH38E2777310 | dELS | REST+ enhancer/silencer |\n",
       "| chr1 | 1334703 | 1335568 | chr1:1334703-1335568 | ATAC                       | ATAC                                              | ccres_v4.silencer.rest | chr1 | 1334920 | 1335266 | chr1:1334920-1335266 | EH38E2777380 | dELS | REST+ enhancer/silencer |\n",
       "| chr1 | 1374415 | 1376654 | chr1:1374415-1376654 | ATAC,WSTARR                | ATAC,WSTARR_A,WSTARR_AB                           | ccres_v4.silencer.rest | chr1 | 1375250 | 1375598 | chr1:1375250-1375598 | EH38E2777455 | pELS | REST+ Non-silencer      |\n",
       "| chr1 | 1406792 | 1408163 | chr1:1406792-1408163 | ASTARR,ATAC,LMPRA,WSTARR   | ASTARR_R,ATAC,LMPRA_A,LMPRA_AB,WSTARR_A,WSTARR_AB | ccres_v4.silencer.rest | chr1 | 1407146 | 1407496 | chr1:1407146-1407496 | EH38E2777492 | PLS  | REST+ Non-silencer      |\n",
       "| chr1 | 1432984 | 1434718 | chr1:1432984-1434718 | ASTARR,ATAC,WSTARR         | ASTARR_R,ATAC,WSTARR_A                            | ccres_v4.silencer.rest | chr1 | 1433204 | 1433554 | chr1:1433204-1433554 | EH38E2777541 | pELS | REST+ Non-silencer      |\n",
       "| chr1 | 1470698 | 1473196 | chr1:1470698-1473196 | ASTARR,ATAC,LMPRA,WSTARR   | ASTARR_R,ATAC,LMPRA_A,LMPRA_AB,WSTARR_A,WSTARR_AB | ccres_v4.silencer.rest | chr1 | 1472896 | 1473193 | chr1:1472896-1473193 | EH38E3951566 | pELS | REST+ Non-silencer      |\n",
       "\n"
      ],
      "text/plain": [
       "  Chrom_A Start_A End_A   Region_A             Assay_Type                \n",
       "1 chr1    1298873 1300610 chr1:1298873-1300610 ASTARR,ATAC,CRISPRi-Growth\n",
       "2 chr1    1334703 1335568 chr1:1334703-1335568 ATAC                      \n",
       "3 chr1    1374415 1376654 chr1:1374415-1376654 ATAC,WSTARR               \n",
       "4 chr1    1406792 1408163 chr1:1406792-1408163 ASTARR,ATAC,LMPRA,WSTARR  \n",
       "5 chr1    1432984 1434718 chr1:1432984-1434718 ASTARR,ATAC,WSTARR        \n",
       "6 chr1    1470698 1473196 chr1:1470698-1473196 ASTARR,ATAC,LMPRA,WSTARR  \n",
       "  Assay_Label                                       Annotation            \n",
       "1 ASTARR_R,ATAC,CRISPRi-Growth                      ccres_v4.silencer.rest\n",
       "2 ATAC                                              ccres_v4.silencer.rest\n",
       "3 ATAC,WSTARR_A,WSTARR_AB                           ccres_v4.silencer.rest\n",
       "4 ASTARR_R,ATAC,LMPRA_A,LMPRA_AB,WSTARR_A,WSTARR_AB ccres_v4.silencer.rest\n",
       "5 ASTARR_R,ATAC,WSTARR_A                            ccres_v4.silencer.rest\n",
       "6 ASTARR_R,ATAC,LMPRA_A,LMPRA_AB,WSTARR_A,WSTARR_AB ccres_v4.silencer.rest\n",
       "  Chrom_B Start_B End_B   Region_B             Index_cCREs  Label_cCREs\n",
       "1 chr1    1298966 1299316 chr1:1298966-1299316 EH38E2777310 dELS       \n",
       "2 chr1    1334920 1335266 chr1:1334920-1335266 EH38E2777380 dELS       \n",
       "3 chr1    1375250 1375598 chr1:1375250-1375598 EH38E2777455 pELS       \n",
       "4 chr1    1407146 1407496 chr1:1407146-1407496 EH38E2777492 PLS        \n",
       "5 chr1    1433204 1433554 chr1:1433204-1433554 EH38E2777541 pELS       \n",
       "6 chr1    1472896 1473193 chr1:1472896-1473193 EH38E3951566 pELS       \n",
       "  Label_Silencer         \n",
       "1 REST+ enhancer/silencer\n",
       "2 REST+ enhancer/silencer\n",
       "3 REST+ Non-silencer     \n",
       "4 REST+ Non-silencer     \n",
       "5 REST+ Non-silencer     \n",
       "6 REST+ Non-silencer     "
      ]
     },
     "metadata": {},
     "output_type": "display_data"
    }
   ],
   "source": [
    "### init\n",
    "lst = lst_peak_annot_import\n",
    "\n",
    "lst = lapply(lst, function(dat){\n",
    "    ### Select\n",
    "    dat = dat %>%\n",
    "        dplyr::select(\n",
    "            Chrom_A, Start_A, End_A, Region_A, \n",
    "            Assay_Type, Assay_Label,\n",
    "            Annotation,\n",
    "            Chrom_B, Start_B, End_B, Region_B,\n",
    "            Index_cCREs,\n",
    "            Label_cCREs,\n",
    "            Label_Silencer)\n",
    "\n",
    "    ### Arrange\n",
    "    dat = dat %>% \n",
    "        dplyr::arrange(Chrom_A,  Start_A,  End_A)\n",
    "    return(dat)\n",
    "})\n",
    "\n",
    "### assign and show\n",
    "lst_peak_annot_arrange = lst\n",
    "print(length(lst))\n",
    "cat(\"=========================\\n\")\n",
    "print(names(lst))\n",
    "cat(\"=========================\\n\")\n",
    "head(lst[[1]])"
   ]
  },
  {
   "cell_type": "markdown",
   "metadata": {},
   "source": [
    "## Save results"
   ]
  },
  {
   "cell_type": "code",
   "execution_count": 14,
   "metadata": {},
   "outputs": [
    {
     "data": {
      "text/html": [
       "'/data/reddylab/Kuei/out/proj_combeffect_encode_fcc/results/region/annotation_fcc_table/summary'"
      ],
      "text/latex": [
       "'/data/reddylab/Kuei/out/proj\\_combeffect\\_encode\\_fcc/results/region/annotation\\_fcc\\_table/summary'"
      ],
      "text/markdown": [
       "'/data/reddylab/Kuei/out/proj_combeffect_encode_fcc/results/region/annotation_fcc_table/summary'"
      ],
      "text/plain": [
       "[1] \"/data/reddylab/Kuei/out/proj_combeffect_encode_fcc/results/region/annotation_fcc_table/summary\""
      ]
     },
     "metadata": {},
     "output_type": "display_data"
    }
   ],
   "source": [
    "FD_OUT"
   ]
  },
  {
   "cell_type": "code",
   "execution_count": 18,
   "metadata": {},
   "outputs": [
    {
     "name": "stdout",
     "output_type": "stream",
     "text": [
      "[1] \"peak.annotation.ccres_v4.silencer.rest.tsv\"\n",
      "[1] \"peak.annotation.ccres_v4.silencer.starr.tsv\"\n"
     ]
    }
   ],
   "source": [
    "lst = lst_peak_annot_arrange\n",
    "for (idn in names(lst)){\n",
    "    ### set file path\n",
    "    fdiry = FD_OUT\n",
    "    fname = paste(\"peak.annotation\", idn, \"tsv\", sep=\".\")\n",
    "    fpath = file.path(fdiry, fname)\n",
    "    print(fname)\n",
    "    flush.console()\n",
    "\n",
    "    ### write table\n",
    "    dat = lst[[idn]]\n",
    "    write_tsv(dat, fpath)\n",
    "}"
   ]
  },
  {
   "cell_type": "code",
   "execution_count": null,
   "metadata": {},
   "outputs": [],
   "source": []
  }
 ],
 "metadata": {
  "kernelspec": {
   "display_name": "R",
   "language": "R",
   "name": "ir"
  },
  "language_info": {
   "codemirror_mode": "r",
   "file_extension": ".r",
   "mimetype": "text/x-r-source",
   "name": "R",
   "pygments_lexer": "r",
   "version": "4.3.1"
  }
 },
 "nbformat": 4,
 "nbformat_minor": 4
}
