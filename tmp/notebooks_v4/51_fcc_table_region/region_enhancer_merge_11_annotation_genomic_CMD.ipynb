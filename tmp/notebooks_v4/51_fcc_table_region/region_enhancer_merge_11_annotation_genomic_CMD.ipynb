{
 "cells": [
  {
   "cell_type": "markdown",
   "id": "23fc5b83-ea8a-4f3a-b83c-eed84dc871dc",
   "metadata": {},
   "source": [
    "**Set environment**"
   ]
  },
  {
   "cell_type": "code",
   "execution_count": 1,
   "id": "22378f38-654b-4335-9017-d6375796afc9",
   "metadata": {},
   "outputs": [
    {
     "name": "stdout",
     "output_type": "stream",
     "text": [
      "You are on Duke Server: HARDAC\n",
      "BASE DIRECTORY (FD_BASE): /data/reddylab/Kuei\n",
      "WORK DIRECTORY (FD_WORK): /data/reddylab/Kuei/out\n",
      "CODE DIRECTORY (FD_CODE): /data/reddylab/Kuei/code\n",
      "SING DIRECTORY (FD_SING): /data/reddylab/Kuei/singularity\n",
      "PATH OF PROJECT (FD_PRJ): /data/reddylab/Kuei/code/Proj_CombEffect_ENCODE_FCC\n",
      "PATH OF RESULTS (FD_RES): /data/reddylab/Kuei/out/proj_combeffect_encode_fcc\n",
      "PATH OF LOG     (FD_LOG): /data/reddylab/Kuei/out/proj_combeffect_encode_fcc/log\n",
      "\n"
     ]
    }
   ],
   "source": [
    "### set env\n",
    "source ../config/config_duke.sh\n",
    "source ../config/config_load_module_bedtools.sh\n",
    "show_env"
   ]
  },
  {
   "cell_type": "markdown",
   "id": "3f13c3da-f2c8-4066-ba0f-d214bdd3bee5",
   "metadata": {},
   "source": [
    "## Region to be annotated"
   ]
  },
  {
   "cell_type": "markdown",
   "id": "c6c0ff3b-888e-49c3-abaf-07d40e6e89d8",
   "metadata": {},
   "source": [
    "**Check data files**"
   ]
  },
  {
   "cell_type": "code",
   "execution_count": 2,
   "id": "252c18e7-0c12-43de-938b-8053c89e636b",
   "metadata": {},
   "outputs": [
    {
     "name": "stdout",
     "output_type": "stream",
     "text": [
      "enhancer_merge.concat.starrmpra_crispr_atac.active.bed.gz\n",
      "enhancer_merge.concat.starrmpra_crispr_atac.active.merge.bed.gz\n",
      "enhancer_merge.concat.starrmpra_crispr_atac.total.bed.gz\n",
      "enhancer_merge.concat.starrmpra_crispr_atac.total.merge.bed.gz\n"
     ]
    }
   ],
   "source": [
    "ls ${FD_RES}/results/region/annotation_enhancer_merge/*bed.gz | xargs -n 1 basename"
   ]
  },
  {
   "cell_type": "markdown",
   "id": "941af20b-1c31-4542-bab4-22fd27e64572",
   "metadata": {},
   "source": [
    "**Get data files**"
   ]
  },
  {
   "cell_type": "code",
   "execution_count": 3,
   "id": "87016ca2-d849-4b9f-899d-a8555c28357f",
   "metadata": {},
   "outputs": [],
   "source": [
    "FD_REG=${FD_RES}/results/region/annotation_enhancer_merge\n",
    "\n",
    "FN_REG=enhancer_merge.concat.starrmpra_crispr_atac.total.merge.bed.gz\n",
    "FP_REG_TOTAL=${FD_REG}/${FN_REG}\n",
    "ID_REG_TOTAL=region_total\n",
    "\n",
    "FN_REG=enhancer_merge.concat.starrmpra_crispr_atac.active.merge.bed.gz\n",
    "FP_REG_ACTIVE=${FD_REG}/${FN_REG}\n",
    "ID_REG_ACTIVE=region_active\n",
    "\n",
    "FP_REGS=(\n",
    "    ${FP_REG_TOTAL}\n",
    "    ${FP_REG_ACTIVE}\n",
    ")\n",
    "ID_REGS=(\n",
    "    ${ID_REG_TOTAL}\n",
    "    ${ID_REG_ACTIVE}\n",
    ")"
   ]
  },
  {
   "cell_type": "markdown",
   "id": "db4901bb-b7cf-4939-a81f-cb1a7b2d89aa",
   "metadata": {},
   "source": [
    "**Test loop**"
   ]
  },
  {
   "cell_type": "code",
   "execution_count": 4,
   "id": "b7ef618c-d04a-4860-9159-30699dcb7593",
   "metadata": {},
   "outputs": [
    {
     "name": "stdout",
     "output_type": "stream",
     "text": [
      "/data/reddylab/Kuei/out/proj_combeffect_encode_fcc/results/region/annotation_enhancer_merge/enhancer_merge.concat.starrmpra_crispr_atac.total.merge.bed.gz\n",
      "region_total\n",
      "\n",
      "/data/reddylab/Kuei/out/proj_combeffect_encode_fcc/results/region/annotation_enhancer_merge/enhancer_merge.concat.starrmpra_crispr_atac.active.merge.bed.gz\n",
      "region_active\n",
      "\n"
     ]
    }
   ],
   "source": [
    "for (( IDX = 0; IDX < ${#FP_REGS[@]}; IDX++)); do\n",
    "    FP_REG=${FP_REGS[${IDX}]}\n",
    "    ID_REG=${ID_REGS[${IDX}]}\n",
    "    echo ${FP_REG}\n",
    "    echo ${ID_REG}\n",
    "    echo\n",
    "done"
   ]
  },
  {
   "cell_type": "markdown",
   "id": "b53010ab-a24c-48ca-9dbf-92e35405759f",
   "metadata": {},
   "source": [
    "## Annotation files"
   ]
  },
  {
   "cell_type": "markdown",
   "id": "dd0870d5-6971-4f40-bc5e-074840bba5a9",
   "metadata": {},
   "source": [
    "**Get data files**"
   ]
  },
  {
   "cell_type": "code",
   "execution_count": 5,
   "id": "ce00af59-2487-4ce0-94f4-625e2168c8fe",
   "metadata": {},
   "outputs": [
    {
     "name": "stdout",
     "output_type": "stream",
     "text": [
      "annotation_tss_pol2\n",
      "K562.TSS.selected_by_highest_Pol2_signal.bed.gz\n",
      "K562.TSS.selected_by_highest_Pol2_signal.filtered_by_RNAseq_TPM.bed.gz\n",
      "\n",
      "annotation_ccre\n",
      "ccre_v3.bed.gz\n",
      "ccre_v4.bed.gz\n",
      "\n",
      "annotation_chromHMM\n",
      "K562.ENCSR365YNI.ENCFF106BGJ.ChromHMM.bed.gz\n",
      "\n"
     ]
    }
   ],
   "source": [
    "### TSS\n",
    "FOLDER=annotation_tss_pol2\n",
    "FD_ANT=${FD_RES}/results/region/${FOLDER}\n",
    "FP_ANTS_TSS=($(ls ${FD_ANT}/*bed.gz))\n",
    "\n",
    "echo ${FOLDER}\n",
    "basename -a ${FP_ANTS_TSS[@]}\n",
    "echo\n",
    "\n",
    "### cCREs\n",
    "FOLDER=annotation_ccre\n",
    "FD_ANT=${FD_RES}/results/region/${FOLDER}\n",
    "FP_ANTS_CCRES=($(ls ${FD_ANT}/*bed.gz))\n",
    "\n",
    "echo ${FOLDER}\n",
    "basename -a ${FP_ANTS_CCRES[@]}\n",
    "echo\n",
    "\n",
    "### ChromHMM\n",
    "FOLDER=annotation_chromHMM\n",
    "FD_ANT=${FD_RES}/results/region/${FOLDER}\n",
    "FP_ANTS_CHROMHMM=($(ls ${FD_ANT}/*bed.gz))\n",
    "\n",
    "echo ${FOLDER}\n",
    "basename -a ${FP_ANTS_CHROMHMM[@]}\n",
    "echo"
   ]
  },
  {
   "cell_type": "markdown",
   "id": "e5bcb4dc-b6dd-4cf8-b364-e17a1c6ac1fc",
   "metadata": {},
   "source": [
    "**Test loop**"
   ]
  },
  {
   "cell_type": "code",
   "execution_count": 6,
   "id": "809b4b88-cf7f-4967-a329-1f2e81b50bfe",
   "metadata": {},
   "outputs": [
    {
     "name": "stdout",
     "output_type": "stream",
     "text": [
      "File Folder (Annotation): annotation_tss_pol2\n",
      "File Prefix (Annotation): K562.TSS.selected_by_highest_Pol2_signal\n",
      "File Name   (Annotation): K562.TSS.selected_by_highest_Pol2_signal.bed.gz\n",
      "\n",
      "File Folder (Annotation): annotation_tss_pol2\n",
      "File Prefix (Annotation): K562.TSS.selected_by_highest_Pol2_signal.filtered_by_RNAseq_TPM\n",
      "File Name   (Annotation): K562.TSS.selected_by_highest_Pol2_signal.filtered_by_RNAseq_TPM.bed.gz\n",
      "\n",
      "File Folder (Annotation): annotation_ccre\n",
      "File Prefix (Annotation): ccre_v3\n",
      "File Name   (Annotation): ccre_v3.bed.gz\n",
      "\n",
      "File Folder (Annotation): annotation_ccre\n",
      "File Prefix (Annotation): ccre_v4\n",
      "File Name   (Annotation): ccre_v4.bed.gz\n",
      "\n",
      "File Folder (Annotation): annotation_chromHMM\n",
      "File Prefix (Annotation): K562.ENCSR365YNI.ENCFF106BGJ.ChromHMM\n",
      "File Name   (Annotation): K562.ENCSR365YNI.ENCFF106BGJ.ChromHMM.bed.gz\n",
      "\n"
     ]
    }
   ],
   "source": [
    "### concat\n",
    "FP_ANTS=(\n",
    "    ${FP_ANTS_TSS[@]}\n",
    "    ${FP_ANTS_CCRES[@]}\n",
    "    ${FP_ANTS_CHROMHMM[@]}\n",
    ")\n",
    "\n",
    "for FP_ANT in ${FP_ANTS[@]}; do\n",
    "    FD_ANT=$(dirname  ${FP_ANT})\n",
    "    FOLDER=$(basename ${FD_ANT})\n",
    "    \n",
    "    FN_ANT=$(basename ${FP_ANT})\n",
    "    PREFIX=${FN_ANT%.bed.gz}\n",
    "    \n",
    "    echo \"File Folder (Annotation):\" ${FOLDER}\n",
    "    echo \"File Prefix (Annotation):\" ${PREFIX}\n",
    "    echo \"File Name   (Annotation):\" ${FN_ANT}\n",
    "    echo\n",
    "done"
   ]
  },
  {
   "cell_type": "markdown",
   "id": "008ed37d-e45d-4444-acdf-e7385d317a93",
   "metadata": {},
   "source": [
    "## Perform annotation"
   ]
  },
  {
   "cell_type": "markdown",
   "id": "6a7dca55-c37a-4909-b10c-7a93b76f1214",
   "metadata": {},
   "source": [
    "**Test loop**"
   ]
  },
  {
   "cell_type": "code",
   "execution_count": 9,
   "id": "afe40ee6-ef1f-44b6-9b4d-ef4a3f300b46",
   "metadata": {},
   "outputs": [
    {
     "name": "stdout",
     "output_type": "stream",
     "text": [
      "File Folder (Annotation): annotation_tss_pol2\n",
      "File Prefix (Annotation): K562.TSS.selected_by_highest_Pol2_signal\n",
      "File Name   (Annotation): K562.TSS.selected_by_highest_Pol2_signal.bed.gz\n",
      "File folder (Output):     region_total\n",
      "File Name   (Output):     peak.annotation.K562.TSS.selected_by_highest_Pol2_signal.bed.gz\n",
      "File Path   (Log):        ${FD_LOG}/region_total.annotation.K562.TSS.selected_by_highest_Pol2_signal.txt\n",
      "\n",
      "/data/reddylab/Kuei/out/proj_combeffect_encode_fcc/results/region/annotation_enhancer_merge/enhancer_merge.concat.starrmpra_crispr_atac.total.merge.bed.gz\n",
      "/data/reddylab/Kuei/out/proj_combeffect_encode_fcc/results/region/annotation_tss_pol2/K562.TSS.selected_by_highest_Pol2_signal.bed.gz\n",
      "/data/reddylab/Kuei/out/proj_combeffect_encode_fcc/results/region/annotation_enhancer_merge/region_total/annotation_tss_pol2/peak.annotation.K562.TSS.selected_by_highest_Pol2_signal.bed.gz\n",
      "\n",
      "File Folder (Annotation): annotation_tss_pol2\n",
      "File Prefix (Annotation): K562.TSS.selected_by_highest_Pol2_signal.filtered_by_RNAseq_TPM\n",
      "File Name   (Annotation): K562.TSS.selected_by_highest_Pol2_signal.filtered_by_RNAseq_TPM.bed.gz\n",
      "File folder (Output):     region_total\n",
      "File Name   (Output):     peak.annotation.K562.TSS.selected_by_highest_Pol2_signal.filtered_by_RNAseq_TPM.bed.gz\n",
      "File Path   (Log):        ${FD_LOG}/region_total.annotation.K562.TSS.selected_by_highest_Pol2_signal.filtered_by_RNAseq_TPM.txt\n",
      "\n",
      "/data/reddylab/Kuei/out/proj_combeffect_encode_fcc/results/region/annotation_enhancer_merge/enhancer_merge.concat.starrmpra_crispr_atac.total.merge.bed.gz\n",
      "/data/reddylab/Kuei/out/proj_combeffect_encode_fcc/results/region/annotation_tss_pol2/K562.TSS.selected_by_highest_Pol2_signal.filtered_by_RNAseq_TPM.bed.gz\n",
      "/data/reddylab/Kuei/out/proj_combeffect_encode_fcc/results/region/annotation_enhancer_merge/region_total/annotation_tss_pol2/peak.annotation.K562.TSS.selected_by_highest_Pol2_signal.filtered_by_RNAseq_TPM.bed.gz\n",
      "\n",
      "File Folder (Annotation): annotation_ccre\n",
      "File Prefix (Annotation): ccre_v3\n",
      "File Name   (Annotation): ccre_v3.bed.gz\n",
      "File folder (Output):     region_total\n",
      "File Name   (Output):     peak.annotation.ccre_v3.bed.gz\n",
      "File Path   (Log):        ${FD_LOG}/region_total.annotation.ccre_v3.txt\n",
      "\n",
      "/data/reddylab/Kuei/out/proj_combeffect_encode_fcc/results/region/annotation_enhancer_merge/enhancer_merge.concat.starrmpra_crispr_atac.total.merge.bed.gz\n",
      "/data/reddylab/Kuei/out/proj_combeffect_encode_fcc/results/region/annotation_ccre/ccre_v3.bed.gz\n",
      "/data/reddylab/Kuei/out/proj_combeffect_encode_fcc/results/region/annotation_enhancer_merge/region_total/annotation_ccre/peak.annotation.ccre_v3.bed.gz\n",
      "\n",
      "File Folder (Annotation): annotation_ccre\n",
      "File Prefix (Annotation): ccre_v4\n",
      "File Name   (Annotation): ccre_v4.bed.gz\n",
      "File folder (Output):     region_total\n",
      "File Name   (Output):     peak.annotation.ccre_v4.bed.gz\n",
      "File Path   (Log):        ${FD_LOG}/region_total.annotation.ccre_v4.txt\n",
      "\n",
      "/data/reddylab/Kuei/out/proj_combeffect_encode_fcc/results/region/annotation_enhancer_merge/enhancer_merge.concat.starrmpra_crispr_atac.total.merge.bed.gz\n",
      "/data/reddylab/Kuei/out/proj_combeffect_encode_fcc/results/region/annotation_ccre/ccre_v4.bed.gz\n",
      "/data/reddylab/Kuei/out/proj_combeffect_encode_fcc/results/region/annotation_enhancer_merge/region_total/annotation_ccre/peak.annotation.ccre_v4.bed.gz\n",
      "\n",
      "File Folder (Annotation): annotation_chromHMM\n",
      "File Prefix (Annotation): K562.ENCSR365YNI.ENCFF106BGJ.ChromHMM\n",
      "File Name   (Annotation): K562.ENCSR365YNI.ENCFF106BGJ.ChromHMM.bed.gz\n",
      "File folder (Output):     region_total\n",
      "File Name   (Output):     peak.annotation.K562.ENCSR365YNI.ENCFF106BGJ.ChromHMM.bed.gz\n",
      "File Path   (Log):        ${FD_LOG}/region_total.annotation.K562.ENCSR365YNI.ENCFF106BGJ.ChromHMM.txt\n",
      "\n",
      "/data/reddylab/Kuei/out/proj_combeffect_encode_fcc/results/region/annotation_enhancer_merge/enhancer_merge.concat.starrmpra_crispr_atac.total.merge.bed.gz\n",
      "/data/reddylab/Kuei/out/proj_combeffect_encode_fcc/results/region/annotation_chromHMM/K562.ENCSR365YNI.ENCFF106BGJ.ChromHMM.bed.gz\n",
      "/data/reddylab/Kuei/out/proj_combeffect_encode_fcc/results/region/annotation_enhancer_merge/region_total/annotation_chromHMM/peak.annotation.K562.ENCSR365YNI.ENCFF106BGJ.ChromHMM.bed.gz\n",
      "\n",
      "File Folder (Annotation): annotation_tss_pol2\n",
      "File Prefix (Annotation): K562.TSS.selected_by_highest_Pol2_signal\n",
      "File Name   (Annotation): K562.TSS.selected_by_highest_Pol2_signal.bed.gz\n",
      "File folder (Output):     region_active\n",
      "File Name   (Output):     peak.annotation.K562.TSS.selected_by_highest_Pol2_signal.bed.gz\n",
      "File Path   (Log):        ${FD_LOG}/region_active.annotation.K562.TSS.selected_by_highest_Pol2_signal.txt\n",
      "\n",
      "/data/reddylab/Kuei/out/proj_combeffect_encode_fcc/results/region/annotation_enhancer_merge/enhancer_merge.concat.starrmpra_crispr_atac.active.merge.bed.gz\n",
      "/data/reddylab/Kuei/out/proj_combeffect_encode_fcc/results/region/annotation_tss_pol2/K562.TSS.selected_by_highest_Pol2_signal.bed.gz\n",
      "/data/reddylab/Kuei/out/proj_combeffect_encode_fcc/results/region/annotation_enhancer_merge/region_active/annotation_tss_pol2/peak.annotation.K562.TSS.selected_by_highest_Pol2_signal.bed.gz\n",
      "\n",
      "File Folder (Annotation): annotation_tss_pol2\n",
      "File Prefix (Annotation): K562.TSS.selected_by_highest_Pol2_signal.filtered_by_RNAseq_TPM\n",
      "File Name   (Annotation): K562.TSS.selected_by_highest_Pol2_signal.filtered_by_RNAseq_TPM.bed.gz\n",
      "File folder (Output):     region_active\n",
      "File Name   (Output):     peak.annotation.K562.TSS.selected_by_highest_Pol2_signal.filtered_by_RNAseq_TPM.bed.gz\n",
      "File Path   (Log):        ${FD_LOG}/region_active.annotation.K562.TSS.selected_by_highest_Pol2_signal.filtered_by_RNAseq_TPM.txt\n",
      "\n",
      "/data/reddylab/Kuei/out/proj_combeffect_encode_fcc/results/region/annotation_enhancer_merge/enhancer_merge.concat.starrmpra_crispr_atac.active.merge.bed.gz\n",
      "/data/reddylab/Kuei/out/proj_combeffect_encode_fcc/results/region/annotation_tss_pol2/K562.TSS.selected_by_highest_Pol2_signal.filtered_by_RNAseq_TPM.bed.gz\n",
      "/data/reddylab/Kuei/out/proj_combeffect_encode_fcc/results/region/annotation_enhancer_merge/region_active/annotation_tss_pol2/peak.annotation.K562.TSS.selected_by_highest_Pol2_signal.filtered_by_RNAseq_TPM.bed.gz\n",
      "\n",
      "File Folder (Annotation): annotation_ccre\n",
      "File Prefix (Annotation): ccre_v3\n",
      "File Name   (Annotation): ccre_v3.bed.gz\n",
      "File folder (Output):     region_active\n",
      "File Name   (Output):     peak.annotation.ccre_v3.bed.gz\n",
      "File Path   (Log):        ${FD_LOG}/region_active.annotation.ccre_v3.txt\n",
      "\n",
      "/data/reddylab/Kuei/out/proj_combeffect_encode_fcc/results/region/annotation_enhancer_merge/enhancer_merge.concat.starrmpra_crispr_atac.active.merge.bed.gz\n",
      "/data/reddylab/Kuei/out/proj_combeffect_encode_fcc/results/region/annotation_ccre/ccre_v3.bed.gz\n",
      "/data/reddylab/Kuei/out/proj_combeffect_encode_fcc/results/region/annotation_enhancer_merge/region_active/annotation_ccre/peak.annotation.ccre_v3.bed.gz\n",
      "\n",
      "File Folder (Annotation): annotation_ccre\n",
      "File Prefix (Annotation): ccre_v4\n",
      "File Name   (Annotation): ccre_v4.bed.gz\n",
      "File folder (Output):     region_active\n",
      "File Name   (Output):     peak.annotation.ccre_v4.bed.gz\n",
      "File Path   (Log):        ${FD_LOG}/region_active.annotation.ccre_v4.txt\n",
      "\n",
      "/data/reddylab/Kuei/out/proj_combeffect_encode_fcc/results/region/annotation_enhancer_merge/enhancer_merge.concat.starrmpra_crispr_atac.active.merge.bed.gz\n",
      "/data/reddylab/Kuei/out/proj_combeffect_encode_fcc/results/region/annotation_ccre/ccre_v4.bed.gz\n",
      "/data/reddylab/Kuei/out/proj_combeffect_encode_fcc/results/region/annotation_enhancer_merge/region_active/annotation_ccre/peak.annotation.ccre_v4.bed.gz\n",
      "\n",
      "File Folder (Annotation): annotation_chromHMM\n",
      "File Prefix (Annotation): K562.ENCSR365YNI.ENCFF106BGJ.ChromHMM\n",
      "File Name   (Annotation): K562.ENCSR365YNI.ENCFF106BGJ.ChromHMM.bed.gz\n",
      "File folder (Output):     region_active\n",
      "File Name   (Output):     peak.annotation.K562.ENCSR365YNI.ENCFF106BGJ.ChromHMM.bed.gz\n",
      "File Path   (Log):        ${FD_LOG}/region_active.annotation.K562.ENCSR365YNI.ENCFF106BGJ.ChromHMM.txt\n",
      "\n",
      "/data/reddylab/Kuei/out/proj_combeffect_encode_fcc/results/region/annotation_enhancer_merge/enhancer_merge.concat.starrmpra_crispr_atac.active.merge.bed.gz\n",
      "/data/reddylab/Kuei/out/proj_combeffect_encode_fcc/results/region/annotation_chromHMM/K562.ENCSR365YNI.ENCFF106BGJ.ChromHMM.bed.gz\n",
      "/data/reddylab/Kuei/out/proj_combeffect_encode_fcc/results/region/annotation_enhancer_merge/region_active/annotation_chromHMM/peak.annotation.K562.ENCSR365YNI.ENCFF106BGJ.ChromHMM.bed.gz\n",
      "\n"
     ]
    }
   ],
   "source": [
    "for (( IDX = 0; IDX < ${#FP_REGS[@]}; IDX++)); do\n",
    "    FP_REG=${FP_REGS[${IDX}]}\n",
    "    ID_REG=${ID_REGS[${IDX}]}\n",
    "    \n",
    "    for FP_ANT in ${FP_ANTS[@]}; do\n",
    "        FD_ANT=$(dirname  ${FP_ANT})\n",
    "        FN_ANT=$(basename ${FP_ANT})\n",
    "        \n",
    "        FOLDER_ANT=$(basename ${FD_ANT})\n",
    "        PREFIX_ANT=${FN_ANT%.bed.gz}\n",
    "        FOLDER_OUT=${ID_REG}\n",
    "\n",
    "        FN_LOG=${FOLDER_OUT}.annotation.${PREFIX_ANT}.txt\n",
    "        FP_LOG=${FD_LOG}/${FN_LOG}\n",
    "\n",
    "        FD_OUT=${FD_REG}/${FOLDER_OUT}/${FOLDER_ANT}\n",
    "        FN_OUT=peak.annotation.${FN_ANT}\n",
    "        FP_OUT=${FD_OUT}/${FN_OUT}\n",
    "        \n",
    "        echo \"File Folder (Annotation):\" ${FOLDER_ANT}\n",
    "        echo \"File Prefix (Annotation):\" ${PREFIX_ANT}\n",
    "        echo \"File Name   (Annotation):\" ${FN_ANT}\n",
    "        echo \"File folder (Output):    \" ${FOLDER_OUT}\n",
    "        echo \"File Name   (Output):    \" ${FN_OUT}\n",
    "        echo \"File Path   (Log):       \" '${FD_LOG}/'${FN_LOG}\n",
    "        echo\n",
    "        \n",
    "        echo ${FP_REG}\n",
    "        echo ${FP_ANT}\n",
    "        echo ${FP_OUT}\n",
    "        echo\n",
    "    done\n",
    "done"
   ]
  },
  {
   "cell_type": "markdown",
   "id": "dc78319f-d2f4-4458-8e43-7373092b2390",
   "metadata": {},
   "source": [
    "**Execute**"
   ]
  },
  {
   "cell_type": "code",
   "execution_count": 10,
   "id": "7a9b6746-66d3-4c4f-a4ef-c84401b318d8",
   "metadata": {},
   "outputs": [
    {
     "name": "stdout",
     "output_type": "stream",
     "text": [
      "File Folder (Annotation): annotation_tss_pol2\n",
      "File Prefix (Annotation): K562.TSS.selected_by_highest_Pol2_signal\n",
      "File Name   (Annotation): K562.TSS.selected_by_highest_Pol2_signal.bed.gz\n",
      "File folder (Output):     region_total\n",
      "File Name   (Output):     peak.annotation.K562.TSS.selected_by_highest_Pol2_signal.bed.gz\n",
      "File Path   (Log):        ${FD_LOG}/region_total.annotation.K562.TSS.selected_by_highest_Pol2_signal.txt\n",
      "\n",
      "Submitted batch job 30231176\n",
      "\n",
      "File Folder (Annotation): annotation_tss_pol2\n",
      "File Prefix (Annotation): K562.TSS.selected_by_highest_Pol2_signal.filtered_by_RNAseq_TPM\n",
      "File Name   (Annotation): K562.TSS.selected_by_highest_Pol2_signal.filtered_by_RNAseq_TPM.bed.gz\n",
      "File folder (Output):     region_total\n",
      "File Name   (Output):     peak.annotation.K562.TSS.selected_by_highest_Pol2_signal.filtered_by_RNAseq_TPM.bed.gz\n",
      "File Path   (Log):        ${FD_LOG}/region_total.annotation.K562.TSS.selected_by_highest_Pol2_signal.filtered_by_RNAseq_TPM.txt\n",
      "\n",
      "Submitted batch job 30231177\n",
      "\n",
      "File Folder (Annotation): annotation_ccre\n",
      "File Prefix (Annotation): ccre_v3\n",
      "File Name   (Annotation): ccre_v3.bed.gz\n",
      "File folder (Output):     region_total\n",
      "File Name   (Output):     peak.annotation.ccre_v3.bed.gz\n",
      "File Path   (Log):        ${FD_LOG}/region_total.annotation.ccre_v3.txt\n",
      "\n",
      "Submitted batch job 30231178\n",
      "\n",
      "File Folder (Annotation): annotation_ccre\n",
      "File Prefix (Annotation): ccre_v4\n",
      "File Name   (Annotation): ccre_v4.bed.gz\n",
      "File folder (Output):     region_total\n",
      "File Name   (Output):     peak.annotation.ccre_v4.bed.gz\n",
      "File Path   (Log):        ${FD_LOG}/region_total.annotation.ccre_v4.txt\n",
      "\n",
      "Submitted batch job 30231179\n",
      "\n",
      "File Folder (Annotation): annotation_chromHMM\n",
      "File Prefix (Annotation): K562.ENCSR365YNI.ENCFF106BGJ.ChromHMM\n",
      "File Name   (Annotation): K562.ENCSR365YNI.ENCFF106BGJ.ChromHMM.bed.gz\n",
      "File folder (Output):     region_total\n",
      "File Name   (Output):     peak.annotation.K562.ENCSR365YNI.ENCFF106BGJ.ChromHMM.bed.gz\n",
      "File Path   (Log):        ${FD_LOG}/region_total.annotation.K562.ENCSR365YNI.ENCFF106BGJ.ChromHMM.txt\n",
      "\n",
      "Submitted batch job 30231180\n",
      "\n",
      "File Folder (Annotation): annotation_tss_pol2\n",
      "File Prefix (Annotation): K562.TSS.selected_by_highest_Pol2_signal\n",
      "File Name   (Annotation): K562.TSS.selected_by_highest_Pol2_signal.bed.gz\n",
      "File folder (Output):     region_active\n",
      "File Name   (Output):     peak.annotation.K562.TSS.selected_by_highest_Pol2_signal.bed.gz\n",
      "File Path   (Log):        ${FD_LOG}/region_active.annotation.K562.TSS.selected_by_highest_Pol2_signal.txt\n",
      "\n",
      "Submitted batch job 30231181\n",
      "\n",
      "File Folder (Annotation): annotation_tss_pol2\n",
      "File Prefix (Annotation): K562.TSS.selected_by_highest_Pol2_signal.filtered_by_RNAseq_TPM\n",
      "File Name   (Annotation): K562.TSS.selected_by_highest_Pol2_signal.filtered_by_RNAseq_TPM.bed.gz\n",
      "File folder (Output):     region_active\n",
      "File Name   (Output):     peak.annotation.K562.TSS.selected_by_highest_Pol2_signal.filtered_by_RNAseq_TPM.bed.gz\n",
      "File Path   (Log):        ${FD_LOG}/region_active.annotation.K562.TSS.selected_by_highest_Pol2_signal.filtered_by_RNAseq_TPM.txt\n",
      "\n",
      "Submitted batch job 30231182\n",
      "\n",
      "File Folder (Annotation): annotation_ccre\n",
      "File Prefix (Annotation): ccre_v3\n",
      "File Name   (Annotation): ccre_v3.bed.gz\n",
      "File folder (Output):     region_active\n",
      "File Name   (Output):     peak.annotation.ccre_v3.bed.gz\n",
      "File Path   (Log):        ${FD_LOG}/region_active.annotation.ccre_v3.txt\n",
      "\n",
      "Submitted batch job 30231183\n",
      "\n",
      "File Folder (Annotation): annotation_ccre\n",
      "File Prefix (Annotation): ccre_v4\n",
      "File Name   (Annotation): ccre_v4.bed.gz\n",
      "File folder (Output):     region_active\n",
      "File Name   (Output):     peak.annotation.ccre_v4.bed.gz\n",
      "File Path   (Log):        ${FD_LOG}/region_active.annotation.ccre_v4.txt\n",
      "\n",
      "Submitted batch job 30231184\n",
      "\n",
      "File Folder (Annotation): annotation_chromHMM\n",
      "File Prefix (Annotation): K562.ENCSR365YNI.ENCFF106BGJ.ChromHMM\n",
      "File Name   (Annotation): K562.ENCSR365YNI.ENCFF106BGJ.ChromHMM.bed.gz\n",
      "File folder (Output):     region_active\n",
      "File Name   (Output):     peak.annotation.K562.ENCSR365YNI.ENCFF106BGJ.ChromHMM.bed.gz\n",
      "File Path   (Log):        ${FD_LOG}/region_active.annotation.K562.ENCSR365YNI.ENCFF106BGJ.ChromHMM.txt\n",
      "\n",
      "Submitted batch job 30231185\n",
      "\n"
     ]
    }
   ],
   "source": [
    "for (( IDX = 0; IDX < ${#FP_REGS[@]}; IDX++)); do\n",
    "    FP_REG=${FP_REGS[${IDX}]}\n",
    "    ID_REG=${ID_REGS[${IDX}]}\n",
    "    \n",
    "    for FP_ANT in ${FP_ANTS[@]}; do\n",
    "        FD_ANT=$(dirname  ${FP_ANT})\n",
    "        FN_ANT=$(basename ${FP_ANT})\n",
    "        \n",
    "        FOLDER_ANT=$(basename ${FD_ANT})\n",
    "        PREFIX_ANT=${FN_ANT%.bed.gz}\n",
    "        FOLDER_OUT=${ID_REG}\n",
    "\n",
    "        FN_LOG=${FOLDER_OUT}.annotation.${PREFIX_ANT}.txt\n",
    "        FP_LOG=${FD_LOG}/${FN_LOG}\n",
    "\n",
    "        FD_OUT=${FD_REG}/${FOLDER_OUT}/${FOLDER_ANT}\n",
    "        FN_OUT=peak.annotation.${FN_ANT}\n",
    "        FP_OUT=${FD_OUT}/${FN_OUT}\n",
    "        \n",
    "        echo \"File Folder (Annotation):\" ${FOLDER_ANT}\n",
    "        echo \"File Prefix (Annotation):\" ${PREFIX_ANT}\n",
    "        echo \"File Name   (Annotation):\" ${FN_ANT}\n",
    "        echo \"File folder (Output):    \" ${FOLDER_OUT}\n",
    "        echo \"File Name   (Output):    \" ${FN_OUT}\n",
    "        echo \"File Path   (Log):       \" '${FD_LOG}/'${FN_LOG}\n",
    "        echo\n",
    "        mkdir  -p ${FD_OUT}\n",
    "        sbatch -p ${NODE} \\\n",
    "            --exclude=dl-01 \\\n",
    "            --cpus-per-task 4 \\\n",
    "            --mem 4G \\\n",
    "            --output ${FP_LOG} \\\n",
    "            ../scripts/run_bedtools_annot.sh ${FP_REG} ${FP_ANT} ${FP_OUT}\n",
    "        echo\n",
    "    done\n",
    "done"
   ]
  },
  {
   "cell_type": "code",
   "execution_count": 36,
   "id": "bdb6b064-6f70-4dcd-a360-dac9f973fa2c",
   "metadata": {},
   "outputs": [
    {
     "name": "stdout",
     "output_type": "stream",
     "text": [
      "File Folder (Annotation): annotation_tss_pol2\n",
      "File Prefix (Annotation): K562.TSS.selected_by_highest_Pol2_signal\n",
      "File Name   (Annotation): K562.TSS.selected_by_highest_Pol2_signal.bed.gz\n",
      "File Prefix (Output):     region_total\n",
      "File Name   (Output):     region_total.annotation.K562.TSS.selected_by_highest_Pol2_signal.bed.gz\n",
      "File Path   (Log):        ${FD_LOG}/region_total.annotation.K562.TSS.selected_by_highest_Pol2_signal.txt\n",
      "\n",
      "Submitted batch job 30231149\n",
      "\n",
      "File Folder (Annotation): annotation_tss_pol2\n",
      "File Prefix (Annotation): K562.TSS.selected_by_highest_Pol2_signal.filtered_by_RNAseq_TPM\n",
      "File Name   (Annotation): K562.TSS.selected_by_highest_Pol2_signal.filtered_by_RNAseq_TPM.bed.gz\n",
      "File Prefix (Output):     region_total\n",
      "File Name   (Output):     region_total.annotation.K562.TSS.selected_by_highest_Pol2_signal.filtered_by_RNAseq_TPM.bed.gz\n",
      "File Path   (Log):        ${FD_LOG}/region_total.annotation.K562.TSS.selected_by_highest_Pol2_signal.filtered_by_RNAseq_TPM.txt\n",
      "\n",
      "Submitted batch job 30231150\n",
      "\n",
      "File Folder (Annotation): annotation_ccre\n",
      "File Prefix (Annotation): ccre_v3\n",
      "File Name   (Annotation): ccre_v3.bed.gz\n",
      "File Prefix (Output):     region_total\n",
      "File Name   (Output):     region_total.annotation.ccre_v3.bed.gz\n",
      "File Path   (Log):        ${FD_LOG}/region_total.annotation.ccre_v3.txt\n",
      "\n",
      "Submitted batch job 30231151\n",
      "\n",
      "File Folder (Annotation): annotation_ccre\n",
      "File Prefix (Annotation): ccre_v4\n",
      "File Name   (Annotation): ccre_v4.bed.gz\n",
      "File Prefix (Output):     region_total\n",
      "File Name   (Output):     region_total.annotation.ccre_v4.bed.gz\n",
      "File Path   (Log):        ${FD_LOG}/region_total.annotation.ccre_v4.txt\n",
      "\n",
      "Submitted batch job 30231152\n",
      "\n",
      "File Folder (Annotation): annotation_chromHMM\n",
      "File Prefix (Annotation): K562.ENCSR365YNI.ENCFF106BGJ.ChromHMM\n",
      "File Name   (Annotation): K562.ENCSR365YNI.ENCFF106BGJ.ChromHMM.bed.gz\n",
      "File Prefix (Output):     region_total\n",
      "File Name   (Output):     region_total.annotation.K562.ENCSR365YNI.ENCFF106BGJ.ChromHMM.bed.gz\n",
      "File Path   (Log):        ${FD_LOG}/region_total.annotation.K562.ENCSR365YNI.ENCFF106BGJ.ChromHMM.txt\n",
      "\n",
      "Submitted batch job 30231153\n",
      "\n",
      "File Folder (Annotation): annotation_tss_pol2\n",
      "File Prefix (Annotation): K562.TSS.selected_by_highest_Pol2_signal\n",
      "File Name   (Annotation): K562.TSS.selected_by_highest_Pol2_signal.bed.gz\n",
      "File Prefix (Output):     region_active\n",
      "File Name   (Output):     region_active.annotation.K562.TSS.selected_by_highest_Pol2_signal.bed.gz\n",
      "File Path   (Log):        ${FD_LOG}/region_active.annotation.K562.TSS.selected_by_highest_Pol2_signal.txt\n",
      "\n",
      "Submitted batch job 30231154\n",
      "\n",
      "File Folder (Annotation): annotation_tss_pol2\n",
      "File Prefix (Annotation): K562.TSS.selected_by_highest_Pol2_signal.filtered_by_RNAseq_TPM\n",
      "File Name   (Annotation): K562.TSS.selected_by_highest_Pol2_signal.filtered_by_RNAseq_TPM.bed.gz\n",
      "File Prefix (Output):     region_active\n",
      "File Name   (Output):     region_active.annotation.K562.TSS.selected_by_highest_Pol2_signal.filtered_by_RNAseq_TPM.bed.gz\n",
      "File Path   (Log):        ${FD_LOG}/region_active.annotation.K562.TSS.selected_by_highest_Pol2_signal.filtered_by_RNAseq_TPM.txt\n",
      "\n",
      "Submitted batch job 30231155\n",
      "\n",
      "File Folder (Annotation): annotation_ccre\n",
      "File Prefix (Annotation): ccre_v3\n",
      "File Name   (Annotation): ccre_v3.bed.gz\n",
      "File Prefix (Output):     region_active\n",
      "File Name   (Output):     region_active.annotation.ccre_v3.bed.gz\n",
      "File Path   (Log):        ${FD_LOG}/region_active.annotation.ccre_v3.txt\n",
      "\n",
      "Submitted batch job 30231156\n",
      "\n",
      "File Folder (Annotation): annotation_ccre\n",
      "File Prefix (Annotation): ccre_v4\n",
      "File Name   (Annotation): ccre_v4.bed.gz\n",
      "File Prefix (Output):     region_active\n",
      "File Name   (Output):     region_active.annotation.ccre_v4.bed.gz\n",
      "File Path   (Log):        ${FD_LOG}/region_active.annotation.ccre_v4.txt\n",
      "\n",
      "Submitted batch job 30231157\n",
      "\n",
      "File Folder (Annotation): annotation_chromHMM\n",
      "File Prefix (Annotation): K562.ENCSR365YNI.ENCFF106BGJ.ChromHMM\n",
      "File Name   (Annotation): K562.ENCSR365YNI.ENCFF106BGJ.ChromHMM.bed.gz\n",
      "File Prefix (Output):     region_active\n",
      "File Name   (Output):     region_active.annotation.K562.ENCSR365YNI.ENCFF106BGJ.ChromHMM.bed.gz\n",
      "File Path   (Log):        ${FD_LOG}/region_active.annotation.K562.ENCSR365YNI.ENCFF106BGJ.ChromHMM.txt\n",
      "\n",
      "Submitted batch job 30231158\n",
      "\n"
     ]
    }
   ],
   "source": [
    "for (( IDX = 0; IDX < ${#FP_REGS[@]}; IDX++)); do\n",
    "    FP_REG=${FP_REGS[${IDX}]}\n",
    "    ID_REG=${ID_REGS[${IDX}]}\n",
    "    \n",
    "    for FP_ANT in ${FP_ANTS[@]}; do\n",
    "        FD_ANT=$(dirname  ${FP_ANT})\n",
    "        FN_ANT=$(basename ${FP_ANT})\n",
    "        \n",
    "        FOLDER_ANT=$(basename ${FD_ANT})\n",
    "        PREFIX_ANT=${FN_ANT%.bed.gz}\n",
    "        PREFIX_OUT=${ID_REG}\n",
    "\n",
    "        FN_LOG=${PREFIX_OUT}.annotation.${PREFIX_ANT}.txt\n",
    "        FP_LOG=${FD_LOG}/${FN_LOG}\n",
    "\n",
    "        FD_OUT=${FD_REG}/${FOLDER_ANT}\n",
    "        FN_OUT=${PREFIX_OUT}.annotation.${FN_ANT}\n",
    "        FP_OUT=${FD_OUT}/${FN_OUT}\n",
    "        \n",
    "        echo \"File Folder (Annotation):\" ${FOLDER_ANT}\n",
    "        echo \"File Prefix (Annotation):\" ${PREFIX_ANT}\n",
    "        echo \"File Name   (Annotation):\" ${FN_ANT}\n",
    "        echo \"File Prefix (Output):    \" ${PREFIX_OUT}\n",
    "        echo \"File Name   (Output):    \" ${FN_OUT}\n",
    "        echo \"File Path   (Log):       \" '${FD_LOG}/'${FN_LOG}\n",
    "        echo\n",
    "        mkdir  -p ${FD_OUT}\n",
    "        sbatch -p ${NODE} \\\n",
    "            --exclude=dl-01 \\\n",
    "            --cpus-per-task 4 \\\n",
    "            --mem 4G \\\n",
    "            --output ${FP_LOG} \\\n",
    "            ../scripts/run_bedtools_annot.sh ${FP_REG} ${FP_ANT} ${FP_OUT}\n",
    "        echo\n",
    "    done\n",
    "done"
   ]
  },
  {
   "cell_type": "markdown",
   "id": "e769ccba-59fc-4542-ba60-6b7fa8490610",
   "metadata": {},
   "source": [
    "**Check results**"
   ]
  },
  {
   "cell_type": "code",
   "execution_count": 11,
   "id": "25843be7-b8b8-4aae-b060-ca6eddff5490",
   "metadata": {},
   "outputs": [
    {
     "name": "stdout",
     "output_type": "stream",
     "text": [
      "Hostname:           x1-03-2.genome.duke.edu\n",
      "Slurm Array Index: \n",
      "Time Stamp:         09-05-23+11:44:18\n",
      "\n",
      "Input:  /data/reddylab/Kuei/out/proj_combeffect_encode_fcc/results/region/annotation_enhancer_merge/enhancer_merge.concat.starrmpra_crispr_atac.total.merge.bed.gz\n",
      "\n",
      "show first few lines of input\n",
      "chr1\t10015\t10442\tATAC\tATAC\n",
      "chr1\t14253\t14645\tATAC\tATAC\n",
      "chr1\t16015\t16477\tATAC\tATAC\n",
      "chr1\t17237\t17772\tATAC\tATAC\n",
      "chr1\t28903\t29613\tATAC\tATAC\n",
      "chr1\t30803\t31072\tATAC\tATAC\n",
      "chr1\t101603\t101849\tATAC\tATAC\n",
      "chr1\t115411\t115986\tATAC,ENCODE-E2G_Prediction\tATAC,ENCODE-E2G_Prediction:SAMD11\n",
      "chr1\t118518\t118743\tATAC\tATAC\n",
      "chr1\t136071\t137429\tASTARR,ATAC\tASTARR_R,ATAC\n",
      "\n",
      "Input:  /data/reddylab/Kuei/out/proj_combeffect_encode_fcc/results/region/annotation_tss_pol2/K562.TSS.selected_by_highest_Pol2_signal.bed.gz\n",
      "\n",
      "show first few lines of input\n",
      "chr1\t11873\t11874\tDDX11L1\t2.3e-4\n",
      "chr1\t17436\t17437\tMIR6859-1\t9.43812\n",
      "chr1\t17436\t17437\tMIR6859-2\t9.43812\n",
      "chr1\t17436\t17437\tMIR6859-3\t9.43812\n",
      "chr1\t17436\t17437\tMIR6859-4\t9.43812\n",
      "chr1\t29370\t29371\tWASH7P\t2.3e-4\n",
      "chr1\t30365\t30366\tMIR1302-10\t0.562995\n",
      "chr1\t30365\t30366\tMIR1302-11\t0.562995\n",
      "chr1\t30365\t30366\tMIR1302-2\t0.562995\n",
      "chr1\t30365\t30366\tMIR1302-9\t0.562995\n",
      "\n",
      "\n",
      "Output:  /data/reddylab/Kuei/out/proj_combeffect_encode_fcc/results/region/annotation_enhancer_merge/region_total/annotation_tss_pol2/peak.annotation.K562.TSS.selected_by_highest_Pol2_signal.bed.gz\n",
      "\n",
      "show first few lines of output:\n",
      "chr1\t17237\t17772\tATAC\tATAC\tchr1\t17436\t17437\tMIR6859-1\t9.43812\t1\n",
      "chr1\t17237\t17772\tATAC\tATAC\tchr1\t17436\t17437\tMIR6859-2\t9.43812\t1\n",
      "chr1\t17237\t17772\tATAC\tATAC\tchr1\t17436\t17437\tMIR6859-3\t9.43812\t1\n",
      "chr1\t17237\t17772\tATAC\tATAC\tchr1\t17436\t17437\tMIR6859-4\t9.43812\t1\n",
      "chr1\t28903\t29613\tATAC\tATAC\tchr1\t29370\t29371\tWASH7P\t2.3e-4\t1\n",
      "chr1\t628759\t629259\tENCODE-E2G_Prediction\tENCODE-E2G_Prediction:PLEKHN1,ENCODE-E2G_Prediction:RNF223,ENCODE-E2G_Prediction:SAMD11,ENCODE-E2G_Prediction:SCNN1D,ENCODE-E2G_Prediction:TNFRSF18,ENCODE-E2G_Prediction:TTLL10\tchr1\t629009\t629010\tLOC101928626\t2.3e-4\t1\n",
      "chr1\t632439\t632939\tENCODE-E2G_Prediction\tENCODE-E2G_Prediction:AGRN,ENCODE-E2G_Prediction:CALML6,ENCODE-E2G_Prediction:CFAP74,ENCODE-E2G_Prediction:FAM87B,ENCODE-E2G_Prediction:ISG15,ENCODE-E2G_Prediction:KLHL17,ENCODE-E2G_Prediction:LINC00115,ENCODE-E2G_Prediction:LINC01128,ENCODE-E2G_Prediction:LINC01342,ENCODE-E2G_Prediction:LOC100288069,ENCODE-E2G_Prediction:LOC105378591,ENCODE-E2G_Prediction:MMEL1,ENCODE-E2G_Prediction:PLEKHN1,ENCODE-E2G_Prediction:PRKCZ,ENCODE-E2G_Prediction:RNF223,ENCODE-E2G_Prediction:SAMD11,ENCODE-E2G_Prediction:SCNN1D,ENCODE-E2G_Prediction:TNFRSF18,ENCODE-E2G_Prediction:TNFRSF4,ENCODE-E2G_Prediction:TP73,ENCODE-E2G_Prediction:TP73-AS1,ENCODE-E2G_Prediction:TPRG1L,ENCODE-E2G_Prediction:TTLL10\tchr1\t632685\t632686\tMIR12136\t0.0730961\t1\n",
      "chr1\t777949\t779437\tASTARR,ATAC,ENCODE-E2G_Prediction,LMPRA,WSTARR\tASTARR_A,ATAC,ENCODE-E2G_Prediction:FAM87B,ENCODE-E2G_Prediction:LINC00115,ENCODE-E2G_Prediction:LINC01128,ENCODE-E2G_Prediction:LOC100288069,ENCODE-E2G_Prediction:SAMD11,LMPRA_A,WSTARR_A,WSTARR_AB\tchr1\t778634\t778635\tLOC100288069\t230.561\t1\n",
      "chr1\t816774\t817620\tATAC,ENCODE-E2G_Prediction\tATAC,ENCODE-E2G_Prediction:FAM87B,ENCODE-E2G_Prediction:LINC00115,ENCODE-E2G_Prediction:LINC01128\tchr1\t817370\t817371\tFAM87B\t1.06609\t1\n",
      "chr1\t826642\t828050\tASTARR,ATAC,CRISPRi-Growth,ENCODE-E2G_Prediction,LMPRA,WSTARR\tASTARR_R,ATAC,CRISPRi-Growth,ENCODE-E2G_Prediction:FAM87B,ENCODE-E2G_Prediction:LINC00115,ENCODE-E2G_Prediction:LINC01128,ENCODE-E2G_Prediction:LOC100288069,ENCODE-E2G_Prediction:SAMD11,LMPRA_A,WSTARR_A,WSTARR_AB\tchr1\t827522\t827523\tLINC00115\t64.4656\t1\n",
      "\n",
      "\n",
      "Done!\n",
      "Run Time: 1 seconds\n"
     ]
    }
   ],
   "source": [
    "cat ${FD_LOG}/region_total.annotation.K562.TSS.selected_by_highest_Pol2_signal.txt"
   ]
  },
  {
   "cell_type": "code",
   "execution_count": null,
   "id": "4b82ed73-a79d-499f-bc4e-4befd53f4c60",
   "metadata": {},
   "outputs": [],
   "source": []
  },
  {
   "cell_type": "code",
   "execution_count": null,
   "id": "7a06e840-3d74-4522-ada4-ed578cc667ad",
   "metadata": {},
   "outputs": [],
   "source": []
  },
  {
   "cell_type": "code",
   "execution_count": null,
   "id": "b7d2d275-6ab3-429c-86f1-43a43d436fde",
   "metadata": {},
   "outputs": [],
   "source": []
  },
  {
   "cell_type": "code",
   "execution_count": null,
   "id": "e84d4e9c-7386-4c8b-a07d-9f6a48f69b8a",
   "metadata": {},
   "outputs": [],
   "source": []
  },
  {
   "cell_type": "code",
   "execution_count": null,
   "id": "f661740e-89d7-4a3d-883d-c45388f49e06",
   "metadata": {},
   "outputs": [],
   "source": []
  },
  {
   "cell_type": "code",
   "execution_count": null,
   "id": "69c7e5d7-5449-4441-85a2-877c846a4953",
   "metadata": {},
   "outputs": [],
   "source": []
  },
  {
   "cell_type": "markdown",
   "id": "e70c95dd-0afa-4ff0-a979-09e85d027ae1",
   "metadata": {},
   "source": [
    "## Annotation: cCREs"
   ]
  },
  {
   "cell_type": "markdown",
   "id": "51fb2fd5-1eaa-44cf-8361-31ad4934c8a9",
   "metadata": {},
   "source": [
    "**Check data**"
   ]
  },
  {
   "cell_type": "code",
   "execution_count": 4,
   "id": "0b875f57-1a07-489e-9f85-4cc63ff5064e",
   "metadata": {},
   "outputs": [
    {
     "name": "stdout",
     "output_type": "stream",
     "text": [
      "ccre_v3.bed.gz\n",
      "ccre_v4.bed.gz\n"
     ]
    }
   ],
   "source": [
    "FOLDER=annotation_ccre\n",
    "FD_ANT=${FD_RES}/results/region/${FOLDER}\n",
    "FP_ANTS=($(ls ${FD_ANT}/*bed.gz))\n",
    "\n",
    "basename -a ${FP_ANTS[@]}"
   ]
  },
  {
   "cell_type": "markdown",
   "id": "a553c1b8-806c-43f2-bcea-027b3a0125a5",
   "metadata": {},
   "source": [
    "**Execute**"
   ]
  },
  {
   "cell_type": "code",
   "execution_count": 12,
   "id": "ee5e6838-b5dc-4cc3-9721-8d79c539e1de",
   "metadata": {},
   "outputs": [
    {
     "name": "stdout",
     "output_type": "stream",
     "text": [
      "region.starrmpra_crispri_atac.annotation.ccre_v4.%a.txt\n",
      "region.starrmpra_crispri_atac.annotation.ccre_v4.0.txt\n"
     ]
    }
   ],
   "source": [
    "FN_LOG=region.starrmpra_crispri_atac.annotation.${PREFIX}.%a.txt\n",
    "echo ${FN_LOG}\n",
    "echo ${FN_LOG/\\%a/0}"
   ]
  },
  {
   "cell_type": "code",
   "execution_count": 13,
   "id": "f9641ca8-6e31-4e4c-b7b4-3760e470454b",
   "metadata": {},
   "outputs": [
    {
     "name": "stdout",
     "output_type": "stream",
     "text": [
      "File Folder (Output):\n",
      "/data/reddylab/Kuei/out/proj_combeffect_encode_fcc/results/region/annotation_enhancer_merge/annotation_ccre\n",
      "\n",
      "File Prefix (Annotation): ccre_v3\n",
      "File Name   (Annotation): ccre_v3.bed.gz\n",
      "File Name (Output): region.starrmpra_crispri_atac.annotation.ccre_v3.bed.gz\n",
      "File Path (Log):    ${FD_LOG}/region.starrmpra_crispri_atac.annotation.ccre_v3.0.txt\n",
      "\n",
      "Submitted batch job 30028941\n",
      "\n",
      "File Prefix (Annotation): ccre_v4\n",
      "File Name   (Annotation): ccre_v4.bed.gz\n",
      "File Name (Output): region.starrmpra_crispri_atac.annotation.ccre_v4.bed.gz\n",
      "File Path (Log):    ${FD_LOG}/region.starrmpra_crispri_atac.annotation.ccre_v4.0.txt\n",
      "\n",
      "Submitted batch job 30028942\n",
      "\n"
     ]
    }
   ],
   "source": [
    "FOLDER=annotation_ccre\n",
    "FD_ANT=${FD_RES}/results/region/${FOLDER}\n",
    "FP_ANTS=($(ls ${FD_ANT}/*bed.gz))\n",
    "\n",
    "FD_OUT=${FD_REG}/${FOLDER}\n",
    "mkdir -p ${FD_OUT}\n",
    "echo \"File Folder (Output):\"\n",
    "echo ${FD_OUT}\n",
    "echo \n",
    "\n",
    "for FP_ANT in ${FP_ANTS[@]}; do\n",
    "    FN_ANT=$(basename ${FP_ANT})\n",
    "    PREFIX=${FN_ANT%.bed.gz}\n",
    "    \n",
    "    FN_LOG=region.starrmpra_crispri_atac.annotation.${PREFIX}.%a.txt\n",
    "    FP_LOG='${FD_LOG}'/${FN_LOG/\\%a/0}\n",
    "    \n",
    "    FD_OUT=${FD_REG}/${FOLDER}\n",
    "    FN_OUT=region.starrmpra_crispri_atac.annotation.${FN_ANT}\n",
    "    FP_OUT=${FD_OUT}/${FN_OUT}\n",
    "    \n",
    "    echo \"File Prefix (Annotation):\" ${PREFIX}\n",
    "    echo \"File Name   (Annotation):\" ${FN_ANT}\n",
    "    echo \"File Name (Output):\" ${FN_OUT}\n",
    "    echo \"File Path (Log):   \" ${FP_LOG}\n",
    "    echo\n",
    "    sbatch -p ${NODE} \\\n",
    "        --exclude=dl-01 \\\n",
    "        --cpus-per-task 4 \\\n",
    "        --mem 4G \\\n",
    "        --output ${FD_LOG}/${FN_LOG} \\\n",
    "        --array 0 \\\n",
    "        ./run_annot.sh ${FP_REG} ${FP_ANT} ${FP_OUT}\n",
    "    echo\n",
    "done"
   ]
  },
  {
   "cell_type": "markdown",
   "id": "56142ebf-1d68-4b8e-aba4-bf52031a60f6",
   "metadata": {},
   "source": [
    "**Check results**"
   ]
  },
  {
   "cell_type": "code",
   "execution_count": 14,
   "id": "a29fecb4-31a1-4711-af13-808562769110",
   "metadata": {},
   "outputs": [
    {
     "name": "stdout",
     "output_type": "stream",
     "text": [
      "Hostname:           x1-01-2.genome.duke.edu\n",
      "Slurm Array Index:  0\n",
      "Time Stamp:         06-26-23+00:00:27\n",
      "\n",
      "Input:  /data/reddylab/Kuei/out/proj_combeffect_encode_fcc/results/region/annotation_enhancer_merge/enhancer_merge.region.starrmpra_crispri_atac.bed.gz\n",
      "\n",
      "show first few lines of input\n",
      "chr1\t10015\t10442\tATAC\tATAC\n",
      "chr1\t14253\t14645\tATAC\tATAC\n",
      "chr1\t16015\t16477\tATAC\tATAC\n",
      "chr1\t17237\t17772\tATAC\tATAC\n",
      "chr1\t28903\t29613\tATAC\tATAC\n",
      "\n",
      "Input:  /data/reddylab/Kuei/out/proj_combeffect_encode_fcc/results/region/annotation_ccre/ccre_v3.bed.gz\n",
      "\n",
      "show first few lines of input\n",
      "chr1\t181251\t181601\tEH38E1310153\t0\t.\t181251\t181601\t6,218,147\tDNase-only\tAll-data/Full-classification\n",
      "chr1\t190865\t191071\tEH38E1310154\t0\t.\t190865\t191071\t225,225,225\tLow-DNase\tAll-data/Full-classification\n",
      "chr1\t778562\t778912\tEH38E1310158\t0\t.\t778562\t778912\t255,0,0\tPLS,CTCF-bound\tAll-data/Full-classification\n",
      "chr1\t779086\t779355\tEH38E1310159\t0\t.\t779086\t779355\t255,0,0\tPLS\tAll-data/Full-classification\n",
      "chr1\t779727\t780060\tEH38E1310160\t0\t.\t779727\t780060\t225,225,225\tLow-DNase\tAll-data/Full-classification\n",
      "\n",
      "\n",
      "Output:  /data/reddylab/Kuei/out/proj_combeffect_encode_fcc/results/region/annotation_enhancer_merge/annotation_ccre/region.starrmpra_crispri_atac.annotation.ccre_v3.bed.gz\n",
      "\n",
      "show first few lines of output:\n",
      "chr1\t180982\t182087\tASTARR,ATAC\tASTARR_R,ATAC\tchr1\t181251\t181601\tEH38E1310153\t0\t.\t181251\t181601\t6,218,147\tDNase-only\tAll-data/Full-classification\t350\n",
      "chr1\t777949\t779437\tASTARR,ATAC,LMPRA,WSTARR\tASTARR_A,ATAC,LMPRA_A,WSTARR_A,WSTARR_AB\tchr1\t778562\t778912\tEH38E1310158\t0\t.\t778562\t778912\t255,0,0\tPLS,CTCF-bound\tAll-data/Full-classification\t350\n",
      "chr1\t777949\t779437\tASTARR,ATAC,LMPRA,WSTARR\tASTARR_A,ATAC,LMPRA_A,WSTARR_A,WSTARR_AB\tchr1\t779086\t779355\tEH38E1310159\t0\t.\t779086\t779355\t255,0,0\tPLS\tAll-data/Full-classification\t269\n",
      "chr1\t816774\t817547\tATAC\tATAC\tchr1\t817080\t817403\tEH38E1310166\t0\t.\t817080\t817403\t225,225,225\tLow-DNase\tAll-data/Full-classification\t323\n",
      "chr1\t817905\t818348\tATAC\tATAC\tchr1\t817903\t818252\tEH38E1310167\t0\t.\t817903\t818252\t225,225,225\tLow-DNase\tAll-data/Full-classification\t347\n",
      "\n",
      "\n",
      "Done!\n",
      "Run Time: 4 seconds\n"
     ]
    }
   ],
   "source": [
    "cat ${FD_LOG}/region.starrmpra_crispri_atac.annotation.ccre_v3.0.txt"
   ]
  },
  {
   "cell_type": "code",
   "execution_count": 15,
   "id": "80e6e5d1-01ce-43fa-8a49-2ac862b183b6",
   "metadata": {},
   "outputs": [
    {
     "name": "stdout",
     "output_type": "stream",
     "text": [
      "Hostname:           x1-01-2.genome.duke.edu\n",
      "Slurm Array Index:  0\n",
      "Time Stamp:         06-25-23+23:58:51\n",
      "\n",
      "Input:  /data/reddylab/Kuei/out/proj_combeffect_encode_fcc/results/region/annotation_enhancer_merge/enhancer_merge.region.starrmpra_crispri_atac.bed.gz\n",
      "\n",
      "show first few lines of input\n",
      "chr1\t10015\t10442\tATAC\tATAC\n",
      "chr1\t14253\t14645\tATAC\tATAC\n",
      "chr1\t16015\t16477\tATAC\tATAC\n",
      "chr1\t17237\t17772\tATAC\tATAC\n",
      "chr1\t28903\t29613\tATAC\tATAC\n",
      "\n",
      "Input:  /data/reddylab/Kuei/out/proj_combeffect_encode_fcc/results/region/annotation_ccre/ccre_v4.bed.gz\n",
      "\n",
      "show first few lines of input\n",
      "chr1\t10033\t10250\tEH38E2776516\t0\t.\t10033\t10250\t225,225,225\tLow-DNase\tAll-data/Full-classification\n",
      "chr1\t10385\t10713\tEH38E2776517\t0\t.\t10385\t10713\t225,225,225\tLow-DNase\tAll-data/Full-classification\n",
      "chr1\t16097\t16381\tEH38E3951272\t0\t.\t16097\t16381\t225,225,225\tLow-DNase\tAll-data/Full-classification\n",
      "chr1\t17343\t17642\tEH38E3951273\t0\t.\t17343\t17642\t225,225,225\tLow-DNase\tAll-data/Full-classification\n",
      "chr1\t29320\t29517\tEH38E3951274\t0\t.\t29320\t29517\t225,225,225\tLow-DNase\tAll-data/Full-classification\n",
      "\n",
      "\n",
      "Output:  /data/reddylab/Kuei/out/proj_combeffect_encode_fcc/results/region/annotation_enhancer_merge/annotation_ccre/region.starrmpra_crispri_atac.annotation.ccre_v4.bed.gz\n",
      "\n",
      "show first few lines of output:\n",
      "chr1\t10015\t10442\tATAC\tATAC\tchr1\t10033\t10250\tEH38E2776516\t0\t.\t10033\t10250\t225,225,225\tLow-DNase\tAll-data/Full-classification\t217\n",
      "chr1\t16015\t16477\tATAC\tATAC\tchr1\t16097\t16381\tEH38E3951272\t0\t.\t16097\t16381\t225,225,225\tLow-DNase\tAll-data/Full-classification\t284\n",
      "chr1\t17237\t17772\tATAC\tATAC\tchr1\t17343\t17642\tEH38E3951273\t0\t.\t17343\t17642\t225,225,225\tLow-DNase\tAll-data/Full-classification\t299\n",
      "chr1\t28903\t29613\tATAC\tATAC\tchr1\t29320\t29517\tEH38E3951274\t0\t.\t29320\t29517\t225,225,225\tLow-DNase\tAll-data/Full-classification\t197\n",
      "chr1\t115411\t115986\tATAC\tATAC\tchr1\t115562\t115912\tEH38E3951280\t0\t.\t115562\t115912\t0,176,240\tCA-CTCF\tAll-data/Full-classification\t350\n",
      "\n",
      "\n",
      "Done!\n",
      "Run Time: 10 seconds\n"
     ]
    }
   ],
   "source": [
    "cat ${FD_LOG}/peak.annotation.ccre_v4.0.txt"
   ]
  },
  {
   "cell_type": "code",
   "execution_count": null,
   "id": "2697f8fc-af70-4617-a3ac-0a7c7e493b93",
   "metadata": {},
   "outputs": [],
   "source": []
  }
 ],
 "metadata": {
  "kernelspec": {
   "display_name": "Bash",
   "language": "bash",
   "name": "bash"
  },
  "language_info": {
   "codemirror_mode": "shell",
   "file_extension": ".sh",
   "mimetype": "text/x-sh",
   "name": "bash"
  }
 },
 "nbformat": 4,
 "nbformat_minor": 5
}
