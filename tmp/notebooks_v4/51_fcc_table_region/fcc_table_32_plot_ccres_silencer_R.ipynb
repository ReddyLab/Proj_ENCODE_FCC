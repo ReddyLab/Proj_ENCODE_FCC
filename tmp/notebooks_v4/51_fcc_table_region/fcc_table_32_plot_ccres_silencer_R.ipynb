{
 "cells": [
  {
   "cell_type": "markdown",
   "metadata": {},
   "source": [
    "**Set environment**"
   ]
  },
  {
   "cell_type": "code",
   "execution_count": 1,
   "metadata": {},
   "outputs": [
    {
     "name": "stdout",
     "output_type": "stream",
     "text": [
      "You are in Singularity: singularity_proj_encode_fcc \n",
      "BASE DIRECTORY (FD_BASE): /data/reddylab/Kuei \n",
      "WORK DIRECTORY (FD_WORK): /data/reddylab/Kuei/out \n",
      "CODE DIRECTORY (FD_CODE): /data/reddylab/Kuei/code \n",
      "PATH OF PROJECT (FD_PRJ): /data/reddylab/Kuei/code/Proj_CombEffect_ENCODE_FCC \n",
      "PATH OF RESULTS (FD_RES): /data/reddylab/Kuei/out/proj_combeffect_encode_fcc \n",
      "PATH OF LOG     (FD_LOG): /data/reddylab/Kuei/out/proj_combeffect_encode_fcc/log \n"
     ]
    }
   ],
   "source": [
    "suppressMessages(suppressWarnings(source(\"../config/config_sing.R\")))\n",
    "show_env()"
   ]
  },
  {
   "cell_type": "markdown",
   "metadata": {},
   "source": [
    "## Import data"
   ]
  },
  {
   "cell_type": "code",
   "execution_count": 3,
   "metadata": {},
   "outputs": [
    {
     "name": "stdout",
     "output_type": "stream",
     "text": [
      "[1] 4325   14\n"
     ]
    },
    {
     "data": {
      "text/html": [
       "<table class=\"dataframe\">\n",
       "<caption>A tibble: 6 × 14</caption>\n",
       "<thead>\n",
       "\t<tr><th scope=col>Chrom_A</th><th scope=col>Start_A</th><th scope=col>End_A</th><th scope=col>Region_A</th><th scope=col>Assay_Type</th><th scope=col>Assay_Label</th><th scope=col>Annotation</th><th scope=col>Chrom_B</th><th scope=col>Start_B</th><th scope=col>End_B</th><th scope=col>Region_B</th><th scope=col>Index_cCREs</th><th scope=col>Label_cCREs</th><th scope=col>Label_Silencer</th></tr>\n",
       "\t<tr><th scope=col>&lt;chr&gt;</th><th scope=col>&lt;dbl&gt;</th><th scope=col>&lt;dbl&gt;</th><th scope=col>&lt;chr&gt;</th><th scope=col>&lt;chr&gt;</th><th scope=col>&lt;chr&gt;</th><th scope=col>&lt;chr&gt;</th><th scope=col>&lt;chr&gt;</th><th scope=col>&lt;dbl&gt;</th><th scope=col>&lt;dbl&gt;</th><th scope=col>&lt;chr&gt;</th><th scope=col>&lt;chr&gt;</th><th scope=col>&lt;chr&gt;</th><th scope=col>&lt;chr&gt;</th></tr>\n",
       "</thead>\n",
       "<tbody>\n",
       "\t<tr><td>chr1</td><td>1298873</td><td>1300610</td><td>chr1:1298873-1300610</td><td>ASTARR,ATAC,CRISPRi-Growth</td><td>ASTARR_R,ATAC,CRISPRi-Growth                     </td><td>ccres_v4.silencer.rest</td><td>chr1</td><td>1298966</td><td>1299316</td><td>chr1:1298966-1299316</td><td>EH38E2777310</td><td>dELS</td><td>REST+ enhancer/silencer</td></tr>\n",
       "\t<tr><td>chr1</td><td>1334703</td><td>1335568</td><td>chr1:1334703-1335568</td><td>ATAC                      </td><td>ATAC                                             </td><td>ccres_v4.silencer.rest</td><td>chr1</td><td>1334920</td><td>1335266</td><td>chr1:1334920-1335266</td><td>EH38E2777380</td><td>dELS</td><td>REST+ enhancer/silencer</td></tr>\n",
       "\t<tr><td>chr1</td><td>1374415</td><td>1376654</td><td>chr1:1374415-1376654</td><td>ATAC,WSTARR               </td><td>ATAC,WSTARR_A,WSTARR_AB                          </td><td>ccres_v4.silencer.rest</td><td>chr1</td><td>1375250</td><td>1375598</td><td>chr1:1375250-1375598</td><td>EH38E2777455</td><td>pELS</td><td>REST+ Non-silencer     </td></tr>\n",
       "\t<tr><td>chr1</td><td>1406792</td><td>1408163</td><td>chr1:1406792-1408163</td><td>ASTARR,ATAC,LMPRA,WSTARR  </td><td>ASTARR_R,ATAC,LMPRA_A,LMPRA_AB,WSTARR_A,WSTARR_AB</td><td>ccres_v4.silencer.rest</td><td>chr1</td><td>1407146</td><td>1407496</td><td>chr1:1407146-1407496</td><td>EH38E2777492</td><td>PLS </td><td>REST+ Non-silencer     </td></tr>\n",
       "\t<tr><td>chr1</td><td>1432984</td><td>1434718</td><td>chr1:1432984-1434718</td><td>ASTARR,ATAC,WSTARR        </td><td>ASTARR_R,ATAC,WSTARR_A                           </td><td>ccres_v4.silencer.rest</td><td>chr1</td><td>1433204</td><td>1433554</td><td>chr1:1433204-1433554</td><td>EH38E2777541</td><td>pELS</td><td>REST+ Non-silencer     </td></tr>\n",
       "\t<tr><td>chr1</td><td>1470698</td><td>1473196</td><td>chr1:1470698-1473196</td><td>ASTARR,ATAC,LMPRA,WSTARR  </td><td>ASTARR_R,ATAC,LMPRA_A,LMPRA_AB,WSTARR_A,WSTARR_AB</td><td>ccres_v4.silencer.rest</td><td>chr1</td><td>1472896</td><td>1473193</td><td>chr1:1472896-1473193</td><td>EH38E3951566</td><td>pELS</td><td>REST+ Non-silencer     </td></tr>\n",
       "</tbody>\n",
       "</table>\n"
      ],
      "text/latex": [
       "A tibble: 6 × 14\n",
       "\\begin{tabular}{llllllllllllll}\n",
       " Chrom\\_A & Start\\_A & End\\_A & Region\\_A & Assay\\_Type & Assay\\_Label & Annotation & Chrom\\_B & Start\\_B & End\\_B & Region\\_B & Index\\_cCREs & Label\\_cCREs & Label\\_Silencer\\\\\n",
       " <chr> & <dbl> & <dbl> & <chr> & <chr> & <chr> & <chr> & <chr> & <dbl> & <dbl> & <chr> & <chr> & <chr> & <chr>\\\\\n",
       "\\hline\n",
       "\t chr1 & 1298873 & 1300610 & chr1:1298873-1300610 & ASTARR,ATAC,CRISPRi-Growth & ASTARR\\_R,ATAC,CRISPRi-Growth                      & ccres\\_v4.silencer.rest & chr1 & 1298966 & 1299316 & chr1:1298966-1299316 & EH38E2777310 & dELS & REST+ enhancer/silencer\\\\\n",
       "\t chr1 & 1334703 & 1335568 & chr1:1334703-1335568 & ATAC                       & ATAC                                              & ccres\\_v4.silencer.rest & chr1 & 1334920 & 1335266 & chr1:1334920-1335266 & EH38E2777380 & dELS & REST+ enhancer/silencer\\\\\n",
       "\t chr1 & 1374415 & 1376654 & chr1:1374415-1376654 & ATAC,WSTARR                & ATAC,WSTARR\\_A,WSTARR\\_AB                           & ccres\\_v4.silencer.rest & chr1 & 1375250 & 1375598 & chr1:1375250-1375598 & EH38E2777455 & pELS & REST+ Non-silencer     \\\\\n",
       "\t chr1 & 1406792 & 1408163 & chr1:1406792-1408163 & ASTARR,ATAC,LMPRA,WSTARR   & ASTARR\\_R,ATAC,LMPRA\\_A,LMPRA\\_AB,WSTARR\\_A,WSTARR\\_AB & ccres\\_v4.silencer.rest & chr1 & 1407146 & 1407496 & chr1:1407146-1407496 & EH38E2777492 & PLS  & REST+ Non-silencer     \\\\\n",
       "\t chr1 & 1432984 & 1434718 & chr1:1432984-1434718 & ASTARR,ATAC,WSTARR         & ASTARR\\_R,ATAC,WSTARR\\_A                            & ccres\\_v4.silencer.rest & chr1 & 1433204 & 1433554 & chr1:1433204-1433554 & EH38E2777541 & pELS & REST+ Non-silencer     \\\\\n",
       "\t chr1 & 1470698 & 1473196 & chr1:1470698-1473196 & ASTARR,ATAC,LMPRA,WSTARR   & ASTARR\\_R,ATAC,LMPRA\\_A,LMPRA\\_AB,WSTARR\\_A,WSTARR\\_AB & ccres\\_v4.silencer.rest & chr1 & 1472896 & 1473193 & chr1:1472896-1473193 & EH38E3951566 & pELS & REST+ Non-silencer     \\\\\n",
       "\\end{tabular}\n"
      ],
      "text/markdown": [
       "\n",
       "A tibble: 6 × 14\n",
       "\n",
       "| Chrom_A &lt;chr&gt; | Start_A &lt;dbl&gt; | End_A &lt;dbl&gt; | Region_A &lt;chr&gt; | Assay_Type &lt;chr&gt; | Assay_Label &lt;chr&gt; | Annotation &lt;chr&gt; | Chrom_B &lt;chr&gt; | Start_B &lt;dbl&gt; | End_B &lt;dbl&gt; | Region_B &lt;chr&gt; | Index_cCREs &lt;chr&gt; | Label_cCREs &lt;chr&gt; | Label_Silencer &lt;chr&gt; |\n",
       "|---|---|---|---|---|---|---|---|---|---|---|---|---|---|\n",
       "| chr1 | 1298873 | 1300610 | chr1:1298873-1300610 | ASTARR,ATAC,CRISPRi-Growth | ASTARR_R,ATAC,CRISPRi-Growth                      | ccres_v4.silencer.rest | chr1 | 1298966 | 1299316 | chr1:1298966-1299316 | EH38E2777310 | dELS | REST+ enhancer/silencer |\n",
       "| chr1 | 1334703 | 1335568 | chr1:1334703-1335568 | ATAC                       | ATAC                                              | ccres_v4.silencer.rest | chr1 | 1334920 | 1335266 | chr1:1334920-1335266 | EH38E2777380 | dELS | REST+ enhancer/silencer |\n",
       "| chr1 | 1374415 | 1376654 | chr1:1374415-1376654 | ATAC,WSTARR                | ATAC,WSTARR_A,WSTARR_AB                           | ccres_v4.silencer.rest | chr1 | 1375250 | 1375598 | chr1:1375250-1375598 | EH38E2777455 | pELS | REST+ Non-silencer      |\n",
       "| chr1 | 1406792 | 1408163 | chr1:1406792-1408163 | ASTARR,ATAC,LMPRA,WSTARR   | ASTARR_R,ATAC,LMPRA_A,LMPRA_AB,WSTARR_A,WSTARR_AB | ccres_v4.silencer.rest | chr1 | 1407146 | 1407496 | chr1:1407146-1407496 | EH38E2777492 | PLS  | REST+ Non-silencer      |\n",
       "| chr1 | 1432984 | 1434718 | chr1:1432984-1434718 | ASTARR,ATAC,WSTARR         | ASTARR_R,ATAC,WSTARR_A                            | ccres_v4.silencer.rest | chr1 | 1433204 | 1433554 | chr1:1433204-1433554 | EH38E2777541 | pELS | REST+ Non-silencer      |\n",
       "| chr1 | 1470698 | 1473196 | chr1:1470698-1473196 | ASTARR,ATAC,LMPRA,WSTARR   | ASTARR_R,ATAC,LMPRA_A,LMPRA_AB,WSTARR_A,WSTARR_AB | ccres_v4.silencer.rest | chr1 | 1472896 | 1473193 | chr1:1472896-1473193 | EH38E3951566 | pELS | REST+ Non-silencer      |\n",
       "\n"
      ],
      "text/plain": [
       "  Chrom_A Start_A End_A   Region_A             Assay_Type                \n",
       "1 chr1    1298873 1300610 chr1:1298873-1300610 ASTARR,ATAC,CRISPRi-Growth\n",
       "2 chr1    1334703 1335568 chr1:1334703-1335568 ATAC                      \n",
       "3 chr1    1374415 1376654 chr1:1374415-1376654 ATAC,WSTARR               \n",
       "4 chr1    1406792 1408163 chr1:1406792-1408163 ASTARR,ATAC,LMPRA,WSTARR  \n",
       "5 chr1    1432984 1434718 chr1:1432984-1434718 ASTARR,ATAC,WSTARR        \n",
       "6 chr1    1470698 1473196 chr1:1470698-1473196 ASTARR,ATAC,LMPRA,WSTARR  \n",
       "  Assay_Label                                       Annotation            \n",
       "1 ASTARR_R,ATAC,CRISPRi-Growth                      ccres_v4.silencer.rest\n",
       "2 ATAC                                              ccres_v4.silencer.rest\n",
       "3 ATAC,WSTARR_A,WSTARR_AB                           ccres_v4.silencer.rest\n",
       "4 ASTARR_R,ATAC,LMPRA_A,LMPRA_AB,WSTARR_A,WSTARR_AB ccres_v4.silencer.rest\n",
       "5 ASTARR_R,ATAC,WSTARR_A                            ccres_v4.silencer.rest\n",
       "6 ASTARR_R,ATAC,LMPRA_A,LMPRA_AB,WSTARR_A,WSTARR_AB ccres_v4.silencer.rest\n",
       "  Chrom_B Start_B End_B   Region_B             Index_cCREs  Label_cCREs\n",
       "1 chr1    1298966 1299316 chr1:1298966-1299316 EH38E2777310 dELS       \n",
       "2 chr1    1334920 1335266 chr1:1334920-1335266 EH38E2777380 dELS       \n",
       "3 chr1    1375250 1375598 chr1:1375250-1375598 EH38E2777455 pELS       \n",
       "4 chr1    1407146 1407496 chr1:1407146-1407496 EH38E2777492 PLS        \n",
       "5 chr1    1433204 1433554 chr1:1433204-1433554 EH38E2777541 pELS       \n",
       "6 chr1    1472896 1473193 chr1:1472896-1473193 EH38E3951566 pELS       \n",
       "  Label_Silencer         \n",
       "1 REST+ enhancer/silencer\n",
       "2 REST+ enhancer/silencer\n",
       "3 REST+ Non-silencer     \n",
       "4 REST+ Non-silencer     \n",
       "5 REST+ Non-silencer     \n",
       "6 REST+ Non-silencer     "
      ]
     },
     "metadata": {},
     "output_type": "display_data"
    }
   ],
   "source": [
    "### set file path\n",
    "fdiry = file.path(\n",
    "    FD_RES, \n",
    "    \"results\", \n",
    "    \"region\", \n",
    "    \"annotation_fcc_table\",\n",
    "    \"summary\")\n",
    "fname = \"peak.annotation.ccres_v4.silencer.rest.tsv\"\n",
    "fpath = file.path(fdiry, fname)\n",
    "\n",
    "### read table\n",
    "dat = read_tsv(fpath, show_col_types = FALSE)\n",
    "\n",
    "### assign and show\n",
    "dat_peak_annot_rest_overlap = dat\n",
    "print(dim(dat))\n",
    "head(dat)"
   ]
  },
  {
   "cell_type": "code",
   "execution_count": 4,
   "metadata": {},
   "outputs": [
    {
     "name": "stdout",
     "output_type": "stream",
     "text": [
      "[1] 1363   14\n"
     ]
    },
    {
     "data": {
      "text/html": [
       "<table class=\"dataframe\">\n",
       "<caption>A tibble: 6 × 14</caption>\n",
       "<thead>\n",
       "\t<tr><th scope=col>Chrom_A</th><th scope=col>Start_A</th><th scope=col>End_A</th><th scope=col>Region_A</th><th scope=col>Assay_Type</th><th scope=col>Assay_Label</th><th scope=col>Annotation</th><th scope=col>Chrom_B</th><th scope=col>Start_B</th><th scope=col>End_B</th><th scope=col>Region_B</th><th scope=col>Index_cCREs</th><th scope=col>Label_cCREs</th><th scope=col>Label_Silencer</th></tr>\n",
       "\t<tr><th scope=col>&lt;chr&gt;</th><th scope=col>&lt;dbl&gt;</th><th scope=col>&lt;dbl&gt;</th><th scope=col>&lt;chr&gt;</th><th scope=col>&lt;chr&gt;</th><th scope=col>&lt;chr&gt;</th><th scope=col>&lt;chr&gt;</th><th scope=col>&lt;chr&gt;</th><th scope=col>&lt;dbl&gt;</th><th scope=col>&lt;dbl&gt;</th><th scope=col>&lt;chr&gt;</th><th scope=col>&lt;chr&gt;</th><th scope=col>&lt;chr&gt;</th><th scope=col>&lt;chr&gt;</th></tr>\n",
       "</thead>\n",
       "<tbody>\n",
       "\t<tr><td>chr1</td><td> 898460</td><td> 899327</td><td>chr1:898460-899327  </td><td>ATAC              </td><td>ATAC                  </td><td>ccres_v4.silencer.starr</td><td>chr1</td><td> 898458</td><td> 898659</td><td>chr1:898458-898659  </td><td>EH38E2776591</td><td>dELS      </td><td>Robust   </td></tr>\n",
       "\t<tr><td>chr1</td><td>1777600</td><td>1777700</td><td>chr1:1777600-1777700</td><td>WSTARR            </td><td>WSTARR_R              </td><td>ccres_v4.silencer.starr</td><td>chr1</td><td>1777547</td><td>1777889</td><td>chr1:1777547-1777889</td><td>EH38E2777930</td><td>pELS      </td><td>Robust   </td></tr>\n",
       "\t<tr><td>chr1</td><td>2466924</td><td>2468602</td><td>chr1:2466924-2468602</td><td>ASTARR,ATAC,WSTARR</td><td>ASTARR_R,ATAC,WSTARR_R</td><td>ccres_v4.silencer.starr</td><td>chr1</td><td>2468066</td><td>2468391</td><td>chr1:2468066-2468391</td><td>EH38E3951891</td><td>pELS      </td><td>Robust   </td></tr>\n",
       "\t<tr><td>chr1</td><td>3113360</td><td>3113530</td><td>chr1:3113360-3113530</td><td>WSTARR            </td><td>WSTARR_R              </td><td>ccres_v4.silencer.starr</td><td>chr1</td><td>3113264</td><td>3113564</td><td>chr1:3113264-3113564</td><td>EH38E1312362</td><td>dELS      </td><td>Robust   </td></tr>\n",
       "\t<tr><td>chr1</td><td>3968945</td><td>3969256</td><td>chr1:3968945-3969256</td><td>ATAC,LMPRA        </td><td>ATAC,LMPRA_A          </td><td>ccres_v4.silencer.starr</td><td>chr1</td><td>3968917</td><td>3969184</td><td>chr1:3968917-3969184</td><td>EH38E3952406</td><td>dELS      </td><td>Robust   </td></tr>\n",
       "\t<tr><td>chr1</td><td>5001500</td><td>5001750</td><td>chr1:5001500-5001750</td><td>WSTARR            </td><td>WSTARR_R              </td><td>ccres_v4.silencer.starr</td><td>chr1</td><td>5001527</td><td>5001804</td><td>chr1:5001527-5001804</td><td>EH38E2781276</td><td>CA-H3K4me3</td><td>Stringent</td></tr>\n",
       "</tbody>\n",
       "</table>\n"
      ],
      "text/latex": [
       "A tibble: 6 × 14\n",
       "\\begin{tabular}{llllllllllllll}\n",
       " Chrom\\_A & Start\\_A & End\\_A & Region\\_A & Assay\\_Type & Assay\\_Label & Annotation & Chrom\\_B & Start\\_B & End\\_B & Region\\_B & Index\\_cCREs & Label\\_cCREs & Label\\_Silencer\\\\\n",
       " <chr> & <dbl> & <dbl> & <chr> & <chr> & <chr> & <chr> & <chr> & <dbl> & <dbl> & <chr> & <chr> & <chr> & <chr>\\\\\n",
       "\\hline\n",
       "\t chr1 &  898460 &  899327 & chr1:898460-899327   & ATAC               & ATAC                   & ccres\\_v4.silencer.starr & chr1 &  898458 &  898659 & chr1:898458-898659   & EH38E2776591 & dELS       & Robust   \\\\\n",
       "\t chr1 & 1777600 & 1777700 & chr1:1777600-1777700 & WSTARR             & WSTARR\\_R               & ccres\\_v4.silencer.starr & chr1 & 1777547 & 1777889 & chr1:1777547-1777889 & EH38E2777930 & pELS       & Robust   \\\\\n",
       "\t chr1 & 2466924 & 2468602 & chr1:2466924-2468602 & ASTARR,ATAC,WSTARR & ASTARR\\_R,ATAC,WSTARR\\_R & ccres\\_v4.silencer.starr & chr1 & 2468066 & 2468391 & chr1:2468066-2468391 & EH38E3951891 & pELS       & Robust   \\\\\n",
       "\t chr1 & 3113360 & 3113530 & chr1:3113360-3113530 & WSTARR             & WSTARR\\_R               & ccres\\_v4.silencer.starr & chr1 & 3113264 & 3113564 & chr1:3113264-3113564 & EH38E1312362 & dELS       & Robust   \\\\\n",
       "\t chr1 & 3968945 & 3969256 & chr1:3968945-3969256 & ATAC,LMPRA         & ATAC,LMPRA\\_A           & ccres\\_v4.silencer.starr & chr1 & 3968917 & 3969184 & chr1:3968917-3969184 & EH38E3952406 & dELS       & Robust   \\\\\n",
       "\t chr1 & 5001500 & 5001750 & chr1:5001500-5001750 & WSTARR             & WSTARR\\_R               & ccres\\_v4.silencer.starr & chr1 & 5001527 & 5001804 & chr1:5001527-5001804 & EH38E2781276 & CA-H3K4me3 & Stringent\\\\\n",
       "\\end{tabular}\n"
      ],
      "text/markdown": [
       "\n",
       "A tibble: 6 × 14\n",
       "\n",
       "| Chrom_A &lt;chr&gt; | Start_A &lt;dbl&gt; | End_A &lt;dbl&gt; | Region_A &lt;chr&gt; | Assay_Type &lt;chr&gt; | Assay_Label &lt;chr&gt; | Annotation &lt;chr&gt; | Chrom_B &lt;chr&gt; | Start_B &lt;dbl&gt; | End_B &lt;dbl&gt; | Region_B &lt;chr&gt; | Index_cCREs &lt;chr&gt; | Label_cCREs &lt;chr&gt; | Label_Silencer &lt;chr&gt; |\n",
       "|---|---|---|---|---|---|---|---|---|---|---|---|---|---|\n",
       "| chr1 |  898460 |  899327 | chr1:898460-899327   | ATAC               | ATAC                   | ccres_v4.silencer.starr | chr1 |  898458 |  898659 | chr1:898458-898659   | EH38E2776591 | dELS       | Robust    |\n",
       "| chr1 | 1777600 | 1777700 | chr1:1777600-1777700 | WSTARR             | WSTARR_R               | ccres_v4.silencer.starr | chr1 | 1777547 | 1777889 | chr1:1777547-1777889 | EH38E2777930 | pELS       | Robust    |\n",
       "| chr1 | 2466924 | 2468602 | chr1:2466924-2468602 | ASTARR,ATAC,WSTARR | ASTARR_R,ATAC,WSTARR_R | ccres_v4.silencer.starr | chr1 | 2468066 | 2468391 | chr1:2468066-2468391 | EH38E3951891 | pELS       | Robust    |\n",
       "| chr1 | 3113360 | 3113530 | chr1:3113360-3113530 | WSTARR             | WSTARR_R               | ccres_v4.silencer.starr | chr1 | 3113264 | 3113564 | chr1:3113264-3113564 | EH38E1312362 | dELS       | Robust    |\n",
       "| chr1 | 3968945 | 3969256 | chr1:3968945-3969256 | ATAC,LMPRA         | ATAC,LMPRA_A           | ccres_v4.silencer.starr | chr1 | 3968917 | 3969184 | chr1:3968917-3969184 | EH38E3952406 | dELS       | Robust    |\n",
       "| chr1 | 5001500 | 5001750 | chr1:5001500-5001750 | WSTARR             | WSTARR_R               | ccres_v4.silencer.starr | chr1 | 5001527 | 5001804 | chr1:5001527-5001804 | EH38E2781276 | CA-H3K4me3 | Stringent |\n",
       "\n"
      ],
      "text/plain": [
       "  Chrom_A Start_A End_A   Region_A             Assay_Type        \n",
       "1 chr1     898460  899327 chr1:898460-899327   ATAC              \n",
       "2 chr1    1777600 1777700 chr1:1777600-1777700 WSTARR            \n",
       "3 chr1    2466924 2468602 chr1:2466924-2468602 ASTARR,ATAC,WSTARR\n",
       "4 chr1    3113360 3113530 chr1:3113360-3113530 WSTARR            \n",
       "5 chr1    3968945 3969256 chr1:3968945-3969256 ATAC,LMPRA        \n",
       "6 chr1    5001500 5001750 chr1:5001500-5001750 WSTARR            \n",
       "  Assay_Label            Annotation              Chrom_B Start_B End_B  \n",
       "1 ATAC                   ccres_v4.silencer.starr chr1     898458  898659\n",
       "2 WSTARR_R               ccres_v4.silencer.starr chr1    1777547 1777889\n",
       "3 ASTARR_R,ATAC,WSTARR_R ccres_v4.silencer.starr chr1    2468066 2468391\n",
       "4 WSTARR_R               ccres_v4.silencer.starr chr1    3113264 3113564\n",
       "5 ATAC,LMPRA_A           ccres_v4.silencer.starr chr1    3968917 3969184\n",
       "6 WSTARR_R               ccres_v4.silencer.starr chr1    5001527 5001804\n",
       "  Region_B             Index_cCREs  Label_cCREs Label_Silencer\n",
       "1 chr1:898458-898659   EH38E2776591 dELS        Robust        \n",
       "2 chr1:1777547-1777889 EH38E2777930 pELS        Robust        \n",
       "3 chr1:2468066-2468391 EH38E3951891 pELS        Robust        \n",
       "4 chr1:3113264-3113564 EH38E1312362 dELS        Robust        \n",
       "5 chr1:3968917-3969184 EH38E3952406 dELS        Robust        \n",
       "6 chr1:5001527-5001804 EH38E2781276 CA-H3K4me3  Stringent     "
      ]
     },
     "metadata": {},
     "output_type": "display_data"
    }
   ],
   "source": [
    "### set file path\n",
    "fdiry = file.path(\n",
    "    FD_RES, \n",
    "    \"results\", \n",
    "    \"region\", \n",
    "    \"annotation_fcc_table\",\n",
    "    \"summary\")\n",
    "fname = \"peak.annotation.ccres_v4.silencer.starr.tsv\"\n",
    "fpath = file.path(fdiry, fname)\n",
    "\n",
    "### read table\n",
    "dat = read_tsv(fpath, show_col_types = FALSE)\n",
    "\n",
    "### assign and show\n",
    "dat_peak_annot_starr_overlap = dat\n",
    "print(dim(dat))\n",
    "head(dat)"
   ]
  },
  {
   "cell_type": "code",
   "execution_count": 5,
   "metadata": {},
   "outputs": [
    {
     "name": "stdout",
     "output_type": "stream",
     "text": [
      "[1] 392549     14\n"
     ]
    },
    {
     "data": {
      "text/html": [
       "<table class=\"dataframe\">\n",
       "<caption>A tibble: 6 × 14</caption>\n",
       "<thead>\n",
       "\t<tr><th scope=col>Chrom_A</th><th scope=col>Start_A</th><th scope=col>End_A</th><th scope=col>Region_A</th><th scope=col>Assay_Type</th><th scope=col>Assay_Label</th><th scope=col>Annotation</th><th scope=col>Chrom_B</th><th scope=col>Start_B</th><th scope=col>End_B</th><th scope=col>Region_B</th><th scope=col>Index_B</th><th scope=col>Label_B</th><th scope=col>Label</th></tr>\n",
       "\t<tr><th scope=col>&lt;chr&gt;</th><th scope=col>&lt;dbl&gt;</th><th scope=col>&lt;dbl&gt;</th><th scope=col>&lt;chr&gt;</th><th scope=col>&lt;chr&gt;</th><th scope=col>&lt;chr&gt;</th><th scope=col>&lt;chr&gt;</th><th scope=col>&lt;chr&gt;</th><th scope=col>&lt;dbl&gt;</th><th scope=col>&lt;dbl&gt;</th><th scope=col>&lt;chr&gt;</th><th scope=col>&lt;chr&gt;</th><th scope=col>&lt;chr&gt;</th><th scope=col>&lt;chr&gt;</th></tr>\n",
       "</thead>\n",
       "<tbody>\n",
       "\t<tr><td>chr1</td><td> 10015</td><td> 10442</td><td>chr1:10015-10442  </td><td>ATAC</td><td>ATAC</td><td>ccres_v4</td><td>chr1</td><td> 10033</td><td> 10250</td><td>chr1:10033-10250  </td><td>EH38E2776516</td><td>Low-DNase</td><td>Low-DNase</td></tr>\n",
       "\t<tr><td>chr1</td><td> 16015</td><td> 16477</td><td>chr1:16015-16477  </td><td>ATAC</td><td>ATAC</td><td>ccres_v4</td><td>chr1</td><td> 16097</td><td> 16381</td><td>chr1:16097-16381  </td><td>EH38E3951272</td><td>Low-DNase</td><td>Low-DNase</td></tr>\n",
       "\t<tr><td>chr1</td><td> 17237</td><td> 17772</td><td>chr1:17237-17772  </td><td>ATAC</td><td>ATAC</td><td>ccres_v4</td><td>chr1</td><td> 17343</td><td> 17642</td><td>chr1:17343-17642  </td><td>EH38E3951273</td><td>Low-DNase</td><td>Low-DNase</td></tr>\n",
       "\t<tr><td>chr1</td><td> 28903</td><td> 29613</td><td>chr1:28903-29613  </td><td>ATAC</td><td>ATAC</td><td>ccres_v4</td><td>chr1</td><td> 29320</td><td> 29517</td><td>chr1:29320-29517  </td><td>EH38E3951274</td><td>Low-DNase</td><td>Low-DNase</td></tr>\n",
       "\t<tr><td>chr1</td><td>115411</td><td>115986</td><td>chr1:115411-115986</td><td>ATAC</td><td>ATAC</td><td>ccres_v4</td><td>chr1</td><td>115562</td><td>115912</td><td>chr1:115562-115912</td><td>EH38E3951280</td><td>CA-CTCF  </td><td>CA-CTCF  </td></tr>\n",
       "\t<tr><td>chr1</td><td>118518</td><td>118743</td><td>chr1:118518-118743</td><td>ATAC</td><td>ATAC</td><td>ccres_v4</td><td>chr1</td><td>118508</td><td>118826</td><td>chr1:118508-118826</td><td>EH38E3951281</td><td>Low-DNase</td><td>Low-DNase</td></tr>\n",
       "</tbody>\n",
       "</table>\n"
      ],
      "text/latex": [
       "A tibble: 6 × 14\n",
       "\\begin{tabular}{llllllllllllll}\n",
       " Chrom\\_A & Start\\_A & End\\_A & Region\\_A & Assay\\_Type & Assay\\_Label & Annotation & Chrom\\_B & Start\\_B & End\\_B & Region\\_B & Index\\_B & Label\\_B & Label\\\\\n",
       " <chr> & <dbl> & <dbl> & <chr> & <chr> & <chr> & <chr> & <chr> & <dbl> & <dbl> & <chr> & <chr> & <chr> & <chr>\\\\\n",
       "\\hline\n",
       "\t chr1 &  10015 &  10442 & chr1:10015-10442   & ATAC & ATAC & ccres\\_v4 & chr1 &  10033 &  10250 & chr1:10033-10250   & EH38E2776516 & Low-DNase & Low-DNase\\\\\n",
       "\t chr1 &  16015 &  16477 & chr1:16015-16477   & ATAC & ATAC & ccres\\_v4 & chr1 &  16097 &  16381 & chr1:16097-16381   & EH38E3951272 & Low-DNase & Low-DNase\\\\\n",
       "\t chr1 &  17237 &  17772 & chr1:17237-17772   & ATAC & ATAC & ccres\\_v4 & chr1 &  17343 &  17642 & chr1:17343-17642   & EH38E3951273 & Low-DNase & Low-DNase\\\\\n",
       "\t chr1 &  28903 &  29613 & chr1:28903-29613   & ATAC & ATAC & ccres\\_v4 & chr1 &  29320 &  29517 & chr1:29320-29517   & EH38E3951274 & Low-DNase & Low-DNase\\\\\n",
       "\t chr1 & 115411 & 115986 & chr1:115411-115986 & ATAC & ATAC & ccres\\_v4 & chr1 & 115562 & 115912 & chr1:115562-115912 & EH38E3951280 & CA-CTCF   & CA-CTCF  \\\\\n",
       "\t chr1 & 118518 & 118743 & chr1:118518-118743 & ATAC & ATAC & ccres\\_v4 & chr1 & 118508 & 118826 & chr1:118508-118826 & EH38E3951281 & Low-DNase & Low-DNase\\\\\n",
       "\\end{tabular}\n"
      ],
      "text/markdown": [
       "\n",
       "A tibble: 6 × 14\n",
       "\n",
       "| Chrom_A &lt;chr&gt; | Start_A &lt;dbl&gt; | End_A &lt;dbl&gt; | Region_A &lt;chr&gt; | Assay_Type &lt;chr&gt; | Assay_Label &lt;chr&gt; | Annotation &lt;chr&gt; | Chrom_B &lt;chr&gt; | Start_B &lt;dbl&gt; | End_B &lt;dbl&gt; | Region_B &lt;chr&gt; | Index_B &lt;chr&gt; | Label_B &lt;chr&gt; | Label &lt;chr&gt; |\n",
       "|---|---|---|---|---|---|---|---|---|---|---|---|---|---|\n",
       "| chr1 |  10015 |  10442 | chr1:10015-10442   | ATAC | ATAC | ccres_v4 | chr1 |  10033 |  10250 | chr1:10033-10250   | EH38E2776516 | Low-DNase | Low-DNase |\n",
       "| chr1 |  16015 |  16477 | chr1:16015-16477   | ATAC | ATAC | ccres_v4 | chr1 |  16097 |  16381 | chr1:16097-16381   | EH38E3951272 | Low-DNase | Low-DNase |\n",
       "| chr1 |  17237 |  17772 | chr1:17237-17772   | ATAC | ATAC | ccres_v4 | chr1 |  17343 |  17642 | chr1:17343-17642   | EH38E3951273 | Low-DNase | Low-DNase |\n",
       "| chr1 |  28903 |  29613 | chr1:28903-29613   | ATAC | ATAC | ccres_v4 | chr1 |  29320 |  29517 | chr1:29320-29517   | EH38E3951274 | Low-DNase | Low-DNase |\n",
       "| chr1 | 115411 | 115986 | chr1:115411-115986 | ATAC | ATAC | ccres_v4 | chr1 | 115562 | 115912 | chr1:115562-115912 | EH38E3951280 | CA-CTCF   | CA-CTCF   |\n",
       "| chr1 | 118518 | 118743 | chr1:118518-118743 | ATAC | ATAC | ccres_v4 | chr1 | 118508 | 118826 | chr1:118508-118826 | EH38E3951281 | Low-DNase | Low-DNase |\n",
       "\n"
      ],
      "text/plain": [
       "  Chrom_A Start_A End_A  Region_A           Assay_Type Assay_Label Annotation\n",
       "1 chr1     10015   10442 chr1:10015-10442   ATAC       ATAC        ccres_v4  \n",
       "2 chr1     16015   16477 chr1:16015-16477   ATAC       ATAC        ccres_v4  \n",
       "3 chr1     17237   17772 chr1:17237-17772   ATAC       ATAC        ccres_v4  \n",
       "4 chr1     28903   29613 chr1:28903-29613   ATAC       ATAC        ccres_v4  \n",
       "5 chr1    115411  115986 chr1:115411-115986 ATAC       ATAC        ccres_v4  \n",
       "6 chr1    118518  118743 chr1:118518-118743 ATAC       ATAC        ccres_v4  \n",
       "  Chrom_B Start_B End_B  Region_B           Index_B      Label_B   Label    \n",
       "1 chr1     10033   10250 chr1:10033-10250   EH38E2776516 Low-DNase Low-DNase\n",
       "2 chr1     16097   16381 chr1:16097-16381   EH38E3951272 Low-DNase Low-DNase\n",
       "3 chr1     17343   17642 chr1:17343-17642   EH38E3951273 Low-DNase Low-DNase\n",
       "4 chr1     29320   29517 chr1:29320-29517   EH38E3951274 Low-DNase Low-DNase\n",
       "5 chr1    115562  115912 chr1:115562-115912 EH38E3951280 CA-CTCF   CA-CTCF  \n",
       "6 chr1    118508  118826 chr1:118508-118826 EH38E3951281 Low-DNase Low-DNase"
      ]
     },
     "metadata": {},
     "output_type": "display_data"
    }
   ],
   "source": [
    "### set file path\n",
    "fdiry = file.path(\n",
    "    FD_RES, \n",
    "    \"results\", \n",
    "    \"region\", \n",
    "    \"annotation_fcc_table\",\n",
    "    \"summary\")\n",
    "fname = \"peak.annotation.ccres_v4.tsv\"\n",
    "fpath = file.path(fdiry, fname)\n",
    "\n",
    "### read table\n",
    "dat = read_tsv(fpath, show_col_types = FALSE)\n",
    "dat = dat %>% dplyr::mutate(Label = Label_B)\n",
    "\n",
    "### assign and show\n",
    "dat_peak_annot_total_overlap = dat\n",
    "print(dim(dat))\n",
    "head(dat)"
   ]
  },
  {
   "cell_type": "markdown",
   "metadata": {},
   "source": [
    "## Get count and frequency"
   ]
  },
  {
   "cell_type": "code",
   "execution_count": 26,
   "metadata": {},
   "outputs": [],
   "source": [
    "### split and expand table by assay type\n",
    "dat = dat_peak_annot_total_overlap\n",
    "dat = dat %>% tidyr::separate_longer_delim(Assay_Type, \",\")\n",
    "dat = dat %>% dplyr::filter(Label_B != \"Low-DNase\")\n",
    "lst = split(dat, dat$Assay_Type)\n",
    "\n",
    "lst_dat_peak_annot_total = lst\n",
    "\n",
    "###\n",
    "dat = dat_peak_annot_rest_overlap\n",
    "dat = dat %>% tidyr::separate_longer_delim(Assay_Type, \",\")\n",
    "lst = split(dat, dat$Assay_Type)\n",
    "\n",
    "lst_dat_peak_annot_rest = lst\n",
    "\n",
    "###\n",
    "dat = dat_peak_annot_starr_overlap\n",
    "dat = dat %>% tidyr::separate_longer_delim(Assay_Type, \",\")\n",
    "lst = split(dat, dat$Assay_Type)\n",
    "\n",
    "lst_dat_peak_annot_starr = lst"
   ]
  },
  {
   "cell_type": "code",
   "execution_count": 27,
   "metadata": {},
   "outputs": [
    {
     "name": "stdout",
     "output_type": "stream",
     "text": [
      "#Row: 131974 \n",
      "#Row: 4142 \n",
      "#Row: 555 \n"
     ]
    }
   ],
   "source": [
    "lst  = lst_dat_peak_annot_total\n",
    "dat1 = lst[[\"ATAC\"]]\n",
    "cat(\"#Row:\", nrow(dat1), \"\\n\")\n",
    "\n",
    "lst  = lst_dat_peak_annot_rest\n",
    "dat2 = lst[[\"ATAC\"]]\n",
    "cat(\"#Row:\", nrow(dat2), \"\\n\")\n",
    "\n",
    "lst  = lst_dat_peak_annot_starr\n",
    "dat3 = lst[[\"ATAC\"]]\n",
    "cat(\"#Row:\", nrow(dat3), \"\\n\")"
   ]
  },
  {
   "cell_type": "code",
   "execution_count": 30,
   "metadata": {},
   "outputs": [
    {
     "name": "stdout",
     "output_type": "stream",
     "text": [
      "\n",
      "   CA-CTCF CA-H3K4me3    CA-only      CA-TF       dELS       pELS        PLS \n",
      "     22883       4537       1534      27950      26826      29134      19110 \n"
     ]
    },
    {
     "data": {
      "text/html": [
       "<table class=\"dataframe\">\n",
       "<caption>A tibble: 3 × 14</caption>\n",
       "<thead>\n",
       "\t<tr><th scope=col>Chrom_A</th><th scope=col>Start_A</th><th scope=col>End_A</th><th scope=col>Region_A</th><th scope=col>Assay_Type</th><th scope=col>Assay_Label</th><th scope=col>Annotation</th><th scope=col>Chrom_B</th><th scope=col>Start_B</th><th scope=col>End_B</th><th scope=col>Region_B</th><th scope=col>Index_B</th><th scope=col>Label_B</th><th scope=col>Label</th></tr>\n",
       "\t<tr><th scope=col>&lt;chr&gt;</th><th scope=col>&lt;dbl&gt;</th><th scope=col>&lt;dbl&gt;</th><th scope=col>&lt;chr&gt;</th><th scope=col>&lt;chr&gt;</th><th scope=col>&lt;chr&gt;</th><th scope=col>&lt;chr&gt;</th><th scope=col>&lt;chr&gt;</th><th scope=col>&lt;dbl&gt;</th><th scope=col>&lt;dbl&gt;</th><th scope=col>&lt;chr&gt;</th><th scope=col>&lt;chr&gt;</th><th scope=col>&lt;chr&gt;</th><th scope=col>&lt;chr&gt;</th></tr>\n",
       "</thead>\n",
       "<tbody>\n",
       "\t<tr><td>chr1</td><td>115411</td><td>115986</td><td>chr1:115411-115986</td><td>ATAC</td><td>ATAC         </td><td>ccres_v4</td><td>chr1</td><td>115562</td><td>115912</td><td>chr1:115562-115912</td><td>EH38E3951280</td><td>CA-CTCF</td><td>CA-CTCF</td></tr>\n",
       "\t<tr><td>chr1</td><td>137737</td><td>139544</td><td>chr1:137737-139544</td><td>ATAC</td><td>ATAC         </td><td>ccres_v4</td><td>chr1</td><td>138917</td><td>139112</td><td>chr1:138917-139112</td><td>EH38E3951286</td><td>pELS   </td><td>pELS   </td></tr>\n",
       "\t<tr><td>chr1</td><td>180982</td><td>182087</td><td>chr1:180982-182087</td><td>ATAC</td><td>ASTARR_R,ATAC</td><td>ccres_v4</td><td>chr1</td><td>181289</td><td>181639</td><td>chr1:181289-181639</td><td>EH38E2776524</td><td>CA-CTCF</td><td>CA-CTCF</td></tr>\n",
       "</tbody>\n",
       "</table>\n"
      ],
      "text/latex": [
       "A tibble: 3 × 14\n",
       "\\begin{tabular}{llllllllllllll}\n",
       " Chrom\\_A & Start\\_A & End\\_A & Region\\_A & Assay\\_Type & Assay\\_Label & Annotation & Chrom\\_B & Start\\_B & End\\_B & Region\\_B & Index\\_B & Label\\_B & Label\\\\\n",
       " <chr> & <dbl> & <dbl> & <chr> & <chr> & <chr> & <chr> & <chr> & <dbl> & <dbl> & <chr> & <chr> & <chr> & <chr>\\\\\n",
       "\\hline\n",
       "\t chr1 & 115411 & 115986 & chr1:115411-115986 & ATAC & ATAC          & ccres\\_v4 & chr1 & 115562 & 115912 & chr1:115562-115912 & EH38E3951280 & CA-CTCF & CA-CTCF\\\\\n",
       "\t chr1 & 137737 & 139544 & chr1:137737-139544 & ATAC & ATAC          & ccres\\_v4 & chr1 & 138917 & 139112 & chr1:138917-139112 & EH38E3951286 & pELS    & pELS   \\\\\n",
       "\t chr1 & 180982 & 182087 & chr1:180982-182087 & ATAC & ASTARR\\_R,ATAC & ccres\\_v4 & chr1 & 181289 & 181639 & chr1:181289-181639 & EH38E2776524 & CA-CTCF & CA-CTCF\\\\\n",
       "\\end{tabular}\n"
      ],
      "text/markdown": [
       "\n",
       "A tibble: 3 × 14\n",
       "\n",
       "| Chrom_A &lt;chr&gt; | Start_A &lt;dbl&gt; | End_A &lt;dbl&gt; | Region_A &lt;chr&gt; | Assay_Type &lt;chr&gt; | Assay_Label &lt;chr&gt; | Annotation &lt;chr&gt; | Chrom_B &lt;chr&gt; | Start_B &lt;dbl&gt; | End_B &lt;dbl&gt; | Region_B &lt;chr&gt; | Index_B &lt;chr&gt; | Label_B &lt;chr&gt; | Label &lt;chr&gt; |\n",
       "|---|---|---|---|---|---|---|---|---|---|---|---|---|---|\n",
       "| chr1 | 115411 | 115986 | chr1:115411-115986 | ATAC | ATAC          | ccres_v4 | chr1 | 115562 | 115912 | chr1:115562-115912 | EH38E3951280 | CA-CTCF | CA-CTCF |\n",
       "| chr1 | 137737 | 139544 | chr1:137737-139544 | ATAC | ATAC          | ccres_v4 | chr1 | 138917 | 139112 | chr1:138917-139112 | EH38E3951286 | pELS    | pELS    |\n",
       "| chr1 | 180982 | 182087 | chr1:180982-182087 | ATAC | ASTARR_R,ATAC | ccres_v4 | chr1 | 181289 | 181639 | chr1:181289-181639 | EH38E2776524 | CA-CTCF | CA-CTCF |\n",
       "\n"
      ],
      "text/plain": [
       "  Chrom_A Start_A End_A  Region_A           Assay_Type Assay_Label   Annotation\n",
       "1 chr1    115411  115986 chr1:115411-115986 ATAC       ATAC          ccres_v4  \n",
       "2 chr1    137737  139544 chr1:137737-139544 ATAC       ATAC          ccres_v4  \n",
       "3 chr1    180982  182087 chr1:180982-182087 ATAC       ASTARR_R,ATAC ccres_v4  \n",
       "  Chrom_B Start_B End_B  Region_B           Index_B      Label_B Label  \n",
       "1 chr1    115562  115912 chr1:115562-115912 EH38E3951280 CA-CTCF CA-CTCF\n",
       "2 chr1    138917  139112 chr1:138917-139112 EH38E3951286 pELS    pELS   \n",
       "3 chr1    181289  181639 chr1:181289-181639 EH38E2776524 CA-CTCF CA-CTCF"
      ]
     },
     "metadata": {},
     "output_type": "display_data"
    }
   ],
   "source": [
    "dat = dat1\n",
    "res = table(dat$Label_B)\n",
    "print(res)\n",
    "head(dat, 3)"
   ]
  },
  {
   "cell_type": "code",
   "execution_count": 31,
   "metadata": {},
   "outputs": [
    {
     "name": "stdout",
     "output_type": "stream",
     "text": [
      "\n",
      "        CA    CA-CTCF CA-H3K4me3      CA-TF       dELS       pELS        PLS \n",
      "         1        199         93        157       1031        720       1902 \n",
      "        TF \n",
      "        39 \n"
     ]
    },
    {
     "data": {
      "text/html": [
       "<table class=\"dataframe\">\n",
       "<caption>A tibble: 3 × 14</caption>\n",
       "<thead>\n",
       "\t<tr><th scope=col>Chrom_A</th><th scope=col>Start_A</th><th scope=col>End_A</th><th scope=col>Region_A</th><th scope=col>Assay_Type</th><th scope=col>Assay_Label</th><th scope=col>Annotation</th><th scope=col>Chrom_B</th><th scope=col>Start_B</th><th scope=col>End_B</th><th scope=col>Region_B</th><th scope=col>Index_cCREs</th><th scope=col>Label_cCREs</th><th scope=col>Label_Silencer</th></tr>\n",
       "\t<tr><th scope=col>&lt;chr&gt;</th><th scope=col>&lt;dbl&gt;</th><th scope=col>&lt;dbl&gt;</th><th scope=col>&lt;chr&gt;</th><th scope=col>&lt;chr&gt;</th><th scope=col>&lt;chr&gt;</th><th scope=col>&lt;chr&gt;</th><th scope=col>&lt;chr&gt;</th><th scope=col>&lt;dbl&gt;</th><th scope=col>&lt;dbl&gt;</th><th scope=col>&lt;chr&gt;</th><th scope=col>&lt;chr&gt;</th><th scope=col>&lt;chr&gt;</th><th scope=col>&lt;chr&gt;</th></tr>\n",
       "</thead>\n",
       "<tbody>\n",
       "\t<tr><td>chr1</td><td>1298873</td><td>1300610</td><td>chr1:1298873-1300610</td><td>ATAC</td><td>ASTARR_R,ATAC,CRISPRi-Growth</td><td>ccres_v4.silencer.rest</td><td>chr1</td><td>1298966</td><td>1299316</td><td>chr1:1298966-1299316</td><td>EH38E2777310</td><td>dELS</td><td>REST+ enhancer/silencer</td></tr>\n",
       "\t<tr><td>chr1</td><td>1334703</td><td>1335568</td><td>chr1:1334703-1335568</td><td>ATAC</td><td>ATAC                        </td><td>ccres_v4.silencer.rest</td><td>chr1</td><td>1334920</td><td>1335266</td><td>chr1:1334920-1335266</td><td>EH38E2777380</td><td>dELS</td><td>REST+ enhancer/silencer</td></tr>\n",
       "\t<tr><td>chr1</td><td>1374415</td><td>1376654</td><td>chr1:1374415-1376654</td><td>ATAC</td><td>ATAC,WSTARR_A,WSTARR_AB     </td><td>ccres_v4.silencer.rest</td><td>chr1</td><td>1375250</td><td>1375598</td><td>chr1:1375250-1375598</td><td>EH38E2777455</td><td>pELS</td><td>REST+ Non-silencer     </td></tr>\n",
       "</tbody>\n",
       "</table>\n"
      ],
      "text/latex": [
       "A tibble: 3 × 14\n",
       "\\begin{tabular}{llllllllllllll}\n",
       " Chrom\\_A & Start\\_A & End\\_A & Region\\_A & Assay\\_Type & Assay\\_Label & Annotation & Chrom\\_B & Start\\_B & End\\_B & Region\\_B & Index\\_cCREs & Label\\_cCREs & Label\\_Silencer\\\\\n",
       " <chr> & <dbl> & <dbl> & <chr> & <chr> & <chr> & <chr> & <chr> & <dbl> & <dbl> & <chr> & <chr> & <chr> & <chr>\\\\\n",
       "\\hline\n",
       "\t chr1 & 1298873 & 1300610 & chr1:1298873-1300610 & ATAC & ASTARR\\_R,ATAC,CRISPRi-Growth & ccres\\_v4.silencer.rest & chr1 & 1298966 & 1299316 & chr1:1298966-1299316 & EH38E2777310 & dELS & REST+ enhancer/silencer\\\\\n",
       "\t chr1 & 1334703 & 1335568 & chr1:1334703-1335568 & ATAC & ATAC                         & ccres\\_v4.silencer.rest & chr1 & 1334920 & 1335266 & chr1:1334920-1335266 & EH38E2777380 & dELS & REST+ enhancer/silencer\\\\\n",
       "\t chr1 & 1374415 & 1376654 & chr1:1374415-1376654 & ATAC & ATAC,WSTARR\\_A,WSTARR\\_AB      & ccres\\_v4.silencer.rest & chr1 & 1375250 & 1375598 & chr1:1375250-1375598 & EH38E2777455 & pELS & REST+ Non-silencer     \\\\\n",
       "\\end{tabular}\n"
      ],
      "text/markdown": [
       "\n",
       "A tibble: 3 × 14\n",
       "\n",
       "| Chrom_A &lt;chr&gt; | Start_A &lt;dbl&gt; | End_A &lt;dbl&gt; | Region_A &lt;chr&gt; | Assay_Type &lt;chr&gt; | Assay_Label &lt;chr&gt; | Annotation &lt;chr&gt; | Chrom_B &lt;chr&gt; | Start_B &lt;dbl&gt; | End_B &lt;dbl&gt; | Region_B &lt;chr&gt; | Index_cCREs &lt;chr&gt; | Label_cCREs &lt;chr&gt; | Label_Silencer &lt;chr&gt; |\n",
       "|---|---|---|---|---|---|---|---|---|---|---|---|---|---|\n",
       "| chr1 | 1298873 | 1300610 | chr1:1298873-1300610 | ATAC | ASTARR_R,ATAC,CRISPRi-Growth | ccres_v4.silencer.rest | chr1 | 1298966 | 1299316 | chr1:1298966-1299316 | EH38E2777310 | dELS | REST+ enhancer/silencer |\n",
       "| chr1 | 1334703 | 1335568 | chr1:1334703-1335568 | ATAC | ATAC                         | ccres_v4.silencer.rest | chr1 | 1334920 | 1335266 | chr1:1334920-1335266 | EH38E2777380 | dELS | REST+ enhancer/silencer |\n",
       "| chr1 | 1374415 | 1376654 | chr1:1374415-1376654 | ATAC | ATAC,WSTARR_A,WSTARR_AB      | ccres_v4.silencer.rest | chr1 | 1375250 | 1375598 | chr1:1375250-1375598 | EH38E2777455 | pELS | REST+ Non-silencer      |\n",
       "\n"
      ],
      "text/plain": [
       "  Chrom_A Start_A End_A   Region_A             Assay_Type\n",
       "1 chr1    1298873 1300610 chr1:1298873-1300610 ATAC      \n",
       "2 chr1    1334703 1335568 chr1:1334703-1335568 ATAC      \n",
       "3 chr1    1374415 1376654 chr1:1374415-1376654 ATAC      \n",
       "  Assay_Label                  Annotation             Chrom_B Start_B End_B  \n",
       "1 ASTARR_R,ATAC,CRISPRi-Growth ccres_v4.silencer.rest chr1    1298966 1299316\n",
       "2 ATAC                         ccres_v4.silencer.rest chr1    1334920 1335266\n",
       "3 ATAC,WSTARR_A,WSTARR_AB      ccres_v4.silencer.rest chr1    1375250 1375598\n",
       "  Region_B             Index_cCREs  Label_cCREs Label_Silencer         \n",
       "1 chr1:1298966-1299316 EH38E2777310 dELS        REST+ enhancer/silencer\n",
       "2 chr1:1334920-1335266 EH38E2777380 dELS        REST+ enhancer/silencer\n",
       "3 chr1:1375250-1375598 EH38E2777455 pELS        REST+ Non-silencer     "
      ]
     },
     "metadata": {},
     "output_type": "display_data"
    }
   ],
   "source": [
    "dat = dat2\n",
    "res = table(dat$Label_cCREs)\n",
    "print(res)\n",
    "head(dat, 3)"
   ]
  },
  {
   "cell_type": "code",
   "execution_count": 32,
   "metadata": {},
   "outputs": [
    {
     "name": "stdout",
     "output_type": "stream",
     "text": [
      "\n",
      "        CA    CA-CTCF CA-H3K4me3      CA-TF       dELS       pELS        PLS \n",
      "        34         68         24         30        312         46         13 \n",
      "        TF \n",
      "        28 \n"
     ]
    },
    {
     "data": {
      "text/html": [
       "<table class=\"dataframe\">\n",
       "<caption>A tibble: 3 × 14</caption>\n",
       "<thead>\n",
       "\t<tr><th scope=col>Chrom_A</th><th scope=col>Start_A</th><th scope=col>End_A</th><th scope=col>Region_A</th><th scope=col>Assay_Type</th><th scope=col>Assay_Label</th><th scope=col>Annotation</th><th scope=col>Chrom_B</th><th scope=col>Start_B</th><th scope=col>End_B</th><th scope=col>Region_B</th><th scope=col>Index_cCREs</th><th scope=col>Label_cCREs</th><th scope=col>Label_Silencer</th></tr>\n",
       "\t<tr><th scope=col>&lt;chr&gt;</th><th scope=col>&lt;dbl&gt;</th><th scope=col>&lt;dbl&gt;</th><th scope=col>&lt;chr&gt;</th><th scope=col>&lt;chr&gt;</th><th scope=col>&lt;chr&gt;</th><th scope=col>&lt;chr&gt;</th><th scope=col>&lt;chr&gt;</th><th scope=col>&lt;dbl&gt;</th><th scope=col>&lt;dbl&gt;</th><th scope=col>&lt;chr&gt;</th><th scope=col>&lt;chr&gt;</th><th scope=col>&lt;chr&gt;</th><th scope=col>&lt;chr&gt;</th></tr>\n",
       "</thead>\n",
       "<tbody>\n",
       "\t<tr><td>chr1</td><td> 898460</td><td> 899327</td><td>chr1:898460-899327  </td><td>ATAC</td><td>ATAC                  </td><td>ccres_v4.silencer.starr</td><td>chr1</td><td> 898458</td><td> 898659</td><td>chr1:898458-898659  </td><td>EH38E2776591</td><td>dELS</td><td>Robust</td></tr>\n",
       "\t<tr><td>chr1</td><td>2466924</td><td>2468602</td><td>chr1:2466924-2468602</td><td>ATAC</td><td>ASTARR_R,ATAC,WSTARR_R</td><td>ccres_v4.silencer.starr</td><td>chr1</td><td>2468066</td><td>2468391</td><td>chr1:2468066-2468391</td><td>EH38E3951891</td><td>pELS</td><td>Robust</td></tr>\n",
       "\t<tr><td>chr1</td><td>3968945</td><td>3969256</td><td>chr1:3968945-3969256</td><td>ATAC</td><td>ATAC,LMPRA_A          </td><td>ccres_v4.silencer.starr</td><td>chr1</td><td>3968917</td><td>3969184</td><td>chr1:3968917-3969184</td><td>EH38E3952406</td><td>dELS</td><td>Robust</td></tr>\n",
       "</tbody>\n",
       "</table>\n"
      ],
      "text/latex": [
       "A tibble: 3 × 14\n",
       "\\begin{tabular}{llllllllllllll}\n",
       " Chrom\\_A & Start\\_A & End\\_A & Region\\_A & Assay\\_Type & Assay\\_Label & Annotation & Chrom\\_B & Start\\_B & End\\_B & Region\\_B & Index\\_cCREs & Label\\_cCREs & Label\\_Silencer\\\\\n",
       " <chr> & <dbl> & <dbl> & <chr> & <chr> & <chr> & <chr> & <chr> & <dbl> & <dbl> & <chr> & <chr> & <chr> & <chr>\\\\\n",
       "\\hline\n",
       "\t chr1 &  898460 &  899327 & chr1:898460-899327   & ATAC & ATAC                   & ccres\\_v4.silencer.starr & chr1 &  898458 &  898659 & chr1:898458-898659   & EH38E2776591 & dELS & Robust\\\\\n",
       "\t chr1 & 2466924 & 2468602 & chr1:2466924-2468602 & ATAC & ASTARR\\_R,ATAC,WSTARR\\_R & ccres\\_v4.silencer.starr & chr1 & 2468066 & 2468391 & chr1:2468066-2468391 & EH38E3951891 & pELS & Robust\\\\\n",
       "\t chr1 & 3968945 & 3969256 & chr1:3968945-3969256 & ATAC & ATAC,LMPRA\\_A           & ccres\\_v4.silencer.starr & chr1 & 3968917 & 3969184 & chr1:3968917-3969184 & EH38E3952406 & dELS & Robust\\\\\n",
       "\\end{tabular}\n"
      ],
      "text/markdown": [
       "\n",
       "A tibble: 3 × 14\n",
       "\n",
       "| Chrom_A &lt;chr&gt; | Start_A &lt;dbl&gt; | End_A &lt;dbl&gt; | Region_A &lt;chr&gt; | Assay_Type &lt;chr&gt; | Assay_Label &lt;chr&gt; | Annotation &lt;chr&gt; | Chrom_B &lt;chr&gt; | Start_B &lt;dbl&gt; | End_B &lt;dbl&gt; | Region_B &lt;chr&gt; | Index_cCREs &lt;chr&gt; | Label_cCREs &lt;chr&gt; | Label_Silencer &lt;chr&gt; |\n",
       "|---|---|---|---|---|---|---|---|---|---|---|---|---|---|\n",
       "| chr1 |  898460 |  899327 | chr1:898460-899327   | ATAC | ATAC                   | ccres_v4.silencer.starr | chr1 |  898458 |  898659 | chr1:898458-898659   | EH38E2776591 | dELS | Robust |\n",
       "| chr1 | 2466924 | 2468602 | chr1:2466924-2468602 | ATAC | ASTARR_R,ATAC,WSTARR_R | ccres_v4.silencer.starr | chr1 | 2468066 | 2468391 | chr1:2468066-2468391 | EH38E3951891 | pELS | Robust |\n",
       "| chr1 | 3968945 | 3969256 | chr1:3968945-3969256 | ATAC | ATAC,LMPRA_A           | ccres_v4.silencer.starr | chr1 | 3968917 | 3969184 | chr1:3968917-3969184 | EH38E3952406 | dELS | Robust |\n",
       "\n"
      ],
      "text/plain": [
       "  Chrom_A Start_A End_A   Region_A             Assay_Type\n",
       "1 chr1     898460  899327 chr1:898460-899327   ATAC      \n",
       "2 chr1    2466924 2468602 chr1:2466924-2468602 ATAC      \n",
       "3 chr1    3968945 3969256 chr1:3968945-3969256 ATAC      \n",
       "  Assay_Label            Annotation              Chrom_B Start_B End_B  \n",
       "1 ATAC                   ccres_v4.silencer.starr chr1     898458  898659\n",
       "2 ASTARR_R,ATAC,WSTARR_R ccres_v4.silencer.starr chr1    2468066 2468391\n",
       "3 ATAC,LMPRA_A           ccres_v4.silencer.starr chr1    3968917 3969184\n",
       "  Region_B             Index_cCREs  Label_cCREs Label_Silencer\n",
       "1 chr1:898458-898659   EH38E2776591 dELS        Robust        \n",
       "2 chr1:2468066-2468391 EH38E3951891 pELS        Robust        \n",
       "3 chr1:3968917-3969184 EH38E3952406 dELS        Robust        "
      ]
     },
     "metadata": {},
     "output_type": "display_data"
    }
   ],
   "source": [
    "dat = dat3\n",
    "res = table(dat$Label_cCREs)\n",
    "print(res)\n",
    "head(dat, 3)"
   ]
  },
  {
   "cell_type": "code",
   "execution_count": 43,
   "metadata": {},
   "outputs": [
    {
     "name": "stdout",
     "output_type": "stream",
     "text": [
      "#Row: 131974 ; #Index: 131974 \n",
      "#Row: 4142   ; #Index: 4142   ; #Check: 3390 \n",
      "#Row: 555    ; #Index: 555    ; #Check: 201 \n"
     ]
    }
   ],
   "source": [
    "vec1 = unique(dat1$Index_B)\n",
    "vec2 = unique(dat2$Index_cCREs)\n",
    "vec3 = unique(dat3$Index_cCREs)\n",
    "\n",
    "txt = paste(\n",
    "    \"#Row:\",     nrow(dat1), \";\",\n",
    "    \"#Index:\", length(vec1)\n",
    ")\n",
    "cat(txt, \"\\n\")\n",
    "\n",
    "vec = intersect(vec1, vec2)\n",
    "txt = paste(\n",
    "    \"#Row:\",     nrow(dat2), \"  ;\",\n",
    "    \"#Index:\", length(vec2), \"  ;\",\n",
    "    \"#Check:\", length(vec)\n",
    ")\n",
    "cat(txt, \"\\n\")\n",
    "\n",
    "vec = intersect(vec1, vec3)\n",
    "txt = paste(\n",
    "    \"#Row:\",     nrow(dat3), \"   ;\",\n",
    "    \"#Index:\", length(vec3), \"   ;\",\n",
    "    \"#Check:\", length(vec)\n",
    ")\n",
    "cat(txt, \"\\n\")"
   ]
  },
  {
   "cell_type": "code",
   "execution_count": null,
   "metadata": {},
   "outputs": [],
   "source": []
  },
  {
   "cell_type": "code",
   "execution_count": 10,
   "metadata": {},
   "outputs": [
    {
     "name": "stdout",
     "output_type": "stream",
     "text": [
      "[1] 60  5\n"
     ]
    },
    {
     "data": {
      "text/html": [
       "<table class=\"dataframe\">\n",
       "<caption>A tibble: 6 × 5</caption>\n",
       "<thead>\n",
       "\t<tr><th scope=col>Label</th><th scope=col>Assay_Type</th><th scope=col>Count</th><th scope=col>Total</th><th scope=col>Freq</th></tr>\n",
       "\t<tr><th scope=col>&lt;chr&gt;</th><th scope=col>&lt;chr&gt;</th><th scope=col>&lt;int&gt;</th><th scope=col>&lt;int&gt;</th><th scope=col>&lt;dbl&gt;</th></tr>\n",
       "</thead>\n",
       "<tbody>\n",
       "\t<tr><td>CA-CTCF</td><td>ASTARR              </td><td> 1751</td><td> 63872</td><td>0.027414203</td></tr>\n",
       "\t<tr><td>CA-CTCF</td><td>ATAC                </td><td>22883</td><td>357245</td><td>0.064054081</td></tr>\n",
       "\t<tr><td>CA-CTCF</td><td>CRISPRi-Growth      </td><td> 1001</td><td> 16288</td><td>0.061456287</td></tr>\n",
       "\t<tr><td>CA-CTCF</td><td>ENCODE-E2G_Benchmark</td><td>    5</td><td>  1093</td><td>0.004574565</td></tr>\n",
       "\t<tr><td>CA-CTCF</td><td>LMPRA               </td><td> 6101</td><td> 92162</td><td>0.066198650</td></tr>\n",
       "\t<tr><td>CA-CTCF</td><td>TMPRA               </td><td>  142</td><td>  3945</td><td>0.035994930</td></tr>\n",
       "</tbody>\n",
       "</table>\n"
      ],
      "text/latex": [
       "A tibble: 6 × 5\n",
       "\\begin{tabular}{lllll}\n",
       " Label & Assay\\_Type & Count & Total & Freq\\\\\n",
       " <chr> & <chr> & <int> & <int> & <dbl>\\\\\n",
       "\\hline\n",
       "\t CA-CTCF & ASTARR               &  1751 &  63872 & 0.027414203\\\\\n",
       "\t CA-CTCF & ATAC                 & 22883 & 357245 & 0.064054081\\\\\n",
       "\t CA-CTCF & CRISPRi-Growth       &  1001 &  16288 & 0.061456287\\\\\n",
       "\t CA-CTCF & ENCODE-E2G\\_Benchmark &     5 &   1093 & 0.004574565\\\\\n",
       "\t CA-CTCF & LMPRA                &  6101 &  92162 & 0.066198650\\\\\n",
       "\t CA-CTCF & TMPRA                &   142 &   3945 & 0.035994930\\\\\n",
       "\\end{tabular}\n"
      ],
      "text/markdown": [
       "\n",
       "A tibble: 6 × 5\n",
       "\n",
       "| Label &lt;chr&gt; | Assay_Type &lt;chr&gt; | Count &lt;int&gt; | Total &lt;int&gt; | Freq &lt;dbl&gt; |\n",
       "|---|---|---|---|---|\n",
       "| CA-CTCF | ASTARR               |  1751 |  63872 | 0.027414203 |\n",
       "| CA-CTCF | ATAC                 | 22883 | 357245 | 0.064054081 |\n",
       "| CA-CTCF | CRISPRi-Growth       |  1001 |  16288 | 0.061456287 |\n",
       "| CA-CTCF | ENCODE-E2G_Benchmark |     5 |   1093 | 0.004574565 |\n",
       "| CA-CTCF | LMPRA                |  6101 |  92162 | 0.066198650 |\n",
       "| CA-CTCF | TMPRA                |   142 |   3945 | 0.035994930 |\n",
       "\n"
      ],
      "text/plain": [
       "  Label   Assay_Type           Count Total  Freq       \n",
       "1 CA-CTCF ASTARR                1751  63872 0.027414203\n",
       "2 CA-CTCF ATAC                 22883 357245 0.064054081\n",
       "3 CA-CTCF CRISPRi-Growth        1001  16288 0.061456287\n",
       "4 CA-CTCF ENCODE-E2G_Benchmark     5   1093 0.004574565\n",
       "5 CA-CTCF LMPRA                 6101  92162 0.066198650\n",
       "6 CA-CTCF TMPRA                  142   3945 0.035994930"
      ]
     },
     "metadata": {},
     "output_type": "display_data"
    }
   ],
   "source": [
    "### split and expand table by assay type\n",
    "dat = dat_peak_annot_total_overlap\n",
    "dat = dat %>% tidyr::separate_longer_delim(Assay_Type, \",\")\n",
    "\n",
    "### count each\n",
    "dat1 = dat %>%\n",
    "    dplyr::group_by(Label, Assay_Type) %>%\n",
    "    dplyr::summarise(\n",
    "        Count   = n(), \n",
    "        .groups = \"drop\")\n",
    "\n",
    "### count total\n",
    "dat2 = dat %>%\n",
    "    dplyr::group_by(Assay_Type) %>%\n",
    "    dplyr::summarise(\n",
    "        Total   = n(), \n",
    "        .groups = \"drop\")\n",
    "\n",
    "### merge count\n",
    "dat = dat1 %>% \n",
    "    dplyr::left_join(dat2, by = \"Assay_Type\") %>%\n",
    "    dplyr::mutate(Freq = Count / Total)\n",
    "\n",
    "### assign and show\n",
    "dat_peak_annot_total_count = dat\n",
    "print(dim(dat))\n",
    "head(dat)"
   ]
  },
  {
   "cell_type": "code",
   "execution_count": null,
   "metadata": {},
   "outputs": [],
   "source": []
  },
  {
   "cell_type": "code",
   "execution_count": null,
   "metadata": {},
   "outputs": [],
   "source": []
  },
  {
   "cell_type": "code",
   "execution_count": null,
   "metadata": {},
   "outputs": [],
   "source": []
  },
  {
   "cell_type": "code",
   "execution_count": null,
   "metadata": {},
   "outputs": [],
   "source": []
  },
  {
   "cell_type": "code",
   "execution_count": null,
   "metadata": {},
   "outputs": [],
   "source": []
  },
  {
   "cell_type": "code",
   "execution_count": 2,
   "metadata": {},
   "outputs": [],
   "source": [
    "#FOLDER_REG = \"region_active\"\n",
    "FOLDER_ANT = \"annotation_ccres_silencer\""
   ]
  },
  {
   "cell_type": "code",
   "execution_count": 3,
   "metadata": {},
   "outputs": [
    {
     "data": {
      "text/html": [
       "<style>\n",
       ".list-inline {list-style: none; margin:0; padding: 0}\n",
       ".list-inline>li {display: inline-block}\n",
       ".list-inline>li:not(:last-child)::after {content: \"\\00b7\"; padding: 0 .5ex}\n",
       "</style>\n",
       "<ol class=list-inline><li>'peak.summary.ccre_v3.tsv'</li><li>'peak.summary.ccre_v4.tsv'</li><li>'peak.summary.ccres_v3.tsv'</li><li>'peak.summary.ccres_v4.silencer.rest.tsv'</li><li>'peak.summary.ccres_v4.silencer.starr.tsv'</li><li>'peak.summary.ccres_v4.tsv'</li></ol>\n"
      ],
      "text/latex": [
       "\\begin{enumerate*}\n",
       "\\item 'peak.summary.ccre\\_v3.tsv'\n",
       "\\item 'peak.summary.ccre\\_v4.tsv'\n",
       "\\item 'peak.summary.ccres\\_v3.tsv'\n",
       "\\item 'peak.summary.ccres\\_v4.silencer.rest.tsv'\n",
       "\\item 'peak.summary.ccres\\_v4.silencer.starr.tsv'\n",
       "\\item 'peak.summary.ccres\\_v4.tsv'\n",
       "\\end{enumerate*}\n"
      ],
      "text/markdown": [
       "1. 'peak.summary.ccre_v3.tsv'\n",
       "2. 'peak.summary.ccre_v4.tsv'\n",
       "3. 'peak.summary.ccres_v3.tsv'\n",
       "4. 'peak.summary.ccres_v4.silencer.rest.tsv'\n",
       "5. 'peak.summary.ccres_v4.silencer.starr.tsv'\n",
       "6. 'peak.summary.ccres_v4.tsv'\n",
       "\n",
       "\n"
      ],
      "text/plain": [
       "[1] \"peak.summary.ccre_v3.tsv\"                \n",
       "[2] \"peak.summary.ccre_v4.tsv\"                \n",
       "[3] \"peak.summary.ccres_v3.tsv\"               \n",
       "[4] \"peak.summary.ccres_v4.silencer.rest.tsv\" \n",
       "[5] \"peak.summary.ccres_v4.silencer.starr.tsv\"\n",
       "[6] \"peak.summary.ccres_v4.tsv\"               "
      ]
     },
     "metadata": {},
     "output_type": "display_data"
    }
   ],
   "source": [
    "fdiry = file.path(\n",
    "    FD_RES, \n",
    "    \"results\", \n",
    "    \"region\", \n",
    "    \"annotation_fcc_table\",\n",
    "    #FOLDER_REG,\n",
    "    \"summary\")\n",
    "dir(fdiry)"
   ]
  },
  {
   "cell_type": "code",
   "execution_count": 8,
   "metadata": {},
   "outputs": [
    {
     "name": "stdout",
     "output_type": "stream",
     "text": [
      "[1] 268046      9\n"
     ]
    },
    {
     "data": {
      "text/html": [
       "<table class=\"dataframe\">\n",
       "<caption>A tibble: 6 × 9</caption>\n",
       "<thead>\n",
       "\t<tr><th scope=col>Peak</th><th scope=col>Assay_Type</th><th scope=col>Assay_Label</th><th scope=col>Annotation</th><th scope=col>Label</th><th scope=col>Count</th><th scope=col>Region</th><th scope=col>Score</th><th scope=col>Note</th></tr>\n",
       "\t<tr><th scope=col>&lt;chr&gt;</th><th scope=col>&lt;chr&gt;</th><th scope=col>&lt;chr&gt;</th><th scope=col>&lt;chr&gt;</th><th scope=col>&lt;chr&gt;</th><th scope=col>&lt;dbl&gt;</th><th scope=col>&lt;chr&gt;</th><th scope=col>&lt;dbl&gt;</th><th scope=col>&lt;chr&gt;</th></tr>\n",
       "</thead>\n",
       "<tbody>\n",
       "\t<tr><td>chr1:10015-10442  </td><td>ATAC</td><td>ATAC</td><td>ccres_v4</td><td>Low-DNase</td><td>1</td><td>chr1:10033-10250  </td><td>0</td><td>EH38E2776516:Low-DNase</td></tr>\n",
       "\t<tr><td>chr1:16015-16477  </td><td>ATAC</td><td>ATAC</td><td>ccres_v4</td><td>Low-DNase</td><td>1</td><td>chr1:16097-16381  </td><td>0</td><td>EH38E3951272:Low-DNase</td></tr>\n",
       "\t<tr><td>chr1:17237-17772  </td><td>ATAC</td><td>ATAC</td><td>ccres_v4</td><td>Low-DNase</td><td>1</td><td>chr1:17343-17642  </td><td>0</td><td>EH38E3951273:Low-DNase</td></tr>\n",
       "\t<tr><td>chr1:28903-29613  </td><td>ATAC</td><td>ATAC</td><td>ccres_v4</td><td>Low-DNase</td><td>1</td><td>chr1:29320-29517  </td><td>0</td><td>EH38E3951274:Low-DNase</td></tr>\n",
       "\t<tr><td>chr1:115411-115986</td><td>ATAC</td><td>ATAC</td><td>ccres_v4</td><td>CA-CTCF  </td><td>1</td><td>chr1:115562-115912</td><td>0</td><td>EH38E3951280:CA-CTCF  </td></tr>\n",
       "\t<tr><td>chr1:118518-118743</td><td>ATAC</td><td>ATAC</td><td>ccres_v4</td><td>Low-DNase</td><td>1</td><td>chr1:118508-118826</td><td>0</td><td>EH38E3951281:Low-DNase</td></tr>\n",
       "</tbody>\n",
       "</table>\n"
      ],
      "text/latex": [
       "A tibble: 6 × 9\n",
       "\\begin{tabular}{lllllllll}\n",
       " Peak & Assay\\_Type & Assay\\_Label & Annotation & Label & Count & Region & Score & Note\\\\\n",
       " <chr> & <chr> & <chr> & <chr> & <chr> & <dbl> & <chr> & <dbl> & <chr>\\\\\n",
       "\\hline\n",
       "\t chr1:10015-10442   & ATAC & ATAC & ccres\\_v4 & Low-DNase & 1 & chr1:10033-10250   & 0 & EH38E2776516:Low-DNase\\\\\n",
       "\t chr1:16015-16477   & ATAC & ATAC & ccres\\_v4 & Low-DNase & 1 & chr1:16097-16381   & 0 & EH38E3951272:Low-DNase\\\\\n",
       "\t chr1:17237-17772   & ATAC & ATAC & ccres\\_v4 & Low-DNase & 1 & chr1:17343-17642   & 0 & EH38E3951273:Low-DNase\\\\\n",
       "\t chr1:28903-29613   & ATAC & ATAC & ccres\\_v4 & Low-DNase & 1 & chr1:29320-29517   & 0 & EH38E3951274:Low-DNase\\\\\n",
       "\t chr1:115411-115986 & ATAC & ATAC & ccres\\_v4 & CA-CTCF   & 1 & chr1:115562-115912 & 0 & EH38E3951280:CA-CTCF  \\\\\n",
       "\t chr1:118518-118743 & ATAC & ATAC & ccres\\_v4 & Low-DNase & 1 & chr1:118508-118826 & 0 & EH38E3951281:Low-DNase\\\\\n",
       "\\end{tabular}\n"
      ],
      "text/markdown": [
       "\n",
       "A tibble: 6 × 9\n",
       "\n",
       "| Peak &lt;chr&gt; | Assay_Type &lt;chr&gt; | Assay_Label &lt;chr&gt; | Annotation &lt;chr&gt; | Label &lt;chr&gt; | Count &lt;dbl&gt; | Region &lt;chr&gt; | Score &lt;dbl&gt; | Note &lt;chr&gt; |\n",
       "|---|---|---|---|---|---|---|---|---|\n",
       "| chr1:10015-10442   | ATAC | ATAC | ccres_v4 | Low-DNase | 1 | chr1:10033-10250   | 0 | EH38E2776516:Low-DNase |\n",
       "| chr1:16015-16477   | ATAC | ATAC | ccres_v4 | Low-DNase | 1 | chr1:16097-16381   | 0 | EH38E3951272:Low-DNase |\n",
       "| chr1:17237-17772   | ATAC | ATAC | ccres_v4 | Low-DNase | 1 | chr1:17343-17642   | 0 | EH38E3951273:Low-DNase |\n",
       "| chr1:28903-29613   | ATAC | ATAC | ccres_v4 | Low-DNase | 1 | chr1:29320-29517   | 0 | EH38E3951274:Low-DNase |\n",
       "| chr1:115411-115986 | ATAC | ATAC | ccres_v4 | CA-CTCF   | 1 | chr1:115562-115912 | 0 | EH38E3951280:CA-CTCF   |\n",
       "| chr1:118518-118743 | ATAC | ATAC | ccres_v4 | Low-DNase | 1 | chr1:118508-118826 | 0 | EH38E3951281:Low-DNase |\n",
       "\n"
      ],
      "text/plain": [
       "  Peak               Assay_Type Assay_Label Annotation Label     Count\n",
       "1 chr1:10015-10442   ATAC       ATAC        ccres_v4   Low-DNase 1    \n",
       "2 chr1:16015-16477   ATAC       ATAC        ccres_v4   Low-DNase 1    \n",
       "3 chr1:17237-17772   ATAC       ATAC        ccres_v4   Low-DNase 1    \n",
       "4 chr1:28903-29613   ATAC       ATAC        ccres_v4   Low-DNase 1    \n",
       "5 chr1:115411-115986 ATAC       ATAC        ccres_v4   CA-CTCF   1    \n",
       "6 chr1:118518-118743 ATAC       ATAC        ccres_v4   Low-DNase 1    \n",
       "  Region             Score Note                  \n",
       "1 chr1:10033-10250   0     EH38E2776516:Low-DNase\n",
       "2 chr1:16097-16381   0     EH38E3951272:Low-DNase\n",
       "3 chr1:17343-17642   0     EH38E3951273:Low-DNase\n",
       "4 chr1:29320-29517   0     EH38E3951274:Low-DNase\n",
       "5 chr1:115562-115912 0     EH38E3951280:CA-CTCF  \n",
       "6 chr1:118508-118826 0     EH38E3951281:Low-DNase"
      ]
     },
     "metadata": {},
     "output_type": "display_data"
    }
   ],
   "source": [
    "fdiry = file.path(\n",
    "    FD_RES, \n",
    "    \"results\", \n",
    "    \"region\", \n",
    "    \"annotation_fcc_table\",\n",
    "    #FOLDER_REG,\n",
    "    \"summary\")\n",
    "fname = \"peak.summary.ccres_v4.tsv\"\n",
    "fpath = file.path(fdiry, fname)\n",
    "\n",
    "dat = read_tsv(fpath, show_col_types = FALSE)\n",
    "\n",
    "dat_peak_annot_summary = dat\n",
    "print(dim(dat))\n",
    "head(dat)"
   ]
  },
  {
   "cell_type": "code",
   "execution_count": 9,
   "metadata": {},
   "outputs": [
    {
     "name": "stdout",
     "output_type": "stream",
     "text": [
      "[1] 4257    9\n"
     ]
    },
    {
     "data": {
      "text/html": [
       "<table class=\"dataframe\">\n",
       "<caption>A tibble: 6 × 9</caption>\n",
       "<thead>\n",
       "\t<tr><th scope=col>Peak</th><th scope=col>Assay_Type</th><th scope=col>Assay_Label</th><th scope=col>Annotation</th><th scope=col>Label</th><th scope=col>Count</th><th scope=col>Region</th><th scope=col>Score</th><th scope=col>Note</th></tr>\n",
       "\t<tr><th scope=col>&lt;chr&gt;</th><th scope=col>&lt;chr&gt;</th><th scope=col>&lt;chr&gt;</th><th scope=col>&lt;chr&gt;</th><th scope=col>&lt;chr&gt;</th><th scope=col>&lt;dbl&gt;</th><th scope=col>&lt;chr&gt;</th><th scope=col>&lt;dbl&gt;</th><th scope=col>&lt;chr&gt;</th></tr>\n",
       "</thead>\n",
       "<tbody>\n",
       "\t<tr><td>chr1:1298873-1300610</td><td>ASTARR,ATAC,CRISPRi-Growth</td><td>ASTARR_R,ATAC,CRISPRi-Growth                     </td><td>ccres_v4.silencer.rest</td><td>dELS;REST+ enhancer/silencer</td><td>1</td><td>chr1:1298966-1299316</td><td>0</td><td>EH38E2777310:dELS;REST+ enhancer/silencer</td></tr>\n",
       "\t<tr><td>chr1:1334703-1335568</td><td>ATAC                      </td><td>ATAC                                             </td><td>ccres_v4.silencer.rest</td><td>dELS;REST+ enhancer/silencer</td><td>1</td><td>chr1:1334920-1335266</td><td>0</td><td>EH38E2777380:dELS;REST+ enhancer/silencer</td></tr>\n",
       "\t<tr><td>chr1:1374415-1376654</td><td>ATAC,WSTARR               </td><td>ATAC,WSTARR_A,WSTARR_AB                          </td><td>ccres_v4.silencer.rest</td><td>pELS;REST+ Non-silencer     </td><td>1</td><td>chr1:1375250-1375598</td><td>0</td><td>EH38E2777455:pELS;REST+ Non-silencer     </td></tr>\n",
       "\t<tr><td>chr1:1406792-1408163</td><td>ASTARR,ATAC,LMPRA,WSTARR  </td><td>ASTARR_R,ATAC,LMPRA_A,LMPRA_AB,WSTARR_A,WSTARR_AB</td><td>ccres_v4.silencer.rest</td><td>PLS;REST+ Non-silencer      </td><td>1</td><td>chr1:1407146-1407496</td><td>0</td><td>EH38E2777492:PLS;REST+ Non-silencer      </td></tr>\n",
       "\t<tr><td>chr1:1432984-1434718</td><td>ASTARR,ATAC,WSTARR        </td><td>ASTARR_R,ATAC,WSTARR_A                           </td><td>ccres_v4.silencer.rest</td><td>pELS;REST+ Non-silencer     </td><td>1</td><td>chr1:1433204-1433554</td><td>0</td><td>EH38E2777541:pELS;REST+ Non-silencer     </td></tr>\n",
       "\t<tr><td>chr1:1470698-1473196</td><td>ASTARR,ATAC,LMPRA,WSTARR  </td><td>ASTARR_R,ATAC,LMPRA_A,LMPRA_AB,WSTARR_A,WSTARR_AB</td><td>ccres_v4.silencer.rest</td><td>pELS;REST+ Non-silencer     </td><td>1</td><td>chr1:1472896-1473193</td><td>0</td><td>EH38E3951566:pELS;REST+ Non-silencer     </td></tr>\n",
       "</tbody>\n",
       "</table>\n"
      ],
      "text/latex": [
       "A tibble: 6 × 9\n",
       "\\begin{tabular}{lllllllll}\n",
       " Peak & Assay\\_Type & Assay\\_Label & Annotation & Label & Count & Region & Score & Note\\\\\n",
       " <chr> & <chr> & <chr> & <chr> & <chr> & <dbl> & <chr> & <dbl> & <chr>\\\\\n",
       "\\hline\n",
       "\t chr1:1298873-1300610 & ASTARR,ATAC,CRISPRi-Growth & ASTARR\\_R,ATAC,CRISPRi-Growth                      & ccres\\_v4.silencer.rest & dELS;REST+ enhancer/silencer & 1 & chr1:1298966-1299316 & 0 & EH38E2777310:dELS;REST+ enhancer/silencer\\\\\n",
       "\t chr1:1334703-1335568 & ATAC                       & ATAC                                              & ccres\\_v4.silencer.rest & dELS;REST+ enhancer/silencer & 1 & chr1:1334920-1335266 & 0 & EH38E2777380:dELS;REST+ enhancer/silencer\\\\\n",
       "\t chr1:1374415-1376654 & ATAC,WSTARR                & ATAC,WSTARR\\_A,WSTARR\\_AB                           & ccres\\_v4.silencer.rest & pELS;REST+ Non-silencer      & 1 & chr1:1375250-1375598 & 0 & EH38E2777455:pELS;REST+ Non-silencer     \\\\\n",
       "\t chr1:1406792-1408163 & ASTARR,ATAC,LMPRA,WSTARR   & ASTARR\\_R,ATAC,LMPRA\\_A,LMPRA\\_AB,WSTARR\\_A,WSTARR\\_AB & ccres\\_v4.silencer.rest & PLS;REST+ Non-silencer       & 1 & chr1:1407146-1407496 & 0 & EH38E2777492:PLS;REST+ Non-silencer      \\\\\n",
       "\t chr1:1432984-1434718 & ASTARR,ATAC,WSTARR         & ASTARR\\_R,ATAC,WSTARR\\_A                            & ccres\\_v4.silencer.rest & pELS;REST+ Non-silencer      & 1 & chr1:1433204-1433554 & 0 & EH38E2777541:pELS;REST+ Non-silencer     \\\\\n",
       "\t chr1:1470698-1473196 & ASTARR,ATAC,LMPRA,WSTARR   & ASTARR\\_R,ATAC,LMPRA\\_A,LMPRA\\_AB,WSTARR\\_A,WSTARR\\_AB & ccres\\_v4.silencer.rest & pELS;REST+ Non-silencer      & 1 & chr1:1472896-1473193 & 0 & EH38E3951566:pELS;REST+ Non-silencer     \\\\\n",
       "\\end{tabular}\n"
      ],
      "text/markdown": [
       "\n",
       "A tibble: 6 × 9\n",
       "\n",
       "| Peak &lt;chr&gt; | Assay_Type &lt;chr&gt; | Assay_Label &lt;chr&gt; | Annotation &lt;chr&gt; | Label &lt;chr&gt; | Count &lt;dbl&gt; | Region &lt;chr&gt; | Score &lt;dbl&gt; | Note &lt;chr&gt; |\n",
       "|---|---|---|---|---|---|---|---|---|\n",
       "| chr1:1298873-1300610 | ASTARR,ATAC,CRISPRi-Growth | ASTARR_R,ATAC,CRISPRi-Growth                      | ccres_v4.silencer.rest | dELS;REST+ enhancer/silencer | 1 | chr1:1298966-1299316 | 0 | EH38E2777310:dELS;REST+ enhancer/silencer |\n",
       "| chr1:1334703-1335568 | ATAC                       | ATAC                                              | ccres_v4.silencer.rest | dELS;REST+ enhancer/silencer | 1 | chr1:1334920-1335266 | 0 | EH38E2777380:dELS;REST+ enhancer/silencer |\n",
       "| chr1:1374415-1376654 | ATAC,WSTARR                | ATAC,WSTARR_A,WSTARR_AB                           | ccres_v4.silencer.rest | pELS;REST+ Non-silencer      | 1 | chr1:1375250-1375598 | 0 | EH38E2777455:pELS;REST+ Non-silencer      |\n",
       "| chr1:1406792-1408163 | ASTARR,ATAC,LMPRA,WSTARR   | ASTARR_R,ATAC,LMPRA_A,LMPRA_AB,WSTARR_A,WSTARR_AB | ccres_v4.silencer.rest | PLS;REST+ Non-silencer       | 1 | chr1:1407146-1407496 | 0 | EH38E2777492:PLS;REST+ Non-silencer       |\n",
       "| chr1:1432984-1434718 | ASTARR,ATAC,WSTARR         | ASTARR_R,ATAC,WSTARR_A                            | ccres_v4.silencer.rest | pELS;REST+ Non-silencer      | 1 | chr1:1433204-1433554 | 0 | EH38E2777541:pELS;REST+ Non-silencer      |\n",
       "| chr1:1470698-1473196 | ASTARR,ATAC,LMPRA,WSTARR   | ASTARR_R,ATAC,LMPRA_A,LMPRA_AB,WSTARR_A,WSTARR_AB | ccres_v4.silencer.rest | pELS;REST+ Non-silencer      | 1 | chr1:1472896-1473193 | 0 | EH38E3951566:pELS;REST+ Non-silencer      |\n",
       "\n"
      ],
      "text/plain": [
       "  Peak                 Assay_Type                \n",
       "1 chr1:1298873-1300610 ASTARR,ATAC,CRISPRi-Growth\n",
       "2 chr1:1334703-1335568 ATAC                      \n",
       "3 chr1:1374415-1376654 ATAC,WSTARR               \n",
       "4 chr1:1406792-1408163 ASTARR,ATAC,LMPRA,WSTARR  \n",
       "5 chr1:1432984-1434718 ASTARR,ATAC,WSTARR        \n",
       "6 chr1:1470698-1473196 ASTARR,ATAC,LMPRA,WSTARR  \n",
       "  Assay_Label                                       Annotation            \n",
       "1 ASTARR_R,ATAC,CRISPRi-Growth                      ccres_v4.silencer.rest\n",
       "2 ATAC                                              ccres_v4.silencer.rest\n",
       "3 ATAC,WSTARR_A,WSTARR_AB                           ccres_v4.silencer.rest\n",
       "4 ASTARR_R,ATAC,LMPRA_A,LMPRA_AB,WSTARR_A,WSTARR_AB ccres_v4.silencer.rest\n",
       "5 ASTARR_R,ATAC,WSTARR_A                            ccres_v4.silencer.rest\n",
       "6 ASTARR_R,ATAC,LMPRA_A,LMPRA_AB,WSTARR_A,WSTARR_AB ccres_v4.silencer.rest\n",
       "  Label                        Count Region               Score\n",
       "1 dELS;REST+ enhancer/silencer 1     chr1:1298966-1299316 0    \n",
       "2 dELS;REST+ enhancer/silencer 1     chr1:1334920-1335266 0    \n",
       "3 pELS;REST+ Non-silencer      1     chr1:1375250-1375598 0    \n",
       "4 PLS;REST+ Non-silencer       1     chr1:1407146-1407496 0    \n",
       "5 pELS;REST+ Non-silencer      1     chr1:1433204-1433554 0    \n",
       "6 pELS;REST+ Non-silencer      1     chr1:1472896-1473193 0    \n",
       "  Note                                     \n",
       "1 EH38E2777310:dELS;REST+ enhancer/silencer\n",
       "2 EH38E2777380:dELS;REST+ enhancer/silencer\n",
       "3 EH38E2777455:pELS;REST+ Non-silencer     \n",
       "4 EH38E2777492:PLS;REST+ Non-silencer      \n",
       "5 EH38E2777541:pELS;REST+ Non-silencer     \n",
       "6 EH38E3951566:pELS;REST+ Non-silencer     "
      ]
     },
     "metadata": {},
     "output_type": "display_data"
    }
   ],
   "source": [
    "fdiry = file.path(\n",
    "    FD_RES, \n",
    "    \"results\", \n",
    "    \"region\", \n",
    "    \"annotation_fcc_table\",\n",
    "    #FOLDER_REG,\n",
    "    \"summary\")\n",
    "fname = \"peak.summary.ccres_v4.silencer.rest.tsv\"\n",
    "fpath = file.path(fdiry, fname)\n",
    "\n",
    "dat = read_tsv(fpath, show_col_types = FALSE)\n",
    "\n",
    "dat_peak_annot_summary_silencer = dat\n",
    "print(dim(dat))\n",
    "head(dat)"
   ]
  },
  {
   "cell_type": "markdown",
   "metadata": {},
   "source": [
    "## Calculate silencer proportions"
   ]
  },
  {
   "cell_type": "code",
   "execution_count": 11,
   "metadata": {},
   "outputs": [
    {
     "data": {
      "text/plain": [
       "\n",
       "   CA-CTCF CA-H3K4me3    CA-only      CA-TF       dELS  Low-DNase       pELS \n",
       "     22566       3043       1433      26323      15802     173984      12833 \n",
       "       PLS \n",
       "     12062 "
      ]
     },
     "metadata": {},
     "output_type": "display_data"
    }
   ],
   "source": [
    "dat = dat_peak_annot_summary\n",
    "table(dat$Label)"
   ]
  },
  {
   "cell_type": "code",
   "execution_count": 21,
   "metadata": {},
   "outputs": [],
   "source": [
    "###\n",
    "dat = dat_peak_annot_summary_silencer\n",
    "dat = dat %>% \n",
    "    tidyr::separate_longer_delim(Assay_Type, \",\")\n",
    "\n",
    "dat1 = dat %>%\n",
    "    dplyr::group_by(Assay_Type) %>%\n",
    "    dplyr::summarise(Count = sum(Count), .groups = \"drop\")\n",
    "\n",
    "###\n",
    "dat = dat_peak_annot_summary\n",
    "dat = dat %>% \n",
    "    tidyr::separate_longer_delim(Assay_Type, \",\") %>%\n",
    "    dplyr::filter(Label != \"Low-DNase\")\n",
    "\n",
    "dat2 = dat %>%\n",
    "    dplyr::group_by(Assay_Type) %>%\n",
    "    dplyr::summarise(Total = sum(Count), .groups = \"drop\")"
   ]
  },
  {
   "cell_type": "code",
   "execution_count": 24,
   "metadata": {},
   "outputs": [],
   "source": [
    "dat = dat_peak_annot_summary_silencer\n",
    "dat = dat %>% \n",
    "    tidyr::separate_longer_delim(Assay_Type, \",\")\n",
    "lst1 = split(dat$Region, dat$Assay_Type)\n",
    "\n",
    "dat = dat_peak_annot_summary\n",
    "dat = dat %>% \n",
    "    tidyr::separate_longer_delim(Assay_Type, \",\") %>%\n",
    "    dplyr::filter(Label != \"Low-DNase\")\n",
    "lst2 = split(dat$Region, dat$Assay_Type)"
   ]
  },
  {
   "cell_type": "code",
   "execution_count": 28,
   "metadata": {},
   "outputs": [
    {
     "name": "stdout",
     "output_type": "stream",
     "text": [
      "ASTARR \n",
      "Length (Silencer): 1650 \n",
      "Length (Total):    25753 \n",
      "Overlap:           683 \n",
      "\n",
      "ATAC \n",
      "Length (Silencer): 4074 \n",
      "Length (Total):    91125 \n",
      "Overlap:           1836 \n",
      "\n",
      "CRISPRi-Growth \n",
      "Length (Silencer): 468 \n",
      "Length (Total):    5918 \n",
      "Overlap:           231 \n",
      "\n",
      "CRISPRi-HCRFF \n",
      "Length (Silencer): 2 \n",
      "Length (Total):    75 \n",
      "Overlap:           1 \n",
      "\n",
      "ENCODE-E2G_Benchmark \n",
      "Length (Silencer): 8 \n",
      "Length (Total):    417 \n",
      "Overlap:           3 \n",
      "\n",
      "LMPRA \n",
      "Length (Silencer): 1919 \n",
      "Length (Total):    38134 \n",
      "Overlap:           883 \n",
      "\n",
      "TMPRA \n",
      "Length (Silencer): 22 \n",
      "Length (Total):    808 \n",
      "Overlap:           7 \n",
      "\n",
      "WSTARR \n",
      "Length (Silencer): 2687 \n",
      "Length (Total):    33317 \n",
      "Overlap:           1149 \n",
      "\n"
     ]
    }
   ],
   "source": [
    "vec = names(lst1)\n",
    "for (txt in vec){\n",
    "    vec1 = lst1[[txt]]\n",
    "    vec2 = lst2[[txt]]\n",
    "    vec3 = intersect(vec1, vec2)\n",
    "    \n",
    "    cat(txt, \"\\n\")\n",
    "    cat(\"Length (Silencer):\", length(vec1), \"\\n\")\n",
    "    cat(\"Length (Total):   \", length(vec2), \"\\n\")\n",
    "    cat(\"Overlap:          \", length(vec3), \"\\n\")\n",
    "    cat(\"\\n\")\n",
    "}"
   ]
  },
  {
   "cell_type": "code",
   "execution_count": 5,
   "metadata": {},
   "outputs": [
    {
     "data": {
      "text/plain": [
       "\n",
       "   1    2 \n",
       "4189   68 "
      ]
     },
     "metadata": {},
     "output_type": "display_data"
    }
   ],
   "source": [
    "dat = dat_peak_annot_summary\n",
    "table(dat$Count)"
   ]
  },
  {
   "cell_type": "code",
   "execution_count": 6,
   "metadata": {},
   "outputs": [
    {
     "name": "stdout",
     "output_type": "stream",
     "text": [
      "[1] 43  5\n"
     ]
    },
    {
     "data": {
      "text/html": [
       "<table class=\"dataframe\">\n",
       "<caption>A tibble: 6 × 5</caption>\n",
       "<thead>\n",
       "\t<tr><th scope=col>Label</th><th scope=col>Assay_Type</th><th scope=col>Count</th><th scope=col>Total</th><th scope=col>Freq</th></tr>\n",
       "\t<tr><th scope=col>&lt;chr&gt;</th><th scope=col>&lt;chr&gt;</th><th scope=col>&lt;dbl&gt;</th><th scope=col>&lt;dbl&gt;</th><th scope=col>&lt;dbl&gt;</th></tr>\n",
       "</thead>\n",
       "<tbody>\n",
       "\t<tr><td>CA-CTCF;REST+ silencer</td><td>ASTARR        </td><td>  9</td><td>1692</td><td>0.005319149</td></tr>\n",
       "\t<tr><td>CA-CTCF;REST+ silencer</td><td>ATAC          </td><td>199</td><td>4142</td><td>0.048044423</td></tr>\n",
       "\t<tr><td>CA-CTCF;REST+ silencer</td><td>CRISPRi-Growth</td><td>  6</td><td> 475</td><td>0.012631579</td></tr>\n",
       "\t<tr><td>CA-CTCF;REST+ silencer</td><td>LMPRA         </td><td> 25</td><td>1956</td><td>0.012781186</td></tr>\n",
       "\t<tr><td>CA-CTCF;REST+ silencer</td><td>TMPRA         </td><td>  1</td><td>  22</td><td>0.045454545</td></tr>\n",
       "\t<tr><td>CA-CTCF;REST+ silencer</td><td>WSTARR        </td><td> 74</td><td>2744</td><td>0.026967930</td></tr>\n",
       "</tbody>\n",
       "</table>\n"
      ],
      "text/latex": [
       "A tibble: 6 × 5\n",
       "\\begin{tabular}{lllll}\n",
       " Label & Assay\\_Type & Count & Total & Freq\\\\\n",
       " <chr> & <chr> & <dbl> & <dbl> & <dbl>\\\\\n",
       "\\hline\n",
       "\t CA-CTCF;REST+ silencer & ASTARR         &   9 & 1692 & 0.005319149\\\\\n",
       "\t CA-CTCF;REST+ silencer & ATAC           & 199 & 4142 & 0.048044423\\\\\n",
       "\t CA-CTCF;REST+ silencer & CRISPRi-Growth &   6 &  475 & 0.012631579\\\\\n",
       "\t CA-CTCF;REST+ silencer & LMPRA          &  25 & 1956 & 0.012781186\\\\\n",
       "\t CA-CTCF;REST+ silencer & TMPRA          &   1 &   22 & 0.045454545\\\\\n",
       "\t CA-CTCF;REST+ silencer & WSTARR         &  74 & 2744 & 0.026967930\\\\\n",
       "\\end{tabular}\n"
      ],
      "text/markdown": [
       "\n",
       "A tibble: 6 × 5\n",
       "\n",
       "| Label &lt;chr&gt; | Assay_Type &lt;chr&gt; | Count &lt;dbl&gt; | Total &lt;dbl&gt; | Freq &lt;dbl&gt; |\n",
       "|---|---|---|---|---|\n",
       "| CA-CTCF;REST+ silencer | ASTARR         |   9 | 1692 | 0.005319149 |\n",
       "| CA-CTCF;REST+ silencer | ATAC           | 199 | 4142 | 0.048044423 |\n",
       "| CA-CTCF;REST+ silencer | CRISPRi-Growth |   6 |  475 | 0.012631579 |\n",
       "| CA-CTCF;REST+ silencer | LMPRA          |  25 | 1956 | 0.012781186 |\n",
       "| CA-CTCF;REST+ silencer | TMPRA          |   1 |   22 | 0.045454545 |\n",
       "| CA-CTCF;REST+ silencer | WSTARR         |  74 | 2744 | 0.026967930 |\n",
       "\n"
      ],
      "text/plain": [
       "  Label                  Assay_Type     Count Total Freq       \n",
       "1 CA-CTCF;REST+ silencer ASTARR           9   1692  0.005319149\n",
       "2 CA-CTCF;REST+ silencer ATAC           199   4142  0.048044423\n",
       "3 CA-CTCF;REST+ silencer CRISPRi-Growth   6    475  0.012631579\n",
       "4 CA-CTCF;REST+ silencer LMPRA           25   1956  0.012781186\n",
       "5 CA-CTCF;REST+ silencer TMPRA            1     22  0.045454545\n",
       "6 CA-CTCF;REST+ silencer WSTARR          74   2744  0.026967930"
      ]
     },
     "metadata": {},
     "output_type": "display_data"
    }
   ],
   "source": [
    "dat = dat_peak_annot_summary\n",
    "dat = dat %>% tidyr::separate_longer_delim(Assay_Type, \",\")\n",
    "\n",
    "### count each\n",
    "dat1 = dat %>%\n",
    "    dplyr::group_by(Label, Assay_Type) %>%\n",
    "    dplyr::summarise(Count = sum(Count), .groups = \"drop\")\n",
    "\n",
    "### count total\n",
    "dat2 = dat %>%\n",
    "    dplyr::group_by(Assay_Type) %>%\n",
    "    dplyr::summarise(Total = sum(Count), .groups = \"drop\")\n",
    "\n",
    "### merge\n",
    "dat = dat1 %>% \n",
    "    dplyr::left_join(dat2, by = \"Assay_Type\") %>%\n",
    "    dplyr::mutate(Freq = Count / Total)\n",
    "\n",
    "dat_ccre_count = dat\n",
    "print(dim(dat))\n",
    "head(dat)"
   ]
  },
  {
   "cell_type": "code",
   "execution_count": 20,
   "metadata": {},
   "outputs": [
    {
     "data": {
      "text/html": [
       "<table class=\"dataframe\">\n",
       "<caption>A tibble: 1 × 5</caption>\n",
       "<thead>\n",
       "\t<tr><th scope=col>Label</th><th scope=col>Assay_Type</th><th scope=col>Count</th><th scope=col>Total</th><th scope=col>Freq</th></tr>\n",
       "\t<tr><th scope=col>&lt;chr&gt;</th><th scope=col>&lt;chr&gt;</th><th scope=col>&lt;dbl&gt;</th><th scope=col>&lt;dbl&gt;</th><th scope=col>&lt;dbl&gt;</th></tr>\n",
       "</thead>\n",
       "<tbody>\n",
       "\t<tr><td>PLS;REST+ Non-silencer</td><td>CRISPRi-HCRFF</td><td>2</td><td>2</td><td>1</td></tr>\n",
       "</tbody>\n",
       "</table>\n"
      ],
      "text/latex": [
       "A tibble: 1 × 5\n",
       "\\begin{tabular}{lllll}\n",
       " Label & Assay\\_Type & Count & Total & Freq\\\\\n",
       " <chr> & <chr> & <dbl> & <dbl> & <dbl>\\\\\n",
       "\\hline\n",
       "\t PLS;REST+ Non-silencer & CRISPRi-HCRFF & 2 & 2 & 1\\\\\n",
       "\\end{tabular}\n"
      ],
      "text/markdown": [
       "\n",
       "A tibble: 1 × 5\n",
       "\n",
       "| Label &lt;chr&gt; | Assay_Type &lt;chr&gt; | Count &lt;dbl&gt; | Total &lt;dbl&gt; | Freq &lt;dbl&gt; |\n",
       "|---|---|---|---|---|\n",
       "| PLS;REST+ Non-silencer | CRISPRi-HCRFF | 2 | 2 | 1 |\n",
       "\n"
      ],
      "text/plain": [
       "  Label                  Assay_Type    Count Total Freq\n",
       "1 PLS;REST+ Non-silencer CRISPRi-HCRFF 2     2     1   "
      ]
     },
     "metadata": {},
     "output_type": "display_data"
    }
   ],
   "source": [
    "dat = dat_ccre_count\n",
    "dat %>% dplyr::filter(Assay_Type == \"CRISPRi-HCRFF\")"
   ]
  },
  {
   "cell_type": "code",
   "execution_count": 7,
   "metadata": {},
   "outputs": [
    {
     "data": {
      "image/png": "[encoded data removed]",
      "text/plain": [
       "plot without title"
      ]
     },
     "metadata": {
      "image/png": {
       "height": 300,
       "width": 480
      }
     },
     "output_type": "display_data"
    }
   ],
   "source": [
    "dat = dat_ccre_count\n",
    "gpt = ggplot(dat, aes(x=Assay_Type, y=Freq, fill=Label)) + \n",
    "    geom_col() +\n",
    "    labs(x=\"Assay\", y=\"Proportion\") +\n",
    "    coord_flip() +\n",
    "    theme_cowplot()\n",
    "\n",
    "options(repr.plot.height=5, repr.plot.width=8)\n",
    "print(gpt)"
   ]
  },
  {
   "cell_type": "code",
   "execution_count": 8,
   "metadata": {
    "scrolled": true
   },
   "outputs": [
    {
     "data": {
      "image/png": "[encoded data removed]",
      "text/plain": [
       "plot without title"
      ]
     },
     "metadata": {
      "image/png": {
       "height": 300,
       "width": 480
      }
     },
     "output_type": "display_data"
    }
   ],
   "source": [
    "dat = dat_ccre_count\n",
    "\n",
    "###\n",
    "vec = c(\n",
    "    \"ATAC\", \n",
    "    \"ASTARR\", \"WSTARR\", \"TMPRA\", \"LMPRA\", \n",
    "    \"CRISPRi-HCRFF\", \n",
    "    \"CRISPRi-Growth\", \n",
    "    \"ENCODE-E2G_Benchmark\",\n",
    "    \"ENCODE-E2G_Prediction\")\n",
    "\n",
    "dat = dat %>% dplyr::mutate(Assay_Type = factor(Assay_Type, levels=rev(vec)))\n",
    "\n",
    "###\n",
    "vec = c(\n",
    "    \"PLS\"        = \"#fb8072\", \n",
    "    \"pELS\"       = \"#fdb462\", \n",
    "    \"dELS\"       = \"#80b1d3\", \n",
    "    \"CA-TF\"      = \"#8dd3c7\", \n",
    "    \"CA-H3K4me3\" = \"#fee08b\",  \n",
    "    \"CA-CTCF\"    = \"#bebada\", \n",
    "    \"CA-only\"    = \"#fccde5\", \n",
    "    \"Low-DNase\"  = \"#d9d9d9\")\n",
    "theme_fill = scale_fill_manual(values = vec)\n",
    "\n",
    "gpt = ggplot(dat, aes(x=Assay_Type, y=Freq, fill=Label)) + \n",
    "    geom_col() +\n",
    "    labs(x=\"Assay\", y=\"Proportion\") +\n",
    "    coord_flip() +\n",
    "    theme_cowplot() +\n",
    "    theme_fill\n",
    "\n",
    "options(repr.plot.height=5, repr.plot.width=8)\n",
    "print(gpt)"
   ]
  },
  {
   "cell_type": "code",
   "execution_count": 9,
   "metadata": {},
   "outputs": [
    {
     "name": "stdout",
     "output_type": "stream",
     "text": [
      "[1] \"ENCODE-E2G_Benchmark\" \"ASTARR\"               \"CRISPRi-HCRFF\"       \n",
      "[4] \"LMPRA\"                \"CRISPRi-Growth\"       \"WSTARR\"              \n",
      "[7] \"ATAC\"                 \"TMPRA\"               \n"
     ]
    }
   ],
   "source": [
    "dat = dat_ccre_count\n",
    "dat = dat %>% dplyr::filter(Label == \"Low-DNase\") %>% dplyr::arrange(Freq)\n",
    "vec = dat$Assay_Type\n",
    "vec_txt_assay = vec\n",
    "print(vec)"
   ]
  },
  {
   "cell_type": "code",
   "execution_count": 10,
   "metadata": {},
   "outputs": [],
   "source": [
    "vec_txt_color = c(\n",
    "    \"PLS\"        = \"#fb8072\", \n",
    "    \"pELS\"       = \"#fdb462\", \n",
    "    \"dELS\"       = \"#fee08b\", \n",
    "    \"CA-TF\"      = \"#984ea3\", #\"#bebada\", \n",
    "    \"CA-CTCF\"    = \"#80b1d3\", \n",
    "    \"CA-H3K4me3\" = \"#fccde5\",  \n",
    "    \"CA-only\"    = \"#8dd3c7\", \n",
    "    \"Low-DNase\"  = \"#d9d9d9\")\n",
    "\n",
    "vec_txt_label = names(vec_txt_color)"
   ]
  },
  {
   "cell_type": "code",
   "execution_count": 11,
   "metadata": {},
   "outputs": [
    {
     "data": {
      "image/png": "[encoded data removed]",
      "text/plain": [
       "plot without title"
      ]
     },
     "metadata": {
      "image/png": {
       "height": 300,
       "width": 480
      }
     },
     "output_type": "display_data"
    }
   ],
   "source": [
    "dat = dat_ccre_count\n",
    "\n",
    "dat = dat %>% dplyr::mutate(\n",
    "    Assay_Type = factor(Assay_Type, levels=rev(vec_txt_assay)),\n",
    "    Label      = factor(Label,      levels=rev(vec_txt_label)),\n",
    ")\n",
    "\n",
    "###\n",
    "theme_fill = scale_fill_manual(values = vec_txt_color)\n",
    "\n",
    "gpt = ggplot(dat, aes(x=Assay_Type, y=Freq, fill=Label)) + \n",
    "    geom_col() +\n",
    "    labs(x=\"\", y=\"Proportion\", title = \"cCREs composition of each assay\") +\n",
    "    coord_flip() +\n",
    "    theme_cowplot() +\n",
    "    theme_fill\n",
    "\n",
    "options(repr.plot.height=5, repr.plot.width=8)\n",
    "print(gpt)\n",
    "ggsave(\"fig.fcc_table.ccre.proportion.png\", gpt, width = 8, height = 4.5)\n",
    "ggsave(\"fig.fcc_table.ccre.proportion.pdf\", gpt, width = 8, height = 4.5)"
   ]
  },
  {
   "cell_type": "code",
   "execution_count": null,
   "metadata": {},
   "outputs": [],
   "source": []
  }
 ],
 "metadata": {
  "kernelspec": {
   "display_name": "R",
   "language": "R",
   "name": "ir"
  },
  "language_info": {
   "codemirror_mode": "r",
   "file_extension": ".r",
   "mimetype": "text/x-r-source",
   "name": "R",
   "pygments_lexer": "r",
   "version": "4.3.1"
  }
 },
 "nbformat": 4,
 "nbformat_minor": 4
}
