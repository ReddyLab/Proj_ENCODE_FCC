{
 "cells": [
  {
   "cell_type": "markdown",
   "id": "23fc5b83-ea8a-4f3a-b83c-eed84dc871dc",
   "metadata": {},
   "source": [
    "**Set environment**"
   ]
  },
  {
   "cell_type": "code",
   "execution_count": 1,
   "id": "22378f38-654b-4335-9017-d6375796afc9",
   "metadata": {},
   "outputs": [
    {
     "name": "stdout",
     "output_type": "stream",
     "text": [
      "You are on Duke Server: HARDAC\n",
      "BASE DIRECTORY (FD_BASE): /data/reddylab/Kuei\n",
      "WORK DIRECTORY (FD_WORK): /data/reddylab/Kuei/out\n",
      "CODE DIRECTORY (FD_CODE): /data/reddylab/Kuei/code\n",
      "SING DIRECTORY (FD_SING): /data/reddylab/Kuei/singularity\n",
      "PATH OF PROJECT (FD_PRJ): /data/reddylab/Kuei/code/Proj_CombEffect_ENCODE_FCC\n",
      "PATH OF RESULTS (FD_RES): /data/reddylab/Kuei/out/proj_combeffect_encode_fcc\n",
      "PATH OF LOG     (FD_LOG): /data/reddylab/Kuei/out/proj_combeffect_encode_fcc/log\n",
      "\n"
     ]
    }
   ],
   "source": [
    "### set env\n",
    "source ../config/config_duke.sh\n",
    "source ../config/config_load_module_bedtools.sh\n",
    "show_env"
   ]
  },
  {
   "cell_type": "markdown",
   "id": "3f13c3da-f2c8-4066-ba0f-d214bdd3bee5",
   "metadata": {},
   "source": [
    "## Region to be annotated"
   ]
  },
  {
   "cell_type": "markdown",
   "id": "c6c0ff3b-888e-49c3-abaf-07d40e6e89d8",
   "metadata": {},
   "source": [
    "**Check data files**"
   ]
  },
  {
   "cell_type": "code",
   "execution_count": 2,
   "id": "252c18e7-0c12-43de-938b-8053c89e636b",
   "metadata": {},
   "outputs": [
    {
     "name": "stdout",
     "output_type": "stream",
     "text": [
      "fcc_table.starrmpra.crispri.atac.concat.bed.gz\n",
      "fcc_table.starrmpra.crispri.atac.e2g_benchmark.concat.bed.gz\n",
      "fcc_table.starrmpra.crispri.atac.e2g_benchmark.e2g_prediction.concat.bed.gz\n",
      "fcc_table.starrmpra.crispri.atac.e2g_benchmark.e2g_prediction.merge.bed.gz\n",
      "fcc_table.starrmpra.crispri.atac.e2g_benchmark.merge.bed.gz\n",
      "fcc_table.starrmpra.crispri.atac.merge.bed.gz\n"
     ]
    }
   ],
   "source": [
    "ls ${FD_RES}/results/region/annotation_fcc_table/*bed.gz | xargs -n 1 basename"
   ]
  },
  {
   "cell_type": "markdown",
   "id": "941af20b-1c31-4542-bab4-22fd27e64572",
   "metadata": {},
   "source": [
    "**Get data files**"
   ]
  },
  {
   "cell_type": "code",
   "execution_count": 3,
   "id": "87016ca2-d849-4b9f-899d-a8555c28357f",
   "metadata": {},
   "outputs": [],
   "source": [
    "FD_REG=${FD_RES}/results/region/annotation_fcc_table\n",
    "FN_REG=fcc_table.starrmpra.crispri.atac.e2g_benchmark.merge.bed.gz\n",
    "FP_REG=${FD_REG}/${FN_REG}"
   ]
  },
  {
   "cell_type": "markdown",
   "id": "b53010ab-a24c-48ca-9dbf-92e35405759f",
   "metadata": {},
   "source": [
    "## Annotation files"
   ]
  },
  {
   "cell_type": "markdown",
   "id": "dd0870d5-6971-4f40-bc5e-074840bba5a9",
   "metadata": {},
   "source": [
    "**Get data files**"
   ]
  },
  {
   "cell_type": "code",
   "execution_count": 4,
   "id": "ce00af59-2487-4ce0-94f4-625e2168c8fe",
   "metadata": {},
   "outputs": [
    {
     "name": "stdout",
     "output_type": "stream",
     "text": [
      "annotation_tss_pol2\n",
      "K562.TSS.selected_by_highest_Pol2_signal.bed.gz\n",
      "K562.TSS.selected_by_highest_Pol2_signal.filtered_by_RNAseq_TPM.bed.gz\n",
      "\n",
      "annotation_ccres\n",
      "ccres_v3.bed.gz\n",
      "ccres_v4.bed.gz\n",
      "\n",
      "annotation_ccres_silencer\n",
      "ccres_v4.silencer.rest.bed.gz\n",
      "ccres_v4.silencer.starr.bed.gz\n",
      "\n",
      "annotation_chromHMM\n",
      "K562.ENCSR365YNI.ENCFF106BGJ.ChromHMM.bed.gz\n",
      "\n"
     ]
    }
   ],
   "source": [
    "### TSS\n",
    "FOLDER=annotation_tss_pol2\n",
    "FD_ANT=${FD_RES}/results/region/${FOLDER}\n",
    "FP_ANTS_TSS=($(ls ${FD_ANT}/*bed.gz))\n",
    "\n",
    "echo ${FOLDER}\n",
    "basename -a ${FP_ANTS_TSS[@]}\n",
    "echo\n",
    "\n",
    "### cCREs\n",
    "FOLDER=annotation_ccres\n",
    "FD_ANT=${FD_RES}/results/region/${FOLDER}\n",
    "FP_ANTS_CCRES=($(ls ${FD_ANT}/*bed.gz))\n",
    "\n",
    "echo ${FOLDER}\n",
    "basename -a ${FP_ANTS_CCRES[@]}\n",
    "echo\n",
    "\n",
    "### cCREs silencer\n",
    "FOLDER=annotation_ccres_silencer\n",
    "FD_ANT=${FD_RES}/results/region/${FOLDER}\n",
    "FP_ANTS_CCRES_SILENCER=($(ls ${FD_ANT}/*bed.gz))\n",
    "\n",
    "echo ${FOLDER}\n",
    "basename -a ${FP_ANTS_CCRES_SILENCER[@]}\n",
    "echo\n",
    "\n",
    "### ChromHMM\n",
    "FOLDER=annotation_chromHMM\n",
    "FD_ANT=${FD_RES}/results/region/${FOLDER}\n",
    "FP_ANTS_CHROMHMM=($(ls ${FD_ANT}/*bed.gz))\n",
    "\n",
    "echo ${FOLDER}\n",
    "basename -a ${FP_ANTS_CHROMHMM[@]}\n",
    "echo"
   ]
  },
  {
   "cell_type": "markdown",
   "id": "e5bcb4dc-b6dd-4cf8-b364-e17a1c6ac1fc",
   "metadata": {},
   "source": [
    "**Test loop**"
   ]
  },
  {
   "cell_type": "code",
   "execution_count": 5,
   "id": "809b4b88-cf7f-4967-a329-1f2e81b50bfe",
   "metadata": {},
   "outputs": [
    {
     "name": "stdout",
     "output_type": "stream",
     "text": [
      "File Folder (Annotation): annotation_tss_pol2\n",
      "File Prefix (Annotation): K562.TSS.selected_by_highest_Pol2_signal\n",
      "File Name   (Annotation): K562.TSS.selected_by_highest_Pol2_signal.bed.gz\n",
      "\n",
      "File Folder (Annotation): annotation_tss_pol2\n",
      "File Prefix (Annotation): K562.TSS.selected_by_highest_Pol2_signal.filtered_by_RNAseq_TPM\n",
      "File Name   (Annotation): K562.TSS.selected_by_highest_Pol2_signal.filtered_by_RNAseq_TPM.bed.gz\n",
      "\n",
      "File Folder (Annotation): annotation_ccres\n",
      "File Prefix (Annotation): ccres_v3\n",
      "File Name   (Annotation): ccres_v3.bed.gz\n",
      "\n",
      "File Folder (Annotation): annotation_ccres\n",
      "File Prefix (Annotation): ccres_v4\n",
      "File Name   (Annotation): ccres_v4.bed.gz\n",
      "\n",
      "File Folder (Annotation): annotation_ccres_silencer\n",
      "File Prefix (Annotation): ccres_v4.silencer.rest\n",
      "File Name   (Annotation): ccres_v4.silencer.rest.bed.gz\n",
      "\n",
      "File Folder (Annotation): annotation_ccres_silencer\n",
      "File Prefix (Annotation): ccres_v4.silencer.starr\n",
      "File Name   (Annotation): ccres_v4.silencer.starr.bed.gz\n",
      "\n",
      "File Folder (Annotation): annotation_chromHMM\n",
      "File Prefix (Annotation): K562.ENCSR365YNI.ENCFF106BGJ.ChromHMM\n",
      "File Name   (Annotation): K562.ENCSR365YNI.ENCFF106BGJ.ChromHMM.bed.gz\n",
      "\n"
     ]
    }
   ],
   "source": [
    "### concat\n",
    "FP_ANTS=(\n",
    "    ${FP_ANTS_TSS[@]}\n",
    "    ${FP_ANTS_CCRES[@]}\n",
    "    ${FP_ANTS_CCRES_SILENCER[@]}\n",
    "    ${FP_ANTS_CHROMHMM[@]}\n",
    ")\n",
    "\n",
    "for FP_ANT in ${FP_ANTS[@]}; do\n",
    "    FD_ANT=$(dirname  ${FP_ANT})\n",
    "    FOLDER=$(basename ${FD_ANT})\n",
    "    \n",
    "    FN_ANT=$(basename ${FP_ANT})\n",
    "    PREFIX=${FN_ANT%.bed.gz}\n",
    "    \n",
    "    echo \"File Folder (Annotation):\" ${FOLDER}\n",
    "    echo \"File Prefix (Annotation):\" ${PREFIX}\n",
    "    echo \"File Name   (Annotation):\" ${FN_ANT}\n",
    "    echo\n",
    "done"
   ]
  },
  {
   "cell_type": "markdown",
   "id": "008ed37d-e45d-4444-acdf-e7385d317a93",
   "metadata": {},
   "source": [
    "## Perform annotation"
   ]
  },
  {
   "cell_type": "markdown",
   "id": "6a7dca55-c37a-4909-b10c-7a93b76f1214",
   "metadata": {},
   "source": [
    "**Test loop**"
   ]
  },
  {
   "cell_type": "code",
   "execution_count": 6,
   "id": "afe40ee6-ef1f-44b6-9b4d-ef4a3f300b46",
   "metadata": {},
   "outputs": [
    {
     "name": "stdout",
     "output_type": "stream",
     "text": [
      "File Folder (Annotation): annotation_tss_pol2\n",
      "File Prefix (Annotation): K562.TSS.selected_by_highest_Pol2_signal\n",
      "File Name   (Annotation): K562.TSS.selected_by_highest_Pol2_signal.bed.gz\n",
      "File Folder (Output):     /data/reddylab/Kuei/out/proj_combeffect_encode_fcc/results/region/annotation_fcc_table/annotation_tss_pol2\n",
      "File Name   (Output):     peak.annotation.K562.TSS.selected_by_highest_Pol2_signal.bed.gz\n",
      "File Path   (Log):        ${FD_LOG}/fcc_table.annotation.K562.TSS.selected_by_highest_Pol2_signal.txt\n",
      "\n",
      "/data/reddylab/Kuei/out/proj_combeffect_encode_fcc/results/region/annotation_fcc_table/fcc_table.starrmpra.crispri.atac.e2g_benchmark.merge.bed.gz\n",
      "/data/reddylab/Kuei/out/proj_combeffect_encode_fcc/results/region/annotation_tss_pol2/K562.TSS.selected_by_highest_Pol2_signal.bed.gz\n",
      "/data/reddylab/Kuei/out/proj_combeffect_encode_fcc/results/region/annotation_fcc_table/annotation_tss_pol2/peak.annotation.K562.TSS.selected_by_highest_Pol2_signal.bed.gz\n",
      "\n",
      "File Folder (Annotation): annotation_tss_pol2\n",
      "File Prefix (Annotation): K562.TSS.selected_by_highest_Pol2_signal.filtered_by_RNAseq_TPM\n",
      "File Name   (Annotation): K562.TSS.selected_by_highest_Pol2_signal.filtered_by_RNAseq_TPM.bed.gz\n",
      "File Folder (Output):     /data/reddylab/Kuei/out/proj_combeffect_encode_fcc/results/region/annotation_fcc_table/annotation_tss_pol2\n",
      "File Name   (Output):     peak.annotation.K562.TSS.selected_by_highest_Pol2_signal.filtered_by_RNAseq_TPM.bed.gz\n",
      "File Path   (Log):        ${FD_LOG}/fcc_table.annotation.K562.TSS.selected_by_highest_Pol2_signal.filtered_by_RNAseq_TPM.txt\n",
      "\n",
      "/data/reddylab/Kuei/out/proj_combeffect_encode_fcc/results/region/annotation_fcc_table/fcc_table.starrmpra.crispri.atac.e2g_benchmark.merge.bed.gz\n",
      "/data/reddylab/Kuei/out/proj_combeffect_encode_fcc/results/region/annotation_tss_pol2/K562.TSS.selected_by_highest_Pol2_signal.filtered_by_RNAseq_TPM.bed.gz\n",
      "/data/reddylab/Kuei/out/proj_combeffect_encode_fcc/results/region/annotation_fcc_table/annotation_tss_pol2/peak.annotation.K562.TSS.selected_by_highest_Pol2_signal.filtered_by_RNAseq_TPM.bed.gz\n",
      "\n",
      "File Folder (Annotation): annotation_ccres\n",
      "File Prefix (Annotation): ccres_v3\n",
      "File Name   (Annotation): ccres_v3.bed.gz\n",
      "File Folder (Output):     /data/reddylab/Kuei/out/proj_combeffect_encode_fcc/results/region/annotation_fcc_table/annotation_ccres\n",
      "File Name   (Output):     peak.annotation.ccres_v3.bed.gz\n",
      "File Path   (Log):        ${FD_LOG}/fcc_table.annotation.ccres_v3.txt\n",
      "\n",
      "/data/reddylab/Kuei/out/proj_combeffect_encode_fcc/results/region/annotation_fcc_table/fcc_table.starrmpra.crispri.atac.e2g_benchmark.merge.bed.gz\n",
      "/data/reddylab/Kuei/out/proj_combeffect_encode_fcc/results/region/annotation_ccres/ccres_v3.bed.gz\n",
      "/data/reddylab/Kuei/out/proj_combeffect_encode_fcc/results/region/annotation_fcc_table/annotation_ccres/peak.annotation.ccres_v3.bed.gz\n",
      "\n",
      "File Folder (Annotation): annotation_ccres\n",
      "File Prefix (Annotation): ccres_v4\n",
      "File Name   (Annotation): ccres_v4.bed.gz\n",
      "File Folder (Output):     /data/reddylab/Kuei/out/proj_combeffect_encode_fcc/results/region/annotation_fcc_table/annotation_ccres\n",
      "File Name   (Output):     peak.annotation.ccres_v4.bed.gz\n",
      "File Path   (Log):        ${FD_LOG}/fcc_table.annotation.ccres_v4.txt\n",
      "\n",
      "/data/reddylab/Kuei/out/proj_combeffect_encode_fcc/results/region/annotation_fcc_table/fcc_table.starrmpra.crispri.atac.e2g_benchmark.merge.bed.gz\n",
      "/data/reddylab/Kuei/out/proj_combeffect_encode_fcc/results/region/annotation_ccres/ccres_v4.bed.gz\n",
      "/data/reddylab/Kuei/out/proj_combeffect_encode_fcc/results/region/annotation_fcc_table/annotation_ccres/peak.annotation.ccres_v4.bed.gz\n",
      "\n",
      "File Folder (Annotation): annotation_ccres_silencer\n",
      "File Prefix (Annotation): ccres_v4.silencer.rest\n",
      "File Name   (Annotation): ccres_v4.silencer.rest.bed.gz\n",
      "File Folder (Output):     /data/reddylab/Kuei/out/proj_combeffect_encode_fcc/results/region/annotation_fcc_table/annotation_ccres_silencer\n",
      "File Name   (Output):     peak.annotation.ccres_v4.silencer.rest.bed.gz\n",
      "File Path   (Log):        ${FD_LOG}/fcc_table.annotation.ccres_v4.silencer.rest.txt\n",
      "\n",
      "/data/reddylab/Kuei/out/proj_combeffect_encode_fcc/results/region/annotation_fcc_table/fcc_table.starrmpra.crispri.atac.e2g_benchmark.merge.bed.gz\n",
      "/data/reddylab/Kuei/out/proj_combeffect_encode_fcc/results/region/annotation_ccres_silencer/ccres_v4.silencer.rest.bed.gz\n",
      "/data/reddylab/Kuei/out/proj_combeffect_encode_fcc/results/region/annotation_fcc_table/annotation_ccres_silencer/peak.annotation.ccres_v4.silencer.rest.bed.gz\n",
      "\n",
      "File Folder (Annotation): annotation_ccres_silencer\n",
      "File Prefix (Annotation): ccres_v4.silencer.starr\n",
      "File Name   (Annotation): ccres_v4.silencer.starr.bed.gz\n",
      "File Folder (Output):     /data/reddylab/Kuei/out/proj_combeffect_encode_fcc/results/region/annotation_fcc_table/annotation_ccres_silencer\n",
      "File Name   (Output):     peak.annotation.ccres_v4.silencer.starr.bed.gz\n",
      "File Path   (Log):        ${FD_LOG}/fcc_table.annotation.ccres_v4.silencer.starr.txt\n",
      "\n",
      "/data/reddylab/Kuei/out/proj_combeffect_encode_fcc/results/region/annotation_fcc_table/fcc_table.starrmpra.crispri.atac.e2g_benchmark.merge.bed.gz\n",
      "/data/reddylab/Kuei/out/proj_combeffect_encode_fcc/results/region/annotation_ccres_silencer/ccres_v4.silencer.starr.bed.gz\n",
      "/data/reddylab/Kuei/out/proj_combeffect_encode_fcc/results/region/annotation_fcc_table/annotation_ccres_silencer/peak.annotation.ccres_v4.silencer.starr.bed.gz\n",
      "\n",
      "File Folder (Annotation): annotation_chromHMM\n",
      "File Prefix (Annotation): K562.ENCSR365YNI.ENCFF106BGJ.ChromHMM\n",
      "File Name   (Annotation): K562.ENCSR365YNI.ENCFF106BGJ.ChromHMM.bed.gz\n",
      "File Folder (Output):     /data/reddylab/Kuei/out/proj_combeffect_encode_fcc/results/region/annotation_fcc_table/annotation_chromHMM\n",
      "File Name   (Output):     peak.annotation.K562.ENCSR365YNI.ENCFF106BGJ.ChromHMM.bed.gz\n",
      "File Path   (Log):        ${FD_LOG}/fcc_table.annotation.K562.ENCSR365YNI.ENCFF106BGJ.ChromHMM.txt\n",
      "\n",
      "/data/reddylab/Kuei/out/proj_combeffect_encode_fcc/results/region/annotation_fcc_table/fcc_table.starrmpra.crispri.atac.e2g_benchmark.merge.bed.gz\n",
      "/data/reddylab/Kuei/out/proj_combeffect_encode_fcc/results/region/annotation_chromHMM/K562.ENCSR365YNI.ENCFF106BGJ.ChromHMM.bed.gz\n",
      "/data/reddylab/Kuei/out/proj_combeffect_encode_fcc/results/region/annotation_fcc_table/annotation_chromHMM/peak.annotation.K562.ENCSR365YNI.ENCFF106BGJ.ChromHMM.bed.gz\n",
      "\n"
     ]
    }
   ],
   "source": [
    "for FP_ANT in ${FP_ANTS[@]}; do\n",
    "    FD_ANT=$(dirname  ${FP_ANT})\n",
    "    FN_ANT=$(basename ${FP_ANT})\n",
    "\n",
    "    FOLDER_ANT=$(basename ${FD_ANT})\n",
    "    PREFIX_ANT=${FN_ANT%.bed.gz}\n",
    "\n",
    "    FN_LOG=fcc_table.annotation.${PREFIX_ANT}.txt\n",
    "    FP_LOG=${FD_LOG}/${FN_LOG}\n",
    "\n",
    "    FD_OUT=${FD_REG}/${FOLDER_ANT}\n",
    "    FN_OUT=peak.annotation.${FN_ANT}\n",
    "    FP_OUT=${FD_OUT}/${FN_OUT}\n",
    "\n",
    "    echo \"File Folder (Annotation):\" ${FOLDER_ANT}\n",
    "    echo \"File Prefix (Annotation):\" ${PREFIX_ANT}\n",
    "    echo \"File Name   (Annotation):\" ${FN_ANT}\n",
    "    echo \"File Folder (Output):    \" ${FD_OUT}\n",
    "    echo \"File Name   (Output):    \" ${FN_OUT}\n",
    "    echo \"File Path   (Log):       \" '${FD_LOG}/'${FN_LOG}\n",
    "    echo\n",
    "\n",
    "    echo ${FP_REG}\n",
    "    echo ${FP_ANT}\n",
    "    echo ${FP_OUT}\n",
    "    echo\n",
    "done"
   ]
  },
  {
   "cell_type": "markdown",
   "id": "dc78319f-d2f4-4458-8e43-7373092b2390",
   "metadata": {},
   "source": [
    "**Execute**"
   ]
  },
  {
   "cell_type": "code",
   "execution_count": 7,
   "id": "50699712-b8ab-4627-a102-322df9d5d565",
   "metadata": {},
   "outputs": [
    {
     "name": "stdout",
     "output_type": "stream",
     "text": [
      "File Folder (Annotation): annotation_tss_pol2\n",
      "File Prefix (Annotation): K562.TSS.selected_by_highest_Pol2_signal\n",
      "File Name   (Annotation): K562.TSS.selected_by_highest_Pol2_signal.bed.gz\n",
      "File Folder (Output):     /data/reddylab/Kuei/out/proj_combeffect_encode_fcc/results/region/annotation_fcc_table/annotation_tss_pol2\n",
      "File Name   (Output):     peak.annotation.K562.TSS.selected_by_highest_Pol2_signal.bed.gz\n",
      "File Path   (Log):        ${FD_LOG}/fcc_table.annotation.K562.TSS.selected_by_highest_Pol2_signal.txt\n",
      "\n",
      "/data/reddylab/Kuei/out/proj_combeffect_encode_fcc/results/region/annotation_fcc_table/fcc_table.starrmpra.crispri.atac.e2g_benchmark.merge.bed.gz\n",
      "/data/reddylab/Kuei/out/proj_combeffect_encode_fcc/results/region/annotation_tss_pol2/K562.TSS.selected_by_highest_Pol2_signal.bed.gz\n",
      "/data/reddylab/Kuei/out/proj_combeffect_encode_fcc/results/region/annotation_fcc_table/annotation_tss_pol2/peak.annotation.K562.TSS.selected_by_highest_Pol2_signal.bed.gz\n",
      "\n",
      "Submitted batch job 30527172\n",
      "\n",
      "File Folder (Annotation): annotation_tss_pol2\n",
      "File Prefix (Annotation): K562.TSS.selected_by_highest_Pol2_signal.filtered_by_RNAseq_TPM\n",
      "File Name   (Annotation): K562.TSS.selected_by_highest_Pol2_signal.filtered_by_RNAseq_TPM.bed.gz\n",
      "File Folder (Output):     /data/reddylab/Kuei/out/proj_combeffect_encode_fcc/results/region/annotation_fcc_table/annotation_tss_pol2\n",
      "File Name   (Output):     peak.annotation.K562.TSS.selected_by_highest_Pol2_signal.filtered_by_RNAseq_TPM.bed.gz\n",
      "File Path   (Log):        ${FD_LOG}/fcc_table.annotation.K562.TSS.selected_by_highest_Pol2_signal.filtered_by_RNAseq_TPM.txt\n",
      "\n",
      "/data/reddylab/Kuei/out/proj_combeffect_encode_fcc/results/region/annotation_fcc_table/fcc_table.starrmpra.crispri.atac.e2g_benchmark.merge.bed.gz\n",
      "/data/reddylab/Kuei/out/proj_combeffect_encode_fcc/results/region/annotation_tss_pol2/K562.TSS.selected_by_highest_Pol2_signal.filtered_by_RNAseq_TPM.bed.gz\n",
      "/data/reddylab/Kuei/out/proj_combeffect_encode_fcc/results/region/annotation_fcc_table/annotation_tss_pol2/peak.annotation.K562.TSS.selected_by_highest_Pol2_signal.filtered_by_RNAseq_TPM.bed.gz\n",
      "\n",
      "Submitted batch job 30527173\n",
      "\n",
      "File Folder (Annotation): annotation_ccres\n",
      "File Prefix (Annotation): ccres_v3\n",
      "File Name   (Annotation): ccres_v3.bed.gz\n",
      "File Folder (Output):     /data/reddylab/Kuei/out/proj_combeffect_encode_fcc/results/region/annotation_fcc_table/annotation_ccres\n",
      "File Name   (Output):     peak.annotation.ccres_v3.bed.gz\n",
      "File Path   (Log):        ${FD_LOG}/fcc_table.annotation.ccres_v3.txt\n",
      "\n",
      "/data/reddylab/Kuei/out/proj_combeffect_encode_fcc/results/region/annotation_fcc_table/fcc_table.starrmpra.crispri.atac.e2g_benchmark.merge.bed.gz\n",
      "/data/reddylab/Kuei/out/proj_combeffect_encode_fcc/results/region/annotation_ccres/ccres_v3.bed.gz\n",
      "/data/reddylab/Kuei/out/proj_combeffect_encode_fcc/results/region/annotation_fcc_table/annotation_ccres/peak.annotation.ccres_v3.bed.gz\n",
      "\n",
      "Submitted batch job 30527174\n",
      "\n",
      "File Folder (Annotation): annotation_ccres\n",
      "File Prefix (Annotation): ccres_v4\n",
      "File Name   (Annotation): ccres_v4.bed.gz\n",
      "File Folder (Output):     /data/reddylab/Kuei/out/proj_combeffect_encode_fcc/results/region/annotation_fcc_table/annotation_ccres\n",
      "File Name   (Output):     peak.annotation.ccres_v4.bed.gz\n",
      "File Path   (Log):        ${FD_LOG}/fcc_table.annotation.ccres_v4.txt\n",
      "\n",
      "/data/reddylab/Kuei/out/proj_combeffect_encode_fcc/results/region/annotation_fcc_table/fcc_table.starrmpra.crispri.atac.e2g_benchmark.merge.bed.gz\n",
      "/data/reddylab/Kuei/out/proj_combeffect_encode_fcc/results/region/annotation_ccres/ccres_v4.bed.gz\n",
      "/data/reddylab/Kuei/out/proj_combeffect_encode_fcc/results/region/annotation_fcc_table/annotation_ccres/peak.annotation.ccres_v4.bed.gz\n",
      "\n",
      "Submitted batch job 30527175\n",
      "\n",
      "File Folder (Annotation): annotation_ccres_silencer\n",
      "File Prefix (Annotation): ccres_v4.silencer.rest\n",
      "File Name   (Annotation): ccres_v4.silencer.rest.bed.gz\n",
      "File Folder (Output):     /data/reddylab/Kuei/out/proj_combeffect_encode_fcc/results/region/annotation_fcc_table/annotation_ccres_silencer\n",
      "File Name   (Output):     peak.annotation.ccres_v4.silencer.rest.bed.gz\n",
      "File Path   (Log):        ${FD_LOG}/fcc_table.annotation.ccres_v4.silencer.rest.txt\n",
      "\n",
      "/data/reddylab/Kuei/out/proj_combeffect_encode_fcc/results/region/annotation_fcc_table/fcc_table.starrmpra.crispri.atac.e2g_benchmark.merge.bed.gz\n",
      "/data/reddylab/Kuei/out/proj_combeffect_encode_fcc/results/region/annotation_ccres_silencer/ccres_v4.silencer.rest.bed.gz\n",
      "/data/reddylab/Kuei/out/proj_combeffect_encode_fcc/results/region/annotation_fcc_table/annotation_ccres_silencer/peak.annotation.ccres_v4.silencer.rest.bed.gz\n",
      "\n",
      "Submitted batch job 30527176\n",
      "\n",
      "File Folder (Annotation): annotation_ccres_silencer\n",
      "File Prefix (Annotation): ccres_v4.silencer.starr\n",
      "File Name   (Annotation): ccres_v4.silencer.starr.bed.gz\n",
      "File Folder (Output):     /data/reddylab/Kuei/out/proj_combeffect_encode_fcc/results/region/annotation_fcc_table/annotation_ccres_silencer\n",
      "File Name   (Output):     peak.annotation.ccres_v4.silencer.starr.bed.gz\n",
      "File Path   (Log):        ${FD_LOG}/fcc_table.annotation.ccres_v4.silencer.starr.txt\n",
      "\n",
      "/data/reddylab/Kuei/out/proj_combeffect_encode_fcc/results/region/annotation_fcc_table/fcc_table.starrmpra.crispri.atac.e2g_benchmark.merge.bed.gz\n",
      "/data/reddylab/Kuei/out/proj_combeffect_encode_fcc/results/region/annotation_ccres_silencer/ccres_v4.silencer.starr.bed.gz\n",
      "/data/reddylab/Kuei/out/proj_combeffect_encode_fcc/results/region/annotation_fcc_table/annotation_ccres_silencer/peak.annotation.ccres_v4.silencer.starr.bed.gz\n",
      "\n",
      "Submitted batch job 30527177\n",
      "\n",
      "File Folder (Annotation): annotation_chromHMM\n",
      "File Prefix (Annotation): K562.ENCSR365YNI.ENCFF106BGJ.ChromHMM\n",
      "File Name   (Annotation): K562.ENCSR365YNI.ENCFF106BGJ.ChromHMM.bed.gz\n",
      "File Folder (Output):     /data/reddylab/Kuei/out/proj_combeffect_encode_fcc/results/region/annotation_fcc_table/annotation_chromHMM\n",
      "File Name   (Output):     peak.annotation.K562.ENCSR365YNI.ENCFF106BGJ.ChromHMM.bed.gz\n",
      "File Path   (Log):        ${FD_LOG}/fcc_table.annotation.K562.ENCSR365YNI.ENCFF106BGJ.ChromHMM.txt\n",
      "\n",
      "/data/reddylab/Kuei/out/proj_combeffect_encode_fcc/results/region/annotation_fcc_table/fcc_table.starrmpra.crispri.atac.e2g_benchmark.merge.bed.gz\n",
      "/data/reddylab/Kuei/out/proj_combeffect_encode_fcc/results/region/annotation_chromHMM/K562.ENCSR365YNI.ENCFF106BGJ.ChromHMM.bed.gz\n",
      "/data/reddylab/Kuei/out/proj_combeffect_encode_fcc/results/region/annotation_fcc_table/annotation_chromHMM/peak.annotation.K562.ENCSR365YNI.ENCFF106BGJ.ChromHMM.bed.gz\n",
      "\n",
      "Submitted batch job 30527178\n",
      "\n"
     ]
    }
   ],
   "source": [
    "for FP_ANT in ${FP_ANTS[@]}; do\n",
    "    FD_ANT=$(dirname  ${FP_ANT})\n",
    "    FN_ANT=$(basename ${FP_ANT})\n",
    "\n",
    "    FOLDER_ANT=$(basename ${FD_ANT})\n",
    "    PREFIX_ANT=${FN_ANT%.bed.gz}\n",
    "\n",
    "    FN_LOG=fcc_table.annotation.${PREFIX_ANT}.txt\n",
    "    FP_LOG=${FD_LOG}/${FN_LOG}\n",
    "\n",
    "    FD_OUT=${FD_REG}/${FOLDER_ANT}\n",
    "    FN_OUT=peak.annotation.${FN_ANT}\n",
    "    FP_OUT=${FD_OUT}/${FN_OUT}\n",
    "\n",
    "    echo \"File Folder (Annotation):\" ${FOLDER_ANT}\n",
    "    echo \"File Prefix (Annotation):\" ${PREFIX_ANT}\n",
    "    echo \"File Name   (Annotation):\" ${FN_ANT}\n",
    "    echo \"File Folder (Output):    \" ${FD_OUT}\n",
    "    echo \"File Name   (Output):    \" ${FN_OUT}\n",
    "    echo \"File Path   (Log):       \" '${FD_LOG}/'${FN_LOG}\n",
    "    echo\n",
    "\n",
    "    echo ${FP_REG}\n",
    "    echo ${FP_ANT}\n",
    "    echo ${FP_OUT}\n",
    "    echo\n",
    "    mkdir  -p ${FD_OUT}\n",
    "    sbatch -p ${NODE} \\\n",
    "        --exclude=dl-01 \\\n",
    "        --cpus-per-task 4 \\\n",
    "        --mem 4G \\\n",
    "        --output ${FP_LOG} \\\n",
    "        ../scripts/run_bedtools_annot.sh ${FP_REG} ${FP_ANT} ${FP_OUT}\n",
    "    echo\n",
    "done"
   ]
  },
  {
   "cell_type": "markdown",
   "id": "e769ccba-59fc-4542-ba60-6b7fa8490610",
   "metadata": {},
   "source": [
    "**Check results**"
   ]
  },
  {
   "cell_type": "code",
   "execution_count": 8,
   "id": "25843be7-b8b8-4aae-b060-ca6eddff5490",
   "metadata": {},
   "outputs": [
    {
     "name": "stdout",
     "output_type": "stream",
     "text": [
      "Hostname:           x1-02-3.genome.duke.edu\n",
      "Slurm Array Index: \n",
      "Time Stamp:         12-22-23+13:04:23\n",
      "\n",
      "Input:  /data/reddylab/Kuei/out/proj_combeffect_encode_fcc/results/region/annotation_fcc_table/fcc_table.starrmpra.crispri.atac.e2g_benchmark.merge.bed.gz\n",
      "\n",
      "show first few lines of input\n",
      "chr1\t10015\t10442\tATAC\tATAC\n",
      "chr1\t14253\t14645\tATAC\tATAC\n",
      "chr1\t16015\t16477\tATAC\tATAC\n",
      "chr1\t17237\t17772\tATAC\tATAC\n",
      "chr1\t28903\t29613\tATAC\tATAC\n",
      "chr1\t30803\t31072\tATAC\tATAC\n",
      "chr1\t101603\t101849\tATAC\tATAC\n",
      "chr1\t115411\t115986\tATAC\tATAC\n",
      "chr1\t118518\t118743\tATAC\tATAC\n",
      "chr1\t136071\t137429\tASTARR,ATAC\tASTARR_R,ATAC\n",
      "\n",
      "Input:  /data/reddylab/Kuei/out/proj_combeffect_encode_fcc/results/region/annotation_tss_pol2/K562.TSS.selected_by_highest_Pol2_signal.bed.gz\n",
      "\n",
      "show first few lines of input\n",
      "chr1\t11873\t11874\tDDX11L1\t2.3e-4\n",
      "chr1\t17436\t17437\tMIR6859-1\t9.43812\n",
      "chr1\t17436\t17437\tMIR6859-2\t9.43812\n",
      "chr1\t17436\t17437\tMIR6859-3\t9.43812\n",
      "chr1\t17436\t17437\tMIR6859-4\t9.43812\n",
      "chr1\t29370\t29371\tWASH7P\t2.3e-4\n",
      "chr1\t30365\t30366\tMIR1302-10\t0.562995\n",
      "chr1\t30365\t30366\tMIR1302-11\t0.562995\n",
      "chr1\t30365\t30366\tMIR1302-2\t0.562995\n",
      "chr1\t30365\t30366\tMIR1302-9\t0.562995\n",
      "\n",
      "\n",
      "Output:  /data/reddylab/Kuei/out/proj_combeffect_encode_fcc/results/region/annotation_fcc_table/annotation_tss_pol2/peak.annotation.K562.TSS.selected_by_highest_Pol2_signal.bed.gz\n",
      "\n",
      "show first few lines of output:\n",
      "chr1\t17237\t17772\tATAC\tATAC\tchr1\t17436\t17437\tMIR6859-1\t9.43812\t1\n",
      "chr1\t17237\t17772\tATAC\tATAC\tchr1\t17436\t17437\tMIR6859-2\t9.43812\t1\n",
      "chr1\t17237\t17772\tATAC\tATAC\tchr1\t17436\t17437\tMIR6859-3\t9.43812\t1\n",
      "chr1\t17237\t17772\tATAC\tATAC\tchr1\t17436\t17437\tMIR6859-4\t9.43812\t1\n",
      "chr1\t28903\t29613\tATAC\tATAC\tchr1\t29370\t29371\tWASH7P\t2.3e-4\t1\n",
      "chr1\t777949\t779437\tASTARR,ATAC,LMPRA,WSTARR\tASTARR_A,ATAC,LMPRA_A,WSTARR_A,WSTARR_AB\tchr1\t778634\t778635\tLOC100288069\t230.561\t1\n",
      "chr1\t816774\t817547\tATAC\tATAC\tchr1\t817370\t817371\tFAM87B\t1.06609\t1\n",
      "chr1\t826642\t828050\tASTARR,ATAC,CRISPRi-Growth,LMPRA,WSTARR\tASTARR_R,ATAC,CRISPRi-Growth,LMPRA_A,WSTARR_A,WSTARR_AB\tchr1\t827522\t827523\tLINC00115\t64.4656\t1\n",
      "chr1\t826642\t828050\tASTARR,ATAC,CRISPRi-Growth,LMPRA,WSTARR\tASTARR_R,ATAC,CRISPRi-Growth,LMPRA_A,WSTARR_A,WSTARR_AB\tchr1\t827590\t827591\tLINC01128\t64.4603\t1\n",
      "chr1\t876474\t878030\tATAC\tATAC\tchr1\t876802\t876803\tFAM41C\t0.00788399\t1\n",
      "\n",
      "\n",
      "Done!\n",
      "Run Time: 1 seconds\n"
     ]
    }
   ],
   "source": [
    "cat ${FD_LOG}/fcc_table.annotation.K562.TSS.selected_by_highest_Pol2_signal.txt"
   ]
  },
  {
   "cell_type": "code",
   "execution_count": 9,
   "id": "4b82ed73-a79d-499f-bc4e-4befd53f4c60",
   "metadata": {},
   "outputs": [
    {
     "name": "stdout",
     "output_type": "stream",
     "text": [
      "Hostname:           x1-02-3.genome.duke.edu\n",
      "Slurm Array Index: \n",
      "Time Stamp:         12-22-23+13:04:23\n",
      "\n",
      "Input:  /data/reddylab/Kuei/out/proj_combeffect_encode_fcc/results/region/annotation_fcc_table/fcc_table.starrmpra.crispri.atac.e2g_benchmark.merge.bed.gz\n",
      "\n",
      "show first few lines of input\n",
      "chr1\t10015\t10442\tATAC\tATAC\n",
      "chr1\t14253\t14645\tATAC\tATAC\n",
      "chr1\t16015\t16477\tATAC\tATAC\n",
      "chr1\t17237\t17772\tATAC\tATAC\n",
      "chr1\t28903\t29613\tATAC\tATAC\n",
      "chr1\t30803\t31072\tATAC\tATAC\n",
      "chr1\t101603\t101849\tATAC\tATAC\n",
      "chr1\t115411\t115986\tATAC\tATAC\n",
      "chr1\t118518\t118743\tATAC\tATAC\n",
      "chr1\t136071\t137429\tASTARR,ATAC\tASTARR_R,ATAC\n",
      "\n",
      "Input:  /data/reddylab/Kuei/out/proj_combeffect_encode_fcc/results/region/annotation_tss_pol2/K562.TSS.selected_by_highest_Pol2_signal.filtered_by_RNAseq_TPM.bed.gz\n",
      "\n",
      "show first few lines of input\n",
      "chr1\t29370\t29371\tWASH7P\t2.3e-4\n",
      "chr1\t827522\t827523\tLINC00115\t64.4656\n",
      "chr1\t827590\t827591\tLINC01128\t64.4603\n",
      "chr1\t876802\t876803\tFAM41C\t0.00788399\n",
      "chr1\t959256\t959257\tNOC2L\t104.866\n",
      "chr1\t960583\t960584\tKLHL17\t8.22571\n",
      "chr1\t1000097\t1000098\tHES4\t50.5814\n",
      "chr1\t1013496\t1013497\tISG15\t42.9708\n",
      "chr1\t1020119\t1020120\tAGRN\t2.71433\n",
      "chr1\t1116089\t1116090\tC1orf159\t16.4374\n",
      "\n",
      "\n",
      "Output:  /data/reddylab/Kuei/out/proj_combeffect_encode_fcc/results/region/annotation_fcc_table/annotation_tss_pol2/peak.annotation.K562.TSS.selected_by_highest_Pol2_signal.filtered_by_RNAseq_TPM.bed.gz\n",
      "\n",
      "show first few lines of output:\n",
      "chr1\t28903\t29613\tATAC\tATAC\tchr1\t29370\t29371\tWASH7P\t2.3e-4\t1\n",
      "chr1\t826642\t828050\tASTARR,ATAC,CRISPRi-Growth,LMPRA,WSTARR\tASTARR_R,ATAC,CRISPRi-Growth,LMPRA_A,WSTARR_A,WSTARR_AB\tchr1\t827522\t827523\tLINC00115\t64.4656\t1\n",
      "chr1\t826642\t828050\tASTARR,ATAC,CRISPRi-Growth,LMPRA,WSTARR\tASTARR_R,ATAC,CRISPRi-Growth,LMPRA_A,WSTARR_A,WSTARR_AB\tchr1\t827590\t827591\tLINC01128\t64.4603\t1\n",
      "chr1\t876474\t878030\tATAC\tATAC\tchr1\t876802\t876803\tFAM41C\t0.00788399\t1\n",
      "chr1\t958685\t959974\tATAC,LMPRA,WSTARR\tATAC,LMPRA_A,LMPRA_AB,WSTARR_A,WSTARR_AB\tchr1\t959256\t959257\tNOC2L\t104.866\t1\n",
      "chr1\t960460\t961634\tASTARR,ATAC,LMPRA,WSTARR\tASTARR_R,ATAC,LMPRA_A,LMPRA_AB,WSTARR_A\tchr1\t960583\t960584\tKLHL17\t8.22571\t1\n",
      "chr1\t998810\t1001250\tASTARR,ATAC,WSTARR\tASTARR_R,ATAC,WSTARR_A,WSTARR_AB\tchr1\t1000097\t1000098\tHES4\t50.5814\t1\n",
      "chr1\t1012902\t1014580\tASTARR,ATAC,LMPRA,WSTARR\tASTARR_A,ASTARR_AB,ATAC,LMPRA_A,WSTARR_A\tchr1\t1013496\t1013497\tISG15\t42.9708\t1\n",
      "chr1\t1019188\t1022250\tASTARR,ATAC,WSTARR\tASTARR_R,ATAC,WSTARR_A,WSTARR_AB,WSTARR_R\tchr1\t1020119\t1020120\tAGRN\t2.71433\t1\n",
      "chr1\t1115800\t1116995\tASTARR,ATAC,WSTARR\tASTARR_R,ATAC,WSTARR_A,WSTARR_AB\tchr1\t1116089\t1116090\tC1orf159\t16.4374\t1\n",
      "\n",
      "\n",
      "Done!\n",
      "Run Time: 1 seconds\n"
     ]
    }
   ],
   "source": [
    "cat ${FD_LOG}/fcc_table.annotation.K562.TSS.selected_by_highest_Pol2_signal.filtered_by_RNAseq_TPM.txt"
   ]
  },
  {
   "cell_type": "code",
   "execution_count": null,
   "id": "7a06e840-3d74-4522-ada4-ed578cc667ad",
   "metadata": {},
   "outputs": [],
   "source": []
  },
  {
   "cell_type": "code",
   "execution_count": null,
   "id": "b7d2d275-6ab3-429c-86f1-43a43d436fde",
   "metadata": {},
   "outputs": [],
   "source": []
  }
 ],
 "metadata": {
  "kernelspec": {
   "display_name": "Bash",
   "language": "bash",
   "name": "bash"
  },
  "language_info": {
   "codemirror_mode": "shell",
   "file_extension": ".sh",
   "mimetype": "text/x-sh",
   "name": "bash"
  }
 },
 "nbformat": 4,
 "nbformat_minor": 5
}
