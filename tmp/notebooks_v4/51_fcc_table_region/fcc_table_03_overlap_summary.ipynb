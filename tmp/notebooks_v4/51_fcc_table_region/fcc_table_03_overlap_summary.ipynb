{
 "cells": [
  {
   "cell_type": "markdown",
   "id": "8f2d52cc-0d34-45a5-8aa4-62bc78109d06",
   "metadata": {},
   "source": [
    "**Set environment**"
   ]
  },
  {
   "cell_type": "code",
   "execution_count": 1,
   "id": "baef54b7-02cd-4993-957e-9ecc1694416e",
   "metadata": {},
   "outputs": [
    {
     "name": "stdout",
     "output_type": "stream",
     "text": [
      "You are in Singularity: singularity_proj_encode_fcc \n",
      "BASE DIRECTORY (FD_BASE): /data/reddylab/Kuei \n",
      "WORK DIRECTORY (FD_WORK): /data/reddylab/Kuei/out \n",
      "CODE DIRECTORY (FD_CODE): /data/reddylab/Kuei/code \n",
      "PATH OF PROJECT (FD_PRJ): /data/reddylab/Kuei/code/Proj_CombEffect_ENCODE_FCC \n",
      "PATH OF RESULTS (FD_RES): /data/reddylab/Kuei/out/proj_combeffect_encode_fcc \n",
      "PATH OF LOG     (FD_LOG): /data/reddylab/Kuei/out/proj_combeffect_encode_fcc/log \n"
     ]
    }
   ],
   "source": [
    "suppressWarnings(suppressMessages(source(\"../config/config_sing.R\")))\n",
    "show_env()"
   ]
  },
  {
   "cell_type": "markdown",
   "id": "295abe07-ead0-4ee6-a30e-fa16207eebb3",
   "metadata": {},
   "source": [
    "**Check data files**"
   ]
  },
  {
   "cell_type": "code",
   "execution_count": 2,
   "id": "70bd0f6b-d307-408a-8d94-6d119db22b93",
   "metadata": {},
   "outputs": [
    {
     "name": "stdout",
     "output_type": "stream",
     "text": [
      "annotation_ccres \n",
      "annotation_ccres_silencer \n",
      "annotation_chromHMM \n",
      "annotation_tss_pol2 \n",
      "description.tsv \n",
      "fcc_table.starrmpra.crispri.atac.concat.bed.gz \n",
      "fcc_table.starrmpra.crispri.atac.e2g_benchmark.concat.bed.gz \n",
      "fcc_table.starrmpra.crispri.atac.e2g_benchmark.e2g_prediction.concat.bed.gz \n",
      "fcc_table.starrmpra.crispri.atac.e2g_benchmark.e2g_prediction.merge.bed.gz \n",
      "fcc_table.starrmpra.crispri.atac.e2g_benchmark.e2g_prediction.merge.tsv \n",
      "fcc_table.starrmpra.crispri.atac.e2g_benchmark.merge.bed.gz \n",
      "fcc_table.starrmpra.crispri.atac.e2g_benchmark.merge.tsv \n",
      "fcc_table.starrmpra.crispri.atac.merge.bed.gz \n",
      "fcc_table.starrmpra.crispri.atac.merge.tsv \n",
      "summary \n",
      "z_summary \n"
     ]
    }
   ],
   "source": [
    "fdiry = file.path(FD_RES, \"results\", \"region\", \"annotation_fcc_table\")\n",
    "for (txt in dir(fdiry)){cat(txt, \"\\n\")}"
   ]
  },
  {
   "cell_type": "markdown",
   "id": "5c088a3a-90f3-4b8a-9d47-1a1ec2334664",
   "metadata": {},
   "source": [
    "## Import data"
   ]
  },
  {
   "cell_type": "code",
   "execution_count": 3,
   "id": "15470dcb-a5cf-4402-a29f-9fbacfe27009",
   "metadata": {},
   "outputs": [
    {
     "name": "stdout",
     "output_type": "stream",
     "text": [
      "[1] 348966      6\n"
     ]
    },
    {
     "data": {
      "text/html": [
       "<table class=\"dataframe\">\n",
       "<caption>A tibble: 6 × 6</caption>\n",
       "<thead>\n",
       "\t<tr><th scope=col>Chrom</th><th scope=col>Start</th><th scope=col>End</th><th scope=col>Region</th><th scope=col>Assay_Type</th><th scope=col>Assay_Label</th></tr>\n",
       "\t<tr><th scope=col>&lt;chr&gt;</th><th scope=col>&lt;dbl&gt;</th><th scope=col>&lt;dbl&gt;</th><th scope=col>&lt;chr&gt;</th><th scope=col>&lt;chr&gt;</th><th scope=col>&lt;chr&gt;</th></tr>\n",
       "</thead>\n",
       "<tbody>\n",
       "\t<tr><td>chr1</td><td>10015</td><td>10442</td><td>chr1:10015-10442</td><td>ATAC</td><td>ATAC</td></tr>\n",
       "\t<tr><td>chr1</td><td>14253</td><td>14645</td><td>chr1:14253-14645</td><td>ATAC</td><td>ATAC</td></tr>\n",
       "\t<tr><td>chr1</td><td>16015</td><td>16477</td><td>chr1:16015-16477</td><td>ATAC</td><td>ATAC</td></tr>\n",
       "\t<tr><td>chr1</td><td>17237</td><td>17772</td><td>chr1:17237-17772</td><td>ATAC</td><td>ATAC</td></tr>\n",
       "\t<tr><td>chr1</td><td>28903</td><td>29613</td><td>chr1:28903-29613</td><td>ATAC</td><td>ATAC</td></tr>\n",
       "\t<tr><td>chr1</td><td>30803</td><td>31072</td><td>chr1:30803-31072</td><td>ATAC</td><td>ATAC</td></tr>\n",
       "</tbody>\n",
       "</table>\n"
      ],
      "text/latex": [
       "A tibble: 6 × 6\n",
       "\\begin{tabular}{llllll}\n",
       " Chrom & Start & End & Region & Assay\\_Type & Assay\\_Label\\\\\n",
       " <chr> & <dbl> & <dbl> & <chr> & <chr> & <chr>\\\\\n",
       "\\hline\n",
       "\t chr1 & 10015 & 10442 & chr1:10015-10442 & ATAC & ATAC\\\\\n",
       "\t chr1 & 14253 & 14645 & chr1:14253-14645 & ATAC & ATAC\\\\\n",
       "\t chr1 & 16015 & 16477 & chr1:16015-16477 & ATAC & ATAC\\\\\n",
       "\t chr1 & 17237 & 17772 & chr1:17237-17772 & ATAC & ATAC\\\\\n",
       "\t chr1 & 28903 & 29613 & chr1:28903-29613 & ATAC & ATAC\\\\\n",
       "\t chr1 & 30803 & 31072 & chr1:30803-31072 & ATAC & ATAC\\\\\n",
       "\\end{tabular}\n"
      ],
      "text/markdown": [
       "\n",
       "A tibble: 6 × 6\n",
       "\n",
       "| Chrom &lt;chr&gt; | Start &lt;dbl&gt; | End &lt;dbl&gt; | Region &lt;chr&gt; | Assay_Type &lt;chr&gt; | Assay_Label &lt;chr&gt; |\n",
       "|---|---|---|---|---|---|\n",
       "| chr1 | 10015 | 10442 | chr1:10015-10442 | ATAC | ATAC |\n",
       "| chr1 | 14253 | 14645 | chr1:14253-14645 | ATAC | ATAC |\n",
       "| chr1 | 16015 | 16477 | chr1:16015-16477 | ATAC | ATAC |\n",
       "| chr1 | 17237 | 17772 | chr1:17237-17772 | ATAC | ATAC |\n",
       "| chr1 | 28903 | 29613 | chr1:28903-29613 | ATAC | ATAC |\n",
       "| chr1 | 30803 | 31072 | chr1:30803-31072 | ATAC | ATAC |\n",
       "\n"
      ],
      "text/plain": [
       "  Chrom Start End   Region           Assay_Type Assay_Label\n",
       "1 chr1  10015 10442 chr1:10015-10442 ATAC       ATAC       \n",
       "2 chr1  14253 14645 chr1:14253-14645 ATAC       ATAC       \n",
       "3 chr1  16015 16477 chr1:16015-16477 ATAC       ATAC       \n",
       "4 chr1  17237 17772 chr1:17237-17772 ATAC       ATAC       \n",
       "5 chr1  28903 29613 chr1:28903-29613 ATAC       ATAC       \n",
       "6 chr1  30803 31072 chr1:30803-31072 ATAC       ATAC       "
      ]
     },
     "metadata": {},
     "output_type": "display_data"
    }
   ],
   "source": [
    "fdiry = file.path(FD_RES, \"results\", \"region\", \"annotation_fcc_table\")\n",
    "fname = \"fcc_table.starrmpra.crispri.atac.e2g_benchmark.merge.bed.gz\"\n",
    "fpath = file.path(fdiry, fname)\n",
    "\n",
    "cnames = c(\"Chrom\", \"Start\", \"End\", \"Assay_Type\", \"Assay_Label\")\n",
    "dat = read_tsv(fpath, col_names=cnames, show_col_types=FALSE)\n",
    "dat = dat %>% \n",
    "    dplyr::mutate(Region = paste0(Chrom, \":\", Start, \"-\", End)) %>%\n",
    "    dplyr::select(Chrom, Start, End, Region, Assay_Type, Assay_Label)\n",
    "\n",
    "dat_region_merge_import = dat\n",
    "print(dim(dat))\n",
    "head(dat)"
   ]
  },
  {
   "cell_type": "markdown",
   "id": "31320bb3-e1ec-4aa5-b5a0-320ad4520953",
   "metadata": {},
   "source": [
    "**Check**"
   ]
  },
  {
   "cell_type": "code",
   "execution_count": 4,
   "id": "17424e45-ef92-4c9d-a320-930353d5e678",
   "metadata": {},
   "outputs": [
    {
     "data": {
      "text/plain": [
       "\n",
       "          ASTARR_A ASTARR_A,ASTARR_AB  ASTARR_A,ASTARR_R           ASTARR_R \n",
       "               335                 45                 38                726 "
      ]
     },
     "metadata": {},
     "output_type": "display_data"
    }
   ],
   "source": [
    "dat = dat_region_merge_import\n",
    "txt = \"ASTARR\"\n",
    "dat = dat %>% dplyr::filter(Assay_Type == txt)\n",
    "table(dat$Assay_Label)"
   ]
  },
  {
   "cell_type": "code",
   "execution_count": 5,
   "id": "da09cbcd-4d5b-4a8a-b528-b86bc995c4fb",
   "metadata": {},
   "outputs": [
    {
     "data": {
      "text/plain": [
       "\n",
       "  ATAC \n",
       "183366 "
      ]
     },
     "metadata": {},
     "output_type": "display_data"
    }
   ],
   "source": [
    "dat = dat_region_merge_import\n",
    "txt = \"ATAC\"\n",
    "dat = dat %>% dplyr::filter(Assay_Type == txt)\n",
    "table(dat$Assay_Label)"
   ]
  },
  {
   "cell_type": "markdown",
   "id": "40a90bfa-42c8-4f19-93b0-72d9ca6ddc3d",
   "metadata": {},
   "source": [
    "## Arrange and summary"
   ]
  },
  {
   "cell_type": "code",
   "execution_count": 9,
   "id": "789a11aa-d12e-4e24-9532-a8150cd3e74c",
   "metadata": {},
   "outputs": [
    {
     "name": "stdout",
     "output_type": "stream",
     "text": [
      "[1] 263825      6\n"
     ]
    },
    {
     "data": {
      "text/html": [
       "<table class=\"dataframe\">\n",
       "<caption>A tibble: 6 × 6</caption>\n",
       "<thead>\n",
       "\t<tr><th scope=col>Chrom</th><th scope=col>Start</th><th scope=col>End</th><th scope=col>Region</th><th scope=col>Assay_Type</th><th scope=col>Assay_Label</th></tr>\n",
       "\t<tr><th scope=col>&lt;chr&gt;</th><th scope=col>&lt;dbl&gt;</th><th scope=col>&lt;dbl&gt;</th><th scope=col>&lt;chr&gt;</th><th scope=col>&lt;chr&gt;</th><th scope=col>&lt;chr&gt;</th></tr>\n",
       "</thead>\n",
       "<tbody>\n",
       "\t<tr><td>chr1</td><td>136071</td><td>137429</td><td>chr1:136071-137429</td><td>ASTARR</td><td>ASTARR_R,ATAC</td></tr>\n",
       "\t<tr><td>chr1</td><td>136071</td><td>137429</td><td>chr1:136071-137429</td><td>ATAC  </td><td>ASTARR_R,ATAC</td></tr>\n",
       "\t<tr><td>chr1</td><td>180982</td><td>182087</td><td>chr1:180982-182087</td><td>ASTARR</td><td>ASTARR_R,ATAC</td></tr>\n",
       "\t<tr><td>chr1</td><td>180982</td><td>182087</td><td>chr1:180982-182087</td><td>ATAC  </td><td>ASTARR_R,ATAC</td></tr>\n",
       "\t<tr><td>chr1</td><td>183239</td><td>184602</td><td>chr1:183239-184602</td><td>ATAC  </td><td>ATAC,WSTARR_A</td></tr>\n",
       "\t<tr><td>chr1</td><td>183239</td><td>184602</td><td>chr1:183239-184602</td><td>WSTARR</td><td>ATAC,WSTARR_A</td></tr>\n",
       "</tbody>\n",
       "</table>\n"
      ],
      "text/latex": [
       "A tibble: 6 × 6\n",
       "\\begin{tabular}{llllll}\n",
       " Chrom & Start & End & Region & Assay\\_Type & Assay\\_Label\\\\\n",
       " <chr> & <dbl> & <dbl> & <chr> & <chr> & <chr>\\\\\n",
       "\\hline\n",
       "\t chr1 & 136071 & 137429 & chr1:136071-137429 & ASTARR & ASTARR\\_R,ATAC\\\\\n",
       "\t chr1 & 136071 & 137429 & chr1:136071-137429 & ATAC   & ASTARR\\_R,ATAC\\\\\n",
       "\t chr1 & 180982 & 182087 & chr1:180982-182087 & ASTARR & ASTARR\\_R,ATAC\\\\\n",
       "\t chr1 & 180982 & 182087 & chr1:180982-182087 & ATAC   & ASTARR\\_R,ATAC\\\\\n",
       "\t chr1 & 183239 & 184602 & chr1:183239-184602 & ATAC   & ATAC,WSTARR\\_A\\\\\n",
       "\t chr1 & 183239 & 184602 & chr1:183239-184602 & WSTARR & ATAC,WSTARR\\_A\\\\\n",
       "\\end{tabular}\n"
      ],
      "text/markdown": [
       "\n",
       "A tibble: 6 × 6\n",
       "\n",
       "| Chrom &lt;chr&gt; | Start &lt;dbl&gt; | End &lt;dbl&gt; | Region &lt;chr&gt; | Assay_Type &lt;chr&gt; | Assay_Label &lt;chr&gt; |\n",
       "|---|---|---|---|---|---|\n",
       "| chr1 | 136071 | 137429 | chr1:136071-137429 | ASTARR | ASTARR_R,ATAC |\n",
       "| chr1 | 136071 | 137429 | chr1:136071-137429 | ATAC   | ASTARR_R,ATAC |\n",
       "| chr1 | 180982 | 182087 | chr1:180982-182087 | ASTARR | ASTARR_R,ATAC |\n",
       "| chr1 | 180982 | 182087 | chr1:180982-182087 | ATAC   | ASTARR_R,ATAC |\n",
       "| chr1 | 183239 | 184602 | chr1:183239-184602 | ATAC   | ATAC,WSTARR_A |\n",
       "| chr1 | 183239 | 184602 | chr1:183239-184602 | WSTARR | ATAC,WSTARR_A |\n",
       "\n"
      ],
      "text/plain": [
       "  Chrom Start  End    Region             Assay_Type Assay_Label  \n",
       "1 chr1  136071 137429 chr1:136071-137429 ASTARR     ASTARR_R,ATAC\n",
       "2 chr1  136071 137429 chr1:136071-137429 ATAC       ASTARR_R,ATAC\n",
       "3 chr1  180982 182087 chr1:180982-182087 ASTARR     ASTARR_R,ATAC\n",
       "4 chr1  180982 182087 chr1:180982-182087 ATAC       ASTARR_R,ATAC\n",
       "5 chr1  183239 184602 chr1:183239-184602 ATAC       ATAC,WSTARR_A\n",
       "6 chr1  183239 184602 chr1:183239-184602 WSTARR     ATAC,WSTARR_A"
      ]
     },
     "metadata": {},
     "output_type": "display_data"
    }
   ],
   "source": [
    "dat = dat_region_merge_import\n",
    "dat = dat %>% dplyr::filter(Assay_Label != \"ATAC\")\n",
    "dat = dat %>% tidyr::separate_longer_delim(Assay_Type, \",\")\n",
    "\n",
    "dat_region_merge_arrange = dat\n",
    "print(dim(dat))\n",
    "head(dat)"
   ]
  },
  {
   "cell_type": "markdown",
   "id": "adbe57bb-ab28-48f6-a423-e19282bf6eeb",
   "metadata": {},
   "source": [
    "## Split by assay type"
   ]
  },
  {
   "cell_type": "code",
   "execution_count": 12,
   "id": "985195ea-fff2-4fa9-8190-9e396e4e8485",
   "metadata": {},
   "outputs": [
    {
     "name": "stdout",
     "output_type": "stream",
     "text": [
      "$ASTARR\n",
      "[1] 19647\n",
      "\n",
      "$ATAC\n",
      "[1] 64076\n",
      "\n",
      "$`CRISPRi-Growth`\n",
      "[1] 6171\n",
      "\n",
      "$`CRISPRi-HCRFF`\n",
      "[1] 74\n",
      "\n",
      "$`ENCODE-E2G_Benchmark`\n",
      "[1] 384\n",
      "\n",
      "$LMPRA\n",
      "[1] 38993\n",
      "\n",
      "$TMPRA\n",
      "[1] 5686\n",
      "\n",
      "$WSTARR\n",
      "[1] 128794\n",
      "\n"
     ]
    }
   ],
   "source": [
    "dat = dat_region_merge_arrange\n",
    "lst = split(dat$Region, dat$Assay_Type)\n",
    "\n",
    "lst_region_assay_type = lst\n",
    "lst = lapply(lst, length)\n",
    "print(lst)"
   ]
  },
  {
   "cell_type": "markdown",
   "id": "7ccd920f-92c0-4d14-9257-3106240b484a",
   "metadata": {},
   "source": [
    "## Split by assay group"
   ]
  },
  {
   "cell_type": "code",
   "execution_count": 29,
   "id": "a5f891b0-5f07-4e95-8945-549813e34d74",
   "metadata": {},
   "outputs": [
    {
     "name": "stdout",
     "output_type": "stream",
     "text": [
      "[1] 252019      6\n"
     ]
    },
    {
     "data": {
      "text/html": [
       "<table class=\"dataframe\">\n",
       "<caption>A tibble: 6 × 6</caption>\n",
       "<thead>\n",
       "\t<tr><th scope=col>Chrom</th><th scope=col>Start</th><th scope=col>End</th><th scope=col>Region</th><th scope=col>Assay_Type</th><th scope=col>Assay_Label</th></tr>\n",
       "\t<tr><th scope=col>&lt;chr&gt;</th><th scope=col>&lt;dbl&gt;</th><th scope=col>&lt;dbl&gt;</th><th scope=col>&lt;chr&gt;</th><th scope=col>&lt;chr&gt;</th><th scope=col>&lt;chr&gt;</th></tr>\n",
       "</thead>\n",
       "<tbody>\n",
       "\t<tr><td>chr1</td><td>136071</td><td>137429</td><td>chr1:136071-137429</td><td>STARR</td><td>ASTARR_R,ATAC</td></tr>\n",
       "\t<tr><td>chr1</td><td>136071</td><td>137429</td><td>chr1:136071-137429</td><td>ATAC </td><td>ASTARR_R,ATAC</td></tr>\n",
       "\t<tr><td>chr1</td><td>180982</td><td>182087</td><td>chr1:180982-182087</td><td>STARR</td><td>ASTARR_R,ATAC</td></tr>\n",
       "\t<tr><td>chr1</td><td>180982</td><td>182087</td><td>chr1:180982-182087</td><td>ATAC </td><td>ASTARR_R,ATAC</td></tr>\n",
       "\t<tr><td>chr1</td><td>183239</td><td>184602</td><td>chr1:183239-184602</td><td>ATAC </td><td>ATAC,WSTARR_A</td></tr>\n",
       "\t<tr><td>chr1</td><td>183239</td><td>184602</td><td>chr1:183239-184602</td><td>STARR</td><td>ATAC,WSTARR_A</td></tr>\n",
       "</tbody>\n",
       "</table>\n"
      ],
      "text/latex": [
       "A tibble: 6 × 6\n",
       "\\begin{tabular}{llllll}\n",
       " Chrom & Start & End & Region & Assay\\_Type & Assay\\_Label\\\\\n",
       " <chr> & <dbl> & <dbl> & <chr> & <chr> & <chr>\\\\\n",
       "\\hline\n",
       "\t chr1 & 136071 & 137429 & chr1:136071-137429 & STARR & ASTARR\\_R,ATAC\\\\\n",
       "\t chr1 & 136071 & 137429 & chr1:136071-137429 & ATAC  & ASTARR\\_R,ATAC\\\\\n",
       "\t chr1 & 180982 & 182087 & chr1:180982-182087 & STARR & ASTARR\\_R,ATAC\\\\\n",
       "\t chr1 & 180982 & 182087 & chr1:180982-182087 & ATAC  & ASTARR\\_R,ATAC\\\\\n",
       "\t chr1 & 183239 & 184602 & chr1:183239-184602 & ATAC  & ATAC,WSTARR\\_A\\\\\n",
       "\t chr1 & 183239 & 184602 & chr1:183239-184602 & STARR & ATAC,WSTARR\\_A\\\\\n",
       "\\end{tabular}\n"
      ],
      "text/markdown": [
       "\n",
       "A tibble: 6 × 6\n",
       "\n",
       "| Chrom &lt;chr&gt; | Start &lt;dbl&gt; | End &lt;dbl&gt; | Region &lt;chr&gt; | Assay_Type &lt;chr&gt; | Assay_Label &lt;chr&gt; |\n",
       "|---|---|---|---|---|---|\n",
       "| chr1 | 136071 | 137429 | chr1:136071-137429 | STARR | ASTARR_R,ATAC |\n",
       "| chr1 | 136071 | 137429 | chr1:136071-137429 | ATAC  | ASTARR_R,ATAC |\n",
       "| chr1 | 180982 | 182087 | chr1:180982-182087 | STARR | ASTARR_R,ATAC |\n",
       "| chr1 | 180982 | 182087 | chr1:180982-182087 | ATAC  | ASTARR_R,ATAC |\n",
       "| chr1 | 183239 | 184602 | chr1:183239-184602 | ATAC  | ATAC,WSTARR_A |\n",
       "| chr1 | 183239 | 184602 | chr1:183239-184602 | STARR | ATAC,WSTARR_A |\n",
       "\n"
      ],
      "text/plain": [
       "  Chrom Start  End    Region             Assay_Type Assay_Label  \n",
       "1 chr1  136071 137429 chr1:136071-137429 STARR      ASTARR_R,ATAC\n",
       "2 chr1  136071 137429 chr1:136071-137429 ATAC       ASTARR_R,ATAC\n",
       "3 chr1  180982 182087 chr1:180982-182087 STARR      ASTARR_R,ATAC\n",
       "4 chr1  180982 182087 chr1:180982-182087 ATAC       ASTARR_R,ATAC\n",
       "5 chr1  183239 184602 chr1:183239-184602 ATAC       ATAC,WSTARR_A\n",
       "6 chr1  183239 184602 chr1:183239-184602 STARR      ATAC,WSTARR_A"
      ]
     },
     "metadata": {},
     "output_type": "display_data"
    }
   ],
   "source": [
    "dat = dat_region_merge_arrange\n",
    "dat = dat %>% \n",
    "    dplyr::mutate(\n",
    "        Assay_Type = ifelse(\n",
    "            str_detect(Assay_Type, \"CRISPRi\"),\n",
    "            \"CRISPR\",\n",
    "            Assay_Type\n",
    "        )\n",
    "    ) %>%\n",
    "    dplyr::mutate(\n",
    "        Assay_Type = ifelse(\n",
    "            str_detect(Assay_Type, \"STARR\"),\n",
    "            \"STARR\",\n",
    "            Assay_Type\n",
    "        )\n",
    "    ) %>%\n",
    "    dplyr::mutate(\n",
    "        Assay_Type = ifelse(\n",
    "            str_detect(Assay_Type, \"MPRA\"),\n",
    "            \"MPRA\",\n",
    "            Assay_Type\n",
    "        )\n",
    "    ) %>%\n",
    "    dplyr::mutate(\n",
    "        Assay_Type = ifelse(\n",
    "            str_detect(Assay_Type, \"ENCODE-E2G\"),\n",
    "            \"CRISPR\",\n",
    "            Assay_Type\n",
    "        )\n",
    "    )\n",
    "\n",
    "dat = dat %>% dplyr::distinct()\n",
    "\n",
    "dat_region_merge_summary = dat\n",
    "print(dim(dat))\n",
    "head(dat)"
   ]
  },
  {
   "cell_type": "code",
   "execution_count": 30,
   "id": "7f75af82-7689-4248-bd75-a91693b358db",
   "metadata": {},
   "outputs": [
    {
     "name": "stdout",
     "output_type": "stream",
     "text": [
      "$ATAC\n",
      "[1] 64076\n",
      "\n",
      "$CRISPR\n",
      "[1] 6572\n",
      "\n",
      "$MPRA\n",
      "[1] 44039\n",
      "\n",
      "$STARR\n",
      "[1] 137332\n",
      "\n"
     ]
    }
   ],
   "source": [
    "dat = dat_region_merge_summary\n",
    "lst = split(dat$Region, dat$Assay_Type)\n",
    "\n",
    "lst_region_assay_group1 = lst\n",
    "lst = lapply(lst, length)\n",
    "print(lst)"
   ]
  },
  {
   "cell_type": "code",
   "execution_count": 31,
   "id": "9d39a9b6-4f38-430a-bcfe-d0e1cd422ac5",
   "metadata": {},
   "outputs": [
    {
     "name": "stdout",
     "output_type": "stream",
     "text": [
      "[1] 233225      6\n"
     ]
    },
    {
     "data": {
      "text/html": [
       "<table class=\"dataframe\">\n",
       "<caption>A tibble: 6 × 6</caption>\n",
       "<thead>\n",
       "\t<tr><th scope=col>Chrom</th><th scope=col>Start</th><th scope=col>End</th><th scope=col>Region</th><th scope=col>Assay_Type</th><th scope=col>Assay_Label</th></tr>\n",
       "\t<tr><th scope=col>&lt;chr&gt;</th><th scope=col>&lt;dbl&gt;</th><th scope=col>&lt;dbl&gt;</th><th scope=col>&lt;chr&gt;</th><th scope=col>&lt;chr&gt;</th><th scope=col>&lt;chr&gt;</th></tr>\n",
       "</thead>\n",
       "<tbody>\n",
       "\t<tr><td>chr1</td><td>136071</td><td>137429</td><td>chr1:136071-137429</td><td>STARR/MPRA</td><td>ASTARR_R,ATAC</td></tr>\n",
       "\t<tr><td>chr1</td><td>136071</td><td>137429</td><td>chr1:136071-137429</td><td>ATAC      </td><td>ASTARR_R,ATAC</td></tr>\n",
       "\t<tr><td>chr1</td><td>180982</td><td>182087</td><td>chr1:180982-182087</td><td>STARR/MPRA</td><td>ASTARR_R,ATAC</td></tr>\n",
       "\t<tr><td>chr1</td><td>180982</td><td>182087</td><td>chr1:180982-182087</td><td>ATAC      </td><td>ASTARR_R,ATAC</td></tr>\n",
       "\t<tr><td>chr1</td><td>183239</td><td>184602</td><td>chr1:183239-184602</td><td>ATAC      </td><td>ATAC,WSTARR_A</td></tr>\n",
       "\t<tr><td>chr1</td><td>183239</td><td>184602</td><td>chr1:183239-184602</td><td>STARR/MPRA</td><td>ATAC,WSTARR_A</td></tr>\n",
       "</tbody>\n",
       "</table>\n"
      ],
      "text/latex": [
       "A tibble: 6 × 6\n",
       "\\begin{tabular}{llllll}\n",
       " Chrom & Start & End & Region & Assay\\_Type & Assay\\_Label\\\\\n",
       " <chr> & <dbl> & <dbl> & <chr> & <chr> & <chr>\\\\\n",
       "\\hline\n",
       "\t chr1 & 136071 & 137429 & chr1:136071-137429 & STARR/MPRA & ASTARR\\_R,ATAC\\\\\n",
       "\t chr1 & 136071 & 137429 & chr1:136071-137429 & ATAC       & ASTARR\\_R,ATAC\\\\\n",
       "\t chr1 & 180982 & 182087 & chr1:180982-182087 & STARR/MPRA & ASTARR\\_R,ATAC\\\\\n",
       "\t chr1 & 180982 & 182087 & chr1:180982-182087 & ATAC       & ASTARR\\_R,ATAC\\\\\n",
       "\t chr1 & 183239 & 184602 & chr1:183239-184602 & ATAC       & ATAC,WSTARR\\_A\\\\\n",
       "\t chr1 & 183239 & 184602 & chr1:183239-184602 & STARR/MPRA & ATAC,WSTARR\\_A\\\\\n",
       "\\end{tabular}\n"
      ],
      "text/markdown": [
       "\n",
       "A tibble: 6 × 6\n",
       "\n",
       "| Chrom &lt;chr&gt; | Start &lt;dbl&gt; | End &lt;dbl&gt; | Region &lt;chr&gt; | Assay_Type &lt;chr&gt; | Assay_Label &lt;chr&gt; |\n",
       "|---|---|---|---|---|---|\n",
       "| chr1 | 136071 | 137429 | chr1:136071-137429 | STARR/MPRA | ASTARR_R,ATAC |\n",
       "| chr1 | 136071 | 137429 | chr1:136071-137429 | ATAC       | ASTARR_R,ATAC |\n",
       "| chr1 | 180982 | 182087 | chr1:180982-182087 | STARR/MPRA | ASTARR_R,ATAC |\n",
       "| chr1 | 180982 | 182087 | chr1:180982-182087 | ATAC       | ASTARR_R,ATAC |\n",
       "| chr1 | 183239 | 184602 | chr1:183239-184602 | ATAC       | ATAC,WSTARR_A |\n",
       "| chr1 | 183239 | 184602 | chr1:183239-184602 | STARR/MPRA | ATAC,WSTARR_A |\n",
       "\n"
      ],
      "text/plain": [
       "  Chrom Start  End    Region             Assay_Type Assay_Label  \n",
       "1 chr1  136071 137429 chr1:136071-137429 STARR/MPRA ASTARR_R,ATAC\n",
       "2 chr1  136071 137429 chr1:136071-137429 ATAC       ASTARR_R,ATAC\n",
       "3 chr1  180982 182087 chr1:180982-182087 STARR/MPRA ASTARR_R,ATAC\n",
       "4 chr1  180982 182087 chr1:180982-182087 ATAC       ASTARR_R,ATAC\n",
       "5 chr1  183239 184602 chr1:183239-184602 ATAC       ATAC,WSTARR_A\n",
       "6 chr1  183239 184602 chr1:183239-184602 STARR/MPRA ATAC,WSTARR_A"
      ]
     },
     "metadata": {},
     "output_type": "display_data"
    }
   ],
   "source": [
    "dat = dat_region_merge_arrange\n",
    "dat = dat %>% \n",
    "    dplyr::mutate(\n",
    "        Assay_Type = ifelse(\n",
    "            str_detect(Assay_Type, \"CRISPRi\"),\n",
    "            \"CRISPR\",\n",
    "            Assay_Type\n",
    "        )\n",
    "    ) %>%\n",
    "    dplyr::mutate(\n",
    "        Assay_Type = ifelse(\n",
    "            str_detect(Assay_Type, \"STARR\"),\n",
    "            \"STARR/MPRA\",\n",
    "            Assay_Type\n",
    "        )\n",
    "    ) %>%\n",
    "    dplyr::mutate(\n",
    "        Assay_Type = ifelse(\n",
    "            str_detect(Assay_Type, \"MPRA\"),\n",
    "            \"STARR/MPRA\",\n",
    "            Assay_Type\n",
    "        )\n",
    "    ) %>%\n",
    "    dplyr::mutate(\n",
    "        Assay_Type = ifelse(\n",
    "            str_detect(Assay_Type, \"ENCODE-E2G\"),\n",
    "            \"CRISPR\",\n",
    "            Assay_Type\n",
    "        )\n",
    "    )\n",
    "\n",
    "dat = dat %>% dplyr::distinct()\n",
    "\n",
    "dat_region_merge_summary = dat\n",
    "print(dim(dat))\n",
    "head(dat)"
   ]
  },
  {
   "cell_type": "code",
   "execution_count": 32,
   "id": "8b19a439-3ac5-4e62-97d4-9848f9d1229c",
   "metadata": {},
   "outputs": [
    {
     "name": "stdout",
     "output_type": "stream",
     "text": [
      "$ATAC\n",
      "[1] 64076\n",
      "\n",
      "$CRISPR\n",
      "[1] 6572\n",
      "\n",
      "$`STARR/MPRA`\n",
      "[1] 162577\n",
      "\n"
     ]
    }
   ],
   "source": [
    "dat = dat_region_merge_summary\n",
    "lst = split(dat$Region, dat$Assay_Type)\n",
    "\n",
    "lst_region_assay_group2 = lst\n",
    "lst = lapply(lst, length)\n",
    "print(lst)"
   ]
  },
  {
   "cell_type": "markdown",
   "id": "55d09144-6647-4342-a382-91da6006f2e4",
   "metadata": {},
   "source": [
    "## Question 01\n",
    "\n",
    "```\n",
    "For all our identified peaks in CRISPRi-HCR FlowFISH\n",
    "- X % are supported by STARR/MPRA\n",
    "- Y % are supported by CRISPRi-Growth\n",
    "```"
   ]
  },
  {
   "cell_type": "code",
   "execution_count": 33,
   "id": "fda5dc59-ab36-4794-8ce7-35c5e24f95c5",
   "metadata": {},
   "outputs": [
    {
     "name": "stdout",
     "output_type": "stream",
     "text": [
      "[1] 74\n",
      " [1] \"chr11:5248847-5249047\"     \"chr11:5249748-5250880\"    \n",
      " [3] \"chr11:5253147-5253547\"     \"chr11:5253647-5254647\"    \n",
      " [5] \"chr11:5269147-5271147\"     \"chr11:5275247-5276247\"    \n",
      " [7] \"chr11:5279747-5281947\"     \"chr11:5282047-5282647\"    \n",
      " [9] \"chr11:5283047-5283447\"     \"chr11:5283847-5286747\"    \n",
      "[11] \"chr11:5287647-5288747\"     \"chr11:5503747-5506176\"    \n",
      "[13] \"chr11:33868682-33871379\"   \"chr11:33880468-33883368\"  \n",
      "[15] \"chr11:33936760-33938068\"   \"chr11:33940268-33943268\"  \n",
      "[17] \"chr11:33943668-33946700\"   \"chr11:33947368-33947868\"  \n",
      "[19] \"chr11:34050971-34054171\"   \"chr11:34085610-34086871\"  \n",
      "[21] \"chr11:34437468-34440568\"   \"chr11:61791528-61794000\"  \n",
      "[23] \"chr11:61796643-61797563\"   \"chr11:61813200-61818400\"  \n",
      "[25] \"chr11:61832923-61836038\"   \"chr11:61841200-61842900\"  \n",
      "[27] \"chr11:61864500-61864800\"   \"chr11:61868900-61873100\"  \n",
      "[29] \"chr11:61890378-61892453\"   \"chr11:61892600-61893098\"  \n",
      "[31] \"chr12:111993263-111995626\" \"chr12:112005226-112006426\"\n",
      "[33] \"chr12:112012488-112014926\" \"chr4:55602941-55606941\"   \n",
      "[35] \"chr4:55608941-55613941\"    \"chr4:55614441-55617136\"   \n",
      "[37] \"chr4:55617441-55618441\"    \"chr4:55624941-55627441\"   \n",
      "[39] \"chr4:55631941-55633941\"    \"chr4:55634441-55640941\"   \n",
      "[41] \"chr4:55666941-55667441\"    \"chr4:55670260-55671441\"   \n",
      "[43] \"chr4:55810941-55811941\"    \"chr5:88836342-88837414\"   \n",
      "[45] \"chr5:88882114-88885514\"    \"chr5:89054473-89056269\"   \n",
      "[47] \"chr6:109236173-109237701\"  \"chr6:109301445-109302345\" \n",
      "[49] \"chr6:109303145-109306545\"  \"chr6:109308045-109308645\" \n",
      "[51] \"chr6:109381245-109383446\"  \"chr6:135054086-135055487\" \n",
      "[53] \"chr6:135320486-135321957\"  \"chr6:135321986-135322486\" \n",
      "[55] \"chr6:135322586-135323689\"  \"chr6:135323786-135324986\" \n",
      "[57] \"chr8:127734626-127736840\"  \"chr8:127793817-127795585\" \n",
      "[59] \"chr8:127898363-127899769\"  \"chr8:127957679-127963819\" \n",
      "[61] \"chr8:128044469-128047669\"  \"chr8:128047869-128051900\" \n",
      "[63] \"chr8:128052169-128052369\"  \"chr8:128053469-128054069\" \n",
      "[65] \"chr8:128055574-128056168\"  \"chr8:128056326-128057369\" \n",
      "[67] \"chr8:128057569-128058469\"  \"chr8:128058784-128059351\" \n",
      "[69] \"chr8:128059469-128059669\"  \"chr8:128066469-128066869\" \n",
      "[71] \"chr8:128076710-128077384\"  \"chrX:48782524-48783758\"   \n",
      "[73] \"chrX:48785601-48787300\"    \"chrX:48800197-48802997\"   \n"
     ]
    }
   ],
   "source": [
    "lst = lst_region_assay_type\n",
    "txt = \"CRISPRi-HCRFF\"\n",
    "vec = lst[[txt]]\n",
    "\n",
    "vec_txt_region_query = vec\n",
    "print(length(vec))\n",
    "print(vec)"
   ]
  },
  {
   "cell_type": "code",
   "execution_count": 35,
   "id": "65460dc7-eda6-48a3-b904-d7407752edff",
   "metadata": {},
   "outputs": [
    {
     "data": {
      "text/html": [
       "<table class=\"dataframe\">\n",
       "<caption>A tibble: 8 × 6</caption>\n",
       "<thead>\n",
       "\t<tr><th scope=col>Assay_Query</th><th scope=col>Assay_Target</th><th scope=col>Length_Query</th><th scope=col>Length_Target</th><th scope=col>Intersect</th><th scope=col>Frequency</th></tr>\n",
       "\t<tr><th scope=col>&lt;chr&gt;</th><th scope=col>&lt;chr&gt;</th><th scope=col>&lt;dbl&gt;</th><th scope=col>&lt;dbl&gt;</th><th scope=col>&lt;dbl&gt;</th><th scope=col>&lt;dbl&gt;</th></tr>\n",
       "</thead>\n",
       "<tbody>\n",
       "\t<tr><td>CRISPRi-HCRFF</td><td>ASTARR              </td><td>74</td><td> 19647</td><td>25</td><td>0.34</td></tr>\n",
       "\t<tr><td>CRISPRi-HCRFF</td><td>ATAC                </td><td>74</td><td> 64076</td><td>55</td><td>0.74</td></tr>\n",
       "\t<tr><td>CRISPRi-HCRFF</td><td>CRISPRi-Growth      </td><td>74</td><td>  6171</td><td>17</td><td>0.23</td></tr>\n",
       "\t<tr><td>CRISPRi-HCRFF</td><td>CRISPRi-HCRFF       </td><td>74</td><td>    74</td><td>74</td><td>1.00</td></tr>\n",
       "\t<tr><td>CRISPRi-HCRFF</td><td>ENCODE-E2G_Benchmark</td><td>74</td><td>   384</td><td>15</td><td>0.20</td></tr>\n",
       "\t<tr><td>CRISPRi-HCRFF</td><td>LMPRA               </td><td>74</td><td> 38993</td><td>29</td><td>0.39</td></tr>\n",
       "\t<tr><td>CRISPRi-HCRFF</td><td>TMPRA               </td><td>74</td><td>  5686</td><td>32</td><td>0.43</td></tr>\n",
       "\t<tr><td>CRISPRi-HCRFF</td><td>WSTARR              </td><td>74</td><td>128794</td><td>28</td><td>0.38</td></tr>\n",
       "</tbody>\n",
       "</table>\n"
      ],
      "text/latex": [
       "A tibble: 8 × 6\n",
       "\\begin{tabular}{llllll}\n",
       " Assay\\_Query & Assay\\_Target & Length\\_Query & Length\\_Target & Intersect & Frequency\\\\\n",
       " <chr> & <chr> & <dbl> & <dbl> & <dbl> & <dbl>\\\\\n",
       "\\hline\n",
       "\t CRISPRi-HCRFF & ASTARR               & 74 &  19647 & 25 & 0.34\\\\\n",
       "\t CRISPRi-HCRFF & ATAC                 & 74 &  64076 & 55 & 0.74\\\\\n",
       "\t CRISPRi-HCRFF & CRISPRi-Growth       & 74 &   6171 & 17 & 0.23\\\\\n",
       "\t CRISPRi-HCRFF & CRISPRi-HCRFF        & 74 &     74 & 74 & 1.00\\\\\n",
       "\t CRISPRi-HCRFF & ENCODE-E2G\\_Benchmark & 74 &    384 & 15 & 0.20\\\\\n",
       "\t CRISPRi-HCRFF & LMPRA                & 74 &  38993 & 29 & 0.39\\\\\n",
       "\t CRISPRi-HCRFF & TMPRA                & 74 &   5686 & 32 & 0.43\\\\\n",
       "\t CRISPRi-HCRFF & WSTARR               & 74 & 128794 & 28 & 0.38\\\\\n",
       "\\end{tabular}\n"
      ],
      "text/markdown": [
       "\n",
       "A tibble: 8 × 6\n",
       "\n",
       "| Assay_Query &lt;chr&gt; | Assay_Target &lt;chr&gt; | Length_Query &lt;dbl&gt; | Length_Target &lt;dbl&gt; | Intersect &lt;dbl&gt; | Frequency &lt;dbl&gt; |\n",
       "|---|---|---|---|---|---|\n",
       "| CRISPRi-HCRFF | ASTARR               | 74 |  19647 | 25 | 0.34 |\n",
       "| CRISPRi-HCRFF | ATAC                 | 74 |  64076 | 55 | 0.74 |\n",
       "| CRISPRi-HCRFF | CRISPRi-Growth       | 74 |   6171 | 17 | 0.23 |\n",
       "| CRISPRi-HCRFF | CRISPRi-HCRFF        | 74 |     74 | 74 | 1.00 |\n",
       "| CRISPRi-HCRFF | ENCODE-E2G_Benchmark | 74 |    384 | 15 | 0.20 |\n",
       "| CRISPRi-HCRFF | LMPRA                | 74 |  38993 | 29 | 0.39 |\n",
       "| CRISPRi-HCRFF | TMPRA                | 74 |   5686 | 32 | 0.43 |\n",
       "| CRISPRi-HCRFF | WSTARR               | 74 | 128794 | 28 | 0.38 |\n",
       "\n"
      ],
      "text/plain": [
       "  Assay_Query   Assay_Target         Length_Query Length_Target Intersect\n",
       "1 CRISPRi-HCRFF ASTARR               74            19647        25       \n",
       "2 CRISPRi-HCRFF ATAC                 74            64076        55       \n",
       "3 CRISPRi-HCRFF CRISPRi-Growth       74             6171        17       \n",
       "4 CRISPRi-HCRFF CRISPRi-HCRFF        74               74        74       \n",
       "5 CRISPRi-HCRFF ENCODE-E2G_Benchmark 74              384        15       \n",
       "6 CRISPRi-HCRFF LMPRA                74            38993        29       \n",
       "7 CRISPRi-HCRFF TMPRA                74             5686        32       \n",
       "8 CRISPRi-HCRFF WSTARR               74           128794        28       \n",
       "  Frequency\n",
       "1 0.34     \n",
       "2 0.74     \n",
       "3 0.23     \n",
       "4 1.00     \n",
       "5 0.20     \n",
       "6 0.39     \n",
       "7 0.43     \n",
       "8 0.38     "
      ]
     },
     "metadata": {},
     "output_type": "display_data"
    }
   ],
   "source": [
    "lst = lst_region_assay_type\n",
    "lst = lapply(lst, function(vec_txt_region_target){\n",
    "    vec = (vec_txt_region_query %in% vec_txt_region_target)\n",
    "    res = c(\n",
    "        \"Length_Query\"  = length(vec_txt_region_query),\n",
    "        \"Length_Target\" = length(vec_txt_region_target),\n",
    "        \"Intersect\"     = sum(vec),\n",
    "        \"Frequency\"     = round(mean(vec), 2)\n",
    "    )\n",
    "    return(res)\n",
    "})\n",
    "\n",
    "dat = bind_rows(lst, .id = \"Assay_Target\")\n",
    "dat$Assay_Query = \"CRISPRi-HCRFF\"\n",
    "dat = dat %>% dplyr::select(Assay_Query, Assay_Target, Length_Query, Length_Target, Intersect, Frequency)\n",
    "dat"
   ]
  },
  {
   "cell_type": "code",
   "execution_count": 37,
   "id": "c5987536-96c8-4a41-b70d-269550711688",
   "metadata": {},
   "outputs": [
    {
     "data": {
      "text/html": [
       "<table class=\"dataframe\">\n",
       "<caption>A tibble: 4 × 6</caption>\n",
       "<thead>\n",
       "\t<tr><th scope=col>Assay_Query</th><th scope=col>Assay_Target</th><th scope=col>Length_Query</th><th scope=col>Length_Target</th><th scope=col>Intersect</th><th scope=col>Frequency</th></tr>\n",
       "\t<tr><th scope=col>&lt;chr&gt;</th><th scope=col>&lt;chr&gt;</th><th scope=col>&lt;dbl&gt;</th><th scope=col>&lt;dbl&gt;</th><th scope=col>&lt;dbl&gt;</th><th scope=col>&lt;dbl&gt;</th></tr>\n",
       "</thead>\n",
       "<tbody>\n",
       "\t<tr><td>CRISPRi-HCRFF</td><td>ATAC  </td><td>74</td><td> 64076</td><td>55</td><td>0.74</td></tr>\n",
       "\t<tr><td>CRISPRi-HCRFF</td><td>CRISPR</td><td>74</td><td>  6572</td><td>74</td><td>1.00</td></tr>\n",
       "\t<tr><td>CRISPRi-HCRFF</td><td>MPRA  </td><td>74</td><td> 44039</td><td>43</td><td>0.58</td></tr>\n",
       "\t<tr><td>CRISPRi-HCRFF</td><td>STARR </td><td>74</td><td>137332</td><td>35</td><td>0.47</td></tr>\n",
       "</tbody>\n",
       "</table>\n"
      ],
      "text/latex": [
       "A tibble: 4 × 6\n",
       "\\begin{tabular}{llllll}\n",
       " Assay\\_Query & Assay\\_Target & Length\\_Query & Length\\_Target & Intersect & Frequency\\\\\n",
       " <chr> & <chr> & <dbl> & <dbl> & <dbl> & <dbl>\\\\\n",
       "\\hline\n",
       "\t CRISPRi-HCRFF & ATAC   & 74 &  64076 & 55 & 0.74\\\\\n",
       "\t CRISPRi-HCRFF & CRISPR & 74 &   6572 & 74 & 1.00\\\\\n",
       "\t CRISPRi-HCRFF & MPRA   & 74 &  44039 & 43 & 0.58\\\\\n",
       "\t CRISPRi-HCRFF & STARR  & 74 & 137332 & 35 & 0.47\\\\\n",
       "\\end{tabular}\n"
      ],
      "text/markdown": [
       "\n",
       "A tibble: 4 × 6\n",
       "\n",
       "| Assay_Query &lt;chr&gt; | Assay_Target &lt;chr&gt; | Length_Query &lt;dbl&gt; | Length_Target &lt;dbl&gt; | Intersect &lt;dbl&gt; | Frequency &lt;dbl&gt; |\n",
       "|---|---|---|---|---|---|\n",
       "| CRISPRi-HCRFF | ATAC   | 74 |  64076 | 55 | 0.74 |\n",
       "| CRISPRi-HCRFF | CRISPR | 74 |   6572 | 74 | 1.00 |\n",
       "| CRISPRi-HCRFF | MPRA   | 74 |  44039 | 43 | 0.58 |\n",
       "| CRISPRi-HCRFF | STARR  | 74 | 137332 | 35 | 0.47 |\n",
       "\n"
      ],
      "text/plain": [
       "  Assay_Query   Assay_Target Length_Query Length_Target Intersect Frequency\n",
       "1 CRISPRi-HCRFF ATAC         74            64076        55        0.74     \n",
       "2 CRISPRi-HCRFF CRISPR       74             6572        74        1.00     \n",
       "3 CRISPRi-HCRFF MPRA         74            44039        43        0.58     \n",
       "4 CRISPRi-HCRFF STARR        74           137332        35        0.47     "
      ]
     },
     "metadata": {},
     "output_type": "display_data"
    }
   ],
   "source": [
    "lst = lst_region_assay_group1\n",
    "lst = lapply(lst, function(vec_txt_region_target){\n",
    "    vec = (vec_txt_region_query %in% vec_txt_region_target)\n",
    "    res = c(\n",
    "        \"Length_Query\"  = length(vec_txt_region_query),\n",
    "        \"Length_Target\" = length(vec_txt_region_target),\n",
    "        \"Intersect\"     = sum(vec),\n",
    "        \"Frequency\"     = round(mean(vec), 2)\n",
    "    )\n",
    "    return(res)\n",
    "})\n",
    "\n",
    "dat = bind_rows(lst, .id = \"Assay_Target\")\n",
    "dat$Assay_Query = \"CRISPRi-HCRFF\"\n",
    "dat = dat %>% dplyr::select(Assay_Query, Assay_Target, Length_Query, Length_Target, Intersect, Frequency)\n",
    "dat"
   ]
  },
  {
   "cell_type": "code",
   "execution_count": 38,
   "id": "c0aa481b-74ca-48f9-9b20-51f92e578563",
   "metadata": {},
   "outputs": [
    {
     "data": {
      "text/html": [
       "<table class=\"dataframe\">\n",
       "<caption>A tibble: 3 × 6</caption>\n",
       "<thead>\n",
       "\t<tr><th scope=col>Assay_Query</th><th scope=col>Assay_Target</th><th scope=col>Length_Query</th><th scope=col>Length_Target</th><th scope=col>Intersect</th><th scope=col>Frequency</th></tr>\n",
       "\t<tr><th scope=col>&lt;chr&gt;</th><th scope=col>&lt;chr&gt;</th><th scope=col>&lt;dbl&gt;</th><th scope=col>&lt;dbl&gt;</th><th scope=col>&lt;dbl&gt;</th><th scope=col>&lt;dbl&gt;</th></tr>\n",
       "</thead>\n",
       "<tbody>\n",
       "\t<tr><td>CRISPRi-HCRFF</td><td>ATAC      </td><td>74</td><td> 64076</td><td>55</td><td>0.74</td></tr>\n",
       "\t<tr><td>CRISPRi-HCRFF</td><td>CRISPR    </td><td>74</td><td>  6572</td><td>74</td><td>1.00</td></tr>\n",
       "\t<tr><td>CRISPRi-HCRFF</td><td>STARR/MPRA</td><td>74</td><td>162577</td><td>47</td><td>0.64</td></tr>\n",
       "</tbody>\n",
       "</table>\n"
      ],
      "text/latex": [
       "A tibble: 3 × 6\n",
       "\\begin{tabular}{llllll}\n",
       " Assay\\_Query & Assay\\_Target & Length\\_Query & Length\\_Target & Intersect & Frequency\\\\\n",
       " <chr> & <chr> & <dbl> & <dbl> & <dbl> & <dbl>\\\\\n",
       "\\hline\n",
       "\t CRISPRi-HCRFF & ATAC       & 74 &  64076 & 55 & 0.74\\\\\n",
       "\t CRISPRi-HCRFF & CRISPR     & 74 &   6572 & 74 & 1.00\\\\\n",
       "\t CRISPRi-HCRFF & STARR/MPRA & 74 & 162577 & 47 & 0.64\\\\\n",
       "\\end{tabular}\n"
      ],
      "text/markdown": [
       "\n",
       "A tibble: 3 × 6\n",
       "\n",
       "| Assay_Query &lt;chr&gt; | Assay_Target &lt;chr&gt; | Length_Query &lt;dbl&gt; | Length_Target &lt;dbl&gt; | Intersect &lt;dbl&gt; | Frequency &lt;dbl&gt; |\n",
       "|---|---|---|---|---|---|\n",
       "| CRISPRi-HCRFF | ATAC       | 74 |  64076 | 55 | 0.74 |\n",
       "| CRISPRi-HCRFF | CRISPR     | 74 |   6572 | 74 | 1.00 |\n",
       "| CRISPRi-HCRFF | STARR/MPRA | 74 | 162577 | 47 | 0.64 |\n",
       "\n"
      ],
      "text/plain": [
       "  Assay_Query   Assay_Target Length_Query Length_Target Intersect Frequency\n",
       "1 CRISPRi-HCRFF ATAC         74            64076        55        0.74     \n",
       "2 CRISPRi-HCRFF CRISPR       74             6572        74        1.00     \n",
       "3 CRISPRi-HCRFF STARR/MPRA   74           162577        47        0.64     "
      ]
     },
     "metadata": {},
     "output_type": "display_data"
    }
   ],
   "source": [
    "lst = lst_region_assay_group2\n",
    "lst = lapply(lst, function(vec_txt_region_target){\n",
    "    vec = (vec_txt_region_query %in% vec_txt_region_target)\n",
    "    res = c(\n",
    "        \"Length_Query\"  = length(vec_txt_region_query),\n",
    "        \"Length_Target\" = length(vec_txt_region_target),\n",
    "        \"Intersect\"     = sum(vec),\n",
    "        \"Frequency\"     = round(mean(vec), 2)\n",
    "    )\n",
    "    return(res)\n",
    "})\n",
    "\n",
    "dat = bind_rows(lst, .id = \"Assay_Target\")\n",
    "dat$Assay_Query = \"CRISPRi-HCRFF\"\n",
    "dat = dat %>% dplyr::select(Assay_Query, Assay_Target, Length_Query, Length_Target, Intersect, Frequency)\n",
    "dat"
   ]
  },
  {
   "cell_type": "code",
   "execution_count": null,
   "id": "ac4c57a0-b0cd-4dd4-9380-a5d618d78b02",
   "metadata": {},
   "outputs": [],
   "source": []
  },
  {
   "cell_type": "markdown",
   "id": "d0b00463-a4b1-4ae0-b7d6-efddb61ca046",
   "metadata": {},
   "source": [
    "## Question 02\n",
    "\n",
    "```\n",
    "For all our identified peaks in CRISPRi-Growth\n",
    "- Z % are supported by STARR/MPRA\n",
    "```"
   ]
  },
  {
   "cell_type": "code",
   "execution_count": 40,
   "id": "5f25876d-88ca-4fcc-863e-1246839255a8",
   "metadata": {},
   "outputs": [
    {
     "name": "stdout",
     "output_type": "stream",
     "text": [
      "[1] 6171\n",
      "[1] \"chr1:605090-605823\"   \"chr1:826642-828050\"   \"chr1:964946-965136\"  \n",
      "[4] \"chr1:995761-996190\"   \"chr1:1067780-1070953\" \"chr1:1155362-1155639\"\n"
     ]
    }
   ],
   "source": [
    "lst = lst_region_assay_type\n",
    "txt = \"CRISPRi-Growth\"\n",
    "vec = lst[[txt]]\n",
    "\n",
    "vec_txt_region_query = vec\n",
    "print(length(vec))\n",
    "print(head(vec))"
   ]
  },
  {
   "cell_type": "code",
   "execution_count": 41,
   "id": "e59cfe13-6a08-4b3b-a547-85385061a76d",
   "metadata": {},
   "outputs": [
    {
     "data": {
      "text/html": [
       "<table class=\"dataframe\">\n",
       "<caption>A tibble: 8 × 6</caption>\n",
       "<thead>\n",
       "\t<tr><th scope=col>Assay_Query</th><th scope=col>Assay_Target</th><th scope=col>Length_Query</th><th scope=col>Length_Target</th><th scope=col>Intersect</th><th scope=col>Frequency</th></tr>\n",
       "\t<tr><th scope=col>&lt;chr&gt;</th><th scope=col>&lt;chr&gt;</th><th scope=col>&lt;dbl&gt;</th><th scope=col>&lt;dbl&gt;</th><th scope=col>&lt;dbl&gt;</th><th scope=col>&lt;dbl&gt;</th></tr>\n",
       "</thead>\n",
       "<tbody>\n",
       "\t<tr><td>CRISPRi-Growth</td><td>ASTARR              </td><td>6171</td><td> 19647</td><td>1353</td><td>0.22</td></tr>\n",
       "\t<tr><td>CRISPRi-Growth</td><td>ATAC                </td><td>6171</td><td> 64076</td><td>4882</td><td>0.79</td></tr>\n",
       "\t<tr><td>CRISPRi-Growth</td><td>CRISPRi-Growth      </td><td>6171</td><td>  6171</td><td>6171</td><td>1.00</td></tr>\n",
       "\t<tr><td>CRISPRi-Growth</td><td>CRISPRi-HCRFF       </td><td>6171</td><td>    74</td><td>  17</td><td>0.00</td></tr>\n",
       "\t<tr><td>CRISPRi-Growth</td><td>ENCODE-E2G_Benchmark</td><td>6171</td><td>   384</td><td>  33</td><td>0.01</td></tr>\n",
       "\t<tr><td>CRISPRi-Growth</td><td>LMPRA               </td><td>6171</td><td> 38993</td><td>2113</td><td>0.34</td></tr>\n",
       "\t<tr><td>CRISPRi-Growth</td><td>TMPRA               </td><td>6171</td><td>  5686</td><td>  48</td><td>0.01</td></tr>\n",
       "\t<tr><td>CRISPRi-Growth</td><td>WSTARR              </td><td>6171</td><td>128794</td><td>2299</td><td>0.37</td></tr>\n",
       "</tbody>\n",
       "</table>\n"
      ],
      "text/latex": [
       "A tibble: 8 × 6\n",
       "\\begin{tabular}{llllll}\n",
       " Assay\\_Query & Assay\\_Target & Length\\_Query & Length\\_Target & Intersect & Frequency\\\\\n",
       " <chr> & <chr> & <dbl> & <dbl> & <dbl> & <dbl>\\\\\n",
       "\\hline\n",
       "\t CRISPRi-Growth & ASTARR               & 6171 &  19647 & 1353 & 0.22\\\\\n",
       "\t CRISPRi-Growth & ATAC                 & 6171 &  64076 & 4882 & 0.79\\\\\n",
       "\t CRISPRi-Growth & CRISPRi-Growth       & 6171 &   6171 & 6171 & 1.00\\\\\n",
       "\t CRISPRi-Growth & CRISPRi-HCRFF        & 6171 &     74 &   17 & 0.00\\\\\n",
       "\t CRISPRi-Growth & ENCODE-E2G\\_Benchmark & 6171 &    384 &   33 & 0.01\\\\\n",
       "\t CRISPRi-Growth & LMPRA                & 6171 &  38993 & 2113 & 0.34\\\\\n",
       "\t CRISPRi-Growth & TMPRA                & 6171 &   5686 &   48 & 0.01\\\\\n",
       "\t CRISPRi-Growth & WSTARR               & 6171 & 128794 & 2299 & 0.37\\\\\n",
       "\\end{tabular}\n"
      ],
      "text/markdown": [
       "\n",
       "A tibble: 8 × 6\n",
       "\n",
       "| Assay_Query &lt;chr&gt; | Assay_Target &lt;chr&gt; | Length_Query &lt;dbl&gt; | Length_Target &lt;dbl&gt; | Intersect &lt;dbl&gt; | Frequency &lt;dbl&gt; |\n",
       "|---|---|---|---|---|---|\n",
       "| CRISPRi-Growth | ASTARR               | 6171 |  19647 | 1353 | 0.22 |\n",
       "| CRISPRi-Growth | ATAC                 | 6171 |  64076 | 4882 | 0.79 |\n",
       "| CRISPRi-Growth | CRISPRi-Growth       | 6171 |   6171 | 6171 | 1.00 |\n",
       "| CRISPRi-Growth | CRISPRi-HCRFF        | 6171 |     74 |   17 | 0.00 |\n",
       "| CRISPRi-Growth | ENCODE-E2G_Benchmark | 6171 |    384 |   33 | 0.01 |\n",
       "| CRISPRi-Growth | LMPRA                | 6171 |  38993 | 2113 | 0.34 |\n",
       "| CRISPRi-Growth | TMPRA                | 6171 |   5686 |   48 | 0.01 |\n",
       "| CRISPRi-Growth | WSTARR               | 6171 | 128794 | 2299 | 0.37 |\n",
       "\n"
      ],
      "text/plain": [
       "  Assay_Query    Assay_Target         Length_Query Length_Target Intersect\n",
       "1 CRISPRi-Growth ASTARR               6171          19647        1353     \n",
       "2 CRISPRi-Growth ATAC                 6171          64076        4882     \n",
       "3 CRISPRi-Growth CRISPRi-Growth       6171           6171        6171     \n",
       "4 CRISPRi-Growth CRISPRi-HCRFF        6171             74          17     \n",
       "5 CRISPRi-Growth ENCODE-E2G_Benchmark 6171            384          33     \n",
       "6 CRISPRi-Growth LMPRA                6171          38993        2113     \n",
       "7 CRISPRi-Growth TMPRA                6171           5686          48     \n",
       "8 CRISPRi-Growth WSTARR               6171         128794        2299     \n",
       "  Frequency\n",
       "1 0.22     \n",
       "2 0.79     \n",
       "3 1.00     \n",
       "4 0.00     \n",
       "5 0.01     \n",
       "6 0.34     \n",
       "7 0.01     \n",
       "8 0.37     "
      ]
     },
     "metadata": {},
     "output_type": "display_data"
    }
   ],
   "source": [
    "lst = lst_region_assay_type\n",
    "lst = lapply(lst, function(vec_txt_region_target){\n",
    "    vec = (vec_txt_region_query %in% vec_txt_region_target)\n",
    "    res = c(\n",
    "        \"Length_Query\"  = length(vec_txt_region_query),\n",
    "        \"Length_Target\" = length(vec_txt_region_target),\n",
    "        \"Intersect\"     = sum(vec),\n",
    "        \"Frequency\"     = round(mean(vec), 2)\n",
    "    )\n",
    "    return(res)\n",
    "})\n",
    "\n",
    "dat = bind_rows(lst, .id = \"Assay_Target\")\n",
    "dat$Assay_Query = txt\n",
    "dat = dat %>% dplyr::select(Assay_Query, Assay_Target, Length_Query, Length_Target, Intersect, Frequency)\n",
    "dat"
   ]
  },
  {
   "cell_type": "code",
   "execution_count": 42,
   "id": "4ebd9392-5e41-46a4-89bc-4fffc5528b5d",
   "metadata": {},
   "outputs": [
    {
     "data": {
      "text/html": [
       "<table class=\"dataframe\">\n",
       "<caption>A tibble: 4 × 6</caption>\n",
       "<thead>\n",
       "\t<tr><th scope=col>Assay_Query</th><th scope=col>Assay_Target</th><th scope=col>Length_Query</th><th scope=col>Length_Target</th><th scope=col>Intersect</th><th scope=col>Frequency</th></tr>\n",
       "\t<tr><th scope=col>&lt;chr&gt;</th><th scope=col>&lt;chr&gt;</th><th scope=col>&lt;dbl&gt;</th><th scope=col>&lt;dbl&gt;</th><th scope=col>&lt;dbl&gt;</th><th scope=col>&lt;dbl&gt;</th></tr>\n",
       "</thead>\n",
       "<tbody>\n",
       "\t<tr><td>CRISPRi-Growth</td><td>ATAC  </td><td>6171</td><td> 64076</td><td>4882</td><td>0.79</td></tr>\n",
       "\t<tr><td>CRISPRi-Growth</td><td>CRISPR</td><td>6171</td><td>  6572</td><td>6171</td><td>1.00</td></tr>\n",
       "\t<tr><td>CRISPRi-Growth</td><td>MPRA  </td><td>6171</td><td> 44039</td><td>2137</td><td>0.35</td></tr>\n",
       "\t<tr><td>CRISPRi-Growth</td><td>STARR </td><td>6171</td><td>137332</td><td>2660</td><td>0.43</td></tr>\n",
       "</tbody>\n",
       "</table>\n"
      ],
      "text/latex": [
       "A tibble: 4 × 6\n",
       "\\begin{tabular}{llllll}\n",
       " Assay\\_Query & Assay\\_Target & Length\\_Query & Length\\_Target & Intersect & Frequency\\\\\n",
       " <chr> & <chr> & <dbl> & <dbl> & <dbl> & <dbl>\\\\\n",
       "\\hline\n",
       "\t CRISPRi-Growth & ATAC   & 6171 &  64076 & 4882 & 0.79\\\\\n",
       "\t CRISPRi-Growth & CRISPR & 6171 &   6572 & 6171 & 1.00\\\\\n",
       "\t CRISPRi-Growth & MPRA   & 6171 &  44039 & 2137 & 0.35\\\\\n",
       "\t CRISPRi-Growth & STARR  & 6171 & 137332 & 2660 & 0.43\\\\\n",
       "\\end{tabular}\n"
      ],
      "text/markdown": [
       "\n",
       "A tibble: 4 × 6\n",
       "\n",
       "| Assay_Query &lt;chr&gt; | Assay_Target &lt;chr&gt; | Length_Query &lt;dbl&gt; | Length_Target &lt;dbl&gt; | Intersect &lt;dbl&gt; | Frequency &lt;dbl&gt; |\n",
       "|---|---|---|---|---|---|\n",
       "| CRISPRi-Growth | ATAC   | 6171 |  64076 | 4882 | 0.79 |\n",
       "| CRISPRi-Growth | CRISPR | 6171 |   6572 | 6171 | 1.00 |\n",
       "| CRISPRi-Growth | MPRA   | 6171 |  44039 | 2137 | 0.35 |\n",
       "| CRISPRi-Growth | STARR  | 6171 | 137332 | 2660 | 0.43 |\n",
       "\n"
      ],
      "text/plain": [
       "  Assay_Query    Assay_Target Length_Query Length_Target Intersect Frequency\n",
       "1 CRISPRi-Growth ATAC         6171          64076        4882      0.79     \n",
       "2 CRISPRi-Growth CRISPR       6171           6572        6171      1.00     \n",
       "3 CRISPRi-Growth MPRA         6171          44039        2137      0.35     \n",
       "4 CRISPRi-Growth STARR        6171         137332        2660      0.43     "
      ]
     },
     "metadata": {},
     "output_type": "display_data"
    }
   ],
   "source": [
    "lst = lst_region_assay_group1\n",
    "lst = lapply(lst, function(vec_txt_region_target){\n",
    "    vec = (vec_txt_region_query %in% vec_txt_region_target)\n",
    "    res = c(\n",
    "        \"Length_Query\"  = length(vec_txt_region_query),\n",
    "        \"Length_Target\" = length(vec_txt_region_target),\n",
    "        \"Intersect\"     = sum(vec),\n",
    "        \"Frequency\"     = round(mean(vec), 2)\n",
    "    )\n",
    "    return(res)\n",
    "})\n",
    "\n",
    "dat = bind_rows(lst, .id = \"Assay_Target\")\n",
    "dat$Assay_Query = txt\n",
    "dat = dat %>% dplyr::select(Assay_Query, Assay_Target, Length_Query, Length_Target, Intersect, Frequency)\n",
    "dat"
   ]
  },
  {
   "cell_type": "code",
   "execution_count": 43,
   "id": "da9aa99f-9754-4532-a6f6-898674485a94",
   "metadata": {},
   "outputs": [
    {
     "data": {
      "text/html": [
       "<table class=\"dataframe\">\n",
       "<caption>A tibble: 3 × 6</caption>\n",
       "<thead>\n",
       "\t<tr><th scope=col>Assay_Query</th><th scope=col>Assay_Target</th><th scope=col>Length_Query</th><th scope=col>Length_Target</th><th scope=col>Intersect</th><th scope=col>Frequency</th></tr>\n",
       "\t<tr><th scope=col>&lt;chr&gt;</th><th scope=col>&lt;chr&gt;</th><th scope=col>&lt;dbl&gt;</th><th scope=col>&lt;dbl&gt;</th><th scope=col>&lt;dbl&gt;</th><th scope=col>&lt;dbl&gt;</th></tr>\n",
       "</thead>\n",
       "<tbody>\n",
       "\t<tr><td>CRISPRi-Growth</td><td>ATAC      </td><td>6171</td><td> 64076</td><td>4882</td><td>0.79</td></tr>\n",
       "\t<tr><td>CRISPRi-Growth</td><td>CRISPR    </td><td>6171</td><td>  6572</td><td>6171</td><td>1.00</td></tr>\n",
       "\t<tr><td>CRISPRi-Growth</td><td>STARR/MPRA</td><td>6171</td><td>162577</td><td>3238</td><td>0.52</td></tr>\n",
       "</tbody>\n",
       "</table>\n"
      ],
      "text/latex": [
       "A tibble: 3 × 6\n",
       "\\begin{tabular}{llllll}\n",
       " Assay\\_Query & Assay\\_Target & Length\\_Query & Length\\_Target & Intersect & Frequency\\\\\n",
       " <chr> & <chr> & <dbl> & <dbl> & <dbl> & <dbl>\\\\\n",
       "\\hline\n",
       "\t CRISPRi-Growth & ATAC       & 6171 &  64076 & 4882 & 0.79\\\\\n",
       "\t CRISPRi-Growth & CRISPR     & 6171 &   6572 & 6171 & 1.00\\\\\n",
       "\t CRISPRi-Growth & STARR/MPRA & 6171 & 162577 & 3238 & 0.52\\\\\n",
       "\\end{tabular}\n"
      ],
      "text/markdown": [
       "\n",
       "A tibble: 3 × 6\n",
       "\n",
       "| Assay_Query &lt;chr&gt; | Assay_Target &lt;chr&gt; | Length_Query &lt;dbl&gt; | Length_Target &lt;dbl&gt; | Intersect &lt;dbl&gt; | Frequency &lt;dbl&gt; |\n",
       "|---|---|---|---|---|---|\n",
       "| CRISPRi-Growth | ATAC       | 6171 |  64076 | 4882 | 0.79 |\n",
       "| CRISPRi-Growth | CRISPR     | 6171 |   6572 | 6171 | 1.00 |\n",
       "| CRISPRi-Growth | STARR/MPRA | 6171 | 162577 | 3238 | 0.52 |\n",
       "\n"
      ],
      "text/plain": [
       "  Assay_Query    Assay_Target Length_Query Length_Target Intersect Frequency\n",
       "1 CRISPRi-Growth ATAC         6171          64076        4882      0.79     \n",
       "2 CRISPRi-Growth CRISPR       6171           6572        6171      1.00     \n",
       "3 CRISPRi-Growth STARR/MPRA   6171         162577        3238      0.52     "
      ]
     },
     "metadata": {},
     "output_type": "display_data"
    }
   ],
   "source": [
    "lst = lst_region_assay_group2\n",
    "lst = lapply(lst, function(vec_txt_region_target){\n",
    "    vec = (vec_txt_region_query %in% vec_txt_region_target)\n",
    "    res = c(\n",
    "        \"Length_Query\"  = length(vec_txt_region_query),\n",
    "        \"Length_Target\" = length(vec_txt_region_target),\n",
    "        \"Intersect\"     = sum(vec),\n",
    "        \"Frequency\"     = round(mean(vec), 2)\n",
    "    )\n",
    "    return(res)\n",
    "})\n",
    "\n",
    "dat = bind_rows(lst, .id = \"Assay_Target\")\n",
    "dat$Assay_Query = txt\n",
    "dat = dat %>% dplyr::select(Assay_Query, Assay_Target, Length_Query, Length_Target, Intersect, Frequency)\n",
    "dat"
   ]
  },
  {
   "cell_type": "code",
   "execution_count": null,
   "id": "2ac54020-241a-470d-a09d-6e73b44d25c6",
   "metadata": {},
   "outputs": [],
   "source": []
  },
  {
   "cell_type": "code",
   "execution_count": null,
   "id": "76cc0213-e4ab-466d-9c3d-dc4ff9cffb3d",
   "metadata": {},
   "outputs": [],
   "source": []
  },
  {
   "cell_type": "markdown",
   "id": "48468104-0f7b-45ce-8812-53c6c0648435",
   "metadata": {},
   "source": [
    "## Question 03\n",
    "\n",
    "```\n",
    "For our identified accessible regions (ATAC peaks),\n",
    "U % are shown to have regulatory activity in STARR/MPRA\n",
    "U1 % candidate enhancers\n",
    "U2 % candidate silencers\n",
    "V % are shown to change the cell fitness in CRISPRi-Growth\n",
    "```"
   ]
  },
  {
   "cell_type": "code",
   "execution_count": 44,
   "id": "b5dea5eb-57d7-4310-992e-f304ad936314",
   "metadata": {},
   "outputs": [
    {
     "name": "stdout",
     "output_type": "stream",
     "text": [
      "[1] 64076\n",
      "[1] \"chr1:136071-137429\" \"chr1:180982-182087\" \"chr1:183239-184602\"\n",
      "[4] \"chr1:605090-605823\" \"chr1:777949-779437\" \"chr1:818602-819380\"\n"
     ]
    }
   ],
   "source": [
    "lst = lst_region_assay_type\n",
    "txt = \"ATAC\"\n",
    "vec = lst[[txt]]\n",
    "\n",
    "vec_txt_region_query = vec\n",
    "print(length(vec))\n",
    "print(head(vec))"
   ]
  },
  {
   "cell_type": "code",
   "execution_count": 45,
   "id": "48eafef9-b74b-40c1-bf2a-d8529a70241e",
   "metadata": {},
   "outputs": [
    {
     "data": {
      "text/html": [
       "<table class=\"dataframe\">\n",
       "<caption>A tibble: 8 × 6</caption>\n",
       "<thead>\n",
       "\t<tr><th scope=col>Assay_Query</th><th scope=col>Assay_Target</th><th scope=col>Length_Query</th><th scope=col>Length_Target</th><th scope=col>Intersect</th><th scope=col>Frequency</th></tr>\n",
       "\t<tr><th scope=col>&lt;chr&gt;</th><th scope=col>&lt;chr&gt;</th><th scope=col>&lt;dbl&gt;</th><th scope=col>&lt;dbl&gt;</th><th scope=col>&lt;dbl&gt;</th><th scope=col>&lt;dbl&gt;</th></tr>\n",
       "</thead>\n",
       "<tbody>\n",
       "\t<tr><td>ATAC</td><td>ASTARR              </td><td>64076</td><td> 19647</td><td>18064</td><td>0.28</td></tr>\n",
       "\t<tr><td>ATAC</td><td>ATAC                </td><td>64076</td><td> 64076</td><td>64076</td><td>1.00</td></tr>\n",
       "\t<tr><td>ATAC</td><td>CRISPRi-Growth      </td><td>64076</td><td>  6171</td><td> 4882</td><td>0.08</td></tr>\n",
       "\t<tr><td>ATAC</td><td>CRISPRi-HCRFF       </td><td>64076</td><td>    74</td><td>   55</td><td>0.00</td></tr>\n",
       "\t<tr><td>ATAC</td><td>ENCODE-E2G_Benchmark</td><td>64076</td><td>   384</td><td>  359</td><td>0.01</td></tr>\n",
       "\t<tr><td>ATAC</td><td>LMPRA               </td><td>64076</td><td> 38993</td><td>33702</td><td>0.53</td></tr>\n",
       "\t<tr><td>ATAC</td><td>TMPRA               </td><td>64076</td><td>  5686</td><td> 1111</td><td>0.02</td></tr>\n",
       "\t<tr><td>ATAC</td><td>WSTARR              </td><td>64076</td><td>128794</td><td>38091</td><td>0.59</td></tr>\n",
       "</tbody>\n",
       "</table>\n"
      ],
      "text/latex": [
       "A tibble: 8 × 6\n",
       "\\begin{tabular}{llllll}\n",
       " Assay\\_Query & Assay\\_Target & Length\\_Query & Length\\_Target & Intersect & Frequency\\\\\n",
       " <chr> & <chr> & <dbl> & <dbl> & <dbl> & <dbl>\\\\\n",
       "\\hline\n",
       "\t ATAC & ASTARR               & 64076 &  19647 & 18064 & 0.28\\\\\n",
       "\t ATAC & ATAC                 & 64076 &  64076 & 64076 & 1.00\\\\\n",
       "\t ATAC & CRISPRi-Growth       & 64076 &   6171 &  4882 & 0.08\\\\\n",
       "\t ATAC & CRISPRi-HCRFF        & 64076 &     74 &    55 & 0.00\\\\\n",
       "\t ATAC & ENCODE-E2G\\_Benchmark & 64076 &    384 &   359 & 0.01\\\\\n",
       "\t ATAC & LMPRA                & 64076 &  38993 & 33702 & 0.53\\\\\n",
       "\t ATAC & TMPRA                & 64076 &   5686 &  1111 & 0.02\\\\\n",
       "\t ATAC & WSTARR               & 64076 & 128794 & 38091 & 0.59\\\\\n",
       "\\end{tabular}\n"
      ],
      "text/markdown": [
       "\n",
       "A tibble: 8 × 6\n",
       "\n",
       "| Assay_Query &lt;chr&gt; | Assay_Target &lt;chr&gt; | Length_Query &lt;dbl&gt; | Length_Target &lt;dbl&gt; | Intersect &lt;dbl&gt; | Frequency &lt;dbl&gt; |\n",
       "|---|---|---|---|---|---|\n",
       "| ATAC | ASTARR               | 64076 |  19647 | 18064 | 0.28 |\n",
       "| ATAC | ATAC                 | 64076 |  64076 | 64076 | 1.00 |\n",
       "| ATAC | CRISPRi-Growth       | 64076 |   6171 |  4882 | 0.08 |\n",
       "| ATAC | CRISPRi-HCRFF        | 64076 |     74 |    55 | 0.00 |\n",
       "| ATAC | ENCODE-E2G_Benchmark | 64076 |    384 |   359 | 0.01 |\n",
       "| ATAC | LMPRA                | 64076 |  38993 | 33702 | 0.53 |\n",
       "| ATAC | TMPRA                | 64076 |   5686 |  1111 | 0.02 |\n",
       "| ATAC | WSTARR               | 64076 | 128794 | 38091 | 0.59 |\n",
       "\n"
      ],
      "text/plain": [
       "  Assay_Query Assay_Target         Length_Query Length_Target Intersect\n",
       "1 ATAC        ASTARR               64076         19647        18064    \n",
       "2 ATAC        ATAC                 64076         64076        64076    \n",
       "3 ATAC        CRISPRi-Growth       64076          6171         4882    \n",
       "4 ATAC        CRISPRi-HCRFF        64076            74           55    \n",
       "5 ATAC        ENCODE-E2G_Benchmark 64076           384          359    \n",
       "6 ATAC        LMPRA                64076         38993        33702    \n",
       "7 ATAC        TMPRA                64076          5686         1111    \n",
       "8 ATAC        WSTARR               64076        128794        38091    \n",
       "  Frequency\n",
       "1 0.28     \n",
       "2 1.00     \n",
       "3 0.08     \n",
       "4 0.00     \n",
       "5 0.01     \n",
       "6 0.53     \n",
       "7 0.02     \n",
       "8 0.59     "
      ]
     },
     "metadata": {},
     "output_type": "display_data"
    }
   ],
   "source": [
    "lst = lst_region_assay_type\n",
    "lst = lapply(lst, function(vec_txt_region_target){\n",
    "    vec = (vec_txt_region_query %in% vec_txt_region_target)\n",
    "    res = c(\n",
    "        \"Length_Query\"  = length(vec_txt_region_query),\n",
    "        \"Length_Target\" = length(vec_txt_region_target),\n",
    "        \"Intersect\"     = sum(vec),\n",
    "        \"Frequency\"     = round(mean(vec), 2)\n",
    "    )\n",
    "    return(res)\n",
    "})\n",
    "\n",
    "dat = bind_rows(lst, .id = \"Assay_Target\")\n",
    "dat$Assay_Query = txt\n",
    "dat = dat %>% dplyr::select(Assay_Query, Assay_Target, Length_Query, Length_Target, Intersect, Frequency)\n",
    "dat"
   ]
  },
  {
   "cell_type": "code",
   "execution_count": 46,
   "id": "58d2909d-99b3-4914-8304-ee581aa9e691",
   "metadata": {},
   "outputs": [
    {
     "data": {
      "text/html": [
       "<table class=\"dataframe\">\n",
       "<caption>A tibble: 4 × 6</caption>\n",
       "<thead>\n",
       "\t<tr><th scope=col>Assay_Query</th><th scope=col>Assay_Target</th><th scope=col>Length_Query</th><th scope=col>Length_Target</th><th scope=col>Intersect</th><th scope=col>Frequency</th></tr>\n",
       "\t<tr><th scope=col>&lt;chr&gt;</th><th scope=col>&lt;chr&gt;</th><th scope=col>&lt;dbl&gt;</th><th scope=col>&lt;dbl&gt;</th><th scope=col>&lt;dbl&gt;</th><th scope=col>&lt;dbl&gt;</th></tr>\n",
       "</thead>\n",
       "<tbody>\n",
       "\t<tr><td>ATAC</td><td>ATAC  </td><td>64076</td><td> 64076</td><td>64076</td><td>1.00</td></tr>\n",
       "\t<tr><td>ATAC</td><td>CRISPR</td><td>64076</td><td>  6572</td><td> 5239</td><td>0.08</td></tr>\n",
       "\t<tr><td>ATAC</td><td>MPRA  </td><td>64076</td><td> 44039</td><td>34448</td><td>0.54</td></tr>\n",
       "\t<tr><td>ATAC</td><td>STARR </td><td>64076</td><td>137332</td><td>45441</td><td>0.71</td></tr>\n",
       "</tbody>\n",
       "</table>\n"
      ],
      "text/latex": [
       "A tibble: 4 × 6\n",
       "\\begin{tabular}{llllll}\n",
       " Assay\\_Query & Assay\\_Target & Length\\_Query & Length\\_Target & Intersect & Frequency\\\\\n",
       " <chr> & <chr> & <dbl> & <dbl> & <dbl> & <dbl>\\\\\n",
       "\\hline\n",
       "\t ATAC & ATAC   & 64076 &  64076 & 64076 & 1.00\\\\\n",
       "\t ATAC & CRISPR & 64076 &   6572 &  5239 & 0.08\\\\\n",
       "\t ATAC & MPRA   & 64076 &  44039 & 34448 & 0.54\\\\\n",
       "\t ATAC & STARR  & 64076 & 137332 & 45441 & 0.71\\\\\n",
       "\\end{tabular}\n"
      ],
      "text/markdown": [
       "\n",
       "A tibble: 4 × 6\n",
       "\n",
       "| Assay_Query &lt;chr&gt; | Assay_Target &lt;chr&gt; | Length_Query &lt;dbl&gt; | Length_Target &lt;dbl&gt; | Intersect &lt;dbl&gt; | Frequency &lt;dbl&gt; |\n",
       "|---|---|---|---|---|---|\n",
       "| ATAC | ATAC   | 64076 |  64076 | 64076 | 1.00 |\n",
       "| ATAC | CRISPR | 64076 |   6572 |  5239 | 0.08 |\n",
       "| ATAC | MPRA   | 64076 |  44039 | 34448 | 0.54 |\n",
       "| ATAC | STARR  | 64076 | 137332 | 45441 | 0.71 |\n",
       "\n"
      ],
      "text/plain": [
       "  Assay_Query Assay_Target Length_Query Length_Target Intersect Frequency\n",
       "1 ATAC        ATAC         64076         64076        64076     1.00     \n",
       "2 ATAC        CRISPR       64076          6572         5239     0.08     \n",
       "3 ATAC        MPRA         64076         44039        34448     0.54     \n",
       "4 ATAC        STARR        64076        137332        45441     0.71     "
      ]
     },
     "metadata": {},
     "output_type": "display_data"
    }
   ],
   "source": [
    "lst = lst_region_assay_group1\n",
    "lst = lapply(lst, function(vec_txt_region_target){\n",
    "    vec = (vec_txt_region_query %in% vec_txt_region_target)\n",
    "    res = c(\n",
    "        \"Length_Query\"  = length(vec_txt_region_query),\n",
    "        \"Length_Target\" = length(vec_txt_region_target),\n",
    "        \"Intersect\"     = sum(vec),\n",
    "        \"Frequency\"     = round(mean(vec), 2)\n",
    "    )\n",
    "    return(res)\n",
    "})\n",
    "\n",
    "dat = bind_rows(lst, .id = \"Assay_Target\")\n",
    "dat$Assay_Query = txt\n",
    "dat = dat %>% dplyr::select(Assay_Query, Assay_Target, Length_Query, Length_Target, Intersect, Frequency)\n",
    "dat"
   ]
  },
  {
   "cell_type": "code",
   "execution_count": 47,
   "id": "9de35dcd-3d53-45fe-bfb1-62a0085fa32e",
   "metadata": {},
   "outputs": [
    {
     "data": {
      "text/html": [
       "<table class=\"dataframe\">\n",
       "<caption>A tibble: 3 × 6</caption>\n",
       "<thead>\n",
       "\t<tr><th scope=col>Assay_Query</th><th scope=col>Assay_Target</th><th scope=col>Length_Query</th><th scope=col>Length_Target</th><th scope=col>Intersect</th><th scope=col>Frequency</th></tr>\n",
       "\t<tr><th scope=col>&lt;chr&gt;</th><th scope=col>&lt;chr&gt;</th><th scope=col>&lt;dbl&gt;</th><th scope=col>&lt;dbl&gt;</th><th scope=col>&lt;dbl&gt;</th><th scope=col>&lt;dbl&gt;</th></tr>\n",
       "</thead>\n",
       "<tbody>\n",
       "\t<tr><td>ATAC</td><td>ATAC      </td><td>64076</td><td> 64076</td><td>64076</td><td>1.00</td></tr>\n",
       "\t<tr><td>ATAC</td><td>CRISPR    </td><td>64076</td><td>  6572</td><td> 5239</td><td>0.08</td></tr>\n",
       "\t<tr><td>ATAC</td><td>STARR/MPRA</td><td>64076</td><td>162577</td><td>62238</td><td>0.97</td></tr>\n",
       "</tbody>\n",
       "</table>\n"
      ],
      "text/latex": [
       "A tibble: 3 × 6\n",
       "\\begin{tabular}{llllll}\n",
       " Assay\\_Query & Assay\\_Target & Length\\_Query & Length\\_Target & Intersect & Frequency\\\\\n",
       " <chr> & <chr> & <dbl> & <dbl> & <dbl> & <dbl>\\\\\n",
       "\\hline\n",
       "\t ATAC & ATAC       & 64076 &  64076 & 64076 & 1.00\\\\\n",
       "\t ATAC & CRISPR     & 64076 &   6572 &  5239 & 0.08\\\\\n",
       "\t ATAC & STARR/MPRA & 64076 & 162577 & 62238 & 0.97\\\\\n",
       "\\end{tabular}\n"
      ],
      "text/markdown": [
       "\n",
       "A tibble: 3 × 6\n",
       "\n",
       "| Assay_Query &lt;chr&gt; | Assay_Target &lt;chr&gt; | Length_Query &lt;dbl&gt; | Length_Target &lt;dbl&gt; | Intersect &lt;dbl&gt; | Frequency &lt;dbl&gt; |\n",
       "|---|---|---|---|---|---|\n",
       "| ATAC | ATAC       | 64076 |  64076 | 64076 | 1.00 |\n",
       "| ATAC | CRISPR     | 64076 |   6572 |  5239 | 0.08 |\n",
       "| ATAC | STARR/MPRA | 64076 | 162577 | 62238 | 0.97 |\n",
       "\n"
      ],
      "text/plain": [
       "  Assay_Query Assay_Target Length_Query Length_Target Intersect Frequency\n",
       "1 ATAC        ATAC         64076         64076        64076     1.00     \n",
       "2 ATAC        CRISPR       64076          6572         5239     0.08     \n",
       "3 ATAC        STARR/MPRA   64076        162577        62238     0.97     "
      ]
     },
     "metadata": {},
     "output_type": "display_data"
    }
   ],
   "source": [
    "lst = lst_region_assay_group2\n",
    "lst = lapply(lst, function(vec_txt_region_target){\n",
    "    vec = (vec_txt_region_query %in% vec_txt_region_target)\n",
    "    res = c(\n",
    "        \"Length_Query\"  = length(vec_txt_region_query),\n",
    "        \"Length_Target\" = length(vec_txt_region_target),\n",
    "        \"Intersect\"     = sum(vec),\n",
    "        \"Frequency\"     = round(mean(vec), 2)\n",
    "    )\n",
    "    return(res)\n",
    "})\n",
    "\n",
    "dat = bind_rows(lst, .id = \"Assay_Target\")\n",
    "dat$Assay_Query = txt\n",
    "dat = dat %>% dplyr::select(Assay_Query, Assay_Target, Length_Query, Length_Target, Intersect, Frequency)\n",
    "dat"
   ]
  },
  {
   "cell_type": "code",
   "execution_count": null,
   "id": "2b6100f9-2ffc-4261-b242-053d0f6f9e35",
   "metadata": {},
   "outputs": [],
   "source": []
  },
  {
   "cell_type": "code",
   "execution_count": null,
   "id": "e11a8a48-8791-4a92-a9b4-894c11ee5ebb",
   "metadata": {},
   "outputs": [],
   "source": []
  }
 ],
 "metadata": {
  "kernelspec": {
   "display_name": "R",
   "language": "R",
   "name": "ir"
  },
  "language_info": {
   "codemirror_mode": "r",
   "file_extension": ".r",
   "mimetype": "text/x-r-source",
   "name": "R",
   "pygments_lexer": "r",
   "version": "4.3.1"
  }
 },
 "nbformat": 4,
 "nbformat_minor": 5
}
