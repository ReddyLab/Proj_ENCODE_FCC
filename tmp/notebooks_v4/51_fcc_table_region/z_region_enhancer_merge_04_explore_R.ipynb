{
 "cells": [
  {
   "cell_type": "markdown",
   "metadata": {},
   "source": [
    "**Set environment**"
   ]
  },
  {
   "cell_type": "code",
   "execution_count": 1,
   "metadata": {},
   "outputs": [
    {
     "name": "stdout",
     "output_type": "stream",
     "text": [
      "You are in Singularity: singularity_proj_encode_fcc \n",
      "BASE DIRECTORY (FD_BASE): /data/reddylab/Kuei \n",
      "WORK DIRECTORY (FD_WORK): /data/reddylab/Kuei/out \n",
      "CODE DIRECTORY (FD_CODE): /data/reddylab/Kuei/code \n",
      "PATH OF PROJECT (FD_PRJ): /data/reddylab/Kuei/code/Proj_CombEffect_ENCODE_FCC \n",
      "PATH OF RESULTS (FD_RES): /data/reddylab/Kuei/out/proj_combeffect_encode_fcc \n",
      "PATH OF LOG     (FD_LOG): /data/reddylab/Kuei/out/proj_combeffect_encode_fcc/log \n"
     ]
    }
   ],
   "source": [
    "suppressWarnings(suppressMessages(source(\"../config/config_sing.R\")))\n",
    "library(UpSetR)\n",
    "show_env()"
   ]
  },
  {
   "cell_type": "markdown",
   "metadata": {},
   "source": [
    "## Import data"
   ]
  },
  {
   "cell_type": "code",
   "execution_count": 2,
   "metadata": {},
   "outputs": [
    {
     "name": "stdout",
     "output_type": "stream",
     "text": [
      "[1] 350813      6\n"
     ]
    },
    {
     "data": {
      "text/html": [
       "<table class=\"dataframe\">\n",
       "<caption>A tibble: 6 × 6</caption>\n",
       "<thead>\n",
       "\t<tr><th scope=col>Chrom</th><th scope=col>Start</th><th scope=col>End</th><th scope=col>Region</th><th scope=col>Assay_Type</th><th scope=col>Assay_Label</th></tr>\n",
       "\t<tr><th scope=col>&lt;chr&gt;</th><th scope=col>&lt;dbl&gt;</th><th scope=col>&lt;dbl&gt;</th><th scope=col>&lt;chr&gt;</th><th scope=col>&lt;chr&gt;</th><th scope=col>&lt;chr&gt;</th></tr>\n",
       "</thead>\n",
       "<tbody>\n",
       "\t<tr><td>chr1</td><td>10015</td><td>10442</td><td>chr1:10015-10442</td><td>ATAC</td><td>ATAC</td></tr>\n",
       "\t<tr><td>chr1</td><td>14253</td><td>14645</td><td>chr1:14253-14645</td><td>ATAC</td><td>ATAC</td></tr>\n",
       "\t<tr><td>chr1</td><td>16015</td><td>16477</td><td>chr1:16015-16477</td><td>ATAC</td><td>ATAC</td></tr>\n",
       "\t<tr><td>chr1</td><td>17237</td><td>17772</td><td>chr1:17237-17772</td><td>ATAC</td><td>ATAC</td></tr>\n",
       "\t<tr><td>chr1</td><td>28903</td><td>29613</td><td>chr1:28903-29613</td><td>ATAC</td><td>ATAC</td></tr>\n",
       "\t<tr><td>chr1</td><td>30803</td><td>31072</td><td>chr1:30803-31072</td><td>ATAC</td><td>ATAC</td></tr>\n",
       "</tbody>\n",
       "</table>\n"
      ],
      "text/latex": [
       "A tibble: 6 × 6\n",
       "\\begin{tabular}{llllll}\n",
       " Chrom & Start & End & Region & Assay\\_Type & Assay\\_Label\\\\\n",
       " <chr> & <dbl> & <dbl> & <chr> & <chr> & <chr>\\\\\n",
       "\\hline\n",
       "\t chr1 & 10015 & 10442 & chr1:10015-10442 & ATAC & ATAC\\\\\n",
       "\t chr1 & 14253 & 14645 & chr1:14253-14645 & ATAC & ATAC\\\\\n",
       "\t chr1 & 16015 & 16477 & chr1:16015-16477 & ATAC & ATAC\\\\\n",
       "\t chr1 & 17237 & 17772 & chr1:17237-17772 & ATAC & ATAC\\\\\n",
       "\t chr1 & 28903 & 29613 & chr1:28903-29613 & ATAC & ATAC\\\\\n",
       "\t chr1 & 30803 & 31072 & chr1:30803-31072 & ATAC & ATAC\\\\\n",
       "\\end{tabular}\n"
      ],
      "text/markdown": [
       "\n",
       "A tibble: 6 × 6\n",
       "\n",
       "| Chrom &lt;chr&gt; | Start &lt;dbl&gt; | End &lt;dbl&gt; | Region &lt;chr&gt; | Assay_Type &lt;chr&gt; | Assay_Label &lt;chr&gt; |\n",
       "|---|---|---|---|---|---|\n",
       "| chr1 | 10015 | 10442 | chr1:10015-10442 | ATAC | ATAC |\n",
       "| chr1 | 14253 | 14645 | chr1:14253-14645 | ATAC | ATAC |\n",
       "| chr1 | 16015 | 16477 | chr1:16015-16477 | ATAC | ATAC |\n",
       "| chr1 | 17237 | 17772 | chr1:17237-17772 | ATAC | ATAC |\n",
       "| chr1 | 28903 | 29613 | chr1:28903-29613 | ATAC | ATAC |\n",
       "| chr1 | 30803 | 31072 | chr1:30803-31072 | ATAC | ATAC |\n",
       "\n"
      ],
      "text/plain": [
       "  Chrom Start End   Region           Assay_Type Assay_Label\n",
       "1 chr1  10015 10442 chr1:10015-10442 ATAC       ATAC       \n",
       "2 chr1  14253 14645 chr1:14253-14645 ATAC       ATAC       \n",
       "3 chr1  16015 16477 chr1:16015-16477 ATAC       ATAC       \n",
       "4 chr1  17237 17772 chr1:17237-17772 ATAC       ATAC       \n",
       "5 chr1  28903 29613 chr1:28903-29613 ATAC       ATAC       \n",
       "6 chr1  30803 31072 chr1:30803-31072 ATAC       ATAC       "
      ]
     },
     "metadata": {},
     "output_type": "display_data"
    }
   ],
   "source": [
    "fdiry = file.path(FD_RES, \"results\", \"region\", \"annotation_enhancer_merge\")\n",
    "fname = \"enhancer_merge.region.starrmpra_crispri_atac.bed.gz\"\n",
    "fpath = file.path(fdiry, fname)\n",
    "\n",
    "cnames = c(\"Chrom\", \"Start\", \"End\", \"Assay_Type\", \"Assay_Label\")\n",
    "dat = read_tsv(fpath, col_names=cnames, show_col_types=FALSE)\n",
    "dat = dat %>% \n",
    "    dplyr::mutate(Region = paste0(Chrom, \":\", Start, \"-\", End)) %>%\n",
    "    dplyr::select(Chrom, Start, End, Region, Assay_Type, Assay_Label)\n",
    "\n",
    "dat_region_merge_import = dat\n",
    "print(dim(dat))\n",
    "head(dat)"
   ]
  },
  {
   "cell_type": "markdown",
   "metadata": {},
   "source": [
    "## Arrange and summary"
   ]
  },
  {
   "cell_type": "code",
   "execution_count": 3,
   "metadata": {},
   "outputs": [
    {
     "name": "stdout",
     "output_type": "stream",
     "text": [
      "[1] \"ATAC\"\n",
      "[1] \"ASTARR,ATAC\"\n",
      "[1] \"ATAC,WSTARR\"\n",
      "[1] \"LMPRA\"\n",
      "[1] \"ATAC,CRISPRi-Growth\"\n",
      "[1] \"ASTARR,ATAC,LMPRA,WSTARR\"\n",
      "[1] \"WSTARR\"\n",
      "[1] \"ASTARR,ATAC,CRISPRi-Growth,LMPRA,WSTARR\"\n",
      "[1] \"ATAC,LMPRA\"\n",
      "[1] \"ASTARR,ATAC,LMPRA\"\n",
      "[1] \"ATAC,LMPRA,WSTARR\"\n",
      "[1] \"ASTARR,ATAC,WSTARR\"\n",
      "[1] \"ASTARR\"\n",
      "[1] \"CRISPRi-Growth\"\n",
      "[1] \"ASTARR,WSTARR\"\n",
      "[1] \"ASTARR,ATAC,CRISPRi-Growth\"\n",
      "[1] \"CRISPRi-Growth,WSTARR\"\n",
      "[1] \"ATAC,CRISPRi-Growth,LMPRA,WSTARR\"\n",
      "[1] \"ATAC,CRISPRi-Growth,WSTARR\"\n",
      "[1] \"LMPRA,WSTARR\"\n",
      "[1] \"ATAC,CRISPRi-Growth,LMPRA\"\n",
      "[1] \"ASTARR,ATAC,CRISPRi-Growth,WSTARR\"\n",
      "[1] \"ATAC,CRISPRi-E2G,LMPRA\"\n",
      "[1] \"ASTARR,ATAC,CRISPRi-Growth,LMPRA\"\n",
      "[1] \"ASTARR,LMPRA,WSTARR\"\n",
      "[1] \"ASTARR,CRISPRi-E2G,WSTARR\"\n",
      "[1] \"ASTARR,ATAC,CRISPRi-E2G,LMPRA,WSTARR\"\n",
      "[1] \"ASTARR,ATAC,CRISPRi-E2G,LMPRA\"\n",
      "[1] \"ASTARR,CRISPRi-Growth\"\n",
      "[1] \"ASTARR,LMPRA\"\n",
      "[1] \"CRISPRi-Growth,LMPRA\"\n",
      "[1] \"CRISPRi-E2G,WSTARR\"\n",
      "[1] \"ATAC,CRISPRi-E2G\"\n",
      "[1] \"ASTARR,ATAC,CRISPRi-E2G,WSTARR\"\n",
      "[1] \"CRISPRi-E2G,LMPRA\"\n",
      "[1] \"ATAC,CRISPRi-E2G,LMPRA,WSTARR\"\n",
      "[1] \"ATAC,CRISPRi-E2G,WSTARR\"\n",
      "[1] \"ASTARR,ATAC,CRISPRi-E2G,CRISPRi-Growth,LMPRA\"\n",
      "[1] \"ASTARR,ATAC,CRISPRi-E2G,CRISPRi-Growth,LMPRA,WSTARR\"\n",
      "[1] \"ASTARR,ATAC,CRISPRi-E2G\"\n",
      "[1] \"TMPRA\"\n",
      "[1] \"LMPRA,TMPRA,WSTARR\"\n",
      "[1] \"LMPRA,TMPRA\"\n",
      "[1] \"TMPRA,WSTARR\"\n",
      "[1] \"ATAC,TMPRA\"\n",
      "[1] \"ATAC,LMPRA,TMPRA\"\n",
      "[1] \"ATAC,TMPRA,WSTARR\"\n",
      "[1] \"ASTARR,ATAC,TMPRA\"\n",
      "[1] \"ASTARR,ATAC,LMPRA,TMPRA\"\n",
      "[1] \"ASTARR,ATAC,TMPRA,WSTARR\"\n",
      "[1] \"ATAC,LMPRA,TMPRA,WSTARR\"\n",
      "[1] \"ASTARR,ATAC,CRISPRi-Growth,TMPRA\"\n",
      "[1] \"CRISPRi-HCRFF\"\n",
      "[1] \"ATAC,CRISPRi-HCRFF,LMPRA,TMPRA,WSTARR\"\n",
      "[1] \"ATAC,CRISPRi-HCRFF\"\n",
      "[1] \"ASTARR,ATAC,CRISPRi-HCRFF,TMPRA,WSTARR\"\n",
      "[1] \"CRISPRi-E2G,TMPRA\"\n",
      "[1] \"ASTARR,ATAC,CRISPRi-E2G,CRISPRi-HCRFF,LMPRA,TMPRA\"\n",
      "[1] \"CRISPRi-E2G\"\n",
      "[1] \"ASTARR,ATAC,CRISPRi-E2G,CRISPRi-HCRFF,LMPRA,TMPRA,WSTARR\"\n",
      "[1] \"ATAC,CRISPRi-E2G,CRISPRi-HCRFF,LMPRA,TMPRA\"\n",
      "[1] \"ATAC,CRISPRi-HCRFF,TMPRA,WSTARR\"\n",
      "[1] \"ASTARR,TMPRA,WSTARR\"\n",
      "[1] \"ASTARR,ATAC,LMPRA,TMPRA,WSTARR\"\n",
      "[1] \"ASTARR,ATAC,CRISPRi-Growth,CRISPRi-HCRFF,TMPRA,WSTARR\"\n",
      "[1] \"ATAC,CRISPRi-Growth,CRISPRi-HCRFF\"\n",
      "[1] \"ASTARR,ATAC,CRISPRi-Growth,LMPRA,TMPRA\"\n",
      "[1] \"CRISPRi-E2G,LMPRA,TMPRA\"\n",
      "[1] \"ATAC,CRISPRi-E2G,CRISPRi-Growth,CRISPRi-HCRFF,TMPRA,WSTARR\"\n",
      "[1] \"ATAC,CRISPRi-E2G,CRISPRi-Growth,CRISPRi-HCRFF,LMPRA,TMPRA,WSTARR\"\n",
      "[1] \"ATAC,CRISPRi-Growth,TMPRA\"\n",
      "[1] \"ASTARR,ATAC,CRISPRi-HCRFF,LMPRA,TMPRA,WSTARR\"\n",
      "[1] \"ATAC,CRISPRi-HCRFF,TMPRA\"\n",
      "[1] \"ATAC,CRISPRi-Growth,LMPRA,TMPRA,WSTARR\"\n",
      "[1] \"ATAC,CRISPRi-Growth,TMPRA,WSTARR\"\n",
      "[1] \"ATAC,CRISPRi-HCRFF,LMPRA,WSTARR\"\n",
      "[1] \"ASTARR,ATAC,CRISPRi-HCRFF,LMPRA,WSTARR\"\n",
      "[1] \"ASTARR,ATAC,CRISPRi-Growth,CRISPRi-HCRFF,WSTARR\"\n",
      "[1] \"ASTARR,ATAC,CRISPRi-E2G,CRISPRi-HCRFF,LMPRA,WSTARR\"\n",
      "[1] \"ASTARR,ATAC,CRISPRi-HCRFF,WSTARR\"\n",
      "[1] \"ATAC,CRISPRi-E2G,CRISPRi-Growth,LMPRA,WSTARR\"\n",
      "[1] \"ASTARR,CRISPRi-Growth,WSTARR\"\n",
      "[1] \"ATAC,CRISPRi-HCRFF,LMPRA\"\n",
      "[1] \"ASTARR,ATAC,CRISPRi-Growth,LMPRA,TMPRA,WSTARR\"\n",
      "[1] \"ATAC,CRISPRi-E2G,TMPRA\"\n",
      "[1] \"CRISPRi-Growth,TMPRA\"\n",
      "[1] \"ASTARR,LMPRA,TMPRA\"\n",
      "[1] \"ASTARR,TMPRA\"\n",
      "[1] \"ATAC,CRISPRi-Growth,LMPRA,TMPRA\"\n",
      "[1] \"CRISPRi-Growth,LMPRA,TMPRA,WSTARR\"\n",
      "[1] \"ASTARR,ATAC,CRISPRi-Growth,TMPRA,WSTARR\"\n",
      "[1] \"ATAC,CRISPRi-E2G,CRISPRi-Growth\"\n",
      "[1] \"CRISPRi-Growth,LMPRA,WSTARR\"\n",
      "[1] \"ASTARR,ATAC,CRISPRi-E2G,CRISPRi-Growth,WSTARR\"\n",
      "[1] \"ATAC,CRISPRi-E2G,CRISPRi-Growth,LMPRA\"\n",
      "[1] \"ASTARR,ATAC,CRISPRi-Growth,CRISPRi-HCRFF\"\n",
      "[1] \"ASTARR,ATAC,CRISPRi-HCRFF,LMPRA\"\n",
      "[1] \"ASTARR,ATAC,CRISPRi-HCRFF\"\n",
      "[1] \"ASTARR,ATAC,CRISPRi-Growth,CRISPRi-HCRFF,LMPRA,WSTARR\"\n",
      "[1] \"ATAC,CRISPRi-Growth,CRISPRi-HCRFF,WSTARR\"\n",
      "[1] \"ATAC,CRISPRi-Growth,CRISPRi-HCRFF,LMPRA\"\n",
      "[1] \"ASTARR,ATAC,CRISPRi-Growth,CRISPRi-HCRFF,LMPRA\"\n",
      "[1] \"ASTARR,CRISPRi-Growth,LMPRA\"\n",
      "[1] \"ASTARR,ATAC,CRISPRi-Growth,CRISPRi-HCRFF,LMPRA,TMPRA,WSTARR\"\n",
      "[1] \"ASTARR,ATAC,CRISPRi-HCRFF,TMPRA\"\n",
      "[1] \"ASTARR,ATAC,CRISPRi-E2G,CRISPRi-Growth,CRISPRi-HCRFF,LMPRA,TMPRA,WSTARR\"\n",
      "[1] \"ASTARR,ATAC,CRISPRi-E2G,CRISPRi-Growth\"\n",
      "[1] \"ATAC,CRISPRi-E2G,LMPRA,TMPRA\"\n",
      "[1] \"CRISPRi-Growth,LMPRA,TMPRA\"\n",
      "[1] \"ASTARR,ATAC,CRISPRi-E2G,CRISPRi-Growth,LMPRA,TMPRA,WSTARR\"\n",
      "[1] \"ASTARR,ATAC,CRISPRi-E2G,LMPRA,TMPRA,WSTARR\"\n",
      "[1] \"ATAC,CRISPRi-E2G,TMPRA,WSTARR\"\n",
      "[1] \"ASTARR,ATAC,CRISPRi-E2G,TMPRA\"\n",
      "[1] \"ATAC,CRISPRi-E2G,LMPRA,TMPRA,WSTARR\"\n"
     ]
    }
   ],
   "source": [
    "dat = dat_region_merge_import\n",
    "for (x in unique(dat$Assay_Type))\n",
    "    print(x)"
   ]
  },
  {
   "cell_type": "code",
   "execution_count": 4,
   "metadata": {},
   "outputs": [
    {
     "name": "stdout",
     "output_type": "stream",
     "text": [
      "[1] 449233      6\n"
     ]
    },
    {
     "data": {
      "text/html": [
       "<table class=\"dataframe\">\n",
       "<caption>A tibble: 6 × 6</caption>\n",
       "<thead>\n",
       "\t<tr><th scope=col>Chrom</th><th scope=col>Start</th><th scope=col>End</th><th scope=col>Region</th><th scope=col>Assay_Type</th><th scope=col>Assay_Label</th></tr>\n",
       "\t<tr><th scope=col>&lt;chr&gt;</th><th scope=col>&lt;dbl&gt;</th><th scope=col>&lt;dbl&gt;</th><th scope=col>&lt;chr&gt;</th><th scope=col>&lt;chr&gt;</th><th scope=col>&lt;chr&gt;</th></tr>\n",
       "</thead>\n",
       "<tbody>\n",
       "\t<tr><td>chr1</td><td>10015</td><td>10442</td><td>chr1:10015-10442</td><td>ATAC</td><td>ATAC</td></tr>\n",
       "\t<tr><td>chr1</td><td>14253</td><td>14645</td><td>chr1:14253-14645</td><td>ATAC</td><td>ATAC</td></tr>\n",
       "\t<tr><td>chr1</td><td>16015</td><td>16477</td><td>chr1:16015-16477</td><td>ATAC</td><td>ATAC</td></tr>\n",
       "\t<tr><td>chr1</td><td>17237</td><td>17772</td><td>chr1:17237-17772</td><td>ATAC</td><td>ATAC</td></tr>\n",
       "\t<tr><td>chr1</td><td>28903</td><td>29613</td><td>chr1:28903-29613</td><td>ATAC</td><td>ATAC</td></tr>\n",
       "\t<tr><td>chr1</td><td>30803</td><td>31072</td><td>chr1:30803-31072</td><td>ATAC</td><td>ATAC</td></tr>\n",
       "</tbody>\n",
       "</table>\n"
      ],
      "text/latex": [
       "A tibble: 6 × 6\n",
       "\\begin{tabular}{llllll}\n",
       " Chrom & Start & End & Region & Assay\\_Type & Assay\\_Label\\\\\n",
       " <chr> & <dbl> & <dbl> & <chr> & <chr> & <chr>\\\\\n",
       "\\hline\n",
       "\t chr1 & 10015 & 10442 & chr1:10015-10442 & ATAC & ATAC\\\\\n",
       "\t chr1 & 14253 & 14645 & chr1:14253-14645 & ATAC & ATAC\\\\\n",
       "\t chr1 & 16015 & 16477 & chr1:16015-16477 & ATAC & ATAC\\\\\n",
       "\t chr1 & 17237 & 17772 & chr1:17237-17772 & ATAC & ATAC\\\\\n",
       "\t chr1 & 28903 & 29613 & chr1:28903-29613 & ATAC & ATAC\\\\\n",
       "\t chr1 & 30803 & 31072 & chr1:30803-31072 & ATAC & ATAC\\\\\n",
       "\\end{tabular}\n"
      ],
      "text/markdown": [
       "\n",
       "A tibble: 6 × 6\n",
       "\n",
       "| Chrom &lt;chr&gt; | Start &lt;dbl&gt; | End &lt;dbl&gt; | Region &lt;chr&gt; | Assay_Type &lt;chr&gt; | Assay_Label &lt;chr&gt; |\n",
       "|---|---|---|---|---|---|\n",
       "| chr1 | 10015 | 10442 | chr1:10015-10442 | ATAC | ATAC |\n",
       "| chr1 | 14253 | 14645 | chr1:14253-14645 | ATAC | ATAC |\n",
       "| chr1 | 16015 | 16477 | chr1:16015-16477 | ATAC | ATAC |\n",
       "| chr1 | 17237 | 17772 | chr1:17237-17772 | ATAC | ATAC |\n",
       "| chr1 | 28903 | 29613 | chr1:28903-29613 | ATAC | ATAC |\n",
       "| chr1 | 30803 | 31072 | chr1:30803-31072 | ATAC | ATAC |\n",
       "\n"
      ],
      "text/plain": [
       "  Chrom Start End   Region           Assay_Type Assay_Label\n",
       "1 chr1  10015 10442 chr1:10015-10442 ATAC       ATAC       \n",
       "2 chr1  14253 14645 chr1:14253-14645 ATAC       ATAC       \n",
       "3 chr1  16015 16477 chr1:16015-16477 ATAC       ATAC       \n",
       "4 chr1  17237 17772 chr1:17237-17772 ATAC       ATAC       \n",
       "5 chr1  28903 29613 chr1:28903-29613 ATAC       ATAC       \n",
       "6 chr1  30803 31072 chr1:30803-31072 ATAC       ATAC       "
      ]
     },
     "metadata": {},
     "output_type": "display_data"
    }
   ],
   "source": [
    "dat = dat_region_merge_import\n",
    "dat = dat %>% tidyr::separate_longer_delim(Assay_Type, \",\")\n",
    "\n",
    "dat_region_merge_arrange = dat\n",
    "print(dim(dat))\n",
    "head(dat)"
   ]
  },
  {
   "cell_type": "markdown",
   "metadata": {},
   "source": [
    "**Check results**"
   ]
  },
  {
   "cell_type": "code",
   "execution_count": 5,
   "metadata": {},
   "outputs": [
    {
     "data": {
      "text/plain": [
       "\n",
       "chr11 chr16  chr2 chr20  chr8  chrX \n",
       " 2115   783   968  1150  1378  1426 "
      ]
     },
     "metadata": {},
     "output_type": "display_data"
    }
   ],
   "source": [
    "vec = paste0(\"chr\", c(1:22, \"X\"))\n",
    "dat = dat_region_merge_arrange\n",
    "dat = dat %>% dplyr::filter(Chrom %in% vec, Assay_Type == \"TMPRA\")\n",
    "table(dat$Chrom)"
   ]
  },
  {
   "cell_type": "code",
   "execution_count": null,
   "metadata": {},
   "outputs": [],
   "source": []
  },
  {
   "cell_type": "markdown",
   "metadata": {},
   "source": [
    "## Upset plot by Assay Type"
   ]
  },
  {
   "cell_type": "code",
   "execution_count": 6,
   "metadata": {},
   "outputs": [
    {
     "name": "stdout",
     "output_type": "stream",
     "text": [
      "[1] 8\n"
     ]
    },
    {
     "data": {
      "text/html": [
       "<dl>\n",
       "\t<dt>$ASTARR</dt>\n",
       "\t\t<dd>19646</dd>\n",
       "\t<dt>$ATAC</dt>\n",
       "\t\t<dd>247443</dd>\n",
       "\t<dt>$`CRISPRi-E2G`</dt>\n",
       "\t\t<dd>380</dd>\n",
       "\t<dt>$`CRISPRi-Growth`</dt>\n",
       "\t\t<dd>6171</dd>\n",
       "\t<dt>$`CRISPRi-HCRFF`</dt>\n",
       "\t\t<dd>75</dd>\n",
       "\t<dt>$LMPRA</dt>\n",
       "\t\t<dd>38910</dd>\n",
       "\t<dt>$TMPRA</dt>\n",
       "\t\t<dd>7820</dd>\n",
       "\t<dt>$WSTARR</dt>\n",
       "\t\t<dd>128788</dd>\n",
       "</dl>\n"
      ],
      "text/latex": [
       "\\begin{description}\n",
       "\\item[\\$ASTARR] 19646\n",
       "\\item[\\$ATAC] 247443\n",
       "\\item[\\$`CRISPRi-E2G`] 380\n",
       "\\item[\\$`CRISPRi-Growth`] 6171\n",
       "\\item[\\$`CRISPRi-HCRFF`] 75\n",
       "\\item[\\$LMPRA] 38910\n",
       "\\item[\\$TMPRA] 7820\n",
       "\\item[\\$WSTARR] 128788\n",
       "\\end{description}\n"
      ],
      "text/markdown": [
       "$ASTARR\n",
       ":   19646\n",
       "$ATAC\n",
       ":   247443\n",
       "$`CRISPRi-E2G`\n",
       ":   380\n",
       "$`CRISPRi-Growth`\n",
       ":   6171\n",
       "$`CRISPRi-HCRFF`\n",
       ":   75\n",
       "$LMPRA\n",
       ":   38910\n",
       "$TMPRA\n",
       ":   7820\n",
       "$WSTARR\n",
       ":   128788\n",
       "\n",
       "\n"
      ],
      "text/plain": [
       "$ASTARR\n",
       "[1] 19646\n",
       "\n",
       "$ATAC\n",
       "[1] 247443\n",
       "\n",
       "$`CRISPRi-E2G`\n",
       "[1] 380\n",
       "\n",
       "$`CRISPRi-Growth`\n",
       "[1] 6171\n",
       "\n",
       "$`CRISPRi-HCRFF`\n",
       "[1] 75\n",
       "\n",
       "$LMPRA\n",
       "[1] 38910\n",
       "\n",
       "$TMPRA\n",
       "[1] 7820\n",
       "\n",
       "$WSTARR\n",
       "[1] 128788\n"
      ]
     },
     "metadata": {},
     "output_type": "display_data"
    }
   ],
   "source": [
    "dat = dat_region_merge_arrange\n",
    "lst = split(dat$Region, dat$Assay_Type)\n",
    "\n",
    "lst_region = lst\n",
    "print(length(lst))\n",
    "lapply(lst, length)"
   ]
  },
  {
   "cell_type": "code",
   "execution_count": 38,
   "metadata": {},
   "outputs": [
    {
     "data": {
      "image/png": "[encoded data removed]",
      "text/plain": [
       "plot without title"
      ]
     },
     "metadata": {
      "image/png": {
       "height": 600,
       "width": 1800
      }
     },
     "output_type": "display_data"
    }
   ],
   "source": [
    "lst = lst_region\n",
    "\n",
    "options(repr.plot.height=10, repr.plot.width=30)\n",
    "upset(fromList(lst), \n",
    "      order.by = \"freq\", \n",
    "      nsets = 8,\n",
    "      nintersects = NA,\n",
    "      number.angles = 0,\n",
    "      point.size = 3, \n",
    "      line.size  = 2,\n",
    "      mb.ratio = c(0.6, 0.4),\n",
    "      mainbar.y.label = \"Regulatory regions identified\", \n",
    "      sets.x.label    = \"Assay Type\", \n",
    "      text.scale = c(\n",
    "          3, # upper barplot y axis title\n",
    "          2, # upper barplot y axis text\n",
    "          3, # left  barplot y axis title\n",
    "          2, # left  barplot y axis text\n",
    "          3, # set title\n",
    "          2  # upper barplot count number\n",
    "      )\n",
    ")"
   ]
  },
  {
   "cell_type": "code",
   "execution_count": 101,
   "metadata": {},
   "outputs": [
    {
     "name": "stdout",
     "output_type": "stream",
     "text": [
      "* CRISPRi-HCRFF : 79 \n",
      "* CRISPRi-E2G : 398 \n",
      "* TMPRA : 2972 \n",
      "* CRISPRi-Growth : 6231 \n",
      "* ASTARR : 25117 \n",
      "* LMPRA : 41008 \n",
      "* WSTARR : 135914 \n"
     ]
    },
    {
     "data": {
      "image/png": "[encoded data removed]",
      "text/plain": [
       "plot without title"
      ]
     },
     "metadata": {
      "image/png": {
       "height": 300,
       "width": 480
      }
     },
     "output_type": "display_data"
    }
   ],
   "source": [
    "lst = lst_summary\n",
    "lst = lapply(lst, length)\n",
    "vec = unlist(lst)\n",
    "vec = sort(vec)\n",
    "for (idn in names(vec)){\n",
    "    cat(\"*\", idn, \":\", vec[idn], \"\\n\")\n",
    "}\n",
    "\n",
    "# ++++++++++++++++++++++++++++++++++++++++++++\n",
    "dat = data.frame(\n",
    "    \"Assay\"  = names(vec),\n",
    "    \"Count\"  = vec\n",
    ")\n",
    "dat = dat %>% \n",
    "    dplyr::arrange(Count) %>% \n",
    "    dplyr::mutate(Assay=factor(Assay, levels=Assay))\n",
    "gpt = ggplot(dat, aes(x=Assay, y=Count)) + \n",
    "    geom_col() + \n",
    "    coord_flip() +\n",
    "    theme_cowplot()\n",
    "\n",
    "options(repr.plot.height=5, repr.plot.width=8)\n",
    "print(gpt)"
   ]
  },
  {
   "cell_type": "markdown",
   "metadata": {},
   "source": [
    "## Upset plot by Assay Group (STARR / MPRA / CRISPRi / ATAC)"
   ]
  },
  {
   "cell_type": "code",
   "execution_count": 69,
   "metadata": {},
   "outputs": [
    {
     "data": {
      "text/plain": [
       "\n",
       "        ASTARR           ATAC    CRISPRi-E2G CRISPRi-Growth  CRISPRi-HCRFF \n",
       "         19646         247443            380           6171             75 \n",
       "         LMPRA          TMPRA         WSTARR \n",
       "         38910           7820         128788 "
      ]
     },
     "metadata": {},
     "output_type": "display_data"
    }
   ],
   "source": [
    "dat = dat_region_merge_arrange\n",
    "table(dat$Assay_Type)"
   ]
  },
  {
   "cell_type": "code",
   "execution_count": 70,
   "metadata": {},
   "outputs": [
    {
     "data": {
      "text/plain": [
       "\n",
       "   ATAC CRISPRi    MPRA   STARR \n",
       " 247443    6626   46730  148434 "
      ]
     },
     "metadata": {},
     "output_type": "display_data"
    }
   ],
   "source": [
    "dat = dat_region_merge_arrange\n",
    "dat = dat %>% \n",
    "    dplyr::mutate(\n",
    "        Assay_Type = ifelse(\n",
    "            str_detect(Assay_Type, \"CRISPRi\"),\n",
    "            \"CRISPRi\",\n",
    "            Assay_Type\n",
    "        )\n",
    "    ) %>%\n",
    "    dplyr::mutate(\n",
    "        Assay_Type = ifelse(\n",
    "            str_detect(Assay_Type, \"STARR\"),\n",
    "            \"STARR\",\n",
    "            Assay_Type\n",
    "        )\n",
    "    ) %>%\n",
    "    dplyr::mutate(\n",
    "        Assay_Type = ifelse(\n",
    "            str_detect(Assay_Type, \"MPRA\"),\n",
    "            \"MPRA\",\n",
    "            Assay_Type\n",
    "        )\n",
    "    )\n",
    "dat_region_merge_summary = dat\n",
    "\n",
    "table(dat$Assay_Type)"
   ]
  },
  {
   "cell_type": "code",
   "execution_count": 80,
   "metadata": {},
   "outputs": [
    {
     "name": "stdout",
     "output_type": "stream",
     "text": [
      "[1] 4\n"
     ]
    },
    {
     "data": {
      "text/html": [
       "<dl>\n",
       "\t<dt>$ATAC</dt>\n",
       "\t\t<dd>247443</dd>\n",
       "\t<dt>$CRISPRi</dt>\n",
       "\t\t<dd>6572</dd>\n",
       "\t<dt>$MPRA</dt>\n",
       "\t\t<dd>46012</dd>\n",
       "\t<dt>$STARR</dt>\n",
       "\t\t<dd>137325</dd>\n",
       "</dl>\n"
      ],
      "text/latex": [
       "\\begin{description}\n",
       "\\item[\\$ATAC] 247443\n",
       "\\item[\\$CRISPRi] 6572\n",
       "\\item[\\$MPRA] 46012\n",
       "\\item[\\$STARR] 137325\n",
       "\\end{description}\n"
      ],
      "text/markdown": [
       "$ATAC\n",
       ":   247443\n",
       "$CRISPRi\n",
       ":   6572\n",
       "$MPRA\n",
       ":   46012\n",
       "$STARR\n",
       ":   137325\n",
       "\n",
       "\n"
      ],
      "text/plain": [
       "$ATAC\n",
       "[1] 247443\n",
       "\n",
       "$CRISPRi\n",
       "[1] 6572\n",
       "\n",
       "$MPRA\n",
       "[1] 46012\n",
       "\n",
       "$STARR\n",
       "[1] 137325\n"
      ]
     },
     "metadata": {},
     "output_type": "display_data"
    }
   ],
   "source": [
    "dat = dat_region_merge_summary\n",
    "lst = split(dat$Region, dat$Assay_Type)\n",
    "lst = lapply(lst, function(vec){\n",
    "    vec = unique(vec)\n",
    "    return(vec)\n",
    "})\n",
    "lst_region = lst\n",
    "\n",
    "print(length(lst))\n",
    "lapply(lst, length)"
   ]
  },
  {
   "cell_type": "code",
   "execution_count": 87,
   "metadata": {},
   "outputs": [
    {
     "name": "stdout",
     "output_type": "stream",
     "text": [
      "[1] 167537\n",
      "[1] 85208\n",
      "[1] 0.4486781\n"
     ]
    }
   ],
   "source": [
    "vec = c(\n",
    "    lst_region[[\"STARR\"]],\n",
    "    lst_region[[\"MPRA\"]],\n",
    "    lst_region[[\"CRISPRi\"]]\n",
    ")\n",
    "res = vec %in% lst_region[[\"ATAC\"]]\n",
    "print(length(unique(vec)))\n",
    "print(sum(res))\n",
    "print(mean(res))"
   ]
  },
  {
   "cell_type": "code",
   "execution_count": 82,
   "metadata": {},
   "outputs": [
    {
     "data": {
      "text/html": [
       "350813"
      ],
      "text/latex": [
       "350813"
      ],
      "text/markdown": [
       "350813"
      ],
      "text/plain": [
       "[1] 350813"
      ]
     },
     "metadata": {},
     "output_type": "display_data"
    }
   ],
   "source": [
    "dat = dat_region_merge_summary\n",
    "vec = dat$Region\n",
    "length(unique(vec))"
   ]
  },
  {
   "cell_type": "code",
   "execution_count": 92,
   "metadata": {},
   "outputs": [
    {
     "name": "stdout",
     "output_type": "stream",
     "text": [
      "ATAC \n",
      "[1] 247443\n",
      "[1] 247443\n",
      "[1] 1\n",
      "\n",
      "CRISPRi \n",
      "[1] 6572\n",
      "[1] 5238\n",
      "[1] 0.7970177\n",
      "\n",
      "MPRA \n",
      "[1] 46012\n",
      "[1] 34528\n",
      "[1] 0.7504129\n",
      "\n",
      "STARR \n",
      "[1] 137325\n",
      "[1] 45442\n",
      "[1] 0.3309084\n",
      "\n"
     ]
    }
   ],
   "source": [
    "for (idn in names(lst_region)){\n",
    "    vec = lst_region[[idn]]\n",
    "    res = vec %in% lst_region[[\"ATAC\"]]\n",
    "    cat(idn, \"\\n\")\n",
    "    print(length(res))\n",
    "    print(sum(res))\n",
    "    print(mean(res))\n",
    "    cat(\"\\n\")\n",
    "}"
   ]
  },
  {
   "cell_type": "code",
   "execution_count": 91,
   "metadata": {},
   "outputs": [
    {
     "name": "stdout",
     "output_type": "stream",
     "text": [
      "[1] 0.3309084\n",
      "[1] 0.7504129\n",
      "[1] 0.7970177\n"
     ]
    }
   ],
   "source": [
    "print(45442 / 137325)\n",
    "print(34528 /  46012)\n",
    "print( 5238 /   6572)"
   ]
  },
  {
   "cell_type": "code",
   "execution_count": 73,
   "metadata": {},
   "outputs": [
    {
     "data": {
      "image/png": "[encoded data removed]",
      "text/plain": [
       "plot without title"
      ]
     },
     "metadata": {
      "image/png": {
       "height": 600,
       "width": 900
      }
     },
     "output_type": "display_data"
    }
   ],
   "source": [
    "lst = lst_region\n",
    "\n",
    "options(repr.plot.height=10, repr.plot.width=15)\n",
    "upset(fromList(lst), \n",
    "      order.by = \"freq\", \n",
    "      nsets = 8,\n",
    "      nintersects = NA,\n",
    "      number.angles = 0,\n",
    "      point.size = 3, \n",
    "      line.size  = 2,\n",
    "      #mb.ratio = c(0.8, 0.2),\n",
    "      mainbar.y.label = \"Regulatory regions identified\", \n",
    "      sets.x.label    = \"Assay Type\", \n",
    "      text.scale = c(\n",
    "          2.5, # upper barplot y axis title\n",
    "          2, # upper barplot y axis text\n",
    "          2, # left  barplot y axis title\n",
    "          1.4, # left  barplot y axis text\n",
    "          2.5, # set title\n",
    "          2  # upper barplot count number\n",
    "      )\n",
    ")"
   ]
  },
  {
   "cell_type": "code",
   "execution_count": null,
   "metadata": {},
   "outputs": [],
   "source": [
    "dat = dat_region_merge_summary\n",
    "lst = split(dat$Region, dat$Assay_Type)\n",
    "\n",
    "lst_region = lst\n",
    "print(length(lst))\n",
    "lapply(lst, length)"
   ]
  },
  {
   "cell_type": "code",
   "execution_count": null,
   "metadata": {},
   "outputs": [],
   "source": []
  },
  {
   "cell_type": "code",
   "execution_count": null,
   "metadata": {},
   "outputs": [],
   "source": []
  },
  {
   "cell_type": "code",
   "execution_count": null,
   "metadata": {},
   "outputs": [],
   "source": []
  },
  {
   "cell_type": "code",
   "execution_count": 102,
   "metadata": {},
   "outputs": [
    {
     "data": {
      "text/html": [
       "<table class=\"dataframe\">\n",
       "<caption>A tibble: 6 × 3</caption>\n",
       "<thead>\n",
       "\t<tr><th scope=col>Assay_Type</th><th scope=col>Assay_Label</th><th scope=col>Name</th></tr>\n",
       "\t<tr><th scope=col>&lt;chr&gt;</th><th scope=col>&lt;chr&gt;</th><th scope=col>&lt;chr&gt;</th></tr>\n",
       "</thead>\n",
       "<tbody>\n",
       "\t<tr><td>ASTARR </td><td>ASTARR_R      </td><td>chr1:136520-136950</td></tr>\n",
       "\t<tr><td>ASTARR </td><td>ASTARR_R      </td><td>chr1:137050-137150</td></tr>\n",
       "\t<tr><td>ASTARR </td><td>ASTARR_R      </td><td>chr1:181600-181790</td></tr>\n",
       "\t<tr><td>WSTARR </td><td>WSTARR_A      </td><td>chr1:184330-184480</td></tr>\n",
       "\t<tr><td>LMPRA  </td><td>LMPRA_A       </td><td>chr1:203225-203425</td></tr>\n",
       "\t<tr><td>CRISPRi</td><td>CRISPRi-Growth</td><td>chr1:605550-605627</td></tr>\n",
       "</tbody>\n",
       "</table>\n"
      ],
      "text/latex": [
       "A tibble: 6 × 3\n",
       "\\begin{tabular}{lll}\n",
       " Assay\\_Type & Assay\\_Label & Name\\\\\n",
       " <chr> & <chr> & <chr>\\\\\n",
       "\\hline\n",
       "\t ASTARR  & ASTARR\\_R       & chr1:136520-136950\\\\\n",
       "\t ASTARR  & ASTARR\\_R       & chr1:137050-137150\\\\\n",
       "\t ASTARR  & ASTARR\\_R       & chr1:181600-181790\\\\\n",
       "\t WSTARR  & WSTARR\\_A       & chr1:184330-184480\\\\\n",
       "\t LMPRA   & LMPRA\\_A        & chr1:203225-203425\\\\\n",
       "\t CRISPRi & CRISPRi-Growth & chr1:605550-605627\\\\\n",
       "\\end{tabular}\n"
      ],
      "text/markdown": [
       "\n",
       "A tibble: 6 × 3\n",
       "\n",
       "| Assay_Type &lt;chr&gt; | Assay_Label &lt;chr&gt; | Name &lt;chr&gt; |\n",
       "|---|---|---|\n",
       "| ASTARR  | ASTARR_R       | chr1:136520-136950 |\n",
       "| ASTARR  | ASTARR_R       | chr1:137050-137150 |\n",
       "| ASTARR  | ASTARR_R       | chr1:181600-181790 |\n",
       "| WSTARR  | WSTARR_A       | chr1:184330-184480 |\n",
       "| LMPRA   | LMPRA_A        | chr1:203225-203425 |\n",
       "| CRISPRi | CRISPRi-Growth | chr1:605550-605627 |\n",
       "\n"
      ],
      "text/plain": [
       "  Assay_Type Assay_Label    Name              \n",
       "1 ASTARR     ASTARR_R       chr1:136520-136950\n",
       "2 ASTARR     ASTARR_R       chr1:137050-137150\n",
       "3 ASTARR     ASTARR_R       chr1:181600-181790\n",
       "4 WSTARR     WSTARR_A       chr1:184330-184480\n",
       "5 LMPRA      LMPRA_A        chr1:203225-203425\n",
       "6 CRISPRi    CRISPRi-Growth chr1:605550-605627"
      ]
     },
     "metadata": {},
     "output_type": "display_data"
    }
   ],
   "source": [
    "dat = dat_peak_arrange\n",
    "dat = dat %>% \n",
    "    tidyr::separate_longer_delim(Assay_Type, \",\") %>% \n",
    "    dplyr::mutate(\n",
    "        Assay_Type = ifelse(\n",
    "            str_detect(Assay_Type, \"CRISPRi\"),\n",
    "            \"CRISPRi\",\n",
    "            Assay_Type\n",
    "        )\n",
    "    )\n",
    "\n",
    "dat_summary = dat\n",
    "head(dat)"
   ]
  },
  {
   "cell_type": "code",
   "execution_count": 103,
   "metadata": {},
   "outputs": [
    {
     "name": "stdout",
     "output_type": "stream",
     "text": [
      "[1] 5\n"
     ]
    },
    {
     "data": {
      "text/html": [
       "<dl>\n",
       "\t<dt>$ASTARR</dt>\n",
       "\t\t<dd>25117</dd>\n",
       "\t<dt>$CRISPRi</dt>\n",
       "\t\t<dd>6708</dd>\n",
       "\t<dt>$LMPRA</dt>\n",
       "\t\t<dd>41008</dd>\n",
       "\t<dt>$TMPRA</dt>\n",
       "\t\t<dd>2972</dd>\n",
       "\t<dt>$WSTARR</dt>\n",
       "\t\t<dd>135914</dd>\n",
       "</dl>\n"
      ],
      "text/latex": [
       "\\begin{description}\n",
       "\\item[\\$ASTARR] 25117\n",
       "\\item[\\$CRISPRi] 6708\n",
       "\\item[\\$LMPRA] 41008\n",
       "\\item[\\$TMPRA] 2972\n",
       "\\item[\\$WSTARR] 135914\n",
       "\\end{description}\n"
      ],
      "text/markdown": [
       "$ASTARR\n",
       ":   25117\n",
       "$CRISPRi\n",
       ":   6708\n",
       "$LMPRA\n",
       ":   41008\n",
       "$TMPRA\n",
       ":   2972\n",
       "$WSTARR\n",
       ":   135914\n",
       "\n",
       "\n"
      ],
      "text/plain": [
       "$ASTARR\n",
       "[1] 25117\n",
       "\n",
       "$CRISPRi\n",
       "[1] 6708\n",
       "\n",
       "$LMPRA\n",
       "[1] 41008\n",
       "\n",
       "$TMPRA\n",
       "[1] 2972\n",
       "\n",
       "$WSTARR\n",
       "[1] 135914\n"
      ]
     },
     "metadata": {},
     "output_type": "display_data"
    }
   ],
   "source": [
    "dat = dat_summary\n",
    "lst = split(dat$Name, dat$Assay_Type)\n",
    "\n",
    "lst_summary = lst\n",
    "print(length(lst))\n",
    "lapply(lst, length)"
   ]
  },
  {
   "cell_type": "code",
   "execution_count": 104,
   "metadata": {},
   "outputs": [
    {
     "data": {
      "image/png": "[encoded data removed]",
      "text/plain": [
       "plot without title"
      ]
     },
     "metadata": {
      "image/png": {
       "height": 600,
       "width": 900
      }
     },
     "output_type": "display_data"
    }
   ],
   "source": [
    "lst = lst_summary\n",
    "\n",
    "options(repr.plot.height=10, repr.plot.width=15)\n",
    "upset(fromList(lst), \n",
    "      order.by = \"freq\", \n",
    "      nsets = 7,\n",
    "      mainbar.y.label = \"Regulatory regions identified in\\ndifferent assay types\", \n",
    "      sets.x.label    = \"Assay Type\", \n",
    "      text.scale = c(2, 2, 2, 2, 2, 1))"
   ]
  },
  {
   "cell_type": "code",
   "execution_count": 105,
   "metadata": {},
   "outputs": [
    {
     "name": "stdout",
     "output_type": "stream",
     "text": [
      "* TMPRA : 2972 \n",
      "* CRISPRi : 6708 \n",
      "* ASTARR : 25117 \n",
      "* LMPRA : 41008 \n",
      "* WSTARR : 135914 \n"
     ]
    },
    {
     "data": {
      "image/png": "[encoded data removed]",
      "text/plain": [
       "plot without title"
      ]
     },
     "metadata": {
      "image/png": {
       "height": 300,
       "width": 480
      }
     },
     "output_type": "display_data"
    }
   ],
   "source": [
    "lst = lst_summary\n",
    "lst = lapply(lst, length)\n",
    "vec = unlist(lst)\n",
    "vec = sort(vec)\n",
    "for (idn in names(vec)){\n",
    "    cat(\"*\", idn, \":\", vec[idn], \"\\n\")\n",
    "}\n",
    "\n",
    "# ++++++++++++++++++++++++++++++++++++++++++++\n",
    "dat = data.frame(\n",
    "    \"Assay\"  = names(vec),\n",
    "    \"Count\"  = vec\n",
    ")\n",
    "dat = dat %>% \n",
    "    dplyr::arrange(Count) %>% \n",
    "    dplyr::mutate(Assay=factor(Assay, levels=Assay))\n",
    "gpt = ggplot(dat, aes(x=Assay, y=Count)) + \n",
    "    geom_col() + \n",
    "    coord_flip() +\n",
    "    theme_cowplot()\n",
    "\n",
    "options(repr.plot.height=5, repr.plot.width=8)\n",
    "print(gpt)"
   ]
  },
  {
   "cell_type": "code",
   "execution_count": null,
   "metadata": {},
   "outputs": [],
   "source": []
  },
  {
   "cell_type": "code",
   "execution_count": null,
   "metadata": {},
   "outputs": [],
   "source": []
  },
  {
   "cell_type": "code",
   "execution_count": null,
   "metadata": {},
   "outputs": [],
   "source": []
  },
  {
   "cell_type": "code",
   "execution_count": 137,
   "metadata": {},
   "outputs": [
    {
     "data": {
      "text/html": [
       "<table class=\"dataframe\">\n",
       "<caption>A tibble: 6 × 3</caption>\n",
       "<thead>\n",
       "\t<tr><th scope=col>Assay_Type</th><th scope=col>Assay_Label</th><th scope=col>Name</th></tr>\n",
       "\t<tr><th scope=col>&lt;chr&gt;</th><th scope=col>&lt;chr&gt;</th><th scope=col>&lt;chr&gt;</th></tr>\n",
       "</thead>\n",
       "<tbody>\n",
       "\t<tr><td>STARR  </td><td>ASTARR_R      </td><td>chr1:136520-136950</td></tr>\n",
       "\t<tr><td>STARR  </td><td>ASTARR_R      </td><td>chr1:137050-137150</td></tr>\n",
       "\t<tr><td>STARR  </td><td>ASTARR_R      </td><td>chr1:181600-181790</td></tr>\n",
       "\t<tr><td>STARR  </td><td>WSTARR_A      </td><td>chr1:184330-184480</td></tr>\n",
       "\t<tr><td>MPRA   </td><td>LMPRA_A       </td><td>chr1:203225-203425</td></tr>\n",
       "\t<tr><td>CRISPRi</td><td>CRISPRi-Growth</td><td>chr1:605550-605627</td></tr>\n",
       "</tbody>\n",
       "</table>\n"
      ],
      "text/latex": [
       "A tibble: 6 × 3\n",
       "\\begin{tabular}{lll}\n",
       " Assay\\_Type & Assay\\_Label & Name\\\\\n",
       " <chr> & <chr> & <chr>\\\\\n",
       "\\hline\n",
       "\t STARR   & ASTARR\\_R       & chr1:136520-136950\\\\\n",
       "\t STARR   & ASTARR\\_R       & chr1:137050-137150\\\\\n",
       "\t STARR   & ASTARR\\_R       & chr1:181600-181790\\\\\n",
       "\t STARR   & WSTARR\\_A       & chr1:184330-184480\\\\\n",
       "\t MPRA    & LMPRA\\_A        & chr1:203225-203425\\\\\n",
       "\t CRISPRi & CRISPRi-Growth & chr1:605550-605627\\\\\n",
       "\\end{tabular}\n"
      ],
      "text/markdown": [
       "\n",
       "A tibble: 6 × 3\n",
       "\n",
       "| Assay_Type &lt;chr&gt; | Assay_Label &lt;chr&gt; | Name &lt;chr&gt; |\n",
       "|---|---|---|\n",
       "| STARR   | ASTARR_R       | chr1:136520-136950 |\n",
       "| STARR   | ASTARR_R       | chr1:137050-137150 |\n",
       "| STARR   | ASTARR_R       | chr1:181600-181790 |\n",
       "| STARR   | WSTARR_A       | chr1:184330-184480 |\n",
       "| MPRA    | LMPRA_A        | chr1:203225-203425 |\n",
       "| CRISPRi | CRISPRi-Growth | chr1:605550-605627 |\n",
       "\n"
      ],
      "text/plain": [
       "  Assay_Type Assay_Label    Name              \n",
       "1 STARR      ASTARR_R       chr1:136520-136950\n",
       "2 STARR      ASTARR_R       chr1:137050-137150\n",
       "3 STARR      ASTARR_R       chr1:181600-181790\n",
       "4 STARR      WSTARR_A       chr1:184330-184480\n",
       "5 MPRA       LMPRA_A        chr1:203225-203425\n",
       "6 CRISPRi    CRISPRi-Growth chr1:605550-605627"
      ]
     },
     "metadata": {},
     "output_type": "display_data"
    }
   ],
   "source": [
    "dat = dat_peak_arrange\n",
    "dat = dat %>% \n",
    "    tidyr::separate_longer_delim(Assay_Type, \",\") %>% \n",
    "    dplyr::mutate(\n",
    "        Assay_Type = ifelse(\n",
    "            str_detect(Assay_Type, \"CRISPRi\"),\n",
    "            \"CRISPRi\",\n",
    "            Assay_Type\n",
    "        )\n",
    "    ) %>%\n",
    "    dplyr::mutate(\n",
    "        Assay_Type = ifelse(\n",
    "            str_detect(Assay_Type, \"STARR\"),\n",
    "            \"STARR\",\n",
    "            Assay_Type\n",
    "        )\n",
    "    ) %>%\n",
    "    dplyr::mutate(\n",
    "        Assay_Type = ifelse(\n",
    "            str_detect(Assay_Type, \"MPRA\"),\n",
    "            \"MPRA\",\n",
    "            Assay_Type\n",
    "        )\n",
    "    )\n",
    "\n",
    "dat_summary = dat\n",
    "head(dat)"
   ]
  },
  {
   "cell_type": "code",
   "execution_count": 138,
   "metadata": {},
   "outputs": [
    {
     "name": "stdout",
     "output_type": "stream",
     "text": [
      "[1] 3\n"
     ]
    },
    {
     "data": {
      "text/html": [
       "<dl>\n",
       "\t<dt>$CRISPRi</dt>\n",
       "\t\t<dd>6708</dd>\n",
       "\t<dt>$MPRA</dt>\n",
       "\t\t<dd>43980</dd>\n",
       "\t<dt>$STARR</dt>\n",
       "\t\t<dd>161031</dd>\n",
       "</dl>\n"
      ],
      "text/latex": [
       "\\begin{description}\n",
       "\\item[\\$CRISPRi] 6708\n",
       "\\item[\\$MPRA] 43980\n",
       "\\item[\\$STARR] 161031\n",
       "\\end{description}\n"
      ],
      "text/markdown": [
       "$CRISPRi\n",
       ":   6708\n",
       "$MPRA\n",
       ":   43980\n",
       "$STARR\n",
       ":   161031\n",
       "\n",
       "\n"
      ],
      "text/plain": [
       "$CRISPRi\n",
       "[1] 6708\n",
       "\n",
       "$MPRA\n",
       "[1] 43980\n",
       "\n",
       "$STARR\n",
       "[1] 161031\n"
      ]
     },
     "metadata": {},
     "output_type": "display_data"
    }
   ],
   "source": [
    "dat = dat_summary\n",
    "lst = split(dat$Name, dat$Assay_Type)\n",
    "\n",
    "lst_summary = lst\n",
    "print(length(lst))\n",
    "lapply(lst, length)"
   ]
  },
  {
   "cell_type": "code",
   "execution_count": 139,
   "metadata": {},
   "outputs": [
    {
     "data": {
      "image/png": "[encoded data removed]",
      "text/plain": [
       "plot without title"
      ]
     },
     "metadata": {
      "image/png": {
       "height": 420,
       "width": 600
      }
     },
     "output_type": "display_data"
    }
   ],
   "source": [
    "lst = lst_summary\n",
    "\n",
    "options(repr.plot.height=7, repr.plot.width=10)\n",
    "upset(fromList(lst), \n",
    "      order.by = \"freq\", \n",
    "      nsets = 7,\n",
    "      mainbar.y.label = \"Regulatory regions identified in\\ndifferent assay types\", \n",
    "      sets.x.label    = \"Assay Type\", \n",
    "      text.scale = c(2, 1.5, 2, 1.5, 2, 2))"
   ]
  },
  {
   "cell_type": "code",
   "execution_count": 140,
   "metadata": {},
   "outputs": [
    {
     "name": "stdout",
     "output_type": "stream",
     "text": [
      "* CRISPRi : 6708 \n",
      "* MPRA : 43980 \n",
      "* STARR : 161031 \n"
     ]
    },
    {
     "data": {
      "image/png": "[encoded data removed]",
      "text/plain": [
       "plot without title"
      ]
     },
     "metadata": {
      "image/png": {
       "height": 180,
       "width": 480
      }
     },
     "output_type": "display_data"
    }
   ],
   "source": [
    "lst = lst_summary\n",
    "lst = lapply(lst, length)\n",
    "vec = unlist(lst)\n",
    "vec = sort(vec)\n",
    "for (idn in names(vec)){\n",
    "    cat(\"*\", idn, \":\", vec[idn], \"\\n\")\n",
    "}\n",
    "\n",
    "# ++++++++++++++++++++++++++++++++++++++++++++\n",
    "dat = data.frame(\n",
    "    \"Assay\"  = names(vec),\n",
    "    \"Count\"  = vec\n",
    ")\n",
    "dat = dat %>% \n",
    "    dplyr::arrange(Count) %>% \n",
    "    dplyr::mutate(Assay=factor(Assay, levels=Assay))\n",
    "gpt = ggplot(dat, aes(x=Assay, y=Count)) + \n",
    "    geom_col() + \n",
    "    coord_flip() +\n",
    "    theme_cowplot()\n",
    "\n",
    "options(repr.plot.height=3, repr.plot.width=8)\n",
    "print(gpt)"
   ]
  },
  {
   "cell_type": "code",
   "execution_count": null,
   "metadata": {},
   "outputs": [],
   "source": []
  },
  {
   "cell_type": "code",
   "execution_count": null,
   "metadata": {},
   "outputs": [],
   "source": []
  },
  {
   "cell_type": "code",
   "execution_count": null,
   "metadata": {},
   "outputs": [],
   "source": []
  },
  {
   "cell_type": "code",
   "execution_count": 141,
   "metadata": {},
   "outputs": [
    {
     "data": {
      "text/html": [
       "<table class=\"dataframe\">\n",
       "<caption>A tibble: 6 × 4</caption>\n",
       "<thead>\n",
       "\t<tr><th scope=col>Assay_Type</th><th scope=col>Assay_Label</th><th scope=col>Name</th><th scope=col>Direction</th></tr>\n",
       "\t<tr><th scope=col>&lt;chr&gt;</th><th scope=col>&lt;chr&gt;</th><th scope=col>&lt;chr&gt;</th><th scope=col>&lt;chr&gt;</th></tr>\n",
       "</thead>\n",
       "<tbody>\n",
       "\t<tr><td>STARR_A</td><td>WSTARR_A                           </td><td>chr1:184330-184480</td><td>ACTIVE</td></tr>\n",
       "\t<tr><td>MPRA_A </td><td>LMPRA_A                            </td><td>chr1:203225-203425</td><td>ACTIVE</td></tr>\n",
       "\t<tr><td>STARR_A</td><td>WSTARR_A,WSTARR_AB,LMPRA_A,ASTARR_A</td><td>chr1:778400-779100</td><td>ACTIVE</td></tr>\n",
       "\t<tr><td>MPRA_A </td><td>WSTARR_A,WSTARR_AB,LMPRA_A,ASTARR_A</td><td>chr1:778400-779100</td><td>ACTIVE</td></tr>\n",
       "\t<tr><td>STARR_A</td><td>WSTARR_A,WSTARR_AB,LMPRA_A,ASTARR_A</td><td>chr1:778400-779100</td><td>ACTIVE</td></tr>\n",
       "\t<tr><td>STARR_A</td><td>WSTARR_A                           </td><td>chr1:818780-818990</td><td>ACTIVE</td></tr>\n",
       "</tbody>\n",
       "</table>\n"
      ],
      "text/latex": [
       "A tibble: 6 × 4\n",
       "\\begin{tabular}{llll}\n",
       " Assay\\_Type & Assay\\_Label & Name & Direction\\\\\n",
       " <chr> & <chr> & <chr> & <chr>\\\\\n",
       "\\hline\n",
       "\t STARR\\_A & WSTARR\\_A                            & chr1:184330-184480 & ACTIVE\\\\\n",
       "\t MPRA\\_A  & LMPRA\\_A                             & chr1:203225-203425 & ACTIVE\\\\\n",
       "\t STARR\\_A & WSTARR\\_A,WSTARR\\_AB,LMPRA\\_A,ASTARR\\_A & chr1:778400-779100 & ACTIVE\\\\\n",
       "\t MPRA\\_A  & WSTARR\\_A,WSTARR\\_AB,LMPRA\\_A,ASTARR\\_A & chr1:778400-779100 & ACTIVE\\\\\n",
       "\t STARR\\_A & WSTARR\\_A,WSTARR\\_AB,LMPRA\\_A,ASTARR\\_A & chr1:778400-779100 & ACTIVE\\\\\n",
       "\t STARR\\_A & WSTARR\\_A                            & chr1:818780-818990 & ACTIVE\\\\\n",
       "\\end{tabular}\n"
      ],
      "text/markdown": [
       "\n",
       "A tibble: 6 × 4\n",
       "\n",
       "| Assay_Type &lt;chr&gt; | Assay_Label &lt;chr&gt; | Name &lt;chr&gt; | Direction &lt;chr&gt; |\n",
       "|---|---|---|---|\n",
       "| STARR_A | WSTARR_A                            | chr1:184330-184480 | ACTIVE |\n",
       "| MPRA_A  | LMPRA_A                             | chr1:203225-203425 | ACTIVE |\n",
       "| STARR_A | WSTARR_A,WSTARR_AB,LMPRA_A,ASTARR_A | chr1:778400-779100 | ACTIVE |\n",
       "| MPRA_A  | WSTARR_A,WSTARR_AB,LMPRA_A,ASTARR_A | chr1:778400-779100 | ACTIVE |\n",
       "| STARR_A | WSTARR_A,WSTARR_AB,LMPRA_A,ASTARR_A | chr1:778400-779100 | ACTIVE |\n",
       "| STARR_A | WSTARR_A                            | chr1:818780-818990 | ACTIVE |\n",
       "\n"
      ],
      "text/plain": [
       "  Assay_Type Assay_Label                         Name               Direction\n",
       "1 STARR_A    WSTARR_A                            chr1:184330-184480 ACTIVE   \n",
       "2 MPRA_A     LMPRA_A                             chr1:203225-203425 ACTIVE   \n",
       "3 STARR_A    WSTARR_A,WSTARR_AB,LMPRA_A,ASTARR_A chr1:778400-779100 ACTIVE   \n",
       "4 MPRA_A     WSTARR_A,WSTARR_AB,LMPRA_A,ASTARR_A chr1:778400-779100 ACTIVE   \n",
       "5 STARR_A    WSTARR_A,WSTARR_AB,LMPRA_A,ASTARR_A chr1:778400-779100 ACTIVE   \n",
       "6 STARR_A    WSTARR_A                            chr1:818780-818990 ACTIVE   "
      ]
     },
     "metadata": {},
     "output_type": "display_data"
    }
   ],
   "source": [
    "dat = dat_peak_arrange\n",
    "dat = dat %>% \n",
    "    tidyr::separate_longer_delim(Assay_Type, \",\") %>% \n",
    "    dplyr::mutate(\n",
    "        Assay_Type = ifelse(\n",
    "            str_detect(Assay_Type, \"CRISPRi\"),\n",
    "            \"CRISPRi\",\n",
    "            Assay_Type\n",
    "        )\n",
    "    ) %>%\n",
    "    dplyr::mutate(\n",
    "        Assay_Type = ifelse(\n",
    "            str_detect(Assay_Type, \"STARR\"),\n",
    "            \"STARR_A\",\n",
    "            Assay_Type\n",
    "        )\n",
    "    ) %>%\n",
    "    dplyr::mutate(\n",
    "        Assay_Type = ifelse(\n",
    "            str_detect(Assay_Type, \"MPRA\"),\n",
    "            \"MPRA_A\",\n",
    "            Assay_Type\n",
    "        )\n",
    "    ) %>%\n",
    "    dplyr::mutate(\n",
    "        Direction = ifelse(\n",
    "            str_detect(Assay_Label, \"STARR_A|MPRA_A\"),\n",
    "            \"ACTIVE\",\n",
    "            \"REPRESS\"\n",
    "        )\n",
    "    )\n",
    "dat = dat %>% dplyr::filter(Direction == \"ACTIVE\")\n",
    "dat_summary = dat\n",
    "head(dat)"
   ]
  },
  {
   "cell_type": "code",
   "execution_count": 142,
   "metadata": {},
   "outputs": [
    {
     "name": "stdout",
     "output_type": "stream",
     "text": [
      "[1] 3\n"
     ]
    },
    {
     "data": {
      "text/html": [
       "<dl>\n",
       "\t<dt>$CRISPRi</dt>\n",
       "\t\t<dd>2981</dd>\n",
       "\t<dt>$MPRA_A</dt>\n",
       "\t\t<dd>42601</dd>\n",
       "\t<dt>$STARR_A</dt>\n",
       "\t\t<dd>92448</dd>\n",
       "</dl>\n"
      ],
      "text/latex": [
       "\\begin{description}\n",
       "\\item[\\$CRISPRi] 2981\n",
       "\\item[\\$MPRA\\_A] 42601\n",
       "\\item[\\$STARR\\_A] 92448\n",
       "\\end{description}\n"
      ],
      "text/markdown": [
       "$CRISPRi\n",
       ":   2981\n",
       "$MPRA_A\n",
       ":   42601\n",
       "$STARR_A\n",
       ":   92448\n",
       "\n",
       "\n"
      ],
      "text/plain": [
       "$CRISPRi\n",
       "[1] 2981\n",
       "\n",
       "$MPRA_A\n",
       "[1] 42601\n",
       "\n",
       "$STARR_A\n",
       "[1] 92448\n"
      ]
     },
     "metadata": {},
     "output_type": "display_data"
    }
   ],
   "source": [
    "dat = dat_summary\n",
    "lst = split(dat$Name, dat$Assay_Type)\n",
    "\n",
    "lst_summary = lst\n",
    "print(length(lst))\n",
    "lapply(lst, length)"
   ]
  },
  {
   "cell_type": "code",
   "execution_count": 143,
   "metadata": {},
   "outputs": [
    {
     "data": {
      "image/png": "[encoded data removed]",
      "text/plain": [
       "plot without title"
      ]
     },
     "metadata": {
      "image/png": {
       "height": 420,
       "width": 600
      }
     },
     "output_type": "display_data"
    }
   ],
   "source": [
    "lst = lst_summary\n",
    "\n",
    "options(repr.plot.height=7, repr.plot.width=10)\n",
    "upset(fromList(lst), \n",
    "      order.by = \"freq\", \n",
    "      nsets = 7,\n",
    "      mainbar.y.label = \"Regulatory regions identified in\\ndifferent assay types\", \n",
    "      sets.x.label    = \"Assay Type\", \n",
    "      text.scale = c(2, 1.5, 2, 1.5, 2, 2))"
   ]
  },
  {
   "cell_type": "code",
   "execution_count": 144,
   "metadata": {},
   "outputs": [
    {
     "name": "stdout",
     "output_type": "stream",
     "text": [
      "* CRISPRi : 2981 \n",
      "* MPRA_A : 42601 \n",
      "* STARR_A : 92448 \n"
     ]
    },
    {
     "data": {
      "image/png": "[encoded data removed]",
      "text/plain": [
       "plot without title"
      ]
     },
     "metadata": {
      "image/png": {
       "height": 180,
       "width": 480
      }
     },
     "output_type": "display_data"
    }
   ],
   "source": [
    "lst = lst_summary\n",
    "lst = lapply(lst, length)\n",
    "vec = unlist(lst)\n",
    "vec = sort(vec)\n",
    "for (idn in names(vec)){\n",
    "    cat(\"*\", idn, \":\", vec[idn], \"\\n\")\n",
    "}\n",
    "\n",
    "# ++++++++++++++++++++++++++++++++++++++++++++\n",
    "dat = data.frame(\n",
    "    \"Assay\"  = names(vec),\n",
    "    \"Count\"  = vec\n",
    ")\n",
    "dat = dat %>% \n",
    "    dplyr::arrange(Count) %>% \n",
    "    dplyr::mutate(Assay=factor(Assay, levels=Assay))\n",
    "gpt = ggplot(dat, aes(x=Assay, y=Count)) + \n",
    "    geom_col() + \n",
    "    coord_flip() +\n",
    "    theme_cowplot()\n",
    "\n",
    "options(repr.plot.height=3, repr.plot.width=8)\n",
    "print(gpt)"
   ]
  },
  {
   "cell_type": "code",
   "execution_count": null,
   "metadata": {},
   "outputs": [],
   "source": []
  },
  {
   "cell_type": "code",
   "execution_count": null,
   "metadata": {},
   "outputs": [],
   "source": []
  },
  {
   "cell_type": "code",
   "execution_count": null,
   "metadata": {},
   "outputs": [],
   "source": []
  },
  {
   "cell_type": "code",
   "execution_count": 145,
   "metadata": {},
   "outputs": [
    {
     "data": {
      "text/html": [
       "<table class=\"dataframe\">\n",
       "<caption>A tibble: 6 × 4</caption>\n",
       "<thead>\n",
       "\t<tr><th scope=col>Assay_Type</th><th scope=col>Assay_Label</th><th scope=col>Name</th><th scope=col>Direction</th></tr>\n",
       "\t<tr><th scope=col>&lt;chr&gt;</th><th scope=col>&lt;chr&gt;</th><th scope=col>&lt;chr&gt;</th><th scope=col>&lt;chr&gt;</th></tr>\n",
       "</thead>\n",
       "<tbody>\n",
       "\t<tr><td>STARR_R</td><td>ASTARR_R      </td><td>chr1:136520-136950</td><td>REPRESS</td></tr>\n",
       "\t<tr><td>STARR_R</td><td>ASTARR_R      </td><td>chr1:137050-137150</td><td>REPRESS</td></tr>\n",
       "\t<tr><td>STARR_R</td><td>ASTARR_R      </td><td>chr1:181600-181790</td><td>REPRESS</td></tr>\n",
       "\t<tr><td>CRISPRi</td><td>CRISPRi-Growth</td><td>chr1:605550-605627</td><td>REPRESS</td></tr>\n",
       "\t<tr><td>STARR_R</td><td>WSTARR_R      </td><td>chr1:822090-822250</td><td>REPRESS</td></tr>\n",
       "\t<tr><td>STARR_R</td><td>ASTARR_R      </td><td>chr1:869810-870100</td><td>REPRESS</td></tr>\n",
       "</tbody>\n",
       "</table>\n"
      ],
      "text/latex": [
       "A tibble: 6 × 4\n",
       "\\begin{tabular}{llll}\n",
       " Assay\\_Type & Assay\\_Label & Name & Direction\\\\\n",
       " <chr> & <chr> & <chr> & <chr>\\\\\n",
       "\\hline\n",
       "\t STARR\\_R & ASTARR\\_R       & chr1:136520-136950 & REPRESS\\\\\n",
       "\t STARR\\_R & ASTARR\\_R       & chr1:137050-137150 & REPRESS\\\\\n",
       "\t STARR\\_R & ASTARR\\_R       & chr1:181600-181790 & REPRESS\\\\\n",
       "\t CRISPRi & CRISPRi-Growth & chr1:605550-605627 & REPRESS\\\\\n",
       "\t STARR\\_R & WSTARR\\_R       & chr1:822090-822250 & REPRESS\\\\\n",
       "\t STARR\\_R & ASTARR\\_R       & chr1:869810-870100 & REPRESS\\\\\n",
       "\\end{tabular}\n"
      ],
      "text/markdown": [
       "\n",
       "A tibble: 6 × 4\n",
       "\n",
       "| Assay_Type &lt;chr&gt; | Assay_Label &lt;chr&gt; | Name &lt;chr&gt; | Direction &lt;chr&gt; |\n",
       "|---|---|---|---|\n",
       "| STARR_R | ASTARR_R       | chr1:136520-136950 | REPRESS |\n",
       "| STARR_R | ASTARR_R       | chr1:137050-137150 | REPRESS |\n",
       "| STARR_R | ASTARR_R       | chr1:181600-181790 | REPRESS |\n",
       "| CRISPRi | CRISPRi-Growth | chr1:605550-605627 | REPRESS |\n",
       "| STARR_R | WSTARR_R       | chr1:822090-822250 | REPRESS |\n",
       "| STARR_R | ASTARR_R       | chr1:869810-870100 | REPRESS |\n",
       "\n"
      ],
      "text/plain": [
       "  Assay_Type Assay_Label    Name               Direction\n",
       "1 STARR_R    ASTARR_R       chr1:136520-136950 REPRESS  \n",
       "2 STARR_R    ASTARR_R       chr1:137050-137150 REPRESS  \n",
       "3 STARR_R    ASTARR_R       chr1:181600-181790 REPRESS  \n",
       "4 CRISPRi    CRISPRi-Growth chr1:605550-605627 REPRESS  \n",
       "5 STARR_R    WSTARR_R       chr1:822090-822250 REPRESS  \n",
       "6 STARR_R    ASTARR_R       chr1:869810-870100 REPRESS  "
      ]
     },
     "metadata": {},
     "output_type": "display_data"
    }
   ],
   "source": [
    "dat = dat_peak_arrange\n",
    "dat = dat %>% \n",
    "    tidyr::separate_longer_delim(Assay_Type, \",\") %>% \n",
    "    dplyr::mutate(\n",
    "        Assay_Type = ifelse(\n",
    "            str_detect(Assay_Type, \"CRISPRi\"),\n",
    "            \"CRISPRi\",\n",
    "            Assay_Type\n",
    "        )\n",
    "    ) %>%\n",
    "    dplyr::mutate(\n",
    "        Assay_Type = ifelse(\n",
    "            str_detect(Assay_Type, \"STARR\"),\n",
    "            \"STARR_R\",\n",
    "            Assay_Type\n",
    "        )\n",
    "    ) %>%\n",
    "    dplyr::mutate(\n",
    "        Assay_Type = ifelse(\n",
    "            str_detect(Assay_Type, \"MPRA\"),\n",
    "            \"MPRA_R\",\n",
    "            Assay_Type\n",
    "        )\n",
    "    ) %>%\n",
    "    dplyr::mutate(\n",
    "        Direction = ifelse(\n",
    "            str_detect(Assay_Label, \"STARR_A|MPRA_A\"),\n",
    "            \"ACTIVE\",\n",
    "            \"REPRESS\"\n",
    "        )\n",
    "    )\n",
    "dat = dat %>% dplyr::filter(Direction == \"REPRESS\")\n",
    "dat_summary = dat\n",
    "head(dat)"
   ]
  },
  {
   "cell_type": "code",
   "execution_count": 146,
   "metadata": {},
   "outputs": [
    {
     "name": "stdout",
     "output_type": "stream",
     "text": [
      "[1] 3\n"
     ]
    },
    {
     "data": {
      "text/html": [
       "<dl>\n",
       "\t<dt>$CRISPRi</dt>\n",
       "\t\t<dd>3727</dd>\n",
       "\t<dt>$MPRA_R</dt>\n",
       "\t\t<dd>1379</dd>\n",
       "\t<dt>$STARR_R</dt>\n",
       "\t\t<dd>68583</dd>\n",
       "</dl>\n"
      ],
      "text/latex": [
       "\\begin{description}\n",
       "\\item[\\$CRISPRi] 3727\n",
       "\\item[\\$MPRA\\_R] 1379\n",
       "\\item[\\$STARR\\_R] 68583\n",
       "\\end{description}\n"
      ],
      "text/markdown": [
       "$CRISPRi\n",
       ":   3727\n",
       "$MPRA_R\n",
       ":   1379\n",
       "$STARR_R\n",
       ":   68583\n",
       "\n",
       "\n"
      ],
      "text/plain": [
       "$CRISPRi\n",
       "[1] 3727\n",
       "\n",
       "$MPRA_R\n",
       "[1] 1379\n",
       "\n",
       "$STARR_R\n",
       "[1] 68583\n"
      ]
     },
     "metadata": {},
     "output_type": "display_data"
    }
   ],
   "source": [
    "dat = dat_summary\n",
    "lst = split(dat$Name, dat$Assay_Type)\n",
    "\n",
    "lst_summary = lst\n",
    "print(length(lst))\n",
    "lapply(lst, length)"
   ]
  },
  {
   "cell_type": "code",
   "execution_count": 147,
   "metadata": {},
   "outputs": [
    {
     "data": {
      "image/png": "[encoded data removed]",
      "text/plain": [
       "plot without title"
      ]
     },
     "metadata": {
      "image/png": {
       "height": 420,
       "width": 600
      }
     },
     "output_type": "display_data"
    }
   ],
   "source": [
    "lst = lst_summary\n",
    "\n",
    "options(repr.plot.height=7, repr.plot.width=10)\n",
    "upset(fromList(lst), \n",
    "      order.by = \"freq\", \n",
    "      nsets = 7,\n",
    "      mainbar.y.label = \"Regulatory regions identified in\\ndifferent assay types\", \n",
    "      sets.x.label    = \"Assay Type\", \n",
    "      text.scale = c(2, 1.5, 2, 1.5, 2, 2))"
   ]
  },
  {
   "cell_type": "code",
   "execution_count": 148,
   "metadata": {},
   "outputs": [
    {
     "name": "stdout",
     "output_type": "stream",
     "text": [
      "* MPRA_R : 1379 \n",
      "* CRISPRi : 3727 \n",
      "* STARR_R : 68583 \n"
     ]
    },
    {
     "data": {
      "image/png": "[encoded data removed]",
      "text/plain": [
       "plot without title"
      ]
     },
     "metadata": {
      "image/png": {
       "height": 180,
       "width": 480
      }
     },
     "output_type": "display_data"
    }
   ],
   "source": [
    "lst = lst_summary\n",
    "lst = lapply(lst, length)\n",
    "vec = unlist(lst)\n",
    "vec = sort(vec)\n",
    "for (idn in names(vec)){\n",
    "    cat(\"*\", idn, \":\", vec[idn], \"\\n\")\n",
    "}\n",
    "\n",
    "# ++++++++++++++++++++++++++++++++++++++++++++\n",
    "dat = data.frame(\n",
    "    \"Assay\"  = names(vec),\n",
    "    \"Count\"  = vec\n",
    ")\n",
    "dat = dat %>% \n",
    "    dplyr::arrange(Count) %>% \n",
    "    dplyr::mutate(Assay=factor(Assay, levels=Assay))\n",
    "gpt = ggplot(dat, aes(x=Assay, y=Count)) + \n",
    "    geom_col() + \n",
    "    coord_flip() +\n",
    "    theme_cowplot()\n",
    "\n",
    "options(repr.plot.height=3, repr.plot.width=8)\n",
    "print(gpt)"
   ]
  },
  {
   "cell_type": "code",
   "execution_count": null,
   "metadata": {},
   "outputs": [],
   "source": []
  }
 ],
 "metadata": {
  "kernelspec": {
   "display_name": "R",
   "language": "R",
   "name": "ir"
  },
  "language_info": {
   "codemirror_mode": "r",
   "file_extension": ".r",
   "mimetype": "text/x-r-source",
   "name": "R",
   "pygments_lexer": "r",
   "version": "4.3.0"
  }
 },
 "nbformat": 4,
 "nbformat_minor": 4
}
