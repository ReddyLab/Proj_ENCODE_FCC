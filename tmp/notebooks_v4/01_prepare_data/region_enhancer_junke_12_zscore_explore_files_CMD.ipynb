{
 "cells": [
  {
   "cell_type": "markdown",
   "id": "3cd96d27-252d-41ae-a19a-087d4d7a18c4",
   "metadata": {},
   "source": [
    "**Set environment**"
   ]
  },
  {
   "cell_type": "code",
   "execution_count": 1,
   "id": "ca94b41b-f126-4aae-a478-12967771251e",
   "metadata": {},
   "outputs": [
    {
     "name": "stdout",
     "output_type": "stream",
     "text": [
      "You are on Duke Server: HARDAC\n",
      "BASE DIRECTORY (FD_BASE): /data/reddylab/Kuei\n",
      "WORK DIRECTORY (FD_WORK): /data/reddylab/Kuei/out\n",
      "CODE DIRECTORY (FD_CODE): /data/reddylab/Kuei/code\n",
      "SING DIRECTORY (FD_SING): /data/reddylab/Kuei/singularity\n",
      "PATH OF PROJECT (FD_PRJ): /data/reddylab/Kuei/code/Proj_CombEffect_ENCODE_FCC\n",
      "PATH OF RESULTS (FD_RES): /data/reddylab/Kuei/out/proj_combeffect_encode_fcc\n",
      "PATH OF LOG     (FD_LOG): /data/reddylab/Kuei/out/proj_combeffect_encode_fcc/log\n",
      "\n"
     ]
    }
   ],
   "source": [
    "### set env\n",
    "source ../config/config_duke.sh\n",
    "show_env"
   ]
  },
  {
   "cell_type": "code",
   "execution_count": 2,
   "id": "1adbf2b9-1d04-44df-a7c1-1273f57619dd",
   "metadata": {},
   "outputs": [
    {
     "name": "stdout",
     "output_type": "stream",
     "text": [
      "\u001b[0m\u001b[38;5;27mdeep_ATAC_STARR_seq.genomic_bin_100_sliding_10\u001b[0m\n",
      "\u001b[38;5;9mdeep_ATAC_STARR_seq.genomic_bin_100_sliding_10.tar.gz\u001b[0m\n",
      "Enhancer call file format documentation.docx\n",
      "\u001b[38;5;27mlentiMPRA\u001b[0m\n",
      "\u001b[38;5;9mlentiMPRA.tar.gz\u001b[0m\n",
      "Note.md\n",
      "Readme.md\n",
      "\u001b[38;5;27mtilingMPRA_MYC_GATA\u001b[0m\n",
      "\u001b[38;5;9mtilingMPRA_MYC_GATA.tar.gz\u001b[0m\n",
      "\u001b[38;5;27mtilingMPRA_OL13\u001b[0m\n",
      "\u001b[38;5;9mtilingMPRA_OL13.tar.gz\u001b[0m\n",
      "\u001b[38;5;27mtilingMPRA_OL45\u001b[0m\n",
      "\u001b[38;5;9mtilingMPRA_OL45.tar.gz\u001b[0m\n",
      "\u001b[38;5;27mWHG_STARR_TR\u001b[0m\n",
      "\u001b[38;5;9mWHG_STARR_TR.tar.gz\u001b[0m\n",
      "\u001b[38;5;27mzold_MPRA\u001b[0m\n"
     ]
    }
   ],
   "source": [
    "FDIRY=${FD_RES}/source/annotation_enhancer_junke_zscore\n",
    "ls -1 ${FDIRY}"
   ]
  },
  {
   "cell_type": "code",
   "execution_count": 6,
   "id": "9ec0d3eb-836b-4e8f-b3fb-62619a86ad9c",
   "metadata": {},
   "outputs": [
    {
     "name": "stdout",
     "output_type": "stream",
     "text": [
      "-rw-rw-r-- 1 kk319 reddylab 584M Jun 14 14:17 \u001b[0m\u001b[38;5;9m/data/reddylab/Kuei/out/proj_combeffect_encode_fcc/source/annotation_enhancer_junke_zscore/deep_ATAC_STARR_seq.genomic_bin_100_sliding_10.tar.gz\u001b[0m\u001b[K\n",
      "-rw-rw-r-- 1 kk319 reddylab  31M Dec  5 12:26 \u001b[38;5;9m/data/reddylab/Kuei/out/proj_combeffect_encode_fcc/source/annotation_enhancer_junke_zscore/lentiMPRA.tar.gz\u001b[0m\u001b[K\n",
      "-rw-rw-r-- 1 kk319 reddylab 8.3M Dec  5 12:26 \u001b[38;5;9m/data/reddylab/Kuei/out/proj_combeffect_encode_fcc/source/annotation_enhancer_junke_zscore/tilingMPRA_MYC_GATA.tar.gz\u001b[0m\u001b[K\n",
      "-rw-rw-r-- 1 kk319 reddylab 3.6M Dec  5 12:26 \u001b[38;5;9m/data/reddylab/Kuei/out/proj_combeffect_encode_fcc/source/annotation_enhancer_junke_zscore/tilingMPRA_OL13.tar.gz\u001b[0m\u001b[K\n",
      "-rw-rw-r-- 1 kk319 reddylab 7.7M Dec  5 12:26 \u001b[38;5;9m/data/reddylab/Kuei/out/proj_combeffect_encode_fcc/source/annotation_enhancer_junke_zscore/tilingMPRA_OL45.tar.gz\u001b[0m\u001b[K\n",
      "-rw-rw-r-- 1 kk319 reddylab  22G Jun 14 14:36 \u001b[38;5;9m/data/reddylab/Kuei/out/proj_combeffect_encode_fcc/source/annotation_enhancer_junke_zscore/WHG_STARR_TR.tar.gz\u001b[0m\u001b[K\n"
     ]
    }
   ],
   "source": [
    "FDIRY=${FD_RES}/source/annotation_enhancer_junke_zscore\n",
    "ls -lh ${FDIRY}/*.tar.gz"
   ]
  },
  {
   "cell_type": "code",
   "execution_count": 10,
   "id": "9c29e9fa-0070-4fd2-be51-4cdebb7570ab",
   "metadata": {},
   "outputs": [
    {
     "name": "stdout",
     "output_type": "stream",
     "text": [
      "ASTARR\n",
      "\u001b[0m\u001b[38;5;27mATAC_STARR_seq\u001b[0m  \u001b[38;5;27m__MACOSX\u001b[0m\n",
      "\n",
      "WSTARR\n",
      "\u001b[0m\u001b[38;5;27m__MACOSX\u001b[0m  \u001b[38;5;27mWHG_STARR_TR\u001b[0m\n",
      "\n",
      "TileMPRA (GATA1/MYC)\n",
      "\u001b[0m\u001b[38;5;27m__MACOSX\u001b[0m  \u001b[38;5;27mtilingMPRA_MYC_GATA\u001b[0m\n",
      "\n",
      "TileMPRA (OL13)\n",
      "\u001b[0m\u001b[38;5;27m__MACOSX\u001b[0m  \u001b[38;5;27mtilingMPRA_OL13\u001b[0m\n",
      "\n",
      "TileMPRA (OL45)\n",
      "\u001b[0m\u001b[38;5;27m__MACOSX\u001b[0m  \u001b[38;5;27mtilingMPRA_OL45\u001b[0m\n",
      "\n",
      "LentiMPRA\n",
      "\u001b[0m\u001b[38;5;27mlentiMPRA\u001b[0m  \u001b[38;5;27m__MACOSX\u001b[0m\n",
      "\n"
     ]
    }
   ],
   "source": [
    "FDIRY=${FD_RES}/source/annotation_enhancer_junke_zscore\n",
    "\n",
    "echo \"ASTARR\"\n",
    "ls ${FDIRY}/deep_ATAC_STARR_seq.genomic_bin_100_sliding_10\n",
    "echo\n",
    "\n",
    "echo \"WSTARR\"\n",
    "ls ${FDIRY}/WHG_STARR_TR\n",
    "echo\n",
    "\n",
    "echo \"TileMPRA (GATA1/MYC)\"\n",
    "ls ${FDIRY}/tilingMPRA_MYC_GATA\n",
    "echo\n",
    "\n",
    "echo \"TileMPRA (OL13)\"\n",
    "ls ${FDIRY}/tilingMPRA_OL13\n",
    "echo\n",
    "\n",
    "echo \"TileMPRA (OL45)\"\n",
    "ls ${FDIRY}/tilingMPRA_OL45\n",
    "echo\n",
    "\n",
    "echo \"LentiMPRA\"\n",
    "ls ${FDIRY}/lentiMPRA\n",
    "echo"
   ]
  },
  {
   "cell_type": "code",
   "execution_count": 11,
   "id": "2e830352-dae3-428f-a766-ac26d9410cc3",
   "metadata": {},
   "outputs": [
    {
     "name": "stdout",
     "output_type": "stream",
     "text": [
      "ASTARR\n",
      "\u001b[0m\u001b[38;5;27mbin_level\u001b[0m  \u001b[38;5;27mmerged_peak\u001b[0m  \u001b[38;5;34mneg_ctrl_region.txt\u001b[0m\n",
      "\n",
      "WSTARR\n",
      "\u001b[0m\u001b[38;5;27mbin_level\u001b[0m  \u001b[38;5;27mmerged_peak\u001b[0m  \u001b[38;5;34mneg_ctrl_region.txt\u001b[0m\n",
      "\n",
      "TileMPRA (GATA1/MYC)\n",
      "\u001b[0m\u001b[38;5;34mcompare_with_original.pdf\u001b[0m  \u001b[38;5;27melement_level\u001b[0m  \u001b[38;5;34mneg_ctrl.pdf\u001b[0m         \u001b[38;5;34moverall.pdf\u001b[0m\n",
      "\u001b[38;5;34mcompare_with_original.png\u001b[0m  \u001b[38;5;27mmerged_peak\u001b[0m    \u001b[38;5;34mneg_ctrl_region.txt\u001b[0m\n",
      "\n",
      "TileMPRA (OL13)\n",
      "\u001b[0m\u001b[38;5;34mcompare_with_original.pdf\u001b[0m  \u001b[38;5;27melement_level\u001b[0m  \u001b[38;5;34mneg_ctrl.pdf\u001b[0m         \u001b[38;5;34moverall.pdf\u001b[0m\n",
      "\u001b[38;5;34mcompare_with_original.png\u001b[0m  \u001b[38;5;27mmerged_peak\u001b[0m    \u001b[38;5;34mneg_ctrl_region.txt\u001b[0m\n",
      "\n",
      "TileMPRA (OL45)\n",
      "\u001b[0m\u001b[38;5;34mcompare_with_original.pdf\u001b[0m  \u001b[38;5;27melement_level\u001b[0m  \u001b[38;5;34mneg_ctrl.pdf\u001b[0m         \u001b[38;5;34moverall.pdf\u001b[0m\n",
      "\u001b[38;5;34mcompare_with_original.png\u001b[0m  \u001b[38;5;27mmerged_peak\u001b[0m    \u001b[38;5;34mneg_ctrl_region.txt\u001b[0m\n",
      "\n",
      "LentiMPRA\n",
      "\u001b[0m\u001b[38;5;34mcompare_with_original.pdf\u001b[0m  \u001b[38;5;27melement_level\u001b[0m  \u001b[38;5;34mneg_ctrl.pdf\u001b[0m         \u001b[38;5;34moverall.pdf\u001b[0m\n",
      "\u001b[38;5;34mcompare_with_original.png\u001b[0m  \u001b[38;5;27mmerged_peak\u001b[0m    \u001b[38;5;34mneg_ctrl_region.txt\u001b[0m\n",
      "\n"
     ]
    }
   ],
   "source": [
    "FDIRY=${FD_RES}/source/annotation_enhancer_junke_zscore\n",
    "\n",
    "echo \"ASTARR\"\n",
    "ls ${FDIRY}/deep_ATAC_STARR_seq.genomic_bin_100_sliding_10/ATAC_STARR_seq\n",
    "echo\n",
    "\n",
    "echo \"WSTARR\"\n",
    "ls ${FDIRY}/WHG_STARR_TR/WHG_STARR_TR\n",
    "echo\n",
    "\n",
    "echo \"TileMPRA (GATA1/MYC)\"\n",
    "ls ${FDIRY}/tilingMPRA_MYC_GATA/tilingMPRA_MYC_GATA\n",
    "echo\n",
    "\n",
    "echo \"TileMPRA (OL13)\"\n",
    "ls ${FDIRY}/tilingMPRA_OL13/tilingMPRA_OL13\n",
    "echo\n",
    "\n",
    "echo \"TileMPRA (OL45)\"\n",
    "ls ${FDIRY}/tilingMPRA_OL45/tilingMPRA_OL45\n",
    "echo\n",
    "\n",
    "echo \"LentiMPRA\"\n",
    "ls ${FDIRY}/lentiMPRA/lentiMPRA\n",
    "echo"
   ]
  },
  {
   "cell_type": "code",
   "execution_count": 12,
   "id": "df9d53ef-7caf-4767-b871-61896dbb064b",
   "metadata": {},
   "outputs": [
    {
     "name": "stdout",
     "output_type": "stream",
     "text": [
      "\u001b[0m\u001b[38;5;34mmerged_enhancer_peak_orientation_independent.bed.gz\u001b[0m\n",
      "\u001b[38;5;34mmerged_enhancer_peaks_in_either_orientation.bed.gz\u001b[0m\n",
      "\u001b[38;5;34mmerged_repressor_peaks_in_either_orientation.bed.gz\u001b[0m\n"
     ]
    }
   ],
   "source": [
    "FDIRY=${FD_RES}/source/annotation_enhancer_junke_zscore\n",
    "\n",
    "ls ${FDIRY}/deep_ATAC_STARR_seq.genomic_bin_100_sliding_10/ATAC_STARR_seq/merged_peak"
   ]
  },
  {
   "cell_type": "code",
   "execution_count": 13,
   "id": "e99222e7-f481-4f30-8fc9-2ccb1a4679a6",
   "metadata": {},
   "outputs": [
    {
     "name": "stdout",
     "output_type": "stream",
     "text": [
      "\u001b[0m\u001b[38;5;34mmerged_enhancer_peak_orientation_independent.bed.gz\u001b[0m\n",
      "\u001b[38;5;34mmerged_enhancer_peaks_in_either_orientation.bed.gz\u001b[0m\n",
      "\u001b[38;5;34mmerged_repressor_peaks_in_either_orientation.bed.gz\u001b[0m\n"
     ]
    }
   ],
   "source": [
    "FDIRY=${FD_RES}/source/annotation_enhancer_junke_zscore\n",
    "\n",
    "ls ${FDIRY}/WHG_STARR_TR/WHG_STARR_TR/merged_peak"
   ]
  },
  {
   "cell_type": "code",
   "execution_count": 14,
   "id": "a478cd3e-3780-4ca6-a72d-e8a773dc1425",
   "metadata": {},
   "outputs": [
    {
     "name": "stdout",
     "output_type": "stream",
     "text": [
      "\u001b[0m\u001b[38;5;34mmerged_enhancer_peaks_in_either_orientation.bed.gz\u001b[0m\n",
      "\u001b[38;5;34mmerged_repressor_peaks_in_either_orientation.bed.gz\u001b[0m\n"
     ]
    }
   ],
   "source": [
    "FDIRY=${FD_RES}/source/annotation_enhancer_junke_zscore\n",
    "\n",
    "ls ${FDIRY}/tilingMPRA_MYC_GATA/tilingMPRA_MYC_GATA/merged_peak"
   ]
  },
  {
   "cell_type": "code",
   "execution_count": 15,
   "id": "5df0c996-5c33-472c-a475-55b6a359125f",
   "metadata": {},
   "outputs": [
    {
     "name": "stdout",
     "output_type": "stream",
     "text": [
      "\u001b[0m\u001b[38;5;34mmerged_enhancer_peak_orientation_independent.bed.gz\u001b[0m\n",
      "\u001b[38;5;34mmerged_enhancer_peaks_in_either_orientation.bed.gz\u001b[0m\n",
      "\u001b[38;5;34mmerged_repressor_peaks_in_either_orientation.bed.gz\u001b[0m\n"
     ]
    }
   ],
   "source": [
    "FDIRY=${FD_RES}/source/annotation_enhancer_junke_zscore\n",
    "\n",
    "ls ${FDIRY}/lentiMPRA/lentiMPRA/merged_peak"
   ]
  },
  {
   "cell_type": "code",
   "execution_count": null,
   "id": "cab43f96-2be5-44ab-95d9-f917c04c317b",
   "metadata": {},
   "outputs": [],
   "source": []
  }
 ],
 "metadata": {
  "kernelspec": {
   "display_name": "Bash",
   "language": "bash",
   "name": "bash"
  },
  "language_info": {
   "codemirror_mode": "shell",
   "file_extension": ".sh",
   "mimetype": "text/x-sh",
   "name": "bash"
  }
 },
 "nbformat": 4,
 "nbformat_minor": 5
}
