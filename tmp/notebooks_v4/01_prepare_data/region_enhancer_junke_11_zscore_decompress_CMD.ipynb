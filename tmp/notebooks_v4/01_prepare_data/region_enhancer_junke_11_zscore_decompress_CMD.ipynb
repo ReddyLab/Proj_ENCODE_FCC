{
 "cells": [
  {
   "cell_type": "markdown",
   "id": "c55754d1",
   "metadata": {},
   "source": [
    "**Set environment**"
   ]
  },
  {
   "cell_type": "code",
   "execution_count": 1,
   "id": "9a818c9b",
   "metadata": {},
   "outputs": [
    {
     "name": "stdout",
     "output_type": "stream",
     "text": [
      "You are on Duke Server: HARDAC\n",
      "BASE DIRECTORY (FD_BASE): /data/reddylab/Kuei\n",
      "WORK DIRECTORY (FD_WORK): /data/reddylab/Kuei/out\n",
      "CODE DIRECTORY (FD_CODE): /data/reddylab/Kuei/code\n",
      "SING DIRECTORY (FD_SING): /data/reddylab/Kuei/singularity\n",
      "PATH OF PROJECT (FD_PRJ): /data/reddylab/Kuei/code/Proj_CombEffect_ENCODE_FCC\n",
      "PATH OF RESULTS (FD_RES): /data/reddylab/Kuei/out/proj_combeffect_encode_fcc\n",
      "PATH OF LOG     (FD_LOG): /data/reddylab/Kuei/out/proj_combeffect_encode_fcc/log\n",
      "\n"
     ]
    }
   ],
   "source": [
    "### set env\n",
    "source ../config/config_duke.sh\n",
    "show_env"
   ]
  },
  {
   "cell_type": "markdown",
   "id": "b07ece0c-a207-4efe-ac38-042288918518",
   "metadata": {},
   "source": [
    "**Check data**"
   ]
  },
  {
   "cell_type": "code",
   "execution_count": 3,
   "id": "324fbdd6",
   "metadata": {},
   "outputs": [
    {
     "name": "stdout",
     "output_type": "stream",
     "text": [
      "deep_ATAC_STARR_seq.genomic_bin_100_sliding_10.tar.gz\n",
      "lentiMPRA.tar.gz\n",
      "tilingMPRA_MYC_GATA.tar.gz\n",
      "tilingMPRA_OL13.tar.gz\n",
      "tilingMPRA_OL45.tar.gz\n",
      "WHG_STARR_TR.tar.gz\n"
     ]
    }
   ],
   "source": [
    "FDIRY=${FD_RES}/source/annotation_enhancer_junke_zscore\n",
    "ls -1 ${FDIRY}/*tar.gz | xargs -n 1 basename"
   ]
  },
  {
   "cell_type": "markdown",
   "id": "bc1e55ec-75f1-451d-a91a-53d137eec2ef",
   "metadata": {},
   "source": [
    "* The data is redownloaded and uploaded to the server on **2023/06/14 Wed**.\n",
    "* MPRA data is updated to the server on **2023/12/05**"
   ]
  },
  {
   "cell_type": "code",
   "execution_count": 7,
   "id": "01e266b9-46a7-457b-8875-40bbedf659ca",
   "metadata": {},
   "outputs": [
    {
     "name": "stdout",
     "output_type": "stream",
     "text": [
      "-rw-rw-r-- 1 kk319 reddylab   612304538 Jun 14 14:17 \u001b[0m\u001b[38;5;9mdeep_ATAC_STARR_seq.genomic_bin_100_sliding_10.tar.gz\u001b[0m\n",
      "-rw-rw-r-- 1 kk319 reddylab    32034054 Dec  5 12:26 \u001b[38;5;9mlentiMPRA.tar.gz\u001b[0m\n",
      "-rw-rw-r-- 1 kk319 reddylab     8604601 Dec  5 12:26 \u001b[38;5;9mtilingMPRA_MYC_GATA.tar.gz\u001b[0m\n",
      "-rw-rw-r-- 1 kk319 reddylab     3729462 Dec  5 12:26 \u001b[38;5;9mtilingMPRA_OL13.tar.gz\u001b[0m\n",
      "-rw-rw-r-- 1 kk319 reddylab     8047066 Dec  5 12:26 \u001b[38;5;9mtilingMPRA_OL45.tar.gz\u001b[0m\n",
      "-rw-rw-r-- 1 kk319 reddylab 22745811054 Jun 14 14:36 \u001b[38;5;9mWHG_STARR_TR.tar.gz\u001b[0m\n"
     ]
    }
   ],
   "source": [
    "cd ${FD_RES}/source/annotation_enhancer_junke_zscore\n",
    "ls -l *.tar.gz"
   ]
  },
  {
   "cell_type": "markdown",
   "id": "9b6f09b6-c47e-46ef-88f5-930d817b29e1",
   "metadata": {},
   "source": [
    "## Decompress the files"
   ]
  },
  {
   "cell_type": "code",
   "execution_count": 8,
   "id": "f6bfeb2e",
   "metadata": {},
   "outputs": [
    {
     "name": "stdout",
     "output_type": "stream",
     "text": [
      "\u001b[0m\u001b[38;5;9mdeep_ATAC_STARR_seq.genomic_bin_100_sliding_10.tar.gz\u001b[0m\n",
      "\u001b[38;5;9mlentiMPRA.tar.gz\u001b[0m\n",
      "\u001b[38;5;9mtilingMPRA_MYC_GATA.tar.gz\u001b[0m\n",
      "\u001b[38;5;9mtilingMPRA_OL13.tar.gz\u001b[0m\n",
      "\u001b[38;5;9mtilingMPRA_OL45.tar.gz\u001b[0m\n",
      "\u001b[38;5;9mWHG_STARR_TR.tar.gz\u001b[0m\n"
     ]
    }
   ],
   "source": [
    "cd ${FD_RES}/source/annotation_enhancer_junke_zscore\n",
    "ls -1 *tar.gz"
   ]
  },
  {
   "cell_type": "code",
   "execution_count": 9,
   "id": "4a117de0",
   "metadata": {},
   "outputs": [
    {
     "name": "stdout",
     "output_type": "stream",
     "text": [
      "deep_ATAC_STARR_seq.genomic_bin_100_sliding_10/\n",
      "deep_ATAC_STARR_seq.genomic_bin_100_sliding_10/ATAC_STARR_seq/\n",
      "deep_ATAC_STARR_seq.genomic_bin_100_sliding_10/ATAC_STARR_seq/.DS_Store\n",
      "deep_ATAC_STARR_seq.genomic_bin_100_sliding_10/ATAC_STARR_seq/.ipynb_checkpoints/\n",
      "deep_ATAC_STARR_seq.genomic_bin_100_sliding_10/ATAC_STARR_seq/.ipynb_checkpoints/annotation-checkpoint.out\n",
      "deep_ATAC_STARR_seq.genomic_bin_100_sliding_10/ATAC_STARR_seq/bin_level/\n",
      "deep_ATAC_STARR_seq.genomic_bin_100_sliding_10/ATAC_STARR_seq/bin_level/all_bin_tested_in_both_orientations.bed.gz\n",
      "deep_ATAC_STARR_seq.genomic_bin_100_sliding_10/ATAC_STARR_seq/bin_level/bin_level_all_result.bed.gz\n",
      "deep_ATAC_STARR_seq.genomic_bin_100_sliding_10/ATAC_STARR_seq/merged_peak/\n",
      "deep_ATAC_STARR_seq.genomic_bin_100_sliding_10/ATAC_STARR_seq/merged_peak/.ipynb_checkpoints/\n",
      "deep_ATAC_STARR_seq.genomic_bin_100_sliding_10/ATAC_STARR_seq/merged_peak/merged_enhancer_peaks_in_either_orientation.bed.gz\n",
      "deep_ATAC_STARR_seq.genomic_bin_100_sliding_10/ATAC_STARR_seq/merged_peak/merged_enhancer_peak_orientation_independent.bed.gz\n",
      "deep_ATAC_STARR_seq.genomic_bin_100_sliding_10/ATAC_STARR_seq/merged_peak/merged_repressor_peaks_in_either_orientation.bed.gz\n",
      "deep_ATAC_STARR_seq.genomic_bin_100_sliding_10/ATAC_STARR_seq/neg_ctrl_region.txt\n",
      "deep_ATAC_STARR_seq.genomic_bin_100_sliding_10/__MACOSX/\n",
      "deep_ATAC_STARR_seq.genomic_bin_100_sliding_10/__MACOSX/._ATAC_STARR_seq\n",
      "deep_ATAC_STARR_seq.genomic_bin_100_sliding_10/__MACOSX/ATAC_STARR_seq/\n",
      "deep_ATAC_STARR_seq.genomic_bin_100_sliding_10/__MACOSX/ATAC_STARR_seq/._.DS_Store\n",
      "WHG_STARR_TR/\n",
      "WHG_STARR_TR/WHG_STARR_TR/\n",
      "WHG_STARR_TR/WHG_STARR_TR/.DS_Store\n",
      "WHG_STARR_TR/WHG_STARR_TR/.ipynb_checkpoints/\n",
      "WHG_STARR_TR/WHG_STARR_TR/.ipynb_checkpoints/annotated-checkpoint.out\n",
      "WHG_STARR_TR/WHG_STARR_TR/bin_level/\n",
      "WHG_STARR_TR/WHG_STARR_TR/bin_level/all_bin_tested_in_both_orientations.bed.gz\n",
      "WHG_STARR_TR/WHG_STARR_TR/bin_level/bin_level_all_result.bed.gz\n",
      "WHG_STARR_TR/WHG_STARR_TR/merged_peak/\n",
      "WHG_STARR_TR/WHG_STARR_TR/merged_peak/.ipynb_checkpoints/\n",
      "WHG_STARR_TR/WHG_STARR_TR/merged_peak/merged_enhancer_peaks_in_either_orientation.bed.gz\n",
      "WHG_STARR_TR/WHG_STARR_TR/merged_peak/merged_enhancer_peak_orientation_independent.bed.gz\n",
      "WHG_STARR_TR/WHG_STARR_TR/merged_peak/merged_repressor_peaks_in_either_orientation.bed.gz\n",
      "WHG_STARR_TR/WHG_STARR_TR/neg_ctrl_region.txt\n",
      "WHG_STARR_TR/__MACOSX/\n",
      "WHG_STARR_TR/__MACOSX/._WHG_STARR_TR\n",
      "WHG_STARR_TR/__MACOSX/WHG_STARR_TR/\n",
      "WHG_STARR_TR/__MACOSX/WHG_STARR_TR/._.DS_Store\n",
      "tilingMPRA_MYC_GATA/\n",
      "tilingMPRA_MYC_GATA/tilingMPRA_MYC_GATA/\n",
      "tilingMPRA_MYC_GATA/tilingMPRA_MYC_GATA/compare_with_original.pdf\n",
      "tilingMPRA_MYC_GATA/tilingMPRA_MYC_GATA/compare_with_original.png\n",
      "tilingMPRA_MYC_GATA/tilingMPRA_MYC_GATA/element_level/\n",
      "tilingMPRA_MYC_GATA/tilingMPRA_MYC_GATA/element_level/element_level_all_result.bed.gz\n",
      "tilingMPRA_MYC_GATA/tilingMPRA_MYC_GATA/merged_peak/\n",
      "tilingMPRA_MYC_GATA/tilingMPRA_MYC_GATA/merged_peak/merged_enhancer_peaks_in_either_orientation.bed.gz\n",
      "tilingMPRA_MYC_GATA/tilingMPRA_MYC_GATA/merged_peak/merged_repressor_peaks_in_either_orientation.bed.gz\n",
      "tilingMPRA_MYC_GATA/tilingMPRA_MYC_GATA/neg_ctrl.pdf\n",
      "tilingMPRA_MYC_GATA/tilingMPRA_MYC_GATA/neg_ctrl_region.txt\n",
      "tilingMPRA_MYC_GATA/tilingMPRA_MYC_GATA/overall.pdf\n",
      "tilingMPRA_MYC_GATA/__MACOSX/\n",
      "tilingMPRA_MYC_GATA/__MACOSX/._tilingMPRA_MYC_GATA\n",
      "tilingMPRA_OL13/\n",
      "tilingMPRA_OL13/tilingMPRA_OL13/\n",
      "tilingMPRA_OL13/tilingMPRA_OL13/.ipynb_checkpoints/\n",
      "tilingMPRA_OL13/tilingMPRA_OL13/.ipynb_checkpoints/compare_with_original-checkpoint.png\n",
      "tilingMPRA_OL13/tilingMPRA_OL13/compare_with_original.pdf\n",
      "tilingMPRA_OL13/tilingMPRA_OL13/compare_with_original.png\n",
      "tilingMPRA_OL13/tilingMPRA_OL13/element_level/\n",
      "tilingMPRA_OL13/tilingMPRA_OL13/element_level/element_level_all_result.bed.gz\n",
      "tilingMPRA_OL13/tilingMPRA_OL13/merged_peak/\n",
      "tilingMPRA_OL13/tilingMPRA_OL13/merged_peak/merged_enhancer_peaks_in_either_orientation.bed.gz\n",
      "tilingMPRA_OL13/tilingMPRA_OL13/merged_peak/merged_repressor_peaks_in_either_orientation.bed.gz\n",
      "tilingMPRA_OL13/tilingMPRA_OL13/neg_ctrl.pdf\n",
      "tilingMPRA_OL13/tilingMPRA_OL13/neg_ctrl_region.txt\n",
      "tilingMPRA_OL13/tilingMPRA_OL13/overall.pdf\n",
      "tilingMPRA_OL13/__MACOSX/\n",
      "tilingMPRA_OL13/__MACOSX/._tilingMPRA_OL13\n",
      "tilingMPRA_OL45/\n",
      "tilingMPRA_OL45/tilingMPRA_OL45/\n",
      "tilingMPRA_OL45/tilingMPRA_OL45/compare_with_original.pdf\n",
      "tilingMPRA_OL45/tilingMPRA_OL45/compare_with_original.png\n",
      "tilingMPRA_OL45/tilingMPRA_OL45/element_level/\n",
      "tilingMPRA_OL45/tilingMPRA_OL45/element_level/element_level_all_result.bed.gz\n",
      "tilingMPRA_OL45/tilingMPRA_OL45/merged_peak/\n",
      "tilingMPRA_OL45/tilingMPRA_OL45/merged_peak/merged_enhancer_peaks_in_either_orientation.bed.gz\n",
      "tilingMPRA_OL45/tilingMPRA_OL45/merged_peak/merged_repressor_peaks_in_either_orientation.bed.gz\n",
      "tilingMPRA_OL45/tilingMPRA_OL45/neg_ctrl.pdf\n",
      "tilingMPRA_OL45/tilingMPRA_OL45/neg_ctrl_region.txt\n",
      "tilingMPRA_OL45/tilingMPRA_OL45/overall.pdf\n",
      "tilingMPRA_OL45/__MACOSX/\n",
      "tilingMPRA_OL45/__MACOSX/._tilingMPRA_OL45\n",
      "lentiMPRA/\n",
      "lentiMPRA/lentiMPRA/\n",
      "lentiMPRA/lentiMPRA/compare_with_original.pdf\n",
      "lentiMPRA/lentiMPRA/compare_with_original.png\n",
      "lentiMPRA/lentiMPRA/element_level/\n",
      "lentiMPRA/lentiMPRA/element_level/all_element_tested_in_both_orientations.bed.gz\n",
      "lentiMPRA/lentiMPRA/element_level/element_level_all_result.bed.gz\n",
      "lentiMPRA/lentiMPRA/merged_peak/\n",
      "lentiMPRA/lentiMPRA/merged_peak/merged_enhancer_peaks_in_either_orientation.bed.gz\n",
      "lentiMPRA/lentiMPRA/merged_peak/merged_enhancer_peak_orientation_independent.bed.gz\n",
      "lentiMPRA/lentiMPRA/merged_peak/merged_repressor_peaks_in_either_orientation.bed.gz\n",
      "lentiMPRA/lentiMPRA/neg_ctrl.pdf\n",
      "lentiMPRA/lentiMPRA/neg_ctrl_region.txt\n",
      "lentiMPRA/lentiMPRA/overall.pdf\n",
      "lentiMPRA/__MACOSX/\n",
      "lentiMPRA/__MACOSX/._lentiMPRA\n"
     ]
    }
   ],
   "source": [
    "tar -xvzf deep_ATAC_STARR_seq.genomic_bin_100_sliding_10.tar.gz\n",
    "tar -xvzf WHG_STARR_TR.tar.gz\n",
    "tar -xvzf tilingMPRA_MYC_GATA.tar.gz\n",
    "tar -xvzf tilingMPRA_OL13.tar.gz\n",
    "tar -xvzf tilingMPRA_OL45.tar.gz\n",
    "tar -xvzf lentiMPRA.tar.gz"
   ]
  },
  {
   "cell_type": "markdown",
   "id": "2f3b7229-0d56-4429-8cb5-24f70a94c529",
   "metadata": {},
   "source": [
    "**Check results**"
   ]
  },
  {
   "cell_type": "code",
   "execution_count": 11,
   "id": "a07799e7-98f5-486a-a022-2eb0c28f881b",
   "metadata": {},
   "outputs": [
    {
     "name": "stdout",
     "output_type": "stream",
     "text": [
      "\u001b[0m\u001b[38;5;9m/data/reddylab/Kuei/out/proj_combeffect_encode_fcc/source/annotation_enhancer_junke_zscore/deep_ATAC_STARR_seq.genomic_bin_100_sliding_10.tar.gz\u001b[0m\u001b[K\n",
      "/data/reddylab/Kuei/out/proj_combeffect_encode_fcc/source/annotation_enhancer_junke_zscore/Enhancer call file format documentation.docx\n",
      "\u001b[38;5;9m/data/reddylab/Kuei/out/proj_combeffect_encode_fcc/source/annotation_enhancer_junke_zscore/lentiMPRA.tar.gz\u001b[0m\u001b[K\n",
      "/data/reddylab/Kuei/out/proj_combeffect_encode_fcc/source/annotation_enhancer_junke_zscore/Note.md\n",
      "/data/reddylab/Kuei/out/proj_combeffect_encode_fcc/source/annotation_enhancer_junke_zscore/Readme.md\n",
      "\u001b[38;5;9m/data/reddylab/Kuei/out/proj_combeffect_encode_fcc/source/annotation_enhancer_junke_zscore/tilingMPRA_MYC_GATA.tar.gz\u001b[0m\u001b[K\n",
      "\u001b[38;5;9m/data/reddylab/Kuei/out/proj_combeffect_encode_fcc/source/annotation_enhancer_junke_zscore/tilingMPRA_OL13.tar.gz\u001b[0m\u001b[K\n",
      "\u001b[38;5;9m/data/reddylab/Kuei/out/proj_combeffect_encode_fcc/source/annotation_enhancer_junke_zscore/tilingMPRA_OL45.tar.gz\u001b[0m\u001b[K\n",
      "\u001b[38;5;9m/data/reddylab/Kuei/out/proj_combeffect_encode_fcc/source/annotation_enhancer_junke_zscore/WHG_STARR_TR.tar.gz\u001b[0m\u001b[K\n",
      "\n",
      "/data/reddylab/Kuei/out/proj_combeffect_encode_fcc/source/annotation_enhancer_junke_zscore/deep_ATAC_STARR_seq.genomic_bin_100_sliding_10:\n",
      "\u001b[38;5;27mATAC_STARR_seq\u001b[0m  \u001b[38;5;27m__MACOSX\u001b[0m\n",
      "\n",
      "/data/reddylab/Kuei/out/proj_combeffect_encode_fcc/source/annotation_enhancer_junke_zscore/lentiMPRA:\n",
      "\u001b[38;5;27mlentiMPRA\u001b[0m  \u001b[38;5;27m__MACOSX\u001b[0m\n",
      "\n",
      "/data/reddylab/Kuei/out/proj_combeffect_encode_fcc/source/annotation_enhancer_junke_zscore/tilingMPRA_MYC_GATA:\n",
      "\u001b[38;5;27m__MACOSX\u001b[0m  \u001b[38;5;27mtilingMPRA_MYC_GATA\u001b[0m\n",
      "\n",
      "/data/reddylab/Kuei/out/proj_combeffect_encode_fcc/source/annotation_enhancer_junke_zscore/tilingMPRA_OL13:\n",
      "\u001b[38;5;27m__MACOSX\u001b[0m  \u001b[38;5;27mtilingMPRA_OL13\u001b[0m\n",
      "\n",
      "/data/reddylab/Kuei/out/proj_combeffect_encode_fcc/source/annotation_enhancer_junke_zscore/tilingMPRA_OL45:\n",
      "\u001b[38;5;27m__MACOSX\u001b[0m  \u001b[38;5;27mtilingMPRA_OL45\u001b[0m\n",
      "\n",
      "/data/reddylab/Kuei/out/proj_combeffect_encode_fcc/source/annotation_enhancer_junke_zscore/WHG_STARR_TR:\n",
      "\u001b[38;5;27m__MACOSX\u001b[0m  \u001b[38;5;27mWHG_STARR_TR\u001b[0m\n",
      "\n",
      "/data/reddylab/Kuei/out/proj_combeffect_encode_fcc/source/annotation_enhancer_junke_zscore/zold_MPRA:\n",
      "\u001b[38;5;27mlentiMPRA\u001b[0m            \u001b[38;5;9mtilingMPRA_GATA_MYC.tar.gz\u001b[0m  \u001b[38;5;27mtilingMPRA_OL45\u001b[0m\n",
      "\u001b[38;5;9mlentiMPRA.tar.gz\u001b[0m     \u001b[38;5;27mtilingMPRA_OL13\u001b[0m             \u001b[38;5;9mtilingMPRA_OL45.tar.gz\u001b[0m\n",
      "\u001b[38;5;27mtilingMPRA_GATA_MYC\u001b[0m  \u001b[38;5;9mtilingMPRA_OL13.tar.gz\u001b[0m\n"
     ]
    }
   ],
   "source": [
    "FDIRY=${FD_RES}/source/annotation_enhancer_junke_zscore\n",
    "ls ${FDIRY}/*"
   ]
  },
  {
   "cell_type": "code",
   "execution_count": 12,
   "id": "65aa1208",
   "metadata": {},
   "outputs": [
    {
     "name": "stdout",
     "output_type": "stream",
     "text": [
      "\u001b[0m\u001b[38;5;27mbin_level\u001b[0m\n",
      "\u001b[38;5;27mmerged_peak\u001b[0m\n",
      "\u001b[38;5;34mneg_ctrl_region.txt\u001b[0m\n",
      "\n",
      "\u001b[0m\u001b[38;5;34mmerged_enhancer_peak_orientation_independent.bed.gz\u001b[0m\n",
      "\u001b[38;5;34mmerged_enhancer_peaks_in_either_orientation.bed.gz\u001b[0m\n",
      "\u001b[38;5;34mmerged_repressor_peaks_in_either_orientation.bed.gz\u001b[0m\n"
     ]
    }
   ],
   "source": [
    "FDIRY=${FD_RES}/source/annotation_enhancer_junke_zscore\n",
    "FDIRY=${FDIRY}/deep_ATAC_STARR_seq.genomic_bin_100_sliding_10/ATAC_STARR_seq\n",
    "ls -1 ${FDIRY}\n",
    "echo\n",
    "ls -1 ${FDIRY}/merged_peak"
   ]
  },
  {
   "cell_type": "code",
   "execution_count": 13,
   "id": "bdae1268-f287-43b1-8fff-9fafc4eabe4d",
   "metadata": {},
   "outputs": [
    {
     "name": "stdout",
     "output_type": "stream",
     "text": [
      "\u001b[0m\u001b[38;5;27mbin_level\u001b[0m\n",
      "\u001b[38;5;27mmerged_peak\u001b[0m\n",
      "\u001b[38;5;34mneg_ctrl_region.txt\u001b[0m\n",
      "\n",
      "\u001b[0m\u001b[38;5;34mmerged_enhancer_peak_orientation_independent.bed.gz\u001b[0m\n",
      "\u001b[38;5;34mmerged_enhancer_peaks_in_either_orientation.bed.gz\u001b[0m\n",
      "\u001b[38;5;34mmerged_repressor_peaks_in_either_orientation.bed.gz\u001b[0m\n"
     ]
    }
   ],
   "source": [
    "FDIRY=${FD_RES}/source/annotation_enhancer_junke_zscore\n",
    "FDIRY=${FDIRY}/WHG_STARR_TR/WHG_STARR_TR\n",
    "ls -1 ${FDIRY}\n",
    "echo\n",
    "ls -1 ${FDIRY}/merged_peak"
   ]
  },
  {
   "cell_type": "code",
   "execution_count": 23,
   "id": "e830a431-a684-450e-bf4f-4d5ed41956fb",
   "metadata": {},
   "outputs": [
    {
     "name": "stdout",
     "output_type": "stream",
     "text": [
      "\u001b[0m\u001b[38;5;34mcompare_with_original.pdf\u001b[0m\n",
      "\u001b[38;5;34mcompare_with_original.png\u001b[0m\n",
      "\u001b[38;5;27melement_level\u001b[0m\n",
      "\u001b[38;5;27mmerged_peak\u001b[0m\n",
      "\u001b[38;5;34mneg_ctrl.pdf\u001b[0m\n",
      "\u001b[38;5;34mneg_ctrl_region.txt\u001b[0m\n",
      "\u001b[38;5;34moverall.pdf\u001b[0m\n",
      "\n",
      "\u001b[0m\u001b[38;5;34mmerged_enhancer_peaks_in_either_orientation.bed.gz\u001b[0m\n",
      "\u001b[38;5;34mmerged_repressor_peaks_in_either_orientation.bed.gz\u001b[0m\n"
     ]
    }
   ],
   "source": [
    "FDIRY=${FD_RES}/source/annotation_enhancer_junke_zscore\n",
    "FDIRY=${FDIRY}/tilingMPRA_MYC_GATA/tilingMPRA_MYC_GATA #/z_score_processed\n",
    "ls -1 ${FDIRY}\n",
    "echo\n",
    "ls -1 ${FDIRY}/merged_peak"
   ]
  },
  {
   "cell_type": "code",
   "execution_count": 24,
   "id": "b3583d99-443d-4cd2-9cb7-a027a2c81a75",
   "metadata": {},
   "outputs": [
    {
     "name": "stdout",
     "output_type": "stream",
     "text": [
      "\u001b[0m\u001b[38;5;34mcompare_with_original.pdf\u001b[0m\n",
      "\u001b[38;5;34mcompare_with_original.png\u001b[0m\n",
      "\u001b[38;5;27melement_level\u001b[0m\n",
      "\u001b[38;5;27mmerged_peak\u001b[0m\n",
      "\u001b[38;5;34mneg_ctrl.pdf\u001b[0m\n",
      "\u001b[38;5;34mneg_ctrl_region.txt\u001b[0m\n",
      "\u001b[38;5;34moverall.pdf\u001b[0m\n",
      "\n",
      "\u001b[0m\u001b[38;5;34mmerged_enhancer_peaks_in_either_orientation.bed.gz\u001b[0m\n",
      "\u001b[38;5;34mmerged_repressor_peaks_in_either_orientation.bed.gz\u001b[0m\n"
     ]
    }
   ],
   "source": [
    "FDIRY=${FD_RES}/source/annotation_enhancer_junke_zscore\n",
    "FDIRY=${FDIRY}/tilingMPRA_OL13/tilingMPRA_OL13 #/z_score_processed\n",
    "ls -1 ${FDIRY}\n",
    "echo\n",
    "ls -1 ${FDIRY}/merged_peak"
   ]
  },
  {
   "cell_type": "code",
   "execution_count": 25,
   "id": "e45e5658-9b59-4ea2-aaf5-c67902ce5e5f",
   "metadata": {},
   "outputs": [
    {
     "name": "stdout",
     "output_type": "stream",
     "text": [
      "\u001b[0m\u001b[38;5;34mcompare_with_original.pdf\u001b[0m\n",
      "\u001b[38;5;34mcompare_with_original.png\u001b[0m\n",
      "\u001b[38;5;27melement_level\u001b[0m\n",
      "\u001b[38;5;27mmerged_peak\u001b[0m\n",
      "\u001b[38;5;34mneg_ctrl.pdf\u001b[0m\n",
      "\u001b[38;5;34mneg_ctrl_region.txt\u001b[0m\n",
      "\u001b[38;5;34moverall.pdf\u001b[0m\n",
      "\n",
      "\u001b[0m\u001b[38;5;34mmerged_enhancer_peaks_in_either_orientation.bed.gz\u001b[0m\n",
      "\u001b[38;5;34mmerged_repressor_peaks_in_either_orientation.bed.gz\u001b[0m\n"
     ]
    }
   ],
   "source": [
    "FDIRY=${FD_RES}/source/annotation_enhancer_junke_zscore\n",
    "FDIRY=${FDIRY}/tilingMPRA_OL45/tilingMPRA_OL45 #/z_score_processed\n",
    "ls -1 ${FDIRY}\n",
    "echo\n",
    "ls -1 ${FDIRY}/merged_peak"
   ]
  },
  {
   "cell_type": "code",
   "execution_count": 26,
   "id": "e90e2691-0d67-41b4-95a8-de8f1109438c",
   "metadata": {},
   "outputs": [
    {
     "name": "stdout",
     "output_type": "stream",
     "text": [
      "\u001b[0m\u001b[38;5;34mcompare_with_original.pdf\u001b[0m\n",
      "\u001b[38;5;34mcompare_with_original.png\u001b[0m\n",
      "\u001b[38;5;27melement_level\u001b[0m\n",
      "\u001b[38;5;27mmerged_peak\u001b[0m\n",
      "\u001b[38;5;34mneg_ctrl.pdf\u001b[0m\n",
      "\u001b[38;5;34mneg_ctrl_region.txt\u001b[0m\n",
      "\u001b[38;5;34moverall.pdf\u001b[0m\n",
      "\n",
      "\u001b[0m\u001b[38;5;34mmerged_enhancer_peak_orientation_independent.bed.gz\u001b[0m\n",
      "\u001b[38;5;34mmerged_enhancer_peaks_in_either_orientation.bed.gz\u001b[0m\n",
      "\u001b[38;5;34mmerged_repressor_peaks_in_either_orientation.bed.gz\u001b[0m\n"
     ]
    }
   ],
   "source": [
    "FDIRY=${FD_RES}/source/annotation_enhancer_junke_zscore\n",
    "FDIRY=${FDIRY}/lentiMPRA/lentiMPRA\n",
    "ls -1 ${FDIRY}\n",
    "echo\n",
    "ls -1 ${FDIRY}/merged_peak"
   ]
  },
  {
   "cell_type": "code",
   "execution_count": null,
   "id": "75482139-5b63-4bd5-9d34-a725dcf0c33c",
   "metadata": {},
   "outputs": [],
   "source": []
  }
 ],
 "metadata": {
  "kernelspec": {
   "display_name": "Bash",
   "language": "bash",
   "name": "bash"
  },
  "language_info": {
   "codemirror_mode": "shell",
   "file_extension": ".sh",
   "mimetype": "text/x-sh",
   "name": "bash"
  }
 },
 "nbformat": 4,
 "nbformat_minor": 5
}
