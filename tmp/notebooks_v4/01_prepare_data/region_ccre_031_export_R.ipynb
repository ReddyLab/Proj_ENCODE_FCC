{
 "cells": [
  {
   "cell_type": "markdown",
   "metadata": {},
   "source": [
    "**Set environment**"
   ]
  },
  {
   "cell_type": "code",
   "execution_count": 1,
   "metadata": {},
   "outputs": [
    {
     "name": "stdout",
     "output_type": "stream",
     "text": [
      "You are in Singularity: singularity_proj_encode_fcc \n",
      "BASE DIRECTORY (FD_BASE): /data/reddylab/Kuei \n",
      "WORK DIRECTORY (FD_WORK): /data/reddylab/Kuei/out \n",
      "CODE DIRECTORY (FD_CODE): /data/reddylab/Kuei/code \n",
      "PATH OF PROJECT (FD_PRJ): /data/reddylab/Kuei/code/Proj_CombEffect_ENCODE_FCC \n",
      "PATH OF RESULTS (FD_RES): /data/reddylab/Kuei/out/proj_combeffect_encode_fcc \n",
      "PATH OF LOG     (FD_LOG): /data/reddylab/Kuei/out/proj_combeffect_encode_fcc/log \n"
     ]
    }
   ],
   "source": [
    "suppressMessages(suppressWarnings(source(\"../config/config_sing.R\")))\n",
    "show_env()"
   ]
  },
  {
   "cell_type": "markdown",
   "metadata": {},
   "source": [
    "## Import data"
   ]
  },
  {
   "cell_type": "code",
   "execution_count": 2,
   "metadata": {},
   "outputs": [
    {
     "name": "stderr",
     "output_type": "stream",
     "text": [
      "\u001b[1mRows: \u001b[22m\u001b[34m926535\u001b[39m \u001b[1mColumns: \u001b[22m\u001b[34m11\u001b[39m\n",
      "\u001b[36m──\u001b[39m \u001b[1mColumn specification\u001b[22m \u001b[36m─────────────────────────────────────────────────────────────────────\u001b[39m\n",
      "\u001b[1mDelimiter:\u001b[22m \"\\t\"\n",
      "\u001b[31mchr\u001b[39m (6): Chrom, Name, Strand, ItemRgb, Category, Note\n",
      "\u001b[32mdbl\u001b[39m (5): Start, End, Score, ThickStart, ThickEnd\n",
      "\n",
      "\u001b[36mℹ\u001b[39m Use `spec()` to retrieve the full column specification for this data.\n",
      "\u001b[36mℹ\u001b[39m Specify the column types or set `show_col_types = FALSE` to quiet this message.\n"
     ]
    },
    {
     "name": "stdout",
     "output_type": "stream",
     "text": [
      "[1] 926535     11\n"
     ]
    },
    {
     "data": {
      "text/html": [
       "<table class=\"dataframe\">\n",
       "<caption>A tibble: 6 × 11</caption>\n",
       "<thead>\n",
       "\t<tr><th scope=col>Chrom</th><th scope=col>Start</th><th scope=col>End</th><th scope=col>Name</th><th scope=col>Score</th><th scope=col>Strand</th><th scope=col>ThickStart</th><th scope=col>ThickEnd</th><th scope=col>ItemRgb</th><th scope=col>Category</th><th scope=col>Note</th></tr>\n",
       "\t<tr><th scope=col>&lt;chr&gt;</th><th scope=col>&lt;dbl&gt;</th><th scope=col>&lt;dbl&gt;</th><th scope=col>&lt;chr&gt;</th><th scope=col>&lt;dbl&gt;</th><th scope=col>&lt;chr&gt;</th><th scope=col>&lt;dbl&gt;</th><th scope=col>&lt;dbl&gt;</th><th scope=col>&lt;chr&gt;</th><th scope=col>&lt;chr&gt;</th><th scope=col>&lt;chr&gt;</th></tr>\n",
       "</thead>\n",
       "<tbody>\n",
       "\t<tr><td>chr1</td><td>181251</td><td>181601</td><td>EH38E1310153</td><td>0</td><td>.</td><td>181251</td><td>181601</td><td>6,218,147  </td><td>DNase-only    </td><td>All-data/Full-classification</td></tr>\n",
       "\t<tr><td>chr1</td><td>190865</td><td>191071</td><td>EH38E1310154</td><td>0</td><td>.</td><td>190865</td><td>191071</td><td>225,225,225</td><td>Low-DNase     </td><td>All-data/Full-classification</td></tr>\n",
       "\t<tr><td>chr1</td><td>778562</td><td>778912</td><td>EH38E1310158</td><td>0</td><td>.</td><td>778562</td><td>778912</td><td>255,0,0    </td><td>PLS,CTCF-bound</td><td>All-data/Full-classification</td></tr>\n",
       "\t<tr><td>chr1</td><td>779086</td><td>779355</td><td>EH38E1310159</td><td>0</td><td>.</td><td>779086</td><td>779355</td><td>255,0,0    </td><td>PLS           </td><td>All-data/Full-classification</td></tr>\n",
       "\t<tr><td>chr1</td><td>779727</td><td>780060</td><td>EH38E1310160</td><td>0</td><td>.</td><td>779727</td><td>780060</td><td>225,225,225</td><td>Low-DNase     </td><td>All-data/Full-classification</td></tr>\n",
       "\t<tr><td>chr1</td><td>790397</td><td>790626</td><td>EH38E1310162</td><td>0</td><td>.</td><td>790397</td><td>790626</td><td>225,225,225</td><td>Low-DNase     </td><td>All-data/Full-classification</td></tr>\n",
       "</tbody>\n",
       "</table>\n"
      ],
      "text/latex": [
       "A tibble: 6 × 11\n",
       "\\begin{tabular}{lllllllllll}\n",
       " Chrom & Start & End & Name & Score & Strand & ThickStart & ThickEnd & ItemRgb & Category & Note\\\\\n",
       " <chr> & <dbl> & <dbl> & <chr> & <dbl> & <chr> & <dbl> & <dbl> & <chr> & <chr> & <chr>\\\\\n",
       "\\hline\n",
       "\t chr1 & 181251 & 181601 & EH38E1310153 & 0 & . & 181251 & 181601 & 6,218,147   & DNase-only     & All-data/Full-classification\\\\\n",
       "\t chr1 & 190865 & 191071 & EH38E1310154 & 0 & . & 190865 & 191071 & 225,225,225 & Low-DNase      & All-data/Full-classification\\\\\n",
       "\t chr1 & 778562 & 778912 & EH38E1310158 & 0 & . & 778562 & 778912 & 255,0,0     & PLS,CTCF-bound & All-data/Full-classification\\\\\n",
       "\t chr1 & 779086 & 779355 & EH38E1310159 & 0 & . & 779086 & 779355 & 255,0,0     & PLS            & All-data/Full-classification\\\\\n",
       "\t chr1 & 779727 & 780060 & EH38E1310160 & 0 & . & 779727 & 780060 & 225,225,225 & Low-DNase      & All-data/Full-classification\\\\\n",
       "\t chr1 & 790397 & 790626 & EH38E1310162 & 0 & . & 790397 & 790626 & 225,225,225 & Low-DNase      & All-data/Full-classification\\\\\n",
       "\\end{tabular}\n"
      ],
      "text/markdown": [
       "\n",
       "A tibble: 6 × 11\n",
       "\n",
       "| Chrom &lt;chr&gt; | Start &lt;dbl&gt; | End &lt;dbl&gt; | Name &lt;chr&gt; | Score &lt;dbl&gt; | Strand &lt;chr&gt; | ThickStart &lt;dbl&gt; | ThickEnd &lt;dbl&gt; | ItemRgb &lt;chr&gt; | Category &lt;chr&gt; | Note &lt;chr&gt; |\n",
       "|---|---|---|---|---|---|---|---|---|---|---|\n",
       "| chr1 | 181251 | 181601 | EH38E1310153 | 0 | . | 181251 | 181601 | 6,218,147   | DNase-only     | All-data/Full-classification |\n",
       "| chr1 | 190865 | 191071 | EH38E1310154 | 0 | . | 190865 | 191071 | 225,225,225 | Low-DNase      | All-data/Full-classification |\n",
       "| chr1 | 778562 | 778912 | EH38E1310158 | 0 | . | 778562 | 778912 | 255,0,0     | PLS,CTCF-bound | All-data/Full-classification |\n",
       "| chr1 | 779086 | 779355 | EH38E1310159 | 0 | . | 779086 | 779355 | 255,0,0     | PLS            | All-data/Full-classification |\n",
       "| chr1 | 779727 | 780060 | EH38E1310160 | 0 | . | 779727 | 780060 | 225,225,225 | Low-DNase      | All-data/Full-classification |\n",
       "| chr1 | 790397 | 790626 | EH38E1310162 | 0 | . | 790397 | 790626 | 225,225,225 | Low-DNase      | All-data/Full-classification |\n",
       "\n"
      ],
      "text/plain": [
       "  Chrom Start  End    Name         Score Strand ThickStart ThickEnd ItemRgb    \n",
       "1 chr1  181251 181601 EH38E1310153 0     .      181251     181601   6,218,147  \n",
       "2 chr1  190865 191071 EH38E1310154 0     .      190865     191071   225,225,225\n",
       "3 chr1  778562 778912 EH38E1310158 0     .      778562     778912   255,0,0    \n",
       "4 chr1  779086 779355 EH38E1310159 0     .      779086     779355   255,0,0    \n",
       "5 chr1  779727 780060 EH38E1310160 0     .      779727     780060   225,225,225\n",
       "6 chr1  790397 790626 EH38E1310162 0     .      790397     790626   225,225,225\n",
       "  Category       Note                        \n",
       "1 DNase-only     All-data/Full-classification\n",
       "2 Low-DNase      All-data/Full-classification\n",
       "3 PLS,CTCF-bound All-data/Full-classification\n",
       "4 PLS            All-data/Full-classification\n",
       "5 Low-DNase      All-data/Full-classification\n",
       "6 Low-DNase      All-data/Full-classification"
      ]
     },
     "metadata": {},
     "output_type": "display_data"
    }
   ],
   "source": [
    "fdiry = file.path(FD_RES, \"source\", \"annotation_cCREs\")\n",
    "fname = \"ENCFF971AHO_ENCFF847JMY_ENCFF779QTH_ENCFF405AYC.7group.bed\"\n",
    "fpath = file.path(fdiry, fname)\n",
    "\n",
    "cnames = c(\n",
    "    \"Chrom\", \"Start\", \"End\", \"Name\", \"Score\", \"Strand\", \n",
    "    \"ThickStart\", \"ThickEnd\", \"ItemRgb\", \n",
    "    \"Category\", \"Note\")\n",
    "dat = read_tsv(fpath, col_names = cnames)\n",
    "\n",
    "dat_ccre_v3 = dat\n",
    "print(dim(dat))\n",
    "head(dat)"
   ]
  },
  {
   "cell_type": "code",
   "execution_count": 3,
   "metadata": {},
   "outputs": [
    {
     "name": "stderr",
     "output_type": "stream",
     "text": [
      "\u001b[1mRows: \u001b[22m\u001b[34m2348854\u001b[39m \u001b[1mColumns: \u001b[22m\u001b[34m11\u001b[39m\n",
      "\u001b[36m──\u001b[39m \u001b[1mColumn specification\u001b[22m \u001b[36m─────────────────────────────────────────────────────────────────────\u001b[39m\n",
      "\u001b[1mDelimiter:\u001b[22m \"\\t\"\n",
      "\u001b[31mchr\u001b[39m (6): Chrom, Name, Strand, ItemRgb, Category, Note\n",
      "\u001b[32mdbl\u001b[39m (5): Start, End, Score, ThickStart, ThickEnd\n",
      "\n",
      "\u001b[36mℹ\u001b[39m Use `spec()` to retrieve the full column specification for this data.\n",
      "\u001b[36mℹ\u001b[39m Specify the column types or set `show_col_types = FALSE` to quiet this message.\n"
     ]
    },
    {
     "name": "stdout",
     "output_type": "stream",
     "text": [
      "[1] 2348854      11\n"
     ]
    },
    {
     "data": {
      "text/html": [
       "<table class=\"dataframe\">\n",
       "<caption>A tibble: 6 × 11</caption>\n",
       "<thead>\n",
       "\t<tr><th scope=col>Chrom</th><th scope=col>Start</th><th scope=col>End</th><th scope=col>Name</th><th scope=col>Score</th><th scope=col>Strand</th><th scope=col>ThickStart</th><th scope=col>ThickEnd</th><th scope=col>ItemRgb</th><th scope=col>Category</th><th scope=col>Note</th></tr>\n",
       "\t<tr><th scope=col>&lt;chr&gt;</th><th scope=col>&lt;dbl&gt;</th><th scope=col>&lt;dbl&gt;</th><th scope=col>&lt;chr&gt;</th><th scope=col>&lt;dbl&gt;</th><th scope=col>&lt;chr&gt;</th><th scope=col>&lt;dbl&gt;</th><th scope=col>&lt;dbl&gt;</th><th scope=col>&lt;chr&gt;</th><th scope=col>&lt;chr&gt;</th><th scope=col>&lt;chr&gt;</th></tr>\n",
       "</thead>\n",
       "<tbody>\n",
       "\t<tr><td>chr1</td><td>10033</td><td>10250</td><td>EH38E2776516</td><td>0</td><td>.</td><td>10033</td><td>10250</td><td>225,225,225</td><td>Low-DNase</td><td>All-data/Full-classification</td></tr>\n",
       "\t<tr><td>chr1</td><td>10385</td><td>10713</td><td>EH38E2776517</td><td>0</td><td>.</td><td>10385</td><td>10713</td><td>225,225,225</td><td>Low-DNase</td><td>All-data/Full-classification</td></tr>\n",
       "\t<tr><td>chr1</td><td>16097</td><td>16381</td><td>EH38E3951272</td><td>0</td><td>.</td><td>16097</td><td>16381</td><td>225,225,225</td><td>Low-DNase</td><td>All-data/Full-classification</td></tr>\n",
       "\t<tr><td>chr1</td><td>17343</td><td>17642</td><td>EH38E3951273</td><td>0</td><td>.</td><td>17343</td><td>17642</td><td>225,225,225</td><td>Low-DNase</td><td>All-data/Full-classification</td></tr>\n",
       "\t<tr><td>chr1</td><td>29320</td><td>29517</td><td>EH38E3951274</td><td>0</td><td>.</td><td>29320</td><td>29517</td><td>225,225,225</td><td>Low-DNase</td><td>All-data/Full-classification</td></tr>\n",
       "\t<tr><td>chr1</td><td>66350</td><td>66509</td><td>EH38E3951275</td><td>0</td><td>.</td><td>66350</td><td>66509</td><td>225,225,225</td><td>Low-DNase</td><td>All-data/Full-classification</td></tr>\n",
       "</tbody>\n",
       "</table>\n"
      ],
      "text/latex": [
       "A tibble: 6 × 11\n",
       "\\begin{tabular}{lllllllllll}\n",
       " Chrom & Start & End & Name & Score & Strand & ThickStart & ThickEnd & ItemRgb & Category & Note\\\\\n",
       " <chr> & <dbl> & <dbl> & <chr> & <dbl> & <chr> & <dbl> & <dbl> & <chr> & <chr> & <chr>\\\\\n",
       "\\hline\n",
       "\t chr1 & 10033 & 10250 & EH38E2776516 & 0 & . & 10033 & 10250 & 225,225,225 & Low-DNase & All-data/Full-classification\\\\\n",
       "\t chr1 & 10385 & 10713 & EH38E2776517 & 0 & . & 10385 & 10713 & 225,225,225 & Low-DNase & All-data/Full-classification\\\\\n",
       "\t chr1 & 16097 & 16381 & EH38E3951272 & 0 & . & 16097 & 16381 & 225,225,225 & Low-DNase & All-data/Full-classification\\\\\n",
       "\t chr1 & 17343 & 17642 & EH38E3951273 & 0 & . & 17343 & 17642 & 225,225,225 & Low-DNase & All-data/Full-classification\\\\\n",
       "\t chr1 & 29320 & 29517 & EH38E3951274 & 0 & . & 29320 & 29517 & 225,225,225 & Low-DNase & All-data/Full-classification\\\\\n",
       "\t chr1 & 66350 & 66509 & EH38E3951275 & 0 & . & 66350 & 66509 & 225,225,225 & Low-DNase & All-data/Full-classification\\\\\n",
       "\\end{tabular}\n"
      ],
      "text/markdown": [
       "\n",
       "A tibble: 6 × 11\n",
       "\n",
       "| Chrom &lt;chr&gt; | Start &lt;dbl&gt; | End &lt;dbl&gt; | Name &lt;chr&gt; | Score &lt;dbl&gt; | Strand &lt;chr&gt; | ThickStart &lt;dbl&gt; | ThickEnd &lt;dbl&gt; | ItemRgb &lt;chr&gt; | Category &lt;chr&gt; | Note &lt;chr&gt; |\n",
       "|---|---|---|---|---|---|---|---|---|---|---|\n",
       "| chr1 | 10033 | 10250 | EH38E2776516 | 0 | . | 10033 | 10250 | 225,225,225 | Low-DNase | All-data/Full-classification |\n",
       "| chr1 | 10385 | 10713 | EH38E2776517 | 0 | . | 10385 | 10713 | 225,225,225 | Low-DNase | All-data/Full-classification |\n",
       "| chr1 | 16097 | 16381 | EH38E3951272 | 0 | . | 16097 | 16381 | 225,225,225 | Low-DNase | All-data/Full-classification |\n",
       "| chr1 | 17343 | 17642 | EH38E3951273 | 0 | . | 17343 | 17642 | 225,225,225 | Low-DNase | All-data/Full-classification |\n",
       "| chr1 | 29320 | 29517 | EH38E3951274 | 0 | . | 29320 | 29517 | 225,225,225 | Low-DNase | All-data/Full-classification |\n",
       "| chr1 | 66350 | 66509 | EH38E3951275 | 0 | . | 66350 | 66509 | 225,225,225 | Low-DNase | All-data/Full-classification |\n",
       "\n"
      ],
      "text/plain": [
       "  Chrom Start End   Name         Score Strand ThickStart ThickEnd ItemRgb    \n",
       "1 chr1  10033 10250 EH38E2776516 0     .      10033      10250    225,225,225\n",
       "2 chr1  10385 10713 EH38E2776517 0     .      10385      10713    225,225,225\n",
       "3 chr1  16097 16381 EH38E3951272 0     .      16097      16381    225,225,225\n",
       "4 chr1  17343 17642 EH38E3951273 0     .      17343      17642    225,225,225\n",
       "5 chr1  29320 29517 EH38E3951274 0     .      29320      29517    225,225,225\n",
       "6 chr1  66350 66509 EH38E3951275 0     .      66350      66509    225,225,225\n",
       "  Category  Note                        \n",
       "1 Low-DNase All-data/Full-classification\n",
       "2 Low-DNase All-data/Full-classification\n",
       "3 Low-DNase All-data/Full-classification\n",
       "4 Low-DNase All-data/Full-classification\n",
       "5 Low-DNase All-data/Full-classification\n",
       "6 Low-DNase All-data/Full-classification"
      ]
     },
     "metadata": {},
     "output_type": "display_data"
    }
   ],
   "source": [
    "fdiry = file.path(FD_RES, \"source\", \"annotation_cCREs\")\n",
    "fname = \"K562.ENCSR913HQX.ENCFF286VQG.ccres.bed.gz\"\n",
    "fpath = file.path(fdiry, fname)\n",
    "\n",
    "cnames = c(\n",
    "    \"Chrom\", \"Start\", \"End\", \"Name\", \"Score\", \"Strand\", \n",
    "    \"ThickStart\", \"ThickEnd\", \"ItemRgb\", \n",
    "    \"Category\", \"Note\")\n",
    "dat = read_tsv(fpath, col_names = cnames)\n",
    "\n",
    "dat_ccre_v4 = dat\n",
    "print(dim(dat))\n",
    "head(dat)"
   ]
  },
  {
   "cell_type": "code",
   "execution_count": 4,
   "metadata": {},
   "outputs": [
    {
     "data": {
      "text/plain": [
       "\n",
       "All-data/Full-classification \n",
       "                      926535 "
      ]
     },
     "metadata": {},
     "output_type": "display_data"
    }
   ],
   "source": [
    "table(dat_ccre_v3$Note)"
   ]
  },
  {
   "cell_type": "code",
   "execution_count": 5,
   "metadata": {},
   "outputs": [
    {
     "data": {
      "text/plain": [
       "\n",
       "All-data/Full-classification \n",
       "                     2348854 "
      ]
     },
     "metadata": {},
     "output_type": "display_data"
    }
   ],
   "source": [
    "table(dat_ccre_v4$Note)"
   ]
  },
  {
   "cell_type": "markdown",
   "metadata": {},
   "source": [
    "## Data dictionary"
   ]
  },
  {
   "cell_type": "code",
   "execution_count": 6,
   "metadata": {},
   "outputs": [
    {
     "data": {
      "text/html": [
       "<table class=\"dataframe\">\n",
       "<caption>A tibble: 11 × 2</caption>\n",
       "<thead>\n",
       "\t<tr><th scope=col>Name</th><th scope=col>Description</th></tr>\n",
       "\t<tr><th scope=col>&lt;chr&gt;</th><th scope=col>&lt;chr&gt;</th></tr>\n",
       "</thead>\n",
       "<tbody>\n",
       "\t<tr><td>Chrom     </td><td>Chromosome                                                 </td></tr>\n",
       "\t<tr><td>Start     </td><td>Start position                                             </td></tr>\n",
       "\t<tr><td>End       </td><td>End position                                               </td></tr>\n",
       "\t<tr><td>Name      </td><td>Name                                                       </td></tr>\n",
       "\t<tr><td>Score     </td><td>Score                                                      </td></tr>\n",
       "\t<tr><td>Strand    </td><td>[+-.]; Use '.' if no strand is assigned.                   </td></tr>\n",
       "\t<tr><td>ThickStart</td><td>The starting position at which the feature is drawn thickly</td></tr>\n",
       "\t<tr><td>ThickEnd  </td><td>The ending position at which the feature is drawn thickly  </td></tr>\n",
       "\t<tr><td>ItemRgb   </td><td>An RGB value of the form R,G,B (e.g. 255,0,0)              </td></tr>\n",
       "\t<tr><td>Category  </td><td>Label of cCREs type                                        </td></tr>\n",
       "\t<tr><td>Note      </td><td>Description                                                </td></tr>\n",
       "</tbody>\n",
       "</table>\n"
      ],
      "text/latex": [
       "A tibble: 11 × 2\n",
       "\\begin{tabular}{ll}\n",
       " Name & Description\\\\\n",
       " <chr> & <chr>\\\\\n",
       "\\hline\n",
       "\t Chrom      & Chromosome                                                 \\\\\n",
       "\t Start      & Start position                                             \\\\\n",
       "\t End        & End position                                               \\\\\n",
       "\t Name       & Name                                                       \\\\\n",
       "\t Score      & Score                                                      \\\\\n",
       "\t Strand     & {[}+-.{]}; Use '.' if no strand is assigned.                   \\\\\n",
       "\t ThickStart & The starting position at which the feature is drawn thickly\\\\\n",
       "\t ThickEnd   & The ending position at which the feature is drawn thickly  \\\\\n",
       "\t ItemRgb    & An RGB value of the form R,G,B (e.g. 255,0,0)              \\\\\n",
       "\t Category   & Label of cCREs type                                        \\\\\n",
       "\t Note       & Description                                                \\\\\n",
       "\\end{tabular}\n"
      ],
      "text/markdown": [
       "\n",
       "A tibble: 11 × 2\n",
       "\n",
       "| Name &lt;chr&gt; | Description &lt;chr&gt; |\n",
       "|---|---|\n",
       "| Chrom      | Chromosome                                                  |\n",
       "| Start      | Start position                                              |\n",
       "| End        | End position                                                |\n",
       "| Name       | Name                                                        |\n",
       "| Score      | Score                                                       |\n",
       "| Strand     | [+-.]; Use '.' if no strand is assigned.                    |\n",
       "| ThickStart | The starting position at which the feature is drawn thickly |\n",
       "| ThickEnd   | The ending position at which the feature is drawn thickly   |\n",
       "| ItemRgb    | An RGB value of the form R,G,B (e.g. 255,0,0)               |\n",
       "| Category   | Label of cCREs type                                         |\n",
       "| Note       | Description                                                 |\n",
       "\n"
      ],
      "text/plain": [
       "   Name       Description                                                \n",
       "1  Chrom      Chromosome                                                 \n",
       "2  Start      Start position                                             \n",
       "3  End        End position                                               \n",
       "4  Name       Name                                                       \n",
       "5  Score      Score                                                      \n",
       "6  Strand     [+-.]; Use '.' if no strand is assigned.                   \n",
       "7  ThickStart The starting position at which the feature is drawn thickly\n",
       "8  ThickEnd   The ending position at which the feature is drawn thickly  \n",
       "9  ItemRgb    An RGB value of the form R,G,B (e.g. 255,0,0)              \n",
       "10 Category   Label of cCREs type                                        \n",
       "11 Note       Description                                                "
      ]
     },
     "metadata": {},
     "output_type": "display_data"
    }
   ],
   "source": [
    "dat_cnames = tribble(\n",
    "    ~Name,         ~Description,\n",
    "    \"Chrom\",       \"Chromosome\",\n",
    "    \"Start\",       \"Start position\",\n",
    "    \"End\",         \"End position\",\n",
    "    \"Name\",        \"Name\",\n",
    "    \"Score\",       \"Score\",\n",
    "    \"Strand\",      \"[+-.]; Use '.' if no strand is assigned.\",\n",
    "    \"ThickStart\",  \"The starting position at which the feature is drawn thickly\",\n",
    "    \"ThickEnd\",    \"The ending position at which the feature is drawn thickly\",\n",
    "    \"ItemRgb\",     \"An RGB value of the form R,G,B (e.g. 255,0,0)\",\n",
    "    \"Category\",    \"Label of cCREs type\",\n",
    "    \"Note\",        \"Description\"\n",
    ")\n",
    "\n",
    "dat_cnames"
   ]
  },
  {
   "cell_type": "markdown",
   "metadata": {},
   "source": [
    "## Save tables"
   ]
  },
  {
   "cell_type": "code",
   "execution_count": 7,
   "metadata": {},
   "outputs": [],
   "source": [
    "fdiry = file.path(FD_RES, \"results\", \"region\", \"annotation_ccres\")\n",
    "fname = \"description.tsv\"\n",
    "fpath = file.path(fdiry, fname)\n",
    "\n",
    "dat = dat_cnames\n",
    "write_tsv(dat, fpath)"
   ]
  },
  {
   "cell_type": "code",
   "execution_count": 8,
   "metadata": {},
   "outputs": [],
   "source": [
    "fdiry = file.path(FD_RES, \"results\", \"region\", \"annotation_ccres\")\n",
    "fname = \"ccres_v3.bed.gz\"\n",
    "fpath = file.path(fdiry, fname)\n",
    "\n",
    "dat = dat_ccre_v3\n",
    "write_tsv(dat, fpath, col_names=FALSE)"
   ]
  },
  {
   "cell_type": "code",
   "execution_count": 9,
   "metadata": {},
   "outputs": [],
   "source": [
    "fdiry = file.path(FD_RES, \"results\", \"region\", \"annotation_ccres\")\n",
    "fname = \"ccres_v4.bed.gz\"\n",
    "fpath = file.path(fdiry, fname)\n",
    "\n",
    "dat = dat_ccre_v4\n",
    "write_tsv(dat, fpath, col_names=FALSE)"
   ]
  },
  {
   "cell_type": "code",
   "execution_count": null,
   "metadata": {},
   "outputs": [],
   "source": []
  }
 ],
 "metadata": {
  "kernelspec": {
   "display_name": "R",
   "language": "R",
   "name": "ir"
  },
  "language_info": {
   "codemirror_mode": "r",
   "file_extension": ".r",
   "mimetype": "text/x-r-source",
   "name": "R",
   "pygments_lexer": "r",
   "version": "4.3.1"
  }
 },
 "nbformat": 4,
 "nbformat_minor": 4
}
