{
 "cells": [
  {
   "cell_type": "markdown",
   "metadata": {},
   "source": [
    "https://www.ncbi.nlm.nih.gov/genome/guide/human/#download"
   ]
  },
  {
   "cell_type": "markdown",
   "metadata": {},
   "source": [
    "**Set environment**"
   ]
  },
  {
   "cell_type": "code",
   "execution_count": 1,
   "metadata": {},
   "outputs": [
    {
     "name": "stdout",
     "output_type": "stream",
     "text": [
      "You are in Singularity: singularity_proj_encode_fcc \n",
      "BASE DIRECTORY (FD_BASE): /data/reddylab/Kuei \n",
      "WORK DIRECTORY (FD_WORK): /data/reddylab/Kuei/out \n",
      "CODE DIRECTORY (FD_CODE): /data/reddylab/Kuei/code \n",
      "PATH OF PROJECT (FD_PRJ): /data/reddylab/Kuei/code/Proj_CombEffect_ENCODE_FCC \n",
      "PATH OF RESULTS (FD_RES): /data/reddylab/Kuei/out/proj_combeffect_encode_fcc \n",
      "PATH OF LOG     (FD_LOG): /data/reddylab/Kuei/out/proj_combeffect_encode_fcc/log \n"
     ]
    }
   ],
   "source": [
    "suppressWarnings(suppressMessages(source(\"../config/config_sing.R\")))\n",
    "show_env()"
   ]
  },
  {
   "cell_type": "markdown",
   "metadata": {},
   "source": [
    "**Check data**"
   ]
  },
  {
   "cell_type": "code",
   "execution_count": 2,
   "metadata": {},
   "outputs": [
    {
     "name": "stdout",
     "output_type": "stream",
     "text": [
      "[1] \"GRCh38_latest_genomic.20230315.gff.gz\"       \n",
      "[2] \"K562_TSS_selected_by_higest_Pol2_TSS_sig.out\"\n",
      "[3] \"Readme.md\"                                   \n"
     ]
    }
   ],
   "source": [
    "fdiry = file.path(FD_RES, \"source\", \"annotation_gene\")\n",
    "print(dir(fdiry))"
   ]
  },
  {
   "cell_type": "code",
   "execution_count": 3,
   "metadata": {},
   "outputs": [
    {
     "name": "stdout",
     "output_type": "stream",
     "text": [
      "##gff-version 3 \n",
      "#!gff-spec-version 1.21 \n",
      "#!processor NCBI annotwriter \n",
      "#!genome-build GRCh38.p14 \n",
      "#!genome-build-accession NCBI_Assembly:GCF_000001405.40 \n",
      "#!annotation-date 03/15/2023 \n",
      "#!annotation-source NCBI RefSeq GCF_000001405.40-RS_2023_03 \n",
      "##sequence-region NC_000001.11 1 248956422 \n",
      "##species https://www.ncbi.nlm.nih.gov/Taxonomy/Browser/wwwtax.cgi?id=9606 \n",
      "NC_000001.11\tRefSeq\tregion\t1\t248956422\t.\t+\t.\tID=NC_000001.11:1..248956422;Dbxref=taxon:9606;Name=1;chromosome=1;gbkey=Src;genome=chromosome;mol_type=genomic DNA \n"
     ]
    }
   ],
   "source": [
    "fdiry = file.path(FD_RES, \"source\", \"annotation_gene\")\n",
    "fname = \"GRCh38_latest_genomic.20230315.gff.gz\"\n",
    "fpath = file.path(fdiry, fname)\n",
    "\n",
    "txt = paste(\"zcat\", fpath, \"|\", \"head -n 10\")\n",
    "res = system(txt, intern = TRUE)\n",
    "for (x in res){cat(x, \"\\n\")}"
   ]
  },
  {
   "cell_type": "markdown",
   "metadata": {},
   "source": [
    "## Import data"
   ]
  },
  {
   "cell_type": "code",
   "execution_count": 4,
   "metadata": {},
   "outputs": [
    {
     "name": "stderr",
     "output_type": "stream",
     "text": [
      "\u001b[1mRows: \u001b[22m\u001b[34m30925\u001b[39m \u001b[1mColumns: \u001b[22m\u001b[34m7\u001b[39m\n",
      "\u001b[36m──\u001b[39m \u001b[1mColumn specification\u001b[22m \u001b[36m──────────────────────────────────────────────────────\u001b[39m\n",
      "\u001b[1mDelimiter:\u001b[22m \"\\t\"\n",
      "\u001b[31mchr\u001b[39m (5): Gene_Stable_ID, Gene_Stable_ID_Version, Gene_Name, Gene_Synonym, Tr...\n",
      "\u001b[32mdbl\u001b[39m (2): Length, TPM\n",
      "\n",
      "\u001b[36mℹ\u001b[39m Use `spec()` to retrieve the full column specification for this data.\n",
      "\u001b[36mℹ\u001b[39m Specify the column types or set `show_col_types = FALSE` to quiet this message.\n"
     ]
    },
    {
     "name": "stdout",
     "output_type": "stream",
     "text": [
      "[1] 30925     7\n"
     ]
    },
    {
     "data": {
      "text/html": [
       "<table class=\"dataframe\">\n",
       "<caption>A tibble: 6 × 7</caption>\n",
       "<thead>\n",
       "\t<tr><th scope=col>Gene_Stable_ID</th><th scope=col>Gene_Stable_ID_Version</th><th scope=col>Gene_Name</th><th scope=col>Gene_Synonym</th><th scope=col>Transcript_Stable_ID_Version</th><th scope=col>Length</th><th scope=col>TPM</th></tr>\n",
       "\t<tr><th scope=col>&lt;chr&gt;</th><th scope=col>&lt;chr&gt;</th><th scope=col>&lt;chr&gt;</th><th scope=col>&lt;chr&gt;</th><th scope=col>&lt;chr&gt;</th><th scope=col>&lt;dbl&gt;</th><th scope=col>&lt;dbl&gt;</th></tr>\n",
       "</thead>\n",
       "<tbody>\n",
       "\t<tr><td>ENSG00000125863</td><td>ENSG00000125863.19</td><td>MKKS</td><td>BBS6</td><td>ENST00000347364.7,ENST00000399054.6</td><td>2710.75</td><td> 4.04</td></tr>\n",
       "\t<tr><td>ENSG00000285508</td><td>ENSG00000285508.1 </td><td>MKKS</td><td>BBS6</td><td>ENST00000609375.1                  </td><td> 882.00</td><td> 5.05</td></tr>\n",
       "\t<tr><td>ENSG00000285723</td><td>ENSG00000285723.1 </td><td>MKKS</td><td>BBS6</td><td>ENST00000649912.1                  </td><td> 192.00</td><td>21.39</td></tr>\n",
       "\t<tr><td>ENSG00000125863</td><td>ENSG00000125863.19</td><td>MKKS</td><td>HMCS</td><td>ENST00000347364.7,ENST00000399054.6</td><td>2710.75</td><td> 4.04</td></tr>\n",
       "\t<tr><td>ENSG00000285508</td><td>ENSG00000285508.1 </td><td>MKKS</td><td>HMCS</td><td>ENST00000609375.1                  </td><td> 882.00</td><td> 5.05</td></tr>\n",
       "\t<tr><td>ENSG00000285723</td><td>ENSG00000285723.1 </td><td>MKKS</td><td>HMCS</td><td>ENST00000649912.1                  </td><td> 192.00</td><td>21.39</td></tr>\n",
       "</tbody>\n",
       "</table>\n"
      ],
      "text/latex": [
       "A tibble: 6 × 7\n",
       "\\begin{tabular}{lllllll}\n",
       " Gene\\_Stable\\_ID & Gene\\_Stable\\_ID\\_Version & Gene\\_Name & Gene\\_Synonym & Transcript\\_Stable\\_ID\\_Version & Length & TPM\\\\\n",
       " <chr> & <chr> & <chr> & <chr> & <chr> & <dbl> & <dbl>\\\\\n",
       "\\hline\n",
       "\t ENSG00000125863 & ENSG00000125863.19 & MKKS & BBS6 & ENST00000347364.7,ENST00000399054.6 & 2710.75 &  4.04\\\\\n",
       "\t ENSG00000285508 & ENSG00000285508.1  & MKKS & BBS6 & ENST00000609375.1                   &  882.00 &  5.05\\\\\n",
       "\t ENSG00000285723 & ENSG00000285723.1  & MKKS & BBS6 & ENST00000649912.1                   &  192.00 & 21.39\\\\\n",
       "\t ENSG00000125863 & ENSG00000125863.19 & MKKS & HMCS & ENST00000347364.7,ENST00000399054.6 & 2710.75 &  4.04\\\\\n",
       "\t ENSG00000285508 & ENSG00000285508.1  & MKKS & HMCS & ENST00000609375.1                   &  882.00 &  5.05\\\\\n",
       "\t ENSG00000285723 & ENSG00000285723.1  & MKKS & HMCS & ENST00000649912.1                   &  192.00 & 21.39\\\\\n",
       "\\end{tabular}\n"
      ],
      "text/markdown": [
       "\n",
       "A tibble: 6 × 7\n",
       "\n",
       "| Gene_Stable_ID &lt;chr&gt; | Gene_Stable_ID_Version &lt;chr&gt; | Gene_Name &lt;chr&gt; | Gene_Synonym &lt;chr&gt; | Transcript_Stable_ID_Version &lt;chr&gt; | Length &lt;dbl&gt; | TPM &lt;dbl&gt; |\n",
       "|---|---|---|---|---|---|---|\n",
       "| ENSG00000125863 | ENSG00000125863.19 | MKKS | BBS6 | ENST00000347364.7,ENST00000399054.6 | 2710.75 |  4.04 |\n",
       "| ENSG00000285508 | ENSG00000285508.1  | MKKS | BBS6 | ENST00000609375.1                   |  882.00 |  5.05 |\n",
       "| ENSG00000285723 | ENSG00000285723.1  | MKKS | BBS6 | ENST00000649912.1                   |  192.00 | 21.39 |\n",
       "| ENSG00000125863 | ENSG00000125863.19 | MKKS | HMCS | ENST00000347364.7,ENST00000399054.6 | 2710.75 |  4.04 |\n",
       "| ENSG00000285508 | ENSG00000285508.1  | MKKS | HMCS | ENST00000609375.1                   |  882.00 |  5.05 |\n",
       "| ENSG00000285723 | ENSG00000285723.1  | MKKS | HMCS | ENST00000649912.1                   |  192.00 | 21.39 |\n",
       "\n"
      ],
      "text/plain": [
       "  Gene_Stable_ID  Gene_Stable_ID_Version Gene_Name Gene_Synonym\n",
       "1 ENSG00000125863 ENSG00000125863.19     MKKS      BBS6        \n",
       "2 ENSG00000285508 ENSG00000285508.1      MKKS      BBS6        \n",
       "3 ENSG00000285723 ENSG00000285723.1      MKKS      BBS6        \n",
       "4 ENSG00000125863 ENSG00000125863.19     MKKS      HMCS        \n",
       "5 ENSG00000285508 ENSG00000285508.1      MKKS      HMCS        \n",
       "6 ENSG00000285723 ENSG00000285723.1      MKKS      HMCS        \n",
       "  Transcript_Stable_ID_Version        Length  TPM  \n",
       "1 ENST00000347364.7,ENST00000399054.6 2710.75  4.04\n",
       "2 ENST00000609375.1                    882.00  5.05\n",
       "3 ENST00000649912.1                    192.00 21.39\n",
       "4 ENST00000347364.7,ENST00000399054.6 2710.75  4.04\n",
       "5 ENST00000609375.1                    882.00  5.05\n",
       "6 ENST00000649912.1                    192.00 21.39"
      ]
     },
     "metadata": {},
     "output_type": "display_data"
    }
   ],
   "source": [
    "fdiry = file.path(FD_RES, \"source\", \"RNAseq\")\n",
    "fname = \"K562.ENCSR615EEK.ENCFF421TJX.RNAseq.filtered.mapped.tsv\"\n",
    "fpath = file.path(fdiry, fname)\n",
    "\n",
    "### read file\n",
    "dat = read_tsv(fpath)\n",
    "\n",
    "### assign and show\n",
    "dat_rnaseq_gene_filter = dat\n",
    "print(dim(dat))\n",
    "head(dat)"
   ]
  },
  {
   "cell_type": "code",
   "execution_count": 5,
   "metadata": {},
   "outputs": [
    {
     "name": "stderr",
     "output_type": "stream",
     "text": [
      "\u001b[1mRows: \u001b[22m\u001b[34m29330\u001b[39m \u001b[1mColumns: \u001b[22m\u001b[34m4\u001b[39m\n",
      "\u001b[36m──\u001b[39m \u001b[1mColumn specification\u001b[22m \u001b[36m──────────────────────────────────────────────────────\u001b[39m\n",
      "\u001b[1mDelimiter:\u001b[22m \"\\t\"\n",
      "\u001b[31mchr\u001b[39m (2): gene_name, chr\n",
      "\u001b[32mdbl\u001b[39m (2): TSS, TSS_POL2_sig\n",
      "\n",
      "\u001b[36mℹ\u001b[39m Use `spec()` to retrieve the full column specification for this data.\n",
      "\u001b[36mℹ\u001b[39m Specify the column types or set `show_col_types = FALSE` to quiet this message.\n"
     ]
    },
    {
     "name": "stdout",
     "output_type": "stream",
     "text": [
      "[1] 29330     4\n"
     ]
    },
    {
     "data": {
      "text/html": [
       "<table class=\"dataframe\">\n",
       "<caption>A tibble: 6 × 4</caption>\n",
       "<thead>\n",
       "\t<tr><th scope=col>gene_name</th><th scope=col>chr</th><th scope=col>TSS</th><th scope=col>TSS_POL2_sig</th></tr>\n",
       "\t<tr><th scope=col>&lt;chr&gt;</th><th scope=col>&lt;chr&gt;</th><th scope=col>&lt;dbl&gt;</th><th scope=col>&lt;dbl&gt;</th></tr>\n",
       "</thead>\n",
       "<tbody>\n",
       "\t<tr><td>A1BG-AS1</td><td>chr19</td><td>58351969</td><td>1.52180000</td></tr>\n",
       "\t<tr><td>A1BG    </td><td>chr19</td><td>58353492</td><td>5.62284000</td></tr>\n",
       "\t<tr><td>A1CF    </td><td>chr10</td><td>50885675</td><td>0.00706126</td></tr>\n",
       "\t<tr><td>A2M-AS1 </td><td>chr12</td><td> 9065176</td><td>0.00201544</td></tr>\n",
       "\t<tr><td>A2M     </td><td>chr12</td><td> 9115919</td><td>0.04005220</td></tr>\n",
       "\t<tr><td>A2ML1   </td><td>chr12</td><td> 8845003</td><td>0.26862300</td></tr>\n",
       "</tbody>\n",
       "</table>\n"
      ],
      "text/latex": [
       "A tibble: 6 × 4\n",
       "\\begin{tabular}{llll}\n",
       " gene\\_name & chr & TSS & TSS\\_POL2\\_sig\\\\\n",
       " <chr> & <chr> & <dbl> & <dbl>\\\\\n",
       "\\hline\n",
       "\t A1BG-AS1 & chr19 & 58351969 & 1.52180000\\\\\n",
       "\t A1BG     & chr19 & 58353492 & 5.62284000\\\\\n",
       "\t A1CF     & chr10 & 50885675 & 0.00706126\\\\\n",
       "\t A2M-AS1  & chr12 &  9065176 & 0.00201544\\\\\n",
       "\t A2M      & chr12 &  9115919 & 0.04005220\\\\\n",
       "\t A2ML1    & chr12 &  8845003 & 0.26862300\\\\\n",
       "\\end{tabular}\n"
      ],
      "text/markdown": [
       "\n",
       "A tibble: 6 × 4\n",
       "\n",
       "| gene_name &lt;chr&gt; | chr &lt;chr&gt; | TSS &lt;dbl&gt; | TSS_POL2_sig &lt;dbl&gt; |\n",
       "|---|---|---|---|\n",
       "| A1BG-AS1 | chr19 | 58351969 | 1.52180000 |\n",
       "| A1BG     | chr19 | 58353492 | 5.62284000 |\n",
       "| A1CF     | chr10 | 50885675 | 0.00706126 |\n",
       "| A2M-AS1  | chr12 |  9065176 | 0.00201544 |\n",
       "| A2M      | chr12 |  9115919 | 0.04005220 |\n",
       "| A2ML1    | chr12 |  8845003 | 0.26862300 |\n",
       "\n"
      ],
      "text/plain": [
       "  gene_name chr   TSS      TSS_POL2_sig\n",
       "1 A1BG-AS1  chr19 58351969 1.52180000  \n",
       "2 A1BG      chr19 58353492 5.62284000  \n",
       "3 A1CF      chr10 50885675 0.00706126  \n",
       "4 A2M-AS1   chr12  9065176 0.00201544  \n",
       "5 A2M       chr12  9115919 0.04005220  \n",
       "6 A2ML1     chr12  8845003 0.26862300  "
      ]
     },
     "metadata": {},
     "output_type": "display_data"
    }
   ],
   "source": [
    "### set file directory\n",
    "fdiry = file.path(FD_RES, \"source\", \"annotation_gene\")\n",
    "fname = \"K562_TSS_selected_by_higest_Pol2_TSS_sig.out\"\n",
    "fpath = file.path(fdiry, fname)\n",
    "\n",
    "### read file\n",
    "dat = read_tsv(fpath)\n",
    "\n",
    "### assign and show\n",
    "dat_gene_tss_pol2 = dat\n",
    "print(dim(dat))\n",
    "head(dat)"
   ]
  },
  {
   "cell_type": "markdown",
   "metadata": {},
   "source": [
    "## Construct a bed file"
   ]
  },
  {
   "cell_type": "code",
   "execution_count": 7,
   "metadata": {},
   "outputs": [
    {
     "name": "stdout",
     "output_type": "stream",
     "text": [
      "[1] 29330     5\n"
     ]
    },
    {
     "data": {
      "text/html": [
       "<table class=\"dataframe\">\n",
       "<caption>A tibble: 6 × 5</caption>\n",
       "<thead>\n",
       "\t<tr><th scope=col>Chrom</th><th scope=col>Start</th><th scope=col>End</th><th scope=col>Name</th><th scope=col>Score</th></tr>\n",
       "\t<tr><th scope=col>&lt;chr&gt;</th><th scope=col>&lt;dbl&gt;</th><th scope=col>&lt;dbl&gt;</th><th scope=col>&lt;chr&gt;</th><th scope=col>&lt;dbl&gt;</th></tr>\n",
       "</thead>\n",
       "<tbody>\n",
       "\t<tr><td>chr1</td><td>11873</td><td>11874</td><td>DDX11L1  </td><td>0.00023</td></tr>\n",
       "\t<tr><td>chr1</td><td>17436</td><td>17437</td><td>MIR6859-1</td><td>9.43812</td></tr>\n",
       "\t<tr><td>chr1</td><td>17436</td><td>17437</td><td>MIR6859-2</td><td>9.43812</td></tr>\n",
       "\t<tr><td>chr1</td><td>17436</td><td>17437</td><td>MIR6859-3</td><td>9.43812</td></tr>\n",
       "\t<tr><td>chr1</td><td>17436</td><td>17437</td><td>MIR6859-4</td><td>9.43812</td></tr>\n",
       "\t<tr><td>chr1</td><td>29370</td><td>29371</td><td>WASH7P   </td><td>0.00023</td></tr>\n",
       "</tbody>\n",
       "</table>\n"
      ],
      "text/latex": [
       "A tibble: 6 × 5\n",
       "\\begin{tabular}{lllll}\n",
       " Chrom & Start & End & Name & Score\\\\\n",
       " <chr> & <dbl> & <dbl> & <chr> & <dbl>\\\\\n",
       "\\hline\n",
       "\t chr1 & 11873 & 11874 & DDX11L1   & 0.00023\\\\\n",
       "\t chr1 & 17436 & 17437 & MIR6859-1 & 9.43812\\\\\n",
       "\t chr1 & 17436 & 17437 & MIR6859-2 & 9.43812\\\\\n",
       "\t chr1 & 17436 & 17437 & MIR6859-3 & 9.43812\\\\\n",
       "\t chr1 & 17436 & 17437 & MIR6859-4 & 9.43812\\\\\n",
       "\t chr1 & 29370 & 29371 & WASH7P    & 0.00023\\\\\n",
       "\\end{tabular}\n"
      ],
      "text/markdown": [
       "\n",
       "A tibble: 6 × 5\n",
       "\n",
       "| Chrom &lt;chr&gt; | Start &lt;dbl&gt; | End &lt;dbl&gt; | Name &lt;chr&gt; | Score &lt;dbl&gt; |\n",
       "|---|---|---|---|---|\n",
       "| chr1 | 11873 | 11874 | DDX11L1   | 0.00023 |\n",
       "| chr1 | 17436 | 17437 | MIR6859-1 | 9.43812 |\n",
       "| chr1 | 17436 | 17437 | MIR6859-2 | 9.43812 |\n",
       "| chr1 | 17436 | 17437 | MIR6859-3 | 9.43812 |\n",
       "| chr1 | 17436 | 17437 | MIR6859-4 | 9.43812 |\n",
       "| chr1 | 29370 | 29371 | WASH7P    | 0.00023 |\n",
       "\n"
      ],
      "text/plain": [
       "  Chrom Start End   Name      Score  \n",
       "1 chr1  11873 11874 DDX11L1   0.00023\n",
       "2 chr1  17436 17437 MIR6859-1 9.43812\n",
       "3 chr1  17436 17437 MIR6859-2 9.43812\n",
       "4 chr1  17436 17437 MIR6859-3 9.43812\n",
       "5 chr1  17436 17437 MIR6859-4 9.43812\n",
       "6 chr1  29370 29371 WASH7P    0.00023"
      ]
     },
     "metadata": {},
     "output_type": "display_data"
    }
   ],
   "source": [
    "dat = dat_gene_tss_pol2\n",
    "dat = dat %>% \n",
    "    dplyr::rename(\n",
    "        \"Chrom\" = \"chr\",\n",
    "        \"Name\"  = \"gene_name\",\n",
    "        \"Score\" = \"TSS_POL2_sig\",\n",
    "        \"Start\" = \"TSS\"\n",
    "    ) %>%\n",
    "    dplyr::mutate(End = Start + 1) %>%\n",
    "    dplyr::select(Chrom, Start, End, Name, Score) %>%\n",
    "    dplyr::arrange(Chrom, Start, End)\n",
    "\n",
    "dat_tss = dat\n",
    "print(dim(dat))\n",
    "head(dat)"
   ]
  },
  {
   "cell_type": "code",
   "execution_count": 8,
   "metadata": {},
   "outputs": [
    {
     "name": "stdout",
     "output_type": "stream",
     "text": [
      "[1] 11899     5\n"
     ]
    },
    {
     "data": {
      "text/html": [
       "<table class=\"dataframe\">\n",
       "<caption>A tibble: 6 × 5</caption>\n",
       "<thead>\n",
       "\t<tr><th scope=col>Chrom</th><th scope=col>Start</th><th scope=col>End</th><th scope=col>Name</th><th scope=col>Score</th></tr>\n",
       "\t<tr><th scope=col>&lt;chr&gt;</th><th scope=col>&lt;dbl&gt;</th><th scope=col>&lt;dbl&gt;</th><th scope=col>&lt;chr&gt;</th><th scope=col>&lt;dbl&gt;</th></tr>\n",
       "</thead>\n",
       "<tbody>\n",
       "\t<tr><td>chr1</td><td> 29370</td><td> 29371</td><td>WASH7P   </td><td>2.30000e-04</td></tr>\n",
       "\t<tr><td>chr1</td><td>827522</td><td>827523</td><td>LINC00115</td><td>6.44656e+01</td></tr>\n",
       "\t<tr><td>chr1</td><td>827590</td><td>827591</td><td>LINC01128</td><td>6.44603e+01</td></tr>\n",
       "\t<tr><td>chr1</td><td>876802</td><td>876803</td><td>FAM41C   </td><td>7.88399e-03</td></tr>\n",
       "\t<tr><td>chr1</td><td>959256</td><td>959257</td><td>NOC2L    </td><td>1.04866e+02</td></tr>\n",
       "\t<tr><td>chr1</td><td>960583</td><td>960584</td><td>KLHL17   </td><td>8.22571e+00</td></tr>\n",
       "</tbody>\n",
       "</table>\n"
      ],
      "text/latex": [
       "A tibble: 6 × 5\n",
       "\\begin{tabular}{lllll}\n",
       " Chrom & Start & End & Name & Score\\\\\n",
       " <chr> & <dbl> & <dbl> & <chr> & <dbl>\\\\\n",
       "\\hline\n",
       "\t chr1 &  29370 &  29371 & WASH7P    & 2.30000e-04\\\\\n",
       "\t chr1 & 827522 & 827523 & LINC00115 & 6.44656e+01\\\\\n",
       "\t chr1 & 827590 & 827591 & LINC01128 & 6.44603e+01\\\\\n",
       "\t chr1 & 876802 & 876803 & FAM41C    & 7.88399e-03\\\\\n",
       "\t chr1 & 959256 & 959257 & NOC2L     & 1.04866e+02\\\\\n",
       "\t chr1 & 960583 & 960584 & KLHL17    & 8.22571e+00\\\\\n",
       "\\end{tabular}\n"
      ],
      "text/markdown": [
       "\n",
       "A tibble: 6 × 5\n",
       "\n",
       "| Chrom &lt;chr&gt; | Start &lt;dbl&gt; | End &lt;dbl&gt; | Name &lt;chr&gt; | Score &lt;dbl&gt; |\n",
       "|---|---|---|---|---|\n",
       "| chr1 |  29370 |  29371 | WASH7P    | 2.30000e-04 |\n",
       "| chr1 | 827522 | 827523 | LINC00115 | 6.44656e+01 |\n",
       "| chr1 | 827590 | 827591 | LINC01128 | 6.44603e+01 |\n",
       "| chr1 | 876802 | 876803 | FAM41C    | 7.88399e-03 |\n",
       "| chr1 | 959256 | 959257 | NOC2L     | 1.04866e+02 |\n",
       "| chr1 | 960583 | 960584 | KLHL17    | 8.22571e+00 |\n",
       "\n"
      ],
      "text/plain": [
       "  Chrom Start  End    Name      Score      \n",
       "1 chr1   29370  29371 WASH7P    2.30000e-04\n",
       "2 chr1  827522 827523 LINC00115 6.44656e+01\n",
       "3 chr1  827590 827591 LINC01128 6.44603e+01\n",
       "4 chr1  876802 876803 FAM41C    7.88399e-03\n",
       "5 chr1  959256 959257 NOC2L     1.04866e+02\n",
       "6 chr1  960583 960584 KLHL17    8.22571e+00"
      ]
     },
     "metadata": {},
     "output_type": "display_data"
    }
   ],
   "source": [
    "vec = c(\n",
    "    dat_rnaseq_gene_filter$Gene_Name,\n",
    "    dat_rnaseq_gene_filter$Gene_Synonym)\n",
    "\n",
    "dat = dat_tss\n",
    "dat = dat %>%\n",
    "    dplyr::filter(Name %in% vec)\n",
    "\n",
    "dat_tss_filter = dat\n",
    "print(dim(dat))\n",
    "head(dat)"
   ]
  },
  {
   "cell_type": "markdown",
   "metadata": {},
   "source": [
    "## Explore"
   ]
  },
  {
   "cell_type": "code",
   "execution_count": 15,
   "metadata": {},
   "outputs": [
    {
     "name": "stdout",
     "output_type": "stream",
     "text": [
      "[1] 28563\n",
      "[1] 11830\n"
     ]
    }
   ],
   "source": [
    "dat = dat_tss\n",
    "dat = dat %>% dplyr::select(Chrom, Start, End) %>% dplyr::distinct()\n",
    "print(nrow(dat))\n",
    "\n",
    "dat = dat_tss_filter\n",
    "dat = dat %>% dplyr::select(Chrom, Start, End) %>% dplyr::distinct()\n",
    "print(nrow(dat))"
   ]
  },
  {
   "cell_type": "code",
   "execution_count": null,
   "metadata": {},
   "outputs": [],
   "source": [
    "vec1 = dat_gene_tss_pol2$gene_name\n",
    "vec1 = unique(vec1)\n",
    "print(length(vec1))\n",
    "\n",
    "vec2 = c(\n",
    "    dat_rnaseq_gene_filter$Gene_Name,\n",
    "    dat_rnaseq_gene_filter$Gene_Synonym)\n",
    "vec2 = unique(vec2)\n",
    "print(length(vec2))\n",
    "\n",
    "vec3 = intersect(vec1, vec2)\n",
    "print(length(vec3))"
   ]
  },
  {
   "cell_type": "markdown",
   "metadata": {},
   "source": [
    "## create data dictionary"
   ]
  },
  {
   "cell_type": "code",
   "execution_count": 9,
   "metadata": {},
   "outputs": [],
   "source": [
    "dat_desc = tibble::tribble(\n",
    "    ~Name, ~Description,\n",
    "    \"Chrom\",   \"Chromosome\",\n",
    "    \"Start\",   \"TSS position\",\n",
    "    \"End\",     \"TSS position\",\n",
    "    \"Name\",    \"Gene name\",\n",
    "    \"Score\",   \"highest level of pol2 chip seq (ENCFF914WIS.bigWig) at [TSS-500, TSS+500] among TSS isoform\"\n",
    ")"
   ]
  },
  {
   "cell_type": "markdown",
   "metadata": {},
   "source": [
    "## Explore"
   ]
  },
  {
   "cell_type": "code",
   "execution_count": 10,
   "metadata": {},
   "outputs": [
    {
     "data": {
      "text/html": [
       "<table class=\"dataframe\">\n",
       "<caption>A spec_tbl_df: 1 × 4</caption>\n",
       "<thead>\n",
       "\t<tr><th scope=col>gene_name</th><th scope=col>chr</th><th scope=col>TSS</th><th scope=col>TSS_POL2_sig</th></tr>\n",
       "\t<tr><th scope=col>&lt;chr&gt;</th><th scope=col>&lt;chr&gt;</th><th scope=col>&lt;dbl&gt;</th><th scope=col>&lt;dbl&gt;</th></tr>\n",
       "</thead>\n",
       "<tbody>\n",
       "\t<tr><td>HBE1</td><td>chr11</td><td>5269945</td><td>319.925</td></tr>\n",
       "</tbody>\n",
       "</table>\n"
      ],
      "text/latex": [
       "A spec\\_tbl\\_df: 1 × 4\n",
       "\\begin{tabular}{llll}\n",
       " gene\\_name & chr & TSS & TSS\\_POL2\\_sig\\\\\n",
       " <chr> & <chr> & <dbl> & <dbl>\\\\\n",
       "\\hline\n",
       "\t HBE1 & chr11 & 5269945 & 319.925\\\\\n",
       "\\end{tabular}\n"
      ],
      "text/markdown": [
       "\n",
       "A spec_tbl_df: 1 × 4\n",
       "\n",
       "| gene_name &lt;chr&gt; | chr &lt;chr&gt; | TSS &lt;dbl&gt; | TSS_POL2_sig &lt;dbl&gt; |\n",
       "|---|---|---|---|\n",
       "| HBE1 | chr11 | 5269945 | 319.925 |\n",
       "\n"
      ],
      "text/plain": [
       "  gene_name chr   TSS     TSS_POL2_sig\n",
       "1 HBE1      chr11 5269945 319.925     "
      ]
     },
     "metadata": {},
     "output_type": "display_data"
    }
   ],
   "source": [
    "dat = dat_gene_tss_pol2\n",
    "dat = dat %>% dplyr::filter(gene_name == \"HBE1\")\n",
    "dat"
   ]
  },
  {
   "cell_type": "markdown",
   "metadata": {},
   "source": [
    "## Save results"
   ]
  },
  {
   "cell_type": "code",
   "execution_count": 11,
   "metadata": {},
   "outputs": [
    {
     "data": {
      "text/html": [
       "<style>\n",
       ".list-inline {list-style: none; margin:0; padding: 0}\n",
       ".list-inline>li {display: inline-block}\n",
       ".list-inline>li:not(:last-child)::after {content: \"\\00b7\"; padding: 0 .5ex}\n",
       "</style>\n",
       "<ol class=list-inline><li>'annotation_ccre'</li><li>'annotation_chipseq_histone'</li><li>'annotation_chipseq_tf'</li><li>'annotation_chipseq_tf_subset'</li><li>'annotation_chromHMM'</li><li>'annotation_crispri_e2g'</li><li>'annotation_crispri_growth'</li><li>'annotation_crispri_hcrff'</li><li>'annotation_enhancer_junke'</li><li>'annotation_enhancer_merge'</li><li>'annotation_enhancer_zscore_junke'</li><li>'annotation_gencode'</li><li>'annotation_tss_pol2'</li><li>'hic_intact_deep'</li><li>'hic_intact_ENCSR479XDG'</li><li>'KS91_K562_ASTARRseq_peak_macs_input'</li><li>'region_screened_crispri_flowfish.bed'</li><li>'region_screened_selected_perbase.bed'</li><li>'region_screened_selected_perbase.bed.gz'</li><li>'region_screened_selected.bed'</li><li>'region_screened_selected.bed.gz'</li><li>'region_screened_tmpra_crispr.bed'</li><li>'region_screened_tmpra.bed'</li><li>'z_annotation_hic'</li><li>'z_annotation_inactive'</li><li>'z_annotation_tss_pol2_span'</li></ol>\n"
      ],
      "text/latex": [
       "\\begin{enumerate*}\n",
       "\\item 'annotation\\_ccre'\n",
       "\\item 'annotation\\_chipseq\\_histone'\n",
       "\\item 'annotation\\_chipseq\\_tf'\n",
       "\\item 'annotation\\_chipseq\\_tf\\_subset'\n",
       "\\item 'annotation\\_chromHMM'\n",
       "\\item 'annotation\\_crispri\\_e2g'\n",
       "\\item 'annotation\\_crispri\\_growth'\n",
       "\\item 'annotation\\_crispri\\_hcrff'\n",
       "\\item 'annotation\\_enhancer\\_junke'\n",
       "\\item 'annotation\\_enhancer\\_merge'\n",
       "\\item 'annotation\\_enhancer\\_zscore\\_junke'\n",
       "\\item 'annotation\\_gencode'\n",
       "\\item 'annotation\\_tss\\_pol2'\n",
       "\\item 'hic\\_intact\\_deep'\n",
       "\\item 'hic\\_intact\\_ENCSR479XDG'\n",
       "\\item 'KS91\\_K562\\_ASTARRseq\\_peak\\_macs\\_input'\n",
       "\\item 'region\\_screened\\_crispri\\_flowfish.bed'\n",
       "\\item 'region\\_screened\\_selected\\_perbase.bed'\n",
       "\\item 'region\\_screened\\_selected\\_perbase.bed.gz'\n",
       "\\item 'region\\_screened\\_selected.bed'\n",
       "\\item 'region\\_screened\\_selected.bed.gz'\n",
       "\\item 'region\\_screened\\_tmpra\\_crispr.bed'\n",
       "\\item 'region\\_screened\\_tmpra.bed'\n",
       "\\item 'z\\_annotation\\_hic'\n",
       "\\item 'z\\_annotation\\_inactive'\n",
       "\\item 'z\\_annotation\\_tss\\_pol2\\_span'\n",
       "\\end{enumerate*}\n"
      ],
      "text/markdown": [
       "1. 'annotation_ccre'\n",
       "2. 'annotation_chipseq_histone'\n",
       "3. 'annotation_chipseq_tf'\n",
       "4. 'annotation_chipseq_tf_subset'\n",
       "5. 'annotation_chromHMM'\n",
       "6. 'annotation_crispri_e2g'\n",
       "7. 'annotation_crispri_growth'\n",
       "8. 'annotation_crispri_hcrff'\n",
       "9. 'annotation_enhancer_junke'\n",
       "10. 'annotation_enhancer_merge'\n",
       "11. 'annotation_enhancer_zscore_junke'\n",
       "12. 'annotation_gencode'\n",
       "13. 'annotation_tss_pol2'\n",
       "14. 'hic_intact_deep'\n",
       "15. 'hic_intact_ENCSR479XDG'\n",
       "16. 'KS91_K562_ASTARRseq_peak_macs_input'\n",
       "17. 'region_screened_crispri_flowfish.bed'\n",
       "18. 'region_screened_selected_perbase.bed'\n",
       "19. 'region_screened_selected_perbase.bed.gz'\n",
       "20. 'region_screened_selected.bed'\n",
       "21. 'region_screened_selected.bed.gz'\n",
       "22. 'region_screened_tmpra_crispr.bed'\n",
       "23. 'region_screened_tmpra.bed'\n",
       "24. 'z_annotation_hic'\n",
       "25. 'z_annotation_inactive'\n",
       "26. 'z_annotation_tss_pol2_span'\n",
       "\n",
       "\n"
      ],
      "text/plain": [
       " [1] \"annotation_ccre\"                        \n",
       " [2] \"annotation_chipseq_histone\"             \n",
       " [3] \"annotation_chipseq_tf\"                  \n",
       " [4] \"annotation_chipseq_tf_subset\"           \n",
       " [5] \"annotation_chromHMM\"                    \n",
       " [6] \"annotation_crispri_e2g\"                 \n",
       " [7] \"annotation_crispri_growth\"              \n",
       " [8] \"annotation_crispri_hcrff\"               \n",
       " [9] \"annotation_enhancer_junke\"              \n",
       "[10] \"annotation_enhancer_merge\"              \n",
       "[11] \"annotation_enhancer_zscore_junke\"       \n",
       "[12] \"annotation_gencode\"                     \n",
       "[13] \"annotation_tss_pol2\"                    \n",
       "[14] \"hic_intact_deep\"                        \n",
       "[15] \"hic_intact_ENCSR479XDG\"                 \n",
       "[16] \"KS91_K562_ASTARRseq_peak_macs_input\"    \n",
       "[17] \"region_screened_crispri_flowfish.bed\"   \n",
       "[18] \"region_screened_selected_perbase.bed\"   \n",
       "[19] \"region_screened_selected_perbase.bed.gz\"\n",
       "[20] \"region_screened_selected.bed\"           \n",
       "[21] \"region_screened_selected.bed.gz\"        \n",
       "[22] \"region_screened_tmpra_crispr.bed\"       \n",
       "[23] \"region_screened_tmpra.bed\"              \n",
       "[24] \"z_annotation_hic\"                       \n",
       "[25] \"z_annotation_inactive\"                  \n",
       "[26] \"z_annotation_tss_pol2_span\"             "
      ]
     },
     "metadata": {},
     "output_type": "display_data"
    }
   ],
   "source": [
    "fdiry = file.path(FD_RES, \"results\", \"region\")\n",
    "dir(fdiry)"
   ]
  },
  {
   "cell_type": "code",
   "execution_count": 12,
   "metadata": {},
   "outputs": [],
   "source": [
    "fdiry = file.path(FD_RES, \"results\", \"region\", \"annotation_tss_pol2\")\n",
    "fname = \"K562.TSS.selected_by_highest_Pol2_signal.bed.gz\"\n",
    "fpath = file.path(fdiry, fname)\n",
    "\n",
    "dat = dat_tss\n",
    "write_tsv(dat, fpath, col_names = FALSE)"
   ]
  },
  {
   "cell_type": "code",
   "execution_count": 13,
   "metadata": {},
   "outputs": [],
   "source": [
    "fdiry = file.path(FD_RES, \"results\", \"region\", \"annotation_tss_pol2\")\n",
    "fname = \"K562.TSS.selected_by_highest_Pol2_signal.filtered_by_RNAseq_TPM.bed.gz\"\n",
    "fpath = file.path(fdiry, fname)\n",
    "\n",
    "dat = dat_tss_filter\n",
    "write_tsv(dat, fpath, col_names = FALSE)"
   ]
  },
  {
   "cell_type": "code",
   "execution_count": 14,
   "metadata": {},
   "outputs": [],
   "source": [
    "fdiry = file.path(FD_RES, \"results\", \"region\", \"annotation_tss_pol2\")\n",
    "fname = \"description.tsv\"\n",
    "fpath = file.path(fdiry, fname)\n",
    "\n",
    "dat = dat_desc\n",
    "write_tsv(dat, fpath)"
   ]
  },
  {
   "cell_type": "code",
   "execution_count": null,
   "metadata": {},
   "outputs": [],
   "source": []
  }
 ],
 "metadata": {
  "kernelspec": {
   "display_name": "R",
   "language": "R",
   "name": "ir"
  },
  "language_info": {
   "codemirror_mode": "r",
   "file_extension": ".r",
   "mimetype": "text/x-r-source",
   "name": "R",
   "pygments_lexer": "r",
   "version": "4.3.1"
  }
 },
 "nbformat": 4,
 "nbformat_minor": 4
}
