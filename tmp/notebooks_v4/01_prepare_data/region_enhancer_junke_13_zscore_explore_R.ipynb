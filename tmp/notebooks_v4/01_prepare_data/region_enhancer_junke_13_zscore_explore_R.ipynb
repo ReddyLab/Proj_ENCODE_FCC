{
 "cells": [
  {
   "cell_type": "markdown",
   "metadata": {},
   "source": [
    "**Set environment**"
   ]
  },
  {
   "cell_type": "code",
   "execution_count": 1,
   "metadata": {},
   "outputs": [
    {
     "name": "stdout",
     "output_type": "stream",
     "text": [
      "You are in Singularity: singularity_proj_encode_fcc \n",
      "BASE DIRECTORY (FD_BASE): /data/reddylab/Kuei \n",
      "WORK DIRECTORY (FD_WORK): /data/reddylab/Kuei/out \n",
      "CODE DIRECTORY (FD_CODE): /data/reddylab/Kuei/code \n",
      "PATH OF PROJECT (FD_PRJ): /data/reddylab/Kuei/code/Proj_CombEffect_ENCODE_FCC \n",
      "PATH OF RESULTS (FD_RES): /data/reddylab/Kuei/out/proj_combeffect_encode_fcc \n",
      "PATH OF LOG     (FD_LOG): /data/reddylab/Kuei/out/proj_combeffect_encode_fcc/log \n"
     ]
    }
   ],
   "source": [
    "suppressWarnings(suppressMessages(source(\"../config/config_sing.R\")))\n",
    "show_env()"
   ]
  },
  {
   "cell_type": "code",
   "execution_count": 7,
   "metadata": {},
   "outputs": [
    {
     "name": "stdout",
     "output_type": "stream",
     "text": [
      "deep_ATAC_STARR_seq.genomic_bin_100_sliding_10 \n",
      "deep_ATAC_STARR_seq.genomic_bin_100_sliding_10.tar.gz \n",
      "Enhancer call file format documentation.docx \n",
      "lentiMPRA \n",
      "lentiMPRA.tar.gz \n",
      "Note.md \n",
      "Readme.md \n",
      "tilingMPRA_MYC_GATA \n",
      "tilingMPRA_MYC_GATA.tar.gz \n",
      "tilingMPRA_OL13 \n",
      "tilingMPRA_OL13.tar.gz \n",
      "tilingMPRA_OL45 \n",
      "tilingMPRA_OL45.tar.gz \n",
      "WHG_STARR_TR \n",
      "WHG_STARR_TR.tar.gz \n",
      "zold_MPRA \n"
     ]
    }
   ],
   "source": [
    "fdiry = file.path(\n",
    "    FD_RES,\n",
    "    \"source\",\n",
    "    \"annotation_enhancer_junke_zscore\")\n",
    "for (x in dir(fdiry)){cat(x, \"\\n\")}"
   ]
  },
  {
   "cell_type": "code",
   "execution_count": 8,
   "metadata": {},
   "outputs": [
    {
     "name": "stdout",
     "output_type": "stream",
     "text": [
      "merged_enhancer_peak_orientation_independent.bed.gz \n",
      "merged_enhancer_peaks_in_either_orientation.bed.gz \n",
      "merged_repressor_peaks_in_either_orientation.bed.gz \n"
     ]
    }
   ],
   "source": [
    "fdiry = file.path(FD_RES, \"source\", \"annotation_enhancer_junke_zscore\")\n",
    "folder = \"deep_ATAC_STARR_seq.genomic_bin_100_sliding_10\"\n",
    "fdiry  = file.path(fdiry, folder, \"ATAC_STARR_seq\", \"merged_peak\")\n",
    "for (x in dir(fdiry)){cat(x, \"\\n\")}"
   ]
  },
  {
   "cell_type": "code",
   "execution_count": 10,
   "metadata": {},
   "outputs": [
    {
     "name": "stdout",
     "output_type": "stream",
     "text": [
      "[1] \"merged_enhancer_peak_orientation_independent.bed.gz\"\n",
      "[2] \"merged_enhancer_peaks_in_either_orientation.bed.gz\" \n",
      "[3] \"merged_repressor_peaks_in_either_orientation.bed.gz\"\n"
     ]
    }
   ],
   "source": [
    "fdiry = file.path(FD_RES, \"source\", \"annotation_enhancer_junke_zscore\")\n",
    "folder = \"deep_ATAC_STARR_seq.genomic_bin_100_sliding_10\"\n",
    "fname  = \"*.bed.gz\"\n",
    "fglob  = file.path(fdiry, folder, \"*/merged_peak\", fname)\n",
    "fpaths = Sys.glob(fglob)\n",
    "print(basename(fpaths))"
   ]
  },
  {
   "cell_type": "code",
   "execution_count": 11,
   "metadata": {},
   "outputs": [],
   "source": [
    "### init\n",
    "cnames = c(\n",
    "    \"Seqnames\",\n",
    "    \"Start\",\n",
    "    \"End\",\n",
    "    \"Name\",\n",
    "    \"Mean logFC across all the bins\",\n",
    "    \"Strand\",\n",
    "    \"Z_score based on mean logFC\",\n",
    "    \"List of all logFCs\",\n",
    "    \"Summit seqnames\",\n",
    "    \"Summit start\",\n",
    "    \"Summit end\",\n",
    "    \"Summit logFC\",\n",
    "    \"Summit z-score\",\n",
    "    \"Peak size\"\n",
    ")\n",
    "\n",
    "### import data\n",
    "lst = lapply(fpaths, function(fpath){\n",
    "    dat = read_tsv(fpath, col_names = cnames, show_col_types = FALSE)\n",
    "    return(dat)\n",
    "})\n",
    "names(lst) = basename(fpaths)\n",
    "\n",
    "lst = lapply(lst, function(dat){dat %>% dplyr::select(-`List of all logFCs`)})"
   ]
  },
  {
   "cell_type": "code",
   "execution_count": 12,
   "metadata": {},
   "outputs": [
    {
     "data": {
      "text/html": [
       "<dl>\n",
       "\t<dt>$merged_enhancer_peak_orientation_independent.bed.gz</dt>\n",
       "\t\t<dd><table class=\"dataframe\">\n",
       "<caption>A tibble: 6 × 13</caption>\n",
       "<thead>\n",
       "\t<tr><th scope=col>Seqnames</th><th scope=col>Start</th><th scope=col>End</th><th scope=col>Name</th><th scope=col>Mean logFC across all the bins</th><th scope=col>Strand</th><th scope=col>Z_score based on mean logFC</th><th scope=col>Summit seqnames</th><th scope=col>Summit start</th><th scope=col>Summit end</th><th scope=col>Summit logFC</th><th scope=col>Summit z-score</th><th scope=col>Peak size</th></tr>\n",
       "\t<tr><th scope=col>&lt;chr&gt;</th><th scope=col>&lt;dbl&gt;</th><th scope=col>&lt;dbl&gt;</th><th scope=col>&lt;chr&gt;</th><th scope=col>&lt;dbl&gt;</th><th scope=col>&lt;chr&gt;</th><th scope=col>&lt;dbl&gt;</th><th scope=col>&lt;chr&gt;</th><th scope=col>&lt;dbl&gt;</th><th scope=col>&lt;dbl&gt;</th><th scope=col>&lt;dbl&gt;</th><th scope=col>&lt;dbl&gt;</th><th scope=col>&lt;dbl&gt;</th></tr>\n",
       "</thead>\n",
       "<tbody>\n",
       "\t<tr><td>chr1</td><td>1013020</td><td>1013470</td><td>peak_both_1</td><td>2.658360</td><td>.</td><td>2.181596</td><td>chr1</td><td>1013360</td><td>1013460</td><td>2.892628</td><td>2.346891</td><td>450</td></tr>\n",
       "\t<tr><td>chr1</td><td>1724540</td><td>1724700</td><td>peak_both_2</td><td>2.619779</td><td>.</td><td>2.154374</td><td>chr1</td><td>1724570</td><td>1724670</td><td>2.798618</td><td>2.280560</td><td>160</td></tr>\n",
       "\t<tr><td>chr1</td><td>2290700</td><td>2291030</td><td>peak_both_3</td><td>2.951714</td><td>.</td><td>2.388582</td><td>chr1</td><td>2290810</td><td>2290910</td><td>3.366537</td><td>2.681274</td><td>330</td></tr>\n",
       "\t<tr><td>chr1</td><td>3313260</td><td>3313400</td><td>peak_both_4</td><td>2.655312</td><td>.</td><td>2.179446</td><td>chr1</td><td>3313270</td><td>3313370</td><td>2.705816</td><td>2.215080</td><td>140</td></tr>\n",
       "\t<tr><td>chr1</td><td>5856530</td><td>5856630</td><td>peak_both_5</td><td>2.396075</td><td>.</td><td>1.996532</td><td>chr1</td><td>5856530</td><td>5856630</td><td>2.396075</td><td>1.996532</td><td>100</td></tr>\n",
       "\t<tr><td>chr1</td><td>5917710</td><td>5917930</td><td>peak_both_6</td><td>2.640920</td><td>.</td><td>2.169290</td><td>chr1</td><td>5917760</td><td>5917860</td><td>2.806423</td><td>2.286066</td><td>220</td></tr>\n",
       "</tbody>\n",
       "</table>\n",
       "</dd>\n",
       "\t<dt>$merged_enhancer_peaks_in_either_orientation.bed.gz</dt>\n",
       "\t\t<dd><table class=\"dataframe\">\n",
       "<caption>A tibble: 6 × 13</caption>\n",
       "<thead>\n",
       "\t<tr><th scope=col>Seqnames</th><th scope=col>Start</th><th scope=col>End</th><th scope=col>Name</th><th scope=col>Mean logFC across all the bins</th><th scope=col>Strand</th><th scope=col>Z_score based on mean logFC</th><th scope=col>Summit seqnames</th><th scope=col>Summit start</th><th scope=col>Summit end</th><th scope=col>Summit logFC</th><th scope=col>Summit z-score</th><th scope=col>Peak size</th></tr>\n",
       "\t<tr><th scope=col>&lt;chr&gt;</th><th scope=col>&lt;dbl&gt;</th><th scope=col>&lt;dbl&gt;</th><th scope=col>&lt;chr&gt;</th><th scope=col>&lt;dbl&gt;</th><th scope=col>&lt;chr&gt;</th><th scope=col>&lt;dbl&gt;</th><th scope=col>&lt;chr&gt;</th><th scope=col>&lt;dbl&gt;</th><th scope=col>&lt;dbl&gt;</th><th scope=col>&lt;dbl&gt;</th><th scope=col>&lt;chr&gt;</th><th scope=col>&lt;dbl&gt;</th></tr>\n",
       "</thead>\n",
       "<tbody>\n",
       "\t<tr><td>chr1</td><td> 778720</td><td> 778830</td><td>peak1</td><td>2.414563</td><td>.</td><td>2.009577</td><td>chr1</td><td> 778730</td><td> 778830</td><td>2.463602</td><td>N</td><td>110</td></tr>\n",
       "\t<tr><td>chr1</td><td>1013010</td><td>1013570</td><td>peak2</td><td>2.620803</td><td>.</td><td>2.155097</td><td>chr1</td><td>1013360</td><td>1013460</td><td>3.061815</td><td>N</td><td>560</td></tr>\n",
       "\t<tr><td>chr1</td><td>1064280</td><td>1064450</td><td>peak3</td><td>2.685906</td><td>.</td><td>2.201032</td><td>chr1</td><td>1064330</td><td>1064430</td><td>2.841774</td><td>N</td><td>170</td></tr>\n",
       "\t<tr><td>chr1</td><td>1068370</td><td>1068550</td><td>peak4</td><td>3.061104</td><td>.</td><td>2.465765</td><td>chr1</td><td>1068370</td><td>1068470</td><td>3.368423</td><td>N</td><td>180</td></tr>\n",
       "\t<tr><td>chr1</td><td>1200920</td><td>1201050</td><td>peak5</td><td>2.933303</td><td>.</td><td>2.375591</td><td>chr1</td><td>1200940</td><td>1201040</td><td>3.018429</td><td>N</td><td>130</td></tr>\n",
       "\t<tr><td>chr1</td><td>1305780</td><td>1305880</td><td>peak6</td><td>2.386849</td><td>.</td><td>1.990023</td><td>chr1</td><td>1305780</td><td>1305880</td><td>2.386849</td><td>N</td><td>100</td></tr>\n",
       "</tbody>\n",
       "</table>\n",
       "</dd>\n",
       "\t<dt>$merged_repressor_peaks_in_either_orientation.bed.gz</dt>\n",
       "\t\t<dd><table class=\"dataframe\">\n",
       "<caption>A tibble: 6 × 13</caption>\n",
       "<thead>\n",
       "\t<tr><th scope=col>Seqnames</th><th scope=col>Start</th><th scope=col>End</th><th scope=col>Name</th><th scope=col>Mean logFC across all the bins</th><th scope=col>Strand</th><th scope=col>Z_score based on mean logFC</th><th scope=col>Summit seqnames</th><th scope=col>Summit start</th><th scope=col>Summit end</th><th scope=col>Summit logFC</th><th scope=col>Summit z-score</th><th scope=col>Peak size</th></tr>\n",
       "\t<tr><th scope=col>&lt;chr&gt;</th><th scope=col>&lt;dbl&gt;</th><th scope=col>&lt;dbl&gt;</th><th scope=col>&lt;chr&gt;</th><th scope=col>&lt;dbl&gt;</th><th scope=col>&lt;chr&gt;</th><th scope=col>&lt;dbl&gt;</th><th scope=col>&lt;chr&gt;</th><th scope=col>&lt;dbl&gt;</th><th scope=col>&lt;dbl&gt;</th><th scope=col>&lt;dbl&gt;</th><th scope=col>&lt;chr&gt;</th><th scope=col>&lt;dbl&gt;</th></tr>\n",
       "</thead>\n",
       "<tbody>\n",
       "\t<tr><td>chr1</td><td>136520</td><td>136950</td><td>peak1</td><td>-2.706091</td><td>.</td><td>-1.603468</td><td>chr1</td><td>136760</td><td>136860</td><td>-2.369581</td><td>N</td><td>430</td></tr>\n",
       "\t<tr><td>chr1</td><td>137050</td><td>137150</td><td>peak2</td><td>-2.429719</td><td>.</td><td>-1.408464</td><td>chr1</td><td>137050</td><td>137150</td><td>-2.429719</td><td>N</td><td>100</td></tr>\n",
       "\t<tr><td>chr1</td><td>181600</td><td>181790</td><td>peak3</td><td>-3.145002</td><td>.</td><td>-1.913155</td><td>chr1</td><td>181620</td><td>181720</td><td>-2.805358</td><td>N</td><td>190</td></tr>\n",
       "\t<tr><td>chr1</td><td>827060</td><td>827160</td><td>peak4</td><td>-2.394489</td><td>.</td><td>-1.383606</td><td>chr1</td><td>827060</td><td>827160</td><td>-2.394489</td><td>N</td><td>100</td></tr>\n",
       "\t<tr><td>chr1</td><td>827590</td><td>828050</td><td>peak5</td><td>-3.944188</td><td>.</td><td>-2.477047</td><td>chr1</td><td>827600</td><td>827700</td><td>-2.440484</td><td>N</td><td>460</td></tr>\n",
       "\t<tr><td>chr1</td><td>869810</td><td>870100</td><td>peak6</td><td>-3.424562</td><td>.</td><td>-2.110408</td><td>chr1</td><td>870000</td><td>870100</td><td>-2.363714</td><td>N</td><td>290</td></tr>\n",
       "</tbody>\n",
       "</table>\n",
       "</dd>\n",
       "</dl>\n"
      ],
      "text/latex": [
       "\\begin{description}\n",
       "\\item[\\$merged\\_enhancer\\_peak\\_orientation\\_independent.bed.gz] A tibble: 6 × 13\n",
       "\\begin{tabular}{lllllllllllll}\n",
       " Seqnames & Start & End & Name & Mean logFC across all the bins & Strand & Z\\_score based on mean logFC & Summit seqnames & Summit start & Summit end & Summit logFC & Summit z-score & Peak size\\\\\n",
       " <chr> & <dbl> & <dbl> & <chr> & <dbl> & <chr> & <dbl> & <chr> & <dbl> & <dbl> & <dbl> & <dbl> & <dbl>\\\\\n",
       "\\hline\n",
       "\t chr1 & 1013020 & 1013470 & peak\\_both\\_1 & 2.658360 & . & 2.181596 & chr1 & 1013360 & 1013460 & 2.892628 & 2.346891 & 450\\\\\n",
       "\t chr1 & 1724540 & 1724700 & peak\\_both\\_2 & 2.619779 & . & 2.154374 & chr1 & 1724570 & 1724670 & 2.798618 & 2.280560 & 160\\\\\n",
       "\t chr1 & 2290700 & 2291030 & peak\\_both\\_3 & 2.951714 & . & 2.388582 & chr1 & 2290810 & 2290910 & 3.366537 & 2.681274 & 330\\\\\n",
       "\t chr1 & 3313260 & 3313400 & peak\\_both\\_4 & 2.655312 & . & 2.179446 & chr1 & 3313270 & 3313370 & 2.705816 & 2.215080 & 140\\\\\n",
       "\t chr1 & 5856530 & 5856630 & peak\\_both\\_5 & 2.396075 & . & 1.996532 & chr1 & 5856530 & 5856630 & 2.396075 & 1.996532 & 100\\\\\n",
       "\t chr1 & 5917710 & 5917930 & peak\\_both\\_6 & 2.640920 & . & 2.169290 & chr1 & 5917760 & 5917860 & 2.806423 & 2.286066 & 220\\\\\n",
       "\\end{tabular}\n",
       "\n",
       "\\item[\\$merged\\_enhancer\\_peaks\\_in\\_either\\_orientation.bed.gz] A tibble: 6 × 13\n",
       "\\begin{tabular}{lllllllllllll}\n",
       " Seqnames & Start & End & Name & Mean logFC across all the bins & Strand & Z\\_score based on mean logFC & Summit seqnames & Summit start & Summit end & Summit logFC & Summit z-score & Peak size\\\\\n",
       " <chr> & <dbl> & <dbl> & <chr> & <dbl> & <chr> & <dbl> & <chr> & <dbl> & <dbl> & <dbl> & <chr> & <dbl>\\\\\n",
       "\\hline\n",
       "\t chr1 &  778720 &  778830 & peak1 & 2.414563 & . & 2.009577 & chr1 &  778730 &  778830 & 2.463602 & N & 110\\\\\n",
       "\t chr1 & 1013010 & 1013570 & peak2 & 2.620803 & . & 2.155097 & chr1 & 1013360 & 1013460 & 3.061815 & N & 560\\\\\n",
       "\t chr1 & 1064280 & 1064450 & peak3 & 2.685906 & . & 2.201032 & chr1 & 1064330 & 1064430 & 2.841774 & N & 170\\\\\n",
       "\t chr1 & 1068370 & 1068550 & peak4 & 3.061104 & . & 2.465765 & chr1 & 1068370 & 1068470 & 3.368423 & N & 180\\\\\n",
       "\t chr1 & 1200920 & 1201050 & peak5 & 2.933303 & . & 2.375591 & chr1 & 1200940 & 1201040 & 3.018429 & N & 130\\\\\n",
       "\t chr1 & 1305780 & 1305880 & peak6 & 2.386849 & . & 1.990023 & chr1 & 1305780 & 1305880 & 2.386849 & N & 100\\\\\n",
       "\\end{tabular}\n",
       "\n",
       "\\item[\\$merged\\_repressor\\_peaks\\_in\\_either\\_orientation.bed.gz] A tibble: 6 × 13\n",
       "\\begin{tabular}{lllllllllllll}\n",
       " Seqnames & Start & End & Name & Mean logFC across all the bins & Strand & Z\\_score based on mean logFC & Summit seqnames & Summit start & Summit end & Summit logFC & Summit z-score & Peak size\\\\\n",
       " <chr> & <dbl> & <dbl> & <chr> & <dbl> & <chr> & <dbl> & <chr> & <dbl> & <dbl> & <dbl> & <chr> & <dbl>\\\\\n",
       "\\hline\n",
       "\t chr1 & 136520 & 136950 & peak1 & -2.706091 & . & -1.603468 & chr1 & 136760 & 136860 & -2.369581 & N & 430\\\\\n",
       "\t chr1 & 137050 & 137150 & peak2 & -2.429719 & . & -1.408464 & chr1 & 137050 & 137150 & -2.429719 & N & 100\\\\\n",
       "\t chr1 & 181600 & 181790 & peak3 & -3.145002 & . & -1.913155 & chr1 & 181620 & 181720 & -2.805358 & N & 190\\\\\n",
       "\t chr1 & 827060 & 827160 & peak4 & -2.394489 & . & -1.383606 & chr1 & 827060 & 827160 & -2.394489 & N & 100\\\\\n",
       "\t chr1 & 827590 & 828050 & peak5 & -3.944188 & . & -2.477047 & chr1 & 827600 & 827700 & -2.440484 & N & 460\\\\\n",
       "\t chr1 & 869810 & 870100 & peak6 & -3.424562 & . & -2.110408 & chr1 & 870000 & 870100 & -2.363714 & N & 290\\\\\n",
       "\\end{tabular}\n",
       "\n",
       "\\end{description}\n"
      ],
      "text/markdown": [
       "$merged_enhancer_peak_orientation_independent.bed.gz\n",
       ":   \n",
       "A tibble: 6 × 13\n",
       "\n",
       "| Seqnames &lt;chr&gt; | Start &lt;dbl&gt; | End &lt;dbl&gt; | Name &lt;chr&gt; | Mean logFC across all the bins &lt;dbl&gt; | Strand &lt;chr&gt; | Z_score based on mean logFC &lt;dbl&gt; | Summit seqnames &lt;chr&gt; | Summit start &lt;dbl&gt; | Summit end &lt;dbl&gt; | Summit logFC &lt;dbl&gt; | Summit z-score &lt;dbl&gt; | Peak size &lt;dbl&gt; |\n",
       "|---|---|---|---|---|---|---|---|---|---|---|---|---|\n",
       "| chr1 | 1013020 | 1013470 | peak_both_1 | 2.658360 | . | 2.181596 | chr1 | 1013360 | 1013460 | 2.892628 | 2.346891 | 450 |\n",
       "| chr1 | 1724540 | 1724700 | peak_both_2 | 2.619779 | . | 2.154374 | chr1 | 1724570 | 1724670 | 2.798618 | 2.280560 | 160 |\n",
       "| chr1 | 2290700 | 2291030 | peak_both_3 | 2.951714 | . | 2.388582 | chr1 | 2290810 | 2290910 | 3.366537 | 2.681274 | 330 |\n",
       "| chr1 | 3313260 | 3313400 | peak_both_4 | 2.655312 | . | 2.179446 | chr1 | 3313270 | 3313370 | 2.705816 | 2.215080 | 140 |\n",
       "| chr1 | 5856530 | 5856630 | peak_both_5 | 2.396075 | . | 1.996532 | chr1 | 5856530 | 5856630 | 2.396075 | 1.996532 | 100 |\n",
       "| chr1 | 5917710 | 5917930 | peak_both_6 | 2.640920 | . | 2.169290 | chr1 | 5917760 | 5917860 | 2.806423 | 2.286066 | 220 |\n",
       "\n",
       "\n",
       "$merged_enhancer_peaks_in_either_orientation.bed.gz\n",
       ":   \n",
       "A tibble: 6 × 13\n",
       "\n",
       "| Seqnames &lt;chr&gt; | Start &lt;dbl&gt; | End &lt;dbl&gt; | Name &lt;chr&gt; | Mean logFC across all the bins &lt;dbl&gt; | Strand &lt;chr&gt; | Z_score based on mean logFC &lt;dbl&gt; | Summit seqnames &lt;chr&gt; | Summit start &lt;dbl&gt; | Summit end &lt;dbl&gt; | Summit logFC &lt;dbl&gt; | Summit z-score &lt;chr&gt; | Peak size &lt;dbl&gt; |\n",
       "|---|---|---|---|---|---|---|---|---|---|---|---|---|\n",
       "| chr1 |  778720 |  778830 | peak1 | 2.414563 | . | 2.009577 | chr1 |  778730 |  778830 | 2.463602 | N | 110 |\n",
       "| chr1 | 1013010 | 1013570 | peak2 | 2.620803 | . | 2.155097 | chr1 | 1013360 | 1013460 | 3.061815 | N | 560 |\n",
       "| chr1 | 1064280 | 1064450 | peak3 | 2.685906 | . | 2.201032 | chr1 | 1064330 | 1064430 | 2.841774 | N | 170 |\n",
       "| chr1 | 1068370 | 1068550 | peak4 | 3.061104 | . | 2.465765 | chr1 | 1068370 | 1068470 | 3.368423 | N | 180 |\n",
       "| chr1 | 1200920 | 1201050 | peak5 | 2.933303 | . | 2.375591 | chr1 | 1200940 | 1201040 | 3.018429 | N | 130 |\n",
       "| chr1 | 1305780 | 1305880 | peak6 | 2.386849 | . | 1.990023 | chr1 | 1305780 | 1305880 | 2.386849 | N | 100 |\n",
       "\n",
       "\n",
       "$merged_repressor_peaks_in_either_orientation.bed.gz\n",
       ":   \n",
       "A tibble: 6 × 13\n",
       "\n",
       "| Seqnames &lt;chr&gt; | Start &lt;dbl&gt; | End &lt;dbl&gt; | Name &lt;chr&gt; | Mean logFC across all the bins &lt;dbl&gt; | Strand &lt;chr&gt; | Z_score based on mean logFC &lt;dbl&gt; | Summit seqnames &lt;chr&gt; | Summit start &lt;dbl&gt; | Summit end &lt;dbl&gt; | Summit logFC &lt;dbl&gt; | Summit z-score &lt;chr&gt; | Peak size &lt;dbl&gt; |\n",
       "|---|---|---|---|---|---|---|---|---|---|---|---|---|\n",
       "| chr1 | 136520 | 136950 | peak1 | -2.706091 | . | -1.603468 | chr1 | 136760 | 136860 | -2.369581 | N | 430 |\n",
       "| chr1 | 137050 | 137150 | peak2 | -2.429719 | . | -1.408464 | chr1 | 137050 | 137150 | -2.429719 | N | 100 |\n",
       "| chr1 | 181600 | 181790 | peak3 | -3.145002 | . | -1.913155 | chr1 | 181620 | 181720 | -2.805358 | N | 190 |\n",
       "| chr1 | 827060 | 827160 | peak4 | -2.394489 | . | -1.383606 | chr1 | 827060 | 827160 | -2.394489 | N | 100 |\n",
       "| chr1 | 827590 | 828050 | peak5 | -3.944188 | . | -2.477047 | chr1 | 827600 | 827700 | -2.440484 | N | 460 |\n",
       "| chr1 | 869810 | 870100 | peak6 | -3.424562 | . | -2.110408 | chr1 | 870000 | 870100 | -2.363714 | N | 290 |\n",
       "\n",
       "\n",
       "\n",
       "\n"
      ],
      "text/plain": [
       "$merged_enhancer_peak_orientation_independent.bed.gz\n",
       "\u001b[90m# A tibble: 6 × 13\u001b[39m\n",
       "  Seqnames   Start     End Name        `Mean logFC across all the bins` Strand\n",
       "  \u001b[3m\u001b[90m<chr>\u001b[39m\u001b[23m      \u001b[3m\u001b[90m<dbl>\u001b[39m\u001b[23m   \u001b[3m\u001b[90m<dbl>\u001b[39m\u001b[23m \u001b[3m\u001b[90m<chr>\u001b[39m\u001b[23m                                  \u001b[3m\u001b[90m<dbl>\u001b[39m\u001b[23m \u001b[3m\u001b[90m<chr>\u001b[39m\u001b[23m \n",
       "\u001b[90m1\u001b[39m chr1     1\u001b[4m0\u001b[24m\u001b[4m1\u001b[24m\u001b[4m3\u001b[24m020 1\u001b[4m0\u001b[24m\u001b[4m1\u001b[24m\u001b[4m3\u001b[24m470 peak_both_1                             2.66 .     \n",
       "\u001b[90m2\u001b[39m chr1     1\u001b[4m7\u001b[24m\u001b[4m2\u001b[24m\u001b[4m4\u001b[24m540 1\u001b[4m7\u001b[24m\u001b[4m2\u001b[24m\u001b[4m4\u001b[24m700 peak_both_2                             2.62 .     \n",
       "\u001b[90m3\u001b[39m chr1     2\u001b[4m2\u001b[24m\u001b[4m9\u001b[24m\u001b[4m0\u001b[24m700 2\u001b[4m2\u001b[24m\u001b[4m9\u001b[24m\u001b[4m1\u001b[24m030 peak_both_3                             2.95 .     \n",
       "\u001b[90m4\u001b[39m chr1     3\u001b[4m3\u001b[24m\u001b[4m1\u001b[24m\u001b[4m3\u001b[24m260 3\u001b[4m3\u001b[24m\u001b[4m1\u001b[24m\u001b[4m3\u001b[24m400 peak_both_4                             2.66 .     \n",
       "\u001b[90m5\u001b[39m chr1     5\u001b[4m8\u001b[24m\u001b[4m5\u001b[24m\u001b[4m6\u001b[24m530 5\u001b[4m8\u001b[24m\u001b[4m5\u001b[24m\u001b[4m6\u001b[24m630 peak_both_5                             2.40 .     \n",
       "\u001b[90m6\u001b[39m chr1     5\u001b[4m9\u001b[24m\u001b[4m1\u001b[24m\u001b[4m7\u001b[24m710 5\u001b[4m9\u001b[24m\u001b[4m1\u001b[24m\u001b[4m7\u001b[24m930 peak_both_6                             2.64 .     \n",
       "\u001b[90m# ℹ 7 more variables: `Z_score based on mean logFC` <dbl>,\u001b[39m\n",
       "\u001b[90m#   `Summit seqnames` <chr>, `Summit start` <dbl>, `Summit end` <dbl>,\u001b[39m\n",
       "\u001b[90m#   `Summit logFC` <dbl>, `Summit z-score` <dbl>, `Peak size` <dbl>\u001b[39m\n",
       "\n",
       "$merged_enhancer_peaks_in_either_orientation.bed.gz\n",
       "\u001b[90m# A tibble: 6 × 13\u001b[39m\n",
       "  Seqnames   Start     End Name  `Mean logFC across all the bins` Strand\n",
       "  \u001b[3m\u001b[90m<chr>\u001b[39m\u001b[23m      \u001b[3m\u001b[90m<dbl>\u001b[39m\u001b[23m   \u001b[3m\u001b[90m<dbl>\u001b[39m\u001b[23m \u001b[3m\u001b[90m<chr>\u001b[39m\u001b[23m                            \u001b[3m\u001b[90m<dbl>\u001b[39m\u001b[23m \u001b[3m\u001b[90m<chr>\u001b[39m\u001b[23m \n",
       "\u001b[90m1\u001b[39m chr1      \u001b[4m7\u001b[24m\u001b[4m7\u001b[24m\u001b[4m8\u001b[24m720  \u001b[4m7\u001b[24m\u001b[4m7\u001b[24m\u001b[4m8\u001b[24m830 peak1                             2.41 .     \n",
       "\u001b[90m2\u001b[39m chr1     1\u001b[4m0\u001b[24m\u001b[4m1\u001b[24m\u001b[4m3\u001b[24m010 1\u001b[4m0\u001b[24m\u001b[4m1\u001b[24m\u001b[4m3\u001b[24m570 peak2                             2.62 .     \n",
       "\u001b[90m3\u001b[39m chr1     1\u001b[4m0\u001b[24m\u001b[4m6\u001b[24m\u001b[4m4\u001b[24m280 1\u001b[4m0\u001b[24m\u001b[4m6\u001b[24m\u001b[4m4\u001b[24m450 peak3                             2.69 .     \n",
       "\u001b[90m4\u001b[39m chr1     1\u001b[4m0\u001b[24m\u001b[4m6\u001b[24m\u001b[4m8\u001b[24m370 1\u001b[4m0\u001b[24m\u001b[4m6\u001b[24m\u001b[4m8\u001b[24m550 peak4                             3.06 .     \n",
       "\u001b[90m5\u001b[39m chr1     1\u001b[4m2\u001b[24m\u001b[4m0\u001b[24m\u001b[4m0\u001b[24m920 1\u001b[4m2\u001b[24m\u001b[4m0\u001b[24m\u001b[4m1\u001b[24m050 peak5                             2.93 .     \n",
       "\u001b[90m6\u001b[39m chr1     1\u001b[4m3\u001b[24m\u001b[4m0\u001b[24m\u001b[4m5\u001b[24m780 1\u001b[4m3\u001b[24m\u001b[4m0\u001b[24m\u001b[4m5\u001b[24m880 peak6                             2.39 .     \n",
       "\u001b[90m# ℹ 7 more variables: `Z_score based on mean logFC` <dbl>,\u001b[39m\n",
       "\u001b[90m#   `Summit seqnames` <chr>, `Summit start` <dbl>, `Summit end` <dbl>,\u001b[39m\n",
       "\u001b[90m#   `Summit logFC` <dbl>, `Summit z-score` <chr>, `Peak size` <dbl>\u001b[39m\n",
       "\n",
       "$merged_repressor_peaks_in_either_orientation.bed.gz\n",
       "\u001b[90m# A tibble: 6 × 13\u001b[39m\n",
       "  Seqnames  Start    End Name  `Mean logFC across all the bins` Strand\n",
       "  \u001b[3m\u001b[90m<chr>\u001b[39m\u001b[23m     \u001b[3m\u001b[90m<dbl>\u001b[39m\u001b[23m  \u001b[3m\u001b[90m<dbl>\u001b[39m\u001b[23m \u001b[3m\u001b[90m<chr>\u001b[39m\u001b[23m                            \u001b[3m\u001b[90m<dbl>\u001b[39m\u001b[23m \u001b[3m\u001b[90m<chr>\u001b[39m\u001b[23m \n",
       "\u001b[90m1\u001b[39m chr1     \u001b[4m1\u001b[24m\u001b[4m3\u001b[24m\u001b[4m6\u001b[24m520 \u001b[4m1\u001b[24m\u001b[4m3\u001b[24m\u001b[4m6\u001b[24m950 peak1                            -\u001b[31m2\u001b[39m\u001b[31m.\u001b[39m\u001b[31m71\u001b[39m .     \n",
       "\u001b[90m2\u001b[39m chr1     \u001b[4m1\u001b[24m\u001b[4m3\u001b[24m\u001b[4m7\u001b[24m050 \u001b[4m1\u001b[24m\u001b[4m3\u001b[24m\u001b[4m7\u001b[24m150 peak2                            -\u001b[31m2\u001b[39m\u001b[31m.\u001b[39m\u001b[31m43\u001b[39m .     \n",
       "\u001b[90m3\u001b[39m chr1     \u001b[4m1\u001b[24m\u001b[4m8\u001b[24m\u001b[4m1\u001b[24m600 \u001b[4m1\u001b[24m\u001b[4m8\u001b[24m\u001b[4m1\u001b[24m790 peak3                            -\u001b[31m3\u001b[39m\u001b[31m.\u001b[39m\u001b[31m15\u001b[39m .     \n",
       "\u001b[90m4\u001b[39m chr1     \u001b[4m8\u001b[24m\u001b[4m2\u001b[24m\u001b[4m7\u001b[24m060 \u001b[4m8\u001b[24m\u001b[4m2\u001b[24m\u001b[4m7\u001b[24m160 peak4                            -\u001b[31m2\u001b[39m\u001b[31m.\u001b[39m\u001b[31m39\u001b[39m .     \n",
       "\u001b[90m5\u001b[39m chr1     \u001b[4m8\u001b[24m\u001b[4m2\u001b[24m\u001b[4m7\u001b[24m590 \u001b[4m8\u001b[24m\u001b[4m2\u001b[24m\u001b[4m8\u001b[24m050 peak5                            -\u001b[31m3\u001b[39m\u001b[31m.\u001b[39m\u001b[31m94\u001b[39m .     \n",
       "\u001b[90m6\u001b[39m chr1     \u001b[4m8\u001b[24m\u001b[4m6\u001b[24m\u001b[4m9\u001b[24m810 \u001b[4m8\u001b[24m\u001b[4m7\u001b[24m\u001b[4m0\u001b[24m100 peak6                            -\u001b[31m3\u001b[39m\u001b[31m.\u001b[39m\u001b[31m42\u001b[39m .     \n",
       "\u001b[90m# ℹ 7 more variables: `Z_score based on mean logFC` <dbl>,\u001b[39m\n",
       "\u001b[90m#   `Summit seqnames` <chr>, `Summit start` <dbl>, `Summit end` <dbl>,\u001b[39m\n",
       "\u001b[90m#   `Summit logFC` <dbl>, `Summit z-score` <chr>, `Peak size` <dbl>\u001b[39m\n"
      ]
     },
     "metadata": {},
     "output_type": "display_data"
    }
   ],
   "source": [
    "lapply(lst, head)"
   ]
  },
  {
   "cell_type": "code",
   "execution_count": 13,
   "metadata": {},
   "outputs": [
    {
     "data": {
      "text/html": [
       "<table class=\"dataframe\">\n",
       "<caption>A tibble: 6 × 13</caption>\n",
       "<thead>\n",
       "\t<tr><th scope=col>Seqnames</th><th scope=col>Start</th><th scope=col>End</th><th scope=col>Name</th><th scope=col>Mean logFC across all the bins</th><th scope=col>Strand</th><th scope=col>Z_score based on mean logFC</th><th scope=col>Summit seqnames</th><th scope=col>Summit start</th><th scope=col>Summit end</th><th scope=col>Summit logFC</th><th scope=col>Summit z-score</th><th scope=col>Peak size</th></tr>\n",
       "\t<tr><th scope=col>&lt;chr&gt;</th><th scope=col>&lt;dbl&gt;</th><th scope=col>&lt;dbl&gt;</th><th scope=col>&lt;chr&gt;</th><th scope=col>&lt;dbl&gt;</th><th scope=col>&lt;chr&gt;</th><th scope=col>&lt;dbl&gt;</th><th scope=col>&lt;chr&gt;</th><th scope=col>&lt;dbl&gt;</th><th scope=col>&lt;dbl&gt;</th><th scope=col>&lt;dbl&gt;</th><th scope=col>&lt;dbl&gt;</th><th scope=col>&lt;dbl&gt;</th></tr>\n",
       "</thead>\n",
       "<tbody>\n",
       "\t<tr><td>chr1</td><td>1013020</td><td>1013470</td><td>peak_both_1</td><td>2.658360</td><td>.</td><td>2.181596</td><td>chr1</td><td>1013360</td><td>1013460</td><td>2.892628</td><td>2.346891</td><td>450</td></tr>\n",
       "\t<tr><td>chr1</td><td>1724540</td><td>1724700</td><td>peak_both_2</td><td>2.619779</td><td>.</td><td>2.154374</td><td>chr1</td><td>1724570</td><td>1724670</td><td>2.798618</td><td>2.280560</td><td>160</td></tr>\n",
       "\t<tr><td>chr1</td><td>2290700</td><td>2291030</td><td>peak_both_3</td><td>2.951714</td><td>.</td><td>2.388582</td><td>chr1</td><td>2290810</td><td>2290910</td><td>3.366537</td><td>2.681274</td><td>330</td></tr>\n",
       "\t<tr><td>chr1</td><td>3313260</td><td>3313400</td><td>peak_both_4</td><td>2.655312</td><td>.</td><td>2.179446</td><td>chr1</td><td>3313270</td><td>3313370</td><td>2.705816</td><td>2.215080</td><td>140</td></tr>\n",
       "\t<tr><td>chr1</td><td>5856530</td><td>5856630</td><td>peak_both_5</td><td>2.396075</td><td>.</td><td>1.996532</td><td>chr1</td><td>5856530</td><td>5856630</td><td>2.396075</td><td>1.996532</td><td>100</td></tr>\n",
       "\t<tr><td>chr1</td><td>5917710</td><td>5917930</td><td>peak_both_6</td><td>2.640920</td><td>.</td><td>2.169290</td><td>chr1</td><td>5917760</td><td>5917860</td><td>2.806423</td><td>2.286066</td><td>220</td></tr>\n",
       "</tbody>\n",
       "</table>\n"
      ],
      "text/latex": [
       "A tibble: 6 × 13\n",
       "\\begin{tabular}{lllllllllllll}\n",
       " Seqnames & Start & End & Name & Mean logFC across all the bins & Strand & Z\\_score based on mean logFC & Summit seqnames & Summit start & Summit end & Summit logFC & Summit z-score & Peak size\\\\\n",
       " <chr> & <dbl> & <dbl> & <chr> & <dbl> & <chr> & <dbl> & <chr> & <dbl> & <dbl> & <dbl> & <dbl> & <dbl>\\\\\n",
       "\\hline\n",
       "\t chr1 & 1013020 & 1013470 & peak\\_both\\_1 & 2.658360 & . & 2.181596 & chr1 & 1013360 & 1013460 & 2.892628 & 2.346891 & 450\\\\\n",
       "\t chr1 & 1724540 & 1724700 & peak\\_both\\_2 & 2.619779 & . & 2.154374 & chr1 & 1724570 & 1724670 & 2.798618 & 2.280560 & 160\\\\\n",
       "\t chr1 & 2290700 & 2291030 & peak\\_both\\_3 & 2.951714 & . & 2.388582 & chr1 & 2290810 & 2290910 & 3.366537 & 2.681274 & 330\\\\\n",
       "\t chr1 & 3313260 & 3313400 & peak\\_both\\_4 & 2.655312 & . & 2.179446 & chr1 & 3313270 & 3313370 & 2.705816 & 2.215080 & 140\\\\\n",
       "\t chr1 & 5856530 & 5856630 & peak\\_both\\_5 & 2.396075 & . & 1.996532 & chr1 & 5856530 & 5856630 & 2.396075 & 1.996532 & 100\\\\\n",
       "\t chr1 & 5917710 & 5917930 & peak\\_both\\_6 & 2.640920 & . & 2.169290 & chr1 & 5917760 & 5917860 & 2.806423 & 2.286066 & 220\\\\\n",
       "\\end{tabular}\n"
      ],
      "text/markdown": [
       "\n",
       "A tibble: 6 × 13\n",
       "\n",
       "| Seqnames &lt;chr&gt; | Start &lt;dbl&gt; | End &lt;dbl&gt; | Name &lt;chr&gt; | Mean logFC across all the bins &lt;dbl&gt; | Strand &lt;chr&gt; | Z_score based on mean logFC &lt;dbl&gt; | Summit seqnames &lt;chr&gt; | Summit start &lt;dbl&gt; | Summit end &lt;dbl&gt; | Summit logFC &lt;dbl&gt; | Summit z-score &lt;dbl&gt; | Peak size &lt;dbl&gt; |\n",
       "|---|---|---|---|---|---|---|---|---|---|---|---|---|\n",
       "| chr1 | 1013020 | 1013470 | peak_both_1 | 2.658360 | . | 2.181596 | chr1 | 1013360 | 1013460 | 2.892628 | 2.346891 | 450 |\n",
       "| chr1 | 1724540 | 1724700 | peak_both_2 | 2.619779 | . | 2.154374 | chr1 | 1724570 | 1724670 | 2.798618 | 2.280560 | 160 |\n",
       "| chr1 | 2290700 | 2291030 | peak_both_3 | 2.951714 | . | 2.388582 | chr1 | 2290810 | 2290910 | 3.366537 | 2.681274 | 330 |\n",
       "| chr1 | 3313260 | 3313400 | peak_both_4 | 2.655312 | . | 2.179446 | chr1 | 3313270 | 3313370 | 2.705816 | 2.215080 | 140 |\n",
       "| chr1 | 5856530 | 5856630 | peak_both_5 | 2.396075 | . | 1.996532 | chr1 | 5856530 | 5856630 | 2.396075 | 1.996532 | 100 |\n",
       "| chr1 | 5917710 | 5917930 | peak_both_6 | 2.640920 | . | 2.169290 | chr1 | 5917760 | 5917860 | 2.806423 | 2.286066 | 220 |\n",
       "\n"
      ],
      "text/plain": [
       "  Seqnames Start   End     Name        Mean logFC across all the bins Strand\n",
       "1 chr1     1013020 1013470 peak_both_1 2.658360                       .     \n",
       "2 chr1     1724540 1724700 peak_both_2 2.619779                       .     \n",
       "3 chr1     2290700 2291030 peak_both_3 2.951714                       .     \n",
       "4 chr1     3313260 3313400 peak_both_4 2.655312                       .     \n",
       "5 chr1     5856530 5856630 peak_both_5 2.396075                       .     \n",
       "6 chr1     5917710 5917930 peak_both_6 2.640920                       .     \n",
       "  Z_score based on mean logFC Summit seqnames Summit start Summit end\n",
       "1 2.181596                    chr1            1013360      1013460   \n",
       "2 2.154374                    chr1            1724570      1724670   \n",
       "3 2.388582                    chr1            2290810      2290910   \n",
       "4 2.179446                    chr1            3313270      3313370   \n",
       "5 1.996532                    chr1            5856530      5856630   \n",
       "6 2.169290                    chr1            5917760      5917860   \n",
       "  Summit logFC Summit z-score Peak size\n",
       "1 2.892628     2.346891       450      \n",
       "2 2.798618     2.280560       160      \n",
       "3 3.366537     2.681274       330      \n",
       "4 2.705816     2.215080       140      \n",
       "5 2.396075     1.996532       100      \n",
       "6 2.806423     2.286066       220      "
      ]
     },
     "metadata": {},
     "output_type": "display_data"
    }
   ],
   "source": [
    "head(lst[[1]])"
   ]
  },
  {
   "cell_type": "code",
   "execution_count": 14,
   "metadata": {},
   "outputs": [
    {
     "name": "stdout",
     "output_type": "stream",
     "text": [
      "merged_enhancer_peak_orientation_independent.bed.gz \n",
      "[1] 3123   13\n",
      "merged_enhancer_peaks_in_either_orientation.bed.gz \n",
      "[1] 9368   13\n",
      "merged_repressor_peaks_in_either_orientation.bed.gz \n",
      "[1] 17897    13\n"
     ]
    }
   ],
   "source": [
    "for(idn in names(lst)){\n",
    "    cat(idn, \"\\n\")\n",
    "    dat = lst[[idn]]\n",
    "    print(dim(dat))\n",
    "}"
   ]
  }
 ],
 "metadata": {
  "kernelspec": {
   "display_name": "R",
   "language": "R",
   "name": "ir"
  },
  "language_info": {
   "codemirror_mode": "r",
   "file_extension": ".r",
   "mimetype": "text/x-r-source",
   "name": "R",
   "pygments_lexer": "r",
   "version": "4.3.1"
  }
 },
 "nbformat": 4,
 "nbformat_minor": 4
}
