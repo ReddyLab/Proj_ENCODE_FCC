{
 "cells": [
  {
   "cell_type": "markdown",
   "id": "cd4561c8",
   "metadata": {},
   "source": [
    "**Set environment**"
   ]
  },
  {
   "cell_type": "code",
   "execution_count": 1,
   "id": "f364efa4",
   "metadata": {},
   "outputs": [
    {
     "name": "stdout",
     "output_type": "stream",
     "text": [
      "You are in Singularity: singularity_proj_encode_fcc \n",
      "BASE DIRECTORY (FD_BASE): /data/reddylab/Kuei \n",
      "WORK DIRECTORY (FD_WORK): /data/reddylab/Kuei/out \n",
      "CODE DIRECTORY (FD_CODE): /data/reddylab/Kuei/code \n",
      "PATH OF PROJECT (FD_PRJ): /data/reddylab/Kuei/code/Proj_CombEffect_ENCODE_FCC \n",
      "PATH OF RESULTS (FD_RES): /data/reddylab/Kuei/out/proj_combeffect_encode_fcc \n",
      "PATH OF LOG     (FD_LOG): /data/reddylab/Kuei/out/proj_combeffect_encode_fcc/log \n"
     ]
    }
   ],
   "source": [
    "suppressWarnings(suppressMessages(source(\"../config/config_sing.R\")))\n",
    "show_env()"
   ]
  },
  {
   "cell_type": "markdown",
   "id": "419816dd",
   "metadata": {},
   "source": [
    "**Check data**"
   ]
  },
  {
   "cell_type": "code",
   "execution_count": 2,
   "id": "15fc4cff",
   "metadata": {},
   "outputs": [
    {
     "name": "stdout",
     "output_type": "stream",
     "text": [
      " [1] \"CAPRIN1_HCRFF_CASA_elem_quant.bed\" \"CAT_HCRFF_CASA_elem_quant.bed\"    \n",
      " [3] \"CD164_HCRFF_CASA_elem_quant.bed\"   \"ERP29_HCRFF_CASA_elem_quant.bed\"  \n",
      " [5] \"FADS1_HCRFF_CASA_elem_quant.bed\"   \"FADS2_HCRFF_CASA_elem_quant.bed\"  \n",
      " [7] \"FADS3_HCRFF_CASA_elem_quant.bed\"   \"FEN1_HCRFF_CASA_elem_quant.bed\"   \n",
      " [9] \"GATA1_HCRFF_CASA_elem_quant.bed\"   \"HBE1_HCRFF_CASA_elem_quant.bed\"   \n",
      "[11] \"HBG1_HCRFF_CASA_elem_quant.bed\"    \"HBG2_HCRFF_CASA_elem_quant.bed\"   \n",
      "[13] \"HBS1L_HCRFF_CASA_elem_quant.bed\"   \"HDAC6_HCRFF_CASA_elem_quant.bed\"  \n",
      "[15] \"LMO2_HCRFF_CASA_elem_quant.bed\"    \"MEF2C_HCRFF_CASA_elem_quant.bed\"  \n",
      "[17] \"MYB_HCRFF_CASA_elem_quant.bed\"     \"MYC_HCRFF_CASA_elem_quant.bed\"    \n",
      "[19] \"NMU_HCRFF_CASA_elem_quant.bed\"     \"PVT1_HCRFF_CASA_elem_quant.bed\"   \n"
     ]
    }
   ],
   "source": [
    "fdiry = file.path(FD_RES, \"source\", \"CRISPRi_FlowFISH\", \"peak_casa_calls\")\n",
    "print(dir(fdiry))"
   ]
  },
  {
   "cell_type": "markdown",
   "id": "3859c7f0",
   "metadata": {},
   "source": [
    "## Import data"
   ]
  },
  {
   "cell_type": "code",
   "execution_count": 3,
   "id": "64200690",
   "metadata": {},
   "outputs": [
    {
     "name": "stdout",
     "output_type": "stream",
     "text": [
      "[1] 113  25\n"
     ]
    },
    {
     "data": {
      "text/html": [
       "<table class=\"dataframe\">\n",
       "<caption>A tibble: 6 × 25</caption>\n",
       "<thead>\n",
       "\t<tr><th scope=col>X1</th><th scope=col>X2</th><th scope=col>X3</th><th scope=col>X4</th><th scope=col>X5</th><th scope=col>X6</th><th scope=col>X7</th><th scope=col>X8</th><th scope=col>X9</th><th scope=col>X10</th><th scope=col>⋯</th><th scope=col>X16</th><th scope=col>X17</th><th scope=col>X18</th><th scope=col>X19</th><th scope=col>X20</th><th scope=col>X21</th><th scope=col>X22</th><th scope=col>X23</th><th scope=col>X24</th><th scope=col>X25</th></tr>\n",
       "\t<tr><th scope=col>&lt;chr&gt;</th><th scope=col>&lt;dbl&gt;</th><th scope=col>&lt;dbl&gt;</th><th scope=col>&lt;chr&gt;</th><th scope=col>&lt;dbl&gt;</th><th scope=col>&lt;chr&gt;</th><th scope=col>&lt;chr&gt;</th><th scope=col>&lt;chr&gt;</th><th scope=col>&lt;dbl&gt;</th><th scope=col>&lt;dbl&gt;</th><th scope=col>⋯</th><th scope=col>&lt;chr&gt;</th><th scope=col>&lt;chr&gt;</th><th scope=col>&lt;lgl&gt;</th><th scope=col>&lt;lgl&gt;</th><th scope=col>&lt;lgl&gt;</th><th scope=col>&lt;lgl&gt;</th><th scope=col>&lt;lgl&gt;</th><th scope=col>&lt;lgl&gt;</th><th scope=col>&lt;lgl&gt;</th><th scope=col>&lt;lgl&gt;</th></tr>\n",
       "</thead>\n",
       "<tbody>\n",
       "\t<tr><td>chr11</td><td>33944871</td><td>33945471</td><td>chr11:33944871-33945471:.</td><td>0.8037646</td><td>.</td><td>chr11:33944871-33945471:.</td><td>chr11</td><td>34051730</td><td>34051731</td><td>⋯</td><td>NA</td><td>NA</td><td>TRUE</td><td>NA</td><td>NA</td><td>NA</td><td>NA</td><td>NA</td><td>TRUE</td><td>NA</td></tr>\n",
       "\t<tr><td>chr11</td><td>34050971</td><td>34051471</td><td>chr11:34050971-34051471:.</td><td>0.9739873</td><td>.</td><td>chr11:34050971-34051471:.</td><td>chr11</td><td>34051730</td><td>34051731</td><td>⋯</td><td>NA</td><td>NA</td><td>TRUE</td><td>NA</td><td>NA</td><td>NA</td><td>NA</td><td>NA</td><td>TRUE</td><td>NA</td></tr>\n",
       "\t<tr><td>chr11</td><td>34051571</td><td>34054171</td><td>chr11:34051571-34054171:.</td><td>2.0642907</td><td>.</td><td>chr11:34051571-34054171:.</td><td>chr11</td><td>34051730</td><td>34051731</td><td>⋯</td><td>NA</td><td>NA</td><td>TRUE</td><td>NA</td><td>NA</td><td>NA</td><td>NA</td><td>NA</td><td>TRUE</td><td>NA</td></tr>\n",
       "\t<tr><td>chr11</td><td>34085871</td><td>34086871</td><td>chr11:34085871-34086871:.</td><td>1.0092724</td><td>.</td><td>chr11:34085871-34086871:.</td><td>chr11</td><td>34051730</td><td>34051731</td><td>⋯</td><td>NA</td><td>NA</td><td>TRUE</td><td>NA</td><td>NA</td><td>NA</td><td>NA</td><td>NA</td><td>TRUE</td><td>NA</td></tr>\n",
       "\t<tr><td>chr11</td><td>33944868</td><td>33945268</td><td>chr11:33944868-33945268:.</td><td>1.2146755</td><td>.</td><td>chr11:33944868-33945268:.</td><td>chr11</td><td>34438933</td><td>34438934</td><td>⋯</td><td>NA</td><td>NA</td><td>TRUE</td><td>NA</td><td>NA</td><td>NA</td><td>NA</td><td>NA</td><td>TRUE</td><td>NA</td></tr>\n",
       "\t<tr><td>chr11</td><td>34437468</td><td>34440568</td><td>chr11:34437468-34440568:.</td><td>3.2866681</td><td>.</td><td>chr11:34437468-34440568:.</td><td>chr11</td><td>34438933</td><td>34438934</td><td>⋯</td><td>NA</td><td>NA</td><td>TRUE</td><td>NA</td><td>NA</td><td>NA</td><td>NA</td><td>NA</td><td>TRUE</td><td>NA</td></tr>\n",
       "</tbody>\n",
       "</table>\n"
      ],
      "text/latex": [
       "A tibble: 6 × 25\n",
       "\\begin{tabular}{lllllllllllllllllllll}\n",
       " X1 & X2 & X3 & X4 & X5 & X6 & X7 & X8 & X9 & X10 & ⋯ & X16 & X17 & X18 & X19 & X20 & X21 & X22 & X23 & X24 & X25\\\\\n",
       " <chr> & <dbl> & <dbl> & <chr> & <dbl> & <chr> & <chr> & <chr> & <dbl> & <dbl> & ⋯ & <chr> & <chr> & <lgl> & <lgl> & <lgl> & <lgl> & <lgl> & <lgl> & <lgl> & <lgl>\\\\\n",
       "\\hline\n",
       "\t chr11 & 33944871 & 33945471 & chr11:33944871-33945471:. & 0.8037646 & . & chr11:33944871-33945471:. & chr11 & 34051730 & 34051731 & ⋯ & NA & NA & TRUE & NA & NA & NA & NA & NA & TRUE & NA\\\\\n",
       "\t chr11 & 34050971 & 34051471 & chr11:34050971-34051471:. & 0.9739873 & . & chr11:34050971-34051471:. & chr11 & 34051730 & 34051731 & ⋯ & NA & NA & TRUE & NA & NA & NA & NA & NA & TRUE & NA\\\\\n",
       "\t chr11 & 34051571 & 34054171 & chr11:34051571-34054171:. & 2.0642907 & . & chr11:34051571-34054171:. & chr11 & 34051730 & 34051731 & ⋯ & NA & NA & TRUE & NA & NA & NA & NA & NA & TRUE & NA\\\\\n",
       "\t chr11 & 34085871 & 34086871 & chr11:34085871-34086871:. & 1.0092724 & . & chr11:34085871-34086871:. & chr11 & 34051730 & 34051731 & ⋯ & NA & NA & TRUE & NA & NA & NA & NA & NA & TRUE & NA\\\\\n",
       "\t chr11 & 33944868 & 33945268 & chr11:33944868-33945268:. & 1.2146755 & . & chr11:33944868-33945268:. & chr11 & 34438933 & 34438934 & ⋯ & NA & NA & TRUE & NA & NA & NA & NA & NA & TRUE & NA\\\\\n",
       "\t chr11 & 34437468 & 34440568 & chr11:34437468-34440568:. & 3.2866681 & . & chr11:34437468-34440568:. & chr11 & 34438933 & 34438934 & ⋯ & NA & NA & TRUE & NA & NA & NA & NA & NA & TRUE & NA\\\\\n",
       "\\end{tabular}\n"
      ],
      "text/markdown": [
       "\n",
       "A tibble: 6 × 25\n",
       "\n",
       "| X1 &lt;chr&gt; | X2 &lt;dbl&gt; | X3 &lt;dbl&gt; | X4 &lt;chr&gt; | X5 &lt;dbl&gt; | X6 &lt;chr&gt; | X7 &lt;chr&gt; | X8 &lt;chr&gt; | X9 &lt;dbl&gt; | X10 &lt;dbl&gt; | ⋯ ⋯ | X16 &lt;chr&gt; | X17 &lt;chr&gt; | X18 &lt;lgl&gt; | X19 &lt;lgl&gt; | X20 &lt;lgl&gt; | X21 &lt;lgl&gt; | X22 &lt;lgl&gt; | X23 &lt;lgl&gt; | X24 &lt;lgl&gt; | X25 &lt;lgl&gt; |\n",
       "|---|---|---|---|---|---|---|---|---|---|---|---|---|---|---|---|---|---|---|---|---|\n",
       "| chr11 | 33944871 | 33945471 | chr11:33944871-33945471:. | 0.8037646 | . | chr11:33944871-33945471:. | chr11 | 34051730 | 34051731 | ⋯ | NA | NA | TRUE | NA | NA | NA | NA | NA | TRUE | NA |\n",
       "| chr11 | 34050971 | 34051471 | chr11:34050971-34051471:. | 0.9739873 | . | chr11:34050971-34051471:. | chr11 | 34051730 | 34051731 | ⋯ | NA | NA | TRUE | NA | NA | NA | NA | NA | TRUE | NA |\n",
       "| chr11 | 34051571 | 34054171 | chr11:34051571-34054171:. | 2.0642907 | . | chr11:34051571-34054171:. | chr11 | 34051730 | 34051731 | ⋯ | NA | NA | TRUE | NA | NA | NA | NA | NA | TRUE | NA |\n",
       "| chr11 | 34085871 | 34086871 | chr11:34085871-34086871:. | 1.0092724 | . | chr11:34085871-34086871:. | chr11 | 34051730 | 34051731 | ⋯ | NA | NA | TRUE | NA | NA | NA | NA | NA | TRUE | NA |\n",
       "| chr11 | 33944868 | 33945268 | chr11:33944868-33945268:. | 1.2146755 | . | chr11:33944868-33945268:. | chr11 | 34438933 | 34438934 | ⋯ | NA | NA | TRUE | NA | NA | NA | NA | NA | TRUE | NA |\n",
       "| chr11 | 34437468 | 34440568 | chr11:34437468-34440568:. | 3.2866681 | . | chr11:34437468-34440568:. | chr11 | 34438933 | 34438934 | ⋯ | NA | NA | TRUE | NA | NA | NA | NA | NA | TRUE | NA |\n",
       "\n"
      ],
      "text/plain": [
       "  X1    X2       X3       X4                        X5        X6\n",
       "1 chr11 33944871 33945471 chr11:33944871-33945471:. 0.8037646 . \n",
       "2 chr11 34050971 34051471 chr11:34050971-34051471:. 0.9739873 . \n",
       "3 chr11 34051571 34054171 chr11:34051571-34054171:. 2.0642907 . \n",
       "4 chr11 34085871 34086871 chr11:34085871-34086871:. 1.0092724 . \n",
       "5 chr11 33944868 33945268 chr11:33944868-33945268:. 1.2146755 . \n",
       "6 chr11 34437468 34440568 chr11:34437468-34440568:. 3.2866681 . \n",
       "  X7                        X8    X9       X10      ⋯ X16 X17 X18  X19 X20 X21\n",
       "1 chr11:33944871-33945471:. chr11 34051730 34051731 ⋯ NA  NA  TRUE NA  NA  NA \n",
       "2 chr11:34050971-34051471:. chr11 34051730 34051731 ⋯ NA  NA  TRUE NA  NA  NA \n",
       "3 chr11:34051571-34054171:. chr11 34051730 34051731 ⋯ NA  NA  TRUE NA  NA  NA \n",
       "4 chr11:34085871-34086871:. chr11 34051730 34051731 ⋯ NA  NA  TRUE NA  NA  NA \n",
       "5 chr11:33944868-33945268:. chr11 34438933 34438934 ⋯ NA  NA  TRUE NA  NA  NA \n",
       "6 chr11:34437468-34440568:. chr11 34438933 34438934 ⋯ NA  NA  TRUE NA  NA  NA \n",
       "  X22 X23 X24  X25\n",
       "1 NA  NA  TRUE NA \n",
       "2 NA  NA  TRUE NA \n",
       "3 NA  NA  TRUE NA \n",
       "4 NA  NA  TRUE NA \n",
       "5 NA  NA  TRUE NA \n",
       "6 NA  NA  TRUE NA "
      ]
     },
     "metadata": {},
     "output_type": "display_data"
    }
   ],
   "source": [
    "fdiry = file.path(FD_RES, \"source\", \"CRISPRi_FlowFISH\", \"peak_casa_calls\")\n",
    "fname  = \"*HCRFF*bed\"\n",
    "fglob  = file.path(fdiry, fname)\n",
    "fpaths = Sys.glob(fglob)\n",
    "\n",
    "lst = lapply(fpaths, function(fpath){\n",
    "    dat = read_tsv(fpath, col_names = FALSE, show_col_types = FALSE)\n",
    "    return(dat)\n",
    "})\n",
    "dat = bind_rows(lst)\n",
    "\n",
    "dat_peak_casa = dat\n",
    "print(dim(dat))\n",
    "head(dat)"
   ]
  },
  {
   "cell_type": "markdown",
   "id": "f811252b",
   "metadata": {},
   "source": [
    "## Arrange table"
   ]
  },
  {
   "cell_type": "code",
   "execution_count": 4,
   "id": "5cf693e8",
   "metadata": {},
   "outputs": [
    {
     "data": {
      "text/html": [
       "<table class=\"dataframe\">\n",
       "<caption>A tibble: 6 × 18</caption>\n",
       "<thead>\n",
       "\t<tr><th scope=col>X8</th><th scope=col>X9</th><th scope=col>X10</th><th scope=col>X11</th><th scope=col>X12</th><th scope=col>X13</th><th scope=col>X14</th><th scope=col>X15</th><th scope=col>X16</th><th scope=col>X17</th><th scope=col>X18</th><th scope=col>X19</th><th scope=col>X20</th><th scope=col>X21</th><th scope=col>X22</th><th scope=col>X23</th><th scope=col>X24</th><th scope=col>X25</th></tr>\n",
       "\t<tr><th scope=col>&lt;chr&gt;</th><th scope=col>&lt;dbl&gt;</th><th scope=col>&lt;dbl&gt;</th><th scope=col>&lt;chr&gt;</th><th scope=col>&lt;lgl&gt;</th><th scope=col>&lt;lgl&gt;</th><th scope=col>&lt;chr&gt;</th><th scope=col>&lt;chr&gt;</th><th scope=col>&lt;chr&gt;</th><th scope=col>&lt;chr&gt;</th><th scope=col>&lt;lgl&gt;</th><th scope=col>&lt;lgl&gt;</th><th scope=col>&lt;lgl&gt;</th><th scope=col>&lt;lgl&gt;</th><th scope=col>&lt;lgl&gt;</th><th scope=col>&lt;lgl&gt;</th><th scope=col>&lt;lgl&gt;</th><th scope=col>&lt;lgl&gt;</th></tr>\n",
       "</thead>\n",
       "<tbody>\n",
       "\t<tr><td>chr11</td><td>34051730</td><td>34051731</td><td>+</td><td>NA</td><td>NA</td><td>CAPRIN1</td><td>ENSG00000135387</td><td>NA</td><td>NA</td><td>TRUE</td><td>NA</td><td>NA</td><td>NA</td><td>NA</td><td>NA</td><td>TRUE</td><td>NA</td></tr>\n",
       "\t<tr><td>chr11</td><td>34051730</td><td>34051731</td><td>+</td><td>NA</td><td>NA</td><td>CAPRIN1</td><td>ENSG00000135387</td><td>NA</td><td>NA</td><td>TRUE</td><td>NA</td><td>NA</td><td>NA</td><td>NA</td><td>NA</td><td>TRUE</td><td>NA</td></tr>\n",
       "\t<tr><td>chr11</td><td>34051730</td><td>34051731</td><td>+</td><td>NA</td><td>NA</td><td>CAPRIN1</td><td>ENSG00000135387</td><td>NA</td><td>NA</td><td>TRUE</td><td>NA</td><td>NA</td><td>NA</td><td>NA</td><td>NA</td><td>TRUE</td><td>NA</td></tr>\n",
       "\t<tr><td>chr11</td><td>34051730</td><td>34051731</td><td>+</td><td>NA</td><td>NA</td><td>CAPRIN1</td><td>ENSG00000135387</td><td>NA</td><td>NA</td><td>TRUE</td><td>NA</td><td>NA</td><td>NA</td><td>NA</td><td>NA</td><td>TRUE</td><td>NA</td></tr>\n",
       "\t<tr><td>chr11</td><td>34438933</td><td>34438934</td><td>+</td><td>NA</td><td>NA</td><td>CAT    </td><td>ENSG00000121691</td><td>NA</td><td>NA</td><td>TRUE</td><td>NA</td><td>NA</td><td>NA</td><td>NA</td><td>NA</td><td>TRUE</td><td>NA</td></tr>\n",
       "\t<tr><td>chr11</td><td>34438933</td><td>34438934</td><td>+</td><td>NA</td><td>NA</td><td>CAT    </td><td>ENSG00000121691</td><td>NA</td><td>NA</td><td>TRUE</td><td>NA</td><td>NA</td><td>NA</td><td>NA</td><td>NA</td><td>TRUE</td><td>NA</td></tr>\n",
       "</tbody>\n",
       "</table>\n"
      ],
      "text/latex": [
       "A tibble: 6 × 18\n",
       "\\begin{tabular}{llllllllllllllllll}\n",
       " X8 & X9 & X10 & X11 & X12 & X13 & X14 & X15 & X16 & X17 & X18 & X19 & X20 & X21 & X22 & X23 & X24 & X25\\\\\n",
       " <chr> & <dbl> & <dbl> & <chr> & <lgl> & <lgl> & <chr> & <chr> & <chr> & <chr> & <lgl> & <lgl> & <lgl> & <lgl> & <lgl> & <lgl> & <lgl> & <lgl>\\\\\n",
       "\\hline\n",
       "\t chr11 & 34051730 & 34051731 & + & NA & NA & CAPRIN1 & ENSG00000135387 & NA & NA & TRUE & NA & NA & NA & NA & NA & TRUE & NA\\\\\n",
       "\t chr11 & 34051730 & 34051731 & + & NA & NA & CAPRIN1 & ENSG00000135387 & NA & NA & TRUE & NA & NA & NA & NA & NA & TRUE & NA\\\\\n",
       "\t chr11 & 34051730 & 34051731 & + & NA & NA & CAPRIN1 & ENSG00000135387 & NA & NA & TRUE & NA & NA & NA & NA & NA & TRUE & NA\\\\\n",
       "\t chr11 & 34051730 & 34051731 & + & NA & NA & CAPRIN1 & ENSG00000135387 & NA & NA & TRUE & NA & NA & NA & NA & NA & TRUE & NA\\\\\n",
       "\t chr11 & 34438933 & 34438934 & + & NA & NA & CAT     & ENSG00000121691 & NA & NA & TRUE & NA & NA & NA & NA & NA & TRUE & NA\\\\\n",
       "\t chr11 & 34438933 & 34438934 & + & NA & NA & CAT     & ENSG00000121691 & NA & NA & TRUE & NA & NA & NA & NA & NA & TRUE & NA\\\\\n",
       "\\end{tabular}\n"
      ],
      "text/markdown": [
       "\n",
       "A tibble: 6 × 18\n",
       "\n",
       "| X8 &lt;chr&gt; | X9 &lt;dbl&gt; | X10 &lt;dbl&gt; | X11 &lt;chr&gt; | X12 &lt;lgl&gt; | X13 &lt;lgl&gt; | X14 &lt;chr&gt; | X15 &lt;chr&gt; | X16 &lt;chr&gt; | X17 &lt;chr&gt; | X18 &lt;lgl&gt; | X19 &lt;lgl&gt; | X20 &lt;lgl&gt; | X21 &lt;lgl&gt; | X22 &lt;lgl&gt; | X23 &lt;lgl&gt; | X24 &lt;lgl&gt; | X25 &lt;lgl&gt; |\n",
       "|---|---|---|---|---|---|---|---|---|---|---|---|---|---|---|---|---|---|\n",
       "| chr11 | 34051730 | 34051731 | + | NA | NA | CAPRIN1 | ENSG00000135387 | NA | NA | TRUE | NA | NA | NA | NA | NA | TRUE | NA |\n",
       "| chr11 | 34051730 | 34051731 | + | NA | NA | CAPRIN1 | ENSG00000135387 | NA | NA | TRUE | NA | NA | NA | NA | NA | TRUE | NA |\n",
       "| chr11 | 34051730 | 34051731 | + | NA | NA | CAPRIN1 | ENSG00000135387 | NA | NA | TRUE | NA | NA | NA | NA | NA | TRUE | NA |\n",
       "| chr11 | 34051730 | 34051731 | + | NA | NA | CAPRIN1 | ENSG00000135387 | NA | NA | TRUE | NA | NA | NA | NA | NA | TRUE | NA |\n",
       "| chr11 | 34438933 | 34438934 | + | NA | NA | CAT     | ENSG00000121691 | NA | NA | TRUE | NA | NA | NA | NA | NA | TRUE | NA |\n",
       "| chr11 | 34438933 | 34438934 | + | NA | NA | CAT     | ENSG00000121691 | NA | NA | TRUE | NA | NA | NA | NA | NA | TRUE | NA |\n",
       "\n"
      ],
      "text/plain": [
       "  X8    X9       X10      X11 X12 X13 X14     X15             X16 X17 X18  X19\n",
       "1 chr11 34051730 34051731 +   NA  NA  CAPRIN1 ENSG00000135387 NA  NA  TRUE NA \n",
       "2 chr11 34051730 34051731 +   NA  NA  CAPRIN1 ENSG00000135387 NA  NA  TRUE NA \n",
       "3 chr11 34051730 34051731 +   NA  NA  CAPRIN1 ENSG00000135387 NA  NA  TRUE NA \n",
       "4 chr11 34051730 34051731 +   NA  NA  CAPRIN1 ENSG00000135387 NA  NA  TRUE NA \n",
       "5 chr11 34438933 34438934 +   NA  NA  CAT     ENSG00000121691 NA  NA  TRUE NA \n",
       "6 chr11 34438933 34438934 +   NA  NA  CAT     ENSG00000121691 NA  NA  TRUE NA \n",
       "  X20 X21 X22 X23 X24  X25\n",
       "1 NA  NA  NA  NA  TRUE NA \n",
       "2 NA  NA  NA  NA  TRUE NA \n",
       "3 NA  NA  NA  NA  TRUE NA \n",
       "4 NA  NA  NA  NA  TRUE NA \n",
       "5 NA  NA  NA  NA  TRUE NA \n",
       "6 NA  NA  NA  NA  TRUE NA "
      ]
     },
     "metadata": {},
     "output_type": "display_data"
    }
   ],
   "source": [
    "dat = dat_peak_casa\n",
    "dat %>% head %>% dplyr::select(X8:X25)"
   ]
  },
  {
   "cell_type": "code",
   "execution_count": 5,
   "id": "66cb5dac",
   "metadata": {},
   "outputs": [
    {
     "name": "stdout",
     "output_type": "stream",
     "text": [
      "[1] 113  10\n"
     ]
    },
    {
     "data": {
      "text/html": [
       "<table class=\"dataframe\">\n",
       "<caption>A tibble: 6 × 10</caption>\n",
       "<thead>\n",
       "\t<tr><th scope=col>Chrom</th><th scope=col>Start</th><th scope=col>End</th><th scope=col>Name</th><th scope=col>Score</th><th scope=col>Strand</th><th scope=col>Gene_Symbol</th><th scope=col>Gene_ENS</th><th scope=col>Assay_Type</th><th scope=col>Assay_Label</th></tr>\n",
       "\t<tr><th scope=col>&lt;chr&gt;</th><th scope=col>&lt;dbl&gt;</th><th scope=col>&lt;dbl&gt;</th><th scope=col>&lt;chr&gt;</th><th scope=col>&lt;dbl&gt;</th><th scope=col>&lt;chr&gt;</th><th scope=col>&lt;chr&gt;</th><th scope=col>&lt;chr&gt;</th><th scope=col>&lt;chr&gt;</th><th scope=col>&lt;chr&gt;</th></tr>\n",
       "</thead>\n",
       "<tbody>\n",
       "\t<tr><td>chr11</td><td>33944871</td><td>33945471</td><td>chr11:33944871-33945471</td><td>0.8037646</td><td>.</td><td>CAPRIN1</td><td>ENSG00000135387</td><td>CRISPRi-HCRFF</td><td>CRISPRi-HCRFF:CAPRIN1</td></tr>\n",
       "\t<tr><td>chr11</td><td>34050971</td><td>34051471</td><td>chr11:34050971-34051471</td><td>0.9739873</td><td>.</td><td>CAPRIN1</td><td>ENSG00000135387</td><td>CRISPRi-HCRFF</td><td>CRISPRi-HCRFF:CAPRIN1</td></tr>\n",
       "\t<tr><td>chr11</td><td>34051571</td><td>34054171</td><td>chr11:34051571-34054171</td><td>2.0642907</td><td>.</td><td>CAPRIN1</td><td>ENSG00000135387</td><td>CRISPRi-HCRFF</td><td>CRISPRi-HCRFF:CAPRIN1</td></tr>\n",
       "\t<tr><td>chr11</td><td>34085871</td><td>34086871</td><td>chr11:34085871-34086871</td><td>1.0092724</td><td>.</td><td>CAPRIN1</td><td>ENSG00000135387</td><td>CRISPRi-HCRFF</td><td>CRISPRi-HCRFF:CAPRIN1</td></tr>\n",
       "\t<tr><td>chr11</td><td>33944868</td><td>33945268</td><td>chr11:33944868-33945268</td><td>1.2146755</td><td>.</td><td>CAT    </td><td>ENSG00000121691</td><td>CRISPRi-HCRFF</td><td>CRISPRi-HCRFF:CAT    </td></tr>\n",
       "\t<tr><td>chr11</td><td>34437468</td><td>34440568</td><td>chr11:34437468-34440568</td><td>3.2866681</td><td>.</td><td>CAT    </td><td>ENSG00000121691</td><td>CRISPRi-HCRFF</td><td>CRISPRi-HCRFF:CAT    </td></tr>\n",
       "</tbody>\n",
       "</table>\n"
      ],
      "text/latex": [
       "A tibble: 6 × 10\n",
       "\\begin{tabular}{llllllllll}\n",
       " Chrom & Start & End & Name & Score & Strand & Gene\\_Symbol & Gene\\_ENS & Assay\\_Type & Assay\\_Label\\\\\n",
       " <chr> & <dbl> & <dbl> & <chr> & <dbl> & <chr> & <chr> & <chr> & <chr> & <chr>\\\\\n",
       "\\hline\n",
       "\t chr11 & 33944871 & 33945471 & chr11:33944871-33945471 & 0.8037646 & . & CAPRIN1 & ENSG00000135387 & CRISPRi-HCRFF & CRISPRi-HCRFF:CAPRIN1\\\\\n",
       "\t chr11 & 34050971 & 34051471 & chr11:34050971-34051471 & 0.9739873 & . & CAPRIN1 & ENSG00000135387 & CRISPRi-HCRFF & CRISPRi-HCRFF:CAPRIN1\\\\\n",
       "\t chr11 & 34051571 & 34054171 & chr11:34051571-34054171 & 2.0642907 & . & CAPRIN1 & ENSG00000135387 & CRISPRi-HCRFF & CRISPRi-HCRFF:CAPRIN1\\\\\n",
       "\t chr11 & 34085871 & 34086871 & chr11:34085871-34086871 & 1.0092724 & . & CAPRIN1 & ENSG00000135387 & CRISPRi-HCRFF & CRISPRi-HCRFF:CAPRIN1\\\\\n",
       "\t chr11 & 33944868 & 33945268 & chr11:33944868-33945268 & 1.2146755 & . & CAT     & ENSG00000121691 & CRISPRi-HCRFF & CRISPRi-HCRFF:CAT    \\\\\n",
       "\t chr11 & 34437468 & 34440568 & chr11:34437468-34440568 & 3.2866681 & . & CAT     & ENSG00000121691 & CRISPRi-HCRFF & CRISPRi-HCRFF:CAT    \\\\\n",
       "\\end{tabular}\n"
      ],
      "text/markdown": [
       "\n",
       "A tibble: 6 × 10\n",
       "\n",
       "| Chrom &lt;chr&gt; | Start &lt;dbl&gt; | End &lt;dbl&gt; | Name &lt;chr&gt; | Score &lt;dbl&gt; | Strand &lt;chr&gt; | Gene_Symbol &lt;chr&gt; | Gene_ENS &lt;chr&gt; | Assay_Type &lt;chr&gt; | Assay_Label &lt;chr&gt; |\n",
       "|---|---|---|---|---|---|---|---|---|---|\n",
       "| chr11 | 33944871 | 33945471 | chr11:33944871-33945471 | 0.8037646 | . | CAPRIN1 | ENSG00000135387 | CRISPRi-HCRFF | CRISPRi-HCRFF:CAPRIN1 |\n",
       "| chr11 | 34050971 | 34051471 | chr11:34050971-34051471 | 0.9739873 | . | CAPRIN1 | ENSG00000135387 | CRISPRi-HCRFF | CRISPRi-HCRFF:CAPRIN1 |\n",
       "| chr11 | 34051571 | 34054171 | chr11:34051571-34054171 | 2.0642907 | . | CAPRIN1 | ENSG00000135387 | CRISPRi-HCRFF | CRISPRi-HCRFF:CAPRIN1 |\n",
       "| chr11 | 34085871 | 34086871 | chr11:34085871-34086871 | 1.0092724 | . | CAPRIN1 | ENSG00000135387 | CRISPRi-HCRFF | CRISPRi-HCRFF:CAPRIN1 |\n",
       "| chr11 | 33944868 | 33945268 | chr11:33944868-33945268 | 1.2146755 | . | CAT     | ENSG00000121691 | CRISPRi-HCRFF | CRISPRi-HCRFF:CAT     |\n",
       "| chr11 | 34437468 | 34440568 | chr11:34437468-34440568 | 3.2866681 | . | CAT     | ENSG00000121691 | CRISPRi-HCRFF | CRISPRi-HCRFF:CAT     |\n",
       "\n"
      ],
      "text/plain": [
       "  Chrom Start    End      Name                    Score     Strand Gene_Symbol\n",
       "1 chr11 33944871 33945471 chr11:33944871-33945471 0.8037646 .      CAPRIN1    \n",
       "2 chr11 34050971 34051471 chr11:34050971-34051471 0.9739873 .      CAPRIN1    \n",
       "3 chr11 34051571 34054171 chr11:34051571-34054171 2.0642907 .      CAPRIN1    \n",
       "4 chr11 34085871 34086871 chr11:34085871-34086871 1.0092724 .      CAPRIN1    \n",
       "5 chr11 33944868 33945268 chr11:33944868-33945268 1.2146755 .      CAT        \n",
       "6 chr11 34437468 34440568 chr11:34437468-34440568 3.2866681 .      CAT        \n",
       "  Gene_ENS        Assay_Type    Assay_Label          \n",
       "1 ENSG00000135387 CRISPRi-HCRFF CRISPRi-HCRFF:CAPRIN1\n",
       "2 ENSG00000135387 CRISPRi-HCRFF CRISPRi-HCRFF:CAPRIN1\n",
       "3 ENSG00000135387 CRISPRi-HCRFF CRISPRi-HCRFF:CAPRIN1\n",
       "4 ENSG00000135387 CRISPRi-HCRFF CRISPRi-HCRFF:CAPRIN1\n",
       "5 ENSG00000121691 CRISPRi-HCRFF CRISPRi-HCRFF:CAT    \n",
       "6 ENSG00000121691 CRISPRi-HCRFF CRISPRi-HCRFF:CAT    "
      ]
     },
     "metadata": {},
     "output_type": "display_data"
    }
   ],
   "source": [
    "dat = dat_peak_casa\n",
    "dat = dat %>%\n",
    "    dplyr::select(X1, X2, X3, X5, X14, X15)\n",
    "colnames(dat) = c(\"Chrom\", \"Start\", \"End\", \"Score\", \"Gene_Symbol\", \"Gene_ENS\")\n",
    "\n",
    "dat = dat %>%\n",
    "    dplyr::mutate(\n",
    "        Name   = paste0(Chrom, \":\", Start, \"-\", End),\n",
    "        Strand = \".\",\n",
    "        Assay_Type  = \"CRISPRi-HCRFF\",\n",
    "        Assay_Label = paste0(\"CRISPRi-HCRFF\", \":\", Gene_Symbol)\n",
    "    ) %>%\n",
    "    dplyr::select(\n",
    "        Chrom, Start, End, Name, Score, Strand,\n",
    "        Gene_Symbol, Gene_ENS,\n",
    "        Assay_Type, Assay_Label\n",
    "    ) \n",
    "\n",
    "dat_peak_casa_arrange = dat\n",
    "print(dim(dat))\n",
    "head(dat)"
   ]
  },
  {
   "cell_type": "markdown",
   "id": "891eb70f",
   "metadata": {},
   "source": [
    "## Data Dictionary"
   ]
  },
  {
   "cell_type": "code",
   "execution_count": 6,
   "id": "b55c058c",
   "metadata": {},
   "outputs": [
    {
     "data": {
      "text/html": [
       "<table class=\"dataframe\">\n",
       "<caption>A tibble: 10 × 2</caption>\n",
       "<thead>\n",
       "\t<tr><th scope=col>Name</th><th scope=col>Description</th></tr>\n",
       "\t<tr><th scope=col>&lt;chr&gt;</th><th scope=col>&lt;chr&gt;</th></tr>\n",
       "</thead>\n",
       "<tbody>\n",
       "\t<tr><td>Chrom       </td><td>Chromosome                                                 </td></tr>\n",
       "\t<tr><td>Start       </td><td>Start position                                             </td></tr>\n",
       "\t<tr><td>End         </td><td>End position                                               </td></tr>\n",
       "\t<tr><td>Name        </td><td>Name                                                       </td></tr>\n",
       "\t<tr><td>Score       </td><td>Score                                                      </td></tr>\n",
       "\t<tr><td>Strand      </td><td>[+-.]; Use '.' if no strand is assigned.                   </td></tr>\n",
       "\t<tr><td>Gene_Symbol </td><td>Gene symbol;     Gene that is screened for CRISPRi-FlowFish</td></tr>\n",
       "\t<tr><td>Gene_Ensembl</td><td>Gene Ensembl ID; Gene that is screened for CRISPRi-FlowFish</td></tr>\n",
       "\t<tr><td>Assay_Type  </td><td>Assay type                                                 </td></tr>\n",
       "\t<tr><td>Assay_Label </td><td>Assay label                                                </td></tr>\n",
       "</tbody>\n",
       "</table>\n"
      ],
      "text/latex": [
       "A tibble: 10 × 2\n",
       "\\begin{tabular}{ll}\n",
       " Name & Description\\\\\n",
       " <chr> & <chr>\\\\\n",
       "\\hline\n",
       "\t Chrom        & Chromosome                                                 \\\\\n",
       "\t Start        & Start position                                             \\\\\n",
       "\t End          & End position                                               \\\\\n",
       "\t Name         & Name                                                       \\\\\n",
       "\t Score        & Score                                                      \\\\\n",
       "\t Strand       & {[}+-.{]}; Use '.' if no strand is assigned.                   \\\\\n",
       "\t Gene\\_Symbol  & Gene symbol;     Gene that is screened for CRISPRi-FlowFish\\\\\n",
       "\t Gene\\_Ensembl & Gene Ensembl ID; Gene that is screened for CRISPRi-FlowFish\\\\\n",
       "\t Assay\\_Type   & Assay type                                                 \\\\\n",
       "\t Assay\\_Label  & Assay label                                                \\\\\n",
       "\\end{tabular}\n"
      ],
      "text/markdown": [
       "\n",
       "A tibble: 10 × 2\n",
       "\n",
       "| Name &lt;chr&gt; | Description &lt;chr&gt; |\n",
       "|---|---|\n",
       "| Chrom        | Chromosome                                                  |\n",
       "| Start        | Start position                                              |\n",
       "| End          | End position                                                |\n",
       "| Name         | Name                                                        |\n",
       "| Score        | Score                                                       |\n",
       "| Strand       | [+-.]; Use '.' if no strand is assigned.                    |\n",
       "| Gene_Symbol  | Gene symbol;     Gene that is screened for CRISPRi-FlowFish |\n",
       "| Gene_Ensembl | Gene Ensembl ID; Gene that is screened for CRISPRi-FlowFish |\n",
       "| Assay_Type   | Assay type                                                  |\n",
       "| Assay_Label  | Assay label                                                 |\n",
       "\n"
      ],
      "text/plain": [
       "   Name         Description                                                \n",
       "1  Chrom        Chromosome                                                 \n",
       "2  Start        Start position                                             \n",
       "3  End          End position                                               \n",
       "4  Name         Name                                                       \n",
       "5  Score        Score                                                      \n",
       "6  Strand       [+-.]; Use '.' if no strand is assigned.                   \n",
       "7  Gene_Symbol  Gene symbol;     Gene that is screened for CRISPRi-FlowFish\n",
       "8  Gene_Ensembl Gene Ensembl ID; Gene that is screened for CRISPRi-FlowFish\n",
       "9  Assay_Type   Assay type                                                 \n",
       "10 Assay_Label  Assay label                                                "
      ]
     },
     "metadata": {},
     "output_type": "display_data"
    }
   ],
   "source": [
    "dat_cnames = tribble(\n",
    "    ~Name,         ~Description,\n",
    "    \"Chrom\",       \"Chromosome\",\n",
    "    \"Start\",       \"Start position\",\n",
    "    \"End\",         \"End position\",\n",
    "    \"Name\",        \"Name\",\n",
    "    \"Score\",       \"Score\",\n",
    "    \"Strand\",      \"[+-.]; Use '.' if no strand is assigned.\",\n",
    "    \"Gene_Symbol\", \"Gene symbol;     Gene that is screened for CRISPRi-FlowFish\",\n",
    "    \"Gene_Ensembl\",\"Gene Ensembl ID; Gene that is screened for CRISPRi-FlowFish\",\n",
    "    \"Assay_Type\",  \"Assay type\",\n",
    "    \"Assay_Label\", \"Assay label\"\n",
    ")\n",
    "\n",
    "dat_cnames"
   ]
  },
  {
   "cell_type": "markdown",
   "id": "ddac4d70",
   "metadata": {},
   "source": [
    "## Save the tables"
   ]
  },
  {
   "cell_type": "code",
   "execution_count": 7,
   "id": "30b007ad",
   "metadata": {},
   "outputs": [
    {
     "name": "stdout",
     "output_type": "stream",
     "text": [
      "[1] \"/data/reddylab/Kuei/out/proj_combeffect_encode_fcc/results/region/annotation_crispri_hcrff/description.tsv\"\n"
     ]
    }
   ],
   "source": [
    "fdiry = file.path(FD_RES, \"results\", \"region\", \"annotation_crispri_hcrff\")\n",
    "fname = \"description.tsv\"\n",
    "fpath = file.path(fdiry, fname)\n",
    "print(fpath)\n",
    "\n",
    "dat = dat_cnames\n",
    "write_tsv(dat, fpath)"
   ]
  },
  {
   "cell_type": "code",
   "execution_count": 8,
   "id": "77faee6a",
   "metadata": {},
   "outputs": [
    {
     "name": "stdout",
     "output_type": "stream",
     "text": [
      "[1] \"/data/reddylab/Kuei/out/proj_combeffect_encode_fcc/results/region/annotation_crispri_hcrff/crispri_hcrff.casa.bed.gz\"\n"
     ]
    }
   ],
   "source": [
    "fdiry = file.path(FD_RES, \"results\", \"region\", \"annotation_crispri_hcrff\")\n",
    "fname = \"crispri_hcrff.casa.bed.gz\"\n",
    "fpath = file.path(fdiry, fname)\n",
    "print(fpath)\n",
    "\n",
    "dat = dat_peak_casa_arrange\n",
    "dat = dat %>% dplyr::arrange(Chrom, Start, End)\n",
    "write_tsv(dat, fpath, col_names = FALSE)"
   ]
  },
  {
   "cell_type": "code",
   "execution_count": 9,
   "id": "567f1b2e",
   "metadata": {},
   "outputs": [
    {
     "name": "stdout",
     "output_type": "stream",
     "text": [
      "[1] \"/data/reddylab/Kuei/out/proj_combeffect_encode_fcc/results/region/annotation_crispri_hcrff/crispri_hcrff.casa.tsv\"\n"
     ]
    }
   ],
   "source": [
    "fdiry = file.path(FD_RES, \"results\", \"region\", \"annotation_crispri_hcrff\")\n",
    "fname = \"crispri_hcrff.casa.tsv\"\n",
    "fpath = file.path(fdiry, fname)\n",
    "print(fpath)\n",
    "\n",
    "dat = dat_peak_casa_arrange\n",
    "write_tsv(dat, fpath)"
   ]
  },
  {
   "cell_type": "code",
   "execution_count": null,
   "id": "171651d1",
   "metadata": {},
   "outputs": [],
   "source": []
  }
 ],
 "metadata": {
  "kernelspec": {
   "display_name": "R",
   "language": "R",
   "name": "ir"
  },
  "language_info": {
   "codemirror_mode": "r",
   "file_extension": ".r",
   "mimetype": "text/x-r-source",
   "name": "R",
   "pygments_lexer": "r",
   "version": "4.3.1"
  }
 },
 "nbformat": 4,
 "nbformat_minor": 5
}
