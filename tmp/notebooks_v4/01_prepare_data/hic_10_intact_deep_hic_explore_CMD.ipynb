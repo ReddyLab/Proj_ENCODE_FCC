{
 "cells": [
  {
   "cell_type": "code",
   "execution_count": 1,
   "id": "5881779c-e09e-4cf9-b529-951461c1a04e",
   "metadata": {},
   "outputs": [
    {
     "name": "stdout",
     "output_type": "stream",
     "text": [
      "You are on Duke Server: HARDAC\n",
      "BASE DIRECTORY (FD_BASE): /data/reddylab/Kuei\n",
      "WORK DIRECTORY (FD_WORK): /data/reddylab/Kuei/out\n",
      "CODE DIRECTORY (FD_CODE): /data/reddylab/Kuei/code\n",
      "SING DIRECTORY (FD_SING): /data/reddylab/Kuei/singularity\n",
      "PATH OF PROJECT (FD_PRJ): /data/reddylab/Kuei/code/Proj_CombEffect_ENCODE_FCC\n",
      "PATH OF RESULTS (FD_RES): /data/reddylab/Kuei/out/proj_combeffect_encode_fcc\n",
      "PATH OF LOG     (FD_LOG): /data/reddylab/Kuei/out/proj_combeffect_encode_fcc/log\n",
      "\n"
     ]
    }
   ],
   "source": [
    "source ../config/config_duke.sh\n",
    "show_env"
   ]
  },
  {
   "cell_type": "code",
   "execution_count": 3,
   "id": "10c5aad9-4d1b-44e2-b6a1-f48035f7e9f3",
   "metadata": {},
   "outputs": [
    {
     "name": "stdout",
     "output_type": "stream",
     "text": [
      "inter.hic  localizedList_primary_10.bedpe\n"
     ]
    }
   ],
   "source": [
    "ls ${FD_RES}/source/hic_intact_K562_deep"
   ]
  },
  {
   "cell_type": "code",
   "execution_count": 4,
   "id": "cab60149-17ff-46ab-b6b1-a0081f4117bd",
   "metadata": {},
   "outputs": [
    {
     "name": "stdout",
     "output_type": "stream",
     "text": [
      "/data/reddylab/Kuei/out/proj_combeffect_encode_fcc/source/hic_intact_K562_deep/inter.hic\n"
     ]
    }
   ],
   "source": [
    "FDIRY=${FD_RES}/source/hic_intact_K562_deep\n",
    "FNAME=inter.hic\n",
    "FPATH=${FDIRY}/${FNAME}\n",
    "\n",
    "ls ${FPATH}"
   ]
  },
  {
   "cell_type": "code",
   "execution_count": 5,
   "id": "78ff6243-37bc-4cad-bfa3-eb1c8b9db6ea",
   "metadata": {},
   "outputs": [
    {
     "name": "stdout",
     "output_type": "stream",
     "text": [
      "�IC\u0000\t\u0000\u0000\u0000l��`G\u0000\u0000\u0000hg38\u0000\\3�?H\u0000\u0000\u0000,\u0013\u0001\u0000\u0000\u0000\u0000\u0000\u0002\u0000\u0000\u0000software\u0000Juicer Tools Version 2.13.07\u0000hicFileScalingFactor\u00001.0\u0000\u001a\u0000\u0000\u0000All\u0000�\u001f/\u0000\u0000\u0000\u0000\u0000chr1\u0000\u0006��\u000e\u0000\u0000\u0000\u0000chr2\u0000y�o\u000e\u0000\u0000\u0000\u0000chr3\u0000\u0007��\u000b",
      "\u0000\u0000\u0000\u0000chr4\u0000�qV\u000b",
      "\u0000\u0000\u0000\u0000chr5\u0000�\n",
      "\u0000\u0000\u0000\u0000chr6\u0000�J.\n",
      "\u0000\u0000\u0000\u0000chr7\u00005m\t\u0000\u0000\u0000\u0000chr8\u0000̣\u0000\u0000\u0000\u0000chr9\u0000]�\u0000\u0000\u0000\u0000chr10\u0000.��\u0007\u0000\u0000\u0000\u0000chr11\u0000\u001e",
      "B\u0000\u0000\u0000\u0000chr12\u0000���\u0007\u0000\u0000\u0000\u0000chr13\u0000�\u000f�\u0006\u0000\u0000\u0000\u0000chr14\u0000�[a\u0006\u0000\u0000\u0000\u0000chr15\u0000\u0015C\u0014\u0006\u0000\u0000\u0000\u0000chr16\u0000)tb\u0005\u0000\u0000\u0000\u0000chr17\u0000ah�\u0004\u0000\u0000\u0000\u0000chr18\u0000%f�\u0004\u0000\u0000\u0000\u0000chr19\u0000\u0010o~\u0003\u0000\u0000\u0000\u0000chr20\u0000\u0007W�\u0003\u0000\u0000\u0000\u0000chr21\u0000߼�\u0002\u0000\u0000\u0000\u0000chr22\u0000�m\u0007\u0003\u0000\u0000\u0000\u0000chrX\u0000��L\t\u0000\u0000\u0000\u0000chrY\u0000�8i\u0003\u0000\u0000\u0000\u0000chrM\u0000�@\u0000\u0000\u0000\u0000\u0000\u0000\u0012\u0000\u0000\u0000�%&\u0000@B\u000f\u0000 �\u0007\u0000��\u0003\u0000��\u0001\u0000P�\u0000\u0000�a\u0000\u0000\u0010'\u0000\u0000�\u0013\u0000\u0000�\u0007\u0000\u0000�\u0003\u0000\u0000�\u0001\u0000\u0000�\u0000\u0000\u0000d\u0000\u0000\u00002\u0000\u0000\u0000\u0014\u0000\u0000\u0000\n",
      "\u0000\u0000\u0000\u0001\u0000\u0000\u0000\u0000\u0000\u0000\u0000\u0000\u0000\u0000\u0000\u0000\u0000\u0000\u0000\u0001\u0000\u0000\u0000BP\u0000\u0000\u0000\u0000\u0000\u00151�P\u0000\u0000\u0000\u0000\u0000\u0000\u0000\u0000\u0000\u0000\u0000\u0000 \u0018\u0000\u0000�\u0001\u0000\u0000\u0001\u0000\u0000\u0000\u0001\u0000\u0000\u0000\u0000\u0000\u0000\u0000]\u0002\u0000\u0000\u0000\u0000\u0000\u0000�/\u0007\u0000x�D�y\\�[����H%!\n",
      "!dN�d�R{h'!�\u0010�nc�c\u001e",
      "6B�$cI2\u001e",
      "cB�L�<�SƓy8�c�8�Y�����s���f������ֵ������R���G��RoJ��+��k,%,���<�PJ�6\u001f5K��g�ޥ/%\n",
      "�,1X�=�k���<=B�S�/z\u000b",
      "�`��`)޷:h�\u0012���Th,���^G��f�?�[��V�\u0006+�O�Q���������\u0013Y�;����K�\t��C���d�\u001a��E��F\u001ba˷�x�?W4\u0003�d��?W���sE\u001e",
      "���Mp�i�\u0011�U\u000f\u0019m���æsM��\\�P�iqz����a���Y�3�֢h�?z\u001bqu�J������N��w��ɿc:=]�\u001d",
      "MA��;�\u001am��1W\u0018&���m��t��Vd̳\f",
      "�\u0013;��0ڋҌ�x�N&��@'�6m�N�-o��J���:ka*�(��yp\u0003�7s��N\u0014��o�\u0017�5V\u0018K�2|s�����~ɿ/2���+]��������O\n",
      "�_����N�0ʿ�Y󂡴��i���p`\u0014#�\u0018�sO>�r��\u0014\u0011\u0018*?E�\u001e",
      "$?E\f",
      "Z��y��Sg+L\u0011\t�S����ۋ�\u001f��S<We\u0018ʈ�.3�\u000e�,��ɓ��ч�*��R:�Y���Y\u0016|��,�e��Q~�f^��,S�#}i���R~�f�s����?�XV8��|�C(���\u0019�إ=�X�/5\u000eO�\u0013s���U�'��tctEi�\u0013c�y�2¼���A��Z*��0�K0:\n",
      "'>�t\u001f>�|���]��F��s�\\g�݊��jR+���\u0001T�b��ܢ�)�s5Mn���luF~n�_���bU|��QDD�\u0019��3��]�m6�������|�E�\"��QG]��\u0016�\\\u0019�)��tQ�çO�(?���\u0002������\n",
      "��b-�2�hJU�5eU[�m7�\u0016�^�7�\u0011�1��6\f",
      "t=�����ή�����S��\u0006\f",
      "�����\\��_j_e��Ҙ\u0013\u0018xa\f",
      "\u0006Z���� j;:��҂��mS�m�Km;\u0013�mwYj+>Km�/``TWj����~]�Ib\u0017�1p����\u0014\u0014(k3\u000fl k\u0013v�em�}�m�9���\u001f�E����\u0015������\u0012�u��\u001e",
      "��uE\u001d",
      "*�b���\u0018\u0017�z�\u001c",
      "+uT]�]`��x�^h�=�E���\u000f��\u0000\u0017IO�v��C��p�|*l8���z�'S��]�\u0019�z�ER�0���E��]�S�;sZ������\f",
      "��h�\f",
      "���$_��h:��z4�6�=��U7Y�gd\u0003YO�\u001f��Z\"����%6��4�\u0016^\\\u0003�XRU�'���_�m�\u0003|���NՁ\u0019��'�j��u���*s5!����̙�IT�:����Q՚�Te�BU\u0013z1g|�SU�q�:�Z��wP�]��\u001e",
      "좪�o%%�\"���ȪLY!P:���,���\f",
      "YUQ�]}K��O�\u0018M�a���tF�7���/Gc\u001a�Y��4(���}*G#\u000eT`4S�3��!r4����h|��\n",
      "�vQ�l�-f����b*|��\n"
     ]
    }
   ],
   "source": [
    "head ${FPATH}"
   ]
  }
 ],
 "metadata": {
  "kernelspec": {
   "display_name": "Bash",
   "language": "bash",
   "name": "bash"
  },
  "language_info": {
   "codemirror_mode": "shell",
   "file_extension": ".sh",
   "mimetype": "text/x-sh",
   "name": "bash"
  }
 },
 "nbformat": 4,
 "nbformat_minor": 5
}
