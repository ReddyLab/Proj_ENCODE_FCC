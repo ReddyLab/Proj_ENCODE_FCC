{
 "cells": [
  {
   "cell_type": "markdown",
   "id": "aa75b576-5581-4677-bcd6-b7fa73f00157",
   "metadata": {},
   "source": [
    "**Set environment**"
   ]
  },
  {
   "cell_type": "code",
   "execution_count": 1,
   "id": "851e3830-ff10-44d3-9d41-30b4ec4f409c",
   "metadata": {},
   "outputs": [
    {
     "name": "stdout",
     "output_type": "stream",
     "text": [
      "You are on Duke Server: HARDAC\n",
      "BASE DIRECTORY (FD_BASE): /data/reddylab/Kuei\n",
      "WORK DIRECTORY (FD_WORK): /data/reddylab/Kuei/out\n",
      "CODE DIRECTORY (FD_CODE): /data/reddylab/Kuei/code\n",
      "SING DIRECTORY (FD_SING): /data/reddylab/Kuei/singularity\n",
      "PATH OF PROJECT (FD_PRJ): /data/reddylab/Kuei/code/Proj_CombEffect_ENCODE_FCC\n",
      "PATH OF RESULTS (FD_RES): /data/reddylab/Kuei/out/proj_combeffect_encode_fcc\n",
      "PATH OF LOG     (FD_LOG): /data/reddylab/Kuei/out/proj_combeffect_encode_fcc/log\n",
      "\n"
     ]
    }
   ],
   "source": [
    "source ../config/config_duke.sh\n",
    "source ../config/config_load_module_bedops.sh\n",
    "show_env"
   ]
  },
  {
   "cell_type": "code",
   "execution_count": 2,
   "id": "818f1e65-b518-4392-a230-d3ac97f5f68e",
   "metadata": {},
   "outputs": [
    {
     "name": "stdout",
     "output_type": "stream",
     "text": [
      "bigWigToWig - Convert bigWig to wig.  This will keep more of the same structure of the\n",
      "original wig than bigWigToBedGraph does, but still will break up large stepped sections\n",
      "into smaller ones.\n",
      "usage:\n",
      "   bigWigToWig in.bigWig out.wig\n",
      "options:\n",
      "   -chrom=chr1 - if set restrict output to given chromosome\n",
      "   -start=N - if set, restrict output to only that over start\n",
      "   -end=N - if set, restict output to only that under end\n",
      "   -udcDir=/dir/to/cache - place to put cache for remote bigBed/bigWigs\n",
      "\n"
     ]
    },
    {
     "ename": "",
     "evalue": "255",
     "output_type": "error",
     "traceback": []
    }
   ],
   "source": [
    "FD_UCSC=/data/common/shared_conda_envs/ucsc/bin\n",
    "${FD_UCSC}/bigWigToWig"
   ]
  },
  {
   "cell_type": "code",
   "execution_count": 3,
   "id": "ee6c539d-001a-4c1f-942d-2884ef7e3dbe",
   "metadata": {
    "tags": []
   },
   "outputs": [
    {
     "name": "stdout",
     "output_type": "stream",
     "text": [
      "convert2bed -i wig\n",
      "  version:  2.4.35\n",
      "  author:   Alex Reynolds\n",
      "\n",
      "  Convert UCSC Wiggle to extended BED or BEDOPS Starch\n",
      "\n",
      "  Usage:\n",
      "\n",
      "  $ wig2bed < foo.wig > sorted-foo.wig.bed\n",
      "  $ wig2starch < foo.wig > sorted-foo.wig.starch\n",
      "\n",
      "  Or:\n",
      "\n",
      "  $ convert2bed -i wig < foo.wig > sorted-foo.wig.bed\n",
      "  $ convert2bed -i wig -o starch < foo.wig > sorted-foo.wig.starch\n",
      "\n",
      "  We make no assumptions about sort order from converted output. Apply\n",
      "  the usage case displayed to pass data to the BEDOPS sort-bed application,\n",
      "  which generates lexicographically-sorted BED data as output.\n",
      "\n",
      "  If you want to skip sorting, use the --do-not-sort option:\n",
      "\n",
      "  $ wig2bed --do-not-sort < foo.wig > unsorted-foo.wig.bed\n",
      "\n",
      "  The UCSC Wiggle format (http://genome.ucsc.edu/goldenPath/help/wiggle.html)\n",
      "  is 1-based, closed [a, b] and is offered in variable or fixed step varieties.\n",
      "  We convert either variety to 0-based, half-open [a-1, b) indexing when creating\n",
      "  BED output.\n",
      "\n",
      "  By default, data are passed internally to BEDOPS sort-bed to provide sorted\n",
      "  output ready for use with other BEDOPS utilities.\n",
      "\n",
      "  WIG conversion options:\n",
      "\n",
      "  --keep-header (-k)\n",
      "      Preserve header section as pseudo-BED elements\n",
      "  --multisplit=<basename> (-b <basename>)\n",
      "      A single input file may have multiple WIG sections. With this option\n",
      "      every section gets an ID prefix starting with <basename>.1, then\n",
      "      <basename>.2, and so on\n",
      "  --zero-indexed (-x)\n",
      "      Do not apply any index adjustment to input WIG data. This is useful\n",
      "      with input derived from bigWigToWig, for example, where the bigWig\n",
      "      data are originally zero-indexed.\n",
      "\n",
      "  Other processing options:\n",
      "\n",
      "  --do-not-sort (-d)\n",
      "      Do not sort BED output with sort-bed (not compatible with --output=starch)\n",
      "  --max-mem=<value> (-m <val>)\n",
      "      Sets aside <value> memory for sorting BED output. For example, <value> can\n",
      "      be 8G, 8000M or 8000000000 to specify 8 GB of memory (default is 2G)\n",
      "  --sort-tmpdir=<dir> (-r <dir>)\n",
      "      Optionally sets [dir] as temporary directory for sort data, when used in\n",
      "      conjunction with --max-mem=[value], instead of the host's operating system\n",
      "      default temporary directory\n",
      "  --starch-bzip2 (-z)\n",
      "      Used with --output=starch, the compressed output explicitly applies the bzip2\n",
      "      algorithm to compress intermediate data (default is bzip2)\n",
      "  --starch-gzip (-g)\n",
      "      Used with --output=starch, the compressed output applies gzip compression on\n",
      "      intermediate data\n",
      "  --starch-note=\"xyz...\" (-e \"xyz...\")\n",
      "      Used with --output=starch, this adds a note to the Starch archive metadata\n",
      "  --help | --help[-bam|-gff|-gtf|-gvf|-psl|-rmsk|-sam|-vcf|-wig] (-h | -h <fmt>)\n",
      "      Show general help message (or detailed help for a specified input format)\n",
      "  --version (-w)\n",
      "      Show application version\n",
      "\n"
     ]
    }
   ],
   "source": [
    "wig2bed --help"
   ]
  },
  {
   "cell_type": "markdown",
   "id": "8f666b52-1572-4fc1-9ad7-43c55a5854cc",
   "metadata": {},
   "source": [
    "**Check data**"
   ]
  },
  {
   "cell_type": "code",
   "execution_count": 4,
   "id": "09171061-19d9-4f63-bf18-06407a177ba8",
   "metadata": {},
   "outputs": [
    {
     "name": "stdout",
     "output_type": "stream",
     "text": [
      "CAPRIN1_HCRFF_rAVG.log2FC_2.bw\n",
      "CAT_HCRFF_rAVG.log2FC_2.bw\n",
      "CD164_HCRFF_rAVG.log2FC_2.bw\n",
      "CRISPRi_rAVG_log2FC_2.bw\n",
      "ERP29_HCRFF_rAVG.log2FC_2.bw\n",
      "FADS1_HCRFF_rAVG.log2FC_2.bw\n",
      "FADS2_HCRFF_rAVG.log2FC_2.bw\n",
      "FADS3_HCRFF_rAVG.log2FC_2.bw\n",
      "FEN1_FADS123_MPRA_tiling.Z_bp.bw\n",
      "FEN1_HCRFF_rAVG.log2FC_2.bw\n",
      "GATA1_HCRFF_rAVG.log2FC_2.bw\n",
      "GATA-MYC_Tile_K562_K562_20210130.hg38.Z_bp.bw\n",
      "HBE1_HCRFF_rAVG.log2FC_2.bw\n",
      "HBG1_HCRFF_rAVG.log2FC_2.bw\n",
      "HBG2_HCRFF_rAVG.log2FC_2.bw\n",
      "HBS1L_HCRFF_rAVG.log2FC_2.bw\n",
      "HDAC6_HCRFF_rAVG.log2FC_2.bw\n",
      "KS91_K562_bs5_log2ratio.bw\n",
      "LMO2_HCRFF_rAVG.log2FC_2.bw\n",
      "MEF2C_HCRFF_rAVG.log2FC_2.bw\n",
      "MYB_HCRFF_rAVG.log2FC_2.bw\n",
      "MYC_HCRFF_rAVG.log2FC_2.bw\n",
      "nadav_K562_MPRA_log2FC_Z_bp.bw\n",
      "NMU_HCRFF_rAVG.log2FC_2.bw\n",
      "OL45_K562_20220628.Z_bp.bw\n",
      "PVT1_HCRFF_rAVG.log2FC_2.bw\n"
     ]
    }
   ],
   "source": [
    "FD_INP=${FD_RES}/source/CRISPRi_FlowFISH/track_bigwig\n",
    "ls ${FD_INP}/*bw | xargs -n 1 basename"
   ]
  },
  {
   "cell_type": "markdown",
   "id": "307a2609-797d-4581-8f65-8e81e787c73f",
   "metadata": {},
   "source": [
    "## Convert bigwig file to bed file (CRISPRi-HCRFF)"
   ]
  },
  {
   "cell_type": "markdown",
   "id": "ce5cb908-64b8-4341-b66a-6950f1048e50",
   "metadata": {},
   "source": [
    "Example:\n",
    "```\n",
    "track       CAPRIN1_guide_log2FC_rAVG\n",
    "parent      CRISPRi_guide_log2FC_rAVG    on\n",
    "type        bigWig\n",
    "bigDataUrl  https://data.cyverse.org/dav-anon/iplant/home/ohjinwoo94/CAPRIN1_HCRFF_rAVG.log2FC_2.bw\n",
    "shortLabel  CAPRIN1 log2FC\n",
    "longLabel   CRISPRi HCR-FF with CAPRIN1 as readout. log2FC (Low/High) z-transformed \n",
    "```"
   ]
  },
  {
   "cell_type": "code",
   "execution_count": 5,
   "id": "b4eba9e0-25be-402f-9522-7454e5b2e8cc",
   "metadata": {},
   "outputs": [
    {
     "name": "stdout",
     "output_type": "stream",
     "text": [
      "CAPRIN1_HCRFF_rAVG.log2FC_2.bw\n",
      "CAT_HCRFF_rAVG.log2FC_2.bw\n",
      "CD164_HCRFF_rAVG.log2FC_2.bw\n",
      "ERP29_HCRFF_rAVG.log2FC_2.bw\n",
      "FADS1_HCRFF_rAVG.log2FC_2.bw\n",
      "FADS2_HCRFF_rAVG.log2FC_2.bw\n",
      "FADS3_HCRFF_rAVG.log2FC_2.bw\n",
      "FEN1_HCRFF_rAVG.log2FC_2.bw\n",
      "GATA1_HCRFF_rAVG.log2FC_2.bw\n",
      "HBE1_HCRFF_rAVG.log2FC_2.bw\n",
      "HBG1_HCRFF_rAVG.log2FC_2.bw\n",
      "HBG2_HCRFF_rAVG.log2FC_2.bw\n",
      "HBS1L_HCRFF_rAVG.log2FC_2.bw\n",
      "HDAC6_HCRFF_rAVG.log2FC_2.bw\n",
      "LMO2_HCRFF_rAVG.log2FC_2.bw\n",
      "MEF2C_HCRFF_rAVG.log2FC_2.bw\n",
      "MYB_HCRFF_rAVG.log2FC_2.bw\n",
      "MYC_HCRFF_rAVG.log2FC_2.bw\n",
      "NMU_HCRFF_rAVG.log2FC_2.bw\n",
      "PVT1_HCRFF_rAVG.log2FC_2.bw\n"
     ]
    }
   ],
   "source": [
    "FD_INP=${FD_RES}/source/CRISPRi_FlowFISH/track_bigwig\n",
    "FP_INPS=$(ls ${FD_INP}/*HCRFF*bw)\n",
    "basename -a ${FP_INPS[@]}"
   ]
  },
  {
   "cell_type": "code",
   "execution_count": 6,
   "id": "2f59456b-f206-4efd-8ba1-a5ba3585e58e",
   "metadata": {},
   "outputs": [
    {
     "name": "stdout",
     "output_type": "stream",
     "text": [
      "convert CAPRIN1_HCRFF_rAVG.log2FC_2.bw to wig and then to bed file\n",
      "\n",
      "convert CAT_HCRFF_rAVG.log2FC_2.bw to wig and then to bed file\n",
      "\n",
      "convert CD164_HCRFF_rAVG.log2FC_2.bw to wig and then to bed file\n",
      "\n",
      "convert ERP29_HCRFF_rAVG.log2FC_2.bw to wig and then to bed file\n",
      "\n",
      "convert FADS1_HCRFF_rAVG.log2FC_2.bw to wig and then to bed file\n",
      "\n",
      "convert FADS2_HCRFF_rAVG.log2FC_2.bw to wig and then to bed file\n",
      "\n",
      "convert FADS3_HCRFF_rAVG.log2FC_2.bw to wig and then to bed file\n",
      "\n",
      "convert FEN1_HCRFF_rAVG.log2FC_2.bw to wig and then to bed file\n",
      "\n",
      "convert GATA1_HCRFF_rAVG.log2FC_2.bw to wig and then to bed file\n",
      "\n",
      "convert HBE1_HCRFF_rAVG.log2FC_2.bw to wig and then to bed file\n",
      "\n",
      "convert HBG1_HCRFF_rAVG.log2FC_2.bw to wig and then to bed file\n",
      "\n",
      "convert HBG2_HCRFF_rAVG.log2FC_2.bw to wig and then to bed file\n",
      "\n",
      "convert HBS1L_HCRFF_rAVG.log2FC_2.bw to wig and then to bed file\n",
      "\n",
      "convert HDAC6_HCRFF_rAVG.log2FC_2.bw to wig and then to bed file\n",
      "\n",
      "convert LMO2_HCRFF_rAVG.log2FC_2.bw to wig and then to bed file\n",
      "\n",
      "convert MEF2C_HCRFF_rAVG.log2FC_2.bw to wig and then to bed file\n",
      "\n",
      "convert MYB_HCRFF_rAVG.log2FC_2.bw to wig and then to bed file\n",
      "\n",
      "convert MYC_HCRFF_rAVG.log2FC_2.bw to wig and then to bed file\n",
      "\n",
      "convert NMU_HCRFF_rAVG.log2FC_2.bw to wig and then to bed file\n",
      "\n",
      "convert PVT1_HCRFF_rAVG.log2FC_2.bw to wig and then to bed file\n",
      "\n"
     ]
    }
   ],
   "source": [
    "### set input and output file paths\n",
    "FD_INP=${FD_RES}/source/CRISPRi_FlowFISH/track_bigwig\n",
    "FD_OUT=${FD_RES}/results/CRISPRi_FlowFISH/coverage\n",
    "FP_INPS=$(ls ${FD_INP}/*HCRFF*bw)\n",
    "\n",
    "### convert bigwig -> wig -> bed\n",
    "for FP_INP in ${FP_INPS[@]}; do\n",
    "\n",
    "    ### set output file names\n",
    "    FN_INP=$(basename ${FP_INP})\n",
    "    PREFIX=$(basename -s .bw ${FP_INP})\n",
    "    FP_OUT_WIG=${FD_OUT}/${PREFIX}.wig\n",
    "    FP_OUT_BED=${FD_OUT}/${PREFIX}.bed\n",
    "    \n",
    "    ### show progress\n",
    "    echo \"convert ${FN_INP} to wig and then to bed file\"\n",
    "    echo\n",
    "    \n",
    "    ### convert bigwig to wig format\n",
    "    ${FD_UCSC}/bigWigToWig ${FP_INP} ${FP_OUT_WIG}\n",
    "\n",
    "    ### convert wig to bed format\n",
    "    wig2bed < ${FP_OUT_WIG} > ${FP_OUT_BED}\n",
    "done"
   ]
  },
  {
   "cell_type": "markdown",
   "id": "9df11bdd-9264-444b-ab77-9ab1f4657271",
   "metadata": {},
   "source": [
    "## Convert bigwig file to bed file (CRISPRi-growth)"
   ]
  },
  {
   "cell_type": "markdown",
   "id": "f05c8dcf-0b2b-42d0-97da-8fd078238a1c",
   "metadata": {},
   "source": [
    "```\n",
    "track       CRISPRi_growth\n",
    "parent      CRISPRi_guide_log2FC_rAVG    on\n",
    "type        bigWig\n",
    "bigDataUrl  https://data.cyverse.org/dav-anon/iplant/home/ohjinwoo94/CRISPRi_rAVG_log2FC_2.bw\n",
    "shortLabel  growth log2FC\n",
    "longLabel   CRISPRi growth screen (Gersbach). log2FC (Control/treatment) z-transformed\n",
    "```"
   ]
  },
  {
   "cell_type": "code",
   "execution_count": 7,
   "id": "66159404-04d6-4211-a8e5-242cb193e538",
   "metadata": {},
   "outputs": [
    {
     "name": "stdout",
     "output_type": "stream",
     "text": [
      "/data/reddylab/Kuei/out/proj_combeffect_encode_fcc/source/CRISPRi_FlowFISH/track_bigwig/CRISPRi_rAVG_log2FC_2.bw\n"
     ]
    }
   ],
   "source": [
    "FD_INP=${FD_RES}/source/CRISPRi_FlowFISH/track_bigwig\n",
    "FN_INP=CRISPRi_rAVG_log2FC_2.bw\n",
    "FP_INP=${FD_INP}/${FN_INP}\n",
    "ls ${FP_INP}"
   ]
  },
  {
   "cell_type": "code",
   "execution_count": 8,
   "id": "ae466f85-fe2c-462e-b8c5-ad43ddb6cf9f",
   "metadata": {},
   "outputs": [
    {
     "name": "stdout",
     "output_type": "stream",
     "text": [
      "convert CRISPRi_rAVG_log2FC_2.bw to wig and then to bed file\n",
      "prefix: CRISPRi_rAVG_log2FC_2\n",
      "\n"
     ]
    }
   ],
   "source": [
    "FD_INP=${FD_RES}/source/CRISPRi_FlowFISH/track_bigwig\n",
    "FN_INP=CRISPRi_rAVG_log2FC_2.bw\n",
    "FP_INP=${FD_INP}/${FN_INP}\n",
    "\n",
    "FD_OUT=${FD_RES}/results/CRISPRi_Growth_K562_Gersbach/coverage\n",
    "\n",
    "### set output file names\n",
    "PREFIX=$(basename -s .bw ${FP_INP})\n",
    "FP_OUT_WIG=${FD_OUT}/${PREFIX}.wig\n",
    "FP_OUT_BED=${FD_OUT}/${PREFIX}.bed\n",
    "\n",
    "### show progress\n",
    "echo \"convert ${FN_INP} to wig and then to bed file\"\n",
    "echo \"prefix: ${PREFIX}\"\n",
    "echo\n",
    "\n",
    "### convert bigwig to wig format\n",
    "${FD_UCSC}/bigWigToWig ${FP_INP} ${FP_OUT_WIG}\n",
    "\n",
    "### convert wig to bed format\n",
    "wig2bed < ${FP_OUT_WIG} > ${FP_OUT_BED}"
   ]
  },
  {
   "cell_type": "code",
   "execution_count": 9,
   "id": "922fbbb7-139a-4b0b-8aaa-403ad4f3be04",
   "metadata": {},
   "outputs": [
    {
     "name": "stdout",
     "output_type": "stream",
     "text": [
      "/data/reddylab/Kuei/out/proj_combeffect_encode_fcc/results/CRISPRi_Growth_K562_Gersbach/coverage/CRISPRi_rAVG_log2FC_2.bed\n"
     ]
    }
   ],
   "source": [
    "ls ${FP_OUT_BED}"
   ]
  },
  {
   "cell_type": "code",
   "execution_count": 10,
   "id": "2be70cdf-61e8-4e3c-abe3-6b233e51fdc2",
   "metadata": {},
   "outputs": [],
   "source": [
    "cat ${FP_OUT_BED} | gzip -c > ${FP_OUT_BED}.gz"
   ]
  },
  {
   "cell_type": "markdown",
   "id": "27c31446-e41e-404d-bc39-2abee82ce70b",
   "metadata": {},
   "source": [
    "## Convert bigwig file to bed file (LentiMPRA)"
   ]
  },
  {
   "cell_type": "markdown",
   "id": "7e8eb52c-5629-4613-866e-1b26e27b3f5c",
   "metadata": {},
   "source": [
    "```\n",
    "track       lentiMPRA\n",
    "parent      Reporter_Assays    on\n",
    "type        bigWig\n",
    "bigDataUrl  https://data.cyverse.org/dav-anon/iplant/home/ohjinwoo94/nadav_K562_MPRA_log2FC_Z_bp.bw\n",
    "visibility  full\n",
    "shortLabel  lentiMPRA\n",
    "longLabel   lentiMPRA z-transformed \n",
    "```"
   ]
  },
  {
   "cell_type": "code",
   "execution_count": 11,
   "id": "058cb114-4277-42b0-82c9-8bfb1887238a",
   "metadata": {},
   "outputs": [
    {
     "name": "stdout",
     "output_type": "stream",
     "text": [
      "/data/reddylab/Kuei/out/proj_combeffect_encode_fcc/source/CRISPRi_FlowFISH/track_bigwig/nadav_K562_MPRA_log2FC_Z_bp.bw\n"
     ]
    }
   ],
   "source": [
    "FD_INP=${FD_RES}/source/CRISPRi_FlowFISH/track_bigwig\n",
    "FN_INP=nadav_K562_MPRA_log2FC_Z_bp.bw\n",
    "FP_INP=${FD_INP}/${FN_INP}\n",
    "ls ${FP_INP}"
   ]
  },
  {
   "cell_type": "code",
   "execution_count": 12,
   "id": "fb94e2e6-77d4-4e0b-bc52-b9829f6a7151",
   "metadata": {},
   "outputs": [
    {
     "name": "stdout",
     "output_type": "stream",
     "text": [
      "convert nadav_K562_MPRA_log2FC_Z_bp.bw to wig and then to bed file\n",
      "prefix: nadav_K562_MPRA_log2FC_Z_bp\n",
      "\n"
     ]
    }
   ],
   "source": [
    "FD_INP=${FD_RES}/source/CRISPRi_FlowFISH/track_bigwig\n",
    "FN_INP=nadav_K562_MPRA_log2FC_Z_bp.bw\n",
    "FP_INP=${FD_INP}/${FN_INP}\n",
    "\n",
    "FD_OUT=${FD_RES}/results/LentiMPRA_K562_Nadav/coverage\n",
    "\n",
    "### set output file names\n",
    "PREFIX=$(basename -s .bw ${FP_INP})\n",
    "FP_OUT_WIG=${FD_OUT}/${PREFIX}.wig\n",
    "FP_OUT_BED=${FD_OUT}/${PREFIX}.bed\n",
    "\n",
    "### show progress\n",
    "echo \"convert ${FN_INP} to wig and then to bed file\"\n",
    "echo \"prefix: ${PREFIX}\"\n",
    "echo\n",
    "\n",
    "### convert bigwig to wig format\n",
    "${FD_UCSC}/bigWigToWig ${FP_INP} ${FP_OUT_WIG}\n",
    "\n",
    "### convert wig to bed format\n",
    "wig2bed < ${FP_OUT_WIG} > ${FP_OUT_BED}"
   ]
  },
  {
   "cell_type": "code",
   "execution_count": 13,
   "id": "40a472b2-8d6c-490c-bdc1-364e44b7deef",
   "metadata": {},
   "outputs": [
    {
     "name": "stdout",
     "output_type": "stream",
     "text": [
      "/data/reddylab/Kuei/out/proj_combeffect_encode_fcc/results/LentiMPRA_K562_Nadav/coverage/nadav_K562_MPRA_log2FC_Z_bp.bed\n"
     ]
    }
   ],
   "source": [
    "ls ${FP_OUT_BED}"
   ]
  },
  {
   "cell_type": "code",
   "execution_count": 14,
   "id": "71a24a05-c237-4483-8750-9f1d4f316a39",
   "metadata": {},
   "outputs": [],
   "source": [
    "cat ${FP_OUT_BED} | gzip -c > ${FP_OUT_BED}.gz"
   ]
  },
  {
   "cell_type": "code",
   "execution_count": null,
   "id": "cb765f51-4b34-447c-8cbf-0bcb95da5498",
   "metadata": {},
   "outputs": [],
   "source": []
  }
 ],
 "metadata": {
  "kernelspec": {
   "display_name": "Bash",
   "language": "bash",
   "name": "bash"
  },
  "language_info": {
   "codemirror_mode": "shell",
   "file_extension": ".sh",
   "mimetype": "text/x-sh",
   "name": "bash"
  }
 },
 "nbformat": 4,
 "nbformat_minor": 5
}
