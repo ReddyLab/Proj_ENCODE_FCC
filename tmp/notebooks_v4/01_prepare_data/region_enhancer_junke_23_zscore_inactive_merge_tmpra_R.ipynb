{
 "cells": [
  {
   "cell_type": "markdown",
   "metadata": {},
   "source": [
    "**Set environment**"
   ]
  },
  {
   "cell_type": "code",
   "execution_count": 1,
   "metadata": {},
   "outputs": [
    {
     "name": "stdout",
     "output_type": "stream",
     "text": [
      "You are in Singularity: singularity_proj_encode_fcc \n",
      "BASE DIRECTORY (FD_BASE): /data/reddylab/Kuei \n",
      "WORK DIRECTORY (FD_WORK): /data/reddylab/Kuei/out \n",
      "CODE DIRECTORY (FD_CODE): /data/reddylab/Kuei/code \n",
      "PATH OF PROJECT (FD_PRJ): /data/reddylab/Kuei/code/Proj_CombEffect_ENCODE_FCC \n",
      "PATH OF RESULTS (FD_RES): /data/reddylab/Kuei/out/proj_combeffect_encode_fcc \n",
      "PATH OF LOG     (FD_LOG): /data/reddylab/Kuei/out/proj_combeffect_encode_fcc/log \n"
     ]
    }
   ],
   "source": [
    "suppressWarnings(suppressMessages(source(\"../config/config_sing.R\")))\n",
    "show_env()"
   ]
  },
  {
   "cell_type": "markdown",
   "metadata": {},
   "source": [
    "## Import data and combine"
   ]
  },
  {
   "cell_type": "code",
   "execution_count": 2,
   "metadata": {},
   "outputs": [
    {
     "name": "stdout",
     "output_type": "stream",
     "text": [
      "[1] 130972     21\n"
     ]
    },
    {
     "data": {
      "text/html": [
       "<table class=\"dataframe\">\n",
       "<caption>A tibble: 6 × 21</caption>\n",
       "<thead>\n",
       "\t<tr><th scope=col>X1</th><th scope=col>X2</th><th scope=col>X3</th><th scope=col>X4</th><th scope=col>X5</th><th scope=col>X6</th><th scope=col>X7</th><th scope=col>X8</th><th scope=col>X9</th><th scope=col>X10</th><th scope=col>⋯</th><th scope=col>X12</th><th scope=col>X13</th><th scope=col>X14</th><th scope=col>X15</th><th scope=col>X16</th><th scope=col>X17</th><th scope=col>X18</th><th scope=col>X19</th><th scope=col>X20</th><th scope=col>X21</th></tr>\n",
       "\t<tr><th scope=col>&lt;chr&gt;</th><th scope=col>&lt;dbl&gt;</th><th scope=col>&lt;dbl&gt;</th><th scope=col>&lt;chr&gt;</th><th scope=col>&lt;dbl&gt;</th><th scope=col>&lt;chr&gt;</th><th scope=col>&lt;dbl&gt;</th><th scope=col>&lt;dbl&gt;</th><th scope=col>&lt;dbl&gt;</th><th scope=col>&lt;chr&gt;</th><th scope=col>⋯</th><th scope=col>&lt;dbl&gt;</th><th scope=col>&lt;dbl&gt;</th><th scope=col>&lt;dbl&gt;</th><th scope=col>&lt;dbl&gt;</th><th scope=col>&lt;dbl&gt;</th><th scope=col>&lt;dbl&gt;</th><th scope=col>&lt;dbl&gt;</th><th scope=col>&lt;dbl&gt;</th><th scope=col>&lt;dbl&gt;</th><th scope=col>&lt;dbl&gt;</th></tr>\n",
       "</thead>\n",
       "<tbody>\n",
       "\t<tr><td>chr11</td><td>61554831</td><td>61555030</td><td>11:61554831-61555030_RC</td><td>-0.139044749</td><td>+</td><td>0.5759293</td><td>0.7051762</td><td> 0.04599852</td><td>N</td><td>⋯</td><td>1086</td><td>639</td><td>945</td><td>688</td><td>251</td><td>295</td><td>651</td><td>473</td><td>NA</td><td>NA</td></tr>\n",
       "\t<tr><td>chr11</td><td>61554836</td><td>61555035</td><td>11:61554836-61555035_RC</td><td>-0.005844854</td><td>+</td><td>0.9833620</td><td>0.9901940</td><td> 0.14426989</td><td>N</td><td>⋯</td><td> 741</td><td>670</td><td>898</td><td>552</td><td>188</td><td>288</td><td>599</td><td>551</td><td>NA</td><td>NA</td></tr>\n",
       "\t<tr><td>chr11</td><td>61554841</td><td>61555040</td><td>11:61554841-61555040_RC</td><td> 0.153798776</td><td>+</td><td>0.5862687</td><td>0.7132950</td><td> 0.26205075</td><td>N</td><td>⋯</td><td> 592</td><td>463</td><td>660</td><td>358</td><td>235</td><td>351</td><td>278</td><td>422</td><td>NA</td><td>NA</td></tr>\n",
       "\t<tr><td>chr11</td><td>61554846</td><td>61555045</td><td>11:61554846-61555045   </td><td>-0.252520591</td><td>+</td><td>0.4303948</td><td>0.5811766</td><td>-0.03772097</td><td>N</td><td>⋯</td><td>1205</td><td>433</td><td>860</td><td>545</td><td>376</td><td> 72</td><td>422</td><td>436</td><td>NA</td><td>NA</td></tr>\n",
       "\t<tr><td>chr11</td><td>61554851</td><td>61555050</td><td>11:61554851-61555050_RC</td><td>-0.159898539</td><td>+</td><td>0.6346139</td><td>0.7511214</td><td> 0.03061314</td><td>N</td><td>⋯</td><td> 768</td><td>425</td><td>686</td><td>503</td><td> 73</td><td>487</td><td>514</td><td>387</td><td>NA</td><td>NA</td></tr>\n",
       "\t<tr><td>chr11</td><td>61554856</td><td>61555055</td><td>11:61554856-61555055_RC</td><td>-0.432217792</td><td>+</td><td>0.3976670</td><td>0.5518198</td><td>-0.17029683</td><td>N</td><td>⋯</td><td> 432</td><td>257</td><td>373</td><td>181</td><td> 60</td><td>142</td><td>114</td><td>196</td><td>NA</td><td>NA</td></tr>\n",
       "</tbody>\n",
       "</table>\n"
      ],
      "text/latex": [
       "A tibble: 6 × 21\n",
       "\\begin{tabular}{lllllllllllllllllllll}\n",
       " X1 & X2 & X3 & X4 & X5 & X6 & X7 & X8 & X9 & X10 & ⋯ & X12 & X13 & X14 & X15 & X16 & X17 & X18 & X19 & X20 & X21\\\\\n",
       " <chr> & <dbl> & <dbl> & <chr> & <dbl> & <chr> & <dbl> & <dbl> & <dbl> & <chr> & ⋯ & <dbl> & <dbl> & <dbl> & <dbl> & <dbl> & <dbl> & <dbl> & <dbl> & <dbl> & <dbl>\\\\\n",
       "\\hline\n",
       "\t chr11 & 61554831 & 61555030 & 11:61554831-61555030\\_RC & -0.139044749 & + & 0.5759293 & 0.7051762 &  0.04599852 & N & ⋯ & 1086 & 639 & 945 & 688 & 251 & 295 & 651 & 473 & NA & NA\\\\\n",
       "\t chr11 & 61554836 & 61555035 & 11:61554836-61555035\\_RC & -0.005844854 & + & 0.9833620 & 0.9901940 &  0.14426989 & N & ⋯ &  741 & 670 & 898 & 552 & 188 & 288 & 599 & 551 & NA & NA\\\\\n",
       "\t chr11 & 61554841 & 61555040 & 11:61554841-61555040\\_RC &  0.153798776 & + & 0.5862687 & 0.7132950 &  0.26205075 & N & ⋯ &  592 & 463 & 660 & 358 & 235 & 351 & 278 & 422 & NA & NA\\\\\n",
       "\t chr11 & 61554846 & 61555045 & 11:61554846-61555045    & -0.252520591 & + & 0.4303948 & 0.5811766 & -0.03772097 & N & ⋯ & 1205 & 433 & 860 & 545 & 376 &  72 & 422 & 436 & NA & NA\\\\\n",
       "\t chr11 & 61554851 & 61555050 & 11:61554851-61555050\\_RC & -0.159898539 & + & 0.6346139 & 0.7511214 &  0.03061314 & N & ⋯ &  768 & 425 & 686 & 503 &  73 & 487 & 514 & 387 & NA & NA\\\\\n",
       "\t chr11 & 61554856 & 61555055 & 11:61554856-61555055\\_RC & -0.432217792 & + & 0.3976670 & 0.5518198 & -0.17029683 & N & ⋯ &  432 & 257 & 373 & 181 &  60 & 142 & 114 & 196 & NA & NA\\\\\n",
       "\\end{tabular}\n"
      ],
      "text/markdown": [
       "\n",
       "A tibble: 6 × 21\n",
       "\n",
       "| X1 &lt;chr&gt; | X2 &lt;dbl&gt; | X3 &lt;dbl&gt; | X4 &lt;chr&gt; | X5 &lt;dbl&gt; | X6 &lt;chr&gt; | X7 &lt;dbl&gt; | X8 &lt;dbl&gt; | X9 &lt;dbl&gt; | X10 &lt;chr&gt; | ⋯ ⋯ | X12 &lt;dbl&gt; | X13 &lt;dbl&gt; | X14 &lt;dbl&gt; | X15 &lt;dbl&gt; | X16 &lt;dbl&gt; | X17 &lt;dbl&gt; | X18 &lt;dbl&gt; | X19 &lt;dbl&gt; | X20 &lt;dbl&gt; | X21 &lt;dbl&gt; |\n",
       "|---|---|---|---|---|---|---|---|---|---|---|---|---|---|---|---|---|---|---|---|---|\n",
       "| chr11 | 61554831 | 61555030 | 11:61554831-61555030_RC | -0.139044749 | + | 0.5759293 | 0.7051762 |  0.04599852 | N | ⋯ | 1086 | 639 | 945 | 688 | 251 | 295 | 651 | 473 | NA | NA |\n",
       "| chr11 | 61554836 | 61555035 | 11:61554836-61555035_RC | -0.005844854 | + | 0.9833620 | 0.9901940 |  0.14426989 | N | ⋯ |  741 | 670 | 898 | 552 | 188 | 288 | 599 | 551 | NA | NA |\n",
       "| chr11 | 61554841 | 61555040 | 11:61554841-61555040_RC |  0.153798776 | + | 0.5862687 | 0.7132950 |  0.26205075 | N | ⋯ |  592 | 463 | 660 | 358 | 235 | 351 | 278 | 422 | NA | NA |\n",
       "| chr11 | 61554846 | 61555045 | 11:61554846-61555045    | -0.252520591 | + | 0.4303948 | 0.5811766 | -0.03772097 | N | ⋯ | 1205 | 433 | 860 | 545 | 376 |  72 | 422 | 436 | NA | NA |\n",
       "| chr11 | 61554851 | 61555050 | 11:61554851-61555050_RC | -0.159898539 | + | 0.6346139 | 0.7511214 |  0.03061314 | N | ⋯ |  768 | 425 | 686 | 503 |  73 | 487 | 514 | 387 | NA | NA |\n",
       "| chr11 | 61554856 | 61555055 | 11:61554856-61555055_RC | -0.432217792 | + | 0.3976670 | 0.5518198 | -0.17029683 | N | ⋯ |  432 | 257 | 373 | 181 |  60 | 142 | 114 | 196 | NA | NA |\n",
       "\n"
      ],
      "text/plain": [
       "  X1    X2       X3       X4                      X5           X6 X7       \n",
       "1 chr11 61554831 61555030 11:61554831-61555030_RC -0.139044749 +  0.5759293\n",
       "2 chr11 61554836 61555035 11:61554836-61555035_RC -0.005844854 +  0.9833620\n",
       "3 chr11 61554841 61555040 11:61554841-61555040_RC  0.153798776 +  0.5862687\n",
       "4 chr11 61554846 61555045 11:61554846-61555045    -0.252520591 +  0.4303948\n",
       "5 chr11 61554851 61555050 11:61554851-61555050_RC -0.159898539 +  0.6346139\n",
       "6 chr11 61554856 61555055 11:61554856-61555055_RC -0.432217792 +  0.3976670\n",
       "  X8        X9          X10 ⋯ X12  X13 X14 X15 X16 X17 X18 X19 X20 X21\n",
       "1 0.7051762  0.04599852 N   ⋯ 1086 639 945 688 251 295 651 473 NA  NA \n",
       "2 0.9901940  0.14426989 N   ⋯  741 670 898 552 188 288 599 551 NA  NA \n",
       "3 0.7132950  0.26205075 N   ⋯  592 463 660 358 235 351 278 422 NA  NA \n",
       "4 0.5811766 -0.03772097 N   ⋯ 1205 433 860 545 376  72 422 436 NA  NA \n",
       "5 0.7511214  0.03061314 N   ⋯  768 425 686 503  73 487 514 387 NA  NA \n",
       "6 0.5518198 -0.17029683 N   ⋯  432 257 373 181  60 142 114 196 NA  NA "
      ]
     },
     "metadata": {},
     "output_type": "display_data"
    }
   ],
   "source": [
    "### set file directory\n",
    "fdiry   = file.path(FD_RES, \"results\", \"region\", \"annotation_enhancer_junke_zscore\")\n",
    "fname   = \"enhancer_zscore_junke.inactive.TMPRA_OL*.bed.gz\"\n",
    "fglob   = file.path(fdiry, fname)\n",
    "fpaths  = Sys.glob(fglob)\n",
    "\n",
    "### read tables\n",
    "lst = lapply(fpaths, function(fpath){\n",
    "    dat = read_tsv(fpath, col_names = FALSE, show_col_types = FALSE)\n",
    "    return(dat)\n",
    "})\n",
    "dat = bind_rows(lst)\n",
    "\n",
    "### assign and show\n",
    "dat_tmpra_import = dat\n",
    "print(dim(dat))\n",
    "head(dat)"
   ]
  },
  {
   "cell_type": "code",
   "execution_count": 3,
   "metadata": {},
   "outputs": [
    {
     "name": "stdout",
     "output_type": "stream",
     "text": [
      "\n",
      "   chr11     chr8 chrchr11 chrchr16  chrchr2 chrchr20     chrX \n",
      "   15118    27670    25606     5974    12824    11974    31806 \n"
     ]
    }
   ],
   "source": [
    "dat = dat_tmpra_import\n",
    "res = table(dat$X1)\n",
    "print(res)"
   ]
  },
  {
   "cell_type": "markdown",
   "metadata": {},
   "source": [
    "## Arrange table"
   ]
  },
  {
   "cell_type": "code",
   "execution_count": 4,
   "metadata": {},
   "outputs": [
    {
     "name": "stdout",
     "output_type": "stream",
     "text": [
      "[1] 130972     21\n"
     ]
    },
    {
     "data": {
      "text/html": [
       "<table class=\"dataframe\">\n",
       "<caption>A tibble: 6 × 21</caption>\n",
       "<thead>\n",
       "\t<tr><th scope=col>X1</th><th scope=col>X2</th><th scope=col>X3</th><th scope=col>X4</th><th scope=col>X5</th><th scope=col>X6</th><th scope=col>X7</th><th scope=col>X8</th><th scope=col>X9</th><th scope=col>X10</th><th scope=col>⋯</th><th scope=col>X12</th><th scope=col>X13</th><th scope=col>X14</th><th scope=col>X15</th><th scope=col>X16</th><th scope=col>X17</th><th scope=col>X18</th><th scope=col>X19</th><th scope=col>X20</th><th scope=col>X21</th></tr>\n",
       "\t<tr><th scope=col>&lt;chr&gt;</th><th scope=col>&lt;dbl&gt;</th><th scope=col>&lt;dbl&gt;</th><th scope=col>&lt;chr&gt;</th><th scope=col>&lt;dbl&gt;</th><th scope=col>&lt;chr&gt;</th><th scope=col>&lt;dbl&gt;</th><th scope=col>&lt;dbl&gt;</th><th scope=col>&lt;dbl&gt;</th><th scope=col>&lt;chr&gt;</th><th scope=col>⋯</th><th scope=col>&lt;dbl&gt;</th><th scope=col>&lt;dbl&gt;</th><th scope=col>&lt;dbl&gt;</th><th scope=col>&lt;dbl&gt;</th><th scope=col>&lt;dbl&gt;</th><th scope=col>&lt;dbl&gt;</th><th scope=col>&lt;dbl&gt;</th><th scope=col>&lt;dbl&gt;</th><th scope=col>&lt;dbl&gt;</th><th scope=col>&lt;dbl&gt;</th></tr>\n",
       "</thead>\n",
       "<tbody>\n",
       "\t<tr><td>chr11</td><td>4505501</td><td>4505700</td><td>chr11:4505501-4505700</td><td> 0.3597675</td><td>+</td><td>0.0006939294</td><td>0.001793942</td><td> 0.2843297</td><td>N</td><td>⋯</td><td> 811</td><td> 664</td><td> 917</td><td> 815</td><td> 610</td><td>643</td><td>665</td><td>612</td><td>714</td><td>NA</td></tr>\n",
       "\t<tr><td>chr11</td><td>4505601</td><td>4505800</td><td>chr11:4505601-4505800</td><td>-0.3973339</td><td>+</td><td>0.0029914915</td><td>0.006711500</td><td>-0.6876531</td><td>N</td><td>⋯</td><td> 693</td><td> 552</td><td> 607</td><td> 551</td><td> 489</td><td>413</td><td>204</td><td>279</td><td>395</td><td>NA</td></tr>\n",
       "\t<tr><td>chr11</td><td>4505701</td><td>4505900</td><td>chr11:4505701-4505900</td><td>-0.2323635</td><td>+</td><td>0.1002384400</td><td>0.149439489</td><td>-0.4758606</td><td>N</td><td>⋯</td><td> 577</td><td> 414</td><td> 448</td><td> 371</td><td> 389</td><td>303</td><td>241</td><td>217</td><td>291</td><td>NA</td></tr>\n",
       "\t<tr><td>chr11</td><td>4506001</td><td>4506200</td><td>chr11:4506001-4506200</td><td>-0.2221044</td><td>+</td><td>0.1216103353</td><td>0.176519292</td><td>-0.4626897</td><td>N</td><td>⋯</td><td> 444</td><td> 422</td><td> 454</td><td> 473</td><td> 443</td><td>237</td><td>237</td><td>215</td><td>383</td><td>NA</td></tr>\n",
       "\t<tr><td>chr11</td><td>4506201</td><td>4506400</td><td>chr11:4506201-4506400</td><td>-0.3366908</td><td>+</td><td>0.0006082804</td><td>0.001592329</td><td>-0.6097982</td><td>N</td><td>⋯</td><td>1454</td><td>1201</td><td>1330</td><td>1137</td><td>1045</td><td>611</td><td>598</td><td>623</td><td>903</td><td>NA</td></tr>\n",
       "\t<tr><td>chr11</td><td>4506301</td><td>4506500</td><td>chr11:4506301-4506500</td><td> 0.2525536</td><td>+</td><td>0.0133371628</td><td>0.025487510</td><td> 0.1466862</td><td>N</td><td>⋯</td><td>1035</td><td> 792</td><td> 887</td><td> 760</td><td> 752</td><td>715</td><td>697</td><td>714</td><td>615</td><td>NA</td></tr>\n",
       "</tbody>\n",
       "</table>\n"
      ],
      "text/latex": [
       "A tibble: 6 × 21\n",
       "\\begin{tabular}{lllllllllllllllllllll}\n",
       " X1 & X2 & X3 & X4 & X5 & X6 & X7 & X8 & X9 & X10 & ⋯ & X12 & X13 & X14 & X15 & X16 & X17 & X18 & X19 & X20 & X21\\\\\n",
       " <chr> & <dbl> & <dbl> & <chr> & <dbl> & <chr> & <dbl> & <dbl> & <dbl> & <chr> & ⋯ & <dbl> & <dbl> & <dbl> & <dbl> & <dbl> & <dbl> & <dbl> & <dbl> & <dbl> & <dbl>\\\\\n",
       "\\hline\n",
       "\t chr11 & 4505501 & 4505700 & chr11:4505501-4505700 &  0.3597675 & + & 0.0006939294 & 0.001793942 &  0.2843297 & N & ⋯ &  811 &  664 &  917 &  815 &  610 & 643 & 665 & 612 & 714 & NA\\\\\n",
       "\t chr11 & 4505601 & 4505800 & chr11:4505601-4505800 & -0.3973339 & + & 0.0029914915 & 0.006711500 & -0.6876531 & N & ⋯ &  693 &  552 &  607 &  551 &  489 & 413 & 204 & 279 & 395 & NA\\\\\n",
       "\t chr11 & 4505701 & 4505900 & chr11:4505701-4505900 & -0.2323635 & + & 0.1002384400 & 0.149439489 & -0.4758606 & N & ⋯ &  577 &  414 &  448 &  371 &  389 & 303 & 241 & 217 & 291 & NA\\\\\n",
       "\t chr11 & 4506001 & 4506200 & chr11:4506001-4506200 & -0.2221044 & + & 0.1216103353 & 0.176519292 & -0.4626897 & N & ⋯ &  444 &  422 &  454 &  473 &  443 & 237 & 237 & 215 & 383 & NA\\\\\n",
       "\t chr11 & 4506201 & 4506400 & chr11:4506201-4506400 & -0.3366908 & + & 0.0006082804 & 0.001592329 & -0.6097982 & N & ⋯ & 1454 & 1201 & 1330 & 1137 & 1045 & 611 & 598 & 623 & 903 & NA\\\\\n",
       "\t chr11 & 4506301 & 4506500 & chr11:4506301-4506500 &  0.2525536 & + & 0.0133371628 & 0.025487510 &  0.1466862 & N & ⋯ & 1035 &  792 &  887 &  760 &  752 & 715 & 697 & 714 & 615 & NA\\\\\n",
       "\\end{tabular}\n"
      ],
      "text/markdown": [
       "\n",
       "A tibble: 6 × 21\n",
       "\n",
       "| X1 &lt;chr&gt; | X2 &lt;dbl&gt; | X3 &lt;dbl&gt; | X4 &lt;chr&gt; | X5 &lt;dbl&gt; | X6 &lt;chr&gt; | X7 &lt;dbl&gt; | X8 &lt;dbl&gt; | X9 &lt;dbl&gt; | X10 &lt;chr&gt; | ⋯ ⋯ | X12 &lt;dbl&gt; | X13 &lt;dbl&gt; | X14 &lt;dbl&gt; | X15 &lt;dbl&gt; | X16 &lt;dbl&gt; | X17 &lt;dbl&gt; | X18 &lt;dbl&gt; | X19 &lt;dbl&gt; | X20 &lt;dbl&gt; | X21 &lt;dbl&gt; |\n",
       "|---|---|---|---|---|---|---|---|---|---|---|---|---|---|---|---|---|---|---|---|---|\n",
       "| chr11 | 4505501 | 4505700 | chr11:4505501-4505700 |  0.3597675 | + | 0.0006939294 | 0.001793942 |  0.2843297 | N | ⋯ |  811 |  664 |  917 |  815 |  610 | 643 | 665 | 612 | 714 | NA |\n",
       "| chr11 | 4505601 | 4505800 | chr11:4505601-4505800 | -0.3973339 | + | 0.0029914915 | 0.006711500 | -0.6876531 | N | ⋯ |  693 |  552 |  607 |  551 |  489 | 413 | 204 | 279 | 395 | NA |\n",
       "| chr11 | 4505701 | 4505900 | chr11:4505701-4505900 | -0.2323635 | + | 0.1002384400 | 0.149439489 | -0.4758606 | N | ⋯ |  577 |  414 |  448 |  371 |  389 | 303 | 241 | 217 | 291 | NA |\n",
       "| chr11 | 4506001 | 4506200 | chr11:4506001-4506200 | -0.2221044 | + | 0.1216103353 | 0.176519292 | -0.4626897 | N | ⋯ |  444 |  422 |  454 |  473 |  443 | 237 | 237 | 215 | 383 | NA |\n",
       "| chr11 | 4506201 | 4506400 | chr11:4506201-4506400 | -0.3366908 | + | 0.0006082804 | 0.001592329 | -0.6097982 | N | ⋯ | 1454 | 1201 | 1330 | 1137 | 1045 | 611 | 598 | 623 | 903 | NA |\n",
       "| chr11 | 4506301 | 4506500 | chr11:4506301-4506500 |  0.2525536 | + | 0.0133371628 | 0.025487510 |  0.1466862 | N | ⋯ | 1035 |  792 |  887 |  760 |  752 | 715 | 697 | 714 | 615 | NA |\n",
       "\n"
      ],
      "text/plain": [
       "  X1    X2      X3      X4                    X5         X6 X7          \n",
       "1 chr11 4505501 4505700 chr11:4505501-4505700  0.3597675 +  0.0006939294\n",
       "2 chr11 4505601 4505800 chr11:4505601-4505800 -0.3973339 +  0.0029914915\n",
       "3 chr11 4505701 4505900 chr11:4505701-4505900 -0.2323635 +  0.1002384400\n",
       "4 chr11 4506001 4506200 chr11:4506001-4506200 -0.2221044 +  0.1216103353\n",
       "5 chr11 4506201 4506400 chr11:4506201-4506400 -0.3366908 +  0.0006082804\n",
       "6 chr11 4506301 4506500 chr11:4506301-4506500  0.2525536 +  0.0133371628\n",
       "  X8          X9         X10 ⋯ X12  X13  X14  X15  X16  X17 X18 X19 X20 X21\n",
       "1 0.001793942  0.2843297 N   ⋯  811  664  917  815  610 643 665 612 714 NA \n",
       "2 0.006711500 -0.6876531 N   ⋯  693  552  607  551  489 413 204 279 395 NA \n",
       "3 0.149439489 -0.4758606 N   ⋯  577  414  448  371  389 303 241 217 291 NA \n",
       "4 0.176519292 -0.4626897 N   ⋯  444  422  454  473  443 237 237 215 383 NA \n",
       "5 0.001592329 -0.6097982 N   ⋯ 1454 1201 1330 1137 1045 611 598 623 903 NA \n",
       "6 0.025487510  0.1466862 N   ⋯ 1035  792  887  760  752 715 697 714 615 NA "
      ]
     },
     "metadata": {},
     "output_type": "display_data"
    }
   ],
   "source": [
    "dat = dat_tmpra_import\n",
    "dat = dat %>%\n",
    "    dplyr::mutate(X1 = str_replace(X1, pattern=\"chrchr\", replacement = \"chr\")) %>% \n",
    "    dplyr::arrange(X1, X2, X3)\n",
    "\n",
    "dat_tmpra_arrange = dat\n",
    "print(dim(dat))\n",
    "head(dat)"
   ]
  },
  {
   "cell_type": "code",
   "execution_count": 5,
   "metadata": {},
   "outputs": [
    {
     "name": "stdout",
     "output_type": "stream",
     "text": [
      "\n",
      "chr11 chr16  chr2 chr20  chr8  chrX \n",
      "40724  5974 12824 11974 27670 31806 \n"
     ]
    }
   ],
   "source": [
    "dat = dat_tmpra_arrange\n",
    "res = table(dat$X1)\n",
    "print(res)"
   ]
  },
  {
   "cell_type": "markdown",
   "metadata": {},
   "source": [
    "## Save results"
   ]
  },
  {
   "cell_type": "code",
   "execution_count": 6,
   "metadata": {},
   "outputs": [],
   "source": [
    "fdiry = file.path(FD_RES, \"results\", \"region\", \"annotation_enhancer_junke_zscore\")\n",
    "fname = \"enhancer_zscore_junke.inactive.TMPRA.bed.gz\"\n",
    "fpath = file.path(fdiry, fname)\n",
    "\n",
    "dat = dat_tmpra_arrange\n",
    "write_tsv(dat, fpath, col_names = FALSE)"
   ]
  },
  {
   "cell_type": "code",
   "execution_count": null,
   "metadata": {},
   "outputs": [],
   "source": []
  },
  {
   "cell_type": "code",
   "execution_count": null,
   "metadata": {},
   "outputs": [],
   "source": []
  }
 ],
 "metadata": {
  "kernelspec": {
   "display_name": "R",
   "language": "R",
   "name": "ir"
  },
  "language_info": {
   "codemirror_mode": "r",
   "file_extension": ".r",
   "mimetype": "text/x-r-source",
   "name": "R",
   "pygments_lexer": "r",
   "version": "4.3.0"
  }
 },
 "nbformat": 4,
 "nbformat_minor": 5
}
