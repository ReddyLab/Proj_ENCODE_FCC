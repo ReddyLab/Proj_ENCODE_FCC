{
 "cells": [
  {
   "cell_type": "code",
   "execution_count": 1,
   "metadata": {},
   "outputs": [
    {
     "name": "stdout",
     "output_type": "stream",
     "text": [
      "You are on Duke Server: HARDAC\n",
      "BASE DIRECTORY (FD_BASE): /data/reddylab/Kuei\n",
      "WORK DIRECTORY (FD_WORK): /data/reddylab/Kuei/out\n",
      "CODE DIRECTORY (FD_CODE): /data/reddylab/Kuei/code\n",
      "SING DIRECTORY (FD_SING): /data/reddylab/Kuei/singularity\n",
      "PATH OF PROJECT (FD_PRJ): /data/reddylab/Kuei/code/Proj_CombEffect_ENCODE_FCC\n",
      "PATH OF RESULTS (FD_RES): /data/reddylab/Kuei/out/proj_combeffect_encode_fcc\n",
      "PATH OF LOG     (FD_LOG): /data/reddylab/Kuei/out/proj_combeffect_encode_fcc/log\n",
      "\n"
     ]
    }
   ],
   "source": [
    "source ../config/config_duke.sh\n",
    "show_env"
   ]
  },
  {
   "cell_type": "markdown",
   "metadata": {},
   "source": [
    "**File**"
   ]
  },
  {
   "cell_type": "code",
   "execution_count": 6,
   "metadata": {},
   "outputs": [
    {
     "name": "stdout",
     "output_type": "stream",
     "text": [
      "/data/reddylab/Kuei/out/proj_combeffect_encode_fcc/source/annotation_cCREs/ENCFF971AHO_ENCFF847JMY_ENCFF779QTH_ENCFF405AYC.7group.bed\n"
     ]
    }
   ],
   "source": [
    "ls ${FD_RES}/source/annotation_cCREs/ENCFF971AHO_ENCFF847JMY_ENCFF779QTH_ENCFF405AYC.7group.bed"
   ]
  },
  {
   "cell_type": "code",
   "execution_count": 7,
   "metadata": {},
   "outputs": [
    {
     "name": "stdout",
     "output_type": "stream",
     "text": [
      "\u001b[0m\u001b[38;5;9m/data/reddylab/Kuei/out/proj_combeffect_encode_fcc/source/annotation_cCREs/K562.ENCSR913HQX.ENCFF286VQG.ccres.bed.gz\u001b[0m\u001b[K\n"
     ]
    }
   ],
   "source": [
    "ls ${FD_RES}/source/annotation_cCREs/K562.ENCSR913HQX.ENCFF286VQG.ccres.bed.gz"
   ]
  },
  {
   "cell_type": "markdown",
   "metadata": {},
   "source": [
    "**Copy**"
   ]
  },
  {
   "cell_type": "markdown",
   "metadata": {},
   "source": [
    "decide to rename the file in the `export` notebook"
   ]
  },
  {
   "cell_type": "code",
   "execution_count": 23,
   "metadata": {},
   "outputs": [
    {
     "name": "stdout",
     "output_type": "stream",
     "text": [
      "description.tsv  \u001b[0m\u001b[38;5;27msummary\u001b[0m\n"
     ]
    }
   ],
   "source": [
    "ls ${FD_RES}/results/region/annotation_ccre"
   ]
  },
  {
   "cell_type": "markdown",
   "metadata": {},
   "source": [
    "```\n",
    "FD_INP=${FD_RES}/source/annotation_cCREs\n",
    "FN_INP=ENCFF971AHO_ENCFF847JMY_ENCFF779QTH_ENCFF405AYC.7group.bed\n",
    "FP_INP=${FD_INP}/${FN_INP}\n",
    "\n",
    "FD_OUT=${FD_RES}/results/region/annotation_ccre\n",
    "FN_OUT=${FN_INP}.gz\n",
    "FP_OUT=${FD_OUT}/${FN_OUT}\n",
    "\n",
    "ls ${FP_INP}\n",
    "\n",
    "cat ${FP_INP} | gzip -c > ${FP_OUT}\n",
    "```"
   ]
  },
  {
   "cell_type": "markdown",
   "metadata": {},
   "source": [
    "```\n",
    "FD_INP=${FD_RES}/source/annotation_cCREs\n",
    "FN_INP=K562.ENCSR913HQX.ENCFF286VQG.ccres.bed.gz\n",
    "FP_INP=${FD_INP}/${FN_INP}\n",
    "\n",
    "FD_OUT=${FD_RES}/results/region/annotation_ccre\n",
    "FN_OUT=${FN_INP}\n",
    "FP_OUT=${FD_OUT}/${FN_OUT}\n",
    "\n",
    "ls ${FP_INP}\n",
    "\n",
    "cp ${FP_INP} ${FP_OUT}\n",
    "```"
   ]
  },
  {
   "cell_type": "markdown",
   "metadata": {},
   "source": [
    "**Download annotations used to generate cCREs**"
   ]
  },
  {
   "cell_type": "code",
   "execution_count": null,
   "metadata": {},
   "outputs": [],
   "source": [
    "cd ${FD_RES}/source/annotation_cCREs"
   ]
  },
  {
   "cell_type": "code",
   "execution_count": 6,
   "metadata": {},
   "outputs": [
    {
     "name": "stdout",
     "output_type": "stream",
     "text": [
      "  % Total    % Received % Xferd  Average Speed   Time    Time     Time  Current\n",
      "                                 Dload  Upload   Total   Spent    Left  Speed\n",
      "100 23574  100 23574    0     0  31950      0 --:--:-- --:--:-- --:--:-- 31986\n",
      "  % Total    % Received % Xferd  Average Speed   Time    Time     Time  Current\n",
      "                                 Dload  Upload   Total   Spent    Left  Speed\n",
      "100  1937  100  1937    0     0   3150      0 --:--:-- --:--:-- --:--:--  3149\n",
      "100 31.1M  100 31.1M    0     0  2114k      0  0:00:15  0:00:15 --:--:-- 4738k\n",
      "curl: Saved to filename 'ENCFF539BTC.bed.gz'\n",
      "  % Total    % Received % Xferd  Average Speed   Time    Time     Time  Current\n",
      "                                 Dload  Upload   Total   Spent    Left  Speed\n",
      "100  1941  100  1941    0     0   3041      0 --:--:-- --:--:-- --:--:--  3037\n",
      "100 68.3M  100 68.3M    0     0  14.0M      0  0:00:04  0:00:04 --:--:-- 18.5M\n",
      "curl: Saved to filename 'ENCFF511HSV.bigBed'\n",
      "  % Total    % Received % Xferd  Average Speed   Time    Time     Time  Current\n",
      "                                 Dload  Upload   Total   Spent    Left  Speed\n",
      "100  1941  100  1941    0     0   2949      0 --:--:-- --:--:-- --:--:--  2949\n",
      "100 31.1M  100 31.1M    0     0  10.2M      0  0:00:03  0:00:03 --:--:-- 16.9M\n",
      "curl: Saved to filename 'ENCFF286VQG.bed.gz'\n",
      "  % Total    % Received % Xferd  Average Speed   Time    Time     Time  Current\n",
      "                                 Dload  Upload   Total   Spent    Left  Speed\n",
      "100  1939  100  1939    0     0   3772      0 --:--:-- --:--:-- --:--:--  3772\n",
      "100 68.9M  100 68.9M    0     0  20.9M      0  0:00:03  0:00:03 --:--:-- 32.0M\n",
      "curl: Saved to filename 'ENCFF144YZB.bigBed'\n",
      "  % Total    % Received % Xferd  Average Speed   Time    Time     Time  Current\n",
      "                                 Dload  Upload   Total   Spent    Left  Speed\n",
      "100  1939  100  1939    0     0   3662      0 --:--:-- --:--:-- --:--:--  3665\n",
      "100 31.1M  100 31.1M    0     0  10.8M      0  0:00:02  0:00:02 --:--:-- 17.1M\n",
      "curl: Saved to filename 'ENCFF436MAO.bed.gz'\n",
      "  % Total    % Received % Xferd  Average Speed   Time    Time     Time  Current\n",
      "                                 Dload  Upload   Total   Spent    Left  Speed\n",
      "100  1937  100  1937    0     0   3391      0 --:--:-- --:--:-- --:--:--  3398\n",
      "100 68.3M  100 68.3M    0     0  16.8M      0  0:00:04  0:00:04 --:--:-- 22.4M\n",
      "curl: Saved to filename 'ENCFF082GFK.bigBed'\n",
      "  % Total    % Received % Xferd  Average Speed   Time    Time     Time  Current\n",
      "                                 Dload  Upload   Total   Spent    Left  Speed\n",
      "100  1937  100  1937    0     0   3887      0 --:--:-- --:--:-- --:--:--  3889\n",
      "100 31.1M  100 31.1M    0     0  10.6M      0  0:00:02  0:00:02 --:--:-- 16.0M\n",
      "curl: Saved to filename 'ENCFF706JDX.bed.gz'\n",
      "  % Total    % Received % Xferd  Average Speed   Time    Time     Time  Current\n",
      "                                 Dload  Upload   Total   Spent    Left  Speed\n",
      "100  1941  100  1941    0     0   4119      0 --:--:-- --:--:-- --:--:--  4129\n",
      "100 68.3M  100 68.3M    0     0  18.7M      0  0:00:03  0:00:03 --:--:-- 25.5M\n",
      "curl: Saved to filename 'ENCFF135QQP.bigBed'\n",
      "  % Total    % Received % Xferd  Average Speed   Time    Time     Time  Current\n",
      "                                 Dload  Upload   Total   Spent    Left  Speed\n",
      "100  1939  100  1939    0     0   3477      0 --:--:-- --:--:-- --:--:--  3474\n",
      "100 31.1M  100 31.1M    0     0  10.2M      0  0:00:03  0:00:03 --:--:-- 17.8M\n",
      "curl: Saved to filename 'ENCFF455VKH.bed.gz'\n",
      "  % Total    % Received % Xferd  Average Speed   Time    Time     Time  Current\n",
      "                                 Dload  Upload   Total   Spent    Left  Speed\n",
      "100  1941  100  1941    0     0   3589      0 --:--:-- --:--:-- --:--:--  3587\n",
      "100 68.3M  100 68.3M    0     0  19.0M      0  0:00:03  0:00:03 --:--:-- 29.1M\n",
      "curl: Saved to filename 'ENCFF953CSP.bigBed'\n",
      "  % Total    % Received % Xferd  Average Speed   Time    Time     Time  Current\n",
      "                                 Dload  Upload   Total   Spent    Left  Speed\n",
      "100  1937  100  1937    0     0   2516      0 --:--:-- --:--:-- --:--:--  2515\n",
      "100 68.3M  100 68.3M    0     0  3841k      0  0:00:18  0:00:18 --:--:-- 10.7M\n",
      "curl: Saved to filename 'ENCFF556WKM.bigBed'\n",
      "  % Total    % Received % Xferd  Average Speed   Time    Time     Time  Current\n",
      "                                 Dload  Upload   Total   Spent    Left  Speed\n",
      "100  1937  100  1937    0     0   2349      0 --:--:-- --:--:-- --:--:--  2347\n",
      "100 31.1M  100 31.1M    0     0  9658k      0  0:00:03  0:00:03 --:--:-- 16.8M\n",
      "curl: Saved to filename 'ENCFF658OPM.bed.gz'\n"
     ]
    }
   ],
   "source": [
    "xargs -L 1 curl -O -J -L < files.txt"
   ]
  },
  {
   "cell_type": "code",
   "execution_count": 7,
   "metadata": {},
   "outputs": [
    {
     "name": "stdout",
     "output_type": "stream",
     "text": [
      "ENCFF082GFK.bigBed\n",
      "ENCFF135QQP.bigBed\n",
      "ENCFF144YZB.bigBed\n",
      "\u001b[0m\u001b[38;5;9mENCFF286VQG.bed.gz\u001b[0m\n",
      "\u001b[38;5;9mENCFF436MAO.bed.gz\u001b[0m\n",
      "\u001b[38;5;9mENCFF455VKH.bed.gz\u001b[0m\n",
      "ENCFF511HSV.bigBed\n",
      "\u001b[38;5;9mENCFF539BTC.bed.gz\u001b[0m\n",
      "ENCFF556WKM.bigBed\n",
      "\u001b[38;5;9mENCFF658OPM.bed.gz\u001b[0m\n",
      "\u001b[38;5;9mENCFF706JDX.bed.gz\u001b[0m\n",
      "ENCFF953CSP.bigBed\n",
      "ENCFF971AHO_ENCFF847JMY_ENCFF779QTH_ENCFF405AYC.7group.bed\n",
      "files.txt\n",
      "\u001b[38;5;9mK562.ENCSR913HQX.ENCFF286VQG.ccres.bed.gz\u001b[0m\n",
      "metadata.tsv\n",
      "?type=Annotation&cart=%2Fcarts%2Fd32a65df-3b45-426c-adab-0b28647a37ae%2F\n"
     ]
    }
   ],
   "source": [
    "ls"
   ]
  },
  {
   "cell_type": "code",
   "execution_count": 12,
   "metadata": {},
   "outputs": [],
   "source": [
    "rm '?type=Annotation&cart=%2Fcarts%2Fd32a65df-3b45-426c-adab-0b28647a37ae%2F'"
   ]
  },
  {
   "cell_type": "code",
   "execution_count": 13,
   "metadata": {},
   "outputs": [
    {
     "name": "stdout",
     "output_type": "stream",
     "text": [
      "ENCFF082GFK.bigBed  ENCFF556WKM.bigBed\n",
      "ENCFF135QQP.bigBed  \u001b[0m\u001b[38;5;9mENCFF658OPM.bed.gz\u001b[0m\n",
      "ENCFF144YZB.bigBed  \u001b[38;5;9mENCFF706JDX.bed.gz\u001b[0m\n",
      "\u001b[38;5;9mENCFF286VQG.bed.gz\u001b[0m  ENCFF953CSP.bigBed\n",
      "\u001b[38;5;9mENCFF436MAO.bed.gz\u001b[0m  ENCFF971AHO_ENCFF847JMY_ENCFF779QTH_ENCFF405AYC.7group.bed\n",
      "\u001b[38;5;9mENCFF455VKH.bed.gz\u001b[0m  files.txt\n",
      "ENCFF511HSV.bigBed  \u001b[38;5;9mK562.ENCSR913HQX.ENCFF286VQG.ccres.bed.gz\u001b[0m\n",
      "\u001b[38;5;9mENCFF539BTC.bed.gz\u001b[0m  metadata.tsv\n"
     ]
    }
   ],
   "source": [
    "ls"
   ]
  },
  {
   "cell_type": "code",
   "execution_count": null,
   "metadata": {},
   "outputs": [],
   "source": []
  }
 ],
 "metadata": {
  "kernelspec": {
   "display_name": "Bash",
   "language": "bash",
   "name": "bash"
  },
  "language_info": {
   "codemirror_mode": "shell",
   "file_extension": ".sh",
   "mimetype": "text/x-sh",
   "name": "bash"
  }
 },
 "nbformat": 4,
 "nbformat_minor": 4
}
