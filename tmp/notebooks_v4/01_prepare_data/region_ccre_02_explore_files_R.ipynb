{
 "cells": [
  {
   "cell_type": "markdown",
   "metadata": {},
   "source": [
    "# Exlore cCREs files"
   ]
  },
  {
   "cell_type": "markdown",
   "metadata": {},
   "source": [
    "**Set environment**"
   ]
  },
  {
   "cell_type": "code",
   "execution_count": 1,
   "metadata": {},
   "outputs": [
    {
     "name": "stdout",
     "output_type": "stream",
     "text": [
      "You are in Singularity: singularity_proj_encode_fcc \n",
      "BASE DIRECTORY (FD_BASE): /data/reddylab/Kuei \n",
      "WORK DIRECTORY (FD_WORK): /data/reddylab/Kuei/out \n",
      "CODE DIRECTORY (FD_CODE): /data/reddylab/Kuei/code \n",
      "PATH OF PROJECT (FD_PRJ): /data/reddylab/Kuei/code/Proj_CombEffect_ENCODE_FCC \n",
      "PATH OF RESULTS (FD_RES): /data/reddylab/Kuei/out/proj_combeffect_encode_fcc \n",
      "PATH OF LOG     (FD_LOG): /data/reddylab/Kuei/out/proj_combeffect_encode_fcc/log \n"
     ]
    }
   ],
   "source": [
    "suppressMessages(suppressWarnings(source(\"../config/config_sing.R\")))\n",
    "show_env()"
   ]
  },
  {
   "cell_type": "code",
   "execution_count": 2,
   "metadata": {},
   "outputs": [
    {
     "name": "stdout",
     "output_type": "stream",
     "text": [
      "ccres_v4.silencer.rest.tsv \n",
      "ccres_v4.silencer.starr.tsv \n",
      "ENCFF082GFK.bigBed \n",
      "ENCFF135QQP.bigBed \n",
      "ENCFF144YZB.bigBed \n",
      "ENCFF286VQG.bed.gz \n",
      "ENCFF436MAO.bed.gz \n",
      "ENCFF455VKH.bed.gz \n",
      "ENCFF511HSV.bigBed \n",
      "ENCFF539BTC.bed.gz \n",
      "ENCFF556WKM.bigBed \n",
      "ENCFF658OPM.bed.gz \n",
      "ENCFF706JDX.bed.gz \n",
      "ENCFF953CSP.bigBed \n",
      "ENCFF971AHO_ENCFF847JMY_ENCFF779QTH_ENCFF405AYC.7group.bed \n",
      "files.txt \n",
      "K562.ENCSR913HQX.ENCFF286VQG.ccres.bed.gz \n",
      "metadata.tsv \n",
      "Readme.md \n"
     ]
    }
   ],
   "source": [
    "fdiry  = file.path(FD_RES, \"source\", \"annotation_cCREs\")\n",
    "fnames = dir(fdiry)\n",
    "for(fname in fnames){cat(fname, \"\\n\")}"
   ]
  },
  {
   "cell_type": "markdown",
   "metadata": {},
   "source": [
    "## Import data"
   ]
  },
  {
   "cell_type": "markdown",
   "metadata": {},
   "source": [
    "### ENCODE cCREs v3"
   ]
  },
  {
   "cell_type": "code",
   "execution_count": 3,
   "metadata": {},
   "outputs": [
    {
     "name": "stdout",
     "output_type": "stream",
     "text": [
      "[1] 926535     11\n"
     ]
    },
    {
     "data": {
      "text/html": [
       "<table class=\"dataframe\">\n",
       "<caption>A tibble: 6 × 11</caption>\n",
       "<thead>\n",
       "\t<tr><th scope=col>Chrom</th><th scope=col>Start</th><th scope=col>End</th><th scope=col>Name</th><th scope=col>Score</th><th scope=col>Strand</th><th scope=col>thickStart</th><th scope=col>thickEnd</th><th scope=col>itemRgb</th><th scope=col>Category</th><th scope=col>Note</th></tr>\n",
       "\t<tr><th scope=col>&lt;chr&gt;</th><th scope=col>&lt;dbl&gt;</th><th scope=col>&lt;dbl&gt;</th><th scope=col>&lt;chr&gt;</th><th scope=col>&lt;dbl&gt;</th><th scope=col>&lt;chr&gt;</th><th scope=col>&lt;dbl&gt;</th><th scope=col>&lt;dbl&gt;</th><th scope=col>&lt;chr&gt;</th><th scope=col>&lt;chr&gt;</th><th scope=col>&lt;chr&gt;</th></tr>\n",
       "</thead>\n",
       "<tbody>\n",
       "\t<tr><td>chr1</td><td>181251</td><td>181601</td><td>EH38E1310153</td><td>0</td><td>.</td><td>181251</td><td>181601</td><td>6,218,147  </td><td>DNase-only    </td><td>All-data/Full-classification</td></tr>\n",
       "\t<tr><td>chr1</td><td>190865</td><td>191071</td><td>EH38E1310154</td><td>0</td><td>.</td><td>190865</td><td>191071</td><td>225,225,225</td><td>Low-DNase     </td><td>All-data/Full-classification</td></tr>\n",
       "\t<tr><td>chr1</td><td>778562</td><td>778912</td><td>EH38E1310158</td><td>0</td><td>.</td><td>778562</td><td>778912</td><td>255,0,0    </td><td>PLS,CTCF-bound</td><td>All-data/Full-classification</td></tr>\n",
       "\t<tr><td>chr1</td><td>779086</td><td>779355</td><td>EH38E1310159</td><td>0</td><td>.</td><td>779086</td><td>779355</td><td>255,0,0    </td><td>PLS           </td><td>All-data/Full-classification</td></tr>\n",
       "\t<tr><td>chr1</td><td>779727</td><td>780060</td><td>EH38E1310160</td><td>0</td><td>.</td><td>779727</td><td>780060</td><td>225,225,225</td><td>Low-DNase     </td><td>All-data/Full-classification</td></tr>\n",
       "\t<tr><td>chr1</td><td>790397</td><td>790626</td><td>EH38E1310162</td><td>0</td><td>.</td><td>790397</td><td>790626</td><td>225,225,225</td><td>Low-DNase     </td><td>All-data/Full-classification</td></tr>\n",
       "</tbody>\n",
       "</table>\n"
      ],
      "text/latex": [
       "A tibble: 6 × 11\n",
       "\\begin{tabular}{lllllllllll}\n",
       " Chrom & Start & End & Name & Score & Strand & thickStart & thickEnd & itemRgb & Category & Note\\\\\n",
       " <chr> & <dbl> & <dbl> & <chr> & <dbl> & <chr> & <dbl> & <dbl> & <chr> & <chr> & <chr>\\\\\n",
       "\\hline\n",
       "\t chr1 & 181251 & 181601 & EH38E1310153 & 0 & . & 181251 & 181601 & 6,218,147   & DNase-only     & All-data/Full-classification\\\\\n",
       "\t chr1 & 190865 & 191071 & EH38E1310154 & 0 & . & 190865 & 191071 & 225,225,225 & Low-DNase      & All-data/Full-classification\\\\\n",
       "\t chr1 & 778562 & 778912 & EH38E1310158 & 0 & . & 778562 & 778912 & 255,0,0     & PLS,CTCF-bound & All-data/Full-classification\\\\\n",
       "\t chr1 & 779086 & 779355 & EH38E1310159 & 0 & . & 779086 & 779355 & 255,0,0     & PLS            & All-data/Full-classification\\\\\n",
       "\t chr1 & 779727 & 780060 & EH38E1310160 & 0 & . & 779727 & 780060 & 225,225,225 & Low-DNase      & All-data/Full-classification\\\\\n",
       "\t chr1 & 790397 & 790626 & EH38E1310162 & 0 & . & 790397 & 790626 & 225,225,225 & Low-DNase      & All-data/Full-classification\\\\\n",
       "\\end{tabular}\n"
      ],
      "text/markdown": [
       "\n",
       "A tibble: 6 × 11\n",
       "\n",
       "| Chrom &lt;chr&gt; | Start &lt;dbl&gt; | End &lt;dbl&gt; | Name &lt;chr&gt; | Score &lt;dbl&gt; | Strand &lt;chr&gt; | thickStart &lt;dbl&gt; | thickEnd &lt;dbl&gt; | itemRgb &lt;chr&gt; | Category &lt;chr&gt; | Note &lt;chr&gt; |\n",
       "|---|---|---|---|---|---|---|---|---|---|---|\n",
       "| chr1 | 181251 | 181601 | EH38E1310153 | 0 | . | 181251 | 181601 | 6,218,147   | DNase-only     | All-data/Full-classification |\n",
       "| chr1 | 190865 | 191071 | EH38E1310154 | 0 | . | 190865 | 191071 | 225,225,225 | Low-DNase      | All-data/Full-classification |\n",
       "| chr1 | 778562 | 778912 | EH38E1310158 | 0 | . | 778562 | 778912 | 255,0,0     | PLS,CTCF-bound | All-data/Full-classification |\n",
       "| chr1 | 779086 | 779355 | EH38E1310159 | 0 | . | 779086 | 779355 | 255,0,0     | PLS            | All-data/Full-classification |\n",
       "| chr1 | 779727 | 780060 | EH38E1310160 | 0 | . | 779727 | 780060 | 225,225,225 | Low-DNase      | All-data/Full-classification |\n",
       "| chr1 | 790397 | 790626 | EH38E1310162 | 0 | . | 790397 | 790626 | 225,225,225 | Low-DNase      | All-data/Full-classification |\n",
       "\n"
      ],
      "text/plain": [
       "  Chrom Start  End    Name         Score Strand thickStart thickEnd itemRgb    \n",
       "1 chr1  181251 181601 EH38E1310153 0     .      181251     181601   6,218,147  \n",
       "2 chr1  190865 191071 EH38E1310154 0     .      190865     191071   225,225,225\n",
       "3 chr1  778562 778912 EH38E1310158 0     .      778562     778912   255,0,0    \n",
       "4 chr1  779086 779355 EH38E1310159 0     .      779086     779355   255,0,0    \n",
       "5 chr1  779727 780060 EH38E1310160 0     .      779727     780060   225,225,225\n",
       "6 chr1  790397 790626 EH38E1310162 0     .      790397     790626   225,225,225\n",
       "  Category       Note                        \n",
       "1 DNase-only     All-data/Full-classification\n",
       "2 Low-DNase      All-data/Full-classification\n",
       "3 PLS,CTCF-bound All-data/Full-classification\n",
       "4 PLS            All-data/Full-classification\n",
       "5 Low-DNase      All-data/Full-classification\n",
       "6 Low-DNase      All-data/Full-classification"
      ]
     },
     "metadata": {},
     "output_type": "display_data"
    }
   ],
   "source": [
    "fdiry = file.path(FD_RES, \"source\", \"annotation_cCREs\")\n",
    "fname = \"ENCFF971AHO_ENCFF847JMY_ENCFF779QTH_ENCFF405AYC.7group.bed\"\n",
    "fpath = file.path(fdiry, fname)\n",
    "\n",
    "cnames = c(\n",
    "    \"Chrom\", \"Start\", \"End\", \"Name\", \"Score\", \"Strand\", \n",
    "    \"thickStart\", \"thickEnd\", \"itemRgb\", \n",
    "    \"Category\", \"Note\")\n",
    "dat = read_tsv(fpath, col_names = cnames, show_col_types = FALSE)\n",
    "\n",
    "dat_ccre_v3 = dat\n",
    "print(dim(dat))\n",
    "head(dat)"
   ]
  },
  {
   "cell_type": "markdown",
   "metadata": {},
   "source": [
    "### ENCODE cCREs v4"
   ]
  },
  {
   "cell_type": "code",
   "execution_count": 4,
   "metadata": {},
   "outputs": [
    {
     "name": "stdout",
     "output_type": "stream",
     "text": [
      "[1] 2348854      11\n"
     ]
    },
    {
     "data": {
      "text/html": [
       "<table class=\"dataframe\">\n",
       "<caption>A tibble: 6 × 11</caption>\n",
       "<thead>\n",
       "\t<tr><th scope=col>Chrom</th><th scope=col>Start</th><th scope=col>End</th><th scope=col>Name</th><th scope=col>Score</th><th scope=col>Strand</th><th scope=col>thickStart</th><th scope=col>thickEnd</th><th scope=col>itemRgb</th><th scope=col>Category</th><th scope=col>Note</th></tr>\n",
       "\t<tr><th scope=col>&lt;chr&gt;</th><th scope=col>&lt;dbl&gt;</th><th scope=col>&lt;dbl&gt;</th><th scope=col>&lt;chr&gt;</th><th scope=col>&lt;dbl&gt;</th><th scope=col>&lt;chr&gt;</th><th scope=col>&lt;dbl&gt;</th><th scope=col>&lt;dbl&gt;</th><th scope=col>&lt;chr&gt;</th><th scope=col>&lt;chr&gt;</th><th scope=col>&lt;chr&gt;</th></tr>\n",
       "</thead>\n",
       "<tbody>\n",
       "\t<tr><td>chr1</td><td>10033</td><td>10250</td><td>EH38E2776516</td><td>0</td><td>.</td><td>10033</td><td>10250</td><td>225,225,225</td><td>Low-DNase</td><td>All-data/Full-classification</td></tr>\n",
       "\t<tr><td>chr1</td><td>10385</td><td>10713</td><td>EH38E2776517</td><td>0</td><td>.</td><td>10385</td><td>10713</td><td>225,225,225</td><td>Low-DNase</td><td>All-data/Full-classification</td></tr>\n",
       "\t<tr><td>chr1</td><td>16097</td><td>16381</td><td>EH38E3951272</td><td>0</td><td>.</td><td>16097</td><td>16381</td><td>225,225,225</td><td>Low-DNase</td><td>All-data/Full-classification</td></tr>\n",
       "\t<tr><td>chr1</td><td>17343</td><td>17642</td><td>EH38E3951273</td><td>0</td><td>.</td><td>17343</td><td>17642</td><td>225,225,225</td><td>Low-DNase</td><td>All-data/Full-classification</td></tr>\n",
       "\t<tr><td>chr1</td><td>29320</td><td>29517</td><td>EH38E3951274</td><td>0</td><td>.</td><td>29320</td><td>29517</td><td>225,225,225</td><td>Low-DNase</td><td>All-data/Full-classification</td></tr>\n",
       "\t<tr><td>chr1</td><td>66350</td><td>66509</td><td>EH38E3951275</td><td>0</td><td>.</td><td>66350</td><td>66509</td><td>225,225,225</td><td>Low-DNase</td><td>All-data/Full-classification</td></tr>\n",
       "</tbody>\n",
       "</table>\n"
      ],
      "text/latex": [
       "A tibble: 6 × 11\n",
       "\\begin{tabular}{lllllllllll}\n",
       " Chrom & Start & End & Name & Score & Strand & thickStart & thickEnd & itemRgb & Category & Note\\\\\n",
       " <chr> & <dbl> & <dbl> & <chr> & <dbl> & <chr> & <dbl> & <dbl> & <chr> & <chr> & <chr>\\\\\n",
       "\\hline\n",
       "\t chr1 & 10033 & 10250 & EH38E2776516 & 0 & . & 10033 & 10250 & 225,225,225 & Low-DNase & All-data/Full-classification\\\\\n",
       "\t chr1 & 10385 & 10713 & EH38E2776517 & 0 & . & 10385 & 10713 & 225,225,225 & Low-DNase & All-data/Full-classification\\\\\n",
       "\t chr1 & 16097 & 16381 & EH38E3951272 & 0 & . & 16097 & 16381 & 225,225,225 & Low-DNase & All-data/Full-classification\\\\\n",
       "\t chr1 & 17343 & 17642 & EH38E3951273 & 0 & . & 17343 & 17642 & 225,225,225 & Low-DNase & All-data/Full-classification\\\\\n",
       "\t chr1 & 29320 & 29517 & EH38E3951274 & 0 & . & 29320 & 29517 & 225,225,225 & Low-DNase & All-data/Full-classification\\\\\n",
       "\t chr1 & 66350 & 66509 & EH38E3951275 & 0 & . & 66350 & 66509 & 225,225,225 & Low-DNase & All-data/Full-classification\\\\\n",
       "\\end{tabular}\n"
      ],
      "text/markdown": [
       "\n",
       "A tibble: 6 × 11\n",
       "\n",
       "| Chrom &lt;chr&gt; | Start &lt;dbl&gt; | End &lt;dbl&gt; | Name &lt;chr&gt; | Score &lt;dbl&gt; | Strand &lt;chr&gt; | thickStart &lt;dbl&gt; | thickEnd &lt;dbl&gt; | itemRgb &lt;chr&gt; | Category &lt;chr&gt; | Note &lt;chr&gt; |\n",
       "|---|---|---|---|---|---|---|---|---|---|---|\n",
       "| chr1 | 10033 | 10250 | EH38E2776516 | 0 | . | 10033 | 10250 | 225,225,225 | Low-DNase | All-data/Full-classification |\n",
       "| chr1 | 10385 | 10713 | EH38E2776517 | 0 | . | 10385 | 10713 | 225,225,225 | Low-DNase | All-data/Full-classification |\n",
       "| chr1 | 16097 | 16381 | EH38E3951272 | 0 | . | 16097 | 16381 | 225,225,225 | Low-DNase | All-data/Full-classification |\n",
       "| chr1 | 17343 | 17642 | EH38E3951273 | 0 | . | 17343 | 17642 | 225,225,225 | Low-DNase | All-data/Full-classification |\n",
       "| chr1 | 29320 | 29517 | EH38E3951274 | 0 | . | 29320 | 29517 | 225,225,225 | Low-DNase | All-data/Full-classification |\n",
       "| chr1 | 66350 | 66509 | EH38E3951275 | 0 | . | 66350 | 66509 | 225,225,225 | Low-DNase | All-data/Full-classification |\n",
       "\n"
      ],
      "text/plain": [
       "  Chrom Start End   Name         Score Strand thickStart thickEnd itemRgb    \n",
       "1 chr1  10033 10250 EH38E2776516 0     .      10033      10250    225,225,225\n",
       "2 chr1  10385 10713 EH38E2776517 0     .      10385      10713    225,225,225\n",
       "3 chr1  16097 16381 EH38E3951272 0     .      16097      16381    225,225,225\n",
       "4 chr1  17343 17642 EH38E3951273 0     .      17343      17642    225,225,225\n",
       "5 chr1  29320 29517 EH38E3951274 0     .      29320      29517    225,225,225\n",
       "6 chr1  66350 66509 EH38E3951275 0     .      66350      66509    225,225,225\n",
       "  Category  Note                        \n",
       "1 Low-DNase All-data/Full-classification\n",
       "2 Low-DNase All-data/Full-classification\n",
       "3 Low-DNase All-data/Full-classification\n",
       "4 Low-DNase All-data/Full-classification\n",
       "5 Low-DNase All-data/Full-classification\n",
       "6 Low-DNase All-data/Full-classification"
      ]
     },
     "metadata": {},
     "output_type": "display_data"
    }
   ],
   "source": [
    "fdiry = file.path(FD_RES, \"source\", \"annotation_cCREs\")\n",
    "fname = \"K562.ENCSR913HQX.ENCFF286VQG.ccres.bed.gz\"\n",
    "fpath = file.path(fdiry, fname)\n",
    "\n",
    "cnames = c(\n",
    "    \"Chrom\", \"Start\", \"End\", \"Name\", \"Score\", \"Strand\", \n",
    "    \"thickStart\", \"thickEnd\", \"itemRgb\", \n",
    "    \"Category\", \"Note\")\n",
    "dat = read_tsv(fpath, col_names = cnames, show_col_types = FALSE)\n",
    "\n",
    "dat_ccre_v4 = dat\n",
    "print(dim(dat))\n",
    "head(dat)"
   ]
  },
  {
   "cell_type": "markdown",
   "metadata": {},
   "source": [
    "### ENCODE cCREs v4 Silencer (REST)"
   ]
  },
  {
   "cell_type": "code",
   "execution_count": 5,
   "metadata": {},
   "outputs": [
    {
     "name": "stdout",
     "output_type": "stream",
     "text": [
      "[1] 7821    6\n"
     ]
    },
    {
     "data": {
      "text/html": [
       "<table class=\"dataframe\">\n",
       "<caption>A tibble: 6 × 6</caption>\n",
       "<thead>\n",
       "\t<tr><th scope=col>Chr</th><th scope=col>Start</th><th scope=col>End</th><th scope=col>cCRE accession</th><th scope=col>cCRE class</th><th scope=col>Silencer class</th></tr>\n",
       "\t<tr><th scope=col>&lt;chr&gt;</th><th scope=col>&lt;dbl&gt;</th><th scope=col>&lt;dbl&gt;</th><th scope=col>&lt;chr&gt;</th><th scope=col>&lt;chr&gt;</th><th scope=col>&lt;chr&gt;</th></tr>\n",
       "</thead>\n",
       "<tbody>\n",
       "\t<tr><td>chr10</td><td>100680786</td><td>100681128</td><td>EH38E4018829</td><td>CA-H3K4me3</td><td>REST+ silencer</td></tr>\n",
       "\t<tr><td>chr10</td><td>101081011</td><td>101081271</td><td>EH38E4018984</td><td>CA-TF     </td><td>REST+ silencer</td></tr>\n",
       "\t<tr><td>chr10</td><td>102361781</td><td>102362038</td><td>EH38E4019348</td><td>CA-CTCF   </td><td>REST+ silencer</td></tr>\n",
       "\t<tr><td>chr10</td><td>103265839</td><td>103266036</td><td>EH38E1495742</td><td>CA-CTCF   </td><td>REST+ silencer</td></tr>\n",
       "\t<tr><td>chr10</td><td>104548071</td><td>104548416</td><td>EH38E4019821</td><td>CA-TF     </td><td>REST+ silencer</td></tr>\n",
       "\t<tr><td>chr10</td><td>104750418</td><td>104750581</td><td>EH38E4019865</td><td>CA-TF     </td><td>REST+ silencer</td></tr>\n",
       "</tbody>\n",
       "</table>\n"
      ],
      "text/latex": [
       "A tibble: 6 × 6\n",
       "\\begin{tabular}{llllll}\n",
       " Chr & Start & End & cCRE accession & cCRE class & Silencer class\\\\\n",
       " <chr> & <dbl> & <dbl> & <chr> & <chr> & <chr>\\\\\n",
       "\\hline\n",
       "\t chr10 & 100680786 & 100681128 & EH38E4018829 & CA-H3K4me3 & REST+ silencer\\\\\n",
       "\t chr10 & 101081011 & 101081271 & EH38E4018984 & CA-TF      & REST+ silencer\\\\\n",
       "\t chr10 & 102361781 & 102362038 & EH38E4019348 & CA-CTCF    & REST+ silencer\\\\\n",
       "\t chr10 & 103265839 & 103266036 & EH38E1495742 & CA-CTCF    & REST+ silencer\\\\\n",
       "\t chr10 & 104548071 & 104548416 & EH38E4019821 & CA-TF      & REST+ silencer\\\\\n",
       "\t chr10 & 104750418 & 104750581 & EH38E4019865 & CA-TF      & REST+ silencer\\\\\n",
       "\\end{tabular}\n"
      ],
      "text/markdown": [
       "\n",
       "A tibble: 6 × 6\n",
       "\n",
       "| Chr &lt;chr&gt; | Start &lt;dbl&gt; | End &lt;dbl&gt; | cCRE accession &lt;chr&gt; | cCRE class &lt;chr&gt; | Silencer class &lt;chr&gt; |\n",
       "|---|---|---|---|---|---|\n",
       "| chr10 | 100680786 | 100681128 | EH38E4018829 | CA-H3K4me3 | REST+ silencer |\n",
       "| chr10 | 101081011 | 101081271 | EH38E4018984 | CA-TF      | REST+ silencer |\n",
       "| chr10 | 102361781 | 102362038 | EH38E4019348 | CA-CTCF    | REST+ silencer |\n",
       "| chr10 | 103265839 | 103266036 | EH38E1495742 | CA-CTCF    | REST+ silencer |\n",
       "| chr10 | 104548071 | 104548416 | EH38E4019821 | CA-TF      | REST+ silencer |\n",
       "| chr10 | 104750418 | 104750581 | EH38E4019865 | CA-TF      | REST+ silencer |\n",
       "\n"
      ],
      "text/plain": [
       "  Chr   Start     End       cCRE accession cCRE class Silencer class\n",
       "1 chr10 100680786 100681128 EH38E4018829   CA-H3K4me3 REST+ silencer\n",
       "2 chr10 101081011 101081271 EH38E4018984   CA-TF      REST+ silencer\n",
       "3 chr10 102361781 102362038 EH38E4019348   CA-CTCF    REST+ silencer\n",
       "4 chr10 103265839 103266036 EH38E1495742   CA-CTCF    REST+ silencer\n",
       "5 chr10 104548071 104548416 EH38E4019821   CA-TF      REST+ silencer\n",
       "6 chr10 104750418 104750581 EH38E4019865   CA-TF      REST+ silencer"
      ]
     },
     "metadata": {},
     "output_type": "display_data"
    }
   ],
   "source": [
    "fdiry = file.path(FD_RES, \"source\", \"annotation_cCREs\")\n",
    "fname = \"ccres_v4.silencer.rest.tsv\"\n",
    "fpath = file.path(fdiry, fname)\n",
    "\n",
    "dat = read_tsv(fpath, comment = \"#\", show_col_types = FALSE)\n",
    "\n",
    "dat_ccre_v4_silencer_rest = dat\n",
    "print(dim(dat))\n",
    "head(dat)"
   ]
  },
  {
   "cell_type": "markdown",
   "metadata": {},
   "source": [
    "### ENCODE cCREs v4 Silencer (STARR)"
   ]
  },
  {
   "cell_type": "code",
   "execution_count": 6,
   "metadata": {},
   "outputs": [
    {
     "name": "stdout",
     "output_type": "stream",
     "text": [
      "[1] 5468    8\n"
     ]
    },
    {
     "data": {
      "text/html": [
       "<table class=\"dataframe\">\n",
       "<caption>A tibble: 6 × 8</caption>\n",
       "<thead>\n",
       "\t<tr><th scope=col>Chr</th><th scope=col>Start</th><th scope=col>End</th><th scope=col>cCRE accession</th><th scope=col>cCRE class</th><th scope=col>CAPRA quantification</th><th scope=col>P-value</th><th scope=col>Threshold</th></tr>\n",
       "\t<tr><th scope=col>&lt;chr&gt;</th><th scope=col>&lt;dbl&gt;</th><th scope=col>&lt;dbl&gt;</th><th scope=col>&lt;chr&gt;</th><th scope=col>&lt;chr&gt;</th><th scope=col>&lt;dbl&gt;</th><th scope=col>&lt;dbl&gt;</th><th scope=col>&lt;chr&gt;</th></tr>\n",
       "</thead>\n",
       "<tbody>\n",
       "\t<tr><td>chr13</td><td> 22970420</td><td> 22970595</td><td>EH38E4082602</td><td>CA  </td><td>-2.7481</td><td>1.15e-09</td><td>Stringent</td></tr>\n",
       "\t<tr><td>chr1 </td><td>  9356890</td><td>  9357240</td><td>EH38E3954005</td><td>TF  </td><td>-2.3927</td><td>8.63e-07</td><td>Stringent</td></tr>\n",
       "\t<tr><td>chr14</td><td> 92678182</td><td> 92678371</td><td>EH38E4113580</td><td>TF  </td><td>-2.3075</td><td>5.20e-06</td><td>Stringent</td></tr>\n",
       "\t<tr><td>chr6 </td><td>131563578</td><td>131563769</td><td>EH38E4417327</td><td>CA  </td><td>-2.3047</td><td>5.71e-06</td><td>Stringent</td></tr>\n",
       "\t<tr><td>chr9 </td><td> 75977404</td><td> 75977605</td><td>EH38E3886686</td><td>dELS</td><td>-2.2951</td><td>6.58e-06</td><td>Stringent</td></tr>\n",
       "\t<tr><td>chr16</td><td> 26844012</td><td> 26844260</td><td>EH38E4140223</td><td>CA  </td><td>-2.2464</td><td>1.03e-05</td><td>Stringent</td></tr>\n",
       "</tbody>\n",
       "</table>\n"
      ],
      "text/latex": [
       "A tibble: 6 × 8\n",
       "\\begin{tabular}{llllllll}\n",
       " Chr & Start & End & cCRE accession & cCRE class & CAPRA quantification & P-value & Threshold\\\\\n",
       " <chr> & <dbl> & <dbl> & <chr> & <chr> & <dbl> & <dbl> & <chr>\\\\\n",
       "\\hline\n",
       "\t chr13 &  22970420 &  22970595 & EH38E4082602 & CA   & -2.7481 & 1.15e-09 & Stringent\\\\\n",
       "\t chr1  &   9356890 &   9357240 & EH38E3954005 & TF   & -2.3927 & 8.63e-07 & Stringent\\\\\n",
       "\t chr14 &  92678182 &  92678371 & EH38E4113580 & TF   & -2.3075 & 5.20e-06 & Stringent\\\\\n",
       "\t chr6  & 131563578 & 131563769 & EH38E4417327 & CA   & -2.3047 & 5.71e-06 & Stringent\\\\\n",
       "\t chr9  &  75977404 &  75977605 & EH38E3886686 & dELS & -2.2951 & 6.58e-06 & Stringent\\\\\n",
       "\t chr16 &  26844012 &  26844260 & EH38E4140223 & CA   & -2.2464 & 1.03e-05 & Stringent\\\\\n",
       "\\end{tabular}\n"
      ],
      "text/markdown": [
       "\n",
       "A tibble: 6 × 8\n",
       "\n",
       "| Chr &lt;chr&gt; | Start &lt;dbl&gt; | End &lt;dbl&gt; | cCRE accession &lt;chr&gt; | cCRE class &lt;chr&gt; | CAPRA quantification &lt;dbl&gt; | P-value &lt;dbl&gt; | Threshold &lt;chr&gt; |\n",
       "|---|---|---|---|---|---|---|---|\n",
       "| chr13 |  22970420 |  22970595 | EH38E4082602 | CA   | -2.7481 | 1.15e-09 | Stringent |\n",
       "| chr1  |   9356890 |   9357240 | EH38E3954005 | TF   | -2.3927 | 8.63e-07 | Stringent |\n",
       "| chr14 |  92678182 |  92678371 | EH38E4113580 | TF   | -2.3075 | 5.20e-06 | Stringent |\n",
       "| chr6  | 131563578 | 131563769 | EH38E4417327 | CA   | -2.3047 | 5.71e-06 | Stringent |\n",
       "| chr9  |  75977404 |  75977605 | EH38E3886686 | dELS | -2.2951 | 6.58e-06 | Stringent |\n",
       "| chr16 |  26844012 |  26844260 | EH38E4140223 | CA   | -2.2464 | 1.03e-05 | Stringent |\n",
       "\n"
      ],
      "text/plain": [
       "  Chr   Start     End       cCRE accession cCRE class CAPRA quantification\n",
       "1 chr13  22970420  22970595 EH38E4082602   CA         -2.7481             \n",
       "2 chr1    9356890   9357240 EH38E3954005   TF         -2.3927             \n",
       "3 chr14  92678182  92678371 EH38E4113580   TF         -2.3075             \n",
       "4 chr6  131563578 131563769 EH38E4417327   CA         -2.3047             \n",
       "5 chr9   75977404  75977605 EH38E3886686   dELS       -2.2951             \n",
       "6 chr16  26844012  26844260 EH38E4140223   CA         -2.2464             \n",
       "  P-value  Threshold\n",
       "1 1.15e-09 Stringent\n",
       "2 8.63e-07 Stringent\n",
       "3 5.20e-06 Stringent\n",
       "4 5.71e-06 Stringent\n",
       "5 6.58e-06 Stringent\n",
       "6 1.03e-05 Stringent"
      ]
     },
     "metadata": {},
     "output_type": "display_data"
    }
   ],
   "source": [
    "fdiry = file.path(FD_RES, \"source\", \"annotation_cCREs\")\n",
    "fname = \"ccres_v4.silencer.starr.tsv\"\n",
    "fpath = file.path(fdiry, fname)\n",
    "\n",
    "dat = read_tsv(fpath, comment = \"#\", show_col_types = FALSE)\n",
    "\n",
    "dat_ccre_v4_silencer_starr = dat\n",
    "print(dim(dat))\n",
    "head(dat)"
   ]
  },
  {
   "cell_type": "markdown",
   "metadata": {},
   "source": [
    "**Check**"
   ]
  },
  {
   "cell_type": "code",
   "execution_count": 7,
   "metadata": {},
   "outputs": [
    {
     "name": "stdout",
     "output_type": "stream",
     "text": [
      "[1] TRUE\n",
      "[1] TRUE\n"
     ]
    }
   ],
   "source": [
    "dat = dat_ccre_v3\n",
    "print(all(dat$Start == dat$thickStart))\n",
    "print(all(dat$End   == dat$thickEnd))"
   ]
  },
  {
   "cell_type": "code",
   "execution_count": 8,
   "metadata": {},
   "outputs": [
    {
     "name": "stdout",
     "output_type": "stream",
     "text": [
      "[1] TRUE\n",
      "[1] TRUE\n"
     ]
    }
   ],
   "source": [
    "dat = dat_ccre_v4\n",
    "print(all(dat$Start == dat$thickStart))\n",
    "print(all(dat$End   == dat$thickEnd))"
   ]
  },
  {
   "cell_type": "markdown",
   "metadata": {},
   "source": [
    "## Question: What are the categories/labels in cCREs"
   ]
  },
  {
   "cell_type": "code",
   "execution_count": 9,
   "metadata": {},
   "outputs": [
    {
     "name": "stdout",
     "output_type": "stream",
     "text": [
      "vec\n",
      "    CTCF-only,CTCF-bound                     dELS          dELS,CTCF-bound \n",
      "                   13353                    16829                     2703 \n",
      "           DNase-H3K4me3 DNase-H3K4me3,CTCF-bound               DNase-only \n",
      "                    4766                     2056                     8235 \n",
      "               Low-DNase                     pELS          pELS,CTCF-bound \n",
      "                  830150                    26005                     4570 \n",
      "                     PLS           PLS,CTCF-bound \n",
      "                   14412                     3456 \n"
     ]
    }
   ],
   "source": [
    "dat = dat_ccre_v3\n",
    "vec = dat$Category\n",
    "res = table(vec)\n",
    "print(res)"
   ]
  },
  {
   "cell_type": "code",
   "execution_count": 10,
   "metadata": {},
   "outputs": [
    {
     "name": "stdout",
     "output_type": "stream",
     "text": [
      "vec\n",
      "   CA-CTCF CA-H3K4me3    CA-only      CA-TF       dELS  Low-DNase       pELS \n",
      "     28271       5861       2958      38859      35488    2175563      41813 \n",
      "       PLS \n",
      "     20041 \n"
     ]
    }
   ],
   "source": [
    "dat = dat_ccre_v4\n",
    "vec = dat$Category\n",
    "res = table(vec)\n",
    "print(res)"
   ]
  },
  {
   "cell_type": "code",
   "execution_count": 12,
   "metadata": {},
   "outputs": [
    {
     "name": "stdout",
     "output_type": "stream",
     "text": [
      "vec\n",
      "        CA    CA-CTCF CA-H3K4me3      CA-TF       dELS       pELS        PLS \n",
      "         1        625        232        789       2516       1080       1971 \n",
      "        TF \n",
      "       607 \n"
     ]
    }
   ],
   "source": [
    "dat = dat_ccre_v4_silencer_rest\n",
    "vec = dat$`cCRE class`\n",
    "res = table(vec)\n",
    "print(res)"
   ]
  },
  {
   "cell_type": "code",
   "execution_count": 11,
   "metadata": {},
   "outputs": [
    {
     "name": "stdout",
     "output_type": "stream",
     "text": [
      "vec\n",
      "REST+ enhancer/silencer      REST+ Non-silencer          REST+ silencer \n",
      "                   2516                    3051                    2254 \n"
     ]
    }
   ],
   "source": [
    "dat = dat_ccre_v4_silencer_rest\n",
    "vec = dat$`Silencer class`\n",
    "res = table(vec)\n",
    "print(res)"
   ]
  },
  {
   "cell_type": "code",
   "execution_count": 12,
   "metadata": {},
   "outputs": [
    {
     "name": "stdout",
     "output_type": "stream",
     "text": [
      "vec\n",
      "        CA    CA-CTCF CA-H3K4me3      CA-TF       dELS       pELS        PLS \n",
      "       697        509        290        157       2976        351         41 \n",
      "        TF \n",
      "       447 \n"
     ]
    }
   ],
   "source": [
    "dat = dat_ccre_v4_silencer_starr\n",
    "vec = dat$`cCRE class`\n",
    "res = table(vec)\n",
    "print(res)"
   ]
  },
  {
   "cell_type": "code",
   "execution_count": 13,
   "metadata": {},
   "outputs": [
    {
     "name": "stdout",
     "output_type": "stream",
     "text": [
      "vec\n",
      "   Robust Stringent \n",
      "     4919       549 \n"
     ]
    }
   ],
   "source": [
    "dat = dat_ccre_v4_silencer_starr\n",
    "vec = dat$Threshold\n",
    "res = table(vec)\n",
    "print(res)"
   ]
  },
  {
   "cell_type": "markdown",
   "metadata": {},
   "source": [
    "## Explore: Count categories/labels in cCREs"
   ]
  },
  {
   "cell_type": "markdown",
   "metadata": {},
   "source": [
    "**cCREs (V3)**"
   ]
  },
  {
   "cell_type": "code",
   "execution_count": 16,
   "metadata": {},
   "outputs": [
    {
     "data": {
      "text/html": [
       "<table class=\"dataframe\">\n",
       "<caption>A data.frame: 11 × 2</caption>\n",
       "<thead>\n",
       "\t<tr><th scope=col>Category</th><th scope=col>Count</th></tr>\n",
       "\t<tr><th scope=col>&lt;fct&gt;</th><th scope=col>&lt;int&gt;</th></tr>\n",
       "</thead>\n",
       "<tbody>\n",
       "\t<tr><td>DNase-H3K4me3,CTCF-bound</td><td>  2056</td></tr>\n",
       "\t<tr><td>dELS,CTCF-bound         </td><td>  2703</td></tr>\n",
       "\t<tr><td>PLS,CTCF-bound          </td><td>  3456</td></tr>\n",
       "\t<tr><td>pELS,CTCF-bound         </td><td>  4570</td></tr>\n",
       "\t<tr><td>DNase-H3K4me3           </td><td>  4766</td></tr>\n",
       "\t<tr><td>DNase-only              </td><td>  8235</td></tr>\n",
       "\t<tr><td>CTCF-only,CTCF-bound    </td><td> 13353</td></tr>\n",
       "\t<tr><td>PLS                     </td><td> 14412</td></tr>\n",
       "\t<tr><td>dELS                    </td><td> 16829</td></tr>\n",
       "\t<tr><td>pELS                    </td><td> 26005</td></tr>\n",
       "\t<tr><td>Low-DNase               </td><td>830150</td></tr>\n",
       "</tbody>\n",
       "</table>\n"
      ],
      "text/latex": [
       "A data.frame: 11 × 2\n",
       "\\begin{tabular}{ll}\n",
       " Category & Count\\\\\n",
       " <fct> & <int>\\\\\n",
       "\\hline\n",
       "\t DNase-H3K4me3,CTCF-bound &   2056\\\\\n",
       "\t dELS,CTCF-bound          &   2703\\\\\n",
       "\t PLS,CTCF-bound           &   3456\\\\\n",
       "\t pELS,CTCF-bound          &   4570\\\\\n",
       "\t DNase-H3K4me3            &   4766\\\\\n",
       "\t DNase-only               &   8235\\\\\n",
       "\t CTCF-only,CTCF-bound     &  13353\\\\\n",
       "\t PLS                      &  14412\\\\\n",
       "\t dELS                     &  16829\\\\\n",
       "\t pELS                     &  26005\\\\\n",
       "\t Low-DNase                & 830150\\\\\n",
       "\\end{tabular}\n"
      ],
      "text/markdown": [
       "\n",
       "A data.frame: 11 × 2\n",
       "\n",
       "| Category &lt;fct&gt; | Count &lt;int&gt; |\n",
       "|---|---|\n",
       "| DNase-H3K4me3,CTCF-bound |   2056 |\n",
       "| dELS,CTCF-bound          |   2703 |\n",
       "| PLS,CTCF-bound           |   3456 |\n",
       "| pELS,CTCF-bound          |   4570 |\n",
       "| DNase-H3K4me3            |   4766 |\n",
       "| DNase-only               |   8235 |\n",
       "| CTCF-only,CTCF-bound     |  13353 |\n",
       "| PLS                      |  14412 |\n",
       "| dELS                     |  16829 |\n",
       "| pELS                     |  26005 |\n",
       "| Low-DNase                | 830150 |\n",
       "\n"
      ],
      "text/plain": [
       "   Category                 Count \n",
       "1  DNase-H3K4me3,CTCF-bound   2056\n",
       "2  dELS,CTCF-bound            2703\n",
       "3  PLS,CTCF-bound             3456\n",
       "4  pELS,CTCF-bound            4570\n",
       "5  DNase-H3K4me3              4766\n",
       "6  DNase-only                 8235\n",
       "7  CTCF-only,CTCF-bound      13353\n",
       "8  PLS                       14412\n",
       "9  dELS                      16829\n",
       "10 pELS                      26005\n",
       "11 Low-DNase                830150"
      ]
     },
     "metadata": {},
     "output_type": "display_data"
    }
   ],
   "source": [
    "dat = dat_ccre_v3\n",
    "res = table(dat$Category)\n",
    "dat = res %>% as.data.frame %>% dplyr::arrange(Freq)\n",
    "colnames(dat) = c(\"Category\", \"Count\")\n",
    "dat"
   ]
  },
  {
   "cell_type": "markdown",
   "metadata": {},
   "source": [
    "**cCREs (V4)**"
   ]
  },
  {
   "cell_type": "code",
   "execution_count": 17,
   "metadata": {},
   "outputs": [
    {
     "data": {
      "text/html": [
       "<table class=\"dataframe\">\n",
       "<caption>A data.frame: 8 × 2</caption>\n",
       "<thead>\n",
       "\t<tr><th scope=col>Category</th><th scope=col>Count</th></tr>\n",
       "\t<tr><th scope=col>&lt;fct&gt;</th><th scope=col>&lt;int&gt;</th></tr>\n",
       "</thead>\n",
       "<tbody>\n",
       "\t<tr><td>CA-only   </td><td>   2958</td></tr>\n",
       "\t<tr><td>CA-H3K4me3</td><td>   5861</td></tr>\n",
       "\t<tr><td>PLS       </td><td>  20041</td></tr>\n",
       "\t<tr><td>CA-CTCF   </td><td>  28271</td></tr>\n",
       "\t<tr><td>dELS      </td><td>  35488</td></tr>\n",
       "\t<tr><td>CA-TF     </td><td>  38859</td></tr>\n",
       "\t<tr><td>pELS      </td><td>  41813</td></tr>\n",
       "\t<tr><td>Low-DNase </td><td>2175563</td></tr>\n",
       "</tbody>\n",
       "</table>\n"
      ],
      "text/latex": [
       "A data.frame: 8 × 2\n",
       "\\begin{tabular}{ll}\n",
       " Category & Count\\\\\n",
       " <fct> & <int>\\\\\n",
       "\\hline\n",
       "\t CA-only    &    2958\\\\\n",
       "\t CA-H3K4me3 &    5861\\\\\n",
       "\t PLS        &   20041\\\\\n",
       "\t CA-CTCF    &   28271\\\\\n",
       "\t dELS       &   35488\\\\\n",
       "\t CA-TF      &   38859\\\\\n",
       "\t pELS       &   41813\\\\\n",
       "\t Low-DNase  & 2175563\\\\\n",
       "\\end{tabular}\n"
      ],
      "text/markdown": [
       "\n",
       "A data.frame: 8 × 2\n",
       "\n",
       "| Category &lt;fct&gt; | Count &lt;int&gt; |\n",
       "|---|---|\n",
       "| CA-only    |    2958 |\n",
       "| CA-H3K4me3 |    5861 |\n",
       "| PLS        |   20041 |\n",
       "| CA-CTCF    |   28271 |\n",
       "| dELS       |   35488 |\n",
       "| CA-TF      |   38859 |\n",
       "| pELS       |   41813 |\n",
       "| Low-DNase  | 2175563 |\n",
       "\n"
      ],
      "text/plain": [
       "  Category   Count  \n",
       "1 CA-only       2958\n",
       "2 CA-H3K4me3    5861\n",
       "3 PLS          20041\n",
       "4 CA-CTCF      28271\n",
       "5 dELS         35488\n",
       "6 CA-TF        38859\n",
       "7 pELS         41813\n",
       "8 Low-DNase  2175563"
      ]
     },
     "metadata": {},
     "output_type": "display_data"
    }
   ],
   "source": [
    "dat = dat_ccre_v4\n",
    "res = table(dat$Category)\n",
    "dat = res %>% as.data.frame %>% dplyr::arrange(Freq)\n",
    "colnames(dat) = c(\"Category\", \"Count\")\n",
    "dat"
   ]
  },
  {
   "cell_type": "markdown",
   "metadata": {},
   "source": [
    "**cCREs (V4; REST+ Silencer)**"
   ]
  },
  {
   "cell_type": "code",
   "execution_count": 18,
   "metadata": {},
   "outputs": [
    {
     "data": {
      "text/html": [
       "<table class=\"dataframe\">\n",
       "<caption>A tibble: 8 × 3</caption>\n",
       "<thead>\n",
       "\t<tr><th scope=col>cCRE class</th><th scope=col>Silencer class</th><th scope=col>Count</th></tr>\n",
       "\t<tr><th scope=col>&lt;chr&gt;</th><th scope=col>&lt;chr&gt;</th><th scope=col>&lt;int&gt;</th></tr>\n",
       "</thead>\n",
       "<tbody>\n",
       "\t<tr><td>CA        </td><td>REST+ silencer         </td><td>   1</td></tr>\n",
       "\t<tr><td>CA-CTCF   </td><td>REST+ silencer         </td><td> 625</td></tr>\n",
       "\t<tr><td>CA-H3K4me3</td><td>REST+ silencer         </td><td> 232</td></tr>\n",
       "\t<tr><td>CA-TF     </td><td>REST+ silencer         </td><td> 789</td></tr>\n",
       "\t<tr><td>PLS       </td><td>REST+ Non-silencer     </td><td>1971</td></tr>\n",
       "\t<tr><td>TF        </td><td>REST+ silencer         </td><td> 607</td></tr>\n",
       "\t<tr><td>dELS      </td><td>REST+ enhancer/silencer</td><td>2516</td></tr>\n",
       "\t<tr><td>pELS      </td><td>REST+ Non-silencer     </td><td>1080</td></tr>\n",
       "</tbody>\n",
       "</table>\n"
      ],
      "text/latex": [
       "A tibble: 8 × 3\n",
       "\\begin{tabular}{lll}\n",
       " cCRE class & Silencer class & Count\\\\\n",
       " <chr> & <chr> & <int>\\\\\n",
       "\\hline\n",
       "\t CA         & REST+ silencer          &    1\\\\\n",
       "\t CA-CTCF    & REST+ silencer          &  625\\\\\n",
       "\t CA-H3K4me3 & REST+ silencer          &  232\\\\\n",
       "\t CA-TF      & REST+ silencer          &  789\\\\\n",
       "\t PLS        & REST+ Non-silencer      & 1971\\\\\n",
       "\t TF         & REST+ silencer          &  607\\\\\n",
       "\t dELS       & REST+ enhancer/silencer & 2516\\\\\n",
       "\t pELS       & REST+ Non-silencer      & 1080\\\\\n",
       "\\end{tabular}\n"
      ],
      "text/markdown": [
       "\n",
       "A tibble: 8 × 3\n",
       "\n",
       "| cCRE class &lt;chr&gt; | Silencer class &lt;chr&gt; | Count &lt;int&gt; |\n",
       "|---|---|---|\n",
       "| CA         | REST+ silencer          |    1 |\n",
       "| CA-CTCF    | REST+ silencer          |  625 |\n",
       "| CA-H3K4me3 | REST+ silencer          |  232 |\n",
       "| CA-TF      | REST+ silencer          |  789 |\n",
       "| PLS        | REST+ Non-silencer      | 1971 |\n",
       "| TF         | REST+ silencer          |  607 |\n",
       "| dELS       | REST+ enhancer/silencer | 2516 |\n",
       "| pELS       | REST+ Non-silencer      | 1080 |\n",
       "\n"
      ],
      "text/plain": [
       "  cCRE class Silencer class          Count\n",
       "1 CA         REST+ silencer             1 \n",
       "2 CA-CTCF    REST+ silencer           625 \n",
       "3 CA-H3K4me3 REST+ silencer           232 \n",
       "4 CA-TF      REST+ silencer           789 \n",
       "5 PLS        REST+ Non-silencer      1971 \n",
       "6 TF         REST+ silencer           607 \n",
       "7 dELS       REST+ enhancer/silencer 2516 \n",
       "8 pELS       REST+ Non-silencer      1080 "
      ]
     },
     "metadata": {},
     "output_type": "display_data"
    }
   ],
   "source": [
    "dat = dat_ccre_v4_silencer_rest\n",
    "dat = dat %>% \n",
    "    dplyr::group_by(`cCRE class`,`Silencer class`) %>% \n",
    "    dplyr::summarise(Count = n(), .groups='drop')\n",
    "dat"
   ]
  },
  {
   "cell_type": "code",
   "execution_count": 19,
   "metadata": {},
   "outputs": [
    {
     "data": {
      "text/html": [
       "<table class=\"dataframe\">\n",
       "<caption>A spec_tbl_df: 1 × 6</caption>\n",
       "<thead>\n",
       "\t<tr><th scope=col>Chr</th><th scope=col>Start</th><th scope=col>End</th><th scope=col>cCRE accession</th><th scope=col>cCRE class</th><th scope=col>Silencer class</th></tr>\n",
       "\t<tr><th scope=col>&lt;chr&gt;</th><th scope=col>&lt;dbl&gt;</th><th scope=col>&lt;dbl&gt;</th><th scope=col>&lt;chr&gt;</th><th scope=col>&lt;chr&gt;</th><th scope=col>&lt;chr&gt;</th></tr>\n",
       "</thead>\n",
       "<tbody>\n",
       "\t<tr><td>chr9</td><td>131804101</td><td>131804284</td><td>EH38E4509159</td><td>CA</td><td>REST+ silencer</td></tr>\n",
       "</tbody>\n",
       "</table>\n"
      ],
      "text/latex": [
       "A spec\\_tbl\\_df: 1 × 6\n",
       "\\begin{tabular}{llllll}\n",
       " Chr & Start & End & cCRE accession & cCRE class & Silencer class\\\\\n",
       " <chr> & <dbl> & <dbl> & <chr> & <chr> & <chr>\\\\\n",
       "\\hline\n",
       "\t chr9 & 131804101 & 131804284 & EH38E4509159 & CA & REST+ silencer\\\\\n",
       "\\end{tabular}\n"
      ],
      "text/markdown": [
       "\n",
       "A spec_tbl_df: 1 × 6\n",
       "\n",
       "| Chr &lt;chr&gt; | Start &lt;dbl&gt; | End &lt;dbl&gt; | cCRE accession &lt;chr&gt; | cCRE class &lt;chr&gt; | Silencer class &lt;chr&gt; |\n",
       "|---|---|---|---|---|---|\n",
       "| chr9 | 131804101 | 131804284 | EH38E4509159 | CA | REST+ silencer |\n",
       "\n"
      ],
      "text/plain": [
       "  Chr  Start     End       cCRE accession cCRE class Silencer class\n",
       "1 chr9 131804101 131804284 EH38E4509159   CA         REST+ silencer"
      ]
     },
     "metadata": {},
     "output_type": "display_data"
    }
   ],
   "source": [
    "### question: what is that CA in REST+ silencer?\n",
    "dat = dat_ccre_v4_silencer_rest\n",
    "dat = dat %>% dplyr::filter(`cCRE class` == \"CA\")\n",
    "dat"
   ]
  },
  {
   "cell_type": "code",
   "execution_count": 20,
   "metadata": {},
   "outputs": [
    {
     "data": {
      "text/html": [
       "<table class=\"dataframe\">\n",
       "<caption>A spec_tbl_df: 1 × 11</caption>\n",
       "<thead>\n",
       "\t<tr><th scope=col>Chrom</th><th scope=col>Start</th><th scope=col>End</th><th scope=col>Name</th><th scope=col>Score</th><th scope=col>Strand</th><th scope=col>thickStart</th><th scope=col>thickEnd</th><th scope=col>itemRgb</th><th scope=col>Category</th><th scope=col>Note</th></tr>\n",
       "\t<tr><th scope=col>&lt;chr&gt;</th><th scope=col>&lt;dbl&gt;</th><th scope=col>&lt;dbl&gt;</th><th scope=col>&lt;chr&gt;</th><th scope=col>&lt;dbl&gt;</th><th scope=col>&lt;chr&gt;</th><th scope=col>&lt;dbl&gt;</th><th scope=col>&lt;dbl&gt;</th><th scope=col>&lt;chr&gt;</th><th scope=col>&lt;chr&gt;</th><th scope=col>&lt;chr&gt;</th></tr>\n",
       "</thead>\n",
       "<tbody>\n",
       "\t<tr><td>chr9</td><td>131804101</td><td>131804284</td><td>EH38E4509159</td><td>0</td><td>.</td><td>131804101</td><td>131804284</td><td>225,225,225</td><td>Low-DNase</td><td>All-data/Full-classification</td></tr>\n",
       "</tbody>\n",
       "</table>\n"
      ],
      "text/latex": [
       "A spec\\_tbl\\_df: 1 × 11\n",
       "\\begin{tabular}{lllllllllll}\n",
       " Chrom & Start & End & Name & Score & Strand & thickStart & thickEnd & itemRgb & Category & Note\\\\\n",
       " <chr> & <dbl> & <dbl> & <chr> & <dbl> & <chr> & <dbl> & <dbl> & <chr> & <chr> & <chr>\\\\\n",
       "\\hline\n",
       "\t chr9 & 131804101 & 131804284 & EH38E4509159 & 0 & . & 131804101 & 131804284 & 225,225,225 & Low-DNase & All-data/Full-classification\\\\\n",
       "\\end{tabular}\n"
      ],
      "text/markdown": [
       "\n",
       "A spec_tbl_df: 1 × 11\n",
       "\n",
       "| Chrom &lt;chr&gt; | Start &lt;dbl&gt; | End &lt;dbl&gt; | Name &lt;chr&gt; | Score &lt;dbl&gt; | Strand &lt;chr&gt; | thickStart &lt;dbl&gt; | thickEnd &lt;dbl&gt; | itemRgb &lt;chr&gt; | Category &lt;chr&gt; | Note &lt;chr&gt; |\n",
       "|---|---|---|---|---|---|---|---|---|---|---|\n",
       "| chr9 | 131804101 | 131804284 | EH38E4509159 | 0 | . | 131804101 | 131804284 | 225,225,225 | Low-DNase | All-data/Full-classification |\n",
       "\n"
      ],
      "text/plain": [
       "  Chrom Start     End       Name         Score Strand thickStart thickEnd \n",
       "1 chr9  131804101 131804284 EH38E4509159 0     .      131804101  131804284\n",
       "  itemRgb     Category  Note                        \n",
       "1 225,225,225 Low-DNase All-data/Full-classification"
      ]
     },
     "metadata": {},
     "output_type": "display_data"
    }
   ],
   "source": [
    "dat = dat_ccre_v4\n",
    "dat = dat %>% dplyr::filter(Name == \"EH38E4509159\")\n",
    "dat"
   ]
  },
  {
   "cell_type": "markdown",
   "metadata": {},
   "source": [
    "**cCREs (V4; STARR Silencer)**"
   ]
  },
  {
   "cell_type": "code",
   "execution_count": 21,
   "metadata": {},
   "outputs": [
    {
     "data": {
      "text/html": [
       "<table class=\"dataframe\">\n",
       "<caption>A tibble: 8 × 3</caption>\n",
       "<thead>\n",
       "\t<tr><th scope=col>cCRE class</th><th scope=col>Threshold = Robust</th><th scope=col>Threshold = Stringent</th></tr>\n",
       "\t<tr><th scope=col>&lt;chr&gt;</th><th scope=col>&lt;int&gt;</th><th scope=col>&lt;int&gt;</th></tr>\n",
       "</thead>\n",
       "<tbody>\n",
       "\t<tr><td>CA        </td><td> 628</td><td> 69</td></tr>\n",
       "\t<tr><td>CA-CTCF   </td><td> 448</td><td> 61</td></tr>\n",
       "\t<tr><td>CA-H3K4me3</td><td> 257</td><td> 33</td></tr>\n",
       "\t<tr><td>CA-TF     </td><td> 133</td><td> 24</td></tr>\n",
       "\t<tr><td>dELS      </td><td>2710</td><td>266</td></tr>\n",
       "\t<tr><td>pELS      </td><td> 318</td><td> 33</td></tr>\n",
       "\t<tr><td>PLS       </td><td>  35</td><td>  6</td></tr>\n",
       "\t<tr><td>TF        </td><td> 390</td><td> 57</td></tr>\n",
       "</tbody>\n",
       "</table>\n"
      ],
      "text/latex": [
       "A tibble: 8 × 3\n",
       "\\begin{tabular}{lll}\n",
       " cCRE class & Threshold = Robust & Threshold = Stringent\\\\\n",
       " <chr> & <int> & <int>\\\\\n",
       "\\hline\n",
       "\t CA         &  628 &  69\\\\\n",
       "\t CA-CTCF    &  448 &  61\\\\\n",
       "\t CA-H3K4me3 &  257 &  33\\\\\n",
       "\t CA-TF      &  133 &  24\\\\\n",
       "\t dELS       & 2710 & 266\\\\\n",
       "\t pELS       &  318 &  33\\\\\n",
       "\t PLS        &   35 &   6\\\\\n",
       "\t TF         &  390 &  57\\\\\n",
       "\\end{tabular}\n"
      ],
      "text/markdown": [
       "\n",
       "A tibble: 8 × 3\n",
       "\n",
       "| cCRE class &lt;chr&gt; | Threshold = Robust &lt;int&gt; | Threshold = Stringent &lt;int&gt; |\n",
       "|---|---|---|\n",
       "| CA         |  628 |  69 |\n",
       "| CA-CTCF    |  448 |  61 |\n",
       "| CA-H3K4me3 |  257 |  33 |\n",
       "| CA-TF      |  133 |  24 |\n",
       "| dELS       | 2710 | 266 |\n",
       "| pELS       |  318 |  33 |\n",
       "| PLS        |   35 |   6 |\n",
       "| TF         |  390 |  57 |\n",
       "\n"
      ],
      "text/plain": [
       "  cCRE class Threshold = Robust Threshold = Stringent\n",
       "1 CA          628                69                  \n",
       "2 CA-CTCF     448                61                  \n",
       "3 CA-H3K4me3  257                33                  \n",
       "4 CA-TF       133                24                  \n",
       "5 dELS       2710               266                  \n",
       "6 pELS        318                33                  \n",
       "7 PLS          35                 6                  \n",
       "8 TF          390                57                  "
      ]
     },
     "metadata": {},
     "output_type": "display_data"
    }
   ],
   "source": [
    "dat = dat_ccre_v4_silencer_starr\n",
    "dat = dat %>% \n",
    "    dplyr::mutate(Threshold = paste0(\"Threshold = \", Threshold)) %>%\n",
    "    dplyr::group_by(`cCRE class`, Threshold) %>% \n",
    "    dplyr::summarise(Count = n(), .groups='drop') %>%\n",
    "    tidyr::spread(Threshold, Count)\n",
    "dat"
   ]
  },
  {
   "cell_type": "markdown",
   "metadata": {},
   "source": [
    "## Question: Are silencers a subset of cCREs"
   ]
  },
  {
   "cell_type": "markdown",
   "metadata": {},
   "source": [
    "**Check**"
   ]
  },
  {
   "cell_type": "code",
   "execution_count": 22,
   "metadata": {},
   "outputs": [
    {
     "data": {
      "text/html": [
       "<table class=\"dataframe\">\n",
       "<caption>A tibble: 3 × 11</caption>\n",
       "<thead>\n",
       "\t<tr><th scope=col>Chrom</th><th scope=col>Start</th><th scope=col>End</th><th scope=col>Name</th><th scope=col>Score</th><th scope=col>Strand</th><th scope=col>thickStart</th><th scope=col>thickEnd</th><th scope=col>itemRgb</th><th scope=col>Category</th><th scope=col>Note</th></tr>\n",
       "\t<tr><th scope=col>&lt;chr&gt;</th><th scope=col>&lt;dbl&gt;</th><th scope=col>&lt;dbl&gt;</th><th scope=col>&lt;chr&gt;</th><th scope=col>&lt;dbl&gt;</th><th scope=col>&lt;chr&gt;</th><th scope=col>&lt;dbl&gt;</th><th scope=col>&lt;dbl&gt;</th><th scope=col>&lt;chr&gt;</th><th scope=col>&lt;chr&gt;</th><th scope=col>&lt;chr&gt;</th></tr>\n",
       "</thead>\n",
       "<tbody>\n",
       "\t<tr><td>chr1</td><td>10033</td><td>10250</td><td>EH38E2776516</td><td>0</td><td>.</td><td>10033</td><td>10250</td><td>225,225,225</td><td>Low-DNase</td><td>All-data/Full-classification</td></tr>\n",
       "\t<tr><td>chr1</td><td>10385</td><td>10713</td><td>EH38E2776517</td><td>0</td><td>.</td><td>10385</td><td>10713</td><td>225,225,225</td><td>Low-DNase</td><td>All-data/Full-classification</td></tr>\n",
       "\t<tr><td>chr1</td><td>16097</td><td>16381</td><td>EH38E3951272</td><td>0</td><td>.</td><td>16097</td><td>16381</td><td>225,225,225</td><td>Low-DNase</td><td>All-data/Full-classification</td></tr>\n",
       "</tbody>\n",
       "</table>\n"
      ],
      "text/latex": [
       "A tibble: 3 × 11\n",
       "\\begin{tabular}{lllllllllll}\n",
       " Chrom & Start & End & Name & Score & Strand & thickStart & thickEnd & itemRgb & Category & Note\\\\\n",
       " <chr> & <dbl> & <dbl> & <chr> & <dbl> & <chr> & <dbl> & <dbl> & <chr> & <chr> & <chr>\\\\\n",
       "\\hline\n",
       "\t chr1 & 10033 & 10250 & EH38E2776516 & 0 & . & 10033 & 10250 & 225,225,225 & Low-DNase & All-data/Full-classification\\\\\n",
       "\t chr1 & 10385 & 10713 & EH38E2776517 & 0 & . & 10385 & 10713 & 225,225,225 & Low-DNase & All-data/Full-classification\\\\\n",
       "\t chr1 & 16097 & 16381 & EH38E3951272 & 0 & . & 16097 & 16381 & 225,225,225 & Low-DNase & All-data/Full-classification\\\\\n",
       "\\end{tabular}\n"
      ],
      "text/markdown": [
       "\n",
       "A tibble: 3 × 11\n",
       "\n",
       "| Chrom &lt;chr&gt; | Start &lt;dbl&gt; | End &lt;dbl&gt; | Name &lt;chr&gt; | Score &lt;dbl&gt; | Strand &lt;chr&gt; | thickStart &lt;dbl&gt; | thickEnd &lt;dbl&gt; | itemRgb &lt;chr&gt; | Category &lt;chr&gt; | Note &lt;chr&gt; |\n",
       "|---|---|---|---|---|---|---|---|---|---|---|\n",
       "| chr1 | 10033 | 10250 | EH38E2776516 | 0 | . | 10033 | 10250 | 225,225,225 | Low-DNase | All-data/Full-classification |\n",
       "| chr1 | 10385 | 10713 | EH38E2776517 | 0 | . | 10385 | 10713 | 225,225,225 | Low-DNase | All-data/Full-classification |\n",
       "| chr1 | 16097 | 16381 | EH38E3951272 | 0 | . | 16097 | 16381 | 225,225,225 | Low-DNase | All-data/Full-classification |\n",
       "\n"
      ],
      "text/plain": [
       "  Chrom Start End   Name         Score Strand thickStart thickEnd itemRgb    \n",
       "1 chr1  10033 10250 EH38E2776516 0     .      10033      10250    225,225,225\n",
       "2 chr1  10385 10713 EH38E2776517 0     .      10385      10713    225,225,225\n",
       "3 chr1  16097 16381 EH38E3951272 0     .      16097      16381    225,225,225\n",
       "  Category  Note                        \n",
       "1 Low-DNase All-data/Full-classification\n",
       "2 Low-DNase All-data/Full-classification\n",
       "3 Low-DNase All-data/Full-classification"
      ]
     },
     "metadata": {},
     "output_type": "display_data"
    }
   ],
   "source": [
    "dat = dat_ccre_v4\n",
    "head(dat, 3)"
   ]
  },
  {
   "cell_type": "code",
   "execution_count": 23,
   "metadata": {},
   "outputs": [
    {
     "data": {
      "text/html": [
       "<table class=\"dataframe\">\n",
       "<caption>A tibble: 3 × 6</caption>\n",
       "<thead>\n",
       "\t<tr><th scope=col>Chr</th><th scope=col>Start</th><th scope=col>End</th><th scope=col>cCRE accession</th><th scope=col>cCRE class</th><th scope=col>Silencer class</th></tr>\n",
       "\t<tr><th scope=col>&lt;chr&gt;</th><th scope=col>&lt;dbl&gt;</th><th scope=col>&lt;dbl&gt;</th><th scope=col>&lt;chr&gt;</th><th scope=col>&lt;chr&gt;</th><th scope=col>&lt;chr&gt;</th></tr>\n",
       "</thead>\n",
       "<tbody>\n",
       "\t<tr><td>chr10</td><td>100680786</td><td>100681128</td><td>EH38E4018829</td><td>CA-H3K4me3</td><td>REST+ silencer</td></tr>\n",
       "\t<tr><td>chr10</td><td>101081011</td><td>101081271</td><td>EH38E4018984</td><td>CA-TF     </td><td>REST+ silencer</td></tr>\n",
       "\t<tr><td>chr10</td><td>102361781</td><td>102362038</td><td>EH38E4019348</td><td>CA-CTCF   </td><td>REST+ silencer</td></tr>\n",
       "</tbody>\n",
       "</table>\n"
      ],
      "text/latex": [
       "A tibble: 3 × 6\n",
       "\\begin{tabular}{llllll}\n",
       " Chr & Start & End & cCRE accession & cCRE class & Silencer class\\\\\n",
       " <chr> & <dbl> & <dbl> & <chr> & <chr> & <chr>\\\\\n",
       "\\hline\n",
       "\t chr10 & 100680786 & 100681128 & EH38E4018829 & CA-H3K4me3 & REST+ silencer\\\\\n",
       "\t chr10 & 101081011 & 101081271 & EH38E4018984 & CA-TF      & REST+ silencer\\\\\n",
       "\t chr10 & 102361781 & 102362038 & EH38E4019348 & CA-CTCF    & REST+ silencer\\\\\n",
       "\\end{tabular}\n"
      ],
      "text/markdown": [
       "\n",
       "A tibble: 3 × 6\n",
       "\n",
       "| Chr &lt;chr&gt; | Start &lt;dbl&gt; | End &lt;dbl&gt; | cCRE accession &lt;chr&gt; | cCRE class &lt;chr&gt; | Silencer class &lt;chr&gt; |\n",
       "|---|---|---|---|---|---|\n",
       "| chr10 | 100680786 | 100681128 | EH38E4018829 | CA-H3K4me3 | REST+ silencer |\n",
       "| chr10 | 101081011 | 101081271 | EH38E4018984 | CA-TF      | REST+ silencer |\n",
       "| chr10 | 102361781 | 102362038 | EH38E4019348 | CA-CTCF    | REST+ silencer |\n",
       "\n"
      ],
      "text/plain": [
       "  Chr   Start     End       cCRE accession cCRE class Silencer class\n",
       "1 chr10 100680786 100681128 EH38E4018829   CA-H3K4me3 REST+ silencer\n",
       "2 chr10 101081011 101081271 EH38E4018984   CA-TF      REST+ silencer\n",
       "3 chr10 102361781 102362038 EH38E4019348   CA-CTCF    REST+ silencer"
      ]
     },
     "metadata": {},
     "output_type": "display_data"
    }
   ],
   "source": [
    "dat = dat_ccre_v4_silencer_rest\n",
    "head(dat, 3)"
   ]
  },
  {
   "cell_type": "code",
   "execution_count": 24,
   "metadata": {},
   "outputs": [
    {
     "data": {
      "text/html": [
       "<table class=\"dataframe\">\n",
       "<caption>A tibble: 3 × 8</caption>\n",
       "<thead>\n",
       "\t<tr><th scope=col>Chr</th><th scope=col>Start</th><th scope=col>End</th><th scope=col>cCRE accession</th><th scope=col>cCRE class</th><th scope=col>CAPRA quantification</th><th scope=col>P-value</th><th scope=col>Threshold</th></tr>\n",
       "\t<tr><th scope=col>&lt;chr&gt;</th><th scope=col>&lt;dbl&gt;</th><th scope=col>&lt;dbl&gt;</th><th scope=col>&lt;chr&gt;</th><th scope=col>&lt;chr&gt;</th><th scope=col>&lt;dbl&gt;</th><th scope=col>&lt;dbl&gt;</th><th scope=col>&lt;chr&gt;</th></tr>\n",
       "</thead>\n",
       "<tbody>\n",
       "\t<tr><td>chr13</td><td>22970420</td><td>22970595</td><td>EH38E4082602</td><td>CA</td><td>-2.7481</td><td>1.15e-09</td><td>Stringent</td></tr>\n",
       "\t<tr><td>chr1 </td><td> 9356890</td><td> 9357240</td><td>EH38E3954005</td><td>TF</td><td>-2.3927</td><td>8.63e-07</td><td>Stringent</td></tr>\n",
       "\t<tr><td>chr14</td><td>92678182</td><td>92678371</td><td>EH38E4113580</td><td>TF</td><td>-2.3075</td><td>5.20e-06</td><td>Stringent</td></tr>\n",
       "</tbody>\n",
       "</table>\n"
      ],
      "text/latex": [
       "A tibble: 3 × 8\n",
       "\\begin{tabular}{llllllll}\n",
       " Chr & Start & End & cCRE accession & cCRE class & CAPRA quantification & P-value & Threshold\\\\\n",
       " <chr> & <dbl> & <dbl> & <chr> & <chr> & <dbl> & <dbl> & <chr>\\\\\n",
       "\\hline\n",
       "\t chr13 & 22970420 & 22970595 & EH38E4082602 & CA & -2.7481 & 1.15e-09 & Stringent\\\\\n",
       "\t chr1  &  9356890 &  9357240 & EH38E3954005 & TF & -2.3927 & 8.63e-07 & Stringent\\\\\n",
       "\t chr14 & 92678182 & 92678371 & EH38E4113580 & TF & -2.3075 & 5.20e-06 & Stringent\\\\\n",
       "\\end{tabular}\n"
      ],
      "text/markdown": [
       "\n",
       "A tibble: 3 × 8\n",
       "\n",
       "| Chr &lt;chr&gt; | Start &lt;dbl&gt; | End &lt;dbl&gt; | cCRE accession &lt;chr&gt; | cCRE class &lt;chr&gt; | CAPRA quantification &lt;dbl&gt; | P-value &lt;dbl&gt; | Threshold &lt;chr&gt; |\n",
       "|---|---|---|---|---|---|---|---|\n",
       "| chr13 | 22970420 | 22970595 | EH38E4082602 | CA | -2.7481 | 1.15e-09 | Stringent |\n",
       "| chr1  |  9356890 |  9357240 | EH38E3954005 | TF | -2.3927 | 8.63e-07 | Stringent |\n",
       "| chr14 | 92678182 | 92678371 | EH38E4113580 | TF | -2.3075 | 5.20e-06 | Stringent |\n",
       "\n"
      ],
      "text/plain": [
       "  Chr   Start    End      cCRE accession cCRE class CAPRA quantification\n",
       "1 chr13 22970420 22970595 EH38E4082602   CA         -2.7481             \n",
       "2 chr1   9356890  9357240 EH38E3954005   TF         -2.3927             \n",
       "3 chr14 92678182 92678371 EH38E4113580   TF         -2.3075             \n",
       "  P-value  Threshold\n",
       "1 1.15e-09 Stringent\n",
       "2 8.63e-07 Stringent\n",
       "3 5.20e-06 Stringent"
      ]
     },
     "metadata": {},
     "output_type": "display_data"
    }
   ],
   "source": [
    "dat = dat_ccre_v4_silencer_starr\n",
    "head(dat, 3)"
   ]
  },
  {
   "cell_type": "markdown",
   "metadata": {},
   "source": [
    "**Arrange**"
   ]
  },
  {
   "cell_type": "code",
   "execution_count": 55,
   "metadata": {},
   "outputs": [
    {
     "data": {
      "text/html": [
       "<table class=\"dataframe\">\n",
       "<caption>A tibble: 6 × 6</caption>\n",
       "<thead>\n",
       "\t<tr><th scope=col>Chr</th><th scope=col>Start</th><th scope=col>End</th><th scope=col>cCRE accession</th><th scope=col>cCRE class</th><th scope=col>Silencer class</th></tr>\n",
       "\t<tr><th scope=col>&lt;chr&gt;</th><th scope=col>&lt;dbl&gt;</th><th scope=col>&lt;dbl&gt;</th><th scope=col>&lt;chr&gt;</th><th scope=col>&lt;chr&gt;</th><th scope=col>&lt;chr&gt;</th></tr>\n",
       "</thead>\n",
       "<tbody>\n",
       "\t<tr><td>chr10</td><td>100680786</td><td>100681128</td><td>EH38E4018829</td><td>CA-H3K4me3</td><td>REST+ silencer</td></tr>\n",
       "\t<tr><td>chr10</td><td>101081011</td><td>101081271</td><td>EH38E4018984</td><td>CA-TF     </td><td>REST+ silencer</td></tr>\n",
       "\t<tr><td>chr10</td><td>102361781</td><td>102362038</td><td>EH38E4019348</td><td>CA-CTCF   </td><td>REST+ silencer</td></tr>\n",
       "\t<tr><td>chr10</td><td>103265839</td><td>103266036</td><td>EH38E1495742</td><td>CA-CTCF   </td><td>REST+ silencer</td></tr>\n",
       "\t<tr><td>chr10</td><td>104548071</td><td>104548416</td><td>EH38E4019821</td><td>CA-TF     </td><td>REST+ silencer</td></tr>\n",
       "\t<tr><td>chr10</td><td>104750418</td><td>104750581</td><td>EH38E4019865</td><td>CA-TF     </td><td>REST+ silencer</td></tr>\n",
       "</tbody>\n",
       "</table>\n"
      ],
      "text/latex": [
       "A tibble: 6 × 6\n",
       "\\begin{tabular}{llllll}\n",
       " Chr & Start & End & cCRE accession & cCRE class & Silencer class\\\\\n",
       " <chr> & <dbl> & <dbl> & <chr> & <chr> & <chr>\\\\\n",
       "\\hline\n",
       "\t chr10 & 100680786 & 100681128 & EH38E4018829 & CA-H3K4me3 & REST+ silencer\\\\\n",
       "\t chr10 & 101081011 & 101081271 & EH38E4018984 & CA-TF      & REST+ silencer\\\\\n",
       "\t chr10 & 102361781 & 102362038 & EH38E4019348 & CA-CTCF    & REST+ silencer\\\\\n",
       "\t chr10 & 103265839 & 103266036 & EH38E1495742 & CA-CTCF    & REST+ silencer\\\\\n",
       "\t chr10 & 104548071 & 104548416 & EH38E4019821 & CA-TF      & REST+ silencer\\\\\n",
       "\t chr10 & 104750418 & 104750581 & EH38E4019865 & CA-TF      & REST+ silencer\\\\\n",
       "\\end{tabular}\n"
      ],
      "text/markdown": [
       "\n",
       "A tibble: 6 × 6\n",
       "\n",
       "| Chr &lt;chr&gt; | Start &lt;dbl&gt; | End &lt;dbl&gt; | cCRE accession &lt;chr&gt; | cCRE class &lt;chr&gt; | Silencer class &lt;chr&gt; |\n",
       "|---|---|---|---|---|---|\n",
       "| chr10 | 100680786 | 100681128 | EH38E4018829 | CA-H3K4me3 | REST+ silencer |\n",
       "| chr10 | 101081011 | 101081271 | EH38E4018984 | CA-TF      | REST+ silencer |\n",
       "| chr10 | 102361781 | 102362038 | EH38E4019348 | CA-CTCF    | REST+ silencer |\n",
       "| chr10 | 103265839 | 103266036 | EH38E1495742 | CA-CTCF    | REST+ silencer |\n",
       "| chr10 | 104548071 | 104548416 | EH38E4019821 | CA-TF      | REST+ silencer |\n",
       "| chr10 | 104750418 | 104750581 | EH38E4019865 | CA-TF      | REST+ silencer |\n",
       "\n"
      ],
      "text/plain": [
       "  Chr   Start     End       cCRE accession cCRE class Silencer class\n",
       "1 chr10 100680786 100681128 EH38E4018829   CA-H3K4me3 REST+ silencer\n",
       "2 chr10 101081011 101081271 EH38E4018984   CA-TF      REST+ silencer\n",
       "3 chr10 102361781 102362038 EH38E4019348   CA-CTCF    REST+ silencer\n",
       "4 chr10 103265839 103266036 EH38E1495742   CA-CTCF    REST+ silencer\n",
       "5 chr10 104548071 104548416 EH38E4019821   CA-TF      REST+ silencer\n",
       "6 chr10 104750418 104750581 EH38E4019865   CA-TF      REST+ silencer"
      ]
     },
     "metadata": {},
     "output_type": "display_data"
    }
   ],
   "source": [
    "dat = dat_ccre_v4_silencer_rest\n",
    "head(dat)"
   ]
  },
  {
   "cell_type": "code",
   "execution_count": 56,
   "metadata": {},
   "outputs": [],
   "source": [
    "dat = dat_ccre_v4\n",
    "dat = dat %>% \n",
    "    dplyr::mutate(\n",
    "        Chrom_A  = Chrom,\n",
    "        Start_A  = Start,\n",
    "        End_A    = End,\n",
    "        Region_A = paste0(Chrom, \":\", Start, \"-\", End),\n",
    "        Index    = Name,\n",
    "        Label_A  = Category\n",
    "    ) %>%\n",
    "    dplyr::select(Chrom_A, Start_A, End_A, Region_A, Index, Label_A) %>%\n",
    "    dplyr::distinct()\n",
    "dat1 = dat\n",
    "\n",
    "dat = dat_ccre_v4_silencer_rest\n",
    "dat = dat %>%\n",
    "    dplyr::mutate(\n",
    "        Chrom_B  = Chr,\n",
    "        Start_B  = Start,\n",
    "        End_B    = End,\n",
    "        Region_B = paste0(Chr, \":\", Start, \"-\", End),\n",
    "        Index    = `cCRE accession`,\n",
    "        Label_B  = `cCRE class`,\n",
    "        Note_B   = paste0(`cCRE class`, \"; \", `Silencer class`)\n",
    "    ) %>%\n",
    "    dplyr::select(Chrom_B, Start_B, End_B, Region_B, Index, Label_B, Note_B) %>%\n",
    "    dplyr::distinct()\n",
    "dat2 = dat\n",
    "\n",
    "dat = dat_ccre_v4_silencer_starr\n",
    "dat = dat %>% \n",
    "    dplyr::mutate(\n",
    "        Chrom_B  = Chr,\n",
    "        Start_B  = Start,\n",
    "        End_B    = End,\n",
    "        Region_B = paste0(Chr, \":\", Start, \"-\", End),\n",
    "        Index    = `cCRE accession`,\n",
    "        Label_B  = `cCRE class`,\n",
    "        Note_B   = paste0(`cCRE class`, \"; Threshold:\", Threshold)\n",
    "    ) %>%\n",
    "    dplyr::select(Chrom_B, Start_B, End_B, Region_B, Index, Label_B, Note_B) %>%\n",
    "    dplyr::distinct()\n",
    "dat3 = dat"
   ]
  },
  {
   "cell_type": "markdown",
   "metadata": {},
   "source": [
    "**Merge**"
   ]
  },
  {
   "cell_type": "code",
   "execution_count": 57,
   "metadata": {},
   "outputs": [],
   "source": [
    "dat12 = dplyr::inner_join(dat1, dat2, by = \"Index\")\n",
    "dat13 = dplyr::inner_join(dat1, dat3, by = \"Index\")"
   ]
  },
  {
   "cell_type": "markdown",
   "metadata": {},
   "source": [
    "**Answer: Accession number**"
   ]
  },
  {
   "cell_type": "code",
   "execution_count": 64,
   "metadata": {},
   "outputs": [
    {
     "name": "stdout",
     "output_type": "stream",
     "text": [
      "[1] 2348854\n",
      "[1] 7821\n",
      "[1] 5468\n",
      "=========================\n",
      "[1] 7821\n",
      "[1] 5468\n"
     ]
    }
   ],
   "source": [
    "vec1 = unique(dat1$Index)\n",
    "vec2 = unique(dat2$Index)\n",
    "vec3 = unique(dat3$Index)\n",
    "\n",
    "print(length(vec1))\n",
    "print(length(vec2))\n",
    "print(length(vec3))\n",
    "cat(\"=========================\\n\")\n",
    "vec = intersect(vec1, vec2)\n",
    "print(length(vec))\n",
    "vec = intersect(vec1, vec3)\n",
    "print(length(vec))"
   ]
  },
  {
   "cell_type": "markdown",
   "metadata": {},
   "source": [
    "**Answer: Location**"
   ]
  },
  {
   "cell_type": "code",
   "execution_count": 65,
   "metadata": {},
   "outputs": [
    {
     "name": "stdout",
     "output_type": "stream",
     "text": [
      "[1] 2348854\n",
      "[1] 7821\n",
      "[1] 5468\n",
      "=========================\n",
      "[1] 7821\n",
      "[1] 5468\n"
     ]
    }
   ],
   "source": [
    "vec1 = unique(dat1$Region_A)\n",
    "vec2 = unique(dat2$Region_B)\n",
    "vec3 = unique(dat3$Region_B)\n",
    "\n",
    "print(length(vec1))\n",
    "print(length(vec2))\n",
    "print(length(vec3))\n",
    "cat(\"=========================\\n\")\n",
    "vec = intersect(vec1, vec2)\n",
    "print(length(vec))\n",
    "vec = intersect(vec1, vec3)\n",
    "print(length(vec))"
   ]
  },
  {
   "cell_type": "markdown",
   "metadata": {},
   "source": [
    "**Check Merge**"
   ]
  },
  {
   "cell_type": "code",
   "execution_count": 66,
   "metadata": {},
   "outputs": [
    {
     "name": "stdout",
     "output_type": "stream",
     "text": [
      "[1] 2348854       6\n",
      "=======================\n",
      "[1] 7821    7\n",
      "[1] 7821   12\n",
      "=======================\n",
      "[1] 5468    7\n",
      "[1] 5468   12\n"
     ]
    }
   ],
   "source": [
    "print(dim(dat1))\n",
    "\n",
    "cat(\"=======================\\n\")\n",
    "print(dim(dat2))\n",
    "print(dim(dat12))\n",
    "\n",
    "cat(\"=======================\\n\")\n",
    "print(dim(dat3))\n",
    "print(dim(dat13))"
   ]
  },
  {
   "cell_type": "code",
   "execution_count": 67,
   "metadata": {},
   "outputs": [
    {
     "data": {
      "text/html": [
       "<table class=\"dataframe\">\n",
       "<caption>A tibble: 6 × 5</caption>\n",
       "<thead>\n",
       "\t<tr><th scope=col>Index</th><th scope=col>Region_A</th><th scope=col>Label_A</th><th scope=col>Region_B</th><th scope=col>Note_B</th></tr>\n",
       "\t<tr><th scope=col>&lt;chr&gt;</th><th scope=col>&lt;chr&gt;</th><th scope=col>&lt;chr&gt;</th><th scope=col>&lt;chr&gt;</th><th scope=col>&lt;chr&gt;</th></tr>\n",
       "</thead>\n",
       "<tbody>\n",
       "\t<tr><td>EH38E3951341</td><td>chr1:911951-912144  </td><td>Low-DNase</td><td>chr1:911951-912144  </td><td>pELS; REST+ Non-silencer     </td></tr>\n",
       "\t<tr><td>EH38E2777310</td><td>chr1:1298966-1299316</td><td>CA-TF    </td><td>chr1:1298966-1299316</td><td>dELS; REST+ enhancer/silencer</td></tr>\n",
       "\t<tr><td>EH38E2777313</td><td>chr1:1300420-1300762</td><td>Low-DNase</td><td>chr1:1300420-1300762</td><td>dELS; REST+ enhancer/silencer</td></tr>\n",
       "\t<tr><td>EH38E2777380</td><td>chr1:1334920-1335266</td><td>Low-DNase</td><td>chr1:1334920-1335266</td><td>dELS; REST+ enhancer/silencer</td></tr>\n",
       "\t<tr><td>EH38E2777455</td><td>chr1:1375250-1375598</td><td>pELS     </td><td>chr1:1375250-1375598</td><td>pELS; REST+ Non-silencer     </td></tr>\n",
       "\t<tr><td>EH38E2777492</td><td>chr1:1407146-1407496</td><td>PLS      </td><td>chr1:1407146-1407496</td><td>PLS; REST+ Non-silencer      </td></tr>\n",
       "</tbody>\n",
       "</table>\n"
      ],
      "text/latex": [
       "A tibble: 6 × 5\n",
       "\\begin{tabular}{lllll}\n",
       " Index & Region\\_A & Label\\_A & Region\\_B & Note\\_B\\\\\n",
       " <chr> & <chr> & <chr> & <chr> & <chr>\\\\\n",
       "\\hline\n",
       "\t EH38E3951341 & chr1:911951-912144   & Low-DNase & chr1:911951-912144   & pELS; REST+ Non-silencer     \\\\\n",
       "\t EH38E2777310 & chr1:1298966-1299316 & CA-TF     & chr1:1298966-1299316 & dELS; REST+ enhancer/silencer\\\\\n",
       "\t EH38E2777313 & chr1:1300420-1300762 & Low-DNase & chr1:1300420-1300762 & dELS; REST+ enhancer/silencer\\\\\n",
       "\t EH38E2777380 & chr1:1334920-1335266 & Low-DNase & chr1:1334920-1335266 & dELS; REST+ enhancer/silencer\\\\\n",
       "\t EH38E2777455 & chr1:1375250-1375598 & pELS      & chr1:1375250-1375598 & pELS; REST+ Non-silencer     \\\\\n",
       "\t EH38E2777492 & chr1:1407146-1407496 & PLS       & chr1:1407146-1407496 & PLS; REST+ Non-silencer      \\\\\n",
       "\\end{tabular}\n"
      ],
      "text/markdown": [
       "\n",
       "A tibble: 6 × 5\n",
       "\n",
       "| Index &lt;chr&gt; | Region_A &lt;chr&gt; | Label_A &lt;chr&gt; | Region_B &lt;chr&gt; | Note_B &lt;chr&gt; |\n",
       "|---|---|---|---|---|\n",
       "| EH38E3951341 | chr1:911951-912144   | Low-DNase | chr1:911951-912144   | pELS; REST+ Non-silencer      |\n",
       "| EH38E2777310 | chr1:1298966-1299316 | CA-TF     | chr1:1298966-1299316 | dELS; REST+ enhancer/silencer |\n",
       "| EH38E2777313 | chr1:1300420-1300762 | Low-DNase | chr1:1300420-1300762 | dELS; REST+ enhancer/silencer |\n",
       "| EH38E2777380 | chr1:1334920-1335266 | Low-DNase | chr1:1334920-1335266 | dELS; REST+ enhancer/silencer |\n",
       "| EH38E2777455 | chr1:1375250-1375598 | pELS      | chr1:1375250-1375598 | pELS; REST+ Non-silencer      |\n",
       "| EH38E2777492 | chr1:1407146-1407496 | PLS       | chr1:1407146-1407496 | PLS; REST+ Non-silencer       |\n",
       "\n"
      ],
      "text/plain": [
       "  Index        Region_A             Label_A   Region_B            \n",
       "1 EH38E3951341 chr1:911951-912144   Low-DNase chr1:911951-912144  \n",
       "2 EH38E2777310 chr1:1298966-1299316 CA-TF     chr1:1298966-1299316\n",
       "3 EH38E2777313 chr1:1300420-1300762 Low-DNase chr1:1300420-1300762\n",
       "4 EH38E2777380 chr1:1334920-1335266 Low-DNase chr1:1334920-1335266\n",
       "5 EH38E2777455 chr1:1375250-1375598 pELS      chr1:1375250-1375598\n",
       "6 EH38E2777492 chr1:1407146-1407496 PLS       chr1:1407146-1407496\n",
       "  Note_B                       \n",
       "1 pELS; REST+ Non-silencer     \n",
       "2 dELS; REST+ enhancer/silencer\n",
       "3 dELS; REST+ enhancer/silencer\n",
       "4 dELS; REST+ enhancer/silencer\n",
       "5 pELS; REST+ Non-silencer     \n",
       "6 PLS; REST+ Non-silencer      "
      ]
     },
     "metadata": {},
     "output_type": "display_data"
    }
   ],
   "source": [
    "dat = dat12\n",
    "dat = dat %>% dplyr::select(Index, Region_A, Label_A, Region_B, Note_B)\n",
    "head(dat)"
   ]
  },
  {
   "cell_type": "code",
   "execution_count": 68,
   "metadata": {},
   "outputs": [
    {
     "data": {
      "text/html": [
       "<table class=\"dataframe\">\n",
       "<caption>A tibble: 6 × 5</caption>\n",
       "<thead>\n",
       "\t<tr><th scope=col>Index</th><th scope=col>Region_A</th><th scope=col>Label_A</th><th scope=col>Region_B</th><th scope=col>Note_B</th></tr>\n",
       "\t<tr><th scope=col>&lt;chr&gt;</th><th scope=col>&lt;chr&gt;</th><th scope=col>&lt;chr&gt;</th><th scope=col>&lt;chr&gt;</th><th scope=col>&lt;chr&gt;</th></tr>\n",
       "</thead>\n",
       "<tbody>\n",
       "\t<tr><td>EH38E2776591</td><td>chr1:898458-898659  </td><td>Low-DNase</td><td>chr1:898458-898659  </td><td>dELS; Threshold:Robust</td></tr>\n",
       "\t<tr><td>EH38E3951581</td><td>chr1:1493739-1493964</td><td>Low-DNase</td><td>chr1:1493739-1493964</td><td>CA; Threshold:Robust  </td></tr>\n",
       "\t<tr><td>EH38E2777930</td><td>chr1:1777547-1777889</td><td>pELS     </td><td>chr1:1777547-1777889</td><td>pELS; Threshold:Robust</td></tr>\n",
       "\t<tr><td>EH38E2778456</td><td>chr1:2172722-2173053</td><td>Low-DNase</td><td>chr1:2172722-2173053</td><td>dELS; Threshold:Robust</td></tr>\n",
       "\t<tr><td>EH38E3951891</td><td>chr1:2468066-2468391</td><td>CA-TF    </td><td>chr1:2468066-2468391</td><td>pELS; Threshold:Robust</td></tr>\n",
       "\t<tr><td>EH38E2779554</td><td>chr1:3065437-3065776</td><td>Low-DNase</td><td>chr1:3065437-3065776</td><td>pELS; Threshold:Robust</td></tr>\n",
       "</tbody>\n",
       "</table>\n"
      ],
      "text/latex": [
       "A tibble: 6 × 5\n",
       "\\begin{tabular}{lllll}\n",
       " Index & Region\\_A & Label\\_A & Region\\_B & Note\\_B\\\\\n",
       " <chr> & <chr> & <chr> & <chr> & <chr>\\\\\n",
       "\\hline\n",
       "\t EH38E2776591 & chr1:898458-898659   & Low-DNase & chr1:898458-898659   & dELS; Threshold:Robust\\\\\n",
       "\t EH38E3951581 & chr1:1493739-1493964 & Low-DNase & chr1:1493739-1493964 & CA; Threshold:Robust  \\\\\n",
       "\t EH38E2777930 & chr1:1777547-1777889 & pELS      & chr1:1777547-1777889 & pELS; Threshold:Robust\\\\\n",
       "\t EH38E2778456 & chr1:2172722-2173053 & Low-DNase & chr1:2172722-2173053 & dELS; Threshold:Robust\\\\\n",
       "\t EH38E3951891 & chr1:2468066-2468391 & CA-TF     & chr1:2468066-2468391 & pELS; Threshold:Robust\\\\\n",
       "\t EH38E2779554 & chr1:3065437-3065776 & Low-DNase & chr1:3065437-3065776 & pELS; Threshold:Robust\\\\\n",
       "\\end{tabular}\n"
      ],
      "text/markdown": [
       "\n",
       "A tibble: 6 × 5\n",
       "\n",
       "| Index &lt;chr&gt; | Region_A &lt;chr&gt; | Label_A &lt;chr&gt; | Region_B &lt;chr&gt; | Note_B &lt;chr&gt; |\n",
       "|---|---|---|---|---|\n",
       "| EH38E2776591 | chr1:898458-898659   | Low-DNase | chr1:898458-898659   | dELS; Threshold:Robust |\n",
       "| EH38E3951581 | chr1:1493739-1493964 | Low-DNase | chr1:1493739-1493964 | CA; Threshold:Robust   |\n",
       "| EH38E2777930 | chr1:1777547-1777889 | pELS      | chr1:1777547-1777889 | pELS; Threshold:Robust |\n",
       "| EH38E2778456 | chr1:2172722-2173053 | Low-DNase | chr1:2172722-2173053 | dELS; Threshold:Robust |\n",
       "| EH38E3951891 | chr1:2468066-2468391 | CA-TF     | chr1:2468066-2468391 | pELS; Threshold:Robust |\n",
       "| EH38E2779554 | chr1:3065437-3065776 | Low-DNase | chr1:3065437-3065776 | pELS; Threshold:Robust |\n",
       "\n"
      ],
      "text/plain": [
       "  Index        Region_A             Label_A   Region_B            \n",
       "1 EH38E2776591 chr1:898458-898659   Low-DNase chr1:898458-898659  \n",
       "2 EH38E3951581 chr1:1493739-1493964 Low-DNase chr1:1493739-1493964\n",
       "3 EH38E2777930 chr1:1777547-1777889 pELS      chr1:1777547-1777889\n",
       "4 EH38E2778456 chr1:2172722-2173053 Low-DNase chr1:2172722-2173053\n",
       "5 EH38E3951891 chr1:2468066-2468391 CA-TF     chr1:2468066-2468391\n",
       "6 EH38E2779554 chr1:3065437-3065776 Low-DNase chr1:3065437-3065776\n",
       "  Note_B                \n",
       "1 dELS; Threshold:Robust\n",
       "2 CA; Threshold:Robust  \n",
       "3 pELS; Threshold:Robust\n",
       "4 dELS; Threshold:Robust\n",
       "5 pELS; Threshold:Robust\n",
       "6 pELS; Threshold:Robust"
      ]
     },
     "metadata": {},
     "output_type": "display_data"
    }
   ],
   "source": [
    "dat = dat13\n",
    "dat = dat %>% dplyr::select(Index, Region_A, Label_A, Region_B, Note_B)\n",
    "head(dat)"
   ]
  },
  {
   "cell_type": "code",
   "execution_count": 69,
   "metadata": {},
   "outputs": [
    {
     "data": {
      "text/html": [
       "<table class=\"dataframe\">\n",
       "<caption>A tibble: 6 × 4</caption>\n",
       "<thead>\n",
       "\t<tr><th scope=col>Index</th><th scope=col>Region</th><th scope=col>Label_cCREs_v4_ENCSR913HQX</th><th scope=col>Label_cCREs_v4_Silencer_REST</th></tr>\n",
       "\t<tr><th scope=col>&lt;chr&gt;</th><th scope=col>&lt;chr&gt;</th><th scope=col>&lt;chr&gt;</th><th scope=col>&lt;chr&gt;</th></tr>\n",
       "</thead>\n",
       "<tbody>\n",
       "\t<tr><td>EH38E3951341</td><td>chr1:911951-912144  </td><td>Low-DNase</td><td>pELS; REST+ Non-silencer     </td></tr>\n",
       "\t<tr><td>EH38E2777310</td><td>chr1:1298966-1299316</td><td>CA-TF    </td><td>dELS; REST+ enhancer/silencer</td></tr>\n",
       "\t<tr><td>EH38E2777313</td><td>chr1:1300420-1300762</td><td>Low-DNase</td><td>dELS; REST+ enhancer/silencer</td></tr>\n",
       "\t<tr><td>EH38E2777380</td><td>chr1:1334920-1335266</td><td>Low-DNase</td><td>dELS; REST+ enhancer/silencer</td></tr>\n",
       "\t<tr><td>EH38E2777455</td><td>chr1:1375250-1375598</td><td>pELS     </td><td>pELS; REST+ Non-silencer     </td></tr>\n",
       "\t<tr><td>EH38E2777492</td><td>chr1:1407146-1407496</td><td>PLS      </td><td>PLS; REST+ Non-silencer      </td></tr>\n",
       "</tbody>\n",
       "</table>\n"
      ],
      "text/latex": [
       "A tibble: 6 × 4\n",
       "\\begin{tabular}{llll}\n",
       " Index & Region & Label\\_cCREs\\_v4\\_ENCSR913HQX & Label\\_cCREs\\_v4\\_Silencer\\_REST\\\\\n",
       " <chr> & <chr> & <chr> & <chr>\\\\\n",
       "\\hline\n",
       "\t EH38E3951341 & chr1:911951-912144   & Low-DNase & pELS; REST+ Non-silencer     \\\\\n",
       "\t EH38E2777310 & chr1:1298966-1299316 & CA-TF     & dELS; REST+ enhancer/silencer\\\\\n",
       "\t EH38E2777313 & chr1:1300420-1300762 & Low-DNase & dELS; REST+ enhancer/silencer\\\\\n",
       "\t EH38E2777380 & chr1:1334920-1335266 & Low-DNase & dELS; REST+ enhancer/silencer\\\\\n",
       "\t EH38E2777455 & chr1:1375250-1375598 & pELS      & pELS; REST+ Non-silencer     \\\\\n",
       "\t EH38E2777492 & chr1:1407146-1407496 & PLS       & PLS; REST+ Non-silencer      \\\\\n",
       "\\end{tabular}\n"
      ],
      "text/markdown": [
       "\n",
       "A tibble: 6 × 4\n",
       "\n",
       "| Index &lt;chr&gt; | Region &lt;chr&gt; | Label_cCREs_v4_ENCSR913HQX &lt;chr&gt; | Label_cCREs_v4_Silencer_REST &lt;chr&gt; |\n",
       "|---|---|---|---|\n",
       "| EH38E3951341 | chr1:911951-912144   | Low-DNase | pELS; REST+ Non-silencer      |\n",
       "| EH38E2777310 | chr1:1298966-1299316 | CA-TF     | dELS; REST+ enhancer/silencer |\n",
       "| EH38E2777313 | chr1:1300420-1300762 | Low-DNase | dELS; REST+ enhancer/silencer |\n",
       "| EH38E2777380 | chr1:1334920-1335266 | Low-DNase | dELS; REST+ enhancer/silencer |\n",
       "| EH38E2777455 | chr1:1375250-1375598 | pELS      | pELS; REST+ Non-silencer      |\n",
       "| EH38E2777492 | chr1:1407146-1407496 | PLS       | PLS; REST+ Non-silencer       |\n",
       "\n"
      ],
      "text/plain": [
       "  Index        Region               Label_cCREs_v4_ENCSR913HQX\n",
       "1 EH38E3951341 chr1:911951-912144   Low-DNase                 \n",
       "2 EH38E2777310 chr1:1298966-1299316 CA-TF                     \n",
       "3 EH38E2777313 chr1:1300420-1300762 Low-DNase                 \n",
       "4 EH38E2777380 chr1:1334920-1335266 Low-DNase                 \n",
       "5 EH38E2777455 chr1:1375250-1375598 pELS                      \n",
       "6 EH38E2777492 chr1:1407146-1407496 PLS                       \n",
       "  Label_cCREs_v4_Silencer_REST \n",
       "1 pELS; REST+ Non-silencer     \n",
       "2 dELS; REST+ enhancer/silencer\n",
       "3 dELS; REST+ enhancer/silencer\n",
       "4 dELS; REST+ enhancer/silencer\n",
       "5 pELS; REST+ Non-silencer     \n",
       "6 PLS; REST+ Non-silencer      "
      ]
     },
     "metadata": {},
     "output_type": "display_data"
    }
   ],
   "source": [
    "dat = dat12\n",
    "dat = dat %>% \n",
    "    dplyr::mutate(\n",
    "        Region = Region_A,\n",
    "        Label_cCREs_v4_ENCSR913HQX   = Label_A,\n",
    "        Label_cCREs_v4_Silencer_REST = Note_B\n",
    "    ) %>%\n",
    "    dplyr::select(\n",
    "        Index, Region, \n",
    "        Label_cCREs_v4_ENCSR913HQX,\n",
    "        Label_cCREs_v4_Silencer_REST\n",
    "        )\n",
    "head(dat)"
   ]
  },
  {
   "cell_type": "code",
   "execution_count": 71,
   "metadata": {},
   "outputs": [
    {
     "data": {
      "text/html": [
       "<table class=\"dataframe\">\n",
       "<caption>A tibble: 6 × 4</caption>\n",
       "<thead>\n",
       "\t<tr><th scope=col>Index</th><th scope=col>Region</th><th scope=col>Label_cCREs_v4_ENCSR913HQX</th><th scope=col>Label_cCREs_v4_Silencer_STARR</th></tr>\n",
       "\t<tr><th scope=col>&lt;chr&gt;</th><th scope=col>&lt;chr&gt;</th><th scope=col>&lt;chr&gt;</th><th scope=col>&lt;chr&gt;</th></tr>\n",
       "</thead>\n",
       "<tbody>\n",
       "\t<tr><td>EH38E2776591</td><td>chr1:898458-898659  </td><td>Low-DNase</td><td>dELS; Threshold:Robust</td></tr>\n",
       "\t<tr><td>EH38E3951581</td><td>chr1:1493739-1493964</td><td>Low-DNase</td><td>CA; Threshold:Robust  </td></tr>\n",
       "\t<tr><td>EH38E2777930</td><td>chr1:1777547-1777889</td><td>pELS     </td><td>pELS; Threshold:Robust</td></tr>\n",
       "\t<tr><td>EH38E2778456</td><td>chr1:2172722-2173053</td><td>Low-DNase</td><td>dELS; Threshold:Robust</td></tr>\n",
       "\t<tr><td>EH38E3951891</td><td>chr1:2468066-2468391</td><td>CA-TF    </td><td>pELS; Threshold:Robust</td></tr>\n",
       "\t<tr><td>EH38E2779554</td><td>chr1:3065437-3065776</td><td>Low-DNase</td><td>pELS; Threshold:Robust</td></tr>\n",
       "</tbody>\n",
       "</table>\n"
      ],
      "text/latex": [
       "A tibble: 6 × 4\n",
       "\\begin{tabular}{llll}\n",
       " Index & Region & Label\\_cCREs\\_v4\\_ENCSR913HQX & Label\\_cCREs\\_v4\\_Silencer\\_STARR\\\\\n",
       " <chr> & <chr> & <chr> & <chr>\\\\\n",
       "\\hline\n",
       "\t EH38E2776591 & chr1:898458-898659   & Low-DNase & dELS; Threshold:Robust\\\\\n",
       "\t EH38E3951581 & chr1:1493739-1493964 & Low-DNase & CA; Threshold:Robust  \\\\\n",
       "\t EH38E2777930 & chr1:1777547-1777889 & pELS      & pELS; Threshold:Robust\\\\\n",
       "\t EH38E2778456 & chr1:2172722-2173053 & Low-DNase & dELS; Threshold:Robust\\\\\n",
       "\t EH38E3951891 & chr1:2468066-2468391 & CA-TF     & pELS; Threshold:Robust\\\\\n",
       "\t EH38E2779554 & chr1:3065437-3065776 & Low-DNase & pELS; Threshold:Robust\\\\\n",
       "\\end{tabular}\n"
      ],
      "text/markdown": [
       "\n",
       "A tibble: 6 × 4\n",
       "\n",
       "| Index &lt;chr&gt; | Region &lt;chr&gt; | Label_cCREs_v4_ENCSR913HQX &lt;chr&gt; | Label_cCREs_v4_Silencer_STARR &lt;chr&gt; |\n",
       "|---|---|---|---|\n",
       "| EH38E2776591 | chr1:898458-898659   | Low-DNase | dELS; Threshold:Robust |\n",
       "| EH38E3951581 | chr1:1493739-1493964 | Low-DNase | CA; Threshold:Robust   |\n",
       "| EH38E2777930 | chr1:1777547-1777889 | pELS      | pELS; Threshold:Robust |\n",
       "| EH38E2778456 | chr1:2172722-2173053 | Low-DNase | dELS; Threshold:Robust |\n",
       "| EH38E3951891 | chr1:2468066-2468391 | CA-TF     | pELS; Threshold:Robust |\n",
       "| EH38E2779554 | chr1:3065437-3065776 | Low-DNase | pELS; Threshold:Robust |\n",
       "\n"
      ],
      "text/plain": [
       "  Index        Region               Label_cCREs_v4_ENCSR913HQX\n",
       "1 EH38E2776591 chr1:898458-898659   Low-DNase                 \n",
       "2 EH38E3951581 chr1:1493739-1493964 Low-DNase                 \n",
       "3 EH38E2777930 chr1:1777547-1777889 pELS                      \n",
       "4 EH38E2778456 chr1:2172722-2173053 Low-DNase                 \n",
       "5 EH38E3951891 chr1:2468066-2468391 CA-TF                     \n",
       "6 EH38E2779554 chr1:3065437-3065776 Low-DNase                 \n",
       "  Label_cCREs_v4_Silencer_STARR\n",
       "1 dELS; Threshold:Robust       \n",
       "2 CA; Threshold:Robust         \n",
       "3 pELS; Threshold:Robust       \n",
       "4 dELS; Threshold:Robust       \n",
       "5 pELS; Threshold:Robust       \n",
       "6 pELS; Threshold:Robust       "
      ]
     },
     "metadata": {},
     "output_type": "display_data"
    }
   ],
   "source": [
    "dat = dat13\n",
    "dat = dat %>% \n",
    "    dplyr::mutate(\n",
    "        Region = Region_A,\n",
    "        Label_cCREs_v4_ENCSR913HQX   = Label_A,\n",
    "        Label_cCREs_v4_Silencer_STARR = Note_B\n",
    "    ) %>%\n",
    "    dplyr::select(\n",
    "        Index, Region, \n",
    "        Label_cCREs_v4_ENCSR913HQX,\n",
    "        Label_cCREs_v4_Silencer_STARR\n",
    "        )\n",
    "head(dat)"
   ]
  },
  {
   "cell_type": "code",
   "execution_count": null,
   "metadata": {},
   "outputs": [],
   "source": []
  },
  {
   "cell_type": "code",
   "execution_count": null,
   "metadata": {},
   "outputs": [],
   "source": []
  },
  {
   "cell_type": "code",
   "execution_count": null,
   "metadata": {},
   "outputs": [],
   "source": []
  },
  {
   "cell_type": "markdown",
   "metadata": {},
   "source": [
    "## Lenth distribution"
   ]
  },
  {
   "cell_type": "code",
   "execution_count": 19,
   "metadata": {},
   "outputs": [
    {
     "name": "stdout",
     "output_type": "stream",
     "text": [
      "   Min. 1st Qu.  Median    Mean 3rd Qu.    Max. \n",
      "  150.0   205.0   273.0   267.1   335.0   350.0 \n",
      "[1] 2348854       6\n"
     ]
    },
    {
     "data": {
      "text/html": [
       "<table class=\"dataframe\">\n",
       "<caption>A tibble: 6 × 6</caption>\n",
       "<thead>\n",
       "\t<tr><th scope=col>Chrom</th><th scope=col>Start</th><th scope=col>End</th><th scope=col>Length</th><th scope=col>Name</th><th scope=col>Category</th></tr>\n",
       "\t<tr><th scope=col>&lt;chr&gt;</th><th scope=col>&lt;dbl&gt;</th><th scope=col>&lt;dbl&gt;</th><th scope=col>&lt;dbl&gt;</th><th scope=col>&lt;chr&gt;</th><th scope=col>&lt;chr&gt;</th></tr>\n",
       "</thead>\n",
       "<tbody>\n",
       "\t<tr><td>chr1</td><td>10033</td><td>10250</td><td>217</td><td>EH38E2776516</td><td>Low-DNase</td></tr>\n",
       "\t<tr><td>chr1</td><td>10385</td><td>10713</td><td>328</td><td>EH38E2776517</td><td>Low-DNase</td></tr>\n",
       "\t<tr><td>chr1</td><td>16097</td><td>16381</td><td>284</td><td>EH38E3951272</td><td>Low-DNase</td></tr>\n",
       "\t<tr><td>chr1</td><td>17343</td><td>17642</td><td>299</td><td>EH38E3951273</td><td>Low-DNase</td></tr>\n",
       "\t<tr><td>chr1</td><td>29320</td><td>29517</td><td>197</td><td>EH38E3951274</td><td>Low-DNase</td></tr>\n",
       "\t<tr><td>chr1</td><td>66350</td><td>66509</td><td>159</td><td>EH38E3951275</td><td>Low-DNase</td></tr>\n",
       "</tbody>\n",
       "</table>\n"
      ],
      "text/latex": [
       "A tibble: 6 × 6\n",
       "\\begin{tabular}{llllll}\n",
       " Chrom & Start & End & Length & Name & Category\\\\\n",
       " <chr> & <dbl> & <dbl> & <dbl> & <chr> & <chr>\\\\\n",
       "\\hline\n",
       "\t chr1 & 10033 & 10250 & 217 & EH38E2776516 & Low-DNase\\\\\n",
       "\t chr1 & 10385 & 10713 & 328 & EH38E2776517 & Low-DNase\\\\\n",
       "\t chr1 & 16097 & 16381 & 284 & EH38E3951272 & Low-DNase\\\\\n",
       "\t chr1 & 17343 & 17642 & 299 & EH38E3951273 & Low-DNase\\\\\n",
       "\t chr1 & 29320 & 29517 & 197 & EH38E3951274 & Low-DNase\\\\\n",
       "\t chr1 & 66350 & 66509 & 159 & EH38E3951275 & Low-DNase\\\\\n",
       "\\end{tabular}\n"
      ],
      "text/markdown": [
       "\n",
       "A tibble: 6 × 6\n",
       "\n",
       "| Chrom &lt;chr&gt; | Start &lt;dbl&gt; | End &lt;dbl&gt; | Length &lt;dbl&gt; | Name &lt;chr&gt; | Category &lt;chr&gt; |\n",
       "|---|---|---|---|---|---|\n",
       "| chr1 | 10033 | 10250 | 217 | EH38E2776516 | Low-DNase |\n",
       "| chr1 | 10385 | 10713 | 328 | EH38E2776517 | Low-DNase |\n",
       "| chr1 | 16097 | 16381 | 284 | EH38E3951272 | Low-DNase |\n",
       "| chr1 | 17343 | 17642 | 299 | EH38E3951273 | Low-DNase |\n",
       "| chr1 | 29320 | 29517 | 197 | EH38E3951274 | Low-DNase |\n",
       "| chr1 | 66350 | 66509 | 159 | EH38E3951275 | Low-DNase |\n",
       "\n"
      ],
      "text/plain": [
       "  Chrom Start End   Length Name         Category \n",
       "1 chr1  10033 10250 217    EH38E2776516 Low-DNase\n",
       "2 chr1  10385 10713 328    EH38E2776517 Low-DNase\n",
       "3 chr1  16097 16381 284    EH38E3951272 Low-DNase\n",
       "4 chr1  17343 17642 299    EH38E3951273 Low-DNase\n",
       "5 chr1  29320 29517 197    EH38E3951274 Low-DNase\n",
       "6 chr1  66350 66509 159    EH38E3951275 Low-DNase"
      ]
     },
     "metadata": {},
     "output_type": "display_data"
    }
   ],
   "source": [
    "dat = dat_ccre_v4\n",
    "dat = dat %>% \n",
    "    dplyr::mutate(Length = End - Start) %>%\n",
    "    dplyr::select(Chrom, Start, End, Length, Name, Category) %>%\n",
    "    dplyr::distinct()\n",
    "vec = dat$Length\n",
    "\n",
    "print(summary(vec))\n",
    "print(dim(dat))\n",
    "head(dat)"
   ]
  },
  {
   "cell_type": "code",
   "execution_count": 18,
   "metadata": {},
   "outputs": [
    {
     "data": {
      "image/png": "[encoded data removed]",
      "text/plain": [
       "plot without title"
      ]
     },
     "metadata": {
      "image/png": {
       "height": 300,
       "width": 480
      }
     },
     "output_type": "display_data"
    }
   ],
   "source": [
    "gpt = ggplot(dat, aes(x=Length)) + geom_histogram(bins=50) + theme_cowplot()\n",
    "\n",
    "options(repr.plot.width = 8, repr.plot.height=5)\n",
    "print(gpt)"
   ]
  },
  {
   "cell_type": "code",
   "execution_count": null,
   "metadata": {},
   "outputs": [],
   "source": []
  },
  {
   "cell_type": "code",
   "execution_count": null,
   "metadata": {},
   "outputs": [],
   "source": []
  },
  {
   "cell_type": "code",
   "execution_count": null,
   "metadata": {},
   "outputs": [],
   "source": []
  },
  {
   "cell_type": "code",
   "execution_count": null,
   "metadata": {},
   "outputs": [],
   "source": []
  },
  {
   "cell_type": "code",
   "execution_count": null,
   "metadata": {},
   "outputs": [],
   "source": []
  },
  {
   "cell_type": "code",
   "execution_count": 31,
   "metadata": {},
   "outputs": [
    {
     "data": {
      "text/html": [
       "<table class=\"dataframe\">\n",
       "<caption>A data.frame: 11 × 2</caption>\n",
       "<thead>\n",
       "\t<tr><th scope=col>Category</th><th scope=col>Count</th></tr>\n",
       "\t<tr><th scope=col>&lt;fct&gt;</th><th scope=col>&lt;int&gt;</th></tr>\n",
       "</thead>\n",
       "<tbody>\n",
       "\t<tr><td>CTCF-only,CTCF-bound    </td><td> 13353</td></tr>\n",
       "\t<tr><td>dELS                    </td><td> 16829</td></tr>\n",
       "\t<tr><td>dELS,CTCF-bound         </td><td>  2703</td></tr>\n",
       "\t<tr><td>DNase-H3K4me3           </td><td>  4766</td></tr>\n",
       "\t<tr><td>DNase-H3K4me3,CTCF-bound</td><td>  2056</td></tr>\n",
       "\t<tr><td>DNase-only              </td><td>  8235</td></tr>\n",
       "\t<tr><td>Low-DNase               </td><td>830150</td></tr>\n",
       "\t<tr><td>pELS                    </td><td> 26005</td></tr>\n",
       "\t<tr><td>pELS,CTCF-bound         </td><td>  4570</td></tr>\n",
       "\t<tr><td>PLS                     </td><td> 14412</td></tr>\n",
       "\t<tr><td>PLS,CTCF-bound          </td><td>  3456</td></tr>\n",
       "</tbody>\n",
       "</table>\n"
      ],
      "text/latex": [
       "A data.frame: 11 × 2\n",
       "\\begin{tabular}{ll}\n",
       " Category & Count\\\\\n",
       " <fct> & <int>\\\\\n",
       "\\hline\n",
       "\t CTCF-only,CTCF-bound     &  13353\\\\\n",
       "\t dELS                     &  16829\\\\\n",
       "\t dELS,CTCF-bound          &   2703\\\\\n",
       "\t DNase-H3K4me3            &   4766\\\\\n",
       "\t DNase-H3K4me3,CTCF-bound &   2056\\\\\n",
       "\t DNase-only               &   8235\\\\\n",
       "\t Low-DNase                & 830150\\\\\n",
       "\t pELS                     &  26005\\\\\n",
       "\t pELS,CTCF-bound          &   4570\\\\\n",
       "\t PLS                      &  14412\\\\\n",
       "\t PLS,CTCF-bound           &   3456\\\\\n",
       "\\end{tabular}\n"
      ],
      "text/markdown": [
       "\n",
       "A data.frame: 11 × 2\n",
       "\n",
       "| Category &lt;fct&gt; | Count &lt;int&gt; |\n",
       "|---|---|\n",
       "| CTCF-only,CTCF-bound     |  13353 |\n",
       "| dELS                     |  16829 |\n",
       "| dELS,CTCF-bound          |   2703 |\n",
       "| DNase-H3K4me3            |   4766 |\n",
       "| DNase-H3K4me3,CTCF-bound |   2056 |\n",
       "| DNase-only               |   8235 |\n",
       "| Low-DNase                | 830150 |\n",
       "| pELS                     |  26005 |\n",
       "| pELS,CTCF-bound          |   4570 |\n",
       "| PLS                      |  14412 |\n",
       "| PLS,CTCF-bound           |   3456 |\n",
       "\n"
      ],
      "text/plain": [
       "   Category                 Count \n",
       "1  CTCF-only,CTCF-bound      13353\n",
       "2  dELS                      16829\n",
       "3  dELS,CTCF-bound            2703\n",
       "4  DNase-H3K4me3              4766\n",
       "5  DNase-H3K4me3,CTCF-bound   2056\n",
       "6  DNase-only                 8235\n",
       "7  Low-DNase                830150\n",
       "8  pELS                      26005\n",
       "9  pELS,CTCF-bound            4570\n",
       "10 PLS                       14412\n",
       "11 PLS,CTCF-bound             3456"
      ]
     },
     "metadata": {},
     "output_type": "display_data"
    }
   ],
   "source": [
    "dat = dat_ccre_v3\n",
    "vec = table(dat$Category)\n",
    "dat = data.frame(vec)\n",
    "colnames(dat) = c(\"Category\", \"Count\")\n",
    "\n",
    "dat_ccre_count = dat\n",
    "dat"
   ]
  },
  {
   "cell_type": "code",
   "execution_count": 33,
   "metadata": {},
   "outputs": [
    {
     "data": {
      "image/png": "[encoded data removed]",
      "text/plain": [
       "plot without title"
      ]
     },
     "metadata": {
      "image/png": {
       "height": 420,
       "width": 420
      }
     },
     "output_type": "display_data"
    }
   ],
   "source": [
    "dat = dat_ccre_count\n",
    "dat = dat %>% dplyr::arrange(Count) %>% dplyr::mutate(Category = factor(Category, levels=Category))\n",
    "\n",
    "gpt = ggplot(dat, aes(x=Category, y=Count)) + \n",
    "    geom_col() + \n",
    "    scale_y_log10() +\n",
    "    theme_cowplot() +\n",
    "    coord_flip()\n",
    "print(gpt)"
   ]
  },
  {
   "cell_type": "code",
   "execution_count": 34,
   "metadata": {},
   "outputs": [
    {
     "data": {
      "text/html": [
       "<table class=\"dataframe\">\n",
       "<caption>A data.frame: 8 × 2</caption>\n",
       "<thead>\n",
       "\t<tr><th scope=col>Category</th><th scope=col>Count</th></tr>\n",
       "\t<tr><th scope=col>&lt;fct&gt;</th><th scope=col>&lt;int&gt;</th></tr>\n",
       "</thead>\n",
       "<tbody>\n",
       "\t<tr><td>CA-CTCF   </td><td>  28271</td></tr>\n",
       "\t<tr><td>CA-H3K4me3</td><td>   5861</td></tr>\n",
       "\t<tr><td>CA-only   </td><td>   2958</td></tr>\n",
       "\t<tr><td>CA-TF     </td><td>  38859</td></tr>\n",
       "\t<tr><td>dELS      </td><td>  35488</td></tr>\n",
       "\t<tr><td>Low-DNase </td><td>2175563</td></tr>\n",
       "\t<tr><td>pELS      </td><td>  41813</td></tr>\n",
       "\t<tr><td>PLS       </td><td>  20041</td></tr>\n",
       "</tbody>\n",
       "</table>\n"
      ],
      "text/latex": [
       "A data.frame: 8 × 2\n",
       "\\begin{tabular}{ll}\n",
       " Category & Count\\\\\n",
       " <fct> & <int>\\\\\n",
       "\\hline\n",
       "\t CA-CTCF    &   28271\\\\\n",
       "\t CA-H3K4me3 &    5861\\\\\n",
       "\t CA-only    &    2958\\\\\n",
       "\t CA-TF      &   38859\\\\\n",
       "\t dELS       &   35488\\\\\n",
       "\t Low-DNase  & 2175563\\\\\n",
       "\t pELS       &   41813\\\\\n",
       "\t PLS        &   20041\\\\\n",
       "\\end{tabular}\n"
      ],
      "text/markdown": [
       "\n",
       "A data.frame: 8 × 2\n",
       "\n",
       "| Category &lt;fct&gt; | Count &lt;int&gt; |\n",
       "|---|---|\n",
       "| CA-CTCF    |   28271 |\n",
       "| CA-H3K4me3 |    5861 |\n",
       "| CA-only    |    2958 |\n",
       "| CA-TF      |   38859 |\n",
       "| dELS       |   35488 |\n",
       "| Low-DNase  | 2175563 |\n",
       "| pELS       |   41813 |\n",
       "| PLS        |   20041 |\n",
       "\n"
      ],
      "text/plain": [
       "  Category   Count  \n",
       "1 CA-CTCF      28271\n",
       "2 CA-H3K4me3    5861\n",
       "3 CA-only       2958\n",
       "4 CA-TF        38859\n",
       "5 dELS         35488\n",
       "6 Low-DNase  2175563\n",
       "7 pELS         41813\n",
       "8 PLS          20041"
      ]
     },
     "metadata": {},
     "output_type": "display_data"
    }
   ],
   "source": [
    "dat = dat_ccre_v4\n",
    "vec = table(dat$Category)\n",
    "dat = data.frame(vec)\n",
    "colnames(dat) = c(\"Category\", \"Count\")\n",
    "\n",
    "dat_ccre_count = dat\n",
    "dat"
   ]
  },
  {
   "cell_type": "code",
   "execution_count": 35,
   "metadata": {},
   "outputs": [
    {
     "data": {
      "image/png": "[encoded data removed]",
      "text/plain": [
       "plot without title"
      ]
     },
     "metadata": {
      "image/png": {
       "height": 420,
       "width": 420
      }
     },
     "output_type": "display_data"
    }
   ],
   "source": [
    "dat = dat_ccre_count\n",
    "dat = dat %>% dplyr::arrange(Count) %>% dplyr::mutate(Category = factor(Category, levels=Category))\n",
    "\n",
    "gpt = ggplot(dat, aes(x=Category, y=Count)) + \n",
    "    geom_col() + \n",
    "    scale_y_log10() +\n",
    "    theme_cowplot() +\n",
    "    coord_flip()\n",
    "print(gpt)"
   ]
  },
  {
   "cell_type": "code",
   "execution_count": null,
   "metadata": {},
   "outputs": [],
   "source": []
  },
  {
   "cell_type": "markdown",
   "metadata": {},
   "source": [
    "https://www.encodeproject.org/search/?type=Annotation&annotation_type=candidate+Cis-Regulatory+Elements&biosample_ontology.term_name=K562&assembly=GRCh38&encyclopedia_version=ENCODE+v4"
   ]
  },
  {
   "cell_type": "code",
   "execution_count": 23,
   "metadata": {},
   "outputs": [
    {
     "data": {
      "text/html": [
       "<style>\n",
       ".list-inline {list-style: none; margin:0; padding: 0}\n",
       ".list-inline>li {display: inline-block}\n",
       ".list-inline>li:not(:last-child)::after {content: \"\\00b7\"; padding: 0 .5ex}\n",
       "</style>\n",
       "<ol class=list-inline><li>'ENCFF082GFK.bigBed'</li><li>'ENCFF135QQP.bigBed'</li><li>'ENCFF144YZB.bigBed'</li><li>'ENCFF286VQG.bed.gz'</li><li>'ENCFF436MAO.bed.gz'</li><li>'ENCFF455VKH.bed.gz'</li><li>'ENCFF511HSV.bigBed'</li><li>'ENCFF539BTC.bed.gz'</li><li>'ENCFF556WKM.bigBed'</li><li>'ENCFF658OPM.bed.gz'</li><li>'ENCFF706JDX.bed.gz'</li><li>'ENCFF953CSP.bigBed'</li><li>'ENCFF971AHO_ENCFF847JMY_ENCFF779QTH_ENCFF405AYC.7group.bed'</li><li>'files.txt'</li><li>'K562.ENCSR913HQX.ENCFF286VQG.ccres.bed.gz'</li><li>'metadata.tsv'</li></ol>\n"
      ],
      "text/latex": [
       "\\begin{enumerate*}\n",
       "\\item 'ENCFF082GFK.bigBed'\n",
       "\\item 'ENCFF135QQP.bigBed'\n",
       "\\item 'ENCFF144YZB.bigBed'\n",
       "\\item 'ENCFF286VQG.bed.gz'\n",
       "\\item 'ENCFF436MAO.bed.gz'\n",
       "\\item 'ENCFF455VKH.bed.gz'\n",
       "\\item 'ENCFF511HSV.bigBed'\n",
       "\\item 'ENCFF539BTC.bed.gz'\n",
       "\\item 'ENCFF556WKM.bigBed'\n",
       "\\item 'ENCFF658OPM.bed.gz'\n",
       "\\item 'ENCFF706JDX.bed.gz'\n",
       "\\item 'ENCFF953CSP.bigBed'\n",
       "\\item 'ENCFF971AHO\\_ENCFF847JMY\\_ENCFF779QTH\\_ENCFF405AYC.7group.bed'\n",
       "\\item 'files.txt'\n",
       "\\item 'K562.ENCSR913HQX.ENCFF286VQG.ccres.bed.gz'\n",
       "\\item 'metadata.tsv'\n",
       "\\end{enumerate*}\n"
      ],
      "text/markdown": [
       "1. 'ENCFF082GFK.bigBed'\n",
       "2. 'ENCFF135QQP.bigBed'\n",
       "3. 'ENCFF144YZB.bigBed'\n",
       "4. 'ENCFF286VQG.bed.gz'\n",
       "5. 'ENCFF436MAO.bed.gz'\n",
       "6. 'ENCFF455VKH.bed.gz'\n",
       "7. 'ENCFF511HSV.bigBed'\n",
       "8. 'ENCFF539BTC.bed.gz'\n",
       "9. 'ENCFF556WKM.bigBed'\n",
       "10. 'ENCFF658OPM.bed.gz'\n",
       "11. 'ENCFF706JDX.bed.gz'\n",
       "12. 'ENCFF953CSP.bigBed'\n",
       "13. 'ENCFF971AHO_ENCFF847JMY_ENCFF779QTH_ENCFF405AYC.7group.bed'\n",
       "14. 'files.txt'\n",
       "15. 'K562.ENCSR913HQX.ENCFF286VQG.ccres.bed.gz'\n",
       "16. 'metadata.tsv'\n",
       "\n",
       "\n"
      ],
      "text/plain": [
       " [1] \"ENCFF082GFK.bigBed\"                                        \n",
       " [2] \"ENCFF135QQP.bigBed\"                                        \n",
       " [3] \"ENCFF144YZB.bigBed\"                                        \n",
       " [4] \"ENCFF286VQG.bed.gz\"                                        \n",
       " [5] \"ENCFF436MAO.bed.gz\"                                        \n",
       " [6] \"ENCFF455VKH.bed.gz\"                                        \n",
       " [7] \"ENCFF511HSV.bigBed\"                                        \n",
       " [8] \"ENCFF539BTC.bed.gz\"                                        \n",
       " [9] \"ENCFF556WKM.bigBed\"                                        \n",
       "[10] \"ENCFF658OPM.bed.gz\"                                        \n",
       "[11] \"ENCFF706JDX.bed.gz\"                                        \n",
       "[12] \"ENCFF953CSP.bigBed\"                                        \n",
       "[13] \"ENCFF971AHO_ENCFF847JMY_ENCFF779QTH_ENCFF405AYC.7group.bed\"\n",
       "[14] \"files.txt\"                                                 \n",
       "[15] \"K562.ENCSR913HQX.ENCFF286VQG.ccres.bed.gz\"                 \n",
       "[16] \"metadata.tsv\"                                              "
      ]
     },
     "metadata": {},
     "output_type": "display_data"
    }
   ],
   "source": [
    "fdiry = file.path(FD_RES, \"source\", \"annotation_cCREs\")\n",
    "dir(fdiry)"
   ]
  },
  {
   "cell_type": "code",
   "execution_count": 24,
   "metadata": {},
   "outputs": [
    {
     "name": "stdout",
     "output_type": "stream",
     "text": [
      "[1] \"/data/reddylab/Kuei/out/proj_combeffect_encode_fcc/source/annotation_cCREs/ENCFF286VQG.bed.gz\"\n",
      "[2] \"/data/reddylab/Kuei/out/proj_combeffect_encode_fcc/source/annotation_cCREs/ENCFF436MAO.bed.gz\"\n",
      "[3] \"/data/reddylab/Kuei/out/proj_combeffect_encode_fcc/source/annotation_cCREs/ENCFF455VKH.bed.gz\"\n",
      "[4] \"/data/reddylab/Kuei/out/proj_combeffect_encode_fcc/source/annotation_cCREs/ENCFF539BTC.bed.gz\"\n",
      "[5] \"/data/reddylab/Kuei/out/proj_combeffect_encode_fcc/source/annotation_cCREs/ENCFF658OPM.bed.gz\"\n",
      "[6] \"/data/reddylab/Kuei/out/proj_combeffect_encode_fcc/source/annotation_cCREs/ENCFF706JDX.bed.gz\"\n"
     ]
    }
   ],
   "source": [
    "fdiry = file.path(FD_RES, \"source\", \"annotation_cCREs\")\n",
    "fname = \"EN*bed.gz\"\n",
    "fglob = file.path(fdiry, fname)\n",
    "\n",
    "fpaths = Sys.glob(fglob)\n",
    "print(fpaths)"
   ]
  },
  {
   "cell_type": "code",
   "execution_count": 25,
   "metadata": {},
   "outputs": [
    {
     "name": "stderr",
     "output_type": "stream",
     "text": [
      "\u001b[1mRows: \u001b[22m\u001b[34m2348854\u001b[39m \u001b[1mColumns: \u001b[22m\u001b[34m11\u001b[39m\n",
      "\u001b[36m──\u001b[39m \u001b[1mColumn specification\u001b[22m \u001b[36m────────────────────────────────────────────────────────────────────────\u001b[39m\n",
      "\u001b[1mDelimiter:\u001b[22m \"\\t\"\n",
      "\u001b[31mchr\u001b[39m (6): Chrom, Name, Strand, itemRgb, Category, Note\n",
      "\u001b[32mdbl\u001b[39m (5): Start, End, Score, thickStart, thickEnd\n",
      "\n",
      "\u001b[36mℹ\u001b[39m Use `spec()` to retrieve the full column specification for this data.\n",
      "\u001b[36mℹ\u001b[39m Specify the column types or set `show_col_types = FALSE` to quiet this message.\n",
      "\u001b[1mRows: \u001b[22m\u001b[34m2348854\u001b[39m \u001b[1mColumns: \u001b[22m\u001b[34m11\u001b[39m\n",
      "\u001b[36m──\u001b[39m \u001b[1mColumn specification\u001b[22m \u001b[36m────────────────────────────────────────────────────────────────────────\u001b[39m\n",
      "\u001b[1mDelimiter:\u001b[22m \"\\t\"\n",
      "\u001b[31mchr\u001b[39m (5): Chrom, Name, Strand, Category, Note\n",
      "\u001b[32mdbl\u001b[39m (5): Start, End, Score, thickStart, thickEnd\n",
      "\u001b[32mnum\u001b[39m (1): itemRgb\n",
      "\n",
      "\u001b[36mℹ\u001b[39m Use `spec()` to retrieve the full column specification for this data.\n",
      "\u001b[36mℹ\u001b[39m Specify the column types or set `show_col_types = FALSE` to quiet this message.\n",
      "\u001b[1mRows: \u001b[22m\u001b[34m2348854\u001b[39m \u001b[1mColumns: \u001b[22m\u001b[34m11\u001b[39m\n",
      "\u001b[36m──\u001b[39m \u001b[1mColumn specification\u001b[22m \u001b[36m────────────────────────────────────────────────────────────────────────\u001b[39m\n",
      "\u001b[1mDelimiter:\u001b[22m \"\\t\"\n",
      "\u001b[31mchr\u001b[39m (5): Chrom, Name, Strand, Category, Note\n",
      "\u001b[32mdbl\u001b[39m (5): Start, End, Score, thickStart, thickEnd\n",
      "\u001b[32mnum\u001b[39m (1): itemRgb\n",
      "\n",
      "\u001b[36mℹ\u001b[39m Use `spec()` to retrieve the full column specification for this data.\n",
      "\u001b[36mℹ\u001b[39m Specify the column types or set `show_col_types = FALSE` to quiet this message.\n",
      "\u001b[1mRows: \u001b[22m\u001b[34m2348854\u001b[39m \u001b[1mColumns: \u001b[22m\u001b[34m11\u001b[39m\n",
      "\u001b[36m──\u001b[39m \u001b[1mColumn specification\u001b[22m \u001b[36m────────────────────────────────────────────────────────────────────────\u001b[39m\n",
      "\u001b[1mDelimiter:\u001b[22m \"\\t\"\n",
      "\u001b[31mchr\u001b[39m (5): Chrom, Name, Strand, Category, Note\n",
      "\u001b[32mdbl\u001b[39m (5): Start, End, Score, thickStart, thickEnd\n",
      "\u001b[32mnum\u001b[39m (1): itemRgb\n",
      "\n",
      "\u001b[36mℹ\u001b[39m Use `spec()` to retrieve the full column specification for this data.\n",
      "\u001b[36mℹ\u001b[39m Specify the column types or set `show_col_types = FALSE` to quiet this message.\n",
      "\u001b[1mRows: \u001b[22m\u001b[34m2348854\u001b[39m \u001b[1mColumns: \u001b[22m\u001b[34m11\u001b[39m\n",
      "\u001b[36m──\u001b[39m \u001b[1mColumn specification\u001b[22m \u001b[36m────────────────────────────────────────────────────────────────────────\u001b[39m\n",
      "\u001b[1mDelimiter:\u001b[22m \"\\t\"\n",
      "\u001b[31mchr\u001b[39m (5): Chrom, Name, Strand, Category, Note\n",
      "\u001b[32mdbl\u001b[39m (5): Start, End, Score, thickStart, thickEnd\n",
      "\u001b[32mnum\u001b[39m (1): itemRgb\n",
      "\n",
      "\u001b[36mℹ\u001b[39m Use `spec()` to retrieve the full column specification for this data.\n",
      "\u001b[36mℹ\u001b[39m Specify the column types or set `show_col_types = FALSE` to quiet this message.\n",
      "\u001b[1mRows: \u001b[22m\u001b[34m2348854\u001b[39m \u001b[1mColumns: \u001b[22m\u001b[34m11\u001b[39m\n",
      "\u001b[36m──\u001b[39m \u001b[1mColumn specification\u001b[22m \u001b[36m────────────────────────────────────────────────────────────────────────\u001b[39m\n",
      "\u001b[1mDelimiter:\u001b[22m \"\\t\"\n",
      "\u001b[31mchr\u001b[39m (5): Chrom, Name, Strand, Category, Note\n",
      "\u001b[32mdbl\u001b[39m (5): Start, End, Score, thickStart, thickEnd\n",
      "\u001b[32mnum\u001b[39m (1): itemRgb\n",
      "\n",
      "\u001b[36mℹ\u001b[39m Use `spec()` to retrieve the full column specification for this data.\n",
      "\u001b[36mℹ\u001b[39m Specify the column types or set `show_col_types = FALSE` to quiet this message.\n"
     ]
    }
   ],
   "source": [
    "lst_dat_ccre = lapply(fpaths, function(fpath){\n",
    "    cnames = c(\n",
    "        \"Chrom\", \"Start\", \"End\", \"Name\", \"Score\", \"Strand\", \n",
    "        \"thickStart\", \"thickEnd\", \"itemRgb\", \n",
    "        \"Category\", \"Note\")\n",
    "    dat = read_tsv(fpath, col_names = cnames)\n",
    "    return(dat)\n",
    "})"
   ]
  },
  {
   "cell_type": "code",
   "execution_count": 36,
   "metadata": {},
   "outputs": [
    {
     "name": "stdout",
     "output_type": "stream",
     "text": [
      "[1] \"ENCFF286VQG.bed.gz\"\n",
      "\n",
      "   CA-CTCF CA-H3K4me3    CA-only      CA-TF       dELS  Low-DNase       pELS \n",
      "     28271       5861       2958      38859      35488    2175563      41813 \n",
      "       PLS \n",
      "     20041 \n",
      "[1] \"ENCFF436MAO.bed.gz\"\n",
      "\n",
      "  CA-only Low-DNase \n",
      "   113961   2234893 \n",
      "[1] \"ENCFF455VKH.bed.gz\"\n",
      "\n",
      "  CA-only Low-DNase \n",
      "   103613   2245241 \n",
      "[1] \"ENCFF539BTC.bed.gz\"\n",
      "\n",
      "  CA-only Low-DNase \n",
      "   101317   2247537 \n",
      "[1] \"ENCFF658OPM.bed.gz\"\n",
      "\n",
      "  CA-only Low-DNase \n",
      "   107208   2241646 \n",
      "[1] \"ENCFF706JDX.bed.gz\"\n",
      "\n",
      "  CA-only Low-DNase \n",
      "   102804   2246050 \n"
     ]
    }
   ],
   "source": [
    "lst = lst_dat_ccre\n",
    "lst = lapply(lst, function(dat){table(dat$Category)})\n",
    "names(lst) = basename(fpaths)\n",
    "\n",
    "for (idx in names(lst)){\n",
    "    print(idx)\n",
    "    print(lst[[idx]])\n",
    "}"
   ]
  },
  {
   "cell_type": "code",
   "execution_count": null,
   "metadata": {},
   "outputs": [],
   "source": []
  }
 ],
 "metadata": {
  "kernelspec": {
   "display_name": "R",
   "language": "R",
   "name": "ir"
  },
  "language_info": {
   "codemirror_mode": "r",
   "file_extension": ".r",
   "mimetype": "text/x-r-source",
   "name": "R",
   "pygments_lexer": "r",
   "version": "4.3.1"
  }
 },
 "nbformat": 4,
 "nbformat_minor": 4
}
