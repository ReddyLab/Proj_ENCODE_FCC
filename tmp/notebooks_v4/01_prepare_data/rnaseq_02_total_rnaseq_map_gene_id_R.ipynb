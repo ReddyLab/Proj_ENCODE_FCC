{
 "cells": [
  {
   "cell_type": "markdown",
   "metadata": {},
   "source": [
    "**Set environment**"
   ]
  },
  {
   "cell_type": "code",
   "execution_count": 1,
   "metadata": {},
   "outputs": [
    {
     "name": "stdout",
     "output_type": "stream",
     "text": [
      "You are in Singularity: singularity_proj_encode_fcc \n",
      "BASE DIRECTORY (FD_BASE): /data/reddylab/Kuei \n",
      "WORK DIRECTORY (FD_WORK): /data/reddylab/Kuei/out \n",
      "CODE DIRECTORY (FD_CODE): /data/reddylab/Kuei/code \n",
      "PATH OF PROJECT (FD_PRJ): /data/reddylab/Kuei/code/Proj_CombEffect_ENCODE_FCC \n",
      "PATH OF RESULTS (FD_RES): /data/reddylab/Kuei/out/proj_combeffect_encode_fcc \n",
      "PATH OF LOG     (FD_LOG): /data/reddylab/Kuei/out/proj_combeffect_encode_fcc/log \n"
     ]
    }
   ],
   "source": [
    "suppressWarnings(suppressMessages(source(\"../config/config_sing.R\")))\n",
    "show_env()"
   ]
  },
  {
   "cell_type": "markdown",
   "metadata": {},
   "source": [
    "## Import data"
   ]
  },
  {
   "cell_type": "code",
   "execution_count": 5,
   "metadata": {},
   "outputs": [
    {
     "name": "stderr",
     "output_type": "stream",
     "text": [
      "\u001b[1mRows: \u001b[22m\u001b[34m59526\u001b[39m \u001b[1mColumns: \u001b[22m\u001b[34m17\u001b[39m\n",
      "\u001b[36m──\u001b[39m \u001b[1mColumn specification\u001b[22m \u001b[36m──────────────────────────────────────────────────────\u001b[39m\n",
      "\u001b[1mDelimiter:\u001b[22m \"\\t\"\n",
      "\u001b[31mchr\u001b[39m  (2): gene_id, transcript_id(s)\n",
      "\u001b[32mdbl\u001b[39m (15): length, effective_length, expected_count, TPM, FPKM, posterior_mea...\n",
      "\n",
      "\u001b[36mℹ\u001b[39m Use `spec()` to retrieve the full column specification for this data.\n",
      "\u001b[36mℹ\u001b[39m Specify the column types or set `show_col_types = FALSE` to quiet this message.\n"
     ]
    },
    {
     "name": "stdout",
     "output_type": "stream",
     "text": [
      "[1] 58780    19\n"
     ]
    },
    {
     "data": {
      "text/html": [
       "<table class=\"dataframe\">\n",
       "<caption>A tibble: 6 × 19</caption>\n",
       "<thead>\n",
       "\t<tr><th scope=col>gene_id</th><th scope=col>gene_id_stable</th><th scope=col>gene_id_version</th><th scope=col>transcript_id(s)</th><th scope=col>length</th><th scope=col>effective_length</th><th scope=col>expected_count</th><th scope=col>TPM</th><th scope=col>FPKM</th><th scope=col>posterior_mean_count</th><th scope=col>posterior_standard_deviation_of_count</th><th scope=col>pme_TPM</th><th scope=col>pme_FPKM</th><th scope=col>TPM_ci_lower_bound</th><th scope=col>TPM_ci_upper_bound</th><th scope=col>TPM_coefficient_of_quartile_variation</th><th scope=col>FPKM_ci_lower_bound</th><th scope=col>FPKM_ci_upper_bound</th><th scope=col>FPKM_coefficient_of_quartile_variation</th></tr>\n",
       "\t<tr><th scope=col>&lt;chr&gt;</th><th scope=col>&lt;chr&gt;</th><th scope=col>&lt;chr&gt;</th><th scope=col>&lt;chr&gt;</th><th scope=col>&lt;dbl&gt;</th><th scope=col>&lt;dbl&gt;</th><th scope=col>&lt;dbl&gt;</th><th scope=col>&lt;dbl&gt;</th><th scope=col>&lt;dbl&gt;</th><th scope=col>&lt;dbl&gt;</th><th scope=col>&lt;dbl&gt;</th><th scope=col>&lt;dbl&gt;</th><th scope=col>&lt;dbl&gt;</th><th scope=col>&lt;dbl&gt;</th><th scope=col>&lt;dbl&gt;</th><th scope=col>&lt;dbl&gt;</th><th scope=col>&lt;dbl&gt;</th><th scope=col>&lt;dbl&gt;</th><th scope=col>&lt;dbl&gt;</th></tr>\n",
       "</thead>\n",
       "<tbody>\n",
       "\t<tr><td>ENSG00000000003.14</td><td>ENSG00000000003</td><td>14</td><td>ENST00000373020.8,ENST00000494424.1,ENST00000496771.5,ENST00000612152.4,ENST00000614008.4                                                                         </td><td>1301.17</td><td>1202.17</td><td>   3</td><td> 0.05</td><td> 0.06</td><td>   3</td><td>0</td><td> 0.15</td><td> 0.18</td><td> 0.0483404</td><td> 0.267674</td><td>0.2698290</td><td> 0.0576847</td><td> 0.319259</td><td>0.2697760</td></tr>\n",
       "\t<tr><td>ENSG00000000005.5 </td><td>ENSG00000000005</td><td>5 </td><td>ENST00000373031.4,ENST00000485971.1                                                                                                                               </td><td>1339.00</td><td>1240.00</td><td>   2</td><td> 0.04</td><td> 0.04</td><td>   2</td><td>0</td><td> 0.10</td><td> 0.12</td><td> 0.0131108</td><td> 0.206532</td><td>0.3675880</td><td> 0.0156234</td><td> 0.246304</td><td>0.3673940</td></tr>\n",
       "\t<tr><td>ENSG00000000419.12</td><td>ENSG00000000419</td><td>12</td><td>ENST00000371582.8,ENST00000371584.8,ENST00000371588.9,ENST00000413082.1,ENST00000466152.5,ENST00000494752.1                                                       </td><td>1088.79</td><td> 989.79</td><td>1445</td><td>31.75</td><td>37.06</td><td>1445</td><td>0</td><td>31.32</td><td>37.34</td><td>29.6784000</td><td>32.995600</td><td>0.0182175</td><td>35.4191000</td><td>39.371700</td><td>0.0181676</td></tr>\n",
       "\t<tr><td>ENSG00000000457.13</td><td>ENSG00000000457</td><td>13</td><td>ENST00000367770.5,ENST00000367771.10,ENST00000367772.8,ENST00000423670.1,ENST00000470238.1                                                                        </td><td>3247.36</td><td>3148.36</td><td> 518</td><td> 3.58</td><td> 4.18</td><td> 518</td><td>0</td><td> 3.57</td><td> 4.26</td><td> 3.1935000</td><td> 3.951760</td><td>0.0364012</td><td> 3.7989900</td><td> 4.703760</td><td>0.0363830</td></tr>\n",
       "\t<tr><td>ENSG00000000460.16</td><td>ENSG00000000460</td><td>16</td><td>ENST00000286031.10,ENST00000359326.8,ENST00000413811.3,ENST00000459772.5,ENST00000466580.6,ENST00000472795.5,ENST00000481744.5,ENST00000496973.5,ENST00000498289.5</td><td>2223.30</td><td>2124.30</td><td>1588</td><td>16.26</td><td>18.97</td><td>1588</td><td>0</td><td>16.00</td><td>19.08</td><td>14.7507000</td><td>17.296500</td><td>0.0272134</td><td>17.5945000</td><td>20.630600</td><td>0.0271990</td></tr>\n",
       "\t<tr><td>ENSG00000000938.12</td><td>ENSG00000000938</td><td>12</td><td>ENST00000374003.7,ENST00000374004.5,ENST00000374005.7,ENST00000399173.5,ENST00000457296.5,ENST00000468038.1,ENST00000475472.5                                     </td><td>1891.31</td><td>1792.31</td><td>   4</td><td> 0.05</td><td> 0.06</td><td>   4</td><td>0</td><td> 0.18</td><td> 0.21</td><td> 0.0670923</td><td> 0.309123</td><td>0.2395950</td><td> 0.0800365</td><td> 0.368688</td><td>0.2396440</td></tr>\n",
       "</tbody>\n",
       "</table>\n"
      ],
      "text/latex": [
       "A tibble: 6 × 19\n",
       "\\begin{tabular}{lllllllllllllllllll}\n",
       " gene\\_id & gene\\_id\\_stable & gene\\_id\\_version & transcript\\_id(s) & length & effective\\_length & expected\\_count & TPM & FPKM & posterior\\_mean\\_count & posterior\\_standard\\_deviation\\_of\\_count & pme\\_TPM & pme\\_FPKM & TPM\\_ci\\_lower\\_bound & TPM\\_ci\\_upper\\_bound & TPM\\_coefficient\\_of\\_quartile\\_variation & FPKM\\_ci\\_lower\\_bound & FPKM\\_ci\\_upper\\_bound & FPKM\\_coefficient\\_of\\_quartile\\_variation\\\\\n",
       " <chr> & <chr> & <chr> & <chr> & <dbl> & <dbl> & <dbl> & <dbl> & <dbl> & <dbl> & <dbl> & <dbl> & <dbl> & <dbl> & <dbl> & <dbl> & <dbl> & <dbl> & <dbl>\\\\\n",
       "\\hline\n",
       "\t ENSG00000000003.14 & ENSG00000000003 & 14 & ENST00000373020.8,ENST00000494424.1,ENST00000496771.5,ENST00000612152.4,ENST00000614008.4                                                                          & 1301.17 & 1202.17 &    3 &  0.05 &  0.06 &    3 & 0 &  0.15 &  0.18 &  0.0483404 &  0.267674 & 0.2698290 &  0.0576847 &  0.319259 & 0.2697760\\\\\n",
       "\t ENSG00000000005.5  & ENSG00000000005 & 5  & ENST00000373031.4,ENST00000485971.1                                                                                                                                & 1339.00 & 1240.00 &    2 &  0.04 &  0.04 &    2 & 0 &  0.10 &  0.12 &  0.0131108 &  0.206532 & 0.3675880 &  0.0156234 &  0.246304 & 0.3673940\\\\\n",
       "\t ENSG00000000419.12 & ENSG00000000419 & 12 & ENST00000371582.8,ENST00000371584.8,ENST00000371588.9,ENST00000413082.1,ENST00000466152.5,ENST00000494752.1                                                        & 1088.79 &  989.79 & 1445 & 31.75 & 37.06 & 1445 & 0 & 31.32 & 37.34 & 29.6784000 & 32.995600 & 0.0182175 & 35.4191000 & 39.371700 & 0.0181676\\\\\n",
       "\t ENSG00000000457.13 & ENSG00000000457 & 13 & ENST00000367770.5,ENST00000367771.10,ENST00000367772.8,ENST00000423670.1,ENST00000470238.1                                                                         & 3247.36 & 3148.36 &  518 &  3.58 &  4.18 &  518 & 0 &  3.57 &  4.26 &  3.1935000 &  3.951760 & 0.0364012 &  3.7989900 &  4.703760 & 0.0363830\\\\\n",
       "\t ENSG00000000460.16 & ENSG00000000460 & 16 & ENST00000286031.10,ENST00000359326.8,ENST00000413811.3,ENST00000459772.5,ENST00000466580.6,ENST00000472795.5,ENST00000481744.5,ENST00000496973.5,ENST00000498289.5 & 2223.30 & 2124.30 & 1588 & 16.26 & 18.97 & 1588 & 0 & 16.00 & 19.08 & 14.7507000 & 17.296500 & 0.0272134 & 17.5945000 & 20.630600 & 0.0271990\\\\\n",
       "\t ENSG00000000938.12 & ENSG00000000938 & 12 & ENST00000374003.7,ENST00000374004.5,ENST00000374005.7,ENST00000399173.5,ENST00000457296.5,ENST00000468038.1,ENST00000475472.5                                      & 1891.31 & 1792.31 &    4 &  0.05 &  0.06 &    4 & 0 &  0.18 &  0.21 &  0.0670923 &  0.309123 & 0.2395950 &  0.0800365 &  0.368688 & 0.2396440\\\\\n",
       "\\end{tabular}\n"
      ],
      "text/markdown": [
       "\n",
       "A tibble: 6 × 19\n",
       "\n",
       "| gene_id &lt;chr&gt; | gene_id_stable &lt;chr&gt; | gene_id_version &lt;chr&gt; | transcript_id(s) &lt;chr&gt; | length &lt;dbl&gt; | effective_length &lt;dbl&gt; | expected_count &lt;dbl&gt; | TPM &lt;dbl&gt; | FPKM &lt;dbl&gt; | posterior_mean_count &lt;dbl&gt; | posterior_standard_deviation_of_count &lt;dbl&gt; | pme_TPM &lt;dbl&gt; | pme_FPKM &lt;dbl&gt; | TPM_ci_lower_bound &lt;dbl&gt; | TPM_ci_upper_bound &lt;dbl&gt; | TPM_coefficient_of_quartile_variation &lt;dbl&gt; | FPKM_ci_lower_bound &lt;dbl&gt; | FPKM_ci_upper_bound &lt;dbl&gt; | FPKM_coefficient_of_quartile_variation &lt;dbl&gt; |\n",
       "|---|---|---|---|---|---|---|---|---|---|---|---|---|---|---|---|---|---|---|\n",
       "| ENSG00000000003.14 | ENSG00000000003 | 14 | ENST00000373020.8,ENST00000494424.1,ENST00000496771.5,ENST00000612152.4,ENST00000614008.4                                                                          | 1301.17 | 1202.17 |    3 |  0.05 |  0.06 |    3 | 0 |  0.15 |  0.18 |  0.0483404 |  0.267674 | 0.2698290 |  0.0576847 |  0.319259 | 0.2697760 |\n",
       "| ENSG00000000005.5  | ENSG00000000005 | 5  | ENST00000373031.4,ENST00000485971.1                                                                                                                                | 1339.00 | 1240.00 |    2 |  0.04 |  0.04 |    2 | 0 |  0.10 |  0.12 |  0.0131108 |  0.206532 | 0.3675880 |  0.0156234 |  0.246304 | 0.3673940 |\n",
       "| ENSG00000000419.12 | ENSG00000000419 | 12 | ENST00000371582.8,ENST00000371584.8,ENST00000371588.9,ENST00000413082.1,ENST00000466152.5,ENST00000494752.1                                                        | 1088.79 |  989.79 | 1445 | 31.75 | 37.06 | 1445 | 0 | 31.32 | 37.34 | 29.6784000 | 32.995600 | 0.0182175 | 35.4191000 | 39.371700 | 0.0181676 |\n",
       "| ENSG00000000457.13 | ENSG00000000457 | 13 | ENST00000367770.5,ENST00000367771.10,ENST00000367772.8,ENST00000423670.1,ENST00000470238.1                                                                         | 3247.36 | 3148.36 |  518 |  3.58 |  4.18 |  518 | 0 |  3.57 |  4.26 |  3.1935000 |  3.951760 | 0.0364012 |  3.7989900 |  4.703760 | 0.0363830 |\n",
       "| ENSG00000000460.16 | ENSG00000000460 | 16 | ENST00000286031.10,ENST00000359326.8,ENST00000413811.3,ENST00000459772.5,ENST00000466580.6,ENST00000472795.5,ENST00000481744.5,ENST00000496973.5,ENST00000498289.5 | 2223.30 | 2124.30 | 1588 | 16.26 | 18.97 | 1588 | 0 | 16.00 | 19.08 | 14.7507000 | 17.296500 | 0.0272134 | 17.5945000 | 20.630600 | 0.0271990 |\n",
       "| ENSG00000000938.12 | ENSG00000000938 | 12 | ENST00000374003.7,ENST00000374004.5,ENST00000374005.7,ENST00000399173.5,ENST00000457296.5,ENST00000468038.1,ENST00000475472.5                                      | 1891.31 | 1792.31 |    4 |  0.05 |  0.06 |    4 | 0 |  0.18 |  0.21 |  0.0670923 |  0.309123 | 0.2395950 |  0.0800365 |  0.368688 | 0.2396440 |\n",
       "\n"
      ],
      "text/plain": [
       "  gene_id            gene_id_stable  gene_id_version\n",
       "1 ENSG00000000003.14 ENSG00000000003 14             \n",
       "2 ENSG00000000005.5  ENSG00000000005 5              \n",
       "3 ENSG00000000419.12 ENSG00000000419 12             \n",
       "4 ENSG00000000457.13 ENSG00000000457 13             \n",
       "5 ENSG00000000460.16 ENSG00000000460 16             \n",
       "6 ENSG00000000938.12 ENSG00000000938 12             \n",
       "  transcript_id(s)                                                                                                                                                  \n",
       "1 ENST00000373020.8,ENST00000494424.1,ENST00000496771.5,ENST00000612152.4,ENST00000614008.4                                                                         \n",
       "2 ENST00000373031.4,ENST00000485971.1                                                                                                                               \n",
       "3 ENST00000371582.8,ENST00000371584.8,ENST00000371588.9,ENST00000413082.1,ENST00000466152.5,ENST00000494752.1                                                       \n",
       "4 ENST00000367770.5,ENST00000367771.10,ENST00000367772.8,ENST00000423670.1,ENST00000470238.1                                                                        \n",
       "5 ENST00000286031.10,ENST00000359326.8,ENST00000413811.3,ENST00000459772.5,ENST00000466580.6,ENST00000472795.5,ENST00000481744.5,ENST00000496973.5,ENST00000498289.5\n",
       "6 ENST00000374003.7,ENST00000374004.5,ENST00000374005.7,ENST00000399173.5,ENST00000457296.5,ENST00000468038.1,ENST00000475472.5                                     \n",
       "  length  effective_length expected_count TPM   FPKM  posterior_mean_count\n",
       "1 1301.17 1202.17             3            0.05  0.06    3                \n",
       "2 1339.00 1240.00             2            0.04  0.04    2                \n",
       "3 1088.79  989.79          1445           31.75 37.06 1445                \n",
       "4 3247.36 3148.36           518            3.58  4.18  518                \n",
       "5 2223.30 2124.30          1588           16.26 18.97 1588                \n",
       "6 1891.31 1792.31             4            0.05  0.06    4                \n",
       "  posterior_standard_deviation_of_count pme_TPM pme_FPKM TPM_ci_lower_bound\n",
       "1 0                                      0.15    0.18     0.0483404        \n",
       "2 0                                      0.10    0.12     0.0131108        \n",
       "3 0                                     31.32   37.34    29.6784000        \n",
       "4 0                                      3.57    4.26     3.1935000        \n",
       "5 0                                     16.00   19.08    14.7507000        \n",
       "6 0                                      0.18    0.21     0.0670923        \n",
       "  TPM_ci_upper_bound TPM_coefficient_of_quartile_variation FPKM_ci_lower_bound\n",
       "1  0.267674          0.2698290                              0.0576847         \n",
       "2  0.206532          0.3675880                              0.0156234         \n",
       "3 32.995600          0.0182175                             35.4191000         \n",
       "4  3.951760          0.0364012                              3.7989900         \n",
       "5 17.296500          0.0272134                             17.5945000         \n",
       "6  0.309123          0.2395950                              0.0800365         \n",
       "  FPKM_ci_upper_bound FPKM_coefficient_of_quartile_variation\n",
       "1  0.319259           0.2697760                             \n",
       "2  0.246304           0.3673940                             \n",
       "3 39.371700           0.0181676                             \n",
       "4  4.703760           0.0363830                             \n",
       "5 20.630600           0.0271990                             \n",
       "6  0.368688           0.2396440                             "
      ]
     },
     "metadata": {},
     "output_type": "display_data"
    }
   ],
   "source": [
    "fdiry = file.path(FD_RES, \"source\", \"RNAseq\")\n",
    "fname = \"K562.ENCSR615EEK.ENCFF421TJX.RNAseq.tsv\"\n",
    "fpath = file.path(fdiry, fname)\n",
    "\n",
    "dat = read_tsv(fpath)\n",
    "dat = dat %>% \n",
    "    dplyr::filter(str_detect(gene_id, \"ENS\")) %>% \n",
    "    tidyr::separate(gene_id, c(\"gene_id_stable\", \"gene_id_version\"), sep=\"\\\\.\", remove = FALSE)\n",
    "\n",
    "dat_rnaseq_expression = dat\n",
    "print(dim(dat))\n",
    "head(dat)"
   ]
  },
  {
   "cell_type": "markdown",
   "metadata": {},
   "source": [
    "## Export gene id"
   ]
  },
  {
   "cell_type": "code",
   "execution_count": 7,
   "metadata": {},
   "outputs": [
    {
     "name": "stdout",
     "output_type": "stream",
     "text": [
      "[1] 58735     1\n"
     ]
    }
   ],
   "source": [
    "###\n",
    "dat = dat_rnaseq_expression\n",
    "dat = dat %>% dplyr::select(gene_id_stable) %>% dplyr::distinct()\n",
    "print(dim(dat))\n",
    "\n",
    "###\n",
    "fdiry = file.path(FD_RES, \"source\", \"RNAseq\")\n",
    "fname = \"K562.ENCSR615EEK.ENCFF421TJX.RNAseq.gene_id_stable.txt\"\n",
    "fpath = file.path(fdiry, fname)\n",
    "\n",
    "write_tsv(dat, fpath, col_names = FALSE)"
   ]
  },
  {
   "cell_type": "markdown",
   "metadata": {},
   "source": [
    "## Import gene id mapping"
   ]
  },
  {
   "cell_type": "code",
   "execution_count": 34,
   "metadata": {},
   "outputs": [
    {
     "name": "stderr",
     "output_type": "stream",
     "text": [
      "\u001b[1mRows: \u001b[22m\u001b[34m558006\u001b[39m \u001b[1mColumns: \u001b[22m\u001b[34m6\u001b[39m\n",
      "\u001b[36m──\u001b[39m \u001b[1mColumn specification\u001b[22m \u001b[36m──────────────────────────────────────────────────────\u001b[39m\n",
      "\u001b[1mDelimiter:\u001b[22m \"\\t\"\n",
      "\u001b[31mchr\u001b[39m (6): Gene stable ID, Gene stable ID version, Transcript stable ID, Trans...\n",
      "\n",
      "\u001b[36mℹ\u001b[39m Use `spec()` to retrieve the full column specification for this data.\n",
      "\u001b[36mℹ\u001b[39m Specify the column types or set `show_col_types = FALSE` to quiet this message.\n"
     ]
    },
    {
     "name": "stdout",
     "output_type": "stream",
     "text": [
      "[1] 558006      6\n"
     ]
    },
    {
     "data": {
      "text/html": [
       "<table class=\"dataframe\">\n",
       "<caption>A tibble: 6 × 6</caption>\n",
       "<thead>\n",
       "\t<tr><th scope=col>Gene_Stable_ID</th><th scope=col>Gene_Stable_ID_Version</th><th scope=col>Transcript_Stable_ID</th><th scope=col>Transcript_Stable_ID_Version</th><th scope=col>Gene_Name</th><th scope=col>Gene_Synonym</th></tr>\n",
       "\t<tr><th scope=col>&lt;chr&gt;</th><th scope=col>&lt;chr&gt;</th><th scope=col>&lt;chr&gt;</th><th scope=col>&lt;chr&gt;</th><th scope=col>&lt;chr&gt;</th><th scope=col>&lt;chr&gt;</th></tr>\n",
       "</thead>\n",
       "<tbody>\n",
       "\t<tr><td>ENSG00000125863</td><td>ENSG00000125863.20</td><td>ENST00000347364</td><td>ENST00000347364.7</td><td>MKKS</td><td>BBS6</td></tr>\n",
       "\t<tr><td>ENSG00000125863</td><td>ENSG00000125863.20</td><td>ENST00000651692</td><td>ENST00000651692.1</td><td>MKKS</td><td>BBS6</td></tr>\n",
       "\t<tr><td>ENSG00000125863</td><td>ENSG00000125863.20</td><td>ENST00000652676</td><td>ENST00000652676.1</td><td>MKKS</td><td>BBS6</td></tr>\n",
       "\t<tr><td>ENSG00000125863</td><td>ENSG00000125863.20</td><td>ENST00000399054</td><td>ENST00000399054.6</td><td>MKKS</td><td>BBS6</td></tr>\n",
       "\t<tr><td>ENSG00000285508</td><td>ENSG00000285508.1 </td><td>ENST00000609375</td><td>ENST00000609375.1</td><td>MKKS</td><td>BBS6</td></tr>\n",
       "\t<tr><td>ENSG00000285723</td><td>ENSG00000285723.1 </td><td>ENST00000649912</td><td>ENST00000649912.1</td><td>MKKS</td><td>BBS6</td></tr>\n",
       "</tbody>\n",
       "</table>\n"
      ],
      "text/latex": [
       "A tibble: 6 × 6\n",
       "\\begin{tabular}{llllll}\n",
       " Gene\\_Stable\\_ID & Gene\\_Stable\\_ID\\_Version & Transcript\\_Stable\\_ID & Transcript\\_Stable\\_ID\\_Version & Gene\\_Name & Gene\\_Synonym\\\\\n",
       " <chr> & <chr> & <chr> & <chr> & <chr> & <chr>\\\\\n",
       "\\hline\n",
       "\t ENSG00000125863 & ENSG00000125863.20 & ENST00000347364 & ENST00000347364.7 & MKKS & BBS6\\\\\n",
       "\t ENSG00000125863 & ENSG00000125863.20 & ENST00000651692 & ENST00000651692.1 & MKKS & BBS6\\\\\n",
       "\t ENSG00000125863 & ENSG00000125863.20 & ENST00000652676 & ENST00000652676.1 & MKKS & BBS6\\\\\n",
       "\t ENSG00000125863 & ENSG00000125863.20 & ENST00000399054 & ENST00000399054.6 & MKKS & BBS6\\\\\n",
       "\t ENSG00000285508 & ENSG00000285508.1  & ENST00000609375 & ENST00000609375.1 & MKKS & BBS6\\\\\n",
       "\t ENSG00000285723 & ENSG00000285723.1  & ENST00000649912 & ENST00000649912.1 & MKKS & BBS6\\\\\n",
       "\\end{tabular}\n"
      ],
      "text/markdown": [
       "\n",
       "A tibble: 6 × 6\n",
       "\n",
       "| Gene_Stable_ID &lt;chr&gt; | Gene_Stable_ID_Version &lt;chr&gt; | Transcript_Stable_ID &lt;chr&gt; | Transcript_Stable_ID_Version &lt;chr&gt; | Gene_Name &lt;chr&gt; | Gene_Synonym &lt;chr&gt; |\n",
       "|---|---|---|---|---|---|\n",
       "| ENSG00000125863 | ENSG00000125863.20 | ENST00000347364 | ENST00000347364.7 | MKKS | BBS6 |\n",
       "| ENSG00000125863 | ENSG00000125863.20 | ENST00000651692 | ENST00000651692.1 | MKKS | BBS6 |\n",
       "| ENSG00000125863 | ENSG00000125863.20 | ENST00000652676 | ENST00000652676.1 | MKKS | BBS6 |\n",
       "| ENSG00000125863 | ENSG00000125863.20 | ENST00000399054 | ENST00000399054.6 | MKKS | BBS6 |\n",
       "| ENSG00000285508 | ENSG00000285508.1  | ENST00000609375 | ENST00000609375.1 | MKKS | BBS6 |\n",
       "| ENSG00000285723 | ENSG00000285723.1  | ENST00000649912 | ENST00000649912.1 | MKKS | BBS6 |\n",
       "\n"
      ],
      "text/plain": [
       "  Gene_Stable_ID  Gene_Stable_ID_Version Transcript_Stable_ID\n",
       "1 ENSG00000125863 ENSG00000125863.20     ENST00000347364     \n",
       "2 ENSG00000125863 ENSG00000125863.20     ENST00000651692     \n",
       "3 ENSG00000125863 ENSG00000125863.20     ENST00000652676     \n",
       "4 ENSG00000125863 ENSG00000125863.20     ENST00000399054     \n",
       "5 ENSG00000285508 ENSG00000285508.1      ENST00000609375     \n",
       "6 ENSG00000285723 ENSG00000285723.1      ENST00000649912     \n",
       "  Transcript_Stable_ID_Version Gene_Name Gene_Synonym\n",
       "1 ENST00000347364.7            MKKS      BBS6        \n",
       "2 ENST00000651692.1            MKKS      BBS6        \n",
       "3 ENST00000652676.1            MKKS      BBS6        \n",
       "4 ENST00000399054.6            MKKS      BBS6        \n",
       "5 ENST00000609375.1            MKKS      BBS6        \n",
       "6 ENST00000649912.1            MKKS      BBS6        "
      ]
     },
     "metadata": {},
     "output_type": "display_data"
    }
   ],
   "source": [
    "fdiry = file.path(FD_RES, \"source\", \"RNAseq\")\n",
    "fname = \"table_gene_stable_id2name.GRCh38.p14.tsv\"\n",
    "fpath = file.path(fdiry, fname)\n",
    "\n",
    "dat = read_tsv(fpath)\n",
    "colnames(dat) = c(\n",
    "    \"Gene_Stable_ID\", \n",
    "    \"Gene_Stable_ID_Version\",\n",
    "    \"Transcript_Stable_ID\", \n",
    "    \"Transcript_Stable_ID_Version\",\n",
    "    \"Gene_Name\",\n",
    "    \"Gene_Synonym\"\n",
    ")\n",
    "\n",
    "dat_gene_id_map = dat\n",
    "print(dim(dat))\n",
    "head(dat)"
   ]
  },
  {
   "cell_type": "markdown",
   "metadata": {},
   "source": [
    "## Explore the proportion of mapping"
   ]
  },
  {
   "cell_type": "code",
   "execution_count": 35,
   "metadata": {},
   "outputs": [
    {
     "name": "stdout",
     "output_type": "stream",
     "text": [
      "[1] 58735\n",
      "[1] 13139\n",
      "[1] 58261\n",
      "[1] 13067\n"
     ]
    }
   ],
   "source": [
    "dat = dat_rnaseq_expression\n",
    "vec = dat$gene_id_stable\n",
    "vec = unique(vec)\n",
    "print(length(vec))\n",
    "vec_txt_gene_total = vec\n",
    "\n",
    "dat = dat %>% dplyr::filter(TPM > 1)\n",
    "vec = dat$gene_id_stable\n",
    "vec = unique(vec)\n",
    "print(length(vec))\n",
    "vec_txt_gene_filter = vec\n",
    "\n",
    "dat = dat_gene_id_map\n",
    "vec = dat$Gene_Stable_ID\n",
    "vec = unique(vec)\n",
    "print(length(vec))\n",
    "vec_txt_gene_map = vec\n",
    "\n",
    "vec = intersect(\n",
    "    vec_txt_gene_filter, \n",
    "    vec_txt_gene_map)\n",
    "print(length(vec))"
   ]
  },
  {
   "cell_type": "markdown",
   "metadata": {},
   "source": [
    "## Get the filtered RNAseq gene"
   ]
  },
  {
   "cell_type": "code",
   "execution_count": 37,
   "metadata": {},
   "outputs": [
    {
     "name": "stdout",
     "output_type": "stream",
     "text": [
      "[1] 13139     5\n"
     ]
    },
    {
     "data": {
      "text/html": [
       "<table class=\"dataframe\">\n",
       "<caption>A tibble: 6 × 5</caption>\n",
       "<thead>\n",
       "\t<tr><th scope=col>Gene_Stable_ID_Version</th><th scope=col>Gene_Stable_ID</th><th scope=col>Transcript_Stable_ID_Version</th><th scope=col>Length</th><th scope=col>TPM</th></tr>\n",
       "\t<tr><th scope=col>&lt;chr&gt;</th><th scope=col>&lt;chr&gt;</th><th scope=col>&lt;chr&gt;</th><th scope=col>&lt;dbl&gt;</th><th scope=col>&lt;dbl&gt;</th></tr>\n",
       "</thead>\n",
       "<tbody>\n",
       "\t<tr><td>ENSG00000000419.12</td><td>ENSG00000000419</td><td>ENST00000371582.8,ENST00000371584.8,ENST00000371588.9,ENST00000413082.1,ENST00000466152.5,ENST00000494752.1                                                                                                                                                                   </td><td>1088.79</td><td>31.75</td></tr>\n",
       "\t<tr><td>ENSG00000000457.13</td><td>ENSG00000000457</td><td>ENST00000367770.5,ENST00000367771.10,ENST00000367772.8,ENST00000423670.1,ENST00000470238.1                                                                                                                                                                                    </td><td>3247.36</td><td> 3.58</td></tr>\n",
       "\t<tr><td>ENSG00000000460.16</td><td>ENSG00000000460</td><td>ENST00000286031.10,ENST00000359326.8,ENST00000413811.3,ENST00000459772.5,ENST00000466580.6,ENST00000472795.5,ENST00000481744.5,ENST00000496973.5,ENST00000498289.5                                                                                                            </td><td>2223.30</td><td>16.26</td></tr>\n",
       "\t<tr><td>ENSG00000000971.15</td><td>ENSG00000000971</td><td>ENST00000359637.2,ENST00000367429.8,ENST00000466229.5,ENST00000470918.1,ENST00000496761.1,ENST00000630130.2                                                                                                                                                                   </td><td>2589.40</td><td>18.95</td></tr>\n",
       "\t<tr><td>ENSG00000001036.13</td><td>ENSG00000001036</td><td>ENST00000002165.10,ENST00000367585.1,ENST00000451668.1                                                                                                                                                                                                                        </td><td>1827.22</td><td>48.00</td></tr>\n",
       "\t<tr><td>ENSG00000001084.12</td><td>ENSG00000001084</td><td>ENST00000229416.10,ENST00000504353.1,ENST00000504525.1,ENST00000505197.1,ENST00000505294.5,ENST00000509541.5,ENST00000510837.5,ENST00000513939.6,ENST00000514004.5,ENST00000514373.3,ENST00000514933.2,ENST00000515580.1,ENST00000616923.5,ENST00000643939.1,ENST00000650454.1</td><td>2444.45</td><td> 6.20</td></tr>\n",
       "</tbody>\n",
       "</table>\n"
      ],
      "text/latex": [
       "A tibble: 6 × 5\n",
       "\\begin{tabular}{lllll}\n",
       " Gene\\_Stable\\_ID\\_Version & Gene\\_Stable\\_ID & Transcript\\_Stable\\_ID\\_Version & Length & TPM\\\\\n",
       " <chr> & <chr> & <chr> & <dbl> & <dbl>\\\\\n",
       "\\hline\n",
       "\t ENSG00000000419.12 & ENSG00000000419 & ENST00000371582.8,ENST00000371584.8,ENST00000371588.9,ENST00000413082.1,ENST00000466152.5,ENST00000494752.1                                                                                                                                                                    & 1088.79 & 31.75\\\\\n",
       "\t ENSG00000000457.13 & ENSG00000000457 & ENST00000367770.5,ENST00000367771.10,ENST00000367772.8,ENST00000423670.1,ENST00000470238.1                                                                                                                                                                                     & 3247.36 &  3.58\\\\\n",
       "\t ENSG00000000460.16 & ENSG00000000460 & ENST00000286031.10,ENST00000359326.8,ENST00000413811.3,ENST00000459772.5,ENST00000466580.6,ENST00000472795.5,ENST00000481744.5,ENST00000496973.5,ENST00000498289.5                                                                                                             & 2223.30 & 16.26\\\\\n",
       "\t ENSG00000000971.15 & ENSG00000000971 & ENST00000359637.2,ENST00000367429.8,ENST00000466229.5,ENST00000470918.1,ENST00000496761.1,ENST00000630130.2                                                                                                                                                                    & 2589.40 & 18.95\\\\\n",
       "\t ENSG00000001036.13 & ENSG00000001036 & ENST00000002165.10,ENST00000367585.1,ENST00000451668.1                                                                                                                                                                                                                         & 1827.22 & 48.00\\\\\n",
       "\t ENSG00000001084.12 & ENSG00000001084 & ENST00000229416.10,ENST00000504353.1,ENST00000504525.1,ENST00000505197.1,ENST00000505294.5,ENST00000509541.5,ENST00000510837.5,ENST00000513939.6,ENST00000514004.5,ENST00000514373.3,ENST00000514933.2,ENST00000515580.1,ENST00000616923.5,ENST00000643939.1,ENST00000650454.1 & 2444.45 &  6.20\\\\\n",
       "\\end{tabular}\n"
      ],
      "text/markdown": [
       "\n",
       "A tibble: 6 × 5\n",
       "\n",
       "| Gene_Stable_ID_Version &lt;chr&gt; | Gene_Stable_ID &lt;chr&gt; | Transcript_Stable_ID_Version &lt;chr&gt; | Length &lt;dbl&gt; | TPM &lt;dbl&gt; |\n",
       "|---|---|---|---|---|\n",
       "| ENSG00000000419.12 | ENSG00000000419 | ENST00000371582.8,ENST00000371584.8,ENST00000371588.9,ENST00000413082.1,ENST00000466152.5,ENST00000494752.1                                                                                                                                                                    | 1088.79 | 31.75 |\n",
       "| ENSG00000000457.13 | ENSG00000000457 | ENST00000367770.5,ENST00000367771.10,ENST00000367772.8,ENST00000423670.1,ENST00000470238.1                                                                                                                                                                                     | 3247.36 |  3.58 |\n",
       "| ENSG00000000460.16 | ENSG00000000460 | ENST00000286031.10,ENST00000359326.8,ENST00000413811.3,ENST00000459772.5,ENST00000466580.6,ENST00000472795.5,ENST00000481744.5,ENST00000496973.5,ENST00000498289.5                                                                                                             | 2223.30 | 16.26 |\n",
       "| ENSG00000000971.15 | ENSG00000000971 | ENST00000359637.2,ENST00000367429.8,ENST00000466229.5,ENST00000470918.1,ENST00000496761.1,ENST00000630130.2                                                                                                                                                                    | 2589.40 | 18.95 |\n",
       "| ENSG00000001036.13 | ENSG00000001036 | ENST00000002165.10,ENST00000367585.1,ENST00000451668.1                                                                                                                                                                                                                         | 1827.22 | 48.00 |\n",
       "| ENSG00000001084.12 | ENSG00000001084 | ENST00000229416.10,ENST00000504353.1,ENST00000504525.1,ENST00000505197.1,ENST00000505294.5,ENST00000509541.5,ENST00000510837.5,ENST00000513939.6,ENST00000514004.5,ENST00000514373.3,ENST00000514933.2,ENST00000515580.1,ENST00000616923.5,ENST00000643939.1,ENST00000650454.1 | 2444.45 |  6.20 |\n",
       "\n"
      ],
      "text/plain": [
       "  Gene_Stable_ID_Version Gene_Stable_ID \n",
       "1 ENSG00000000419.12     ENSG00000000419\n",
       "2 ENSG00000000457.13     ENSG00000000457\n",
       "3 ENSG00000000460.16     ENSG00000000460\n",
       "4 ENSG00000000971.15     ENSG00000000971\n",
       "5 ENSG00000001036.13     ENSG00000001036\n",
       "6 ENSG00000001084.12     ENSG00000001084\n",
       "  Transcript_Stable_ID_Version                                                                                                                                                                                                                                                  \n",
       "1 ENST00000371582.8,ENST00000371584.8,ENST00000371588.9,ENST00000413082.1,ENST00000466152.5,ENST00000494752.1                                                                                                                                                                   \n",
       "2 ENST00000367770.5,ENST00000367771.10,ENST00000367772.8,ENST00000423670.1,ENST00000470238.1                                                                                                                                                                                    \n",
       "3 ENST00000286031.10,ENST00000359326.8,ENST00000413811.3,ENST00000459772.5,ENST00000466580.6,ENST00000472795.5,ENST00000481744.5,ENST00000496973.5,ENST00000498289.5                                                                                                            \n",
       "4 ENST00000359637.2,ENST00000367429.8,ENST00000466229.5,ENST00000470918.1,ENST00000496761.1,ENST00000630130.2                                                                                                                                                                   \n",
       "5 ENST00000002165.10,ENST00000367585.1,ENST00000451668.1                                                                                                                                                                                                                        \n",
       "6 ENST00000229416.10,ENST00000504353.1,ENST00000504525.1,ENST00000505197.1,ENST00000505294.5,ENST00000509541.5,ENST00000510837.5,ENST00000513939.6,ENST00000514004.5,ENST00000514373.3,ENST00000514933.2,ENST00000515580.1,ENST00000616923.5,ENST00000643939.1,ENST00000650454.1\n",
       "  Length  TPM  \n",
       "1 1088.79 31.75\n",
       "2 3247.36  3.58\n",
       "3 2223.30 16.26\n",
       "4 2589.40 18.95\n",
       "5 1827.22 48.00\n",
       "6 2444.45  6.20"
      ]
     },
     "metadata": {},
     "output_type": "display_data"
    }
   ],
   "source": [
    "dat = dat_rnaseq_expression\n",
    "dat = dat %>% \n",
    "    dplyr::filter(TPM > 1) %>% \n",
    "    dplyr::select(\n",
    "        `gene_id`, \n",
    "        `gene_id_stable`,\n",
    "        `transcript_id(s)`,\n",
    "        `length`,\n",
    "        `TPM`) %>%\n",
    "    dplyr::distinct()\n",
    "\n",
    "colnames(dat) = c(\n",
    "    \"Gene_Stable_ID_Version\",\n",
    "    \"Gene_Stable_ID\", \n",
    "    \"Transcript_Stable_ID_Version\",\n",
    "    \"Length\",\n",
    "    \"TPM\")\n",
    "\n",
    "dat_rnaseq_gene_filter = dat\n",
    "print(dim(dat))\n",
    "head(dat)"
   ]
  },
  {
   "cell_type": "code",
   "execution_count": 42,
   "metadata": {},
   "outputs": [
    {
     "name": "stdout",
     "output_type": "stream",
     "text": [
      "[1] 30925     7\n",
      "[1] 13067\n"
     ]
    },
    {
     "data": {
      "text/html": [
       "<table class=\"dataframe\">\n",
       "<caption>A tibble: 6 × 7</caption>\n",
       "<thead>\n",
       "\t<tr><th scope=col>Gene_Stable_ID</th><th scope=col>Gene_Stable_ID_Version</th><th scope=col>Gene_Name</th><th scope=col>Gene_Synonym</th><th scope=col>Transcript_Stable_ID_Version</th><th scope=col>Length</th><th scope=col>TPM</th></tr>\n",
       "\t<tr><th scope=col>&lt;chr&gt;</th><th scope=col>&lt;chr&gt;</th><th scope=col>&lt;chr&gt;</th><th scope=col>&lt;chr&gt;</th><th scope=col>&lt;chr&gt;</th><th scope=col>&lt;dbl&gt;</th><th scope=col>&lt;dbl&gt;</th></tr>\n",
       "</thead>\n",
       "<tbody>\n",
       "\t<tr><td>ENSG00000125863</td><td>ENSG00000125863.19</td><td>MKKS</td><td>BBS6</td><td>ENST00000347364.7,ENST00000399054.6</td><td>2710.75</td><td> 4.04</td></tr>\n",
       "\t<tr><td>ENSG00000285508</td><td>ENSG00000285508.1 </td><td>MKKS</td><td>BBS6</td><td>ENST00000609375.1                  </td><td> 882.00</td><td> 5.05</td></tr>\n",
       "\t<tr><td>ENSG00000285723</td><td>ENSG00000285723.1 </td><td>MKKS</td><td>BBS6</td><td>ENST00000649912.1                  </td><td> 192.00</td><td>21.39</td></tr>\n",
       "\t<tr><td>ENSG00000125863</td><td>ENSG00000125863.19</td><td>MKKS</td><td>HMCS</td><td>ENST00000347364.7,ENST00000399054.6</td><td>2710.75</td><td> 4.04</td></tr>\n",
       "\t<tr><td>ENSG00000285508</td><td>ENSG00000285508.1 </td><td>MKKS</td><td>HMCS</td><td>ENST00000609375.1                  </td><td> 882.00</td><td> 5.05</td></tr>\n",
       "\t<tr><td>ENSG00000285723</td><td>ENSG00000285723.1 </td><td>MKKS</td><td>HMCS</td><td>ENST00000649912.1                  </td><td> 192.00</td><td>21.39</td></tr>\n",
       "</tbody>\n",
       "</table>\n"
      ],
      "text/latex": [
       "A tibble: 6 × 7\n",
       "\\begin{tabular}{lllllll}\n",
       " Gene\\_Stable\\_ID & Gene\\_Stable\\_ID\\_Version & Gene\\_Name & Gene\\_Synonym & Transcript\\_Stable\\_ID\\_Version & Length & TPM\\\\\n",
       " <chr> & <chr> & <chr> & <chr> & <chr> & <dbl> & <dbl>\\\\\n",
       "\\hline\n",
       "\t ENSG00000125863 & ENSG00000125863.19 & MKKS & BBS6 & ENST00000347364.7,ENST00000399054.6 & 2710.75 &  4.04\\\\\n",
       "\t ENSG00000285508 & ENSG00000285508.1  & MKKS & BBS6 & ENST00000609375.1                   &  882.00 &  5.05\\\\\n",
       "\t ENSG00000285723 & ENSG00000285723.1  & MKKS & BBS6 & ENST00000649912.1                   &  192.00 & 21.39\\\\\n",
       "\t ENSG00000125863 & ENSG00000125863.19 & MKKS & HMCS & ENST00000347364.7,ENST00000399054.6 & 2710.75 &  4.04\\\\\n",
       "\t ENSG00000285508 & ENSG00000285508.1  & MKKS & HMCS & ENST00000609375.1                   &  882.00 &  5.05\\\\\n",
       "\t ENSG00000285723 & ENSG00000285723.1  & MKKS & HMCS & ENST00000649912.1                   &  192.00 & 21.39\\\\\n",
       "\\end{tabular}\n"
      ],
      "text/markdown": [
       "\n",
       "A tibble: 6 × 7\n",
       "\n",
       "| Gene_Stable_ID &lt;chr&gt; | Gene_Stable_ID_Version &lt;chr&gt; | Gene_Name &lt;chr&gt; | Gene_Synonym &lt;chr&gt; | Transcript_Stable_ID_Version &lt;chr&gt; | Length &lt;dbl&gt; | TPM &lt;dbl&gt; |\n",
       "|---|---|---|---|---|---|---|\n",
       "| ENSG00000125863 | ENSG00000125863.19 | MKKS | BBS6 | ENST00000347364.7,ENST00000399054.6 | 2710.75 |  4.04 |\n",
       "| ENSG00000285508 | ENSG00000285508.1  | MKKS | BBS6 | ENST00000609375.1                   |  882.00 |  5.05 |\n",
       "| ENSG00000285723 | ENSG00000285723.1  | MKKS | BBS6 | ENST00000649912.1                   |  192.00 | 21.39 |\n",
       "| ENSG00000125863 | ENSG00000125863.19 | MKKS | HMCS | ENST00000347364.7,ENST00000399054.6 | 2710.75 |  4.04 |\n",
       "| ENSG00000285508 | ENSG00000285508.1  | MKKS | HMCS | ENST00000609375.1                   |  882.00 |  5.05 |\n",
       "| ENSG00000285723 | ENSG00000285723.1  | MKKS | HMCS | ENST00000649912.1                   |  192.00 | 21.39 |\n",
       "\n"
      ],
      "text/plain": [
       "  Gene_Stable_ID  Gene_Stable_ID_Version Gene_Name Gene_Synonym\n",
       "1 ENSG00000125863 ENSG00000125863.19     MKKS      BBS6        \n",
       "2 ENSG00000285508 ENSG00000285508.1      MKKS      BBS6        \n",
       "3 ENSG00000285723 ENSG00000285723.1      MKKS      BBS6        \n",
       "4 ENSG00000125863 ENSG00000125863.19     MKKS      HMCS        \n",
       "5 ENSG00000285508 ENSG00000285508.1      MKKS      HMCS        \n",
       "6 ENSG00000285723 ENSG00000285723.1      MKKS      HMCS        \n",
       "  Transcript_Stable_ID_Version        Length  TPM  \n",
       "1 ENST00000347364.7,ENST00000399054.6 2710.75  4.04\n",
       "2 ENST00000609375.1                    882.00  5.05\n",
       "3 ENST00000649912.1                    192.00 21.39\n",
       "4 ENST00000347364.7,ENST00000399054.6 2710.75  4.04\n",
       "5 ENST00000609375.1                    882.00  5.05\n",
       "6 ENST00000649912.1                    192.00 21.39"
      ]
     },
     "metadata": {},
     "output_type": "display_data"
    }
   ],
   "source": [
    "dat = dat_gene_id_map\n",
    "dat = dat %>% \n",
    "    dplyr::select(Gene_Stable_ID, Gene_Name, Gene_Synonym) %>% \n",
    "    dplyr::distinct() %>%\n",
    "    dplyr::inner_join(dat_rnaseq_gene_filter, by=\"Gene_Stable_ID\") %>%\n",
    "    dplyr::select(\n",
    "        Gene_Stable_ID,\n",
    "        Gene_Stable_ID_Version,\n",
    "        Gene_Name,\n",
    "        Gene_Synonym,\n",
    "        Transcript_Stable_ID_Version,\n",
    "        Length,\n",
    "        TPM\n",
    "    )\n",
    "vec = unique(dat$Gene_Stable_ID)\n",
    "\n",
    "dat_rnaseq_gene_arrange = dat\n",
    "print(dim(dat))\n",
    "print(length(vec))\n",
    "head(dat)"
   ]
  },
  {
   "cell_type": "markdown",
   "metadata": {},
   "source": [
    "## Save results"
   ]
  },
  {
   "cell_type": "code",
   "execution_count": 44,
   "metadata": {},
   "outputs": [],
   "source": [
    "fdiry = file.path(FD_RES, \"source\", \"RNAseq\")\n",
    "fname = \"K562.ENCSR615EEK.ENCFF421TJX.RNAseq.filtered.mapped.tsv\"\n",
    "fpath = file.path(fdiry, fname)\n",
    "\n",
    "dat = dat_rnaseq_gene_arrange\n",
    "write_tsv(dat, fpath)"
   ]
  },
  {
   "cell_type": "code",
   "execution_count": null,
   "metadata": {},
   "outputs": [],
   "source": []
  }
 ],
 "metadata": {
  "kernelspec": {
   "display_name": "R",
   "language": "R",
   "name": "ir"
  },
  "language_info": {
   "codemirror_mode": "r",
   "file_extension": ".r",
   "mimetype": "text/x-r-source",
   "name": "R",
   "pygments_lexer": "r",
   "version": "4.3.0"
  }
 },
 "nbformat": 4,
 "nbformat_minor": 4
}
