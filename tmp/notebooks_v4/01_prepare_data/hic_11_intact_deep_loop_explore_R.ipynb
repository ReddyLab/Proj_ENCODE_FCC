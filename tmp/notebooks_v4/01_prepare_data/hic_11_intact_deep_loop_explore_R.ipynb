{
 "cells": [
  {
   "cell_type": "markdown",
   "metadata": {},
   "source": [
    "**Set environment**"
   ]
  },
  {
   "cell_type": "code",
   "execution_count": 12,
   "metadata": {},
   "outputs": [
    {
     "name": "stdout",
     "output_type": "stream",
     "text": [
      "You are in Singularity: singularity_proj_encode_fcc \n",
      "BASE DIRECTORY (FD_BASE): /data/reddylab/Kuei \n",
      "WORK DIRECTORY (FD_WORK): /data/reddylab/Kuei/out \n",
      "CODE DIRECTORY (FD_CODE): /data/reddylab/Kuei/code \n",
      "PATH OF PROJECT (FD_PRJ): /data/reddylab/Kuei/code/Proj_CombEffect_ENCODE_FCC \n",
      "PATH OF RESULTS (FD_RES): /data/reddylab/Kuei/out/proj_combeffect_encode_fcc \n",
      "PATH OF LOG     (FD_LOG): /data/reddylab/Kuei/out/proj_combeffect_encode_fcc/log \n"
     ]
    }
   ],
   "source": [
    "suppressMessages(suppressWarnings(source(\"../config/config_sing.R\")))\n",
    "suppressMessages(suppressWarnings(source(\"../config/config_func.R\")))\n",
    "show_env()"
   ]
  },
  {
   "cell_type": "markdown",
   "metadata": {},
   "source": [
    "**Check data**"
   ]
  },
  {
   "cell_type": "code",
   "execution_count": 2,
   "metadata": {},
   "outputs": [
    {
     "data": {
      "text/html": [
       "<style>\n",
       ".list-inline {list-style: none; margin:0; padding: 0}\n",
       ".list-inline>li {display: inline-block}\n",
       ".list-inline>li:not(:last-child)::after {content: \"\\00b7\"; padding: 0 .5ex}\n",
       "</style>\n",
       "<ol class=list-inline><li>'/data/reddylab/Kuei/out/proj_combeffect_encode_fcc/source/hic_intact_K562_deep'</li><li>'/data/reddylab/Kuei/out/proj_combeffect_encode_fcc/source/hic_intact_K562_ENCSR479XDG'</li></ol>\n"
      ],
      "text/latex": [
       "\\begin{enumerate*}\n",
       "\\item '/data/reddylab/Kuei/out/proj\\_combeffect\\_encode\\_fcc/source/hic\\_intact\\_K562\\_deep'\n",
       "\\item '/data/reddylab/Kuei/out/proj\\_combeffect\\_encode\\_fcc/source/hic\\_intact\\_K562\\_ENCSR479XDG'\n",
       "\\end{enumerate*}\n"
      ],
      "text/markdown": [
       "1. '/data/reddylab/Kuei/out/proj_combeffect_encode_fcc/source/hic_intact_K562_deep'\n",
       "2. '/data/reddylab/Kuei/out/proj_combeffect_encode_fcc/source/hic_intact_K562_ENCSR479XDG'\n",
       "\n",
       "\n"
      ],
      "text/plain": [
       "[1] \"/data/reddylab/Kuei/out/proj_combeffect_encode_fcc/source/hic_intact_K562_deep\"       \n",
       "[2] \"/data/reddylab/Kuei/out/proj_combeffect_encode_fcc/source/hic_intact_K562_ENCSR479XDG\""
      ]
     },
     "metadata": {},
     "output_type": "display_data"
    }
   ],
   "source": [
    "fdiry = file.path(FD_RES, \"source\")\n",
    "fglob = file.path(fdiry, \"hic_intact*\")\n",
    "Sys.glob(fglob)"
   ]
  },
  {
   "cell_type": "code",
   "execution_count": 3,
   "metadata": {},
   "outputs": [
    {
     "name": "stdout",
     "output_type": "stream",
     "text": [
      "[1] \"inter.hic\"\n",
      "[1] \"localizedList_primary_10.bedpe\"\n"
     ]
    }
   ],
   "source": [
    "FOLDER=\"hic_intact_K562_deep\"\n",
    "fdiry = file.path(FD_RES, \"source\", FOLDER)\n",
    "for (fname in dir(fdiry)) {print(fname)}"
   ]
  },
  {
   "cell_type": "markdown",
   "metadata": {},
   "source": [
    "## Loop"
   ]
  },
  {
   "cell_type": "code",
   "execution_count": 4,
   "metadata": {},
   "outputs": [
    {
     "name": "stderr",
     "output_type": "stream",
     "text": [
      "\u001b[1mRows: \u001b[22m\u001b[34m128714\u001b[39m \u001b[1mColumns: \u001b[22m\u001b[34m46\u001b[39m\n",
      "\u001b[36m──\u001b[39m \u001b[1mColumn specification\u001b[22m \u001b[36m──────────────────────────────────────────────────────\u001b[39m\n",
      "\u001b[1mDelimiter:\u001b[22m \"\\t\"\n",
      "\u001b[31mchr\u001b[39m  (7): X1, X4, X7, X8, X9, X10, X11\n",
      "\u001b[32mdbl\u001b[39m (39): X2, X3, X5, X6, X12, X13, X14, X15, X16, X17, X18, X19, X20, X21, ...\n",
      "\n",
      "\u001b[36mℹ\u001b[39m Use `spec()` to retrieve the full column specification for this data.\n",
      "\u001b[36mℹ\u001b[39m Specify the column types or set `show_col_types = FALSE` to quiet this message.\n"
     ]
    },
    {
     "name": "stdout",
     "output_type": "stream",
     "text": [
      "[1] 128714     46\n"
     ]
    },
    {
     "data": {
      "text/html": [
       "<table class=\"dataframe\">\n",
       "<caption>A tibble: 6 × 46</caption>\n",
       "<thead>\n",
       "\t<tr><th scope=col>X1</th><th scope=col>X2</th><th scope=col>X3</th><th scope=col>X4</th><th scope=col>X5</th><th scope=col>X6</th><th scope=col>X7</th><th scope=col>X8</th><th scope=col>X9</th><th scope=col>X10</th><th scope=col>⋯</th><th scope=col>X37</th><th scope=col>X38</th><th scope=col>X39</th><th scope=col>X40</th><th scope=col>X41</th><th scope=col>X42</th><th scope=col>X43</th><th scope=col>X44</th><th scope=col>X45</th><th scope=col>X46</th></tr>\n",
       "\t<tr><th scope=col>&lt;chr&gt;</th><th scope=col>&lt;dbl&gt;</th><th scope=col>&lt;dbl&gt;</th><th scope=col>&lt;chr&gt;</th><th scope=col>&lt;dbl&gt;</th><th scope=col>&lt;dbl&gt;</th><th scope=col>&lt;chr&gt;</th><th scope=col>&lt;chr&gt;</th><th scope=col>&lt;chr&gt;</th><th scope=col>&lt;chr&gt;</th><th scope=col>⋯</th><th scope=col>&lt;dbl&gt;</th><th scope=col>&lt;dbl&gt;</th><th scope=col>&lt;dbl&gt;</th><th scope=col>&lt;dbl&gt;</th><th scope=col>&lt;dbl&gt;</th><th scope=col>&lt;dbl&gt;</th><th scope=col>&lt;dbl&gt;</th><th scope=col>&lt;dbl&gt;</th><th scope=col>&lt;dbl&gt;</th><th scope=col>&lt;dbl&gt;</th></tr>\n",
       "</thead>\n",
       "<tbody>\n",
       "\t<tr><td>chr10</td><td> 72223000</td><td> 72224000</td><td>chr10</td><td> 72328000</td><td> 72329000</td><td>.</td><td>.</td><td>.</td><td>.</td><td>⋯</td><td> 72223010</td><td> 72328480</td><td>28</td><td>0.006703467</td><td>3.735599</td><td>910</td><td>1320</td><td>180</td><td>480</td><td> 0</td></tr>\n",
       "\t<tr><td>chr10</td><td> 64041000</td><td> 64042000</td><td>chr10</td><td> 67697000</td><td> 67698000</td><td>.</td><td>.</td><td>.</td><td>.</td><td>⋯</td><td>       NA</td><td>       NA</td><td>NA</td><td>         NA</td><td>      NA</td><td> NA</td><td>  NA</td><td> NA</td><td> NA</td><td>NA</td></tr>\n",
       "\t<tr><td>chr10</td><td> 78302000</td><td> 78304000</td><td>chr10</td><td> 79194000</td><td> 79196000</td><td>.</td><td>.</td><td>.</td><td>.</td><td>⋯</td><td>       NA</td><td>       NA</td><td>NA</td><td>         NA</td><td>      NA</td><td> NA</td><td>  NA</td><td> NA</td><td> NA</td><td>NA</td></tr>\n",
       "\t<tr><td>chr10</td><td> 13372000</td><td> 13373000</td><td>chr10</td><td> 13404000</td><td> 13405000</td><td>.</td><td>.</td><td>.</td><td>.</td><td>⋯</td><td>       NA</td><td>       NA</td><td>NA</td><td>         NA</td><td>      NA</td><td> NA</td><td>  NA</td><td> NA</td><td> NA</td><td>NA</td></tr>\n",
       "\t<tr><td>chr10</td><td>132388000</td><td>132389000</td><td>chr10</td><td>132637000</td><td>132638000</td><td>.</td><td>.</td><td>.</td><td>.</td><td>⋯</td><td>132388100</td><td>132637710</td><td> 6</td><td>0.029244716</td><td>2.577377</td><td>260</td><td> 170</td><td>170</td><td>190</td><td> 0</td></tr>\n",
       "\t<tr><td>chr10</td><td>114550000</td><td>114552000</td><td>chr10</td><td>114876000</td><td>114878000</td><td>.</td><td>.</td><td>.</td><td>.</td><td>⋯</td><td>       NA</td><td>       NA</td><td>NA</td><td>         NA</td><td>      NA</td><td> NA</td><td>  NA</td><td> NA</td><td> NA</td><td>NA</td></tr>\n",
       "</tbody>\n",
       "</table>\n"
      ],
      "text/latex": [
       "A tibble: 6 × 46\n",
       "\\begin{tabular}{lllllllllllllllllllll}\n",
       " X1 & X2 & X3 & X4 & X5 & X6 & X7 & X8 & X9 & X10 & ⋯ & X37 & X38 & X39 & X40 & X41 & X42 & X43 & X44 & X45 & X46\\\\\n",
       " <chr> & <dbl> & <dbl> & <chr> & <dbl> & <dbl> & <chr> & <chr> & <chr> & <chr> & ⋯ & <dbl> & <dbl> & <dbl> & <dbl> & <dbl> & <dbl> & <dbl> & <dbl> & <dbl> & <dbl>\\\\\n",
       "\\hline\n",
       "\t chr10 &  72223000 &  72224000 & chr10 &  72328000 &  72329000 & . & . & . & . & ⋯ &  72223010 &  72328480 & 28 & 0.006703467 & 3.735599 & 910 & 1320 & 180 & 480 &  0\\\\\n",
       "\t chr10 &  64041000 &  64042000 & chr10 &  67697000 &  67698000 & . & . & . & . & ⋯ &        NA &        NA & NA &          NA &       NA &  NA &   NA &  NA &  NA & NA\\\\\n",
       "\t chr10 &  78302000 &  78304000 & chr10 &  79194000 &  79196000 & . & . & . & . & ⋯ &        NA &        NA & NA &          NA &       NA &  NA &   NA &  NA &  NA & NA\\\\\n",
       "\t chr10 &  13372000 &  13373000 & chr10 &  13404000 &  13405000 & . & . & . & . & ⋯ &        NA &        NA & NA &          NA &       NA &  NA &   NA &  NA &  NA & NA\\\\\n",
       "\t chr10 & 132388000 & 132389000 & chr10 & 132637000 & 132638000 & . & . & . & . & ⋯ & 132388100 & 132637710 &  6 & 0.029244716 & 2.577377 & 260 &  170 & 170 & 190 &  0\\\\\n",
       "\t chr10 & 114550000 & 114552000 & chr10 & 114876000 & 114878000 & . & . & . & . & ⋯ &        NA &        NA & NA &          NA &       NA &  NA &   NA &  NA &  NA & NA\\\\\n",
       "\\end{tabular}\n"
      ],
      "text/markdown": [
       "\n",
       "A tibble: 6 × 46\n",
       "\n",
       "| X1 &lt;chr&gt; | X2 &lt;dbl&gt; | X3 &lt;dbl&gt; | X4 &lt;chr&gt; | X5 &lt;dbl&gt; | X6 &lt;dbl&gt; | X7 &lt;chr&gt; | X8 &lt;chr&gt; | X9 &lt;chr&gt; | X10 &lt;chr&gt; | ⋯ ⋯ | X37 &lt;dbl&gt; | X38 &lt;dbl&gt; | X39 &lt;dbl&gt; | X40 &lt;dbl&gt; | X41 &lt;dbl&gt; | X42 &lt;dbl&gt; | X43 &lt;dbl&gt; | X44 &lt;dbl&gt; | X45 &lt;dbl&gt; | X46 &lt;dbl&gt; |\n",
       "|---|---|---|---|---|---|---|---|---|---|---|---|---|---|---|---|---|---|---|---|---|\n",
       "| chr10 |  72223000 |  72224000 | chr10 |  72328000 |  72329000 | . | . | . | . | ⋯ |  72223010 |  72328480 | 28 | 0.006703467 | 3.735599 | 910 | 1320 | 180 | 480 |  0 |\n",
       "| chr10 |  64041000 |  64042000 | chr10 |  67697000 |  67698000 | . | . | . | . | ⋯ |        NA |        NA | NA |          NA |       NA |  NA |   NA |  NA |  NA | NA |\n",
       "| chr10 |  78302000 |  78304000 | chr10 |  79194000 |  79196000 | . | . | . | . | ⋯ |        NA |        NA | NA |          NA |       NA |  NA |   NA |  NA |  NA | NA |\n",
       "| chr10 |  13372000 |  13373000 | chr10 |  13404000 |  13405000 | . | . | . | . | ⋯ |        NA |        NA | NA |          NA |       NA |  NA |   NA |  NA |  NA | NA |\n",
       "| chr10 | 132388000 | 132389000 | chr10 | 132637000 | 132638000 | . | . | . | . | ⋯ | 132388100 | 132637710 |  6 | 0.029244716 | 2.577377 | 260 |  170 | 170 | 190 |  0 |\n",
       "| chr10 | 114550000 | 114552000 | chr10 | 114876000 | 114878000 | . | . | . | . | ⋯ |        NA |        NA | NA |          NA |       NA |  NA |   NA |  NA |  NA | NA |\n",
       "\n"
      ],
      "text/plain": [
       "  X1    X2        X3        X4    X5        X6        X7 X8 X9 X10 ⋯ X37      \n",
       "1 chr10  72223000  72224000 chr10  72328000  72329000 .  .  .  .   ⋯  72223010\n",
       "2 chr10  64041000  64042000 chr10  67697000  67698000 .  .  .  .   ⋯        NA\n",
       "3 chr10  78302000  78304000 chr10  79194000  79196000 .  .  .  .   ⋯        NA\n",
       "4 chr10  13372000  13373000 chr10  13404000  13405000 .  .  .  .   ⋯        NA\n",
       "5 chr10 132388000 132389000 chr10 132637000 132638000 .  .  .  .   ⋯ 132388100\n",
       "6 chr10 114550000 114552000 chr10 114876000 114878000 .  .  .  .   ⋯        NA\n",
       "  X38       X39 X40         X41      X42 X43  X44 X45 X46\n",
       "1  72328480 28  0.006703467 3.735599 910 1320 180 480  0 \n",
       "2        NA NA           NA       NA  NA   NA  NA  NA NA \n",
       "3        NA NA           NA       NA  NA   NA  NA  NA NA \n",
       "4        NA NA           NA       NA  NA   NA  NA  NA NA \n",
       "5 132637710  6  0.029244716 2.577377 260  170 170 190  0 \n",
       "6        NA NA           NA       NA  NA   NA  NA  NA NA "
      ]
     },
     "metadata": {},
     "output_type": "display_data"
    }
   ],
   "source": [
    "fdiry = file.path(FD_RES, \"source\", FOLDER)\n",
    "fname = \"localizedList_primary_10.bedpe\"\n",
    "fpath = file.path(fdiry, fname)\n",
    "\n",
    "dat = read_tsv(fpath, col_names = FALSE, comment = \"#\")\n",
    "\n",
    "dat_hic_loop = dat\n",
    "print(dim(dat))\n",
    "head(dat)"
   ]
  },
  {
   "cell_type": "markdown",
   "metadata": {},
   "source": [
    "## Arrange"
   ]
  },
  {
   "cell_type": "markdown",
   "metadata": {},
   "source": [
    "**Loop distance and size**"
   ]
  },
  {
   "cell_type": "code",
   "execution_count": 5,
   "metadata": {},
   "outputs": [
    {
     "name": "stdout",
     "output_type": "stream",
     "text": [
      "[1] 128714     11\n"
     ]
    },
    {
     "data": {
      "text/html": [
       "<table class=\"dataframe\">\n",
       "<caption>A tibble: 6 × 11</caption>\n",
       "<thead>\n",
       "\t<tr><th scope=col>Chrom_A</th><th scope=col>Start_A</th><th scope=col>End_A</th><th scope=col>Chrom_B</th><th scope=col>Start_B</th><th scope=col>End_B</th><th scope=col>Loop_A</th><th scope=col>Loop_B</th><th scope=col>Length_A</th><th scope=col>Length_B</th><th scope=col>Distance</th></tr>\n",
       "\t<tr><th scope=col>&lt;chr&gt;</th><th scope=col>&lt;dbl&gt;</th><th scope=col>&lt;dbl&gt;</th><th scope=col>&lt;chr&gt;</th><th scope=col>&lt;dbl&gt;</th><th scope=col>&lt;dbl&gt;</th><th scope=col>&lt;chr&gt;</th><th scope=col>&lt;chr&gt;</th><th scope=col>&lt;dbl&gt;</th><th scope=col>&lt;dbl&gt;</th><th scope=col>&lt;dbl&gt;</th></tr>\n",
       "</thead>\n",
       "<tbody>\n",
       "\t<tr><td>chr10</td><td> 72223000</td><td> 72224000</td><td>chr10</td><td> 72328000</td><td> 72329000</td><td>chr10:72223000-72224000  </td><td>chr10:72328000-72329000  </td><td>1000</td><td>1000</td><td> 105000</td></tr>\n",
       "\t<tr><td>chr10</td><td> 64041000</td><td> 64042000</td><td>chr10</td><td> 67697000</td><td> 67698000</td><td>chr10:64041000-64042000  </td><td>chr10:67697000-67698000  </td><td>1000</td><td>1000</td><td>3656000</td></tr>\n",
       "\t<tr><td>chr10</td><td> 78302000</td><td> 78304000</td><td>chr10</td><td> 79194000</td><td> 79196000</td><td>chr10:78302000-78304000  </td><td>chr10:79194000-79196000  </td><td>2000</td><td>2000</td><td> 892000</td></tr>\n",
       "\t<tr><td>chr10</td><td> 13372000</td><td> 13373000</td><td>chr10</td><td> 13404000</td><td> 13405000</td><td>chr10:13372000-13373000  </td><td>chr10:13404000-13405000  </td><td>1000</td><td>1000</td><td>  32000</td></tr>\n",
       "\t<tr><td>chr10</td><td>132388000</td><td>132389000</td><td>chr10</td><td>132637000</td><td>132638000</td><td>chr10:132388000-132389000</td><td>chr10:132637000-132638000</td><td>1000</td><td>1000</td><td> 249000</td></tr>\n",
       "\t<tr><td>chr10</td><td>114550000</td><td>114552000</td><td>chr10</td><td>114876000</td><td>114878000</td><td>chr10:114550000-114552000</td><td>chr10:114876000-114878000</td><td>2000</td><td>2000</td><td> 326000</td></tr>\n",
       "</tbody>\n",
       "</table>\n"
      ],
      "text/latex": [
       "A tibble: 6 × 11\n",
       "\\begin{tabular}{lllllllllll}\n",
       " Chrom\\_A & Start\\_A & End\\_A & Chrom\\_B & Start\\_B & End\\_B & Loop\\_A & Loop\\_B & Length\\_A & Length\\_B & Distance\\\\\n",
       " <chr> & <dbl> & <dbl> & <chr> & <dbl> & <dbl> & <chr> & <chr> & <dbl> & <dbl> & <dbl>\\\\\n",
       "\\hline\n",
       "\t chr10 &  72223000 &  72224000 & chr10 &  72328000 &  72329000 & chr10:72223000-72224000   & chr10:72328000-72329000   & 1000 & 1000 &  105000\\\\\n",
       "\t chr10 &  64041000 &  64042000 & chr10 &  67697000 &  67698000 & chr10:64041000-64042000   & chr10:67697000-67698000   & 1000 & 1000 & 3656000\\\\\n",
       "\t chr10 &  78302000 &  78304000 & chr10 &  79194000 &  79196000 & chr10:78302000-78304000   & chr10:79194000-79196000   & 2000 & 2000 &  892000\\\\\n",
       "\t chr10 &  13372000 &  13373000 & chr10 &  13404000 &  13405000 & chr10:13372000-13373000   & chr10:13404000-13405000   & 1000 & 1000 &   32000\\\\\n",
       "\t chr10 & 132388000 & 132389000 & chr10 & 132637000 & 132638000 & chr10:132388000-132389000 & chr10:132637000-132638000 & 1000 & 1000 &  249000\\\\\n",
       "\t chr10 & 114550000 & 114552000 & chr10 & 114876000 & 114878000 & chr10:114550000-114552000 & chr10:114876000-114878000 & 2000 & 2000 &  326000\\\\\n",
       "\\end{tabular}\n"
      ],
      "text/markdown": [
       "\n",
       "A tibble: 6 × 11\n",
       "\n",
       "| Chrom_A &lt;chr&gt; | Start_A &lt;dbl&gt; | End_A &lt;dbl&gt; | Chrom_B &lt;chr&gt; | Start_B &lt;dbl&gt; | End_B &lt;dbl&gt; | Loop_A &lt;chr&gt; | Loop_B &lt;chr&gt; | Length_A &lt;dbl&gt; | Length_B &lt;dbl&gt; | Distance &lt;dbl&gt; |\n",
       "|---|---|---|---|---|---|---|---|---|---|---|\n",
       "| chr10 |  72223000 |  72224000 | chr10 |  72328000 |  72329000 | chr10:72223000-72224000   | chr10:72328000-72329000   | 1000 | 1000 |  105000 |\n",
       "| chr10 |  64041000 |  64042000 | chr10 |  67697000 |  67698000 | chr10:64041000-64042000   | chr10:67697000-67698000   | 1000 | 1000 | 3656000 |\n",
       "| chr10 |  78302000 |  78304000 | chr10 |  79194000 |  79196000 | chr10:78302000-78304000   | chr10:79194000-79196000   | 2000 | 2000 |  892000 |\n",
       "| chr10 |  13372000 |  13373000 | chr10 |  13404000 |  13405000 | chr10:13372000-13373000   | chr10:13404000-13405000   | 1000 | 1000 |   32000 |\n",
       "| chr10 | 132388000 | 132389000 | chr10 | 132637000 | 132638000 | chr10:132388000-132389000 | chr10:132637000-132638000 | 1000 | 1000 |  249000 |\n",
       "| chr10 | 114550000 | 114552000 | chr10 | 114876000 | 114878000 | chr10:114550000-114552000 | chr10:114876000-114878000 | 2000 | 2000 |  326000 |\n",
       "\n"
      ],
      "text/plain": [
       "  Chrom_A Start_A   End_A     Chrom_B Start_B   End_B    \n",
       "1 chr10    72223000  72224000 chr10    72328000  72329000\n",
       "2 chr10    64041000  64042000 chr10    67697000  67698000\n",
       "3 chr10    78302000  78304000 chr10    79194000  79196000\n",
       "4 chr10    13372000  13373000 chr10    13404000  13405000\n",
       "5 chr10   132388000 132389000 chr10   132637000 132638000\n",
       "6 chr10   114550000 114552000 chr10   114876000 114878000\n",
       "  Loop_A                    Loop_B                    Length_A Length_B\n",
       "1 chr10:72223000-72224000   chr10:72328000-72329000   1000     1000    \n",
       "2 chr10:64041000-64042000   chr10:67697000-67698000   1000     1000    \n",
       "3 chr10:78302000-78304000   chr10:79194000-79196000   2000     2000    \n",
       "4 chr10:13372000-13373000   chr10:13404000-13405000   1000     1000    \n",
       "5 chr10:132388000-132389000 chr10:132637000-132638000 1000     1000    \n",
       "6 chr10:114550000-114552000 chr10:114876000-114878000 2000     2000    \n",
       "  Distance\n",
       "1  105000 \n",
       "2 3656000 \n",
       "3  892000 \n",
       "4   32000 \n",
       "5  249000 \n",
       "6  326000 "
      ]
     },
     "metadata": {},
     "output_type": "display_data"
    }
   ],
   "source": [
    "dat = dat_hic_loop\n",
    "dat = dat[,1:6]\n",
    "\n",
    "cnames = c(\"Chrom_A\", \"Start_A\", \"End_A\", \"Chrom_B\", \"Start_B\", \"End_B\")\n",
    "colnames(dat) = cnames\n",
    "\n",
    "dat = dat %>%\n",
    "    dplyr::mutate(\n",
    "        Loop_A    = paste0(Chrom_A, \":\", Start_A, \"-\", End_A),\n",
    "        Loop_B    = paste0(Chrom_B, \":\", Start_B, \"-\", End_B),\n",
    "        Length_A  = End_A - Start_A,\n",
    "        Length_B  = End_B - Start_B,\n",
    "        Distance = abs((Start_A + End_A) / 2 - (Start_B + End_B) / 2)\n",
    "    ) %>%\n",
    "    dplyr::distinct()\n",
    "\n",
    "dat_hic_loop_info = dat\n",
    "print(dim(dat))\n",
    "head(dat)"
   ]
  },
  {
   "cell_type": "code",
   "execution_count": 13,
   "metadata": {},
   "outputs": [
    {
     "name": "stdout",
     "output_type": "stream",
     "text": [
      "[1] \"Q1\" \"Q2\" \"Q3\" \"Q4\"\n"
     ]
    },
    {
     "data": {
      "text/html": [
       "<table class=\"dataframe\">\n",
       "<caption>A tibble: 6 × 12</caption>\n",
       "<thead>\n",
       "\t<tr><th scope=col>Chrom_A</th><th scope=col>Start_A</th><th scope=col>End_A</th><th scope=col>Chrom_B</th><th scope=col>Start_B</th><th scope=col>End_B</th><th scope=col>Loop_A</th><th scope=col>Loop_B</th><th scope=col>Length_A</th><th scope=col>Length_B</th><th scope=col>Distance</th><th scope=col>Distance_Category</th></tr>\n",
       "\t<tr><th scope=col>&lt;chr&gt;</th><th scope=col>&lt;dbl&gt;</th><th scope=col>&lt;dbl&gt;</th><th scope=col>&lt;chr&gt;</th><th scope=col>&lt;dbl&gt;</th><th scope=col>&lt;dbl&gt;</th><th scope=col>&lt;chr&gt;</th><th scope=col>&lt;chr&gt;</th><th scope=col>&lt;dbl&gt;</th><th scope=col>&lt;dbl&gt;</th><th scope=col>&lt;dbl&gt;</th><th scope=col>&lt;fct&gt;</th></tr>\n",
       "</thead>\n",
       "<tbody>\n",
       "\t<tr><td>chr10</td><td> 72223000</td><td> 72224000</td><td>chr10</td><td> 72328000</td><td> 72329000</td><td>chr10:72223000-72224000  </td><td>chr10:72328000-72329000  </td><td>1000</td><td>1000</td><td> 105000</td><td>Q2</td></tr>\n",
       "\t<tr><td>chr10</td><td> 64041000</td><td> 64042000</td><td>chr10</td><td> 67697000</td><td> 67698000</td><td>chr10:64041000-64042000  </td><td>chr10:67697000-67698000  </td><td>1000</td><td>1000</td><td>3656000</td><td>Q4</td></tr>\n",
       "\t<tr><td>chr10</td><td> 78302000</td><td> 78304000</td><td>chr10</td><td> 79194000</td><td> 79196000</td><td>chr10:78302000-78304000  </td><td>chr10:79194000-79196000  </td><td>2000</td><td>2000</td><td> 892000</td><td>Q4</td></tr>\n",
       "\t<tr><td>chr10</td><td> 13372000</td><td> 13373000</td><td>chr10</td><td> 13404000</td><td> 13405000</td><td>chr10:13372000-13373000  </td><td>chr10:13404000-13405000  </td><td>1000</td><td>1000</td><td>  32000</td><td>Q1</td></tr>\n",
       "\t<tr><td>chr10</td><td>132388000</td><td>132389000</td><td>chr10</td><td>132637000</td><td>132638000</td><td>chr10:132388000-132389000</td><td>chr10:132637000-132638000</td><td>1000</td><td>1000</td><td> 249000</td><td>Q3</td></tr>\n",
       "\t<tr><td>chr10</td><td>114550000</td><td>114552000</td><td>chr10</td><td>114876000</td><td>114878000</td><td>chr10:114550000-114552000</td><td>chr10:114876000-114878000</td><td>2000</td><td>2000</td><td> 326000</td><td>Q3</td></tr>\n",
       "</tbody>\n",
       "</table>\n"
      ],
      "text/latex": [
       "A tibble: 6 × 12\n",
       "\\begin{tabular}{llllllllllll}\n",
       " Chrom\\_A & Start\\_A & End\\_A & Chrom\\_B & Start\\_B & End\\_B & Loop\\_A & Loop\\_B & Length\\_A & Length\\_B & Distance & Distance\\_Category\\\\\n",
       " <chr> & <dbl> & <dbl> & <chr> & <dbl> & <dbl> & <chr> & <chr> & <dbl> & <dbl> & <dbl> & <fct>\\\\\n",
       "\\hline\n",
       "\t chr10 &  72223000 &  72224000 & chr10 &  72328000 &  72329000 & chr10:72223000-72224000   & chr10:72328000-72329000   & 1000 & 1000 &  105000 & Q2\\\\\n",
       "\t chr10 &  64041000 &  64042000 & chr10 &  67697000 &  67698000 & chr10:64041000-64042000   & chr10:67697000-67698000   & 1000 & 1000 & 3656000 & Q4\\\\\n",
       "\t chr10 &  78302000 &  78304000 & chr10 &  79194000 &  79196000 & chr10:78302000-78304000   & chr10:79194000-79196000   & 2000 & 2000 &  892000 & Q4\\\\\n",
       "\t chr10 &  13372000 &  13373000 & chr10 &  13404000 &  13405000 & chr10:13372000-13373000   & chr10:13404000-13405000   & 1000 & 1000 &   32000 & Q1\\\\\n",
       "\t chr10 & 132388000 & 132389000 & chr10 & 132637000 & 132638000 & chr10:132388000-132389000 & chr10:132637000-132638000 & 1000 & 1000 &  249000 & Q3\\\\\n",
       "\t chr10 & 114550000 & 114552000 & chr10 & 114876000 & 114878000 & chr10:114550000-114552000 & chr10:114876000-114878000 & 2000 & 2000 &  326000 & Q3\\\\\n",
       "\\end{tabular}\n"
      ],
      "text/markdown": [
       "\n",
       "A tibble: 6 × 12\n",
       "\n",
       "| Chrom_A &lt;chr&gt; | Start_A &lt;dbl&gt; | End_A &lt;dbl&gt; | Chrom_B &lt;chr&gt; | Start_B &lt;dbl&gt; | End_B &lt;dbl&gt; | Loop_A &lt;chr&gt; | Loop_B &lt;chr&gt; | Length_A &lt;dbl&gt; | Length_B &lt;dbl&gt; | Distance &lt;dbl&gt; | Distance_Category &lt;fct&gt; |\n",
       "|---|---|---|---|---|---|---|---|---|---|---|---|\n",
       "| chr10 |  72223000 |  72224000 | chr10 |  72328000 |  72329000 | chr10:72223000-72224000   | chr10:72328000-72329000   | 1000 | 1000 |  105000 | Q2 |\n",
       "| chr10 |  64041000 |  64042000 | chr10 |  67697000 |  67698000 | chr10:64041000-64042000   | chr10:67697000-67698000   | 1000 | 1000 | 3656000 | Q4 |\n",
       "| chr10 |  78302000 |  78304000 | chr10 |  79194000 |  79196000 | chr10:78302000-78304000   | chr10:79194000-79196000   | 2000 | 2000 |  892000 | Q4 |\n",
       "| chr10 |  13372000 |  13373000 | chr10 |  13404000 |  13405000 | chr10:13372000-13373000   | chr10:13404000-13405000   | 1000 | 1000 |   32000 | Q1 |\n",
       "| chr10 | 132388000 | 132389000 | chr10 | 132637000 | 132638000 | chr10:132388000-132389000 | chr10:132637000-132638000 | 1000 | 1000 |  249000 | Q3 |\n",
       "| chr10 | 114550000 | 114552000 | chr10 | 114876000 | 114878000 | chr10:114550000-114552000 | chr10:114876000-114878000 | 2000 | 2000 |  326000 | Q3 |\n",
       "\n"
      ],
      "text/plain": [
       "  Chrom_A Start_A   End_A     Chrom_B Start_B   End_B    \n",
       "1 chr10    72223000  72224000 chr10    72328000  72329000\n",
       "2 chr10    64041000  64042000 chr10    67697000  67698000\n",
       "3 chr10    78302000  78304000 chr10    79194000  79196000\n",
       "4 chr10    13372000  13373000 chr10    13404000  13405000\n",
       "5 chr10   132388000 132389000 chr10   132637000 132638000\n",
       "6 chr10   114550000 114552000 chr10   114876000 114878000\n",
       "  Loop_A                    Loop_B                    Length_A Length_B\n",
       "1 chr10:72223000-72224000   chr10:72328000-72329000   1000     1000    \n",
       "2 chr10:64041000-64042000   chr10:67697000-67698000   1000     1000    \n",
       "3 chr10:78302000-78304000   chr10:79194000-79196000   2000     2000    \n",
       "4 chr10:13372000-13373000   chr10:13404000-13405000   1000     1000    \n",
       "5 chr10:132388000-132389000 chr10:132637000-132638000 1000     1000    \n",
       "6 chr10:114550000-114552000 chr10:114876000-114878000 2000     2000    \n",
       "  Distance Distance_Category\n",
       "1  105000  Q2               \n",
       "2 3656000  Q4               \n",
       "3  892000  Q4               \n",
       "4   32000  Q1               \n",
       "5  249000  Q3               \n",
       "6  326000  Q3               "
      ]
     },
     "metadata": {},
     "output_type": "display_data"
    }
   ],
   "source": [
    "dat = dat_hic_loop_info\n",
    "dat = dat %>% dplyr::mutate(Distance_Category = fun_cut(Distance))\n",
    "lst = split(dat, dat$Distance_Category)\n",
    "\n",
    "lst_dat_hic_loop_info = lst\n",
    "print(names(lst))\n",
    "head(dat)"
   ]
  },
  {
   "cell_type": "markdown",
   "metadata": {},
   "source": [
    "## Summary: description"
   ]
  },
  {
   "cell_type": "markdown",
   "metadata": {},
   "source": [
    "**Size = 1kb-10kb**"
   ]
  },
  {
   "cell_type": "code",
   "execution_count": 6,
   "metadata": {},
   "outputs": [
    {
     "data": {
      "text/plain": [
       "       \n",
       "         1000  2000  5000 10000\n",
       "  1000  80948     0     0     0\n",
       "  2000      0 22895     0     0\n",
       "  5000      0     0 19294     0\n",
       "  10000     0     0     0  5577"
      ]
     },
     "metadata": {},
     "output_type": "display_data"
    }
   ],
   "source": [
    "table(dat$Length_A, dat$Length_B)"
   ]
  },
  {
   "cell_type": "code",
   "execution_count": 7,
   "metadata": {},
   "outputs": [
    {
     "data": {
      "text/plain": [
       "\n",
       " 1000  2000  5000 10000 \n",
       "80948 22895 19294  5577 "
      ]
     },
     "metadata": {},
     "output_type": "display_data"
    }
   ],
   "source": [
    "table(dat$Length_A)"
   ]
  },
  {
   "cell_type": "code",
   "execution_count": 8,
   "metadata": {},
   "outputs": [
    {
     "data": {
      "text/plain": [
       "       \n",
       "         chr1 chr10 chr11 chr12 chr13 chr14 chr16 chr17 chr18 chr19  chr2 chr20\n",
       "  chr1  15268     0     0     0     0     0     0     0     0     0     0     0\n",
       "  chr10     0  6065     0     0     0     0     0     0     0     0     0     0\n",
       "  chr11     0     0  7460     0     0     0     0     0     0     0     0     0\n",
       "  chr12     0     0     0  6835     0     0     0     0     0     0     0     0\n",
       "  chr13     0     0     0     0  2435     0     0     0     0     0     0     0\n",
       "  chr14     0     0     0     0     0  3653     0     0     0     0     0     0\n",
       "  chr16     0     0     0     0     0     0  4508     0     0     0     0     0\n",
       "  chr17     0     0     0     0     0     0     0  5642     0     0     0     0\n",
       "  chr18     0     0     0     0     0     0     0     0  2344     0     0     0\n",
       "  chr19     0     0     0     0     0     0     0     0     0  6292     0     0\n",
       "  chr2      0     0     0     0     0     0     0     0     0     0 10114     0\n",
       "  chr20     0     0     0     0     0     0     0     0     0     0     0  3320\n",
       "  chr21     0     0     0     0     0     0     0     0     0     0     0     0\n",
       "  chr22     0     0     0     0     0     0     0     0     0     0     0     0\n",
       "  chr3      0     0     0     0     0     0     0     0     0     0     0     0\n",
       "  chr4      0     0     0     0     0     0     0     0     0     0     0     0\n",
       "  chr5      0     0     0     0     0     0     0     0     0     0     0     0\n",
       "  chr6      0     0     0     0     0     0     0     0     0     0     0     0\n",
       "  chr7      0     0     0     0     0     0     0     0     0     0     0     0\n",
       "  chr8      0     0     0     0     0     0     0     0     0     0     0     0\n",
       "  chrX      0     0     0     0     0     0     0     0     0     0     0     0\n",
       "       \n",
       "        chr21 chr22  chr3  chr4  chr5  chr6  chr7  chr8  chrX\n",
       "  chr1      0     0     0     0     0     0     0     0     0\n",
       "  chr10     0     0     0     0     0     0     0     0     0\n",
       "  chr11     0     0     0     0     0     0     0     0     0\n",
       "  chr12     0     0     0     0     0     0     0     0     0\n",
       "  chr13     0     0     0     0     0     0     0     0     0\n",
       "  chr14     0     0     0     0     0     0     0     0     0\n",
       "  chr16     0     0     0     0     0     0     0     0     0\n",
       "  chr17     0     0     0     0     0     0     0     0     0\n",
       "  chr18     0     0     0     0     0     0     0     0     0\n",
       "  chr19     0     0     0     0     0     0     0     0     0\n",
       "  chr2      0     0     0     0     0     0     0     0     0\n",
       "  chr20     0     0     0     0     0     0     0     0     0\n",
       "  chr21  1468     0     0     0     0     0     0     0     0\n",
       "  chr22     0  2731     0     0     0     0     0     0     0\n",
       "  chr3      0     0  8624     0     0     0     0     0     0\n",
       "  chr4      0     0     0  6212     0     0     0     0     0\n",
       "  chr5      0     0     0     0  7087     0     0     0     0\n",
       "  chr6      0     0     0     0     0 10127     0     0     0\n",
       "  chr7      0     0     0     0     0     0  8301     0     0\n",
       "  chr8      0     0     0     0     0     0     0  6048     0\n",
       "  chrX      0     0     0     0     0     0     0     0  4180"
      ]
     },
     "metadata": {},
     "output_type": "display_data"
    }
   ],
   "source": [
    "table(dat$Chrom_A, dat$Chrom_B)"
   ]
  },
  {
   "cell_type": "markdown",
   "metadata": {},
   "source": [
    "**Distance: 8kb-9Mb**"
   ]
  },
  {
   "cell_type": "code",
   "execution_count": 14,
   "metadata": {},
   "outputs": [
    {
     "name": "stdout",
     "output_type": "stream",
     "text": [
      "======================\n",
      "$Q1\n",
      "[1] 32634\n",
      "\n",
      "$Q2\n",
      "[1] 31734\n",
      "\n",
      "$Q3\n",
      "[1] 32241\n",
      "\n",
      "$Q4\n",
      "[1] 32105\n",
      "\n",
      "======================\n",
      "$Q1\n",
      "[1]  8000 68000\n",
      "\n",
      "$Q2\n",
      "[1]  69000 171000\n",
      "\n",
      "$Q3\n",
      "[1] 172000 414000\n",
      "\n",
      "$Q4\n",
      "[1]  415000 9640000\n",
      "\n",
      "======================\n",
      "   Min. 1st Qu.  Median    Mean 3rd Qu.    Max. \n",
      "   8000   68000  171000  381303  414000 9640000 \n",
      "======================\n",
      "   Min. 1st Qu.  Median    Mean 3rd Qu.    Max. \n",
      "    8.0    68.0   171.0   381.3   414.0  9640.0 \n"
     ]
    }
   ],
   "source": [
    "lst = lst_dat_hic_loop_info\n",
    "\n",
    "cat(\"======================\\n\")\n",
    "res = lapply(lst, nrow)\n",
    "print(res)\n",
    "\n",
    "cat(\"======================\\n\")\n",
    "res = lapply(lst, function(dat){range(dat$Distance)})\n",
    "print(res)\n",
    "\n",
    "cat(\"======================\\n\")\n",
    "res = summary(dat$Distance)\n",
    "print(res)\n",
    "\n",
    "cat(\"======================\\n\")\n",
    "res = summary(dat$Distance)/1000\n",
    "print(res)"
   ]
  },
  {
   "cell_type": "markdown",
   "metadata": {},
   "source": [
    "## Summary: visualization"
   ]
  },
  {
   "cell_type": "code",
   "execution_count": 31,
   "metadata": {},
   "outputs": [
    {
     "name": "stderr",
     "output_type": "stream",
     "text": [
      "Warning message:\n",
      "“\u001b[1m\u001b[22mRemoved 1729 rows containing non-finite values (`stat_bin()`).”\n",
      "Warning message:\n",
      "“\u001b[1m\u001b[22mRemoved 2 rows containing missing values (`geom_bar()`).”\n"
     ]
    },
    {
     "data": {
      "image/png": "[encoded data removed]",
      "text/plain": [
       "plot without title"
      ]
     },
     "metadata": {
      "image/png": {
       "height": 300,
       "width": 600
      }
     },
     "output_type": "display_data"
    }
   ],
   "source": [
    "theme_txt = theme(\n",
    "    axis.title = element_text(size=17),\n",
    "    axis.text  = element_text(size=12)\n",
    ")\n",
    "gpt = ggplot(dat, aes(x=Distance / 1000)) + \n",
    "    geom_histogram(bins = 50) + \n",
    "    labs(x=\"Loop Distance (Kb)\", y=\"Count\") +\n",
    "    xlim(0, 3000) +\n",
    "    theme_cowplot() +\n",
    "    theme_txt\n",
    "\n",
    "options(repr.plot.height = 5, repr.plot.width = 10)\n",
    "print(gpt)"
   ]
  },
  {
   "cell_type": "code",
   "execution_count": 32,
   "metadata": {},
   "outputs": [
    {
     "data": {
      "image/png": "[encoded data removed]",
      "text/plain": [
       "plot without title"
      ]
     },
     "metadata": {
      "image/png": {
       "height": 300,
       "width": 300
      }
     },
     "output_type": "display_data"
    }
   ],
   "source": [
    "theme_txt = theme(\n",
    "    axis.title   = element_text(size=17),\n",
    "    axis.text.y  = element_text(size=12),\n",
    "    axis.text.x  = element_blank(),\n",
    "    axis.ticks.x = element_blank(),\n",
    ")\n",
    "gpt = ggplot(dat, aes(y=Distance / 1000)) + \n",
    "    geom_boxplot() + \n",
    "    labs(y=\"Loop Distance (Kb)\", x=\"Intact Hi-C (Deep)\") +\n",
    "    theme_cowplot() +\n",
    "    theme_txt\n",
    "\n",
    "options(repr.plot.height = 5, repr.plot.width = 5)\n",
    "print(gpt)"
   ]
  },
  {
   "cell_type": "code",
   "execution_count": null,
   "metadata": {},
   "outputs": [],
   "source": []
  }
 ],
 "metadata": {
  "kernelspec": {
   "display_name": "R",
   "language": "R",
   "name": "ir"
  },
  "language_info": {
   "codemirror_mode": "r",
   "file_extension": ".r",
   "mimetype": "text/x-r-source",
   "name": "R",
   "pygments_lexer": "r",
   "version": "4.3.0"
  }
 },
 "nbformat": 4,
 "nbformat_minor": 4
}
