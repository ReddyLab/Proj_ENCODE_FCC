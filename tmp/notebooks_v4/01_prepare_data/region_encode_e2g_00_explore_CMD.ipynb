{
 "cells": [
  {
   "cell_type": "markdown",
   "id": "6b1688e5-2d3a-4553-99bc-9b483e6081d0",
   "metadata": {},
   "source": [
    "**Set environment**"
   ]
  },
  {
   "cell_type": "code",
   "execution_count": 1,
   "id": "8c0bf8d6-c003-4462-94ac-a8763dda9a96",
   "metadata": {},
   "outputs": [
    {
     "name": "stdout",
     "output_type": "stream",
     "text": [
      "You are on Duke Server: HARDAC\n",
      "BASE DIRECTORY (FD_BASE): /data/reddylab/Kuei\n",
      "WORK DIRECTORY (FD_WORK): /data/reddylab/Kuei/out\n",
      "CODE DIRECTORY (FD_CODE): /data/reddylab/Kuei/code\n",
      "SING DIRECTORY (FD_SING): /data/reddylab/Kuei/singularity\n",
      "PATH OF PROJECT (FD_PRJ): /data/reddylab/Kuei/code/Proj_CombEffect_ENCODE_FCC\n",
      "PATH OF RESULTS (FD_RES): /data/reddylab/Kuei/out/proj_combeffect_encode_fcc\n",
      "PATH OF LOG     (FD_LOG): /data/reddylab/Kuei/out/proj_combeffect_encode_fcc/log\n",
      "\n"
     ]
    }
   ],
   "source": [
    "### set env\n",
    "source ../config/config_duke.sh\n",
    "show_env"
   ]
  },
  {
   "cell_type": "code",
   "execution_count": 5,
   "id": "69aad8dc-69a6-43d3-b36a-e2440d3fd25c",
   "metadata": {},
   "outputs": [
    {
     "name": "stdout",
     "output_type": "stream",
     "text": [
      "\u001b[0m\u001b[38;5;9mK562.ENCSR328LMT.ENCFF122UMY.element_gene_links.bed.gz\u001b[0m\n",
      "\u001b[38;5;9mK562.ENCSR328LMT.ENCFF202FID.element_gene_links.thresholded.bed.gz\u001b[0m\n",
      "K562.ENCSR328LMT.ENCFF307CCC.element_gene_links.thresholded.bigInteract\n",
      "\u001b[38;5;9mK562.ENCSR328LMT.ENCFF539OMA.element_gene_links.thresholded.bedpe.gz\u001b[0m\n",
      "Readme.md\n"
     ]
    }
   ],
   "source": [
    "FDIRY=${FD_RES}/source/ENCODE_E2G/annotation_e2g_prediction_ENCSR328LMT\n",
    "ls ${FDIRY}"
   ]
  },
  {
   "cell_type": "code",
   "execution_count": 6,
   "id": "55434914-87e7-4f92-a122-1b2b5ee1faaa",
   "metadata": {},
   "outputs": [],
   "source": [
    "rm ${FDIRY}/K562.ENCSR328LMT.ENCFF122UMY.element_gene_links.bed.gz"
   ]
  },
  {
   "cell_type": "code",
   "execution_count": 3,
   "id": "388380c1-acfb-440f-8e56-766958f69883",
   "metadata": {},
   "outputs": [
    {
     "name": "stdout",
     "output_type": "stream",
     "text": [
      "total 1.9G\n",
      "-rw-rw-r-- 1 kk319 reddylab 1.1G Aug 28 10:31 \u001b[0m\u001b[38;5;9mENCFF122UMY.bed.gz\u001b[0m\n",
      "-rw-rw-r-- 1 kk319 reddylab 801M Aug 13 12:24 \u001b[38;5;9mK562.ENCSR328LMT.ENCFF122UMY.element_gene_links.bed.gz\u001b[0m\n",
      "-rw-rw-r-- 1 kk319 reddylab  17M Aug 13 12:15 \u001b[38;5;9mK562.ENCSR328LMT.ENCFF202FID.element_gene_links.thresholded.bed.gz\u001b[0m\u001b[K\n",
      "-rw-rw-r-- 1 kk319 reddylab 4.1M Aug 13 12:14 K562.ENCSR328LMT.ENCFF307CCC.element_gene_links.thresholded.bigInteract\n",
      "-rw-rw-r-- 1 kk319 reddylab 2.6M Aug 13 12:14 \u001b[38;5;9mK562.ENCSR328LMT.ENCFF539OMA.element_gene_links.thresholded.bedpe.gz\u001b[0m\u001b[K\n",
      "-rw-rw-r-- 1 kk319 reddylab  687 Aug 13 12:22 Readme.md\n"
     ]
    }
   ],
   "source": [
    "FDIRY=${FD_RES}/source/ENCODE_E2G/annotation_e2g_prediction_ENCSR328LMT\n",
    "ls -lh ${FDIRY}"
   ]
  },
  {
   "cell_type": "code",
   "execution_count": 14,
   "id": "d4474aba-8f8a-4dd0-8b46-e54fd13df9d0",
   "metadata": {},
   "outputs": [
    {
     "name": "stdout",
     "output_type": "stream",
     "text": [
      "-rw-rw-r-- 1 kk319 reddylab 839909376 Aug 13 12:24 \u001b[0m\u001b[38;5;9m/data/reddylab/Kuei/out/proj_combeffect_encode_fcc/source/ENCODE_E2G/annotation_e2g_prediction_ENCSR328LMT/K562.ENCSR328LMT.ENCFF122UMY.element_gene_links.bed.gz\u001b[0m\u001b[K\n"
     ]
    }
   ],
   "source": [
    "FDIRY=${FD_RES}/source/ENCODE_E2G/annotation_e2g_prediction_ENCSR328LMT\n",
    "FNAME=K562.ENCSR328LMT.ENCFF122UMY.element_gene_links.bed.gz\n",
    "FPATH=${FDIRY}/${FNAME}\n",
    "ls -l ${FPATH}"
   ]
  },
  {
   "cell_type": "code",
   "execution_count": 15,
   "id": "e38f0c23-c34c-4be1-a4c8-df5045c18365",
   "metadata": {},
   "outputs": [
    {
     "name": "stdout",
     "output_type": "stream",
     "text": [
      "-rw-rw-r-- 1 kk319 reddylab 1137208878 Aug 28 10:31 \u001b[0m\u001b[38;5;9m/data/reddylab/Kuei/out/proj_combeffect_encode_fcc/source/ENCODE_E2G/annotation_e2g_prediction_ENCSR328LMT/ENCFF122UMY.bed.gz\u001b[0m\u001b[K\n"
     ]
    }
   ],
   "source": [
    "FDIRY=${FD_RES}/source/ENCODE_E2G/annotation_e2g_prediction_ENCSR328LMT\n",
    "FNAME=ENCFF122UMY.bed.gz\n",
    "FPATH=${FDIRY}/${FNAME}\n",
    "ls -l ${FPATH}"
   ]
  },
  {
   "cell_type": "code",
   "execution_count": null,
   "id": "6a572f8f-930a-48f6-879f-00860c00225a",
   "metadata": {},
   "outputs": [],
   "source": []
  },
  {
   "cell_type": "code",
   "execution_count": null,
   "id": "1c0b1799-0ff3-4bd3-861f-82c21c86af60",
   "metadata": {},
   "outputs": [],
   "source": []
  },
  {
   "cell_type": "code",
   "execution_count": null,
   "id": "0a6d7287-004f-4ad3-8ff5-bf1a0564154b",
   "metadata": {},
   "outputs": [],
   "source": []
  },
  {
   "cell_type": "code",
   "execution_count": null,
   "id": "dedc4b42-cf5f-4b94-bc1b-c91174015731",
   "metadata": {},
   "outputs": [],
   "source": []
  },
  {
   "cell_type": "code",
   "execution_count": null,
   "id": "57c88d3c-e295-49e0-b19d-dee3600a4bf7",
   "metadata": {},
   "outputs": [],
   "source": []
  },
  {
   "cell_type": "code",
   "execution_count": null,
   "id": "5a0fd78a-1203-42c6-b467-848fd40bf1fc",
   "metadata": {},
   "outputs": [],
   "source": []
  },
  {
   "cell_type": "code",
   "execution_count": 11,
   "id": "b494c960-aaf3-463f-84bd-31c924c5e93c",
   "metadata": {},
   "outputs": [
    {
     "name": "stdout",
     "output_type": "stream",
     "text": [
      "--2023-08-28 10:18:03--  https://www.encodeproject.org/files/ENCFF307CCC/@@download/ENCFF307CCC.bigInteract\n",
      "Resolving www.encodeproject.org (www.encodeproject.org)... 34.211.244.144\n",
      "Connecting to www.encodeproject.org (www.encodeproject.org)|34.211.244.144|:443... connected.\n",
      "HTTP request sent, awaiting response... 403 Forbidden\n",
      "2023-08-28 10:18:06 ERROR 403: Forbidden.\n",
      "\n"
     ]
    },
    {
     "ename": "",
     "evalue": "8",
     "output_type": "error",
     "traceback": []
    }
   ],
   "source": [
    "FDIRY=${FD_RES}/source/ENCODE_E2G/annotation_e2g_prediction_ENCSR328LMT\n",
    "FNAME=K562.ENCSR328LMT.ENCFF307CCC.element_gene_links.thresholded.bigInteract\n",
    "FPATH=${FDIRY}/${FNAME}\n",
    "\n",
    "URL=https://www.encodeproject.org/files/ENCFF307CCC/@@download/ENCFF307CCC.bigInteract\n",
    "\n",
    "wget -O ${FNAME} ${URL}"
   ]
  },
  {
   "cell_type": "code",
   "execution_count": null,
   "id": "1c444665-0da5-4bb5-8f83-6ec8f6f5ddfc",
   "metadata": {},
   "outputs": [],
   "source": [
    "FDIRY=${FD_RES}/source/ENCODE_E2G/annotation_e2g_prediction_ENCSR328LMT\n",
    "FNAME=K562.ENCSR328LMT.ENCFF122UMY.element_gene_links.bed.gz\n",
    "FPATH=${FDIRY}/${FNAME}\n",
    "\n",
    "wget https://www.encodeproject.org/files/ENCFF122UMY/@@download/ENCFF122UMY.bed.gz"
   ]
  },
  {
   "cell_type": "code",
   "execution_count": null,
   "id": "7d6a2542-4484-401d-a148-150585106fc1",
   "metadata": {},
   "outputs": [],
   "source": []
  },
  {
   "cell_type": "code",
   "execution_count": null,
   "id": "75eb8345-eebc-4f37-bdfd-b4baad5cce45",
   "metadata": {},
   "outputs": [],
   "source": []
  },
  {
   "cell_type": "code",
   "execution_count": null,
   "id": "764326fb-813a-4dae-af99-50e444c6808b",
   "metadata": {},
   "outputs": [],
   "source": []
  }
 ],
 "metadata": {
  "kernelspec": {
   "display_name": "Bash",
   "language": "bash",
   "name": "bash"
  },
  "language_info": {
   "codemirror_mode": "shell",
   "file_extension": ".sh",
   "mimetype": "text/x-sh",
   "name": "bash"
  }
 },
 "nbformat": 4,
 "nbformat_minor": 5
}
