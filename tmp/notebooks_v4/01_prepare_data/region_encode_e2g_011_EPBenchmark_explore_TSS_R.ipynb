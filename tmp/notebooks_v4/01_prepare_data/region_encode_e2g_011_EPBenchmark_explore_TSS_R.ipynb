{
 "cells": [
  {
   "cell_type": "markdown",
   "metadata": {},
   "source": [
    "**Set environment**"
   ]
  },
  {
   "cell_type": "code",
   "execution_count": 1,
   "metadata": {},
   "outputs": [
    {
     "name": "stdout",
     "output_type": "stream",
     "text": [
      "You are in Singularity: singularity_proj_encode_fcc \n",
      "BASE DIRECTORY (FD_BASE): /data/reddylab/Kuei \n",
      "WORK DIRECTORY (FD_WORK): /data/reddylab/Kuei/out \n",
      "CODE DIRECTORY (FD_CODE): /data/reddylab/Kuei/code \n",
      "PATH OF PROJECT (FD_PRJ): /data/reddylab/Kuei/code/Proj_CombEffect_ENCODE_FCC \n",
      "PATH OF RESULTS (FD_RES): /data/reddylab/Kuei/out/proj_combeffect_encode_fcc \n",
      "PATH OF LOG     (FD_LOG): /data/reddylab/Kuei/out/proj_combeffect_encode_fcc/log \n"
     ]
    }
   ],
   "source": [
    "suppressMessages(suppressWarnings(source(\"../config/config_sing.R\")))\n",
    "show_env()"
   ]
  },
  {
   "cell_type": "markdown",
   "metadata": {},
   "source": [
    "## TSS from Jin Woo"
   ]
  },
  {
   "cell_type": "code",
   "execution_count": 2,
   "metadata": {},
   "outputs": [
    {
     "name": "stdout",
     "output_type": "stream",
     "text": [
      "[1] 29330     4\n"
     ]
    },
    {
     "data": {
      "text/html": [
       "<table class=\"dataframe\">\n",
       "<caption>A tibble: 6 × 4</caption>\n",
       "<thead>\n",
       "\t<tr><th scope=col>gene_name</th><th scope=col>chr</th><th scope=col>TSS</th><th scope=col>TSS_POL2_sig</th></tr>\n",
       "\t<tr><th scope=col>&lt;chr&gt;</th><th scope=col>&lt;chr&gt;</th><th scope=col>&lt;dbl&gt;</th><th scope=col>&lt;dbl&gt;</th></tr>\n",
       "</thead>\n",
       "<tbody>\n",
       "\t<tr><td>A1BG-AS1</td><td>chr19</td><td>58351969</td><td>1.52180000</td></tr>\n",
       "\t<tr><td>A1BG    </td><td>chr19</td><td>58353492</td><td>5.62284000</td></tr>\n",
       "\t<tr><td>A1CF    </td><td>chr10</td><td>50885675</td><td>0.00706126</td></tr>\n",
       "\t<tr><td>A2M-AS1 </td><td>chr12</td><td> 9065176</td><td>0.00201544</td></tr>\n",
       "\t<tr><td>A2M     </td><td>chr12</td><td> 9115919</td><td>0.04005220</td></tr>\n",
       "\t<tr><td>A2ML1   </td><td>chr12</td><td> 8845003</td><td>0.26862300</td></tr>\n",
       "</tbody>\n",
       "</table>\n"
      ],
      "text/latex": [
       "A tibble: 6 × 4\n",
       "\\begin{tabular}{llll}\n",
       " gene\\_name & chr & TSS & TSS\\_POL2\\_sig\\\\\n",
       " <chr> & <chr> & <dbl> & <dbl>\\\\\n",
       "\\hline\n",
       "\t A1BG-AS1 & chr19 & 58351969 & 1.52180000\\\\\n",
       "\t A1BG     & chr19 & 58353492 & 5.62284000\\\\\n",
       "\t A1CF     & chr10 & 50885675 & 0.00706126\\\\\n",
       "\t A2M-AS1  & chr12 &  9065176 & 0.00201544\\\\\n",
       "\t A2M      & chr12 &  9115919 & 0.04005220\\\\\n",
       "\t A2ML1    & chr12 &  8845003 & 0.26862300\\\\\n",
       "\\end{tabular}\n"
      ],
      "text/markdown": [
       "\n",
       "A tibble: 6 × 4\n",
       "\n",
       "| gene_name &lt;chr&gt; | chr &lt;chr&gt; | TSS &lt;dbl&gt; | TSS_POL2_sig &lt;dbl&gt; |\n",
       "|---|---|---|---|\n",
       "| A1BG-AS1 | chr19 | 58351969 | 1.52180000 |\n",
       "| A1BG     | chr19 | 58353492 | 5.62284000 |\n",
       "| A1CF     | chr10 | 50885675 | 0.00706126 |\n",
       "| A2M-AS1  | chr12 |  9065176 | 0.00201544 |\n",
       "| A2M      | chr12 |  9115919 | 0.04005220 |\n",
       "| A2ML1    | chr12 |  8845003 | 0.26862300 |\n",
       "\n"
      ],
      "text/plain": [
       "  gene_name chr   TSS      TSS_POL2_sig\n",
       "1 A1BG-AS1  chr19 58351969 1.52180000  \n",
       "2 A1BG      chr19 58353492 5.62284000  \n",
       "3 A1CF      chr10 50885675 0.00706126  \n",
       "4 A2M-AS1   chr12  9065176 0.00201544  \n",
       "5 A2M       chr12  9115919 0.04005220  \n",
       "6 A2ML1     chr12  8845003 0.26862300  "
      ]
     },
     "metadata": {},
     "output_type": "display_data"
    }
   ],
   "source": [
    "### set file directory\n",
    "fdiry = file.path(FD_RES, \"source\", \"annotation_gene\")\n",
    "fname = \"K562_TSS_selected_by_higest_Pol2_TSS_sig.out\"\n",
    "fpath = file.path(fdiry, fname)\n",
    "\n",
    "### read file\n",
    "dat = read_tsv(fpath, show_col_types = FALSE)\n",
    "\n",
    "### assign and show\n",
    "dat_gene_tss_pol2 = dat\n",
    "print(dim(dat))\n",
    "head(dat)"
   ]
  },
  {
   "cell_type": "markdown",
   "metadata": {},
   "source": [
    "## TSS from Gencode"
   ]
  },
  {
   "cell_type": "code",
   "execution_count": 3,
   "metadata": {},
   "outputs": [
    {
     "name": "stdout",
     "output_type": "stream",
     "text": [
      "[1] 62696     9\n"
     ]
    },
    {
     "data": {
      "text/html": [
       "<table class=\"dataframe\">\n",
       "<caption>A tibble: 6 × 9</caption>\n",
       "<thead>\n",
       "\t<tr><th scope=col>Chrom</th><th scope=col>Start</th><th scope=col>End</th><th scope=col>Name</th><th scope=col>Score</th><th scope=col>Strand</th><th scope=col>Gene_Symbol</th><th scope=col>X</th><th scope=col>Note</th></tr>\n",
       "\t<tr><th scope=col>&lt;chr&gt;</th><th scope=col>&lt;dbl&gt;</th><th scope=col>&lt;dbl&gt;</th><th scope=col>&lt;chr&gt;</th><th scope=col>&lt;chr&gt;</th><th scope=col>&lt;chr&gt;</th><th scope=col>&lt;chr&gt;</th><th scope=col>&lt;dbl&gt;</th><th scope=col>&lt;chr&gt;</th></tr>\n",
       "</thead>\n",
       "<tbody>\n",
       "\t<tr><td>chr1</td><td>11868</td><td>14409</td><td>ENSG00000290825.1</td><td>.</td><td>+</td><td>DDX11L2    </td><td>2</td><td>overlaps_pseudogene</td></tr>\n",
       "\t<tr><td>chr1</td><td>12009</td><td>13670</td><td>ENSG00000223972.6</td><td>.</td><td>+</td><td>DDX11L1    </td><td>2</td><td>HGNC:37102         </td></tr>\n",
       "\t<tr><td>chr1</td><td>14403</td><td>29570</td><td>ENSG00000227232.5</td><td>.</td><td>-</td><td>WASH7P     </td><td>2</td><td>HGNC:38034         </td></tr>\n",
       "\t<tr><td>chr1</td><td>17368</td><td>17436</td><td>ENSG00000278267.1</td><td>.</td><td>-</td><td>MIR6859-1  </td><td>3</td><td>HGNC:50039         </td></tr>\n",
       "\t<tr><td>chr1</td><td>29553</td><td>31109</td><td>ENSG00000243485.5</td><td>.</td><td>+</td><td>MIR1302-2HG</td><td>2</td><td>HGNC:52482         </td></tr>\n",
       "\t<tr><td>chr1</td><td>30365</td><td>30503</td><td>ENSG00000284332.1</td><td>.</td><td>+</td><td>MIR1302-2  </td><td>3</td><td>HGNC:35294         </td></tr>\n",
       "</tbody>\n",
       "</table>\n"
      ],
      "text/latex": [
       "A tibble: 6 × 9\n",
       "\\begin{tabular}{lllllllll}\n",
       " Chrom & Start & End & Name & Score & Strand & Gene\\_Symbol & X & Note\\\\\n",
       " <chr> & <dbl> & <dbl> & <chr> & <chr> & <chr> & <chr> & <dbl> & <chr>\\\\\n",
       "\\hline\n",
       "\t chr1 & 11868 & 14409 & ENSG00000290825.1 & . & + & DDX11L2     & 2 & overlaps\\_pseudogene\\\\\n",
       "\t chr1 & 12009 & 13670 & ENSG00000223972.6 & . & + & DDX11L1     & 2 & HGNC:37102         \\\\\n",
       "\t chr1 & 14403 & 29570 & ENSG00000227232.5 & . & - & WASH7P      & 2 & HGNC:38034         \\\\\n",
       "\t chr1 & 17368 & 17436 & ENSG00000278267.1 & . & - & MIR6859-1   & 3 & HGNC:50039         \\\\\n",
       "\t chr1 & 29553 & 31109 & ENSG00000243485.5 & . & + & MIR1302-2HG & 2 & HGNC:52482         \\\\\n",
       "\t chr1 & 30365 & 30503 & ENSG00000284332.1 & . & + & MIR1302-2   & 3 & HGNC:35294         \\\\\n",
       "\\end{tabular}\n"
      ],
      "text/markdown": [
       "\n",
       "A tibble: 6 × 9\n",
       "\n",
       "| Chrom &lt;chr&gt; | Start &lt;dbl&gt; | End &lt;dbl&gt; | Name &lt;chr&gt; | Score &lt;chr&gt; | Strand &lt;chr&gt; | Gene_Symbol &lt;chr&gt; | X &lt;dbl&gt; | Note &lt;chr&gt; |\n",
       "|---|---|---|---|---|---|---|---|---|\n",
       "| chr1 | 11868 | 14409 | ENSG00000290825.1 | . | + | DDX11L2     | 2 | overlaps_pseudogene |\n",
       "| chr1 | 12009 | 13670 | ENSG00000223972.6 | . | + | DDX11L1     | 2 | HGNC:37102          |\n",
       "| chr1 | 14403 | 29570 | ENSG00000227232.5 | . | - | WASH7P      | 2 | HGNC:38034          |\n",
       "| chr1 | 17368 | 17436 | ENSG00000278267.1 | . | - | MIR6859-1   | 3 | HGNC:50039          |\n",
       "| chr1 | 29553 | 31109 | ENSG00000243485.5 | . | + | MIR1302-2HG | 2 | HGNC:52482          |\n",
       "| chr1 | 30365 | 30503 | ENSG00000284332.1 | . | + | MIR1302-2   | 3 | HGNC:35294          |\n",
       "\n"
      ],
      "text/plain": [
       "  Chrom Start End   Name              Score Strand Gene_Symbol X\n",
       "1 chr1  11868 14409 ENSG00000290825.1 .     +      DDX11L2     2\n",
       "2 chr1  12009 13670 ENSG00000223972.6 .     +      DDX11L1     2\n",
       "3 chr1  14403 29570 ENSG00000227232.5 .     -      WASH7P      2\n",
       "4 chr1  17368 17436 ENSG00000278267.1 .     -      MIR6859-1   3\n",
       "5 chr1  29553 31109 ENSG00000243485.5 .     +      MIR1302-2HG 2\n",
       "6 chr1  30365 30503 ENSG00000284332.1 .     +      MIR1302-2   3\n",
       "  Note               \n",
       "1 overlaps_pseudogene\n",
       "2 HGNC:37102         \n",
       "3 HGNC:38034         \n",
       "4 HGNC:50039         \n",
       "5 HGNC:52482         \n",
       "6 HGNC:35294         "
      ]
     },
     "metadata": {},
     "output_type": "display_data"
    }
   ],
   "source": [
    "fdiry = \"/data/reddylab/Reference_Data/Gencode/v42\"\n",
    "fname = \"gencode.v42.basic.annotation.genes.bed\"\n",
    "fpath = file.path(fdiry, fname)\n",
    "\n",
    "cnames = c(\"Chrom\", \"Start\", \"End\", \"Name\", \"Score\", \"Strand\", \"Gene_Symbol\", \"X\", \"Note\")\n",
    "dat = read_tsv(fpath, col_names = cnames, comment = \"##\", show_col_types = FALSE)\n",
    "\n",
    "dat_gencode_gene = dat\n",
    "print(dim(dat))\n",
    "head(dat)"
   ]
  },
  {
   "cell_type": "code",
   "execution_count": null,
   "metadata": {},
   "outputs": [],
   "source": []
  },
  {
   "cell_type": "code",
   "execution_count": 15,
   "metadata": {},
   "outputs": [],
   "source": [
    "fdiry = file.path(FD_RES, \"source\", \"ENCODE_E2G\")\n",
    "fname = \"EPCrisprBenchmark_ensemble_data_GRCh38.tsv\"\n",
    "fpath = file.path(fdiry, fname)\n",
    "\n",
    "dat = read_tsv(fpath, show_col_types = FALSE)\n",
    "\n",
    "dat_peak_encode_e2g_import  = dat"
   ]
  },
  {
   "cell_type": "code",
   "execution_count": 19,
   "metadata": {},
   "outputs": [
    {
     "name": "stdout",
     "output_type": "stream",
     "text": [
      "10412 \n",
      "================\n",
      "\n",
      "FALSE  TRUE \n",
      " 9924   487 \n",
      "================\n",
      "\n",
      " TRUE \n",
      "10412 \n"
     ]
    }
   ],
   "source": [
    "dat = dat_peak_encode_e2g_import\n",
    "\n",
    "cat(nrow(dat), \"\\n\")\n",
    "cat(\"================\\n\")\n",
    "print(table(dat$Regulated))\n",
    "cat(\"================\\n\")\n",
    "print(table(dat$ValidConnection))"
   ]
  },
  {
   "cell_type": "code",
   "execution_count": null,
   "metadata": {},
   "outputs": [],
   "source": [
    "fdiry = file.path(FD_RES, \"source\", \"ENCODE_E2G\")\n",
    "fname = \"RefSeqCurated.170308.bed.CollapsedGeneBounds.hg38.TSS500bp.bed\"\n",
    "fpath = file.path(fdiry, fname)\n",
    "\n",
    "dat = read_tsv(fpath, col_names=FALSE, show_col_types = FALSE)\n",
    "\n",
    "dat_gene = dat\n",
    "print(dim(dat))\n",
    "head(dat)"
   ]
  },
  {
   "cell_type": "code",
   "execution_count": null,
   "metadata": {},
   "outputs": [],
   "source": [
    "dat = dat_peak_encode_e2g_import\n",
    "\n",
    "# filter crispr data for valid connections (e.g. no promoters) and only retaun E-G pairs from genes\n",
    "# in gene universe\n",
    "dat <- dplyr::filter(dat, ValidConnection == TRUE, measuredGeneSymbol %in% dat_gene$X4)\n",
    "\n",
    "table(dat$Regulated)"
   ]
  },
  {
   "cell_type": "code",
   "execution_count": 22,
   "metadata": {},
   "outputs": [
    {
     "name": "stdout",
     "output_type": "stream",
     "text": [
      "\n",
      "FALSE  TRUE \n",
      " 9924   487 \n",
      "\n",
      "FALSE  TRUE \n",
      " 9903   472 \n"
     ]
    }
   ],
   "source": [
    "dat = dat_peak_encode_e2g_import\n",
    "print(table(dat$Regulated))\n",
    "\n",
    "dat = dplyr::filter(dat, measuredGeneSymbol %in% dat_gene$X4)\n",
    "print(table(dat$Regulated))"
   ]
  },
  {
   "cell_type": "code",
   "execution_count": 23,
   "metadata": {},
   "outputs": [
    {
     "name": "stdout",
     "output_type": "stream",
     "text": [
      "\n",
      "FALSE  TRUE \n",
      " 9924   487 \n",
      "\n",
      "FALSE  TRUE \n",
      "   21    15 \n"
     ]
    }
   ],
   "source": [
    "dat = dat_peak_encode_e2g_import\n",
    "print(table(dat$Regulated))\n",
    "\n",
    "dat = dplyr::filter(dat, !(measuredGeneSymbol %in% dat_gene$X4))\n",
    "print(table(dat$Regulated))"
   ]
  },
  {
   "cell_type": "code",
   "execution_count": 27,
   "metadata": {},
   "outputs": [
    {
     "name": "stdout",
     "output_type": "stream",
     "text": [
      "RP4-798A10.7 \n",
      "RP1-18D14.7 \n",
      "RP11-85G21.3 \n",
      "RP11-620J15.3 \n",
      "MLXIP \n",
      "WASH4P \n",
      "CTD-2576D5.4 \n",
      "RP11-20B24.2 \n",
      "RP11-498C9.15 \n",
      "GLTSCR2 \n",
      "AC016723.4 \n",
      "UFD1L \n",
      "RP11-424N24.2 \n",
      "AC093323.3 \n",
      "RP11-328K4.1 \n",
      "CTD-2366F13.1 \n",
      "RP1-40E16.9 \n",
      "STK19 \n",
      "RP3-460G2.2 \n",
      "AC002480.3 \n",
      "AC073072.5 \n",
      "WBSCR22 \n",
      "CTA-392E5.1 \n",
      "RP11-809O17.1 \n",
      "RP6-159A1.3 \n"
     ]
    }
   ],
   "source": [
    "vec = dat$measuredGeneSymbol\n",
    "vec = unique(vec)\n",
    "for (x in vec){cat(x, \"\\n\")}"
   ]
  },
  {
   "cell_type": "code",
   "execution_count": null,
   "metadata": {},
   "outputs": [],
   "source": []
  },
  {
   "cell_type": "markdown",
   "metadata": {},
   "source": [
    "## Import data: CRISRPi-E2G"
   ]
  },
  {
   "cell_type": "code",
   "execution_count": 4,
   "metadata": {},
   "outputs": [
    {
     "name": "stdout",
     "output_type": "stream",
     "text": [
      "[1] 10412    25\n"
     ]
    },
    {
     "data": {
      "text/html": [
       "<table class=\"dataframe\">\n",
       "<caption>A tibble: 6 × 25</caption>\n",
       "<thead>\n",
       "\t<tr><th scope=col>dataset</th><th scope=col>chrom</th><th scope=col>chromStart</th><th scope=col>chromEnd</th><th scope=col>name</th><th scope=col>EffectSize</th><th scope=col>chrTSS</th><th scope=col>startTSS</th><th scope=col>endTSS</th><th scope=col>measuredGeneSymbol</th><th scope=col>⋯</th><th scope=col>Reference</th><th scope=col>Regulated</th><th scope=col>PowerAtEffectSize10</th><th scope=col>PowerAtEffectSize15</th><th scope=col>PowerAtEffectSize20</th><th scope=col>PowerAtEffectSize50</th><th scope=col>pair_uid</th><th scope=col>merged_uid</th><th scope=col>merged_start</th><th scope=col>merged_end</th></tr>\n",
       "\t<tr><th scope=col>&lt;chr&gt;</th><th scope=col>&lt;chr&gt;</th><th scope=col>&lt;dbl&gt;</th><th scope=col>&lt;dbl&gt;</th><th scope=col>&lt;chr&gt;</th><th scope=col>&lt;dbl&gt;</th><th scope=col>&lt;chr&gt;</th><th scope=col>&lt;dbl&gt;</th><th scope=col>&lt;dbl&gt;</th><th scope=col>&lt;chr&gt;</th><th scope=col>⋯</th><th scope=col>&lt;chr&gt;</th><th scope=col>&lt;lgl&gt;</th><th scope=col>&lt;dbl&gt;</th><th scope=col>&lt;dbl&gt;</th><th scope=col>&lt;dbl&gt;</th><th scope=col>&lt;dbl&gt;</th><th scope=col>&lt;chr&gt;</th><th scope=col>&lt;dbl&gt;</th><th scope=col>&lt;dbl&gt;</th><th scope=col>&lt;dbl&gt;</th></tr>\n",
       "</thead>\n",
       "<tbody>\n",
       "\t<tr><td>FlowFISH_K562</td><td>chr1</td><td>3774714</td><td>3775214</td><td>CEP104|chr1:3691278-3691778:*</td><td>-0.293431866</td><td>chr1</td><td>3857213</td><td>3857214</td><td>CEP104</td><td>⋯</td><td>Ulirsch2016           </td><td> TRUE</td><td>  NA</td><td>  NA</td><td>  NA</td><td>NA</td><td>FlowFISH_K562|CEP104|chr1:3691278-3691778:*</td><td>1</td><td>3774714</td><td>3775214</td></tr>\n",
       "\t<tr><td>FlowFISH_K562</td><td>chr1</td><td>3774714</td><td>3775214</td><td>LRRC47|chr1:3691278-3691778:*</td><td>-0.331178093</td><td>chr1</td><td>3796503</td><td>3796504</td><td>LRRC47</td><td>⋯</td><td>Ulirsch2016           </td><td> TRUE</td><td>  NA</td><td>  NA</td><td>  NA</td><td>NA</td><td>FlowFISH_K562|LRRC47|chr1:3691278-3691778:*</td><td>2</td><td>3774714</td><td>3775214</td></tr>\n",
       "\t<tr><td>Gasperini2019</td><td>chr1</td><td>3803570</td><td>3805848</td><td>LRRC47|chr1:3720134-3722412:.</td><td>-0.001471265</td><td>chr1</td><td>3796503</td><td>3796504</td><td>LRRC47</td><td>⋯</td><td>Gasperini et al., 2019</td><td>FALSE</td><td>0.40</td><td>0.80</td><td>0.85</td><td> 1</td><td>Gasperini2019|LRRC47|chr1:3720134-3722412:.</td><td>3</td><td>3803570</td><td>3805848</td></tr>\n",
       "\t<tr><td>FlowFISH_K562</td><td>chr1</td><td>3774714</td><td>3775214</td><td>SMIM1|chr1:3691278-3691778:* </td><td>-0.472019217</td><td>chr1</td><td>3772761</td><td>3772762</td><td>SMIM1 </td><td>⋯</td><td>Ulirsch2016           </td><td> TRUE</td><td>  NA</td><td>  NA</td><td>  NA</td><td>NA</td><td>FlowFISH_K562|SMIM1|chr1:3691278-3691778:* </td><td>4</td><td>3774714</td><td>3775214</td></tr>\n",
       "\t<tr><td>Gasperini2019</td><td>chr1</td><td>3803570</td><td>3805848</td><td>SMIM1|chr1:3720134-3722412:. </td><td> 0.025676924</td><td>chr1</td><td>3772788</td><td>3772789</td><td>SMIM1 </td><td>⋯</td><td>Gasperini et al., 2019</td><td>FALSE</td><td>0.80</td><td>0.85</td><td>1.00</td><td> 1</td><td>Gasperini2019|SMIM1|chr1:3720134-3722412:. </td><td>5</td><td>3803570</td><td>3805848</td></tr>\n",
       "\t<tr><td>Gasperini2019</td><td>chr1</td><td>4126791</td><td>4127291</td><td>SMIM1|chr1:4186851-4187351:. </td><td> 0.023383787</td><td>chr1</td><td>3772788</td><td>3772789</td><td>SMIM1 </td><td>⋯</td><td>Gasperini et al., 2019</td><td>FALSE</td><td>0.55</td><td>0.80</td><td>0.90</td><td> 1</td><td>Gasperini2019|SMIM1|chr1:4186851-4187351:. </td><td>6</td><td>4126791</td><td>4127291</td></tr>\n",
       "</tbody>\n",
       "</table>\n"
      ],
      "text/latex": [
       "A tibble: 6 × 25\n",
       "\\begin{tabular}{lllllllllllllllllllll}\n",
       " dataset & chrom & chromStart & chromEnd & name & EffectSize & chrTSS & startTSS & endTSS & measuredGeneSymbol & ⋯ & Reference & Regulated & PowerAtEffectSize10 & PowerAtEffectSize15 & PowerAtEffectSize20 & PowerAtEffectSize50 & pair\\_uid & merged\\_uid & merged\\_start & merged\\_end\\\\\n",
       " <chr> & <chr> & <dbl> & <dbl> & <chr> & <dbl> & <chr> & <dbl> & <dbl> & <chr> & ⋯ & <chr> & <lgl> & <dbl> & <dbl> & <dbl> & <dbl> & <chr> & <dbl> & <dbl> & <dbl>\\\\\n",
       "\\hline\n",
       "\t FlowFISH\\_K562 & chr1 & 3774714 & 3775214 & CEP104\\textbar{}chr1:3691278-3691778:* & -0.293431866 & chr1 & 3857213 & 3857214 & CEP104 & ⋯ & Ulirsch2016            &  TRUE &   NA &   NA &   NA & NA & FlowFISH\\_K562\\textbar{}CEP104\\textbar{}chr1:3691278-3691778:* & 1 & 3774714 & 3775214\\\\\n",
       "\t FlowFISH\\_K562 & chr1 & 3774714 & 3775214 & LRRC47\\textbar{}chr1:3691278-3691778:* & -0.331178093 & chr1 & 3796503 & 3796504 & LRRC47 & ⋯ & Ulirsch2016            &  TRUE &   NA &   NA &   NA & NA & FlowFISH\\_K562\\textbar{}LRRC47\\textbar{}chr1:3691278-3691778:* & 2 & 3774714 & 3775214\\\\\n",
       "\t Gasperini2019 & chr1 & 3803570 & 3805848 & LRRC47\\textbar{}chr1:3720134-3722412:. & -0.001471265 & chr1 & 3796503 & 3796504 & LRRC47 & ⋯ & Gasperini et al., 2019 & FALSE & 0.40 & 0.80 & 0.85 &  1 & Gasperini2019\\textbar{}LRRC47\\textbar{}chr1:3720134-3722412:. & 3 & 3803570 & 3805848\\\\\n",
       "\t FlowFISH\\_K562 & chr1 & 3774714 & 3775214 & SMIM1\\textbar{}chr1:3691278-3691778:*  & -0.472019217 & chr1 & 3772761 & 3772762 & SMIM1  & ⋯ & Ulirsch2016            &  TRUE &   NA &   NA &   NA & NA & FlowFISH\\_K562\\textbar{}SMIM1\\textbar{}chr1:3691278-3691778:*  & 4 & 3774714 & 3775214\\\\\n",
       "\t Gasperini2019 & chr1 & 3803570 & 3805848 & SMIM1\\textbar{}chr1:3720134-3722412:.  &  0.025676924 & chr1 & 3772788 & 3772789 & SMIM1  & ⋯ & Gasperini et al., 2019 & FALSE & 0.80 & 0.85 & 1.00 &  1 & Gasperini2019\\textbar{}SMIM1\\textbar{}chr1:3720134-3722412:.  & 5 & 3803570 & 3805848\\\\\n",
       "\t Gasperini2019 & chr1 & 4126791 & 4127291 & SMIM1\\textbar{}chr1:4186851-4187351:.  &  0.023383787 & chr1 & 3772788 & 3772789 & SMIM1  & ⋯ & Gasperini et al., 2019 & FALSE & 0.55 & 0.80 & 0.90 &  1 & Gasperini2019\\textbar{}SMIM1\\textbar{}chr1:4186851-4187351:.  & 6 & 4126791 & 4127291\\\\\n",
       "\\end{tabular}\n"
      ],
      "text/markdown": [
       "\n",
       "A tibble: 6 × 25\n",
       "\n",
       "| dataset &lt;chr&gt; | chrom &lt;chr&gt; | chromStart &lt;dbl&gt; | chromEnd &lt;dbl&gt; | name &lt;chr&gt; | EffectSize &lt;dbl&gt; | chrTSS &lt;chr&gt; | startTSS &lt;dbl&gt; | endTSS &lt;dbl&gt; | measuredGeneSymbol &lt;chr&gt; | ⋯ ⋯ | Reference &lt;chr&gt; | Regulated &lt;lgl&gt; | PowerAtEffectSize10 &lt;dbl&gt; | PowerAtEffectSize15 &lt;dbl&gt; | PowerAtEffectSize20 &lt;dbl&gt; | PowerAtEffectSize50 &lt;dbl&gt; | pair_uid &lt;chr&gt; | merged_uid &lt;dbl&gt; | merged_start &lt;dbl&gt; | merged_end &lt;dbl&gt; |\n",
       "|---|---|---|---|---|---|---|---|---|---|---|---|---|---|---|---|---|---|---|---|---|\n",
       "| FlowFISH_K562 | chr1 | 3774714 | 3775214 | CEP104|chr1:3691278-3691778:* | -0.293431866 | chr1 | 3857213 | 3857214 | CEP104 | ⋯ | Ulirsch2016            |  TRUE |   NA |   NA |   NA | NA | FlowFISH_K562|CEP104|chr1:3691278-3691778:* | 1 | 3774714 | 3775214 |\n",
       "| FlowFISH_K562 | chr1 | 3774714 | 3775214 | LRRC47|chr1:3691278-3691778:* | -0.331178093 | chr1 | 3796503 | 3796504 | LRRC47 | ⋯ | Ulirsch2016            |  TRUE |   NA |   NA |   NA | NA | FlowFISH_K562|LRRC47|chr1:3691278-3691778:* | 2 | 3774714 | 3775214 |\n",
       "| Gasperini2019 | chr1 | 3803570 | 3805848 | LRRC47|chr1:3720134-3722412:. | -0.001471265 | chr1 | 3796503 | 3796504 | LRRC47 | ⋯ | Gasperini et al., 2019 | FALSE | 0.40 | 0.80 | 0.85 |  1 | Gasperini2019|LRRC47|chr1:3720134-3722412:. | 3 | 3803570 | 3805848 |\n",
       "| FlowFISH_K562 | chr1 | 3774714 | 3775214 | SMIM1|chr1:3691278-3691778:*  | -0.472019217 | chr1 | 3772761 | 3772762 | SMIM1  | ⋯ | Ulirsch2016            |  TRUE |   NA |   NA |   NA | NA | FlowFISH_K562|SMIM1|chr1:3691278-3691778:*  | 4 | 3774714 | 3775214 |\n",
       "| Gasperini2019 | chr1 | 3803570 | 3805848 | SMIM1|chr1:3720134-3722412:.  |  0.025676924 | chr1 | 3772788 | 3772789 | SMIM1  | ⋯ | Gasperini et al., 2019 | FALSE | 0.80 | 0.85 | 1.00 |  1 | Gasperini2019|SMIM1|chr1:3720134-3722412:.  | 5 | 3803570 | 3805848 |\n",
       "| Gasperini2019 | chr1 | 4126791 | 4127291 | SMIM1|chr1:4186851-4187351:.  |  0.023383787 | chr1 | 3772788 | 3772789 | SMIM1  | ⋯ | Gasperini et al., 2019 | FALSE | 0.55 | 0.80 | 0.90 |  1 | Gasperini2019|SMIM1|chr1:4186851-4187351:.  | 6 | 4126791 | 4127291 |\n",
       "\n"
      ],
      "text/plain": [
       "  dataset       chrom chromStart chromEnd name                         \n",
       "1 FlowFISH_K562 chr1  3774714    3775214  CEP104|chr1:3691278-3691778:*\n",
       "2 FlowFISH_K562 chr1  3774714    3775214  LRRC47|chr1:3691278-3691778:*\n",
       "3 Gasperini2019 chr1  3803570    3805848  LRRC47|chr1:3720134-3722412:.\n",
       "4 FlowFISH_K562 chr1  3774714    3775214  SMIM1|chr1:3691278-3691778:* \n",
       "5 Gasperini2019 chr1  3803570    3805848  SMIM1|chr1:3720134-3722412:. \n",
       "6 Gasperini2019 chr1  4126791    4127291  SMIM1|chr1:4186851-4187351:. \n",
       "  EffectSize   chrTSS startTSS endTSS  measuredGeneSymbol ⋯\n",
       "1 -0.293431866 chr1   3857213  3857214 CEP104             ⋯\n",
       "2 -0.331178093 chr1   3796503  3796504 LRRC47             ⋯\n",
       "3 -0.001471265 chr1   3796503  3796504 LRRC47             ⋯\n",
       "4 -0.472019217 chr1   3772761  3772762 SMIM1              ⋯\n",
       "5  0.025676924 chr1   3772788  3772789 SMIM1              ⋯\n",
       "6  0.023383787 chr1   3772788  3772789 SMIM1              ⋯\n",
       "  Reference              Regulated PowerAtEffectSize10 PowerAtEffectSize15\n",
       "1 Ulirsch2016             TRUE       NA                  NA               \n",
       "2 Ulirsch2016             TRUE       NA                  NA               \n",
       "3 Gasperini et al., 2019 FALSE     0.40                0.80               \n",
       "4 Ulirsch2016             TRUE       NA                  NA               \n",
       "5 Gasperini et al., 2019 FALSE     0.80                0.85               \n",
       "6 Gasperini et al., 2019 FALSE     0.55                0.80               \n",
       "  PowerAtEffectSize20 PowerAtEffectSize50\n",
       "1   NA                NA                 \n",
       "2   NA                NA                 \n",
       "3 0.85                 1                 \n",
       "4   NA                NA                 \n",
       "5 1.00                 1                 \n",
       "6 0.90                 1                 \n",
       "  pair_uid                                    merged_uid merged_start\n",
       "1 FlowFISH_K562|CEP104|chr1:3691278-3691778:* 1          3774714     \n",
       "2 FlowFISH_K562|LRRC47|chr1:3691278-3691778:* 2          3774714     \n",
       "3 Gasperini2019|LRRC47|chr1:3720134-3722412:. 3          3803570     \n",
       "4 FlowFISH_K562|SMIM1|chr1:3691278-3691778:*  4          3774714     \n",
       "5 Gasperini2019|SMIM1|chr1:3720134-3722412:.  5          3803570     \n",
       "6 Gasperini2019|SMIM1|chr1:4186851-4187351:.  6          4126791     \n",
       "  merged_end\n",
       "1 3775214   \n",
       "2 3775214   \n",
       "3 3805848   \n",
       "4 3775214   \n",
       "5 3805848   \n",
       "6 4127291   "
      ]
     },
     "metadata": {},
     "output_type": "display_data"
    }
   ],
   "source": [
    "fdiry = file.path(FD_RES, \"source\", \"ENCODE_E2G\")\n",
    "fname = \"EPCrisprBenchmark_ensemble_data_GRCh38.tsv\"\n",
    "fpath = file.path(fdiry, fname)\n",
    "\n",
    "dat = read_tsv(fpath, show_col_types = FALSE)\n",
    "\n",
    "dat_peak_encode_e2g_import  = dat\n",
    "dat_peak_crispri_e2g_import = dat\n",
    "\n",
    "print(dim(dat))\n",
    "head(dat)"
   ]
  },
  {
   "cell_type": "code",
   "execution_count": 5,
   "metadata": {},
   "outputs": [
    {
     "data": {
      "text/html": [
       "<style>\n",
       ".list-inline {list-style: none; margin:0; padding: 0}\n",
       ".list-inline>li {display: inline-block}\n",
       ".list-inline>li:not(:last-child)::after {content: \"\\00b7\"; padding: 0 .5ex}\n",
       "</style>\n",
       "<ol class=list-inline><li>'dataset'</li><li>'chrom'</li><li>'chromStart'</li><li>'chromEnd'</li><li>'name'</li><li>'EffectSize'</li><li>'chrTSS'</li><li>'startTSS'</li><li>'endTSS'</li><li>'measuredGeneSymbol'</li><li>'Significant'</li><li>'pValueAdjusted'</li><li>'PowerAtEffectSize25'</li><li>'ValidConnection'</li><li>'CellType'</li><li>'Reference'</li><li>'Regulated'</li><li>'PowerAtEffectSize10'</li><li>'PowerAtEffectSize15'</li><li>'PowerAtEffectSize20'</li><li>'PowerAtEffectSize50'</li><li>'pair_uid'</li><li>'merged_uid'</li><li>'merged_start'</li><li>'merged_end'</li></ol>\n"
      ],
      "text/latex": [
       "\\begin{enumerate*}\n",
       "\\item 'dataset'\n",
       "\\item 'chrom'\n",
       "\\item 'chromStart'\n",
       "\\item 'chromEnd'\n",
       "\\item 'name'\n",
       "\\item 'EffectSize'\n",
       "\\item 'chrTSS'\n",
       "\\item 'startTSS'\n",
       "\\item 'endTSS'\n",
       "\\item 'measuredGeneSymbol'\n",
       "\\item 'Significant'\n",
       "\\item 'pValueAdjusted'\n",
       "\\item 'PowerAtEffectSize25'\n",
       "\\item 'ValidConnection'\n",
       "\\item 'CellType'\n",
       "\\item 'Reference'\n",
       "\\item 'Regulated'\n",
       "\\item 'PowerAtEffectSize10'\n",
       "\\item 'PowerAtEffectSize15'\n",
       "\\item 'PowerAtEffectSize20'\n",
       "\\item 'PowerAtEffectSize50'\n",
       "\\item 'pair\\_uid'\n",
       "\\item 'merged\\_uid'\n",
       "\\item 'merged\\_start'\n",
       "\\item 'merged\\_end'\n",
       "\\end{enumerate*}\n"
      ],
      "text/markdown": [
       "1. 'dataset'\n",
       "2. 'chrom'\n",
       "3. 'chromStart'\n",
       "4. 'chromEnd'\n",
       "5. 'name'\n",
       "6. 'EffectSize'\n",
       "7. 'chrTSS'\n",
       "8. 'startTSS'\n",
       "9. 'endTSS'\n",
       "10. 'measuredGeneSymbol'\n",
       "11. 'Significant'\n",
       "12. 'pValueAdjusted'\n",
       "13. 'PowerAtEffectSize25'\n",
       "14. 'ValidConnection'\n",
       "15. 'CellType'\n",
       "16. 'Reference'\n",
       "17. 'Regulated'\n",
       "18. 'PowerAtEffectSize10'\n",
       "19. 'PowerAtEffectSize15'\n",
       "20. 'PowerAtEffectSize20'\n",
       "21. 'PowerAtEffectSize50'\n",
       "22. 'pair_uid'\n",
       "23. 'merged_uid'\n",
       "24. 'merged_start'\n",
       "25. 'merged_end'\n",
       "\n",
       "\n"
      ],
      "text/plain": [
       " [1] \"dataset\"             \"chrom\"               \"chromStart\"         \n",
       " [4] \"chromEnd\"            \"name\"                \"EffectSize\"         \n",
       " [7] \"chrTSS\"              \"startTSS\"            \"endTSS\"             \n",
       "[10] \"measuredGeneSymbol\"  \"Significant\"         \"pValueAdjusted\"     \n",
       "[13] \"PowerAtEffectSize25\" \"ValidConnection\"     \"CellType\"           \n",
       "[16] \"Reference\"           \"Regulated\"           \"PowerAtEffectSize10\"\n",
       "[19] \"PowerAtEffectSize15\" \"PowerAtEffectSize20\" \"PowerAtEffectSize50\"\n",
       "[22] \"pair_uid\"            \"merged_uid\"          \"merged_start\"       \n",
       "[25] \"merged_end\"         "
      ]
     },
     "metadata": {},
     "output_type": "display_data"
    }
   ],
   "source": [
    "colnames(dat)"
   ]
  },
  {
   "cell_type": "code",
   "execution_count": 9,
   "metadata": {},
   "outputs": [
    {
     "name": "stdout",
     "output_type": "stream",
     "text": [
      "[1] 24461     6\n"
     ]
    },
    {
     "data": {
      "text/html": [
       "<table class=\"dataframe\">\n",
       "<caption>A tibble: 6 × 6</caption>\n",
       "<thead>\n",
       "\t<tr><th scope=col>X1</th><th scope=col>X2</th><th scope=col>X3</th><th scope=col>X4</th><th scope=col>X5</th><th scope=col>X6</th></tr>\n",
       "\t<tr><th scope=col>&lt;chr&gt;</th><th scope=col>&lt;dbl&gt;</th><th scope=col>&lt;dbl&gt;</th><th scope=col>&lt;chr&gt;</th><th scope=col>&lt;dbl&gt;</th><th scope=col>&lt;chr&gt;</th></tr>\n",
       "</thead>\n",
       "<tbody>\n",
       "\t<tr><td>chr1</td><td> 11623</td><td> 12123</td><td>DDX11L1  </td><td>0</td><td>+</td></tr>\n",
       "\t<tr><td>chr1</td><td> 29120</td><td> 29620</td><td>WASH7P   </td><td>0</td><td>-</td></tr>\n",
       "\t<tr><td>chr1</td><td> 35831</td><td> 36331</td><td>FAM138A  </td><td>0</td><td>-</td></tr>\n",
       "\t<tr><td>chr1</td><td> 35831</td><td> 36331</td><td>FAM138F  </td><td>0</td><td>-</td></tr>\n",
       "\t<tr><td>chr1</td><td> 68840</td><td> 69340</td><td>OR4F5    </td><td>0</td><td>+</td></tr>\n",
       "\t<tr><td>chr1</td><td>140316</td><td>140816</td><td>LOC729737</td><td>0</td><td>-</td></tr>\n",
       "</tbody>\n",
       "</table>\n"
      ],
      "text/latex": [
       "A tibble: 6 × 6\n",
       "\\begin{tabular}{llllll}\n",
       " X1 & X2 & X3 & X4 & X5 & X6\\\\\n",
       " <chr> & <dbl> & <dbl> & <chr> & <dbl> & <chr>\\\\\n",
       "\\hline\n",
       "\t chr1 &  11623 &  12123 & DDX11L1   & 0 & +\\\\\n",
       "\t chr1 &  29120 &  29620 & WASH7P    & 0 & -\\\\\n",
       "\t chr1 &  35831 &  36331 & FAM138A   & 0 & -\\\\\n",
       "\t chr1 &  35831 &  36331 & FAM138F   & 0 & -\\\\\n",
       "\t chr1 &  68840 &  69340 & OR4F5     & 0 & +\\\\\n",
       "\t chr1 & 140316 & 140816 & LOC729737 & 0 & -\\\\\n",
       "\\end{tabular}\n"
      ],
      "text/markdown": [
       "\n",
       "A tibble: 6 × 6\n",
       "\n",
       "| X1 &lt;chr&gt; | X2 &lt;dbl&gt; | X3 &lt;dbl&gt; | X4 &lt;chr&gt; | X5 &lt;dbl&gt; | X6 &lt;chr&gt; |\n",
       "|---|---|---|---|---|---|\n",
       "| chr1 |  11623 |  12123 | DDX11L1   | 0 | + |\n",
       "| chr1 |  29120 |  29620 | WASH7P    | 0 | - |\n",
       "| chr1 |  35831 |  36331 | FAM138A   | 0 | - |\n",
       "| chr1 |  35831 |  36331 | FAM138F   | 0 | - |\n",
       "| chr1 |  68840 |  69340 | OR4F5     | 0 | + |\n",
       "| chr1 | 140316 | 140816 | LOC729737 | 0 | - |\n",
       "\n"
      ],
      "text/plain": [
       "  X1   X2     X3     X4        X5 X6\n",
       "1 chr1  11623  12123 DDX11L1   0  + \n",
       "2 chr1  29120  29620 WASH7P    0  - \n",
       "3 chr1  35831  36331 FAM138A   0  - \n",
       "4 chr1  35831  36331 FAM138F   0  - \n",
       "5 chr1  68840  69340 OR4F5     0  + \n",
       "6 chr1 140316 140816 LOC729737 0  - "
      ]
     },
     "metadata": {},
     "output_type": "display_data"
    }
   ],
   "source": [
    "fdiry = file.path(FD_RES, \"source\", \"ENCODE_E2G\")\n",
    "fname = \"RefSeqCurated.170308.bed.CollapsedGeneBounds.hg38.TSS500bp.bed\"\n",
    "fpath = file.path(fdiry, fname)\n",
    "\n",
    "dat = read_tsv(fpath, col_names=FALSE, show_col_types = FALSE)\n",
    "dat_gene = dat\n",
    "print(dim(dat))\n",
    "head(dat)"
   ]
  },
  {
   "cell_type": "code",
   "execution_count": 12,
   "metadata": {},
   "outputs": [
    {
     "data": {
      "text/plain": [
       "\n",
       " TRUE \n",
       "10412 "
      ]
     },
     "metadata": {},
     "output_type": "display_data"
    }
   ],
   "source": [
    "dat = dat_peak_encode_e2g_import\n",
    "table(dat$ValidConnection)"
   ]
  },
  {
   "cell_type": "code",
   "execution_count": 13,
   "metadata": {},
   "outputs": [
    {
     "data": {
      "text/plain": [
       "\n",
       "FALSE  TRUE \n",
       " 9903   472 "
      ]
     },
     "metadata": {},
     "output_type": "display_data"
    }
   ],
   "source": [
    "dat = dat_peak_encode_e2g_import\n",
    "\n",
    "# filter crispr data for valid connections (e.g. no promoters) and only retaun E-G pairs from genes\n",
    "# in gene universe\n",
    "dat <- dplyr::filter(dat, ValidConnection == TRUE, measuredGeneSymbol %in% dat_gene$X4)\n",
    "\n",
    "table(dat$Regulated)"
   ]
  },
  {
   "cell_type": "code",
   "execution_count": null,
   "metadata": {},
   "outputs": [],
   "source": [
    "\n",
    "# filter crispr data for valid connections (e.g. no promoters) and only retaun E-G pairs from genes\n",
    "# in gene universe\n",
    "crispr <- filter(crispr, ValidConnection == TRUE, measuredGeneSymbol %in% genes$X4)\n",
    "\n",
    "# this filtered dataset now has the 472 positives from the distal regulation paper\n",
    "table(crispr$Regulated)"
   ]
  },
  {
   "cell_type": "code",
   "execution_count": null,
   "metadata": {},
   "outputs": [],
   "source": []
  },
  {
   "cell_type": "code",
   "execution_count": null,
   "metadata": {},
   "outputs": [],
   "source": []
  },
  {
   "cell_type": "code",
   "execution_count": null,
   "metadata": {},
   "outputs": [],
   "source": []
  },
  {
   "cell_type": "code",
   "execution_count": null,
   "metadata": {},
   "outputs": [],
   "source": []
  },
  {
   "cell_type": "code",
   "execution_count": 5,
   "metadata": {},
   "outputs": [
    {
     "data": {
      "text/plain": [
       "\n",
       "               Fulco2016                Fulco2019   Gasperini et al., 2019 \n",
       "                     103                     3501                     5355 \n",
       "               Huang2018                Klann2017                   Qi2018 \n",
       "                       7                      122                        1 \n",
       "Schraivogel et al., 2020              Thakore2015              Ulirsch2016 \n",
       "                    1306                        2                        5 \n",
       "         Wakabayashi2016                  Xie2017                   Xu2015 \n",
       "                       3                        6                        1 "
      ]
     },
     "metadata": {},
     "output_type": "display_data"
    }
   ],
   "source": [
    "dat = dat_peak_crispri_e2g_import\n",
    "table(dat$Reference)"
   ]
  },
  {
   "cell_type": "code",
   "execution_count": 6,
   "metadata": {},
   "outputs": [
    {
     "data": {
      "text/plain": [
       "\n",
       "FALSE  TRUE \n",
       " 9924   487 "
      ]
     },
     "metadata": {},
     "output_type": "display_data"
    }
   ],
   "source": [
    "dat = dat_peak_crispri_e2g_import\n",
    "table(dat$Regulated)"
   ]
  },
  {
   "cell_type": "code",
   "execution_count": 7,
   "metadata": {},
   "outputs": [
    {
     "data": {
      "text/plain": [
       "\n",
       "               Fulco2016                Fulco2019   Gasperini et al., 2019 \n",
       "                       7                       52                      376 \n",
       "               Huang2018                Klann2017                   Qi2018 \n",
       "                       7                        4                        1 \n",
       "Schraivogel et al., 2020              Thakore2015              Ulirsch2016 \n",
       "                      23                        2                        5 \n",
       "         Wakabayashi2016                  Xie2017                   Xu2015 \n",
       "                       3                        6                        1 "
      ]
     },
     "metadata": {},
     "output_type": "display_data"
    }
   ],
   "source": [
    "dat = dat_peak_crispri_e2g_import\n",
    "dat = dat %>% dplyr::filter(Regulated)\n",
    "table(dat$Reference)"
   ]
  },
  {
   "cell_type": "code",
   "execution_count": 8,
   "metadata": {},
   "outputs": [
    {
     "name": "stdout",
     "output_type": "stream",
     "text": [
      "Ulirsch2016 \n",
      "Gasperini et al., 2019 \n",
      "Wakabayashi2016 \n",
      "Schraivogel et al., 2020 \n",
      "Klann2017 \n",
      "Thakore2015 \n",
      "Xie2017 \n",
      "Fulco2019 \n",
      "Qi2018 \n",
      "Huang2018 \n",
      "Xu2015 \n",
      "Fulco2016 \n"
     ]
    }
   ],
   "source": [
    "dat = dat_peak_crispri_e2g_import\n",
    "vec = unique(dat$Reference)\n",
    "for (txt in vec){\n",
    "    cat(txt, \"\\n\")\n",
    "}"
   ]
  },
  {
   "cell_type": "code",
   "execution_count": 9,
   "metadata": {},
   "outputs": [
    {
     "data": {
      "text/html": [
       "<style>\n",
       ".list-inline {list-style: none; margin:0; padding: 0}\n",
       ".list-inline>li {display: inline-block}\n",
       ".list-inline>li:not(:last-child)::after {content: \"\\00b7\"; padding: 0 .5ex}\n",
       "</style>\n",
       "<ol class=list-inline><li>3961</li><li>3</li></ol>\n"
      ],
      "text/latex": [
       "\\begin{enumerate*}\n",
       "\\item 3961\n",
       "\\item 3\n",
       "\\end{enumerate*}\n"
      ],
      "text/markdown": [
       "1. 3961\n",
       "2. 3\n",
       "\n",
       "\n"
      ],
      "text/plain": [
       "[1] 3961    3"
      ]
     },
     "metadata": {},
     "output_type": "display_data"
    }
   ],
   "source": [
    "dat = dat_peak_crispri_e2g_import\n",
    "dat = dat %>% dplyr::select(chrom, chromStart, chromEnd) %>% dplyr::distinct()\n",
    "dim(dat)"
   ]
  },
  {
   "cell_type": "code",
   "execution_count": 10,
   "metadata": {},
   "outputs": [
    {
     "data": {
      "text/html": [
       "<dl>\n",
       "\t<dt>$`FALSE`</dt>\n",
       "\t\t<dd><style>\n",
       ".list-inline {list-style: none; margin:0; padding: 0}\n",
       ".list-inline>li {display: inline-block}\n",
       ".list-inline>li:not(:last-child)::after {content: \"\\00b7\"; padding: 0 .5ex}\n",
       "</style>\n",
       "<ol class=list-inline><li>3753</li><li>3</li></ol>\n",
       "</dd>\n",
       "\t<dt>$`TRUE`</dt>\n",
       "\t\t<dd><style>\n",
       ".list-inline {list-style: none; margin:0; padding: 0}\n",
       ".list-inline>li {display: inline-block}\n",
       ".list-inline>li:not(:last-child)::after {content: \"\\00b7\"; padding: 0 .5ex}\n",
       "</style>\n",
       "<ol class=list-inline><li>429</li><li>3</li></ol>\n",
       "</dd>\n",
       "</dl>\n"
      ],
      "text/latex": [
       "\\begin{description}\n",
       "\\item[\\$`FALSE`] \\begin{enumerate*}\n",
       "\\item 3753\n",
       "\\item 3\n",
       "\\end{enumerate*}\n",
       "\n",
       "\\item[\\$`TRUE`] \\begin{enumerate*}\n",
       "\\item 429\n",
       "\\item 3\n",
       "\\end{enumerate*}\n",
       "\n",
       "\\end{description}\n"
      ],
      "text/markdown": [
       "$`FALSE`\n",
       ":   1. 3753\n",
       "2. 3\n",
       "\n",
       "\n",
       "\n",
       "$`TRUE`\n",
       ":   1. 429\n",
       "2. 3\n",
       "\n",
       "\n",
       "\n",
       "\n",
       "\n"
      ],
      "text/plain": [
       "$`FALSE`\n",
       "[1] 3753    3\n",
       "\n",
       "$`TRUE`\n",
       "[1] 429   3\n"
      ]
     },
     "metadata": {},
     "output_type": "display_data"
    }
   ],
   "source": [
    "dat = dat_peak_crispri_e2g_import\n",
    "dat = dat %>% dplyr::select(chrom, chromStart, chromEnd, Regulated)\n",
    "lst = split(dat, dat$Regulated)\n",
    "lst = lapply(lst, function(dat){\n",
    "    dat = dat %>% dplyr::select(chrom, chromStart, chromEnd) %>% dplyr::distinct()\n",
    "    return(dat)\n",
    "})\n",
    "res = lapply(lst, dim)\n",
    "res"
   ]
  },
  {
   "cell_type": "code",
   "execution_count": 5,
   "metadata": {},
   "outputs": [
    {
     "name": "stdout",
     "output_type": "stream",
     "text": [
      "[1] 464  25\n"
     ]
    },
    {
     "data": {
      "text/html": [
       "<table class=\"dataframe\">\n",
       "<caption>A tibble: 6 × 25</caption>\n",
       "<thead>\n",
       "\t<tr><th scope=col>dataset</th><th scope=col>chrom</th><th scope=col>chromStart</th><th scope=col>chromEnd</th><th scope=col>name</th><th scope=col>EffectSize</th><th scope=col>chrTSS</th><th scope=col>startTSS</th><th scope=col>endTSS</th><th scope=col>measuredGeneSymbol</th><th scope=col>⋯</th><th scope=col>Reference</th><th scope=col>Regulated</th><th scope=col>PowerAtEffectSize10</th><th scope=col>PowerAtEffectSize15</th><th scope=col>PowerAtEffectSize20</th><th scope=col>PowerAtEffectSize50</th><th scope=col>pair_uid</th><th scope=col>merged_uid</th><th scope=col>merged_start</th><th scope=col>merged_end</th></tr>\n",
       "\t<tr><th scope=col>&lt;chr&gt;</th><th scope=col>&lt;chr&gt;</th><th scope=col>&lt;dbl&gt;</th><th scope=col>&lt;dbl&gt;</th><th scope=col>&lt;chr&gt;</th><th scope=col>&lt;dbl&gt;</th><th scope=col>&lt;chr&gt;</th><th scope=col>&lt;dbl&gt;</th><th scope=col>&lt;dbl&gt;</th><th scope=col>&lt;chr&gt;</th><th scope=col>⋯</th><th scope=col>&lt;chr&gt;</th><th scope=col>&lt;lgl&gt;</th><th scope=col>&lt;dbl&gt;</th><th scope=col>&lt;dbl&gt;</th><th scope=col>&lt;dbl&gt;</th><th scope=col>&lt;dbl&gt;</th><th scope=col>&lt;chr&gt;</th><th scope=col>&lt;dbl&gt;</th><th scope=col>&lt;dbl&gt;</th><th scope=col>&lt;dbl&gt;</th></tr>\n",
       "</thead>\n",
       "<tbody>\n",
       "\t<tr><td>Gasperini2019</td><td>chr1</td><td> 8858063</td><td> 8858563</td><td>ENO1|chr1:8918122-8918622:.    </td><td>-0.10740946</td><td>chr1</td><td> 8879248</td><td> 8879249</td><td>ENO1  </td><td>⋯</td><td>Gasperini et al., 2019</td><td>TRUE</td><td>0.25</td><td>0.45</td><td>0.8</td><td>1</td><td>Gasperini2019|ENO1|chr1:8918122-8918622:.    </td><td> 10</td><td> 8858063</td><td> 8858563</td></tr>\n",
       "\t<tr><td>Gasperini2019</td><td>chr1</td><td>17441310</td><td>17441810</td><td>SDHB|chr1:17767806-17768306:.  </td><td>-0.08967821</td><td>chr1</td><td>17054169</td><td>17054170</td><td>SDHB  </td><td>⋯</td><td>Gasperini et al., 2019</td><td>TRUE</td><td>0.50</td><td>0.85</td><td>0.9</td><td>1</td><td>Gasperini2019|SDHB|chr1:17767806-17768306:.  </td><td> 19</td><td>17441310</td><td>17441810</td></tr>\n",
       "\t<tr><td>Gasperini2019</td><td>chr1</td><td>25933351</td><td>25933954</td><td>NUDC|chr1:26259842-26260445:.  </td><td>-0.08462141</td><td>chr1</td><td>26900238</td><td>26900239</td><td>NUDC  </td><td>⋯</td><td>Gasperini et al., 2019</td><td>TRUE</td><td>0.55</td><td>1.00</td><td>1.0</td><td>1</td><td>Gasperini2019|NUDC|chr1:26259842-26260445:.  </td><td> 60</td><td>25933351</td><td>25933954</td></tr>\n",
       "\t<tr><td>Gasperini2019</td><td>chr1</td><td>25933351</td><td>25933954</td><td>STMN1|chr1:26259842-26260445:. </td><td>-0.12223498</td><td>chr1</td><td>25906990</td><td>25906991</td><td>STMN1 </td><td>⋯</td><td>Gasperini et al., 2019</td><td>TRUE</td><td>0.50</td><td>0.85</td><td>1.0</td><td>1</td><td>Gasperini2019|STMN1|chr1:26259842-26260445:. </td><td> 74</td><td>25933351</td><td>25933954</td></tr>\n",
       "\t<tr><td>Gasperini2019</td><td>chr1</td><td>26377523</td><td>26378866</td><td>LIN28A|chr1:26704014-26705357:.</td><td>-0.05171602</td><td>chr1</td><td>26410778</td><td>26410779</td><td>LIN28A</td><td>⋯</td><td>Gasperini et al., 2019</td><td>TRUE</td><td>0.10</td><td>0.40</td><td>0.6</td><td>1</td><td>Gasperini2019|LIN28A|chr1:26704014-26705357:.</td><td> 90</td><td>26377523</td><td>26378866</td></tr>\n",
       "\t<tr><td>Gasperini2019</td><td>chr1</td><td>28883765</td><td>28884265</td><td>EPB41|chr1:29210277-29210777:. </td><td>-0.26521420</td><td>chr1</td><td>28887091</td><td>28887092</td><td>EPB41 </td><td>⋯</td><td>Gasperini et al., 2019</td><td>TRUE</td><td>0.60</td><td>0.85</td><td>1.0</td><td>1</td><td>Gasperini2019|EPB41|chr1:29210277-29210777:. </td><td>139</td><td>28883765</td><td>28884265</td></tr>\n",
       "</tbody>\n",
       "</table>\n"
      ],
      "text/latex": [
       "A tibble: 6 × 25\n",
       "\\begin{tabular}{lllllllllllllllllllll}\n",
       " dataset & chrom & chromStart & chromEnd & name & EffectSize & chrTSS & startTSS & endTSS & measuredGeneSymbol & ⋯ & Reference & Regulated & PowerAtEffectSize10 & PowerAtEffectSize15 & PowerAtEffectSize20 & PowerAtEffectSize50 & pair\\_uid & merged\\_uid & merged\\_start & merged\\_end\\\\\n",
       " <chr> & <chr> & <dbl> & <dbl> & <chr> & <dbl> & <chr> & <dbl> & <dbl> & <chr> & ⋯ & <chr> & <lgl> & <dbl> & <dbl> & <dbl> & <dbl> & <chr> & <dbl> & <dbl> & <dbl>\\\\\n",
       "\\hline\n",
       "\t Gasperini2019 & chr1 &  8858063 &  8858563 & ENO1\\textbar{}chr1:8918122-8918622:.     & -0.10740946 & chr1 &  8879248 &  8879249 & ENO1   & ⋯ & Gasperini et al., 2019 & TRUE & 0.25 & 0.45 & 0.8 & 1 & Gasperini2019\\textbar{}ENO1\\textbar{}chr1:8918122-8918622:.     &  10 &  8858063 &  8858563\\\\\n",
       "\t Gasperini2019 & chr1 & 17441310 & 17441810 & SDHB\\textbar{}chr1:17767806-17768306:.   & -0.08967821 & chr1 & 17054169 & 17054170 & SDHB   & ⋯ & Gasperini et al., 2019 & TRUE & 0.50 & 0.85 & 0.9 & 1 & Gasperini2019\\textbar{}SDHB\\textbar{}chr1:17767806-17768306:.   &  19 & 17441310 & 17441810\\\\\n",
       "\t Gasperini2019 & chr1 & 25933351 & 25933954 & NUDC\\textbar{}chr1:26259842-26260445:.   & -0.08462141 & chr1 & 26900238 & 26900239 & NUDC   & ⋯ & Gasperini et al., 2019 & TRUE & 0.55 & 1.00 & 1.0 & 1 & Gasperini2019\\textbar{}NUDC\\textbar{}chr1:26259842-26260445:.   &  60 & 25933351 & 25933954\\\\\n",
       "\t Gasperini2019 & chr1 & 25933351 & 25933954 & STMN1\\textbar{}chr1:26259842-26260445:.  & -0.12223498 & chr1 & 25906990 & 25906991 & STMN1  & ⋯ & Gasperini et al., 2019 & TRUE & 0.50 & 0.85 & 1.0 & 1 & Gasperini2019\\textbar{}STMN1\\textbar{}chr1:26259842-26260445:.  &  74 & 25933351 & 25933954\\\\\n",
       "\t Gasperini2019 & chr1 & 26377523 & 26378866 & LIN28A\\textbar{}chr1:26704014-26705357:. & -0.05171602 & chr1 & 26410778 & 26410779 & LIN28A & ⋯ & Gasperini et al., 2019 & TRUE & 0.10 & 0.40 & 0.6 & 1 & Gasperini2019\\textbar{}LIN28A\\textbar{}chr1:26704014-26705357:. &  90 & 26377523 & 26378866\\\\\n",
       "\t Gasperini2019 & chr1 & 28883765 & 28884265 & EPB41\\textbar{}chr1:29210277-29210777:.  & -0.26521420 & chr1 & 28887091 & 28887092 & EPB41  & ⋯ & Gasperini et al., 2019 & TRUE & 0.60 & 0.85 & 1.0 & 1 & Gasperini2019\\textbar{}EPB41\\textbar{}chr1:29210277-29210777:.  & 139 & 28883765 & 28884265\\\\\n",
       "\\end{tabular}\n"
      ],
      "text/markdown": [
       "\n",
       "A tibble: 6 × 25\n",
       "\n",
       "| dataset &lt;chr&gt; | chrom &lt;chr&gt; | chromStart &lt;dbl&gt; | chromEnd &lt;dbl&gt; | name &lt;chr&gt; | EffectSize &lt;dbl&gt; | chrTSS &lt;chr&gt; | startTSS &lt;dbl&gt; | endTSS &lt;dbl&gt; | measuredGeneSymbol &lt;chr&gt; | ⋯ ⋯ | Reference &lt;chr&gt; | Regulated &lt;lgl&gt; | PowerAtEffectSize10 &lt;dbl&gt; | PowerAtEffectSize15 &lt;dbl&gt; | PowerAtEffectSize20 &lt;dbl&gt; | PowerAtEffectSize50 &lt;dbl&gt; | pair_uid &lt;chr&gt; | merged_uid &lt;dbl&gt; | merged_start &lt;dbl&gt; | merged_end &lt;dbl&gt; |\n",
       "|---|---|---|---|---|---|---|---|---|---|---|---|---|---|---|---|---|---|---|---|---|\n",
       "| Gasperini2019 | chr1 |  8858063 |  8858563 | ENO1|chr1:8918122-8918622:.     | -0.10740946 | chr1 |  8879248 |  8879249 | ENO1   | ⋯ | Gasperini et al., 2019 | TRUE | 0.25 | 0.45 | 0.8 | 1 | Gasperini2019|ENO1|chr1:8918122-8918622:.     |  10 |  8858063 |  8858563 |\n",
       "| Gasperini2019 | chr1 | 17441310 | 17441810 | SDHB|chr1:17767806-17768306:.   | -0.08967821 | chr1 | 17054169 | 17054170 | SDHB   | ⋯ | Gasperini et al., 2019 | TRUE | 0.50 | 0.85 | 0.9 | 1 | Gasperini2019|SDHB|chr1:17767806-17768306:.   |  19 | 17441310 | 17441810 |\n",
       "| Gasperini2019 | chr1 | 25933351 | 25933954 | NUDC|chr1:26259842-26260445:.   | -0.08462141 | chr1 | 26900238 | 26900239 | NUDC   | ⋯ | Gasperini et al., 2019 | TRUE | 0.55 | 1.00 | 1.0 | 1 | Gasperini2019|NUDC|chr1:26259842-26260445:.   |  60 | 25933351 | 25933954 |\n",
       "| Gasperini2019 | chr1 | 25933351 | 25933954 | STMN1|chr1:26259842-26260445:.  | -0.12223498 | chr1 | 25906990 | 25906991 | STMN1  | ⋯ | Gasperini et al., 2019 | TRUE | 0.50 | 0.85 | 1.0 | 1 | Gasperini2019|STMN1|chr1:26259842-26260445:.  |  74 | 25933351 | 25933954 |\n",
       "| Gasperini2019 | chr1 | 26377523 | 26378866 | LIN28A|chr1:26704014-26705357:. | -0.05171602 | chr1 | 26410778 | 26410779 | LIN28A | ⋯ | Gasperini et al., 2019 | TRUE | 0.10 | 0.40 | 0.6 | 1 | Gasperini2019|LIN28A|chr1:26704014-26705357:. |  90 | 26377523 | 26378866 |\n",
       "| Gasperini2019 | chr1 | 28883765 | 28884265 | EPB41|chr1:29210277-29210777:.  | -0.26521420 | chr1 | 28887091 | 28887092 | EPB41  | ⋯ | Gasperini et al., 2019 | TRUE | 0.60 | 0.85 | 1.0 | 1 | Gasperini2019|EPB41|chr1:29210277-29210777:.  | 139 | 28883765 | 28884265 |\n",
       "\n"
      ],
      "text/plain": [
       "  dataset       chrom chromStart chromEnd name                           \n",
       "1 Gasperini2019 chr1   8858063    8858563 ENO1|chr1:8918122-8918622:.    \n",
       "2 Gasperini2019 chr1  17441310   17441810 SDHB|chr1:17767806-17768306:.  \n",
       "3 Gasperini2019 chr1  25933351   25933954 NUDC|chr1:26259842-26260445:.  \n",
       "4 Gasperini2019 chr1  25933351   25933954 STMN1|chr1:26259842-26260445:. \n",
       "5 Gasperini2019 chr1  26377523   26378866 LIN28A|chr1:26704014-26705357:.\n",
       "6 Gasperini2019 chr1  28883765   28884265 EPB41|chr1:29210277-29210777:. \n",
       "  EffectSize  chrTSS startTSS endTSS   measuredGeneSymbol ⋯\n",
       "1 -0.10740946 chr1    8879248  8879249 ENO1               ⋯\n",
       "2 -0.08967821 chr1   17054169 17054170 SDHB               ⋯\n",
       "3 -0.08462141 chr1   26900238 26900239 NUDC               ⋯\n",
       "4 -0.12223498 chr1   25906990 25906991 STMN1              ⋯\n",
       "5 -0.05171602 chr1   26410778 26410779 LIN28A             ⋯\n",
       "6 -0.26521420 chr1   28887091 28887092 EPB41              ⋯\n",
       "  Reference              Regulated PowerAtEffectSize10 PowerAtEffectSize15\n",
       "1 Gasperini et al., 2019 TRUE      0.25                0.45               \n",
       "2 Gasperini et al., 2019 TRUE      0.50                0.85               \n",
       "3 Gasperini et al., 2019 TRUE      0.55                1.00               \n",
       "4 Gasperini et al., 2019 TRUE      0.50                0.85               \n",
       "5 Gasperini et al., 2019 TRUE      0.10                0.40               \n",
       "6 Gasperini et al., 2019 TRUE      0.60                0.85               \n",
       "  PowerAtEffectSize20 PowerAtEffectSize50\n",
       "1 0.8                 1                  \n",
       "2 0.9                 1                  \n",
       "3 1.0                 1                  \n",
       "4 1.0                 1                  \n",
       "5 0.6                 1                  \n",
       "6 1.0                 1                  \n",
       "  pair_uid                                      merged_uid merged_start\n",
       "1 Gasperini2019|ENO1|chr1:8918122-8918622:.      10         8858063    \n",
       "2 Gasperini2019|SDHB|chr1:17767806-17768306:.    19        17441310    \n",
       "3 Gasperini2019|NUDC|chr1:26259842-26260445:.    60        25933351    \n",
       "4 Gasperini2019|STMN1|chr1:26259842-26260445:.   74        25933351    \n",
       "5 Gasperini2019|LIN28A|chr1:26704014-26705357:.  90        26377523    \n",
       "6 Gasperini2019|EPB41|chr1:29210277-29210777:.  139        28883765    \n",
       "  merged_end\n",
       "1  8858563  \n",
       "2 17441810  \n",
       "3 25933954  \n",
       "4 25933954  \n",
       "5 26378866  \n",
       "6 28884265  "
      ]
     },
     "metadata": {},
     "output_type": "display_data"
    }
   ],
   "source": [
    "vec = c(\n",
    "    \"Gasperini et al., 2019\", \n",
    "    \"Fulco2019\", \n",
    "    \"Schraivogel et al., 2020\", \n",
    "    \"Klann2017\", \n",
    "    \"Fulco2016\", \n",
    "    \"Thakore2015\")\n",
    "\n",
    "dat = dat_peak_crispri_e2g_import\n",
    "dat = dat %>% \n",
    "    dplyr::filter(Regulated) %>% \n",
    "    dplyr::filter(Reference %in% vec)\n",
    "\n",
    "dat_peak_crispri_e2g_filter = dat\n",
    "print(dim(dat))\n",
    "head(dat)"
   ]
  },
  {
   "cell_type": "code",
   "execution_count": null,
   "metadata": {},
   "outputs": [],
   "source": []
  },
  {
   "cell_type": "code",
   "execution_count": null,
   "metadata": {},
   "outputs": [],
   "source": []
  },
  {
   "cell_type": "code",
   "execution_count": 20,
   "metadata": {},
   "outputs": [
    {
     "name": "stdout",
     "output_type": "stream",
     "text": [
      "#Row:  10412 \n",
      "#Gene: 2146 \n"
     ]
    },
    {
     "data": {
      "text/html": [
       "<table class=\"dataframe\">\n",
       "<caption>A tibble: 6 × 12</caption>\n",
       "<thead>\n",
       "\t<tr><th scope=col>Chrom</th><th scope=col>Start</th><th scope=col>End</th><th scope=col>Name</th><th scope=col>EffectSize</th><th scope=col>Region</th><th scope=col>Gene_Symbol</th><th scope=col>Gene_TSS</th><th scope=col>Regulated</th><th scope=col>Reference</th><th scope=col>Assay_Type</th><th scope=col>Assay_Label</th></tr>\n",
       "\t<tr><th scope=col>&lt;chr&gt;</th><th scope=col>&lt;dbl&gt;</th><th scope=col>&lt;dbl&gt;</th><th scope=col>&lt;chr&gt;</th><th scope=col>&lt;dbl&gt;</th><th scope=col>&lt;chr&gt;</th><th scope=col>&lt;chr&gt;</th><th scope=col>&lt;chr&gt;</th><th scope=col>&lt;lgl&gt;</th><th scope=col>&lt;chr&gt;</th><th scope=col>&lt;chr&gt;</th><th scope=col>&lt;chr&gt;</th></tr>\n",
       "</thead>\n",
       "<tbody>\n",
       "\t<tr><td>chr1</td><td>3774714</td><td>3775214</td><td>CEP104|chr1:3691278-3691778:*</td><td>-0.29343</td><td>chr1:3774714-3775214</td><td>CEP104</td><td>chr1:3857213-3857214</td><td> TRUE</td><td>Ulirsch2016           </td><td>ENCODE-E2G_Benchmark</td><td>ENCODE-E2G_Benchmark:CEP104</td></tr>\n",
       "\t<tr><td>chr1</td><td>3774714</td><td>3775214</td><td>LRRC47|chr1:3691278-3691778:*</td><td>-0.33118</td><td>chr1:3774714-3775214</td><td>LRRC47</td><td>chr1:3796503-3796504</td><td> TRUE</td><td>Ulirsch2016           </td><td>ENCODE-E2G_Benchmark</td><td>ENCODE-E2G_Benchmark:LRRC47</td></tr>\n",
       "\t<tr><td>chr1</td><td>3803570</td><td>3805848</td><td>LRRC47|chr1:3720134-3722412:.</td><td>-0.00147</td><td>chr1:3803570-3805848</td><td>LRRC47</td><td>chr1:3796503-3796504</td><td>FALSE</td><td>Gasperini et al., 2019</td><td>ENCODE-E2G_Benchmark</td><td>ENCODE-E2G_Benchmark:LRRC47</td></tr>\n",
       "\t<tr><td>chr1</td><td>3774714</td><td>3775214</td><td>SMIM1|chr1:3691278-3691778:* </td><td>-0.47202</td><td>chr1:3774714-3775214</td><td>SMIM1 </td><td>chr1:3772761-3772762</td><td> TRUE</td><td>Ulirsch2016           </td><td>ENCODE-E2G_Benchmark</td><td>ENCODE-E2G_Benchmark:SMIM1 </td></tr>\n",
       "\t<tr><td>chr1</td><td>3803570</td><td>3805848</td><td>SMIM1|chr1:3720134-3722412:. </td><td> 0.02568</td><td>chr1:3803570-3805848</td><td>SMIM1 </td><td>chr1:3772788-3772789</td><td>FALSE</td><td>Gasperini et al., 2019</td><td>ENCODE-E2G_Benchmark</td><td>ENCODE-E2G_Benchmark:SMIM1 </td></tr>\n",
       "\t<tr><td>chr1</td><td>4126791</td><td>4127291</td><td>SMIM1|chr1:4186851-4187351:. </td><td> 0.02338</td><td>chr1:4126791-4127291</td><td>SMIM1 </td><td>chr1:3772788-3772789</td><td>FALSE</td><td>Gasperini et al., 2019</td><td>ENCODE-E2G_Benchmark</td><td>ENCODE-E2G_Benchmark:SMIM1 </td></tr>\n",
       "</tbody>\n",
       "</table>\n"
      ],
      "text/latex": [
       "A tibble: 6 × 12\n",
       "\\begin{tabular}{llllllllllll}\n",
       " Chrom & Start & End & Name & EffectSize & Region & Gene\\_Symbol & Gene\\_TSS & Regulated & Reference & Assay\\_Type & Assay\\_Label\\\\\n",
       " <chr> & <dbl> & <dbl> & <chr> & <dbl> & <chr> & <chr> & <chr> & <lgl> & <chr> & <chr> & <chr>\\\\\n",
       "\\hline\n",
       "\t chr1 & 3774714 & 3775214 & CEP104\\textbar{}chr1:3691278-3691778:* & -0.29343 & chr1:3774714-3775214 & CEP104 & chr1:3857213-3857214 &  TRUE & Ulirsch2016            & ENCODE-E2G\\_Benchmark & ENCODE-E2G\\_Benchmark:CEP104\\\\\n",
       "\t chr1 & 3774714 & 3775214 & LRRC47\\textbar{}chr1:3691278-3691778:* & -0.33118 & chr1:3774714-3775214 & LRRC47 & chr1:3796503-3796504 &  TRUE & Ulirsch2016            & ENCODE-E2G\\_Benchmark & ENCODE-E2G\\_Benchmark:LRRC47\\\\\n",
       "\t chr1 & 3803570 & 3805848 & LRRC47\\textbar{}chr1:3720134-3722412:. & -0.00147 & chr1:3803570-3805848 & LRRC47 & chr1:3796503-3796504 & FALSE & Gasperini et al., 2019 & ENCODE-E2G\\_Benchmark & ENCODE-E2G\\_Benchmark:LRRC47\\\\\n",
       "\t chr1 & 3774714 & 3775214 & SMIM1\\textbar{}chr1:3691278-3691778:*  & -0.47202 & chr1:3774714-3775214 & SMIM1  & chr1:3772761-3772762 &  TRUE & Ulirsch2016            & ENCODE-E2G\\_Benchmark & ENCODE-E2G\\_Benchmark:SMIM1 \\\\\n",
       "\t chr1 & 3803570 & 3805848 & SMIM1\\textbar{}chr1:3720134-3722412:.  &  0.02568 & chr1:3803570-3805848 & SMIM1  & chr1:3772788-3772789 & FALSE & Gasperini et al., 2019 & ENCODE-E2G\\_Benchmark & ENCODE-E2G\\_Benchmark:SMIM1 \\\\\n",
       "\t chr1 & 4126791 & 4127291 & SMIM1\\textbar{}chr1:4186851-4187351:.  &  0.02338 & chr1:4126791-4127291 & SMIM1  & chr1:3772788-3772789 & FALSE & Gasperini et al., 2019 & ENCODE-E2G\\_Benchmark & ENCODE-E2G\\_Benchmark:SMIM1 \\\\\n",
       "\\end{tabular}\n"
      ],
      "text/markdown": [
       "\n",
       "A tibble: 6 × 12\n",
       "\n",
       "| Chrom &lt;chr&gt; | Start &lt;dbl&gt; | End &lt;dbl&gt; | Name &lt;chr&gt; | EffectSize &lt;dbl&gt; | Region &lt;chr&gt; | Gene_Symbol &lt;chr&gt; | Gene_TSS &lt;chr&gt; | Regulated &lt;lgl&gt; | Reference &lt;chr&gt; | Assay_Type &lt;chr&gt; | Assay_Label &lt;chr&gt; |\n",
       "|---|---|---|---|---|---|---|---|---|---|---|---|\n",
       "| chr1 | 3774714 | 3775214 | CEP104|chr1:3691278-3691778:* | -0.29343 | chr1:3774714-3775214 | CEP104 | chr1:3857213-3857214 |  TRUE | Ulirsch2016            | ENCODE-E2G_Benchmark | ENCODE-E2G_Benchmark:CEP104 |\n",
       "| chr1 | 3774714 | 3775214 | LRRC47|chr1:3691278-3691778:* | -0.33118 | chr1:3774714-3775214 | LRRC47 | chr1:3796503-3796504 |  TRUE | Ulirsch2016            | ENCODE-E2G_Benchmark | ENCODE-E2G_Benchmark:LRRC47 |\n",
       "| chr1 | 3803570 | 3805848 | LRRC47|chr1:3720134-3722412:. | -0.00147 | chr1:3803570-3805848 | LRRC47 | chr1:3796503-3796504 | FALSE | Gasperini et al., 2019 | ENCODE-E2G_Benchmark | ENCODE-E2G_Benchmark:LRRC47 |\n",
       "| chr1 | 3774714 | 3775214 | SMIM1|chr1:3691278-3691778:*  | -0.47202 | chr1:3774714-3775214 | SMIM1  | chr1:3772761-3772762 |  TRUE | Ulirsch2016            | ENCODE-E2G_Benchmark | ENCODE-E2G_Benchmark:SMIM1  |\n",
       "| chr1 | 3803570 | 3805848 | SMIM1|chr1:3720134-3722412:.  |  0.02568 | chr1:3803570-3805848 | SMIM1  | chr1:3772788-3772789 | FALSE | Gasperini et al., 2019 | ENCODE-E2G_Benchmark | ENCODE-E2G_Benchmark:SMIM1  |\n",
       "| chr1 | 4126791 | 4127291 | SMIM1|chr1:4186851-4187351:.  |  0.02338 | chr1:4126791-4127291 | SMIM1  | chr1:3772788-3772789 | FALSE | Gasperini et al., 2019 | ENCODE-E2G_Benchmark | ENCODE-E2G_Benchmark:SMIM1  |\n",
       "\n"
      ],
      "text/plain": [
       "  Chrom Start   End     Name                          EffectSize\n",
       "1 chr1  3774714 3775214 CEP104|chr1:3691278-3691778:* -0.29343  \n",
       "2 chr1  3774714 3775214 LRRC47|chr1:3691278-3691778:* -0.33118  \n",
       "3 chr1  3803570 3805848 LRRC47|chr1:3720134-3722412:. -0.00147  \n",
       "4 chr1  3774714 3775214 SMIM1|chr1:3691278-3691778:*  -0.47202  \n",
       "5 chr1  3803570 3805848 SMIM1|chr1:3720134-3722412:.   0.02568  \n",
       "6 chr1  4126791 4127291 SMIM1|chr1:4186851-4187351:.   0.02338  \n",
       "  Region               Gene_Symbol Gene_TSS             Regulated\n",
       "1 chr1:3774714-3775214 CEP104      chr1:3857213-3857214  TRUE    \n",
       "2 chr1:3774714-3775214 LRRC47      chr1:3796503-3796504  TRUE    \n",
       "3 chr1:3803570-3805848 LRRC47      chr1:3796503-3796504 FALSE    \n",
       "4 chr1:3774714-3775214 SMIM1       chr1:3772761-3772762  TRUE    \n",
       "5 chr1:3803570-3805848 SMIM1       chr1:3772788-3772789 FALSE    \n",
       "6 chr1:4126791-4127291 SMIM1       chr1:3772788-3772789 FALSE    \n",
       "  Reference              Assay_Type           Assay_Label                \n",
       "1 Ulirsch2016            ENCODE-E2G_Benchmark ENCODE-E2G_Benchmark:CEP104\n",
       "2 Ulirsch2016            ENCODE-E2G_Benchmark ENCODE-E2G_Benchmark:LRRC47\n",
       "3 Gasperini et al., 2019 ENCODE-E2G_Benchmark ENCODE-E2G_Benchmark:LRRC47\n",
       "4 Ulirsch2016            ENCODE-E2G_Benchmark ENCODE-E2G_Benchmark:SMIM1 \n",
       "5 Gasperini et al., 2019 ENCODE-E2G_Benchmark ENCODE-E2G_Benchmark:SMIM1 \n",
       "6 Gasperini et al., 2019 ENCODE-E2G_Benchmark ENCODE-E2G_Benchmark:SMIM1 "
      ]
     },
     "metadata": {},
     "output_type": "display_data"
    }
   ],
   "source": [
    "dat = dat_peak_encode_e2g_import\n",
    "dat = dat %>% \n",
    "    dplyr::rename(\n",
    "        Chrom = chrom, \n",
    "        Start = chromStart, \n",
    "        End   = chromEnd, \n",
    "        Name  = name)\n",
    "\n",
    "txt = \"ENCODE-E2G_Benchmark\"\n",
    "dat = dat %>% \n",
    "    tidyr::separate(Name, c(\"Gene_Symbol\", \"Loc\"), sep=\"\\\\|\", remove = FALSE) %>% \n",
    "    dplyr::mutate(\n",
    "        EffectSize   = round(EffectSize, 5),\n",
    "        Region       = paste0(Chrom,  \":\", Start,    \"-\", End),\n",
    "        Gene_TSS     = paste0(chrTSS, \":\", startTSS, \"-\", endTSS),\n",
    "        Assay_Type   = txt,\n",
    "        Assay_Label  = paste0(txt, \":\", Gene_Symbol)\n",
    "    )\n",
    "\n",
    "vec = c('Chrom','Start','End','Name','EffectSize', \n",
    "        \"Region\", \"Gene_Symbol\", \"Gene_TSS\", \n",
    "        'Regulated', \n",
    "        'Reference', \n",
    "        'Assay_Type', 'Assay_Label')\n",
    "dat = dat %>% \n",
    "    dplyr::select({{vec}}) %>% \n",
    "    dplyr::distinct()\n",
    "vec = dat$Gene_Symbol\n",
    "\n",
    "\n",
    "dat_peak_encode_e2g_arrange = dat\n",
    "cat(\"#Row: \", nrow(dat), \"\\n\")\n",
    "cat(\"#Gene:\", length(unique(vec)), \"\\n\")\n",
    "head(dat)"
   ]
  },
  {
   "cell_type": "code",
   "execution_count": 21,
   "metadata": {},
   "outputs": [
    {
     "data": {
      "text/html": [
       "<table class=\"dataframe\">\n",
       "<caption>A data.frame: 6 × 4</caption>\n",
       "<thead>\n",
       "\t<tr><th></th><th scope=col>Region</th><th scope=col>Count</th><th scope=col>is_Mixed</th><th scope=col>Gene</th></tr>\n",
       "\t<tr><th></th><th scope=col>&lt;chr&gt;</th><th scope=col>&lt;int&gt;</th><th scope=col>&lt;lgl&gt;</th><th scope=col>&lt;chr&gt;</th></tr>\n",
       "</thead>\n",
       "<tbody>\n",
       "\t<tr><th scope=row>chr1:108533276-108534274</th><td>chr1:108533276-108534274</td><td>4</td><td>TRUE</td><td>FAM102B,PRPF38B,SARS,TMEM167B                        </td></tr>\n",
       "\t<tr><th scope=row>chr1:117655089-117655589</th><td>chr1:117655089-117655589</td><td>2</td><td>TRUE</td><td>MAN1A2,WDR3                                          </td></tr>\n",
       "\t<tr><th scope=row>chr1:150976787-150977582</th><td>chr1:150976787-150977582</td><td>9</td><td>TRUE</td><td>APH1A,ENSA,PSMB4,PSMD4,ANP32E,CERS2,MRPL9,THEM4,VPS72</td></tr>\n",
       "\t<tr><th scope=row>chr1:157274605-157275257</th><td>chr1:157274605-157275257</td><td>2</td><td>TRUE</td><td>CCT3,RP11-85G21.3                                    </td></tr>\n",
       "\t<tr><th scope=row>chr1:160460641-160461141</th><td>chr1:160460641-160461141</td><td>2</td><td>TRUE</td><td>UFC1,PEX19                                           </td></tr>\n",
       "\t<tr><th scope=row>chr1:161502961-161503461</th><td>chr1:161502961-161503461</td><td>5</td><td>TRUE</td><td>SDHC,UFC1,PFDN2,DUSP12,FCGR2A                        </td></tr>\n",
       "</tbody>\n",
       "</table>\n"
      ],
      "text/latex": [
       "A data.frame: 6 × 4\n",
       "\\begin{tabular}{r|llll}\n",
       "  & Region & Count & is\\_Mixed & Gene\\\\\n",
       "  & <chr> & <int> & <lgl> & <chr>\\\\\n",
       "\\hline\n",
       "\tchr1:108533276-108534274 & chr1:108533276-108534274 & 4 & TRUE & FAM102B,PRPF38B,SARS,TMEM167B                        \\\\\n",
       "\tchr1:117655089-117655589 & chr1:117655089-117655589 & 2 & TRUE & MAN1A2,WDR3                                          \\\\\n",
       "\tchr1:150976787-150977582 & chr1:150976787-150977582 & 9 & TRUE & APH1A,ENSA,PSMB4,PSMD4,ANP32E,CERS2,MRPL9,THEM4,VPS72\\\\\n",
       "\tchr1:157274605-157275257 & chr1:157274605-157275257 & 2 & TRUE & CCT3,RP11-85G21.3                                    \\\\\n",
       "\tchr1:160460641-160461141 & chr1:160460641-160461141 & 2 & TRUE & UFC1,PEX19                                           \\\\\n",
       "\tchr1:161502961-161503461 & chr1:161502961-161503461 & 5 & TRUE & SDHC,UFC1,PFDN2,DUSP12,FCGR2A                        \\\\\n",
       "\\end{tabular}\n"
      ],
      "text/markdown": [
       "\n",
       "A data.frame: 6 × 4\n",
       "\n",
       "| <!--/--> | Region &lt;chr&gt; | Count &lt;int&gt; | is_Mixed &lt;lgl&gt; | Gene &lt;chr&gt; |\n",
       "|---|---|---|---|---|\n",
       "| chr1:108533276-108534274 | chr1:108533276-108534274 | 4 | TRUE | FAM102B,PRPF38B,SARS,TMEM167B                         |\n",
       "| chr1:117655089-117655589 | chr1:117655089-117655589 | 2 | TRUE | MAN1A2,WDR3                                           |\n",
       "| chr1:150976787-150977582 | chr1:150976787-150977582 | 9 | TRUE | APH1A,ENSA,PSMB4,PSMD4,ANP32E,CERS2,MRPL9,THEM4,VPS72 |\n",
       "| chr1:157274605-157275257 | chr1:157274605-157275257 | 2 | TRUE | CCT3,RP11-85G21.3                                     |\n",
       "| chr1:160460641-160461141 | chr1:160460641-160461141 | 2 | TRUE | UFC1,PEX19                                            |\n",
       "| chr1:161502961-161503461 | chr1:161502961-161503461 | 5 | TRUE | SDHC,UFC1,PFDN2,DUSP12,FCGR2A                         |\n",
       "\n"
      ],
      "text/plain": [
       "                         Region                   Count is_Mixed\n",
       "chr1:108533276-108534274 chr1:108533276-108534274 4     TRUE    \n",
       "chr1:117655089-117655589 chr1:117655089-117655589 2     TRUE    \n",
       "chr1:150976787-150977582 chr1:150976787-150977582 9     TRUE    \n",
       "chr1:157274605-157275257 chr1:157274605-157275257 2     TRUE    \n",
       "chr1:160460641-160461141 chr1:160460641-160461141 2     TRUE    \n",
       "chr1:161502961-161503461 chr1:161502961-161503461 5     TRUE    \n",
       "                         Gene                                                 \n",
       "chr1:108533276-108534274 FAM102B,PRPF38B,SARS,TMEM167B                        \n",
       "chr1:117655089-117655589 MAN1A2,WDR3                                          \n",
       "chr1:150976787-150977582 APH1A,ENSA,PSMB4,PSMD4,ANP32E,CERS2,MRPL9,THEM4,VPS72\n",
       "chr1:157274605-157275257 CCT3,RP11-85G21.3                                    \n",
       "chr1:160460641-160461141 UFC1,PEX19                                           \n",
       "chr1:161502961-161503461 SDHC,UFC1,PFDN2,DUSP12,FCGR2A                        "
      ]
     },
     "metadata": {},
     "output_type": "display_data"
    }
   ],
   "source": [
    "dat = dat_peak_encode_e2g_arrange\n",
    "dat = dat %>% dplyr::select(Region, Gene_Symbol, EffectSize, Regulated)\n",
    "lst = split(dat, dat$Region)\n",
    "\n",
    "lst_boo_mixed = lapply(lst, function(dat){length(unique(dat$Regulated)) > 1})\n",
    "lst_num_count = lapply(lst, function(dat){length(dat$Regulated)})\n",
    "lst_txt_gene  = lapply(lst, function(dat){paste(dat$Gene_Symbol, collapse=\",\")})\n",
    "dat = data.frame(\n",
    "    Region   = names(lst), \n",
    "    Count    = unlist(lst_num_count),\n",
    "    is_Mixed = unlist(lst_boo_mixed),\n",
    "    Gene     = unlist(lst_txt_gene)\n",
    ")\n",
    "dat = dat %>% dplyr::filter(is_Mixed)\n",
    "head(dat)"
   ]
  },
  {
   "cell_type": "code",
   "execution_count": 22,
   "metadata": {},
   "outputs": [
    {
     "data": {
      "text/plain": [
       "\n",
       " 2  3  4  5  6  7  8  9 10 11 12 13 15 16 29 \n",
       "63 39 41 21 10  7  8 10  4 13  2  1  1  1  1 "
      ]
     },
     "metadata": {},
     "output_type": "display_data"
    }
   ],
   "source": [
    "table(dat$Count)"
   ]
  },
  {
   "cell_type": "code",
   "execution_count": 23,
   "metadata": {},
   "outputs": [
    {
     "data": {
      "text/html": [
       "<table class=\"dataframe\">\n",
       "<caption>A data.frame: 12 × 4</caption>\n",
       "<thead>\n",
       "\t<tr><th></th><th scope=col>Region</th><th scope=col>Count</th><th scope=col>is_Mixed</th><th scope=col>Gene</th></tr>\n",
       "\t<tr><th></th><th scope=col>&lt;chr&gt;</th><th scope=col>&lt;int&gt;</th><th scope=col>&lt;lgl&gt;</th><th scope=col>&lt;chr&gt;</th></tr>\n",
       "</thead>\n",
       "<tbody>\n",
       "\t<tr><th scope=row>chrX:48782818-48783318</th><td>chrX:48782818-48783318</td><td>8</td><td>TRUE</td><td>GATA1,EBP,RBM3,WDR13,TIMM17B,CCDC22,FTSJ1,PIM2</td></tr>\n",
       "\t<tr><th scope=row>chrX:48784617-48785277</th><td>chrX:48784617-48785277</td><td>4</td><td>TRUE</td><td>GATA1,HDAC6,PLP2,PQBP1                        </td></tr>\n",
       "\t<tr><th scope=row>chrX:48940454-48940954</th><td>chrX:48940454-48940954</td><td>4</td><td>TRUE</td><td>GATA1,HDAC6,PLP2,PQBP1                        </td></tr>\n",
       "\t<tr><th scope=row>chrX:48941708-48942244</th><td>chrX:48941708-48942244</td><td>4</td><td>TRUE</td><td>GATA1,HDAC6,PLP2,PQBP1                        </td></tr>\n",
       "\t<tr><th scope=row>chrX:49047157-49047736</th><td>chrX:49047157-49047736</td><td>4</td><td>TRUE</td><td>GATA1,HDAC6,PLP2,PQBP1                        </td></tr>\n",
       "\t<tr><th scope=row>chrX:49148590-49149090</th><td>chrX:49148590-49149090</td><td>4</td><td>TRUE</td><td>GATA1,HDAC6,PLP2,PQBP1                        </td></tr>\n",
       "\t<tr><th scope=row>chrX:49155148-49156608</th><td>chrX:49155148-49156608</td><td>4</td><td>TRUE</td><td>GATA1,HDAC6,PLP2,PQBP1                        </td></tr>\n",
       "\t<tr><th scope=row>chrX:49163947-49164447</th><td>chrX:49163947-49164447</td><td>4</td><td>TRUE</td><td>GATA1,HDAC6,PLP2,PQBP1                        </td></tr>\n",
       "\t<tr><th scope=row>chrX:49166366-49166866</th><td>chrX:49166366-49166866</td><td>4</td><td>TRUE</td><td>GATA1,HDAC6,PLP2,PQBP1                        </td></tr>\n",
       "\t<tr><th scope=row>chrX:49167166-49167746</th><td>chrX:49167166-49167746</td><td>4</td><td>TRUE</td><td>GATA1,HDAC6,PLP2,PQBP1                        </td></tr>\n",
       "\t<tr><th scope=row>chrX:49177416-49177916</th><td>chrX:49177416-49177916</td><td>4</td><td>TRUE</td><td>GATA1,HDAC6,PLP2,PQBP1                        </td></tr>\n",
       "\t<tr><th scope=row>chrX:49193388-49193908</th><td>chrX:49193388-49193908</td><td>4</td><td>TRUE</td><td>GATA1,HDAC6,PLP2,PQBP1                        </td></tr>\n",
       "</tbody>\n",
       "</table>\n"
      ],
      "text/latex": [
       "A data.frame: 12 × 4\n",
       "\\begin{tabular}{r|llll}\n",
       "  & Region & Count & is\\_Mixed & Gene\\\\\n",
       "  & <chr> & <int> & <lgl> & <chr>\\\\\n",
       "\\hline\n",
       "\tchrX:48782818-48783318 & chrX:48782818-48783318 & 8 & TRUE & GATA1,EBP,RBM3,WDR13,TIMM17B,CCDC22,FTSJ1,PIM2\\\\\n",
       "\tchrX:48784617-48785277 & chrX:48784617-48785277 & 4 & TRUE & GATA1,HDAC6,PLP2,PQBP1                        \\\\\n",
       "\tchrX:48940454-48940954 & chrX:48940454-48940954 & 4 & TRUE & GATA1,HDAC6,PLP2,PQBP1                        \\\\\n",
       "\tchrX:48941708-48942244 & chrX:48941708-48942244 & 4 & TRUE & GATA1,HDAC6,PLP2,PQBP1                        \\\\\n",
       "\tchrX:49047157-49047736 & chrX:49047157-49047736 & 4 & TRUE & GATA1,HDAC6,PLP2,PQBP1                        \\\\\n",
       "\tchrX:49148590-49149090 & chrX:49148590-49149090 & 4 & TRUE & GATA1,HDAC6,PLP2,PQBP1                        \\\\\n",
       "\tchrX:49155148-49156608 & chrX:49155148-49156608 & 4 & TRUE & GATA1,HDAC6,PLP2,PQBP1                        \\\\\n",
       "\tchrX:49163947-49164447 & chrX:49163947-49164447 & 4 & TRUE & GATA1,HDAC6,PLP2,PQBP1                        \\\\\n",
       "\tchrX:49166366-49166866 & chrX:49166366-49166866 & 4 & TRUE & GATA1,HDAC6,PLP2,PQBP1                        \\\\\n",
       "\tchrX:49167166-49167746 & chrX:49167166-49167746 & 4 & TRUE & GATA1,HDAC6,PLP2,PQBP1                        \\\\\n",
       "\tchrX:49177416-49177916 & chrX:49177416-49177916 & 4 & TRUE & GATA1,HDAC6,PLP2,PQBP1                        \\\\\n",
       "\tchrX:49193388-49193908 & chrX:49193388-49193908 & 4 & TRUE & GATA1,HDAC6,PLP2,PQBP1                        \\\\\n",
       "\\end{tabular}\n"
      ],
      "text/markdown": [
       "\n",
       "A data.frame: 12 × 4\n",
       "\n",
       "| <!--/--> | Region &lt;chr&gt; | Count &lt;int&gt; | is_Mixed &lt;lgl&gt; | Gene &lt;chr&gt; |\n",
       "|---|---|---|---|---|\n",
       "| chrX:48782818-48783318 | chrX:48782818-48783318 | 8 | TRUE | GATA1,EBP,RBM3,WDR13,TIMM17B,CCDC22,FTSJ1,PIM2 |\n",
       "| chrX:48784617-48785277 | chrX:48784617-48785277 | 4 | TRUE | GATA1,HDAC6,PLP2,PQBP1                         |\n",
       "| chrX:48940454-48940954 | chrX:48940454-48940954 | 4 | TRUE | GATA1,HDAC6,PLP2,PQBP1                         |\n",
       "| chrX:48941708-48942244 | chrX:48941708-48942244 | 4 | TRUE | GATA1,HDAC6,PLP2,PQBP1                         |\n",
       "| chrX:49047157-49047736 | chrX:49047157-49047736 | 4 | TRUE | GATA1,HDAC6,PLP2,PQBP1                         |\n",
       "| chrX:49148590-49149090 | chrX:49148590-49149090 | 4 | TRUE | GATA1,HDAC6,PLP2,PQBP1                         |\n",
       "| chrX:49155148-49156608 | chrX:49155148-49156608 | 4 | TRUE | GATA1,HDAC6,PLP2,PQBP1                         |\n",
       "| chrX:49163947-49164447 | chrX:49163947-49164447 | 4 | TRUE | GATA1,HDAC6,PLP2,PQBP1                         |\n",
       "| chrX:49166366-49166866 | chrX:49166366-49166866 | 4 | TRUE | GATA1,HDAC6,PLP2,PQBP1                         |\n",
       "| chrX:49167166-49167746 | chrX:49167166-49167746 | 4 | TRUE | GATA1,HDAC6,PLP2,PQBP1                         |\n",
       "| chrX:49177416-49177916 | chrX:49177416-49177916 | 4 | TRUE | GATA1,HDAC6,PLP2,PQBP1                         |\n",
       "| chrX:49193388-49193908 | chrX:49193388-49193908 | 4 | TRUE | GATA1,HDAC6,PLP2,PQBP1                         |\n",
       "\n"
      ],
      "text/plain": [
       "                       Region                 Count is_Mixed\n",
       "chrX:48782818-48783318 chrX:48782818-48783318 8     TRUE    \n",
       "chrX:48784617-48785277 chrX:48784617-48785277 4     TRUE    \n",
       "chrX:48940454-48940954 chrX:48940454-48940954 4     TRUE    \n",
       "chrX:48941708-48942244 chrX:48941708-48942244 4     TRUE    \n",
       "chrX:49047157-49047736 chrX:49047157-49047736 4     TRUE    \n",
       "chrX:49148590-49149090 chrX:49148590-49149090 4     TRUE    \n",
       "chrX:49155148-49156608 chrX:49155148-49156608 4     TRUE    \n",
       "chrX:49163947-49164447 chrX:49163947-49164447 4     TRUE    \n",
       "chrX:49166366-49166866 chrX:49166366-49166866 4     TRUE    \n",
       "chrX:49167166-49167746 chrX:49167166-49167746 4     TRUE    \n",
       "chrX:49177416-49177916 chrX:49177416-49177916 4     TRUE    \n",
       "chrX:49193388-49193908 chrX:49193388-49193908 4     TRUE    \n",
       "                       Gene                                          \n",
       "chrX:48782818-48783318 GATA1,EBP,RBM3,WDR13,TIMM17B,CCDC22,FTSJ1,PIM2\n",
       "chrX:48784617-48785277 GATA1,HDAC6,PLP2,PQBP1                        \n",
       "chrX:48940454-48940954 GATA1,HDAC6,PLP2,PQBP1                        \n",
       "chrX:48941708-48942244 GATA1,HDAC6,PLP2,PQBP1                        \n",
       "chrX:49047157-49047736 GATA1,HDAC6,PLP2,PQBP1                        \n",
       "chrX:49148590-49149090 GATA1,HDAC6,PLP2,PQBP1                        \n",
       "chrX:49155148-49156608 GATA1,HDAC6,PLP2,PQBP1                        \n",
       "chrX:49163947-49164447 GATA1,HDAC6,PLP2,PQBP1                        \n",
       "chrX:49166366-49166866 GATA1,HDAC6,PLP2,PQBP1                        \n",
       "chrX:49167166-49167746 GATA1,HDAC6,PLP2,PQBP1                        \n",
       "chrX:49177416-49177916 GATA1,HDAC6,PLP2,PQBP1                        \n",
       "chrX:49193388-49193908 GATA1,HDAC6,PLP2,PQBP1                        "
      ]
     },
     "metadata": {},
     "output_type": "display_data"
    }
   ],
   "source": [
    "dat %>% dplyr::filter(str_detect(Gene, \"GATA1\"))"
   ]
  },
  {
   "cell_type": "code",
   "execution_count": 24,
   "metadata": {},
   "outputs": [
    {
     "data": {
      "text/html": [
       "<table class=\"dataframe\">\n",
       "<caption>A tibble: 9 × 4</caption>\n",
       "<thead>\n",
       "\t<tr><th scope=col>Region</th><th scope=col>Gene_Symbol</th><th scope=col>EffectSize</th><th scope=col>Regulated</th></tr>\n",
       "\t<tr><th scope=col>&lt;chr&gt;</th><th scope=col>&lt;chr&gt;</th><th scope=col>&lt;dbl&gt;</th><th scope=col>&lt;lgl&gt;</th></tr>\n",
       "</thead>\n",
       "<tbody>\n",
       "\t<tr><td>chr1:150976787-150977582</td><td>APH1A </td><td>-0.00174</td><td>FALSE</td></tr>\n",
       "\t<tr><td>chr1:150976787-150977582</td><td>ENSA  </td><td>-0.00507</td><td>FALSE</td></tr>\n",
       "\t<tr><td>chr1:150976787-150977582</td><td>PSMB4 </td><td> 0.02770</td><td>FALSE</td></tr>\n",
       "\t<tr><td>chr1:150976787-150977582</td><td>PSMD4 </td><td> 0.00791</td><td>FALSE</td></tr>\n",
       "\t<tr><td>chr1:150976787-150977582</td><td>ANP32E</td><td>-0.01076</td><td>FALSE</td></tr>\n",
       "\t<tr><td>chr1:150976787-150977582</td><td>CERS2 </td><td>-0.08169</td><td> TRUE</td></tr>\n",
       "\t<tr><td>chr1:150976787-150977582</td><td>MRPL9 </td><td> 0.00744</td><td>FALSE</td></tr>\n",
       "\t<tr><td>chr1:150976787-150977582</td><td>THEM4 </td><td> 0.00164</td><td>FALSE</td></tr>\n",
       "\t<tr><td>chr1:150976787-150977582</td><td>VPS72 </td><td> 0.01282</td><td>FALSE</td></tr>\n",
       "</tbody>\n",
       "</table>\n"
      ],
      "text/latex": [
       "A tibble: 9 × 4\n",
       "\\begin{tabular}{llll}\n",
       " Region & Gene\\_Symbol & EffectSize & Regulated\\\\\n",
       " <chr> & <chr> & <dbl> & <lgl>\\\\\n",
       "\\hline\n",
       "\t chr1:150976787-150977582 & APH1A  & -0.00174 & FALSE\\\\\n",
       "\t chr1:150976787-150977582 & ENSA   & -0.00507 & FALSE\\\\\n",
       "\t chr1:150976787-150977582 & PSMB4  &  0.02770 & FALSE\\\\\n",
       "\t chr1:150976787-150977582 & PSMD4  &  0.00791 & FALSE\\\\\n",
       "\t chr1:150976787-150977582 & ANP32E & -0.01076 & FALSE\\\\\n",
       "\t chr1:150976787-150977582 & CERS2  & -0.08169 &  TRUE\\\\\n",
       "\t chr1:150976787-150977582 & MRPL9  &  0.00744 & FALSE\\\\\n",
       "\t chr1:150976787-150977582 & THEM4  &  0.00164 & FALSE\\\\\n",
       "\t chr1:150976787-150977582 & VPS72  &  0.01282 & FALSE\\\\\n",
       "\\end{tabular}\n"
      ],
      "text/markdown": [
       "\n",
       "A tibble: 9 × 4\n",
       "\n",
       "| Region &lt;chr&gt; | Gene_Symbol &lt;chr&gt; | EffectSize &lt;dbl&gt; | Regulated &lt;lgl&gt; |\n",
       "|---|---|---|---|\n",
       "| chr1:150976787-150977582 | APH1A  | -0.00174 | FALSE |\n",
       "| chr1:150976787-150977582 | ENSA   | -0.00507 | FALSE |\n",
       "| chr1:150976787-150977582 | PSMB4  |  0.02770 | FALSE |\n",
       "| chr1:150976787-150977582 | PSMD4  |  0.00791 | FALSE |\n",
       "| chr1:150976787-150977582 | ANP32E | -0.01076 | FALSE |\n",
       "| chr1:150976787-150977582 | CERS2  | -0.08169 |  TRUE |\n",
       "| chr1:150976787-150977582 | MRPL9  |  0.00744 | FALSE |\n",
       "| chr1:150976787-150977582 | THEM4  |  0.00164 | FALSE |\n",
       "| chr1:150976787-150977582 | VPS72  |  0.01282 | FALSE |\n",
       "\n"
      ],
      "text/plain": [
       "  Region                   Gene_Symbol EffectSize Regulated\n",
       "1 chr1:150976787-150977582 APH1A       -0.00174   FALSE    \n",
       "2 chr1:150976787-150977582 ENSA        -0.00507   FALSE    \n",
       "3 chr1:150976787-150977582 PSMB4        0.02770   FALSE    \n",
       "4 chr1:150976787-150977582 PSMD4        0.00791   FALSE    \n",
       "5 chr1:150976787-150977582 ANP32E      -0.01076   FALSE    \n",
       "6 chr1:150976787-150977582 CERS2       -0.08169    TRUE    \n",
       "7 chr1:150976787-150977582 MRPL9        0.00744   FALSE    \n",
       "8 chr1:150976787-150977582 THEM4        0.00164   FALSE    \n",
       "9 chr1:150976787-150977582 VPS72        0.01282   FALSE    "
      ]
     },
     "metadata": {},
     "output_type": "display_data"
    }
   ],
   "source": [
    "lst[[\"chr1:150976787-150977582\"]]"
   ]
  },
  {
   "cell_type": "code",
   "execution_count": 25,
   "metadata": {},
   "outputs": [
    {
     "data": {
      "text/html": [
       "<table class=\"dataframe\">\n",
       "<caption>A tibble: 4 × 4</caption>\n",
       "<thead>\n",
       "\t<tr><th scope=col>Region</th><th scope=col>Gene_Symbol</th><th scope=col>EffectSize</th><th scope=col>Regulated</th></tr>\n",
       "\t<tr><th scope=col>&lt;chr&gt;</th><th scope=col>&lt;chr&gt;</th><th scope=col>&lt;dbl&gt;</th><th scope=col>&lt;lgl&gt;</th></tr>\n",
       "</thead>\n",
       "<tbody>\n",
       "\t<tr><td>chrX:48784617-48785277</td><td>GATA1</td><td>-0.18713</td><td> TRUE</td></tr>\n",
       "\t<tr><td>chrX:48784617-48785277</td><td>HDAC6</td><td> 0.08637</td><td>FALSE</td></tr>\n",
       "\t<tr><td>chrX:48784617-48785277</td><td>PLP2 </td><td> 0.08185</td><td>FALSE</td></tr>\n",
       "\t<tr><td>chrX:48784617-48785277</td><td>PQBP1</td><td> 0.00999</td><td>FALSE</td></tr>\n",
       "</tbody>\n",
       "</table>\n"
      ],
      "text/latex": [
       "A tibble: 4 × 4\n",
       "\\begin{tabular}{llll}\n",
       " Region & Gene\\_Symbol & EffectSize & Regulated\\\\\n",
       " <chr> & <chr> & <dbl> & <lgl>\\\\\n",
       "\\hline\n",
       "\t chrX:48784617-48785277 & GATA1 & -0.18713 &  TRUE\\\\\n",
       "\t chrX:48784617-48785277 & HDAC6 &  0.08637 & FALSE\\\\\n",
       "\t chrX:48784617-48785277 & PLP2  &  0.08185 & FALSE\\\\\n",
       "\t chrX:48784617-48785277 & PQBP1 &  0.00999 & FALSE\\\\\n",
       "\\end{tabular}\n"
      ],
      "text/markdown": [
       "\n",
       "A tibble: 4 × 4\n",
       "\n",
       "| Region &lt;chr&gt; | Gene_Symbol &lt;chr&gt; | EffectSize &lt;dbl&gt; | Regulated &lt;lgl&gt; |\n",
       "|---|---|---|---|\n",
       "| chrX:48784617-48785277 | GATA1 | -0.18713 |  TRUE |\n",
       "| chrX:48784617-48785277 | HDAC6 |  0.08637 | FALSE |\n",
       "| chrX:48784617-48785277 | PLP2  |  0.08185 | FALSE |\n",
       "| chrX:48784617-48785277 | PQBP1 |  0.00999 | FALSE |\n",
       "\n"
      ],
      "text/plain": [
       "  Region                 Gene_Symbol EffectSize Regulated\n",
       "1 chrX:48784617-48785277 GATA1       -0.18713    TRUE    \n",
       "2 chrX:48784617-48785277 HDAC6        0.08637   FALSE    \n",
       "3 chrX:48784617-48785277 PLP2         0.08185   FALSE    \n",
       "4 chrX:48784617-48785277 PQBP1        0.00999   FALSE    "
      ]
     },
     "metadata": {},
     "output_type": "display_data"
    }
   ],
   "source": [
    "lst[[\"chrX:48784617-48785277\"]]"
   ]
  },
  {
   "cell_type": "code",
   "execution_count": null,
   "metadata": {},
   "outputs": [],
   "source": []
  },
  {
   "cell_type": "code",
   "execution_count": null,
   "metadata": {},
   "outputs": [],
   "source": []
  },
  {
   "cell_type": "markdown",
   "metadata": {},
   "source": [
    "## Arrange"
   ]
  },
  {
   "cell_type": "code",
   "execution_count": 6,
   "metadata": {},
   "outputs": [
    {
     "name": "stdout",
     "output_type": "stream",
     "text": [
      "[1] 29330     4\n"
     ]
    },
    {
     "data": {
      "text/html": [
       "<table class=\"dataframe\">\n",
       "<caption>A tibble: 6 × 4</caption>\n",
       "<thead>\n",
       "\t<tr><th scope=col>Gene_Symbol</th><th scope=col>Chrom</th><th scope=col>TSS_POL2_Loc</th><th scope=col>TSS_POL2_Sig</th></tr>\n",
       "\t<tr><th scope=col>&lt;chr&gt;</th><th scope=col>&lt;chr&gt;</th><th scope=col>&lt;dbl&gt;</th><th scope=col>&lt;dbl&gt;</th></tr>\n",
       "</thead>\n",
       "<tbody>\n",
       "\t<tr><td>A1BG-AS1</td><td>chr19</td><td>58351969</td><td>1.52180000</td></tr>\n",
       "\t<tr><td>A1BG    </td><td>chr19</td><td>58353492</td><td>5.62284000</td></tr>\n",
       "\t<tr><td>A1CF    </td><td>chr10</td><td>50885675</td><td>0.00706126</td></tr>\n",
       "\t<tr><td>A2M-AS1 </td><td>chr12</td><td> 9065176</td><td>0.00201544</td></tr>\n",
       "\t<tr><td>A2M     </td><td>chr12</td><td> 9115919</td><td>0.04005220</td></tr>\n",
       "\t<tr><td>A2ML1   </td><td>chr12</td><td> 8845003</td><td>0.26862300</td></tr>\n",
       "</tbody>\n",
       "</table>\n"
      ],
      "text/latex": [
       "A tibble: 6 × 4\n",
       "\\begin{tabular}{llll}\n",
       " Gene\\_Symbol & Chrom & TSS\\_POL2\\_Loc & TSS\\_POL2\\_Sig\\\\\n",
       " <chr> & <chr> & <dbl> & <dbl>\\\\\n",
       "\\hline\n",
       "\t A1BG-AS1 & chr19 & 58351969 & 1.52180000\\\\\n",
       "\t A1BG     & chr19 & 58353492 & 5.62284000\\\\\n",
       "\t A1CF     & chr10 & 50885675 & 0.00706126\\\\\n",
       "\t A2M-AS1  & chr12 &  9065176 & 0.00201544\\\\\n",
       "\t A2M      & chr12 &  9115919 & 0.04005220\\\\\n",
       "\t A2ML1    & chr12 &  8845003 & 0.26862300\\\\\n",
       "\\end{tabular}\n"
      ],
      "text/markdown": [
       "\n",
       "A tibble: 6 × 4\n",
       "\n",
       "| Gene_Symbol &lt;chr&gt; | Chrom &lt;chr&gt; | TSS_POL2_Loc &lt;dbl&gt; | TSS_POL2_Sig &lt;dbl&gt; |\n",
       "|---|---|---|---|\n",
       "| A1BG-AS1 | chr19 | 58351969 | 1.52180000 |\n",
       "| A1BG     | chr19 | 58353492 | 5.62284000 |\n",
       "| A1CF     | chr10 | 50885675 | 0.00706126 |\n",
       "| A2M-AS1  | chr12 |  9065176 | 0.00201544 |\n",
       "| A2M      | chr12 |  9115919 | 0.04005220 |\n",
       "| A2ML1    | chr12 |  8845003 | 0.26862300 |\n",
       "\n"
      ],
      "text/plain": [
       "  Gene_Symbol Chrom TSS_POL2_Loc TSS_POL2_Sig\n",
       "1 A1BG-AS1    chr19 58351969     1.52180000  \n",
       "2 A1BG        chr19 58353492     5.62284000  \n",
       "3 A1CF        chr10 50885675     0.00706126  \n",
       "4 A2M-AS1     chr12  9065176     0.00201544  \n",
       "5 A2M         chr12  9115919     0.04005220  \n",
       "6 A2ML1       chr12  8845003     0.26862300  "
      ]
     },
     "metadata": {},
     "output_type": "display_data"
    }
   ],
   "source": [
    "cnames = c(\"Gene_Symbol\", \"Chrom\", \"TSS_POL2_Loc\", \"TSS_POL2_Sig\")\n",
    "\n",
    "dat = dat_gene_tss_pol2\n",
    "colnames(dat) = cnames\n",
    "\n",
    "dat_tss_pol2 = dat\n",
    "print(dim(dat))\n",
    "head(dat)"
   ]
  },
  {
   "cell_type": "code",
   "execution_count": 12,
   "metadata": {},
   "outputs": [
    {
     "name": "stdout",
     "output_type": "stream",
     "text": [
      "[1] 62696     5\n"
     ]
    },
    {
     "data": {
      "text/html": [
       "<table class=\"dataframe\">\n",
       "<caption>A tibble: 6 × 5</caption>\n",
       "<thead>\n",
       "\t<tr><th scope=col>Chrom</th><th scope=col>TSS_Gencode_Start</th><th scope=col>TSS_Gencode_End</th><th scope=col>Strand</th><th scope=col>Gene_Symbol</th></tr>\n",
       "\t<tr><th scope=col>&lt;chr&gt;</th><th scope=col>&lt;dbl&gt;</th><th scope=col>&lt;dbl&gt;</th><th scope=col>&lt;chr&gt;</th><th scope=col>&lt;chr&gt;</th></tr>\n",
       "</thead>\n",
       "<tbody>\n",
       "\t<tr><td>chr1</td><td>11868</td><td>14409</td><td>+</td><td>DDX11L2    </td></tr>\n",
       "\t<tr><td>chr1</td><td>12009</td><td>13670</td><td>+</td><td>DDX11L1    </td></tr>\n",
       "\t<tr><td>chr1</td><td>14403</td><td>29570</td><td>-</td><td>WASH7P     </td></tr>\n",
       "\t<tr><td>chr1</td><td>17368</td><td>17436</td><td>-</td><td>MIR6859-1  </td></tr>\n",
       "\t<tr><td>chr1</td><td>29553</td><td>31109</td><td>+</td><td>MIR1302-2HG</td></tr>\n",
       "\t<tr><td>chr1</td><td>30365</td><td>30503</td><td>+</td><td>MIR1302-2  </td></tr>\n",
       "</tbody>\n",
       "</table>\n"
      ],
      "text/latex": [
       "A tibble: 6 × 5\n",
       "\\begin{tabular}{lllll}\n",
       " Chrom & TSS\\_Gencode\\_Start & TSS\\_Gencode\\_End & Strand & Gene\\_Symbol\\\\\n",
       " <chr> & <dbl> & <dbl> & <chr> & <chr>\\\\\n",
       "\\hline\n",
       "\t chr1 & 11868 & 14409 & + & DDX11L2    \\\\\n",
       "\t chr1 & 12009 & 13670 & + & DDX11L1    \\\\\n",
       "\t chr1 & 14403 & 29570 & - & WASH7P     \\\\\n",
       "\t chr1 & 17368 & 17436 & - & MIR6859-1  \\\\\n",
       "\t chr1 & 29553 & 31109 & + & MIR1302-2HG\\\\\n",
       "\t chr1 & 30365 & 30503 & + & MIR1302-2  \\\\\n",
       "\\end{tabular}\n"
      ],
      "text/markdown": [
       "\n",
       "A tibble: 6 × 5\n",
       "\n",
       "| Chrom &lt;chr&gt; | TSS_Gencode_Start &lt;dbl&gt; | TSS_Gencode_End &lt;dbl&gt; | Strand &lt;chr&gt; | Gene_Symbol &lt;chr&gt; |\n",
       "|---|---|---|---|---|\n",
       "| chr1 | 11868 | 14409 | + | DDX11L2     |\n",
       "| chr1 | 12009 | 13670 | + | DDX11L1     |\n",
       "| chr1 | 14403 | 29570 | - | WASH7P      |\n",
       "| chr1 | 17368 | 17436 | - | MIR6859-1   |\n",
       "| chr1 | 29553 | 31109 | + | MIR1302-2HG |\n",
       "| chr1 | 30365 | 30503 | + | MIR1302-2   |\n",
       "\n"
      ],
      "text/plain": [
       "  Chrom TSS_Gencode_Start TSS_Gencode_End Strand Gene_Symbol\n",
       "1 chr1  11868             14409           +      DDX11L2    \n",
       "2 chr1  12009             13670           +      DDX11L1    \n",
       "3 chr1  14403             29570           -      WASH7P     \n",
       "4 chr1  17368             17436           -      MIR6859-1  \n",
       "5 chr1  29553             31109           +      MIR1302-2HG\n",
       "6 chr1  30365             30503           +      MIR1302-2  "
      ]
     },
     "metadata": {},
     "output_type": "display_data"
    }
   ],
   "source": [
    "cnames = c(\"Chrom\", \"TSS_Gencode_Start\", \"TSS_Gencode_End\", \"Strand\", \"Gene_Symbol\")\n",
    "\n",
    "dat = dat_gencode_gene\n",
    "dat = dat %>% \n",
    "    dplyr::select(Chrom, Start, End, Strand, Gene_Symbol) %>% \n",
    "    dplyr::distinct()\n",
    "colnames(dat) = cnames\n",
    "\n",
    "dat_tss_gencode = dat\n",
    "print(dim(dat))\n",
    "head(dat)"
   ]
  },
  {
   "cell_type": "code",
   "execution_count": 13,
   "metadata": {},
   "outputs": [
    {
     "name": "stdout",
     "output_type": "stream",
     "text": [
      "[1] 323   4\n"
     ]
    },
    {
     "data": {
      "text/html": [
       "<table class=\"dataframe\">\n",
       "<caption>A tibble: 6 × 4</caption>\n",
       "<thead>\n",
       "\t<tr><th scope=col>Chrom</th><th scope=col>TSS_E2G_Start</th><th scope=col>TSS_E2G_End</th><th scope=col>Gene_Symbol</th></tr>\n",
       "\t<tr><th scope=col>&lt;chr&gt;</th><th scope=col>&lt;dbl&gt;</th><th scope=col>&lt;dbl&gt;</th><th scope=col>&lt;chr&gt;</th></tr>\n",
       "</thead>\n",
       "<tbody>\n",
       "\t<tr><td>chr1</td><td> 8879248</td><td> 8879249</td><td>ENO1  </td></tr>\n",
       "\t<tr><td>chr1</td><td>17054169</td><td>17054170</td><td>SDHB  </td></tr>\n",
       "\t<tr><td>chr1</td><td>26900238</td><td>26900239</td><td>NUDC  </td></tr>\n",
       "\t<tr><td>chr1</td><td>25906990</td><td>25906991</td><td>STMN1 </td></tr>\n",
       "\t<tr><td>chr1</td><td>26410778</td><td>26410779</td><td>LIN28A</td></tr>\n",
       "\t<tr><td>chr1</td><td>28887091</td><td>28887092</td><td>EPB41 </td></tr>\n",
       "</tbody>\n",
       "</table>\n"
      ],
      "text/latex": [
       "A tibble: 6 × 4\n",
       "\\begin{tabular}{llll}\n",
       " Chrom & TSS\\_E2G\\_Start & TSS\\_E2G\\_End & Gene\\_Symbol\\\\\n",
       " <chr> & <dbl> & <dbl> & <chr>\\\\\n",
       "\\hline\n",
       "\t chr1 &  8879248 &  8879249 & ENO1  \\\\\n",
       "\t chr1 & 17054169 & 17054170 & SDHB  \\\\\n",
       "\t chr1 & 26900238 & 26900239 & NUDC  \\\\\n",
       "\t chr1 & 25906990 & 25906991 & STMN1 \\\\\n",
       "\t chr1 & 26410778 & 26410779 & LIN28A\\\\\n",
       "\t chr1 & 28887091 & 28887092 & EPB41 \\\\\n",
       "\\end{tabular}\n"
      ],
      "text/markdown": [
       "\n",
       "A tibble: 6 × 4\n",
       "\n",
       "| Chrom &lt;chr&gt; | TSS_E2G_Start &lt;dbl&gt; | TSS_E2G_End &lt;dbl&gt; | Gene_Symbol &lt;chr&gt; |\n",
       "|---|---|---|---|\n",
       "| chr1 |  8879248 |  8879249 | ENO1   |\n",
       "| chr1 | 17054169 | 17054170 | SDHB   |\n",
       "| chr1 | 26900238 | 26900239 | NUDC   |\n",
       "| chr1 | 25906990 | 25906991 | STMN1  |\n",
       "| chr1 | 26410778 | 26410779 | LIN28A |\n",
       "| chr1 | 28887091 | 28887092 | EPB41  |\n",
       "\n"
      ],
      "text/plain": [
       "  Chrom TSS_E2G_Start TSS_E2G_End Gene_Symbol\n",
       "1 chr1   8879248       8879249    ENO1       \n",
       "2 chr1  17054169      17054170    SDHB       \n",
       "3 chr1  26900238      26900239    NUDC       \n",
       "4 chr1  25906990      25906991    STMN1      \n",
       "5 chr1  26410778      26410779    LIN28A     \n",
       "6 chr1  28887091      28887092    EPB41      "
      ]
     },
     "metadata": {},
     "output_type": "display_data"
    }
   ],
   "source": [
    "cnames = c(\"Chrom\", \"TSS_E2G_Start\", \"TSS_E2G_End\", \"Gene_Symbol\")\n",
    "\n",
    "dat = dat_peak_crispri_e2g_filter\n",
    "dat = dat %>% \n",
    "    dplyr::select(chrTSS, startTSS, endTSS, measuredGeneSymbol) %>% \n",
    "    dplyr::distinct()\n",
    "colnames(dat) = cnames\n",
    "\n",
    "dat_tss_crispri_e2g = dat\n",
    "print(dim(dat))\n",
    "head(dat)"
   ]
  },
  {
   "cell_type": "markdown",
   "metadata": {},
   "source": [
    "## Merge file"
   ]
  },
  {
   "cell_type": "code",
   "execution_count": 16,
   "metadata": {},
   "outputs": [
    {
     "name": "stdout",
     "output_type": "stream",
     "text": [
      "[1] 324   6\n"
     ]
    },
    {
     "data": {
      "text/html": [
       "<table class=\"dataframe\">\n",
       "<caption>A tibble: 6 × 6</caption>\n",
       "<thead>\n",
       "\t<tr><th scope=col>Gene_Symbol</th><th scope=col>Chrom</th><th scope=col>Strand</th><th scope=col>TSS_E2G_Loc</th><th scope=col>TSS_Gencode_Loc</th><th scope=col>TSS_POL2_Loc</th></tr>\n",
       "\t<tr><th scope=col>&lt;chr&gt;</th><th scope=col>&lt;chr&gt;</th><th scope=col>&lt;chr&gt;</th><th scope=col>&lt;dbl&gt;</th><th scope=col>&lt;dbl&gt;</th><th scope=col>&lt;dbl&gt;</th></tr>\n",
       "</thead>\n",
       "<tbody>\n",
       "\t<tr><td>ENO1  </td><td>chr1</td><td>-</td><td> 8879249</td><td> 8879190</td><td> 8878686</td></tr>\n",
       "\t<tr><td>SDHB  </td><td>chr1</td><td>-</td><td>17054170</td><td>17054032</td><td>17054032</td></tr>\n",
       "\t<tr><td>NUDC  </td><td>chr1</td><td>+</td><td>26900238</td><td>26900237</td><td>26921742</td></tr>\n",
       "\t<tr><td>STMN1 </td><td>chr1</td><td>-</td><td>25906991</td><td>25906991</td><td>25906153</td></tr>\n",
       "\t<tr><td>LIN28A</td><td>chr1</td><td>+</td><td>26410778</td><td>26410816</td><td>26410816</td></tr>\n",
       "\t<tr><td>EPB41 </td><td>chr1</td><td>+</td><td>28887091</td><td>28887090</td><td>28887090</td></tr>\n",
       "</tbody>\n",
       "</table>\n"
      ],
      "text/latex": [
       "A tibble: 6 × 6\n",
       "\\begin{tabular}{llllll}\n",
       " Gene\\_Symbol & Chrom & Strand & TSS\\_E2G\\_Loc & TSS\\_Gencode\\_Loc & TSS\\_POL2\\_Loc\\\\\n",
       " <chr> & <chr> & <chr> & <dbl> & <dbl> & <dbl>\\\\\n",
       "\\hline\n",
       "\t ENO1   & chr1 & - &  8879249 &  8879190 &  8878686\\\\\n",
       "\t SDHB   & chr1 & - & 17054170 & 17054032 & 17054032\\\\\n",
       "\t NUDC   & chr1 & + & 26900238 & 26900237 & 26921742\\\\\n",
       "\t STMN1  & chr1 & - & 25906991 & 25906991 & 25906153\\\\\n",
       "\t LIN28A & chr1 & + & 26410778 & 26410816 & 26410816\\\\\n",
       "\t EPB41  & chr1 & + & 28887091 & 28887090 & 28887090\\\\\n",
       "\\end{tabular}\n"
      ],
      "text/markdown": [
       "\n",
       "A tibble: 6 × 6\n",
       "\n",
       "| Gene_Symbol &lt;chr&gt; | Chrom &lt;chr&gt; | Strand &lt;chr&gt; | TSS_E2G_Loc &lt;dbl&gt; | TSS_Gencode_Loc &lt;dbl&gt; | TSS_POL2_Loc &lt;dbl&gt; |\n",
       "|---|---|---|---|---|---|\n",
       "| ENO1   | chr1 | - |  8879249 |  8879190 |  8878686 |\n",
       "| SDHB   | chr1 | - | 17054170 | 17054032 | 17054032 |\n",
       "| NUDC   | chr1 | + | 26900238 | 26900237 | 26921742 |\n",
       "| STMN1  | chr1 | - | 25906991 | 25906991 | 25906153 |\n",
       "| LIN28A | chr1 | + | 26410778 | 26410816 | 26410816 |\n",
       "| EPB41  | chr1 | + | 28887091 | 28887090 | 28887090 |\n",
       "\n"
      ],
      "text/plain": [
       "  Gene_Symbol Chrom Strand TSS_E2G_Loc TSS_Gencode_Loc TSS_POL2_Loc\n",
       "1 ENO1        chr1  -       8879249     8879190         8878686    \n",
       "2 SDHB        chr1  -      17054170    17054032        17054032    \n",
       "3 NUDC        chr1  +      26900238    26900237        26921742    \n",
       "4 STMN1       chr1  -      25906991    25906991        25906153    \n",
       "5 LIN28A      chr1  +      26410778    26410816        26410816    \n",
       "6 EPB41       chr1  +      28887091    28887090        28887090    "
      ]
     },
     "metadata": {},
     "output_type": "display_data"
    }
   ],
   "source": [
    "dat = dat_tss_crispri_e2g\n",
    "dat = dat %>%\n",
    "    dplyr::left_join(dat_tss_gencode, by = c(\"Chrom\", \"Gene_Symbol\"), relationship = \"many-to-many\") %>%\n",
    "    dplyr::left_join(dat_tss_pol2,    by = c(\"Chrom\", \"Gene_Symbol\"), relationship = \"many-to-many\") %>%\n",
    "    dplyr::mutate(\n",
    "        TSS_E2G_Loc     = ifelse(Strand == \"+\", TSS_E2G_Start,     TSS_E2G_End),\n",
    "        TSS_Gencode_Loc = ifelse(Strand == \"+\", TSS_Gencode_Start, TSS_Gencode_End),\n",
    "    ) %>%\n",
    "    dplyr::select(\n",
    "        Gene_Symbol, Chrom, Strand, \n",
    "        TSS_E2G_Loc,\n",
    "        TSS_Gencode_Loc, \n",
    "        TSS_POL2_Loc) \n",
    "\n",
    "dat_tss_merge = dat\n",
    "print(dim(dat))\n",
    "head(dat)"
   ]
  },
  {
   "cell_type": "code",
   "execution_count": 17,
   "metadata": {},
   "outputs": [
    {
     "data": {
      "text/html": [
       "<table class=\"dataframe\">\n",
       "<caption>A tibble: 10 × 6</caption>\n",
       "<thead>\n",
       "\t<tr><th scope=col>Gene_Symbol</th><th scope=col>Chrom</th><th scope=col>Strand</th><th scope=col>TSS_E2G_Loc</th><th scope=col>TSS_Gencode_Loc</th><th scope=col>TSS_POL2_Loc</th></tr>\n",
       "\t<tr><th scope=col>&lt;chr&gt;</th><th scope=col>&lt;chr&gt;</th><th scope=col>&lt;chr&gt;</th><th scope=col>&lt;dbl&gt;</th><th scope=col>&lt;dbl&gt;</th><th scope=col>&lt;dbl&gt;</th></tr>\n",
       "</thead>\n",
       "<tbody>\n",
       "\t<tr><td>HBE1 </td><td>chr11</td><td>-</td><td>  5505653</td><td>  5505652</td><td>  5269945</td></tr>\n",
       "\t<tr><td>HBE1 </td><td>chr11</td><td>-</td><td>  5505652</td><td>  5505652</td><td>  5269945</td></tr>\n",
       "\t<tr><td>HBG1 </td><td>chr11</td><td>-</td><td>  5249892</td><td>  5249857</td><td>  5249857</td></tr>\n",
       "\t<tr><td>HBG2 </td><td>chr11</td><td>-</td><td>  5505605</td><td>  5505605</td><td>  5254781</td></tr>\n",
       "\t<tr><td>LMO2 </td><td>chr11</td><td>-</td><td> 33892289</td><td> 33892076</td><td> 33869878</td></tr>\n",
       "\t<tr><td>CAT  </td><td>chr11</td><td>+</td><td> 34438925</td><td> 34438933</td><td> 34438933</td></tr>\n",
       "\t<tr><td>FADS1</td><td>chr11</td><td>-</td><td> 61829318</td><td> 61829318</td><td> 61817003</td></tr>\n",
       "\t<tr><td>MYC  </td><td>chr8 </td><td>+</td><td>127735434</td><td>127735433</td><td>127736230</td></tr>\n",
       "\t<tr><td>GATA1</td><td>chrX </td><td>+</td><td> 48786554</td><td> 48786539</td><td> 48786589</td></tr>\n",
       "\t<tr><td>HDAC6</td><td>chrX </td><td>+</td><td> 48801377</td><td> 48801376</td><td> 48802066</td></tr>\n",
       "</tbody>\n",
       "</table>\n"
      ],
      "text/latex": [
       "A tibble: 10 × 6\n",
       "\\begin{tabular}{llllll}\n",
       " Gene\\_Symbol & Chrom & Strand & TSS\\_E2G\\_Loc & TSS\\_Gencode\\_Loc & TSS\\_POL2\\_Loc\\\\\n",
       " <chr> & <chr> & <chr> & <dbl> & <dbl> & <dbl>\\\\\n",
       "\\hline\n",
       "\t HBE1  & chr11 & - &   5505653 &   5505652 &   5269945\\\\\n",
       "\t HBE1  & chr11 & - &   5505652 &   5505652 &   5269945\\\\\n",
       "\t HBG1  & chr11 & - &   5249892 &   5249857 &   5249857\\\\\n",
       "\t HBG2  & chr11 & - &   5505605 &   5505605 &   5254781\\\\\n",
       "\t LMO2  & chr11 & - &  33892289 &  33892076 &  33869878\\\\\n",
       "\t CAT   & chr11 & + &  34438925 &  34438933 &  34438933\\\\\n",
       "\t FADS1 & chr11 & - &  61829318 &  61829318 &  61817003\\\\\n",
       "\t MYC   & chr8  & + & 127735434 & 127735433 & 127736230\\\\\n",
       "\t GATA1 & chrX  & + &  48786554 &  48786539 &  48786589\\\\\n",
       "\t HDAC6 & chrX  & + &  48801377 &  48801376 &  48802066\\\\\n",
       "\\end{tabular}\n"
      ],
      "text/markdown": [
       "\n",
       "A tibble: 10 × 6\n",
       "\n",
       "| Gene_Symbol &lt;chr&gt; | Chrom &lt;chr&gt; | Strand &lt;chr&gt; | TSS_E2G_Loc &lt;dbl&gt; | TSS_Gencode_Loc &lt;dbl&gt; | TSS_POL2_Loc &lt;dbl&gt; |\n",
       "|---|---|---|---|---|---|\n",
       "| HBE1  | chr11 | - |   5505653 |   5505652 |   5269945 |\n",
       "| HBE1  | chr11 | - |   5505652 |   5505652 |   5269945 |\n",
       "| HBG1  | chr11 | - |   5249892 |   5249857 |   5249857 |\n",
       "| HBG2  | chr11 | - |   5505605 |   5505605 |   5254781 |\n",
       "| LMO2  | chr11 | - |  33892289 |  33892076 |  33869878 |\n",
       "| CAT   | chr11 | + |  34438925 |  34438933 |  34438933 |\n",
       "| FADS1 | chr11 | - |  61829318 |  61829318 |  61817003 |\n",
       "| MYC   | chr8  | + | 127735434 | 127735433 | 127736230 |\n",
       "| GATA1 | chrX  | + |  48786554 |  48786539 |  48786589 |\n",
       "| HDAC6 | chrX  | + |  48801377 |  48801376 |  48802066 |\n",
       "\n"
      ],
      "text/plain": [
       "   Gene_Symbol Chrom Strand TSS_E2G_Loc TSS_Gencode_Loc TSS_POL2_Loc\n",
       "1  HBE1        chr11 -        5505653     5505652         5269945   \n",
       "2  HBE1        chr11 -        5505652     5505652         5269945   \n",
       "3  HBG1        chr11 -        5249892     5249857         5249857   \n",
       "4  HBG2        chr11 -        5505605     5505605         5254781   \n",
       "5  LMO2        chr11 -       33892289    33892076        33869878   \n",
       "6  CAT         chr11 +       34438925    34438933        34438933   \n",
       "7  FADS1       chr11 -       61829318    61829318        61817003   \n",
       "8  MYC         chr8  +      127735434   127735433       127736230   \n",
       "9  GATA1       chrX  +       48786554    48786539        48786589   \n",
       "10 HDAC6       chrX  +       48801377    48801376        48802066   "
      ]
     },
     "metadata": {},
     "output_type": "display_data"
    }
   ],
   "source": [
    "vec = c(\n",
    "    \"GATA1\", \"HDAC6\", \n",
    "    \"MYC\", \"PVT1\", \n",
    "    \"FADS1\", \"FADS2\", \"FADS3\", \"FEN1\",\n",
    "    \"HBG1\",  \"HBG2\", \"HBE1\",\n",
    "    \"CAPRIN1\", \"CAT\", \"LMO2\",\n",
    "    \"HBS1L\",   \"MYB\"\n",
    ")\n",
    "dat = dat_tss_merge\n",
    "dat = dat %>%\n",
    "    dplyr::filter(Gene_Symbol %in% vec)\n",
    "dat"
   ]
  },
  {
   "cell_type": "code",
   "execution_count": null,
   "metadata": {},
   "outputs": [],
   "source": []
  },
  {
   "cell_type": "code",
   "execution_count": null,
   "metadata": {},
   "outputs": [],
   "source": []
  },
  {
   "cell_type": "markdown",
   "metadata": {},
   "source": [
    "## Check some gene"
   ]
  },
  {
   "cell_type": "code",
   "execution_count": null,
   "metadata": {},
   "outputs": [],
   "source": []
  },
  {
   "cell_type": "code",
   "execution_count": null,
   "metadata": {},
   "outputs": [],
   "source": []
  },
  {
   "cell_type": "code",
   "execution_count": 5,
   "metadata": {},
   "outputs": [
    {
     "data": {
      "text/html": [
       "<table class=\"dataframe\">\n",
       "<caption>A spec_tbl_df: 1 × 4</caption>\n",
       "<thead>\n",
       "\t<tr><th scope=col>gene_name</th><th scope=col>chr</th><th scope=col>TSS</th><th scope=col>TSS_POL2_sig</th></tr>\n",
       "\t<tr><th scope=col>&lt;chr&gt;</th><th scope=col>&lt;chr&gt;</th><th scope=col>&lt;dbl&gt;</th><th scope=col>&lt;dbl&gt;</th></tr>\n",
       "</thead>\n",
       "<tbody>\n",
       "\t<tr><td>LMO2</td><td>chr11</td><td>33869878</td><td>8.55278</td></tr>\n",
       "</tbody>\n",
       "</table>\n"
      ],
      "text/latex": [
       "A spec\\_tbl\\_df: 1 × 4\n",
       "\\begin{tabular}{llll}\n",
       " gene\\_name & chr & TSS & TSS\\_POL2\\_sig\\\\\n",
       " <chr> & <chr> & <dbl> & <dbl>\\\\\n",
       "\\hline\n",
       "\t LMO2 & chr11 & 33869878 & 8.55278\\\\\n",
       "\\end{tabular}\n"
      ],
      "text/markdown": [
       "\n",
       "A spec_tbl_df: 1 × 4\n",
       "\n",
       "| gene_name &lt;chr&gt; | chr &lt;chr&gt; | TSS &lt;dbl&gt; | TSS_POL2_sig &lt;dbl&gt; |\n",
       "|---|---|---|---|\n",
       "| LMO2 | chr11 | 33869878 | 8.55278 |\n",
       "\n"
      ],
      "text/plain": [
       "  gene_name chr   TSS      TSS_POL2_sig\n",
       "1 LMO2      chr11 33869878 8.55278     "
      ]
     },
     "metadata": {},
     "output_type": "display_data"
    }
   ],
   "source": [
    "dat = dat_gene_tss_pol2\n",
    "dat = dat %>% dplyr::filter(gene_name == \"LMO2\")\n",
    "dat"
   ]
  },
  {
   "cell_type": "code",
   "execution_count": null,
   "metadata": {},
   "outputs": [],
   "source": []
  },
  {
   "cell_type": "code",
   "execution_count": 6,
   "metadata": {},
   "outputs": [
    {
     "data": {
      "text/html": [
       "<table class=\"dataframe\">\n",
       "<caption>A tibble: 1 × 4</caption>\n",
       "<thead>\n",
       "\t<tr><th scope=col>chrTSS</th><th scope=col>startTSS</th><th scope=col>endTSS</th><th scope=col>measuredGeneSymbol</th></tr>\n",
       "\t<tr><th scope=col>&lt;chr&gt;</th><th scope=col>&lt;dbl&gt;</th><th scope=col>&lt;dbl&gt;</th><th scope=col>&lt;chr&gt;</th></tr>\n",
       "</thead>\n",
       "<tbody>\n",
       "\t<tr><td>chr11</td><td>33892288</td><td>33892289</td><td>LMO2</td></tr>\n",
       "</tbody>\n",
       "</table>\n"
      ],
      "text/latex": [
       "A tibble: 1 × 4\n",
       "\\begin{tabular}{llll}\n",
       " chrTSS & startTSS & endTSS & measuredGeneSymbol\\\\\n",
       " <chr> & <dbl> & <dbl> & <chr>\\\\\n",
       "\\hline\n",
       "\t chr11 & 33892288 & 33892289 & LMO2\\\\\n",
       "\\end{tabular}\n"
      ],
      "text/markdown": [
       "\n",
       "A tibble: 1 × 4\n",
       "\n",
       "| chrTSS &lt;chr&gt; | startTSS &lt;dbl&gt; | endTSS &lt;dbl&gt; | measuredGeneSymbol &lt;chr&gt; |\n",
       "|---|---|---|---|\n",
       "| chr11 | 33892288 | 33892289 | LMO2 |\n",
       "\n"
      ],
      "text/plain": [
       "  chrTSS startTSS endTSS   measuredGeneSymbol\n",
       "1 chr11  33892288 33892289 LMO2              "
      ]
     },
     "metadata": {},
     "output_type": "display_data"
    }
   ],
   "source": [
    "dat = dat_peak_crispri_e2g_filter\n",
    "dat = dat %>% \n",
    "    dplyr::select(chrTSS, startTSS, endTSS, measuredGeneSymbol) %>% \n",
    "    dplyr::filter(measuredGeneSymbol == \"LMO2\") %>%\n",
    "    dplyr::distinct()\n",
    "head(dat)"
   ]
  },
  {
   "cell_type": "markdown",
   "metadata": {},
   "source": [
    "## Check gene overlap"
   ]
  },
  {
   "cell_type": "code",
   "execution_count": 7,
   "metadata": {},
   "outputs": [
    {
     "name": "stdout",
     "output_type": "stream",
     "text": [
      "[1] 323   4\n"
     ]
    },
    {
     "data": {
      "text/html": [
       "<table class=\"dataframe\">\n",
       "<caption>A tibble: 6 × 4</caption>\n",
       "<thead>\n",
       "\t<tr><th scope=col>chrTSS</th><th scope=col>startTSS</th><th scope=col>endTSS</th><th scope=col>measuredGeneSymbol</th></tr>\n",
       "\t<tr><th scope=col>&lt;chr&gt;</th><th scope=col>&lt;dbl&gt;</th><th scope=col>&lt;dbl&gt;</th><th scope=col>&lt;chr&gt;</th></tr>\n",
       "</thead>\n",
       "<tbody>\n",
       "\t<tr><td>chr1</td><td> 8879248</td><td> 8879249</td><td>ENO1  </td></tr>\n",
       "\t<tr><td>chr1</td><td>17054169</td><td>17054170</td><td>SDHB  </td></tr>\n",
       "\t<tr><td>chr1</td><td>26900238</td><td>26900239</td><td>NUDC  </td></tr>\n",
       "\t<tr><td>chr1</td><td>25906990</td><td>25906991</td><td>STMN1 </td></tr>\n",
       "\t<tr><td>chr1</td><td>26410778</td><td>26410779</td><td>LIN28A</td></tr>\n",
       "\t<tr><td>chr1</td><td>28887091</td><td>28887092</td><td>EPB41 </td></tr>\n",
       "</tbody>\n",
       "</table>\n"
      ],
      "text/latex": [
       "A tibble: 6 × 4\n",
       "\\begin{tabular}{llll}\n",
       " chrTSS & startTSS & endTSS & measuredGeneSymbol\\\\\n",
       " <chr> & <dbl> & <dbl> & <chr>\\\\\n",
       "\\hline\n",
       "\t chr1 &  8879248 &  8879249 & ENO1  \\\\\n",
       "\t chr1 & 17054169 & 17054170 & SDHB  \\\\\n",
       "\t chr1 & 26900238 & 26900239 & NUDC  \\\\\n",
       "\t chr1 & 25906990 & 25906991 & STMN1 \\\\\n",
       "\t chr1 & 26410778 & 26410779 & LIN28A\\\\\n",
       "\t chr1 & 28887091 & 28887092 & EPB41 \\\\\n",
       "\\end{tabular}\n"
      ],
      "text/markdown": [
       "\n",
       "A tibble: 6 × 4\n",
       "\n",
       "| chrTSS &lt;chr&gt; | startTSS &lt;dbl&gt; | endTSS &lt;dbl&gt; | measuredGeneSymbol &lt;chr&gt; |\n",
       "|---|---|---|---|\n",
       "| chr1 |  8879248 |  8879249 | ENO1   |\n",
       "| chr1 | 17054169 | 17054170 | SDHB   |\n",
       "| chr1 | 26900238 | 26900239 | NUDC   |\n",
       "| chr1 | 25906990 | 25906991 | STMN1  |\n",
       "| chr1 | 26410778 | 26410779 | LIN28A |\n",
       "| chr1 | 28887091 | 28887092 | EPB41  |\n",
       "\n"
      ],
      "text/plain": [
       "  chrTSS startTSS endTSS   measuredGeneSymbol\n",
       "1 chr1    8879248  8879249 ENO1              \n",
       "2 chr1   17054169 17054170 SDHB              \n",
       "3 chr1   26900238 26900239 NUDC              \n",
       "4 chr1   25906990 25906991 STMN1             \n",
       "5 chr1   26410778 26410779 LIN28A            \n",
       "6 chr1   28887091 28887092 EPB41             "
      ]
     },
     "metadata": {},
     "output_type": "display_data"
    }
   ],
   "source": [
    "dat = dat_peak_crispri_e2g_filter\n",
    "dat = dat %>% \n",
    "    dplyr::select(chrTSS, startTSS, endTSS, measuredGeneSymbol) %>% \n",
    "    dplyr::distinct()\n",
    "\n",
    "dat_gene_crispri = dat\n",
    "print(dim(dat))\n",
    "head(dat)"
   ]
  },
  {
   "cell_type": "code",
   "execution_count": 8,
   "metadata": {},
   "outputs": [
    {
     "data": {
      "text/plain": [
       "\n",
       "   ABCD1 ADAMTS14    AGAP1    AGFG1      AK1   AKAP11 \n",
       "       1        1        1        1        1        1 "
      ]
     },
     "metadata": {},
     "output_type": "display_data"
    }
   ],
   "source": [
    "dat = dat_gene_tss_pol2\n",
    "vec = dat_gene_crispri$measuredGeneSymbol\n",
    "\n",
    "dat = dat %>% dplyr::filter(gene_name %in% vec)\n",
    "res = table(dat$gene_name)\n",
    "head(res)"
   ]
  },
  {
   "cell_type": "code",
   "execution_count": 9,
   "metadata": {},
   "outputs": [
    {
     "data": {
      "text/html": [
       "<strong>MEG3:</strong> 2"
      ],
      "text/latex": [
       "\\textbf{MEG3:} 2"
      ],
      "text/markdown": [
       "**MEG3:** 2"
      ],
      "text/plain": [
       "MEG3 \n",
       "   2 "
      ]
     },
     "metadata": {},
     "output_type": "display_data"
    }
   ],
   "source": [
    "idx = which(res > 1)\n",
    "tmp = res[idx]\n",
    "tmp"
   ]
  },
  {
   "cell_type": "code",
   "execution_count": 16,
   "metadata": {},
   "outputs": [
    {
     "data": {
      "text/html": [
       "<table class=\"dataframe\">\n",
       "<caption>A spec_tbl_df: 2 × 4</caption>\n",
       "<thead>\n",
       "\t<tr><th scope=col>gene_name</th><th scope=col>chr</th><th scope=col>TSS</th><th scope=col>TSS_POL2_sig</th></tr>\n",
       "\t<tr><th scope=col>&lt;chr&gt;</th><th scope=col>&lt;chr&gt;</th><th scope=col>&lt;dbl&gt;</th><th scope=col>&lt;dbl&gt;</th></tr>\n",
       "</thead>\n",
       "<tbody>\n",
       "\t<tr><td>MEG3</td><td>chr14</td><td>100826107</td><td>0.151455</td></tr>\n",
       "\t<tr><td>MEG3</td><td>chr14</td><td>100826131</td><td>0.151455</td></tr>\n",
       "</tbody>\n",
       "</table>\n"
      ],
      "text/latex": [
       "A spec\\_tbl\\_df: 2 × 4\n",
       "\\begin{tabular}{llll}\n",
       " gene\\_name & chr & TSS & TSS\\_POL2\\_sig\\\\\n",
       " <chr> & <chr> & <dbl> & <dbl>\\\\\n",
       "\\hline\n",
       "\t MEG3 & chr14 & 100826107 & 0.151455\\\\\n",
       "\t MEG3 & chr14 & 100826131 & 0.151455\\\\\n",
       "\\end{tabular}\n"
      ],
      "text/markdown": [
       "\n",
       "A spec_tbl_df: 2 × 4\n",
       "\n",
       "| gene_name &lt;chr&gt; | chr &lt;chr&gt; | TSS &lt;dbl&gt; | TSS_POL2_sig &lt;dbl&gt; |\n",
       "|---|---|---|---|\n",
       "| MEG3 | chr14 | 100826107 | 0.151455 |\n",
       "| MEG3 | chr14 | 100826131 | 0.151455 |\n",
       "\n"
      ],
      "text/plain": [
       "  gene_name chr   TSS       TSS_POL2_sig\n",
       "1 MEG3      chr14 100826107 0.151455    \n",
       "2 MEG3      chr14 100826131 0.151455    "
      ]
     },
     "metadata": {},
     "output_type": "display_data"
    }
   ],
   "source": [
    "dat = dat_gene_tss_pol2\n",
    "dat = dat %>% dplyr::filter(gene_name == \"MEG3\")\n",
    "dat"
   ]
  },
  {
   "cell_type": "code",
   "execution_count": 17,
   "metadata": {},
   "outputs": [
    {
     "data": {
      "text/html": [
       "<table class=\"dataframe\">\n",
       "<caption>A tibble: 1 × 4</caption>\n",
       "<thead>\n",
       "\t<tr><th scope=col>chrTSS</th><th scope=col>startTSS</th><th scope=col>endTSS</th><th scope=col>measuredGeneSymbol</th></tr>\n",
       "\t<tr><th scope=col>&lt;chr&gt;</th><th scope=col>&lt;dbl&gt;</th><th scope=col>&lt;dbl&gt;</th><th scope=col>&lt;chr&gt;</th></tr>\n",
       "</thead>\n",
       "<tbody>\n",
       "\t<tr><td>chr14</td><td>100779410</td><td>100779411</td><td>MEG3</td></tr>\n",
       "</tbody>\n",
       "</table>\n"
      ],
      "text/latex": [
       "A tibble: 1 × 4\n",
       "\\begin{tabular}{llll}\n",
       " chrTSS & startTSS & endTSS & measuredGeneSymbol\\\\\n",
       " <chr> & <dbl> & <dbl> & <chr>\\\\\n",
       "\\hline\n",
       "\t chr14 & 100779410 & 100779411 & MEG3\\\\\n",
       "\\end{tabular}\n"
      ],
      "text/markdown": [
       "\n",
       "A tibble: 1 × 4\n",
       "\n",
       "| chrTSS &lt;chr&gt; | startTSS &lt;dbl&gt; | endTSS &lt;dbl&gt; | measuredGeneSymbol &lt;chr&gt; |\n",
       "|---|---|---|---|\n",
       "| chr14 | 100779410 | 100779411 | MEG3 |\n",
       "\n"
      ],
      "text/plain": [
       "  chrTSS startTSS  endTSS    measuredGeneSymbol\n",
       "1 chr14  100779410 100779411 MEG3              "
      ]
     },
     "metadata": {},
     "output_type": "display_data"
    }
   ],
   "source": [
    "dat = dat_gene_crispri\n",
    "dat = dat %>% dplyr::filter(measuredGeneSymbol == \"MEG3\")\n",
    "dat"
   ]
  },
  {
   "cell_type": "code",
   "execution_count": 18,
   "metadata": {},
   "outputs": [
    {
     "name": "stdout",
     "output_type": "stream",
     "text": [
      "[1] 28307\n",
      "[1] 322\n",
      "[1] 305\n"
     ]
    }
   ],
   "source": [
    "vec_gene_tss = unique(dat_gene_tss_pol2$gene_name)\n",
    "vec_gene_e2g = unique(dat_gene_crispri$measuredGeneSymbol)\n",
    "\n",
    "print(length(vec_gene_tss))\n",
    "print(length(vec_gene_e2g))\n",
    "print(length(intersect(vec_gene_tss, vec_gene_e2g)))"
   ]
  },
  {
   "cell_type": "markdown",
   "metadata": {},
   "source": [
    "## Merge file"
   ]
  },
  {
   "cell_type": "code",
   "execution_count": 19,
   "metadata": {},
   "outputs": [
    {
     "name": "stderr",
     "output_type": "stream",
     "text": [
      "Warning message in dplyr::left_join(dat_gene_crispri, dat_gene_tss_pol2, by = c(measuredGeneSymbol = \"gene_name\")):\n",
      "“\u001b[1m\u001b[22mDetected an unexpected many-to-many relationship between `x` and `y`.\n",
      "\u001b[36mℹ\u001b[39m Row 91 of `x` matches multiple rows in `y`.\n",
      "\u001b[36mℹ\u001b[39m Row 8578 of `y` matches multiple rows in `x`.\n",
      "\u001b[36mℹ\u001b[39m If a many-to-many relationship is expected, set `relationship =\n",
      "  \"many-to-many\"` to silence this warning.”\n"
     ]
    },
    {
     "name": "stdout",
     "output_type": "stream",
     "text": [
      "[1] 324   7\n"
     ]
    },
    {
     "data": {
      "text/html": [
       "<table class=\"dataframe\">\n",
       "<caption>A tibble: 6 × 7</caption>\n",
       "<thead>\n",
       "\t<tr><th scope=col>chrTSS</th><th scope=col>startTSS</th><th scope=col>endTSS</th><th scope=col>measuredGeneSymbol</th><th scope=col>chr</th><th scope=col>TSS</th><th scope=col>TSS_POL2_sig</th></tr>\n",
       "\t<tr><th scope=col>&lt;chr&gt;</th><th scope=col>&lt;dbl&gt;</th><th scope=col>&lt;dbl&gt;</th><th scope=col>&lt;chr&gt;</th><th scope=col>&lt;chr&gt;</th><th scope=col>&lt;dbl&gt;</th><th scope=col>&lt;dbl&gt;</th></tr>\n",
       "</thead>\n",
       "<tbody>\n",
       "\t<tr><td>chr1</td><td> 8879248</td><td> 8879249</td><td>ENO1  </td><td>chr1</td><td> 8878686</td><td>884.1860000</td></tr>\n",
       "\t<tr><td>chr1</td><td>17054169</td><td>17054170</td><td>SDHB  </td><td>chr1</td><td>17054032</td><td>105.5850000</td></tr>\n",
       "\t<tr><td>chr1</td><td>26900238</td><td>26900239</td><td>NUDC  </td><td>chr1</td><td>26921742</td><td>225.0550000</td></tr>\n",
       "\t<tr><td>chr1</td><td>25906990</td><td>25906991</td><td>STMN1 </td><td>chr1</td><td>25906153</td><td>299.4190000</td></tr>\n",
       "\t<tr><td>chr1</td><td>26410778</td><td>26410779</td><td>LIN28A</td><td>chr1</td><td>26410816</td><td>  0.0913391</td></tr>\n",
       "\t<tr><td>chr1</td><td>28887091</td><td>28887092</td><td>EPB41 </td><td>chr1</td><td>28887090</td><td> 57.5807000</td></tr>\n",
       "</tbody>\n",
       "</table>\n"
      ],
      "text/latex": [
       "A tibble: 6 × 7\n",
       "\\begin{tabular}{lllllll}\n",
       " chrTSS & startTSS & endTSS & measuredGeneSymbol & chr & TSS & TSS\\_POL2\\_sig\\\\\n",
       " <chr> & <dbl> & <dbl> & <chr> & <chr> & <dbl> & <dbl>\\\\\n",
       "\\hline\n",
       "\t chr1 &  8879248 &  8879249 & ENO1   & chr1 &  8878686 & 884.1860000\\\\\n",
       "\t chr1 & 17054169 & 17054170 & SDHB   & chr1 & 17054032 & 105.5850000\\\\\n",
       "\t chr1 & 26900238 & 26900239 & NUDC   & chr1 & 26921742 & 225.0550000\\\\\n",
       "\t chr1 & 25906990 & 25906991 & STMN1  & chr1 & 25906153 & 299.4190000\\\\\n",
       "\t chr1 & 26410778 & 26410779 & LIN28A & chr1 & 26410816 &   0.0913391\\\\\n",
       "\t chr1 & 28887091 & 28887092 & EPB41  & chr1 & 28887090 &  57.5807000\\\\\n",
       "\\end{tabular}\n"
      ],
      "text/markdown": [
       "\n",
       "A tibble: 6 × 7\n",
       "\n",
       "| chrTSS &lt;chr&gt; | startTSS &lt;dbl&gt; | endTSS &lt;dbl&gt; | measuredGeneSymbol &lt;chr&gt; | chr &lt;chr&gt; | TSS &lt;dbl&gt; | TSS_POL2_sig &lt;dbl&gt; |\n",
       "|---|---|---|---|---|---|---|\n",
       "| chr1 |  8879248 |  8879249 | ENO1   | chr1 |  8878686 | 884.1860000 |\n",
       "| chr1 | 17054169 | 17054170 | SDHB   | chr1 | 17054032 | 105.5850000 |\n",
       "| chr1 | 26900238 | 26900239 | NUDC   | chr1 | 26921742 | 225.0550000 |\n",
       "| chr1 | 25906990 | 25906991 | STMN1  | chr1 | 25906153 | 299.4190000 |\n",
       "| chr1 | 26410778 | 26410779 | LIN28A | chr1 | 26410816 |   0.0913391 |\n",
       "| chr1 | 28887091 | 28887092 | EPB41  | chr1 | 28887090 |  57.5807000 |\n",
       "\n"
      ],
      "text/plain": [
       "  chrTSS startTSS endTSS   measuredGeneSymbol chr  TSS      TSS_POL2_sig\n",
       "1 chr1    8879248  8879249 ENO1               chr1  8878686 884.1860000 \n",
       "2 chr1   17054169 17054170 SDHB               chr1 17054032 105.5850000 \n",
       "3 chr1   26900238 26900239 NUDC               chr1 26921742 225.0550000 \n",
       "4 chr1   25906990 25906991 STMN1              chr1 25906153 299.4190000 \n",
       "5 chr1   26410778 26410779 LIN28A             chr1 26410816   0.0913391 \n",
       "6 chr1   28887091 28887092 EPB41              chr1 28887090  57.5807000 "
      ]
     },
     "metadata": {},
     "output_type": "display_data"
    }
   ],
   "source": [
    "dat = dplyr::left_join(\n",
    "    dat_gene_crispri, \n",
    "    dat_gene_tss_pol2, \n",
    "    by = c(\"measuredGeneSymbol\" = \"gene_name\"))\n",
    "\n",
    "dat_gene_tss = dat\n",
    "print(dim(dat))\n",
    "head(dat)"
   ]
  },
  {
   "cell_type": "code",
   "execution_count": null,
   "metadata": {},
   "outputs": [],
   "source": [
    "DCT_GENE[\"GATA1\"] = [\"GATA1\", \"HDAC6\"]\n",
    "DCT_GENE[\"MYC\"]   = [\"MYC\",   \"PVT1\"]\n",
    "DCT_GENE[\"FADS\"]  = [\"FADS1\", \"FADS3\"]\n",
    "DCT_GENE[\"HBE\"]   = [\"HBG1\",  \"HBG2\", \"HBE1\"]\n",
    "DCT_GENE[\"LMO2\"]  = [\"CAPRIN1\", \"CAT\", \"LMO2\"]\n",
    "DCT_GENE[\"MYB\"]   = [\"HBS1L\",   \"MYB\"]\n"
   ]
  },
  {
   "cell_type": "code",
   "execution_count": 21,
   "metadata": {},
   "outputs": [
    {
     "data": {
      "text/html": [
       "<table class=\"dataframe\">\n",
       "<caption>A tibble: 10 × 7</caption>\n",
       "<thead>\n",
       "\t<tr><th scope=col>chrTSS</th><th scope=col>startTSS</th><th scope=col>endTSS</th><th scope=col>measuredGeneSymbol</th><th scope=col>chr</th><th scope=col>TSS</th><th scope=col>TSS_POL2_sig</th></tr>\n",
       "\t<tr><th scope=col>&lt;chr&gt;</th><th scope=col>&lt;dbl&gt;</th><th scope=col>&lt;dbl&gt;</th><th scope=col>&lt;chr&gt;</th><th scope=col>&lt;chr&gt;</th><th scope=col>&lt;dbl&gt;</th><th scope=col>&lt;dbl&gt;</th></tr>\n",
       "</thead>\n",
       "<tbody>\n",
       "\t<tr><td>chr11</td><td>  5505652</td><td>  5505653</td><td>HBE1 </td><td>chr11</td><td>  5269945</td><td>319.92500</td></tr>\n",
       "\t<tr><td>chr11</td><td>  5505651</td><td>  5505652</td><td>HBE1 </td><td>chr11</td><td>  5269945</td><td>319.92500</td></tr>\n",
       "\t<tr><td>chr11</td><td>  5249891</td><td>  5249892</td><td>HBG1 </td><td>chr11</td><td>  5249857</td><td> 17.42930</td></tr>\n",
       "\t<tr><td>chr11</td><td>  5505604</td><td>  5505605</td><td>HBG2 </td><td>chr11</td><td>  5254781</td><td> 15.73020</td></tr>\n",
       "\t<tr><td>chr11</td><td> 33892288</td><td> 33892289</td><td>LMO2 </td><td>chr11</td><td> 33869878</td><td>  8.55278</td></tr>\n",
       "\t<tr><td>chr11</td><td> 34438925</td><td> 34438926</td><td>CAT  </td><td>chr11</td><td> 34438933</td><td> 68.08190</td></tr>\n",
       "\t<tr><td>chr11</td><td> 61829317</td><td> 61829318</td><td>FADS1</td><td>chr11</td><td> 61817003</td><td>158.66100</td></tr>\n",
       "\t<tr><td>chr8 </td><td>127735434</td><td>127735435</td><td>MYC  </td><td>chr8 </td><td>127736230</td><td>272.78100</td></tr>\n",
       "\t<tr><td>chrX </td><td> 48786554</td><td> 48786555</td><td>GATA1</td><td>chrX </td><td> 48786589</td><td> 70.42080</td></tr>\n",
       "\t<tr><td>chrX </td><td> 48801377</td><td> 48801378</td><td>HDAC6</td><td>chrX </td><td> 48802066</td><td>183.30000</td></tr>\n",
       "</tbody>\n",
       "</table>\n"
      ],
      "text/latex": [
       "A tibble: 10 × 7\n",
       "\\begin{tabular}{lllllll}\n",
       " chrTSS & startTSS & endTSS & measuredGeneSymbol & chr & TSS & TSS\\_POL2\\_sig\\\\\n",
       " <chr> & <dbl> & <dbl> & <chr> & <chr> & <dbl> & <dbl>\\\\\n",
       "\\hline\n",
       "\t chr11 &   5505652 &   5505653 & HBE1  & chr11 &   5269945 & 319.92500\\\\\n",
       "\t chr11 &   5505651 &   5505652 & HBE1  & chr11 &   5269945 & 319.92500\\\\\n",
       "\t chr11 &   5249891 &   5249892 & HBG1  & chr11 &   5249857 &  17.42930\\\\\n",
       "\t chr11 &   5505604 &   5505605 & HBG2  & chr11 &   5254781 &  15.73020\\\\\n",
       "\t chr11 &  33892288 &  33892289 & LMO2  & chr11 &  33869878 &   8.55278\\\\\n",
       "\t chr11 &  34438925 &  34438926 & CAT   & chr11 &  34438933 &  68.08190\\\\\n",
       "\t chr11 &  61829317 &  61829318 & FADS1 & chr11 &  61817003 & 158.66100\\\\\n",
       "\t chr8  & 127735434 & 127735435 & MYC   & chr8  & 127736230 & 272.78100\\\\\n",
       "\t chrX  &  48786554 &  48786555 & GATA1 & chrX  &  48786589 &  70.42080\\\\\n",
       "\t chrX  &  48801377 &  48801378 & HDAC6 & chrX  &  48802066 & 183.30000\\\\\n",
       "\\end{tabular}\n"
      ],
      "text/markdown": [
       "\n",
       "A tibble: 10 × 7\n",
       "\n",
       "| chrTSS &lt;chr&gt; | startTSS &lt;dbl&gt; | endTSS &lt;dbl&gt; | measuredGeneSymbol &lt;chr&gt; | chr &lt;chr&gt; | TSS &lt;dbl&gt; | TSS_POL2_sig &lt;dbl&gt; |\n",
       "|---|---|---|---|---|---|---|\n",
       "| chr11 |   5505652 |   5505653 | HBE1  | chr11 |   5269945 | 319.92500 |\n",
       "| chr11 |   5505651 |   5505652 | HBE1  | chr11 |   5269945 | 319.92500 |\n",
       "| chr11 |   5249891 |   5249892 | HBG1  | chr11 |   5249857 |  17.42930 |\n",
       "| chr11 |   5505604 |   5505605 | HBG2  | chr11 |   5254781 |  15.73020 |\n",
       "| chr11 |  33892288 |  33892289 | LMO2  | chr11 |  33869878 |   8.55278 |\n",
       "| chr11 |  34438925 |  34438926 | CAT   | chr11 |  34438933 |  68.08190 |\n",
       "| chr11 |  61829317 |  61829318 | FADS1 | chr11 |  61817003 | 158.66100 |\n",
       "| chr8  | 127735434 | 127735435 | MYC   | chr8  | 127736230 | 272.78100 |\n",
       "| chrX  |  48786554 |  48786555 | GATA1 | chrX  |  48786589 |  70.42080 |\n",
       "| chrX  |  48801377 |  48801378 | HDAC6 | chrX  |  48802066 | 183.30000 |\n",
       "\n"
      ],
      "text/plain": [
       "   chrTSS startTSS  endTSS    measuredGeneSymbol chr   TSS       TSS_POL2_sig\n",
       "1  chr11    5505652   5505653 HBE1               chr11   5269945 319.92500   \n",
       "2  chr11    5505651   5505652 HBE1               chr11   5269945 319.92500   \n",
       "3  chr11    5249891   5249892 HBG1               chr11   5249857  17.42930   \n",
       "4  chr11    5505604   5505605 HBG2               chr11   5254781  15.73020   \n",
       "5  chr11   33892288  33892289 LMO2               chr11  33869878   8.55278   \n",
       "6  chr11   34438925  34438926 CAT                chr11  34438933  68.08190   \n",
       "7  chr11   61829317  61829318 FADS1              chr11  61817003 158.66100   \n",
       "8  chr8   127735434 127735435 MYC                chr8  127736230 272.78100   \n",
       "9  chrX    48786554  48786555 GATA1              chrX   48786589  70.42080   \n",
       "10 chrX    48801377  48801378 HDAC6              chrX   48802066 183.30000   "
      ]
     },
     "metadata": {},
     "output_type": "display_data"
    }
   ],
   "source": [
    "vec = c(\n",
    "    \"GATA1\", \"HDAC6\", \n",
    "    \"MYC\", \"PVT1\", \n",
    "    \"FADS1\", \"FADS2\", \"FADS3\", \"FEN1\",\n",
    "    \"HBG1\",  \"HBG2\", \"HBE1\",\n",
    "    \"CAPRIN1\", \"CAT\", \"LMO2\",\n",
    "    \"HBS1L\",   \"MYB\"\n",
    ")\n",
    "dat = dat_gene_tss\n",
    "dat = dat %>%\n",
    "    dplyr::filter(measuredGeneSymbol %in% vec)\n",
    "dat"
   ]
  },
  {
   "cell_type": "code",
   "execution_count": 10,
   "metadata": {},
   "outputs": [
    {
     "name": "stderr",
     "output_type": "stream",
     "text": [
      "Warning message in dplyr::left_join(., dat_gene_tss_pol2, by = c(measuredGeneSymbol = \"gene_name\")):\n",
      "“\u001b[1m\u001b[22mDetected an unexpected many-to-many relationship between `x` and `y`.\n",
      "\u001b[36mℹ\u001b[39m Row 360 of `x` matches multiple rows in `y`.\n",
      "\u001b[36mℹ\u001b[39m Row 24019 of `y` matches multiple rows in `x`.\n",
      "\u001b[36mℹ\u001b[39m If a many-to-many relationship is expected, set `relationship =\n",
      "  \"many-to-many\"` to silence this warning.”\n"
     ]
    },
    {
     "name": "stdout",
     "output_type": "stream",
     "text": [
      "[1] 2184    7\n"
     ]
    },
    {
     "data": {
      "text/html": [
       "<table class=\"dataframe\">\n",
       "<caption>A tibble: 6 × 7</caption>\n",
       "<thead>\n",
       "\t<tr><th scope=col>chrTSS</th><th scope=col>startTSS</th><th scope=col>endTSS</th><th scope=col>measuredGeneSymbol</th><th scope=col>chr</th><th scope=col>TSS</th><th scope=col>TSS_POL2_sig</th></tr>\n",
       "\t<tr><th scope=col>&lt;chr&gt;</th><th scope=col>&lt;dbl&gt;</th><th scope=col>&lt;dbl&gt;</th><th scope=col>&lt;chr&gt;</th><th scope=col>&lt;chr&gt;</th><th scope=col>&lt;dbl&gt;</th><th scope=col>&lt;dbl&gt;</th></tr>\n",
       "</thead>\n",
       "<tbody>\n",
       "\t<tr><td>chr1</td><td>3857213</td><td>3857214</td><td>CEP104</td><td>chr1</td><td>3857211</td><td> 24.4086</td></tr>\n",
       "\t<tr><td>chr1</td><td>3796503</td><td>3796504</td><td>LRRC47</td><td>chr1</td><td>3796498</td><td> 81.6001</td></tr>\n",
       "\t<tr><td>chr1</td><td>3772761</td><td>3772762</td><td>SMIM1 </td><td>chr1</td><td>3772748</td><td> 41.9636</td></tr>\n",
       "\t<tr><td>chr1</td><td>3772788</td><td>3772789</td><td>SMIM1 </td><td>chr1</td><td>3772748</td><td> 41.9636</td></tr>\n",
       "\t<tr><td>chr1</td><td>6209388</td><td>6209389</td><td>RPL22 </td><td>chr1</td><td>6199595</td><td>230.2290</td></tr>\n",
       "\t<tr><td>chr1</td><td>7954291</td><td>7954292</td><td>PARK7 </td><td>chr1</td><td>7961653</td><td>326.5000</td></tr>\n",
       "</tbody>\n",
       "</table>\n"
      ],
      "text/latex": [
       "A tibble: 6 × 7\n",
       "\\begin{tabular}{lllllll}\n",
       " chrTSS & startTSS & endTSS & measuredGeneSymbol & chr & TSS & TSS\\_POL2\\_sig\\\\\n",
       " <chr> & <dbl> & <dbl> & <chr> & <chr> & <dbl> & <dbl>\\\\\n",
       "\\hline\n",
       "\t chr1 & 3857213 & 3857214 & CEP104 & chr1 & 3857211 &  24.4086\\\\\n",
       "\t chr1 & 3796503 & 3796504 & LRRC47 & chr1 & 3796498 &  81.6001\\\\\n",
       "\t chr1 & 3772761 & 3772762 & SMIM1  & chr1 & 3772748 &  41.9636\\\\\n",
       "\t chr1 & 3772788 & 3772789 & SMIM1  & chr1 & 3772748 &  41.9636\\\\\n",
       "\t chr1 & 6209388 & 6209389 & RPL22  & chr1 & 6199595 & 230.2290\\\\\n",
       "\t chr1 & 7954291 & 7954292 & PARK7  & chr1 & 7961653 & 326.5000\\\\\n",
       "\\end{tabular}\n"
      ],
      "text/markdown": [
       "\n",
       "A tibble: 6 × 7\n",
       "\n",
       "| chrTSS &lt;chr&gt; | startTSS &lt;dbl&gt; | endTSS &lt;dbl&gt; | measuredGeneSymbol &lt;chr&gt; | chr &lt;chr&gt; | TSS &lt;dbl&gt; | TSS_POL2_sig &lt;dbl&gt; |\n",
       "|---|---|---|---|---|---|---|\n",
       "| chr1 | 3857213 | 3857214 | CEP104 | chr1 | 3857211 |  24.4086 |\n",
       "| chr1 | 3796503 | 3796504 | LRRC47 | chr1 | 3796498 |  81.6001 |\n",
       "| chr1 | 3772761 | 3772762 | SMIM1  | chr1 | 3772748 |  41.9636 |\n",
       "| chr1 | 3772788 | 3772789 | SMIM1  | chr1 | 3772748 |  41.9636 |\n",
       "| chr1 | 6209388 | 6209389 | RPL22  | chr1 | 6199595 | 230.2290 |\n",
       "| chr1 | 7954291 | 7954292 | PARK7  | chr1 | 7961653 | 326.5000 |\n",
       "\n"
      ],
      "text/plain": [
       "  chrTSS startTSS endTSS  measuredGeneSymbol chr  TSS     TSS_POL2_sig\n",
       "1 chr1   3857213  3857214 CEP104             chr1 3857211  24.4086    \n",
       "2 chr1   3796503  3796504 LRRC47             chr1 3796498  81.6001    \n",
       "3 chr1   3772761  3772762 SMIM1              chr1 3772748  41.9636    \n",
       "4 chr1   3772788  3772789 SMIM1              chr1 3772748  41.9636    \n",
       "5 chr1   6209388  6209389 RPL22              chr1 6199595 230.2290    \n",
       "6 chr1   7954291  7954292 PARK7              chr1 7961653 326.5000    "
      ]
     },
     "metadata": {},
     "output_type": "display_data"
    }
   ],
   "source": [
    "dat = dat_peak_crispri_e2g_import\n",
    "dat = dat %>% \n",
    "    dplyr::select(chrTSS, startTSS, endTSS, measuredGeneSymbol) %>% \n",
    "    dplyr::distinct()\n",
    "\n",
    "dat = dat %>% dplyr::left_join(dat_gene_tss_pol2, by = c(\"measuredGeneSymbol\" = \"gene_name\"))\n",
    "\n",
    "dat_crispri_e2g_tss = dat\n",
    "print(dim(dat))\n",
    "head(dat)"
   ]
  },
  {
   "cell_type": "code",
   "execution_count": null,
   "metadata": {},
   "outputs": [],
   "source": []
  }
 ],
 "metadata": {
  "kernelspec": {
   "display_name": "R",
   "language": "R",
   "name": "ir"
  },
  "language_info": {
   "codemirror_mode": "r",
   "file_extension": ".r",
   "mimetype": "text/x-r-source",
   "name": "R",
   "pygments_lexer": "r",
   "version": "4.3.0"
  }
 },
 "nbformat": 4,
 "nbformat_minor": 4
}
