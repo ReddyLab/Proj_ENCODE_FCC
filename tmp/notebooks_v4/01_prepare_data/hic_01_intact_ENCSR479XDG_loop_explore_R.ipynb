{
 "cells": [
  {
   "cell_type": "markdown",
   "metadata": {},
   "source": [
    "**Set environment**"
   ]
  },
  {
   "cell_type": "code",
   "execution_count": 1,
   "metadata": {},
   "outputs": [
    {
     "name": "stdout",
     "output_type": "stream",
     "text": [
      "You are in Singularity: singularity_proj_encode_fcc \n",
      "BASE DIRECTORY (FD_BASE): /data/reddylab/Kuei \n",
      "WORK DIRECTORY (FD_WORK): /data/reddylab/Kuei/out \n",
      "CODE DIRECTORY (FD_CODE): /data/reddylab/Kuei/code \n",
      "PATH OF PROJECT (FD_PRJ): /data/reddylab/Kuei/code/Proj_CombEffect_ENCODE_FCC \n",
      "PATH OF RESULTS (FD_RES): /data/reddylab/Kuei/out/proj_combeffect_encode_fcc \n",
      "PATH OF LOG     (FD_LOG): /data/reddylab/Kuei/out/proj_combeffect_encode_fcc/log \n"
     ]
    }
   ],
   "source": [
    "suppressMessages(suppressWarnings(source(\"../config/config_sing.R\")))\n",
    "show_env()"
   ]
  },
  {
   "cell_type": "markdown",
   "metadata": {},
   "source": [
    "**Check data**"
   ]
  },
  {
   "cell_type": "code",
   "execution_count": 2,
   "metadata": {},
   "outputs": [
    {
     "data": {
      "text/html": [
       "<style>\n",
       ".list-inline {list-style: none; margin:0; padding: 0}\n",
       ".list-inline>li {display: inline-block}\n",
       ".list-inline>li:not(:last-child)::after {content: \"\\00b7\"; padding: 0 .5ex}\n",
       "</style>\n",
       "<ol class=list-inline><li>'/data/reddylab/Kuei/out/proj_combeffect_encode_fcc/source/hic_intact_K562_deep'</li><li>'/data/reddylab/Kuei/out/proj_combeffect_encode_fcc/source/hic_intact_K562_ENCSR479XDG'</li></ol>\n"
      ],
      "text/latex": [
       "\\begin{enumerate*}\n",
       "\\item '/data/reddylab/Kuei/out/proj\\_combeffect\\_encode\\_fcc/source/hic\\_intact\\_K562\\_deep'\n",
       "\\item '/data/reddylab/Kuei/out/proj\\_combeffect\\_encode\\_fcc/source/hic\\_intact\\_K562\\_ENCSR479XDG'\n",
       "\\end{enumerate*}\n"
      ],
      "text/markdown": [
       "1. '/data/reddylab/Kuei/out/proj_combeffect_encode_fcc/source/hic_intact_K562_deep'\n",
       "2. '/data/reddylab/Kuei/out/proj_combeffect_encode_fcc/source/hic_intact_K562_ENCSR479XDG'\n",
       "\n",
       "\n"
      ],
      "text/plain": [
       "[1] \"/data/reddylab/Kuei/out/proj_combeffect_encode_fcc/source/hic_intact_K562_deep\"       \n",
       "[2] \"/data/reddylab/Kuei/out/proj_combeffect_encode_fcc/source/hic_intact_K562_ENCSR479XDG\""
      ]
     },
     "metadata": {},
     "output_type": "display_data"
    }
   ],
   "source": [
    "fdiry = file.path(FD_RES, \"source\")\n",
    "fglob = file.path(fdiry, \"hic_intact*\")\n",
    "Sys.glob(fglob)"
   ]
  },
  {
   "cell_type": "code",
   "execution_count": 3,
   "metadata": {},
   "outputs": [
    {
     "name": "stdout",
     "output_type": "stream",
     "text": [
      "[1] \"ENCFF621AIY.hic\"\n",
      "[1] \"K562.ENCSR479XDG.ENCFF126GED.contact_domains.bedpe.gz\"\n",
      "[1] \"K562.ENCSR479XDG.ENCFF256ZMD.loops.bedpe.gz\"\n"
     ]
    }
   ],
   "source": [
    "FOLDER=\"hic_intact_K562_ENCSR479XDG\"\n",
    "fdiry = file.path(FD_RES, \"source\", FOLDER)\n",
    "for (fname in dir(fdiry)) {print(fname)}"
   ]
  },
  {
   "cell_type": "markdown",
   "metadata": {},
   "source": [
    "## Loop"
   ]
  },
  {
   "cell_type": "code",
   "execution_count": 4,
   "metadata": {},
   "outputs": [
    {
     "name": "stderr",
     "output_type": "stream",
     "text": [
      "\u001b[1mRows: \u001b[22m\u001b[34m46004\u001b[39m \u001b[1mColumns: \u001b[22m\u001b[34m33\u001b[39m\n",
      "\u001b[36m──\u001b[39m \u001b[1mColumn specification\u001b[22m \u001b[36m─────────────────────────────────────────────────────────────────────\u001b[39m\n",
      "\u001b[1mDelimiter:\u001b[22m \"\\t\"\n",
      "\u001b[31mchr\u001b[39m  (7): X1, X4, X7, X8, X9, X10, X11\n",
      "\u001b[32mdbl\u001b[39m (26): X2, X3, X5, X6, X12, X13, X14, X15, X16, X17, X18, X19, X20, X21, ...\n",
      "\n",
      "\u001b[36mℹ\u001b[39m Use `spec()` to retrieve the full column specification for this data.\n",
      "\u001b[36mℹ\u001b[39m Specify the column types or set `show_col_types = FALSE` to quiet this message.\n"
     ]
    },
    {
     "name": "stdout",
     "output_type": "stream",
     "text": [
      "[1] 46004    33\n"
     ]
    },
    {
     "data": {
      "text/html": [
       "<table class=\"dataframe\">\n",
       "<caption>A tibble: 6 × 33</caption>\n",
       "<thead>\n",
       "\t<tr><th scope=col>X1</th><th scope=col>X2</th><th scope=col>X3</th><th scope=col>X4</th><th scope=col>X5</th><th scope=col>X6</th><th scope=col>X7</th><th scope=col>X8</th><th scope=col>X9</th><th scope=col>X10</th><th scope=col>⋯</th><th scope=col>X24</th><th scope=col>X25</th><th scope=col>X26</th><th scope=col>X27</th><th scope=col>X28</th><th scope=col>X29</th><th scope=col>X30</th><th scope=col>X31</th><th scope=col>X32</th><th scope=col>X33</th></tr>\n",
       "\t<tr><th scope=col>&lt;chr&gt;</th><th scope=col>&lt;dbl&gt;</th><th scope=col>&lt;dbl&gt;</th><th scope=col>&lt;chr&gt;</th><th scope=col>&lt;dbl&gt;</th><th scope=col>&lt;dbl&gt;</th><th scope=col>&lt;chr&gt;</th><th scope=col>&lt;chr&gt;</th><th scope=col>&lt;chr&gt;</th><th scope=col>&lt;chr&gt;</th><th scope=col>⋯</th><th scope=col>&lt;dbl&gt;</th><th scope=col>&lt;dbl&gt;</th><th scope=col>&lt;dbl&gt;</th><th scope=col>&lt;dbl&gt;</th><th scope=col>&lt;dbl&gt;</th><th scope=col>&lt;dbl&gt;</th><th scope=col>&lt;dbl&gt;</th><th scope=col>&lt;dbl&gt;</th><th scope=col>&lt;dbl&gt;</th><th scope=col>&lt;dbl&gt;</th></tr>\n",
       "</thead>\n",
       "<tbody>\n",
       "\t<tr><td>chr10</td><td>102835000</td><td>102836000</td><td>chr10</td><td>102901000</td><td>102902000</td><td>.</td><td>.</td><td>.</td><td>.</td><td>⋯</td><td> 500</td><td>102834600</td><td>102835200</td><td>102901400</td><td>102901700</td><td>102834700</td><td>102901500</td><td> 4</td><td>0.0002171732</td><td> 0</td></tr>\n",
       "\t<tr><td>chr10</td><td>123583000</td><td>123584000</td><td>chr10</td><td>123967000</td><td>123968000</td><td>.</td><td>.</td><td>.</td><td>.</td><td>⋯</td><td> 500</td><td>       NA</td><td>       NA</td><td>       NA</td><td>       NA</td><td>       NA</td><td>       NA</td><td>NA</td><td>          NA</td><td>NA</td></tr>\n",
       "\t<tr><td>chr10</td><td> 60780000</td><td> 60782000</td><td>chr10</td><td> 60828000</td><td> 60830000</td><td>.</td><td>.</td><td>.</td><td>.</td><td>⋯</td><td>   0</td><td>       NA</td><td>       NA</td><td>       NA</td><td>       NA</td><td>       NA</td><td>       NA</td><td>NA</td><td>          NA</td><td>NA</td></tr>\n",
       "\t<tr><td>chr10</td><td> 33050000</td><td> 33051000</td><td>chr10</td><td> 33067000</td><td> 33068000</td><td>.</td><td>.</td><td>.</td><td>.</td><td>⋯</td><td>   0</td><td>       NA</td><td>       NA</td><td>       NA</td><td>       NA</td><td>       NA</td><td>       NA</td><td>NA</td><td>          NA</td><td>NA</td></tr>\n",
       "\t<tr><td>chr10</td><td> 11412000</td><td> 11414000</td><td>chr10</td><td> 11472000</td><td> 11474000</td><td>.</td><td>.</td><td>.</td><td>.</td><td>⋯</td><td>   0</td><td> 11412000</td><td> 11412500</td><td> 11471700</td><td> 11472700</td><td> 11412200</td><td> 11472100</td><td>10</td><td>0.0088614312</td><td> 0</td></tr>\n",
       "\t<tr><td>chr10</td><td> 45005000</td><td> 45010000</td><td>chr10</td><td> 45465000</td><td> 45470000</td><td>.</td><td>.</td><td>.</td><td>.</td><td>⋯</td><td>2500</td><td>       NA</td><td>       NA</td><td>       NA</td><td>       NA</td><td>       NA</td><td>       NA</td><td>NA</td><td>          NA</td><td>NA</td></tr>\n",
       "</tbody>\n",
       "</table>\n"
      ],
      "text/latex": [
       "A tibble: 6 × 33\n",
       "\\begin{tabular}{lllllllllllllllllllll}\n",
       " X1 & X2 & X3 & X4 & X5 & X6 & X7 & X8 & X9 & X10 & ⋯ & X24 & X25 & X26 & X27 & X28 & X29 & X30 & X31 & X32 & X33\\\\\n",
       " <chr> & <dbl> & <dbl> & <chr> & <dbl> & <dbl> & <chr> & <chr> & <chr> & <chr> & ⋯ & <dbl> & <dbl> & <dbl> & <dbl> & <dbl> & <dbl> & <dbl> & <dbl> & <dbl> & <dbl>\\\\\n",
       "\\hline\n",
       "\t chr10 & 102835000 & 102836000 & chr10 & 102901000 & 102902000 & . & . & . & . & ⋯ &  500 & 102834600 & 102835200 & 102901400 & 102901700 & 102834700 & 102901500 &  4 & 0.0002171732 &  0\\\\\n",
       "\t chr10 & 123583000 & 123584000 & chr10 & 123967000 & 123968000 & . & . & . & . & ⋯ &  500 &        NA &        NA &        NA &        NA &        NA &        NA & NA &           NA & NA\\\\\n",
       "\t chr10 &  60780000 &  60782000 & chr10 &  60828000 &  60830000 & . & . & . & . & ⋯ &    0 &        NA &        NA &        NA &        NA &        NA &        NA & NA &           NA & NA\\\\\n",
       "\t chr10 &  33050000 &  33051000 & chr10 &  33067000 &  33068000 & . & . & . & . & ⋯ &    0 &        NA &        NA &        NA &        NA &        NA &        NA & NA &           NA & NA\\\\\n",
       "\t chr10 &  11412000 &  11414000 & chr10 &  11472000 &  11474000 & . & . & . & . & ⋯ &    0 &  11412000 &  11412500 &  11471700 &  11472700 &  11412200 &  11472100 & 10 & 0.0088614312 &  0\\\\\n",
       "\t chr10 &  45005000 &  45010000 & chr10 &  45465000 &  45470000 & . & . & . & . & ⋯ & 2500 &        NA &        NA &        NA &        NA &        NA &        NA & NA &           NA & NA\\\\\n",
       "\\end{tabular}\n"
      ],
      "text/markdown": [
       "\n",
       "A tibble: 6 × 33\n",
       "\n",
       "| X1 &lt;chr&gt; | X2 &lt;dbl&gt; | X3 &lt;dbl&gt; | X4 &lt;chr&gt; | X5 &lt;dbl&gt; | X6 &lt;dbl&gt; | X7 &lt;chr&gt; | X8 &lt;chr&gt; | X9 &lt;chr&gt; | X10 &lt;chr&gt; | ⋯ ⋯ | X24 &lt;dbl&gt; | X25 &lt;dbl&gt; | X26 &lt;dbl&gt; | X27 &lt;dbl&gt; | X28 &lt;dbl&gt; | X29 &lt;dbl&gt; | X30 &lt;dbl&gt; | X31 &lt;dbl&gt; | X32 &lt;dbl&gt; | X33 &lt;dbl&gt; |\n",
       "|---|---|---|---|---|---|---|---|---|---|---|---|---|---|---|---|---|---|---|---|---|\n",
       "| chr10 | 102835000 | 102836000 | chr10 | 102901000 | 102902000 | . | . | . | . | ⋯ |  500 | 102834600 | 102835200 | 102901400 | 102901700 | 102834700 | 102901500 |  4 | 0.0002171732 |  0 |\n",
       "| chr10 | 123583000 | 123584000 | chr10 | 123967000 | 123968000 | . | . | . | . | ⋯ |  500 |        NA |        NA |        NA |        NA |        NA |        NA | NA |           NA | NA |\n",
       "| chr10 |  60780000 |  60782000 | chr10 |  60828000 |  60830000 | . | . | . | . | ⋯ |    0 |        NA |        NA |        NA |        NA |        NA |        NA | NA |           NA | NA |\n",
       "| chr10 |  33050000 |  33051000 | chr10 |  33067000 |  33068000 | . | . | . | . | ⋯ |    0 |        NA |        NA |        NA |        NA |        NA |        NA | NA |           NA | NA |\n",
       "| chr10 |  11412000 |  11414000 | chr10 |  11472000 |  11474000 | . | . | . | . | ⋯ |    0 |  11412000 |  11412500 |  11471700 |  11472700 |  11412200 |  11472100 | 10 | 0.0088614312 |  0 |\n",
       "| chr10 |  45005000 |  45010000 | chr10 |  45465000 |  45470000 | . | . | . | . | ⋯ | 2500 |        NA |        NA |        NA |        NA |        NA |        NA | NA |           NA | NA |\n",
       "\n"
      ],
      "text/plain": [
       "  X1    X2        X3        X4    X5        X6        X7 X8 X9 X10 ⋯ X24 \n",
       "1 chr10 102835000 102836000 chr10 102901000 102902000 .  .  .  .   ⋯  500\n",
       "2 chr10 123583000 123584000 chr10 123967000 123968000 .  .  .  .   ⋯  500\n",
       "3 chr10  60780000  60782000 chr10  60828000  60830000 .  .  .  .   ⋯    0\n",
       "4 chr10  33050000  33051000 chr10  33067000  33068000 .  .  .  .   ⋯    0\n",
       "5 chr10  11412000  11414000 chr10  11472000  11474000 .  .  .  .   ⋯    0\n",
       "6 chr10  45005000  45010000 chr10  45465000  45470000 .  .  .  .   ⋯ 2500\n",
       "  X25       X26       X27       X28       X29       X30       X31 X32         \n",
       "1 102834600 102835200 102901400 102901700 102834700 102901500  4  0.0002171732\n",
       "2        NA        NA        NA        NA        NA        NA NA            NA\n",
       "3        NA        NA        NA        NA        NA        NA NA            NA\n",
       "4        NA        NA        NA        NA        NA        NA NA            NA\n",
       "5  11412000  11412500  11471700  11472700  11412200  11472100 10  0.0088614312\n",
       "6        NA        NA        NA        NA        NA        NA NA            NA\n",
       "  X33\n",
       "1  0 \n",
       "2 NA \n",
       "3 NA \n",
       "4 NA \n",
       "5  0 \n",
       "6 NA "
      ]
     },
     "metadata": {},
     "output_type": "display_data"
    }
   ],
   "source": [
    "fdiry = file.path(FD_RES, \"source\", FOLDER)\n",
    "fname = \"K562.ENCSR479XDG.ENCFF256ZMD.loops.bedpe.gz\"\n",
    "fpath = file.path(fdiry, fname)\n",
    "\n",
    "dat = read_tsv(fpath, col_names = FALSE, comment = \"#\")\n",
    "\n",
    "dat_hic_loop = dat\n",
    "print(dim(dat))\n",
    "head(dat)"
   ]
  },
  {
   "cell_type": "markdown",
   "metadata": {},
   "source": [
    "## TAD"
   ]
  },
  {
   "cell_type": "code",
   "execution_count": 5,
   "metadata": {},
   "outputs": [
    {
     "name": "stderr",
     "output_type": "stream",
     "text": [
      "\u001b[1mRows: \u001b[22m\u001b[34m4348\u001b[39m \u001b[1mColumns: \u001b[22m\u001b[34m16\u001b[39m\n",
      "\u001b[36m──\u001b[39m \u001b[1mColumn specification\u001b[22m \u001b[36m─────────────────────────────────────────────────────────────────────\u001b[39m\n",
      "\u001b[1mDelimiter:\u001b[22m \"\\t\"\n",
      "\u001b[31mchr\u001b[39m (6): X1, X4, X7, X8, X9, X10\n",
      "\u001b[32mdbl\u001b[39m (9): X2, X3, X5, X6, X12, X13, X14, X15, X16\n",
      "\u001b[32mnum\u001b[39m (1): X11\n",
      "\n",
      "\u001b[36mℹ\u001b[39m Use `spec()` to retrieve the full column specification for this data.\n",
      "\u001b[36mℹ\u001b[39m Specify the column types or set `show_col_types = FALSE` to quiet this message.\n"
     ]
    },
    {
     "name": "stdout",
     "output_type": "stream",
     "text": [
      "[1] 4348   16\n"
     ]
    },
    {
     "data": {
      "text/html": [
       "<table class=\"dataframe\">\n",
       "<caption>A tibble: 6 × 16</caption>\n",
       "<thead>\n",
       "\t<tr><th scope=col>X1</th><th scope=col>X2</th><th scope=col>X3</th><th scope=col>X4</th><th scope=col>X5</th><th scope=col>X6</th><th scope=col>X7</th><th scope=col>X8</th><th scope=col>X9</th><th scope=col>X10</th><th scope=col>X11</th><th scope=col>X12</th><th scope=col>X13</th><th scope=col>X14</th><th scope=col>X15</th><th scope=col>X16</th></tr>\n",
       "\t<tr><th scope=col>&lt;chr&gt;</th><th scope=col>&lt;dbl&gt;</th><th scope=col>&lt;dbl&gt;</th><th scope=col>&lt;chr&gt;</th><th scope=col>&lt;dbl&gt;</th><th scope=col>&lt;dbl&gt;</th><th scope=col>&lt;chr&gt;</th><th scope=col>&lt;chr&gt;</th><th scope=col>&lt;chr&gt;</th><th scope=col>&lt;chr&gt;</th><th scope=col>&lt;dbl&gt;</th><th scope=col>&lt;dbl&gt;</th><th scope=col>&lt;dbl&gt;</th><th scope=col>&lt;dbl&gt;</th><th scope=col>&lt;dbl&gt;</th><th scope=col>&lt;dbl&gt;</th></tr>\n",
       "</thead>\n",
       "<tbody>\n",
       "\t<tr><td>chr10</td><td> 89790000</td><td> 90730000</td><td>chr10</td><td> 89790000</td><td> 90730000</td><td>.</td><td>.</td><td>.</td><td>.</td><td>2552550</td><td>0.4873343</td><td>0.4321875</td><td>0.3910142</td><td>0.4366181</td><td>0.5132139</td></tr>\n",
       "\t<tr><td>chr10</td><td>117485000</td><td>118260000</td><td>chr10</td><td>117485000</td><td>118260000</td><td>.</td><td>.</td><td>.</td><td>.</td><td>2552550</td><td>0.4714600</td><td>0.4038806</td><td>0.4028087</td><td>0.4469099</td><td>0.4451019</td></tr>\n",
       "\t<tr><td>chr10</td><td> 51125000</td><td> 52215000</td><td>chr10</td><td> 51125000</td><td> 52215000</td><td>.</td><td>.</td><td>.</td><td>.</td><td>2552550</td><td>0.5757076</td><td>0.3855988</td><td>0.3954850</td><td>0.4712260</td><td>0.4000834</td></tr>\n",
       "\t<tr><td>chr10</td><td>112495000</td><td>113565000</td><td>chr10</td><td>112495000</td><td>113565000</td><td>.</td><td>.</td><td>.</td><td>.</td><td>2552550</td><td>0.6096007</td><td>0.3796908</td><td>0.3952655</td><td>0.5317584</td><td>0.4613188</td></tr>\n",
       "\t<tr><td>chr10</td><td> 84540000</td><td> 86085000</td><td>chr10</td><td> 84540000</td><td> 86085000</td><td>.</td><td>.</td><td>.</td><td>.</td><td>2552550</td><td>0.5786491</td><td>0.4119491</td><td>0.3597105</td><td>0.4424142</td><td>0.4804162</td></tr>\n",
       "\t<tr><td>chr10</td><td> 94665000</td><td> 95075000</td><td>chr10</td><td> 94665000</td><td> 95075000</td><td>.</td><td>.</td><td>.</td><td>.</td><td>2552550</td><td>0.6267519</td><td>0.3811024</td><td>0.3788707</td><td>0.5000000</td><td>0.4018583</td></tr>\n",
       "</tbody>\n",
       "</table>\n"
      ],
      "text/latex": [
       "A tibble: 6 × 16\n",
       "\\begin{tabular}{llllllllllllllll}\n",
       " X1 & X2 & X3 & X4 & X5 & X6 & X7 & X8 & X9 & X10 & X11 & X12 & X13 & X14 & X15 & X16\\\\\n",
       " <chr> & <dbl> & <dbl> & <chr> & <dbl> & <dbl> & <chr> & <chr> & <chr> & <chr> & <dbl> & <dbl> & <dbl> & <dbl> & <dbl> & <dbl>\\\\\n",
       "\\hline\n",
       "\t chr10 &  89790000 &  90730000 & chr10 &  89790000 &  90730000 & . & . & . & . & 2552550 & 0.4873343 & 0.4321875 & 0.3910142 & 0.4366181 & 0.5132139\\\\\n",
       "\t chr10 & 117485000 & 118260000 & chr10 & 117485000 & 118260000 & . & . & . & . & 2552550 & 0.4714600 & 0.4038806 & 0.4028087 & 0.4469099 & 0.4451019\\\\\n",
       "\t chr10 &  51125000 &  52215000 & chr10 &  51125000 &  52215000 & . & . & . & . & 2552550 & 0.5757076 & 0.3855988 & 0.3954850 & 0.4712260 & 0.4000834\\\\\n",
       "\t chr10 & 112495000 & 113565000 & chr10 & 112495000 & 113565000 & . & . & . & . & 2552550 & 0.6096007 & 0.3796908 & 0.3952655 & 0.5317584 & 0.4613188\\\\\n",
       "\t chr10 &  84540000 &  86085000 & chr10 &  84540000 &  86085000 & . & . & . & . & 2552550 & 0.5786491 & 0.4119491 & 0.3597105 & 0.4424142 & 0.4804162\\\\\n",
       "\t chr10 &  94665000 &  95075000 & chr10 &  94665000 &  95075000 & . & . & . & . & 2552550 & 0.6267519 & 0.3811024 & 0.3788707 & 0.5000000 & 0.4018583\\\\\n",
       "\\end{tabular}\n"
      ],
      "text/markdown": [
       "\n",
       "A tibble: 6 × 16\n",
       "\n",
       "| X1 &lt;chr&gt; | X2 &lt;dbl&gt; | X3 &lt;dbl&gt; | X4 &lt;chr&gt; | X5 &lt;dbl&gt; | X6 &lt;dbl&gt; | X7 &lt;chr&gt; | X8 &lt;chr&gt; | X9 &lt;chr&gt; | X10 &lt;chr&gt; | X11 &lt;dbl&gt; | X12 &lt;dbl&gt; | X13 &lt;dbl&gt; | X14 &lt;dbl&gt; | X15 &lt;dbl&gt; | X16 &lt;dbl&gt; |\n",
       "|---|---|---|---|---|---|---|---|---|---|---|---|---|---|---|---|\n",
       "| chr10 |  89790000 |  90730000 | chr10 |  89790000 |  90730000 | . | . | . | . | 2552550 | 0.4873343 | 0.4321875 | 0.3910142 | 0.4366181 | 0.5132139 |\n",
       "| chr10 | 117485000 | 118260000 | chr10 | 117485000 | 118260000 | . | . | . | . | 2552550 | 0.4714600 | 0.4038806 | 0.4028087 | 0.4469099 | 0.4451019 |\n",
       "| chr10 |  51125000 |  52215000 | chr10 |  51125000 |  52215000 | . | . | . | . | 2552550 | 0.5757076 | 0.3855988 | 0.3954850 | 0.4712260 | 0.4000834 |\n",
       "| chr10 | 112495000 | 113565000 | chr10 | 112495000 | 113565000 | . | . | . | . | 2552550 | 0.6096007 | 0.3796908 | 0.3952655 | 0.5317584 | 0.4613188 |\n",
       "| chr10 |  84540000 |  86085000 | chr10 |  84540000 |  86085000 | . | . | . | . | 2552550 | 0.5786491 | 0.4119491 | 0.3597105 | 0.4424142 | 0.4804162 |\n",
       "| chr10 |  94665000 |  95075000 | chr10 |  94665000 |  95075000 | . | . | . | . | 2552550 | 0.6267519 | 0.3811024 | 0.3788707 | 0.5000000 | 0.4018583 |\n",
       "\n"
      ],
      "text/plain": [
       "  X1    X2        X3        X4    X5        X6        X7 X8 X9 X10 X11    \n",
       "1 chr10  89790000  90730000 chr10  89790000  90730000 .  .  .  .   2552550\n",
       "2 chr10 117485000 118260000 chr10 117485000 118260000 .  .  .  .   2552550\n",
       "3 chr10  51125000  52215000 chr10  51125000  52215000 .  .  .  .   2552550\n",
       "4 chr10 112495000 113565000 chr10 112495000 113565000 .  .  .  .   2552550\n",
       "5 chr10  84540000  86085000 chr10  84540000  86085000 .  .  .  .   2552550\n",
       "6 chr10  94665000  95075000 chr10  94665000  95075000 .  .  .  .   2552550\n",
       "  X12       X13       X14       X15       X16      \n",
       "1 0.4873343 0.4321875 0.3910142 0.4366181 0.5132139\n",
       "2 0.4714600 0.4038806 0.4028087 0.4469099 0.4451019\n",
       "3 0.5757076 0.3855988 0.3954850 0.4712260 0.4000834\n",
       "4 0.6096007 0.3796908 0.3952655 0.5317584 0.4613188\n",
       "5 0.5786491 0.4119491 0.3597105 0.4424142 0.4804162\n",
       "6 0.6267519 0.3811024 0.3788707 0.5000000 0.4018583"
      ]
     },
     "metadata": {},
     "output_type": "display_data"
    }
   ],
   "source": [
    "fdiry = file.path(FD_RES, \"source\", FOLDER)\n",
    "fname = \"K562.ENCSR479XDG.ENCFF126GED.contact_domains.bedpe.gz\"\n",
    "fpath = file.path(fdiry, fname)\n",
    "\n",
    "dat = read_tsv(fpath, col_names = FALSE, comment = \"#\")\n",
    "\n",
    "dat_hic_tad = dat\n",
    "print(dim(dat))\n",
    "head(dat)"
   ]
  },
  {
   "cell_type": "markdown",
   "metadata": {},
   "source": [
    "## explore"
   ]
  },
  {
   "cell_type": "markdown",
   "metadata": {},
   "source": [
    "**Loop distance and size**"
   ]
  },
  {
   "cell_type": "code",
   "execution_count": 6,
   "metadata": {},
   "outputs": [
    {
     "name": "stdout",
     "output_type": "stream",
     "text": [
      "[1] 46004    11\n"
     ]
    },
    {
     "data": {
      "text/html": [
       "<table class=\"dataframe\">\n",
       "<caption>A tibble: 6 × 11</caption>\n",
       "<thead>\n",
       "\t<tr><th scope=col>Chrom1</th><th scope=col>Start1</th><th scope=col>End1</th><th scope=col>Chrom2</th><th scope=col>Start2</th><th scope=col>End2</th><th scope=col>LoopA</th><th scope=col>LoopB</th><th scope=col>LengthA</th><th scope=col>LengthB</th><th scope=col>Distance</th></tr>\n",
       "\t<tr><th scope=col>&lt;chr&gt;</th><th scope=col>&lt;dbl&gt;</th><th scope=col>&lt;dbl&gt;</th><th scope=col>&lt;chr&gt;</th><th scope=col>&lt;dbl&gt;</th><th scope=col>&lt;dbl&gt;</th><th scope=col>&lt;chr&gt;</th><th scope=col>&lt;chr&gt;</th><th scope=col>&lt;dbl&gt;</th><th scope=col>&lt;dbl&gt;</th><th scope=col>&lt;dbl&gt;</th></tr>\n",
       "</thead>\n",
       "<tbody>\n",
       "\t<tr><td>chr10</td><td>102835000</td><td>102836000</td><td>chr10</td><td>102901000</td><td>102902000</td><td>chr10:102835000-102836000</td><td>chr10:102901000-102902000</td><td>1000</td><td>1000</td><td> 66000</td></tr>\n",
       "\t<tr><td>chr10</td><td>123583000</td><td>123584000</td><td>chr10</td><td>123967000</td><td>123968000</td><td>chr10:123583000-123584000</td><td>chr10:123967000-123968000</td><td>1000</td><td>1000</td><td>384000</td></tr>\n",
       "\t<tr><td>chr10</td><td> 60780000</td><td> 60782000</td><td>chr10</td><td> 60828000</td><td> 60830000</td><td>chr10:60780000-60782000  </td><td>chr10:60828000-60830000  </td><td>2000</td><td>2000</td><td> 48000</td></tr>\n",
       "\t<tr><td>chr10</td><td> 33050000</td><td> 33051000</td><td>chr10</td><td> 33067000</td><td> 33068000</td><td>chr10:33050000-33051000  </td><td>chr10:33067000-33068000  </td><td>1000</td><td>1000</td><td> 17000</td></tr>\n",
       "\t<tr><td>chr10</td><td> 11412000</td><td> 11414000</td><td>chr10</td><td> 11472000</td><td> 11474000</td><td>chr10:11412000-11414000  </td><td>chr10:11472000-11474000  </td><td>2000</td><td>2000</td><td> 60000</td></tr>\n",
       "\t<tr><td>chr10</td><td> 45005000</td><td> 45010000</td><td>chr10</td><td> 45465000</td><td> 45470000</td><td>chr10:45005000-45010000  </td><td>chr10:45465000-45470000  </td><td>5000</td><td>5000</td><td>460000</td></tr>\n",
       "</tbody>\n",
       "</table>\n"
      ],
      "text/latex": [
       "A tibble: 6 × 11\n",
       "\\begin{tabular}{lllllllllll}\n",
       " Chrom1 & Start1 & End1 & Chrom2 & Start2 & End2 & LoopA & LoopB & LengthA & LengthB & Distance\\\\\n",
       " <chr> & <dbl> & <dbl> & <chr> & <dbl> & <dbl> & <chr> & <chr> & <dbl> & <dbl> & <dbl>\\\\\n",
       "\\hline\n",
       "\t chr10 & 102835000 & 102836000 & chr10 & 102901000 & 102902000 & chr10:102835000-102836000 & chr10:102901000-102902000 & 1000 & 1000 &  66000\\\\\n",
       "\t chr10 & 123583000 & 123584000 & chr10 & 123967000 & 123968000 & chr10:123583000-123584000 & chr10:123967000-123968000 & 1000 & 1000 & 384000\\\\\n",
       "\t chr10 &  60780000 &  60782000 & chr10 &  60828000 &  60830000 & chr10:60780000-60782000   & chr10:60828000-60830000   & 2000 & 2000 &  48000\\\\\n",
       "\t chr10 &  33050000 &  33051000 & chr10 &  33067000 &  33068000 & chr10:33050000-33051000   & chr10:33067000-33068000   & 1000 & 1000 &  17000\\\\\n",
       "\t chr10 &  11412000 &  11414000 & chr10 &  11472000 &  11474000 & chr10:11412000-11414000   & chr10:11472000-11474000   & 2000 & 2000 &  60000\\\\\n",
       "\t chr10 &  45005000 &  45010000 & chr10 &  45465000 &  45470000 & chr10:45005000-45010000   & chr10:45465000-45470000   & 5000 & 5000 & 460000\\\\\n",
       "\\end{tabular}\n"
      ],
      "text/markdown": [
       "\n",
       "A tibble: 6 × 11\n",
       "\n",
       "| Chrom1 &lt;chr&gt; | Start1 &lt;dbl&gt; | End1 &lt;dbl&gt; | Chrom2 &lt;chr&gt; | Start2 &lt;dbl&gt; | End2 &lt;dbl&gt; | LoopA &lt;chr&gt; | LoopB &lt;chr&gt; | LengthA &lt;dbl&gt; | LengthB &lt;dbl&gt; | Distance &lt;dbl&gt; |\n",
       "|---|---|---|---|---|---|---|---|---|---|---|\n",
       "| chr10 | 102835000 | 102836000 | chr10 | 102901000 | 102902000 | chr10:102835000-102836000 | chr10:102901000-102902000 | 1000 | 1000 |  66000 |\n",
       "| chr10 | 123583000 | 123584000 | chr10 | 123967000 | 123968000 | chr10:123583000-123584000 | chr10:123967000-123968000 | 1000 | 1000 | 384000 |\n",
       "| chr10 |  60780000 |  60782000 | chr10 |  60828000 |  60830000 | chr10:60780000-60782000   | chr10:60828000-60830000   | 2000 | 2000 |  48000 |\n",
       "| chr10 |  33050000 |  33051000 | chr10 |  33067000 |  33068000 | chr10:33050000-33051000   | chr10:33067000-33068000   | 1000 | 1000 |  17000 |\n",
       "| chr10 |  11412000 |  11414000 | chr10 |  11472000 |  11474000 | chr10:11412000-11414000   | chr10:11472000-11474000   | 2000 | 2000 |  60000 |\n",
       "| chr10 |  45005000 |  45010000 | chr10 |  45465000 |  45470000 | chr10:45005000-45010000   | chr10:45465000-45470000   | 5000 | 5000 | 460000 |\n",
       "\n"
      ],
      "text/plain": [
       "  Chrom1 Start1    End1      Chrom2 Start2    End2     \n",
       "1 chr10  102835000 102836000 chr10  102901000 102902000\n",
       "2 chr10  123583000 123584000 chr10  123967000 123968000\n",
       "3 chr10   60780000  60782000 chr10   60828000  60830000\n",
       "4 chr10   33050000  33051000 chr10   33067000  33068000\n",
       "5 chr10   11412000  11414000 chr10   11472000  11474000\n",
       "6 chr10   45005000  45010000 chr10   45465000  45470000\n",
       "  LoopA                     LoopB                     LengthA LengthB Distance\n",
       "1 chr10:102835000-102836000 chr10:102901000-102902000 1000    1000     66000  \n",
       "2 chr10:123583000-123584000 chr10:123967000-123968000 1000    1000    384000  \n",
       "3 chr10:60780000-60782000   chr10:60828000-60830000   2000    2000     48000  \n",
       "4 chr10:33050000-33051000   chr10:33067000-33068000   1000    1000     17000  \n",
       "5 chr10:11412000-11414000   chr10:11472000-11474000   2000    2000     60000  \n",
       "6 chr10:45005000-45010000   chr10:45465000-45470000   5000    5000    460000  "
      ]
     },
     "metadata": {},
     "output_type": "display_data"
    }
   ],
   "source": [
    "dat = dat_hic_loop\n",
    "dat = dat[,1:6]\n",
    "\n",
    "cnames = c(\"Chrom1\", \"Start1\", \"End1\", \"Chrom2\", \"Start2\", \"End2\")\n",
    "colnames(dat) = cnames\n",
    "\n",
    "dat = dat %>%\n",
    "    dplyr::mutate(\n",
    "        LoopA = paste0(Chrom1, \":\", Start1, \"-\", End1),\n",
    "        LoopB = paste0(Chrom2, \":\", Start2, \"-\", End2),\n",
    "        LengthA  = End1 - Start1,\n",
    "        LengthB  = End2 - Start2,\n",
    "        Distance = abs((Start1 + End1) / 2 - (Start2 + End2) / 2)\n",
    "    ) \n",
    "\n",
    "dat_hic_loop_info = dat\n",
    "print(dim(dat))\n",
    "head(dat)"
   ]
  },
  {
   "cell_type": "markdown",
   "metadata": {},
   "source": [
    "**Size = 1kb-10kb**"
   ]
  },
  {
   "cell_type": "code",
   "execution_count": 7,
   "metadata": {},
   "outputs": [
    {
     "data": {
      "text/plain": [
       "       \n",
       "         1000  2000  5000 10000\n",
       "  1000  14686     0     0     0\n",
       "  2000      0 10059     0     0\n",
       "  5000      0     0 13906     0\n",
       "  10000     0     0     0  7353"
      ]
     },
     "metadata": {},
     "output_type": "display_data"
    }
   ],
   "source": [
    "table(dat$LengthA, dat$LengthB)"
   ]
  },
  {
   "cell_type": "code",
   "execution_count": 8,
   "metadata": {},
   "outputs": [
    {
     "data": {
      "text/plain": [
       "\n",
       " 1000  2000  5000 10000 \n",
       "14686 10059 13906  7353 "
      ]
     },
     "metadata": {},
     "output_type": "display_data"
    }
   ],
   "source": [
    "table(dat$LengthA)"
   ]
  },
  {
   "cell_type": "code",
   "execution_count": 10,
   "metadata": {},
   "outputs": [
    {
     "data": {
      "text/plain": [
       "       \n",
       "        chr1 chr10 chr11 chr12 chr13 chr14 chr15 chr16 chr17 chr18 chr19 chr2\n",
       "  chr1  5380     0     0     0     0     0     0     0     0     0     0    0\n",
       "  chr10    0  1975     0     0     0     0     0     0     0     0     0    0\n",
       "  chr11    0     0  2537     0     0     0     0     0     0     0     0    0\n",
       "  chr12    0     0     0  2246     0     0     0     0     0     0     0    0\n",
       "  chr13    0     0     0     0   771     0     0     0     0     0     0    0\n",
       "  chr14    0     0     0     0     0  1138     0     0     0     0     0    0\n",
       "  chr15    0     0     0     0     0     0  1407     0     0     0     0    0\n",
       "  chr16    0     0     0     0     0     0     0  1173     0     0     0    0\n",
       "  chr17    0     0     0     0     0     0     0     0  1574     0     0    0\n",
       "  chr18    0     0     0     0     0     0     0     0     0   843     0    0\n",
       "  chr19    0     0     0     0     0     0     0     0     0     0  1255    0\n",
       "  chr2     0     0     0     0     0     0     0     0     0     0     0 3706\n",
       "  chr20    0     0     0     0     0     0     0     0     0     0     0    0\n",
       "  chr21    0     0     0     0     0     0     0     0     0     0     0    0\n",
       "  chr22    0     0     0     0     0     0     0     0     0     0     0    0\n",
       "  chr3     0     0     0     0     0     0     0     0     0     0     0    0\n",
       "  chr4     0     0     0     0     0     0     0     0     0     0     0    0\n",
       "  chr5     0     0     0     0     0     0     0     0     0     0     0    0\n",
       "  chr6     0     0     0     0     0     0     0     0     0     0     0    0\n",
       "  chr7     0     0     0     0     0     0     0     0     0     0     0    0\n",
       "  chr8     0     0     0     0     0     0     0     0     0     0     0    0\n",
       "  chr9     0     0     0     0     0     0     0     0     0     0     0    0\n",
       "  chrX     0     0     0     0     0     0     0     0     0     0     0    0\n",
       "       \n",
       "        chr20 chr21 chr22 chr3 chr4 chr5 chr6 chr7 chr8 chr9 chrX\n",
       "  chr1      0     0     0    0    0    0    0    0    0    0    0\n",
       "  chr10     0     0     0    0    0    0    0    0    0    0    0\n",
       "  chr11     0     0     0    0    0    0    0    0    0    0    0\n",
       "  chr12     0     0     0    0    0    0    0    0    0    0    0\n",
       "  chr13     0     0     0    0    0    0    0    0    0    0    0\n",
       "  chr14     0     0     0    0    0    0    0    0    0    0    0\n",
       "  chr15     0     0     0    0    0    0    0    0    0    0    0\n",
       "  chr16     0     0     0    0    0    0    0    0    0    0    0\n",
       "  chr17     0     0     0    0    0    0    0    0    0    0    0\n",
       "  chr18     0     0     0    0    0    0    0    0    0    0    0\n",
       "  chr19     0     0     0    0    0    0    0    0    0    0    0\n",
       "  chr2      0     0     0    0    0    0    0    0    0    0    0\n",
       "  chr20   978     0     0    0    0    0    0    0    0    0    0\n",
       "  chr21     0   482     0    0    0    0    0    0    0    0    0\n",
       "  chr22     0     0   807    0    0    0    0    0    0    0    0\n",
       "  chr3      0     0     0 3054    0    0    0    0    0    0    0\n",
       "  chr4      0     0     0    0 2292    0    0    0    0    0    0\n",
       "  chr5      0     0     0    0    0 2572    0    0    0    0    0\n",
       "  chr6      0     0     0    0    0    0 3643    0    0    0    0\n",
       "  chr7      0     0     0    0    0    0    0 2978    0    0    0\n",
       "  chr8      0     0     0    0    0    0    0    0 2179    0    0\n",
       "  chr9      0     0     0    0    0    0    0    0    0 1703    0\n",
       "  chrX      0     0     0    0    0    0    0    0    0    0 1311"
      ]
     },
     "metadata": {},
     "output_type": "display_data"
    }
   ],
   "source": [
    "table(dat$Chrom1, dat$Chrom2)"
   ]
  },
  {
   "cell_type": "markdown",
   "metadata": {},
   "source": [
    "**Distance: 8kb-9Mb, Median = 150kb**"
   ]
  },
  {
   "cell_type": "code",
   "execution_count": 11,
   "metadata": {},
   "outputs": [
    {
     "data": {
      "text/plain": [
       "   Min. 1st Qu.  Median    Mean 3rd Qu.    Max. \n",
       "   8000   65000  148000  276807  319250 9090000 "
      ]
     },
     "metadata": {},
     "output_type": "display_data"
    }
   ],
   "source": [
    "summary(dat$Distance)"
   ]
  },
  {
   "cell_type": "code",
   "execution_count": 12,
   "metadata": {},
   "outputs": [
    {
     "data": {
      "text/plain": [
       "   Min. 1st Qu.  Median    Mean 3rd Qu.    Max. \n",
       "    8.0    65.0   148.0   276.8   319.2  9090.0 "
      ]
     },
     "metadata": {},
     "output_type": "display_data"
    }
   ],
   "source": [
    "summary(dat$Distance)/1000"
   ]
  },
  {
   "cell_type": "code",
   "execution_count": 13,
   "metadata": {},
   "outputs": [
    {
     "data": {
      "image/png": "[encoded data removed]",
      "text/plain": [
       "plot without title"
      ]
     },
     "metadata": {
      "image/png": {
       "height": 300,
       "width": 600
      }
     },
     "output_type": "display_data"
    }
   ],
   "source": [
    "options(repr.plot.height = 5, repr.plot.width = 10)\n",
    "ggplot(dat, aes(x=Distance / 1000)) + \n",
    "    geom_histogram(bins = 50) + \n",
    "    labs(x=\"Loop Distance (Kb)\", y=\"Count\") +\n",
    "    theme_bw()"
   ]
  },
  {
   "cell_type": "markdown",
   "metadata": {},
   "source": [
    "## Save results"
   ]
  },
  {
   "cell_type": "code",
   "execution_count": 14,
   "metadata": {},
   "outputs": [
    {
     "data": {
      "text/html": [
       "<table class=\"dataframe\">\n",
       "<caption>A tibble: 6 × 11</caption>\n",
       "<thead>\n",
       "\t<tr><th scope=col>Chrom1</th><th scope=col>Start1</th><th scope=col>End1</th><th scope=col>Chrom2</th><th scope=col>Start2</th><th scope=col>End2</th><th scope=col>LoopA</th><th scope=col>LoopB</th><th scope=col>LengthA</th><th scope=col>LengthB</th><th scope=col>Distance</th></tr>\n",
       "\t<tr><th scope=col>&lt;chr&gt;</th><th scope=col>&lt;dbl&gt;</th><th scope=col>&lt;dbl&gt;</th><th scope=col>&lt;chr&gt;</th><th scope=col>&lt;dbl&gt;</th><th scope=col>&lt;dbl&gt;</th><th scope=col>&lt;chr&gt;</th><th scope=col>&lt;chr&gt;</th><th scope=col>&lt;dbl&gt;</th><th scope=col>&lt;dbl&gt;</th><th scope=col>&lt;dbl&gt;</th></tr>\n",
       "</thead>\n",
       "<tbody>\n",
       "\t<tr><td>chr10</td><td>102835000</td><td>102836000</td><td>chr10</td><td>102901000</td><td>102902000</td><td>chr10:102835000-102836000</td><td>chr10:102901000-102902000</td><td>1000</td><td>1000</td><td> 66000</td></tr>\n",
       "\t<tr><td>chr10</td><td>123583000</td><td>123584000</td><td>chr10</td><td>123967000</td><td>123968000</td><td>chr10:123583000-123584000</td><td>chr10:123967000-123968000</td><td>1000</td><td>1000</td><td>384000</td></tr>\n",
       "\t<tr><td>chr10</td><td> 60780000</td><td> 60782000</td><td>chr10</td><td> 60828000</td><td> 60830000</td><td>chr10:60780000-60782000  </td><td>chr10:60828000-60830000  </td><td>2000</td><td>2000</td><td> 48000</td></tr>\n",
       "\t<tr><td>chr10</td><td> 33050000</td><td> 33051000</td><td>chr10</td><td> 33067000</td><td> 33068000</td><td>chr10:33050000-33051000  </td><td>chr10:33067000-33068000  </td><td>1000</td><td>1000</td><td> 17000</td></tr>\n",
       "\t<tr><td>chr10</td><td> 11412000</td><td> 11414000</td><td>chr10</td><td> 11472000</td><td> 11474000</td><td>chr10:11412000-11414000  </td><td>chr10:11472000-11474000  </td><td>2000</td><td>2000</td><td> 60000</td></tr>\n",
       "\t<tr><td>chr10</td><td> 45005000</td><td> 45010000</td><td>chr10</td><td> 45465000</td><td> 45470000</td><td>chr10:45005000-45010000  </td><td>chr10:45465000-45470000  </td><td>5000</td><td>5000</td><td>460000</td></tr>\n",
       "</tbody>\n",
       "</table>\n"
      ],
      "text/latex": [
       "A tibble: 6 × 11\n",
       "\\begin{tabular}{lllllllllll}\n",
       " Chrom1 & Start1 & End1 & Chrom2 & Start2 & End2 & LoopA & LoopB & LengthA & LengthB & Distance\\\\\n",
       " <chr> & <dbl> & <dbl> & <chr> & <dbl> & <dbl> & <chr> & <chr> & <dbl> & <dbl> & <dbl>\\\\\n",
       "\\hline\n",
       "\t chr10 & 102835000 & 102836000 & chr10 & 102901000 & 102902000 & chr10:102835000-102836000 & chr10:102901000-102902000 & 1000 & 1000 &  66000\\\\\n",
       "\t chr10 & 123583000 & 123584000 & chr10 & 123967000 & 123968000 & chr10:123583000-123584000 & chr10:123967000-123968000 & 1000 & 1000 & 384000\\\\\n",
       "\t chr10 &  60780000 &  60782000 & chr10 &  60828000 &  60830000 & chr10:60780000-60782000   & chr10:60828000-60830000   & 2000 & 2000 &  48000\\\\\n",
       "\t chr10 &  33050000 &  33051000 & chr10 &  33067000 &  33068000 & chr10:33050000-33051000   & chr10:33067000-33068000   & 1000 & 1000 &  17000\\\\\n",
       "\t chr10 &  11412000 &  11414000 & chr10 &  11472000 &  11474000 & chr10:11412000-11414000   & chr10:11472000-11474000   & 2000 & 2000 &  60000\\\\\n",
       "\t chr10 &  45005000 &  45010000 & chr10 &  45465000 &  45470000 & chr10:45005000-45010000   & chr10:45465000-45470000   & 5000 & 5000 & 460000\\\\\n",
       "\\end{tabular}\n"
      ],
      "text/markdown": [
       "\n",
       "A tibble: 6 × 11\n",
       "\n",
       "| Chrom1 &lt;chr&gt; | Start1 &lt;dbl&gt; | End1 &lt;dbl&gt; | Chrom2 &lt;chr&gt; | Start2 &lt;dbl&gt; | End2 &lt;dbl&gt; | LoopA &lt;chr&gt; | LoopB &lt;chr&gt; | LengthA &lt;dbl&gt; | LengthB &lt;dbl&gt; | Distance &lt;dbl&gt; |\n",
       "|---|---|---|---|---|---|---|---|---|---|---|\n",
       "| chr10 | 102835000 | 102836000 | chr10 | 102901000 | 102902000 | chr10:102835000-102836000 | chr10:102901000-102902000 | 1000 | 1000 |  66000 |\n",
       "| chr10 | 123583000 | 123584000 | chr10 | 123967000 | 123968000 | chr10:123583000-123584000 | chr10:123967000-123968000 | 1000 | 1000 | 384000 |\n",
       "| chr10 |  60780000 |  60782000 | chr10 |  60828000 |  60830000 | chr10:60780000-60782000   | chr10:60828000-60830000   | 2000 | 2000 |  48000 |\n",
       "| chr10 |  33050000 |  33051000 | chr10 |  33067000 |  33068000 | chr10:33050000-33051000   | chr10:33067000-33068000   | 1000 | 1000 |  17000 |\n",
       "| chr10 |  11412000 |  11414000 | chr10 |  11472000 |  11474000 | chr10:11412000-11414000   | chr10:11472000-11474000   | 2000 | 2000 |  60000 |\n",
       "| chr10 |  45005000 |  45010000 | chr10 |  45465000 |  45470000 | chr10:45005000-45010000   | chr10:45465000-45470000   | 5000 | 5000 | 460000 |\n",
       "\n"
      ],
      "text/plain": [
       "  Chrom1 Start1    End1      Chrom2 Start2    End2     \n",
       "1 chr10  102835000 102836000 chr10  102901000 102902000\n",
       "2 chr10  123583000 123584000 chr10  123967000 123968000\n",
       "3 chr10   60780000  60782000 chr10   60828000  60830000\n",
       "4 chr10   33050000  33051000 chr10   33067000  33068000\n",
       "5 chr10   11412000  11414000 chr10   11472000  11474000\n",
       "6 chr10   45005000  45010000 chr10   45465000  45470000\n",
       "  LoopA                     LoopB                     LengthA LengthB Distance\n",
       "1 chr10:102835000-102836000 chr10:102901000-102902000 1000    1000     66000  \n",
       "2 chr10:123583000-123584000 chr10:123967000-123968000 1000    1000    384000  \n",
       "3 chr10:60780000-60782000   chr10:60828000-60830000   2000    2000     48000  \n",
       "4 chr10:33050000-33051000   chr10:33067000-33068000   1000    1000     17000  \n",
       "5 chr10:11412000-11414000   chr10:11472000-11474000   2000    2000     60000  \n",
       "6 chr10:45005000-45010000   chr10:45465000-45470000   5000    5000    460000  "
      ]
     },
     "metadata": {},
     "output_type": "display_data"
    }
   ],
   "source": [
    "dat = dat_hic_loop_info\n",
    "head(dat)"
   ]
  },
  {
   "cell_type": "code",
   "execution_count": 15,
   "metadata": {},
   "outputs": [],
   "source": [
    "dat_loop_A = dat_hic_loop_info %>% dplyr::select(Chrom1, Start1, End1) %>% dplyr::arrange(Chrom1, Start1, End1)\n",
    "dat_loop_B = dat_hic_loop_info %>% dplyr::select(Chrom2, Start2, End2) %>% dplyr::arrange(Chrom2, Start2, End2)"
   ]
  },
  {
   "cell_type": "code",
   "execution_count": 16,
   "metadata": {},
   "outputs": [
    {
     "data": {
      "text/html": [
       "<table class=\"dataframe\">\n",
       "<caption>A tibble: 6 × 3</caption>\n",
       "<thead>\n",
       "\t<tr><th scope=col>Chrom1</th><th scope=col>Start1</th><th scope=col>End1</th></tr>\n",
       "\t<tr><th scope=col>&lt;chr&gt;</th><th scope=col>&lt;dbl&gt;</th><th scope=col>&lt;dbl&gt;</th></tr>\n",
       "</thead>\n",
       "<tbody>\n",
       "\t<tr><td>chr1</td><td> 770000</td><td> 780000</td></tr>\n",
       "\t<tr><td>chr1</td><td> 904000</td><td> 906000</td></tr>\n",
       "\t<tr><td>chr1</td><td> 920000</td><td> 925000</td></tr>\n",
       "\t<tr><td>chr1</td><td> 980000</td><td> 990000</td></tr>\n",
       "\t<tr><td>chr1</td><td> 984000</td><td> 985000</td></tr>\n",
       "\t<tr><td>chr1</td><td>1000000</td><td>1005000</td></tr>\n",
       "</tbody>\n",
       "</table>\n"
      ],
      "text/latex": [
       "A tibble: 6 × 3\n",
       "\\begin{tabular}{lll}\n",
       " Chrom1 & Start1 & End1\\\\\n",
       " <chr> & <dbl> & <dbl>\\\\\n",
       "\\hline\n",
       "\t chr1 &  770000 &  780000\\\\\n",
       "\t chr1 &  904000 &  906000\\\\\n",
       "\t chr1 &  920000 &  925000\\\\\n",
       "\t chr1 &  980000 &  990000\\\\\n",
       "\t chr1 &  984000 &  985000\\\\\n",
       "\t chr1 & 1000000 & 1005000\\\\\n",
       "\\end{tabular}\n"
      ],
      "text/markdown": [
       "\n",
       "A tibble: 6 × 3\n",
       "\n",
       "| Chrom1 &lt;chr&gt; | Start1 &lt;dbl&gt; | End1 &lt;dbl&gt; |\n",
       "|---|---|---|\n",
       "| chr1 |  770000 |  780000 |\n",
       "| chr1 |  904000 |  906000 |\n",
       "| chr1 |  920000 |  925000 |\n",
       "| chr1 |  980000 |  990000 |\n",
       "| chr1 |  984000 |  985000 |\n",
       "| chr1 | 1000000 | 1005000 |\n",
       "\n"
      ],
      "text/plain": [
       "  Chrom1 Start1  End1   \n",
       "1 chr1    770000  780000\n",
       "2 chr1    904000  906000\n",
       "3 chr1    920000  925000\n",
       "4 chr1    980000  990000\n",
       "5 chr1    984000  985000\n",
       "6 chr1   1000000 1005000"
      ]
     },
     "metadata": {},
     "output_type": "display_data"
    }
   ],
   "source": [
    "head(dat_loop_A)"
   ]
  },
  {
   "cell_type": "code",
   "execution_count": 17,
   "metadata": {},
   "outputs": [
    {
     "data": {
      "text/html": [
       "<table class=\"dataframe\">\n",
       "<caption>A tibble: 6 × 3</caption>\n",
       "<thead>\n",
       "\t<tr><th scope=col>Chrom2</th><th scope=col>Start2</th><th scope=col>End2</th></tr>\n",
       "\t<tr><th scope=col>&lt;chr&gt;</th><th scope=col>&lt;dbl&gt;</th><th scope=col>&lt;dbl&gt;</th></tr>\n",
       "</thead>\n",
       "<tbody>\n",
       "\t<tr><td>chr1</td><td> 840000</td><td> 850000</td></tr>\n",
       "\t<tr><td>chr1</td><td> 976000</td><td> 978000</td></tr>\n",
       "\t<tr><td>chr1</td><td>1060000</td><td>1065000</td></tr>\n",
       "\t<tr><td>chr1</td><td>1060000</td><td>1065000</td></tr>\n",
       "\t<tr><td>chr1</td><td>1060000</td><td>1065000</td></tr>\n",
       "\t<tr><td>chr1</td><td>1062000</td><td>1063000</td></tr>\n",
       "</tbody>\n",
       "</table>\n"
      ],
      "text/latex": [
       "A tibble: 6 × 3\n",
       "\\begin{tabular}{lll}\n",
       " Chrom2 & Start2 & End2\\\\\n",
       " <chr> & <dbl> & <dbl>\\\\\n",
       "\\hline\n",
       "\t chr1 &  840000 &  850000\\\\\n",
       "\t chr1 &  976000 &  978000\\\\\n",
       "\t chr1 & 1060000 & 1065000\\\\\n",
       "\t chr1 & 1060000 & 1065000\\\\\n",
       "\t chr1 & 1060000 & 1065000\\\\\n",
       "\t chr1 & 1062000 & 1063000\\\\\n",
       "\\end{tabular}\n"
      ],
      "text/markdown": [
       "\n",
       "A tibble: 6 × 3\n",
       "\n",
       "| Chrom2 &lt;chr&gt; | Start2 &lt;dbl&gt; | End2 &lt;dbl&gt; |\n",
       "|---|---|---|\n",
       "| chr1 |  840000 |  850000 |\n",
       "| chr1 |  976000 |  978000 |\n",
       "| chr1 | 1060000 | 1065000 |\n",
       "| chr1 | 1060000 | 1065000 |\n",
       "| chr1 | 1060000 | 1065000 |\n",
       "| chr1 | 1062000 | 1063000 |\n",
       "\n"
      ],
      "text/plain": [
       "  Chrom2 Start2  End2   \n",
       "1 chr1    840000  850000\n",
       "2 chr1    976000  978000\n",
       "3 chr1   1060000 1065000\n",
       "4 chr1   1060000 1065000\n",
       "5 chr1   1060000 1065000\n",
       "6 chr1   1062000 1063000"
      ]
     },
     "metadata": {},
     "output_type": "display_data"
    }
   ],
   "source": [
    "head(dat_loop_B)"
   ]
  },
  {
   "cell_type": "code",
   "execution_count": 18,
   "metadata": {},
   "outputs": [
    {
     "data": {
      "text/html": [
       "<style>\n",
       ".list-inline {list-style: none; margin:0; padding: 0}\n",
       ".list-inline>li {display: inline-block}\n",
       ".list-inline>li:not(:last-child)::after {content: \"\\00b7\"; padding: 0 .5ex}\n",
       "</style>\n",
       "<ol class=list-inline><li>'contact_domains'</li><li>'loop'</li><li>'tmp'</li></ol>\n"
      ],
      "text/latex": [
       "\\begin{enumerate*}\n",
       "\\item 'contact\\_domains'\n",
       "\\item 'loop'\n",
       "\\item 'tmp'\n",
       "\\end{enumerate*}\n"
      ],
      "text/markdown": [
       "1. 'contact_domains'\n",
       "2. 'loop'\n",
       "3. 'tmp'\n",
       "\n",
       "\n"
      ],
      "text/plain": [
       "[1] \"contact_domains\" \"loop\"            \"tmp\"            "
      ]
     },
     "metadata": {},
     "output_type": "display_data"
    }
   ],
   "source": [
    "fdiry = file.path(FD_RES, \"results\", \"region\", \"hic_intact_ENCSR479XDG\")\n",
    "dir(fdiry)"
   ]
  },
  {
   "cell_type": "code",
   "execution_count": 19,
   "metadata": {},
   "outputs": [],
   "source": [
    "fdiry = file.path(FD_RES, \"results\", \"region\", \"hic_intact_ENCSR479XDG\", \"loop\")\n",
    "fname = \"loopA.bed.gz\"\n",
    "fpath = file.path(fdiry, fname)\n",
    "\n",
    "dat = dat_loop_A\n",
    "write_tsv(dat, fpath, col_names = FALSE)"
   ]
  },
  {
   "cell_type": "code",
   "execution_count": 20,
   "metadata": {},
   "outputs": [],
   "source": [
    "fdiry = file.path(FD_RES, \"results\", \"region\", \"hic_intact_ENCSR479XDG\", \"loop\")\n",
    "fname = \"loopB.bed.gz\"\n",
    "fpath = file.path(fdiry, fname)\n",
    "\n",
    "dat = dat_loop_B\n",
    "write_tsv(dat, fpath, col_names = FALSE)"
   ]
  },
  {
   "cell_type": "code",
   "execution_count": 21,
   "metadata": {},
   "outputs": [],
   "source": [
    "fdiry = file.path(FD_RES, \"results\", \"region\", \"hic_intact_ENCSR479XDG\", \"loop\")\n",
    "fname = \"loop.tsv\"\n",
    "fpath = file.path(fdiry, fname)\n",
    "\n",
    "dat = dat_hic_loop_info\n",
    "write_tsv(dat, fpath)"
   ]
  },
  {
   "cell_type": "code",
   "execution_count": null,
   "metadata": {},
   "outputs": [],
   "source": []
  }
 ],
 "metadata": {
  "kernelspec": {
   "display_name": "R",
   "language": "R",
   "name": "ir"
  },
  "language_info": {
   "codemirror_mode": "r",
   "file_extension": ".r",
   "mimetype": "text/x-r-source",
   "name": "R",
   "pygments_lexer": "r",
   "version": "4.3.0"
  }
 },
 "nbformat": 4,
 "nbformat_minor": 4
}
