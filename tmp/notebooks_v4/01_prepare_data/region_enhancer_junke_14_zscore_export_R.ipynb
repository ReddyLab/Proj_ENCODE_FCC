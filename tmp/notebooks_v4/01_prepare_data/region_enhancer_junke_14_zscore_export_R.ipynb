{
 "cells": [
  {
   "cell_type": "markdown",
   "metadata": {},
   "source": [
    "**Set environment**"
   ]
  },
  {
   "cell_type": "code",
   "execution_count": 1,
   "metadata": {},
   "outputs": [
    {
     "name": "stdout",
     "output_type": "stream",
     "text": [
      "You are in Singularity: singularity_proj_encode_fcc \n",
      "BASE DIRECTORY (FD_BASE): /data/reddylab/Kuei \n",
      "WORK DIRECTORY (FD_WORK): /data/reddylab/Kuei/out \n",
      "CODE DIRECTORY (FD_CODE): /data/reddylab/Kuei/code \n",
      "PATH OF PROJECT (FD_PRJ): /data/reddylab/Kuei/code/Proj_CombEffect_ENCODE_FCC \n",
      "PATH OF RESULTS (FD_RES): /data/reddylab/Kuei/out/proj_combeffect_encode_fcc \n",
      "PATH OF LOG     (FD_LOG): /data/reddylab/Kuei/out/proj_combeffect_encode_fcc/log \n"
     ]
    }
   ],
   "source": [
    "suppressWarnings(suppressMessages(source(\"../config/config_sing.R\")))\n",
    "show_env()"
   ]
  },
  {
   "cell_type": "markdown",
   "metadata": {},
   "source": [
    "**Check data files**"
   ]
  },
  {
   "cell_type": "code",
   "execution_count": 2,
   "metadata": {},
   "outputs": [
    {
     "name": "stdout",
     "output_type": "stream",
     "text": [
      "deep_ATAC_STARR_seq.genomic_bin_100_sliding_10 \n",
      "deep_ATAC_STARR_seq.genomic_bin_100_sliding_10.tar.gz \n",
      "Enhancer call file format documentation.docx \n",
      "lentiMPRA \n",
      "lentiMPRA.tar.gz \n",
      "Note.md \n",
      "Readme.md \n",
      "tilingMPRA_MYC_GATA \n",
      "tilingMPRA_MYC_GATA.tar.gz \n",
      "tilingMPRA_OL13 \n",
      "tilingMPRA_OL13.tar.gz \n",
      "tilingMPRA_OL45 \n",
      "tilingMPRA_OL45.tar.gz \n",
      "WHG_STARR_TR \n",
      "WHG_STARR_TR.tar.gz \n",
      "zold_MPRA \n"
     ]
    }
   ],
   "source": [
    "fdiry = file.path(\n",
    "    FD_RES,\n",
    "    \"source\",\n",
    "    \"annotation_enhancer_junke_zscore\")\n",
    "    #\"annotation_enhancer_junke_zscore_230420\")\n",
    "for (x in dir(fdiry)){cat(x, \"\\n\")}"
   ]
  },
  {
   "cell_type": "code",
   "execution_count": 3,
   "metadata": {},
   "outputs": [
    {
     "data": {
      "text/html": [
       "<style>\n",
       ".list-inline {list-style: none; margin:0; padding: 0}\n",
       ".list-inline>li {display: inline-block}\n",
       ".list-inline>li:not(:last-child)::after {content: \"\\00b7\"; padding: 0 .5ex}\n",
       "</style>\n",
       "<ol class=list-inline><li>'/data/reddylab/Kuei/out/proj_combeffect_encode_fcc/source/annotation_enhancer_junke_zscore/deep_ATAC_STARR_seq.genomic_bin_100_sliding_10/ATAC_STARR_seq/merged_peak/merged_enhancer_peak_orientation_independent.bed.gz'</li><li>'/data/reddylab/Kuei/out/proj_combeffect_encode_fcc/source/annotation_enhancer_junke_zscore/lentiMPRA/lentiMPRA/merged_peak/merged_enhancer_peak_orientation_independent.bed.gz'</li><li>'/data/reddylab/Kuei/out/proj_combeffect_encode_fcc/source/annotation_enhancer_junke_zscore/WHG_STARR_TR/WHG_STARR_TR/merged_peak/merged_enhancer_peak_orientation_independent.bed.gz'</li></ol>\n"
      ],
      "text/latex": [
       "\\begin{enumerate*}\n",
       "\\item '/data/reddylab/Kuei/out/proj\\_combeffect\\_encode\\_fcc/source/annotation\\_enhancer\\_junke\\_zscore/deep\\_ATAC\\_STARR\\_seq.genomic\\_bin\\_100\\_sliding\\_10/ATAC\\_STARR\\_seq/merged\\_peak/merged\\_enhancer\\_peak\\_orientation\\_independent.bed.gz'\n",
       "\\item '/data/reddylab/Kuei/out/proj\\_combeffect\\_encode\\_fcc/source/annotation\\_enhancer\\_junke\\_zscore/lentiMPRA/lentiMPRA/merged\\_peak/merged\\_enhancer\\_peak\\_orientation\\_independent.bed.gz'\n",
       "\\item '/data/reddylab/Kuei/out/proj\\_combeffect\\_encode\\_fcc/source/annotation\\_enhancer\\_junke\\_zscore/WHG\\_STARR\\_TR/WHG\\_STARR\\_TR/merged\\_peak/merged\\_enhancer\\_peak\\_orientation\\_independent.bed.gz'\n",
       "\\end{enumerate*}\n"
      ],
      "text/markdown": [
       "1. '/data/reddylab/Kuei/out/proj_combeffect_encode_fcc/source/annotation_enhancer_junke_zscore/deep_ATAC_STARR_seq.genomic_bin_100_sliding_10/ATAC_STARR_seq/merged_peak/merged_enhancer_peak_orientation_independent.bed.gz'\n",
       "2. '/data/reddylab/Kuei/out/proj_combeffect_encode_fcc/source/annotation_enhancer_junke_zscore/lentiMPRA/lentiMPRA/merged_peak/merged_enhancer_peak_orientation_independent.bed.gz'\n",
       "3. '/data/reddylab/Kuei/out/proj_combeffect_encode_fcc/source/annotation_enhancer_junke_zscore/WHG_STARR_TR/WHG_STARR_TR/merged_peak/merged_enhancer_peak_orientation_independent.bed.gz'\n",
       "\n",
       "\n"
      ],
      "text/plain": [
       "[1] \"/data/reddylab/Kuei/out/proj_combeffect_encode_fcc/source/annotation_enhancer_junke_zscore/deep_ATAC_STARR_seq.genomic_bin_100_sliding_10/ATAC_STARR_seq/merged_peak/merged_enhancer_peak_orientation_independent.bed.gz\"\n",
       "[2] \"/data/reddylab/Kuei/out/proj_combeffect_encode_fcc/source/annotation_enhancer_junke_zscore/lentiMPRA/lentiMPRA/merged_peak/merged_enhancer_peak_orientation_independent.bed.gz\"                                          \n",
       "[3] \"/data/reddylab/Kuei/out/proj_combeffect_encode_fcc/source/annotation_enhancer_junke_zscore/WHG_STARR_TR/WHG_STARR_TR/merged_peak/merged_enhancer_peak_orientation_independent.bed.gz\"                                    "
      ]
     },
     "metadata": {},
     "output_type": "display_data"
    }
   ],
   "source": [
    "folder = \"*\"\n",
    "fname  = \"merged_enhancer_peak_orientation_independent.bed.gz\"\n",
    "fglob  = file.path(fdiry, \"*\", \"*\", \"merged_peak\", fname)\n",
    "Sys.glob(fglob)"
   ]
  },
  {
   "cell_type": "code",
   "execution_count": 4,
   "metadata": {},
   "outputs": [
    {
     "data": {
      "text/html": [
       "<style>\n",
       ".list-inline {list-style: none; margin:0; padding: 0}\n",
       ".list-inline>li {display: inline-block}\n",
       ".list-inline>li:not(:last-child)::after {content: \"\\00b7\"; padding: 0 .5ex}\n",
       "</style>\n",
       "<ol class=list-inline><li>'/data/reddylab/Kuei/out/proj_combeffect_encode_fcc/source/annotation_enhancer_junke_zscore/deep_ATAC_STARR_seq.genomic_bin_100_sliding_10/ATAC_STARR_seq/merged_peak/merged_enhancer_peaks_in_either_orientation.bed.gz'</li><li>'/data/reddylab/Kuei/out/proj_combeffect_encode_fcc/source/annotation_enhancer_junke_zscore/lentiMPRA/lentiMPRA/merged_peak/merged_enhancer_peaks_in_either_orientation.bed.gz'</li><li>'/data/reddylab/Kuei/out/proj_combeffect_encode_fcc/source/annotation_enhancer_junke_zscore/tilingMPRA_MYC_GATA/tilingMPRA_MYC_GATA/merged_peak/merged_enhancer_peaks_in_either_orientation.bed.gz'</li><li>'/data/reddylab/Kuei/out/proj_combeffect_encode_fcc/source/annotation_enhancer_junke_zscore/tilingMPRA_OL13/tilingMPRA_OL13/merged_peak/merged_enhancer_peaks_in_either_orientation.bed.gz'</li><li>'/data/reddylab/Kuei/out/proj_combeffect_encode_fcc/source/annotation_enhancer_junke_zscore/tilingMPRA_OL45/tilingMPRA_OL45/merged_peak/merged_enhancer_peaks_in_either_orientation.bed.gz'</li><li>'/data/reddylab/Kuei/out/proj_combeffect_encode_fcc/source/annotation_enhancer_junke_zscore/WHG_STARR_TR/WHG_STARR_TR/merged_peak/merged_enhancer_peaks_in_either_orientation.bed.gz'</li></ol>\n"
      ],
      "text/latex": [
       "\\begin{enumerate*}\n",
       "\\item '/data/reddylab/Kuei/out/proj\\_combeffect\\_encode\\_fcc/source/annotation\\_enhancer\\_junke\\_zscore/deep\\_ATAC\\_STARR\\_seq.genomic\\_bin\\_100\\_sliding\\_10/ATAC\\_STARR\\_seq/merged\\_peak/merged\\_enhancer\\_peaks\\_in\\_either\\_orientation.bed.gz'\n",
       "\\item '/data/reddylab/Kuei/out/proj\\_combeffect\\_encode\\_fcc/source/annotation\\_enhancer\\_junke\\_zscore/lentiMPRA/lentiMPRA/merged\\_peak/merged\\_enhancer\\_peaks\\_in\\_either\\_orientation.bed.gz'\n",
       "\\item '/data/reddylab/Kuei/out/proj\\_combeffect\\_encode\\_fcc/source/annotation\\_enhancer\\_junke\\_zscore/tilingMPRA\\_MYC\\_GATA/tilingMPRA\\_MYC\\_GATA/merged\\_peak/merged\\_enhancer\\_peaks\\_in\\_either\\_orientation.bed.gz'\n",
       "\\item '/data/reddylab/Kuei/out/proj\\_combeffect\\_encode\\_fcc/source/annotation\\_enhancer\\_junke\\_zscore/tilingMPRA\\_OL13/tilingMPRA\\_OL13/merged\\_peak/merged\\_enhancer\\_peaks\\_in\\_either\\_orientation.bed.gz'\n",
       "\\item '/data/reddylab/Kuei/out/proj\\_combeffect\\_encode\\_fcc/source/annotation\\_enhancer\\_junke\\_zscore/tilingMPRA\\_OL45/tilingMPRA\\_OL45/merged\\_peak/merged\\_enhancer\\_peaks\\_in\\_either\\_orientation.bed.gz'\n",
       "\\item '/data/reddylab/Kuei/out/proj\\_combeffect\\_encode\\_fcc/source/annotation\\_enhancer\\_junke\\_zscore/WHG\\_STARR\\_TR/WHG\\_STARR\\_TR/merged\\_peak/merged\\_enhancer\\_peaks\\_in\\_either\\_orientation.bed.gz'\n",
       "\\end{enumerate*}\n"
      ],
      "text/markdown": [
       "1. '/data/reddylab/Kuei/out/proj_combeffect_encode_fcc/source/annotation_enhancer_junke_zscore/deep_ATAC_STARR_seq.genomic_bin_100_sliding_10/ATAC_STARR_seq/merged_peak/merged_enhancer_peaks_in_either_orientation.bed.gz'\n",
       "2. '/data/reddylab/Kuei/out/proj_combeffect_encode_fcc/source/annotation_enhancer_junke_zscore/lentiMPRA/lentiMPRA/merged_peak/merged_enhancer_peaks_in_either_orientation.bed.gz'\n",
       "3. '/data/reddylab/Kuei/out/proj_combeffect_encode_fcc/source/annotation_enhancer_junke_zscore/tilingMPRA_MYC_GATA/tilingMPRA_MYC_GATA/merged_peak/merged_enhancer_peaks_in_either_orientation.bed.gz'\n",
       "4. '/data/reddylab/Kuei/out/proj_combeffect_encode_fcc/source/annotation_enhancer_junke_zscore/tilingMPRA_OL13/tilingMPRA_OL13/merged_peak/merged_enhancer_peaks_in_either_orientation.bed.gz'\n",
       "5. '/data/reddylab/Kuei/out/proj_combeffect_encode_fcc/source/annotation_enhancer_junke_zscore/tilingMPRA_OL45/tilingMPRA_OL45/merged_peak/merged_enhancer_peaks_in_either_orientation.bed.gz'\n",
       "6. '/data/reddylab/Kuei/out/proj_combeffect_encode_fcc/source/annotation_enhancer_junke_zscore/WHG_STARR_TR/WHG_STARR_TR/merged_peak/merged_enhancer_peaks_in_either_orientation.bed.gz'\n",
       "\n",
       "\n"
      ],
      "text/plain": [
       "[1] \"/data/reddylab/Kuei/out/proj_combeffect_encode_fcc/source/annotation_enhancer_junke_zscore/deep_ATAC_STARR_seq.genomic_bin_100_sliding_10/ATAC_STARR_seq/merged_peak/merged_enhancer_peaks_in_either_orientation.bed.gz\"\n",
       "[2] \"/data/reddylab/Kuei/out/proj_combeffect_encode_fcc/source/annotation_enhancer_junke_zscore/lentiMPRA/lentiMPRA/merged_peak/merged_enhancer_peaks_in_either_orientation.bed.gz\"                                          \n",
       "[3] \"/data/reddylab/Kuei/out/proj_combeffect_encode_fcc/source/annotation_enhancer_junke_zscore/tilingMPRA_MYC_GATA/tilingMPRA_MYC_GATA/merged_peak/merged_enhancer_peaks_in_either_orientation.bed.gz\"                      \n",
       "[4] \"/data/reddylab/Kuei/out/proj_combeffect_encode_fcc/source/annotation_enhancer_junke_zscore/tilingMPRA_OL13/tilingMPRA_OL13/merged_peak/merged_enhancer_peaks_in_either_orientation.bed.gz\"                              \n",
       "[5] \"/data/reddylab/Kuei/out/proj_combeffect_encode_fcc/source/annotation_enhancer_junke_zscore/tilingMPRA_OL45/tilingMPRA_OL45/merged_peak/merged_enhancer_peaks_in_either_orientation.bed.gz\"                              \n",
       "[6] \"/data/reddylab/Kuei/out/proj_combeffect_encode_fcc/source/annotation_enhancer_junke_zscore/WHG_STARR_TR/WHG_STARR_TR/merged_peak/merged_enhancer_peaks_in_either_orientation.bed.gz\"                                    "
      ]
     },
     "metadata": {},
     "output_type": "display_data"
    }
   ],
   "source": [
    "folder = \"*\"\n",
    "fname  = \"merged_enhancer_peaks_in_either_orientation.bed.gz\"\n",
    "fglob  = file.path(fdiry, \"*\", \"*\", \"merged_peak\", fname)\n",
    "Sys.glob(fglob)"
   ]
  },
  {
   "cell_type": "code",
   "execution_count": 5,
   "metadata": {},
   "outputs": [
    {
     "data": {
      "text/html": [
       "<style>\n",
       ".list-inline {list-style: none; margin:0; padding: 0}\n",
       ".list-inline>li {display: inline-block}\n",
       ".list-inline>li:not(:last-child)::after {content: \"\\00b7\"; padding: 0 .5ex}\n",
       "</style>\n",
       "<ol class=list-inline><li>'/data/reddylab/Kuei/out/proj_combeffect_encode_fcc/source/annotation_enhancer_junke_zscore/deep_ATAC_STARR_seq.genomic_bin_100_sliding_10/ATAC_STARR_seq/merged_peak/merged_repressor_peaks_in_either_orientation.bed.gz'</li><li>'/data/reddylab/Kuei/out/proj_combeffect_encode_fcc/source/annotation_enhancer_junke_zscore/lentiMPRA/lentiMPRA/merged_peak/merged_repressor_peaks_in_either_orientation.bed.gz'</li><li>'/data/reddylab/Kuei/out/proj_combeffect_encode_fcc/source/annotation_enhancer_junke_zscore/tilingMPRA_MYC_GATA/tilingMPRA_MYC_GATA/merged_peak/merged_repressor_peaks_in_either_orientation.bed.gz'</li><li>'/data/reddylab/Kuei/out/proj_combeffect_encode_fcc/source/annotation_enhancer_junke_zscore/tilingMPRA_OL13/tilingMPRA_OL13/merged_peak/merged_repressor_peaks_in_either_orientation.bed.gz'</li><li>'/data/reddylab/Kuei/out/proj_combeffect_encode_fcc/source/annotation_enhancer_junke_zscore/tilingMPRA_OL45/tilingMPRA_OL45/merged_peak/merged_repressor_peaks_in_either_orientation.bed.gz'</li><li>'/data/reddylab/Kuei/out/proj_combeffect_encode_fcc/source/annotation_enhancer_junke_zscore/WHG_STARR_TR/WHG_STARR_TR/merged_peak/merged_repressor_peaks_in_either_orientation.bed.gz'</li></ol>\n"
      ],
      "text/latex": [
       "\\begin{enumerate*}\n",
       "\\item '/data/reddylab/Kuei/out/proj\\_combeffect\\_encode\\_fcc/source/annotation\\_enhancer\\_junke\\_zscore/deep\\_ATAC\\_STARR\\_seq.genomic\\_bin\\_100\\_sliding\\_10/ATAC\\_STARR\\_seq/merged\\_peak/merged\\_repressor\\_peaks\\_in\\_either\\_orientation.bed.gz'\n",
       "\\item '/data/reddylab/Kuei/out/proj\\_combeffect\\_encode\\_fcc/source/annotation\\_enhancer\\_junke\\_zscore/lentiMPRA/lentiMPRA/merged\\_peak/merged\\_repressor\\_peaks\\_in\\_either\\_orientation.bed.gz'\n",
       "\\item '/data/reddylab/Kuei/out/proj\\_combeffect\\_encode\\_fcc/source/annotation\\_enhancer\\_junke\\_zscore/tilingMPRA\\_MYC\\_GATA/tilingMPRA\\_MYC\\_GATA/merged\\_peak/merged\\_repressor\\_peaks\\_in\\_either\\_orientation.bed.gz'\n",
       "\\item '/data/reddylab/Kuei/out/proj\\_combeffect\\_encode\\_fcc/source/annotation\\_enhancer\\_junke\\_zscore/tilingMPRA\\_OL13/tilingMPRA\\_OL13/merged\\_peak/merged\\_repressor\\_peaks\\_in\\_either\\_orientation.bed.gz'\n",
       "\\item '/data/reddylab/Kuei/out/proj\\_combeffect\\_encode\\_fcc/source/annotation\\_enhancer\\_junke\\_zscore/tilingMPRA\\_OL45/tilingMPRA\\_OL45/merged\\_peak/merged\\_repressor\\_peaks\\_in\\_either\\_orientation.bed.gz'\n",
       "\\item '/data/reddylab/Kuei/out/proj\\_combeffect\\_encode\\_fcc/source/annotation\\_enhancer\\_junke\\_zscore/WHG\\_STARR\\_TR/WHG\\_STARR\\_TR/merged\\_peak/merged\\_repressor\\_peaks\\_in\\_either\\_orientation.bed.gz'\n",
       "\\end{enumerate*}\n"
      ],
      "text/markdown": [
       "1. '/data/reddylab/Kuei/out/proj_combeffect_encode_fcc/source/annotation_enhancer_junke_zscore/deep_ATAC_STARR_seq.genomic_bin_100_sliding_10/ATAC_STARR_seq/merged_peak/merged_repressor_peaks_in_either_orientation.bed.gz'\n",
       "2. '/data/reddylab/Kuei/out/proj_combeffect_encode_fcc/source/annotation_enhancer_junke_zscore/lentiMPRA/lentiMPRA/merged_peak/merged_repressor_peaks_in_either_orientation.bed.gz'\n",
       "3. '/data/reddylab/Kuei/out/proj_combeffect_encode_fcc/source/annotation_enhancer_junke_zscore/tilingMPRA_MYC_GATA/tilingMPRA_MYC_GATA/merged_peak/merged_repressor_peaks_in_either_orientation.bed.gz'\n",
       "4. '/data/reddylab/Kuei/out/proj_combeffect_encode_fcc/source/annotation_enhancer_junke_zscore/tilingMPRA_OL13/tilingMPRA_OL13/merged_peak/merged_repressor_peaks_in_either_orientation.bed.gz'\n",
       "5. '/data/reddylab/Kuei/out/proj_combeffect_encode_fcc/source/annotation_enhancer_junke_zscore/tilingMPRA_OL45/tilingMPRA_OL45/merged_peak/merged_repressor_peaks_in_either_orientation.bed.gz'\n",
       "6. '/data/reddylab/Kuei/out/proj_combeffect_encode_fcc/source/annotation_enhancer_junke_zscore/WHG_STARR_TR/WHG_STARR_TR/merged_peak/merged_repressor_peaks_in_either_orientation.bed.gz'\n",
       "\n",
       "\n"
      ],
      "text/plain": [
       "[1] \"/data/reddylab/Kuei/out/proj_combeffect_encode_fcc/source/annotation_enhancer_junke_zscore/deep_ATAC_STARR_seq.genomic_bin_100_sliding_10/ATAC_STARR_seq/merged_peak/merged_repressor_peaks_in_either_orientation.bed.gz\"\n",
       "[2] \"/data/reddylab/Kuei/out/proj_combeffect_encode_fcc/source/annotation_enhancer_junke_zscore/lentiMPRA/lentiMPRA/merged_peak/merged_repressor_peaks_in_either_orientation.bed.gz\"                                          \n",
       "[3] \"/data/reddylab/Kuei/out/proj_combeffect_encode_fcc/source/annotation_enhancer_junke_zscore/tilingMPRA_MYC_GATA/tilingMPRA_MYC_GATA/merged_peak/merged_repressor_peaks_in_either_orientation.bed.gz\"                      \n",
       "[4] \"/data/reddylab/Kuei/out/proj_combeffect_encode_fcc/source/annotation_enhancer_junke_zscore/tilingMPRA_OL13/tilingMPRA_OL13/merged_peak/merged_repressor_peaks_in_either_orientation.bed.gz\"                              \n",
       "[5] \"/data/reddylab/Kuei/out/proj_combeffect_encode_fcc/source/annotation_enhancer_junke_zscore/tilingMPRA_OL45/tilingMPRA_OL45/merged_peak/merged_repressor_peaks_in_either_orientation.bed.gz\"                              \n",
       "[6] \"/data/reddylab/Kuei/out/proj_combeffect_encode_fcc/source/annotation_enhancer_junke_zscore/WHG_STARR_TR/WHG_STARR_TR/merged_peak/merged_repressor_peaks_in_either_orientation.bed.gz\"                                    "
      ]
     },
     "metadata": {},
     "output_type": "display_data"
    }
   ],
   "source": [
    "folder = \"*\"\n",
    "fname  = \"merged_repressor_peaks_in_either_orientation.bed.gz\"\n",
    "fglob  = file.path(fdiry, \"*\", \"*\", \"merged_peak\", fname)\n",
    "Sys.glob(fglob)"
   ]
  },
  {
   "cell_type": "code",
   "execution_count": 6,
   "metadata": {},
   "outputs": [
    {
     "data": {
      "text/html": [
       "<style>\n",
       ".list-inline {list-style: none; margin:0; padding: 0}\n",
       ".list-inline>li {display: inline-block}\n",
       ".list-inline>li:not(:last-child)::after {content: \"\\00b7\"; padding: 0 .5ex}\n",
       "</style>\n",
       "<ol class=list-inline><li>'/data/reddylab/Kuei/out/proj_combeffect_encode_fcc/source/annotation_enhancer_junke_zscore/deep_ATAC_STARR_seq.genomic_bin_100_sliding_10/ATAC_STARR_seq/merged_peak/merged_enhancer_peak_orientation_independent.bed.gz'</li><li>'/data/reddylab/Kuei/out/proj_combeffect_encode_fcc/source/annotation_enhancer_junke_zscore/deep_ATAC_STARR_seq.genomic_bin_100_sliding_10/ATAC_STARR_seq/merged_peak/merged_enhancer_peaks_in_either_orientation.bed.gz'</li><li>'/data/reddylab/Kuei/out/proj_combeffect_encode_fcc/source/annotation_enhancer_junke_zscore/deep_ATAC_STARR_seq.genomic_bin_100_sliding_10/ATAC_STARR_seq/merged_peak/merged_repressor_peaks_in_either_orientation.bed.gz'</li><li>'/data/reddylab/Kuei/out/proj_combeffect_encode_fcc/source/annotation_enhancer_junke_zscore/lentiMPRA/lentiMPRA/merged_peak/merged_enhancer_peak_orientation_independent.bed.gz'</li><li>'/data/reddylab/Kuei/out/proj_combeffect_encode_fcc/source/annotation_enhancer_junke_zscore/lentiMPRA/lentiMPRA/merged_peak/merged_enhancer_peaks_in_either_orientation.bed.gz'</li><li>'/data/reddylab/Kuei/out/proj_combeffect_encode_fcc/source/annotation_enhancer_junke_zscore/lentiMPRA/lentiMPRA/merged_peak/merged_repressor_peaks_in_either_orientation.bed.gz'</li><li>'/data/reddylab/Kuei/out/proj_combeffect_encode_fcc/source/annotation_enhancer_junke_zscore/tilingMPRA_MYC_GATA/tilingMPRA_MYC_GATA/merged_peak/merged_enhancer_peaks_in_either_orientation.bed.gz'</li><li>'/data/reddylab/Kuei/out/proj_combeffect_encode_fcc/source/annotation_enhancer_junke_zscore/tilingMPRA_MYC_GATA/tilingMPRA_MYC_GATA/merged_peak/merged_repressor_peaks_in_either_orientation.bed.gz'</li><li>'/data/reddylab/Kuei/out/proj_combeffect_encode_fcc/source/annotation_enhancer_junke_zscore/tilingMPRA_OL13/tilingMPRA_OL13/merged_peak/merged_enhancer_peaks_in_either_orientation.bed.gz'</li><li>'/data/reddylab/Kuei/out/proj_combeffect_encode_fcc/source/annotation_enhancer_junke_zscore/tilingMPRA_OL13/tilingMPRA_OL13/merged_peak/merged_repressor_peaks_in_either_orientation.bed.gz'</li><li>'/data/reddylab/Kuei/out/proj_combeffect_encode_fcc/source/annotation_enhancer_junke_zscore/tilingMPRA_OL45/tilingMPRA_OL45/merged_peak/merged_enhancer_peaks_in_either_orientation.bed.gz'</li><li>'/data/reddylab/Kuei/out/proj_combeffect_encode_fcc/source/annotation_enhancer_junke_zscore/tilingMPRA_OL45/tilingMPRA_OL45/merged_peak/merged_repressor_peaks_in_either_orientation.bed.gz'</li><li>'/data/reddylab/Kuei/out/proj_combeffect_encode_fcc/source/annotation_enhancer_junke_zscore/WHG_STARR_TR/WHG_STARR_TR/merged_peak/merged_enhancer_peak_orientation_independent.bed.gz'</li><li>'/data/reddylab/Kuei/out/proj_combeffect_encode_fcc/source/annotation_enhancer_junke_zscore/WHG_STARR_TR/WHG_STARR_TR/merged_peak/merged_enhancer_peaks_in_either_orientation.bed.gz'</li><li>'/data/reddylab/Kuei/out/proj_combeffect_encode_fcc/source/annotation_enhancer_junke_zscore/WHG_STARR_TR/WHG_STARR_TR/merged_peak/merged_repressor_peaks_in_either_orientation.bed.gz'</li></ol>\n"
      ],
      "text/latex": [
       "\\begin{enumerate*}\n",
       "\\item '/data/reddylab/Kuei/out/proj\\_combeffect\\_encode\\_fcc/source/annotation\\_enhancer\\_junke\\_zscore/deep\\_ATAC\\_STARR\\_seq.genomic\\_bin\\_100\\_sliding\\_10/ATAC\\_STARR\\_seq/merged\\_peak/merged\\_enhancer\\_peak\\_orientation\\_independent.bed.gz'\n",
       "\\item '/data/reddylab/Kuei/out/proj\\_combeffect\\_encode\\_fcc/source/annotation\\_enhancer\\_junke\\_zscore/deep\\_ATAC\\_STARR\\_seq.genomic\\_bin\\_100\\_sliding\\_10/ATAC\\_STARR\\_seq/merged\\_peak/merged\\_enhancer\\_peaks\\_in\\_either\\_orientation.bed.gz'\n",
       "\\item '/data/reddylab/Kuei/out/proj\\_combeffect\\_encode\\_fcc/source/annotation\\_enhancer\\_junke\\_zscore/deep\\_ATAC\\_STARR\\_seq.genomic\\_bin\\_100\\_sliding\\_10/ATAC\\_STARR\\_seq/merged\\_peak/merged\\_repressor\\_peaks\\_in\\_either\\_orientation.bed.gz'\n",
       "\\item '/data/reddylab/Kuei/out/proj\\_combeffect\\_encode\\_fcc/source/annotation\\_enhancer\\_junke\\_zscore/lentiMPRA/lentiMPRA/merged\\_peak/merged\\_enhancer\\_peak\\_orientation\\_independent.bed.gz'\n",
       "\\item '/data/reddylab/Kuei/out/proj\\_combeffect\\_encode\\_fcc/source/annotation\\_enhancer\\_junke\\_zscore/lentiMPRA/lentiMPRA/merged\\_peak/merged\\_enhancer\\_peaks\\_in\\_either\\_orientation.bed.gz'\n",
       "\\item '/data/reddylab/Kuei/out/proj\\_combeffect\\_encode\\_fcc/source/annotation\\_enhancer\\_junke\\_zscore/lentiMPRA/lentiMPRA/merged\\_peak/merged\\_repressor\\_peaks\\_in\\_either\\_orientation.bed.gz'\n",
       "\\item '/data/reddylab/Kuei/out/proj\\_combeffect\\_encode\\_fcc/source/annotation\\_enhancer\\_junke\\_zscore/tilingMPRA\\_MYC\\_GATA/tilingMPRA\\_MYC\\_GATA/merged\\_peak/merged\\_enhancer\\_peaks\\_in\\_either\\_orientation.bed.gz'\n",
       "\\item '/data/reddylab/Kuei/out/proj\\_combeffect\\_encode\\_fcc/source/annotation\\_enhancer\\_junke\\_zscore/tilingMPRA\\_MYC\\_GATA/tilingMPRA\\_MYC\\_GATA/merged\\_peak/merged\\_repressor\\_peaks\\_in\\_either\\_orientation.bed.gz'\n",
       "\\item '/data/reddylab/Kuei/out/proj\\_combeffect\\_encode\\_fcc/source/annotation\\_enhancer\\_junke\\_zscore/tilingMPRA\\_OL13/tilingMPRA\\_OL13/merged\\_peak/merged\\_enhancer\\_peaks\\_in\\_either\\_orientation.bed.gz'\n",
       "\\item '/data/reddylab/Kuei/out/proj\\_combeffect\\_encode\\_fcc/source/annotation\\_enhancer\\_junke\\_zscore/tilingMPRA\\_OL13/tilingMPRA\\_OL13/merged\\_peak/merged\\_repressor\\_peaks\\_in\\_either\\_orientation.bed.gz'\n",
       "\\item '/data/reddylab/Kuei/out/proj\\_combeffect\\_encode\\_fcc/source/annotation\\_enhancer\\_junke\\_zscore/tilingMPRA\\_OL45/tilingMPRA\\_OL45/merged\\_peak/merged\\_enhancer\\_peaks\\_in\\_either\\_orientation.bed.gz'\n",
       "\\item '/data/reddylab/Kuei/out/proj\\_combeffect\\_encode\\_fcc/source/annotation\\_enhancer\\_junke\\_zscore/tilingMPRA\\_OL45/tilingMPRA\\_OL45/merged\\_peak/merged\\_repressor\\_peaks\\_in\\_either\\_orientation.bed.gz'\n",
       "\\item '/data/reddylab/Kuei/out/proj\\_combeffect\\_encode\\_fcc/source/annotation\\_enhancer\\_junke\\_zscore/WHG\\_STARR\\_TR/WHG\\_STARR\\_TR/merged\\_peak/merged\\_enhancer\\_peak\\_orientation\\_independent.bed.gz'\n",
       "\\item '/data/reddylab/Kuei/out/proj\\_combeffect\\_encode\\_fcc/source/annotation\\_enhancer\\_junke\\_zscore/WHG\\_STARR\\_TR/WHG\\_STARR\\_TR/merged\\_peak/merged\\_enhancer\\_peaks\\_in\\_either\\_orientation.bed.gz'\n",
       "\\item '/data/reddylab/Kuei/out/proj\\_combeffect\\_encode\\_fcc/source/annotation\\_enhancer\\_junke\\_zscore/WHG\\_STARR\\_TR/WHG\\_STARR\\_TR/merged\\_peak/merged\\_repressor\\_peaks\\_in\\_either\\_orientation.bed.gz'\n",
       "\\end{enumerate*}\n"
      ],
      "text/markdown": [
       "1. '/data/reddylab/Kuei/out/proj_combeffect_encode_fcc/source/annotation_enhancer_junke_zscore/deep_ATAC_STARR_seq.genomic_bin_100_sliding_10/ATAC_STARR_seq/merged_peak/merged_enhancer_peak_orientation_independent.bed.gz'\n",
       "2. '/data/reddylab/Kuei/out/proj_combeffect_encode_fcc/source/annotation_enhancer_junke_zscore/deep_ATAC_STARR_seq.genomic_bin_100_sliding_10/ATAC_STARR_seq/merged_peak/merged_enhancer_peaks_in_either_orientation.bed.gz'\n",
       "3. '/data/reddylab/Kuei/out/proj_combeffect_encode_fcc/source/annotation_enhancer_junke_zscore/deep_ATAC_STARR_seq.genomic_bin_100_sliding_10/ATAC_STARR_seq/merged_peak/merged_repressor_peaks_in_either_orientation.bed.gz'\n",
       "4. '/data/reddylab/Kuei/out/proj_combeffect_encode_fcc/source/annotation_enhancer_junke_zscore/lentiMPRA/lentiMPRA/merged_peak/merged_enhancer_peak_orientation_independent.bed.gz'\n",
       "5. '/data/reddylab/Kuei/out/proj_combeffect_encode_fcc/source/annotation_enhancer_junke_zscore/lentiMPRA/lentiMPRA/merged_peak/merged_enhancer_peaks_in_either_orientation.bed.gz'\n",
       "6. '/data/reddylab/Kuei/out/proj_combeffect_encode_fcc/source/annotation_enhancer_junke_zscore/lentiMPRA/lentiMPRA/merged_peak/merged_repressor_peaks_in_either_orientation.bed.gz'\n",
       "7. '/data/reddylab/Kuei/out/proj_combeffect_encode_fcc/source/annotation_enhancer_junke_zscore/tilingMPRA_MYC_GATA/tilingMPRA_MYC_GATA/merged_peak/merged_enhancer_peaks_in_either_orientation.bed.gz'\n",
       "8. '/data/reddylab/Kuei/out/proj_combeffect_encode_fcc/source/annotation_enhancer_junke_zscore/tilingMPRA_MYC_GATA/tilingMPRA_MYC_GATA/merged_peak/merged_repressor_peaks_in_either_orientation.bed.gz'\n",
       "9. '/data/reddylab/Kuei/out/proj_combeffect_encode_fcc/source/annotation_enhancer_junke_zscore/tilingMPRA_OL13/tilingMPRA_OL13/merged_peak/merged_enhancer_peaks_in_either_orientation.bed.gz'\n",
       "10. '/data/reddylab/Kuei/out/proj_combeffect_encode_fcc/source/annotation_enhancer_junke_zscore/tilingMPRA_OL13/tilingMPRA_OL13/merged_peak/merged_repressor_peaks_in_either_orientation.bed.gz'\n",
       "11. '/data/reddylab/Kuei/out/proj_combeffect_encode_fcc/source/annotation_enhancer_junke_zscore/tilingMPRA_OL45/tilingMPRA_OL45/merged_peak/merged_enhancer_peaks_in_either_orientation.bed.gz'\n",
       "12. '/data/reddylab/Kuei/out/proj_combeffect_encode_fcc/source/annotation_enhancer_junke_zscore/tilingMPRA_OL45/tilingMPRA_OL45/merged_peak/merged_repressor_peaks_in_either_orientation.bed.gz'\n",
       "13. '/data/reddylab/Kuei/out/proj_combeffect_encode_fcc/source/annotation_enhancer_junke_zscore/WHG_STARR_TR/WHG_STARR_TR/merged_peak/merged_enhancer_peak_orientation_independent.bed.gz'\n",
       "14. '/data/reddylab/Kuei/out/proj_combeffect_encode_fcc/source/annotation_enhancer_junke_zscore/WHG_STARR_TR/WHG_STARR_TR/merged_peak/merged_enhancer_peaks_in_either_orientation.bed.gz'\n",
       "15. '/data/reddylab/Kuei/out/proj_combeffect_encode_fcc/source/annotation_enhancer_junke_zscore/WHG_STARR_TR/WHG_STARR_TR/merged_peak/merged_repressor_peaks_in_either_orientation.bed.gz'\n",
       "\n",
       "\n"
      ],
      "text/plain": [
       " [1] \"/data/reddylab/Kuei/out/proj_combeffect_encode_fcc/source/annotation_enhancer_junke_zscore/deep_ATAC_STARR_seq.genomic_bin_100_sliding_10/ATAC_STARR_seq/merged_peak/merged_enhancer_peak_orientation_independent.bed.gz\"\n",
       " [2] \"/data/reddylab/Kuei/out/proj_combeffect_encode_fcc/source/annotation_enhancer_junke_zscore/deep_ATAC_STARR_seq.genomic_bin_100_sliding_10/ATAC_STARR_seq/merged_peak/merged_enhancer_peaks_in_either_orientation.bed.gz\" \n",
       " [3] \"/data/reddylab/Kuei/out/proj_combeffect_encode_fcc/source/annotation_enhancer_junke_zscore/deep_ATAC_STARR_seq.genomic_bin_100_sliding_10/ATAC_STARR_seq/merged_peak/merged_repressor_peaks_in_either_orientation.bed.gz\"\n",
       " [4] \"/data/reddylab/Kuei/out/proj_combeffect_encode_fcc/source/annotation_enhancer_junke_zscore/lentiMPRA/lentiMPRA/merged_peak/merged_enhancer_peak_orientation_independent.bed.gz\"                                          \n",
       " [5] \"/data/reddylab/Kuei/out/proj_combeffect_encode_fcc/source/annotation_enhancer_junke_zscore/lentiMPRA/lentiMPRA/merged_peak/merged_enhancer_peaks_in_either_orientation.bed.gz\"                                           \n",
       " [6] \"/data/reddylab/Kuei/out/proj_combeffect_encode_fcc/source/annotation_enhancer_junke_zscore/lentiMPRA/lentiMPRA/merged_peak/merged_repressor_peaks_in_either_orientation.bed.gz\"                                          \n",
       " [7] \"/data/reddylab/Kuei/out/proj_combeffect_encode_fcc/source/annotation_enhancer_junke_zscore/tilingMPRA_MYC_GATA/tilingMPRA_MYC_GATA/merged_peak/merged_enhancer_peaks_in_either_orientation.bed.gz\"                       \n",
       " [8] \"/data/reddylab/Kuei/out/proj_combeffect_encode_fcc/source/annotation_enhancer_junke_zscore/tilingMPRA_MYC_GATA/tilingMPRA_MYC_GATA/merged_peak/merged_repressor_peaks_in_either_orientation.bed.gz\"                      \n",
       " [9] \"/data/reddylab/Kuei/out/proj_combeffect_encode_fcc/source/annotation_enhancer_junke_zscore/tilingMPRA_OL13/tilingMPRA_OL13/merged_peak/merged_enhancer_peaks_in_either_orientation.bed.gz\"                               \n",
       "[10] \"/data/reddylab/Kuei/out/proj_combeffect_encode_fcc/source/annotation_enhancer_junke_zscore/tilingMPRA_OL13/tilingMPRA_OL13/merged_peak/merged_repressor_peaks_in_either_orientation.bed.gz\"                              \n",
       "[11] \"/data/reddylab/Kuei/out/proj_combeffect_encode_fcc/source/annotation_enhancer_junke_zscore/tilingMPRA_OL45/tilingMPRA_OL45/merged_peak/merged_enhancer_peaks_in_either_orientation.bed.gz\"                               \n",
       "[12] \"/data/reddylab/Kuei/out/proj_combeffect_encode_fcc/source/annotation_enhancer_junke_zscore/tilingMPRA_OL45/tilingMPRA_OL45/merged_peak/merged_repressor_peaks_in_either_orientation.bed.gz\"                              \n",
       "[13] \"/data/reddylab/Kuei/out/proj_combeffect_encode_fcc/source/annotation_enhancer_junke_zscore/WHG_STARR_TR/WHG_STARR_TR/merged_peak/merged_enhancer_peak_orientation_independent.bed.gz\"                                    \n",
       "[14] \"/data/reddylab/Kuei/out/proj_combeffect_encode_fcc/source/annotation_enhancer_junke_zscore/WHG_STARR_TR/WHG_STARR_TR/merged_peak/merged_enhancer_peaks_in_either_orientation.bed.gz\"                                     \n",
       "[15] \"/data/reddylab/Kuei/out/proj_combeffect_encode_fcc/source/annotation_enhancer_junke_zscore/WHG_STARR_TR/WHG_STARR_TR/merged_peak/merged_repressor_peaks_in_either_orientation.bed.gz\"                                    "
      ]
     },
     "metadata": {},
     "output_type": "display_data"
    }
   ],
   "source": [
    "folder = \"*\"\n",
    "fname  = \"*.bed.gz\"\n",
    "fglob  = file.path(fdiry, \"*\", \"*\", \"merged_peak\", fname)\n",
    "Sys.glob(fglob)"
   ]
  },
  {
   "cell_type": "markdown",
   "metadata": {},
   "source": [
    "## Import data"
   ]
  },
  {
   "cell_type": "code",
   "execution_count": 7,
   "metadata": {},
   "outputs": [],
   "source": [
    "assays_data = c(\"ASTARR_TR\", \"WSTARR_TR\", \"TMPRA_GATA_MYC\", \"TMPRA_OL13\", \"TMPRA_OL45\", \"LMPRA_Nadav\")\n",
    "assays_type = c(\"ASTARR\",    \"WSTARR\",    \"TMPRA\",          \"TMPRA\",      \"TMPRA\",      \"LMPRA\") \n",
    "assays_folder = c(\n",
    "    \"deep_ATAC_STARR_seq.genomic_bin_100_sliding_10\",\n",
    "    \"WHG_STARR_TR\",\n",
    "    \"tilingMPRA_MYC_GATA\",\n",
    "    \"tilingMPRA_OL13\",\n",
    "    \"tilingMPRA_OL45\",\n",
    "    \"lentiMPRA\"\n",
    ")\n",
    "\n",
    "names(assays_type)   = assays_data\n",
    "names(assays_folder) = assays_data"
   ]
  },
  {
   "cell_type": "code",
   "execution_count": 8,
   "metadata": {},
   "outputs": [],
   "source": [
    "fnames = c(\n",
    "    \"merged_enhancer_peak_orientation_independent.bed.gz\",\n",
    "    \"merged_enhancer_peaks_in_either_orientation.bed.gz\",\n",
    "    \"merged_repressor_peaks_in_either_orientation.bed.gz\"\n",
    ")\n",
    "names(fnames) = c(\"AB\", \"A\", \"R\")"
   ]
  },
  {
   "cell_type": "code",
   "execution_count": 9,
   "metadata": {},
   "outputs": [
    {
     "name": "stdout",
     "output_type": "stream",
     "text": [
      "[1] \"ASTARR_TR\"      \"WSTARR_TR\"      \"TMPRA_GATA_MYC\" \"TMPRA_OL13\"    \n",
      "[5] \"TMPRA_OL45\"     \"LMPRA_Nadav\"   \n",
      "++++++++++++++++++++++++++++++++++++++++++\n",
      "     ASTARR_TR      WSTARR_TR TMPRA_GATA_MYC     TMPRA_OL13     TMPRA_OL45 \n",
      "      \"ASTARR\"       \"WSTARR\"        \"TMPRA\"        \"TMPRA\"        \"TMPRA\" \n",
      "   LMPRA_Nadav \n",
      "       \"LMPRA\" \n",
      "++++++++++++++++++++++++++++++++++++++++++\n",
      "                                       ASTARR_TR \n",
      "\"deep_ATAC_STARR_seq.genomic_bin_100_sliding_10\" \n",
      "                                       WSTARR_TR \n",
      "                                  \"WHG_STARR_TR\" \n",
      "                                  TMPRA_GATA_MYC \n",
      "                           \"tilingMPRA_MYC_GATA\" \n",
      "                                      TMPRA_OL13 \n",
      "                               \"tilingMPRA_OL13\" \n",
      "                                      TMPRA_OL45 \n",
      "                               \"tilingMPRA_OL45\" \n",
      "                                     LMPRA_Nadav \n",
      "                                     \"lentiMPRA\" \n"
     ]
    }
   ],
   "source": [
    "print(assays_data)\n",
    "cat(\"++++++++++++++++++++++++++++++++++++++++++\\n\")\n",
    "print(assays_type)\n",
    "cat(\"++++++++++++++++++++++++++++++++++++++++++\\n\")\n",
    "print(assays_folder)"
   ]
  },
  {
   "cell_type": "code",
   "execution_count": 10,
   "metadata": {},
   "outputs": [
    {
     "data": {
      "text/html": [
       "<table class=\"dataframe\">\n",
       "<caption>A tibble: 15 × 5</caption>\n",
       "<thead>\n",
       "\t<tr><th scope=col>Dataset</th><th scope=col>Assay_Type</th><th scope=col>Assay_Label</th><th scope=col>Assay_FName</th><th scope=col>Assay_FPath</th></tr>\n",
       "\t<tr><th scope=col>&lt;chr&gt;</th><th scope=col>&lt;chr&gt;</th><th scope=col>&lt;chr&gt;</th><th scope=col>&lt;chr&gt;</th><th scope=col>&lt;chr&gt;</th></tr>\n",
       "</thead>\n",
       "<tbody>\n",
       "\t<tr><td>ASTARR_TR     </td><td>ASTARR</td><td>ASTARR_AB</td><td>merged_enhancer_peak_orientation_independent.bed.gz</td><td>/data/reddylab/Kuei/out/proj_combeffect_encode_fcc/source/annotation_enhancer_junke_zscore/deep_ATAC_STARR_seq.genomic_bin_100_sliding_10/ATAC_STARR_seq/merged_peak/merged_enhancer_peak_orientation_independent.bed.gz</td></tr>\n",
       "\t<tr><td>ASTARR_TR     </td><td>ASTARR</td><td>ASTARR_A </td><td>merged_enhancer_peaks_in_either_orientation.bed.gz </td><td>/data/reddylab/Kuei/out/proj_combeffect_encode_fcc/source/annotation_enhancer_junke_zscore/deep_ATAC_STARR_seq.genomic_bin_100_sliding_10/ATAC_STARR_seq/merged_peak/merged_enhancer_peaks_in_either_orientation.bed.gz </td></tr>\n",
       "\t<tr><td>ASTARR_TR     </td><td>ASTARR</td><td>ASTARR_R </td><td>merged_repressor_peaks_in_either_orientation.bed.gz</td><td>/data/reddylab/Kuei/out/proj_combeffect_encode_fcc/source/annotation_enhancer_junke_zscore/deep_ATAC_STARR_seq.genomic_bin_100_sliding_10/ATAC_STARR_seq/merged_peak/merged_repressor_peaks_in_either_orientation.bed.gz</td></tr>\n",
       "\t<tr><td>WSTARR_TR     </td><td>WSTARR</td><td>WSTARR_AB</td><td>merged_enhancer_peak_orientation_independent.bed.gz</td><td>/data/reddylab/Kuei/out/proj_combeffect_encode_fcc/source/annotation_enhancer_junke_zscore/WHG_STARR_TR/WHG_STARR_TR/merged_peak/merged_enhancer_peak_orientation_independent.bed.gz                                    </td></tr>\n",
       "\t<tr><td>WSTARR_TR     </td><td>WSTARR</td><td>WSTARR_A </td><td>merged_enhancer_peaks_in_either_orientation.bed.gz </td><td>/data/reddylab/Kuei/out/proj_combeffect_encode_fcc/source/annotation_enhancer_junke_zscore/WHG_STARR_TR/WHG_STARR_TR/merged_peak/merged_enhancer_peaks_in_either_orientation.bed.gz                                     </td></tr>\n",
       "\t<tr><td>WSTARR_TR     </td><td>WSTARR</td><td>WSTARR_R </td><td>merged_repressor_peaks_in_either_orientation.bed.gz</td><td>/data/reddylab/Kuei/out/proj_combeffect_encode_fcc/source/annotation_enhancer_junke_zscore/WHG_STARR_TR/WHG_STARR_TR/merged_peak/merged_repressor_peaks_in_either_orientation.bed.gz                                    </td></tr>\n",
       "\t<tr><td>TMPRA_GATA_MYC</td><td>TMPRA </td><td>TMPRA_A  </td><td>merged_enhancer_peaks_in_either_orientation.bed.gz </td><td>/data/reddylab/Kuei/out/proj_combeffect_encode_fcc/source/annotation_enhancer_junke_zscore/tilingMPRA_MYC_GATA/tilingMPRA_MYC_GATA/merged_peak/merged_enhancer_peaks_in_either_orientation.bed.gz                       </td></tr>\n",
       "\t<tr><td>TMPRA_GATA_MYC</td><td>TMPRA </td><td>TMPRA_R  </td><td>merged_repressor_peaks_in_either_orientation.bed.gz</td><td>/data/reddylab/Kuei/out/proj_combeffect_encode_fcc/source/annotation_enhancer_junke_zscore/tilingMPRA_MYC_GATA/tilingMPRA_MYC_GATA/merged_peak/merged_repressor_peaks_in_either_orientation.bed.gz                      </td></tr>\n",
       "\t<tr><td>TMPRA_OL13    </td><td>TMPRA </td><td>TMPRA_A  </td><td>merged_enhancer_peaks_in_either_orientation.bed.gz </td><td>/data/reddylab/Kuei/out/proj_combeffect_encode_fcc/source/annotation_enhancer_junke_zscore/tilingMPRA_OL13/tilingMPRA_OL13/merged_peak/merged_enhancer_peaks_in_either_orientation.bed.gz                               </td></tr>\n",
       "\t<tr><td>TMPRA_OL13    </td><td>TMPRA </td><td>TMPRA_R  </td><td>merged_repressor_peaks_in_either_orientation.bed.gz</td><td>/data/reddylab/Kuei/out/proj_combeffect_encode_fcc/source/annotation_enhancer_junke_zscore/tilingMPRA_OL13/tilingMPRA_OL13/merged_peak/merged_repressor_peaks_in_either_orientation.bed.gz                              </td></tr>\n",
       "\t<tr><td>TMPRA_OL45    </td><td>TMPRA </td><td>TMPRA_A  </td><td>merged_enhancer_peaks_in_either_orientation.bed.gz </td><td>/data/reddylab/Kuei/out/proj_combeffect_encode_fcc/source/annotation_enhancer_junke_zscore/tilingMPRA_OL45/tilingMPRA_OL45/merged_peak/merged_enhancer_peaks_in_either_orientation.bed.gz                               </td></tr>\n",
       "\t<tr><td>TMPRA_OL45    </td><td>TMPRA </td><td>TMPRA_R  </td><td>merged_repressor_peaks_in_either_orientation.bed.gz</td><td>/data/reddylab/Kuei/out/proj_combeffect_encode_fcc/source/annotation_enhancer_junke_zscore/tilingMPRA_OL45/tilingMPRA_OL45/merged_peak/merged_repressor_peaks_in_either_orientation.bed.gz                              </td></tr>\n",
       "\t<tr><td>LMPRA_Nadav   </td><td>LMPRA </td><td>LMPRA_AB </td><td>merged_enhancer_peak_orientation_independent.bed.gz</td><td>/data/reddylab/Kuei/out/proj_combeffect_encode_fcc/source/annotation_enhancer_junke_zscore/lentiMPRA/lentiMPRA/merged_peak/merged_enhancer_peak_orientation_independent.bed.gz                                          </td></tr>\n",
       "\t<tr><td>LMPRA_Nadav   </td><td>LMPRA </td><td>LMPRA_A  </td><td>merged_enhancer_peaks_in_either_orientation.bed.gz </td><td>/data/reddylab/Kuei/out/proj_combeffect_encode_fcc/source/annotation_enhancer_junke_zscore/lentiMPRA/lentiMPRA/merged_peak/merged_enhancer_peaks_in_either_orientation.bed.gz                                           </td></tr>\n",
       "\t<tr><td>LMPRA_Nadav   </td><td>LMPRA </td><td>LMPRA_R  </td><td>merged_repressor_peaks_in_either_orientation.bed.gz</td><td>/data/reddylab/Kuei/out/proj_combeffect_encode_fcc/source/annotation_enhancer_junke_zscore/lentiMPRA/lentiMPRA/merged_peak/merged_repressor_peaks_in_either_orientation.bed.gz                                          </td></tr>\n",
       "</tbody>\n",
       "</table>\n"
      ],
      "text/latex": [
       "A tibble: 15 × 5\n",
       "\\begin{tabular}{lllll}\n",
       " Dataset & Assay\\_Type & Assay\\_Label & Assay\\_FName & Assay\\_FPath\\\\\n",
       " <chr> & <chr> & <chr> & <chr> & <chr>\\\\\n",
       "\\hline\n",
       "\t ASTARR\\_TR      & ASTARR & ASTARR\\_AB & merged\\_enhancer\\_peak\\_orientation\\_independent.bed.gz & /data/reddylab/Kuei/out/proj\\_combeffect\\_encode\\_fcc/source/annotation\\_enhancer\\_junke\\_zscore/deep\\_ATAC\\_STARR\\_seq.genomic\\_bin\\_100\\_sliding\\_10/ATAC\\_STARR\\_seq/merged\\_peak/merged\\_enhancer\\_peak\\_orientation\\_independent.bed.gz\\\\\n",
       "\t ASTARR\\_TR      & ASTARR & ASTARR\\_A  & merged\\_enhancer\\_peaks\\_in\\_either\\_orientation.bed.gz  & /data/reddylab/Kuei/out/proj\\_combeffect\\_encode\\_fcc/source/annotation\\_enhancer\\_junke\\_zscore/deep\\_ATAC\\_STARR\\_seq.genomic\\_bin\\_100\\_sliding\\_10/ATAC\\_STARR\\_seq/merged\\_peak/merged\\_enhancer\\_peaks\\_in\\_either\\_orientation.bed.gz \\\\\n",
       "\t ASTARR\\_TR      & ASTARR & ASTARR\\_R  & merged\\_repressor\\_peaks\\_in\\_either\\_orientation.bed.gz & /data/reddylab/Kuei/out/proj\\_combeffect\\_encode\\_fcc/source/annotation\\_enhancer\\_junke\\_zscore/deep\\_ATAC\\_STARR\\_seq.genomic\\_bin\\_100\\_sliding\\_10/ATAC\\_STARR\\_seq/merged\\_peak/merged\\_repressor\\_peaks\\_in\\_either\\_orientation.bed.gz\\\\\n",
       "\t WSTARR\\_TR      & WSTARR & WSTARR\\_AB & merged\\_enhancer\\_peak\\_orientation\\_independent.bed.gz & /data/reddylab/Kuei/out/proj\\_combeffect\\_encode\\_fcc/source/annotation\\_enhancer\\_junke\\_zscore/WHG\\_STARR\\_TR/WHG\\_STARR\\_TR/merged\\_peak/merged\\_enhancer\\_peak\\_orientation\\_independent.bed.gz                                    \\\\\n",
       "\t WSTARR\\_TR      & WSTARR & WSTARR\\_A  & merged\\_enhancer\\_peaks\\_in\\_either\\_orientation.bed.gz  & /data/reddylab/Kuei/out/proj\\_combeffect\\_encode\\_fcc/source/annotation\\_enhancer\\_junke\\_zscore/WHG\\_STARR\\_TR/WHG\\_STARR\\_TR/merged\\_peak/merged\\_enhancer\\_peaks\\_in\\_either\\_orientation.bed.gz                                     \\\\\n",
       "\t WSTARR\\_TR      & WSTARR & WSTARR\\_R  & merged\\_repressor\\_peaks\\_in\\_either\\_orientation.bed.gz & /data/reddylab/Kuei/out/proj\\_combeffect\\_encode\\_fcc/source/annotation\\_enhancer\\_junke\\_zscore/WHG\\_STARR\\_TR/WHG\\_STARR\\_TR/merged\\_peak/merged\\_repressor\\_peaks\\_in\\_either\\_orientation.bed.gz                                    \\\\\n",
       "\t TMPRA\\_GATA\\_MYC & TMPRA  & TMPRA\\_A   & merged\\_enhancer\\_peaks\\_in\\_either\\_orientation.bed.gz  & /data/reddylab/Kuei/out/proj\\_combeffect\\_encode\\_fcc/source/annotation\\_enhancer\\_junke\\_zscore/tilingMPRA\\_MYC\\_GATA/tilingMPRA\\_MYC\\_GATA/merged\\_peak/merged\\_enhancer\\_peaks\\_in\\_either\\_orientation.bed.gz                       \\\\\n",
       "\t TMPRA\\_GATA\\_MYC & TMPRA  & TMPRA\\_R   & merged\\_repressor\\_peaks\\_in\\_either\\_orientation.bed.gz & /data/reddylab/Kuei/out/proj\\_combeffect\\_encode\\_fcc/source/annotation\\_enhancer\\_junke\\_zscore/tilingMPRA\\_MYC\\_GATA/tilingMPRA\\_MYC\\_GATA/merged\\_peak/merged\\_repressor\\_peaks\\_in\\_either\\_orientation.bed.gz                      \\\\\n",
       "\t TMPRA\\_OL13     & TMPRA  & TMPRA\\_A   & merged\\_enhancer\\_peaks\\_in\\_either\\_orientation.bed.gz  & /data/reddylab/Kuei/out/proj\\_combeffect\\_encode\\_fcc/source/annotation\\_enhancer\\_junke\\_zscore/tilingMPRA\\_OL13/tilingMPRA\\_OL13/merged\\_peak/merged\\_enhancer\\_peaks\\_in\\_either\\_orientation.bed.gz                               \\\\\n",
       "\t TMPRA\\_OL13     & TMPRA  & TMPRA\\_R   & merged\\_repressor\\_peaks\\_in\\_either\\_orientation.bed.gz & /data/reddylab/Kuei/out/proj\\_combeffect\\_encode\\_fcc/source/annotation\\_enhancer\\_junke\\_zscore/tilingMPRA\\_OL13/tilingMPRA\\_OL13/merged\\_peak/merged\\_repressor\\_peaks\\_in\\_either\\_orientation.bed.gz                              \\\\\n",
       "\t TMPRA\\_OL45     & TMPRA  & TMPRA\\_A   & merged\\_enhancer\\_peaks\\_in\\_either\\_orientation.bed.gz  & /data/reddylab/Kuei/out/proj\\_combeffect\\_encode\\_fcc/source/annotation\\_enhancer\\_junke\\_zscore/tilingMPRA\\_OL45/tilingMPRA\\_OL45/merged\\_peak/merged\\_enhancer\\_peaks\\_in\\_either\\_orientation.bed.gz                               \\\\\n",
       "\t TMPRA\\_OL45     & TMPRA  & TMPRA\\_R   & merged\\_repressor\\_peaks\\_in\\_either\\_orientation.bed.gz & /data/reddylab/Kuei/out/proj\\_combeffect\\_encode\\_fcc/source/annotation\\_enhancer\\_junke\\_zscore/tilingMPRA\\_OL45/tilingMPRA\\_OL45/merged\\_peak/merged\\_repressor\\_peaks\\_in\\_either\\_orientation.bed.gz                              \\\\\n",
       "\t LMPRA\\_Nadav    & LMPRA  & LMPRA\\_AB  & merged\\_enhancer\\_peak\\_orientation\\_independent.bed.gz & /data/reddylab/Kuei/out/proj\\_combeffect\\_encode\\_fcc/source/annotation\\_enhancer\\_junke\\_zscore/lentiMPRA/lentiMPRA/merged\\_peak/merged\\_enhancer\\_peak\\_orientation\\_independent.bed.gz                                          \\\\\n",
       "\t LMPRA\\_Nadav    & LMPRA  & LMPRA\\_A   & merged\\_enhancer\\_peaks\\_in\\_either\\_orientation.bed.gz  & /data/reddylab/Kuei/out/proj\\_combeffect\\_encode\\_fcc/source/annotation\\_enhancer\\_junke\\_zscore/lentiMPRA/lentiMPRA/merged\\_peak/merged\\_enhancer\\_peaks\\_in\\_either\\_orientation.bed.gz                                           \\\\\n",
       "\t LMPRA\\_Nadav    & LMPRA  & LMPRA\\_R   & merged\\_repressor\\_peaks\\_in\\_either\\_orientation.bed.gz & /data/reddylab/Kuei/out/proj\\_combeffect\\_encode\\_fcc/source/annotation\\_enhancer\\_junke\\_zscore/lentiMPRA/lentiMPRA/merged\\_peak/merged\\_repressor\\_peaks\\_in\\_either\\_orientation.bed.gz                                          \\\\\n",
       "\\end{tabular}\n"
      ],
      "text/markdown": [
       "\n",
       "A tibble: 15 × 5\n",
       "\n",
       "| Dataset &lt;chr&gt; | Assay_Type &lt;chr&gt; | Assay_Label &lt;chr&gt; | Assay_FName &lt;chr&gt; | Assay_FPath &lt;chr&gt; |\n",
       "|---|---|---|---|---|\n",
       "| ASTARR_TR      | ASTARR | ASTARR_AB | merged_enhancer_peak_orientation_independent.bed.gz | /data/reddylab/Kuei/out/proj_combeffect_encode_fcc/source/annotation_enhancer_junke_zscore/deep_ATAC_STARR_seq.genomic_bin_100_sliding_10/ATAC_STARR_seq/merged_peak/merged_enhancer_peak_orientation_independent.bed.gz |\n",
       "| ASTARR_TR      | ASTARR | ASTARR_A  | merged_enhancer_peaks_in_either_orientation.bed.gz  | /data/reddylab/Kuei/out/proj_combeffect_encode_fcc/source/annotation_enhancer_junke_zscore/deep_ATAC_STARR_seq.genomic_bin_100_sliding_10/ATAC_STARR_seq/merged_peak/merged_enhancer_peaks_in_either_orientation.bed.gz  |\n",
       "| ASTARR_TR      | ASTARR | ASTARR_R  | merged_repressor_peaks_in_either_orientation.bed.gz | /data/reddylab/Kuei/out/proj_combeffect_encode_fcc/source/annotation_enhancer_junke_zscore/deep_ATAC_STARR_seq.genomic_bin_100_sliding_10/ATAC_STARR_seq/merged_peak/merged_repressor_peaks_in_either_orientation.bed.gz |\n",
       "| WSTARR_TR      | WSTARR | WSTARR_AB | merged_enhancer_peak_orientation_independent.bed.gz | /data/reddylab/Kuei/out/proj_combeffect_encode_fcc/source/annotation_enhancer_junke_zscore/WHG_STARR_TR/WHG_STARR_TR/merged_peak/merged_enhancer_peak_orientation_independent.bed.gz                                     |\n",
       "| WSTARR_TR      | WSTARR | WSTARR_A  | merged_enhancer_peaks_in_either_orientation.bed.gz  | /data/reddylab/Kuei/out/proj_combeffect_encode_fcc/source/annotation_enhancer_junke_zscore/WHG_STARR_TR/WHG_STARR_TR/merged_peak/merged_enhancer_peaks_in_either_orientation.bed.gz                                      |\n",
       "| WSTARR_TR      | WSTARR | WSTARR_R  | merged_repressor_peaks_in_either_orientation.bed.gz | /data/reddylab/Kuei/out/proj_combeffect_encode_fcc/source/annotation_enhancer_junke_zscore/WHG_STARR_TR/WHG_STARR_TR/merged_peak/merged_repressor_peaks_in_either_orientation.bed.gz                                     |\n",
       "| TMPRA_GATA_MYC | TMPRA  | TMPRA_A   | merged_enhancer_peaks_in_either_orientation.bed.gz  | /data/reddylab/Kuei/out/proj_combeffect_encode_fcc/source/annotation_enhancer_junke_zscore/tilingMPRA_MYC_GATA/tilingMPRA_MYC_GATA/merged_peak/merged_enhancer_peaks_in_either_orientation.bed.gz                        |\n",
       "| TMPRA_GATA_MYC | TMPRA  | TMPRA_R   | merged_repressor_peaks_in_either_orientation.bed.gz | /data/reddylab/Kuei/out/proj_combeffect_encode_fcc/source/annotation_enhancer_junke_zscore/tilingMPRA_MYC_GATA/tilingMPRA_MYC_GATA/merged_peak/merged_repressor_peaks_in_either_orientation.bed.gz                       |\n",
       "| TMPRA_OL13     | TMPRA  | TMPRA_A   | merged_enhancer_peaks_in_either_orientation.bed.gz  | /data/reddylab/Kuei/out/proj_combeffect_encode_fcc/source/annotation_enhancer_junke_zscore/tilingMPRA_OL13/tilingMPRA_OL13/merged_peak/merged_enhancer_peaks_in_either_orientation.bed.gz                                |\n",
       "| TMPRA_OL13     | TMPRA  | TMPRA_R   | merged_repressor_peaks_in_either_orientation.bed.gz | /data/reddylab/Kuei/out/proj_combeffect_encode_fcc/source/annotation_enhancer_junke_zscore/tilingMPRA_OL13/tilingMPRA_OL13/merged_peak/merged_repressor_peaks_in_either_orientation.bed.gz                               |\n",
       "| TMPRA_OL45     | TMPRA  | TMPRA_A   | merged_enhancer_peaks_in_either_orientation.bed.gz  | /data/reddylab/Kuei/out/proj_combeffect_encode_fcc/source/annotation_enhancer_junke_zscore/tilingMPRA_OL45/tilingMPRA_OL45/merged_peak/merged_enhancer_peaks_in_either_orientation.bed.gz                                |\n",
       "| TMPRA_OL45     | TMPRA  | TMPRA_R   | merged_repressor_peaks_in_either_orientation.bed.gz | /data/reddylab/Kuei/out/proj_combeffect_encode_fcc/source/annotation_enhancer_junke_zscore/tilingMPRA_OL45/tilingMPRA_OL45/merged_peak/merged_repressor_peaks_in_either_orientation.bed.gz                               |\n",
       "| LMPRA_Nadav    | LMPRA  | LMPRA_AB  | merged_enhancer_peak_orientation_independent.bed.gz | /data/reddylab/Kuei/out/proj_combeffect_encode_fcc/source/annotation_enhancer_junke_zscore/lentiMPRA/lentiMPRA/merged_peak/merged_enhancer_peak_orientation_independent.bed.gz                                           |\n",
       "| LMPRA_Nadav    | LMPRA  | LMPRA_A   | merged_enhancer_peaks_in_either_orientation.bed.gz  | /data/reddylab/Kuei/out/proj_combeffect_encode_fcc/source/annotation_enhancer_junke_zscore/lentiMPRA/lentiMPRA/merged_peak/merged_enhancer_peaks_in_either_orientation.bed.gz                                            |\n",
       "| LMPRA_Nadav    | LMPRA  | LMPRA_R   | merged_repressor_peaks_in_either_orientation.bed.gz | /data/reddylab/Kuei/out/proj_combeffect_encode_fcc/source/annotation_enhancer_junke_zscore/lentiMPRA/lentiMPRA/merged_peak/merged_repressor_peaks_in_either_orientation.bed.gz                                           |\n",
       "\n"
      ],
      "text/plain": [
       "   Dataset        Assay_Type Assay_Label\n",
       "1  ASTARR_TR      ASTARR     ASTARR_AB  \n",
       "2  ASTARR_TR      ASTARR     ASTARR_A   \n",
       "3  ASTARR_TR      ASTARR     ASTARR_R   \n",
       "4  WSTARR_TR      WSTARR     WSTARR_AB  \n",
       "5  WSTARR_TR      WSTARR     WSTARR_A   \n",
       "6  WSTARR_TR      WSTARR     WSTARR_R   \n",
       "7  TMPRA_GATA_MYC TMPRA      TMPRA_A    \n",
       "8  TMPRA_GATA_MYC TMPRA      TMPRA_R    \n",
       "9  TMPRA_OL13     TMPRA      TMPRA_A    \n",
       "10 TMPRA_OL13     TMPRA      TMPRA_R    \n",
       "11 TMPRA_OL45     TMPRA      TMPRA_A    \n",
       "12 TMPRA_OL45     TMPRA      TMPRA_R    \n",
       "13 LMPRA_Nadav    LMPRA      LMPRA_AB   \n",
       "14 LMPRA_Nadav    LMPRA      LMPRA_A    \n",
       "15 LMPRA_Nadav    LMPRA      LMPRA_R    \n",
       "   Assay_FName                                        \n",
       "1  merged_enhancer_peak_orientation_independent.bed.gz\n",
       "2  merged_enhancer_peaks_in_either_orientation.bed.gz \n",
       "3  merged_repressor_peaks_in_either_orientation.bed.gz\n",
       "4  merged_enhancer_peak_orientation_independent.bed.gz\n",
       "5  merged_enhancer_peaks_in_either_orientation.bed.gz \n",
       "6  merged_repressor_peaks_in_either_orientation.bed.gz\n",
       "7  merged_enhancer_peaks_in_either_orientation.bed.gz \n",
       "8  merged_repressor_peaks_in_either_orientation.bed.gz\n",
       "9  merged_enhancer_peaks_in_either_orientation.bed.gz \n",
       "10 merged_repressor_peaks_in_either_orientation.bed.gz\n",
       "11 merged_enhancer_peaks_in_either_orientation.bed.gz \n",
       "12 merged_repressor_peaks_in_either_orientation.bed.gz\n",
       "13 merged_enhancer_peak_orientation_independent.bed.gz\n",
       "14 merged_enhancer_peaks_in_either_orientation.bed.gz \n",
       "15 merged_repressor_peaks_in_either_orientation.bed.gz\n",
       "   Assay_FPath                                                                                                                                                                                                             \n",
       "1  /data/reddylab/Kuei/out/proj_combeffect_encode_fcc/source/annotation_enhancer_junke_zscore/deep_ATAC_STARR_seq.genomic_bin_100_sliding_10/ATAC_STARR_seq/merged_peak/merged_enhancer_peak_orientation_independent.bed.gz\n",
       "2  /data/reddylab/Kuei/out/proj_combeffect_encode_fcc/source/annotation_enhancer_junke_zscore/deep_ATAC_STARR_seq.genomic_bin_100_sliding_10/ATAC_STARR_seq/merged_peak/merged_enhancer_peaks_in_either_orientation.bed.gz \n",
       "3  /data/reddylab/Kuei/out/proj_combeffect_encode_fcc/source/annotation_enhancer_junke_zscore/deep_ATAC_STARR_seq.genomic_bin_100_sliding_10/ATAC_STARR_seq/merged_peak/merged_repressor_peaks_in_either_orientation.bed.gz\n",
       "4  /data/reddylab/Kuei/out/proj_combeffect_encode_fcc/source/annotation_enhancer_junke_zscore/WHG_STARR_TR/WHG_STARR_TR/merged_peak/merged_enhancer_peak_orientation_independent.bed.gz                                    \n",
       "5  /data/reddylab/Kuei/out/proj_combeffect_encode_fcc/source/annotation_enhancer_junke_zscore/WHG_STARR_TR/WHG_STARR_TR/merged_peak/merged_enhancer_peaks_in_either_orientation.bed.gz                                     \n",
       "6  /data/reddylab/Kuei/out/proj_combeffect_encode_fcc/source/annotation_enhancer_junke_zscore/WHG_STARR_TR/WHG_STARR_TR/merged_peak/merged_repressor_peaks_in_either_orientation.bed.gz                                    \n",
       "7  /data/reddylab/Kuei/out/proj_combeffect_encode_fcc/source/annotation_enhancer_junke_zscore/tilingMPRA_MYC_GATA/tilingMPRA_MYC_GATA/merged_peak/merged_enhancer_peaks_in_either_orientation.bed.gz                       \n",
       "8  /data/reddylab/Kuei/out/proj_combeffect_encode_fcc/source/annotation_enhancer_junke_zscore/tilingMPRA_MYC_GATA/tilingMPRA_MYC_GATA/merged_peak/merged_repressor_peaks_in_either_orientation.bed.gz                      \n",
       "9  /data/reddylab/Kuei/out/proj_combeffect_encode_fcc/source/annotation_enhancer_junke_zscore/tilingMPRA_OL13/tilingMPRA_OL13/merged_peak/merged_enhancer_peaks_in_either_orientation.bed.gz                               \n",
       "10 /data/reddylab/Kuei/out/proj_combeffect_encode_fcc/source/annotation_enhancer_junke_zscore/tilingMPRA_OL13/tilingMPRA_OL13/merged_peak/merged_repressor_peaks_in_either_orientation.bed.gz                              \n",
       "11 /data/reddylab/Kuei/out/proj_combeffect_encode_fcc/source/annotation_enhancer_junke_zscore/tilingMPRA_OL45/tilingMPRA_OL45/merged_peak/merged_enhancer_peaks_in_either_orientation.bed.gz                               \n",
       "12 /data/reddylab/Kuei/out/proj_combeffect_encode_fcc/source/annotation_enhancer_junke_zscore/tilingMPRA_OL45/tilingMPRA_OL45/merged_peak/merged_repressor_peaks_in_either_orientation.bed.gz                              \n",
       "13 /data/reddylab/Kuei/out/proj_combeffect_encode_fcc/source/annotation_enhancer_junke_zscore/lentiMPRA/lentiMPRA/merged_peak/merged_enhancer_peak_orientation_independent.bed.gz                                          \n",
       "14 /data/reddylab/Kuei/out/proj_combeffect_encode_fcc/source/annotation_enhancer_junke_zscore/lentiMPRA/lentiMPRA/merged_peak/merged_enhancer_peaks_in_either_orientation.bed.gz                                           \n",
       "15 /data/reddylab/Kuei/out/proj_combeffect_encode_fcc/source/annotation_enhancer_junke_zscore/lentiMPRA/lentiMPRA/merged_peak/merged_repressor_peaks_in_either_orientation.bed.gz                                          "
      ]
     },
     "metadata": {},
     "output_type": "display_data"
    }
   ],
   "source": [
    "lst = lapply(assays_data, function(assay_data){\n",
    "    ### get the assay info\n",
    "    assay_folder = assays_folder[assay_data]\n",
    "    assay_type   = assays_type[assay_data]\n",
    "    \n",
    "    lst = lapply(names(fnames), function(idn_fname){\n",
    "        ### setup the file label\n",
    "        assay_fname = fnames[idn_fname]\n",
    "        assay_label = paste(assay_type, idn_fname, sep=\"_\")\n",
    "        \n",
    "        ### get the file path\n",
    "        fglob = file.path(fdiry, assay_folder, \"*\", \"*\", assay_fname)\n",
    "        fpath = Sys.glob(fglob)\n",
    "        \n",
    "        ### return the label-file path mapping\n",
    "        if (!rlang::is_empty(fpath)) {\n",
    "            res = c(assay_data, assay_type, assay_label, fpath)\n",
    "            names(res) = c(\"Dataset\", \"Assay_Type\", \"Assay_Label\", \"Assay_FPath\")\n",
    "            return(res)\n",
    "        }\n",
    "    })\n",
    "    dat = bind_rows(lst)\n",
    "    return(dat)\n",
    "})\n",
    "\n",
    "dat = bind_rows(lst)\n",
    "dat = dat %>% \n",
    "    dplyr::mutate(Assay_FName = basename(Assay_FPath)) %>%\n",
    "    dplyr::select(Dataset, Assay_Type, Assay_Label, Assay_FName, Assay_FPath)\n",
    "lst = split(dat, dat$Assay_FPath)\n",
    "\n",
    "### assign and show\n",
    "lst_finfo = lst\n",
    "vec_fpath = names(lst)\n",
    "dat"
   ]
  },
  {
   "cell_type": "markdown",
   "metadata": {},
   "source": [
    "**Test loop**"
   ]
  },
  {
   "cell_type": "code",
   "execution_count": 11,
   "metadata": {},
   "outputs": [
    {
     "name": "stdout",
     "output_type": "stream",
     "text": [
      "[1] \"/data/reddylab/Kuei/out/proj_combeffect_encode_fcc/source/annotation_enhancer_junke_zscore/deep_ATAC_STARR_seq.genomic_bin_100_sliding_10/ATAC_STARR_seq/merged_peak/merged_enhancer_peak_orientation_independent.bed.gz\"\n",
      "[1] \"ASTARR_TR\"\n",
      "================\n",
      "\n",
      "[1] \"/data/reddylab/Kuei/out/proj_combeffect_encode_fcc/source/annotation_enhancer_junke_zscore/deep_ATAC_STARR_seq.genomic_bin_100_sliding_10/ATAC_STARR_seq/merged_peak/merged_enhancer_peaks_in_either_orientation.bed.gz\"\n",
      "[1] \"ASTARR_TR\"\n",
      "================\n",
      "\n",
      "[1] \"/data/reddylab/Kuei/out/proj_combeffect_encode_fcc/source/annotation_enhancer_junke_zscore/deep_ATAC_STARR_seq.genomic_bin_100_sliding_10/ATAC_STARR_seq/merged_peak/merged_repressor_peaks_in_either_orientation.bed.gz\"\n",
      "[1] \"ASTARR_TR\"\n",
      "================\n",
      "\n",
      "[1] \"/data/reddylab/Kuei/out/proj_combeffect_encode_fcc/source/annotation_enhancer_junke_zscore/lentiMPRA/lentiMPRA/merged_peak/merged_enhancer_peak_orientation_independent.bed.gz\"\n",
      "[1] \"LMPRA_Nadav\"\n",
      "================\n",
      "\n",
      "[1] \"/data/reddylab/Kuei/out/proj_combeffect_encode_fcc/source/annotation_enhancer_junke_zscore/lentiMPRA/lentiMPRA/merged_peak/merged_enhancer_peaks_in_either_orientation.bed.gz\"\n",
      "[1] \"LMPRA_Nadav\"\n",
      "================\n",
      "\n",
      "[1] \"/data/reddylab/Kuei/out/proj_combeffect_encode_fcc/source/annotation_enhancer_junke_zscore/lentiMPRA/lentiMPRA/merged_peak/merged_repressor_peaks_in_either_orientation.bed.gz\"\n",
      "[1] \"LMPRA_Nadav\"\n",
      "================\n",
      "\n",
      "[1] \"/data/reddylab/Kuei/out/proj_combeffect_encode_fcc/source/annotation_enhancer_junke_zscore/tilingMPRA_MYC_GATA/tilingMPRA_MYC_GATA/merged_peak/merged_enhancer_peaks_in_either_orientation.bed.gz\"\n",
      "[1] \"TMPRA_GATA_MYC\"\n",
      "================\n",
      "\n",
      "[1] \"/data/reddylab/Kuei/out/proj_combeffect_encode_fcc/source/annotation_enhancer_junke_zscore/tilingMPRA_MYC_GATA/tilingMPRA_MYC_GATA/merged_peak/merged_repressor_peaks_in_either_orientation.bed.gz\"\n",
      "[1] \"TMPRA_GATA_MYC\"\n",
      "================\n",
      "\n",
      "[1] \"/data/reddylab/Kuei/out/proj_combeffect_encode_fcc/source/annotation_enhancer_junke_zscore/tilingMPRA_OL13/tilingMPRA_OL13/merged_peak/merged_enhancer_peaks_in_either_orientation.bed.gz\"\n",
      "[1] \"TMPRA_OL13\"\n",
      "================\n",
      "\n",
      "[1] \"/data/reddylab/Kuei/out/proj_combeffect_encode_fcc/source/annotation_enhancer_junke_zscore/tilingMPRA_OL13/tilingMPRA_OL13/merged_peak/merged_repressor_peaks_in_either_orientation.bed.gz\"\n",
      "[1] \"TMPRA_OL13\"\n",
      "================\n",
      "\n",
      "[1] \"/data/reddylab/Kuei/out/proj_combeffect_encode_fcc/source/annotation_enhancer_junke_zscore/tilingMPRA_OL45/tilingMPRA_OL45/merged_peak/merged_enhancer_peaks_in_either_orientation.bed.gz\"\n",
      "[1] \"TMPRA_OL45\"\n",
      "================\n",
      "\n",
      "[1] \"/data/reddylab/Kuei/out/proj_combeffect_encode_fcc/source/annotation_enhancer_junke_zscore/tilingMPRA_OL45/tilingMPRA_OL45/merged_peak/merged_repressor_peaks_in_either_orientation.bed.gz\"\n",
      "[1] \"TMPRA_OL45\"\n",
      "================\n",
      "\n",
      "[1] \"/data/reddylab/Kuei/out/proj_combeffect_encode_fcc/source/annotation_enhancer_junke_zscore/WHG_STARR_TR/WHG_STARR_TR/merged_peak/merged_enhancer_peak_orientation_independent.bed.gz\"\n",
      "[1] \"WSTARR_TR\"\n",
      "================\n",
      "\n",
      "[1] \"/data/reddylab/Kuei/out/proj_combeffect_encode_fcc/source/annotation_enhancer_junke_zscore/WHG_STARR_TR/WHG_STARR_TR/merged_peak/merged_enhancer_peaks_in_either_orientation.bed.gz\"\n",
      "[1] \"WSTARR_TR\"\n",
      "================\n",
      "\n",
      "[1] \"/data/reddylab/Kuei/out/proj_combeffect_encode_fcc/source/annotation_enhancer_junke_zscore/WHG_STARR_TR/WHG_STARR_TR/merged_peak/merged_repressor_peaks_in_either_orientation.bed.gz\"\n",
      "[1] \"WSTARR_TR\"\n",
      "================\n",
      "\n"
     ]
    }
   ],
   "source": [
    "for (fpath in vec_fpath){\n",
    "    vec = lst_finfo[[fpath]]\n",
    "    print(fpath)\n",
    "    print(vec$Dataset)\n",
    "    cat(\"================\\n\\n\")\n",
    "}"
   ]
  },
  {
   "cell_type": "markdown",
   "metadata": {},
   "source": [
    "**Read tables**"
   ]
  },
  {
   "cell_type": "code",
   "execution_count": 12,
   "metadata": {},
   "outputs": [
    {
     "name": "stdout",
     "output_type": "stream",
     "text": [
      "[1] 15\n",
      "\n",
      "===========================\n",
      "/data/reddylab/Kuei/out/proj_combeffect_encode_fcc/source/annotation_enhancer_junke_zscore/deep_ATAC_STARR_seq.genomic_bin_100_sliding_10/ATAC_STARR_seq/merged_peak/merged_enhancer_peak_orientation_independent.bed.gz \n",
      "\n",
      "ASTARR_TR \n",
      "\n",
      " chr1 chr10 chr11 chr12 chr13 chr14 chr15 chr16 chr17 chr18 chr19  chr2 chr20 \n",
      "  293   135   146   126    50    67    80    82   104    49   104   439    68 \n",
      "chr21 chr22  chr3  chr4  chr5  chr6  chr7  chr8  chr9  chrX \n",
      "   37    41   158    93   259   192   333   113    88    66 \n",
      "\n",
      "===========================\n",
      "/data/reddylab/Kuei/out/proj_combeffect_encode_fcc/source/annotation_enhancer_junke_zscore/deep_ATAC_STARR_seq.genomic_bin_100_sliding_10/ATAC_STARR_seq/merged_peak/merged_enhancer_peaks_in_either_orientation.bed.gz \n",
      "\n",
      "ASTARR_TR \n",
      "\n",
      " chr1 chr10 chr11 chr12 chr13 chr14 chr15 chr16 chr17 chr18 chr19  chr2 chr20 \n",
      "  891   360   383   404   146   198   233   272   375   128   412  1179   196 \n",
      "chr21 chr22  chr3  chr4  chr5  chr6  chr7  chr8  chr9  chrX \n",
      "  119   148   436   313   772   562   979   343   270   249 \n",
      "\n",
      "===========================\n",
      "/data/reddylab/Kuei/out/proj_combeffect_encode_fcc/source/annotation_enhancer_junke_zscore/deep_ATAC_STARR_seq.genomic_bin_100_sliding_10/ATAC_STARR_seq/merged_peak/merged_repressor_peaks_in_either_orientation.bed.gz \n",
      "\n",
      "ASTARR_TR \n",
      "\n",
      "                   chr1  chr1_KI270706v1_random  chr1_KI270707v1_random \n",
      "                   1964                       3                       2 \n",
      " chr1_KI270709v1_random  chr1_KI270711v1_random  chr1_KI270713v1_random \n",
      "                      2                       2                       7 \n",
      " chr1_KI270714v1_random                   chr10                   chr11 \n",
      "                      5                     634                     970 \n",
      "                  chr12                   chr13                   chr14 \n",
      "                    772                     229                     474 \n",
      "chr14_GL000009v2_random chr14_GL000194v1_random chr14_KI270726v1_random \n",
      "                      2                      10                       1 \n",
      "                  chr15 chr15_KI270727v1_random                   chr16 \n",
      "                    507                       1                     994 \n",
      "chr16_KI270728v1_random                   chr17 chr17_GL000205v2_random \n",
      "                      2                    1195                      31 \n",
      "                  chr18                   chr19                    chr2 \n",
      "                    222                    1924                     791 \n",
      "                  chr20                   chr21                   chr22 \n",
      "                    529                     228                     845 \n",
      "chr22_KI270731v1_random chr22_KI270733v1_random                    chr3 \n",
      "                      1                      20                     781 \n",
      "                   chr4                    chr5                    chr6 \n",
      "                    499                     490                     837 \n",
      "                   chr7                    chr8                    chr9 \n",
      "                    810                     679                     883 \n",
      " chr9_KI270719v1_random                    chrM        chrUn_GL000195v1 \n",
      "                      2                       1                       7 \n",
      "       chrUn_GL000214v1        chrUn_GL000218v1        chrUn_GL000219v1 \n",
      "                      9                       5                      17 \n",
      "       chrUn_GL000220v1        chrUn_GL000224v1        chrUn_KI270330v1 \n",
      "                      9                      33                       1 \n",
      "       chrUn_KI270438v1        chrUn_KI270442v1        chrUn_KI270466v1 \n",
      "                      5                       1                       1 \n",
      "       chrUn_KI270467v1        chrUn_KI270742v1        chrUn_KI270743v1 \n",
      "                      2                      19                       1 \n",
      "       chrUn_KI270744v1        chrUn_KI270745v1        chrUn_KI270751v1 \n",
      "                     20                       1                       1 \n",
      "       chrUn_KI270754v1                    chrX \n",
      "                     13                     403 \n",
      "\n",
      "===========================\n",
      "/data/reddylab/Kuei/out/proj_combeffect_encode_fcc/source/annotation_enhancer_junke_zscore/lentiMPRA/lentiMPRA/merged_peak/merged_enhancer_peak_orientation_independent.bed.gz \n",
      "\n",
      "LMPRA_Nadav \n",
      "\n",
      "                chr1                chr10                chr11 \n",
      "                2031                 1233                 1478 \n",
      "               chr12                chr13                chr14 \n",
      "                1409                  488                  760 \n",
      "               chr15 chr15_KI270850v1_alt                chr16 \n",
      "                 868                    1                 1137 \n",
      "               chr17                chr18                chr19 \n",
      "                1345                  454                 1671 \n",
      "                chr2                chr20                chr21 \n",
      "                2039                  853                  333 \n",
      "               chr22                 chr3                 chr4 \n",
      "                 646                 1543                 1064 \n",
      "                chr5                 chr6                 chr7 \n",
      "                1218                 1634                 1434 \n",
      " chr7_KI270803v1_alt                 chr8                 chr9 \n",
      "                   3                 1109                 1048 \n",
      "                chrX                 chrY \n",
      "                 992                   11 \n",
      "\n",
      "===========================\n",
      "/data/reddylab/Kuei/out/proj_combeffect_encode_fcc/source/annotation_enhancer_junke_zscore/lentiMPRA/lentiMPRA/merged_peak/merged_enhancer_peaks_in_either_orientation.bed.gz \n",
      "\n",
      "LMPRA_Nadav \n",
      "\n",
      "                chr1                chr10                chr11 \n",
      "                5636                 1715                 2140 \n",
      "               chr12                chr13                chr14 \n",
      "                1905                  669                 1046 \n",
      "               chr15 chr15_KI270850v1_alt                chr16 \n",
      "                1197                    1                 1592 \n",
      "               chr17                chr18                chr19 \n",
      "                1864                  619                 2088 \n",
      "                chr2                chr20                chr21 \n",
      "                2920                 1230                  481 \n",
      "               chr22                 chr3                 chr4 \n",
      "                 877                 2157                 1481 \n",
      "                chr5                 chr6                 chr7 \n",
      "                1718                 2328                 2033 \n",
      " chr7_KI270803v1_alt                 chr8                 chr9 \n",
      "                   5                 1622                 1459 \n",
      "                chrX                 chrY \n",
      "                1408                   13 \n",
      "\n",
      "===========================\n",
      "/data/reddylab/Kuei/out/proj_combeffect_encode_fcc/source/annotation_enhancer_junke_zscore/lentiMPRA/lentiMPRA/merged_peak/merged_repressor_peaks_in_either_orientation.bed.gz \n",
      "\n",
      "LMPRA_Nadav \n",
      "\n",
      " chr1 chr10 chr11 chr12 chr13 chr14 chr15 chr16 chr17 chr18 chr19  chr2 chr20 \n",
      "  105    54   117    45    25    23    17   300    66    12    64   111    66 \n",
      "chr21 chr22  chr3  chr4  chr5  chr6  chr7  chr8  chr9  chrX \n",
      "    8    31    56    34    43    55    76    94    49    60 \n",
      "\n",
      "===========================\n",
      "/data/reddylab/Kuei/out/proj_combeffect_encode_fcc/source/annotation_enhancer_junke_zscore/tilingMPRA_MYC_GATA/tilingMPRA_MYC_GATA/merged_peak/merged_enhancer_peaks_in_either_orientation.bed.gz \n",
      "\n",
      "TMPRA_GATA_MYC \n",
      "\n",
      "chr8 chrX \n",
      "1007 1117 \n",
      "\n",
      "===========================\n",
      "/data/reddylab/Kuei/out/proj_combeffect_encode_fcc/source/annotation_enhancer_junke_zscore/tilingMPRA_MYC_GATA/tilingMPRA_MYC_GATA/merged_peak/merged_repressor_peaks_in_either_orientation.bed.gz \n",
      "\n",
      "TMPRA_GATA_MYC \n",
      "\n",
      "chr8 chrX \n",
      "  42   52 \n",
      "\n",
      "===========================\n",
      "/data/reddylab/Kuei/out/proj_combeffect_encode_fcc/source/annotation_enhancer_junke_zscore/tilingMPRA_OL13/tilingMPRA_OL13/merged_peak/merged_enhancer_peaks_in_either_orientation.bed.gz \n",
      "\n",
      "TMPRA_OL13 \n",
      "\n",
      "chr11 \n",
      "  136 \n",
      "\n",
      "===========================\n",
      "/data/reddylab/Kuei/out/proj_combeffect_encode_fcc/source/annotation_enhancer_junke_zscore/tilingMPRA_OL13/tilingMPRA_OL13/merged_peak/merged_repressor_peaks_in_either_orientation.bed.gz \n",
      "\n",
      "TMPRA_OL13 \n",
      "\n",
      "chr11 \n",
      "   94 \n",
      "\n",
      "===========================\n",
      "/data/reddylab/Kuei/out/proj_combeffect_encode_fcc/source/annotation_enhancer_junke_zscore/tilingMPRA_OL45/tilingMPRA_OL45/merged_peak/merged_enhancer_peaks_in_either_orientation.bed.gz \n",
      "\n",
      "TMPRA_OL45 \n",
      "\n",
      "chr11 chr16  chr2 chr20 \n",
      " 1471   773   694   868 \n",
      "\n",
      "===========================\n",
      "/data/reddylab/Kuei/out/proj_combeffect_encode_fcc/source/annotation_enhancer_junke_zscore/tilingMPRA_OL45/tilingMPRA_OL45/merged_peak/merged_repressor_peaks_in_either_orientation.bed.gz \n",
      "\n",
      "TMPRA_OL45 \n",
      "\n",
      "chr11 chr16  chr2 chr20 \n",
      "   30     9    20    12 \n",
      "\n",
      "===========================\n",
      "/data/reddylab/Kuei/out/proj_combeffect_encode_fcc/source/annotation_enhancer_junke_zscore/WHG_STARR_TR/WHG_STARR_TR/merged_peak/merged_enhancer_peak_orientation_independent.bed.gz \n",
      "\n",
      "WSTARR_TR \n",
      "\n",
      " chr1 chr10 chr11 chr12 chr13 chr14 chr15 chr16 chr17 chr18 chr19  chr2 chr20 \n",
      " 2127  1217  1269  1206   581   794   735  1044  1193   582  1396  1775   708 \n",
      "chr21 chr22  chr3  chr4  chr5  chr6  chr7  chr8  chr9  chrX \n",
      "  288   585  1478  1199  1340  1417  1288  1179  1041  1063 \n",
      "\n",
      "===========================\n",
      "/data/reddylab/Kuei/out/proj_combeffect_encode_fcc/source/annotation_enhancer_junke_zscore/WHG_STARR_TR/WHG_STARR_TR/merged_peak/merged_enhancer_peaks_in_either_orientation.bed.gz \n",
      "\n",
      "WSTARR_TR \n",
      "\n",
      " chr1 chr10 chr11 chr12 chr13 chr14 chr15 chr16 chr17 chr18 chr19  chr2 chr20 \n",
      " 6846  3688  4101  3711  1968  2428  2371  3429  3898  1659  4149  5621  2394 \n",
      "chr21 chr22  chr3  chr4  chr5  chr6  chr7  chr8  chr9  chrM  chrX \n",
      " 1060  2063  4340  3614  3924  4062  4124  3720  3477     4  3087 \n",
      "\n",
      "===========================\n",
      "/data/reddylab/Kuei/out/proj_combeffect_encode_fcc/source/annotation_enhancer_junke_zscore/WHG_STARR_TR/WHG_STARR_TR/merged_peak/merged_repressor_peaks_in_either_orientation.bed.gz \n",
      "\n",
      "WSTARR_TR \n",
      "\n",
      " chr1 chr10 chr11 chr12 chr13 chr14 chr15 chr16 chr17 chr18 chr19  chr2 chr20 \n",
      " 5709  3060  3137  3027  1563  1927  2125  2179  2487  1448  2150  4853  1939 \n",
      "chr21 chr22  chr3  chr4  chr5  chr6  chr7  chr8  chr9  chrM  chrX \n",
      "  738  1229  3866  2857  3303  3391  3144  2838  2460    20  2751 \n"
     ]
    }
   ],
   "source": [
    "### init\n",
    "cnames = c(\n",
    "    \"Seqnames\",\n",
    "    \"Start\",\n",
    "    \"End\",\n",
    "    \"Name\",\n",
    "    \"Mean logFC across all the bins\",\n",
    "    \"Strand\",\n",
    "    \"Z_score based on mean logFC\",\n",
    "    \"List of all logFCs\",\n",
    "    \"Summit seqnames\",\n",
    "    \"Summit start\",\n",
    "    \"Summit end\",\n",
    "    \"Summit logFC\",\n",
    "    \"Summit z-score\",\n",
    "    \"Peak size\"\n",
    ")\n",
    "\n",
    "### import data\n",
    "lst = lapply(vec_fpath, function(fpath){\n",
    "    vec = lst_finfo[[fpath]]\n",
    "    dat = read_tsv(fpath, col_names = cnames, show_col_types = FALSE)\n",
    "    dat = dat %>% \n",
    "        dplyr::mutate(\n",
    "            Seqnames = str_replace(Seqnames, \"chrchr\", \"chr\"),\n",
    "            Assay_Type  = vec$Assay_Type,\n",
    "            Assay_Label = vec$Assay_Label,\n",
    "            Dataset     = vec$Dataset\n",
    "        )\n",
    "    return(dat)\n",
    "})\n",
    "\n",
    "### assign and show\n",
    "lst_dat_import = lst\n",
    "print(length(lst))\n",
    "\n",
    "for (idx in seq_along(vec_fpath)){\n",
    "    fpath = vec_fpath[idx]\n",
    "    dat   = lst[[idx]]\n",
    "    \n",
    "    cat(\"\\n===========================\\n\")\n",
    "    cat(fpath, \"\\n\")\n",
    "    cat(\"\\n\")\n",
    "    cat(unique(dat$Dataset), \"\\n\")\n",
    "    print(table(dat$Seqnames))\n",
    "}"
   ]
  },
  {
   "cell_type": "markdown",
   "metadata": {},
   "source": [
    "## Arrange"
   ]
  },
  {
   "cell_type": "markdown",
   "metadata": {},
   "source": [
    "**View**"
   ]
  },
  {
   "cell_type": "code",
   "execution_count": 13,
   "metadata": {},
   "outputs": [
    {
     "data": {
      "text/html": [
       "<table class=\"dataframe\">\n",
       "<caption>A tibble: 6 × 16</caption>\n",
       "<thead>\n",
       "\t<tr><th scope=col>Seqnames</th><th scope=col>Start</th><th scope=col>End</th><th scope=col>Name</th><th scope=col>Mean logFC across all the bins</th><th scope=col>Strand</th><th scope=col>Z_score based on mean logFC</th><th scope=col>Summit seqnames</th><th scope=col>Summit start</th><th scope=col>Summit end</th><th scope=col>Summit logFC</th><th scope=col>Summit z-score</th><th scope=col>Peak size</th><th scope=col>Assay_Type</th><th scope=col>Assay_Label</th><th scope=col>Dataset</th></tr>\n",
       "\t<tr><th scope=col>&lt;chr&gt;</th><th scope=col>&lt;dbl&gt;</th><th scope=col>&lt;dbl&gt;</th><th scope=col>&lt;chr&gt;</th><th scope=col>&lt;dbl&gt;</th><th scope=col>&lt;chr&gt;</th><th scope=col>&lt;dbl&gt;</th><th scope=col>&lt;chr&gt;</th><th scope=col>&lt;dbl&gt;</th><th scope=col>&lt;dbl&gt;</th><th scope=col>&lt;dbl&gt;</th><th scope=col>&lt;dbl&gt;</th><th scope=col>&lt;dbl&gt;</th><th scope=col>&lt;chr&gt;</th><th scope=col>&lt;chr&gt;</th><th scope=col>&lt;chr&gt;</th></tr>\n",
       "</thead>\n",
       "<tbody>\n",
       "\t<tr><td>chr1</td><td>1013020</td><td>1013470</td><td>peak_both_1</td><td>2.658360</td><td>.</td><td>2.181596</td><td>chr1</td><td>1013360</td><td>1013460</td><td>2.892628</td><td>2.346891</td><td>450</td><td>ASTARR</td><td>ASTARR_AB</td><td>ASTARR_TR</td></tr>\n",
       "\t<tr><td>chr1</td><td>1724540</td><td>1724700</td><td>peak_both_2</td><td>2.619779</td><td>.</td><td>2.154374</td><td>chr1</td><td>1724570</td><td>1724670</td><td>2.798618</td><td>2.280560</td><td>160</td><td>ASTARR</td><td>ASTARR_AB</td><td>ASTARR_TR</td></tr>\n",
       "\t<tr><td>chr1</td><td>2290700</td><td>2291030</td><td>peak_both_3</td><td>2.951714</td><td>.</td><td>2.388582</td><td>chr1</td><td>2290810</td><td>2290910</td><td>3.366537</td><td>2.681274</td><td>330</td><td>ASTARR</td><td>ASTARR_AB</td><td>ASTARR_TR</td></tr>\n",
       "\t<tr><td>chr1</td><td>3313260</td><td>3313400</td><td>peak_both_4</td><td>2.655312</td><td>.</td><td>2.179446</td><td>chr1</td><td>3313270</td><td>3313370</td><td>2.705816</td><td>2.215080</td><td>140</td><td>ASTARR</td><td>ASTARR_AB</td><td>ASTARR_TR</td></tr>\n",
       "\t<tr><td>chr1</td><td>5856530</td><td>5856630</td><td>peak_both_5</td><td>2.396075</td><td>.</td><td>1.996532</td><td>chr1</td><td>5856530</td><td>5856630</td><td>2.396075</td><td>1.996532</td><td>100</td><td>ASTARR</td><td>ASTARR_AB</td><td>ASTARR_TR</td></tr>\n",
       "\t<tr><td>chr1</td><td>5917710</td><td>5917930</td><td>peak_both_6</td><td>2.640920</td><td>.</td><td>2.169290</td><td>chr1</td><td>5917760</td><td>5917860</td><td>2.806423</td><td>2.286066</td><td>220</td><td>ASTARR</td><td>ASTARR_AB</td><td>ASTARR_TR</td></tr>\n",
       "</tbody>\n",
       "</table>\n"
      ],
      "text/latex": [
       "A tibble: 6 × 16\n",
       "\\begin{tabular}{llllllllllllllll}\n",
       " Seqnames & Start & End & Name & Mean logFC across all the bins & Strand & Z\\_score based on mean logFC & Summit seqnames & Summit start & Summit end & Summit logFC & Summit z-score & Peak size & Assay\\_Type & Assay\\_Label & Dataset\\\\\n",
       " <chr> & <dbl> & <dbl> & <chr> & <dbl> & <chr> & <dbl> & <chr> & <dbl> & <dbl> & <dbl> & <dbl> & <dbl> & <chr> & <chr> & <chr>\\\\\n",
       "\\hline\n",
       "\t chr1 & 1013020 & 1013470 & peak\\_both\\_1 & 2.658360 & . & 2.181596 & chr1 & 1013360 & 1013460 & 2.892628 & 2.346891 & 450 & ASTARR & ASTARR\\_AB & ASTARR\\_TR\\\\\n",
       "\t chr1 & 1724540 & 1724700 & peak\\_both\\_2 & 2.619779 & . & 2.154374 & chr1 & 1724570 & 1724670 & 2.798618 & 2.280560 & 160 & ASTARR & ASTARR\\_AB & ASTARR\\_TR\\\\\n",
       "\t chr1 & 2290700 & 2291030 & peak\\_both\\_3 & 2.951714 & . & 2.388582 & chr1 & 2290810 & 2290910 & 3.366537 & 2.681274 & 330 & ASTARR & ASTARR\\_AB & ASTARR\\_TR\\\\\n",
       "\t chr1 & 3313260 & 3313400 & peak\\_both\\_4 & 2.655312 & . & 2.179446 & chr1 & 3313270 & 3313370 & 2.705816 & 2.215080 & 140 & ASTARR & ASTARR\\_AB & ASTARR\\_TR\\\\\n",
       "\t chr1 & 5856530 & 5856630 & peak\\_both\\_5 & 2.396075 & . & 1.996532 & chr1 & 5856530 & 5856630 & 2.396075 & 1.996532 & 100 & ASTARR & ASTARR\\_AB & ASTARR\\_TR\\\\\n",
       "\t chr1 & 5917710 & 5917930 & peak\\_both\\_6 & 2.640920 & . & 2.169290 & chr1 & 5917760 & 5917860 & 2.806423 & 2.286066 & 220 & ASTARR & ASTARR\\_AB & ASTARR\\_TR\\\\\n",
       "\\end{tabular}\n"
      ],
      "text/markdown": [
       "\n",
       "A tibble: 6 × 16\n",
       "\n",
       "| Seqnames &lt;chr&gt; | Start &lt;dbl&gt; | End &lt;dbl&gt; | Name &lt;chr&gt; | Mean logFC across all the bins &lt;dbl&gt; | Strand &lt;chr&gt; | Z_score based on mean logFC &lt;dbl&gt; | Summit seqnames &lt;chr&gt; | Summit start &lt;dbl&gt; | Summit end &lt;dbl&gt; | Summit logFC &lt;dbl&gt; | Summit z-score &lt;dbl&gt; | Peak size &lt;dbl&gt; | Assay_Type &lt;chr&gt; | Assay_Label &lt;chr&gt; | Dataset &lt;chr&gt; |\n",
       "|---|---|---|---|---|---|---|---|---|---|---|---|---|---|---|---|\n",
       "| chr1 | 1013020 | 1013470 | peak_both_1 | 2.658360 | . | 2.181596 | chr1 | 1013360 | 1013460 | 2.892628 | 2.346891 | 450 | ASTARR | ASTARR_AB | ASTARR_TR |\n",
       "| chr1 | 1724540 | 1724700 | peak_both_2 | 2.619779 | . | 2.154374 | chr1 | 1724570 | 1724670 | 2.798618 | 2.280560 | 160 | ASTARR | ASTARR_AB | ASTARR_TR |\n",
       "| chr1 | 2290700 | 2291030 | peak_both_3 | 2.951714 | . | 2.388582 | chr1 | 2290810 | 2290910 | 3.366537 | 2.681274 | 330 | ASTARR | ASTARR_AB | ASTARR_TR |\n",
       "| chr1 | 3313260 | 3313400 | peak_both_4 | 2.655312 | . | 2.179446 | chr1 | 3313270 | 3313370 | 2.705816 | 2.215080 | 140 | ASTARR | ASTARR_AB | ASTARR_TR |\n",
       "| chr1 | 5856530 | 5856630 | peak_both_5 | 2.396075 | . | 1.996532 | chr1 | 5856530 | 5856630 | 2.396075 | 1.996532 | 100 | ASTARR | ASTARR_AB | ASTARR_TR |\n",
       "| chr1 | 5917710 | 5917930 | peak_both_6 | 2.640920 | . | 2.169290 | chr1 | 5917760 | 5917860 | 2.806423 | 2.286066 | 220 | ASTARR | ASTARR_AB | ASTARR_TR |\n",
       "\n"
      ],
      "text/plain": [
       "  Seqnames Start   End     Name        Mean logFC across all the bins Strand\n",
       "1 chr1     1013020 1013470 peak_both_1 2.658360                       .     \n",
       "2 chr1     1724540 1724700 peak_both_2 2.619779                       .     \n",
       "3 chr1     2290700 2291030 peak_both_3 2.951714                       .     \n",
       "4 chr1     3313260 3313400 peak_both_4 2.655312                       .     \n",
       "5 chr1     5856530 5856630 peak_both_5 2.396075                       .     \n",
       "6 chr1     5917710 5917930 peak_both_6 2.640920                       .     \n",
       "  Z_score based on mean logFC Summit seqnames Summit start Summit end\n",
       "1 2.181596                    chr1            1013360      1013460   \n",
       "2 2.154374                    chr1            1724570      1724670   \n",
       "3 2.388582                    chr1            2290810      2290910   \n",
       "4 2.179446                    chr1            3313270      3313370   \n",
       "5 1.996532                    chr1            5856530      5856630   \n",
       "6 2.169290                    chr1            5917760      5917860   \n",
       "  Summit logFC Summit z-score Peak size Assay_Type Assay_Label Dataset  \n",
       "1 2.892628     2.346891       450       ASTARR     ASTARR_AB   ASTARR_TR\n",
       "2 2.798618     2.280560       160       ASTARR     ASTARR_AB   ASTARR_TR\n",
       "3 3.366537     2.681274       330       ASTARR     ASTARR_AB   ASTARR_TR\n",
       "4 2.705816     2.215080       140       ASTARR     ASTARR_AB   ASTARR_TR\n",
       "5 2.396075     1.996532       100       ASTARR     ASTARR_AB   ASTARR_TR\n",
       "6 2.806423     2.286066       220       ASTARR     ASTARR_AB   ASTARR_TR"
      ]
     },
     "metadata": {},
     "output_type": "display_data"
    }
   ],
   "source": [
    "lst = lst_dat_import\n",
    "lst = lapply(lst, function(dat){\n",
    "    dat = dat %>% dplyr::select(-`List of all logFCs`)\n",
    "    return(dat)\n",
    "})\n",
    "head(lst[[1]])"
   ]
  },
  {
   "cell_type": "markdown",
   "metadata": {},
   "source": [
    "**Select and rename**"
   ]
  },
  {
   "cell_type": "code",
   "execution_count": 14,
   "metadata": {},
   "outputs": [
    {
     "name": "stdout",
     "output_type": "stream",
     "text": [
      "\u001b[90m# A tibble: 3 × 9\u001b[39m\n",
      "  Chrom   Start     End Name        Score Strand Assay_Type Assay_Label Dataset \n",
      "  \u001b[3m\u001b[90m<chr>\u001b[39m\u001b[23m   \u001b[3m\u001b[90m<dbl>\u001b[39m\u001b[23m   \u001b[3m\u001b[90m<dbl>\u001b[39m\u001b[23m \u001b[3m\u001b[90m<chr>\u001b[39m\u001b[23m       \u001b[3m\u001b[90m<dbl>\u001b[39m\u001b[23m \u001b[3m\u001b[90m<chr>\u001b[39m\u001b[23m  \u001b[3m\u001b[90m<chr>\u001b[39m\u001b[23m      \u001b[3m\u001b[90m<chr>\u001b[39m\u001b[23m       \u001b[3m\u001b[90m<chr>\u001b[39m\u001b[23m   \n",
      "\u001b[90m1\u001b[39m chr1  1\u001b[4m0\u001b[24m\u001b[4m1\u001b[24m\u001b[4m3\u001b[24m020 1\u001b[4m0\u001b[24m\u001b[4m1\u001b[24m\u001b[4m3\u001b[24m470 peak_both_1  2.18 .      ASTARR     ASTARR_AB   ASTARR_…\n",
      "\u001b[90m2\u001b[39m chr1  1\u001b[4m7\u001b[24m\u001b[4m2\u001b[24m\u001b[4m4\u001b[24m540 1\u001b[4m7\u001b[24m\u001b[4m2\u001b[24m\u001b[4m4\u001b[24m700 peak_both_2  2.15 .      ASTARR     ASTARR_AB   ASTARR_…\n",
      "\u001b[90m3\u001b[39m chr1  2\u001b[4m2\u001b[24m\u001b[4m9\u001b[24m\u001b[4m0\u001b[24m700 2\u001b[4m2\u001b[24m\u001b[4m9\u001b[24m\u001b[4m1\u001b[24m030 peak_both_3  2.39 .      ASTARR     ASTARR_AB   ASTARR_…\n",
      "\n",
      "\u001b[90m# A tibble: 3 × 9\u001b[39m\n",
      "  Chrom   Start     End Name  Score Strand Assay_Type Assay_Label Dataset  \n",
      "  \u001b[3m\u001b[90m<chr>\u001b[39m\u001b[23m   \u001b[3m\u001b[90m<dbl>\u001b[39m\u001b[23m   \u001b[3m\u001b[90m<dbl>\u001b[39m\u001b[23m \u001b[3m\u001b[90m<chr>\u001b[39m\u001b[23m \u001b[3m\u001b[90m<dbl>\u001b[39m\u001b[23m \u001b[3m\u001b[90m<chr>\u001b[39m\u001b[23m  \u001b[3m\u001b[90m<chr>\u001b[39m\u001b[23m      \u001b[3m\u001b[90m<chr>\u001b[39m\u001b[23m       \u001b[3m\u001b[90m<chr>\u001b[39m\u001b[23m    \n",
      "\u001b[90m1\u001b[39m chr1   \u001b[4m7\u001b[24m\u001b[4m7\u001b[24m\u001b[4m8\u001b[24m720  \u001b[4m7\u001b[24m\u001b[4m7\u001b[24m\u001b[4m8\u001b[24m830 peak1  2.01 .      ASTARR     ASTARR_A    ASTARR_TR\n",
      "\u001b[90m2\u001b[39m chr1  1\u001b[4m0\u001b[24m\u001b[4m1\u001b[24m\u001b[4m3\u001b[24m010 1\u001b[4m0\u001b[24m\u001b[4m1\u001b[24m\u001b[4m3\u001b[24m570 peak2  2.16 .      ASTARR     ASTARR_A    ASTARR_TR\n",
      "\u001b[90m3\u001b[39m chr1  1\u001b[4m0\u001b[24m\u001b[4m6\u001b[24m\u001b[4m4\u001b[24m280 1\u001b[4m0\u001b[24m\u001b[4m6\u001b[24m\u001b[4m4\u001b[24m450 peak3  2.20 .      ASTARR     ASTARR_A    ASTARR_TR\n",
      "\n",
      "\u001b[90m# A tibble: 3 × 9\u001b[39m\n",
      "  Chrom  Start    End Name  Score Strand Assay_Type Assay_Label Dataset  \n",
      "  \u001b[3m\u001b[90m<chr>\u001b[39m\u001b[23m  \u001b[3m\u001b[90m<dbl>\u001b[39m\u001b[23m  \u001b[3m\u001b[90m<dbl>\u001b[39m\u001b[23m \u001b[3m\u001b[90m<chr>\u001b[39m\u001b[23m \u001b[3m\u001b[90m<dbl>\u001b[39m\u001b[23m \u001b[3m\u001b[90m<chr>\u001b[39m\u001b[23m  \u001b[3m\u001b[90m<chr>\u001b[39m\u001b[23m      \u001b[3m\u001b[90m<chr>\u001b[39m\u001b[23m       \u001b[3m\u001b[90m<chr>\u001b[39m\u001b[23m    \n",
      "\u001b[90m1\u001b[39m chr1  \u001b[4m1\u001b[24m\u001b[4m3\u001b[24m\u001b[4m6\u001b[24m520 \u001b[4m1\u001b[24m\u001b[4m3\u001b[24m\u001b[4m6\u001b[24m950 peak1 -\u001b[31m1\u001b[39m\u001b[31m.\u001b[39m\u001b[31m60\u001b[39m .      ASTARR     ASTARR_R    ASTARR_TR\n",
      "\u001b[90m2\u001b[39m chr1  \u001b[4m1\u001b[24m\u001b[4m3\u001b[24m\u001b[4m7\u001b[24m050 \u001b[4m1\u001b[24m\u001b[4m3\u001b[24m\u001b[4m7\u001b[24m150 peak2 -\u001b[31m1\u001b[39m\u001b[31m.\u001b[39m\u001b[31m41\u001b[39m .      ASTARR     ASTARR_R    ASTARR_TR\n",
      "\u001b[90m3\u001b[39m chr1  \u001b[4m1\u001b[24m\u001b[4m8\u001b[24m\u001b[4m1\u001b[24m600 \u001b[4m1\u001b[24m\u001b[4m8\u001b[24m\u001b[4m1\u001b[24m790 peak3 -\u001b[31m1\u001b[39m\u001b[31m.\u001b[39m\u001b[31m91\u001b[39m .      ASTARR     ASTARR_R    ASTARR_TR\n",
      "\n",
      "\u001b[90m# A tibble: 3 × 9\u001b[39m\n",
      "  Chrom  Start    End Name        Score Strand Assay_Type Assay_Label Dataset   \n",
      "  \u001b[3m\u001b[90m<chr>\u001b[39m\u001b[23m  \u001b[3m\u001b[90m<dbl>\u001b[39m\u001b[23m  \u001b[3m\u001b[90m<dbl>\u001b[39m\u001b[23m \u001b[3m\u001b[90m<chr>\u001b[39m\u001b[23m       \u001b[3m\u001b[90m<dbl>\u001b[39m\u001b[23m \u001b[3m\u001b[90m<chr>\u001b[39m\u001b[23m  \u001b[3m\u001b[90m<chr>\u001b[39m\u001b[23m      \u001b[3m\u001b[90m<chr>\u001b[39m\u001b[23m       \u001b[3m\u001b[90m<chr>\u001b[39m\u001b[23m     \n",
      "\u001b[90m1\u001b[39m chr1  \u001b[4m9\u001b[24m\u001b[4m0\u001b[24m\u001b[4m4\u001b[24m350 \u001b[4m9\u001b[24m\u001b[4m0\u001b[24m\u001b[4m4\u001b[24m550 peak_both_1  2.49 .      LMPRA      LMPRA_AB    LMPRA_Nad…\n",
      "\u001b[90m2\u001b[39m chr1  \u001b[4m9\u001b[24m\u001b[4m4\u001b[24m\u001b[4m1\u001b[24m699 \u001b[4m9\u001b[24m\u001b[4m4\u001b[24m\u001b[4m1\u001b[24m899 peak_both_2  2.23 .      LMPRA      LMPRA_AB    LMPRA_Nad…\n",
      "\u001b[90m3\u001b[39m chr1  \u001b[4m9\u001b[24m\u001b[4m5\u001b[24m\u001b[4m9\u001b[24m200 \u001b[4m9\u001b[24m\u001b[4m5\u001b[24m\u001b[4m9\u001b[24m400 peak_both_3  4.69 .      LMPRA      LMPRA_AB    LMPRA_Nad…\n",
      "\n",
      "\u001b[90m# A tibble: 3 × 9\u001b[39m\n",
      "  Chrom  Start    End Name  Score Strand Assay_Type Assay_Label Dataset    \n",
      "  \u001b[3m\u001b[90m<chr>\u001b[39m\u001b[23m  \u001b[3m\u001b[90m<dbl>\u001b[39m\u001b[23m  \u001b[3m\u001b[90m<dbl>\u001b[39m\u001b[23m \u001b[3m\u001b[90m<chr>\u001b[39m\u001b[23m \u001b[3m\u001b[90m<dbl>\u001b[39m\u001b[23m \u001b[3m\u001b[90m<chr>\u001b[39m\u001b[23m  \u001b[3m\u001b[90m<chr>\u001b[39m\u001b[23m      \u001b[3m\u001b[90m<chr>\u001b[39m\u001b[23m       \u001b[3m\u001b[90m<chr>\u001b[39m\u001b[23m      \n",
      "\u001b[90m1\u001b[39m chr1  \u001b[4m2\u001b[24m\u001b[4m0\u001b[24m\u001b[4m3\u001b[24m225 \u001b[4m2\u001b[24m\u001b[4m0\u001b[24m\u001b[4m3\u001b[24m425 peak1  2.02 .      LMPRA      LMPRA_A     LMPRA_Nadav\n",
      "\u001b[90m2\u001b[39m chr1  \u001b[4m7\u001b[24m\u001b[4m7\u001b[24m\u001b[4m8\u001b[24m638 \u001b[4m7\u001b[24m\u001b[4m7\u001b[24m\u001b[4m8\u001b[24m838 peak2  6.21 .      LMPRA      LMPRA_A     LMPRA_Nadav\n",
      "\u001b[90m3\u001b[39m chr1  \u001b[4m8\u001b[24m\u001b[4m2\u001b[24m\u001b[4m7\u001b[24m431 \u001b[4m8\u001b[24m\u001b[4m2\u001b[24m\u001b[4m7\u001b[24m631 peak3  7.12 .      LMPRA      LMPRA_A     LMPRA_Nadav\n",
      "\n",
      "\u001b[90m# A tibble: 3 × 9\u001b[39m\n",
      "  Chrom   Start     End Name  Score Strand Assay_Type Assay_Label Dataset    \n",
      "  \u001b[3m\u001b[90m<chr>\u001b[39m\u001b[23m   \u001b[3m\u001b[90m<dbl>\u001b[39m\u001b[23m   \u001b[3m\u001b[90m<dbl>\u001b[39m\u001b[23m \u001b[3m\u001b[90m<chr>\u001b[39m\u001b[23m \u001b[3m\u001b[90m<dbl>\u001b[39m\u001b[23m \u001b[3m\u001b[90m<chr>\u001b[39m\u001b[23m  \u001b[3m\u001b[90m<chr>\u001b[39m\u001b[23m      \u001b[3m\u001b[90m<chr>\u001b[39m\u001b[23m       \u001b[3m\u001b[90m<chr>\u001b[39m\u001b[23m      \n",
      "\u001b[90m1\u001b[39m chr1  1\u001b[4m0\u001b[24m\u001b[4m0\u001b[24m\u001b[4m5\u001b[24m270 1\u001b[4m0\u001b[24m\u001b[4m0\u001b[24m\u001b[4m5\u001b[24m470 peak1 -\u001b[31m1\u001b[39m\u001b[31m.\u001b[39m\u001b[31m99\u001b[39m .      LMPRA      LMPRA_R     LMPRA_Nadav\n",
      "\u001b[90m2\u001b[39m chr1  1\u001b[4m0\u001b[24m\u001b[4m7\u001b[24m\u001b[4m9\u001b[24m756 1\u001b[4m0\u001b[24m\u001b[4m7\u001b[24m\u001b[4m9\u001b[24m956 peak2 -\u001b[31m3\u001b[39m\u001b[31m.\u001b[39m\u001b[31m10\u001b[39m .      LMPRA      LMPRA_R     LMPRA_Nadav\n",
      "\u001b[90m3\u001b[39m chr1  1\u001b[4m1\u001b[24m\u001b[4m2\u001b[24m\u001b[4m2\u001b[24m182 1\u001b[4m1\u001b[24m\u001b[4m2\u001b[24m\u001b[4m2\u001b[24m382 peak3 -\u001b[31m2\u001b[39m\u001b[31m.\u001b[39m\u001b[31m0\u001b[39m\u001b[31m1\u001b[39m .      LMPRA      LMPRA_R     LMPRA_Nadav\n",
      "\n",
      "\u001b[90m# A tibble: 3 × 9\u001b[39m\n",
      "  Chrom     Start       End Name  Score Strand Assay_Type Assay_Label Dataset   \n",
      "  \u001b[3m\u001b[90m<chr>\u001b[39m\u001b[23m     \u001b[3m\u001b[90m<dbl>\u001b[39m\u001b[23m     \u001b[3m\u001b[90m<dbl>\u001b[39m\u001b[23m \u001b[3m\u001b[90m<chr>\u001b[39m\u001b[23m \u001b[3m\u001b[90m<dbl>\u001b[39m\u001b[23m \u001b[3m\u001b[90m<chr>\u001b[39m\u001b[23m  \u001b[3m\u001b[90m<chr>\u001b[39m\u001b[23m      \u001b[3m\u001b[90m<chr>\u001b[39m\u001b[23m       \u001b[3m\u001b[90m<chr>\u001b[39m\u001b[23m     \n",
      "\u001b[90m1\u001b[39m chr8  126\u001b[4m7\u001b[24m\u001b[4m3\u001b[24m\u001b[4m5\u001b[24m901 126\u001b[4m7\u001b[24m\u001b[4m3\u001b[24m\u001b[4m6\u001b[24m200 peak1  2.94 .      TMPRA      TMPRA_A     TMPRA_GAT…\n",
      "\u001b[90m2\u001b[39m chr8  126\u001b[4m7\u001b[24m\u001b[4m3\u001b[24m\u001b[4m6\u001b[24m451 126\u001b[4m7\u001b[24m\u001b[4m3\u001b[24m\u001b[4m6\u001b[24m650 peak2  2.11 .      TMPRA      TMPRA_A     TMPRA_GAT…\n",
      "\u001b[90m3\u001b[39m chr8  126\u001b[4m7\u001b[24m\u001b[4m4\u001b[24m\u001b[4m0\u001b[24m151 126\u001b[4m7\u001b[24m\u001b[4m4\u001b[24m\u001b[4m0\u001b[24m400 peak3  2.45 .      TMPRA      TMPRA_A     TMPRA_GAT…\n",
      "\n",
      "\u001b[90m# A tibble: 3 × 9\u001b[39m\n",
      "  Chrom     Start       End Name  Score Strand Assay_Type Assay_Label Dataset   \n",
      "  \u001b[3m\u001b[90m<chr>\u001b[39m\u001b[23m     \u001b[3m\u001b[90m<dbl>\u001b[39m\u001b[23m     \u001b[3m\u001b[90m<dbl>\u001b[39m\u001b[23m \u001b[3m\u001b[90m<chr>\u001b[39m\u001b[23m \u001b[3m\u001b[90m<dbl>\u001b[39m\u001b[23m \u001b[3m\u001b[90m<chr>\u001b[39m\u001b[23m  \u001b[3m\u001b[90m<chr>\u001b[39m\u001b[23m      \u001b[3m\u001b[90m<chr>\u001b[39m\u001b[23m       \u001b[3m\u001b[90m<chr>\u001b[39m\u001b[23m     \n",
      "\u001b[90m1\u001b[39m chr8  126\u001b[4m7\u001b[24m\u001b[4m5\u001b[24m\u001b[4m0\u001b[24m851 126\u001b[4m7\u001b[24m\u001b[4m5\u001b[24m\u001b[4m1\u001b[24m050 peak1 -\u001b[31m2\u001b[39m\u001b[31m.\u001b[39m\u001b[31m64\u001b[39m .      TMPRA      TMPRA_R     TMPRA_GAT…\n",
      "\u001b[90m2\u001b[39m chr8  126\u001b[4m7\u001b[24m\u001b[4m6\u001b[24m\u001b[4m1\u001b[24m301 126\u001b[4m7\u001b[24m\u001b[4m6\u001b[24m\u001b[4m1\u001b[24m500 peak2 -\u001b[31m3\u001b[39m\u001b[31m.\u001b[39m\u001b[31m30\u001b[39m .      TMPRA      TMPRA_R     TMPRA_GAT…\n",
      "\u001b[90m3\u001b[39m chr8  126\u001b[4m7\u001b[24m\u001b[4m6\u001b[24m\u001b[4m6\u001b[24m951 126\u001b[4m7\u001b[24m\u001b[4m6\u001b[24m\u001b[4m7\u001b[24m150 peak3 -\u001b[31m2\u001b[39m\u001b[31m.\u001b[39m\u001b[31m67\u001b[39m .      TMPRA      TMPRA_R     TMPRA_GAT…\n",
      "\n",
      "\u001b[90m# A tibble: 3 × 9\u001b[39m\n",
      "  Chrom    Start      End Name  Score Strand Assay_Type Assay_Label Dataset   \n",
      "  \u001b[3m\u001b[90m<chr>\u001b[39m\u001b[23m    \u001b[3m\u001b[90m<dbl>\u001b[39m\u001b[23m    \u001b[3m\u001b[90m<dbl>\u001b[39m\u001b[23m \u001b[3m\u001b[90m<chr>\u001b[39m\u001b[23m \u001b[3m\u001b[90m<dbl>\u001b[39m\u001b[23m \u001b[3m\u001b[90m<chr>\u001b[39m\u001b[23m  \u001b[3m\u001b[90m<chr>\u001b[39m\u001b[23m      \u001b[3m\u001b[90m<chr>\u001b[39m\u001b[23m       \u001b[3m\u001b[90m<chr>\u001b[39m\u001b[23m     \n",
      "\u001b[90m1\u001b[39m chr11 61\u001b[4m7\u001b[24m\u001b[4m8\u001b[24m\u001b[4m8\u001b[24m138 61\u001b[4m7\u001b[24m\u001b[4m8\u001b[24m\u001b[4m8\u001b[24m608 peak1  2.39 .      TMPRA      TMPRA_A     TMPRA_OL13\n",
      "\u001b[90m2\u001b[39m chr11 61\u001b[4m7\u001b[24m\u001b[4m8\u001b[24m\u001b[4m9\u001b[24m208 61\u001b[4m7\u001b[24m\u001b[4m8\u001b[24m\u001b[4m9\u001b[24m408 peak2  2.07 .      TMPRA      TMPRA_A     TMPRA_OL13\n",
      "\u001b[90m3\u001b[39m chr11 61\u001b[4m7\u001b[24m\u001b[4m8\u001b[24m\u001b[4m9\u001b[24m848 61\u001b[4m7\u001b[24m\u001b[4m9\u001b[24m\u001b[4m0\u001b[24m048 peak3  2.01 .      TMPRA      TMPRA_A     TMPRA_OL13\n",
      "\n",
      "\u001b[90m# A tibble: 3 × 9\u001b[39m\n",
      "  Chrom    Start      End Name  Score Strand Assay_Type Assay_Label Dataset   \n",
      "  \u001b[3m\u001b[90m<chr>\u001b[39m\u001b[23m    \u001b[3m\u001b[90m<dbl>\u001b[39m\u001b[23m    \u001b[3m\u001b[90m<dbl>\u001b[39m\u001b[23m \u001b[3m\u001b[90m<chr>\u001b[39m\u001b[23m \u001b[3m\u001b[90m<dbl>\u001b[39m\u001b[23m \u001b[3m\u001b[90m<chr>\u001b[39m\u001b[23m  \u001b[3m\u001b[90m<chr>\u001b[39m\u001b[23m      \u001b[3m\u001b[90m<chr>\u001b[39m\u001b[23m       \u001b[3m\u001b[90m<chr>\u001b[39m\u001b[23m     \n",
      "\u001b[90m1\u001b[39m chr11 61\u001b[4m7\u001b[24m\u001b[4m9\u001b[24m\u001b[4m0\u001b[24m258 61\u001b[4m7\u001b[24m\u001b[4m9\u001b[24m\u001b[4m0\u001b[24m458 peak1 -\u001b[31m4\u001b[39m\u001b[31m.\u001b[39m\u001b[31m76\u001b[39m .      TMPRA      TMPRA_R     TMPRA_OL13\n",
      "\u001b[90m2\u001b[39m chr11 61\u001b[4m7\u001b[24m\u001b[4m9\u001b[24m\u001b[4m1\u001b[24m118 61\u001b[4m7\u001b[24m\u001b[4m9\u001b[24m\u001b[4m1\u001b[24m318 peak2 -\u001b[31m3\u001b[39m\u001b[31m.\u001b[39m\u001b[31m31\u001b[39m .      TMPRA      TMPRA_R     TMPRA_OL13\n",
      "\u001b[90m3\u001b[39m chr11 61\u001b[4m7\u001b[24m\u001b[4m9\u001b[24m\u001b[4m1\u001b[24m528 61\u001b[4m7\u001b[24m\u001b[4m9\u001b[24m\u001b[4m1\u001b[24m778 peak3 -\u001b[31m3\u001b[39m\u001b[31m.\u001b[39m\u001b[31m88\u001b[39m .      TMPRA      TMPRA_R     TMPRA_OL13\n",
      "\n",
      "\u001b[90m# A tibble: 3 × 9\u001b[39m\n",
      "  Chrom   Start     End Name  Score Strand Assay_Type Assay_Label Dataset   \n",
      "  \u001b[3m\u001b[90m<chr>\u001b[39m\u001b[23m   \u001b[3m\u001b[90m<dbl>\u001b[39m\u001b[23m   \u001b[3m\u001b[90m<dbl>\u001b[39m\u001b[23m \u001b[3m\u001b[90m<chr>\u001b[39m\u001b[23m \u001b[3m\u001b[90m<dbl>\u001b[39m\u001b[23m \u001b[3m\u001b[90m<chr>\u001b[39m\u001b[23m  \u001b[3m\u001b[90m<chr>\u001b[39m\u001b[23m      \u001b[3m\u001b[90m<chr>\u001b[39m\u001b[23m       \u001b[3m\u001b[90m<chr>\u001b[39m\u001b[23m     \n",
      "\u001b[90m1\u001b[39m chr11 4\u001b[4m5\u001b[24m\u001b[4m1\u001b[24m\u001b[4m0\u001b[24m301 4\u001b[4m5\u001b[24m\u001b[4m1\u001b[24m\u001b[4m0\u001b[24m500 peak1  1.97 .      TMPRA      TMPRA_A     TMPRA_OL45\n",
      "\u001b[90m2\u001b[39m chr11 4\u001b[4m5\u001b[24m\u001b[4m1\u001b[24m\u001b[4m2\u001b[24m701 4\u001b[4m5\u001b[24m\u001b[4m1\u001b[24m\u001b[4m2\u001b[24m900 peak2  2.30 .      TMPRA      TMPRA_A     TMPRA_OL45\n",
      "\u001b[90m3\u001b[39m chr11 4\u001b[4m5\u001b[24m\u001b[4m1\u001b[24m\u001b[4m4\u001b[24m201 4\u001b[4m5\u001b[24m\u001b[4m1\u001b[24m\u001b[4m4\u001b[24m400 peak3  2.02 .      TMPRA      TMPRA_A     TMPRA_OL45\n",
      "\n",
      "\u001b[90m# A tibble: 3 × 9\u001b[39m\n",
      "  Chrom   Start     End Name  Score Strand Assay_Type Assay_Label Dataset   \n",
      "  \u001b[3m\u001b[90m<chr>\u001b[39m\u001b[23m   \u001b[3m\u001b[90m<dbl>\u001b[39m\u001b[23m   \u001b[3m\u001b[90m<dbl>\u001b[39m\u001b[23m \u001b[3m\u001b[90m<chr>\u001b[39m\u001b[23m \u001b[3m\u001b[90m<dbl>\u001b[39m\u001b[23m \u001b[3m\u001b[90m<chr>\u001b[39m\u001b[23m  \u001b[3m\u001b[90m<chr>\u001b[39m\u001b[23m      \u001b[3m\u001b[90m<chr>\u001b[39m\u001b[23m       \u001b[3m\u001b[90m<chr>\u001b[39m\u001b[23m     \n",
      "\u001b[90m1\u001b[39m chr11 4\u001b[4m6\u001b[24m\u001b[4m6\u001b[24m\u001b[4m8\u001b[24m701 4\u001b[4m6\u001b[24m\u001b[4m6\u001b[24m\u001b[4m8\u001b[24m900 peak1 -\u001b[31m2\u001b[39m\u001b[31m.\u001b[39m\u001b[31m81\u001b[39m .      TMPRA      TMPRA_R     TMPRA_OL45\n",
      "\u001b[90m2\u001b[39m chr11 4\u001b[4m6\u001b[24m\u001b[4m9\u001b[24m\u001b[4m2\u001b[24m001 4\u001b[4m6\u001b[24m\u001b[4m9\u001b[24m\u001b[4m2\u001b[24m200 peak2 -\u001b[31m2\u001b[39m\u001b[31m.\u001b[39m\u001b[31m38\u001b[39m .      TMPRA      TMPRA_R     TMPRA_OL45\n",
      "\u001b[90m3\u001b[39m chr11 4\u001b[4m8\u001b[24m\u001b[4m4\u001b[24m\u001b[4m2\u001b[24m601 4\u001b[4m8\u001b[24m\u001b[4m4\u001b[24m\u001b[4m2\u001b[24m800 peak3 -\u001b[31m2\u001b[39m\u001b[31m.\u001b[39m\u001b[31m48\u001b[39m .      TMPRA      TMPRA_R     TMPRA_OL45\n",
      "\n",
      "\u001b[90m# A tibble: 3 × 9\u001b[39m\n",
      "  Chrom  Start    End Name        Score Strand Assay_Type Assay_Label Dataset  \n",
      "  \u001b[3m\u001b[90m<chr>\u001b[39m\u001b[23m  \u001b[3m\u001b[90m<dbl>\u001b[39m\u001b[23m  \u001b[3m\u001b[90m<dbl>\u001b[39m\u001b[23m \u001b[3m\u001b[90m<chr>\u001b[39m\u001b[23m       \u001b[3m\u001b[90m<dbl>\u001b[39m\u001b[23m \u001b[3m\u001b[90m<chr>\u001b[39m\u001b[23m  \u001b[3m\u001b[90m<chr>\u001b[39m\u001b[23m      \u001b[3m\u001b[90m<chr>\u001b[39m\u001b[23m       \u001b[3m\u001b[90m<chr>\u001b[39m\u001b[23m    \n",
      "\u001b[90m1\u001b[39m chr1  \u001b[4m7\u001b[24m\u001b[4m7\u001b[24m\u001b[4m8\u001b[24m420 \u001b[4m7\u001b[24m\u001b[4m7\u001b[24m\u001b[4m9\u001b[24m050 peak_both_1  3.13 .      WSTARR     WSTARR_AB   WSTARR_TR\n",
      "\u001b[90m2\u001b[39m chr1  \u001b[4m8\u001b[24m\u001b[4m2\u001b[24m\u001b[4m7\u001b[24m430 \u001b[4m8\u001b[24m\u001b[4m2\u001b[24m\u001b[4m7\u001b[24m560 peak_both_2  2.52 .      WSTARR     WSTARR_AB   WSTARR_TR\n",
      "\u001b[90m3\u001b[39m chr1  \u001b[4m9\u001b[24m\u001b[4m5\u001b[24m\u001b[4m9\u001b[24m270 \u001b[4m9\u001b[24m\u001b[4m5\u001b[24m\u001b[4m9\u001b[24m620 peak_both_3  3.27 .      WSTARR     WSTARR_AB   WSTARR_TR\n",
      "\n",
      "\u001b[90m# A tibble: 3 × 9\u001b[39m\n",
      "  Chrom  Start    End Name  Score Strand Assay_Type Assay_Label Dataset  \n",
      "  \u001b[3m\u001b[90m<chr>\u001b[39m\u001b[23m  \u001b[3m\u001b[90m<dbl>\u001b[39m\u001b[23m  \u001b[3m\u001b[90m<dbl>\u001b[39m\u001b[23m \u001b[3m\u001b[90m<chr>\u001b[39m\u001b[23m \u001b[3m\u001b[90m<dbl>\u001b[39m\u001b[23m \u001b[3m\u001b[90m<chr>\u001b[39m\u001b[23m  \u001b[3m\u001b[90m<chr>\u001b[39m\u001b[23m      \u001b[3m\u001b[90m<chr>\u001b[39m\u001b[23m       \u001b[3m\u001b[90m<chr>\u001b[39m\u001b[23m    \n",
      "\u001b[90m1\u001b[39m chr1  \u001b[4m1\u001b[24m\u001b[4m8\u001b[24m\u001b[4m4\u001b[24m330 \u001b[4m1\u001b[24m\u001b[4m8\u001b[24m\u001b[4m4\u001b[24m480 peak1  2.68 .      WSTARR     WSTARR_A    WSTARR_TR\n",
      "\u001b[90m2\u001b[39m chr1  \u001b[4m7\u001b[24m\u001b[4m7\u001b[24m\u001b[4m8\u001b[24m400 \u001b[4m7\u001b[24m\u001b[4m7\u001b[24m\u001b[4m9\u001b[24m100 peak2  3.07 .      WSTARR     WSTARR_A    WSTARR_TR\n",
      "\u001b[90m3\u001b[39m chr1  \u001b[4m8\u001b[24m\u001b[4m1\u001b[24m\u001b[4m8\u001b[24m780 \u001b[4m8\u001b[24m\u001b[4m1\u001b[24m\u001b[4m8\u001b[24m990 peak3  2.13 .      WSTARR     WSTARR_A    WSTARR_TR\n",
      "\n",
      "\u001b[90m# A tibble: 3 × 9\u001b[39m\n",
      "  Chrom  Start    End Name  Score Strand Assay_Type Assay_Label Dataset  \n",
      "  \u001b[3m\u001b[90m<chr>\u001b[39m\u001b[23m  \u001b[3m\u001b[90m<dbl>\u001b[39m\u001b[23m  \u001b[3m\u001b[90m<dbl>\u001b[39m\u001b[23m \u001b[3m\u001b[90m<chr>\u001b[39m\u001b[23m \u001b[3m\u001b[90m<dbl>\u001b[39m\u001b[23m \u001b[3m\u001b[90m<chr>\u001b[39m\u001b[23m  \u001b[3m\u001b[90m<chr>\u001b[39m\u001b[23m      \u001b[3m\u001b[90m<chr>\u001b[39m\u001b[23m       \u001b[3m\u001b[90m<chr>\u001b[39m\u001b[23m    \n",
      "\u001b[90m1\u001b[39m chr1  \u001b[4m8\u001b[24m\u001b[4m2\u001b[24m\u001b[4m2\u001b[24m090 \u001b[4m8\u001b[24m\u001b[4m2\u001b[24m\u001b[4m2\u001b[24m250 peak1 -\u001b[31m4\u001b[39m\u001b[31m.\u001b[39m\u001b[31m18\u001b[39m .      WSTARR     WSTARR_R    WSTARR_TR\n",
      "\u001b[90m2\u001b[39m chr1  \u001b[4m9\u001b[24m\u001b[4m2\u001b[24m\u001b[4m9\u001b[24m460 \u001b[4m9\u001b[24m\u001b[4m2\u001b[24m\u001b[4m9\u001b[24m620 peak2 -\u001b[31m2\u001b[39m\u001b[31m.\u001b[39m\u001b[31m57\u001b[39m .      WSTARR     WSTARR_R    WSTARR_TR\n",
      "\u001b[90m3\u001b[39m chr1  \u001b[4m9\u001b[24m\u001b[4m5\u001b[24m\u001b[4m0\u001b[24m160 \u001b[4m9\u001b[24m\u001b[4m5\u001b[24m\u001b[4m0\u001b[24m360 peak3 -\u001b[31m4\u001b[39m\u001b[31m.\u001b[39m\u001b[31m43\u001b[39m .      WSTARR     WSTARR_R    WSTARR_TR\n",
      "\n"
     ]
    }
   ],
   "source": [
    "lst = lst_dat_import\n",
    "lst = lapply(lst, function(dat){\n",
    "    dat = dat %>% \n",
    "        dplyr::select(\n",
    "            Seqnames, \n",
    "            Start, \n",
    "            End, \n",
    "            Name,\n",
    "            `Z_score based on mean logFC`,\n",
    "            Strand,\n",
    "            Assay_Type,\n",
    "            Assay_Label,\n",
    "            Dataset\n",
    "        )\n",
    "    colnames(dat) = c(\n",
    "        \"Chrom\", \"Start\", \"End\", \"Name\", \"Score\", \"Strand\", \n",
    "        \"Assay_Type\",\n",
    "        \"Assay_Label\",\n",
    "        \"Dataset\")\n",
    "    return(dat)\n",
    "})\n",
    "\n",
    "### assign and show\n",
    "lst_dat_arrange = lst\n",
    "for (dat in lst){\n",
    "    print(head(dat, 3))\n",
    "    cat(\"\\n\")\n",
    "}"
   ]
  },
  {
   "cell_type": "markdown",
   "metadata": {},
   "source": [
    "## Concatenate regions"
   ]
  },
  {
   "cell_type": "code",
   "execution_count": 15,
   "metadata": {},
   "outputs": [
    {
     "name": "stdout",
     "output_type": "stream",
     "text": [
      " [1] \"ASTARR_A\"  \"ASTARR_AB\" \"ASTARR_R\"  \"LMPRA_A\"   \"LMPRA_AB\"  \"LMPRA_R\"  \n",
      " [7] \"TMPRA_A\"   \"TMPRA_R\"   \"WSTARR_A\"  \"WSTARR_AB\" \"WSTARR_R\" \n"
     ]
    },
    {
     "data": {
      "text/html": [
       "<table class=\"dataframe\">\n",
       "<caption>A tibble: 6 × 9</caption>\n",
       "<thead>\n",
       "\t<tr><th scope=col>Chrom</th><th scope=col>Start</th><th scope=col>End</th><th scope=col>Name</th><th scope=col>Score</th><th scope=col>Strand</th><th scope=col>Assay_Type</th><th scope=col>Assay_Label</th><th scope=col>Dataset</th></tr>\n",
       "\t<tr><th scope=col>&lt;chr&gt;</th><th scope=col>&lt;dbl&gt;</th><th scope=col>&lt;dbl&gt;</th><th scope=col>&lt;chr&gt;</th><th scope=col>&lt;dbl&gt;</th><th scope=col>&lt;chr&gt;</th><th scope=col>&lt;chr&gt;</th><th scope=col>&lt;chr&gt;</th><th scope=col>&lt;chr&gt;</th></tr>\n",
       "</thead>\n",
       "<tbody>\n",
       "\t<tr><td>chr1</td><td> 778720</td><td> 778830</td><td>peak1</td><td>2.009577</td><td>.</td><td>ASTARR</td><td>ASTARR_A</td><td>ASTARR_TR</td></tr>\n",
       "\t<tr><td>chr1</td><td>1013010</td><td>1013570</td><td>peak2</td><td>2.155097</td><td>.</td><td>ASTARR</td><td>ASTARR_A</td><td>ASTARR_TR</td></tr>\n",
       "\t<tr><td>chr1</td><td>1064280</td><td>1064450</td><td>peak3</td><td>2.201032</td><td>.</td><td>ASTARR</td><td>ASTARR_A</td><td>ASTARR_TR</td></tr>\n",
       "\t<tr><td>chr1</td><td>1068370</td><td>1068550</td><td>peak4</td><td>2.465765</td><td>.</td><td>ASTARR</td><td>ASTARR_A</td><td>ASTARR_TR</td></tr>\n",
       "\t<tr><td>chr1</td><td>1200920</td><td>1201050</td><td>peak5</td><td>2.375591</td><td>.</td><td>ASTARR</td><td>ASTARR_A</td><td>ASTARR_TR</td></tr>\n",
       "\t<tr><td>chr1</td><td>1305780</td><td>1305880</td><td>peak6</td><td>1.990023</td><td>.</td><td>ASTARR</td><td>ASTARR_A</td><td>ASTARR_TR</td></tr>\n",
       "</tbody>\n",
       "</table>\n"
      ],
      "text/latex": [
       "A tibble: 6 × 9\n",
       "\\begin{tabular}{lllllllll}\n",
       " Chrom & Start & End & Name & Score & Strand & Assay\\_Type & Assay\\_Label & Dataset\\\\\n",
       " <chr> & <dbl> & <dbl> & <chr> & <dbl> & <chr> & <chr> & <chr> & <chr>\\\\\n",
       "\\hline\n",
       "\t chr1 &  778720 &  778830 & peak1 & 2.009577 & . & ASTARR & ASTARR\\_A & ASTARR\\_TR\\\\\n",
       "\t chr1 & 1013010 & 1013570 & peak2 & 2.155097 & . & ASTARR & ASTARR\\_A & ASTARR\\_TR\\\\\n",
       "\t chr1 & 1064280 & 1064450 & peak3 & 2.201032 & . & ASTARR & ASTARR\\_A & ASTARR\\_TR\\\\\n",
       "\t chr1 & 1068370 & 1068550 & peak4 & 2.465765 & . & ASTARR & ASTARR\\_A & ASTARR\\_TR\\\\\n",
       "\t chr1 & 1200920 & 1201050 & peak5 & 2.375591 & . & ASTARR & ASTARR\\_A & ASTARR\\_TR\\\\\n",
       "\t chr1 & 1305780 & 1305880 & peak6 & 1.990023 & . & ASTARR & ASTARR\\_A & ASTARR\\_TR\\\\\n",
       "\\end{tabular}\n"
      ],
      "text/markdown": [
       "\n",
       "A tibble: 6 × 9\n",
       "\n",
       "| Chrom &lt;chr&gt; | Start &lt;dbl&gt; | End &lt;dbl&gt; | Name &lt;chr&gt; | Score &lt;dbl&gt; | Strand &lt;chr&gt; | Assay_Type &lt;chr&gt; | Assay_Label &lt;chr&gt; | Dataset &lt;chr&gt; |\n",
       "|---|---|---|---|---|---|---|---|---|\n",
       "| chr1 |  778720 |  778830 | peak1 | 2.009577 | . | ASTARR | ASTARR_A | ASTARR_TR |\n",
       "| chr1 | 1013010 | 1013570 | peak2 | 2.155097 | . | ASTARR | ASTARR_A | ASTARR_TR |\n",
       "| chr1 | 1064280 | 1064450 | peak3 | 2.201032 | . | ASTARR | ASTARR_A | ASTARR_TR |\n",
       "| chr1 | 1068370 | 1068550 | peak4 | 2.465765 | . | ASTARR | ASTARR_A | ASTARR_TR |\n",
       "| chr1 | 1200920 | 1201050 | peak5 | 2.375591 | . | ASTARR | ASTARR_A | ASTARR_TR |\n",
       "| chr1 | 1305780 | 1305880 | peak6 | 1.990023 | . | ASTARR | ASTARR_A | ASTARR_TR |\n",
       "\n"
      ],
      "text/plain": [
       "  Chrom Start   End     Name  Score    Strand Assay_Type Assay_Label Dataset  \n",
       "1 chr1   778720  778830 peak1 2.009577 .      ASTARR     ASTARR_A    ASTARR_TR\n",
       "2 chr1  1013010 1013570 peak2 2.155097 .      ASTARR     ASTARR_A    ASTARR_TR\n",
       "3 chr1  1064280 1064450 peak3 2.201032 .      ASTARR     ASTARR_A    ASTARR_TR\n",
       "4 chr1  1068370 1068550 peak4 2.465765 .      ASTARR     ASTARR_A    ASTARR_TR\n",
       "5 chr1  1200920 1201050 peak5 2.375591 .      ASTARR     ASTARR_A    ASTARR_TR\n",
       "6 chr1  1305780 1305880 peak6 1.990023 .      ASTARR     ASTARR_A    ASTARR_TR"
      ]
     },
     "metadata": {},
     "output_type": "display_data"
    }
   ],
   "source": [
    "### combine and split\n",
    "lst = lst_dat_arrange\n",
    "dat = bind_rows(lst)\n",
    "lst = split(dat, dat$Assay_Label)\n",
    "lst = lapply(lst, function(dat){\n",
    "    dat = dat %>% dplyr::arrange(Chrom, Start, End)\n",
    "})\n",
    "\n",
    "### assign and show\n",
    "lst_dat_assay_label = lst\n",
    "print(names(lst))\n",
    "head(lst[[1]])"
   ]
  },
  {
   "cell_type": "code",
   "execution_count": 16,
   "metadata": {},
   "outputs": [
    {
     "name": "stdout",
     "output_type": "stream",
     "text": [
      "[1] \"ASTARR\" \"LMPRA\"  \"TMPRA\"  \"WSTARR\"\n"
     ]
    },
    {
     "data": {
      "text/html": [
       "<table class=\"dataframe\">\n",
       "<caption>A tibble: 6 × 9</caption>\n",
       "<thead>\n",
       "\t<tr><th scope=col>Chrom</th><th scope=col>Start</th><th scope=col>End</th><th scope=col>Name</th><th scope=col>Score</th><th scope=col>Strand</th><th scope=col>Assay_Type</th><th scope=col>Assay_Label</th><th scope=col>Dataset</th></tr>\n",
       "\t<tr><th scope=col>&lt;chr&gt;</th><th scope=col>&lt;dbl&gt;</th><th scope=col>&lt;dbl&gt;</th><th scope=col>&lt;chr&gt;</th><th scope=col>&lt;dbl&gt;</th><th scope=col>&lt;chr&gt;</th><th scope=col>&lt;chr&gt;</th><th scope=col>&lt;chr&gt;</th><th scope=col>&lt;chr&gt;</th></tr>\n",
       "</thead>\n",
       "<tbody>\n",
       "\t<tr><td>chr1</td><td>136520</td><td>136950</td><td>peak1</td><td>-1.603468</td><td>.</td><td>ASTARR</td><td>ASTARR_R</td><td>ASTARR_TR</td></tr>\n",
       "\t<tr><td>chr1</td><td>137050</td><td>137150</td><td>peak2</td><td>-1.408464</td><td>.</td><td>ASTARR</td><td>ASTARR_R</td><td>ASTARR_TR</td></tr>\n",
       "\t<tr><td>chr1</td><td>181600</td><td>181790</td><td>peak3</td><td>-1.913155</td><td>.</td><td>ASTARR</td><td>ASTARR_R</td><td>ASTARR_TR</td></tr>\n",
       "\t<tr><td>chr1</td><td>778720</td><td>778830</td><td>peak1</td><td> 2.009577</td><td>.</td><td>ASTARR</td><td>ASTARR_A</td><td>ASTARR_TR</td></tr>\n",
       "\t<tr><td>chr1</td><td>827060</td><td>827160</td><td>peak4</td><td>-1.383606</td><td>.</td><td>ASTARR</td><td>ASTARR_R</td><td>ASTARR_TR</td></tr>\n",
       "\t<tr><td>chr1</td><td>827590</td><td>828050</td><td>peak5</td><td>-2.477047</td><td>.</td><td>ASTARR</td><td>ASTARR_R</td><td>ASTARR_TR</td></tr>\n",
       "</tbody>\n",
       "</table>\n"
      ],
      "text/latex": [
       "A tibble: 6 × 9\n",
       "\\begin{tabular}{lllllllll}\n",
       " Chrom & Start & End & Name & Score & Strand & Assay\\_Type & Assay\\_Label & Dataset\\\\\n",
       " <chr> & <dbl> & <dbl> & <chr> & <dbl> & <chr> & <chr> & <chr> & <chr>\\\\\n",
       "\\hline\n",
       "\t chr1 & 136520 & 136950 & peak1 & -1.603468 & . & ASTARR & ASTARR\\_R & ASTARR\\_TR\\\\\n",
       "\t chr1 & 137050 & 137150 & peak2 & -1.408464 & . & ASTARR & ASTARR\\_R & ASTARR\\_TR\\\\\n",
       "\t chr1 & 181600 & 181790 & peak3 & -1.913155 & . & ASTARR & ASTARR\\_R & ASTARR\\_TR\\\\\n",
       "\t chr1 & 778720 & 778830 & peak1 &  2.009577 & . & ASTARR & ASTARR\\_A & ASTARR\\_TR\\\\\n",
       "\t chr1 & 827060 & 827160 & peak4 & -1.383606 & . & ASTARR & ASTARR\\_R & ASTARR\\_TR\\\\\n",
       "\t chr1 & 827590 & 828050 & peak5 & -2.477047 & . & ASTARR & ASTARR\\_R & ASTARR\\_TR\\\\\n",
       "\\end{tabular}\n"
      ],
      "text/markdown": [
       "\n",
       "A tibble: 6 × 9\n",
       "\n",
       "| Chrom &lt;chr&gt; | Start &lt;dbl&gt; | End &lt;dbl&gt; | Name &lt;chr&gt; | Score &lt;dbl&gt; | Strand &lt;chr&gt; | Assay_Type &lt;chr&gt; | Assay_Label &lt;chr&gt; | Dataset &lt;chr&gt; |\n",
       "|---|---|---|---|---|---|---|---|---|\n",
       "| chr1 | 136520 | 136950 | peak1 | -1.603468 | . | ASTARR | ASTARR_R | ASTARR_TR |\n",
       "| chr1 | 137050 | 137150 | peak2 | -1.408464 | . | ASTARR | ASTARR_R | ASTARR_TR |\n",
       "| chr1 | 181600 | 181790 | peak3 | -1.913155 | . | ASTARR | ASTARR_R | ASTARR_TR |\n",
       "| chr1 | 778720 | 778830 | peak1 |  2.009577 | . | ASTARR | ASTARR_A | ASTARR_TR |\n",
       "| chr1 | 827060 | 827160 | peak4 | -1.383606 | . | ASTARR | ASTARR_R | ASTARR_TR |\n",
       "| chr1 | 827590 | 828050 | peak5 | -2.477047 | . | ASTARR | ASTARR_R | ASTARR_TR |\n",
       "\n"
      ],
      "text/plain": [
       "  Chrom Start  End    Name  Score     Strand Assay_Type Assay_Label Dataset  \n",
       "1 chr1  136520 136950 peak1 -1.603468 .      ASTARR     ASTARR_R    ASTARR_TR\n",
       "2 chr1  137050 137150 peak2 -1.408464 .      ASTARR     ASTARR_R    ASTARR_TR\n",
       "3 chr1  181600 181790 peak3 -1.913155 .      ASTARR     ASTARR_R    ASTARR_TR\n",
       "4 chr1  778720 778830 peak1  2.009577 .      ASTARR     ASTARR_A    ASTARR_TR\n",
       "5 chr1  827060 827160 peak4 -1.383606 .      ASTARR     ASTARR_R    ASTARR_TR\n",
       "6 chr1  827590 828050 peak5 -2.477047 .      ASTARR     ASTARR_R    ASTARR_TR"
      ]
     },
     "metadata": {},
     "output_type": "display_data"
    }
   ],
   "source": [
    "### combine and split\n",
    "lst = lst_dat_arrange\n",
    "dat = bind_rows(lst)\n",
    "lst = split(dat, dat$Assay_Type)\n",
    "lst = lapply(lst, function(dat){\n",
    "    dat = dat %>% \n",
    "        #dplyr::select(Chrom, Start, End, Assay_Type, Assay_Label) %>%\n",
    "        dplyr::arrange(Chrom, Start, End)\n",
    "})\n",
    "\n",
    "### assign and show\n",
    "lst_dat_assay_type = lst\n",
    "print(names(lst))\n",
    "head(lst[[1]])"
   ]
  },
  {
   "cell_type": "markdown",
   "metadata": {},
   "source": [
    "**Check hg38/hg19**"
   ]
  },
  {
   "cell_type": "code",
   "execution_count": 17,
   "metadata": {},
   "outputs": [
    {
     "data": {
      "text/html": [
       "<table class=\"dataframe\">\n",
       "<caption>A tibble: 6 × 9</caption>\n",
       "<thead>\n",
       "\t<tr><th scope=col>Chrom</th><th scope=col>Start</th><th scope=col>End</th><th scope=col>Name</th><th scope=col>Score</th><th scope=col>Strand</th><th scope=col>Assay_Type</th><th scope=col>Assay_Label</th><th scope=col>Dataset</th></tr>\n",
       "\t<tr><th scope=col>&lt;chr&gt;</th><th scope=col>&lt;dbl&gt;</th><th scope=col>&lt;dbl&gt;</th><th scope=col>&lt;chr&gt;</th><th scope=col>&lt;dbl&gt;</th><th scope=col>&lt;chr&gt;</th><th scope=col>&lt;chr&gt;</th><th scope=col>&lt;chr&gt;</th><th scope=col>&lt;chr&gt;</th></tr>\n",
       "</thead>\n",
       "<tbody>\n",
       "\t<tr><td>chr11</td><td>61788138</td><td>61788608</td><td>peak1</td><td> 2.391917</td><td>.</td><td>TMPRA</td><td>TMPRA_A</td><td>TMPRA_OL13</td></tr>\n",
       "\t<tr><td>chr11</td><td>61789208</td><td>61789408</td><td>peak2</td><td> 2.073451</td><td>.</td><td>TMPRA</td><td>TMPRA_A</td><td>TMPRA_OL13</td></tr>\n",
       "\t<tr><td>chr11</td><td>61789848</td><td>61790048</td><td>peak3</td><td> 2.009242</td><td>.</td><td>TMPRA</td><td>TMPRA_A</td><td>TMPRA_OL13</td></tr>\n",
       "\t<tr><td>chr11</td><td>61790258</td><td>61790458</td><td>peak1</td><td>-4.755567</td><td>.</td><td>TMPRA</td><td>TMPRA_R</td><td>TMPRA_OL13</td></tr>\n",
       "\t<tr><td>chr11</td><td>61790453</td><td>61790768</td><td>peak4</td><td> 2.175502</td><td>.</td><td>TMPRA</td><td>TMPRA_A</td><td>TMPRA_OL13</td></tr>\n",
       "\t<tr><td>chr11</td><td>61791118</td><td>61791318</td><td>peak2</td><td>-3.314060</td><td>.</td><td>TMPRA</td><td>TMPRA_R</td><td>TMPRA_OL13</td></tr>\n",
       "</tbody>\n",
       "</table>\n"
      ],
      "text/latex": [
       "A tibble: 6 × 9\n",
       "\\begin{tabular}{lllllllll}\n",
       " Chrom & Start & End & Name & Score & Strand & Assay\\_Type & Assay\\_Label & Dataset\\\\\n",
       " <chr> & <dbl> & <dbl> & <chr> & <dbl> & <chr> & <chr> & <chr> & <chr>\\\\\n",
       "\\hline\n",
       "\t chr11 & 61788138 & 61788608 & peak1 &  2.391917 & . & TMPRA & TMPRA\\_A & TMPRA\\_OL13\\\\\n",
       "\t chr11 & 61789208 & 61789408 & peak2 &  2.073451 & . & TMPRA & TMPRA\\_A & TMPRA\\_OL13\\\\\n",
       "\t chr11 & 61789848 & 61790048 & peak3 &  2.009242 & . & TMPRA & TMPRA\\_A & TMPRA\\_OL13\\\\\n",
       "\t chr11 & 61790258 & 61790458 & peak1 & -4.755567 & . & TMPRA & TMPRA\\_R & TMPRA\\_OL13\\\\\n",
       "\t chr11 & 61790453 & 61790768 & peak4 &  2.175502 & . & TMPRA & TMPRA\\_A & TMPRA\\_OL13\\\\\n",
       "\t chr11 & 61791118 & 61791318 & peak2 & -3.314060 & . & TMPRA & TMPRA\\_R & TMPRA\\_OL13\\\\\n",
       "\\end{tabular}\n"
      ],
      "text/markdown": [
       "\n",
       "A tibble: 6 × 9\n",
       "\n",
       "| Chrom &lt;chr&gt; | Start &lt;dbl&gt; | End &lt;dbl&gt; | Name &lt;chr&gt; | Score &lt;dbl&gt; | Strand &lt;chr&gt; | Assay_Type &lt;chr&gt; | Assay_Label &lt;chr&gt; | Dataset &lt;chr&gt; |\n",
       "|---|---|---|---|---|---|---|---|---|\n",
       "| chr11 | 61788138 | 61788608 | peak1 |  2.391917 | . | TMPRA | TMPRA_A | TMPRA_OL13 |\n",
       "| chr11 | 61789208 | 61789408 | peak2 |  2.073451 | . | TMPRA | TMPRA_A | TMPRA_OL13 |\n",
       "| chr11 | 61789848 | 61790048 | peak3 |  2.009242 | . | TMPRA | TMPRA_A | TMPRA_OL13 |\n",
       "| chr11 | 61790258 | 61790458 | peak1 | -4.755567 | . | TMPRA | TMPRA_R | TMPRA_OL13 |\n",
       "| chr11 | 61790453 | 61790768 | peak4 |  2.175502 | . | TMPRA | TMPRA_A | TMPRA_OL13 |\n",
       "| chr11 | 61791118 | 61791318 | peak2 | -3.314060 | . | TMPRA | TMPRA_R | TMPRA_OL13 |\n",
       "\n"
      ],
      "text/plain": [
       "  Chrom Start    End      Name  Score     Strand Assay_Type Assay_Label\n",
       "1 chr11 61788138 61788608 peak1  2.391917 .      TMPRA      TMPRA_A    \n",
       "2 chr11 61789208 61789408 peak2  2.073451 .      TMPRA      TMPRA_A    \n",
       "3 chr11 61789848 61790048 peak3  2.009242 .      TMPRA      TMPRA_A    \n",
       "4 chr11 61790258 61790458 peak1 -4.755567 .      TMPRA      TMPRA_R    \n",
       "5 chr11 61790453 61790768 peak4  2.175502 .      TMPRA      TMPRA_A    \n",
       "6 chr11 61791118 61791318 peak2 -3.314060 .      TMPRA      TMPRA_R    \n",
       "  Dataset   \n",
       "1 TMPRA_OL13\n",
       "2 TMPRA_OL13\n",
       "3 TMPRA_OL13\n",
       "4 TMPRA_OL13\n",
       "5 TMPRA_OL13\n",
       "6 TMPRA_OL13"
      ]
     },
     "metadata": {},
     "output_type": "display_data"
    }
   ],
   "source": [
    "lst = lst_dat_assay_type\n",
    "dat = lst[[\"TMPRA\"]]\n",
    "dat = dat %>% dplyr::filter(Chrom == \"chr11\", Start > 61788000, End < 61897000)\n",
    "#dat = dat %>% dplyr::filter(Dataset == \"TMPRA_OL13\")\n",
    "head(dat)"
   ]
  },
  {
   "cell_type": "markdown",
   "metadata": {},
   "source": [
    "## Data dictionary"
   ]
  },
  {
   "cell_type": "code",
   "execution_count": 18,
   "metadata": {},
   "outputs": [
    {
     "data": {
      "text/html": [
       "<table class=\"dataframe\">\n",
       "<caption>A data.frame: 9 × 2</caption>\n",
       "<thead>\n",
       "\t<tr><th scope=col>Name</th><th scope=col>Description</th></tr>\n",
       "\t<tr><th scope=col>&lt;chr&gt;</th><th scope=col>&lt;chr&gt;</th></tr>\n",
       "</thead>\n",
       "<tbody>\n",
       "\t<tr><td>Chrom      </td><td>Seqnames                   </td></tr>\n",
       "\t<tr><td>Start      </td><td>Start                      </td></tr>\n",
       "\t<tr><td>End        </td><td>End                        </td></tr>\n",
       "\t<tr><td>Name       </td><td>Name                       </td></tr>\n",
       "\t<tr><td>Score      </td><td>Z_score based on mean logFC</td></tr>\n",
       "\t<tr><td>Strand     </td><td>Strand                     </td></tr>\n",
       "\t<tr><td>Assay_Type </td><td>Assay type                 </td></tr>\n",
       "\t<tr><td>Assay_Label</td><td>Assay label                </td></tr>\n",
       "\t<tr><td>Dataset    </td><td>Dataset                    </td></tr>\n",
       "</tbody>\n",
       "</table>\n"
      ],
      "text/latex": [
       "A data.frame: 9 × 2\n",
       "\\begin{tabular}{ll}\n",
       " Name & Description\\\\\n",
       " <chr> & <chr>\\\\\n",
       "\\hline\n",
       "\t Chrom       & Seqnames                   \\\\\n",
       "\t Start       & Start                      \\\\\n",
       "\t End         & End                        \\\\\n",
       "\t Name        & Name                       \\\\\n",
       "\t Score       & Z\\_score based on mean logFC\\\\\n",
       "\t Strand      & Strand                     \\\\\n",
       "\t Assay\\_Type  & Assay type                 \\\\\n",
       "\t Assay\\_Label & Assay label                \\\\\n",
       "\t Dataset     & Dataset                    \\\\\n",
       "\\end{tabular}\n"
      ],
      "text/markdown": [
       "\n",
       "A data.frame: 9 × 2\n",
       "\n",
       "| Name &lt;chr&gt; | Description &lt;chr&gt; |\n",
       "|---|---|\n",
       "| Chrom       | Seqnames                    |\n",
       "| Start       | Start                       |\n",
       "| End         | End                         |\n",
       "| Name        | Name                        |\n",
       "| Score       | Z_score based on mean logFC |\n",
       "| Strand      | Strand                      |\n",
       "| Assay_Type  | Assay type                  |\n",
       "| Assay_Label | Assay label                 |\n",
       "| Dataset     | Dataset                     |\n",
       "\n"
      ],
      "text/plain": [
       "  Name        Description                \n",
       "1 Chrom       Seqnames                   \n",
       "2 Start       Start                      \n",
       "3 End         End                        \n",
       "4 Name        Name                       \n",
       "5 Score       Z_score based on mean logFC\n",
       "6 Strand      Strand                     \n",
       "7 Assay_Type  Assay type                 \n",
       "8 Assay_Label Assay label                \n",
       "9 Dataset     Dataset                    "
      ]
     },
     "metadata": {},
     "output_type": "display_data"
    }
   ],
   "source": [
    "dat_cnames = data.frame(\n",
    "    Name = c(            \n",
    "        \"Chrom\",\n",
    "        \"Start\",\n",
    "        \"End\",\n",
    "        \"Name\",\n",
    "        \"Score\",\n",
    "        \"Strand\",\n",
    "        \"Assay_Type\",\n",
    "        \"Assay_Label\",\n",
    "        \"Dataset\"\n",
    "    ),\n",
    "    Description = c(\n",
    "        \"Seqnames\",\n",
    "        \"Start\",\n",
    "        \"End\",\n",
    "        \"Name\",\n",
    "        \"Z_score based on mean logFC\",\n",
    "        \"Strand\",\n",
    "        \"Assay type\",\n",
    "        \"Assay label\",\n",
    "        \"Dataset\"\n",
    "    )\n",
    ")\n",
    "\n",
    "dat_cnames"
   ]
  },
  {
   "cell_type": "markdown",
   "metadata": {},
   "source": [
    "## Save results"
   ]
  },
  {
   "cell_type": "markdown",
   "metadata": {},
   "source": [
    "**Test loop**"
   ]
  },
  {
   "cell_type": "code",
   "execution_count": 19,
   "metadata": {},
   "outputs": [],
   "source": [
    "FD_OUT = file.path(FD_RES, \"results\", \"region\", \"annotation_enhancer_zscore_junke\")"
   ]
  },
  {
   "cell_type": "code",
   "execution_count": 20,
   "metadata": {},
   "outputs": [
    {
     "name": "stdout",
     "output_type": "stream",
     "text": [
      "[1] \"enhancer_zscore_junke.peak.ASTARR_A.bed.gz\"\n",
      "[1] \"enhancer_zscore_junke.peak.ASTARR_AB.bed.gz\"\n",
      "[1] \"enhancer_zscore_junke.peak.ASTARR_R.bed.gz\"\n",
      "[1] \"enhancer_zscore_junke.peak.LMPRA_A.bed.gz\"\n",
      "[1] \"enhancer_zscore_junke.peak.LMPRA_AB.bed.gz\"\n",
      "[1] \"enhancer_zscore_junke.peak.LMPRA_R.bed.gz\"\n",
      "[1] \"enhancer_zscore_junke.peak.TMPRA_A.bed.gz\"\n",
      "[1] \"enhancer_zscore_junke.peak.TMPRA_R.bed.gz\"\n",
      "[1] \"enhancer_zscore_junke.peak.WSTARR_A.bed.gz\"\n",
      "[1] \"enhancer_zscore_junke.peak.WSTARR_AB.bed.gz\"\n",
      "[1] \"enhancer_zscore_junke.peak.WSTARR_R.bed.gz\"\n"
     ]
    }
   ],
   "source": [
    "lst = lst_dat_assay_label\n",
    "for (idx in names(lst)){\n",
    "    fname = paste(\"enhancer_zscore_junke\", \"peak\", idx, \"bed.gz\", sep = \".\")\n",
    "    fpath = file.path(fdiry, fname)\n",
    "    print(fname)\n",
    "}"
   ]
  },
  {
   "cell_type": "code",
   "execution_count": 21,
   "metadata": {},
   "outputs": [
    {
     "name": "stdout",
     "output_type": "stream",
     "text": [
      "[1] \"enhancer_zscore_junke.peak.ASTARR.bed.gz\"\n",
      "[1] \"enhancer_zscore_junke.peak.LMPRA.bed.gz\"\n",
      "[1] \"enhancer_zscore_junke.peak.TMPRA.bed.gz\"\n",
      "[1] \"enhancer_zscore_junke.peak.WSTARR.bed.gz\"\n"
     ]
    }
   ],
   "source": [
    "lst = lst_dat_assay_type\n",
    "for (idx in names(lst)){\n",
    "    fname = paste(\"enhancer_zscore_junke\", \"peak\", idx, \"bed.gz\", sep = \".\")\n",
    "    fpath = file.path(fdiry, fname)\n",
    "    print(fname)\n",
    "}"
   ]
  },
  {
   "cell_type": "markdown",
   "metadata": {},
   "source": [
    "**Save data dictionary**"
   ]
  },
  {
   "cell_type": "code",
   "execution_count": 22,
   "metadata": {},
   "outputs": [],
   "source": [
    "fdiry = FD_OUT\n",
    "fname = \"description.tsv\"\n",
    "fpath = file.path(fdiry, fname)\n",
    "\n",
    "dat = dat_cnames\n",
    "write_tsv(dat, fpath)"
   ]
  },
  {
   "cell_type": "markdown",
   "metadata": {},
   "source": [
    "**Save peaks**"
   ]
  },
  {
   "cell_type": "code",
   "execution_count": 23,
   "metadata": {},
   "outputs": [
    {
     "name": "stdout",
     "output_type": "stream",
     "text": [
      "[1] \"enhancer_zscore_junke.peak.ASTARR_A.bed.gz\"\n",
      "[1] \"enhancer_zscore_junke.peak.ASTARR_AB.bed.gz\"\n",
      "[1] \"enhancer_zscore_junke.peak.ASTARR_R.bed.gz\"\n",
      "[1] \"enhancer_zscore_junke.peak.LMPRA_A.bed.gz\"\n",
      "[1] \"enhancer_zscore_junke.peak.LMPRA_AB.bed.gz\"\n",
      "[1] \"enhancer_zscore_junke.peak.LMPRA_R.bed.gz\"\n",
      "[1] \"enhancer_zscore_junke.peak.TMPRA_A.bed.gz\"\n",
      "[1] \"enhancer_zscore_junke.peak.TMPRA_R.bed.gz\"\n",
      "[1] \"enhancer_zscore_junke.peak.WSTARR_A.bed.gz\"\n",
      "[1] \"enhancer_zscore_junke.peak.WSTARR_AB.bed.gz\"\n",
      "[1] \"enhancer_zscore_junke.peak.WSTARR_R.bed.gz\"\n"
     ]
    }
   ],
   "source": [
    "fdiry = FD_OUT\n",
    "\n",
    "lst = lst_dat_assay_label\n",
    "for (idx in names(lst)){\n",
    "    fname = paste(\"enhancer_zscore_junke\", \"peak\", idx, \"bed.gz\", sep = \".\")\n",
    "    fpath = file.path(fdiry, fname)\n",
    "    print(fname)\n",
    "    \n",
    "    dat = lst[[idx]]\n",
    "    write_tsv(dat, fpath, col_names = FALSE)\n",
    "}"
   ]
  },
  {
   "cell_type": "code",
   "execution_count": 24,
   "metadata": {},
   "outputs": [
    {
     "data": {
      "text/html": [
       "<table class=\"dataframe\">\n",
       "<caption>A tibble: 6 × 9</caption>\n",
       "<thead>\n",
       "\t<tr><th scope=col>Chrom</th><th scope=col>Start</th><th scope=col>End</th><th scope=col>Name</th><th scope=col>Score</th><th scope=col>Strand</th><th scope=col>Assay_Type</th><th scope=col>Assay_Label</th><th scope=col>Dataset</th></tr>\n",
       "\t<tr><th scope=col>&lt;chr&gt;</th><th scope=col>&lt;dbl&gt;</th><th scope=col>&lt;dbl&gt;</th><th scope=col>&lt;chr&gt;</th><th scope=col>&lt;dbl&gt;</th><th scope=col>&lt;chr&gt;</th><th scope=col>&lt;chr&gt;</th><th scope=col>&lt;chr&gt;</th><th scope=col>&lt;chr&gt;</th></tr>\n",
       "</thead>\n",
       "<tbody>\n",
       "\t<tr><td>chr1</td><td> 822090</td><td> 822250</td><td>peak1</td><td>-4.182352</td><td>.</td><td>WSTARR</td><td>WSTARR_R</td><td>WSTARR_TR</td></tr>\n",
       "\t<tr><td>chr1</td><td> 929460</td><td> 929620</td><td>peak2</td><td>-2.572039</td><td>.</td><td>WSTARR</td><td>WSTARR_R</td><td>WSTARR_TR</td></tr>\n",
       "\t<tr><td>chr1</td><td> 950160</td><td> 950360</td><td>peak3</td><td>-4.430807</td><td>.</td><td>WSTARR</td><td>WSTARR_R</td><td>WSTARR_TR</td></tr>\n",
       "\t<tr><td>chr1</td><td> 950390</td><td> 950620</td><td>peak4</td><td>-5.375935</td><td>.</td><td>WSTARR</td><td>WSTARR_R</td><td>WSTARR_TR</td></tr>\n",
       "\t<tr><td>chr1</td><td> 975940</td><td> 976130</td><td>peak5</td><td>-3.089005</td><td>.</td><td>WSTARR</td><td>WSTARR_R</td><td>WSTARR_TR</td></tr>\n",
       "\t<tr><td>chr1</td><td>1019860</td><td>1020010</td><td>peak6</td><td>-3.250372</td><td>.</td><td>WSTARR</td><td>WSTARR_R</td><td>WSTARR_TR</td></tr>\n",
       "</tbody>\n",
       "</table>\n"
      ],
      "text/latex": [
       "A tibble: 6 × 9\n",
       "\\begin{tabular}{lllllllll}\n",
       " Chrom & Start & End & Name & Score & Strand & Assay\\_Type & Assay\\_Label & Dataset\\\\\n",
       " <chr> & <dbl> & <dbl> & <chr> & <dbl> & <chr> & <chr> & <chr> & <chr>\\\\\n",
       "\\hline\n",
       "\t chr1 &  822090 &  822250 & peak1 & -4.182352 & . & WSTARR & WSTARR\\_R & WSTARR\\_TR\\\\\n",
       "\t chr1 &  929460 &  929620 & peak2 & -2.572039 & . & WSTARR & WSTARR\\_R & WSTARR\\_TR\\\\\n",
       "\t chr1 &  950160 &  950360 & peak3 & -4.430807 & . & WSTARR & WSTARR\\_R & WSTARR\\_TR\\\\\n",
       "\t chr1 &  950390 &  950620 & peak4 & -5.375935 & . & WSTARR & WSTARR\\_R & WSTARR\\_TR\\\\\n",
       "\t chr1 &  975940 &  976130 & peak5 & -3.089005 & . & WSTARR & WSTARR\\_R & WSTARR\\_TR\\\\\n",
       "\t chr1 & 1019860 & 1020010 & peak6 & -3.250372 & . & WSTARR & WSTARR\\_R & WSTARR\\_TR\\\\\n",
       "\\end{tabular}\n"
      ],
      "text/markdown": [
       "\n",
       "A tibble: 6 × 9\n",
       "\n",
       "| Chrom &lt;chr&gt; | Start &lt;dbl&gt; | End &lt;dbl&gt; | Name &lt;chr&gt; | Score &lt;dbl&gt; | Strand &lt;chr&gt; | Assay_Type &lt;chr&gt; | Assay_Label &lt;chr&gt; | Dataset &lt;chr&gt; |\n",
       "|---|---|---|---|---|---|---|---|---|\n",
       "| chr1 |  822090 |  822250 | peak1 | -4.182352 | . | WSTARR | WSTARR_R | WSTARR_TR |\n",
       "| chr1 |  929460 |  929620 | peak2 | -2.572039 | . | WSTARR | WSTARR_R | WSTARR_TR |\n",
       "| chr1 |  950160 |  950360 | peak3 | -4.430807 | . | WSTARR | WSTARR_R | WSTARR_TR |\n",
       "| chr1 |  950390 |  950620 | peak4 | -5.375935 | . | WSTARR | WSTARR_R | WSTARR_TR |\n",
       "| chr1 |  975940 |  976130 | peak5 | -3.089005 | . | WSTARR | WSTARR_R | WSTARR_TR |\n",
       "| chr1 | 1019860 | 1020010 | peak6 | -3.250372 | . | WSTARR | WSTARR_R | WSTARR_TR |\n",
       "\n"
      ],
      "text/plain": [
       "  Chrom Start   End     Name  Score     Strand Assay_Type Assay_Label Dataset  \n",
       "1 chr1   822090  822250 peak1 -4.182352 .      WSTARR     WSTARR_R    WSTARR_TR\n",
       "2 chr1   929460  929620 peak2 -2.572039 .      WSTARR     WSTARR_R    WSTARR_TR\n",
       "3 chr1   950160  950360 peak3 -4.430807 .      WSTARR     WSTARR_R    WSTARR_TR\n",
       "4 chr1   950390  950620 peak4 -5.375935 .      WSTARR     WSTARR_R    WSTARR_TR\n",
       "5 chr1   975940  976130 peak5 -3.089005 .      WSTARR     WSTARR_R    WSTARR_TR\n",
       "6 chr1  1019860 1020010 peak6 -3.250372 .      WSTARR     WSTARR_R    WSTARR_TR"
      ]
     },
     "metadata": {},
     "output_type": "display_data"
    }
   ],
   "source": [
    "head(dat)"
   ]
  },
  {
   "cell_type": "code",
   "execution_count": 25,
   "metadata": {},
   "outputs": [
    {
     "name": "stdout",
     "output_type": "stream",
     "text": [
      "[1] \"enhancer_zscore_junke.peak.ASTARR.concat.bed.gz\"\n",
      "[1] \"enhancer_zscore_junke.peak.LMPRA.concat.bed.gz\"\n",
      "[1] \"enhancer_zscore_junke.peak.TMPRA.concat.bed.gz\"\n",
      "[1] \"enhancer_zscore_junke.peak.WSTARR.concat.bed.gz\"\n"
     ]
    }
   ],
   "source": [
    "fdiry = FD_OUT\n",
    "\n",
    "lst = lst_dat_assay_type\n",
    "for (idx in names(lst)){\n",
    "    fname = paste(\"enhancer_zscore_junke\", \"peak\", idx, \"concat\", \"bed.gz\", sep = \".\")\n",
    "    fpath = file.path(fdiry, fname)\n",
    "    print(fname)\n",
    "    \n",
    "    dat = lst[[idx]]\n",
    "    write_tsv(dat, fpath, col_names = FALSE)\n",
    "}"
   ]
  },
  {
   "cell_type": "code",
   "execution_count": 26,
   "metadata": {},
   "outputs": [
    {
     "data": {
      "text/html": [
       "<table class=\"dataframe\">\n",
       "<caption>A tibble: 6 × 9</caption>\n",
       "<thead>\n",
       "\t<tr><th scope=col>Chrom</th><th scope=col>Start</th><th scope=col>End</th><th scope=col>Name</th><th scope=col>Score</th><th scope=col>Strand</th><th scope=col>Assay_Type</th><th scope=col>Assay_Label</th><th scope=col>Dataset</th></tr>\n",
       "\t<tr><th scope=col>&lt;chr&gt;</th><th scope=col>&lt;dbl&gt;</th><th scope=col>&lt;dbl&gt;</th><th scope=col>&lt;chr&gt;</th><th scope=col>&lt;dbl&gt;</th><th scope=col>&lt;chr&gt;</th><th scope=col>&lt;chr&gt;</th><th scope=col>&lt;chr&gt;</th><th scope=col>&lt;chr&gt;</th></tr>\n",
       "</thead>\n",
       "<tbody>\n",
       "\t<tr><td>chr1</td><td>184330</td><td>184480</td><td>peak1      </td><td> 2.682464</td><td>.</td><td>WSTARR</td><td>WSTARR_A </td><td>WSTARR_TR</td></tr>\n",
       "\t<tr><td>chr1</td><td>778400</td><td>779100</td><td>peak2      </td><td> 3.069515</td><td>.</td><td>WSTARR</td><td>WSTARR_A </td><td>WSTARR_TR</td></tr>\n",
       "\t<tr><td>chr1</td><td>778420</td><td>779050</td><td>peak_both_1</td><td> 3.133377</td><td>.</td><td>WSTARR</td><td>WSTARR_AB</td><td>WSTARR_TR</td></tr>\n",
       "\t<tr><td>chr1</td><td>818780</td><td>818990</td><td>peak3      </td><td> 2.134951</td><td>.</td><td>WSTARR</td><td>WSTARR_A </td><td>WSTARR_TR</td></tr>\n",
       "\t<tr><td>chr1</td><td>822090</td><td>822250</td><td>peak1      </td><td>-4.182352</td><td>.</td><td>WSTARR</td><td>WSTARR_R </td><td>WSTARR_TR</td></tr>\n",
       "\t<tr><td>chr1</td><td>827180</td><td>827770</td><td>peak4      </td><td> 2.453576</td><td>.</td><td>WSTARR</td><td>WSTARR_A </td><td>WSTARR_TR</td></tr>\n",
       "</tbody>\n",
       "</table>\n"
      ],
      "text/latex": [
       "A tibble: 6 × 9\n",
       "\\begin{tabular}{lllllllll}\n",
       " Chrom & Start & End & Name & Score & Strand & Assay\\_Type & Assay\\_Label & Dataset\\\\\n",
       " <chr> & <dbl> & <dbl> & <chr> & <dbl> & <chr> & <chr> & <chr> & <chr>\\\\\n",
       "\\hline\n",
       "\t chr1 & 184330 & 184480 & peak1       &  2.682464 & . & WSTARR & WSTARR\\_A  & WSTARR\\_TR\\\\\n",
       "\t chr1 & 778400 & 779100 & peak2       &  3.069515 & . & WSTARR & WSTARR\\_A  & WSTARR\\_TR\\\\\n",
       "\t chr1 & 778420 & 779050 & peak\\_both\\_1 &  3.133377 & . & WSTARR & WSTARR\\_AB & WSTARR\\_TR\\\\\n",
       "\t chr1 & 818780 & 818990 & peak3       &  2.134951 & . & WSTARR & WSTARR\\_A  & WSTARR\\_TR\\\\\n",
       "\t chr1 & 822090 & 822250 & peak1       & -4.182352 & . & WSTARR & WSTARR\\_R  & WSTARR\\_TR\\\\\n",
       "\t chr1 & 827180 & 827770 & peak4       &  2.453576 & . & WSTARR & WSTARR\\_A  & WSTARR\\_TR\\\\\n",
       "\\end{tabular}\n"
      ],
      "text/markdown": [
       "\n",
       "A tibble: 6 × 9\n",
       "\n",
       "| Chrom &lt;chr&gt; | Start &lt;dbl&gt; | End &lt;dbl&gt; | Name &lt;chr&gt; | Score &lt;dbl&gt; | Strand &lt;chr&gt; | Assay_Type &lt;chr&gt; | Assay_Label &lt;chr&gt; | Dataset &lt;chr&gt; |\n",
       "|---|---|---|---|---|---|---|---|---|\n",
       "| chr1 | 184330 | 184480 | peak1       |  2.682464 | . | WSTARR | WSTARR_A  | WSTARR_TR |\n",
       "| chr1 | 778400 | 779100 | peak2       |  3.069515 | . | WSTARR | WSTARR_A  | WSTARR_TR |\n",
       "| chr1 | 778420 | 779050 | peak_both_1 |  3.133377 | . | WSTARR | WSTARR_AB | WSTARR_TR |\n",
       "| chr1 | 818780 | 818990 | peak3       |  2.134951 | . | WSTARR | WSTARR_A  | WSTARR_TR |\n",
       "| chr1 | 822090 | 822250 | peak1       | -4.182352 | . | WSTARR | WSTARR_R  | WSTARR_TR |\n",
       "| chr1 | 827180 | 827770 | peak4       |  2.453576 | . | WSTARR | WSTARR_A  | WSTARR_TR |\n",
       "\n"
      ],
      "text/plain": [
       "  Chrom Start  End    Name        Score     Strand Assay_Type Assay_Label\n",
       "1 chr1  184330 184480 peak1        2.682464 .      WSTARR     WSTARR_A   \n",
       "2 chr1  778400 779100 peak2        3.069515 .      WSTARR     WSTARR_A   \n",
       "3 chr1  778420 779050 peak_both_1  3.133377 .      WSTARR     WSTARR_AB  \n",
       "4 chr1  818780 818990 peak3        2.134951 .      WSTARR     WSTARR_A   \n",
       "5 chr1  822090 822250 peak1       -4.182352 .      WSTARR     WSTARR_R   \n",
       "6 chr1  827180 827770 peak4        2.453576 .      WSTARR     WSTARR_A   \n",
       "  Dataset  \n",
       "1 WSTARR_TR\n",
       "2 WSTARR_TR\n",
       "3 WSTARR_TR\n",
       "4 WSTARR_TR\n",
       "5 WSTARR_TR\n",
       "6 WSTARR_TR"
      ]
     },
     "metadata": {},
     "output_type": "display_data"
    }
   ],
   "source": [
    "head(dat)"
   ]
  },
  {
   "cell_type": "code",
   "execution_count": null,
   "metadata": {},
   "outputs": [],
   "source": []
  }
 ],
 "metadata": {
  "kernelspec": {
   "display_name": "R",
   "language": "R",
   "name": "ir"
  },
  "language_info": {
   "codemirror_mode": "r",
   "file_extension": ".r",
   "mimetype": "text/x-r-source",
   "name": "R",
   "pygments_lexer": "r",
   "version": "4.3.1"
  }
 },
 "nbformat": 4,
 "nbformat_minor": 4
}
