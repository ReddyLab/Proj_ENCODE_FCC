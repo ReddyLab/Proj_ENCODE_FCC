{
 "cells": [
  {
   "cell_type": "markdown",
   "id": "4dce2580-cdc6-4386-afb9-e4c08e9a400a",
   "metadata": {},
   "source": [
    "**Set environment**"
   ]
  },
  {
   "cell_type": "code",
   "execution_count": 1,
   "id": "9112ad4a-9068-4486-96e1-835a12c478fc",
   "metadata": {},
   "outputs": [
    {
     "name": "stdout",
     "output_type": "stream",
     "text": [
      "You are on Duke Server: HARDAC\n",
      "BASE DIRECTORY (FD_BASE): /data/reddylab/Kuei\n",
      "WORK DIRECTORY (FD_WORK): /data/reddylab/Kuei/out\n",
      "CODE DIRECTORY (FD_CODE): /data/reddylab/Kuei/code\n",
      "SING DIRECTORY (FD_SING): /data/reddylab/Kuei/singularity\n",
      "PATH OF PROJECT (FD_PRJ): /data/reddylab/Kuei/code/Proj_CombEffect_ENCODE_FCC\n",
      "PATH OF RESULTS (FD_RES): /data/reddylab/Kuei/out/proj_combeffect_encode_fcc\n",
      "PATH OF LOG     (FD_LOG): /data/reddylab/Kuei/out/proj_combeffect_encode_fcc/log\n",
      "\n"
     ]
    }
   ],
   "source": [
    "### set env\n",
    "source ../config/config_duke.sh\n",
    "source ../config/config_load_module_bedtools.sh\n",
    "show_env"
   ]
  },
  {
   "cell_type": "markdown",
   "id": "6c04ed8b-0e4b-421a-9525-4e3b63d4f68e",
   "metadata": {},
   "source": [
    "**Check data: STARR/MPRA**"
   ]
  },
  {
   "cell_type": "code",
   "execution_count": 2,
   "id": "6a7b867f-7f44-4b82-a77e-78897b5c9dad",
   "metadata": {},
   "outputs": [
    {
     "name": "stdout",
     "output_type": "stream",
     "text": [
      "description.tsv\n",
      "\u001b[0m\u001b[38;5;9menhancer_zscore_junke.inactive.ASTARR.bed.gz\u001b[0m\n",
      "\u001b[38;5;9menhancer_zscore_junke.inactive.ASTARR.merge.bed.gz\u001b[0m\n",
      "\u001b[38;5;9menhancer_zscore_junke.inactive.LMPRA.bed.gz\u001b[0m\n",
      "\u001b[38;5;9menhancer_zscore_junke.inactive.LMPRA.merge.bed.gz\u001b[0m\n",
      "\u001b[38;5;9menhancer_zscore_junke.inactive.TMPRA.bed.gz\u001b[0m\n",
      "\u001b[38;5;9menhancer_zscore_junke.inactive.TMPRA.merge.bed.gz\u001b[0m\n",
      "\u001b[38;5;9menhancer_zscore_junke.inactive.TMPRA_OL13.bed.gz\u001b[0m\n",
      "\u001b[38;5;9menhancer_zscore_junke.inactive.TMPRA_OL43.bed.gz\u001b[0m\n",
      "\u001b[38;5;9menhancer_zscore_junke.inactive.TMPRA_OL45.bed.gz\u001b[0m\n",
      "\u001b[38;5;9menhancer_zscore_junke.inactive.WSTARR.bed.gz\u001b[0m\n",
      "\u001b[38;5;9menhancer_zscore_junke.inactive.WSTARR.merge.bed.gz\u001b[0m\n",
      "\u001b[38;5;9menhancer_zscore_junke.peak.ASTARR_AB.bed.gz\u001b[0m\n",
      "\u001b[38;5;9menhancer_zscore_junke.peak.ASTARR_A.bed.gz\u001b[0m\n",
      "\u001b[38;5;9menhancer_zscore_junke.peak.ASTARR_R.bed.gz\u001b[0m\n",
      "\u001b[38;5;9menhancer_zscore_junke.peak.LMPRA_AB.bed.gz\u001b[0m\n",
      "\u001b[38;5;9menhancer_zscore_junke.peak.LMPRA_A.bed.gz\u001b[0m\n",
      "\u001b[38;5;9menhancer_zscore_junke.peak.LMPRA_R.bed.gz\u001b[0m\n",
      "\u001b[38;5;9menhancer_zscore_junke.peak.TMPRA_A.bed.gz\u001b[0m\n",
      "\u001b[38;5;9menhancer_zscore_junke.peak.TMPRA_R.bed.gz\u001b[0m\n",
      "\u001b[38;5;9menhancer_zscore_junke.peak.WSTARR_AB.bed.gz\u001b[0m\n",
      "\u001b[38;5;9menhancer_zscore_junke.peak.WSTARR_A.bed.gz\u001b[0m\n",
      "\u001b[38;5;9menhancer_zscore_junke.peak.WSTARR_R.bed.gz\u001b[0m\n",
      "\u001b[38;5;27mtmp\u001b[0m\n"
     ]
    }
   ],
   "source": [
    "ls -1 ${FD_RES}/results/region/annotation_enhancer_zscore_junke"
   ]
  },
  {
   "cell_type": "markdown",
   "id": "b37f0498-465b-42fb-97af-77fbbcb2641a",
   "metadata": {
    "tags": []
   },
   "source": [
    "## Merge active peak regions\n",
    "\n",
    "- STARR/MPRA\n",
    "    - inactive"
   ]
  },
  {
   "cell_type": "markdown",
   "id": "1eadd482-1779-43b1-9458-10d9d7a6fd67",
   "metadata": {},
   "source": [
    "**Test loop**"
   ]
  },
  {
   "cell_type": "code",
   "execution_count": 3,
   "id": "e8b7a789-a387-40bb-a338-1f3a78d29665",
   "metadata": {},
   "outputs": [
    {
     "name": "stdout",
     "output_type": "stream",
     "text": [
      "/data/reddylab/Kuei/out/proj_combeffect_encode_fcc/results/region/annotation_enhancer_zscore_junke\n",
      "enhancer_zscore_junke.inactive.ASTARR.bed.gz\n",
      "enhancer_zscore_junke.inactive.ASTARR\n",
      "enhancer_zscore_junke.inactive.ASTARR.merge.bed.gz\n",
      "annotation_merge.enhancer_zscore_junke.inactive.ASTARR.txt\n",
      "${FD_LOG}/annotation_merge.enhancer_zscore_junke.inactive.ASTARR.txt\n",
      "\n",
      "/data/reddylab/Kuei/out/proj_combeffect_encode_fcc/results/region/annotation_enhancer_zscore_junke\n",
      "enhancer_zscore_junke.inactive.LMPRA.bed.gz\n",
      "enhancer_zscore_junke.inactive.LMPRA\n",
      "enhancer_zscore_junke.inactive.LMPRA.merge.bed.gz\n",
      "annotation_merge.enhancer_zscore_junke.inactive.LMPRA.txt\n",
      "${FD_LOG}/annotation_merge.enhancer_zscore_junke.inactive.LMPRA.txt\n",
      "\n",
      "/data/reddylab/Kuei/out/proj_combeffect_encode_fcc/results/region/annotation_enhancer_zscore_junke\n",
      "enhancer_zscore_junke.inactive.TMPRA.bed.gz\n",
      "enhancer_zscore_junke.inactive.TMPRA\n",
      "enhancer_zscore_junke.inactive.TMPRA.merge.bed.gz\n",
      "annotation_merge.enhancer_zscore_junke.inactive.TMPRA.txt\n",
      "${FD_LOG}/annotation_merge.enhancer_zscore_junke.inactive.TMPRA.txt\n",
      "\n",
      "/data/reddylab/Kuei/out/proj_combeffect_encode_fcc/results/region/annotation_enhancer_zscore_junke\n",
      "enhancer_zscore_junke.inactive.WSTARR.bed.gz\n",
      "enhancer_zscore_junke.inactive.WSTARR\n",
      "enhancer_zscore_junke.inactive.WSTARR.merge.bed.gz\n",
      "annotation_merge.enhancer_zscore_junke.inactive.WSTARR.txt\n",
      "${FD_LOG}/annotation_merge.enhancer_zscore_junke.inactive.WSTARR.txt\n",
      "\n"
     ]
    }
   ],
   "source": [
    "### STARR/MPRA\n",
    "FD_INP=${FD_RES}/results/region/annotation_enhancer_zscore_junke\n",
    "FP_INPS_STARRMPRA_INACTIVE=($(ls ${FD_INP}/*inactive.{ASTARR,WSTARR,TMPRA,LMPRA}.bed.gz))\n",
    "\n",
    "### combine the file lists\n",
    "FP_INPS=(\n",
    "    ${FP_INPS_STARRMPRA_INACTIVE[@]}\n",
    ")\n",
    "\n",
    "for FP_INP in ${FP_INPS[@]}; do\n",
    "    FD_INP=$(dirname  ${FP_INP})\n",
    "    FN_INP=$(basename ${FP_INP})\n",
    "    \n",
    "    PREFIX=${FN_INP%.bed.gz}\n",
    "    FD_OUT=${FD_INP}\n",
    "    FN_OUT=${PREFIX}.merge.bed.gz\n",
    "    FN_LOG=annotation_merge.${PREFIX}.txt\n",
    "    \n",
    "    FP_OUT=${FD_OUT}/${FN_OUT}\n",
    "    FP_LOG=${FD_LOG}/${FN_LOG}\n",
    "    \n",
    "    echo ${FD_INP}\n",
    "    echo ${FN_INP}\n",
    "    echo ${PREFIX}\n",
    "    echo ${FN_OUT}\n",
    "    echo ${FN_LOG}\n",
    "    echo '${FD_LOG}'/${FN_LOG}\n",
    "    echo\n",
    "done"
   ]
  },
  {
   "cell_type": "markdown",
   "id": "c2af4fe8-0063-4101-b2fb-77e230e80a4a",
   "metadata": {},
   "source": [
    "**Execute**"
   ]
  },
  {
   "cell_type": "code",
   "execution_count": 4,
   "id": "b782986b-74b4-43da-b92f-7d03c6a73b95",
   "metadata": {},
   "outputs": [
    {
     "name": "stdout",
     "output_type": "stream",
     "text": [
      "/data/reddylab/Kuei/out/proj_combeffect_encode_fcc/results/region/annotation_enhancer_zscore_junke\n",
      "enhancer_zscore_junke.inactive.ASTARR.bed.gz\n",
      "enhancer_zscore_junke.inactive.ASTARR\n",
      "enhancer_zscore_junke.inactive.ASTARR.merge.bed.gz\n",
      "annotation_merge.enhancer_zscore_junke.inactive.ASTARR.txt\n",
      "${FD_LOG}/annotation_merge.enhancer_zscore_junke.inactive.ASTARR.txt\n",
      "\n",
      "Submitted batch job 30231011\n",
      "\n",
      "/data/reddylab/Kuei/out/proj_combeffect_encode_fcc/results/region/annotation_enhancer_zscore_junke\n",
      "enhancer_zscore_junke.inactive.LMPRA.bed.gz\n",
      "enhancer_zscore_junke.inactive.LMPRA\n",
      "enhancer_zscore_junke.inactive.LMPRA.merge.bed.gz\n",
      "annotation_merge.enhancer_zscore_junke.inactive.LMPRA.txt\n",
      "${FD_LOG}/annotation_merge.enhancer_zscore_junke.inactive.LMPRA.txt\n",
      "\n",
      "Submitted batch job 30231012\n",
      "\n",
      "/data/reddylab/Kuei/out/proj_combeffect_encode_fcc/results/region/annotation_enhancer_zscore_junke\n",
      "enhancer_zscore_junke.inactive.TMPRA.bed.gz\n",
      "enhancer_zscore_junke.inactive.TMPRA\n",
      "enhancer_zscore_junke.inactive.TMPRA.merge.bed.gz\n",
      "annotation_merge.enhancer_zscore_junke.inactive.TMPRA.txt\n",
      "${FD_LOG}/annotation_merge.enhancer_zscore_junke.inactive.TMPRA.txt\n",
      "\n",
      "Submitted batch job 30231013\n",
      "\n",
      "/data/reddylab/Kuei/out/proj_combeffect_encode_fcc/results/region/annotation_enhancer_zscore_junke\n",
      "enhancer_zscore_junke.inactive.WSTARR.bed.gz\n",
      "enhancer_zscore_junke.inactive.WSTARR\n",
      "enhancer_zscore_junke.inactive.WSTARR.merge.bed.gz\n",
      "annotation_merge.enhancer_zscore_junke.inactive.WSTARR.txt\n",
      "${FD_LOG}/annotation_merge.enhancer_zscore_junke.inactive.WSTARR.txt\n",
      "\n",
      "Submitted batch job 30231014\n",
      "\n"
     ]
    }
   ],
   "source": [
    "### STARR/MPRA\n",
    "FD_INP=${FD_RES}/results/region/annotation_enhancer_zscore_junke\n",
    "FP_INPS_STARRMPRA_INACTIVE=($(ls ${FD_INP}/*inactive.{ASTARR,WSTARR,TMPRA,LMPRA}.bed.gz))\n",
    "\n",
    "### combine the file lists\n",
    "FP_INPS=(\n",
    "    ${FP_INPS_STARRMPRA_INACTIVE[@]}\n",
    ")\n",
    "\n",
    "for FP_INP in ${FP_INPS[@]}; do\n",
    "    FD_INP=$(dirname  ${FP_INP})\n",
    "    FN_INP=$(basename ${FP_INP})\n",
    "    \n",
    "    PREFIX=${FN_INP%.bed.gz}\n",
    "    FD_OUT=${FD_INP}\n",
    "    FN_OUT=${PREFIX}.merge.bed.gz\n",
    "    FN_LOG=annotation_merge.${PREFIX}.txt\n",
    "    \n",
    "    FP_OUT=${FD_OUT}/${FN_OUT}\n",
    "    FP_LOG=${FD_LOG}/${FN_LOG}\n",
    "    \n",
    "    echo ${FD_INP}\n",
    "    echo ${FN_INP}\n",
    "    echo ${PREFIX}\n",
    "    echo ${FN_OUT}\n",
    "    echo ${FN_LOG}\n",
    "    echo '${FD_LOG}'/${FN_LOG}\n",
    "    echo\n",
    "    sbatch -p ${NODE} \\\n",
    "        --exclude=dl-01 \\\n",
    "        --cpus-per-task 4 \\\n",
    "        --mem 4G \\\n",
    "        --output ${FP_LOG} \\\n",
    "        ../scripts/run_bedtools_merge_region.sh ${FP_INP} ${FP_OUT}\n",
    "    echo\n",
    "done"
   ]
  },
  {
   "cell_type": "markdown",
   "id": "78bfd331-e4f6-4130-996e-2c89a8a30b25",
   "metadata": {},
   "source": [
    "**Check results**"
   ]
  },
  {
   "cell_type": "code",
   "execution_count": 4,
   "id": "bfaaf41c-6447-454b-91a5-b47a9f78e284",
   "metadata": {},
   "outputs": [
    {
     "name": "stdout",
     "output_type": "stream",
     "text": [
      "Hostname:           x2-04-4\n",
      "Slurm Array Index: \n",
      "Time Stamp:         09-04-23+00:29:48\n",
      "\n",
      "Input:  /data/reddylab/Kuei/out/proj_combeffect_encode_fcc/results/region/annotation_enhancer_zscore_junke/enhancer_zscore_junke.inactive.ASTARR.bed.gz\n",
      "\n",
      "show first few lines of input\n",
      "chr1\t115710\t115810\tbin_59\t0.488572939976538\t-\t0.0494318585308272\t0.109071399098828\t0.650631884838429\tN\tinactive\t145\t190\t215\t190\t208\t161\t21\t53\t54\t72\n",
      "chr1\t115720\t115820\tbin_61\t0.344825933065463\t-\t0.20866546748985\t0.338232419737616\t0.5492064954387383\tN\tinactive\t132\t169\t194\t170\t189\t144\t18\t43\t43\t64\n",
      "chr1\t115730\t115830\tbin_63\t0.249383142479579\t+\t0.441324871085628\t0.5858410419082\t0.4818637214319384\tN\tinactive\t132\t167\t217\t176\t199\t159\t22\t44\t43\t52\n",
      "chr1\t115730\t115830\tbin_64\t0.399196858523378\t-\t0.109188715315645\t0.204992193295846\t0.5875696753413435\tN\tinactive\t147\t190\t221\t189\t213\t189\t41\t47\t49\t64\n",
      "chr1\t115740\t115840\tbin_65\t0.201335693587275\t+\t0.489442923072408\t0.629799310960666\t0.44796227667644267\tN\tinactive\t109\t142\t176\t150\t162\t142\t21\t37\t32\t45\n",
      "chr1\t115740\t115840\tbin_66\t0.33711287381878\t-\t0.199192716207137\t0.3265277102148\t0.5437642949062316\tN\tinactive\t131\t166\t200\t168\t186\t154\t31\t41\t42\t54\n",
      "chr1\t115750\t115850\tbin_67\t0.23340999007543\t-\t0.452647630053691\t0.596362040063265\t0.47059334274827214\tN\tinactive\t123\t125\t158\t139\t142\t129\t21\t34\t29\t42\n",
      "chr1\t115750\t115850\tbin_68\t0.362093286329202\t+\t0.245930709451309\t0.382807377821435\t0.5613900397525352\tN\tinactive\t98\t158\t185\t152\t173\t141\t31\t41\t36\t53\n",
      "chr1\t115760\t115860\tbin_69\t0.223662105881115\t-\t0.463018502669129\t0.605872017561687\t0.4637154051029818\tN\tinactive\t117\t118\t143\t131\t132\t121\t21\t31\t27\t38\n",
      "chr1\t115760\t115860\tbin_70\t0.412170800428383\t+\t0.22488725872213\t0.35793312489644\t0.5967238632304738\tN\tinactive\t85\t147\t174\t147\t164\t129\t31\t41\t34\t52\n",
      "\n",
      "\n",
      "Output:  /data/reddylab/Kuei/out/proj_combeffect_encode_fcc/results/region/annotation_enhancer_zscore_junke/enhancer_zscore_junke.inactive.ASTARR.merge.bed.gz\n",
      "\n",
      "show first few lines of output:\n",
      "chr1\t115710\t115870\n",
      "chr1\t136400\t136570\n",
      "chr1\t136770\t136870\n",
      "chr1\t137120\t137240\n",
      "chr1\t139050\t139210\n",
      "chr1\t605250\t605480\n",
      "chr1\t778000\t778390\n",
      "chr1\t778860\t779020\n",
      "chr1\t779100\t779510\n",
      "chr1\t779770\t779880\n",
      "\n",
      "\n",
      "Done!\n",
      "Run Time: 5 seconds\n"
     ]
    }
   ],
   "source": [
    "cat ${FD_LOG}/annotation_merge.enhancer_zscore_junke.inactive.ASTARR.txt"
   ]
  },
  {
   "cell_type": "code",
   "execution_count": 5,
   "id": "3926a9d4-0a32-45cd-a4fd-d8af623d8cbe",
   "metadata": {},
   "outputs": [
    {
     "name": "stdout",
     "output_type": "stream",
     "text": [
      "Hostname:           x2-05-1\n",
      "Slurm Array Index: \n",
      "Time Stamp:         09-04-23+00:29:48\n",
      "\n",
      "Input:  /data/reddylab/Kuei/out/proj_combeffect_encode_fcc/results/region/annotation_enhancer_zscore_junke/enhancer_zscore_junke.inactive.WSTARR.bed.gz\n",
      "\n",
      "show first few lines of input\n",
      "chr1\t88430\t88530\tbin_43\t0.219133859242476\t+\t0.735784438477576\t0.910566085869422\t0.2949021802449866\tN\tinactive\t11\t11\t11\t4\n",
      "chr1\t88440\t88540\tbin_44\t0.243784462697835\t+\t0.705576146063813\t0.898184561496427\t0.34164495665210354\tN\tinactive\t11\t11\t12\t4\n",
      "chr1\t88450\t88550\tbin_45\t0.269256185975577\t+\t0.676086384487412\t0.885449245240551\t0.3899447505306429\tN\tinactive\t11\t11\t13\t4\n",
      "chr1\t133200\t133300\tbin_62\t0.0159003788123292\t+\t0.973923556971652\t0.992733089896101\t-0.09047163631857148\tN\tinactive\t14\t12\t5\t11\n",
      "chr1\t133200\t133300\tbin_63\t0.184097336156335\t-\t0.661300909358384\t0.879543475902448\t0.22846549573687386\tN\tinactive\t18\t19\t8\t11\n",
      "chr1\t133210\t133310\tbin_64\t-0.0126174104498143\t+\t0.979625649760522\t0.994631294789604\t-0.14454741785145164\tN\tinactive\t14\t12\t5\t10\n",
      "chr1\t133210\t133310\tbin_65\t0.184097336156335\t-\t0.661300909358384\t0.879543475902448\t0.22846549573687386\tN\tinactive\t18\t19\t8\t11\n",
      "chr1\t133220\t133320\tbin_66\t-0.108832725709117\t+\t0.821970710776557\t0.942993639230674\t-0.32699207792845003\tN\tinactive\t15\t12\t5\t10\n",
      "chr1\t133220\t133320\tbin_67\t0.184097336156335\t-\t0.661300909358384\t0.879543475902448\t0.22846549573687386\tN\tinactive\t18\t19\t8\t11\n",
      "chr1\t133230\t133330\tbin_68\t-0.0485040768114792\t+\t0.916966523133765\t0.97508120853216\t-0.21259615445856436\tN\tinactive\t15\t12\t6\t10\n",
      "\n",
      "\n",
      "Output:  /data/reddylab/Kuei/out/proj_combeffect_encode_fcc/results/region/annotation_enhancer_zscore_junke/enhancer_zscore_junke.inactive.WSTARR.merge.bed.gz\n",
      "\n",
      "show first few lines of output:\n",
      "chr1\t88430\t88550\n",
      "chr1\t133200\t133410\n",
      "chr1\t133490\t133610\n",
      "chr1\t135190\t135560\n",
      "chr1\t138970\t139370\n",
      "chr1\t139390\t139500\n",
      "chr1\t181170\t181880\n",
      "chr1\t182490\t182710\n",
      "chr1\t182880\t183240\n",
      "chr1\t183300\t184630\n",
      "\n",
      "\n",
      "Done!\n",
      "Run Time: 6 minutes and 5 seconds\n"
     ]
    }
   ],
   "source": [
    "cat ${FD_LOG}/annotation_merge.enhancer_zscore_junke.inactive.WSTARR.txt"
   ]
  },
  {
   "cell_type": "code",
   "execution_count": 6,
   "id": "5f10c4f5-7d91-4e48-9520-f7f6ff48cf33",
   "metadata": {},
   "outputs": [
    {
     "name": "stdout",
     "output_type": "stream",
     "text": [
      "Hostname:           x2-05-1\n",
      "Slurm Array Index: \n",
      "Time Stamp:         09-04-23+00:29:48\n",
      "\n",
      "Input:  /data/reddylab/Kuei/out/proj_combeffect_encode_fcc/results/region/annotation_enhancer_zscore_junke/enhancer_zscore_junke.inactive.LMPRA.bed.gz\n",
      "\n",
      "show first few lines of input\n",
      "chr1\t115631\t115831\tpeak1_Reversed:\t0.398735834706535\t-\t0.0013375047828755\t0.0031232262677441482\t1.4431961022982511\tN\tinactive\t249\t54\t183\t340\t173\t252\n",
      "chr1\t138940\t139140\tpeak2_Reversed:\t0.395213989537064\t-\t0.0003757830123043\t0.0009452051849263519\t1.4304064613669847\tN\tinactive\t370\t65\t260\t432\t269\t339\n",
      "chr1\t203225\t203425\tpeak3_Reversed:\t0.167576561075908\t-\t0.211724907775282\t0.2957848605680426\t0.6037372489403804\tN\tinactive\t213\t43\t189\t255\t129\t215\n",
      "chr1\t267911\t268111\tpeak4_Reversed:\t-0.0194978451860204\t-\t0.888287944662675\t0.9192620043359251\t-0.0756266550325208\tN\tinactive\t189\t44\t189\t210\t120\t148\n",
      "chr1\t586093\t586293\tpeak5_Reversed:\t0.355087131022665\t-\t0.0049136825433679\t0.01047598307120363\t1.2846850887900123\tN\tinactive\t217\t52\t206\t307\t172\t231\n",
      "chr1\t629847\t630047\tpeak6\t0.488156734343401\t+\t4.34427169886078e-05\t0.00012167046429919606\t1.7679296277865713\tN\tinactive\t4884227\t1109967\t3901646\t7311595\t3715419\t5558148\n",
      "chr1\t629847\t630047\tpeak6_Reversed:\t-0.427360733172159\t-\t0.0104071603166929\t0.020852782119222694\t-1.5567877042888638\tN\tinactive\t138\t38\t143\t122\t59\t114\n",
      "chr1\t630216\t630416\tpeak7\t0.480414406739682\t+\t4.63945328269507e-05\t0.00012952108567795234\t1.7398132327553064\tN\tinactive\t5034167\t1143196\t4026179\t7492505\t3811575\t5699235\n",
      "chr1\t630216\t630416\tpeak7_Reversed:\t0.312130013696483\t-\t0.141119484745241\t0.21005721452516168\t1.128685582960892\tN\tinactive\t77\t27\t36\t93\t48\t73\n",
      "chr1\t631350\t631550\tpeak8_Reversed:\t0.112773818878669\t-\t0.500084962285493\t0.5945075570240628\t0.4047201539166576\tN\tinactive\t170\t28\t97\t193\t70\t129\n",
      "\n",
      "\n",
      "Output:  /data/reddylab/Kuei/out/proj_combeffect_encode_fcc/results/region/annotation_enhancer_zscore_junke/enhancer_zscore_junke.inactive.LMPRA.merge.bed.gz\n",
      "\n",
      "show first few lines of output:\n",
      "chr1\t115631\t115831\n",
      "chr1\t138940\t139140\n",
      "chr1\t203225\t203425\n",
      "chr1\t267911\t268111\n",
      "chr1\t586093\t586293\n",
      "chr1\t629847\t630047\n",
      "chr1\t630216\t630416\n",
      "chr1\t631350\t631550\n",
      "chr1\t633928\t634128\n",
      "chr1\t634309\t634509\n",
      "\n",
      "\n",
      "Done!\n",
      "Run Time: 0 seconds\n"
     ]
    }
   ],
   "source": [
    "cat ${FD_LOG}/annotation_merge.enhancer_zscore_junke.inactive.LMPRA.txt"
   ]
  },
  {
   "cell_type": "code",
   "execution_count": null,
   "id": "0ecedc36-d814-4c29-9d61-93b5580364a3",
   "metadata": {},
   "outputs": [],
   "source": []
  }
 ],
 "metadata": {
  "kernelspec": {
   "display_name": "Bash",
   "language": "bash",
   "name": "bash"
  },
  "language_info": {
   "codemirror_mode": "shell",
   "file_extension": ".sh",
   "mimetype": "text/x-sh",
   "name": "bash"
  }
 },
 "nbformat": 4,
 "nbformat_minor": 5
}
