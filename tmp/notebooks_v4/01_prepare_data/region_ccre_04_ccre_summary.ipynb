{
 "cells": [
  {
   "cell_type": "markdown",
   "metadata": {},
   "source": [
    "**Set environment**"
   ]
  },
  {
   "cell_type": "code",
   "execution_count": 1,
   "metadata": {},
   "outputs": [
    {
     "name": "stdout",
     "output_type": "stream",
     "text": [
      "You are in Singularity: singularity_proj_encode_fcc \n",
      "BASE DIRECTORY (FD_BASE): /data/reddylab/Kuei \n",
      "WORK DIRECTORY (FD_WORK): /data/reddylab/Kuei/out \n",
      "CODE DIRECTORY (FD_CODE): /data/reddylab/Kuei/code \n",
      "PATH OF PROJECT (FD_PRJ): /data/reddylab/Kuei/code/Proj_CombEffect_ENCODE_FCC \n",
      "PATH OF RESULTS (FD_RES): /data/reddylab/Kuei/out/proj_combeffect_encode_fcc \n",
      "PATH OF LOG     (FD_LOG): /data/reddylab/Kuei/out/proj_combeffect_encode_fcc/log \n"
     ]
    }
   ],
   "source": [
    "suppressMessages(suppressWarnings(source(\"../config/config_sing.R\")))\n",
    "show_env()"
   ]
  },
  {
   "cell_type": "code",
   "execution_count": 2,
   "metadata": {},
   "outputs": [
    {
     "name": "stderr",
     "output_type": "stream",
     "text": [
      "\u001b[1mRows: \u001b[22m\u001b[34m2348854\u001b[39m \u001b[1mColumns: \u001b[22m\u001b[34m11\u001b[39m\n",
      "\u001b[36m──\u001b[39m \u001b[1mColumn specification\u001b[22m \u001b[36m──────────────────────────────────────────────────────────────────────\u001b[39m\n",
      "\u001b[1mDelimiter:\u001b[22m \"\\t\"\n",
      "\u001b[31mchr\u001b[39m (6): Chrom, Name, Strand, ItemRgb, Category, Note\n",
      "\u001b[32mdbl\u001b[39m (5): Start, End, Score, ThickStart, ThickEnd\n",
      "\n",
      "\u001b[36mℹ\u001b[39m Use `spec()` to retrieve the full column specification for this data.\n",
      "\u001b[36mℹ\u001b[39m Specify the column types or set `show_col_types = FALSE` to quiet this message.\n"
     ]
    },
    {
     "name": "stdout",
     "output_type": "stream",
     "text": [
      "[1] 2348854      11\n"
     ]
    },
    {
     "data": {
      "text/html": [
       "<table class=\"dataframe\">\n",
       "<caption>A tibble: 6 × 11</caption>\n",
       "<thead>\n",
       "\t<tr><th scope=col>Chrom</th><th scope=col>Start</th><th scope=col>End</th><th scope=col>Name</th><th scope=col>Score</th><th scope=col>Strand</th><th scope=col>ThickStart</th><th scope=col>ThickEnd</th><th scope=col>ItemRgb</th><th scope=col>Category</th><th scope=col>Note</th></tr>\n",
       "\t<tr><th scope=col>&lt;chr&gt;</th><th scope=col>&lt;dbl&gt;</th><th scope=col>&lt;dbl&gt;</th><th scope=col>&lt;chr&gt;</th><th scope=col>&lt;dbl&gt;</th><th scope=col>&lt;chr&gt;</th><th scope=col>&lt;dbl&gt;</th><th scope=col>&lt;dbl&gt;</th><th scope=col>&lt;chr&gt;</th><th scope=col>&lt;chr&gt;</th><th scope=col>&lt;chr&gt;</th></tr>\n",
       "</thead>\n",
       "<tbody>\n",
       "\t<tr><td>chr1</td><td>10033</td><td>10250</td><td>EH38E2776516</td><td>0</td><td>.</td><td>10033</td><td>10250</td><td>225,225,225</td><td>Low-DNase</td><td>All-data/Full-classification</td></tr>\n",
       "\t<tr><td>chr1</td><td>10385</td><td>10713</td><td>EH38E2776517</td><td>0</td><td>.</td><td>10385</td><td>10713</td><td>225,225,225</td><td>Low-DNase</td><td>All-data/Full-classification</td></tr>\n",
       "\t<tr><td>chr1</td><td>16097</td><td>16381</td><td>EH38E3951272</td><td>0</td><td>.</td><td>16097</td><td>16381</td><td>225,225,225</td><td>Low-DNase</td><td>All-data/Full-classification</td></tr>\n",
       "\t<tr><td>chr1</td><td>17343</td><td>17642</td><td>EH38E3951273</td><td>0</td><td>.</td><td>17343</td><td>17642</td><td>225,225,225</td><td>Low-DNase</td><td>All-data/Full-classification</td></tr>\n",
       "\t<tr><td>chr1</td><td>29320</td><td>29517</td><td>EH38E3951274</td><td>0</td><td>.</td><td>29320</td><td>29517</td><td>225,225,225</td><td>Low-DNase</td><td>All-data/Full-classification</td></tr>\n",
       "\t<tr><td>chr1</td><td>66350</td><td>66509</td><td>EH38E3951275</td><td>0</td><td>.</td><td>66350</td><td>66509</td><td>225,225,225</td><td>Low-DNase</td><td>All-data/Full-classification</td></tr>\n",
       "</tbody>\n",
       "</table>\n"
      ],
      "text/latex": [
       "A tibble: 6 × 11\n",
       "\\begin{tabular}{lllllllllll}\n",
       " Chrom & Start & End & Name & Score & Strand & ThickStart & ThickEnd & ItemRgb & Category & Note\\\\\n",
       " <chr> & <dbl> & <dbl> & <chr> & <dbl> & <chr> & <dbl> & <dbl> & <chr> & <chr> & <chr>\\\\\n",
       "\\hline\n",
       "\t chr1 & 10033 & 10250 & EH38E2776516 & 0 & . & 10033 & 10250 & 225,225,225 & Low-DNase & All-data/Full-classification\\\\\n",
       "\t chr1 & 10385 & 10713 & EH38E2776517 & 0 & . & 10385 & 10713 & 225,225,225 & Low-DNase & All-data/Full-classification\\\\\n",
       "\t chr1 & 16097 & 16381 & EH38E3951272 & 0 & . & 16097 & 16381 & 225,225,225 & Low-DNase & All-data/Full-classification\\\\\n",
       "\t chr1 & 17343 & 17642 & EH38E3951273 & 0 & . & 17343 & 17642 & 225,225,225 & Low-DNase & All-data/Full-classification\\\\\n",
       "\t chr1 & 29320 & 29517 & EH38E3951274 & 0 & . & 29320 & 29517 & 225,225,225 & Low-DNase & All-data/Full-classification\\\\\n",
       "\t chr1 & 66350 & 66509 & EH38E3951275 & 0 & . & 66350 & 66509 & 225,225,225 & Low-DNase & All-data/Full-classification\\\\\n",
       "\\end{tabular}\n"
      ],
      "text/markdown": [
       "\n",
       "A tibble: 6 × 11\n",
       "\n",
       "| Chrom &lt;chr&gt; | Start &lt;dbl&gt; | End &lt;dbl&gt; | Name &lt;chr&gt; | Score &lt;dbl&gt; | Strand &lt;chr&gt; | ThickStart &lt;dbl&gt; | ThickEnd &lt;dbl&gt; | ItemRgb &lt;chr&gt; | Category &lt;chr&gt; | Note &lt;chr&gt; |\n",
       "|---|---|---|---|---|---|---|---|---|---|---|\n",
       "| chr1 | 10033 | 10250 | EH38E2776516 | 0 | . | 10033 | 10250 | 225,225,225 | Low-DNase | All-data/Full-classification |\n",
       "| chr1 | 10385 | 10713 | EH38E2776517 | 0 | . | 10385 | 10713 | 225,225,225 | Low-DNase | All-data/Full-classification |\n",
       "| chr1 | 16097 | 16381 | EH38E3951272 | 0 | . | 16097 | 16381 | 225,225,225 | Low-DNase | All-data/Full-classification |\n",
       "| chr1 | 17343 | 17642 | EH38E3951273 | 0 | . | 17343 | 17642 | 225,225,225 | Low-DNase | All-data/Full-classification |\n",
       "| chr1 | 29320 | 29517 | EH38E3951274 | 0 | . | 29320 | 29517 | 225,225,225 | Low-DNase | All-data/Full-classification |\n",
       "| chr1 | 66350 | 66509 | EH38E3951275 | 0 | . | 66350 | 66509 | 225,225,225 | Low-DNase | All-data/Full-classification |\n",
       "\n"
      ],
      "text/plain": [
       "  Chrom Start End   Name         Score Strand ThickStart ThickEnd ItemRgb    \n",
       "1 chr1  10033 10250 EH38E2776516 0     .      10033      10250    225,225,225\n",
       "2 chr1  10385 10713 EH38E2776517 0     .      10385      10713    225,225,225\n",
       "3 chr1  16097 16381 EH38E3951272 0     .      16097      16381    225,225,225\n",
       "4 chr1  17343 17642 EH38E3951273 0     .      17343      17642    225,225,225\n",
       "5 chr1  29320 29517 EH38E3951274 0     .      29320      29517    225,225,225\n",
       "6 chr1  66350 66509 EH38E3951275 0     .      66350      66509    225,225,225\n",
       "  Category  Note                        \n",
       "1 Low-DNase All-data/Full-classification\n",
       "2 Low-DNase All-data/Full-classification\n",
       "3 Low-DNase All-data/Full-classification\n",
       "4 Low-DNase All-data/Full-classification\n",
       "5 Low-DNase All-data/Full-classification\n",
       "6 Low-DNase All-data/Full-classification"
      ]
     },
     "metadata": {},
     "output_type": "display_data"
    }
   ],
   "source": [
    "fdiry = file.path(FD_RES, \"source\", \"annotation_cCREs\")\n",
    "fname = \"K562.ENCSR913HQX.ENCFF286VQG.ccres.bed.gz\"\n",
    "fpath = file.path(fdiry, fname)\n",
    "\n",
    "cnames = c(\n",
    "    \"Chrom\", \"Start\", \"End\", \"Name\", \"Score\", \"Strand\", \n",
    "    \"ThickStart\", \"ThickEnd\", \"ItemRgb\", \n",
    "    \"Category\", \"Note\")\n",
    "dat = read_tsv(fpath, col_names = cnames)\n",
    "\n",
    "dat_ccre_v4 = dat\n",
    "print(dim(dat))\n",
    "head(dat)"
   ]
  },
  {
   "cell_type": "markdown",
   "metadata": {},
   "source": [
    "## For IGV visualization"
   ]
  },
  {
   "cell_type": "code",
   "execution_count": 3,
   "metadata": {},
   "outputs": [
    {
     "name": "stdout",
     "output_type": "stream",
     "text": [
      "[1] 2348854      11\n"
     ]
    },
    {
     "data": {
      "text/html": [
       "<table class=\"dataframe\">\n",
       "<caption>A tibble: 6 × 11</caption>\n",
       "<thead>\n",
       "\t<tr><th scope=col>Chrom</th><th scope=col>Start</th><th scope=col>End</th><th scope=col>Name</th><th scope=col>Score</th><th scope=col>Strand</th><th scope=col>ThickStart</th><th scope=col>ThickEnd</th><th scope=col>ItemRgb</th><th scope=col>Category</th><th scope=col>Note</th></tr>\n",
       "\t<tr><th scope=col>&lt;chr&gt;</th><th scope=col>&lt;dbl&gt;</th><th scope=col>&lt;dbl&gt;</th><th scope=col>&lt;chr&gt;</th><th scope=col>&lt;dbl&gt;</th><th scope=col>&lt;chr&gt;</th><th scope=col>&lt;dbl&gt;</th><th scope=col>&lt;dbl&gt;</th><th scope=col>&lt;chr&gt;</th><th scope=col>&lt;chr&gt;</th><th scope=col>&lt;chr&gt;</th></tr>\n",
       "</thead>\n",
       "<tbody>\n",
       "\t<tr><td>chr1</td><td>10033</td><td>10250</td><td>Low-DNase</td><td>0</td><td>.</td><td>10033</td><td>10250</td><td>225,225,225</td><td>Low-DNase</td><td>All-data/Full-classification</td></tr>\n",
       "\t<tr><td>chr1</td><td>10385</td><td>10713</td><td>Low-DNase</td><td>0</td><td>.</td><td>10385</td><td>10713</td><td>225,225,225</td><td>Low-DNase</td><td>All-data/Full-classification</td></tr>\n",
       "\t<tr><td>chr1</td><td>16097</td><td>16381</td><td>Low-DNase</td><td>0</td><td>.</td><td>16097</td><td>16381</td><td>225,225,225</td><td>Low-DNase</td><td>All-data/Full-classification</td></tr>\n",
       "\t<tr><td>chr1</td><td>17343</td><td>17642</td><td>Low-DNase</td><td>0</td><td>.</td><td>17343</td><td>17642</td><td>225,225,225</td><td>Low-DNase</td><td>All-data/Full-classification</td></tr>\n",
       "\t<tr><td>chr1</td><td>29320</td><td>29517</td><td>Low-DNase</td><td>0</td><td>.</td><td>29320</td><td>29517</td><td>225,225,225</td><td>Low-DNase</td><td>All-data/Full-classification</td></tr>\n",
       "\t<tr><td>chr1</td><td>66350</td><td>66509</td><td>Low-DNase</td><td>0</td><td>.</td><td>66350</td><td>66509</td><td>225,225,225</td><td>Low-DNase</td><td>All-data/Full-classification</td></tr>\n",
       "</tbody>\n",
       "</table>\n"
      ],
      "text/latex": [
       "A tibble: 6 × 11\n",
       "\\begin{tabular}{lllllllllll}\n",
       " Chrom & Start & End & Name & Score & Strand & ThickStart & ThickEnd & ItemRgb & Category & Note\\\\\n",
       " <chr> & <dbl> & <dbl> & <chr> & <dbl> & <chr> & <dbl> & <dbl> & <chr> & <chr> & <chr>\\\\\n",
       "\\hline\n",
       "\t chr1 & 10033 & 10250 & Low-DNase & 0 & . & 10033 & 10250 & 225,225,225 & Low-DNase & All-data/Full-classification\\\\\n",
       "\t chr1 & 10385 & 10713 & Low-DNase & 0 & . & 10385 & 10713 & 225,225,225 & Low-DNase & All-data/Full-classification\\\\\n",
       "\t chr1 & 16097 & 16381 & Low-DNase & 0 & . & 16097 & 16381 & 225,225,225 & Low-DNase & All-data/Full-classification\\\\\n",
       "\t chr1 & 17343 & 17642 & Low-DNase & 0 & . & 17343 & 17642 & 225,225,225 & Low-DNase & All-data/Full-classification\\\\\n",
       "\t chr1 & 29320 & 29517 & Low-DNase & 0 & . & 29320 & 29517 & 225,225,225 & Low-DNase & All-data/Full-classification\\\\\n",
       "\t chr1 & 66350 & 66509 & Low-DNase & 0 & . & 66350 & 66509 & 225,225,225 & Low-DNase & All-data/Full-classification\\\\\n",
       "\\end{tabular}\n"
      ],
      "text/markdown": [
       "\n",
       "A tibble: 6 × 11\n",
       "\n",
       "| Chrom &lt;chr&gt; | Start &lt;dbl&gt; | End &lt;dbl&gt; | Name &lt;chr&gt; | Score &lt;dbl&gt; | Strand &lt;chr&gt; | ThickStart &lt;dbl&gt; | ThickEnd &lt;dbl&gt; | ItemRgb &lt;chr&gt; | Category &lt;chr&gt; | Note &lt;chr&gt; |\n",
       "|---|---|---|---|---|---|---|---|---|---|---|\n",
       "| chr1 | 10033 | 10250 | Low-DNase | 0 | . | 10033 | 10250 | 225,225,225 | Low-DNase | All-data/Full-classification |\n",
       "| chr1 | 10385 | 10713 | Low-DNase | 0 | . | 10385 | 10713 | 225,225,225 | Low-DNase | All-data/Full-classification |\n",
       "| chr1 | 16097 | 16381 | Low-DNase | 0 | . | 16097 | 16381 | 225,225,225 | Low-DNase | All-data/Full-classification |\n",
       "| chr1 | 17343 | 17642 | Low-DNase | 0 | . | 17343 | 17642 | 225,225,225 | Low-DNase | All-data/Full-classification |\n",
       "| chr1 | 29320 | 29517 | Low-DNase | 0 | . | 29320 | 29517 | 225,225,225 | Low-DNase | All-data/Full-classification |\n",
       "| chr1 | 66350 | 66509 | Low-DNase | 0 | . | 66350 | 66509 | 225,225,225 | Low-DNase | All-data/Full-classification |\n",
       "\n"
      ],
      "text/plain": [
       "  Chrom Start End   Name      Score Strand ThickStart ThickEnd ItemRgb    \n",
       "1 chr1  10033 10250 Low-DNase 0     .      10033      10250    225,225,225\n",
       "2 chr1  10385 10713 Low-DNase 0     .      10385      10713    225,225,225\n",
       "3 chr1  16097 16381 Low-DNase 0     .      16097      16381    225,225,225\n",
       "4 chr1  17343 17642 Low-DNase 0     .      17343      17642    225,225,225\n",
       "5 chr1  29320 29517 Low-DNase 0     .      29320      29517    225,225,225\n",
       "6 chr1  66350 66509 Low-DNase 0     .      66350      66509    225,225,225\n",
       "  Category  Note                        \n",
       "1 Low-DNase All-data/Full-classification\n",
       "2 Low-DNase All-data/Full-classification\n",
       "3 Low-DNase All-data/Full-classification\n",
       "4 Low-DNase All-data/Full-classification\n",
       "5 Low-DNase All-data/Full-classification\n",
       "6 Low-DNase All-data/Full-classification"
      ]
     },
     "metadata": {},
     "output_type": "display_data"
    }
   ],
   "source": [
    "dat = dat_ccre_v4\n",
    "dat$Name = dat$Category\n",
    "\n",
    "dat_ccre_v4_cat2name = dat\n",
    "print(dim(dat))\n",
    "head(dat)"
   ]
  },
  {
   "cell_type": "code",
   "execution_count": 4,
   "metadata": {},
   "outputs": [
    {
     "name": "stdout",
     "output_type": "stream",
     "text": [
      "\n",
      " dELS  pELS   PLS \n",
      "35488 41813 20041 \n",
      "[1] 97342    11\n"
     ]
    },
    {
     "data": {
      "text/html": [
       "<table class=\"dataframe\">\n",
       "<caption>A tibble: 3 × 11</caption>\n",
       "<thead>\n",
       "\t<tr><th scope=col>Chrom</th><th scope=col>Start</th><th scope=col>End</th><th scope=col>Name</th><th scope=col>Score</th><th scope=col>Strand</th><th scope=col>ThickStart</th><th scope=col>ThickEnd</th><th scope=col>ItemRgb</th><th scope=col>Category</th><th scope=col>Note</th></tr>\n",
       "\t<tr><th scope=col>&lt;chr&gt;</th><th scope=col>&lt;dbl&gt;</th><th scope=col>&lt;dbl&gt;</th><th scope=col>&lt;chr&gt;</th><th scope=col>&lt;dbl&gt;</th><th scope=col>&lt;chr&gt;</th><th scope=col>&lt;dbl&gt;</th><th scope=col>&lt;dbl&gt;</th><th scope=col>&lt;chr&gt;</th><th scope=col>&lt;chr&gt;</th><th scope=col>&lt;chr&gt;</th></tr>\n",
       "</thead>\n",
       "<tbody>\n",
       "\t<tr><td>chr1</td><td>138917</td><td>139112</td><td>pELS</td><td>0</td><td>.</td><td>138917</td><td>139112</td><td>255,167,0</td><td>pELS</td><td>All-data/Full-classification</td></tr>\n",
       "\t<tr><td>chr1</td><td>778570</td><td>778919</td><td>PLS </td><td>0</td><td>.</td><td>778570</td><td>778919</td><td>255,0,0  </td><td>PLS </td><td>All-data/Full-classification</td></tr>\n",
       "\t<tr><td>chr1</td><td>779023</td><td>779182</td><td>PLS </td><td>0</td><td>.</td><td>779023</td><td>779182</td><td>255,0,0  </td><td>PLS </td><td>All-data/Full-classification</td></tr>\n",
       "</tbody>\n",
       "</table>\n"
      ],
      "text/latex": [
       "A tibble: 3 × 11\n",
       "\\begin{tabular}{lllllllllll}\n",
       " Chrom & Start & End & Name & Score & Strand & ThickStart & ThickEnd & ItemRgb & Category & Note\\\\\n",
       " <chr> & <dbl> & <dbl> & <chr> & <dbl> & <chr> & <dbl> & <dbl> & <chr> & <chr> & <chr>\\\\\n",
       "\\hline\n",
       "\t chr1 & 138917 & 139112 & pELS & 0 & . & 138917 & 139112 & 255,167,0 & pELS & All-data/Full-classification\\\\\n",
       "\t chr1 & 778570 & 778919 & PLS  & 0 & . & 778570 & 778919 & 255,0,0   & PLS  & All-data/Full-classification\\\\\n",
       "\t chr1 & 779023 & 779182 & PLS  & 0 & . & 779023 & 779182 & 255,0,0   & PLS  & All-data/Full-classification\\\\\n",
       "\\end{tabular}\n"
      ],
      "text/markdown": [
       "\n",
       "A tibble: 3 × 11\n",
       "\n",
       "| Chrom &lt;chr&gt; | Start &lt;dbl&gt; | End &lt;dbl&gt; | Name &lt;chr&gt; | Score &lt;dbl&gt; | Strand &lt;chr&gt; | ThickStart &lt;dbl&gt; | ThickEnd &lt;dbl&gt; | ItemRgb &lt;chr&gt; | Category &lt;chr&gt; | Note &lt;chr&gt; |\n",
       "|---|---|---|---|---|---|---|---|---|---|---|\n",
       "| chr1 | 138917 | 139112 | pELS | 0 | . | 138917 | 139112 | 255,167,0 | pELS | All-data/Full-classification |\n",
       "| chr1 | 778570 | 778919 | PLS  | 0 | . | 778570 | 778919 | 255,0,0   | PLS  | All-data/Full-classification |\n",
       "| chr1 | 779023 | 779182 | PLS  | 0 | . | 779023 | 779182 | 255,0,0   | PLS  | All-data/Full-classification |\n",
       "\n"
      ],
      "text/plain": [
       "  Chrom Start  End    Name Score Strand ThickStart ThickEnd ItemRgb   Category\n",
       "1 chr1  138917 139112 pELS 0     .      138917     139112   255,167,0 pELS    \n",
       "2 chr1  778570 778919 PLS  0     .      778570     778919   255,0,0   PLS     \n",
       "3 chr1  779023 779182 PLS  0     .      779023     779182   255,0,0   PLS     \n",
       "  Note                        \n",
       "1 All-data/Full-classification\n",
       "2 All-data/Full-classification\n",
       "3 All-data/Full-classification"
      ]
     },
     "metadata": {},
     "output_type": "display_data"
    }
   ],
   "source": [
    "dat = dat_ccre_v4_cat2name\n",
    "vec = c(\"PLS\", \"pELS\", \"dELS\")\n",
    "\n",
    "dat = dat %>% dplyr::filter(Category %in% vec)\n",
    "res = table(dat$Name)\n",
    "\n",
    "dat_ccre_v4_cat2name_subset = dat\n",
    "print(res)\n",
    "print(dim(dat))\n",
    "head(dat, 3)"
   ]
  },
  {
   "cell_type": "code",
   "execution_count": 5,
   "metadata": {},
   "outputs": [],
   "source": [
    "fdiry = file.path(FD_RES, \"results\", \"region\", \"annotation_ccre\", \"summary\")\n",
    "fname = \"K562.ENCSR913HQX.ENCFF286VQG.ccres.cat2name.bed.gz\"\n",
    "fpath = file.path(fdiry, fname)\n",
    "\n",
    "dat = dat_ccre_v4_cat2name\n",
    "write_tsv(dat, fpath, col_names = FALSE)"
   ]
  },
  {
   "cell_type": "code",
   "execution_count": 6,
   "metadata": {},
   "outputs": [],
   "source": [
    "fdiry = file.path(FD_RES, \"results\", \"region\", \"annotation_ccre\", \"summary\")\n",
    "fname = \"K562.ENCSR913HQX.ENCFF286VQG.ccres.cat2name.PLS_ELS.bed.gz\"\n",
    "fpath = file.path(fdiry, fname)\n",
    "\n",
    "dat = dat_ccre_v4_cat2name_subset\n",
    "write_tsv(dat, fpath, col_names = FALSE)"
   ]
  },
  {
   "cell_type": "markdown",
   "metadata": {},
   "source": [
    "## For LOLA enrichment"
   ]
  },
  {
   "cell_type": "code",
   "execution_count": 10,
   "metadata": {},
   "outputs": [
    {
     "name": "stdout",
     "output_type": "stream",
     "text": [
      "\n",
      "   CA-CTCF CA-H3K4me3    CA-only      CA-TF       dELS  Low-DNase       pELS \n",
      "     28271       5861       2958      38859      35488    2175563      41813 \n",
      "       PLS \n",
      "     20041 \n"
     ]
    },
    {
     "data": {
      "text/html": [
       "<table class=\"dataframe\">\n",
       "<caption>A tibble: 6 × 11</caption>\n",
       "<thead>\n",
       "\t<tr><th scope=col>Chrom</th><th scope=col>Start</th><th scope=col>End</th><th scope=col>Name</th><th scope=col>Score</th><th scope=col>Strand</th><th scope=col>ThickStart</th><th scope=col>ThickEnd</th><th scope=col>ItemRgb</th><th scope=col>Category</th><th scope=col>Note</th></tr>\n",
       "\t<tr><th scope=col>&lt;chr&gt;</th><th scope=col>&lt;dbl&gt;</th><th scope=col>&lt;dbl&gt;</th><th scope=col>&lt;chr&gt;</th><th scope=col>&lt;dbl&gt;</th><th scope=col>&lt;chr&gt;</th><th scope=col>&lt;dbl&gt;</th><th scope=col>&lt;dbl&gt;</th><th scope=col>&lt;chr&gt;</th><th scope=col>&lt;chr&gt;</th><th scope=col>&lt;chr&gt;</th></tr>\n",
       "</thead>\n",
       "<tbody>\n",
       "\t<tr><td>chr1</td><td>10033</td><td>10250</td><td>EH38E2776516</td><td>0</td><td>.</td><td>10033</td><td>10250</td><td>225,225,225</td><td>Low-DNase</td><td>All-data/Full-classification</td></tr>\n",
       "\t<tr><td>chr1</td><td>10385</td><td>10713</td><td>EH38E2776517</td><td>0</td><td>.</td><td>10385</td><td>10713</td><td>225,225,225</td><td>Low-DNase</td><td>All-data/Full-classification</td></tr>\n",
       "\t<tr><td>chr1</td><td>16097</td><td>16381</td><td>EH38E3951272</td><td>0</td><td>.</td><td>16097</td><td>16381</td><td>225,225,225</td><td>Low-DNase</td><td>All-data/Full-classification</td></tr>\n",
       "\t<tr><td>chr1</td><td>17343</td><td>17642</td><td>EH38E3951273</td><td>0</td><td>.</td><td>17343</td><td>17642</td><td>225,225,225</td><td>Low-DNase</td><td>All-data/Full-classification</td></tr>\n",
       "\t<tr><td>chr1</td><td>29320</td><td>29517</td><td>EH38E3951274</td><td>0</td><td>.</td><td>29320</td><td>29517</td><td>225,225,225</td><td>Low-DNase</td><td>All-data/Full-classification</td></tr>\n",
       "\t<tr><td>chr1</td><td>66350</td><td>66509</td><td>EH38E3951275</td><td>0</td><td>.</td><td>66350</td><td>66509</td><td>225,225,225</td><td>Low-DNase</td><td>All-data/Full-classification</td></tr>\n",
       "</tbody>\n",
       "</table>\n"
      ],
      "text/latex": [
       "A tibble: 6 × 11\n",
       "\\begin{tabular}{lllllllllll}\n",
       " Chrom & Start & End & Name & Score & Strand & ThickStart & ThickEnd & ItemRgb & Category & Note\\\\\n",
       " <chr> & <dbl> & <dbl> & <chr> & <dbl> & <chr> & <dbl> & <dbl> & <chr> & <chr> & <chr>\\\\\n",
       "\\hline\n",
       "\t chr1 & 10033 & 10250 & EH38E2776516 & 0 & . & 10033 & 10250 & 225,225,225 & Low-DNase & All-data/Full-classification\\\\\n",
       "\t chr1 & 10385 & 10713 & EH38E2776517 & 0 & . & 10385 & 10713 & 225,225,225 & Low-DNase & All-data/Full-classification\\\\\n",
       "\t chr1 & 16097 & 16381 & EH38E3951272 & 0 & . & 16097 & 16381 & 225,225,225 & Low-DNase & All-data/Full-classification\\\\\n",
       "\t chr1 & 17343 & 17642 & EH38E3951273 & 0 & . & 17343 & 17642 & 225,225,225 & Low-DNase & All-data/Full-classification\\\\\n",
       "\t chr1 & 29320 & 29517 & EH38E3951274 & 0 & . & 29320 & 29517 & 225,225,225 & Low-DNase & All-data/Full-classification\\\\\n",
       "\t chr1 & 66350 & 66509 & EH38E3951275 & 0 & . & 66350 & 66509 & 225,225,225 & Low-DNase & All-data/Full-classification\\\\\n",
       "\\end{tabular}\n"
      ],
      "text/markdown": [
       "\n",
       "A tibble: 6 × 11\n",
       "\n",
       "| Chrom &lt;chr&gt; | Start &lt;dbl&gt; | End &lt;dbl&gt; | Name &lt;chr&gt; | Score &lt;dbl&gt; | Strand &lt;chr&gt; | ThickStart &lt;dbl&gt; | ThickEnd &lt;dbl&gt; | ItemRgb &lt;chr&gt; | Category &lt;chr&gt; | Note &lt;chr&gt; |\n",
       "|---|---|---|---|---|---|---|---|---|---|---|\n",
       "| chr1 | 10033 | 10250 | EH38E2776516 | 0 | . | 10033 | 10250 | 225,225,225 | Low-DNase | All-data/Full-classification |\n",
       "| chr1 | 10385 | 10713 | EH38E2776517 | 0 | . | 10385 | 10713 | 225,225,225 | Low-DNase | All-data/Full-classification |\n",
       "| chr1 | 16097 | 16381 | EH38E3951272 | 0 | . | 16097 | 16381 | 225,225,225 | Low-DNase | All-data/Full-classification |\n",
       "| chr1 | 17343 | 17642 | EH38E3951273 | 0 | . | 17343 | 17642 | 225,225,225 | Low-DNase | All-data/Full-classification |\n",
       "| chr1 | 29320 | 29517 | EH38E3951274 | 0 | . | 29320 | 29517 | 225,225,225 | Low-DNase | All-data/Full-classification |\n",
       "| chr1 | 66350 | 66509 | EH38E3951275 | 0 | . | 66350 | 66509 | 225,225,225 | Low-DNase | All-data/Full-classification |\n",
       "\n"
      ],
      "text/plain": [
       "  Chrom Start End   Name         Score Strand ThickStart ThickEnd ItemRgb    \n",
       "1 chr1  10033 10250 EH38E2776516 0     .      10033      10250    225,225,225\n",
       "2 chr1  10385 10713 EH38E2776517 0     .      10385      10713    225,225,225\n",
       "3 chr1  16097 16381 EH38E3951272 0     .      16097      16381    225,225,225\n",
       "4 chr1  17343 17642 EH38E3951273 0     .      17343      17642    225,225,225\n",
       "5 chr1  29320 29517 EH38E3951274 0     .      29320      29517    225,225,225\n",
       "6 chr1  66350 66509 EH38E3951275 0     .      66350      66509    225,225,225\n",
       "  Category  Note                        \n",
       "1 Low-DNase All-data/Full-classification\n",
       "2 Low-DNase All-data/Full-classification\n",
       "3 Low-DNase All-data/Full-classification\n",
       "4 Low-DNase All-data/Full-classification\n",
       "5 Low-DNase All-data/Full-classification\n",
       "6 Low-DNase All-data/Full-classification"
      ]
     },
     "metadata": {},
     "output_type": "display_data"
    }
   ],
   "source": [
    "dat = dat_ccre_v4\n",
    "res = table(dat$Category)\n",
    "print(res)\n",
    "head(dat)"
   ]
  },
  {
   "cell_type": "code",
   "execution_count": 11,
   "metadata": {},
   "outputs": [
    {
     "data": {
      "text/html": [
       "<table class=\"dataframe\">\n",
       "<caption>A tibble: 8 × 2</caption>\n",
       "<thead>\n",
       "\t<tr><th scope=col>Category</th><th scope=col>Category2</th></tr>\n",
       "\t<tr><th scope=col>&lt;chr&gt;</th><th scope=col>&lt;chr&gt;</th></tr>\n",
       "</thead>\n",
       "<tbody>\n",
       "\t<tr><td>Low-DNase </td><td>Low_DNase </td></tr>\n",
       "\t<tr><td>CA-CTCF   </td><td>CA_CTCF   </td></tr>\n",
       "\t<tr><td>pELS      </td><td>pELS      </td></tr>\n",
       "\t<tr><td>CA-TF     </td><td>CA_TF     </td></tr>\n",
       "\t<tr><td>PLS       </td><td>PLS       </td></tr>\n",
       "\t<tr><td>CA-only   </td><td>CA_only   </td></tr>\n",
       "\t<tr><td>CA-H3K4me3</td><td>CA_H3K4me3</td></tr>\n",
       "\t<tr><td>dELS      </td><td>dELS      </td></tr>\n",
       "</tbody>\n",
       "</table>\n"
      ],
      "text/latex": [
       "A tibble: 8 × 2\n",
       "\\begin{tabular}{ll}\n",
       " Category & Category2\\\\\n",
       " <chr> & <chr>\\\\\n",
       "\\hline\n",
       "\t Low-DNase  & Low\\_DNase \\\\\n",
       "\t CA-CTCF    & CA\\_CTCF   \\\\\n",
       "\t pELS       & pELS      \\\\\n",
       "\t CA-TF      & CA\\_TF     \\\\\n",
       "\t PLS        & PLS       \\\\\n",
       "\t CA-only    & CA\\_only   \\\\\n",
       "\t CA-H3K4me3 & CA\\_H3K4me3\\\\\n",
       "\t dELS       & dELS      \\\\\n",
       "\\end{tabular}\n"
      ],
      "text/markdown": [
       "\n",
       "A tibble: 8 × 2\n",
       "\n",
       "| Category &lt;chr&gt; | Category2 &lt;chr&gt; |\n",
       "|---|---|\n",
       "| Low-DNase  | Low_DNase  |\n",
       "| CA-CTCF    | CA_CTCF    |\n",
       "| pELS       | pELS       |\n",
       "| CA-TF      | CA_TF      |\n",
       "| PLS        | PLS        |\n",
       "| CA-only    | CA_only    |\n",
       "| CA-H3K4me3 | CA_H3K4me3 |\n",
       "| dELS       | dELS       |\n",
       "\n"
      ],
      "text/plain": [
       "  Category   Category2 \n",
       "1 Low-DNase  Low_DNase \n",
       "2 CA-CTCF    CA_CTCF   \n",
       "3 pELS       pELS      \n",
       "4 CA-TF      CA_TF     \n",
       "5 PLS        PLS       \n",
       "6 CA-only    CA_only   \n",
       "7 CA-H3K4me3 CA_H3K4me3\n",
       "8 dELS       dELS      "
      ]
     },
     "metadata": {},
     "output_type": "display_data"
    }
   ],
   "source": [
    "dat = dat_ccre_v4\n",
    "dat = dat %>% \n",
    "    dplyr::mutate(\n",
    "        Category2 = str_replace(\n",
    "            Category, \n",
    "            pattern = \"-\", \n",
    "            replacement = \"_\")\n",
    "    )\n",
    "dat %>% dplyr::select(Category, Category2) %>% dplyr::distinct()"
   ]
  },
  {
   "cell_type": "code",
   "execution_count": 14,
   "metadata": {},
   "outputs": [
    {
     "name": "stdout",
     "output_type": "stream",
     "text": [
      "[1] \"CA_CTCF\"    \"CA_H3K4me3\" \"CA_only\"    \"CA_TF\"      \"dELS\"      \n",
      "[6] \"Low_DNase\"  \"pELS\"       \"PLS\"       \n"
     ]
    },
    {
     "data": {
      "text/html": [
       "<table class=\"dataframe\">\n",
       "<caption>A tibble: 6 × 12</caption>\n",
       "<thead>\n",
       "\t<tr><th scope=col>Chrom</th><th scope=col>Start</th><th scope=col>End</th><th scope=col>Name</th><th scope=col>Score</th><th scope=col>Strand</th><th scope=col>ThickStart</th><th scope=col>ThickEnd</th><th scope=col>ItemRgb</th><th scope=col>Category</th><th scope=col>Note</th><th scope=col>Category2</th></tr>\n",
       "\t<tr><th scope=col>&lt;chr&gt;</th><th scope=col>&lt;dbl&gt;</th><th scope=col>&lt;dbl&gt;</th><th scope=col>&lt;chr&gt;</th><th scope=col>&lt;dbl&gt;</th><th scope=col>&lt;chr&gt;</th><th scope=col>&lt;dbl&gt;</th><th scope=col>&lt;dbl&gt;</th><th scope=col>&lt;chr&gt;</th><th scope=col>&lt;chr&gt;</th><th scope=col>&lt;chr&gt;</th><th scope=col>&lt;chr&gt;</th></tr>\n",
       "</thead>\n",
       "<tbody>\n",
       "\t<tr><td>chr1</td><td>115562</td><td>115912</td><td>EH38E3951280</td><td>0</td><td>.</td><td>115562</td><td>115912</td><td>0,176,240</td><td>CA-CTCF</td><td>All-data/Full-classification</td><td>CA_CTCF</td></tr>\n",
       "\t<tr><td>chr1</td><td>181289</td><td>181639</td><td>EH38E2776524</td><td>0</td><td>.</td><td>181289</td><td>181639</td><td>0,176,240</td><td>CA-CTCF</td><td>All-data/Full-classification</td><td>CA_CTCF</td></tr>\n",
       "\t<tr><td>chr1</td><td>267925</td><td>268171</td><td>EH38E2776528</td><td>0</td><td>.</td><td>267925</td><td>268171</td><td>0,176,240</td><td>CA-CTCF</td><td>All-data/Full-classification</td><td>CA_CTCF</td></tr>\n",
       "\t<tr><td>chr1</td><td>586036</td><td>586264</td><td>EH38E2776532</td><td>0</td><td>.</td><td>586036</td><td>586264</td><td>0,176,240</td><td>CA-CTCF</td><td>All-data/Full-classification</td><td>CA_CTCF</td></tr>\n",
       "\t<tr><td>chr1</td><td>869718</td><td>870065</td><td>EH38E2776581</td><td>0</td><td>.</td><td>869718</td><td>870065</td><td>0,176,240</td><td>CA-CTCF</td><td>All-data/Full-classification</td><td>CA_CTCF</td></tr>\n",
       "\t<tr><td>chr1</td><td>898789</td><td>899041</td><td>EH38E2776592</td><td>0</td><td>.</td><td>898789</td><td>899041</td><td>0,176,240</td><td>CA-CTCF</td><td>All-data/Full-classification</td><td>CA_CTCF</td></tr>\n",
       "</tbody>\n",
       "</table>\n"
      ],
      "text/latex": [
       "A tibble: 6 × 12\n",
       "\\begin{tabular}{llllllllllll}\n",
       " Chrom & Start & End & Name & Score & Strand & ThickStart & ThickEnd & ItemRgb & Category & Note & Category2\\\\\n",
       " <chr> & <dbl> & <dbl> & <chr> & <dbl> & <chr> & <dbl> & <dbl> & <chr> & <chr> & <chr> & <chr>\\\\\n",
       "\\hline\n",
       "\t chr1 & 115562 & 115912 & EH38E3951280 & 0 & . & 115562 & 115912 & 0,176,240 & CA-CTCF & All-data/Full-classification & CA\\_CTCF\\\\\n",
       "\t chr1 & 181289 & 181639 & EH38E2776524 & 0 & . & 181289 & 181639 & 0,176,240 & CA-CTCF & All-data/Full-classification & CA\\_CTCF\\\\\n",
       "\t chr1 & 267925 & 268171 & EH38E2776528 & 0 & . & 267925 & 268171 & 0,176,240 & CA-CTCF & All-data/Full-classification & CA\\_CTCF\\\\\n",
       "\t chr1 & 586036 & 586264 & EH38E2776532 & 0 & . & 586036 & 586264 & 0,176,240 & CA-CTCF & All-data/Full-classification & CA\\_CTCF\\\\\n",
       "\t chr1 & 869718 & 870065 & EH38E2776581 & 0 & . & 869718 & 870065 & 0,176,240 & CA-CTCF & All-data/Full-classification & CA\\_CTCF\\\\\n",
       "\t chr1 & 898789 & 899041 & EH38E2776592 & 0 & . & 898789 & 899041 & 0,176,240 & CA-CTCF & All-data/Full-classification & CA\\_CTCF\\\\\n",
       "\\end{tabular}\n"
      ],
      "text/markdown": [
       "\n",
       "A tibble: 6 × 12\n",
       "\n",
       "| Chrom &lt;chr&gt; | Start &lt;dbl&gt; | End &lt;dbl&gt; | Name &lt;chr&gt; | Score &lt;dbl&gt; | Strand &lt;chr&gt; | ThickStart &lt;dbl&gt; | ThickEnd &lt;dbl&gt; | ItemRgb &lt;chr&gt; | Category &lt;chr&gt; | Note &lt;chr&gt; | Category2 &lt;chr&gt; |\n",
       "|---|---|---|---|---|---|---|---|---|---|---|---|\n",
       "| chr1 | 115562 | 115912 | EH38E3951280 | 0 | . | 115562 | 115912 | 0,176,240 | CA-CTCF | All-data/Full-classification | CA_CTCF |\n",
       "| chr1 | 181289 | 181639 | EH38E2776524 | 0 | . | 181289 | 181639 | 0,176,240 | CA-CTCF | All-data/Full-classification | CA_CTCF |\n",
       "| chr1 | 267925 | 268171 | EH38E2776528 | 0 | . | 267925 | 268171 | 0,176,240 | CA-CTCF | All-data/Full-classification | CA_CTCF |\n",
       "| chr1 | 586036 | 586264 | EH38E2776532 | 0 | . | 586036 | 586264 | 0,176,240 | CA-CTCF | All-data/Full-classification | CA_CTCF |\n",
       "| chr1 | 869718 | 870065 | EH38E2776581 | 0 | . | 869718 | 870065 | 0,176,240 | CA-CTCF | All-data/Full-classification | CA_CTCF |\n",
       "| chr1 | 898789 | 899041 | EH38E2776592 | 0 | . | 898789 | 899041 | 0,176,240 | CA-CTCF | All-data/Full-classification | CA_CTCF |\n",
       "\n"
      ],
      "text/plain": [
       "  Chrom Start  End    Name         Score Strand ThickStart ThickEnd ItemRgb  \n",
       "1 chr1  115562 115912 EH38E3951280 0     .      115562     115912   0,176,240\n",
       "2 chr1  181289 181639 EH38E2776524 0     .      181289     181639   0,176,240\n",
       "3 chr1  267925 268171 EH38E2776528 0     .      267925     268171   0,176,240\n",
       "4 chr1  586036 586264 EH38E2776532 0     .      586036     586264   0,176,240\n",
       "5 chr1  869718 870065 EH38E2776581 0     .      869718     870065   0,176,240\n",
       "6 chr1  898789 899041 EH38E2776592 0     .      898789     899041   0,176,240\n",
       "  Category Note                         Category2\n",
       "1 CA-CTCF  All-data/Full-classification CA_CTCF  \n",
       "2 CA-CTCF  All-data/Full-classification CA_CTCF  \n",
       "3 CA-CTCF  All-data/Full-classification CA_CTCF  \n",
       "4 CA-CTCF  All-data/Full-classification CA_CTCF  \n",
       "5 CA-CTCF  All-data/Full-classification CA_CTCF  \n",
       "6 CA-CTCF  All-data/Full-classification CA_CTCF  "
      ]
     },
     "metadata": {},
     "output_type": "display_data"
    }
   ],
   "source": [
    "dat = dat_ccre_v4\n",
    "dat = dat %>% \n",
    "    dplyr::mutate(\n",
    "        Category2 = str_replace(\n",
    "            Category, \n",
    "            pattern = \"-\", \n",
    "            replacement = \"_\")\n",
    "    )\n",
    "\n",
    "lst = split(dat, dat$Category2)\n",
    "print(names(lst))\n",
    "head(lst[[1]])"
   ]
  },
  {
   "cell_type": "code",
   "execution_count": 15,
   "metadata": {},
   "outputs": [],
   "source": [
    "fdiry = file.path(FD_RES, \"results\", \"region\", \"annotation_ccre\", \"summary\")\n",
    "\n",
    "for (txt in names(lst)){\n",
    "    #fname = \"K562.ENCSR913HQX.ENCFF286VQG.ccres.cat2name.bed.gz\"\n",
    "    fname = paste(\"K562.ENCSR913HQX.ENCFF286VQG.ccres\", txt, \"bed.gz\", sep=\".\")\n",
    "    fpath = file.path(fdiry, fname)\n",
    "    \n",
    "    dat = lst[[txt]]\n",
    "    dat = dat %>% dplyr::select(-Category2)\n",
    "    write_tsv(dat, fpath, col_names = FALSE)\n",
    "}"
   ]
  },
  {
   "cell_type": "code",
   "execution_count": null,
   "metadata": {},
   "outputs": [],
   "source": []
  }
 ],
 "metadata": {
  "kernelspec": {
   "display_name": "R",
   "language": "R",
   "name": "ir"
  },
  "language_info": {
   "codemirror_mode": "r",
   "file_extension": ".r",
   "mimetype": "text/x-r-source",
   "name": "R",
   "pygments_lexer": "r",
   "version": "4.3.1"
  }
 },
 "nbformat": 4,
 "nbformat_minor": 4
}
