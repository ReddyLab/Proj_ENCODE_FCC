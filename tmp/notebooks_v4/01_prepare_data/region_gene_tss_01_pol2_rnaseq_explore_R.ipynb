{
 "cells": [
  {
   "cell_type": "markdown",
   "metadata": {},
   "source": [
    "https://www.ncbi.nlm.nih.gov/genome/guide/human/#download"
   ]
  },
  {
   "cell_type": "markdown",
   "metadata": {},
   "source": [
    "**Set environment**"
   ]
  },
  {
   "cell_type": "code",
   "execution_count": 150,
   "metadata": {},
   "outputs": [
    {
     "name": "stdout",
     "output_type": "stream",
     "text": [
      "You are in Singularity: singularity_proj_encode_fcc \n",
      "BASE DIRECTORY (FD_BASE): /data/reddylab/Kuei \n",
      "WORK DIRECTORY (FD_WORK): /data/reddylab/Kuei/out \n",
      "CODE DIRECTORY (FD_CODE): /data/reddylab/Kuei/code \n",
      "PATH OF PROJECT (FD_PRJ): /data/reddylab/Kuei/code/Proj_CombEffect_ENCODE_FCC \n",
      "PATH OF RESULTS (FD_RES): /data/reddylab/Kuei/out/proj_combeffect_encode_fcc \n",
      "PATH OF LOG     (FD_LOG): /data/reddylab/Kuei/out/proj_combeffect_encode_fcc/log \n"
     ]
    }
   ],
   "source": [
    "suppressWarnings(suppressMessages(source(\"../config/config_sing.R\")))\n",
    "show_env()"
   ]
  },
  {
   "cell_type": "markdown",
   "metadata": {},
   "source": [
    "**Check data**"
   ]
  },
  {
   "cell_type": "code",
   "execution_count": 58,
   "metadata": {},
   "outputs": [
    {
     "name": "stdout",
     "output_type": "stream",
     "text": [
      "[1] \"GRCh38_latest_genomic.download_230430.gff.gz\"\n",
      "[2] \"K562_TSS_selected_by_higest_Pol2_TSS_sig.out\"\n"
     ]
    }
   ],
   "source": [
    "fdiry = file.path(FD_RES, \"source\", \"annotation_gene\")\n",
    "print(dir(fdiry))"
   ]
  },
  {
   "cell_type": "code",
   "execution_count": 64,
   "metadata": {},
   "outputs": [
    {
     "name": "stdout",
     "output_type": "stream",
     "text": [
      "##gff-version 3 \n",
      "#!gff-spec-version 1.21 \n",
      "#!processor NCBI annotwriter \n",
      "#!genome-build GRCh38.p14 \n",
      "#!genome-build-accession NCBI_Assembly:GCF_000001405.40 \n",
      "#!annotation-date 03/15/2023 \n",
      "#!annotation-source NCBI RefSeq GCF_000001405.40-RS_2023_03 \n",
      "##sequence-region NC_000001.11 1 248956422 \n",
      "##species https://www.ncbi.nlm.nih.gov/Taxonomy/Browser/wwwtax.cgi?id=9606 \n",
      "NC_000001.11\tRefSeq\tregion\t1\t248956422\t.\t+\t.\tID=NC_000001.11:1..248956422;Dbxref=taxon:9606;Name=1;chromosome=1;gbkey=Src;genome=chromosome;mol_type=genomic DNA \n"
     ]
    }
   ],
   "source": [
    "fdiry = file.path(FD_RES, \"source\", \"annotation_gene\")\n",
    "fname = \"GRCh38_latest_genomic.20230315.gff.gz\"\n",
    "fpath = file.path(fdiry, fname)\n",
    "\n",
    "txt = paste(\"zcat\", fpath, \"|\", \"head -n 10\")\n",
    "res = system(txt, intern = TRUE)\n",
    "for (x in res){cat(x, \"\\n\")}"
   ]
  },
  {
   "cell_type": "markdown",
   "metadata": {},
   "source": [
    "## Import data"
   ]
  },
  {
   "cell_type": "code",
   "execution_count": 3,
   "metadata": {},
   "outputs": [
    {
     "name": "stderr",
     "output_type": "stream",
     "text": [
      "\u001b[1mRows: \u001b[22m\u001b[34m29330\u001b[39m \u001b[1mColumns: \u001b[22m\u001b[34m4\u001b[39m\n",
      "\u001b[36m──\u001b[39m \u001b[1mColumn specification\u001b[22m \u001b[36m──────────────────────────────────────────────────────────────────────\u001b[39m\n",
      "\u001b[1mDelimiter:\u001b[22m \"\\t\"\n",
      "\u001b[31mchr\u001b[39m (2): gene_name, chr\n",
      "\u001b[32mdbl\u001b[39m (2): TSS, TSS_POL2_sig\n",
      "\n",
      "\u001b[36mℹ\u001b[39m Use `spec()` to retrieve the full column specification for this data.\n",
      "\u001b[36mℹ\u001b[39m Specify the column types or set `show_col_types = FALSE` to quiet this message.\n"
     ]
    },
    {
     "name": "stdout",
     "output_type": "stream",
     "text": [
      "[1] 29330     4\n"
     ]
    },
    {
     "data": {
      "text/html": [
       "<table class=\"dataframe\">\n",
       "<caption>A tibble: 6 × 4</caption>\n",
       "<thead>\n",
       "\t<tr><th scope=col>gene_name</th><th scope=col>chr</th><th scope=col>TSS</th><th scope=col>TSS_POL2_sig</th></tr>\n",
       "\t<tr><th scope=col>&lt;chr&gt;</th><th scope=col>&lt;chr&gt;</th><th scope=col>&lt;dbl&gt;</th><th scope=col>&lt;dbl&gt;</th></tr>\n",
       "</thead>\n",
       "<tbody>\n",
       "\t<tr><td>A1BG-AS1</td><td>chr19</td><td>58351969</td><td>1.52180000</td></tr>\n",
       "\t<tr><td>A1BG    </td><td>chr19</td><td>58353492</td><td>5.62284000</td></tr>\n",
       "\t<tr><td>A1CF    </td><td>chr10</td><td>50885675</td><td>0.00706126</td></tr>\n",
       "\t<tr><td>A2M-AS1 </td><td>chr12</td><td> 9065176</td><td>0.00201544</td></tr>\n",
       "\t<tr><td>A2M     </td><td>chr12</td><td> 9115919</td><td>0.04005220</td></tr>\n",
       "\t<tr><td>A2ML1   </td><td>chr12</td><td> 8845003</td><td>0.26862300</td></tr>\n",
       "</tbody>\n",
       "</table>\n"
      ],
      "text/latex": [
       "A tibble: 6 × 4\n",
       "\\begin{tabular}{llll}\n",
       " gene\\_name & chr & TSS & TSS\\_POL2\\_sig\\\\\n",
       " <chr> & <chr> & <dbl> & <dbl>\\\\\n",
       "\\hline\n",
       "\t A1BG-AS1 & chr19 & 58351969 & 1.52180000\\\\\n",
       "\t A1BG     & chr19 & 58353492 & 5.62284000\\\\\n",
       "\t A1CF     & chr10 & 50885675 & 0.00706126\\\\\n",
       "\t A2M-AS1  & chr12 &  9065176 & 0.00201544\\\\\n",
       "\t A2M      & chr12 &  9115919 & 0.04005220\\\\\n",
       "\t A2ML1    & chr12 &  8845003 & 0.26862300\\\\\n",
       "\\end{tabular}\n"
      ],
      "text/markdown": [
       "\n",
       "A tibble: 6 × 4\n",
       "\n",
       "| gene_name &lt;chr&gt; | chr &lt;chr&gt; | TSS &lt;dbl&gt; | TSS_POL2_sig &lt;dbl&gt; |\n",
       "|---|---|---|---|\n",
       "| A1BG-AS1 | chr19 | 58351969 | 1.52180000 |\n",
       "| A1BG     | chr19 | 58353492 | 5.62284000 |\n",
       "| A1CF     | chr10 | 50885675 | 0.00706126 |\n",
       "| A2M-AS1  | chr12 |  9065176 | 0.00201544 |\n",
       "| A2M      | chr12 |  9115919 | 0.04005220 |\n",
       "| A2ML1    | chr12 |  8845003 | 0.26862300 |\n",
       "\n"
      ],
      "text/plain": [
       "  gene_name chr   TSS      TSS_POL2_sig\n",
       "1 A1BG-AS1  chr19 58351969 1.52180000  \n",
       "2 A1BG      chr19 58353492 5.62284000  \n",
       "3 A1CF      chr10 50885675 0.00706126  \n",
       "4 A2M-AS1   chr12  9065176 0.00201544  \n",
       "5 A2M       chr12  9115919 0.04005220  \n",
       "6 A2ML1     chr12  8845003 0.26862300  "
      ]
     },
     "metadata": {},
     "output_type": "display_data"
    }
   ],
   "source": [
    "### set file directory\n",
    "fdiry = file.path(FD_RES, \"source\", \"annotation_gene\")\n",
    "fname = \"K562_TSS_selected_by_higest_Pol2_TSS_sig.out\"\n",
    "fpath = file.path(fdiry, fname)\n",
    "\n",
    "### read file\n",
    "dat = read_tsv(fpath)\n",
    "\n",
    "### assign and show\n",
    "dat_gene_tss_pol2 = dat\n",
    "print(dim(dat))\n",
    "head(dat)"
   ]
  },
  {
   "cell_type": "markdown",
   "metadata": {},
   "source": [
    "https://www.ncbi.nlm.nih.gov/genbank/genomes_gff/"
   ]
  },
  {
   "cell_type": "code",
   "execution_count": 138,
   "metadata": {},
   "outputs": [
    {
     "name": "stderr",
     "output_type": "stream",
     "text": [
      "Warning message:\n",
      "“\u001b[1m\u001b[22mOne or more parsing issues, call `problems()` on your data frame for details, e.g.:\n",
      "  dat <- vroom(...)\n",
      "  problems(dat)”\n",
      "\u001b[1mRows: \u001b[22m\u001b[34m4718570\u001b[39m \u001b[1mColumns: \u001b[22m\u001b[34m9\u001b[39m\n",
      "\u001b[36m──\u001b[39m \u001b[1mColumn specification\u001b[22m \u001b[36m──────────────────────────────────────────────────────────────────────\u001b[39m\n",
      "\u001b[1mDelimiter:\u001b[22m \"\\t\"\n",
      "\u001b[31mchr\u001b[39m (7): Seqid, Source, Type, Score, Strand, Phase, Attributes\n",
      "\u001b[32mdbl\u001b[39m (2): Start, End\n",
      "\n",
      "\u001b[36mℹ\u001b[39m Use `spec()` to retrieve the full column specification for this data.\n",
      "\u001b[36mℹ\u001b[39m Specify the column types or set `show_col_types = FALSE` to quiet this message.\n"
     ]
    },
    {
     "name": "stdout",
     "output_type": "stream",
     "text": [
      "[1] 4718570       9\n"
     ]
    },
    {
     "data": {
      "text/html": [
       "<table class=\"dataframe\">\n",
       "<caption>A tibble: 6 × 9</caption>\n",
       "<thead>\n",
       "\t<tr><th scope=col>Seqid</th><th scope=col>Source</th><th scope=col>Type</th><th scope=col>Start</th><th scope=col>End</th><th scope=col>Score</th><th scope=col>Strand</th><th scope=col>Phase</th><th scope=col>Attributes</th></tr>\n",
       "\t<tr><th scope=col>&lt;chr&gt;</th><th scope=col>&lt;chr&gt;</th><th scope=col>&lt;chr&gt;</th><th scope=col>&lt;dbl&gt;</th><th scope=col>&lt;dbl&gt;</th><th scope=col>&lt;chr&gt;</th><th scope=col>&lt;chr&gt;</th><th scope=col>&lt;chr&gt;</th><th scope=col>&lt;chr&gt;</th></tr>\n",
       "</thead>\n",
       "<tbody>\n",
       "\t<tr><td>NC_000001.11</td><td>RefSeq    </td><td>region    </td><td>    1</td><td>248956422</td><td>.</td><td>+</td><td>.</td><td>ID=NC_000001.11:1..248956422;Dbxref=taxon:9606;Name=1;chromosome=1;gbkey=Src;genome=chromosome;mol_type=genomic DNA                                                                                                                     </td></tr>\n",
       "\t<tr><td>NC_000001.11</td><td>BestRefSeq</td><td>pseudogene</td><td>11874</td><td>    14409</td><td>.</td><td>+</td><td>.</td><td>ID=gene-DDX11L1;Dbxref=GeneID:100287102,HGNC:HGNC:37102;Name=DDX11L1;description=DEAD/H-box helicase 11 like 1 (pseudogene);gbkey=Gene;gene=DDX11L1;gene_biotype=transcribed_pseudogene;pseudo=true                                     </td></tr>\n",
       "\t<tr><td>NC_000001.11</td><td>BestRefSeq</td><td>transcript</td><td>11874</td><td>    14409</td><td>.</td><td>+</td><td>.</td><td>ID=rna-NR_046018.2;Parent=gene-DDX11L1;Dbxref=GeneID:100287102,GenBank:NR_046018.2,HGNC:HGNC:37102;Name=NR_046018.2;gbkey=misc_RNA;gene=DDX11L1;product=DEAD/H-box helicase 11 like 1 (pseudogene);pseudo=true;transcript_id=NR_046018.2</td></tr>\n",
       "\t<tr><td>NC_000001.11</td><td>BestRefSeq</td><td>exon      </td><td>11874</td><td>    12227</td><td>.</td><td>+</td><td>.</td><td>ID=exon-NR_046018.2-1;Parent=rna-NR_046018.2;Dbxref=GeneID:100287102,GenBank:NR_046018.2,HGNC:HGNC:37102;gbkey=misc_RNA;gene=DDX11L1;product=DEAD/H-box helicase 11 like 1 (pseudogene);pseudo=true;transcript_id=NR_046018.2           </td></tr>\n",
       "\t<tr><td>NC_000001.11</td><td>BestRefSeq</td><td>exon      </td><td>12613</td><td>    12721</td><td>.</td><td>+</td><td>.</td><td>ID=exon-NR_046018.2-2;Parent=rna-NR_046018.2;Dbxref=GeneID:100287102,GenBank:NR_046018.2,HGNC:HGNC:37102;gbkey=misc_RNA;gene=DDX11L1;product=DEAD/H-box helicase 11 like 1 (pseudogene);pseudo=true;transcript_id=NR_046018.2           </td></tr>\n",
       "\t<tr><td>NC_000001.11</td><td>BestRefSeq</td><td>exon      </td><td>13221</td><td>    14409</td><td>.</td><td>+</td><td>.</td><td>ID=exon-NR_046018.2-3;Parent=rna-NR_046018.2;Dbxref=GeneID:100287102,GenBank:NR_046018.2,HGNC:HGNC:37102;gbkey=misc_RNA;gene=DDX11L1;product=DEAD/H-box helicase 11 like 1 (pseudogene);pseudo=true;transcript_id=NR_046018.2           </td></tr>\n",
       "</tbody>\n",
       "</table>\n"
      ],
      "text/latex": [
       "A tibble: 6 × 9\n",
       "\\begin{tabular}{lllllllll}\n",
       " Seqid & Source & Type & Start & End & Score & Strand & Phase & Attributes\\\\\n",
       " <chr> & <chr> & <chr> & <dbl> & <dbl> & <chr> & <chr> & <chr> & <chr>\\\\\n",
       "\\hline\n",
       "\t NC\\_000001.11 & RefSeq     & region     &     1 & 248956422 & . & + & . & ID=NC\\_000001.11:1..248956422;Dbxref=taxon:9606;Name=1;chromosome=1;gbkey=Src;genome=chromosome;mol\\_type=genomic DNA                                                                                                                     \\\\\n",
       "\t NC\\_000001.11 & BestRefSeq & pseudogene & 11874 &     14409 & . & + & . & ID=gene-DDX11L1;Dbxref=GeneID:100287102,HGNC:HGNC:37102;Name=DDX11L1;description=DEAD/H-box helicase 11 like 1 (pseudogene);gbkey=Gene;gene=DDX11L1;gene\\_biotype=transcribed\\_pseudogene;pseudo=true                                     \\\\\n",
       "\t NC\\_000001.11 & BestRefSeq & transcript & 11874 &     14409 & . & + & . & ID=rna-NR\\_046018.2;Parent=gene-DDX11L1;Dbxref=GeneID:100287102,GenBank:NR\\_046018.2,HGNC:HGNC:37102;Name=NR\\_046018.2;gbkey=misc\\_RNA;gene=DDX11L1;product=DEAD/H-box helicase 11 like 1 (pseudogene);pseudo=true;transcript\\_id=NR\\_046018.2\\\\\n",
       "\t NC\\_000001.11 & BestRefSeq & exon       & 11874 &     12227 & . & + & . & ID=exon-NR\\_046018.2-1;Parent=rna-NR\\_046018.2;Dbxref=GeneID:100287102,GenBank:NR\\_046018.2,HGNC:HGNC:37102;gbkey=misc\\_RNA;gene=DDX11L1;product=DEAD/H-box helicase 11 like 1 (pseudogene);pseudo=true;transcript\\_id=NR\\_046018.2           \\\\\n",
       "\t NC\\_000001.11 & BestRefSeq & exon       & 12613 &     12721 & . & + & . & ID=exon-NR\\_046018.2-2;Parent=rna-NR\\_046018.2;Dbxref=GeneID:100287102,GenBank:NR\\_046018.2,HGNC:HGNC:37102;gbkey=misc\\_RNA;gene=DDX11L1;product=DEAD/H-box helicase 11 like 1 (pseudogene);pseudo=true;transcript\\_id=NR\\_046018.2           \\\\\n",
       "\t NC\\_000001.11 & BestRefSeq & exon       & 13221 &     14409 & . & + & . & ID=exon-NR\\_046018.2-3;Parent=rna-NR\\_046018.2;Dbxref=GeneID:100287102,GenBank:NR\\_046018.2,HGNC:HGNC:37102;gbkey=misc\\_RNA;gene=DDX11L1;product=DEAD/H-box helicase 11 like 1 (pseudogene);pseudo=true;transcript\\_id=NR\\_046018.2           \\\\\n",
       "\\end{tabular}\n"
      ],
      "text/markdown": [
       "\n",
       "A tibble: 6 × 9\n",
       "\n",
       "| Seqid &lt;chr&gt; | Source &lt;chr&gt; | Type &lt;chr&gt; | Start &lt;dbl&gt; | End &lt;dbl&gt; | Score &lt;chr&gt; | Strand &lt;chr&gt; | Phase &lt;chr&gt; | Attributes &lt;chr&gt; |\n",
       "|---|---|---|---|---|---|---|---|---|\n",
       "| NC_000001.11 | RefSeq     | region     |     1 | 248956422 | . | + | . | ID=NC_000001.11:1..248956422;Dbxref=taxon:9606;Name=1;chromosome=1;gbkey=Src;genome=chromosome;mol_type=genomic DNA                                                                                                                      |\n",
       "| NC_000001.11 | BestRefSeq | pseudogene | 11874 |     14409 | . | + | . | ID=gene-DDX11L1;Dbxref=GeneID:100287102,HGNC:HGNC:37102;Name=DDX11L1;description=DEAD/H-box helicase 11 like 1 (pseudogene);gbkey=Gene;gene=DDX11L1;gene_biotype=transcribed_pseudogene;pseudo=true                                      |\n",
       "| NC_000001.11 | BestRefSeq | transcript | 11874 |     14409 | . | + | . | ID=rna-NR_046018.2;Parent=gene-DDX11L1;Dbxref=GeneID:100287102,GenBank:NR_046018.2,HGNC:HGNC:37102;Name=NR_046018.2;gbkey=misc_RNA;gene=DDX11L1;product=DEAD/H-box helicase 11 like 1 (pseudogene);pseudo=true;transcript_id=NR_046018.2 |\n",
       "| NC_000001.11 | BestRefSeq | exon       | 11874 |     12227 | . | + | . | ID=exon-NR_046018.2-1;Parent=rna-NR_046018.2;Dbxref=GeneID:100287102,GenBank:NR_046018.2,HGNC:HGNC:37102;gbkey=misc_RNA;gene=DDX11L1;product=DEAD/H-box helicase 11 like 1 (pseudogene);pseudo=true;transcript_id=NR_046018.2            |\n",
       "| NC_000001.11 | BestRefSeq | exon       | 12613 |     12721 | . | + | . | ID=exon-NR_046018.2-2;Parent=rna-NR_046018.2;Dbxref=GeneID:100287102,GenBank:NR_046018.2,HGNC:HGNC:37102;gbkey=misc_RNA;gene=DDX11L1;product=DEAD/H-box helicase 11 like 1 (pseudogene);pseudo=true;transcript_id=NR_046018.2            |\n",
       "| NC_000001.11 | BestRefSeq | exon       | 13221 |     14409 | . | + | . | ID=exon-NR_046018.2-3;Parent=rna-NR_046018.2;Dbxref=GeneID:100287102,GenBank:NR_046018.2,HGNC:HGNC:37102;gbkey=misc_RNA;gene=DDX11L1;product=DEAD/H-box helicase 11 like 1 (pseudogene);pseudo=true;transcript_id=NR_046018.2            |\n",
       "\n"
      ],
      "text/plain": [
       "  Seqid        Source     Type       Start End       Score Strand Phase\n",
       "1 NC_000001.11 RefSeq     region         1 248956422 .     +      .    \n",
       "2 NC_000001.11 BestRefSeq pseudogene 11874     14409 .     +      .    \n",
       "3 NC_000001.11 BestRefSeq transcript 11874     14409 .     +      .    \n",
       "4 NC_000001.11 BestRefSeq exon       11874     12227 .     +      .    \n",
       "5 NC_000001.11 BestRefSeq exon       12613     12721 .     +      .    \n",
       "6 NC_000001.11 BestRefSeq exon       13221     14409 .     +      .    \n",
       "  Attributes                                                                                                                                                                                                                              \n",
       "1 ID=NC_000001.11:1..248956422;Dbxref=taxon:9606;Name=1;chromosome=1;gbkey=Src;genome=chromosome;mol_type=genomic DNA                                                                                                                     \n",
       "2 ID=gene-DDX11L1;Dbxref=GeneID:100287102,HGNC:HGNC:37102;Name=DDX11L1;description=DEAD/H-box helicase 11 like 1 (pseudogene);gbkey=Gene;gene=DDX11L1;gene_biotype=transcribed_pseudogene;pseudo=true                                     \n",
       "3 ID=rna-NR_046018.2;Parent=gene-DDX11L1;Dbxref=GeneID:100287102,GenBank:NR_046018.2,HGNC:HGNC:37102;Name=NR_046018.2;gbkey=misc_RNA;gene=DDX11L1;product=DEAD/H-box helicase 11 like 1 (pseudogene);pseudo=true;transcript_id=NR_046018.2\n",
       "4 ID=exon-NR_046018.2-1;Parent=rna-NR_046018.2;Dbxref=GeneID:100287102,GenBank:NR_046018.2,HGNC:HGNC:37102;gbkey=misc_RNA;gene=DDX11L1;product=DEAD/H-box helicase 11 like 1 (pseudogene);pseudo=true;transcript_id=NR_046018.2           \n",
       "5 ID=exon-NR_046018.2-2;Parent=rna-NR_046018.2;Dbxref=GeneID:100287102,GenBank:NR_046018.2,HGNC:HGNC:37102;gbkey=misc_RNA;gene=DDX11L1;product=DEAD/H-box helicase 11 like 1 (pseudogene);pseudo=true;transcript_id=NR_046018.2           \n",
       "6 ID=exon-NR_046018.2-3;Parent=rna-NR_046018.2;Dbxref=GeneID:100287102,GenBank:NR_046018.2,HGNC:HGNC:37102;gbkey=misc_RNA;gene=DDX11L1;product=DEAD/H-box helicase 11 like 1 (pseudogene);pseudo=true;transcript_id=NR_046018.2           "
      ]
     },
     "metadata": {},
     "output_type": "display_data"
    }
   ],
   "source": [
    "### set file directory\n",
    "fdiry = file.path(FD_RES, \"source\", \"annotation_gene\")\n",
    "fname = \"GRCh38_latest_genomic.download_230430.gff.gz\"\n",
    "fpath = file.path(fdiry, fname)\n",
    "\n",
    "### read file\n",
    "### https://useast.ensembl.org/info/website/upload/gff3.html\n",
    "cnames = c(\"Seqid\", \"Source\", \"Type\", \"Start\", \"End\", \"Score\", \"Strand\", \"Phase\", \"Attributes\")\n",
    "dat = read_tsv(fpath, col_names = cnames, comment = \"#\")\n",
    "\n",
    "### assign and show\n",
    "dat_refseq_ncbi = dat\n",
    "print(dim(dat))\n",
    "head(dat)"
   ]
  },
  {
   "cell_type": "code",
   "execution_count": 139,
   "metadata": {},
   "outputs": [
    {
     "data": {
      "text/html": [
       "<table class=\"dataframe\">\n",
       "<caption>A tibble: 17 × 5</caption>\n",
       "<thead>\n",
       "\t<tr><th scope=col>row</th><th scope=col>col</th><th scope=col>expected</th><th scope=col>actual</th><th scope=col>file</th></tr>\n",
       "\t<tr><th scope=col>&lt;int&gt;</th><th scope=col>&lt;int&gt;</th><th scope=col>&lt;chr&gt;</th><th scope=col>&lt;chr&gt;</th><th scope=col>&lt;chr&gt;</th></tr>\n",
       "</thead>\n",
       "<tbody>\n",
       "\t<tr><td>  29926</td><td>1</td><td>9 columns</td><td>1 columns</td><td></td></tr>\n",
       "\t<tr><td> 486970</td><td>1</td><td>9 columns</td><td>1 columns</td><td></td></tr>\n",
       "\t<tr><td> 584896</td><td>1</td><td>9 columns</td><td>1 columns</td><td></td></tr>\n",
       "\t<tr><td> 839222</td><td>1</td><td>9 columns</td><td>1 columns</td><td></td></tr>\n",
       "\t<tr><td>1119966</td><td>1</td><td>9 columns</td><td>1 columns</td><td></td></tr>\n",
       "\t<tr><td>1184578</td><td>1</td><td>9 columns</td><td>1 columns</td><td></td></tr>\n",
       "\t<tr><td>1185604</td><td>1</td><td>9 columns</td><td>1 columns</td><td></td></tr>\n",
       "\t<tr><td>1468872</td><td>1</td><td>9 columns</td><td>1 columns</td><td></td></tr>\n",
       "\t<tr><td>1737764</td><td>1</td><td>9 columns</td><td>1 columns</td><td></td></tr>\n",
       "\t<tr><td>1822000</td><td>1</td><td>9 columns</td><td>1 columns</td><td></td></tr>\n",
       "\t<tr><td>1971463</td><td>1</td><td>9 columns</td><td>1 columns</td><td></td></tr>\n",
       "\t<tr><td>2360212</td><td>1</td><td>9 columns</td><td>1 columns</td><td></td></tr>\n",
       "\t<tr><td>2636990</td><td>1</td><td>9 columns</td><td>1 columns</td><td></td></tr>\n",
       "\t<tr><td>3524470</td><td>1</td><td>9 columns</td><td>1 columns</td><td></td></tr>\n",
       "\t<tr><td>3578506</td><td>1</td><td>9 columns</td><td>1 columns</td><td></td></tr>\n",
       "\t<tr><td>3805482</td><td>1</td><td>9 columns</td><td>1 columns</td><td></td></tr>\n",
       "\t<tr><td>3889864</td><td>1</td><td>9 columns</td><td>1 columns</td><td></td></tr>\n",
       "</tbody>\n",
       "</table>\n"
      ],
      "text/latex": [
       "A tibble: 17 × 5\n",
       "\\begin{tabular}{lllll}\n",
       " row & col & expected & actual & file\\\\\n",
       " <int> & <int> & <chr> & <chr> & <chr>\\\\\n",
       "\\hline\n",
       "\t   29926 & 1 & 9 columns & 1 columns & \\\\\n",
       "\t  486970 & 1 & 9 columns & 1 columns & \\\\\n",
       "\t  584896 & 1 & 9 columns & 1 columns & \\\\\n",
       "\t  839222 & 1 & 9 columns & 1 columns & \\\\\n",
       "\t 1119966 & 1 & 9 columns & 1 columns & \\\\\n",
       "\t 1184578 & 1 & 9 columns & 1 columns & \\\\\n",
       "\t 1185604 & 1 & 9 columns & 1 columns & \\\\\n",
       "\t 1468872 & 1 & 9 columns & 1 columns & \\\\\n",
       "\t 1737764 & 1 & 9 columns & 1 columns & \\\\\n",
       "\t 1822000 & 1 & 9 columns & 1 columns & \\\\\n",
       "\t 1971463 & 1 & 9 columns & 1 columns & \\\\\n",
       "\t 2360212 & 1 & 9 columns & 1 columns & \\\\\n",
       "\t 2636990 & 1 & 9 columns & 1 columns & \\\\\n",
       "\t 3524470 & 1 & 9 columns & 1 columns & \\\\\n",
       "\t 3578506 & 1 & 9 columns & 1 columns & \\\\\n",
       "\t 3805482 & 1 & 9 columns & 1 columns & \\\\\n",
       "\t 3889864 & 1 & 9 columns & 1 columns & \\\\\n",
       "\\end{tabular}\n"
      ],
      "text/markdown": [
       "\n",
       "A tibble: 17 × 5\n",
       "\n",
       "| row &lt;int&gt; | col &lt;int&gt; | expected &lt;chr&gt; | actual &lt;chr&gt; | file &lt;chr&gt; |\n",
       "|---|---|---|---|---|\n",
       "|   29926 | 1 | 9 columns | 1 columns | <!----> |\n",
       "|  486970 | 1 | 9 columns | 1 columns | <!----> |\n",
       "|  584896 | 1 | 9 columns | 1 columns | <!----> |\n",
       "|  839222 | 1 | 9 columns | 1 columns | <!----> |\n",
       "| 1119966 | 1 | 9 columns | 1 columns | <!----> |\n",
       "| 1184578 | 1 | 9 columns | 1 columns | <!----> |\n",
       "| 1185604 | 1 | 9 columns | 1 columns | <!----> |\n",
       "| 1468872 | 1 | 9 columns | 1 columns | <!----> |\n",
       "| 1737764 | 1 | 9 columns | 1 columns | <!----> |\n",
       "| 1822000 | 1 | 9 columns | 1 columns | <!----> |\n",
       "| 1971463 | 1 | 9 columns | 1 columns | <!----> |\n",
       "| 2360212 | 1 | 9 columns | 1 columns | <!----> |\n",
       "| 2636990 | 1 | 9 columns | 1 columns | <!----> |\n",
       "| 3524470 | 1 | 9 columns | 1 columns | <!----> |\n",
       "| 3578506 | 1 | 9 columns | 1 columns | <!----> |\n",
       "| 3805482 | 1 | 9 columns | 1 columns | <!----> |\n",
       "| 3889864 | 1 | 9 columns | 1 columns | <!----> |\n",
       "\n"
      ],
      "text/plain": [
       "   row     col expected  actual    file\n",
       "1    29926 1   9 columns 1 columns     \n",
       "2   486970 1   9 columns 1 columns     \n",
       "3   584896 1   9 columns 1 columns     \n",
       "4   839222 1   9 columns 1 columns     \n",
       "5  1119966 1   9 columns 1 columns     \n",
       "6  1184578 1   9 columns 1 columns     \n",
       "7  1185604 1   9 columns 1 columns     \n",
       "8  1468872 1   9 columns 1 columns     \n",
       "9  1737764 1   9 columns 1 columns     \n",
       "10 1822000 1   9 columns 1 columns     \n",
       "11 1971463 1   9 columns 1 columns     \n",
       "12 2360212 1   9 columns 1 columns     \n",
       "13 2636990 1   9 columns 1 columns     \n",
       "14 3524470 1   9 columns 1 columns     \n",
       "15 3578506 1   9 columns 1 columns     \n",
       "16 3805482 1   9 columns 1 columns     \n",
       "17 3889864 1   9 columns 1 columns     "
      ]
     },
     "metadata": {},
     "output_type": "display_data"
    }
   ],
   "source": [
    "problems(dat)"
   ]
  },
  {
   "cell_type": "code",
   "execution_count": 9,
   "metadata": {},
   "outputs": [
    {
     "name": "stderr",
     "output_type": "stream",
     "text": [
      "\u001b[1mRows: \u001b[22m\u001b[34m1996102\u001b[39m \u001b[1mColumns: \u001b[22m\u001b[34m9\u001b[39m\n",
      "\u001b[36m──\u001b[39m \u001b[1mColumn specification\u001b[22m \u001b[36m──────────────────────────────────────────────────────────────────────\u001b[39m\n",
      "\u001b[1mDelimiter:\u001b[22m \"\\t\"\n",
      "\u001b[31mchr\u001b[39m (7): X1, X2, X3, X6, X7, X8, X9\n",
      "\u001b[32mdbl\u001b[39m (2): X4, X5\n",
      "\n",
      "\u001b[36mℹ\u001b[39m Use `spec()` to retrieve the full column specification for this data.\n",
      "\u001b[36mℹ\u001b[39m Specify the column types or set `show_col_types = FALSE` to quiet this message.\n"
     ]
    },
    {
     "name": "stdout",
     "output_type": "stream",
     "text": [
      "[1] 1996102       9\n"
     ]
    },
    {
     "data": {
      "text/html": [
       "<table class=\"dataframe\">\n",
       "<caption>A tibble: 6 × 9</caption>\n",
       "<thead>\n",
       "\t<tr><th scope=col>X1</th><th scope=col>X2</th><th scope=col>X3</th><th scope=col>X4</th><th scope=col>X5</th><th scope=col>X6</th><th scope=col>X7</th><th scope=col>X8</th><th scope=col>X9</th></tr>\n",
       "\t<tr><th scope=col>&lt;chr&gt;</th><th scope=col>&lt;chr&gt;</th><th scope=col>&lt;chr&gt;</th><th scope=col>&lt;dbl&gt;</th><th scope=col>&lt;dbl&gt;</th><th scope=col>&lt;chr&gt;</th><th scope=col>&lt;chr&gt;</th><th scope=col>&lt;chr&gt;</th><th scope=col>&lt;chr&gt;</th></tr>\n",
       "</thead>\n",
       "<tbody>\n",
       "\t<tr><td>chr1</td><td>HAVANA</td><td>gene      </td><td>11869</td><td>14409</td><td>.</td><td>+</td><td>.</td><td>gene_id \"ENSG00000290825.1\"; gene_type \"lncRNA\"; gene_name \"DDX11L2\"; level 2; tag \"overlaps_pseudogene\";                                                                                                                                                                                                                           </td></tr>\n",
       "\t<tr><td>chr1</td><td>HAVANA</td><td>transcript</td><td>11869</td><td>14409</td><td>.</td><td>+</td><td>.</td><td>gene_id \"ENSG00000290825.1\"; transcript_id \"ENST00000456328.2\"; gene_type \"lncRNA\"; gene_name \"DDX11L2\"; transcript_type \"lncRNA\"; transcript_name \"DDX11L2-202\"; level 2; transcript_support_level \"1\"; tag \"basic\"; tag \"Ensembl_canonical\"; havana_transcript \"OTTHUMT00000362751.1\";                                            </td></tr>\n",
       "\t<tr><td>chr1</td><td>HAVANA</td><td>exon      </td><td>11869</td><td>12227</td><td>.</td><td>+</td><td>.</td><td>gene_id \"ENSG00000290825.1\"; transcript_id \"ENST00000456328.2\"; gene_type \"lncRNA\"; gene_name \"DDX11L2\"; transcript_type \"lncRNA\"; transcript_name \"DDX11L2-202\"; exon_number 1; exon_id \"ENSE00002234944.1\"; level 2; transcript_support_level \"1\"; tag \"basic\"; tag \"Ensembl_canonical\"; havana_transcript \"OTTHUMT00000362751.1\";</td></tr>\n",
       "\t<tr><td>chr1</td><td>HAVANA</td><td>exon      </td><td>12613</td><td>12721</td><td>.</td><td>+</td><td>.</td><td>gene_id \"ENSG00000290825.1\"; transcript_id \"ENST00000456328.2\"; gene_type \"lncRNA\"; gene_name \"DDX11L2\"; transcript_type \"lncRNA\"; transcript_name \"DDX11L2-202\"; exon_number 2; exon_id \"ENSE00003582793.1\"; level 2; transcript_support_level \"1\"; tag \"basic\"; tag \"Ensembl_canonical\"; havana_transcript \"OTTHUMT00000362751.1\";</td></tr>\n",
       "\t<tr><td>chr1</td><td>HAVANA</td><td>exon      </td><td>13221</td><td>14409</td><td>.</td><td>+</td><td>.</td><td>gene_id \"ENSG00000290825.1\"; transcript_id \"ENST00000456328.2\"; gene_type \"lncRNA\"; gene_name \"DDX11L2\"; transcript_type \"lncRNA\"; transcript_name \"DDX11L2-202\"; exon_number 3; exon_id \"ENSE00002312635.1\"; level 2; transcript_support_level \"1\"; tag \"basic\"; tag \"Ensembl_canonical\"; havana_transcript \"OTTHUMT00000362751.1\";</td></tr>\n",
       "\t<tr><td>chr1</td><td>HAVANA</td><td>gene      </td><td>12010</td><td>13670</td><td>.</td><td>+</td><td>.</td><td>gene_id \"ENSG00000223972.6\"; gene_type \"transcribed_unprocessed_pseudogene\"; gene_name \"DDX11L1\"; level 2; hgnc_id \"HGNC:37102\"; havana_gene \"OTTHUMG00000000961.2\";                                                                                                                                                                </td></tr>\n",
       "</tbody>\n",
       "</table>\n"
      ],
      "text/latex": [
       "A tibble: 6 × 9\n",
       "\\begin{tabular}{lllllllll}\n",
       " X1 & X2 & X3 & X4 & X5 & X6 & X7 & X8 & X9\\\\\n",
       " <chr> & <chr> & <chr> & <dbl> & <dbl> & <chr> & <chr> & <chr> & <chr>\\\\\n",
       "\\hline\n",
       "\t chr1 & HAVANA & gene       & 11869 & 14409 & . & + & . & gene\\_id \"ENSG00000290825.1\"; gene\\_type \"lncRNA\"; gene\\_name \"DDX11L2\"; level 2; tag \"overlaps\\_pseudogene\";                                                                                                                                                                                                                           \\\\\n",
       "\t chr1 & HAVANA & transcript & 11869 & 14409 & . & + & . & gene\\_id \"ENSG00000290825.1\"; transcript\\_id \"ENST00000456328.2\"; gene\\_type \"lncRNA\"; gene\\_name \"DDX11L2\"; transcript\\_type \"lncRNA\"; transcript\\_name \"DDX11L2-202\"; level 2; transcript\\_support\\_level \"1\"; tag \"basic\"; tag \"Ensembl\\_canonical\"; havana\\_transcript \"OTTHUMT00000362751.1\";                                            \\\\\n",
       "\t chr1 & HAVANA & exon       & 11869 & 12227 & . & + & . & gene\\_id \"ENSG00000290825.1\"; transcript\\_id \"ENST00000456328.2\"; gene\\_type \"lncRNA\"; gene\\_name \"DDX11L2\"; transcript\\_type \"lncRNA\"; transcript\\_name \"DDX11L2-202\"; exon\\_number 1; exon\\_id \"ENSE00002234944.1\"; level 2; transcript\\_support\\_level \"1\"; tag \"basic\"; tag \"Ensembl\\_canonical\"; havana\\_transcript \"OTTHUMT00000362751.1\";\\\\\n",
       "\t chr1 & HAVANA & exon       & 12613 & 12721 & . & + & . & gene\\_id \"ENSG00000290825.1\"; transcript\\_id \"ENST00000456328.2\"; gene\\_type \"lncRNA\"; gene\\_name \"DDX11L2\"; transcript\\_type \"lncRNA\"; transcript\\_name \"DDX11L2-202\"; exon\\_number 2; exon\\_id \"ENSE00003582793.1\"; level 2; transcript\\_support\\_level \"1\"; tag \"basic\"; tag \"Ensembl\\_canonical\"; havana\\_transcript \"OTTHUMT00000362751.1\";\\\\\n",
       "\t chr1 & HAVANA & exon       & 13221 & 14409 & . & + & . & gene\\_id \"ENSG00000290825.1\"; transcript\\_id \"ENST00000456328.2\"; gene\\_type \"lncRNA\"; gene\\_name \"DDX11L2\"; transcript\\_type \"lncRNA\"; transcript\\_name \"DDX11L2-202\"; exon\\_number 3; exon\\_id \"ENSE00002312635.1\"; level 2; transcript\\_support\\_level \"1\"; tag \"basic\"; tag \"Ensembl\\_canonical\"; havana\\_transcript \"OTTHUMT00000362751.1\";\\\\\n",
       "\t chr1 & HAVANA & gene       & 12010 & 13670 & . & + & . & gene\\_id \"ENSG00000223972.6\"; gene\\_type \"transcribed\\_unprocessed\\_pseudogene\"; gene\\_name \"DDX11L1\"; level 2; hgnc\\_id \"HGNC:37102\"; havana\\_gene \"OTTHUMG00000000961.2\";                                                                                                                                                                \\\\\n",
       "\\end{tabular}\n"
      ],
      "text/markdown": [
       "\n",
       "A tibble: 6 × 9\n",
       "\n",
       "| X1 &lt;chr&gt; | X2 &lt;chr&gt; | X3 &lt;chr&gt; | X4 &lt;dbl&gt; | X5 &lt;dbl&gt; | X6 &lt;chr&gt; | X7 &lt;chr&gt; | X8 &lt;chr&gt; | X9 &lt;chr&gt; |\n",
       "|---|---|---|---|---|---|---|---|---|\n",
       "| chr1 | HAVANA | gene       | 11869 | 14409 | . | + | . | gene_id \"ENSG00000290825.1\"; gene_type \"lncRNA\"; gene_name \"DDX11L2\"; level 2; tag \"overlaps_pseudogene\";                                                                                                                                                                                                                            |\n",
       "| chr1 | HAVANA | transcript | 11869 | 14409 | . | + | . | gene_id \"ENSG00000290825.1\"; transcript_id \"ENST00000456328.2\"; gene_type \"lncRNA\"; gene_name \"DDX11L2\"; transcript_type \"lncRNA\"; transcript_name \"DDX11L2-202\"; level 2; transcript_support_level \"1\"; tag \"basic\"; tag \"Ensembl_canonical\"; havana_transcript \"OTTHUMT00000362751.1\";                                             |\n",
       "| chr1 | HAVANA | exon       | 11869 | 12227 | . | + | . | gene_id \"ENSG00000290825.1\"; transcript_id \"ENST00000456328.2\"; gene_type \"lncRNA\"; gene_name \"DDX11L2\"; transcript_type \"lncRNA\"; transcript_name \"DDX11L2-202\"; exon_number 1; exon_id \"ENSE00002234944.1\"; level 2; transcript_support_level \"1\"; tag \"basic\"; tag \"Ensembl_canonical\"; havana_transcript \"OTTHUMT00000362751.1\"; |\n",
       "| chr1 | HAVANA | exon       | 12613 | 12721 | . | + | . | gene_id \"ENSG00000290825.1\"; transcript_id \"ENST00000456328.2\"; gene_type \"lncRNA\"; gene_name \"DDX11L2\"; transcript_type \"lncRNA\"; transcript_name \"DDX11L2-202\"; exon_number 2; exon_id \"ENSE00003582793.1\"; level 2; transcript_support_level \"1\"; tag \"basic\"; tag \"Ensembl_canonical\"; havana_transcript \"OTTHUMT00000362751.1\"; |\n",
       "| chr1 | HAVANA | exon       | 13221 | 14409 | . | + | . | gene_id \"ENSG00000290825.1\"; transcript_id \"ENST00000456328.2\"; gene_type \"lncRNA\"; gene_name \"DDX11L2\"; transcript_type \"lncRNA\"; transcript_name \"DDX11L2-202\"; exon_number 3; exon_id \"ENSE00002312635.1\"; level 2; transcript_support_level \"1\"; tag \"basic\"; tag \"Ensembl_canonical\"; havana_transcript \"OTTHUMT00000362751.1\"; |\n",
       "| chr1 | HAVANA | gene       | 12010 | 13670 | . | + | . | gene_id \"ENSG00000223972.6\"; gene_type \"transcribed_unprocessed_pseudogene\"; gene_name \"DDX11L1\"; level 2; hgnc_id \"HGNC:37102\"; havana_gene \"OTTHUMG00000000961.2\";                                                                                                                                                                 |\n",
       "\n"
      ],
      "text/plain": [
       "  X1   X2     X3         X4    X5    X6 X7 X8\n",
       "1 chr1 HAVANA gene       11869 14409 .  +  . \n",
       "2 chr1 HAVANA transcript 11869 14409 .  +  . \n",
       "3 chr1 HAVANA exon       11869 12227 .  +  . \n",
       "4 chr1 HAVANA exon       12613 12721 .  +  . \n",
       "5 chr1 HAVANA exon       13221 14409 .  +  . \n",
       "6 chr1 HAVANA gene       12010 13670 .  +  . \n",
       "  X9                                                                                                                                                                                                                                                                                                                                  \n",
       "1 gene_id \"ENSG00000290825.1\"; gene_type \"lncRNA\"; gene_name \"DDX11L2\"; level 2; tag \"overlaps_pseudogene\";                                                                                                                                                                                                                           \n",
       "2 gene_id \"ENSG00000290825.1\"; transcript_id \"ENST00000456328.2\"; gene_type \"lncRNA\"; gene_name \"DDX11L2\"; transcript_type \"lncRNA\"; transcript_name \"DDX11L2-202\"; level 2; transcript_support_level \"1\"; tag \"basic\"; tag \"Ensembl_canonical\"; havana_transcript \"OTTHUMT00000362751.1\";                                            \n",
       "3 gene_id \"ENSG00000290825.1\"; transcript_id \"ENST00000456328.2\"; gene_type \"lncRNA\"; gene_name \"DDX11L2\"; transcript_type \"lncRNA\"; transcript_name \"DDX11L2-202\"; exon_number 1; exon_id \"ENSE00002234944.1\"; level 2; transcript_support_level \"1\"; tag \"basic\"; tag \"Ensembl_canonical\"; havana_transcript \"OTTHUMT00000362751.1\";\n",
       "4 gene_id \"ENSG00000290825.1\"; transcript_id \"ENST00000456328.2\"; gene_type \"lncRNA\"; gene_name \"DDX11L2\"; transcript_type \"lncRNA\"; transcript_name \"DDX11L2-202\"; exon_number 2; exon_id \"ENSE00003582793.1\"; level 2; transcript_support_level \"1\"; tag \"basic\"; tag \"Ensembl_canonical\"; havana_transcript \"OTTHUMT00000362751.1\";\n",
       "5 gene_id \"ENSG00000290825.1\"; transcript_id \"ENST00000456328.2\"; gene_type \"lncRNA\"; gene_name \"DDX11L2\"; transcript_type \"lncRNA\"; transcript_name \"DDX11L2-202\"; exon_number 3; exon_id \"ENSE00002312635.1\"; level 2; transcript_support_level \"1\"; tag \"basic\"; tag \"Ensembl_canonical\"; havana_transcript \"OTTHUMT00000362751.1\";\n",
       "6 gene_id \"ENSG00000223972.6\"; gene_type \"transcribed_unprocessed_pseudogene\"; gene_name \"DDX11L1\"; level 2; hgnc_id \"HGNC:37102\"; havana_gene \"OTTHUMG00000000961.2\";                                                                                                                                                                "
      ]
     },
     "metadata": {},
     "output_type": "display_data"
    }
   ],
   "source": [
    "fdiry = file.path(FD_RES, \"source\", \"annotation_gencode\")\n",
    "fname = \"gencode.v42.primary_assembly.basic.annotation.gtf.gz\"\n",
    "fpath = file.path(fdiry, fname)\n",
    "\n",
    "#cnames = c(\"Chrom\", \"Start\", \"End\", \"Name\", \"Score\", \"Strand\", \"Gene_Symbol\", \"X\", \"Note\")\n",
    "dat = read_tsv(fpath, col_names = FALSE, comment = \"##\")\n",
    "\n",
    "dat_gencode_basic = dat\n",
    "print(dim(dat))\n",
    "head(dat)"
   ]
  },
  {
   "cell_type": "markdown",
   "metadata": {},
   "source": [
    "## Construct a bed file"
   ]
  },
  {
   "cell_type": "code",
   "execution_count": 49,
   "metadata": {},
   "outputs": [
    {
     "name": "stdout",
     "output_type": "stream",
     "text": [
      "[1] 114718      7\n"
     ]
    },
    {
     "data": {
      "text/html": [
       "<table class=\"dataframe\">\n",
       "<caption>A rowwise_df: 6 × 7</caption>\n",
       "<thead>\n",
       "\t<tr><th scope=col>Chrom</th><th scope=col>Start</th><th scope=col>End</th><th scope=col>Strand</th><th scope=col>Gene_ID</th><th scope=col>Gene_Name</th><th scope=col>TSS</th></tr>\n",
       "\t<tr><th scope=col>&lt;chr&gt;</th><th scope=col>&lt;dbl&gt;</th><th scope=col>&lt;dbl&gt;</th><th scope=col>&lt;chr&gt;</th><th scope=col>&lt;chr&gt;</th><th scope=col>&lt;chr&gt;</th><th scope=col>&lt;dbl&gt;</th></tr>\n",
       "</thead>\n",
       "<tbody>\n",
       "\t<tr><td>KI270734.1</td><td> 72411</td><td> 74814</td><td>+</td><td>ENSG00000276017.1</td><td>ENSG00000276017</td><td> 72411</td></tr>\n",
       "\t<tr><td>KI270734.1</td><td>131494</td><td>137392</td><td>+</td><td>ENSG00000278817.1</td><td>ENSG00000278817</td><td>131494</td></tr>\n",
       "\t<tr><td>KI270734.1</td><td>138082</td><td>161750</td><td>-</td><td>ENSG00000277196.4</td><td>ENSG00000277196</td><td>161750</td></tr>\n",
       "\t<tr><td>KI270734.1</td><td>138082</td><td>161852</td><td>-</td><td>ENSG00000277196.4</td><td>ENSG00000277196</td><td>161852</td></tr>\n",
       "\t<tr><td>KI270744.1</td><td> 51009</td><td> 51114</td><td>-</td><td>ENSG00000278625.1</td><td>U6             </td><td> 51114</td></tr>\n",
       "\t<tr><td>KI270750.1</td><td>148668</td><td>148843</td><td>+</td><td>ENSG00000277374.1</td><td>U1             </td><td>148668</td></tr>\n",
       "</tbody>\n",
       "</table>\n"
      ],
      "text/latex": [
       "A rowwise\\_df: 6 × 7\n",
       "\\begin{tabular}{lllllll}\n",
       " Chrom & Start & End & Strand & Gene\\_ID & Gene\\_Name & TSS\\\\\n",
       " <chr> & <dbl> & <dbl> & <chr> & <chr> & <chr> & <dbl>\\\\\n",
       "\\hline\n",
       "\t KI270734.1 &  72411 &  74814 & + & ENSG00000276017.1 & ENSG00000276017 &  72411\\\\\n",
       "\t KI270734.1 & 131494 & 137392 & + & ENSG00000278817.1 & ENSG00000278817 & 131494\\\\\n",
       "\t KI270734.1 & 138082 & 161750 & - & ENSG00000277196.4 & ENSG00000277196 & 161750\\\\\n",
       "\t KI270734.1 & 138082 & 161852 & - & ENSG00000277196.4 & ENSG00000277196 & 161852\\\\\n",
       "\t KI270744.1 &  51009 &  51114 & - & ENSG00000278625.1 & U6              &  51114\\\\\n",
       "\t KI270750.1 & 148668 & 148843 & + & ENSG00000277374.1 & U1              & 148668\\\\\n",
       "\\end{tabular}\n"
      ],
      "text/markdown": [
       "\n",
       "A rowwise_df: 6 × 7\n",
       "\n",
       "| Chrom &lt;chr&gt; | Start &lt;dbl&gt; | End &lt;dbl&gt; | Strand &lt;chr&gt; | Gene_ID &lt;chr&gt; | Gene_Name &lt;chr&gt; | TSS &lt;dbl&gt; |\n",
       "|---|---|---|---|---|---|---|\n",
       "| KI270734.1 |  72411 |  74814 | + | ENSG00000276017.1 | ENSG00000276017 |  72411 |\n",
       "| KI270734.1 | 131494 | 137392 | + | ENSG00000278817.1 | ENSG00000278817 | 131494 |\n",
       "| KI270734.1 | 138082 | 161750 | - | ENSG00000277196.4 | ENSG00000277196 | 161750 |\n",
       "| KI270734.1 | 138082 | 161852 | - | ENSG00000277196.4 | ENSG00000277196 | 161852 |\n",
       "| KI270744.1 |  51009 |  51114 | - | ENSG00000278625.1 | U6              |  51114 |\n",
       "| KI270750.1 | 148668 | 148843 | + | ENSG00000277374.1 | U1              | 148668 |\n",
       "\n"
      ],
      "text/plain": [
       "  Chrom      Start  End    Strand Gene_ID           Gene_Name       TSS   \n",
       "1 KI270734.1  72411  74814 +      ENSG00000276017.1 ENSG00000276017  72411\n",
       "2 KI270734.1 131494 137392 +      ENSG00000278817.1 ENSG00000278817 131494\n",
       "3 KI270734.1 138082 161750 -      ENSG00000277196.4 ENSG00000277196 161750\n",
       "4 KI270734.1 138082 161852 -      ENSG00000277196.4 ENSG00000277196 161852\n",
       "5 KI270744.1  51009  51114 -      ENSG00000278625.1 U6               51114\n",
       "6 KI270750.1 148668 148843 +      ENSG00000277374.1 U1              148668"
      ]
     },
     "metadata": {},
     "output_type": "display_data"
    }
   ],
   "source": [
    "dat = dat_gencode_basic\n",
    "dat = dat %>% dplyr::filter(X3 == \"transcript\")\n",
    "\n",
    "dat = dat %>%\n",
    "    dplyr::mutate(Gene_Name = str_extract(X9, \"gene_name[^;]*\")) %>%\n",
    "    dplyr::mutate(Gene_Name = str_remove_all(Gene_Name, 'gene_name |\\\"'))\n",
    "\n",
    "dat = dat %>%\n",
    "    dplyr::mutate(Gene_ID = str_extract(X9, \"gene_id[^;]*\")) %>%\n",
    "    dplyr::mutate(Gene_ID = str_remove_all(Gene_ID, 'gene_id |\\\"'))\n",
    "\n",
    "dat = dat %>%\n",
    "    dplyr::mutate(\n",
    "        Chrom  = X1,\n",
    "        Strand = X7,\n",
    "        Start  = X4,\n",
    "        End    = X5\n",
    "    ) %>%\n",
    "    dplyr::select(\n",
    "        Chrom, Start, End, Strand, Gene_ID, Gene_Name\n",
    "    ) %>%\n",
    "    dplyr::distinct()\n",
    "\n",
    "dat = dat %>%\n",
    "    dplyr::rowwise() %>%\n",
    "    dplyr::mutate(\n",
    "        TSS = ifelse(\n",
    "            Strand == \"+\",\n",
    "            Start,\n",
    "            End\n",
    "        ))\n",
    "\n",
    "dat_transcript_info = dat\n",
    "print(dim(dat))\n",
    "tail(dat)"
   ]
  },
  {
   "cell_type": "code",
   "execution_count": 140,
   "metadata": {},
   "outputs": [
    {
     "name": "stdout",
     "output_type": "stream",
     "text": [
      "[1] 25\n",
      " [1] \"chr1\"       \"chr2\"       \"chr3\"       \"chr4\"       \"chr5\"      \n",
      " [6] \"chr6\"       \"chr7\"       \"chr8\"       \"chr9\"       \"chr10\"     \n",
      "[11] \"chr11\"      \"chr12\"      \"chr13\"      \"chr14\"      \"chr15\"     \n",
      "[16] \"chr16\"      \"chr17\"      \"chr18\"      \"chr19\"      \"chr20\"     \n",
      "[21] \"chr21\"      \"chr22\"      \"chrX\"       \"chrY\"       \"chrUnknown\"\n",
      "[1] 704   2\n"
     ]
    },
    {
     "data": {
      "text/html": [
       "<table class=\"dataframe\">\n",
       "<caption>A tibble: 6 × 2</caption>\n",
       "<thead>\n",
       "\t<tr><th scope=col>Seqid</th><th scope=col>Chrom</th></tr>\n",
       "\t<tr><th scope=col>&lt;chr&gt;</th><th scope=col>&lt;chr&gt;</th></tr>\n",
       "</thead>\n",
       "<tbody>\n",
       "\t<tr><td>NC_000001.11</td><td>chr1</td></tr>\n",
       "\t<tr><td>NT_187361.1 </td><td>chr1</td></tr>\n",
       "\t<tr><td>NT_187362.1 </td><td>chr1</td></tr>\n",
       "\t<tr><td>NT_187363.1 </td><td>chr1</td></tr>\n",
       "\t<tr><td>NT_187364.1 </td><td>chr1</td></tr>\n",
       "\t<tr><td>NT_187365.1 </td><td>chr1</td></tr>\n",
       "</tbody>\n",
       "</table>\n"
      ],
      "text/latex": [
       "A tibble: 6 × 2\n",
       "\\begin{tabular}{ll}\n",
       " Seqid & Chrom\\\\\n",
       " <chr> & <chr>\\\\\n",
       "\\hline\n",
       "\t NC\\_000001.11 & chr1\\\\\n",
       "\t NT\\_187361.1  & chr1\\\\\n",
       "\t NT\\_187362.1  & chr1\\\\\n",
       "\t NT\\_187363.1  & chr1\\\\\n",
       "\t NT\\_187364.1  & chr1\\\\\n",
       "\t NT\\_187365.1  & chr1\\\\\n",
       "\\end{tabular}\n"
      ],
      "text/markdown": [
       "\n",
       "A tibble: 6 × 2\n",
       "\n",
       "| Seqid &lt;chr&gt; | Chrom &lt;chr&gt; |\n",
       "|---|---|\n",
       "| NC_000001.11 | chr1 |\n",
       "| NT_187361.1  | chr1 |\n",
       "| NT_187362.1  | chr1 |\n",
       "| NT_187363.1  | chr1 |\n",
       "| NT_187364.1  | chr1 |\n",
       "| NT_187365.1  | chr1 |\n",
       "\n"
      ],
      "text/plain": [
       "  Seqid        Chrom\n",
       "1 NC_000001.11 chr1 \n",
       "2 NT_187361.1  chr1 \n",
       "3 NT_187362.1  chr1 \n",
       "4 NT_187363.1  chr1 \n",
       "5 NT_187364.1  chr1 \n",
       "6 NT_187365.1  chr1 "
      ]
     },
     "metadata": {},
     "output_type": "display_data"
    }
   ],
   "source": [
    "dat = dat_refseq_ncbi\n",
    "dat = dat %>% dplyr::filter(Type == \"region\")\n",
    "\n",
    "dat = dat %>%\n",
    "    dplyr::mutate(Chrom = str_extract(Attributes, \"chromosome=[^;]*\")) %>%\n",
    "    dplyr::mutate(Chrom = str_remove_all(Chrom, 'chromosome=')) %>%\n",
    "    na.omit %>%\n",
    "    dplyr::mutate(Chrom = paste0(\"chr\", Chrom))\n",
    "\n",
    "dat = dat %>%\n",
    "    dplyr::select(Seqid, Chrom) %>%\n",
    "    dplyr::distinct()\n",
    "\n",
    "vec = unique(dat$Chrom)\n",
    "print(length(vec))\n",
    "print(vec)\n",
    "\n",
    "dat_chrom = dat\n",
    "print(dim(dat))\n",
    "head(dat)"
   ]
  },
  {
   "cell_type": "code",
   "execution_count": 141,
   "metadata": {},
   "outputs": [
    {
     "data": {
      "text/html": [
       "<table class=\"dataframe\">\n",
       "<caption>A tibble: 1 × 2</caption>\n",
       "<thead>\n",
       "\t<tr><th scope=col>Seqid</th><th scope=col>Chrom</th></tr>\n",
       "\t<tr><th scope=col>&lt;chr&gt;</th><th scope=col>&lt;chr&gt;</th></tr>\n",
       "</thead>\n",
       "<tbody>\n",
       "\t<tr><td>NC_000005.10</td><td>chr5</td></tr>\n",
       "</tbody>\n",
       "</table>\n"
      ],
      "text/latex": [
       "A tibble: 1 × 2\n",
       "\\begin{tabular}{ll}\n",
       " Seqid & Chrom\\\\\n",
       " <chr> & <chr>\\\\\n",
       "\\hline\n",
       "\t NC\\_000005.10 & chr5\\\\\n",
       "\\end{tabular}\n"
      ],
      "text/markdown": [
       "\n",
       "A tibble: 1 × 2\n",
       "\n",
       "| Seqid &lt;chr&gt; | Chrom &lt;chr&gt; |\n",
       "|---|---|\n",
       "| NC_000005.10 | chr5 |\n",
       "\n"
      ],
      "text/plain": [
       "  Seqid        Chrom\n",
       "1 NC_000005.10 chr5 "
      ]
     },
     "metadata": {},
     "output_type": "display_data"
    }
   ],
   "source": [
    "dat = dat_chrom\n",
    "dat %>% dplyr::filter(Seqid == \"NC_000005.10\")"
   ]
  },
  {
   "cell_type": "code",
   "execution_count": 142,
   "metadata": {},
   "outputs": [
    {
     "name": "stdout",
     "output_type": "stream",
     "text": [
      "[1] 60020     4\n"
     ]
    },
    {
     "data": {
      "text/html": [
       "<table class=\"dataframe\">\n",
       "<caption>A tibble: 6 × 4</caption>\n",
       "<thead>\n",
       "\t<tr><th scope=col>Chrom</th><th scope=col>Strand</th><th scope=col>Gene_ID_NCBI</th><th scope=col>Gene_Name</th></tr>\n",
       "\t<tr><th scope=col>&lt;chr&gt;</th><th scope=col>&lt;chr&gt;</th><th scope=col>&lt;chr&gt;</th><th scope=col>&lt;chr&gt;</th></tr>\n",
       "</thead>\n",
       "<tbody>\n",
       "\t<tr><td>chr1</td><td>+</td><td>100287102</td><td>DDX11L1    </td></tr>\n",
       "\t<tr><td>chr1</td><td>-</td><td>653635   </td><td>WASH7P     </td></tr>\n",
       "\t<tr><td>chr1</td><td>-</td><td>102466751</td><td>MIR6859-1  </td></tr>\n",
       "\t<tr><td>chr1</td><td>+</td><td>107985730</td><td>MIR1302-2HG</td></tr>\n",
       "\t<tr><td>chr1</td><td>+</td><td>100302278</td><td>MIR1302-2  </td></tr>\n",
       "\t<tr><td>chr1</td><td>-</td><td>645520   </td><td>FAM138A    </td></tr>\n",
       "</tbody>\n",
       "</table>\n"
      ],
      "text/latex": [
       "A tibble: 6 × 4\n",
       "\\begin{tabular}{llll}\n",
       " Chrom & Strand & Gene\\_ID\\_NCBI & Gene\\_Name\\\\\n",
       " <chr> & <chr> & <chr> & <chr>\\\\\n",
       "\\hline\n",
       "\t chr1 & + & 100287102 & DDX11L1    \\\\\n",
       "\t chr1 & - & 653635    & WASH7P     \\\\\n",
       "\t chr1 & - & 102466751 & MIR6859-1  \\\\\n",
       "\t chr1 & + & 107985730 & MIR1302-2HG\\\\\n",
       "\t chr1 & + & 100302278 & MIR1302-2  \\\\\n",
       "\t chr1 & - & 645520    & FAM138A    \\\\\n",
       "\\end{tabular}\n"
      ],
      "text/markdown": [
       "\n",
       "A tibble: 6 × 4\n",
       "\n",
       "| Chrom &lt;chr&gt; | Strand &lt;chr&gt; | Gene_ID_NCBI &lt;chr&gt; | Gene_Name &lt;chr&gt; |\n",
       "|---|---|---|---|\n",
       "| chr1 | + | 100287102 | DDX11L1     |\n",
       "| chr1 | - | 653635    | WASH7P      |\n",
       "| chr1 | - | 102466751 | MIR6859-1   |\n",
       "| chr1 | + | 107985730 | MIR1302-2HG |\n",
       "| chr1 | + | 100302278 | MIR1302-2   |\n",
       "| chr1 | - | 645520    | FAM138A     |\n",
       "\n"
      ],
      "text/plain": [
       "  Chrom Strand Gene_ID_NCBI Gene_Name  \n",
       "1 chr1  +      100287102    DDX11L1    \n",
       "2 chr1  -      653635       WASH7P     \n",
       "3 chr1  -      102466751    MIR6859-1  \n",
       "4 chr1  +      107985730    MIR1302-2HG\n",
       "5 chr1  +      100302278    MIR1302-2  \n",
       "6 chr1  -      645520       FAM138A    "
      ]
     },
     "metadata": {},
     "output_type": "display_data"
    }
   ],
   "source": [
    "dat = dat_refseq_ncbi\n",
    "\n",
    "dat = dat %>%\n",
    "    dplyr::mutate(Gene_Name = str_extract(Attributes, \"gene=[^;]*\")) %>%\n",
    "    dplyr::mutate(Gene_Name = str_remove_all(Gene_Name, 'gene=')) %>%\n",
    "    na.omit\n",
    "\n",
    "dat = dat %>%\n",
    "    dplyr::mutate(Gene_ID_NCBI = str_extract(Attributes, \"GeneID[^;,]*\")) %>%\n",
    "    dplyr::mutate(Gene_ID_NCBI = str_remove_all(Gene_ID_NCBI, 'GeneID:')) %>%\n",
    "    na.omit\n",
    "\n",
    "dat = dat %>%\n",
    "    dplyr::left_join(dat_chrom, by=\"Seqid\") %>%\n",
    "    dplyr::select(Chrom, Strand, Gene_ID_NCBI, Gene_Name) %>%\n",
    "    dplyr::distinct()\n",
    "\n",
    "dat_gene = dat\n",
    "print(dim(dat))\n",
    "head(dat)"
   ]
  },
  {
   "cell_type": "code",
   "execution_count": 143,
   "metadata": {},
   "outputs": [
    {
     "data": {
      "text/html": [
       "<table class=\"dataframe\">\n",
       "<caption>A tibble: 1 × 4</caption>\n",
       "<thead>\n",
       "\t<tr><th scope=col>Chrom</th><th scope=col>Strand</th><th scope=col>Gene_ID_NCBI</th><th scope=col>Gene_Name</th></tr>\n",
       "\t<tr><th scope=col>&lt;chr&gt;</th><th scope=col>&lt;chr&gt;</th><th scope=col>&lt;chr&gt;</th><th scope=col>&lt;chr&gt;</th></tr>\n",
       "</thead>\n",
       "<tbody>\n",
       "\t<tr><td>chr19</td><td>+</td><td>503538</td><td>A1BG-AS1</td></tr>\n",
       "</tbody>\n",
       "</table>\n"
      ],
      "text/latex": [
       "A tibble: 1 × 4\n",
       "\\begin{tabular}{llll}\n",
       " Chrom & Strand & Gene\\_ID\\_NCBI & Gene\\_Name\\\\\n",
       " <chr> & <chr> & <chr> & <chr>\\\\\n",
       "\\hline\n",
       "\t chr19 & + & 503538 & A1BG-AS1\\\\\n",
       "\\end{tabular}\n"
      ],
      "text/markdown": [
       "\n",
       "A tibble: 1 × 4\n",
       "\n",
       "| Chrom &lt;chr&gt; | Strand &lt;chr&gt; | Gene_ID_NCBI &lt;chr&gt; | Gene_Name &lt;chr&gt; |\n",
       "|---|---|---|---|\n",
       "| chr19 | + | 503538 | A1BG-AS1 |\n",
       "\n"
      ],
      "text/plain": [
       "  Chrom Strand Gene_ID_NCBI Gene_Name\n",
       "1 chr19 +      503538       A1BG-AS1 "
      ]
     },
     "metadata": {},
     "output_type": "display_data"
    }
   ],
   "source": [
    "dat = dat_gene\n",
    "dat %>% dplyr::filter(Gene_ID_NCBI == \"503538\")"
   ]
  },
  {
   "cell_type": "code",
   "execution_count": 149,
   "metadata": {},
   "outputs": [
    {
     "data": {
      "text/html": [
       "<table class=\"dataframe\">\n",
       "<caption>A tibble: 2 × 4</caption>\n",
       "<thead>\n",
       "\t<tr><th scope=col>Chrom</th><th scope=col>Strand</th><th scope=col>Gene_ID_NCBI</th><th scope=col>Gene_Name</th></tr>\n",
       "\t<tr><th scope=col>&lt;chr&gt;</th><th scope=col>&lt;chr&gt;</th><th scope=col>&lt;chr&gt;</th><th scope=col>&lt;chr&gt;</th></tr>\n",
       "</thead>\n",
       "<tbody>\n",
       "\t<tr><td>chr16</td><td>-</td><td>730013</td><td>ABCC6P2</td></tr>\n",
       "\t<tr><td>chr16</td><td>+</td><td>730013</td><td>ABCC6P2</td></tr>\n",
       "</tbody>\n",
       "</table>\n"
      ],
      "text/latex": [
       "A tibble: 2 × 4\n",
       "\\begin{tabular}{llll}\n",
       " Chrom & Strand & Gene\\_ID\\_NCBI & Gene\\_Name\\\\\n",
       " <chr> & <chr> & <chr> & <chr>\\\\\n",
       "\\hline\n",
       "\t chr16 & - & 730013 & ABCC6P2\\\\\n",
       "\t chr16 & + & 730013 & ABCC6P2\\\\\n",
       "\\end{tabular}\n"
      ],
      "text/markdown": [
       "\n",
       "A tibble: 2 × 4\n",
       "\n",
       "| Chrom &lt;chr&gt; | Strand &lt;chr&gt; | Gene_ID_NCBI &lt;chr&gt; | Gene_Name &lt;chr&gt; |\n",
       "|---|---|---|---|\n",
       "| chr16 | - | 730013 | ABCC6P2 |\n",
       "| chr16 | + | 730013 | ABCC6P2 |\n",
       "\n"
      ],
      "text/plain": [
       "  Chrom Strand Gene_ID_NCBI Gene_Name\n",
       "1 chr16 -      730013       ABCC6P2  \n",
       "2 chr16 +      730013       ABCC6P2  "
      ]
     },
     "metadata": {},
     "output_type": "display_data"
    }
   ],
   "source": [
    "dat = dat_gene\n",
    "dat %>% dplyr::filter(Gene_Name == \"ABCC6P2\")"
   ]
  },
  {
   "cell_type": "code",
   "execution_count": 145,
   "metadata": {},
   "outputs": [
    {
     "name": "stderr",
     "output_type": "stream",
     "text": [
      "Warning message in dplyr::left_join(., dat_gene, by = c(\"Chrom\", \"Gene_Name\")):\n",
      "“\u001b[1m\u001b[22mDetected an unexpected many-to-many relationship between `x` and `y`.\n",
      "\u001b[36mℹ\u001b[39m Row 77 of `x` matches multiple rows in `y`.\n",
      "\u001b[36mℹ\u001b[39m Row 44316 of `y` matches multiple rows in `x`.\n",
      "\u001b[36mℹ\u001b[39m If a many-to-many relationship is expected, set `relationship = \"many-to-many\"` to silence\n",
      "  this warning.”\n"
     ]
    },
    {
     "data": {
      "text/html": [
       "<table class=\"dataframe\">\n",
       "<caption>A tibble: 6 × 6</caption>\n",
       "<thead>\n",
       "\t<tr><th scope=col>Gene_Name</th><th scope=col>Chrom</th><th scope=col>TSS</th><th scope=col>Score</th><th scope=col>Strand</th><th scope=col>Gene_ID_NCBI</th></tr>\n",
       "\t<tr><th scope=col>&lt;chr&gt;</th><th scope=col>&lt;chr&gt;</th><th scope=col>&lt;dbl&gt;</th><th scope=col>&lt;dbl&gt;</th><th scope=col>&lt;chr&gt;</th><th scope=col>&lt;chr&gt;</th></tr>\n",
       "</thead>\n",
       "<tbody>\n",
       "\t<tr><td>A1BG-AS1</td><td>chr19</td><td>58351969</td><td>1.52180000</td><td>+</td><td>503538</td></tr>\n",
       "\t<tr><td>A1BG    </td><td>chr19</td><td>58353492</td><td>5.62284000</td><td>-</td><td>1     </td></tr>\n",
       "\t<tr><td>A1CF    </td><td>chr10</td><td>50885675</td><td>0.00706126</td><td>-</td><td>29974 </td></tr>\n",
       "\t<tr><td>A2M-AS1 </td><td>chr12</td><td> 9065176</td><td>0.00201544</td><td>+</td><td>144571</td></tr>\n",
       "\t<tr><td>A2M     </td><td>chr12</td><td> 9115919</td><td>0.04005220</td><td>-</td><td>2     </td></tr>\n",
       "\t<tr><td>A2ML1   </td><td>chr12</td><td> 8845003</td><td>0.26862300</td><td>+</td><td>144568</td></tr>\n",
       "</tbody>\n",
       "</table>\n"
      ],
      "text/latex": [
       "A tibble: 6 × 6\n",
       "\\begin{tabular}{llllll}\n",
       " Gene\\_Name & Chrom & TSS & Score & Strand & Gene\\_ID\\_NCBI\\\\\n",
       " <chr> & <chr> & <dbl> & <dbl> & <chr> & <chr>\\\\\n",
       "\\hline\n",
       "\t A1BG-AS1 & chr19 & 58351969 & 1.52180000 & + & 503538\\\\\n",
       "\t A1BG     & chr19 & 58353492 & 5.62284000 & - & 1     \\\\\n",
       "\t A1CF     & chr10 & 50885675 & 0.00706126 & - & 29974 \\\\\n",
       "\t A2M-AS1  & chr12 &  9065176 & 0.00201544 & + & 144571\\\\\n",
       "\t A2M      & chr12 &  9115919 & 0.04005220 & - & 2     \\\\\n",
       "\t A2ML1    & chr12 &  8845003 & 0.26862300 & + & 144568\\\\\n",
       "\\end{tabular}\n"
      ],
      "text/markdown": [
       "\n",
       "A tibble: 6 × 6\n",
       "\n",
       "| Gene_Name &lt;chr&gt; | Chrom &lt;chr&gt; | TSS &lt;dbl&gt; | Score &lt;dbl&gt; | Strand &lt;chr&gt; | Gene_ID_NCBI &lt;chr&gt; |\n",
       "|---|---|---|---|---|---|\n",
       "| A1BG-AS1 | chr19 | 58351969 | 1.52180000 | + | 503538 |\n",
       "| A1BG     | chr19 | 58353492 | 5.62284000 | - | 1      |\n",
       "| A1CF     | chr10 | 50885675 | 0.00706126 | - | 29974  |\n",
       "| A2M-AS1  | chr12 |  9065176 | 0.00201544 | + | 144571 |\n",
       "| A2M      | chr12 |  9115919 | 0.04005220 | - | 2      |\n",
       "| A2ML1    | chr12 |  8845003 | 0.26862300 | + | 144568 |\n",
       "\n"
      ],
      "text/plain": [
       "  Gene_Name Chrom TSS      Score      Strand Gene_ID_NCBI\n",
       "1 A1BG-AS1  chr19 58351969 1.52180000 +      503538      \n",
       "2 A1BG      chr19 58353492 5.62284000 -      1           \n",
       "3 A1CF      chr10 50885675 0.00706126 -      29974       \n",
       "4 A2M-AS1   chr12  9065176 0.00201544 +      144571      \n",
       "5 A2M       chr12  9115919 0.04005220 -      2           \n",
       "6 A2ML1     chr12  8845003 0.26862300 +      144568      "
      ]
     },
     "metadata": {},
     "output_type": "display_data"
    }
   ],
   "source": [
    "dat = dat_gene_tss_pol2\n",
    "dat = dat %>% \n",
    "    dplyr::rename(\n",
    "        \"Chrom\" = \"chr\",\n",
    "        \"Gene_Name\"  = \"gene_name\",\n",
    "        \"Score\" = \"TSS_POL2_sig\"\n",
    "    ) %>%\n",
    "    dplyr::left_join(dat_gene, by = c(\"Chrom\", \"Gene_Name\"))\n",
    "\n",
    "head(dat)"
   ]
  },
  {
   "cell_type": "code",
   "execution_count": 146,
   "metadata": {},
   "outputs": [
    {
     "data": {
      "text/html": [
       "<table class=\"dataframe\">\n",
       "<caption>A tibble: 1 × 4</caption>\n",
       "<thead>\n",
       "\t<tr><th scope=col>gene_name</th><th scope=col>chr</th><th scope=col>TSS</th><th scope=col>TSS_POL2_sig</th></tr>\n",
       "\t<tr><th scope=col>&lt;chr&gt;</th><th scope=col>&lt;chr&gt;</th><th scope=col>&lt;dbl&gt;</th><th scope=col>&lt;dbl&gt;</th></tr>\n",
       "</thead>\n",
       "<tbody>\n",
       "\t<tr><td>ABCC6P2</td><td>chr16</td><td>14824702</td><td>0.00023</td></tr>\n",
       "</tbody>\n",
       "</table>\n"
      ],
      "text/latex": [
       "A tibble: 1 × 4\n",
       "\\begin{tabular}{llll}\n",
       " gene\\_name & chr & TSS & TSS\\_POL2\\_sig\\\\\n",
       " <chr> & <chr> & <dbl> & <dbl>\\\\\n",
       "\\hline\n",
       "\t ABCC6P2 & chr16 & 14824702 & 0.00023\\\\\n",
       "\\end{tabular}\n"
      ],
      "text/markdown": [
       "\n",
       "A tibble: 1 × 4\n",
       "\n",
       "| gene_name &lt;chr&gt; | chr &lt;chr&gt; | TSS &lt;dbl&gt; | TSS_POL2_sig &lt;dbl&gt; |\n",
       "|---|---|---|---|\n",
       "| ABCC6P2 | chr16 | 14824702 | 0.00023 |\n",
       "\n"
      ],
      "text/plain": [
       "  gene_name chr   TSS      TSS_POL2_sig\n",
       "1 ABCC6P2   chr16 14824702 0.00023     "
      ]
     },
     "metadata": {},
     "output_type": "display_data"
    }
   ],
   "source": [
    "dat = dat_gene_tss_pol2\n",
    "dat[77,]"
   ]
  },
  {
   "cell_type": "code",
   "execution_count": 39,
   "metadata": {},
   "outputs": [
    {
     "data": {
      "text/html": [
       "<table class=\"dataframe\">\n",
       "<caption>A tibble: 1 × 4</caption>\n",
       "<thead>\n",
       "\t<tr><th scope=col>Chrom</th><th scope=col>Strand</th><th scope=col>Gene_Name</th><th scope=col>Gene_ID</th></tr>\n",
       "\t<tr><th scope=col>&lt;chr&gt;</th><th scope=col>&lt;chr&gt;</th><th scope=col>&lt;chr&gt;</th><th scope=col>&lt;chr&gt;</th></tr>\n",
       "</thead>\n",
       "<tbody>\n",
       "\t<tr><td>chr12</td><td>-</td><td>A2MP1</td><td>ENSG00000291190.1|ENSG00000256069.8</td></tr>\n",
       "</tbody>\n",
       "</table>\n"
      ],
      "text/latex": [
       "A tibble: 1 × 4\n",
       "\\begin{tabular}{llll}\n",
       " Chrom & Strand & Gene\\_Name & Gene\\_ID\\\\\n",
       " <chr> & <chr> & <chr> & <chr>\\\\\n",
       "\\hline\n",
       "\t chr12 & - & A2MP1 & ENSG00000291190.1\\textbar{}ENSG00000256069.8\\\\\n",
       "\\end{tabular}\n"
      ],
      "text/markdown": [
       "\n",
       "A tibble: 1 × 4\n",
       "\n",
       "| Chrom &lt;chr&gt; | Strand &lt;chr&gt; | Gene_Name &lt;chr&gt; | Gene_ID &lt;chr&gt; |\n",
       "|---|---|---|---|\n",
       "| chr12 | - | A2MP1 | ENSG00000291190.1|ENSG00000256069.8 |\n",
       "\n"
      ],
      "text/plain": [
       "  Chrom Strand Gene_Name Gene_ID                            \n",
       "1 chr12 -      A2MP1     ENSG00000291190.1|ENSG00000256069.8"
      ]
     },
     "metadata": {},
     "output_type": "display_data"
    }
   ],
   "source": [
    "dat_gene_info %>% dplyr::filter(Gene_Name == \"A2MP1\")"
   ]
  },
  {
   "cell_type": "code",
   "execution_count": 43,
   "metadata": {},
   "outputs": [
    {
     "data": {
      "text/html": [
       "<table class=\"dataframe\">\n",
       "<caption>A tibble: 2 × 4</caption>\n",
       "<thead>\n",
       "\t<tr><th scope=col>Chrom</th><th scope=col>Strand</th><th scope=col>Gene_Name</th><th scope=col>Gene_ID</th></tr>\n",
       "\t<tr><th scope=col>&lt;chr&gt;</th><th scope=col>&lt;chr&gt;</th><th scope=col>&lt;chr&gt;</th><th scope=col>&lt;chr&gt;</th></tr>\n",
       "</thead>\n",
       "<tbody>\n",
       "\t<tr><td>chr10</td><td>+</td><td>CTSLP2</td><td>ENSG00000290874.1</td></tr>\n",
       "\t<tr><td>chr10</td><td>-</td><td>CTSLP2</td><td>ENSG00000266217.2</td></tr>\n",
       "</tbody>\n",
       "</table>\n"
      ],
      "text/latex": [
       "A tibble: 2 × 4\n",
       "\\begin{tabular}{llll}\n",
       " Chrom & Strand & Gene\\_Name & Gene\\_ID\\\\\n",
       " <chr> & <chr> & <chr> & <chr>\\\\\n",
       "\\hline\n",
       "\t chr10 & + & CTSLP2 & ENSG00000290874.1\\\\\n",
       "\t chr10 & - & CTSLP2 & ENSG00000266217.2\\\\\n",
       "\\end{tabular}\n"
      ],
      "text/markdown": [
       "\n",
       "A tibble: 2 × 4\n",
       "\n",
       "| Chrom &lt;chr&gt; | Strand &lt;chr&gt; | Gene_Name &lt;chr&gt; | Gene_ID &lt;chr&gt; |\n",
       "|---|---|---|---|\n",
       "| chr10 | + | CTSLP2 | ENSG00000290874.1 |\n",
       "| chr10 | - | CTSLP2 | ENSG00000266217.2 |\n",
       "\n"
      ],
      "text/plain": [
       "  Chrom Strand Gene_Name Gene_ID          \n",
       "1 chr10 +      CTSLP2    ENSG00000290874.1\n",
       "2 chr10 -      CTSLP2    ENSG00000266217.2"
      ]
     },
     "metadata": {},
     "output_type": "display_data"
    }
   ],
   "source": [
    "dat_gene_info %>% dplyr::filter(Gene_Name == \"CTSLP2\")"
   ]
  },
  {
   "cell_type": "markdown",
   "metadata": {},
   "source": [
    "## create data dictionary"
   ]
  },
  {
   "cell_type": "code",
   "execution_count": null,
   "metadata": {},
   "outputs": [],
   "source": [
    "dat = tibble::tribble(\n",
    "  ~Name, ~Description,\n",
    "  \"a\",   1,\n",
    "  \"b\",   2,\n",
    "  \"c\",   3\n",
    ")"
   ]
  },
  {
   "cell_type": "markdown",
   "metadata": {},
   "source": [
    "## Explore"
   ]
  },
  {
   "cell_type": "code",
   "execution_count": null,
   "metadata": {},
   "outputs": [],
   "source": [
    "dat = dat_gene_tss_pol2\n",
    "dat = dat %>% dplyr::filter(gene_name == \"HBE1\")\n",
    "dat"
   ]
  },
  {
   "cell_type": "code",
   "execution_count": null,
   "metadata": {},
   "outputs": [],
   "source": [
    "dat = dat_gencode_basic\n",
    "dat = dat %>% dplyr::filter(str_detect(X9, \"HBE1\")) %>% dplyr::select(-X9)\n",
    "dat"
   ]
  },
  {
   "cell_type": "markdown",
   "metadata": {},
   "source": [
    "## Save results"
   ]
  },
  {
   "cell_type": "code",
   "execution_count": null,
   "metadata": {},
   "outputs": [],
   "source": []
  }
 ],
 "metadata": {
  "kernelspec": {
   "display_name": "R",
   "language": "R",
   "name": "ir"
  },
  "language_info": {
   "codemirror_mode": "r",
   "file_extension": ".r",
   "mimetype": "text/x-r-source",
   "name": "R",
   "pygments_lexer": "r",
   "version": "4.3.0"
  }
 },
 "nbformat": 4,
 "nbformat_minor": 4
}
