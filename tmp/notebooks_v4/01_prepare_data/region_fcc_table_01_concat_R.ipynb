{
 "cells": [
  {
   "cell_type": "markdown",
   "metadata": {},
   "source": [
    "**Set environment**"
   ]
  },
  {
   "cell_type": "code",
   "execution_count": 1,
   "metadata": {},
   "outputs": [
    {
     "name": "stdout",
     "output_type": "stream",
     "text": [
      "You are in Singularity: singularity_proj_encode_fcc \n",
      "BASE DIRECTORY (FD_BASE): /data/reddylab/Kuei \n",
      "WORK DIRECTORY (FD_WORK): /data/reddylab/Kuei/out \n",
      "CODE DIRECTORY (FD_CODE): /data/reddylab/Kuei/code \n",
      "PATH OF PROJECT (FD_PRJ): /data/reddylab/Kuei/code/Proj_CombEffect_ENCODE_FCC \n",
      "PATH OF RESULTS (FD_RES): /data/reddylab/Kuei/out/proj_combeffect_encode_fcc \n",
      "PATH OF LOG     (FD_LOG): /data/reddylab/Kuei/out/proj_combeffect_encode_fcc/log \n"
     ]
    }
   ],
   "source": [
    "suppressWarnings(suppressMessages(source(\"../config/config_sing.R\")))\n",
    "show_env()"
   ]
  },
  {
   "cell_type": "markdown",
   "metadata": {},
   "source": [
    "## Import data"
   ]
  },
  {
   "cell_type": "code",
   "execution_count": 2,
   "metadata": {},
   "outputs": [],
   "source": [
    "vec = c(\"STARRMPRA\", \n",
    "        \"CRISPRi_HCRFF\", \n",
    "        \"CRISPRi_Growth\", \n",
    "        \"ENCODE_E2G_Benchmark\", \n",
    "        \"ENCODE_E2G_Prediction\", \n",
    "        \"ATAC\")\n",
    "names(vec) = vec\n",
    "\n",
    "folders = c(\n",
    "    \"annotation_enhancer_zscore_junke\", \n",
    "    \"annotation_crispri_hcrff\", \n",
    "    \"annotation_crispri_growth\", \n",
    "    \"annotation_encode_e2g_benchmark\",\n",
    "    \"annotation_encode_e2g_prediction\",\n",
    "    \"KS91_K562_ASTARRseq_peak_macs_input\"\n",
    ")\n",
    "names(folders) = vec"
   ]
  },
  {
   "cell_type": "markdown",
   "metadata": {},
   "source": [
    "**Test loop**"
   ]
  },
  {
   "cell_type": "code",
   "execution_count": 3,
   "metadata": {},
   "outputs": [
    {
     "name": "stdout",
     "output_type": "stream",
     "text": [
      "annotation_enhancer_zscore_junke \n",
      "[1] \"enhancer_zscore_junke.inactive.ASTARR.bed.gz\"\n",
      "[1] \"enhancer_zscore_junke.inactive.ASTARR.merge.bed.gz\"\n",
      "[1] \"enhancer_zscore_junke.inactive.LMPRA.bed.gz\"\n",
      "[1] \"enhancer_zscore_junke.inactive.LMPRA.merge.bed.gz\"\n",
      "[1] \"enhancer_zscore_junke.inactive.TMPRA.bed.gz\"\n",
      "[1] \"enhancer_zscore_junke.inactive.TMPRA.merge.bed.gz\"\n",
      "[1] \"enhancer_zscore_junke.inactive.TMPRA_OL13.bed.gz\"\n",
      "[1] \"enhancer_zscore_junke.inactive.TMPRA_OL43.bed.gz\"\n",
      "[1] \"enhancer_zscore_junke.inactive.TMPRA_OL45.bed.gz\"\n",
      "[1] \"enhancer_zscore_junke.inactive.WSTARR.bed.gz\"\n",
      "[1] \"enhancer_zscore_junke.inactive.WSTARR.merge.bed.gz\"\n",
      "[1] \"enhancer_zscore_junke.peak.ASTARR_AB.bed.gz\"\n",
      "[1] \"enhancer_zscore_junke.peak.ASTARR_A.bed.gz\"\n",
      "[1] \"enhancer_zscore_junke.peak.ASTARR.concat.bed.gz\"\n",
      "[1] \"enhancer_zscore_junke.peak.ASTARR.merge.bed.gz\"\n",
      "[1] \"enhancer_zscore_junke.peak.ASTARR_R.bed.gz\"\n",
      "[1] \"enhancer_zscore_junke.peak.LMPRA_AB.bed.gz\"\n",
      "[1] \"enhancer_zscore_junke.peak.LMPRA_A.bed.gz\"\n",
      "[1] \"enhancer_zscore_junke.peak.LMPRA.concat.bed.gz\"\n",
      "[1] \"enhancer_zscore_junke.peak.LMPRA.merge.bed.gz\"\n",
      "[1] \"enhancer_zscore_junke.peak.LMPRA_R.bed.gz\"\n",
      "[1] \"enhancer_zscore_junke.peak.TMPRA_A.bed.gz\"\n",
      "[1] \"enhancer_zscore_junke.peak.TMPRA.concat.bed.gz\"\n",
      "[1] \"enhancer_zscore_junke.peak.TMPRA.merge.bed.gz\"\n",
      "[1] \"enhancer_zscore_junke.peak.TMPRA_R.bed.gz\"\n",
      "[1] \"enhancer_zscore_junke.peak.WSTARR_AB.bed.gz\"\n",
      "[1] \"enhancer_zscore_junke.peak.WSTARR_A.bed.gz\"\n",
      "[1] \"enhancer_zscore_junke.peak.WSTARR.concat.bed.gz\"\n",
      "[1] \"enhancer_zscore_junke.peak.WSTARR.merge.bed.gz\"\n",
      "[1] \"enhancer_zscore_junke.peak.WSTARR_R.bed.gz\"\n",
      "\n",
      "annotation_crispri_hcrff \n",
      "[1] \"crispri_hcrff.casa.bed.gz\"\n",
      "[1] \"crispri_hcrff.casa.merge.bed.gz\"\n",
      "\n",
      "annotation_crispri_growth \n",
      "[1] \"crispri_growth.dhs.active.bed.gz\"\n",
      "[1] \"crispri_growth.dhs.total.bed.gz\"\n",
      "\n",
      "annotation_encode_e2g_benchmark \n",
      "[1] \"K562.EPCrisprBenchmark.active.bed.gz\"\n",
      "[1] \"K562.EPCrisprBenchmark.active.merge.bed.gz\"\n",
      "[1] \"K562.EPCrisprBenchmark.total.bed.gz\"\n",
      "[1] \"K562.EPCrisprBenchmark.total.merge.bed.gz\"\n",
      "\n",
      "annotation_encode_e2g_prediction \n",
      "[1] \"K562.ENCSR328LMT.ENCFF122UMY.element_gene_links.total.bed.gz\"\n",
      "[1] \"K562.ENCSR328LMT.ENCFF122UMY.element_gene_links.total.merge.bed.gz\"\n",
      "[1] \"K562.ENCSR328LMT.ENCFF202FID.element_gene_links.active.bed.gz\"\n",
      "[1] \"K562.ENCSR328LMT.ENCFF202FID.element_gene_links.active.merge.bed.gz\"\n",
      "\n",
      "KS91_K562_ASTARRseq_peak_macs_input \n",
      "[1] \"KS91_K562_hg38_ASTARRseq_Input.all_reps.masked.union_narrowPeak.q5.bed.gz\"\n",
      "[1] \"KS91_K562_hg38_ASTARRseq_Input.all_reps.masked.union_narrowPeak.q5.screened.astarr.bed.gz\"\n",
      "[1] \"KS91_K562_hg38_ASTARRseq_Input.all_reps.masked.union_narrowPeak.q5.screened.crispri_growth.bed.gz\"\n",
      "[1] \"KS91_K562_hg38_ASTARRseq_Input.all_reps.masked.union_narrowPeak.q5.screened.crispri_hcrff.bed.gz\"\n",
      "[1] \"KS91_K562_hg38_ASTARRseq_Input.all_reps.masked.union_narrowPeak.q5.screened.encode_e2g_benchmark.bed.gz\"\n",
      "[1] \"KS91_K562_hg38_ASTARRseq_Input.all_reps.masked.union_narrowPeak.q5.screened.encode_e2g_prediction.bed.gz\"\n",
      "[1] \"KS91_K562_hg38_ASTARRseq_Input.all_reps.masked.union_narrowPeak.q5.screened.lmpra.bed.gz\"\n",
      "[1] \"KS91_K562_hg38_ASTARRseq_Input.all_reps.masked.union_narrowPeak.q5.screened.tmpra.bed.gz\"\n",
      "[1] \"KS91_K562_hg38_ASTARRseq_Input.all_reps.masked.union_narrowPeak.q5.screened.wstarr.bed.gz\"\n",
      "\n"
     ]
    }
   ],
   "source": [
    "for (folder in folders){\n",
    "    ### show progress\n",
    "    cat(folder, \"\\n\")\n",
    "    \n",
    "    ### get the file paths and names\n",
    "    fdiry  = file.path(FD_RES, \"results\", \"region\", folder)\n",
    "    fname  = \"*.bed.gz\"\n",
    "    fglob  = file.path(fdiry, fname)\n",
    "    fpaths = Sys.glob(fglob)\n",
    "    fnames = basename(fpaths)\n",
    "    \n",
    "    ### show results\n",
    "    for(fname in fnames){\n",
    "        print(fname)\n",
    "    }\n",
    "    cat(\"\\n\")\n",
    "}"
   ]
  },
  {
   "cell_type": "code",
   "execution_count": 4,
   "metadata": {},
   "outputs": [
    {
     "name": "stdout",
     "output_type": "stream",
     "text": [
      "annotation_enhancer_zscore_junke \n",
      "[1] \"enhancer_zscore_junke.peak.ASTARR_AB.bed.gz\"\n",
      "[1] \"enhancer_zscore_junke.peak.ASTARR_A.bed.gz\"\n",
      "[1] \"enhancer_zscore_junke.peak.ASTARR_R.bed.gz\"\n",
      "[1] \"enhancer_zscore_junke.peak.LMPRA_AB.bed.gz\"\n",
      "[1] \"enhancer_zscore_junke.peak.LMPRA_A.bed.gz\"\n",
      "[1] \"enhancer_zscore_junke.peak.LMPRA_R.bed.gz\"\n",
      "[1] \"enhancer_zscore_junke.peak.TMPRA_A.bed.gz\"\n",
      "[1] \"enhancer_zscore_junke.peak.TMPRA_R.bed.gz\"\n",
      "[1] \"enhancer_zscore_junke.peak.WSTARR_AB.bed.gz\"\n",
      "[1] \"enhancer_zscore_junke.peak.WSTARR_A.bed.gz\"\n",
      "[1] \"enhancer_zscore_junke.peak.WSTARR_R.bed.gz\"\n",
      "\n",
      "annotation_crispri_hcrff \n",
      "[1] \"crispri_hcrff.casa.bed.gz\"\n",
      "\n",
      "annotation_crispri_growth \n",
      "[1] \"crispri_growth.dhs.active.bed.gz\"\n",
      "\n",
      "annotation_encode_e2g_benchmark \n",
      "[1] \"K562.EPCrisprBenchmark.active.bed.gz\"\n",
      "\n",
      "annotation_encode_e2g_prediction \n",
      "[1] \"K562.ENCSR328LMT.ENCFF202FID.element_gene_links.active.bed.gz\"\n",
      "\n",
      "KS91_K562_ASTARRseq_peak_macs_input \n",
      "[1] \"KS91_K562_hg38_ASTARRseq_Input.all_reps.masked.union_narrowPeak.q5.bed.gz\"\n",
      "\n"
     ]
    }
   ],
   "source": [
    "for (folder in folders){\n",
    "    ### show progress\n",
    "    cat(folder, \"\\n\")\n",
    "    \n",
    "    ### get the file paths and names\n",
    "    fdiry  = file.path(FD_RES, \"results\", \"region\", folder)\n",
    "    fname  = \"*.bed.gz\"\n",
    "    fglob  = file.path(fdiry, fname)\n",
    "    fpaths = Sys.glob(fglob)\n",
    "    fnames = basename(fpaths)\n",
    "    \n",
    "    ### filter file names\n",
    "    txt    = \"casa|peak|active|narrowPeak\"\n",
    "    fnames = grep(pattern = txt, x = fnames, value = TRUE)\n",
    "    txt    = \"concat|merge|inactive|screen\"\n",
    "    fnames = grep(pattern = txt, x = fnames, value = TRUE, invert = TRUE)\n",
    "    \n",
    "    ### show results\n",
    "    for(fname in fnames){\n",
    "        print(fname)\n",
    "    }\n",
    "    cat(\"\\n\")\n",
    "}"
   ]
  },
  {
   "cell_type": "markdown",
   "metadata": {},
   "source": [
    "**Import data**"
   ]
  },
  {
   "cell_type": "code",
   "execution_count": 5,
   "metadata": {},
   "outputs": [
    {
     "name": "stdout",
     "output_type": "stream",
     "text": [
      "[1] \"STARRMPRA\"             \"CRISPRi_HCRFF\"         \"CRISPRi_Growth\"       \n",
      "[4] \"ENCODE_E2G_Benchmark\"  \"ENCODE_E2G_Prediction\" \"ATAC\"                 \n"
     ]
    },
    {
     "data": {
      "text/html": [
       "<table class=\"dataframe\">\n",
       "<caption>A tibble: 6 × 9</caption>\n",
       "<thead>\n",
       "\t<tr><th scope=col>Chrom</th><th scope=col>Start</th><th scope=col>End</th><th scope=col>Name</th><th scope=col>Score</th><th scope=col>Strand</th><th scope=col>Assay_Type</th><th scope=col>Assay_Label</th><th scope=col>Dataset</th></tr>\n",
       "\t<tr><th scope=col>&lt;chr&gt;</th><th scope=col>&lt;dbl&gt;</th><th scope=col>&lt;dbl&gt;</th><th scope=col>&lt;chr&gt;</th><th scope=col>&lt;dbl&gt;</th><th scope=col>&lt;chr&gt;</th><th scope=col>&lt;chr&gt;</th><th scope=col>&lt;chr&gt;</th><th scope=col>&lt;chr&gt;</th></tr>\n",
       "</thead>\n",
       "<tbody>\n",
       "\t<tr><td>chr1</td><td>1013020</td><td>1013470</td><td>peak_both_1</td><td>2.181596</td><td>.</td><td>ASTARR</td><td>ASTARR_AB</td><td>ASTARR_TR</td></tr>\n",
       "\t<tr><td>chr1</td><td>1724540</td><td>1724700</td><td>peak_both_2</td><td>2.154374</td><td>.</td><td>ASTARR</td><td>ASTARR_AB</td><td>ASTARR_TR</td></tr>\n",
       "\t<tr><td>chr1</td><td>2290700</td><td>2291030</td><td>peak_both_3</td><td>2.388582</td><td>.</td><td>ASTARR</td><td>ASTARR_AB</td><td>ASTARR_TR</td></tr>\n",
       "\t<tr><td>chr1</td><td>3313260</td><td>3313400</td><td>peak_both_4</td><td>2.179446</td><td>.</td><td>ASTARR</td><td>ASTARR_AB</td><td>ASTARR_TR</td></tr>\n",
       "\t<tr><td>chr1</td><td>5856530</td><td>5856630</td><td>peak_both_5</td><td>1.996532</td><td>.</td><td>ASTARR</td><td>ASTARR_AB</td><td>ASTARR_TR</td></tr>\n",
       "\t<tr><td>chr1</td><td>5917710</td><td>5917930</td><td>peak_both_6</td><td>2.169290</td><td>.</td><td>ASTARR</td><td>ASTARR_AB</td><td>ASTARR_TR</td></tr>\n",
       "</tbody>\n",
       "</table>\n"
      ],
      "text/latex": [
       "A tibble: 6 × 9\n",
       "\\begin{tabular}{lllllllll}\n",
       " Chrom & Start & End & Name & Score & Strand & Assay\\_Type & Assay\\_Label & Dataset\\\\\n",
       " <chr> & <dbl> & <dbl> & <chr> & <dbl> & <chr> & <chr> & <chr> & <chr>\\\\\n",
       "\\hline\n",
       "\t chr1 & 1013020 & 1013470 & peak\\_both\\_1 & 2.181596 & . & ASTARR & ASTARR\\_AB & ASTARR\\_TR\\\\\n",
       "\t chr1 & 1724540 & 1724700 & peak\\_both\\_2 & 2.154374 & . & ASTARR & ASTARR\\_AB & ASTARR\\_TR\\\\\n",
       "\t chr1 & 2290700 & 2291030 & peak\\_both\\_3 & 2.388582 & . & ASTARR & ASTARR\\_AB & ASTARR\\_TR\\\\\n",
       "\t chr1 & 3313260 & 3313400 & peak\\_both\\_4 & 2.179446 & . & ASTARR & ASTARR\\_AB & ASTARR\\_TR\\\\\n",
       "\t chr1 & 5856530 & 5856630 & peak\\_both\\_5 & 1.996532 & . & ASTARR & ASTARR\\_AB & ASTARR\\_TR\\\\\n",
       "\t chr1 & 5917710 & 5917930 & peak\\_both\\_6 & 2.169290 & . & ASTARR & ASTARR\\_AB & ASTARR\\_TR\\\\\n",
       "\\end{tabular}\n"
      ],
      "text/markdown": [
       "\n",
       "A tibble: 6 × 9\n",
       "\n",
       "| Chrom &lt;chr&gt; | Start &lt;dbl&gt; | End &lt;dbl&gt; | Name &lt;chr&gt; | Score &lt;dbl&gt; | Strand &lt;chr&gt; | Assay_Type &lt;chr&gt; | Assay_Label &lt;chr&gt; | Dataset &lt;chr&gt; |\n",
       "|---|---|---|---|---|---|---|---|---|\n",
       "| chr1 | 1013020 | 1013470 | peak_both_1 | 2.181596 | . | ASTARR | ASTARR_AB | ASTARR_TR |\n",
       "| chr1 | 1724540 | 1724700 | peak_both_2 | 2.154374 | . | ASTARR | ASTARR_AB | ASTARR_TR |\n",
       "| chr1 | 2290700 | 2291030 | peak_both_3 | 2.388582 | . | ASTARR | ASTARR_AB | ASTARR_TR |\n",
       "| chr1 | 3313260 | 3313400 | peak_both_4 | 2.179446 | . | ASTARR | ASTARR_AB | ASTARR_TR |\n",
       "| chr1 | 5856530 | 5856630 | peak_both_5 | 1.996532 | . | ASTARR | ASTARR_AB | ASTARR_TR |\n",
       "| chr1 | 5917710 | 5917930 | peak_both_6 | 2.169290 | . | ASTARR | ASTARR_AB | ASTARR_TR |\n",
       "\n"
      ],
      "text/plain": [
       "  Chrom Start   End     Name        Score    Strand Assay_Type Assay_Label\n",
       "1 chr1  1013020 1013470 peak_both_1 2.181596 .      ASTARR     ASTARR_AB  \n",
       "2 chr1  1724540 1724700 peak_both_2 2.154374 .      ASTARR     ASTARR_AB  \n",
       "3 chr1  2290700 2291030 peak_both_3 2.388582 .      ASTARR     ASTARR_AB  \n",
       "4 chr1  3313260 3313400 peak_both_4 2.179446 .      ASTARR     ASTARR_AB  \n",
       "5 chr1  5856530 5856630 peak_both_5 1.996532 .      ASTARR     ASTARR_AB  \n",
       "6 chr1  5917710 5917930 peak_both_6 2.169290 .      ASTARR     ASTARR_AB  \n",
       "  Dataset  \n",
       "1 ASTARR_TR\n",
       "2 ASTARR_TR\n",
       "3 ASTARR_TR\n",
       "4 ASTARR_TR\n",
       "5 ASTARR_TR\n",
       "6 ASTARR_TR"
      ]
     },
     "metadata": {},
     "output_type": "display_data"
    }
   ],
   "source": [
    "lst = lapply(folders, function(folder){\n",
    "    ### set file directory\n",
    "    fdiry  = file.path(FD_RES, \"results\", \"region\", folder)\n",
    "    \n",
    "    ### get column names\n",
    "    fname  = \"description.tsv\"\n",
    "    fpath  = file.path(fdiry, fname)\n",
    "    dat    = read_tsv(fpath, show_col_types = FALSE)\n",
    "    cnames = dat$Name\n",
    "    \n",
    "    ### get the file paths and names\n",
    "    fname  = \"*.bed.gz\"\n",
    "    fglob  = file.path(fdiry, fname)\n",
    "    fpaths = Sys.glob(fglob)\n",
    "    fnames = basename(fpaths)\n",
    "    \n",
    "    ### filter file names\n",
    "    txt    = \"casa|peak|active|narrowPeak\"\n",
    "    fnames = grep(pattern = txt, x = fnames, value = TRUE)\n",
    "    txt    = \"concat|merge|inactive|screen\"\n",
    "    fnames = grep(pattern = txt, x = fnames, value = TRUE, invert = TRUE)\n",
    "    fpaths = file.path(fdiry, fnames)\n",
    "    \n",
    "    ###\n",
    "    lst = lapply(fpaths, function(fpath){\n",
    "        dat = read_tsv(fpath, col_names = cnames, show_col_types = FALSE)    \n",
    "        return(dat)\n",
    "    })\n",
    "    dat = bind_rows(lst)\n",
    "    return(dat)\n",
    "})\n",
    "\n",
    "lst_dat_region_import = lst\n",
    "print(names(lst))\n",
    "head(lst[[1]])"
   ]
  },
  {
   "cell_type": "markdown",
   "metadata": {},
   "source": [
    "## Arrange data"
   ]
  },
  {
   "cell_type": "code",
   "execution_count": 6,
   "metadata": {},
   "outputs": [
    {
     "data": {
      "text/html": [
       "<table class=\"dataframe\">\n",
       "<caption>A tibble: 3 × 9</caption>\n",
       "<thead>\n",
       "\t<tr><th scope=col>Chrom</th><th scope=col>Start</th><th scope=col>End</th><th scope=col>Name</th><th scope=col>Score</th><th scope=col>Strand</th><th scope=col>Assay_Type</th><th scope=col>Assay_Label</th><th scope=col>Dataset</th></tr>\n",
       "\t<tr><th scope=col>&lt;chr&gt;</th><th scope=col>&lt;dbl&gt;</th><th scope=col>&lt;dbl&gt;</th><th scope=col>&lt;chr&gt;</th><th scope=col>&lt;dbl&gt;</th><th scope=col>&lt;chr&gt;</th><th scope=col>&lt;chr&gt;</th><th scope=col>&lt;chr&gt;</th><th scope=col>&lt;chr&gt;</th></tr>\n",
       "</thead>\n",
       "<tbody>\n",
       "\t<tr><td>chr1</td><td>1013020</td><td>1013470</td><td>peak_both_1</td><td>2.181596</td><td>.</td><td>ASTARR</td><td>ASTARR_AB</td><td>ASTARR_TR</td></tr>\n",
       "\t<tr><td>chr1</td><td>1724540</td><td>1724700</td><td>peak_both_2</td><td>2.154374</td><td>.</td><td>ASTARR</td><td>ASTARR_AB</td><td>ASTARR_TR</td></tr>\n",
       "\t<tr><td>chr1</td><td>2290700</td><td>2291030</td><td>peak_both_3</td><td>2.388582</td><td>.</td><td>ASTARR</td><td>ASTARR_AB</td><td>ASTARR_TR</td></tr>\n",
       "</tbody>\n",
       "</table>\n"
      ],
      "text/latex": [
       "A tibble: 3 × 9\n",
       "\\begin{tabular}{lllllllll}\n",
       " Chrom & Start & End & Name & Score & Strand & Assay\\_Type & Assay\\_Label & Dataset\\\\\n",
       " <chr> & <dbl> & <dbl> & <chr> & <dbl> & <chr> & <chr> & <chr> & <chr>\\\\\n",
       "\\hline\n",
       "\t chr1 & 1013020 & 1013470 & peak\\_both\\_1 & 2.181596 & . & ASTARR & ASTARR\\_AB & ASTARR\\_TR\\\\\n",
       "\t chr1 & 1724540 & 1724700 & peak\\_both\\_2 & 2.154374 & . & ASTARR & ASTARR\\_AB & ASTARR\\_TR\\\\\n",
       "\t chr1 & 2290700 & 2291030 & peak\\_both\\_3 & 2.388582 & . & ASTARR & ASTARR\\_AB & ASTARR\\_TR\\\\\n",
       "\\end{tabular}\n"
      ],
      "text/markdown": [
       "\n",
       "A tibble: 3 × 9\n",
       "\n",
       "| Chrom &lt;chr&gt; | Start &lt;dbl&gt; | End &lt;dbl&gt; | Name &lt;chr&gt; | Score &lt;dbl&gt; | Strand &lt;chr&gt; | Assay_Type &lt;chr&gt; | Assay_Label &lt;chr&gt; | Dataset &lt;chr&gt; |\n",
       "|---|---|---|---|---|---|---|---|---|\n",
       "| chr1 | 1013020 | 1013470 | peak_both_1 | 2.181596 | . | ASTARR | ASTARR_AB | ASTARR_TR |\n",
       "| chr1 | 1724540 | 1724700 | peak_both_2 | 2.154374 | . | ASTARR | ASTARR_AB | ASTARR_TR |\n",
       "| chr1 | 2290700 | 2291030 | peak_both_3 | 2.388582 | . | ASTARR | ASTARR_AB | ASTARR_TR |\n",
       "\n"
      ],
      "text/plain": [
       "  Chrom Start   End     Name        Score    Strand Assay_Type Assay_Label\n",
       "1 chr1  1013020 1013470 peak_both_1 2.181596 .      ASTARR     ASTARR_AB  \n",
       "2 chr1  1724540 1724700 peak_both_2 2.154374 .      ASTARR     ASTARR_AB  \n",
       "3 chr1  2290700 2291030 peak_both_3 2.388582 .      ASTARR     ASTARR_AB  \n",
       "  Dataset  \n",
       "1 ASTARR_TR\n",
       "2 ASTARR_TR\n",
       "3 ASTARR_TR"
      ]
     },
     "metadata": {},
     "output_type": "display_data"
    }
   ],
   "source": [
    "lst = lst_dat_region_import\n",
    "head(lst[[1]], 3)"
   ]
  },
  {
   "cell_type": "code",
   "execution_count": 7,
   "metadata": {},
   "outputs": [
    {
     "data": {
      "text/html": [
       "<table class=\"dataframe\">\n",
       "<caption>A tibble: 3 × 3</caption>\n",
       "<thead>\n",
       "\t<tr><th scope=col>Chrom</th><th scope=col>Start</th><th scope=col>End</th></tr>\n",
       "\t<tr><th scope=col>&lt;chr&gt;</th><th scope=col>&lt;dbl&gt;</th><th scope=col>&lt;dbl&gt;</th></tr>\n",
       "</thead>\n",
       "<tbody>\n",
       "\t<tr><td>chr1</td><td>10015</td><td>10442</td></tr>\n",
       "\t<tr><td>chr1</td><td>14253</td><td>14645</td></tr>\n",
       "\t<tr><td>chr1</td><td>16015</td><td>16477</td></tr>\n",
       "</tbody>\n",
       "</table>\n"
      ],
      "text/latex": [
       "A tibble: 3 × 3\n",
       "\\begin{tabular}{lll}\n",
       " Chrom & Start & End\\\\\n",
       " <chr> & <dbl> & <dbl>\\\\\n",
       "\\hline\n",
       "\t chr1 & 10015 & 10442\\\\\n",
       "\t chr1 & 14253 & 14645\\\\\n",
       "\t chr1 & 16015 & 16477\\\\\n",
       "\\end{tabular}\n"
      ],
      "text/markdown": [
       "\n",
       "A tibble: 3 × 3\n",
       "\n",
       "| Chrom &lt;chr&gt; | Start &lt;dbl&gt; | End &lt;dbl&gt; |\n",
       "|---|---|---|\n",
       "| chr1 | 10015 | 10442 |\n",
       "| chr1 | 14253 | 14645 |\n",
       "| chr1 | 16015 | 16477 |\n",
       "\n"
      ],
      "text/plain": [
       "  Chrom Start End  \n",
       "1 chr1  10015 10442\n",
       "2 chr1  14253 14645\n",
       "3 chr1  16015 16477"
      ]
     },
     "metadata": {},
     "output_type": "display_data"
    }
   ],
   "source": [
    "lst = lst_dat_region_import\n",
    "head(lst[[\"ATAC\"]], 3)"
   ]
  },
  {
   "cell_type": "code",
   "execution_count": 9,
   "metadata": {},
   "outputs": [
    {
     "name": "stdout",
     "output_type": "stream",
     "text": [
      "Total regulatory regions identified: 649337 \n",
      "CRISPRi/STARR/MPRA/ATAC + ENCODE-E2G Benchmark: 527021 \n",
      "CRISPRi/STARR/MPRA/ATAC: 526549 \n"
     ]
    }
   ],
   "source": [
    "### set assay type and label for ATAC\n",
    "lst = lst_dat_region_import\n",
    "dat = lst[[\"ATAC\"]]\n",
    "dat = dat %>%\n",
    "    dplyr::mutate(\n",
    "        Assay_Type  = \"ATAC\",\n",
    "        Assay_Label = \"ATAC\"\n",
    "    )\n",
    "lst[[\"ATAC\"]] = dat\n",
    "\n",
    "### combine different assays\n",
    "vec = c(\"Chrom\", \"Start\", \"End\", \"Assay_Type\", \"Assay_Label\")\n",
    "lst = lapply(lst, function(dat){\n",
    "    dat = dat %>% dplyr::select({{vec}})\n",
    "    return(dat)\n",
    "})\n",
    "\n",
    "### Merge STARR/MPRA/CRISPRi/ATAC\n",
    "dat = bind_rows(lst)\n",
    "\n",
    "### sort by coordinates\n",
    "dat = dat %>%\n",
    "    dplyr::arrange(Chrom, Start, End) %>% \n",
    "    dplyr::distinct()\n",
    "\n",
    "### CRISPRi/STARR/MPRA/E2G\n",
    "cat(\"Total regulatory regions identified:\", nrow(dat), \"\\n\")\n",
    "dat_region_merge_starrmpra_crispri_atac_e2g_total = dat\n",
    "\n",
    "### remove the ENCODE-E2G Prediction\n",
    "tmp = dat %>% dplyr::filter(Assay_Type != \"ENCODE-E2G_Prediction\")\n",
    "\n",
    "cat(\"CRISPRi/STARR/MPRA/ATAC + ENCODE-E2G Benchmark:\", nrow(tmp), \"\\n\")\n",
    "dat_region_merge_starrmpra_crispri_atac_e2g_benchmark = tmp\n",
    "\n",
    "### remove the ENCODE-E2G\n",
    "tmp = dat %>% \n",
    "    dplyr::filter(Assay_Type != \"ENCODE-E2G_Prediction\") %>% \n",
    "    dplyr::filter(Assay_Type != \"ENCODE-E2G_Benchmark\")\n",
    "\n",
    "cat(\"CRISPRi/STARR/MPRA/ATAC:\", nrow(tmp), \"\\n\")\n",
    "dat_region_merge_starrmpra_crispri_atac = tmp"
   ]
  },
  {
   "cell_type": "markdown",
   "metadata": {},
   "source": [
    "**Check results**"
   ]
  },
  {
   "cell_type": "code",
   "execution_count": 10,
   "metadata": {},
   "outputs": [
    {
     "data": {
      "text/plain": [
       "\n",
       "               ASTARR                  ATAC        CRISPRi-Growth \n",
       "                30388                247520                  6242 \n",
       "        CRISPRi-HCRFF  ENCODE-E2G_Benchmark ENCODE-E2G_Prediction \n",
       "                  113                   472                122316 \n",
       "                LMPRA                 TMPRA                WSTARR \n",
       "                68517                  6325                167444 "
      ]
     },
     "metadata": {},
     "output_type": "display_data"
    }
   ],
   "source": [
    "dat = dat_region_merge_starrmpra_crispri_atac_e2g_total\n",
    "table(dat$Assay_Type)"
   ]
  },
  {
   "cell_type": "code",
   "execution_count": 11,
   "metadata": {},
   "outputs": [
    {
     "data": {
      "text/plain": [
       "\n",
       "              ASTARR                 ATAC       CRISPRi-Growth \n",
       "               30388               247520                 6242 \n",
       "       CRISPRi-HCRFF ENCODE-E2G_Benchmark                LMPRA \n",
       "                 113                  472                68517 \n",
       "               TMPRA               WSTARR \n",
       "                6325               167444 "
      ]
     },
     "metadata": {},
     "output_type": "display_data"
    }
   ],
   "source": [
    "dat = dat_region_merge_starrmpra_crispri_atac_e2g_benchmark\n",
    "table(dat$Assay_Type)"
   ]
  },
  {
   "cell_type": "code",
   "execution_count": 12,
   "metadata": {},
   "outputs": [
    {
     "data": {
      "text/plain": [
       "\n",
       "        ASTARR           ATAC CRISPRi-Growth  CRISPRi-HCRFF          LMPRA \n",
       "         30388         247520           6242            113          68517 \n",
       "         TMPRA         WSTARR \n",
       "          6325         167444 "
      ]
     },
     "metadata": {},
     "output_type": "display_data"
    }
   ],
   "source": [
    "dat = dat_region_merge_starrmpra_crispri_atac\n",
    "table(dat$Assay_Type)"
   ]
  },
  {
   "cell_type": "code",
   "execution_count": 13,
   "metadata": {},
   "outputs": [
    {
     "name": "stdout",
     "output_type": "stream",
     "text": [
      "STARR/MPRA (Total) \n",
      "\n",
      " ASTARR_A ASTARR_AB  ASTARR_R   LMPRA_A  LMPRA_AB   LMPRA_R   TMPRA_A   TMPRA_R \n",
      "     9368      3123     17897     40204     26802      1511      6066       259 \n",
      " WSTARR_A WSTARR_AB  WSTARR_R \n",
      "    79738     25505     62201 \n"
     ]
    }
   ],
   "source": [
    "cat(\"STARR/MPRA (Total)\", \"\\n\")\n",
    "dat = dat_region_merge_starrmpra_crispri_atac_e2g_total\n",
    "dat = dat %>% dplyr::filter(str_detect(Assay_Type, \"STARR|MPRA\"))\n",
    "res = table(dat$Assay_Label)\n",
    "print(res)"
   ]
  },
  {
   "cell_type": "markdown",
   "metadata": {},
   "source": [
    "## Data dictionary"
   ]
  },
  {
   "cell_type": "code",
   "execution_count": 14,
   "metadata": {},
   "outputs": [
    {
     "data": {
      "text/html": [
       "<table class=\"dataframe\">\n",
       "<caption>A tibble: 5 × 2</caption>\n",
       "<thead>\n",
       "\t<tr><th scope=col>Name</th><th scope=col>Description</th></tr>\n",
       "\t<tr><th scope=col>&lt;chr&gt;</th><th scope=col>&lt;chr&gt;</th></tr>\n",
       "</thead>\n",
       "<tbody>\n",
       "\t<tr><td>Chrom      </td><td>Chromosome </td></tr>\n",
       "\t<tr><td>Start      </td><td>Start      </td></tr>\n",
       "\t<tr><td>End        </td><td>End        </td></tr>\n",
       "\t<tr><td>Assay_Type </td><td>Assay type </td></tr>\n",
       "\t<tr><td>Assay_Label</td><td>Assay label</td></tr>\n",
       "</tbody>\n",
       "</table>\n"
      ],
      "text/latex": [
       "A tibble: 5 × 2\n",
       "\\begin{tabular}{ll}\n",
       " Name & Description\\\\\n",
       " <chr> & <chr>\\\\\n",
       "\\hline\n",
       "\t Chrom       & Chromosome \\\\\n",
       "\t Start       & Start      \\\\\n",
       "\t End         & End        \\\\\n",
       "\t Assay\\_Type  & Assay type \\\\\n",
       "\t Assay\\_Label & Assay label\\\\\n",
       "\\end{tabular}\n"
      ],
      "text/markdown": [
       "\n",
       "A tibble: 5 × 2\n",
       "\n",
       "| Name &lt;chr&gt; | Description &lt;chr&gt; |\n",
       "|---|---|\n",
       "| Chrom       | Chromosome  |\n",
       "| Start       | Start       |\n",
       "| End         | End         |\n",
       "| Assay_Type  | Assay type  |\n",
       "| Assay_Label | Assay label |\n",
       "\n"
      ],
      "text/plain": [
       "  Name        Description\n",
       "1 Chrom       Chromosome \n",
       "2 Start       Start      \n",
       "3 End         End        \n",
       "4 Assay_Type  Assay type \n",
       "5 Assay_Label Assay label"
      ]
     },
     "metadata": {},
     "output_type": "display_data"
    }
   ],
   "source": [
    "dat_cnames = tribble(\n",
    "    ~Name,         ~Description,\n",
    "    \"Chrom\",       \"Chromosome\",\n",
    "    \"Start\",       \"Start\",\n",
    "    \"End\",         \"End\",\n",
    "    \"Assay_Type\",  \"Assay type\",\n",
    "    \"Assay_Label\", \"Assay label\"\n",
    ")\n",
    "dat_cnames"
   ]
  },
  {
   "cell_type": "markdown",
   "metadata": {},
   "source": [
    "## Save results"
   ]
  },
  {
   "cell_type": "code",
   "execution_count": 15,
   "metadata": {},
   "outputs": [
    {
     "name": "stdout",
     "output_type": "stream",
     "text": [
      "[1] \"/data/reddylab/Kuei/out/proj_combeffect_encode_fcc/results/region/annotation_fcc_table/description.tsv\"\n"
     ]
    }
   ],
   "source": [
    "fdiry = file.path(FD_RES, \"results\", \"region\", \"annotation_fcc_table\")\n",
    "fname = \"description.tsv\"\n",
    "fpath = file.path(fdiry, fname)\n",
    "print(fpath)\n",
    "\n",
    "dat = dat_cnames\n",
    "write_tsv(dat, fpath)"
   ]
  },
  {
   "cell_type": "code",
   "execution_count": 16,
   "metadata": {},
   "outputs": [
    {
     "name": "stdout",
     "output_type": "stream",
     "text": [
      "[1] \"/data/reddylab/Kuei/out/proj_combeffect_encode_fcc/results/region/annotation_fcc_table/fcc_table.starrmpra.crispri.atac.e2g_benchmark.e2g_prediction.concat.bed.gz\"\n"
     ]
    }
   ],
   "source": [
    "fdiry = file.path(FD_RES, \"results\", \"region\", \"annotation_fcc_table\")\n",
    "fname = \"fcc_table.starrmpra.crispri.atac.e2g_benchmark.e2g_prediction.concat.bed.gz\"\n",
    "fpath = file.path(fdiry, fname)\n",
    "print(fpath)\n",
    "\n",
    "dat = dat_region_merge_starrmpra_crispri_atac_e2g_total\n",
    "dat = dat %>% dplyr::arrange(Chrom, Start, End)\n",
    "write_tsv(dat, fpath, col_names = FALSE)"
   ]
  },
  {
   "cell_type": "code",
   "execution_count": 17,
   "metadata": {},
   "outputs": [
    {
     "name": "stdout",
     "output_type": "stream",
     "text": [
      "[1] \"/data/reddylab/Kuei/out/proj_combeffect_encode_fcc/results/region/annotation_fcc_table/fcc_table.starrmpra.crispri.atac.e2g_benchmark.concat.bed.gz\"\n"
     ]
    }
   ],
   "source": [
    "fdiry = file.path(FD_RES, \"results\", \"region\", \"annotation_fcc_table\")\n",
    "fname = \"fcc_table.starrmpra.crispri.atac.e2g_benchmark.concat.bed.gz\"\n",
    "fpath = file.path(fdiry, fname)\n",
    "print(fpath)\n",
    "\n",
    "dat = dat_region_merge_starrmpra_crispri_atac_e2g_benchmark\n",
    "dat = dat %>% dplyr::arrange(Chrom, Start, End)\n",
    "write_tsv(dat, fpath, col_names = FALSE)"
   ]
  },
  {
   "cell_type": "code",
   "execution_count": 18,
   "metadata": {},
   "outputs": [
    {
     "name": "stdout",
     "output_type": "stream",
     "text": [
      "[1] \"/data/reddylab/Kuei/out/proj_combeffect_encode_fcc/results/region/annotation_fcc_table/fcc_table.starrmpra.crispri.atac.concat.bed.gz\"\n"
     ]
    }
   ],
   "source": [
    "fdiry = file.path(FD_RES, \"results\", \"region\", \"annotation_fcc_table\")\n",
    "fname = \"fcc_table.starrmpra.crispri.atac.concat.bed.gz\"\n",
    "fpath = file.path(fdiry, fname)\n",
    "print(fpath)\n",
    "\n",
    "dat = dat_region_merge_starrmpra_crispri_atac\n",
    "dat = dat %>% dplyr::arrange(Chrom, Start, End)\n",
    "write_tsv(dat, fpath, col_names = FALSE)"
   ]
  },
  {
   "cell_type": "code",
   "execution_count": null,
   "metadata": {},
   "outputs": [],
   "source": []
  }
 ],
 "metadata": {
  "kernelspec": {
   "display_name": "R",
   "language": "R",
   "name": "ir"
  },
  "language_info": {
   "codemirror_mode": "r",
   "file_extension": ".r",
   "mimetype": "text/x-r-source",
   "name": "R",
   "pygments_lexer": "r",
   "version": "4.3.1"
  }
 },
 "nbformat": 4,
 "nbformat_minor": 4
}
