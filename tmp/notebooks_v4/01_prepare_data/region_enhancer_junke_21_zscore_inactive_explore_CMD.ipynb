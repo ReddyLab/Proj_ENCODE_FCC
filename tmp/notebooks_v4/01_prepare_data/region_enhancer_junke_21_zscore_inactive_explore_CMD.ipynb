{
 "cells": [
  {
   "cell_type": "markdown",
   "id": "4bcc548b-e105-43c2-93f6-9ec2c118023b",
   "metadata": {},
   "source": [
    "**Set environment**"
   ]
  },
  {
   "cell_type": "code",
   "execution_count": 1,
   "id": "43008767-0206-4607-84e8-d7eafe271382",
   "metadata": {},
   "outputs": [
    {
     "name": "stdout",
     "output_type": "stream",
     "text": [
      "You are on Duke Server: HARDAC\n",
      "BASE DIRECTORY (FD_BASE): /data/reddylab/Kuei\n",
      "WORK DIRECTORY (FD_WORK): /data/reddylab/Kuei/out\n",
      "CODE DIRECTORY (FD_CODE): /data/reddylab/Kuei/code\n",
      "SING DIRECTORY (FD_SING): /data/reddylab/Kuei/singularity\n",
      "PATH OF PROJECT (FD_PRJ): /data/reddylab/Kuei/code/Proj_CombEffect_ENCODE_FCC\n",
      "PATH OF RESULTS (FD_RES): /data/reddylab/Kuei/out/proj_combeffect_encode_fcc\n",
      "PATH OF LOG     (FD_LOG): /data/reddylab/Kuei/out/proj_combeffect_encode_fcc/log\n",
      "\n"
     ]
    }
   ],
   "source": [
    "### set env\n",
    "source ../config/config_duke.sh\n",
    "show_env"
   ]
  },
  {
   "cell_type": "code",
   "execution_count": 2,
   "id": "651acde6-0741-407b-9bc0-f0e3b57b8ce4",
   "metadata": {},
   "outputs": [
    {
     "name": "stdout",
     "output_type": "stream",
     "text": [
      "\u001b[0m\u001b[38;5;27mA001_K562_wstarrseq_fragments\u001b[0m            \u001b[38;5;27mCRISPRi_E2G\u001b[0m\n",
      "\u001b[38;5;27mA001_K562_wstarrseq_fragments_wgs\u001b[0m        \u001b[38;5;27mCRISPRi_FlowFISH\u001b[0m\n",
      "\u001b[38;5;27mannotation_cCREs\u001b[0m                         \u001b[38;5;27mCRISPRi_growth\u001b[0m\n",
      "\u001b[38;5;27mannotation_chipseq_histone\u001b[0m               \u001b[38;5;27mhic_intact_K562_deep\u001b[0m\n",
      "\u001b[38;5;27mannotation_chipseq_tf\u001b[0m                    \u001b[38;5;27mhic_intact_K562_ENCSR479XDG\u001b[0m\n",
      "\u001b[38;5;27mannotation_chromHMM\u001b[0m                      \u001b[38;5;27mKS91_K562_astarrseq_fragments_220510\u001b[0m\n",
      "\u001b[38;5;27mannotation_enhancer_junke\u001b[0m                \u001b[38;5;27mKS91_K562_astarrseq_fragments_wgs\u001b[0m\n",
      "\u001b[38;5;27mannotation_enhancer_junke_zscore_230420\u001b[0m  \u001b[38;5;27mKS91_K562_astarrseq_peak_macs\u001b[0m\n",
      "\u001b[38;5;27mannotation_enhancer_junke_zscore_prev\u001b[0m    \u001b[38;5;27mMPRA\u001b[0m\n",
      "\u001b[38;5;27mannotation_gencode\u001b[0m                       \u001b[38;5;27mnegative_control_junke\u001b[0m\n",
      "\u001b[38;5;27mannotation_gene\u001b[0m                          Readme.md\n",
      "\u001b[38;5;27mannotation_remap2022\u001b[0m                     \u001b[38;5;27mTF_modules\u001b[0m\n",
      "chrom.sizes.hg19                         \u001b[38;5;27mtmp\u001b[0m\n",
      "chrom.sizes.hg38\n"
     ]
    }
   ],
   "source": [
    "ls ${FD_RES}/source"
   ]
  },
  {
   "cell_type": "code",
   "execution_count": 4,
   "id": "4e1bf07d-9a8f-4737-83f6-db9764118fda",
   "metadata": {},
   "outputs": [
    {
     "name": "stdout",
     "output_type": "stream",
     "text": [
      "\u001b[0m\u001b[38;5;9m/data/reddylab/Kuei/out/proj_combeffect_encode_fcc/source/annotation_enhancer_junke_zscore_230420/deep_ATAC_STARR_seq.genomic_bin_100_sliding_10.tar.gz\u001b[0m\u001b[K\n",
      "/data/reddylab/Kuei/out/proj_combeffect_encode_fcc/source/annotation_enhancer_junke_zscore_230420/Enhancer call file format documentation.docx\n",
      "\u001b[38;5;9m/data/reddylab/Kuei/out/proj_combeffect_encode_fcc/source/annotation_enhancer_junke_zscore_230420/lentiMPRA.tar.gz\u001b[0m\u001b[K\n",
      "/data/reddylab/Kuei/out/proj_combeffect_encode_fcc/source/annotation_enhancer_junke_zscore_230420/Readme.md\n",
      "\u001b[38;5;9m/data/reddylab/Kuei/out/proj_combeffect_encode_fcc/source/annotation_enhancer_junke_zscore_230420/tilingMPRA_GATA_MYC.tar.gz\u001b[0m\u001b[K\n",
      "\u001b[38;5;9m/data/reddylab/Kuei/out/proj_combeffect_encode_fcc/source/annotation_enhancer_junke_zscore_230420/tilingMPRA_OL13.tar.gz\u001b[0m\u001b[K\n",
      "\u001b[38;5;9m/data/reddylab/Kuei/out/proj_combeffect_encode_fcc/source/annotation_enhancer_junke_zscore_230420/tilingMPRA_OL45.tar.gz\u001b[0m\u001b[K\n",
      "\u001b[38;5;9m/data/reddylab/Kuei/out/proj_combeffect_encode_fcc/source/annotation_enhancer_junke_zscore_230420/WHG_STARR_TR.tar.gz\u001b[0m\u001b[K\n",
      "\n",
      "/data/reddylab/Kuei/out/proj_combeffect_encode_fcc/source/annotation_enhancer_junke_zscore_230420/deep_ATAC_STARR_seq.genomic_bin_100_sliding_10:\n",
      "\u001b[38;5;27mATAC_STARR_seq\u001b[0m  \u001b[38;5;27m__MACOSX\u001b[0m\n",
      "\n",
      "/data/reddylab/Kuei/out/proj_combeffect_encode_fcc/source/annotation_enhancer_junke_zscore_230420/lentiMPRA:\n",
      "\u001b[38;5;27mlentiMPRA\u001b[0m  \u001b[38;5;27m__MACOSX\u001b[0m\n",
      "\n",
      "/data/reddylab/Kuei/out/proj_combeffect_encode_fcc/source/annotation_enhancer_junke_zscore_230420/tilingMPRA_GATA_MYC:\n",
      "\u001b[38;5;27m__MACOSX\u001b[0m  \u001b[38;5;27mz_score_processed\u001b[0m\n",
      "\n",
      "/data/reddylab/Kuei/out/proj_combeffect_encode_fcc/source/annotation_enhancer_junke_zscore_230420/tilingMPRA_OL13:\n",
      "\u001b[38;5;27m__MACOSX\u001b[0m  \u001b[38;5;27mz_score_processed\u001b[0m\n",
      "\n",
      "/data/reddylab/Kuei/out/proj_combeffect_encode_fcc/source/annotation_enhancer_junke_zscore_230420/tilingMPRA_OL45:\n",
      "\u001b[38;5;27m__MACOSX\u001b[0m  \u001b[38;5;27mz_score_processed\u001b[0m\n",
      "\n",
      "/data/reddylab/Kuei/out/proj_combeffect_encode_fcc/source/annotation_enhancer_junke_zscore_230420/WHG_STARR_TR:\n",
      "\u001b[38;5;27m__MACOSX\u001b[0m  \u001b[38;5;27mWHG_STARR_TR\u001b[0m\n"
     ]
    }
   ],
   "source": [
    "FDIRY=${FD_RES}/source\n",
    "\n",
    "FOLDR=annotation_enhancer_junke_zscore_230420\n",
    "FDIRY=${FDIRY}/${FOLDR}\n",
    "\n",
    "ls ${FDIRY}/*"
   ]
  },
  {
   "cell_type": "markdown",
   "id": "25ad9c02-ec61-4248-903f-1f5c4d1aecd9",
   "metadata": {},
   "source": [
    "## Example: ASTARR"
   ]
  },
  {
   "cell_type": "code",
   "execution_count": 15,
   "id": "38a8ce86-626d-4cfc-85cc-e9e5e62e6851",
   "metadata": {},
   "outputs": [
    {
     "name": "stdout",
     "output_type": "stream",
     "text": [
      "\u001b[0m\u001b[38;5;34mmerged_enhancer_peak_orientation_independent.bed.gz\u001b[0m\n",
      "\u001b[38;5;34mmerged_enhancer_peaks_in_either_orientation.bed.gz\u001b[0m\n",
      "\u001b[38;5;34mmerged_repressor_peaks_in_either_orientation.bed.gz\u001b[0m\n",
      "\n",
      "\u001b[0m\u001b[38;5;34mall_bin_tested_in_both_orientations.bed.gz\u001b[0m\n",
      "\u001b[38;5;34mbin_level_all_result.bed.gz\u001b[0m\n"
     ]
    }
   ],
   "source": [
    "FDIRY=${FD_RES}/source\n",
    "\n",
    "FOLDR=annotation_enhancer_junke_zscore_230420\n",
    "FDIRY=${FDIRY}/${FOLDR}\n",
    "\n",
    "FOLDR=deep_ATAC_STARR_seq.genomic_bin_100_sliding_10\n",
    "FDIRY=${FDIRY}/${FOLDR}\n",
    "\n",
    "FOLDR=ATAC_STARR_seq\n",
    "FDIRY=${FDIRY}/${FOLDR}\n",
    "\n",
    "ls -1 ${FDIRY}/merged_peak\n",
    "echo\n",
    "ls -1 ${FDIRY}/bin_level"
   ]
  },
  {
   "cell_type": "code",
   "execution_count": 17,
   "id": "21e138ba-da57-4139-81d6-d1fb381fd2a4",
   "metadata": {},
   "outputs": [
    {
     "name": "stdout",
     "output_type": "stream",
     "text": [
      "\u001b[0m\u001b[38;5;34m/data/reddylab/Kuei/out/proj_combeffect_encode_fcc/source/annotation_enhancer_junke_zscore_230420/deep_ATAC_STARR_seq.genomic_bin_100_sliding_10/ATAC_STARR_seq/bin_level/bin_level_all_result.bed.gz\u001b[0m\u001b[K\n",
      "\n",
      "5620408\n",
      "\n",
      "chr1\t17410\t17510\tbin_1\t-2.66401080305141\t+\t0.0364232649096391\t0.0852163817224699\t-1.5737764045776406\tN\tinactive\t54\t105\t126\t101\t114\t117\t0\t2\t5\t10\n",
      "chr1\t28980\t29080\tbin_2\t-4.31449599567096\t+\t0.141784161069711\t0.251431928187192\t-2.7383300669952475\tN\tinactive\t17\t106\t130\t106\t114\t115\t0\t1\t0\t14\n",
      "chr1\t28990\t29090\tbin_3\t-4.31749416265685\t+\t0.141949772014686\t0.251659073374474\t-2.7404455215049706\tN\tinactive\t17\t107\t130\t106\t114\t115\t0\t1\t0\t14\n",
      "chr1\t29000\t29100\tbin_4\t-4.320510829692\t+\t0.141905669706517\t0.251599297810174\t-2.742574029327875\tN\tinactive\t17\t107\t130\t107\t114\t115\t0\t1\t0\t14\n",
      "chr1\t29010\t29110\tbin_5\t-4.32846907661187\t+\t0.130725741816099\t0.236031857968511\t-2.748189230020617\tN\tinactive\t18\t108\t131\t107\t114\t115\t0\t1\t0\t14\n",
      "chr1\t29020\t29120\tbin_6\t-4.3217946878718\t+\t0.131352978489525\t0.236916477582406\t-2.743479897342927\tN\tinactive\t18\t108\t131\t107\t114\t115\t0\t1\t0\t15\n",
      "chr1\t29030\t29130\tbin_7\t-4.3217946878718\t+\t0.131352978489525\t0.236916477582406\t-2.743479897342927\tN\tinactive\t18\t108\t131\t107\t114\t115\t0\t1\t0\t15\n",
      "chr1\t29040\t29140\tbin_8\t-4.3217946878718\t+\t0.131352978489525\t0.236916477582406\t-2.743479897342927\tN\tinactive\t18\t108\t131\t107\t114\t115\t0\t1\t0\t15\n",
      "chr1\t29050\t29150\tbin_9\t-4.32478073591837\t+\t0.131315847007927\t0.236864251404284\t-2.745586800939723\tN\tinactive\t18\t108\t131\t108\t114\t115\t0\t1\t0\t15\n",
      "chr1\t29060\t29160\tbin_10\t-4.32478073591837\t+\t0.131315847007927\t0.236864251404284\t-2.745586800939723\tN\tinactive\t18\t108\t131\t108\t114\t115\t0\t1\t0\t15\n"
     ]
    }
   ],
   "source": [
    "FDIRY=${FD_RES}/source\n",
    "\n",
    "FOLDR=annotation_enhancer_junke_zscore_230420\n",
    "FDIRY=${FDIRY}/${FOLDR}\n",
    "\n",
    "FOLDR=deep_ATAC_STARR_seq.genomic_bin_100_sliding_10\n",
    "FDIRY=${FDIRY}/${FOLDR}\n",
    "\n",
    "FOLDR=ATAC_STARR_seq\n",
    "FDIRY=${FDIRY}/${FOLDR}\n",
    "\n",
    "FOLDR=bin_level\n",
    "FDIRY=${FDIRY}/${FOLDR}\n",
    "\n",
    "FNAME=bin_level_all_result.bed.gz\n",
    "FPATH=${FDIRY}/${FNAME}\n",
    "\n",
    "ls ${FPATH}\n",
    "echo\n",
    "zcat ${FPATH} | wc -l\n",
    "echo\n",
    "zcat ${FPATH} | head"
   ]
  },
  {
   "cell_type": "markdown",
   "id": "1d2fac0e-5902-449e-b744-e977c420b945",
   "metadata": {
    "tags": []
   },
   "source": [
    "## Example: WSTARR"
   ]
  },
  {
   "cell_type": "code",
   "execution_count": 8,
   "id": "d7b6e601-9a78-4211-acdf-cfec35e31781",
   "metadata": {},
   "outputs": [
    {
     "name": "stdout",
     "output_type": "stream",
     "text": [
      "\u001b[0m\u001b[38;5;34mall_bin_tested_in_both_orientations.bed.gz\u001b[0m  \u001b[38;5;34mbin_level_all_result.bed.gz\u001b[0m\n"
     ]
    }
   ],
   "source": [
    "FDIRY=${FD_RES}/source\n",
    "\n",
    "FOLDR=annotation_enhancer_junke_zscore_230420\n",
    "FDIRY=${FDIRY}/${FOLDR}\n",
    "FOLDR=WHG_STARR_TR\n",
    "FDIRY=${FDIRY}/${FOLDR}\n",
    "FOLDR=WHG_STARR_TR\n",
    "FDIRY=${FDIRY}/${FOLDR}\n",
    "FOLDR=bin_level\n",
    "FDIRY=${FDIRY}/${FOLDR}\n",
    "\n",
    "ls ${FDIRY}"
   ]
  },
  {
   "cell_type": "markdown",
   "id": "a143d2c6-727c-4e6e-a284-792bfda0db5c",
   "metadata": {},
   "source": [
    "## Example: TMPRA"
   ]
  },
  {
   "cell_type": "code",
   "execution_count": 13,
   "id": "7ced0364-0d71-4113-8010-8dd96341f7b8",
   "metadata": {},
   "outputs": [
    {
     "name": "stdout",
     "output_type": "stream",
     "text": [
      "\u001b[0m\u001b[38;5;34melement_level_all_result.bed.gz\u001b[0m\n"
     ]
    }
   ],
   "source": [
    "FDIRY=${FD_RES}/source\n",
    "\n",
    "FOLDR=annotation_enhancer_junke_zscore_230420\n",
    "FDIRY=${FDIRY}/${FOLDR}\n",
    "FOLDR=tilingMPRA_GATA_MYC\n",
    "FDIRY=${FDIRY}/${FOLDR}\n",
    "FOLDR=z_score_processed\n",
    "FDIRY=${FDIRY}/${FOLDR}\n",
    "FOLDR=element_level\n",
    "FDIRY=${FDIRY}/${FOLDR}\n",
    "\n",
    "ls ${FDIRY}"
   ]
  },
  {
   "cell_type": "markdown",
   "id": "5befd07f-d903-4cfe-8265-14dca86aeeea",
   "metadata": {},
   "source": [
    "## Example: LMPRA"
   ]
  },
  {
   "cell_type": "code",
   "execution_count": 17,
   "id": "96d9b709-d0c7-404f-b887-2254a98e861b",
   "metadata": {},
   "outputs": [
    {
     "name": "stdout",
     "output_type": "stream",
     "text": [
      "\u001b[0m\u001b[38;5;34mall_element_tested_in_both_orientations.bed.gz\u001b[0m  \u001b[38;5;34melement_level_all_result.bed.gz\u001b[0m\n"
     ]
    }
   ],
   "source": [
    "FDIRY=${FD_RES}/source\n",
    "\n",
    "FOLDR=annotation_enhancer_junke_zscore_230420\n",
    "FDIRY=${FDIRY}/${FOLDR}\n",
    "FOLDR=lentiMPRA\n",
    "FDIRY=${FDIRY}/${FOLDR}\n",
    "FOLDR=lentiMPRA\n",
    "FDIRY=${FDIRY}/${FOLDR}\n",
    "FOLDR=element_level\n",
    "FDIRY=${FDIRY}/${FOLDR}\n",
    "\n",
    "ls ${FDIRY}"
   ]
  },
  {
   "cell_type": "markdown",
   "id": "9036ec52-d43e-4032-9c0b-7ff6891b0c3e",
   "metadata": {},
   "source": [
    "## Test get all the bin level bed files"
   ]
  },
  {
   "cell_type": "code",
   "execution_count": 26,
   "id": "556a6414-1acd-4a85-a43c-bd8ea66c0a1b",
   "metadata": {},
   "outputs": [
    {
     "name": "stdout",
     "output_type": "stream",
     "text": [
      "\u001b[0m\u001b[38;5;34m/data/reddylab/Kuei/out/proj_combeffect_encode_fcc/source/annotation_enhancer_junke_zscore_230420/deep_ATAC_STARR_seq.genomic_bin_100_sliding_10/ATAC_STARR_seq/bin_level/bin_level_all_result.bed.gz\u001b[0m\u001b[K\n",
      "\u001b[38;5;34m/data/reddylab/Kuei/out/proj_combeffect_encode_fcc/source/annotation_enhancer_junke_zscore_230420/WHG_STARR_TR/WHG_STARR_TR/bin_level/bin_level_all_result.bed.gz\u001b[0m\u001b[K\n"
     ]
    }
   ],
   "source": [
    "FDIRY=${FD_RES}/source/annotation_enhancer_junke_zscore_230420\n",
    "FDIRY=${FDIRY}/*/*/*/bin_level_all_result.bed.gz\n",
    "\n",
    "ls ${FDIRY}"
   ]
  },
  {
   "cell_type": "code",
   "execution_count": 28,
   "id": "581ba4fa-69dd-4ce3-9cfb-81bb8628f0f5",
   "metadata": {},
   "outputs": [
    {
     "name": "stdout",
     "output_type": "stream",
     "text": [
      "\u001b[0m\u001b[38;5;34m/data/reddylab/Kuei/out/proj_combeffect_encode_fcc/source/annotation_enhancer_junke_zscore_230420/lentiMPRA/lentiMPRA/element_level/element_level_all_result.bed.gz\u001b[0m\u001b[K\n",
      "\u001b[38;5;34m/data/reddylab/Kuei/out/proj_combeffect_encode_fcc/source/annotation_enhancer_junke_zscore_230420/tilingMPRA_GATA_MYC/z_score_processed/element_level/element_level_all_result.bed.gz\u001b[0m\u001b[K\n",
      "\u001b[38;5;34m/data/reddylab/Kuei/out/proj_combeffect_encode_fcc/source/annotation_enhancer_junke_zscore_230420/tilingMPRA_OL13/z_score_processed/element_level/element_level_all_result.bed.gz\u001b[0m\u001b[K\n",
      "\u001b[38;5;34m/data/reddylab/Kuei/out/proj_combeffect_encode_fcc/source/annotation_enhancer_junke_zscore_230420/tilingMPRA_OL45/z_score_processed/element_level/element_level_all_result.bed.gz\u001b[0m\u001b[K\n"
     ]
    }
   ],
   "source": [
    "FDIRY=${FD_RES}/source/annotation_enhancer_junke_zscore_230420\n",
    "FDIRY=${FDIRY}/*/*/*/element_level_all_result.bed.gz\n",
    "\n",
    "ls ${FDIRY}"
   ]
  },
  {
   "cell_type": "code",
   "execution_count": 40,
   "id": "084a40c0-08b6-432c-8595-fbc6cfc26552",
   "metadata": {},
   "outputs": [
    {
     "name": "stdout",
     "output_type": "stream",
     "text": [
      "/data/reddylab/Kuei/out/proj_combeffect_encode_fcc/source/annotation_enhancer_junke_zscore_230420/deep_ATAC_STARR_seq.genomic_bin_100_sliding_10/ATAC_STARR_seq/bin_level/bin_level_all_result.bed.gz\n",
      "\n",
      "ASTARR\n",
      "\n",
      "chr1\t115710\t115810\tbin_59\t0.488572939976538\t-\t0.0494318585308272\t0.109071399098828\t0.650631884838429\tN\tinactive\t145\t190\t215\t190\t208\t161\t21\t53\t54\t72\n",
      "/data/reddylab/Kuei/out/proj_combeffect_encode_fcc/source/annotation_enhancer_junke_zscore_230420/WHG_STARR_TR/WHG_STARR_TR/bin_level/bin_level_all_result.bed.gz\n",
      "\n",
      "WSTARR\n",
      "\n",
      "chr1\t88430\t88530\tbin_43\t0.219133859242476\t+\t0.735784438477576\t0.910566085869422\t0.2949021802449866\tN\tinactive\t11\t11\t11\t4\n",
      "chr1\t88440\t88540\tbin_44\t0.243784462697835\t+\t0.705576146063813\t0.898184561496427\t0.34164495665210354\tN\tinactive\t11\t11\t12\t4\n",
      "chr1\t88450\t88550\tbin_45\t0.269256185975577\t+\t0.676086384487412\t0.885449245240551\t0.3899447505306429\tN\tinactive\t11\t11\t13\t4\n",
      "/data/reddylab/Kuei/out/proj_combeffect_encode_fcc/source/annotation_enhancer_junke_zscore_230420/lentiMPRA/lentiMPRA/element_level/element_level_all_result.bed.gz\n",
      "\n",
      "LMPRA\n",
      "\n",
      "chr1\t115631\t115831\tpeak1_Reversed:\t0.398735834706535\t-\t0.0013375047828755\t0.0031232262677441482\t1.4431961022982511\tN\tinactive\t249\t54\t183\t340\t173\t252\n",
      "chr1\t138940\t139140\tpeak2_Reversed:\t0.395213989537064\t-\t0.0003757830123043\t0.0009452051849263519\t1.4304064613669847\tN\tinactive\t370\t65\t260\t432\t269\t339\n",
      "chr1\t203225\t203425\tpeak3_Reversed:\t0.167576561075908\t-\t0.211724907775282\t0.2957848605680426\t0.6037372489403804\tN\tinactive\t213\t43\t189\t255\t129\t215\n",
      "chr1\t267911\t268111\tpeak4_Reversed:\t-0.0194978451860204\t-\t0.888287944662675\t0.9192620043359251\t-0.0756266550325208\tN\tinactive\t189\t44\t189\t210\t120\t148\n",
      "chr1\t586093\t586293\tpeak5_Reversed:\t0.355087131022665\t-\t0.0049136825433679\t0.01047598307120363\t1.2846850887900123\tN\tinactive\t217\t52\t206\t307\t172\t231\n",
      "chr1\t629847\t630047\tpeak6\t0.488156734343401\t+\t4.34427169886078e-05\t0.00012167046429919606\t1.7679296277865713\tN\tinactive\t4884227\t1109967\t3901646\t7311595\t3715419\t5558148\n",
      "chr1\t629847\t630047\tpeak6_Reversed:\t-0.427360733172159\t-\t0.0104071603166929\t0.020852782119222694\t-1.5567877042888638\tN\tinactive\t138\t38\t143\t122\t59\t114\n",
      "chr1\t630216\t630416\tpeak7\t0.480414406739682\t+\t4.63945328269507e-05\t0.00012952108567795234\t1.7398132327553064\tN\tinactive\t5034167\t1143196\t4026179\t7492505\t3811575\t5699235\n",
      "chr1\t630216\t630416\tpeak7_Reversed:\t0.312130013696483\t-\t0.141119484745241\t0.21005721452516168\t1.128685582960892\tN\tinactive\t77\t27\t36\t93\t48\t73\n",
      "chr1\t631350\t631550\tpeak8_Reversed:\t0.112773818878669\t-\t0.500084962285493\t0.5945075570240628\t0.4047201539166576\tN\tinactive\t170\t28\t97\t193\t70\t129\n",
      "chr1\t633928\t634128\tpeak9_Reversed:\t-0.0758661179637358\t-\t0.569848235594905\t0.6584518502055251\t-0.28032900111860587\tN\tinactive\t242\t46\t186\t239\t124\t158\n",
      "chr1\t634309\t634509\tpeak10_Reversed:\t0.279358223859792\t-\t0.0354074040660448\t0.062920458731589\t1.009674268006021\tN\tinactive\t238\t48\t150\t298\t132\t213\n",
      "chr1\t778638\t778838\tpeak11\t0.491179596187803\t+\t2.09533878790973e-05\t6.055289080546244e-05\t1.778907202243808\tN\tinactive\t498343\t113186\t399688\t747699\t381749\t568156\n",
      "chr1\t898800\t899000\tpeak15_Reversed:\t0.327535650754677\t-\t0.0040175051080761\t0.008696843959073962\t1.1846314172637975\tN\tinactive\t271\t79\t223\t394\t198\t275\n",
      "chr1\t911257\t911457\tpeak18_Reversed:\t0.0415800171809338\t-\t0.619134031608774\t0.7017994481424669\t0.14617864614714163\tN\tinactive\t758\t164\t589\t872\t396\t611\n",
      "chr1\t924813\t925013\tENSG00000187634\t0.344626282716676\t+\t5.50747288141413e-06\t1.681390215714649e-05\t1.2466963393612174\tN\tinactive\t1069\t218\t862\t1293\t766\t1112\n",
      "chr1\t924813\t925013\tENSG00000187634_Reversed:\t-0.0242898157470205\t-\t0.765688496406281\t0.8242480251692357\t-0.09302877803317398\tN\tinactive\t846\t181\t676\t808\t469\t684\n",
      "chr1\t935883\t936083\tpeak20\t0.485300687216848\t+\t6.08109183186343e-05\t0.00016767161077332584\t1.7575578438285404\tN\tinactive\t498863\t112593\t396455\t743102\t377452\t566834\n",
      "chr1\t935883\t936083\tpeak20_Reversed:\t-0.0857919570944613\t-\t0.314619783392005\t0.41033344758905926\t-0.3163748555826058\tN\tinactive\t746\t151\t609\t729\t374\t572\n",
      "chr1\t976117\t976317\tpeak23_Reversed:\t-0.28027286179253\t-\t0.0231464783608446\t0.04302272312943643\t-1.022635585224436\tN\tinactive\t301\t63\t225\t246\t133\t198\n",
      "chr1\t981995\t982195\tENSG00000187642\t0.0003557230869684\t-\t0.995989634019923\t0.9973294649526042\t-0.003528082495315803\tN\tinactive\t1140\t302\t995\t1276\t665\t1026\n",
      "chr1\t981995\t982195\tENSG00000187642_Reversed:\t-0.0262712493056226\t+\t0.726564339623766\t0.7922763734734037\t-0.10022438786956234\tN\tinactive\t949\t259\t859\t1072\t551\t851\n",
      "chr1\t1005011\t1005211\tpeak24_Reversed:\t0.380943980618517\t-\t0.0007465829421153\t0.0018078363709184077\t1.3785846800643162\tN\tinactive\t272\t67\t311\t440\t232\t297\n",
      "chr1\t1013310\t1013510\tENSG00000187608_Reversed:\t0.363518496006205\t-\t0.0233088587723305\t0.043293354743685404\t1.3153037348437022\tN\tinactive\t145\t30\t106\t194\t94\t148\n",
      "chr1\t1033089\t1033289\tpeak26_Reversed:\t0.104861429703067\t-\t0.326546028560764\t0.42301615931323633\t0.37598617738026463\tN\tinactive\t320\t88\t348\t421\t207\t363\n",
      "/data/reddylab/Kuei/out/proj_combeffect_encode_fcc/source/annotation_enhancer_junke_zscore_230420/tilingMPRA_GATA_MYC/z_score_processed/element_level/element_level_all_result.bed.gz\n",
      "\n",
      "TMPRA_OL43\n",
      "\n",
      "chr8\t126736051\t126736250\t8:126736051-126736250\t0.328544156156728\t+\t4.93269338243716e-05\t0.0001341619361172007\t0.33665605058477577\tN\tinactive\t934.0\t1056.0\t988.0\t985.0\t1059.0\t672.0\t459.0\t859.0\t475.0\t676.0\n",
      "chr8\t126736151\t126736350\t8:126736151-126736350\t-0.343922866196315\t+\t6.36124755166534e-05\t0.00017038373542818444\t-0.5421567574462419\tN\tinactive\t1225.0\t1454.0\t1264.0\t1256.0\t1358.0\t422.0\t400.0\t751.0\t475.0\t493.0\n",
      "chr8\t126736201\t126736400\t8:126736201-126736400\t-0.454308567213953\t+\t0.0040731919869349\t0.008008535125970828\t-0.6864141926113729\tN\tinactive\t308.0\t391.0\t377.0\t363.0\t367.0\t166.0\t100.0\t162.0\t87.0\t153.0\n",
      "chr8\t126736251\t126736450\t8:126736251-126736450\t-0.471082003138072\t+\t0.013548800169573\t0.023815761354760764\t-0.7083345393864816\tN\tinactive\t319.0\t236.0\t318.0\t303.0\t292.0\t97.0\t96.0\t160.0\t83.0\t93.0\n",
      "chr8\t126736301\t126736500\t8:126736301-126736500\t0.124823852012803\t+\t0.359790613269758\t0.4310765114092346\t0.07042438927415687\tN\tinactive\t314.0\t334.0\t319.0\t326.0\t316.0\t193.0\t118.0\t301.0\t152.0\t138.0\n",
      "chr8\t126736351\t126736550\t8:126736351-126736550\t0.124470624225321\t+\t0.141066955615806\t0.19174954839259742\t0.06996277391835036\tN\tinactive\t785.0\t796.0\t752.0\t790.0\t787.0\t459.0\t375.0\t567.0\t357.0\t380.0\n",
      "chr8\t126736401\t126736600\t8:126736401-126736600\t0.389368800371749\t+\t0.0002761377674067\t0.0006701594482023084\t0.41614467174131964\tN\tinactive\t545.0\t628.0\t530.0\t494.0\t576.0\t289.0\t320.0\t552.0\t347.0\t307.0\n",
      "chr8\t126736501\t126736700\t8:126736501-126736700\t-0.0953583300754522\t+\t0.552816142207541\t0.6191066587270847\t-0.21732045959932456\tN\tinactive\t282.0\t357.0\t305.0\t331.0\t242.0\t170.0\t164.0\t206.0\t117.0\t99.0\n",
      "chr8\t126736551\t126736750\t8:126736551-126736750\t-0.201987118738261\t+\t0.0897905002342779\t0.12894075708558786\t-0.35666817787674693\tN\tinactive\t555.0\t637.0\t497.0\t515.0\t510.0\t235.0\t176.0\t359.0\t185.0\t223.0\n",
      "chr8\t126736601\t126736800\t8:126736601-126736800\t0.257556708007963\t+\t0.357648005221448\t0.4289171422097635\t0.24388617999055542\tN\tinactive\t70.0\t84.0\t57.0\t57.0\t67.0\t37.0\t34.0\t31.0\t45.0\t48.0\n",
      "chr8\t126736651\t126736850\t8:126736651-126736850\t-0.405743699421195\t+\t0.0143027725045318\t0.02500121988804178\t-0.6229472471435218\tN\tinactive\t312.0\t368.0\t315.0\t326.0\t361.0\t68.0\t135.0\t220.0\t92.0\t134.0\n",
      "chr8\t126736701\t126736900\t8:126736701-126736900\t0.203447148583561\t+\t0.153910945366713\t0.20693461571907049\t0.1731731602015862\tN\tinactive\t275.0\t327.0\t311.0\t348.0\t335.0\t221.0\t75.0\t247.0\t150.0\t224.0\n",
      "chr8\t126736751\t126736950\t8:126736751-126736950\t0.0284737479145948\t+\t0.76111389201371\t0.8060995026758236\t-0.05549064108724841\tN\tinactive\t684.0\t845.0\t725.0\t759.0\t652.0\t348.0\t323.0\t528.0\t282.0\t380.0\n",
      "chr8\t126736801\t126737000\t8:126736801-126737000\t0.328210694580072\t+\t0.268911589025949\t0.33514846825637223\t0.33622026668041993\tN\tinactive\t67.0\t76.0\t49.0\t50.0\t56.0\t28.0\t21.0\t32.0\t39.0\t58.0\n",
      "chr8\t126736851\t126737050\t8:126736851-126737050\t0.41401098643348\t+\t0.35441959856514\t0.4256178134590175\t0.44834828620728423\tN\tinactive\t39.0\t46.0\t14.0\t36.0\t46.0\t3.0\t29.0\t55.0\t29.0\t19.0\n",
      "chr8\t126736951\t126737150\t8:126736951-126737150\t-0.171508112267687\t+\t0.0386002541025393\t0.06099521579682239\t-0.3168367209100163\tN\tinactive\t1127.0\t1344.0\t1180.0\t1125.0\t1189.0\t600.0\t386.0\t689.0\t387.0\t583.0\n",
      "chr8\t126737001\t126737200\t8:126737001-126737200\t-0.469421647023094\t+\t0.0042016231928191\t0.008239969066244237\t-0.7061647047756636\tN\tinactive\t302.0\t394.0\t361.0\t357.0\t303.0\t80.0\t96.0\t180.0\t118.0\t128.0\n",
      "chr8\t126737051\t126737250\t8:126737051-126737250\t0.011957635050143\t+\t0.898196985634093\t0.9201187119798352\t-0.07707470549739281\tN\tinactive\t749.0\t778.0\t740.0\t787.0\t801.0\t281.0\t382.0\t483.0\t392.0\t377.0\n",
      "chr8\t126737151\t126737350\t8:126737151-126737350\t-0.440746260299247\t+\t9.8594797538103e-06\t2.953313489572224e-05\t-0.6686903063434841\tN\tinactive\t1013.0\t1067.0\t988.0\t1059.0\t1041.0\t314.0\t331.0\t618.0\t301.0\t353.0\n",
      "chr8\t126737201\t126737400\t8:126737201-126737400\t-0.372967776749597\t+\t0.0002189121472982\t0.0005400838592401471\t-0.5801140676992033\tN\tinactive\t880.0\t939.0\t924.0\t895.0\t818.0\t350.0\t288.0\t508.0\t270.0\t317.0\n",
      "chr8\t126737251\t126737450\t8:126737251-126737450\t-0.350383647964892\t+\t0.0002137163737274\t0.0005280646397551962\t-0.5506000231817889\tN\tinactive\t974.0\t1109.0\t1041.0\t999.0\t1023.0\t284.0\t282.0\t544.0\t384.0\t454.0\n",
      "chr8\t126737451\t126737650\t8:126737451-126737650\t-0.283912542203705\t+\t0.260319432765989\t0.3259225365688647\t-0.46373232980031714\tN\tinactive\t121.0\t172.0\t111.0\t144.0\t133.0\t49.0\t49.0\t89.0\t84.0\t28.0\n",
      "chr8\t126737801\t126738000\t8:126737801-126738000\t-0.0820497029445871\t+\t0.423237313884466\t0.4944525407593887\t-0.19992809448528762\tN\tinactive\t567.0\t610.0\t585.0\t635.0\t574.0\t271.0\t230.0\t368.0\t235.0\t283.0\n",
      "chr8\t126737851\t126738050\t8:126737851-126738050\t-0.484206286698944\t+\t6.0503488624676e-05\t0.00016256776074562236\t-0.7254859953034827\tN\tinactive\t650.0\t718.0\t761.0\t792.0\t772.0\t205.0\t194.0\t383.0\t200.0\t306.0\n",
      "chr8\t126737901\t126738100\t8:126737901-126738100\t-0.199004164638094\t+\t0.0075213643493152\t0.013981433703520632\t-0.3527699075053277\tN\tinactive\t1636.0\t1804.0\t1912.0\t1794.0\t1736.0\t700.0\t644.0\t1167.0\t561.0\t809.0\n",
      "chr8\t126737951\t126738150\t8:126737951-126738150\t0.259913136063712\t+\t0.0002763121720504\t0.0006705482782726562\t0.24696567547176088\tN\tinactive\t1587.0\t1976.0\t1731.0\t1873.0\t1594.0\t903.0\t847.0\t1292.0\t1040.0\t1010.0\n",
      "chr8\t126738001\t126738200\t8:126738001-126738200\t0.0184976687221228\t+\t0.7730650981446\t0.816606866912397\t-0.0685278694967531\tN\tinactive\t2894.0\t3118.0\t2864.0\t2689.0\t2622.0\t1418.0\t1224.0\t1706.0\t1200.0\t1495.0\n",
      "chr8\t126738051\t126738250\t8:126738051-126738250\t0.221750983269375\t+\t0.0028654720864789\t0.0058065647221679255\t0.19709350695954342\tN\tinactive\t1288.0\t1374.0\t1257.0\t1237.0\t1335.0\t604.0\t555.0\t1161.0\t626.0\t792.0\n",
      "chr8\t126738101\t126738300\t8:126738101-126738300\t0.154690512838034\t+\t0.0341979930630778\t0.054738910780168716\t0.10945560299001929\tN\tinactive\t1296.0\t1498.0\t1240.0\t1419.0\t1275.0\t612.0\t629.0\t1010.0\t574.0\t865.0\n",
      "chr8\t126738151\t126738350\t8:126738151-126738350\t-0.0398667180122362\t+\t0.540450604939215\t0.6073740016487067\t-0.1448013057993329\tN\tinactive\t1902.0\t2178.0\t2024.0\t1930.0\t2048.0\t903.0\t845.0\t1280.0\t754.0\t1070.0\n",
      "chr8\t126738201\t126738400\t8:126738201-126738400\t0.211069699446867\t+\t0.0018078829458469\t0.0038081410101681716\t0.18313468263446522\tN\tinactive\t1748.0\t1882.0\t1885.0\t1800.0\t1670.0\t880.0\t948.0\t1345.0\t919.0\t1028.0\n",
      "chr8\t126738251\t126738450\t8:126738251-126738450\t-0.0563672414570667\t+\t0.407624480077035\t0.4793049713302099\t-0.16636499719313957\tN\tinactive\t1634.0\t1882.0\t1639.0\t1760.0\t1642.0\t700.0\t705.0\t1096.0\t629.0\t925.0\n",
      "chr8\t126738301\t126738500\t8:126738301-126738500\t-0.195544842463159\t+\t0.0423805868520187\t0.06628181294902817\t-0.34824909602553056\tN\tinactive\t863.0\t907.0\t830.0\t902.0\t807.0\t364.0\t303.0\t631.0\t292.0\t327.0\n",
      "chr8\t126738351\t126738550\t8:126738351-126738550\t-0.286840591317666\t+\t0.0374965046822635\t0.059434622794261406\t-0.4675588476493096\tN\tinactive\t416.0\t420.0\t441.0\t466.0\t364.0\t153.0\t143.0\t197.0\t170.0\t177.0\n",
      "chr8\t126738401\t126738600\t8:126738401-126738600\t-0.232472510510073\t+\t0.0261707477179863\t0.04306400881452704\t-0.39650797946756255\tN\tinactive\t742.0\t796.0\t708.0\t737.0\t700.0\t236.0\t227.0\t540.0\t249.0\t308.0\n",
      "chr8\t126738451\t126738650\t8:126738451-126738650\t-0.338421618796992\t+\t1.75136572192919e-06\t5.741886931910542e-06\t-0.534967458173609\tN\tinactive\t2360.0\t2846.0\t2537.0\t2659.0\t2624.0\t874.0\t941.0\t1365.0\t859.0\t1056.0\n",
      "chr8\t126738501\t126738700\t8:126738501-126738700\t-0.0729364081783653\t+\t0.277272197719698\t0.34409389821128594\t-0.18801839497928996\tN\tinactive\t1618.0\t1984.0\t1757.0\t1711.0\t1788.0\t717.0\t656.0\t1110.0\t766.0\t860.0\n",
      "chr8\t126738551\t126738750\t8:126738551-126738750\t-0.216220659682658\t+\t0.0066880418873066\t0.012571316310654479\t-0.3752692656175269\tN\tinactive\t1275.0\t1430.0\t1338.0\t1401.0\t1252.0\t463.0\t522.0\t691.0\t473.0\t670.0\n",
      "chr8\t126738601\t126738800\t8:126738601-126738800\t0.119084953491695\t+\t0.0645233164217077\t0.09630712225443842\t0.06292451588751487\tN\tinactive\t1672.0\t1828.0\t1731.0\t1848.0\t1777.0\t873.0\t836.0\t1282.0\t820.0\t950.0\n",
      "chr8\t126738701\t126738900\t8:126738701-126738900\t-0.0497834611372922\t+\t0.589360448309427\t0.6532607579482389\t-0.15776099093267676\tN\tinactive\t701.0\t829.0\t701.0\t792.0\t724.0\t321.0\t313.0\t455.0\t287.0\t403.0\n",
      "chr8\t126738751\t126738950\t8:126738751-126738950\t-0.241056412844574\t+\t0.0014248037062532\t0.0030572908838884753\t-0.4077258430410813\tN\tinactive\t1508.0\t1588.0\t1476.0\t1550.0\t1592.0\t581.0\t617.0\t866.0\t535.0\t662.0\n",
      "chr8\t126738851\t126739050\t8:126738851-126739050\t0.0482679856067317\t+\t0.729151713795215\t0.7785640893211458\t-0.029622562756519952\tN\tinactive\t288.0\t297.0\t272.0\t308.0\t311.0\t149.0\t109.0\t198.0\t137.0\t156.0\n",
      "chr8\t126738951\t126739150\t8:126738951-126739150\t0.242365338079866\t+\t0.0002607639596222\t0.0006355083603292307\t0.2240333544681464\tN\tinactive\t1911.0\t2250.0\t2034.0\t2149.0\t2011.0\t1066.0\t1015.0\t1495.0\t1016.0\t1391.0\n",
      "/data/reddylab/Kuei/out/proj_combeffect_encode_fcc/source/annotation_enhancer_junke_zscore_230420/tilingMPRA_OL13/z_score_processed/element_level/element_level_all_result.bed.gz\n",
      "\n",
      "TMPRA_OL13\n",
      "\n",
      "chr11\t61554831\t61555030\t11:61554831-61555030_RC\t-0.139044748943671\t+\t0.575929260193856\t0.7051762107188124\t0.0459985158630967\tN\tinactive\t1086\t639\t945\t688\t251\t295\t651\t473\n",
      "chr11\t61554836\t61555035\t11:61554836-61555035_RC\t-0.0058448540342431\t+\t0.983362015244539\t0.9901940373231907\t0.14426988733989515\tN\tinactive\t741\t670\t898\t552\t188\t288\t599\t551\n",
      "chr11\t61554841\t61555040\t11:61554841-61555040_RC\t0.153798775957647\t+\t0.586268653011861\t0.7132949816649208\t0.2620507495358094\tN\tinactive\t592\t463\t660\t358\t235\t351\t278\t422\n",
      "chr11\t61554846\t61555045\t11:61554846-61555045\t-0.252520591273847\t+\t0.430394843686075\t0.5811766473011682\t-0.037720969522788826\tN\tinactive\t1205\t433\t860\t545\t376\t72\t422\t436\n",
      "chr11\t61554851\t61555050\t11:61554851-61555050_RC\t-0.159898539282233\t+\t0.634613857368598\t0.7511214227511683\t0.030613139031879368\tN\tinactive\t768\t425\t686\t503\t73\t487\t514\t387\n",
      "chr11\t61554856\t61555055\t11:61554856-61555055_RC\t-0.432217792157692\t+\t0.397666990232336\t0.5518197632225154\t-0.170296827735026\tN\tinactive\t432\t257\t373\t181\t60\t142\t114\t196\n",
      "chr11\t61554871\t61555070\t11:61554871-61555070\t-0.286119132140277\t+\t0.29378624662558\t0.45496841520904513\t-0.06250908735732952\tN\tinactive\t1098\t600\t899\t609\t150\t335\t460\t552\n",
      "chr11\t61554871\t61555070\t11:61554871-61555070_RC\t-0.279881513315754\t+\t0.661874844313112\t0.771643286529809\t-0.05790713660464927\tN\tinactive\t672\t407\t212\t316\t118\t45\t180\t303\n",
      "chr11\t61554881\t61555080\t11:61554881-61555080\t-0.43322949411154\t+\t0.255484590230377\t0.41752741109596453\t-0.17104323476934086\tN\tinactive\t673\t273\t722\t423\t124\t143\t296\t228\n",
      "chr11\t61554886\t61555085\t11:61554886-61555085\t-0.232864443948686\t+\t0.439126030120549\t0.5887907070530208\t-0.023219182138444157\tN\tinactive\t854\t470\t834\t347\t178\t263\t413\t279\n",
      "chr11\t61554891\t61555090\t11:61554891-61555090_RC\t-0.403622497875218\t+\t0.182585011670562\t0.3378916022826634\t-0.14919997335062754\tN\tinactive\t756\t475\t807\t463\t306\t151\t271\t265\n",
      "chr11\t61554896\t61555095\t11:61554896-61555095_RC\t-0.444533377306561\t+\t0.267521003701681\t0.42958843586292794\t-0.1793829418340018\tN\tinactive\t627\t234\t508\t373\t121\t349\t177\t154\n",
      "chr11\t61554911\t61555110\t11:61554911-61555110_RC\t-0.484658059401702\t+\t0.145241058560231\t0.2946465335813356\t-0.2089858746459326\tN\tinactive\t842\t469\t663\t591\t138\t154\t412\t303\n",
      "chr11\t61554921\t61555120\t11:61554921-61555120_RC\t-0.492547860667724\t+\t0.261162598928334\t0.4231579675336427\t-0.21480676205442925\tN\tinactive\t586\t301\t428\t260\t112\t68\t295\t130\n",
      "chr11\t61554936\t61555135\t11:61554936-61555135\t-0.256007341798545\t+\t0.441261145979854\t0.5906726478973652\t-0.04029340215340395\tN\tinactive\t605\t369\t542\t368\t116\t233\t232\t301\n",
      "chr11\t61554936\t61555135\t11:61554936-61555135_RC\t-0.20981041285702\t+\t0.60687872465543\t0.7292991611222878\t-0.0062105256752594176\tN\tinactive\t588\t205\t485\t229\t136\t335\t265\t99\n",
      "chr11\t61554941\t61555140\t11:61554941-61555140\t-0.488602275407283\t+\t0.243821307070387\t0.4053951831788208\t-0.21189581325010903\tN\tinactive\t529\t338\t787\t373\t227\t69\t102\t484\n",
      "chr11\t61554941\t61555140\t11:61554941-61555140_RC\t-0.436519643884302\t+\t0.290473987292061\t0.4518268505538943\t-0.17347062054733453\tN\tinactive\t639\t277\t602\t341\t87\t120\t406\t156\n",
      "chr11\t61554946\t61555145\t11:61554946-61555145_RC\t-0.0683353696797871\t+\t0.8133859066531\t0.8801436897380904\t0.09816603207067244\tN\tinactive\t798\t429\t742\t338\t187\t234\t298\t429\n",
      "/data/reddylab/Kuei/out/proj_combeffect_encode_fcc/source/annotation_enhancer_junke_zscore_230420/tilingMPRA_OL45/z_score_processed/element_level/element_level_all_result.bed.gz\n",
      "\n",
      "TMPRA_OL45\n",
      "\n",
      "chrchr11\t4505501\t4505700\tchr11:4505501-4505700\t0.359767510273463\t+\t0.0006939293761279\t0.0017939422627305547\t0.28432972226549613\tN\tinactive\t811\t664\t917\t815\t610\t643\t665\t612\t714\n",
      "chrchr11\t4505601\t4505800\tchr11:4505601-4505800\t-0.397333877210421\t+\t0.0029914914946628\t0.006711499764645601\t-0.6876530634227273\tN\tinactive\t693\t552\t607\t551\t489\t413\t204\t279\t395\n",
      "chrchr11\t4505701\t4505900\tchr11:4505701-4505900\t-0.232363478010316\t+\t0.100238440031957\t0.14943948949079558\t-0.47586057324712366\tN\tinactive\t577\t414\t448\t371\t389\t303\t241\t217\t291\n",
      "chrchr11\t4506001\t4506200\tchr11:4506001-4506200\t-0.222104371988872\t+\t0.12161033531313\t0.17651929161846117\t-0.4626897157975906\tN\tinactive\t444\t422\t454\t473\t443\t237\t237\t215\t383\n",
      "chrchr11\t4506201\t4506400\tchr11:4506201-4506400\t-0.336690768239719\t+\t0.0006082803612395\t0.001592328566228087\t-0.6097981565838567\tN\tinactive\t1454\t1201\t1330\t1137\t1045\t611\t598\t623\t903\n",
      "chrchr11\t4506301\t4506500\tchr11:4506301-4506500\t0.252553559094853\t+\t0.0133371628169157\t0.025487509555980264\t0.14668618250452217\tN\tinactive\t1035\t792\t887\t760\t752\t715\t697\t714\t615\n",
      "chrchr11\t4506501\t4506700\tchr11:4506501-4506700\t-0.402149934013963\t+\t0.002087225970452\t0.004855157827531805\t-0.6938360190814091\tN\tinactive\t711\t634\t621\t522\t535\t321\t244\t334\t399\n",
      "chrchr11\t4506601\t4506800\tchr11:4506601-4506800\t-0.346992447991122\t+\t0.0093867224211786\t0.01864599247596616\t-0.6230236710890059\tN\tinactive\t648\t486\t560\t574\t490\t294\t258\t232\t460\n",
      "chrchr11\t4506801\t4507000\tchr11:4506801-4507000\t-0.439191120612324\t+\t0.0012025204695093\t0.0029527248225000636\t-0.7413902784319624\tN\tinactive\t593\t560\t596\t561\t484\t325\t263\t201\t379\n",
      "chrchr11\t4506901\t4507100\tchr11:4506901-4507100\t-0.212284850929833\t+\t0.151561153496152\t0.2132553875292303\t-0.4500832068268326\tN\tinactive\t487\t505\t399\t503\t367\t307\t353\t206\t217\n",
      "chrchr11\t4507001\t4507200\tchr11:4507001-4507200\t-0.300385757403431\t+\t0.0853404403753242\t0.13006203046345174\t-0.5631890152581878\tN\tinactive\t333\t304\t295\t362\t369\t247\t140\t136\t252\n",
      "chrchr11\t4507101\t4507300\tchr11:4507101-4507300\t0.230607127990331\t+\t0.120051564343798\t0.1745313078541802\t0.1185108897451465\tN\tinactive\t349\t353\t316\t310\t238\t368\t235\t169\t293\n",
      "chrchr11\t4507301\t4507500\tchr11:4507301-4507500\t-0.0970149805397241\t+\t0.409255530774037\t0.4912522543293667\t-0.30209730747450386\tN\tinactive\t636\t557\t595\t574\t567\t465\t311\t297\t488\n",
      "chrchr11\t4507401\t4507600\tchr11:4507401-4507600\t-0.0886031377795268\t+\t0.476709561953188\t0.557009290952359\t-0.2912980056980269\tN\tinactive\t680\t529\t488\t485\t424\t351\t296\t286\t466\n",
      "chrchr11\t4507501\t4507700\tchr11:4507501-4507700\t-0.0311541874765961\t+\t0.857065412324226\t0.8903301934767782\t-0.21754382736283595\tN\tinactive\t262\t272\t314\t301\t215\t235\t201\t131\t168\n",
      "chrchr11\t4507701\t4507900\tchr11:4507701-4507900\t0.313096295752113\t+\t0.0362319781384964\t0.06162962657108723\t0.22441222924296478\tN\tinactive\t450\t348\t335\t293\t209\t368\t216\t270\t311\n",
      "chrchr11\t4507801\t4508000\tchr11:4507801-4508000\t0.0808409025645103\t+\t0.686576211919151\t0.7471591395389352\t-0.07376216033495034\tN\tinactive\t228\t179\t201\t153\t149\t97\t145\t103\t208\n",
      "chrchr11\t4507901\t4508100\tchr11:4507901-4508100\t0.0143508777708993\t+\t0.920181130811545\t0.9401674358564064\t-0.15912346146022235\tN\tinactive\t496\t375\t403\t404\t267\t302\t272\t178\t372\n",
      "chrchr11\t4508001\t4508200\tchr11:4508001-4508200\t-0.0782829617346449\t+\t0.650722784741134\t0.7160278997884211\t-0.27804874525982604\tN\tinactive\t400\t284\t219\t278\t234\t217\t204\t127\t212\n",
      "chrchr11\t4508101\t4508300\tchr11:4508101-4508300\t-0.425699083190997\t+\t0.0192838731576511\t0.03531841466483442\t-0.72406891522462\tN\tinactive\t336\t266\t275\t310\t278\t184\t122\t128\t183\n",
      "chrchr11\t4508501\t4508700\tchr11:4508501-4508700\t-0.46404704192604\t+\t0.0037059181447471\t0.00813231405312674\t-0.7733008363027433\tN\tinactive\t431\t403\t372\t392\t365\t236\t168\t149\t259\n",
      "chrchr11\t4508701\t4508900\tchr11:4508701-4508900\t0.414060740179286\t+\t0.0003826910968793\t0.001043894024771497\t0.354032519962451\tN\tinactive\t581\t474\t523\t463\t415\t462\t460\t430\t444\n",
      "chrchr11\t4508801\t4509000\tchr11:4508801-4509000\t-0.0633767597315966\t+\t0.603025447870554\t0.6738608888227682\t-0.2589118476309564\tN\tinactive\t662\t478\t548\t536\t476\t340\t390\t304\t386\n",
      "chrchr11\t4508901\t4509100\tchr11:4508901-4509100\t0.234538678743721\t+\t0.168388993591136\t0.23334140215847857\t0.12355829781562237\tN\tinactive\t288\t301\t193\t335\t201\t218\t239\t160\t229\n",
      "chrchr11\t4509001\t4509200\tchr11:4509001-4509200\t-0.0593068163492828\t+\t0.609591417487367\t0.6797279237061754\t-0.25368676817431773\tN\tinactive\t707\t514\t594\t640\t545\t462\t347\t320\t490\n",
      "chrchr11\t4509201\t4509400\tchr11:4509201-4509400\t0.149476619302384\t+\t0.263296526697967\t0.3403168773669277\t0.014353825523028793\tN\tinactive\t435\t363\t382\t357\t357\t283\t302\t228\t355\n",
      "chrchr11\t4509301\t4509500\tchr11:4509301-4509500\t-0.247833233979543\t+\t0.102989897689914\t0.15295633211131468\t-0.4957209733856802\tN\tinactive\t478\t398\t440\t334\t311\t190\t265\t189\t270\n",
      "chrchr11\t4509401\t4509600\tchr11:4509401-4509600\t0.103895346852718\t+\t0.522314930823766\t0.6000906997437967\t-0.04416437679869567\tN\tinactive\t324\t241\t305\t227\t233\t212\t185\t152\t254\n",
      "chrchr11\t4509501\t4509700\tchr11:4509501-4509700\t0.187407193222971\t+\t0.0640920846442525\t0.10151880793370985\t0.0630498991421912\tN\tinactive\t973\t749\t720\t705\t636\t765\t481\t468\t794\n",
      "chrchr11\t4509601\t4509800\tchr11:4509601-4509800\t-0.367267195118178\t+\t0.0239262221829628\t0.04275471578792855\t-0.6490528205760682\tN\tinactive\t440\t358\t359\t324\t318\t173\t214\t133\t275\n",
      "chrchr11\t4509701\t4509900\tchr11:4509701-4509900\t0.441244650361604\t+\t0.0001958230773475\t0.0005635406330694265\t0.388931799215813\tN\tinactive\t546\t482\t497\t539\t366\t456\t442\t334\t628\n",
      "chrchr11\t4509801\t4510000\tchr11:4509801-4510000\t-0.269902828133482\t+\t0.0171775004581468\t0.03190460108102158\t-0.5240543854747062\tN\tinactive\t875\t690\t736\t885\t659\t492\t376\t395\t511\n",
      "chrchr11\t4509901\t4510100\tchr11:4509901-4510100\t-0.312588711160799\t+\t0.0211513542643262\t0.03834181252999961\t-0.5788554255736273\tN\tinactive\t602\t532\t474\t465\t424\t312\t290\t194\t344\n",
      "chrchr11\t4510001\t4510200\tchr11:4510001-4510200\t0.431021810797854\t+\t2.8658212177749e-05\t9.50982265071806e-05\t0.3758075014122655\tN\tinactive\t1022\t758\t824\t770\t635\t692\t792\t698\t753\n",
      "chrchr11\t4510501\t4510700\tchr11:4510501-4510700\t-0.230665231478412\t+\t0.0899737960517206\t0.13615262437659068\t-0.4736803284052127\tN\tinactive\t591\t508\t554\t497\t518\t240\t344\t212\t525\n",
      "chrchr11\t4510601\t4510800\tchr11:4510601-4510800\t-0.406952591899952\t+\t0.0055609145469296\t0.011698662215068501\t-0.7000017729261417\tN\tinactive\t503\t501\t435\t434\t393\t259\t211\t179\t325\n",
      "chrchr11\t4510801\t4511000\tchr11:4510801-4511000\t0.116878432920269\t+\t0.636121194749357\t0.703204536902917\t-0.02749641611154556\tN\tinactive\t130\t126\t88\t130\t111\t91\t86\t58\t126\n",
      "chrchr11\t4510901\t4511100\tchr11:4510901-4511100\t-0.18857436475527\t+\t0.0800819564860137\t0.1230727494443901\t-0.41964318283141444\tN\tinactive\t862\t781\t874\t925\t754\t485\t527\t387\t631\n",
      "chrchr11\t4511001\t4511200\tchr11:4511001-4511200\t-0.467124419104876\t+\t0.0061128769223723\t0.012734502956348488\t-0.777251638259188\tN\tinactive\t387\t370\t335\t432\t344\t190\t133\t188\t256\n",
      "chrchr11\t4511101\t4511300\tchr11:4511101-4511300\t-0.383231940836482\t+\t0.0158836044205376\t0.029758142543612365\t-0.6695486990311996\tN\tinactive\t451\t320\t440\t398\t368\t230\t173\t193\t244\n",
      "chrchr11\t4511201\t4511400\tchr11:4511201-4511400\t0.326799073213284\t+\t0.00198270272055\t0.004635398178795165\t0.24200414497387907\tN\tinactive\t659\t692\t648\t668\t544\t611\t501\t433\t719\n",
      "chrchr11\t4511301\t4511500\tchr11:4511301-4511500\t-0.0241344390562656\t+\t0.800916695826738\t0.8439191224647402\t-0.2085317257642656\tN\tinactive\t1184\t919\t1030\t1161\t872\t762\t633\t514\t984\n",
      "chrchr11\t4511401\t4511600\tchr11:4511401-4511600\t-0.427795317342088\t+\t0.0014340446155901\t0.0034618012384784163\t-0.7267601049956539\tN\tinactive\t633\t569\t539\t539\t542\t338\t237\t228\t402\n"
     ]
    }
   ],
   "source": [
    "FDIRY=${FD_RES}/source/annotation_enhancer_junke_zscore_230420\n",
    "FPATHS_BIN=($(ls ${FDIRY}/*/*/*/bin_level_all_result.bed.gz))\n",
    "FPATHS_ELE=($(ls ${FDIRY}/*/*/*/element_level_all_result.bed.gz))\n",
    "\n",
    "FPATHS=(${FPATHS_BIN[@]} ${FPATHS_ELE[@]})\n",
    "\n",
    "for FPATH in ${FPATHS[@]}; do\n",
    "    echo ${FPATH}\n",
    "    echo\n",
    "    if [[ ${FPATH} == *\"ATAC_STARR\"* ]]; then\n",
    "        ASSAY=\"ASTARR\"\n",
    "    fi\n",
    "    if [[ ${FPATH} == *\"WHG_STARR\"* ]]; then\n",
    "        ASSAY=\"WSTARR\"\n",
    "    fi\n",
    "    if [[ ${FPATH} == *\"tilingMPRA_GATA_MYC\"* ]]; then\n",
    "        ASSAY=\"TMPRA_OL43\"\n",
    "    fi\n",
    "    if [[ ${FPATH} == *\"tilingMPRA_OL13\"* ]]; then\n",
    "        ASSAY=\"TMPRA_OL13\"\n",
    "    fi\n",
    "    if [[ ${FPATH} == *\"tilingMPRA_OL45\"* ]]; then\n",
    "        ASSAY=\"TMPRA_OL45\"\n",
    "    fi\n",
    "    if [[ ${FPATH} == *\"lentiMPRA\"* ]]; then\n",
    "        ASSAY=\"LMPRA\"\n",
    "    fi\n",
    "    echo ${ASSAY}\n",
    "    echo\n",
    "    zcat ${FPATH} \\\n",
    "    | head -n 60 \\\n",
    "    | awk '{ if (($5 <= 0.5) && ($5 >= -0.5)) { print } }'\n",
    "done"
   ]
  },
  {
   "cell_type": "code",
   "execution_count": 42,
   "id": "ad7eb20b-539e-456a-8f77-131f71b7b586",
   "metadata": {},
   "outputs": [
    {
     "name": "stdout",
     "output_type": "stream",
     "text": [
      "/data/reddylab/Kuei/out/proj_combeffect_encode_fcc/source/annotation_enhancer_junke_zscore_230420/deep_ATAC_STARR_seq.genomic_bin_100_sliding_10/ATAC_STARR_seq/bin_level/bin_level_all_result.bed.gz\n",
      "\n",
      "ASTARR\n",
      "\n",
      "2083126\n",
      "/data/reddylab/Kuei/out/proj_combeffect_encode_fcc/source/annotation_enhancer_junke_zscore_230420/WHG_STARR_TR/WHG_STARR_TR/bin_level/bin_level_all_result.bed.gz\n",
      "\n",
      "WSTARR\n",
      "\n",
      "167332121\n",
      "/data/reddylab/Kuei/out/proj_combeffect_encode_fcc/source/annotation_enhancer_junke_zscore_230420/lentiMPRA/lentiMPRA/element_level/element_level_all_result.bed.gz\n",
      "\n",
      "LMPRA\n",
      "\n",
      "149706\n",
      "/data/reddylab/Kuei/out/proj_combeffect_encode_fcc/source/annotation_enhancer_junke_zscore_230420/tilingMPRA_GATA_MYC/z_score_processed/element_level/element_level_all_result.bed.gz\n",
      "\n",
      "TMPRA_OL43\n",
      "\n",
      "59476\n",
      "/data/reddylab/Kuei/out/proj_combeffect_encode_fcc/source/annotation_enhancer_junke_zscore_230420/tilingMPRA_OL13/z_score_processed/element_level/element_level_all_result.bed.gz\n",
      "\n",
      "TMPRA_OL13\n",
      "\n",
      "15118\n",
      "/data/reddylab/Kuei/out/proj_combeffect_encode_fcc/source/annotation_enhancer_junke_zscore_230420/tilingMPRA_OL45/z_score_processed/element_level/element_level_all_result.bed.gz\n",
      "\n",
      "TMPRA_OL45\n",
      "\n",
      "56378\n"
     ]
    }
   ],
   "source": [
    "FDIRY=${FD_RES}/source/annotation_enhancer_junke_zscore_230420\n",
    "FPATHS_BIN=($(ls ${FDIRY}/*/*/*/bin_level_all_result.bed.gz))\n",
    "FPATHS_ELE=($(ls ${FDIRY}/*/*/*/element_level_all_result.bed.gz))\n",
    "\n",
    "FPATHS=(${FPATHS_BIN[@]} ${FPATHS_ELE[@]})\n",
    "\n",
    "for FPATH in ${FPATHS[@]}; do\n",
    "    echo ${FPATH}\n",
    "    echo\n",
    "    if [[ ${FPATH} == *\"ATAC_STARR\"* ]]; then\n",
    "        ASSAY=\"ASTARR\"\n",
    "    fi\n",
    "    if [[ ${FPATH} == *\"WHG_STARR\"* ]]; then\n",
    "        ASSAY=\"WSTARR\"\n",
    "    fi\n",
    "    if [[ ${FPATH} == *\"tilingMPRA_GATA_MYC\"* ]]; then\n",
    "        ASSAY=\"TMPRA_OL43\"\n",
    "    fi\n",
    "    if [[ ${FPATH} == *\"tilingMPRA_OL13\"* ]]; then\n",
    "        ASSAY=\"TMPRA_OL13\"\n",
    "    fi\n",
    "    if [[ ${FPATH} == *\"tilingMPRA_OL45\"* ]]; then\n",
    "        ASSAY=\"TMPRA_OL45\"\n",
    "    fi\n",
    "    if [[ ${FPATH} == *\"lentiMPRA\"* ]]; then\n",
    "        ASSAY=\"LMPRA\"\n",
    "    fi\n",
    "    echo ${ASSAY}\n",
    "    echo\n",
    "    zcat ${FPATH} \\\n",
    "    | awk '{ if (($5 <= 0.5) && ($5 >= -0.5)) { print } }' \\\n",
    "    | wc -l\n",
    "done"
   ]
  },
  {
   "cell_type": "code",
   "execution_count": 43,
   "id": "e6f6ecba-43ee-4534-b354-37c2ea8dfa33",
   "metadata": {},
   "outputs": [
    {
     "name": "stdout",
     "output_type": "stream",
     "text": [
      "/data/reddylab/Kuei/out/proj_combeffect_encode_fcc/source/annotation_enhancer_junke_zscore_230420/deep_ATAC_STARR_seq.genomic_bin_100_sliding_10/ATAC_STARR_seq/bin_level/bin_level_all_result.bed.gz\n",
      "\n",
      "ASTARR\n",
      "\n",
      "0\n",
      "/data/reddylab/Kuei/out/proj_combeffect_encode_fcc/source/annotation_enhancer_junke_zscore_230420/WHG_STARR_TR/WHG_STARR_TR/bin_level/bin_level_all_result.bed.gz\n",
      "\n",
      "WSTARR\n",
      "\n",
      "0\n",
      "/data/reddylab/Kuei/out/proj_combeffect_encode_fcc/source/annotation_enhancer_junke_zscore_230420/lentiMPRA/lentiMPRA/element_level/element_level_all_result.bed.gz\n",
      "\n",
      "LMPRA\n",
      "\n",
      "0\n",
      "/data/reddylab/Kuei/out/proj_combeffect_encode_fcc/source/annotation_enhancer_junke_zscore_230420/tilingMPRA_GATA_MYC/z_score_processed/element_level/element_level_all_result.bed.gz\n",
      "\n",
      "TMPRA_OL43\n",
      "\n",
      "0\n",
      "/data/reddylab/Kuei/out/proj_combeffect_encode_fcc/source/annotation_enhancer_junke_zscore_230420/tilingMPRA_OL13/z_score_processed/element_level/element_level_all_result.bed.gz\n",
      "\n",
      "TMPRA_OL13\n",
      "\n",
      "0\n",
      "/data/reddylab/Kuei/out/proj_combeffect_encode_fcc/source/annotation_enhancer_junke_zscore_230420/tilingMPRA_OL45/z_score_processed/element_level/element_level_all_result.bed.gz\n",
      "\n",
      "TMPRA_OL45\n",
      "\n",
      "0\n"
     ]
    }
   ],
   "source": [
    "FDIRY=${FD_RES}/source/annotation_enhancer_junke_zscore_230420\n",
    "FPATHS_BIN=($(ls ${FDIRY}/*/*/*/bin_level_all_result.bed.gz))\n",
    "FPATHS_ELE=($(ls ${FDIRY}/*/*/*/element_level_all_result.bed.gz))\n",
    "\n",
    "FPATHS=(${FPATHS_BIN[@]} ${FPATHS_ELE[@]})\n",
    "\n",
    "for FPATH in ${FPATHS[@]}; do\n",
    "    echo ${FPATH}\n",
    "    echo\n",
    "    if [[ ${FPATH} == *\"ATAC_STARR\"* ]]; then\n",
    "        ASSAY=\"ASTARR\"\n",
    "    fi\n",
    "    if [[ ${FPATH} == *\"WHG_STARR\"* ]]; then\n",
    "        ASSAY=\"WSTARR\"\n",
    "    fi\n",
    "    if [[ ${FPATH} == *\"tilingMPRA_GATA_MYC\"* ]]; then\n",
    "        ASSAY=\"TMPRA_OL43\"\n",
    "    fi\n",
    "    if [[ ${FPATH} == *\"tilingMPRA_OL13\"* ]]; then\n",
    "        ASSAY=\"TMPRA_OL13\"\n",
    "    fi\n",
    "    if [[ ${FPATH} == *\"tilingMPRA_OL45\"* ]]; then\n",
    "        ASSAY=\"TMPRA_OL45\"\n",
    "    fi\n",
    "    if [[ ${FPATH} == *\"lentiMPRA\"* ]]; then\n",
    "        ASSAY=\"LMPRA\"\n",
    "    fi\n",
    "    echo ${ASSAY}\n",
    "    echo\n",
    "    zcat ${FPATH} \\\n",
    "    | awk '{ if (($5 <= 0.5) && ($5 >= -0.5) && ($11 == inactive)) { print } }' \\\n",
    "    | wc -l\n",
    "done"
   ]
  },
  {
   "cell_type": "code",
   "execution_count": null,
   "id": "96e5bb62-259a-43d8-aec9-576bc2a27aec",
   "metadata": {},
   "outputs": [],
   "source": []
  }
 ],
 "metadata": {
  "kernelspec": {
   "display_name": "Bash",
   "language": "bash",
   "name": "bash"
  },
  "language_info": {
   "codemirror_mode": "shell",
   "file_extension": ".sh",
   "mimetype": "text/x-sh",
   "name": "bash"
  }
 },
 "nbformat": 4,
 "nbformat_minor": 5
}
