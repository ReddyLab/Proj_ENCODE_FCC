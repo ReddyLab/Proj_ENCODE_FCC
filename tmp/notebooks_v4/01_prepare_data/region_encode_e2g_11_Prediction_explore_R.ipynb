{
 "cells": [
  {
   "cell_type": "markdown",
   "metadata": {},
   "source": [
    "**Set environment**"
   ]
  },
  {
   "cell_type": "code",
   "execution_count": 1,
   "metadata": {},
   "outputs": [
    {
     "name": "stdout",
     "output_type": "stream",
     "text": [
      "You are in Singularity: singularity_proj_encode_fcc \n",
      "BASE DIRECTORY (FD_BASE): /data/reddylab/Kuei \n",
      "WORK DIRECTORY (FD_WORK): /data/reddylab/Kuei/out \n",
      "CODE DIRECTORY (FD_CODE): /data/reddylab/Kuei/code \n",
      "PATH OF PROJECT (FD_PRJ): /data/reddylab/Kuei/code/Proj_CombEffect_ENCODE_FCC \n",
      "PATH OF RESULTS (FD_RES): /data/reddylab/Kuei/out/proj_combeffect_encode_fcc \n",
      "PATH OF LOG     (FD_LOG): /data/reddylab/Kuei/out/proj_combeffect_encode_fcc/log \n"
     ]
    }
   ],
   "source": [
    "suppressMessages(suppressWarnings(source(\"../config/config_sing.R\")))\n",
    "show_env()"
   ]
  },
  {
   "cell_type": "markdown",
   "metadata": {},
   "source": [
    "**Check data**"
   ]
  },
  {
   "cell_type": "code",
   "execution_count": 2,
   "metadata": {},
   "outputs": [
    {
     "data": {
      "text/html": [
       "<style>\n",
       ".list-inline {list-style: none; margin:0; padding: 0}\n",
       ".list-inline>li {display: inline-block}\n",
       ".list-inline>li:not(:last-child)::after {content: \"\\00b7\"; padding: 0 .5ex}\n",
       "</style>\n",
       "<ol class=list-inline><li>'K562.ENCSR328LMT.ENCFF122UMY.element_gene_links.bed.gz'</li><li>'K562.ENCSR328LMT.ENCFF202FID.element_gene_links.thresholded.bed.gz'</li><li>'K562.ENCSR328LMT.ENCFF307CCC.element_gene_links.thresholded.bigInteract'</li><li>'K562.ENCSR328LMT.ENCFF539OMA.element_gene_links.thresholded.bedpe.gz'</li><li>'Readme.md'</li></ol>\n"
      ],
      "text/latex": [
       "\\begin{enumerate*}\n",
       "\\item 'K562.ENCSR328LMT.ENCFF122UMY.element\\_gene\\_links.bed.gz'\n",
       "\\item 'K562.ENCSR328LMT.ENCFF202FID.element\\_gene\\_links.thresholded.bed.gz'\n",
       "\\item 'K562.ENCSR328LMT.ENCFF307CCC.element\\_gene\\_links.thresholded.bigInteract'\n",
       "\\item 'K562.ENCSR328LMT.ENCFF539OMA.element\\_gene\\_links.thresholded.bedpe.gz'\n",
       "\\item 'Readme.md'\n",
       "\\end{enumerate*}\n"
      ],
      "text/markdown": [
       "1. 'K562.ENCSR328LMT.ENCFF122UMY.element_gene_links.bed.gz'\n",
       "2. 'K562.ENCSR328LMT.ENCFF202FID.element_gene_links.thresholded.bed.gz'\n",
       "3. 'K562.ENCSR328LMT.ENCFF307CCC.element_gene_links.thresholded.bigInteract'\n",
       "4. 'K562.ENCSR328LMT.ENCFF539OMA.element_gene_links.thresholded.bedpe.gz'\n",
       "5. 'Readme.md'\n",
       "\n",
       "\n"
      ],
      "text/plain": [
       "[1] \"K562.ENCSR328LMT.ENCFF122UMY.element_gene_links.bed.gz\"                 \n",
       "[2] \"K562.ENCSR328LMT.ENCFF202FID.element_gene_links.thresholded.bed.gz\"     \n",
       "[3] \"K562.ENCSR328LMT.ENCFF307CCC.element_gene_links.thresholded.bigInteract\"\n",
       "[4] \"K562.ENCSR328LMT.ENCFF539OMA.element_gene_links.thresholded.bedpe.gz\"   \n",
       "[5] \"Readme.md\"                                                              "
      ]
     },
     "metadata": {},
     "output_type": "display_data"
    }
   ],
   "source": [
    "fdiry = file.path(FD_RES, \"source\", \"ENCODE_E2G\", \"annotation_e2g_prediction_ENCSR328LMT\")\n",
    "dir(fdiry)"
   ]
  },
  {
   "cell_type": "markdown",
   "metadata": {},
   "source": [
    "## Import data"
   ]
  },
  {
   "cell_type": "code",
   "execution_count": 6,
   "metadata": {},
   "outputs": [],
   "source": [
    "fdiry = file.path(FD_RES, \"source\", \"ENCODE_E2G\", \"annotation_e2g_prediction_ENCSR328LMT\")\n",
    "fname = \"K562.ENCSR328LMT.ENCFF122UMY.element_gene_links.bed.gz\"\n",
    "fpath = file.path(fdiry, fname)\n",
    "\n",
    "dat = read_tsv(fpath, show_col_types = FALSE)\n",
    "colnames(dat)[1] = \"chr\"\n",
    "\n",
    "dat_peak_encode_e2g_total_import = dat\n",
    "print(dim(dat))\n",
    "head(dat)"
   ]
  },
  {
   "cell_type": "code",
   "execution_count": 1,
   "metadata": {},
   "outputs": [
    {
     "ename": "ERROR",
     "evalue": "Error in eval(expr, envir, enclos): object 'dat' not found\n",
     "output_type": "error",
     "traceback": [
      "Error in eval(expr, envir, enclos): object 'dat' not found\nTraceback:\n",
      "1. colnames(dat)",
      "2. is.data.frame(x)"
     ]
    }
   ],
   "source": [
    "for (txt in colnames(dat)){cat(txt, \"\\n\")}"
   ]
  },
  {
   "cell_type": "code",
   "execution_count": 3,
   "metadata": {},
   "outputs": [
    {
     "name": "stdout",
     "output_type": "stream",
     "text": [
      "[1] 122316     57\n"
     ]
    },
    {
     "data": {
      "text/html": [
       "<table class=\"dataframe\">\n",
       "<caption>A tibble: 6 × 57</caption>\n",
       "<thead>\n",
       "\t<tr><th scope=col>chr</th><th scope=col>start</th><th scope=col>end</th><th scope=col>name</th><th scope=col>class</th><th scope=col>TargetGene</th><th scope=col>TargetGeneEnsemblID</th><th scope=col>TargetGeneTSS</th><th scope=col>isSelfPromoter</th><th scope=col>CellType</th><th scope=col>⋯</th><th scope=col>phastConMax.Feature</th><th scope=col>phyloPMax.Feature</th><th scope=col>P2PromoterClass.Feature</th><th scope=col>ubiquitousExpressedGene.Feature</th><th scope=col>HiCLoopOutsideNormalized.Feature</th><th scope=col>HiCLoopCrossNormalized.Feature</th><th scope=col>inTAD.Feature</th><th scope=col>inCCD.Feature</th><th scope=col>normalizedEP300_enhActivity.Feature</th><th scope=col>Score</th></tr>\n",
       "\t<tr><th scope=col>&lt;chr&gt;</th><th scope=col>&lt;dbl&gt;</th><th scope=col>&lt;dbl&gt;</th><th scope=col>&lt;chr&gt;</th><th scope=col>&lt;chr&gt;</th><th scope=col>&lt;chr&gt;</th><th scope=col>&lt;chr&gt;</th><th scope=col>&lt;dbl&gt;</th><th scope=col>&lt;lgl&gt;</th><th scope=col>&lt;chr&gt;</th><th scope=col>⋯</th><th scope=col>&lt;dbl&gt;</th><th scope=col>&lt;dbl&gt;</th><th scope=col>&lt;dbl&gt;</th><th scope=col>&lt;dbl&gt;</th><th scope=col>&lt;dbl&gt;</th><th scope=col>&lt;dbl&gt;</th><th scope=col>&lt;dbl&gt;</th><th scope=col>&lt;dbl&gt;</th><th scope=col>&lt;dbl&gt;</th><th scope=col>&lt;dbl&gt;</th></tr>\n",
       "</thead>\n",
       "<tbody>\n",
       "\t<tr><td>chr1</td><td>115484</td><td>115984</td><td>chr1:115484-115984</td><td>intergenic</td><td>SAMD11  </td><td>ENSG00000187634</td><td> 925740</td><td>FALSE</td><td>K562</td><td>⋯</td><td>0.4244211</td><td>0.4244211</td><td>0</td><td>0</td><td>0.3333333</td><td>0.3333333</td><td>0</td><td>0</td><td> 7.489511</td><td>0.4101592</td></tr>\n",
       "\t<tr><td>chr1</td><td>628759</td><td>629259</td><td>chr1:628759-629259</td><td>promoter  </td><td>PLEKHN1 </td><td>ENSG00000187583</td><td> 966496</td><td>FALSE</td><td>K562</td><td>⋯</td><td>0.2234074</td><td>2.3065745</td><td>0</td><td>0</td><td>0.3333333</td><td>1.3333333</td><td>0</td><td>0</td><td>12.672126</td><td>0.3489636</td></tr>\n",
       "\t<tr><td>chr1</td><td>628759</td><td>629259</td><td>chr1:628759-629259</td><td>promoter  </td><td>RNF223  </td><td>ENSG00000237330</td><td>1074307</td><td>FALSE</td><td>K562</td><td>⋯</td><td>0.2234074</td><td>2.3065745</td><td>0</td><td>0</td><td>0.3333333</td><td>2.6666667</td><td>0</td><td>0</td><td>12.672126</td><td>0.3438472</td></tr>\n",
       "\t<tr><td>chr1</td><td>628759</td><td>629259</td><td>chr1:628759-629259</td><td>promoter  </td><td>SAMD11  </td><td>ENSG00000187634</td><td> 925740</td><td>FALSE</td><td>K562</td><td>⋯</td><td>0.2234074</td><td>2.3065745</td><td>0</td><td>0</td><td>0.3333333</td><td>0.6666667</td><td>0</td><td>0</td><td>12.672126</td><td>0.4635418</td></tr>\n",
       "\t<tr><td>chr1</td><td>628759</td><td>629259</td><td>chr1:628759-629259</td><td>promoter  </td><td>SCNN1D  </td><td>ENSG00000162572</td><td>1280435</td><td>FALSE</td><td>K562</td><td>⋯</td><td>0.2234074</td><td>2.3065745</td><td>0</td><td>0</td><td>0.2500000</td><td>3.0000000</td><td>0</td><td>0</td><td>12.672126</td><td>0.3262141</td></tr>\n",
       "\t<tr><td>chr1</td><td>628759</td><td>629259</td><td>chr1:628759-629259</td><td>promoter  </td><td>TNFRSF18</td><td>ENSG00000186891</td><td>1206709</td><td>FALSE</td><td>K562</td><td>⋯</td><td>0.2234074</td><td>2.3065745</td><td>0</td><td>0</td><td>0.1428571</td><td>1.8571429</td><td>0</td><td>0</td><td>12.672126</td><td>0.4113472</td></tr>\n",
       "</tbody>\n",
       "</table>\n"
      ],
      "text/latex": [
       "A tibble: 6 × 57\n",
       "\\begin{tabular}{lllllllllllllllllllll}\n",
       " chr & start & end & name & class & TargetGene & TargetGeneEnsemblID & TargetGeneTSS & isSelfPromoter & CellType & ⋯ & phastConMax.Feature & phyloPMax.Feature & P2PromoterClass.Feature & ubiquitousExpressedGene.Feature & HiCLoopOutsideNormalized.Feature & HiCLoopCrossNormalized.Feature & inTAD.Feature & inCCD.Feature & normalizedEP300\\_enhActivity.Feature & Score\\\\\n",
       " <chr> & <dbl> & <dbl> & <chr> & <chr> & <chr> & <chr> & <dbl> & <lgl> & <chr> & ⋯ & <dbl> & <dbl> & <dbl> & <dbl> & <dbl> & <dbl> & <dbl> & <dbl> & <dbl> & <dbl>\\\\\n",
       "\\hline\n",
       "\t chr1 & 115484 & 115984 & chr1:115484-115984 & intergenic & SAMD11   & ENSG00000187634 &  925740 & FALSE & K562 & ⋯ & 0.4244211 & 0.4244211 & 0 & 0 & 0.3333333 & 0.3333333 & 0 & 0 &  7.489511 & 0.4101592\\\\\n",
       "\t chr1 & 628759 & 629259 & chr1:628759-629259 & promoter   & PLEKHN1  & ENSG00000187583 &  966496 & FALSE & K562 & ⋯ & 0.2234074 & 2.3065745 & 0 & 0 & 0.3333333 & 1.3333333 & 0 & 0 & 12.672126 & 0.3489636\\\\\n",
       "\t chr1 & 628759 & 629259 & chr1:628759-629259 & promoter   & RNF223   & ENSG00000237330 & 1074307 & FALSE & K562 & ⋯ & 0.2234074 & 2.3065745 & 0 & 0 & 0.3333333 & 2.6666667 & 0 & 0 & 12.672126 & 0.3438472\\\\\n",
       "\t chr1 & 628759 & 629259 & chr1:628759-629259 & promoter   & SAMD11   & ENSG00000187634 &  925740 & FALSE & K562 & ⋯ & 0.2234074 & 2.3065745 & 0 & 0 & 0.3333333 & 0.6666667 & 0 & 0 & 12.672126 & 0.4635418\\\\\n",
       "\t chr1 & 628759 & 629259 & chr1:628759-629259 & promoter   & SCNN1D   & ENSG00000162572 & 1280435 & FALSE & K562 & ⋯ & 0.2234074 & 2.3065745 & 0 & 0 & 0.2500000 & 3.0000000 & 0 & 0 & 12.672126 & 0.3262141\\\\\n",
       "\t chr1 & 628759 & 629259 & chr1:628759-629259 & promoter   & TNFRSF18 & ENSG00000186891 & 1206709 & FALSE & K562 & ⋯ & 0.2234074 & 2.3065745 & 0 & 0 & 0.1428571 & 1.8571429 & 0 & 0 & 12.672126 & 0.4113472\\\\\n",
       "\\end{tabular}\n"
      ],
      "text/markdown": [
       "\n",
       "A tibble: 6 × 57\n",
       "\n",
       "| chr &lt;chr&gt; | start &lt;dbl&gt; | end &lt;dbl&gt; | name &lt;chr&gt; | class &lt;chr&gt; | TargetGene &lt;chr&gt; | TargetGeneEnsemblID &lt;chr&gt; | TargetGeneTSS &lt;dbl&gt; | isSelfPromoter &lt;lgl&gt; | CellType &lt;chr&gt; | ⋯ ⋯ | phastConMax.Feature &lt;dbl&gt; | phyloPMax.Feature &lt;dbl&gt; | P2PromoterClass.Feature &lt;dbl&gt; | ubiquitousExpressedGene.Feature &lt;dbl&gt; | HiCLoopOutsideNormalized.Feature &lt;dbl&gt; | HiCLoopCrossNormalized.Feature &lt;dbl&gt; | inTAD.Feature &lt;dbl&gt; | inCCD.Feature &lt;dbl&gt; | normalizedEP300_enhActivity.Feature &lt;dbl&gt; | Score &lt;dbl&gt; |\n",
       "|---|---|---|---|---|---|---|---|---|---|---|---|---|---|---|---|---|---|---|---|---|\n",
       "| chr1 | 115484 | 115984 | chr1:115484-115984 | intergenic | SAMD11   | ENSG00000187634 |  925740 | FALSE | K562 | ⋯ | 0.4244211 | 0.4244211 | 0 | 0 | 0.3333333 | 0.3333333 | 0 | 0 |  7.489511 | 0.4101592 |\n",
       "| chr1 | 628759 | 629259 | chr1:628759-629259 | promoter   | PLEKHN1  | ENSG00000187583 |  966496 | FALSE | K562 | ⋯ | 0.2234074 | 2.3065745 | 0 | 0 | 0.3333333 | 1.3333333 | 0 | 0 | 12.672126 | 0.3489636 |\n",
       "| chr1 | 628759 | 629259 | chr1:628759-629259 | promoter   | RNF223   | ENSG00000237330 | 1074307 | FALSE | K562 | ⋯ | 0.2234074 | 2.3065745 | 0 | 0 | 0.3333333 | 2.6666667 | 0 | 0 | 12.672126 | 0.3438472 |\n",
       "| chr1 | 628759 | 629259 | chr1:628759-629259 | promoter   | SAMD11   | ENSG00000187634 |  925740 | FALSE | K562 | ⋯ | 0.2234074 | 2.3065745 | 0 | 0 | 0.3333333 | 0.6666667 | 0 | 0 | 12.672126 | 0.4635418 |\n",
       "| chr1 | 628759 | 629259 | chr1:628759-629259 | promoter   | SCNN1D   | ENSG00000162572 | 1280435 | FALSE | K562 | ⋯ | 0.2234074 | 2.3065745 | 0 | 0 | 0.2500000 | 3.0000000 | 0 | 0 | 12.672126 | 0.3262141 |\n",
       "| chr1 | 628759 | 629259 | chr1:628759-629259 | promoter   | TNFRSF18 | ENSG00000186891 | 1206709 | FALSE | K562 | ⋯ | 0.2234074 | 2.3065745 | 0 | 0 | 0.1428571 | 1.8571429 | 0 | 0 | 12.672126 | 0.4113472 |\n",
       "\n"
      ],
      "text/plain": [
       "  chr  start  end    name               class      TargetGene\n",
       "1 chr1 115484 115984 chr1:115484-115984 intergenic SAMD11    \n",
       "2 chr1 628759 629259 chr1:628759-629259 promoter   PLEKHN1   \n",
       "3 chr1 628759 629259 chr1:628759-629259 promoter   RNF223    \n",
       "4 chr1 628759 629259 chr1:628759-629259 promoter   SAMD11    \n",
       "5 chr1 628759 629259 chr1:628759-629259 promoter   SCNN1D    \n",
       "6 chr1 628759 629259 chr1:628759-629259 promoter   TNFRSF18  \n",
       "  TargetGeneEnsemblID TargetGeneTSS isSelfPromoter CellType ⋯\n",
       "1 ENSG00000187634      925740       FALSE          K562     ⋯\n",
       "2 ENSG00000187583      966496       FALSE          K562     ⋯\n",
       "3 ENSG00000237330     1074307       FALSE          K562     ⋯\n",
       "4 ENSG00000187634      925740       FALSE          K562     ⋯\n",
       "5 ENSG00000162572     1280435       FALSE          K562     ⋯\n",
       "6 ENSG00000186891     1206709       FALSE          K562     ⋯\n",
       "  phastConMax.Feature phyloPMax.Feature P2PromoterClass.Feature\n",
       "1 0.4244211           0.4244211         0                      \n",
       "2 0.2234074           2.3065745         0                      \n",
       "3 0.2234074           2.3065745         0                      \n",
       "4 0.2234074           2.3065745         0                      \n",
       "5 0.2234074           2.3065745         0                      \n",
       "6 0.2234074           2.3065745         0                      \n",
       "  ubiquitousExpressedGene.Feature HiCLoopOutsideNormalized.Feature\n",
       "1 0                               0.3333333                       \n",
       "2 0                               0.3333333                       \n",
       "3 0                               0.3333333                       \n",
       "4 0                               0.3333333                       \n",
       "5 0                               0.2500000                       \n",
       "6 0                               0.1428571                       \n",
       "  HiCLoopCrossNormalized.Feature inTAD.Feature inCCD.Feature\n",
       "1 0.3333333                      0             0            \n",
       "2 1.3333333                      0             0            \n",
       "3 2.6666667                      0             0            \n",
       "4 0.6666667                      0             0            \n",
       "5 3.0000000                      0             0            \n",
       "6 1.8571429                      0             0            \n",
       "  normalizedEP300_enhActivity.Feature Score    \n",
       "1  7.489511                           0.4101592\n",
       "2 12.672126                           0.3489636\n",
       "3 12.672126                           0.3438472\n",
       "4 12.672126                           0.4635418\n",
       "5 12.672126                           0.3262141\n",
       "6 12.672126                           0.4113472"
      ]
     },
     "metadata": {},
     "output_type": "display_data"
    }
   ],
   "source": [
    "fdiry = file.path(FD_RES, \"source\", \"ENCODE_E2G\", \"annotation_e2g_prediction_ENCSR328LMT\")\n",
    "fname = \"K562.ENCSR328LMT.ENCFF202FID.element_gene_links.thresholded.bed.gz\"\n",
    "fpath = file.path(fdiry, fname)\n",
    "\n",
    "dat = read_tsv(fpath, show_col_types = FALSE)\n",
    "colnames(dat)[1] = \"chr\"\n",
    "\n",
    "dat_peak_encode_e2g_active_import = dat\n",
    "print(dim(dat))\n",
    "head(dat)"
   ]
  },
  {
   "cell_type": "code",
   "execution_count": 4,
   "metadata": {},
   "outputs": [
    {
     "name": "stdout",
     "output_type": "stream",
     "text": [
      "chr \n",
      "start \n",
      "end \n",
      "name \n",
      "class \n",
      "TargetGene \n",
      "TargetGeneEnsemblID \n",
      "TargetGeneTSS \n",
      "isSelfPromoter \n",
      "CellType \n",
      "EpiMapScore.Feature \n",
      "glsCoefficient.Feature \n",
      "numTSSEnhGene.Feature \n",
      "distanceToTSS.Feature \n",
      "normalizedDNase_enh.Feature \n",
      "normalizedDNase_prom.Feature \n",
      "normalizedH3K27ac_enh.Feature \n",
      "normalizedH3K27ac_prom.Feature \n",
      "activity_enh.Feature \n",
      "3DContact.Feature \n",
      "activity_enh_squared.Feature \n",
      "3DContact_squared.Feature \n",
      "activity_prom.Feature \n",
      "ABCNumerator.Feature \n",
      "ABCScore.Feature \n",
      "ABCDenominator.Feature \n",
      "numNearbyEnhancers.Feature \n",
      "sumNearbyEnhancers.Feature \n",
      "PEToutsideNormalized.Feature \n",
      "PETcrossNormalized.Feature \n",
      "promCTCF.Feature \n",
      "enhCTCF.Feature \n",
      "H3K4me3_e_max_L_8.Feature \n",
      "H3K4me3_e_grad_max_L_8.Feature \n",
      "H3K27ac_e_grad_max_L_8.Feature \n",
      "DNase_e_grad_max_L_8.Feature \n",
      "H3K4me3_e_grad_min_L_8.Feature \n",
      "H3K27ac_e_grad_min_L_8.Feature \n",
      "DNase_e_grad_min_L_8.Feature \n",
      "H3K4me3_p_max_L_8.Feature \n",
      "H3K4me3_p_grad_max_L_8.Feature \n",
      "H3K27ac_p_grad_max_L_8.Feature \n",
      "DNase_p_grad_max_L_8.Feature \n",
      "H3K4me3_p_grad_min_L_8.Feature \n",
      "H3K27ac_p_grad_min_L_8.Feature \n",
      "DNase_p_grad_min_L_8.Feature \n",
      "averageCorrWeighted.Feature \n",
      "phastConMax.Feature \n",
      "phyloPMax.Feature \n",
      "P2PromoterClass.Feature \n",
      "ubiquitousExpressedGene.Feature \n",
      "HiCLoopOutsideNormalized.Feature \n",
      "HiCLoopCrossNormalized.Feature \n",
      "inTAD.Feature \n",
      "inCCD.Feature \n",
      "normalizedEP300_enhActivity.Feature \n",
      "Score \n"
     ]
    }
   ],
   "source": [
    "for (txt in colnames(dat)){cat(txt, \"\\n\")}"
   ]
  },
  {
   "cell_type": "code",
   "execution_count": 11,
   "metadata": {},
   "outputs": [
    {
     "data": {
      "text/html": [
       "<table class=\"dataframe\">\n",
       "<caption>A tibble: 10 × 12</caption>\n",
       "<thead>\n",
       "\t<tr><th scope=col>chr</th><th scope=col>start</th><th scope=col>end</th><th scope=col>class</th><th scope=col>TargetGene</th><th scope=col>distanceToTSS.Feature</th><th scope=col>normalizedDNase_enh.Feature</th><th scope=col>normalizedDNase_prom.Feature</th><th scope=col>normalizedH3K27ac_enh.Feature</th><th scope=col>normalizedH3K27ac_prom.Feature</th><th scope=col>activity_enh.Feature</th><th scope=col>3DContact.Feature</th></tr>\n",
       "\t<tr><th scope=col>&lt;chr&gt;</th><th scope=col>&lt;dbl&gt;</th><th scope=col>&lt;dbl&gt;</th><th scope=col>&lt;chr&gt;</th><th scope=col>&lt;chr&gt;</th><th scope=col>&lt;dbl&gt;</th><th scope=col>&lt;dbl&gt;</th><th scope=col>&lt;dbl&gt;</th><th scope=col>&lt;dbl&gt;</th><th scope=col>&lt;dbl&gt;</th><th scope=col>&lt;dbl&gt;</th><th scope=col>&lt;dbl&gt;</th></tr>\n",
       "</thead>\n",
       "<tbody>\n",
       "\t<tr><td>chr1</td><td>115484</td><td>115984</td><td>intergenic</td><td>SAMD11   </td><td> 810006</td><td>4.368531</td><td>0.534821</td><td>0.614170</td><td>0.323086</td><td>1.637993</td><td>0.000000</td></tr>\n",
       "\t<tr><td>chr1</td><td>628759</td><td>629259</td><td>promoter  </td><td>PLEKHN1  </td><td> 337487</td><td>0.900822</td><td>0.622766</td><td>0.203454</td><td>0.626927</td><td>0.428107</td><td>0.000000</td></tr>\n",
       "\t<tr><td>chr1</td><td>628759</td><td>629259</td><td>promoter  </td><td>RNF223   </td><td> 445298</td><td>0.900822</td><td>0.436014</td><td>0.203454</td><td>0.323086</td><td>0.428107</td><td>0.000000</td></tr>\n",
       "\t<tr><td>chr1</td><td>628759</td><td>629259</td><td>promoter  </td><td>SAMD11   </td><td> 296731</td><td>0.900822</td><td>0.534821</td><td>0.203454</td><td>0.323086</td><td>0.428107</td><td>0.000000</td></tr>\n",
       "\t<tr><td>chr1</td><td>628759</td><td>629259</td><td>promoter  </td><td>SCNN1D   </td><td> 651426</td><td>0.900822</td><td>0.280128</td><td>0.203454</td><td>0.460198</td><td>0.428107</td><td>0.000000</td></tr>\n",
       "\t<tr><td>chr1</td><td>628759</td><td>629259</td><td>promoter  </td><td>TNFRSF18 </td><td> 577700</td><td>0.900822</td><td>0.447368</td><td>0.203454</td><td>0.323086</td><td>0.428107</td><td>0.023449</td></tr>\n",
       "\t<tr><td>chr1</td><td>628759</td><td>629259</td><td>promoter  </td><td>TTLL10   </td><td> 550687</td><td>0.900822</td><td>0.442040</td><td>0.203454</td><td>0.409227</td><td>0.428107</td><td>0.000000</td></tr>\n",
       "\t<tr><td>chr1</td><td>629372</td><td>629872</td><td>promoter  </td><td>AGRN     </td><td> 390500</td><td>5.436387</td><td>0.668655</td><td>0.614170</td><td>0.656317</td><td>1.827256</td><td>0.000000</td></tr>\n",
       "\t<tr><td>chr1</td><td>629372</td><td>629872</td><td>promoter  </td><td>CFAP74   </td><td>1374215</td><td>5.436387</td><td>0.492130</td><td>0.614170</td><td>0.521643</td><td>1.827256</td><td>0.000000</td></tr>\n",
       "\t<tr><td>chr1</td><td>629372</td><td>629872</td><td>promoter  </td><td>LINC01342</td><td> 507394</td><td>5.436387</td><td>0.404288</td><td>0.614170</td><td>0.409227</td><td>1.827256</td><td>0.000000</td></tr>\n",
       "</tbody>\n",
       "</table>\n"
      ],
      "text/latex": [
       "A tibble: 10 × 12\n",
       "\\begin{tabular}{llllllllllll}\n",
       " chr & start & end & class & TargetGene & distanceToTSS.Feature & normalizedDNase\\_enh.Feature & normalizedDNase\\_prom.Feature & normalizedH3K27ac\\_enh.Feature & normalizedH3K27ac\\_prom.Feature & activity\\_enh.Feature & 3DContact.Feature\\\\\n",
       " <chr> & <dbl> & <dbl> & <chr> & <chr> & <dbl> & <dbl> & <dbl> & <dbl> & <dbl> & <dbl> & <dbl>\\\\\n",
       "\\hline\n",
       "\t chr1 & 115484 & 115984 & intergenic & SAMD11    &  810006 & 4.368531 & 0.534821 & 0.614170 & 0.323086 & 1.637993 & 0.000000\\\\\n",
       "\t chr1 & 628759 & 629259 & promoter   & PLEKHN1   &  337487 & 0.900822 & 0.622766 & 0.203454 & 0.626927 & 0.428107 & 0.000000\\\\\n",
       "\t chr1 & 628759 & 629259 & promoter   & RNF223    &  445298 & 0.900822 & 0.436014 & 0.203454 & 0.323086 & 0.428107 & 0.000000\\\\\n",
       "\t chr1 & 628759 & 629259 & promoter   & SAMD11    &  296731 & 0.900822 & 0.534821 & 0.203454 & 0.323086 & 0.428107 & 0.000000\\\\\n",
       "\t chr1 & 628759 & 629259 & promoter   & SCNN1D    &  651426 & 0.900822 & 0.280128 & 0.203454 & 0.460198 & 0.428107 & 0.000000\\\\\n",
       "\t chr1 & 628759 & 629259 & promoter   & TNFRSF18  &  577700 & 0.900822 & 0.447368 & 0.203454 & 0.323086 & 0.428107 & 0.023449\\\\\n",
       "\t chr1 & 628759 & 629259 & promoter   & TTLL10    &  550687 & 0.900822 & 0.442040 & 0.203454 & 0.409227 & 0.428107 & 0.000000\\\\\n",
       "\t chr1 & 629372 & 629872 & promoter   & AGRN      &  390500 & 5.436387 & 0.668655 & 0.614170 & 0.656317 & 1.827256 & 0.000000\\\\\n",
       "\t chr1 & 629372 & 629872 & promoter   & CFAP74    & 1374215 & 5.436387 & 0.492130 & 0.614170 & 0.521643 & 1.827256 & 0.000000\\\\\n",
       "\t chr1 & 629372 & 629872 & promoter   & LINC01342 &  507394 & 5.436387 & 0.404288 & 0.614170 & 0.409227 & 1.827256 & 0.000000\\\\\n",
       "\\end{tabular}\n"
      ],
      "text/markdown": [
       "\n",
       "A tibble: 10 × 12\n",
       "\n",
       "| chr &lt;chr&gt; | start &lt;dbl&gt; | end &lt;dbl&gt; | class &lt;chr&gt; | TargetGene &lt;chr&gt; | distanceToTSS.Feature &lt;dbl&gt; | normalizedDNase_enh.Feature &lt;dbl&gt; | normalizedDNase_prom.Feature &lt;dbl&gt; | normalizedH3K27ac_enh.Feature &lt;dbl&gt; | normalizedH3K27ac_prom.Feature &lt;dbl&gt; | activity_enh.Feature &lt;dbl&gt; | 3DContact.Feature &lt;dbl&gt; |\n",
       "|---|---|---|---|---|---|---|---|---|---|---|---|\n",
       "| chr1 | 115484 | 115984 | intergenic | SAMD11    |  810006 | 4.368531 | 0.534821 | 0.614170 | 0.323086 | 1.637993 | 0.000000 |\n",
       "| chr1 | 628759 | 629259 | promoter   | PLEKHN1   |  337487 | 0.900822 | 0.622766 | 0.203454 | 0.626927 | 0.428107 | 0.000000 |\n",
       "| chr1 | 628759 | 629259 | promoter   | RNF223    |  445298 | 0.900822 | 0.436014 | 0.203454 | 0.323086 | 0.428107 | 0.000000 |\n",
       "| chr1 | 628759 | 629259 | promoter   | SAMD11    |  296731 | 0.900822 | 0.534821 | 0.203454 | 0.323086 | 0.428107 | 0.000000 |\n",
       "| chr1 | 628759 | 629259 | promoter   | SCNN1D    |  651426 | 0.900822 | 0.280128 | 0.203454 | 0.460198 | 0.428107 | 0.000000 |\n",
       "| chr1 | 628759 | 629259 | promoter   | TNFRSF18  |  577700 | 0.900822 | 0.447368 | 0.203454 | 0.323086 | 0.428107 | 0.023449 |\n",
       "| chr1 | 628759 | 629259 | promoter   | TTLL10    |  550687 | 0.900822 | 0.442040 | 0.203454 | 0.409227 | 0.428107 | 0.000000 |\n",
       "| chr1 | 629372 | 629872 | promoter   | AGRN      |  390500 | 5.436387 | 0.668655 | 0.614170 | 0.656317 | 1.827256 | 0.000000 |\n",
       "| chr1 | 629372 | 629872 | promoter   | CFAP74    | 1374215 | 5.436387 | 0.492130 | 0.614170 | 0.521643 | 1.827256 | 0.000000 |\n",
       "| chr1 | 629372 | 629872 | promoter   | LINC01342 |  507394 | 5.436387 | 0.404288 | 0.614170 | 0.409227 | 1.827256 | 0.000000 |\n",
       "\n"
      ],
      "text/plain": [
       "   chr  start  end    class      TargetGene distanceToTSS.Feature\n",
       "1  chr1 115484 115984 intergenic SAMD11      810006              \n",
       "2  chr1 628759 629259 promoter   PLEKHN1     337487              \n",
       "3  chr1 628759 629259 promoter   RNF223      445298              \n",
       "4  chr1 628759 629259 promoter   SAMD11      296731              \n",
       "5  chr1 628759 629259 promoter   SCNN1D      651426              \n",
       "6  chr1 628759 629259 promoter   TNFRSF18    577700              \n",
       "7  chr1 628759 629259 promoter   TTLL10      550687              \n",
       "8  chr1 629372 629872 promoter   AGRN        390500              \n",
       "9  chr1 629372 629872 promoter   CFAP74     1374215              \n",
       "10 chr1 629372 629872 promoter   LINC01342   507394              \n",
       "   normalizedDNase_enh.Feature normalizedDNase_prom.Feature\n",
       "1  4.368531                    0.534821                    \n",
       "2  0.900822                    0.622766                    \n",
       "3  0.900822                    0.436014                    \n",
       "4  0.900822                    0.534821                    \n",
       "5  0.900822                    0.280128                    \n",
       "6  0.900822                    0.447368                    \n",
       "7  0.900822                    0.442040                    \n",
       "8  5.436387                    0.668655                    \n",
       "9  5.436387                    0.492130                    \n",
       "10 5.436387                    0.404288                    \n",
       "   normalizedH3K27ac_enh.Feature normalizedH3K27ac_prom.Feature\n",
       "1  0.614170                      0.323086                      \n",
       "2  0.203454                      0.626927                      \n",
       "3  0.203454                      0.323086                      \n",
       "4  0.203454                      0.323086                      \n",
       "5  0.203454                      0.460198                      \n",
       "6  0.203454                      0.323086                      \n",
       "7  0.203454                      0.409227                      \n",
       "8  0.614170                      0.656317                      \n",
       "9  0.614170                      0.521643                      \n",
       "10 0.614170                      0.409227                      \n",
       "   activity_enh.Feature 3DContact.Feature\n",
       "1  1.637993             0.000000         \n",
       "2  0.428107             0.000000         \n",
       "3  0.428107             0.000000         \n",
       "4  0.428107             0.000000         \n",
       "5  0.428107             0.000000         \n",
       "6  0.428107             0.023449         \n",
       "7  0.428107             0.000000         \n",
       "8  1.827256             0.000000         \n",
       "9  1.827256             0.000000         \n",
       "10 1.827256             0.000000         "
      ]
     },
     "metadata": {},
     "output_type": "display_data"
    }
   ],
   "source": [
    "dat = dat_peak_encode_e2g_active_import\n",
    "dat = dat %>% dplyr::select(\n",
    "    chr,\n",
    "    start,\n",
    "    end,\n",
    "    class, \n",
    "    TargetGene,\n",
    "    distanceToTSS.Feature,\n",
    "    normalizedDNase_enh.Feature,\n",
    "    normalizedDNase_prom.Feature, \n",
    "    normalizedH3K27ac_enh.Feature, \n",
    "    normalizedH3K27ac_prom.Feature, \n",
    "    activity_enh.Feature,\n",
    "    `3DContact.Feature`\n",
    ")\n",
    "head(dat, 10)"
   ]
  },
  {
   "cell_type": "code",
   "execution_count": null,
   "metadata": {},
   "outputs": [],
   "source": []
  },
  {
   "cell_type": "code",
   "execution_count": null,
   "metadata": {},
   "outputs": [],
   "source": []
  },
  {
   "cell_type": "markdown",
   "metadata": {},
   "source": [
    "## Explore"
   ]
  },
  {
   "cell_type": "markdown",
   "metadata": {},
   "source": [
    "**Explore: Cell Type**"
   ]
  },
  {
   "cell_type": "code",
   "execution_count": 6,
   "metadata": {},
   "outputs": [
    {
     "data": {
      "text/plain": [
       "\n",
       "   K562 \n",
       "9599924 "
      ]
     },
     "metadata": {},
     "output_type": "display_data"
    }
   ],
   "source": [
    "dat = dat_peak_encode_e2g_total_import\n",
    "table(dat$CellType)"
   ]
  },
  {
   "cell_type": "markdown",
   "metadata": {},
   "source": [
    "**Explore: Gene**"
   ]
  },
  {
   "cell_type": "code",
   "execution_count": 7,
   "metadata": {},
   "outputs": [
    {
     "name": "stdout",
     "output_type": "stream",
     "text": [
      "[1] 14643\n",
      "[1] 14627\n",
      "[1] 14627\n",
      "[1] 16\n"
     ]
    }
   ],
   "source": [
    "###\n",
    "dat = dat_peak_encode_e2g_total_import\n",
    "vec = unique(dat$TargetGene)\n",
    "vec_txt_gene_total = vec\n",
    "print(length(vec))\n",
    "\n",
    "###\n",
    "dat = dat_peak_encode_e2g_active_import\n",
    "vec = unique(dat$TargetGene)\n",
    "vec_txt_gene_active = vec\n",
    "print(length(vec))\n",
    "\n",
    "###\n",
    "vec = intersect(\n",
    "    vec_txt_gene_total,\n",
    "    vec_txt_gene_active\n",
    ")\n",
    "print(length(vec))\n",
    "\n",
    "###\n",
    "vec = setdiff(\n",
    "    vec_txt_gene_total,\n",
    "    vec_txt_gene_active\n",
    ")\n",
    "print(length(vec))"
   ]
  },
  {
   "cell_type": "markdown",
   "metadata": {},
   "source": [
    "**Explore: Regions**"
   ]
  },
  {
   "cell_type": "code",
   "execution_count": 8,
   "metadata": {},
   "outputs": [
    {
     "name": "stdout",
     "output_type": "stream",
     "text": [
      "[1] 133767\n",
      "[1] 51829\n",
      "[1] 51829\n"
     ]
    }
   ],
   "source": [
    "###\n",
    "dat = dat_peak_encode_e2g_total_import\n",
    "vec = unique(dat$name)\n",
    "vec_txt_region_total = vec\n",
    "print(length(vec))\n",
    "\n",
    "###\n",
    "dat = dat_peak_encode_e2g_active_import\n",
    "vec = unique(dat$name)\n",
    "vec_txt_region_active = vec\n",
    "print(length(vec))\n",
    "\n",
    "###\n",
    "vec = intersect(\n",
    "    vec_txt_region_total,\n",
    "    vec_txt_region_active\n",
    ")\n",
    "print(length(vec))"
   ]
  },
  {
   "cell_type": "markdown",
   "metadata": {},
   "source": [
    "## Get inactive regions"
   ]
  },
  {
   "cell_type": "code",
   "execution_count": 20,
   "metadata": {},
   "outputs": [
    {
     "name": "stdout",
     "output_type": "stream",
     "text": [
      "[1] 83427\n",
      "[1] 51829\n",
      "[1] 32206\n"
     ]
    }
   ],
   "source": [
    "###\n",
    "dat = dat_peak_encode_e2g_total_import\n",
    "vec = unique(dat$name)\n",
    "vec_txt_region_total = vec\n",
    "print(length(vec))\n",
    "\n",
    "###\n",
    "dat = dat_peak_encode_e2g_active_import\n",
    "vec = unique(dat$name)\n",
    "vec_txt_region_active = vec\n",
    "print(length(vec))\n",
    "\n",
    "###\n",
    "vec = intersect(\n",
    "    vec_txt_region_total,\n",
    "    vec_txt_region_active\n",
    ")\n",
    "print(length(vec))"
   ]
  },
  {
   "cell_type": "markdown",
   "metadata": {},
   "source": [
    "**Explore: Score**"
   ]
  },
  {
   "cell_type": "code",
   "execution_count": 21,
   "metadata": {},
   "outputs": [
    {
     "data": {
      "text/plain": [
       "     Min.   1st Qu.    Median      Mean   3rd Qu.      Max. \n",
       "0.0000001 0.0003038 0.0012194 0.0156493 0.0052555 1.0000000 "
      ]
     },
     "metadata": {},
     "output_type": "display_data"
    }
   ],
   "source": [
    "dat = dat_peak_encode_e2g_total_import\n",
    "vec = dat$Score\n",
    "summary(vec)"
   ]
  },
  {
   "cell_type": "code",
   "execution_count": 22,
   "metadata": {},
   "outputs": [
    {
     "data": {
      "text/plain": [
       "   Min. 1st Qu.  Median    Mean 3rd Qu.    Max. \n",
       " 0.3192  0.4287  0.6076  0.6436  0.8669  1.0000 "
      ]
     },
     "metadata": {},
     "output_type": "display_data"
    }
   ],
   "source": [
    "dat = dat_peak_encode_e2g_active_import\n",
    "vec = dat$Score\n",
    "summary(vec)"
   ]
  },
  {
   "cell_type": "code",
   "execution_count": 26,
   "metadata": {},
   "outputs": [
    {
     "data": {
      "text/plain": [
       "     Min.   1st Qu.    Median      Mean   3rd Qu.      Max. \n",
       "0.0000001 0.0002148 0.0008003 0.0054026 0.0031662 0.3191409 "
      ]
     },
     "metadata": {},
     "output_type": "display_data"
    }
   ],
   "source": [
    "dat = dat_peak_encode_e2g_inactive\n",
    "vec = dat$Score\n",
    "summary(vec)"
   ]
  },
  {
   "cell_type": "code",
   "execution_count": 25,
   "metadata": {},
   "outputs": [
    {
     "name": "stdout",
     "output_type": "stream",
     "text": [
      "[1] 4078518      57\n"
     ]
    },
    {
     "data": {
      "text/html": [
       "<table class=\"dataframe\">\n",
       "<caption>A tibble: 6 × 57</caption>\n",
       "<thead>\n",
       "\t<tr><th scope=col>chr</th><th scope=col>start</th><th scope=col>end</th><th scope=col>name</th><th scope=col>class</th><th scope=col>TargetGene</th><th scope=col>TargetGeneEnsemblID</th><th scope=col>TargetGeneTSS</th><th scope=col>isSelfPromoter</th><th scope=col>CellType</th><th scope=col>⋯</th><th scope=col>phastConMax.Feature</th><th scope=col>phyloPMax.Feature</th><th scope=col>P2PromoterClass.Feature</th><th scope=col>ubiquitousExpressedGene.Feature</th><th scope=col>HiCLoopOutsideNormalized.Feature</th><th scope=col>HiCLoopCrossNormalized.Feature</th><th scope=col>inTAD.Feature</th><th scope=col>inCCD.Feature</th><th scope=col>normalizedEP300_enhActivity.Feature</th><th scope=col>Score</th></tr>\n",
       "\t<tr><th scope=col>&lt;chr&gt;</th><th scope=col>&lt;dbl&gt;</th><th scope=col>&lt;dbl&gt;</th><th scope=col>&lt;chr&gt;</th><th scope=col>&lt;chr&gt;</th><th scope=col>&lt;chr&gt;</th><th scope=col>&lt;chr&gt;</th><th scope=col>&lt;dbl&gt;</th><th scope=col>&lt;lgl&gt;</th><th scope=col>&lt;chr&gt;</th><th scope=col>⋯</th><th scope=col>&lt;dbl&gt;</th><th scope=col>&lt;dbl&gt;</th><th scope=col>&lt;dbl&gt;</th><th scope=col>&lt;dbl&gt;</th><th scope=col>&lt;dbl&gt;</th><th scope=col>&lt;dbl&gt;</th><th scope=col>&lt;dbl&gt;</th><th scope=col>&lt;dbl&gt;</th><th scope=col>&lt;dbl&gt;</th><th scope=col>&lt;dbl&gt;</th></tr>\n",
       "</thead>\n",
       "<tbody>\n",
       "\t<tr><td>chr1</td><td>11623</td><td>12123</td><td>chr1:11623-12123</td><td>promoter</td><td>ACAP3   </td><td>ENSG00000131584</td><td>1307889</td><td>FALSE</td><td>K562</td><td>⋯</td><td>0.1672692</td><td>0.4213</td><td>0</td><td>0</td><td>0.3333333</td><td>2.0000000</td><td>0</td><td>0</td><td>0.410817</td><td>0.0011958452</td></tr>\n",
       "\t<tr><td>chr1</td><td>11623</td><td>12123</td><td>chr1:11623-12123</td><td>promoter</td><td>AGRN    </td><td>ENSG00000188157</td><td>1020122</td><td>FALSE</td><td>K562</td><td>⋯</td><td>0.1672692</td><td>0.4213</td><td>0</td><td>0</td><td>0.2000000</td><td>0.2000000</td><td>0</td><td>0</td><td>0.410817</td><td>0.0098575491</td></tr>\n",
       "\t<tr><td>chr1</td><td>11623</td><td>12123</td><td>chr1:11623-12123</td><td>promoter</td><td>ATAD3A  </td><td>ENSG00000197785</td><td>1512142</td><td>FALSE</td><td>K562</td><td>⋯</td><td>0.1672692</td><td>0.4213</td><td>1</td><td>0</td><td>0.2500000</td><td>1.2500000</td><td>0</td><td>0</td><td>0.410817</td><td>0.0004062592</td></tr>\n",
       "\t<tr><td>chr1</td><td>11623</td><td>12123</td><td>chr1:11623-12123</td><td>promoter</td><td>ATAD3B  </td><td>ENSG00000160072</td><td>1471754</td><td>FALSE</td><td>K562</td><td>⋯</td><td>0.1672692</td><td>0.4213</td><td>1</td><td>0</td><td>0.2500000</td><td>1.2500000</td><td>0</td><td>0</td><td>0.410817</td><td>0.0006464185</td></tr>\n",
       "\t<tr><td>chr1</td><td>11623</td><td>12123</td><td>chr1:11623-12123</td><td>promoter</td><td>AURKAIP1</td><td>ENSG00000175756</td><td>1375438</td><td>FALSE</td><td>K562</td><td>⋯</td><td>0.1672692</td><td>0.4213</td><td>1</td><td>1</td><td>0.1666667</td><td>0.8333333</td><td>0</td><td>0</td><td>0.410817</td><td>0.0001355707</td></tr>\n",
       "\t<tr><td>chr1</td><td>11623</td><td>12123</td><td>chr1:11623-12123</td><td>promoter</td><td>B3GALT6 </td><td>ENSG00000176022</td><td>1232248</td><td>FALSE</td><td>K562</td><td>⋯</td><td>0.1672692</td><td>0.4213</td><td>1</td><td>1</td><td>0.1666667</td><td>0.5000000</td><td>0</td><td>0</td><td>0.410817</td><td>0.0005891780</td></tr>\n",
       "</tbody>\n",
       "</table>\n"
      ],
      "text/latex": [
       "A tibble: 6 × 57\n",
       "\\begin{tabular}{lllllllllllllllllllll}\n",
       " chr & start & end & name & class & TargetGene & TargetGeneEnsemblID & TargetGeneTSS & isSelfPromoter & CellType & ⋯ & phastConMax.Feature & phyloPMax.Feature & P2PromoterClass.Feature & ubiquitousExpressedGene.Feature & HiCLoopOutsideNormalized.Feature & HiCLoopCrossNormalized.Feature & inTAD.Feature & inCCD.Feature & normalizedEP300\\_enhActivity.Feature & Score\\\\\n",
       " <chr> & <dbl> & <dbl> & <chr> & <chr> & <chr> & <chr> & <dbl> & <lgl> & <chr> & ⋯ & <dbl> & <dbl> & <dbl> & <dbl> & <dbl> & <dbl> & <dbl> & <dbl> & <dbl> & <dbl>\\\\\n",
       "\\hline\n",
       "\t chr1 & 11623 & 12123 & chr1:11623-12123 & promoter & ACAP3    & ENSG00000131584 & 1307889 & FALSE & K562 & ⋯ & 0.1672692 & 0.4213 & 0 & 0 & 0.3333333 & 2.0000000 & 0 & 0 & 0.410817 & 0.0011958452\\\\\n",
       "\t chr1 & 11623 & 12123 & chr1:11623-12123 & promoter & AGRN     & ENSG00000188157 & 1020122 & FALSE & K562 & ⋯ & 0.1672692 & 0.4213 & 0 & 0 & 0.2000000 & 0.2000000 & 0 & 0 & 0.410817 & 0.0098575491\\\\\n",
       "\t chr1 & 11623 & 12123 & chr1:11623-12123 & promoter & ATAD3A   & ENSG00000197785 & 1512142 & FALSE & K562 & ⋯ & 0.1672692 & 0.4213 & 1 & 0 & 0.2500000 & 1.2500000 & 0 & 0 & 0.410817 & 0.0004062592\\\\\n",
       "\t chr1 & 11623 & 12123 & chr1:11623-12123 & promoter & ATAD3B   & ENSG00000160072 & 1471754 & FALSE & K562 & ⋯ & 0.1672692 & 0.4213 & 1 & 0 & 0.2500000 & 1.2500000 & 0 & 0 & 0.410817 & 0.0006464185\\\\\n",
       "\t chr1 & 11623 & 12123 & chr1:11623-12123 & promoter & AURKAIP1 & ENSG00000175756 & 1375438 & FALSE & K562 & ⋯ & 0.1672692 & 0.4213 & 1 & 1 & 0.1666667 & 0.8333333 & 0 & 0 & 0.410817 & 0.0001355707\\\\\n",
       "\t chr1 & 11623 & 12123 & chr1:11623-12123 & promoter & B3GALT6  & ENSG00000176022 & 1232248 & FALSE & K562 & ⋯ & 0.1672692 & 0.4213 & 1 & 1 & 0.1666667 & 0.5000000 & 0 & 0 & 0.410817 & 0.0005891780\\\\\n",
       "\\end{tabular}\n"
      ],
      "text/markdown": [
       "\n",
       "A tibble: 6 × 57\n",
       "\n",
       "| chr &lt;chr&gt; | start &lt;dbl&gt; | end &lt;dbl&gt; | name &lt;chr&gt; | class &lt;chr&gt; | TargetGene &lt;chr&gt; | TargetGeneEnsemblID &lt;chr&gt; | TargetGeneTSS &lt;dbl&gt; | isSelfPromoter &lt;lgl&gt; | CellType &lt;chr&gt; | ⋯ ⋯ | phastConMax.Feature &lt;dbl&gt; | phyloPMax.Feature &lt;dbl&gt; | P2PromoterClass.Feature &lt;dbl&gt; | ubiquitousExpressedGene.Feature &lt;dbl&gt; | HiCLoopOutsideNormalized.Feature &lt;dbl&gt; | HiCLoopCrossNormalized.Feature &lt;dbl&gt; | inTAD.Feature &lt;dbl&gt; | inCCD.Feature &lt;dbl&gt; | normalizedEP300_enhActivity.Feature &lt;dbl&gt; | Score &lt;dbl&gt; |\n",
       "|---|---|---|---|---|---|---|---|---|---|---|---|---|---|---|---|---|---|---|---|---|\n",
       "| chr1 | 11623 | 12123 | chr1:11623-12123 | promoter | ACAP3    | ENSG00000131584 | 1307889 | FALSE | K562 | ⋯ | 0.1672692 | 0.4213 | 0 | 0 | 0.3333333 | 2.0000000 | 0 | 0 | 0.410817 | 0.0011958452 |\n",
       "| chr1 | 11623 | 12123 | chr1:11623-12123 | promoter | AGRN     | ENSG00000188157 | 1020122 | FALSE | K562 | ⋯ | 0.1672692 | 0.4213 | 0 | 0 | 0.2000000 | 0.2000000 | 0 | 0 | 0.410817 | 0.0098575491 |\n",
       "| chr1 | 11623 | 12123 | chr1:11623-12123 | promoter | ATAD3A   | ENSG00000197785 | 1512142 | FALSE | K562 | ⋯ | 0.1672692 | 0.4213 | 1 | 0 | 0.2500000 | 1.2500000 | 0 | 0 | 0.410817 | 0.0004062592 |\n",
       "| chr1 | 11623 | 12123 | chr1:11623-12123 | promoter | ATAD3B   | ENSG00000160072 | 1471754 | FALSE | K562 | ⋯ | 0.1672692 | 0.4213 | 1 | 0 | 0.2500000 | 1.2500000 | 0 | 0 | 0.410817 | 0.0006464185 |\n",
       "| chr1 | 11623 | 12123 | chr1:11623-12123 | promoter | AURKAIP1 | ENSG00000175756 | 1375438 | FALSE | K562 | ⋯ | 0.1672692 | 0.4213 | 1 | 1 | 0.1666667 | 0.8333333 | 0 | 0 | 0.410817 | 0.0001355707 |\n",
       "| chr1 | 11623 | 12123 | chr1:11623-12123 | promoter | B3GALT6  | ENSG00000176022 | 1232248 | FALSE | K562 | ⋯ | 0.1672692 | 0.4213 | 1 | 1 | 0.1666667 | 0.5000000 | 0 | 0 | 0.410817 | 0.0005891780 |\n",
       "\n"
      ],
      "text/plain": [
       "  chr  start end   name             class    TargetGene TargetGeneEnsemblID\n",
       "1 chr1 11623 12123 chr1:11623-12123 promoter ACAP3      ENSG00000131584    \n",
       "2 chr1 11623 12123 chr1:11623-12123 promoter AGRN       ENSG00000188157    \n",
       "3 chr1 11623 12123 chr1:11623-12123 promoter ATAD3A     ENSG00000197785    \n",
       "4 chr1 11623 12123 chr1:11623-12123 promoter ATAD3B     ENSG00000160072    \n",
       "5 chr1 11623 12123 chr1:11623-12123 promoter AURKAIP1   ENSG00000175756    \n",
       "6 chr1 11623 12123 chr1:11623-12123 promoter B3GALT6    ENSG00000176022    \n",
       "  TargetGeneTSS isSelfPromoter CellType ⋯ phastConMax.Feature phyloPMax.Feature\n",
       "1 1307889       FALSE          K562     ⋯ 0.1672692           0.4213           \n",
       "2 1020122       FALSE          K562     ⋯ 0.1672692           0.4213           \n",
       "3 1512142       FALSE          K562     ⋯ 0.1672692           0.4213           \n",
       "4 1471754       FALSE          K562     ⋯ 0.1672692           0.4213           \n",
       "5 1375438       FALSE          K562     ⋯ 0.1672692           0.4213           \n",
       "6 1232248       FALSE          K562     ⋯ 0.1672692           0.4213           \n",
       "  P2PromoterClass.Feature ubiquitousExpressedGene.Feature\n",
       "1 0                       0                              \n",
       "2 0                       0                              \n",
       "3 1                       0                              \n",
       "4 1                       0                              \n",
       "5 1                       1                              \n",
       "6 1                       1                              \n",
       "  HiCLoopOutsideNormalized.Feature HiCLoopCrossNormalized.Feature inTAD.Feature\n",
       "1 0.3333333                        2.0000000                      0            \n",
       "2 0.2000000                        0.2000000                      0            \n",
       "3 0.2500000                        1.2500000                      0            \n",
       "4 0.2500000                        1.2500000                      0            \n",
       "5 0.1666667                        0.8333333                      0            \n",
       "6 0.1666667                        0.5000000                      0            \n",
       "  inCCD.Feature normalizedEP300_enhActivity.Feature Score       \n",
       "1 0             0.410817                            0.0011958452\n",
       "2 0             0.410817                            0.0098575491\n",
       "3 0             0.410817                            0.0004062592\n",
       "4 0             0.410817                            0.0006464185\n",
       "5 0             0.410817                            0.0001355707\n",
       "6 0             0.410817                            0.0005891780"
      ]
     },
     "metadata": {},
     "output_type": "display_data"
    }
   ],
   "source": [
    "dat = dat_peak_encode_e2g_total_import\n",
    "dat = dat %>%\n",
    "    dplyr::filter(!(name %in% vec_txt_region_active))\n",
    "\n",
    "dat = dat_peak_encode_e2g_inactive = dat\n",
    "print(dim(dat))\n",
    "head(dat)"
   ]
  },
  {
   "cell_type": "code",
   "execution_count": 39,
   "metadata": {},
   "outputs": [
    {
     "name": "stdout",
     "output_type": "stream",
     "text": [
      "[1] 83427     3\n"
     ]
    }
   ],
   "source": [
    "dat = dat_peak_encode_e2g_total_import\n",
    "dat = dat %>%\n",
    "    dplyr::select(chr, start, end) %>%\n",
    "    dplyr::distinct()\n",
    "print(dim(dat))"
   ]
  },
  {
   "cell_type": "code",
   "execution_count": 40,
   "metadata": {},
   "outputs": [
    {
     "name": "stdout",
     "output_type": "stream",
     "text": [
      "[1] 51829     3\n"
     ]
    }
   ],
   "source": [
    "dat = dat_peak_encode_e2g_active_import\n",
    "dat = dat %>%\n",
    "    dplyr::select(chr, start, end) %>%\n",
    "    dplyr::distinct()\n",
    "print(dim(dat))"
   ]
  },
  {
   "cell_type": "code",
   "execution_count": 27,
   "metadata": {},
   "outputs": [
    {
     "name": "stdout",
     "output_type": "stream",
     "text": [
      "[1] 51221     3\n"
     ]
    }
   ],
   "source": [
    "dat = dat_peak_encode_e2g_inactive\n",
    "dat = dat %>%\n",
    "    dplyr::select(chr, start, end) %>%\n",
    "    dplyr::distinct()\n",
    "print(dim(dat))"
   ]
  },
  {
   "cell_type": "code",
   "execution_count": 41,
   "metadata": {},
   "outputs": [
    {
     "name": "stdout",
     "output_type": "stream",
     "text": [
      "[1] 103050      3\n"
     ]
    }
   ],
   "source": [
    "dat = bind_rows(\n",
    "    dat_peak_encode_e2g_total_import, \n",
    "    dat_peak_encode_e2g_active_import)\n",
    "dat = dat %>%\n",
    "    dplyr::select(chr, start, end) %>%\n",
    "    dplyr::distinct()\n",
    "print(dim(dat))"
   ]
  },
  {
   "cell_type": "code",
   "execution_count": null,
   "metadata": {},
   "outputs": [],
   "source": []
  },
  {
   "cell_type": "code",
   "execution_count": null,
   "metadata": {},
   "outputs": [],
   "source": []
  },
  {
   "cell_type": "code",
   "execution_count": null,
   "metadata": {},
   "outputs": [],
   "source": []
  },
  {
   "cell_type": "code",
   "execution_count": 45,
   "metadata": {},
   "outputs": [
    {
     "data": {
      "image/png": "[encoded data removed]",
      "text/plain": [
       "plot without title"
      ]
     },
     "metadata": {
      "image/png": {
       "height": 240,
       "width": 360
      }
     },
     "output_type": "display_data"
    }
   ],
   "source": [
    "dat = dat_peak_encode_e2g_active_import\n",
    "gpt = ggplot(dat, aes(x=Score)) + \n",
    "    geom_histogram(bins=50) +\n",
    "    labs(title=\"ENCFF202FID\") +\n",
    "    theme_cowplot()\n",
    "\n",
    "options(repr.plot.height=4, repr.plot.width=6)\n",
    "print(gpt)"
   ]
  },
  {
   "cell_type": "code",
   "execution_count": 46,
   "metadata": {},
   "outputs": [
    {
     "data": {
      "image/png": "[encoded data removed]",
      "text/plain": [
       "plot without title"
      ]
     },
     "metadata": {
      "image/png": {
       "height": 240,
       "width": 360
      }
     },
     "output_type": "display_data"
    }
   ],
   "source": [
    "dat = dat_peak_encode_e2g_total_import\n",
    "gpt = ggplot(dat, aes(x=Score)) + \n",
    "    geom_histogram(bins=50) +\n",
    "    labs(title=\"ENCFF122UMY\") +\n",
    "    theme_cowplot()\n",
    "\n",
    "options(repr.plot.height=4, repr.plot.width=6)\n",
    "print(gpt)"
   ]
  },
  {
   "cell_type": "code",
   "execution_count": 47,
   "metadata": {},
   "outputs": [
    {
     "data": {
      "image/png": "[encoded data removed]",
      "text/plain": [
       "plot without title"
      ]
     },
     "metadata": {
      "image/png": {
       "height": 240,
       "width": 360
      }
     },
     "output_type": "display_data"
    }
   ],
   "source": [
    "dat = dat_peak_encode_e2g_total_import\n",
    "dat = dat %>% dplyr::filter(Score >= 0.3192)\n",
    "gpt = ggplot(dat, aes(x=Score)) + \n",
    "    geom_histogram(bins=50) +\n",
    "    labs(title=\"ENCFF122UMY (Score >= 0.3192)\") +\n",
    "    theme_cowplot()\n",
    "\n",
    "options(repr.plot.height=4, repr.plot.width=6)\n",
    "print(gpt)"
   ]
  },
  {
   "cell_type": "code",
   "execution_count": 36,
   "metadata": {},
   "outputs": [
    {
     "data": {
      "image/png": "[encoded data removed]",
      "text/plain": [
       "plot without title"
      ]
     },
     "metadata": {
      "image/png": {
       "height": 240,
       "width": 360
      }
     },
     "output_type": "display_data"
    }
   ],
   "source": [
    "dat = dat_peak_encode_e2g_total_import\n",
    "dat = dat %>% dplyr::filter(Score < 0.3192)\n",
    "gpt = ggplot(dat, aes(x=Score)) + \n",
    "    geom_histogram(bins=50) +\n",
    "    theme_cowplot()\n",
    "\n",
    "options(repr.plot.height=4, repr.plot.width=6)\n",
    "print(gpt)"
   ]
  },
  {
   "cell_type": "code",
   "execution_count": 38,
   "metadata": {},
   "outputs": [
    {
     "data": {
      "image/png": "[encoded data removed]",
      "text/plain": [
       "plot without title"
      ]
     },
     "metadata": {
      "image/png": {
       "height": 240,
       "width": 360
      }
     },
     "output_type": "display_data"
    }
   ],
   "source": [
    "dat = dat_peak_encode_e2g_total_import\n",
    "dat = dat %>% dplyr::filter(Score < 0.3192)\n",
    "gpt = ggplot(dat, aes(x=Score)) + \n",
    "    geom_histogram(bins=50) +\n",
    "    scale_y_log10() +\n",
    "    theme_cowplot()\n",
    "\n",
    "options(repr.plot.height=4, repr.plot.width=6)\n",
    "print(gpt)"
   ]
  },
  {
   "cell_type": "markdown",
   "metadata": {},
   "source": [
    "## Arrange"
   ]
  },
  {
   "cell_type": "code",
   "execution_count": 10,
   "metadata": {},
   "outputs": [
    {
     "name": "stdout",
     "output_type": "stream",
     "text": [
      "#Row:  122316 \n",
      "#Gene: 14627 \n"
     ]
    },
    {
     "data": {
      "text/html": [
       "<table class=\"dataframe\">\n",
       "<caption>A tibble: 6 × 11</caption>\n",
       "<thead>\n",
       "\t<tr><th scope=col>Chrom</th><th scope=col>Start</th><th scope=col>End</th><th scope=col>Name</th><th scope=col>Score</th><th scope=col>Region_Class</th><th scope=col>Gene_ENSEMBL</th><th scope=col>Gene_Symbol</th><th scope=col>Gene_TSS</th><th scope=col>Assay_Type</th><th scope=col>Assay_Label</th></tr>\n",
       "\t<tr><th scope=col>&lt;chr&gt;</th><th scope=col>&lt;dbl&gt;</th><th scope=col>&lt;dbl&gt;</th><th scope=col>&lt;chr&gt;</th><th scope=col>&lt;dbl&gt;</th><th scope=col>&lt;chr&gt;</th><th scope=col>&lt;chr&gt;</th><th scope=col>&lt;chr&gt;</th><th scope=col>&lt;dbl&gt;</th><th scope=col>&lt;chr&gt;</th><th scope=col>&lt;chr&gt;</th></tr>\n",
       "</thead>\n",
       "<tbody>\n",
       "\t<tr><td>chr1</td><td>115484</td><td>115984</td><td>chr1:115484-115984</td><td>0.41016</td><td>intergenic</td><td>ENSG00000187634</td><td>SAMD11  </td><td> 925740</td><td>ENCODE-E2G_Prediction</td><td>ENCODE-E2G_Prediction:SAMD11  </td></tr>\n",
       "\t<tr><td>chr1</td><td>628759</td><td>629259</td><td>chr1:628759-629259</td><td>0.34896</td><td>promoter  </td><td>ENSG00000187583</td><td>PLEKHN1 </td><td> 966496</td><td>ENCODE-E2G_Prediction</td><td>ENCODE-E2G_Prediction:PLEKHN1 </td></tr>\n",
       "\t<tr><td>chr1</td><td>628759</td><td>629259</td><td>chr1:628759-629259</td><td>0.34385</td><td>promoter  </td><td>ENSG00000237330</td><td>RNF223  </td><td>1074307</td><td>ENCODE-E2G_Prediction</td><td>ENCODE-E2G_Prediction:RNF223  </td></tr>\n",
       "\t<tr><td>chr1</td><td>628759</td><td>629259</td><td>chr1:628759-629259</td><td>0.46354</td><td>promoter  </td><td>ENSG00000187634</td><td>SAMD11  </td><td> 925740</td><td>ENCODE-E2G_Prediction</td><td>ENCODE-E2G_Prediction:SAMD11  </td></tr>\n",
       "\t<tr><td>chr1</td><td>628759</td><td>629259</td><td>chr1:628759-629259</td><td>0.32621</td><td>promoter  </td><td>ENSG00000162572</td><td>SCNN1D  </td><td>1280435</td><td>ENCODE-E2G_Prediction</td><td>ENCODE-E2G_Prediction:SCNN1D  </td></tr>\n",
       "\t<tr><td>chr1</td><td>628759</td><td>629259</td><td>chr1:628759-629259</td><td>0.41135</td><td>promoter  </td><td>ENSG00000186891</td><td>TNFRSF18</td><td>1206709</td><td>ENCODE-E2G_Prediction</td><td>ENCODE-E2G_Prediction:TNFRSF18</td></tr>\n",
       "</tbody>\n",
       "</table>\n"
      ],
      "text/latex": [
       "A tibble: 6 × 11\n",
       "\\begin{tabular}{lllllllllll}\n",
       " Chrom & Start & End & Name & Score & Region\\_Class & Gene\\_ENSEMBL & Gene\\_Symbol & Gene\\_TSS & Assay\\_Type & Assay\\_Label\\\\\n",
       " <chr> & <dbl> & <dbl> & <chr> & <dbl> & <chr> & <chr> & <chr> & <dbl> & <chr> & <chr>\\\\\n",
       "\\hline\n",
       "\t chr1 & 115484 & 115984 & chr1:115484-115984 & 0.41016 & intergenic & ENSG00000187634 & SAMD11   &  925740 & ENCODE-E2G\\_Prediction & ENCODE-E2G\\_Prediction:SAMD11  \\\\\n",
       "\t chr1 & 628759 & 629259 & chr1:628759-629259 & 0.34896 & promoter   & ENSG00000187583 & PLEKHN1  &  966496 & ENCODE-E2G\\_Prediction & ENCODE-E2G\\_Prediction:PLEKHN1 \\\\\n",
       "\t chr1 & 628759 & 629259 & chr1:628759-629259 & 0.34385 & promoter   & ENSG00000237330 & RNF223   & 1074307 & ENCODE-E2G\\_Prediction & ENCODE-E2G\\_Prediction:RNF223  \\\\\n",
       "\t chr1 & 628759 & 629259 & chr1:628759-629259 & 0.46354 & promoter   & ENSG00000187634 & SAMD11   &  925740 & ENCODE-E2G\\_Prediction & ENCODE-E2G\\_Prediction:SAMD11  \\\\\n",
       "\t chr1 & 628759 & 629259 & chr1:628759-629259 & 0.32621 & promoter   & ENSG00000162572 & SCNN1D   & 1280435 & ENCODE-E2G\\_Prediction & ENCODE-E2G\\_Prediction:SCNN1D  \\\\\n",
       "\t chr1 & 628759 & 629259 & chr1:628759-629259 & 0.41135 & promoter   & ENSG00000186891 & TNFRSF18 & 1206709 & ENCODE-E2G\\_Prediction & ENCODE-E2G\\_Prediction:TNFRSF18\\\\\n",
       "\\end{tabular}\n"
      ],
      "text/markdown": [
       "\n",
       "A tibble: 6 × 11\n",
       "\n",
       "| Chrom &lt;chr&gt; | Start &lt;dbl&gt; | End &lt;dbl&gt; | Name &lt;chr&gt; | Score &lt;dbl&gt; | Region_Class &lt;chr&gt; | Gene_ENSEMBL &lt;chr&gt; | Gene_Symbol &lt;chr&gt; | Gene_TSS &lt;dbl&gt; | Assay_Type &lt;chr&gt; | Assay_Label &lt;chr&gt; |\n",
       "|---|---|---|---|---|---|---|---|---|---|---|\n",
       "| chr1 | 115484 | 115984 | chr1:115484-115984 | 0.41016 | intergenic | ENSG00000187634 | SAMD11   |  925740 | ENCODE-E2G_Prediction | ENCODE-E2G_Prediction:SAMD11   |\n",
       "| chr1 | 628759 | 629259 | chr1:628759-629259 | 0.34896 | promoter   | ENSG00000187583 | PLEKHN1  |  966496 | ENCODE-E2G_Prediction | ENCODE-E2G_Prediction:PLEKHN1  |\n",
       "| chr1 | 628759 | 629259 | chr1:628759-629259 | 0.34385 | promoter   | ENSG00000237330 | RNF223   | 1074307 | ENCODE-E2G_Prediction | ENCODE-E2G_Prediction:RNF223   |\n",
       "| chr1 | 628759 | 629259 | chr1:628759-629259 | 0.46354 | promoter   | ENSG00000187634 | SAMD11   |  925740 | ENCODE-E2G_Prediction | ENCODE-E2G_Prediction:SAMD11   |\n",
       "| chr1 | 628759 | 629259 | chr1:628759-629259 | 0.32621 | promoter   | ENSG00000162572 | SCNN1D   | 1280435 | ENCODE-E2G_Prediction | ENCODE-E2G_Prediction:SCNN1D   |\n",
       "| chr1 | 628759 | 629259 | chr1:628759-629259 | 0.41135 | promoter   | ENSG00000186891 | TNFRSF18 | 1206709 | ENCODE-E2G_Prediction | ENCODE-E2G_Prediction:TNFRSF18 |\n",
       "\n"
      ],
      "text/plain": [
       "  Chrom Start  End    Name               Score   Region_Class Gene_ENSEMBL   \n",
       "1 chr1  115484 115984 chr1:115484-115984 0.41016 intergenic   ENSG00000187634\n",
       "2 chr1  628759 629259 chr1:628759-629259 0.34896 promoter     ENSG00000187583\n",
       "3 chr1  628759 629259 chr1:628759-629259 0.34385 promoter     ENSG00000237330\n",
       "4 chr1  628759 629259 chr1:628759-629259 0.46354 promoter     ENSG00000187634\n",
       "5 chr1  628759 629259 chr1:628759-629259 0.32621 promoter     ENSG00000162572\n",
       "6 chr1  628759 629259 chr1:628759-629259 0.41135 promoter     ENSG00000186891\n",
       "  Gene_Symbol Gene_TSS Assay_Type            Assay_Label                   \n",
       "1 SAMD11       925740  ENCODE-E2G_Prediction ENCODE-E2G_Prediction:SAMD11  \n",
       "2 PLEKHN1      966496  ENCODE-E2G_Prediction ENCODE-E2G_Prediction:PLEKHN1 \n",
       "3 RNF223      1074307  ENCODE-E2G_Prediction ENCODE-E2G_Prediction:RNF223  \n",
       "4 SAMD11       925740  ENCODE-E2G_Prediction ENCODE-E2G_Prediction:SAMD11  \n",
       "5 SCNN1D      1280435  ENCODE-E2G_Prediction ENCODE-E2G_Prediction:SCNN1D  \n",
       "6 TNFRSF18    1206709  ENCODE-E2G_Prediction ENCODE-E2G_Prediction:TNFRSF18"
      ]
     },
     "metadata": {},
     "output_type": "display_data"
    }
   ],
   "source": [
    "dat = dat_peak_encode_e2g_active_import\n",
    "dat = dat %>% \n",
    "    dplyr::rename(\n",
    "        Chrom = chr, \n",
    "        Start = start, \n",
    "        End   = end, \n",
    "        Name  = name)\n",
    "\n",
    "txt = \"ENCODE-E2G_Prediction\"\n",
    "dat = dat %>% \n",
    "    dplyr::mutate(\n",
    "        Score        = round(Score, 5),\n",
    "        Region_Class = class,\n",
    "        Gene_ENSEMBL = TargetGeneEnsemblID,\n",
    "        Gene_Symbol  = TargetGene,\n",
    "        Gene_TSS     = TargetGeneTSS,\n",
    "        Assay_Type   = txt,\n",
    "        Assay_Label  = paste0(txt, \":\", Gene_Symbol)\n",
    "    )\n",
    "\n",
    "vec = c('Chrom','Start','End','Name','Score', \n",
    "        \"Region_Class\", \"Gene_ENSEMBL\", \"Gene_Symbol\", \"Gene_TSS\", \n",
    "        'Assay_Type', 'Assay_Label')\n",
    "dat = dat %>% \n",
    "    dplyr::select({{vec}}) %>% \n",
    "    dplyr::distinct()\n",
    "vec = dat$Gene_Symbol\n",
    "\n",
    "\n",
    "dat_peak_encode_e2g_active_arrange = dat\n",
    "cat(\"#Row: \", nrow(dat), \"\\n\")\n",
    "cat(\"#Gene:\", length(unique(vec)), \"\\n\")\n",
    "head(dat)"
   ]
  },
  {
   "cell_type": "code",
   "execution_count": null,
   "metadata": {},
   "outputs": [],
   "source": []
  },
  {
   "cell_type": "code",
   "execution_count": null,
   "metadata": {},
   "outputs": [],
   "source": []
  },
  {
   "cell_type": "code",
   "execution_count": null,
   "metadata": {},
   "outputs": [],
   "source": []
  },
  {
   "cell_type": "code",
   "execution_count": null,
   "metadata": {},
   "outputs": [],
   "source": []
  },
  {
   "cell_type": "code",
   "execution_count": null,
   "metadata": {},
   "outputs": [],
   "source": []
  },
  {
   "cell_type": "code",
   "execution_count": null,
   "metadata": {},
   "outputs": [],
   "source": []
  },
  {
   "cell_type": "markdown",
   "metadata": {},
   "source": [
    "## Explore"
   ]
  },
  {
   "cell_type": "code",
   "execution_count": 5,
   "metadata": {},
   "outputs": [
    {
     "data": {
      "text/html": [
       "<style>\n",
       ".list-inline {list-style: none; margin:0; padding: 0}\n",
       ".list-inline>li {display: inline-block}\n",
       ".list-inline>li:not(:last-child)::after {content: \"\\00b7\"; padding: 0 .5ex}\n",
       "</style>\n",
       "<ol class=list-inline><li>83427</li><li>3</li></ol>\n"
      ],
      "text/latex": [
       "\\begin{enumerate*}\n",
       "\\item 83427\n",
       "\\item 3\n",
       "\\end{enumerate*}\n"
      ],
      "text/markdown": [
       "1. 83427\n",
       "2. 3\n",
       "\n",
       "\n"
      ],
      "text/plain": [
       "[1] 83427     3"
      ]
     },
     "metadata": {},
     "output_type": "display_data"
    }
   ],
   "source": [
    "dat = dat_peak_crispri_e2g_import\n",
    "colnames(dat)[1] = \"chr\"\n",
    "\n",
    "dat = dat %>% dplyr::select(chr, start, end) %>% dplyr::distinct()\n",
    "dim(dat)"
   ]
  },
  {
   "cell_type": "code",
   "execution_count": 6,
   "metadata": {},
   "outputs": [
    {
     "data": {
      "text/html": [
       "<style>\n",
       ".list-inline {list-style: none; margin:0; padding: 0}\n",
       ".list-inline>li {display: inline-block}\n",
       ".list-inline>li:not(:last-child)::after {content: \"\\00b7\"; padding: 0 .5ex}\n",
       "</style>\n",
       "<ol class=list-inline><li>51829</li><li>3</li></ol>\n"
      ],
      "text/latex": [
       "\\begin{enumerate*}\n",
       "\\item 51829\n",
       "\\item 3\n",
       "\\end{enumerate*}\n"
      ],
      "text/markdown": [
       "1. 51829\n",
       "2. 3\n",
       "\n",
       "\n"
      ],
      "text/plain": [
       "[1] 51829     3"
      ]
     },
     "metadata": {},
     "output_type": "display_data"
    }
   ],
   "source": [
    "dat = dat_peak_crispri_e2g_active\n",
    "colnames(dat)[1] = \"chr\"\n",
    "\n",
    "dat = dat %>% dplyr::select(chr, start, end) %>% dplyr::distinct()\n",
    "dim(dat)"
   ]
  },
  {
   "cell_type": "code",
   "execution_count": 10,
   "metadata": {},
   "outputs": [
    {
     "data": {
      "text/html": [
       "0.62124971531998"
      ],
      "text/latex": [
       "0.62124971531998"
      ],
      "text/markdown": [
       "0.62124971531998"
      ],
      "text/plain": [
       "[1] 0.6212497"
      ]
     },
     "metadata": {},
     "output_type": "display_data"
    }
   ],
   "source": [
    "51829 / 83427"
   ]
  },
  {
   "cell_type": "code",
   "execution_count": null,
   "metadata": {},
   "outputs": [],
   "source": []
  },
  {
   "cell_type": "code",
   "execution_count": 5,
   "metadata": {},
   "outputs": [
    {
     "data": {
      "text/plain": [
       "\n",
       "               Fulco2016                Fulco2019   Gasperini et al., 2019 \n",
       "                     103                     3501                     5355 \n",
       "               Huang2018                Klann2017                   Qi2018 \n",
       "                       7                      122                        1 \n",
       "Schraivogel et al., 2020              Thakore2015              Ulirsch2016 \n",
       "                    1306                        2                        5 \n",
       "         Wakabayashi2016                  Xie2017                   Xu2015 \n",
       "                       3                        6                        1 "
      ]
     },
     "metadata": {},
     "output_type": "display_data"
    }
   ],
   "source": [
    "dat = dat_peak_crispri_e2g_import\n",
    "table(dat$Reference)"
   ]
  },
  {
   "cell_type": "code",
   "execution_count": 6,
   "metadata": {},
   "outputs": [
    {
     "data": {
      "text/plain": [
       "\n",
       "FALSE  TRUE \n",
       " 9924   487 "
      ]
     },
     "metadata": {},
     "output_type": "display_data"
    }
   ],
   "source": [
    "dat = dat_peak_crispri_e2g_import\n",
    "table(dat$Regulated)"
   ]
  },
  {
   "cell_type": "code",
   "execution_count": 7,
   "metadata": {},
   "outputs": [
    {
     "data": {
      "text/plain": [
       "\n",
       "               Fulco2016                Fulco2019   Gasperini et al., 2019 \n",
       "                       7                       52                      376 \n",
       "               Huang2018                Klann2017                   Qi2018 \n",
       "                       7                        4                        1 \n",
       "Schraivogel et al., 2020              Thakore2015              Ulirsch2016 \n",
       "                      23                        2                        5 \n",
       "         Wakabayashi2016                  Xie2017                   Xu2015 \n",
       "                       3                        6                        1 "
      ]
     },
     "metadata": {},
     "output_type": "display_data"
    }
   ],
   "source": [
    "dat = dat_peak_crispri_e2g_import\n",
    "dat = dat %>% dplyr::filter(Regulated)\n",
    "table(dat$Reference)"
   ]
  },
  {
   "cell_type": "code",
   "execution_count": 6,
   "metadata": {},
   "outputs": [
    {
     "name": "stdout",
     "output_type": "stream",
     "text": [
      "Ulirsch2016 \n",
      "Gasperini et al., 2019 \n",
      "Wakabayashi2016 \n",
      "Schraivogel et al., 2020 \n",
      "Klann2017 \n",
      "Thakore2015 \n",
      "Xie2017 \n",
      "Fulco2019 \n",
      "Qi2018 \n",
      "Huang2018 \n",
      "Xu2015 \n",
      "Fulco2016 \n"
     ]
    }
   ],
   "source": [
    "dat = dat_peak_crispri_e2g_import\n",
    "vec = unique(dat$Reference)\n",
    "for (txt in vec){\n",
    "    cat(txt, \"\\n\")\n",
    "}"
   ]
  },
  {
   "cell_type": "code",
   "execution_count": 7,
   "metadata": {},
   "outputs": [
    {
     "data": {
      "text/html": [
       "<style>\n",
       ".list-inline {list-style: none; margin:0; padding: 0}\n",
       ".list-inline>li {display: inline-block}\n",
       ".list-inline>li:not(:last-child)::after {content: \"\\00b7\"; padding: 0 .5ex}\n",
       "</style>\n",
       "<ol class=list-inline><li>3961</li><li>3</li></ol>\n"
      ],
      "text/latex": [
       "\\begin{enumerate*}\n",
       "\\item 3961\n",
       "\\item 3\n",
       "\\end{enumerate*}\n"
      ],
      "text/markdown": [
       "1. 3961\n",
       "2. 3\n",
       "\n",
       "\n"
      ],
      "text/plain": [
       "[1] 3961    3"
      ]
     },
     "metadata": {},
     "output_type": "display_data"
    }
   ],
   "source": [
    "dat = dat_peak_crispri_e2g_import\n",
    "dat = dat %>% dplyr::select(chrom, chromStart, chromEnd) %>% dplyr::distinct()\n",
    "dim(dat)"
   ]
  },
  {
   "cell_type": "code",
   "execution_count": 12,
   "metadata": {},
   "outputs": [
    {
     "data": {
      "text/html": [
       "<dl>\n",
       "\t<dt>$`FALSE`</dt>\n",
       "\t\t<dd><style>\n",
       ".list-inline {list-style: none; margin:0; padding: 0}\n",
       ".list-inline>li {display: inline-block}\n",
       ".list-inline>li:not(:last-child)::after {content: \"\\00b7\"; padding: 0 .5ex}\n",
       "</style>\n",
       "<ol class=list-inline><li>3753</li><li>3</li></ol>\n",
       "</dd>\n",
       "\t<dt>$`TRUE`</dt>\n",
       "\t\t<dd><style>\n",
       ".list-inline {list-style: none; margin:0; padding: 0}\n",
       ".list-inline>li {display: inline-block}\n",
       ".list-inline>li:not(:last-child)::after {content: \"\\00b7\"; padding: 0 .5ex}\n",
       "</style>\n",
       "<ol class=list-inline><li>429</li><li>3</li></ol>\n",
       "</dd>\n",
       "</dl>\n"
      ],
      "text/latex": [
       "\\begin{description}\n",
       "\\item[\\$`FALSE`] \\begin{enumerate*}\n",
       "\\item 3753\n",
       "\\item 3\n",
       "\\end{enumerate*}\n",
       "\n",
       "\\item[\\$`TRUE`] \\begin{enumerate*}\n",
       "\\item 429\n",
       "\\item 3\n",
       "\\end{enumerate*}\n",
       "\n",
       "\\end{description}\n"
      ],
      "text/markdown": [
       "$`FALSE`\n",
       ":   1. 3753\n",
       "2. 3\n",
       "\n",
       "\n",
       "\n",
       "$`TRUE`\n",
       ":   1. 429\n",
       "2. 3\n",
       "\n",
       "\n",
       "\n",
       "\n",
       "\n"
      ],
      "text/plain": [
       "$`FALSE`\n",
       "[1] 3753    3\n",
       "\n",
       "$`TRUE`\n",
       "[1] 429   3\n"
      ]
     },
     "metadata": {},
     "output_type": "display_data"
    }
   ],
   "source": [
    "dat = dat_peak_crispri_e2g_import\n",
    "dat = dat %>% dplyr::select(chrom, chromStart, chromEnd, Regulated)\n",
    "lst = split(dat, dat$Regulated)\n",
    "lst = lapply(lst, function(dat){\n",
    "    dat = dat %>% dplyr::select(chrom, chromStart, chromEnd) %>% dplyr::distinct()\n",
    "    return(dat)\n",
    "})\n",
    "res = lapply(lst, dim)\n",
    "res"
   ]
  },
  {
   "cell_type": "code",
   "execution_count": null,
   "metadata": {},
   "outputs": [],
   "source": []
  },
  {
   "cell_type": "code",
   "execution_count": 8,
   "metadata": {},
   "outputs": [
    {
     "name": "stdout",
     "output_type": "stream",
     "text": [
      "[1] 464  10\n"
     ]
    },
    {
     "data": {
      "text/html": [
       "<table class=\"dataframe\">\n",
       "<caption>A tibble: 6 × 10</caption>\n",
       "<thead>\n",
       "\t<tr><th scope=col>chrom</th><th scope=col>chromStart</th><th scope=col>chromEnd</th><th scope=col>name</th><th scope=col>EffectSize</th><th scope=col>Gene_Symbol</th><th scope=col>Gene_TSS</th><th scope=col>Reference</th><th scope=col>Assay_Type</th><th scope=col>Assay_Label</th></tr>\n",
       "\t<tr><th scope=col>&lt;chr&gt;</th><th scope=col>&lt;dbl&gt;</th><th scope=col>&lt;dbl&gt;</th><th scope=col>&lt;chr&gt;</th><th scope=col>&lt;dbl&gt;</th><th scope=col>&lt;chr&gt;</th><th scope=col>&lt;chr&gt;</th><th scope=col>&lt;chr&gt;</th><th scope=col>&lt;chr&gt;</th><th scope=col>&lt;chr&gt;</th></tr>\n",
       "</thead>\n",
       "<tbody>\n",
       "\t<tr><td>chr1</td><td> 8858063</td><td> 8858563</td><td>ENO1|chr1:8918122-8918622:.    </td><td>-0.10741</td><td>ENO1  </td><td>chr1:8879248-8879249  </td><td>Gasperini et al., 2019</td><td>CRISPRi-E2G</td><td>CRISPRi-E2G:ENO1  </td></tr>\n",
       "\t<tr><td>chr1</td><td>17441310</td><td>17441810</td><td>SDHB|chr1:17767806-17768306:.  </td><td>-0.08968</td><td>SDHB  </td><td>chr1:17054169-17054170</td><td>Gasperini et al., 2019</td><td>CRISPRi-E2G</td><td>CRISPRi-E2G:SDHB  </td></tr>\n",
       "\t<tr><td>chr1</td><td>25933351</td><td>25933954</td><td>NUDC|chr1:26259842-26260445:.  </td><td>-0.08462</td><td>NUDC  </td><td>chr1:26900238-26900239</td><td>Gasperini et al., 2019</td><td>CRISPRi-E2G</td><td>CRISPRi-E2G:NUDC  </td></tr>\n",
       "\t<tr><td>chr1</td><td>25933351</td><td>25933954</td><td>STMN1|chr1:26259842-26260445:. </td><td>-0.12223</td><td>STMN1 </td><td>chr1:25906990-25906991</td><td>Gasperini et al., 2019</td><td>CRISPRi-E2G</td><td>CRISPRi-E2G:STMN1 </td></tr>\n",
       "\t<tr><td>chr1</td><td>26377523</td><td>26378866</td><td>LIN28A|chr1:26704014-26705357:.</td><td>-0.05172</td><td>LIN28A</td><td>chr1:26410778-26410779</td><td>Gasperini et al., 2019</td><td>CRISPRi-E2G</td><td>CRISPRi-E2G:LIN28A</td></tr>\n",
       "\t<tr><td>chr1</td><td>28883765</td><td>28884265</td><td>EPB41|chr1:29210277-29210777:. </td><td>-0.26521</td><td>EPB41 </td><td>chr1:28887091-28887092</td><td>Gasperini et al., 2019</td><td>CRISPRi-E2G</td><td>CRISPRi-E2G:EPB41 </td></tr>\n",
       "</tbody>\n",
       "</table>\n"
      ],
      "text/latex": [
       "A tibble: 6 × 10\n",
       "\\begin{tabular}{llllllllll}\n",
       " chrom & chromStart & chromEnd & name & EffectSize & Gene\\_Symbol & Gene\\_TSS & Reference & Assay\\_Type & Assay\\_Label\\\\\n",
       " <chr> & <dbl> & <dbl> & <chr> & <dbl> & <chr> & <chr> & <chr> & <chr> & <chr>\\\\\n",
       "\\hline\n",
       "\t chr1 &  8858063 &  8858563 & ENO1\\textbar{}chr1:8918122-8918622:.     & -0.10741 & ENO1   & chr1:8879248-8879249   & Gasperini et al., 2019 & CRISPRi-E2G & CRISPRi-E2G:ENO1  \\\\\n",
       "\t chr1 & 17441310 & 17441810 & SDHB\\textbar{}chr1:17767806-17768306:.   & -0.08968 & SDHB   & chr1:17054169-17054170 & Gasperini et al., 2019 & CRISPRi-E2G & CRISPRi-E2G:SDHB  \\\\\n",
       "\t chr1 & 25933351 & 25933954 & NUDC\\textbar{}chr1:26259842-26260445:.   & -0.08462 & NUDC   & chr1:26900238-26900239 & Gasperini et al., 2019 & CRISPRi-E2G & CRISPRi-E2G:NUDC  \\\\\n",
       "\t chr1 & 25933351 & 25933954 & STMN1\\textbar{}chr1:26259842-26260445:.  & -0.12223 & STMN1  & chr1:25906990-25906991 & Gasperini et al., 2019 & CRISPRi-E2G & CRISPRi-E2G:STMN1 \\\\\n",
       "\t chr1 & 26377523 & 26378866 & LIN28A\\textbar{}chr1:26704014-26705357:. & -0.05172 & LIN28A & chr1:26410778-26410779 & Gasperini et al., 2019 & CRISPRi-E2G & CRISPRi-E2G:LIN28A\\\\\n",
       "\t chr1 & 28883765 & 28884265 & EPB41\\textbar{}chr1:29210277-29210777:.  & -0.26521 & EPB41  & chr1:28887091-28887092 & Gasperini et al., 2019 & CRISPRi-E2G & CRISPRi-E2G:EPB41 \\\\\n",
       "\\end{tabular}\n"
      ],
      "text/markdown": [
       "\n",
       "A tibble: 6 × 10\n",
       "\n",
       "| chrom &lt;chr&gt; | chromStart &lt;dbl&gt; | chromEnd &lt;dbl&gt; | name &lt;chr&gt; | EffectSize &lt;dbl&gt; | Gene_Symbol &lt;chr&gt; | Gene_TSS &lt;chr&gt; | Reference &lt;chr&gt; | Assay_Type &lt;chr&gt; | Assay_Label &lt;chr&gt; |\n",
       "|---|---|---|---|---|---|---|---|---|---|\n",
       "| chr1 |  8858063 |  8858563 | ENO1|chr1:8918122-8918622:.     | -0.10741 | ENO1   | chr1:8879248-8879249   | Gasperini et al., 2019 | CRISPRi-E2G | CRISPRi-E2G:ENO1   |\n",
       "| chr1 | 17441310 | 17441810 | SDHB|chr1:17767806-17768306:.   | -0.08968 | SDHB   | chr1:17054169-17054170 | Gasperini et al., 2019 | CRISPRi-E2G | CRISPRi-E2G:SDHB   |\n",
       "| chr1 | 25933351 | 25933954 | NUDC|chr1:26259842-26260445:.   | -0.08462 | NUDC   | chr1:26900238-26900239 | Gasperini et al., 2019 | CRISPRi-E2G | CRISPRi-E2G:NUDC   |\n",
       "| chr1 | 25933351 | 25933954 | STMN1|chr1:26259842-26260445:.  | -0.12223 | STMN1  | chr1:25906990-25906991 | Gasperini et al., 2019 | CRISPRi-E2G | CRISPRi-E2G:STMN1  |\n",
       "| chr1 | 26377523 | 26378866 | LIN28A|chr1:26704014-26705357:. | -0.05172 | LIN28A | chr1:26410778-26410779 | Gasperini et al., 2019 | CRISPRi-E2G | CRISPRi-E2G:LIN28A |\n",
       "| chr1 | 28883765 | 28884265 | EPB41|chr1:29210277-29210777:.  | -0.26521 | EPB41  | chr1:28887091-28887092 | Gasperini et al., 2019 | CRISPRi-E2G | CRISPRi-E2G:EPB41  |\n",
       "\n"
      ],
      "text/plain": [
       "  chrom chromStart chromEnd name                            EffectSize\n",
       "1 chr1   8858063    8858563 ENO1|chr1:8918122-8918622:.     -0.10741  \n",
       "2 chr1  17441310   17441810 SDHB|chr1:17767806-17768306:.   -0.08968  \n",
       "3 chr1  25933351   25933954 NUDC|chr1:26259842-26260445:.   -0.08462  \n",
       "4 chr1  25933351   25933954 STMN1|chr1:26259842-26260445:.  -0.12223  \n",
       "5 chr1  26377523   26378866 LIN28A|chr1:26704014-26705357:. -0.05172  \n",
       "6 chr1  28883765   28884265 EPB41|chr1:29210277-29210777:.  -0.26521  \n",
       "  Gene_Symbol Gene_TSS               Reference              Assay_Type \n",
       "1 ENO1        chr1:8879248-8879249   Gasperini et al., 2019 CRISPRi-E2G\n",
       "2 SDHB        chr1:17054169-17054170 Gasperini et al., 2019 CRISPRi-E2G\n",
       "3 NUDC        chr1:26900238-26900239 Gasperini et al., 2019 CRISPRi-E2G\n",
       "4 STMN1       chr1:25906990-25906991 Gasperini et al., 2019 CRISPRi-E2G\n",
       "5 LIN28A      chr1:26410778-26410779 Gasperini et al., 2019 CRISPRi-E2G\n",
       "6 EPB41       chr1:28887091-28887092 Gasperini et al., 2019 CRISPRi-E2G\n",
       "  Assay_Label       \n",
       "1 CRISPRi-E2G:ENO1  \n",
       "2 CRISPRi-E2G:SDHB  \n",
       "3 CRISPRi-E2G:NUDC  \n",
       "4 CRISPRi-E2G:STMN1 \n",
       "5 CRISPRi-E2G:LIN28A\n",
       "6 CRISPRi-E2G:EPB41 "
      ]
     },
     "metadata": {},
     "output_type": "display_data"
    }
   ],
   "source": [
    "txt = c('chrom','chromStart','chromEnd','name','EffectSize', \n",
    "        \"Gene_Symbol\", \"Gene_TSS\", \n",
    "        'Reference', \n",
    "        'Assay_Type', 'Assay_Label')\n",
    "vec = c(\n",
    "    \"Gasperini et al., 2019\", \n",
    "    \"Fulco2019\", \n",
    "    \"Schraivogel et al., 2020\", \n",
    "    \"Klann2017\", \n",
    "    \"Fulco2016\", \n",
    "    \"Thakore2015\")\n",
    "\n",
    "dat = dat_peak_crispri_e2g_import\n",
    "dat = dat %>% \n",
    "    dplyr::filter(Regulated) %>% \n",
    "    dplyr::filter(Reference %in% vec)\n",
    "\n",
    "dat = dat %>% \n",
    "    tidyr::separate(name, c(\"Gene_Symbol\", \"Loc\"), sep=\"\\\\|\", remove = FALSE) %>% \n",
    "    dplyr::mutate(\n",
    "        EffectSize   = round(EffectSize, 5),\n",
    "        Gene_TSS     = paste0(chrTSS, \":\", startTSS, \"-\", endTSS),\n",
    "        Assay_Type   = \"CRISPRi-E2G\",\n",
    "        Assay_Label  = paste0(\"CRISPRi-E2G\", \":\", Gene_Symbol)\n",
    "    )\n",
    "        #Assay_Label2 = paste0(\"CRISPRi-E2G\", \"(\", Reference, \")\", \":\", Gene_Symbol)\n",
    "\n",
    "dat = dat %>% \n",
    "    dplyr::select({{txt}}) %>% \n",
    "    dplyr::arrange(chrom, chromStart, chromEnd)\n",
    "\n",
    "dat_peak_crispri_e2g_arrange = dat\n",
    "print(dim(dat))\n",
    "head(dat)"
   ]
  },
  {
   "cell_type": "code",
   "execution_count": 9,
   "metadata": {},
   "outputs": [
    {
     "name": "stdout",
     "output_type": "stream",
     "text": [
      "[1] 464  13\n"
     ]
    },
    {
     "data": {
      "text/html": [
       "<table class=\"dataframe\">\n",
       "<caption>A tibble: 6 × 13</caption>\n",
       "<thead>\n",
       "\t<tr><th scope=col>chrom</th><th scope=col>chromStart</th><th scope=col>chromEnd</th><th scope=col>chrTSS</th><th scope=col>startTSS</th><th scope=col>endTSS</th><th scope=col>name</th><th scope=col>EffectSize</th><th scope=col>Strand1</th><th scope=col>Strand2</th><th scope=col>Gene_Symbol</th><th scope=col>Gene_TSS</th><th scope=col>Reference</th></tr>\n",
       "\t<tr><th scope=col>&lt;chr&gt;</th><th scope=col>&lt;dbl&gt;</th><th scope=col>&lt;dbl&gt;</th><th scope=col>&lt;chr&gt;</th><th scope=col>&lt;dbl&gt;</th><th scope=col>&lt;dbl&gt;</th><th scope=col>&lt;chr&gt;</th><th scope=col>&lt;dbl&gt;</th><th scope=col>&lt;chr&gt;</th><th scope=col>&lt;chr&gt;</th><th scope=col>&lt;chr&gt;</th><th scope=col>&lt;chr&gt;</th><th scope=col>&lt;chr&gt;</th></tr>\n",
       "</thead>\n",
       "<tbody>\n",
       "\t<tr><td>chr1</td><td> 8858063</td><td> 8858563</td><td>chr1</td><td> 8879248</td><td> 8879249</td><td>ENO1|chr1:8918122-8918622:.    </td><td>-0.10741</td><td>.</td><td>.</td><td>ENO1  </td><td>chr1:8879248-8879249  </td><td>Gasperini et al., 2019</td></tr>\n",
       "\t<tr><td>chr1</td><td>17441310</td><td>17441810</td><td>chr1</td><td>17054169</td><td>17054170</td><td>SDHB|chr1:17767806-17768306:.  </td><td>-0.08968</td><td>.</td><td>.</td><td>SDHB  </td><td>chr1:17054169-17054170</td><td>Gasperini et al., 2019</td></tr>\n",
       "\t<tr><td>chr1</td><td>25933351</td><td>25933954</td><td>chr1</td><td>26900238</td><td>26900239</td><td>NUDC|chr1:26259842-26260445:.  </td><td>-0.08462</td><td>.</td><td>.</td><td>NUDC  </td><td>chr1:26900238-26900239</td><td>Gasperini et al., 2019</td></tr>\n",
       "\t<tr><td>chr1</td><td>25933351</td><td>25933954</td><td>chr1</td><td>25906990</td><td>25906991</td><td>STMN1|chr1:26259842-26260445:. </td><td>-0.12223</td><td>.</td><td>.</td><td>STMN1 </td><td>chr1:25906990-25906991</td><td>Gasperini et al., 2019</td></tr>\n",
       "\t<tr><td>chr1</td><td>26377523</td><td>26378866</td><td>chr1</td><td>26410778</td><td>26410779</td><td>LIN28A|chr1:26704014-26705357:.</td><td>-0.05172</td><td>.</td><td>.</td><td>LIN28A</td><td>chr1:26410778-26410779</td><td>Gasperini et al., 2019</td></tr>\n",
       "\t<tr><td>chr1</td><td>28883765</td><td>28884265</td><td>chr1</td><td>28887091</td><td>28887092</td><td>EPB41|chr1:29210277-29210777:. </td><td>-0.26521</td><td>.</td><td>.</td><td>EPB41 </td><td>chr1:28887091-28887092</td><td>Gasperini et al., 2019</td></tr>\n",
       "</tbody>\n",
       "</table>\n"
      ],
      "text/latex": [
       "A tibble: 6 × 13\n",
       "\\begin{tabular}{lllllllllllll}\n",
       " chrom & chromStart & chromEnd & chrTSS & startTSS & endTSS & name & EffectSize & Strand1 & Strand2 & Gene\\_Symbol & Gene\\_TSS & Reference\\\\\n",
       " <chr> & <dbl> & <dbl> & <chr> & <dbl> & <dbl> & <chr> & <dbl> & <chr> & <chr> & <chr> & <chr> & <chr>\\\\\n",
       "\\hline\n",
       "\t chr1 &  8858063 &  8858563 & chr1 &  8879248 &  8879249 & ENO1\\textbar{}chr1:8918122-8918622:.     & -0.10741 & . & . & ENO1   & chr1:8879248-8879249   & Gasperini et al., 2019\\\\\n",
       "\t chr1 & 17441310 & 17441810 & chr1 & 17054169 & 17054170 & SDHB\\textbar{}chr1:17767806-17768306:.   & -0.08968 & . & . & SDHB   & chr1:17054169-17054170 & Gasperini et al., 2019\\\\\n",
       "\t chr1 & 25933351 & 25933954 & chr1 & 26900238 & 26900239 & NUDC\\textbar{}chr1:26259842-26260445:.   & -0.08462 & . & . & NUDC   & chr1:26900238-26900239 & Gasperini et al., 2019\\\\\n",
       "\t chr1 & 25933351 & 25933954 & chr1 & 25906990 & 25906991 & STMN1\\textbar{}chr1:26259842-26260445:.  & -0.12223 & . & . & STMN1  & chr1:25906990-25906991 & Gasperini et al., 2019\\\\\n",
       "\t chr1 & 26377523 & 26378866 & chr1 & 26410778 & 26410779 & LIN28A\\textbar{}chr1:26704014-26705357:. & -0.05172 & . & . & LIN28A & chr1:26410778-26410779 & Gasperini et al., 2019\\\\\n",
       "\t chr1 & 28883765 & 28884265 & chr1 & 28887091 & 28887092 & EPB41\\textbar{}chr1:29210277-29210777:.  & -0.26521 & . & . & EPB41  & chr1:28887091-28887092 & Gasperini et al., 2019\\\\\n",
       "\\end{tabular}\n"
      ],
      "text/markdown": [
       "\n",
       "A tibble: 6 × 13\n",
       "\n",
       "| chrom &lt;chr&gt; | chromStart &lt;dbl&gt; | chromEnd &lt;dbl&gt; | chrTSS &lt;chr&gt; | startTSS &lt;dbl&gt; | endTSS &lt;dbl&gt; | name &lt;chr&gt; | EffectSize &lt;dbl&gt; | Strand1 &lt;chr&gt; | Strand2 &lt;chr&gt; | Gene_Symbol &lt;chr&gt; | Gene_TSS &lt;chr&gt; | Reference &lt;chr&gt; |\n",
       "|---|---|---|---|---|---|---|---|---|---|---|---|---|\n",
       "| chr1 |  8858063 |  8858563 | chr1 |  8879248 |  8879249 | ENO1|chr1:8918122-8918622:.     | -0.10741 | . | . | ENO1   | chr1:8879248-8879249   | Gasperini et al., 2019 |\n",
       "| chr1 | 17441310 | 17441810 | chr1 | 17054169 | 17054170 | SDHB|chr1:17767806-17768306:.   | -0.08968 | . | . | SDHB   | chr1:17054169-17054170 | Gasperini et al., 2019 |\n",
       "| chr1 | 25933351 | 25933954 | chr1 | 26900238 | 26900239 | NUDC|chr1:26259842-26260445:.   | -0.08462 | . | . | NUDC   | chr1:26900238-26900239 | Gasperini et al., 2019 |\n",
       "| chr1 | 25933351 | 25933954 | chr1 | 25906990 | 25906991 | STMN1|chr1:26259842-26260445:.  | -0.12223 | . | . | STMN1  | chr1:25906990-25906991 | Gasperini et al., 2019 |\n",
       "| chr1 | 26377523 | 26378866 | chr1 | 26410778 | 26410779 | LIN28A|chr1:26704014-26705357:. | -0.05172 | . | . | LIN28A | chr1:26410778-26410779 | Gasperini et al., 2019 |\n",
       "| chr1 | 28883765 | 28884265 | chr1 | 28887091 | 28887092 | EPB41|chr1:29210277-29210777:.  | -0.26521 | . | . | EPB41  | chr1:28887091-28887092 | Gasperini et al., 2019 |\n",
       "\n"
      ],
      "text/plain": [
       "  chrom chromStart chromEnd chrTSS startTSS endTSS  \n",
       "1 chr1   8858063    8858563 chr1    8879248  8879249\n",
       "2 chr1  17441310   17441810 chr1   17054169 17054170\n",
       "3 chr1  25933351   25933954 chr1   26900238 26900239\n",
       "4 chr1  25933351   25933954 chr1   25906990 25906991\n",
       "5 chr1  26377523   26378866 chr1   26410778 26410779\n",
       "6 chr1  28883765   28884265 chr1   28887091 28887092\n",
       "  name                            EffectSize Strand1 Strand2 Gene_Symbol\n",
       "1 ENO1|chr1:8918122-8918622:.     -0.10741   .       .       ENO1       \n",
       "2 SDHB|chr1:17767806-17768306:.   -0.08968   .       .       SDHB       \n",
       "3 NUDC|chr1:26259842-26260445:.   -0.08462   .       .       NUDC       \n",
       "4 STMN1|chr1:26259842-26260445:.  -0.12223   .       .       STMN1      \n",
       "5 LIN28A|chr1:26704014-26705357:. -0.05172   .       .       LIN28A     \n",
       "6 EPB41|chr1:29210277-29210777:.  -0.26521   .       .       EPB41      \n",
       "  Gene_TSS               Reference             \n",
       "1 chr1:8879248-8879249   Gasperini et al., 2019\n",
       "2 chr1:17054169-17054170 Gasperini et al., 2019\n",
       "3 chr1:26900238-26900239 Gasperini et al., 2019\n",
       "4 chr1:25906990-25906991 Gasperini et al., 2019\n",
       "5 chr1:26410778-26410779 Gasperini et al., 2019\n",
       "6 chr1:28887091-28887092 Gasperini et al., 2019"
      ]
     },
     "metadata": {},
     "output_type": "display_data"
    }
   ],
   "source": [
    "txt = c('chrom',  'chromStart', 'chromEnd',\n",
    "        \"chrTSS\", \"startTSS\",   \"endTSS\",\n",
    "        'name', 'EffectSize', \n",
    "        \"Strand1\", \"Strand2\",\n",
    "        \"Gene_Symbol\", \"Gene_TSS\", \n",
    "        'Reference')\n",
    "\n",
    "#txt = c('chrom',  'chromStart', 'chromEnd',\n",
    "#        \"chrTSS\", \"startTSS\",   \"endTSS\",\n",
    "#        'name')\n",
    "\n",
    "vec = c(\n",
    "    \"Gasperini et al., 2019\", \n",
    "    \"Fulco2019\", \n",
    "    \"Schraivogel et al., 2020\", \n",
    "    \"Klann2017\", \n",
    "    \"Fulco2016\", \n",
    "    \"Thakore2015\")\n",
    "\n",
    "dat = dat_peak_crispri_e2g_import\n",
    "dat = dat %>% \n",
    "    dplyr::filter(Regulated) %>% \n",
    "    dplyr::filter(Reference %in% vec)\n",
    "\n",
    "dat = dat %>% \n",
    "    tidyr::separate(name, c(\"Gene_Symbol\", \"Loc\"), sep=\"\\\\|\", remove = FALSE) %>% \n",
    "    dplyr::mutate(\n",
    "        EffectSize   = round(EffectSize, 5),\n",
    "        Gene_TSS     = paste0(chrTSS, \":\", startTSS, \"-\", endTSS),\n",
    "        Strand1      = \".\",\n",
    "        Strand2      = \".\"\n",
    "    )\n",
    "        #Assay_Label2 = paste0(\"CRISPRi-E2G\", \"(\", Reference, \")\", \":\", Gene_Symbol)\n",
    "\n",
    "dat = dat %>% \n",
    "    dplyr::select({{txt}}) %>% \n",
    "    dplyr::arrange(chrom, chromStart, chromEnd)\n",
    "\n",
    "dat_peak_crispri_e2g_bedpe = dat\n",
    "print(dim(dat))\n",
    "head(dat)"
   ]
  },
  {
   "cell_type": "code",
   "execution_count": 10,
   "metadata": {},
   "outputs": [
    {
     "name": "stdout",
     "output_type": "stream",
     "text": [
      "[1] 464  18\n"
     ]
    },
    {
     "data": {
      "text/html": [
       "<table class=\"dataframe\">\n",
       "<caption>A tibble: 6 × 18</caption>\n",
       "<thead>\n",
       "\t<tr><th scope=col>chrom</th><th scope=col>chromStart</th><th scope=col>chromEnd</th><th scope=col>name</th><th scope=col>score</th><th scope=col>value</th><th scope=col>exp</th><th scope=col>color</th><th scope=col>sourceChrom</th><th scope=col>sourceStart</th><th scope=col>sourceEnd</th><th scope=col>sourceName</th><th scope=col>sourceStrand</th><th scope=col>targetChrom</th><th scope=col>targetStart</th><th scope=col>targetEnd</th><th scope=col>targetName</th><th scope=col>targetStrand</th></tr>\n",
       "\t<tr><th scope=col>&lt;chr&gt;</th><th scope=col>&lt;dbl&gt;</th><th scope=col>&lt;dbl&gt;</th><th scope=col>&lt;chr&gt;</th><th scope=col>&lt;dbl&gt;</th><th scope=col>&lt;dbl&gt;</th><th scope=col>&lt;chr&gt;</th><th scope=col>&lt;chr&gt;</th><th scope=col>&lt;chr&gt;</th><th scope=col>&lt;dbl&gt;</th><th scope=col>&lt;dbl&gt;</th><th scope=col>&lt;chr&gt;</th><th scope=col>&lt;chr&gt;</th><th scope=col>&lt;chr&gt;</th><th scope=col>&lt;dbl&gt;</th><th scope=col>&lt;dbl&gt;</th><th scope=col>&lt;chr&gt;</th><th scope=col>&lt;chr&gt;</th></tr>\n",
       "</thead>\n",
       "<tbody>\n",
       "\t<tr><td>chr1</td><td> 8858063</td><td> 8858563</td><td>ENO1|chr1:8918122-8918622:.    </td><td>1000</td><td>1</td><td>.</td><td>.</td><td>chr1</td><td> 8858063</td><td> 8858563</td><td>chr1:8858063-8858563  </td><td>.</td><td>chr1</td><td> 8879248</td><td> 8879249</td><td>chr1:8879248-8879249  </td><td>.</td></tr>\n",
       "\t<tr><td>chr1</td><td>17441310</td><td>17441810</td><td>SDHB|chr1:17767806-17768306:.  </td><td>1000</td><td>1</td><td>.</td><td>.</td><td>chr1</td><td>17441310</td><td>17441810</td><td>chr1:17441310-17441810</td><td>.</td><td>chr1</td><td>17054169</td><td>17054170</td><td>chr1:17054169-17054170</td><td>.</td></tr>\n",
       "\t<tr><td>chr1</td><td>25933351</td><td>25933954</td><td>NUDC|chr1:26259842-26260445:.  </td><td>1000</td><td>1</td><td>.</td><td>.</td><td>chr1</td><td>25933351</td><td>25933954</td><td>chr1:25933351-25933954</td><td>.</td><td>chr1</td><td>26900238</td><td>26900239</td><td>chr1:26900238-26900239</td><td>.</td></tr>\n",
       "\t<tr><td>chr1</td><td>25933351</td><td>25933954</td><td>STMN1|chr1:26259842-26260445:. </td><td>1000</td><td>1</td><td>.</td><td>.</td><td>chr1</td><td>25933351</td><td>25933954</td><td>chr1:25933351-25933954</td><td>.</td><td>chr1</td><td>25906990</td><td>25906991</td><td>chr1:25906990-25906991</td><td>.</td></tr>\n",
       "\t<tr><td>chr1</td><td>26377523</td><td>26378866</td><td>LIN28A|chr1:26704014-26705357:.</td><td>1000</td><td>1</td><td>.</td><td>.</td><td>chr1</td><td>26377523</td><td>26378866</td><td>chr1:26377523-26378866</td><td>.</td><td>chr1</td><td>26410778</td><td>26410779</td><td>chr1:26410778-26410779</td><td>.</td></tr>\n",
       "\t<tr><td>chr1</td><td>28883765</td><td>28884265</td><td>EPB41|chr1:29210277-29210777:. </td><td>1000</td><td>1</td><td>.</td><td>.</td><td>chr1</td><td>28883765</td><td>28884265</td><td>chr1:28883765-28884265</td><td>.</td><td>chr1</td><td>28887091</td><td>28887092</td><td>chr1:28887091-28887092</td><td>.</td></tr>\n",
       "</tbody>\n",
       "</table>\n"
      ],
      "text/latex": [
       "A tibble: 6 × 18\n",
       "\\begin{tabular}{llllllllllllllllll}\n",
       " chrom & chromStart & chromEnd & name & score & value & exp & color & sourceChrom & sourceStart & sourceEnd & sourceName & sourceStrand & targetChrom & targetStart & targetEnd & targetName & targetStrand\\\\\n",
       " <chr> & <dbl> & <dbl> & <chr> & <dbl> & <dbl> & <chr> & <chr> & <chr> & <dbl> & <dbl> & <chr> & <chr> & <chr> & <dbl> & <dbl> & <chr> & <chr>\\\\\n",
       "\\hline\n",
       "\t chr1 &  8858063 &  8858563 & ENO1\\textbar{}chr1:8918122-8918622:.     & 1000 & 1 & . & . & chr1 &  8858063 &  8858563 & chr1:8858063-8858563   & . & chr1 &  8879248 &  8879249 & chr1:8879248-8879249   & .\\\\\n",
       "\t chr1 & 17441310 & 17441810 & SDHB\\textbar{}chr1:17767806-17768306:.   & 1000 & 1 & . & . & chr1 & 17441310 & 17441810 & chr1:17441310-17441810 & . & chr1 & 17054169 & 17054170 & chr1:17054169-17054170 & .\\\\\n",
       "\t chr1 & 25933351 & 25933954 & NUDC\\textbar{}chr1:26259842-26260445:.   & 1000 & 1 & . & . & chr1 & 25933351 & 25933954 & chr1:25933351-25933954 & . & chr1 & 26900238 & 26900239 & chr1:26900238-26900239 & .\\\\\n",
       "\t chr1 & 25933351 & 25933954 & STMN1\\textbar{}chr1:26259842-26260445:.  & 1000 & 1 & . & . & chr1 & 25933351 & 25933954 & chr1:25933351-25933954 & . & chr1 & 25906990 & 25906991 & chr1:25906990-25906991 & .\\\\\n",
       "\t chr1 & 26377523 & 26378866 & LIN28A\\textbar{}chr1:26704014-26705357:. & 1000 & 1 & . & . & chr1 & 26377523 & 26378866 & chr1:26377523-26378866 & . & chr1 & 26410778 & 26410779 & chr1:26410778-26410779 & .\\\\\n",
       "\t chr1 & 28883765 & 28884265 & EPB41\\textbar{}chr1:29210277-29210777:.  & 1000 & 1 & . & . & chr1 & 28883765 & 28884265 & chr1:28883765-28884265 & . & chr1 & 28887091 & 28887092 & chr1:28887091-28887092 & .\\\\\n",
       "\\end{tabular}\n"
      ],
      "text/markdown": [
       "\n",
       "A tibble: 6 × 18\n",
       "\n",
       "| chrom &lt;chr&gt; | chromStart &lt;dbl&gt; | chromEnd &lt;dbl&gt; | name &lt;chr&gt; | score &lt;dbl&gt; | value &lt;dbl&gt; | exp &lt;chr&gt; | color &lt;chr&gt; | sourceChrom &lt;chr&gt; | sourceStart &lt;dbl&gt; | sourceEnd &lt;dbl&gt; | sourceName &lt;chr&gt; | sourceStrand &lt;chr&gt; | targetChrom &lt;chr&gt; | targetStart &lt;dbl&gt; | targetEnd &lt;dbl&gt; | targetName &lt;chr&gt; | targetStrand &lt;chr&gt; |\n",
       "|---|---|---|---|---|---|---|---|---|---|---|---|---|---|---|---|---|---|\n",
       "| chr1 |  8858063 |  8858563 | ENO1|chr1:8918122-8918622:.     | 1000 | 1 | . | . | chr1 |  8858063 |  8858563 | chr1:8858063-8858563   | . | chr1 |  8879248 |  8879249 | chr1:8879248-8879249   | . |\n",
       "| chr1 | 17441310 | 17441810 | SDHB|chr1:17767806-17768306:.   | 1000 | 1 | . | . | chr1 | 17441310 | 17441810 | chr1:17441310-17441810 | . | chr1 | 17054169 | 17054170 | chr1:17054169-17054170 | . |\n",
       "| chr1 | 25933351 | 25933954 | NUDC|chr1:26259842-26260445:.   | 1000 | 1 | . | . | chr1 | 25933351 | 25933954 | chr1:25933351-25933954 | . | chr1 | 26900238 | 26900239 | chr1:26900238-26900239 | . |\n",
       "| chr1 | 25933351 | 25933954 | STMN1|chr1:26259842-26260445:.  | 1000 | 1 | . | . | chr1 | 25933351 | 25933954 | chr1:25933351-25933954 | . | chr1 | 25906990 | 25906991 | chr1:25906990-25906991 | . |\n",
       "| chr1 | 26377523 | 26378866 | LIN28A|chr1:26704014-26705357:. | 1000 | 1 | . | . | chr1 | 26377523 | 26378866 | chr1:26377523-26378866 | . | chr1 | 26410778 | 26410779 | chr1:26410778-26410779 | . |\n",
       "| chr1 | 28883765 | 28884265 | EPB41|chr1:29210277-29210777:.  | 1000 | 1 | . | . | chr1 | 28883765 | 28884265 | chr1:28883765-28884265 | . | chr1 | 28887091 | 28887092 | chr1:28887091-28887092 | . |\n",
       "\n"
      ],
      "text/plain": [
       "  chrom chromStart chromEnd name                            score value exp\n",
       "1 chr1   8858063    8858563 ENO1|chr1:8918122-8918622:.     1000  1     .  \n",
       "2 chr1  17441310   17441810 SDHB|chr1:17767806-17768306:.   1000  1     .  \n",
       "3 chr1  25933351   25933954 NUDC|chr1:26259842-26260445:.   1000  1     .  \n",
       "4 chr1  25933351   25933954 STMN1|chr1:26259842-26260445:.  1000  1     .  \n",
       "5 chr1  26377523   26378866 LIN28A|chr1:26704014-26705357:. 1000  1     .  \n",
       "6 chr1  28883765   28884265 EPB41|chr1:29210277-29210777:.  1000  1     .  \n",
       "  color sourceChrom sourceStart sourceEnd sourceName             sourceStrand\n",
       "1 .     chr1         8858063     8858563  chr1:8858063-8858563   .           \n",
       "2 .     chr1        17441310    17441810  chr1:17441310-17441810 .           \n",
       "3 .     chr1        25933351    25933954  chr1:25933351-25933954 .           \n",
       "4 .     chr1        25933351    25933954  chr1:25933351-25933954 .           \n",
       "5 .     chr1        26377523    26378866  chr1:26377523-26378866 .           \n",
       "6 .     chr1        28883765    28884265  chr1:28883765-28884265 .           \n",
       "  targetChrom targetStart targetEnd targetName             targetStrand\n",
       "1 chr1         8879248     8879249  chr1:8879248-8879249   .           \n",
       "2 chr1        17054169    17054170  chr1:17054169-17054170 .           \n",
       "3 chr1        26900238    26900239  chr1:26900238-26900239 .           \n",
       "4 chr1        25906990    25906991  chr1:25906990-25906991 .           \n",
       "5 chr1        26410778    26410779  chr1:26410778-26410779 .           \n",
       "6 chr1        28887091    28887092  chr1:28887091-28887092 .           "
      ]
     },
     "metadata": {},
     "output_type": "display_data"
    }
   ],
   "source": [
    "dat = dat_peak_crispri_e2g_bedpe\n",
    "\n",
    "dat = dat %>%\n",
    "    dplyr::mutate(score = 1000, value = 1, exp = \".\", color = \".\") %>%\n",
    "    dplyr::mutate(\n",
    "        chromMid = as.integer((chromStart + chromEnd) / 2),\n",
    "        sourceName = paste0(chrom, \":\", chromStart, \"-\", chromEnd),\n",
    "        targetName = Gene_TSS,\n",
    "    ) %>%\n",
    "    dplyr::mutate(\n",
    "        #name          = \".\",\n",
    "        sourceChrom   = chrom,\n",
    "        sourceStart   = chromStart,\n",
    "        sourceEnd     = chromEnd,\n",
    "        #sourceName    = \".\",\n",
    "        sourceStrand  = \".\",\n",
    "        targetChrom   = chrTSS,\n",
    "        targetStart   = startTSS,\n",
    "        targetEnd     = endTSS,\n",
    "        #targetName    = \".\",\n",
    "        targetStrand  = \".\"\n",
    "    ) %>%\n",
    "    dplyr::select(\n",
    "        chrom, chromStart, chromEnd, name, \n",
    "        score, value, exp, color,\n",
    "        sourceChrom,\n",
    "        sourceStart,\n",
    "        sourceEnd,\n",
    "        sourceName,\n",
    "        sourceStrand,\n",
    "        targetChrom,\n",
    "        targetStart,\n",
    "        targetEnd,\n",
    "        targetName,\n",
    "        targetStrand\n",
    "    )\n",
    "\n",
    "dat_peak_crispri_e2g_interact = dat\n",
    "print(dim(dat))\n",
    "head(dat)"
   ]
  },
  {
   "cell_type": "code",
   "execution_count": 12,
   "metadata": {},
   "outputs": [
    {
     "name": "stdout",
     "output_type": "stream",
     "text": [
      "[1] 464  10\n"
     ]
    },
    {
     "data": {
      "text/plain": [
       "\n",
       "        CRISPRi-E2G:ABCD1    CRISPRi-E2G:AC002480.3    CRISPRi-E2G:AC073072.5 \n",
       "                        1                         2                         1 \n",
       "     CRISPRi-E2G:ADAMTS14         CRISPRi-E2G:AGAP1         CRISPRi-E2G:AGFG1 \n",
       "                        1                         1                         1 \n",
       "          CRISPRi-E2G:AK1        CRISPRi-E2G:AKAP11        CRISPRi-E2G:AKR1C1 \n",
       "                        1                         2                         1 \n",
       "       CRISPRi-E2G:ANP32B        CRISPRi-E2G:ANTXR2         CRISPRi-E2G:ANXA1 \n",
       "                        1                         1                         2 \n",
       "         CRISPRi-E2G:APIP         CRISPRi-E2G:APLP2         CRISPRi-E2G:ARL4A \n",
       "                        1                         1                         1 \n",
       "        CRISPRi-E2G:ASAH1          CRISPRi-E2G:ASB1         CRISPRi-E2G:ASH2L \n",
       "                        1                         1                         1 \n",
       "       CRISPRi-E2G:ATP1B3        CRISPRi-E2G:ATP5G1        CRISPRi-E2G:ATP5G3 \n",
       "                        1                         1                         1 \n",
       "        CRISPRi-E2G:BCAT2          CRISPRi-E2G:BEX4         CRISPRi-E2G:BLVRA \n",
       "                        1                         2                         1 \n",
       "        CRISPRi-E2G:BMP2K        CRISPRi-E2G:BORCS5          CRISPRi-E2G:BPGM \n",
       "                        3                         1                         1 \n",
       "          CRISPRi-E2G:BSG          CRISPRi-E2G:BST2          CRISPRi-E2G:BTG1 \n",
       "                        1                         1                         2 \n",
       "      CRISPRi-E2G:C1GALT1      CRISPRi-E2G:C20orf27       CRISPRi-E2G:C7orf26 \n",
       "                        1                         1                         1 \n",
       "          CRISPRi-E2G:CA8         CRISPRi-E2G:CAB39           CRISPRi-E2G:CAT \n",
       "                        2                         2                         2 \n",
       "       CRISPRi-E2G:CCDC22        CRISPRi-E2G:CCDC26          CRISPRi-E2G:CCM2 \n",
       "                        1                         1                         1 \n",
       "        CRISPRi-E2G:CCND2         CRISPRi-E2G:CD2AP          CRISPRi-E2G:CD46 \n",
       "                        1                         1                         1 \n",
       "         CRISPRi-E2G:CD47          CRISPRi-E2G:CD58          CRISPRi-E2G:CD69 \n",
       "                        1                         1                         1 \n",
       "         CRISPRi-E2G:CD83           CRISPRi-E2G:CD9      CRISPRi-E2G:CDC42EP3 \n",
       "                        1                         1                         1 \n",
       "         CRISPRi-E2G:CDK6         CRISPRi-E2G:CERS2          CRISPRi-E2G:CHD4 \n",
       "                        1                         1                         1 \n",
       "         CRISPRi-E2G:CHPF         CRISPRi-E2G:CHST2        CRISPRi-E2G:CITED2 \n",
       "                        1                         1                         2 \n",
       "      CRISPRi-E2G:CLEC11A          CRISPRi-E2G:CMBL        CRISPRi-E2G:CNKSR3 \n",
       "                        1                         1                         1 \n",
       "       CRISPRi-E2G:CNRIP1          CRISPRi-E2G:COA1       CRISPRi-E2G:COL18A1 \n",
       "                        1                         1                         1 \n",
       "        CRISPRi-E2G:CPEB4        CRISPRi-E2G:CRELD1          CRISPRi-E2G:CSTB \n",
       "                        2                         1                         1 \n",
       "  CRISPRi-E2G:CTA-392E5.1 CRISPRi-E2G:CTD-2366F13.1  CRISPRi-E2G:CTD-2576D5.4 \n",
       "                        1                         1                         1 \n",
       "         CRISPRi-E2G:CTR9          CRISPRi-E2G:CTSB          CRISPRi-E2G:CTSC \n",
       "                        2                         1                         1 \n",
       "         CRISPRi-E2G:CTSL        CRISPRi-E2G:CYBRD1        CRISPRi-E2G:DAZAP1 \n",
       "                        1                         1                         1 \n",
       "         CRISPRi-E2G:DCP2        CRISPRi-E2G:DDX39A         CRISPRi-E2G:DDX46 \n",
       "                        1                         1                         1 \n",
       "        CRISPRi-E2G:DECR1          CRISPRi-E2G:DHPS          CRISPRi-E2G:DLK1 \n",
       "                        1                         1                         1 \n",
       "       CRISPRi-E2G:DNASE2         CRISPRi-E2G:DRAM1         CRISPRi-E2G:DRAP1 \n",
       "                        2                         1                         1 \n",
       "         CRISPRi-E2G:E2F1           CRISPRi-E2G:EBP          CRISPRi-E2G:ECI2 \n",
       "                        1                         1                         1 \n",
       "          CRISPRi-E2G:EED          CRISPRi-E2G:EI24        CRISPRi-E2G:ELAVL1 \n",
       "                        1                         2                         1 \n",
       "         CRISPRi-E2G:ELF3          CRISPRi-E2G:ELK1        CRISPRi-E2G:ELOVL6 \n",
       "                        1                         1                         1 \n",
       "        CRISPRi-E2G:EMID1        CRISPRi-E2G:ENDOD1          CRISPRi-E2G:ENO1 \n",
       "                        1                         1                         1 \n",
       "         CRISPRi-E2G:ENY2         CRISPRi-E2G:EPB41         CRISPRi-E2G:EPHB6 \n",
       "                        1                         2                         1 \n",
       "         CRISPRi-E2G:EREG          CRISPRi-E2G:ETFA        CRISPRi-E2G:EXOSC4 \n",
       "                        1                         1                         1 \n",
       "        CRISPRi-E2G:FADS1       CRISPRi-E2G:FAM102B        CRISPRi-E2G:FAM69C \n",
       "                        1                         1                         1 \n",
       "       CRISPRi-E2G:FAM83A        CRISPRi-E2G:FAM89A        CRISPRi-E2G:FCGR2A \n",
       "                        3                         4                         1 \n",
       "         CRISPRi-E2G:FEZ1          CRISPRi-E2G:FGF2         CRISPRi-E2G:FGFR3 \n",
       "                        4                         1                         1 \n",
       "         CRISPRi-E2G:FIBP         CRISPRi-E2G:FKBPL         CRISPRi-E2G:FSCN1 \n",
       "                        1                         1                         1 \n",
       "         CRISPRi-E2G:FTH1           CRISPRi-E2G:FTL         CRISPRi-E2G:FTSJ1 \n",
       "                        1                         4                         1 \n",
       "         CRISPRi-E2G:FUT1           CRISPRi-E2G:FXN       CRISPRi-E2G:GADD45A \n",
       "                        2                         1                         1 \n",
       "        CRISPRi-E2G:GATA1         CRISPRi-E2G:GATA2         CRISPRi-E2G:GFI1B \n",
       "                        3                         2                         1 \n",
       "        CRISPRi-E2G:GLRX5          CRISPRi-E2G:GLUL          CRISPRi-E2G:GMPR \n",
       "                        2                         2                         1 \n",
       "       CRISPRi-E2G:GNPDA1         CRISPRi-E2G:GPR68         CRISPRi-E2G:GSK3B \n",
       "                        1                         1                         1 \n",
       "        CRISPRi-E2G:GSTP1          CRISPRi-E2G:GYPC          CRISPRi-E2G:H1FX \n",
       "                        1                         2                         2 \n",
       "          CRISPRi-E2G:HBB           CRISPRi-E2G:HBD          CRISPRi-E2G:HBE1 \n",
       "                        1                         1                         7 \n",
       "         CRISPRi-E2G:HBG1          CRISPRi-E2G:HBG2           CRISPRi-E2G:HBZ \n",
       "                        3                         1                         2 \n",
       "        CRISPRi-E2G:HDAC6         CRISPRi-E2G:HDDC2         CRISPRi-E2G:HEMGN \n",
       "                        2                         1                         1 \n",
       "         CRISPRi-E2G:HHEX         CRISPRi-E2G:HMGA1       CRISPRi-E2G:HNRNPA1 \n",
       "                        2                         1                         3 \n",
       "       CRISPRi-E2G:HNRNPM         CRISPRi-E2G:ICAM2         CRISPRi-E2G:ICAM3 \n",
       "                        1                         2                         1 \n",
       "          CRISPRi-E2G:ID1           CRISPRi-E2G:ID2        CRISPRi-E2G:IFITM1 \n",
       "                        2                         2                         7 \n",
       "       CRISPRi-E2G:IFITM2           CRISPRi-E2G:IL6         CRISPRi-E2G:IMPA2 \n",
       "                        4                         2                         2 \n",
       "        CRISPRi-E2G:IRAK1         CRISPRi-E2G:ISOC1          CRISPRi-E2G:JUNB \n",
       "                        1                         1                         3 \n",
       "         CRISPRi-E2G:JUND           CRISPRi-E2G:JUP         CRISPRi-E2G:KCNN4 \n",
       "                        1                         1                         1 \n",
       "       CRISPRi-E2G:KDELR2           CRISPRi-E2G:KEL         CRISPRi-E2G:KIF2A \n",
       "                        1                         1                         1 \n",
       "          CRISPRi-E2G:KIT          CRISPRi-E2G:KLF1         CRISPRi-E2G:KLRF1 \n",
       "                        2                         3                         1 \n",
       "        CRISPRi-E2G:KRT10         CRISPRi-E2G:KRT19         CRISPRi-E2G:LARP1 \n",
       "                        1                         1                         1 \n",
       "         CRISPRi-E2G:LDHA        CRISPRi-E2G:LGALS3         CRISPRi-E2G:LIMK2 \n",
       "                        1                         1                         1 \n",
       "       CRISPRi-E2G:LIN28A     CRISPRi-E2G:LINC00534     CRISPRi-E2G:LINC00659 \n",
       "                        1                         1                         1 \n",
       "    CRISPRi-E2G:LINC01033          CRISPRi-E2G:LMO2          CRISPRi-E2G:LSM3 \n",
       "                        2                         4                         1 \n",
       "         CRISPRi-E2G:LY6E          CRISPRi-E2G:LYL1           CRISPRi-E2G:LYN \n",
       "                        1                         1                         3 \n",
       "       CRISPRi-E2G:MANSC1          CRISPRi-E2G:MBD3          CRISPRi-E2G:MEG3 \n",
       "                        1                         1                         1 \n",
       "        CRISPRi-E2G:MEX3B         CRISPRi-E2G:MFGE8         CRISPRi-E2G:MGAT3 \n",
       "                        1                         3                         1 \n",
       "       CRISPRi-E2G:MINPP1          CRISPRi-E2G:MITF         CRISPRi-E2G:MKNK2 \n",
       "                        1                         1                         1 \n",
       "        CRISPRi-E2G:MOCS2          CRISPRi-E2G:MPST         CRISPRi-E2G:MRAP2 \n",
       "                        2                         1                         1 \n",
       "       CRISPRi-E2G:MRPS10        CRISPRi-E2G:MRPS23        CRISPRi-E2G:MS4A4A \n",
       "                        2                         1                         1 \n",
       "          CRISPRi-E2G:MSN           CRISPRi-E2G:MYC         CRISPRi-E2G:NAT10 \n",
       "                        2                         9                         1 \n",
       "         CRISPRi-E2G:NAV1        CRISPRi-E2G:NDUFB2        CRISPRi-E2G:NDUFB4 \n",
       "                        1                         1                         1 \n",
       "         CRISPRi-E2G:NENF          CRISPRi-E2G:NET1          CRISPRi-E2G:NFE2 \n",
       "                        1                         2                         3 \n",
       "          CRISPRi-E2G:NMU         CRISPRi-E2G:NPTXR          CRISPRi-E2G:NRTN \n",
       "                        3                         1                         1 \n",
       "       CRISPRi-E2G:NSMCE2         CRISPRi-E2G:NUCB1          CRISPRi-E2G:NUDC \n",
       "                        1                         1                         1 \n",
       "       CRISPRi-E2G:OR2AT4          CRISPRi-E2G:PCTP         CRISPRi-E2G:PDIA6 \n",
       "                        1                         1                         1 \n",
       "       CRISPRi-E2G:PDLIM1         CRISPRi-E2G:PDZD8         CRISPRi-E2G:PEX19 \n",
       "                        1                         1                         1 \n",
       "        CRISPRi-E2G:PHF19        CRISPRi-E2G:PICALM          CRISPRi-E2G:PIM1 \n",
       "                        1                         6                         2 \n",
       "         CRISPRi-E2G:PIM2           CRISPRi-E2G:PKM        CRISPRi-E2G:PKNOX1 \n",
       "                        2                         1                         1 \n",
       "     CRISPRi-E2G:PLA2G12A        CRISPRi-E2G:PLAGL1         CRISPRi-E2G:PLIN3 \n",
       "                        1                         1                         1 \n",
       "         CRISPRi-E2G:PLP2      CRISPRi-E2G:PPP1R14C       CRISPRi-E2G:PPP1R35 \n",
       "                        7                         1                         1 \n",
       "      CRISPRi-E2G:PPP1R9B         CRISPRi-E2G:PQBP1         CRISPRi-E2G:PRDX2 \n",
       "                        1                         3                         6 \n",
       "      CRISPRi-E2G:PRELID2        CRISPRi-E2G:PRKAA1       CRISPRi-E2G:PRKAR2B \n",
       "                        1                         1                         5 \n",
       "        CRISPRi-E2G:PRKCB         CRISPRi-E2G:PSMA1        CRISPRi-E2G:PTGER3 \n",
       "                        3                         1                         1 \n",
       "        CRISPRi-E2G:PTPRC         CRISPRi-E2G:PYCR2         CRISPRi-E2G:RAB21 \n",
       "                        1                         1                         1 \n",
       "        CRISPRi-E2G:RAB31        CRISPRi-E2G:RAD23A          CRISPRi-E2G:RELN \n",
       "                        1                         1                         1 \n",
       "         CRISPRi-E2G:RHAG        CRISPRi-E2G:RNASE1        CRISPRi-E2G:RNF213 \n",
       "                        1                         1                         1 \n",
       "        CRISPRi-E2G:RNF24          CRISPRi-E2G:RNH1  CRISPRi-E2G:RP11-20B24.2 \n",
       "                        1                         1                         1 \n",
       " CRISPRi-E2G:RP11-328K4.1 CRISPRi-E2G:RP11-498C9.15 CRISPRi-E2G:RP11-809O17.1 \n",
       "                        1                         1                         1 \n",
       " CRISPRi-E2G:RP11-85G21.3   CRISPRi-E2G:RP3-460G2.2   CRISPRi-E2G:RP6-159A1.3 \n",
       "                        1                         2                         2 \n",
       "         CRISPRi-E2G:RPN1       CRISPRi-E2G:RPS6KC1          CRISPRi-E2G:RTN4 \n",
       "                        1                         1                         1 \n",
       "       CRISPRi-E2G:SAMSN1        CRISPRi-E2G:SCARB1          CRISPRi-E2G:SCG3 \n",
       "                        1                         1                         2 \n",
       "         CRISPRi-E2G:SDHB       CRISPRi-E2G:SEC61A2      CRISPRi-E2G:SERPINH1 \n",
       "                        1                         1                         1 \n",
       "        CRISPRi-E2G:SIAH2          CRISPRi-E2G:SKA1       CRISPRi-E2G:SLC10A4 \n",
       "                        2                         1                         1 \n",
       "      CRISPRi-E2G:SLC20A1      CRISPRi-E2G:SLC25A37      CRISPRi-E2G:SLC25A39 \n",
       "                        1                         1                         3 \n",
       "       CRISPRi-E2G:SLC6A6        CRISPRi-E2G:SMIM10        CRISPRi-E2G:SNHG15 \n",
       "                        2                         1                         1 \n",
       "        CRISPRi-E2G:SOCS1         CRISPRi-E2G:SOCS3         CRISPRi-E2G:SPCS3 \n",
       "                        2                         1                         1 \n",
       "          CRISPRi-E2G:SPN         CRISPRi-E2G:SPTA1        CRISPRi-E2G:SRD5A3 \n",
       "                        1                         2                         1 \n",
       "        CRISPRi-E2G:SRSF7         CRISPRi-E2G:SSBP2       CRISPRi-E2G:ST3GAL5 \n",
       "                        2                         2                         1 \n",
       "          CRISPRi-E2G:ST7       CRISPRi-E2G:STEAP1B         CRISPRi-E2G:STMN1 \n",
       "                        1                         1                         1 \n",
       "        CRISPRi-E2G:STRBP        CRISPRi-E2G:SYNGR1         CRISPRi-E2G:SYT10 \n",
       "                        1                         1                         1 \n",
       "       CRISPRi-E2G:TCEAL8         CRISPRi-E2G:TEX15          CRISPRi-E2G:TFRC \n",
       "                        1                         2                         1 \n",
       "       CRISPRi-E2G:TGFBR1        CRISPRi-E2G:TIMM13         CRISPRi-E2G:TMED9 \n",
       "                        1                         1                         1 \n",
       "      CRISPRi-E2G:TMEM165      CRISPRi-E2G:TMEM183A        CRISPRi-E2G:TMEM56 \n",
       "                        1                         1                         4 \n",
       "       CRISPRi-E2G:TMEM98        CRISPRi-E2G:TMSB10        CRISPRi-E2G:TMSB4X \n",
       "                        1                         1                         6 \n",
       "         CRISPRi-E2G:TNIK          CRISPRi-E2G:TOP1       CRISPRi-E2G:TPD52L1 \n",
       "                        1                         1                         1 \n",
       "        CRISPRi-E2G:TPST2        CRISPRi-E2G:TRIM24        CRISPRi-E2G:TRIM27 \n",
       "                        1                         1                         1 \n",
       "       CRISPRi-E2G:TRIM58        CRISPRi-E2G:TSPAN5         CRISPRi-E2G:TUBG1 \n",
       "                        1                         2                         1 \n",
       "        CRISPRi-E2G:UBE2F        CRISPRi-E2G:UBE2Q2          CRISPRi-E2G:UBTF \n",
       "                        2                         1                         1 \n",
       "          CRISPRi-E2G:UXT          CRISPRi-E2G:VAPA           CRISPRi-E2G:VCL \n",
       "                        1                         1                         1 \n",
       "         CRISPRi-E2G:WDR3         CRISPRi-E2G:WIPF3          CRISPRi-E2G:XPR1 \n",
       "                        1                         1                         1 \n",
       "      CRISPRi-E2G:ZDHHC19          CRISPRi-E2G:ZEB2       CRISPRi-E2G:ZFP36L2 \n",
       "                        1                         1                         3 \n",
       "       CRISPRi-E2G:ZMYND8        CRISPRi-E2G:ZNF431        CRISPRi-E2G:ZNF550 \n",
       "                        2                         1                         1 \n",
       "       CRISPRi-E2G:ZNF672 \n",
       "                        1 "
      ]
     },
     "metadata": {},
     "output_type": "display_data"
    }
   ],
   "source": [
    "dat = dat_peak_crispri_e2g_arrange\n",
    "print(dim(dat))\n",
    "table(dat$Assay_Label)"
   ]
  },
  {
   "cell_type": "code",
   "execution_count": 13,
   "metadata": {},
   "outputs": [
    {
     "data": {
      "text/html": [
       "<table class=\"dataframe\">\n",
       "<caption>A tibble: 10 × 2</caption>\n",
       "<thead>\n",
       "\t<tr><th scope=col>Name</th><th scope=col>Description</th></tr>\n",
       "\t<tr><th scope=col>&lt;chr&gt;</th><th scope=col>&lt;chr&gt;</th></tr>\n",
       "</thead>\n",
       "<tbody>\n",
       "\t<tr><td>Chrom      </td><td>Chromosome of the perturbed element                                                                              </td></tr>\n",
       "\t<tr><td>Start      </td><td>Start of the perturbed element (0-based)                                                                         </td></tr>\n",
       "\t<tr><td>End        </td><td>End of the perturbed element                                                                                     </td></tr>\n",
       "\t<tr><td>Name       </td><td>Identifier for the given E-G pair in the form of 'gene|chr:start-stop:strand', e.g. 'BET1L|chr11:220536-220704:*'</td></tr>\n",
       "\t<tr><td>Score      </td><td>Change in gene expression upon CRISPRi perturbation, e.g. precentage change in expression or log fold change     </td></tr>\n",
       "\t<tr><td>Gene_Symbol</td><td>target gene symbol                                                                                               </td></tr>\n",
       "\t<tr><td>Gene_TSS   </td><td>target gene TSS                                                                                                  </td></tr>\n",
       "\t<tr><td>Reference  </td><td>Study from which this E-G pair was collected, e.g. Fulco2019                                                     </td></tr>\n",
       "\t<tr><td>Assay_Type </td><td>Assay type                                                                                                       </td></tr>\n",
       "\t<tr><td>Assay_Label</td><td>Assay label                                                                                                      </td></tr>\n",
       "</tbody>\n",
       "</table>\n"
      ],
      "text/latex": [
       "A tibble: 10 × 2\n",
       "\\begin{tabular}{ll}\n",
       " Name & Description\\\\\n",
       " <chr> & <chr>\\\\\n",
       "\\hline\n",
       "\t Chrom       & Chromosome of the perturbed element                                                                              \\\\\n",
       "\t Start       & Start of the perturbed element (0-based)                                                                         \\\\\n",
       "\t End         & End of the perturbed element                                                                                     \\\\\n",
       "\t Name        & Identifier for the given E-G pair in the form of 'gene\\textbar{}chr:start-stop:strand', e.g. 'BET1L\\textbar{}chr11:220536-220704:*'\\\\\n",
       "\t Score       & Change in gene expression upon CRISPRi perturbation, e.g. precentage change in expression or log fold change     \\\\\n",
       "\t Gene\\_Symbol & target gene symbol                                                                                               \\\\\n",
       "\t Gene\\_TSS    & target gene TSS                                                                                                  \\\\\n",
       "\t Reference   & Study from which this E-G pair was collected, e.g. Fulco2019                                                     \\\\\n",
       "\t Assay\\_Type  & Assay type                                                                                                       \\\\\n",
       "\t Assay\\_Label & Assay label                                                                                                      \\\\\n",
       "\\end{tabular}\n"
      ],
      "text/markdown": [
       "\n",
       "A tibble: 10 × 2\n",
       "\n",
       "| Name &lt;chr&gt; | Description &lt;chr&gt; |\n",
       "|---|---|\n",
       "| Chrom       | Chromosome of the perturbed element                                                                               |\n",
       "| Start       | Start of the perturbed element (0-based)                                                                          |\n",
       "| End         | End of the perturbed element                                                                                      |\n",
       "| Name        | Identifier for the given E-G pair in the form of 'gene|chr:start-stop:strand', e.g. 'BET1L|chr11:220536-220704:*' |\n",
       "| Score       | Change in gene expression upon CRISPRi perturbation, e.g. precentage change in expression or log fold change      |\n",
       "| Gene_Symbol | target gene symbol                                                                                                |\n",
       "| Gene_TSS    | target gene TSS                                                                                                   |\n",
       "| Reference   | Study from which this E-G pair was collected, e.g. Fulco2019                                                      |\n",
       "| Assay_Type  | Assay type                                                                                                        |\n",
       "| Assay_Label | Assay label                                                                                                       |\n",
       "\n"
      ],
      "text/plain": [
       "   Name       \n",
       "1  Chrom      \n",
       "2  Start      \n",
       "3  End        \n",
       "4  Name       \n",
       "5  Score      \n",
       "6  Gene_Symbol\n",
       "7  Gene_TSS   \n",
       "8  Reference  \n",
       "9  Assay_Type \n",
       "10 Assay_Label\n",
       "   Description                                                                                                      \n",
       "1  Chromosome of the perturbed element                                                                              \n",
       "2  Start of the perturbed element (0-based)                                                                         \n",
       "3  End of the perturbed element                                                                                     \n",
       "4  Identifier for the given E-G pair in the form of 'gene|chr:start-stop:strand', e.g. 'BET1L|chr11:220536-220704:*'\n",
       "5  Change in gene expression upon CRISPRi perturbation, e.g. precentage change in expression or log fold change     \n",
       "6  target gene symbol                                                                                               \n",
       "7  target gene TSS                                                                                                  \n",
       "8  Study from which this E-G pair was collected, e.g. Fulco2019                                                     \n",
       "9  Assay type                                                                                                       \n",
       "10 Assay label                                                                                                      "
      ]
     },
     "metadata": {},
     "output_type": "display_data"
    }
   ],
   "source": [
    "dat_cnames = tribble(\n",
    "    ~Name,      ~Description,\n",
    "    \"Chrom\",    \"Chromosome of the perturbed element\",\n",
    "    \"Start\",    \"Start of the perturbed element (0-based)\",\n",
    "    \"End\",      \"End of the perturbed element\",\n",
    "    \"Name\",     \"Identifier for the given E-G pair in the form of 'gene|chr:start-stop:strand', e.g. 'BET1L|chr11:220536-220704:*'\",\n",
    "    \"Score\",     \"Change in gene expression upon CRISPRi perturbation, e.g. precentage change in expression or log fold change\",\n",
    "    \"Gene_Symbol\", \"target gene symbol\",\n",
    "    \"Gene_TSS\",    \"target gene TSS\",\n",
    "    \"Reference\", \"Study from which this E-G pair was collected, e.g. Fulco2019\",\n",
    "    \"Assay_Type\",  \"Assay type\",\n",
    "    \"Assay_Label\", \"Assay label\"\n",
    ")\n",
    "dat_cnames"
   ]
  },
  {
   "cell_type": "markdown",
   "metadata": {},
   "source": [
    "## Save results"
   ]
  },
  {
   "cell_type": "code",
   "execution_count": 11,
   "metadata": {},
   "outputs": [
    {
     "name": "stdout",
     "output_type": "stream",
     "text": [
      "[1] \"/data/reddylab/Kuei/out/proj_combeffect_encode_fcc/results/region/annotation_crispri_e2g/description.tsv\"\n"
     ]
    }
   ],
   "source": [
    "fdiry = file.path(FD_RES, \"results\", \"region\", \"annotation_crispri_e2g\")\n",
    "fname = \"description.tsv\"\n",
    "fpath = file.path(fdiry, fname)\n",
    "print(fpath)\n",
    "\n",
    "dat = dat_cnames\n",
    "write_tsv(dat, fpath)"
   ]
  },
  {
   "cell_type": "code",
   "execution_count": 12,
   "metadata": {},
   "outputs": [
    {
     "name": "stdout",
     "output_type": "stream",
     "text": [
      "[1] \"/data/reddylab/Kuei/out/proj_combeffect_encode_fcc/results/region/annotation_crispri_e2g/crispri_e2g.region.bed.gz\"\n"
     ]
    }
   ],
   "source": [
    "fdiry = file.path(FD_RES, \"results\", \"region\", \"annotation_crispri_e2g\")\n",
    "fname = \"crispri_e2g.region.bed.gz\"\n",
    "fpath = file.path(fdiry, fname)\n",
    "print(fpath)\n",
    "\n",
    "dat = dat_peak_crispri_e2g_arrange\n",
    "write_tsv(dat, fpath, col_names = FALSE)"
   ]
  },
  {
   "cell_type": "code",
   "execution_count": 13,
   "metadata": {},
   "outputs": [
    {
     "name": "stdout",
     "output_type": "stream",
     "text": [
      "[1] \"/data/reddylab/Kuei/out/proj_combeffect_encode_fcc/results/region/annotation_crispri_e2g/crispri_e2g.region2TSS.bedpe.gz\"\n"
     ]
    }
   ],
   "source": [
    "fdiry = file.path(FD_RES, \"results\", \"region\", \"annotation_crispri_e2g\")\n",
    "fname = \"crispri_e2g.region2TSS.bedpe.gz\"\n",
    "fpath = file.path(fdiry, fname)\n",
    "print(fpath)\n",
    "\n",
    "dat = dat_peak_crispri_e2g_bedpe\n",
    "colnames(dat)[1] = \"#chrom\"\n",
    "write_tsv(dat, fpath)"
   ]
  },
  {
   "cell_type": "code",
   "execution_count": 19,
   "metadata": {},
   "outputs": [
    {
     "name": "stdout",
     "output_type": "stream",
     "text": [
      "[1] \"/data/reddylab/Kuei/out/proj_combeffect_encode_fcc/results/region/annotation_crispri_e2g/crispri_e2g.region2TSS.inter.bed\"\n"
     ]
    }
   ],
   "source": [
    "fdiry = file.path(FD_RES, \"results\", \"region\", \"annotation_crispri_e2g\")\n",
    "fname = \"crispri_e2g.region2TSS.inter.bed\"\n",
    "fpath = file.path(fdiry, fname)\n",
    "print(fpath)\n",
    "\n",
    "dat = dat_peak_crispri_e2g_interact\n",
    "colnames(dat)[1] = \"#chrom\"\n",
    "write_tsv(dat, fpath, col_names = FALSE)"
   ]
  },
  {
   "cell_type": "code",
   "execution_count": null,
   "metadata": {},
   "outputs": [],
   "source": []
  }
 ],
 "metadata": {
  "kernelspec": {
   "display_name": "R",
   "language": "R",
   "name": "ir"
  },
  "language_info": {
   "codemirror_mode": "r",
   "file_extension": ".r",
   "mimetype": "text/x-r-source",
   "name": "R",
   "pygments_lexer": "r",
   "version": "4.3.1"
  }
 },
 "nbformat": 4,
 "nbformat_minor": 4
}
