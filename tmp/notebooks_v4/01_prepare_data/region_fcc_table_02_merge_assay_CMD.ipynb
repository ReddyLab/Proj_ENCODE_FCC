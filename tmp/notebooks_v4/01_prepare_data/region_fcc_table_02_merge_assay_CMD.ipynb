{
 "cells": [
  {
   "cell_type": "markdown",
   "id": "bba1d7e0-97af-4add-b102-c42e48d71049",
   "metadata": {},
   "source": [
    "**Set environment**"
   ]
  },
  {
   "cell_type": "code",
   "execution_count": 1,
   "id": "da6bbf21-f175-42b0-bd4a-3a5320910fe6",
   "metadata": {},
   "outputs": [
    {
     "name": "stdout",
     "output_type": "stream",
     "text": [
      "You are on Duke Server: HARDAC\n",
      "BASE DIRECTORY (FD_BASE): /data/reddylab/Kuei\n",
      "WORK DIRECTORY (FD_WORK): /data/reddylab/Kuei/out\n",
      "CODE DIRECTORY (FD_CODE): /data/reddylab/Kuei/code\n",
      "SING DIRECTORY (FD_SING): /data/reddylab/Kuei/singularity\n",
      "PATH OF PROJECT (FD_PRJ): /data/reddylab/Kuei/code/Proj_CombEffect_ENCODE_FCC\n",
      "PATH OF RESULTS (FD_RES): /data/reddylab/Kuei/out/proj_combeffect_encode_fcc\n",
      "PATH OF LOG     (FD_LOG): /data/reddylab/Kuei/out/proj_combeffect_encode_fcc/log\n",
      "\n"
     ]
    }
   ],
   "source": [
    "### set env\n",
    "source ../config/config_duke.sh\n",
    "source ../config/config_load_module_bedtools.sh\n",
    "show_env"
   ]
  },
  {
   "cell_type": "markdown",
   "id": "737f5920-71e3-411c-9a97-e3f26065a562",
   "metadata": {},
   "source": [
    "**Check data: STARR/MPRA**"
   ]
  },
  {
   "cell_type": "code",
   "execution_count": 2,
   "id": "f0c27533-c038-4b15-b0c5-9da109cec4e0",
   "metadata": {},
   "outputs": [
    {
     "name": "stdout",
     "output_type": "stream",
     "text": [
      "description.tsv\n",
      "\u001b[0m\u001b[38;5;9menhancer_zscore_junke.inactive.ASTARR.bed.gz\u001b[0m\n",
      "\u001b[38;5;9menhancer_zscore_junke.inactive.ASTARR.merge.bed.gz\u001b[0m\n",
      "\u001b[38;5;9menhancer_zscore_junke.inactive.LMPRA.bed.gz\u001b[0m\n",
      "\u001b[38;5;9menhancer_zscore_junke.inactive.LMPRA.merge.bed.gz\u001b[0m\n",
      "\u001b[38;5;9menhancer_zscore_junke.inactive.TMPRA.bed.gz\u001b[0m\n",
      "\u001b[38;5;9menhancer_zscore_junke.inactive.TMPRA.merge.bed.gz\u001b[0m\n",
      "\u001b[38;5;9menhancer_zscore_junke.inactive.TMPRA_OL13.bed.gz\u001b[0m\n",
      "\u001b[38;5;9menhancer_zscore_junke.inactive.TMPRA_OL43.bed.gz\u001b[0m\n",
      "\u001b[38;5;9menhancer_zscore_junke.inactive.TMPRA_OL45.bed.gz\u001b[0m\n",
      "\u001b[38;5;9menhancer_zscore_junke.inactive.WSTARR.bed.gz\u001b[0m\n",
      "\u001b[38;5;9menhancer_zscore_junke.inactive.WSTARR.merge.bed.gz\u001b[0m\n",
      "\u001b[38;5;9menhancer_zscore_junke.peak.ASTARR_AB.bed.gz\u001b[0m\n",
      "\u001b[38;5;9menhancer_zscore_junke.peak.ASTARR_A.bed.gz\u001b[0m\n",
      "\u001b[38;5;9menhancer_zscore_junke.peak.ASTARR.concat.bed.gz\u001b[0m\n",
      "\u001b[38;5;9menhancer_zscore_junke.peak.ASTARR.merge.bed.gz\u001b[0m\n",
      "\u001b[38;5;9menhancer_zscore_junke.peak.ASTARR_R.bed.gz\u001b[0m\n",
      "\u001b[38;5;9menhancer_zscore_junke.peak.LMPRA_AB.bed.gz\u001b[0m\n",
      "\u001b[38;5;9menhancer_zscore_junke.peak.LMPRA_A.bed.gz\u001b[0m\n",
      "\u001b[38;5;9menhancer_zscore_junke.peak.LMPRA.concat.bed.gz\u001b[0m\n",
      "\u001b[38;5;9menhancer_zscore_junke.peak.LMPRA.merge.bed.gz\u001b[0m\n",
      "\u001b[38;5;9menhancer_zscore_junke.peak.LMPRA_R.bed.gz\u001b[0m\n",
      "\u001b[38;5;9menhancer_zscore_junke.peak.TMPRA_A.bed.gz\u001b[0m\n",
      "\u001b[38;5;9menhancer_zscore_junke.peak.TMPRA.concat.bed.gz\u001b[0m\n",
      "\u001b[38;5;9menhancer_zscore_junke.peak.TMPRA.merge.bed.gz\u001b[0m\n",
      "\u001b[38;5;9menhancer_zscore_junke.peak.TMPRA_R.bed.gz\u001b[0m\n",
      "\u001b[38;5;9menhancer_zscore_junke.peak.WSTARR_AB.bed.gz\u001b[0m\n",
      "\u001b[38;5;9menhancer_zscore_junke.peak.WSTARR_A.bed.gz\u001b[0m\n",
      "\u001b[38;5;9menhancer_zscore_junke.peak.WSTARR.concat.bed.gz\u001b[0m\n",
      "\u001b[38;5;9menhancer_zscore_junke.peak.WSTARR.merge.bed.gz\u001b[0m\n",
      "\u001b[38;5;9menhancer_zscore_junke.peak.WSTARR_R.bed.gz\u001b[0m\n",
      "\u001b[38;5;27mtmp\u001b[0m\n"
     ]
    }
   ],
   "source": [
    "ls -1 ${FD_RES}/results/region/annotation_enhancer_zscore_junke"
   ]
  },
  {
   "cell_type": "code",
   "execution_count": 3,
   "id": "ada9e2d6-2ba7-478c-810e-0f2c58c6169a",
   "metadata": {},
   "outputs": [
    {
     "name": "stdout",
     "output_type": "stream",
     "text": [
      "enhancer_zscore_junke.peak.ASTARR.concat.bed.gz\n",
      "enhancer_zscore_junke.peak.LMPRA.concat.bed.gz\n",
      "enhancer_zscore_junke.peak.TMPRA.concat.bed.gz\n",
      "enhancer_zscore_junke.peak.WSTARR.concat.bed.gz\n"
     ]
    }
   ],
   "source": [
    "FD_INP=${FD_RES}/results/region/annotation_enhancer_zscore_junke\n",
    "ls ${FD_INP}/*peak*{ASTARR,WSTARR,TMPRA,LMPRA}.concat.bed.gz | xargs -n 1 basename"
   ]
  },
  {
   "cell_type": "markdown",
   "id": "2f4ae14f-0cde-4c09-b4ee-6a77b98242d1",
   "metadata": {},
   "source": [
    "**Check data: CRISPRi-HCRFF**"
   ]
  },
  {
   "cell_type": "code",
   "execution_count": 4,
   "id": "2fa8032a-5701-45bd-b833-41826d7c8ec4",
   "metadata": {},
   "outputs": [
    {
     "name": "stdout",
     "output_type": "stream",
     "text": [
      "\u001b[0m\u001b[38;5;9mcrispri_hcrff.casa.bed.gz\u001b[0m\n",
      "\u001b[38;5;9mcrispri_hcrff.casa.merge.bed.gz\u001b[0m\n",
      "crispri_hcrff.casa.tsv\n",
      "crispri_hcrff_gene_tss.tsv\n",
      "description.tsv\n",
      "K562_HCRFF_20genes_TSS_TES_coords.tsv\n"
     ]
    }
   ],
   "source": [
    "ls -1 ${FD_RES}/results/region/annotation_crispri_hcrff"
   ]
  },
  {
   "cell_type": "code",
   "execution_count": 5,
   "id": "b3690fb8-a79e-44fe-89a4-634c1c6b538f",
   "metadata": {},
   "outputs": [
    {
     "name": "stdout",
     "output_type": "stream",
     "text": [
      "chr11\t5248847\t5249047\tchr11:5248847-5249047\t1.0686240084405354\t.\tHBG1\tENST00000330597.5\tCRISPRi-HCRFF\tCRISPRi-HCRFF:HBG1\n",
      "chr11\t5248847\t5249047\tchr11:5248847-5249047\t0.9357700699599828\t.\tHBG2\tENST00000336906.6\tCRISPRi-HCRFF\tCRISPRi-HCRFF:HBG2\n",
      "chr11\t5249847\t5250847\tchr11:5249847-5250847\t1.8908898984108689\t.\tHBG1\tENST00000330597.5\tCRISPRi-HCRFF\tCRISPRi-HCRFF:HBG1\n"
     ]
    }
   ],
   "source": [
    "FD_INP=${FD_RES}/results/region/annotation_crispri_hcrff\n",
    "FN_INP=crispri_hcrff.casa.bed.gz\n",
    "FP_INP=${FD_INP}/${FN_INP}\n",
    "zcat ${FP_INP} | head -n 3"
   ]
  },
  {
   "cell_type": "markdown",
   "id": "476c73f3-8afc-4125-bc13-94868d816b9b",
   "metadata": {},
   "source": [
    "**Check data: CRISPRi-Growth**"
   ]
  },
  {
   "cell_type": "code",
   "execution_count": 27,
   "id": "f73bb227-c326-46bc-93ad-11008571bdb0",
   "metadata": {},
   "outputs": [
    {
     "name": "stdout",
     "output_type": "stream",
     "text": [
      "\u001b[0m\u001b[38;5;9mcrispri_growth.dhs.active.bed.gz\u001b[0m\n",
      "\u001b[38;5;9mcrispri_growth.dhs.total.bed.gz\u001b[0m\n",
      "description.tsv\n"
     ]
    }
   ],
   "source": [
    "ls -1 ${FD_RES}/results/region/annotation_crispri_growth"
   ]
  },
  {
   "cell_type": "code",
   "execution_count": 28,
   "id": "3cf65474-1e65-49ae-9391-7bea01045687",
   "metadata": {},
   "outputs": [
    {
     "name": "stdout",
     "output_type": "stream",
     "text": [
      "chr1\t605550\t605627\tchr1.1.1\t-0.985933797051245\t3.24578658189092e-11\tchr1:605550-605627\tCRISPRi-Growth\tCRISPRi-Growth\n",
      "chr1\t826642\t827902\tchr1.4.8\t0.185507412283124\t0.0325051212861127\tchr1:826642-827902\tCRISPRi-Growth\tCRISPRi-Growth\n",
      "chr1\t964946\t965136\tchr1.41.7\t-1.1466792071519\t1.46465391074394e-26\tchr1:964946-965136\tCRISPRi-Growth\tCRISPRi-Growth\n"
     ]
    }
   ],
   "source": [
    "FD_INP=${FD_RES}/results/region/annotation_crispri_growth\n",
    "FN_INP=crispri_growth.dhs.active.bed.gz\n",
    "FP_INP=${FD_INP}/${FN_INP}\n",
    "zcat ${FP_INP} | head -n 3"
   ]
  },
  {
   "cell_type": "markdown",
   "id": "dfa445e3-7106-4789-a535-9ae96ee348d4",
   "metadata": {},
   "source": [
    "**Check data: ENCODE-E2G Benchmark**"
   ]
  },
  {
   "cell_type": "code",
   "execution_count": 6,
   "id": "dcceb409-41f0-4ed5-836d-e1020c459319",
   "metadata": {},
   "outputs": [
    {
     "name": "stdout",
     "output_type": "stream",
     "text": [
      "description.tsv\n",
      "\u001b[0m\u001b[38;5;9mK562.EPCrisprBenchmark.active.bed.gz\u001b[0m\n",
      "\u001b[38;5;9mK562.EPCrisprBenchmark.active.merge.bed.gz\u001b[0m\n",
      "K562.EPCrisprBenchmark.active.region2TSS_Original.bed\n",
      "\u001b[38;5;9mK562.EPCrisprBenchmark.active.region2TSS_Original.bedpe.gz\u001b[0m\n",
      "K562.EPCrisprBenchmark.active.region2TSS_Original.bigInteract\n",
      "K562.EPCrisprBenchmark.active.region2TSS_Updated.bed\n",
      "\u001b[38;5;9mK562.EPCrisprBenchmark.active.region2TSS_Updated.bedpe.gz\u001b[0m\n",
      "K562.EPCrisprBenchmark.active.region2TSS_Updated.bigInteract\n",
      "\u001b[38;5;9mK562.EPCrisprBenchmark.total.bed.gz\u001b[0m\n",
      "\u001b[38;5;9mK562.EPCrisprBenchmark.total.merge.bed.gz\u001b[0m\n",
      "K562.EPCrisprBenchmark.total.region2TSS_Original.bed\n",
      "\u001b[38;5;9mK562.EPCrisprBenchmark.total.region2TSS_Original.bedpe.gz\u001b[0m\n",
      "K562.EPCrisprBenchmark.total.region2TSS_Original.bigInteract\n",
      "K562.EPCrisprBenchmark.total.region2TSS_Updated.bed\n",
      "\u001b[38;5;9mK562.EPCrisprBenchmark.total.region2TSS_Updated.bedpe.gz\u001b[0m\n",
      "K562.EPCrisprBenchmark.total.region2TSS_Updated.bigInteract\n",
      "\u001b[38;5;27mtmp\u001b[0m\n"
     ]
    }
   ],
   "source": [
    "FD_INP=${FD_RES}/results/region/annotation_encode_e2g_benchmark\n",
    "ls ${FD_INP}"
   ]
  },
  {
   "cell_type": "code",
   "execution_count": 7,
   "id": "85b2902b-b672-4d35-93c1-63c00ad855c3",
   "metadata": {},
   "outputs": [
    {
     "name": "stdout",
     "output_type": "stream",
     "text": [
      "K562.EPCrisprBenchmark.active.bed.gz\n",
      "K562.EPCrisprBenchmark.total.bed.gz\n"
     ]
    }
   ],
   "source": [
    "FD_INP=${FD_RES}/results/region/annotation_encode_e2g_benchmark\n",
    "ls ${FD_INP}/*{active,total}.bed.gz | xargs -n 1 basename"
   ]
  },
  {
   "cell_type": "code",
   "execution_count": 8,
   "id": "a2bb158d-b5bf-461e-a5cd-10a80ce142d4",
   "metadata": {},
   "outputs": [
    {
     "name": "stdout",
     "output_type": "stream",
     "text": [
      "chr1\t3774714\t3775214\tCEP104|chr1:3691278-3691778:*\t-0.29343\tchr1:3774714-3775214\tCEP104\tchr1:3857213-3857214\tTRUE\tUlirsch2016\tENCODE-E2G_Benchmark\tENCODE-E2G_Benchmark:CEP104\n",
      "chr1\t3774714\t3775214\tLRRC47|chr1:3691278-3691778:*\t-0.33118\tchr1:3774714-3775214\tLRRC47\tchr1:3796503-3796504\tTRUE\tUlirsch2016\tENCODE-E2G_Benchmark\tENCODE-E2G_Benchmark:LRRC47\n",
      "chr1\t3774714\t3775214\tSMIM1|chr1:3691278-3691778:*\t-0.47202\tchr1:3774714-3775214\tSMIM1\tchr1:3772761-3772762\tTRUE\tUlirsch2016\tENCODE-E2G_Benchmark\tENCODE-E2G_Benchmark:SMIM1\n"
     ]
    }
   ],
   "source": [
    "FD_INP=${FD_RES}/results/region/annotation_encode_e2g_benchmark\n",
    "FN_INP=K562.EPCrisprBenchmark.active.bed.gz\n",
    "FP_INP=${FD_INP}/${FN_INP}\n",
    "zcat ${FP_INP} | head -n 3"
   ]
  },
  {
   "cell_type": "code",
   "execution_count": 9,
   "id": "b98f0165-c0b8-4c87-b3a9-ccd67c03c792",
   "metadata": {},
   "outputs": [
    {
     "name": "stdout",
     "output_type": "stream",
     "text": [
      "chr1\t3774714\t3775214\tCEP104|chr1:3691278-3691778:*\t-0.29343\tchr1:3774714-3775214\tCEP104\tchr1:3857213-3857214\tTRUE\tUlirsch2016\tENCODE-E2G_Benchmark\tENCODE-E2G_Benchmark:CEP104\n",
      "chr1\t3774714\t3775214\tLRRC47|chr1:3691278-3691778:*\t-0.33118\tchr1:3774714-3775214\tLRRC47\tchr1:3796503-3796504\tTRUE\tUlirsch2016\tENCODE-E2G_Benchmark\tENCODE-E2G_Benchmark:LRRC47\n",
      "chr1\t3774714\t3775214\tSMIM1|chr1:3691278-3691778:*\t-0.47202\tchr1:3774714-3775214\tSMIM1\tchr1:3772761-3772762\tTRUE\tUlirsch2016\tENCODE-E2G_Benchmark\tENCODE-E2G_Benchmark:SMIM1\n"
     ]
    }
   ],
   "source": [
    "FD_INP=${FD_RES}/results/region/annotation_encode_e2g_benchmark\n",
    "FN_INP=K562.EPCrisprBenchmark.total.bed.gz\n",
    "FP_INP=${FD_INP}/${FN_INP}\n",
    "zcat ${FP_INP} | head -n 3"
   ]
  },
  {
   "cell_type": "markdown",
   "id": "943d7c25-bf6e-4f50-8ad9-c778b99410c5",
   "metadata": {},
   "source": [
    "**Check data: ENCODE-E2G Prediction**"
   ]
  },
  {
   "cell_type": "code",
   "execution_count": 10,
   "id": "0dc3f4d2-8282-4e9e-a1c1-1282bd118236",
   "metadata": {},
   "outputs": [
    {
     "name": "stdout",
     "output_type": "stream",
     "text": [
      "description.tsv\n",
      "\u001b[0m\u001b[38;5;9mK562.ENCSR328LMT.ENCFF122UMY.element_gene_links.total.bed.gz\u001b[0m\n",
      "\u001b[38;5;9mK562.ENCSR328LMT.ENCFF122UMY.element_gene_links.total.merge.bed.gz\u001b[0m\n",
      "\u001b[38;5;9mK562.ENCSR328LMT.ENCFF202FID.element_gene_links.active.bed.gz\u001b[0m\n",
      "\u001b[38;5;9mK562.ENCSR328LMT.ENCFF202FID.element_gene_links.active.merge.bed.gz\u001b[0m\n"
     ]
    }
   ],
   "source": [
    "FD_INP=${FD_RES}/results/region/annotation_encode_e2g_prediction\n",
    "ls ${FD_INP}"
   ]
  },
  {
   "cell_type": "code",
   "execution_count": 11,
   "id": "50cce397-5e65-486c-98d2-fbf0139b3143",
   "metadata": {},
   "outputs": [
    {
     "name": "stdout",
     "output_type": "stream",
     "text": [
      "K562.ENCSR328LMT.ENCFF122UMY.element_gene_links.total.bed.gz\n",
      "K562.ENCSR328LMT.ENCFF202FID.element_gene_links.active.bed.gz\n"
     ]
    }
   ],
   "source": [
    "FD_INP=${FD_RES}/results/region/annotation_encode_e2g_prediction\n",
    "ls ${FD_INP}/*{active,total}.bed.gz | xargs -n 1 basename"
   ]
  },
  {
   "cell_type": "code",
   "execution_count": 12,
   "id": "cf155d1b-0f87-4963-8016-27cb5b9171b7",
   "metadata": {},
   "outputs": [
    {
     "name": "stdout",
     "output_type": "stream",
     "text": [
      "chr1\t115484\t115984\tchr1:115484-115984\t0.41016\tintergenic\tENSG00000187634\tSAMD11\t925740\tENCODE-E2G_Prediction\tENCODE-E2G_Prediction:SAMD11\n",
      "chr1\t628759\t629259\tchr1:628759-629259\t0.34896\tpromoter\tENSG00000187583\tPLEKHN1\t966496\tENCODE-E2G_Prediction\tENCODE-E2G_Prediction:PLEKHN1\n",
      "chr1\t628759\t629259\tchr1:628759-629259\t0.34385\tpromoter\tENSG00000237330\tRNF223\t1074307\tENCODE-E2G_Prediction\tENCODE-E2G_Prediction:RNF223\n"
     ]
    }
   ],
   "source": [
    "FD_INP=${FD_RES}/results/region/annotation_encode_e2g_prediction\n",
    "FN_INP=K562.ENCSR328LMT.ENCFF202FID.element_gene_links.active.bed.gz\n",
    "FP_INP=${FD_INP}/${FN_INP}\n",
    "zcat ${FP_INP} | head -n 3"
   ]
  },
  {
   "cell_type": "code",
   "execution_count": 13,
   "id": "7205389e-efe6-4b4c-93e2-3d7e6663e1bd",
   "metadata": {},
   "outputs": [
    {
     "name": "stdout",
     "output_type": "stream",
     "text": [
      "chr1\t11623\t12123\tchr1:11623-12123\t0.0012\tpromoter\tENSG00000131584\tACAP3\t1307889\tENCODE-E2G_Prediction\tENCODE-E2G_Prediction:ACAP3\n",
      "chr1\t11623\t12123\tchr1:11623-12123\t0.00986\tpromoter\tENSG00000188157\tAGRN\t1020122\tENCODE-E2G_Prediction\tENCODE-E2G_Prediction:AGRN\n",
      "chr1\t11623\t12123\tchr1:11623-12123\t4.1e-4\tpromoter\tENSG00000197785\tATAD3A\t1512142\tENCODE-E2G_Prediction\tENCODE-E2G_Prediction:ATAD3A\n"
     ]
    }
   ],
   "source": [
    "FD_INP=${FD_RES}/results/region/annotation_encode_e2g_prediction\n",
    "FN_INP=K562.ENCSR328LMT.ENCFF122UMY.element_gene_links.total.bed.gz\n",
    "FP_INP=${FD_INP}/${FN_INP}\n",
    "zcat ${FP_INP} | head -n 3"
   ]
  },
  {
   "cell_type": "markdown",
   "id": "8c06216b-7b97-4717-8f3f-0a3d4dd0074f",
   "metadata": {},
   "source": [
    "**Check data: FCC table/enhancer merge**"
   ]
  },
  {
   "cell_type": "code",
   "execution_count": 14,
   "id": "ac4b61f6-ee74-4ce7-a909-2c51e878b0b2",
   "metadata": {},
   "outputs": [
    {
     "name": "stdout",
     "output_type": "stream",
     "text": [
      "\u001b[0m\u001b[38;5;27mannotation_ccre\u001b[0m\n",
      "\u001b[38;5;27mannotation_chromHMM\u001b[0m\n",
      "\u001b[38;5;27mannotation_tss_pol2\u001b[0m\n",
      "description.tsv\n",
      "\u001b[38;5;9mfcc_table.starrmpra.crispri.atac.concat.bed.gz\u001b[0m\n",
      "\u001b[38;5;9mfcc_table.starrmpra.crispri.atac.e2g_benchmark.concat.bed.gz\u001b[0m\n",
      "\u001b[38;5;9mfcc_table.starrmpra.crispri.atac.e2g_benchmark.e2g_prediction.concat.bed.gz\u001b[0m\n",
      "\u001b[38;5;9mfcc_table.starrmpra.crispri.atac.e2g_benchmark.e2g_prediction.merge.bed.gz\u001b[0m\n",
      "fcc_table.starrmpra.crispri.atac.e2g_benchmark.e2g_prediction.merge.tsv\n",
      "\u001b[38;5;9mfcc_table.starrmpra.crispri.atac.e2g_benchmark.merge.bed.gz\u001b[0m\n",
      "fcc_table.starrmpra.crispri.atac.e2g_benchmark.merge.tsv\n",
      "\u001b[38;5;27msummary\u001b[0m\n"
     ]
    }
   ],
   "source": [
    "FD_INP=${FD_RES}/results/region/annotation_fcc_table\n",
    "ls ${FD_INP}"
   ]
  },
  {
   "cell_type": "code",
   "execution_count": 15,
   "id": "87aa7ac7-fc4e-4743-bcd0-edebd6fbf5f9",
   "metadata": {},
   "outputs": [
    {
     "name": "stdout",
     "output_type": "stream",
     "text": [
      "fcc_table.starrmpra.crispri.atac.concat.bed.gz\n",
      "fcc_table.starrmpra.crispri.atac.e2g_benchmark.concat.bed.gz\n",
      "fcc_table.starrmpra.crispri.atac.e2g_benchmark.e2g_prediction.concat.bed.gz\n"
     ]
    }
   ],
   "source": [
    "FD_INP=${FD_RES}/results/region/annotation_fcc_table\n",
    "ls ${FD_INP}/*concat.bed.gz | xargs -n 1 basename"
   ]
  },
  {
   "cell_type": "code",
   "execution_count": 16,
   "id": "a729e35f-9a69-4c04-a009-d5abacf5366d",
   "metadata": {},
   "outputs": [
    {
     "name": "stdout",
     "output_type": "stream",
     "text": [
      "chr1\t10015\t10442\tATAC\tATAC\n",
      "chr1\t14253\t14645\tATAC\tATAC\n",
      "chr1\t16015\t16477\tATAC\tATAC\n",
      "chr1\t17237\t17772\tATAC\tATAC\n",
      "chr1\t28903\t29613\tATAC\tATAC\n",
      "chr1\t30803\t31072\tATAC\tATAC\n",
      "chr1\t101603\t101849\tATAC\tATAC\n",
      "chr1\t115411\t115986\tATAC\tATAC\n",
      "chr1\t115484\t115984\tENCODE-E2G_Prediction\tENCODE-E2G_Prediction:SAMD11\n",
      "chr1\t118518\t118743\tATAC\tATAC\n",
      "chr1\t136071\t137429\tATAC\tATAC\n",
      "chr1\t136520\t136950\tASTARR\tASTARR_R\n",
      "chr1\t137050\t137150\tASTARR\tASTARR_R\n",
      "chr1\t137737\t139544\tATAC\tATAC\n",
      "chr1\t180982\t182087\tATAC\tATAC\n",
      "chr1\t181600\t181790\tASTARR\tASTARR_R\n",
      "chr1\t183239\t184602\tATAC\tATAC\n"
     ]
    }
   ],
   "source": [
    "FD_INP=${FD_RES}/results/region/annotation_fcc_table\n",
    "FN_INP=fcc_table.starrmpra.crispri.atac.e2g_benchmark.e2g_prediction.concat.bed.gz\n",
    "FP_INP=${FD_INP}/${FN_INP}\n",
    "zcat ${FP_INP} | head -n 17"
   ]
  },
  {
   "cell_type": "code",
   "execution_count": 17,
   "id": "e6568f4f-d5f5-47ee-8968-209a9738d63b",
   "metadata": {},
   "outputs": [
    {
     "name": "stdout",
     "output_type": "stream",
     "text": [
      "chr1\t10015\t10442\tATAC\tATAC\n",
      "chr1\t14253\t14645\tATAC\tATAC\n",
      "chr1\t16015\t16477\tATAC\tATAC\n",
      "chr1\t17237\t17772\tATAC\tATAC\n",
      "chr1\t28903\t29613\tATAC\tATAC\n",
      "chr1\t30803\t31072\tATAC\tATAC\n",
      "chr1\t101603\t101849\tATAC\tATAC\n",
      "chr1\t115411\t115986\tATAC\tATAC\n",
      "chr1\t118518\t118743\tATAC\tATAC\n",
      "chr1\t136071\t137429\tATAC\tATAC\n",
      "chr1\t136520\t136950\tASTARR\tASTARR_R\n",
      "chr1\t137050\t137150\tASTARR\tASTARR_R\n",
      "chr1\t137737\t139544\tATAC\tATAC\n",
      "chr1\t180982\t182087\tATAC\tATAC\n",
      "chr1\t181600\t181790\tASTARR\tASTARR_R\n",
      "chr1\t183239\t184602\tATAC\tATAC\n",
      "chr1\t184330\t184480\tWSTARR\tWSTARR_A\n"
     ]
    }
   ],
   "source": [
    "FD_INP=${FD_RES}/results/region/annotation_fcc_table\n",
    "FN_INP=fcc_table.starrmpra.crispri.atac.e2g_benchmark.concat.bed.gz\n",
    "FP_INP=${FD_INP}/${FN_INP}\n",
    "zcat ${FP_INP} | head -n 17"
   ]
  },
  {
   "cell_type": "markdown",
   "id": "298461b6-9c9b-4a78-bdc5-5b6826e45159",
   "metadata": {
    "tags": []
   },
   "source": [
    "## Merge active peak regions\n",
    "\n",
    "- CRIPSRi-HCRFF\n",
    "- ENCODE E2G\n",
    "    - benchmark\n",
    "    - prediction\n",
    "- Enhancer merged\n",
    "    - total\n",
    "    - active"
   ]
  },
  {
   "cell_type": "markdown",
   "id": "2e7037fd-8224-49d2-8a5a-fb3660f7ae5b",
   "metadata": {},
   "source": [
    "**Test loop**"
   ]
  },
  {
   "cell_type": "code",
   "execution_count": 29,
   "id": "8859cdd9-086c-46d2-829c-2d37d415b2f7",
   "metadata": {},
   "outputs": [
    {
     "name": "stdout",
     "output_type": "stream",
     "text": [
      "FOLDR  (Input):  /data/reddylab/Kuei/out/proj_combeffect_encode_fcc/results/region/annotation_enhancer_zscore_junke\n",
      "FNAME  (Input):  enhancer_zscore_junke.peak.ASTARR.concat.bed.gz\n",
      "PREFIX (Input):  enhancer_zscore_junke.peak.ASTARR\n",
      "FNAME  (Output): enhancer_zscore_junke.peak.ASTARR.merge.bed.gz\n",
      "FPATH  (Log):    ${FD_LOG}/annotation_merge.enhancer_zscore_junke.peak.ASTARR.txt\n",
      "\n",
      "FOLDR  (Input):  /data/reddylab/Kuei/out/proj_combeffect_encode_fcc/results/region/annotation_enhancer_zscore_junke\n",
      "FNAME  (Input):  enhancer_zscore_junke.peak.LMPRA.concat.bed.gz\n",
      "PREFIX (Input):  enhancer_zscore_junke.peak.LMPRA\n",
      "FNAME  (Output): enhancer_zscore_junke.peak.LMPRA.merge.bed.gz\n",
      "FPATH  (Log):    ${FD_LOG}/annotation_merge.enhancer_zscore_junke.peak.LMPRA.txt\n",
      "\n",
      "FOLDR  (Input):  /data/reddylab/Kuei/out/proj_combeffect_encode_fcc/results/region/annotation_enhancer_zscore_junke\n",
      "FNAME  (Input):  enhancer_zscore_junke.peak.TMPRA.concat.bed.gz\n",
      "PREFIX (Input):  enhancer_zscore_junke.peak.TMPRA\n",
      "FNAME  (Output): enhancer_zscore_junke.peak.TMPRA.merge.bed.gz\n",
      "FPATH  (Log):    ${FD_LOG}/annotation_merge.enhancer_zscore_junke.peak.TMPRA.txt\n",
      "\n",
      "FOLDR  (Input):  /data/reddylab/Kuei/out/proj_combeffect_encode_fcc/results/region/annotation_enhancer_zscore_junke\n",
      "FNAME  (Input):  enhancer_zscore_junke.peak.WSTARR.concat.bed.gz\n",
      "PREFIX (Input):  enhancer_zscore_junke.peak.WSTARR\n",
      "FNAME  (Output): enhancer_zscore_junke.peak.WSTARR.merge.bed.gz\n",
      "FPATH  (Log):    ${FD_LOG}/annotation_merge.enhancer_zscore_junke.peak.WSTARR.txt\n",
      "\n",
      "FOLDR  (Input):  /data/reddylab/Kuei/out/proj_combeffect_encode_fcc/results/region/annotation_crispri_hcrff\n",
      "FNAME  (Input):  crispri_hcrff.casa.bed.gz\n",
      "PREFIX (Input):  crispri_hcrff.casa\n",
      "FNAME  (Output): crispri_hcrff.casa.merge.bed.gz\n",
      "FPATH  (Log):    ${FD_LOG}/annotation_merge.crispri_hcrff.casa.txt\n",
      "\n",
      "FOLDR  (Input):  /data/reddylab/Kuei/out/proj_combeffect_encode_fcc/results/region/annotation_crispri_growth\n",
      "FNAME  (Input):  crispri_growth.dhs.active.bed.gz\n",
      "PREFIX (Input):  crispri_growth.dhs.active\n",
      "FNAME  (Output): crispri_growth.dhs.active.merge.bed.gz\n",
      "FPATH  (Log):    ${FD_LOG}/annotation_merge.crispri_growth.dhs.active.txt\n",
      "\n",
      "FOLDR  (Input):  /data/reddylab/Kuei/out/proj_combeffect_encode_fcc/results/region/annotation_encode_e2g_benchmark\n",
      "FNAME  (Input):  K562.EPCrisprBenchmark.active.bed.gz\n",
      "PREFIX (Input):  K562.EPCrisprBenchmark.active\n",
      "FNAME  (Output): K562.EPCrisprBenchmark.active.merge.bed.gz\n",
      "FPATH  (Log):    ${FD_LOG}/annotation_merge.K562.EPCrisprBenchmark.active.txt\n",
      "\n",
      "FOLDR  (Input):  /data/reddylab/Kuei/out/proj_combeffect_encode_fcc/results/region/annotation_encode_e2g_benchmark\n",
      "FNAME  (Input):  K562.EPCrisprBenchmark.total.bed.gz\n",
      "PREFIX (Input):  K562.EPCrisprBenchmark.total\n",
      "FNAME  (Output): K562.EPCrisprBenchmark.total.merge.bed.gz\n",
      "FPATH  (Log):    ${FD_LOG}/annotation_merge.K562.EPCrisprBenchmark.total.txt\n",
      "\n",
      "FOLDR  (Input):  /data/reddylab/Kuei/out/proj_combeffect_encode_fcc/results/region/annotation_encode_e2g_prediction\n",
      "FNAME  (Input):  K562.ENCSR328LMT.ENCFF122UMY.element_gene_links.total.bed.gz\n",
      "PREFIX (Input):  K562.ENCSR328LMT.ENCFF122UMY.element_gene_links.total\n",
      "FNAME  (Output): K562.ENCSR328LMT.ENCFF122UMY.element_gene_links.total.merge.bed.gz\n",
      "FPATH  (Log):    ${FD_LOG}/annotation_merge.K562.ENCSR328LMT.ENCFF122UMY.element_gene_links.total.txt\n",
      "\n",
      "FOLDR  (Input):  /data/reddylab/Kuei/out/proj_combeffect_encode_fcc/results/region/annotation_encode_e2g_prediction\n",
      "FNAME  (Input):  K562.ENCSR328LMT.ENCFF202FID.element_gene_links.active.bed.gz\n",
      "PREFIX (Input):  K562.ENCSR328LMT.ENCFF202FID.element_gene_links.active\n",
      "FNAME  (Output): K562.ENCSR328LMT.ENCFF202FID.element_gene_links.active.merge.bed.gz\n",
      "FPATH  (Log):    ${FD_LOG}/annotation_merge.K562.ENCSR328LMT.ENCFF202FID.element_gene_links.active.txt\n",
      "\n",
      "FOLDR  (Input):  /data/reddylab/Kuei/out/proj_combeffect_encode_fcc/results/region/annotation_fcc_table\n",
      "FNAME  (Input):  fcc_table.starrmpra.crispri.atac.concat.bed.gz\n",
      "PREFIX (Input):  fcc_table.starrmpra.crispri.atac\n",
      "FNAME  (Output): fcc_table.starrmpra.crispri.atac.merge.bed.gz\n",
      "FPATH  (Log):    ${FD_LOG}/annotation_merge.fcc_table.starrmpra.crispri.atac.txt\n",
      "\n",
      "FOLDR  (Input):  /data/reddylab/Kuei/out/proj_combeffect_encode_fcc/results/region/annotation_fcc_table\n",
      "FNAME  (Input):  fcc_table.starrmpra.crispri.atac.e2g_benchmark.concat.bed.gz\n",
      "PREFIX (Input):  fcc_table.starrmpra.crispri.atac.e2g_benchmark\n",
      "FNAME  (Output): fcc_table.starrmpra.crispri.atac.e2g_benchmark.merge.bed.gz\n",
      "FPATH  (Log):    ${FD_LOG}/annotation_merge.fcc_table.starrmpra.crispri.atac.e2g_benchmark.txt\n",
      "\n",
      "FOLDR  (Input):  /data/reddylab/Kuei/out/proj_combeffect_encode_fcc/results/region/annotation_fcc_table\n",
      "FNAME  (Input):  fcc_table.starrmpra.crispri.atac.e2g_benchmark.e2g_prediction.concat.bed.gz\n",
      "PREFIX (Input):  fcc_table.starrmpra.crispri.atac.e2g_benchmark.e2g_prediction\n",
      "FNAME  (Output): fcc_table.starrmpra.crispri.atac.e2g_benchmark.e2g_prediction.merge.bed.gz\n",
      "FPATH  (Log):    ${FD_LOG}/annotation_merge.fcc_table.starrmpra.crispri.atac.e2g_benchmark.e2g_prediction.txt\n",
      "\n"
     ]
    }
   ],
   "source": [
    "### STARR/MPRA\n",
    "FD_INP=${FD_RES}/results/region/annotation_enhancer_zscore_junke\n",
    "FP_INPS_STARRMPRA=($(ls ${FD_INP}/*peak*{ASTARR,WSTARR,TMPRA,LMPRA}.concat.bed.gz))\n",
    "\n",
    "### CRISPRi-HCRFF\n",
    "FD_INP=${FD_RES}/results/region/annotation_crispri_hcrff\n",
    "FN_INP=crispri_hcrff.casa.bed.gz\n",
    "FP_INP=${FD_INP}/${FN_INP}\n",
    "FP_INP_CRISPRi_HCRFF=${FP_INP}\n",
    "\n",
    "### CRISPRi-Growth\n",
    "FD_INP=${FD_RES}/results/region/annotation_crispri_growth\n",
    "FN_INP=crispri_growth.dhs.active.bed.gz\n",
    "FP_INP=${FD_INP}/${FN_INP}\n",
    "FP_INP_CRISPRi_GROWTH=${FP_INP}\n",
    "\n",
    "### ENCODE-E2G\n",
    "FD_INP=${FD_RES}/results/region/annotation_encode_e2g_benchmark\n",
    "FP_INPS_ENCODE_E2G_BENCHMARK=($(ls ${FD_INP}/*{active,total}.bed.gz))\n",
    "\n",
    "### ENCODE-E2G\n",
    "FD_INP=${FD_RES}/results/region/annotation_encode_e2g_prediction\n",
    "FP_INPS_ENCODE_E2G_PREDICTION=($(ls ${FD_INP}/*{active,total}.bed.gz))\n",
    "\n",
    "### Enhancer merge\n",
    "FD_INP=${FD_RES}/results/region/annotation_fcc_table\n",
    "FP_INPS_ENHANCER_MERGE=($(ls ${FD_INP}/*.concat.bed.gz))\n",
    "\n",
    "### combine the file lists\n",
    "FP_INPS=(\n",
    "    ${FP_INPS_STARRMPRA[@]}\n",
    "    ${FP_INP_CRISPRi_HCRFF}\n",
    "    ${FP_INP_CRISPRi_GROWTH}\n",
    "    ${FP_INPS_ENCODE_E2G_BENCHMARK[@]}\n",
    "    ${FP_INPS_ENCODE_E2G_PREDICTION[@]}\n",
    "    ${FP_INPS_ENHANCER_MERGE[@]}\n",
    ")\n",
    "\n",
    "for FP_INP in ${FP_INPS[@]}; do\n",
    "    FD_INP=$(dirname  ${FP_INP})\n",
    "    FN_INP=$(basename ${FP_INP})\n",
    "    \n",
    "    PREFIX=${FN_INP}\n",
    "    PREFIX=${PREFIX%.bed.gz}\n",
    "    PREFIX=${PREFIX%.concat}\n",
    "    FD_OUT=${FD_INP}\n",
    "    FN_OUT=${PREFIX}.merge.bed.gz\n",
    "    FN_LOG=annotation_merge.${PREFIX}.txt\n",
    "    \n",
    "    FP_OUT=${FD_OUT}/${FN_OUT}\n",
    "    FP_LOG=${FD_LOG}/${FN_LOG}\n",
    "    \n",
    "    echo \"FOLDR  (Input): \" ${FD_INP}\n",
    "    echo \"FNAME  (Input): \" ${FN_INP}\n",
    "    echo \"PREFIX (Input): \" ${PREFIX}\n",
    "    echo \"FNAME  (Output):\" ${FN_OUT}\n",
    "    echo \"FPATH  (Log):   \" '${FD_LOG}'/${FN_LOG}\n",
    "    echo\n",
    "done"
   ]
  },
  {
   "cell_type": "markdown",
   "id": "0f2081f9-711d-41fc-b538-1985dfef0c41",
   "metadata": {},
   "source": [
    "**Execute**"
   ]
  },
  {
   "cell_type": "code",
   "execution_count": 30,
   "id": "fa5b0797-ad59-425e-a896-ca04b788a7e1",
   "metadata": {},
   "outputs": [
    {
     "name": "stdout",
     "output_type": "stream",
     "text": [
      "FOLDR  (Input):  /data/reddylab/Kuei/out/proj_combeffect_encode_fcc/results/region/annotation_enhancer_zscore_junke\n",
      "FNAME  (Input):  enhancer_zscore_junke.peak.ASTARR.concat.bed.gz\n",
      "PREFIX (Input):  enhancer_zscore_junke.peak.ASTARR\n",
      "FNAME  (Output): enhancer_zscore_junke.peak.ASTARR.merge.bed.gz\n",
      "FPATH  (Log):    ${FD_LOG}/annotation_merge.enhancer_zscore_junke.peak.ASTARR.txt\n",
      "\n",
      "Submitted batch job 30496481\n",
      "\n",
      "FOLDR  (Input):  /data/reddylab/Kuei/out/proj_combeffect_encode_fcc/results/region/annotation_enhancer_zscore_junke\n",
      "FNAME  (Input):  enhancer_zscore_junke.peak.LMPRA.concat.bed.gz\n",
      "PREFIX (Input):  enhancer_zscore_junke.peak.LMPRA\n",
      "FNAME  (Output): enhancer_zscore_junke.peak.LMPRA.merge.bed.gz\n",
      "FPATH  (Log):    ${FD_LOG}/annotation_merge.enhancer_zscore_junke.peak.LMPRA.txt\n",
      "\n",
      "Submitted batch job 30496482\n",
      "\n",
      "FOLDR  (Input):  /data/reddylab/Kuei/out/proj_combeffect_encode_fcc/results/region/annotation_enhancer_zscore_junke\n",
      "FNAME  (Input):  enhancer_zscore_junke.peak.TMPRA.concat.bed.gz\n",
      "PREFIX (Input):  enhancer_zscore_junke.peak.TMPRA\n",
      "FNAME  (Output): enhancer_zscore_junke.peak.TMPRA.merge.bed.gz\n",
      "FPATH  (Log):    ${FD_LOG}/annotation_merge.enhancer_zscore_junke.peak.TMPRA.txt\n",
      "\n",
      "Submitted batch job 30496483\n",
      "\n",
      "FOLDR  (Input):  /data/reddylab/Kuei/out/proj_combeffect_encode_fcc/results/region/annotation_enhancer_zscore_junke\n",
      "FNAME  (Input):  enhancer_zscore_junke.peak.WSTARR.concat.bed.gz\n",
      "PREFIX (Input):  enhancer_zscore_junke.peak.WSTARR\n",
      "FNAME  (Output): enhancer_zscore_junke.peak.WSTARR.merge.bed.gz\n",
      "FPATH  (Log):    ${FD_LOG}/annotation_merge.enhancer_zscore_junke.peak.WSTARR.txt\n",
      "\n",
      "Submitted batch job 30496484\n",
      "\n",
      "FOLDR  (Input):  /data/reddylab/Kuei/out/proj_combeffect_encode_fcc/results/region/annotation_crispri_hcrff\n",
      "FNAME  (Input):  crispri_hcrff.casa.bed.gz\n",
      "PREFIX (Input):  crispri_hcrff.casa\n",
      "FNAME  (Output): crispri_hcrff.casa.merge.bed.gz\n",
      "FPATH  (Log):    ${FD_LOG}/annotation_merge.crispri_hcrff.casa.txt\n",
      "\n",
      "Submitted batch job 30496485\n",
      "\n",
      "FOLDR  (Input):  /data/reddylab/Kuei/out/proj_combeffect_encode_fcc/results/region/annotation_crispri_growth\n",
      "FNAME  (Input):  crispri_growth.dhs.active.bed.gz\n",
      "PREFIX (Input):  crispri_growth.dhs.active\n",
      "FNAME  (Output): crispri_growth.dhs.active.merge.bed.gz\n",
      "FPATH  (Log):    ${FD_LOG}/annotation_merge.crispri_growth.dhs.active.txt\n",
      "\n",
      "Submitted batch job 30496486\n",
      "\n",
      "FOLDR  (Input):  /data/reddylab/Kuei/out/proj_combeffect_encode_fcc/results/region/annotation_encode_e2g_benchmark\n",
      "FNAME  (Input):  K562.EPCrisprBenchmark.active.bed.gz\n",
      "PREFIX (Input):  K562.EPCrisprBenchmark.active\n",
      "FNAME  (Output): K562.EPCrisprBenchmark.active.merge.bed.gz\n",
      "FPATH  (Log):    ${FD_LOG}/annotation_merge.K562.EPCrisprBenchmark.active.txt\n",
      "\n",
      "Submitted batch job 30496487\n",
      "\n",
      "FOLDR  (Input):  /data/reddylab/Kuei/out/proj_combeffect_encode_fcc/results/region/annotation_encode_e2g_benchmark\n",
      "FNAME  (Input):  K562.EPCrisprBenchmark.total.bed.gz\n",
      "PREFIX (Input):  K562.EPCrisprBenchmark.total\n",
      "FNAME  (Output): K562.EPCrisprBenchmark.total.merge.bed.gz\n",
      "FPATH  (Log):    ${FD_LOG}/annotation_merge.K562.EPCrisprBenchmark.total.txt\n",
      "\n",
      "Submitted batch job 30496488\n",
      "\n",
      "FOLDR  (Input):  /data/reddylab/Kuei/out/proj_combeffect_encode_fcc/results/region/annotation_encode_e2g_prediction\n",
      "FNAME  (Input):  K562.ENCSR328LMT.ENCFF122UMY.element_gene_links.total.bed.gz\n",
      "PREFIX (Input):  K562.ENCSR328LMT.ENCFF122UMY.element_gene_links.total\n",
      "FNAME  (Output): K562.ENCSR328LMT.ENCFF122UMY.element_gene_links.total.merge.bed.gz\n",
      "FPATH  (Log):    ${FD_LOG}/annotation_merge.K562.ENCSR328LMT.ENCFF122UMY.element_gene_links.total.txt\n",
      "\n",
      "Submitted batch job 30496489\n",
      "\n",
      "FOLDR  (Input):  /data/reddylab/Kuei/out/proj_combeffect_encode_fcc/results/region/annotation_encode_e2g_prediction\n",
      "FNAME  (Input):  K562.ENCSR328LMT.ENCFF202FID.element_gene_links.active.bed.gz\n",
      "PREFIX (Input):  K562.ENCSR328LMT.ENCFF202FID.element_gene_links.active\n",
      "FNAME  (Output): K562.ENCSR328LMT.ENCFF202FID.element_gene_links.active.merge.bed.gz\n",
      "FPATH  (Log):    ${FD_LOG}/annotation_merge.K562.ENCSR328LMT.ENCFF202FID.element_gene_links.active.txt\n",
      "\n",
      "Submitted batch job 30496490\n",
      "\n",
      "FOLDR  (Input):  /data/reddylab/Kuei/out/proj_combeffect_encode_fcc/results/region/annotation_fcc_table\n",
      "FNAME  (Input):  fcc_table.starrmpra.crispri.atac.concat.bed.gz\n",
      "PREFIX (Input):  fcc_table.starrmpra.crispri.atac\n",
      "FNAME  (Output): fcc_table.starrmpra.crispri.atac.merge.bed.gz\n",
      "FPATH  (Log):    ${FD_LOG}/annotation_merge.fcc_table.starrmpra.crispri.atac.txt\n",
      "\n",
      "Submitted batch job 30496491\n",
      "\n",
      "FOLDR  (Input):  /data/reddylab/Kuei/out/proj_combeffect_encode_fcc/results/region/annotation_fcc_table\n",
      "FNAME  (Input):  fcc_table.starrmpra.crispri.atac.e2g_benchmark.concat.bed.gz\n",
      "PREFIX (Input):  fcc_table.starrmpra.crispri.atac.e2g_benchmark\n",
      "FNAME  (Output): fcc_table.starrmpra.crispri.atac.e2g_benchmark.merge.bed.gz\n",
      "FPATH  (Log):    ${FD_LOG}/annotation_merge.fcc_table.starrmpra.crispri.atac.e2g_benchmark.txt\n",
      "\n",
      "Submitted batch job 30496492\n",
      "\n",
      "FOLDR  (Input):  /data/reddylab/Kuei/out/proj_combeffect_encode_fcc/results/region/annotation_fcc_table\n",
      "FNAME  (Input):  fcc_table.starrmpra.crispri.atac.e2g_benchmark.e2g_prediction.concat.bed.gz\n",
      "PREFIX (Input):  fcc_table.starrmpra.crispri.atac.e2g_benchmark.e2g_prediction\n",
      "FNAME  (Output): fcc_table.starrmpra.crispri.atac.e2g_benchmark.e2g_prediction.merge.bed.gz\n",
      "FPATH  (Log):    ${FD_LOG}/annotation_merge.fcc_table.starrmpra.crispri.atac.e2g_benchmark.e2g_prediction.txt\n",
      "\n",
      "Submitted batch job 30496493\n",
      "\n"
     ]
    }
   ],
   "source": [
    "### STARR/MPRA\n",
    "FD_INP=${FD_RES}/results/region/annotation_enhancer_zscore_junke\n",
    "FP_INPS_STARRMPRA=($(ls ${FD_INP}/*peak*{ASTARR,WSTARR,TMPRA,LMPRA}.concat.bed.gz))\n",
    "\n",
    "### CRISPRi-HCRFF\n",
    "FD_INP=${FD_RES}/results/region/annotation_crispri_hcrff\n",
    "FN_INP=crispri_hcrff.casa.bed.gz\n",
    "FP_INP=${FD_INP}/${FN_INP}\n",
    "FP_INP_CRISPRi_HCRFF=${FP_INP}\n",
    "\n",
    "### CRISPRi-Growth\n",
    "FD_INP=${FD_RES}/results/region/annotation_crispri_growth\n",
    "FN_INP=crispri_growth.dhs.active.bed.gz\n",
    "FP_INP=${FD_INP}/${FN_INP}\n",
    "FP_INP_CRISPRi_GROWTH=${FP_INP}\n",
    "\n",
    "### ENCODE-E2G\n",
    "FD_INP=${FD_RES}/results/region/annotation_encode_e2g_benchmark\n",
    "FP_INPS_ENCODE_E2G_BENCHMARK=($(ls ${FD_INP}/*{active,total}.bed.gz))\n",
    "\n",
    "### ENCODE-E2G\n",
    "FD_INP=${FD_RES}/results/region/annotation_encode_e2g_prediction\n",
    "FP_INPS_ENCODE_E2G_PREDICTION=($(ls ${FD_INP}/*{active,total}.bed.gz))\n",
    "\n",
    "### Enhancer merge\n",
    "FD_INP=${FD_RES}/results/region/annotation_fcc_table\n",
    "FP_INPS_ENHANCER_MERGE=($(ls ${FD_INP}/*.concat.bed.gz))\n",
    "\n",
    "### combine the file lists\n",
    "FP_INPS=(\n",
    "    ${FP_INPS_STARRMPRA[@]}\n",
    "    ${FP_INP_CRISPRi_HCRFF}\n",
    "    ${FP_INP_CRISPRi_GROWTH}\n",
    "    ${FP_INPS_ENCODE_E2G_BENCHMARK[@]}\n",
    "    ${FP_INPS_ENCODE_E2G_PREDICTION[@]}\n",
    "    ${FP_INPS_ENHANCER_MERGE[@]}\n",
    ")\n",
    "\n",
    "for FP_INP in ${FP_INPS[@]}; do\n",
    "    FD_INP=$(dirname  ${FP_INP})\n",
    "    FN_INP=$(basename ${FP_INP})\n",
    "    \n",
    "    PREFIX=${FN_INP}\n",
    "    PREFIX=${PREFIX%.bed.gz}\n",
    "    PREFIX=${PREFIX%.concat}\n",
    "    \n",
    "    FD_OUT=${FD_INP}\n",
    "    FN_OUT=${PREFIX}.merge.bed.gz\n",
    "    FN_LOG=annotation_merge.${PREFIX}.txt\n",
    "    \n",
    "    FP_OUT=${FD_OUT}/${FN_OUT}\n",
    "    FP_LOG=${FD_LOG}/${FN_LOG}\n",
    "    \n",
    "    echo \"FOLDR  (Input): \" ${FD_INP}\n",
    "    echo \"FNAME  (Input): \" ${FN_INP}\n",
    "    echo \"PREFIX (Input): \" ${PREFIX}\n",
    "    echo \"FNAME  (Output):\" ${FN_OUT}\n",
    "    echo \"FPATH  (Log):   \" '${FD_LOG}'/${FN_LOG}\n",
    "    echo\n",
    "    sbatch -p ${NODE} \\\n",
    "        --exclude=dl-01 \\\n",
    "        --cpus-per-task 4 \\\n",
    "        --mem 4G \\\n",
    "        --output ${FP_LOG} \\\n",
    "        ../scripts/run_bedtools_merge_assay.sh ${FP_INP} ${FP_OUT}\n",
    "    echo\n",
    "done"
   ]
  },
  {
   "cell_type": "markdown",
   "id": "3f5b1c22-4492-4ba6-80ef-589c22da7ba3",
   "metadata": {},
   "source": [
    "**Check results**"
   ]
  },
  {
   "cell_type": "code",
   "execution_count": 20,
   "id": "0d4b9214-5ddb-4cfb-956b-caecdca06351",
   "metadata": {},
   "outputs": [
    {
     "name": "stdout",
     "output_type": "stream",
     "text": [
      "Hostname:           x3-05-3.genome.duke.edu\n",
      "Slurm Array Index: \n",
      "Time Stamp:         12-14-23+11:55:58\n",
      "\n",
      "Input:  /data/reddylab/Kuei/out/proj_combeffect_encode_fcc/results/region/annotation_enhancer_zscore_junke/enhancer_zscore_junke.peak.ASTARR.concat.bed.gz\n",
      "\n",
      "show first few lines of input\n",
      "chr1\t136520\t136950\tASTARR\tASTARR_R\n",
      "chr1\t137050\t137150\tASTARR\tASTARR_R\n",
      "chr1\t181600\t181790\tASTARR\tASTARR_R\n",
      "chr1\t778720\t778830\tASTARR\tASTARR_A\n",
      "chr1\t827060\t827160\tASTARR\tASTARR_R\n",
      "chr1\t827590\t828050\tASTARR\tASTARR_R\n",
      "chr1\t869810\t870100\tASTARR\tASTARR_R\n",
      "chr1\t904160\t904260\tASTARR\tASTARR_R\n",
      "chr1\t904280\t904530\tASTARR\tASTARR_R\n",
      "chr1\t904740\t905140\tASTARR\tASTARR_R\n",
      "\n",
      "\n",
      "Output:  /data/reddylab/Kuei/out/proj_combeffect_encode_fcc/results/region/annotation_enhancer_zscore_junke/enhancer_zscore_junke.peak.ASTARR.merge.bed.gz\n",
      "\n",
      "show first few lines of output:\n",
      "chr1\t136520\t136950\tASTARR\tASTARR_R\n",
      "chr1\t137050\t137150\tASTARR\tASTARR_R\n",
      "chr1\t181600\t181790\tASTARR\tASTARR_R\n",
      "chr1\t778720\t778830\tASTARR\tASTARR_A\n",
      "chr1\t827060\t827160\tASTARR\tASTARR_R\n",
      "chr1\t827590\t828050\tASTARR\tASTARR_R\n",
      "chr1\t869810\t870100\tASTARR\tASTARR_R\n",
      "chr1\t904160\t904260\tASTARR\tASTARR_R\n",
      "chr1\t904280\t904530\tASTARR\tASTARR_R\n",
      "chr1\t904740\t905140\tASTARR\tASTARR_R\n",
      "\n",
      "\n",
      "Done!\n",
      "Run Time: 0 seconds\n"
     ]
    }
   ],
   "source": [
    "cat ${FD_LOG}/annotation_merge.enhancer_zscore_junke.peak.ASTARR.txt"
   ]
  },
  {
   "cell_type": "code",
   "execution_count": 21,
   "id": "813f34be-73a3-4f59-a88c-6be5032dcc55",
   "metadata": {},
   "outputs": [
    {
     "name": "stdout",
     "output_type": "stream",
     "text": [
      "Hostname:           x3-05-3.genome.duke.edu\n",
      "Slurm Array Index: \n",
      "Time Stamp:         12-14-23+11:55:58\n",
      "\n",
      "Input:  /data/reddylab/Kuei/out/proj_combeffect_encode_fcc/results/region/annotation_crispri_hcrff/crispri_hcrff.casa.bed.gz\n",
      "\n",
      "show first few lines of input\n",
      "chr11\t5248847\t5249047\tchr11:5248847-5249047\t1.0686240084405354\t.\tHBG1\tENST00000330597.5\tCRISPRi-HCRFF\tCRISPRi-HCRFF:HBG1\n",
      "chr11\t5248847\t5249047\tchr11:5248847-5249047\t0.9357700699599828\t.\tHBG2\tENST00000336906.6\tCRISPRi-HCRFF\tCRISPRi-HCRFF:HBG2\n",
      "chr11\t5249847\t5250847\tchr11:5249847-5250847\t1.8908898984108689\t.\tHBG1\tENST00000330597.5\tCRISPRi-HCRFF\tCRISPRi-HCRFF:HBG1\n",
      "chr11\t5249847\t5250847\tchr11:5249847-5250847\t1.9229557946824665\t.\tHBG2\tENST00000336906.6\tCRISPRi-HCRFF\tCRISPRi-HCRFF:HBG2\n",
      "chr11\t5253147\t5253547\tchr11:5253147-5253547\t1.3303423439388775\t.\tHBG1\tENST00000330597.5\tCRISPRi-HCRFF\tCRISPRi-HCRFF:HBG1\n",
      "chr11\t5253147\t5253547\tchr11:5253147-5253547\t1.3232570811102125\t.\tHBG2\tENST00000336906.6\tCRISPRi-HCRFF\tCRISPRi-HCRFF:HBG2\n",
      "chr11\t5253647\t5254647\tchr11:5253647-5254647\t1.5044043629848811\t.\tHBG1\tENST00000330597.5\tCRISPRi-HCRFF\tCRISPRi-HCRFF:HBG1\n",
      "chr11\t5253647\t5254647\tchr11:5253647-5254647\t1.430535293771277\t.\tHBG2\tENST00000336906.6\tCRISPRi-HCRFF\tCRISPRi-HCRFF:HBG2\n",
      "chr11\t5269147\t5271147\tchr11:5269147-5271147\t1.906478008877551\t.\tHBE1\tENST00000336906.6\tCRISPRi-HCRFF\tCRISPRi-HCRFF:HBE1\n",
      "chr11\t5275247\t5276247\tchr11:5275247-5276247\t0.9203765387692084\t.\tHBE1\tENST00000336906.6\tCRISPRi-HCRFF\tCRISPRi-HCRFF:HBE1\n",
      "\n",
      "\n",
      "Output:  /data/reddylab/Kuei/out/proj_combeffect_encode_fcc/results/region/annotation_crispri_hcrff/crispri_hcrff.casa.merge.bed.gz\n",
      "\n",
      "show first few lines of output:\n",
      "chr11\t5248847\t5249047\tCRISPRi-HCRFF\tCRISPRi-HCRFF:HBG1,CRISPRi-HCRFF:HBG2\n",
      "chr11\t5249847\t5250847\tCRISPRi-HCRFF\tCRISPRi-HCRFF:HBG1,CRISPRi-HCRFF:HBG2\n",
      "chr11\t5253147\t5253547\tCRISPRi-HCRFF\tCRISPRi-HCRFF:HBG1,CRISPRi-HCRFF:HBG2\n",
      "chr11\t5253647\t5254647\tCRISPRi-HCRFF\tCRISPRi-HCRFF:HBG1,CRISPRi-HCRFF:HBG2\n",
      "chr11\t5269147\t5271147\tCRISPRi-HCRFF\tCRISPRi-HCRFF:HBE1\n",
      "chr11\t5275247\t5276247\tCRISPRi-HCRFF\tCRISPRi-HCRFF:HBE1,CRISPRi-HCRFF:HBG1,CRISPRi-HCRFF:HBG2\n",
      "chr11\t5279747\t5281147\tCRISPRi-HCRFF\tCRISPRi-HCRFF:HBE1,CRISPRi-HCRFF:HBG1,CRISPRi-HCRFF:HBG2\n",
      "chr11\t5281347\t5281947\tCRISPRi-HCRFF\tCRISPRi-HCRFF:HBG1,CRISPRi-HCRFF:HBG2\n",
      "chr11\t5282047\t5282647\tCRISPRi-HCRFF\tCRISPRi-HCRFF:HBG1,CRISPRi-HCRFF:HBG2\n",
      "chr11\t5283047\t5283447\tCRISPRi-HCRFF\tCRISPRi-HCRFF:HBG1,CRISPRi-HCRFF:HBG2\n",
      "\n",
      "\n",
      "Done!\n",
      "Run Time: 0 seconds\n"
     ]
    }
   ],
   "source": [
    "cat ${FD_LOG}/annotation_merge.crispri_hcrff.casa.txt"
   ]
  },
  {
   "cell_type": "code",
   "execution_count": 22,
   "id": "d713a39d-082f-44dd-97a4-8e0131d2ecca",
   "metadata": {},
   "outputs": [
    {
     "name": "stdout",
     "output_type": "stream",
     "text": [
      "Hostname:           x3-05-4.genome.duke.edu\n",
      "Slurm Array Index: \n",
      "Time Stamp:         12-14-23+11:55:59\n",
      "\n",
      "Input:  /data/reddylab/Kuei/out/proj_combeffect_encode_fcc/results/region/annotation_fcc_table/fcc_table.starrmpra.crispri.atac.e2g_benchmark.e2g_prediction.concat.bed.gz\n",
      "\n",
      "show first few lines of input\n",
      "chr1\t10015\t10442\tATAC\tATAC\n",
      "chr1\t14253\t14645\tATAC\tATAC\n",
      "chr1\t16015\t16477\tATAC\tATAC\n",
      "chr1\t17237\t17772\tATAC\tATAC\n",
      "chr1\t28903\t29613\tATAC\tATAC\n",
      "chr1\t30803\t31072\tATAC\tATAC\n",
      "chr1\t101603\t101849\tATAC\tATAC\n",
      "chr1\t115411\t115986\tATAC\tATAC\n",
      "chr1\t115484\t115984\tENCODE-E2G_Prediction\tENCODE-E2G_Prediction:SAMD11\n",
      "chr1\t118518\t118743\tATAC\tATAC\n",
      "\n",
      "\n",
      "Output:  /data/reddylab/Kuei/out/proj_combeffect_encode_fcc/results/region/annotation_fcc_table/fcc_table.starrmpra.crispri.atac.e2g_benchmark.e2g_prediction.merge.bed.gz\n",
      "\n",
      "show first few lines of output:\n",
      "chr1\t10015\t10442\tATAC\tATAC\n",
      "chr1\t14253\t14645\tATAC\tATAC\n",
      "chr1\t16015\t16477\tATAC\tATAC\n",
      "chr1\t17237\t17772\tATAC\tATAC\n",
      "chr1\t28903\t29613\tATAC\tATAC\n",
      "chr1\t30803\t31072\tATAC\tATAC\n",
      "chr1\t101603\t101849\tATAC\tATAC\n",
      "chr1\t115411\t115986\tATAC,ENCODE-E2G_Prediction\tATAC,ENCODE-E2G_Prediction:SAMD11\n",
      "chr1\t118518\t118743\tATAC\tATAC\n",
      "chr1\t136071\t137429\tASTARR,ATAC\tASTARR_R,ATAC\n",
      "\n",
      "\n",
      "Done!\n",
      "Run Time: 1 seconds\n"
     ]
    }
   ],
   "source": [
    "cat ${FD_LOG}/annotation_merge.fcc_table.starrmpra.crispri.atac.e2g_benchmark.e2g_prediction.txt"
   ]
  },
  {
   "cell_type": "code",
   "execution_count": 23,
   "id": "626f5119-3a6b-4f9e-86b2-3697290075b8",
   "metadata": {},
   "outputs": [
    {
     "name": "stdout",
     "output_type": "stream",
     "text": [
      "Hostname:           x3-05-4.genome.duke.edu\n",
      "Slurm Array Index: \n",
      "Time Stamp:         12-14-23+11:55:58\n",
      "\n",
      "Input:  /data/reddylab/Kuei/out/proj_combeffect_encode_fcc/results/region/annotation_encode_e2g_prediction/K562.ENCSR328LMT.ENCFF202FID.element_gene_links.active.bed.gz\n",
      "\n",
      "show first few lines of input\n",
      "chr1\t115484\t115984\tchr1:115484-115984\t0.41016\tintergenic\tENSG00000187634\tSAMD11\t925740\tENCODE-E2G_Prediction\tENCODE-E2G_Prediction:SAMD11\n",
      "chr1\t628759\t629259\tchr1:628759-629259\t0.34896\tpromoter\tENSG00000187583\tPLEKHN1\t966496\tENCODE-E2G_Prediction\tENCODE-E2G_Prediction:PLEKHN1\n",
      "chr1\t628759\t629259\tchr1:628759-629259\t0.34385\tpromoter\tENSG00000237330\tRNF223\t1074307\tENCODE-E2G_Prediction\tENCODE-E2G_Prediction:RNF223\n",
      "chr1\t628759\t629259\tchr1:628759-629259\t0.46354\tpromoter\tENSG00000187634\tSAMD11\t925740\tENCODE-E2G_Prediction\tENCODE-E2G_Prediction:SAMD11\n",
      "chr1\t628759\t629259\tchr1:628759-629259\t0.32621\tpromoter\tENSG00000162572\tSCNN1D\t1280435\tENCODE-E2G_Prediction\tENCODE-E2G_Prediction:SCNN1D\n",
      "chr1\t628759\t629259\tchr1:628759-629259\t0.41135\tpromoter\tENSG00000186891\tTNFRSF18\t1206709\tENCODE-E2G_Prediction\tENCODE-E2G_Prediction:TNFRSF18\n",
      "chr1\t628759\t629259\tchr1:628759-629259\t0.33006\tpromoter\tENSG00000162571\tTTLL10\t1179696\tENCODE-E2G_Prediction\tENCODE-E2G_Prediction:TTLL10\n",
      "chr1\t629372\t629872\tchr1:629372-629872\t0.38454\tpromoter\tENSG00000188157\tAGRN\t1020122\tENCODE-E2G_Prediction\tENCODE-E2G_Prediction:AGRN\n",
      "chr1\t629372\t629872\tchr1:629372-629872\t0.38282\tpromoter\tENSG00000142609\tCFAP74\t2003837\tENCODE-E2G_Prediction\tENCODE-E2G_Prediction:CFAP74\n",
      "chr1\t629372\t629872\tchr1:629372-629872\t0.37907\tpromoter\tENSG00000223823\tLINC01342\t1137016\tENCODE-E2G_Prediction\tENCODE-E2G_Prediction:LINC01342\n",
      "\n",
      "\n",
      "Output:  /data/reddylab/Kuei/out/proj_combeffect_encode_fcc/results/region/annotation_encode_e2g_prediction/K562.ENCSR328LMT.ENCFF202FID.element_gene_links.active.merge.bed.gz\n",
      "\n",
      "show first few lines of output:\n",
      "chr1\t115484\t115984\tENCODE-E2G_Prediction\tENCODE-E2G_Prediction:SAMD11\n",
      "chr1\t628759\t629259\tENCODE-E2G_Prediction\tENCODE-E2G_Prediction:PLEKHN1,ENCODE-E2G_Prediction:RNF223,ENCODE-E2G_Prediction:SAMD11,ENCODE-E2G_Prediction:SCNN1D,ENCODE-E2G_Prediction:TNFRSF18,ENCODE-E2G_Prediction:TTLL10\n",
      "chr1\t629372\t629872\tENCODE-E2G_Prediction\tENCODE-E2G_Prediction:AGRN,ENCODE-E2G_Prediction:CFAP74,ENCODE-E2G_Prediction:LINC01342,ENCODE-E2G_Prediction:PLEKHN1,ENCODE-E2G_Prediction:RNF223,ENCODE-E2G_Prediction:SAMD11,ENCODE-E2G_Prediction:SCNN1D,ENCODE-E2G_Prediction:SMIM1,ENCODE-E2G_Prediction:TNFRSF18,ENCODE-E2G_Prediction:TP73,ENCODE-E2G_Prediction:TP73-AS1,ENCODE-E2G_Prediction:TPRG1L,ENCODE-E2G_Prediction:TTLL10\n",
      "chr1\t632439\t632939\tENCODE-E2G_Prediction\tENCODE-E2G_Prediction:AGRN,ENCODE-E2G_Prediction:CALML6,ENCODE-E2G_Prediction:CFAP74,ENCODE-E2G_Prediction:FAM87B,ENCODE-E2G_Prediction:ISG15,ENCODE-E2G_Prediction:KLHL17,ENCODE-E2G_Prediction:LINC00115,ENCODE-E2G_Prediction:LINC01128,ENCODE-E2G_Prediction:LINC01342,ENCODE-E2G_Prediction:LOC100288069,ENCODE-E2G_Prediction:LOC105378591,ENCODE-E2G_Prediction:MMEL1,ENCODE-E2G_Prediction:PLEKHN1,ENCODE-E2G_Prediction:PRKCZ,ENCODE-E2G_Prediction:RNF223,ENCODE-E2G_Prediction:SAMD11,ENCODE-E2G_Prediction:SCNN1D,ENCODE-E2G_Prediction:TNFRSF18,ENCODE-E2G_Prediction:TNFRSF4,ENCODE-E2G_Prediction:TP73,ENCODE-E2G_Prediction:TP73-AS1,ENCODE-E2G_Prediction:TPRG1L,ENCODE-E2G_Prediction:TTLL10\n",
      "chr1\t633766\t634583\tENCODE-E2G_Prediction\tENCODE-E2G_Prediction:AGRN,ENCODE-E2G_Prediction:CFAP74,ENCODE-E2G_Prediction:FAM87B,ENCODE-E2G_Prediction:LINC00115,ENCODE-E2G_Prediction:LINC01128,ENCODE-E2G_Prediction:LINC01342,ENCODE-E2G_Prediction:LOC100288069,ENCODE-E2G_Prediction:LOC105378591,ENCODE-E2G_Prediction:MMEL1,ENCODE-E2G_Prediction:PLEKHN1,ENCODE-E2G_Prediction:PRKCZ,ENCODE-E2G_Prediction:RNF223,ENCODE-E2G_Prediction:SAMD11,ENCODE-E2G_Prediction:SCNN1D,ENCODE-E2G_Prediction:TNFRSF18,ENCODE-E2G_Prediction:TP73,ENCODE-E2G_Prediction:TP73-AS1,ENCODE-E2G_Prediction:TPRG1L,ENCODE-E2G_Prediction:TTLL10\n",
      "chr1\t778438\t779143\tENCODE-E2G_Prediction\tENCODE-E2G_Prediction:FAM87B,ENCODE-E2G_Prediction:LINC00115,ENCODE-E2G_Prediction:LINC01128,ENCODE-E2G_Prediction:LOC100288069,ENCODE-E2G_Prediction:SAMD11\n",
      "chr1\t817120\t817620\tENCODE-E2G_Prediction\tENCODE-E2G_Prediction:FAM87B,ENCODE-E2G_Prediction:LINC00115,ENCODE-E2G_Prediction:LINC01128\n",
      "chr1\t827244\t827847\tENCODE-E2G_Prediction\tENCODE-E2G_Prediction:FAM87B,ENCODE-E2G_Prediction:LINC00115,ENCODE-E2G_Prediction:LINC01128,ENCODE-E2G_Prediction:LOC100288069,ENCODE-E2G_Prediction:SAMD11\n",
      "chr1\t842505\t843350\tENCODE-E2G_Prediction\tENCODE-E2G_Prediction:LINC01128\n",
      "chr1\t904203\t905033\tENCODE-E2G_Prediction\tENCODE-E2G_Prediction:SAMD11\n",
      "\n",
      "\n",
      "Done!\n",
      "Run Time: 1 seconds\n"
     ]
    }
   ],
   "source": [
    "cat ${FD_LOG}/annotation_merge.K562.ENCSR328LMT.ENCFF202FID.element_gene_links.active.txt"
   ]
  },
  {
   "cell_type": "markdown",
   "id": "07bd2fea-1de0-4faa-9a94-4eac68ba19d7",
   "metadata": {},
   "source": [
    "**Check**"
   ]
  },
  {
   "cell_type": "code",
   "execution_count": 24,
   "id": "17c7e7c5-2555-4add-a741-cff29373e4e1",
   "metadata": {},
   "outputs": [
    {
     "name": "stdout",
     "output_type": "stream",
     "text": [
      "113\n"
     ]
    }
   ],
   "source": [
    "FD_INP=${FD_RES}/results/region/annotation_crispri_hcrff\n",
    "FN_INP=crispri_hcrff.casa.bed.gz\n",
    "FP_INP=${FD_INP}/${FN_INP}\n",
    "zcat ${FP_INP} | wc -l"
   ]
  },
  {
   "cell_type": "code",
   "execution_count": 25,
   "id": "0ccdfd83-ade3-4ef3-86fc-0aca97809378",
   "metadata": {},
   "outputs": [
    {
     "name": "stdout",
     "output_type": "stream",
     "text": [
      "\u001b[0m\u001b[38;5;9mcrispri_hcrff.casa.bed.gz\u001b[0m        crispri_hcrff_gene_tss.tsv\n",
      "\u001b[38;5;9mcrispri_hcrff.casa.merge.bed.gz\u001b[0m  description.tsv\n",
      "crispri_hcrff.casa.tsv           K562_HCRFF_20genes_TSS_TES_coords.tsv\n"
     ]
    }
   ],
   "source": [
    "ls ${FD_INP}"
   ]
  },
  {
   "cell_type": "code",
   "execution_count": 26,
   "id": "ba35b5b9-44c7-441a-932e-348ac86513e1",
   "metadata": {},
   "outputs": [
    {
     "name": "stdout",
     "output_type": "stream",
     "text": [
      "80\n"
     ]
    }
   ],
   "source": [
    "FD_INP=${FD_RES}/results/region/annotation_crispri_hcrff\n",
    "FN_INP=crispri_hcrff.casa.merge.bed.gz\n",
    "FP_INP=${FD_INP}/${FN_INP}\n",
    "zcat ${FP_INP} | wc -l"
   ]
  },
  {
   "cell_type": "code",
   "execution_count": null,
   "id": "5168c526-d8c6-447b-b540-cad1a19df879",
   "metadata": {},
   "outputs": [],
   "source": []
  },
  {
   "cell_type": "code",
   "execution_count": null,
   "id": "215e1da8-330b-4e4d-b104-57a73673555e",
   "metadata": {},
   "outputs": [],
   "source": []
  },
  {
   "cell_type": "code",
   "execution_count": null,
   "id": "e4d189cc-26b9-4bd1-bc0b-1cb849b53e0b",
   "metadata": {},
   "outputs": [],
   "source": []
  },
  {
   "cell_type": "code",
   "execution_count": null,
   "id": "ca302575-2296-49c5-99d7-089dfb79f1a3",
   "metadata": {},
   "outputs": [],
   "source": []
  },
  {
   "cell_type": "code",
   "execution_count": null,
   "id": "11b68692-9ae9-4761-a469-2ae3a81df403",
   "metadata": {},
   "outputs": [],
   "source": []
  },
  {
   "cell_type": "code",
   "execution_count": null,
   "id": "a7fa711f-ee8d-4c40-adc2-538b4d473a8f",
   "metadata": {},
   "outputs": [],
   "source": []
  }
 ],
 "metadata": {
  "kernelspec": {
   "display_name": "Bash",
   "language": "bash",
   "name": "bash"
  },
  "language_info": {
   "codemirror_mode": "shell",
   "file_extension": ".sh",
   "mimetype": "text/x-sh",
   "name": "bash"
  }
 },
 "nbformat": 4,
 "nbformat_minor": 5
}
