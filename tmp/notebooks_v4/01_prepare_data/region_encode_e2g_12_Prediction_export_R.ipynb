{
 "cells": [
  {
   "cell_type": "markdown",
   "metadata": {},
   "source": [
    "**Set environment**"
   ]
  },
  {
   "cell_type": "code",
   "execution_count": 1,
   "metadata": {},
   "outputs": [
    {
     "name": "stdout",
     "output_type": "stream",
     "text": [
      "You are in Singularity: singularity_proj_encode_fcc \n",
      "BASE DIRECTORY (FD_BASE): /data/reddylab/Kuei \n",
      "WORK DIRECTORY (FD_WORK): /data/reddylab/Kuei/out \n",
      "CODE DIRECTORY (FD_CODE): /data/reddylab/Kuei/code \n",
      "PATH OF PROJECT (FD_PRJ): /data/reddylab/Kuei/code/Proj_CombEffect_ENCODE_FCC \n",
      "PATH OF RESULTS (FD_RES): /data/reddylab/Kuei/out/proj_combeffect_encode_fcc \n",
      "PATH OF LOG     (FD_LOG): /data/reddylab/Kuei/out/proj_combeffect_encode_fcc/log \n"
     ]
    }
   ],
   "source": [
    "suppressMessages(suppressWarnings(source(\"../config/config_sing.R\")))\n",
    "show_env()"
   ]
  },
  {
   "cell_type": "markdown",
   "metadata": {},
   "source": [
    "**Check data files**"
   ]
  },
  {
   "cell_type": "code",
   "execution_count": 2,
   "metadata": {},
   "outputs": [
    {
     "name": "stdout",
     "output_type": "stream",
     "text": [
      "K562.ENCSR328LMT.ENCFF122UMY.element_gene_links.bed.gz \n",
      "K562.ENCSR328LMT.ENCFF202FID.element_gene_links.thresholded.bed.gz \n",
      "K562.ENCSR328LMT.ENCFF307CCC.element_gene_links.thresholded.bigInteract \n",
      "K562.ENCSR328LMT.ENCFF539OMA.element_gene_links.thresholded.bedpe.gz \n",
      "Readme.md \n"
     ]
    }
   ],
   "source": [
    "fdiry = file.path(FD_RES, \"source\", \"ENCODE_E2G\", \"annotation_e2g_prediction_ENCSR328LMT\")\n",
    "for (txt in dir(fdiry)){cat(txt, \"\\n\")}"
   ]
  },
  {
   "cell_type": "markdown",
   "metadata": {},
   "source": [
    "## Import data"
   ]
  },
  {
   "cell_type": "code",
   "execution_count": 3,
   "metadata": {},
   "outputs": [
    {
     "name": "stdout",
     "output_type": "stream",
     "text": [
      "[1] 9599924      57\n"
     ]
    },
    {
     "data": {
      "text/html": [
       "<table class=\"dataframe\">\n",
       "<caption>A tibble: 6 × 57</caption>\n",
       "<thead>\n",
       "\t<tr><th scope=col>Chrom</th><th scope=col>Start</th><th scope=col>End</th><th scope=col>Name</th><th scope=col>class</th><th scope=col>TargetGene</th><th scope=col>TargetGeneEnsemblID</th><th scope=col>TargetGeneTSS</th><th scope=col>isSelfPromoter</th><th scope=col>CellType</th><th scope=col>⋯</th><th scope=col>phastConMax.Feature</th><th scope=col>phyloPMax.Feature</th><th scope=col>P2PromoterClass.Feature</th><th scope=col>ubiquitousExpressedGene.Feature</th><th scope=col>HiCLoopOutsideNormalized.Feature</th><th scope=col>HiCLoopCrossNormalized.Feature</th><th scope=col>inTAD.Feature</th><th scope=col>inCCD.Feature</th><th scope=col>normalizedEP300_enhActivity.Feature</th><th scope=col>Score</th></tr>\n",
       "\t<tr><th scope=col>&lt;chr&gt;</th><th scope=col>&lt;dbl&gt;</th><th scope=col>&lt;dbl&gt;</th><th scope=col>&lt;chr&gt;</th><th scope=col>&lt;chr&gt;</th><th scope=col>&lt;chr&gt;</th><th scope=col>&lt;chr&gt;</th><th scope=col>&lt;dbl&gt;</th><th scope=col>&lt;lgl&gt;</th><th scope=col>&lt;chr&gt;</th><th scope=col>⋯</th><th scope=col>&lt;dbl&gt;</th><th scope=col>&lt;dbl&gt;</th><th scope=col>&lt;dbl&gt;</th><th scope=col>&lt;dbl&gt;</th><th scope=col>&lt;dbl&gt;</th><th scope=col>&lt;dbl&gt;</th><th scope=col>&lt;dbl&gt;</th><th scope=col>&lt;dbl&gt;</th><th scope=col>&lt;dbl&gt;</th><th scope=col>&lt;dbl&gt;</th></tr>\n",
       "</thead>\n",
       "<tbody>\n",
       "\t<tr><td>chr1</td><td>11623</td><td>12123</td><td>chr1:11623-12123</td><td>promoter</td><td>ACAP3   </td><td>ENSG00000131584</td><td>1307889</td><td>FALSE</td><td>K562</td><td>⋯</td><td>0.1672692</td><td>0.4213</td><td>0</td><td>0</td><td>0.3333333</td><td>2.0000000</td><td>0</td><td>0</td><td>0.410817</td><td>0.0011958452</td></tr>\n",
       "\t<tr><td>chr1</td><td>11623</td><td>12123</td><td>chr1:11623-12123</td><td>promoter</td><td>AGRN    </td><td>ENSG00000188157</td><td>1020122</td><td>FALSE</td><td>K562</td><td>⋯</td><td>0.1672692</td><td>0.4213</td><td>0</td><td>0</td><td>0.2000000</td><td>0.2000000</td><td>0</td><td>0</td><td>0.410817</td><td>0.0098575491</td></tr>\n",
       "\t<tr><td>chr1</td><td>11623</td><td>12123</td><td>chr1:11623-12123</td><td>promoter</td><td>ATAD3A  </td><td>ENSG00000197785</td><td>1512142</td><td>FALSE</td><td>K562</td><td>⋯</td><td>0.1672692</td><td>0.4213</td><td>1</td><td>0</td><td>0.2500000</td><td>1.2500000</td><td>0</td><td>0</td><td>0.410817</td><td>0.0004062592</td></tr>\n",
       "\t<tr><td>chr1</td><td>11623</td><td>12123</td><td>chr1:11623-12123</td><td>promoter</td><td>ATAD3B  </td><td>ENSG00000160072</td><td>1471754</td><td>FALSE</td><td>K562</td><td>⋯</td><td>0.1672692</td><td>0.4213</td><td>1</td><td>0</td><td>0.2500000</td><td>1.2500000</td><td>0</td><td>0</td><td>0.410817</td><td>0.0006464185</td></tr>\n",
       "\t<tr><td>chr1</td><td>11623</td><td>12123</td><td>chr1:11623-12123</td><td>promoter</td><td>AURKAIP1</td><td>ENSG00000175756</td><td>1375438</td><td>FALSE</td><td>K562</td><td>⋯</td><td>0.1672692</td><td>0.4213</td><td>1</td><td>1</td><td>0.1666667</td><td>0.8333333</td><td>0</td><td>0</td><td>0.410817</td><td>0.0001355707</td></tr>\n",
       "\t<tr><td>chr1</td><td>11623</td><td>12123</td><td>chr1:11623-12123</td><td>promoter</td><td>B3GALT6 </td><td>ENSG00000176022</td><td>1232248</td><td>FALSE</td><td>K562</td><td>⋯</td><td>0.1672692</td><td>0.4213</td><td>1</td><td>1</td><td>0.1666667</td><td>0.5000000</td><td>0</td><td>0</td><td>0.410817</td><td>0.0005891780</td></tr>\n",
       "</tbody>\n",
       "</table>\n"
      ],
      "text/latex": [
       "A tibble: 6 × 57\n",
       "\\begin{tabular}{lllllllllllllllllllll}\n",
       " Chrom & Start & End & Name & class & TargetGene & TargetGeneEnsemblID & TargetGeneTSS & isSelfPromoter & CellType & ⋯ & phastConMax.Feature & phyloPMax.Feature & P2PromoterClass.Feature & ubiquitousExpressedGene.Feature & HiCLoopOutsideNormalized.Feature & HiCLoopCrossNormalized.Feature & inTAD.Feature & inCCD.Feature & normalizedEP300\\_enhActivity.Feature & Score\\\\\n",
       " <chr> & <dbl> & <dbl> & <chr> & <chr> & <chr> & <chr> & <dbl> & <lgl> & <chr> & ⋯ & <dbl> & <dbl> & <dbl> & <dbl> & <dbl> & <dbl> & <dbl> & <dbl> & <dbl> & <dbl>\\\\\n",
       "\\hline\n",
       "\t chr1 & 11623 & 12123 & chr1:11623-12123 & promoter & ACAP3    & ENSG00000131584 & 1307889 & FALSE & K562 & ⋯ & 0.1672692 & 0.4213 & 0 & 0 & 0.3333333 & 2.0000000 & 0 & 0 & 0.410817 & 0.0011958452\\\\\n",
       "\t chr1 & 11623 & 12123 & chr1:11623-12123 & promoter & AGRN     & ENSG00000188157 & 1020122 & FALSE & K562 & ⋯ & 0.1672692 & 0.4213 & 0 & 0 & 0.2000000 & 0.2000000 & 0 & 0 & 0.410817 & 0.0098575491\\\\\n",
       "\t chr1 & 11623 & 12123 & chr1:11623-12123 & promoter & ATAD3A   & ENSG00000197785 & 1512142 & FALSE & K562 & ⋯ & 0.1672692 & 0.4213 & 1 & 0 & 0.2500000 & 1.2500000 & 0 & 0 & 0.410817 & 0.0004062592\\\\\n",
       "\t chr1 & 11623 & 12123 & chr1:11623-12123 & promoter & ATAD3B   & ENSG00000160072 & 1471754 & FALSE & K562 & ⋯ & 0.1672692 & 0.4213 & 1 & 0 & 0.2500000 & 1.2500000 & 0 & 0 & 0.410817 & 0.0006464185\\\\\n",
       "\t chr1 & 11623 & 12123 & chr1:11623-12123 & promoter & AURKAIP1 & ENSG00000175756 & 1375438 & FALSE & K562 & ⋯ & 0.1672692 & 0.4213 & 1 & 1 & 0.1666667 & 0.8333333 & 0 & 0 & 0.410817 & 0.0001355707\\\\\n",
       "\t chr1 & 11623 & 12123 & chr1:11623-12123 & promoter & B3GALT6  & ENSG00000176022 & 1232248 & FALSE & K562 & ⋯ & 0.1672692 & 0.4213 & 1 & 1 & 0.1666667 & 0.5000000 & 0 & 0 & 0.410817 & 0.0005891780\\\\\n",
       "\\end{tabular}\n"
      ],
      "text/markdown": [
       "\n",
       "A tibble: 6 × 57\n",
       "\n",
       "| Chrom &lt;chr&gt; | Start &lt;dbl&gt; | End &lt;dbl&gt; | Name &lt;chr&gt; | class &lt;chr&gt; | TargetGene &lt;chr&gt; | TargetGeneEnsemblID &lt;chr&gt; | TargetGeneTSS &lt;dbl&gt; | isSelfPromoter &lt;lgl&gt; | CellType &lt;chr&gt; | ⋯ ⋯ | phastConMax.Feature &lt;dbl&gt; | phyloPMax.Feature &lt;dbl&gt; | P2PromoterClass.Feature &lt;dbl&gt; | ubiquitousExpressedGene.Feature &lt;dbl&gt; | HiCLoopOutsideNormalized.Feature &lt;dbl&gt; | HiCLoopCrossNormalized.Feature &lt;dbl&gt; | inTAD.Feature &lt;dbl&gt; | inCCD.Feature &lt;dbl&gt; | normalizedEP300_enhActivity.Feature &lt;dbl&gt; | Score &lt;dbl&gt; |\n",
       "|---|---|---|---|---|---|---|---|---|---|---|---|---|---|---|---|---|---|---|---|---|\n",
       "| chr1 | 11623 | 12123 | chr1:11623-12123 | promoter | ACAP3    | ENSG00000131584 | 1307889 | FALSE | K562 | ⋯ | 0.1672692 | 0.4213 | 0 | 0 | 0.3333333 | 2.0000000 | 0 | 0 | 0.410817 | 0.0011958452 |\n",
       "| chr1 | 11623 | 12123 | chr1:11623-12123 | promoter | AGRN     | ENSG00000188157 | 1020122 | FALSE | K562 | ⋯ | 0.1672692 | 0.4213 | 0 | 0 | 0.2000000 | 0.2000000 | 0 | 0 | 0.410817 | 0.0098575491 |\n",
       "| chr1 | 11623 | 12123 | chr1:11623-12123 | promoter | ATAD3A   | ENSG00000197785 | 1512142 | FALSE | K562 | ⋯ | 0.1672692 | 0.4213 | 1 | 0 | 0.2500000 | 1.2500000 | 0 | 0 | 0.410817 | 0.0004062592 |\n",
       "| chr1 | 11623 | 12123 | chr1:11623-12123 | promoter | ATAD3B   | ENSG00000160072 | 1471754 | FALSE | K562 | ⋯ | 0.1672692 | 0.4213 | 1 | 0 | 0.2500000 | 1.2500000 | 0 | 0 | 0.410817 | 0.0006464185 |\n",
       "| chr1 | 11623 | 12123 | chr1:11623-12123 | promoter | AURKAIP1 | ENSG00000175756 | 1375438 | FALSE | K562 | ⋯ | 0.1672692 | 0.4213 | 1 | 1 | 0.1666667 | 0.8333333 | 0 | 0 | 0.410817 | 0.0001355707 |\n",
       "| chr1 | 11623 | 12123 | chr1:11623-12123 | promoter | B3GALT6  | ENSG00000176022 | 1232248 | FALSE | K562 | ⋯ | 0.1672692 | 0.4213 | 1 | 1 | 0.1666667 | 0.5000000 | 0 | 0 | 0.410817 | 0.0005891780 |\n",
       "\n"
      ],
      "text/plain": [
       "  Chrom Start End   Name             class    TargetGene TargetGeneEnsemblID\n",
       "1 chr1  11623 12123 chr1:11623-12123 promoter ACAP3      ENSG00000131584    \n",
       "2 chr1  11623 12123 chr1:11623-12123 promoter AGRN       ENSG00000188157    \n",
       "3 chr1  11623 12123 chr1:11623-12123 promoter ATAD3A     ENSG00000197785    \n",
       "4 chr1  11623 12123 chr1:11623-12123 promoter ATAD3B     ENSG00000160072    \n",
       "5 chr1  11623 12123 chr1:11623-12123 promoter AURKAIP1   ENSG00000175756    \n",
       "6 chr1  11623 12123 chr1:11623-12123 promoter B3GALT6    ENSG00000176022    \n",
       "  TargetGeneTSS isSelfPromoter CellType ⋯ phastConMax.Feature phyloPMax.Feature\n",
       "1 1307889       FALSE          K562     ⋯ 0.1672692           0.4213           \n",
       "2 1020122       FALSE          K562     ⋯ 0.1672692           0.4213           \n",
       "3 1512142       FALSE          K562     ⋯ 0.1672692           0.4213           \n",
       "4 1471754       FALSE          K562     ⋯ 0.1672692           0.4213           \n",
       "5 1375438       FALSE          K562     ⋯ 0.1672692           0.4213           \n",
       "6 1232248       FALSE          K562     ⋯ 0.1672692           0.4213           \n",
       "  P2PromoterClass.Feature ubiquitousExpressedGene.Feature\n",
       "1 0                       0                              \n",
       "2 0                       0                              \n",
       "3 1                       0                              \n",
       "4 1                       0                              \n",
       "5 1                       1                              \n",
       "6 1                       1                              \n",
       "  HiCLoopOutsideNormalized.Feature HiCLoopCrossNormalized.Feature inTAD.Feature\n",
       "1 0.3333333                        2.0000000                      0            \n",
       "2 0.2000000                        0.2000000                      0            \n",
       "3 0.2500000                        1.2500000                      0            \n",
       "4 0.2500000                        1.2500000                      0            \n",
       "5 0.1666667                        0.8333333                      0            \n",
       "6 0.1666667                        0.5000000                      0            \n",
       "  inCCD.Feature normalizedEP300_enhActivity.Feature Score       \n",
       "1 0             0.410817                            0.0011958452\n",
       "2 0             0.410817                            0.0098575491\n",
       "3 0             0.410817                            0.0004062592\n",
       "4 0             0.410817                            0.0006464185\n",
       "5 0             0.410817                            0.0001355707\n",
       "6 0             0.410817                            0.0005891780"
      ]
     },
     "metadata": {},
     "output_type": "display_data"
    }
   ],
   "source": [
    "fdiry = file.path(FD_RES, \"source\", \"ENCODE_E2G\", \"annotation_e2g_prediction_ENCSR328LMT\")\n",
    "fname = \"K562.ENCSR328LMT.ENCFF122UMY.element_gene_links.bed.gz\"\n",
    "fpath = file.path(fdiry, fname)\n",
    "\n",
    "dat = read_tsv(fpath, show_col_types = FALSE)\n",
    "colnames(dat)[1] = \"chr\"\n",
    "\n",
    "dat = dat %>% \n",
    "    dplyr::rename(\n",
    "        Chrom = chr, \n",
    "        Start = start, \n",
    "        End   = end, \n",
    "        Name  = name)\n",
    "\n",
    "dat_peak_encode_e2g_total_import = dat\n",
    "print(dim(dat))\n",
    "head(dat)"
   ]
  },
  {
   "cell_type": "code",
   "execution_count": 4,
   "metadata": {},
   "outputs": [
    {
     "name": "stdout",
     "output_type": "stream",
     "text": [
      "[1] 122316     57\n"
     ]
    },
    {
     "data": {
      "text/html": [
       "<table class=\"dataframe\">\n",
       "<caption>A tibble: 6 × 57</caption>\n",
       "<thead>\n",
       "\t<tr><th scope=col>Chrom</th><th scope=col>Start</th><th scope=col>End</th><th scope=col>Name</th><th scope=col>class</th><th scope=col>TargetGene</th><th scope=col>TargetGeneEnsemblID</th><th scope=col>TargetGeneTSS</th><th scope=col>isSelfPromoter</th><th scope=col>CellType</th><th scope=col>⋯</th><th scope=col>phastConMax.Feature</th><th scope=col>phyloPMax.Feature</th><th scope=col>P2PromoterClass.Feature</th><th scope=col>ubiquitousExpressedGene.Feature</th><th scope=col>HiCLoopOutsideNormalized.Feature</th><th scope=col>HiCLoopCrossNormalized.Feature</th><th scope=col>inTAD.Feature</th><th scope=col>inCCD.Feature</th><th scope=col>normalizedEP300_enhActivity.Feature</th><th scope=col>Score</th></tr>\n",
       "\t<tr><th scope=col>&lt;chr&gt;</th><th scope=col>&lt;dbl&gt;</th><th scope=col>&lt;dbl&gt;</th><th scope=col>&lt;chr&gt;</th><th scope=col>&lt;chr&gt;</th><th scope=col>&lt;chr&gt;</th><th scope=col>&lt;chr&gt;</th><th scope=col>&lt;dbl&gt;</th><th scope=col>&lt;lgl&gt;</th><th scope=col>&lt;chr&gt;</th><th scope=col>⋯</th><th scope=col>&lt;dbl&gt;</th><th scope=col>&lt;dbl&gt;</th><th scope=col>&lt;dbl&gt;</th><th scope=col>&lt;dbl&gt;</th><th scope=col>&lt;dbl&gt;</th><th scope=col>&lt;dbl&gt;</th><th scope=col>&lt;dbl&gt;</th><th scope=col>&lt;dbl&gt;</th><th scope=col>&lt;dbl&gt;</th><th scope=col>&lt;dbl&gt;</th></tr>\n",
       "</thead>\n",
       "<tbody>\n",
       "\t<tr><td>chr1</td><td>115484</td><td>115984</td><td>chr1:115484-115984</td><td>intergenic</td><td>SAMD11  </td><td>ENSG00000187634</td><td> 925740</td><td>FALSE</td><td>K562</td><td>⋯</td><td>0.4244211</td><td>0.4244211</td><td>0</td><td>0</td><td>0.3333333</td><td>0.3333333</td><td>0</td><td>0</td><td> 7.489511</td><td>0.4101592</td></tr>\n",
       "\t<tr><td>chr1</td><td>628759</td><td>629259</td><td>chr1:628759-629259</td><td>promoter  </td><td>PLEKHN1 </td><td>ENSG00000187583</td><td> 966496</td><td>FALSE</td><td>K562</td><td>⋯</td><td>0.2234074</td><td>2.3065745</td><td>0</td><td>0</td><td>0.3333333</td><td>1.3333333</td><td>0</td><td>0</td><td>12.672126</td><td>0.3489636</td></tr>\n",
       "\t<tr><td>chr1</td><td>628759</td><td>629259</td><td>chr1:628759-629259</td><td>promoter  </td><td>RNF223  </td><td>ENSG00000237330</td><td>1074307</td><td>FALSE</td><td>K562</td><td>⋯</td><td>0.2234074</td><td>2.3065745</td><td>0</td><td>0</td><td>0.3333333</td><td>2.6666667</td><td>0</td><td>0</td><td>12.672126</td><td>0.3438472</td></tr>\n",
       "\t<tr><td>chr1</td><td>628759</td><td>629259</td><td>chr1:628759-629259</td><td>promoter  </td><td>SAMD11  </td><td>ENSG00000187634</td><td> 925740</td><td>FALSE</td><td>K562</td><td>⋯</td><td>0.2234074</td><td>2.3065745</td><td>0</td><td>0</td><td>0.3333333</td><td>0.6666667</td><td>0</td><td>0</td><td>12.672126</td><td>0.4635418</td></tr>\n",
       "\t<tr><td>chr1</td><td>628759</td><td>629259</td><td>chr1:628759-629259</td><td>promoter  </td><td>SCNN1D  </td><td>ENSG00000162572</td><td>1280435</td><td>FALSE</td><td>K562</td><td>⋯</td><td>0.2234074</td><td>2.3065745</td><td>0</td><td>0</td><td>0.2500000</td><td>3.0000000</td><td>0</td><td>0</td><td>12.672126</td><td>0.3262141</td></tr>\n",
       "\t<tr><td>chr1</td><td>628759</td><td>629259</td><td>chr1:628759-629259</td><td>promoter  </td><td>TNFRSF18</td><td>ENSG00000186891</td><td>1206709</td><td>FALSE</td><td>K562</td><td>⋯</td><td>0.2234074</td><td>2.3065745</td><td>0</td><td>0</td><td>0.1428571</td><td>1.8571429</td><td>0</td><td>0</td><td>12.672126</td><td>0.4113472</td></tr>\n",
       "</tbody>\n",
       "</table>\n"
      ],
      "text/latex": [
       "A tibble: 6 × 57\n",
       "\\begin{tabular}{lllllllllllllllllllll}\n",
       " Chrom & Start & End & Name & class & TargetGene & TargetGeneEnsemblID & TargetGeneTSS & isSelfPromoter & CellType & ⋯ & phastConMax.Feature & phyloPMax.Feature & P2PromoterClass.Feature & ubiquitousExpressedGene.Feature & HiCLoopOutsideNormalized.Feature & HiCLoopCrossNormalized.Feature & inTAD.Feature & inCCD.Feature & normalizedEP300\\_enhActivity.Feature & Score\\\\\n",
       " <chr> & <dbl> & <dbl> & <chr> & <chr> & <chr> & <chr> & <dbl> & <lgl> & <chr> & ⋯ & <dbl> & <dbl> & <dbl> & <dbl> & <dbl> & <dbl> & <dbl> & <dbl> & <dbl> & <dbl>\\\\\n",
       "\\hline\n",
       "\t chr1 & 115484 & 115984 & chr1:115484-115984 & intergenic & SAMD11   & ENSG00000187634 &  925740 & FALSE & K562 & ⋯ & 0.4244211 & 0.4244211 & 0 & 0 & 0.3333333 & 0.3333333 & 0 & 0 &  7.489511 & 0.4101592\\\\\n",
       "\t chr1 & 628759 & 629259 & chr1:628759-629259 & promoter   & PLEKHN1  & ENSG00000187583 &  966496 & FALSE & K562 & ⋯ & 0.2234074 & 2.3065745 & 0 & 0 & 0.3333333 & 1.3333333 & 0 & 0 & 12.672126 & 0.3489636\\\\\n",
       "\t chr1 & 628759 & 629259 & chr1:628759-629259 & promoter   & RNF223   & ENSG00000237330 & 1074307 & FALSE & K562 & ⋯ & 0.2234074 & 2.3065745 & 0 & 0 & 0.3333333 & 2.6666667 & 0 & 0 & 12.672126 & 0.3438472\\\\\n",
       "\t chr1 & 628759 & 629259 & chr1:628759-629259 & promoter   & SAMD11   & ENSG00000187634 &  925740 & FALSE & K562 & ⋯ & 0.2234074 & 2.3065745 & 0 & 0 & 0.3333333 & 0.6666667 & 0 & 0 & 12.672126 & 0.4635418\\\\\n",
       "\t chr1 & 628759 & 629259 & chr1:628759-629259 & promoter   & SCNN1D   & ENSG00000162572 & 1280435 & FALSE & K562 & ⋯ & 0.2234074 & 2.3065745 & 0 & 0 & 0.2500000 & 3.0000000 & 0 & 0 & 12.672126 & 0.3262141\\\\\n",
       "\t chr1 & 628759 & 629259 & chr1:628759-629259 & promoter   & TNFRSF18 & ENSG00000186891 & 1206709 & FALSE & K562 & ⋯ & 0.2234074 & 2.3065745 & 0 & 0 & 0.1428571 & 1.8571429 & 0 & 0 & 12.672126 & 0.4113472\\\\\n",
       "\\end{tabular}\n"
      ],
      "text/markdown": [
       "\n",
       "A tibble: 6 × 57\n",
       "\n",
       "| Chrom &lt;chr&gt; | Start &lt;dbl&gt; | End &lt;dbl&gt; | Name &lt;chr&gt; | class &lt;chr&gt; | TargetGene &lt;chr&gt; | TargetGeneEnsemblID &lt;chr&gt; | TargetGeneTSS &lt;dbl&gt; | isSelfPromoter &lt;lgl&gt; | CellType &lt;chr&gt; | ⋯ ⋯ | phastConMax.Feature &lt;dbl&gt; | phyloPMax.Feature &lt;dbl&gt; | P2PromoterClass.Feature &lt;dbl&gt; | ubiquitousExpressedGene.Feature &lt;dbl&gt; | HiCLoopOutsideNormalized.Feature &lt;dbl&gt; | HiCLoopCrossNormalized.Feature &lt;dbl&gt; | inTAD.Feature &lt;dbl&gt; | inCCD.Feature &lt;dbl&gt; | normalizedEP300_enhActivity.Feature &lt;dbl&gt; | Score &lt;dbl&gt; |\n",
       "|---|---|---|---|---|---|---|---|---|---|---|---|---|---|---|---|---|---|---|---|---|\n",
       "| chr1 | 115484 | 115984 | chr1:115484-115984 | intergenic | SAMD11   | ENSG00000187634 |  925740 | FALSE | K562 | ⋯ | 0.4244211 | 0.4244211 | 0 | 0 | 0.3333333 | 0.3333333 | 0 | 0 |  7.489511 | 0.4101592 |\n",
       "| chr1 | 628759 | 629259 | chr1:628759-629259 | promoter   | PLEKHN1  | ENSG00000187583 |  966496 | FALSE | K562 | ⋯ | 0.2234074 | 2.3065745 | 0 | 0 | 0.3333333 | 1.3333333 | 0 | 0 | 12.672126 | 0.3489636 |\n",
       "| chr1 | 628759 | 629259 | chr1:628759-629259 | promoter   | RNF223   | ENSG00000237330 | 1074307 | FALSE | K562 | ⋯ | 0.2234074 | 2.3065745 | 0 | 0 | 0.3333333 | 2.6666667 | 0 | 0 | 12.672126 | 0.3438472 |\n",
       "| chr1 | 628759 | 629259 | chr1:628759-629259 | promoter   | SAMD11   | ENSG00000187634 |  925740 | FALSE | K562 | ⋯ | 0.2234074 | 2.3065745 | 0 | 0 | 0.3333333 | 0.6666667 | 0 | 0 | 12.672126 | 0.4635418 |\n",
       "| chr1 | 628759 | 629259 | chr1:628759-629259 | promoter   | SCNN1D   | ENSG00000162572 | 1280435 | FALSE | K562 | ⋯ | 0.2234074 | 2.3065745 | 0 | 0 | 0.2500000 | 3.0000000 | 0 | 0 | 12.672126 | 0.3262141 |\n",
       "| chr1 | 628759 | 629259 | chr1:628759-629259 | promoter   | TNFRSF18 | ENSG00000186891 | 1206709 | FALSE | K562 | ⋯ | 0.2234074 | 2.3065745 | 0 | 0 | 0.1428571 | 1.8571429 | 0 | 0 | 12.672126 | 0.4113472 |\n",
       "\n"
      ],
      "text/plain": [
       "  Chrom Start  End    Name               class      TargetGene\n",
       "1 chr1  115484 115984 chr1:115484-115984 intergenic SAMD11    \n",
       "2 chr1  628759 629259 chr1:628759-629259 promoter   PLEKHN1   \n",
       "3 chr1  628759 629259 chr1:628759-629259 promoter   RNF223    \n",
       "4 chr1  628759 629259 chr1:628759-629259 promoter   SAMD11    \n",
       "5 chr1  628759 629259 chr1:628759-629259 promoter   SCNN1D    \n",
       "6 chr1  628759 629259 chr1:628759-629259 promoter   TNFRSF18  \n",
       "  TargetGeneEnsemblID TargetGeneTSS isSelfPromoter CellType ⋯\n",
       "1 ENSG00000187634      925740       FALSE          K562     ⋯\n",
       "2 ENSG00000187583      966496       FALSE          K562     ⋯\n",
       "3 ENSG00000237330     1074307       FALSE          K562     ⋯\n",
       "4 ENSG00000187634      925740       FALSE          K562     ⋯\n",
       "5 ENSG00000162572     1280435       FALSE          K562     ⋯\n",
       "6 ENSG00000186891     1206709       FALSE          K562     ⋯\n",
       "  phastConMax.Feature phyloPMax.Feature P2PromoterClass.Feature\n",
       "1 0.4244211           0.4244211         0                      \n",
       "2 0.2234074           2.3065745         0                      \n",
       "3 0.2234074           2.3065745         0                      \n",
       "4 0.2234074           2.3065745         0                      \n",
       "5 0.2234074           2.3065745         0                      \n",
       "6 0.2234074           2.3065745         0                      \n",
       "  ubiquitousExpressedGene.Feature HiCLoopOutsideNormalized.Feature\n",
       "1 0                               0.3333333                       \n",
       "2 0                               0.3333333                       \n",
       "3 0                               0.3333333                       \n",
       "4 0                               0.3333333                       \n",
       "5 0                               0.2500000                       \n",
       "6 0                               0.1428571                       \n",
       "  HiCLoopCrossNormalized.Feature inTAD.Feature inCCD.Feature\n",
       "1 0.3333333                      0             0            \n",
       "2 1.3333333                      0             0            \n",
       "3 2.6666667                      0             0            \n",
       "4 0.6666667                      0             0            \n",
       "5 3.0000000                      0             0            \n",
       "6 1.8571429                      0             0            \n",
       "  normalizedEP300_enhActivity.Feature Score    \n",
       "1  7.489511                           0.4101592\n",
       "2 12.672126                           0.3489636\n",
       "3 12.672126                           0.3438472\n",
       "4 12.672126                           0.4635418\n",
       "5 12.672126                           0.3262141\n",
       "6 12.672126                           0.4113472"
      ]
     },
     "metadata": {},
     "output_type": "display_data"
    }
   ],
   "source": [
    "fdiry = file.path(FD_RES, \"source\", \"ENCODE_E2G\", \"annotation_e2g_prediction_ENCSR328LMT\")\n",
    "fname = \"K562.ENCSR328LMT.ENCFF202FID.element_gene_links.thresholded.bed.gz\"\n",
    "fpath = file.path(fdiry, fname)\n",
    "\n",
    "dat = read_tsv(fpath, show_col_types = FALSE)\n",
    "colnames(dat)[1] = \"chr\"\n",
    "\n",
    "dat = dat %>% \n",
    "    dplyr::rename(\n",
    "        Chrom = chr, \n",
    "        Start = start, \n",
    "        End   = end, \n",
    "        Name  = name)\n",
    "\n",
    "dat_peak_encode_e2g_active_import = dat\n",
    "print(dim(dat))\n",
    "head(dat)"
   ]
  },
  {
   "cell_type": "markdown",
   "metadata": {},
   "source": [
    "## Arrange and summary"
   ]
  },
  {
   "cell_type": "code",
   "execution_count": 5,
   "metadata": {},
   "outputs": [],
   "source": [
    "### init\n",
    "lst = list(\n",
    "    \"total\"  = dat_peak_encode_e2g_total_import,\n",
    "    \"active\" = dat_peak_encode_e2g_active_import\n",
    ")\n",
    "\n",
    "txt = \"ENCODE-E2G_Prediction\"\n",
    "\n",
    "### arrange table\n",
    "lst = lapply(lst, function(dat){\n",
    "    ### set columns\n",
    "    dat = dat %>% \n",
    "        dplyr::mutate(\n",
    "            Score        = round(Score, 5),\n",
    "            Region_Class = class,\n",
    "            Gene_ENSEMBL = TargetGeneEnsemblID,\n",
    "            Gene_Symbol  = TargetGene,\n",
    "            Gene_TSS     = TargetGeneTSS,\n",
    "            Assay_Type   = txt,\n",
    "            Assay_Label  = paste0(txt, \":\", Gene_Symbol)\n",
    "        )\n",
    "    ### select columnes\n",
    "    vec = c(\n",
    "        'Chrom', 'Start', 'End', 'Name', 'Score', \n",
    "        \"Region_Class\", \"Gene_ENSEMBL\", \"Gene_Symbol\", \"Gene_TSS\", \n",
    "        'Assay_Type', 'Assay_Label')\n",
    "    dat = dat %>% \n",
    "        dplyr::select({{vec}}) %>% \n",
    "        dplyr::distinct() %>%\n",
    "        dplyr::arrange(Chrom, Start, End)\n",
    "    return(dat)\n",
    "})\n",
    "\n",
    "### assign\n",
    "lst_dat_peak_encode_e2g_arrange = lst"
   ]
  },
  {
   "cell_type": "code",
   "execution_count": 6,
   "metadata": {},
   "outputs": [
    {
     "name": "stdout",
     "output_type": "stream",
     "text": [
      "#Row    (Total): 9599924 \n",
      "#Gene   (Total): 14643 \n",
      "#Region (Total): 133767 \n",
      "\n",
      "#Row    (Active): 122316 \n",
      "#Gene   (Active): 14627 \n",
      "#Region (Active): 51829 \n"
     ]
    }
   ],
   "source": [
    "lst = lst_dat_peak_encode_e2g_arrange\n",
    "\n",
    "dat = lst[['total']]\n",
    "vec_txt_gene   = unique(dat$Gene_Symbol)\n",
    "vec_txt_region = unique(dat$Name)\n",
    "cat(\"#Row    (Total):\", nrow(dat),              \"\\n\")\n",
    "cat(\"#Gene   (Total):\", length(vec_txt_gene),   \"\\n\")\n",
    "cat(\"#Region (Total):\", length(vec_txt_region), \"\\n\")\n",
    "cat(\"\\n\")\n",
    "\n",
    "dat = lst[['active']]\n",
    "vec_txt_gene   = unique(dat$Gene_Symbol)\n",
    "vec_txt_region = unique(dat$Name)\n",
    "cat(\"#Row    (Active):\", nrow(dat),              \"\\n\")\n",
    "cat(\"#Gene   (Active):\", length(vec_txt_gene),   \"\\n\")\n",
    "cat(\"#Region (Active):\", length(vec_txt_region), \"\\n\")"
   ]
  },
  {
   "cell_type": "markdown",
   "metadata": {},
   "source": [
    "## Data dictionary"
   ]
  },
  {
   "cell_type": "code",
   "execution_count": 7,
   "metadata": {},
   "outputs": [
    {
     "name": "stdout",
     "output_type": "stream",
     "text": [
      "====================\n",
      "Chrom \n",
      "Start \n",
      "End \n",
      "Name \n",
      "Score \n",
      "Region_Class \n",
      "Gene_ENSEMBL \n",
      "Gene_Symbol \n",
      "Gene_TSS \n",
      "Assay_Type \n",
      "Assay_Label \n",
      "====================\n",
      "[1] \"promoter\"   \"intergenic\" \"genic\"     \n"
     ]
    }
   ],
   "source": [
    "lst = lst_dat_peak_encode_e2g_arrange\n",
    "dat = lst[['total']]\n",
    "\n",
    "cat (\"====================\\n\")\n",
    "for (txt in colnames(dat)){cat(txt, \"\\n\")}\n",
    "cat (\"====================\\n\")\n",
    "vec = unique(dat$Region_Class)\n",
    "print(unique(vec))"
   ]
  },
  {
   "cell_type": "code",
   "execution_count": 8,
   "metadata": {},
   "outputs": [
    {
     "data": {
      "text/html": [
       "<table class=\"dataframe\">\n",
       "<caption>A tibble: 11 × 2</caption>\n",
       "<thead>\n",
       "\t<tr><th scope=col>Name</th><th scope=col>Description</th></tr>\n",
       "\t<tr><th scope=col>&lt;chr&gt;</th><th scope=col>&lt;chr&gt;</th></tr>\n",
       "</thead>\n",
       "<tbody>\n",
       "\t<tr><td>Chrom       </td><td>Chromosome of the perturbed element                                                                              </td></tr>\n",
       "\t<tr><td>Start       </td><td>Start of the perturbed element (0-based)                                                                         </td></tr>\n",
       "\t<tr><td>End         </td><td>End of the perturbed element                                                                                     </td></tr>\n",
       "\t<tr><td>Name        </td><td>Identifier for the given E-G pair in the form of 'gene|chr:start-stop:strand', e.g. 'BET1L|chr11:220536-220704:*'</td></tr>\n",
       "\t<tr><td>Score       </td><td>Change in gene expression upon CRISPRi perturbation, e.g. precentage change in expression or log fold change     </td></tr>\n",
       "\t<tr><td>Region_Class</td><td>Type of region (intergenic, promoter, genic)                                                                     </td></tr>\n",
       "\t<tr><td>Gene_ENSEMBL</td><td>target gene ensembl                                                                                              </td></tr>\n",
       "\t<tr><td>Gene_Symbol </td><td>target gene symbol                                                                                               </td></tr>\n",
       "\t<tr><td>Gene_TSS    </td><td>target gene TSS                                                                                                  </td></tr>\n",
       "\t<tr><td>Assay_Type  </td><td>Assay type                                                                                                       </td></tr>\n",
       "\t<tr><td>Assay_Label </td><td>Assay label                                                                                                      </td></tr>\n",
       "</tbody>\n",
       "</table>\n"
      ],
      "text/latex": [
       "A tibble: 11 × 2\n",
       "\\begin{tabular}{ll}\n",
       " Name & Description\\\\\n",
       " <chr> & <chr>\\\\\n",
       "\\hline\n",
       "\t Chrom        & Chromosome of the perturbed element                                                                              \\\\\n",
       "\t Start        & Start of the perturbed element (0-based)                                                                         \\\\\n",
       "\t End          & End of the perturbed element                                                                                     \\\\\n",
       "\t Name         & Identifier for the given E-G pair in the form of 'gene\\textbar{}chr:start-stop:strand', e.g. 'BET1L\\textbar{}chr11:220536-220704:*'\\\\\n",
       "\t Score        & Change in gene expression upon CRISPRi perturbation, e.g. precentage change in expression or log fold change     \\\\\n",
       "\t Region\\_Class & Type of region (intergenic, promoter, genic)                                                                     \\\\\n",
       "\t Gene\\_ENSEMBL & target gene ensembl                                                                                              \\\\\n",
       "\t Gene\\_Symbol  & target gene symbol                                                                                               \\\\\n",
       "\t Gene\\_TSS     & target gene TSS                                                                                                  \\\\\n",
       "\t Assay\\_Type   & Assay type                                                                                                       \\\\\n",
       "\t Assay\\_Label  & Assay label                                                                                                      \\\\\n",
       "\\end{tabular}\n"
      ],
      "text/markdown": [
       "\n",
       "A tibble: 11 × 2\n",
       "\n",
       "| Name &lt;chr&gt; | Description &lt;chr&gt; |\n",
       "|---|---|\n",
       "| Chrom        | Chromosome of the perturbed element                                                                               |\n",
       "| Start        | Start of the perturbed element (0-based)                                                                          |\n",
       "| End          | End of the perturbed element                                                                                      |\n",
       "| Name         | Identifier for the given E-G pair in the form of 'gene|chr:start-stop:strand', e.g. 'BET1L|chr11:220536-220704:*' |\n",
       "| Score        | Change in gene expression upon CRISPRi perturbation, e.g. precentage change in expression or log fold change      |\n",
       "| Region_Class | Type of region (intergenic, promoter, genic)                                                                      |\n",
       "| Gene_ENSEMBL | target gene ensembl                                                                                               |\n",
       "| Gene_Symbol  | target gene symbol                                                                                                |\n",
       "| Gene_TSS     | target gene TSS                                                                                                   |\n",
       "| Assay_Type   | Assay type                                                                                                        |\n",
       "| Assay_Label  | Assay label                                                                                                       |\n",
       "\n"
      ],
      "text/plain": [
       "   Name        \n",
       "1  Chrom       \n",
       "2  Start       \n",
       "3  End         \n",
       "4  Name        \n",
       "5  Score       \n",
       "6  Region_Class\n",
       "7  Gene_ENSEMBL\n",
       "8  Gene_Symbol \n",
       "9  Gene_TSS    \n",
       "10 Assay_Type  \n",
       "11 Assay_Label \n",
       "   Description                                                                                                      \n",
       "1  Chromosome of the perturbed element                                                                              \n",
       "2  Start of the perturbed element (0-based)                                                                         \n",
       "3  End of the perturbed element                                                                                     \n",
       "4  Identifier for the given E-G pair in the form of 'gene|chr:start-stop:strand', e.g. 'BET1L|chr11:220536-220704:*'\n",
       "5  Change in gene expression upon CRISPRi perturbation, e.g. precentage change in expression or log fold change     \n",
       "6  Type of region (intergenic, promoter, genic)                                                                     \n",
       "7  target gene ensembl                                                                                              \n",
       "8  target gene symbol                                                                                               \n",
       "9  target gene TSS                                                                                                  \n",
       "10 Assay type                                                                                                       \n",
       "11 Assay label                                                                                                      "
      ]
     },
     "metadata": {},
     "output_type": "display_data"
    }
   ],
   "source": [
    "dat_cnames = tribble(\n",
    "    ~Name,          ~Description,\n",
    "    \"Chrom\",        \"Chromosome of the perturbed element\",\n",
    "    \"Start\",        \"Start of the perturbed element (0-based)\",\n",
    "    \"End\",          \"End of the perturbed element\",\n",
    "    \"Name\",         \"Identifier for the given E-G pair in the form of 'gene|chr:start-stop:strand', e.g. 'BET1L|chr11:220536-220704:*'\",\n",
    "    \"Score\",        \"Change in gene expression upon CRISPRi perturbation, e.g. precentage change in expression or log fold change\",\n",
    "    \"Region_Class\", \"Type of region (intergenic, promoter, genic)\",\n",
    "    \"Gene_ENSEMBL\", \"target gene ensembl\",\n",
    "    \"Gene_Symbol\",  \"target gene symbol\",\n",
    "    \"Gene_TSS\",     \"target gene TSS\",\n",
    "    \"Assay_Type\",   \"Assay type\",\n",
    "    \"Assay_Label\",  \"Assay label\"\n",
    ")\n",
    "dat_cnames"
   ]
  },
  {
   "cell_type": "markdown",
   "metadata": {},
   "source": [
    "## Save results"
   ]
  },
  {
   "cell_type": "code",
   "execution_count": 9,
   "metadata": {},
   "outputs": [],
   "source": [
    "FD_OUT = file.path(FD_RES, \"results\", \"region\", \"annotation_encode_e2g_prediction\")"
   ]
  },
  {
   "cell_type": "code",
   "execution_count": 10,
   "metadata": {},
   "outputs": [
    {
     "name": "stdout",
     "output_type": "stream",
     "text": [
      "[1] \"/data/reddylab/Kuei/out/proj_combeffect_encode_fcc/results/region/annotation_encode_e2g_prediction/description.tsv\"\n"
     ]
    },
    {
     "data": {
      "text/html": [
       "<table class=\"dataframe\">\n",
       "<caption>A tibble: 11 × 2</caption>\n",
       "<thead>\n",
       "\t<tr><th scope=col>Name</th><th scope=col>Description</th></tr>\n",
       "\t<tr><th scope=col>&lt;chr&gt;</th><th scope=col>&lt;chr&gt;</th></tr>\n",
       "</thead>\n",
       "<tbody>\n",
       "\t<tr><td>Chrom       </td><td>Chromosome of the perturbed element                                                                              </td></tr>\n",
       "\t<tr><td>Start       </td><td>Start of the perturbed element (0-based)                                                                         </td></tr>\n",
       "\t<tr><td>End         </td><td>End of the perturbed element                                                                                     </td></tr>\n",
       "\t<tr><td>Name        </td><td>Identifier for the given E-G pair in the form of 'gene|chr:start-stop:strand', e.g. 'BET1L|chr11:220536-220704:*'</td></tr>\n",
       "\t<tr><td>Score       </td><td>Change in gene expression upon CRISPRi perturbation, e.g. precentage change in expression or log fold change     </td></tr>\n",
       "\t<tr><td>Region_Class</td><td>Type of region (intergenic, promoter, genic)                                                                     </td></tr>\n",
       "\t<tr><td>Gene_ENSEMBL</td><td>target gene ensembl                                                                                              </td></tr>\n",
       "\t<tr><td>Gene_Symbol </td><td>target gene symbol                                                                                               </td></tr>\n",
       "\t<tr><td>Gene_TSS    </td><td>target gene TSS                                                                                                  </td></tr>\n",
       "\t<tr><td>Assay_Type  </td><td>Assay type                                                                                                       </td></tr>\n",
       "\t<tr><td>Assay_Label </td><td>Assay label                                                                                                      </td></tr>\n",
       "</tbody>\n",
       "</table>\n"
      ],
      "text/latex": [
       "A tibble: 11 × 2\n",
       "\\begin{tabular}{ll}\n",
       " Name & Description\\\\\n",
       " <chr> & <chr>\\\\\n",
       "\\hline\n",
       "\t Chrom        & Chromosome of the perturbed element                                                                              \\\\\n",
       "\t Start        & Start of the perturbed element (0-based)                                                                         \\\\\n",
       "\t End          & End of the perturbed element                                                                                     \\\\\n",
       "\t Name         & Identifier for the given E-G pair in the form of 'gene\\textbar{}chr:start-stop:strand', e.g. 'BET1L\\textbar{}chr11:220536-220704:*'\\\\\n",
       "\t Score        & Change in gene expression upon CRISPRi perturbation, e.g. precentage change in expression or log fold change     \\\\\n",
       "\t Region\\_Class & Type of region (intergenic, promoter, genic)                                                                     \\\\\n",
       "\t Gene\\_ENSEMBL & target gene ensembl                                                                                              \\\\\n",
       "\t Gene\\_Symbol  & target gene symbol                                                                                               \\\\\n",
       "\t Gene\\_TSS     & target gene TSS                                                                                                  \\\\\n",
       "\t Assay\\_Type   & Assay type                                                                                                       \\\\\n",
       "\t Assay\\_Label  & Assay label                                                                                                      \\\\\n",
       "\\end{tabular}\n"
      ],
      "text/markdown": [
       "\n",
       "A tibble: 11 × 2\n",
       "\n",
       "| Name &lt;chr&gt; | Description &lt;chr&gt; |\n",
       "|---|---|\n",
       "| Chrom        | Chromosome of the perturbed element                                                                               |\n",
       "| Start        | Start of the perturbed element (0-based)                                                                          |\n",
       "| End          | End of the perturbed element                                                                                      |\n",
       "| Name         | Identifier for the given E-G pair in the form of 'gene|chr:start-stop:strand', e.g. 'BET1L|chr11:220536-220704:*' |\n",
       "| Score        | Change in gene expression upon CRISPRi perturbation, e.g. precentage change in expression or log fold change      |\n",
       "| Region_Class | Type of region (intergenic, promoter, genic)                                                                      |\n",
       "| Gene_ENSEMBL | target gene ensembl                                                                                               |\n",
       "| Gene_Symbol  | target gene symbol                                                                                                |\n",
       "| Gene_TSS     | target gene TSS                                                                                                   |\n",
       "| Assay_Type   | Assay type                                                                                                        |\n",
       "| Assay_Label  | Assay label                                                                                                       |\n",
       "\n"
      ],
      "text/plain": [
       "   Name        \n",
       "1  Chrom       \n",
       "2  Start       \n",
       "3  End         \n",
       "4  Name        \n",
       "5  Score       \n",
       "6  Region_Class\n",
       "7  Gene_ENSEMBL\n",
       "8  Gene_Symbol \n",
       "9  Gene_TSS    \n",
       "10 Assay_Type  \n",
       "11 Assay_Label \n",
       "   Description                                                                                                      \n",
       "1  Chromosome of the perturbed element                                                                              \n",
       "2  Start of the perturbed element (0-based)                                                                         \n",
       "3  End of the perturbed element                                                                                     \n",
       "4  Identifier for the given E-G pair in the form of 'gene|chr:start-stop:strand', e.g. 'BET1L|chr11:220536-220704:*'\n",
       "5  Change in gene expression upon CRISPRi perturbation, e.g. precentage change in expression or log fold change     \n",
       "6  Type of region (intergenic, promoter, genic)                                                                     \n",
       "7  target gene ensembl                                                                                              \n",
       "8  target gene symbol                                                                                               \n",
       "9  target gene TSS                                                                                                  \n",
       "10 Assay type                                                                                                       \n",
       "11 Assay label                                                                                                      "
      ]
     },
     "metadata": {},
     "output_type": "display_data"
    }
   ],
   "source": [
    "fdiry = FD_OUT\n",
    "fname = \"description.tsv\"\n",
    "fpath = file.path(fdiry, fname)\n",
    "print(fpath)\n",
    "\n",
    "dat = dat_cnames\n",
    "write_tsv(dat, fpath)\n",
    "dat"
   ]
  },
  {
   "cell_type": "code",
   "execution_count": 11,
   "metadata": {},
   "outputs": [
    {
     "name": "stdout",
     "output_type": "stream",
     "text": [
      "[1] \"/data/reddylab/Kuei/out/proj_combeffect_encode_fcc/results/region/annotation_encode_e2g_prediction/K562.ENCSR328LMT.ENCFF122UMY.element_gene_links.total.bed.gz\"\n"
     ]
    },
    {
     "data": {
      "text/html": [
       "<table class=\"dataframe\">\n",
       "<caption>A tibble: 6 × 11</caption>\n",
       "<thead>\n",
       "\t<tr><th scope=col>Chrom</th><th scope=col>Start</th><th scope=col>End</th><th scope=col>Name</th><th scope=col>Score</th><th scope=col>Region_Class</th><th scope=col>Gene_ENSEMBL</th><th scope=col>Gene_Symbol</th><th scope=col>Gene_TSS</th><th scope=col>Assay_Type</th><th scope=col>Assay_Label</th></tr>\n",
       "\t<tr><th scope=col>&lt;chr&gt;</th><th scope=col>&lt;dbl&gt;</th><th scope=col>&lt;dbl&gt;</th><th scope=col>&lt;chr&gt;</th><th scope=col>&lt;dbl&gt;</th><th scope=col>&lt;chr&gt;</th><th scope=col>&lt;chr&gt;</th><th scope=col>&lt;chr&gt;</th><th scope=col>&lt;dbl&gt;</th><th scope=col>&lt;chr&gt;</th><th scope=col>&lt;chr&gt;</th></tr>\n",
       "</thead>\n",
       "<tbody>\n",
       "\t<tr><td>chr1</td><td>11623</td><td>12123</td><td>chr1:11623-12123</td><td>0.00120</td><td>promoter</td><td>ENSG00000131584</td><td>ACAP3   </td><td>1307889</td><td>ENCODE-E2G_Prediction</td><td>ENCODE-E2G_Prediction:ACAP3   </td></tr>\n",
       "\t<tr><td>chr1</td><td>11623</td><td>12123</td><td>chr1:11623-12123</td><td>0.00986</td><td>promoter</td><td>ENSG00000188157</td><td>AGRN    </td><td>1020122</td><td>ENCODE-E2G_Prediction</td><td>ENCODE-E2G_Prediction:AGRN    </td></tr>\n",
       "\t<tr><td>chr1</td><td>11623</td><td>12123</td><td>chr1:11623-12123</td><td>0.00041</td><td>promoter</td><td>ENSG00000197785</td><td>ATAD3A  </td><td>1512142</td><td>ENCODE-E2G_Prediction</td><td>ENCODE-E2G_Prediction:ATAD3A  </td></tr>\n",
       "\t<tr><td>chr1</td><td>11623</td><td>12123</td><td>chr1:11623-12123</td><td>0.00065</td><td>promoter</td><td>ENSG00000160072</td><td>ATAD3B  </td><td>1471754</td><td>ENCODE-E2G_Prediction</td><td>ENCODE-E2G_Prediction:ATAD3B  </td></tr>\n",
       "\t<tr><td>chr1</td><td>11623</td><td>12123</td><td>chr1:11623-12123</td><td>0.00014</td><td>promoter</td><td>ENSG00000175756</td><td>AURKAIP1</td><td>1375438</td><td>ENCODE-E2G_Prediction</td><td>ENCODE-E2G_Prediction:AURKAIP1</td></tr>\n",
       "\t<tr><td>chr1</td><td>11623</td><td>12123</td><td>chr1:11623-12123</td><td>0.00059</td><td>promoter</td><td>ENSG00000176022</td><td>B3GALT6 </td><td>1232248</td><td>ENCODE-E2G_Prediction</td><td>ENCODE-E2G_Prediction:B3GALT6 </td></tr>\n",
       "</tbody>\n",
       "</table>\n"
      ],
      "text/latex": [
       "A tibble: 6 × 11\n",
       "\\begin{tabular}{lllllllllll}\n",
       " Chrom & Start & End & Name & Score & Region\\_Class & Gene\\_ENSEMBL & Gene\\_Symbol & Gene\\_TSS & Assay\\_Type & Assay\\_Label\\\\\n",
       " <chr> & <dbl> & <dbl> & <chr> & <dbl> & <chr> & <chr> & <chr> & <dbl> & <chr> & <chr>\\\\\n",
       "\\hline\n",
       "\t chr1 & 11623 & 12123 & chr1:11623-12123 & 0.00120 & promoter & ENSG00000131584 & ACAP3    & 1307889 & ENCODE-E2G\\_Prediction & ENCODE-E2G\\_Prediction:ACAP3   \\\\\n",
       "\t chr1 & 11623 & 12123 & chr1:11623-12123 & 0.00986 & promoter & ENSG00000188157 & AGRN     & 1020122 & ENCODE-E2G\\_Prediction & ENCODE-E2G\\_Prediction:AGRN    \\\\\n",
       "\t chr1 & 11623 & 12123 & chr1:11623-12123 & 0.00041 & promoter & ENSG00000197785 & ATAD3A   & 1512142 & ENCODE-E2G\\_Prediction & ENCODE-E2G\\_Prediction:ATAD3A  \\\\\n",
       "\t chr1 & 11623 & 12123 & chr1:11623-12123 & 0.00065 & promoter & ENSG00000160072 & ATAD3B   & 1471754 & ENCODE-E2G\\_Prediction & ENCODE-E2G\\_Prediction:ATAD3B  \\\\\n",
       "\t chr1 & 11623 & 12123 & chr1:11623-12123 & 0.00014 & promoter & ENSG00000175756 & AURKAIP1 & 1375438 & ENCODE-E2G\\_Prediction & ENCODE-E2G\\_Prediction:AURKAIP1\\\\\n",
       "\t chr1 & 11623 & 12123 & chr1:11623-12123 & 0.00059 & promoter & ENSG00000176022 & B3GALT6  & 1232248 & ENCODE-E2G\\_Prediction & ENCODE-E2G\\_Prediction:B3GALT6 \\\\\n",
       "\\end{tabular}\n"
      ],
      "text/markdown": [
       "\n",
       "A tibble: 6 × 11\n",
       "\n",
       "| Chrom &lt;chr&gt; | Start &lt;dbl&gt; | End &lt;dbl&gt; | Name &lt;chr&gt; | Score &lt;dbl&gt; | Region_Class &lt;chr&gt; | Gene_ENSEMBL &lt;chr&gt; | Gene_Symbol &lt;chr&gt; | Gene_TSS &lt;dbl&gt; | Assay_Type &lt;chr&gt; | Assay_Label &lt;chr&gt; |\n",
       "|---|---|---|---|---|---|---|---|---|---|---|\n",
       "| chr1 | 11623 | 12123 | chr1:11623-12123 | 0.00120 | promoter | ENSG00000131584 | ACAP3    | 1307889 | ENCODE-E2G_Prediction | ENCODE-E2G_Prediction:ACAP3    |\n",
       "| chr1 | 11623 | 12123 | chr1:11623-12123 | 0.00986 | promoter | ENSG00000188157 | AGRN     | 1020122 | ENCODE-E2G_Prediction | ENCODE-E2G_Prediction:AGRN     |\n",
       "| chr1 | 11623 | 12123 | chr1:11623-12123 | 0.00041 | promoter | ENSG00000197785 | ATAD3A   | 1512142 | ENCODE-E2G_Prediction | ENCODE-E2G_Prediction:ATAD3A   |\n",
       "| chr1 | 11623 | 12123 | chr1:11623-12123 | 0.00065 | promoter | ENSG00000160072 | ATAD3B   | 1471754 | ENCODE-E2G_Prediction | ENCODE-E2G_Prediction:ATAD3B   |\n",
       "| chr1 | 11623 | 12123 | chr1:11623-12123 | 0.00014 | promoter | ENSG00000175756 | AURKAIP1 | 1375438 | ENCODE-E2G_Prediction | ENCODE-E2G_Prediction:AURKAIP1 |\n",
       "| chr1 | 11623 | 12123 | chr1:11623-12123 | 0.00059 | promoter | ENSG00000176022 | B3GALT6  | 1232248 | ENCODE-E2G_Prediction | ENCODE-E2G_Prediction:B3GALT6  |\n",
       "\n"
      ],
      "text/plain": [
       "  Chrom Start End   Name             Score   Region_Class Gene_ENSEMBL   \n",
       "1 chr1  11623 12123 chr1:11623-12123 0.00120 promoter     ENSG00000131584\n",
       "2 chr1  11623 12123 chr1:11623-12123 0.00986 promoter     ENSG00000188157\n",
       "3 chr1  11623 12123 chr1:11623-12123 0.00041 promoter     ENSG00000197785\n",
       "4 chr1  11623 12123 chr1:11623-12123 0.00065 promoter     ENSG00000160072\n",
       "5 chr1  11623 12123 chr1:11623-12123 0.00014 promoter     ENSG00000175756\n",
       "6 chr1  11623 12123 chr1:11623-12123 0.00059 promoter     ENSG00000176022\n",
       "  Gene_Symbol Gene_TSS Assay_Type            Assay_Label                   \n",
       "1 ACAP3       1307889  ENCODE-E2G_Prediction ENCODE-E2G_Prediction:ACAP3   \n",
       "2 AGRN        1020122  ENCODE-E2G_Prediction ENCODE-E2G_Prediction:AGRN    \n",
       "3 ATAD3A      1512142  ENCODE-E2G_Prediction ENCODE-E2G_Prediction:ATAD3A  \n",
       "4 ATAD3B      1471754  ENCODE-E2G_Prediction ENCODE-E2G_Prediction:ATAD3B  \n",
       "5 AURKAIP1    1375438  ENCODE-E2G_Prediction ENCODE-E2G_Prediction:AURKAIP1\n",
       "6 B3GALT6     1232248  ENCODE-E2G_Prediction ENCODE-E2G_Prediction:B3GALT6 "
      ]
     },
     "metadata": {},
     "output_type": "display_data"
    }
   ],
   "source": [
    "fdiry = FD_OUT\n",
    "fname = \"K562.ENCSR328LMT.ENCFF122UMY.element_gene_links.total.bed.gz\"\n",
    "fpath = file.path(fdiry, fname)\n",
    "print(fpath)\n",
    "\n",
    "lst = lst_dat_peak_encode_e2g_arrange\n",
    "dat = lst[['total']]\n",
    "#colnames(dat)[1] = \"#Chrom\"\n",
    "write_tsv(dat, fpath, col_names = FALSE)\n",
    "head(dat)"
   ]
  },
  {
   "cell_type": "code",
   "execution_count": 12,
   "metadata": {},
   "outputs": [
    {
     "name": "stdout",
     "output_type": "stream",
     "text": [
      "[1] \"/data/reddylab/Kuei/out/proj_combeffect_encode_fcc/results/region/annotation_encode_e2g_prediction/K562.ENCSR328LMT.ENCFF202FID.element_gene_links.active.bed.gz\"\n"
     ]
    },
    {
     "data": {
      "text/html": [
       "<table class=\"dataframe\">\n",
       "<caption>A tibble: 6 × 11</caption>\n",
       "<thead>\n",
       "\t<tr><th scope=col>Chrom</th><th scope=col>Start</th><th scope=col>End</th><th scope=col>Name</th><th scope=col>Score</th><th scope=col>Region_Class</th><th scope=col>Gene_ENSEMBL</th><th scope=col>Gene_Symbol</th><th scope=col>Gene_TSS</th><th scope=col>Assay_Type</th><th scope=col>Assay_Label</th></tr>\n",
       "\t<tr><th scope=col>&lt;chr&gt;</th><th scope=col>&lt;dbl&gt;</th><th scope=col>&lt;dbl&gt;</th><th scope=col>&lt;chr&gt;</th><th scope=col>&lt;dbl&gt;</th><th scope=col>&lt;chr&gt;</th><th scope=col>&lt;chr&gt;</th><th scope=col>&lt;chr&gt;</th><th scope=col>&lt;dbl&gt;</th><th scope=col>&lt;chr&gt;</th><th scope=col>&lt;chr&gt;</th></tr>\n",
       "</thead>\n",
       "<tbody>\n",
       "\t<tr><td>chr1</td><td>115484</td><td>115984</td><td>chr1:115484-115984</td><td>0.41016</td><td>intergenic</td><td>ENSG00000187634</td><td>SAMD11  </td><td> 925740</td><td>ENCODE-E2G_Prediction</td><td>ENCODE-E2G_Prediction:SAMD11  </td></tr>\n",
       "\t<tr><td>chr1</td><td>628759</td><td>629259</td><td>chr1:628759-629259</td><td>0.34896</td><td>promoter  </td><td>ENSG00000187583</td><td>PLEKHN1 </td><td> 966496</td><td>ENCODE-E2G_Prediction</td><td>ENCODE-E2G_Prediction:PLEKHN1 </td></tr>\n",
       "\t<tr><td>chr1</td><td>628759</td><td>629259</td><td>chr1:628759-629259</td><td>0.34385</td><td>promoter  </td><td>ENSG00000237330</td><td>RNF223  </td><td>1074307</td><td>ENCODE-E2G_Prediction</td><td>ENCODE-E2G_Prediction:RNF223  </td></tr>\n",
       "\t<tr><td>chr1</td><td>628759</td><td>629259</td><td>chr1:628759-629259</td><td>0.46354</td><td>promoter  </td><td>ENSG00000187634</td><td>SAMD11  </td><td> 925740</td><td>ENCODE-E2G_Prediction</td><td>ENCODE-E2G_Prediction:SAMD11  </td></tr>\n",
       "\t<tr><td>chr1</td><td>628759</td><td>629259</td><td>chr1:628759-629259</td><td>0.32621</td><td>promoter  </td><td>ENSG00000162572</td><td>SCNN1D  </td><td>1280435</td><td>ENCODE-E2G_Prediction</td><td>ENCODE-E2G_Prediction:SCNN1D  </td></tr>\n",
       "\t<tr><td>chr1</td><td>628759</td><td>629259</td><td>chr1:628759-629259</td><td>0.41135</td><td>promoter  </td><td>ENSG00000186891</td><td>TNFRSF18</td><td>1206709</td><td>ENCODE-E2G_Prediction</td><td>ENCODE-E2G_Prediction:TNFRSF18</td></tr>\n",
       "</tbody>\n",
       "</table>\n"
      ],
      "text/latex": [
       "A tibble: 6 × 11\n",
       "\\begin{tabular}{lllllllllll}\n",
       " Chrom & Start & End & Name & Score & Region\\_Class & Gene\\_ENSEMBL & Gene\\_Symbol & Gene\\_TSS & Assay\\_Type & Assay\\_Label\\\\\n",
       " <chr> & <dbl> & <dbl> & <chr> & <dbl> & <chr> & <chr> & <chr> & <dbl> & <chr> & <chr>\\\\\n",
       "\\hline\n",
       "\t chr1 & 115484 & 115984 & chr1:115484-115984 & 0.41016 & intergenic & ENSG00000187634 & SAMD11   &  925740 & ENCODE-E2G\\_Prediction & ENCODE-E2G\\_Prediction:SAMD11  \\\\\n",
       "\t chr1 & 628759 & 629259 & chr1:628759-629259 & 0.34896 & promoter   & ENSG00000187583 & PLEKHN1  &  966496 & ENCODE-E2G\\_Prediction & ENCODE-E2G\\_Prediction:PLEKHN1 \\\\\n",
       "\t chr1 & 628759 & 629259 & chr1:628759-629259 & 0.34385 & promoter   & ENSG00000237330 & RNF223   & 1074307 & ENCODE-E2G\\_Prediction & ENCODE-E2G\\_Prediction:RNF223  \\\\\n",
       "\t chr1 & 628759 & 629259 & chr1:628759-629259 & 0.46354 & promoter   & ENSG00000187634 & SAMD11   &  925740 & ENCODE-E2G\\_Prediction & ENCODE-E2G\\_Prediction:SAMD11  \\\\\n",
       "\t chr1 & 628759 & 629259 & chr1:628759-629259 & 0.32621 & promoter   & ENSG00000162572 & SCNN1D   & 1280435 & ENCODE-E2G\\_Prediction & ENCODE-E2G\\_Prediction:SCNN1D  \\\\\n",
       "\t chr1 & 628759 & 629259 & chr1:628759-629259 & 0.41135 & promoter   & ENSG00000186891 & TNFRSF18 & 1206709 & ENCODE-E2G\\_Prediction & ENCODE-E2G\\_Prediction:TNFRSF18\\\\\n",
       "\\end{tabular}\n"
      ],
      "text/markdown": [
       "\n",
       "A tibble: 6 × 11\n",
       "\n",
       "| Chrom &lt;chr&gt; | Start &lt;dbl&gt; | End &lt;dbl&gt; | Name &lt;chr&gt; | Score &lt;dbl&gt; | Region_Class &lt;chr&gt; | Gene_ENSEMBL &lt;chr&gt; | Gene_Symbol &lt;chr&gt; | Gene_TSS &lt;dbl&gt; | Assay_Type &lt;chr&gt; | Assay_Label &lt;chr&gt; |\n",
       "|---|---|---|---|---|---|---|---|---|---|---|\n",
       "| chr1 | 115484 | 115984 | chr1:115484-115984 | 0.41016 | intergenic | ENSG00000187634 | SAMD11   |  925740 | ENCODE-E2G_Prediction | ENCODE-E2G_Prediction:SAMD11   |\n",
       "| chr1 | 628759 | 629259 | chr1:628759-629259 | 0.34896 | promoter   | ENSG00000187583 | PLEKHN1  |  966496 | ENCODE-E2G_Prediction | ENCODE-E2G_Prediction:PLEKHN1  |\n",
       "| chr1 | 628759 | 629259 | chr1:628759-629259 | 0.34385 | promoter   | ENSG00000237330 | RNF223   | 1074307 | ENCODE-E2G_Prediction | ENCODE-E2G_Prediction:RNF223   |\n",
       "| chr1 | 628759 | 629259 | chr1:628759-629259 | 0.46354 | promoter   | ENSG00000187634 | SAMD11   |  925740 | ENCODE-E2G_Prediction | ENCODE-E2G_Prediction:SAMD11   |\n",
       "| chr1 | 628759 | 629259 | chr1:628759-629259 | 0.32621 | promoter   | ENSG00000162572 | SCNN1D   | 1280435 | ENCODE-E2G_Prediction | ENCODE-E2G_Prediction:SCNN1D   |\n",
       "| chr1 | 628759 | 629259 | chr1:628759-629259 | 0.41135 | promoter   | ENSG00000186891 | TNFRSF18 | 1206709 | ENCODE-E2G_Prediction | ENCODE-E2G_Prediction:TNFRSF18 |\n",
       "\n"
      ],
      "text/plain": [
       "  Chrom Start  End    Name               Score   Region_Class Gene_ENSEMBL   \n",
       "1 chr1  115484 115984 chr1:115484-115984 0.41016 intergenic   ENSG00000187634\n",
       "2 chr1  628759 629259 chr1:628759-629259 0.34896 promoter     ENSG00000187583\n",
       "3 chr1  628759 629259 chr1:628759-629259 0.34385 promoter     ENSG00000237330\n",
       "4 chr1  628759 629259 chr1:628759-629259 0.46354 promoter     ENSG00000187634\n",
       "5 chr1  628759 629259 chr1:628759-629259 0.32621 promoter     ENSG00000162572\n",
       "6 chr1  628759 629259 chr1:628759-629259 0.41135 promoter     ENSG00000186891\n",
       "  Gene_Symbol Gene_TSS Assay_Type            Assay_Label                   \n",
       "1 SAMD11       925740  ENCODE-E2G_Prediction ENCODE-E2G_Prediction:SAMD11  \n",
       "2 PLEKHN1      966496  ENCODE-E2G_Prediction ENCODE-E2G_Prediction:PLEKHN1 \n",
       "3 RNF223      1074307  ENCODE-E2G_Prediction ENCODE-E2G_Prediction:RNF223  \n",
       "4 SAMD11       925740  ENCODE-E2G_Prediction ENCODE-E2G_Prediction:SAMD11  \n",
       "5 SCNN1D      1280435  ENCODE-E2G_Prediction ENCODE-E2G_Prediction:SCNN1D  \n",
       "6 TNFRSF18    1206709  ENCODE-E2G_Prediction ENCODE-E2G_Prediction:TNFRSF18"
      ]
     },
     "metadata": {},
     "output_type": "display_data"
    }
   ],
   "source": [
    "fdiry = FD_OUT\n",
    "fname = \"K562.ENCSR328LMT.ENCFF202FID.element_gene_links.active.bed.gz\"\n",
    "fpath = file.path(fdiry, fname)\n",
    "print(fpath)\n",
    "\n",
    "lst = lst_dat_peak_encode_e2g_arrange\n",
    "dat = lst[['active']]\n",
    "write_tsv(dat, fpath, col_names = FALSE)\n",
    "head(dat)"
   ]
  },
  {
   "cell_type": "code",
   "execution_count": null,
   "metadata": {},
   "outputs": [],
   "source": []
  }
 ],
 "metadata": {
  "kernelspec": {
   "display_name": "R",
   "language": "R",
   "name": "ir"
  },
  "language_info": {
   "codemirror_mode": "r",
   "file_extension": ".r",
   "mimetype": "text/x-r-source",
   "name": "R",
   "pygments_lexer": "r",
   "version": "4.3.1"
  }
 },
 "nbformat": 4,
 "nbformat_minor": 4
}
