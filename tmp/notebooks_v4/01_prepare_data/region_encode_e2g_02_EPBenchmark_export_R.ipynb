{
 "cells": [
  {
   "cell_type": "markdown",
   "metadata": {},
   "source": [
    "**Set environment**"
   ]
  },
  {
   "cell_type": "code",
   "execution_count": 1,
   "metadata": {},
   "outputs": [
    {
     "name": "stdout",
     "output_type": "stream",
     "text": [
      "You are in Singularity: singularity_proj_encode_fcc \n",
      "BASE DIRECTORY (FD_BASE): /data/reddylab/Kuei \n",
      "WORK DIRECTORY (FD_WORK): /data/reddylab/Kuei/out \n",
      "CODE DIRECTORY (FD_CODE): /data/reddylab/Kuei/code \n",
      "PATH OF PROJECT (FD_PRJ): /data/reddylab/Kuei/code/Proj_CombEffect_ENCODE_FCC \n",
      "PATH OF RESULTS (FD_RES): /data/reddylab/Kuei/out/proj_combeffect_encode_fcc \n",
      "PATH OF LOG     (FD_LOG): /data/reddylab/Kuei/out/proj_combeffect_encode_fcc/log \n"
     ]
    }
   ],
   "source": [
    "suppressMessages(suppressWarnings(source(\"../config/config_sing.R\")))\n",
    "suppressMessages(suppressWarnings(source(\"../config/config_func.R\")))\n",
    "show_env()"
   ]
  },
  {
   "cell_type": "markdown",
   "metadata": {},
   "source": [
    "**Check data files**"
   ]
  },
  {
   "cell_type": "code",
   "execution_count": 2,
   "metadata": {},
   "outputs": [
    {
     "name": "stdout",
     "output_type": "stream",
     "text": [
      "annotation_e2g_benchmark_ENCSR998YDI \n",
      "annotation_e2g_prediction_ENCSR328LMT \n",
      "EPCrisprBenchmark_ensemble_data_GRCh38.filtered.tsv \n",
      "EPCrisprBenchmark_ensemble_data_GRCh38.filtered.tsv.gz \n",
      "EPCrisprBenchmark_ensemble_data_GRCh38.tsv \n",
      "EPCrisprBenchmark_ensemble_data_GRCh38.tsv.gz \n",
      "Readme.md \n",
      "RefSeqCurated.170308.bed.CollapsedGeneBounds.hg38.TSS500bp.bed \n"
     ]
    }
   ],
   "source": [
    "fdiry = file.path(FD_RES, \"source\", \"ENCODE_E2G\")\n",
    "for (fname in dir(fdiry)){cat(fname, \"\\n\")}"
   ]
  },
  {
   "cell_type": "markdown",
   "metadata": {},
   "source": [
    "## Import data"
   ]
  },
  {
   "cell_type": "markdown",
   "metadata": {},
   "source": [
    "**Import E2G Benchmark data: EPCrisprBenchmark**"
   ]
  },
  {
   "cell_type": "code",
   "execution_count": 3,
   "metadata": {},
   "outputs": [
    {
     "name": "stdout",
     "output_type": "stream",
     "text": [
      "[1] 10375    21\n"
     ]
    },
    {
     "data": {
      "text/html": [
       "<table class=\"dataframe\">\n",
       "<caption>A tibble: 6 × 21</caption>\n",
       "<thead>\n",
       "\t<tr><th scope=col>chrom</th><th scope=col>chromStart</th><th scope=col>chromEnd</th><th scope=col>name</th><th scope=col>EffectSize</th><th scope=col>chrTSS</th><th scope=col>startTSS</th><th scope=col>endTSS</th><th scope=col>measuredGeneSymbol</th><th scope=col>Significant</th><th scope=col>⋯</th><th scope=col>PowerAtEffectSize10</th><th scope=col>PowerAtEffectSize15</th><th scope=col>PowerAtEffectSize20</th><th scope=col>PowerAtEffectSize25</th><th scope=col>PowerAtEffectSize50</th><th scope=col>ValidConnection</th><th scope=col>CellType</th><th scope=col>Reference</th><th scope=col>Regulated</th><th scope=col>Dataset</th></tr>\n",
       "\t<tr><th scope=col>&lt;chr&gt;</th><th scope=col>&lt;dbl&gt;</th><th scope=col>&lt;dbl&gt;</th><th scope=col>&lt;chr&gt;</th><th scope=col>&lt;dbl&gt;</th><th scope=col>&lt;chr&gt;</th><th scope=col>&lt;dbl&gt;</th><th scope=col>&lt;dbl&gt;</th><th scope=col>&lt;chr&gt;</th><th scope=col>&lt;lgl&gt;</th><th scope=col>⋯</th><th scope=col>&lt;dbl&gt;</th><th scope=col>&lt;dbl&gt;</th><th scope=col>&lt;dbl&gt;</th><th scope=col>&lt;dbl&gt;</th><th scope=col>&lt;dbl&gt;</th><th scope=col>&lt;lgl&gt;</th><th scope=col>&lt;chr&gt;</th><th scope=col>&lt;chr&gt;</th><th scope=col>&lt;lgl&gt;</th><th scope=col>&lt;chr&gt;</th></tr>\n",
       "</thead>\n",
       "<tbody>\n",
       "\t<tr><td>chr1</td><td>3774714</td><td>3775214</td><td>CEP104|chr1:3691278-3691778:*</td><td>-0.293431866</td><td>chr1</td><td>3857213</td><td>3857214</td><td>CEP104</td><td> TRUE</td><td>⋯</td><td>  NA</td><td>  NA</td><td>  NA</td><td>0.8250936</td><td>NA</td><td>TRUE</td><td>K562</td><td>Ulirsch2016           </td><td> TRUE</td><td>FlowFISH_K562</td></tr>\n",
       "\t<tr><td>chr1</td><td>3774714</td><td>3775214</td><td>LRRC47|chr1:3691278-3691778:*</td><td>-0.331178093</td><td>chr1</td><td>3796503</td><td>3796504</td><td>LRRC47</td><td> TRUE</td><td>⋯</td><td>  NA</td><td>  NA</td><td>  NA</td><td>0.6089942</td><td>NA</td><td>TRUE</td><td>K562</td><td>Ulirsch2016           </td><td> TRUE</td><td>FlowFISH_K562</td></tr>\n",
       "\t<tr><td>chr1</td><td>3803570</td><td>3805848</td><td>LRRC47|chr1:3720134-3722412:.</td><td>-0.001471265</td><td>chr1</td><td>3796503</td><td>3796504</td><td>LRRC47</td><td>FALSE</td><td>⋯</td><td>0.40</td><td>0.80</td><td>0.85</td><td>1.0000000</td><td> 1</td><td>TRUE</td><td>K562</td><td>Gasperini et al., 2019</td><td>FALSE</td><td>Gasperini2019</td></tr>\n",
       "\t<tr><td>chr1</td><td>3774714</td><td>3775214</td><td>SMIM1|chr1:3691278-3691778:* </td><td>-0.472019217</td><td>chr1</td><td>3772761</td><td>3772762</td><td>SMIM1 </td><td> TRUE</td><td>⋯</td><td>  NA</td><td>  NA</td><td>  NA</td><td>0.6393323</td><td>NA</td><td>TRUE</td><td>K562</td><td>Ulirsch2016           </td><td> TRUE</td><td>FlowFISH_K562</td></tr>\n",
       "\t<tr><td>chr1</td><td>3803570</td><td>3805848</td><td>SMIM1|chr1:3720134-3722412:. </td><td> 0.025676924</td><td>chr1</td><td>3772788</td><td>3772789</td><td>SMIM1 </td><td>FALSE</td><td>⋯</td><td>0.80</td><td>0.85</td><td>1.00</td><td>1.0000000</td><td> 1</td><td>TRUE</td><td>K562</td><td>Gasperini et al., 2019</td><td>FALSE</td><td>Gasperini2019</td></tr>\n",
       "\t<tr><td>chr1</td><td>4126791</td><td>4127291</td><td>SMIM1|chr1:4186851-4187351:. </td><td> 0.023383787</td><td>chr1</td><td>3772788</td><td>3772789</td><td>SMIM1 </td><td>FALSE</td><td>⋯</td><td>0.55</td><td>0.80</td><td>0.90</td><td>0.9500000</td><td> 1</td><td>TRUE</td><td>K562</td><td>Gasperini et al., 2019</td><td>FALSE</td><td>Gasperini2019</td></tr>\n",
       "</tbody>\n",
       "</table>\n"
      ],
      "text/latex": [
       "A tibble: 6 × 21\n",
       "\\begin{tabular}{lllllllllllllllllllll}\n",
       " chrom & chromStart & chromEnd & name & EffectSize & chrTSS & startTSS & endTSS & measuredGeneSymbol & Significant & ⋯ & PowerAtEffectSize10 & PowerAtEffectSize15 & PowerAtEffectSize20 & PowerAtEffectSize25 & PowerAtEffectSize50 & ValidConnection & CellType & Reference & Regulated & Dataset\\\\\n",
       " <chr> & <dbl> & <dbl> & <chr> & <dbl> & <chr> & <dbl> & <dbl> & <chr> & <lgl> & ⋯ & <dbl> & <dbl> & <dbl> & <dbl> & <dbl> & <lgl> & <chr> & <chr> & <lgl> & <chr>\\\\\n",
       "\\hline\n",
       "\t chr1 & 3774714 & 3775214 & CEP104\\textbar{}chr1:3691278-3691778:* & -0.293431866 & chr1 & 3857213 & 3857214 & CEP104 &  TRUE & ⋯ &   NA &   NA &   NA & 0.8250936 & NA & TRUE & K562 & Ulirsch2016            &  TRUE & FlowFISH\\_K562\\\\\n",
       "\t chr1 & 3774714 & 3775214 & LRRC47\\textbar{}chr1:3691278-3691778:* & -0.331178093 & chr1 & 3796503 & 3796504 & LRRC47 &  TRUE & ⋯ &   NA &   NA &   NA & 0.6089942 & NA & TRUE & K562 & Ulirsch2016            &  TRUE & FlowFISH\\_K562\\\\\n",
       "\t chr1 & 3803570 & 3805848 & LRRC47\\textbar{}chr1:3720134-3722412:. & -0.001471265 & chr1 & 3796503 & 3796504 & LRRC47 & FALSE & ⋯ & 0.40 & 0.80 & 0.85 & 1.0000000 &  1 & TRUE & K562 & Gasperini et al., 2019 & FALSE & Gasperini2019\\\\\n",
       "\t chr1 & 3774714 & 3775214 & SMIM1\\textbar{}chr1:3691278-3691778:*  & -0.472019217 & chr1 & 3772761 & 3772762 & SMIM1  &  TRUE & ⋯ &   NA &   NA &   NA & 0.6393323 & NA & TRUE & K562 & Ulirsch2016            &  TRUE & FlowFISH\\_K562\\\\\n",
       "\t chr1 & 3803570 & 3805848 & SMIM1\\textbar{}chr1:3720134-3722412:.  &  0.025676924 & chr1 & 3772788 & 3772789 & SMIM1  & FALSE & ⋯ & 0.80 & 0.85 & 1.00 & 1.0000000 &  1 & TRUE & K562 & Gasperini et al., 2019 & FALSE & Gasperini2019\\\\\n",
       "\t chr1 & 4126791 & 4127291 & SMIM1\\textbar{}chr1:4186851-4187351:.  &  0.023383787 & chr1 & 3772788 & 3772789 & SMIM1  & FALSE & ⋯ & 0.55 & 0.80 & 0.90 & 0.9500000 &  1 & TRUE & K562 & Gasperini et al., 2019 & FALSE & Gasperini2019\\\\\n",
       "\\end{tabular}\n"
      ],
      "text/markdown": [
       "\n",
       "A tibble: 6 × 21\n",
       "\n",
       "| chrom &lt;chr&gt; | chromStart &lt;dbl&gt; | chromEnd &lt;dbl&gt; | name &lt;chr&gt; | EffectSize &lt;dbl&gt; | chrTSS &lt;chr&gt; | startTSS &lt;dbl&gt; | endTSS &lt;dbl&gt; | measuredGeneSymbol &lt;chr&gt; | Significant &lt;lgl&gt; | ⋯ ⋯ | PowerAtEffectSize10 &lt;dbl&gt; | PowerAtEffectSize15 &lt;dbl&gt; | PowerAtEffectSize20 &lt;dbl&gt; | PowerAtEffectSize25 &lt;dbl&gt; | PowerAtEffectSize50 &lt;dbl&gt; | ValidConnection &lt;lgl&gt; | CellType &lt;chr&gt; | Reference &lt;chr&gt; | Regulated &lt;lgl&gt; | Dataset &lt;chr&gt; |\n",
       "|---|---|---|---|---|---|---|---|---|---|---|---|---|---|---|---|---|---|---|---|---|\n",
       "| chr1 | 3774714 | 3775214 | CEP104|chr1:3691278-3691778:* | -0.293431866 | chr1 | 3857213 | 3857214 | CEP104 |  TRUE | ⋯ |   NA |   NA |   NA | 0.8250936 | NA | TRUE | K562 | Ulirsch2016            |  TRUE | FlowFISH_K562 |\n",
       "| chr1 | 3774714 | 3775214 | LRRC47|chr1:3691278-3691778:* | -0.331178093 | chr1 | 3796503 | 3796504 | LRRC47 |  TRUE | ⋯ |   NA |   NA |   NA | 0.6089942 | NA | TRUE | K562 | Ulirsch2016            |  TRUE | FlowFISH_K562 |\n",
       "| chr1 | 3803570 | 3805848 | LRRC47|chr1:3720134-3722412:. | -0.001471265 | chr1 | 3796503 | 3796504 | LRRC47 | FALSE | ⋯ | 0.40 | 0.80 | 0.85 | 1.0000000 |  1 | TRUE | K562 | Gasperini et al., 2019 | FALSE | Gasperini2019 |\n",
       "| chr1 | 3774714 | 3775214 | SMIM1|chr1:3691278-3691778:*  | -0.472019217 | chr1 | 3772761 | 3772762 | SMIM1  |  TRUE | ⋯ |   NA |   NA |   NA | 0.6393323 | NA | TRUE | K562 | Ulirsch2016            |  TRUE | FlowFISH_K562 |\n",
       "| chr1 | 3803570 | 3805848 | SMIM1|chr1:3720134-3722412:.  |  0.025676924 | chr1 | 3772788 | 3772789 | SMIM1  | FALSE | ⋯ | 0.80 | 0.85 | 1.00 | 1.0000000 |  1 | TRUE | K562 | Gasperini et al., 2019 | FALSE | Gasperini2019 |\n",
       "| chr1 | 4126791 | 4127291 | SMIM1|chr1:4186851-4187351:.  |  0.023383787 | chr1 | 3772788 | 3772789 | SMIM1  | FALSE | ⋯ | 0.55 | 0.80 | 0.90 | 0.9500000 |  1 | TRUE | K562 | Gasperini et al., 2019 | FALSE | Gasperini2019 |\n",
       "\n"
      ],
      "text/plain": [
       "  chrom chromStart chromEnd name                          EffectSize   chrTSS\n",
       "1 chr1  3774714    3775214  CEP104|chr1:3691278-3691778:* -0.293431866 chr1  \n",
       "2 chr1  3774714    3775214  LRRC47|chr1:3691278-3691778:* -0.331178093 chr1  \n",
       "3 chr1  3803570    3805848  LRRC47|chr1:3720134-3722412:. -0.001471265 chr1  \n",
       "4 chr1  3774714    3775214  SMIM1|chr1:3691278-3691778:*  -0.472019217 chr1  \n",
       "5 chr1  3803570    3805848  SMIM1|chr1:3720134-3722412:.   0.025676924 chr1  \n",
       "6 chr1  4126791    4127291  SMIM1|chr1:4186851-4187351:.   0.023383787 chr1  \n",
       "  startTSS endTSS  measuredGeneSymbol Significant ⋯ PowerAtEffectSize10\n",
       "1 3857213  3857214 CEP104              TRUE       ⋯   NA               \n",
       "2 3796503  3796504 LRRC47              TRUE       ⋯   NA               \n",
       "3 3796503  3796504 LRRC47             FALSE       ⋯ 0.40               \n",
       "4 3772761  3772762 SMIM1               TRUE       ⋯   NA               \n",
       "5 3772788  3772789 SMIM1              FALSE       ⋯ 0.80               \n",
       "6 3772788  3772789 SMIM1              FALSE       ⋯ 0.55               \n",
       "  PowerAtEffectSize15 PowerAtEffectSize20 PowerAtEffectSize25\n",
       "1   NA                  NA                0.8250936          \n",
       "2   NA                  NA                0.6089942          \n",
       "3 0.80                0.85                1.0000000          \n",
       "4   NA                  NA                0.6393323          \n",
       "5 0.85                1.00                1.0000000          \n",
       "6 0.80                0.90                0.9500000          \n",
       "  PowerAtEffectSize50 ValidConnection CellType Reference              Regulated\n",
       "1 NA                  TRUE            K562     Ulirsch2016             TRUE    \n",
       "2 NA                  TRUE            K562     Ulirsch2016             TRUE    \n",
       "3  1                  TRUE            K562     Gasperini et al., 2019 FALSE    \n",
       "4 NA                  TRUE            K562     Ulirsch2016             TRUE    \n",
       "5  1                  TRUE            K562     Gasperini et al., 2019 FALSE    \n",
       "6  1                  TRUE            K562     Gasperini et al., 2019 FALSE    \n",
       "  Dataset      \n",
       "1 FlowFISH_K562\n",
       "2 FlowFISH_K562\n",
       "3 Gasperini2019\n",
       "4 FlowFISH_K562\n",
       "5 Gasperini2019\n",
       "6 Gasperini2019"
      ]
     },
     "metadata": {},
     "output_type": "display_data"
    }
   ],
   "source": [
    "### set file directory\n",
    "fdiry = file.path(FD_RES, \"source\", \"ENCODE_E2G\")\n",
    "fname = \"EPCrisprBenchmark_ensemble_data_GRCh38.filtered.tsv.gz\"\n",
    "fpath = file.path(fdiry, fname)\n",
    "\n",
    "### read table\n",
    "dat = read_tsv(fpath, show_col_types = FALSE)\n",
    "\n",
    "### Assign and show\n",
    "dat_peak_encode_e2g_import = dat\n",
    "print(dim(dat))\n",
    "head(dat)"
   ]
  },
  {
   "cell_type": "code",
   "execution_count": 4,
   "metadata": {},
   "outputs": [
    {
     "name": "stdout",
     "output_type": "stream",
     "text": [
      " [1] \"chrom\"               \"chromStart\"          \"chromEnd\"           \n",
      " [4] \"name\"                \"EffectSize\"          \"chrTSS\"             \n",
      " [7] \"startTSS\"            \"endTSS\"              \"measuredGeneSymbol\" \n",
      "[10] \"Significant\"         \"pValueAdjusted\"      \"PowerAtEffectSize10\"\n",
      "[13] \"PowerAtEffectSize15\" \"PowerAtEffectSize20\" \"PowerAtEffectSize25\"\n",
      "[16] \"PowerAtEffectSize50\" \"ValidConnection\"     \"CellType\"           \n",
      "[19] \"Reference\"           \"Regulated\"           \"Dataset\"            \n"
     ]
    }
   ],
   "source": [
    "print(colnames(dat))"
   ]
  },
  {
   "cell_type": "markdown",
   "metadata": {},
   "source": [
    "**Store the unzip file**"
   ]
  },
  {
   "cell_type": "code",
   "execution_count": 5,
   "metadata": {},
   "outputs": [],
   "source": [
    "### set file directory\n",
    "fdiry = file.path(FD_RES, \"source\", \"ENCODE_E2G\")\n",
    "fname = \"EPCrisprBenchmark_ensemble_data_GRCh38.filtered.tsv\"\n",
    "fpath = file.path(fdiry, fname)\n",
    "\n",
    "dat = dat_peak_encode_e2g_import\n",
    "write_tsv(dat, fpath)"
   ]
  },
  {
   "cell_type": "code",
   "execution_count": 6,
   "metadata": {},
   "outputs": [
    {
     "data": {
      "image/png": "[encoded data removed]",
      "text/plain": [
       "plot without title"
      ]
     },
     "metadata": {
      "image/png": {
       "height": 420,
       "width": 420
      }
     },
     "output_type": "display_data"
    }
   ],
   "source": [
    "gpt = ggplot(dat, aes(x=EffectSize)) + geom_histogram(bins = 30) + theme_cowplot()\n",
    "print(gpt)"
   ]
  },
  {
   "cell_type": "markdown",
   "metadata": {},
   "source": [
    "**Import TSS data**"
   ]
  },
  {
   "cell_type": "code",
   "execution_count": 7,
   "metadata": {},
   "outputs": [
    {
     "data": {
      "text/html": [
       "<table class=\"dataframe\">\n",
       "<caption>A spec_tbl_df: 5 × 2</caption>\n",
       "<thead>\n",
       "\t<tr><th scope=col>Name</th><th scope=col>Description</th></tr>\n",
       "\t<tr><th scope=col>&lt;chr&gt;</th><th scope=col>&lt;chr&gt;</th></tr>\n",
       "</thead>\n",
       "<tbody>\n",
       "\t<tr><td>Chrom</td><td>Chromosome                                                                                 </td></tr>\n",
       "\t<tr><td>Start</td><td>TSS position                                                                               </td></tr>\n",
       "\t<tr><td>End  </td><td>TSS position                                                                               </td></tr>\n",
       "\t<tr><td>Name </td><td>Gene name                                                                                  </td></tr>\n",
       "\t<tr><td>Score</td><td>highest level of pol2 chip seq (ENCFF914WIS.bigWig) at [TSS-500, TSS+500] among TSS isoform</td></tr>\n",
       "</tbody>\n",
       "</table>\n"
      ],
      "text/latex": [
       "A spec\\_tbl\\_df: 5 × 2\n",
       "\\begin{tabular}{ll}\n",
       " Name & Description\\\\\n",
       " <chr> & <chr>\\\\\n",
       "\\hline\n",
       "\t Chrom & Chromosome                                                                                 \\\\\n",
       "\t Start & TSS position                                                                               \\\\\n",
       "\t End   & TSS position                                                                               \\\\\n",
       "\t Name  & Gene name                                                                                  \\\\\n",
       "\t Score & highest level of pol2 chip seq (ENCFF914WIS.bigWig) at {[}TSS-500, TSS+500{]} among TSS isoform\\\\\n",
       "\\end{tabular}\n"
      ],
      "text/markdown": [
       "\n",
       "A spec_tbl_df: 5 × 2\n",
       "\n",
       "| Name &lt;chr&gt; | Description &lt;chr&gt; |\n",
       "|---|---|\n",
       "| Chrom | Chromosome                                                                                  |\n",
       "| Start | TSS position                                                                                |\n",
       "| End   | TSS position                                                                                |\n",
       "| Name  | Gene name                                                                                   |\n",
       "| Score | highest level of pol2 chip seq (ENCFF914WIS.bigWig) at [TSS-500, TSS+500] among TSS isoform |\n",
       "\n"
      ],
      "text/plain": [
       "  Name \n",
       "1 Chrom\n",
       "2 Start\n",
       "3 End  \n",
       "4 Name \n",
       "5 Score\n",
       "  Description                                                                                \n",
       "1 Chromosome                                                                                 \n",
       "2 TSS position                                                                               \n",
       "3 TSS position                                                                               \n",
       "4 Gene name                                                                                  \n",
       "5 highest level of pol2 chip seq (ENCFF914WIS.bigWig) at [TSS-500, TSS+500] among TSS isoform"
      ]
     },
     "metadata": {},
     "output_type": "display_data"
    }
   ],
   "source": [
    "### set file directory\n",
    "fdiry = file.path(FD_RES, \"results\", \"region\", \"annotation_tss_pol2\")\n",
    "fname = \"description.tsv\"\n",
    "fpath = file.path(fdiry, fname)\n",
    "\n",
    "### read header\n",
    "dat = read_tsv(fpath, show_col_types = FALSE)\n",
    "\n",
    "### Assign and show\n",
    "vec_txt_cnames = dat$Name\n",
    "dat"
   ]
  },
  {
   "cell_type": "code",
   "execution_count": 8,
   "metadata": {},
   "outputs": [
    {
     "name": "stdout",
     "output_type": "stream",
     "text": [
      "[1] 11899     5\n"
     ]
    },
    {
     "data": {
      "text/html": [
       "<table class=\"dataframe\">\n",
       "<caption>A tibble: 6 × 5</caption>\n",
       "<thead>\n",
       "\t<tr><th scope=col>Chrom</th><th scope=col>Start</th><th scope=col>End</th><th scope=col>Name</th><th scope=col>Score</th></tr>\n",
       "\t<tr><th scope=col>&lt;chr&gt;</th><th scope=col>&lt;dbl&gt;</th><th scope=col>&lt;dbl&gt;</th><th scope=col>&lt;chr&gt;</th><th scope=col>&lt;dbl&gt;</th></tr>\n",
       "</thead>\n",
       "<tbody>\n",
       "\t<tr><td>chr1</td><td> 29370</td><td> 29371</td><td>WASH7P   </td><td>2.30000e-04</td></tr>\n",
       "\t<tr><td>chr1</td><td>827522</td><td>827523</td><td>LINC00115</td><td>6.44656e+01</td></tr>\n",
       "\t<tr><td>chr1</td><td>827590</td><td>827591</td><td>LINC01128</td><td>6.44603e+01</td></tr>\n",
       "\t<tr><td>chr1</td><td>876802</td><td>876803</td><td>FAM41C   </td><td>7.88399e-03</td></tr>\n",
       "\t<tr><td>chr1</td><td>959256</td><td>959257</td><td>NOC2L    </td><td>1.04866e+02</td></tr>\n",
       "\t<tr><td>chr1</td><td>960583</td><td>960584</td><td>KLHL17   </td><td>8.22571e+00</td></tr>\n",
       "</tbody>\n",
       "</table>\n"
      ],
      "text/latex": [
       "A tibble: 6 × 5\n",
       "\\begin{tabular}{lllll}\n",
       " Chrom & Start & End & Name & Score\\\\\n",
       " <chr> & <dbl> & <dbl> & <chr> & <dbl>\\\\\n",
       "\\hline\n",
       "\t chr1 &  29370 &  29371 & WASH7P    & 2.30000e-04\\\\\n",
       "\t chr1 & 827522 & 827523 & LINC00115 & 6.44656e+01\\\\\n",
       "\t chr1 & 827590 & 827591 & LINC01128 & 6.44603e+01\\\\\n",
       "\t chr1 & 876802 & 876803 & FAM41C    & 7.88399e-03\\\\\n",
       "\t chr1 & 959256 & 959257 & NOC2L     & 1.04866e+02\\\\\n",
       "\t chr1 & 960583 & 960584 & KLHL17    & 8.22571e+00\\\\\n",
       "\\end{tabular}\n"
      ],
      "text/markdown": [
       "\n",
       "A tibble: 6 × 5\n",
       "\n",
       "| Chrom &lt;chr&gt; | Start &lt;dbl&gt; | End &lt;dbl&gt; | Name &lt;chr&gt; | Score &lt;dbl&gt; |\n",
       "|---|---|---|---|---|\n",
       "| chr1 |  29370 |  29371 | WASH7P    | 2.30000e-04 |\n",
       "| chr1 | 827522 | 827523 | LINC00115 | 6.44656e+01 |\n",
       "| chr1 | 827590 | 827591 | LINC01128 | 6.44603e+01 |\n",
       "| chr1 | 876802 | 876803 | FAM41C    | 7.88399e-03 |\n",
       "| chr1 | 959256 | 959257 | NOC2L     | 1.04866e+02 |\n",
       "| chr1 | 960583 | 960584 | KLHL17    | 8.22571e+00 |\n",
       "\n"
      ],
      "text/plain": [
       "  Chrom Start  End    Name      Score      \n",
       "1 chr1   29370  29371 WASH7P    2.30000e-04\n",
       "2 chr1  827522 827523 LINC00115 6.44656e+01\n",
       "3 chr1  827590 827591 LINC01128 6.44603e+01\n",
       "4 chr1  876802 876803 FAM41C    7.88399e-03\n",
       "5 chr1  959256 959257 NOC2L     1.04866e+02\n",
       "6 chr1  960583 960584 KLHL17    8.22571e+00"
      ]
     },
     "metadata": {},
     "output_type": "display_data"
    }
   ],
   "source": [
    "### set file directory\n",
    "fdiry = file.path(FD_RES, \"results\", \"region\", \"annotation_tss_pol2\")\n",
    "fname = \"K562.TSS.selected_by_highest_Pol2_signal.filtered_by_RNAseq_TPM.bed.gz\"\n",
    "fpath = file.path(fdiry, fname)\n",
    "\n",
    "### read table\n",
    "dat = read_tsv(fpath, col_names = vec_txt_cnames, show_col_types = FALSE)\n",
    "\n",
    "### Assign and show\n",
    "dat_annot_tss_pol2_rnaseq = dat\n",
    "print(dim(dat))\n",
    "head(dat)"
   ]
  },
  {
   "cell_type": "markdown",
   "metadata": {},
   "source": [
    "## Arrange the table"
   ]
  },
  {
   "cell_type": "code",
   "execution_count": 9,
   "metadata": {},
   "outputs": [
    {
     "name": "stdout",
     "output_type": "stream",
     "text": [
      "#Row:  11899 \n",
      "#Gene: 11741 \n"
     ]
    },
    {
     "data": {
      "text/html": [
       "<table class=\"dataframe\">\n",
       "<caption>A tibble: 6 × 2</caption>\n",
       "<thead>\n",
       "\t<tr><th scope=col>Gene_Symbol</th><th scope=col>Gene_TSS_Update</th></tr>\n",
       "\t<tr><th scope=col>&lt;chr&gt;</th><th scope=col>&lt;chr&gt;</th></tr>\n",
       "</thead>\n",
       "<tbody>\n",
       "\t<tr><td>WASH7P   </td><td>chr1:29370-29371  </td></tr>\n",
       "\t<tr><td>LINC00115</td><td>chr1:827522-827523</td></tr>\n",
       "\t<tr><td>LINC01128</td><td>chr1:827590-827591</td></tr>\n",
       "\t<tr><td>FAM41C   </td><td>chr1:876802-876803</td></tr>\n",
       "\t<tr><td>NOC2L    </td><td>chr1:959256-959257</td></tr>\n",
       "\t<tr><td>KLHL17   </td><td>chr1:960583-960584</td></tr>\n",
       "</tbody>\n",
       "</table>\n"
      ],
      "text/latex": [
       "A tibble: 6 × 2\n",
       "\\begin{tabular}{ll}\n",
       " Gene\\_Symbol & Gene\\_TSS\\_Update\\\\\n",
       " <chr> & <chr>\\\\\n",
       "\\hline\n",
       "\t WASH7P    & chr1:29370-29371  \\\\\n",
       "\t LINC00115 & chr1:827522-827523\\\\\n",
       "\t LINC01128 & chr1:827590-827591\\\\\n",
       "\t FAM41C    & chr1:876802-876803\\\\\n",
       "\t NOC2L     & chr1:959256-959257\\\\\n",
       "\t KLHL17    & chr1:960583-960584\\\\\n",
       "\\end{tabular}\n"
      ],
      "text/markdown": [
       "\n",
       "A tibble: 6 × 2\n",
       "\n",
       "| Gene_Symbol &lt;chr&gt; | Gene_TSS_Update &lt;chr&gt; |\n",
       "|---|---|\n",
       "| WASH7P    | chr1:29370-29371   |\n",
       "| LINC00115 | chr1:827522-827523 |\n",
       "| LINC01128 | chr1:827590-827591 |\n",
       "| FAM41C    | chr1:876802-876803 |\n",
       "| NOC2L     | chr1:959256-959257 |\n",
       "| KLHL17    | chr1:960583-960584 |\n",
       "\n"
      ],
      "text/plain": [
       "  Gene_Symbol Gene_TSS_Update   \n",
       "1 WASH7P      chr1:29370-29371  \n",
       "2 LINC00115   chr1:827522-827523\n",
       "3 LINC01128   chr1:827590-827591\n",
       "4 FAM41C      chr1:876802-876803\n",
       "5 NOC2L       chr1:959256-959257\n",
       "6 KLHL17      chr1:960583-960584"
      ]
     },
     "metadata": {},
     "output_type": "display_data"
    }
   ],
   "source": [
    "### init\n",
    "dat = dat_annot_tss_pol2_rnaseq\n",
    "\n",
    "### summarize the location of TSS and rename column names\n",
    "dat = dat %>%\n",
    "    dplyr::mutate(\n",
    "        Gene_Symbol     = Name, \n",
    "        Gene_TSS_Update = paste0(Chrom,  \":\", Start,    \"-\", End)\n",
    "    ) %>%\n",
    "    dplyr::select(Gene_Symbol, Gene_TSS_Update) %>%\n",
    "    dplyr::distinct()\n",
    "vec = dat$Gene_Symbol\n",
    "\n",
    "### assign and show\n",
    "dat_annot_tss2gene = dat\n",
    "cat(\"#Row: \", nrow(dat), \"\\n\")\n",
    "cat(\"#Gene:\", length(unique(vec)), \"\\n\")\n",
    "head(dat)"
   ]
  },
  {
   "cell_type": "code",
   "execution_count": 10,
   "metadata": {},
   "outputs": [
    {
     "name": "stdout",
     "output_type": "stream",
     "text": [
      "#Row:    10375 \n",
      "#Gene:   2121 \n",
      "#Region: 3949 \n"
     ]
    },
    {
     "data": {
      "text/html": [
       "<table class=\"dataframe\">\n",
       "<caption>A tibble: 6 × 12</caption>\n",
       "<thead>\n",
       "\t<tr><th scope=col>Chrom</th><th scope=col>Start</th><th scope=col>End</th><th scope=col>Name</th><th scope=col>EffectSize</th><th scope=col>Region</th><th scope=col>Gene_Symbol</th><th scope=col>Gene_TSS</th><th scope=col>Regulated</th><th scope=col>Reference</th><th scope=col>Assay_Type</th><th scope=col>Assay_Label</th></tr>\n",
       "\t<tr><th scope=col>&lt;chr&gt;</th><th scope=col>&lt;dbl&gt;</th><th scope=col>&lt;dbl&gt;</th><th scope=col>&lt;chr&gt;</th><th scope=col>&lt;dbl&gt;</th><th scope=col>&lt;chr&gt;</th><th scope=col>&lt;chr&gt;</th><th scope=col>&lt;chr&gt;</th><th scope=col>&lt;lgl&gt;</th><th scope=col>&lt;chr&gt;</th><th scope=col>&lt;chr&gt;</th><th scope=col>&lt;chr&gt;</th></tr>\n",
       "</thead>\n",
       "<tbody>\n",
       "\t<tr><td>chr1</td><td>3774714</td><td>3775214</td><td>CEP104|chr1:3691278-3691778:*</td><td>-0.29343</td><td>chr1:3774714-3775214</td><td>CEP104</td><td>chr1:3857213-3857214</td><td> TRUE</td><td>Ulirsch2016           </td><td>ENCODE-E2G_Benchmark</td><td>ENCODE-E2G_Benchmark:CEP104</td></tr>\n",
       "\t<tr><td>chr1</td><td>3774714</td><td>3775214</td><td>LRRC47|chr1:3691278-3691778:*</td><td>-0.33118</td><td>chr1:3774714-3775214</td><td>LRRC47</td><td>chr1:3796503-3796504</td><td> TRUE</td><td>Ulirsch2016           </td><td>ENCODE-E2G_Benchmark</td><td>ENCODE-E2G_Benchmark:LRRC47</td></tr>\n",
       "\t<tr><td>chr1</td><td>3803570</td><td>3805848</td><td>LRRC47|chr1:3720134-3722412:.</td><td>-0.00147</td><td>chr1:3803570-3805848</td><td>LRRC47</td><td>chr1:3796503-3796504</td><td>FALSE</td><td>Gasperini et al., 2019</td><td>ENCODE-E2G_Benchmark</td><td>ENCODE-E2G_Benchmark:LRRC47</td></tr>\n",
       "\t<tr><td>chr1</td><td>3774714</td><td>3775214</td><td>SMIM1|chr1:3691278-3691778:* </td><td>-0.47202</td><td>chr1:3774714-3775214</td><td>SMIM1 </td><td>chr1:3772761-3772762</td><td> TRUE</td><td>Ulirsch2016           </td><td>ENCODE-E2G_Benchmark</td><td>ENCODE-E2G_Benchmark:SMIM1 </td></tr>\n",
       "\t<tr><td>chr1</td><td>3803570</td><td>3805848</td><td>SMIM1|chr1:3720134-3722412:. </td><td> 0.02568</td><td>chr1:3803570-3805848</td><td>SMIM1 </td><td>chr1:3772788-3772789</td><td>FALSE</td><td>Gasperini et al., 2019</td><td>ENCODE-E2G_Benchmark</td><td>ENCODE-E2G_Benchmark:SMIM1 </td></tr>\n",
       "\t<tr><td>chr1</td><td>4126791</td><td>4127291</td><td>SMIM1|chr1:4186851-4187351:. </td><td> 0.02338</td><td>chr1:4126791-4127291</td><td>SMIM1 </td><td>chr1:3772788-3772789</td><td>FALSE</td><td>Gasperini et al., 2019</td><td>ENCODE-E2G_Benchmark</td><td>ENCODE-E2G_Benchmark:SMIM1 </td></tr>\n",
       "</tbody>\n",
       "</table>\n"
      ],
      "text/latex": [
       "A tibble: 6 × 12\n",
       "\\begin{tabular}{llllllllllll}\n",
       " Chrom & Start & End & Name & EffectSize & Region & Gene\\_Symbol & Gene\\_TSS & Regulated & Reference & Assay\\_Type & Assay\\_Label\\\\\n",
       " <chr> & <dbl> & <dbl> & <chr> & <dbl> & <chr> & <chr> & <chr> & <lgl> & <chr> & <chr> & <chr>\\\\\n",
       "\\hline\n",
       "\t chr1 & 3774714 & 3775214 & CEP104\\textbar{}chr1:3691278-3691778:* & -0.29343 & chr1:3774714-3775214 & CEP104 & chr1:3857213-3857214 &  TRUE & Ulirsch2016            & ENCODE-E2G\\_Benchmark & ENCODE-E2G\\_Benchmark:CEP104\\\\\n",
       "\t chr1 & 3774714 & 3775214 & LRRC47\\textbar{}chr1:3691278-3691778:* & -0.33118 & chr1:3774714-3775214 & LRRC47 & chr1:3796503-3796504 &  TRUE & Ulirsch2016            & ENCODE-E2G\\_Benchmark & ENCODE-E2G\\_Benchmark:LRRC47\\\\\n",
       "\t chr1 & 3803570 & 3805848 & LRRC47\\textbar{}chr1:3720134-3722412:. & -0.00147 & chr1:3803570-3805848 & LRRC47 & chr1:3796503-3796504 & FALSE & Gasperini et al., 2019 & ENCODE-E2G\\_Benchmark & ENCODE-E2G\\_Benchmark:LRRC47\\\\\n",
       "\t chr1 & 3774714 & 3775214 & SMIM1\\textbar{}chr1:3691278-3691778:*  & -0.47202 & chr1:3774714-3775214 & SMIM1  & chr1:3772761-3772762 &  TRUE & Ulirsch2016            & ENCODE-E2G\\_Benchmark & ENCODE-E2G\\_Benchmark:SMIM1 \\\\\n",
       "\t chr1 & 3803570 & 3805848 & SMIM1\\textbar{}chr1:3720134-3722412:.  &  0.02568 & chr1:3803570-3805848 & SMIM1  & chr1:3772788-3772789 & FALSE & Gasperini et al., 2019 & ENCODE-E2G\\_Benchmark & ENCODE-E2G\\_Benchmark:SMIM1 \\\\\n",
       "\t chr1 & 4126791 & 4127291 & SMIM1\\textbar{}chr1:4186851-4187351:.  &  0.02338 & chr1:4126791-4127291 & SMIM1  & chr1:3772788-3772789 & FALSE & Gasperini et al., 2019 & ENCODE-E2G\\_Benchmark & ENCODE-E2G\\_Benchmark:SMIM1 \\\\\n",
       "\\end{tabular}\n"
      ],
      "text/markdown": [
       "\n",
       "A tibble: 6 × 12\n",
       "\n",
       "| Chrom &lt;chr&gt; | Start &lt;dbl&gt; | End &lt;dbl&gt; | Name &lt;chr&gt; | EffectSize &lt;dbl&gt; | Region &lt;chr&gt; | Gene_Symbol &lt;chr&gt; | Gene_TSS &lt;chr&gt; | Regulated &lt;lgl&gt; | Reference &lt;chr&gt; | Assay_Type &lt;chr&gt; | Assay_Label &lt;chr&gt; |\n",
       "|---|---|---|---|---|---|---|---|---|---|---|---|\n",
       "| chr1 | 3774714 | 3775214 | CEP104|chr1:3691278-3691778:* | -0.29343 | chr1:3774714-3775214 | CEP104 | chr1:3857213-3857214 |  TRUE | Ulirsch2016            | ENCODE-E2G_Benchmark | ENCODE-E2G_Benchmark:CEP104 |\n",
       "| chr1 | 3774714 | 3775214 | LRRC47|chr1:3691278-3691778:* | -0.33118 | chr1:3774714-3775214 | LRRC47 | chr1:3796503-3796504 |  TRUE | Ulirsch2016            | ENCODE-E2G_Benchmark | ENCODE-E2G_Benchmark:LRRC47 |\n",
       "| chr1 | 3803570 | 3805848 | LRRC47|chr1:3720134-3722412:. | -0.00147 | chr1:3803570-3805848 | LRRC47 | chr1:3796503-3796504 | FALSE | Gasperini et al., 2019 | ENCODE-E2G_Benchmark | ENCODE-E2G_Benchmark:LRRC47 |\n",
       "| chr1 | 3774714 | 3775214 | SMIM1|chr1:3691278-3691778:*  | -0.47202 | chr1:3774714-3775214 | SMIM1  | chr1:3772761-3772762 |  TRUE | Ulirsch2016            | ENCODE-E2G_Benchmark | ENCODE-E2G_Benchmark:SMIM1  |\n",
       "| chr1 | 3803570 | 3805848 | SMIM1|chr1:3720134-3722412:.  |  0.02568 | chr1:3803570-3805848 | SMIM1  | chr1:3772788-3772789 | FALSE | Gasperini et al., 2019 | ENCODE-E2G_Benchmark | ENCODE-E2G_Benchmark:SMIM1  |\n",
       "| chr1 | 4126791 | 4127291 | SMIM1|chr1:4186851-4187351:.  |  0.02338 | chr1:4126791-4127291 | SMIM1  | chr1:3772788-3772789 | FALSE | Gasperini et al., 2019 | ENCODE-E2G_Benchmark | ENCODE-E2G_Benchmark:SMIM1  |\n",
       "\n"
      ],
      "text/plain": [
       "  Chrom Start   End     Name                          EffectSize\n",
       "1 chr1  3774714 3775214 CEP104|chr1:3691278-3691778:* -0.29343  \n",
       "2 chr1  3774714 3775214 LRRC47|chr1:3691278-3691778:* -0.33118  \n",
       "3 chr1  3803570 3805848 LRRC47|chr1:3720134-3722412:. -0.00147  \n",
       "4 chr1  3774714 3775214 SMIM1|chr1:3691278-3691778:*  -0.47202  \n",
       "5 chr1  3803570 3805848 SMIM1|chr1:3720134-3722412:.   0.02568  \n",
       "6 chr1  4126791 4127291 SMIM1|chr1:4186851-4187351:.   0.02338  \n",
       "  Region               Gene_Symbol Gene_TSS             Regulated\n",
       "1 chr1:3774714-3775214 CEP104      chr1:3857213-3857214  TRUE    \n",
       "2 chr1:3774714-3775214 LRRC47      chr1:3796503-3796504  TRUE    \n",
       "3 chr1:3803570-3805848 LRRC47      chr1:3796503-3796504 FALSE    \n",
       "4 chr1:3774714-3775214 SMIM1       chr1:3772761-3772762  TRUE    \n",
       "5 chr1:3803570-3805848 SMIM1       chr1:3772788-3772789 FALSE    \n",
       "6 chr1:4126791-4127291 SMIM1       chr1:3772788-3772789 FALSE    \n",
       "  Reference              Assay_Type           Assay_Label                \n",
       "1 Ulirsch2016            ENCODE-E2G_Benchmark ENCODE-E2G_Benchmark:CEP104\n",
       "2 Ulirsch2016            ENCODE-E2G_Benchmark ENCODE-E2G_Benchmark:LRRC47\n",
       "3 Gasperini et al., 2019 ENCODE-E2G_Benchmark ENCODE-E2G_Benchmark:LRRC47\n",
       "4 Ulirsch2016            ENCODE-E2G_Benchmark ENCODE-E2G_Benchmark:SMIM1 \n",
       "5 Gasperini et al., 2019 ENCODE-E2G_Benchmark ENCODE-E2G_Benchmark:SMIM1 \n",
       "6 Gasperini et al., 2019 ENCODE-E2G_Benchmark ENCODE-E2G_Benchmark:SMIM1 "
      ]
     },
     "metadata": {},
     "output_type": "display_data"
    }
   ],
   "source": [
    "### init\n",
    "dat = dat_peak_encode_e2g_import\n",
    "\n",
    "### rename column names\n",
    "dat = dat %>% \n",
    "    dplyr::rename(\n",
    "        Chrom = chrom, \n",
    "        Start = chromStart, \n",
    "        End   = chromEnd, \n",
    "        Name  = name)\n",
    "\n",
    "### set assay type and labels\n",
    "txt = \"ENCODE-E2G_Benchmark\"\n",
    "dat = dat %>% \n",
    "    tidyr::separate(Name, c(\"Gene_Symbol\", \"Loc\"), sep=\"\\\\|\", remove = FALSE) %>% \n",
    "    dplyr::mutate(\n",
    "        EffectSize  = round(EffectSize, 5),\n",
    "        Region      = paste0(Chrom,  \":\", Start,    \"-\", End),\n",
    "        Gene_TSS    = paste0(chrTSS, \":\", startTSS, \"-\", endTSS),\n",
    "        Assay_Type  = txt,\n",
    "        Assay_Label = paste0(txt, \":\", Gene_Symbol)\n",
    "    )\n",
    "\n",
    "### get the columns used for downstream analysis\n",
    "vec = c('Chrom','Start','End','Name','EffectSize', \n",
    "        \"Region\", \"Gene_Symbol\", \n",
    "        \"Gene_TSS\",\n",
    "        'Regulated',\n",
    "        'Reference', \n",
    "        'Assay_Type', 'Assay_Label')\n",
    "dat = dat %>% \n",
    "    dplyr::select({{vec}}) %>% \n",
    "    dplyr::distinct()\n",
    "vec_gene   = dat$Gene_Symbol\n",
    "vec_region = dat$Region\n",
    "\n",
    "### assign and show\n",
    "dat_peak_encode_e2g_arrange = dat\n",
    "cat(\"#Row:   \", nrow(dat), \"\\n\")\n",
    "cat(\"#Gene:  \", length(unique(vec_gene)), \"\\n\")\n",
    "cat(\"#Region:\", length(unique(vec_region)), \"\\n\")\n",
    "head(dat)"
   ]
  },
  {
   "cell_type": "markdown",
   "metadata": {},
   "source": [
    "## Define regions"
   ]
  },
  {
   "cell_type": "markdown",
   "metadata": {},
   "source": [
    "**Define active regions**"
   ]
  },
  {
   "cell_type": "code",
   "execution_count": 11,
   "metadata": {},
   "outputs": [
    {
     "name": "stdout",
     "output_type": "stream",
     "text": [
      "#Row:    472 \n",
      "#Gene:   321 \n",
      "#Region: 420 \n"
     ]
    },
    {
     "data": {
      "text/html": [
       "<table class=\"dataframe\">\n",
       "<caption>A tibble: 6 × 12</caption>\n",
       "<thead>\n",
       "\t<tr><th scope=col>Chrom</th><th scope=col>Start</th><th scope=col>End</th><th scope=col>Name</th><th scope=col>EffectSize</th><th scope=col>Region</th><th scope=col>Gene_Symbol</th><th scope=col>Gene_TSS</th><th scope=col>Regulated</th><th scope=col>Reference</th><th scope=col>Assay_Type</th><th scope=col>Assay_Label</th></tr>\n",
       "\t<tr><th scope=col>&lt;chr&gt;</th><th scope=col>&lt;dbl&gt;</th><th scope=col>&lt;dbl&gt;</th><th scope=col>&lt;chr&gt;</th><th scope=col>&lt;dbl&gt;</th><th scope=col>&lt;chr&gt;</th><th scope=col>&lt;chr&gt;</th><th scope=col>&lt;chr&gt;</th><th scope=col>&lt;lgl&gt;</th><th scope=col>&lt;chr&gt;</th><th scope=col>&lt;chr&gt;</th><th scope=col>&lt;chr&gt;</th></tr>\n",
       "</thead>\n",
       "<tbody>\n",
       "\t<tr><td>chr1</td><td> 3774714</td><td> 3775214</td><td>CEP104|chr1:3691278-3691778:*</td><td>-0.29343</td><td>chr1:3774714-3775214  </td><td>CEP104</td><td>chr1:3857213-3857214  </td><td>TRUE</td><td>Ulirsch2016           </td><td>ENCODE-E2G_Benchmark</td><td>ENCODE-E2G_Benchmark:CEP104</td></tr>\n",
       "\t<tr><td>chr1</td><td> 3774714</td><td> 3775214</td><td>LRRC47|chr1:3691278-3691778:*</td><td>-0.33118</td><td>chr1:3774714-3775214  </td><td>LRRC47</td><td>chr1:3796503-3796504  </td><td>TRUE</td><td>Ulirsch2016           </td><td>ENCODE-E2G_Benchmark</td><td>ENCODE-E2G_Benchmark:LRRC47</td></tr>\n",
       "\t<tr><td>chr1</td><td> 3774714</td><td> 3775214</td><td>SMIM1|chr1:3691278-3691778:* </td><td>-0.47202</td><td>chr1:3774714-3775214  </td><td>SMIM1 </td><td>chr1:3772761-3772762  </td><td>TRUE</td><td>Ulirsch2016           </td><td>ENCODE-E2G_Benchmark</td><td>ENCODE-E2G_Benchmark:SMIM1 </td></tr>\n",
       "\t<tr><td>chr1</td><td> 8858063</td><td> 8858563</td><td>ENO1|chr1:8918122-8918622:.  </td><td>-0.10741</td><td>chr1:8858063-8858563  </td><td>ENO1  </td><td>chr1:8879248-8879249  </td><td>TRUE</td><td>Gasperini et al., 2019</td><td>ENCODE-E2G_Benchmark</td><td>ENCODE-E2G_Benchmark:ENO1  </td></tr>\n",
       "\t<tr><td>chr1</td><td>17441310</td><td>17441810</td><td>SDHB|chr1:17767806-17768306:.</td><td>-0.08968</td><td>chr1:17441310-17441810</td><td>SDHB  </td><td>chr1:17054169-17054170</td><td>TRUE</td><td>Gasperini et al., 2019</td><td>ENCODE-E2G_Benchmark</td><td>ENCODE-E2G_Benchmark:SDHB  </td></tr>\n",
       "\t<tr><td>chr1</td><td>25933351</td><td>25933954</td><td>NUDC|chr1:26259842-26260445:.</td><td>-0.08462</td><td>chr1:25933351-25933954</td><td>NUDC  </td><td>chr1:26900238-26900239</td><td>TRUE</td><td>Gasperini et al., 2019</td><td>ENCODE-E2G_Benchmark</td><td>ENCODE-E2G_Benchmark:NUDC  </td></tr>\n",
       "</tbody>\n",
       "</table>\n"
      ],
      "text/latex": [
       "A tibble: 6 × 12\n",
       "\\begin{tabular}{llllllllllll}\n",
       " Chrom & Start & End & Name & EffectSize & Region & Gene\\_Symbol & Gene\\_TSS & Regulated & Reference & Assay\\_Type & Assay\\_Label\\\\\n",
       " <chr> & <dbl> & <dbl> & <chr> & <dbl> & <chr> & <chr> & <chr> & <lgl> & <chr> & <chr> & <chr>\\\\\n",
       "\\hline\n",
       "\t chr1 &  3774714 &  3775214 & CEP104\\textbar{}chr1:3691278-3691778:* & -0.29343 & chr1:3774714-3775214   & CEP104 & chr1:3857213-3857214   & TRUE & Ulirsch2016            & ENCODE-E2G\\_Benchmark & ENCODE-E2G\\_Benchmark:CEP104\\\\\n",
       "\t chr1 &  3774714 &  3775214 & LRRC47\\textbar{}chr1:3691278-3691778:* & -0.33118 & chr1:3774714-3775214   & LRRC47 & chr1:3796503-3796504   & TRUE & Ulirsch2016            & ENCODE-E2G\\_Benchmark & ENCODE-E2G\\_Benchmark:LRRC47\\\\\n",
       "\t chr1 &  3774714 &  3775214 & SMIM1\\textbar{}chr1:3691278-3691778:*  & -0.47202 & chr1:3774714-3775214   & SMIM1  & chr1:3772761-3772762   & TRUE & Ulirsch2016            & ENCODE-E2G\\_Benchmark & ENCODE-E2G\\_Benchmark:SMIM1 \\\\\n",
       "\t chr1 &  8858063 &  8858563 & ENO1\\textbar{}chr1:8918122-8918622:.   & -0.10741 & chr1:8858063-8858563   & ENO1   & chr1:8879248-8879249   & TRUE & Gasperini et al., 2019 & ENCODE-E2G\\_Benchmark & ENCODE-E2G\\_Benchmark:ENO1  \\\\\n",
       "\t chr1 & 17441310 & 17441810 & SDHB\\textbar{}chr1:17767806-17768306:. & -0.08968 & chr1:17441310-17441810 & SDHB   & chr1:17054169-17054170 & TRUE & Gasperini et al., 2019 & ENCODE-E2G\\_Benchmark & ENCODE-E2G\\_Benchmark:SDHB  \\\\\n",
       "\t chr1 & 25933351 & 25933954 & NUDC\\textbar{}chr1:26259842-26260445:. & -0.08462 & chr1:25933351-25933954 & NUDC   & chr1:26900238-26900239 & TRUE & Gasperini et al., 2019 & ENCODE-E2G\\_Benchmark & ENCODE-E2G\\_Benchmark:NUDC  \\\\\n",
       "\\end{tabular}\n"
      ],
      "text/markdown": [
       "\n",
       "A tibble: 6 × 12\n",
       "\n",
       "| Chrom &lt;chr&gt; | Start &lt;dbl&gt; | End &lt;dbl&gt; | Name &lt;chr&gt; | EffectSize &lt;dbl&gt; | Region &lt;chr&gt; | Gene_Symbol &lt;chr&gt; | Gene_TSS &lt;chr&gt; | Regulated &lt;lgl&gt; | Reference &lt;chr&gt; | Assay_Type &lt;chr&gt; | Assay_Label &lt;chr&gt; |\n",
       "|---|---|---|---|---|---|---|---|---|---|---|---|\n",
       "| chr1 |  3774714 |  3775214 | CEP104|chr1:3691278-3691778:* | -0.29343 | chr1:3774714-3775214   | CEP104 | chr1:3857213-3857214   | TRUE | Ulirsch2016            | ENCODE-E2G_Benchmark | ENCODE-E2G_Benchmark:CEP104 |\n",
       "| chr1 |  3774714 |  3775214 | LRRC47|chr1:3691278-3691778:* | -0.33118 | chr1:3774714-3775214   | LRRC47 | chr1:3796503-3796504   | TRUE | Ulirsch2016            | ENCODE-E2G_Benchmark | ENCODE-E2G_Benchmark:LRRC47 |\n",
       "| chr1 |  3774714 |  3775214 | SMIM1|chr1:3691278-3691778:*  | -0.47202 | chr1:3774714-3775214   | SMIM1  | chr1:3772761-3772762   | TRUE | Ulirsch2016            | ENCODE-E2G_Benchmark | ENCODE-E2G_Benchmark:SMIM1  |\n",
       "| chr1 |  8858063 |  8858563 | ENO1|chr1:8918122-8918622:.   | -0.10741 | chr1:8858063-8858563   | ENO1   | chr1:8879248-8879249   | TRUE | Gasperini et al., 2019 | ENCODE-E2G_Benchmark | ENCODE-E2G_Benchmark:ENO1   |\n",
       "| chr1 | 17441310 | 17441810 | SDHB|chr1:17767806-17768306:. | -0.08968 | chr1:17441310-17441810 | SDHB   | chr1:17054169-17054170 | TRUE | Gasperini et al., 2019 | ENCODE-E2G_Benchmark | ENCODE-E2G_Benchmark:SDHB   |\n",
       "| chr1 | 25933351 | 25933954 | NUDC|chr1:26259842-26260445:. | -0.08462 | chr1:25933351-25933954 | NUDC   | chr1:26900238-26900239 | TRUE | Gasperini et al., 2019 | ENCODE-E2G_Benchmark | ENCODE-E2G_Benchmark:NUDC   |\n",
       "\n"
      ],
      "text/plain": [
       "  Chrom Start    End      Name                          EffectSize\n",
       "1 chr1   3774714  3775214 CEP104|chr1:3691278-3691778:* -0.29343  \n",
       "2 chr1   3774714  3775214 LRRC47|chr1:3691278-3691778:* -0.33118  \n",
       "3 chr1   3774714  3775214 SMIM1|chr1:3691278-3691778:*  -0.47202  \n",
       "4 chr1   8858063  8858563 ENO1|chr1:8918122-8918622:.   -0.10741  \n",
       "5 chr1  17441310 17441810 SDHB|chr1:17767806-17768306:. -0.08968  \n",
       "6 chr1  25933351 25933954 NUDC|chr1:26259842-26260445:. -0.08462  \n",
       "  Region                 Gene_Symbol Gene_TSS               Regulated\n",
       "1 chr1:3774714-3775214   CEP104      chr1:3857213-3857214   TRUE     \n",
       "2 chr1:3774714-3775214   LRRC47      chr1:3796503-3796504   TRUE     \n",
       "3 chr1:3774714-3775214   SMIM1       chr1:3772761-3772762   TRUE     \n",
       "4 chr1:8858063-8858563   ENO1        chr1:8879248-8879249   TRUE     \n",
       "5 chr1:17441310-17441810 SDHB        chr1:17054169-17054170 TRUE     \n",
       "6 chr1:25933351-25933954 NUDC        chr1:26900238-26900239 TRUE     \n",
       "  Reference              Assay_Type           Assay_Label                \n",
       "1 Ulirsch2016            ENCODE-E2G_Benchmark ENCODE-E2G_Benchmark:CEP104\n",
       "2 Ulirsch2016            ENCODE-E2G_Benchmark ENCODE-E2G_Benchmark:LRRC47\n",
       "3 Ulirsch2016            ENCODE-E2G_Benchmark ENCODE-E2G_Benchmark:SMIM1 \n",
       "4 Gasperini et al., 2019 ENCODE-E2G_Benchmark ENCODE-E2G_Benchmark:ENO1  \n",
       "5 Gasperini et al., 2019 ENCODE-E2G_Benchmark ENCODE-E2G_Benchmark:SDHB  \n",
       "6 Gasperini et al., 2019 ENCODE-E2G_Benchmark ENCODE-E2G_Benchmark:NUDC  "
      ]
     },
     "metadata": {},
     "output_type": "display_data"
    }
   ],
   "source": [
    "dat = dat_peak_encode_e2g_arrange\n",
    "dat = dat %>% \n",
    "    dplyr::filter(Regulated) %>%\n",
    "    dplyr::arrange(Chrom, Start, End)\n",
    "\n",
    "vec_gene   = dat$Gene_Symbol\n",
    "vec_region = dat$Region\n",
    "\n",
    "### assign and show\n",
    "dat_peak_encode_e2g_active = dat\n",
    "cat(\"#Row:   \", nrow(dat), \"\\n\")\n",
    "cat(\"#Gene:  \", length(unique(vec_gene)), \"\\n\")\n",
    "cat(\"#Region:\", length(unique(vec_region)), \"\\n\")\n",
    "head(dat)"
   ]
  },
  {
   "cell_type": "markdown",
   "metadata": {},
   "source": [
    "**Define total regions**"
   ]
  },
  {
   "cell_type": "code",
   "execution_count": 12,
   "metadata": {},
   "outputs": [
    {
     "name": "stdout",
     "output_type": "stream",
     "text": [
      "[1] 10375    12\n"
     ]
    },
    {
     "data": {
      "text/html": [
       "<table class=\"dataframe\">\n",
       "<caption>A tibble: 6 × 12</caption>\n",
       "<thead>\n",
       "\t<tr><th scope=col>Chrom</th><th scope=col>Start</th><th scope=col>End</th><th scope=col>Name</th><th scope=col>EffectSize</th><th scope=col>Region</th><th scope=col>Gene_Symbol</th><th scope=col>Gene_TSS</th><th scope=col>Regulated</th><th scope=col>Reference</th><th scope=col>Assay_Type</th><th scope=col>Assay_Label</th></tr>\n",
       "\t<tr><th scope=col>&lt;chr&gt;</th><th scope=col>&lt;dbl&gt;</th><th scope=col>&lt;dbl&gt;</th><th scope=col>&lt;chr&gt;</th><th scope=col>&lt;dbl&gt;</th><th scope=col>&lt;chr&gt;</th><th scope=col>&lt;chr&gt;</th><th scope=col>&lt;chr&gt;</th><th scope=col>&lt;lgl&gt;</th><th scope=col>&lt;chr&gt;</th><th scope=col>&lt;chr&gt;</th><th scope=col>&lt;chr&gt;</th></tr>\n",
       "</thead>\n",
       "<tbody>\n",
       "\t<tr><td>chr1</td><td>3774714</td><td>3775214</td><td>CEP104|chr1:3691278-3691778:*</td><td>-0.29343</td><td>chr1:3774714-3775214</td><td>CEP104</td><td>chr1:3857213-3857214</td><td> TRUE</td><td>Ulirsch2016           </td><td>ENCODE-E2G_Benchmark</td><td>ENCODE-E2G_Benchmark:CEP104</td></tr>\n",
       "\t<tr><td>chr1</td><td>3774714</td><td>3775214</td><td>LRRC47|chr1:3691278-3691778:*</td><td>-0.33118</td><td>chr1:3774714-3775214</td><td>LRRC47</td><td>chr1:3796503-3796504</td><td> TRUE</td><td>Ulirsch2016           </td><td>ENCODE-E2G_Benchmark</td><td>ENCODE-E2G_Benchmark:LRRC47</td></tr>\n",
       "\t<tr><td>chr1</td><td>3774714</td><td>3775214</td><td>SMIM1|chr1:3691278-3691778:* </td><td>-0.47202</td><td>chr1:3774714-3775214</td><td>SMIM1 </td><td>chr1:3772761-3772762</td><td> TRUE</td><td>Ulirsch2016           </td><td>ENCODE-E2G_Benchmark</td><td>ENCODE-E2G_Benchmark:SMIM1 </td></tr>\n",
       "\t<tr><td>chr1</td><td>3803570</td><td>3805848</td><td>LRRC47|chr1:3720134-3722412:.</td><td>-0.00147</td><td>chr1:3803570-3805848</td><td>LRRC47</td><td>chr1:3796503-3796504</td><td>FALSE</td><td>Gasperini et al., 2019</td><td>ENCODE-E2G_Benchmark</td><td>ENCODE-E2G_Benchmark:LRRC47</td></tr>\n",
       "\t<tr><td>chr1</td><td>3803570</td><td>3805848</td><td>SMIM1|chr1:3720134-3722412:. </td><td> 0.02568</td><td>chr1:3803570-3805848</td><td>SMIM1 </td><td>chr1:3772788-3772789</td><td>FALSE</td><td>Gasperini et al., 2019</td><td>ENCODE-E2G_Benchmark</td><td>ENCODE-E2G_Benchmark:SMIM1 </td></tr>\n",
       "\t<tr><td>chr1</td><td>4126791</td><td>4127291</td><td>SMIM1|chr1:4186851-4187351:. </td><td> 0.02338</td><td>chr1:4126791-4127291</td><td>SMIM1 </td><td>chr1:3772788-3772789</td><td>FALSE</td><td>Gasperini et al., 2019</td><td>ENCODE-E2G_Benchmark</td><td>ENCODE-E2G_Benchmark:SMIM1 </td></tr>\n",
       "</tbody>\n",
       "</table>\n"
      ],
      "text/latex": [
       "A tibble: 6 × 12\n",
       "\\begin{tabular}{llllllllllll}\n",
       " Chrom & Start & End & Name & EffectSize & Region & Gene\\_Symbol & Gene\\_TSS & Regulated & Reference & Assay\\_Type & Assay\\_Label\\\\\n",
       " <chr> & <dbl> & <dbl> & <chr> & <dbl> & <chr> & <chr> & <chr> & <lgl> & <chr> & <chr> & <chr>\\\\\n",
       "\\hline\n",
       "\t chr1 & 3774714 & 3775214 & CEP104\\textbar{}chr1:3691278-3691778:* & -0.29343 & chr1:3774714-3775214 & CEP104 & chr1:3857213-3857214 &  TRUE & Ulirsch2016            & ENCODE-E2G\\_Benchmark & ENCODE-E2G\\_Benchmark:CEP104\\\\\n",
       "\t chr1 & 3774714 & 3775214 & LRRC47\\textbar{}chr1:3691278-3691778:* & -0.33118 & chr1:3774714-3775214 & LRRC47 & chr1:3796503-3796504 &  TRUE & Ulirsch2016            & ENCODE-E2G\\_Benchmark & ENCODE-E2G\\_Benchmark:LRRC47\\\\\n",
       "\t chr1 & 3774714 & 3775214 & SMIM1\\textbar{}chr1:3691278-3691778:*  & -0.47202 & chr1:3774714-3775214 & SMIM1  & chr1:3772761-3772762 &  TRUE & Ulirsch2016            & ENCODE-E2G\\_Benchmark & ENCODE-E2G\\_Benchmark:SMIM1 \\\\\n",
       "\t chr1 & 3803570 & 3805848 & LRRC47\\textbar{}chr1:3720134-3722412:. & -0.00147 & chr1:3803570-3805848 & LRRC47 & chr1:3796503-3796504 & FALSE & Gasperini et al., 2019 & ENCODE-E2G\\_Benchmark & ENCODE-E2G\\_Benchmark:LRRC47\\\\\n",
       "\t chr1 & 3803570 & 3805848 & SMIM1\\textbar{}chr1:3720134-3722412:.  &  0.02568 & chr1:3803570-3805848 & SMIM1  & chr1:3772788-3772789 & FALSE & Gasperini et al., 2019 & ENCODE-E2G\\_Benchmark & ENCODE-E2G\\_Benchmark:SMIM1 \\\\\n",
       "\t chr1 & 4126791 & 4127291 & SMIM1\\textbar{}chr1:4186851-4187351:.  &  0.02338 & chr1:4126791-4127291 & SMIM1  & chr1:3772788-3772789 & FALSE & Gasperini et al., 2019 & ENCODE-E2G\\_Benchmark & ENCODE-E2G\\_Benchmark:SMIM1 \\\\\n",
       "\\end{tabular}\n"
      ],
      "text/markdown": [
       "\n",
       "A tibble: 6 × 12\n",
       "\n",
       "| Chrom &lt;chr&gt; | Start &lt;dbl&gt; | End &lt;dbl&gt; | Name &lt;chr&gt; | EffectSize &lt;dbl&gt; | Region &lt;chr&gt; | Gene_Symbol &lt;chr&gt; | Gene_TSS &lt;chr&gt; | Regulated &lt;lgl&gt; | Reference &lt;chr&gt; | Assay_Type &lt;chr&gt; | Assay_Label &lt;chr&gt; |\n",
       "|---|---|---|---|---|---|---|---|---|---|---|---|\n",
       "| chr1 | 3774714 | 3775214 | CEP104|chr1:3691278-3691778:* | -0.29343 | chr1:3774714-3775214 | CEP104 | chr1:3857213-3857214 |  TRUE | Ulirsch2016            | ENCODE-E2G_Benchmark | ENCODE-E2G_Benchmark:CEP104 |\n",
       "| chr1 | 3774714 | 3775214 | LRRC47|chr1:3691278-3691778:* | -0.33118 | chr1:3774714-3775214 | LRRC47 | chr1:3796503-3796504 |  TRUE | Ulirsch2016            | ENCODE-E2G_Benchmark | ENCODE-E2G_Benchmark:LRRC47 |\n",
       "| chr1 | 3774714 | 3775214 | SMIM1|chr1:3691278-3691778:*  | -0.47202 | chr1:3774714-3775214 | SMIM1  | chr1:3772761-3772762 |  TRUE | Ulirsch2016            | ENCODE-E2G_Benchmark | ENCODE-E2G_Benchmark:SMIM1  |\n",
       "| chr1 | 3803570 | 3805848 | LRRC47|chr1:3720134-3722412:. | -0.00147 | chr1:3803570-3805848 | LRRC47 | chr1:3796503-3796504 | FALSE | Gasperini et al., 2019 | ENCODE-E2G_Benchmark | ENCODE-E2G_Benchmark:LRRC47 |\n",
       "| chr1 | 3803570 | 3805848 | SMIM1|chr1:3720134-3722412:.  |  0.02568 | chr1:3803570-3805848 | SMIM1  | chr1:3772788-3772789 | FALSE | Gasperini et al., 2019 | ENCODE-E2G_Benchmark | ENCODE-E2G_Benchmark:SMIM1  |\n",
       "| chr1 | 4126791 | 4127291 | SMIM1|chr1:4186851-4187351:.  |  0.02338 | chr1:4126791-4127291 | SMIM1  | chr1:3772788-3772789 | FALSE | Gasperini et al., 2019 | ENCODE-E2G_Benchmark | ENCODE-E2G_Benchmark:SMIM1  |\n",
       "\n"
      ],
      "text/plain": [
       "  Chrom Start   End     Name                          EffectSize\n",
       "1 chr1  3774714 3775214 CEP104|chr1:3691278-3691778:* -0.29343  \n",
       "2 chr1  3774714 3775214 LRRC47|chr1:3691278-3691778:* -0.33118  \n",
       "3 chr1  3774714 3775214 SMIM1|chr1:3691278-3691778:*  -0.47202  \n",
       "4 chr1  3803570 3805848 LRRC47|chr1:3720134-3722412:. -0.00147  \n",
       "5 chr1  3803570 3805848 SMIM1|chr1:3720134-3722412:.   0.02568  \n",
       "6 chr1  4126791 4127291 SMIM1|chr1:4186851-4187351:.   0.02338  \n",
       "  Region               Gene_Symbol Gene_TSS             Regulated\n",
       "1 chr1:3774714-3775214 CEP104      chr1:3857213-3857214  TRUE    \n",
       "2 chr1:3774714-3775214 LRRC47      chr1:3796503-3796504  TRUE    \n",
       "3 chr1:3774714-3775214 SMIM1       chr1:3772761-3772762  TRUE    \n",
       "4 chr1:3803570-3805848 LRRC47      chr1:3796503-3796504 FALSE    \n",
       "5 chr1:3803570-3805848 SMIM1       chr1:3772788-3772789 FALSE    \n",
       "6 chr1:4126791-4127291 SMIM1       chr1:3772788-3772789 FALSE    \n",
       "  Reference              Assay_Type           Assay_Label                \n",
       "1 Ulirsch2016            ENCODE-E2G_Benchmark ENCODE-E2G_Benchmark:CEP104\n",
       "2 Ulirsch2016            ENCODE-E2G_Benchmark ENCODE-E2G_Benchmark:LRRC47\n",
       "3 Ulirsch2016            ENCODE-E2G_Benchmark ENCODE-E2G_Benchmark:SMIM1 \n",
       "4 Gasperini et al., 2019 ENCODE-E2G_Benchmark ENCODE-E2G_Benchmark:LRRC47\n",
       "5 Gasperini et al., 2019 ENCODE-E2G_Benchmark ENCODE-E2G_Benchmark:SMIM1 \n",
       "6 Gasperini et al., 2019 ENCODE-E2G_Benchmark ENCODE-E2G_Benchmark:SMIM1 "
      ]
     },
     "metadata": {},
     "output_type": "display_data"
    }
   ],
   "source": [
    "dat = dat_peak_encode_e2g_arrange\n",
    "dat = dat %>% \n",
    "    dplyr::arrange(Chrom, Start, End)\n",
    "\n",
    "dat_peak_encode_e2g_total = dat\n",
    "print(dim(dat))\n",
    "head(dat)"
   ]
  },
  {
   "cell_type": "markdown",
   "metadata": {},
   "source": [
    "**Check results**"
   ]
  },
  {
   "cell_type": "code",
   "execution_count": 13,
   "metadata": {},
   "outputs": [
    {
     "name": "stdout",
     "output_type": "stream",
     "text": [
      "#Region Total:    3949 \n",
      "#Region Active:   420 \n",
      "#Region Inactive: 3529 \n"
     ]
    }
   ],
   "source": [
    "vec_txt_region_total    = unique(dat_peak_encode_e2g_total$Region)\n",
    "vec_txt_region_active   = unique(dat_peak_encode_e2g_active$Region)\n",
    "vec_txt_region_inactive = setdiff(vec_txt_region_total, vec_txt_region_active)\n",
    "\n",
    "cat(\"#Region Total:   \", length(vec_txt_region_total),    \"\\n\")\n",
    "cat(\"#Region Active:  \", length(vec_txt_region_active),   \"\\n\")\n",
    "cat(\"#Region Inactive:\", length(vec_txt_region_inactive), \"\\n\")"
   ]
  },
  {
   "cell_type": "markdown",
   "metadata": {},
   "source": [
    "## Data dictionary"
   ]
  },
  {
   "cell_type": "code",
   "execution_count": 14,
   "metadata": {},
   "outputs": [
    {
     "name": "stdout",
     "output_type": "stream",
     "text": [
      "Chrom \n",
      "Start \n",
      "End \n",
      "Name \n",
      "EffectSize \n",
      "Region \n",
      "Gene_Symbol \n",
      "Gene_TSS \n",
      "Regulated \n",
      "Reference \n",
      "Assay_Type \n",
      "Assay_Label \n"
     ]
    }
   ],
   "source": [
    "dat = dat_peak_encode_e2g_total\n",
    "for (txt in colnames(dat)){cat(txt, \"\\n\")}"
   ]
  },
  {
   "cell_type": "code",
   "execution_count": 15,
   "metadata": {},
   "outputs": [
    {
     "data": {
      "text/html": [
       "<table class=\"dataframe\">\n",
       "<caption>A tibble: 12 × 2</caption>\n",
       "<thead>\n",
       "\t<tr><th scope=col>Name</th><th scope=col>Description</th></tr>\n",
       "\t<tr><th scope=col>&lt;chr&gt;</th><th scope=col>&lt;chr&gt;</th></tr>\n",
       "</thead>\n",
       "<tbody>\n",
       "\t<tr><td>Chrom      </td><td>Chromosome of the perturbed element                                                                              </td></tr>\n",
       "\t<tr><td>Start      </td><td>Start of the perturbed element (0-based)                                                                         </td></tr>\n",
       "\t<tr><td>End        </td><td>End of the perturbed element                                                                                     </td></tr>\n",
       "\t<tr><td>Name       </td><td>Identifier for the given E-G pair in the form of 'gene|chr:start-stop:strand', e.g. 'BET1L|chr11:220536-220704:*'</td></tr>\n",
       "\t<tr><td>Score      </td><td>Change in gene expression upon CRISPRi perturbation, e.g. precentage change in expression or log fold change     </td></tr>\n",
       "\t<tr><td>Region     </td><td>Location of the perturbed element                                                                                </td></tr>\n",
       "\t<tr><td>Gene_Symbol</td><td>target gene symbol                                                                                               </td></tr>\n",
       "\t<tr><td>Gene_TSS   </td><td>target gene TSS                                                                                                  </td></tr>\n",
       "\t<tr><td>Regulated  </td><td>Whether it is postive case or negative case; True for postive case                                               </td></tr>\n",
       "\t<tr><td>Reference  </td><td>Study from which this E-G pair was collected, e.g. Fulco2019                                                     </td></tr>\n",
       "\t<tr><td>Assay_Type </td><td>Assay type                                                                                                       </td></tr>\n",
       "\t<tr><td>Assay_Label</td><td>Assay label                                                                                                      </td></tr>\n",
       "</tbody>\n",
       "</table>\n"
      ],
      "text/latex": [
       "A tibble: 12 × 2\n",
       "\\begin{tabular}{ll}\n",
       " Name & Description\\\\\n",
       " <chr> & <chr>\\\\\n",
       "\\hline\n",
       "\t Chrom       & Chromosome of the perturbed element                                                                              \\\\\n",
       "\t Start       & Start of the perturbed element (0-based)                                                                         \\\\\n",
       "\t End         & End of the perturbed element                                                                                     \\\\\n",
       "\t Name        & Identifier for the given E-G pair in the form of 'gene\\textbar{}chr:start-stop:strand', e.g. 'BET1L\\textbar{}chr11:220536-220704:*'\\\\\n",
       "\t Score       & Change in gene expression upon CRISPRi perturbation, e.g. precentage change in expression or log fold change     \\\\\n",
       "\t Region      & Location of the perturbed element                                                                                \\\\\n",
       "\t Gene\\_Symbol & target gene symbol                                                                                               \\\\\n",
       "\t Gene\\_TSS    & target gene TSS                                                                                                  \\\\\n",
       "\t Regulated   & Whether it is postive case or negative case; True for postive case                                               \\\\\n",
       "\t Reference   & Study from which this E-G pair was collected, e.g. Fulco2019                                                     \\\\\n",
       "\t Assay\\_Type  & Assay type                                                                                                       \\\\\n",
       "\t Assay\\_Label & Assay label                                                                                                      \\\\\n",
       "\\end{tabular}\n"
      ],
      "text/markdown": [
       "\n",
       "A tibble: 12 × 2\n",
       "\n",
       "| Name &lt;chr&gt; | Description &lt;chr&gt; |\n",
       "|---|---|\n",
       "| Chrom       | Chromosome of the perturbed element                                                                               |\n",
       "| Start       | Start of the perturbed element (0-based)                                                                          |\n",
       "| End         | End of the perturbed element                                                                                      |\n",
       "| Name        | Identifier for the given E-G pair in the form of 'gene|chr:start-stop:strand', e.g. 'BET1L|chr11:220536-220704:*' |\n",
       "| Score       | Change in gene expression upon CRISPRi perturbation, e.g. precentage change in expression or log fold change      |\n",
       "| Region      | Location of the perturbed element                                                                                 |\n",
       "| Gene_Symbol | target gene symbol                                                                                                |\n",
       "| Gene_TSS    | target gene TSS                                                                                                   |\n",
       "| Regulated   | Whether it is postive case or negative case; True for postive case                                                |\n",
       "| Reference   | Study from which this E-G pair was collected, e.g. Fulco2019                                                      |\n",
       "| Assay_Type  | Assay type                                                                                                        |\n",
       "| Assay_Label | Assay label                                                                                                       |\n",
       "\n"
      ],
      "text/plain": [
       "   Name       \n",
       "1  Chrom      \n",
       "2  Start      \n",
       "3  End        \n",
       "4  Name       \n",
       "5  Score      \n",
       "6  Region     \n",
       "7  Gene_Symbol\n",
       "8  Gene_TSS   \n",
       "9  Regulated  \n",
       "10 Reference  \n",
       "11 Assay_Type \n",
       "12 Assay_Label\n",
       "   Description                                                                                                      \n",
       "1  Chromosome of the perturbed element                                                                              \n",
       "2  Start of the perturbed element (0-based)                                                                         \n",
       "3  End of the perturbed element                                                                                     \n",
       "4  Identifier for the given E-G pair in the form of 'gene|chr:start-stop:strand', e.g. 'BET1L|chr11:220536-220704:*'\n",
       "5  Change in gene expression upon CRISPRi perturbation, e.g. precentage change in expression or log fold change     \n",
       "6  Location of the perturbed element                                                                                \n",
       "7  target gene symbol                                                                                               \n",
       "8  target gene TSS                                                                                                  \n",
       "9  Whether it is postive case or negative case; True for postive case                                               \n",
       "10 Study from which this E-G pair was collected, e.g. Fulco2019                                                     \n",
       "11 Assay type                                                                                                       \n",
       "12 Assay label                                                                                                      "
      ]
     },
     "metadata": {},
     "output_type": "display_data"
    }
   ],
   "source": [
    "dat_cnames = tribble(\n",
    "    ~Name,         ~Description,\n",
    "    \"Chrom\",       \"Chromosome of the perturbed element\",\n",
    "    \"Start\",       \"Start of the perturbed element (0-based)\",\n",
    "    \"End\",         \"End of the perturbed element\",\n",
    "    \"Name\",        \"Identifier for the given E-G pair in the form of 'gene|chr:start-stop:strand', e.g. 'BET1L|chr11:220536-220704:*'\",\n",
    "    \"Score\",       \"Change in gene expression upon CRISPRi perturbation, e.g. precentage change in expression or log fold change\",\n",
    "    \"Region\",      \"Location of the perturbed element\",\n",
    "    \"Gene_Symbol\", \"target gene symbol\",\n",
    "    \"Gene_TSS\",    \"target gene TSS\",\n",
    "    \"Regulated\",   \"Whether it is postive case or negative case; True for postive case\",\n",
    "    \"Reference\",   \"Study from which this E-G pair was collected, e.g. Fulco2019\",\n",
    "    \"Assay_Type\",  \"Assay type\",\n",
    "    \"Assay_Label\", \"Assay label\"\n",
    ")\n",
    "dat_cnames"
   ]
  },
  {
   "cell_type": "markdown",
   "metadata": {},
   "source": [
    "## Mapping TSS"
   ]
  },
  {
   "cell_type": "markdown",
   "metadata": {},
   "source": [
    "**Check**"
   ]
  },
  {
   "cell_type": "code",
   "execution_count": 16,
   "metadata": {},
   "outputs": [
    {
     "name": "stdout",
     "output_type": "stream",
     "text": [
      "2121 \n",
      "11741 \n",
      "2027 \n"
     ]
    }
   ],
   "source": [
    "vec1 = dat_peak_encode_e2g_arrange$Gene_Symbol\n",
    "vec2 = dat_annot_tss_pol2_rnaseq$Name\n",
    "vec1 = unique(vec1)\n",
    "vec2 = unique(vec2)\n",
    "vec3 = intersect(vec1, vec2)\n",
    "cat(length(vec1), \"\\n\")\n",
    "cat(length(vec2), \"\\n\")\n",
    "cat(length(vec3), \"\\n\")\n",
    "#print(head(vec1))\n",
    "#print(head(vec2))"
   ]
  },
  {
   "cell_type": "code",
   "execution_count": 17,
   "metadata": {},
   "outputs": [
    {
     "name": "stdout",
     "output_type": "stream",
     "text": [
      "[1] TRUE\n"
     ]
    }
   ],
   "source": [
    "dat = dat_peak_encode_e2g_import\n",
    "dat = dat %>% tidyr::separate(name, c(\"Gene_Symbol\", \"Loc\"), sep=\"\\\\|\", remove = FALSE)\n",
    "print(all(dat$Gene_Symbol == dat$measuredGeneSymbol))"
   ]
  },
  {
   "cell_type": "code",
   "execution_count": 18,
   "metadata": {},
   "outputs": [
    {
     "name": "stdout",
     "output_type": "stream",
     "text": [
      " [1] \"chrom\"               \"chromStart\"          \"chromEnd\"           \n",
      " [4] \"name\"                \"EffectSize\"          \"chrTSS\"             \n",
      " [7] \"startTSS\"            \"endTSS\"              \"measuredGeneSymbol\" \n",
      "[10] \"Significant\"         \"pValueAdjusted\"      \"PowerAtEffectSize10\"\n",
      "[13] \"PowerAtEffectSize15\" \"PowerAtEffectSize20\" \"PowerAtEffectSize25\"\n",
      "[16] \"PowerAtEffectSize50\" \"ValidConnection\"     \"CellType\"           \n",
      "[19] \"Reference\"           \"Regulated\"           \"Dataset\"            \n"
     ]
    }
   ],
   "source": [
    "dat = dat_peak_encode_e2g_import\n",
    "print(colnames(dat))"
   ]
  },
  {
   "cell_type": "code",
   "execution_count": 19,
   "metadata": {},
   "outputs": [
    {
     "data": {
      "text/html": [
       "FALSE"
      ],
      "text/latex": [
       "FALSE"
      ],
      "text/markdown": [
       "FALSE"
      ],
      "text/plain": [
       "[1] FALSE"
      ]
     },
     "metadata": {},
     "output_type": "display_data"
    }
   ],
   "source": [
    "dat = dat_peak_encode_e2g_import\n",
    "any(is.na(dat$chrTSS))"
   ]
  },
  {
   "cell_type": "code",
   "execution_count": 20,
   "metadata": {},
   "outputs": [
    {
     "data": {
      "text/html": [
       "TRUE"
      ],
      "text/latex": [
       "TRUE"
      ],
      "text/markdown": [
       "TRUE"
      ],
      "text/plain": [
       "[1] TRUE"
      ]
     },
     "metadata": {},
     "output_type": "display_data"
    }
   ],
   "source": [
    "dat = dat_peak_encode_e2g_import\n",
    "any(is.na(dat$startTSS))"
   ]
  },
  {
   "cell_type": "code",
   "execution_count": 21,
   "metadata": {},
   "outputs": [
    {
     "data": {
      "text/html": [
       "<table class=\"dataframe\">\n",
       "<caption>A tibble: 6 × 2</caption>\n",
       "<thead>\n",
       "\t<tr><th scope=col>Gene_Symbol</th><th scope=col>Gene_TSS_Update</th></tr>\n",
       "\t<tr><th scope=col>&lt;chr&gt;</th><th scope=col>&lt;chr&gt;</th></tr>\n",
       "</thead>\n",
       "<tbody>\n",
       "\t<tr><td>WASH7P   </td><td>chr1:29370-29371  </td></tr>\n",
       "\t<tr><td>LINC00115</td><td>chr1:827522-827523</td></tr>\n",
       "\t<tr><td>LINC01128</td><td>chr1:827590-827591</td></tr>\n",
       "\t<tr><td>FAM41C   </td><td>chr1:876802-876803</td></tr>\n",
       "\t<tr><td>NOC2L    </td><td>chr1:959256-959257</td></tr>\n",
       "\t<tr><td>KLHL17   </td><td>chr1:960583-960584</td></tr>\n",
       "</tbody>\n",
       "</table>\n"
      ],
      "text/latex": [
       "A tibble: 6 × 2\n",
       "\\begin{tabular}{ll}\n",
       " Gene\\_Symbol & Gene\\_TSS\\_Update\\\\\n",
       " <chr> & <chr>\\\\\n",
       "\\hline\n",
       "\t WASH7P    & chr1:29370-29371  \\\\\n",
       "\t LINC00115 & chr1:827522-827523\\\\\n",
       "\t LINC01128 & chr1:827590-827591\\\\\n",
       "\t FAM41C    & chr1:876802-876803\\\\\n",
       "\t NOC2L     & chr1:959256-959257\\\\\n",
       "\t KLHL17    & chr1:960583-960584\\\\\n",
       "\\end{tabular}\n"
      ],
      "text/markdown": [
       "\n",
       "A tibble: 6 × 2\n",
       "\n",
       "| Gene_Symbol &lt;chr&gt; | Gene_TSS_Update &lt;chr&gt; |\n",
       "|---|---|\n",
       "| WASH7P    | chr1:29370-29371   |\n",
       "| LINC00115 | chr1:827522-827523 |\n",
       "| LINC01128 | chr1:827590-827591 |\n",
       "| FAM41C    | chr1:876802-876803 |\n",
       "| NOC2L     | chr1:959256-959257 |\n",
       "| KLHL17    | chr1:960583-960584 |\n",
       "\n"
      ],
      "text/plain": [
       "  Gene_Symbol Gene_TSS_Update   \n",
       "1 WASH7P      chr1:29370-29371  \n",
       "2 LINC00115   chr1:827522-827523\n",
       "3 LINC01128   chr1:827590-827591\n",
       "4 FAM41C      chr1:876802-876803\n",
       "5 NOC2L       chr1:959256-959257\n",
       "6 KLHL17      chr1:960583-960584"
      ]
     },
     "metadata": {},
     "output_type": "display_data"
    }
   ],
   "source": [
    "dat = dat_annot_tss2gene\n",
    "head(dat)"
   ]
  },
  {
   "cell_type": "markdown",
   "metadata": {},
   "source": [
    "**Create list of active/total of original TSS**"
   ]
  },
  {
   "cell_type": "code",
   "execution_count": 22,
   "metadata": {},
   "outputs": [
    {
     "name": "stdout",
     "output_type": "stream",
     "text": [
      "active \n",
      "#Row: 472 22 \n",
      "\n",
      "total \n",
      "#Row: 10375 22 \n",
      "\n"
     ]
    }
   ],
   "source": [
    "### init\n",
    "dat_tot = dat_peak_encode_e2g_import\n",
    "dat_tot = dat_tot %>% dplyr::mutate(Gene_Symbol = measuredGeneSymbol)\n",
    "dat_act = dat_tot %>% dplyr::filter(Regulated)\n",
    "\n",
    "### collect\n",
    "lst = list(\n",
    "    \"active\" = dat_act,\n",
    "    \"total\"  = dat_tot\n",
    ")\n",
    "\n",
    "### assign and show\n",
    "lst_dat_peak_encode_e2g_import = lst\n",
    "vec = names(lst)\n",
    "for (idx in vec) {\n",
    "    dat = lst[[idx]]\n",
    "    cat(idx, \"\\n\")\n",
    "    cat(\"#Row:\", dim(dat), \"\\n\")\n",
    "    cat(\"\\n\")\n",
    "}"
   ]
  },
  {
   "cell_type": "markdown",
   "metadata": {},
   "source": [
    "**Map TSS for active/total regions**"
   ]
  },
  {
   "cell_type": "code",
   "execution_count": 23,
   "metadata": {},
   "outputs": [
    {
     "name": "stdout",
     "output_type": "stream",
     "text": [
      "active \n",
      "#Row: 473 23 \n",
      "\n",
      "total \n",
      "#Row: 10399 23 \n",
      "\n"
     ]
    }
   ],
   "source": [
    "### init\n",
    "lst = lst_dat_peak_encode_e2g_import\n",
    "\n",
    "### map TSS\n",
    "lst = lapply(lst, function(dat){\n",
    "    ### mapping TSS to the one we are using in FCC study\n",
    "    ### Caution: relationship = many-to-many\n",
    "    dat = dat %>% dplyr::left_join(\n",
    "        dat_annot_tss2gene, \n",
    "        by = \"Gene_Symbol\",\n",
    "        relationship = \"many-to-many\"\n",
    "    )\n",
    "    \n",
    "    ### drop the original TSS and rename the column\n",
    "    dat = dat %>% \n",
    "        dplyr::select(-chrTSS, -startTSS, -endTSS) %>% \n",
    "        tidyr::separate(Gene_TSS_Update, c(\"chrTSS\",   \"LocTSS\"), sep=\":\", remove = FALSE) %>%\n",
    "        tidyr::separate(LocTSS,          c(\"startTSS\", \"endTSS\"), sep=\"-\") %>%\n",
    "        dplyr::distinct()\n",
    "\n",
    "    return(dat)\n",
    "})\n",
    "\n",
    "### assign and show\n",
    "lst_dat_peak_encode_e2g_import_updateTSS = lst\n",
    "vec = names(lst)\n",
    "for (idx in vec) {\n",
    "    dat = lst[[idx]]\n",
    "    cat(idx, \"\\n\")\n",
    "    cat(\"#Row:\", dim(dat), \"\\n\")\n",
    "    cat(\"\\n\")\n",
    "}"
   ]
  },
  {
   "cell_type": "markdown",
   "metadata": {},
   "source": [
    "## Create Interact of element2gene link (original TSS)"
   ]
  },
  {
   "cell_type": "markdown",
   "metadata": {},
   "source": [
    "**Create bedpe file**"
   ]
  },
  {
   "cell_type": "code",
   "execution_count": 25,
   "metadata": {},
   "outputs": [
    {
     "name": "stdout",
     "output_type": "stream",
     "text": [
      "active \n",
      "#Row: 472 13 \n",
      "\n",
      "total \n",
      "#Row: 10294 13 \n",
      "\n"
     ]
    }
   ],
   "source": [
    "### init\n",
    "vec_txt_cnames = c('chrom',  'chromStart', 'chromEnd',\n",
    "        \"chrTSS\", \"startTSS\",   \"endTSS\",\n",
    "        \"name\", \n",
    "        \"EffectSize\", \n",
    "        \"Strand1\", \"Strand2\",\n",
    "        \"Gene_Symbol\", \"Gene_TSS\", \"Reference\")\n",
    "\n",
    "### init\n",
    "lst = lst_dat_peak_encode_e2g_import\n",
    "\n",
    "### arrange into bedpe format\n",
    "lst = lapply(lst, function(dat){\n",
    "    #dat = dat_peak_encode_e2g_import\n",
    "\n",
    "    ###\n",
    "    dat = dat %>%\n",
    "        dplyr::mutate(\n",
    "            EffectSize   = round(EffectSize, 5),\n",
    "            Gene_TSS     = paste0(chrTSS, \":\", startTSS, \"-\", endTSS),\n",
    "            Strand1      = \".\",\n",
    "            Strand2      = \".\"\n",
    "        )\n",
    "\n",
    "    ###\n",
    "    dat = dat %>% \n",
    "        dplyr::select({{vec_txt_cnames}}) %>% \n",
    "        dplyr::arrange(chrom, chromStart, chromEnd) %>%\n",
    "        na.omit\n",
    "    \n",
    "    return(dat)\n",
    "})\n",
    "\n",
    "lst_dat_peak_encode_e2g_bedpe = lst\n",
    "vec = names(lst)\n",
    "for (idx in vec) {\n",
    "    dat = lst[[idx]]\n",
    "    cat(idx, \"\\n\")\n",
    "    cat(\"#Row:\", dim(dat), \"\\n\")\n",
    "    cat(\"\\n\")\n",
    "}"
   ]
  },
  {
   "cell_type": "markdown",
   "metadata": {},
   "source": [
    "**Create interact file**"
   ]
  },
  {
   "cell_type": "code",
   "execution_count": 27,
   "metadata": {},
   "outputs": [
    {
     "name": "stdout",
     "output_type": "stream",
     "text": [
      "active \n",
      "#Row: 472 18 \n",
      "\n",
      "total \n",
      "#Row: 10294 18 \n",
      "\n"
     ]
    }
   ],
   "source": [
    "### init\n",
    "lst = lst_dat_peak_encode_e2g_bedpe\n",
    "\n",
    "### arrange into interact format\n",
    "lst = lapply(lst, function(dat){\n",
    "    ###\n",
    "    #dat = dat_peak_encode_e2g_bedpe\n",
    "    dat = dat %>%\n",
    "        dplyr::mutate(score = 1000, value = 1, exp = \".\", color = \".\") %>%\n",
    "        dplyr::mutate(\n",
    "            chromMid   = as.integer((chromStart + chromEnd) / 2),\n",
    "            sourceName = paste0(chrom, \":\", chromStart, \"-\", chromEnd),\n",
    "            targetName = Gene_TSS,\n",
    "        ) %>%\n",
    "        dplyr::mutate(\n",
    "            sourceChrom   = chrom,\n",
    "            sourceStart   = chromStart,\n",
    "            sourceEnd     = chromEnd,\n",
    "            sourceStrand  = \".\",\n",
    "            targetChrom   = chrTSS,\n",
    "            targetStart   = startTSS,\n",
    "            targetEnd     = endTSS,\n",
    "            targetStrand  = \".\"\n",
    "        ) %>%\n",
    "        dplyr::select(\n",
    "            chrom, chromStart, chromEnd, name, \n",
    "            score, value, exp, color,\n",
    "            sourceChrom,\n",
    "            sourceStart,\n",
    "            sourceEnd,\n",
    "            sourceName,\n",
    "            sourceStrand,\n",
    "            targetChrom,\n",
    "            targetStart,\n",
    "            targetEnd,\n",
    "            targetName,\n",
    "            targetStrand\n",
    "        )\n",
    "    return(dat)\n",
    "})\n",
    "\n",
    "### assign and show\n",
    "lst_dat_peak_encode_e2g_interact = lst\n",
    "vec = names(lst)\n",
    "for (idx in vec) {\n",
    "    dat = lst[[idx]]\n",
    "    cat(idx, \"\\n\")\n",
    "    cat(\"#Row:\", dim(dat), \"\\n\")\n",
    "    cat(\"\\n\")\n",
    "}"
   ]
  },
  {
   "cell_type": "markdown",
   "metadata": {},
   "source": [
    "## Create Interact of element2gene link (using our defined TSS)"
   ]
  },
  {
   "cell_type": "code",
   "execution_count": 28,
   "metadata": {},
   "outputs": [
    {
     "name": "stdout",
     "output_type": "stream",
     "text": [
      "active \n",
      "#Row: 450 13 \n",
      "\n",
      "total \n",
      "#Row: 9930 13 \n",
      "\n"
     ]
    }
   ],
   "source": [
    "### init\n",
    "vec_txt_cnames = c('chrom',  'chromStart', 'chromEnd',\n",
    "        \"chrTSS\", \"startTSS\",   \"endTSS\",\n",
    "        \"name\", \n",
    "        \"EffectSize\", \n",
    "        \"Strand1\", \"Strand2\",\n",
    "        \"Gene_Symbol\", \"Gene_TSS\", \"Reference\")\n",
    "\n",
    "### init\n",
    "lst = lst_dat_peak_encode_e2g_import_updateTSS\n",
    "\n",
    "### arrange into bedpe format\n",
    "lst = lapply(lst, function(dat){\n",
    "    #dat = dat_peak_encode_e2g_import\n",
    "\n",
    "    ###\n",
    "    dat = dat %>%\n",
    "        dplyr::mutate(\n",
    "            EffectSize   = round(EffectSize, 5),\n",
    "            Gene_TSS     = paste0(chrTSS, \":\", startTSS, \"-\", endTSS),\n",
    "            Strand1      = \".\",\n",
    "            Strand2      = \".\"\n",
    "        )\n",
    "\n",
    "    ###\n",
    "    dat = dat %>% \n",
    "        dplyr::select({{vec_txt_cnames}}) %>% \n",
    "        dplyr::arrange(chrom, chromStart, chromEnd) %>%\n",
    "        na.omit\n",
    "    \n",
    "    return(dat)\n",
    "})\n",
    "\n",
    "lst_dat_peak_encode_e2g_bedpe_updateTSS = lst\n",
    "vec = names(lst)\n",
    "for (idx in vec) {\n",
    "    dat = lst[[idx]]\n",
    "    cat(idx, \"\\n\")\n",
    "    cat(\"#Row:\", dim(dat), \"\\n\")\n",
    "    cat(\"\\n\")\n",
    "}"
   ]
  },
  {
   "cell_type": "code",
   "execution_count": 29,
   "metadata": {},
   "outputs": [
    {
     "name": "stdout",
     "output_type": "stream",
     "text": [
      "active \n",
      "#Row: 450 18 \n",
      "\n",
      "total \n",
      "#Row: 9930 18 \n",
      "\n"
     ]
    }
   ],
   "source": [
    "### init\n",
    "lst = lst_dat_peak_encode_e2g_bedpe_updateTSS\n",
    "\n",
    "### arrange into interact format\n",
    "lst = lapply(lst, function(dat){\n",
    "    ###\n",
    "    #dat = dat_peak_encode_e2g_bedpe\n",
    "    dat = dat %>%\n",
    "        dplyr::mutate(score = 1000, value = 1, exp = \".\", color = \".\") %>%\n",
    "        dplyr::mutate(\n",
    "            chromMid   = as.integer((chromStart + chromEnd) / 2),\n",
    "            sourceName = paste0(chrom, \":\", chromStart, \"-\", chromEnd),\n",
    "            targetName = Gene_TSS,\n",
    "        ) %>%\n",
    "        dplyr::mutate(\n",
    "            sourceChrom   = chrom,\n",
    "            sourceStart   = chromStart,\n",
    "            sourceEnd     = chromEnd,\n",
    "            sourceStrand  = \".\",\n",
    "            targetChrom   = chrTSS,\n",
    "            targetStart   = startTSS,\n",
    "            targetEnd     = endTSS,\n",
    "            targetStrand  = \".\"\n",
    "        ) %>%\n",
    "        dplyr::select(\n",
    "            chrom, chromStart, chromEnd, name, \n",
    "            score, value, exp, color,\n",
    "            sourceChrom,\n",
    "            sourceStart,\n",
    "            sourceEnd,\n",
    "            sourceName,\n",
    "            sourceStrand,\n",
    "            targetChrom,\n",
    "            targetStart,\n",
    "            targetEnd,\n",
    "            targetName,\n",
    "            targetStrand\n",
    "        )\n",
    "    return(dat)\n",
    "})\n",
    "\n",
    "### assign and show\n",
    "lst_dat_peak_encode_e2g_interact_updateTSS = lst\n",
    "vec = names(lst)\n",
    "for (idx in vec) {\n",
    "    dat = lst[[idx]]\n",
    "    cat(idx, \"\\n\")\n",
    "    cat(\"#Row:\", dim(dat), \"\\n\")\n",
    "    cat(\"\\n\")\n",
    "}"
   ]
  },
  {
   "cell_type": "markdown",
   "metadata": {},
   "source": [
    "**Check results: FADS1**"
   ]
  },
  {
   "cell_type": "code",
   "execution_count": 30,
   "metadata": {},
   "outputs": [
    {
     "data": {
      "text/html": [
       "<table class=\"dataframe\">\n",
       "<caption>A tibble: 1 × 5</caption>\n",
       "<thead>\n",
       "\t<tr><th scope=col>Chrom</th><th scope=col>Start</th><th scope=col>End</th><th scope=col>Name</th><th scope=col>Score</th></tr>\n",
       "\t<tr><th scope=col>&lt;chr&gt;</th><th scope=col>&lt;dbl&gt;</th><th scope=col>&lt;dbl&gt;</th><th scope=col>&lt;chr&gt;</th><th scope=col>&lt;dbl&gt;</th></tr>\n",
       "</thead>\n",
       "<tbody>\n",
       "\t<tr><td>chr11</td><td>61817003</td><td>61817004</td><td>FADS1</td><td>158.661</td></tr>\n",
       "</tbody>\n",
       "</table>\n"
      ],
      "text/latex": [
       "A tibble: 1 × 5\n",
       "\\begin{tabular}{lllll}\n",
       " Chrom & Start & End & Name & Score\\\\\n",
       " <chr> & <dbl> & <dbl> & <chr> & <dbl>\\\\\n",
       "\\hline\n",
       "\t chr11 & 61817003 & 61817004 & FADS1 & 158.661\\\\\n",
       "\\end{tabular}\n"
      ],
      "text/markdown": [
       "\n",
       "A tibble: 1 × 5\n",
       "\n",
       "| Chrom &lt;chr&gt; | Start &lt;dbl&gt; | End &lt;dbl&gt; | Name &lt;chr&gt; | Score &lt;dbl&gt; |\n",
       "|---|---|---|---|---|\n",
       "| chr11 | 61817003 | 61817004 | FADS1 | 158.661 |\n",
       "\n"
      ],
      "text/plain": [
       "  Chrom Start    End      Name  Score  \n",
       "1 chr11 61817003 61817004 FADS1 158.661"
      ]
     },
     "metadata": {},
     "output_type": "display_data"
    }
   ],
   "source": [
    "dat = dat_annot_tss_pol2_rnaseq\n",
    "dat = dat %>% dplyr::filter(str_detect(Name, \"FADS1\"))\n",
    "head(dat)"
   ]
  },
  {
   "cell_type": "code",
   "execution_count": 31,
   "metadata": {},
   "outputs": [
    {
     "data": {
      "text/html": [
       "<div style=\"border: 1px solid #ddd; padding: 5px; overflow-x: scroll; width:100%; \"><table class=\"table table-striped\" style=\"margin-left: auto; margin-right: auto;\">\n",
       " <thead>\n",
       "  <tr>\n",
       "   <th style=\"text-align:left;\"> chrom </th>\n",
       "   <th style=\"text-align:right;\"> chromStart </th>\n",
       "   <th style=\"text-align:right;\"> chromEnd </th>\n",
       "   <th style=\"text-align:left;\"> name </th>\n",
       "   <th style=\"text-align:left;\"> sourceChrom </th>\n",
       "   <th style=\"text-align:right;\"> sourceStart </th>\n",
       "   <th style=\"text-align:right;\"> sourceEnd </th>\n",
       "   <th style=\"text-align:left;\"> sourceName </th>\n",
       "   <th style=\"text-align:left;\"> targetChrom </th>\n",
       "   <th style=\"text-align:right;\"> targetStart </th>\n",
       "   <th style=\"text-align:right;\"> targetEnd </th>\n",
       "   <th style=\"text-align:left;\"> targetName </th>\n",
       "  </tr>\n",
       " </thead>\n",
       "<tbody>\n",
       "  <tr>\n",
       "   <td style=\"text-align:left;\"> chr11 </td>\n",
       "   <td style=\"text-align:right;\"> 61834595 </td>\n",
       "   <td style=\"text-align:right;\"> 61834918 </td>\n",
       "   <td style=\"text-align:left;\"> FADS1|chr11:61602067-61602390:* </td>\n",
       "   <td style=\"text-align:left;\"> chr11 </td>\n",
       "   <td style=\"text-align:right;\"> 61834595 </td>\n",
       "   <td style=\"text-align:right;\"> 61834918 </td>\n",
       "   <td style=\"text-align:left;\"> chr11:61834595-61834918 </td>\n",
       "   <td style=\"text-align:left;\"> chr11 </td>\n",
       "   <td style=\"text-align:right;\"> 61829317 </td>\n",
       "   <td style=\"text-align:right;\"> 61829318 </td>\n",
       "   <td style=\"text-align:left;\"> chr11:61829317-61829318 </td>\n",
       "  </tr>\n",
       "  <tr>\n",
       "   <td style=\"text-align:left;\"> chr11 </td>\n",
       "   <td style=\"text-align:right;\"> 61841784 </td>\n",
       "   <td style=\"text-align:right;\"> 61841802 </td>\n",
       "   <td style=\"text-align:left;\"> FADS1|chr11:61609256-61609274:* </td>\n",
       "   <td style=\"text-align:left;\"> chr11 </td>\n",
       "   <td style=\"text-align:right;\"> 61841784 </td>\n",
       "   <td style=\"text-align:right;\"> 61841802 </td>\n",
       "   <td style=\"text-align:left;\"> chr11:61841784-61841802 </td>\n",
       "   <td style=\"text-align:left;\"> chr11 </td>\n",
       "   <td style=\"text-align:right;\"> 61829317 </td>\n",
       "   <td style=\"text-align:right;\"> 61829318 </td>\n",
       "   <td style=\"text-align:left;\"> chr11:61829317-61829318 </td>\n",
       "  </tr>\n",
       "  <tr>\n",
       "   <td style=\"text-align:left;\"> chr11 </td>\n",
       "   <td style=\"text-align:right;\"> 61871048 </td>\n",
       "   <td style=\"text-align:right;\"> 61871769 </td>\n",
       "   <td style=\"text-align:left;\"> FADS1|chr11:61638520-61639241:. </td>\n",
       "   <td style=\"text-align:left;\"> chr11 </td>\n",
       "   <td style=\"text-align:right;\"> 61871048 </td>\n",
       "   <td style=\"text-align:right;\"> 61871769 </td>\n",
       "   <td style=\"text-align:left;\"> chr11:61871048-61871769 </td>\n",
       "   <td style=\"text-align:left;\"> chr11 </td>\n",
       "   <td style=\"text-align:right;\"> 61829317 </td>\n",
       "   <td style=\"text-align:right;\"> 61829318 </td>\n",
       "   <td style=\"text-align:left;\"> chr11:61829317-61829318 </td>\n",
       "  </tr>\n",
       "</tbody>\n",
       "</table></div>"
      ]
     },
     "metadata": {},
     "output_type": "display_data"
    }
   ],
   "source": [
    "lst = lst_dat_peak_encode_e2g_interact\n",
    "dat = lst[['active']]\n",
    "txt = \"FADS1\"\n",
    "\n",
    "dat = dat %>% \n",
    "    dplyr::filter(str_detect(name, txt)) %>%\n",
    "    dplyr::select(\n",
    "        chrom, chromStart, chromEnd, name, \n",
    "        sourceChrom, sourceStart, sourceEnd, sourceName,\n",
    "        targetChrom, targetStart, targetEnd, targetName)\n",
    "fun_display_table(dat)"
   ]
  },
  {
   "cell_type": "code",
   "execution_count": 32,
   "metadata": {},
   "outputs": [
    {
     "data": {
      "text/html": [
       "<div style=\"border: 1px solid #ddd; padding: 5px; overflow-x: scroll; width:100%; \"><table class=\"table table-striped\" style=\"margin-left: auto; margin-right: auto;\">\n",
       " <thead>\n",
       "  <tr>\n",
       "   <th style=\"text-align:left;\"> chrom </th>\n",
       "   <th style=\"text-align:right;\"> chromStart </th>\n",
       "   <th style=\"text-align:right;\"> chromEnd </th>\n",
       "   <th style=\"text-align:left;\"> name </th>\n",
       "   <th style=\"text-align:left;\"> sourceChrom </th>\n",
       "   <th style=\"text-align:right;\"> sourceStart </th>\n",
       "   <th style=\"text-align:right;\"> sourceEnd </th>\n",
       "   <th style=\"text-align:left;\"> sourceName </th>\n",
       "   <th style=\"text-align:left;\"> targetChrom </th>\n",
       "   <th style=\"text-align:left;\"> targetStart </th>\n",
       "   <th style=\"text-align:left;\"> targetEnd </th>\n",
       "   <th style=\"text-align:left;\"> targetName </th>\n",
       "  </tr>\n",
       " </thead>\n",
       "<tbody>\n",
       "  <tr>\n",
       "   <td style=\"text-align:left;\"> chr11 </td>\n",
       "   <td style=\"text-align:right;\"> 61834595 </td>\n",
       "   <td style=\"text-align:right;\"> 61834918 </td>\n",
       "   <td style=\"text-align:left;\"> FADS1|chr11:61602067-61602390:* </td>\n",
       "   <td style=\"text-align:left;\"> chr11 </td>\n",
       "   <td style=\"text-align:right;\"> 61834595 </td>\n",
       "   <td style=\"text-align:right;\"> 61834918 </td>\n",
       "   <td style=\"text-align:left;\"> chr11:61834595-61834918 </td>\n",
       "   <td style=\"text-align:left;\"> chr11 </td>\n",
       "   <td style=\"text-align:left;\"> 61817003 </td>\n",
       "   <td style=\"text-align:left;\"> 61817004 </td>\n",
       "   <td style=\"text-align:left;\"> chr11:61817003-61817004 </td>\n",
       "  </tr>\n",
       "  <tr>\n",
       "   <td style=\"text-align:left;\"> chr11 </td>\n",
       "   <td style=\"text-align:right;\"> 61841784 </td>\n",
       "   <td style=\"text-align:right;\"> 61841802 </td>\n",
       "   <td style=\"text-align:left;\"> FADS1|chr11:61609256-61609274:* </td>\n",
       "   <td style=\"text-align:left;\"> chr11 </td>\n",
       "   <td style=\"text-align:right;\"> 61841784 </td>\n",
       "   <td style=\"text-align:right;\"> 61841802 </td>\n",
       "   <td style=\"text-align:left;\"> chr11:61841784-61841802 </td>\n",
       "   <td style=\"text-align:left;\"> chr11 </td>\n",
       "   <td style=\"text-align:left;\"> 61817003 </td>\n",
       "   <td style=\"text-align:left;\"> 61817004 </td>\n",
       "   <td style=\"text-align:left;\"> chr11:61817003-61817004 </td>\n",
       "  </tr>\n",
       "  <tr>\n",
       "   <td style=\"text-align:left;\"> chr11 </td>\n",
       "   <td style=\"text-align:right;\"> 61871048 </td>\n",
       "   <td style=\"text-align:right;\"> 61871769 </td>\n",
       "   <td style=\"text-align:left;\"> FADS1|chr11:61638520-61639241:. </td>\n",
       "   <td style=\"text-align:left;\"> chr11 </td>\n",
       "   <td style=\"text-align:right;\"> 61871048 </td>\n",
       "   <td style=\"text-align:right;\"> 61871769 </td>\n",
       "   <td style=\"text-align:left;\"> chr11:61871048-61871769 </td>\n",
       "   <td style=\"text-align:left;\"> chr11 </td>\n",
       "   <td style=\"text-align:left;\"> 61817003 </td>\n",
       "   <td style=\"text-align:left;\"> 61817004 </td>\n",
       "   <td style=\"text-align:left;\"> chr11:61817003-61817004 </td>\n",
       "  </tr>\n",
       "</tbody>\n",
       "</table></div>"
      ]
     },
     "metadata": {},
     "output_type": "display_data"
    }
   ],
   "source": [
    "lst = lst_dat_peak_encode_e2g_interact_updateTSS\n",
    "dat = lst[['active']]\n",
    "txt = \"FADS1\"\n",
    "\n",
    "dat = dat %>% \n",
    "    dplyr::filter(str_detect(name, txt)) %>%\n",
    "    dplyr::select(\n",
    "        chrom, chromStart, chromEnd, name, \n",
    "        sourceChrom, sourceStart, sourceEnd, sourceName,\n",
    "        targetChrom, targetStart, targetEnd, targetName)\n",
    "fun_display_table(dat)"
   ]
  },
  {
   "cell_type": "markdown",
   "metadata": {},
   "source": [
    "**Check results: HBE1**"
   ]
  },
  {
   "cell_type": "code",
   "execution_count": 33,
   "metadata": {},
   "outputs": [
    {
     "data": {
      "text/html": [
       "<table class=\"dataframe\">\n",
       "<caption>A tibble: 1 × 5</caption>\n",
       "<thead>\n",
       "\t<tr><th scope=col>Chrom</th><th scope=col>Start</th><th scope=col>End</th><th scope=col>Name</th><th scope=col>Score</th></tr>\n",
       "\t<tr><th scope=col>&lt;chr&gt;</th><th scope=col>&lt;dbl&gt;</th><th scope=col>&lt;dbl&gt;</th><th scope=col>&lt;chr&gt;</th><th scope=col>&lt;dbl&gt;</th></tr>\n",
       "</thead>\n",
       "<tbody>\n",
       "\t<tr><td>chr11</td><td>5269945</td><td>5269946</td><td>HBE1</td><td>319.925</td></tr>\n",
       "</tbody>\n",
       "</table>\n"
      ],
      "text/latex": [
       "A tibble: 1 × 5\n",
       "\\begin{tabular}{lllll}\n",
       " Chrom & Start & End & Name & Score\\\\\n",
       " <chr> & <dbl> & <dbl> & <chr> & <dbl>\\\\\n",
       "\\hline\n",
       "\t chr11 & 5269945 & 5269946 & HBE1 & 319.925\\\\\n",
       "\\end{tabular}\n"
      ],
      "text/markdown": [
       "\n",
       "A tibble: 1 × 5\n",
       "\n",
       "| Chrom &lt;chr&gt; | Start &lt;dbl&gt; | End &lt;dbl&gt; | Name &lt;chr&gt; | Score &lt;dbl&gt; |\n",
       "|---|---|---|---|---|\n",
       "| chr11 | 5269945 | 5269946 | HBE1 | 319.925 |\n",
       "\n"
      ],
      "text/plain": [
       "  Chrom Start   End     Name Score  \n",
       "1 chr11 5269945 5269946 HBE1 319.925"
      ]
     },
     "metadata": {},
     "output_type": "display_data"
    }
   ],
   "source": [
    "dat = dat_annot_tss_pol2_rnaseq\n",
    "txt = \"HBE1\"\n",
    "dat = dat %>% dplyr::filter(str_detect(Name, txt))\n",
    "head(dat)"
   ]
  },
  {
   "cell_type": "code",
   "execution_count": 34,
   "metadata": {},
   "outputs": [
    {
     "data": {
      "text/html": [
       "<div style=\"border: 1px solid #ddd; padding: 5px; overflow-x: scroll; width:100%; \"><table class=\"table table-striped\" style=\"margin-left: auto; margin-right: auto;\">\n",
       " <thead>\n",
       "  <tr>\n",
       "   <th style=\"text-align:left;\"> chrom </th>\n",
       "   <th style=\"text-align:right;\"> chromStart </th>\n",
       "   <th style=\"text-align:right;\"> chromEnd </th>\n",
       "   <th style=\"text-align:left;\"> name </th>\n",
       "   <th style=\"text-align:left;\"> sourceChrom </th>\n",
       "   <th style=\"text-align:right;\"> sourceStart </th>\n",
       "   <th style=\"text-align:right;\"> sourceEnd </th>\n",
       "   <th style=\"text-align:left;\"> sourceName </th>\n",
       "   <th style=\"text-align:left;\"> targetChrom </th>\n",
       "   <th style=\"text-align:right;\"> targetStart </th>\n",
       "   <th style=\"text-align:right;\"> targetEnd </th>\n",
       "   <th style=\"text-align:left;\"> targetName </th>\n",
       "  </tr>\n",
       " </thead>\n",
       "<tbody>\n",
       "  <tr>\n",
       "   <td style=\"text-align:left;\"> chr11 </td>\n",
       "   <td style=\"text-align:right;\"> 5272749 </td>\n",
       "   <td style=\"text-align:right;\"> 5272943 </td>\n",
       "   <td style=\"text-align:left;\"> HBE1|chr11:5272749-5272943:. </td>\n",
       "   <td style=\"text-align:left;\"> chr11 </td>\n",
       "   <td style=\"text-align:right;\"> 5272749 </td>\n",
       "   <td style=\"text-align:right;\"> 5272943 </td>\n",
       "   <td style=\"text-align:left;\"> chr11:5272749-5272943 </td>\n",
       "   <td style=\"text-align:left;\"> chr11 </td>\n",
       "   <td style=\"text-align:right;\"> 5505652 </td>\n",
       "   <td style=\"text-align:right;\"> 5505653 </td>\n",
       "   <td style=\"text-align:left;\"> chr11:5505652-5505653 </td>\n",
       "  </tr>\n",
       "  <tr>\n",
       "   <td style=\"text-align:left;\"> chr11 </td>\n",
       "   <td style=\"text-align:right;\"> 5275735 </td>\n",
       "   <td style=\"text-align:right;\"> 5276235 </td>\n",
       "   <td style=\"text-align:left;\"> HBE1|chr11:5296965-5297465:* </td>\n",
       "   <td style=\"text-align:left;\"> chr11 </td>\n",
       "   <td style=\"text-align:right;\"> 5275735 </td>\n",
       "   <td style=\"text-align:right;\"> 5276235 </td>\n",
       "   <td style=\"text-align:left;\"> chr11:5275735-5276235 </td>\n",
       "   <td style=\"text-align:left;\"> chr11 </td>\n",
       "   <td style=\"text-align:right;\"> 5505651 </td>\n",
       "   <td style=\"text-align:right;\"> 5505652 </td>\n",
       "   <td style=\"text-align:left;\"> chr11:5505651-5505652 </td>\n",
       "  </tr>\n",
       "  <tr>\n",
       "   <td style=\"text-align:left;\"> chr11 </td>\n",
       "   <td style=\"text-align:right;\"> 5277927 </td>\n",
       "   <td style=\"text-align:right;\"> 5278054 </td>\n",
       "   <td style=\"text-align:left;\"> HBE1|chr11:5277927-5278054:. </td>\n",
       "   <td style=\"text-align:left;\"> chr11 </td>\n",
       "   <td style=\"text-align:right;\"> 5277927 </td>\n",
       "   <td style=\"text-align:right;\"> 5278054 </td>\n",
       "   <td style=\"text-align:left;\"> chr11:5277927-5278054 </td>\n",
       "   <td style=\"text-align:left;\"> chr11 </td>\n",
       "   <td style=\"text-align:right;\"> 5505652 </td>\n",
       "   <td style=\"text-align:right;\"> 5505653 </td>\n",
       "   <td style=\"text-align:left;\"> chr11:5505652-5505653 </td>\n",
       "  </tr>\n",
       "  <tr>\n",
       "   <td style=\"text-align:left;\"> chr11 </td>\n",
       "   <td style=\"text-align:right;\"> 5278635 </td>\n",
       "   <td style=\"text-align:right;\"> 5279175 </td>\n",
       "   <td style=\"text-align:left;\"> HBE1|chr11:5299865-5300405:* </td>\n",
       "   <td style=\"text-align:left;\"> chr11 </td>\n",
       "   <td style=\"text-align:right;\"> 5278635 </td>\n",
       "   <td style=\"text-align:right;\"> 5279175 </td>\n",
       "   <td style=\"text-align:left;\"> chr11:5278635-5279175 </td>\n",
       "   <td style=\"text-align:left;\"> chr11 </td>\n",
       "   <td style=\"text-align:right;\"> 5505651 </td>\n",
       "   <td style=\"text-align:right;\"> 5505652 </td>\n",
       "   <td style=\"text-align:left;\"> chr11:5505651-5505652 </td>\n",
       "  </tr>\n",
       "  <tr>\n",
       "   <td style=\"text-align:left;\"> chr11 </td>\n",
       "   <td style=\"text-align:right;\"> 5280370 </td>\n",
       "   <td style=\"text-align:right;\"> 5281170 </td>\n",
       "   <td style=\"text-align:left;\"> HBE1|chr11:5301600-5302400:* </td>\n",
       "   <td style=\"text-align:left;\"> chr11 </td>\n",
       "   <td style=\"text-align:right;\"> 5280370 </td>\n",
       "   <td style=\"text-align:right;\"> 5281170 </td>\n",
       "   <td style=\"text-align:left;\"> chr11:5280370-5281170 </td>\n",
       "   <td style=\"text-align:left;\"> chr11 </td>\n",
       "   <td style=\"text-align:right;\"> 5505651 </td>\n",
       "   <td style=\"text-align:right;\"> 5505652 </td>\n",
       "   <td style=\"text-align:left;\"> chr11:5505651-5505652 </td>\n",
       "  </tr>\n",
       "  <tr>\n",
       "   <td style=\"text-align:left;\"> chr11 </td>\n",
       "   <td style=\"text-align:right;\"> 5284535 </td>\n",
       "   <td style=\"text-align:right;\"> 5285035 </td>\n",
       "   <td style=\"text-align:left;\"> HBE1|chr11:5305765-5306265:* </td>\n",
       "   <td style=\"text-align:left;\"> chr11 </td>\n",
       "   <td style=\"text-align:right;\"> 5284535 </td>\n",
       "   <td style=\"text-align:right;\"> 5285035 </td>\n",
       "   <td style=\"text-align:left;\"> chr11:5284535-5285035 </td>\n",
       "   <td style=\"text-align:left;\"> chr11 </td>\n",
       "   <td style=\"text-align:right;\"> 5505651 </td>\n",
       "   <td style=\"text-align:right;\"> 5505652 </td>\n",
       "   <td style=\"text-align:left;\"> chr11:5505651-5505652 </td>\n",
       "  </tr>\n",
       "  <tr>\n",
       "   <td style=\"text-align:left;\"> chr11 </td>\n",
       "   <td style=\"text-align:right;\"> 5288035 </td>\n",
       "   <td style=\"text-align:right;\"> 5288555 </td>\n",
       "   <td style=\"text-align:left;\"> HBE1|chr11:5309265-5309785:* </td>\n",
       "   <td style=\"text-align:left;\"> chr11 </td>\n",
       "   <td style=\"text-align:right;\"> 5288035 </td>\n",
       "   <td style=\"text-align:right;\"> 5288555 </td>\n",
       "   <td style=\"text-align:left;\"> chr11:5288035-5288555 </td>\n",
       "   <td style=\"text-align:left;\"> chr11 </td>\n",
       "   <td style=\"text-align:right;\"> 5505651 </td>\n",
       "   <td style=\"text-align:right;\"> 5505652 </td>\n",
       "   <td style=\"text-align:left;\"> chr11:5505651-5505652 </td>\n",
       "  </tr>\n",
       "</tbody>\n",
       "</table></div>"
      ]
     },
     "metadata": {},
     "output_type": "display_data"
    }
   ],
   "source": [
    "lst = lst_dat_peak_encode_e2g_interact\n",
    "dat = lst[['active']]\n",
    "txt = \"HBE1\"\n",
    "\n",
    "dat = dat %>% \n",
    "    dplyr::filter(str_detect(name, txt)) %>%\n",
    "    dplyr::select(\n",
    "        chrom, chromStart, chromEnd, name, \n",
    "        sourceChrom, sourceStart, sourceEnd, sourceName,\n",
    "        targetChrom, targetStart, targetEnd, targetName)\n",
    "fun_display_table(dat)"
   ]
  },
  {
   "cell_type": "code",
   "execution_count": 35,
   "metadata": {},
   "outputs": [
    {
     "data": {
      "text/html": [
       "<div style=\"border: 1px solid #ddd; padding: 5px; overflow-x: scroll; width:100%; \"><table class=\"table table-striped\" style=\"margin-left: auto; margin-right: auto;\">\n",
       " <thead>\n",
       "  <tr>\n",
       "   <th style=\"text-align:left;\"> chrom </th>\n",
       "   <th style=\"text-align:right;\"> chromStart </th>\n",
       "   <th style=\"text-align:right;\"> chromEnd </th>\n",
       "   <th style=\"text-align:left;\"> name </th>\n",
       "   <th style=\"text-align:left;\"> sourceChrom </th>\n",
       "   <th style=\"text-align:right;\"> sourceStart </th>\n",
       "   <th style=\"text-align:right;\"> sourceEnd </th>\n",
       "   <th style=\"text-align:left;\"> sourceName </th>\n",
       "   <th style=\"text-align:left;\"> targetChrom </th>\n",
       "   <th style=\"text-align:left;\"> targetStart </th>\n",
       "   <th style=\"text-align:left;\"> targetEnd </th>\n",
       "   <th style=\"text-align:left;\"> targetName </th>\n",
       "  </tr>\n",
       " </thead>\n",
       "<tbody>\n",
       "  <tr>\n",
       "   <td style=\"text-align:left;\"> chr11 </td>\n",
       "   <td style=\"text-align:right;\"> 5272749 </td>\n",
       "   <td style=\"text-align:right;\"> 5272943 </td>\n",
       "   <td style=\"text-align:left;\"> HBE1|chr11:5272749-5272943:. </td>\n",
       "   <td style=\"text-align:left;\"> chr11 </td>\n",
       "   <td style=\"text-align:right;\"> 5272749 </td>\n",
       "   <td style=\"text-align:right;\"> 5272943 </td>\n",
       "   <td style=\"text-align:left;\"> chr11:5272749-5272943 </td>\n",
       "   <td style=\"text-align:left;\"> chr11 </td>\n",
       "   <td style=\"text-align:left;\"> 5269945 </td>\n",
       "   <td style=\"text-align:left;\"> 5269946 </td>\n",
       "   <td style=\"text-align:left;\"> chr11:5269945-5269946 </td>\n",
       "  </tr>\n",
       "  <tr>\n",
       "   <td style=\"text-align:left;\"> chr11 </td>\n",
       "   <td style=\"text-align:right;\"> 5275735 </td>\n",
       "   <td style=\"text-align:right;\"> 5276235 </td>\n",
       "   <td style=\"text-align:left;\"> HBE1|chr11:5296965-5297465:* </td>\n",
       "   <td style=\"text-align:left;\"> chr11 </td>\n",
       "   <td style=\"text-align:right;\"> 5275735 </td>\n",
       "   <td style=\"text-align:right;\"> 5276235 </td>\n",
       "   <td style=\"text-align:left;\"> chr11:5275735-5276235 </td>\n",
       "   <td style=\"text-align:left;\"> chr11 </td>\n",
       "   <td style=\"text-align:left;\"> 5269945 </td>\n",
       "   <td style=\"text-align:left;\"> 5269946 </td>\n",
       "   <td style=\"text-align:left;\"> chr11:5269945-5269946 </td>\n",
       "  </tr>\n",
       "  <tr>\n",
       "   <td style=\"text-align:left;\"> chr11 </td>\n",
       "   <td style=\"text-align:right;\"> 5277927 </td>\n",
       "   <td style=\"text-align:right;\"> 5278054 </td>\n",
       "   <td style=\"text-align:left;\"> HBE1|chr11:5277927-5278054:. </td>\n",
       "   <td style=\"text-align:left;\"> chr11 </td>\n",
       "   <td style=\"text-align:right;\"> 5277927 </td>\n",
       "   <td style=\"text-align:right;\"> 5278054 </td>\n",
       "   <td style=\"text-align:left;\"> chr11:5277927-5278054 </td>\n",
       "   <td style=\"text-align:left;\"> chr11 </td>\n",
       "   <td style=\"text-align:left;\"> 5269945 </td>\n",
       "   <td style=\"text-align:left;\"> 5269946 </td>\n",
       "   <td style=\"text-align:left;\"> chr11:5269945-5269946 </td>\n",
       "  </tr>\n",
       "  <tr>\n",
       "   <td style=\"text-align:left;\"> chr11 </td>\n",
       "   <td style=\"text-align:right;\"> 5278635 </td>\n",
       "   <td style=\"text-align:right;\"> 5279175 </td>\n",
       "   <td style=\"text-align:left;\"> HBE1|chr11:5299865-5300405:* </td>\n",
       "   <td style=\"text-align:left;\"> chr11 </td>\n",
       "   <td style=\"text-align:right;\"> 5278635 </td>\n",
       "   <td style=\"text-align:right;\"> 5279175 </td>\n",
       "   <td style=\"text-align:left;\"> chr11:5278635-5279175 </td>\n",
       "   <td style=\"text-align:left;\"> chr11 </td>\n",
       "   <td style=\"text-align:left;\"> 5269945 </td>\n",
       "   <td style=\"text-align:left;\"> 5269946 </td>\n",
       "   <td style=\"text-align:left;\"> chr11:5269945-5269946 </td>\n",
       "  </tr>\n",
       "  <tr>\n",
       "   <td style=\"text-align:left;\"> chr11 </td>\n",
       "   <td style=\"text-align:right;\"> 5280370 </td>\n",
       "   <td style=\"text-align:right;\"> 5281170 </td>\n",
       "   <td style=\"text-align:left;\"> HBE1|chr11:5301600-5302400:* </td>\n",
       "   <td style=\"text-align:left;\"> chr11 </td>\n",
       "   <td style=\"text-align:right;\"> 5280370 </td>\n",
       "   <td style=\"text-align:right;\"> 5281170 </td>\n",
       "   <td style=\"text-align:left;\"> chr11:5280370-5281170 </td>\n",
       "   <td style=\"text-align:left;\"> chr11 </td>\n",
       "   <td style=\"text-align:left;\"> 5269945 </td>\n",
       "   <td style=\"text-align:left;\"> 5269946 </td>\n",
       "   <td style=\"text-align:left;\"> chr11:5269945-5269946 </td>\n",
       "  </tr>\n",
       "  <tr>\n",
       "   <td style=\"text-align:left;\"> chr11 </td>\n",
       "   <td style=\"text-align:right;\"> 5284535 </td>\n",
       "   <td style=\"text-align:right;\"> 5285035 </td>\n",
       "   <td style=\"text-align:left;\"> HBE1|chr11:5305765-5306265:* </td>\n",
       "   <td style=\"text-align:left;\"> chr11 </td>\n",
       "   <td style=\"text-align:right;\"> 5284535 </td>\n",
       "   <td style=\"text-align:right;\"> 5285035 </td>\n",
       "   <td style=\"text-align:left;\"> chr11:5284535-5285035 </td>\n",
       "   <td style=\"text-align:left;\"> chr11 </td>\n",
       "   <td style=\"text-align:left;\"> 5269945 </td>\n",
       "   <td style=\"text-align:left;\"> 5269946 </td>\n",
       "   <td style=\"text-align:left;\"> chr11:5269945-5269946 </td>\n",
       "  </tr>\n",
       "  <tr>\n",
       "   <td style=\"text-align:left;\"> chr11 </td>\n",
       "   <td style=\"text-align:right;\"> 5288035 </td>\n",
       "   <td style=\"text-align:right;\"> 5288555 </td>\n",
       "   <td style=\"text-align:left;\"> HBE1|chr11:5309265-5309785:* </td>\n",
       "   <td style=\"text-align:left;\"> chr11 </td>\n",
       "   <td style=\"text-align:right;\"> 5288035 </td>\n",
       "   <td style=\"text-align:right;\"> 5288555 </td>\n",
       "   <td style=\"text-align:left;\"> chr11:5288035-5288555 </td>\n",
       "   <td style=\"text-align:left;\"> chr11 </td>\n",
       "   <td style=\"text-align:left;\"> 5269945 </td>\n",
       "   <td style=\"text-align:left;\"> 5269946 </td>\n",
       "   <td style=\"text-align:left;\"> chr11:5269945-5269946 </td>\n",
       "  </tr>\n",
       "</tbody>\n",
       "</table></div>"
      ]
     },
     "metadata": {},
     "output_type": "display_data"
    }
   ],
   "source": [
    "lst = lst_dat_peak_encode_e2g_interact_updateTSS\n",
    "dat = lst[['active']]\n",
    "txt = \"HBE1\"\n",
    "\n",
    "dat = dat %>% \n",
    "    dplyr::filter(str_detect(name, txt)) %>%\n",
    "    dplyr::select(\n",
    "        chrom, chromStart, chromEnd, name, \n",
    "        sourceChrom, sourceStart, sourceEnd, sourceName,\n",
    "        targetChrom, targetStart, targetEnd, targetName)\n",
    "fun_display_table(dat)"
   ]
  },
  {
   "cell_type": "markdown",
   "metadata": {},
   "source": [
    "## Save results"
   ]
  },
  {
   "cell_type": "code",
   "execution_count": 36,
   "metadata": {},
   "outputs": [],
   "source": [
    "FD_OUT = file.path(FD_RES, \"results\", \"region\", \"annotation_encode_e2g_benchmark\")"
   ]
  },
  {
   "cell_type": "code",
   "execution_count": 37,
   "metadata": {},
   "outputs": [
    {
     "name": "stdout",
     "output_type": "stream",
     "text": [
      "[1] \"/data/reddylab/Kuei/out/proj_combeffect_encode_fcc/results/region/annotation_encode_e2g_benchmark/description.tsv\"\n"
     ]
    },
    {
     "data": {
      "text/html": [
       "<table class=\"dataframe\">\n",
       "<caption>A tibble: 12 × 2</caption>\n",
       "<thead>\n",
       "\t<tr><th scope=col>Name</th><th scope=col>Description</th></tr>\n",
       "\t<tr><th scope=col>&lt;chr&gt;</th><th scope=col>&lt;chr&gt;</th></tr>\n",
       "</thead>\n",
       "<tbody>\n",
       "\t<tr><td>Chrom      </td><td>Chromosome of the perturbed element                                                                              </td></tr>\n",
       "\t<tr><td>Start      </td><td>Start of the perturbed element (0-based)                                                                         </td></tr>\n",
       "\t<tr><td>End        </td><td>End of the perturbed element                                                                                     </td></tr>\n",
       "\t<tr><td>Name       </td><td>Identifier for the given E-G pair in the form of 'gene|chr:start-stop:strand', e.g. 'BET1L|chr11:220536-220704:*'</td></tr>\n",
       "\t<tr><td>Score      </td><td>Change in gene expression upon CRISPRi perturbation, e.g. precentage change in expression or log fold change     </td></tr>\n",
       "\t<tr><td>Region     </td><td>Location of the perturbed element                                                                                </td></tr>\n",
       "\t<tr><td>Gene_Symbol</td><td>target gene symbol                                                                                               </td></tr>\n",
       "\t<tr><td>Gene_TSS   </td><td>target gene TSS                                                                                                  </td></tr>\n",
       "\t<tr><td>Regulated  </td><td>Whether it is postive case or negative case; True for postive case                                               </td></tr>\n",
       "\t<tr><td>Reference  </td><td>Study from which this E-G pair was collected, e.g. Fulco2019                                                     </td></tr>\n",
       "\t<tr><td>Assay_Type </td><td>Assay type                                                                                                       </td></tr>\n",
       "\t<tr><td>Assay_Label</td><td>Assay label                                                                                                      </td></tr>\n",
       "</tbody>\n",
       "</table>\n"
      ],
      "text/latex": [
       "A tibble: 12 × 2\n",
       "\\begin{tabular}{ll}\n",
       " Name & Description\\\\\n",
       " <chr> & <chr>\\\\\n",
       "\\hline\n",
       "\t Chrom       & Chromosome of the perturbed element                                                                              \\\\\n",
       "\t Start       & Start of the perturbed element (0-based)                                                                         \\\\\n",
       "\t End         & End of the perturbed element                                                                                     \\\\\n",
       "\t Name        & Identifier for the given E-G pair in the form of 'gene\\textbar{}chr:start-stop:strand', e.g. 'BET1L\\textbar{}chr11:220536-220704:*'\\\\\n",
       "\t Score       & Change in gene expression upon CRISPRi perturbation, e.g. precentage change in expression or log fold change     \\\\\n",
       "\t Region      & Location of the perturbed element                                                                                \\\\\n",
       "\t Gene\\_Symbol & target gene symbol                                                                                               \\\\\n",
       "\t Gene\\_TSS    & target gene TSS                                                                                                  \\\\\n",
       "\t Regulated   & Whether it is postive case or negative case; True for postive case                                               \\\\\n",
       "\t Reference   & Study from which this E-G pair was collected, e.g. Fulco2019                                                     \\\\\n",
       "\t Assay\\_Type  & Assay type                                                                                                       \\\\\n",
       "\t Assay\\_Label & Assay label                                                                                                      \\\\\n",
       "\\end{tabular}\n"
      ],
      "text/markdown": [
       "\n",
       "A tibble: 12 × 2\n",
       "\n",
       "| Name &lt;chr&gt; | Description &lt;chr&gt; |\n",
       "|---|---|\n",
       "| Chrom       | Chromosome of the perturbed element                                                                               |\n",
       "| Start       | Start of the perturbed element (0-based)                                                                          |\n",
       "| End         | End of the perturbed element                                                                                      |\n",
       "| Name        | Identifier for the given E-G pair in the form of 'gene|chr:start-stop:strand', e.g. 'BET1L|chr11:220536-220704:*' |\n",
       "| Score       | Change in gene expression upon CRISPRi perturbation, e.g. precentage change in expression or log fold change      |\n",
       "| Region      | Location of the perturbed element                                                                                 |\n",
       "| Gene_Symbol | target gene symbol                                                                                                |\n",
       "| Gene_TSS    | target gene TSS                                                                                                   |\n",
       "| Regulated   | Whether it is postive case or negative case; True for postive case                                                |\n",
       "| Reference   | Study from which this E-G pair was collected, e.g. Fulco2019                                                      |\n",
       "| Assay_Type  | Assay type                                                                                                        |\n",
       "| Assay_Label | Assay label                                                                                                       |\n",
       "\n"
      ],
      "text/plain": [
       "   Name       \n",
       "1  Chrom      \n",
       "2  Start      \n",
       "3  End        \n",
       "4  Name       \n",
       "5  Score      \n",
       "6  Region     \n",
       "7  Gene_Symbol\n",
       "8  Gene_TSS   \n",
       "9  Regulated  \n",
       "10 Reference  \n",
       "11 Assay_Type \n",
       "12 Assay_Label\n",
       "   Description                                                                                                      \n",
       "1  Chromosome of the perturbed element                                                                              \n",
       "2  Start of the perturbed element (0-based)                                                                         \n",
       "3  End of the perturbed element                                                                                     \n",
       "4  Identifier for the given E-G pair in the form of 'gene|chr:start-stop:strand', e.g. 'BET1L|chr11:220536-220704:*'\n",
       "5  Change in gene expression upon CRISPRi perturbation, e.g. precentage change in expression or log fold change     \n",
       "6  Location of the perturbed element                                                                                \n",
       "7  target gene symbol                                                                                               \n",
       "8  target gene TSS                                                                                                  \n",
       "9  Whether it is postive case or negative case; True for postive case                                               \n",
       "10 Study from which this E-G pair was collected, e.g. Fulco2019                                                     \n",
       "11 Assay type                                                                                                       \n",
       "12 Assay label                                                                                                      "
      ]
     },
     "metadata": {},
     "output_type": "display_data"
    }
   ],
   "source": [
    "fdiry = FD_OUT\n",
    "fname = \"description.tsv\"\n",
    "fpath = file.path(fdiry, fname)\n",
    "print(fpath)\n",
    "\n",
    "dat = dat_cnames\n",
    "write_tsv(dat, fpath)\n",
    "dat"
   ]
  },
  {
   "cell_type": "code",
   "execution_count": 38,
   "metadata": {},
   "outputs": [
    {
     "name": "stdout",
     "output_type": "stream",
     "text": [
      "[1] \"/data/reddylab/Kuei/out/proj_combeffect_encode_fcc/results/region/annotation_encode_e2g_benchmark/K562.EPCrisprBenchmark.total.bed.gz\"\n"
     ]
    },
    {
     "data": {
      "text/html": [
       "<table class=\"dataframe\">\n",
       "<caption>A tibble: 6 × 12</caption>\n",
       "<thead>\n",
       "\t<tr><th scope=col>Chrom</th><th scope=col>Start</th><th scope=col>End</th><th scope=col>Name</th><th scope=col>EffectSize</th><th scope=col>Region</th><th scope=col>Gene_Symbol</th><th scope=col>Gene_TSS</th><th scope=col>Regulated</th><th scope=col>Reference</th><th scope=col>Assay_Type</th><th scope=col>Assay_Label</th></tr>\n",
       "\t<tr><th scope=col>&lt;chr&gt;</th><th scope=col>&lt;dbl&gt;</th><th scope=col>&lt;dbl&gt;</th><th scope=col>&lt;chr&gt;</th><th scope=col>&lt;dbl&gt;</th><th scope=col>&lt;chr&gt;</th><th scope=col>&lt;chr&gt;</th><th scope=col>&lt;chr&gt;</th><th scope=col>&lt;lgl&gt;</th><th scope=col>&lt;chr&gt;</th><th scope=col>&lt;chr&gt;</th><th scope=col>&lt;chr&gt;</th></tr>\n",
       "</thead>\n",
       "<tbody>\n",
       "\t<tr><td>chr1</td><td>3774714</td><td>3775214</td><td>CEP104|chr1:3691278-3691778:*</td><td>-0.29343</td><td>chr1:3774714-3775214</td><td>CEP104</td><td>chr1:3857213-3857214</td><td> TRUE</td><td>Ulirsch2016           </td><td>ENCODE-E2G_Benchmark</td><td>ENCODE-E2G_Benchmark:CEP104</td></tr>\n",
       "\t<tr><td>chr1</td><td>3774714</td><td>3775214</td><td>LRRC47|chr1:3691278-3691778:*</td><td>-0.33118</td><td>chr1:3774714-3775214</td><td>LRRC47</td><td>chr1:3796503-3796504</td><td> TRUE</td><td>Ulirsch2016           </td><td>ENCODE-E2G_Benchmark</td><td>ENCODE-E2G_Benchmark:LRRC47</td></tr>\n",
       "\t<tr><td>chr1</td><td>3774714</td><td>3775214</td><td>SMIM1|chr1:3691278-3691778:* </td><td>-0.47202</td><td>chr1:3774714-3775214</td><td>SMIM1 </td><td>chr1:3772761-3772762</td><td> TRUE</td><td>Ulirsch2016           </td><td>ENCODE-E2G_Benchmark</td><td>ENCODE-E2G_Benchmark:SMIM1 </td></tr>\n",
       "\t<tr><td>chr1</td><td>3803570</td><td>3805848</td><td>LRRC47|chr1:3720134-3722412:.</td><td>-0.00147</td><td>chr1:3803570-3805848</td><td>LRRC47</td><td>chr1:3796503-3796504</td><td>FALSE</td><td>Gasperini et al., 2019</td><td>ENCODE-E2G_Benchmark</td><td>ENCODE-E2G_Benchmark:LRRC47</td></tr>\n",
       "\t<tr><td>chr1</td><td>3803570</td><td>3805848</td><td>SMIM1|chr1:3720134-3722412:. </td><td> 0.02568</td><td>chr1:3803570-3805848</td><td>SMIM1 </td><td>chr1:3772788-3772789</td><td>FALSE</td><td>Gasperini et al., 2019</td><td>ENCODE-E2G_Benchmark</td><td>ENCODE-E2G_Benchmark:SMIM1 </td></tr>\n",
       "\t<tr><td>chr1</td><td>4126791</td><td>4127291</td><td>SMIM1|chr1:4186851-4187351:. </td><td> 0.02338</td><td>chr1:4126791-4127291</td><td>SMIM1 </td><td>chr1:3772788-3772789</td><td>FALSE</td><td>Gasperini et al., 2019</td><td>ENCODE-E2G_Benchmark</td><td>ENCODE-E2G_Benchmark:SMIM1 </td></tr>\n",
       "</tbody>\n",
       "</table>\n"
      ],
      "text/latex": [
       "A tibble: 6 × 12\n",
       "\\begin{tabular}{llllllllllll}\n",
       " Chrom & Start & End & Name & EffectSize & Region & Gene\\_Symbol & Gene\\_TSS & Regulated & Reference & Assay\\_Type & Assay\\_Label\\\\\n",
       " <chr> & <dbl> & <dbl> & <chr> & <dbl> & <chr> & <chr> & <chr> & <lgl> & <chr> & <chr> & <chr>\\\\\n",
       "\\hline\n",
       "\t chr1 & 3774714 & 3775214 & CEP104\\textbar{}chr1:3691278-3691778:* & -0.29343 & chr1:3774714-3775214 & CEP104 & chr1:3857213-3857214 &  TRUE & Ulirsch2016            & ENCODE-E2G\\_Benchmark & ENCODE-E2G\\_Benchmark:CEP104\\\\\n",
       "\t chr1 & 3774714 & 3775214 & LRRC47\\textbar{}chr1:3691278-3691778:* & -0.33118 & chr1:3774714-3775214 & LRRC47 & chr1:3796503-3796504 &  TRUE & Ulirsch2016            & ENCODE-E2G\\_Benchmark & ENCODE-E2G\\_Benchmark:LRRC47\\\\\n",
       "\t chr1 & 3774714 & 3775214 & SMIM1\\textbar{}chr1:3691278-3691778:*  & -0.47202 & chr1:3774714-3775214 & SMIM1  & chr1:3772761-3772762 &  TRUE & Ulirsch2016            & ENCODE-E2G\\_Benchmark & ENCODE-E2G\\_Benchmark:SMIM1 \\\\\n",
       "\t chr1 & 3803570 & 3805848 & LRRC47\\textbar{}chr1:3720134-3722412:. & -0.00147 & chr1:3803570-3805848 & LRRC47 & chr1:3796503-3796504 & FALSE & Gasperini et al., 2019 & ENCODE-E2G\\_Benchmark & ENCODE-E2G\\_Benchmark:LRRC47\\\\\n",
       "\t chr1 & 3803570 & 3805848 & SMIM1\\textbar{}chr1:3720134-3722412:.  &  0.02568 & chr1:3803570-3805848 & SMIM1  & chr1:3772788-3772789 & FALSE & Gasperini et al., 2019 & ENCODE-E2G\\_Benchmark & ENCODE-E2G\\_Benchmark:SMIM1 \\\\\n",
       "\t chr1 & 4126791 & 4127291 & SMIM1\\textbar{}chr1:4186851-4187351:.  &  0.02338 & chr1:4126791-4127291 & SMIM1  & chr1:3772788-3772789 & FALSE & Gasperini et al., 2019 & ENCODE-E2G\\_Benchmark & ENCODE-E2G\\_Benchmark:SMIM1 \\\\\n",
       "\\end{tabular}\n"
      ],
      "text/markdown": [
       "\n",
       "A tibble: 6 × 12\n",
       "\n",
       "| Chrom &lt;chr&gt; | Start &lt;dbl&gt; | End &lt;dbl&gt; | Name &lt;chr&gt; | EffectSize &lt;dbl&gt; | Region &lt;chr&gt; | Gene_Symbol &lt;chr&gt; | Gene_TSS &lt;chr&gt; | Regulated &lt;lgl&gt; | Reference &lt;chr&gt; | Assay_Type &lt;chr&gt; | Assay_Label &lt;chr&gt; |\n",
       "|---|---|---|---|---|---|---|---|---|---|---|---|\n",
       "| chr1 | 3774714 | 3775214 | CEP104|chr1:3691278-3691778:* | -0.29343 | chr1:3774714-3775214 | CEP104 | chr1:3857213-3857214 |  TRUE | Ulirsch2016            | ENCODE-E2G_Benchmark | ENCODE-E2G_Benchmark:CEP104 |\n",
       "| chr1 | 3774714 | 3775214 | LRRC47|chr1:3691278-3691778:* | -0.33118 | chr1:3774714-3775214 | LRRC47 | chr1:3796503-3796504 |  TRUE | Ulirsch2016            | ENCODE-E2G_Benchmark | ENCODE-E2G_Benchmark:LRRC47 |\n",
       "| chr1 | 3774714 | 3775214 | SMIM1|chr1:3691278-3691778:*  | -0.47202 | chr1:3774714-3775214 | SMIM1  | chr1:3772761-3772762 |  TRUE | Ulirsch2016            | ENCODE-E2G_Benchmark | ENCODE-E2G_Benchmark:SMIM1  |\n",
       "| chr1 | 3803570 | 3805848 | LRRC47|chr1:3720134-3722412:. | -0.00147 | chr1:3803570-3805848 | LRRC47 | chr1:3796503-3796504 | FALSE | Gasperini et al., 2019 | ENCODE-E2G_Benchmark | ENCODE-E2G_Benchmark:LRRC47 |\n",
       "| chr1 | 3803570 | 3805848 | SMIM1|chr1:3720134-3722412:.  |  0.02568 | chr1:3803570-3805848 | SMIM1  | chr1:3772788-3772789 | FALSE | Gasperini et al., 2019 | ENCODE-E2G_Benchmark | ENCODE-E2G_Benchmark:SMIM1  |\n",
       "| chr1 | 4126791 | 4127291 | SMIM1|chr1:4186851-4187351:.  |  0.02338 | chr1:4126791-4127291 | SMIM1  | chr1:3772788-3772789 | FALSE | Gasperini et al., 2019 | ENCODE-E2G_Benchmark | ENCODE-E2G_Benchmark:SMIM1  |\n",
       "\n"
      ],
      "text/plain": [
       "  Chrom Start   End     Name                          EffectSize\n",
       "1 chr1  3774714 3775214 CEP104|chr1:3691278-3691778:* -0.29343  \n",
       "2 chr1  3774714 3775214 LRRC47|chr1:3691278-3691778:* -0.33118  \n",
       "3 chr1  3774714 3775214 SMIM1|chr1:3691278-3691778:*  -0.47202  \n",
       "4 chr1  3803570 3805848 LRRC47|chr1:3720134-3722412:. -0.00147  \n",
       "5 chr1  3803570 3805848 SMIM1|chr1:3720134-3722412:.   0.02568  \n",
       "6 chr1  4126791 4127291 SMIM1|chr1:4186851-4187351:.   0.02338  \n",
       "  Region               Gene_Symbol Gene_TSS             Regulated\n",
       "1 chr1:3774714-3775214 CEP104      chr1:3857213-3857214  TRUE    \n",
       "2 chr1:3774714-3775214 LRRC47      chr1:3796503-3796504  TRUE    \n",
       "3 chr1:3774714-3775214 SMIM1       chr1:3772761-3772762  TRUE    \n",
       "4 chr1:3803570-3805848 LRRC47      chr1:3796503-3796504 FALSE    \n",
       "5 chr1:3803570-3805848 SMIM1       chr1:3772788-3772789 FALSE    \n",
       "6 chr1:4126791-4127291 SMIM1       chr1:3772788-3772789 FALSE    \n",
       "  Reference              Assay_Type           Assay_Label                \n",
       "1 Ulirsch2016            ENCODE-E2G_Benchmark ENCODE-E2G_Benchmark:CEP104\n",
       "2 Ulirsch2016            ENCODE-E2G_Benchmark ENCODE-E2G_Benchmark:LRRC47\n",
       "3 Ulirsch2016            ENCODE-E2G_Benchmark ENCODE-E2G_Benchmark:SMIM1 \n",
       "4 Gasperini et al., 2019 ENCODE-E2G_Benchmark ENCODE-E2G_Benchmark:LRRC47\n",
       "5 Gasperini et al., 2019 ENCODE-E2G_Benchmark ENCODE-E2G_Benchmark:SMIM1 \n",
       "6 Gasperini et al., 2019 ENCODE-E2G_Benchmark ENCODE-E2G_Benchmark:SMIM1 "
      ]
     },
     "metadata": {},
     "output_type": "display_data"
    }
   ],
   "source": [
    "fdiry = FD_OUT\n",
    "fname = \"K562.EPCrisprBenchmark.total.bed.gz\"\n",
    "fpath = file.path(fdiry, fname)\n",
    "print(fpath)\n",
    "\n",
    "dat = dat_peak_encode_e2g_total\n",
    "#colnames(dat)[1] = \"#Chrom\"\n",
    "write_tsv(dat, fpath, col_names = FALSE)\n",
    "head(dat)"
   ]
  },
  {
   "cell_type": "code",
   "execution_count": 39,
   "metadata": {},
   "outputs": [
    {
     "name": "stdout",
     "output_type": "stream",
     "text": [
      "[1] \"/data/reddylab/Kuei/out/proj_combeffect_encode_fcc/results/region/annotation_encode_e2g_benchmark/K562.EPCrisprBenchmark.active.bed.gz\"\n"
     ]
    },
    {
     "data": {
      "text/html": [
       "<table class=\"dataframe\">\n",
       "<caption>A tibble: 6 × 12</caption>\n",
       "<thead>\n",
       "\t<tr><th scope=col>Chrom</th><th scope=col>Start</th><th scope=col>End</th><th scope=col>Name</th><th scope=col>EffectSize</th><th scope=col>Region</th><th scope=col>Gene_Symbol</th><th scope=col>Gene_TSS</th><th scope=col>Regulated</th><th scope=col>Reference</th><th scope=col>Assay_Type</th><th scope=col>Assay_Label</th></tr>\n",
       "\t<tr><th scope=col>&lt;chr&gt;</th><th scope=col>&lt;dbl&gt;</th><th scope=col>&lt;dbl&gt;</th><th scope=col>&lt;chr&gt;</th><th scope=col>&lt;dbl&gt;</th><th scope=col>&lt;chr&gt;</th><th scope=col>&lt;chr&gt;</th><th scope=col>&lt;chr&gt;</th><th scope=col>&lt;lgl&gt;</th><th scope=col>&lt;chr&gt;</th><th scope=col>&lt;chr&gt;</th><th scope=col>&lt;chr&gt;</th></tr>\n",
       "</thead>\n",
       "<tbody>\n",
       "\t<tr><td>chr1</td><td> 3774714</td><td> 3775214</td><td>CEP104|chr1:3691278-3691778:*</td><td>-0.29343</td><td>chr1:3774714-3775214  </td><td>CEP104</td><td>chr1:3857213-3857214  </td><td>TRUE</td><td>Ulirsch2016           </td><td>ENCODE-E2G_Benchmark</td><td>ENCODE-E2G_Benchmark:CEP104</td></tr>\n",
       "\t<tr><td>chr1</td><td> 3774714</td><td> 3775214</td><td>LRRC47|chr1:3691278-3691778:*</td><td>-0.33118</td><td>chr1:3774714-3775214  </td><td>LRRC47</td><td>chr1:3796503-3796504  </td><td>TRUE</td><td>Ulirsch2016           </td><td>ENCODE-E2G_Benchmark</td><td>ENCODE-E2G_Benchmark:LRRC47</td></tr>\n",
       "\t<tr><td>chr1</td><td> 3774714</td><td> 3775214</td><td>SMIM1|chr1:3691278-3691778:* </td><td>-0.47202</td><td>chr1:3774714-3775214  </td><td>SMIM1 </td><td>chr1:3772761-3772762  </td><td>TRUE</td><td>Ulirsch2016           </td><td>ENCODE-E2G_Benchmark</td><td>ENCODE-E2G_Benchmark:SMIM1 </td></tr>\n",
       "\t<tr><td>chr1</td><td> 8858063</td><td> 8858563</td><td>ENO1|chr1:8918122-8918622:.  </td><td>-0.10741</td><td>chr1:8858063-8858563  </td><td>ENO1  </td><td>chr1:8879248-8879249  </td><td>TRUE</td><td>Gasperini et al., 2019</td><td>ENCODE-E2G_Benchmark</td><td>ENCODE-E2G_Benchmark:ENO1  </td></tr>\n",
       "\t<tr><td>chr1</td><td>17441310</td><td>17441810</td><td>SDHB|chr1:17767806-17768306:.</td><td>-0.08968</td><td>chr1:17441310-17441810</td><td>SDHB  </td><td>chr1:17054169-17054170</td><td>TRUE</td><td>Gasperini et al., 2019</td><td>ENCODE-E2G_Benchmark</td><td>ENCODE-E2G_Benchmark:SDHB  </td></tr>\n",
       "\t<tr><td>chr1</td><td>25933351</td><td>25933954</td><td>NUDC|chr1:26259842-26260445:.</td><td>-0.08462</td><td>chr1:25933351-25933954</td><td>NUDC  </td><td>chr1:26900238-26900239</td><td>TRUE</td><td>Gasperini et al., 2019</td><td>ENCODE-E2G_Benchmark</td><td>ENCODE-E2G_Benchmark:NUDC  </td></tr>\n",
       "</tbody>\n",
       "</table>\n"
      ],
      "text/latex": [
       "A tibble: 6 × 12\n",
       "\\begin{tabular}{llllllllllll}\n",
       " Chrom & Start & End & Name & EffectSize & Region & Gene\\_Symbol & Gene\\_TSS & Regulated & Reference & Assay\\_Type & Assay\\_Label\\\\\n",
       " <chr> & <dbl> & <dbl> & <chr> & <dbl> & <chr> & <chr> & <chr> & <lgl> & <chr> & <chr> & <chr>\\\\\n",
       "\\hline\n",
       "\t chr1 &  3774714 &  3775214 & CEP104\\textbar{}chr1:3691278-3691778:* & -0.29343 & chr1:3774714-3775214   & CEP104 & chr1:3857213-3857214   & TRUE & Ulirsch2016            & ENCODE-E2G\\_Benchmark & ENCODE-E2G\\_Benchmark:CEP104\\\\\n",
       "\t chr1 &  3774714 &  3775214 & LRRC47\\textbar{}chr1:3691278-3691778:* & -0.33118 & chr1:3774714-3775214   & LRRC47 & chr1:3796503-3796504   & TRUE & Ulirsch2016            & ENCODE-E2G\\_Benchmark & ENCODE-E2G\\_Benchmark:LRRC47\\\\\n",
       "\t chr1 &  3774714 &  3775214 & SMIM1\\textbar{}chr1:3691278-3691778:*  & -0.47202 & chr1:3774714-3775214   & SMIM1  & chr1:3772761-3772762   & TRUE & Ulirsch2016            & ENCODE-E2G\\_Benchmark & ENCODE-E2G\\_Benchmark:SMIM1 \\\\\n",
       "\t chr1 &  8858063 &  8858563 & ENO1\\textbar{}chr1:8918122-8918622:.   & -0.10741 & chr1:8858063-8858563   & ENO1   & chr1:8879248-8879249   & TRUE & Gasperini et al., 2019 & ENCODE-E2G\\_Benchmark & ENCODE-E2G\\_Benchmark:ENO1  \\\\\n",
       "\t chr1 & 17441310 & 17441810 & SDHB\\textbar{}chr1:17767806-17768306:. & -0.08968 & chr1:17441310-17441810 & SDHB   & chr1:17054169-17054170 & TRUE & Gasperini et al., 2019 & ENCODE-E2G\\_Benchmark & ENCODE-E2G\\_Benchmark:SDHB  \\\\\n",
       "\t chr1 & 25933351 & 25933954 & NUDC\\textbar{}chr1:26259842-26260445:. & -0.08462 & chr1:25933351-25933954 & NUDC   & chr1:26900238-26900239 & TRUE & Gasperini et al., 2019 & ENCODE-E2G\\_Benchmark & ENCODE-E2G\\_Benchmark:NUDC  \\\\\n",
       "\\end{tabular}\n"
      ],
      "text/markdown": [
       "\n",
       "A tibble: 6 × 12\n",
       "\n",
       "| Chrom &lt;chr&gt; | Start &lt;dbl&gt; | End &lt;dbl&gt; | Name &lt;chr&gt; | EffectSize &lt;dbl&gt; | Region &lt;chr&gt; | Gene_Symbol &lt;chr&gt; | Gene_TSS &lt;chr&gt; | Regulated &lt;lgl&gt; | Reference &lt;chr&gt; | Assay_Type &lt;chr&gt; | Assay_Label &lt;chr&gt; |\n",
       "|---|---|---|---|---|---|---|---|---|---|---|---|\n",
       "| chr1 |  3774714 |  3775214 | CEP104|chr1:3691278-3691778:* | -0.29343 | chr1:3774714-3775214   | CEP104 | chr1:3857213-3857214   | TRUE | Ulirsch2016            | ENCODE-E2G_Benchmark | ENCODE-E2G_Benchmark:CEP104 |\n",
       "| chr1 |  3774714 |  3775214 | LRRC47|chr1:3691278-3691778:* | -0.33118 | chr1:3774714-3775214   | LRRC47 | chr1:3796503-3796504   | TRUE | Ulirsch2016            | ENCODE-E2G_Benchmark | ENCODE-E2G_Benchmark:LRRC47 |\n",
       "| chr1 |  3774714 |  3775214 | SMIM1|chr1:3691278-3691778:*  | -0.47202 | chr1:3774714-3775214   | SMIM1  | chr1:3772761-3772762   | TRUE | Ulirsch2016            | ENCODE-E2G_Benchmark | ENCODE-E2G_Benchmark:SMIM1  |\n",
       "| chr1 |  8858063 |  8858563 | ENO1|chr1:8918122-8918622:.   | -0.10741 | chr1:8858063-8858563   | ENO1   | chr1:8879248-8879249   | TRUE | Gasperini et al., 2019 | ENCODE-E2G_Benchmark | ENCODE-E2G_Benchmark:ENO1   |\n",
       "| chr1 | 17441310 | 17441810 | SDHB|chr1:17767806-17768306:. | -0.08968 | chr1:17441310-17441810 | SDHB   | chr1:17054169-17054170 | TRUE | Gasperini et al., 2019 | ENCODE-E2G_Benchmark | ENCODE-E2G_Benchmark:SDHB   |\n",
       "| chr1 | 25933351 | 25933954 | NUDC|chr1:26259842-26260445:. | -0.08462 | chr1:25933351-25933954 | NUDC   | chr1:26900238-26900239 | TRUE | Gasperini et al., 2019 | ENCODE-E2G_Benchmark | ENCODE-E2G_Benchmark:NUDC   |\n",
       "\n"
      ],
      "text/plain": [
       "  Chrom Start    End      Name                          EffectSize\n",
       "1 chr1   3774714  3775214 CEP104|chr1:3691278-3691778:* -0.29343  \n",
       "2 chr1   3774714  3775214 LRRC47|chr1:3691278-3691778:* -0.33118  \n",
       "3 chr1   3774714  3775214 SMIM1|chr1:3691278-3691778:*  -0.47202  \n",
       "4 chr1   8858063  8858563 ENO1|chr1:8918122-8918622:.   -0.10741  \n",
       "5 chr1  17441310 17441810 SDHB|chr1:17767806-17768306:. -0.08968  \n",
       "6 chr1  25933351 25933954 NUDC|chr1:26259842-26260445:. -0.08462  \n",
       "  Region                 Gene_Symbol Gene_TSS               Regulated\n",
       "1 chr1:3774714-3775214   CEP104      chr1:3857213-3857214   TRUE     \n",
       "2 chr1:3774714-3775214   LRRC47      chr1:3796503-3796504   TRUE     \n",
       "3 chr1:3774714-3775214   SMIM1       chr1:3772761-3772762   TRUE     \n",
       "4 chr1:8858063-8858563   ENO1        chr1:8879248-8879249   TRUE     \n",
       "5 chr1:17441310-17441810 SDHB        chr1:17054169-17054170 TRUE     \n",
       "6 chr1:25933351-25933954 NUDC        chr1:26900238-26900239 TRUE     \n",
       "  Reference              Assay_Type           Assay_Label                \n",
       "1 Ulirsch2016            ENCODE-E2G_Benchmark ENCODE-E2G_Benchmark:CEP104\n",
       "2 Ulirsch2016            ENCODE-E2G_Benchmark ENCODE-E2G_Benchmark:LRRC47\n",
       "3 Ulirsch2016            ENCODE-E2G_Benchmark ENCODE-E2G_Benchmark:SMIM1 \n",
       "4 Gasperini et al., 2019 ENCODE-E2G_Benchmark ENCODE-E2G_Benchmark:ENO1  \n",
       "5 Gasperini et al., 2019 ENCODE-E2G_Benchmark ENCODE-E2G_Benchmark:SDHB  \n",
       "6 Gasperini et al., 2019 ENCODE-E2G_Benchmark ENCODE-E2G_Benchmark:NUDC  "
      ]
     },
     "metadata": {},
     "output_type": "display_data"
    }
   ],
   "source": [
    "fdiry = FD_OUT\n",
    "fname = \"K562.EPCrisprBenchmark.active.bed.gz\"\n",
    "fpath = file.path(fdiry, fname)\n",
    "print(fpath)\n",
    "\n",
    "dat = dat_peak_encode_e2g_active\n",
    "#colnames(dat)[1] = \"#Chrom\"\n",
    "write_tsv(dat, fpath, col_names = FALSE)\n",
    "head(dat)"
   ]
  },
  {
   "cell_type": "code",
   "execution_count": 40,
   "metadata": {},
   "outputs": [
    {
     "name": "stdout",
     "output_type": "stream",
     "text": [
      "[1] \"/data/reddylab/Kuei/out/proj_combeffect_encode_fcc/results/region/annotation_encode_e2g_benchmark/K562.EPCrisprBenchmark.active.region2TSS_Original.bedpe.gz\"\n",
      "\n",
      "[1] 472\n",
      "\u001b[90m# A tibble: 6 × 13\u001b[39m\n",
      "  `#chrom` chromStart chromEnd chrTSS startTSS   endTSS name  EffectSize Strand1\n",
      "  \u001b[3m\u001b[90m<chr>\u001b[39m\u001b[23m         \u001b[3m\u001b[90m<dbl>\u001b[39m\u001b[23m    \u001b[3m\u001b[90m<dbl>\u001b[39m\u001b[23m \u001b[3m\u001b[90m<chr>\u001b[39m\u001b[23m     \u001b[3m\u001b[90m<dbl>\u001b[39m\u001b[23m    \u001b[3m\u001b[90m<dbl>\u001b[39m\u001b[23m \u001b[3m\u001b[90m<chr>\u001b[39m\u001b[23m      \u001b[3m\u001b[90m<dbl>\u001b[39m\u001b[23m \u001b[3m\u001b[90m<chr>\u001b[39m\u001b[23m  \n",
      "\u001b[90m1\u001b[39m chr1        3\u001b[4m7\u001b[24m\u001b[4m7\u001b[24m\u001b[4m4\u001b[24m714  3\u001b[4m7\u001b[24m\u001b[4m7\u001b[24m\u001b[4m5\u001b[24m214 chr1    3\u001b[4m8\u001b[24m\u001b[4m5\u001b[24m\u001b[4m7\u001b[24m213  3\u001b[4m8\u001b[24m\u001b[4m5\u001b[24m\u001b[4m7\u001b[24m214 CEP1…    -\u001b[31m0\u001b[39m\u001b[31m.\u001b[39m\u001b[31m293\u001b[39m  .      \n",
      "\u001b[90m2\u001b[39m chr1        3\u001b[4m7\u001b[24m\u001b[4m7\u001b[24m\u001b[4m4\u001b[24m714  3\u001b[4m7\u001b[24m\u001b[4m7\u001b[24m\u001b[4m5\u001b[24m214 chr1    3\u001b[4m7\u001b[24m\u001b[4m9\u001b[24m\u001b[4m6\u001b[24m503  3\u001b[4m7\u001b[24m\u001b[4m9\u001b[24m\u001b[4m6\u001b[24m504 LRRC…    -\u001b[31m0\u001b[39m\u001b[31m.\u001b[39m\u001b[31m331\u001b[39m  .      \n",
      "\u001b[90m3\u001b[39m chr1        3\u001b[4m7\u001b[24m\u001b[4m7\u001b[24m\u001b[4m4\u001b[24m714  3\u001b[4m7\u001b[24m\u001b[4m7\u001b[24m\u001b[4m5\u001b[24m214 chr1    3\u001b[4m7\u001b[24m\u001b[4m7\u001b[24m\u001b[4m2\u001b[24m761  3\u001b[4m7\u001b[24m\u001b[4m7\u001b[24m\u001b[4m2\u001b[24m762 SMIM…    -\u001b[31m0\u001b[39m\u001b[31m.\u001b[39m\u001b[31m472\u001b[39m  .      \n",
      "\u001b[90m4\u001b[39m chr1        8\u001b[4m8\u001b[24m\u001b[4m5\u001b[24m\u001b[4m8\u001b[24m063  8\u001b[4m8\u001b[24m\u001b[4m5\u001b[24m\u001b[4m8\u001b[24m563 chr1    8\u001b[4m8\u001b[24m\u001b[4m7\u001b[24m\u001b[4m9\u001b[24m248  8\u001b[4m8\u001b[24m\u001b[4m7\u001b[24m\u001b[4m9\u001b[24m249 ENO1…    -\u001b[31m0\u001b[39m\u001b[31m.\u001b[39m\u001b[31m107\u001b[39m  .      \n",
      "\u001b[90m5\u001b[39m chr1       17\u001b[4m4\u001b[24m\u001b[4m4\u001b[24m\u001b[4m1\u001b[24m310 17\u001b[4m4\u001b[24m\u001b[4m4\u001b[24m\u001b[4m1\u001b[24m810 chr1   17\u001b[4m0\u001b[24m\u001b[4m5\u001b[24m\u001b[4m4\u001b[24m169 17\u001b[4m0\u001b[24m\u001b[4m5\u001b[24m\u001b[4m4\u001b[24m170 SDHB…    -\u001b[31m0\u001b[39m\u001b[31m.\u001b[39m\u001b[31m0\u001b[39m\u001b[31m89\u001b[4m7\u001b[24m\u001b[39m .      \n",
      "\u001b[90m6\u001b[39m chr1       25\u001b[4m9\u001b[24m\u001b[4m3\u001b[24m\u001b[4m3\u001b[24m351 25\u001b[4m9\u001b[24m\u001b[4m3\u001b[24m\u001b[4m3\u001b[24m954 chr1   26\u001b[4m9\u001b[24m\u001b[4m0\u001b[24m\u001b[4m0\u001b[24m238 26\u001b[4m9\u001b[24m\u001b[4m0\u001b[24m\u001b[4m0\u001b[24m239 NUDC…    -\u001b[31m0\u001b[39m\u001b[31m.\u001b[39m\u001b[31m0\u001b[39m\u001b[31m84\u001b[4m6\u001b[24m\u001b[39m .      \n",
      "\u001b[90m# ℹ 4 more variables: Strand2 <chr>, Gene_Symbol <chr>, Gene_TSS <chr>,\u001b[39m\n",
      "\u001b[90m#   Reference <chr>\u001b[39m\n",
      "\n",
      "[1] \"/data/reddylab/Kuei/out/proj_combeffect_encode_fcc/results/region/annotation_encode_e2g_benchmark/K562.EPCrisprBenchmark.total.region2TSS_Original.bedpe.gz\"\n",
      "\n",
      "[1] 10294\n",
      "\u001b[90m# A tibble: 6 × 13\u001b[39m\n",
      "  `#chrom` chromStart chromEnd chrTSS startTSS  endTSS name   EffectSize Strand1\n",
      "  \u001b[3m\u001b[90m<chr>\u001b[39m\u001b[23m         \u001b[3m\u001b[90m<dbl>\u001b[39m\u001b[23m    \u001b[3m\u001b[90m<dbl>\u001b[39m\u001b[23m \u001b[3m\u001b[90m<chr>\u001b[39m\u001b[23m     \u001b[3m\u001b[90m<dbl>\u001b[39m\u001b[23m   \u001b[3m\u001b[90m<dbl>\u001b[39m\u001b[23m \u001b[3m\u001b[90m<chr>\u001b[39m\u001b[23m       \u001b[3m\u001b[90m<dbl>\u001b[39m\u001b[23m \u001b[3m\u001b[90m<chr>\u001b[39m\u001b[23m  \n",
      "\u001b[90m1\u001b[39m chr1        3\u001b[4m7\u001b[24m\u001b[4m7\u001b[24m\u001b[4m4\u001b[24m714  3\u001b[4m7\u001b[24m\u001b[4m7\u001b[24m\u001b[4m5\u001b[24m214 chr1    3\u001b[4m8\u001b[24m\u001b[4m5\u001b[24m\u001b[4m7\u001b[24m213 3\u001b[4m8\u001b[24m\u001b[4m5\u001b[24m\u001b[4m7\u001b[24m214 CEP10…   -\u001b[31m0\u001b[39m\u001b[31m.\u001b[39m\u001b[31m293\u001b[39m   .      \n",
      "\u001b[90m2\u001b[39m chr1        3\u001b[4m7\u001b[24m\u001b[4m7\u001b[24m\u001b[4m4\u001b[24m714  3\u001b[4m7\u001b[24m\u001b[4m7\u001b[24m\u001b[4m5\u001b[24m214 chr1    3\u001b[4m7\u001b[24m\u001b[4m9\u001b[24m\u001b[4m6\u001b[24m503 3\u001b[4m7\u001b[24m\u001b[4m9\u001b[24m\u001b[4m6\u001b[24m504 LRRC4…   -\u001b[31m0\u001b[39m\u001b[31m.\u001b[39m\u001b[31m331\u001b[39m   .      \n",
      "\u001b[90m3\u001b[39m chr1        3\u001b[4m7\u001b[24m\u001b[4m7\u001b[24m\u001b[4m4\u001b[24m714  3\u001b[4m7\u001b[24m\u001b[4m7\u001b[24m\u001b[4m5\u001b[24m214 chr1    3\u001b[4m7\u001b[24m\u001b[4m7\u001b[24m\u001b[4m2\u001b[24m761 3\u001b[4m7\u001b[24m\u001b[4m7\u001b[24m\u001b[4m2\u001b[24m762 SMIM1…   -\u001b[31m0\u001b[39m\u001b[31m.\u001b[39m\u001b[31m472\u001b[39m   .      \n",
      "\u001b[90m4\u001b[39m chr1        3\u001b[4m8\u001b[24m\u001b[4m0\u001b[24m\u001b[4m3\u001b[24m570  3\u001b[4m8\u001b[24m\u001b[4m0\u001b[24m\u001b[4m5\u001b[24m848 chr1    3\u001b[4m7\u001b[24m\u001b[4m9\u001b[24m\u001b[4m6\u001b[24m503 3\u001b[4m7\u001b[24m\u001b[4m9\u001b[24m\u001b[4m6\u001b[24m504 LRRC4…   -\u001b[31m0\u001b[39m\u001b[31m.\u001b[39m\u001b[31m00\u001b[39m\u001b[31m1\u001b[4m4\u001b[24m\u001b[4m7\u001b[24m\u001b[39m .      \n",
      "\u001b[90m5\u001b[39m chr1        3\u001b[4m8\u001b[24m\u001b[4m0\u001b[24m\u001b[4m3\u001b[24m570  3\u001b[4m8\u001b[24m\u001b[4m0\u001b[24m\u001b[4m5\u001b[24m848 chr1    3\u001b[4m7\u001b[24m\u001b[4m7\u001b[24m\u001b[4m2\u001b[24m788 3\u001b[4m7\u001b[24m\u001b[4m7\u001b[24m\u001b[4m2\u001b[24m789 SMIM1…    0.025\u001b[4m7\u001b[24m  .      \n",
      "\u001b[90m6\u001b[39m chr1        4\u001b[4m1\u001b[24m\u001b[4m2\u001b[24m\u001b[4m6\u001b[24m791  4\u001b[4m1\u001b[24m\u001b[4m2\u001b[24m\u001b[4m7\u001b[24m291 chr1    3\u001b[4m7\u001b[24m\u001b[4m7\u001b[24m\u001b[4m2\u001b[24m788 3\u001b[4m7\u001b[24m\u001b[4m7\u001b[24m\u001b[4m2\u001b[24m789 SMIM1…    0.023\u001b[4m4\u001b[24m  .      \n",
      "\u001b[90m# ℹ 4 more variables: Strand2 <chr>, Gene_Symbol <chr>, Gene_TSS <chr>,\u001b[39m\n",
      "\u001b[90m#   Reference <chr>\u001b[39m\n",
      "\n"
     ]
    }
   ],
   "source": [
    "lst = lst_dat_peak_encode_e2g_bedpe\n",
    "for (txt in names(lst)){\n",
    "    fdiry = FD_OUT\n",
    "    fname = paste(\"K562.EPCrisprBenchmark\", txt, \"region2TSS_Original.bedpe.gz\", sep=\".\")\n",
    "    fpath = file.path(fdiry, fname)\n",
    "    print(fpath)\n",
    "    cat(\"\\n\")\n",
    "\n",
    "    dat = lst[[txt]]\n",
    "    colnames(dat)[1] = \"#chrom\"\n",
    "    write_tsv(dat, fpath)\n",
    "    print(nrow(dat))\n",
    "    print(head(dat))\n",
    "    cat(\"\\n\")\n",
    "}"
   ]
  },
  {
   "cell_type": "code",
   "execution_count": 41,
   "metadata": {},
   "outputs": [
    {
     "name": "stdout",
     "output_type": "stream",
     "text": [
      "[1] \"/data/reddylab/Kuei/out/proj_combeffect_encode_fcc/results/region/annotation_encode_e2g_benchmark/K562.EPCrisprBenchmark.active.region2TSS_Original.bed\"\n",
      "\n",
      "[1] 472\n",
      "\u001b[90m# A tibble: 6 × 18\u001b[39m\n",
      "  `#chrom` chromStart chromEnd name          score value exp   color sourceChrom\n",
      "  \u001b[3m\u001b[90m<chr>\u001b[39m\u001b[23m         \u001b[3m\u001b[90m<dbl>\u001b[39m\u001b[23m    \u001b[3m\u001b[90m<dbl>\u001b[39m\u001b[23m \u001b[3m\u001b[90m<chr>\u001b[39m\u001b[23m         \u001b[3m\u001b[90m<dbl>\u001b[39m\u001b[23m \u001b[3m\u001b[90m<dbl>\u001b[39m\u001b[23m \u001b[3m\u001b[90m<chr>\u001b[39m\u001b[23m \u001b[3m\u001b[90m<chr>\u001b[39m\u001b[23m \u001b[3m\u001b[90m<chr>\u001b[39m\u001b[23m      \n",
      "\u001b[90m1\u001b[39m chr1        3\u001b[4m7\u001b[24m\u001b[4m7\u001b[24m\u001b[4m4\u001b[24m714  3\u001b[4m7\u001b[24m\u001b[4m7\u001b[24m\u001b[4m5\u001b[24m214 CEP104|chr1:…  \u001b[4m1\u001b[24m000     1 .     .     chr1       \n",
      "\u001b[90m2\u001b[39m chr1        3\u001b[4m7\u001b[24m\u001b[4m7\u001b[24m\u001b[4m4\u001b[24m714  3\u001b[4m7\u001b[24m\u001b[4m7\u001b[24m\u001b[4m5\u001b[24m214 LRRC47|chr1:…  \u001b[4m1\u001b[24m000     1 .     .     chr1       \n",
      "\u001b[90m3\u001b[39m chr1        3\u001b[4m7\u001b[24m\u001b[4m7\u001b[24m\u001b[4m4\u001b[24m714  3\u001b[4m7\u001b[24m\u001b[4m7\u001b[24m\u001b[4m5\u001b[24m214 SMIM1|chr1:3…  \u001b[4m1\u001b[24m000     1 .     .     chr1       \n",
      "\u001b[90m4\u001b[39m chr1        8\u001b[4m8\u001b[24m\u001b[4m5\u001b[24m\u001b[4m8\u001b[24m063  8\u001b[4m8\u001b[24m\u001b[4m5\u001b[24m\u001b[4m8\u001b[24m563 ENO1|chr1:89…  \u001b[4m1\u001b[24m000     1 .     .     chr1       \n",
      "\u001b[90m5\u001b[39m chr1       17\u001b[4m4\u001b[24m\u001b[4m4\u001b[24m\u001b[4m1\u001b[24m310 17\u001b[4m4\u001b[24m\u001b[4m4\u001b[24m\u001b[4m1\u001b[24m810 SDHB|chr1:17…  \u001b[4m1\u001b[24m000     1 .     .     chr1       \n",
      "\u001b[90m6\u001b[39m chr1       25\u001b[4m9\u001b[24m\u001b[4m3\u001b[24m\u001b[4m3\u001b[24m351 25\u001b[4m9\u001b[24m\u001b[4m3\u001b[24m\u001b[4m3\u001b[24m954 NUDC|chr1:26…  \u001b[4m1\u001b[24m000     1 .     .     chr1       \n",
      "\u001b[90m# ℹ 9 more variables: sourceStart <dbl>, sourceEnd <dbl>, sourceName <chr>,\u001b[39m\n",
      "\u001b[90m#   sourceStrand <chr>, targetChrom <chr>, targetStart <dbl>, targetEnd <dbl>,\u001b[39m\n",
      "\u001b[90m#   targetName <chr>, targetStrand <chr>\u001b[39m\n",
      "\n",
      "[1] \"/data/reddylab/Kuei/out/proj_combeffect_encode_fcc/results/region/annotation_encode_e2g_benchmark/K562.EPCrisprBenchmark.total.region2TSS_Original.bed\"\n",
      "\n",
      "[1] 10294\n",
      "\u001b[90m# A tibble: 6 × 18\u001b[39m\n",
      "  `#chrom` chromStart chromEnd name          score value exp   color sourceChrom\n",
      "  \u001b[3m\u001b[90m<chr>\u001b[39m\u001b[23m         \u001b[3m\u001b[90m<dbl>\u001b[39m\u001b[23m    \u001b[3m\u001b[90m<dbl>\u001b[39m\u001b[23m \u001b[3m\u001b[90m<chr>\u001b[39m\u001b[23m         \u001b[3m\u001b[90m<dbl>\u001b[39m\u001b[23m \u001b[3m\u001b[90m<dbl>\u001b[39m\u001b[23m \u001b[3m\u001b[90m<chr>\u001b[39m\u001b[23m \u001b[3m\u001b[90m<chr>\u001b[39m\u001b[23m \u001b[3m\u001b[90m<chr>\u001b[39m\u001b[23m      \n",
      "\u001b[90m1\u001b[39m chr1        3\u001b[4m7\u001b[24m\u001b[4m7\u001b[24m\u001b[4m4\u001b[24m714  3\u001b[4m7\u001b[24m\u001b[4m7\u001b[24m\u001b[4m5\u001b[24m214 CEP104|chr1:…  \u001b[4m1\u001b[24m000     1 .     .     chr1       \n",
      "\u001b[90m2\u001b[39m chr1        3\u001b[4m7\u001b[24m\u001b[4m7\u001b[24m\u001b[4m4\u001b[24m714  3\u001b[4m7\u001b[24m\u001b[4m7\u001b[24m\u001b[4m5\u001b[24m214 LRRC47|chr1:…  \u001b[4m1\u001b[24m000     1 .     .     chr1       \n",
      "\u001b[90m3\u001b[39m chr1        3\u001b[4m7\u001b[24m\u001b[4m7\u001b[24m\u001b[4m4\u001b[24m714  3\u001b[4m7\u001b[24m\u001b[4m7\u001b[24m\u001b[4m5\u001b[24m214 SMIM1|chr1:3…  \u001b[4m1\u001b[24m000     1 .     .     chr1       \n",
      "\u001b[90m4\u001b[39m chr1        3\u001b[4m8\u001b[24m\u001b[4m0\u001b[24m\u001b[4m3\u001b[24m570  3\u001b[4m8\u001b[24m\u001b[4m0\u001b[24m\u001b[4m5\u001b[24m848 LRRC47|chr1:…  \u001b[4m1\u001b[24m000     1 .     .     chr1       \n",
      "\u001b[90m5\u001b[39m chr1        3\u001b[4m8\u001b[24m\u001b[4m0\u001b[24m\u001b[4m3\u001b[24m570  3\u001b[4m8\u001b[24m\u001b[4m0\u001b[24m\u001b[4m5\u001b[24m848 SMIM1|chr1:3…  \u001b[4m1\u001b[24m000     1 .     .     chr1       \n",
      "\u001b[90m6\u001b[39m chr1        4\u001b[4m1\u001b[24m\u001b[4m2\u001b[24m\u001b[4m6\u001b[24m791  4\u001b[4m1\u001b[24m\u001b[4m2\u001b[24m\u001b[4m7\u001b[24m291 SMIM1|chr1:4…  \u001b[4m1\u001b[24m000     1 .     .     chr1       \n",
      "\u001b[90m# ℹ 9 more variables: sourceStart <dbl>, sourceEnd <dbl>, sourceName <chr>,\u001b[39m\n",
      "\u001b[90m#   sourceStrand <chr>, targetChrom <chr>, targetStart <dbl>, targetEnd <dbl>,\u001b[39m\n",
      "\u001b[90m#   targetName <chr>, targetStrand <chr>\u001b[39m\n",
      "\n"
     ]
    }
   ],
   "source": [
    "lst = lst_dat_peak_encode_e2g_interact\n",
    "for (txt in names(lst)){\n",
    "    fdiry = FD_OUT\n",
    "    fname = paste(\"K562.EPCrisprBenchmark\", txt, \"region2TSS_Original.bed\", sep=\".\")\n",
    "    fpath = file.path(fdiry, fname)\n",
    "    print(fpath)\n",
    "    cat(\"\\n\")\n",
    "\n",
    "    dat = lst[[txt]]\n",
    "    colnames(dat)[1] = \"#chrom\"\n",
    "    write_tsv(dat, fpath)\n",
    "    print(nrow(dat))\n",
    "    print(head(dat))\n",
    "    cat(\"\\n\")\n",
    "}"
   ]
  },
  {
   "cell_type": "code",
   "execution_count": 42,
   "metadata": {},
   "outputs": [
    {
     "name": "stdout",
     "output_type": "stream",
     "text": [
      "[1] \"/data/reddylab/Kuei/out/proj_combeffect_encode_fcc/results/region/annotation_encode_e2g_benchmark/K562.EPCrisprBenchmark.active.region2TSS_Updated.bedpe.gz\"\n",
      "\n",
      "[1] 450\n",
      "\u001b[90m# A tibble: 6 × 13\u001b[39m\n",
      "  `#chrom` chromStart chromEnd chrTSS startTSS endTSS   name  EffectSize Strand1\n",
      "  \u001b[3m\u001b[90m<chr>\u001b[39m\u001b[23m         \u001b[3m\u001b[90m<dbl>\u001b[39m\u001b[23m    \u001b[3m\u001b[90m<dbl>\u001b[39m\u001b[23m \u001b[3m\u001b[90m<chr>\u001b[39m\u001b[23m  \u001b[3m\u001b[90m<chr>\u001b[39m\u001b[23m    \u001b[3m\u001b[90m<chr>\u001b[39m\u001b[23m    \u001b[3m\u001b[90m<chr>\u001b[39m\u001b[23m      \u001b[3m\u001b[90m<dbl>\u001b[39m\u001b[23m \u001b[3m\u001b[90m<chr>\u001b[39m\u001b[23m  \n",
      "\u001b[90m1\u001b[39m chr1        3\u001b[4m7\u001b[24m\u001b[4m7\u001b[24m\u001b[4m4\u001b[24m714  3\u001b[4m7\u001b[24m\u001b[4m7\u001b[24m\u001b[4m5\u001b[24m214 chr1   3857211  3857212  CEP1…    -\u001b[31m0\u001b[39m\u001b[31m.\u001b[39m\u001b[31m293\u001b[39m  .      \n",
      "\u001b[90m2\u001b[39m chr1        3\u001b[4m7\u001b[24m\u001b[4m7\u001b[24m\u001b[4m4\u001b[24m714  3\u001b[4m7\u001b[24m\u001b[4m7\u001b[24m\u001b[4m5\u001b[24m214 chr1   3796498  3796499  LRRC…    -\u001b[31m0\u001b[39m\u001b[31m.\u001b[39m\u001b[31m331\u001b[39m  .      \n",
      "\u001b[90m3\u001b[39m chr1        3\u001b[4m7\u001b[24m\u001b[4m7\u001b[24m\u001b[4m4\u001b[24m714  3\u001b[4m7\u001b[24m\u001b[4m7\u001b[24m\u001b[4m5\u001b[24m214 chr1   3772748  3772749  SMIM…    -\u001b[31m0\u001b[39m\u001b[31m.\u001b[39m\u001b[31m472\u001b[39m  .      \n",
      "\u001b[90m4\u001b[39m chr1        8\u001b[4m8\u001b[24m\u001b[4m5\u001b[24m\u001b[4m8\u001b[24m063  8\u001b[4m8\u001b[24m\u001b[4m5\u001b[24m\u001b[4m8\u001b[24m563 chr1   8878686  8878687  ENO1…    -\u001b[31m0\u001b[39m\u001b[31m.\u001b[39m\u001b[31m107\u001b[39m  .      \n",
      "\u001b[90m5\u001b[39m chr1       17\u001b[4m4\u001b[24m\u001b[4m4\u001b[24m\u001b[4m1\u001b[24m310 17\u001b[4m4\u001b[24m\u001b[4m4\u001b[24m\u001b[4m1\u001b[24m810 chr1   17054032 17054033 SDHB…    -\u001b[31m0\u001b[39m\u001b[31m.\u001b[39m\u001b[31m0\u001b[39m\u001b[31m89\u001b[4m7\u001b[24m\u001b[39m .      \n",
      "\u001b[90m6\u001b[39m chr1       25\u001b[4m9\u001b[24m\u001b[4m3\u001b[24m\u001b[4m3\u001b[24m351 25\u001b[4m9\u001b[24m\u001b[4m3\u001b[24m\u001b[4m3\u001b[24m954 chr1   26921742 26921743 NUDC…    -\u001b[31m0\u001b[39m\u001b[31m.\u001b[39m\u001b[31m0\u001b[39m\u001b[31m84\u001b[4m6\u001b[24m\u001b[39m .      \n",
      "\u001b[90m# ℹ 4 more variables: Strand2 <chr>, Gene_Symbol <chr>, Gene_TSS <chr>,\u001b[39m\n",
      "\u001b[90m#   Reference <chr>\u001b[39m\n",
      "\n",
      "[1] \"/data/reddylab/Kuei/out/proj_combeffect_encode_fcc/results/region/annotation_encode_e2g_benchmark/K562.EPCrisprBenchmark.total.region2TSS_Updated.bedpe.gz\"\n",
      "\n",
      "[1] 9930\n",
      "\u001b[90m# A tibble: 6 × 13\u001b[39m\n",
      "  `#chrom` chromStart chromEnd chrTSS startTSS endTSS  name   EffectSize Strand1\n",
      "  \u001b[3m\u001b[90m<chr>\u001b[39m\u001b[23m         \u001b[3m\u001b[90m<dbl>\u001b[39m\u001b[23m    \u001b[3m\u001b[90m<dbl>\u001b[39m\u001b[23m \u001b[3m\u001b[90m<chr>\u001b[39m\u001b[23m  \u001b[3m\u001b[90m<chr>\u001b[39m\u001b[23m    \u001b[3m\u001b[90m<chr>\u001b[39m\u001b[23m   \u001b[3m\u001b[90m<chr>\u001b[39m\u001b[23m       \u001b[3m\u001b[90m<dbl>\u001b[39m\u001b[23m \u001b[3m\u001b[90m<chr>\u001b[39m\u001b[23m  \n",
      "\u001b[90m1\u001b[39m chr1        3\u001b[4m7\u001b[24m\u001b[4m7\u001b[24m\u001b[4m4\u001b[24m714  3\u001b[4m7\u001b[24m\u001b[4m7\u001b[24m\u001b[4m5\u001b[24m214 chr1   3857211  3857212 CEP10…   -\u001b[31m0\u001b[39m\u001b[31m.\u001b[39m\u001b[31m293\u001b[39m   .      \n",
      "\u001b[90m2\u001b[39m chr1        3\u001b[4m7\u001b[24m\u001b[4m7\u001b[24m\u001b[4m4\u001b[24m714  3\u001b[4m7\u001b[24m\u001b[4m7\u001b[24m\u001b[4m5\u001b[24m214 chr1   3796498  3796499 LRRC4…   -\u001b[31m0\u001b[39m\u001b[31m.\u001b[39m\u001b[31m331\u001b[39m   .      \n",
      "\u001b[90m3\u001b[39m chr1        3\u001b[4m7\u001b[24m\u001b[4m7\u001b[24m\u001b[4m4\u001b[24m714  3\u001b[4m7\u001b[24m\u001b[4m7\u001b[24m\u001b[4m5\u001b[24m214 chr1   3772748  3772749 SMIM1…   -\u001b[31m0\u001b[39m\u001b[31m.\u001b[39m\u001b[31m472\u001b[39m   .      \n",
      "\u001b[90m4\u001b[39m chr1        3\u001b[4m8\u001b[24m\u001b[4m0\u001b[24m\u001b[4m3\u001b[24m570  3\u001b[4m8\u001b[24m\u001b[4m0\u001b[24m\u001b[4m5\u001b[24m848 chr1   3796498  3796499 LRRC4…   -\u001b[31m0\u001b[39m\u001b[31m.\u001b[39m\u001b[31m00\u001b[39m\u001b[31m1\u001b[4m4\u001b[24m\u001b[4m7\u001b[24m\u001b[39m .      \n",
      "\u001b[90m5\u001b[39m chr1        3\u001b[4m8\u001b[24m\u001b[4m0\u001b[24m\u001b[4m3\u001b[24m570  3\u001b[4m8\u001b[24m\u001b[4m0\u001b[24m\u001b[4m5\u001b[24m848 chr1   3772748  3772749 SMIM1…    0.025\u001b[4m7\u001b[24m  .      \n",
      "\u001b[90m6\u001b[39m chr1        4\u001b[4m1\u001b[24m\u001b[4m2\u001b[24m\u001b[4m6\u001b[24m791  4\u001b[4m1\u001b[24m\u001b[4m2\u001b[24m\u001b[4m7\u001b[24m291 chr1   3772748  3772749 SMIM1…    0.023\u001b[4m4\u001b[24m  .      \n",
      "\u001b[90m# ℹ 4 more variables: Strand2 <chr>, Gene_Symbol <chr>, Gene_TSS <chr>,\u001b[39m\n",
      "\u001b[90m#   Reference <chr>\u001b[39m\n",
      "\n"
     ]
    }
   ],
   "source": [
    "lst = lst_dat_peak_encode_e2g_bedpe_updateTSS\n",
    "for (txt in names(lst)){\n",
    "    fdiry = FD_OUT\n",
    "    fname = paste(\"K562.EPCrisprBenchmark\", txt, \"region2TSS_Updated.bedpe.gz\", sep=\".\")\n",
    "    fpath = file.path(fdiry, fname)\n",
    "    print(fpath)\n",
    "    cat(\"\\n\")\n",
    "\n",
    "    dat = lst[[txt]]\n",
    "    colnames(dat)[1] = \"#chrom\"\n",
    "    write_tsv(dat, fpath)\n",
    "    print(nrow(dat))\n",
    "    print(head(dat))\n",
    "    cat(\"\\n\")\n",
    "}"
   ]
  },
  {
   "cell_type": "code",
   "execution_count": 43,
   "metadata": {},
   "outputs": [
    {
     "name": "stdout",
     "output_type": "stream",
     "text": [
      "[1] \"/data/reddylab/Kuei/out/proj_combeffect_encode_fcc/results/region/annotation_encode_e2g_benchmark/K562.EPCrisprBenchmark.active.region2TSS_Updated.bed\"\n",
      "\n",
      "[1] 450\n",
      "\u001b[90m# A tibble: 6 × 18\u001b[39m\n",
      "  `#chrom` chromStart chromEnd name          score value exp   color sourceChrom\n",
      "  \u001b[3m\u001b[90m<chr>\u001b[39m\u001b[23m         \u001b[3m\u001b[90m<dbl>\u001b[39m\u001b[23m    \u001b[3m\u001b[90m<dbl>\u001b[39m\u001b[23m \u001b[3m\u001b[90m<chr>\u001b[39m\u001b[23m         \u001b[3m\u001b[90m<dbl>\u001b[39m\u001b[23m \u001b[3m\u001b[90m<dbl>\u001b[39m\u001b[23m \u001b[3m\u001b[90m<chr>\u001b[39m\u001b[23m \u001b[3m\u001b[90m<chr>\u001b[39m\u001b[23m \u001b[3m\u001b[90m<chr>\u001b[39m\u001b[23m      \n",
      "\u001b[90m1\u001b[39m chr1        3\u001b[4m7\u001b[24m\u001b[4m7\u001b[24m\u001b[4m4\u001b[24m714  3\u001b[4m7\u001b[24m\u001b[4m7\u001b[24m\u001b[4m5\u001b[24m214 CEP104|chr1:…  \u001b[4m1\u001b[24m000     1 .     .     chr1       \n",
      "\u001b[90m2\u001b[39m chr1        3\u001b[4m7\u001b[24m\u001b[4m7\u001b[24m\u001b[4m4\u001b[24m714  3\u001b[4m7\u001b[24m\u001b[4m7\u001b[24m\u001b[4m5\u001b[24m214 LRRC47|chr1:…  \u001b[4m1\u001b[24m000     1 .     .     chr1       \n",
      "\u001b[90m3\u001b[39m chr1        3\u001b[4m7\u001b[24m\u001b[4m7\u001b[24m\u001b[4m4\u001b[24m714  3\u001b[4m7\u001b[24m\u001b[4m7\u001b[24m\u001b[4m5\u001b[24m214 SMIM1|chr1:3…  \u001b[4m1\u001b[24m000     1 .     .     chr1       \n",
      "\u001b[90m4\u001b[39m chr1        8\u001b[4m8\u001b[24m\u001b[4m5\u001b[24m\u001b[4m8\u001b[24m063  8\u001b[4m8\u001b[24m\u001b[4m5\u001b[24m\u001b[4m8\u001b[24m563 ENO1|chr1:89…  \u001b[4m1\u001b[24m000     1 .     .     chr1       \n",
      "\u001b[90m5\u001b[39m chr1       17\u001b[4m4\u001b[24m\u001b[4m4\u001b[24m\u001b[4m1\u001b[24m310 17\u001b[4m4\u001b[24m\u001b[4m4\u001b[24m\u001b[4m1\u001b[24m810 SDHB|chr1:17…  \u001b[4m1\u001b[24m000     1 .     .     chr1       \n",
      "\u001b[90m6\u001b[39m chr1       25\u001b[4m9\u001b[24m\u001b[4m3\u001b[24m\u001b[4m3\u001b[24m351 25\u001b[4m9\u001b[24m\u001b[4m3\u001b[24m\u001b[4m3\u001b[24m954 NUDC|chr1:26…  \u001b[4m1\u001b[24m000     1 .     .     chr1       \n",
      "\u001b[90m# ℹ 9 more variables: sourceStart <dbl>, sourceEnd <dbl>, sourceName <chr>,\u001b[39m\n",
      "\u001b[90m#   sourceStrand <chr>, targetChrom <chr>, targetStart <chr>, targetEnd <chr>,\u001b[39m\n",
      "\u001b[90m#   targetName <chr>, targetStrand <chr>\u001b[39m\n",
      "\n",
      "[1] \"/data/reddylab/Kuei/out/proj_combeffect_encode_fcc/results/region/annotation_encode_e2g_benchmark/K562.EPCrisprBenchmark.total.region2TSS_Updated.bed\"\n",
      "\n",
      "[1] 9930\n",
      "\u001b[90m# A tibble: 6 × 18\u001b[39m\n",
      "  `#chrom` chromStart chromEnd name          score value exp   color sourceChrom\n",
      "  \u001b[3m\u001b[90m<chr>\u001b[39m\u001b[23m         \u001b[3m\u001b[90m<dbl>\u001b[39m\u001b[23m    \u001b[3m\u001b[90m<dbl>\u001b[39m\u001b[23m \u001b[3m\u001b[90m<chr>\u001b[39m\u001b[23m         \u001b[3m\u001b[90m<dbl>\u001b[39m\u001b[23m \u001b[3m\u001b[90m<dbl>\u001b[39m\u001b[23m \u001b[3m\u001b[90m<chr>\u001b[39m\u001b[23m \u001b[3m\u001b[90m<chr>\u001b[39m\u001b[23m \u001b[3m\u001b[90m<chr>\u001b[39m\u001b[23m      \n",
      "\u001b[90m1\u001b[39m chr1        3\u001b[4m7\u001b[24m\u001b[4m7\u001b[24m\u001b[4m4\u001b[24m714  3\u001b[4m7\u001b[24m\u001b[4m7\u001b[24m\u001b[4m5\u001b[24m214 CEP104|chr1:…  \u001b[4m1\u001b[24m000     1 .     .     chr1       \n",
      "\u001b[90m2\u001b[39m chr1        3\u001b[4m7\u001b[24m\u001b[4m7\u001b[24m\u001b[4m4\u001b[24m714  3\u001b[4m7\u001b[24m\u001b[4m7\u001b[24m\u001b[4m5\u001b[24m214 LRRC47|chr1:…  \u001b[4m1\u001b[24m000     1 .     .     chr1       \n",
      "\u001b[90m3\u001b[39m chr1        3\u001b[4m7\u001b[24m\u001b[4m7\u001b[24m\u001b[4m4\u001b[24m714  3\u001b[4m7\u001b[24m\u001b[4m7\u001b[24m\u001b[4m5\u001b[24m214 SMIM1|chr1:3…  \u001b[4m1\u001b[24m000     1 .     .     chr1       \n",
      "\u001b[90m4\u001b[39m chr1        3\u001b[4m8\u001b[24m\u001b[4m0\u001b[24m\u001b[4m3\u001b[24m570  3\u001b[4m8\u001b[24m\u001b[4m0\u001b[24m\u001b[4m5\u001b[24m848 LRRC47|chr1:…  \u001b[4m1\u001b[24m000     1 .     .     chr1       \n",
      "\u001b[90m5\u001b[39m chr1        3\u001b[4m8\u001b[24m\u001b[4m0\u001b[24m\u001b[4m3\u001b[24m570  3\u001b[4m8\u001b[24m\u001b[4m0\u001b[24m\u001b[4m5\u001b[24m848 SMIM1|chr1:3…  \u001b[4m1\u001b[24m000     1 .     .     chr1       \n",
      "\u001b[90m6\u001b[39m chr1        4\u001b[4m1\u001b[24m\u001b[4m2\u001b[24m\u001b[4m6\u001b[24m791  4\u001b[4m1\u001b[24m\u001b[4m2\u001b[24m\u001b[4m7\u001b[24m291 SMIM1|chr1:4…  \u001b[4m1\u001b[24m000     1 .     .     chr1       \n",
      "\u001b[90m# ℹ 9 more variables: sourceStart <dbl>, sourceEnd <dbl>, sourceName <chr>,\u001b[39m\n",
      "\u001b[90m#   sourceStrand <chr>, targetChrom <chr>, targetStart <chr>, targetEnd <chr>,\u001b[39m\n",
      "\u001b[90m#   targetName <chr>, targetStrand <chr>\u001b[39m\n",
      "\n"
     ]
    }
   ],
   "source": [
    "lst = lst_dat_peak_encode_e2g_interact_updateTSS\n",
    "for (txt in names(lst)){\n",
    "    fdiry = FD_OUT\n",
    "    fname = paste(\"K562.EPCrisprBenchmark\", txt, \"region2TSS_Updated.bed\", sep=\".\")\n",
    "    fpath = file.path(fdiry, fname)\n",
    "    print(fpath)\n",
    "    cat(\"\\n\")\n",
    "\n",
    "    dat = lst[[txt]]\n",
    "    colnames(dat)[1] = \"#chrom\"\n",
    "    write_tsv(dat, fpath)\n",
    "    print(nrow(dat))\n",
    "    print(head(dat))\n",
    "    cat(\"\\n\")\n",
    "}"
   ]
  },
  {
   "cell_type": "markdown",
   "metadata": {},
   "source": [
    "----"
   ]
  },
  {
   "cell_type": "code",
   "execution_count": null,
   "metadata": {},
   "outputs": [],
   "source": []
  },
  {
   "cell_type": "code",
   "execution_count": null,
   "metadata": {},
   "outputs": [],
   "source": []
  },
  {
   "cell_type": "code",
   "execution_count": null,
   "metadata": {},
   "outputs": [],
   "source": []
  },
  {
   "cell_type": "code",
   "execution_count": null,
   "metadata": {},
   "outputs": [],
   "source": []
  },
  {
   "cell_type": "code",
   "execution_count": null,
   "metadata": {},
   "outputs": [],
   "source": []
  },
  {
   "cell_type": "code",
   "execution_count": null,
   "metadata": {},
   "outputs": [],
   "source": []
  },
  {
   "cell_type": "code",
   "execution_count": null,
   "metadata": {},
   "outputs": [],
   "source": []
  },
  {
   "cell_type": "code",
   "execution_count": null,
   "metadata": {},
   "outputs": [],
   "source": []
  },
  {
   "cell_type": "code",
   "execution_count": null,
   "metadata": {},
   "outputs": [],
   "source": []
  },
  {
   "cell_type": "code",
   "execution_count": null,
   "metadata": {},
   "outputs": [],
   "source": []
  },
  {
   "cell_type": "code",
   "execution_count": null,
   "metadata": {},
   "outputs": [],
   "source": []
  },
  {
   "cell_type": "markdown",
   "metadata": {},
   "source": [
    "## Interact for active regions"
   ]
  },
  {
   "cell_type": "code",
   "execution_count": 16,
   "metadata": {},
   "outputs": [
    {
     "name": "stdout",
     "output_type": "stream",
     "text": [
      "[1] 472  13\n"
     ]
    },
    {
     "data": {
      "text/html": [
       "<table class=\"dataframe\">\n",
       "<caption>A tibble: 6 × 13</caption>\n",
       "<thead>\n",
       "\t<tr><th scope=col>chrom</th><th scope=col>chromStart</th><th scope=col>chromEnd</th><th scope=col>chrTSS</th><th scope=col>startTSS</th><th scope=col>endTSS</th><th scope=col>name</th><th scope=col>EffectSize</th><th scope=col>Strand1</th><th scope=col>Strand2</th><th scope=col>Gene_Symbol</th><th scope=col>Gene_TSS</th><th scope=col>Reference</th></tr>\n",
       "\t<tr><th scope=col>&lt;chr&gt;</th><th scope=col>&lt;dbl&gt;</th><th scope=col>&lt;dbl&gt;</th><th scope=col>&lt;chr&gt;</th><th scope=col>&lt;dbl&gt;</th><th scope=col>&lt;dbl&gt;</th><th scope=col>&lt;chr&gt;</th><th scope=col>&lt;dbl&gt;</th><th scope=col>&lt;chr&gt;</th><th scope=col>&lt;chr&gt;</th><th scope=col>&lt;chr&gt;</th><th scope=col>&lt;chr&gt;</th><th scope=col>&lt;chr&gt;</th></tr>\n",
       "</thead>\n",
       "<tbody>\n",
       "\t<tr><td>chr1</td><td> 3774714</td><td> 3775214</td><td>chr1</td><td> 3857213</td><td> 3857214</td><td>CEP104|chr1:3691278-3691778:*</td><td>-0.29343</td><td>.</td><td>.</td><td>CEP104</td><td>chr1:3857213-3857214  </td><td>Ulirsch2016           </td></tr>\n",
       "\t<tr><td>chr1</td><td> 3774714</td><td> 3775214</td><td>chr1</td><td> 3796503</td><td> 3796504</td><td>LRRC47|chr1:3691278-3691778:*</td><td>-0.33118</td><td>.</td><td>.</td><td>LRRC47</td><td>chr1:3796503-3796504  </td><td>Ulirsch2016           </td></tr>\n",
       "\t<tr><td>chr1</td><td> 3774714</td><td> 3775214</td><td>chr1</td><td> 3772761</td><td> 3772762</td><td>SMIM1|chr1:3691278-3691778:* </td><td>-0.47202</td><td>.</td><td>.</td><td>SMIM1 </td><td>chr1:3772761-3772762  </td><td>Ulirsch2016           </td></tr>\n",
       "\t<tr><td>chr1</td><td> 8858063</td><td> 8858563</td><td>chr1</td><td> 8879248</td><td> 8879249</td><td>ENO1|chr1:8918122-8918622:.  </td><td>-0.10741</td><td>.</td><td>.</td><td>ENO1  </td><td>chr1:8879248-8879249  </td><td>Gasperini et al., 2019</td></tr>\n",
       "\t<tr><td>chr1</td><td>17441310</td><td>17441810</td><td>chr1</td><td>17054169</td><td>17054170</td><td>SDHB|chr1:17767806-17768306:.</td><td>-0.08968</td><td>.</td><td>.</td><td>SDHB  </td><td>chr1:17054169-17054170</td><td>Gasperini et al., 2019</td></tr>\n",
       "\t<tr><td>chr1</td><td>25933351</td><td>25933954</td><td>chr1</td><td>26900238</td><td>26900239</td><td>NUDC|chr1:26259842-26260445:.</td><td>-0.08462</td><td>.</td><td>.</td><td>NUDC  </td><td>chr1:26900238-26900239</td><td>Gasperini et al., 2019</td></tr>\n",
       "</tbody>\n",
       "</table>\n"
      ],
      "text/latex": [
       "A tibble: 6 × 13\n",
       "\\begin{tabular}{lllllllllllll}\n",
       " chrom & chromStart & chromEnd & chrTSS & startTSS & endTSS & name & EffectSize & Strand1 & Strand2 & Gene\\_Symbol & Gene\\_TSS & Reference\\\\\n",
       " <chr> & <dbl> & <dbl> & <chr> & <dbl> & <dbl> & <chr> & <dbl> & <chr> & <chr> & <chr> & <chr> & <chr>\\\\\n",
       "\\hline\n",
       "\t chr1 &  3774714 &  3775214 & chr1 &  3857213 &  3857214 & CEP104\\textbar{}chr1:3691278-3691778:* & -0.29343 & . & . & CEP104 & chr1:3857213-3857214   & Ulirsch2016           \\\\\n",
       "\t chr1 &  3774714 &  3775214 & chr1 &  3796503 &  3796504 & LRRC47\\textbar{}chr1:3691278-3691778:* & -0.33118 & . & . & LRRC47 & chr1:3796503-3796504   & Ulirsch2016           \\\\\n",
       "\t chr1 &  3774714 &  3775214 & chr1 &  3772761 &  3772762 & SMIM1\\textbar{}chr1:3691278-3691778:*  & -0.47202 & . & . & SMIM1  & chr1:3772761-3772762   & Ulirsch2016           \\\\\n",
       "\t chr1 &  8858063 &  8858563 & chr1 &  8879248 &  8879249 & ENO1\\textbar{}chr1:8918122-8918622:.   & -0.10741 & . & . & ENO1   & chr1:8879248-8879249   & Gasperini et al., 2019\\\\\n",
       "\t chr1 & 17441310 & 17441810 & chr1 & 17054169 & 17054170 & SDHB\\textbar{}chr1:17767806-17768306:. & -0.08968 & . & . & SDHB   & chr1:17054169-17054170 & Gasperini et al., 2019\\\\\n",
       "\t chr1 & 25933351 & 25933954 & chr1 & 26900238 & 26900239 & NUDC\\textbar{}chr1:26259842-26260445:. & -0.08462 & . & . & NUDC   & chr1:26900238-26900239 & Gasperini et al., 2019\\\\\n",
       "\\end{tabular}\n"
      ],
      "text/markdown": [
       "\n",
       "A tibble: 6 × 13\n",
       "\n",
       "| chrom &lt;chr&gt; | chromStart &lt;dbl&gt; | chromEnd &lt;dbl&gt; | chrTSS &lt;chr&gt; | startTSS &lt;dbl&gt; | endTSS &lt;dbl&gt; | name &lt;chr&gt; | EffectSize &lt;dbl&gt; | Strand1 &lt;chr&gt; | Strand2 &lt;chr&gt; | Gene_Symbol &lt;chr&gt; | Gene_TSS &lt;chr&gt; | Reference &lt;chr&gt; |\n",
       "|---|---|---|---|---|---|---|---|---|---|---|---|---|\n",
       "| chr1 |  3774714 |  3775214 | chr1 |  3857213 |  3857214 | CEP104|chr1:3691278-3691778:* | -0.29343 | . | . | CEP104 | chr1:3857213-3857214   | Ulirsch2016            |\n",
       "| chr1 |  3774714 |  3775214 | chr1 |  3796503 |  3796504 | LRRC47|chr1:3691278-3691778:* | -0.33118 | . | . | LRRC47 | chr1:3796503-3796504   | Ulirsch2016            |\n",
       "| chr1 |  3774714 |  3775214 | chr1 |  3772761 |  3772762 | SMIM1|chr1:3691278-3691778:*  | -0.47202 | . | . | SMIM1  | chr1:3772761-3772762   | Ulirsch2016            |\n",
       "| chr1 |  8858063 |  8858563 | chr1 |  8879248 |  8879249 | ENO1|chr1:8918122-8918622:.   | -0.10741 | . | . | ENO1   | chr1:8879248-8879249   | Gasperini et al., 2019 |\n",
       "| chr1 | 17441310 | 17441810 | chr1 | 17054169 | 17054170 | SDHB|chr1:17767806-17768306:. | -0.08968 | . | . | SDHB   | chr1:17054169-17054170 | Gasperini et al., 2019 |\n",
       "| chr1 | 25933351 | 25933954 | chr1 | 26900238 | 26900239 | NUDC|chr1:26259842-26260445:. | -0.08462 | . | . | NUDC   | chr1:26900238-26900239 | Gasperini et al., 2019 |\n",
       "\n"
      ],
      "text/plain": [
       "  chrom chromStart chromEnd chrTSS startTSS endTSS  \n",
       "1 chr1   3774714    3775214 chr1    3857213  3857214\n",
       "2 chr1   3774714    3775214 chr1    3796503  3796504\n",
       "3 chr1   3774714    3775214 chr1    3772761  3772762\n",
       "4 chr1   8858063    8858563 chr1    8879248  8879249\n",
       "5 chr1  17441310   17441810 chr1   17054169 17054170\n",
       "6 chr1  25933351   25933954 chr1   26900238 26900239\n",
       "  name                          EffectSize Strand1 Strand2 Gene_Symbol\n",
       "1 CEP104|chr1:3691278-3691778:* -0.29343   .       .       CEP104     \n",
       "2 LRRC47|chr1:3691278-3691778:* -0.33118   .       .       LRRC47     \n",
       "3 SMIM1|chr1:3691278-3691778:*  -0.47202   .       .       SMIM1      \n",
       "4 ENO1|chr1:8918122-8918622:.   -0.10741   .       .       ENO1       \n",
       "5 SDHB|chr1:17767806-17768306:. -0.08968   .       .       SDHB       \n",
       "6 NUDC|chr1:26259842-26260445:. -0.08462   .       .       NUDC       \n",
       "  Gene_TSS               Reference             \n",
       "1 chr1:3857213-3857214   Ulirsch2016           \n",
       "2 chr1:3796503-3796504   Ulirsch2016           \n",
       "3 chr1:3772761-3772762   Ulirsch2016           \n",
       "4 chr1:8879248-8879249   Gasperini et al., 2019\n",
       "5 chr1:17054169-17054170 Gasperini et al., 2019\n",
       "6 chr1:26900238-26900239 Gasperini et al., 2019"
      ]
     },
     "metadata": {},
     "output_type": "display_data"
    }
   ],
   "source": [
    "txt = c('chrom',  'chromStart', 'chromEnd',\n",
    "        \"chrTSS\", \"startTSS\",   \"endTSS\",\n",
    "        \"name\", \n",
    "        \"EffectSize\", \n",
    "        \"Strand1\", \"Strand2\",\n",
    "        \"Gene_Symbol\", \"Gene_TSS\", \"Reference\")\n",
    "\n",
    "dat = dat_peak_encode_e2g_import\n",
    "dat = dat %>% \n",
    "    dplyr::filter(Regulated) %>%\n",
    "    tidyr::separate(name, c(\"Gene_Symbol\", \"Loc\"), sep=\"\\\\|\", remove = FALSE) %>% \n",
    "    dplyr::mutate(\n",
    "        EffectSize   = round(EffectSize, 5),\n",
    "        Gene_TSS     = paste0(chrTSS, \":\", startTSS, \"-\", endTSS),\n",
    "        Strand1      = \".\",\n",
    "        Strand2      = \".\"\n",
    "    )\n",
    "\n",
    "dat = dat %>% \n",
    "    dplyr::select({{txt}}) %>% \n",
    "    dplyr::arrange(chrom, chromStart, chromEnd)\n",
    "\n",
    "dat_peak_encode_e2g_bedpe = dat\n",
    "print(dim(dat))\n",
    "head(dat)"
   ]
  },
  {
   "cell_type": "code",
   "execution_count": 17,
   "metadata": {},
   "outputs": [
    {
     "name": "stdout",
     "output_type": "stream",
     "text": [
      "[1] 472  18\n"
     ]
    },
    {
     "data": {
      "text/html": [
       "<table class=\"dataframe\">\n",
       "<caption>A tibble: 6 × 18</caption>\n",
       "<thead>\n",
       "\t<tr><th scope=col>chrom</th><th scope=col>chromStart</th><th scope=col>chromEnd</th><th scope=col>name</th><th scope=col>score</th><th scope=col>value</th><th scope=col>exp</th><th scope=col>color</th><th scope=col>sourceChrom</th><th scope=col>sourceStart</th><th scope=col>sourceEnd</th><th scope=col>sourceName</th><th scope=col>sourceStrand</th><th scope=col>targetChrom</th><th scope=col>targetStart</th><th scope=col>targetEnd</th><th scope=col>targetName</th><th scope=col>targetStrand</th></tr>\n",
       "\t<tr><th scope=col>&lt;chr&gt;</th><th scope=col>&lt;dbl&gt;</th><th scope=col>&lt;dbl&gt;</th><th scope=col>&lt;chr&gt;</th><th scope=col>&lt;dbl&gt;</th><th scope=col>&lt;dbl&gt;</th><th scope=col>&lt;chr&gt;</th><th scope=col>&lt;chr&gt;</th><th scope=col>&lt;chr&gt;</th><th scope=col>&lt;dbl&gt;</th><th scope=col>&lt;dbl&gt;</th><th scope=col>&lt;chr&gt;</th><th scope=col>&lt;chr&gt;</th><th scope=col>&lt;chr&gt;</th><th scope=col>&lt;dbl&gt;</th><th scope=col>&lt;dbl&gt;</th><th scope=col>&lt;chr&gt;</th><th scope=col>&lt;chr&gt;</th></tr>\n",
       "</thead>\n",
       "<tbody>\n",
       "\t<tr><td>chr1</td><td> 3774714</td><td> 3775214</td><td>CEP104|chr1:3691278-3691778:*</td><td>1000</td><td>1</td><td>.</td><td>.</td><td>chr1</td><td> 3774714</td><td> 3775214</td><td>chr1:3774714-3775214  </td><td>.</td><td>chr1</td><td> 3857213</td><td> 3857214</td><td>chr1:3857213-3857214  </td><td>.</td></tr>\n",
       "\t<tr><td>chr1</td><td> 3774714</td><td> 3775214</td><td>LRRC47|chr1:3691278-3691778:*</td><td>1000</td><td>1</td><td>.</td><td>.</td><td>chr1</td><td> 3774714</td><td> 3775214</td><td>chr1:3774714-3775214  </td><td>.</td><td>chr1</td><td> 3796503</td><td> 3796504</td><td>chr1:3796503-3796504  </td><td>.</td></tr>\n",
       "\t<tr><td>chr1</td><td> 3774714</td><td> 3775214</td><td>SMIM1|chr1:3691278-3691778:* </td><td>1000</td><td>1</td><td>.</td><td>.</td><td>chr1</td><td> 3774714</td><td> 3775214</td><td>chr1:3774714-3775214  </td><td>.</td><td>chr1</td><td> 3772761</td><td> 3772762</td><td>chr1:3772761-3772762  </td><td>.</td></tr>\n",
       "\t<tr><td>chr1</td><td> 8858063</td><td> 8858563</td><td>ENO1|chr1:8918122-8918622:.  </td><td>1000</td><td>1</td><td>.</td><td>.</td><td>chr1</td><td> 8858063</td><td> 8858563</td><td>chr1:8858063-8858563  </td><td>.</td><td>chr1</td><td> 8879248</td><td> 8879249</td><td>chr1:8879248-8879249  </td><td>.</td></tr>\n",
       "\t<tr><td>chr1</td><td>17441310</td><td>17441810</td><td>SDHB|chr1:17767806-17768306:.</td><td>1000</td><td>1</td><td>.</td><td>.</td><td>chr1</td><td>17441310</td><td>17441810</td><td>chr1:17441310-17441810</td><td>.</td><td>chr1</td><td>17054169</td><td>17054170</td><td>chr1:17054169-17054170</td><td>.</td></tr>\n",
       "\t<tr><td>chr1</td><td>25933351</td><td>25933954</td><td>NUDC|chr1:26259842-26260445:.</td><td>1000</td><td>1</td><td>.</td><td>.</td><td>chr1</td><td>25933351</td><td>25933954</td><td>chr1:25933351-25933954</td><td>.</td><td>chr1</td><td>26900238</td><td>26900239</td><td>chr1:26900238-26900239</td><td>.</td></tr>\n",
       "</tbody>\n",
       "</table>\n"
      ],
      "text/latex": [
       "A tibble: 6 × 18\n",
       "\\begin{tabular}{llllllllllllllllll}\n",
       " chrom & chromStart & chromEnd & name & score & value & exp & color & sourceChrom & sourceStart & sourceEnd & sourceName & sourceStrand & targetChrom & targetStart & targetEnd & targetName & targetStrand\\\\\n",
       " <chr> & <dbl> & <dbl> & <chr> & <dbl> & <dbl> & <chr> & <chr> & <chr> & <dbl> & <dbl> & <chr> & <chr> & <chr> & <dbl> & <dbl> & <chr> & <chr>\\\\\n",
       "\\hline\n",
       "\t chr1 &  3774714 &  3775214 & CEP104\\textbar{}chr1:3691278-3691778:* & 1000 & 1 & . & . & chr1 &  3774714 &  3775214 & chr1:3774714-3775214   & . & chr1 &  3857213 &  3857214 & chr1:3857213-3857214   & .\\\\\n",
       "\t chr1 &  3774714 &  3775214 & LRRC47\\textbar{}chr1:3691278-3691778:* & 1000 & 1 & . & . & chr1 &  3774714 &  3775214 & chr1:3774714-3775214   & . & chr1 &  3796503 &  3796504 & chr1:3796503-3796504   & .\\\\\n",
       "\t chr1 &  3774714 &  3775214 & SMIM1\\textbar{}chr1:3691278-3691778:*  & 1000 & 1 & . & . & chr1 &  3774714 &  3775214 & chr1:3774714-3775214   & . & chr1 &  3772761 &  3772762 & chr1:3772761-3772762   & .\\\\\n",
       "\t chr1 &  8858063 &  8858563 & ENO1\\textbar{}chr1:8918122-8918622:.   & 1000 & 1 & . & . & chr1 &  8858063 &  8858563 & chr1:8858063-8858563   & . & chr1 &  8879248 &  8879249 & chr1:8879248-8879249   & .\\\\\n",
       "\t chr1 & 17441310 & 17441810 & SDHB\\textbar{}chr1:17767806-17768306:. & 1000 & 1 & . & . & chr1 & 17441310 & 17441810 & chr1:17441310-17441810 & . & chr1 & 17054169 & 17054170 & chr1:17054169-17054170 & .\\\\\n",
       "\t chr1 & 25933351 & 25933954 & NUDC\\textbar{}chr1:26259842-26260445:. & 1000 & 1 & . & . & chr1 & 25933351 & 25933954 & chr1:25933351-25933954 & . & chr1 & 26900238 & 26900239 & chr1:26900238-26900239 & .\\\\\n",
       "\\end{tabular}\n"
      ],
      "text/markdown": [
       "\n",
       "A tibble: 6 × 18\n",
       "\n",
       "| chrom &lt;chr&gt; | chromStart &lt;dbl&gt; | chromEnd &lt;dbl&gt; | name &lt;chr&gt; | score &lt;dbl&gt; | value &lt;dbl&gt; | exp &lt;chr&gt; | color &lt;chr&gt; | sourceChrom &lt;chr&gt; | sourceStart &lt;dbl&gt; | sourceEnd &lt;dbl&gt; | sourceName &lt;chr&gt; | sourceStrand &lt;chr&gt; | targetChrom &lt;chr&gt; | targetStart &lt;dbl&gt; | targetEnd &lt;dbl&gt; | targetName &lt;chr&gt; | targetStrand &lt;chr&gt; |\n",
       "|---|---|---|---|---|---|---|---|---|---|---|---|---|---|---|---|---|---|\n",
       "| chr1 |  3774714 |  3775214 | CEP104|chr1:3691278-3691778:* | 1000 | 1 | . | . | chr1 |  3774714 |  3775214 | chr1:3774714-3775214   | . | chr1 |  3857213 |  3857214 | chr1:3857213-3857214   | . |\n",
       "| chr1 |  3774714 |  3775214 | LRRC47|chr1:3691278-3691778:* | 1000 | 1 | . | . | chr1 |  3774714 |  3775214 | chr1:3774714-3775214   | . | chr1 |  3796503 |  3796504 | chr1:3796503-3796504   | . |\n",
       "| chr1 |  3774714 |  3775214 | SMIM1|chr1:3691278-3691778:*  | 1000 | 1 | . | . | chr1 |  3774714 |  3775214 | chr1:3774714-3775214   | . | chr1 |  3772761 |  3772762 | chr1:3772761-3772762   | . |\n",
       "| chr1 |  8858063 |  8858563 | ENO1|chr1:8918122-8918622:.   | 1000 | 1 | . | . | chr1 |  8858063 |  8858563 | chr1:8858063-8858563   | . | chr1 |  8879248 |  8879249 | chr1:8879248-8879249   | . |\n",
       "| chr1 | 17441310 | 17441810 | SDHB|chr1:17767806-17768306:. | 1000 | 1 | . | . | chr1 | 17441310 | 17441810 | chr1:17441310-17441810 | . | chr1 | 17054169 | 17054170 | chr1:17054169-17054170 | . |\n",
       "| chr1 | 25933351 | 25933954 | NUDC|chr1:26259842-26260445:. | 1000 | 1 | . | . | chr1 | 25933351 | 25933954 | chr1:25933351-25933954 | . | chr1 | 26900238 | 26900239 | chr1:26900238-26900239 | . |\n",
       "\n"
      ],
      "text/plain": [
       "  chrom chromStart chromEnd name                          score value exp color\n",
       "1 chr1   3774714    3775214 CEP104|chr1:3691278-3691778:* 1000  1     .   .    \n",
       "2 chr1   3774714    3775214 LRRC47|chr1:3691278-3691778:* 1000  1     .   .    \n",
       "3 chr1   3774714    3775214 SMIM1|chr1:3691278-3691778:*  1000  1     .   .    \n",
       "4 chr1   8858063    8858563 ENO1|chr1:8918122-8918622:.   1000  1     .   .    \n",
       "5 chr1  17441310   17441810 SDHB|chr1:17767806-17768306:. 1000  1     .   .    \n",
       "6 chr1  25933351   25933954 NUDC|chr1:26259842-26260445:. 1000  1     .   .    \n",
       "  sourceChrom sourceStart sourceEnd sourceName             sourceStrand\n",
       "1 chr1         3774714     3775214  chr1:3774714-3775214   .           \n",
       "2 chr1         3774714     3775214  chr1:3774714-3775214   .           \n",
       "3 chr1         3774714     3775214  chr1:3774714-3775214   .           \n",
       "4 chr1         8858063     8858563  chr1:8858063-8858563   .           \n",
       "5 chr1        17441310    17441810  chr1:17441310-17441810 .           \n",
       "6 chr1        25933351    25933954  chr1:25933351-25933954 .           \n",
       "  targetChrom targetStart targetEnd targetName             targetStrand\n",
       "1 chr1         3857213     3857214  chr1:3857213-3857214   .           \n",
       "2 chr1         3796503     3796504  chr1:3796503-3796504   .           \n",
       "3 chr1         3772761     3772762  chr1:3772761-3772762   .           \n",
       "4 chr1         8879248     8879249  chr1:8879248-8879249   .           \n",
       "5 chr1        17054169    17054170  chr1:17054169-17054170 .           \n",
       "6 chr1        26900238    26900239  chr1:26900238-26900239 .           "
      ]
     },
     "metadata": {},
     "output_type": "display_data"
    }
   ],
   "source": [
    "dat = dat_peak_encode_e2g_bedpe\n",
    "\n",
    "dat = dat %>%\n",
    "    dplyr::mutate(score = 1000, value = 1, exp = \".\", color = \".\") %>%\n",
    "    dplyr::mutate(\n",
    "        chromMid = as.integer((chromStart + chromEnd) / 2),\n",
    "        sourceName = paste0(chrom, \":\", chromStart, \"-\", chromEnd),\n",
    "        targetName = Gene_TSS,\n",
    "    ) %>%\n",
    "    dplyr::mutate(\n",
    "        sourceChrom   = chrom,\n",
    "        sourceStart   = chromStart,\n",
    "        sourceEnd     = chromEnd,\n",
    "        sourceStrand  = \".\",\n",
    "        targetChrom   = chrTSS,\n",
    "        targetStart   = startTSS,\n",
    "        targetEnd     = endTSS,\n",
    "        targetStrand  = \".\"\n",
    "    ) %>%\n",
    "    dplyr::select(\n",
    "        chrom, chromStart, chromEnd, name, \n",
    "        score, value, exp, color,\n",
    "        sourceChrom,\n",
    "        sourceStart,\n",
    "        sourceEnd,\n",
    "        sourceName,\n",
    "        sourceStrand,\n",
    "        targetChrom,\n",
    "        targetStart,\n",
    "        targetEnd,\n",
    "        targetName,\n",
    "        targetStrand\n",
    "    )\n",
    "\n",
    "dat_peak_encode_e2g_interact = dat\n",
    "print(dim(dat))\n",
    "head(dat)"
   ]
  },
  {
   "cell_type": "markdown",
   "metadata": {},
   "source": [
    "## Update element2gene link using our defined TSS"
   ]
  },
  {
   "cell_type": "markdown",
   "metadata": {},
   "source": [
    "**Check the number of overlaped genes**"
   ]
  },
  {
   "cell_type": "code",
   "execution_count": 18,
   "metadata": {},
   "outputs": [
    {
     "name": "stdout",
     "output_type": "stream",
     "text": [
      "2121 \n",
      "11741 \n",
      "2027 \n"
     ]
    }
   ],
   "source": [
    "vec1 = dat_peak_encode_e2g_arrange$Gene_Symbol\n",
    "vec2 = dat_annot_tss_pol2_rnaseq$Name\n",
    "vec1 = unique(vec1)\n",
    "vec2 = unique(vec2)\n",
    "vec3 = intersect(vec1, vec2)\n",
    "cat(length(vec1), \"\\n\")\n",
    "cat(length(vec2), \"\\n\")\n",
    "cat(length(vec3), \"\\n\")\n",
    "#print(head(vec1))\n",
    "#print(head(vec2))"
   ]
  },
  {
   "cell_type": "code",
   "execution_count": 19,
   "metadata": {},
   "outputs": [
    {
     "data": {
      "text/html": [
       "<div style=\"border: 1px solid #ddd; padding: 5px; overflow-x: scroll; width:100%; \"><table class=\"table table-striped\" style=\"margin-left: auto; margin-right: auto;\">\n",
       " <thead>\n",
       "  <tr>\n",
       "   <th style=\"text-align:left;\"> chrom </th>\n",
       "   <th style=\"text-align:right;\"> chromStart </th>\n",
       "   <th style=\"text-align:right;\"> chromEnd </th>\n",
       "   <th style=\"text-align:left;\"> chrTSS </th>\n",
       "   <th style=\"text-align:right;\"> startTSS </th>\n",
       "   <th style=\"text-align:right;\"> endTSS </th>\n",
       "   <th style=\"text-align:left;\"> name </th>\n",
       "   <th style=\"text-align:right;\"> EffectSize </th>\n",
       "   <th style=\"text-align:left;\"> Strand1 </th>\n",
       "   <th style=\"text-align:left;\"> Strand2 </th>\n",
       "   <th style=\"text-align:left;\"> Gene_Symbol </th>\n",
       "   <th style=\"text-align:left;\"> Gene_TSS </th>\n",
       "   <th style=\"text-align:left;\"> Reference </th>\n",
       "  </tr>\n",
       " </thead>\n",
       "<tbody>\n",
       "  <tr>\n",
       "   <td style=\"text-align:left;\"> chr1 </td>\n",
       "   <td style=\"text-align:right;\"> 3774714 </td>\n",
       "   <td style=\"text-align:right;\"> 3775214 </td>\n",
       "   <td style=\"text-align:left;\"> chr1 </td>\n",
       "   <td style=\"text-align:right;\"> 3857213 </td>\n",
       "   <td style=\"text-align:right;\"> 3857214 </td>\n",
       "   <td style=\"text-align:left;\"> CEP104|chr1:3691278-3691778:* </td>\n",
       "   <td style=\"text-align:right;\"> -0.29343 </td>\n",
       "   <td style=\"text-align:left;\"> . </td>\n",
       "   <td style=\"text-align:left;\"> . </td>\n",
       "   <td style=\"text-align:left;\"> CEP104 </td>\n",
       "   <td style=\"text-align:left;\"> chr1:3857213-3857214 </td>\n",
       "   <td style=\"text-align:left;\"> Ulirsch2016 </td>\n",
       "  </tr>\n",
       "  <tr>\n",
       "   <td style=\"text-align:left;\"> chr1 </td>\n",
       "   <td style=\"text-align:right;\"> 3774714 </td>\n",
       "   <td style=\"text-align:right;\"> 3775214 </td>\n",
       "   <td style=\"text-align:left;\"> chr1 </td>\n",
       "   <td style=\"text-align:right;\"> 3796503 </td>\n",
       "   <td style=\"text-align:right;\"> 3796504 </td>\n",
       "   <td style=\"text-align:left;\"> LRRC47|chr1:3691278-3691778:* </td>\n",
       "   <td style=\"text-align:right;\"> -0.33118 </td>\n",
       "   <td style=\"text-align:left;\"> . </td>\n",
       "   <td style=\"text-align:left;\"> . </td>\n",
       "   <td style=\"text-align:left;\"> LRRC47 </td>\n",
       "   <td style=\"text-align:left;\"> chr1:3796503-3796504 </td>\n",
       "   <td style=\"text-align:left;\"> Ulirsch2016 </td>\n",
       "  </tr>\n",
       "  <tr>\n",
       "   <td style=\"text-align:left;\"> chr1 </td>\n",
       "   <td style=\"text-align:right;\"> 3774714 </td>\n",
       "   <td style=\"text-align:right;\"> 3775214 </td>\n",
       "   <td style=\"text-align:left;\"> chr1 </td>\n",
       "   <td style=\"text-align:right;\"> 3772761 </td>\n",
       "   <td style=\"text-align:right;\"> 3772762 </td>\n",
       "   <td style=\"text-align:left;\"> SMIM1|chr1:3691278-3691778:* </td>\n",
       "   <td style=\"text-align:right;\"> -0.47202 </td>\n",
       "   <td style=\"text-align:left;\"> . </td>\n",
       "   <td style=\"text-align:left;\"> . </td>\n",
       "   <td style=\"text-align:left;\"> SMIM1 </td>\n",
       "   <td style=\"text-align:left;\"> chr1:3772761-3772762 </td>\n",
       "   <td style=\"text-align:left;\"> Ulirsch2016 </td>\n",
       "  </tr>\n",
       "  <tr>\n",
       "   <td style=\"text-align:left;\"> chr1 </td>\n",
       "   <td style=\"text-align:right;\"> 8858063 </td>\n",
       "   <td style=\"text-align:right;\"> 8858563 </td>\n",
       "   <td style=\"text-align:left;\"> chr1 </td>\n",
       "   <td style=\"text-align:right;\"> 8879248 </td>\n",
       "   <td style=\"text-align:right;\"> 8879249 </td>\n",
       "   <td style=\"text-align:left;\"> ENO1|chr1:8918122-8918622:. </td>\n",
       "   <td style=\"text-align:right;\"> -0.10741 </td>\n",
       "   <td style=\"text-align:left;\"> . </td>\n",
       "   <td style=\"text-align:left;\"> . </td>\n",
       "   <td style=\"text-align:left;\"> ENO1 </td>\n",
       "   <td style=\"text-align:left;\"> chr1:8879248-8879249 </td>\n",
       "   <td style=\"text-align:left;\"> Gasperini et al., 2019 </td>\n",
       "  </tr>\n",
       "  <tr>\n",
       "   <td style=\"text-align:left;\"> chr1 </td>\n",
       "   <td style=\"text-align:right;\"> 17441310 </td>\n",
       "   <td style=\"text-align:right;\"> 17441810 </td>\n",
       "   <td style=\"text-align:left;\"> chr1 </td>\n",
       "   <td style=\"text-align:right;\"> 17054169 </td>\n",
       "   <td style=\"text-align:right;\"> 17054170 </td>\n",
       "   <td style=\"text-align:left;\"> SDHB|chr1:17767806-17768306:. </td>\n",
       "   <td style=\"text-align:right;\"> -0.08968 </td>\n",
       "   <td style=\"text-align:left;\"> . </td>\n",
       "   <td style=\"text-align:left;\"> . </td>\n",
       "   <td style=\"text-align:left;\"> SDHB </td>\n",
       "   <td style=\"text-align:left;\"> chr1:17054169-17054170 </td>\n",
       "   <td style=\"text-align:left;\"> Gasperini et al., 2019 </td>\n",
       "  </tr>\n",
       "  <tr>\n",
       "   <td style=\"text-align:left;\"> chr1 </td>\n",
       "   <td style=\"text-align:right;\"> 25933351 </td>\n",
       "   <td style=\"text-align:right;\"> 25933954 </td>\n",
       "   <td style=\"text-align:left;\"> chr1 </td>\n",
       "   <td style=\"text-align:right;\"> 26900238 </td>\n",
       "   <td style=\"text-align:right;\"> 26900239 </td>\n",
       "   <td style=\"text-align:left;\"> NUDC|chr1:26259842-26260445:. </td>\n",
       "   <td style=\"text-align:right;\"> -0.08462 </td>\n",
       "   <td style=\"text-align:left;\"> . </td>\n",
       "   <td style=\"text-align:left;\"> . </td>\n",
       "   <td style=\"text-align:left;\"> NUDC </td>\n",
       "   <td style=\"text-align:left;\"> chr1:26900238-26900239 </td>\n",
       "   <td style=\"text-align:left;\"> Gasperini et al., 2019 </td>\n",
       "  </tr>\n",
       "</tbody>\n",
       "</table></div>"
      ]
     },
     "metadata": {},
     "output_type": "display_data"
    }
   ],
   "source": [
    "dat = dat_peak_encode_e2g_bedpe\n",
    "fun_display_table(head(dat))"
   ]
  },
  {
   "cell_type": "code",
   "execution_count": 20,
   "metadata": {},
   "outputs": [
    {
     "name": "stdout",
     "output_type": "stream",
     "text": [
      "[1] 472  13\n",
      "[1] 450  13\n",
      "#Row:    450 \n",
      "#Gene:   306 \n",
      "#Region: 402 \n"
     ]
    },
    {
     "data": {
      "text/html": [
       "<table class=\"dataframe\">\n",
       "<caption>A tibble: 6 × 13</caption>\n",
       "<thead>\n",
       "\t<tr><th scope=col>chrom</th><th scope=col>chromStart</th><th scope=col>chromEnd</th><th scope=col>chrTSS</th><th scope=col>startTSS</th><th scope=col>endTSS</th><th scope=col>name</th><th scope=col>EffectSize</th><th scope=col>Strand1</th><th scope=col>Strand2</th><th scope=col>Gene_Symbol</th><th scope=col>Gene_TSS</th><th scope=col>Reference</th></tr>\n",
       "\t<tr><th scope=col>&lt;chr&gt;</th><th scope=col>&lt;dbl&gt;</th><th scope=col>&lt;dbl&gt;</th><th scope=col>&lt;chr&gt;</th><th scope=col>&lt;chr&gt;</th><th scope=col>&lt;chr&gt;</th><th scope=col>&lt;chr&gt;</th><th scope=col>&lt;dbl&gt;</th><th scope=col>&lt;chr&gt;</th><th scope=col>&lt;chr&gt;</th><th scope=col>&lt;chr&gt;</th><th scope=col>&lt;chr&gt;</th><th scope=col>&lt;chr&gt;</th></tr>\n",
       "</thead>\n",
       "<tbody>\n",
       "\t<tr><td>chr1</td><td> 3774714</td><td> 3775214</td><td>chr1</td><td>3857211 </td><td>3857212 </td><td>CEP104|chr1:3691278-3691778:*</td><td>-0.29343</td><td>.</td><td>.</td><td>CEP104</td><td>chr1:3857211-3857212  </td><td>Ulirsch2016           </td></tr>\n",
       "\t<tr><td>chr1</td><td> 3774714</td><td> 3775214</td><td>chr1</td><td>3796498 </td><td>3796499 </td><td>LRRC47|chr1:3691278-3691778:*</td><td>-0.33118</td><td>.</td><td>.</td><td>LRRC47</td><td>chr1:3796498-3796499  </td><td>Ulirsch2016           </td></tr>\n",
       "\t<tr><td>chr1</td><td> 3774714</td><td> 3775214</td><td>chr1</td><td>3772748 </td><td>3772749 </td><td>SMIM1|chr1:3691278-3691778:* </td><td>-0.47202</td><td>.</td><td>.</td><td>SMIM1 </td><td>chr1:3772748-3772749  </td><td>Ulirsch2016           </td></tr>\n",
       "\t<tr><td>chr1</td><td> 8858063</td><td> 8858563</td><td>chr1</td><td>8878686 </td><td>8878687 </td><td>ENO1|chr1:8918122-8918622:.  </td><td>-0.10741</td><td>.</td><td>.</td><td>ENO1  </td><td>chr1:8878686-8878687  </td><td>Gasperini et al., 2019</td></tr>\n",
       "\t<tr><td>chr1</td><td>17441310</td><td>17441810</td><td>chr1</td><td>17054032</td><td>17054033</td><td>SDHB|chr1:17767806-17768306:.</td><td>-0.08968</td><td>.</td><td>.</td><td>SDHB  </td><td>chr1:17054032-17054033</td><td>Gasperini et al., 2019</td></tr>\n",
       "\t<tr><td>chr1</td><td>25933351</td><td>25933954</td><td>chr1</td><td>26921742</td><td>26921743</td><td>NUDC|chr1:26259842-26260445:.</td><td>-0.08462</td><td>.</td><td>.</td><td>NUDC  </td><td>chr1:26921742-26921743</td><td>Gasperini et al., 2019</td></tr>\n",
       "</tbody>\n",
       "</table>\n"
      ],
      "text/latex": [
       "A tibble: 6 × 13\n",
       "\\begin{tabular}{lllllllllllll}\n",
       " chrom & chromStart & chromEnd & chrTSS & startTSS & endTSS & name & EffectSize & Strand1 & Strand2 & Gene\\_Symbol & Gene\\_TSS & Reference\\\\\n",
       " <chr> & <dbl> & <dbl> & <chr> & <chr> & <chr> & <chr> & <dbl> & <chr> & <chr> & <chr> & <chr> & <chr>\\\\\n",
       "\\hline\n",
       "\t chr1 &  3774714 &  3775214 & chr1 & 3857211  & 3857212  & CEP104\\textbar{}chr1:3691278-3691778:* & -0.29343 & . & . & CEP104 & chr1:3857211-3857212   & Ulirsch2016           \\\\\n",
       "\t chr1 &  3774714 &  3775214 & chr1 & 3796498  & 3796499  & LRRC47\\textbar{}chr1:3691278-3691778:* & -0.33118 & . & . & LRRC47 & chr1:3796498-3796499   & Ulirsch2016           \\\\\n",
       "\t chr1 &  3774714 &  3775214 & chr1 & 3772748  & 3772749  & SMIM1\\textbar{}chr1:3691278-3691778:*  & -0.47202 & . & . & SMIM1  & chr1:3772748-3772749   & Ulirsch2016           \\\\\n",
       "\t chr1 &  8858063 &  8858563 & chr1 & 8878686  & 8878687  & ENO1\\textbar{}chr1:8918122-8918622:.   & -0.10741 & . & . & ENO1   & chr1:8878686-8878687   & Gasperini et al., 2019\\\\\n",
       "\t chr1 & 17441310 & 17441810 & chr1 & 17054032 & 17054033 & SDHB\\textbar{}chr1:17767806-17768306:. & -0.08968 & . & . & SDHB   & chr1:17054032-17054033 & Gasperini et al., 2019\\\\\n",
       "\t chr1 & 25933351 & 25933954 & chr1 & 26921742 & 26921743 & NUDC\\textbar{}chr1:26259842-26260445:. & -0.08462 & . & . & NUDC   & chr1:26921742-26921743 & Gasperini et al., 2019\\\\\n",
       "\\end{tabular}\n"
      ],
      "text/markdown": [
       "\n",
       "A tibble: 6 × 13\n",
       "\n",
       "| chrom &lt;chr&gt; | chromStart &lt;dbl&gt; | chromEnd &lt;dbl&gt; | chrTSS &lt;chr&gt; | startTSS &lt;chr&gt; | endTSS &lt;chr&gt; | name &lt;chr&gt; | EffectSize &lt;dbl&gt; | Strand1 &lt;chr&gt; | Strand2 &lt;chr&gt; | Gene_Symbol &lt;chr&gt; | Gene_TSS &lt;chr&gt; | Reference &lt;chr&gt; |\n",
       "|---|---|---|---|---|---|---|---|---|---|---|---|---|\n",
       "| chr1 |  3774714 |  3775214 | chr1 | 3857211  | 3857212  | CEP104|chr1:3691278-3691778:* | -0.29343 | . | . | CEP104 | chr1:3857211-3857212   | Ulirsch2016            |\n",
       "| chr1 |  3774714 |  3775214 | chr1 | 3796498  | 3796499  | LRRC47|chr1:3691278-3691778:* | -0.33118 | . | . | LRRC47 | chr1:3796498-3796499   | Ulirsch2016            |\n",
       "| chr1 |  3774714 |  3775214 | chr1 | 3772748  | 3772749  | SMIM1|chr1:3691278-3691778:*  | -0.47202 | . | . | SMIM1  | chr1:3772748-3772749   | Ulirsch2016            |\n",
       "| chr1 |  8858063 |  8858563 | chr1 | 8878686  | 8878687  | ENO1|chr1:8918122-8918622:.   | -0.10741 | . | . | ENO1   | chr1:8878686-8878687   | Gasperini et al., 2019 |\n",
       "| chr1 | 17441310 | 17441810 | chr1 | 17054032 | 17054033 | SDHB|chr1:17767806-17768306:. | -0.08968 | . | . | SDHB   | chr1:17054032-17054033 | Gasperini et al., 2019 |\n",
       "| chr1 | 25933351 | 25933954 | chr1 | 26921742 | 26921743 | NUDC|chr1:26259842-26260445:. | -0.08462 | . | . | NUDC   | chr1:26921742-26921743 | Gasperini et al., 2019 |\n",
       "\n"
      ],
      "text/plain": [
       "  chrom chromStart chromEnd chrTSS startTSS endTSS  \n",
       "1 chr1   3774714    3775214 chr1   3857211  3857212 \n",
       "2 chr1   3774714    3775214 chr1   3796498  3796499 \n",
       "3 chr1   3774714    3775214 chr1   3772748  3772749 \n",
       "4 chr1   8858063    8858563 chr1   8878686  8878687 \n",
       "5 chr1  17441310   17441810 chr1   17054032 17054033\n",
       "6 chr1  25933351   25933954 chr1   26921742 26921743\n",
       "  name                          EffectSize Strand1 Strand2 Gene_Symbol\n",
       "1 CEP104|chr1:3691278-3691778:* -0.29343   .       .       CEP104     \n",
       "2 LRRC47|chr1:3691278-3691778:* -0.33118   .       .       LRRC47     \n",
       "3 SMIM1|chr1:3691278-3691778:*  -0.47202   .       .       SMIM1      \n",
       "4 ENO1|chr1:8918122-8918622:.   -0.10741   .       .       ENO1       \n",
       "5 SDHB|chr1:17767806-17768306:. -0.08968   .       .       SDHB       \n",
       "6 NUDC|chr1:26259842-26260445:. -0.08462   .       .       NUDC       \n",
       "  Gene_TSS               Reference             \n",
       "1 chr1:3857211-3857212   Ulirsch2016           \n",
       "2 chr1:3796498-3796499   Ulirsch2016           \n",
       "3 chr1:3772748-3772749   Ulirsch2016           \n",
       "4 chr1:8878686-8878687   Gasperini et al., 2019\n",
       "5 chr1:17054032-17054033 Gasperini et al., 2019\n",
       "6 chr1:26921742-26921743 Gasperini et al., 2019"
      ]
     },
     "metadata": {},
     "output_type": "display_data"
    }
   ],
   "source": [
    "### init\n",
    "dat = dat_peak_encode_e2g_bedpe\n",
    "txt = c('chrom',  'chromStart', 'chromEnd',\n",
    "        \"chrTSS\", \"startTSS\",   \"endTSS\",\n",
    "        \"name\", \n",
    "        \"EffectSize\", \n",
    "        \"Strand1\", \"Strand2\",\n",
    "        \"Gene_Symbol\", \"Gene_TSS\", \"Reference\")\n",
    "\n",
    "### mapping TSS to the one we are using in FCC study\n",
    "### Caution: relationship = many-to-many\n",
    "dat = dat %>% dplyr::left_join(\n",
    "    dat_annot_tss2gene, \n",
    "    by = \"Gene_Symbol\",\n",
    "    relationship = \"many-to-many\"\n",
    ")\n",
    "\n",
    "### drop the original TSS and rename the column\n",
    "dat = dat %>% \n",
    "    dplyr::select(-Gene_TSS, -chrTSS, -startTSS, -endTSS) %>% \n",
    "    dplyr::rename(Gene_TSS = Gene_TSS_Update) %>% \n",
    "    tidyr::separate(Gene_TSS, c(\"chrTSS\", \"startTSS\", \"endTSS\"), remove = FALSE) %>%\n",
    "    dplyr::distinct() %>%\n",
    "    na.omit\n",
    "\n",
    "### arrange the table\n",
    "dat = dat %>% \n",
    "    dplyr::select({{txt}}) %>% \n",
    "    dplyr::arrange(chrom, chromStart, chromEnd)\n",
    "\n",
    "### assign and show\n",
    "dat_peak_encode_e2g_bedpe_updateTSS = dat\n",
    "\n",
    "print(dim(dat_peak_encode_e2g_bedpe))\n",
    "print(dim(dat_peak_encode_e2g_bedpe_updateTSS))\n",
    "\n",
    "vec_gene   = dat$Gene_Symbol\n",
    "vec_region = paste(dat$chrom, dat$chromStart, dat$chromEnd, sep=\"_\")\n",
    "cat(\"#Row:   \", nrow(dat), \"\\n\")\n",
    "cat(\"#Gene:  \", length(unique(vec_gene)), \"\\n\")\n",
    "cat(\"#Region:\", length(unique(vec_region)), \"\\n\")\n",
    "head(dat)"
   ]
  },
  {
   "cell_type": "code",
   "execution_count": 21,
   "metadata": {},
   "outputs": [
    {
     "name": "stdout",
     "output_type": "stream",
     "text": [
      "[1] 450  18\n"
     ]
    },
    {
     "data": {
      "text/html": [
       "<table class=\"dataframe\">\n",
       "<caption>A tibble: 6 × 18</caption>\n",
       "<thead>\n",
       "\t<tr><th scope=col>chrom</th><th scope=col>chromStart</th><th scope=col>chromEnd</th><th scope=col>name</th><th scope=col>score</th><th scope=col>value</th><th scope=col>exp</th><th scope=col>color</th><th scope=col>sourceChrom</th><th scope=col>sourceStart</th><th scope=col>sourceEnd</th><th scope=col>sourceName</th><th scope=col>sourceStrand</th><th scope=col>targetChrom</th><th scope=col>targetStart</th><th scope=col>targetEnd</th><th scope=col>targetName</th><th scope=col>targetStrand</th></tr>\n",
       "\t<tr><th scope=col>&lt;chr&gt;</th><th scope=col>&lt;dbl&gt;</th><th scope=col>&lt;dbl&gt;</th><th scope=col>&lt;chr&gt;</th><th scope=col>&lt;dbl&gt;</th><th scope=col>&lt;dbl&gt;</th><th scope=col>&lt;chr&gt;</th><th scope=col>&lt;chr&gt;</th><th scope=col>&lt;chr&gt;</th><th scope=col>&lt;dbl&gt;</th><th scope=col>&lt;dbl&gt;</th><th scope=col>&lt;chr&gt;</th><th scope=col>&lt;chr&gt;</th><th scope=col>&lt;chr&gt;</th><th scope=col>&lt;chr&gt;</th><th scope=col>&lt;chr&gt;</th><th scope=col>&lt;chr&gt;</th><th scope=col>&lt;chr&gt;</th></tr>\n",
       "</thead>\n",
       "<tbody>\n",
       "\t<tr><td>chr1</td><td> 3774714</td><td> 3775214</td><td>CEP104|chr1:3691278-3691778:*</td><td>1000</td><td>1</td><td>.</td><td>.</td><td>chr1</td><td> 3774714</td><td> 3775214</td><td>chr1:3774714-3775214  </td><td>.</td><td>chr1</td><td>3857211 </td><td>3857212 </td><td>chr1:3857211-3857212  </td><td>.</td></tr>\n",
       "\t<tr><td>chr1</td><td> 3774714</td><td> 3775214</td><td>LRRC47|chr1:3691278-3691778:*</td><td>1000</td><td>1</td><td>.</td><td>.</td><td>chr1</td><td> 3774714</td><td> 3775214</td><td>chr1:3774714-3775214  </td><td>.</td><td>chr1</td><td>3796498 </td><td>3796499 </td><td>chr1:3796498-3796499  </td><td>.</td></tr>\n",
       "\t<tr><td>chr1</td><td> 3774714</td><td> 3775214</td><td>SMIM1|chr1:3691278-3691778:* </td><td>1000</td><td>1</td><td>.</td><td>.</td><td>chr1</td><td> 3774714</td><td> 3775214</td><td>chr1:3774714-3775214  </td><td>.</td><td>chr1</td><td>3772748 </td><td>3772749 </td><td>chr1:3772748-3772749  </td><td>.</td></tr>\n",
       "\t<tr><td>chr1</td><td> 8858063</td><td> 8858563</td><td>ENO1|chr1:8918122-8918622:.  </td><td>1000</td><td>1</td><td>.</td><td>.</td><td>chr1</td><td> 8858063</td><td> 8858563</td><td>chr1:8858063-8858563  </td><td>.</td><td>chr1</td><td>8878686 </td><td>8878687 </td><td>chr1:8878686-8878687  </td><td>.</td></tr>\n",
       "\t<tr><td>chr1</td><td>17441310</td><td>17441810</td><td>SDHB|chr1:17767806-17768306:.</td><td>1000</td><td>1</td><td>.</td><td>.</td><td>chr1</td><td>17441310</td><td>17441810</td><td>chr1:17441310-17441810</td><td>.</td><td>chr1</td><td>17054032</td><td>17054033</td><td>chr1:17054032-17054033</td><td>.</td></tr>\n",
       "\t<tr><td>chr1</td><td>25933351</td><td>25933954</td><td>NUDC|chr1:26259842-26260445:.</td><td>1000</td><td>1</td><td>.</td><td>.</td><td>chr1</td><td>25933351</td><td>25933954</td><td>chr1:25933351-25933954</td><td>.</td><td>chr1</td><td>26921742</td><td>26921743</td><td>chr1:26921742-26921743</td><td>.</td></tr>\n",
       "</tbody>\n",
       "</table>\n"
      ],
      "text/latex": [
       "A tibble: 6 × 18\n",
       "\\begin{tabular}{llllllllllllllllll}\n",
       " chrom & chromStart & chromEnd & name & score & value & exp & color & sourceChrom & sourceStart & sourceEnd & sourceName & sourceStrand & targetChrom & targetStart & targetEnd & targetName & targetStrand\\\\\n",
       " <chr> & <dbl> & <dbl> & <chr> & <dbl> & <dbl> & <chr> & <chr> & <chr> & <dbl> & <dbl> & <chr> & <chr> & <chr> & <chr> & <chr> & <chr> & <chr>\\\\\n",
       "\\hline\n",
       "\t chr1 &  3774714 &  3775214 & CEP104\\textbar{}chr1:3691278-3691778:* & 1000 & 1 & . & . & chr1 &  3774714 &  3775214 & chr1:3774714-3775214   & . & chr1 & 3857211  & 3857212  & chr1:3857211-3857212   & .\\\\\n",
       "\t chr1 &  3774714 &  3775214 & LRRC47\\textbar{}chr1:3691278-3691778:* & 1000 & 1 & . & . & chr1 &  3774714 &  3775214 & chr1:3774714-3775214   & . & chr1 & 3796498  & 3796499  & chr1:3796498-3796499   & .\\\\\n",
       "\t chr1 &  3774714 &  3775214 & SMIM1\\textbar{}chr1:3691278-3691778:*  & 1000 & 1 & . & . & chr1 &  3774714 &  3775214 & chr1:3774714-3775214   & . & chr1 & 3772748  & 3772749  & chr1:3772748-3772749   & .\\\\\n",
       "\t chr1 &  8858063 &  8858563 & ENO1\\textbar{}chr1:8918122-8918622:.   & 1000 & 1 & . & . & chr1 &  8858063 &  8858563 & chr1:8858063-8858563   & . & chr1 & 8878686  & 8878687  & chr1:8878686-8878687   & .\\\\\n",
       "\t chr1 & 17441310 & 17441810 & SDHB\\textbar{}chr1:17767806-17768306:. & 1000 & 1 & . & . & chr1 & 17441310 & 17441810 & chr1:17441310-17441810 & . & chr1 & 17054032 & 17054033 & chr1:17054032-17054033 & .\\\\\n",
       "\t chr1 & 25933351 & 25933954 & NUDC\\textbar{}chr1:26259842-26260445:. & 1000 & 1 & . & . & chr1 & 25933351 & 25933954 & chr1:25933351-25933954 & . & chr1 & 26921742 & 26921743 & chr1:26921742-26921743 & .\\\\\n",
       "\\end{tabular}\n"
      ],
      "text/markdown": [
       "\n",
       "A tibble: 6 × 18\n",
       "\n",
       "| chrom &lt;chr&gt; | chromStart &lt;dbl&gt; | chromEnd &lt;dbl&gt; | name &lt;chr&gt; | score &lt;dbl&gt; | value &lt;dbl&gt; | exp &lt;chr&gt; | color &lt;chr&gt; | sourceChrom &lt;chr&gt; | sourceStart &lt;dbl&gt; | sourceEnd &lt;dbl&gt; | sourceName &lt;chr&gt; | sourceStrand &lt;chr&gt; | targetChrom &lt;chr&gt; | targetStart &lt;chr&gt; | targetEnd &lt;chr&gt; | targetName &lt;chr&gt; | targetStrand &lt;chr&gt; |\n",
       "|---|---|---|---|---|---|---|---|---|---|---|---|---|---|---|---|---|---|\n",
       "| chr1 |  3774714 |  3775214 | CEP104|chr1:3691278-3691778:* | 1000 | 1 | . | . | chr1 |  3774714 |  3775214 | chr1:3774714-3775214   | . | chr1 | 3857211  | 3857212  | chr1:3857211-3857212   | . |\n",
       "| chr1 |  3774714 |  3775214 | LRRC47|chr1:3691278-3691778:* | 1000 | 1 | . | . | chr1 |  3774714 |  3775214 | chr1:3774714-3775214   | . | chr1 | 3796498  | 3796499  | chr1:3796498-3796499   | . |\n",
       "| chr1 |  3774714 |  3775214 | SMIM1|chr1:3691278-3691778:*  | 1000 | 1 | . | . | chr1 |  3774714 |  3775214 | chr1:3774714-3775214   | . | chr1 | 3772748  | 3772749  | chr1:3772748-3772749   | . |\n",
       "| chr1 |  8858063 |  8858563 | ENO1|chr1:8918122-8918622:.   | 1000 | 1 | . | . | chr1 |  8858063 |  8858563 | chr1:8858063-8858563   | . | chr1 | 8878686  | 8878687  | chr1:8878686-8878687   | . |\n",
       "| chr1 | 17441310 | 17441810 | SDHB|chr1:17767806-17768306:. | 1000 | 1 | . | . | chr1 | 17441310 | 17441810 | chr1:17441310-17441810 | . | chr1 | 17054032 | 17054033 | chr1:17054032-17054033 | . |\n",
       "| chr1 | 25933351 | 25933954 | NUDC|chr1:26259842-26260445:. | 1000 | 1 | . | . | chr1 | 25933351 | 25933954 | chr1:25933351-25933954 | . | chr1 | 26921742 | 26921743 | chr1:26921742-26921743 | . |\n",
       "\n"
      ],
      "text/plain": [
       "  chrom chromStart chromEnd name                          score value exp color\n",
       "1 chr1   3774714    3775214 CEP104|chr1:3691278-3691778:* 1000  1     .   .    \n",
       "2 chr1   3774714    3775214 LRRC47|chr1:3691278-3691778:* 1000  1     .   .    \n",
       "3 chr1   3774714    3775214 SMIM1|chr1:3691278-3691778:*  1000  1     .   .    \n",
       "4 chr1   8858063    8858563 ENO1|chr1:8918122-8918622:.   1000  1     .   .    \n",
       "5 chr1  17441310   17441810 SDHB|chr1:17767806-17768306:. 1000  1     .   .    \n",
       "6 chr1  25933351   25933954 NUDC|chr1:26259842-26260445:. 1000  1     .   .    \n",
       "  sourceChrom sourceStart sourceEnd sourceName             sourceStrand\n",
       "1 chr1         3774714     3775214  chr1:3774714-3775214   .           \n",
       "2 chr1         3774714     3775214  chr1:3774714-3775214   .           \n",
       "3 chr1         3774714     3775214  chr1:3774714-3775214   .           \n",
       "4 chr1         8858063     8858563  chr1:8858063-8858563   .           \n",
       "5 chr1        17441310    17441810  chr1:17441310-17441810 .           \n",
       "6 chr1        25933351    25933954  chr1:25933351-25933954 .           \n",
       "  targetChrom targetStart targetEnd targetName             targetStrand\n",
       "1 chr1        3857211     3857212   chr1:3857211-3857212   .           \n",
       "2 chr1        3796498     3796499   chr1:3796498-3796499   .           \n",
       "3 chr1        3772748     3772749   chr1:3772748-3772749   .           \n",
       "4 chr1        8878686     8878687   chr1:8878686-8878687   .           \n",
       "5 chr1        17054032    17054033  chr1:17054032-17054033 .           \n",
       "6 chr1        26921742    26921743  chr1:26921742-26921743 .           "
      ]
     },
     "metadata": {},
     "output_type": "display_data"
    }
   ],
   "source": [
    "dat = dat_peak_encode_e2g_bedpe_updateTSS\n",
    "\n",
    "dat = dat %>%\n",
    "    dplyr::mutate(score = 1000, value = 1, exp = \".\", color = \".\") %>%\n",
    "    dplyr::mutate(\n",
    "        chromMid = as.integer((chromStart + chromEnd) / 2),\n",
    "        sourceName = paste0(chrom, \":\", chromStart, \"-\", chromEnd),\n",
    "        targetName = Gene_TSS,\n",
    "    ) %>%\n",
    "    dplyr::mutate(\n",
    "        sourceChrom   = chrom,\n",
    "        sourceStart   = chromStart,\n",
    "        sourceEnd     = chromEnd,\n",
    "        sourceStrand  = \".\",\n",
    "        targetChrom   = chrTSS,\n",
    "        targetStart   = startTSS,\n",
    "        targetEnd     = endTSS,\n",
    "        targetStrand  = \".\"\n",
    "    ) %>%\n",
    "    dplyr::select(\n",
    "        chrom, chromStart, chromEnd, name, \n",
    "        score, value, exp, color,\n",
    "        sourceChrom,\n",
    "        sourceStart,\n",
    "        sourceEnd,\n",
    "        sourceName,\n",
    "        sourceStrand,\n",
    "        targetChrom,\n",
    "        targetStart,\n",
    "        targetEnd,\n",
    "        targetName,\n",
    "        targetStrand\n",
    "    )\n",
    "\n",
    "dat_peak_encode_e2g_interact_updateTSS = dat\n",
    "print(dim(dat))\n",
    "head(dat)"
   ]
  },
  {
   "cell_type": "markdown",
   "metadata": {},
   "source": [
    "**Check results: FADS1**"
   ]
  },
  {
   "cell_type": "code",
   "execution_count": 22,
   "metadata": {},
   "outputs": [
    {
     "data": {
      "text/html": [
       "<table class=\"dataframe\">\n",
       "<caption>A tibble: 1 × 5</caption>\n",
       "<thead>\n",
       "\t<tr><th scope=col>Chrom</th><th scope=col>Start</th><th scope=col>End</th><th scope=col>Name</th><th scope=col>Score</th></tr>\n",
       "\t<tr><th scope=col>&lt;chr&gt;</th><th scope=col>&lt;dbl&gt;</th><th scope=col>&lt;dbl&gt;</th><th scope=col>&lt;chr&gt;</th><th scope=col>&lt;dbl&gt;</th></tr>\n",
       "</thead>\n",
       "<tbody>\n",
       "\t<tr><td>chr11</td><td>61817003</td><td>61817004</td><td>FADS1</td><td>158.661</td></tr>\n",
       "</tbody>\n",
       "</table>\n"
      ],
      "text/latex": [
       "A tibble: 1 × 5\n",
       "\\begin{tabular}{lllll}\n",
       " Chrom & Start & End & Name & Score\\\\\n",
       " <chr> & <dbl> & <dbl> & <chr> & <dbl>\\\\\n",
       "\\hline\n",
       "\t chr11 & 61817003 & 61817004 & FADS1 & 158.661\\\\\n",
       "\\end{tabular}\n"
      ],
      "text/markdown": [
       "\n",
       "A tibble: 1 × 5\n",
       "\n",
       "| Chrom &lt;chr&gt; | Start &lt;dbl&gt; | End &lt;dbl&gt; | Name &lt;chr&gt; | Score &lt;dbl&gt; |\n",
       "|---|---|---|---|---|\n",
       "| chr11 | 61817003 | 61817004 | FADS1 | 158.661 |\n",
       "\n"
      ],
      "text/plain": [
       "  Chrom Start    End      Name  Score  \n",
       "1 chr11 61817003 61817004 FADS1 158.661"
      ]
     },
     "metadata": {},
     "output_type": "display_data"
    }
   ],
   "source": [
    "dat = dat_annot_tss_pol2_rnaseq\n",
    "dat = dat %>% dplyr::filter(str_detect(Name, \"FADS1\"))\n",
    "head(dat)"
   ]
  },
  {
   "cell_type": "code",
   "execution_count": 23,
   "metadata": {},
   "outputs": [
    {
     "data": {
      "text/html": [
       "<div style=\"border: 1px solid #ddd; padding: 5px; overflow-x: scroll; width:100%; \"><table class=\"table table-striped\" style=\"margin-left: auto; margin-right: auto;\">\n",
       " <thead>\n",
       "  <tr>\n",
       "   <th style=\"text-align:left;\"> chrom </th>\n",
       "   <th style=\"text-align:right;\"> chromStart </th>\n",
       "   <th style=\"text-align:right;\"> chromEnd </th>\n",
       "   <th style=\"text-align:left;\"> name </th>\n",
       "   <th style=\"text-align:left;\"> sourceChrom </th>\n",
       "   <th style=\"text-align:right;\"> sourceStart </th>\n",
       "   <th style=\"text-align:right;\"> sourceEnd </th>\n",
       "   <th style=\"text-align:left;\"> sourceName </th>\n",
       "   <th style=\"text-align:left;\"> targetChrom </th>\n",
       "   <th style=\"text-align:right;\"> targetStart </th>\n",
       "   <th style=\"text-align:right;\"> targetEnd </th>\n",
       "   <th style=\"text-align:left;\"> targetName </th>\n",
       "  </tr>\n",
       " </thead>\n",
       "<tbody>\n",
       "  <tr>\n",
       "   <td style=\"text-align:left;\"> chr11 </td>\n",
       "   <td style=\"text-align:right;\"> 61834595 </td>\n",
       "   <td style=\"text-align:right;\"> 61834918 </td>\n",
       "   <td style=\"text-align:left;\"> FADS1|chr11:61602067-61602390:* </td>\n",
       "   <td style=\"text-align:left;\"> chr11 </td>\n",
       "   <td style=\"text-align:right;\"> 61834595 </td>\n",
       "   <td style=\"text-align:right;\"> 61834918 </td>\n",
       "   <td style=\"text-align:left;\"> chr11:61834595-61834918 </td>\n",
       "   <td style=\"text-align:left;\"> chr11 </td>\n",
       "   <td style=\"text-align:right;\"> 61829317 </td>\n",
       "   <td style=\"text-align:right;\"> 61829318 </td>\n",
       "   <td style=\"text-align:left;\"> chr11:61829317-61829318 </td>\n",
       "  </tr>\n",
       "  <tr>\n",
       "   <td style=\"text-align:left;\"> chr11 </td>\n",
       "   <td style=\"text-align:right;\"> 61841784 </td>\n",
       "   <td style=\"text-align:right;\"> 61841802 </td>\n",
       "   <td style=\"text-align:left;\"> FADS1|chr11:61609256-61609274:* </td>\n",
       "   <td style=\"text-align:left;\"> chr11 </td>\n",
       "   <td style=\"text-align:right;\"> 61841784 </td>\n",
       "   <td style=\"text-align:right;\"> 61841802 </td>\n",
       "   <td style=\"text-align:left;\"> chr11:61841784-61841802 </td>\n",
       "   <td style=\"text-align:left;\"> chr11 </td>\n",
       "   <td style=\"text-align:right;\"> 61829317 </td>\n",
       "   <td style=\"text-align:right;\"> 61829318 </td>\n",
       "   <td style=\"text-align:left;\"> chr11:61829317-61829318 </td>\n",
       "  </tr>\n",
       "  <tr>\n",
       "   <td style=\"text-align:left;\"> chr11 </td>\n",
       "   <td style=\"text-align:right;\"> 61871048 </td>\n",
       "   <td style=\"text-align:right;\"> 61871769 </td>\n",
       "   <td style=\"text-align:left;\"> FADS1|chr11:61638520-61639241:. </td>\n",
       "   <td style=\"text-align:left;\"> chr11 </td>\n",
       "   <td style=\"text-align:right;\"> 61871048 </td>\n",
       "   <td style=\"text-align:right;\"> 61871769 </td>\n",
       "   <td style=\"text-align:left;\"> chr11:61871048-61871769 </td>\n",
       "   <td style=\"text-align:left;\"> chr11 </td>\n",
       "   <td style=\"text-align:right;\"> 61829317 </td>\n",
       "   <td style=\"text-align:right;\"> 61829318 </td>\n",
       "   <td style=\"text-align:left;\"> chr11:61829317-61829318 </td>\n",
       "  </tr>\n",
       "</tbody>\n",
       "</table></div>"
      ]
     },
     "metadata": {},
     "output_type": "display_data"
    }
   ],
   "source": [
    "dat = dat_peak_encode_e2g_interact\n",
    "dat = dat %>% \n",
    "    dplyr::filter(str_detect(name, \"FADS1\")) %>%\n",
    "    dplyr::select(\n",
    "        chrom, chromStart, chromEnd, name, \n",
    "        sourceChrom, sourceStart, sourceEnd, sourceName,\n",
    "        targetChrom, targetStart, targetEnd, targetName)\n",
    "fun_display_table(dat)"
   ]
  },
  {
   "cell_type": "code",
   "execution_count": 24,
   "metadata": {},
   "outputs": [
    {
     "data": {
      "text/html": [
       "<div style=\"border: 1px solid #ddd; padding: 5px; overflow-x: scroll; width:100%; \"><table class=\"table table-striped\" style=\"margin-left: auto; margin-right: auto;\">\n",
       " <thead>\n",
       "  <tr>\n",
       "   <th style=\"text-align:left;\"> chrom </th>\n",
       "   <th style=\"text-align:right;\"> chromStart </th>\n",
       "   <th style=\"text-align:right;\"> chromEnd </th>\n",
       "   <th style=\"text-align:left;\"> name </th>\n",
       "   <th style=\"text-align:left;\"> sourceChrom </th>\n",
       "   <th style=\"text-align:right;\"> sourceStart </th>\n",
       "   <th style=\"text-align:right;\"> sourceEnd </th>\n",
       "   <th style=\"text-align:left;\"> sourceName </th>\n",
       "   <th style=\"text-align:left;\"> targetChrom </th>\n",
       "   <th style=\"text-align:left;\"> targetStart </th>\n",
       "   <th style=\"text-align:left;\"> targetEnd </th>\n",
       "   <th style=\"text-align:left;\"> targetName </th>\n",
       "  </tr>\n",
       " </thead>\n",
       "<tbody>\n",
       "  <tr>\n",
       "   <td style=\"text-align:left;\"> chr11 </td>\n",
       "   <td style=\"text-align:right;\"> 61834595 </td>\n",
       "   <td style=\"text-align:right;\"> 61834918 </td>\n",
       "   <td style=\"text-align:left;\"> FADS1|chr11:61602067-61602390:* </td>\n",
       "   <td style=\"text-align:left;\"> chr11 </td>\n",
       "   <td style=\"text-align:right;\"> 61834595 </td>\n",
       "   <td style=\"text-align:right;\"> 61834918 </td>\n",
       "   <td style=\"text-align:left;\"> chr11:61834595-61834918 </td>\n",
       "   <td style=\"text-align:left;\"> chr11 </td>\n",
       "   <td style=\"text-align:left;\"> 61817003 </td>\n",
       "   <td style=\"text-align:left;\"> 61817004 </td>\n",
       "   <td style=\"text-align:left;\"> chr11:61817003-61817004 </td>\n",
       "  </tr>\n",
       "  <tr>\n",
       "   <td style=\"text-align:left;\"> chr11 </td>\n",
       "   <td style=\"text-align:right;\"> 61841784 </td>\n",
       "   <td style=\"text-align:right;\"> 61841802 </td>\n",
       "   <td style=\"text-align:left;\"> FADS1|chr11:61609256-61609274:* </td>\n",
       "   <td style=\"text-align:left;\"> chr11 </td>\n",
       "   <td style=\"text-align:right;\"> 61841784 </td>\n",
       "   <td style=\"text-align:right;\"> 61841802 </td>\n",
       "   <td style=\"text-align:left;\"> chr11:61841784-61841802 </td>\n",
       "   <td style=\"text-align:left;\"> chr11 </td>\n",
       "   <td style=\"text-align:left;\"> 61817003 </td>\n",
       "   <td style=\"text-align:left;\"> 61817004 </td>\n",
       "   <td style=\"text-align:left;\"> chr11:61817003-61817004 </td>\n",
       "  </tr>\n",
       "  <tr>\n",
       "   <td style=\"text-align:left;\"> chr11 </td>\n",
       "   <td style=\"text-align:right;\"> 61871048 </td>\n",
       "   <td style=\"text-align:right;\"> 61871769 </td>\n",
       "   <td style=\"text-align:left;\"> FADS1|chr11:61638520-61639241:. </td>\n",
       "   <td style=\"text-align:left;\"> chr11 </td>\n",
       "   <td style=\"text-align:right;\"> 61871048 </td>\n",
       "   <td style=\"text-align:right;\"> 61871769 </td>\n",
       "   <td style=\"text-align:left;\"> chr11:61871048-61871769 </td>\n",
       "   <td style=\"text-align:left;\"> chr11 </td>\n",
       "   <td style=\"text-align:left;\"> 61817003 </td>\n",
       "   <td style=\"text-align:left;\"> 61817004 </td>\n",
       "   <td style=\"text-align:left;\"> chr11:61817003-61817004 </td>\n",
       "  </tr>\n",
       "</tbody>\n",
       "</table></div>"
      ]
     },
     "metadata": {},
     "output_type": "display_data"
    }
   ],
   "source": [
    "dat = dat_peak_encode_e2g_interact_updateTSS\n",
    "dat = dat %>% \n",
    "    dplyr::filter(str_detect(name, \"FADS1\")) %>%\n",
    "    dplyr::select(\n",
    "        chrom, chromStart, chromEnd, name, \n",
    "        sourceChrom, sourceStart, sourceEnd, sourceName,\n",
    "        targetChrom, targetStart, targetEnd, targetName)\n",
    "fun_display_table(dat)"
   ]
  },
  {
   "cell_type": "markdown",
   "metadata": {},
   "source": [
    "**Check results: HBE1**"
   ]
  },
  {
   "cell_type": "code",
   "execution_count": 25,
   "metadata": {},
   "outputs": [
    {
     "data": {
      "text/html": [
       "<table class=\"dataframe\">\n",
       "<caption>A tibble: 1 × 5</caption>\n",
       "<thead>\n",
       "\t<tr><th scope=col>Chrom</th><th scope=col>Start</th><th scope=col>End</th><th scope=col>Name</th><th scope=col>Score</th></tr>\n",
       "\t<tr><th scope=col>&lt;chr&gt;</th><th scope=col>&lt;dbl&gt;</th><th scope=col>&lt;dbl&gt;</th><th scope=col>&lt;chr&gt;</th><th scope=col>&lt;dbl&gt;</th></tr>\n",
       "</thead>\n",
       "<tbody>\n",
       "\t<tr><td>chr11</td><td>5269945</td><td>5269946</td><td>HBE1</td><td>319.925</td></tr>\n",
       "</tbody>\n",
       "</table>\n"
      ],
      "text/latex": [
       "A tibble: 1 × 5\n",
       "\\begin{tabular}{lllll}\n",
       " Chrom & Start & End & Name & Score\\\\\n",
       " <chr> & <dbl> & <dbl> & <chr> & <dbl>\\\\\n",
       "\\hline\n",
       "\t chr11 & 5269945 & 5269946 & HBE1 & 319.925\\\\\n",
       "\\end{tabular}\n"
      ],
      "text/markdown": [
       "\n",
       "A tibble: 1 × 5\n",
       "\n",
       "| Chrom &lt;chr&gt; | Start &lt;dbl&gt; | End &lt;dbl&gt; | Name &lt;chr&gt; | Score &lt;dbl&gt; |\n",
       "|---|---|---|---|---|\n",
       "| chr11 | 5269945 | 5269946 | HBE1 | 319.925 |\n",
       "\n"
      ],
      "text/plain": [
       "  Chrom Start   End     Name Score  \n",
       "1 chr11 5269945 5269946 HBE1 319.925"
      ]
     },
     "metadata": {},
     "output_type": "display_data"
    }
   ],
   "source": [
    "dat = dat_annot_tss_pol2_rnaseq\n",
    "txt = \"HBE1\"\n",
    "dat = dat %>% dplyr::filter(str_detect(Name, txt))\n",
    "head(dat)"
   ]
  },
  {
   "cell_type": "code",
   "execution_count": 26,
   "metadata": {},
   "outputs": [
    {
     "data": {
      "text/html": [
       "<div style=\"border: 1px solid #ddd; padding: 5px; overflow-x: scroll; width:100%; \"><table class=\"table table-striped\" style=\"margin-left: auto; margin-right: auto;\">\n",
       " <thead>\n",
       "  <tr>\n",
       "   <th style=\"text-align:left;\"> chrom </th>\n",
       "   <th style=\"text-align:right;\"> chromStart </th>\n",
       "   <th style=\"text-align:right;\"> chromEnd </th>\n",
       "   <th style=\"text-align:left;\"> name </th>\n",
       "   <th style=\"text-align:left;\"> sourceChrom </th>\n",
       "   <th style=\"text-align:right;\"> sourceStart </th>\n",
       "   <th style=\"text-align:right;\"> sourceEnd </th>\n",
       "   <th style=\"text-align:left;\"> sourceName </th>\n",
       "   <th style=\"text-align:left;\"> targetChrom </th>\n",
       "   <th style=\"text-align:right;\"> targetStart </th>\n",
       "   <th style=\"text-align:right;\"> targetEnd </th>\n",
       "   <th style=\"text-align:left;\"> targetName </th>\n",
       "  </tr>\n",
       " </thead>\n",
       "<tbody>\n",
       "  <tr>\n",
       "   <td style=\"text-align:left;\"> chr11 </td>\n",
       "   <td style=\"text-align:right;\"> 5272749 </td>\n",
       "   <td style=\"text-align:right;\"> 5272943 </td>\n",
       "   <td style=\"text-align:left;\"> HBE1|chr11:5272749-5272943:. </td>\n",
       "   <td style=\"text-align:left;\"> chr11 </td>\n",
       "   <td style=\"text-align:right;\"> 5272749 </td>\n",
       "   <td style=\"text-align:right;\"> 5272943 </td>\n",
       "   <td style=\"text-align:left;\"> chr11:5272749-5272943 </td>\n",
       "   <td style=\"text-align:left;\"> chr11 </td>\n",
       "   <td style=\"text-align:right;\"> 5505652 </td>\n",
       "   <td style=\"text-align:right;\"> 5505653 </td>\n",
       "   <td style=\"text-align:left;\"> chr11:5505652-5505653 </td>\n",
       "  </tr>\n",
       "  <tr>\n",
       "   <td style=\"text-align:left;\"> chr11 </td>\n",
       "   <td style=\"text-align:right;\"> 5275735 </td>\n",
       "   <td style=\"text-align:right;\"> 5276235 </td>\n",
       "   <td style=\"text-align:left;\"> HBE1|chr11:5296965-5297465:* </td>\n",
       "   <td style=\"text-align:left;\"> chr11 </td>\n",
       "   <td style=\"text-align:right;\"> 5275735 </td>\n",
       "   <td style=\"text-align:right;\"> 5276235 </td>\n",
       "   <td style=\"text-align:left;\"> chr11:5275735-5276235 </td>\n",
       "   <td style=\"text-align:left;\"> chr11 </td>\n",
       "   <td style=\"text-align:right;\"> 5505651 </td>\n",
       "   <td style=\"text-align:right;\"> 5505652 </td>\n",
       "   <td style=\"text-align:left;\"> chr11:5505651-5505652 </td>\n",
       "  </tr>\n",
       "  <tr>\n",
       "   <td style=\"text-align:left;\"> chr11 </td>\n",
       "   <td style=\"text-align:right;\"> 5277927 </td>\n",
       "   <td style=\"text-align:right;\"> 5278054 </td>\n",
       "   <td style=\"text-align:left;\"> HBE1|chr11:5277927-5278054:. </td>\n",
       "   <td style=\"text-align:left;\"> chr11 </td>\n",
       "   <td style=\"text-align:right;\"> 5277927 </td>\n",
       "   <td style=\"text-align:right;\"> 5278054 </td>\n",
       "   <td style=\"text-align:left;\"> chr11:5277927-5278054 </td>\n",
       "   <td style=\"text-align:left;\"> chr11 </td>\n",
       "   <td style=\"text-align:right;\"> 5505652 </td>\n",
       "   <td style=\"text-align:right;\"> 5505653 </td>\n",
       "   <td style=\"text-align:left;\"> chr11:5505652-5505653 </td>\n",
       "  </tr>\n",
       "  <tr>\n",
       "   <td style=\"text-align:left;\"> chr11 </td>\n",
       "   <td style=\"text-align:right;\"> 5278635 </td>\n",
       "   <td style=\"text-align:right;\"> 5279175 </td>\n",
       "   <td style=\"text-align:left;\"> HBE1|chr11:5299865-5300405:* </td>\n",
       "   <td style=\"text-align:left;\"> chr11 </td>\n",
       "   <td style=\"text-align:right;\"> 5278635 </td>\n",
       "   <td style=\"text-align:right;\"> 5279175 </td>\n",
       "   <td style=\"text-align:left;\"> chr11:5278635-5279175 </td>\n",
       "   <td style=\"text-align:left;\"> chr11 </td>\n",
       "   <td style=\"text-align:right;\"> 5505651 </td>\n",
       "   <td style=\"text-align:right;\"> 5505652 </td>\n",
       "   <td style=\"text-align:left;\"> chr11:5505651-5505652 </td>\n",
       "  </tr>\n",
       "  <tr>\n",
       "   <td style=\"text-align:left;\"> chr11 </td>\n",
       "   <td style=\"text-align:right;\"> 5280370 </td>\n",
       "   <td style=\"text-align:right;\"> 5281170 </td>\n",
       "   <td style=\"text-align:left;\"> HBE1|chr11:5301600-5302400:* </td>\n",
       "   <td style=\"text-align:left;\"> chr11 </td>\n",
       "   <td style=\"text-align:right;\"> 5280370 </td>\n",
       "   <td style=\"text-align:right;\"> 5281170 </td>\n",
       "   <td style=\"text-align:left;\"> chr11:5280370-5281170 </td>\n",
       "   <td style=\"text-align:left;\"> chr11 </td>\n",
       "   <td style=\"text-align:right;\"> 5505651 </td>\n",
       "   <td style=\"text-align:right;\"> 5505652 </td>\n",
       "   <td style=\"text-align:left;\"> chr11:5505651-5505652 </td>\n",
       "  </tr>\n",
       "  <tr>\n",
       "   <td style=\"text-align:left;\"> chr11 </td>\n",
       "   <td style=\"text-align:right;\"> 5284535 </td>\n",
       "   <td style=\"text-align:right;\"> 5285035 </td>\n",
       "   <td style=\"text-align:left;\"> HBE1|chr11:5305765-5306265:* </td>\n",
       "   <td style=\"text-align:left;\"> chr11 </td>\n",
       "   <td style=\"text-align:right;\"> 5284535 </td>\n",
       "   <td style=\"text-align:right;\"> 5285035 </td>\n",
       "   <td style=\"text-align:left;\"> chr11:5284535-5285035 </td>\n",
       "   <td style=\"text-align:left;\"> chr11 </td>\n",
       "   <td style=\"text-align:right;\"> 5505651 </td>\n",
       "   <td style=\"text-align:right;\"> 5505652 </td>\n",
       "   <td style=\"text-align:left;\"> chr11:5505651-5505652 </td>\n",
       "  </tr>\n",
       "  <tr>\n",
       "   <td style=\"text-align:left;\"> chr11 </td>\n",
       "   <td style=\"text-align:right;\"> 5288035 </td>\n",
       "   <td style=\"text-align:right;\"> 5288555 </td>\n",
       "   <td style=\"text-align:left;\"> HBE1|chr11:5309265-5309785:* </td>\n",
       "   <td style=\"text-align:left;\"> chr11 </td>\n",
       "   <td style=\"text-align:right;\"> 5288035 </td>\n",
       "   <td style=\"text-align:right;\"> 5288555 </td>\n",
       "   <td style=\"text-align:left;\"> chr11:5288035-5288555 </td>\n",
       "   <td style=\"text-align:left;\"> chr11 </td>\n",
       "   <td style=\"text-align:right;\"> 5505651 </td>\n",
       "   <td style=\"text-align:right;\"> 5505652 </td>\n",
       "   <td style=\"text-align:left;\"> chr11:5505651-5505652 </td>\n",
       "  </tr>\n",
       "</tbody>\n",
       "</table></div>"
      ]
     },
     "metadata": {},
     "output_type": "display_data"
    }
   ],
   "source": [
    "dat = dat_peak_encode_e2g_interact\n",
    "txt = \"HBE1\"\n",
    "dat = dat %>% \n",
    "    dplyr::filter(str_detect(name, txt)) %>%\n",
    "    dplyr::select(\n",
    "        chrom, chromStart, chromEnd, name, \n",
    "        sourceChrom, sourceStart, sourceEnd, sourceName,\n",
    "        targetChrom, targetStart, targetEnd, targetName)\n",
    "fun_display_table(dat)"
   ]
  },
  {
   "cell_type": "code",
   "execution_count": 27,
   "metadata": {},
   "outputs": [
    {
     "data": {
      "text/html": [
       "<div style=\"border: 1px solid #ddd; padding: 5px; overflow-x: scroll; width:100%; \"><table class=\"table table-striped\" style=\"margin-left: auto; margin-right: auto;\">\n",
       " <thead>\n",
       "  <tr>\n",
       "   <th style=\"text-align:left;\"> chrom </th>\n",
       "   <th style=\"text-align:right;\"> chromStart </th>\n",
       "   <th style=\"text-align:right;\"> chromEnd </th>\n",
       "   <th style=\"text-align:left;\"> name </th>\n",
       "   <th style=\"text-align:left;\"> sourceChrom </th>\n",
       "   <th style=\"text-align:right;\"> sourceStart </th>\n",
       "   <th style=\"text-align:right;\"> sourceEnd </th>\n",
       "   <th style=\"text-align:left;\"> sourceName </th>\n",
       "   <th style=\"text-align:left;\"> targetChrom </th>\n",
       "   <th style=\"text-align:left;\"> targetStart </th>\n",
       "   <th style=\"text-align:left;\"> targetEnd </th>\n",
       "   <th style=\"text-align:left;\"> targetName </th>\n",
       "  </tr>\n",
       " </thead>\n",
       "<tbody>\n",
       "  <tr>\n",
       "   <td style=\"text-align:left;\"> chr11 </td>\n",
       "   <td style=\"text-align:right;\"> 5272749 </td>\n",
       "   <td style=\"text-align:right;\"> 5272943 </td>\n",
       "   <td style=\"text-align:left;\"> HBE1|chr11:5272749-5272943:. </td>\n",
       "   <td style=\"text-align:left;\"> chr11 </td>\n",
       "   <td style=\"text-align:right;\"> 5272749 </td>\n",
       "   <td style=\"text-align:right;\"> 5272943 </td>\n",
       "   <td style=\"text-align:left;\"> chr11:5272749-5272943 </td>\n",
       "   <td style=\"text-align:left;\"> chr11 </td>\n",
       "   <td style=\"text-align:left;\"> 5269945 </td>\n",
       "   <td style=\"text-align:left;\"> 5269946 </td>\n",
       "   <td style=\"text-align:left;\"> chr11:5269945-5269946 </td>\n",
       "  </tr>\n",
       "  <tr>\n",
       "   <td style=\"text-align:left;\"> chr11 </td>\n",
       "   <td style=\"text-align:right;\"> 5275735 </td>\n",
       "   <td style=\"text-align:right;\"> 5276235 </td>\n",
       "   <td style=\"text-align:left;\"> HBE1|chr11:5296965-5297465:* </td>\n",
       "   <td style=\"text-align:left;\"> chr11 </td>\n",
       "   <td style=\"text-align:right;\"> 5275735 </td>\n",
       "   <td style=\"text-align:right;\"> 5276235 </td>\n",
       "   <td style=\"text-align:left;\"> chr11:5275735-5276235 </td>\n",
       "   <td style=\"text-align:left;\"> chr11 </td>\n",
       "   <td style=\"text-align:left;\"> 5269945 </td>\n",
       "   <td style=\"text-align:left;\"> 5269946 </td>\n",
       "   <td style=\"text-align:left;\"> chr11:5269945-5269946 </td>\n",
       "  </tr>\n",
       "  <tr>\n",
       "   <td style=\"text-align:left;\"> chr11 </td>\n",
       "   <td style=\"text-align:right;\"> 5277927 </td>\n",
       "   <td style=\"text-align:right;\"> 5278054 </td>\n",
       "   <td style=\"text-align:left;\"> HBE1|chr11:5277927-5278054:. </td>\n",
       "   <td style=\"text-align:left;\"> chr11 </td>\n",
       "   <td style=\"text-align:right;\"> 5277927 </td>\n",
       "   <td style=\"text-align:right;\"> 5278054 </td>\n",
       "   <td style=\"text-align:left;\"> chr11:5277927-5278054 </td>\n",
       "   <td style=\"text-align:left;\"> chr11 </td>\n",
       "   <td style=\"text-align:left;\"> 5269945 </td>\n",
       "   <td style=\"text-align:left;\"> 5269946 </td>\n",
       "   <td style=\"text-align:left;\"> chr11:5269945-5269946 </td>\n",
       "  </tr>\n",
       "  <tr>\n",
       "   <td style=\"text-align:left;\"> chr11 </td>\n",
       "   <td style=\"text-align:right;\"> 5278635 </td>\n",
       "   <td style=\"text-align:right;\"> 5279175 </td>\n",
       "   <td style=\"text-align:left;\"> HBE1|chr11:5299865-5300405:* </td>\n",
       "   <td style=\"text-align:left;\"> chr11 </td>\n",
       "   <td style=\"text-align:right;\"> 5278635 </td>\n",
       "   <td style=\"text-align:right;\"> 5279175 </td>\n",
       "   <td style=\"text-align:left;\"> chr11:5278635-5279175 </td>\n",
       "   <td style=\"text-align:left;\"> chr11 </td>\n",
       "   <td style=\"text-align:left;\"> 5269945 </td>\n",
       "   <td style=\"text-align:left;\"> 5269946 </td>\n",
       "   <td style=\"text-align:left;\"> chr11:5269945-5269946 </td>\n",
       "  </tr>\n",
       "  <tr>\n",
       "   <td style=\"text-align:left;\"> chr11 </td>\n",
       "   <td style=\"text-align:right;\"> 5280370 </td>\n",
       "   <td style=\"text-align:right;\"> 5281170 </td>\n",
       "   <td style=\"text-align:left;\"> HBE1|chr11:5301600-5302400:* </td>\n",
       "   <td style=\"text-align:left;\"> chr11 </td>\n",
       "   <td style=\"text-align:right;\"> 5280370 </td>\n",
       "   <td style=\"text-align:right;\"> 5281170 </td>\n",
       "   <td style=\"text-align:left;\"> chr11:5280370-5281170 </td>\n",
       "   <td style=\"text-align:left;\"> chr11 </td>\n",
       "   <td style=\"text-align:left;\"> 5269945 </td>\n",
       "   <td style=\"text-align:left;\"> 5269946 </td>\n",
       "   <td style=\"text-align:left;\"> chr11:5269945-5269946 </td>\n",
       "  </tr>\n",
       "  <tr>\n",
       "   <td style=\"text-align:left;\"> chr11 </td>\n",
       "   <td style=\"text-align:right;\"> 5284535 </td>\n",
       "   <td style=\"text-align:right;\"> 5285035 </td>\n",
       "   <td style=\"text-align:left;\"> HBE1|chr11:5305765-5306265:* </td>\n",
       "   <td style=\"text-align:left;\"> chr11 </td>\n",
       "   <td style=\"text-align:right;\"> 5284535 </td>\n",
       "   <td style=\"text-align:right;\"> 5285035 </td>\n",
       "   <td style=\"text-align:left;\"> chr11:5284535-5285035 </td>\n",
       "   <td style=\"text-align:left;\"> chr11 </td>\n",
       "   <td style=\"text-align:left;\"> 5269945 </td>\n",
       "   <td style=\"text-align:left;\"> 5269946 </td>\n",
       "   <td style=\"text-align:left;\"> chr11:5269945-5269946 </td>\n",
       "  </tr>\n",
       "  <tr>\n",
       "   <td style=\"text-align:left;\"> chr11 </td>\n",
       "   <td style=\"text-align:right;\"> 5288035 </td>\n",
       "   <td style=\"text-align:right;\"> 5288555 </td>\n",
       "   <td style=\"text-align:left;\"> HBE1|chr11:5309265-5309785:* </td>\n",
       "   <td style=\"text-align:left;\"> chr11 </td>\n",
       "   <td style=\"text-align:right;\"> 5288035 </td>\n",
       "   <td style=\"text-align:right;\"> 5288555 </td>\n",
       "   <td style=\"text-align:left;\"> chr11:5288035-5288555 </td>\n",
       "   <td style=\"text-align:left;\"> chr11 </td>\n",
       "   <td style=\"text-align:left;\"> 5269945 </td>\n",
       "   <td style=\"text-align:left;\"> 5269946 </td>\n",
       "   <td style=\"text-align:left;\"> chr11:5269945-5269946 </td>\n",
       "  </tr>\n",
       "</tbody>\n",
       "</table></div>"
      ]
     },
     "metadata": {},
     "output_type": "display_data"
    }
   ],
   "source": [
    "dat = dat_peak_encode_e2g_interact_updateTSS\n",
    "txt = \"HBE1\"\n",
    "dat = dat %>% \n",
    "    dplyr::filter(str_detect(name, txt)) %>%\n",
    "    dplyr::select(\n",
    "        chrom, chromStart, chromEnd, name, \n",
    "        sourceChrom, sourceStart, sourceEnd, sourceName,\n",
    "        targetChrom, targetStart, targetEnd, targetName)\n",
    "fun_display_table(dat)"
   ]
  },
  {
   "cell_type": "markdown",
   "metadata": {},
   "source": [
    "## Save results"
   ]
  },
  {
   "cell_type": "code",
   "execution_count": 28,
   "metadata": {},
   "outputs": [],
   "source": [
    "FD_OUT = file.path(FD_RES, \"results\", \"region\", \"annotation_encode_e2g_benchmark\")"
   ]
  },
  {
   "cell_type": "code",
   "execution_count": 29,
   "metadata": {},
   "outputs": [
    {
     "name": "stdout",
     "output_type": "stream",
     "text": [
      "[1] \"/data/reddylab/Kuei/out/proj_combeffect_encode_fcc/results/region/annotation_encode_e2g_benchmark/description.tsv\"\n"
     ]
    },
    {
     "data": {
      "text/html": [
       "<table class=\"dataframe\">\n",
       "<caption>A tibble: 12 × 2</caption>\n",
       "<thead>\n",
       "\t<tr><th scope=col>Name</th><th scope=col>Description</th></tr>\n",
       "\t<tr><th scope=col>&lt;chr&gt;</th><th scope=col>&lt;chr&gt;</th></tr>\n",
       "</thead>\n",
       "<tbody>\n",
       "\t<tr><td>Chrom      </td><td>Chromosome of the perturbed element                                                                              </td></tr>\n",
       "\t<tr><td>Start      </td><td>Start of the perturbed element (0-based)                                                                         </td></tr>\n",
       "\t<tr><td>End        </td><td>End of the perturbed element                                                                                     </td></tr>\n",
       "\t<tr><td>Name       </td><td>Identifier for the given E-G pair in the form of 'gene|chr:start-stop:strand', e.g. 'BET1L|chr11:220536-220704:*'</td></tr>\n",
       "\t<tr><td>Score      </td><td>Change in gene expression upon CRISPRi perturbation, e.g. precentage change in expression or log fold change     </td></tr>\n",
       "\t<tr><td>Region     </td><td>Location of the perturbed element                                                                                </td></tr>\n",
       "\t<tr><td>Gene_Symbol</td><td>target gene symbol                                                                                               </td></tr>\n",
       "\t<tr><td>Gene_TSS   </td><td>target gene TSS                                                                                                  </td></tr>\n",
       "\t<tr><td>Regulated  </td><td>Whether it is postive case or negative case; True for postive case                                               </td></tr>\n",
       "\t<tr><td>Reference  </td><td>Study from which this E-G pair was collected, e.g. Fulco2019                                                     </td></tr>\n",
       "\t<tr><td>Assay_Type </td><td>Assay type                                                                                                       </td></tr>\n",
       "\t<tr><td>Assay_Label</td><td>Assay label                                                                                                      </td></tr>\n",
       "</tbody>\n",
       "</table>\n"
      ],
      "text/latex": [
       "A tibble: 12 × 2\n",
       "\\begin{tabular}{ll}\n",
       " Name & Description\\\\\n",
       " <chr> & <chr>\\\\\n",
       "\\hline\n",
       "\t Chrom       & Chromosome of the perturbed element                                                                              \\\\\n",
       "\t Start       & Start of the perturbed element (0-based)                                                                         \\\\\n",
       "\t End         & End of the perturbed element                                                                                     \\\\\n",
       "\t Name        & Identifier for the given E-G pair in the form of 'gene\\textbar{}chr:start-stop:strand', e.g. 'BET1L\\textbar{}chr11:220536-220704:*'\\\\\n",
       "\t Score       & Change in gene expression upon CRISPRi perturbation, e.g. precentage change in expression or log fold change     \\\\\n",
       "\t Region      & Location of the perturbed element                                                                                \\\\\n",
       "\t Gene\\_Symbol & target gene symbol                                                                                               \\\\\n",
       "\t Gene\\_TSS    & target gene TSS                                                                                                  \\\\\n",
       "\t Regulated   & Whether it is postive case or negative case; True for postive case                                               \\\\\n",
       "\t Reference   & Study from which this E-G pair was collected, e.g. Fulco2019                                                     \\\\\n",
       "\t Assay\\_Type  & Assay type                                                                                                       \\\\\n",
       "\t Assay\\_Label & Assay label                                                                                                      \\\\\n",
       "\\end{tabular}\n"
      ],
      "text/markdown": [
       "\n",
       "A tibble: 12 × 2\n",
       "\n",
       "| Name &lt;chr&gt; | Description &lt;chr&gt; |\n",
       "|---|---|\n",
       "| Chrom       | Chromosome of the perturbed element                                                                               |\n",
       "| Start       | Start of the perturbed element (0-based)                                                                          |\n",
       "| End         | End of the perturbed element                                                                                      |\n",
       "| Name        | Identifier for the given E-G pair in the form of 'gene|chr:start-stop:strand', e.g. 'BET1L|chr11:220536-220704:*' |\n",
       "| Score       | Change in gene expression upon CRISPRi perturbation, e.g. precentage change in expression or log fold change      |\n",
       "| Region      | Location of the perturbed element                                                                                 |\n",
       "| Gene_Symbol | target gene symbol                                                                                                |\n",
       "| Gene_TSS    | target gene TSS                                                                                                   |\n",
       "| Regulated   | Whether it is postive case or negative case; True for postive case                                                |\n",
       "| Reference   | Study from which this E-G pair was collected, e.g. Fulco2019                                                      |\n",
       "| Assay_Type  | Assay type                                                                                                        |\n",
       "| Assay_Label | Assay label                                                                                                       |\n",
       "\n"
      ],
      "text/plain": [
       "   Name       \n",
       "1  Chrom      \n",
       "2  Start      \n",
       "3  End        \n",
       "4  Name       \n",
       "5  Score      \n",
       "6  Region     \n",
       "7  Gene_Symbol\n",
       "8  Gene_TSS   \n",
       "9  Regulated  \n",
       "10 Reference  \n",
       "11 Assay_Type \n",
       "12 Assay_Label\n",
       "   Description                                                                                                      \n",
       "1  Chromosome of the perturbed element                                                                              \n",
       "2  Start of the perturbed element (0-based)                                                                         \n",
       "3  End of the perturbed element                                                                                     \n",
       "4  Identifier for the given E-G pair in the form of 'gene|chr:start-stop:strand', e.g. 'BET1L|chr11:220536-220704:*'\n",
       "5  Change in gene expression upon CRISPRi perturbation, e.g. precentage change in expression or log fold change     \n",
       "6  Location of the perturbed element                                                                                \n",
       "7  target gene symbol                                                                                               \n",
       "8  target gene TSS                                                                                                  \n",
       "9  Whether it is postive case or negative case; True for postive case                                               \n",
       "10 Study from which this E-G pair was collected, e.g. Fulco2019                                                     \n",
       "11 Assay type                                                                                                       \n",
       "12 Assay label                                                                                                      "
      ]
     },
     "metadata": {},
     "output_type": "display_data"
    }
   ],
   "source": [
    "fdiry = FD_OUT\n",
    "fname = \"description.tsv\"\n",
    "fpath = file.path(fdiry, fname)\n",
    "print(fpath)\n",
    "\n",
    "dat = dat_cnames\n",
    "write_tsv(dat, fpath)\n",
    "dat"
   ]
  },
  {
   "cell_type": "code",
   "execution_count": 30,
   "metadata": {},
   "outputs": [
    {
     "name": "stdout",
     "output_type": "stream",
     "text": [
      "[1] \"/data/reddylab/Kuei/out/proj_combeffect_encode_fcc/results/region/annotation_encode_e2g_benchmark/K562.EPCrisprBenchmark.total.bed.gz\"\n"
     ]
    },
    {
     "data": {
      "text/html": [
       "<table class=\"dataframe\">\n",
       "<caption>A tibble: 6 × 12</caption>\n",
       "<thead>\n",
       "\t<tr><th scope=col>Chrom</th><th scope=col>Start</th><th scope=col>End</th><th scope=col>Name</th><th scope=col>EffectSize</th><th scope=col>Region</th><th scope=col>Gene_Symbol</th><th scope=col>Gene_TSS</th><th scope=col>Regulated</th><th scope=col>Reference</th><th scope=col>Assay_Type</th><th scope=col>Assay_Label</th></tr>\n",
       "\t<tr><th scope=col>&lt;chr&gt;</th><th scope=col>&lt;dbl&gt;</th><th scope=col>&lt;dbl&gt;</th><th scope=col>&lt;chr&gt;</th><th scope=col>&lt;dbl&gt;</th><th scope=col>&lt;chr&gt;</th><th scope=col>&lt;chr&gt;</th><th scope=col>&lt;chr&gt;</th><th scope=col>&lt;lgl&gt;</th><th scope=col>&lt;chr&gt;</th><th scope=col>&lt;chr&gt;</th><th scope=col>&lt;chr&gt;</th></tr>\n",
       "</thead>\n",
       "<tbody>\n",
       "\t<tr><td>chr1</td><td>3774714</td><td>3775214</td><td>CEP104|chr1:3691278-3691778:*</td><td>-0.29343</td><td>chr1:3774714-3775214</td><td>CEP104</td><td>chr1:3857213-3857214</td><td> TRUE</td><td>Ulirsch2016           </td><td>ENCODE-E2G_Benchmark</td><td>ENCODE-E2G_Benchmark:CEP104</td></tr>\n",
       "\t<tr><td>chr1</td><td>3774714</td><td>3775214</td><td>LRRC47|chr1:3691278-3691778:*</td><td>-0.33118</td><td>chr1:3774714-3775214</td><td>LRRC47</td><td>chr1:3796503-3796504</td><td> TRUE</td><td>Ulirsch2016           </td><td>ENCODE-E2G_Benchmark</td><td>ENCODE-E2G_Benchmark:LRRC47</td></tr>\n",
       "\t<tr><td>chr1</td><td>3774714</td><td>3775214</td><td>SMIM1|chr1:3691278-3691778:* </td><td>-0.47202</td><td>chr1:3774714-3775214</td><td>SMIM1 </td><td>chr1:3772761-3772762</td><td> TRUE</td><td>Ulirsch2016           </td><td>ENCODE-E2G_Benchmark</td><td>ENCODE-E2G_Benchmark:SMIM1 </td></tr>\n",
       "\t<tr><td>chr1</td><td>3803570</td><td>3805848</td><td>LRRC47|chr1:3720134-3722412:.</td><td>-0.00147</td><td>chr1:3803570-3805848</td><td>LRRC47</td><td>chr1:3796503-3796504</td><td>FALSE</td><td>Gasperini et al., 2019</td><td>ENCODE-E2G_Benchmark</td><td>ENCODE-E2G_Benchmark:LRRC47</td></tr>\n",
       "\t<tr><td>chr1</td><td>3803570</td><td>3805848</td><td>SMIM1|chr1:3720134-3722412:. </td><td> 0.02568</td><td>chr1:3803570-3805848</td><td>SMIM1 </td><td>chr1:3772788-3772789</td><td>FALSE</td><td>Gasperini et al., 2019</td><td>ENCODE-E2G_Benchmark</td><td>ENCODE-E2G_Benchmark:SMIM1 </td></tr>\n",
       "\t<tr><td>chr1</td><td>4126791</td><td>4127291</td><td>SMIM1|chr1:4186851-4187351:. </td><td> 0.02338</td><td>chr1:4126791-4127291</td><td>SMIM1 </td><td>chr1:3772788-3772789</td><td>FALSE</td><td>Gasperini et al., 2019</td><td>ENCODE-E2G_Benchmark</td><td>ENCODE-E2G_Benchmark:SMIM1 </td></tr>\n",
       "</tbody>\n",
       "</table>\n"
      ],
      "text/latex": [
       "A tibble: 6 × 12\n",
       "\\begin{tabular}{llllllllllll}\n",
       " Chrom & Start & End & Name & EffectSize & Region & Gene\\_Symbol & Gene\\_TSS & Regulated & Reference & Assay\\_Type & Assay\\_Label\\\\\n",
       " <chr> & <dbl> & <dbl> & <chr> & <dbl> & <chr> & <chr> & <chr> & <lgl> & <chr> & <chr> & <chr>\\\\\n",
       "\\hline\n",
       "\t chr1 & 3774714 & 3775214 & CEP104\\textbar{}chr1:3691278-3691778:* & -0.29343 & chr1:3774714-3775214 & CEP104 & chr1:3857213-3857214 &  TRUE & Ulirsch2016            & ENCODE-E2G\\_Benchmark & ENCODE-E2G\\_Benchmark:CEP104\\\\\n",
       "\t chr1 & 3774714 & 3775214 & LRRC47\\textbar{}chr1:3691278-3691778:* & -0.33118 & chr1:3774714-3775214 & LRRC47 & chr1:3796503-3796504 &  TRUE & Ulirsch2016            & ENCODE-E2G\\_Benchmark & ENCODE-E2G\\_Benchmark:LRRC47\\\\\n",
       "\t chr1 & 3774714 & 3775214 & SMIM1\\textbar{}chr1:3691278-3691778:*  & -0.47202 & chr1:3774714-3775214 & SMIM1  & chr1:3772761-3772762 &  TRUE & Ulirsch2016            & ENCODE-E2G\\_Benchmark & ENCODE-E2G\\_Benchmark:SMIM1 \\\\\n",
       "\t chr1 & 3803570 & 3805848 & LRRC47\\textbar{}chr1:3720134-3722412:. & -0.00147 & chr1:3803570-3805848 & LRRC47 & chr1:3796503-3796504 & FALSE & Gasperini et al., 2019 & ENCODE-E2G\\_Benchmark & ENCODE-E2G\\_Benchmark:LRRC47\\\\\n",
       "\t chr1 & 3803570 & 3805848 & SMIM1\\textbar{}chr1:3720134-3722412:.  &  0.02568 & chr1:3803570-3805848 & SMIM1  & chr1:3772788-3772789 & FALSE & Gasperini et al., 2019 & ENCODE-E2G\\_Benchmark & ENCODE-E2G\\_Benchmark:SMIM1 \\\\\n",
       "\t chr1 & 4126791 & 4127291 & SMIM1\\textbar{}chr1:4186851-4187351:.  &  0.02338 & chr1:4126791-4127291 & SMIM1  & chr1:3772788-3772789 & FALSE & Gasperini et al., 2019 & ENCODE-E2G\\_Benchmark & ENCODE-E2G\\_Benchmark:SMIM1 \\\\\n",
       "\\end{tabular}\n"
      ],
      "text/markdown": [
       "\n",
       "A tibble: 6 × 12\n",
       "\n",
       "| Chrom &lt;chr&gt; | Start &lt;dbl&gt; | End &lt;dbl&gt; | Name &lt;chr&gt; | EffectSize &lt;dbl&gt; | Region &lt;chr&gt; | Gene_Symbol &lt;chr&gt; | Gene_TSS &lt;chr&gt; | Regulated &lt;lgl&gt; | Reference &lt;chr&gt; | Assay_Type &lt;chr&gt; | Assay_Label &lt;chr&gt; |\n",
       "|---|---|---|---|---|---|---|---|---|---|---|---|\n",
       "| chr1 | 3774714 | 3775214 | CEP104|chr1:3691278-3691778:* | -0.29343 | chr1:3774714-3775214 | CEP104 | chr1:3857213-3857214 |  TRUE | Ulirsch2016            | ENCODE-E2G_Benchmark | ENCODE-E2G_Benchmark:CEP104 |\n",
       "| chr1 | 3774714 | 3775214 | LRRC47|chr1:3691278-3691778:* | -0.33118 | chr1:3774714-3775214 | LRRC47 | chr1:3796503-3796504 |  TRUE | Ulirsch2016            | ENCODE-E2G_Benchmark | ENCODE-E2G_Benchmark:LRRC47 |\n",
       "| chr1 | 3774714 | 3775214 | SMIM1|chr1:3691278-3691778:*  | -0.47202 | chr1:3774714-3775214 | SMIM1  | chr1:3772761-3772762 |  TRUE | Ulirsch2016            | ENCODE-E2G_Benchmark | ENCODE-E2G_Benchmark:SMIM1  |\n",
       "| chr1 | 3803570 | 3805848 | LRRC47|chr1:3720134-3722412:. | -0.00147 | chr1:3803570-3805848 | LRRC47 | chr1:3796503-3796504 | FALSE | Gasperini et al., 2019 | ENCODE-E2G_Benchmark | ENCODE-E2G_Benchmark:LRRC47 |\n",
       "| chr1 | 3803570 | 3805848 | SMIM1|chr1:3720134-3722412:.  |  0.02568 | chr1:3803570-3805848 | SMIM1  | chr1:3772788-3772789 | FALSE | Gasperini et al., 2019 | ENCODE-E2G_Benchmark | ENCODE-E2G_Benchmark:SMIM1  |\n",
       "| chr1 | 4126791 | 4127291 | SMIM1|chr1:4186851-4187351:.  |  0.02338 | chr1:4126791-4127291 | SMIM1  | chr1:3772788-3772789 | FALSE | Gasperini et al., 2019 | ENCODE-E2G_Benchmark | ENCODE-E2G_Benchmark:SMIM1  |\n",
       "\n"
      ],
      "text/plain": [
       "  Chrom Start   End     Name                          EffectSize\n",
       "1 chr1  3774714 3775214 CEP104|chr1:3691278-3691778:* -0.29343  \n",
       "2 chr1  3774714 3775214 LRRC47|chr1:3691278-3691778:* -0.33118  \n",
       "3 chr1  3774714 3775214 SMIM1|chr1:3691278-3691778:*  -0.47202  \n",
       "4 chr1  3803570 3805848 LRRC47|chr1:3720134-3722412:. -0.00147  \n",
       "5 chr1  3803570 3805848 SMIM1|chr1:3720134-3722412:.   0.02568  \n",
       "6 chr1  4126791 4127291 SMIM1|chr1:4186851-4187351:.   0.02338  \n",
       "  Region               Gene_Symbol Gene_TSS             Regulated\n",
       "1 chr1:3774714-3775214 CEP104      chr1:3857213-3857214  TRUE    \n",
       "2 chr1:3774714-3775214 LRRC47      chr1:3796503-3796504  TRUE    \n",
       "3 chr1:3774714-3775214 SMIM1       chr1:3772761-3772762  TRUE    \n",
       "4 chr1:3803570-3805848 LRRC47      chr1:3796503-3796504 FALSE    \n",
       "5 chr1:3803570-3805848 SMIM1       chr1:3772788-3772789 FALSE    \n",
       "6 chr1:4126791-4127291 SMIM1       chr1:3772788-3772789 FALSE    \n",
       "  Reference              Assay_Type           Assay_Label                \n",
       "1 Ulirsch2016            ENCODE-E2G_Benchmark ENCODE-E2G_Benchmark:CEP104\n",
       "2 Ulirsch2016            ENCODE-E2G_Benchmark ENCODE-E2G_Benchmark:LRRC47\n",
       "3 Ulirsch2016            ENCODE-E2G_Benchmark ENCODE-E2G_Benchmark:SMIM1 \n",
       "4 Gasperini et al., 2019 ENCODE-E2G_Benchmark ENCODE-E2G_Benchmark:LRRC47\n",
       "5 Gasperini et al., 2019 ENCODE-E2G_Benchmark ENCODE-E2G_Benchmark:SMIM1 \n",
       "6 Gasperini et al., 2019 ENCODE-E2G_Benchmark ENCODE-E2G_Benchmark:SMIM1 "
      ]
     },
     "metadata": {},
     "output_type": "display_data"
    }
   ],
   "source": [
    "fdiry = FD_OUT\n",
    "fname = \"K562.EPCrisprBenchmark.total.bed.gz\"\n",
    "fpath = file.path(fdiry, fname)\n",
    "print(fpath)\n",
    "\n",
    "dat = dat_peak_encode_e2g_total\n",
    "#colnames(dat)[1] = \"#Chrom\"\n",
    "write_tsv(dat, fpath, col_names = FALSE)\n",
    "head(dat)"
   ]
  },
  {
   "cell_type": "code",
   "execution_count": 31,
   "metadata": {},
   "outputs": [
    {
     "name": "stdout",
     "output_type": "stream",
     "text": [
      "[1] \"/data/reddylab/Kuei/out/proj_combeffect_encode_fcc/results/region/annotation_encode_e2g_benchmark/K562.EPCrisprBenchmark.active.bed.gz\"\n"
     ]
    },
    {
     "data": {
      "text/html": [
       "<table class=\"dataframe\">\n",
       "<caption>A tibble: 6 × 12</caption>\n",
       "<thead>\n",
       "\t<tr><th scope=col>Chrom</th><th scope=col>Start</th><th scope=col>End</th><th scope=col>Name</th><th scope=col>EffectSize</th><th scope=col>Region</th><th scope=col>Gene_Symbol</th><th scope=col>Gene_TSS</th><th scope=col>Regulated</th><th scope=col>Reference</th><th scope=col>Assay_Type</th><th scope=col>Assay_Label</th></tr>\n",
       "\t<tr><th scope=col>&lt;chr&gt;</th><th scope=col>&lt;dbl&gt;</th><th scope=col>&lt;dbl&gt;</th><th scope=col>&lt;chr&gt;</th><th scope=col>&lt;dbl&gt;</th><th scope=col>&lt;chr&gt;</th><th scope=col>&lt;chr&gt;</th><th scope=col>&lt;chr&gt;</th><th scope=col>&lt;lgl&gt;</th><th scope=col>&lt;chr&gt;</th><th scope=col>&lt;chr&gt;</th><th scope=col>&lt;chr&gt;</th></tr>\n",
       "</thead>\n",
       "<tbody>\n",
       "\t<tr><td>chr1</td><td> 3774714</td><td> 3775214</td><td>CEP104|chr1:3691278-3691778:*</td><td>-0.29343</td><td>chr1:3774714-3775214  </td><td>CEP104</td><td>chr1:3857213-3857214  </td><td>TRUE</td><td>Ulirsch2016           </td><td>ENCODE-E2G_Benchmark</td><td>ENCODE-E2G_Benchmark:CEP104</td></tr>\n",
       "\t<tr><td>chr1</td><td> 3774714</td><td> 3775214</td><td>LRRC47|chr1:3691278-3691778:*</td><td>-0.33118</td><td>chr1:3774714-3775214  </td><td>LRRC47</td><td>chr1:3796503-3796504  </td><td>TRUE</td><td>Ulirsch2016           </td><td>ENCODE-E2G_Benchmark</td><td>ENCODE-E2G_Benchmark:LRRC47</td></tr>\n",
       "\t<tr><td>chr1</td><td> 3774714</td><td> 3775214</td><td>SMIM1|chr1:3691278-3691778:* </td><td>-0.47202</td><td>chr1:3774714-3775214  </td><td>SMIM1 </td><td>chr1:3772761-3772762  </td><td>TRUE</td><td>Ulirsch2016           </td><td>ENCODE-E2G_Benchmark</td><td>ENCODE-E2G_Benchmark:SMIM1 </td></tr>\n",
       "\t<tr><td>chr1</td><td> 8858063</td><td> 8858563</td><td>ENO1|chr1:8918122-8918622:.  </td><td>-0.10741</td><td>chr1:8858063-8858563  </td><td>ENO1  </td><td>chr1:8879248-8879249  </td><td>TRUE</td><td>Gasperini et al., 2019</td><td>ENCODE-E2G_Benchmark</td><td>ENCODE-E2G_Benchmark:ENO1  </td></tr>\n",
       "\t<tr><td>chr1</td><td>17441310</td><td>17441810</td><td>SDHB|chr1:17767806-17768306:.</td><td>-0.08968</td><td>chr1:17441310-17441810</td><td>SDHB  </td><td>chr1:17054169-17054170</td><td>TRUE</td><td>Gasperini et al., 2019</td><td>ENCODE-E2G_Benchmark</td><td>ENCODE-E2G_Benchmark:SDHB  </td></tr>\n",
       "\t<tr><td>chr1</td><td>25933351</td><td>25933954</td><td>NUDC|chr1:26259842-26260445:.</td><td>-0.08462</td><td>chr1:25933351-25933954</td><td>NUDC  </td><td>chr1:26900238-26900239</td><td>TRUE</td><td>Gasperini et al., 2019</td><td>ENCODE-E2G_Benchmark</td><td>ENCODE-E2G_Benchmark:NUDC  </td></tr>\n",
       "</tbody>\n",
       "</table>\n"
      ],
      "text/latex": [
       "A tibble: 6 × 12\n",
       "\\begin{tabular}{llllllllllll}\n",
       " Chrom & Start & End & Name & EffectSize & Region & Gene\\_Symbol & Gene\\_TSS & Regulated & Reference & Assay\\_Type & Assay\\_Label\\\\\n",
       " <chr> & <dbl> & <dbl> & <chr> & <dbl> & <chr> & <chr> & <chr> & <lgl> & <chr> & <chr> & <chr>\\\\\n",
       "\\hline\n",
       "\t chr1 &  3774714 &  3775214 & CEP104\\textbar{}chr1:3691278-3691778:* & -0.29343 & chr1:3774714-3775214   & CEP104 & chr1:3857213-3857214   & TRUE & Ulirsch2016            & ENCODE-E2G\\_Benchmark & ENCODE-E2G\\_Benchmark:CEP104\\\\\n",
       "\t chr1 &  3774714 &  3775214 & LRRC47\\textbar{}chr1:3691278-3691778:* & -0.33118 & chr1:3774714-3775214   & LRRC47 & chr1:3796503-3796504   & TRUE & Ulirsch2016            & ENCODE-E2G\\_Benchmark & ENCODE-E2G\\_Benchmark:LRRC47\\\\\n",
       "\t chr1 &  3774714 &  3775214 & SMIM1\\textbar{}chr1:3691278-3691778:*  & -0.47202 & chr1:3774714-3775214   & SMIM1  & chr1:3772761-3772762   & TRUE & Ulirsch2016            & ENCODE-E2G\\_Benchmark & ENCODE-E2G\\_Benchmark:SMIM1 \\\\\n",
       "\t chr1 &  8858063 &  8858563 & ENO1\\textbar{}chr1:8918122-8918622:.   & -0.10741 & chr1:8858063-8858563   & ENO1   & chr1:8879248-8879249   & TRUE & Gasperini et al., 2019 & ENCODE-E2G\\_Benchmark & ENCODE-E2G\\_Benchmark:ENO1  \\\\\n",
       "\t chr1 & 17441310 & 17441810 & SDHB\\textbar{}chr1:17767806-17768306:. & -0.08968 & chr1:17441310-17441810 & SDHB   & chr1:17054169-17054170 & TRUE & Gasperini et al., 2019 & ENCODE-E2G\\_Benchmark & ENCODE-E2G\\_Benchmark:SDHB  \\\\\n",
       "\t chr1 & 25933351 & 25933954 & NUDC\\textbar{}chr1:26259842-26260445:. & -0.08462 & chr1:25933351-25933954 & NUDC   & chr1:26900238-26900239 & TRUE & Gasperini et al., 2019 & ENCODE-E2G\\_Benchmark & ENCODE-E2G\\_Benchmark:NUDC  \\\\\n",
       "\\end{tabular}\n"
      ],
      "text/markdown": [
       "\n",
       "A tibble: 6 × 12\n",
       "\n",
       "| Chrom &lt;chr&gt; | Start &lt;dbl&gt; | End &lt;dbl&gt; | Name &lt;chr&gt; | EffectSize &lt;dbl&gt; | Region &lt;chr&gt; | Gene_Symbol &lt;chr&gt; | Gene_TSS &lt;chr&gt; | Regulated &lt;lgl&gt; | Reference &lt;chr&gt; | Assay_Type &lt;chr&gt; | Assay_Label &lt;chr&gt; |\n",
       "|---|---|---|---|---|---|---|---|---|---|---|---|\n",
       "| chr1 |  3774714 |  3775214 | CEP104|chr1:3691278-3691778:* | -0.29343 | chr1:3774714-3775214   | CEP104 | chr1:3857213-3857214   | TRUE | Ulirsch2016            | ENCODE-E2G_Benchmark | ENCODE-E2G_Benchmark:CEP104 |\n",
       "| chr1 |  3774714 |  3775214 | LRRC47|chr1:3691278-3691778:* | -0.33118 | chr1:3774714-3775214   | LRRC47 | chr1:3796503-3796504   | TRUE | Ulirsch2016            | ENCODE-E2G_Benchmark | ENCODE-E2G_Benchmark:LRRC47 |\n",
       "| chr1 |  3774714 |  3775214 | SMIM1|chr1:3691278-3691778:*  | -0.47202 | chr1:3774714-3775214   | SMIM1  | chr1:3772761-3772762   | TRUE | Ulirsch2016            | ENCODE-E2G_Benchmark | ENCODE-E2G_Benchmark:SMIM1  |\n",
       "| chr1 |  8858063 |  8858563 | ENO1|chr1:8918122-8918622:.   | -0.10741 | chr1:8858063-8858563   | ENO1   | chr1:8879248-8879249   | TRUE | Gasperini et al., 2019 | ENCODE-E2G_Benchmark | ENCODE-E2G_Benchmark:ENO1   |\n",
       "| chr1 | 17441310 | 17441810 | SDHB|chr1:17767806-17768306:. | -0.08968 | chr1:17441310-17441810 | SDHB   | chr1:17054169-17054170 | TRUE | Gasperini et al., 2019 | ENCODE-E2G_Benchmark | ENCODE-E2G_Benchmark:SDHB   |\n",
       "| chr1 | 25933351 | 25933954 | NUDC|chr1:26259842-26260445:. | -0.08462 | chr1:25933351-25933954 | NUDC   | chr1:26900238-26900239 | TRUE | Gasperini et al., 2019 | ENCODE-E2G_Benchmark | ENCODE-E2G_Benchmark:NUDC   |\n",
       "\n"
      ],
      "text/plain": [
       "  Chrom Start    End      Name                          EffectSize\n",
       "1 chr1   3774714  3775214 CEP104|chr1:3691278-3691778:* -0.29343  \n",
       "2 chr1   3774714  3775214 LRRC47|chr1:3691278-3691778:* -0.33118  \n",
       "3 chr1   3774714  3775214 SMIM1|chr1:3691278-3691778:*  -0.47202  \n",
       "4 chr1   8858063  8858563 ENO1|chr1:8918122-8918622:.   -0.10741  \n",
       "5 chr1  17441310 17441810 SDHB|chr1:17767806-17768306:. -0.08968  \n",
       "6 chr1  25933351 25933954 NUDC|chr1:26259842-26260445:. -0.08462  \n",
       "  Region                 Gene_Symbol Gene_TSS               Regulated\n",
       "1 chr1:3774714-3775214   CEP104      chr1:3857213-3857214   TRUE     \n",
       "2 chr1:3774714-3775214   LRRC47      chr1:3796503-3796504   TRUE     \n",
       "3 chr1:3774714-3775214   SMIM1       chr1:3772761-3772762   TRUE     \n",
       "4 chr1:8858063-8858563   ENO1        chr1:8879248-8879249   TRUE     \n",
       "5 chr1:17441310-17441810 SDHB        chr1:17054169-17054170 TRUE     \n",
       "6 chr1:25933351-25933954 NUDC        chr1:26900238-26900239 TRUE     \n",
       "  Reference              Assay_Type           Assay_Label                \n",
       "1 Ulirsch2016            ENCODE-E2G_Benchmark ENCODE-E2G_Benchmark:CEP104\n",
       "2 Ulirsch2016            ENCODE-E2G_Benchmark ENCODE-E2G_Benchmark:LRRC47\n",
       "3 Ulirsch2016            ENCODE-E2G_Benchmark ENCODE-E2G_Benchmark:SMIM1 \n",
       "4 Gasperini et al., 2019 ENCODE-E2G_Benchmark ENCODE-E2G_Benchmark:ENO1  \n",
       "5 Gasperini et al., 2019 ENCODE-E2G_Benchmark ENCODE-E2G_Benchmark:SDHB  \n",
       "6 Gasperini et al., 2019 ENCODE-E2G_Benchmark ENCODE-E2G_Benchmark:NUDC  "
      ]
     },
     "metadata": {},
     "output_type": "display_data"
    }
   ],
   "source": [
    "fdiry = FD_OUT\n",
    "fname = \"K562.EPCrisprBenchmark.active.bed.gz\"\n",
    "fpath = file.path(fdiry, fname)\n",
    "print(fpath)\n",
    "\n",
    "dat = dat_peak_encode_e2g_active\n",
    "#colnames(dat)[1] = \"#Chrom\"\n",
    "write_tsv(dat, fpath, col_names = FALSE)\n",
    "head(dat)"
   ]
  },
  {
   "cell_type": "code",
   "execution_count": 32,
   "metadata": {},
   "outputs": [
    {
     "name": "stdout",
     "output_type": "stream",
     "text": [
      "[1] \"/data/reddylab/Kuei/out/proj_combeffect_encode_fcc/results/region/annotation_encode_e2g_benchmark/K562.EPCrisprBenchmark.active.region2TSS_Original.bedpe.gz\"\n"
     ]
    },
    {
     "data": {
      "text/html": [
       "<table class=\"dataframe\">\n",
       "<caption>A tibble: 6 × 13</caption>\n",
       "<thead>\n",
       "\t<tr><th scope=col>#chrom</th><th scope=col>chromStart</th><th scope=col>chromEnd</th><th scope=col>chrTSS</th><th scope=col>startTSS</th><th scope=col>endTSS</th><th scope=col>name</th><th scope=col>EffectSize</th><th scope=col>Strand1</th><th scope=col>Strand2</th><th scope=col>Gene_Symbol</th><th scope=col>Gene_TSS</th><th scope=col>Reference</th></tr>\n",
       "\t<tr><th scope=col>&lt;chr&gt;</th><th scope=col>&lt;dbl&gt;</th><th scope=col>&lt;dbl&gt;</th><th scope=col>&lt;chr&gt;</th><th scope=col>&lt;dbl&gt;</th><th scope=col>&lt;dbl&gt;</th><th scope=col>&lt;chr&gt;</th><th scope=col>&lt;dbl&gt;</th><th scope=col>&lt;chr&gt;</th><th scope=col>&lt;chr&gt;</th><th scope=col>&lt;chr&gt;</th><th scope=col>&lt;chr&gt;</th><th scope=col>&lt;chr&gt;</th></tr>\n",
       "</thead>\n",
       "<tbody>\n",
       "\t<tr><td>chr1</td><td> 3774714</td><td> 3775214</td><td>chr1</td><td> 3857213</td><td> 3857214</td><td>CEP104|chr1:3691278-3691778:*</td><td>-0.29343</td><td>.</td><td>.</td><td>CEP104</td><td>chr1:3857213-3857214  </td><td>Ulirsch2016           </td></tr>\n",
       "\t<tr><td>chr1</td><td> 3774714</td><td> 3775214</td><td>chr1</td><td> 3796503</td><td> 3796504</td><td>LRRC47|chr1:3691278-3691778:*</td><td>-0.33118</td><td>.</td><td>.</td><td>LRRC47</td><td>chr1:3796503-3796504  </td><td>Ulirsch2016           </td></tr>\n",
       "\t<tr><td>chr1</td><td> 3774714</td><td> 3775214</td><td>chr1</td><td> 3772761</td><td> 3772762</td><td>SMIM1|chr1:3691278-3691778:* </td><td>-0.47202</td><td>.</td><td>.</td><td>SMIM1 </td><td>chr1:3772761-3772762  </td><td>Ulirsch2016           </td></tr>\n",
       "\t<tr><td>chr1</td><td> 8858063</td><td> 8858563</td><td>chr1</td><td> 8879248</td><td> 8879249</td><td>ENO1|chr1:8918122-8918622:.  </td><td>-0.10741</td><td>.</td><td>.</td><td>ENO1  </td><td>chr1:8879248-8879249  </td><td>Gasperini et al., 2019</td></tr>\n",
       "\t<tr><td>chr1</td><td>17441310</td><td>17441810</td><td>chr1</td><td>17054169</td><td>17054170</td><td>SDHB|chr1:17767806-17768306:.</td><td>-0.08968</td><td>.</td><td>.</td><td>SDHB  </td><td>chr1:17054169-17054170</td><td>Gasperini et al., 2019</td></tr>\n",
       "\t<tr><td>chr1</td><td>25933351</td><td>25933954</td><td>chr1</td><td>26900238</td><td>26900239</td><td>NUDC|chr1:26259842-26260445:.</td><td>-0.08462</td><td>.</td><td>.</td><td>NUDC  </td><td>chr1:26900238-26900239</td><td>Gasperini et al., 2019</td></tr>\n",
       "</tbody>\n",
       "</table>\n"
      ],
      "text/latex": [
       "A tibble: 6 × 13\n",
       "\\begin{tabular}{lllllllllllll}\n",
       " \\#chrom & chromStart & chromEnd & chrTSS & startTSS & endTSS & name & EffectSize & Strand1 & Strand2 & Gene\\_Symbol & Gene\\_TSS & Reference\\\\\n",
       " <chr> & <dbl> & <dbl> & <chr> & <dbl> & <dbl> & <chr> & <dbl> & <chr> & <chr> & <chr> & <chr> & <chr>\\\\\n",
       "\\hline\n",
       "\t chr1 &  3774714 &  3775214 & chr1 &  3857213 &  3857214 & CEP104\\textbar{}chr1:3691278-3691778:* & -0.29343 & . & . & CEP104 & chr1:3857213-3857214   & Ulirsch2016           \\\\\n",
       "\t chr1 &  3774714 &  3775214 & chr1 &  3796503 &  3796504 & LRRC47\\textbar{}chr1:3691278-3691778:* & -0.33118 & . & . & LRRC47 & chr1:3796503-3796504   & Ulirsch2016           \\\\\n",
       "\t chr1 &  3774714 &  3775214 & chr1 &  3772761 &  3772762 & SMIM1\\textbar{}chr1:3691278-3691778:*  & -0.47202 & . & . & SMIM1  & chr1:3772761-3772762   & Ulirsch2016           \\\\\n",
       "\t chr1 &  8858063 &  8858563 & chr1 &  8879248 &  8879249 & ENO1\\textbar{}chr1:8918122-8918622:.   & -0.10741 & . & . & ENO1   & chr1:8879248-8879249   & Gasperini et al., 2019\\\\\n",
       "\t chr1 & 17441310 & 17441810 & chr1 & 17054169 & 17054170 & SDHB\\textbar{}chr1:17767806-17768306:. & -0.08968 & . & . & SDHB   & chr1:17054169-17054170 & Gasperini et al., 2019\\\\\n",
       "\t chr1 & 25933351 & 25933954 & chr1 & 26900238 & 26900239 & NUDC\\textbar{}chr1:26259842-26260445:. & -0.08462 & . & . & NUDC   & chr1:26900238-26900239 & Gasperini et al., 2019\\\\\n",
       "\\end{tabular}\n"
      ],
      "text/markdown": [
       "\n",
       "A tibble: 6 × 13\n",
       "\n",
       "| #chrom &lt;chr&gt; | chromStart &lt;dbl&gt; | chromEnd &lt;dbl&gt; | chrTSS &lt;chr&gt; | startTSS &lt;dbl&gt; | endTSS &lt;dbl&gt; | name &lt;chr&gt; | EffectSize &lt;dbl&gt; | Strand1 &lt;chr&gt; | Strand2 &lt;chr&gt; | Gene_Symbol &lt;chr&gt; | Gene_TSS &lt;chr&gt; | Reference &lt;chr&gt; |\n",
       "|---|---|---|---|---|---|---|---|---|---|---|---|---|\n",
       "| chr1 |  3774714 |  3775214 | chr1 |  3857213 |  3857214 | CEP104|chr1:3691278-3691778:* | -0.29343 | . | . | CEP104 | chr1:3857213-3857214   | Ulirsch2016            |\n",
       "| chr1 |  3774714 |  3775214 | chr1 |  3796503 |  3796504 | LRRC47|chr1:3691278-3691778:* | -0.33118 | . | . | LRRC47 | chr1:3796503-3796504   | Ulirsch2016            |\n",
       "| chr1 |  3774714 |  3775214 | chr1 |  3772761 |  3772762 | SMIM1|chr1:3691278-3691778:*  | -0.47202 | . | . | SMIM1  | chr1:3772761-3772762   | Ulirsch2016            |\n",
       "| chr1 |  8858063 |  8858563 | chr1 |  8879248 |  8879249 | ENO1|chr1:8918122-8918622:.   | -0.10741 | . | . | ENO1   | chr1:8879248-8879249   | Gasperini et al., 2019 |\n",
       "| chr1 | 17441310 | 17441810 | chr1 | 17054169 | 17054170 | SDHB|chr1:17767806-17768306:. | -0.08968 | . | . | SDHB   | chr1:17054169-17054170 | Gasperini et al., 2019 |\n",
       "| chr1 | 25933351 | 25933954 | chr1 | 26900238 | 26900239 | NUDC|chr1:26259842-26260445:. | -0.08462 | . | . | NUDC   | chr1:26900238-26900239 | Gasperini et al., 2019 |\n",
       "\n"
      ],
      "text/plain": [
       "  #chrom chromStart chromEnd chrTSS startTSS endTSS  \n",
       "1 chr1    3774714    3775214 chr1    3857213  3857214\n",
       "2 chr1    3774714    3775214 chr1    3796503  3796504\n",
       "3 chr1    3774714    3775214 chr1    3772761  3772762\n",
       "4 chr1    8858063    8858563 chr1    8879248  8879249\n",
       "5 chr1   17441310   17441810 chr1   17054169 17054170\n",
       "6 chr1   25933351   25933954 chr1   26900238 26900239\n",
       "  name                          EffectSize Strand1 Strand2 Gene_Symbol\n",
       "1 CEP104|chr1:3691278-3691778:* -0.29343   .       .       CEP104     \n",
       "2 LRRC47|chr1:3691278-3691778:* -0.33118   .       .       LRRC47     \n",
       "3 SMIM1|chr1:3691278-3691778:*  -0.47202   .       .       SMIM1      \n",
       "4 ENO1|chr1:8918122-8918622:.   -0.10741   .       .       ENO1       \n",
       "5 SDHB|chr1:17767806-17768306:. -0.08968   .       .       SDHB       \n",
       "6 NUDC|chr1:26259842-26260445:. -0.08462   .       .       NUDC       \n",
       "  Gene_TSS               Reference             \n",
       "1 chr1:3857213-3857214   Ulirsch2016           \n",
       "2 chr1:3796503-3796504   Ulirsch2016           \n",
       "3 chr1:3772761-3772762   Ulirsch2016           \n",
       "4 chr1:8879248-8879249   Gasperini et al., 2019\n",
       "5 chr1:17054169-17054170 Gasperini et al., 2019\n",
       "6 chr1:26900238-26900239 Gasperini et al., 2019"
      ]
     },
     "metadata": {},
     "output_type": "display_data"
    }
   ],
   "source": [
    "fdiry = FD_OUT\n",
    "fname = \"K562.EPCrisprBenchmark.active.region2TSS_Original.bedpe.gz\"\n",
    "fpath = file.path(fdiry, fname)\n",
    "print(fpath)\n",
    "\n",
    "dat = dat_peak_encode_e2g_bedpe\n",
    "colnames(dat)[1] = \"#chrom\"\n",
    "write_tsv(dat, fpath)\n",
    "head(dat)"
   ]
  },
  {
   "cell_type": "code",
   "execution_count": 33,
   "metadata": {},
   "outputs": [
    {
     "name": "stdout",
     "output_type": "stream",
     "text": [
      "[1] \"/data/reddylab/Kuei/out/proj_combeffect_encode_fcc/results/region/annotation_encode_e2g_benchmark/K562.EPCrisprBenchmark.active.region2TSS_Original.bed\"\n"
     ]
    },
    {
     "data": {
      "text/html": [
       "<table class=\"dataframe\">\n",
       "<caption>A tibble: 6 × 18</caption>\n",
       "<thead>\n",
       "\t<tr><th scope=col>#chrom</th><th scope=col>chromStart</th><th scope=col>chromEnd</th><th scope=col>name</th><th scope=col>score</th><th scope=col>value</th><th scope=col>exp</th><th scope=col>color</th><th scope=col>sourceChrom</th><th scope=col>sourceStart</th><th scope=col>sourceEnd</th><th scope=col>sourceName</th><th scope=col>sourceStrand</th><th scope=col>targetChrom</th><th scope=col>targetStart</th><th scope=col>targetEnd</th><th scope=col>targetName</th><th scope=col>targetStrand</th></tr>\n",
       "\t<tr><th scope=col>&lt;chr&gt;</th><th scope=col>&lt;dbl&gt;</th><th scope=col>&lt;dbl&gt;</th><th scope=col>&lt;chr&gt;</th><th scope=col>&lt;dbl&gt;</th><th scope=col>&lt;dbl&gt;</th><th scope=col>&lt;chr&gt;</th><th scope=col>&lt;chr&gt;</th><th scope=col>&lt;chr&gt;</th><th scope=col>&lt;dbl&gt;</th><th scope=col>&lt;dbl&gt;</th><th scope=col>&lt;chr&gt;</th><th scope=col>&lt;chr&gt;</th><th scope=col>&lt;chr&gt;</th><th scope=col>&lt;dbl&gt;</th><th scope=col>&lt;dbl&gt;</th><th scope=col>&lt;chr&gt;</th><th scope=col>&lt;chr&gt;</th></tr>\n",
       "</thead>\n",
       "<tbody>\n",
       "\t<tr><td>chr1</td><td> 3774714</td><td> 3775214</td><td>CEP104|chr1:3691278-3691778:*</td><td>1000</td><td>1</td><td>.</td><td>.</td><td>chr1</td><td> 3774714</td><td> 3775214</td><td>chr1:3774714-3775214  </td><td>.</td><td>chr1</td><td> 3857213</td><td> 3857214</td><td>chr1:3857213-3857214  </td><td>.</td></tr>\n",
       "\t<tr><td>chr1</td><td> 3774714</td><td> 3775214</td><td>LRRC47|chr1:3691278-3691778:*</td><td>1000</td><td>1</td><td>.</td><td>.</td><td>chr1</td><td> 3774714</td><td> 3775214</td><td>chr1:3774714-3775214  </td><td>.</td><td>chr1</td><td> 3796503</td><td> 3796504</td><td>chr1:3796503-3796504  </td><td>.</td></tr>\n",
       "\t<tr><td>chr1</td><td> 3774714</td><td> 3775214</td><td>SMIM1|chr1:3691278-3691778:* </td><td>1000</td><td>1</td><td>.</td><td>.</td><td>chr1</td><td> 3774714</td><td> 3775214</td><td>chr1:3774714-3775214  </td><td>.</td><td>chr1</td><td> 3772761</td><td> 3772762</td><td>chr1:3772761-3772762  </td><td>.</td></tr>\n",
       "\t<tr><td>chr1</td><td> 8858063</td><td> 8858563</td><td>ENO1|chr1:8918122-8918622:.  </td><td>1000</td><td>1</td><td>.</td><td>.</td><td>chr1</td><td> 8858063</td><td> 8858563</td><td>chr1:8858063-8858563  </td><td>.</td><td>chr1</td><td> 8879248</td><td> 8879249</td><td>chr1:8879248-8879249  </td><td>.</td></tr>\n",
       "\t<tr><td>chr1</td><td>17441310</td><td>17441810</td><td>SDHB|chr1:17767806-17768306:.</td><td>1000</td><td>1</td><td>.</td><td>.</td><td>chr1</td><td>17441310</td><td>17441810</td><td>chr1:17441310-17441810</td><td>.</td><td>chr1</td><td>17054169</td><td>17054170</td><td>chr1:17054169-17054170</td><td>.</td></tr>\n",
       "\t<tr><td>chr1</td><td>25933351</td><td>25933954</td><td>NUDC|chr1:26259842-26260445:.</td><td>1000</td><td>1</td><td>.</td><td>.</td><td>chr1</td><td>25933351</td><td>25933954</td><td>chr1:25933351-25933954</td><td>.</td><td>chr1</td><td>26900238</td><td>26900239</td><td>chr1:26900238-26900239</td><td>.</td></tr>\n",
       "</tbody>\n",
       "</table>\n"
      ],
      "text/latex": [
       "A tibble: 6 × 18\n",
       "\\begin{tabular}{llllllllllllllllll}\n",
       " \\#chrom & chromStart & chromEnd & name & score & value & exp & color & sourceChrom & sourceStart & sourceEnd & sourceName & sourceStrand & targetChrom & targetStart & targetEnd & targetName & targetStrand\\\\\n",
       " <chr> & <dbl> & <dbl> & <chr> & <dbl> & <dbl> & <chr> & <chr> & <chr> & <dbl> & <dbl> & <chr> & <chr> & <chr> & <dbl> & <dbl> & <chr> & <chr>\\\\\n",
       "\\hline\n",
       "\t chr1 &  3774714 &  3775214 & CEP104\\textbar{}chr1:3691278-3691778:* & 1000 & 1 & . & . & chr1 &  3774714 &  3775214 & chr1:3774714-3775214   & . & chr1 &  3857213 &  3857214 & chr1:3857213-3857214   & .\\\\\n",
       "\t chr1 &  3774714 &  3775214 & LRRC47\\textbar{}chr1:3691278-3691778:* & 1000 & 1 & . & . & chr1 &  3774714 &  3775214 & chr1:3774714-3775214   & . & chr1 &  3796503 &  3796504 & chr1:3796503-3796504   & .\\\\\n",
       "\t chr1 &  3774714 &  3775214 & SMIM1\\textbar{}chr1:3691278-3691778:*  & 1000 & 1 & . & . & chr1 &  3774714 &  3775214 & chr1:3774714-3775214   & . & chr1 &  3772761 &  3772762 & chr1:3772761-3772762   & .\\\\\n",
       "\t chr1 &  8858063 &  8858563 & ENO1\\textbar{}chr1:8918122-8918622:.   & 1000 & 1 & . & . & chr1 &  8858063 &  8858563 & chr1:8858063-8858563   & . & chr1 &  8879248 &  8879249 & chr1:8879248-8879249   & .\\\\\n",
       "\t chr1 & 17441310 & 17441810 & SDHB\\textbar{}chr1:17767806-17768306:. & 1000 & 1 & . & . & chr1 & 17441310 & 17441810 & chr1:17441310-17441810 & . & chr1 & 17054169 & 17054170 & chr1:17054169-17054170 & .\\\\\n",
       "\t chr1 & 25933351 & 25933954 & NUDC\\textbar{}chr1:26259842-26260445:. & 1000 & 1 & . & . & chr1 & 25933351 & 25933954 & chr1:25933351-25933954 & . & chr1 & 26900238 & 26900239 & chr1:26900238-26900239 & .\\\\\n",
       "\\end{tabular}\n"
      ],
      "text/markdown": [
       "\n",
       "A tibble: 6 × 18\n",
       "\n",
       "| #chrom &lt;chr&gt; | chromStart &lt;dbl&gt; | chromEnd &lt;dbl&gt; | name &lt;chr&gt; | score &lt;dbl&gt; | value &lt;dbl&gt; | exp &lt;chr&gt; | color &lt;chr&gt; | sourceChrom &lt;chr&gt; | sourceStart &lt;dbl&gt; | sourceEnd &lt;dbl&gt; | sourceName &lt;chr&gt; | sourceStrand &lt;chr&gt; | targetChrom &lt;chr&gt; | targetStart &lt;dbl&gt; | targetEnd &lt;dbl&gt; | targetName &lt;chr&gt; | targetStrand &lt;chr&gt; |\n",
       "|---|---|---|---|---|---|---|---|---|---|---|---|---|---|---|---|---|---|\n",
       "| chr1 |  3774714 |  3775214 | CEP104|chr1:3691278-3691778:* | 1000 | 1 | . | . | chr1 |  3774714 |  3775214 | chr1:3774714-3775214   | . | chr1 |  3857213 |  3857214 | chr1:3857213-3857214   | . |\n",
       "| chr1 |  3774714 |  3775214 | LRRC47|chr1:3691278-3691778:* | 1000 | 1 | . | . | chr1 |  3774714 |  3775214 | chr1:3774714-3775214   | . | chr1 |  3796503 |  3796504 | chr1:3796503-3796504   | . |\n",
       "| chr1 |  3774714 |  3775214 | SMIM1|chr1:3691278-3691778:*  | 1000 | 1 | . | . | chr1 |  3774714 |  3775214 | chr1:3774714-3775214   | . | chr1 |  3772761 |  3772762 | chr1:3772761-3772762   | . |\n",
       "| chr1 |  8858063 |  8858563 | ENO1|chr1:8918122-8918622:.   | 1000 | 1 | . | . | chr1 |  8858063 |  8858563 | chr1:8858063-8858563   | . | chr1 |  8879248 |  8879249 | chr1:8879248-8879249   | . |\n",
       "| chr1 | 17441310 | 17441810 | SDHB|chr1:17767806-17768306:. | 1000 | 1 | . | . | chr1 | 17441310 | 17441810 | chr1:17441310-17441810 | . | chr1 | 17054169 | 17054170 | chr1:17054169-17054170 | . |\n",
       "| chr1 | 25933351 | 25933954 | NUDC|chr1:26259842-26260445:. | 1000 | 1 | . | . | chr1 | 25933351 | 25933954 | chr1:25933351-25933954 | . | chr1 | 26900238 | 26900239 | chr1:26900238-26900239 | . |\n",
       "\n"
      ],
      "text/plain": [
       "  #chrom chromStart chromEnd name                          score value exp\n",
       "1 chr1    3774714    3775214 CEP104|chr1:3691278-3691778:* 1000  1     .  \n",
       "2 chr1    3774714    3775214 LRRC47|chr1:3691278-3691778:* 1000  1     .  \n",
       "3 chr1    3774714    3775214 SMIM1|chr1:3691278-3691778:*  1000  1     .  \n",
       "4 chr1    8858063    8858563 ENO1|chr1:8918122-8918622:.   1000  1     .  \n",
       "5 chr1   17441310   17441810 SDHB|chr1:17767806-17768306:. 1000  1     .  \n",
       "6 chr1   25933351   25933954 NUDC|chr1:26259842-26260445:. 1000  1     .  \n",
       "  color sourceChrom sourceStart sourceEnd sourceName             sourceStrand\n",
       "1 .     chr1         3774714     3775214  chr1:3774714-3775214   .           \n",
       "2 .     chr1         3774714     3775214  chr1:3774714-3775214   .           \n",
       "3 .     chr1         3774714     3775214  chr1:3774714-3775214   .           \n",
       "4 .     chr1         8858063     8858563  chr1:8858063-8858563   .           \n",
       "5 .     chr1        17441310    17441810  chr1:17441310-17441810 .           \n",
       "6 .     chr1        25933351    25933954  chr1:25933351-25933954 .           \n",
       "  targetChrom targetStart targetEnd targetName             targetStrand\n",
       "1 chr1         3857213     3857214  chr1:3857213-3857214   .           \n",
       "2 chr1         3796503     3796504  chr1:3796503-3796504   .           \n",
       "3 chr1         3772761     3772762  chr1:3772761-3772762   .           \n",
       "4 chr1         8879248     8879249  chr1:8879248-8879249   .           \n",
       "5 chr1        17054169    17054170  chr1:17054169-17054170 .           \n",
       "6 chr1        26900238    26900239  chr1:26900238-26900239 .           "
      ]
     },
     "metadata": {},
     "output_type": "display_data"
    }
   ],
   "source": [
    "fdiry = FD_OUT\n",
    "fname = \"K562.EPCrisprBenchmark.active.region2TSS_Original.bed\"\n",
    "fpath = file.path(fdiry, fname)\n",
    "print(fpath)\n",
    "\n",
    "dat = dat_peak_encode_e2g_interact\n",
    "colnames(dat)[1] = \"#chrom\"\n",
    "write_tsv(dat, fpath)\n",
    "head(dat)"
   ]
  },
  {
   "cell_type": "code",
   "execution_count": 34,
   "metadata": {},
   "outputs": [
    {
     "name": "stdout",
     "output_type": "stream",
     "text": [
      "[1] \"/data/reddylab/Kuei/out/proj_combeffect_encode_fcc/results/region/annotation_encode_e2g_benchmark/K562.EPCrisprBenchmark.active.region2TSS_Updated.bedpe.gz\"\n"
     ]
    },
    {
     "data": {
      "text/html": [
       "<table class=\"dataframe\">\n",
       "<caption>A tibble: 6 × 13</caption>\n",
       "<thead>\n",
       "\t<tr><th scope=col>#chrom</th><th scope=col>chromStart</th><th scope=col>chromEnd</th><th scope=col>chrTSS</th><th scope=col>startTSS</th><th scope=col>endTSS</th><th scope=col>name</th><th scope=col>EffectSize</th><th scope=col>Strand1</th><th scope=col>Strand2</th><th scope=col>Gene_Symbol</th><th scope=col>Gene_TSS</th><th scope=col>Reference</th></tr>\n",
       "\t<tr><th scope=col>&lt;chr&gt;</th><th scope=col>&lt;dbl&gt;</th><th scope=col>&lt;dbl&gt;</th><th scope=col>&lt;chr&gt;</th><th scope=col>&lt;chr&gt;</th><th scope=col>&lt;chr&gt;</th><th scope=col>&lt;chr&gt;</th><th scope=col>&lt;dbl&gt;</th><th scope=col>&lt;chr&gt;</th><th scope=col>&lt;chr&gt;</th><th scope=col>&lt;chr&gt;</th><th scope=col>&lt;chr&gt;</th><th scope=col>&lt;chr&gt;</th></tr>\n",
       "</thead>\n",
       "<tbody>\n",
       "\t<tr><td>chr1</td><td> 3774714</td><td> 3775214</td><td>chr1</td><td>3857211 </td><td>3857212 </td><td>CEP104|chr1:3691278-3691778:*</td><td>-0.29343</td><td>.</td><td>.</td><td>CEP104</td><td>chr1:3857211-3857212  </td><td>Ulirsch2016           </td></tr>\n",
       "\t<tr><td>chr1</td><td> 3774714</td><td> 3775214</td><td>chr1</td><td>3796498 </td><td>3796499 </td><td>LRRC47|chr1:3691278-3691778:*</td><td>-0.33118</td><td>.</td><td>.</td><td>LRRC47</td><td>chr1:3796498-3796499  </td><td>Ulirsch2016           </td></tr>\n",
       "\t<tr><td>chr1</td><td> 3774714</td><td> 3775214</td><td>chr1</td><td>3772748 </td><td>3772749 </td><td>SMIM1|chr1:3691278-3691778:* </td><td>-0.47202</td><td>.</td><td>.</td><td>SMIM1 </td><td>chr1:3772748-3772749  </td><td>Ulirsch2016           </td></tr>\n",
       "\t<tr><td>chr1</td><td> 8858063</td><td> 8858563</td><td>chr1</td><td>8878686 </td><td>8878687 </td><td>ENO1|chr1:8918122-8918622:.  </td><td>-0.10741</td><td>.</td><td>.</td><td>ENO1  </td><td>chr1:8878686-8878687  </td><td>Gasperini et al., 2019</td></tr>\n",
       "\t<tr><td>chr1</td><td>17441310</td><td>17441810</td><td>chr1</td><td>17054032</td><td>17054033</td><td>SDHB|chr1:17767806-17768306:.</td><td>-0.08968</td><td>.</td><td>.</td><td>SDHB  </td><td>chr1:17054032-17054033</td><td>Gasperini et al., 2019</td></tr>\n",
       "\t<tr><td>chr1</td><td>25933351</td><td>25933954</td><td>chr1</td><td>26921742</td><td>26921743</td><td>NUDC|chr1:26259842-26260445:.</td><td>-0.08462</td><td>.</td><td>.</td><td>NUDC  </td><td>chr1:26921742-26921743</td><td>Gasperini et al., 2019</td></tr>\n",
       "</tbody>\n",
       "</table>\n"
      ],
      "text/latex": [
       "A tibble: 6 × 13\n",
       "\\begin{tabular}{lllllllllllll}\n",
       " \\#chrom & chromStart & chromEnd & chrTSS & startTSS & endTSS & name & EffectSize & Strand1 & Strand2 & Gene\\_Symbol & Gene\\_TSS & Reference\\\\\n",
       " <chr> & <dbl> & <dbl> & <chr> & <chr> & <chr> & <chr> & <dbl> & <chr> & <chr> & <chr> & <chr> & <chr>\\\\\n",
       "\\hline\n",
       "\t chr1 &  3774714 &  3775214 & chr1 & 3857211  & 3857212  & CEP104\\textbar{}chr1:3691278-3691778:* & -0.29343 & . & . & CEP104 & chr1:3857211-3857212   & Ulirsch2016           \\\\\n",
       "\t chr1 &  3774714 &  3775214 & chr1 & 3796498  & 3796499  & LRRC47\\textbar{}chr1:3691278-3691778:* & -0.33118 & . & . & LRRC47 & chr1:3796498-3796499   & Ulirsch2016           \\\\\n",
       "\t chr1 &  3774714 &  3775214 & chr1 & 3772748  & 3772749  & SMIM1\\textbar{}chr1:3691278-3691778:*  & -0.47202 & . & . & SMIM1  & chr1:3772748-3772749   & Ulirsch2016           \\\\\n",
       "\t chr1 &  8858063 &  8858563 & chr1 & 8878686  & 8878687  & ENO1\\textbar{}chr1:8918122-8918622:.   & -0.10741 & . & . & ENO1   & chr1:8878686-8878687   & Gasperini et al., 2019\\\\\n",
       "\t chr1 & 17441310 & 17441810 & chr1 & 17054032 & 17054033 & SDHB\\textbar{}chr1:17767806-17768306:. & -0.08968 & . & . & SDHB   & chr1:17054032-17054033 & Gasperini et al., 2019\\\\\n",
       "\t chr1 & 25933351 & 25933954 & chr1 & 26921742 & 26921743 & NUDC\\textbar{}chr1:26259842-26260445:. & -0.08462 & . & . & NUDC   & chr1:26921742-26921743 & Gasperini et al., 2019\\\\\n",
       "\\end{tabular}\n"
      ],
      "text/markdown": [
       "\n",
       "A tibble: 6 × 13\n",
       "\n",
       "| #chrom &lt;chr&gt; | chromStart &lt;dbl&gt; | chromEnd &lt;dbl&gt; | chrTSS &lt;chr&gt; | startTSS &lt;chr&gt; | endTSS &lt;chr&gt; | name &lt;chr&gt; | EffectSize &lt;dbl&gt; | Strand1 &lt;chr&gt; | Strand2 &lt;chr&gt; | Gene_Symbol &lt;chr&gt; | Gene_TSS &lt;chr&gt; | Reference &lt;chr&gt; |\n",
       "|---|---|---|---|---|---|---|---|---|---|---|---|---|\n",
       "| chr1 |  3774714 |  3775214 | chr1 | 3857211  | 3857212  | CEP104|chr1:3691278-3691778:* | -0.29343 | . | . | CEP104 | chr1:3857211-3857212   | Ulirsch2016            |\n",
       "| chr1 |  3774714 |  3775214 | chr1 | 3796498  | 3796499  | LRRC47|chr1:3691278-3691778:* | -0.33118 | . | . | LRRC47 | chr1:3796498-3796499   | Ulirsch2016            |\n",
       "| chr1 |  3774714 |  3775214 | chr1 | 3772748  | 3772749  | SMIM1|chr1:3691278-3691778:*  | -0.47202 | . | . | SMIM1  | chr1:3772748-3772749   | Ulirsch2016            |\n",
       "| chr1 |  8858063 |  8858563 | chr1 | 8878686  | 8878687  | ENO1|chr1:8918122-8918622:.   | -0.10741 | . | . | ENO1   | chr1:8878686-8878687   | Gasperini et al., 2019 |\n",
       "| chr1 | 17441310 | 17441810 | chr1 | 17054032 | 17054033 | SDHB|chr1:17767806-17768306:. | -0.08968 | . | . | SDHB   | chr1:17054032-17054033 | Gasperini et al., 2019 |\n",
       "| chr1 | 25933351 | 25933954 | chr1 | 26921742 | 26921743 | NUDC|chr1:26259842-26260445:. | -0.08462 | . | . | NUDC   | chr1:26921742-26921743 | Gasperini et al., 2019 |\n",
       "\n"
      ],
      "text/plain": [
       "  #chrom chromStart chromEnd chrTSS startTSS endTSS  \n",
       "1 chr1    3774714    3775214 chr1   3857211  3857212 \n",
       "2 chr1    3774714    3775214 chr1   3796498  3796499 \n",
       "3 chr1    3774714    3775214 chr1   3772748  3772749 \n",
       "4 chr1    8858063    8858563 chr1   8878686  8878687 \n",
       "5 chr1   17441310   17441810 chr1   17054032 17054033\n",
       "6 chr1   25933351   25933954 chr1   26921742 26921743\n",
       "  name                          EffectSize Strand1 Strand2 Gene_Symbol\n",
       "1 CEP104|chr1:3691278-3691778:* -0.29343   .       .       CEP104     \n",
       "2 LRRC47|chr1:3691278-3691778:* -0.33118   .       .       LRRC47     \n",
       "3 SMIM1|chr1:3691278-3691778:*  -0.47202   .       .       SMIM1      \n",
       "4 ENO1|chr1:8918122-8918622:.   -0.10741   .       .       ENO1       \n",
       "5 SDHB|chr1:17767806-17768306:. -0.08968   .       .       SDHB       \n",
       "6 NUDC|chr1:26259842-26260445:. -0.08462   .       .       NUDC       \n",
       "  Gene_TSS               Reference             \n",
       "1 chr1:3857211-3857212   Ulirsch2016           \n",
       "2 chr1:3796498-3796499   Ulirsch2016           \n",
       "3 chr1:3772748-3772749   Ulirsch2016           \n",
       "4 chr1:8878686-8878687   Gasperini et al., 2019\n",
       "5 chr1:17054032-17054033 Gasperini et al., 2019\n",
       "6 chr1:26921742-26921743 Gasperini et al., 2019"
      ]
     },
     "metadata": {},
     "output_type": "display_data"
    }
   ],
   "source": [
    "fdiry = FD_OUT\n",
    "fname = \"K562.EPCrisprBenchmark.active.region2TSS_Updated.bedpe.gz\"\n",
    "fpath = file.path(fdiry, fname)\n",
    "print(fpath)\n",
    "\n",
    "dat = dat_peak_encode_e2g_bedpe_updateTSS\n",
    "colnames(dat)[1] = \"#chrom\"\n",
    "write_tsv(dat, fpath)\n",
    "head(dat)"
   ]
  },
  {
   "cell_type": "code",
   "execution_count": 35,
   "metadata": {},
   "outputs": [
    {
     "name": "stdout",
     "output_type": "stream",
     "text": [
      "[1] \"/data/reddylab/Kuei/out/proj_combeffect_encode_fcc/results/region/annotation_encode_e2g_benchmark/K562.EPCrisprBenchmark.active.region2TSS_Updated.bed\"\n"
     ]
    },
    {
     "data": {
      "text/html": [
       "<table class=\"dataframe\">\n",
       "<caption>A tibble: 6 × 18</caption>\n",
       "<thead>\n",
       "\t<tr><th scope=col>#chrom</th><th scope=col>chromStart</th><th scope=col>chromEnd</th><th scope=col>name</th><th scope=col>score</th><th scope=col>value</th><th scope=col>exp</th><th scope=col>color</th><th scope=col>sourceChrom</th><th scope=col>sourceStart</th><th scope=col>sourceEnd</th><th scope=col>sourceName</th><th scope=col>sourceStrand</th><th scope=col>targetChrom</th><th scope=col>targetStart</th><th scope=col>targetEnd</th><th scope=col>targetName</th><th scope=col>targetStrand</th></tr>\n",
       "\t<tr><th scope=col>&lt;chr&gt;</th><th scope=col>&lt;dbl&gt;</th><th scope=col>&lt;dbl&gt;</th><th scope=col>&lt;chr&gt;</th><th scope=col>&lt;dbl&gt;</th><th scope=col>&lt;dbl&gt;</th><th scope=col>&lt;chr&gt;</th><th scope=col>&lt;chr&gt;</th><th scope=col>&lt;chr&gt;</th><th scope=col>&lt;dbl&gt;</th><th scope=col>&lt;dbl&gt;</th><th scope=col>&lt;chr&gt;</th><th scope=col>&lt;chr&gt;</th><th scope=col>&lt;chr&gt;</th><th scope=col>&lt;chr&gt;</th><th scope=col>&lt;chr&gt;</th><th scope=col>&lt;chr&gt;</th><th scope=col>&lt;chr&gt;</th></tr>\n",
       "</thead>\n",
       "<tbody>\n",
       "\t<tr><td>chr1</td><td> 3774714</td><td> 3775214</td><td>CEP104|chr1:3691278-3691778:*</td><td>1000</td><td>1</td><td>.</td><td>.</td><td>chr1</td><td> 3774714</td><td> 3775214</td><td>chr1:3774714-3775214  </td><td>.</td><td>chr1</td><td>3857211 </td><td>3857212 </td><td>chr1:3857211-3857212  </td><td>.</td></tr>\n",
       "\t<tr><td>chr1</td><td> 3774714</td><td> 3775214</td><td>LRRC47|chr1:3691278-3691778:*</td><td>1000</td><td>1</td><td>.</td><td>.</td><td>chr1</td><td> 3774714</td><td> 3775214</td><td>chr1:3774714-3775214  </td><td>.</td><td>chr1</td><td>3796498 </td><td>3796499 </td><td>chr1:3796498-3796499  </td><td>.</td></tr>\n",
       "\t<tr><td>chr1</td><td> 3774714</td><td> 3775214</td><td>SMIM1|chr1:3691278-3691778:* </td><td>1000</td><td>1</td><td>.</td><td>.</td><td>chr1</td><td> 3774714</td><td> 3775214</td><td>chr1:3774714-3775214  </td><td>.</td><td>chr1</td><td>3772748 </td><td>3772749 </td><td>chr1:3772748-3772749  </td><td>.</td></tr>\n",
       "\t<tr><td>chr1</td><td> 8858063</td><td> 8858563</td><td>ENO1|chr1:8918122-8918622:.  </td><td>1000</td><td>1</td><td>.</td><td>.</td><td>chr1</td><td> 8858063</td><td> 8858563</td><td>chr1:8858063-8858563  </td><td>.</td><td>chr1</td><td>8878686 </td><td>8878687 </td><td>chr1:8878686-8878687  </td><td>.</td></tr>\n",
       "\t<tr><td>chr1</td><td>17441310</td><td>17441810</td><td>SDHB|chr1:17767806-17768306:.</td><td>1000</td><td>1</td><td>.</td><td>.</td><td>chr1</td><td>17441310</td><td>17441810</td><td>chr1:17441310-17441810</td><td>.</td><td>chr1</td><td>17054032</td><td>17054033</td><td>chr1:17054032-17054033</td><td>.</td></tr>\n",
       "\t<tr><td>chr1</td><td>25933351</td><td>25933954</td><td>NUDC|chr1:26259842-26260445:.</td><td>1000</td><td>1</td><td>.</td><td>.</td><td>chr1</td><td>25933351</td><td>25933954</td><td>chr1:25933351-25933954</td><td>.</td><td>chr1</td><td>26921742</td><td>26921743</td><td>chr1:26921742-26921743</td><td>.</td></tr>\n",
       "</tbody>\n",
       "</table>\n"
      ],
      "text/latex": [
       "A tibble: 6 × 18\n",
       "\\begin{tabular}{llllllllllllllllll}\n",
       " \\#chrom & chromStart & chromEnd & name & score & value & exp & color & sourceChrom & sourceStart & sourceEnd & sourceName & sourceStrand & targetChrom & targetStart & targetEnd & targetName & targetStrand\\\\\n",
       " <chr> & <dbl> & <dbl> & <chr> & <dbl> & <dbl> & <chr> & <chr> & <chr> & <dbl> & <dbl> & <chr> & <chr> & <chr> & <chr> & <chr> & <chr> & <chr>\\\\\n",
       "\\hline\n",
       "\t chr1 &  3774714 &  3775214 & CEP104\\textbar{}chr1:3691278-3691778:* & 1000 & 1 & . & . & chr1 &  3774714 &  3775214 & chr1:3774714-3775214   & . & chr1 & 3857211  & 3857212  & chr1:3857211-3857212   & .\\\\\n",
       "\t chr1 &  3774714 &  3775214 & LRRC47\\textbar{}chr1:3691278-3691778:* & 1000 & 1 & . & . & chr1 &  3774714 &  3775214 & chr1:3774714-3775214   & . & chr1 & 3796498  & 3796499  & chr1:3796498-3796499   & .\\\\\n",
       "\t chr1 &  3774714 &  3775214 & SMIM1\\textbar{}chr1:3691278-3691778:*  & 1000 & 1 & . & . & chr1 &  3774714 &  3775214 & chr1:3774714-3775214   & . & chr1 & 3772748  & 3772749  & chr1:3772748-3772749   & .\\\\\n",
       "\t chr1 &  8858063 &  8858563 & ENO1\\textbar{}chr1:8918122-8918622:.   & 1000 & 1 & . & . & chr1 &  8858063 &  8858563 & chr1:8858063-8858563   & . & chr1 & 8878686  & 8878687  & chr1:8878686-8878687   & .\\\\\n",
       "\t chr1 & 17441310 & 17441810 & SDHB\\textbar{}chr1:17767806-17768306:. & 1000 & 1 & . & . & chr1 & 17441310 & 17441810 & chr1:17441310-17441810 & . & chr1 & 17054032 & 17054033 & chr1:17054032-17054033 & .\\\\\n",
       "\t chr1 & 25933351 & 25933954 & NUDC\\textbar{}chr1:26259842-26260445:. & 1000 & 1 & . & . & chr1 & 25933351 & 25933954 & chr1:25933351-25933954 & . & chr1 & 26921742 & 26921743 & chr1:26921742-26921743 & .\\\\\n",
       "\\end{tabular}\n"
      ],
      "text/markdown": [
       "\n",
       "A tibble: 6 × 18\n",
       "\n",
       "| #chrom &lt;chr&gt; | chromStart &lt;dbl&gt; | chromEnd &lt;dbl&gt; | name &lt;chr&gt; | score &lt;dbl&gt; | value &lt;dbl&gt; | exp &lt;chr&gt; | color &lt;chr&gt; | sourceChrom &lt;chr&gt; | sourceStart &lt;dbl&gt; | sourceEnd &lt;dbl&gt; | sourceName &lt;chr&gt; | sourceStrand &lt;chr&gt; | targetChrom &lt;chr&gt; | targetStart &lt;chr&gt; | targetEnd &lt;chr&gt; | targetName &lt;chr&gt; | targetStrand &lt;chr&gt; |\n",
       "|---|---|---|---|---|---|---|---|---|---|---|---|---|---|---|---|---|---|\n",
       "| chr1 |  3774714 |  3775214 | CEP104|chr1:3691278-3691778:* | 1000 | 1 | . | . | chr1 |  3774714 |  3775214 | chr1:3774714-3775214   | . | chr1 | 3857211  | 3857212  | chr1:3857211-3857212   | . |\n",
       "| chr1 |  3774714 |  3775214 | LRRC47|chr1:3691278-3691778:* | 1000 | 1 | . | . | chr1 |  3774714 |  3775214 | chr1:3774714-3775214   | . | chr1 | 3796498  | 3796499  | chr1:3796498-3796499   | . |\n",
       "| chr1 |  3774714 |  3775214 | SMIM1|chr1:3691278-3691778:*  | 1000 | 1 | . | . | chr1 |  3774714 |  3775214 | chr1:3774714-3775214   | . | chr1 | 3772748  | 3772749  | chr1:3772748-3772749   | . |\n",
       "| chr1 |  8858063 |  8858563 | ENO1|chr1:8918122-8918622:.   | 1000 | 1 | . | . | chr1 |  8858063 |  8858563 | chr1:8858063-8858563   | . | chr1 | 8878686  | 8878687  | chr1:8878686-8878687   | . |\n",
       "| chr1 | 17441310 | 17441810 | SDHB|chr1:17767806-17768306:. | 1000 | 1 | . | . | chr1 | 17441310 | 17441810 | chr1:17441310-17441810 | . | chr1 | 17054032 | 17054033 | chr1:17054032-17054033 | . |\n",
       "| chr1 | 25933351 | 25933954 | NUDC|chr1:26259842-26260445:. | 1000 | 1 | . | . | chr1 | 25933351 | 25933954 | chr1:25933351-25933954 | . | chr1 | 26921742 | 26921743 | chr1:26921742-26921743 | . |\n",
       "\n"
      ],
      "text/plain": [
       "  #chrom chromStart chromEnd name                          score value exp\n",
       "1 chr1    3774714    3775214 CEP104|chr1:3691278-3691778:* 1000  1     .  \n",
       "2 chr1    3774714    3775214 LRRC47|chr1:3691278-3691778:* 1000  1     .  \n",
       "3 chr1    3774714    3775214 SMIM1|chr1:3691278-3691778:*  1000  1     .  \n",
       "4 chr1    8858063    8858563 ENO1|chr1:8918122-8918622:.   1000  1     .  \n",
       "5 chr1   17441310   17441810 SDHB|chr1:17767806-17768306:. 1000  1     .  \n",
       "6 chr1   25933351   25933954 NUDC|chr1:26259842-26260445:. 1000  1     .  \n",
       "  color sourceChrom sourceStart sourceEnd sourceName             sourceStrand\n",
       "1 .     chr1         3774714     3775214  chr1:3774714-3775214   .           \n",
       "2 .     chr1         3774714     3775214  chr1:3774714-3775214   .           \n",
       "3 .     chr1         3774714     3775214  chr1:3774714-3775214   .           \n",
       "4 .     chr1         8858063     8858563  chr1:8858063-8858563   .           \n",
       "5 .     chr1        17441310    17441810  chr1:17441310-17441810 .           \n",
       "6 .     chr1        25933351    25933954  chr1:25933351-25933954 .           \n",
       "  targetChrom targetStart targetEnd targetName             targetStrand\n",
       "1 chr1        3857211     3857212   chr1:3857211-3857212   .           \n",
       "2 chr1        3796498     3796499   chr1:3796498-3796499   .           \n",
       "3 chr1        3772748     3772749   chr1:3772748-3772749   .           \n",
       "4 chr1        8878686     8878687   chr1:8878686-8878687   .           \n",
       "5 chr1        17054032    17054033  chr1:17054032-17054033 .           \n",
       "6 chr1        26921742    26921743  chr1:26921742-26921743 .           "
      ]
     },
     "metadata": {},
     "output_type": "display_data"
    }
   ],
   "source": [
    "fdiry = FD_OUT\n",
    "fname = \"K562.EPCrisprBenchmark.active.region2TSS_Updated.bed\"\n",
    "fpath = file.path(fdiry, fname)\n",
    "print(fpath)\n",
    "\n",
    "dat = dat_peak_encode_e2g_interact_updateTSS\n",
    "colnames(dat)[1] = \"#chrom\"\n",
    "write_tsv(dat, fpath)\n",
    "head(dat)"
   ]
  },
  {
   "cell_type": "code",
   "execution_count": null,
   "metadata": {},
   "outputs": [],
   "source": []
  }
 ],
 "metadata": {
  "kernelspec": {
   "display_name": "R",
   "language": "R",
   "name": "ir"
  },
  "language_info": {
   "codemirror_mode": "r",
   "file_extension": ".r",
   "mimetype": "text/x-r-source",
   "name": "R",
   "pygments_lexer": "r",
   "version": "4.3.1"
  }
 },
 "nbformat": 4,
 "nbformat_minor": 4
}
