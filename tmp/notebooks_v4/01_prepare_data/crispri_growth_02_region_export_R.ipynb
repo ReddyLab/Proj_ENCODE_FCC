{
 "cells": [
  {
   "cell_type": "markdown",
   "metadata": {},
   "source": [
    "**Set environment**"
   ]
  },
  {
   "cell_type": "code",
   "execution_count": 1,
   "metadata": {},
   "outputs": [
    {
     "name": "stdout",
     "output_type": "stream",
     "text": [
      "You are in Singularity: singularity_proj_encode_fcc \n",
      "BASE DIRECTORY (FD_BASE): /data/reddylab/Kuei \n",
      "WORK DIRECTORY (FD_WORK): /data/reddylab/Kuei/out \n",
      "CODE DIRECTORY (FD_CODE): /data/reddylab/Kuei/code \n",
      "PATH OF PROJECT (FD_PRJ): /data/reddylab/Kuei/code/Proj_CombEffect_ENCODE_FCC \n",
      "PATH OF RESULTS (FD_RES): /data/reddylab/Kuei/out/proj_combeffect_encode_fcc \n",
      "PATH OF LOG     (FD_LOG): /data/reddylab/Kuei/out/proj_combeffect_encode_fcc/log \n"
     ]
    }
   ],
   "source": [
    "suppressWarnings(suppressMessages(source(\"../config/config_sing.R\")))\n",
    "show_env()"
   ]
  },
  {
   "cell_type": "markdown",
   "metadata": {},
   "source": [
    "**Check data files**"
   ]
  },
  {
   "cell_type": "code",
   "execution_count": 2,
   "metadata": {},
   "outputs": [
    {
     "name": "stdout",
     "output_type": "stream",
     "text": [
      "[1] \"2023_resubmission\"\n",
      "[1] \"k562-gw-v3-all.sorted.counts.results.hg38.txt.gz\"\n",
      "[1] \"k562-gw-v3-all.sorted.counts.results.top_guide_fdr_0_05.hg38.bed.gz\"\n"
     ]
    }
   ],
   "source": [
    "fdiry = file.path(FD_RES, \"source\", \"CRISPRi_growth\")\n",
    "for (idx in dir(fdiry)) {print(idx)}"
   ]
  },
  {
   "cell_type": "markdown",
   "metadata": {},
   "source": [
    "## Import data"
   ]
  },
  {
   "cell_type": "markdown",
   "metadata": {},
   "source": [
    "**Import total guides & DHS**"
   ]
  },
  {
   "cell_type": "code",
   "execution_count": 3,
   "metadata": {},
   "outputs": [
    {
     "name": "stderr",
     "output_type": "stream",
     "text": [
      "\u001b[1m\u001b[22mNew names:\n",
      "\u001b[36m•\u001b[39m `` -> `...1`\n"
     ]
    },
    {
     "name": "stdout",
     "output_type": "stream",
     "text": [
      "[1] 1092166      22\n"
     ]
    },
    {
     "data": {
      "text/html": [
       "<table class=\"dataframe\">\n",
       "<caption>A tibble: 6 × 22</caption>\n",
       "<thead>\n",
       "\t<tr><th scope=col>RowID</th><th scope=col>baseMean</th><th scope=col>log2FoldChange</th><th scope=col>lfcSE</th><th scope=col>stat</th><th scope=col>pvalue</th><th scope=col>padj</th><th scope=col>weight</th><th scope=col>name</th><th scope=col>dhs_chrom</th><th scope=col>⋯</th><th scope=col>ID</th><th scope=col>chrPerturbationTarget</th><th scope=col>startPerturbationTarget</th><th scope=col>endPerturbationTarget</th><th scope=col>chrom</th><th scope=col>start</th><th scope=col>end</th><th scope=col>dhs_id</th><th scope=col>score</th><th scope=col>strand</th></tr>\n",
       "\t<tr><th scope=col>&lt;dbl&gt;</th><th scope=col>&lt;dbl&gt;</th><th scope=col>&lt;dbl&gt;</th><th scope=col>&lt;dbl&gt;</th><th scope=col>&lt;dbl&gt;</th><th scope=col>&lt;dbl&gt;</th><th scope=col>&lt;dbl&gt;</th><th scope=col>&lt;dbl&gt;</th><th scope=col>&lt;chr&gt;</th><th scope=col>&lt;chr&gt;</th><th scope=col>⋯</th><th scope=col>&lt;chr&gt;</th><th scope=col>&lt;chr&gt;</th><th scope=col>&lt;dbl&gt;</th><th scope=col>&lt;dbl&gt;</th><th scope=col>&lt;chr&gt;</th><th scope=col>&lt;dbl&gt;</th><th scope=col>&lt;dbl&gt;</th><th scope=col>&lt;chr&gt;</th><th scope=col>&lt;dbl&gt;</th><th scope=col>&lt;chr&gt;</th></tr>\n",
       "</thead>\n",
       "<tbody>\n",
       "\t<tr><td>0</td><td> 669.8027</td><td>-0.98593380</td><td>0.13527811</td><td>-7.5156478</td><td>5.662983e-14</td><td>3.245787e-11</td><td>1.0189024</td><td>chr1.1.1</td><td>chr1</td><td>⋯</td><td>chr1.1</td><td>chr1</td><td>540951</td><td>540970</td><td>chr1</td><td>605550</td><td>605627</td><td>chr1.1</td><td>521</td><td>.</td></tr>\n",
       "\t<tr><td>1</td><td>1210.5948</td><td> 0.01755679</td><td>0.11259581</td><td> 0.9724725</td><td>3.308155e-01</td><td>8.618381e-01</td><td>1.3894218</td><td>chr1.1.2</td><td>chr1</td><td>⋯</td><td>chr1.1</td><td>chr1</td><td>540971</td><td>540990</td><td>chr1</td><td>605550</td><td>605627</td><td>chr1.1</td><td>521</td><td>.</td></tr>\n",
       "\t<tr><td>2</td><td>2065.7482</td><td> 0.01422210</td><td>0.07694619</td><td> 0.7948325</td><td>4.267110e-01</td><td>9.074943e-01</td><td>1.2206106</td><td>chr1.1.3</td><td>chr1</td><td>⋯</td><td>chr1.1</td><td>chr1</td><td>540963</td><td>540982</td><td>chr1</td><td>605550</td><td>605627</td><td>chr1.1</td><td>521</td><td>.</td></tr>\n",
       "\t<tr><td>3</td><td> 670.0537</td><td> 0.01843545</td><td>0.12623486</td><td> 1.0421596</td><td>2.973377e-01</td><td>8.864450e-01</td><td>1.0189024</td><td>chr1.1.4</td><td>chr1</td><td>⋯</td><td>chr1.1</td><td>chr1</td><td>540953</td><td>540972</td><td>chr1</td><td>605550</td><td>605627</td><td>chr1.1</td><td>521</td><td>.</td></tr>\n",
       "\t<tr><td>4</td><td>1023.9170</td><td> 0.01126530</td><td>0.10178712</td><td> 0.6436207</td><td>5.198214e-01</td><td>9.145863e-01</td><td>1.3894218</td><td>chr1.1.5</td><td>chr1</td><td>⋯</td><td>chr1.1</td><td>chr1</td><td>540954</td><td>540973</td><td>chr1</td><td>605550</td><td>605627</td><td>chr1.1</td><td>521</td><td>.</td></tr>\n",
       "\t<tr><td>5</td><td> 605.4137</td><td> 0.03242606</td><td>0.14597771</td><td> 1.6813118</td><td>9.270237e-02</td><td>7.390114e-01</td><td>0.9584715</td><td>chr1.1.6</td><td>chr1</td><td>⋯</td><td>chr1.1</td><td>chr1</td><td>540979</td><td>540998</td><td>chr1</td><td>605550</td><td>605627</td><td>chr1.1</td><td>521</td><td>.</td></tr>\n",
       "</tbody>\n",
       "</table>\n"
      ],
      "text/latex": [
       "A tibble: 6 × 22\n",
       "\\begin{tabular}{lllllllllllllllllllll}\n",
       " RowID & baseMean & log2FoldChange & lfcSE & stat & pvalue & padj & weight & name & dhs\\_chrom & ⋯ & ID & chrPerturbationTarget & startPerturbationTarget & endPerturbationTarget & chrom & start & end & dhs\\_id & score & strand\\\\\n",
       " <dbl> & <dbl> & <dbl> & <dbl> & <dbl> & <dbl> & <dbl> & <dbl> & <chr> & <chr> & ⋯ & <chr> & <chr> & <dbl> & <dbl> & <chr> & <dbl> & <dbl> & <chr> & <dbl> & <chr>\\\\\n",
       "\\hline\n",
       "\t 0 &  669.8027 & -0.98593380 & 0.13527811 & -7.5156478 & 5.662983e-14 & 3.245787e-11 & 1.0189024 & chr1.1.1 & chr1 & ⋯ & chr1.1 & chr1 & 540951 & 540970 & chr1 & 605550 & 605627 & chr1.1 & 521 & .\\\\\n",
       "\t 1 & 1210.5948 &  0.01755679 & 0.11259581 &  0.9724725 & 3.308155e-01 & 8.618381e-01 & 1.3894218 & chr1.1.2 & chr1 & ⋯ & chr1.1 & chr1 & 540971 & 540990 & chr1 & 605550 & 605627 & chr1.1 & 521 & .\\\\\n",
       "\t 2 & 2065.7482 &  0.01422210 & 0.07694619 &  0.7948325 & 4.267110e-01 & 9.074943e-01 & 1.2206106 & chr1.1.3 & chr1 & ⋯ & chr1.1 & chr1 & 540963 & 540982 & chr1 & 605550 & 605627 & chr1.1 & 521 & .\\\\\n",
       "\t 3 &  670.0537 &  0.01843545 & 0.12623486 &  1.0421596 & 2.973377e-01 & 8.864450e-01 & 1.0189024 & chr1.1.4 & chr1 & ⋯ & chr1.1 & chr1 & 540953 & 540972 & chr1 & 605550 & 605627 & chr1.1 & 521 & .\\\\\n",
       "\t 4 & 1023.9170 &  0.01126530 & 0.10178712 &  0.6436207 & 5.198214e-01 & 9.145863e-01 & 1.3894218 & chr1.1.5 & chr1 & ⋯ & chr1.1 & chr1 & 540954 & 540973 & chr1 & 605550 & 605627 & chr1.1 & 521 & .\\\\\n",
       "\t 5 &  605.4137 &  0.03242606 & 0.14597771 &  1.6813118 & 9.270237e-02 & 7.390114e-01 & 0.9584715 & chr1.1.6 & chr1 & ⋯ & chr1.1 & chr1 & 540979 & 540998 & chr1 & 605550 & 605627 & chr1.1 & 521 & .\\\\\n",
       "\\end{tabular}\n"
      ],
      "text/markdown": [
       "\n",
       "A tibble: 6 × 22\n",
       "\n",
       "| RowID &lt;dbl&gt; | baseMean &lt;dbl&gt; | log2FoldChange &lt;dbl&gt; | lfcSE &lt;dbl&gt; | stat &lt;dbl&gt; | pvalue &lt;dbl&gt; | padj &lt;dbl&gt; | weight &lt;dbl&gt; | name &lt;chr&gt; | dhs_chrom &lt;chr&gt; | ⋯ ⋯ | ID &lt;chr&gt; | chrPerturbationTarget &lt;chr&gt; | startPerturbationTarget &lt;dbl&gt; | endPerturbationTarget &lt;dbl&gt; | chrom &lt;chr&gt; | start &lt;dbl&gt; | end &lt;dbl&gt; | dhs_id &lt;chr&gt; | score &lt;dbl&gt; | strand &lt;chr&gt; |\n",
       "|---|---|---|---|---|---|---|---|---|---|---|---|---|---|---|---|---|---|---|---|---|\n",
       "| 0 |  669.8027 | -0.98593380 | 0.13527811 | -7.5156478 | 5.662983e-14 | 3.245787e-11 | 1.0189024 | chr1.1.1 | chr1 | ⋯ | chr1.1 | chr1 | 540951 | 540970 | chr1 | 605550 | 605627 | chr1.1 | 521 | . |\n",
       "| 1 | 1210.5948 |  0.01755679 | 0.11259581 |  0.9724725 | 3.308155e-01 | 8.618381e-01 | 1.3894218 | chr1.1.2 | chr1 | ⋯ | chr1.1 | chr1 | 540971 | 540990 | chr1 | 605550 | 605627 | chr1.1 | 521 | . |\n",
       "| 2 | 2065.7482 |  0.01422210 | 0.07694619 |  0.7948325 | 4.267110e-01 | 9.074943e-01 | 1.2206106 | chr1.1.3 | chr1 | ⋯ | chr1.1 | chr1 | 540963 | 540982 | chr1 | 605550 | 605627 | chr1.1 | 521 | . |\n",
       "| 3 |  670.0537 |  0.01843545 | 0.12623486 |  1.0421596 | 2.973377e-01 | 8.864450e-01 | 1.0189024 | chr1.1.4 | chr1 | ⋯ | chr1.1 | chr1 | 540953 | 540972 | chr1 | 605550 | 605627 | chr1.1 | 521 | . |\n",
       "| 4 | 1023.9170 |  0.01126530 | 0.10178712 |  0.6436207 | 5.198214e-01 | 9.145863e-01 | 1.3894218 | chr1.1.5 | chr1 | ⋯ | chr1.1 | chr1 | 540954 | 540973 | chr1 | 605550 | 605627 | chr1.1 | 521 | . |\n",
       "| 5 |  605.4137 |  0.03242606 | 0.14597771 |  1.6813118 | 9.270237e-02 | 7.390114e-01 | 0.9584715 | chr1.1.6 | chr1 | ⋯ | chr1.1 | chr1 | 540979 | 540998 | chr1 | 605550 | 605627 | chr1.1 | 521 | . |\n",
       "\n"
      ],
      "text/plain": [
       "  RowID baseMean  log2FoldChange lfcSE      stat       pvalue      \n",
       "1 0      669.8027 -0.98593380    0.13527811 -7.5156478 5.662983e-14\n",
       "2 1     1210.5948  0.01755679    0.11259581  0.9724725 3.308155e-01\n",
       "3 2     2065.7482  0.01422210    0.07694619  0.7948325 4.267110e-01\n",
       "4 3      670.0537  0.01843545    0.12623486  1.0421596 2.973377e-01\n",
       "5 4     1023.9170  0.01126530    0.10178712  0.6436207 5.198214e-01\n",
       "6 5      605.4137  0.03242606    0.14597771  1.6813118 9.270237e-02\n",
       "  padj         weight    name     dhs_chrom ⋯ ID     chrPerturbationTarget\n",
       "1 3.245787e-11 1.0189024 chr1.1.1 chr1      ⋯ chr1.1 chr1                 \n",
       "2 8.618381e-01 1.3894218 chr1.1.2 chr1      ⋯ chr1.1 chr1                 \n",
       "3 9.074943e-01 1.2206106 chr1.1.3 chr1      ⋯ chr1.1 chr1                 \n",
       "4 8.864450e-01 1.0189024 chr1.1.4 chr1      ⋯ chr1.1 chr1                 \n",
       "5 9.145863e-01 1.3894218 chr1.1.5 chr1      ⋯ chr1.1 chr1                 \n",
       "6 7.390114e-01 0.9584715 chr1.1.6 chr1      ⋯ chr1.1 chr1                 \n",
       "  startPerturbationTarget endPerturbationTarget chrom start  end    dhs_id\n",
       "1 540951                  540970                chr1  605550 605627 chr1.1\n",
       "2 540971                  540990                chr1  605550 605627 chr1.1\n",
       "3 540963                  540982                chr1  605550 605627 chr1.1\n",
       "4 540953                  540972                chr1  605550 605627 chr1.1\n",
       "5 540954                  540973                chr1  605550 605627 chr1.1\n",
       "6 540979                  540998                chr1  605550 605627 chr1.1\n",
       "  score strand\n",
       "1 521   .     \n",
       "2 521   .     \n",
       "3 521   .     \n",
       "4 521   .     \n",
       "5 521   .     \n",
       "6 521   .     "
      ]
     },
     "metadata": {},
     "output_type": "display_data"
    }
   ],
   "source": [
    "### set file directory\n",
    "fdiry = file.path(FD_RES, \"source\", \"CRISPRi_growth\")\n",
    "fname = \"k562-gw-v3-all.sorted.counts.results.hg38.txt.gz\"\n",
    "fpath = file.path(fdiry, fname)\n",
    "\n",
    "### read data\n",
    "dat = read_tsv(fpath, show_col_types = FALSE)\n",
    "colnames(dat)[1] = \"RowID\"\n",
    "\n",
    "### assign and show\n",
    "dat_peak_crispri_growth_total = dat\n",
    "print(dim(dat))\n",
    "head(dat)"
   ]
  },
  {
   "cell_type": "markdown",
   "metadata": {},
   "source": [
    "**Import significant guides**"
   ]
  },
  {
   "cell_type": "code",
   "execution_count": 4,
   "metadata": {},
   "outputs": [
    {
     "name": "stderr",
     "output_type": "stream",
     "text": [
      "\u001b[1m\u001b[22mNew names:\n",
      "\u001b[36m•\u001b[39m `` -> `...1`\n"
     ]
    },
    {
     "name": "stdout",
     "output_type": "stream",
     "text": [
      "[1] 6242    7\n"
     ]
    },
    {
     "data": {
      "text/html": [
       "<table class=\"dataframe\">\n",
       "<caption>A tibble: 6 × 7</caption>\n",
       "<thead>\n",
       "\t<tr><th scope=col>RowID</th><th scope=col>chrom</th><th scope=col>start</th><th scope=col>end</th><th scope=col>name</th><th scope=col>log2FoldChange</th><th scope=col>padj</th></tr>\n",
       "\t<tr><th scope=col>&lt;dbl&gt;</th><th scope=col>&lt;chr&gt;</th><th scope=col>&lt;dbl&gt;</th><th scope=col>&lt;dbl&gt;</th><th scope=col>&lt;chr&gt;</th><th scope=col>&lt;dbl&gt;</th><th scope=col>&lt;dbl&gt;</th></tr>\n",
       "</thead>\n",
       "<tbody>\n",
       "\t<tr><td>504606</td><td>chr19</td><td>11155578</td><td>11156290</td><td>chr19.1899.3</td><td>-2.549922</td><td>3.771775e-123</td></tr>\n",
       "\t<tr><td>686888</td><td>chr22</td><td>30356286</td><td>30357525</td><td>chr22.1285.6</td><td>-3.059909</td><td>9.819760e-120</td></tr>\n",
       "\t<tr><td>868222</td><td>chr6 </td><td>34530428</td><td>34530534</td><td>chr6.2172.8 </td><td>-3.100194</td><td>1.232839e-117</td></tr>\n",
       "\t<tr><td> 50002</td><td>chr1 </td><td>20685850</td><td>20686283</td><td>chr1.2930.10</td><td>-2.862158</td><td>9.548565e-109</td></tr>\n",
       "\t<tr><td>811835</td><td>chr5 </td><td>70924811</td><td>70925615</td><td>chr5.1649.1 </td><td>-2.927110</td><td>4.298640e-107</td></tr>\n",
       "\t<tr><td>811815</td><td>chr5 </td><td>70049360</td><td>70050252</td><td>chr5.1647.1 </td><td>-2.927110</td><td>4.298640e-107</td></tr>\n",
       "</tbody>\n",
       "</table>\n"
      ],
      "text/latex": [
       "A tibble: 6 × 7\n",
       "\\begin{tabular}{lllllll}\n",
       " RowID & chrom & start & end & name & log2FoldChange & padj\\\\\n",
       " <dbl> & <chr> & <dbl> & <dbl> & <chr> & <dbl> & <dbl>\\\\\n",
       "\\hline\n",
       "\t 504606 & chr19 & 11155578 & 11156290 & chr19.1899.3 & -2.549922 & 3.771775e-123\\\\\n",
       "\t 686888 & chr22 & 30356286 & 30357525 & chr22.1285.6 & -3.059909 & 9.819760e-120\\\\\n",
       "\t 868222 & chr6  & 34530428 & 34530534 & chr6.2172.8  & -3.100194 & 1.232839e-117\\\\\n",
       "\t  50002 & chr1  & 20685850 & 20686283 & chr1.2930.10 & -2.862158 & 9.548565e-109\\\\\n",
       "\t 811835 & chr5  & 70924811 & 70925615 & chr5.1649.1  & -2.927110 & 4.298640e-107\\\\\n",
       "\t 811815 & chr5  & 70049360 & 70050252 & chr5.1647.1  & -2.927110 & 4.298640e-107\\\\\n",
       "\\end{tabular}\n"
      ],
      "text/markdown": [
       "\n",
       "A tibble: 6 × 7\n",
       "\n",
       "| RowID &lt;dbl&gt; | chrom &lt;chr&gt; | start &lt;dbl&gt; | end &lt;dbl&gt; | name &lt;chr&gt; | log2FoldChange &lt;dbl&gt; | padj &lt;dbl&gt; |\n",
       "|---|---|---|---|---|---|---|\n",
       "| 504606 | chr19 | 11155578 | 11156290 | chr19.1899.3 | -2.549922 | 3.771775e-123 |\n",
       "| 686888 | chr22 | 30356286 | 30357525 | chr22.1285.6 | -3.059909 | 9.819760e-120 |\n",
       "| 868222 | chr6  | 34530428 | 34530534 | chr6.2172.8  | -3.100194 | 1.232839e-117 |\n",
       "|  50002 | chr1  | 20685850 | 20686283 | chr1.2930.10 | -2.862158 | 9.548565e-109 |\n",
       "| 811835 | chr5  | 70924811 | 70925615 | chr5.1649.1  | -2.927110 | 4.298640e-107 |\n",
       "| 811815 | chr5  | 70049360 | 70050252 | chr5.1647.1  | -2.927110 | 4.298640e-107 |\n",
       "\n"
      ],
      "text/plain": [
       "  RowID  chrom start    end      name         log2FoldChange padj         \n",
       "1 504606 chr19 11155578 11156290 chr19.1899.3 -2.549922      3.771775e-123\n",
       "2 686888 chr22 30356286 30357525 chr22.1285.6 -3.059909      9.819760e-120\n",
       "3 868222 chr6  34530428 34530534 chr6.2172.8  -3.100194      1.232839e-117\n",
       "4  50002 chr1  20685850 20686283 chr1.2930.10 -2.862158      9.548565e-109\n",
       "5 811835 chr5  70924811 70925615 chr5.1649.1  -2.927110      4.298640e-107\n",
       "6 811815 chr5  70049360 70050252 chr5.1647.1  -2.927110      4.298640e-107"
      ]
     },
     "metadata": {},
     "output_type": "display_data"
    }
   ],
   "source": [
    "### set file directory\n",
    "fdiry = file.path(FD_RES, \"source\", \"CRISPRi_growth\")\n",
    "fname = \"k562-gw-v3-all.sorted.counts.results.top_guide_fdr_0_05.hg38.bed.gz\"\n",
    "fpath = file.path(fdiry, fname)\n",
    "\n",
    "### read data\n",
    "dat = read_csv(fpath, show_col_types = FALSE)\n",
    "colnames(dat)[1] = \"RowID\"\n",
    "\n",
    "### assign and show\n",
    "dat_peak_crispri_growth_fdr = dat\n",
    "print(dim(dat))\n",
    "head(dat)"
   ]
  },
  {
   "cell_type": "markdown",
   "metadata": {},
   "source": [
    "## Arrange and summary"
   ]
  },
  {
   "cell_type": "code",
   "execution_count": 5,
   "metadata": {},
   "outputs": [],
   "source": [
    "### init: list of data\n",
    "lst = list(\n",
    "    \"total\"  = dat_peak_crispri_growth_total,\n",
    "    \"active\" = dat_peak_crispri_growth_fdr\n",
    ")\n",
    "\n",
    "### columns and assay type\n",
    "vec = c('chrom', 'start', 'end', 'name', 'log2FoldChange', 'padj')\n",
    "txt = \"CRISPRi-Growth\"\n",
    "\n",
    "### extract columns and arrange table\n",
    "lst = lapply(lst, function(dat){\n",
    "    dat = dat %>%\n",
    "        dplyr::select({{vec}}) %>% \n",
    "        dplyr::mutate(\n",
    "            Region = paste0(chrom, \":\", start, \"-\", end),\n",
    "            Assay_Type  = txt,\n",
    "            Assay_Label = txt\n",
    "        ) %>%\n",
    "        dplyr::arrange(chrom, start, end) %>%\n",
    "        dplyr::distinct()\n",
    "})\n",
    "\n",
    "lst_dat_peak_crispri_growth_arrange = lst"
   ]
  },
  {
   "cell_type": "code",
   "execution_count": 6,
   "metadata": {},
   "outputs": [
    {
     "name": "stdout",
     "output_type": "stream",
     "text": [
      "#Row    (Total): 1092166 \n",
      "#Region (Total): 111702 \n",
      "\n",
      "#Row    (Active): 6242 \n",
      "#Region (Active): 6242 \n"
     ]
    }
   ],
   "source": [
    "### init\n",
    "lst = lst_dat_peak_crispri_growth_arrange\n",
    "\n",
    "### show information\n",
    "dat = lst[['total']]\n",
    "vec_txt_region = unique(dat$Region)\n",
    "cat(\"#Row    (Total):\", nrow(dat),              \"\\n\")\n",
    "cat(\"#Region (Total):\", length(vec_txt_region), \"\\n\")\n",
    "cat(\"\\n\")\n",
    "\n",
    "### show information\n",
    "dat = lst[['active']]\n",
    "vec_txt_region = unique(dat$Region)\n",
    "cat(\"#Row    (Active):\", nrow(dat),              \"\\n\")\n",
    "cat(\"#Region (Active):\", length(vec_txt_region), \"\\n\")"
   ]
  },
  {
   "cell_type": "markdown",
   "metadata": {},
   "source": [
    "## Data dictionary"
   ]
  },
  {
   "cell_type": "code",
   "execution_count": 7,
   "metadata": {},
   "outputs": [
    {
     "name": "stdout",
     "output_type": "stream",
     "text": [
      "====================\n",
      "chrom \n",
      "start \n",
      "end \n",
      "name \n",
      "log2FoldChange \n",
      "padj \n",
      "Region \n",
      "Assay_Type \n",
      "Assay_Label \n",
      "====================\n",
      "chrom \n",
      "start \n",
      "end \n",
      "name \n",
      "log2FoldChange \n",
      "padj \n",
      "Region \n",
      "Assay_Type \n",
      "Assay_Label \n"
     ]
    }
   ],
   "source": [
    "lst = lst_dat_peak_crispri_growth_arrange\n",
    "\n",
    "dat = lst[['total']]\n",
    "cat (\"====================\\n\")\n",
    "for (txt in colnames(dat)){cat(txt, \"\\n\")}\n",
    "\n",
    "dat = lst[['active']]\n",
    "cat (\"====================\\n\")\n",
    "for (txt in colnames(dat)){cat(txt, \"\\n\")}"
   ]
  },
  {
   "cell_type": "code",
   "execution_count": 8,
   "metadata": {},
   "outputs": [
    {
     "data": {
      "text/html": [
       "<table class=\"dataframe\">\n",
       "<caption>A tibble: 9 × 2</caption>\n",
       "<thead>\n",
       "\t<tr><th scope=col>Name</th><th scope=col>Description</th></tr>\n",
       "\t<tr><th scope=col>&lt;chr&gt;</th><th scope=col>&lt;chr&gt;</th></tr>\n",
       "</thead>\n",
       "<tbody>\n",
       "\t<tr><td>Chrom      </td><td>Chromosome of DHS                     </td></tr>\n",
       "\t<tr><td>Start      </td><td>Start position of DHS                 </td></tr>\n",
       "\t<tr><td>End        </td><td>End   position of DHS                 </td></tr>\n",
       "\t<tr><td>Name       </td><td>ID of significant guide within the DHS</td></tr>\n",
       "\t<tr><td>Log2FC     </td><td>Log2FC of the guide                   </td></tr>\n",
       "\t<tr><td>Padj       </td><td>Adjusted p value of the guide         </td></tr>\n",
       "\t<tr><td>Region     </td><td>Location of the DHS                   </td></tr>\n",
       "\t<tr><td>Assay_Type </td><td>Assay type                            </td></tr>\n",
       "\t<tr><td>Assay_Label</td><td>Assay label                           </td></tr>\n",
       "</tbody>\n",
       "</table>\n"
      ],
      "text/latex": [
       "A tibble: 9 × 2\n",
       "\\begin{tabular}{ll}\n",
       " Name & Description\\\\\n",
       " <chr> & <chr>\\\\\n",
       "\\hline\n",
       "\t Chrom       & Chromosome of DHS                     \\\\\n",
       "\t Start       & Start position of DHS                 \\\\\n",
       "\t End         & End   position of DHS                 \\\\\n",
       "\t Name        & ID of significant guide within the DHS\\\\\n",
       "\t Log2FC      & Log2FC of the guide                   \\\\\n",
       "\t Padj        & Adjusted p value of the guide         \\\\\n",
       "\t Region      & Location of the DHS                   \\\\\n",
       "\t Assay\\_Type  & Assay type                            \\\\\n",
       "\t Assay\\_Label & Assay label                           \\\\\n",
       "\\end{tabular}\n"
      ],
      "text/markdown": [
       "\n",
       "A tibble: 9 × 2\n",
       "\n",
       "| Name &lt;chr&gt; | Description &lt;chr&gt; |\n",
       "|---|---|\n",
       "| Chrom       | Chromosome of DHS                      |\n",
       "| Start       | Start position of DHS                  |\n",
       "| End         | End   position of DHS                  |\n",
       "| Name        | ID of significant guide within the DHS |\n",
       "| Log2FC      | Log2FC of the guide                    |\n",
       "| Padj        | Adjusted p value of the guide          |\n",
       "| Region      | Location of the DHS                    |\n",
       "| Assay_Type  | Assay type                             |\n",
       "| Assay_Label | Assay label                            |\n",
       "\n"
      ],
      "text/plain": [
       "  Name        Description                           \n",
       "1 Chrom       Chromosome of DHS                     \n",
       "2 Start       Start position of DHS                 \n",
       "3 End         End   position of DHS                 \n",
       "4 Name        ID of significant guide within the DHS\n",
       "5 Log2FC      Log2FC of the guide                   \n",
       "6 Padj        Adjusted p value of the guide         \n",
       "7 Region      Location of the DHS                   \n",
       "8 Assay_Type  Assay type                            \n",
       "9 Assay_Label Assay label                           "
      ]
     },
     "metadata": {},
     "output_type": "display_data"
    }
   ],
   "source": [
    "dat_cnames = tribble(\n",
    "    ~Name, ~Description,\n",
    "    \"Chrom\",       \"Chromosome of DHS\",\n",
    "    \"Start\",       \"Start position of DHS\",\n",
    "    \"End\",         \"End   position of DHS\",\n",
    "    \"Name\",        \"ID of significant guide within the DHS\",\n",
    "    \"Log2FC\",      \"Log2FC of the guide\",\n",
    "    \"Padj\",        \"Adjusted p value of the guide\",\n",
    "    \"Region\",      \"Location of the DHS\",\n",
    "    \"Assay_Type\",  \"Assay type\",\n",
    "    \"Assay_Label\", \"Assay label\"\n",
    ")\n",
    "dat_cnames"
   ]
  },
  {
   "cell_type": "markdown",
   "metadata": {},
   "source": [
    "## Save results"
   ]
  },
  {
   "cell_type": "code",
   "execution_count": 9,
   "metadata": {},
   "outputs": [],
   "source": [
    "FD_OUT = file.path(FD_RES, \"results\", \"region\", \"annotation_crispri_growth\")"
   ]
  },
  {
   "cell_type": "code",
   "execution_count": 10,
   "metadata": {},
   "outputs": [],
   "source": [
    "fdiry = FD_OUT\n",
    "fname = \"description.tsv\"\n",
    "fpath = file.path(fdiry, fname)\n",
    "\n",
    "dat = dat_cnames\n",
    "write_tsv(dat, fpath)"
   ]
  },
  {
   "cell_type": "code",
   "execution_count": 11,
   "metadata": {},
   "outputs": [
    {
     "name": "stdout",
     "output_type": "stream",
     "text": [
      "[1] 1092166       9\n"
     ]
    },
    {
     "data": {
      "text/html": [
       "<table class=\"dataframe\">\n",
       "<caption>A tibble: 3 × 9</caption>\n",
       "<thead>\n",
       "\t<tr><th scope=col>chrom</th><th scope=col>start</th><th scope=col>end</th><th scope=col>name</th><th scope=col>log2FoldChange</th><th scope=col>padj</th><th scope=col>Region</th><th scope=col>Assay_Type</th><th scope=col>Assay_Label</th></tr>\n",
       "\t<tr><th scope=col>&lt;chr&gt;</th><th scope=col>&lt;dbl&gt;</th><th scope=col>&lt;dbl&gt;</th><th scope=col>&lt;chr&gt;</th><th scope=col>&lt;dbl&gt;</th><th scope=col>&lt;dbl&gt;</th><th scope=col>&lt;chr&gt;</th><th scope=col>&lt;chr&gt;</th><th scope=col>&lt;chr&gt;</th></tr>\n",
       "</thead>\n",
       "<tbody>\n",
       "\t<tr><td>chr1</td><td>605550</td><td>605627</td><td>chr1.1.1</td><td>-0.98593380</td><td>3.245787e-11</td><td>chr1:605550-605627</td><td>CRISPRi-Growth</td><td>CRISPRi-Growth</td></tr>\n",
       "\t<tr><td>chr1</td><td>605550</td><td>605627</td><td>chr1.1.2</td><td> 0.01755679</td><td>8.618381e-01</td><td>chr1:605550-605627</td><td>CRISPRi-Growth</td><td>CRISPRi-Growth</td></tr>\n",
       "\t<tr><td>chr1</td><td>605550</td><td>605627</td><td>chr1.1.3</td><td> 0.01422210</td><td>9.074943e-01</td><td>chr1:605550-605627</td><td>CRISPRi-Growth</td><td>CRISPRi-Growth</td></tr>\n",
       "</tbody>\n",
       "</table>\n"
      ],
      "text/latex": [
       "A tibble: 3 × 9\n",
       "\\begin{tabular}{lllllllll}\n",
       " chrom & start & end & name & log2FoldChange & padj & Region & Assay\\_Type & Assay\\_Label\\\\\n",
       " <chr> & <dbl> & <dbl> & <chr> & <dbl> & <dbl> & <chr> & <chr> & <chr>\\\\\n",
       "\\hline\n",
       "\t chr1 & 605550 & 605627 & chr1.1.1 & -0.98593380 & 3.245787e-11 & chr1:605550-605627 & CRISPRi-Growth & CRISPRi-Growth\\\\\n",
       "\t chr1 & 605550 & 605627 & chr1.1.2 &  0.01755679 & 8.618381e-01 & chr1:605550-605627 & CRISPRi-Growth & CRISPRi-Growth\\\\\n",
       "\t chr1 & 605550 & 605627 & chr1.1.3 &  0.01422210 & 9.074943e-01 & chr1:605550-605627 & CRISPRi-Growth & CRISPRi-Growth\\\\\n",
       "\\end{tabular}\n"
      ],
      "text/markdown": [
       "\n",
       "A tibble: 3 × 9\n",
       "\n",
       "| chrom &lt;chr&gt; | start &lt;dbl&gt; | end &lt;dbl&gt; | name &lt;chr&gt; | log2FoldChange &lt;dbl&gt; | padj &lt;dbl&gt; | Region &lt;chr&gt; | Assay_Type &lt;chr&gt; | Assay_Label &lt;chr&gt; |\n",
       "|---|---|---|---|---|---|---|---|---|\n",
       "| chr1 | 605550 | 605627 | chr1.1.1 | -0.98593380 | 3.245787e-11 | chr1:605550-605627 | CRISPRi-Growth | CRISPRi-Growth |\n",
       "| chr1 | 605550 | 605627 | chr1.1.2 |  0.01755679 | 8.618381e-01 | chr1:605550-605627 | CRISPRi-Growth | CRISPRi-Growth |\n",
       "| chr1 | 605550 | 605627 | chr1.1.3 |  0.01422210 | 9.074943e-01 | chr1:605550-605627 | CRISPRi-Growth | CRISPRi-Growth |\n",
       "\n"
      ],
      "text/plain": [
       "  chrom start  end    name     log2FoldChange padj         Region            \n",
       "1 chr1  605550 605627 chr1.1.1 -0.98593380    3.245787e-11 chr1:605550-605627\n",
       "2 chr1  605550 605627 chr1.1.2  0.01755679    8.618381e-01 chr1:605550-605627\n",
       "3 chr1  605550 605627 chr1.1.3  0.01422210    9.074943e-01 chr1:605550-605627\n",
       "  Assay_Type     Assay_Label   \n",
       "1 CRISPRi-Growth CRISPRi-Growth\n",
       "2 CRISPRi-Growth CRISPRi-Growth\n",
       "3 CRISPRi-Growth CRISPRi-Growth"
      ]
     },
     "metadata": {},
     "output_type": "display_data"
    }
   ],
   "source": [
    "fdiry = FD_OUT\n",
    "fname = \"crispri_growth.dhs.total.bed.gz\"\n",
    "fpath = file.path(fdiry, fname)\n",
    "\n",
    "lst = lst_dat_peak_crispri_growth_arrange\n",
    "dat = lst[['total']]\n",
    "write_tsv(dat, fpath, col_names = FALSE)\n",
    "\n",
    "print(dim(dat))\n",
    "head(dat, 3)"
   ]
  },
  {
   "cell_type": "code",
   "execution_count": 12,
   "metadata": {},
   "outputs": [
    {
     "name": "stdout",
     "output_type": "stream",
     "text": [
      "[1] 6242    9\n"
     ]
    },
    {
     "data": {
      "text/html": [
       "<table class=\"dataframe\">\n",
       "<caption>A tibble: 3 × 9</caption>\n",
       "<thead>\n",
       "\t<tr><th scope=col>chrom</th><th scope=col>start</th><th scope=col>end</th><th scope=col>name</th><th scope=col>log2FoldChange</th><th scope=col>padj</th><th scope=col>Region</th><th scope=col>Assay_Type</th><th scope=col>Assay_Label</th></tr>\n",
       "\t<tr><th scope=col>&lt;chr&gt;</th><th scope=col>&lt;dbl&gt;</th><th scope=col>&lt;dbl&gt;</th><th scope=col>&lt;chr&gt;</th><th scope=col>&lt;dbl&gt;</th><th scope=col>&lt;dbl&gt;</th><th scope=col>&lt;chr&gt;</th><th scope=col>&lt;chr&gt;</th><th scope=col>&lt;chr&gt;</th></tr>\n",
       "</thead>\n",
       "<tbody>\n",
       "\t<tr><td>chr1</td><td>605550</td><td>605627</td><td>chr1.1.1 </td><td>-0.9859338</td><td>3.245787e-11</td><td>chr1:605550-605627</td><td>CRISPRi-Growth</td><td>CRISPRi-Growth</td></tr>\n",
       "\t<tr><td>chr1</td><td>826642</td><td>827902</td><td>chr1.4.8 </td><td> 0.1855074</td><td>3.250512e-02</td><td>chr1:826642-827902</td><td>CRISPRi-Growth</td><td>CRISPRi-Growth</td></tr>\n",
       "\t<tr><td>chr1</td><td>964946</td><td>965136</td><td>chr1.41.7</td><td>-1.1466792</td><td>1.464654e-26</td><td>chr1:964946-965136</td><td>CRISPRi-Growth</td><td>CRISPRi-Growth</td></tr>\n",
       "</tbody>\n",
       "</table>\n"
      ],
      "text/latex": [
       "A tibble: 3 × 9\n",
       "\\begin{tabular}{lllllllll}\n",
       " chrom & start & end & name & log2FoldChange & padj & Region & Assay\\_Type & Assay\\_Label\\\\\n",
       " <chr> & <dbl> & <dbl> & <chr> & <dbl> & <dbl> & <chr> & <chr> & <chr>\\\\\n",
       "\\hline\n",
       "\t chr1 & 605550 & 605627 & chr1.1.1  & -0.9859338 & 3.245787e-11 & chr1:605550-605627 & CRISPRi-Growth & CRISPRi-Growth\\\\\n",
       "\t chr1 & 826642 & 827902 & chr1.4.8  &  0.1855074 & 3.250512e-02 & chr1:826642-827902 & CRISPRi-Growth & CRISPRi-Growth\\\\\n",
       "\t chr1 & 964946 & 965136 & chr1.41.7 & -1.1466792 & 1.464654e-26 & chr1:964946-965136 & CRISPRi-Growth & CRISPRi-Growth\\\\\n",
       "\\end{tabular}\n"
      ],
      "text/markdown": [
       "\n",
       "A tibble: 3 × 9\n",
       "\n",
       "| chrom &lt;chr&gt; | start &lt;dbl&gt; | end &lt;dbl&gt; | name &lt;chr&gt; | log2FoldChange &lt;dbl&gt; | padj &lt;dbl&gt; | Region &lt;chr&gt; | Assay_Type &lt;chr&gt; | Assay_Label &lt;chr&gt; |\n",
       "|---|---|---|---|---|---|---|---|---|\n",
       "| chr1 | 605550 | 605627 | chr1.1.1  | -0.9859338 | 3.245787e-11 | chr1:605550-605627 | CRISPRi-Growth | CRISPRi-Growth |\n",
       "| chr1 | 826642 | 827902 | chr1.4.8  |  0.1855074 | 3.250512e-02 | chr1:826642-827902 | CRISPRi-Growth | CRISPRi-Growth |\n",
       "| chr1 | 964946 | 965136 | chr1.41.7 | -1.1466792 | 1.464654e-26 | chr1:964946-965136 | CRISPRi-Growth | CRISPRi-Growth |\n",
       "\n"
      ],
      "text/plain": [
       "  chrom start  end    name      log2FoldChange padj         Region            \n",
       "1 chr1  605550 605627 chr1.1.1  -0.9859338     3.245787e-11 chr1:605550-605627\n",
       "2 chr1  826642 827902 chr1.4.8   0.1855074     3.250512e-02 chr1:826642-827902\n",
       "3 chr1  964946 965136 chr1.41.7 -1.1466792     1.464654e-26 chr1:964946-965136\n",
       "  Assay_Type     Assay_Label   \n",
       "1 CRISPRi-Growth CRISPRi-Growth\n",
       "2 CRISPRi-Growth CRISPRi-Growth\n",
       "3 CRISPRi-Growth CRISPRi-Growth"
      ]
     },
     "metadata": {},
     "output_type": "display_data"
    }
   ],
   "source": [
    "fdiry = FD_OUT\n",
    "fname = \"crispri_growth.dhs.active.bed.gz\"\n",
    "fpath = file.path(fdiry, fname)\n",
    "\n",
    "lst = lst_dat_peak_crispri_growth_arrange\n",
    "dat = lst[['active']]\n",
    "write_tsv(dat, fpath, col_names = FALSE)\n",
    "\n",
    "print(dim(dat))\n",
    "head(dat, 3)"
   ]
  },
  {
   "cell_type": "code",
   "execution_count": null,
   "metadata": {},
   "outputs": [],
   "source": []
  }
 ],
 "metadata": {
  "kernelspec": {
   "display_name": "R",
   "language": "R",
   "name": "ir"
  },
  "language_info": {
   "codemirror_mode": "r",
   "file_extension": ".r",
   "mimetype": "text/x-r-source",
   "name": "R",
   "pygments_lexer": "r",
   "version": "4.3.1"
  }
 },
 "nbformat": 4,
 "nbformat_minor": 4
}
