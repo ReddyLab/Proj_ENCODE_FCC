{
 "cells": [
  {
   "cell_type": "markdown",
   "metadata": {},
   "source": [
    "**Set environment**"
   ]
  },
  {
   "cell_type": "code",
   "execution_count": 14,
   "metadata": {},
   "outputs": [
    {
     "name": "stdout",
     "output_type": "stream",
     "text": [
      "You are in Singularity: singularity_proj_encode_fcc \n",
      "BASE DIRECTORY (FD_BASE): /data/reddylab/Kuei \n",
      "WORK DIRECTORY (FD_WORK): /data/reddylab/Kuei/out \n",
      "CODE DIRECTORY (FD_CODE): /data/reddylab/Kuei/code \n",
      "PATH OF PROJECT (FD_PRJ): /data/reddylab/Kuei/code/Proj_CombEffect_ENCODE_FCC \n",
      "PATH OF RESULTS (FD_RES): /data/reddylab/Kuei/out/proj_combeffect_encode_fcc \n",
      "PATH OF LOG     (FD_LOG): /data/reddylab/Kuei/out/proj_combeffect_encode_fcc/log \n"
     ]
    }
   ],
   "source": [
    "suppressWarnings(suppressMessages(source(\"../config/config_sing.R\")))\n",
    "suppressWarnings(suppressMessages(library(\"GenomicRanges\")))\n",
    "show_env()"
   ]
  },
  {
   "cell_type": "markdown",
   "metadata": {},
   "source": [
    "**Check data**"
   ]
  },
  {
   "cell_type": "code",
   "execution_count": 2,
   "metadata": {},
   "outputs": [
    {
     "name": "stdout",
     "output_type": "stream",
     "text": [
      "[1] \"2023_resubmission\"\n",
      "[1] \"k562-gw-v3-all.sorted.counts.results.hg38.txt.gz\"\n",
      "[1] \"k562-gw-v3-all.sorted.counts.results.top_guide_fdr_0_05.hg38.bed.gz\"\n"
     ]
    }
   ],
   "source": [
    "fdiry = file.path(FD_RES, \"source\", \"CRISPRi_growth\")\n",
    "for (idx in dir(fdiry)) {print(idx)}"
   ]
  },
  {
   "cell_type": "markdown",
   "metadata": {},
   "source": [
    "## Import data"
   ]
  },
  {
   "cell_type": "markdown",
   "metadata": {},
   "source": [
    "**Import total guides & DHS**"
   ]
  },
  {
   "cell_type": "code",
   "execution_count": 3,
   "metadata": {},
   "outputs": [
    {
     "name": "stderr",
     "output_type": "stream",
     "text": [
      "\u001b[1m\u001b[22mNew names:\n",
      "\u001b[36m•\u001b[39m `` -> `...1`\n"
     ]
    },
    {
     "name": "stdout",
     "output_type": "stream",
     "text": [
      "[1] 1092166      22\n"
     ]
    },
    {
     "data": {
      "text/html": [
       "<table class=\"dataframe\">\n",
       "<caption>A tibble: 6 × 22</caption>\n",
       "<thead>\n",
       "\t<tr><th scope=col>RowID</th><th scope=col>baseMean</th><th scope=col>log2FoldChange</th><th scope=col>lfcSE</th><th scope=col>stat</th><th scope=col>pvalue</th><th scope=col>padj</th><th scope=col>weight</th><th scope=col>name</th><th scope=col>dhs_chrom</th><th scope=col>⋯</th><th scope=col>ID</th><th scope=col>chrPerturbationTarget</th><th scope=col>startPerturbationTarget</th><th scope=col>endPerturbationTarget</th><th scope=col>chrom</th><th scope=col>start</th><th scope=col>end</th><th scope=col>dhs_id</th><th scope=col>score</th><th scope=col>strand</th></tr>\n",
       "\t<tr><th scope=col>&lt;dbl&gt;</th><th scope=col>&lt;dbl&gt;</th><th scope=col>&lt;dbl&gt;</th><th scope=col>&lt;dbl&gt;</th><th scope=col>&lt;dbl&gt;</th><th scope=col>&lt;dbl&gt;</th><th scope=col>&lt;dbl&gt;</th><th scope=col>&lt;dbl&gt;</th><th scope=col>&lt;chr&gt;</th><th scope=col>&lt;chr&gt;</th><th scope=col>⋯</th><th scope=col>&lt;chr&gt;</th><th scope=col>&lt;chr&gt;</th><th scope=col>&lt;dbl&gt;</th><th scope=col>&lt;dbl&gt;</th><th scope=col>&lt;chr&gt;</th><th scope=col>&lt;dbl&gt;</th><th scope=col>&lt;dbl&gt;</th><th scope=col>&lt;chr&gt;</th><th scope=col>&lt;dbl&gt;</th><th scope=col>&lt;chr&gt;</th></tr>\n",
       "</thead>\n",
       "<tbody>\n",
       "\t<tr><td>0</td><td> 669.8027</td><td>-0.98593380</td><td>0.13527811</td><td>-7.5156478</td><td>5.662983e-14</td><td>3.245787e-11</td><td>1.0189024</td><td>chr1.1.1</td><td>chr1</td><td>⋯</td><td>chr1.1</td><td>chr1</td><td>540951</td><td>540970</td><td>chr1</td><td>605550</td><td>605627</td><td>chr1.1</td><td>521</td><td>.</td></tr>\n",
       "\t<tr><td>1</td><td>1210.5948</td><td> 0.01755679</td><td>0.11259581</td><td> 0.9724725</td><td>3.308155e-01</td><td>8.618381e-01</td><td>1.3894218</td><td>chr1.1.2</td><td>chr1</td><td>⋯</td><td>chr1.1</td><td>chr1</td><td>540971</td><td>540990</td><td>chr1</td><td>605550</td><td>605627</td><td>chr1.1</td><td>521</td><td>.</td></tr>\n",
       "\t<tr><td>2</td><td>2065.7482</td><td> 0.01422210</td><td>0.07694619</td><td> 0.7948325</td><td>4.267110e-01</td><td>9.074943e-01</td><td>1.2206106</td><td>chr1.1.3</td><td>chr1</td><td>⋯</td><td>chr1.1</td><td>chr1</td><td>540963</td><td>540982</td><td>chr1</td><td>605550</td><td>605627</td><td>chr1.1</td><td>521</td><td>.</td></tr>\n",
       "\t<tr><td>3</td><td> 670.0537</td><td> 0.01843545</td><td>0.12623486</td><td> 1.0421596</td><td>2.973377e-01</td><td>8.864450e-01</td><td>1.0189024</td><td>chr1.1.4</td><td>chr1</td><td>⋯</td><td>chr1.1</td><td>chr1</td><td>540953</td><td>540972</td><td>chr1</td><td>605550</td><td>605627</td><td>chr1.1</td><td>521</td><td>.</td></tr>\n",
       "\t<tr><td>4</td><td>1023.9170</td><td> 0.01126530</td><td>0.10178712</td><td> 0.6436207</td><td>5.198214e-01</td><td>9.145863e-01</td><td>1.3894218</td><td>chr1.1.5</td><td>chr1</td><td>⋯</td><td>chr1.1</td><td>chr1</td><td>540954</td><td>540973</td><td>chr1</td><td>605550</td><td>605627</td><td>chr1.1</td><td>521</td><td>.</td></tr>\n",
       "\t<tr><td>5</td><td> 605.4137</td><td> 0.03242606</td><td>0.14597771</td><td> 1.6813118</td><td>9.270237e-02</td><td>7.390114e-01</td><td>0.9584715</td><td>chr1.1.6</td><td>chr1</td><td>⋯</td><td>chr1.1</td><td>chr1</td><td>540979</td><td>540998</td><td>chr1</td><td>605550</td><td>605627</td><td>chr1.1</td><td>521</td><td>.</td></tr>\n",
       "</tbody>\n",
       "</table>\n"
      ],
      "text/latex": [
       "A tibble: 6 × 22\n",
       "\\begin{tabular}{lllllllllllllllllllll}\n",
       " RowID & baseMean & log2FoldChange & lfcSE & stat & pvalue & padj & weight & name & dhs\\_chrom & ⋯ & ID & chrPerturbationTarget & startPerturbationTarget & endPerturbationTarget & chrom & start & end & dhs\\_id & score & strand\\\\\n",
       " <dbl> & <dbl> & <dbl> & <dbl> & <dbl> & <dbl> & <dbl> & <dbl> & <chr> & <chr> & ⋯ & <chr> & <chr> & <dbl> & <dbl> & <chr> & <dbl> & <dbl> & <chr> & <dbl> & <chr>\\\\\n",
       "\\hline\n",
       "\t 0 &  669.8027 & -0.98593380 & 0.13527811 & -7.5156478 & 5.662983e-14 & 3.245787e-11 & 1.0189024 & chr1.1.1 & chr1 & ⋯ & chr1.1 & chr1 & 540951 & 540970 & chr1 & 605550 & 605627 & chr1.1 & 521 & .\\\\\n",
       "\t 1 & 1210.5948 &  0.01755679 & 0.11259581 &  0.9724725 & 3.308155e-01 & 8.618381e-01 & 1.3894218 & chr1.1.2 & chr1 & ⋯ & chr1.1 & chr1 & 540971 & 540990 & chr1 & 605550 & 605627 & chr1.1 & 521 & .\\\\\n",
       "\t 2 & 2065.7482 &  0.01422210 & 0.07694619 &  0.7948325 & 4.267110e-01 & 9.074943e-01 & 1.2206106 & chr1.1.3 & chr1 & ⋯ & chr1.1 & chr1 & 540963 & 540982 & chr1 & 605550 & 605627 & chr1.1 & 521 & .\\\\\n",
       "\t 3 &  670.0537 &  0.01843545 & 0.12623486 &  1.0421596 & 2.973377e-01 & 8.864450e-01 & 1.0189024 & chr1.1.4 & chr1 & ⋯ & chr1.1 & chr1 & 540953 & 540972 & chr1 & 605550 & 605627 & chr1.1 & 521 & .\\\\\n",
       "\t 4 & 1023.9170 &  0.01126530 & 0.10178712 &  0.6436207 & 5.198214e-01 & 9.145863e-01 & 1.3894218 & chr1.1.5 & chr1 & ⋯ & chr1.1 & chr1 & 540954 & 540973 & chr1 & 605550 & 605627 & chr1.1 & 521 & .\\\\\n",
       "\t 5 &  605.4137 &  0.03242606 & 0.14597771 &  1.6813118 & 9.270237e-02 & 7.390114e-01 & 0.9584715 & chr1.1.6 & chr1 & ⋯ & chr1.1 & chr1 & 540979 & 540998 & chr1 & 605550 & 605627 & chr1.1 & 521 & .\\\\\n",
       "\\end{tabular}\n"
      ],
      "text/markdown": [
       "\n",
       "A tibble: 6 × 22\n",
       "\n",
       "| RowID &lt;dbl&gt; | baseMean &lt;dbl&gt; | log2FoldChange &lt;dbl&gt; | lfcSE &lt;dbl&gt; | stat &lt;dbl&gt; | pvalue &lt;dbl&gt; | padj &lt;dbl&gt; | weight &lt;dbl&gt; | name &lt;chr&gt; | dhs_chrom &lt;chr&gt; | ⋯ ⋯ | ID &lt;chr&gt; | chrPerturbationTarget &lt;chr&gt; | startPerturbationTarget &lt;dbl&gt; | endPerturbationTarget &lt;dbl&gt; | chrom &lt;chr&gt; | start &lt;dbl&gt; | end &lt;dbl&gt; | dhs_id &lt;chr&gt; | score &lt;dbl&gt; | strand &lt;chr&gt; |\n",
       "|---|---|---|---|---|---|---|---|---|---|---|---|---|---|---|---|---|---|---|---|---|\n",
       "| 0 |  669.8027 | -0.98593380 | 0.13527811 | -7.5156478 | 5.662983e-14 | 3.245787e-11 | 1.0189024 | chr1.1.1 | chr1 | ⋯ | chr1.1 | chr1 | 540951 | 540970 | chr1 | 605550 | 605627 | chr1.1 | 521 | . |\n",
       "| 1 | 1210.5948 |  0.01755679 | 0.11259581 |  0.9724725 | 3.308155e-01 | 8.618381e-01 | 1.3894218 | chr1.1.2 | chr1 | ⋯ | chr1.1 | chr1 | 540971 | 540990 | chr1 | 605550 | 605627 | chr1.1 | 521 | . |\n",
       "| 2 | 2065.7482 |  0.01422210 | 0.07694619 |  0.7948325 | 4.267110e-01 | 9.074943e-01 | 1.2206106 | chr1.1.3 | chr1 | ⋯ | chr1.1 | chr1 | 540963 | 540982 | chr1 | 605550 | 605627 | chr1.1 | 521 | . |\n",
       "| 3 |  670.0537 |  0.01843545 | 0.12623486 |  1.0421596 | 2.973377e-01 | 8.864450e-01 | 1.0189024 | chr1.1.4 | chr1 | ⋯ | chr1.1 | chr1 | 540953 | 540972 | chr1 | 605550 | 605627 | chr1.1 | 521 | . |\n",
       "| 4 | 1023.9170 |  0.01126530 | 0.10178712 |  0.6436207 | 5.198214e-01 | 9.145863e-01 | 1.3894218 | chr1.1.5 | chr1 | ⋯ | chr1.1 | chr1 | 540954 | 540973 | chr1 | 605550 | 605627 | chr1.1 | 521 | . |\n",
       "| 5 |  605.4137 |  0.03242606 | 0.14597771 |  1.6813118 | 9.270237e-02 | 7.390114e-01 | 0.9584715 | chr1.1.6 | chr1 | ⋯ | chr1.1 | chr1 | 540979 | 540998 | chr1 | 605550 | 605627 | chr1.1 | 521 | . |\n",
       "\n"
      ],
      "text/plain": [
       "  RowID baseMean  log2FoldChange lfcSE      stat       pvalue      \n",
       "1 0      669.8027 -0.98593380    0.13527811 -7.5156478 5.662983e-14\n",
       "2 1     1210.5948  0.01755679    0.11259581  0.9724725 3.308155e-01\n",
       "3 2     2065.7482  0.01422210    0.07694619  0.7948325 4.267110e-01\n",
       "4 3      670.0537  0.01843545    0.12623486  1.0421596 2.973377e-01\n",
       "5 4     1023.9170  0.01126530    0.10178712  0.6436207 5.198214e-01\n",
       "6 5      605.4137  0.03242606    0.14597771  1.6813118 9.270237e-02\n",
       "  padj         weight    name     dhs_chrom ⋯ ID     chrPerturbationTarget\n",
       "1 3.245787e-11 1.0189024 chr1.1.1 chr1      ⋯ chr1.1 chr1                 \n",
       "2 8.618381e-01 1.3894218 chr1.1.2 chr1      ⋯ chr1.1 chr1                 \n",
       "3 9.074943e-01 1.2206106 chr1.1.3 chr1      ⋯ chr1.1 chr1                 \n",
       "4 8.864450e-01 1.0189024 chr1.1.4 chr1      ⋯ chr1.1 chr1                 \n",
       "5 9.145863e-01 1.3894218 chr1.1.5 chr1      ⋯ chr1.1 chr1                 \n",
       "6 7.390114e-01 0.9584715 chr1.1.6 chr1      ⋯ chr1.1 chr1                 \n",
       "  startPerturbationTarget endPerturbationTarget chrom start  end    dhs_id\n",
       "1 540951                  540970                chr1  605550 605627 chr1.1\n",
       "2 540971                  540990                chr1  605550 605627 chr1.1\n",
       "3 540963                  540982                chr1  605550 605627 chr1.1\n",
       "4 540953                  540972                chr1  605550 605627 chr1.1\n",
       "5 540954                  540973                chr1  605550 605627 chr1.1\n",
       "6 540979                  540998                chr1  605550 605627 chr1.1\n",
       "  score strand\n",
       "1 521   .     \n",
       "2 521   .     \n",
       "3 521   .     \n",
       "4 521   .     \n",
       "5 521   .     \n",
       "6 521   .     "
      ]
     },
     "metadata": {},
     "output_type": "display_data"
    }
   ],
   "source": [
    "fdiry = file.path(FD_RES, \"source\", \"CRISPRi_growth\")\n",
    "fname = \"k562-gw-v3-all.sorted.counts.results.hg38.txt.gz\"\n",
    "fpath = file.path(fdiry, fname)\n",
    "\n",
    "dat = read_tsv(fpath, show_col_types = FALSE)\n",
    "colnames(dat)[1] = \"RowID\"\n",
    "\n",
    "dat_peak_crispri_growth_total = dat\n",
    "print(dim(dat))\n",
    "head(dat)"
   ]
  },
  {
   "cell_type": "markdown",
   "metadata": {},
   "source": [
    "**Import significant guides**"
   ]
  },
  {
   "cell_type": "code",
   "execution_count": 4,
   "metadata": {},
   "outputs": [
    {
     "name": "stderr",
     "output_type": "stream",
     "text": [
      "\u001b[1m\u001b[22mNew names:\n",
      "\u001b[36m•\u001b[39m `` -> `...1`\n"
     ]
    },
    {
     "name": "stdout",
     "output_type": "stream",
     "text": [
      "[1] 6242    7\n"
     ]
    },
    {
     "data": {
      "text/html": [
       "<table class=\"dataframe\">\n",
       "<caption>A tibble: 6 × 7</caption>\n",
       "<thead>\n",
       "\t<tr><th scope=col>RowID</th><th scope=col>chrom</th><th scope=col>start</th><th scope=col>end</th><th scope=col>name</th><th scope=col>log2FoldChange</th><th scope=col>padj</th></tr>\n",
       "\t<tr><th scope=col>&lt;dbl&gt;</th><th scope=col>&lt;chr&gt;</th><th scope=col>&lt;dbl&gt;</th><th scope=col>&lt;dbl&gt;</th><th scope=col>&lt;chr&gt;</th><th scope=col>&lt;dbl&gt;</th><th scope=col>&lt;dbl&gt;</th></tr>\n",
       "</thead>\n",
       "<tbody>\n",
       "\t<tr><td>504606</td><td>chr19</td><td>11155578</td><td>11156290</td><td>chr19.1899.3</td><td>-2.549922</td><td>3.771775e-123</td></tr>\n",
       "\t<tr><td>686888</td><td>chr22</td><td>30356286</td><td>30357525</td><td>chr22.1285.6</td><td>-3.059909</td><td>9.819760e-120</td></tr>\n",
       "\t<tr><td>868222</td><td>chr6 </td><td>34530428</td><td>34530534</td><td>chr6.2172.8 </td><td>-3.100194</td><td>1.232839e-117</td></tr>\n",
       "\t<tr><td> 50002</td><td>chr1 </td><td>20685850</td><td>20686283</td><td>chr1.2930.10</td><td>-2.862158</td><td>9.548565e-109</td></tr>\n",
       "\t<tr><td>811835</td><td>chr5 </td><td>70924811</td><td>70925615</td><td>chr5.1649.1 </td><td>-2.927110</td><td>4.298640e-107</td></tr>\n",
       "\t<tr><td>811815</td><td>chr5 </td><td>70049360</td><td>70050252</td><td>chr5.1647.1 </td><td>-2.927110</td><td>4.298640e-107</td></tr>\n",
       "</tbody>\n",
       "</table>\n"
      ],
      "text/latex": [
       "A tibble: 6 × 7\n",
       "\\begin{tabular}{lllllll}\n",
       " RowID & chrom & start & end & name & log2FoldChange & padj\\\\\n",
       " <dbl> & <chr> & <dbl> & <dbl> & <chr> & <dbl> & <dbl>\\\\\n",
       "\\hline\n",
       "\t 504606 & chr19 & 11155578 & 11156290 & chr19.1899.3 & -2.549922 & 3.771775e-123\\\\\n",
       "\t 686888 & chr22 & 30356286 & 30357525 & chr22.1285.6 & -3.059909 & 9.819760e-120\\\\\n",
       "\t 868222 & chr6  & 34530428 & 34530534 & chr6.2172.8  & -3.100194 & 1.232839e-117\\\\\n",
       "\t  50002 & chr1  & 20685850 & 20686283 & chr1.2930.10 & -2.862158 & 9.548565e-109\\\\\n",
       "\t 811835 & chr5  & 70924811 & 70925615 & chr5.1649.1  & -2.927110 & 4.298640e-107\\\\\n",
       "\t 811815 & chr5  & 70049360 & 70050252 & chr5.1647.1  & -2.927110 & 4.298640e-107\\\\\n",
       "\\end{tabular}\n"
      ],
      "text/markdown": [
       "\n",
       "A tibble: 6 × 7\n",
       "\n",
       "| RowID &lt;dbl&gt; | chrom &lt;chr&gt; | start &lt;dbl&gt; | end &lt;dbl&gt; | name &lt;chr&gt; | log2FoldChange &lt;dbl&gt; | padj &lt;dbl&gt; |\n",
       "|---|---|---|---|---|---|---|\n",
       "| 504606 | chr19 | 11155578 | 11156290 | chr19.1899.3 | -2.549922 | 3.771775e-123 |\n",
       "| 686888 | chr22 | 30356286 | 30357525 | chr22.1285.6 | -3.059909 | 9.819760e-120 |\n",
       "| 868222 | chr6  | 34530428 | 34530534 | chr6.2172.8  | -3.100194 | 1.232839e-117 |\n",
       "|  50002 | chr1  | 20685850 | 20686283 | chr1.2930.10 | -2.862158 | 9.548565e-109 |\n",
       "| 811835 | chr5  | 70924811 | 70925615 | chr5.1649.1  | -2.927110 | 4.298640e-107 |\n",
       "| 811815 | chr5  | 70049360 | 70050252 | chr5.1647.1  | -2.927110 | 4.298640e-107 |\n",
       "\n"
      ],
      "text/plain": [
       "  RowID  chrom start    end      name         log2FoldChange padj         \n",
       "1 504606 chr19 11155578 11156290 chr19.1899.3 -2.549922      3.771775e-123\n",
       "2 686888 chr22 30356286 30357525 chr22.1285.6 -3.059909      9.819760e-120\n",
       "3 868222 chr6  34530428 34530534 chr6.2172.8  -3.100194      1.232839e-117\n",
       "4  50002 chr1  20685850 20686283 chr1.2930.10 -2.862158      9.548565e-109\n",
       "5 811835 chr5  70924811 70925615 chr5.1649.1  -2.927110      4.298640e-107\n",
       "6 811815 chr5  70049360 70050252 chr5.1647.1  -2.927110      4.298640e-107"
      ]
     },
     "metadata": {},
     "output_type": "display_data"
    }
   ],
   "source": [
    "fdiry = file.path(FD_RES, \"source\", \"CRISPRi_growth\")\n",
    "fname = \"k562-gw-v3-all.sorted.counts.results.top_guide_fdr_0_05.hg38.bed.gz\"\n",
    "fpath = file.path(fdiry, fname)\n",
    "\n",
    "dat = read_csv(fpath, show_col_types = FALSE)\n",
    "colnames(dat)[1] = \"RowID\"\n",
    "\n",
    "dat_peak_crispri_growth_fdr = dat\n",
    "print(dim(dat))\n",
    "head(dat)"
   ]
  },
  {
   "cell_type": "markdown",
   "metadata": {},
   "source": [
    "## Understand the column"
   ]
  },
  {
   "cell_type": "markdown",
   "metadata": {},
   "source": [
    "My understanding\n",
    "```\n",
    "dhs_chrom, dhs_start, dhs_end => hg19\n",
    "chrom, start\n",
    "```"
   ]
  },
  {
   "cell_type": "code",
   "execution_count": 5,
   "metadata": {},
   "outputs": [
    {
     "data": {
      "text/html": [
       "<style>\n",
       ".list-inline {list-style: none; margin:0; padding: 0}\n",
       ".list-inline>li {display: inline-block}\n",
       ".list-inline>li:not(:last-child)::after {content: \"\\00b7\"; padding: 0 .5ex}\n",
       "</style>\n",
       "<ol class=list-inline><li>'RowID'</li><li>'baseMean'</li><li>'log2FoldChange'</li><li>'lfcSE'</li><li>'stat'</li><li>'pvalue'</li><li>'padj'</li><li>'weight'</li><li>'name'</li><li>'dhs_chrom'</li><li>'dhs_start'</li><li>'dhs_end'</li><li>'ID'</li><li>'chrPerturbationTarget'</li><li>'startPerturbationTarget'</li><li>'endPerturbationTarget'</li><li>'chrom'</li><li>'start'</li><li>'end'</li><li>'dhs_id'</li><li>'score'</li><li>'strand'</li></ol>\n"
      ],
      "text/latex": [
       "\\begin{enumerate*}\n",
       "\\item 'RowID'\n",
       "\\item 'baseMean'\n",
       "\\item 'log2FoldChange'\n",
       "\\item 'lfcSE'\n",
       "\\item 'stat'\n",
       "\\item 'pvalue'\n",
       "\\item 'padj'\n",
       "\\item 'weight'\n",
       "\\item 'name'\n",
       "\\item 'dhs\\_chrom'\n",
       "\\item 'dhs\\_start'\n",
       "\\item 'dhs\\_end'\n",
       "\\item 'ID'\n",
       "\\item 'chrPerturbationTarget'\n",
       "\\item 'startPerturbationTarget'\n",
       "\\item 'endPerturbationTarget'\n",
       "\\item 'chrom'\n",
       "\\item 'start'\n",
       "\\item 'end'\n",
       "\\item 'dhs\\_id'\n",
       "\\item 'score'\n",
       "\\item 'strand'\n",
       "\\end{enumerate*}\n"
      ],
      "text/markdown": [
       "1. 'RowID'\n",
       "2. 'baseMean'\n",
       "3. 'log2FoldChange'\n",
       "4. 'lfcSE'\n",
       "5. 'stat'\n",
       "6. 'pvalue'\n",
       "7. 'padj'\n",
       "8. 'weight'\n",
       "9. 'name'\n",
       "10. 'dhs_chrom'\n",
       "11. 'dhs_start'\n",
       "12. 'dhs_end'\n",
       "13. 'ID'\n",
       "14. 'chrPerturbationTarget'\n",
       "15. 'startPerturbationTarget'\n",
       "16. 'endPerturbationTarget'\n",
       "17. 'chrom'\n",
       "18. 'start'\n",
       "19. 'end'\n",
       "20. 'dhs_id'\n",
       "21. 'score'\n",
       "22. 'strand'\n",
       "\n",
       "\n"
      ],
      "text/plain": [
       " [1] \"RowID\"                   \"baseMean\"               \n",
       " [3] \"log2FoldChange\"          \"lfcSE\"                  \n",
       " [5] \"stat\"                    \"pvalue\"                 \n",
       " [7] \"padj\"                    \"weight\"                 \n",
       " [9] \"name\"                    \"dhs_chrom\"              \n",
       "[11] \"dhs_start\"               \"dhs_end\"                \n",
       "[13] \"ID\"                      \"chrPerturbationTarget\"  \n",
       "[15] \"startPerturbationTarget\" \"endPerturbationTarget\"  \n",
       "[17] \"chrom\"                   \"start\"                  \n",
       "[19] \"end\"                     \"dhs_id\"                 \n",
       "[21] \"score\"                   \"strand\"                 "
      ]
     },
     "metadata": {},
     "output_type": "display_data"
    }
   ],
   "source": [
    "dat = dat_peak_crispri_growth_total\n",
    "colnames(dat)"
   ]
  },
  {
   "cell_type": "code",
   "execution_count": 6,
   "metadata": {},
   "outputs": [
    {
     "name": "stdout",
     "output_type": "stream",
     "text": [
      "[1] 1092166      22\n",
      "[1] 1070790      11\n"
     ]
    },
    {
     "data": {
      "text/html": [
       "<table class=\"dataframe\">\n",
       "<caption>A tibble: 6 × 11</caption>\n",
       "<thead>\n",
       "\t<tr><th scope=col>chrom</th><th scope=col>start</th><th scope=col>end</th><th scope=col>dhs_chrom</th><th scope=col>dhs_start</th><th scope=col>dhs_end</th><th scope=col>dhs_id</th><th scope=col>ID</th><th scope=col>chrPerturbationTarget</th><th scope=col>startPerturbationTarget</th><th scope=col>endPerturbationTarget</th></tr>\n",
       "\t<tr><th scope=col>&lt;chr&gt;</th><th scope=col>&lt;dbl&gt;</th><th scope=col>&lt;dbl&gt;</th><th scope=col>&lt;chr&gt;</th><th scope=col>&lt;dbl&gt;</th><th scope=col>&lt;dbl&gt;</th><th scope=col>&lt;chr&gt;</th><th scope=col>&lt;chr&gt;</th><th scope=col>&lt;chr&gt;</th><th scope=col>&lt;dbl&gt;</th><th scope=col>&lt;dbl&gt;</th></tr>\n",
       "</thead>\n",
       "<tbody>\n",
       "\t<tr><td>chr1</td><td>605550</td><td>605627</td><td>chr1</td><td>540930</td><td>541007</td><td>chr1.1</td><td>chr1.1</td><td>chr1</td><td>540951</td><td>540970</td></tr>\n",
       "\t<tr><td>chr1</td><td>605550</td><td>605627</td><td>chr1</td><td>540930</td><td>541007</td><td>chr1.1</td><td>chr1.1</td><td>chr1</td><td>540971</td><td>540990</td></tr>\n",
       "\t<tr><td>chr1</td><td>605550</td><td>605627</td><td>chr1</td><td>540930</td><td>541007</td><td>chr1.1</td><td>chr1.1</td><td>chr1</td><td>540963</td><td>540982</td></tr>\n",
       "\t<tr><td>chr1</td><td>605550</td><td>605627</td><td>chr1</td><td>540930</td><td>541007</td><td>chr1.1</td><td>chr1.1</td><td>chr1</td><td>540953</td><td>540972</td></tr>\n",
       "\t<tr><td>chr1</td><td>605550</td><td>605627</td><td>chr1</td><td>540930</td><td>541007</td><td>chr1.1</td><td>chr1.1</td><td>chr1</td><td>540954</td><td>540973</td></tr>\n",
       "\t<tr><td>chr1</td><td>605550</td><td>605627</td><td>chr1</td><td>540930</td><td>541007</td><td>chr1.1</td><td>chr1.1</td><td>chr1</td><td>540979</td><td>540998</td></tr>\n",
       "</tbody>\n",
       "</table>\n"
      ],
      "text/latex": [
       "A tibble: 6 × 11\n",
       "\\begin{tabular}{lllllllllll}\n",
       " chrom & start & end & dhs\\_chrom & dhs\\_start & dhs\\_end & dhs\\_id & ID & chrPerturbationTarget & startPerturbationTarget & endPerturbationTarget\\\\\n",
       " <chr> & <dbl> & <dbl> & <chr> & <dbl> & <dbl> & <chr> & <chr> & <chr> & <dbl> & <dbl>\\\\\n",
       "\\hline\n",
       "\t chr1 & 605550 & 605627 & chr1 & 540930 & 541007 & chr1.1 & chr1.1 & chr1 & 540951 & 540970\\\\\n",
       "\t chr1 & 605550 & 605627 & chr1 & 540930 & 541007 & chr1.1 & chr1.1 & chr1 & 540971 & 540990\\\\\n",
       "\t chr1 & 605550 & 605627 & chr1 & 540930 & 541007 & chr1.1 & chr1.1 & chr1 & 540963 & 540982\\\\\n",
       "\t chr1 & 605550 & 605627 & chr1 & 540930 & 541007 & chr1.1 & chr1.1 & chr1 & 540953 & 540972\\\\\n",
       "\t chr1 & 605550 & 605627 & chr1 & 540930 & 541007 & chr1.1 & chr1.1 & chr1 & 540954 & 540973\\\\\n",
       "\t chr1 & 605550 & 605627 & chr1 & 540930 & 541007 & chr1.1 & chr1.1 & chr1 & 540979 & 540998\\\\\n",
       "\\end{tabular}\n"
      ],
      "text/markdown": [
       "\n",
       "A tibble: 6 × 11\n",
       "\n",
       "| chrom &lt;chr&gt; | start &lt;dbl&gt; | end &lt;dbl&gt; | dhs_chrom &lt;chr&gt; | dhs_start &lt;dbl&gt; | dhs_end &lt;dbl&gt; | dhs_id &lt;chr&gt; | ID &lt;chr&gt; | chrPerturbationTarget &lt;chr&gt; | startPerturbationTarget &lt;dbl&gt; | endPerturbationTarget &lt;dbl&gt; |\n",
       "|---|---|---|---|---|---|---|---|---|---|---|\n",
       "| chr1 | 605550 | 605627 | chr1 | 540930 | 541007 | chr1.1 | chr1.1 | chr1 | 540951 | 540970 |\n",
       "| chr1 | 605550 | 605627 | chr1 | 540930 | 541007 | chr1.1 | chr1.1 | chr1 | 540971 | 540990 |\n",
       "| chr1 | 605550 | 605627 | chr1 | 540930 | 541007 | chr1.1 | chr1.1 | chr1 | 540963 | 540982 |\n",
       "| chr1 | 605550 | 605627 | chr1 | 540930 | 541007 | chr1.1 | chr1.1 | chr1 | 540953 | 540972 |\n",
       "| chr1 | 605550 | 605627 | chr1 | 540930 | 541007 | chr1.1 | chr1.1 | chr1 | 540954 | 540973 |\n",
       "| chr1 | 605550 | 605627 | chr1 | 540930 | 541007 | chr1.1 | chr1.1 | chr1 | 540979 | 540998 |\n",
       "\n"
      ],
      "text/plain": [
       "  chrom start  end    dhs_chrom dhs_start dhs_end dhs_id ID    \n",
       "1 chr1  605550 605627 chr1      540930    541007  chr1.1 chr1.1\n",
       "2 chr1  605550 605627 chr1      540930    541007  chr1.1 chr1.1\n",
       "3 chr1  605550 605627 chr1      540930    541007  chr1.1 chr1.1\n",
       "4 chr1  605550 605627 chr1      540930    541007  chr1.1 chr1.1\n",
       "5 chr1  605550 605627 chr1      540930    541007  chr1.1 chr1.1\n",
       "6 chr1  605550 605627 chr1      540930    541007  chr1.1 chr1.1\n",
       "  chrPerturbationTarget startPerturbationTarget endPerturbationTarget\n",
       "1 chr1                  540951                  540970               \n",
       "2 chr1                  540971                  540990               \n",
       "3 chr1                  540963                  540982               \n",
       "4 chr1                  540953                  540972               \n",
       "5 chr1                  540954                  540973               \n",
       "6 chr1                  540979                  540998               "
      ]
     },
     "metadata": {},
     "output_type": "display_data"
    }
   ],
   "source": [
    "txt = c(\n",
    "    \"chrom\",     \"start\",     \"end\", \n",
    "    'dhs_chrom', 'dhs_start', 'dhs_end', \"dhs_id\", 'ID',\n",
    "    'chrPerturbationTarget',\n",
    "    'startPerturbationTarget',\n",
    "    'endPerturbationTarget')\n",
    "\n",
    "dat = dat_peak_crispri_growth_total\n",
    "print(dim(dat))\n",
    "\n",
    "dat = dat %>% dplyr::select({{txt}}) %>% dplyr::distinct()\n",
    "print(dim(dat))\n",
    "head(dat)"
   ]
  },
  {
   "cell_type": "markdown",
   "metadata": {},
   "source": [
    "**Protospacer**"
   ]
  },
  {
   "cell_type": "code",
   "execution_count": 7,
   "metadata": {},
   "outputs": [
    {
     "name": "stdout",
     "output_type": "stream",
     "text": [
      "[1] 1092166      22\n",
      "[1] 1070790       4\n"
     ]
    },
    {
     "data": {
      "text/html": [
       "<table class=\"dataframe\">\n",
       "<caption>A tibble: 6 × 4</caption>\n",
       "<thead>\n",
       "\t<tr><th scope=col>chrPerturbationTarget</th><th scope=col>startPerturbationTarget</th><th scope=col>endPerturbationTarget</th><th scope=col>strand</th></tr>\n",
       "\t<tr><th scope=col>&lt;chr&gt;</th><th scope=col>&lt;dbl&gt;</th><th scope=col>&lt;dbl&gt;</th><th scope=col>&lt;chr&gt;</th></tr>\n",
       "</thead>\n",
       "<tbody>\n",
       "\t<tr><td>chr1</td><td>540951</td><td>540970</td><td>.</td></tr>\n",
       "\t<tr><td>chr1</td><td>540971</td><td>540990</td><td>.</td></tr>\n",
       "\t<tr><td>chr1</td><td>540963</td><td>540982</td><td>.</td></tr>\n",
       "\t<tr><td>chr1</td><td>540953</td><td>540972</td><td>.</td></tr>\n",
       "\t<tr><td>chr1</td><td>540954</td><td>540973</td><td>.</td></tr>\n",
       "\t<tr><td>chr1</td><td>540979</td><td>540998</td><td>.</td></tr>\n",
       "</tbody>\n",
       "</table>\n"
      ],
      "text/latex": [
       "A tibble: 6 × 4\n",
       "\\begin{tabular}{llll}\n",
       " chrPerturbationTarget & startPerturbationTarget & endPerturbationTarget & strand\\\\\n",
       " <chr> & <dbl> & <dbl> & <chr>\\\\\n",
       "\\hline\n",
       "\t chr1 & 540951 & 540970 & .\\\\\n",
       "\t chr1 & 540971 & 540990 & .\\\\\n",
       "\t chr1 & 540963 & 540982 & .\\\\\n",
       "\t chr1 & 540953 & 540972 & .\\\\\n",
       "\t chr1 & 540954 & 540973 & .\\\\\n",
       "\t chr1 & 540979 & 540998 & .\\\\\n",
       "\\end{tabular}\n"
      ],
      "text/markdown": [
       "\n",
       "A tibble: 6 × 4\n",
       "\n",
       "| chrPerturbationTarget &lt;chr&gt; | startPerturbationTarget &lt;dbl&gt; | endPerturbationTarget &lt;dbl&gt; | strand &lt;chr&gt; |\n",
       "|---|---|---|---|\n",
       "| chr1 | 540951 | 540970 | . |\n",
       "| chr1 | 540971 | 540990 | . |\n",
       "| chr1 | 540963 | 540982 | . |\n",
       "| chr1 | 540953 | 540972 | . |\n",
       "| chr1 | 540954 | 540973 | . |\n",
       "| chr1 | 540979 | 540998 | . |\n",
       "\n"
      ],
      "text/plain": [
       "  chrPerturbationTarget startPerturbationTarget endPerturbationTarget strand\n",
       "1 chr1                  540951                  540970                .     \n",
       "2 chr1                  540971                  540990                .     \n",
       "3 chr1                  540963                  540982                .     \n",
       "4 chr1                  540953                  540972                .     \n",
       "5 chr1                  540954                  540973                .     \n",
       "6 chr1                  540979                  540998                .     "
      ]
     },
     "metadata": {},
     "output_type": "display_data"
    }
   ],
   "source": [
    "txt = c(\n",
    "    'chrPerturbationTarget',\n",
    "    'startPerturbationTarget',\n",
    "    'endPerturbationTarget',\n",
    "    'strand'\n",
    ")\n",
    "\n",
    "dat = dat_peak_crispri_growth_total\n",
    "print(dim(dat))\n",
    "\n",
    "dat = dat %>% dplyr::select({{txt}}) %>% dplyr::distinct()\n",
    "print(dim(dat))\n",
    "head(dat)"
   ]
  },
  {
   "cell_type": "code",
   "execution_count": 8,
   "metadata": {},
   "outputs": [
    {
     "name": "stdout",
     "output_type": "stream",
     "text": [
      "[1] 1092166      22\n",
      "[1] 1090971       3\n"
     ]
    },
    {
     "data": {
      "text/html": [
       "<table class=\"dataframe\">\n",
       "<caption>A tibble: 6 × 3</caption>\n",
       "<thead>\n",
       "\t<tr><th scope=col>baseMean</th><th scope=col>log2FoldChange</th><th scope=col>score</th></tr>\n",
       "\t<tr><th scope=col>&lt;dbl&gt;</th><th scope=col>&lt;dbl&gt;</th><th scope=col>&lt;dbl&gt;</th></tr>\n",
       "</thead>\n",
       "<tbody>\n",
       "\t<tr><td> 669.8027</td><td>-0.98593380</td><td>521</td></tr>\n",
       "\t<tr><td>1210.5948</td><td> 0.01755679</td><td>521</td></tr>\n",
       "\t<tr><td>2065.7482</td><td> 0.01422210</td><td>521</td></tr>\n",
       "\t<tr><td> 670.0537</td><td> 0.01843545</td><td>521</td></tr>\n",
       "\t<tr><td>1023.9170</td><td> 0.01126530</td><td>521</td></tr>\n",
       "\t<tr><td> 605.4137</td><td> 0.03242606</td><td>521</td></tr>\n",
       "</tbody>\n",
       "</table>\n"
      ],
      "text/latex": [
       "A tibble: 6 × 3\n",
       "\\begin{tabular}{lll}\n",
       " baseMean & log2FoldChange & score\\\\\n",
       " <dbl> & <dbl> & <dbl>\\\\\n",
       "\\hline\n",
       "\t  669.8027 & -0.98593380 & 521\\\\\n",
       "\t 1210.5948 &  0.01755679 & 521\\\\\n",
       "\t 2065.7482 &  0.01422210 & 521\\\\\n",
       "\t  670.0537 &  0.01843545 & 521\\\\\n",
       "\t 1023.9170 &  0.01126530 & 521\\\\\n",
       "\t  605.4137 &  0.03242606 & 521\\\\\n",
       "\\end{tabular}\n"
      ],
      "text/markdown": [
       "\n",
       "A tibble: 6 × 3\n",
       "\n",
       "| baseMean &lt;dbl&gt; | log2FoldChange &lt;dbl&gt; | score &lt;dbl&gt; |\n",
       "|---|---|---|\n",
       "|  669.8027 | -0.98593380 | 521 |\n",
       "| 1210.5948 |  0.01755679 | 521 |\n",
       "| 2065.7482 |  0.01422210 | 521 |\n",
       "|  670.0537 |  0.01843545 | 521 |\n",
       "| 1023.9170 |  0.01126530 | 521 |\n",
       "|  605.4137 |  0.03242606 | 521 |\n",
       "\n"
      ],
      "text/plain": [
       "  baseMean  log2FoldChange score\n",
       "1  669.8027 -0.98593380    521  \n",
       "2 1210.5948  0.01755679    521  \n",
       "3 2065.7482  0.01422210    521  \n",
       "4  670.0537  0.01843545    521  \n",
       "5 1023.9170  0.01126530    521  \n",
       "6  605.4137  0.03242606    521  "
      ]
     },
     "metadata": {},
     "output_type": "display_data"
    }
   ],
   "source": [
    "txt = c(\n",
    "    'baseMean',\n",
    "    'log2FoldChange',\n",
    "    'score'\n",
    ")\n",
    "\n",
    "dat = dat_peak_crispri_growth_total\n",
    "print(dim(dat))\n",
    "\n",
    "dat = dat %>% dplyr::select({{txt}}) %>% dplyr::distinct()\n",
    "print(dim(dat))\n",
    "head(dat)"
   ]
  },
  {
   "cell_type": "markdown",
   "metadata": {},
   "source": [
    "## Number of DHS"
   ]
  },
  {
   "cell_type": "code",
   "execution_count": 18,
   "metadata": {},
   "outputs": [
    {
     "name": "stdout",
     "output_type": "stream",
     "text": [
      "[1] 1092166      22\n",
      "[1] 111702      3\n"
     ]
    },
    {
     "data": {
      "text/html": [
       "<table class=\"dataframe\">\n",
       "<caption>A tibble: 6 × 3</caption>\n",
       "<thead>\n",
       "\t<tr><th scope=col>chrom</th><th scope=col>start</th><th scope=col>end</th></tr>\n",
       "\t<tr><th scope=col>&lt;chr&gt;</th><th scope=col>&lt;dbl&gt;</th><th scope=col>&lt;dbl&gt;</th></tr>\n",
       "</thead>\n",
       "<tbody>\n",
       "\t<tr><td>chr1</td><td>   605550</td><td>   605627</td></tr>\n",
       "\t<tr><td>chr1</td><td>   865344</td><td>   865447</td></tr>\n",
       "\t<tr><td>chr1</td><td>  1140728</td><td>  1142081</td></tr>\n",
       "\t<tr><td>chr1</td><td>  4173215</td><td>  4173505</td></tr>\n",
       "\t<tr><td>chr1</td><td>176948943</td><td>176949446</td></tr>\n",
       "\t<tr><td>chr1</td><td>176954362</td><td>176954533</td></tr>\n",
       "</tbody>\n",
       "</table>\n"
      ],
      "text/latex": [
       "A tibble: 6 × 3\n",
       "\\begin{tabular}{lll}\n",
       " chrom & start & end\\\\\n",
       " <chr> & <dbl> & <dbl>\\\\\n",
       "\\hline\n",
       "\t chr1 &    605550 &    605627\\\\\n",
       "\t chr1 &    865344 &    865447\\\\\n",
       "\t chr1 &   1140728 &   1142081\\\\\n",
       "\t chr1 &   4173215 &   4173505\\\\\n",
       "\t chr1 & 176948943 & 176949446\\\\\n",
       "\t chr1 & 176954362 & 176954533\\\\\n",
       "\\end{tabular}\n"
      ],
      "text/markdown": [
       "\n",
       "A tibble: 6 × 3\n",
       "\n",
       "| chrom &lt;chr&gt; | start &lt;dbl&gt; | end &lt;dbl&gt; |\n",
       "|---|---|---|\n",
       "| chr1 |    605550 |    605627 |\n",
       "| chr1 |    865344 |    865447 |\n",
       "| chr1 |   1140728 |   1142081 |\n",
       "| chr1 |   4173215 |   4173505 |\n",
       "| chr1 | 176948943 | 176949446 |\n",
       "| chr1 | 176954362 | 176954533 |\n",
       "\n"
      ],
      "text/plain": [
       "  chrom start     end      \n",
       "1 chr1     605550    605627\n",
       "2 chr1     865344    865447\n",
       "3 chr1    1140728   1142081\n",
       "4 chr1    4173215   4173505\n",
       "5 chr1  176948943 176949446\n",
       "6 chr1  176954362 176954533"
      ]
     },
     "metadata": {},
     "output_type": "display_data"
    }
   ],
   "source": [
    "txt = c('chrom','start','end')\n",
    "\n",
    "dat = dat_peak_crispri_growth_total\n",
    "print(dim(dat))\n",
    "\n",
    "dat = dat %>% dplyr::select({{txt}}) %>% dplyr::distinct()\n",
    "print(dim(dat))\n",
    "head(dat)"
   ]
  },
  {
   "cell_type": "code",
   "execution_count": 19,
   "metadata": {},
   "outputs": [
    {
     "name": "stdout",
     "output_type": "stream",
     "text": [
      "[1] 6242    7\n",
      "[1] 6242    3\n"
     ]
    },
    {
     "data": {
      "text/html": [
       "<table class=\"dataframe\">\n",
       "<caption>A tibble: 6 × 3</caption>\n",
       "<thead>\n",
       "\t<tr><th scope=col>chrom</th><th scope=col>start</th><th scope=col>end</th></tr>\n",
       "\t<tr><th scope=col>&lt;chr&gt;</th><th scope=col>&lt;dbl&gt;</th><th scope=col>&lt;dbl&gt;</th></tr>\n",
       "</thead>\n",
       "<tbody>\n",
       "\t<tr><td>chr19</td><td>11155578</td><td>11156290</td></tr>\n",
       "\t<tr><td>chr22</td><td>30356286</td><td>30357525</td></tr>\n",
       "\t<tr><td>chr6 </td><td>34530428</td><td>34530534</td></tr>\n",
       "\t<tr><td>chr1 </td><td>20685850</td><td>20686283</td></tr>\n",
       "\t<tr><td>chr5 </td><td>70924811</td><td>70925615</td></tr>\n",
       "\t<tr><td>chr5 </td><td>70049360</td><td>70050252</td></tr>\n",
       "</tbody>\n",
       "</table>\n"
      ],
      "text/latex": [
       "A tibble: 6 × 3\n",
       "\\begin{tabular}{lll}\n",
       " chrom & start & end\\\\\n",
       " <chr> & <dbl> & <dbl>\\\\\n",
       "\\hline\n",
       "\t chr19 & 11155578 & 11156290\\\\\n",
       "\t chr22 & 30356286 & 30357525\\\\\n",
       "\t chr6  & 34530428 & 34530534\\\\\n",
       "\t chr1  & 20685850 & 20686283\\\\\n",
       "\t chr5  & 70924811 & 70925615\\\\\n",
       "\t chr5  & 70049360 & 70050252\\\\\n",
       "\\end{tabular}\n"
      ],
      "text/markdown": [
       "\n",
       "A tibble: 6 × 3\n",
       "\n",
       "| chrom &lt;chr&gt; | start &lt;dbl&gt; | end &lt;dbl&gt; |\n",
       "|---|---|---|\n",
       "| chr19 | 11155578 | 11156290 |\n",
       "| chr22 | 30356286 | 30357525 |\n",
       "| chr6  | 34530428 | 34530534 |\n",
       "| chr1  | 20685850 | 20686283 |\n",
       "| chr5  | 70924811 | 70925615 |\n",
       "| chr5  | 70049360 | 70050252 |\n",
       "\n"
      ],
      "text/plain": [
       "  chrom start    end     \n",
       "1 chr19 11155578 11156290\n",
       "2 chr22 30356286 30357525\n",
       "3 chr6  34530428 34530534\n",
       "4 chr1  20685850 20686283\n",
       "5 chr5  70924811 70925615\n",
       "6 chr5  70049360 70050252"
      ]
     },
     "metadata": {},
     "output_type": "display_data"
    }
   ],
   "source": [
    "txt = c('chrom','start','end')\n",
    "\n",
    "dat = dat_peak_crispri_growth_fdr\n",
    "print(dim(dat))\n",
    "\n",
    "dat = dat %>% dplyr::select({{txt}}) %>% dplyr::distinct()\n",
    "print(dim(dat))\n",
    "head(dat)"
   ]
  },
  {
   "cell_type": "markdown",
   "metadata": {},
   "source": [
    "## Is overlapped/merged DHS"
   ]
  },
  {
   "cell_type": "code",
   "execution_count": 20,
   "metadata": {},
   "outputs": [
    {
     "data": {
      "text/html": [
       "<table class=\"dataframe\">\n",
       "<caption>A tibble: 6 × 3</caption>\n",
       "<thead>\n",
       "\t<tr><th scope=col>chrom</th><th scope=col>start</th><th scope=col>end</th></tr>\n",
       "\t<tr><th scope=col>&lt;chr&gt;</th><th scope=col>&lt;dbl&gt;</th><th scope=col>&lt;dbl&gt;</th></tr>\n",
       "</thead>\n",
       "<tbody>\n",
       "\t<tr><td>chr1</td><td>   605550</td><td>   605627</td></tr>\n",
       "\t<tr><td>chr1</td><td>   865344</td><td>   865447</td></tr>\n",
       "\t<tr><td>chr1</td><td>  1140728</td><td>  1142081</td></tr>\n",
       "\t<tr><td>chr1</td><td>  4173215</td><td>  4173505</td></tr>\n",
       "\t<tr><td>chr1</td><td>176948943</td><td>176949446</td></tr>\n",
       "\t<tr><td>chr1</td><td>176954362</td><td>176954533</td></tr>\n",
       "</tbody>\n",
       "</table>\n"
      ],
      "text/latex": [
       "A tibble: 6 × 3\n",
       "\\begin{tabular}{lll}\n",
       " chrom & start & end\\\\\n",
       " <chr> & <dbl> & <dbl>\\\\\n",
       "\\hline\n",
       "\t chr1 &    605550 &    605627\\\\\n",
       "\t chr1 &    865344 &    865447\\\\\n",
       "\t chr1 &   1140728 &   1142081\\\\\n",
       "\t chr1 &   4173215 &   4173505\\\\\n",
       "\t chr1 & 176948943 & 176949446\\\\\n",
       "\t chr1 & 176954362 & 176954533\\\\\n",
       "\\end{tabular}\n"
      ],
      "text/markdown": [
       "\n",
       "A tibble: 6 × 3\n",
       "\n",
       "| chrom &lt;chr&gt; | start &lt;dbl&gt; | end &lt;dbl&gt; |\n",
       "|---|---|---|\n",
       "| chr1 |    605550 |    605627 |\n",
       "| chr1 |    865344 |    865447 |\n",
       "| chr1 |   1140728 |   1142081 |\n",
       "| chr1 |   4173215 |   4173505 |\n",
       "| chr1 | 176948943 | 176949446 |\n",
       "| chr1 | 176954362 | 176954533 |\n",
       "\n"
      ],
      "text/plain": [
       "  chrom start     end      \n",
       "1 chr1     605550    605627\n",
       "2 chr1     865344    865447\n",
       "3 chr1    1140728   1142081\n",
       "4 chr1    4173215   4173505\n",
       "5 chr1  176948943 176949446\n",
       "6 chr1  176954362 176954533"
      ]
     },
     "metadata": {},
     "output_type": "display_data"
    }
   ],
   "source": [
    "txt = c('chrom','start','end')\n",
    "\n",
    "dat = dat_peak_crispri_growth_total\n",
    "dat = dat %>% dplyr::select({{txt}}) %>% dplyr::distinct()\n",
    "head(dat)"
   ]
  },
  {
   "cell_type": "code",
   "execution_count": 23,
   "metadata": {},
   "outputs": [
    {
     "name": "stdout",
     "output_type": "stream",
     "text": [
      "[1] 111702\n",
      "[1] 111634\n"
     ]
    }
   ],
   "source": [
    "grg = GRanges(\n",
    "    seqnames = dat$chrom,\n",
    "    ranges   = IRanges(start = dat$start, end = dat$end)\n",
    ")\n",
    "tmp = reduce(grg)\n",
    "\n",
    "print(length(grg))\n",
    "print(length(tmp))"
   ]
  },
  {
   "cell_type": "markdown",
   "metadata": {},
   "source": [
    "## Check two tables"
   ]
  },
  {
   "cell_type": "code",
   "execution_count": 25,
   "metadata": {},
   "outputs": [
    {
     "data": {
      "text/html": [
       "<style>\n",
       ".list-inline {list-style: none; margin:0; padding: 0}\n",
       ".list-inline>li {display: inline-block}\n",
       ".list-inline>li:not(:last-child)::after {content: \"\\00b7\"; padding: 0 .5ex}\n",
       "</style>\n",
       "<ol class=list-inline><li>'RowID'</li><li>'baseMean'</li><li>'log2FoldChange'</li><li>'lfcSE'</li><li>'stat'</li><li>'pvalue'</li><li>'padj'</li><li>'weight'</li><li>'name'</li><li>'dhs_chrom'</li><li>'dhs_start'</li><li>'dhs_end'</li><li>'ID'</li><li>'chrPerturbationTarget'</li><li>'startPerturbationTarget'</li><li>'endPerturbationTarget'</li><li>'chrom'</li><li>'start'</li><li>'end'</li><li>'dhs_id'</li><li>'score'</li><li>'strand'</li></ol>\n"
      ],
      "text/latex": [
       "\\begin{enumerate*}\n",
       "\\item 'RowID'\n",
       "\\item 'baseMean'\n",
       "\\item 'log2FoldChange'\n",
       "\\item 'lfcSE'\n",
       "\\item 'stat'\n",
       "\\item 'pvalue'\n",
       "\\item 'padj'\n",
       "\\item 'weight'\n",
       "\\item 'name'\n",
       "\\item 'dhs\\_chrom'\n",
       "\\item 'dhs\\_start'\n",
       "\\item 'dhs\\_end'\n",
       "\\item 'ID'\n",
       "\\item 'chrPerturbationTarget'\n",
       "\\item 'startPerturbationTarget'\n",
       "\\item 'endPerturbationTarget'\n",
       "\\item 'chrom'\n",
       "\\item 'start'\n",
       "\\item 'end'\n",
       "\\item 'dhs\\_id'\n",
       "\\item 'score'\n",
       "\\item 'strand'\n",
       "\\end{enumerate*}\n"
      ],
      "text/markdown": [
       "1. 'RowID'\n",
       "2. 'baseMean'\n",
       "3. 'log2FoldChange'\n",
       "4. 'lfcSE'\n",
       "5. 'stat'\n",
       "6. 'pvalue'\n",
       "7. 'padj'\n",
       "8. 'weight'\n",
       "9. 'name'\n",
       "10. 'dhs_chrom'\n",
       "11. 'dhs_start'\n",
       "12. 'dhs_end'\n",
       "13. 'ID'\n",
       "14. 'chrPerturbationTarget'\n",
       "15. 'startPerturbationTarget'\n",
       "16. 'endPerturbationTarget'\n",
       "17. 'chrom'\n",
       "18. 'start'\n",
       "19. 'end'\n",
       "20. 'dhs_id'\n",
       "21. 'score'\n",
       "22. 'strand'\n",
       "\n",
       "\n"
      ],
      "text/plain": [
       " [1] \"RowID\"                   \"baseMean\"               \n",
       " [3] \"log2FoldChange\"          \"lfcSE\"                  \n",
       " [5] \"stat\"                    \"pvalue\"                 \n",
       " [7] \"padj\"                    \"weight\"                 \n",
       " [9] \"name\"                    \"dhs_chrom\"              \n",
       "[11] \"dhs_start\"               \"dhs_end\"                \n",
       "[13] \"ID\"                      \"chrPerturbationTarget\"  \n",
       "[15] \"startPerturbationTarget\" \"endPerturbationTarget\"  \n",
       "[17] \"chrom\"                   \"start\"                  \n",
       "[19] \"end\"                     \"dhs_id\"                 \n",
       "[21] \"score\"                   \"strand\"                 "
      ]
     },
     "metadata": {},
     "output_type": "display_data"
    }
   ],
   "source": [
    "dat = dat_peak_crispri_growth_total\n",
    "colnames(dat)"
   ]
  },
  {
   "cell_type": "code",
   "execution_count": 35,
   "metadata": {},
   "outputs": [
    {
     "name": "stdout",
     "output_type": "stream",
     "text": [
      "[1] 1092166      22\n",
      "[1] 8200    3\n"
     ]
    },
    {
     "data": {
      "text/html": [
       "<table class=\"dataframe\">\n",
       "<caption>A tibble: 6 × 3</caption>\n",
       "<thead>\n",
       "\t<tr><th scope=col>chrom</th><th scope=col>start</th><th scope=col>end</th></tr>\n",
       "\t<tr><th scope=col>&lt;chr&gt;</th><th scope=col>&lt;dbl&gt;</th><th scope=col>&lt;dbl&gt;</th></tr>\n",
       "</thead>\n",
       "<tbody>\n",
       "\t<tr><td>chr1</td><td> 605550</td><td> 605627</td></tr>\n",
       "\t<tr><td>chr1</td><td> 826642</td><td> 827902</td></tr>\n",
       "\t<tr><td>chr1</td><td> 964946</td><td> 965136</td></tr>\n",
       "\t<tr><td>chr1</td><td> 995761</td><td> 996190</td></tr>\n",
       "\t<tr><td>chr1</td><td>1067929</td><td>1070953</td></tr>\n",
       "\t<tr><td>chr1</td><td>1155362</td><td>1155639</td></tr>\n",
       "</tbody>\n",
       "</table>\n"
      ],
      "text/latex": [
       "A tibble: 6 × 3\n",
       "\\begin{tabular}{lll}\n",
       " chrom & start & end\\\\\n",
       " <chr> & <dbl> & <dbl>\\\\\n",
       "\\hline\n",
       "\t chr1 &  605550 &  605627\\\\\n",
       "\t chr1 &  826642 &  827902\\\\\n",
       "\t chr1 &  964946 &  965136\\\\\n",
       "\t chr1 &  995761 &  996190\\\\\n",
       "\t chr1 & 1067929 & 1070953\\\\\n",
       "\t chr1 & 1155362 & 1155639\\\\\n",
       "\\end{tabular}\n"
      ],
      "text/markdown": [
       "\n",
       "A tibble: 6 × 3\n",
       "\n",
       "| chrom &lt;chr&gt; | start &lt;dbl&gt; | end &lt;dbl&gt; |\n",
       "|---|---|---|\n",
       "| chr1 |  605550 |  605627 |\n",
       "| chr1 |  826642 |  827902 |\n",
       "| chr1 |  964946 |  965136 |\n",
       "| chr1 |  995761 |  996190 |\n",
       "| chr1 | 1067929 | 1070953 |\n",
       "| chr1 | 1155362 | 1155639 |\n",
       "\n"
      ],
      "text/plain": [
       "  chrom start   end    \n",
       "1 chr1   605550  605627\n",
       "2 chr1   826642  827902\n",
       "3 chr1   964946  965136\n",
       "4 chr1   995761  996190\n",
       "5 chr1  1067929 1070953\n",
       "6 chr1  1155362 1155639"
      ]
     },
     "metadata": {},
     "output_type": "display_data"
    }
   ],
   "source": [
    "txt = c('chrom', 'start', 'end')\n",
    "\n",
    "dat = dat_peak_crispri_growth_total\n",
    "print(dim(dat))\n",
    "\n",
    "dat = dat %>% \n",
    "    dplyr::filter(padj <= 0.05) %>% \n",
    "    dplyr::select({{txt}}) %>% \n",
    "    dplyr::arrange(chrom, start, end)\n",
    "\n",
    "dat0 = dat\n",
    "print(dim(dat))\n",
    "head(dat)"
   ]
  },
  {
   "cell_type": "code",
   "execution_count": 32,
   "metadata": {},
   "outputs": [
    {
     "name": "stdout",
     "output_type": "stream",
     "text": [
      "[1] 1092166      22\n",
      "[1] 6242    3\n"
     ]
    },
    {
     "data": {
      "text/html": [
       "<table class=\"dataframe\">\n",
       "<caption>A tibble: 6 × 3</caption>\n",
       "<thead>\n",
       "\t<tr><th scope=col>chrom</th><th scope=col>start</th><th scope=col>end</th></tr>\n",
       "\t<tr><th scope=col>&lt;chr&gt;</th><th scope=col>&lt;dbl&gt;</th><th scope=col>&lt;dbl&gt;</th></tr>\n",
       "</thead>\n",
       "<tbody>\n",
       "\t<tr><td>chr1</td><td> 605550</td><td> 605627</td></tr>\n",
       "\t<tr><td>chr1</td><td> 826642</td><td> 827902</td></tr>\n",
       "\t<tr><td>chr1</td><td> 964946</td><td> 965136</td></tr>\n",
       "\t<tr><td>chr1</td><td> 995761</td><td> 996190</td></tr>\n",
       "\t<tr><td>chr1</td><td>1067929</td><td>1070953</td></tr>\n",
       "\t<tr><td>chr1</td><td>1155362</td><td>1155639</td></tr>\n",
       "</tbody>\n",
       "</table>\n"
      ],
      "text/latex": [
       "A tibble: 6 × 3\n",
       "\\begin{tabular}{lll}\n",
       " chrom & start & end\\\\\n",
       " <chr> & <dbl> & <dbl>\\\\\n",
       "\\hline\n",
       "\t chr1 &  605550 &  605627\\\\\n",
       "\t chr1 &  826642 &  827902\\\\\n",
       "\t chr1 &  964946 &  965136\\\\\n",
       "\t chr1 &  995761 &  996190\\\\\n",
       "\t chr1 & 1067929 & 1070953\\\\\n",
       "\t chr1 & 1155362 & 1155639\\\\\n",
       "\\end{tabular}\n"
      ],
      "text/markdown": [
       "\n",
       "A tibble: 6 × 3\n",
       "\n",
       "| chrom &lt;chr&gt; | start &lt;dbl&gt; | end &lt;dbl&gt; |\n",
       "|---|---|---|\n",
       "| chr1 |  605550 |  605627 |\n",
       "| chr1 |  826642 |  827902 |\n",
       "| chr1 |  964946 |  965136 |\n",
       "| chr1 |  995761 |  996190 |\n",
       "| chr1 | 1067929 | 1070953 |\n",
       "| chr1 | 1155362 | 1155639 |\n",
       "\n"
      ],
      "text/plain": [
       "  chrom start   end    \n",
       "1 chr1   605550  605627\n",
       "2 chr1   826642  827902\n",
       "3 chr1   964946  965136\n",
       "4 chr1   995761  996190\n",
       "5 chr1  1067929 1070953\n",
       "6 chr1  1155362 1155639"
      ]
     },
     "metadata": {},
     "output_type": "display_data"
    }
   ],
   "source": [
    "txt = c('chrom', 'start', 'end')\n",
    "\n",
    "dat = dat_peak_crispri_growth_total\n",
    "print(dim(dat))\n",
    "\n",
    "dat = dat %>% \n",
    "    dplyr::filter(padj <= 0.05) %>% \n",
    "    dplyr::select({{txt}}) %>% \n",
    "    dplyr::arrange(chrom, start, end) %>%\n",
    "    dplyr::distinct()\n",
    "\n",
    "dat1 = dat\n",
    "print(dim(dat))\n",
    "head(dat)"
   ]
  },
  {
   "cell_type": "code",
   "execution_count": 33,
   "metadata": {},
   "outputs": [
    {
     "name": "stdout",
     "output_type": "stream",
     "text": [
      "[1] 6242    7\n",
      "[1] 6242    3\n"
     ]
    },
    {
     "data": {
      "text/html": [
       "<table class=\"dataframe\">\n",
       "<caption>A tibble: 6 × 3</caption>\n",
       "<thead>\n",
       "\t<tr><th scope=col>chrom</th><th scope=col>start</th><th scope=col>end</th></tr>\n",
       "\t<tr><th scope=col>&lt;chr&gt;</th><th scope=col>&lt;dbl&gt;</th><th scope=col>&lt;dbl&gt;</th></tr>\n",
       "</thead>\n",
       "<tbody>\n",
       "\t<tr><td>chr1</td><td> 605550</td><td> 605627</td></tr>\n",
       "\t<tr><td>chr1</td><td> 826642</td><td> 827902</td></tr>\n",
       "\t<tr><td>chr1</td><td> 964946</td><td> 965136</td></tr>\n",
       "\t<tr><td>chr1</td><td> 995761</td><td> 996190</td></tr>\n",
       "\t<tr><td>chr1</td><td>1067929</td><td>1070953</td></tr>\n",
       "\t<tr><td>chr1</td><td>1155362</td><td>1155639</td></tr>\n",
       "</tbody>\n",
       "</table>\n"
      ],
      "text/latex": [
       "A tibble: 6 × 3\n",
       "\\begin{tabular}{lll}\n",
       " chrom & start & end\\\\\n",
       " <chr> & <dbl> & <dbl>\\\\\n",
       "\\hline\n",
       "\t chr1 &  605550 &  605627\\\\\n",
       "\t chr1 &  826642 &  827902\\\\\n",
       "\t chr1 &  964946 &  965136\\\\\n",
       "\t chr1 &  995761 &  996190\\\\\n",
       "\t chr1 & 1067929 & 1070953\\\\\n",
       "\t chr1 & 1155362 & 1155639\\\\\n",
       "\\end{tabular}\n"
      ],
      "text/markdown": [
       "\n",
       "A tibble: 6 × 3\n",
       "\n",
       "| chrom &lt;chr&gt; | start &lt;dbl&gt; | end &lt;dbl&gt; |\n",
       "|---|---|---|\n",
       "| chr1 |  605550 |  605627 |\n",
       "| chr1 |  826642 |  827902 |\n",
       "| chr1 |  964946 |  965136 |\n",
       "| chr1 |  995761 |  996190 |\n",
       "| chr1 | 1067929 | 1070953 |\n",
       "| chr1 | 1155362 | 1155639 |\n",
       "\n"
      ],
      "text/plain": [
       "  chrom start   end    \n",
       "1 chr1   605550  605627\n",
       "2 chr1   826642  827902\n",
       "3 chr1   964946  965136\n",
       "4 chr1   995761  996190\n",
       "5 chr1  1067929 1070953\n",
       "6 chr1  1155362 1155639"
      ]
     },
     "metadata": {},
     "output_type": "display_data"
    }
   ],
   "source": [
    "txt = c('chrom', 'start', 'end')\n",
    "\n",
    "dat = dat_peak_crispri_growth_fdr\n",
    "print(dim(dat))\n",
    "\n",
    "dat = dat %>% \n",
    "    dplyr::select({{txt}}) %>% \n",
    "    dplyr::arrange(chrom, start, end) %>%\n",
    "    dplyr::distinct()\n",
    "\n",
    "dat2 = dat\n",
    "print(dim(dat))\n",
    "head(dat)"
   ]
  },
  {
   "cell_type": "code",
   "execution_count": 34,
   "metadata": {},
   "outputs": [
    {
     "name": "stdout",
     "output_type": "stream",
     "text": [
      "[1] TRUE\n",
      "[1] TRUE\n",
      "[1] TRUE\n"
     ]
    }
   ],
   "source": [
    "print(all(dat1$chrom == dat2$chrom))\n",
    "print(all(dat1$start == dat2$start))\n",
    "print(all(dat1$end   == dat2$end))"
   ]
  },
  {
   "cell_type": "markdown",
   "metadata": {},
   "source": [
    "## Plot"
   ]
  },
  {
   "cell_type": "code",
   "execution_count": 25,
   "metadata": {},
   "outputs": [
    {
     "name": "stdout",
     "output_type": "stream",
     "text": [
      "[1] -0.00362918\n",
      "[1] 0.08986093\n"
     ]
    }
   ],
   "source": [
    "dat = dat_peak_crispri_growth_total\n",
    "vec = dat$log2FoldChange\n",
    "\n",
    "print(mean(vec))\n",
    "print(sd(vec))"
   ]
  },
  {
   "cell_type": "code",
   "execution_count": 24,
   "metadata": {},
   "outputs": [
    {
     "name": "stdout",
     "output_type": "stream",
     "text": [
      "[1] 1081193\n"
     ]
    },
    {
     "data": {
      "image/png": "[encoded data removed]",
      "text/plain": [
       "plot without title"
      ]
     },
     "metadata": {
      "image/png": {
       "height": 240,
       "width": 420
      }
     },
     "output_type": "display_data"
    }
   ],
   "source": [
    "dat = dat_peak_crispri_growth_total\n",
    "dat = dat %>% dplyr::filter(abs(log2FoldChange) <= 0.15)\n",
    "print(nrow(dat))\n",
    "\n",
    "gpt = ggplot(dat, aes(x=log2FoldChange)) + \n",
    "    geom_histogram(binwidth=0.005) + \n",
    "    labs(title = \"DESeq2 analysis of guides in CRISPRi growth screen\") +\n",
    "    theme_cowplot()\n",
    "\n",
    "options(repr.plot.height=4, repr.plot.width=7)\n",
    "print(gpt)"
   ]
  },
  {
   "cell_type": "code",
   "execution_count": 26,
   "metadata": {},
   "outputs": [
    {
     "data": {
      "image/png": "[encoded data removed]",
      "text/plain": [
       "plot without title"
      ]
     },
     "metadata": {
      "image/png": {
       "height": 240,
       "width": 420
      }
     },
     "output_type": "display_data"
    }
   ],
   "source": [
    "dat = dat_peak_crispri_growth_fdr\n",
    "dat = dat %>% dplyr::mutate(Length=end-start)\n",
    "\n",
    "gpt = ggplot(dat, aes(x=Length)) + \n",
    "    geom_histogram(binwidth=100) + \n",
    "    theme_cowplot()\n",
    "\n",
    "options(repr.plot.height=4, repr.plot.width=7)\n",
    "print(gpt)"
   ]
  },
  {
   "cell_type": "code",
   "execution_count": 30,
   "metadata": {},
   "outputs": [
    {
     "data": {
      "text/plain": [
       "\n",
       "FALSE  TRUE \n",
       " 4806  1436 "
      ]
     },
     "metadata": {},
     "output_type": "display_data"
    }
   ],
   "source": [
    "dat = dat_peak_crispri_growth_fdr\n",
    "table(dat$log2FoldChange > 0)"
   ]
  },
  {
   "cell_type": "code",
   "execution_count": 27,
   "metadata": {},
   "outputs": [
    {
     "name": "stdout",
     "output_type": "stream",
     "text": [
      "Padj \n",
      "     Min.   1st Qu.    Median      Mean   3rd Qu.      Max. \n",
      "0.0000000 0.0000000 0.0003571 0.0094307 0.0157557 0.0499885 \n",
      "\n",
      "Length \n",
      "   Min. 1st Qu.  Median    Mean 3rd Qu.    Max. \n",
      "   27.0   200.0   379.5   556.6   796.8  4467.0 \n"
     ]
    }
   ],
   "source": [
    "dat = dat_peak_crispri_growth_fdr\n",
    "dat = dat %>% dplyr::mutate(Length=end-start)\n",
    "\n",
    "cat(\"Padj\", \"\\n\")\n",
    "print(summary(dat$padj))\n",
    "cat(\"\\n\")\n",
    "cat(\"Length\", \"\\n\")\n",
    "print(summary(dat$Length))"
   ]
  },
  {
   "cell_type": "code",
   "execution_count": 28,
   "metadata": {},
   "outputs": [
    {
     "name": "stdout",
     "output_type": "stream",
     "text": [
      "[1] 6242\n",
      "[1] 6242\n"
     ]
    }
   ],
   "source": [
    "dat = dat_peak_crispri_growth_fdr\n",
    "print(nrow(dat))\n",
    "dat = dat %>% dplyr::select(chrom, start, end) %>% dplyr::distinct()\n",
    "print(nrow(dat))"
   ]
  },
  {
   "cell_type": "code",
   "execution_count": null,
   "metadata": {},
   "outputs": [],
   "source": []
  }
 ],
 "metadata": {
  "kernelspec": {
   "display_name": "R",
   "language": "R",
   "name": "ir"
  },
  "language_info": {
   "codemirror_mode": "r",
   "file_extension": ".r",
   "mimetype": "text/x-r-source",
   "name": "R",
   "pygments_lexer": "r",
   "version": "4.3.1"
  }
 },
 "nbformat": 4,
 "nbformat_minor": 4
}
