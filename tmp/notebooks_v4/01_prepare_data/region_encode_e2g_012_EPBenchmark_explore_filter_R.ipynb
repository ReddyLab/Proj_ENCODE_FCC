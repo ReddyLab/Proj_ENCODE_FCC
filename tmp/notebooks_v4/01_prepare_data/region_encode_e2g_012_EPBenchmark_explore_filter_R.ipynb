{
 "cells": [
  {
   "cell_type": "markdown",
   "metadata": {},
   "source": [
    "**Set environment**"
   ]
  },
  {
   "cell_type": "code",
   "execution_count": 1,
   "metadata": {},
   "outputs": [
    {
     "name": "stdout",
     "output_type": "stream",
     "text": [
      "You are in Singularity: singularity_proj_encode_fcc \n",
      "BASE DIRECTORY (FD_BASE): /data/reddylab/Kuei \n",
      "WORK DIRECTORY (FD_WORK): /data/reddylab/Kuei/out \n",
      "CODE DIRECTORY (FD_CODE): /data/reddylab/Kuei/code \n",
      "PATH OF PROJECT (FD_PRJ): /data/reddylab/Kuei/code/Proj_CombEffect_ENCODE_FCC \n",
      "PATH OF RESULTS (FD_RES): /data/reddylab/Kuei/out/proj_combeffect_encode_fcc \n",
      "PATH OF LOG     (FD_LOG): /data/reddylab/Kuei/out/proj_combeffect_encode_fcc/log \n"
     ]
    }
   ],
   "source": [
    "suppressMessages(suppressWarnings(source(\"../config/config_sing.R\")))\n",
    "show_env()"
   ]
  },
  {
   "cell_type": "markdown",
   "metadata": {},
   "source": [
    "**Check data files**"
   ]
  },
  {
   "cell_type": "code",
   "execution_count": 2,
   "metadata": {},
   "outputs": [
    {
     "name": "stdout",
     "output_type": "stream",
     "text": [
      "annotation_e2g_benchmark_ENCSR998YDI \n",
      "annotation_e2g_prediction_ENCSR328LMT \n",
      "EPCrisprBenchmark_ensemble_data_GRCh38.filtered.tsv.gz \n",
      "EPCrisprBenchmark_ensemble_data_GRCh38.tsv \n",
      "EPCrisprBenchmark_ensemble_data_GRCh38.tsv.gz \n",
      "Readme.md \n",
      "RefSeqCurated.170308.bed.CollapsedGeneBounds.hg38.TSS500bp.bed \n"
     ]
    }
   ],
   "source": [
    "fdiry = file.path(FD_RES, \"source\", \"ENCODE_E2G\")\n",
    "for (fname in dir(fdiry)){cat(fname, \"\\n\")}"
   ]
  },
  {
   "cell_type": "markdown",
   "metadata": {},
   "source": [
    "## Import data"
   ]
  },
  {
   "cell_type": "code",
   "execution_count": 3,
   "metadata": {},
   "outputs": [
    {
     "name": "stdout",
     "output_type": "stream",
     "text": [
      "[1] 10412    25\n"
     ]
    },
    {
     "data": {
      "text/html": [
       "<table class=\"dataframe\">\n",
       "<caption>A tibble: 6 × 25</caption>\n",
       "<thead>\n",
       "\t<tr><th scope=col>dataset</th><th scope=col>chrom</th><th scope=col>chromStart</th><th scope=col>chromEnd</th><th scope=col>name</th><th scope=col>EffectSize</th><th scope=col>chrTSS</th><th scope=col>startTSS</th><th scope=col>endTSS</th><th scope=col>measuredGeneSymbol</th><th scope=col>⋯</th><th scope=col>Reference</th><th scope=col>Regulated</th><th scope=col>PowerAtEffectSize10</th><th scope=col>PowerAtEffectSize15</th><th scope=col>PowerAtEffectSize20</th><th scope=col>PowerAtEffectSize50</th><th scope=col>pair_uid</th><th scope=col>merged_uid</th><th scope=col>merged_start</th><th scope=col>merged_end</th></tr>\n",
       "\t<tr><th scope=col>&lt;chr&gt;</th><th scope=col>&lt;chr&gt;</th><th scope=col>&lt;dbl&gt;</th><th scope=col>&lt;dbl&gt;</th><th scope=col>&lt;chr&gt;</th><th scope=col>&lt;dbl&gt;</th><th scope=col>&lt;chr&gt;</th><th scope=col>&lt;dbl&gt;</th><th scope=col>&lt;dbl&gt;</th><th scope=col>&lt;chr&gt;</th><th scope=col>⋯</th><th scope=col>&lt;chr&gt;</th><th scope=col>&lt;lgl&gt;</th><th scope=col>&lt;dbl&gt;</th><th scope=col>&lt;dbl&gt;</th><th scope=col>&lt;dbl&gt;</th><th scope=col>&lt;dbl&gt;</th><th scope=col>&lt;chr&gt;</th><th scope=col>&lt;dbl&gt;</th><th scope=col>&lt;dbl&gt;</th><th scope=col>&lt;dbl&gt;</th></tr>\n",
       "</thead>\n",
       "<tbody>\n",
       "\t<tr><td>FlowFISH_K562</td><td>chr1</td><td>3774714</td><td>3775214</td><td>CEP104|chr1:3691278-3691778:*</td><td>-0.293431866</td><td>chr1</td><td>3857213</td><td>3857214</td><td>CEP104</td><td>⋯</td><td>Ulirsch2016           </td><td> TRUE</td><td>  NA</td><td>  NA</td><td>  NA</td><td>NA</td><td>FlowFISH_K562|CEP104|chr1:3691278-3691778:*</td><td>1</td><td>3774714</td><td>3775214</td></tr>\n",
       "\t<tr><td>FlowFISH_K562</td><td>chr1</td><td>3774714</td><td>3775214</td><td>LRRC47|chr1:3691278-3691778:*</td><td>-0.331178093</td><td>chr1</td><td>3796503</td><td>3796504</td><td>LRRC47</td><td>⋯</td><td>Ulirsch2016           </td><td> TRUE</td><td>  NA</td><td>  NA</td><td>  NA</td><td>NA</td><td>FlowFISH_K562|LRRC47|chr1:3691278-3691778:*</td><td>2</td><td>3774714</td><td>3775214</td></tr>\n",
       "\t<tr><td>Gasperini2019</td><td>chr1</td><td>3803570</td><td>3805848</td><td>LRRC47|chr1:3720134-3722412:.</td><td>-0.001471265</td><td>chr1</td><td>3796503</td><td>3796504</td><td>LRRC47</td><td>⋯</td><td>Gasperini et al., 2019</td><td>FALSE</td><td>0.40</td><td>0.80</td><td>0.85</td><td> 1</td><td>Gasperini2019|LRRC47|chr1:3720134-3722412:.</td><td>3</td><td>3803570</td><td>3805848</td></tr>\n",
       "\t<tr><td>FlowFISH_K562</td><td>chr1</td><td>3774714</td><td>3775214</td><td>SMIM1|chr1:3691278-3691778:* </td><td>-0.472019217</td><td>chr1</td><td>3772761</td><td>3772762</td><td>SMIM1 </td><td>⋯</td><td>Ulirsch2016           </td><td> TRUE</td><td>  NA</td><td>  NA</td><td>  NA</td><td>NA</td><td>FlowFISH_K562|SMIM1|chr1:3691278-3691778:* </td><td>4</td><td>3774714</td><td>3775214</td></tr>\n",
       "\t<tr><td>Gasperini2019</td><td>chr1</td><td>3803570</td><td>3805848</td><td>SMIM1|chr1:3720134-3722412:. </td><td> 0.025676924</td><td>chr1</td><td>3772788</td><td>3772789</td><td>SMIM1 </td><td>⋯</td><td>Gasperini et al., 2019</td><td>FALSE</td><td>0.80</td><td>0.85</td><td>1.00</td><td> 1</td><td>Gasperini2019|SMIM1|chr1:3720134-3722412:. </td><td>5</td><td>3803570</td><td>3805848</td></tr>\n",
       "\t<tr><td>Gasperini2019</td><td>chr1</td><td>4126791</td><td>4127291</td><td>SMIM1|chr1:4186851-4187351:. </td><td> 0.023383787</td><td>chr1</td><td>3772788</td><td>3772789</td><td>SMIM1 </td><td>⋯</td><td>Gasperini et al., 2019</td><td>FALSE</td><td>0.55</td><td>0.80</td><td>0.90</td><td> 1</td><td>Gasperini2019|SMIM1|chr1:4186851-4187351:. </td><td>6</td><td>4126791</td><td>4127291</td></tr>\n",
       "</tbody>\n",
       "</table>\n"
      ],
      "text/latex": [
       "A tibble: 6 × 25\n",
       "\\begin{tabular}{lllllllllllllllllllll}\n",
       " dataset & chrom & chromStart & chromEnd & name & EffectSize & chrTSS & startTSS & endTSS & measuredGeneSymbol & ⋯ & Reference & Regulated & PowerAtEffectSize10 & PowerAtEffectSize15 & PowerAtEffectSize20 & PowerAtEffectSize50 & pair\\_uid & merged\\_uid & merged\\_start & merged\\_end\\\\\n",
       " <chr> & <chr> & <dbl> & <dbl> & <chr> & <dbl> & <chr> & <dbl> & <dbl> & <chr> & ⋯ & <chr> & <lgl> & <dbl> & <dbl> & <dbl> & <dbl> & <chr> & <dbl> & <dbl> & <dbl>\\\\\n",
       "\\hline\n",
       "\t FlowFISH\\_K562 & chr1 & 3774714 & 3775214 & CEP104\\textbar{}chr1:3691278-3691778:* & -0.293431866 & chr1 & 3857213 & 3857214 & CEP104 & ⋯ & Ulirsch2016            &  TRUE &   NA &   NA &   NA & NA & FlowFISH\\_K562\\textbar{}CEP104\\textbar{}chr1:3691278-3691778:* & 1 & 3774714 & 3775214\\\\\n",
       "\t FlowFISH\\_K562 & chr1 & 3774714 & 3775214 & LRRC47\\textbar{}chr1:3691278-3691778:* & -0.331178093 & chr1 & 3796503 & 3796504 & LRRC47 & ⋯ & Ulirsch2016            &  TRUE &   NA &   NA &   NA & NA & FlowFISH\\_K562\\textbar{}LRRC47\\textbar{}chr1:3691278-3691778:* & 2 & 3774714 & 3775214\\\\\n",
       "\t Gasperini2019 & chr1 & 3803570 & 3805848 & LRRC47\\textbar{}chr1:3720134-3722412:. & -0.001471265 & chr1 & 3796503 & 3796504 & LRRC47 & ⋯ & Gasperini et al., 2019 & FALSE & 0.40 & 0.80 & 0.85 &  1 & Gasperini2019\\textbar{}LRRC47\\textbar{}chr1:3720134-3722412:. & 3 & 3803570 & 3805848\\\\\n",
       "\t FlowFISH\\_K562 & chr1 & 3774714 & 3775214 & SMIM1\\textbar{}chr1:3691278-3691778:*  & -0.472019217 & chr1 & 3772761 & 3772762 & SMIM1  & ⋯ & Ulirsch2016            &  TRUE &   NA &   NA &   NA & NA & FlowFISH\\_K562\\textbar{}SMIM1\\textbar{}chr1:3691278-3691778:*  & 4 & 3774714 & 3775214\\\\\n",
       "\t Gasperini2019 & chr1 & 3803570 & 3805848 & SMIM1\\textbar{}chr1:3720134-3722412:.  &  0.025676924 & chr1 & 3772788 & 3772789 & SMIM1  & ⋯ & Gasperini et al., 2019 & FALSE & 0.80 & 0.85 & 1.00 &  1 & Gasperini2019\\textbar{}SMIM1\\textbar{}chr1:3720134-3722412:.  & 5 & 3803570 & 3805848\\\\\n",
       "\t Gasperini2019 & chr1 & 4126791 & 4127291 & SMIM1\\textbar{}chr1:4186851-4187351:.  &  0.023383787 & chr1 & 3772788 & 3772789 & SMIM1  & ⋯ & Gasperini et al., 2019 & FALSE & 0.55 & 0.80 & 0.90 &  1 & Gasperini2019\\textbar{}SMIM1\\textbar{}chr1:4186851-4187351:.  & 6 & 4126791 & 4127291\\\\\n",
       "\\end{tabular}\n"
      ],
      "text/markdown": [
       "\n",
       "A tibble: 6 × 25\n",
       "\n",
       "| dataset &lt;chr&gt; | chrom &lt;chr&gt; | chromStart &lt;dbl&gt; | chromEnd &lt;dbl&gt; | name &lt;chr&gt; | EffectSize &lt;dbl&gt; | chrTSS &lt;chr&gt; | startTSS &lt;dbl&gt; | endTSS &lt;dbl&gt; | measuredGeneSymbol &lt;chr&gt; | ⋯ ⋯ | Reference &lt;chr&gt; | Regulated &lt;lgl&gt; | PowerAtEffectSize10 &lt;dbl&gt; | PowerAtEffectSize15 &lt;dbl&gt; | PowerAtEffectSize20 &lt;dbl&gt; | PowerAtEffectSize50 &lt;dbl&gt; | pair_uid &lt;chr&gt; | merged_uid &lt;dbl&gt; | merged_start &lt;dbl&gt; | merged_end &lt;dbl&gt; |\n",
       "|---|---|---|---|---|---|---|---|---|---|---|---|---|---|---|---|---|---|---|---|---|\n",
       "| FlowFISH_K562 | chr1 | 3774714 | 3775214 | CEP104|chr1:3691278-3691778:* | -0.293431866 | chr1 | 3857213 | 3857214 | CEP104 | ⋯ | Ulirsch2016            |  TRUE |   NA |   NA |   NA | NA | FlowFISH_K562|CEP104|chr1:3691278-3691778:* | 1 | 3774714 | 3775214 |\n",
       "| FlowFISH_K562 | chr1 | 3774714 | 3775214 | LRRC47|chr1:3691278-3691778:* | -0.331178093 | chr1 | 3796503 | 3796504 | LRRC47 | ⋯ | Ulirsch2016            |  TRUE |   NA |   NA |   NA | NA | FlowFISH_K562|LRRC47|chr1:3691278-3691778:* | 2 | 3774714 | 3775214 |\n",
       "| Gasperini2019 | chr1 | 3803570 | 3805848 | LRRC47|chr1:3720134-3722412:. | -0.001471265 | chr1 | 3796503 | 3796504 | LRRC47 | ⋯ | Gasperini et al., 2019 | FALSE | 0.40 | 0.80 | 0.85 |  1 | Gasperini2019|LRRC47|chr1:3720134-3722412:. | 3 | 3803570 | 3805848 |\n",
       "| FlowFISH_K562 | chr1 | 3774714 | 3775214 | SMIM1|chr1:3691278-3691778:*  | -0.472019217 | chr1 | 3772761 | 3772762 | SMIM1  | ⋯ | Ulirsch2016            |  TRUE |   NA |   NA |   NA | NA | FlowFISH_K562|SMIM1|chr1:3691278-3691778:*  | 4 | 3774714 | 3775214 |\n",
       "| Gasperini2019 | chr1 | 3803570 | 3805848 | SMIM1|chr1:3720134-3722412:.  |  0.025676924 | chr1 | 3772788 | 3772789 | SMIM1  | ⋯ | Gasperini et al., 2019 | FALSE | 0.80 | 0.85 | 1.00 |  1 | Gasperini2019|SMIM1|chr1:3720134-3722412:.  | 5 | 3803570 | 3805848 |\n",
       "| Gasperini2019 | chr1 | 4126791 | 4127291 | SMIM1|chr1:4186851-4187351:.  |  0.023383787 | chr1 | 3772788 | 3772789 | SMIM1  | ⋯ | Gasperini et al., 2019 | FALSE | 0.55 | 0.80 | 0.90 |  1 | Gasperini2019|SMIM1|chr1:4186851-4187351:.  | 6 | 4126791 | 4127291 |\n",
       "\n"
      ],
      "text/plain": [
       "  dataset       chrom chromStart chromEnd name                         \n",
       "1 FlowFISH_K562 chr1  3774714    3775214  CEP104|chr1:3691278-3691778:*\n",
       "2 FlowFISH_K562 chr1  3774714    3775214  LRRC47|chr1:3691278-3691778:*\n",
       "3 Gasperini2019 chr1  3803570    3805848  LRRC47|chr1:3720134-3722412:.\n",
       "4 FlowFISH_K562 chr1  3774714    3775214  SMIM1|chr1:3691278-3691778:* \n",
       "5 Gasperini2019 chr1  3803570    3805848  SMIM1|chr1:3720134-3722412:. \n",
       "6 Gasperini2019 chr1  4126791    4127291  SMIM1|chr1:4186851-4187351:. \n",
       "  EffectSize   chrTSS startTSS endTSS  measuredGeneSymbol ⋯\n",
       "1 -0.293431866 chr1   3857213  3857214 CEP104             ⋯\n",
       "2 -0.331178093 chr1   3796503  3796504 LRRC47             ⋯\n",
       "3 -0.001471265 chr1   3796503  3796504 LRRC47             ⋯\n",
       "4 -0.472019217 chr1   3772761  3772762 SMIM1              ⋯\n",
       "5  0.025676924 chr1   3772788  3772789 SMIM1              ⋯\n",
       "6  0.023383787 chr1   3772788  3772789 SMIM1              ⋯\n",
       "  Reference              Regulated PowerAtEffectSize10 PowerAtEffectSize15\n",
       "1 Ulirsch2016             TRUE       NA                  NA               \n",
       "2 Ulirsch2016             TRUE       NA                  NA               \n",
       "3 Gasperini et al., 2019 FALSE     0.40                0.80               \n",
       "4 Ulirsch2016             TRUE       NA                  NA               \n",
       "5 Gasperini et al., 2019 FALSE     0.80                0.85               \n",
       "6 Gasperini et al., 2019 FALSE     0.55                0.80               \n",
       "  PowerAtEffectSize20 PowerAtEffectSize50\n",
       "1   NA                NA                 \n",
       "2   NA                NA                 \n",
       "3 0.85                 1                 \n",
       "4   NA                NA                 \n",
       "5 1.00                 1                 \n",
       "6 0.90                 1                 \n",
       "  pair_uid                                    merged_uid merged_start\n",
       "1 FlowFISH_K562|CEP104|chr1:3691278-3691778:* 1          3774714     \n",
       "2 FlowFISH_K562|LRRC47|chr1:3691278-3691778:* 2          3774714     \n",
       "3 Gasperini2019|LRRC47|chr1:3720134-3722412:. 3          3803570     \n",
       "4 FlowFISH_K562|SMIM1|chr1:3691278-3691778:*  4          3774714     \n",
       "5 Gasperini2019|SMIM1|chr1:3720134-3722412:.  5          3803570     \n",
       "6 Gasperini2019|SMIM1|chr1:4186851-4187351:.  6          4126791     \n",
       "  merged_end\n",
       "1 3775214   \n",
       "2 3775214   \n",
       "3 3805848   \n",
       "4 3775214   \n",
       "5 3805848   \n",
       "6 4127291   "
      ]
     },
     "metadata": {},
     "output_type": "display_data"
    }
   ],
   "source": [
    "fdiry = file.path(FD_RES, \"source\", \"ENCODE_E2G\")\n",
    "fname = \"EPCrisprBenchmark_ensemble_data_GRCh38.tsv.gz\"\n",
    "fpath = file.path(fdiry, fname)\n",
    "\n",
    "dat = read_tsv(fpath, show_col_types = FALSE)\n",
    "\n",
    "dat_peak_encode_e2g_import = dat\n",
    "print(dim(dat))\n",
    "head(dat)"
   ]
  },
  {
   "cell_type": "code",
   "execution_count": 4,
   "metadata": {},
   "outputs": [
    {
     "name": "stdout",
     "output_type": "stream",
     "text": [
      "[1] 10375    21\n"
     ]
    },
    {
     "data": {
      "text/html": [
       "<table class=\"dataframe\">\n",
       "<caption>A tibble: 6 × 21</caption>\n",
       "<thead>\n",
       "\t<tr><th scope=col>chrom</th><th scope=col>chromStart</th><th scope=col>chromEnd</th><th scope=col>name</th><th scope=col>EffectSize</th><th scope=col>chrTSS</th><th scope=col>startTSS</th><th scope=col>endTSS</th><th scope=col>measuredGeneSymbol</th><th scope=col>Significant</th><th scope=col>⋯</th><th scope=col>PowerAtEffectSize10</th><th scope=col>PowerAtEffectSize15</th><th scope=col>PowerAtEffectSize20</th><th scope=col>PowerAtEffectSize25</th><th scope=col>PowerAtEffectSize50</th><th scope=col>ValidConnection</th><th scope=col>CellType</th><th scope=col>Reference</th><th scope=col>Regulated</th><th scope=col>Dataset</th></tr>\n",
       "\t<tr><th scope=col>&lt;chr&gt;</th><th scope=col>&lt;dbl&gt;</th><th scope=col>&lt;dbl&gt;</th><th scope=col>&lt;chr&gt;</th><th scope=col>&lt;dbl&gt;</th><th scope=col>&lt;chr&gt;</th><th scope=col>&lt;dbl&gt;</th><th scope=col>&lt;dbl&gt;</th><th scope=col>&lt;chr&gt;</th><th scope=col>&lt;lgl&gt;</th><th scope=col>⋯</th><th scope=col>&lt;dbl&gt;</th><th scope=col>&lt;dbl&gt;</th><th scope=col>&lt;dbl&gt;</th><th scope=col>&lt;dbl&gt;</th><th scope=col>&lt;dbl&gt;</th><th scope=col>&lt;lgl&gt;</th><th scope=col>&lt;chr&gt;</th><th scope=col>&lt;chr&gt;</th><th scope=col>&lt;lgl&gt;</th><th scope=col>&lt;chr&gt;</th></tr>\n",
       "</thead>\n",
       "<tbody>\n",
       "\t<tr><td>chr1</td><td>3774714</td><td>3775214</td><td>CEP104|chr1:3691278-3691778:*</td><td>-0.293431866</td><td>chr1</td><td>3857213</td><td>3857214</td><td>CEP104</td><td> TRUE</td><td>⋯</td><td>  NA</td><td>  NA</td><td>  NA</td><td>0.8250936</td><td>NA</td><td>TRUE</td><td>K562</td><td>Ulirsch2016           </td><td> TRUE</td><td>FlowFISH_K562</td></tr>\n",
       "\t<tr><td>chr1</td><td>3774714</td><td>3775214</td><td>LRRC47|chr1:3691278-3691778:*</td><td>-0.331178093</td><td>chr1</td><td>3796503</td><td>3796504</td><td>LRRC47</td><td> TRUE</td><td>⋯</td><td>  NA</td><td>  NA</td><td>  NA</td><td>0.6089942</td><td>NA</td><td>TRUE</td><td>K562</td><td>Ulirsch2016           </td><td> TRUE</td><td>FlowFISH_K562</td></tr>\n",
       "\t<tr><td>chr1</td><td>3803570</td><td>3805848</td><td>LRRC47|chr1:3720134-3722412:.</td><td>-0.001471265</td><td>chr1</td><td>3796503</td><td>3796504</td><td>LRRC47</td><td>FALSE</td><td>⋯</td><td>0.40</td><td>0.80</td><td>0.85</td><td>1.0000000</td><td> 1</td><td>TRUE</td><td>K562</td><td>Gasperini et al., 2019</td><td>FALSE</td><td>Gasperini2019</td></tr>\n",
       "\t<tr><td>chr1</td><td>3774714</td><td>3775214</td><td>SMIM1|chr1:3691278-3691778:* </td><td>-0.472019217</td><td>chr1</td><td>3772761</td><td>3772762</td><td>SMIM1 </td><td> TRUE</td><td>⋯</td><td>  NA</td><td>  NA</td><td>  NA</td><td>0.6393323</td><td>NA</td><td>TRUE</td><td>K562</td><td>Ulirsch2016           </td><td> TRUE</td><td>FlowFISH_K562</td></tr>\n",
       "\t<tr><td>chr1</td><td>3803570</td><td>3805848</td><td>SMIM1|chr1:3720134-3722412:. </td><td> 0.025676924</td><td>chr1</td><td>3772788</td><td>3772789</td><td>SMIM1 </td><td>FALSE</td><td>⋯</td><td>0.80</td><td>0.85</td><td>1.00</td><td>1.0000000</td><td> 1</td><td>TRUE</td><td>K562</td><td>Gasperini et al., 2019</td><td>FALSE</td><td>Gasperini2019</td></tr>\n",
       "\t<tr><td>chr1</td><td>4126791</td><td>4127291</td><td>SMIM1|chr1:4186851-4187351:. </td><td> 0.023383787</td><td>chr1</td><td>3772788</td><td>3772789</td><td>SMIM1 </td><td>FALSE</td><td>⋯</td><td>0.55</td><td>0.80</td><td>0.90</td><td>0.9500000</td><td> 1</td><td>TRUE</td><td>K562</td><td>Gasperini et al., 2019</td><td>FALSE</td><td>Gasperini2019</td></tr>\n",
       "</tbody>\n",
       "</table>\n"
      ],
      "text/latex": [
       "A tibble: 6 × 21\n",
       "\\begin{tabular}{lllllllllllllllllllll}\n",
       " chrom & chromStart & chromEnd & name & EffectSize & chrTSS & startTSS & endTSS & measuredGeneSymbol & Significant & ⋯ & PowerAtEffectSize10 & PowerAtEffectSize15 & PowerAtEffectSize20 & PowerAtEffectSize25 & PowerAtEffectSize50 & ValidConnection & CellType & Reference & Regulated & Dataset\\\\\n",
       " <chr> & <dbl> & <dbl> & <chr> & <dbl> & <chr> & <dbl> & <dbl> & <chr> & <lgl> & ⋯ & <dbl> & <dbl> & <dbl> & <dbl> & <dbl> & <lgl> & <chr> & <chr> & <lgl> & <chr>\\\\\n",
       "\\hline\n",
       "\t chr1 & 3774714 & 3775214 & CEP104\\textbar{}chr1:3691278-3691778:* & -0.293431866 & chr1 & 3857213 & 3857214 & CEP104 &  TRUE & ⋯ &   NA &   NA &   NA & 0.8250936 & NA & TRUE & K562 & Ulirsch2016            &  TRUE & FlowFISH\\_K562\\\\\n",
       "\t chr1 & 3774714 & 3775214 & LRRC47\\textbar{}chr1:3691278-3691778:* & -0.331178093 & chr1 & 3796503 & 3796504 & LRRC47 &  TRUE & ⋯ &   NA &   NA &   NA & 0.6089942 & NA & TRUE & K562 & Ulirsch2016            &  TRUE & FlowFISH\\_K562\\\\\n",
       "\t chr1 & 3803570 & 3805848 & LRRC47\\textbar{}chr1:3720134-3722412:. & -0.001471265 & chr1 & 3796503 & 3796504 & LRRC47 & FALSE & ⋯ & 0.40 & 0.80 & 0.85 & 1.0000000 &  1 & TRUE & K562 & Gasperini et al., 2019 & FALSE & Gasperini2019\\\\\n",
       "\t chr1 & 3774714 & 3775214 & SMIM1\\textbar{}chr1:3691278-3691778:*  & -0.472019217 & chr1 & 3772761 & 3772762 & SMIM1  &  TRUE & ⋯ &   NA &   NA &   NA & 0.6393323 & NA & TRUE & K562 & Ulirsch2016            &  TRUE & FlowFISH\\_K562\\\\\n",
       "\t chr1 & 3803570 & 3805848 & SMIM1\\textbar{}chr1:3720134-3722412:.  &  0.025676924 & chr1 & 3772788 & 3772789 & SMIM1  & FALSE & ⋯ & 0.80 & 0.85 & 1.00 & 1.0000000 &  1 & TRUE & K562 & Gasperini et al., 2019 & FALSE & Gasperini2019\\\\\n",
       "\t chr1 & 4126791 & 4127291 & SMIM1\\textbar{}chr1:4186851-4187351:.  &  0.023383787 & chr1 & 3772788 & 3772789 & SMIM1  & FALSE & ⋯ & 0.55 & 0.80 & 0.90 & 0.9500000 &  1 & TRUE & K562 & Gasperini et al., 2019 & FALSE & Gasperini2019\\\\\n",
       "\\end{tabular}\n"
      ],
      "text/markdown": [
       "\n",
       "A tibble: 6 × 21\n",
       "\n",
       "| chrom &lt;chr&gt; | chromStart &lt;dbl&gt; | chromEnd &lt;dbl&gt; | name &lt;chr&gt; | EffectSize &lt;dbl&gt; | chrTSS &lt;chr&gt; | startTSS &lt;dbl&gt; | endTSS &lt;dbl&gt; | measuredGeneSymbol &lt;chr&gt; | Significant &lt;lgl&gt; | ⋯ ⋯ | PowerAtEffectSize10 &lt;dbl&gt; | PowerAtEffectSize15 &lt;dbl&gt; | PowerAtEffectSize20 &lt;dbl&gt; | PowerAtEffectSize25 &lt;dbl&gt; | PowerAtEffectSize50 &lt;dbl&gt; | ValidConnection &lt;lgl&gt; | CellType &lt;chr&gt; | Reference &lt;chr&gt; | Regulated &lt;lgl&gt; | Dataset &lt;chr&gt; |\n",
       "|---|---|---|---|---|---|---|---|---|---|---|---|---|---|---|---|---|---|---|---|---|\n",
       "| chr1 | 3774714 | 3775214 | CEP104|chr1:3691278-3691778:* | -0.293431866 | chr1 | 3857213 | 3857214 | CEP104 |  TRUE | ⋯ |   NA |   NA |   NA | 0.8250936 | NA | TRUE | K562 | Ulirsch2016            |  TRUE | FlowFISH_K562 |\n",
       "| chr1 | 3774714 | 3775214 | LRRC47|chr1:3691278-3691778:* | -0.331178093 | chr1 | 3796503 | 3796504 | LRRC47 |  TRUE | ⋯ |   NA |   NA |   NA | 0.6089942 | NA | TRUE | K562 | Ulirsch2016            |  TRUE | FlowFISH_K562 |\n",
       "| chr1 | 3803570 | 3805848 | LRRC47|chr1:3720134-3722412:. | -0.001471265 | chr1 | 3796503 | 3796504 | LRRC47 | FALSE | ⋯ | 0.40 | 0.80 | 0.85 | 1.0000000 |  1 | TRUE | K562 | Gasperini et al., 2019 | FALSE | Gasperini2019 |\n",
       "| chr1 | 3774714 | 3775214 | SMIM1|chr1:3691278-3691778:*  | -0.472019217 | chr1 | 3772761 | 3772762 | SMIM1  |  TRUE | ⋯ |   NA |   NA |   NA | 0.6393323 | NA | TRUE | K562 | Ulirsch2016            |  TRUE | FlowFISH_K562 |\n",
       "| chr1 | 3803570 | 3805848 | SMIM1|chr1:3720134-3722412:.  |  0.025676924 | chr1 | 3772788 | 3772789 | SMIM1  | FALSE | ⋯ | 0.80 | 0.85 | 1.00 | 1.0000000 |  1 | TRUE | K562 | Gasperini et al., 2019 | FALSE | Gasperini2019 |\n",
       "| chr1 | 4126791 | 4127291 | SMIM1|chr1:4186851-4187351:.  |  0.023383787 | chr1 | 3772788 | 3772789 | SMIM1  | FALSE | ⋯ | 0.55 | 0.80 | 0.90 | 0.9500000 |  1 | TRUE | K562 | Gasperini et al., 2019 | FALSE | Gasperini2019 |\n",
       "\n"
      ],
      "text/plain": [
       "  chrom chromStart chromEnd name                          EffectSize   chrTSS\n",
       "1 chr1  3774714    3775214  CEP104|chr1:3691278-3691778:* -0.293431866 chr1  \n",
       "2 chr1  3774714    3775214  LRRC47|chr1:3691278-3691778:* -0.331178093 chr1  \n",
       "3 chr1  3803570    3805848  LRRC47|chr1:3720134-3722412:. -0.001471265 chr1  \n",
       "4 chr1  3774714    3775214  SMIM1|chr1:3691278-3691778:*  -0.472019217 chr1  \n",
       "5 chr1  3803570    3805848  SMIM1|chr1:3720134-3722412:.   0.025676924 chr1  \n",
       "6 chr1  4126791    4127291  SMIM1|chr1:4186851-4187351:.   0.023383787 chr1  \n",
       "  startTSS endTSS  measuredGeneSymbol Significant ⋯ PowerAtEffectSize10\n",
       "1 3857213  3857214 CEP104              TRUE       ⋯   NA               \n",
       "2 3796503  3796504 LRRC47              TRUE       ⋯   NA               \n",
       "3 3796503  3796504 LRRC47             FALSE       ⋯ 0.40               \n",
       "4 3772761  3772762 SMIM1               TRUE       ⋯   NA               \n",
       "5 3772788  3772789 SMIM1              FALSE       ⋯ 0.80               \n",
       "6 3772788  3772789 SMIM1              FALSE       ⋯ 0.55               \n",
       "  PowerAtEffectSize15 PowerAtEffectSize20 PowerAtEffectSize25\n",
       "1   NA                  NA                0.8250936          \n",
       "2   NA                  NA                0.6089942          \n",
       "3 0.80                0.85                1.0000000          \n",
       "4   NA                  NA                0.6393323          \n",
       "5 0.85                1.00                1.0000000          \n",
       "6 0.80                0.90                0.9500000          \n",
       "  PowerAtEffectSize50 ValidConnection CellType Reference              Regulated\n",
       "1 NA                  TRUE            K562     Ulirsch2016             TRUE    \n",
       "2 NA                  TRUE            K562     Ulirsch2016             TRUE    \n",
       "3  1                  TRUE            K562     Gasperini et al., 2019 FALSE    \n",
       "4 NA                  TRUE            K562     Ulirsch2016             TRUE    \n",
       "5  1                  TRUE            K562     Gasperini et al., 2019 FALSE    \n",
       "6  1                  TRUE            K562     Gasperini et al., 2019 FALSE    \n",
       "  Dataset      \n",
       "1 FlowFISH_K562\n",
       "2 FlowFISH_K562\n",
       "3 Gasperini2019\n",
       "4 FlowFISH_K562\n",
       "5 Gasperini2019\n",
       "6 Gasperini2019"
      ]
     },
     "metadata": {},
     "output_type": "display_data"
    }
   ],
   "source": [
    "fdiry = file.path(FD_RES, \"source\", \"ENCODE_E2G\")\n",
    "fname = \"EPCrisprBenchmark_ensemble_data_GRCh38.filtered.tsv.gz\"\n",
    "fpath = file.path(fdiry, fname)\n",
    "\n",
    "dat = read_tsv(fpath, show_col_types = FALSE)\n",
    "\n",
    "dat_peak_encode_e2g_filter = dat\n",
    "print(dim(dat))\n",
    "head(dat)"
   ]
  },
  {
   "cell_type": "code",
   "execution_count": 7,
   "metadata": {},
   "outputs": [
    {
     "name": "stdout",
     "output_type": "stream",
     "text": [
      "[1] 24461     6\n"
     ]
    },
    {
     "data": {
      "text/html": [
       "<table class=\"dataframe\">\n",
       "<caption>A tibble: 6 × 6</caption>\n",
       "<thead>\n",
       "\t<tr><th scope=col>X1</th><th scope=col>X2</th><th scope=col>X3</th><th scope=col>X4</th><th scope=col>X5</th><th scope=col>X6</th></tr>\n",
       "\t<tr><th scope=col>&lt;chr&gt;</th><th scope=col>&lt;dbl&gt;</th><th scope=col>&lt;dbl&gt;</th><th scope=col>&lt;chr&gt;</th><th scope=col>&lt;dbl&gt;</th><th scope=col>&lt;chr&gt;</th></tr>\n",
       "</thead>\n",
       "<tbody>\n",
       "\t<tr><td>chr1</td><td> 11623</td><td> 12123</td><td>DDX11L1  </td><td>0</td><td>+</td></tr>\n",
       "\t<tr><td>chr1</td><td> 29120</td><td> 29620</td><td>WASH7P   </td><td>0</td><td>-</td></tr>\n",
       "\t<tr><td>chr1</td><td> 35831</td><td> 36331</td><td>FAM138A  </td><td>0</td><td>-</td></tr>\n",
       "\t<tr><td>chr1</td><td> 35831</td><td> 36331</td><td>FAM138F  </td><td>0</td><td>-</td></tr>\n",
       "\t<tr><td>chr1</td><td> 68840</td><td> 69340</td><td>OR4F5    </td><td>0</td><td>+</td></tr>\n",
       "\t<tr><td>chr1</td><td>140316</td><td>140816</td><td>LOC729737</td><td>0</td><td>-</td></tr>\n",
       "</tbody>\n",
       "</table>\n"
      ],
      "text/latex": [
       "A tibble: 6 × 6\n",
       "\\begin{tabular}{llllll}\n",
       " X1 & X2 & X3 & X4 & X5 & X6\\\\\n",
       " <chr> & <dbl> & <dbl> & <chr> & <dbl> & <chr>\\\\\n",
       "\\hline\n",
       "\t chr1 &  11623 &  12123 & DDX11L1   & 0 & +\\\\\n",
       "\t chr1 &  29120 &  29620 & WASH7P    & 0 & -\\\\\n",
       "\t chr1 &  35831 &  36331 & FAM138A   & 0 & -\\\\\n",
       "\t chr1 &  35831 &  36331 & FAM138F   & 0 & -\\\\\n",
       "\t chr1 &  68840 &  69340 & OR4F5     & 0 & +\\\\\n",
       "\t chr1 & 140316 & 140816 & LOC729737 & 0 & -\\\\\n",
       "\\end{tabular}\n"
      ],
      "text/markdown": [
       "\n",
       "A tibble: 6 × 6\n",
       "\n",
       "| X1 &lt;chr&gt; | X2 &lt;dbl&gt; | X3 &lt;dbl&gt; | X4 &lt;chr&gt; | X5 &lt;dbl&gt; | X6 &lt;chr&gt; |\n",
       "|---|---|---|---|---|---|\n",
       "| chr1 |  11623 |  12123 | DDX11L1   | 0 | + |\n",
       "| chr1 |  29120 |  29620 | WASH7P    | 0 | - |\n",
       "| chr1 |  35831 |  36331 | FAM138A   | 0 | - |\n",
       "| chr1 |  35831 |  36331 | FAM138F   | 0 | - |\n",
       "| chr1 |  68840 |  69340 | OR4F5     | 0 | + |\n",
       "| chr1 | 140316 | 140816 | LOC729737 | 0 | - |\n",
       "\n"
      ],
      "text/plain": [
       "  X1   X2     X3     X4        X5 X6\n",
       "1 chr1  11623  12123 DDX11L1   0  + \n",
       "2 chr1  29120  29620 WASH7P    0  - \n",
       "3 chr1  35831  36331 FAM138A   0  - \n",
       "4 chr1  35831  36331 FAM138F   0  - \n",
       "5 chr1  68840  69340 OR4F5     0  + \n",
       "6 chr1 140316 140816 LOC729737 0  - "
      ]
     },
     "metadata": {},
     "output_type": "display_data"
    }
   ],
   "source": [
    "fdiry = file.path(FD_RES, \"source\", \"ENCODE_E2G\")\n",
    "fname = \"RefSeqCurated.170308.bed.CollapsedGeneBounds.hg38.TSS500bp.bed\"\n",
    "fpath = file.path(fdiry, fname)\n",
    "\n",
    "dat = read_tsv(fpath, col_names=FALSE, show_col_types = FALSE)\n",
    "\n",
    "dat_gene_tss = dat\n",
    "print(dim(dat))\n",
    "head(dat)"
   ]
  },
  {
   "cell_type": "markdown",
   "metadata": {},
   "source": [
    "**Check data imported**"
   ]
  },
  {
   "cell_type": "code",
   "execution_count": 5,
   "metadata": {},
   "outputs": [
    {
     "name": "stdout",
     "output_type": "stream",
     "text": [
      "dataset \n",
      "chrom \n",
      "chromStart \n",
      "chromEnd \n",
      "name \n",
      "EffectSize \n",
      "chrTSS \n",
      "startTSS \n",
      "endTSS \n",
      "measuredGeneSymbol \n",
      "Significant \n",
      "pValueAdjusted \n",
      "PowerAtEffectSize25 \n",
      "ValidConnection \n",
      "CellType \n",
      "Reference \n",
      "Regulated \n",
      "PowerAtEffectSize10 \n",
      "PowerAtEffectSize15 \n",
      "PowerAtEffectSize20 \n",
      "PowerAtEffectSize50 \n",
      "pair_uid \n",
      "merged_uid \n",
      "merged_start \n",
      "merged_end \n"
     ]
    }
   ],
   "source": [
    "dat = dat_peak_encode_e2g_import\n",
    "for (txt in colnames(dat)){cat(txt, \"\\n\")}"
   ]
  },
  {
   "cell_type": "code",
   "execution_count": 6,
   "metadata": {},
   "outputs": [
    {
     "name": "stdout",
     "output_type": "stream",
     "text": [
      "chrom \n",
      "chromStart \n",
      "chromEnd \n",
      "name \n",
      "EffectSize \n",
      "chrTSS \n",
      "startTSS \n",
      "endTSS \n",
      "measuredGeneSymbol \n",
      "Significant \n",
      "pValueAdjusted \n",
      "PowerAtEffectSize10 \n",
      "PowerAtEffectSize15 \n",
      "PowerAtEffectSize20 \n",
      "PowerAtEffectSize25 \n",
      "PowerAtEffectSize50 \n",
      "ValidConnection \n",
      "CellType \n",
      "Reference \n",
      "Regulated \n",
      "Dataset \n"
     ]
    }
   ],
   "source": [
    "dat = dat_peak_encode_e2g_filter\n",
    "for (txt in colnames(dat)){cat(txt, \"\\n\")}"
   ]
  },
  {
   "cell_type": "markdown",
   "metadata": {},
   "source": [
    "## Explore before and after filtering"
   ]
  },
  {
   "cell_type": "code",
   "execution_count": 10,
   "metadata": {},
   "outputs": [
    {
     "name": "stdout",
     "output_type": "stream",
     "text": [
      "\n",
      "================\n",
      "#{Rows}: \n",
      "10412 \n",
      "\n",
      "================\n",
      "#{Valid Connections}: \n",
      "\n",
      " TRUE \n",
      "10412 \n",
      "\n",
      "================\n",
      "#{Regulated}: \n",
      "\n",
      "FALSE  TRUE \n",
      " 9924   487 \n"
     ]
    }
   ],
   "source": [
    "dat = dat_peak_encode_e2g_import\n",
    "\n",
    "cat(\"\\n================\\n\")\n",
    "cat(\"#{Rows}:\", \"\\n\")\n",
    "cat(nrow(dat),  \"\\n\")\n",
    "\n",
    "cat(\"\\n================\\n\")\n",
    "cat(\"#{Valid Connections}:\", \"\\n\")\n",
    "print(table(dat$ValidConnection))\n",
    "\n",
    "cat(\"\\n================\\n\")\n",
    "cat(\"#{Regulated}:\", \"\\n\")\n",
    "print(table(dat$Regulated))"
   ]
  },
  {
   "cell_type": "markdown",
   "metadata": {},
   "source": [
    "**Script shared by Andreas from ENCODE distal regulatory working group**\n",
    "```\n",
    "library(tidyverse)\n",
    "\n",
    "# load CRISPR data and gene (TSS) universe files\n",
    "crispr <- read_tsv(\"resources/crispr_data/EPCrisprBenchmark_ensemble_data_GRCh38.tsv.gz\")\n",
    "genes <- read_tsv(\"resources/genome_annotations/RefSeqCurated.170308.bed.CollapsedGeneBounds.hg38.TSS500bp.bed\",\n",
    "                  col_names = FALSE)\n",
    "\n",
    "# filter crispr data for valid connections (e.g. no promoters) and only retaun E-G pairs from genes\n",
    "# in gene universe\n",
    "crispr <- filter(crispr, ValidConnection == TRUE, measuredGeneSymbol %in% genes$X4)\n",
    "\n",
    "# this filtered dataset now has the 472 positives from the distal regulation paper\n",
    "table(crispr$Regulated)\n",
    "```"
   ]
  },
  {
   "cell_type": "markdown",
   "metadata": {},
   "source": [
    "**Reproduce the filtering**"
   ]
  },
  {
   "cell_type": "code",
   "execution_count": 11,
   "metadata": {},
   "outputs": [
    {
     "name": "stdout",
     "output_type": "stream",
     "text": [
      "#{Regulated}: \n"
     ]
    },
    {
     "data": {
      "text/plain": [
       "\n",
       "FALSE  TRUE \n",
       " 9903   472 "
      ]
     },
     "metadata": {},
     "output_type": "display_data"
    }
   ],
   "source": [
    "dat = dat_peak_encode_e2g_import\n",
    "\n",
    "### filter crispr data for valid connections (e.g. no promoters) and \n",
    "### only retaun E-G pairs from genes in gene universe\n",
    "dat = dat %>% dplyr::filter(\n",
    "    ValidConnection == TRUE, \n",
    "    measuredGeneSymbol %in% dat_gene_tss$X4)\n",
    "\n",
    "### show results\n",
    "cat(\"#{Regulated}:\", \"\\n\")\n",
    "table(dat$Regulated)"
   ]
  },
  {
   "cell_type": "markdown",
   "metadata": {},
   "source": [
    "**Compared to the file shared by ENCODE distal regulatory working group**"
   ]
  },
  {
   "cell_type": "code",
   "execution_count": 12,
   "metadata": {},
   "outputs": [
    {
     "name": "stdout",
     "output_type": "stream",
     "text": [
      "#{Regulated}: \n"
     ]
    },
    {
     "data": {
      "text/plain": [
       "\n",
       "FALSE  TRUE \n",
       " 9903   472 "
      ]
     },
     "metadata": {},
     "output_type": "display_data"
    }
   ],
   "source": [
    "dat = dat_peak_encode_e2g_filter\n",
    "\n",
    "### show results\n",
    "cat(\"#{Regulated}:\", \"\\n\")\n",
    "table(dat$Regulated)"
   ]
  }
 ],
 "metadata": {
  "kernelspec": {
   "display_name": "R",
   "language": "R",
   "name": "ir"
  },
  "language_info": {
   "codemirror_mode": "r",
   "file_extension": ".r",
   "mimetype": "text/x-r-source",
   "name": "R",
   "pygments_lexer": "r",
   "version": "4.3.0"
  }
 },
 "nbformat": 4,
 "nbformat_minor": 4
}
