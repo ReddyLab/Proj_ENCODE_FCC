{
 "cells": [
  {
   "cell_type": "markdown",
   "id": "fb7f5265-8100-4dea-986e-58345b620c94",
   "metadata": {},
   "source": [
    "**Set environment**"
   ]
  },
  {
   "cell_type": "code",
   "execution_count": 1,
   "id": "6d137c85-6a00-41a1-8857-626b09e53b2d",
   "metadata": {},
   "outputs": [
    {
     "name": "stdout",
     "output_type": "stream",
     "text": [
      "You are on Duke Server: HARDAC\n",
      "BASE DIRECTORY (FD_BASE): /data/reddylab/Kuei\n",
      "WORK DIRECTORY (FD_WORK): /data/reddylab/Kuei/out\n",
      "CODE DIRECTORY (FD_CODE): /data/reddylab/Kuei/code\n",
      "SING DIRECTORY (FD_SING): /data/reddylab/Kuei/singularity\n",
      "PATH OF PROJECT (FD_PRJ): /data/reddylab/Kuei/code/Proj_CombEffect_ENCODE_FCC\n",
      "PATH OF RESULTS (FD_RES): /data/reddylab/Kuei/out/proj_combeffect_encode_fcc\n",
      "PATH OF LOG     (FD_LOG): /data/reddylab/Kuei/out/proj_combeffect_encode_fcc/log\n",
      "\n"
     ]
    }
   ],
   "source": [
    "### set env\n",
    "source ../config/config_duke.sh\n",
    "show_env"
   ]
  },
  {
   "cell_type": "code",
   "execution_count": 2,
   "id": "e642c778-8b5b-4811-bdb7-0c6e8ffa0b31",
   "metadata": {},
   "outputs": [
    {
     "name": "stdout",
     "output_type": "stream",
     "text": [
      "\u001b[0m\u001b[38;5;34m/data/reddylab/Kuei/out/proj_combeffect_encode_fcc/source/annotation_enhancer_junke_zscore_230420/deep_ATAC_STARR_seq.genomic_bin_100_sliding_10/ATAC_STARR_seq/bin_level/bin_level_all_result.bed.gz\u001b[0m\u001b[K\n",
      "\n",
      "5620408\n",
      "\n",
      "chr1\t17410\t17510\tbin_1\t-2.66401080305141\t+\t0.0364232649096391\t0.0852163817224699\t-1.5737764045776406\tN\tinactive\t54\t105\t126\t101\t114\t117\t0\t2\t5\t10\n",
      "chr1\t28980\t29080\tbin_2\t-4.31449599567096\t+\t0.141784161069711\t0.251431928187192\t-2.7383300669952475\tN\tinactive\t17\t106\t130\t106\t114\t115\t0\t1\t0\t14\n",
      "chr1\t28990\t29090\tbin_3\t-4.31749416265685\t+\t0.141949772014686\t0.251659073374474\t-2.7404455215049706\tN\tinactive\t17\t107\t130\t106\t114\t115\t0\t1\t0\t14\n",
      "chr1\t29000\t29100\tbin_4\t-4.320510829692\t+\t0.141905669706517\t0.251599297810174\t-2.742574029327875\tN\tinactive\t17\t107\t130\t107\t114\t115\t0\t1\t0\t14\n",
      "chr1\t29010\t29110\tbin_5\t-4.32846907661187\t+\t0.130725741816099\t0.236031857968511\t-2.748189230020617\tN\tinactive\t18\t108\t131\t107\t114\t115\t0\t1\t0\t14\n",
      "chr1\t29020\t29120\tbin_6\t-4.3217946878718\t+\t0.131352978489525\t0.236916477582406\t-2.743479897342927\tN\tinactive\t18\t108\t131\t107\t114\t115\t0\t1\t0\t15\n",
      "chr1\t29030\t29130\tbin_7\t-4.3217946878718\t+\t0.131352978489525\t0.236916477582406\t-2.743479897342927\tN\tinactive\t18\t108\t131\t107\t114\t115\t0\t1\t0\t15\n",
      "chr1\t29040\t29140\tbin_8\t-4.3217946878718\t+\t0.131352978489525\t0.236916477582406\t-2.743479897342927\tN\tinactive\t18\t108\t131\t107\t114\t115\t0\t1\t0\t15\n",
      "chr1\t29050\t29150\tbin_9\t-4.32478073591837\t+\t0.131315847007927\t0.236864251404284\t-2.745586800939723\tN\tinactive\t18\t108\t131\t108\t114\t115\t0\t1\t0\t15\n",
      "chr1\t29060\t29160\tbin_10\t-4.32478073591837\t+\t0.131315847007927\t0.236864251404284\t-2.745586800939723\tN\tinactive\t18\t108\t131\t108\t114\t115\t0\t1\t0\t15\n"
     ]
    }
   ],
   "source": [
    "FDIRY=${FD_RES}/source\n",
    "\n",
    "FOLDR=annotation_enhancer_junke_zscore_230420\n",
    "FDIRY=${FDIRY}/${FOLDR}\n",
    "\n",
    "FOLDR=deep_ATAC_STARR_seq.genomic_bin_100_sliding_10\n",
    "FDIRY=${FDIRY}/${FOLDR}\n",
    "\n",
    "FOLDR=ATAC_STARR_seq\n",
    "FDIRY=${FDIRY}/${FOLDR}\n",
    "\n",
    "FOLDR=bin_level\n",
    "FDIRY=${FDIRY}/${FOLDR}\n",
    "\n",
    "FNAME=bin_level_all_result.bed.gz\n",
    "FPATH=${FDIRY}/${FNAME}\n",
    "\n",
    "ls ${FPATH}\n",
    "echo\n",
    "zcat ${FPATH} | wc -l\n",
    "echo\n",
    "zcat ${FPATH} | head"
   ]
  },
  {
   "cell_type": "markdown",
   "id": "9707c415-0df8-4c65-8d00-d9d5f61b3793",
   "metadata": {},
   "source": [
    "* bin_level/bin_level_all_result.bed.gz\n",
    "* element_level/element_level_all_result.bed.gz\n",
    "\n",
    "```\n",
    "- Seqnames\n",
    "- Start\n",
    "- End\n",
    "- Name\n",
    "- logFC\n",
    "- Strand\n",
    "- Raw p-value for logFC between RNA and DNA libraries\n",
    "- Adjusted p-value for logFC between RNA and DNA libraries\n",
    "- Z-score\n",
    "- Whether the bin is considered as negative control region; ‘Y’ indicates it is considered as negative control\n",
    "- Enhancer call class for the bin\n",
    "- Raw count of DNA and RNA libraries\n",
    "```"
   ]
  },
  {
   "cell_type": "code",
   "execution_count": 3,
   "id": "6c33a099-d82f-4811-923a-13a65b4aa56f",
   "metadata": {},
   "outputs": [
    {
     "name": "stdout",
     "output_type": "stream",
     "text": [
      "\u001b[0m\u001b[38;5;34m/data/reddylab/Kuei/out/proj_combeffect_encode_fcc/source/annotation_enhancer_junke_zscore_230420/deep_ATAC_STARR_seq.genomic_bin_100_sliding_10/ATAC_STARR_seq/bin_level/bin_level_all_result.bed.gz\u001b[0m\u001b[K\n",
      "\n",
      "chr1\t115710\t115810\tbin_59\t0.488572939976538\t-\t0.0494318585308272\t0.109071399098828\t0.650631884838429\tN\tinactive\t145\t190\t215\t190\t208\t161\t21\t53\t54\t72\n",
      "chr1\t115720\t115820\tbin_61\t0.344825933065463\t-\t0.20866546748985\t0.338232419737616\t0.5492064954387383\tN\tinactive\t132\t169\t194\t170\t189\t144\t18\t43\t43\t64\n",
      "chr1\t115730\t115830\tbin_63\t0.249383142479579\t+\t0.441324871085628\t0.5858410419082\t0.4818637214319384\tN\tinactive\t132\t167\t217\t176\t199\t159\t22\t44\t43\t52\n",
      "chr1\t115730\t115830\tbin_64\t0.399196858523378\t-\t0.109188715315645\t0.204992193295846\t0.5875696753413435\tN\tinactive\t147\t190\t221\t189\t213\t189\t41\t47\t49\t64\n",
      "chr1\t115740\t115840\tbin_65\t0.201335693587275\t+\t0.489442923072408\t0.629799310960666\t0.44796227667644267\tN\tinactive\t109\t142\t176\t150\t162\t142\t21\t37\t32\t45\n",
      "chr1\t115740\t115840\tbin_66\t0.33711287381878\t-\t0.199192716207137\t0.3265277102148\t0.5437642949062316\tN\tinactive\t131\t166\t200\t168\t186\t154\t31\t41\t42\t54\n",
      "chr1\t115750\t115850\tbin_67\t0.23340999007543\t-\t0.452647630053691\t0.596362040063265\t0.47059334274827214\tN\tinactive\t123\t125\t158\t139\t142\t129\t21\t34\t29\t42\n",
      "chr1\t115750\t115850\tbin_68\t0.362093286329202\t+\t0.245930709451309\t0.382807377821435\t0.5613900397525352\tN\tinactive\t98\t158\t185\t152\t173\t141\t31\t41\t36\t53\n",
      "chr1\t115760\t115860\tbin_69\t0.223662105881115\t-\t0.463018502669129\t0.605872017561687\t0.4637154051029818\tN\tinactive\t117\t118\t143\t131\t132\t121\t21\t31\t27\t38\n",
      "chr1\t115760\t115860\tbin_70\t0.412170800428383\t+\t0.22488725872213\t0.35793312489644\t0.5967238632304738\tN\tinactive\t85\t147\t174\t147\t164\t129\t31\t41\t34\t52\n",
      "chr1\t115770\t115870\tbin_71\t0.257001715190871\t-\t0.442953867055868\t0.587364504911627\t0.4872392539074819\tN\tinactive\t111\t109\t136\t126\t126\t116\t21\t30\t26\t37\n",
      "chr1\t115770\t115870\tbin_72\t0.404371258041232\t+\t0.247194740350998\t0.384265732689529\t0.5912206416973426\tN\tinactive\t81\t138\t167\t142\t154\t117\t28\t37\t33\t50\n",
      "chr1\t136400\t136500\tbin_100\t-0.260239223528421\t+\t0.647962175225128\t0.760969442704776\t0.12228303846767441\tN\tinactive\t71\t102\t123\t101\t129\t94\t13\t20\t18\t13\n"
     ]
    }
   ],
   "source": [
    "FDIRY=${FD_RES}/source\n",
    "\n",
    "FOLDR=annotation_enhancer_junke_zscore_230420\n",
    "FDIRY=${FDIRY}/${FOLDR}\n",
    "\n",
    "FOLDR=deep_ATAC_STARR_seq.genomic_bin_100_sliding_10\n",
    "FDIRY=${FDIRY}/${FOLDR}\n",
    "\n",
    "FOLDR=ATAC_STARR_seq\n",
    "FDIRY=${FDIRY}/${FOLDR}\n",
    "\n",
    "FOLDR=bin_level\n",
    "FDIRY=${FDIRY}/${FOLDR}\n",
    "\n",
    "FNAME=bin_level_all_result.bed.gz\n",
    "FPATH=${FDIRY}/${FNAME}\n",
    "\n",
    "ls ${FPATH}\n",
    "echo\n",
    "zcat ${FPATH} | head -n 100 | awk '{ if (($5 <= 0.5) && ($5 >= -0.5)) { print } }'"
   ]
  },
  {
   "cell_type": "code",
   "execution_count": 5,
   "id": "ac2d826f-646a-4ef9-8f8a-87610994ce72",
   "metadata": {},
   "outputs": [
    {
     "name": "stdout",
     "output_type": "stream",
     "text": [
      "description.tsv\n",
      "\u001b[0m\u001b[38;5;9menhancer_zscore_junke.inactive.ASTARR.bed.gz\u001b[0m\n",
      "\u001b[38;5;9menhancer_zscore_junke.inactive.LMPRA.bed.gz\u001b[0m\n",
      "\u001b[38;5;9menhancer_zscore_junke.inactive.merge.ASTARR.bed.gz\u001b[0m\n",
      "\u001b[38;5;9menhancer_zscore_junke.inactive.merge.LMPRA.bed.gz\u001b[0m\n",
      "\u001b[38;5;9menhancer_zscore_junke.inactive.merge.TMPRA.bed.gz\u001b[0m\n",
      "\u001b[38;5;9menhancer_zscore_junke.inactive.merge.WSTARR.bed.gz\u001b[0m\n",
      "\u001b[38;5;9menhancer_zscore_junke.inactive.TMPRA.bed.gz\u001b[0m\n",
      "\u001b[38;5;9menhancer_zscore_junke.inactive.TMPRA_OL13.bed.gz\u001b[0m\n",
      "\u001b[38;5;9menhancer_zscore_junke.inactive.TMPRA_OL43.bed.gz\u001b[0m\n",
      "\u001b[38;5;9menhancer_zscore_junke.inactive.TMPRA_OL45.bed.gz\u001b[0m\n",
      "\u001b[38;5;9menhancer_zscore_junke.inactive.WSTARR.bed.gz\u001b[0m\n",
      "\u001b[38;5;9menhancer_zscore_junke.peak.ASTARR_AB.bed.gz\u001b[0m\n",
      "\u001b[38;5;9menhancer_zscore_junke.peak.ASTARR_A.bed.gz\u001b[0m\n",
      "\u001b[38;5;9menhancer_zscore_junke.peak.ASTARR_R.bed.gz\u001b[0m\n",
      "\u001b[38;5;9menhancer_zscore_junke.peak.LMPRA_AB.bed.gz\u001b[0m\n",
      "\u001b[38;5;9menhancer_zscore_junke.peak.LMPRA_A.bed.gz\u001b[0m\n",
      "\u001b[38;5;9menhancer_zscore_junke.peak.LMPRA_R.bed.gz\u001b[0m\n",
      "\u001b[38;5;9menhancer_zscore_junke.peak.TMPRA_A.bed.gz\u001b[0m\n",
      "\u001b[38;5;9menhancer_zscore_junke.peak.TMPRA_R.bed.gz\u001b[0m\n",
      "\u001b[38;5;9menhancer_zscore_junke.peak.WSTARR_AB.bed.gz\u001b[0m\n",
      "\u001b[38;5;9menhancer_zscore_junke.peak.WSTARR_A.bed.gz\u001b[0m\n",
      "\u001b[38;5;9menhancer_zscore_junke.peak.WSTARR_R.bed.gz\u001b[0m\n"
     ]
    }
   ],
   "source": [
    "ls ${FD_RES}/results/region/annotation_enhancer_junke_zscore"
   ]
  },
  {
   "cell_type": "code",
   "execution_count": 6,
   "id": "3a4c480d-352a-4fd9-bace-f785fa439dd3",
   "metadata": {},
   "outputs": [
    {
     "name": "stdout",
     "output_type": "stream",
     "text": [
      "ASTARR\n",
      "\n",
      "/data/reddylab/Kuei/out/proj_combeffect_encode_fcc/source/annotation_enhancer_junke_zscore_230420/deep_ATAC_STARR_seq.genomic_bin_100_sliding_10/ATAC_STARR_seq/bin_level/bin_level_all_result.bed.gz\n",
      "\n",
      "/data/reddylab/Kuei/out/proj_combeffect_encode_fcc/results/region/annotation_enhancer_junke_zscore/enhancer_zscore_junke.inactive.ASTARR.bed.gz\n",
      "\n",
      "WSTARR\n",
      "\n",
      "/data/reddylab/Kuei/out/proj_combeffect_encode_fcc/source/annotation_enhancer_junke_zscore_230420/WHG_STARR_TR/WHG_STARR_TR/bin_level/bin_level_all_result.bed.gz\n",
      "\n",
      "/data/reddylab/Kuei/out/proj_combeffect_encode_fcc/results/region/annotation_enhancer_junke_zscore/enhancer_zscore_junke.inactive.WSTARR.bed.gz\n",
      "\n",
      "LMPRA\n",
      "\n",
      "/data/reddylab/Kuei/out/proj_combeffect_encode_fcc/source/annotation_enhancer_junke_zscore_230420/lentiMPRA/lentiMPRA/element_level/element_level_all_result.bed.gz\n",
      "\n",
      "/data/reddylab/Kuei/out/proj_combeffect_encode_fcc/results/region/annotation_enhancer_junke_zscore/enhancer_zscore_junke.inactive.LMPRA.bed.gz\n",
      "\n",
      "TMPRA_OL43\n",
      "\n",
      "/data/reddylab/Kuei/out/proj_combeffect_encode_fcc/source/annotation_enhancer_junke_zscore_230420/tilingMPRA_GATA_MYC/z_score_processed/element_level/element_level_all_result.bed.gz\n",
      "\n",
      "/data/reddylab/Kuei/out/proj_combeffect_encode_fcc/results/region/annotation_enhancer_junke_zscore/enhancer_zscore_junke.inactive.TMPRA_OL43.bed.gz\n",
      "\n",
      "TMPRA_OL13\n",
      "\n",
      "/data/reddylab/Kuei/out/proj_combeffect_encode_fcc/source/annotation_enhancer_junke_zscore_230420/tilingMPRA_OL13/z_score_processed/element_level/element_level_all_result.bed.gz\n",
      "\n",
      "/data/reddylab/Kuei/out/proj_combeffect_encode_fcc/results/region/annotation_enhancer_junke_zscore/enhancer_zscore_junke.inactive.TMPRA_OL13.bed.gz\n",
      "\n",
      "TMPRA_OL45\n",
      "\n",
      "/data/reddylab/Kuei/out/proj_combeffect_encode_fcc/source/annotation_enhancer_junke_zscore_230420/tilingMPRA_OL45/z_score_processed/element_level/element_level_all_result.bed.gz\n",
      "\n",
      "/data/reddylab/Kuei/out/proj_combeffect_encode_fcc/results/region/annotation_enhancer_junke_zscore/enhancer_zscore_junke.inactive.TMPRA_OL45.bed.gz\n",
      "\n"
     ]
    }
   ],
   "source": [
    "FDIRY=${FD_RES}/source/annotation_enhancer_junke_zscore_230420\n",
    "FPATHS_BIN=($(ls ${FDIRY}/*/*/*/bin_level_all_result.bed.gz))\n",
    "FPATHS_ELE=($(ls ${dFDIRY}/*/*/*/element_level_all_result.bed.gz))\n",
    "FPATHS=(${FPATHS_BIN[@]} ${FPATHS_ELE[@]})\n",
    "\n",
    "FD_OUT=${FD_RES}/results/region/annotation_enhancer_zscore_junke\n",
    "for FPATH in ${FPATHS[@]}; do\n",
    "    ###\n",
    "    if [[ ${FPATH} == *\"ATAC_STARR\"* ]]; then\n",
    "        ASSAY=\"ASTARR\"\n",
    "    fi\n",
    "    if [[ ${FPATH} == *\"WHG_STARR\"* ]]; then\n",
    "        ASSAY=\"WSTARR\"\n",
    "    fi\n",
    "    if [[ ${FPATH} == *\"tilingMPRA_GATA_MYC\"* ]]; then\n",
    "        ASSAY=\"TMPRA_OL43\"\n",
    "    fi\n",
    "    if [[ ${FPATH} == *\"tilingMPRA_OL13\"* ]]; then\n",
    "        ASSAY=\"TMPRA_OL13\"\n",
    "    fi\n",
    "    if [[ ${FPATH} == *\"tilingMPRA_OL45\"* ]]; then\n",
    "        ASSAY=\"TMPRA_OL45\"\n",
    "    fi\n",
    "    if [[ ${FPATH} == *\"lentiMPRA\"* ]]; then\n",
    "        ASSAY=\"LMPRA\"\n",
    "    fi\n",
    "    \n",
    "    ###\n",
    "    FN_OUT=enhancer_zscore_junke.inactive.${ASSAY}.bed.gz\n",
    "    FP_OUT=${FD_OUT}/${FN_OUT}\n",
    "    \n",
    "    ###\n",
    "    echo ${ASSAY}\n",
    "    echo\n",
    "    echo ${FPATH}\n",
    "    echo\n",
    "    echo ${FP_OUT}\n",
    "    echo\n",
    "    zcat ${FPATH} \\\n",
    "    | awk '{ if (($5 <= 0.5) && ($5 >= -0.5)) { print } }' \\\n",
    "    | gzip -c \\\n",
    "    > ${FP_OUT}\n",
    "done"
   ]
  },
  {
   "cell_type": "markdown",
   "id": "b299bafe-6b49-42c2-9f27-2d961b3de5e4",
   "metadata": {},
   "source": [
    "**Check results**"
   ]
  },
  {
   "cell_type": "code",
   "execution_count": 12,
   "id": "18247147-2f75-4cde-8b1e-935e5a768aa4",
   "metadata": {},
   "outputs": [
    {
     "name": "stdout",
     "output_type": "stream",
     "text": [
      "chr11\t61554831\t61555030\t11:61554831-61555030_RC\t-0.139044748943671\t+\t0.575929260193856\t0.7051762107188124\t0.0459985158630967\tN\tinactive\t1086\t639\t945\t688\t251\t295\t651\t473\n",
      "chr11\t61554836\t61555035\t11:61554836-61555035_RC\t-0.0058448540342431\t+\t0.983362015244539\t0.9901940373231907\t0.14426988733989515\tN\tinactive\t741\t670\t898\t552\t188\t288\t599\t551\n",
      "chr11\t61554841\t61555040\t11:61554841-61555040_RC\t0.153798775957647\t+\t0.586268653011861\t0.7132949816649208\t0.2620507495358094\tN\tinactive\t592\t463\t660\t358\t235\t351\t278\t422\n"
     ]
    }
   ],
   "source": [
    "FDIRY=/data/reddylab/Kuei/out/proj_combeffect_encode_fcc/results/region/annotation_enhancer_zscore_junke\n",
    "FNAME=enhancer_zscore_junke.inactive.TMPRA_OL13.bed.gz\n",
    "FPATH=${FDIRY}/${FNAME}\n",
    "zcat ${FPATH} | head -n 3"
   ]
  },
  {
   "cell_type": "code",
   "execution_count": 13,
   "id": "ce0b6176-bcec-45e1-a786-5c6031a1ffce",
   "metadata": {},
   "outputs": [
    {
     "name": "stdout",
     "output_type": "stream",
     "text": [
      "chr8\t126736051\t126736250\t8:126736051-126736250\t0.328544156156728\t+\t4.93269338243716e-05\t0.0001341619361172007\t0.33665605058477577\tN\tinactive\t934.0\t1056.0\t988.0\t985.0\t1059.0\t672.0\t459.0\t859.0\t475.0\t676.0\n",
      "chr8\t126736151\t126736350\t8:126736151-126736350\t-0.343922866196315\t+\t6.36124755166534e-05\t0.00017038373542818444\t-0.5421567574462419\tN\tinactive\t1225.0\t1454.0\t1264.0\t1256.0\t1358.0\t422.0\t400.0\t751.0\t475.0\t493.0\n",
      "chr8\t126736201\t126736400\t8:126736201-126736400\t-0.454308567213953\t+\t0.0040731919869349\t0.008008535125970828\t-0.6864141926113729\tN\tinactive\t308.0\t391.0\t377.0\t363.0\t367.0\t166.0\t100.0\t162.0\t87.0\t153.0\n"
     ]
    }
   ],
   "source": [
    "FDIRY=/data/reddylab/Kuei/out/proj_combeffect_encode_fcc/results/region/annotation_enhancer_zscore_junke\n",
    "FNAME=enhancer_zscore_junke.inactive.TMPRA_OL43.bed.gz\n",
    "FPATH=${FDIRY}/${FNAME}\n",
    "zcat ${FPATH} | head -n 3"
   ]
  },
  {
   "cell_type": "code",
   "execution_count": 14,
   "id": "38d94117-36a3-478a-a17d-ce10ff406e55",
   "metadata": {},
   "outputs": [
    {
     "name": "stdout",
     "output_type": "stream",
     "text": [
      "chrchr11\t4505501\t4505700\tchr11:4505501-4505700\t0.359767510273463\t+\t0.0006939293761279\t0.0017939422627305547\t0.28432972226549613\tN\tinactive\t811\t664\t917\t815\t610\t643\t665\t612\t714\n",
      "chrchr11\t4505601\t4505800\tchr11:4505601-4505800\t-0.397333877210421\t+\t0.0029914914946628\t0.006711499764645601\t-0.6876530634227273\tN\tinactive\t693\t552\t607\t551\t489\t413\t204\t279\t395\n",
      "chrchr11\t4505701\t4505900\tchr11:4505701-4505900\t-0.232363478010316\t+\t0.100238440031957\t0.14943948949079558\t-0.47586057324712366\tN\tinactive\t577\t414\t448\t371\t389\t303\t241\t217\t291\n"
     ]
    }
   ],
   "source": [
    "FDIRY=/data/reddylab/Kuei/out/proj_combeffect_encode_fcc/results/region/annotation_enhancer_zscore_junke\n",
    "FNAME=enhancer_zscore_junke.inactive.TMPRA_OL45.bed.gz\n",
    "FPATH=${FDIRY}/${FNAME}\n",
    "zcat ${FPATH} | head -n 3"
   ]
  },
  {
   "cell_type": "code",
   "execution_count": null,
   "id": "f0f90987-637e-48dd-973c-c4d549aeec85",
   "metadata": {},
   "outputs": [],
   "source": []
  },
  {
   "cell_type": "code",
   "execution_count": null,
   "id": "a541c048-c488-40ec-a4cc-91ea6bd5f4c5",
   "metadata": {},
   "outputs": [],
   "source": []
  }
 ],
 "metadata": {
  "kernelspec": {
   "display_name": "Bash",
   "language": "bash",
   "name": "bash"
  },
  "language_info": {
   "codemirror_mode": "shell",
   "file_extension": ".sh",
   "mimetype": "text/x-sh",
   "name": "bash"
  }
 },
 "nbformat": 4,
 "nbformat_minor": 5
}
