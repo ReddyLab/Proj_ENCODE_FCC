{
 "cells": [
  {
   "cell_type": "code",
   "execution_count": 1,
   "id": "944fe477-d878-4144-927c-9acc433a939f",
   "metadata": {},
   "outputs": [
    {
     "name": "stdout",
     "output_type": "stream",
     "text": [
      "You are on Duke Server: HARDAC\n",
      "BASE DIRECTORY (FD_BASE): /data/reddylab/Kuei\n",
      "WORK DIRECTORY (FD_WORK): /data/reddylab/Kuei/out\n",
      "CODE DIRECTORY (FD_CODE): /data/reddylab/Kuei/code\n",
      "SING DIRECTORY (FD_SING): /data/reddylab/Kuei/singularity\n",
      "PATH OF PROJECT (FD_PRJ): /data/reddylab/Kuei/code/Proj_CombEffect_ENCODE_FCC\n",
      "PATH OF RESULTS (FD_RES): /data/reddylab/Kuei/out/proj_combeffect_encode_fcc\n",
      "PATH OF LOG     (FD_LOG): /data/reddylab/Kuei/out/proj_combeffect_encode_fcc/log\n",
      "\n"
     ]
    }
   ],
   "source": [
    "source ../config/config_duke.sh\n",
    "show_env"
   ]
  },
  {
   "cell_type": "code",
   "execution_count": 2,
   "id": "1cf074b6-bd6f-498d-99a0-9dc06075158e",
   "metadata": {},
   "outputs": [
    {
     "name": "stdout",
     "output_type": "stream",
     "text": [
      "\u001b[0m\u001b[38;5;27mlog\u001b[0m        \u001b[38;5;27mresults\u001b[0m            \u001b[38;5;9mresults_v2.tar.gz\u001b[0m  \u001b[38;5;27msource\u001b[0m\n",
      "Readme.md  \u001b[38;5;9mresults_v1.tar.gz\u001b[0m  \u001b[38;5;27mresults_v3\u001b[0m\n"
     ]
    }
   ],
   "source": [
    "ls ${FD_RES}"
   ]
  },
  {
   "cell_type": "code",
   "execution_count": 3,
   "id": "aac8f3d9-545c-4f73-be16-487dadcc303d",
   "metadata": {},
   "outputs": [
    {
     "name": "stdout",
     "output_type": "stream",
     "text": [
      "\u001b[0m\u001b[38;5;27mA001_K562_wstarrseq_fragments\u001b[0m      \u001b[38;5;27mCRISPRi_FlowFISH\u001b[0m\n",
      "\u001b[38;5;27mA001_K562_wstarrseq_fragments_wgs\u001b[0m  \u001b[38;5;27mhic_intact_ENCSR479XDG\u001b[0m\n",
      "\u001b[38;5;27mannotation_cCREs\u001b[0m                   \u001b[38;5;27mKS91_K562_astarrseq_fragments_220510\u001b[0m\n",
      "\u001b[38;5;27mannotation_chipseq\u001b[0m                 \u001b[38;5;27mKS91_K562_astarrseq_fragments_wgs\u001b[0m\n",
      "\u001b[38;5;27mannotation_chromHMM\u001b[0m                \u001b[38;5;27mKS91_K562_astarrseq_peak_macs\u001b[0m\n",
      "\u001b[38;5;27mannotation_enhancer_junke\u001b[0m          \u001b[38;5;27mMPRA\u001b[0m\n",
      "\u001b[38;5;27mannotation_remap2022\u001b[0m               \u001b[38;5;27mnegative_control_junke\u001b[0m\n",
      "chrom.sizes.hg19                   Readme.md\n",
      "chrom.sizes.hg38                   \u001b[38;5;27mtmp\u001b[0m\n"
     ]
    }
   ],
   "source": [
    "ls ${FD_RES}/source"
   ]
  },
  {
   "cell_type": "code",
   "execution_count": 4,
   "id": "58614889-6dc9-4a0e-8a60-0cca017b07bc",
   "metadata": {},
   "outputs": [
    {
     "name": "stdout",
     "output_type": "stream",
     "text": [
      "\u001b[0m\u001b[38;5;9mENCFF126GED.bedpe.gz\u001b[0m  \u001b[38;5;9mENCFF256ZMD.bedpe.gz\u001b[0m\n"
     ]
    }
   ],
   "source": [
    "ls ${FD_RES}/source/hic_intact_ENCSR479XDG"
   ]
  },
  {
   "cell_type": "markdown",
   "id": "4ff97bd3-5ffd-4c5e-b8c5-0f2258a745f1",
   "metadata": {},
   "source": [
    "**Loops**"
   ]
  },
  {
   "cell_type": "code",
   "execution_count": 5,
   "id": "74cdaaa3-e096-4506-a44d-8dff243a6df1",
   "metadata": {},
   "outputs": [
    {
     "name": "stdout",
     "output_type": "stream",
     "text": [
      "46006\n"
     ]
    }
   ],
   "source": [
    "zcat ${FD_RES}/source/hic_intact_ENCSR479XDG/ENCFF256ZMD.bedpe.gz | wc -l"
   ]
  },
  {
   "cell_type": "code",
   "execution_count": 6,
   "id": "1fd11628-4a43-4a39-b501-1ee903ab877a",
   "metadata": {},
   "outputs": [
    {
     "name": "stdout",
     "output_type": "stream",
     "text": [
      "#chr1\tx1\tx2\tchr2\ty1\ty2\tname\tscore\tstrand1\tstrand2\tcolor\tobserved\texpectedBL\texpectedDonut\texpectedH\texpectedV\tfdrBL\tfdrDonut\tfdrH\tfdrV\tnumCollapsed\tcentroid1\tcentroid2\tradius\thighRes_start_1\thighRes_end_1\thighRes_start_2\thighRes_end_2\tlocalX\tlocalY\tlocalObserved\tlocalPval\tlocalPeakID\n",
      "# juicer_tools version 2.13.07\n",
      "chr10\t102835000\t102836000\tchr10\t102901000\t102902000\t.\t.\t.\t.\t0,255,255\t16.0\t2.5453029\t2.0566912\t2.896359\t2.6027875\t0.0\t0.0\t5.9604645E-8\t0.0\t2\t102835000\t102901500\t500\t102834600\t102835200\t102901400\t102901700\t102834700\t102901500\t4.0\t2.17173181723318E-4\t0\n",
      "chr10\t123583000\t123584000\tchr10\t123967000\t123968000\t.\t.\t.\t.\t0,255,255\t17.0\t1.2294405\t1.126373\t1.5320965\t2.968846\t0.0\t0.0\t0.0\t0.0\t2\t123583000\t123967500\t500\tNA\tNA\tNA\tNA\tNA\tNA\tNA\tNA\tNA\n",
      "chr10\t60780000\t60782000\tchr10\t60828000\t60830000\t.\t.\t.\t.\t0,255,255\t16.0\t3.9354546\t3.6036625\t4.087633\t2.7198699\t3.993511E-6\t1.3113022E-6\t6.377697E-6\t5.9604645E-8\t1\t60781000\t60829000\t0\tNA\tNA\tNA\tNA\tNA\tNA\tNA\tNA\tNA\n",
      "chr10\t33050000\t33051000\tchr10\t33067000\t33068000\t.\t.\t.\t.\t0,255,255\t11.0\t1.8586187\t1.8435045\t1.302612\t2.001136\t4.23193E-6\t3.9339066E-6\t1.1920929E-7\t8.34465E-6\t1\t33050500\t33067500\t0\tNA\tNA\tNA\tNA\tNA\tNA\tNA\tNA\tNA\n",
      "chr10\t11412000\t11414000\tchr10\t11472000\t11474000\t.\t.\t.\t.\t0,255,255\t27.0\t5.0568876\t4.13146\t3.918301\t7.767662\t0.0\t0.0\t0.0\t5.9604645E-8\t1\t11413000\t11473000\t0\t11412000\t11412500\t11471700\t11472700\t11412200\t11472100\t10.0\t0.008861431153317945\t0\n",
      "chr10\t45005000\t45010000\tchr10\t45465000\t45470000\t.\t.\t.\t.\t0,255,255\t16.0\t3.658383\t2.8294744\t6.2742825\t2.340569\t1.6093254E-6\t5.9604645E-8\t8.097887E-4\t0.0\t2\t45007500\t45465000\t2500\tNA\tNA\tNA\tNA\tNA\tNA\tNA\tNA\tNA\n",
      "chr10\t120420000\t120430000\tchr10\t120600000\t120610000\t.\t.\t.\t.\t0,255,255\t29.0\t9.291821\t9.322407\t13.77734\t8.561912\t1.7881393E-7\t1.7881393E-7\t2.3120642E-4\t5.9604645E-8\t3\t120421666\t120595000\t12018\tNA\tNA\tNA\tNA\tNA\tNA\tNA\tNA\tNA\n",
      "chr10\t62437000\t62438000\tchr10\t63158000\t63159000\t.\t.\t.\t.\t0,255,255\t13.0\t1.353705\t0.9746326\t1.4709425\t1.4360862\t0.0\t0.0\t0.0\t0.0\t1\t62437500\t63158500\t0\tNA\tNA\tNA\tNA\tNA\tNA\tNA\tNA\tNA\n"
     ]
    }
   ],
   "source": [
    "zcat ${FD_RES}/source/hic_intact_ENCSR479XDG/ENCFF256ZMD.bedpe.gz | head"
   ]
  },
  {
   "cell_type": "code",
   "execution_count": 7,
   "id": "e0eabd9f-8113-46a3-a71e-5e1240c06fbc",
   "metadata": {},
   "outputs": [
    {
     "name": "stdout",
     "output_type": "stream",
     "text": [
      "#chr1\tx1\tx2\tchr2\ty1\ty2\tname\tscore\n",
      "# juicer_tools version 2.13.07\n",
      "chr10\t102835000\t102836000\tchr10\t102901000\t102902000\t.\t.\n",
      "chr10\t123583000\t123584000\tchr10\t123967000\t123968000\t.\t.\n",
      "chr10\t60780000\t60782000\tchr10\t60828000\t60830000\t.\t.\n",
      "chr10\t33050000\t33051000\tchr10\t33067000\t33068000\t.\t.\n",
      "chr10\t11412000\t11414000\tchr10\t11472000\t11474000\t.\t.\n",
      "chr10\t45005000\t45010000\tchr10\t45465000\t45470000\t.\t.\n",
      "chr10\t120420000\t120430000\tchr10\t120600000\t120610000\t.\t.\n",
      "chr10\t62437000\t62438000\tchr10\t63158000\t63159000\t.\t.\n"
     ]
    }
   ],
   "source": [
    "zcat ${FD_RES}/source/hic_intact_ENCSR479XDG/ENCFF256ZMD.bedpe.gz \\\n",
    "| cut -f 1-8 \\\n",
    "| head"
   ]
  },
  {
   "cell_type": "markdown",
   "id": "413602dd-3105-48a2-864b-046858dadbac",
   "metadata": {},
   "source": [
    "**TAD**"
   ]
  },
  {
   "cell_type": "code",
   "execution_count": 8,
   "id": "831efbf3-9863-4030-a86f-61947fc96403",
   "metadata": {},
   "outputs": [
    {
     "name": "stdout",
     "output_type": "stream",
     "text": [
      "4350\n"
     ]
    }
   ],
   "source": [
    "zcat ${FD_RES}/source/hic_intact_ENCSR479XDG/ENCFF126GED.bedpe.gz | wc -l"
   ]
  },
  {
   "cell_type": "code",
   "execution_count": 9,
   "id": "cc9c68f1-2684-46ec-a362-8121db6d013c",
   "metadata": {},
   "outputs": [
    {
     "name": "stdout",
     "output_type": "stream",
     "text": [
      "#chr1\tx1\tx2\tchr2\ty1\ty2\tname\tscore\tstrand1\tstrand2\tcolor\tscore\tuVarScore\tlVarScore\tupSign\tloSign\n",
      "# juicer_tools version 2.13.06\n",
      "chr10\t89790000\t90730000\tchr10\t89790000\t90730000\t.\t.\t.\t.\t255,255,0\t0.48733428805910184\t0.43218752937273686\t0.39101424267719964\t0.4366181410974244\t0.5132138857782754\n",
      "chr10\t117485000\t118260000\tchr10\t117485000\t118260000\t.\t.\t.\t.\t255,255,0\t0.47145995448002187\t0.40388060738386966\t0.40280872469677464\t0.44690992767915844\t0.4451019066403682\n",
      "chr10\t51125000\t52215000\tchr10\t51125000\t52215000\t.\t.\t.\t.\t255,255,0\t0.575707559391474\t0.38559880334456653\t0.3954850048221743\t0.47122602168473726\t0.40008340283569643\n",
      "chr10\t112495000\t113565000\tchr10\t112495000\t113565000\t.\t.\t.\t.\t255,255,0\t0.6096007256380153\t0.3796907769991358\t0.395265539295569\t0.5317583939079266\t0.46131879543094495\n",
      "chr10\t84540000\t86085000\tchr10\t84540000\t86085000\t.\t.\t.\t.\t255,255,0\t0.5786491314515995\t0.41194909350330966\t0.3597104580764071\t0.44241415192507805\t0.4804162330905307\n",
      "chr10\t94665000\t95075000\tchr10\t94665000\t95075000\t.\t.\t.\t.\t255,255,0\t0.6267518627735565\t0.3811023684762621\t0.3788707090932024\t0.5\t0.40185830429732866\n",
      "chr10\t30720000\t31805000\tchr10\t30720000\t31805000\t.\t.\t.\t.\t255,255,0\t0.5897210984514966\t0.35466875201487424\t0.39677175969377804\t0.42614258059085935\t0.5093847319249222\n",
      "chr10\t8520000\t9255000\tchr10\t8520000\t9255000\t.\t.\t.\t.\t255,255,0\t0.5208330939306567\t0.3801456620992116\t0.35339854389266234\t0.422936449963477\t0.5710372534696859\n"
     ]
    }
   ],
   "source": [
    "zcat ${FD_RES}/source/hic_intact_ENCSR479XDG/ENCFF126GED.bedpe.gz | head"
   ]
  },
  {
   "cell_type": "code",
   "execution_count": null,
   "id": "f5bba7df-0967-41be-ab35-3cca2e65a463",
   "metadata": {},
   "outputs": [],
   "source": []
  }
 ],
 "metadata": {
  "kernelspec": {
   "display_name": "Bash",
   "language": "bash",
   "name": "bash"
  },
  "language_info": {
   "codemirror_mode": "shell",
   "file_extension": ".sh",
   "mimetype": "text/x-sh",
   "name": "bash"
  }
 },
 "nbformat": 4,
 "nbformat_minor": 5
}
