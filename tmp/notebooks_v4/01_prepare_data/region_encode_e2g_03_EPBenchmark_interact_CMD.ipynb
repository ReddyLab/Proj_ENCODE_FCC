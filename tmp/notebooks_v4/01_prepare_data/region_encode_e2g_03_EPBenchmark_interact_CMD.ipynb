{
 "cells": [
  {
   "cell_type": "code",
   "execution_count": 1,
   "id": "0d159966-ffe8-4388-ba90-a5cfd71fc931",
   "metadata": {},
   "outputs": [
    {
     "name": "stdout",
     "output_type": "stream",
     "text": [
      "You are on Duke Server: HARDAC\n",
      "BASE DIRECTORY (FD_BASE): /data/reddylab/Kuei\n",
      "WORK DIRECTORY (FD_WORK): /data/reddylab/Kuei/out\n",
      "CODE DIRECTORY (FD_CODE): /data/reddylab/Kuei/code\n",
      "SING DIRECTORY (FD_SING): /data/reddylab/Kuei/singularity\n",
      "PATH OF PROJECT (FD_PRJ): /data/reddylab/Kuei/code/Proj_CombEffect_ENCODE_FCC\n",
      "PATH OF RESULTS (FD_RES): /data/reddylab/Kuei/out/proj_combeffect_encode_fcc\n",
      "PATH OF LOG     (FD_LOG): /data/reddylab/Kuei/out/proj_combeffect_encode_fcc/log\n",
      "\n"
     ]
    }
   ],
   "source": [
    "### set env\n",
    "source ../config/config_duke.sh\n",
    "show_env"
   ]
  },
  {
   "cell_type": "code",
   "execution_count": 2,
   "id": "1e21b0ae-3b8a-468f-9da1-fa2efd050b44",
   "metadata": {},
   "outputs": [
    {
     "name": "stdout",
     "output_type": "stream",
     "text": [
      "\u001b[0m\u001b[38;5;34m/data/common/shared_conda_envs/ucsc/bin/bedToBigBed\u001b[0m\n"
     ]
    }
   ],
   "source": [
    "FD_UCSC=/data/common/shared_conda_envs/ucsc/bin\n",
    "ls ${FD_UCSC}/bedToBigBed"
   ]
  },
  {
   "cell_type": "code",
   "execution_count": 3,
   "id": "f616dc91-4b3f-4715-b5a1-ece809dfc45d",
   "metadata": {},
   "outputs": [
    {
     "name": "stdout",
     "output_type": "stream",
     "text": [
      "/data/reddylab/Kuei/out/proj_combeffect_encode_fcc/source/chrom.sizes.hg38\n"
     ]
    }
   ],
   "source": [
    "FP_CHR=${FD_RES}/source/chrom.sizes.hg38\n",
    "ls ${FP_CHR}"
   ]
  },
  {
   "cell_type": "code",
   "execution_count": 4,
   "id": "795edd60-4ddb-4d7a-ae7d-50df9c93f148",
   "metadata": {},
   "outputs": [
    {
     "name": "stdout",
     "output_type": "stream",
     "text": [
      "description.tsv\n",
      "\u001b[0m\u001b[38;5;9mK562.EPCrisprBenchmark.active.bed.gz\u001b[0m\n",
      "\u001b[38;5;9mK562.EPCrisprBenchmark.active.merge.bed.gz\u001b[0m\n",
      "K562.EPCrisprBenchmark.active.region2TSS_Original.bed\n",
      "\u001b[38;5;9mK562.EPCrisprBenchmark.active.region2TSS_Original.bedpe.gz\u001b[0m\n",
      "K562.EPCrisprBenchmark.active.region2TSS_Original.bigInteract\n",
      "K562.EPCrisprBenchmark.active.region2TSS_Updated.bed\n",
      "\u001b[38;5;9mK562.EPCrisprBenchmark.active.region2TSS_Updated.bedpe.gz\u001b[0m\n",
      "K562.EPCrisprBenchmark.active.region2TSS_Updated.bigInteract\n",
      "\u001b[38;5;9mK562.EPCrisprBenchmark.total.bed.gz\u001b[0m\n",
      "\u001b[38;5;9mK562.EPCrisprBenchmark.total.merge.bed.gz\u001b[0m\n",
      "K562.EPCrisprBenchmark.total.region2TSS_Original.bed\n",
      "\u001b[38;5;9mK562.EPCrisprBenchmark.total.region2TSS_Original.bedpe.gz\u001b[0m\n",
      "K562.EPCrisprBenchmark.total.region2TSS_Original.bigInteract\n",
      "K562.EPCrisprBenchmark.total.region2TSS_Updated.bed\n",
      "\u001b[38;5;9mK562.EPCrisprBenchmark.total.region2TSS_Updated.bedpe.gz\u001b[0m\n",
      "K562.EPCrisprBenchmark.total.region2TSS_Updated.bigInteract\n",
      "\u001b[38;5;27mtmp\u001b[0m\n"
     ]
    }
   ],
   "source": [
    "ls ${FD_RES}/results/region/annotation_encode_e2g_benchmark"
   ]
  },
  {
   "cell_type": "code",
   "execution_count": 5,
   "id": "fb7dd395-d564-4c07-8364-8cc4d8e1e970",
   "metadata": {},
   "outputs": [
    {
     "name": "stdout",
     "output_type": "stream",
     "text": [
      "pass1 - making usageList (23 chroms): 1 millis\n",
      "pass2 - checking and writing primary data (472 records, 18 fields): 7 millis\n"
     ]
    }
   ],
   "source": [
    "FDIRY=${FD_RES}/results/region/annotation_encode_e2g_benchmark\n",
    "FP_INP=${FDIRY}/K562.EPCrisprBenchmark.active.region2TSS_Original.bed\n",
    "FP_OUT=${FDIRY}/K562.EPCrisprBenchmark.active.region2TSS_Original.bigInteract\n",
    "\n",
    "${FD_UCSC}/bedToBigBed \\\n",
    "    -as=interact.as \\\n",
    "    -type=bed5+13   \\\n",
    "    ${FP_INP} \\\n",
    "    ${FP_CHR} \\\n",
    "    ${FP_OUT}"
   ]
  },
  {
   "cell_type": "code",
   "execution_count": 6,
   "id": "b59c93bc-6b87-4a50-9cf8-b5a09e2dec11",
   "metadata": {},
   "outputs": [
    {
     "name": "stdout",
     "output_type": "stream",
     "text": [
      "pass1 - making usageList (23 chroms): 3 millis\n",
      "pass2 - checking and writing primary data (10294 records, 18 fields): 52 millis\n"
     ]
    }
   ],
   "source": [
    "FDIRY=${FD_RES}/results/region/annotation_encode_e2g_benchmark\n",
    "FP_INP=${FDIRY}/K562.EPCrisprBenchmark.total.region2TSS_Original.bed\n",
    "FP_OUT=${FDIRY}/K562.EPCrisprBenchmark.total.region2TSS_Original.bigInteract\n",
    "\n",
    "${FD_UCSC}/bedToBigBed \\\n",
    "    -as=interact.as \\\n",
    "    -type=bed5+13   \\\n",
    "    ${FP_INP} \\\n",
    "    ${FP_CHR} \\\n",
    "    ${FP_OUT}"
   ]
  },
  {
   "cell_type": "code",
   "execution_count": 7,
   "id": "a628d202-9567-4881-9a91-9a3bbc908c9d",
   "metadata": {},
   "outputs": [
    {
     "name": "stdout",
     "output_type": "stream",
     "text": [
      "pass1 - making usageList (23 chroms): 1 millis\n",
      "pass2 - checking and writing primary data (450 records, 18 fields): 8 millis\n"
     ]
    }
   ],
   "source": [
    "FDIRY=${FD_RES}/results/region/annotation_encode_e2g_benchmark\n",
    "FP_INP=${FDIRY}/K562.EPCrisprBenchmark.active.region2TSS_Updated.bed\n",
    "FP_OUT=${FDIRY}/K562.EPCrisprBenchmark.active.region2TSS_Updated.bigInteract\n",
    "\n",
    "${FD_UCSC}/bedToBigBed \\\n",
    "    -as=interact.as \\\n",
    "    -type=bed5+13   \\\n",
    "    ${FP_INP} \\\n",
    "    ${FP_CHR} \\\n",
    "    ${FP_OUT}"
   ]
  },
  {
   "cell_type": "code",
   "execution_count": 8,
   "id": "ddb67f6d-2f0a-4c9b-93bf-d996624e7d85",
   "metadata": {},
   "outputs": [
    {
     "name": "stdout",
     "output_type": "stream",
     "text": [
      "pass1 - making usageList (23 chroms): 3 millis\n",
      "pass2 - checking and writing primary data (9930 records, 18 fields): 50 millis\n"
     ]
    }
   ],
   "source": [
    "FDIRY=${FD_RES}/results/region/annotation_encode_e2g_benchmark\n",
    "FP_INP=${FDIRY}/K562.EPCrisprBenchmark.total.region2TSS_Updated.bed\n",
    "FP_OUT=${FDIRY}/K562.EPCrisprBenchmark.total.region2TSS_Updated.bigInteract\n",
    "\n",
    "${FD_UCSC}/bedToBigBed \\\n",
    "    -as=interact.as \\\n",
    "    -type=bed5+13   \\\n",
    "    ${FP_INP} \\\n",
    "    ${FP_CHR} \\\n",
    "    ${FP_OUT}"
   ]
  },
  {
   "cell_type": "code",
   "execution_count": null,
   "id": "c6b3debd-bf3c-483b-bf2c-d17d42590cf7",
   "metadata": {},
   "outputs": [],
   "source": []
  }
 ],
 "metadata": {
  "kernelspec": {
   "display_name": "Bash",
   "language": "bash",
   "name": "bash"
  },
  "language_info": {
   "codemirror_mode": "shell",
   "file_extension": ".sh",
   "mimetype": "text/x-sh",
   "name": "bash"
  }
 },
 "nbformat": 4,
 "nbformat_minor": 5
}
