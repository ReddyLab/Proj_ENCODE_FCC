{
 "cells": [
  {
   "cell_type": "markdown",
   "id": "4f7d9733-2702-4981-aa7d-ad59f4bd3c2e",
   "metadata": {},
   "source": [
    "**Set environment**"
   ]
  },
  {
   "cell_type": "code",
   "execution_count": 1,
   "id": "83938a5e-6a89-4305-9383-e0982f3058de",
   "metadata": {},
   "outputs": [
    {
     "name": "stdout",
     "output_type": "stream",
     "text": [
      "You are in Singularity: singularity_proj_encode_fcc \n",
      "BASE DIRECTORY (FD_BASE): /data/reddylab/Kuei \n",
      "WORK DIRECTORY (FD_WORK): /data/reddylab/Kuei/out \n",
      "CODE DIRECTORY (FD_CODE): /data/reddylab/Kuei/code \n",
      "PATH OF PROJECT (FD_PRJ): /data/reddylab/Kuei/code/Proj_CombEffect_ENCODE_FCC \n",
      "PATH OF RESULTS (FD_RES): /data/reddylab/Kuei/out/proj_combeffect_encode_fcc \n",
      "PATH OF LOG     (FD_LOG): /data/reddylab/Kuei/out/proj_combeffect_encode_fcc/log \n"
     ]
    }
   ],
   "source": [
    "suppressWarnings(suppressMessages(source(\"../config/config_sing.R\")))\n",
    "show_env()"
   ]
  },
  {
   "cell_type": "code",
   "execution_count": 2,
   "id": "f9fa4621-6f27-4caa-83d6-45c893903015",
   "metadata": {},
   "outputs": [
    {
     "name": "stdout",
     "output_type": "stream",
     "text": [
      "annotation_ccre \n",
      "annotation_chipseq_histone \n",
      "annotation_chipseq_tf \n",
      "annotation_chipseq_tf_subset \n",
      "annotation_chromHMM \n",
      "annotation_crispri_growth \n",
      "annotation_crispri_hcrff \n",
      "annotation_encode_e2g_benchmark \n",
      "annotation_encode_e2g_prediction \n",
      "annotation_enhancer_junke \n",
      "annotation_enhancer_zscore_junke \n",
      "annotation_fcc_table \n",
      "annotation_gencode \n",
      "annotation_tss_pol2 \n",
      "hic_intact_deep \n",
      "hic_intact_ENCSR479XDG \n",
      "KS91_K562_ASTARRseq_peak_macs_input \n",
      "region_screened_crispri_flowfish.bed \n",
      "region_screened_selected_perbase.bed \n",
      "region_screened_selected_perbase.bed.gz \n",
      "region_screened_selected.bed \n",
      "region_screened_selected.bed.gz \n",
      "region_screened_tmpra_crispr.bed \n",
      "region_screened_tmpra.bed \n",
      "tmp \n",
      "z_annotation_enhancer_merge \n",
      "z_annotation_hic \n",
      "z_annotation_inactive \n",
      "z_annotation_tss_pol2_span \n",
      "z_hic_intact_deep \n",
      "z_hic_intact_ENCSR479XDG \n"
     ]
    }
   ],
   "source": [
    "fdiry = file.path(FD_RES, \"results\", \"region\")\n",
    "for (txt in dir(fdiry)){cat(txt, \"\\n\")}"
   ]
  },
  {
   "cell_type": "markdown",
   "id": "22ae609b-8b48-4ec6-974c-ec30866f0ff3",
   "metadata": {},
   "source": [
    "## STARR/MPRA"
   ]
  },
  {
   "cell_type": "code",
   "execution_count": 3,
   "id": "e55164ca-4a9f-418c-b20a-db2a69608fea",
   "metadata": {},
   "outputs": [],
   "source": [
    "fdiry = file.path(FD_RES, \"results\", \"region\", \"annotation_enhancer_zscore_junke\")\n",
    "\n",
    "#fname = \"description.tsv\"\n",
    "#fpath = file.path(fdiry, fname)\n",
    "#dat   = read_tsv(fpath, show_col_types = FALSE)\n",
    "vec_txt_cnames1 = c(\"Chrom\", \"Start\", \"End\", \"Assay_Type\", \"Assay_Label\")\n",
    "vec_txt_cnames2 = c(\"Chrom\", \"Start\", \"End\", \"Assay_Type\", \"Assay_Label\")\n",
    "\n",
    "fname = \"enhancer_zscore_junke.peak.ASTARR.concat.bed.gz\"\n",
    "fpath = file.path(fdiry, fname)\n",
    "dat   = read_tsv(fpath, col_names = vec_txt_cnames1, show_col_types = FALSE)\n",
    "dat_peak_astarr_concat = dat\n",
    "\n",
    "fname = \"enhancer_zscore_junke.peak.ASTARR.merge.bed.gz\"\n",
    "fpath = file.path(fdiry, fname)\n",
    "dat   = read_tsv(fpath, col_names = vec_txt_cnames2, show_col_types = FALSE)\n",
    "dat_peak_astarr_merge = dat\n",
    "\n",
    "fname = \"enhancer_zscore_junke.peak.WSTARR.concat.bed.gz\"\n",
    "fpath = file.path(fdiry, fname)\n",
    "dat   = read_tsv(fpath, col_names = vec_txt_cnames1, show_col_types = FALSE)\n",
    "dat_peak_wstarr_concat = dat\n",
    "\n",
    "fname = \"enhancer_zscore_junke.peak.WSTARR.merge.bed.gz\"\n",
    "fpath = file.path(fdiry, fname)\n",
    "dat   = read_tsv(fpath, col_names = vec_txt_cnames2, show_col_types = FALSE)\n",
    "dat_peak_wstarr_merge = dat\n",
    "\n",
    "fname = \"enhancer_zscore_junke.peak.TMPRA.concat.bed.gz\"\n",
    "fpath = file.path(fdiry, fname)\n",
    "dat   = read_tsv(fpath, col_names = vec_txt_cnames1, show_col_types = FALSE)\n",
    "dat_peak_tmpra_concat = dat\n",
    "\n",
    "fname = \"enhancer_zscore_junke.peak.TMPRA.merge.bed.gz\"\n",
    "fpath = file.path(fdiry, fname)\n",
    "dat   = read_tsv(fpath, col_names = vec_txt_cnames2, show_col_types = FALSE)\n",
    "dat_peak_tmpra_merge = dat\n",
    "\n",
    "fname = \"enhancer_zscore_junke.peak.LMPRA.concat.bed.gz\"\n",
    "fpath = file.path(fdiry, fname)\n",
    "dat   = read_tsv(fpath, col_names = vec_txt_cnames1, show_col_types = FALSE)\n",
    "dat_peak_lmpra_concat = dat\n",
    "\n",
    "fname = \"enhancer_zscore_junke.peak.LMPRA.merge.bed.gz\"\n",
    "fpath = file.path(fdiry, fname)\n",
    "dat   = read_tsv(fpath, col_names = vec_txt_cnames2, show_col_types = FALSE)\n",
    "dat_peak_lmpra_merge = dat"
   ]
  },
  {
   "cell_type": "code",
   "execution_count": 4,
   "id": "24b2ab88-e863-456c-ae05-6c4dc386491a",
   "metadata": {},
   "outputs": [
    {
     "name": "stdout",
     "output_type": "stream",
     "text": [
      "\n",
      " ASTARR_A ASTARR_AB  ASTARR_R \n",
      "     9368      3123     17897 \n"
     ]
    },
    {
     "data": {
      "text/html": [
       "<table class=\"dataframe\">\n",
       "<caption>A tibble: 6 × 5</caption>\n",
       "<thead>\n",
       "\t<tr><th scope=col>Chrom</th><th scope=col>Start</th><th scope=col>End</th><th scope=col>Assay_Type</th><th scope=col>Assay_Label</th></tr>\n",
       "\t<tr><th scope=col>&lt;chr&gt;</th><th scope=col>&lt;dbl&gt;</th><th scope=col>&lt;dbl&gt;</th><th scope=col>&lt;chr&gt;</th><th scope=col>&lt;chr&gt;</th></tr>\n",
       "</thead>\n",
       "<tbody>\n",
       "\t<tr><td>chr1</td><td>136520</td><td>136950</td><td>ASTARR</td><td>ASTARR_R</td></tr>\n",
       "\t<tr><td>chr1</td><td>137050</td><td>137150</td><td>ASTARR</td><td>ASTARR_R</td></tr>\n",
       "\t<tr><td>chr1</td><td>181600</td><td>181790</td><td>ASTARR</td><td>ASTARR_R</td></tr>\n",
       "\t<tr><td>chr1</td><td>778720</td><td>778830</td><td>ASTARR</td><td>ASTARR_A</td></tr>\n",
       "\t<tr><td>chr1</td><td>827060</td><td>827160</td><td>ASTARR</td><td>ASTARR_R</td></tr>\n",
       "\t<tr><td>chr1</td><td>827590</td><td>828050</td><td>ASTARR</td><td>ASTARR_R</td></tr>\n",
       "</tbody>\n",
       "</table>\n"
      ],
      "text/latex": [
       "A tibble: 6 × 5\n",
       "\\begin{tabular}{lllll}\n",
       " Chrom & Start & End & Assay\\_Type & Assay\\_Label\\\\\n",
       " <chr> & <dbl> & <dbl> & <chr> & <chr>\\\\\n",
       "\\hline\n",
       "\t chr1 & 136520 & 136950 & ASTARR & ASTARR\\_R\\\\\n",
       "\t chr1 & 137050 & 137150 & ASTARR & ASTARR\\_R\\\\\n",
       "\t chr1 & 181600 & 181790 & ASTARR & ASTARR\\_R\\\\\n",
       "\t chr1 & 778720 & 778830 & ASTARR & ASTARR\\_A\\\\\n",
       "\t chr1 & 827060 & 827160 & ASTARR & ASTARR\\_R\\\\\n",
       "\t chr1 & 827590 & 828050 & ASTARR & ASTARR\\_R\\\\\n",
       "\\end{tabular}\n"
      ],
      "text/markdown": [
       "\n",
       "A tibble: 6 × 5\n",
       "\n",
       "| Chrom &lt;chr&gt; | Start &lt;dbl&gt; | End &lt;dbl&gt; | Assay_Type &lt;chr&gt; | Assay_Label &lt;chr&gt; |\n",
       "|---|---|---|---|---|\n",
       "| chr1 | 136520 | 136950 | ASTARR | ASTARR_R |\n",
       "| chr1 | 137050 | 137150 | ASTARR | ASTARR_R |\n",
       "| chr1 | 181600 | 181790 | ASTARR | ASTARR_R |\n",
       "| chr1 | 778720 | 778830 | ASTARR | ASTARR_A |\n",
       "| chr1 | 827060 | 827160 | ASTARR | ASTARR_R |\n",
       "| chr1 | 827590 | 828050 | ASTARR | ASTARR_R |\n",
       "\n"
      ],
      "text/plain": [
       "  Chrom Start  End    Assay_Type Assay_Label\n",
       "1 chr1  136520 136950 ASTARR     ASTARR_R   \n",
       "2 chr1  137050 137150 ASTARR     ASTARR_R   \n",
       "3 chr1  181600 181790 ASTARR     ASTARR_R   \n",
       "4 chr1  778720 778830 ASTARR     ASTARR_A   \n",
       "5 chr1  827060 827160 ASTARR     ASTARR_R   \n",
       "6 chr1  827590 828050 ASTARR     ASTARR_R   "
      ]
     },
     "metadata": {},
     "output_type": "display_data"
    }
   ],
   "source": [
    "dat = dat_peak_astarr_concat\n",
    "res = table(dat$Assay_Label)\n",
    "print(res)\n",
    "head(dat)"
   ]
  },
  {
   "cell_type": "code",
   "execution_count": 5,
   "id": "58684c2f-eddd-4e6b-a829-f851a8aecab1",
   "metadata": {},
   "outputs": [
    {
     "name": "stdout",
     "output_type": "stream",
     "text": [
      "\n",
      "                   ASTARR_A          ASTARR_A,ASTARR_AB \n",
      "                       5647                        3065 \n",
      "ASTARR_A,ASTARR_AB,ASTARR_R           ASTARR_A,ASTARR_R \n",
      "                         18                         624 \n",
      "                   ASTARR_R \n",
      "                      17239 \n"
     ]
    },
    {
     "data": {
      "text/html": [
       "<table class=\"dataframe\">\n",
       "<caption>A tibble: 6 × 5</caption>\n",
       "<thead>\n",
       "\t<tr><th scope=col>Chrom</th><th scope=col>Start</th><th scope=col>End</th><th scope=col>Assay_Type</th><th scope=col>Assay_Label</th></tr>\n",
       "\t<tr><th scope=col>&lt;chr&gt;</th><th scope=col>&lt;dbl&gt;</th><th scope=col>&lt;dbl&gt;</th><th scope=col>&lt;chr&gt;</th><th scope=col>&lt;chr&gt;</th></tr>\n",
       "</thead>\n",
       "<tbody>\n",
       "\t<tr><td>chr1</td><td>136520</td><td>136950</td><td>ASTARR</td><td>ASTARR_R</td></tr>\n",
       "\t<tr><td>chr1</td><td>137050</td><td>137150</td><td>ASTARR</td><td>ASTARR_R</td></tr>\n",
       "\t<tr><td>chr1</td><td>181600</td><td>181790</td><td>ASTARR</td><td>ASTARR_R</td></tr>\n",
       "\t<tr><td>chr1</td><td>778720</td><td>778830</td><td>ASTARR</td><td>ASTARR_A</td></tr>\n",
       "\t<tr><td>chr1</td><td>827060</td><td>827160</td><td>ASTARR</td><td>ASTARR_R</td></tr>\n",
       "\t<tr><td>chr1</td><td>827590</td><td>828050</td><td>ASTARR</td><td>ASTARR_R</td></tr>\n",
       "</tbody>\n",
       "</table>\n"
      ],
      "text/latex": [
       "A tibble: 6 × 5\n",
       "\\begin{tabular}{lllll}\n",
       " Chrom & Start & End & Assay\\_Type & Assay\\_Label\\\\\n",
       " <chr> & <dbl> & <dbl> & <chr> & <chr>\\\\\n",
       "\\hline\n",
       "\t chr1 & 136520 & 136950 & ASTARR & ASTARR\\_R\\\\\n",
       "\t chr1 & 137050 & 137150 & ASTARR & ASTARR\\_R\\\\\n",
       "\t chr1 & 181600 & 181790 & ASTARR & ASTARR\\_R\\\\\n",
       "\t chr1 & 778720 & 778830 & ASTARR & ASTARR\\_A\\\\\n",
       "\t chr1 & 827060 & 827160 & ASTARR & ASTARR\\_R\\\\\n",
       "\t chr1 & 827590 & 828050 & ASTARR & ASTARR\\_R\\\\\n",
       "\\end{tabular}\n"
      ],
      "text/markdown": [
       "\n",
       "A tibble: 6 × 5\n",
       "\n",
       "| Chrom &lt;chr&gt; | Start &lt;dbl&gt; | End &lt;dbl&gt; | Assay_Type &lt;chr&gt; | Assay_Label &lt;chr&gt; |\n",
       "|---|---|---|---|---|\n",
       "| chr1 | 136520 | 136950 | ASTARR | ASTARR_R |\n",
       "| chr1 | 137050 | 137150 | ASTARR | ASTARR_R |\n",
       "| chr1 | 181600 | 181790 | ASTARR | ASTARR_R |\n",
       "| chr1 | 778720 | 778830 | ASTARR | ASTARR_A |\n",
       "| chr1 | 827060 | 827160 | ASTARR | ASTARR_R |\n",
       "| chr1 | 827590 | 828050 | ASTARR | ASTARR_R |\n",
       "\n"
      ],
      "text/plain": [
       "  Chrom Start  End    Assay_Type Assay_Label\n",
       "1 chr1  136520 136950 ASTARR     ASTARR_R   \n",
       "2 chr1  137050 137150 ASTARR     ASTARR_R   \n",
       "3 chr1  181600 181790 ASTARR     ASTARR_R   \n",
       "4 chr1  778720 778830 ASTARR     ASTARR_A   \n",
       "5 chr1  827060 827160 ASTARR     ASTARR_R   \n",
       "6 chr1  827590 828050 ASTARR     ASTARR_R   "
      ]
     },
     "metadata": {},
     "output_type": "display_data"
    }
   ],
   "source": [
    "dat = dat_peak_astarr_merge\n",
    "res = table(dat$Assay_Label)\n",
    "print(res)\n",
    "head(dat)"
   ]
  },
  {
   "cell_type": "markdown",
   "id": "ecf9450b-a515-4fdb-a6d5-39c93ca76605",
   "metadata": {},
   "source": [
    "## CRISPRi-HCRFF"
   ]
  },
  {
   "cell_type": "code",
   "execution_count": 6,
   "id": "4205929e-c18f-43dc-8261-ba31b471ccde",
   "metadata": {},
   "outputs": [
    {
     "name": "stdout",
     "output_type": "stream",
     "text": [
      "crispri_hcrff_gene_tss.tsv \n",
      "crispri_hcrff.casa.bed.gz \n",
      "crispri_hcrff.casa.merge.bed.gz \n",
      "crispri_hcrff.casa.tsv \n",
      "description.tsv \n",
      "K562_HCRFF_20genes_TSS_TES_coords.tsv \n"
     ]
    }
   ],
   "source": [
    "fdiry = file.path(FD_RES, \"results\", \"region\", \"annotation_crispri_hcrff\")\n",
    "for (txt in dir(fdiry)){cat(txt, \"\\n\")}"
   ]
  },
  {
   "cell_type": "code",
   "execution_count": 7,
   "id": "a02557b1-3e29-4880-babb-d840627c952a",
   "metadata": {},
   "outputs": [],
   "source": [
    "fdiry = file.path(FD_RES, \"results\", \"region\", \"annotation_crispri_hcrff\")\n",
    "\n",
    "fname = \"description.tsv\"\n",
    "fpath = file.path(fdiry, fname)\n",
    "dat   = read_tsv(fpath, show_col_types = FALSE)\n",
    "vec_txt_cnames1 = dat$Name\n",
    "vec_txt_cnames2 = c(\"Chrom\", \"Start\", \"End\", \"Assay_Label\", \"Assay_Type\")\n",
    "\n",
    "fname = \"crispri_hcrff.casa.bed.gz\"\n",
    "fpath = file.path(fdiry, fname)\n",
    "dat   = read_tsv(fpath, col_names = vec_txt_cnames1, show_col_types = FALSE)\n",
    "dat_peak_crispri_hcrff_concat = dat\n",
    "\n",
    "fname = \"crispri_hcrff.casa.merge.bed.gz\"\n",
    "fpath = file.path(fdiry, fname)\n",
    "dat   = read_tsv(fpath, col_names = vec_txt_cnames2, show_col_types = FALSE)\n",
    "dat_peak_crispri_hcrff_merge = dat"
   ]
  },
  {
   "cell_type": "markdown",
   "id": "b6b9de53-a5de-43a1-bab0-765896546b4c",
   "metadata": {},
   "source": [
    "## CRISPRi-Growth"
   ]
  },
  {
   "cell_type": "code",
   "execution_count": 8,
   "id": "a0fda8f9-a08d-4fb2-be6c-129bf1189b4a",
   "metadata": {},
   "outputs": [
    {
     "name": "stdout",
     "output_type": "stream",
     "text": [
      "crispri_growth.dhs.active.bed.gz \n",
      "crispri_growth.dhs.active.merge.bed.gz \n",
      "crispri_growth.dhs.total.bed.gz \n",
      "description.tsv \n"
     ]
    }
   ],
   "source": [
    "fdiry = file.path(FD_RES, \"results\", \"region\", \"annotation_crispri_growth\")\n",
    "for (txt in dir(fdiry)){cat(txt, \"\\n\")}"
   ]
  },
  {
   "cell_type": "code",
   "execution_count": 15,
   "id": "f62e02d8-93a4-41b9-8ba9-f0753a515d74",
   "metadata": {},
   "outputs": [],
   "source": [
    "fdiry = file.path(FD_RES, \"results\", \"region\", \"annotation_crispri_growth\")\n",
    "\n",
    "fname = \"description.tsv\"\n",
    "fpath = file.path(fdiry, fname)\n",
    "dat   = read_tsv(fpath, show_col_types = FALSE)\n",
    "vec_txt_cnames1 = dat$Name\n",
    "vec_txt_cnames2 = c(\"Chrom\", \"Start\", \"End\", \"Assay_Label\", \"Assay_Type\")\n",
    "\n",
    "fname = \"crispri_growth.dhs.active.bed.gz\"\n",
    "fpath = file.path(fdiry, fname)\n",
    "dat   = read_tsv(fpath, col_names = vec_txt_cnames1, show_col_types = FALSE)\n",
    "dat_peak_crispri_growth_concat = dat\n",
    "\n",
    "fname = \"crispri_growth.dhs.active.merge.bed.gz\"\n",
    "fpath = file.path(fdiry, fname)\n",
    "dat   = read_tsv(fpath, col_names = vec_txt_cnames2, show_col_types = FALSE)\n",
    "dat_peak_crispri_growth_merge = dat"
   ]
  },
  {
   "cell_type": "markdown",
   "id": "1cb03fca-ec55-49a2-bad5-06dba1abc47f",
   "metadata": {},
   "source": [
    "## ENCODE E2G Benchmark"
   ]
  },
  {
   "cell_type": "code",
   "execution_count": 12,
   "id": "47995caf-5c60-4981-bcf5-e09002f40d5f",
   "metadata": {},
   "outputs": [
    {
     "name": "stdout",
     "output_type": "stream",
     "text": [
      "description.tsv \n",
      "K562.EPCrisprBenchmark.active.bed.gz \n",
      "K562.EPCrisprBenchmark.active.merge.bed.gz \n",
      "K562.EPCrisprBenchmark.active.region2TSS_Original.bed \n",
      "K562.EPCrisprBenchmark.active.region2TSS_Original.bedpe.gz \n",
      "K562.EPCrisprBenchmark.active.region2TSS_Original.bigInteract \n",
      "K562.EPCrisprBenchmark.active.region2TSS_Updated.bed \n",
      "K562.EPCrisprBenchmark.active.region2TSS_Updated.bedpe.gz \n",
      "K562.EPCrisprBenchmark.active.region2TSS_Updated.bigInteract \n",
      "K562.EPCrisprBenchmark.total.bed.gz \n",
      "K562.EPCrisprBenchmark.total.merge.bed.gz \n",
      "K562.EPCrisprBenchmark.total.region2TSS_Original.bed \n",
      "K562.EPCrisprBenchmark.total.region2TSS_Original.bedpe.gz \n",
      "K562.EPCrisprBenchmark.total.region2TSS_Original.bigInteract \n",
      "K562.EPCrisprBenchmark.total.region2TSS_Updated.bed \n",
      "K562.EPCrisprBenchmark.total.region2TSS_Updated.bedpe.gz \n",
      "K562.EPCrisprBenchmark.total.region2TSS_Updated.bigInteract \n",
      "tmp \n"
     ]
    }
   ],
   "source": [
    "fdiry = file.path(FD_RES, \"results\", \"region\", \"annotation_encode_e2g_benchmark\")\n",
    "for (txt in dir(fdiry)){cat(txt, \"\\n\")}"
   ]
  },
  {
   "cell_type": "code",
   "execution_count": 25,
   "id": "34934eb7-5265-432b-9356-94b733aad6d3",
   "metadata": {},
   "outputs": [],
   "source": [
    "fdiry = file.path(FD_RES, \"results\", \"region\", \"annotation_encode_e2g_benchmark\")\n",
    "\n",
    "fname = \"description.tsv\"\n",
    "fpath = file.path(fdiry, fname)\n",
    "dat   = read_tsv(fpath, show_col_types = FALSE)\n",
    "vec_txt_cnames1 = dat$Name\n",
    "vec_txt_cnames2 = c(\"Chrom\", \"Start\", \"End\", \"Assay_Label\", \"Assay_Type\")\n",
    "\n",
    "fname = \"K562.EPCrisprBenchmark.active.bed.gz\"\n",
    "fpath = file.path(fdiry, fname)\n",
    "dat   = read_tsv(fpath, col_names = vec_txt_cnames1, show_col_types = FALSE)\n",
    "dat_peak_e2g_benchmark_concat = dat\n",
    "\n",
    "fname = \"K562.EPCrisprBenchmark.active.merge.bed.gz\"\n",
    "fpath = file.path(fdiry, fname)\n",
    "dat   = read_tsv(fpath, col_names = vec_txt_cnames2, show_col_types = FALSE)\n",
    "dat_peak_e2g_benchmark_merge = dat"
   ]
  },
  {
   "cell_type": "markdown",
   "id": "92443188-eaf9-4868-9534-bc2c84b968b6",
   "metadata": {},
   "source": [
    "## FCC table"
   ]
  },
  {
   "cell_type": "code",
   "execution_count": 27,
   "id": "daf80c9f-8c99-46cc-9725-2e71fbe29c23",
   "metadata": {},
   "outputs": [],
   "source": [
    "fdiry = file.path(FD_RES, \"results\", \"region\", \"annotation_fcc_table\")\n",
    "\n",
    "fname = \"description.tsv\"\n",
    "fpath = file.path(fdiry, fname)\n",
    "dat   = read_tsv(fpath, show_col_types = FALSE)\n",
    "vec_txt_cnames1 = dat$Name\n",
    "vec_txt_cnames2 = c(\"Chrom\", \"Start\", \"End\", \"Assay_Label\", \"Assay_Type\")\n",
    "\n",
    "fname = \"fcc_table.starrmpra.crispri.atac.concat.bed.gz\"\n",
    "fpath = file.path(fdiry, fname)\n",
    "dat   = read_tsv(fpath, col_names = vec_txt_cnames1, show_col_types = FALSE)\n",
    "dat_peak_fcc_concat = dat\n",
    "\n",
    "fname = \"fcc_table.starrmpra.crispri.atac.merge.bed.gz\"\n",
    "fpath = file.path(fdiry, fname)\n",
    "dat   = read_tsv(fpath, col_names = vec_txt_cnames1, show_col_types = FALSE)\n",
    "dat_peak_fcc_merge = dat\n",
    "\n",
    "fname = \"fcc_table.starrmpra.crispri.atac.e2g_benchmark.concat.bed.gz\"\n",
    "fpath = file.path(fdiry, fname)\n",
    "dat   = read_tsv(fpath, col_names = vec_txt_cnames1, show_col_types = FALSE)\n",
    "dat_peak_fcc_e2g_benchmark_concat = dat\n",
    "\n",
    "fname = \"fcc_table.starrmpra.crispri.atac.e2g_benchmark.merge.bed.gz\"\n",
    "fpath = file.path(fdiry, fname)\n",
    "dat   = read_tsv(fpath, col_names = vec_txt_cnames1, show_col_types = FALSE)\n",
    "dat_peak_fcc_e2g_benchmark_merge = dat"
   ]
  },
  {
   "cell_type": "markdown",
   "id": "446c132a-b2b2-4a34-9ee9-c763593f9090",
   "metadata": {},
   "source": [
    "## Counting"
   ]
  },
  {
   "cell_type": "code",
   "execution_count": 16,
   "id": "da0672b4-f59a-4a36-9169-40be174bd071",
   "metadata": {},
   "outputs": [
    {
     "name": "stdout",
     "output_type": "stream",
     "text": [
      " ASTARR_A ASTARR_AB  ASTARR_R       A+R       Tot     Merge \n",
      "     9368      3123     17897     27265     30388     26593 \n"
     ]
    }
   ],
   "source": [
    "dat_concat = dat_peak_astarr_concat\n",
    "dat_merge  = dat_peak_astarr_merge\n",
    "\n",
    "txt = \"ASTARR\"\n",
    "vec = paste(txt, c(\"A\", \"R\"), sep=\"_\")\n",
    "res = table(dat_concat$Assay_Label)\n",
    "\n",
    "dat = dat_concat %>% dplyr::filter(Assay_Label %in% vec)\n",
    "res[[\"A+R\"]] = nrow(dat)\n",
    "res[[\"Tot\"]] = nrow(dat_concat)\n",
    "res[[\"Merge\"]] = nrow(dat_merge)\n",
    "\n",
    "print(res)"
   ]
  },
  {
   "cell_type": "code",
   "execution_count": 17,
   "id": "47ac032e-e9f0-4383-8396-34ce806cb114",
   "metadata": {},
   "outputs": [
    {
     "name": "stdout",
     "output_type": "stream",
     "text": [
      " WSTARR_A WSTARR_AB  WSTARR_R       A+R       Tot     Merge \n",
      "    79738     25505     62201    141939    167444    137755 \n"
     ]
    }
   ],
   "source": [
    "dat_concat = dat_peak_wstarr_concat\n",
    "dat_merge  = dat_peak_wstarr_merge\n",
    "\n",
    "txt = \"WSTARR\"\n",
    "vec = paste(txt, c(\"A\", \"R\"), sep=\"_\")\n",
    "res = table(dat_concat$Assay_Label)\n",
    "\n",
    "dat = dat_concat %>% dplyr::filter(Assay_Label %in% vec)\n",
    "res[[\"A+R\"]] = nrow(dat)\n",
    "res[[\"Tot\"]] = nrow(dat_concat)\n",
    "res[[\"Merge\"]] = nrow(dat_merge)\n",
    "\n",
    "print(res)"
   ]
  },
  {
   "cell_type": "code",
   "execution_count": 18,
   "id": "8a054214-e339-442f-b3d3-065eeeff5886",
   "metadata": {},
   "outputs": [
    {
     "name": "stdout",
     "output_type": "stream",
     "text": [
      "TMPRA_A TMPRA_R     A+R     Tot   Merge \n",
      "   6066     259    6325    6325    6243 \n"
     ]
    }
   ],
   "source": [
    "dat_concat = dat_peak_tmpra_concat\n",
    "dat_merge  = dat_peak_tmpra_merge\n",
    "\n",
    "txt = \"TMPRA\"\n",
    "vec = paste(txt, c(\"A\", \"R\"), sep=\"_\")\n",
    "res = table(dat_concat$Assay_Label)\n",
    "\n",
    "dat = dat_concat %>% dplyr::filter(Assay_Label %in% vec)\n",
    "res[[\"A+R\"]] = nrow(dat)\n",
    "res[[\"Tot\"]] = nrow(dat_concat)\n",
    "res[[\"Merge\"]] = nrow(dat_merge)\n",
    "\n",
    "print(res)"
   ]
  },
  {
   "cell_type": "code",
   "execution_count": 19,
   "id": "ae4f48e9-dd74-492c-b727-bc43e8eb5c16",
   "metadata": {},
   "outputs": [
    {
     "name": "stdout",
     "output_type": "stream",
     "text": [
      " LMPRA_A LMPRA_AB  LMPRA_R      A+R      Tot    Merge \n",
      "   40204    26802     1511    41715    68517    41673 \n"
     ]
    }
   ],
   "source": [
    "dat_concat = dat_peak_lmpra_concat\n",
    "dat_merge  = dat_peak_lmpra_merge\n",
    "\n",
    "txt = \"LMPRA\"\n",
    "vec = paste(txt, c(\"A\", \"R\"), sep=\"_\")\n",
    "res = table(dat_concat$Assay_Label)\n",
    "\n",
    "dat = dat_concat %>% dplyr::filter(Assay_Label %in% vec)\n",
    "res[[\"A+R\"]] = nrow(dat)\n",
    "res[[\"Tot\"]] = nrow(dat_concat)\n",
    "res[[\"Merge\"]] = nrow(dat_merge)\n",
    "\n",
    "print(res)"
   ]
  },
  {
   "cell_type": "code",
   "execution_count": 20,
   "id": "9c3a9fc2-5dd3-4be2-9ede-0d6f505a4e8c",
   "metadata": {},
   "outputs": [
    {
     "name": "stdout",
     "output_type": "stream",
     "text": [
      "Total: 113 \n",
      "Merge: 80 \n"
     ]
    }
   ],
   "source": [
    "dat_concat = dat_peak_crispri_hcrff_concat\n",
    "dat_merge  = dat_peak_crispri_hcrff_merge\n",
    "\n",
    "cat(\"Total:\", nrow(dat_concat), \"\\n\")\n",
    "cat(\"Merge:\", nrow(dat_merge),  \"\\n\")"
   ]
  },
  {
   "cell_type": "code",
   "execution_count": 21,
   "id": "ccecadfd-c8cd-4d29-9802-bb6cf3a8e110",
   "metadata": {},
   "outputs": [
    {
     "name": "stdout",
     "output_type": "stream",
     "text": [
      "Total: 6242 \n",
      "Merge: 6238 \n"
     ]
    }
   ],
   "source": [
    "dat_concat = dat_peak_crispri_growth_concat\n",
    "dat_merge  = dat_peak_crispri_growth_merge\n",
    "\n",
    "cat(\"Total:\", nrow(dat_concat), \"\\n\")\n",
    "cat(\"Merge:\", nrow(dat_merge),  \"\\n\")"
   ]
  },
  {
   "cell_type": "code",
   "execution_count": 26,
   "id": "3fc1ff77-c6bd-404e-8f7c-f15cffefd54e",
   "metadata": {},
   "outputs": [
    {
     "name": "stdout",
     "output_type": "stream",
     "text": [
      "Total: 472 \n",
      "Merge: 409 \n"
     ]
    }
   ],
   "source": [
    "dat_concat = dat_peak_e2g_benchmark_concat\n",
    "dat_merge  = dat_peak_e2g_benchmark_merge\n",
    "\n",
    "cat(\"Total:\", nrow(dat_concat), \"\\n\")\n",
    "cat(\"Merge:\", nrow(dat_merge),  \"\\n\")"
   ]
  },
  {
   "cell_type": "code",
   "execution_count": 28,
   "id": "d6a1adff-8ed9-4c6d-acaa-0f93c194df6a",
   "metadata": {},
   "outputs": [
    {
     "name": "stdout",
     "output_type": "stream",
     "text": [
      "Total: 526549 \n",
      "Merge: 348956 \n"
     ]
    }
   ],
   "source": [
    "dat_concat = dat_peak_fcc_concat\n",
    "dat_merge  = dat_peak_fcc_merge\n",
    "\n",
    "cat(\"Total:\", nrow(dat_concat), \"\\n\")\n",
    "cat(\"Merge:\", nrow(dat_merge),  \"\\n\")"
   ]
  },
  {
   "cell_type": "code",
   "execution_count": 29,
   "id": "5066cdb1-ee12-4b58-99ea-d7940dd2875d",
   "metadata": {},
   "outputs": [
    {
     "name": "stdout",
     "output_type": "stream",
     "text": [
      "Total: 527021 \n",
      "Merge: 348966 \n"
     ]
    }
   ],
   "source": [
    "dat_concat = dat_peak_fcc_e2g_benchmark_concat\n",
    "dat_merge  = dat_peak_fcc_e2g_benchmark_merge\n",
    "\n",
    "cat(\"Total:\", nrow(dat_concat), \"\\n\")\n",
    "cat(\"Merge:\", nrow(dat_merge),  \"\\n\")"
   ]
  },
  {
   "cell_type": "code",
   "execution_count": null,
   "id": "fae02e23-3b6a-46f3-9af9-36e89950bbc8",
   "metadata": {},
   "outputs": [],
   "source": []
  }
 ],
 "metadata": {
  "kernelspec": {
   "display_name": "R",
   "language": "R",
   "name": "ir"
  },
  "language_info": {
   "codemirror_mode": "r",
   "file_extension": ".r",
   "mimetype": "text/x-r-source",
   "name": "R",
   "pygments_lexer": "r",
   "version": "4.3.1"
  }
 },
 "nbformat": 4,
 "nbformat_minor": 5
}
