{
 "cells": [
  {
   "cell_type": "markdown",
   "metadata": {},
   "source": [
    "**Set environment**"
   ]
  },
  {
   "cell_type": "code",
   "execution_count": 1,
   "metadata": {},
   "outputs": [
    {
     "name": "stdout",
     "output_type": "stream",
     "text": [
      "You are in Singularity: singularity_proj_encode_fcc \n",
      "BASE DIRECTORY (FD_BASE): /data/reddylab/Kuei \n",
      "WORK DIRECTORY (FD_WORK): /data/reddylab/Kuei/out \n",
      "CODE DIRECTORY (FD_CODE): /data/reddylab/Kuei/code \n",
      "PATH OF PROJECT (FD_PRJ): /data/reddylab/Kuei/code/Proj_CombEffect_ENCODE_FCC \n",
      "PATH OF RESULTS (FD_RES): /data/reddylab/Kuei/out/proj_combeffect_encode_fcc \n",
      "PATH OF LOG     (FD_LOG): /data/reddylab/Kuei/out/proj_combeffect_encode_fcc/log \n"
     ]
    }
   ],
   "source": [
    "suppressWarnings(suppressMessages(source(\"../config/config_sing.R\")))\n",
    "show_env()"
   ]
  },
  {
   "cell_type": "markdown",
   "metadata": {},
   "source": [
    "## Import data"
   ]
  },
  {
   "cell_type": "code",
   "execution_count": 2,
   "metadata": {},
   "outputs": [
    {
     "name": "stderr",
     "output_type": "stream",
     "text": [
      "\u001b[1mRows: \u001b[22m\u001b[34m59526\u001b[39m \u001b[1mColumns: \u001b[22m\u001b[34m17\u001b[39m\n",
      "\u001b[36m──\u001b[39m \u001b[1mColumn specification\u001b[22m \u001b[36m──────────────────────────────────────────────────────\u001b[39m\n",
      "\u001b[1mDelimiter:\u001b[22m \"\\t\"\n",
      "\u001b[31mchr\u001b[39m  (2): gene_id, transcript_id(s)\n",
      "\u001b[32mdbl\u001b[39m (15): length, effective_length, expected_count, TPM, FPKM, posterior_mea...\n",
      "\n",
      "\u001b[36mℹ\u001b[39m Use `spec()` to retrieve the full column specification for this data.\n",
      "\u001b[36mℹ\u001b[39m Specify the column types or set `show_col_types = FALSE` to quiet this message.\n"
     ]
    },
    {
     "name": "stdout",
     "output_type": "stream",
     "text": [
      "[1] 59526    17\n"
     ]
    },
    {
     "data": {
      "text/html": [
       "<table class=\"dataframe\">\n",
       "<caption>A tibble: 6 × 17</caption>\n",
       "<thead>\n",
       "\t<tr><th scope=col>gene_id</th><th scope=col>transcript_id(s)</th><th scope=col>length</th><th scope=col>effective_length</th><th scope=col>expected_count</th><th scope=col>TPM</th><th scope=col>FPKM</th><th scope=col>posterior_mean_count</th><th scope=col>posterior_standard_deviation_of_count</th><th scope=col>pme_TPM</th><th scope=col>pme_FPKM</th><th scope=col>TPM_ci_lower_bound</th><th scope=col>TPM_ci_upper_bound</th><th scope=col>TPM_coefficient_of_quartile_variation</th><th scope=col>FPKM_ci_lower_bound</th><th scope=col>FPKM_ci_upper_bound</th><th scope=col>FPKM_coefficient_of_quartile_variation</th></tr>\n",
       "\t<tr><th scope=col>&lt;chr&gt;</th><th scope=col>&lt;chr&gt;</th><th scope=col>&lt;dbl&gt;</th><th scope=col>&lt;dbl&gt;</th><th scope=col>&lt;dbl&gt;</th><th scope=col>&lt;dbl&gt;</th><th scope=col>&lt;dbl&gt;</th><th scope=col>&lt;dbl&gt;</th><th scope=col>&lt;dbl&gt;</th><th scope=col>&lt;dbl&gt;</th><th scope=col>&lt;dbl&gt;</th><th scope=col>&lt;dbl&gt;</th><th scope=col>&lt;dbl&gt;</th><th scope=col>&lt;dbl&gt;</th><th scope=col>&lt;dbl&gt;</th><th scope=col>&lt;dbl&gt;</th><th scope=col>&lt;dbl&gt;</th></tr>\n",
       "</thead>\n",
       "<tbody>\n",
       "\t<tr><td>10904</td><td>10904</td><td>93</td><td>0</td><td>0</td><td>0</td><td>0</td><td>0</td><td>0</td><td>0</td><td>0</td><td>0</td><td>0</td><td>0</td><td>0</td><td>0</td><td>0</td></tr>\n",
       "\t<tr><td>12954</td><td>12954</td><td>94</td><td>0</td><td>0</td><td>0</td><td>0</td><td>0</td><td>0</td><td>0</td><td>0</td><td>0</td><td>0</td><td>0</td><td>0</td><td>0</td><td>0</td></tr>\n",
       "\t<tr><td>12956</td><td>12956</td><td>72</td><td>0</td><td>0</td><td>0</td><td>0</td><td>0</td><td>0</td><td>0</td><td>0</td><td>0</td><td>0</td><td>0</td><td>0</td><td>0</td><td>0</td></tr>\n",
       "\t<tr><td>12958</td><td>12958</td><td>82</td><td>0</td><td>0</td><td>0</td><td>0</td><td>0</td><td>0</td><td>0</td><td>0</td><td>0</td><td>0</td><td>0</td><td>0</td><td>0</td><td>0</td></tr>\n",
       "\t<tr><td>12960</td><td>12960</td><td>73</td><td>0</td><td>0</td><td>0</td><td>0</td><td>0</td><td>0</td><td>0</td><td>0</td><td>0</td><td>0</td><td>0</td><td>0</td><td>0</td><td>0</td></tr>\n",
       "\t<tr><td>12962</td><td>12962</td><td>72</td><td>0</td><td>0</td><td>0</td><td>0</td><td>0</td><td>0</td><td>0</td><td>0</td><td>0</td><td>0</td><td>0</td><td>0</td><td>0</td><td>0</td></tr>\n",
       "</tbody>\n",
       "</table>\n"
      ],
      "text/latex": [
       "A tibble: 6 × 17\n",
       "\\begin{tabular}{lllllllllllllllll}\n",
       " gene\\_id & transcript\\_id(s) & length & effective\\_length & expected\\_count & TPM & FPKM & posterior\\_mean\\_count & posterior\\_standard\\_deviation\\_of\\_count & pme\\_TPM & pme\\_FPKM & TPM\\_ci\\_lower\\_bound & TPM\\_ci\\_upper\\_bound & TPM\\_coefficient\\_of\\_quartile\\_variation & FPKM\\_ci\\_lower\\_bound & FPKM\\_ci\\_upper\\_bound & FPKM\\_coefficient\\_of\\_quartile\\_variation\\\\\n",
       " <chr> & <chr> & <dbl> & <dbl> & <dbl> & <dbl> & <dbl> & <dbl> & <dbl> & <dbl> & <dbl> & <dbl> & <dbl> & <dbl> & <dbl> & <dbl> & <dbl>\\\\\n",
       "\\hline\n",
       "\t 10904 & 10904 & 93 & 0 & 0 & 0 & 0 & 0 & 0 & 0 & 0 & 0 & 0 & 0 & 0 & 0 & 0\\\\\n",
       "\t 12954 & 12954 & 94 & 0 & 0 & 0 & 0 & 0 & 0 & 0 & 0 & 0 & 0 & 0 & 0 & 0 & 0\\\\\n",
       "\t 12956 & 12956 & 72 & 0 & 0 & 0 & 0 & 0 & 0 & 0 & 0 & 0 & 0 & 0 & 0 & 0 & 0\\\\\n",
       "\t 12958 & 12958 & 82 & 0 & 0 & 0 & 0 & 0 & 0 & 0 & 0 & 0 & 0 & 0 & 0 & 0 & 0\\\\\n",
       "\t 12960 & 12960 & 73 & 0 & 0 & 0 & 0 & 0 & 0 & 0 & 0 & 0 & 0 & 0 & 0 & 0 & 0\\\\\n",
       "\t 12962 & 12962 & 72 & 0 & 0 & 0 & 0 & 0 & 0 & 0 & 0 & 0 & 0 & 0 & 0 & 0 & 0\\\\\n",
       "\\end{tabular}\n"
      ],
      "text/markdown": [
       "\n",
       "A tibble: 6 × 17\n",
       "\n",
       "| gene_id &lt;chr&gt; | transcript_id(s) &lt;chr&gt; | length &lt;dbl&gt; | effective_length &lt;dbl&gt; | expected_count &lt;dbl&gt; | TPM &lt;dbl&gt; | FPKM &lt;dbl&gt; | posterior_mean_count &lt;dbl&gt; | posterior_standard_deviation_of_count &lt;dbl&gt; | pme_TPM &lt;dbl&gt; | pme_FPKM &lt;dbl&gt; | TPM_ci_lower_bound &lt;dbl&gt; | TPM_ci_upper_bound &lt;dbl&gt; | TPM_coefficient_of_quartile_variation &lt;dbl&gt; | FPKM_ci_lower_bound &lt;dbl&gt; | FPKM_ci_upper_bound &lt;dbl&gt; | FPKM_coefficient_of_quartile_variation &lt;dbl&gt; |\n",
       "|---|---|---|---|---|---|---|---|---|---|---|---|---|---|---|---|---|\n",
       "| 10904 | 10904 | 93 | 0 | 0 | 0 | 0 | 0 | 0 | 0 | 0 | 0 | 0 | 0 | 0 | 0 | 0 |\n",
       "| 12954 | 12954 | 94 | 0 | 0 | 0 | 0 | 0 | 0 | 0 | 0 | 0 | 0 | 0 | 0 | 0 | 0 |\n",
       "| 12956 | 12956 | 72 | 0 | 0 | 0 | 0 | 0 | 0 | 0 | 0 | 0 | 0 | 0 | 0 | 0 | 0 |\n",
       "| 12958 | 12958 | 82 | 0 | 0 | 0 | 0 | 0 | 0 | 0 | 0 | 0 | 0 | 0 | 0 | 0 | 0 |\n",
       "| 12960 | 12960 | 73 | 0 | 0 | 0 | 0 | 0 | 0 | 0 | 0 | 0 | 0 | 0 | 0 | 0 | 0 |\n",
       "| 12962 | 12962 | 72 | 0 | 0 | 0 | 0 | 0 | 0 | 0 | 0 | 0 | 0 | 0 | 0 | 0 | 0 |\n",
       "\n"
      ],
      "text/plain": [
       "  gene_id transcript_id(s) length effective_length expected_count TPM FPKM\n",
       "1 10904   10904            93     0                0              0   0   \n",
       "2 12954   12954            94     0                0              0   0   \n",
       "3 12956   12956            72     0                0              0   0   \n",
       "4 12958   12958            82     0                0              0   0   \n",
       "5 12960   12960            73     0                0              0   0   \n",
       "6 12962   12962            72     0                0              0   0   \n",
       "  posterior_mean_count posterior_standard_deviation_of_count pme_TPM pme_FPKM\n",
       "1 0                    0                                     0       0       \n",
       "2 0                    0                                     0       0       \n",
       "3 0                    0                                     0       0       \n",
       "4 0                    0                                     0       0       \n",
       "5 0                    0                                     0       0       \n",
       "6 0                    0                                     0       0       \n",
       "  TPM_ci_lower_bound TPM_ci_upper_bound TPM_coefficient_of_quartile_variation\n",
       "1 0                  0                  0                                    \n",
       "2 0                  0                  0                                    \n",
       "3 0                  0                  0                                    \n",
       "4 0                  0                  0                                    \n",
       "5 0                  0                  0                                    \n",
       "6 0                  0                  0                                    \n",
       "  FPKM_ci_lower_bound FPKM_ci_upper_bound\n",
       "1 0                   0                  \n",
       "2 0                   0                  \n",
       "3 0                   0                  \n",
       "4 0                   0                  \n",
       "5 0                   0                  \n",
       "6 0                   0                  \n",
       "  FPKM_coefficient_of_quartile_variation\n",
       "1 0                                     \n",
       "2 0                                     \n",
       "3 0                                     \n",
       "4 0                                     \n",
       "5 0                                     \n",
       "6 0                                     "
      ]
     },
     "metadata": {},
     "output_type": "display_data"
    }
   ],
   "source": [
    "fdiry = file.path(FD_RES, \"source\", \"RNAseq\")\n",
    "fname = \"K562.ENCSR615EEK.ENCFF421TJX.RNAseq.tsv\"\n",
    "fpath = file.path(fdiry, fname)\n",
    "\n",
    "dat = read_tsv(fpath)\n",
    "\n",
    "dat_rnaseq_import = dat\n",
    "print(dim(dat))\n",
    "head(dat)"
   ]
  },
  {
   "cell_type": "markdown",
   "metadata": {},
   "source": [
    "## Explore"
   ]
  },
  {
   "cell_type": "code",
   "execution_count": 3,
   "metadata": {},
   "outputs": [
    {
     "data": {
      "text/plain": [
       "     Min.   1st Qu.    Median      Mean   3rd Qu.      Max. \n",
       "     0.00      0.00      0.00     16.80      0.54 152445.71 "
      ]
     },
     "metadata": {},
     "output_type": "display_data"
    }
   ],
   "source": [
    "dat = dat_rnaseq_import\n",
    "summary(dat$TPM)"
   ]
  },
  {
   "cell_type": "code",
   "execution_count": 5,
   "metadata": {},
   "outputs": [
    {
     "data": {
      "image/png": "[encoded data removed]",
      "text/plain": [
       "plot without title"
      ]
     },
     "metadata": {
      "image/png": {
       "height": 240,
       "width": 300
      }
     },
     "output_type": "display_data"
    }
   ],
   "source": [
    "dat = dat_rnaseq_import\n",
    "dat = dat %>% dplyr::filter(TPM <= 1000)\n",
    "gpt = ggplot(dat, aes(x=TPM)) +\n",
    "    geom_histogram(bins=30) +\n",
    "    theme_cowplot()\n",
    "\n",
    "options(repr.plot.height=4, repr.plot.width=5)\n",
    "print(gpt)"
   ]
  },
  {
   "cell_type": "code",
   "execution_count": 7,
   "metadata": {},
   "outputs": [
    {
     "data": {
      "image/png": "[encoded data removed]",
      "text/plain": [
       "plot without title"
      ]
     },
     "metadata": {
      "image/png": {
       "height": 240,
       "width": 300
      }
     },
     "output_type": "display_data"
    }
   ],
   "source": [
    "dat = dat_rnaseq_import\n",
    "dat = dat %>% dplyr::filter(TPM <= 1000)\n",
    "gpt = ggplot(dat, aes(x=TPM)) +\n",
    "    geom_histogram(bins=30) +\n",
    "    scale_y_log10() +\n",
    "    theme_cowplot()\n",
    "\n",
    "options(repr.plot.height=4, repr.plot.width=5)\n",
    "print(gpt)"
   ]
  },
  {
   "cell_type": "markdown",
   "metadata": {},
   "source": [
    "## Number of genes with TMP > 1"
   ]
  },
  {
   "cell_type": "code",
   "execution_count": 8,
   "metadata": {},
   "outputs": [
    {
     "name": "stdout",
     "output_type": "stream",
     "text": [
      "[1] 59526\n",
      "[1] 13216\n",
      "[1] 13184\n"
     ]
    },
    {
     "data": {
      "text/html": [
       "<table class=\"dataframe\">\n",
       "<caption>A tibble: 10 × 17</caption>\n",
       "<thead>\n",
       "\t<tr><th scope=col>gene_id</th><th scope=col>transcript_id(s)</th><th scope=col>length</th><th scope=col>effective_length</th><th scope=col>expected_count</th><th scope=col>TPM</th><th scope=col>FPKM</th><th scope=col>posterior_mean_count</th><th scope=col>posterior_standard_deviation_of_count</th><th scope=col>pme_TPM</th><th scope=col>pme_FPKM</th><th scope=col>TPM_ci_lower_bound</th><th scope=col>TPM_ci_upper_bound</th><th scope=col>TPM_coefficient_of_quartile_variation</th><th scope=col>FPKM_ci_lower_bound</th><th scope=col>FPKM_ci_upper_bound</th><th scope=col>FPKM_coefficient_of_quartile_variation</th></tr>\n",
       "\t<tr><th scope=col>&lt;chr&gt;</th><th scope=col>&lt;chr&gt;</th><th scope=col>&lt;dbl&gt;</th><th scope=col>&lt;dbl&gt;</th><th scope=col>&lt;dbl&gt;</th><th scope=col>&lt;dbl&gt;</th><th scope=col>&lt;dbl&gt;</th><th scope=col>&lt;dbl&gt;</th><th scope=col>&lt;dbl&gt;</th><th scope=col>&lt;dbl&gt;</th><th scope=col>&lt;dbl&gt;</th><th scope=col>&lt;dbl&gt;</th><th scope=col>&lt;dbl&gt;</th><th scope=col>&lt;dbl&gt;</th><th scope=col>&lt;dbl&gt;</th><th scope=col>&lt;dbl&gt;</th><th scope=col>&lt;dbl&gt;</th></tr>\n",
       "</thead>\n",
       "<tbody>\n",
       "\t<tr><td>13023             </td><td>13023                                                                                                                                                                                                                                                                         </td><td> 108.00</td><td>   9.00</td><td>  23.00</td><td>55.58</td><td>64.86</td><td>  23.00</td><td>0.00</td><td>56.47</td><td>67.34</td><td>34.99440</td><td>79.33560</td><td>0.1380540</td><td>41.90990</td><td>94.81970</td><td>0.1379530</td></tr>\n",
       "\t<tr><td>13024             </td><td>13024                                                                                                                                                                                                                                                                         </td><td> 107.00</td><td>   8.00</td><td>   6.00</td><td>16.31</td><td>19.04</td><td>   6.00</td><td>0.00</td><td>18.53</td><td>22.09</td><td> 5.89931</td><td>32.20290</td><td>0.2535770</td><td> 7.23320</td><td>38.60990</td><td>0.2535860</td></tr>\n",
       "\t<tr><td>30958             </td><td>30958                                                                                                                                                                                                                                                                         </td><td> 105.00</td><td>   6.00</td><td>  13.00</td><td>47.12</td><td>54.99</td><td>  13.00</td><td>0.00</td><td>49.41</td><td>58.92</td><td>24.96290</td><td>75.28350</td><td>0.1783180</td><td>29.71930</td><td>89.74950</td><td>0.1783670</td></tr>\n",
       "\t<tr><td>30964             </td><td>30964                                                                                                                                                                                                                                                                         </td><td> 106.00</td><td>   7.00</td><td>  14.00</td><td>43.50</td><td>50.76</td><td>  14.00</td><td>0.00</td><td>45.38</td><td>54.11</td><td>23.41590</td><td>68.09510</td><td>0.1731540</td><td>27.97180</td><td>81.24840</td><td>0.1732670</td></tr>\n",
       "\t<tr><td>ENSG00000000419.12</td><td>ENST00000371582.8,ENST00000371584.8,ENST00000371588.9,ENST00000413082.1,ENST00000466152.5,ENST00000494752.1                                                                                                                                                                   </td><td>1088.79</td><td> 989.79</td><td>1445.00</td><td>31.75</td><td>37.06</td><td>1445.00</td><td>0.00</td><td>31.32</td><td>37.34</td><td>29.67840</td><td>32.99560</td><td>0.0182175</td><td>35.41910</td><td>39.37170</td><td>0.0181676</td></tr>\n",
       "\t<tr><td>ENSG00000000457.13</td><td>ENST00000367770.5,ENST00000367771.10,ENST00000367772.8,ENST00000423670.1,ENST00000470238.1                                                                                                                                                                                    </td><td>3247.36</td><td>3148.36</td><td> 518.00</td><td> 3.58</td><td> 4.18</td><td> 518.00</td><td>0.00</td><td> 3.57</td><td> 4.26</td><td> 3.19350</td><td> 3.95176</td><td>0.0364012</td><td> 3.79899</td><td> 4.70376</td><td>0.0363830</td></tr>\n",
       "\t<tr><td>ENSG00000000460.16</td><td>ENST00000286031.10,ENST00000359326.8,ENST00000413811.3,ENST00000459772.5,ENST00000466580.6,ENST00000472795.5,ENST00000481744.5,ENST00000496973.5,ENST00000498289.5                                                                                                            </td><td>2223.30</td><td>2124.30</td><td>1588.00</td><td>16.26</td><td>18.97</td><td>1588.00</td><td>0.00</td><td>16.00</td><td>19.08</td><td>14.75070</td><td>17.29650</td><td>0.0272134</td><td>17.59450</td><td>20.63060</td><td>0.0271990</td></tr>\n",
       "\t<tr><td>ENSG00000000971.15</td><td>ENST00000359637.2,ENST00000367429.8,ENST00000466229.5,ENST00000470918.1,ENST00000496761.1,ENST00000630130.2                                                                                                                                                                   </td><td>2589.40</td><td>2490.40</td><td>2169.84</td><td>18.95</td><td>22.11</td><td>2168.89</td><td>1.76</td><td>18.82</td><td>22.44</td><td>17.56640</td><td>20.10980</td><td>0.0232081</td><td>20.95850</td><td>23.99040</td><td>0.0231992</td></tr>\n",
       "\t<tr><td>ENSG00000001036.13</td><td>ENST00000002165.10,ENST00000367585.1,ENST00000451668.1                                                                                                                                                                                                                        </td><td>1827.22</td><td>1728.22</td><td>3814.00</td><td>48.00</td><td>56.02</td><td>3814.00</td><td>0.00</td><td>46.83</td><td>55.84</td><td>44.45230</td><td>49.27350</td><td>0.0177586</td><td>53.04400</td><td>58.79600</td><td>0.0177460</td></tr>\n",
       "\t<tr><td>ENSG00000001084.12</td><td>ENST00000229416.10,ENST00000504353.1,ENST00000504525.1,ENST00000505197.1,ENST00000505294.5,ENST00000509541.5,ENST00000510837.5,ENST00000513939.6,ENST00000514004.5,ENST00000514373.3,ENST00000514933.2,ENST00000515580.1,ENST00000616923.5,ENST00000643939.1,ENST00000650454.1</td><td>2444.45</td><td>2345.45</td><td> 669.00</td><td> 6.20</td><td> 7.24</td><td> 669.00</td><td>0.00</td><td> 7.06</td><td> 8.42</td><td> 5.69608</td><td> 8.48596</td><td>0.0691857</td><td> 6.83951</td><td>10.16630</td><td>0.0692372</td></tr>\n",
       "</tbody>\n",
       "</table>\n"
      ],
      "text/latex": [
       "A tibble: 10 × 17\n",
       "\\begin{tabular}{lllllllllllllllll}\n",
       " gene\\_id & transcript\\_id(s) & length & effective\\_length & expected\\_count & TPM & FPKM & posterior\\_mean\\_count & posterior\\_standard\\_deviation\\_of\\_count & pme\\_TPM & pme\\_FPKM & TPM\\_ci\\_lower\\_bound & TPM\\_ci\\_upper\\_bound & TPM\\_coefficient\\_of\\_quartile\\_variation & FPKM\\_ci\\_lower\\_bound & FPKM\\_ci\\_upper\\_bound & FPKM\\_coefficient\\_of\\_quartile\\_variation\\\\\n",
       " <chr> & <chr> & <dbl> & <dbl> & <dbl> & <dbl> & <dbl> & <dbl> & <dbl> & <dbl> & <dbl> & <dbl> & <dbl> & <dbl> & <dbl> & <dbl> & <dbl>\\\\\n",
       "\\hline\n",
       "\t 13023              & 13023                                                                                                                                                                                                                                                                          &  108.00 &    9.00 &   23.00 & 55.58 & 64.86 &   23.00 & 0.00 & 56.47 & 67.34 & 34.99440 & 79.33560 & 0.1380540 & 41.90990 & 94.81970 & 0.1379530\\\\\n",
       "\t 13024              & 13024                                                                                                                                                                                                                                                                          &  107.00 &    8.00 &    6.00 & 16.31 & 19.04 &    6.00 & 0.00 & 18.53 & 22.09 &  5.89931 & 32.20290 & 0.2535770 &  7.23320 & 38.60990 & 0.2535860\\\\\n",
       "\t 30958              & 30958                                                                                                                                                                                                                                                                          &  105.00 &    6.00 &   13.00 & 47.12 & 54.99 &   13.00 & 0.00 & 49.41 & 58.92 & 24.96290 & 75.28350 & 0.1783180 & 29.71930 & 89.74950 & 0.1783670\\\\\n",
       "\t 30964              & 30964                                                                                                                                                                                                                                                                          &  106.00 &    7.00 &   14.00 & 43.50 & 50.76 &   14.00 & 0.00 & 45.38 & 54.11 & 23.41590 & 68.09510 & 0.1731540 & 27.97180 & 81.24840 & 0.1732670\\\\\n",
       "\t ENSG00000000419.12 & ENST00000371582.8,ENST00000371584.8,ENST00000371588.9,ENST00000413082.1,ENST00000466152.5,ENST00000494752.1                                                                                                                                                                    & 1088.79 &  989.79 & 1445.00 & 31.75 & 37.06 & 1445.00 & 0.00 & 31.32 & 37.34 & 29.67840 & 32.99560 & 0.0182175 & 35.41910 & 39.37170 & 0.0181676\\\\\n",
       "\t ENSG00000000457.13 & ENST00000367770.5,ENST00000367771.10,ENST00000367772.8,ENST00000423670.1,ENST00000470238.1                                                                                                                                                                                     & 3247.36 & 3148.36 &  518.00 &  3.58 &  4.18 &  518.00 & 0.00 &  3.57 &  4.26 &  3.19350 &  3.95176 & 0.0364012 &  3.79899 &  4.70376 & 0.0363830\\\\\n",
       "\t ENSG00000000460.16 & ENST00000286031.10,ENST00000359326.8,ENST00000413811.3,ENST00000459772.5,ENST00000466580.6,ENST00000472795.5,ENST00000481744.5,ENST00000496973.5,ENST00000498289.5                                                                                                             & 2223.30 & 2124.30 & 1588.00 & 16.26 & 18.97 & 1588.00 & 0.00 & 16.00 & 19.08 & 14.75070 & 17.29650 & 0.0272134 & 17.59450 & 20.63060 & 0.0271990\\\\\n",
       "\t ENSG00000000971.15 & ENST00000359637.2,ENST00000367429.8,ENST00000466229.5,ENST00000470918.1,ENST00000496761.1,ENST00000630130.2                                                                                                                                                                    & 2589.40 & 2490.40 & 2169.84 & 18.95 & 22.11 & 2168.89 & 1.76 & 18.82 & 22.44 & 17.56640 & 20.10980 & 0.0232081 & 20.95850 & 23.99040 & 0.0231992\\\\\n",
       "\t ENSG00000001036.13 & ENST00000002165.10,ENST00000367585.1,ENST00000451668.1                                                                                                                                                                                                                         & 1827.22 & 1728.22 & 3814.00 & 48.00 & 56.02 & 3814.00 & 0.00 & 46.83 & 55.84 & 44.45230 & 49.27350 & 0.0177586 & 53.04400 & 58.79600 & 0.0177460\\\\\n",
       "\t ENSG00000001084.12 & ENST00000229416.10,ENST00000504353.1,ENST00000504525.1,ENST00000505197.1,ENST00000505294.5,ENST00000509541.5,ENST00000510837.5,ENST00000513939.6,ENST00000514004.5,ENST00000514373.3,ENST00000514933.2,ENST00000515580.1,ENST00000616923.5,ENST00000643939.1,ENST00000650454.1 & 2444.45 & 2345.45 &  669.00 &  6.20 &  7.24 &  669.00 & 0.00 &  7.06 &  8.42 &  5.69608 &  8.48596 & 0.0691857 &  6.83951 & 10.16630 & 0.0692372\\\\\n",
       "\\end{tabular}\n"
      ],
      "text/markdown": [
       "\n",
       "A tibble: 10 × 17\n",
       "\n",
       "| gene_id &lt;chr&gt; | transcript_id(s) &lt;chr&gt; | length &lt;dbl&gt; | effective_length &lt;dbl&gt; | expected_count &lt;dbl&gt; | TPM &lt;dbl&gt; | FPKM &lt;dbl&gt; | posterior_mean_count &lt;dbl&gt; | posterior_standard_deviation_of_count &lt;dbl&gt; | pme_TPM &lt;dbl&gt; | pme_FPKM &lt;dbl&gt; | TPM_ci_lower_bound &lt;dbl&gt; | TPM_ci_upper_bound &lt;dbl&gt; | TPM_coefficient_of_quartile_variation &lt;dbl&gt; | FPKM_ci_lower_bound &lt;dbl&gt; | FPKM_ci_upper_bound &lt;dbl&gt; | FPKM_coefficient_of_quartile_variation &lt;dbl&gt; |\n",
       "|---|---|---|---|---|---|---|---|---|---|---|---|---|---|---|---|---|\n",
       "| 13023              | 13023                                                                                                                                                                                                                                                                          |  108.00 |    9.00 |   23.00 | 55.58 | 64.86 |   23.00 | 0.00 | 56.47 | 67.34 | 34.99440 | 79.33560 | 0.1380540 | 41.90990 | 94.81970 | 0.1379530 |\n",
       "| 13024              | 13024                                                                                                                                                                                                                                                                          |  107.00 |    8.00 |    6.00 | 16.31 | 19.04 |    6.00 | 0.00 | 18.53 | 22.09 |  5.89931 | 32.20290 | 0.2535770 |  7.23320 | 38.60990 | 0.2535860 |\n",
       "| 30958              | 30958                                                                                                                                                                                                                                                                          |  105.00 |    6.00 |   13.00 | 47.12 | 54.99 |   13.00 | 0.00 | 49.41 | 58.92 | 24.96290 | 75.28350 | 0.1783180 | 29.71930 | 89.74950 | 0.1783670 |\n",
       "| 30964              | 30964                                                                                                                                                                                                                                                                          |  106.00 |    7.00 |   14.00 | 43.50 | 50.76 |   14.00 | 0.00 | 45.38 | 54.11 | 23.41590 | 68.09510 | 0.1731540 | 27.97180 | 81.24840 | 0.1732670 |\n",
       "| ENSG00000000419.12 | ENST00000371582.8,ENST00000371584.8,ENST00000371588.9,ENST00000413082.1,ENST00000466152.5,ENST00000494752.1                                                                                                                                                                    | 1088.79 |  989.79 | 1445.00 | 31.75 | 37.06 | 1445.00 | 0.00 | 31.32 | 37.34 | 29.67840 | 32.99560 | 0.0182175 | 35.41910 | 39.37170 | 0.0181676 |\n",
       "| ENSG00000000457.13 | ENST00000367770.5,ENST00000367771.10,ENST00000367772.8,ENST00000423670.1,ENST00000470238.1                                                                                                                                                                                     | 3247.36 | 3148.36 |  518.00 |  3.58 |  4.18 |  518.00 | 0.00 |  3.57 |  4.26 |  3.19350 |  3.95176 | 0.0364012 |  3.79899 |  4.70376 | 0.0363830 |\n",
       "| ENSG00000000460.16 | ENST00000286031.10,ENST00000359326.8,ENST00000413811.3,ENST00000459772.5,ENST00000466580.6,ENST00000472795.5,ENST00000481744.5,ENST00000496973.5,ENST00000498289.5                                                                                                             | 2223.30 | 2124.30 | 1588.00 | 16.26 | 18.97 | 1588.00 | 0.00 | 16.00 | 19.08 | 14.75070 | 17.29650 | 0.0272134 | 17.59450 | 20.63060 | 0.0271990 |\n",
       "| ENSG00000000971.15 | ENST00000359637.2,ENST00000367429.8,ENST00000466229.5,ENST00000470918.1,ENST00000496761.1,ENST00000630130.2                                                                                                                                                                    | 2589.40 | 2490.40 | 2169.84 | 18.95 | 22.11 | 2168.89 | 1.76 | 18.82 | 22.44 | 17.56640 | 20.10980 | 0.0232081 | 20.95850 | 23.99040 | 0.0231992 |\n",
       "| ENSG00000001036.13 | ENST00000002165.10,ENST00000367585.1,ENST00000451668.1                                                                                                                                                                                                                         | 1827.22 | 1728.22 | 3814.00 | 48.00 | 56.02 | 3814.00 | 0.00 | 46.83 | 55.84 | 44.45230 | 49.27350 | 0.0177586 | 53.04400 | 58.79600 | 0.0177460 |\n",
       "| ENSG00000001084.12 | ENST00000229416.10,ENST00000504353.1,ENST00000504525.1,ENST00000505197.1,ENST00000505294.5,ENST00000509541.5,ENST00000510837.5,ENST00000513939.6,ENST00000514004.5,ENST00000514373.3,ENST00000514933.2,ENST00000515580.1,ENST00000616923.5,ENST00000643939.1,ENST00000650454.1 | 2444.45 | 2345.45 |  669.00 |  6.20 |  7.24 |  669.00 | 0.00 |  7.06 |  8.42 |  5.69608 |  8.48596 | 0.0691857 |  6.83951 | 10.16630 | 0.0692372 |\n",
       "\n"
      ],
      "text/plain": [
       "   gene_id           \n",
       "1  13023             \n",
       "2  13024             \n",
       "3  30958             \n",
       "4  30964             \n",
       "5  ENSG00000000419.12\n",
       "6  ENSG00000000457.13\n",
       "7  ENSG00000000460.16\n",
       "8  ENSG00000000971.15\n",
       "9  ENSG00000001036.13\n",
       "10 ENSG00000001084.12\n",
       "   transcript_id(s)                                                                                                                                                                                                                                                              \n",
       "1  13023                                                                                                                                                                                                                                                                         \n",
       "2  13024                                                                                                                                                                                                                                                                         \n",
       "3  30958                                                                                                                                                                                                                                                                         \n",
       "4  30964                                                                                                                                                                                                                                                                         \n",
       "5  ENST00000371582.8,ENST00000371584.8,ENST00000371588.9,ENST00000413082.1,ENST00000466152.5,ENST00000494752.1                                                                                                                                                                   \n",
       "6  ENST00000367770.5,ENST00000367771.10,ENST00000367772.8,ENST00000423670.1,ENST00000470238.1                                                                                                                                                                                    \n",
       "7  ENST00000286031.10,ENST00000359326.8,ENST00000413811.3,ENST00000459772.5,ENST00000466580.6,ENST00000472795.5,ENST00000481744.5,ENST00000496973.5,ENST00000498289.5                                                                                                            \n",
       "8  ENST00000359637.2,ENST00000367429.8,ENST00000466229.5,ENST00000470918.1,ENST00000496761.1,ENST00000630130.2                                                                                                                                                                   \n",
       "9  ENST00000002165.10,ENST00000367585.1,ENST00000451668.1                                                                                                                                                                                                                        \n",
       "10 ENST00000229416.10,ENST00000504353.1,ENST00000504525.1,ENST00000505197.1,ENST00000505294.5,ENST00000509541.5,ENST00000510837.5,ENST00000513939.6,ENST00000514004.5,ENST00000514373.3,ENST00000514933.2,ENST00000515580.1,ENST00000616923.5,ENST00000643939.1,ENST00000650454.1\n",
       "   length  effective_length expected_count TPM   FPKM  posterior_mean_count\n",
       "1   108.00    9.00            23.00        55.58 64.86   23.00             \n",
       "2   107.00    8.00             6.00        16.31 19.04    6.00             \n",
       "3   105.00    6.00            13.00        47.12 54.99   13.00             \n",
       "4   106.00    7.00            14.00        43.50 50.76   14.00             \n",
       "5  1088.79  989.79          1445.00        31.75 37.06 1445.00             \n",
       "6  3247.36 3148.36           518.00         3.58  4.18  518.00             \n",
       "7  2223.30 2124.30          1588.00        16.26 18.97 1588.00             \n",
       "8  2589.40 2490.40          2169.84        18.95 22.11 2168.89             \n",
       "9  1827.22 1728.22          3814.00        48.00 56.02 3814.00             \n",
       "10 2444.45 2345.45           669.00         6.20  7.24  669.00             \n",
       "   posterior_standard_deviation_of_count pme_TPM pme_FPKM TPM_ci_lower_bound\n",
       "1  0.00                                  56.47   67.34    34.99440          \n",
       "2  0.00                                  18.53   22.09     5.89931          \n",
       "3  0.00                                  49.41   58.92    24.96290          \n",
       "4  0.00                                  45.38   54.11    23.41590          \n",
       "5  0.00                                  31.32   37.34    29.67840          \n",
       "6  0.00                                   3.57    4.26     3.19350          \n",
       "7  0.00                                  16.00   19.08    14.75070          \n",
       "8  1.76                                  18.82   22.44    17.56640          \n",
       "9  0.00                                  46.83   55.84    44.45230          \n",
       "10 0.00                                   7.06    8.42     5.69608          \n",
       "   TPM_ci_upper_bound TPM_coefficient_of_quartile_variation FPKM_ci_lower_bound\n",
       "1  79.33560           0.1380540                             41.90990           \n",
       "2  32.20290           0.2535770                              7.23320           \n",
       "3  75.28350           0.1783180                             29.71930           \n",
       "4  68.09510           0.1731540                             27.97180           \n",
       "5  32.99560           0.0182175                             35.41910           \n",
       "6   3.95176           0.0364012                              3.79899           \n",
       "7  17.29650           0.0272134                             17.59450           \n",
       "8  20.10980           0.0232081                             20.95850           \n",
       "9  49.27350           0.0177586                             53.04400           \n",
       "10  8.48596           0.0691857                              6.83951           \n",
       "   FPKM_ci_upper_bound FPKM_coefficient_of_quartile_variation\n",
       "1  94.81970            0.1379530                             \n",
       "2  38.60990            0.2535860                             \n",
       "3  89.74950            0.1783670                             \n",
       "4  81.24840            0.1732670                             \n",
       "5  39.37170            0.0181676                             \n",
       "6   4.70376            0.0363830                             \n",
       "7  20.63060            0.0271990                             \n",
       "8  23.99040            0.0231992                             \n",
       "9  58.79600            0.0177460                             \n",
       "10 10.16630            0.0692372                             "
      ]
     },
     "metadata": {},
     "output_type": "display_data"
    }
   ],
   "source": [
    "dat = dat_rnaseq_import\n",
    "print(nrow(dat))\n",
    "\n",
    "dat = dat %>% dplyr::filter(TPM >= 1)\n",
    "print(nrow(dat))\n",
    "\n",
    "dat = dat %>% dplyr::filter(TPM > 1)\n",
    "print(nrow(dat))\n",
    "\n",
    "head(dat, 10)"
   ]
  },
  {
   "cell_type": "markdown",
   "metadata": {},
   "source": [
    "## Gene ID"
   ]
  },
  {
   "cell_type": "code",
   "execution_count": 9,
   "metadata": {},
   "outputs": [
    {
     "name": "stdout",
     "output_type": "stream",
     "text": [
      "[1] 58780\n"
     ]
    },
    {
     "data": {
      "text/html": [
       "<table class=\"dataframe\">\n",
       "<caption>A tibble: 6 × 19</caption>\n",
       "<thead>\n",
       "\t<tr><th scope=col>gene_id</th><th scope=col>gene_id_stable</th><th scope=col>gene_id_version</th><th scope=col>transcript_id(s)</th><th scope=col>length</th><th scope=col>effective_length</th><th scope=col>expected_count</th><th scope=col>TPM</th><th scope=col>FPKM</th><th scope=col>posterior_mean_count</th><th scope=col>posterior_standard_deviation_of_count</th><th scope=col>pme_TPM</th><th scope=col>pme_FPKM</th><th scope=col>TPM_ci_lower_bound</th><th scope=col>TPM_ci_upper_bound</th><th scope=col>TPM_coefficient_of_quartile_variation</th><th scope=col>FPKM_ci_lower_bound</th><th scope=col>FPKM_ci_upper_bound</th><th scope=col>FPKM_coefficient_of_quartile_variation</th></tr>\n",
       "\t<tr><th scope=col>&lt;chr&gt;</th><th scope=col>&lt;chr&gt;</th><th scope=col>&lt;chr&gt;</th><th scope=col>&lt;chr&gt;</th><th scope=col>&lt;dbl&gt;</th><th scope=col>&lt;dbl&gt;</th><th scope=col>&lt;dbl&gt;</th><th scope=col>&lt;dbl&gt;</th><th scope=col>&lt;dbl&gt;</th><th scope=col>&lt;dbl&gt;</th><th scope=col>&lt;dbl&gt;</th><th scope=col>&lt;dbl&gt;</th><th scope=col>&lt;dbl&gt;</th><th scope=col>&lt;dbl&gt;</th><th scope=col>&lt;dbl&gt;</th><th scope=col>&lt;dbl&gt;</th><th scope=col>&lt;dbl&gt;</th><th scope=col>&lt;dbl&gt;</th><th scope=col>&lt;dbl&gt;</th></tr>\n",
       "</thead>\n",
       "<tbody>\n",
       "\t<tr><td>ENSG00000000003.14</td><td>ENSG00000000003</td><td>14</td><td>ENST00000373020.8,ENST00000494424.1,ENST00000496771.5,ENST00000612152.4,ENST00000614008.4                                                                         </td><td>1301.17</td><td>1202.17</td><td>   3</td><td> 0.05</td><td> 0.06</td><td>   3</td><td>0</td><td> 0.15</td><td> 0.18</td><td> 0.0483404</td><td> 0.267674</td><td>0.2698290</td><td> 0.0576847</td><td> 0.319259</td><td>0.2697760</td></tr>\n",
       "\t<tr><td>ENSG00000000005.5 </td><td>ENSG00000000005</td><td>5 </td><td>ENST00000373031.4,ENST00000485971.1                                                                                                                               </td><td>1339.00</td><td>1240.00</td><td>   2</td><td> 0.04</td><td> 0.04</td><td>   2</td><td>0</td><td> 0.10</td><td> 0.12</td><td> 0.0131108</td><td> 0.206532</td><td>0.3675880</td><td> 0.0156234</td><td> 0.246304</td><td>0.3673940</td></tr>\n",
       "\t<tr><td>ENSG00000000419.12</td><td>ENSG00000000419</td><td>12</td><td>ENST00000371582.8,ENST00000371584.8,ENST00000371588.9,ENST00000413082.1,ENST00000466152.5,ENST00000494752.1                                                       </td><td>1088.79</td><td> 989.79</td><td>1445</td><td>31.75</td><td>37.06</td><td>1445</td><td>0</td><td>31.32</td><td>37.34</td><td>29.6784000</td><td>32.995600</td><td>0.0182175</td><td>35.4191000</td><td>39.371700</td><td>0.0181676</td></tr>\n",
       "\t<tr><td>ENSG00000000457.13</td><td>ENSG00000000457</td><td>13</td><td>ENST00000367770.5,ENST00000367771.10,ENST00000367772.8,ENST00000423670.1,ENST00000470238.1                                                                        </td><td>3247.36</td><td>3148.36</td><td> 518</td><td> 3.58</td><td> 4.18</td><td> 518</td><td>0</td><td> 3.57</td><td> 4.26</td><td> 3.1935000</td><td> 3.951760</td><td>0.0364012</td><td> 3.7989900</td><td> 4.703760</td><td>0.0363830</td></tr>\n",
       "\t<tr><td>ENSG00000000460.16</td><td>ENSG00000000460</td><td>16</td><td>ENST00000286031.10,ENST00000359326.8,ENST00000413811.3,ENST00000459772.5,ENST00000466580.6,ENST00000472795.5,ENST00000481744.5,ENST00000496973.5,ENST00000498289.5</td><td>2223.30</td><td>2124.30</td><td>1588</td><td>16.26</td><td>18.97</td><td>1588</td><td>0</td><td>16.00</td><td>19.08</td><td>14.7507000</td><td>17.296500</td><td>0.0272134</td><td>17.5945000</td><td>20.630600</td><td>0.0271990</td></tr>\n",
       "\t<tr><td>ENSG00000000938.12</td><td>ENSG00000000938</td><td>12</td><td>ENST00000374003.7,ENST00000374004.5,ENST00000374005.7,ENST00000399173.5,ENST00000457296.5,ENST00000468038.1,ENST00000475472.5                                     </td><td>1891.31</td><td>1792.31</td><td>   4</td><td> 0.05</td><td> 0.06</td><td>   4</td><td>0</td><td> 0.18</td><td> 0.21</td><td> 0.0670923</td><td> 0.309123</td><td>0.2395950</td><td> 0.0800365</td><td> 0.368688</td><td>0.2396440</td></tr>\n",
       "</tbody>\n",
       "</table>\n"
      ],
      "text/latex": [
       "A tibble: 6 × 19\n",
       "\\begin{tabular}{lllllllllllllllllll}\n",
       " gene\\_id & gene\\_id\\_stable & gene\\_id\\_version & transcript\\_id(s) & length & effective\\_length & expected\\_count & TPM & FPKM & posterior\\_mean\\_count & posterior\\_standard\\_deviation\\_of\\_count & pme\\_TPM & pme\\_FPKM & TPM\\_ci\\_lower\\_bound & TPM\\_ci\\_upper\\_bound & TPM\\_coefficient\\_of\\_quartile\\_variation & FPKM\\_ci\\_lower\\_bound & FPKM\\_ci\\_upper\\_bound & FPKM\\_coefficient\\_of\\_quartile\\_variation\\\\\n",
       " <chr> & <chr> & <chr> & <chr> & <dbl> & <dbl> & <dbl> & <dbl> & <dbl> & <dbl> & <dbl> & <dbl> & <dbl> & <dbl> & <dbl> & <dbl> & <dbl> & <dbl> & <dbl>\\\\\n",
       "\\hline\n",
       "\t ENSG00000000003.14 & ENSG00000000003 & 14 & ENST00000373020.8,ENST00000494424.1,ENST00000496771.5,ENST00000612152.4,ENST00000614008.4                                                                          & 1301.17 & 1202.17 &    3 &  0.05 &  0.06 &    3 & 0 &  0.15 &  0.18 &  0.0483404 &  0.267674 & 0.2698290 &  0.0576847 &  0.319259 & 0.2697760\\\\\n",
       "\t ENSG00000000005.5  & ENSG00000000005 & 5  & ENST00000373031.4,ENST00000485971.1                                                                                                                                & 1339.00 & 1240.00 &    2 &  0.04 &  0.04 &    2 & 0 &  0.10 &  0.12 &  0.0131108 &  0.206532 & 0.3675880 &  0.0156234 &  0.246304 & 0.3673940\\\\\n",
       "\t ENSG00000000419.12 & ENSG00000000419 & 12 & ENST00000371582.8,ENST00000371584.8,ENST00000371588.9,ENST00000413082.1,ENST00000466152.5,ENST00000494752.1                                                        & 1088.79 &  989.79 & 1445 & 31.75 & 37.06 & 1445 & 0 & 31.32 & 37.34 & 29.6784000 & 32.995600 & 0.0182175 & 35.4191000 & 39.371700 & 0.0181676\\\\\n",
       "\t ENSG00000000457.13 & ENSG00000000457 & 13 & ENST00000367770.5,ENST00000367771.10,ENST00000367772.8,ENST00000423670.1,ENST00000470238.1                                                                         & 3247.36 & 3148.36 &  518 &  3.58 &  4.18 &  518 & 0 &  3.57 &  4.26 &  3.1935000 &  3.951760 & 0.0364012 &  3.7989900 &  4.703760 & 0.0363830\\\\\n",
       "\t ENSG00000000460.16 & ENSG00000000460 & 16 & ENST00000286031.10,ENST00000359326.8,ENST00000413811.3,ENST00000459772.5,ENST00000466580.6,ENST00000472795.5,ENST00000481744.5,ENST00000496973.5,ENST00000498289.5 & 2223.30 & 2124.30 & 1588 & 16.26 & 18.97 & 1588 & 0 & 16.00 & 19.08 & 14.7507000 & 17.296500 & 0.0272134 & 17.5945000 & 20.630600 & 0.0271990\\\\\n",
       "\t ENSG00000000938.12 & ENSG00000000938 & 12 & ENST00000374003.7,ENST00000374004.5,ENST00000374005.7,ENST00000399173.5,ENST00000457296.5,ENST00000468038.1,ENST00000475472.5                                      & 1891.31 & 1792.31 &    4 &  0.05 &  0.06 &    4 & 0 &  0.18 &  0.21 &  0.0670923 &  0.309123 & 0.2395950 &  0.0800365 &  0.368688 & 0.2396440\\\\\n",
       "\\end{tabular}\n"
      ],
      "text/markdown": [
       "\n",
       "A tibble: 6 × 19\n",
       "\n",
       "| gene_id &lt;chr&gt; | gene_id_stable &lt;chr&gt; | gene_id_version &lt;chr&gt; | transcript_id(s) &lt;chr&gt; | length &lt;dbl&gt; | effective_length &lt;dbl&gt; | expected_count &lt;dbl&gt; | TPM &lt;dbl&gt; | FPKM &lt;dbl&gt; | posterior_mean_count &lt;dbl&gt; | posterior_standard_deviation_of_count &lt;dbl&gt; | pme_TPM &lt;dbl&gt; | pme_FPKM &lt;dbl&gt; | TPM_ci_lower_bound &lt;dbl&gt; | TPM_ci_upper_bound &lt;dbl&gt; | TPM_coefficient_of_quartile_variation &lt;dbl&gt; | FPKM_ci_lower_bound &lt;dbl&gt; | FPKM_ci_upper_bound &lt;dbl&gt; | FPKM_coefficient_of_quartile_variation &lt;dbl&gt; |\n",
       "|---|---|---|---|---|---|---|---|---|---|---|---|---|---|---|---|---|---|---|\n",
       "| ENSG00000000003.14 | ENSG00000000003 | 14 | ENST00000373020.8,ENST00000494424.1,ENST00000496771.5,ENST00000612152.4,ENST00000614008.4                                                                          | 1301.17 | 1202.17 |    3 |  0.05 |  0.06 |    3 | 0 |  0.15 |  0.18 |  0.0483404 |  0.267674 | 0.2698290 |  0.0576847 |  0.319259 | 0.2697760 |\n",
       "| ENSG00000000005.5  | ENSG00000000005 | 5  | ENST00000373031.4,ENST00000485971.1                                                                                                                                | 1339.00 | 1240.00 |    2 |  0.04 |  0.04 |    2 | 0 |  0.10 |  0.12 |  0.0131108 |  0.206532 | 0.3675880 |  0.0156234 |  0.246304 | 0.3673940 |\n",
       "| ENSG00000000419.12 | ENSG00000000419 | 12 | ENST00000371582.8,ENST00000371584.8,ENST00000371588.9,ENST00000413082.1,ENST00000466152.5,ENST00000494752.1                                                        | 1088.79 |  989.79 | 1445 | 31.75 | 37.06 | 1445 | 0 | 31.32 | 37.34 | 29.6784000 | 32.995600 | 0.0182175 | 35.4191000 | 39.371700 | 0.0181676 |\n",
       "| ENSG00000000457.13 | ENSG00000000457 | 13 | ENST00000367770.5,ENST00000367771.10,ENST00000367772.8,ENST00000423670.1,ENST00000470238.1                                                                         | 3247.36 | 3148.36 |  518 |  3.58 |  4.18 |  518 | 0 |  3.57 |  4.26 |  3.1935000 |  3.951760 | 0.0364012 |  3.7989900 |  4.703760 | 0.0363830 |\n",
       "| ENSG00000000460.16 | ENSG00000000460 | 16 | ENST00000286031.10,ENST00000359326.8,ENST00000413811.3,ENST00000459772.5,ENST00000466580.6,ENST00000472795.5,ENST00000481744.5,ENST00000496973.5,ENST00000498289.5 | 2223.30 | 2124.30 | 1588 | 16.26 | 18.97 | 1588 | 0 | 16.00 | 19.08 | 14.7507000 | 17.296500 | 0.0272134 | 17.5945000 | 20.630600 | 0.0271990 |\n",
       "| ENSG00000000938.12 | ENSG00000000938 | 12 | ENST00000374003.7,ENST00000374004.5,ENST00000374005.7,ENST00000399173.5,ENST00000457296.5,ENST00000468038.1,ENST00000475472.5                                      | 1891.31 | 1792.31 |    4 |  0.05 |  0.06 |    4 | 0 |  0.18 |  0.21 |  0.0670923 |  0.309123 | 0.2395950 |  0.0800365 |  0.368688 | 0.2396440 |\n",
       "\n"
      ],
      "text/plain": [
       "  gene_id            gene_id_stable  gene_id_version\n",
       "1 ENSG00000000003.14 ENSG00000000003 14             \n",
       "2 ENSG00000000005.5  ENSG00000000005 5              \n",
       "3 ENSG00000000419.12 ENSG00000000419 12             \n",
       "4 ENSG00000000457.13 ENSG00000000457 13             \n",
       "5 ENSG00000000460.16 ENSG00000000460 16             \n",
       "6 ENSG00000000938.12 ENSG00000000938 12             \n",
       "  transcript_id(s)                                                                                                                                                  \n",
       "1 ENST00000373020.8,ENST00000494424.1,ENST00000496771.5,ENST00000612152.4,ENST00000614008.4                                                                         \n",
       "2 ENST00000373031.4,ENST00000485971.1                                                                                                                               \n",
       "3 ENST00000371582.8,ENST00000371584.8,ENST00000371588.9,ENST00000413082.1,ENST00000466152.5,ENST00000494752.1                                                       \n",
       "4 ENST00000367770.5,ENST00000367771.10,ENST00000367772.8,ENST00000423670.1,ENST00000470238.1                                                                        \n",
       "5 ENST00000286031.10,ENST00000359326.8,ENST00000413811.3,ENST00000459772.5,ENST00000466580.6,ENST00000472795.5,ENST00000481744.5,ENST00000496973.5,ENST00000498289.5\n",
       "6 ENST00000374003.7,ENST00000374004.5,ENST00000374005.7,ENST00000399173.5,ENST00000457296.5,ENST00000468038.1,ENST00000475472.5                                     \n",
       "  length  effective_length expected_count TPM   FPKM  posterior_mean_count\n",
       "1 1301.17 1202.17             3            0.05  0.06    3                \n",
       "2 1339.00 1240.00             2            0.04  0.04    2                \n",
       "3 1088.79  989.79          1445           31.75 37.06 1445                \n",
       "4 3247.36 3148.36           518            3.58  4.18  518                \n",
       "5 2223.30 2124.30          1588           16.26 18.97 1588                \n",
       "6 1891.31 1792.31             4            0.05  0.06    4                \n",
       "  posterior_standard_deviation_of_count pme_TPM pme_FPKM TPM_ci_lower_bound\n",
       "1 0                                      0.15    0.18     0.0483404        \n",
       "2 0                                      0.10    0.12     0.0131108        \n",
       "3 0                                     31.32   37.34    29.6784000        \n",
       "4 0                                      3.57    4.26     3.1935000        \n",
       "5 0                                     16.00   19.08    14.7507000        \n",
       "6 0                                      0.18    0.21     0.0670923        \n",
       "  TPM_ci_upper_bound TPM_coefficient_of_quartile_variation FPKM_ci_lower_bound\n",
       "1  0.267674          0.2698290                              0.0576847         \n",
       "2  0.206532          0.3675880                              0.0156234         \n",
       "3 32.995600          0.0182175                             35.4191000         \n",
       "4  3.951760          0.0364012                              3.7989900         \n",
       "5 17.296500          0.0272134                             17.5945000         \n",
       "6  0.309123          0.2395950                              0.0800365         \n",
       "  FPKM_ci_upper_bound FPKM_coefficient_of_quartile_variation\n",
       "1  0.319259           0.2697760                             \n",
       "2  0.246304           0.3673940                             \n",
       "3 39.371700           0.0181676                             \n",
       "4  4.703760           0.0363830                             \n",
       "5 20.630600           0.0271990                             \n",
       "6  0.368688           0.2396440                             "
      ]
     },
     "metadata": {},
     "output_type": "display_data"
    }
   ],
   "source": [
    "###\n",
    "dat = dat_rnaseq_import\n",
    "dat = dat %>% \n",
    "    dplyr::filter(str_detect(gene_id, \"ENS\")) %>% \n",
    "    tidyr::separate(gene_id, c(\"gene_id_stable\", \"gene_id_version\"), sep=\"\\\\.\", remove = FALSE)\n",
    "\n",
    "### assign and show\n",
    "dat_rnaseq_arrange = dat\n",
    "print(nrow(dat))\n",
    "head(dat)"
   ]
  }
 ],
 "metadata": {
  "kernelspec": {
   "display_name": "R",
   "language": "R",
   "name": "ir"
  },
  "language_info": {
   "codemirror_mode": "r",
   "file_extension": ".r",
   "mimetype": "text/x-r-source",
   "name": "R",
   "pygments_lexer": "r",
   "version": "4.3.0"
  }
 },
 "nbformat": 4,
 "nbformat_minor": 4
}
