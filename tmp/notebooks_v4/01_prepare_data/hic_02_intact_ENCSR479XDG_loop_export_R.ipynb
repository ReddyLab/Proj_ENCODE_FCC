{
 "cells": [
  {
   "cell_type": "markdown",
   "metadata": {},
   "source": [
    "**Set environment**"
   ]
  },
  {
   "cell_type": "code",
   "execution_count": 1,
   "metadata": {},
   "outputs": [
    {
     "name": "stdout",
     "output_type": "stream",
     "text": [
      "You are in Singularity: singularity_proj_encode_fcc \n",
      "BASE DIRECTORY (FD_BASE): /data/reddylab/Kuei \n",
      "WORK DIRECTORY (FD_WORK): /data/reddylab/Kuei/out \n",
      "CODE DIRECTORY (FD_CODE): /data/reddylab/Kuei/code \n",
      "PATH OF PROJECT (FD_PRJ): /data/reddylab/Kuei/code/Proj_CombEffect_ENCODE_FCC \n",
      "PATH OF RESULTS (FD_RES): /data/reddylab/Kuei/out/proj_combeffect_encode_fcc \n",
      "PATH OF LOG     (FD_LOG): /data/reddylab/Kuei/out/proj_combeffect_encode_fcc/log \n"
     ]
    }
   ],
   "source": [
    "suppressMessages(suppressWarnings(source(\"../config/config_sing.R\")))\n",
    "suppressMessages(suppressWarnings(source(\"../config/config_func.R\")))\n",
    "show_env()"
   ]
  },
  {
   "cell_type": "markdown",
   "metadata": {},
   "source": [
    "**Check data**"
   ]
  },
  {
   "cell_type": "code",
   "execution_count": 2,
   "metadata": {},
   "outputs": [
    {
     "data": {
      "text/html": [
       "<style>\n",
       ".list-inline {list-style: none; margin:0; padding: 0}\n",
       ".list-inline>li {display: inline-block}\n",
       ".list-inline>li:not(:last-child)::after {content: \"\\00b7\"; padding: 0 .5ex}\n",
       "</style>\n",
       "<ol class=list-inline><li>'/data/reddylab/Kuei/out/proj_combeffect_encode_fcc/source/hic_intact_K562_deep'</li><li>'/data/reddylab/Kuei/out/proj_combeffect_encode_fcc/source/hic_intact_K562_ENCSR479XDG'</li></ol>\n"
      ],
      "text/latex": [
       "\\begin{enumerate*}\n",
       "\\item '/data/reddylab/Kuei/out/proj\\_combeffect\\_encode\\_fcc/source/hic\\_intact\\_K562\\_deep'\n",
       "\\item '/data/reddylab/Kuei/out/proj\\_combeffect\\_encode\\_fcc/source/hic\\_intact\\_K562\\_ENCSR479XDG'\n",
       "\\end{enumerate*}\n"
      ],
      "text/markdown": [
       "1. '/data/reddylab/Kuei/out/proj_combeffect_encode_fcc/source/hic_intact_K562_deep'\n",
       "2. '/data/reddylab/Kuei/out/proj_combeffect_encode_fcc/source/hic_intact_K562_ENCSR479XDG'\n",
       "\n",
       "\n"
      ],
      "text/plain": [
       "[1] \"/data/reddylab/Kuei/out/proj_combeffect_encode_fcc/source/hic_intact_K562_deep\"       \n",
       "[2] \"/data/reddylab/Kuei/out/proj_combeffect_encode_fcc/source/hic_intact_K562_ENCSR479XDG\""
      ]
     },
     "metadata": {},
     "output_type": "display_data"
    }
   ],
   "source": [
    "fdiry = file.path(FD_RES, \"source\")\n",
    "fglob = file.path(fdiry, \"hic_intact*\")\n",
    "Sys.glob(fglob)"
   ]
  },
  {
   "cell_type": "code",
   "execution_count": 3,
   "metadata": {},
   "outputs": [
    {
     "name": "stdout",
     "output_type": "stream",
     "text": [
      "[1] \"ENCFF621AIY.hic\"\n",
      "[1] \"K562.ENCSR479XDG.ENCFF126GED.contact_domains.bedpe.gz\"\n",
      "[1] \"K562.ENCSR479XDG.ENCFF256ZMD.loops.bedpe.gz\"\n"
     ]
    }
   ],
   "source": [
    "FOLDER=\"hic_intact_K562_ENCSR479XDG\"\n",
    "fdiry = file.path(FD_RES, \"source\", FOLDER)\n",
    "for (fname in dir(fdiry)) {print(fname)}"
   ]
  },
  {
   "cell_type": "markdown",
   "metadata": {},
   "source": [
    "## Import"
   ]
  },
  {
   "cell_type": "code",
   "execution_count": 4,
   "metadata": {},
   "outputs": [
    {
     "name": "stderr",
     "output_type": "stream",
     "text": [
      "\u001b[1mRows: \u001b[22m\u001b[34m46004\u001b[39m \u001b[1mColumns: \u001b[22m\u001b[34m33\u001b[39m\n",
      "\u001b[36m──\u001b[39m \u001b[1mColumn specification\u001b[22m \u001b[36m──────────────────────────────────────────────────────\u001b[39m\n",
      "\u001b[1mDelimiter:\u001b[22m \"\\t\"\n",
      "\u001b[31mchr\u001b[39m  (7): X1, X4, X7, X8, X9, X10, X11\n",
      "\u001b[32mdbl\u001b[39m (26): X2, X3, X5, X6, X12, X13, X14, X15, X16, X17, X18, X19, X20, X21, ...\n",
      "\n",
      "\u001b[36mℹ\u001b[39m Use `spec()` to retrieve the full column specification for this data.\n",
      "\u001b[36mℹ\u001b[39m Specify the column types or set `show_col_types = FALSE` to quiet this message.\n"
     ]
    },
    {
     "name": "stdout",
     "output_type": "stream",
     "text": [
      "[1] 46004    33\n"
     ]
    },
    {
     "data": {
      "text/html": [
       "<table class=\"dataframe\">\n",
       "<caption>A tibble: 6 × 33</caption>\n",
       "<thead>\n",
       "\t<tr><th scope=col>X1</th><th scope=col>X2</th><th scope=col>X3</th><th scope=col>X4</th><th scope=col>X5</th><th scope=col>X6</th><th scope=col>X7</th><th scope=col>X8</th><th scope=col>X9</th><th scope=col>X10</th><th scope=col>⋯</th><th scope=col>X24</th><th scope=col>X25</th><th scope=col>X26</th><th scope=col>X27</th><th scope=col>X28</th><th scope=col>X29</th><th scope=col>X30</th><th scope=col>X31</th><th scope=col>X32</th><th scope=col>X33</th></tr>\n",
       "\t<tr><th scope=col>&lt;chr&gt;</th><th scope=col>&lt;dbl&gt;</th><th scope=col>&lt;dbl&gt;</th><th scope=col>&lt;chr&gt;</th><th scope=col>&lt;dbl&gt;</th><th scope=col>&lt;dbl&gt;</th><th scope=col>&lt;chr&gt;</th><th scope=col>&lt;chr&gt;</th><th scope=col>&lt;chr&gt;</th><th scope=col>&lt;chr&gt;</th><th scope=col>⋯</th><th scope=col>&lt;dbl&gt;</th><th scope=col>&lt;dbl&gt;</th><th scope=col>&lt;dbl&gt;</th><th scope=col>&lt;dbl&gt;</th><th scope=col>&lt;dbl&gt;</th><th scope=col>&lt;dbl&gt;</th><th scope=col>&lt;dbl&gt;</th><th scope=col>&lt;dbl&gt;</th><th scope=col>&lt;dbl&gt;</th><th scope=col>&lt;dbl&gt;</th></tr>\n",
       "</thead>\n",
       "<tbody>\n",
       "\t<tr><td>chr10</td><td>102835000</td><td>102836000</td><td>chr10</td><td>102901000</td><td>102902000</td><td>.</td><td>.</td><td>.</td><td>.</td><td>⋯</td><td> 500</td><td>102834600</td><td>102835200</td><td>102901400</td><td>102901700</td><td>102834700</td><td>102901500</td><td> 4</td><td>0.0002171732</td><td> 0</td></tr>\n",
       "\t<tr><td>chr10</td><td>123583000</td><td>123584000</td><td>chr10</td><td>123967000</td><td>123968000</td><td>.</td><td>.</td><td>.</td><td>.</td><td>⋯</td><td> 500</td><td>       NA</td><td>       NA</td><td>       NA</td><td>       NA</td><td>       NA</td><td>       NA</td><td>NA</td><td>          NA</td><td>NA</td></tr>\n",
       "\t<tr><td>chr10</td><td> 60780000</td><td> 60782000</td><td>chr10</td><td> 60828000</td><td> 60830000</td><td>.</td><td>.</td><td>.</td><td>.</td><td>⋯</td><td>   0</td><td>       NA</td><td>       NA</td><td>       NA</td><td>       NA</td><td>       NA</td><td>       NA</td><td>NA</td><td>          NA</td><td>NA</td></tr>\n",
       "\t<tr><td>chr10</td><td> 33050000</td><td> 33051000</td><td>chr10</td><td> 33067000</td><td> 33068000</td><td>.</td><td>.</td><td>.</td><td>.</td><td>⋯</td><td>   0</td><td>       NA</td><td>       NA</td><td>       NA</td><td>       NA</td><td>       NA</td><td>       NA</td><td>NA</td><td>          NA</td><td>NA</td></tr>\n",
       "\t<tr><td>chr10</td><td> 11412000</td><td> 11414000</td><td>chr10</td><td> 11472000</td><td> 11474000</td><td>.</td><td>.</td><td>.</td><td>.</td><td>⋯</td><td>   0</td><td> 11412000</td><td> 11412500</td><td> 11471700</td><td> 11472700</td><td> 11412200</td><td> 11472100</td><td>10</td><td>0.0088614312</td><td> 0</td></tr>\n",
       "\t<tr><td>chr10</td><td> 45005000</td><td> 45010000</td><td>chr10</td><td> 45465000</td><td> 45470000</td><td>.</td><td>.</td><td>.</td><td>.</td><td>⋯</td><td>2500</td><td>       NA</td><td>       NA</td><td>       NA</td><td>       NA</td><td>       NA</td><td>       NA</td><td>NA</td><td>          NA</td><td>NA</td></tr>\n",
       "</tbody>\n",
       "</table>\n"
      ],
      "text/latex": [
       "A tibble: 6 × 33\n",
       "\\begin{tabular}{lllllllllllllllllllll}\n",
       " X1 & X2 & X3 & X4 & X5 & X6 & X7 & X8 & X9 & X10 & ⋯ & X24 & X25 & X26 & X27 & X28 & X29 & X30 & X31 & X32 & X33\\\\\n",
       " <chr> & <dbl> & <dbl> & <chr> & <dbl> & <dbl> & <chr> & <chr> & <chr> & <chr> & ⋯ & <dbl> & <dbl> & <dbl> & <dbl> & <dbl> & <dbl> & <dbl> & <dbl> & <dbl> & <dbl>\\\\\n",
       "\\hline\n",
       "\t chr10 & 102835000 & 102836000 & chr10 & 102901000 & 102902000 & . & . & . & . & ⋯ &  500 & 102834600 & 102835200 & 102901400 & 102901700 & 102834700 & 102901500 &  4 & 0.0002171732 &  0\\\\\n",
       "\t chr10 & 123583000 & 123584000 & chr10 & 123967000 & 123968000 & . & . & . & . & ⋯ &  500 &        NA &        NA &        NA &        NA &        NA &        NA & NA &           NA & NA\\\\\n",
       "\t chr10 &  60780000 &  60782000 & chr10 &  60828000 &  60830000 & . & . & . & . & ⋯ &    0 &        NA &        NA &        NA &        NA &        NA &        NA & NA &           NA & NA\\\\\n",
       "\t chr10 &  33050000 &  33051000 & chr10 &  33067000 &  33068000 & . & . & . & . & ⋯ &    0 &        NA &        NA &        NA &        NA &        NA &        NA & NA &           NA & NA\\\\\n",
       "\t chr10 &  11412000 &  11414000 & chr10 &  11472000 &  11474000 & . & . & . & . & ⋯ &    0 &  11412000 &  11412500 &  11471700 &  11472700 &  11412200 &  11472100 & 10 & 0.0088614312 &  0\\\\\n",
       "\t chr10 &  45005000 &  45010000 & chr10 &  45465000 &  45470000 & . & . & . & . & ⋯ & 2500 &        NA &        NA &        NA &        NA &        NA &        NA & NA &           NA & NA\\\\\n",
       "\\end{tabular}\n"
      ],
      "text/markdown": [
       "\n",
       "A tibble: 6 × 33\n",
       "\n",
       "| X1 &lt;chr&gt; | X2 &lt;dbl&gt; | X3 &lt;dbl&gt; | X4 &lt;chr&gt; | X5 &lt;dbl&gt; | X6 &lt;dbl&gt; | X7 &lt;chr&gt; | X8 &lt;chr&gt; | X9 &lt;chr&gt; | X10 &lt;chr&gt; | ⋯ ⋯ | X24 &lt;dbl&gt; | X25 &lt;dbl&gt; | X26 &lt;dbl&gt; | X27 &lt;dbl&gt; | X28 &lt;dbl&gt; | X29 &lt;dbl&gt; | X30 &lt;dbl&gt; | X31 &lt;dbl&gt; | X32 &lt;dbl&gt; | X33 &lt;dbl&gt; |\n",
       "|---|---|---|---|---|---|---|---|---|---|---|---|---|---|---|---|---|---|---|---|---|\n",
       "| chr10 | 102835000 | 102836000 | chr10 | 102901000 | 102902000 | . | . | . | . | ⋯ |  500 | 102834600 | 102835200 | 102901400 | 102901700 | 102834700 | 102901500 |  4 | 0.0002171732 |  0 |\n",
       "| chr10 | 123583000 | 123584000 | chr10 | 123967000 | 123968000 | . | . | . | . | ⋯ |  500 |        NA |        NA |        NA |        NA |        NA |        NA | NA |           NA | NA |\n",
       "| chr10 |  60780000 |  60782000 | chr10 |  60828000 |  60830000 | . | . | . | . | ⋯ |    0 |        NA |        NA |        NA |        NA |        NA |        NA | NA |           NA | NA |\n",
       "| chr10 |  33050000 |  33051000 | chr10 |  33067000 |  33068000 | . | . | . | . | ⋯ |    0 |        NA |        NA |        NA |        NA |        NA |        NA | NA |           NA | NA |\n",
       "| chr10 |  11412000 |  11414000 | chr10 |  11472000 |  11474000 | . | . | . | . | ⋯ |    0 |  11412000 |  11412500 |  11471700 |  11472700 |  11412200 |  11472100 | 10 | 0.0088614312 |  0 |\n",
       "| chr10 |  45005000 |  45010000 | chr10 |  45465000 |  45470000 | . | . | . | . | ⋯ | 2500 |        NA |        NA |        NA |        NA |        NA |        NA | NA |           NA | NA |\n",
       "\n"
      ],
      "text/plain": [
       "  X1    X2        X3        X4    X5        X6        X7 X8 X9 X10 ⋯ X24 \n",
       "1 chr10 102835000 102836000 chr10 102901000 102902000 .  .  .  .   ⋯  500\n",
       "2 chr10 123583000 123584000 chr10 123967000 123968000 .  .  .  .   ⋯  500\n",
       "3 chr10  60780000  60782000 chr10  60828000  60830000 .  .  .  .   ⋯    0\n",
       "4 chr10  33050000  33051000 chr10  33067000  33068000 .  .  .  .   ⋯    0\n",
       "5 chr10  11412000  11414000 chr10  11472000  11474000 .  .  .  .   ⋯    0\n",
       "6 chr10  45005000  45010000 chr10  45465000  45470000 .  .  .  .   ⋯ 2500\n",
       "  X25       X26       X27       X28       X29       X30       X31 X32         \n",
       "1 102834600 102835200 102901400 102901700 102834700 102901500  4  0.0002171732\n",
       "2        NA        NA        NA        NA        NA        NA NA            NA\n",
       "3        NA        NA        NA        NA        NA        NA NA            NA\n",
       "4        NA        NA        NA        NA        NA        NA NA            NA\n",
       "5  11412000  11412500  11471700  11472700  11412200  11472100 10  0.0088614312\n",
       "6        NA        NA        NA        NA        NA        NA NA            NA\n",
       "  X33\n",
       "1  0 \n",
       "2 NA \n",
       "3 NA \n",
       "4 NA \n",
       "5  0 \n",
       "6 NA "
      ]
     },
     "metadata": {},
     "output_type": "display_data"
    }
   ],
   "source": [
    "fdiry = file.path(FD_RES, \"source\", FOLDER)\n",
    "fname = \"K562.ENCSR479XDG.ENCFF256ZMD.loops.bedpe.gz\"\n",
    "fpath = file.path(fdiry, fname)\n",
    "\n",
    "dat = read_tsv(fpath, col_names = FALSE, comment = \"#\")\n",
    "\n",
    "dat_hic_loop = dat\n",
    "print(dim(dat))\n",
    "head(dat)"
   ]
  },
  {
   "cell_type": "markdown",
   "metadata": {},
   "source": [
    "## Arrange"
   ]
  },
  {
   "cell_type": "markdown",
   "metadata": {},
   "source": [
    "**Loop distance and size**"
   ]
  },
  {
   "cell_type": "code",
   "execution_count": 5,
   "metadata": {},
   "outputs": [
    {
     "name": "stdout",
     "output_type": "stream",
     "text": [
      "[1] 46004    12\n"
     ]
    },
    {
     "data": {
      "text/html": [
       "<table class=\"dataframe\">\n",
       "<caption>A tibble: 6 × 12</caption>\n",
       "<thead>\n",
       "\t<tr><th scope=col>Chrom_A</th><th scope=col>Start_A</th><th scope=col>End_A</th><th scope=col>Chrom_B</th><th scope=col>Start_B</th><th scope=col>End_B</th><th scope=col>Loop_A</th><th scope=col>Loop_B</th><th scope=col>Length_A</th><th scope=col>Length_B</th><th scope=col>Distance</th><th scope=col>Loop</th></tr>\n",
       "\t<tr><th scope=col>&lt;chr&gt;</th><th scope=col>&lt;dbl&gt;</th><th scope=col>&lt;dbl&gt;</th><th scope=col>&lt;chr&gt;</th><th scope=col>&lt;dbl&gt;</th><th scope=col>&lt;dbl&gt;</th><th scope=col>&lt;chr&gt;</th><th scope=col>&lt;chr&gt;</th><th scope=col>&lt;dbl&gt;</th><th scope=col>&lt;dbl&gt;</th><th scope=col>&lt;dbl&gt;</th><th scope=col>&lt;chr&gt;</th></tr>\n",
       "</thead>\n",
       "<tbody>\n",
       "\t<tr><td>chr10</td><td>102835000</td><td>102836000</td><td>chr10</td><td>102901000</td><td>102902000</td><td>chr10:102835000-102836000</td><td>chr10:102901000-102902000</td><td>1000</td><td>1000</td><td> 66000</td><td>chr10:102835000-102836000|chr10:102901000-102902000</td></tr>\n",
       "\t<tr><td>chr10</td><td>123583000</td><td>123584000</td><td>chr10</td><td>123967000</td><td>123968000</td><td>chr10:123583000-123584000</td><td>chr10:123967000-123968000</td><td>1000</td><td>1000</td><td>384000</td><td>chr10:123583000-123584000|chr10:123967000-123968000</td></tr>\n",
       "\t<tr><td>chr10</td><td> 60780000</td><td> 60782000</td><td>chr10</td><td> 60828000</td><td> 60830000</td><td>chr10:60780000-60782000  </td><td>chr10:60828000-60830000  </td><td>2000</td><td>2000</td><td> 48000</td><td>chr10:60780000-60782000|chr10:60828000-60830000    </td></tr>\n",
       "\t<tr><td>chr10</td><td> 33050000</td><td> 33051000</td><td>chr10</td><td> 33067000</td><td> 33068000</td><td>chr10:33050000-33051000  </td><td>chr10:33067000-33068000  </td><td>1000</td><td>1000</td><td> 17000</td><td>chr10:33050000-33051000|chr10:33067000-33068000    </td></tr>\n",
       "\t<tr><td>chr10</td><td> 11412000</td><td> 11414000</td><td>chr10</td><td> 11472000</td><td> 11474000</td><td>chr10:11412000-11414000  </td><td>chr10:11472000-11474000  </td><td>2000</td><td>2000</td><td> 60000</td><td>chr10:11412000-11414000|chr10:11472000-11474000    </td></tr>\n",
       "\t<tr><td>chr10</td><td> 45005000</td><td> 45010000</td><td>chr10</td><td> 45465000</td><td> 45470000</td><td>chr10:45005000-45010000  </td><td>chr10:45465000-45470000  </td><td>5000</td><td>5000</td><td>460000</td><td>chr10:45005000-45010000|chr10:45465000-45470000    </td></tr>\n",
       "</tbody>\n",
       "</table>\n"
      ],
      "text/latex": [
       "A tibble: 6 × 12\n",
       "\\begin{tabular}{llllllllllll}\n",
       " Chrom\\_A & Start\\_A & End\\_A & Chrom\\_B & Start\\_B & End\\_B & Loop\\_A & Loop\\_B & Length\\_A & Length\\_B & Distance & Loop\\\\\n",
       " <chr> & <dbl> & <dbl> & <chr> & <dbl> & <dbl> & <chr> & <chr> & <dbl> & <dbl> & <dbl> & <chr>\\\\\n",
       "\\hline\n",
       "\t chr10 & 102835000 & 102836000 & chr10 & 102901000 & 102902000 & chr10:102835000-102836000 & chr10:102901000-102902000 & 1000 & 1000 &  66000 & chr10:102835000-102836000\\textbar{}chr10:102901000-102902000\\\\\n",
       "\t chr10 & 123583000 & 123584000 & chr10 & 123967000 & 123968000 & chr10:123583000-123584000 & chr10:123967000-123968000 & 1000 & 1000 & 384000 & chr10:123583000-123584000\\textbar{}chr10:123967000-123968000\\\\\n",
       "\t chr10 &  60780000 &  60782000 & chr10 &  60828000 &  60830000 & chr10:60780000-60782000   & chr10:60828000-60830000   & 2000 & 2000 &  48000 & chr10:60780000-60782000\\textbar{}chr10:60828000-60830000    \\\\\n",
       "\t chr10 &  33050000 &  33051000 & chr10 &  33067000 &  33068000 & chr10:33050000-33051000   & chr10:33067000-33068000   & 1000 & 1000 &  17000 & chr10:33050000-33051000\\textbar{}chr10:33067000-33068000    \\\\\n",
       "\t chr10 &  11412000 &  11414000 & chr10 &  11472000 &  11474000 & chr10:11412000-11414000   & chr10:11472000-11474000   & 2000 & 2000 &  60000 & chr10:11412000-11414000\\textbar{}chr10:11472000-11474000    \\\\\n",
       "\t chr10 &  45005000 &  45010000 & chr10 &  45465000 &  45470000 & chr10:45005000-45010000   & chr10:45465000-45470000   & 5000 & 5000 & 460000 & chr10:45005000-45010000\\textbar{}chr10:45465000-45470000    \\\\\n",
       "\\end{tabular}\n"
      ],
      "text/markdown": [
       "\n",
       "A tibble: 6 × 12\n",
       "\n",
       "| Chrom_A &lt;chr&gt; | Start_A &lt;dbl&gt; | End_A &lt;dbl&gt; | Chrom_B &lt;chr&gt; | Start_B &lt;dbl&gt; | End_B &lt;dbl&gt; | Loop_A &lt;chr&gt; | Loop_B &lt;chr&gt; | Length_A &lt;dbl&gt; | Length_B &lt;dbl&gt; | Distance &lt;dbl&gt; | Loop &lt;chr&gt; |\n",
       "|---|---|---|---|---|---|---|---|---|---|---|---|\n",
       "| chr10 | 102835000 | 102836000 | chr10 | 102901000 | 102902000 | chr10:102835000-102836000 | chr10:102901000-102902000 | 1000 | 1000 |  66000 | chr10:102835000-102836000|chr10:102901000-102902000 |\n",
       "| chr10 | 123583000 | 123584000 | chr10 | 123967000 | 123968000 | chr10:123583000-123584000 | chr10:123967000-123968000 | 1000 | 1000 | 384000 | chr10:123583000-123584000|chr10:123967000-123968000 |\n",
       "| chr10 |  60780000 |  60782000 | chr10 |  60828000 |  60830000 | chr10:60780000-60782000   | chr10:60828000-60830000   | 2000 | 2000 |  48000 | chr10:60780000-60782000|chr10:60828000-60830000     |\n",
       "| chr10 |  33050000 |  33051000 | chr10 |  33067000 |  33068000 | chr10:33050000-33051000   | chr10:33067000-33068000   | 1000 | 1000 |  17000 | chr10:33050000-33051000|chr10:33067000-33068000     |\n",
       "| chr10 |  11412000 |  11414000 | chr10 |  11472000 |  11474000 | chr10:11412000-11414000   | chr10:11472000-11474000   | 2000 | 2000 |  60000 | chr10:11412000-11414000|chr10:11472000-11474000     |\n",
       "| chr10 |  45005000 |  45010000 | chr10 |  45465000 |  45470000 | chr10:45005000-45010000   | chr10:45465000-45470000   | 5000 | 5000 | 460000 | chr10:45005000-45010000|chr10:45465000-45470000     |\n",
       "\n"
      ],
      "text/plain": [
       "  Chrom_A Start_A   End_A     Chrom_B Start_B   End_B    \n",
       "1 chr10   102835000 102836000 chr10   102901000 102902000\n",
       "2 chr10   123583000 123584000 chr10   123967000 123968000\n",
       "3 chr10    60780000  60782000 chr10    60828000  60830000\n",
       "4 chr10    33050000  33051000 chr10    33067000  33068000\n",
       "5 chr10    11412000  11414000 chr10    11472000  11474000\n",
       "6 chr10    45005000  45010000 chr10    45465000  45470000\n",
       "  Loop_A                    Loop_B                    Length_A Length_B\n",
       "1 chr10:102835000-102836000 chr10:102901000-102902000 1000     1000    \n",
       "2 chr10:123583000-123584000 chr10:123967000-123968000 1000     1000    \n",
       "3 chr10:60780000-60782000   chr10:60828000-60830000   2000     2000    \n",
       "4 chr10:33050000-33051000   chr10:33067000-33068000   1000     1000    \n",
       "5 chr10:11412000-11414000   chr10:11472000-11474000   2000     2000    \n",
       "6 chr10:45005000-45010000   chr10:45465000-45470000   5000     5000    \n",
       "  Distance Loop                                               \n",
       "1  66000   chr10:102835000-102836000|chr10:102901000-102902000\n",
       "2 384000   chr10:123583000-123584000|chr10:123967000-123968000\n",
       "3  48000   chr10:60780000-60782000|chr10:60828000-60830000    \n",
       "4  17000   chr10:33050000-33051000|chr10:33067000-33068000    \n",
       "5  60000   chr10:11412000-11414000|chr10:11472000-11474000    \n",
       "6 460000   chr10:45005000-45010000|chr10:45465000-45470000    "
      ]
     },
     "metadata": {},
     "output_type": "display_data"
    }
   ],
   "source": [
    "dat = dat_hic_loop\n",
    "dat = dat[,1:6]\n",
    "\n",
    "cnames = c(\"Chrom_A\", \"Start_A\", \"End_A\", \"Chrom_B\", \"Start_B\", \"End_B\")\n",
    "colnames(dat) = cnames\n",
    "\n",
    "dat = dat %>%\n",
    "    dplyr::mutate(\n",
    "        Loop_A    = paste0(Chrom_A, \":\", Start_A, \"-\", End_A),\n",
    "        Loop_B    = paste0(Chrom_B, \":\", Start_B, \"-\", End_B),\n",
    "        Length_A  = End_A - Start_A,\n",
    "        Length_B  = End_B - Start_B,\n",
    "        Distance = abs((Start_A + End_A) / 2 - (Start_B + End_B) / 2)\n",
    "    ) %>%\n",
    "    dplyr::mutate(\n",
    "        Loop = paste0(Loop_A, \"|\", Loop_B)\n",
    "    ) %>%\n",
    "    dplyr::distinct()\n",
    "\n",
    "dat_hic_loop_info = dat\n",
    "print(dim(dat))\n",
    "head(dat)"
   ]
  },
  {
   "cell_type": "markdown",
   "metadata": {},
   "source": [
    "## Save results for loop annotation"
   ]
  },
  {
   "cell_type": "code",
   "execution_count": 11,
   "metadata": {},
   "outputs": [],
   "source": [
    "dat_loop_A = dat_hic_loop_info %>% dplyr::select(Chrom_A, Start_A, End_A) %>% dplyr::distinct() %>% dplyr::arrange(Chrom_A, Start_A, End_A)\n",
    "dat_loop_B = dat_hic_loop_info %>% dplyr::select(Chrom_B, Start_B, End_B) %>% dplyr::distinct() %>% dplyr::arrange(Chrom_B, Start_B, End_B)"
   ]
  },
  {
   "cell_type": "code",
   "execution_count": 12,
   "metadata": {},
   "outputs": [
    {
     "data": {
      "text/html": [
       "<table class=\"dataframe\">\n",
       "<caption>A tibble: 6 × 3</caption>\n",
       "<thead>\n",
       "\t<tr><th scope=col>Chrom_A</th><th scope=col>Start_A</th><th scope=col>End_A</th></tr>\n",
       "\t<tr><th scope=col>&lt;chr&gt;</th><th scope=col>&lt;dbl&gt;</th><th scope=col>&lt;dbl&gt;</th></tr>\n",
       "</thead>\n",
       "<tbody>\n",
       "\t<tr><td>chr1</td><td> 770000</td><td> 780000</td></tr>\n",
       "\t<tr><td>chr1</td><td> 904000</td><td> 906000</td></tr>\n",
       "\t<tr><td>chr1</td><td> 920000</td><td> 925000</td></tr>\n",
       "\t<tr><td>chr1</td><td> 980000</td><td> 990000</td></tr>\n",
       "\t<tr><td>chr1</td><td> 984000</td><td> 985000</td></tr>\n",
       "\t<tr><td>chr1</td><td>1000000</td><td>1005000</td></tr>\n",
       "</tbody>\n",
       "</table>\n"
      ],
      "text/latex": [
       "A tibble: 6 × 3\n",
       "\\begin{tabular}{lll}\n",
       " Chrom\\_A & Start\\_A & End\\_A\\\\\n",
       " <chr> & <dbl> & <dbl>\\\\\n",
       "\\hline\n",
       "\t chr1 &  770000 &  780000\\\\\n",
       "\t chr1 &  904000 &  906000\\\\\n",
       "\t chr1 &  920000 &  925000\\\\\n",
       "\t chr1 &  980000 &  990000\\\\\n",
       "\t chr1 &  984000 &  985000\\\\\n",
       "\t chr1 & 1000000 & 1005000\\\\\n",
       "\\end{tabular}\n"
      ],
      "text/markdown": [
       "\n",
       "A tibble: 6 × 3\n",
       "\n",
       "| Chrom_A &lt;chr&gt; | Start_A &lt;dbl&gt; | End_A &lt;dbl&gt; |\n",
       "|---|---|---|\n",
       "| chr1 |  770000 |  780000 |\n",
       "| chr1 |  904000 |  906000 |\n",
       "| chr1 |  920000 |  925000 |\n",
       "| chr1 |  980000 |  990000 |\n",
       "| chr1 |  984000 |  985000 |\n",
       "| chr1 | 1000000 | 1005000 |\n",
       "\n"
      ],
      "text/plain": [
       "  Chrom_A Start_A End_A  \n",
       "1 chr1     770000  780000\n",
       "2 chr1     904000  906000\n",
       "3 chr1     920000  925000\n",
       "4 chr1     980000  990000\n",
       "5 chr1     984000  985000\n",
       "6 chr1    1000000 1005000"
      ]
     },
     "metadata": {},
     "output_type": "display_data"
    }
   ],
   "source": [
    "head(dat_loop_A)"
   ]
  },
  {
   "cell_type": "code",
   "execution_count": 13,
   "metadata": {},
   "outputs": [
    {
     "data": {
      "text/html": [
       "<table class=\"dataframe\">\n",
       "<caption>A tibble: 6 × 3</caption>\n",
       "<thead>\n",
       "\t<tr><th scope=col>Chrom_B</th><th scope=col>Start_B</th><th scope=col>End_B</th></tr>\n",
       "\t<tr><th scope=col>&lt;chr&gt;</th><th scope=col>&lt;dbl&gt;</th><th scope=col>&lt;dbl&gt;</th></tr>\n",
       "</thead>\n",
       "<tbody>\n",
       "\t<tr><td>chr1</td><td> 840000</td><td> 850000</td></tr>\n",
       "\t<tr><td>chr1</td><td> 976000</td><td> 978000</td></tr>\n",
       "\t<tr><td>chr1</td><td>1060000</td><td>1065000</td></tr>\n",
       "\t<tr><td>chr1</td><td>1062000</td><td>1063000</td></tr>\n",
       "\t<tr><td>chr1</td><td>1063000</td><td>1064000</td></tr>\n",
       "\t<tr><td>chr1</td><td>1116000</td><td>1117000</td></tr>\n",
       "</tbody>\n",
       "</table>\n"
      ],
      "text/latex": [
       "A tibble: 6 × 3\n",
       "\\begin{tabular}{lll}\n",
       " Chrom\\_B & Start\\_B & End\\_B\\\\\n",
       " <chr> & <dbl> & <dbl>\\\\\n",
       "\\hline\n",
       "\t chr1 &  840000 &  850000\\\\\n",
       "\t chr1 &  976000 &  978000\\\\\n",
       "\t chr1 & 1060000 & 1065000\\\\\n",
       "\t chr1 & 1062000 & 1063000\\\\\n",
       "\t chr1 & 1063000 & 1064000\\\\\n",
       "\t chr1 & 1116000 & 1117000\\\\\n",
       "\\end{tabular}\n"
      ],
      "text/markdown": [
       "\n",
       "A tibble: 6 × 3\n",
       "\n",
       "| Chrom_B &lt;chr&gt; | Start_B &lt;dbl&gt; | End_B &lt;dbl&gt; |\n",
       "|---|---|---|\n",
       "| chr1 |  840000 |  850000 |\n",
       "| chr1 |  976000 |  978000 |\n",
       "| chr1 | 1060000 | 1065000 |\n",
       "| chr1 | 1062000 | 1063000 |\n",
       "| chr1 | 1063000 | 1064000 |\n",
       "| chr1 | 1116000 | 1117000 |\n",
       "\n"
      ],
      "text/plain": [
       "  Chrom_B Start_B End_B  \n",
       "1 chr1     840000  850000\n",
       "2 chr1     976000  978000\n",
       "3 chr1    1060000 1065000\n",
       "4 chr1    1062000 1063000\n",
       "5 chr1    1063000 1064000\n",
       "6 chr1    1116000 1117000"
      ]
     },
     "metadata": {},
     "output_type": "display_data"
    }
   ],
   "source": [
    "head(dat_loop_B)"
   ]
  },
  {
   "cell_type": "code",
   "execution_count": 14,
   "metadata": {},
   "outputs": [
    {
     "data": {
      "text/html": [
       "<style>\n",
       ".list-inline {list-style: none; margin:0; padding: 0}\n",
       ".list-inline>li {display: inline-block}\n",
       ".list-inline>li:not(:last-child)::after {content: \"\\00b7\"; padding: 0 .5ex}\n",
       "</style>\n",
       "<ol class=list-inline><li>'/data/reddylab/Kuei/out/proj_combeffect_encode_fcc/results/region/hic_intact_deep'</li><li>'/data/reddylab/Kuei/out/proj_combeffect_encode_fcc/results/region/hic_intact_ENCSR479XDG'</li></ol>\n"
      ],
      "text/latex": [
       "\\begin{enumerate*}\n",
       "\\item '/data/reddylab/Kuei/out/proj\\_combeffect\\_encode\\_fcc/results/region/hic\\_intact\\_deep'\n",
       "\\item '/data/reddylab/Kuei/out/proj\\_combeffect\\_encode\\_fcc/results/region/hic\\_intact\\_ENCSR479XDG'\n",
       "\\end{enumerate*}\n"
      ],
      "text/markdown": [
       "1. '/data/reddylab/Kuei/out/proj_combeffect_encode_fcc/results/region/hic_intact_deep'\n",
       "2. '/data/reddylab/Kuei/out/proj_combeffect_encode_fcc/results/region/hic_intact_ENCSR479XDG'\n",
       "\n",
       "\n"
      ],
      "text/plain": [
       "[1] \"/data/reddylab/Kuei/out/proj_combeffect_encode_fcc/results/region/hic_intact_deep\"       \n",
       "[2] \"/data/reddylab/Kuei/out/proj_combeffect_encode_fcc/results/region/hic_intact_ENCSR479XDG\""
      ]
     },
     "metadata": {},
     "output_type": "display_data"
    }
   ],
   "source": [
    "fdiry = file.path(FD_RES, \"results\", \"region\")\n",
    "fglob = file.path(fdiry, \"hic_intact*\")\n",
    "Sys.glob(fglob)"
   ]
  },
  {
   "cell_type": "code",
   "execution_count": 15,
   "metadata": {},
   "outputs": [],
   "source": [
    "###\n",
    "FOLDER=\"hic_intact_ENCSR479XDG\"\n",
    "fdiry = file.path(FD_RES, \"results\", \"region\", FOLDER)\n",
    "\n",
    "###\n",
    "fname = \"hic_intact.ENCSR479XDG.Loop_A.bed.gz\"\n",
    "fpath = file.path(fdiry, fname)\n",
    "\n",
    "dat = dat_loop_A\n",
    "write_tsv(dat, fpath, col_names = FALSE)\n",
    "\n",
    "###\n",
    "fname = \"hic_intact.ENCSR479XDG.Loop_B.bed.gz\"\n",
    "fpath = file.path(fdiry, fname)\n",
    "\n",
    "dat = dat_loop_B\n",
    "write_tsv(dat, fpath, col_names = FALSE)\n",
    "\n",
    "###\n",
    "fname = \"hic_intact.ENCSR479XDG.Loop_info.tsv\"\n",
    "fpath = file.path(fdiry, fname)\n",
    "\n",
    "dat = dat_hic_loop_info\n",
    "write_tsv(dat, fpath)"
   ]
  },
  {
   "cell_type": "code",
   "execution_count": null,
   "metadata": {},
   "outputs": [],
   "source": []
  }
 ],
 "metadata": {
  "kernelspec": {
   "display_name": "R",
   "language": "R",
   "name": "ir"
  },
  "language_info": {
   "codemirror_mode": "r",
   "file_extension": ".r",
   "mimetype": "text/x-r-source",
   "name": "R",
   "pygments_lexer": "r",
   "version": "4.3.0"
  }
 },
 "nbformat": 4,
 "nbformat_minor": 4
}
