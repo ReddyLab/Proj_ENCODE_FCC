{
 "cells": [
  {
   "cell_type": "markdown",
   "id": "8f2473f4-9264-4927-89ee-aef4e42e0217",
   "metadata": {},
   "source": [
    "**Set environment**"
   ]
  },
  {
   "cell_type": "code",
   "execution_count": 1,
   "id": "2d60dff3-bccb-4695-ba3f-61414ecea136",
   "metadata": {},
   "outputs": [
    {
     "name": "stdout",
     "output_type": "stream",
     "text": [
      "You are in Singularity: singularity_proj_encode_fcc \n",
      "BASE DIRECTORY (FD_BASE): /data/reddylab/Kuei \n",
      "WORK DIRECTORY (FD_WORK): /data/reddylab/Kuei/out \n",
      "CODE DIRECTORY (FD_CODE): /data/reddylab/Kuei/code \n",
      "PATH OF PROJECT (FD_PRJ): /data/reddylab/Kuei/code/Proj_CombEffect_ENCODE_FCC \n",
      "PATH OF RESULTS (FD_RES): /data/reddylab/Kuei/out/proj_combeffect_encode_fcc \n",
      "PATH OF LOG     (FD_LOG): /data/reddylab/Kuei/out/proj_combeffect_encode_fcc/log \n"
     ]
    }
   ],
   "source": [
    "suppressMessages(suppressWarnings(source(\"../config/config_sing.R\")))\n",
    "show_env()"
   ]
  },
  {
   "cell_type": "markdown",
   "id": "c6eb74f2-a0bc-4315-8f2c-6eac2b9196a5",
   "metadata": {},
   "source": [
    "### ENCODE cCREs v4 Silencer (REST)"
   ]
  },
  {
   "cell_type": "code",
   "execution_count": 2,
   "id": "c28ae30e-77a5-4635-8bd4-91561f22565a",
   "metadata": {},
   "outputs": [
    {
     "name": "stderr",
     "output_type": "stream",
     "text": [
      "\u001b[1mRows: \u001b[22m\u001b[34m7821\u001b[39m \u001b[1mColumns: \u001b[22m\u001b[34m6\u001b[39m\n",
      "\u001b[36m──\u001b[39m \u001b[1mColumn specification\u001b[22m \u001b[36m──────────────────────────────────────────────────────────────────────\u001b[39m\n",
      "\u001b[1mDelimiter:\u001b[22m \"\\t\"\n",
      "\u001b[31mchr\u001b[39m (4): Chr, cCRE accession, cCRE class, Silencer class\n",
      "\u001b[32mdbl\u001b[39m (2): Start, End\n",
      "\n",
      "\u001b[36mℹ\u001b[39m Use `spec()` to retrieve the full column specification for this data.\n",
      "\u001b[36mℹ\u001b[39m Specify the column types or set `show_col_types = FALSE` to quiet this message.\n"
     ]
    },
    {
     "name": "stdout",
     "output_type": "stream",
     "text": [
      "[1] 7821    6\n"
     ]
    },
    {
     "data": {
      "text/html": [
       "<table class=\"dataframe\">\n",
       "<caption>A tibble: 6 × 6</caption>\n",
       "<thead>\n",
       "\t<tr><th scope=col>Chr</th><th scope=col>Start</th><th scope=col>End</th><th scope=col>cCRE accession</th><th scope=col>cCRE class</th><th scope=col>Silencer class</th></tr>\n",
       "\t<tr><th scope=col>&lt;chr&gt;</th><th scope=col>&lt;dbl&gt;</th><th scope=col>&lt;dbl&gt;</th><th scope=col>&lt;chr&gt;</th><th scope=col>&lt;chr&gt;</th><th scope=col>&lt;chr&gt;</th></tr>\n",
       "</thead>\n",
       "<tbody>\n",
       "\t<tr><td>chr10</td><td>100680786</td><td>100681128</td><td>EH38E4018829</td><td>CA-H3K4me3</td><td>REST+ silencer</td></tr>\n",
       "\t<tr><td>chr10</td><td>101081011</td><td>101081271</td><td>EH38E4018984</td><td>CA-TF     </td><td>REST+ silencer</td></tr>\n",
       "\t<tr><td>chr10</td><td>102361781</td><td>102362038</td><td>EH38E4019348</td><td>CA-CTCF   </td><td>REST+ silencer</td></tr>\n",
       "\t<tr><td>chr10</td><td>103265839</td><td>103266036</td><td>EH38E1495742</td><td>CA-CTCF   </td><td>REST+ silencer</td></tr>\n",
       "\t<tr><td>chr10</td><td>104548071</td><td>104548416</td><td>EH38E4019821</td><td>CA-TF     </td><td>REST+ silencer</td></tr>\n",
       "\t<tr><td>chr10</td><td>104750418</td><td>104750581</td><td>EH38E4019865</td><td>CA-TF     </td><td>REST+ silencer</td></tr>\n",
       "</tbody>\n",
       "</table>\n"
      ],
      "text/latex": [
       "A tibble: 6 × 6\n",
       "\\begin{tabular}{llllll}\n",
       " Chr & Start & End & cCRE accession & cCRE class & Silencer class\\\\\n",
       " <chr> & <dbl> & <dbl> & <chr> & <chr> & <chr>\\\\\n",
       "\\hline\n",
       "\t chr10 & 100680786 & 100681128 & EH38E4018829 & CA-H3K4me3 & REST+ silencer\\\\\n",
       "\t chr10 & 101081011 & 101081271 & EH38E4018984 & CA-TF      & REST+ silencer\\\\\n",
       "\t chr10 & 102361781 & 102362038 & EH38E4019348 & CA-CTCF    & REST+ silencer\\\\\n",
       "\t chr10 & 103265839 & 103266036 & EH38E1495742 & CA-CTCF    & REST+ silencer\\\\\n",
       "\t chr10 & 104548071 & 104548416 & EH38E4019821 & CA-TF      & REST+ silencer\\\\\n",
       "\t chr10 & 104750418 & 104750581 & EH38E4019865 & CA-TF      & REST+ silencer\\\\\n",
       "\\end{tabular}\n"
      ],
      "text/markdown": [
       "\n",
       "A tibble: 6 × 6\n",
       "\n",
       "| Chr &lt;chr&gt; | Start &lt;dbl&gt; | End &lt;dbl&gt; | cCRE accession &lt;chr&gt; | cCRE class &lt;chr&gt; | Silencer class &lt;chr&gt; |\n",
       "|---|---|---|---|---|---|\n",
       "| chr10 | 100680786 | 100681128 | EH38E4018829 | CA-H3K4me3 | REST+ silencer |\n",
       "| chr10 | 101081011 | 101081271 | EH38E4018984 | CA-TF      | REST+ silencer |\n",
       "| chr10 | 102361781 | 102362038 | EH38E4019348 | CA-CTCF    | REST+ silencer |\n",
       "| chr10 | 103265839 | 103266036 | EH38E1495742 | CA-CTCF    | REST+ silencer |\n",
       "| chr10 | 104548071 | 104548416 | EH38E4019821 | CA-TF      | REST+ silencer |\n",
       "| chr10 | 104750418 | 104750581 | EH38E4019865 | CA-TF      | REST+ silencer |\n",
       "\n"
      ],
      "text/plain": [
       "  Chr   Start     End       cCRE accession cCRE class Silencer class\n",
       "1 chr10 100680786 100681128 EH38E4018829   CA-H3K4me3 REST+ silencer\n",
       "2 chr10 101081011 101081271 EH38E4018984   CA-TF      REST+ silencer\n",
       "3 chr10 102361781 102362038 EH38E4019348   CA-CTCF    REST+ silencer\n",
       "4 chr10 103265839 103266036 EH38E1495742   CA-CTCF    REST+ silencer\n",
       "5 chr10 104548071 104548416 EH38E4019821   CA-TF      REST+ silencer\n",
       "6 chr10 104750418 104750581 EH38E4019865   CA-TF      REST+ silencer"
      ]
     },
     "metadata": {},
     "output_type": "display_data"
    }
   ],
   "source": [
    "fdiry = file.path(FD_RES, \"source\", \"annotation_cCREs\")\n",
    "fname = \"ccres_v4.silencer.rest.tsv\"\n",
    "fpath = file.path(fdiry, fname)\n",
    "\n",
    "dat = read_tsv(fpath, comment = \"#\")\n",
    "\n",
    "dat_ccre_v4_silencer_rest = dat\n",
    "print(dim(dat))\n",
    "head(dat)"
   ]
  },
  {
   "cell_type": "markdown",
   "id": "e22624fd-e9c5-48e4-8ceb-f26ea8e25189",
   "metadata": {},
   "source": [
    "### ENCODE cCREs v4 Silencer (STARR)"
   ]
  },
  {
   "cell_type": "code",
   "execution_count": 3,
   "id": "39506c67-aaa2-4fe2-b366-470fbcccb14f",
   "metadata": {},
   "outputs": [
    {
     "name": "stderr",
     "output_type": "stream",
     "text": [
      "\u001b[1mRows: \u001b[22m\u001b[34m5468\u001b[39m \u001b[1mColumns: \u001b[22m\u001b[34m8\u001b[39m\n",
      "\u001b[36m──\u001b[39m \u001b[1mColumn specification\u001b[22m \u001b[36m──────────────────────────────────────────────────────────────────────\u001b[39m\n",
      "\u001b[1mDelimiter:\u001b[22m \"\\t\"\n",
      "\u001b[31mchr\u001b[39m (4): Chr, cCRE accession, cCRE class, Threshold\n",
      "\u001b[32mdbl\u001b[39m (4): Start, End, CAPRA quantification, P-value\n",
      "\n",
      "\u001b[36mℹ\u001b[39m Use `spec()` to retrieve the full column specification for this data.\n",
      "\u001b[36mℹ\u001b[39m Specify the column types or set `show_col_types = FALSE` to quiet this message.\n"
     ]
    },
    {
     "name": "stdout",
     "output_type": "stream",
     "text": [
      "[1] 5468    8\n"
     ]
    },
    {
     "data": {
      "text/html": [
       "<table class=\"dataframe\">\n",
       "<caption>A tibble: 6 × 8</caption>\n",
       "<thead>\n",
       "\t<tr><th scope=col>Chr</th><th scope=col>Start</th><th scope=col>End</th><th scope=col>cCRE accession</th><th scope=col>cCRE class</th><th scope=col>CAPRA quantification</th><th scope=col>P-value</th><th scope=col>Threshold</th></tr>\n",
       "\t<tr><th scope=col>&lt;chr&gt;</th><th scope=col>&lt;dbl&gt;</th><th scope=col>&lt;dbl&gt;</th><th scope=col>&lt;chr&gt;</th><th scope=col>&lt;chr&gt;</th><th scope=col>&lt;dbl&gt;</th><th scope=col>&lt;dbl&gt;</th><th scope=col>&lt;chr&gt;</th></tr>\n",
       "</thead>\n",
       "<tbody>\n",
       "\t<tr><td>chr13</td><td> 22970420</td><td> 22970595</td><td>EH38E4082602</td><td>CA  </td><td>-2.7481</td><td>1.15e-09</td><td>Stringent</td></tr>\n",
       "\t<tr><td>chr1 </td><td>  9356890</td><td>  9357240</td><td>EH38E3954005</td><td>TF  </td><td>-2.3927</td><td>8.63e-07</td><td>Stringent</td></tr>\n",
       "\t<tr><td>chr14</td><td> 92678182</td><td> 92678371</td><td>EH38E4113580</td><td>TF  </td><td>-2.3075</td><td>5.20e-06</td><td>Stringent</td></tr>\n",
       "\t<tr><td>chr6 </td><td>131563578</td><td>131563769</td><td>EH38E4417327</td><td>CA  </td><td>-2.3047</td><td>5.71e-06</td><td>Stringent</td></tr>\n",
       "\t<tr><td>chr9 </td><td> 75977404</td><td> 75977605</td><td>EH38E3886686</td><td>dELS</td><td>-2.2951</td><td>6.58e-06</td><td>Stringent</td></tr>\n",
       "\t<tr><td>chr16</td><td> 26844012</td><td> 26844260</td><td>EH38E4140223</td><td>CA  </td><td>-2.2464</td><td>1.03e-05</td><td>Stringent</td></tr>\n",
       "</tbody>\n",
       "</table>\n"
      ],
      "text/latex": [
       "A tibble: 6 × 8\n",
       "\\begin{tabular}{llllllll}\n",
       " Chr & Start & End & cCRE accession & cCRE class & CAPRA quantification & P-value & Threshold\\\\\n",
       " <chr> & <dbl> & <dbl> & <chr> & <chr> & <dbl> & <dbl> & <chr>\\\\\n",
       "\\hline\n",
       "\t chr13 &  22970420 &  22970595 & EH38E4082602 & CA   & -2.7481 & 1.15e-09 & Stringent\\\\\n",
       "\t chr1  &   9356890 &   9357240 & EH38E3954005 & TF   & -2.3927 & 8.63e-07 & Stringent\\\\\n",
       "\t chr14 &  92678182 &  92678371 & EH38E4113580 & TF   & -2.3075 & 5.20e-06 & Stringent\\\\\n",
       "\t chr6  & 131563578 & 131563769 & EH38E4417327 & CA   & -2.3047 & 5.71e-06 & Stringent\\\\\n",
       "\t chr9  &  75977404 &  75977605 & EH38E3886686 & dELS & -2.2951 & 6.58e-06 & Stringent\\\\\n",
       "\t chr16 &  26844012 &  26844260 & EH38E4140223 & CA   & -2.2464 & 1.03e-05 & Stringent\\\\\n",
       "\\end{tabular}\n"
      ],
      "text/markdown": [
       "\n",
       "A tibble: 6 × 8\n",
       "\n",
       "| Chr &lt;chr&gt; | Start &lt;dbl&gt; | End &lt;dbl&gt; | cCRE accession &lt;chr&gt; | cCRE class &lt;chr&gt; | CAPRA quantification &lt;dbl&gt; | P-value &lt;dbl&gt; | Threshold &lt;chr&gt; |\n",
       "|---|---|---|---|---|---|---|---|\n",
       "| chr13 |  22970420 |  22970595 | EH38E4082602 | CA   | -2.7481 | 1.15e-09 | Stringent |\n",
       "| chr1  |   9356890 |   9357240 | EH38E3954005 | TF   | -2.3927 | 8.63e-07 | Stringent |\n",
       "| chr14 |  92678182 |  92678371 | EH38E4113580 | TF   | -2.3075 | 5.20e-06 | Stringent |\n",
       "| chr6  | 131563578 | 131563769 | EH38E4417327 | CA   | -2.3047 | 5.71e-06 | Stringent |\n",
       "| chr9  |  75977404 |  75977605 | EH38E3886686 | dELS | -2.2951 | 6.58e-06 | Stringent |\n",
       "| chr16 |  26844012 |  26844260 | EH38E4140223 | CA   | -2.2464 | 1.03e-05 | Stringent |\n",
       "\n"
      ],
      "text/plain": [
       "  Chr   Start     End       cCRE accession cCRE class CAPRA quantification\n",
       "1 chr13  22970420  22970595 EH38E4082602   CA         -2.7481             \n",
       "2 chr1    9356890   9357240 EH38E3954005   TF         -2.3927             \n",
       "3 chr14  92678182  92678371 EH38E4113580   TF         -2.3075             \n",
       "4 chr6  131563578 131563769 EH38E4417327   CA         -2.3047             \n",
       "5 chr9   75977404  75977605 EH38E3886686   dELS       -2.2951             \n",
       "6 chr16  26844012  26844260 EH38E4140223   CA         -2.2464             \n",
       "  P-value  Threshold\n",
       "1 1.15e-09 Stringent\n",
       "2 8.63e-07 Stringent\n",
       "3 5.20e-06 Stringent\n",
       "4 5.71e-06 Stringent\n",
       "5 6.58e-06 Stringent\n",
       "6 1.03e-05 Stringent"
      ]
     },
     "metadata": {},
     "output_type": "display_data"
    }
   ],
   "source": [
    "fdiry = file.path(FD_RES, \"source\", \"annotation_cCREs\")\n",
    "fname = \"ccres_v4.silencer.starr.tsv\"\n",
    "fpath = file.path(fdiry, fname)\n",
    "\n",
    "dat = read_tsv(fpath, comment = \"#\")\n",
    "\n",
    "dat_ccre_v4_silencer_starr = dat\n",
    "print(dim(dat))\n",
    "head(dat)"
   ]
  },
  {
   "cell_type": "markdown",
   "id": "6476e098-937b-4db8-8a3d-0cf04c5f980b",
   "metadata": {},
   "source": [
    "## Data dictionary"
   ]
  },
  {
   "cell_type": "code",
   "execution_count": 4,
   "id": "a5b2ab9e-945c-460d-afc8-e09244545339",
   "metadata": {},
   "outputs": [
    {
     "data": {
      "text/html": [
       "<table class=\"dataframe\">\n",
       "<caption>A tibble: 8 × 2</caption>\n",
       "<thead>\n",
       "\t<tr><th scope=col>Name</th><th scope=col>Description</th></tr>\n",
       "\t<tr><th scope=col>&lt;chr&gt;</th><th scope=col>&lt;chr&gt;</th></tr>\n",
       "</thead>\n",
       "<tbody>\n",
       "\t<tr><td>Chrom            </td><td>Chromosome                              </td></tr>\n",
       "\t<tr><td>Start            </td><td>Start position                          </td></tr>\n",
       "\t<tr><td>End              </td><td>End position                            </td></tr>\n",
       "\t<tr><td>Name             </td><td>Name                                    </td></tr>\n",
       "\t<tr><td>Score            </td><td>Score                                   </td></tr>\n",
       "\t<tr><td>Strand           </td><td>[+-.]; Use '.' if no strand is assigned.</td></tr>\n",
       "\t<tr><td>Category_cCREs   </td><td>Label of cCREs type                     </td></tr>\n",
       "\t<tr><td>Category_Silencer</td><td>Label of silencer                       </td></tr>\n",
       "</tbody>\n",
       "</table>\n"
      ],
      "text/latex": [
       "A tibble: 8 × 2\n",
       "\\begin{tabular}{ll}\n",
       " Name & Description\\\\\n",
       " <chr> & <chr>\\\\\n",
       "\\hline\n",
       "\t Chrom             & Chromosome                              \\\\\n",
       "\t Start             & Start position                          \\\\\n",
       "\t End               & End position                            \\\\\n",
       "\t Name              & Name                                    \\\\\n",
       "\t Score             & Score                                   \\\\\n",
       "\t Strand            & {[}+-.{]}; Use '.' if no strand is assigned.\\\\\n",
       "\t Category\\_cCREs    & Label of cCREs type                     \\\\\n",
       "\t Category\\_Silencer & Label of silencer                       \\\\\n",
       "\\end{tabular}\n"
      ],
      "text/markdown": [
       "\n",
       "A tibble: 8 × 2\n",
       "\n",
       "| Name &lt;chr&gt; | Description &lt;chr&gt; |\n",
       "|---|---|\n",
       "| Chrom             | Chromosome                               |\n",
       "| Start             | Start position                           |\n",
       "| End               | End position                             |\n",
       "| Name              | Name                                     |\n",
       "| Score             | Score                                    |\n",
       "| Strand            | [+-.]; Use '.' if no strand is assigned. |\n",
       "| Category_cCREs    | Label of cCREs type                      |\n",
       "| Category_Silencer | Label of silencer                        |\n",
       "\n"
      ],
      "text/plain": [
       "  Name              Description                             \n",
       "1 Chrom             Chromosome                              \n",
       "2 Start             Start position                          \n",
       "3 End               End position                            \n",
       "4 Name              Name                                    \n",
       "5 Score             Score                                   \n",
       "6 Strand            [+-.]; Use '.' if no strand is assigned.\n",
       "7 Category_cCREs    Label of cCREs type                     \n",
       "8 Category_Silencer Label of silencer                       "
      ]
     },
     "metadata": {},
     "output_type": "display_data"
    }
   ],
   "source": [
    "dat_cnames = tribble(\n",
    "    ~Name,               ~Description,\n",
    "    \"Chrom\",             \"Chromosome\",\n",
    "    \"Start\",             \"Start position\",\n",
    "    \"End\",               \"End position\",\n",
    "    \"Name\",              \"Name\",\n",
    "    \"Score\",             \"Score\",\n",
    "    \"Strand\",            \"[+-.]; Use '.' if no strand is assigned.\",\n",
    "    \"Category_cCREs\",    \"Label of cCREs type\",\n",
    "    \"Category_Silencer\", \"Label of silencer\"\n",
    ")\n",
    "\n",
    "dat_cnames"
   ]
  },
  {
   "cell_type": "markdown",
   "id": "ffe6c30b-2624-4fdb-a236-04413cade519",
   "metadata": {},
   "source": [
    "## Arrange columns"
   ]
  },
  {
   "cell_type": "code",
   "execution_count": 6,
   "id": "517ce50f-d1eb-4df4-b633-6320c3a5586d",
   "metadata": {},
   "outputs": [
    {
     "name": "stdout",
     "output_type": "stream",
     "text": [
      "[1] 7821    8\n"
     ]
    },
    {
     "data": {
      "text/html": [
       "<table class=\"dataframe\">\n",
       "<caption>A tibble: 6 × 8</caption>\n",
       "<thead>\n",
       "\t<tr><th scope=col>Chr</th><th scope=col>Start</th><th scope=col>End</th><th scope=col>cCRE accession</th><th scope=col>Score</th><th scope=col>Strand</th><th scope=col>cCRE class</th><th scope=col>Silencer class</th></tr>\n",
       "\t<tr><th scope=col>&lt;chr&gt;</th><th scope=col>&lt;dbl&gt;</th><th scope=col>&lt;dbl&gt;</th><th scope=col>&lt;chr&gt;</th><th scope=col>&lt;dbl&gt;</th><th scope=col>&lt;chr&gt;</th><th scope=col>&lt;chr&gt;</th><th scope=col>&lt;chr&gt;</th></tr>\n",
       "</thead>\n",
       "<tbody>\n",
       "\t<tr><td>chr10</td><td>100680786</td><td>100681128</td><td>EH38E4018829</td><td>0</td><td>.</td><td>CA-H3K4me3</td><td>REST+ silencer</td></tr>\n",
       "\t<tr><td>chr10</td><td>101081011</td><td>101081271</td><td>EH38E4018984</td><td>0</td><td>.</td><td>CA-TF     </td><td>REST+ silencer</td></tr>\n",
       "\t<tr><td>chr10</td><td>102361781</td><td>102362038</td><td>EH38E4019348</td><td>0</td><td>.</td><td>CA-CTCF   </td><td>REST+ silencer</td></tr>\n",
       "\t<tr><td>chr10</td><td>103265839</td><td>103266036</td><td>EH38E1495742</td><td>0</td><td>.</td><td>CA-CTCF   </td><td>REST+ silencer</td></tr>\n",
       "\t<tr><td>chr10</td><td>104548071</td><td>104548416</td><td>EH38E4019821</td><td>0</td><td>.</td><td>CA-TF     </td><td>REST+ silencer</td></tr>\n",
       "\t<tr><td>chr10</td><td>104750418</td><td>104750581</td><td>EH38E4019865</td><td>0</td><td>.</td><td>CA-TF     </td><td>REST+ silencer</td></tr>\n",
       "</tbody>\n",
       "</table>\n"
      ],
      "text/latex": [
       "A tibble: 6 × 8\n",
       "\\begin{tabular}{llllllll}\n",
       " Chr & Start & End & cCRE accession & Score & Strand & cCRE class & Silencer class\\\\\n",
       " <chr> & <dbl> & <dbl> & <chr> & <dbl> & <chr> & <chr> & <chr>\\\\\n",
       "\\hline\n",
       "\t chr10 & 100680786 & 100681128 & EH38E4018829 & 0 & . & CA-H3K4me3 & REST+ silencer\\\\\n",
       "\t chr10 & 101081011 & 101081271 & EH38E4018984 & 0 & . & CA-TF      & REST+ silencer\\\\\n",
       "\t chr10 & 102361781 & 102362038 & EH38E4019348 & 0 & . & CA-CTCF    & REST+ silencer\\\\\n",
       "\t chr10 & 103265839 & 103266036 & EH38E1495742 & 0 & . & CA-CTCF    & REST+ silencer\\\\\n",
       "\t chr10 & 104548071 & 104548416 & EH38E4019821 & 0 & . & CA-TF      & REST+ silencer\\\\\n",
       "\t chr10 & 104750418 & 104750581 & EH38E4019865 & 0 & . & CA-TF      & REST+ silencer\\\\\n",
       "\\end{tabular}\n"
      ],
      "text/markdown": [
       "\n",
       "A tibble: 6 × 8\n",
       "\n",
       "| Chr &lt;chr&gt; | Start &lt;dbl&gt; | End &lt;dbl&gt; | cCRE accession &lt;chr&gt; | Score &lt;dbl&gt; | Strand &lt;chr&gt; | cCRE class &lt;chr&gt; | Silencer class &lt;chr&gt; |\n",
       "|---|---|---|---|---|---|---|---|\n",
       "| chr10 | 100680786 | 100681128 | EH38E4018829 | 0 | . | CA-H3K4me3 | REST+ silencer |\n",
       "| chr10 | 101081011 | 101081271 | EH38E4018984 | 0 | . | CA-TF      | REST+ silencer |\n",
       "| chr10 | 102361781 | 102362038 | EH38E4019348 | 0 | . | CA-CTCF    | REST+ silencer |\n",
       "| chr10 | 103265839 | 103266036 | EH38E1495742 | 0 | . | CA-CTCF    | REST+ silencer |\n",
       "| chr10 | 104548071 | 104548416 | EH38E4019821 | 0 | . | CA-TF      | REST+ silencer |\n",
       "| chr10 | 104750418 | 104750581 | EH38E4019865 | 0 | . | CA-TF      | REST+ silencer |\n",
       "\n"
      ],
      "text/plain": [
       "  Chr   Start     End       cCRE accession Score Strand cCRE class\n",
       "1 chr10 100680786 100681128 EH38E4018829   0     .      CA-H3K4me3\n",
       "2 chr10 101081011 101081271 EH38E4018984   0     .      CA-TF     \n",
       "3 chr10 102361781 102362038 EH38E4019348   0     .      CA-CTCF   \n",
       "4 chr10 103265839 103266036 EH38E1495742   0     .      CA-CTCF   \n",
       "5 chr10 104548071 104548416 EH38E4019821   0     .      CA-TF     \n",
       "6 chr10 104750418 104750581 EH38E4019865   0     .      CA-TF     \n",
       "  Silencer class\n",
       "1 REST+ silencer\n",
       "2 REST+ silencer\n",
       "3 REST+ silencer\n",
       "4 REST+ silencer\n",
       "5 REST+ silencer\n",
       "6 REST+ silencer"
      ]
     },
     "metadata": {},
     "output_type": "display_data"
    }
   ],
   "source": [
    "dat = dat_ccre_v4_silencer_rest\n",
    "dat = dat %>% \n",
    "    dplyr::mutate(Score = 0, Strand = \".\") %>%\n",
    "    dplyr::select(Chr, Start, End, `cCRE accession`, Score, Strand, `cCRE class`, `Silencer class`)\n",
    "\n",
    "dat_ccre_v4_silencer_rest_arrange = dat\n",
    "print(dim(dat))\n",
    "head(dat)"
   ]
  },
  {
   "cell_type": "code",
   "execution_count": 8,
   "id": "9ac14926-8dde-4a47-906d-9f68f313b8d2",
   "metadata": {},
   "outputs": [
    {
     "name": "stdout",
     "output_type": "stream",
     "text": [
      "[1] 5468    8\n"
     ]
    },
    {
     "data": {
      "text/html": [
       "<table class=\"dataframe\">\n",
       "<caption>A tibble: 6 × 8</caption>\n",
       "<thead>\n",
       "\t<tr><th scope=col>Chr</th><th scope=col>Start</th><th scope=col>End</th><th scope=col>cCRE accession</th><th scope=col>Score</th><th scope=col>Strand</th><th scope=col>cCRE class</th><th scope=col>Threshold</th></tr>\n",
       "\t<tr><th scope=col>&lt;chr&gt;</th><th scope=col>&lt;dbl&gt;</th><th scope=col>&lt;dbl&gt;</th><th scope=col>&lt;chr&gt;</th><th scope=col>&lt;dbl&gt;</th><th scope=col>&lt;chr&gt;</th><th scope=col>&lt;chr&gt;</th><th scope=col>&lt;chr&gt;</th></tr>\n",
       "</thead>\n",
       "<tbody>\n",
       "\t<tr><td>chr13</td><td> 22970420</td><td> 22970595</td><td>EH38E4082602</td><td>0</td><td>.</td><td>CA  </td><td>Stringent</td></tr>\n",
       "\t<tr><td>chr1 </td><td>  9356890</td><td>  9357240</td><td>EH38E3954005</td><td>0</td><td>.</td><td>TF  </td><td>Stringent</td></tr>\n",
       "\t<tr><td>chr14</td><td> 92678182</td><td> 92678371</td><td>EH38E4113580</td><td>0</td><td>.</td><td>TF  </td><td>Stringent</td></tr>\n",
       "\t<tr><td>chr6 </td><td>131563578</td><td>131563769</td><td>EH38E4417327</td><td>0</td><td>.</td><td>CA  </td><td>Stringent</td></tr>\n",
       "\t<tr><td>chr9 </td><td> 75977404</td><td> 75977605</td><td>EH38E3886686</td><td>0</td><td>.</td><td>dELS</td><td>Stringent</td></tr>\n",
       "\t<tr><td>chr16</td><td> 26844012</td><td> 26844260</td><td>EH38E4140223</td><td>0</td><td>.</td><td>CA  </td><td>Stringent</td></tr>\n",
       "</tbody>\n",
       "</table>\n"
      ],
      "text/latex": [
       "A tibble: 6 × 8\n",
       "\\begin{tabular}{llllllll}\n",
       " Chr & Start & End & cCRE accession & Score & Strand & cCRE class & Threshold\\\\\n",
       " <chr> & <dbl> & <dbl> & <chr> & <dbl> & <chr> & <chr> & <chr>\\\\\n",
       "\\hline\n",
       "\t chr13 &  22970420 &  22970595 & EH38E4082602 & 0 & . & CA   & Stringent\\\\\n",
       "\t chr1  &   9356890 &   9357240 & EH38E3954005 & 0 & . & TF   & Stringent\\\\\n",
       "\t chr14 &  92678182 &  92678371 & EH38E4113580 & 0 & . & TF   & Stringent\\\\\n",
       "\t chr6  & 131563578 & 131563769 & EH38E4417327 & 0 & . & CA   & Stringent\\\\\n",
       "\t chr9  &  75977404 &  75977605 & EH38E3886686 & 0 & . & dELS & Stringent\\\\\n",
       "\t chr16 &  26844012 &  26844260 & EH38E4140223 & 0 & . & CA   & Stringent\\\\\n",
       "\\end{tabular}\n"
      ],
      "text/markdown": [
       "\n",
       "A tibble: 6 × 8\n",
       "\n",
       "| Chr &lt;chr&gt; | Start &lt;dbl&gt; | End &lt;dbl&gt; | cCRE accession &lt;chr&gt; | Score &lt;dbl&gt; | Strand &lt;chr&gt; | cCRE class &lt;chr&gt; | Threshold &lt;chr&gt; |\n",
       "|---|---|---|---|---|---|---|---|\n",
       "| chr13 |  22970420 |  22970595 | EH38E4082602 | 0 | . | CA   | Stringent |\n",
       "| chr1  |   9356890 |   9357240 | EH38E3954005 | 0 | . | TF   | Stringent |\n",
       "| chr14 |  92678182 |  92678371 | EH38E4113580 | 0 | . | TF   | Stringent |\n",
       "| chr6  | 131563578 | 131563769 | EH38E4417327 | 0 | . | CA   | Stringent |\n",
       "| chr9  |  75977404 |  75977605 | EH38E3886686 | 0 | . | dELS | Stringent |\n",
       "| chr16 |  26844012 |  26844260 | EH38E4140223 | 0 | . | CA   | Stringent |\n",
       "\n"
      ],
      "text/plain": [
       "  Chr   Start     End       cCRE accession Score Strand cCRE class Threshold\n",
       "1 chr13  22970420  22970595 EH38E4082602   0     .      CA         Stringent\n",
       "2 chr1    9356890   9357240 EH38E3954005   0     .      TF         Stringent\n",
       "3 chr14  92678182  92678371 EH38E4113580   0     .      TF         Stringent\n",
       "4 chr6  131563578 131563769 EH38E4417327   0     .      CA         Stringent\n",
       "5 chr9   75977404  75977605 EH38E3886686   0     .      dELS       Stringent\n",
       "6 chr16  26844012  26844260 EH38E4140223   0     .      CA         Stringent"
      ]
     },
     "metadata": {},
     "output_type": "display_data"
    }
   ],
   "source": [
    "dat = dat_ccre_v4_silencer_starr\n",
    "dat = dat %>% \n",
    "    dplyr::mutate(Score = 0, Strand = \".\") %>%\n",
    "    dplyr::select(Chr, Start, End, `cCRE accession`, Score, Strand, `cCRE class`, Threshold)\n",
    "\n",
    "dat_ccre_v4_silencer_starr_arrange = dat\n",
    "print(dim(dat))\n",
    "head(dat)"
   ]
  },
  {
   "cell_type": "markdown",
   "id": "2389141f-961c-4b66-8881-9942f5e5836e",
   "metadata": {},
   "source": [
    "## Save tables"
   ]
  },
  {
   "cell_type": "code",
   "execution_count": 9,
   "id": "5eb343e5-539e-4382-b559-f865fb2ed752",
   "metadata": {},
   "outputs": [],
   "source": [
    "fdiry = file.path(FD_RES, \"results\", \"region\", \"annotation_ccres_silencer\")\n",
    "fname = \"description.tsv\"\n",
    "fpath = file.path(fdiry, fname)\n",
    "\n",
    "dat = dat_cnames\n",
    "write_tsv(dat, fpath)"
   ]
  },
  {
   "cell_type": "code",
   "execution_count": 10,
   "id": "fd439303-4460-4276-8107-603b19334ba2",
   "metadata": {},
   "outputs": [],
   "source": [
    "fdiry = file.path(FD_RES, \"results\", \"region\", \"annotation_ccres_silencer\")\n",
    "fname = \"ccres_v4.silencer.rest.bed.gz\"\n",
    "fpath = file.path(fdiry, fname)\n",
    "\n",
    "dat = dat_ccre_v4_silencer_rest_arrange\n",
    "write_tsv(dat, fpath, col_names=FALSE)"
   ]
  },
  {
   "cell_type": "code",
   "execution_count": 11,
   "id": "bd3be6b5-7788-4ce9-81ca-76a0a44b122f",
   "metadata": {},
   "outputs": [],
   "source": [
    "fdiry = file.path(FD_RES, \"results\", \"region\", \"annotation_ccres_silencer\")\n",
    "fname = \"ccres_v4.silencer.starr.bed.gz\"\n",
    "fpath = file.path(fdiry, fname)\n",
    "\n",
    "dat = dat_ccre_v4_silencer_starr_arrange\n",
    "write_tsv(dat, fpath, col_names=FALSE)"
   ]
  },
  {
   "cell_type": "code",
   "execution_count": null,
   "id": "ce8bf350-56f7-4059-8e38-e698dd60b6c0",
   "metadata": {},
   "outputs": [],
   "source": []
  }
 ],
 "metadata": {
  "kernelspec": {
   "display_name": "R",
   "language": "R",
   "name": "ir"
  },
  "language_info": {
   "codemirror_mode": "r",
   "file_extension": ".r",
   "mimetype": "text/x-r-source",
   "name": "R",
   "pygments_lexer": "r",
   "version": "4.3.1"
  }
 },
 "nbformat": 4,
 "nbformat_minor": 5
}
