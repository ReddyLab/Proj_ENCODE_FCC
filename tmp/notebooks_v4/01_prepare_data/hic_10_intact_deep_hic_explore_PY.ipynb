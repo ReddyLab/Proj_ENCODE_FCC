{
 "cells": [
  {
   "cell_type": "code",
   "execution_count": null,
   "id": "55694c6b-4b11-416b-81e8-c25a8d081a43",
   "metadata": {},
   "outputs": [],
   "source": []
  },
  {
   "cell_type": "code",
   "execution_count": 1,
   "id": "57f51079-9e9f-4eb3-97e3-27a45300f0fa",
   "metadata": {},
   "outputs": [],
   "source": [
    "import numpy as np\n",
    "import hicstraw"
   ]
  },
  {
   "cell_type": "code",
   "execution_count": 2,
   "id": "258881b5-718f-4e21-83ef-bebbf58fef1c",
   "metadata": {},
   "outputs": [],
   "source": [
    "fpath = \"/data/reddylab/Kuei/out/proj_combeffect_encode_fcc/source/hic_intact_K562_deep/inter.hic\""
   ]
  },
  {
   "cell_type": "code",
   "execution_count": 3,
   "id": "42cd3a43-ae42-442f-8ec5-3a3b4d838ced",
   "metadata": {},
   "outputs": [
    {
     "name": "stdout",
     "output_type": "stream",
     "text": [
      "[<hicstraw.chromosome object at 0x7fc46c502870>, <hicstraw.chromosome object at 0x7fc46c5026f0>, <hicstraw.chromosome object at 0x7fc46c5028b0>, <hicstraw.chromosome object at 0x7fc46c502630>, <hicstraw.chromosome object at 0x7fc46c502970>, <hicstraw.chromosome object at 0x7fc46c5029b0>, <hicstraw.chromosome object at 0x7fc46c5029f0>, <hicstraw.chromosome object at 0x7fc46c502a30>, <hicstraw.chromosome object at 0x7fc46c502a70>, <hicstraw.chromosome object at 0x7fc46c502ab0>, <hicstraw.chromosome object at 0x7fc46c502af0>, <hicstraw.chromosome object at 0x7fc46c502b30>, <hicstraw.chromosome object at 0x7fc46c502b70>, <hicstraw.chromosome object at 0x7fc46c502bb0>, <hicstraw.chromosome object at 0x7fc46c502bf0>, <hicstraw.chromosome object at 0x7fc46c502c30>, <hicstraw.chromosome object at 0x7fc46c502c70>, <hicstraw.chromosome object at 0x7fc46c502cb0>, <hicstraw.chromosome object at 0x7fc46c502cf0>, <hicstraw.chromosome object at 0x7fc46c502d30>, <hicstraw.chromosome object at 0x7fc46c502d70>, <hicstraw.chromosome object at 0x7fc46c502db0>, <hicstraw.chromosome object at 0x7fc46c502df0>, <hicstraw.chromosome object at 0x7fc46c502e30>, <hicstraw.chromosome object at 0x7fc46c502e70>, <hicstraw.chromosome object at 0x7fc46c502eb0>]\n",
      "hg38\n",
      "[2500000, 1000000, 500000, 250000, 100000, 50000, 25000, 10000, 5000, 2000, 1000, 500, 200, 100, 50, 20, 10, 1]\n"
     ]
    }
   ],
   "source": [
    "hic = hicstraw.HiCFile(fpath)\n",
    "print(hic.getChromosomes())\n",
    "print(hic.getGenomeID())\n",
    "print(hic.getResolutions())"
   ]
  },
  {
   "cell_type": "code",
   "execution_count": null,
   "id": "59c3d733-924f-41de-a797-1c1971b67609",
   "metadata": {},
   "outputs": [],
   "source": []
  }
 ],
 "metadata": {
  "kernelspec": {
   "display_name": "Python 3 (ipykernel)",
   "language": "python",
   "name": "python3"
  },
  "language_info": {
   "codemirror_mode": {
    "name": "ipython",
    "version": 3
   },
   "file_extension": ".py",
   "mimetype": "text/x-python",
   "name": "python",
   "nbconvert_exporter": "python",
   "pygments_lexer": "ipython3",
   "version": "3.11.6"
  }
 },
 "nbformat": 4,
 "nbformat_minor": 5
}
