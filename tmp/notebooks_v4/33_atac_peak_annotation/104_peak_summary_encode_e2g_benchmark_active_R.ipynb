{
 "cells": [
  {
   "cell_type": "markdown",
   "metadata": {},
   "source": [
    "**Set environment**"
   ]
  },
  {
   "cell_type": "code",
   "execution_count": 1,
   "metadata": {},
   "outputs": [
    {
     "name": "stdout",
     "output_type": "stream",
     "text": [
      "You are in Singularity: singularity_proj_encode_fcc \n",
      "BASE DIRECTORY (FD_BASE): /data/reddylab/Kuei \n",
      "WORK DIRECTORY (FD_WORK): /data/reddylab/Kuei/out \n",
      "CODE DIRECTORY (FD_CODE): /data/reddylab/Kuei/code \n",
      "PATH OF PROJECT (FD_PRJ): /data/reddylab/Kuei/code/Proj_CombEffect_ENCODE_FCC \n",
      "PATH OF RESULTS (FD_RES): /data/reddylab/Kuei/out/proj_combeffect_encode_fcc \n",
      "PATH OF LOG     (FD_LOG): /data/reddylab/Kuei/out/proj_combeffect_encode_fcc/log \n"
     ]
    }
   ],
   "source": [
    "suppressMessages(suppressWarnings(source(\"../config/config_sing.R\")))\n",
    "show_env()"
   ]
  },
  {
   "cell_type": "markdown",
   "metadata": {},
   "source": [
    "**Check data**"
   ]
  },
  {
   "cell_type": "code",
   "execution_count": 2,
   "metadata": {},
   "outputs": [],
   "source": [
    "FOLDER = \"annotation_encode_e2g_benchmark\""
   ]
  },
  {
   "cell_type": "code",
   "execution_count": 3,
   "metadata": {},
   "outputs": [
    {
     "name": "stdout",
     "output_type": "stream",
     "text": [
      "[1] \"description.tsv\"\n",
      "[1] \"K562.EPCrisprBenchmark.active.bed.gz\"\n",
      "[1] \"K562.EPCrisprBenchmark.active.merge.bed.gz\"\n",
      "[1] \"K562.EPCrisprBenchmark.active.region2TSS.bed\"\n",
      "[1] \"K562.EPCrisprBenchmark.active.region2TSS.bedpe.gz\"\n",
      "[1] \"K562.EPCrisprBenchmark.active.region2TSS.bigInteract\"\n",
      "[1] \"K562.EPCrisprBenchmark.total.bed.gz\"\n",
      "[1] \"K562.EPCrisprBenchmark.total.merge.bed.gz\"\n",
      "[1] \"tmp\"\n"
     ]
    }
   ],
   "source": [
    "fdiry = file.path(\n",
    "    FD_RES, \n",
    "    \"results\", \n",
    "    \"region\", \n",
    "    FOLDER)\n",
    "for(fname in dir(fdiry)){print(fname)}"
   ]
  },
  {
   "cell_type": "code",
   "execution_count": 4,
   "metadata": {},
   "outputs": [
    {
     "name": "stdout",
     "output_type": "stream",
     "text": [
      "[1] \"peak.annotation.K562.EPCrisprBenchmark.active.bed.gz\"\n",
      "[1] \"peak.annotation.K562.EPCrisprBenchmark.active.merge.bed.gz\"\n",
      "[1] \"peak.annotation.K562.EPCrisprBenchmark.total.bed.gz\"\n",
      "[1] \"peak.annotation.K562.EPCrisprBenchmark.total.merge.bed.gz\"\n"
     ]
    }
   ],
   "source": [
    "fdiry = file.path(\n",
    "    FD_RES, \n",
    "    \"results\", \n",
    "    \"region\", \n",
    "    \"KS91_K562_ASTARRseq_peak_macs_input\", \n",
    "    FOLDER)\n",
    "for(fname in dir(fdiry)){print(fname)}"
   ]
  },
  {
   "cell_type": "markdown",
   "metadata": {},
   "source": [
    "## Import data"
   ]
  },
  {
   "cell_type": "code",
   "execution_count": 5,
   "metadata": {},
   "outputs": [
    {
     "name": "stdout",
     "output_type": "stream",
     "text": [
      "[1] 12  2\n"
     ]
    },
    {
     "data": {
      "text/html": [
       "<table class=\"dataframe\">\n",
       "<caption>A spec_tbl_df: 12 × 2</caption>\n",
       "<thead>\n",
       "\t<tr><th scope=col>Name</th><th scope=col>Description</th></tr>\n",
       "\t<tr><th scope=col>&lt;chr&gt;</th><th scope=col>&lt;chr&gt;</th></tr>\n",
       "</thead>\n",
       "<tbody>\n",
       "\t<tr><td>Chrom      </td><td>Chromosome of the perturbed element                                                                              </td></tr>\n",
       "\t<tr><td>Start      </td><td>Start of the perturbed element (0-based)                                                                         </td></tr>\n",
       "\t<tr><td>End        </td><td>End of the perturbed element                                                                                     </td></tr>\n",
       "\t<tr><td>Name       </td><td>Identifier for the given E-G pair in the form of 'gene|chr:start-stop:strand', e.g. 'BET1L|chr11:220536-220704:*'</td></tr>\n",
       "\t<tr><td>Score      </td><td>Change in gene expression upon CRISPRi perturbation, e.g. precentage change in expression or log fold change     </td></tr>\n",
       "\t<tr><td>Region     </td><td>Location of the perturbed element                                                                                </td></tr>\n",
       "\t<tr><td>Gene_Symbol</td><td>target gene symbol                                                                                               </td></tr>\n",
       "\t<tr><td>Gene_TSS   </td><td>target gene TSS                                                                                                  </td></tr>\n",
       "\t<tr><td>Regulated  </td><td>Whether it is postive case or negative case; True for postive case                                               </td></tr>\n",
       "\t<tr><td>Reference  </td><td>Study from which this E-G pair was collected, e.g. Fulco2019                                                     </td></tr>\n",
       "\t<tr><td>Assay_Type </td><td>Assay type                                                                                                       </td></tr>\n",
       "\t<tr><td>Assay_Label</td><td>Assay label                                                                                                      </td></tr>\n",
       "</tbody>\n",
       "</table>\n"
      ],
      "text/latex": [
       "A spec\\_tbl\\_df: 12 × 2\n",
       "\\begin{tabular}{ll}\n",
       " Name & Description\\\\\n",
       " <chr> & <chr>\\\\\n",
       "\\hline\n",
       "\t Chrom       & Chromosome of the perturbed element                                                                              \\\\\n",
       "\t Start       & Start of the perturbed element (0-based)                                                                         \\\\\n",
       "\t End         & End of the perturbed element                                                                                     \\\\\n",
       "\t Name        & Identifier for the given E-G pair in the form of 'gene\\textbar{}chr:start-stop:strand', e.g. 'BET1L\\textbar{}chr11:220536-220704:*'\\\\\n",
       "\t Score       & Change in gene expression upon CRISPRi perturbation, e.g. precentage change in expression or log fold change     \\\\\n",
       "\t Region      & Location of the perturbed element                                                                                \\\\\n",
       "\t Gene\\_Symbol & target gene symbol                                                                                               \\\\\n",
       "\t Gene\\_TSS    & target gene TSS                                                                                                  \\\\\n",
       "\t Regulated   & Whether it is postive case or negative case; True for postive case                                               \\\\\n",
       "\t Reference   & Study from which this E-G pair was collected, e.g. Fulco2019                                                     \\\\\n",
       "\t Assay\\_Type  & Assay type                                                                                                       \\\\\n",
       "\t Assay\\_Label & Assay label                                                                                                      \\\\\n",
       "\\end{tabular}\n"
      ],
      "text/markdown": [
       "\n",
       "A spec_tbl_df: 12 × 2\n",
       "\n",
       "| Name &lt;chr&gt; | Description &lt;chr&gt; |\n",
       "|---|---|\n",
       "| Chrom       | Chromosome of the perturbed element                                                                               |\n",
       "| Start       | Start of the perturbed element (0-based)                                                                          |\n",
       "| End         | End of the perturbed element                                                                                      |\n",
       "| Name        | Identifier for the given E-G pair in the form of 'gene|chr:start-stop:strand', e.g. 'BET1L|chr11:220536-220704:*' |\n",
       "| Score       | Change in gene expression upon CRISPRi perturbation, e.g. precentage change in expression or log fold change      |\n",
       "| Region      | Location of the perturbed element                                                                                 |\n",
       "| Gene_Symbol | target gene symbol                                                                                                |\n",
       "| Gene_TSS    | target gene TSS                                                                                                   |\n",
       "| Regulated   | Whether it is postive case or negative case; True for postive case                                                |\n",
       "| Reference   | Study from which this E-G pair was collected, e.g. Fulco2019                                                      |\n",
       "| Assay_Type  | Assay type                                                                                                        |\n",
       "| Assay_Label | Assay label                                                                                                       |\n",
       "\n"
      ],
      "text/plain": [
       "   Name       \n",
       "1  Chrom      \n",
       "2  Start      \n",
       "3  End        \n",
       "4  Name       \n",
       "5  Score      \n",
       "6  Region     \n",
       "7  Gene_Symbol\n",
       "8  Gene_TSS   \n",
       "9  Regulated  \n",
       "10 Reference  \n",
       "11 Assay_Type \n",
       "12 Assay_Label\n",
       "   Description                                                                                                      \n",
       "1  Chromosome of the perturbed element                                                                              \n",
       "2  Start of the perturbed element (0-based)                                                                         \n",
       "3  End of the perturbed element                                                                                     \n",
       "4  Identifier for the given E-G pair in the form of 'gene|chr:start-stop:strand', e.g. 'BET1L|chr11:220536-220704:*'\n",
       "5  Change in gene expression upon CRISPRi perturbation, e.g. precentage change in expression or log fold change     \n",
       "6  Location of the perturbed element                                                                                \n",
       "7  target gene symbol                                                                                               \n",
       "8  target gene TSS                                                                                                  \n",
       "9  Whether it is postive case or negative case; True for postive case                                               \n",
       "10 Study from which this E-G pair was collected, e.g. Fulco2019                                                     \n",
       "11 Assay type                                                                                                       \n",
       "12 Assay label                                                                                                      "
      ]
     },
     "metadata": {},
     "output_type": "display_data"
    }
   ],
   "source": [
    "fdiry  = file.path(FD_RES, \"results\", \"region\", FOLDER)\n",
    "fname = \"description.tsv\"\n",
    "fpath = file.path(fdiry, fname)\n",
    "\n",
    "dat = read_tsv(fpath, show_col_types = FALSE)\n",
    "\n",
    "dat_cnames = dat\n",
    "print(dim(dat))\n",
    "dat"
   ]
  },
  {
   "cell_type": "code",
   "execution_count": 6,
   "metadata": {},
   "outputs": [
    {
     "name": "stdout",
     "output_type": "stream",
     "text": [
      "[1] 433  21\n"
     ]
    },
    {
     "data": {
      "text/html": [
       "<table class=\"dataframe\">\n",
       "<caption>A tibble: 6 × 21</caption>\n",
       "<thead>\n",
       "\t<tr><th scope=col>Chrom_ATAC</th><th scope=col>Start_ATAC</th><th scope=col>End_ATAC</th><th scope=col>Chrom</th><th scope=col>Start</th><th scope=col>End</th><th scope=col>Name</th><th scope=col>Score</th><th scope=col>Region</th><th scope=col>Gene_Symbol</th><th scope=col>⋯</th><th scope=col>Regulated</th><th scope=col>Reference</th><th scope=col>Assay_Type</th><th scope=col>Assay_Label</th><th scope=col>Overlap</th><th scope=col>Peak_ATAC</th><th scope=col>Annotation</th><th scope=col>Label</th><th scope=col>Value</th><th scope=col>Note</th></tr>\n",
       "\t<tr><th scope=col>&lt;chr&gt;</th><th scope=col>&lt;dbl&gt;</th><th scope=col>&lt;dbl&gt;</th><th scope=col>&lt;chr&gt;</th><th scope=col>&lt;dbl&gt;</th><th scope=col>&lt;dbl&gt;</th><th scope=col>&lt;chr&gt;</th><th scope=col>&lt;dbl&gt;</th><th scope=col>&lt;chr&gt;</th><th scope=col>&lt;chr&gt;</th><th scope=col>⋯</th><th scope=col>&lt;lgl&gt;</th><th scope=col>&lt;chr&gt;</th><th scope=col>&lt;chr&gt;</th><th scope=col>&lt;chr&gt;</th><th scope=col>&lt;dbl&gt;</th><th scope=col>&lt;chr&gt;</th><th scope=col>&lt;chr&gt;</th><th scope=col>&lt;chr&gt;</th><th scope=col>&lt;dbl&gt;</th><th scope=col>&lt;chr&gt;</th></tr>\n",
       "</thead>\n",
       "<tbody>\n",
       "\t<tr><td>chr1</td><td> 3773953</td><td> 3776305</td><td>chr1</td><td> 3774714</td><td> 3775214</td><td>CEP104|chr1:3691278-3691778:* </td><td>-0.29343</td><td>chr1:3774714-3775214  </td><td>CEP104</td><td>⋯</td><td>TRUE</td><td>Ulirsch2016           </td><td>ENCODE-E2G_Benchmark</td><td>ENCODE-E2G_Benchmark:CEP104</td><td>500</td><td>chr1:3773953-3776305  </td><td>ENCODE-E2G</td><td>ENCODE-E2G_Benchmark</td><td>-0.29343</td><td>Ulirsch2016           </td></tr>\n",
       "\t<tr><td>chr1</td><td> 3773953</td><td> 3776305</td><td>chr1</td><td> 3774714</td><td> 3775214</td><td>LRRC47|chr1:3691278-3691778:* </td><td>-0.33118</td><td>chr1:3774714-3775214  </td><td>LRRC47</td><td>⋯</td><td>TRUE</td><td>Ulirsch2016           </td><td>ENCODE-E2G_Benchmark</td><td>ENCODE-E2G_Benchmark:LRRC47</td><td>500</td><td>chr1:3773953-3776305  </td><td>ENCODE-E2G</td><td>ENCODE-E2G_Benchmark</td><td>-0.33118</td><td>Ulirsch2016           </td></tr>\n",
       "\t<tr><td>chr1</td><td> 3773953</td><td> 3776305</td><td>chr1</td><td> 3774714</td><td> 3775214</td><td>SMIM1|chr1:3691278-3691778:*  </td><td>-0.47202</td><td>chr1:3774714-3775214  </td><td>SMIM1 </td><td>⋯</td><td>TRUE</td><td>Ulirsch2016           </td><td>ENCODE-E2G_Benchmark</td><td>ENCODE-E2G_Benchmark:SMIM1 </td><td>500</td><td>chr1:3773953-3776305  </td><td>ENCODE-E2G</td><td>ENCODE-E2G_Benchmark</td><td>-0.47202</td><td>Ulirsch2016           </td></tr>\n",
       "\t<tr><td>chr1</td><td> 8857749</td><td> 8858710</td><td>chr1</td><td> 8858063</td><td> 8858563</td><td>ENO1|chr1:8918122-8918622:.   </td><td>-0.10741</td><td>chr1:8858063-8858563  </td><td>ENO1  </td><td>⋯</td><td>TRUE</td><td>Gasperini et al., 2019</td><td>ENCODE-E2G_Benchmark</td><td>ENCODE-E2G_Benchmark:ENO1  </td><td>500</td><td>chr1:8857749-8858710  </td><td>ENCODE-E2G</td><td>ENCODE-E2G_Benchmark</td><td>-0.10741</td><td>Gasperini et al., 2019</td></tr>\n",
       "\t<tr><td>chr1</td><td>25932957</td><td>25934403</td><td>chr1</td><td>25933351</td><td>25933954</td><td>NUDC|chr1:26259842-26260445:. </td><td>-0.08462</td><td>chr1:25933351-25933954</td><td>NUDC  </td><td>⋯</td><td>TRUE</td><td>Gasperini et al., 2019</td><td>ENCODE-E2G_Benchmark</td><td>ENCODE-E2G_Benchmark:NUDC  </td><td>603</td><td>chr1:25932957-25934403</td><td>ENCODE-E2G</td><td>ENCODE-E2G_Benchmark</td><td>-0.08462</td><td>Gasperini et al., 2019</td></tr>\n",
       "\t<tr><td>chr1</td><td>25932957</td><td>25934403</td><td>chr1</td><td>25933351</td><td>25933954</td><td>STMN1|chr1:26259842-26260445:.</td><td>-0.12223</td><td>chr1:25933351-25933954</td><td>STMN1 </td><td>⋯</td><td>TRUE</td><td>Gasperini et al., 2019</td><td>ENCODE-E2G_Benchmark</td><td>ENCODE-E2G_Benchmark:STMN1 </td><td>603</td><td>chr1:25932957-25934403</td><td>ENCODE-E2G</td><td>ENCODE-E2G_Benchmark</td><td>-0.12223</td><td>Gasperini et al., 2019</td></tr>\n",
       "</tbody>\n",
       "</table>\n"
      ],
      "text/latex": [
       "A tibble: 6 × 21\n",
       "\\begin{tabular}{lllllllllllllllllllll}\n",
       " Chrom\\_ATAC & Start\\_ATAC & End\\_ATAC & Chrom & Start & End & Name & Score & Region & Gene\\_Symbol & ⋯ & Regulated & Reference & Assay\\_Type & Assay\\_Label & Overlap & Peak\\_ATAC & Annotation & Label & Value & Note\\\\\n",
       " <chr> & <dbl> & <dbl> & <chr> & <dbl> & <dbl> & <chr> & <dbl> & <chr> & <chr> & ⋯ & <lgl> & <chr> & <chr> & <chr> & <dbl> & <chr> & <chr> & <chr> & <dbl> & <chr>\\\\\n",
       "\\hline\n",
       "\t chr1 &  3773953 &  3776305 & chr1 &  3774714 &  3775214 & CEP104\\textbar{}chr1:3691278-3691778:*  & -0.29343 & chr1:3774714-3775214   & CEP104 & ⋯ & TRUE & Ulirsch2016            & ENCODE-E2G\\_Benchmark & ENCODE-E2G\\_Benchmark:CEP104 & 500 & chr1:3773953-3776305   & ENCODE-E2G & ENCODE-E2G\\_Benchmark & -0.29343 & Ulirsch2016           \\\\\n",
       "\t chr1 &  3773953 &  3776305 & chr1 &  3774714 &  3775214 & LRRC47\\textbar{}chr1:3691278-3691778:*  & -0.33118 & chr1:3774714-3775214   & LRRC47 & ⋯ & TRUE & Ulirsch2016            & ENCODE-E2G\\_Benchmark & ENCODE-E2G\\_Benchmark:LRRC47 & 500 & chr1:3773953-3776305   & ENCODE-E2G & ENCODE-E2G\\_Benchmark & -0.33118 & Ulirsch2016           \\\\\n",
       "\t chr1 &  3773953 &  3776305 & chr1 &  3774714 &  3775214 & SMIM1\\textbar{}chr1:3691278-3691778:*   & -0.47202 & chr1:3774714-3775214   & SMIM1  & ⋯ & TRUE & Ulirsch2016            & ENCODE-E2G\\_Benchmark & ENCODE-E2G\\_Benchmark:SMIM1  & 500 & chr1:3773953-3776305   & ENCODE-E2G & ENCODE-E2G\\_Benchmark & -0.47202 & Ulirsch2016           \\\\\n",
       "\t chr1 &  8857749 &  8858710 & chr1 &  8858063 &  8858563 & ENO1\\textbar{}chr1:8918122-8918622:.    & -0.10741 & chr1:8858063-8858563   & ENO1   & ⋯ & TRUE & Gasperini et al., 2019 & ENCODE-E2G\\_Benchmark & ENCODE-E2G\\_Benchmark:ENO1   & 500 & chr1:8857749-8858710   & ENCODE-E2G & ENCODE-E2G\\_Benchmark & -0.10741 & Gasperini et al., 2019\\\\\n",
       "\t chr1 & 25932957 & 25934403 & chr1 & 25933351 & 25933954 & NUDC\\textbar{}chr1:26259842-26260445:.  & -0.08462 & chr1:25933351-25933954 & NUDC   & ⋯ & TRUE & Gasperini et al., 2019 & ENCODE-E2G\\_Benchmark & ENCODE-E2G\\_Benchmark:NUDC   & 603 & chr1:25932957-25934403 & ENCODE-E2G & ENCODE-E2G\\_Benchmark & -0.08462 & Gasperini et al., 2019\\\\\n",
       "\t chr1 & 25932957 & 25934403 & chr1 & 25933351 & 25933954 & STMN1\\textbar{}chr1:26259842-26260445:. & -0.12223 & chr1:25933351-25933954 & STMN1  & ⋯ & TRUE & Gasperini et al., 2019 & ENCODE-E2G\\_Benchmark & ENCODE-E2G\\_Benchmark:STMN1  & 603 & chr1:25932957-25934403 & ENCODE-E2G & ENCODE-E2G\\_Benchmark & -0.12223 & Gasperini et al., 2019\\\\\n",
       "\\end{tabular}\n"
      ],
      "text/markdown": [
       "\n",
       "A tibble: 6 × 21\n",
       "\n",
       "| Chrom_ATAC &lt;chr&gt; | Start_ATAC &lt;dbl&gt; | End_ATAC &lt;dbl&gt; | Chrom &lt;chr&gt; | Start &lt;dbl&gt; | End &lt;dbl&gt; | Name &lt;chr&gt; | Score &lt;dbl&gt; | Region &lt;chr&gt; | Gene_Symbol &lt;chr&gt; | ⋯ ⋯ | Regulated &lt;lgl&gt; | Reference &lt;chr&gt; | Assay_Type &lt;chr&gt; | Assay_Label &lt;chr&gt; | Overlap &lt;dbl&gt; | Peak_ATAC &lt;chr&gt; | Annotation &lt;chr&gt; | Label &lt;chr&gt; | Value &lt;dbl&gt; | Note &lt;chr&gt; |\n",
       "|---|---|---|---|---|---|---|---|---|---|---|---|---|---|---|---|---|---|---|---|---|\n",
       "| chr1 |  3773953 |  3776305 | chr1 |  3774714 |  3775214 | CEP104|chr1:3691278-3691778:*  | -0.29343 | chr1:3774714-3775214   | CEP104 | ⋯ | TRUE | Ulirsch2016            | ENCODE-E2G_Benchmark | ENCODE-E2G_Benchmark:CEP104 | 500 | chr1:3773953-3776305   | ENCODE-E2G | ENCODE-E2G_Benchmark | -0.29343 | Ulirsch2016            |\n",
       "| chr1 |  3773953 |  3776305 | chr1 |  3774714 |  3775214 | LRRC47|chr1:3691278-3691778:*  | -0.33118 | chr1:3774714-3775214   | LRRC47 | ⋯ | TRUE | Ulirsch2016            | ENCODE-E2G_Benchmark | ENCODE-E2G_Benchmark:LRRC47 | 500 | chr1:3773953-3776305   | ENCODE-E2G | ENCODE-E2G_Benchmark | -0.33118 | Ulirsch2016            |\n",
       "| chr1 |  3773953 |  3776305 | chr1 |  3774714 |  3775214 | SMIM1|chr1:3691278-3691778:*   | -0.47202 | chr1:3774714-3775214   | SMIM1  | ⋯ | TRUE | Ulirsch2016            | ENCODE-E2G_Benchmark | ENCODE-E2G_Benchmark:SMIM1  | 500 | chr1:3773953-3776305   | ENCODE-E2G | ENCODE-E2G_Benchmark | -0.47202 | Ulirsch2016            |\n",
       "| chr1 |  8857749 |  8858710 | chr1 |  8858063 |  8858563 | ENO1|chr1:8918122-8918622:.    | -0.10741 | chr1:8858063-8858563   | ENO1   | ⋯ | TRUE | Gasperini et al., 2019 | ENCODE-E2G_Benchmark | ENCODE-E2G_Benchmark:ENO1   | 500 | chr1:8857749-8858710   | ENCODE-E2G | ENCODE-E2G_Benchmark | -0.10741 | Gasperini et al., 2019 |\n",
       "| chr1 | 25932957 | 25934403 | chr1 | 25933351 | 25933954 | NUDC|chr1:26259842-26260445:.  | -0.08462 | chr1:25933351-25933954 | NUDC   | ⋯ | TRUE | Gasperini et al., 2019 | ENCODE-E2G_Benchmark | ENCODE-E2G_Benchmark:NUDC   | 603 | chr1:25932957-25934403 | ENCODE-E2G | ENCODE-E2G_Benchmark | -0.08462 | Gasperini et al., 2019 |\n",
       "| chr1 | 25932957 | 25934403 | chr1 | 25933351 | 25933954 | STMN1|chr1:26259842-26260445:. | -0.12223 | chr1:25933351-25933954 | STMN1  | ⋯ | TRUE | Gasperini et al., 2019 | ENCODE-E2G_Benchmark | ENCODE-E2G_Benchmark:STMN1  | 603 | chr1:25932957-25934403 | ENCODE-E2G | ENCODE-E2G_Benchmark | -0.12223 | Gasperini et al., 2019 |\n",
       "\n"
      ],
      "text/plain": [
       "  Chrom_ATAC Start_ATAC End_ATAC Chrom Start    End     \n",
       "1 chr1        3773953    3776305 chr1   3774714  3775214\n",
       "2 chr1        3773953    3776305 chr1   3774714  3775214\n",
       "3 chr1        3773953    3776305 chr1   3774714  3775214\n",
       "4 chr1        8857749    8858710 chr1   8858063  8858563\n",
       "5 chr1       25932957   25934403 chr1  25933351 25933954\n",
       "6 chr1       25932957   25934403 chr1  25933351 25933954\n",
       "  Name                           Score    Region                 Gene_Symbol ⋯\n",
       "1 CEP104|chr1:3691278-3691778:*  -0.29343 chr1:3774714-3775214   CEP104      ⋯\n",
       "2 LRRC47|chr1:3691278-3691778:*  -0.33118 chr1:3774714-3775214   LRRC47      ⋯\n",
       "3 SMIM1|chr1:3691278-3691778:*   -0.47202 chr1:3774714-3775214   SMIM1       ⋯\n",
       "4 ENO1|chr1:8918122-8918622:.    -0.10741 chr1:8858063-8858563   ENO1        ⋯\n",
       "5 NUDC|chr1:26259842-26260445:.  -0.08462 chr1:25933351-25933954 NUDC        ⋯\n",
       "6 STMN1|chr1:26259842-26260445:. -0.12223 chr1:25933351-25933954 STMN1       ⋯\n",
       "  Regulated Reference              Assay_Type          \n",
       "1 TRUE      Ulirsch2016            ENCODE-E2G_Benchmark\n",
       "2 TRUE      Ulirsch2016            ENCODE-E2G_Benchmark\n",
       "3 TRUE      Ulirsch2016            ENCODE-E2G_Benchmark\n",
       "4 TRUE      Gasperini et al., 2019 ENCODE-E2G_Benchmark\n",
       "5 TRUE      Gasperini et al., 2019 ENCODE-E2G_Benchmark\n",
       "6 TRUE      Gasperini et al., 2019 ENCODE-E2G_Benchmark\n",
       "  Assay_Label                 Overlap Peak_ATAC              Annotation\n",
       "1 ENCODE-E2G_Benchmark:CEP104 500     chr1:3773953-3776305   ENCODE-E2G\n",
       "2 ENCODE-E2G_Benchmark:LRRC47 500     chr1:3773953-3776305   ENCODE-E2G\n",
       "3 ENCODE-E2G_Benchmark:SMIM1  500     chr1:3773953-3776305   ENCODE-E2G\n",
       "4 ENCODE-E2G_Benchmark:ENO1   500     chr1:8857749-8858710   ENCODE-E2G\n",
       "5 ENCODE-E2G_Benchmark:NUDC   603     chr1:25932957-25934403 ENCODE-E2G\n",
       "6 ENCODE-E2G_Benchmark:STMN1  603     chr1:25932957-25934403 ENCODE-E2G\n",
       "  Label                Value    Note                  \n",
       "1 ENCODE-E2G_Benchmark -0.29343 Ulirsch2016           \n",
       "2 ENCODE-E2G_Benchmark -0.33118 Ulirsch2016           \n",
       "3 ENCODE-E2G_Benchmark -0.47202 Ulirsch2016           \n",
       "4 ENCODE-E2G_Benchmark -0.10741 Gasperini et al., 2019\n",
       "5 ENCODE-E2G_Benchmark -0.08462 Gasperini et al., 2019\n",
       "6 ENCODE-E2G_Benchmark -0.12223 Gasperini et al., 2019"
      ]
     },
     "metadata": {},
     "output_type": "display_data"
    }
   ],
   "source": [
    "### init: set column names\n",
    "cnames = dat_cnames$Name\n",
    "cnames = c(\"Chrom_ATAC\", \"Start_ATAC\", \"End_ATAC\", cnames, \"Overlap\")\n",
    "\n",
    "### init: set file path\n",
    "fdiry = file.path(\n",
    "    FD_RES, \n",
    "    \"results\", \n",
    "    \"region\", \n",
    "    \"KS91_K562_ASTARRseq_peak_macs_input\", \n",
    "    FOLDER)\n",
    "fname = paste(\"peak.annotation\", \".active.bed.gz\", sep=\"*\")\n",
    "fglob = file.path(fdiry, fname)\n",
    "fpath = Sys.glob(fglob)\n",
    "\n",
    "### init: annotation and label\n",
    "annotation = \"ENCODE-E2G\"\n",
    "label      = \"ENCODE-E2G_Benchmark\"\n",
    "\n",
    "### read data\n",
    "dat = read_tsv(fpath, col_names = cnames, show_col_types = FALSE)\n",
    "dat = dat %>% dplyr::mutate(\n",
    "    Peak_ATAC  = paste0(Chrom_ATAC, \":\", Start_ATAC, \"-\", End_ATAC),\n",
    "    Annotation = annotation,\n",
    "    Label      = label,\n",
    "    Region     = paste0(Chrom, \":\", Start, \"-\", End),\n",
    "    Value      = Score,\n",
    "    Note       = Reference\n",
    ")\n",
    "\n",
    "### assign and show\n",
    "dat_peak_annot_import = dat\n",
    "print(dim(dat))\n",
    "head(dat)"
   ]
  },
  {
   "cell_type": "markdown",
   "metadata": {},
   "source": [
    "## Arrange and summarize"
   ]
  },
  {
   "cell_type": "code",
   "execution_count": 7,
   "metadata": {},
   "outputs": [
    {
     "name": "stdout",
     "output_type": "stream",
     "text": [
      "[1] 353   7\n"
     ]
    },
    {
     "data": {
      "text/html": [
       "<table class=\"dataframe\">\n",
       "<caption>A tibble: 6 × 7</caption>\n",
       "<thead>\n",
       "\t<tr><th scope=col>Peak</th><th scope=col>Annotation</th><th scope=col>Label</th><th scope=col>Count</th><th scope=col>Region</th><th scope=col>Score</th><th scope=col>Note</th></tr>\n",
       "\t<tr><th scope=col>&lt;chr&gt;</th><th scope=col>&lt;chr&gt;</th><th scope=col>&lt;chr&gt;</th><th scope=col>&lt;int&gt;</th><th scope=col>&lt;chr&gt;</th><th scope=col>&lt;dbl&gt;</th><th scope=col>&lt;chr&gt;</th></tr>\n",
       "</thead>\n",
       "<tbody>\n",
       "\t<tr><td>chr1:3773953-3776305  </td><td>ENCODE-E2G</td><td>ENCODE-E2G_Benchmark</td><td>3</td><td>chr1:3774714-3775214|chr1:3774714-3775214|chr1:3774714-3775214</td><td>-0.3655433</td><td>Ulirsch2016           </td></tr>\n",
       "\t<tr><td>chr1:8857749-8858710  </td><td>ENCODE-E2G</td><td>ENCODE-E2G_Benchmark</td><td>1</td><td>chr1:8858063-8858563                                          </td><td>-0.1074100</td><td>Gasperini et al., 2019</td></tr>\n",
       "\t<tr><td>chr1:25932957-25934403</td><td>ENCODE-E2G</td><td>ENCODE-E2G_Benchmark</td><td>2</td><td>chr1:25933351-25933954|chr1:25933351-25933954                 </td><td>-0.1034250</td><td>Gasperini et al., 2019</td></tr>\n",
       "\t<tr><td>chr1:26378063-26379023</td><td>ENCODE-E2G</td><td>ENCODE-E2G_Benchmark</td><td>1</td><td>chr1:26377523-26378866                                        </td><td>-0.0517200</td><td>Gasperini et al., 2019</td></tr>\n",
       "\t<tr><td>chr1:28883554-28885530</td><td>ENCODE-E2G</td><td>ENCODE-E2G_Benchmark</td><td>2</td><td>chr1:28883765-28884265|chr1:28884388-28885427                 </td><td>-0.2323200</td><td>Gasperini et al., 2019</td></tr>\n",
       "\t<tr><td>chr1:70674894-70676471</td><td>ENCODE-E2G</td><td>ENCODE-E2G_Benchmark</td><td>1</td><td>chr1:70674818-70676268                                        </td><td>-0.0720900</td><td>Gasperini et al., 2019</td></tr>\n",
       "</tbody>\n",
       "</table>\n"
      ],
      "text/latex": [
       "A tibble: 6 × 7\n",
       "\\begin{tabular}{lllllll}\n",
       " Peak & Annotation & Label & Count & Region & Score & Note\\\\\n",
       " <chr> & <chr> & <chr> & <int> & <chr> & <dbl> & <chr>\\\\\n",
       "\\hline\n",
       "\t chr1:3773953-3776305   & ENCODE-E2G & ENCODE-E2G\\_Benchmark & 3 & chr1:3774714-3775214\\textbar{}chr1:3774714-3775214\\textbar{}chr1:3774714-3775214 & -0.3655433 & Ulirsch2016           \\\\\n",
       "\t chr1:8857749-8858710   & ENCODE-E2G & ENCODE-E2G\\_Benchmark & 1 & chr1:8858063-8858563                                           & -0.1074100 & Gasperini et al., 2019\\\\\n",
       "\t chr1:25932957-25934403 & ENCODE-E2G & ENCODE-E2G\\_Benchmark & 2 & chr1:25933351-25933954\\textbar{}chr1:25933351-25933954                  & -0.1034250 & Gasperini et al., 2019\\\\\n",
       "\t chr1:26378063-26379023 & ENCODE-E2G & ENCODE-E2G\\_Benchmark & 1 & chr1:26377523-26378866                                         & -0.0517200 & Gasperini et al., 2019\\\\\n",
       "\t chr1:28883554-28885530 & ENCODE-E2G & ENCODE-E2G\\_Benchmark & 2 & chr1:28883765-28884265\\textbar{}chr1:28884388-28885427                  & -0.2323200 & Gasperini et al., 2019\\\\\n",
       "\t chr1:70674894-70676471 & ENCODE-E2G & ENCODE-E2G\\_Benchmark & 1 & chr1:70674818-70676268                                         & -0.0720900 & Gasperini et al., 2019\\\\\n",
       "\\end{tabular}\n"
      ],
      "text/markdown": [
       "\n",
       "A tibble: 6 × 7\n",
       "\n",
       "| Peak &lt;chr&gt; | Annotation &lt;chr&gt; | Label &lt;chr&gt; | Count &lt;int&gt; | Region &lt;chr&gt; | Score &lt;dbl&gt; | Note &lt;chr&gt; |\n",
       "|---|---|---|---|---|---|---|\n",
       "| chr1:3773953-3776305   | ENCODE-E2G | ENCODE-E2G_Benchmark | 3 | chr1:3774714-3775214|chr1:3774714-3775214|chr1:3774714-3775214 | -0.3655433 | Ulirsch2016            |\n",
       "| chr1:8857749-8858710   | ENCODE-E2G | ENCODE-E2G_Benchmark | 1 | chr1:8858063-8858563                                           | -0.1074100 | Gasperini et al., 2019 |\n",
       "| chr1:25932957-25934403 | ENCODE-E2G | ENCODE-E2G_Benchmark | 2 | chr1:25933351-25933954|chr1:25933351-25933954                  | -0.1034250 | Gasperini et al., 2019 |\n",
       "| chr1:26378063-26379023 | ENCODE-E2G | ENCODE-E2G_Benchmark | 1 | chr1:26377523-26378866                                         | -0.0517200 | Gasperini et al., 2019 |\n",
       "| chr1:28883554-28885530 | ENCODE-E2G | ENCODE-E2G_Benchmark | 2 | chr1:28883765-28884265|chr1:28884388-28885427                  | -0.2323200 | Gasperini et al., 2019 |\n",
       "| chr1:70674894-70676471 | ENCODE-E2G | ENCODE-E2G_Benchmark | 1 | chr1:70674818-70676268                                         | -0.0720900 | Gasperini et al., 2019 |\n",
       "\n"
      ],
      "text/plain": [
       "  Peak                   Annotation Label                Count\n",
       "1 chr1:3773953-3776305   ENCODE-E2G ENCODE-E2G_Benchmark 3    \n",
       "2 chr1:8857749-8858710   ENCODE-E2G ENCODE-E2G_Benchmark 1    \n",
       "3 chr1:25932957-25934403 ENCODE-E2G ENCODE-E2G_Benchmark 2    \n",
       "4 chr1:26378063-26379023 ENCODE-E2G ENCODE-E2G_Benchmark 1    \n",
       "5 chr1:28883554-28885530 ENCODE-E2G ENCODE-E2G_Benchmark 2    \n",
       "6 chr1:70674894-70676471 ENCODE-E2G ENCODE-E2G_Benchmark 1    \n",
       "  Region                                                         Score     \n",
       "1 chr1:3774714-3775214|chr1:3774714-3775214|chr1:3774714-3775214 -0.3655433\n",
       "2 chr1:8858063-8858563                                           -0.1074100\n",
       "3 chr1:25933351-25933954|chr1:25933351-25933954                  -0.1034250\n",
       "4 chr1:26377523-26378866                                         -0.0517200\n",
       "5 chr1:28883765-28884265|chr1:28884388-28885427                  -0.2323200\n",
       "6 chr1:70674818-70676268                                         -0.0720900\n",
       "  Note                  \n",
       "1 Ulirsch2016           \n",
       "2 Gasperini et al., 2019\n",
       "3 Gasperini et al., 2019\n",
       "4 Gasperini et al., 2019\n",
       "5 Gasperini et al., 2019\n",
       "6 Gasperini et al., 2019"
      ]
     },
     "metadata": {},
     "output_type": "display_data"
    }
   ],
   "source": [
    "### init\n",
    "dat = dat_peak_annot_import\n",
    "\n",
    "### summarize\n",
    "dat = dat %>%\n",
    "    dplyr::group_by(Chrom_ATAC, Start_ATAC, End_ATAC, Peak_ATAC, Annotation, Label) %>%\n",
    "    dplyr::summarise(\n",
    "        Count  = n(), \n",
    "        Region = paste(Region, collapse=\"|\"),\n",
    "        Score  = mean(Value),\n",
    "        Note   = paste(sort(unique(Note)), collapse=\"|\"),\n",
    "        .groups = \"drop\")\n",
    "\n",
    "## Arrange\n",
    "dat = dat %>% \n",
    "    dplyr::arrange(Chrom_ATAC, Start_ATAC, End_ATAC) %>%\n",
    "    dplyr::select(-Chrom_ATAC, -Start_ATAC, -End_ATAC) %>%\n",
    "    dplyr::rename(\"Peak\" = Peak_ATAC)\n",
    "\n",
    "### assign and show\n",
    "dat_peak_annot_summary = dat\n",
    "print(dim(dat))\n",
    "head(dat)"
   ]
  },
  {
   "cell_type": "markdown",
   "metadata": {},
   "source": [
    "## Explore and check results"
   ]
  },
  {
   "cell_type": "code",
   "execution_count": 8,
   "metadata": {},
   "outputs": [
    {
     "data": {
      "text/plain": [
       "$`ENCODE-E2G_Benchmark`\n",
       "\n",
       "                               Fulco2016 \n",
       "                                       3 \n",
       "        Fulco2016|Gasperini et al., 2019 \n",
       "                                       1 \n",
       "                               Fulco2019 \n",
       "                                      31 \n",
       "        Fulco2019|Gasperini et al., 2019 \n",
       "                                       1 \n",
       "                  Gasperini et al., 2019 \n",
       "                                     288 \n",
       "        Gasperini et al., 2019|Huang2018 \n",
       "                                       1 \n",
       "Gasperini et al., 2019|Klann2017|Xie2017 \n",
       "                                       2 \n",
       "      Gasperini et al., 2019|Thakore2015 \n",
       "                                       1 \n",
       "                               Huang2018 \n",
       "                                       3 \n",
       "                       Klann2017|Xie2017 \n",
       "                                       1 \n",
       "                                  Qi2018 \n",
       "                                       1 \n",
       "                Schraivogel et al., 2020 \n",
       "                                      11 \n",
       "                             Ulirsch2016 \n",
       "                                       2 \n",
       "                         Wakabayashi2016 \n",
       "                                       3 \n",
       "                                 Xie2017 \n",
       "                                       3 \n",
       "                                  Xu2015 \n",
       "                                       1 \n"
      ]
     },
     "metadata": {},
     "output_type": "display_data"
    }
   ],
   "source": [
    "dat = dat_peak_annot_summary\n",
    "lst = split(dat, dat$Label)\n",
    "lst = lapply(lst, function(dat){\n",
    "    table(dat$Note)\n",
    "})\n",
    "lst"
   ]
  },
  {
   "cell_type": "code",
   "execution_count": 9,
   "metadata": {},
   "outputs": [
    {
     "data": {
      "text/plain": [
       "$`ENCODE-E2G_Benchmark`\n",
       "\n",
       "  1   2   3   4   5 \n",
       "295  43  10   3   2 \n"
      ]
     },
     "metadata": {},
     "output_type": "display_data"
    }
   ],
   "source": [
    "dat = dat_peak_annot_summary\n",
    "lst = split(dat, dat$Label)\n",
    "lst = lapply(lst, function(dat){\n",
    "    table(dat$Count)\n",
    "})\n",
    "lst"
   ]
  },
  {
   "cell_type": "markdown",
   "metadata": {},
   "source": [
    "## Save results"
   ]
  },
  {
   "cell_type": "code",
   "execution_count": 10,
   "metadata": {},
   "outputs": [],
   "source": [
    "fdiry = file.path(\n",
    "    FD_RES, \n",
    "    \"results\", \n",
    "    \"region\", \n",
    "    \"KS91_K562_ASTARRseq_peak_macs_input\", \n",
    "    \"summary\")\n",
    "fname = \"peak.summary.encode_e2g_benchmark.tsv\"\n",
    "fpath = file.path(fdiry, fname)\n",
    "\n",
    "dat = dat_peak_annot_summary\n",
    "write_tsv(dat, fpath)"
   ]
  },
  {
   "cell_type": "code",
   "execution_count": null,
   "metadata": {},
   "outputs": [],
   "source": []
  }
 ],
 "metadata": {
  "kernelspec": {
   "display_name": "R",
   "language": "R",
   "name": "ir"
  },
  "language_info": {
   "codemirror_mode": "r",
   "file_extension": ".r",
   "mimetype": "text/x-r-source",
   "name": "R",
   "pygments_lexer": "r",
   "version": "4.3.1"
  }
 },
 "nbformat": 4,
 "nbformat_minor": 4
}
