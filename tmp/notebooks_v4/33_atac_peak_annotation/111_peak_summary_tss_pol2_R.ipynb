{
 "cells": [
  {
   "cell_type": "markdown",
   "metadata": {},
   "source": [
    "**Set environment**"
   ]
  },
  {
   "cell_type": "code",
   "execution_count": 1,
   "metadata": {},
   "outputs": [
    {
     "name": "stdout",
     "output_type": "stream",
     "text": [
      "You are in Singularity: singularity_proj_encode_fcc \n",
      "BASE DIRECTORY (FD_BASE): /data/reddylab/Kuei \n",
      "WORK DIRECTORY (FD_WORK): /data/reddylab/Kuei/out \n",
      "CODE DIRECTORY (FD_CODE): /data/reddylab/Kuei/code \n",
      "PATH OF PROJECT (FD_PRJ): /data/reddylab/Kuei/code/Proj_CombEffect_ENCODE_FCC \n",
      "PATH OF RESULTS (FD_RES): /data/reddylab/Kuei/out/proj_combeffect_encode_fcc \n",
      "PATH OF LOG     (FD_LOG): /data/reddylab/Kuei/out/proj_combeffect_encode_fcc/log \n"
     ]
    }
   ],
   "source": [
    "suppressMessages(suppressWarnings(source(\"../config/config_sing.R\")))\n",
    "show_env()"
   ]
  },
  {
   "cell_type": "markdown",
   "metadata": {},
   "source": [
    "**Check data**"
   ]
  },
  {
   "cell_type": "code",
   "execution_count": 2,
   "metadata": {},
   "outputs": [],
   "source": [
    "FOLDER = \"annotation_tss_pol2\""
   ]
  },
  {
   "cell_type": "code",
   "execution_count": 3,
   "metadata": {},
   "outputs": [
    {
     "name": "stdout",
     "output_type": "stream",
     "text": [
      "[1] \"description.tsv\"\n",
      "[1] \"K562.TSS.selected_by_highest_Pol2_signal.bed\"\n",
      "[1] \"K562.TSS.selected_by_highest_Pol2_signal.bed.gz\"\n",
      "[1] \"K562.TSS.selected_by_highest_Pol2_signal.filtered_by_RNAseq_TPM.bed.gz\"\n"
     ]
    }
   ],
   "source": [
    "fdiry = file.path(\n",
    "    FD_RES, \n",
    "    \"results\", \n",
    "    \"region\", \n",
    "    FOLDER)\n",
    "for(fname in dir(fdiry)){print(fname)}"
   ]
  },
  {
   "cell_type": "code",
   "execution_count": 4,
   "metadata": {},
   "outputs": [
    {
     "name": "stdout",
     "output_type": "stream",
     "text": [
      "[1] \"peak.annotation.K562.TSS.selected_by_highest_Pol2_signal.bed.gz\"\n",
      "[1] \"peak.annotation.K562.TSS.selected_by_highest_Pol2_signal.filtered_by_RNAseq_TPM.bed.gz\"\n"
     ]
    }
   ],
   "source": [
    "fdiry = file.path(\n",
    "    FD_RES, \n",
    "    \"results\", \n",
    "    \"region\", \n",
    "    \"KS91_K562_ASTARRseq_peak_macs_input\", \n",
    "    FOLDER)\n",
    "for(fname in dir(fdiry)){print(fname)}"
   ]
  },
  {
   "cell_type": "markdown",
   "metadata": {},
   "source": [
    "## Import data"
   ]
  },
  {
   "cell_type": "markdown",
   "metadata": {},
   "source": [
    "**Get column names**"
   ]
  },
  {
   "cell_type": "code",
   "execution_count": 5,
   "metadata": {},
   "outputs": [
    {
     "name": "stdout",
     "output_type": "stream",
     "text": [
      "[1] 5 2\n"
     ]
    },
    {
     "data": {
      "text/html": [
       "<table class=\"dataframe\">\n",
       "<caption>A spec_tbl_df: 5 × 2</caption>\n",
       "<thead>\n",
       "\t<tr><th scope=col>Name</th><th scope=col>Description</th></tr>\n",
       "\t<tr><th scope=col>&lt;chr&gt;</th><th scope=col>&lt;chr&gt;</th></tr>\n",
       "</thead>\n",
       "<tbody>\n",
       "\t<tr><td>Chrom</td><td>Chromosome                                                                                 </td></tr>\n",
       "\t<tr><td>Start</td><td>TSS position                                                                               </td></tr>\n",
       "\t<tr><td>End  </td><td>TSS position                                                                               </td></tr>\n",
       "\t<tr><td>Name </td><td>Gene name                                                                                  </td></tr>\n",
       "\t<tr><td>Score</td><td>highest level of pol2 chip seq (ENCFF914WIS.bigWig) at [TSS-500, TSS+500] among TSS isoform</td></tr>\n",
       "</tbody>\n",
       "</table>\n"
      ],
      "text/latex": [
       "A spec\\_tbl\\_df: 5 × 2\n",
       "\\begin{tabular}{ll}\n",
       " Name & Description\\\\\n",
       " <chr> & <chr>\\\\\n",
       "\\hline\n",
       "\t Chrom & Chromosome                                                                                 \\\\\n",
       "\t Start & TSS position                                                                               \\\\\n",
       "\t End   & TSS position                                                                               \\\\\n",
       "\t Name  & Gene name                                                                                  \\\\\n",
       "\t Score & highest level of pol2 chip seq (ENCFF914WIS.bigWig) at {[}TSS-500, TSS+500{]} among TSS isoform\\\\\n",
       "\\end{tabular}\n"
      ],
      "text/markdown": [
       "\n",
       "A spec_tbl_df: 5 × 2\n",
       "\n",
       "| Name &lt;chr&gt; | Description &lt;chr&gt; |\n",
       "|---|---|\n",
       "| Chrom | Chromosome                                                                                  |\n",
       "| Start | TSS position                                                                                |\n",
       "| End   | TSS position                                                                                |\n",
       "| Name  | Gene name                                                                                   |\n",
       "| Score | highest level of pol2 chip seq (ENCFF914WIS.bigWig) at [TSS-500, TSS+500] among TSS isoform |\n",
       "\n"
      ],
      "text/plain": [
       "  Name \n",
       "1 Chrom\n",
       "2 Start\n",
       "3 End  \n",
       "4 Name \n",
       "5 Score\n",
       "  Description                                                                                \n",
       "1 Chromosome                                                                                 \n",
       "2 TSS position                                                                               \n",
       "3 TSS position                                                                               \n",
       "4 Gene name                                                                                  \n",
       "5 highest level of pol2 chip seq (ENCFF914WIS.bigWig) at [TSS-500, TSS+500] among TSS isoform"
      ]
     },
     "metadata": {},
     "output_type": "display_data"
    }
   ],
   "source": [
    "fdiry  = file.path(FD_RES, \"results\", \"region\", FOLDER)\n",
    "fname = \"description.tsv\"\n",
    "fpath = file.path(fdiry, fname)\n",
    "\n",
    "dat = read_tsv(fpath, show_col_types = FALSE)\n",
    "\n",
    "dat_cnames = dat\n",
    "print(dim(dat))\n",
    "dat"
   ]
  },
  {
   "cell_type": "markdown",
   "metadata": {},
   "source": [
    "**Import data**"
   ]
  },
  {
   "cell_type": "code",
   "execution_count": 29,
   "metadata": {},
   "outputs": [
    {
     "name": "stdout",
     "output_type": "stream",
     "text": [
      "                                                                                                                                                                                                          TSS_POL2 \n",
      "                       \"/data/reddylab/Kuei/out/proj_combeffect_encode_fcc/results/region/KS91_K562_ASTARRseq_peak_macs_input/annotation_tss_pol2/peak.annotation.K562.TSS.selected_by_highest_Pol2_signal.bed.gz\" \n",
      "                                                                                                                                                                                                   TSS_POL2_RNAseq \n",
      "\"/data/reddylab/Kuei/out/proj_combeffect_encode_fcc/results/region/KS91_K562_ASTARRseq_peak_macs_input/annotation_tss_pol2/peak.annotation.K562.TSS.selected_by_highest_Pol2_signal.filtered_by_RNAseq_TPM.bed.gz\" \n"
     ]
    }
   ],
   "source": [
    "### init: set column names\n",
    "cnames = dat_cnames$Name\n",
    "cnames = c(\"Chrom_ATAC\", \"Start_ATAC\", \"End_ATAC\", cnames, \"Overlap\")\n",
    "\n",
    "### init: set file path\n",
    "fdiry = file.path(\n",
    "    FD_RES, \n",
    "    \"results\", \n",
    "    \"region\", \n",
    "    \"KS91_K562_ASTARRseq_peak_macs_input\", \n",
    "    FOLDER)\n",
    "fname = paste(\"peak.annotation\", \"bed.gz\", sep=\"*\")\n",
    "fglob = file.path(fdiry, fname)\n",
    "fpaths = Sys.glob(fglob)\n",
    "\n",
    "### init: annotation and label\n",
    "annotations   = c(\"TSS_POL2\", \"TSS_POL2_RNAseq\")\n",
    "label         = \"TSS\"\n",
    "names(fpaths) = annotations\n",
    "print(fpaths)\n",
    "\n",
    "### import data\n",
    "lst = lapply(annotations, function(annotation){\n",
    "    ### init: get fpath\n",
    "    fpath = fpaths[annotation]\n",
    "\n",
    "    ### read table\n",
    "    dat = read_tsv(fpath, col_names = cnames, show_col_types = FALSE)\n",
    "    \n",
    "    ### arrange columns\n",
    "    dat = dat %>% dplyr::mutate(\n",
    "        Peak_ATAC  = paste0(Chrom_ATAC, \":\", Start_ATAC, \"-\", End_ATAC),\n",
    "        Annotation = annotation,\n",
    "        Label      = label,\n",
    "        Region     = paste0(Chrom, \":\", Start, \"-\", End),\n",
    "        Value      = Score,\n",
    "        Note       = Name\n",
    "    )\n",
    "    return(dat)\n",
    "})\n",
    "names(lst) = annotations\n",
    "\n",
    "### assign and show\n",
    "lst_dat_peak_annot_import = lst"
   ]
  },
  {
   "cell_type": "code",
   "execution_count": 30,
   "metadata": {},
   "outputs": [
    {
     "data": {
      "text/html": [
       "<table class=\"dataframe\">\n",
       "<caption>A tibble: 3 × 15</caption>\n",
       "<thead>\n",
       "\t<tr><th scope=col>Chrom_ATAC</th><th scope=col>Start_ATAC</th><th scope=col>End_ATAC</th><th scope=col>Chrom</th><th scope=col>Start</th><th scope=col>End</th><th scope=col>Name</th><th scope=col>Score</th><th scope=col>Overlap</th><th scope=col>Peak_ATAC</th><th scope=col>Annotation</th><th scope=col>Label</th><th scope=col>Region</th><th scope=col>Value</th><th scope=col>Note</th></tr>\n",
       "\t<tr><th scope=col>&lt;chr&gt;</th><th scope=col>&lt;dbl&gt;</th><th scope=col>&lt;dbl&gt;</th><th scope=col>&lt;chr&gt;</th><th scope=col>&lt;dbl&gt;</th><th scope=col>&lt;dbl&gt;</th><th scope=col>&lt;chr&gt;</th><th scope=col>&lt;dbl&gt;</th><th scope=col>&lt;dbl&gt;</th><th scope=col>&lt;chr&gt;</th><th scope=col>&lt;chr&gt;</th><th scope=col>&lt;chr&gt;</th><th scope=col>&lt;chr&gt;</th><th scope=col>&lt;dbl&gt;</th><th scope=col>&lt;chr&gt;</th></tr>\n",
       "</thead>\n",
       "<tbody>\n",
       "\t<tr><td>chr1</td><td>17237</td><td>17772</td><td>chr1</td><td>17436</td><td>17437</td><td>MIR6859-1</td><td>9.43812</td><td>1</td><td>chr1:17237-17772</td><td>TSS_POL2</td><td>TSS</td><td>chr1:17436-17437</td><td>9.43812</td><td>MIR6859-1</td></tr>\n",
       "\t<tr><td>chr1</td><td>17237</td><td>17772</td><td>chr1</td><td>17436</td><td>17437</td><td>MIR6859-2</td><td>9.43812</td><td>1</td><td>chr1:17237-17772</td><td>TSS_POL2</td><td>TSS</td><td>chr1:17436-17437</td><td>9.43812</td><td>MIR6859-2</td></tr>\n",
       "\t<tr><td>chr1</td><td>17237</td><td>17772</td><td>chr1</td><td>17436</td><td>17437</td><td>MIR6859-3</td><td>9.43812</td><td>1</td><td>chr1:17237-17772</td><td>TSS_POL2</td><td>TSS</td><td>chr1:17436-17437</td><td>9.43812</td><td>MIR6859-3</td></tr>\n",
       "</tbody>\n",
       "</table>\n"
      ],
      "text/latex": [
       "A tibble: 3 × 15\n",
       "\\begin{tabular}{lllllllllllllll}\n",
       " Chrom\\_ATAC & Start\\_ATAC & End\\_ATAC & Chrom & Start & End & Name & Score & Overlap & Peak\\_ATAC & Annotation & Label & Region & Value & Note\\\\\n",
       " <chr> & <dbl> & <dbl> & <chr> & <dbl> & <dbl> & <chr> & <dbl> & <dbl> & <chr> & <chr> & <chr> & <chr> & <dbl> & <chr>\\\\\n",
       "\\hline\n",
       "\t chr1 & 17237 & 17772 & chr1 & 17436 & 17437 & MIR6859-1 & 9.43812 & 1 & chr1:17237-17772 & TSS\\_POL2 & TSS & chr1:17436-17437 & 9.43812 & MIR6859-1\\\\\n",
       "\t chr1 & 17237 & 17772 & chr1 & 17436 & 17437 & MIR6859-2 & 9.43812 & 1 & chr1:17237-17772 & TSS\\_POL2 & TSS & chr1:17436-17437 & 9.43812 & MIR6859-2\\\\\n",
       "\t chr1 & 17237 & 17772 & chr1 & 17436 & 17437 & MIR6859-3 & 9.43812 & 1 & chr1:17237-17772 & TSS\\_POL2 & TSS & chr1:17436-17437 & 9.43812 & MIR6859-3\\\\\n",
       "\\end{tabular}\n"
      ],
      "text/markdown": [
       "\n",
       "A tibble: 3 × 15\n",
       "\n",
       "| Chrom_ATAC &lt;chr&gt; | Start_ATAC &lt;dbl&gt; | End_ATAC &lt;dbl&gt; | Chrom &lt;chr&gt; | Start &lt;dbl&gt; | End &lt;dbl&gt; | Name &lt;chr&gt; | Score &lt;dbl&gt; | Overlap &lt;dbl&gt; | Peak_ATAC &lt;chr&gt; | Annotation &lt;chr&gt; | Label &lt;chr&gt; | Region &lt;chr&gt; | Value &lt;dbl&gt; | Note &lt;chr&gt; |\n",
       "|---|---|---|---|---|---|---|---|---|---|---|---|---|---|---|\n",
       "| chr1 | 17237 | 17772 | chr1 | 17436 | 17437 | MIR6859-1 | 9.43812 | 1 | chr1:17237-17772 | TSS_POL2 | TSS | chr1:17436-17437 | 9.43812 | MIR6859-1 |\n",
       "| chr1 | 17237 | 17772 | chr1 | 17436 | 17437 | MIR6859-2 | 9.43812 | 1 | chr1:17237-17772 | TSS_POL2 | TSS | chr1:17436-17437 | 9.43812 | MIR6859-2 |\n",
       "| chr1 | 17237 | 17772 | chr1 | 17436 | 17437 | MIR6859-3 | 9.43812 | 1 | chr1:17237-17772 | TSS_POL2 | TSS | chr1:17436-17437 | 9.43812 | MIR6859-3 |\n",
       "\n"
      ],
      "text/plain": [
       "  Chrom_ATAC Start_ATAC End_ATAC Chrom Start End   Name      Score   Overlap\n",
       "1 chr1       17237      17772    chr1  17436 17437 MIR6859-1 9.43812 1      \n",
       "2 chr1       17237      17772    chr1  17436 17437 MIR6859-2 9.43812 1      \n",
       "3 chr1       17237      17772    chr1  17436 17437 MIR6859-3 9.43812 1      \n",
       "  Peak_ATAC        Annotation Label Region           Value   Note     \n",
       "1 chr1:17237-17772 TSS_POL2   TSS   chr1:17436-17437 9.43812 MIR6859-1\n",
       "2 chr1:17237-17772 TSS_POL2   TSS   chr1:17436-17437 9.43812 MIR6859-2\n",
       "3 chr1:17237-17772 TSS_POL2   TSS   chr1:17436-17437 9.43812 MIR6859-3"
      ]
     },
     "metadata": {},
     "output_type": "display_data"
    }
   ],
   "source": [
    "lst = lst_dat_peak_annot_import\n",
    "dat = lst[[1]]\n",
    "head(dat, 3)"
   ]
  },
  {
   "cell_type": "code",
   "execution_count": 31,
   "metadata": {},
   "outputs": [
    {
     "data": {
      "text/html": [
       "<table class=\"dataframe\">\n",
       "<caption>A tibble: 3 × 15</caption>\n",
       "<thead>\n",
       "\t<tr><th scope=col>Chrom_ATAC</th><th scope=col>Start_ATAC</th><th scope=col>End_ATAC</th><th scope=col>Chrom</th><th scope=col>Start</th><th scope=col>End</th><th scope=col>Name</th><th scope=col>Score</th><th scope=col>Overlap</th><th scope=col>Peak_ATAC</th><th scope=col>Annotation</th><th scope=col>Label</th><th scope=col>Region</th><th scope=col>Value</th><th scope=col>Note</th></tr>\n",
       "\t<tr><th scope=col>&lt;chr&gt;</th><th scope=col>&lt;dbl&gt;</th><th scope=col>&lt;dbl&gt;</th><th scope=col>&lt;chr&gt;</th><th scope=col>&lt;dbl&gt;</th><th scope=col>&lt;dbl&gt;</th><th scope=col>&lt;chr&gt;</th><th scope=col>&lt;dbl&gt;</th><th scope=col>&lt;dbl&gt;</th><th scope=col>&lt;chr&gt;</th><th scope=col>&lt;chr&gt;</th><th scope=col>&lt;chr&gt;</th><th scope=col>&lt;chr&gt;</th><th scope=col>&lt;dbl&gt;</th><th scope=col>&lt;chr&gt;</th></tr>\n",
       "</thead>\n",
       "<tbody>\n",
       "\t<tr><td>chr1</td><td> 28903</td><td> 29613</td><td>chr1</td><td> 29370</td><td> 29371</td><td>WASH7P   </td><td> 0.00023</td><td>1</td><td>chr1:28903-29613  </td><td>TSS_POL2_RNAseq</td><td>TSS</td><td>chr1:29370-29371  </td><td> 0.00023</td><td>WASH7P   </td></tr>\n",
       "\t<tr><td>chr1</td><td>826754</td><td>828040</td><td>chr1</td><td>827522</td><td>827523</td><td>LINC00115</td><td>64.46560</td><td>1</td><td>chr1:826754-828040</td><td>TSS_POL2_RNAseq</td><td>TSS</td><td>chr1:827522-827523</td><td>64.46560</td><td>LINC00115</td></tr>\n",
       "\t<tr><td>chr1</td><td>826754</td><td>828040</td><td>chr1</td><td>827590</td><td>827591</td><td>LINC01128</td><td>64.46030</td><td>1</td><td>chr1:826754-828040</td><td>TSS_POL2_RNAseq</td><td>TSS</td><td>chr1:827590-827591</td><td>64.46030</td><td>LINC01128</td></tr>\n",
       "</tbody>\n",
       "</table>\n"
      ],
      "text/latex": [
       "A tibble: 3 × 15\n",
       "\\begin{tabular}{lllllllllllllll}\n",
       " Chrom\\_ATAC & Start\\_ATAC & End\\_ATAC & Chrom & Start & End & Name & Score & Overlap & Peak\\_ATAC & Annotation & Label & Region & Value & Note\\\\\n",
       " <chr> & <dbl> & <dbl> & <chr> & <dbl> & <dbl> & <chr> & <dbl> & <dbl> & <chr> & <chr> & <chr> & <chr> & <dbl> & <chr>\\\\\n",
       "\\hline\n",
       "\t chr1 &  28903 &  29613 & chr1 &  29370 &  29371 & WASH7P    &  0.00023 & 1 & chr1:28903-29613   & TSS\\_POL2\\_RNAseq & TSS & chr1:29370-29371   &  0.00023 & WASH7P   \\\\\n",
       "\t chr1 & 826754 & 828040 & chr1 & 827522 & 827523 & LINC00115 & 64.46560 & 1 & chr1:826754-828040 & TSS\\_POL2\\_RNAseq & TSS & chr1:827522-827523 & 64.46560 & LINC00115\\\\\n",
       "\t chr1 & 826754 & 828040 & chr1 & 827590 & 827591 & LINC01128 & 64.46030 & 1 & chr1:826754-828040 & TSS\\_POL2\\_RNAseq & TSS & chr1:827590-827591 & 64.46030 & LINC01128\\\\\n",
       "\\end{tabular}\n"
      ],
      "text/markdown": [
       "\n",
       "A tibble: 3 × 15\n",
       "\n",
       "| Chrom_ATAC &lt;chr&gt; | Start_ATAC &lt;dbl&gt; | End_ATAC &lt;dbl&gt; | Chrom &lt;chr&gt; | Start &lt;dbl&gt; | End &lt;dbl&gt; | Name &lt;chr&gt; | Score &lt;dbl&gt; | Overlap &lt;dbl&gt; | Peak_ATAC &lt;chr&gt; | Annotation &lt;chr&gt; | Label &lt;chr&gt; | Region &lt;chr&gt; | Value &lt;dbl&gt; | Note &lt;chr&gt; |\n",
       "|---|---|---|---|---|---|---|---|---|---|---|---|---|---|---|\n",
       "| chr1 |  28903 |  29613 | chr1 |  29370 |  29371 | WASH7P    |  0.00023 | 1 | chr1:28903-29613   | TSS_POL2_RNAseq | TSS | chr1:29370-29371   |  0.00023 | WASH7P    |\n",
       "| chr1 | 826754 | 828040 | chr1 | 827522 | 827523 | LINC00115 | 64.46560 | 1 | chr1:826754-828040 | TSS_POL2_RNAseq | TSS | chr1:827522-827523 | 64.46560 | LINC00115 |\n",
       "| chr1 | 826754 | 828040 | chr1 | 827590 | 827591 | LINC01128 | 64.46030 | 1 | chr1:826754-828040 | TSS_POL2_RNAseq | TSS | chr1:827590-827591 | 64.46030 | LINC01128 |\n",
       "\n"
      ],
      "text/plain": [
       "  Chrom_ATAC Start_ATAC End_ATAC Chrom Start  End    Name      Score    Overlap\n",
       "1 chr1        28903      29613   chr1   29370  29371 WASH7P     0.00023 1      \n",
       "2 chr1       826754     828040   chr1  827522 827523 LINC00115 64.46560 1      \n",
       "3 chr1       826754     828040   chr1  827590 827591 LINC01128 64.46030 1      \n",
       "  Peak_ATAC          Annotation      Label Region             Value   \n",
       "1 chr1:28903-29613   TSS_POL2_RNAseq TSS   chr1:29370-29371    0.00023\n",
       "2 chr1:826754-828040 TSS_POL2_RNAseq TSS   chr1:827522-827523 64.46560\n",
       "3 chr1:826754-828040 TSS_POL2_RNAseq TSS   chr1:827590-827591 64.46030\n",
       "  Note     \n",
       "1 WASH7P   \n",
       "2 LINC00115\n",
       "3 LINC01128"
      ]
     },
     "metadata": {},
     "output_type": "display_data"
    }
   ],
   "source": [
    "lst = lst_dat_peak_annot_import\n",
    "dat = lst[[2]]\n",
    "head(dat, 3)"
   ]
  },
  {
   "cell_type": "markdown",
   "metadata": {},
   "source": [
    "## Arrange and summarize"
   ]
  },
  {
   "cell_type": "code",
   "execution_count": 32,
   "metadata": {},
   "outputs": [
    {
     "name": "stdout",
     "output_type": "stream",
     "text": [
      "[1] \"TSS_POL2\"        \"TSS_POL2_RNAseq\"\n"
     ]
    }
   ],
   "source": [
    "### init\n",
    "lst = lst_dat_peak_annot_import\n",
    "\n",
    "### loop, summarize, and arrange\n",
    "lst = lapply(lst, function(dat){\n",
    "    ### summarize\n",
    "    dat = dat %>%\n",
    "        dplyr::group_by(Chrom_ATAC, Start_ATAC, End_ATAC, Peak_ATAC, Annotation, Label) %>%\n",
    "        dplyr::summarise(\n",
    "            Count  = n(), \n",
    "            Region = paste(Region, collapse=\"|\"),\n",
    "            Score  = mean(Value),\n",
    "            Note   = paste(Note, collapse=\"|\"),\n",
    "            .groups = \"drop\")\n",
    "\n",
    "    ### Arrange\n",
    "    dat = dat %>% \n",
    "        dplyr::arrange(Chrom_ATAC, Start_ATAC, End_ATAC) %>%\n",
    "        dplyr::select(-Chrom_ATAC, -Start_ATAC, -End_ATAC) %>%\n",
    "        dplyr::rename(\"Peak\" = Peak_ATAC)\n",
    "    \n",
    "    return(dat)\n",
    "})\n",
    "\n",
    "### assign and show\n",
    "lst_dat_peak_annot_summary = lst\n",
    "print(names(lst))"
   ]
  },
  {
   "cell_type": "code",
   "execution_count": 33,
   "metadata": {},
   "outputs": [
    {
     "data": {
      "text/html": [
       "<table class=\"dataframe\">\n",
       "<caption>A tibble: 3 × 7</caption>\n",
       "<thead>\n",
       "\t<tr><th scope=col>Peak</th><th scope=col>Annotation</th><th scope=col>Label</th><th scope=col>Count</th><th scope=col>Region</th><th scope=col>Score</th><th scope=col>Note</th></tr>\n",
       "\t<tr><th scope=col>&lt;chr&gt;</th><th scope=col>&lt;chr&gt;</th><th scope=col>&lt;chr&gt;</th><th scope=col>&lt;int&gt;</th><th scope=col>&lt;chr&gt;</th><th scope=col>&lt;dbl&gt;</th><th scope=col>&lt;chr&gt;</th></tr>\n",
       "</thead>\n",
       "<tbody>\n",
       "\t<tr><td>chr1:17237-17772  </td><td>TSS_POL2</td><td>TSS</td><td>4</td><td>chr1:17436-17437|chr1:17436-17437|chr1:17436-17437|chr1:17436-17437</td><td>  9.43812</td><td>MIR6859-1|MIR6859-2|MIR6859-3|MIR6859-4</td></tr>\n",
       "\t<tr><td>chr1:28903-29613  </td><td>TSS_POL2</td><td>TSS</td><td>1</td><td>chr1:29370-29371                                                   </td><td>  0.00023</td><td>WASH7P                                 </td></tr>\n",
       "\t<tr><td>chr1:777949-779437</td><td>TSS_POL2</td><td>TSS</td><td>1</td><td>chr1:778634-778635                                                 </td><td>230.56100</td><td>LOC100288069                           </td></tr>\n",
       "</tbody>\n",
       "</table>\n"
      ],
      "text/latex": [
       "A tibble: 3 × 7\n",
       "\\begin{tabular}{lllllll}\n",
       " Peak & Annotation & Label & Count & Region & Score & Note\\\\\n",
       " <chr> & <chr> & <chr> & <int> & <chr> & <dbl> & <chr>\\\\\n",
       "\\hline\n",
       "\t chr1:17237-17772   & TSS\\_POL2 & TSS & 4 & chr1:17436-17437\\textbar{}chr1:17436-17437\\textbar{}chr1:17436-17437\\textbar{}chr1:17436-17437 &   9.43812 & MIR6859-1\\textbar{}MIR6859-2\\textbar{}MIR6859-3\\textbar{}MIR6859-4\\\\\n",
       "\t chr1:28903-29613   & TSS\\_POL2 & TSS & 1 & chr1:29370-29371                                                    &   0.00023 & WASH7P                                 \\\\\n",
       "\t chr1:777949-779437 & TSS\\_POL2 & TSS & 1 & chr1:778634-778635                                                  & 230.56100 & LOC100288069                           \\\\\n",
       "\\end{tabular}\n"
      ],
      "text/markdown": [
       "\n",
       "A tibble: 3 × 7\n",
       "\n",
       "| Peak &lt;chr&gt; | Annotation &lt;chr&gt; | Label &lt;chr&gt; | Count &lt;int&gt; | Region &lt;chr&gt; | Score &lt;dbl&gt; | Note &lt;chr&gt; |\n",
       "|---|---|---|---|---|---|---|\n",
       "| chr1:17237-17772   | TSS_POL2 | TSS | 4 | chr1:17436-17437|chr1:17436-17437|chr1:17436-17437|chr1:17436-17437 |   9.43812 | MIR6859-1|MIR6859-2|MIR6859-3|MIR6859-4 |\n",
       "| chr1:28903-29613   | TSS_POL2 | TSS | 1 | chr1:29370-29371                                                    |   0.00023 | WASH7P                                  |\n",
       "| chr1:777949-779437 | TSS_POL2 | TSS | 1 | chr1:778634-778635                                                  | 230.56100 | LOC100288069                            |\n",
       "\n"
      ],
      "text/plain": [
       "  Peak               Annotation Label Count\n",
       "1 chr1:17237-17772   TSS_POL2   TSS   4    \n",
       "2 chr1:28903-29613   TSS_POL2   TSS   1    \n",
       "3 chr1:777949-779437 TSS_POL2   TSS   1    \n",
       "  Region                                                              Score    \n",
       "1 chr1:17436-17437|chr1:17436-17437|chr1:17436-17437|chr1:17436-17437   9.43812\n",
       "2 chr1:29370-29371                                                      0.00023\n",
       "3 chr1:778634-778635                                                  230.56100\n",
       "  Note                                   \n",
       "1 MIR6859-1|MIR6859-2|MIR6859-3|MIR6859-4\n",
       "2 WASH7P                                 \n",
       "3 LOC100288069                           "
      ]
     },
     "metadata": {},
     "output_type": "display_data"
    }
   ],
   "source": [
    "lst = lst_dat_peak_annot_summary\n",
    "dat = lst[[1]]\n",
    "head(dat, 3)"
   ]
  },
  {
   "cell_type": "code",
   "execution_count": 34,
   "metadata": {},
   "outputs": [
    {
     "data": {
      "text/html": [
       "<table class=\"dataframe\">\n",
       "<caption>A tibble: 3 × 7</caption>\n",
       "<thead>\n",
       "\t<tr><th scope=col>Peak</th><th scope=col>Annotation</th><th scope=col>Label</th><th scope=col>Count</th><th scope=col>Region</th><th scope=col>Score</th><th scope=col>Note</th></tr>\n",
       "\t<tr><th scope=col>&lt;chr&gt;</th><th scope=col>&lt;chr&gt;</th><th scope=col>&lt;chr&gt;</th><th scope=col>&lt;int&gt;</th><th scope=col>&lt;chr&gt;</th><th scope=col>&lt;dbl&gt;</th><th scope=col>&lt;chr&gt;</th></tr>\n",
       "</thead>\n",
       "<tbody>\n",
       "\t<tr><td>chr1:28903-29613  </td><td>TSS_POL2_RNAseq</td><td>TSS</td><td>1</td><td>chr1:29370-29371                     </td><td> 0.00023000</td><td>WASH7P             </td></tr>\n",
       "\t<tr><td>chr1:826754-828040</td><td>TSS_POL2_RNAseq</td><td>TSS</td><td>2</td><td>chr1:827522-827523|chr1:827590-827591</td><td>64.46295000</td><td>LINC00115|LINC01128</td></tr>\n",
       "\t<tr><td>chr1:876474-878030</td><td>TSS_POL2_RNAseq</td><td>TSS</td><td>1</td><td>chr1:876802-876803                   </td><td> 0.00788399</td><td>FAM41C             </td></tr>\n",
       "</tbody>\n",
       "</table>\n"
      ],
      "text/latex": [
       "A tibble: 3 × 7\n",
       "\\begin{tabular}{lllllll}\n",
       " Peak & Annotation & Label & Count & Region & Score & Note\\\\\n",
       " <chr> & <chr> & <chr> & <int> & <chr> & <dbl> & <chr>\\\\\n",
       "\\hline\n",
       "\t chr1:28903-29613   & TSS\\_POL2\\_RNAseq & TSS & 1 & chr1:29370-29371                      &  0.00023000 & WASH7P             \\\\\n",
       "\t chr1:826754-828040 & TSS\\_POL2\\_RNAseq & TSS & 2 & chr1:827522-827523\\textbar{}chr1:827590-827591 & 64.46295000 & LINC00115\\textbar{}LINC01128\\\\\n",
       "\t chr1:876474-878030 & TSS\\_POL2\\_RNAseq & TSS & 1 & chr1:876802-876803                    &  0.00788399 & FAM41C             \\\\\n",
       "\\end{tabular}\n"
      ],
      "text/markdown": [
       "\n",
       "A tibble: 3 × 7\n",
       "\n",
       "| Peak &lt;chr&gt; | Annotation &lt;chr&gt; | Label &lt;chr&gt; | Count &lt;int&gt; | Region &lt;chr&gt; | Score &lt;dbl&gt; | Note &lt;chr&gt; |\n",
       "|---|---|---|---|---|---|---|\n",
       "| chr1:28903-29613   | TSS_POL2_RNAseq | TSS | 1 | chr1:29370-29371                      |  0.00023000 | WASH7P              |\n",
       "| chr1:826754-828040 | TSS_POL2_RNAseq | TSS | 2 | chr1:827522-827523|chr1:827590-827591 | 64.46295000 | LINC00115|LINC01128 |\n",
       "| chr1:876474-878030 | TSS_POL2_RNAseq | TSS | 1 | chr1:876802-876803                    |  0.00788399 | FAM41C              |\n",
       "\n"
      ],
      "text/plain": [
       "  Peak               Annotation      Label Count\n",
       "1 chr1:28903-29613   TSS_POL2_RNAseq TSS   1    \n",
       "2 chr1:826754-828040 TSS_POL2_RNAseq TSS   2    \n",
       "3 chr1:876474-878030 TSS_POL2_RNAseq TSS   1    \n",
       "  Region                                Score       Note               \n",
       "1 chr1:29370-29371                       0.00023000 WASH7P             \n",
       "2 chr1:827522-827523|chr1:827590-827591 64.46295000 LINC00115|LINC01128\n",
       "3 chr1:876802-876803                     0.00788399 FAM41C             "
      ]
     },
     "metadata": {},
     "output_type": "display_data"
    }
   ],
   "source": [
    "lst = lst_dat_peak_annot_summary\n",
    "dat = lst[[2]]\n",
    "head(dat, 3)"
   ]
  },
  {
   "cell_type": "markdown",
   "metadata": {},
   "source": [
    "## Explore and check results"
   ]
  },
  {
   "cell_type": "code",
   "execution_count": 36,
   "metadata": {},
   "outputs": [
    {
     "name": "stdout",
     "output_type": "stream",
     "text": [
      "TSS_POL2 \n",
      "\n",
      "    1     2     3     4     5     6    10 \n",
      "12784  2283   107    12     2     2     1 \n",
      "\n",
      "\n",
      "TSS_POL2_RNAseq \n",
      "\n",
      "   1    2    3    5 \n",
      "8622 1142   27    1 \n",
      "\n",
      "\n"
     ]
    }
   ],
   "source": [
    "lst = lst_dat_peak_annot_summary\n",
    "\n",
    "for (txt in names(lst)){\n",
    "    cat(txt, \"\\n\")\n",
    "    dat = lst[[txt]]\n",
    "    print(table(dat$Count))\n",
    "    cat(\"\\n\\n\")\n",
    "}"
   ]
  },
  {
   "cell_type": "markdown",
   "metadata": {},
   "source": [
    "## Save results"
   ]
  },
  {
   "cell_type": "code",
   "execution_count": 37,
   "metadata": {},
   "outputs": [
    {
     "name": "stdout",
     "output_type": "stream",
     "text": [
      "[1] 15191     7\n"
     ]
    },
    {
     "data": {
      "text/html": [
       "<table class=\"dataframe\">\n",
       "<caption>A tibble: 3 × 7</caption>\n",
       "<thead>\n",
       "\t<tr><th scope=col>Peak</th><th scope=col>Annotation</th><th scope=col>Label</th><th scope=col>Count</th><th scope=col>Region</th><th scope=col>Score</th><th scope=col>Note</th></tr>\n",
       "\t<tr><th scope=col>&lt;chr&gt;</th><th scope=col>&lt;chr&gt;</th><th scope=col>&lt;chr&gt;</th><th scope=col>&lt;int&gt;</th><th scope=col>&lt;chr&gt;</th><th scope=col>&lt;dbl&gt;</th><th scope=col>&lt;chr&gt;</th></tr>\n",
       "</thead>\n",
       "<tbody>\n",
       "\t<tr><td>chr1:17237-17772  </td><td>TSS_POL2</td><td>TSS</td><td>4</td><td>chr1:17436-17437|chr1:17436-17437|chr1:17436-17437|chr1:17436-17437</td><td>  9.43812</td><td>MIR6859-1|MIR6859-2|MIR6859-3|MIR6859-4</td></tr>\n",
       "\t<tr><td>chr1:28903-29613  </td><td>TSS_POL2</td><td>TSS</td><td>1</td><td>chr1:29370-29371                                                   </td><td>  0.00023</td><td>WASH7P                                 </td></tr>\n",
       "\t<tr><td>chr1:777949-779437</td><td>TSS_POL2</td><td>TSS</td><td>1</td><td>chr1:778634-778635                                                 </td><td>230.56100</td><td>LOC100288069                           </td></tr>\n",
       "</tbody>\n",
       "</table>\n"
      ],
      "text/latex": [
       "A tibble: 3 × 7\n",
       "\\begin{tabular}{lllllll}\n",
       " Peak & Annotation & Label & Count & Region & Score & Note\\\\\n",
       " <chr> & <chr> & <chr> & <int> & <chr> & <dbl> & <chr>\\\\\n",
       "\\hline\n",
       "\t chr1:17237-17772   & TSS\\_POL2 & TSS & 4 & chr1:17436-17437\\textbar{}chr1:17436-17437\\textbar{}chr1:17436-17437\\textbar{}chr1:17436-17437 &   9.43812 & MIR6859-1\\textbar{}MIR6859-2\\textbar{}MIR6859-3\\textbar{}MIR6859-4\\\\\n",
       "\t chr1:28903-29613   & TSS\\_POL2 & TSS & 1 & chr1:29370-29371                                                    &   0.00023 & WASH7P                                 \\\\\n",
       "\t chr1:777949-779437 & TSS\\_POL2 & TSS & 1 & chr1:778634-778635                                                  & 230.56100 & LOC100288069                           \\\\\n",
       "\\end{tabular}\n"
      ],
      "text/markdown": [
       "\n",
       "A tibble: 3 × 7\n",
       "\n",
       "| Peak &lt;chr&gt; | Annotation &lt;chr&gt; | Label &lt;chr&gt; | Count &lt;int&gt; | Region &lt;chr&gt; | Score &lt;dbl&gt; | Note &lt;chr&gt; |\n",
       "|---|---|---|---|---|---|---|\n",
       "| chr1:17237-17772   | TSS_POL2 | TSS | 4 | chr1:17436-17437|chr1:17436-17437|chr1:17436-17437|chr1:17436-17437 |   9.43812 | MIR6859-1|MIR6859-2|MIR6859-3|MIR6859-4 |\n",
       "| chr1:28903-29613   | TSS_POL2 | TSS | 1 | chr1:29370-29371                                                    |   0.00023 | WASH7P                                  |\n",
       "| chr1:777949-779437 | TSS_POL2 | TSS | 1 | chr1:778634-778635                                                  | 230.56100 | LOC100288069                            |\n",
       "\n"
      ],
      "text/plain": [
       "  Peak               Annotation Label Count\n",
       "1 chr1:17237-17772   TSS_POL2   TSS   4    \n",
       "2 chr1:28903-29613   TSS_POL2   TSS   1    \n",
       "3 chr1:777949-779437 TSS_POL2   TSS   1    \n",
       "  Region                                                              Score    \n",
       "1 chr1:17436-17437|chr1:17436-17437|chr1:17436-17437|chr1:17436-17437   9.43812\n",
       "2 chr1:29370-29371                                                      0.00023\n",
       "3 chr1:778634-778635                                                  230.56100\n",
       "  Note                                   \n",
       "1 MIR6859-1|MIR6859-2|MIR6859-3|MIR6859-4\n",
       "2 WASH7P                                 \n",
       "3 LOC100288069                           "
      ]
     },
     "metadata": {},
     "output_type": "display_data"
    }
   ],
   "source": [
    "fdiry = file.path(\n",
    "    FD_RES, \n",
    "    \"results\", \n",
    "    \"region\", \n",
    "    \"KS91_K562_ASTARRseq_peak_macs_input\", \n",
    "    \"summary\")\n",
    "fname = \"peak.summary.tss_pol2.tsv\"\n",
    "fpath = file.path(fdiry, fname)\n",
    "\n",
    "lst = lst_dat_peak_annot_summary\n",
    "dat = lst[[\"TSS_POL2\"]]\n",
    "write_tsv(dat, fpath)\n",
    "\n",
    "print(dim(dat))\n",
    "head(dat, 3)"
   ]
  },
  {
   "cell_type": "code",
   "execution_count": 38,
   "metadata": {},
   "outputs": [
    {
     "name": "stdout",
     "output_type": "stream",
     "text": [
      "[1] 9792    7\n"
     ]
    },
    {
     "data": {
      "text/html": [
       "<table class=\"dataframe\">\n",
       "<caption>A tibble: 3 × 7</caption>\n",
       "<thead>\n",
       "\t<tr><th scope=col>Peak</th><th scope=col>Annotation</th><th scope=col>Label</th><th scope=col>Count</th><th scope=col>Region</th><th scope=col>Score</th><th scope=col>Note</th></tr>\n",
       "\t<tr><th scope=col>&lt;chr&gt;</th><th scope=col>&lt;chr&gt;</th><th scope=col>&lt;chr&gt;</th><th scope=col>&lt;int&gt;</th><th scope=col>&lt;chr&gt;</th><th scope=col>&lt;dbl&gt;</th><th scope=col>&lt;chr&gt;</th></tr>\n",
       "</thead>\n",
       "<tbody>\n",
       "\t<tr><td>chr1:28903-29613  </td><td>TSS_POL2_RNAseq</td><td>TSS</td><td>1</td><td>chr1:29370-29371                     </td><td> 0.00023000</td><td>WASH7P             </td></tr>\n",
       "\t<tr><td>chr1:826754-828040</td><td>TSS_POL2_RNAseq</td><td>TSS</td><td>2</td><td>chr1:827522-827523|chr1:827590-827591</td><td>64.46295000</td><td>LINC00115|LINC01128</td></tr>\n",
       "\t<tr><td>chr1:876474-878030</td><td>TSS_POL2_RNAseq</td><td>TSS</td><td>1</td><td>chr1:876802-876803                   </td><td> 0.00788399</td><td>FAM41C             </td></tr>\n",
       "</tbody>\n",
       "</table>\n"
      ],
      "text/latex": [
       "A tibble: 3 × 7\n",
       "\\begin{tabular}{lllllll}\n",
       " Peak & Annotation & Label & Count & Region & Score & Note\\\\\n",
       " <chr> & <chr> & <chr> & <int> & <chr> & <dbl> & <chr>\\\\\n",
       "\\hline\n",
       "\t chr1:28903-29613   & TSS\\_POL2\\_RNAseq & TSS & 1 & chr1:29370-29371                      &  0.00023000 & WASH7P             \\\\\n",
       "\t chr1:826754-828040 & TSS\\_POL2\\_RNAseq & TSS & 2 & chr1:827522-827523\\textbar{}chr1:827590-827591 & 64.46295000 & LINC00115\\textbar{}LINC01128\\\\\n",
       "\t chr1:876474-878030 & TSS\\_POL2\\_RNAseq & TSS & 1 & chr1:876802-876803                    &  0.00788399 & FAM41C             \\\\\n",
       "\\end{tabular}\n"
      ],
      "text/markdown": [
       "\n",
       "A tibble: 3 × 7\n",
       "\n",
       "| Peak &lt;chr&gt; | Annotation &lt;chr&gt; | Label &lt;chr&gt; | Count &lt;int&gt; | Region &lt;chr&gt; | Score &lt;dbl&gt; | Note &lt;chr&gt; |\n",
       "|---|---|---|---|---|---|---|\n",
       "| chr1:28903-29613   | TSS_POL2_RNAseq | TSS | 1 | chr1:29370-29371                      |  0.00023000 | WASH7P              |\n",
       "| chr1:826754-828040 | TSS_POL2_RNAseq | TSS | 2 | chr1:827522-827523|chr1:827590-827591 | 64.46295000 | LINC00115|LINC01128 |\n",
       "| chr1:876474-878030 | TSS_POL2_RNAseq | TSS | 1 | chr1:876802-876803                    |  0.00788399 | FAM41C              |\n",
       "\n"
      ],
      "text/plain": [
       "  Peak               Annotation      Label Count\n",
       "1 chr1:28903-29613   TSS_POL2_RNAseq TSS   1    \n",
       "2 chr1:826754-828040 TSS_POL2_RNAseq TSS   2    \n",
       "3 chr1:876474-878030 TSS_POL2_RNAseq TSS   1    \n",
       "  Region                                Score       Note               \n",
       "1 chr1:29370-29371                       0.00023000 WASH7P             \n",
       "2 chr1:827522-827523|chr1:827590-827591 64.46295000 LINC00115|LINC01128\n",
       "3 chr1:876802-876803                     0.00788399 FAM41C             "
      ]
     },
     "metadata": {},
     "output_type": "display_data"
    }
   ],
   "source": [
    "fdiry = file.path(\n",
    "    FD_RES, \n",
    "    \"results\", \n",
    "    \"region\", \n",
    "    \"KS91_K562_ASTARRseq_peak_macs_input\", \n",
    "    \"summary\")\n",
    "fname = \"peak.summary.tss_pol2_rnaseq.tsv\"\n",
    "fpath = file.path(fdiry, fname)\n",
    "\n",
    "lst = lst_dat_peak_annot_summary\n",
    "dat = lst[[\"TSS_POL2_RNAseq\"]]\n",
    "write_tsv(dat, fpath)\n",
    "\n",
    "print(dim(dat))\n",
    "head(dat, 3)"
   ]
  },
  {
   "cell_type": "code",
   "execution_count": null,
   "metadata": {},
   "outputs": [],
   "source": []
  }
 ],
 "metadata": {
  "kernelspec": {
   "display_name": "R",
   "language": "R",
   "name": "ir"
  },
  "language_info": {
   "codemirror_mode": "r",
   "file_extension": ".r",
   "mimetype": "text/x-r-source",
   "name": "R",
   "pygments_lexer": "r",
   "version": "4.3.0"
  }
 },
 "nbformat": 4,
 "nbformat_minor": 4
}
