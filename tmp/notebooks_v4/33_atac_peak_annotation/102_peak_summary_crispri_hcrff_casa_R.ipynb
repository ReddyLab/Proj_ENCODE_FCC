{
 "cells": [
  {
   "cell_type": "markdown",
   "metadata": {},
   "source": [
    "**Set environment**"
   ]
  },
  {
   "cell_type": "code",
   "execution_count": 1,
   "metadata": {},
   "outputs": [
    {
     "name": "stdout",
     "output_type": "stream",
     "text": [
      "You are in Singularity: singularity_proj_encode_fcc \n",
      "BASE DIRECTORY (FD_BASE): /data/reddylab/Kuei \n",
      "WORK DIRECTORY (FD_WORK): /data/reddylab/Kuei/out \n",
      "CODE DIRECTORY (FD_CODE): /data/reddylab/Kuei/code \n",
      "PATH OF PROJECT (FD_PRJ): /data/reddylab/Kuei/code/Proj_CombEffect_ENCODE_FCC \n",
      "PATH OF RESULTS (FD_RES): /data/reddylab/Kuei/out/proj_combeffect_encode_fcc \n",
      "PATH OF LOG     (FD_LOG): /data/reddylab/Kuei/out/proj_combeffect_encode_fcc/log \n"
     ]
    }
   ],
   "source": [
    "suppressMessages(suppressWarnings(source(\"../config/config_sing.R\")))\n",
    "show_env()"
   ]
  },
  {
   "cell_type": "markdown",
   "metadata": {},
   "source": [
    "**Check data**"
   ]
  },
  {
   "cell_type": "code",
   "execution_count": 2,
   "metadata": {},
   "outputs": [],
   "source": [
    "FOLDER = \"annotation_crispri_hcrff\""
   ]
  },
  {
   "cell_type": "code",
   "execution_count": 3,
   "metadata": {},
   "outputs": [
    {
     "name": "stdout",
     "output_type": "stream",
     "text": [
      "[1] \"crispri_hcrff_gene_tss.tsv\"\n",
      "[1] \"crispri_hcrff.casa.bed.gz\"\n",
      "[1] \"crispri_hcrff.casa.merge.bed.gz\"\n",
      "[1] \"crispri_hcrff.casa.tsv\"\n",
      "[1] \"description.tsv\"\n",
      "[1] \"K562_HCRFF_20genes_TSS_TES_coords.tsv\"\n"
     ]
    }
   ],
   "source": [
    "fdiry = file.path(\n",
    "    FD_RES, \n",
    "    \"results\", \n",
    "    \"region\", \n",
    "    FOLDER)\n",
    "for(fname in dir(fdiry)){print(fname)}"
   ]
  },
  {
   "cell_type": "code",
   "execution_count": 4,
   "metadata": {},
   "outputs": [
    {
     "name": "stdout",
     "output_type": "stream",
     "text": [
      "[1] \"peak.annotation.crispri_hcrff.casa.bed.gz\"\n",
      "[1] \"peak.intersect.inverse.crispri_hcrff.casa.bed.gz\"\n"
     ]
    }
   ],
   "source": [
    "fdiry = file.path(\n",
    "    FD_RES, \n",
    "    \"results\", \n",
    "    \"region\", \n",
    "    \"KS91_K562_ASTARRseq_peak_macs_input\", \n",
    "    FOLDER)\n",
    "for(fname in dir(fdiry)){print(fname)}"
   ]
  },
  {
   "cell_type": "markdown",
   "metadata": {},
   "source": [
    "## Import data"
   ]
  },
  {
   "cell_type": "code",
   "execution_count": 5,
   "metadata": {},
   "outputs": [
    {
     "name": "stdout",
     "output_type": "stream",
     "text": [
      "[1] 10  2\n"
     ]
    },
    {
     "data": {
      "text/html": [
       "<table class=\"dataframe\">\n",
       "<caption>A spec_tbl_df: 10 × 2</caption>\n",
       "<thead>\n",
       "\t<tr><th scope=col>Name</th><th scope=col>Description</th></tr>\n",
       "\t<tr><th scope=col>&lt;chr&gt;</th><th scope=col>&lt;chr&gt;</th></tr>\n",
       "</thead>\n",
       "<tbody>\n",
       "\t<tr><td>Chrom       </td><td>Chromosome                                                 </td></tr>\n",
       "\t<tr><td>Start       </td><td>Start position                                             </td></tr>\n",
       "\t<tr><td>End         </td><td>End position                                               </td></tr>\n",
       "\t<tr><td>Name        </td><td>Name                                                       </td></tr>\n",
       "\t<tr><td>Score       </td><td>Score                                                      </td></tr>\n",
       "\t<tr><td>Strand      </td><td>[+-.]; Use '.' if no strand is assigned.                   </td></tr>\n",
       "\t<tr><td>Gene_Symbol </td><td>Gene symbol;     Gene that is screened for CRISPRi-FlowFish</td></tr>\n",
       "\t<tr><td>Gene_Ensembl</td><td>Gene Ensembl ID; Gene that is screened for CRISPRi-FlowFish</td></tr>\n",
       "\t<tr><td>Assay_Type  </td><td>Assay type                                                 </td></tr>\n",
       "\t<tr><td>Assay_Label </td><td>Assay label                                                </td></tr>\n",
       "</tbody>\n",
       "</table>\n"
      ],
      "text/latex": [
       "A spec\\_tbl\\_df: 10 × 2\n",
       "\\begin{tabular}{ll}\n",
       " Name & Description\\\\\n",
       " <chr> & <chr>\\\\\n",
       "\\hline\n",
       "\t Chrom        & Chromosome                                                 \\\\\n",
       "\t Start        & Start position                                             \\\\\n",
       "\t End          & End position                                               \\\\\n",
       "\t Name         & Name                                                       \\\\\n",
       "\t Score        & Score                                                      \\\\\n",
       "\t Strand       & {[}+-.{]}; Use '.' if no strand is assigned.                   \\\\\n",
       "\t Gene\\_Symbol  & Gene symbol;     Gene that is screened for CRISPRi-FlowFish\\\\\n",
       "\t Gene\\_Ensembl & Gene Ensembl ID; Gene that is screened for CRISPRi-FlowFish\\\\\n",
       "\t Assay\\_Type   & Assay type                                                 \\\\\n",
       "\t Assay\\_Label  & Assay label                                                \\\\\n",
       "\\end{tabular}\n"
      ],
      "text/markdown": [
       "\n",
       "A spec_tbl_df: 10 × 2\n",
       "\n",
       "| Name &lt;chr&gt; | Description &lt;chr&gt; |\n",
       "|---|---|\n",
       "| Chrom        | Chromosome                                                  |\n",
       "| Start        | Start position                                              |\n",
       "| End          | End position                                                |\n",
       "| Name         | Name                                                        |\n",
       "| Score        | Score                                                       |\n",
       "| Strand       | [+-.]; Use '.' if no strand is assigned.                    |\n",
       "| Gene_Symbol  | Gene symbol;     Gene that is screened for CRISPRi-FlowFish |\n",
       "| Gene_Ensembl | Gene Ensembl ID; Gene that is screened for CRISPRi-FlowFish |\n",
       "| Assay_Type   | Assay type                                                  |\n",
       "| Assay_Label  | Assay label                                                 |\n",
       "\n"
      ],
      "text/plain": [
       "   Name         Description                                                \n",
       "1  Chrom        Chromosome                                                 \n",
       "2  Start        Start position                                             \n",
       "3  End          End position                                               \n",
       "4  Name         Name                                                       \n",
       "5  Score        Score                                                      \n",
       "6  Strand       [+-.]; Use '.' if no strand is assigned.                   \n",
       "7  Gene_Symbol  Gene symbol;     Gene that is screened for CRISPRi-FlowFish\n",
       "8  Gene_Ensembl Gene Ensembl ID; Gene that is screened for CRISPRi-FlowFish\n",
       "9  Assay_Type   Assay type                                                 \n",
       "10 Assay_Label  Assay label                                                "
      ]
     },
     "metadata": {},
     "output_type": "display_data"
    }
   ],
   "source": [
    "fdiry  = file.path(FD_RES, \"results\", \"region\", FOLDER)\n",
    "fname = \"description.tsv\"\n",
    "fpath = file.path(fdiry, fname)\n",
    "\n",
    "dat = read_tsv(fpath, show_col_types = FALSE)\n",
    "\n",
    "dat_cnames = dat\n",
    "print(dim(dat))\n",
    "dat"
   ]
  },
  {
   "cell_type": "code",
   "execution_count": 6,
   "metadata": {},
   "outputs": [
    {
     "name": "stdout",
     "output_type": "stream",
     "text": [
      "[1] \"/data/reddylab/Kuei/out/proj_combeffect_encode_fcc/results/region/KS91_K562_ASTARRseq_peak_macs_input/annotation_crispri_hcrff/peak.annotation.crispri_hcrff.casa.bed.gz\"\n",
      "[1] 82 20\n"
     ]
    },
    {
     "data": {
      "text/html": [
       "<table class=\"dataframe\">\n",
       "<caption>A tibble: 6 × 20</caption>\n",
       "<thead>\n",
       "\t<tr><th scope=col>Chrom_ATAC</th><th scope=col>Start_ATAC</th><th scope=col>End_ATAC</th><th scope=col>Chrom</th><th scope=col>Start</th><th scope=col>End</th><th scope=col>Name</th><th scope=col>Score</th><th scope=col>Strand</th><th scope=col>Gene_Symbol</th><th scope=col>Gene_Ensembl</th><th scope=col>Assay_Type</th><th scope=col>Assay_Label</th><th scope=col>Overlap</th><th scope=col>Peak_ATAC</th><th scope=col>Annotation</th><th scope=col>Label</th><th scope=col>Region</th><th scope=col>Value</th><th scope=col>Note</th></tr>\n",
       "\t<tr><th scope=col>&lt;chr&gt;</th><th scope=col>&lt;dbl&gt;</th><th scope=col>&lt;dbl&gt;</th><th scope=col>&lt;chr&gt;</th><th scope=col>&lt;dbl&gt;</th><th scope=col>&lt;dbl&gt;</th><th scope=col>&lt;chr&gt;</th><th scope=col>&lt;dbl&gt;</th><th scope=col>&lt;chr&gt;</th><th scope=col>&lt;chr&gt;</th><th scope=col>&lt;chr&gt;</th><th scope=col>&lt;chr&gt;</th><th scope=col>&lt;chr&gt;</th><th scope=col>&lt;dbl&gt;</th><th scope=col>&lt;chr&gt;</th><th scope=col>&lt;chr&gt;</th><th scope=col>&lt;chr&gt;</th><th scope=col>&lt;chr&gt;</th><th scope=col>&lt;dbl&gt;</th><th scope=col>&lt;chr&gt;</th></tr>\n",
       "</thead>\n",
       "<tbody>\n",
       "\t<tr><td>chr11</td><td>5249943</td><td>5250880</td><td>chr11</td><td>5249847</td><td>5250847</td><td>chr11:5249847-5250847</td><td>1.890890</td><td>.</td><td>HBG1</td><td>ENST00000330597.5</td><td>CRISPRi-HCRFF</td><td>CRISPRi-HCRFF:HBG1</td><td> 904</td><td>chr11:5249943-5250880</td><td>CRISPRi</td><td>CRISPRi_HCRFF</td><td>chr11:5249847-5250847</td><td>1.890890</td><td>HBG1</td></tr>\n",
       "\t<tr><td>chr11</td><td>5249943</td><td>5250880</td><td>chr11</td><td>5249847</td><td>5250847</td><td>chr11:5249847-5250847</td><td>1.922956</td><td>.</td><td>HBG2</td><td>ENST00000336906.6</td><td>CRISPRi-HCRFF</td><td>CRISPRi-HCRFF:HBG2</td><td> 904</td><td>chr11:5249943-5250880</td><td>CRISPRi</td><td>CRISPRi_HCRFF</td><td>chr11:5249847-5250847</td><td>1.922956</td><td>HBG2</td></tr>\n",
       "\t<tr><td>chr11</td><td>5254190</td><td>5254453</td><td>chr11</td><td>5253647</td><td>5254647</td><td>chr11:5253647-5254647</td><td>1.504404</td><td>.</td><td>HBG1</td><td>ENST00000330597.5</td><td>CRISPRi-HCRFF</td><td>CRISPRi-HCRFF:HBG1</td><td> 263</td><td>chr11:5254190-5254453</td><td>CRISPRi</td><td>CRISPRi_HCRFF</td><td>chr11:5253647-5254647</td><td>1.504404</td><td>HBG1</td></tr>\n",
       "\t<tr><td>chr11</td><td>5254190</td><td>5254453</td><td>chr11</td><td>5253647</td><td>5254647</td><td>chr11:5253647-5254647</td><td>1.430535</td><td>.</td><td>HBG2</td><td>ENST00000336906.6</td><td>CRISPRi-HCRFF</td><td>CRISPRi-HCRFF:HBG2</td><td> 263</td><td>chr11:5254190-5254453</td><td>CRISPRi</td><td>CRISPRi_HCRFF</td><td>chr11:5253647-5254647</td><td>1.430535</td><td>HBG2</td></tr>\n",
       "\t<tr><td>chr11</td><td>5269440</td><td>5270695</td><td>chr11</td><td>5269147</td><td>5271147</td><td>chr11:5269147-5271147</td><td>1.906478</td><td>.</td><td>HBE1</td><td>ENST00000336906.6</td><td>CRISPRi-HCRFF</td><td>CRISPRi-HCRFF:HBE1</td><td>1255</td><td>chr11:5269440-5270695</td><td>CRISPRi</td><td>CRISPRi_HCRFF</td><td>chr11:5269147-5271147</td><td>1.906478</td><td>HBE1</td></tr>\n",
       "\t<tr><td>chr11</td><td>5275424</td><td>5276195</td><td>chr11</td><td>5275747</td><td>5276247</td><td>chr11:5275747-5276247</td><td>1.028739</td><td>.</td><td>HBG2</td><td>ENST00000336906.6</td><td>CRISPRi-HCRFF</td><td>CRISPRi-HCRFF:HBG2</td><td> 448</td><td>chr11:5275424-5276195</td><td>CRISPRi</td><td>CRISPRi_HCRFF</td><td>chr11:5275747-5276247</td><td>1.028739</td><td>HBG2</td></tr>\n",
       "</tbody>\n",
       "</table>\n"
      ],
      "text/latex": [
       "A tibble: 6 × 20\n",
       "\\begin{tabular}{llllllllllllllllllll}\n",
       " Chrom\\_ATAC & Start\\_ATAC & End\\_ATAC & Chrom & Start & End & Name & Score & Strand & Gene\\_Symbol & Gene\\_Ensembl & Assay\\_Type & Assay\\_Label & Overlap & Peak\\_ATAC & Annotation & Label & Region & Value & Note\\\\\n",
       " <chr> & <dbl> & <dbl> & <chr> & <dbl> & <dbl> & <chr> & <dbl> & <chr> & <chr> & <chr> & <chr> & <chr> & <dbl> & <chr> & <chr> & <chr> & <chr> & <dbl> & <chr>\\\\\n",
       "\\hline\n",
       "\t chr11 & 5249943 & 5250880 & chr11 & 5249847 & 5250847 & chr11:5249847-5250847 & 1.890890 & . & HBG1 & ENST00000330597.5 & CRISPRi-HCRFF & CRISPRi-HCRFF:HBG1 &  904 & chr11:5249943-5250880 & CRISPRi & CRISPRi\\_HCRFF & chr11:5249847-5250847 & 1.890890 & HBG1\\\\\n",
       "\t chr11 & 5249943 & 5250880 & chr11 & 5249847 & 5250847 & chr11:5249847-5250847 & 1.922956 & . & HBG2 & ENST00000336906.6 & CRISPRi-HCRFF & CRISPRi-HCRFF:HBG2 &  904 & chr11:5249943-5250880 & CRISPRi & CRISPRi\\_HCRFF & chr11:5249847-5250847 & 1.922956 & HBG2\\\\\n",
       "\t chr11 & 5254190 & 5254453 & chr11 & 5253647 & 5254647 & chr11:5253647-5254647 & 1.504404 & . & HBG1 & ENST00000330597.5 & CRISPRi-HCRFF & CRISPRi-HCRFF:HBG1 &  263 & chr11:5254190-5254453 & CRISPRi & CRISPRi\\_HCRFF & chr11:5253647-5254647 & 1.504404 & HBG1\\\\\n",
       "\t chr11 & 5254190 & 5254453 & chr11 & 5253647 & 5254647 & chr11:5253647-5254647 & 1.430535 & . & HBG2 & ENST00000336906.6 & CRISPRi-HCRFF & CRISPRi-HCRFF:HBG2 &  263 & chr11:5254190-5254453 & CRISPRi & CRISPRi\\_HCRFF & chr11:5253647-5254647 & 1.430535 & HBG2\\\\\n",
       "\t chr11 & 5269440 & 5270695 & chr11 & 5269147 & 5271147 & chr11:5269147-5271147 & 1.906478 & . & HBE1 & ENST00000336906.6 & CRISPRi-HCRFF & CRISPRi-HCRFF:HBE1 & 1255 & chr11:5269440-5270695 & CRISPRi & CRISPRi\\_HCRFF & chr11:5269147-5271147 & 1.906478 & HBE1\\\\\n",
       "\t chr11 & 5275424 & 5276195 & chr11 & 5275747 & 5276247 & chr11:5275747-5276247 & 1.028739 & . & HBG2 & ENST00000336906.6 & CRISPRi-HCRFF & CRISPRi-HCRFF:HBG2 &  448 & chr11:5275424-5276195 & CRISPRi & CRISPRi\\_HCRFF & chr11:5275747-5276247 & 1.028739 & HBG2\\\\\n",
       "\\end{tabular}\n"
      ],
      "text/markdown": [
       "\n",
       "A tibble: 6 × 20\n",
       "\n",
       "| Chrom_ATAC &lt;chr&gt; | Start_ATAC &lt;dbl&gt; | End_ATAC &lt;dbl&gt; | Chrom &lt;chr&gt; | Start &lt;dbl&gt; | End &lt;dbl&gt; | Name &lt;chr&gt; | Score &lt;dbl&gt; | Strand &lt;chr&gt; | Gene_Symbol &lt;chr&gt; | Gene_Ensembl &lt;chr&gt; | Assay_Type &lt;chr&gt; | Assay_Label &lt;chr&gt; | Overlap &lt;dbl&gt; | Peak_ATAC &lt;chr&gt; | Annotation &lt;chr&gt; | Label &lt;chr&gt; | Region &lt;chr&gt; | Value &lt;dbl&gt; | Note &lt;chr&gt; |\n",
       "|---|---|---|---|---|---|---|---|---|---|---|---|---|---|---|---|---|---|---|---|\n",
       "| chr11 | 5249943 | 5250880 | chr11 | 5249847 | 5250847 | chr11:5249847-5250847 | 1.890890 | . | HBG1 | ENST00000330597.5 | CRISPRi-HCRFF | CRISPRi-HCRFF:HBG1 |  904 | chr11:5249943-5250880 | CRISPRi | CRISPRi_HCRFF | chr11:5249847-5250847 | 1.890890 | HBG1 |\n",
       "| chr11 | 5249943 | 5250880 | chr11 | 5249847 | 5250847 | chr11:5249847-5250847 | 1.922956 | . | HBG2 | ENST00000336906.6 | CRISPRi-HCRFF | CRISPRi-HCRFF:HBG2 |  904 | chr11:5249943-5250880 | CRISPRi | CRISPRi_HCRFF | chr11:5249847-5250847 | 1.922956 | HBG2 |\n",
       "| chr11 | 5254190 | 5254453 | chr11 | 5253647 | 5254647 | chr11:5253647-5254647 | 1.504404 | . | HBG1 | ENST00000330597.5 | CRISPRi-HCRFF | CRISPRi-HCRFF:HBG1 |  263 | chr11:5254190-5254453 | CRISPRi | CRISPRi_HCRFF | chr11:5253647-5254647 | 1.504404 | HBG1 |\n",
       "| chr11 | 5254190 | 5254453 | chr11 | 5253647 | 5254647 | chr11:5253647-5254647 | 1.430535 | . | HBG2 | ENST00000336906.6 | CRISPRi-HCRFF | CRISPRi-HCRFF:HBG2 |  263 | chr11:5254190-5254453 | CRISPRi | CRISPRi_HCRFF | chr11:5253647-5254647 | 1.430535 | HBG2 |\n",
       "| chr11 | 5269440 | 5270695 | chr11 | 5269147 | 5271147 | chr11:5269147-5271147 | 1.906478 | . | HBE1 | ENST00000336906.6 | CRISPRi-HCRFF | CRISPRi-HCRFF:HBE1 | 1255 | chr11:5269440-5270695 | CRISPRi | CRISPRi_HCRFF | chr11:5269147-5271147 | 1.906478 | HBE1 |\n",
       "| chr11 | 5275424 | 5276195 | chr11 | 5275747 | 5276247 | chr11:5275747-5276247 | 1.028739 | . | HBG2 | ENST00000336906.6 | CRISPRi-HCRFF | CRISPRi-HCRFF:HBG2 |  448 | chr11:5275424-5276195 | CRISPRi | CRISPRi_HCRFF | chr11:5275747-5276247 | 1.028739 | HBG2 |\n",
       "\n"
      ],
      "text/plain": [
       "  Chrom_ATAC Start_ATAC End_ATAC Chrom Start   End     Name                 \n",
       "1 chr11      5249943    5250880  chr11 5249847 5250847 chr11:5249847-5250847\n",
       "2 chr11      5249943    5250880  chr11 5249847 5250847 chr11:5249847-5250847\n",
       "3 chr11      5254190    5254453  chr11 5253647 5254647 chr11:5253647-5254647\n",
       "4 chr11      5254190    5254453  chr11 5253647 5254647 chr11:5253647-5254647\n",
       "5 chr11      5269440    5270695  chr11 5269147 5271147 chr11:5269147-5271147\n",
       "6 chr11      5275424    5276195  chr11 5275747 5276247 chr11:5275747-5276247\n",
       "  Score    Strand Gene_Symbol Gene_Ensembl      Assay_Type   \n",
       "1 1.890890 .      HBG1        ENST00000330597.5 CRISPRi-HCRFF\n",
       "2 1.922956 .      HBG2        ENST00000336906.6 CRISPRi-HCRFF\n",
       "3 1.504404 .      HBG1        ENST00000330597.5 CRISPRi-HCRFF\n",
       "4 1.430535 .      HBG2        ENST00000336906.6 CRISPRi-HCRFF\n",
       "5 1.906478 .      HBE1        ENST00000336906.6 CRISPRi-HCRFF\n",
       "6 1.028739 .      HBG2        ENST00000336906.6 CRISPRi-HCRFF\n",
       "  Assay_Label        Overlap Peak_ATAC             Annotation Label        \n",
       "1 CRISPRi-HCRFF:HBG1  904    chr11:5249943-5250880 CRISPRi    CRISPRi_HCRFF\n",
       "2 CRISPRi-HCRFF:HBG2  904    chr11:5249943-5250880 CRISPRi    CRISPRi_HCRFF\n",
       "3 CRISPRi-HCRFF:HBG1  263    chr11:5254190-5254453 CRISPRi    CRISPRi_HCRFF\n",
       "4 CRISPRi-HCRFF:HBG2  263    chr11:5254190-5254453 CRISPRi    CRISPRi_HCRFF\n",
       "5 CRISPRi-HCRFF:HBE1 1255    chr11:5269440-5270695 CRISPRi    CRISPRi_HCRFF\n",
       "6 CRISPRi-HCRFF:HBG2  448    chr11:5275424-5276195 CRISPRi    CRISPRi_HCRFF\n",
       "  Region                Value    Note\n",
       "1 chr11:5249847-5250847 1.890890 HBG1\n",
       "2 chr11:5249847-5250847 1.922956 HBG2\n",
       "3 chr11:5253647-5254647 1.504404 HBG1\n",
       "4 chr11:5253647-5254647 1.430535 HBG2\n",
       "5 chr11:5269147-5271147 1.906478 HBE1\n",
       "6 chr11:5275747-5276247 1.028739 HBG2"
      ]
     },
     "metadata": {},
     "output_type": "display_data"
    }
   ],
   "source": [
    "### init: set column names\n",
    "cnames = dat_cnames$Name\n",
    "cnames = c(\"Chrom_ATAC\", \"Start_ATAC\", \"End_ATAC\", cnames, \"Overlap\")\n",
    "\n",
    "### init: set file path\n",
    "fdiry = file.path(\n",
    "    FD_RES, \n",
    "    \"results\", \n",
    "    \"region\", \n",
    "    \"KS91_K562_ASTARRseq_peak_macs_input\", \n",
    "    FOLDER)\n",
    "fname = paste(\"peak.annotation\", \"casa\", \"bed.gz\", sep=\"*\")\n",
    "fglob = file.path(fdiry, fname)\n",
    "fpath = Sys.glob(fglob)\n",
    "print(fpath)\n",
    "\n",
    "### init: annotation and label\n",
    "annotation = \"CRISPRi\"\n",
    "label      = \"CRISPRi_HCRFF\"\n",
    "\n",
    "### read data\n",
    "dat = read_tsv(fpath, col_names = cnames, show_col_types = FALSE)\n",
    "dat = dat %>% dplyr::mutate(\n",
    "    Peak_ATAC  = paste0(Chrom_ATAC, \":\", Start_ATAC, \"-\", End_ATAC),\n",
    "    Annotation = annotation,\n",
    "    Label      = label,\n",
    "    Region     = paste0(Chrom, \":\", Start, \"-\", End),\n",
    "    Value      = Score,\n",
    "    Note       = Gene_Symbol\n",
    ")\n",
    "\n",
    "### assign and show\n",
    "dat_peak_annot_import = dat\n",
    "print(dim(dat))\n",
    "head(dat)"
   ]
  },
  {
   "cell_type": "markdown",
   "metadata": {},
   "source": [
    "## Arrange and summarize"
   ]
  },
  {
   "cell_type": "code",
   "execution_count": 7,
   "metadata": {},
   "outputs": [
    {
     "name": "stdout",
     "output_type": "stream",
     "text": [
      "[1] 54  7\n"
     ]
    },
    {
     "data": {
      "text/html": [
       "<table class=\"dataframe\">\n",
       "<caption>A tibble: 6 × 7</caption>\n",
       "<thead>\n",
       "\t<tr><th scope=col>Peak</th><th scope=col>Annotation</th><th scope=col>Label</th><th scope=col>Count</th><th scope=col>Region</th><th scope=col>Score</th><th scope=col>Note</th></tr>\n",
       "\t<tr><th scope=col>&lt;chr&gt;</th><th scope=col>&lt;chr&gt;</th><th scope=col>&lt;chr&gt;</th><th scope=col>&lt;int&gt;</th><th scope=col>&lt;chr&gt;</th><th scope=col>&lt;dbl&gt;</th><th scope=col>&lt;chr&gt;</th></tr>\n",
       "</thead>\n",
       "<tbody>\n",
       "\t<tr><td>chr11:5249943-5250880</td><td>CRISPRi</td><td>CRISPRi_HCRFF</td><td>2</td><td>chr11:5249847-5250847|chr11:5249847-5250847                      </td><td>1.906923</td><td>HBG1|HBG2     </td></tr>\n",
       "\t<tr><td>chr11:5254190-5254453</td><td>CRISPRi</td><td>CRISPRi_HCRFF</td><td>2</td><td>chr11:5253647-5254647|chr11:5253647-5254647                      </td><td>1.467470</td><td>HBG1|HBG2     </td></tr>\n",
       "\t<tr><td>chr11:5269440-5270695</td><td>CRISPRi</td><td>CRISPRi_HCRFF</td><td>1</td><td>chr11:5269147-5271147                                            </td><td>1.906478</td><td>HBE1          </td></tr>\n",
       "\t<tr><td>chr11:5275424-5276195</td><td>CRISPRi</td><td>CRISPRi_HCRFF</td><td>3</td><td>chr11:5275747-5276247|chr11:5275847-5276247|chr11:5275247-5276247</td><td>1.040996</td><td>HBG2|HBG1|HBE1</td></tr>\n",
       "\t<tr><td>chr11:5280584-5281311</td><td>CRISPRi</td><td>CRISPRi_HCRFF</td><td>3</td><td>chr11:5279747-5281147|chr11:5279747-5281147|chr11:5280447-5281147</td><td>3.006412</td><td>HBG1|HBG2|HBE1</td></tr>\n",
       "\t<tr><td>chr11:5284408-5285152</td><td>CRISPRi</td><td>CRISPRi_HCRFF</td><td>3</td><td>chr11:5283847-5286747|chr11:5283847-5286747|chr11:5284147-5286047</td><td>3.323523</td><td>HBG1|HBG2|HBE1</td></tr>\n",
       "</tbody>\n",
       "</table>\n"
      ],
      "text/latex": [
       "A tibble: 6 × 7\n",
       "\\begin{tabular}{lllllll}\n",
       " Peak & Annotation & Label & Count & Region & Score & Note\\\\\n",
       " <chr> & <chr> & <chr> & <int> & <chr> & <dbl> & <chr>\\\\\n",
       "\\hline\n",
       "\t chr11:5249943-5250880 & CRISPRi & CRISPRi\\_HCRFF & 2 & chr11:5249847-5250847\\textbar{}chr11:5249847-5250847                       & 1.906923 & HBG1\\textbar{}HBG2     \\\\\n",
       "\t chr11:5254190-5254453 & CRISPRi & CRISPRi\\_HCRFF & 2 & chr11:5253647-5254647\\textbar{}chr11:5253647-5254647                       & 1.467470 & HBG1\\textbar{}HBG2     \\\\\n",
       "\t chr11:5269440-5270695 & CRISPRi & CRISPRi\\_HCRFF & 1 & chr11:5269147-5271147                                             & 1.906478 & HBE1          \\\\\n",
       "\t chr11:5275424-5276195 & CRISPRi & CRISPRi\\_HCRFF & 3 & chr11:5275747-5276247\\textbar{}chr11:5275847-5276247\\textbar{}chr11:5275247-5276247 & 1.040996 & HBG2\\textbar{}HBG1\\textbar{}HBE1\\\\\n",
       "\t chr11:5280584-5281311 & CRISPRi & CRISPRi\\_HCRFF & 3 & chr11:5279747-5281147\\textbar{}chr11:5279747-5281147\\textbar{}chr11:5280447-5281147 & 3.006412 & HBG1\\textbar{}HBG2\\textbar{}HBE1\\\\\n",
       "\t chr11:5284408-5285152 & CRISPRi & CRISPRi\\_HCRFF & 3 & chr11:5283847-5286747\\textbar{}chr11:5283847-5286747\\textbar{}chr11:5284147-5286047 & 3.323523 & HBG1\\textbar{}HBG2\\textbar{}HBE1\\\\\n",
       "\\end{tabular}\n"
      ],
      "text/markdown": [
       "\n",
       "A tibble: 6 × 7\n",
       "\n",
       "| Peak &lt;chr&gt; | Annotation &lt;chr&gt; | Label &lt;chr&gt; | Count &lt;int&gt; | Region &lt;chr&gt; | Score &lt;dbl&gt; | Note &lt;chr&gt; |\n",
       "|---|---|---|---|---|---|---|\n",
       "| chr11:5249943-5250880 | CRISPRi | CRISPRi_HCRFF | 2 | chr11:5249847-5250847|chr11:5249847-5250847                       | 1.906923 | HBG1|HBG2      |\n",
       "| chr11:5254190-5254453 | CRISPRi | CRISPRi_HCRFF | 2 | chr11:5253647-5254647|chr11:5253647-5254647                       | 1.467470 | HBG1|HBG2      |\n",
       "| chr11:5269440-5270695 | CRISPRi | CRISPRi_HCRFF | 1 | chr11:5269147-5271147                                             | 1.906478 | HBE1           |\n",
       "| chr11:5275424-5276195 | CRISPRi | CRISPRi_HCRFF | 3 | chr11:5275747-5276247|chr11:5275847-5276247|chr11:5275247-5276247 | 1.040996 | HBG2|HBG1|HBE1 |\n",
       "| chr11:5280584-5281311 | CRISPRi | CRISPRi_HCRFF | 3 | chr11:5279747-5281147|chr11:5279747-5281147|chr11:5280447-5281147 | 3.006412 | HBG1|HBG2|HBE1 |\n",
       "| chr11:5284408-5285152 | CRISPRi | CRISPRi_HCRFF | 3 | chr11:5283847-5286747|chr11:5283847-5286747|chr11:5284147-5286047 | 3.323523 | HBG1|HBG2|HBE1 |\n",
       "\n"
      ],
      "text/plain": [
       "  Peak                  Annotation Label         Count\n",
       "1 chr11:5249943-5250880 CRISPRi    CRISPRi_HCRFF 2    \n",
       "2 chr11:5254190-5254453 CRISPRi    CRISPRi_HCRFF 2    \n",
       "3 chr11:5269440-5270695 CRISPRi    CRISPRi_HCRFF 1    \n",
       "4 chr11:5275424-5276195 CRISPRi    CRISPRi_HCRFF 3    \n",
       "5 chr11:5280584-5281311 CRISPRi    CRISPRi_HCRFF 3    \n",
       "6 chr11:5284408-5285152 CRISPRi    CRISPRi_HCRFF 3    \n",
       "  Region                                                            Score   \n",
       "1 chr11:5249847-5250847|chr11:5249847-5250847                       1.906923\n",
       "2 chr11:5253647-5254647|chr11:5253647-5254647                       1.467470\n",
       "3 chr11:5269147-5271147                                             1.906478\n",
       "4 chr11:5275747-5276247|chr11:5275847-5276247|chr11:5275247-5276247 1.040996\n",
       "5 chr11:5279747-5281147|chr11:5279747-5281147|chr11:5280447-5281147 3.006412\n",
       "6 chr11:5283847-5286747|chr11:5283847-5286747|chr11:5284147-5286047 3.323523\n",
       "  Note          \n",
       "1 HBG1|HBG2     \n",
       "2 HBG1|HBG2     \n",
       "3 HBE1          \n",
       "4 HBG2|HBG1|HBE1\n",
       "5 HBG1|HBG2|HBE1\n",
       "6 HBG1|HBG2|HBE1"
      ]
     },
     "metadata": {},
     "output_type": "display_data"
    }
   ],
   "source": [
    "### init\n",
    "dat = dat_peak_annot_import\n",
    "\n",
    "### summarize\n",
    "dat = dat %>%\n",
    "    dplyr::group_by(Chrom_ATAC, Start_ATAC, End_ATAC, Peak_ATAC, Annotation, Label) %>%\n",
    "    dplyr::summarise(\n",
    "        Count  = n(), \n",
    "        Region = paste(Region, collapse=\"|\"),\n",
    "        Score  = mean(Value),\n",
    "        Note   = paste(Note, collapse=\"|\"),\n",
    "        .groups = \"drop\")\n",
    "\n",
    "## Arrange\n",
    "dat = dat %>% \n",
    "    dplyr::arrange(Chrom_ATAC, Start_ATAC, End_ATAC) %>%\n",
    "    dplyr::select(-Chrom_ATAC, -Start_ATAC, -End_ATAC) %>%\n",
    "    dplyr::rename(\"Peak\" = Peak_ATAC)\n",
    "\n",
    "### assign and show\n",
    "dat_peak_annot_summary = dat\n",
    "print(dim(dat))\n",
    "head(dat)"
   ]
  },
  {
   "cell_type": "markdown",
   "metadata": {},
   "source": [
    "## Explore and check results"
   ]
  },
  {
   "cell_type": "code",
   "execution_count": 8,
   "metadata": {},
   "outputs": [
    {
     "data": {
      "text/plain": [
       "$CRISPRi_HCRFF\n",
       "\n",
       "          CAPRIN1               CAT             CD164             ERP29 \n",
       "                1                 1                 3                 3 \n",
       "FADS1|FADS2|FADS3       FADS1|FADS3 FADS2|FADS3|FADS1             FADS3 \n",
       "                2                 1                 1                 1 \n",
       "             FEN1             GATA1 GATA1|HDAC6|HDAC6              HBE1 \n",
       "                1                 2                 1                 3 \n",
       "        HBG1|HBG2    HBG1|HBG2|HBE1    HBG2|HBG1|HBE1             HBS1L \n",
       "                2                 3                 1                 1 \n",
       "             LMO2  LMO2|CAT|CAPRIN1             MEF2C     MYB|HBG1|HBG2 \n",
       "                5                 1                 2                 2 \n",
       "              MYC          MYC|PVT1               NMU              PVT1 \n",
       "                2                 2                 7                 5 \n",
       "         PVT1|MYC \n",
       "                1 \n"
      ]
     },
     "metadata": {},
     "output_type": "display_data"
    }
   ],
   "source": [
    "dat = dat_peak_annot_summary\n",
    "lst = split(dat, dat$Label)\n",
    "lst = lapply(lst, function(dat){\n",
    "    table(dat$Note)\n",
    "})\n",
    "lst"
   ]
  },
  {
   "cell_type": "code",
   "execution_count": 9,
   "metadata": {},
   "outputs": [
    {
     "data": {
      "text/plain": [
       "$CRISPRi_HCRFF\n",
       "\n",
       " 1  2  3 \n",
       "37  6 11 \n"
      ]
     },
     "metadata": {},
     "output_type": "display_data"
    }
   ],
   "source": [
    "dat = dat_peak_annot_summary\n",
    "lst = split(dat, dat$Label)\n",
    "lst = lapply(lst, function(dat){\n",
    "    table(dat$Count)\n",
    "})\n",
    "lst"
   ]
  },
  {
   "cell_type": "markdown",
   "metadata": {},
   "source": [
    "## Save results"
   ]
  },
  {
   "cell_type": "code",
   "execution_count": 10,
   "metadata": {},
   "outputs": [],
   "source": [
    "fdiry = file.path(\n",
    "    FD_RES, \n",
    "    \"results\", \n",
    "    \"region\", \n",
    "    \"KS91_K562_ASTARRseq_peak_macs_input\", \n",
    "    \"summary\")\n",
    "fname = \"peak.summary.crispri_hcrff.casa.tsv\"\n",
    "fpath = file.path(fdiry, fname)\n",
    "\n",
    "dat = dat_peak_annot_summary\n",
    "write_tsv(dat, fpath)"
   ]
  },
  {
   "cell_type": "code",
   "execution_count": null,
   "metadata": {},
   "outputs": [],
   "source": []
  }
 ],
 "metadata": {
  "kernelspec": {
   "display_name": "R",
   "language": "R",
   "name": "ir"
  },
  "language_info": {
   "codemirror_mode": "r",
   "file_extension": ".r",
   "mimetype": "text/x-r-source",
   "name": "R",
   "pygments_lexer": "r",
   "version": "4.3.0"
  }
 },
 "nbformat": 4,
 "nbformat_minor": 4
}
