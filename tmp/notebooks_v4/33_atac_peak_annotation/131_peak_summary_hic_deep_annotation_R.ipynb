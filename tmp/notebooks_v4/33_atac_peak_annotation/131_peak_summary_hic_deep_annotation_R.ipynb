{
 "cells": [
  {
   "cell_type": "markdown",
   "metadata": {},
   "source": [
    "**Set environment**"
   ]
  },
  {
   "cell_type": "code",
   "execution_count": 1,
   "metadata": {},
   "outputs": [
    {
     "name": "stdout",
     "output_type": "stream",
     "text": [
      "You are in Singularity: singularity_proj_encode_fcc \n",
      "BASE DIRECTORY (FD_BASE): /data/reddylab/Kuei \n",
      "WORK DIRECTORY (FD_WORK): /data/reddylab/Kuei/out \n",
      "CODE DIRECTORY (FD_CODE): /data/reddylab/Kuei/code \n",
      "PATH OF PROJECT (FD_PRJ): /data/reddylab/Kuei/code/Proj_CombEffect_ENCODE_FCC \n",
      "PATH OF RESULTS (FD_RES): /data/reddylab/Kuei/out/proj_combeffect_encode_fcc \n",
      "PATH OF LOG     (FD_LOG): /data/reddylab/Kuei/out/proj_combeffect_encode_fcc/log \n"
     ]
    }
   ],
   "source": [
    "suppressMessages(suppressWarnings(source(\"../config/config_sing.R\")))\n",
    "suppressMessages(suppressWarnings(source(\"../config/config_func.R\")))\n",
    "show_env()"
   ]
  },
  {
   "cell_type": "code",
   "execution_count": 2,
   "metadata": {},
   "outputs": [],
   "source": [
    "VEC_TXT_PREFIX_LOOP = c(\"Loop_A\", \"Loop_B\")\n",
    "\n",
    "FOLDR = \"hic_intact_deep\""
   ]
  },
  {
   "cell_type": "code",
   "execution_count": 3,
   "metadata": {},
   "outputs": [
    {
     "data": {
      "text/html": [
       "<style>\n",
       ".list-inline {list-style: none; margin:0; padding: 0}\n",
       ".list-inline>li {display: inline-block}\n",
       ".list-inline>li:not(:last-child)::after {content: \"\\00b7\"; padding: 0 .5ex}\n",
       "</style>\n",
       "<ol class=list-inline><li>'peak.annotation.hic_intact.deep.Loop_A.bed.gz'</li><li>'peak.annotation.hic_intact.deep.Loop_B.bed.gz'</li><li>'peak.closest.hic_intact.deep.Loop_A.bed.gz'</li><li>'peak.closest.hic_intact.deep.Loop_B.bed.gz'</li></ol>\n"
      ],
      "text/latex": [
       "\\begin{enumerate*}\n",
       "\\item 'peak.annotation.hic\\_intact.deep.Loop\\_A.bed.gz'\n",
       "\\item 'peak.annotation.hic\\_intact.deep.Loop\\_B.bed.gz'\n",
       "\\item 'peak.closest.hic\\_intact.deep.Loop\\_A.bed.gz'\n",
       "\\item 'peak.closest.hic\\_intact.deep.Loop\\_B.bed.gz'\n",
       "\\end{enumerate*}\n"
      ],
      "text/markdown": [
       "1. 'peak.annotation.hic_intact.deep.Loop_A.bed.gz'\n",
       "2. 'peak.annotation.hic_intact.deep.Loop_B.bed.gz'\n",
       "3. 'peak.closest.hic_intact.deep.Loop_A.bed.gz'\n",
       "4. 'peak.closest.hic_intact.deep.Loop_B.bed.gz'\n",
       "\n",
       "\n"
      ],
      "text/plain": [
       "[1] \"peak.annotation.hic_intact.deep.Loop_A.bed.gz\"\n",
       "[2] \"peak.annotation.hic_intact.deep.Loop_B.bed.gz\"\n",
       "[3] \"peak.closest.hic_intact.deep.Loop_A.bed.gz\"   \n",
       "[4] \"peak.closest.hic_intact.deep.Loop_B.bed.gz\"   "
      ]
     },
     "metadata": {},
     "output_type": "display_data"
    }
   ],
   "source": [
    "fdiry = file.path(FD_RES, \"results\", \"region\", \"KS91_K562_ASTARRseq_peak_macs_input\", FOLDR)\n",
    "dir(fdiry)"
   ]
  },
  {
   "cell_type": "code",
   "execution_count": 4,
   "metadata": {},
   "outputs": [
    {
     "data": {
      "text/html": [
       "<table class=\"dataframe\">\n",
       "<caption>A tibble: 6 × 3</caption>\n",
       "<thead>\n",
       "\t<tr><th scope=col>X1</th><th scope=col>X2</th><th scope=col>X3</th></tr>\n",
       "\t<tr><th scope=col>&lt;chr&gt;</th><th scope=col>&lt;dbl&gt;</th><th scope=col>&lt;dbl&gt;</th></tr>\n",
       "</thead>\n",
       "<tbody>\n",
       "\t<tr><td>chr1</td><td>778000</td><td>779000</td></tr>\n",
       "\t<tr><td>chr1</td><td>868000</td><td>870000</td></tr>\n",
       "\t<tr><td>chr1</td><td>870000</td><td>872000</td></tr>\n",
       "\t<tr><td>chr1</td><td>870000</td><td>875000</td></tr>\n",
       "\t<tr><td>chr1</td><td>904000</td><td>905000</td></tr>\n",
       "\t<tr><td>chr1</td><td>904000</td><td>906000</td></tr>\n",
       "</tbody>\n",
       "</table>\n"
      ],
      "text/latex": [
       "A tibble: 6 × 3\n",
       "\\begin{tabular}{lll}\n",
       " X1 & X2 & X3\\\\\n",
       " <chr> & <dbl> & <dbl>\\\\\n",
       "\\hline\n",
       "\t chr1 & 778000 & 779000\\\\\n",
       "\t chr1 & 868000 & 870000\\\\\n",
       "\t chr1 & 870000 & 872000\\\\\n",
       "\t chr1 & 870000 & 875000\\\\\n",
       "\t chr1 & 904000 & 905000\\\\\n",
       "\t chr1 & 904000 & 906000\\\\\n",
       "\\end{tabular}\n"
      ],
      "text/markdown": [
       "\n",
       "A tibble: 6 × 3\n",
       "\n",
       "| X1 &lt;chr&gt; | X2 &lt;dbl&gt; | X3 &lt;dbl&gt; |\n",
       "|---|---|---|\n",
       "| chr1 | 778000 | 779000 |\n",
       "| chr1 | 868000 | 870000 |\n",
       "| chr1 | 870000 | 872000 |\n",
       "| chr1 | 870000 | 875000 |\n",
       "| chr1 | 904000 | 905000 |\n",
       "| chr1 | 904000 | 906000 |\n",
       "\n"
      ],
      "text/plain": [
       "  X1   X2     X3    \n",
       "1 chr1 778000 779000\n",
       "2 chr1 868000 870000\n",
       "3 chr1 870000 872000\n",
       "4 chr1 870000 875000\n",
       "5 chr1 904000 905000\n",
       "6 chr1 904000 906000"
      ]
     },
     "metadata": {},
     "output_type": "display_data"
    }
   ],
   "source": [
    "fpath = \"/data/reddylab/Kuei/out/proj_combeffect_encode_fcc/results/region/hic_intact_deep/hic_intact.deep.Loop_A.bed.gz\"\n",
    "dat = read_tsv(fpath, col_names=FALSE, show_col_types = FALSE)\n",
    "head(dat)"
   ]
  },
  {
   "cell_type": "code",
   "execution_count": null,
   "metadata": {},
   "outputs": [],
   "source": []
  },
  {
   "cell_type": "code",
   "execution_count": 9,
   "metadata": {},
   "outputs": [
    {
     "name": "stdout",
     "output_type": "stream",
     "text": [
      "[1] \"/data/reddylab/Kuei/out/proj_combeffect_encode_fcc/results/region/KS91_K562_ASTARRseq_peak_macs_input/hic_intact_deep/peak.annotation.hic_intact.deep.Loop_A.bed.gz\"\n",
      "[1] \"Chrom_ATAC\" \"Start_ATAC\" \"End_ATAC\"   \"Chrom_Loop\" \"Start_Loop\"\n",
      "[6] \"End_Loop\"   \"Overlap\"   \n"
     ]
    },
    {
     "name": "stderr",
     "output_type": "stream",
     "text": [
      "\u001b[1mRows: \u001b[22m\u001b[34m72207\u001b[39m \u001b[1mColumns: \u001b[22m\u001b[34m7\u001b[39m\n",
      "\u001b[36m──\u001b[39m \u001b[1mColumn specification\u001b[22m \u001b[36m────────────────────────────────────────────────────\u001b[39m\n",
      "\u001b[1mDelimiter:\u001b[22m \"\\t\"\n",
      "\u001b[31mchr\u001b[39m (2): Chrom_ATAC, Chrom_Loop\n",
      "\u001b[32mdbl\u001b[39m (5): Start_ATAC, End_ATAC, Start_Loop, End_Loop, Overlap\n",
      "\n",
      "\u001b[36mℹ\u001b[39m Use `spec()` to retrieve the full column specification for this data.\n",
      "\u001b[36mℹ\u001b[39m Specify the column types or set `show_col_types = FALSE` to quiet this message.\n"
     ]
    },
    {
     "data": {
      "text/html": [
       "<table class=\"dataframe\">\n",
       "<caption>A tibble: 6 × 7</caption>\n",
       "<thead>\n",
       "\t<tr><th scope=col>Chrom_ATAC</th><th scope=col>Start_ATAC</th><th scope=col>End_ATAC</th><th scope=col>Chrom_Loop</th><th scope=col>Start_Loop</th><th scope=col>End_Loop</th><th scope=col>Overlap</th></tr>\n",
       "\t<tr><th scope=col>&lt;chr&gt;</th><th scope=col>&lt;dbl&gt;</th><th scope=col>&lt;dbl&gt;</th><th scope=col>&lt;chr&gt;</th><th scope=col>&lt;dbl&gt;</th><th scope=col>&lt;dbl&gt;</th><th scope=col>&lt;dbl&gt;</th></tr>\n",
       "</thead>\n",
       "<tbody>\n",
       "\t<tr><td>chr1</td><td>777949</td><td>779437</td><td>chr1</td><td>778000</td><td>779000</td><td>1000</td></tr>\n",
       "\t<tr><td>chr1</td><td>869623</td><td>870250</td><td>chr1</td><td>870000</td><td>872000</td><td> 250</td></tr>\n",
       "\t<tr><td>chr1</td><td>869623</td><td>870250</td><td>chr1</td><td>870000</td><td>875000</td><td> 250</td></tr>\n",
       "\t<tr><td>chr1</td><td>869623</td><td>870250</td><td>chr1</td><td>868000</td><td>870000</td><td> 377</td></tr>\n",
       "\t<tr><td>chr1</td><td>873248</td><td>873781</td><td>chr1</td><td>870000</td><td>875000</td><td> 533</td></tr>\n",
       "\t<tr><td>chr1</td><td>903633</td><td>905556</td><td>chr1</td><td>904000</td><td>905000</td><td>1000</td></tr>\n",
       "</tbody>\n",
       "</table>\n"
      ],
      "text/latex": [
       "A tibble: 6 × 7\n",
       "\\begin{tabular}{lllllll}\n",
       " Chrom\\_ATAC & Start\\_ATAC & End\\_ATAC & Chrom\\_Loop & Start\\_Loop & End\\_Loop & Overlap\\\\\n",
       " <chr> & <dbl> & <dbl> & <chr> & <dbl> & <dbl> & <dbl>\\\\\n",
       "\\hline\n",
       "\t chr1 & 777949 & 779437 & chr1 & 778000 & 779000 & 1000\\\\\n",
       "\t chr1 & 869623 & 870250 & chr1 & 870000 & 872000 &  250\\\\\n",
       "\t chr1 & 869623 & 870250 & chr1 & 870000 & 875000 &  250\\\\\n",
       "\t chr1 & 869623 & 870250 & chr1 & 868000 & 870000 &  377\\\\\n",
       "\t chr1 & 873248 & 873781 & chr1 & 870000 & 875000 &  533\\\\\n",
       "\t chr1 & 903633 & 905556 & chr1 & 904000 & 905000 & 1000\\\\\n",
       "\\end{tabular}\n"
      ],
      "text/markdown": [
       "\n",
       "A tibble: 6 × 7\n",
       "\n",
       "| Chrom_ATAC &lt;chr&gt; | Start_ATAC &lt;dbl&gt; | End_ATAC &lt;dbl&gt; | Chrom_Loop &lt;chr&gt; | Start_Loop &lt;dbl&gt; | End_Loop &lt;dbl&gt; | Overlap &lt;dbl&gt; |\n",
       "|---|---|---|---|---|---|---|\n",
       "| chr1 | 777949 | 779437 | chr1 | 778000 | 779000 | 1000 |\n",
       "| chr1 | 869623 | 870250 | chr1 | 870000 | 872000 |  250 |\n",
       "| chr1 | 869623 | 870250 | chr1 | 870000 | 875000 |  250 |\n",
       "| chr1 | 869623 | 870250 | chr1 | 868000 | 870000 |  377 |\n",
       "| chr1 | 873248 | 873781 | chr1 | 870000 | 875000 |  533 |\n",
       "| chr1 | 903633 | 905556 | chr1 | 904000 | 905000 | 1000 |\n",
       "\n"
      ],
      "text/plain": [
       "  Chrom_ATAC Start_ATAC End_ATAC Chrom_Loop Start_Loop End_Loop Overlap\n",
       "1 chr1       777949     779437   chr1       778000     779000   1000   \n",
       "2 chr1       869623     870250   chr1       870000     872000    250   \n",
       "3 chr1       869623     870250   chr1       870000     875000    250   \n",
       "4 chr1       869623     870250   chr1       868000     870000    377   \n",
       "5 chr1       873248     873781   chr1       870000     875000    533   \n",
       "6 chr1       903633     905556   chr1       904000     905000   1000   "
      ]
     },
     "metadata": {},
     "output_type": "display_data"
    }
   ],
   "source": [
    "fdiry = file.path(FD_RES, \"results\", \"region\", \"KS91_K562_ASTARRseq_peak_macs_input\", FOLDR)\n",
    "fname = \"peak.annotation.hic_intact.deep.Loop_A.bed.gz\"\n",
    "fpath = file.path(fdiry, fname)\n",
    "print(fpath)\n",
    "cnames = c(\"Chrom\", \"Start\", \"End\")\n",
    "cnames = c(\n",
    "    paste(cnames, \"ATAC\", sep=\"_\"),\n",
    "    paste(cnames, \"Loop\", sep=\"_\"),\n",
    "    \"Overlap\"\n",
    ")\n",
    "#cnames = c(\"Chrom_ATAC\", \"Start_ATAC\", \"End_ATAC\", cnames, \"Distance\")\n",
    "print(cnames)\n",
    "\n",
    "dat = read_tsv(fpath, col_names = cnames)\n",
    "head(dat)"
   ]
  },
  {
   "cell_type": "code",
   "execution_count": 10,
   "metadata": {},
   "outputs": [
    {
     "name": "stdout",
     "output_type": "stream",
     "text": [
      "[1] \"Chrom_ATAC\" \"Start_ATAC\" \"End_ATAC\"   \"Chrom_Loop\" \"Start_Loop\"\n",
      "[6] \"End_Loop\"   \"Overlap\"   \n"
     ]
    },
    {
     "data": {
      "text/html": [
       "<table class=\"dataframe\">\n",
       "<caption>A tibble: 6 × 7</caption>\n",
       "<thead>\n",
       "\t<tr><th scope=col>Chrom_ATAC</th><th scope=col>Start_ATAC</th><th scope=col>End_ATAC</th><th scope=col>Chrom_Loop</th><th scope=col>Start_Loop</th><th scope=col>End_Loop</th><th scope=col>Overlap</th></tr>\n",
       "\t<tr><th scope=col>&lt;chr&gt;</th><th scope=col>&lt;int&gt;</th><th scope=col>&lt;int&gt;</th><th scope=col>&lt;chr&gt;</th><th scope=col>&lt;int&gt;</th><th scope=col>&lt;int&gt;</th><th scope=col>&lt;chr&gt;</th></tr>\n",
       "</thead>\n",
       "<tbody>\n",
       "\t<tr><td>chr1</td><td>777949</td><td>779437</td><td>chr1</td><td>778000</td><td>779000</td><td>1000</td></tr>\n",
       "\t<tr><td>chr1</td><td>869623</td><td>870250</td><td>chr1</td><td>870000</td><td>872000</td><td>250 </td></tr>\n",
       "\t<tr><td>chr1</td><td>869623</td><td>870250</td><td>chr1</td><td>870000</td><td>875000</td><td>250 </td></tr>\n",
       "\t<tr><td>chr1</td><td>869623</td><td>870250</td><td>chr1</td><td>868000</td><td>870000</td><td>377 </td></tr>\n",
       "\t<tr><td>chr1</td><td>873248</td><td>873781</td><td>chr1</td><td>870000</td><td>875000</td><td>533 </td></tr>\n",
       "\t<tr><td>chr1</td><td>903633</td><td>905556</td><td>chr1</td><td>904000</td><td>905000</td><td>1000</td></tr>\n",
       "</tbody>\n",
       "</table>\n"
      ],
      "text/latex": [
       "A tibble: 6 × 7\n",
       "\\begin{tabular}{lllllll}\n",
       " Chrom\\_ATAC & Start\\_ATAC & End\\_ATAC & Chrom\\_Loop & Start\\_Loop & End\\_Loop & Overlap\\\\\n",
       " <chr> & <int> & <int> & <chr> & <int> & <int> & <chr>\\\\\n",
       "\\hline\n",
       "\t chr1 & 777949 & 779437 & chr1 & 778000 & 779000 & 1000\\\\\n",
       "\t chr1 & 869623 & 870250 & chr1 & 870000 & 872000 & 250 \\\\\n",
       "\t chr1 & 869623 & 870250 & chr1 & 870000 & 875000 & 250 \\\\\n",
       "\t chr1 & 869623 & 870250 & chr1 & 868000 & 870000 & 377 \\\\\n",
       "\t chr1 & 873248 & 873781 & chr1 & 870000 & 875000 & 533 \\\\\n",
       "\t chr1 & 903633 & 905556 & chr1 & 904000 & 905000 & 1000\\\\\n",
       "\\end{tabular}\n"
      ],
      "text/markdown": [
       "\n",
       "A tibble: 6 × 7\n",
       "\n",
       "| Chrom_ATAC &lt;chr&gt; | Start_ATAC &lt;int&gt; | End_ATAC &lt;int&gt; | Chrom_Loop &lt;chr&gt; | Start_Loop &lt;int&gt; | End_Loop &lt;int&gt; | Overlap &lt;chr&gt; |\n",
       "|---|---|---|---|---|---|---|\n",
       "| chr1 | 777949 | 779437 | chr1 | 778000 | 779000 | 1000 |\n",
       "| chr1 | 869623 | 870250 | chr1 | 870000 | 872000 | 250  |\n",
       "| chr1 | 869623 | 870250 | chr1 | 870000 | 875000 | 250  |\n",
       "| chr1 | 869623 | 870250 | chr1 | 868000 | 870000 | 377  |\n",
       "| chr1 | 873248 | 873781 | chr1 | 870000 | 875000 | 533  |\n",
       "| chr1 | 903633 | 905556 | chr1 | 904000 | 905000 | 1000 |\n",
       "\n"
      ],
      "text/plain": [
       "  Chrom_ATAC Start_ATAC End_ATAC Chrom_Loop Start_Loop End_Loop Overlap\n",
       "1 chr1       777949     779437   chr1       778000     779000   1000   \n",
       "2 chr1       869623     870250   chr1       870000     872000   250    \n",
       "3 chr1       869623     870250   chr1       870000     875000   250    \n",
       "4 chr1       869623     870250   chr1       868000     870000   377    \n",
       "5 chr1       873248     873781   chr1       870000     875000   533    \n",
       "6 chr1       903633     905556   chr1       904000     905000   1000   "
      ]
     },
     "metadata": {},
     "output_type": "display_data"
    }
   ],
   "source": [
    "fdiry = file.path(FD_RES, \"results\", \"region\", \"KS91_K562_ASTARRseq_peak_macs_input\", FOLDR)\n",
    "fname = \"peak.annotation.hic_intact.deep.Loop_A.bed.gz\"\n",
    "fpath = file.path(fdiry, fname)\n",
    "\n",
    "cnames = c(\"Chrom\", \"Start\", \"End\")\n",
    "cnames = c(\n",
    "    paste(cnames, \"ATAC\", sep=\"_\"),\n",
    "    paste(cnames, \"Loop\", sep=\"_\"),\n",
    "    \"Overlap\"\n",
    ")\n",
    "print(cnames)\n",
    "\n",
    "dat = read_tsv(fpath, col_names=cnames, col_types=\"ciiciici\", show_col_types = FALSE)\n",
    "head(dat)"
   ]
  },
  {
   "cell_type": "code",
   "execution_count": 12,
   "metadata": {},
   "outputs": [
    {
     "name": "stdout",
     "output_type": "stream",
     "text": [
      "[1] \"Loop_A\" \"Loop_B\"\n",
      "\n",
      "\u001b[90m# A tibble: 6 × 9\u001b[39m\n",
      "  Chrom_ATAC Start_ATAC End_ATAC Name_ATAC        Chrom_Loop Start_Loop End_Loop\n",
      "  \u001b[3m\u001b[90m<chr>\u001b[39m\u001b[23m           \u001b[3m\u001b[90m<dbl>\u001b[39m\u001b[23m    \u001b[3m\u001b[90m<dbl>\u001b[39m\u001b[23m \u001b[3m\u001b[90m<chr>\u001b[39m\u001b[23m            \u001b[3m\u001b[90m<chr>\u001b[39m\u001b[23m           \u001b[3m\u001b[90m<dbl>\u001b[39m\u001b[23m    \u001b[3m\u001b[90m<dbl>\u001b[39m\u001b[23m\n",
      "\u001b[90m1\u001b[39m chr1           \u001b[4m7\u001b[24m\u001b[4m7\u001b[24m\u001b[4m7\u001b[24m949   \u001b[4m7\u001b[24m\u001b[4m7\u001b[24m\u001b[4m9\u001b[24m437 chr1:777949-779… chr1           \u001b[4m7\u001b[24m\u001b[4m7\u001b[24m\u001b[4m8\u001b[24m000   \u001b[4m7\u001b[24m\u001b[4m7\u001b[24m\u001b[4m9\u001b[24m000\n",
      "\u001b[90m2\u001b[39m chr1           \u001b[4m8\u001b[24m\u001b[4m6\u001b[24m\u001b[4m9\u001b[24m623   \u001b[4m8\u001b[24m\u001b[4m7\u001b[24m\u001b[4m0\u001b[24m250 chr1:869623-870… chr1           \u001b[4m8\u001b[24m\u001b[4m7\u001b[24m\u001b[4m0\u001b[24m000   \u001b[4m8\u001b[24m\u001b[4m7\u001b[24m\u001b[4m2\u001b[24m000\n",
      "\u001b[90m3\u001b[39m chr1           \u001b[4m8\u001b[24m\u001b[4m6\u001b[24m\u001b[4m9\u001b[24m623   \u001b[4m8\u001b[24m\u001b[4m7\u001b[24m\u001b[4m0\u001b[24m250 chr1:869623-870… chr1           \u001b[4m8\u001b[24m\u001b[4m7\u001b[24m\u001b[4m0\u001b[24m000   \u001b[4m8\u001b[24m\u001b[4m7\u001b[24m\u001b[4m5\u001b[24m000\n",
      "\u001b[90m4\u001b[39m chr1           \u001b[4m8\u001b[24m\u001b[4m6\u001b[24m\u001b[4m9\u001b[24m623   \u001b[4m8\u001b[24m\u001b[4m7\u001b[24m\u001b[4m0\u001b[24m250 chr1:869623-870… chr1           \u001b[4m8\u001b[24m\u001b[4m6\u001b[24m\u001b[4m8\u001b[24m000   \u001b[4m8\u001b[24m\u001b[4m7\u001b[24m\u001b[4m0\u001b[24m000\n",
      "\u001b[90m5\u001b[39m chr1           \u001b[4m8\u001b[24m\u001b[4m7\u001b[24m\u001b[4m3\u001b[24m248   \u001b[4m8\u001b[24m\u001b[4m7\u001b[24m\u001b[4m3\u001b[24m781 chr1:873248-873… chr1           \u001b[4m8\u001b[24m\u001b[4m7\u001b[24m\u001b[4m0\u001b[24m000   \u001b[4m8\u001b[24m\u001b[4m7\u001b[24m\u001b[4m5\u001b[24m000\n",
      "\u001b[90m6\u001b[39m chr1           \u001b[4m9\u001b[24m\u001b[4m0\u001b[24m\u001b[4m3\u001b[24m633   \u001b[4m9\u001b[24m\u001b[4m0\u001b[24m\u001b[4m5\u001b[24m556 chr1:903633-905… chr1           \u001b[4m9\u001b[24m\u001b[4m0\u001b[24m\u001b[4m4\u001b[24m000   \u001b[4m9\u001b[24m\u001b[4m0\u001b[24m\u001b[4m5\u001b[24m000\n",
      "\u001b[90m# ℹ 2 more variables: Name_Loop <chr>, Overlap <dbl>\u001b[39m\n",
      "\n",
      "\u001b[90m# A tibble: 6 × 9\u001b[39m\n",
      "  Chrom_ATAC Start_ATAC End_ATAC Name_ATAC        Chrom_Loop Start_Loop End_Loop\n",
      "  \u001b[3m\u001b[90m<chr>\u001b[39m\u001b[23m           \u001b[3m\u001b[90m<dbl>\u001b[39m\u001b[23m    \u001b[3m\u001b[90m<dbl>\u001b[39m\u001b[23m \u001b[3m\u001b[90m<chr>\u001b[39m\u001b[23m            \u001b[3m\u001b[90m<chr>\u001b[39m\u001b[23m           \u001b[3m\u001b[90m<dbl>\u001b[39m\u001b[23m    \u001b[3m\u001b[90m<dbl>\u001b[39m\u001b[23m\n",
      "\u001b[90m1\u001b[39m chr1           \u001b[4m8\u001b[24m\u001b[4m2\u001b[24m\u001b[4m6\u001b[24m754   \u001b[4m8\u001b[24m\u001b[4m2\u001b[24m\u001b[4m8\u001b[24m040 chr1:826754-828… chr1           \u001b[4m8\u001b[24m\u001b[4m2\u001b[24m\u001b[4m7\u001b[24m000   \u001b[4m8\u001b[24m\u001b[4m2\u001b[24m\u001b[4m8\u001b[24m000\n",
      "\u001b[90m2\u001b[39m chr1           \u001b[4m9\u001b[24m\u001b[4m2\u001b[24m\u001b[4m3\u001b[24m417   \u001b[4m9\u001b[24m\u001b[4m2\u001b[24m\u001b[4m5\u001b[24m194 chr1:923417-925… chr1           \u001b[4m9\u001b[24m\u001b[4m2\u001b[24m\u001b[4m3\u001b[24m000   \u001b[4m9\u001b[24m\u001b[4m2\u001b[24m\u001b[4m4\u001b[24m000\n",
      "\u001b[90m3\u001b[39m chr1           \u001b[4m9\u001b[24m\u001b[4m3\u001b[24m\u001b[4m5\u001b[24m605   \u001b[4m9\u001b[24m\u001b[4m3\u001b[24m\u001b[4m6\u001b[24m252 chr1:935605-936… chr1           \u001b[4m9\u001b[24m\u001b[4m3\u001b[24m\u001b[4m5\u001b[24m000   \u001b[4m9\u001b[24m\u001b[4m4\u001b[24m\u001b[4m0\u001b[24m000\n",
      "\u001b[90m4\u001b[39m chr1           \u001b[4m9\u001b[24m\u001b[4m3\u001b[24m\u001b[4m8\u001b[24m228   \u001b[4m9\u001b[24m\u001b[4m3\u001b[24m\u001b[4m8\u001b[24m505 chr1:938228-938… chr1           \u001b[4m9\u001b[24m\u001b[4m3\u001b[24m\u001b[4m5\u001b[24m000   \u001b[4m9\u001b[24m\u001b[4m4\u001b[24m\u001b[4m0\u001b[24m000\n",
      "\u001b[90m5\u001b[39m chr1           \u001b[4m9\u001b[24m\u001b[4m3\u001b[24m\u001b[4m9\u001b[24m127   \u001b[4m9\u001b[24m\u001b[4m3\u001b[24m\u001b[4m9\u001b[24m463 chr1:939127-939… chr1           \u001b[4m9\u001b[24m\u001b[4m3\u001b[24m\u001b[4m5\u001b[24m000   \u001b[4m9\u001b[24m\u001b[4m4\u001b[24m\u001b[4m0\u001b[24m000\n",
      "\u001b[90m6\u001b[39m chr1           \u001b[4m9\u001b[24m\u001b[4m4\u001b[24m\u001b[4m0\u001b[24m325   \u001b[4m9\u001b[24m\u001b[4m4\u001b[24m\u001b[4m3\u001b[24m460 chr1:940325-943… chr1           \u001b[4m9\u001b[24m\u001b[4m4\u001b[24m\u001b[4m0\u001b[24m000   \u001b[4m9\u001b[24m\u001b[4m4\u001b[24m\u001b[4m1\u001b[24m000\n",
      "\u001b[90m# ℹ 2 more variables: Name_Loop <chr>, Overlap <dbl>\u001b[39m\n"
     ]
    }
   ],
   "source": [
    "fdiry = file.path(FD_RES, \"results\", \"region\", \"KS91_K562_ASTARRseq_peak_macs_input\", FOLDR)\n",
    "\n",
    "vec = VEC_TXT_PREFIX_LOOP\n",
    "names(vec) = vec\n",
    "\n",
    "lst = lapply(vec, function(txt_prefix_loop){\n",
    "    ###\n",
    "    cnames = c(\"Chrom_Loop\", \"Start_Loop\", \"End_Loop\")\n",
    "    cnames = c(\"Chrom_ATAC\", \"Start_ATAC\", \"End_ATAC\", cnames, \"Overlap\")\n",
    "    \n",
    "    ###\n",
    "    fdiry = file.path(FD_RES, \"results\", \"region\", \"KS91_K562_ASTARRseq_peak_macs_input\", FOLDR)\n",
    "    fname = paste(\"peak.annotation.hic_intact\", \"deep\", txt_prefix_loop, \"bed.gz\", sep=\".\")\n",
    "    fpath = file.path(fdiry, fname)\n",
    "    \n",
    "    ###\n",
    "    dat = read_tsv(fpath, col_names=cnames, show_col_types = FALSE)\n",
    "    dat = dat %>% dplyr::mutate(\n",
    "        Name_ATAC  = paste0(Chrom_ATAC, \":\", Start_ATAC, \"-\", End_ATAC),\n",
    "        Name_Loop  = paste0(Chrom_Loop, \":\", Start_Loop, \"-\", End_Loop),\n",
    "        Label_Loop = txt_prefix_loop\n",
    "    )\n",
    "    dat = dat %>% dplyr::select(\n",
    "        Chrom_ATAC, Start_ATAC, End_ATAC, Name_ATAC,\n",
    "        Chrom_Loop, Start_Loop, End_Loop, Name_Loop,\n",
    "        Overlap\n",
    "    )\n",
    "    return(dat)\n",
    "})\n",
    "\n",
    "lst_dat_peak_loop_hic_intact = lst\n",
    "print(names(lst))\n",
    "for (dat in lst){\n",
    "    cat(\"\\n\")\n",
    "    print(head(dat))\n",
    "}"
   ]
  },
  {
   "cell_type": "code",
   "execution_count": 14,
   "metadata": {},
   "outputs": [
    {
     "data": {
      "text/html": [
       "<div style=\"border: 1px solid #ddd; padding: 5px; overflow-x: scroll; width:100%; \"><table class=\"table table-striped\" style=\"margin-left: auto; margin-right: auto;\">\n",
       " <thead>\n",
       "  <tr>\n",
       "   <th style=\"text-align:left;\"> Chrom_ATAC </th>\n",
       "   <th style=\"text-align:right;\"> Start_ATAC </th>\n",
       "   <th style=\"text-align:right;\"> End_ATAC </th>\n",
       "   <th style=\"text-align:left;\"> Name_ATAC </th>\n",
       "   <th style=\"text-align:left;\"> Chrom_Loop </th>\n",
       "   <th style=\"text-align:right;\"> Start_Loop </th>\n",
       "   <th style=\"text-align:right;\"> End_Loop </th>\n",
       "   <th style=\"text-align:left;\"> Name_Loop </th>\n",
       "   <th style=\"text-align:right;\"> Overlap </th>\n",
       "  </tr>\n",
       " </thead>\n",
       "<tbody>\n",
       "  <tr>\n",
       "   <td style=\"text-align:left;\"> chr1 </td>\n",
       "   <td style=\"text-align:right;\"> 777949 </td>\n",
       "   <td style=\"text-align:right;\"> 779437 </td>\n",
       "   <td style=\"text-align:left;\"> chr1:777949-779437 </td>\n",
       "   <td style=\"text-align:left;\"> chr1 </td>\n",
       "   <td style=\"text-align:right;\"> 778000 </td>\n",
       "   <td style=\"text-align:right;\"> 779000 </td>\n",
       "   <td style=\"text-align:left;\"> chr1:778000-779000 </td>\n",
       "   <td style=\"text-align:right;\"> 1000 </td>\n",
       "  </tr>\n",
       "  <tr>\n",
       "   <td style=\"text-align:left;\"> chr1 </td>\n",
       "   <td style=\"text-align:right;\"> 869623 </td>\n",
       "   <td style=\"text-align:right;\"> 870250 </td>\n",
       "   <td style=\"text-align:left;\"> chr1:869623-870250 </td>\n",
       "   <td style=\"text-align:left;\"> chr1 </td>\n",
       "   <td style=\"text-align:right;\"> 870000 </td>\n",
       "   <td style=\"text-align:right;\"> 872000 </td>\n",
       "   <td style=\"text-align:left;\"> chr1:870000-872000 </td>\n",
       "   <td style=\"text-align:right;\"> 250 </td>\n",
       "  </tr>\n",
       "  <tr>\n",
       "   <td style=\"text-align:left;\"> chr1 </td>\n",
       "   <td style=\"text-align:right;\"> 869623 </td>\n",
       "   <td style=\"text-align:right;\"> 870250 </td>\n",
       "   <td style=\"text-align:left;\"> chr1:869623-870250 </td>\n",
       "   <td style=\"text-align:left;\"> chr1 </td>\n",
       "   <td style=\"text-align:right;\"> 870000 </td>\n",
       "   <td style=\"text-align:right;\"> 875000 </td>\n",
       "   <td style=\"text-align:left;\"> chr1:870000-875000 </td>\n",
       "   <td style=\"text-align:right;\"> 250 </td>\n",
       "  </tr>\n",
       "  <tr>\n",
       "   <td style=\"text-align:left;\"> chr1 </td>\n",
       "   <td style=\"text-align:right;\"> 869623 </td>\n",
       "   <td style=\"text-align:right;\"> 870250 </td>\n",
       "   <td style=\"text-align:left;\"> chr1:869623-870250 </td>\n",
       "   <td style=\"text-align:left;\"> chr1 </td>\n",
       "   <td style=\"text-align:right;\"> 868000 </td>\n",
       "   <td style=\"text-align:right;\"> 870000 </td>\n",
       "   <td style=\"text-align:left;\"> chr1:868000-870000 </td>\n",
       "   <td style=\"text-align:right;\"> 377 </td>\n",
       "  </tr>\n",
       "  <tr>\n",
       "   <td style=\"text-align:left;\"> chr1 </td>\n",
       "   <td style=\"text-align:right;\"> 873248 </td>\n",
       "   <td style=\"text-align:right;\"> 873781 </td>\n",
       "   <td style=\"text-align:left;\"> chr1:873248-873781 </td>\n",
       "   <td style=\"text-align:left;\"> chr1 </td>\n",
       "   <td style=\"text-align:right;\"> 870000 </td>\n",
       "   <td style=\"text-align:right;\"> 875000 </td>\n",
       "   <td style=\"text-align:left;\"> chr1:870000-875000 </td>\n",
       "   <td style=\"text-align:right;\"> 533 </td>\n",
       "  </tr>\n",
       "  <tr>\n",
       "   <td style=\"text-align:left;\"> chr1 </td>\n",
       "   <td style=\"text-align:right;\"> 903633 </td>\n",
       "   <td style=\"text-align:right;\"> 905556 </td>\n",
       "   <td style=\"text-align:left;\"> chr1:903633-905556 </td>\n",
       "   <td style=\"text-align:left;\"> chr1 </td>\n",
       "   <td style=\"text-align:right;\"> 904000 </td>\n",
       "   <td style=\"text-align:right;\"> 905000 </td>\n",
       "   <td style=\"text-align:left;\"> chr1:904000-905000 </td>\n",
       "   <td style=\"text-align:right;\"> 1000 </td>\n",
       "  </tr>\n",
       "</tbody>\n",
       "</table></div>"
      ]
     },
     "metadata": {},
     "output_type": "display_data"
    }
   ],
   "source": [
    "fun_display_table(head(lst[[1]]))"
   ]
  },
  {
   "cell_type": "code",
   "execution_count": 24,
   "metadata": {},
   "outputs": [
    {
     "name": "stdout",
     "output_type": "stream",
     "text": [
      "[1] 143662      4\n"
     ]
    },
    {
     "data": {
      "text/html": [
       "<table class=\"dataframe\">\n",
       "<caption>A tibble: 6 × 4</caption>\n",
       "<thead>\n",
       "\t<tr><th scope=col>Peak</th><th scope=col>Loop</th><th scope=col>Overlap</th><th scope=col>Loop_Anchor</th></tr>\n",
       "\t<tr><th scope=col>&lt;chr&gt;</th><th scope=col>&lt;chr&gt;</th><th scope=col>&lt;dbl&gt;</th><th scope=col>&lt;chr&gt;</th></tr>\n",
       "</thead>\n",
       "<tbody>\n",
       "\t<tr><td>chr1:777949-779437</td><td>chr1:778000-779000</td><td>1000</td><td>Loop_A</td></tr>\n",
       "\t<tr><td>chr1:869623-870250</td><td>chr1:870000-872000</td><td> 250</td><td>Loop_A</td></tr>\n",
       "\t<tr><td>chr1:869623-870250</td><td>chr1:870000-875000</td><td> 250</td><td>Loop_A</td></tr>\n",
       "\t<tr><td>chr1:869623-870250</td><td>chr1:868000-870000</td><td> 377</td><td>Loop_A</td></tr>\n",
       "\t<tr><td>chr1:873248-873781</td><td>chr1:870000-875000</td><td> 533</td><td>Loop_A</td></tr>\n",
       "\t<tr><td>chr1:903633-905556</td><td>chr1:904000-905000</td><td>1000</td><td>Loop_A</td></tr>\n",
       "</tbody>\n",
       "</table>\n"
      ],
      "text/latex": [
       "A tibble: 6 × 4\n",
       "\\begin{tabular}{llll}\n",
       " Peak & Loop & Overlap & Loop\\_Anchor\\\\\n",
       " <chr> & <chr> & <dbl> & <chr>\\\\\n",
       "\\hline\n",
       "\t chr1:777949-779437 & chr1:778000-779000 & 1000 & Loop\\_A\\\\\n",
       "\t chr1:869623-870250 & chr1:870000-872000 &  250 & Loop\\_A\\\\\n",
       "\t chr1:869623-870250 & chr1:870000-875000 &  250 & Loop\\_A\\\\\n",
       "\t chr1:869623-870250 & chr1:868000-870000 &  377 & Loop\\_A\\\\\n",
       "\t chr1:873248-873781 & chr1:870000-875000 &  533 & Loop\\_A\\\\\n",
       "\t chr1:903633-905556 & chr1:904000-905000 & 1000 & Loop\\_A\\\\\n",
       "\\end{tabular}\n"
      ],
      "text/markdown": [
       "\n",
       "A tibble: 6 × 4\n",
       "\n",
       "| Peak &lt;chr&gt; | Loop &lt;chr&gt; | Overlap &lt;dbl&gt; | Loop_Anchor &lt;chr&gt; |\n",
       "|---|---|---|---|\n",
       "| chr1:777949-779437 | chr1:778000-779000 | 1000 | Loop_A |\n",
       "| chr1:869623-870250 | chr1:870000-872000 |  250 | Loop_A |\n",
       "| chr1:869623-870250 | chr1:870000-875000 |  250 | Loop_A |\n",
       "| chr1:869623-870250 | chr1:868000-870000 |  377 | Loop_A |\n",
       "| chr1:873248-873781 | chr1:870000-875000 |  533 | Loop_A |\n",
       "| chr1:903633-905556 | chr1:904000-905000 | 1000 | Loop_A |\n",
       "\n"
      ],
      "text/plain": [
       "  Peak               Loop               Overlap Loop_Anchor\n",
       "1 chr1:777949-779437 chr1:778000-779000 1000    Loop_A     \n",
       "2 chr1:869623-870250 chr1:870000-872000  250    Loop_A     \n",
       "3 chr1:869623-870250 chr1:870000-875000  250    Loop_A     \n",
       "4 chr1:869623-870250 chr1:868000-870000  377    Loop_A     \n",
       "5 chr1:873248-873781 chr1:870000-875000  533    Loop_A     \n",
       "6 chr1:903633-905556 chr1:904000-905000 1000    Loop_A     "
      ]
     },
     "metadata": {},
     "output_type": "display_data"
    }
   ],
   "source": [
    "lst = lst_dat_hic_intact \n",
    "dat = bind_rows(lst, .id = \"Loop_Anchor\")\n",
    "dat = dat %>% \n",
    "    dplyr::select(Name_ATAC, Name_Loop, Overlap, Loop_Anchor) %>%\n",
    "    dplyr::rename(\n",
    "        \"Peak\" = \"Name_ATAC\",\n",
    "        \"Loop\" = \"Name_Loop\"\n",
    "    ) %>%\n",
    "    dplyr::distinct()\n",
    "\n",
    "### assign and show\n",
    "dat_hic_intact = dat\n",
    "print(dim(dat))\n",
    "head(dat)"
   ]
  },
  {
   "cell_type": "code",
   "execution_count": 25,
   "metadata": {},
   "outputs": [],
   "source": [
    "fdiry = file.path(FD_RES, \"results\", \"region\", \"KS91_K562_ASTARRseq_peak_macs_input\", \"summary\")\n",
    "fname = \"peak.summary.hic_intact.deep.overlap.tsv\"\n",
    "fpath = file.path(fdiry, fname)\n",
    "\n",
    "dat = dat_hic_intact\n",
    "write_tsv(dat, fpath)"
   ]
  },
  {
   "cell_type": "code",
   "execution_count": null,
   "metadata": {},
   "outputs": [],
   "source": []
  },
  {
   "cell_type": "code",
   "execution_count": null,
   "metadata": {},
   "outputs": [],
   "source": []
  },
  {
   "cell_type": "code",
   "execution_count": null,
   "metadata": {},
   "outputs": [],
   "source": []
  },
  {
   "cell_type": "code",
   "execution_count": null,
   "metadata": {},
   "outputs": [],
   "source": []
  },
  {
   "cell_type": "code",
   "execution_count": null,
   "metadata": {},
   "outputs": [],
   "source": []
  },
  {
   "cell_type": "code",
   "execution_count": 94,
   "metadata": {},
   "outputs": [
    {
     "name": "stdout",
     "output_type": "stream",
     "text": [
      "[1] 247519      3\n"
     ]
    },
    {
     "data": {
      "text/html": [
       "<table class=\"dataframe\">\n",
       "<caption>A tibble: 6 × 3</caption>\n",
       "<thead>\n",
       "\t<tr><th scope=col>chr1</th><th scope=col>10015</th><th scope=col>10442</th></tr>\n",
       "\t<tr><th scope=col>&lt;chr&gt;</th><th scope=col>&lt;dbl&gt;</th><th scope=col>&lt;dbl&gt;</th></tr>\n",
       "</thead>\n",
       "<tbody>\n",
       "\t<tr><td>chr1</td><td> 14253</td><td> 14645</td></tr>\n",
       "\t<tr><td>chr1</td><td> 16015</td><td> 16477</td></tr>\n",
       "\t<tr><td>chr1</td><td> 17237</td><td> 17772</td></tr>\n",
       "\t<tr><td>chr1</td><td> 28903</td><td> 29613</td></tr>\n",
       "\t<tr><td>chr1</td><td> 30803</td><td> 31072</td></tr>\n",
       "\t<tr><td>chr1</td><td>101603</td><td>101849</td></tr>\n",
       "</tbody>\n",
       "</table>\n"
      ],
      "text/latex": [
       "A tibble: 6 × 3\n",
       "\\begin{tabular}{lll}\n",
       " chr1 & 10015 & 10442\\\\\n",
       " <chr> & <dbl> & <dbl>\\\\\n",
       "\\hline\n",
       "\t chr1 &  14253 &  14645\\\\\n",
       "\t chr1 &  16015 &  16477\\\\\n",
       "\t chr1 &  17237 &  17772\\\\\n",
       "\t chr1 &  28903 &  29613\\\\\n",
       "\t chr1 &  30803 &  31072\\\\\n",
       "\t chr1 & 101603 & 101849\\\\\n",
       "\\end{tabular}\n"
      ],
      "text/markdown": [
       "\n",
       "A tibble: 6 × 3\n",
       "\n",
       "| chr1 &lt;chr&gt; | 10015 &lt;dbl&gt; | 10442 &lt;dbl&gt; |\n",
       "|---|---|---|\n",
       "| chr1 |  14253 |  14645 |\n",
       "| chr1 |  16015 |  16477 |\n",
       "| chr1 |  17237 |  17772 |\n",
       "| chr1 |  28903 |  29613 |\n",
       "| chr1 |  30803 |  31072 |\n",
       "| chr1 | 101603 | 101849 |\n",
       "\n"
      ],
      "text/plain": [
       "  chr1 10015  10442 \n",
       "1 chr1  14253  14645\n",
       "2 chr1  16015  16477\n",
       "3 chr1  17237  17772\n",
       "4 chr1  28903  29613\n",
       "5 chr1  30803  31072\n",
       "6 chr1 101603 101849"
      ]
     },
     "metadata": {},
     "output_type": "display_data"
    }
   ],
   "source": [
    "fdiry = file.path(FD_RES, \"results\", \"region\", \"KS91_K562_ASTARRseq_peak_macs_input\")\n",
    "fname = \"KS91_K562_hg38_ASTARRseq_Input.all_reps.masked.union_narrowPeak.q5.bed.gz\"\n",
    "fpath = file.path(fdiry, fname)\n",
    "\n",
    "dat = read_tsv(fpath, show_col_types = FALSE)\n",
    "\n",
    "dat_peak = dat\n",
    "print(dim(dat))\n",
    "head(dat)"
   ]
  },
  {
   "cell_type": "code",
   "execution_count": 22,
   "metadata": {},
   "outputs": [
    {
     "name": "stdout",
     "output_type": "stream",
     "text": [
      "[1] 15191     7\n"
     ]
    },
    {
     "data": {
      "text/html": [
       "<table class=\"dataframe\">\n",
       "<caption>A tibble: 6 × 7</caption>\n",
       "<thead>\n",
       "\t<tr><th scope=col>Peak</th><th scope=col>Annotation</th><th scope=col>Label</th><th scope=col>Count</th><th scope=col>Region</th><th scope=col>Score</th><th scope=col>Note</th></tr>\n",
       "\t<tr><th scope=col>&lt;chr&gt;</th><th scope=col>&lt;chr&gt;</th><th scope=col>&lt;chr&gt;</th><th scope=col>&lt;dbl&gt;</th><th scope=col>&lt;chr&gt;</th><th scope=col>&lt;dbl&gt;</th><th scope=col>&lt;chr&gt;</th></tr>\n",
       "</thead>\n",
       "<tbody>\n",
       "\t<tr><td>chr1:17237-17772  </td><td>TSS_POL2</td><td>TSS</td><td>4</td><td>chr1:17436-17437|chr1:17436-17437|chr1:17436-17437|chr1:17436-17437</td><td>  9.43812000</td><td>MIR6859-1|MIR6859-2|MIR6859-3|MIR6859-4</td></tr>\n",
       "\t<tr><td>chr1:28903-29613  </td><td>TSS_POL2</td><td>TSS</td><td>1</td><td>chr1:29370-29371                                                   </td><td>  0.00023000</td><td>WASH7P                                 </td></tr>\n",
       "\t<tr><td>chr1:777949-779437</td><td>TSS_POL2</td><td>TSS</td><td>1</td><td>chr1:778634-778635                                                 </td><td>230.56100000</td><td>LOC100288069                           </td></tr>\n",
       "\t<tr><td>chr1:816774-817547</td><td>TSS_POL2</td><td>TSS</td><td>1</td><td>chr1:817370-817371                                                 </td><td>  1.06609000</td><td>FAM87B                                 </td></tr>\n",
       "\t<tr><td>chr1:826754-828040</td><td>TSS_POL2</td><td>TSS</td><td>2</td><td>chr1:827522-827523|chr1:827590-827591                              </td><td> 64.46295000</td><td>LINC00115|LINC01128                    </td></tr>\n",
       "\t<tr><td>chr1:876474-878030</td><td>TSS_POL2</td><td>TSS</td><td>1</td><td>chr1:876802-876803                                                 </td><td>  0.00788399</td><td>FAM41C                                 </td></tr>\n",
       "</tbody>\n",
       "</table>\n"
      ],
      "text/latex": [
       "A tibble: 6 × 7\n",
       "\\begin{tabular}{lllllll}\n",
       " Peak & Annotation & Label & Count & Region & Score & Note\\\\\n",
       " <chr> & <chr> & <chr> & <dbl> & <chr> & <dbl> & <chr>\\\\\n",
       "\\hline\n",
       "\t chr1:17237-17772   & TSS\\_POL2 & TSS & 4 & chr1:17436-17437\\textbar{}chr1:17436-17437\\textbar{}chr1:17436-17437\\textbar{}chr1:17436-17437 &   9.43812000 & MIR6859-1\\textbar{}MIR6859-2\\textbar{}MIR6859-3\\textbar{}MIR6859-4\\\\\n",
       "\t chr1:28903-29613   & TSS\\_POL2 & TSS & 1 & chr1:29370-29371                                                    &   0.00023000 & WASH7P                                 \\\\\n",
       "\t chr1:777949-779437 & TSS\\_POL2 & TSS & 1 & chr1:778634-778635                                                  & 230.56100000 & LOC100288069                           \\\\\n",
       "\t chr1:816774-817547 & TSS\\_POL2 & TSS & 1 & chr1:817370-817371                                                  &   1.06609000 & FAM87B                                 \\\\\n",
       "\t chr1:826754-828040 & TSS\\_POL2 & TSS & 2 & chr1:827522-827523\\textbar{}chr1:827590-827591                               &  64.46295000 & LINC00115\\textbar{}LINC01128                    \\\\\n",
       "\t chr1:876474-878030 & TSS\\_POL2 & TSS & 1 & chr1:876802-876803                                                  &   0.00788399 & FAM41C                                 \\\\\n",
       "\\end{tabular}\n"
      ],
      "text/markdown": [
       "\n",
       "A tibble: 6 × 7\n",
       "\n",
       "| Peak &lt;chr&gt; | Annotation &lt;chr&gt; | Label &lt;chr&gt; | Count &lt;dbl&gt; | Region &lt;chr&gt; | Score &lt;dbl&gt; | Note &lt;chr&gt; |\n",
       "|---|---|---|---|---|---|---|\n",
       "| chr1:17237-17772   | TSS_POL2 | TSS | 4 | chr1:17436-17437|chr1:17436-17437|chr1:17436-17437|chr1:17436-17437 |   9.43812000 | MIR6859-1|MIR6859-2|MIR6859-3|MIR6859-4 |\n",
       "| chr1:28903-29613   | TSS_POL2 | TSS | 1 | chr1:29370-29371                                                    |   0.00023000 | WASH7P                                  |\n",
       "| chr1:777949-779437 | TSS_POL2 | TSS | 1 | chr1:778634-778635                                                  | 230.56100000 | LOC100288069                            |\n",
       "| chr1:816774-817547 | TSS_POL2 | TSS | 1 | chr1:817370-817371                                                  |   1.06609000 | FAM87B                                  |\n",
       "| chr1:826754-828040 | TSS_POL2 | TSS | 2 | chr1:827522-827523|chr1:827590-827591                               |  64.46295000 | LINC00115|LINC01128                     |\n",
       "| chr1:876474-878030 | TSS_POL2 | TSS | 1 | chr1:876802-876803                                                  |   0.00788399 | FAM41C                                  |\n",
       "\n"
      ],
      "text/plain": [
       "  Peak               Annotation Label Count\n",
       "1 chr1:17237-17772   TSS_POL2   TSS   4    \n",
       "2 chr1:28903-29613   TSS_POL2   TSS   1    \n",
       "3 chr1:777949-779437 TSS_POL2   TSS   1    \n",
       "4 chr1:816774-817547 TSS_POL2   TSS   1    \n",
       "5 chr1:826754-828040 TSS_POL2   TSS   2    \n",
       "6 chr1:876474-878030 TSS_POL2   TSS   1    \n",
       "  Region                                                             \n",
       "1 chr1:17436-17437|chr1:17436-17437|chr1:17436-17437|chr1:17436-17437\n",
       "2 chr1:29370-29371                                                   \n",
       "3 chr1:778634-778635                                                 \n",
       "4 chr1:817370-817371                                                 \n",
       "5 chr1:827522-827523|chr1:827590-827591                              \n",
       "6 chr1:876802-876803                                                 \n",
       "  Score        Note                                   \n",
       "1   9.43812000 MIR6859-1|MIR6859-2|MIR6859-3|MIR6859-4\n",
       "2   0.00023000 WASH7P                                 \n",
       "3 230.56100000 LOC100288069                           \n",
       "4   1.06609000 FAM87B                                 \n",
       "5  64.46295000 LINC00115|LINC01128                    \n",
       "6   0.00788399 FAM41C                                 "
      ]
     },
     "metadata": {},
     "output_type": "display_data"
    }
   ],
   "source": [
    "fdiry = file.path(FD_RES, \"results\", \"region\", \"KS91_K562_ASTARRseq_peak_macs_input\", \"summary\")\n",
    "fname = \"peak.summary.tss_pol2.tsv\"\n",
    "fpath = file.path(fdiry, fname)\n",
    "\n",
    "dat = read_tsv(fpath, show_col_types = FALSE)\n",
    "\n",
    "dat_peak_annot_tss = dat\n",
    "print(dim(dat))\n",
    "head(dat)"
   ]
  },
  {
   "cell_type": "code",
   "execution_count": 33,
   "metadata": {},
   "outputs": [
    {
     "data": {
      "text/html": [
       "<table class=\"dataframe\">\n",
       "<caption>A tibble: 6 × 10</caption>\n",
       "<thead>\n",
       "\t<tr><th scope=col>Chrom_ATAC</th><th scope=col>Start_ATAC</th><th scope=col>End_ATAC</th><th scope=col>Name_ATAC</th><th scope=col>Chrom_Loop</th><th scope=col>Start_Loop</th><th scope=col>End_Loop</th><th scope=col>Name_Loop</th><th scope=col>Loop</th><th scope=col>Distance</th></tr>\n",
       "\t<tr><th scope=col>&lt;chr&gt;</th><th scope=col>&lt;dbl&gt;</th><th scope=col>&lt;dbl&gt;</th><th scope=col>&lt;chr&gt;</th><th scope=col>&lt;chr&gt;</th><th scope=col>&lt;dbl&gt;</th><th scope=col>&lt;dbl&gt;</th><th scope=col>&lt;chr&gt;</th><th scope=col>&lt;chr&gt;</th><th scope=col>&lt;chr&gt;</th></tr>\n",
       "</thead>\n",
       "<tbody>\n",
       "\t<tr><td>chr1</td><td>10015</td><td>10442</td><td>chr1:10015-10442</td><td>chr1</td><td>778000</td><td>779000</td><td>chr1:778000-779000</td><td>chr1:778000-779000|chr1:827000-828000</td><td>767559</td></tr>\n",
       "\t<tr><td>chr1</td><td>14253</td><td>14645</td><td>chr1:14253-14645</td><td>chr1</td><td>778000</td><td>779000</td><td>chr1:778000-779000</td><td>chr1:778000-779000|chr1:827000-828000</td><td>763356</td></tr>\n",
       "\t<tr><td>chr1</td><td>16015</td><td>16477</td><td>chr1:16015-16477</td><td>chr1</td><td>778000</td><td>779000</td><td>chr1:778000-779000</td><td>chr1:778000-779000|chr1:827000-828000</td><td>761524</td></tr>\n",
       "\t<tr><td>chr1</td><td>17237</td><td>17772</td><td>chr1:17237-17772</td><td>chr1</td><td>778000</td><td>779000</td><td>chr1:778000-779000</td><td>chr1:778000-779000|chr1:827000-828000</td><td>760229</td></tr>\n",
       "\t<tr><td>chr1</td><td>28903</td><td>29613</td><td>chr1:28903-29613</td><td>chr1</td><td>778000</td><td>779000</td><td>chr1:778000-779000</td><td>chr1:778000-779000|chr1:827000-828000</td><td>748388</td></tr>\n",
       "\t<tr><td>chr1</td><td>30803</td><td>31072</td><td>chr1:30803-31072</td><td>chr1</td><td>778000</td><td>779000</td><td>chr1:778000-779000</td><td>chr1:778000-779000|chr1:827000-828000</td><td>746929</td></tr>\n",
       "</tbody>\n",
       "</table>\n"
      ],
      "text/latex": [
       "A tibble: 6 × 10\n",
       "\\begin{tabular}{llllllllll}\n",
       " Chrom\\_ATAC & Start\\_ATAC & End\\_ATAC & Name\\_ATAC & Chrom\\_Loop & Start\\_Loop & End\\_Loop & Name\\_Loop & Loop & Distance\\\\\n",
       " <chr> & <dbl> & <dbl> & <chr> & <chr> & <dbl> & <dbl> & <chr> & <chr> & <chr>\\\\\n",
       "\\hline\n",
       "\t chr1 & 10015 & 10442 & chr1:10015-10442 & chr1 & 778000 & 779000 & chr1:778000-779000 & chr1:778000-779000\\textbar{}chr1:827000-828000 & 767559\\\\\n",
       "\t chr1 & 14253 & 14645 & chr1:14253-14645 & chr1 & 778000 & 779000 & chr1:778000-779000 & chr1:778000-779000\\textbar{}chr1:827000-828000 & 763356\\\\\n",
       "\t chr1 & 16015 & 16477 & chr1:16015-16477 & chr1 & 778000 & 779000 & chr1:778000-779000 & chr1:778000-779000\\textbar{}chr1:827000-828000 & 761524\\\\\n",
       "\t chr1 & 17237 & 17772 & chr1:17237-17772 & chr1 & 778000 & 779000 & chr1:778000-779000 & chr1:778000-779000\\textbar{}chr1:827000-828000 & 760229\\\\\n",
       "\t chr1 & 28903 & 29613 & chr1:28903-29613 & chr1 & 778000 & 779000 & chr1:778000-779000 & chr1:778000-779000\\textbar{}chr1:827000-828000 & 748388\\\\\n",
       "\t chr1 & 30803 & 31072 & chr1:30803-31072 & chr1 & 778000 & 779000 & chr1:778000-779000 & chr1:778000-779000\\textbar{}chr1:827000-828000 & 746929\\\\\n",
       "\\end{tabular}\n"
      ],
      "text/markdown": [
       "\n",
       "A tibble: 6 × 10\n",
       "\n",
       "| Chrom_ATAC &lt;chr&gt; | Start_ATAC &lt;dbl&gt; | End_ATAC &lt;dbl&gt; | Name_ATAC &lt;chr&gt; | Chrom_Loop &lt;chr&gt; | Start_Loop &lt;dbl&gt; | End_Loop &lt;dbl&gt; | Name_Loop &lt;chr&gt; | Loop &lt;chr&gt; | Distance &lt;chr&gt; |\n",
       "|---|---|---|---|---|---|---|---|---|---|\n",
       "| chr1 | 10015 | 10442 | chr1:10015-10442 | chr1 | 778000 | 779000 | chr1:778000-779000 | chr1:778000-779000|chr1:827000-828000 | 767559 |\n",
       "| chr1 | 14253 | 14645 | chr1:14253-14645 | chr1 | 778000 | 779000 | chr1:778000-779000 | chr1:778000-779000|chr1:827000-828000 | 763356 |\n",
       "| chr1 | 16015 | 16477 | chr1:16015-16477 | chr1 | 778000 | 779000 | chr1:778000-779000 | chr1:778000-779000|chr1:827000-828000 | 761524 |\n",
       "| chr1 | 17237 | 17772 | chr1:17237-17772 | chr1 | 778000 | 779000 | chr1:778000-779000 | chr1:778000-779000|chr1:827000-828000 | 760229 |\n",
       "| chr1 | 28903 | 29613 | chr1:28903-29613 | chr1 | 778000 | 779000 | chr1:778000-779000 | chr1:778000-779000|chr1:827000-828000 | 748388 |\n",
       "| chr1 | 30803 | 31072 | chr1:30803-31072 | chr1 | 778000 | 779000 | chr1:778000-779000 | chr1:778000-779000|chr1:827000-828000 | 746929 |\n",
       "\n"
      ],
      "text/plain": [
       "  Chrom_ATAC Start_ATAC End_ATAC Name_ATAC        Chrom_Loop Start_Loop\n",
       "1 chr1       10015      10442    chr1:10015-10442 chr1       778000    \n",
       "2 chr1       14253      14645    chr1:14253-14645 chr1       778000    \n",
       "3 chr1       16015      16477    chr1:16015-16477 chr1       778000    \n",
       "4 chr1       17237      17772    chr1:17237-17772 chr1       778000    \n",
       "5 chr1       28903      29613    chr1:28903-29613 chr1       778000    \n",
       "6 chr1       30803      31072    chr1:30803-31072 chr1       778000    \n",
       "  End_Loop Name_Loop          Loop                                  Distance\n",
       "1 779000   chr1:778000-779000 chr1:778000-779000|chr1:827000-828000 767559  \n",
       "2 779000   chr1:778000-779000 chr1:778000-779000|chr1:827000-828000 763356  \n",
       "3 779000   chr1:778000-779000 chr1:778000-779000|chr1:827000-828000 761524  \n",
       "4 779000   chr1:778000-779000 chr1:778000-779000|chr1:827000-828000 760229  \n",
       "5 779000   chr1:778000-779000 chr1:778000-779000|chr1:827000-828000 748388  \n",
       "6 779000   chr1:778000-779000 chr1:778000-779000|chr1:827000-828000 746929  "
      ]
     },
     "metadata": {},
     "output_type": "display_data"
    }
   ],
   "source": [
    "lst = lst_dat_hic_intact\n",
    "head(lst[[1]])"
   ]
  },
  {
   "cell_type": "code",
   "execution_count": 91,
   "metadata": {},
   "outputs": [
    {
     "name": "stdout",
     "output_type": "stream",
     "text": [
      "[1] \"Loop_A\" \"Loop_B\"\n",
      "[1] 121719\n",
      "[1] 65084\n",
      "\n",
      "[1] 126705\n",
      "\u001b[90m# A tibble: 6 × 10\u001b[39m\n",
      "  Chrom_ATAC Start_ATAC End_ATAC Name_ATAC        Chrom_Loop Start_Loop End_Loop\n",
      "  \u001b[3m\u001b[90m<chr>\u001b[39m\u001b[23m           \u001b[3m\u001b[90m<dbl>\u001b[39m\u001b[23m    \u001b[3m\u001b[90m<dbl>\u001b[39m\u001b[23m \u001b[3m\u001b[90m<chr>\u001b[39m\u001b[23m            \u001b[3m\u001b[90m<chr>\u001b[39m\u001b[23m           \u001b[3m\u001b[90m<dbl>\u001b[39m\u001b[23m    \u001b[3m\u001b[90m<dbl>\u001b[39m\u001b[23m\n",
      "\u001b[90m1\u001b[39m chr1           \u001b[4m7\u001b[24m\u001b[4m7\u001b[24m\u001b[4m7\u001b[24m949   \u001b[4m7\u001b[24m\u001b[4m7\u001b[24m\u001b[4m9\u001b[24m437 chr1:777949-779… chr1           \u001b[4m7\u001b[24m\u001b[4m7\u001b[24m\u001b[4m8\u001b[24m000   \u001b[4m7\u001b[24m\u001b[4m7\u001b[24m\u001b[4m9\u001b[24m000\n",
      "\u001b[90m2\u001b[39m chr1           \u001b[4m8\u001b[24m\u001b[4m6\u001b[24m\u001b[4m9\u001b[24m623   \u001b[4m8\u001b[24m\u001b[4m7\u001b[24m\u001b[4m0\u001b[24m250 chr1:869623-870… chr1           \u001b[4m8\u001b[24m\u001b[4m6\u001b[24m\u001b[4m8\u001b[24m000   \u001b[4m8\u001b[24m\u001b[4m7\u001b[24m\u001b[4m0\u001b[24m000\n",
      "\u001b[90m3\u001b[39m chr1           \u001b[4m8\u001b[24m\u001b[4m6\u001b[24m\u001b[4m9\u001b[24m623   \u001b[4m8\u001b[24m\u001b[4m7\u001b[24m\u001b[4m0\u001b[24m250 chr1:869623-870… chr1           \u001b[4m8\u001b[24m\u001b[4m7\u001b[24m\u001b[4m0\u001b[24m000   \u001b[4m8\u001b[24m\u001b[4m7\u001b[24m\u001b[4m2\u001b[24m000\n",
      "\u001b[90m4\u001b[39m chr1           \u001b[4m8\u001b[24m\u001b[4m6\u001b[24m\u001b[4m9\u001b[24m623   \u001b[4m8\u001b[24m\u001b[4m7\u001b[24m\u001b[4m0\u001b[24m250 chr1:869623-870… chr1           \u001b[4m8\u001b[24m\u001b[4m7\u001b[24m\u001b[4m0\u001b[24m000   \u001b[4m8\u001b[24m\u001b[4m7\u001b[24m\u001b[4m2\u001b[24m000\n",
      "\u001b[90m5\u001b[39m chr1           \u001b[4m8\u001b[24m\u001b[4m6\u001b[24m\u001b[4m9\u001b[24m623   \u001b[4m8\u001b[24m\u001b[4m7\u001b[24m\u001b[4m0\u001b[24m250 chr1:869623-870… chr1           \u001b[4m8\u001b[24m\u001b[4m7\u001b[24m\u001b[4m0\u001b[24m000   \u001b[4m8\u001b[24m\u001b[4m7\u001b[24m\u001b[4m5\u001b[24m000\n",
      "\u001b[90m6\u001b[39m chr1           \u001b[4m8\u001b[24m\u001b[4m7\u001b[24m\u001b[4m3\u001b[24m248   \u001b[4m8\u001b[24m\u001b[4m7\u001b[24m\u001b[4m3\u001b[24m781 chr1:873248-873… chr1           \u001b[4m8\u001b[24m\u001b[4m7\u001b[24m\u001b[4m0\u001b[24m000   \u001b[4m8\u001b[24m\u001b[4m7\u001b[24m\u001b[4m5\u001b[24m000\n",
      "\u001b[90m# ℹ 3 more variables: Name_Loop <chr>, Loop <chr>, Distance <chr>\u001b[39m\n",
      "\n",
      "     0 \n",
      "126705 \n",
      "\n",
      "[1] 126276\n",
      "\u001b[90m# A tibble: 6 × 10\u001b[39m\n",
      "  Chrom_ATAC Start_ATAC End_ATAC Name_ATAC        Chrom_Loop Start_Loop End_Loop\n",
      "  \u001b[3m\u001b[90m<chr>\u001b[39m\u001b[23m           \u001b[3m\u001b[90m<dbl>\u001b[39m\u001b[23m    \u001b[3m\u001b[90m<dbl>\u001b[39m\u001b[23m \u001b[3m\u001b[90m<chr>\u001b[39m\u001b[23m            \u001b[3m\u001b[90m<chr>\u001b[39m\u001b[23m           \u001b[3m\u001b[90m<dbl>\u001b[39m\u001b[23m    \u001b[3m\u001b[90m<dbl>\u001b[39m\u001b[23m\n",
      "\u001b[90m1\u001b[39m chr1           \u001b[4m8\u001b[24m\u001b[4m2\u001b[24m\u001b[4m6\u001b[24m754   \u001b[4m8\u001b[24m\u001b[4m2\u001b[24m\u001b[4m8\u001b[24m040 chr1:826754-828… chr1           \u001b[4m8\u001b[24m\u001b[4m2\u001b[24m\u001b[4m7\u001b[24m000   \u001b[4m8\u001b[24m\u001b[4m2\u001b[24m\u001b[4m8\u001b[24m000\n",
      "\u001b[90m2\u001b[39m chr1           \u001b[4m9\u001b[24m\u001b[4m2\u001b[24m\u001b[4m3\u001b[24m417   \u001b[4m9\u001b[24m\u001b[4m2\u001b[24m\u001b[4m5\u001b[24m194 chr1:923417-925… chr1           \u001b[4m9\u001b[24m\u001b[4m2\u001b[24m\u001b[4m3\u001b[24m000   \u001b[4m9\u001b[24m\u001b[4m2\u001b[24m\u001b[4m4\u001b[24m000\n",
      "\u001b[90m3\u001b[39m chr1           \u001b[4m9\u001b[24m\u001b[4m3\u001b[24m\u001b[4m5\u001b[24m605   \u001b[4m9\u001b[24m\u001b[4m3\u001b[24m\u001b[4m6\u001b[24m252 chr1:935605-936… chr1           \u001b[4m9\u001b[24m\u001b[4m3\u001b[24m\u001b[4m5\u001b[24m000   \u001b[4m9\u001b[24m\u001b[4m4\u001b[24m\u001b[4m0\u001b[24m000\n",
      "\u001b[90m4\u001b[39m chr1           \u001b[4m9\u001b[24m\u001b[4m3\u001b[24m\u001b[4m8\u001b[24m228   \u001b[4m9\u001b[24m\u001b[4m3\u001b[24m\u001b[4m8\u001b[24m505 chr1:938228-938… chr1           \u001b[4m9\u001b[24m\u001b[4m3\u001b[24m\u001b[4m5\u001b[24m000   \u001b[4m9\u001b[24m\u001b[4m4\u001b[24m\u001b[4m0\u001b[24m000\n",
      "\u001b[90m5\u001b[39m chr1           \u001b[4m9\u001b[24m\u001b[4m3\u001b[24m\u001b[4m9\u001b[24m127   \u001b[4m9\u001b[24m\u001b[4m3\u001b[24m\u001b[4m9\u001b[24m463 chr1:939127-939… chr1           \u001b[4m9\u001b[24m\u001b[4m3\u001b[24m\u001b[4m5\u001b[24m000   \u001b[4m9\u001b[24m\u001b[4m4\u001b[24m\u001b[4m0\u001b[24m000\n",
      "\u001b[90m6\u001b[39m chr1           \u001b[4m9\u001b[24m\u001b[4m4\u001b[24m\u001b[4m0\u001b[24m325   \u001b[4m9\u001b[24m\u001b[4m4\u001b[24m\u001b[4m3\u001b[24m460 chr1:940325-943… chr1           \u001b[4m9\u001b[24m\u001b[4m4\u001b[24m\u001b[4m0\u001b[24m000   \u001b[4m9\u001b[24m\u001b[4m4\u001b[24m\u001b[4m1\u001b[24m000\n",
      "\u001b[90m# ℹ 3 more variables: Name_Loop <chr>, Loop <chr>, Distance <chr>\u001b[39m\n",
      "\n",
      "     0 \n",
      "126276 \n"
     ]
    }
   ],
   "source": [
    "lst = lst_dat_hic_intact\n",
    "vec = dat_peak_annot_tss$Peak\n",
    "\n",
    "lst = lapply(lst, function(dat){\n",
    "    dat = dat %>% dplyr::filter(Distance == 0)\n",
    "    return(dat)\n",
    "})\n",
    "\n",
    "lst_dat_loop_atac = lst\n",
    "\n",
    "vec = unique(c(lst[[1]]$Loop, lst[[2]]$Loop))\n",
    "vec_txt_loop_atac = vec\n",
    "\n",
    "vec = unique(c(lst[[1]]$Name_ATAC, lst[[2]]$Name_ATAC))\n",
    "vec_txt_peak_atac = vec\n",
    "\n",
    "print(names(lst))\n",
    "print(length(vec_txt_loop_atac))\n",
    "print(length(vec_txt_peak_atac))\n",
    "\n",
    "for (dat in lst){\n",
    "    cat(\"\\n\")\n",
    "    print(nrow(dat))\n",
    "    print(head(dat))\n",
    "    print(table(dat$Distance))\n",
    "}"
   ]
  },
  {
   "cell_type": "code",
   "execution_count": 92,
   "metadata": {},
   "outputs": [
    {
     "name": "stdout",
     "output_type": "stream",
     "text": [
      "[1] \"Loop_A\" \"Loop_B\"\n",
      "[1] 44711\n",
      "[1] 10164\n",
      "\n",
      "[1] 29314\n",
      "\u001b[90m# A tibble: 6 × 10\u001b[39m\n",
      "  Chrom_ATAC Start_ATAC End_ATAC Name_ATAC        Chrom_Loop Start_Loop End_Loop\n",
      "  \u001b[3m\u001b[90m<chr>\u001b[39m\u001b[23m           \u001b[3m\u001b[90m<dbl>\u001b[39m\u001b[23m    \u001b[3m\u001b[90m<dbl>\u001b[39m\u001b[23m \u001b[3m\u001b[90m<chr>\u001b[39m\u001b[23m            \u001b[3m\u001b[90m<chr>\u001b[39m\u001b[23m           \u001b[3m\u001b[90m<dbl>\u001b[39m\u001b[23m    \u001b[3m\u001b[90m<dbl>\u001b[39m\u001b[23m\n",
      "\u001b[90m1\u001b[39m chr1           \u001b[4m7\u001b[24m\u001b[4m7\u001b[24m\u001b[4m7\u001b[24m949   \u001b[4m7\u001b[24m\u001b[4m7\u001b[24m\u001b[4m9\u001b[24m437 chr1:777949-779… chr1           \u001b[4m7\u001b[24m\u001b[4m7\u001b[24m\u001b[4m8\u001b[24m000   \u001b[4m7\u001b[24m\u001b[4m7\u001b[24m\u001b[4m9\u001b[24m000\n",
      "\u001b[90m2\u001b[39m chr1           \u001b[4m9\u001b[24m\u001b[4m2\u001b[24m\u001b[4m5\u001b[24m508   \u001b[4m9\u001b[24m\u001b[4m2\u001b[24m\u001b[4m5\u001b[24m897 chr1:925508-925… chr1           \u001b[4m9\u001b[24m\u001b[4m2\u001b[24m\u001b[4m5\u001b[24m000   \u001b[4m9\u001b[24m\u001b[4m2\u001b[24m\u001b[4m6\u001b[24m000\n",
      "\u001b[90m3\u001b[39m chr1           \u001b[4m9\u001b[24m\u001b[4m5\u001b[24m\u001b[4m8\u001b[24m685   \u001b[4m9\u001b[24m\u001b[4m5\u001b[24m\u001b[4m9\u001b[24m974 chr1:958685-959… chr1           \u001b[4m9\u001b[24m\u001b[4m5\u001b[24m\u001b[4m5\u001b[24m000   \u001b[4m9\u001b[24m\u001b[4m6\u001b[24m\u001b[4m0\u001b[24m000\n",
      "\u001b[90m4\u001b[39m chr1           \u001b[4m9\u001b[24m\u001b[4m5\u001b[24m\u001b[4m8\u001b[24m685   \u001b[4m9\u001b[24m\u001b[4m5\u001b[24m\u001b[4m9\u001b[24m974 chr1:958685-959… chr1           \u001b[4m9\u001b[24m\u001b[4m5\u001b[24m\u001b[4m8\u001b[24m000   \u001b[4m9\u001b[24m\u001b[4m6\u001b[24m\u001b[4m0\u001b[24m000\n",
      "\u001b[90m5\u001b[39m chr1           \u001b[4m9\u001b[24m\u001b[4m5\u001b[24m\u001b[4m8\u001b[24m685   \u001b[4m9\u001b[24m\u001b[4m5\u001b[24m\u001b[4m9\u001b[24m974 chr1:958685-959… chr1           \u001b[4m9\u001b[24m\u001b[4m5\u001b[24m\u001b[4m9\u001b[24m000   \u001b[4m9\u001b[24m\u001b[4m6\u001b[24m\u001b[4m0\u001b[24m000\n",
      "\u001b[90m6\u001b[39m chr1           \u001b[4m9\u001b[24m\u001b[4m9\u001b[24m\u001b[4m8\u001b[24m921  1\u001b[4m0\u001b[24m\u001b[4m0\u001b[24m\u001b[4m1\u001b[24m204 chr1:998921-100… chr1          1\u001b[4m0\u001b[24m\u001b[4m0\u001b[24m\u001b[4m0\u001b[24m000  1\u001b[4m0\u001b[24m\u001b[4m0\u001b[24m\u001b[4m1\u001b[24m000\n",
      "\u001b[90m# ℹ 3 more variables: Name_Loop <chr>, Loop <chr>, Distance <chr>\u001b[39m\n",
      "\n",
      "    0 \n",
      "29314 \n",
      "\n",
      "[1] 29437\n",
      "\u001b[90m# A tibble: 6 × 10\u001b[39m\n",
      "  Chrom_ATAC Start_ATAC End_ATAC Name_ATAC        Chrom_Loop Start_Loop End_Loop\n",
      "  \u001b[3m\u001b[90m<chr>\u001b[39m\u001b[23m           \u001b[3m\u001b[90m<dbl>\u001b[39m\u001b[23m    \u001b[3m\u001b[90m<dbl>\u001b[39m\u001b[23m \u001b[3m\u001b[90m<chr>\u001b[39m\u001b[23m            \u001b[3m\u001b[90m<chr>\u001b[39m\u001b[23m           \u001b[3m\u001b[90m<dbl>\u001b[39m\u001b[23m    \u001b[3m\u001b[90m<dbl>\u001b[39m\u001b[23m\n",
      "\u001b[90m1\u001b[39m chr1           \u001b[4m8\u001b[24m\u001b[4m2\u001b[24m\u001b[4m6\u001b[24m754   \u001b[4m8\u001b[24m\u001b[4m2\u001b[24m\u001b[4m8\u001b[24m040 chr1:826754-828… chr1           \u001b[4m8\u001b[24m\u001b[4m2\u001b[24m\u001b[4m7\u001b[24m000   \u001b[4m8\u001b[24m\u001b[4m2\u001b[24m\u001b[4m8\u001b[24m000\n",
      "\u001b[90m2\u001b[39m chr1           \u001b[4m9\u001b[24m\u001b[4m5\u001b[24m\u001b[4m8\u001b[24m685   \u001b[4m9\u001b[24m\u001b[4m5\u001b[24m\u001b[4m9\u001b[24m974 chr1:958685-959… chr1           \u001b[4m9\u001b[24m\u001b[4m5\u001b[24m\u001b[4m9\u001b[24m000   \u001b[4m9\u001b[24m\u001b[4m6\u001b[24m\u001b[4m0\u001b[24m000\n",
      "\u001b[90m3\u001b[39m chr1           \u001b[4m9\u001b[24m\u001b[4m5\u001b[24m\u001b[4m8\u001b[24m685   \u001b[4m9\u001b[24m\u001b[4m5\u001b[24m\u001b[4m9\u001b[24m974 chr1:958685-959… chr1           \u001b[4m9\u001b[24m\u001b[4m5\u001b[24m\u001b[4m9\u001b[24m000   \u001b[4m9\u001b[24m\u001b[4m6\u001b[24m\u001b[4m0\u001b[24m000\n",
      "\u001b[90m4\u001b[39m chr1           \u001b[4m9\u001b[24m\u001b[4m5\u001b[24m\u001b[4m8\u001b[24m685   \u001b[4m9\u001b[24m\u001b[4m5\u001b[24m\u001b[4m9\u001b[24m974 chr1:958685-959… chr1           \u001b[4m9\u001b[24m\u001b[4m5\u001b[24m\u001b[4m9\u001b[24m000   \u001b[4m9\u001b[24m\u001b[4m6\u001b[24m\u001b[4m0\u001b[24m000\n",
      "\u001b[90m5\u001b[39m chr1           \u001b[4m9\u001b[24m\u001b[4m6\u001b[24m\u001b[4m5\u001b[24m936   \u001b[4m9\u001b[24m\u001b[4m6\u001b[24m\u001b[4m7\u001b[24m556 chr1:965936-967… chr1           \u001b[4m9\u001b[24m\u001b[4m6\u001b[24m\u001b[4m6\u001b[24m000   \u001b[4m9\u001b[24m\u001b[4m6\u001b[24m\u001b[4m8\u001b[24m000\n",
      "\u001b[90m6\u001b[39m chr1           \u001b[4m9\u001b[24m\u001b[4m9\u001b[24m\u001b[4m8\u001b[24m921  1\u001b[4m0\u001b[24m\u001b[4m0\u001b[24m\u001b[4m1\u001b[24m204 chr1:998921-100… chr1          1\u001b[4m0\u001b[24m\u001b[4m0\u001b[24m\u001b[4m0\u001b[24m000  1\u001b[4m0\u001b[24m\u001b[4m0\u001b[24m\u001b[4m1\u001b[24m000\n",
      "\u001b[90m# ℹ 3 more variables: Name_Loop <chr>, Loop <chr>, Distance <chr>\u001b[39m\n",
      "\n",
      "    0 \n",
      "29437 \n"
     ]
    }
   ],
   "source": [
    "lst = lst_dat_hic_intact\n",
    "vec = dat_peak_annot_tss$Peak\n",
    "\n",
    "lst = lapply(lst, function(dat){\n",
    "    dat = dat %>% dplyr::filter(Distance == 0, Name_ATAC %in% vec)\n",
    "    return(dat)\n",
    "})\n",
    "\n",
    "lst_dat_loop_atac = lst\n",
    "\n",
    "vec = unique(c(lst[[1]]$Loop, lst[[2]]$Loop))\n",
    "vec_txt_loop_atac = vec\n",
    "\n",
    "vec = unique(c(lst[[1]]$Name_ATAC, lst[[2]]$Name_ATAC))\n",
    "vec_txt_peak_atac = vec\n",
    "\n",
    "print(names(lst))\n",
    "print(length(vec_txt_loop_atac))\n",
    "print(length(vec_txt_peak_atac))\n",
    "\n",
    "for (dat in lst){\n",
    "    cat(\"\\n\")\n",
    "    print(nrow(dat))\n",
    "    print(head(dat))\n",
    "    print(table(dat$Distance))\n",
    "}"
   ]
  },
  {
   "cell_type": "code",
   "execution_count": null,
   "metadata": {},
   "outputs": [],
   "source": []
  },
  {
   "cell_type": "code",
   "execution_count": 67,
   "metadata": {},
   "outputs": [
    {
     "name": "stdout",
     "output_type": "stream",
     "text": [
      "[1] 128714     13\n"
     ]
    },
    {
     "data": {
      "text/html": [
       "<table class=\"dataframe\">\n",
       "<caption>A tibble: 6 × 13</caption>\n",
       "<thead>\n",
       "\t<tr><th scope=col>Chrom_A</th><th scope=col>Start_A</th><th scope=col>End_A</th><th scope=col>Chrom_B</th><th scope=col>Start_B</th><th scope=col>End_B</th><th scope=col>Loop_A</th><th scope=col>Loop_B</th><th scope=col>Length_A</th><th scope=col>Length_B</th><th scope=col>Distance</th><th scope=col>Loop</th><th scope=col>Label_Distance</th></tr>\n",
       "\t<tr><th scope=col>&lt;chr&gt;</th><th scope=col>&lt;dbl&gt;</th><th scope=col>&lt;dbl&gt;</th><th scope=col>&lt;chr&gt;</th><th scope=col>&lt;dbl&gt;</th><th scope=col>&lt;dbl&gt;</th><th scope=col>&lt;chr&gt;</th><th scope=col>&lt;chr&gt;</th><th scope=col>&lt;dbl&gt;</th><th scope=col>&lt;dbl&gt;</th><th scope=col>&lt;dbl&gt;</th><th scope=col>&lt;chr&gt;</th><th scope=col>&lt;fct&gt;</th></tr>\n",
       "</thead>\n",
       "<tbody>\n",
       "\t<tr><td>chr10</td><td> 72223000</td><td> 72224000</td><td>chr10</td><td> 72328000</td><td> 72329000</td><td>chr10:72223000-72224000  </td><td>chr10:72328000-72329000  </td><td>1000</td><td>1000</td><td> 105000</td><td>chr10:72223000-72224000|chr10:72328000-72329000    </td><td>Q2</td></tr>\n",
       "\t<tr><td>chr10</td><td> 64041000</td><td> 64042000</td><td>chr10</td><td> 67697000</td><td> 67698000</td><td>chr10:64041000-64042000  </td><td>chr10:67697000-67698000  </td><td>1000</td><td>1000</td><td>3656000</td><td>chr10:64041000-64042000|chr10:67697000-67698000    </td><td>Q4</td></tr>\n",
       "\t<tr><td>chr10</td><td> 78302000</td><td> 78304000</td><td>chr10</td><td> 79194000</td><td> 79196000</td><td>chr10:78302000-78304000  </td><td>chr10:79194000-79196000  </td><td>2000</td><td>2000</td><td> 892000</td><td>chr10:78302000-78304000|chr10:79194000-79196000    </td><td>Q4</td></tr>\n",
       "\t<tr><td>chr10</td><td> 13372000</td><td> 13373000</td><td>chr10</td><td> 13404000</td><td> 13405000</td><td>chr10:13372000-13373000  </td><td>chr10:13404000-13405000  </td><td>1000</td><td>1000</td><td>  32000</td><td>chr10:13372000-13373000|chr10:13404000-13405000    </td><td>Q1</td></tr>\n",
       "\t<tr><td>chr10</td><td>132388000</td><td>132389000</td><td>chr10</td><td>132637000</td><td>132638000</td><td>chr10:132388000-132389000</td><td>chr10:132637000-132638000</td><td>1000</td><td>1000</td><td> 249000</td><td>chr10:132388000-132389000|chr10:132637000-132638000</td><td>Q3</td></tr>\n",
       "\t<tr><td>chr10</td><td>114550000</td><td>114552000</td><td>chr10</td><td>114876000</td><td>114878000</td><td>chr10:114550000-114552000</td><td>chr10:114876000-114878000</td><td>2000</td><td>2000</td><td> 326000</td><td>chr10:114550000-114552000|chr10:114876000-114878000</td><td>Q3</td></tr>\n",
       "</tbody>\n",
       "</table>\n"
      ],
      "text/latex": [
       "A tibble: 6 × 13\n",
       "\\begin{tabular}{lllllllllllll}\n",
       " Chrom\\_A & Start\\_A & End\\_A & Chrom\\_B & Start\\_B & End\\_B & Loop\\_A & Loop\\_B & Length\\_A & Length\\_B & Distance & Loop & Label\\_Distance\\\\\n",
       " <chr> & <dbl> & <dbl> & <chr> & <dbl> & <dbl> & <chr> & <chr> & <dbl> & <dbl> & <dbl> & <chr> & <fct>\\\\\n",
       "\\hline\n",
       "\t chr10 &  72223000 &  72224000 & chr10 &  72328000 &  72329000 & chr10:72223000-72224000   & chr10:72328000-72329000   & 1000 & 1000 &  105000 & chr10:72223000-72224000\\textbar{}chr10:72328000-72329000     & Q2\\\\\n",
       "\t chr10 &  64041000 &  64042000 & chr10 &  67697000 &  67698000 & chr10:64041000-64042000   & chr10:67697000-67698000   & 1000 & 1000 & 3656000 & chr10:64041000-64042000\\textbar{}chr10:67697000-67698000     & Q4\\\\\n",
       "\t chr10 &  78302000 &  78304000 & chr10 &  79194000 &  79196000 & chr10:78302000-78304000   & chr10:79194000-79196000   & 2000 & 2000 &  892000 & chr10:78302000-78304000\\textbar{}chr10:79194000-79196000     & Q4\\\\\n",
       "\t chr10 &  13372000 &  13373000 & chr10 &  13404000 &  13405000 & chr10:13372000-13373000   & chr10:13404000-13405000   & 1000 & 1000 &   32000 & chr10:13372000-13373000\\textbar{}chr10:13404000-13405000     & Q1\\\\\n",
       "\t chr10 & 132388000 & 132389000 & chr10 & 132637000 & 132638000 & chr10:132388000-132389000 & chr10:132637000-132638000 & 1000 & 1000 &  249000 & chr10:132388000-132389000\\textbar{}chr10:132637000-132638000 & Q3\\\\\n",
       "\t chr10 & 114550000 & 114552000 & chr10 & 114876000 & 114878000 & chr10:114550000-114552000 & chr10:114876000-114878000 & 2000 & 2000 &  326000 & chr10:114550000-114552000\\textbar{}chr10:114876000-114878000 & Q3\\\\\n",
       "\\end{tabular}\n"
      ],
      "text/markdown": [
       "\n",
       "A tibble: 6 × 13\n",
       "\n",
       "| Chrom_A &lt;chr&gt; | Start_A &lt;dbl&gt; | End_A &lt;dbl&gt; | Chrom_B &lt;chr&gt; | Start_B &lt;dbl&gt; | End_B &lt;dbl&gt; | Loop_A &lt;chr&gt; | Loop_B &lt;chr&gt; | Length_A &lt;dbl&gt; | Length_B &lt;dbl&gt; | Distance &lt;dbl&gt; | Loop &lt;chr&gt; | Label_Distance &lt;fct&gt; |\n",
       "|---|---|---|---|---|---|---|---|---|---|---|---|---|\n",
       "| chr10 |  72223000 |  72224000 | chr10 |  72328000 |  72329000 | chr10:72223000-72224000   | chr10:72328000-72329000   | 1000 | 1000 |  105000 | chr10:72223000-72224000|chr10:72328000-72329000     | Q2 |\n",
       "| chr10 |  64041000 |  64042000 | chr10 |  67697000 |  67698000 | chr10:64041000-64042000   | chr10:67697000-67698000   | 1000 | 1000 | 3656000 | chr10:64041000-64042000|chr10:67697000-67698000     | Q4 |\n",
       "| chr10 |  78302000 |  78304000 | chr10 |  79194000 |  79196000 | chr10:78302000-78304000   | chr10:79194000-79196000   | 2000 | 2000 |  892000 | chr10:78302000-78304000|chr10:79194000-79196000     | Q4 |\n",
       "| chr10 |  13372000 |  13373000 | chr10 |  13404000 |  13405000 | chr10:13372000-13373000   | chr10:13404000-13405000   | 1000 | 1000 |   32000 | chr10:13372000-13373000|chr10:13404000-13405000     | Q1 |\n",
       "| chr10 | 132388000 | 132389000 | chr10 | 132637000 | 132638000 | chr10:132388000-132389000 | chr10:132637000-132638000 | 1000 | 1000 |  249000 | chr10:132388000-132389000|chr10:132637000-132638000 | Q3 |\n",
       "| chr10 | 114550000 | 114552000 | chr10 | 114876000 | 114878000 | chr10:114550000-114552000 | chr10:114876000-114878000 | 2000 | 2000 |  326000 | chr10:114550000-114552000|chr10:114876000-114878000 | Q3 |\n",
       "\n"
      ],
      "text/plain": [
       "  Chrom_A Start_A   End_A     Chrom_B Start_B   End_B    \n",
       "1 chr10    72223000  72224000 chr10    72328000  72329000\n",
       "2 chr10    64041000  64042000 chr10    67697000  67698000\n",
       "3 chr10    78302000  78304000 chr10    79194000  79196000\n",
       "4 chr10    13372000  13373000 chr10    13404000  13405000\n",
       "5 chr10   132388000 132389000 chr10   132637000 132638000\n",
       "6 chr10   114550000 114552000 chr10   114876000 114878000\n",
       "  Loop_A                    Loop_B                    Length_A Length_B\n",
       "1 chr10:72223000-72224000   chr10:72328000-72329000   1000     1000    \n",
       "2 chr10:64041000-64042000   chr10:67697000-67698000   1000     1000    \n",
       "3 chr10:78302000-78304000   chr10:79194000-79196000   2000     2000    \n",
       "4 chr10:13372000-13373000   chr10:13404000-13405000   1000     1000    \n",
       "5 chr10:132388000-132389000 chr10:132637000-132638000 1000     1000    \n",
       "6 chr10:114550000-114552000 chr10:114876000-114878000 2000     2000    \n",
       "  Distance Loop                                                Label_Distance\n",
       "1  105000  chr10:72223000-72224000|chr10:72328000-72329000     Q2            \n",
       "2 3656000  chr10:64041000-64042000|chr10:67697000-67698000     Q4            \n",
       "3  892000  chr10:78302000-78304000|chr10:79194000-79196000     Q4            \n",
       "4   32000  chr10:13372000-13373000|chr10:13404000-13405000     Q1            \n",
       "5  249000  chr10:132388000-132389000|chr10:132637000-132638000 Q3            \n",
       "6  326000  chr10:114550000-114552000|chr10:114876000-114878000 Q3            "
      ]
     },
     "metadata": {},
     "output_type": "display_data"
    }
   ],
   "source": [
    "fdiry = file.path(FD_RES, \"results\", \"region\", FOLDR)\n",
    "fname = \"hic_intact.deep.Loop_info.tsv\"\n",
    "fpath = file.path(fdiry, fname)\n",
    "\n",
    "dat = read_tsv(fpath, show_col_types = FALSE)\n",
    "dat = dat %>% dplyr::mutate(Label_Distance = fun_cut(Distance))\n",
    "\n",
    "dat_loop_info = dat\n",
    "print(dim(dat))\n",
    "head(dat)"
   ]
  },
  {
   "cell_type": "code",
   "execution_count": null,
   "metadata": {},
   "outputs": [],
   "source": []
  },
  {
   "cell_type": "code",
   "execution_count": 69,
   "metadata": {},
   "outputs": [
    {
     "name": "stdout",
     "output_type": "stream",
     "text": [
      "[1] 121719      2\n"
     ]
    },
    {
     "data": {
      "text/html": [
       "<table class=\"dataframe\">\n",
       "<caption>A tibble: 6 × 2</caption>\n",
       "<thead>\n",
       "\t<tr><th scope=col>Loop</th><th scope=col>Label_Distance</th></tr>\n",
       "\t<tr><th scope=col>&lt;chr&gt;</th><th scope=col>&lt;fct&gt;</th></tr>\n",
       "</thead>\n",
       "<tbody>\n",
       "\t<tr><td>chr10:72223000-72224000|chr10:72328000-72329000    </td><td>Q2</td></tr>\n",
       "\t<tr><td>chr10:64041000-64042000|chr10:67697000-67698000    </td><td>Q4</td></tr>\n",
       "\t<tr><td>chr10:78302000-78304000|chr10:79194000-79196000    </td><td>Q4</td></tr>\n",
       "\t<tr><td>chr10:13372000-13373000|chr10:13404000-13405000    </td><td>Q1</td></tr>\n",
       "\t<tr><td>chr10:132388000-132389000|chr10:132637000-132638000</td><td>Q3</td></tr>\n",
       "\t<tr><td>chr10:114550000-114552000|chr10:114876000-114878000</td><td>Q3</td></tr>\n",
       "</tbody>\n",
       "</table>\n"
      ],
      "text/latex": [
       "A tibble: 6 × 2\n",
       "\\begin{tabular}{ll}\n",
       " Loop & Label\\_Distance\\\\\n",
       " <chr> & <fct>\\\\\n",
       "\\hline\n",
       "\t chr10:72223000-72224000\\textbar{}chr10:72328000-72329000     & Q2\\\\\n",
       "\t chr10:64041000-64042000\\textbar{}chr10:67697000-67698000     & Q4\\\\\n",
       "\t chr10:78302000-78304000\\textbar{}chr10:79194000-79196000     & Q4\\\\\n",
       "\t chr10:13372000-13373000\\textbar{}chr10:13404000-13405000     & Q1\\\\\n",
       "\t chr10:132388000-132389000\\textbar{}chr10:132637000-132638000 & Q3\\\\\n",
       "\t chr10:114550000-114552000\\textbar{}chr10:114876000-114878000 & Q3\\\\\n",
       "\\end{tabular}\n"
      ],
      "text/markdown": [
       "\n",
       "A tibble: 6 × 2\n",
       "\n",
       "| Loop &lt;chr&gt; | Label_Distance &lt;fct&gt; |\n",
       "|---|---|\n",
       "| chr10:72223000-72224000|chr10:72328000-72329000     | Q2 |\n",
       "| chr10:64041000-64042000|chr10:67697000-67698000     | Q4 |\n",
       "| chr10:78302000-78304000|chr10:79194000-79196000     | Q4 |\n",
       "| chr10:13372000-13373000|chr10:13404000-13405000     | Q1 |\n",
       "| chr10:132388000-132389000|chr10:132637000-132638000 | Q3 |\n",
       "| chr10:114550000-114552000|chr10:114876000-114878000 | Q3 |\n",
       "\n"
      ],
      "text/plain": [
       "  Loop                                                Label_Distance\n",
       "1 chr10:72223000-72224000|chr10:72328000-72329000     Q2            \n",
       "2 chr10:64041000-64042000|chr10:67697000-67698000     Q4            \n",
       "3 chr10:78302000-78304000|chr10:79194000-79196000     Q4            \n",
       "4 chr10:13372000-13373000|chr10:13404000-13405000     Q1            \n",
       "5 chr10:132388000-132389000|chr10:132637000-132638000 Q3            \n",
       "6 chr10:114550000-114552000|chr10:114876000-114878000 Q3            "
      ]
     },
     "metadata": {},
     "output_type": "display_data"
    }
   ],
   "source": [
    "dat = dat_loop_info\n",
    "vec = vec_txt_loop_atac\n",
    "\n",
    "dat = dat %>% \n",
    "    dplyr::select(Loop, Label_Distance) %>%\n",
    "    dplyr::filter(Loop %in% vec)\n",
    "\n",
    "dat_loop_label_atac = dat\n",
    "print(dim(dat))\n",
    "head(dat)"
   ]
  },
  {
   "cell_type": "code",
   "execution_count": 70,
   "metadata": {},
   "outputs": [
    {
     "name": "stdout",
     "output_type": "stream",
     "text": [
      "[1] 44711     2\n"
     ]
    },
    {
     "data": {
      "text/html": [
       "<table class=\"dataframe\">\n",
       "<caption>A tibble: 6 × 2</caption>\n",
       "<thead>\n",
       "\t<tr><th scope=col>Loop</th><th scope=col>Label_Distance</th></tr>\n",
       "\t<tr><th scope=col>&lt;chr&gt;</th><th scope=col>&lt;fct&gt;</th></tr>\n",
       "</thead>\n",
       "<tbody>\n",
       "\t<tr><td>chr10:17386000-17388000|chr10:17426000-17428000</td><td>Q1</td></tr>\n",
       "\t<tr><td>chr10:94362000-94363000|chr10:94444000-94445000</td><td>Q2</td></tr>\n",
       "\t<tr><td>chr10:74266000-74267000|chr10:75236000-75237000</td><td>Q4</td></tr>\n",
       "\t<tr><td>chr10:12130000-12132000|chr10:12194000-12196000</td><td>Q1</td></tr>\n",
       "\t<tr><td>chr10:79027000-79028000|chr10:79066000-79067000</td><td>Q1</td></tr>\n",
       "\t<tr><td>chr10:4982000-4983000|chr10:5094000-5095000    </td><td>Q2</td></tr>\n",
       "</tbody>\n",
       "</table>\n"
      ],
      "text/latex": [
       "A tibble: 6 × 2\n",
       "\\begin{tabular}{ll}\n",
       " Loop & Label\\_Distance\\\\\n",
       " <chr> & <fct>\\\\\n",
       "\\hline\n",
       "\t chr10:17386000-17388000\\textbar{}chr10:17426000-17428000 & Q1\\\\\n",
       "\t chr10:94362000-94363000\\textbar{}chr10:94444000-94445000 & Q2\\\\\n",
       "\t chr10:74266000-74267000\\textbar{}chr10:75236000-75237000 & Q4\\\\\n",
       "\t chr10:12130000-12132000\\textbar{}chr10:12194000-12196000 & Q1\\\\\n",
       "\t chr10:79027000-79028000\\textbar{}chr10:79066000-79067000 & Q1\\\\\n",
       "\t chr10:4982000-4983000\\textbar{}chr10:5094000-5095000     & Q2\\\\\n",
       "\\end{tabular}\n"
      ],
      "text/markdown": [
       "\n",
       "A tibble: 6 × 2\n",
       "\n",
       "| Loop &lt;chr&gt; | Label_Distance &lt;fct&gt; |\n",
       "|---|---|\n",
       "| chr10:17386000-17388000|chr10:17426000-17428000 | Q1 |\n",
       "| chr10:94362000-94363000|chr10:94444000-94445000 | Q2 |\n",
       "| chr10:74266000-74267000|chr10:75236000-75237000 | Q4 |\n",
       "| chr10:12130000-12132000|chr10:12194000-12196000 | Q1 |\n",
       "| chr10:79027000-79028000|chr10:79066000-79067000 | Q1 |\n",
       "| chr10:4982000-4983000|chr10:5094000-5095000     | Q2 |\n",
       "\n"
      ],
      "text/plain": [
       "  Loop                                            Label_Distance\n",
       "1 chr10:17386000-17388000|chr10:17426000-17428000 Q1            \n",
       "2 chr10:94362000-94363000|chr10:94444000-94445000 Q2            \n",
       "3 chr10:74266000-74267000|chr10:75236000-75237000 Q4            \n",
       "4 chr10:12130000-12132000|chr10:12194000-12196000 Q1            \n",
       "5 chr10:79027000-79028000|chr10:79066000-79067000 Q1            \n",
       "6 chr10:4982000-4983000|chr10:5094000-5095000     Q2            "
      ]
     },
     "metadata": {},
     "output_type": "display_data"
    }
   ],
   "source": [
    "dat = dat_loop_info\n",
    "vec = vec_txt_loop_tss\n",
    "\n",
    "dat = dat %>% \n",
    "    dplyr::select(Loop, Label_Distance) %>%\n",
    "    dplyr::filter(Loop %in% vec)\n",
    "\n",
    "dat_loop_label_tss = dat\n",
    "print(dim(dat))\n",
    "head(dat)"
   ]
  },
  {
   "cell_type": "code",
   "execution_count": null,
   "metadata": {},
   "outputs": [],
   "source": []
  },
  {
   "cell_type": "code",
   "execution_count": 87,
   "metadata": {},
   "outputs": [
    {
     "data": {
      "text/html": [
       "<table class=\"dataframe\">\n",
       "<caption>A data.frame: 8 × 5</caption>\n",
       "<thead>\n",
       "\t<tr><th scope=col>Category</th><th scope=col>Distance</th><th scope=col>Count</th><th scope=col>Total</th><th scope=col>Freq</th></tr>\n",
       "\t<tr><th scope=col>&lt;chr&gt;</th><th scope=col>&lt;fct&gt;</th><th scope=col>&lt;int&gt;</th><th scope=col>&lt;int&gt;</th><th scope=col>&lt;dbl&gt;</th></tr>\n",
       "</thead>\n",
       "<tbody>\n",
       "\t<tr><td>Looped_ATAC_TOT</td><td>Q1</td><td>29616</td><td>121719</td><td>0.2433145</td></tr>\n",
       "\t<tr><td>Looped_ATAC_TOT</td><td>Q2</td><td>30924</td><td>121719</td><td>0.2540606</td></tr>\n",
       "\t<tr><td>Looped_ATAC_TOT</td><td>Q3</td><td>31158</td><td>121719</td><td>0.2559830</td></tr>\n",
       "\t<tr><td>Looped_ATAC_TOT</td><td>Q4</td><td>30021</td><td>121719</td><td>0.2466419</td></tr>\n",
       "\t<tr><td>Looped_ATAC_TSS</td><td>Q1</td><td>13000</td><td> 44711</td><td>0.2907562</td></tr>\n",
       "\t<tr><td>Looped_ATAC_TSS</td><td>Q2</td><td>12088</td><td> 44711</td><td>0.2703585</td></tr>\n",
       "\t<tr><td>Looped_ATAC_TSS</td><td>Q3</td><td>10441</td><td> 44711</td><td>0.2335220</td></tr>\n",
       "\t<tr><td>Looped_ATAC_TSS</td><td>Q4</td><td> 9182</td><td> 44711</td><td>0.2053633</td></tr>\n",
       "</tbody>\n",
       "</table>\n"
      ],
      "text/latex": [
       "A data.frame: 8 × 5\n",
       "\\begin{tabular}{lllll}\n",
       " Category & Distance & Count & Total & Freq\\\\\n",
       " <chr> & <fct> & <int> & <int> & <dbl>\\\\\n",
       "\\hline\n",
       "\t Looped\\_ATAC\\_TOT & Q1 & 29616 & 121719 & 0.2433145\\\\\n",
       "\t Looped\\_ATAC\\_TOT & Q2 & 30924 & 121719 & 0.2540606\\\\\n",
       "\t Looped\\_ATAC\\_TOT & Q3 & 31158 & 121719 & 0.2559830\\\\\n",
       "\t Looped\\_ATAC\\_TOT & Q4 & 30021 & 121719 & 0.2466419\\\\\n",
       "\t Looped\\_ATAC\\_TSS & Q1 & 13000 &  44711 & 0.2907562\\\\\n",
       "\t Looped\\_ATAC\\_TSS & Q2 & 12088 &  44711 & 0.2703585\\\\\n",
       "\t Looped\\_ATAC\\_TSS & Q3 & 10441 &  44711 & 0.2335220\\\\\n",
       "\t Looped\\_ATAC\\_TSS & Q4 &  9182 &  44711 & 0.2053633\\\\\n",
       "\\end{tabular}\n"
      ],
      "text/markdown": [
       "\n",
       "A data.frame: 8 × 5\n",
       "\n",
       "| Category &lt;chr&gt; | Distance &lt;fct&gt; | Count &lt;int&gt; | Total &lt;int&gt; | Freq &lt;dbl&gt; |\n",
       "|---|---|---|---|---|\n",
       "| Looped_ATAC_TOT | Q1 | 29616 | 121719 | 0.2433145 |\n",
       "| Looped_ATAC_TOT | Q2 | 30924 | 121719 | 0.2540606 |\n",
       "| Looped_ATAC_TOT | Q3 | 31158 | 121719 | 0.2559830 |\n",
       "| Looped_ATAC_TOT | Q4 | 30021 | 121719 | 0.2466419 |\n",
       "| Looped_ATAC_TSS | Q1 | 13000 |  44711 | 0.2907562 |\n",
       "| Looped_ATAC_TSS | Q2 | 12088 |  44711 | 0.2703585 |\n",
       "| Looped_ATAC_TSS | Q3 | 10441 |  44711 | 0.2335220 |\n",
       "| Looped_ATAC_TSS | Q4 |  9182 |  44711 | 0.2053633 |\n",
       "\n"
      ],
      "text/plain": [
       "  Category        Distance Count Total  Freq     \n",
       "1 Looped_ATAC_TOT Q1       29616 121719 0.2433145\n",
       "2 Looped_ATAC_TOT Q2       30924 121719 0.2540606\n",
       "3 Looped_ATAC_TOT Q3       31158 121719 0.2559830\n",
       "4 Looped_ATAC_TOT Q4       30021 121719 0.2466419\n",
       "5 Looped_ATAC_TSS Q1       13000  44711 0.2907562\n",
       "6 Looped_ATAC_TSS Q2       12088  44711 0.2703585\n",
       "7 Looped_ATAC_TSS Q3       10441  44711 0.2335220\n",
       "8 Looped_ATAC_TSS Q4        9182  44711 0.2053633"
      ]
     },
     "metadata": {},
     "output_type": "display_data"
    }
   ],
   "source": [
    "lst = list(\n",
    "    \"Looped_ATAC_TOT\" = dat_loop_label_atac,\n",
    "    \"Looped_ATAC_TSS\" = dat_loop_label_tss\n",
    ")\n",
    "\n",
    "lst = lapply(lst, function(dat){\n",
    "    vec = dat$Label_Distance\n",
    "    dat = as.data.frame(table(vec))\n",
    "    colnames(dat) = c(\"Distance\", \"Count\")\n",
    "    return(dat)\n",
    "})\n",
    "\n",
    "dat = bind_rows(lst, .id = \"Category\")\n",
    "res = dat %>% \n",
    "    dplyr::group_by(Category) %>% \n",
    "    dplyr::summarise(Total = sum(Count))\n",
    "\n",
    "dat = dplyr::left_join(dat, res, by=\"Category\")\n",
    "dat = dat %>% dplyr::mutate(Freq = Count / Total)\n",
    "\n",
    "dat_loop_count = dat\n",
    "dat"
   ]
  },
  {
   "cell_type": "code",
   "execution_count": 95,
   "metadata": {},
   "outputs": [
    {
     "data": {
      "image/png": "[encoded data removed]",
      "text/plain": [
       "plot without title"
      ]
     },
     "metadata": {
      "image/png": {
       "height": 180,
       "width": 600
      }
     },
     "output_type": "display_data"
    }
   ],
   "source": [
    "dat = dat_loop_count\n",
    "gpt = ggplot(dat, aes(x=Count, y=Category, fill=Distance)) +\n",
    "    geom_bar(stat=\"identity\") +\n",
    "    scale_fill_brewer(palette=\"Reds\") +\n",
    "    labs(x=\"Count\", y=\"Category\") +\n",
    "    theme_cowplot()\n",
    "\n",
    "options(repr.plot.height=3, repr.plot.width=10)\n",
    "print(gpt)"
   ]
  },
  {
   "cell_type": "code",
   "execution_count": 96,
   "metadata": {},
   "outputs": [
    {
     "data": {
      "image/png": "[encoded data removed]",
      "text/plain": [
       "plot without title"
      ]
     },
     "metadata": {
      "image/png": {
       "height": 180,
       "width": 600
      }
     },
     "output_type": "display_data"
    }
   ],
   "source": [
    "dat = dat_loop_count\n",
    "gpt = ggplot(dat, aes(x=Freq, y=Category, fill=Distance)) +\n",
    "    geom_bar(stat=\"identity\") +\n",
    "    scale_fill_brewer(palette=\"Reds\") +\n",
    "    labs(x=\"Frequency\", y=\"Category\") +\n",
    "    theme_cowplot()\n",
    "\n",
    "options(repr.plot.height=3, repr.plot.width=10)\n",
    "print(gpt)"
   ]
  },
  {
   "cell_type": "code",
   "execution_count": null,
   "metadata": {},
   "outputs": [],
   "source": []
  }
 ],
 "metadata": {
  "kernelspec": {
   "display_name": "R",
   "language": "R",
   "name": "ir"
  },
  "language_info": {
   "codemirror_mode": "r",
   "file_extension": ".r",
   "mimetype": "text/x-r-source",
   "name": "R",
   "pygments_lexer": "r",
   "version": "4.3.1"
  }
 },
 "nbformat": 4,
 "nbformat_minor": 4
}
