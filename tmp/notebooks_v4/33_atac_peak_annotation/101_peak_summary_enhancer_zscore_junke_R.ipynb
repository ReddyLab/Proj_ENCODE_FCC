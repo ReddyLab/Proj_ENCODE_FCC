{
 "cells": [
  {
   "cell_type": "markdown",
   "metadata": {},
   "source": [
    "**Set environment**"
   ]
  },
  {
   "cell_type": "code",
   "execution_count": 1,
   "metadata": {},
   "outputs": [
    {
     "name": "stdout",
     "output_type": "stream",
     "text": [
      "You are in Singularity: singularity_proj_encode_fcc \n",
      "BASE DIRECTORY (FD_BASE): /data/reddylab/Kuei \n",
      "WORK DIRECTORY (FD_WORK): /data/reddylab/Kuei/out \n",
      "CODE DIRECTORY (FD_CODE): /data/reddylab/Kuei/code \n",
      "PATH OF PROJECT (FD_PRJ): /data/reddylab/Kuei/code/Proj_CombEffect_ENCODE_FCC \n",
      "PATH OF RESULTS (FD_RES): /data/reddylab/Kuei/out/proj_combeffect_encode_fcc \n",
      "PATH OF LOG     (FD_LOG): /data/reddylab/Kuei/out/proj_combeffect_encode_fcc/log \n"
     ]
    }
   ],
   "source": [
    "suppressMessages(suppressWarnings(source(\"../config/config_sing.R\")))\n",
    "show_env()"
   ]
  },
  {
   "cell_type": "markdown",
   "metadata": {},
   "source": [
    "**Check data**"
   ]
  },
  {
   "cell_type": "code",
   "execution_count": 2,
   "metadata": {},
   "outputs": [],
   "source": [
    "FOLDER=\"annotation_enhancer_zscore_junke\""
   ]
  },
  {
   "cell_type": "code",
   "execution_count": 3,
   "metadata": {},
   "outputs": [
    {
     "name": "stdout",
     "output_type": "stream",
     "text": [
      "[1] \"description.tsv\"\n",
      "[1] \"enhancer_zscore_junke.inactive.ASTARR.bed.gz\"\n",
      "[1] \"enhancer_zscore_junke.inactive.ASTARR.merge.bed.gz\"\n",
      "[1] \"enhancer_zscore_junke.inactive.LMPRA.bed.gz\"\n",
      "[1] \"enhancer_zscore_junke.inactive.LMPRA.merge.bed.gz\"\n",
      "[1] \"enhancer_zscore_junke.inactive.TMPRA_OL13.bed.gz\"\n",
      "[1] \"enhancer_zscore_junke.inactive.TMPRA_OL43.bed.gz\"\n",
      "[1] \"enhancer_zscore_junke.inactive.TMPRA_OL45.bed.gz\"\n",
      "[1] \"enhancer_zscore_junke.inactive.TMPRA.bed.gz\"\n",
      "[1] \"enhancer_zscore_junke.inactive.TMPRA.merge.bed.gz\"\n",
      "[1] \"enhancer_zscore_junke.inactive.WSTARR.bed.gz\"\n",
      "[1] \"enhancer_zscore_junke.inactive.WSTARR.merge.bed.gz\"\n",
      "[1] \"enhancer_zscore_junke.peak.ASTARR_A.bed.gz\"\n",
      "[1] \"enhancer_zscore_junke.peak.ASTARR_AB.bed.gz\"\n",
      "[1] \"enhancer_zscore_junke.peak.ASTARR_R.bed.gz\"\n",
      "[1] \"enhancer_zscore_junke.peak.ASTARR.concat.bed.gz\"\n",
      "[1] \"enhancer_zscore_junke.peak.ASTARR.merge.bed.gz\"\n",
      "[1] \"enhancer_zscore_junke.peak.LMPRA_A.bed.gz\"\n",
      "[1] \"enhancer_zscore_junke.peak.LMPRA_AB.bed.gz\"\n",
      "[1] \"enhancer_zscore_junke.peak.LMPRA_R.bed.gz\"\n",
      "[1] \"enhancer_zscore_junke.peak.LMPRA.concat.bed.gz\"\n",
      "[1] \"enhancer_zscore_junke.peak.LMPRA.merge.bed.gz\"\n",
      "[1] \"enhancer_zscore_junke.peak.TMPRA_A.bed.gz\"\n",
      "[1] \"enhancer_zscore_junke.peak.TMPRA_R.bed.gz\"\n",
      "[1] \"enhancer_zscore_junke.peak.TMPRA.concat.bed.gz\"\n",
      "[1] \"enhancer_zscore_junke.peak.TMPRA.merge.bed.gz\"\n",
      "[1] \"enhancer_zscore_junke.peak.WSTARR_A.bed.gz\"\n",
      "[1] \"enhancer_zscore_junke.peak.WSTARR_AB.bed.gz\"\n",
      "[1] \"enhancer_zscore_junke.peak.WSTARR_R.bed.gz\"\n",
      "[1] \"enhancer_zscore_junke.peak.WSTARR.concat.bed.gz\"\n",
      "[1] \"enhancer_zscore_junke.peak.WSTARR.merge.bed.gz\"\n",
      "[1] \"tmp\"\n"
     ]
    }
   ],
   "source": [
    "fdiry = file.path(\n",
    "    FD_RES, \n",
    "    \"results\", \n",
    "    \"region\", \n",
    "    FOLDER)\n",
    "for(fname in dir(fdiry)){print(fname)}"
   ]
  },
  {
   "cell_type": "code",
   "execution_count": 4,
   "metadata": {},
   "outputs": [
    {
     "name": "stdout",
     "output_type": "stream",
     "text": [
      "[1] \"peak.annotation.enhancer_zscore_junke.peak.ASTARR_A.bed.gz\"\n",
      "[1] \"peak.annotation.enhancer_zscore_junke.peak.ASTARR_AB.bed.gz\"\n",
      "[1] \"peak.annotation.enhancer_zscore_junke.peak.ASTARR_R.bed.gz\"\n",
      "[1] \"peak.annotation.enhancer_zscore_junke.peak.ASTARR.concat.bed.gz\"\n",
      "[1] \"peak.annotation.enhancer_zscore_junke.peak.LMPRA_A.bed.gz\"\n",
      "[1] \"peak.annotation.enhancer_zscore_junke.peak.LMPRA_AB.bed.gz\"\n",
      "[1] \"peak.annotation.enhancer_zscore_junke.peak.LMPRA_R.bed.gz\"\n",
      "[1] \"peak.annotation.enhancer_zscore_junke.peak.LMPRA.concat.bed.gz\"\n",
      "[1] \"peak.annotation.enhancer_zscore_junke.peak.TMPRA_A.bed.gz\"\n",
      "[1] \"peak.annotation.enhancer_zscore_junke.peak.TMPRA_R.bed.gz\"\n",
      "[1] \"peak.annotation.enhancer_zscore_junke.peak.TMPRA.concat.bed.gz\"\n",
      "[1] \"peak.annotation.enhancer_zscore_junke.peak.WSTARR_A.bed.gz\"\n",
      "[1] \"peak.annotation.enhancer_zscore_junke.peak.WSTARR_AB.bed.gz\"\n",
      "[1] \"peak.annotation.enhancer_zscore_junke.peak.WSTARR_R.bed.gz\"\n",
      "[1] \"peak.annotation.enhancer_zscore_junke.peak.WSTARR.concat.bed.gz\"\n"
     ]
    }
   ],
   "source": [
    "fdiry = file.path(\n",
    "    FD_RES, \n",
    "    \"results\", \n",
    "    \"region\", \n",
    "    \"KS91_K562_ASTARRseq_peak_macs_input\", \n",
    "    FOLDER)\n",
    "\n",
    "fnames = dir(fdiry)\n",
    "fnames = grep(\"peak.annotation\", fnames, value = TRUE)\n",
    "fnames = grep(\"merge\", fnames, value = TRUE, invert = TRUE)\n",
    "for(fname in fnames){print(fname)}"
   ]
  },
  {
   "cell_type": "markdown",
   "metadata": {},
   "source": [
    "## Import data"
   ]
  },
  {
   "cell_type": "code",
   "execution_count": 5,
   "metadata": {},
   "outputs": [
    {
     "name": "stdout",
     "output_type": "stream",
     "text": [
      "[1] 9 2\n"
     ]
    },
    {
     "data": {
      "text/html": [
       "<table class=\"dataframe\">\n",
       "<caption>A spec_tbl_df: 9 × 2</caption>\n",
       "<thead>\n",
       "\t<tr><th scope=col>Name</th><th scope=col>Description</th></tr>\n",
       "\t<tr><th scope=col>&lt;chr&gt;</th><th scope=col>&lt;chr&gt;</th></tr>\n",
       "</thead>\n",
       "<tbody>\n",
       "\t<tr><td>Chrom      </td><td>Seqnames                   </td></tr>\n",
       "\t<tr><td>Start      </td><td>Start                      </td></tr>\n",
       "\t<tr><td>End        </td><td>End                        </td></tr>\n",
       "\t<tr><td>Name       </td><td>Name                       </td></tr>\n",
       "\t<tr><td>Score      </td><td>Z_score based on mean logFC</td></tr>\n",
       "\t<tr><td>Strand     </td><td>Strand                     </td></tr>\n",
       "\t<tr><td>Assay_Type </td><td>Assay type                 </td></tr>\n",
       "\t<tr><td>Assay_Label</td><td>Assay label                </td></tr>\n",
       "\t<tr><td>Dataset    </td><td>Dataset                    </td></tr>\n",
       "</tbody>\n",
       "</table>\n"
      ],
      "text/latex": [
       "A spec\\_tbl\\_df: 9 × 2\n",
       "\\begin{tabular}{ll}\n",
       " Name & Description\\\\\n",
       " <chr> & <chr>\\\\\n",
       "\\hline\n",
       "\t Chrom       & Seqnames                   \\\\\n",
       "\t Start       & Start                      \\\\\n",
       "\t End         & End                        \\\\\n",
       "\t Name        & Name                       \\\\\n",
       "\t Score       & Z\\_score based on mean logFC\\\\\n",
       "\t Strand      & Strand                     \\\\\n",
       "\t Assay\\_Type  & Assay type                 \\\\\n",
       "\t Assay\\_Label & Assay label                \\\\\n",
       "\t Dataset     & Dataset                    \\\\\n",
       "\\end{tabular}\n"
      ],
      "text/markdown": [
       "\n",
       "A spec_tbl_df: 9 × 2\n",
       "\n",
       "| Name &lt;chr&gt; | Description &lt;chr&gt; |\n",
       "|---|---|\n",
       "| Chrom       | Seqnames                    |\n",
       "| Start       | Start                       |\n",
       "| End         | End                         |\n",
       "| Name        | Name                        |\n",
       "| Score       | Z_score based on mean logFC |\n",
       "| Strand      | Strand                      |\n",
       "| Assay_Type  | Assay type                  |\n",
       "| Assay_Label | Assay label                 |\n",
       "| Dataset     | Dataset                     |\n",
       "\n"
      ],
      "text/plain": [
       "  Name        Description                \n",
       "1 Chrom       Seqnames                   \n",
       "2 Start       Start                      \n",
       "3 End         End                        \n",
       "4 Name        Name                       \n",
       "5 Score       Z_score based on mean logFC\n",
       "6 Strand      Strand                     \n",
       "7 Assay_Type  Assay type                 \n",
       "8 Assay_Label Assay label                \n",
       "9 Dataset     Dataset                    "
      ]
     },
     "metadata": {},
     "output_type": "display_data"
    }
   ],
   "source": [
    "fdiry  = file.path(FD_RES, \"results\", \"region\", FOLDER)\n",
    "fname = \"description.tsv\"\n",
    "fpath = file.path(fdiry, fname)\n",
    "\n",
    "dat = read_tsv(fpath, show_col_types = FALSE)\n",
    "\n",
    "dat_cnames = dat\n",
    "print(dim(dat))\n",
    "dat"
   ]
  },
  {
   "cell_type": "code",
   "execution_count": 6,
   "metadata": {},
   "outputs": [
    {
     "data": {
      "text/html": [
       "<ol>\n",
       "</ol>\n"
      ],
      "text/latex": [
       "\\begin{enumerate}\n",
       "\\end{enumerate}\n"
      ],
      "text/markdown": [
       "\n",
       "\n"
      ],
      "text/plain": [
       "list()"
      ]
     },
     "metadata": {},
     "output_type": "display_data"
    }
   ],
   "source": [
    "fnames = dir(fdiry)\n",
    "fnames = grep(\"peak.annotation\", fnames, value = TRUE)\n",
    "fnames = grep(\"merge\", fnames, value = TRUE, invert = TRUE)\n",
    "fnames %>% \n",
    "    str_split(., \"\\\\.\") %>%\n",
    "    lapply(., FUN = `[`, 5)"
   ]
  },
  {
   "cell_type": "code",
   "execution_count": 9,
   "metadata": {},
   "outputs": [
    {
     "name": "stdout",
     "output_type": "stream",
     "text": [
      "                                                         ASTARR_A \n",
      "     \"peak.annotation.enhancer_zscore_junke.peak.ASTARR_A.bed.gz\" \n",
      "                                                        ASTARR_AB \n",
      "    \"peak.annotation.enhancer_zscore_junke.peak.ASTARR_AB.bed.gz\" \n",
      "                                                         ASTARR_R \n",
      "     \"peak.annotation.enhancer_zscore_junke.peak.ASTARR_R.bed.gz\" \n",
      "                                                           ASTARR \n",
      "\"peak.annotation.enhancer_zscore_junke.peak.ASTARR.concat.bed.gz\" \n",
      "                                                          LMPRA_A \n",
      "      \"peak.annotation.enhancer_zscore_junke.peak.LMPRA_A.bed.gz\" \n",
      "                                                         LMPRA_AB \n",
      "     \"peak.annotation.enhancer_zscore_junke.peak.LMPRA_AB.bed.gz\" \n",
      "                                                          LMPRA_R \n",
      "      \"peak.annotation.enhancer_zscore_junke.peak.LMPRA_R.bed.gz\" \n",
      "                                                            LMPRA \n",
      " \"peak.annotation.enhancer_zscore_junke.peak.LMPRA.concat.bed.gz\" \n",
      "                                                          TMPRA_A \n",
      "      \"peak.annotation.enhancer_zscore_junke.peak.TMPRA_A.bed.gz\" \n",
      "                                                          TMPRA_R \n",
      "      \"peak.annotation.enhancer_zscore_junke.peak.TMPRA_R.bed.gz\" \n",
      "                                                            TMPRA \n",
      " \"peak.annotation.enhancer_zscore_junke.peak.TMPRA.concat.bed.gz\" \n",
      "                                                         WSTARR_A \n",
      "     \"peak.annotation.enhancer_zscore_junke.peak.WSTARR_A.bed.gz\" \n",
      "                                                        WSTARR_AB \n",
      "    \"peak.annotation.enhancer_zscore_junke.peak.WSTARR_AB.bed.gz\" \n",
      "                                                         WSTARR_R \n",
      "     \"peak.annotation.enhancer_zscore_junke.peak.WSTARR_R.bed.gz\" \n",
      "                                                           WSTARR \n",
      "\"peak.annotation.enhancer_zscore_junke.peak.WSTARR.concat.bed.gz\" \n"
     ]
    }
   ],
   "source": [
    "### init: set column names\n",
    "cnames = dat_cnames$Name\n",
    "cnames = c(\"Chrom_ATAC\", \"Start_ATAC\", \"End_ATAC\", cnames, \"Overlap\")\n",
    "\n",
    "### init: set file path\n",
    "fdiry = file.path(\n",
    "    FD_RES, \n",
    "    \"results\", \n",
    "    \"region\", \n",
    "    \"KS91_K562_ASTARRseq_peak_macs_input\", \n",
    "    FOLDER)\n",
    "\n",
    "fnames = dir(fdiry)\n",
    "fnames = grep(\"peak.annotation\", fnames, value = TRUE)\n",
    "fnames = grep(\"merge\", fnames, value = TRUE, invert = TRUE)\n",
    "fpaths = file.path(fdiry, fnames)\n",
    "#fname  = paste(\"peak.annotation\", \"peak\", \"bed.gz\", sep=\"*\")\n",
    "#fglob  = file.path(fdiry, fname)\n",
    "#fpaths = Sys.glob(fglob)\n",
    "#fnames = basename(fpaths)\n",
    "\n",
    "### init: annotation and label\n",
    "annotation = \"Enhancer_ZScore\"\n",
    "labels = fnames %>% \n",
    "    str_split(., \"\\\\.\") %>%\n",
    "    lapply(., FUN = `[`, 5)\n",
    "#labels     = fnames %>% \n",
    "#    str_split(., \"\\\\.\") %>%\n",
    "#    do.call(rbind, .) %>%\n",
    "#    as.data.frame %>%\n",
    "#    dplyr::pull(5)\n",
    "\n",
    "names(fnames) = labels\n",
    "names(labels) = labels\n",
    "print(fnames)"
   ]
  },
  {
   "cell_type": "code",
   "execution_count": 11,
   "metadata": {},
   "outputs": [
    {
     "name": "stdout",
     "output_type": "stream",
     "text": [
      "[1] 15\n",
      "=========================\n",
      " [1] \"ASTARR_A\"  \"ASTARR_AB\" \"ASTARR_R\"  \"ASTARR\"    \"LMPRA_A\"   \"LMPRA_AB\" \n",
      " [7] \"LMPRA_R\"   \"LMPRA\"     \"TMPRA_A\"   \"TMPRA_R\"   \"TMPRA\"     \"WSTARR_A\" \n",
      "[13] \"WSTARR_AB\" \"WSTARR_R\"  \"WSTARR\"   \n",
      "=========================\n"
     ]
    },
    {
     "data": {
      "text/html": [
       "<table class=\"dataframe\">\n",
       "<caption>A tibble: 6 × 19</caption>\n",
       "<thead>\n",
       "\t<tr><th scope=col>Chrom_ATAC</th><th scope=col>Start_ATAC</th><th scope=col>End_ATAC</th><th scope=col>Chrom</th><th scope=col>Start</th><th scope=col>End</th><th scope=col>Name</th><th scope=col>Score</th><th scope=col>Strand</th><th scope=col>Assay_Type</th><th scope=col>Assay_Label</th><th scope=col>Dataset</th><th scope=col>Overlap</th><th scope=col>Peak_ATAC</th><th scope=col>Annotation</th><th scope=col>Label</th><th scope=col>Region</th><th scope=col>Value</th><th scope=col>Note</th></tr>\n",
       "\t<tr><th scope=col>&lt;chr&gt;</th><th scope=col>&lt;dbl&gt;</th><th scope=col>&lt;dbl&gt;</th><th scope=col>&lt;chr&gt;</th><th scope=col>&lt;dbl&gt;</th><th scope=col>&lt;dbl&gt;</th><th scope=col>&lt;chr&gt;</th><th scope=col>&lt;dbl&gt;</th><th scope=col>&lt;chr&gt;</th><th scope=col>&lt;chr&gt;</th><th scope=col>&lt;chr&gt;</th><th scope=col>&lt;chr&gt;</th><th scope=col>&lt;dbl&gt;</th><th scope=col>&lt;chr&gt;</th><th scope=col>&lt;chr&gt;</th><th scope=col>&lt;chr&gt;</th><th scope=col>&lt;chr&gt;</th><th scope=col>&lt;dbl&gt;</th><th scope=col>&lt;chr&gt;</th></tr>\n",
       "</thead>\n",
       "<tbody>\n",
       "\t<tr><td>chr1</td><td> 777949</td><td> 779437</td><td>chr1</td><td> 778720</td><td> 778830</td><td>peak1</td><td>2.009577</td><td>.</td><td>ASTARR</td><td>ASTARR_A</td><td>ASTARR_TR</td><td>110</td><td>chr1:777949-779437  </td><td>Enhancer_ZScore</td><td>ASTARR_A</td><td>chr1:778720-778830  </td><td>2.009577</td><td>ASTARR_A</td></tr>\n",
       "\t<tr><td>chr1</td><td>1012902</td><td>1014502</td><td>chr1</td><td>1013010</td><td>1013570</td><td>peak2</td><td>2.155097</td><td>.</td><td>ASTARR</td><td>ASTARR_A</td><td>ASTARR_TR</td><td>560</td><td>chr1:1012902-1014502</td><td>Enhancer_ZScore</td><td>ASTARR_A</td><td>chr1:1013010-1013570</td><td>2.155097</td><td>ASTARR_A</td></tr>\n",
       "\t<tr><td>chr1</td><td>1063757</td><td>1064554</td><td>chr1</td><td>1064280</td><td>1064450</td><td>peak3</td><td>2.201032</td><td>.</td><td>ASTARR</td><td>ASTARR_A</td><td>ASTARR_TR</td><td>170</td><td>chr1:1063757-1064554</td><td>Enhancer_ZScore</td><td>ASTARR_A</td><td>chr1:1064280-1064450</td><td>2.201032</td><td>ASTARR_A</td></tr>\n",
       "\t<tr><td>chr1</td><td>1200699</td><td>1201823</td><td>chr1</td><td>1200920</td><td>1201050</td><td>peak5</td><td>2.375591</td><td>.</td><td>ASTARR</td><td>ASTARR_A</td><td>ASTARR_TR</td><td>130</td><td>chr1:1200699-1201823</td><td>Enhancer_ZScore</td><td>ASTARR_A</td><td>chr1:1200920-1201050</td><td>2.375591</td><td>ASTARR_A</td></tr>\n",
       "\t<tr><td>chr1</td><td>1304789</td><td>1306435</td><td>chr1</td><td>1305780</td><td>1305880</td><td>peak6</td><td>1.990023</td><td>.</td><td>ASTARR</td><td>ASTARR_A</td><td>ASTARR_TR</td><td>100</td><td>chr1:1304789-1306435</td><td>Enhancer_ZScore</td><td>ASTARR_A</td><td>chr1:1305780-1305880</td><td>1.990023</td><td>ASTARR_A</td></tr>\n",
       "\t<tr><td>chr1</td><td>1344582</td><td>1346157</td><td>chr1</td><td>1344940</td><td>1345110</td><td>peak7</td><td>2.086690</td><td>.</td><td>ASTARR</td><td>ASTARR_A</td><td>ASTARR_TR</td><td>170</td><td>chr1:1344582-1346157</td><td>Enhancer_ZScore</td><td>ASTARR_A</td><td>chr1:1344940-1345110</td><td>2.086690</td><td>ASTARR_A</td></tr>\n",
       "</tbody>\n",
       "</table>\n"
      ],
      "text/latex": [
       "A tibble: 6 × 19\n",
       "\\begin{tabular}{lllllllllllllllllll}\n",
       " Chrom\\_ATAC & Start\\_ATAC & End\\_ATAC & Chrom & Start & End & Name & Score & Strand & Assay\\_Type & Assay\\_Label & Dataset & Overlap & Peak\\_ATAC & Annotation & Label & Region & Value & Note\\\\\n",
       " <chr> & <dbl> & <dbl> & <chr> & <dbl> & <dbl> & <chr> & <dbl> & <chr> & <chr> & <chr> & <chr> & <dbl> & <chr> & <chr> & <chr> & <chr> & <dbl> & <chr>\\\\\n",
       "\\hline\n",
       "\t chr1 &  777949 &  779437 & chr1 &  778720 &  778830 & peak1 & 2.009577 & . & ASTARR & ASTARR\\_A & ASTARR\\_TR & 110 & chr1:777949-779437   & Enhancer\\_ZScore & ASTARR\\_A & chr1:778720-778830   & 2.009577 & ASTARR\\_A\\\\\n",
       "\t chr1 & 1012902 & 1014502 & chr1 & 1013010 & 1013570 & peak2 & 2.155097 & . & ASTARR & ASTARR\\_A & ASTARR\\_TR & 560 & chr1:1012902-1014502 & Enhancer\\_ZScore & ASTARR\\_A & chr1:1013010-1013570 & 2.155097 & ASTARR\\_A\\\\\n",
       "\t chr1 & 1063757 & 1064554 & chr1 & 1064280 & 1064450 & peak3 & 2.201032 & . & ASTARR & ASTARR\\_A & ASTARR\\_TR & 170 & chr1:1063757-1064554 & Enhancer\\_ZScore & ASTARR\\_A & chr1:1064280-1064450 & 2.201032 & ASTARR\\_A\\\\\n",
       "\t chr1 & 1200699 & 1201823 & chr1 & 1200920 & 1201050 & peak5 & 2.375591 & . & ASTARR & ASTARR\\_A & ASTARR\\_TR & 130 & chr1:1200699-1201823 & Enhancer\\_ZScore & ASTARR\\_A & chr1:1200920-1201050 & 2.375591 & ASTARR\\_A\\\\\n",
       "\t chr1 & 1304789 & 1306435 & chr1 & 1305780 & 1305880 & peak6 & 1.990023 & . & ASTARR & ASTARR\\_A & ASTARR\\_TR & 100 & chr1:1304789-1306435 & Enhancer\\_ZScore & ASTARR\\_A & chr1:1305780-1305880 & 1.990023 & ASTARR\\_A\\\\\n",
       "\t chr1 & 1344582 & 1346157 & chr1 & 1344940 & 1345110 & peak7 & 2.086690 & . & ASTARR & ASTARR\\_A & ASTARR\\_TR & 170 & chr1:1344582-1346157 & Enhancer\\_ZScore & ASTARR\\_A & chr1:1344940-1345110 & 2.086690 & ASTARR\\_A\\\\\n",
       "\\end{tabular}\n"
      ],
      "text/markdown": [
       "\n",
       "A tibble: 6 × 19\n",
       "\n",
       "| Chrom_ATAC &lt;chr&gt; | Start_ATAC &lt;dbl&gt; | End_ATAC &lt;dbl&gt; | Chrom &lt;chr&gt; | Start &lt;dbl&gt; | End &lt;dbl&gt; | Name &lt;chr&gt; | Score &lt;dbl&gt; | Strand &lt;chr&gt; | Assay_Type &lt;chr&gt; | Assay_Label &lt;chr&gt; | Dataset &lt;chr&gt; | Overlap &lt;dbl&gt; | Peak_ATAC &lt;chr&gt; | Annotation &lt;chr&gt; | Label &lt;chr&gt; | Region &lt;chr&gt; | Value &lt;dbl&gt; | Note &lt;chr&gt; |\n",
       "|---|---|---|---|---|---|---|---|---|---|---|---|---|---|---|---|---|---|---|\n",
       "| chr1 |  777949 |  779437 | chr1 |  778720 |  778830 | peak1 | 2.009577 | . | ASTARR | ASTARR_A | ASTARR_TR | 110 | chr1:777949-779437   | Enhancer_ZScore | ASTARR_A | chr1:778720-778830   | 2.009577 | ASTARR_A |\n",
       "| chr1 | 1012902 | 1014502 | chr1 | 1013010 | 1013570 | peak2 | 2.155097 | . | ASTARR | ASTARR_A | ASTARR_TR | 560 | chr1:1012902-1014502 | Enhancer_ZScore | ASTARR_A | chr1:1013010-1013570 | 2.155097 | ASTARR_A |\n",
       "| chr1 | 1063757 | 1064554 | chr1 | 1064280 | 1064450 | peak3 | 2.201032 | . | ASTARR | ASTARR_A | ASTARR_TR | 170 | chr1:1063757-1064554 | Enhancer_ZScore | ASTARR_A | chr1:1064280-1064450 | 2.201032 | ASTARR_A |\n",
       "| chr1 | 1200699 | 1201823 | chr1 | 1200920 | 1201050 | peak5 | 2.375591 | . | ASTARR | ASTARR_A | ASTARR_TR | 130 | chr1:1200699-1201823 | Enhancer_ZScore | ASTARR_A | chr1:1200920-1201050 | 2.375591 | ASTARR_A |\n",
       "| chr1 | 1304789 | 1306435 | chr1 | 1305780 | 1305880 | peak6 | 1.990023 | . | ASTARR | ASTARR_A | ASTARR_TR | 100 | chr1:1304789-1306435 | Enhancer_ZScore | ASTARR_A | chr1:1305780-1305880 | 1.990023 | ASTARR_A |\n",
       "| chr1 | 1344582 | 1346157 | chr1 | 1344940 | 1345110 | peak7 | 2.086690 | . | ASTARR | ASTARR_A | ASTARR_TR | 170 | chr1:1344582-1346157 | Enhancer_ZScore | ASTARR_A | chr1:1344940-1345110 | 2.086690 | ASTARR_A |\n",
       "\n"
      ],
      "text/plain": [
       "  Chrom_ATAC Start_ATAC End_ATAC Chrom Start   End     Name  Score    Strand\n",
       "1 chr1        777949     779437  chr1   778720  778830 peak1 2.009577 .     \n",
       "2 chr1       1012902    1014502  chr1  1013010 1013570 peak2 2.155097 .     \n",
       "3 chr1       1063757    1064554  chr1  1064280 1064450 peak3 2.201032 .     \n",
       "4 chr1       1200699    1201823  chr1  1200920 1201050 peak5 2.375591 .     \n",
       "5 chr1       1304789    1306435  chr1  1305780 1305880 peak6 1.990023 .     \n",
       "6 chr1       1344582    1346157  chr1  1344940 1345110 peak7 2.086690 .     \n",
       "  Assay_Type Assay_Label Dataset   Overlap Peak_ATAC            Annotation     \n",
       "1 ASTARR     ASTARR_A    ASTARR_TR 110     chr1:777949-779437   Enhancer_ZScore\n",
       "2 ASTARR     ASTARR_A    ASTARR_TR 560     chr1:1012902-1014502 Enhancer_ZScore\n",
       "3 ASTARR     ASTARR_A    ASTARR_TR 170     chr1:1063757-1064554 Enhancer_ZScore\n",
       "4 ASTARR     ASTARR_A    ASTARR_TR 130     chr1:1200699-1201823 Enhancer_ZScore\n",
       "5 ASTARR     ASTARR_A    ASTARR_TR 100     chr1:1304789-1306435 Enhancer_ZScore\n",
       "6 ASTARR     ASTARR_A    ASTARR_TR 170     chr1:1344582-1346157 Enhancer_ZScore\n",
       "  Label    Region               Value    Note    \n",
       "1 ASTARR_A chr1:778720-778830   2.009577 ASTARR_A\n",
       "2 ASTARR_A chr1:1013010-1013570 2.155097 ASTARR_A\n",
       "3 ASTARR_A chr1:1064280-1064450 2.201032 ASTARR_A\n",
       "4 ASTARR_A chr1:1200920-1201050 2.375591 ASTARR_A\n",
       "5 ASTARR_A chr1:1305780-1305880 1.990023 ASTARR_A\n",
       "6 ASTARR_A chr1:1344940-1345110 2.086690 ASTARR_A"
      ]
     },
     "metadata": {},
     "output_type": "display_data"
    }
   ],
   "source": [
    "### Import data\n",
    "lst = lapply(labels, function(label){\n",
    "    ### set file path\n",
    "    fname = fnames[label]\n",
    "    fpath = file.path(fdiry, fname)\n",
    "    \n",
    "    ### read data\n",
    "    dat = read_tsv(fpath, col_names = cnames, show_col_types = FALSE)\n",
    "    dat = dat %>% dplyr::mutate(\n",
    "        Peak_ATAC  = paste0(Chrom_ATAC, \":\", Start_ATAC, \"-\", End_ATAC),\n",
    "        Annotation = annotation,\n",
    "        Label      = label,\n",
    "        Region     = paste0(Chrom, \":\", Start, \"-\", End),\n",
    "        Value      = Score,\n",
    "        Note       = Assay_Label\n",
    "    )\n",
    "    return(dat)\n",
    "})\n",
    "\n",
    "### assign and show\n",
    "lst_peak_annot_import = lst\n",
    "print(length(lst))\n",
    "cat(\"=========================\\n\")\n",
    "print(names(lst))\n",
    "cat(\"=========================\\n\")\n",
    "head(lst[[1]])"
   ]
  },
  {
   "cell_type": "markdown",
   "metadata": {},
   "source": [
    "## Arrange and summarize"
   ]
  },
  {
   "cell_type": "code",
   "execution_count": 12,
   "metadata": {},
   "outputs": [
    {
     "name": "stdout",
     "output_type": "stream",
     "text": [
      "[1] 15\n",
      "=========================\n",
      " [1] \"ASTARR_A\"  \"ASTARR_AB\" \"ASTARR_R\"  \"ASTARR\"    \"LMPRA_A\"   \"LMPRA_AB\" \n",
      " [7] \"LMPRA_R\"   \"LMPRA\"     \"TMPRA_A\"   \"TMPRA_R\"   \"TMPRA\"     \"WSTARR_A\" \n",
      "[13] \"WSTARR_AB\" \"WSTARR_R\"  \"WSTARR\"   \n",
      "=========================\n"
     ]
    },
    {
     "data": {
      "text/html": [
       "<table class=\"dataframe\">\n",
       "<caption>A tibble: 6 × 7</caption>\n",
       "<thead>\n",
       "\t<tr><th scope=col>Peak</th><th scope=col>Annotation</th><th scope=col>Label</th><th scope=col>Count</th><th scope=col>Region</th><th scope=col>Score</th><th scope=col>Note</th></tr>\n",
       "\t<tr><th scope=col>&lt;chr&gt;</th><th scope=col>&lt;chr&gt;</th><th scope=col>&lt;chr&gt;</th><th scope=col>&lt;int&gt;</th><th scope=col>&lt;chr&gt;</th><th scope=col>&lt;dbl&gt;</th><th scope=col>&lt;chr&gt;</th></tr>\n",
       "</thead>\n",
       "<tbody>\n",
       "\t<tr><td>chr1:777949-779437  </td><td>Enhancer_ZScore</td><td>ASTARR_A</td><td>1</td><td>chr1:778720-778830  </td><td>2.009577</td><td>ASTARR_A</td></tr>\n",
       "\t<tr><td>chr1:1012902-1014502</td><td>Enhancer_ZScore</td><td>ASTARR_A</td><td>1</td><td>chr1:1013010-1013570</td><td>2.155097</td><td>ASTARR_A</td></tr>\n",
       "\t<tr><td>chr1:1063757-1064554</td><td>Enhancer_ZScore</td><td>ASTARR_A</td><td>1</td><td>chr1:1064280-1064450</td><td>2.201032</td><td>ASTARR_A</td></tr>\n",
       "\t<tr><td>chr1:1200699-1201823</td><td>Enhancer_ZScore</td><td>ASTARR_A</td><td>1</td><td>chr1:1200920-1201050</td><td>2.375591</td><td>ASTARR_A</td></tr>\n",
       "\t<tr><td>chr1:1304789-1306435</td><td>Enhancer_ZScore</td><td>ASTARR_A</td><td>1</td><td>chr1:1305780-1305880</td><td>1.990023</td><td>ASTARR_A</td></tr>\n",
       "\t<tr><td>chr1:1344582-1346157</td><td>Enhancer_ZScore</td><td>ASTARR_A</td><td>1</td><td>chr1:1344940-1345110</td><td>2.086690</td><td>ASTARR_A</td></tr>\n",
       "</tbody>\n",
       "</table>\n"
      ],
      "text/latex": [
       "A tibble: 6 × 7\n",
       "\\begin{tabular}{lllllll}\n",
       " Peak & Annotation & Label & Count & Region & Score & Note\\\\\n",
       " <chr> & <chr> & <chr> & <int> & <chr> & <dbl> & <chr>\\\\\n",
       "\\hline\n",
       "\t chr1:777949-779437   & Enhancer\\_ZScore & ASTARR\\_A & 1 & chr1:778720-778830   & 2.009577 & ASTARR\\_A\\\\\n",
       "\t chr1:1012902-1014502 & Enhancer\\_ZScore & ASTARR\\_A & 1 & chr1:1013010-1013570 & 2.155097 & ASTARR\\_A\\\\\n",
       "\t chr1:1063757-1064554 & Enhancer\\_ZScore & ASTARR\\_A & 1 & chr1:1064280-1064450 & 2.201032 & ASTARR\\_A\\\\\n",
       "\t chr1:1200699-1201823 & Enhancer\\_ZScore & ASTARR\\_A & 1 & chr1:1200920-1201050 & 2.375591 & ASTARR\\_A\\\\\n",
       "\t chr1:1304789-1306435 & Enhancer\\_ZScore & ASTARR\\_A & 1 & chr1:1305780-1305880 & 1.990023 & ASTARR\\_A\\\\\n",
       "\t chr1:1344582-1346157 & Enhancer\\_ZScore & ASTARR\\_A & 1 & chr1:1344940-1345110 & 2.086690 & ASTARR\\_A\\\\\n",
       "\\end{tabular}\n"
      ],
      "text/markdown": [
       "\n",
       "A tibble: 6 × 7\n",
       "\n",
       "| Peak &lt;chr&gt; | Annotation &lt;chr&gt; | Label &lt;chr&gt; | Count &lt;int&gt; | Region &lt;chr&gt; | Score &lt;dbl&gt; | Note &lt;chr&gt; |\n",
       "|---|---|---|---|---|---|---|\n",
       "| chr1:777949-779437   | Enhancer_ZScore | ASTARR_A | 1 | chr1:778720-778830   | 2.009577 | ASTARR_A |\n",
       "| chr1:1012902-1014502 | Enhancer_ZScore | ASTARR_A | 1 | chr1:1013010-1013570 | 2.155097 | ASTARR_A |\n",
       "| chr1:1063757-1064554 | Enhancer_ZScore | ASTARR_A | 1 | chr1:1064280-1064450 | 2.201032 | ASTARR_A |\n",
       "| chr1:1200699-1201823 | Enhancer_ZScore | ASTARR_A | 1 | chr1:1200920-1201050 | 2.375591 | ASTARR_A |\n",
       "| chr1:1304789-1306435 | Enhancer_ZScore | ASTARR_A | 1 | chr1:1305780-1305880 | 1.990023 | ASTARR_A |\n",
       "| chr1:1344582-1346157 | Enhancer_ZScore | ASTARR_A | 1 | chr1:1344940-1345110 | 2.086690 | ASTARR_A |\n",
       "\n"
      ],
      "text/plain": [
       "  Peak                 Annotation      Label    Count Region              \n",
       "1 chr1:777949-779437   Enhancer_ZScore ASTARR_A 1     chr1:778720-778830  \n",
       "2 chr1:1012902-1014502 Enhancer_ZScore ASTARR_A 1     chr1:1013010-1013570\n",
       "3 chr1:1063757-1064554 Enhancer_ZScore ASTARR_A 1     chr1:1064280-1064450\n",
       "4 chr1:1200699-1201823 Enhancer_ZScore ASTARR_A 1     chr1:1200920-1201050\n",
       "5 chr1:1304789-1306435 Enhancer_ZScore ASTARR_A 1     chr1:1305780-1305880\n",
       "6 chr1:1344582-1346157 Enhancer_ZScore ASTARR_A 1     chr1:1344940-1345110\n",
       "  Score    Note    \n",
       "1 2.009577 ASTARR_A\n",
       "2 2.155097 ASTARR_A\n",
       "3 2.201032 ASTARR_A\n",
       "4 2.375591 ASTARR_A\n",
       "5 1.990023 ASTARR_A\n",
       "6 2.086690 ASTARR_A"
      ]
     },
     "metadata": {},
     "output_type": "display_data"
    }
   ],
   "source": [
    "### init\n",
    "lst = lst_peak_annot_import\n",
    "\n",
    "lst = lapply(lst, function(dat){\n",
    "    ### summarize\n",
    "    dat = dat %>%\n",
    "        dplyr::group_by(Chrom_ATAC, Start_ATAC, End_ATAC, Peak_ATAC, Annotation, Label) %>%\n",
    "        dplyr::summarise(\n",
    "            Count  = n(), \n",
    "            Region = paste(Region, collapse=\"|\"),\n",
    "            Score  = mean(Value),\n",
    "            Note   = paste(sort(unique(Note)), collapse=\"|\"),\n",
    "            .groups = \"drop\")\n",
    "    \n",
    "    ### Arrange\n",
    "    dat = dat %>% \n",
    "        dplyr::arrange(Chrom_ATAC, Start_ATAC, End_ATAC) %>%\n",
    "        dplyr::select(-Chrom_ATAC, -Start_ATAC, -End_ATAC) %>%\n",
    "        dplyr::rename(\"Peak\" = Peak_ATAC)\n",
    "    return(dat)\n",
    "})\n",
    "\n",
    "### assign and show\n",
    "lst_peak_annot_summary = lst\n",
    "print(length(lst))\n",
    "cat(\"=========================\\n\")\n",
    "print(names(lst))\n",
    "cat(\"=========================\\n\")\n",
    "head(lst[[1]])"
   ]
  },
  {
   "cell_type": "markdown",
   "metadata": {},
   "source": [
    "## Explore and check results"
   ]
  },
  {
   "cell_type": "code",
   "execution_count": 13,
   "metadata": {},
   "outputs": [
    {
     "name": "stdout",
     "output_type": "stream",
     "text": [
      "$ASTARR_AB\n",
      "\n",
      "ASTARR_AB \n",
      "     2799 \n",
      "\n",
      "$ASTARR_A\n",
      "\n",
      "ASTARR_A \n",
      "    7427 \n",
      "\n",
      "$ASTARR_R\n",
      "\n",
      "ASTARR_R \n",
      "   11371 \n",
      "\n",
      "$ASTARR\n",
      "\n",
      "                   ASTARR_A          ASTARR_A|ASTARR_AB \n",
      "                       3680                        2593 \n",
      "ASTARR_A|ASTARR_AB|ASTARR_R           ASTARR_A|ASTARR_R \n",
      "                        181                         973 \n",
      "                  ASTARR_AB          ASTARR_AB|ASTARR_R \n",
      "                         19                           6 \n",
      "                   ASTARR_R \n",
      "                      10211 \n",
      "\n"
     ]
    }
   ],
   "source": [
    "lst = lst_peak_annot_summary\n",
    "lst = lst[c(\"ASTARR_AB\", \"ASTARR_A\", \"ASTARR_R\", \"ASTARR\")]\n",
    "lst = lapply(lst, function(dat){\n",
    "    res = table(dat$Note)\n",
    "    return(res)\n",
    "})\n",
    "print(lst)"
   ]
  },
  {
   "cell_type": "code",
   "execution_count": 14,
   "metadata": {},
   "outputs": [
    {
     "name": "stdout",
     "output_type": "stream",
     "text": [
      "$ASTARR_AB\n",
      "\n",
      "   1    2    3 \n",
      "2746   51    2 \n",
      "\n",
      "$ASTARR_A\n",
      "\n",
      "   1    2    3    4    5 \n",
      "6778  599   44    4    2 \n",
      "\n",
      "$ASTARR_R\n",
      "\n",
      "   1    2    3    4    5    6    7   10 \n",
      "7669 2618  797  214   53   13    6    1 \n",
      "\n",
      "$ASTARR\n",
      "\n",
      "    1     2     3     4     5     6     7     8     9    11 \n",
      "10351  5523  1248   389   102    33    11     3     2     1 \n",
      "\n"
     ]
    }
   ],
   "source": [
    "lst = lst_peak_annot_summary\n",
    "lst = lst[c(\"ASTARR_AB\", \"ASTARR_A\", \"ASTARR_R\", \"ASTARR\")]\n",
    "lst = lapply(lst, function(dat){\n",
    "    res =  table(dat$Count)\n",
    "    return(res)\n",
    "})\n",
    "print(lst)"
   ]
  },
  {
   "cell_type": "markdown",
   "metadata": {},
   "source": [
    "## Save results"
   ]
  },
  {
   "cell_type": "code",
   "execution_count": 15,
   "metadata": {},
   "outputs": [
    {
     "name": "stdout",
     "output_type": "stream",
     "text": [
      "[1] \"peak.summary.enhancer_zscore_junke.ASTARR_A.tsv\"\n",
      "[1] \"peak.summary.enhancer_zscore_junke.ASTARR_AB.tsv\"\n",
      "[1] \"peak.summary.enhancer_zscore_junke.ASTARR_R.tsv\"\n",
      "[1] \"peak.summary.enhancer_zscore_junke.ASTARR.tsv\"\n",
      "[1] \"peak.summary.enhancer_zscore_junke.LMPRA_A.tsv\"\n",
      "[1] \"peak.summary.enhancer_zscore_junke.LMPRA_AB.tsv\"\n",
      "[1] \"peak.summary.enhancer_zscore_junke.LMPRA_R.tsv\"\n",
      "[1] \"peak.summary.enhancer_zscore_junke.LMPRA.tsv\"\n",
      "[1] \"peak.summary.enhancer_zscore_junke.TMPRA_A.tsv\"\n",
      "[1] \"peak.summary.enhancer_zscore_junke.TMPRA_R.tsv\"\n",
      "[1] \"peak.summary.enhancer_zscore_junke.TMPRA.tsv\"\n",
      "[1] \"peak.summary.enhancer_zscore_junke.WSTARR_A.tsv\"\n",
      "[1] \"peak.summary.enhancer_zscore_junke.WSTARR_AB.tsv\"\n",
      "[1] \"peak.summary.enhancer_zscore_junke.WSTARR_R.tsv\"\n",
      "[1] \"peak.summary.enhancer_zscore_junke.WSTARR.tsv\"\n"
     ]
    }
   ],
   "source": [
    "fdiry = file.path(\n",
    "    FD_RES, \n",
    "    \"results\", \n",
    "    \"region\", \n",
    "    \"KS91_K562_ASTARRseq_peak_macs_input\", \n",
    "    \"summary\")\n",
    "\n",
    "lst = lst_peak_annot_summary\n",
    "for (idn in names(lst)){\n",
    "    fname = paste(\"peak.summary.enhancer_zscore_junke\", idn,\"tsv\", sep=\".\")\n",
    "    fpath = file.path(fdiry, fname)\n",
    "    print(fname)\n",
    "    flush.console()\n",
    "    \n",
    "    dat = lst[[idn]]\n",
    "    write_tsv(dat, fpath)\n",
    "}"
   ]
  },
  {
   "cell_type": "code",
   "execution_count": null,
   "metadata": {},
   "outputs": [],
   "source": []
  }
 ],
 "metadata": {
  "kernelspec": {
   "display_name": "R",
   "language": "R",
   "name": "ir"
  },
  "language_info": {
   "codemirror_mode": "r",
   "file_extension": ".r",
   "mimetype": "text/x-r-source",
   "name": "R",
   "pygments_lexer": "r",
   "version": "4.3.1"
  }
 },
 "nbformat": 4,
 "nbformat_minor": 4
}
