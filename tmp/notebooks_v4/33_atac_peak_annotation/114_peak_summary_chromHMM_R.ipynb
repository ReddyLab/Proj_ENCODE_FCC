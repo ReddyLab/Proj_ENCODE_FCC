{
 "cells": [
  {
   "cell_type": "markdown",
   "metadata": {},
   "source": [
    "**Set environment**"
   ]
  },
  {
   "cell_type": "code",
   "execution_count": 1,
   "metadata": {},
   "outputs": [
    {
     "name": "stdout",
     "output_type": "stream",
     "text": [
      "You are in Singularity: singularity_proj_encode_fcc \n",
      "BASE DIRECTORY (FD_BASE): /data/reddylab/Kuei \n",
      "WORK DIRECTORY (FD_WORK): /data/reddylab/Kuei/out \n",
      "CODE DIRECTORY (FD_CODE): /data/reddylab/Kuei/code \n",
      "PATH OF PROJECT (FD_PRJ): /data/reddylab/Kuei/code/Proj_CombEffect_ENCODE_FCC \n",
      "PATH OF RESULTS (FD_RES): /data/reddylab/Kuei/out/proj_combeffect_encode_fcc \n",
      "PATH OF LOG     (FD_LOG): /data/reddylab/Kuei/out/proj_combeffect_encode_fcc/log \n"
     ]
    }
   ],
   "source": [
    "suppressMessages(suppressWarnings(source(\"../config/config_sing.R\")))\n",
    "show_env()"
   ]
  },
  {
   "cell_type": "markdown",
   "metadata": {},
   "source": [
    "**Check data**"
   ]
  },
  {
   "cell_type": "code",
   "execution_count": 3,
   "metadata": {},
   "outputs": [],
   "source": [
    "FOLDER = \"annotation_chromHMM\""
   ]
  },
  {
   "cell_type": "code",
   "execution_count": 4,
   "metadata": {},
   "outputs": [
    {
     "name": "stdout",
     "output_type": "stream",
     "text": [
      "[1] \"ChIP_ENCSR000EWA-ENCSR000AKP-ENCSR000EWC-ENCSR000DWB-ENCSR000EWB-ENCSR000APE.bed\"\n",
      "[1] \"description.tsv\"\n",
      "[1] \"K562.ENCSR365YNI.ENCFF106BGJ.ChromHMM.bed.gz\"\n"
     ]
    }
   ],
   "source": [
    "fdiry = file.path(\n",
    "    FD_RES, \n",
    "    \"results\", \n",
    "    \"region\", \n",
    "    FOLDER)\n",
    "for(fname in dir(fdiry)){print(fname)}"
   ]
  },
  {
   "cell_type": "code",
   "execution_count": 5,
   "metadata": {},
   "outputs": [
    {
     "name": "stdout",
     "output_type": "stream",
     "text": [
      "[1] \"peak.annotation.ChIP_ENCSR000EWA-ENCSR000AKP-ENCSR000EWC-ENCSR000DWB-ENCSR000EWB-ENCSR000APE.bed.gz\"\n",
      "[1] \"peak.annotation.K562.ENCSR365YNI.ENCFF106BGJ.ChromHMM.bed.gz\"\n"
     ]
    }
   ],
   "source": [
    "fdiry = file.path(\n",
    "    FD_RES, \n",
    "    \"results\", \n",
    "    \"region\", \n",
    "    \"KS91_K562_ASTARRseq_peak_macs_input\", \n",
    "    FOLDER)\n",
    "for(fname in dir(fdiry)){print(fname)}"
   ]
  },
  {
   "cell_type": "markdown",
   "metadata": {},
   "source": [
    "## Import data"
   ]
  },
  {
   "cell_type": "code",
   "execution_count": 6,
   "metadata": {},
   "outputs": [
    {
     "name": "stdout",
     "output_type": "stream",
     "text": [
      "[1] 9 2\n"
     ]
    },
    {
     "data": {
      "text/html": [
       "<table class=\"dataframe\">\n",
       "<caption>A spec_tbl_df: 9 × 2</caption>\n",
       "<thead>\n",
       "\t<tr><th scope=col>Name</th><th scope=col>Description</th></tr>\n",
       "\t<tr><th scope=col>&lt;chr&gt;</th><th scope=col>&lt;chr&gt;</th></tr>\n",
       "</thead>\n",
       "<tbody>\n",
       "\t<tr><td>Chrom     </td><td>Chromosome                                                 </td></tr>\n",
       "\t<tr><td>Start     </td><td>Start position                                             </td></tr>\n",
       "\t<tr><td>End       </td><td>End position                                               </td></tr>\n",
       "\t<tr><td>Name      </td><td>ChromHMM Label; 15 state ChIP-seq model                    </td></tr>\n",
       "\t<tr><td>Score     </td><td>Score                                                      </td></tr>\n",
       "\t<tr><td>Strand    </td><td>[+-.]; Use '.' if no strand is assigned.                   </td></tr>\n",
       "\t<tr><td>ThickStart</td><td>The starting position at which the feature is drawn thickly</td></tr>\n",
       "\t<tr><td>ThickEnd  </td><td>The ending position at which the feature is drawn thickly  </td></tr>\n",
       "\t<tr><td>ItemRgb   </td><td>An RGB value of the form R,G,B (e.g. 255,0,0)              </td></tr>\n",
       "</tbody>\n",
       "</table>\n"
      ],
      "text/latex": [
       "A spec\\_tbl\\_df: 9 × 2\n",
       "\\begin{tabular}{ll}\n",
       " Name & Description\\\\\n",
       " <chr> & <chr>\\\\\n",
       "\\hline\n",
       "\t Chrom      & Chromosome                                                 \\\\\n",
       "\t Start      & Start position                                             \\\\\n",
       "\t End        & End position                                               \\\\\n",
       "\t Name       & ChromHMM Label; 15 state ChIP-seq model                    \\\\\n",
       "\t Score      & Score                                                      \\\\\n",
       "\t Strand     & {[}+-.{]}; Use '.' if no strand is assigned.                   \\\\\n",
       "\t ThickStart & The starting position at which the feature is drawn thickly\\\\\n",
       "\t ThickEnd   & The ending position at which the feature is drawn thickly  \\\\\n",
       "\t ItemRgb    & An RGB value of the form R,G,B (e.g. 255,0,0)              \\\\\n",
       "\\end{tabular}\n"
      ],
      "text/markdown": [
       "\n",
       "A spec_tbl_df: 9 × 2\n",
       "\n",
       "| Name &lt;chr&gt; | Description &lt;chr&gt; |\n",
       "|---|---|\n",
       "| Chrom      | Chromosome                                                  |\n",
       "| Start      | Start position                                              |\n",
       "| End        | End position                                                |\n",
       "| Name       | ChromHMM Label; 15 state ChIP-seq model                     |\n",
       "| Score      | Score                                                       |\n",
       "| Strand     | [+-.]; Use '.' if no strand is assigned.                    |\n",
       "| ThickStart | The starting position at which the feature is drawn thickly |\n",
       "| ThickEnd   | The ending position at which the feature is drawn thickly   |\n",
       "| ItemRgb    | An RGB value of the form R,G,B (e.g. 255,0,0)               |\n",
       "\n"
      ],
      "text/plain": [
       "  Name       Description                                                \n",
       "1 Chrom      Chromosome                                                 \n",
       "2 Start      Start position                                             \n",
       "3 End        End position                                               \n",
       "4 Name       ChromHMM Label; 15 state ChIP-seq model                    \n",
       "5 Score      Score                                                      \n",
       "6 Strand     [+-.]; Use '.' if no strand is assigned.                   \n",
       "7 ThickStart The starting position at which the feature is drawn thickly\n",
       "8 ThickEnd   The ending position at which the feature is drawn thickly  \n",
       "9 ItemRgb    An RGB value of the form R,G,B (e.g. 255,0,0)              "
      ]
     },
     "metadata": {},
     "output_type": "display_data"
    }
   ],
   "source": [
    "fdiry  = file.path(FD_RES, \"results\", \"region\", FOLDER)\n",
    "fname = \"description.tsv\"\n",
    "fpath = file.path(fdiry, fname)\n",
    "\n",
    "dat = read_tsv(fpath, show_col_types = FALSE)\n",
    "\n",
    "dat_cnames = dat\n",
    "print(dim(dat))\n",
    "dat"
   ]
  },
  {
   "cell_type": "code",
   "execution_count": 9,
   "metadata": {},
   "outputs": [
    {
     "name": "stdout",
     "output_type": "stream",
     "text": [
      "[1] 271850     19\n"
     ]
    },
    {
     "data": {
      "text/html": [
       "<table class=\"dataframe\">\n",
       "<caption>A tibble: 6 × 19</caption>\n",
       "<thead>\n",
       "\t<tr><th scope=col>Chrom_ATAC</th><th scope=col>Start_ATAC</th><th scope=col>End_ATAC</th><th scope=col>Chrom</th><th scope=col>Start</th><th scope=col>End</th><th scope=col>Name</th><th scope=col>Score</th><th scope=col>Strand</th><th scope=col>ThickStart</th><th scope=col>ThickEnd</th><th scope=col>ItemRgb</th><th scope=col>Overlap</th><th scope=col>Peak_ATAC</th><th scope=col>Annotation</th><th scope=col>Label</th><th scope=col>Region</th><th scope=col>Value</th><th scope=col>Note</th></tr>\n",
       "\t<tr><th scope=col>&lt;chr&gt;</th><th scope=col>&lt;dbl&gt;</th><th scope=col>&lt;dbl&gt;</th><th scope=col>&lt;chr&gt;</th><th scope=col>&lt;dbl&gt;</th><th scope=col>&lt;dbl&gt;</th><th scope=col>&lt;chr&gt;</th><th scope=col>&lt;dbl&gt;</th><th scope=col>&lt;chr&gt;</th><th scope=col>&lt;dbl&gt;</th><th scope=col>&lt;dbl&gt;</th><th scope=col>&lt;chr&gt;</th><th scope=col>&lt;dbl&gt;</th><th scope=col>&lt;chr&gt;</th><th scope=col>&lt;chr&gt;</th><th scope=col>&lt;chr&gt;</th><th scope=col>&lt;chr&gt;</th><th scope=col>&lt;dbl&gt;</th><th scope=col>&lt;chr&gt;</th></tr>\n",
       "</thead>\n",
       "<tbody>\n",
       "\t<tr><td>chr1</td><td>10015</td><td>10442</td><td>chr1</td><td>    0</td><td> 16000</td><td>Quies</td><td>1</td><td>.</td><td>    0</td><td> 16000</td><td>220,220,220</td><td>427</td><td>chr1:10015-10442</td><td>ChromHMM</td><td>Quies</td><td>chr1:0-16000     </td><td>1</td><td>Quies</td></tr>\n",
       "\t<tr><td>chr1</td><td>14253</td><td>14645</td><td>chr1</td><td>    0</td><td> 16000</td><td>Quies</td><td>1</td><td>.</td><td>    0</td><td> 16000</td><td>220,220,220</td><td>392</td><td>chr1:14253-14645</td><td>ChromHMM</td><td>Quies</td><td>chr1:0-16000     </td><td>1</td><td>Quies</td></tr>\n",
       "\t<tr><td>chr1</td><td>16015</td><td>16477</td><td>chr1</td><td>16000</td><td> 16200</td><td>TxWk </td><td>1</td><td>.</td><td>16000</td><td> 16200</td><td>63,154,80  </td><td>185</td><td>chr1:16015-16477</td><td>ChromHMM</td><td>TxWk </td><td>chr1:16000-16200 </td><td>1</td><td>TxWk </td></tr>\n",
       "\t<tr><td>chr1</td><td>17237</td><td>17772</td><td>chr1</td><td>17400</td><td> 17600</td><td>TxWk </td><td>1</td><td>.</td><td>17400</td><td> 17600</td><td>63,154,80  </td><td>200</td><td>chr1:17237-17772</td><td>ChromHMM</td><td>TxWk </td><td>chr1:17400-17600 </td><td>1</td><td>TxWk </td></tr>\n",
       "\t<tr><td>chr1</td><td>28903</td><td>29613</td><td>chr1</td><td>17600</td><td>118400</td><td>Quies</td><td>1</td><td>.</td><td>17600</td><td>118400</td><td>220,220,220</td><td>710</td><td>chr1:28903-29613</td><td>ChromHMM</td><td>Quies</td><td>chr1:17600-118400</td><td>1</td><td>Quies</td></tr>\n",
       "\t<tr><td>chr1</td><td>30803</td><td>31072</td><td>chr1</td><td>17600</td><td>118400</td><td>Quies</td><td>1</td><td>.</td><td>17600</td><td>118400</td><td>220,220,220</td><td>269</td><td>chr1:30803-31072</td><td>ChromHMM</td><td>Quies</td><td>chr1:17600-118400</td><td>1</td><td>Quies</td></tr>\n",
       "</tbody>\n",
       "</table>\n"
      ],
      "text/latex": [
       "A tibble: 6 × 19\n",
       "\\begin{tabular}{lllllllllllllllllll}\n",
       " Chrom\\_ATAC & Start\\_ATAC & End\\_ATAC & Chrom & Start & End & Name & Score & Strand & ThickStart & ThickEnd & ItemRgb & Overlap & Peak\\_ATAC & Annotation & Label & Region & Value & Note\\\\\n",
       " <chr> & <dbl> & <dbl> & <chr> & <dbl> & <dbl> & <chr> & <dbl> & <chr> & <dbl> & <dbl> & <chr> & <dbl> & <chr> & <chr> & <chr> & <chr> & <dbl> & <chr>\\\\\n",
       "\\hline\n",
       "\t chr1 & 10015 & 10442 & chr1 &     0 &  16000 & Quies & 1 & . &     0 &  16000 & 220,220,220 & 427 & chr1:10015-10442 & ChromHMM & Quies & chr1:0-16000      & 1 & Quies\\\\\n",
       "\t chr1 & 14253 & 14645 & chr1 &     0 &  16000 & Quies & 1 & . &     0 &  16000 & 220,220,220 & 392 & chr1:14253-14645 & ChromHMM & Quies & chr1:0-16000      & 1 & Quies\\\\\n",
       "\t chr1 & 16015 & 16477 & chr1 & 16000 &  16200 & TxWk  & 1 & . & 16000 &  16200 & 63,154,80   & 185 & chr1:16015-16477 & ChromHMM & TxWk  & chr1:16000-16200  & 1 & TxWk \\\\\n",
       "\t chr1 & 17237 & 17772 & chr1 & 17400 &  17600 & TxWk  & 1 & . & 17400 &  17600 & 63,154,80   & 200 & chr1:17237-17772 & ChromHMM & TxWk  & chr1:17400-17600  & 1 & TxWk \\\\\n",
       "\t chr1 & 28903 & 29613 & chr1 & 17600 & 118400 & Quies & 1 & . & 17600 & 118400 & 220,220,220 & 710 & chr1:28903-29613 & ChromHMM & Quies & chr1:17600-118400 & 1 & Quies\\\\\n",
       "\t chr1 & 30803 & 31072 & chr1 & 17600 & 118400 & Quies & 1 & . & 17600 & 118400 & 220,220,220 & 269 & chr1:30803-31072 & ChromHMM & Quies & chr1:17600-118400 & 1 & Quies\\\\\n",
       "\\end{tabular}\n"
      ],
      "text/markdown": [
       "\n",
       "A tibble: 6 × 19\n",
       "\n",
       "| Chrom_ATAC &lt;chr&gt; | Start_ATAC &lt;dbl&gt; | End_ATAC &lt;dbl&gt; | Chrom &lt;chr&gt; | Start &lt;dbl&gt; | End &lt;dbl&gt; | Name &lt;chr&gt; | Score &lt;dbl&gt; | Strand &lt;chr&gt; | ThickStart &lt;dbl&gt; | ThickEnd &lt;dbl&gt; | ItemRgb &lt;chr&gt; | Overlap &lt;dbl&gt; | Peak_ATAC &lt;chr&gt; | Annotation &lt;chr&gt; | Label &lt;chr&gt; | Region &lt;chr&gt; | Value &lt;dbl&gt; | Note &lt;chr&gt; |\n",
       "|---|---|---|---|---|---|---|---|---|---|---|---|---|---|---|---|---|---|---|\n",
       "| chr1 | 10015 | 10442 | chr1 |     0 |  16000 | Quies | 1 | . |     0 |  16000 | 220,220,220 | 427 | chr1:10015-10442 | ChromHMM | Quies | chr1:0-16000      | 1 | Quies |\n",
       "| chr1 | 14253 | 14645 | chr1 |     0 |  16000 | Quies | 1 | . |     0 |  16000 | 220,220,220 | 392 | chr1:14253-14645 | ChromHMM | Quies | chr1:0-16000      | 1 | Quies |\n",
       "| chr1 | 16015 | 16477 | chr1 | 16000 |  16200 | TxWk  | 1 | . | 16000 |  16200 | 63,154,80   | 185 | chr1:16015-16477 | ChromHMM | TxWk  | chr1:16000-16200  | 1 | TxWk  |\n",
       "| chr1 | 17237 | 17772 | chr1 | 17400 |  17600 | TxWk  | 1 | . | 17400 |  17600 | 63,154,80   | 200 | chr1:17237-17772 | ChromHMM | TxWk  | chr1:17400-17600  | 1 | TxWk  |\n",
       "| chr1 | 28903 | 29613 | chr1 | 17600 | 118400 | Quies | 1 | . | 17600 | 118400 | 220,220,220 | 710 | chr1:28903-29613 | ChromHMM | Quies | chr1:17600-118400 | 1 | Quies |\n",
       "| chr1 | 30803 | 31072 | chr1 | 17600 | 118400 | Quies | 1 | . | 17600 | 118400 | 220,220,220 | 269 | chr1:30803-31072 | ChromHMM | Quies | chr1:17600-118400 | 1 | Quies |\n",
       "\n"
      ],
      "text/plain": [
       "  Chrom_ATAC Start_ATAC End_ATAC Chrom Start End    Name  Score Strand\n",
       "1 chr1       10015      10442    chr1      0  16000 Quies 1     .     \n",
       "2 chr1       14253      14645    chr1      0  16000 Quies 1     .     \n",
       "3 chr1       16015      16477    chr1  16000  16200 TxWk  1     .     \n",
       "4 chr1       17237      17772    chr1  17400  17600 TxWk  1     .     \n",
       "5 chr1       28903      29613    chr1  17600 118400 Quies 1     .     \n",
       "6 chr1       30803      31072    chr1  17600 118400 Quies 1     .     \n",
       "  ThickStart ThickEnd ItemRgb     Overlap Peak_ATAC        Annotation Label\n",
       "1     0       16000   220,220,220 427     chr1:10015-10442 ChromHMM   Quies\n",
       "2     0       16000   220,220,220 392     chr1:14253-14645 ChromHMM   Quies\n",
       "3 16000       16200   63,154,80   185     chr1:16015-16477 ChromHMM   TxWk \n",
       "4 17400       17600   63,154,80   200     chr1:17237-17772 ChromHMM   TxWk \n",
       "5 17600      118400   220,220,220 710     chr1:28903-29613 ChromHMM   Quies\n",
       "6 17600      118400   220,220,220 269     chr1:30803-31072 ChromHMM   Quies\n",
       "  Region            Value Note \n",
       "1 chr1:0-16000      1     Quies\n",
       "2 chr1:0-16000      1     Quies\n",
       "3 chr1:16000-16200  1     TxWk \n",
       "4 chr1:17400-17600  1     TxWk \n",
       "5 chr1:17600-118400 1     Quies\n",
       "6 chr1:17600-118400 1     Quies"
      ]
     },
     "metadata": {},
     "output_type": "display_data"
    }
   ],
   "source": [
    "### init: set column names\n",
    "cnames = dat_cnames$Name\n",
    "cnames = c(\"Chrom_ATAC\", \"Start_ATAC\", \"End_ATAC\", cnames, \"Overlap\")\n",
    "\n",
    "### init: set file path\n",
    "fdiry = file.path(\n",
    "    FD_RES, \n",
    "    \"results\", \n",
    "    \"region\", \n",
    "    \"KS91_K562_ASTARRseq_peak_macs_input\", \n",
    "    FOLDER)\n",
    "fname = \"peak.annotation.K562.ENCSR365YNI.ENCFF106BGJ.ChromHMM.bed.gz\"\n",
    "fpath = file.path(fdiry, fname)\n",
    "\n",
    "### init: annotation and label\n",
    "annotation = \"ChromHMM\"\n",
    "\n",
    "### read data\n",
    "dat = read_tsv(fpath, col_names = cnames, show_col_types = FALSE)\n",
    "dat = dat %>% dplyr::mutate(\n",
    "    Peak_ATAC  = paste0(Chrom_ATAC, \":\", Start_ATAC, \"-\", End_ATAC),\n",
    "    Annotation = annotation,\n",
    "    Label      = Name,\n",
    "    Region     = paste0(Chrom, \":\", Start, \"-\", End),\n",
    "    Value      = Score,\n",
    "    Note       = Name\n",
    ")\n",
    "\n",
    "### assign and show\n",
    "dat_peak_annot_import = dat\n",
    "print(dim(dat))\n",
    "head(dat)"
   ]
  },
  {
   "cell_type": "markdown",
   "metadata": {},
   "source": [
    "## Arrange and summarize"
   ]
  },
  {
   "cell_type": "code",
   "execution_count": 10,
   "metadata": {},
   "outputs": [
    {
     "name": "stdout",
     "output_type": "stream",
     "text": [
      "[1] 262805      7\n"
     ]
    },
    {
     "data": {
      "text/html": [
       "<table class=\"dataframe\">\n",
       "<caption>A tibble: 6 × 7</caption>\n",
       "<thead>\n",
       "\t<tr><th scope=col>Peak</th><th scope=col>Annotation</th><th scope=col>Label</th><th scope=col>Count</th><th scope=col>Region</th><th scope=col>Score</th><th scope=col>Note</th></tr>\n",
       "\t<tr><th scope=col>&lt;chr&gt;</th><th scope=col>&lt;chr&gt;</th><th scope=col>&lt;chr&gt;</th><th scope=col>&lt;int&gt;</th><th scope=col>&lt;chr&gt;</th><th scope=col>&lt;dbl&gt;</th><th scope=col>&lt;chr&gt;</th></tr>\n",
       "</thead>\n",
       "<tbody>\n",
       "\t<tr><td>chr1:10015-10442</td><td>ChromHMM</td><td>Quies</td><td>1</td><td>chr1:0-16000     </td><td>1</td><td>Quies</td></tr>\n",
       "\t<tr><td>chr1:14253-14645</td><td>ChromHMM</td><td>Quies</td><td>1</td><td>chr1:0-16000     </td><td>1</td><td>Quies</td></tr>\n",
       "\t<tr><td>chr1:16015-16477</td><td>ChromHMM</td><td>TxWk </td><td>1</td><td>chr1:16000-16200 </td><td>1</td><td>TxWk </td></tr>\n",
       "\t<tr><td>chr1:17237-17772</td><td>ChromHMM</td><td>TxWk </td><td>1</td><td>chr1:17400-17600 </td><td>1</td><td>TxWk </td></tr>\n",
       "\t<tr><td>chr1:28903-29613</td><td>ChromHMM</td><td>Quies</td><td>1</td><td>chr1:17600-118400</td><td>1</td><td>Quies</td></tr>\n",
       "\t<tr><td>chr1:30803-31072</td><td>ChromHMM</td><td>Quies</td><td>1</td><td>chr1:17600-118400</td><td>1</td><td>Quies</td></tr>\n",
       "</tbody>\n",
       "</table>\n"
      ],
      "text/latex": [
       "A tibble: 6 × 7\n",
       "\\begin{tabular}{lllllll}\n",
       " Peak & Annotation & Label & Count & Region & Score & Note\\\\\n",
       " <chr> & <chr> & <chr> & <int> & <chr> & <dbl> & <chr>\\\\\n",
       "\\hline\n",
       "\t chr1:10015-10442 & ChromHMM & Quies & 1 & chr1:0-16000      & 1 & Quies\\\\\n",
       "\t chr1:14253-14645 & ChromHMM & Quies & 1 & chr1:0-16000      & 1 & Quies\\\\\n",
       "\t chr1:16015-16477 & ChromHMM & TxWk  & 1 & chr1:16000-16200  & 1 & TxWk \\\\\n",
       "\t chr1:17237-17772 & ChromHMM & TxWk  & 1 & chr1:17400-17600  & 1 & TxWk \\\\\n",
       "\t chr1:28903-29613 & ChromHMM & Quies & 1 & chr1:17600-118400 & 1 & Quies\\\\\n",
       "\t chr1:30803-31072 & ChromHMM & Quies & 1 & chr1:17600-118400 & 1 & Quies\\\\\n",
       "\\end{tabular}\n"
      ],
      "text/markdown": [
       "\n",
       "A tibble: 6 × 7\n",
       "\n",
       "| Peak &lt;chr&gt; | Annotation &lt;chr&gt; | Label &lt;chr&gt; | Count &lt;int&gt; | Region &lt;chr&gt; | Score &lt;dbl&gt; | Note &lt;chr&gt; |\n",
       "|---|---|---|---|---|---|---|\n",
       "| chr1:10015-10442 | ChromHMM | Quies | 1 | chr1:0-16000      | 1 | Quies |\n",
       "| chr1:14253-14645 | ChromHMM | Quies | 1 | chr1:0-16000      | 1 | Quies |\n",
       "| chr1:16015-16477 | ChromHMM | TxWk  | 1 | chr1:16000-16200  | 1 | TxWk  |\n",
       "| chr1:17237-17772 | ChromHMM | TxWk  | 1 | chr1:17400-17600  | 1 | TxWk  |\n",
       "| chr1:28903-29613 | ChromHMM | Quies | 1 | chr1:17600-118400 | 1 | Quies |\n",
       "| chr1:30803-31072 | ChromHMM | Quies | 1 | chr1:17600-118400 | 1 | Quies |\n",
       "\n"
      ],
      "text/plain": [
       "  Peak             Annotation Label Count Region            Score Note \n",
       "1 chr1:10015-10442 ChromHMM   Quies 1     chr1:0-16000      1     Quies\n",
       "2 chr1:14253-14645 ChromHMM   Quies 1     chr1:0-16000      1     Quies\n",
       "3 chr1:16015-16477 ChromHMM   TxWk  1     chr1:16000-16200  1     TxWk \n",
       "4 chr1:17237-17772 ChromHMM   TxWk  1     chr1:17400-17600  1     TxWk \n",
       "5 chr1:28903-29613 ChromHMM   Quies 1     chr1:17600-118400 1     Quies\n",
       "6 chr1:30803-31072 ChromHMM   Quies 1     chr1:17600-118400 1     Quies"
      ]
     },
     "metadata": {},
     "output_type": "display_data"
    }
   ],
   "source": [
    "### init\n",
    "dat = dat_peak_annot_import\n",
    "\n",
    "### summarize\n",
    "dat = dat %>%\n",
    "    dplyr::group_by(Chrom_ATAC, Start_ATAC, End_ATAC, Peak_ATAC, Annotation, Label) %>%\n",
    "    dplyr::summarise(\n",
    "        Count  = n(), \n",
    "        Region = paste(Region, collapse=\"|\"),\n",
    "        Score  = mean(Value),\n",
    "        Note   = paste(Note, collapse=\"|\"),\n",
    "        .groups = \"drop\")\n",
    "\n",
    "## Arrange\n",
    "dat = dat %>% \n",
    "    dplyr::arrange(Chrom_ATAC, Start_ATAC, End_ATAC) %>%\n",
    "    dplyr::select(-Chrom_ATAC, -Start_ATAC, -End_ATAC) %>%\n",
    "    dplyr::rename(\"Peak\" = Peak_ATAC)\n",
    "\n",
    "### assign and show\n",
    "dat_peak_annot_summary = dat\n",
    "print(dim(dat))\n",
    "head(dat)"
   ]
  },
  {
   "cell_type": "markdown",
   "metadata": {},
   "source": [
    "## Explore and check results"
   ]
  },
  {
   "cell_type": "code",
   "execution_count": 11,
   "metadata": {},
   "outputs": [
    {
     "data": {
      "text/plain": [
       "$Biv\n",
       "\n",
       "    1     2     3     4 \n",
       "12731   119     2     1 \n",
       "\n",
       "$Enh1\n",
       "\n",
       "   1    2    3 \n",
       "8913  152    1 \n",
       "\n",
       "$Enh2\n",
       "\n",
       "   1    2    3 \n",
       "8759  397   13 \n",
       "\n",
       "$EnhG1\n",
       "\n",
       "   1    2    3 \n",
       "1668   29    1 \n",
       "\n",
       "$EnhG2\n",
       "\n",
       "   1    2    3 \n",
       "5997   60    2 \n",
       "\n",
       "$Het\n",
       "\n",
       "   1 \n",
       "2816 \n",
       "\n",
       "$Quies\n",
       "\n",
       "    1     2     3 \n",
       "91225    14     1 \n",
       "\n",
       "$ReprPC\n",
       "\n",
       "    1     2     3 \n",
       "50739    41     2 \n",
       "\n",
       "$Tss\n",
       "\n",
       "   1    2    3    4    5    6 \n",
       "6654 1797  257   21    3    1 \n",
       "\n",
       "$TssFlnk\n",
       "\n",
       "   1    2    3 \n",
       "3308  156    4 \n",
       "\n",
       "$TssFlnkD\n",
       "\n",
       "   1    2    3    4 \n",
       "6137  590   28    1 \n",
       "\n",
       "$TssFlnkU\n",
       "\n",
       "   1    2    3    4    5 \n",
       "7879 3260  476   47    8 \n",
       "\n",
       "$Tx\n",
       "\n",
       "    1     2 \n",
       "19716    22 \n",
       "\n",
       "$TxWk\n",
       "\n",
       "    1     2     3     4 \n",
       "27008   555     7     2 \n",
       "\n",
       "$`ZNF/Rpts`\n",
       "\n",
       "   1 \n",
       "1185 \n"
      ]
     },
     "metadata": {},
     "output_type": "display_data"
    }
   ],
   "source": [
    "dat = dat_peak_annot_summary\n",
    "lst = split(dat, dat$Label)\n",
    "lst = lapply(lst, function(dat){\n",
    "    table(dat$Count)\n",
    "})\n",
    "lst"
   ]
  },
  {
   "cell_type": "markdown",
   "metadata": {},
   "source": [
    "## Save results"
   ]
  },
  {
   "cell_type": "code",
   "execution_count": 12,
   "metadata": {},
   "outputs": [],
   "source": [
    "fdiry = file.path(\n",
    "    FD_RES, \n",
    "    \"results\", \n",
    "    \"region\", \n",
    "    \"KS91_K562_ASTARRseq_peak_macs_input\", \n",
    "    \"summary\")\n",
    "fname = \"peak.summary.chromHMM.tsv\"\n",
    "fpath = file.path(fdiry, fname)\n",
    "\n",
    "dat = dat_peak_annot_summary\n",
    "write_tsv(dat, fpath)"
   ]
  },
  {
   "cell_type": "code",
   "execution_count": null,
   "metadata": {},
   "outputs": [],
   "source": []
  }
 ],
 "metadata": {
  "kernelspec": {
   "display_name": "R",
   "language": "R",
   "name": "ir"
  },
  "language_info": {
   "codemirror_mode": "r",
   "file_extension": ".r",
   "mimetype": "text/x-r-source",
   "name": "R",
   "pygments_lexer": "r",
   "version": "4.3.0"
  }
 },
 "nbformat": 4,
 "nbformat_minor": 4
}
