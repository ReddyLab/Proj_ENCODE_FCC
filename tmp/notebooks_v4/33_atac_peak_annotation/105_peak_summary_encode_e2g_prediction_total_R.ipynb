{
 "cells": [
  {
   "cell_type": "markdown",
   "metadata": {},
   "source": [
    "**Set environment**"
   ]
  },
  {
   "cell_type": "code",
   "execution_count": 1,
   "metadata": {},
   "outputs": [
    {
     "name": "stdout",
     "output_type": "stream",
     "text": [
      "You are in Singularity: singularity_proj_encode_fcc \n",
      "BASE DIRECTORY (FD_BASE): /data/reddylab/Kuei \n",
      "WORK DIRECTORY (FD_WORK): /data/reddylab/Kuei/out \n",
      "CODE DIRECTORY (FD_CODE): /data/reddylab/Kuei/code \n",
      "PATH OF PROJECT (FD_PRJ): /data/reddylab/Kuei/code/Proj_CombEffect_ENCODE_FCC \n",
      "PATH OF RESULTS (FD_RES): /data/reddylab/Kuei/out/proj_combeffect_encode_fcc \n",
      "PATH OF LOG     (FD_LOG): /data/reddylab/Kuei/out/proj_combeffect_encode_fcc/log \n"
     ]
    }
   ],
   "source": [
    "suppressMessages(suppressWarnings(source(\"../config/config_sing.R\")))\n",
    "show_env()"
   ]
  },
  {
   "cell_type": "markdown",
   "metadata": {},
   "source": [
    "**Check data**"
   ]
  },
  {
   "cell_type": "code",
   "execution_count": 2,
   "metadata": {},
   "outputs": [],
   "source": [
    "FOLDER = \"annotation_encode_e2g_prediction\""
   ]
  },
  {
   "cell_type": "code",
   "execution_count": 3,
   "metadata": {},
   "outputs": [
    {
     "name": "stdout",
     "output_type": "stream",
     "text": [
      "[1] \"description.tsv\"\n",
      "[1] \"K562.ENCSR328LMT.ENCFF122UMY.element_gene_links.total.bed.gz\"\n",
      "[1] \"K562.ENCSR328LMT.ENCFF122UMY.element_gene_links.total.merge.bed.gz\"\n",
      "[1] \"K562.ENCSR328LMT.ENCFF202FID.element_gene_links.active.bed.gz\"\n",
      "[1] \"K562.ENCSR328LMT.ENCFF202FID.element_gene_links.active.merge.bed.gz\"\n"
     ]
    }
   ],
   "source": [
    "fdiry = file.path(\n",
    "    FD_RES, \n",
    "    \"results\", \n",
    "    \"region\", \n",
    "    FOLDER)\n",
    "for(fname in dir(fdiry)){print(fname)}"
   ]
  },
  {
   "cell_type": "code",
   "execution_count": 4,
   "metadata": {},
   "outputs": [
    {
     "name": "stdout",
     "output_type": "stream",
     "text": [
      "[1] \"peak.annotation.K562.ENCSR328LMT.ENCFF122UMY.element_gene_links.total.bed.gz\"\n",
      "[1] \"peak.annotation.K562.ENCSR328LMT.ENCFF122UMY.element_gene_links.total.merge.bed.gz\"\n",
      "[1] \"peak.annotation.K562.ENCSR328LMT.ENCFF202FID.element_gene_links.active.bed.gz\"\n",
      "[1] \"peak.annotation.K562.ENCSR328LMT.ENCFF202FID.element_gene_links.active.merge.bed.gz\"\n",
      "[1] \"peak.intersect.inverse.K562.ENCSR328LMT.ENCFF202FID.element_gene_links.active.merge.bed.gz\"\n"
     ]
    }
   ],
   "source": [
    "fdiry = file.path(\n",
    "    FD_RES, \n",
    "    \"results\", \n",
    "    \"region\", \n",
    "    \"KS91_K562_ASTARRseq_peak_macs_input\", \n",
    "    FOLDER)\n",
    "for(fname in dir(fdiry)){print(fname)}"
   ]
  },
  {
   "cell_type": "markdown",
   "metadata": {},
   "source": [
    "## Import data"
   ]
  },
  {
   "cell_type": "code",
   "execution_count": 6,
   "metadata": {},
   "outputs": [
    {
     "name": "stdout",
     "output_type": "stream",
     "text": [
      "[1] 11  2\n"
     ]
    },
    {
     "data": {
      "text/html": [
       "<table class=\"dataframe\">\n",
       "<caption>A spec_tbl_df: 11 × 2</caption>\n",
       "<thead>\n",
       "\t<tr><th scope=col>Name</th><th scope=col>Description</th></tr>\n",
       "\t<tr><th scope=col>&lt;chr&gt;</th><th scope=col>&lt;chr&gt;</th></tr>\n",
       "</thead>\n",
       "<tbody>\n",
       "\t<tr><td>Chrom       </td><td>Chromosome of the perturbed element                                                                              </td></tr>\n",
       "\t<tr><td>Start       </td><td>Start of the perturbed element (0-based)                                                                         </td></tr>\n",
       "\t<tr><td>End         </td><td>End of the perturbed element                                                                                     </td></tr>\n",
       "\t<tr><td>Name        </td><td>Identifier for the given E-G pair in the form of 'gene|chr:start-stop:strand', e.g. 'BET1L|chr11:220536-220704:*'</td></tr>\n",
       "\t<tr><td>Score       </td><td>Change in gene expression upon CRISPRi perturbation, e.g. precentage change in expression or log fold change     </td></tr>\n",
       "\t<tr><td>Region_Class</td><td>Type of region (intergenic, promoter, genic)                                                                     </td></tr>\n",
       "\t<tr><td>Gene_ENSEMBL</td><td>target gene ensembl                                                                                              </td></tr>\n",
       "\t<tr><td>Gene_Symbol </td><td>target gene symbol                                                                                               </td></tr>\n",
       "\t<tr><td>Gene_TSS    </td><td>target gene TSS                                                                                                  </td></tr>\n",
       "\t<tr><td>Assay_Type  </td><td>Assay type                                                                                                       </td></tr>\n",
       "\t<tr><td>Assay_Label </td><td>Assay label                                                                                                      </td></tr>\n",
       "</tbody>\n",
       "</table>\n"
      ],
      "text/latex": [
       "A spec\\_tbl\\_df: 11 × 2\n",
       "\\begin{tabular}{ll}\n",
       " Name & Description\\\\\n",
       " <chr> & <chr>\\\\\n",
       "\\hline\n",
       "\t Chrom        & Chromosome of the perturbed element                                                                              \\\\\n",
       "\t Start        & Start of the perturbed element (0-based)                                                                         \\\\\n",
       "\t End          & End of the perturbed element                                                                                     \\\\\n",
       "\t Name         & Identifier for the given E-G pair in the form of 'gene\\textbar{}chr:start-stop:strand', e.g. 'BET1L\\textbar{}chr11:220536-220704:*'\\\\\n",
       "\t Score        & Change in gene expression upon CRISPRi perturbation, e.g. precentage change in expression or log fold change     \\\\\n",
       "\t Region\\_Class & Type of region (intergenic, promoter, genic)                                                                     \\\\\n",
       "\t Gene\\_ENSEMBL & target gene ensembl                                                                                              \\\\\n",
       "\t Gene\\_Symbol  & target gene symbol                                                                                               \\\\\n",
       "\t Gene\\_TSS     & target gene TSS                                                                                                  \\\\\n",
       "\t Assay\\_Type   & Assay type                                                                                                       \\\\\n",
       "\t Assay\\_Label  & Assay label                                                                                                      \\\\\n",
       "\\end{tabular}\n"
      ],
      "text/markdown": [
       "\n",
       "A spec_tbl_df: 11 × 2\n",
       "\n",
       "| Name &lt;chr&gt; | Description &lt;chr&gt; |\n",
       "|---|---|\n",
       "| Chrom        | Chromosome of the perturbed element                                                                               |\n",
       "| Start        | Start of the perturbed element (0-based)                                                                          |\n",
       "| End          | End of the perturbed element                                                                                      |\n",
       "| Name         | Identifier for the given E-G pair in the form of 'gene|chr:start-stop:strand', e.g. 'BET1L|chr11:220536-220704:*' |\n",
       "| Score        | Change in gene expression upon CRISPRi perturbation, e.g. precentage change in expression or log fold change      |\n",
       "| Region_Class | Type of region (intergenic, promoter, genic)                                                                      |\n",
       "| Gene_ENSEMBL | target gene ensembl                                                                                               |\n",
       "| Gene_Symbol  | target gene symbol                                                                                                |\n",
       "| Gene_TSS     | target gene TSS                                                                                                   |\n",
       "| Assay_Type   | Assay type                                                                                                        |\n",
       "| Assay_Label  | Assay label                                                                                                       |\n",
       "\n"
      ],
      "text/plain": [
       "   Name        \n",
       "1  Chrom       \n",
       "2  Start       \n",
       "3  End         \n",
       "4  Name        \n",
       "5  Score       \n",
       "6  Region_Class\n",
       "7  Gene_ENSEMBL\n",
       "8  Gene_Symbol \n",
       "9  Gene_TSS    \n",
       "10 Assay_Type  \n",
       "11 Assay_Label \n",
       "   Description                                                                                                      \n",
       "1  Chromosome of the perturbed element                                                                              \n",
       "2  Start of the perturbed element (0-based)                                                                         \n",
       "3  End of the perturbed element                                                                                     \n",
       "4  Identifier for the given E-G pair in the form of 'gene|chr:start-stop:strand', e.g. 'BET1L|chr11:220536-220704:*'\n",
       "5  Change in gene expression upon CRISPRi perturbation, e.g. precentage change in expression or log fold change     \n",
       "6  Type of region (intergenic, promoter, genic)                                                                     \n",
       "7  target gene ensembl                                                                                              \n",
       "8  target gene symbol                                                                                               \n",
       "9  target gene TSS                                                                                                  \n",
       "10 Assay type                                                                                                       \n",
       "11 Assay label                                                                                                      "
      ]
     },
     "metadata": {},
     "output_type": "display_data"
    }
   ],
   "source": [
    "fdiry  = file.path(FD_RES, \"results\", \"region\", FOLDER)\n",
    "fname = \"description.tsv\"\n",
    "fpath = file.path(fdiry, fname)\n",
    "\n",
    "dat = read_tsv(fpath, show_col_types = FALSE)\n",
    "\n",
    "dat_cnames = dat\n",
    "print(dim(dat))\n",
    "dat"
   ]
  },
  {
   "cell_type": "code",
   "execution_count": 7,
   "metadata": {},
   "outputs": [
    {
     "name": "stdout",
     "output_type": "stream",
     "text": [
      "[1] 6642160      21\n"
     ]
    },
    {
     "data": {
      "text/html": [
       "<table class=\"dataframe\">\n",
       "<caption>A tibble: 6 × 21</caption>\n",
       "<thead>\n",
       "\t<tr><th scope=col>Chrom_ATAC</th><th scope=col>Start_ATAC</th><th scope=col>End_ATAC</th><th scope=col>Chrom</th><th scope=col>Start</th><th scope=col>End</th><th scope=col>Name</th><th scope=col>Score</th><th scope=col>Region_Class</th><th scope=col>Gene_ENSEMBL</th><th scope=col>⋯</th><th scope=col>Gene_TSS</th><th scope=col>Assay_Type</th><th scope=col>Assay_Label</th><th scope=col>Overlap</th><th scope=col>Peak_ATAC</th><th scope=col>Annotation</th><th scope=col>Label</th><th scope=col>Region</th><th scope=col>Value</th><th scope=col>Note</th></tr>\n",
       "\t<tr><th scope=col>&lt;chr&gt;</th><th scope=col>&lt;dbl&gt;</th><th scope=col>&lt;dbl&gt;</th><th scope=col>&lt;chr&gt;</th><th scope=col>&lt;dbl&gt;</th><th scope=col>&lt;dbl&gt;</th><th scope=col>&lt;chr&gt;</th><th scope=col>&lt;dbl&gt;</th><th scope=col>&lt;chr&gt;</th><th scope=col>&lt;chr&gt;</th><th scope=col>⋯</th><th scope=col>&lt;dbl&gt;</th><th scope=col>&lt;chr&gt;</th><th scope=col>&lt;chr&gt;</th><th scope=col>&lt;dbl&gt;</th><th scope=col>&lt;chr&gt;</th><th scope=col>&lt;chr&gt;</th><th scope=col>&lt;chr&gt;</th><th scope=col>&lt;chr&gt;</th><th scope=col>&lt;dbl&gt;</th><th scope=col>&lt;chr&gt;</th></tr>\n",
       "</thead>\n",
       "<tbody>\n",
       "\t<tr><td>chr1</td><td>28903</td><td>29613</td><td>chr1</td><td>29120</td><td>29620</td><td>chr1:29120-29620</td><td>0.00165</td><td>promoter</td><td>ENSG00000131584</td><td>⋯</td><td>1307889</td><td>ENCODE-E2G_Prediction</td><td>ENCODE-E2G_Prediction:ACAP3   </td><td>493</td><td>chr1:28903-29613</td><td>ENCODE-E2G</td><td>ENCODE-E2G_Prediction</td><td>chr1:29120-29620</td><td>0.00165</td><td>promoter</td></tr>\n",
       "\t<tr><td>chr1</td><td>28903</td><td>29613</td><td>chr1</td><td>29120</td><td>29620</td><td>chr1:29120-29620</td><td>0.01500</td><td>promoter</td><td>ENSG00000188157</td><td>⋯</td><td>1020122</td><td>ENCODE-E2G_Prediction</td><td>ENCODE-E2G_Prediction:AGRN    </td><td>493</td><td>chr1:28903-29613</td><td>ENCODE-E2G</td><td>ENCODE-E2G_Prediction</td><td>chr1:29120-29620</td><td>0.01500</td><td>promoter</td></tr>\n",
       "\t<tr><td>chr1</td><td>28903</td><td>29613</td><td>chr1</td><td>29120</td><td>29620</td><td>chr1:29120-29620</td><td>0.00056</td><td>promoter</td><td>ENSG00000197785</td><td>⋯</td><td>1512142</td><td>ENCODE-E2G_Prediction</td><td>ENCODE-E2G_Prediction:ATAD3A  </td><td>493</td><td>chr1:28903-29613</td><td>ENCODE-E2G</td><td>ENCODE-E2G_Prediction</td><td>chr1:29120-29620</td><td>0.00056</td><td>promoter</td></tr>\n",
       "\t<tr><td>chr1</td><td>28903</td><td>29613</td><td>chr1</td><td>29120</td><td>29620</td><td>chr1:29120-29620</td><td>0.00092</td><td>promoter</td><td>ENSG00000160072</td><td>⋯</td><td>1471754</td><td>ENCODE-E2G_Prediction</td><td>ENCODE-E2G_Prediction:ATAD3B  </td><td>493</td><td>chr1:28903-29613</td><td>ENCODE-E2G</td><td>ENCODE-E2G_Prediction</td><td>chr1:29120-29620</td><td>0.00092</td><td>promoter</td></tr>\n",
       "\t<tr><td>chr1</td><td>28903</td><td>29613</td><td>chr1</td><td>29120</td><td>29620</td><td>chr1:29120-29620</td><td>0.00019</td><td>promoter</td><td>ENSG00000175756</td><td>⋯</td><td>1375438</td><td>ENCODE-E2G_Prediction</td><td>ENCODE-E2G_Prediction:AURKAIP1</td><td>493</td><td>chr1:28903-29613</td><td>ENCODE-E2G</td><td>ENCODE-E2G_Prediction</td><td>chr1:29120-29620</td><td>0.00019</td><td>promoter</td></tr>\n",
       "\t<tr><td>chr1</td><td>28903</td><td>29613</td><td>chr1</td><td>29120</td><td>29620</td><td>chr1:29120-29620</td><td>0.00081</td><td>promoter</td><td>ENSG00000176022</td><td>⋯</td><td>1232248</td><td>ENCODE-E2G_Prediction</td><td>ENCODE-E2G_Prediction:B3GALT6 </td><td>493</td><td>chr1:28903-29613</td><td>ENCODE-E2G</td><td>ENCODE-E2G_Prediction</td><td>chr1:29120-29620</td><td>0.00081</td><td>promoter</td></tr>\n",
       "</tbody>\n",
       "</table>\n"
      ],
      "text/latex": [
       "A tibble: 6 × 21\n",
       "\\begin{tabular}{lllllllllllllllllllll}\n",
       " Chrom\\_ATAC & Start\\_ATAC & End\\_ATAC & Chrom & Start & End & Name & Score & Region\\_Class & Gene\\_ENSEMBL & ⋯ & Gene\\_TSS & Assay\\_Type & Assay\\_Label & Overlap & Peak\\_ATAC & Annotation & Label & Region & Value & Note\\\\\n",
       " <chr> & <dbl> & <dbl> & <chr> & <dbl> & <dbl> & <chr> & <dbl> & <chr> & <chr> & ⋯ & <dbl> & <chr> & <chr> & <dbl> & <chr> & <chr> & <chr> & <chr> & <dbl> & <chr>\\\\\n",
       "\\hline\n",
       "\t chr1 & 28903 & 29613 & chr1 & 29120 & 29620 & chr1:29120-29620 & 0.00165 & promoter & ENSG00000131584 & ⋯ & 1307889 & ENCODE-E2G\\_Prediction & ENCODE-E2G\\_Prediction:ACAP3    & 493 & chr1:28903-29613 & ENCODE-E2G & ENCODE-E2G\\_Prediction & chr1:29120-29620 & 0.00165 & promoter\\\\\n",
       "\t chr1 & 28903 & 29613 & chr1 & 29120 & 29620 & chr1:29120-29620 & 0.01500 & promoter & ENSG00000188157 & ⋯ & 1020122 & ENCODE-E2G\\_Prediction & ENCODE-E2G\\_Prediction:AGRN     & 493 & chr1:28903-29613 & ENCODE-E2G & ENCODE-E2G\\_Prediction & chr1:29120-29620 & 0.01500 & promoter\\\\\n",
       "\t chr1 & 28903 & 29613 & chr1 & 29120 & 29620 & chr1:29120-29620 & 0.00056 & promoter & ENSG00000197785 & ⋯ & 1512142 & ENCODE-E2G\\_Prediction & ENCODE-E2G\\_Prediction:ATAD3A   & 493 & chr1:28903-29613 & ENCODE-E2G & ENCODE-E2G\\_Prediction & chr1:29120-29620 & 0.00056 & promoter\\\\\n",
       "\t chr1 & 28903 & 29613 & chr1 & 29120 & 29620 & chr1:29120-29620 & 0.00092 & promoter & ENSG00000160072 & ⋯ & 1471754 & ENCODE-E2G\\_Prediction & ENCODE-E2G\\_Prediction:ATAD3B   & 493 & chr1:28903-29613 & ENCODE-E2G & ENCODE-E2G\\_Prediction & chr1:29120-29620 & 0.00092 & promoter\\\\\n",
       "\t chr1 & 28903 & 29613 & chr1 & 29120 & 29620 & chr1:29120-29620 & 0.00019 & promoter & ENSG00000175756 & ⋯ & 1375438 & ENCODE-E2G\\_Prediction & ENCODE-E2G\\_Prediction:AURKAIP1 & 493 & chr1:28903-29613 & ENCODE-E2G & ENCODE-E2G\\_Prediction & chr1:29120-29620 & 0.00019 & promoter\\\\\n",
       "\t chr1 & 28903 & 29613 & chr1 & 29120 & 29620 & chr1:29120-29620 & 0.00081 & promoter & ENSG00000176022 & ⋯ & 1232248 & ENCODE-E2G\\_Prediction & ENCODE-E2G\\_Prediction:B3GALT6  & 493 & chr1:28903-29613 & ENCODE-E2G & ENCODE-E2G\\_Prediction & chr1:29120-29620 & 0.00081 & promoter\\\\\n",
       "\\end{tabular}\n"
      ],
      "text/markdown": [
       "\n",
       "A tibble: 6 × 21\n",
       "\n",
       "| Chrom_ATAC &lt;chr&gt; | Start_ATAC &lt;dbl&gt; | End_ATAC &lt;dbl&gt; | Chrom &lt;chr&gt; | Start &lt;dbl&gt; | End &lt;dbl&gt; | Name &lt;chr&gt; | Score &lt;dbl&gt; | Region_Class &lt;chr&gt; | Gene_ENSEMBL &lt;chr&gt; | ⋯ ⋯ | Gene_TSS &lt;dbl&gt; | Assay_Type &lt;chr&gt; | Assay_Label &lt;chr&gt; | Overlap &lt;dbl&gt; | Peak_ATAC &lt;chr&gt; | Annotation &lt;chr&gt; | Label &lt;chr&gt; | Region &lt;chr&gt; | Value &lt;dbl&gt; | Note &lt;chr&gt; |\n",
       "|---|---|---|---|---|---|---|---|---|---|---|---|---|---|---|---|---|---|---|---|---|\n",
       "| chr1 | 28903 | 29613 | chr1 | 29120 | 29620 | chr1:29120-29620 | 0.00165 | promoter | ENSG00000131584 | ⋯ | 1307889 | ENCODE-E2G_Prediction | ENCODE-E2G_Prediction:ACAP3    | 493 | chr1:28903-29613 | ENCODE-E2G | ENCODE-E2G_Prediction | chr1:29120-29620 | 0.00165 | promoter |\n",
       "| chr1 | 28903 | 29613 | chr1 | 29120 | 29620 | chr1:29120-29620 | 0.01500 | promoter | ENSG00000188157 | ⋯ | 1020122 | ENCODE-E2G_Prediction | ENCODE-E2G_Prediction:AGRN     | 493 | chr1:28903-29613 | ENCODE-E2G | ENCODE-E2G_Prediction | chr1:29120-29620 | 0.01500 | promoter |\n",
       "| chr1 | 28903 | 29613 | chr1 | 29120 | 29620 | chr1:29120-29620 | 0.00056 | promoter | ENSG00000197785 | ⋯ | 1512142 | ENCODE-E2G_Prediction | ENCODE-E2G_Prediction:ATAD3A   | 493 | chr1:28903-29613 | ENCODE-E2G | ENCODE-E2G_Prediction | chr1:29120-29620 | 0.00056 | promoter |\n",
       "| chr1 | 28903 | 29613 | chr1 | 29120 | 29620 | chr1:29120-29620 | 0.00092 | promoter | ENSG00000160072 | ⋯ | 1471754 | ENCODE-E2G_Prediction | ENCODE-E2G_Prediction:ATAD3B   | 493 | chr1:28903-29613 | ENCODE-E2G | ENCODE-E2G_Prediction | chr1:29120-29620 | 0.00092 | promoter |\n",
       "| chr1 | 28903 | 29613 | chr1 | 29120 | 29620 | chr1:29120-29620 | 0.00019 | promoter | ENSG00000175756 | ⋯ | 1375438 | ENCODE-E2G_Prediction | ENCODE-E2G_Prediction:AURKAIP1 | 493 | chr1:28903-29613 | ENCODE-E2G | ENCODE-E2G_Prediction | chr1:29120-29620 | 0.00019 | promoter |\n",
       "| chr1 | 28903 | 29613 | chr1 | 29120 | 29620 | chr1:29120-29620 | 0.00081 | promoter | ENSG00000176022 | ⋯ | 1232248 | ENCODE-E2G_Prediction | ENCODE-E2G_Prediction:B3GALT6  | 493 | chr1:28903-29613 | ENCODE-E2G | ENCODE-E2G_Prediction | chr1:29120-29620 | 0.00081 | promoter |\n",
       "\n"
      ],
      "text/plain": [
       "  Chrom_ATAC Start_ATAC End_ATAC Chrom Start End   Name             Score  \n",
       "1 chr1       28903      29613    chr1  29120 29620 chr1:29120-29620 0.00165\n",
       "2 chr1       28903      29613    chr1  29120 29620 chr1:29120-29620 0.01500\n",
       "3 chr1       28903      29613    chr1  29120 29620 chr1:29120-29620 0.00056\n",
       "4 chr1       28903      29613    chr1  29120 29620 chr1:29120-29620 0.00092\n",
       "5 chr1       28903      29613    chr1  29120 29620 chr1:29120-29620 0.00019\n",
       "6 chr1       28903      29613    chr1  29120 29620 chr1:29120-29620 0.00081\n",
       "  Region_Class Gene_ENSEMBL    ⋯ Gene_TSS Assay_Type           \n",
       "1 promoter     ENSG00000131584 ⋯ 1307889  ENCODE-E2G_Prediction\n",
       "2 promoter     ENSG00000188157 ⋯ 1020122  ENCODE-E2G_Prediction\n",
       "3 promoter     ENSG00000197785 ⋯ 1512142  ENCODE-E2G_Prediction\n",
       "4 promoter     ENSG00000160072 ⋯ 1471754  ENCODE-E2G_Prediction\n",
       "5 promoter     ENSG00000175756 ⋯ 1375438  ENCODE-E2G_Prediction\n",
       "6 promoter     ENSG00000176022 ⋯ 1232248  ENCODE-E2G_Prediction\n",
       "  Assay_Label                    Overlap Peak_ATAC        Annotation\n",
       "1 ENCODE-E2G_Prediction:ACAP3    493     chr1:28903-29613 ENCODE-E2G\n",
       "2 ENCODE-E2G_Prediction:AGRN     493     chr1:28903-29613 ENCODE-E2G\n",
       "3 ENCODE-E2G_Prediction:ATAD3A   493     chr1:28903-29613 ENCODE-E2G\n",
       "4 ENCODE-E2G_Prediction:ATAD3B   493     chr1:28903-29613 ENCODE-E2G\n",
       "5 ENCODE-E2G_Prediction:AURKAIP1 493     chr1:28903-29613 ENCODE-E2G\n",
       "6 ENCODE-E2G_Prediction:B3GALT6  493     chr1:28903-29613 ENCODE-E2G\n",
       "  Label                 Region           Value   Note    \n",
       "1 ENCODE-E2G_Prediction chr1:29120-29620 0.00165 promoter\n",
       "2 ENCODE-E2G_Prediction chr1:29120-29620 0.01500 promoter\n",
       "3 ENCODE-E2G_Prediction chr1:29120-29620 0.00056 promoter\n",
       "4 ENCODE-E2G_Prediction chr1:29120-29620 0.00092 promoter\n",
       "5 ENCODE-E2G_Prediction chr1:29120-29620 0.00019 promoter\n",
       "6 ENCODE-E2G_Prediction chr1:29120-29620 0.00081 promoter"
      ]
     },
     "metadata": {},
     "output_type": "display_data"
    }
   ],
   "source": [
    "### init: set column names\n",
    "cnames = dat_cnames$Name\n",
    "cnames = c(\"Chrom_ATAC\", \"Start_ATAC\", \"End_ATAC\", cnames, \"Overlap\")\n",
    "\n",
    "### init: set file path\n",
    "fdiry = file.path(\n",
    "    FD_RES, \n",
    "    \"results\", \n",
    "    \"region\", \n",
    "    \"KS91_K562_ASTARRseq_peak_macs_input\", \n",
    "    FOLDER)\n",
    "fname = paste(\"peak.annotation\", \".total.bed.gz\", sep=\"*\")\n",
    "fglob = file.path(fdiry, fname)\n",
    "fpath = Sys.glob(fglob)\n",
    "\n",
    "### init: annotation and label\n",
    "annotation = \"ENCODE-E2G\"\n",
    "label      = \"ENCODE-E2G_Prediction\"\n",
    "\n",
    "### read data\n",
    "dat = read_tsv(fpath, col_names = cnames, show_col_types = FALSE)\n",
    "dat = dat %>% dplyr::mutate(\n",
    "    Peak_ATAC  = paste0(Chrom_ATAC, \":\", Start_ATAC, \"-\", End_ATAC),\n",
    "    Annotation = annotation,\n",
    "    Label      = label,\n",
    "    Region     = paste0(Chrom, \":\", Start, \"-\", End),\n",
    "    Value      = Score,\n",
    "    Note       = Region_Class\n",
    ")\n",
    "\n",
    "### assign and show\n",
    "dat_peak_annot_import = dat\n",
    "print(dim(dat))\n",
    "head(dat)"
   ]
  },
  {
   "cell_type": "markdown",
   "metadata": {},
   "source": [
    "## Arrange and summarize"
   ]
  },
  {
   "cell_type": "code",
   "execution_count": 8,
   "metadata": {},
   "outputs": [
    {
     "name": "stdout",
     "output_type": "stream",
     "text": [
      "[1] 84129     8\n"
     ]
    },
    {
     "data": {
      "text/html": [
       "<table class=\"dataframe\">\n",
       "<caption>A tibble: 6 × 8</caption>\n",
       "<thead>\n",
       "\t<tr><th scope=col>Peak</th><th scope=col>Annotation</th><th scope=col>Label</th><th scope=col>Count</th><th scope=col>Region</th><th scope=col>Score_Mean</th><th scope=col>Score_Max</th><th scope=col>Note</th></tr>\n",
       "\t<tr><th scope=col>&lt;chr&gt;</th><th scope=col>&lt;chr&gt;</th><th scope=col>&lt;chr&gt;</th><th scope=col>&lt;int&gt;</th><th scope=col>&lt;chr&gt;</th><th scope=col>&lt;dbl&gt;</th><th scope=col>&lt;dbl&gt;</th><th scope=col>&lt;chr&gt;</th></tr>\n",
       "</thead>\n",
       "<tbody>\n",
       "\t<tr><td>chr1:28903-29613  </td><td>ENCODE-E2G</td><td>ENCODE-E2G_Prediction</td><td>70</td><td>chr1:29120-29620|chr1:29120-29620|chr1:29120-29620|chr1:29120-29620|chr1:29120-29620|chr1:29120-29620|chr1:29120-29620|chr1:29120-29620|chr1:29120-29620|chr1:29120-29620|chr1:29120-29620|chr1:29120-29620|chr1:29120-29620|chr1:29120-29620|chr1:29120-29620|chr1:29120-29620|chr1:29120-29620|chr1:29120-29620|chr1:29120-29620|chr1:29120-29620|chr1:29120-29620|chr1:29120-29620|chr1:29120-29620|chr1:29120-29620|chr1:29120-29620|chr1:29120-29620|chr1:29120-29620|chr1:29120-29620|chr1:29120-29620|chr1:29120-29620|chr1:29120-29620|chr1:29120-29620|chr1:29120-29620|chr1:29120-29620|chr1:29120-29620|chr1:29120-29620|chr1:29120-29620|chr1:29120-29620|chr1:29120-29620|chr1:29120-29620|chr1:29120-29620|chr1:29120-29620|chr1:29120-29620|chr1:29120-29620|chr1:29120-29620|chr1:29120-29620|chr1:29120-29620|chr1:29120-29620|chr1:29120-29620|chr1:29120-29620|chr1:29120-29620|chr1:29120-29620|chr1:29120-29620|chr1:29120-29620|chr1:29120-29620|chr1:29120-29620|chr1:29120-29620|chr1:29120-29620|chr1:29120-29620|chr1:29120-29620|chr1:29120-29620|chr1:29120-29620|chr1:29120-29620|chr1:29120-29620|chr1:29120-29620|chr1:29120-29620|chr1:29120-29620|chr1:29120-29620|chr1:29120-29620|chr1:29120-29620                                                                                                                                            </td><td>0.0079098571</td><td>0.07004</td><td>promoter  </td></tr>\n",
       "\t<tr><td>chr1:115411-115986</td><td>ENCODE-E2G</td><td>ENCODE-E2G_Prediction</td><td>70</td><td>chr1:115484-115984|chr1:115484-115984|chr1:115484-115984|chr1:115484-115984|chr1:115484-115984|chr1:115484-115984|chr1:115484-115984|chr1:115484-115984|chr1:115484-115984|chr1:115484-115984|chr1:115484-115984|chr1:115484-115984|chr1:115484-115984|chr1:115484-115984|chr1:115484-115984|chr1:115484-115984|chr1:115484-115984|chr1:115484-115984|chr1:115484-115984|chr1:115484-115984|chr1:115484-115984|chr1:115484-115984|chr1:115484-115984|chr1:115484-115984|chr1:115484-115984|chr1:115484-115984|chr1:115484-115984|chr1:115484-115984|chr1:115484-115984|chr1:115484-115984|chr1:115484-115984|chr1:115484-115984|chr1:115484-115984|chr1:115484-115984|chr1:115484-115984|chr1:115484-115984|chr1:115484-115984|chr1:115484-115984|chr1:115484-115984|chr1:115484-115984|chr1:115484-115984|chr1:115484-115984|chr1:115484-115984|chr1:115484-115984|chr1:115484-115984|chr1:115484-115984|chr1:115484-115984|chr1:115484-115984|chr1:115484-115984|chr1:115484-115984|chr1:115484-115984|chr1:115484-115984|chr1:115484-115984|chr1:115484-115984|chr1:115484-115984|chr1:115484-115984|chr1:115484-115984|chr1:115484-115984|chr1:115484-115984|chr1:115484-115984|chr1:115484-115984|chr1:115484-115984|chr1:115484-115984|chr1:115484-115984|chr1:115484-115984|chr1:115484-115984|chr1:115484-115984|chr1:115484-115984|chr1:115484-115984|chr1:115484-115984</td><td>0.0465608571</td><td>0.41016</td><td>intergenic</td></tr>\n",
       "\t<tr><td>chr1:180982-182087</td><td>ENCODE-E2G</td><td>ENCODE-E2G_Prediction</td><td>70</td><td>chr1:181231-181731|chr1:181231-181731|chr1:181231-181731|chr1:181231-181731|chr1:181231-181731|chr1:181231-181731|chr1:181231-181731|chr1:181231-181731|chr1:181231-181731|chr1:181231-181731|chr1:181231-181731|chr1:181231-181731|chr1:181231-181731|chr1:181231-181731|chr1:181231-181731|chr1:181231-181731|chr1:181231-181731|chr1:181231-181731|chr1:181231-181731|chr1:181231-181731|chr1:181231-181731|chr1:181231-181731|chr1:181231-181731|chr1:181231-181731|chr1:181231-181731|chr1:181231-181731|chr1:181231-181731|chr1:181231-181731|chr1:181231-181731|chr1:181231-181731|chr1:181231-181731|chr1:181231-181731|chr1:181231-181731|chr1:181231-181731|chr1:181231-181731|chr1:181231-181731|chr1:181231-181731|chr1:181231-181731|chr1:181231-181731|chr1:181231-181731|chr1:181231-181731|chr1:181231-181731|chr1:181231-181731|chr1:181231-181731|chr1:181231-181731|chr1:181231-181731|chr1:181231-181731|chr1:181231-181731|chr1:181231-181731|chr1:181231-181731|chr1:181231-181731|chr1:181231-181731|chr1:181231-181731|chr1:181231-181731|chr1:181231-181731|chr1:181231-181731|chr1:181231-181731|chr1:181231-181731|chr1:181231-181731|chr1:181231-181731|chr1:181231-181731|chr1:181231-181731|chr1:181231-181731|chr1:181231-181731|chr1:181231-181731|chr1:181231-181731|chr1:181231-181731|chr1:181231-181731|chr1:181231-181731|chr1:181231-181731</td><td>0.0008022857</td><td>0.00896</td><td>intergenic</td></tr>\n",
       "\t<tr><td>chr1:777949-779437</td><td>ENCODE-E2G</td><td>ENCODE-E2G_Prediction</td><td>70</td><td>chr1:778438-779143|chr1:778438-779143|chr1:778438-779143|chr1:778438-779143|chr1:778438-779143|chr1:778438-779143|chr1:778438-779143|chr1:778438-779143|chr1:778438-779143|chr1:778438-779143|chr1:778438-779143|chr1:778438-779143|chr1:778438-779143|chr1:778438-779143|chr1:778438-779143|chr1:778438-779143|chr1:778438-779143|chr1:778438-779143|chr1:778438-779143|chr1:778438-779143|chr1:778438-779143|chr1:778438-779143|chr1:778438-779143|chr1:778438-779143|chr1:778438-779143|chr1:778438-779143|chr1:778438-779143|chr1:778438-779143|chr1:778438-779143|chr1:778438-779143|chr1:778438-779143|chr1:778438-779143|chr1:778438-779143|chr1:778438-779143|chr1:778438-779143|chr1:778438-779143|chr1:778438-779143|chr1:778438-779143|chr1:778438-779143|chr1:778438-779143|chr1:778438-779143|chr1:778438-779143|chr1:778438-779143|chr1:778438-779143|chr1:778438-779143|chr1:778438-779143|chr1:778438-779143|chr1:778438-779143|chr1:778438-779143|chr1:778438-779143|chr1:778438-779143|chr1:778438-779143|chr1:778438-779143|chr1:778438-779143|chr1:778438-779143|chr1:778438-779143|chr1:778438-779143|chr1:778438-779143|chr1:778438-779143|chr1:778438-779143|chr1:778438-779143|chr1:778438-779143|chr1:778438-779143|chr1:778438-779143|chr1:778438-779143|chr1:778438-779143|chr1:778438-779143|chr1:778438-779143|chr1:778438-779143|chr1:778438-779143</td><td>0.0801154286</td><td>0.99514</td><td>promoter  </td></tr>\n",
       "\t<tr><td>chr1:816774-817547</td><td>ENCODE-E2G</td><td>ENCODE-E2G_Prediction</td><td>70</td><td>chr1:817120-817620|chr1:817120-817620|chr1:817120-817620|chr1:817120-817620|chr1:817120-817620|chr1:817120-817620|chr1:817120-817620|chr1:817120-817620|chr1:817120-817620|chr1:817120-817620|chr1:817120-817620|chr1:817120-817620|chr1:817120-817620|chr1:817120-817620|chr1:817120-817620|chr1:817120-817620|chr1:817120-817620|chr1:817120-817620|chr1:817120-817620|chr1:817120-817620|chr1:817120-817620|chr1:817120-817620|chr1:817120-817620|chr1:817120-817620|chr1:817120-817620|chr1:817120-817620|chr1:817120-817620|chr1:817120-817620|chr1:817120-817620|chr1:817120-817620|chr1:817120-817620|chr1:817120-817620|chr1:817120-817620|chr1:817120-817620|chr1:817120-817620|chr1:817120-817620|chr1:817120-817620|chr1:817120-817620|chr1:817120-817620|chr1:817120-817620|chr1:817120-817620|chr1:817120-817620|chr1:817120-817620|chr1:817120-817620|chr1:817120-817620|chr1:817120-817620|chr1:817120-817620|chr1:817120-817620|chr1:817120-817620|chr1:817120-817620|chr1:817120-817620|chr1:817120-817620|chr1:817120-817620|chr1:817120-817620|chr1:817120-817620|chr1:817120-817620|chr1:817120-817620|chr1:817120-817620|chr1:817120-817620|chr1:817120-817620|chr1:817120-817620|chr1:817120-817620|chr1:817120-817620|chr1:817120-817620|chr1:817120-817620|chr1:817120-817620|chr1:817120-817620|chr1:817120-817620|chr1:817120-817620|chr1:817120-817620</td><td>0.0366882857</td><td>0.99999</td><td>promoter  </td></tr>\n",
       "\t<tr><td>chr1:826754-828040</td><td>ENCODE-E2G</td><td>ENCODE-E2G_Prediction</td><td>70</td><td>chr1:827244-827847|chr1:827244-827847|chr1:827244-827847|chr1:827244-827847|chr1:827244-827847|chr1:827244-827847|chr1:827244-827847|chr1:827244-827847|chr1:827244-827847|chr1:827244-827847|chr1:827244-827847|chr1:827244-827847|chr1:827244-827847|chr1:827244-827847|chr1:827244-827847|chr1:827244-827847|chr1:827244-827847|chr1:827244-827847|chr1:827244-827847|chr1:827244-827847|chr1:827244-827847|chr1:827244-827847|chr1:827244-827847|chr1:827244-827847|chr1:827244-827847|chr1:827244-827847|chr1:827244-827847|chr1:827244-827847|chr1:827244-827847|chr1:827244-827847|chr1:827244-827847|chr1:827244-827847|chr1:827244-827847|chr1:827244-827847|chr1:827244-827847|chr1:827244-827847|chr1:827244-827847|chr1:827244-827847|chr1:827244-827847|chr1:827244-827847|chr1:827244-827847|chr1:827244-827847|chr1:827244-827847|chr1:827244-827847|chr1:827244-827847|chr1:827244-827847|chr1:827244-827847|chr1:827244-827847|chr1:827244-827847|chr1:827244-827847|chr1:827244-827847|chr1:827244-827847|chr1:827244-827847|chr1:827244-827847|chr1:827244-827847|chr1:827244-827847|chr1:827244-827847|chr1:827244-827847|chr1:827244-827847|chr1:827244-827847|chr1:827244-827847|chr1:827244-827847|chr1:827244-827847|chr1:827244-827847|chr1:827244-827847|chr1:827244-827847|chr1:827244-827847|chr1:827244-827847|chr1:827244-827847|chr1:827244-827847</td><td>0.0696051429</td><td>0.99889</td><td>promoter  </td></tr>\n",
       "</tbody>\n",
       "</table>\n"
      ],
      "text/latex": [
       "A tibble: 6 × 8\n",
       "\\begin{tabular}{llllllll}\n",
       " Peak & Annotation & Label & Count & Region & Score\\_Mean & Score\\_Max & Note\\\\\n",
       " <chr> & <chr> & <chr> & <int> & <chr> & <dbl> & <dbl> & <chr>\\\\\n",
       "\\hline\n",
       "\t chr1:28903-29613   & ENCODE-E2G & ENCODE-E2G\\_Prediction & 70 & chr1:29120-29620\\textbar{}chr1:29120-29620\\textbar{}chr1:29120-29620\\textbar{}chr1:29120-29620\\textbar{}chr1:29120-29620\\textbar{}chr1:29120-29620\\textbar{}chr1:29120-29620\\textbar{}chr1:29120-29620\\textbar{}chr1:29120-29620\\textbar{}chr1:29120-29620\\textbar{}chr1:29120-29620\\textbar{}chr1:29120-29620\\textbar{}chr1:29120-29620\\textbar{}chr1:29120-29620\\textbar{}chr1:29120-29620\\textbar{}chr1:29120-29620\\textbar{}chr1:29120-29620\\textbar{}chr1:29120-29620\\textbar{}chr1:29120-29620\\textbar{}chr1:29120-29620\\textbar{}chr1:29120-29620\\textbar{}chr1:29120-29620\\textbar{}chr1:29120-29620\\textbar{}chr1:29120-29620\\textbar{}chr1:29120-29620\\textbar{}chr1:29120-29620\\textbar{}chr1:29120-29620\\textbar{}chr1:29120-29620\\textbar{}chr1:29120-29620\\textbar{}chr1:29120-29620\\textbar{}chr1:29120-29620\\textbar{}chr1:29120-29620\\textbar{}chr1:29120-29620\\textbar{}chr1:29120-29620\\textbar{}chr1:29120-29620\\textbar{}chr1:29120-29620\\textbar{}chr1:29120-29620\\textbar{}chr1:29120-29620\\textbar{}chr1:29120-29620\\textbar{}chr1:29120-29620\\textbar{}chr1:29120-29620\\textbar{}chr1:29120-29620\\textbar{}chr1:29120-29620\\textbar{}chr1:29120-29620\\textbar{}chr1:29120-29620\\textbar{}chr1:29120-29620\\textbar{}chr1:29120-29620\\textbar{}chr1:29120-29620\\textbar{}chr1:29120-29620\\textbar{}chr1:29120-29620\\textbar{}chr1:29120-29620\\textbar{}chr1:29120-29620\\textbar{}chr1:29120-29620\\textbar{}chr1:29120-29620\\textbar{}chr1:29120-29620\\textbar{}chr1:29120-29620\\textbar{}chr1:29120-29620\\textbar{}chr1:29120-29620\\textbar{}chr1:29120-29620\\textbar{}chr1:29120-29620\\textbar{}chr1:29120-29620\\textbar{}chr1:29120-29620\\textbar{}chr1:29120-29620\\textbar{}chr1:29120-29620\\textbar{}chr1:29120-29620\\textbar{}chr1:29120-29620\\textbar{}chr1:29120-29620\\textbar{}chr1:29120-29620\\textbar{}chr1:29120-29620\\textbar{}chr1:29120-29620                                                                                                                                             & 0.0079098571 & 0.07004 & promoter  \\\\\n",
       "\t chr1:115411-115986 & ENCODE-E2G & ENCODE-E2G\\_Prediction & 70 & chr1:115484-115984\\textbar{}chr1:115484-115984\\textbar{}chr1:115484-115984\\textbar{}chr1:115484-115984\\textbar{}chr1:115484-115984\\textbar{}chr1:115484-115984\\textbar{}chr1:115484-115984\\textbar{}chr1:115484-115984\\textbar{}chr1:115484-115984\\textbar{}chr1:115484-115984\\textbar{}chr1:115484-115984\\textbar{}chr1:115484-115984\\textbar{}chr1:115484-115984\\textbar{}chr1:115484-115984\\textbar{}chr1:115484-115984\\textbar{}chr1:115484-115984\\textbar{}chr1:115484-115984\\textbar{}chr1:115484-115984\\textbar{}chr1:115484-115984\\textbar{}chr1:115484-115984\\textbar{}chr1:115484-115984\\textbar{}chr1:115484-115984\\textbar{}chr1:115484-115984\\textbar{}chr1:115484-115984\\textbar{}chr1:115484-115984\\textbar{}chr1:115484-115984\\textbar{}chr1:115484-115984\\textbar{}chr1:115484-115984\\textbar{}chr1:115484-115984\\textbar{}chr1:115484-115984\\textbar{}chr1:115484-115984\\textbar{}chr1:115484-115984\\textbar{}chr1:115484-115984\\textbar{}chr1:115484-115984\\textbar{}chr1:115484-115984\\textbar{}chr1:115484-115984\\textbar{}chr1:115484-115984\\textbar{}chr1:115484-115984\\textbar{}chr1:115484-115984\\textbar{}chr1:115484-115984\\textbar{}chr1:115484-115984\\textbar{}chr1:115484-115984\\textbar{}chr1:115484-115984\\textbar{}chr1:115484-115984\\textbar{}chr1:115484-115984\\textbar{}chr1:115484-115984\\textbar{}chr1:115484-115984\\textbar{}chr1:115484-115984\\textbar{}chr1:115484-115984\\textbar{}chr1:115484-115984\\textbar{}chr1:115484-115984\\textbar{}chr1:115484-115984\\textbar{}chr1:115484-115984\\textbar{}chr1:115484-115984\\textbar{}chr1:115484-115984\\textbar{}chr1:115484-115984\\textbar{}chr1:115484-115984\\textbar{}chr1:115484-115984\\textbar{}chr1:115484-115984\\textbar{}chr1:115484-115984\\textbar{}chr1:115484-115984\\textbar{}chr1:115484-115984\\textbar{}chr1:115484-115984\\textbar{}chr1:115484-115984\\textbar{}chr1:115484-115984\\textbar{}chr1:115484-115984\\textbar{}chr1:115484-115984\\textbar{}chr1:115484-115984\\textbar{}chr1:115484-115984\\textbar{}chr1:115484-115984 & 0.0465608571 & 0.41016 & intergenic\\\\\n",
       "\t chr1:180982-182087 & ENCODE-E2G & ENCODE-E2G\\_Prediction & 70 & chr1:181231-181731\\textbar{}chr1:181231-181731\\textbar{}chr1:181231-181731\\textbar{}chr1:181231-181731\\textbar{}chr1:181231-181731\\textbar{}chr1:181231-181731\\textbar{}chr1:181231-181731\\textbar{}chr1:181231-181731\\textbar{}chr1:181231-181731\\textbar{}chr1:181231-181731\\textbar{}chr1:181231-181731\\textbar{}chr1:181231-181731\\textbar{}chr1:181231-181731\\textbar{}chr1:181231-181731\\textbar{}chr1:181231-181731\\textbar{}chr1:181231-181731\\textbar{}chr1:181231-181731\\textbar{}chr1:181231-181731\\textbar{}chr1:181231-181731\\textbar{}chr1:181231-181731\\textbar{}chr1:181231-181731\\textbar{}chr1:181231-181731\\textbar{}chr1:181231-181731\\textbar{}chr1:181231-181731\\textbar{}chr1:181231-181731\\textbar{}chr1:181231-181731\\textbar{}chr1:181231-181731\\textbar{}chr1:181231-181731\\textbar{}chr1:181231-181731\\textbar{}chr1:181231-181731\\textbar{}chr1:181231-181731\\textbar{}chr1:181231-181731\\textbar{}chr1:181231-181731\\textbar{}chr1:181231-181731\\textbar{}chr1:181231-181731\\textbar{}chr1:181231-181731\\textbar{}chr1:181231-181731\\textbar{}chr1:181231-181731\\textbar{}chr1:181231-181731\\textbar{}chr1:181231-181731\\textbar{}chr1:181231-181731\\textbar{}chr1:181231-181731\\textbar{}chr1:181231-181731\\textbar{}chr1:181231-181731\\textbar{}chr1:181231-181731\\textbar{}chr1:181231-181731\\textbar{}chr1:181231-181731\\textbar{}chr1:181231-181731\\textbar{}chr1:181231-181731\\textbar{}chr1:181231-181731\\textbar{}chr1:181231-181731\\textbar{}chr1:181231-181731\\textbar{}chr1:181231-181731\\textbar{}chr1:181231-181731\\textbar{}chr1:181231-181731\\textbar{}chr1:181231-181731\\textbar{}chr1:181231-181731\\textbar{}chr1:181231-181731\\textbar{}chr1:181231-181731\\textbar{}chr1:181231-181731\\textbar{}chr1:181231-181731\\textbar{}chr1:181231-181731\\textbar{}chr1:181231-181731\\textbar{}chr1:181231-181731\\textbar{}chr1:181231-181731\\textbar{}chr1:181231-181731\\textbar{}chr1:181231-181731\\textbar{}chr1:181231-181731\\textbar{}chr1:181231-181731\\textbar{}chr1:181231-181731 & 0.0008022857 & 0.00896 & intergenic\\\\\n",
       "\t chr1:777949-779437 & ENCODE-E2G & ENCODE-E2G\\_Prediction & 70 & chr1:778438-779143\\textbar{}chr1:778438-779143\\textbar{}chr1:778438-779143\\textbar{}chr1:778438-779143\\textbar{}chr1:778438-779143\\textbar{}chr1:778438-779143\\textbar{}chr1:778438-779143\\textbar{}chr1:778438-779143\\textbar{}chr1:778438-779143\\textbar{}chr1:778438-779143\\textbar{}chr1:778438-779143\\textbar{}chr1:778438-779143\\textbar{}chr1:778438-779143\\textbar{}chr1:778438-779143\\textbar{}chr1:778438-779143\\textbar{}chr1:778438-779143\\textbar{}chr1:778438-779143\\textbar{}chr1:778438-779143\\textbar{}chr1:778438-779143\\textbar{}chr1:778438-779143\\textbar{}chr1:778438-779143\\textbar{}chr1:778438-779143\\textbar{}chr1:778438-779143\\textbar{}chr1:778438-779143\\textbar{}chr1:778438-779143\\textbar{}chr1:778438-779143\\textbar{}chr1:778438-779143\\textbar{}chr1:778438-779143\\textbar{}chr1:778438-779143\\textbar{}chr1:778438-779143\\textbar{}chr1:778438-779143\\textbar{}chr1:778438-779143\\textbar{}chr1:778438-779143\\textbar{}chr1:778438-779143\\textbar{}chr1:778438-779143\\textbar{}chr1:778438-779143\\textbar{}chr1:778438-779143\\textbar{}chr1:778438-779143\\textbar{}chr1:778438-779143\\textbar{}chr1:778438-779143\\textbar{}chr1:778438-779143\\textbar{}chr1:778438-779143\\textbar{}chr1:778438-779143\\textbar{}chr1:778438-779143\\textbar{}chr1:778438-779143\\textbar{}chr1:778438-779143\\textbar{}chr1:778438-779143\\textbar{}chr1:778438-779143\\textbar{}chr1:778438-779143\\textbar{}chr1:778438-779143\\textbar{}chr1:778438-779143\\textbar{}chr1:778438-779143\\textbar{}chr1:778438-779143\\textbar{}chr1:778438-779143\\textbar{}chr1:778438-779143\\textbar{}chr1:778438-779143\\textbar{}chr1:778438-779143\\textbar{}chr1:778438-779143\\textbar{}chr1:778438-779143\\textbar{}chr1:778438-779143\\textbar{}chr1:778438-779143\\textbar{}chr1:778438-779143\\textbar{}chr1:778438-779143\\textbar{}chr1:778438-779143\\textbar{}chr1:778438-779143\\textbar{}chr1:778438-779143\\textbar{}chr1:778438-779143\\textbar{}chr1:778438-779143\\textbar{}chr1:778438-779143\\textbar{}chr1:778438-779143 & 0.0801154286 & 0.99514 & promoter  \\\\\n",
       "\t chr1:816774-817547 & ENCODE-E2G & ENCODE-E2G\\_Prediction & 70 & chr1:817120-817620\\textbar{}chr1:817120-817620\\textbar{}chr1:817120-817620\\textbar{}chr1:817120-817620\\textbar{}chr1:817120-817620\\textbar{}chr1:817120-817620\\textbar{}chr1:817120-817620\\textbar{}chr1:817120-817620\\textbar{}chr1:817120-817620\\textbar{}chr1:817120-817620\\textbar{}chr1:817120-817620\\textbar{}chr1:817120-817620\\textbar{}chr1:817120-817620\\textbar{}chr1:817120-817620\\textbar{}chr1:817120-817620\\textbar{}chr1:817120-817620\\textbar{}chr1:817120-817620\\textbar{}chr1:817120-817620\\textbar{}chr1:817120-817620\\textbar{}chr1:817120-817620\\textbar{}chr1:817120-817620\\textbar{}chr1:817120-817620\\textbar{}chr1:817120-817620\\textbar{}chr1:817120-817620\\textbar{}chr1:817120-817620\\textbar{}chr1:817120-817620\\textbar{}chr1:817120-817620\\textbar{}chr1:817120-817620\\textbar{}chr1:817120-817620\\textbar{}chr1:817120-817620\\textbar{}chr1:817120-817620\\textbar{}chr1:817120-817620\\textbar{}chr1:817120-817620\\textbar{}chr1:817120-817620\\textbar{}chr1:817120-817620\\textbar{}chr1:817120-817620\\textbar{}chr1:817120-817620\\textbar{}chr1:817120-817620\\textbar{}chr1:817120-817620\\textbar{}chr1:817120-817620\\textbar{}chr1:817120-817620\\textbar{}chr1:817120-817620\\textbar{}chr1:817120-817620\\textbar{}chr1:817120-817620\\textbar{}chr1:817120-817620\\textbar{}chr1:817120-817620\\textbar{}chr1:817120-817620\\textbar{}chr1:817120-817620\\textbar{}chr1:817120-817620\\textbar{}chr1:817120-817620\\textbar{}chr1:817120-817620\\textbar{}chr1:817120-817620\\textbar{}chr1:817120-817620\\textbar{}chr1:817120-817620\\textbar{}chr1:817120-817620\\textbar{}chr1:817120-817620\\textbar{}chr1:817120-817620\\textbar{}chr1:817120-817620\\textbar{}chr1:817120-817620\\textbar{}chr1:817120-817620\\textbar{}chr1:817120-817620\\textbar{}chr1:817120-817620\\textbar{}chr1:817120-817620\\textbar{}chr1:817120-817620\\textbar{}chr1:817120-817620\\textbar{}chr1:817120-817620\\textbar{}chr1:817120-817620\\textbar{}chr1:817120-817620\\textbar{}chr1:817120-817620\\textbar{}chr1:817120-817620 & 0.0366882857 & 0.99999 & promoter  \\\\\n",
       "\t chr1:826754-828040 & ENCODE-E2G & ENCODE-E2G\\_Prediction & 70 & chr1:827244-827847\\textbar{}chr1:827244-827847\\textbar{}chr1:827244-827847\\textbar{}chr1:827244-827847\\textbar{}chr1:827244-827847\\textbar{}chr1:827244-827847\\textbar{}chr1:827244-827847\\textbar{}chr1:827244-827847\\textbar{}chr1:827244-827847\\textbar{}chr1:827244-827847\\textbar{}chr1:827244-827847\\textbar{}chr1:827244-827847\\textbar{}chr1:827244-827847\\textbar{}chr1:827244-827847\\textbar{}chr1:827244-827847\\textbar{}chr1:827244-827847\\textbar{}chr1:827244-827847\\textbar{}chr1:827244-827847\\textbar{}chr1:827244-827847\\textbar{}chr1:827244-827847\\textbar{}chr1:827244-827847\\textbar{}chr1:827244-827847\\textbar{}chr1:827244-827847\\textbar{}chr1:827244-827847\\textbar{}chr1:827244-827847\\textbar{}chr1:827244-827847\\textbar{}chr1:827244-827847\\textbar{}chr1:827244-827847\\textbar{}chr1:827244-827847\\textbar{}chr1:827244-827847\\textbar{}chr1:827244-827847\\textbar{}chr1:827244-827847\\textbar{}chr1:827244-827847\\textbar{}chr1:827244-827847\\textbar{}chr1:827244-827847\\textbar{}chr1:827244-827847\\textbar{}chr1:827244-827847\\textbar{}chr1:827244-827847\\textbar{}chr1:827244-827847\\textbar{}chr1:827244-827847\\textbar{}chr1:827244-827847\\textbar{}chr1:827244-827847\\textbar{}chr1:827244-827847\\textbar{}chr1:827244-827847\\textbar{}chr1:827244-827847\\textbar{}chr1:827244-827847\\textbar{}chr1:827244-827847\\textbar{}chr1:827244-827847\\textbar{}chr1:827244-827847\\textbar{}chr1:827244-827847\\textbar{}chr1:827244-827847\\textbar{}chr1:827244-827847\\textbar{}chr1:827244-827847\\textbar{}chr1:827244-827847\\textbar{}chr1:827244-827847\\textbar{}chr1:827244-827847\\textbar{}chr1:827244-827847\\textbar{}chr1:827244-827847\\textbar{}chr1:827244-827847\\textbar{}chr1:827244-827847\\textbar{}chr1:827244-827847\\textbar{}chr1:827244-827847\\textbar{}chr1:827244-827847\\textbar{}chr1:827244-827847\\textbar{}chr1:827244-827847\\textbar{}chr1:827244-827847\\textbar{}chr1:827244-827847\\textbar{}chr1:827244-827847\\textbar{}chr1:827244-827847\\textbar{}chr1:827244-827847 & 0.0696051429 & 0.99889 & promoter  \\\\\n",
       "\\end{tabular}\n"
      ],
      "text/markdown": [
       "\n",
       "A tibble: 6 × 8\n",
       "\n",
       "| Peak &lt;chr&gt; | Annotation &lt;chr&gt; | Label &lt;chr&gt; | Count &lt;int&gt; | Region &lt;chr&gt; | Score_Mean &lt;dbl&gt; | Score_Max &lt;dbl&gt; | Note &lt;chr&gt; |\n",
       "|---|---|---|---|---|---|---|---|\n",
       "| chr1:28903-29613   | ENCODE-E2G | ENCODE-E2G_Prediction | 70 | chr1:29120-29620|chr1:29120-29620|chr1:29120-29620|chr1:29120-29620|chr1:29120-29620|chr1:29120-29620|chr1:29120-29620|chr1:29120-29620|chr1:29120-29620|chr1:29120-29620|chr1:29120-29620|chr1:29120-29620|chr1:29120-29620|chr1:29120-29620|chr1:29120-29620|chr1:29120-29620|chr1:29120-29620|chr1:29120-29620|chr1:29120-29620|chr1:29120-29620|chr1:29120-29620|chr1:29120-29620|chr1:29120-29620|chr1:29120-29620|chr1:29120-29620|chr1:29120-29620|chr1:29120-29620|chr1:29120-29620|chr1:29120-29620|chr1:29120-29620|chr1:29120-29620|chr1:29120-29620|chr1:29120-29620|chr1:29120-29620|chr1:29120-29620|chr1:29120-29620|chr1:29120-29620|chr1:29120-29620|chr1:29120-29620|chr1:29120-29620|chr1:29120-29620|chr1:29120-29620|chr1:29120-29620|chr1:29120-29620|chr1:29120-29620|chr1:29120-29620|chr1:29120-29620|chr1:29120-29620|chr1:29120-29620|chr1:29120-29620|chr1:29120-29620|chr1:29120-29620|chr1:29120-29620|chr1:29120-29620|chr1:29120-29620|chr1:29120-29620|chr1:29120-29620|chr1:29120-29620|chr1:29120-29620|chr1:29120-29620|chr1:29120-29620|chr1:29120-29620|chr1:29120-29620|chr1:29120-29620|chr1:29120-29620|chr1:29120-29620|chr1:29120-29620|chr1:29120-29620|chr1:29120-29620|chr1:29120-29620                                                                                                                                             | 0.0079098571 | 0.07004 | promoter   |\n",
       "| chr1:115411-115986 | ENCODE-E2G | ENCODE-E2G_Prediction | 70 | chr1:115484-115984|chr1:115484-115984|chr1:115484-115984|chr1:115484-115984|chr1:115484-115984|chr1:115484-115984|chr1:115484-115984|chr1:115484-115984|chr1:115484-115984|chr1:115484-115984|chr1:115484-115984|chr1:115484-115984|chr1:115484-115984|chr1:115484-115984|chr1:115484-115984|chr1:115484-115984|chr1:115484-115984|chr1:115484-115984|chr1:115484-115984|chr1:115484-115984|chr1:115484-115984|chr1:115484-115984|chr1:115484-115984|chr1:115484-115984|chr1:115484-115984|chr1:115484-115984|chr1:115484-115984|chr1:115484-115984|chr1:115484-115984|chr1:115484-115984|chr1:115484-115984|chr1:115484-115984|chr1:115484-115984|chr1:115484-115984|chr1:115484-115984|chr1:115484-115984|chr1:115484-115984|chr1:115484-115984|chr1:115484-115984|chr1:115484-115984|chr1:115484-115984|chr1:115484-115984|chr1:115484-115984|chr1:115484-115984|chr1:115484-115984|chr1:115484-115984|chr1:115484-115984|chr1:115484-115984|chr1:115484-115984|chr1:115484-115984|chr1:115484-115984|chr1:115484-115984|chr1:115484-115984|chr1:115484-115984|chr1:115484-115984|chr1:115484-115984|chr1:115484-115984|chr1:115484-115984|chr1:115484-115984|chr1:115484-115984|chr1:115484-115984|chr1:115484-115984|chr1:115484-115984|chr1:115484-115984|chr1:115484-115984|chr1:115484-115984|chr1:115484-115984|chr1:115484-115984|chr1:115484-115984|chr1:115484-115984 | 0.0465608571 | 0.41016 | intergenic |\n",
       "| chr1:180982-182087 | ENCODE-E2G | ENCODE-E2G_Prediction | 70 | chr1:181231-181731|chr1:181231-181731|chr1:181231-181731|chr1:181231-181731|chr1:181231-181731|chr1:181231-181731|chr1:181231-181731|chr1:181231-181731|chr1:181231-181731|chr1:181231-181731|chr1:181231-181731|chr1:181231-181731|chr1:181231-181731|chr1:181231-181731|chr1:181231-181731|chr1:181231-181731|chr1:181231-181731|chr1:181231-181731|chr1:181231-181731|chr1:181231-181731|chr1:181231-181731|chr1:181231-181731|chr1:181231-181731|chr1:181231-181731|chr1:181231-181731|chr1:181231-181731|chr1:181231-181731|chr1:181231-181731|chr1:181231-181731|chr1:181231-181731|chr1:181231-181731|chr1:181231-181731|chr1:181231-181731|chr1:181231-181731|chr1:181231-181731|chr1:181231-181731|chr1:181231-181731|chr1:181231-181731|chr1:181231-181731|chr1:181231-181731|chr1:181231-181731|chr1:181231-181731|chr1:181231-181731|chr1:181231-181731|chr1:181231-181731|chr1:181231-181731|chr1:181231-181731|chr1:181231-181731|chr1:181231-181731|chr1:181231-181731|chr1:181231-181731|chr1:181231-181731|chr1:181231-181731|chr1:181231-181731|chr1:181231-181731|chr1:181231-181731|chr1:181231-181731|chr1:181231-181731|chr1:181231-181731|chr1:181231-181731|chr1:181231-181731|chr1:181231-181731|chr1:181231-181731|chr1:181231-181731|chr1:181231-181731|chr1:181231-181731|chr1:181231-181731|chr1:181231-181731|chr1:181231-181731|chr1:181231-181731 | 0.0008022857 | 0.00896 | intergenic |\n",
       "| chr1:777949-779437 | ENCODE-E2G | ENCODE-E2G_Prediction | 70 | chr1:778438-779143|chr1:778438-779143|chr1:778438-779143|chr1:778438-779143|chr1:778438-779143|chr1:778438-779143|chr1:778438-779143|chr1:778438-779143|chr1:778438-779143|chr1:778438-779143|chr1:778438-779143|chr1:778438-779143|chr1:778438-779143|chr1:778438-779143|chr1:778438-779143|chr1:778438-779143|chr1:778438-779143|chr1:778438-779143|chr1:778438-779143|chr1:778438-779143|chr1:778438-779143|chr1:778438-779143|chr1:778438-779143|chr1:778438-779143|chr1:778438-779143|chr1:778438-779143|chr1:778438-779143|chr1:778438-779143|chr1:778438-779143|chr1:778438-779143|chr1:778438-779143|chr1:778438-779143|chr1:778438-779143|chr1:778438-779143|chr1:778438-779143|chr1:778438-779143|chr1:778438-779143|chr1:778438-779143|chr1:778438-779143|chr1:778438-779143|chr1:778438-779143|chr1:778438-779143|chr1:778438-779143|chr1:778438-779143|chr1:778438-779143|chr1:778438-779143|chr1:778438-779143|chr1:778438-779143|chr1:778438-779143|chr1:778438-779143|chr1:778438-779143|chr1:778438-779143|chr1:778438-779143|chr1:778438-779143|chr1:778438-779143|chr1:778438-779143|chr1:778438-779143|chr1:778438-779143|chr1:778438-779143|chr1:778438-779143|chr1:778438-779143|chr1:778438-779143|chr1:778438-779143|chr1:778438-779143|chr1:778438-779143|chr1:778438-779143|chr1:778438-779143|chr1:778438-779143|chr1:778438-779143|chr1:778438-779143 | 0.0801154286 | 0.99514 | promoter   |\n",
       "| chr1:816774-817547 | ENCODE-E2G | ENCODE-E2G_Prediction | 70 | chr1:817120-817620|chr1:817120-817620|chr1:817120-817620|chr1:817120-817620|chr1:817120-817620|chr1:817120-817620|chr1:817120-817620|chr1:817120-817620|chr1:817120-817620|chr1:817120-817620|chr1:817120-817620|chr1:817120-817620|chr1:817120-817620|chr1:817120-817620|chr1:817120-817620|chr1:817120-817620|chr1:817120-817620|chr1:817120-817620|chr1:817120-817620|chr1:817120-817620|chr1:817120-817620|chr1:817120-817620|chr1:817120-817620|chr1:817120-817620|chr1:817120-817620|chr1:817120-817620|chr1:817120-817620|chr1:817120-817620|chr1:817120-817620|chr1:817120-817620|chr1:817120-817620|chr1:817120-817620|chr1:817120-817620|chr1:817120-817620|chr1:817120-817620|chr1:817120-817620|chr1:817120-817620|chr1:817120-817620|chr1:817120-817620|chr1:817120-817620|chr1:817120-817620|chr1:817120-817620|chr1:817120-817620|chr1:817120-817620|chr1:817120-817620|chr1:817120-817620|chr1:817120-817620|chr1:817120-817620|chr1:817120-817620|chr1:817120-817620|chr1:817120-817620|chr1:817120-817620|chr1:817120-817620|chr1:817120-817620|chr1:817120-817620|chr1:817120-817620|chr1:817120-817620|chr1:817120-817620|chr1:817120-817620|chr1:817120-817620|chr1:817120-817620|chr1:817120-817620|chr1:817120-817620|chr1:817120-817620|chr1:817120-817620|chr1:817120-817620|chr1:817120-817620|chr1:817120-817620|chr1:817120-817620|chr1:817120-817620 | 0.0366882857 | 0.99999 | promoter   |\n",
       "| chr1:826754-828040 | ENCODE-E2G | ENCODE-E2G_Prediction | 70 | chr1:827244-827847|chr1:827244-827847|chr1:827244-827847|chr1:827244-827847|chr1:827244-827847|chr1:827244-827847|chr1:827244-827847|chr1:827244-827847|chr1:827244-827847|chr1:827244-827847|chr1:827244-827847|chr1:827244-827847|chr1:827244-827847|chr1:827244-827847|chr1:827244-827847|chr1:827244-827847|chr1:827244-827847|chr1:827244-827847|chr1:827244-827847|chr1:827244-827847|chr1:827244-827847|chr1:827244-827847|chr1:827244-827847|chr1:827244-827847|chr1:827244-827847|chr1:827244-827847|chr1:827244-827847|chr1:827244-827847|chr1:827244-827847|chr1:827244-827847|chr1:827244-827847|chr1:827244-827847|chr1:827244-827847|chr1:827244-827847|chr1:827244-827847|chr1:827244-827847|chr1:827244-827847|chr1:827244-827847|chr1:827244-827847|chr1:827244-827847|chr1:827244-827847|chr1:827244-827847|chr1:827244-827847|chr1:827244-827847|chr1:827244-827847|chr1:827244-827847|chr1:827244-827847|chr1:827244-827847|chr1:827244-827847|chr1:827244-827847|chr1:827244-827847|chr1:827244-827847|chr1:827244-827847|chr1:827244-827847|chr1:827244-827847|chr1:827244-827847|chr1:827244-827847|chr1:827244-827847|chr1:827244-827847|chr1:827244-827847|chr1:827244-827847|chr1:827244-827847|chr1:827244-827847|chr1:827244-827847|chr1:827244-827847|chr1:827244-827847|chr1:827244-827847|chr1:827244-827847|chr1:827244-827847|chr1:827244-827847 | 0.0696051429 | 0.99889 | promoter   |\n",
       "\n"
      ],
      "text/plain": [
       "  Peak               Annotation Label                 Count\n",
       "1 chr1:28903-29613   ENCODE-E2G ENCODE-E2G_Prediction 70   \n",
       "2 chr1:115411-115986 ENCODE-E2G ENCODE-E2G_Prediction 70   \n",
       "3 chr1:180982-182087 ENCODE-E2G ENCODE-E2G_Prediction 70   \n",
       "4 chr1:777949-779437 ENCODE-E2G ENCODE-E2G_Prediction 70   \n",
       "5 chr1:816774-817547 ENCODE-E2G ENCODE-E2G_Prediction 70   \n",
       "6 chr1:826754-828040 ENCODE-E2G ENCODE-E2G_Prediction 70   \n",
       "  Region                                                                                                                                                                                                                                                                                                                                                                                                                                                                                                                                                                                                                                                                                                                                                                                                                                                                                                                                                                                                                                                                                                                                                                                                                                                                                                                                                                           \n",
       "1 chr1:29120-29620|chr1:29120-29620|chr1:29120-29620|chr1:29120-29620|chr1:29120-29620|chr1:29120-29620|chr1:29120-29620|chr1:29120-29620|chr1:29120-29620|chr1:29120-29620|chr1:29120-29620|chr1:29120-29620|chr1:29120-29620|chr1:29120-29620|chr1:29120-29620|chr1:29120-29620|chr1:29120-29620|chr1:29120-29620|chr1:29120-29620|chr1:29120-29620|chr1:29120-29620|chr1:29120-29620|chr1:29120-29620|chr1:29120-29620|chr1:29120-29620|chr1:29120-29620|chr1:29120-29620|chr1:29120-29620|chr1:29120-29620|chr1:29120-29620|chr1:29120-29620|chr1:29120-29620|chr1:29120-29620|chr1:29120-29620|chr1:29120-29620|chr1:29120-29620|chr1:29120-29620|chr1:29120-29620|chr1:29120-29620|chr1:29120-29620|chr1:29120-29620|chr1:29120-29620|chr1:29120-29620|chr1:29120-29620|chr1:29120-29620|chr1:29120-29620|chr1:29120-29620|chr1:29120-29620|chr1:29120-29620|chr1:29120-29620|chr1:29120-29620|chr1:29120-29620|chr1:29120-29620|chr1:29120-29620|chr1:29120-29620|chr1:29120-29620|chr1:29120-29620|chr1:29120-29620|chr1:29120-29620|chr1:29120-29620|chr1:29120-29620|chr1:29120-29620|chr1:29120-29620|chr1:29120-29620|chr1:29120-29620|chr1:29120-29620|chr1:29120-29620|chr1:29120-29620|chr1:29120-29620|chr1:29120-29620                                                                                                                                            \n",
       "2 chr1:115484-115984|chr1:115484-115984|chr1:115484-115984|chr1:115484-115984|chr1:115484-115984|chr1:115484-115984|chr1:115484-115984|chr1:115484-115984|chr1:115484-115984|chr1:115484-115984|chr1:115484-115984|chr1:115484-115984|chr1:115484-115984|chr1:115484-115984|chr1:115484-115984|chr1:115484-115984|chr1:115484-115984|chr1:115484-115984|chr1:115484-115984|chr1:115484-115984|chr1:115484-115984|chr1:115484-115984|chr1:115484-115984|chr1:115484-115984|chr1:115484-115984|chr1:115484-115984|chr1:115484-115984|chr1:115484-115984|chr1:115484-115984|chr1:115484-115984|chr1:115484-115984|chr1:115484-115984|chr1:115484-115984|chr1:115484-115984|chr1:115484-115984|chr1:115484-115984|chr1:115484-115984|chr1:115484-115984|chr1:115484-115984|chr1:115484-115984|chr1:115484-115984|chr1:115484-115984|chr1:115484-115984|chr1:115484-115984|chr1:115484-115984|chr1:115484-115984|chr1:115484-115984|chr1:115484-115984|chr1:115484-115984|chr1:115484-115984|chr1:115484-115984|chr1:115484-115984|chr1:115484-115984|chr1:115484-115984|chr1:115484-115984|chr1:115484-115984|chr1:115484-115984|chr1:115484-115984|chr1:115484-115984|chr1:115484-115984|chr1:115484-115984|chr1:115484-115984|chr1:115484-115984|chr1:115484-115984|chr1:115484-115984|chr1:115484-115984|chr1:115484-115984|chr1:115484-115984|chr1:115484-115984|chr1:115484-115984\n",
       "3 chr1:181231-181731|chr1:181231-181731|chr1:181231-181731|chr1:181231-181731|chr1:181231-181731|chr1:181231-181731|chr1:181231-181731|chr1:181231-181731|chr1:181231-181731|chr1:181231-181731|chr1:181231-181731|chr1:181231-181731|chr1:181231-181731|chr1:181231-181731|chr1:181231-181731|chr1:181231-181731|chr1:181231-181731|chr1:181231-181731|chr1:181231-181731|chr1:181231-181731|chr1:181231-181731|chr1:181231-181731|chr1:181231-181731|chr1:181231-181731|chr1:181231-181731|chr1:181231-181731|chr1:181231-181731|chr1:181231-181731|chr1:181231-181731|chr1:181231-181731|chr1:181231-181731|chr1:181231-181731|chr1:181231-181731|chr1:181231-181731|chr1:181231-181731|chr1:181231-181731|chr1:181231-181731|chr1:181231-181731|chr1:181231-181731|chr1:181231-181731|chr1:181231-181731|chr1:181231-181731|chr1:181231-181731|chr1:181231-181731|chr1:181231-181731|chr1:181231-181731|chr1:181231-181731|chr1:181231-181731|chr1:181231-181731|chr1:181231-181731|chr1:181231-181731|chr1:181231-181731|chr1:181231-181731|chr1:181231-181731|chr1:181231-181731|chr1:181231-181731|chr1:181231-181731|chr1:181231-181731|chr1:181231-181731|chr1:181231-181731|chr1:181231-181731|chr1:181231-181731|chr1:181231-181731|chr1:181231-181731|chr1:181231-181731|chr1:181231-181731|chr1:181231-181731|chr1:181231-181731|chr1:181231-181731|chr1:181231-181731\n",
       "4 chr1:778438-779143|chr1:778438-779143|chr1:778438-779143|chr1:778438-779143|chr1:778438-779143|chr1:778438-779143|chr1:778438-779143|chr1:778438-779143|chr1:778438-779143|chr1:778438-779143|chr1:778438-779143|chr1:778438-779143|chr1:778438-779143|chr1:778438-779143|chr1:778438-779143|chr1:778438-779143|chr1:778438-779143|chr1:778438-779143|chr1:778438-779143|chr1:778438-779143|chr1:778438-779143|chr1:778438-779143|chr1:778438-779143|chr1:778438-779143|chr1:778438-779143|chr1:778438-779143|chr1:778438-779143|chr1:778438-779143|chr1:778438-779143|chr1:778438-779143|chr1:778438-779143|chr1:778438-779143|chr1:778438-779143|chr1:778438-779143|chr1:778438-779143|chr1:778438-779143|chr1:778438-779143|chr1:778438-779143|chr1:778438-779143|chr1:778438-779143|chr1:778438-779143|chr1:778438-779143|chr1:778438-779143|chr1:778438-779143|chr1:778438-779143|chr1:778438-779143|chr1:778438-779143|chr1:778438-779143|chr1:778438-779143|chr1:778438-779143|chr1:778438-779143|chr1:778438-779143|chr1:778438-779143|chr1:778438-779143|chr1:778438-779143|chr1:778438-779143|chr1:778438-779143|chr1:778438-779143|chr1:778438-779143|chr1:778438-779143|chr1:778438-779143|chr1:778438-779143|chr1:778438-779143|chr1:778438-779143|chr1:778438-779143|chr1:778438-779143|chr1:778438-779143|chr1:778438-779143|chr1:778438-779143|chr1:778438-779143\n",
       "5 chr1:817120-817620|chr1:817120-817620|chr1:817120-817620|chr1:817120-817620|chr1:817120-817620|chr1:817120-817620|chr1:817120-817620|chr1:817120-817620|chr1:817120-817620|chr1:817120-817620|chr1:817120-817620|chr1:817120-817620|chr1:817120-817620|chr1:817120-817620|chr1:817120-817620|chr1:817120-817620|chr1:817120-817620|chr1:817120-817620|chr1:817120-817620|chr1:817120-817620|chr1:817120-817620|chr1:817120-817620|chr1:817120-817620|chr1:817120-817620|chr1:817120-817620|chr1:817120-817620|chr1:817120-817620|chr1:817120-817620|chr1:817120-817620|chr1:817120-817620|chr1:817120-817620|chr1:817120-817620|chr1:817120-817620|chr1:817120-817620|chr1:817120-817620|chr1:817120-817620|chr1:817120-817620|chr1:817120-817620|chr1:817120-817620|chr1:817120-817620|chr1:817120-817620|chr1:817120-817620|chr1:817120-817620|chr1:817120-817620|chr1:817120-817620|chr1:817120-817620|chr1:817120-817620|chr1:817120-817620|chr1:817120-817620|chr1:817120-817620|chr1:817120-817620|chr1:817120-817620|chr1:817120-817620|chr1:817120-817620|chr1:817120-817620|chr1:817120-817620|chr1:817120-817620|chr1:817120-817620|chr1:817120-817620|chr1:817120-817620|chr1:817120-817620|chr1:817120-817620|chr1:817120-817620|chr1:817120-817620|chr1:817120-817620|chr1:817120-817620|chr1:817120-817620|chr1:817120-817620|chr1:817120-817620|chr1:817120-817620\n",
       "6 chr1:827244-827847|chr1:827244-827847|chr1:827244-827847|chr1:827244-827847|chr1:827244-827847|chr1:827244-827847|chr1:827244-827847|chr1:827244-827847|chr1:827244-827847|chr1:827244-827847|chr1:827244-827847|chr1:827244-827847|chr1:827244-827847|chr1:827244-827847|chr1:827244-827847|chr1:827244-827847|chr1:827244-827847|chr1:827244-827847|chr1:827244-827847|chr1:827244-827847|chr1:827244-827847|chr1:827244-827847|chr1:827244-827847|chr1:827244-827847|chr1:827244-827847|chr1:827244-827847|chr1:827244-827847|chr1:827244-827847|chr1:827244-827847|chr1:827244-827847|chr1:827244-827847|chr1:827244-827847|chr1:827244-827847|chr1:827244-827847|chr1:827244-827847|chr1:827244-827847|chr1:827244-827847|chr1:827244-827847|chr1:827244-827847|chr1:827244-827847|chr1:827244-827847|chr1:827244-827847|chr1:827244-827847|chr1:827244-827847|chr1:827244-827847|chr1:827244-827847|chr1:827244-827847|chr1:827244-827847|chr1:827244-827847|chr1:827244-827847|chr1:827244-827847|chr1:827244-827847|chr1:827244-827847|chr1:827244-827847|chr1:827244-827847|chr1:827244-827847|chr1:827244-827847|chr1:827244-827847|chr1:827244-827847|chr1:827244-827847|chr1:827244-827847|chr1:827244-827847|chr1:827244-827847|chr1:827244-827847|chr1:827244-827847|chr1:827244-827847|chr1:827244-827847|chr1:827244-827847|chr1:827244-827847|chr1:827244-827847\n",
       "  Score_Mean   Score_Max Note      \n",
       "1 0.0079098571 0.07004   promoter  \n",
       "2 0.0465608571 0.41016   intergenic\n",
       "3 0.0008022857 0.00896   intergenic\n",
       "4 0.0801154286 0.99514   promoter  \n",
       "5 0.0366882857 0.99999   promoter  \n",
       "6 0.0696051429 0.99889   promoter  "
      ]
     },
     "metadata": {},
     "output_type": "display_data"
    }
   ],
   "source": [
    "### init\n",
    "dat = dat_peak_annot_import\n",
    "\n",
    "### summarize\n",
    "dat = dat %>%\n",
    "    dplyr::group_by(Chrom_ATAC, Start_ATAC, End_ATAC, Peak_ATAC, Annotation, Label) %>%\n",
    "    dplyr::summarise(\n",
    "        Count      = n(), \n",
    "        Region     = paste(Region, collapse=\"|\"),\n",
    "        Score_Mean = mean(Value),\n",
    "        Score_Max  = max(Value),\n",
    "        Note       = paste(sort(unique(Note)), collapse=\"|\"),\n",
    "        .groups    = \"drop\")\n",
    "\n",
    "## Arrange\n",
    "dat = dat %>% \n",
    "    dplyr::arrange(Chrom_ATAC, Start_ATAC, End_ATAC) %>%\n",
    "    dplyr::select(-Chrom_ATAC, -Start_ATAC, -End_ATAC) %>%\n",
    "    dplyr::rename(\"Peak\" = Peak_ATAC)\n",
    "\n",
    "### assign and show\n",
    "dat_peak_annot_summary = dat\n",
    "print(dim(dat))\n",
    "head(dat)"
   ]
  },
  {
   "cell_type": "markdown",
   "metadata": {},
   "source": [
    "## Explore and check results"
   ]
  },
  {
   "cell_type": "code",
   "execution_count": 9,
   "metadata": {},
   "outputs": [
    {
     "data": {
      "text/plain": [
       "$`ENCODE-E2G_Prediction`\n",
       "\n",
       "                    genic          genic|intergenic genic|intergenic|promoter \n",
       "                    35620                        56                        24 \n",
       "           genic|promoter                intergenic       intergenic|promoter \n",
       "                     1072                     34272                       382 \n",
       "                 promoter \n",
       "                    12703 \n"
      ]
     },
     "metadata": {},
     "output_type": "display_data"
    }
   ],
   "source": [
    "dat = dat_peak_annot_summary\n",
    "lst = split(dat, dat$Label)\n",
    "lst = lapply(lst, function(dat){\n",
    "    table(dat$Note)\n",
    "})\n",
    "lst"
   ]
  },
  {
   "cell_type": "code",
   "execution_count": 10,
   "metadata": {},
   "outputs": [
    {
     "data": {
      "text/plain": [
       "$`ENCODE-E2G_Prediction`\n",
       "\n",
       "   1    2    3    4    5    6    7    8    9   10   11   12   13   14   15   16 \n",
       "   8    3   38   74   47   57   22  102  109  113  203  223  416  411  373  426 \n",
       "  17   18   19   20   21   22   23   24   25   26   27   28   29   30   31   32 \n",
       " 463  588  763  687 1286 1090  985  860  947  932 1015 1162  851 1058 1266  891 \n",
       "  33   34   35   36   37   38   39   40   41   42   43   44   45   46   47   48 \n",
       "1478 1181  977 1323 1111 1216 1254 1154 1142 1080  825  855  570 1021 1043 1307 \n",
       "  49   50   51   52   53   54   55   56   57   58   59   60   61   62   63   64 \n",
       " 833  859  802  932  753  603  542  700  750  500  824  745  446  758  801  804 \n",
       "  65   66   67   68   69   70   71   72   73   74   75   76   77   78   79   80 \n",
       " 569  807  428  651  462  711  755  674  596  695  526  614  487  537  395  585 \n",
       "  81   82   83   84   85   86   87   88   89   90   91   92   93   94   95   96 \n",
       " 568  486  457  489  710  481  276  465  479  337  366  420  297  350  362  323 \n",
       "  97   98   99  100  101  102  103  104  105  106  107  108  109  110  111  112 \n",
       " 374  265  278  301  211  393  308  307  287  250  177  263  291  361  249  279 \n",
       " 113  114  115  116  117  118  119  120  121  122  123  124  125  126  127  128 \n",
       " 117  230  190  227  336  418  261  210  136  189  139  197  199  221  143  210 \n",
       " 129  130  131  132  133  134  135  136  137  138  139  140  141  142  143  144 \n",
       " 234  207   90  220  126  139   72  153   78  118  133  169  134  173   73  160 \n",
       " 145  146  147  148  149  150  151  152  153  154  155  156  157  158  159  160 \n",
       " 102  176   62  138   33  112   81  114   59   98  100   97   61   76   57  104 \n",
       " 161  162  163  164  165  166  167  168  169  170  171  172  173  174  175  176 \n",
       "  61  115   51   78   49   83   24  116  100  466  129  186  147  144   68  167 \n",
       " 177  178  179  180  181  182  183  184  185  186  187  188  189  190  191  192 \n",
       "  81  115   98  142   84  121  101  122   75   98   52   95   50  117   52   84 \n",
       " 193  194  195  196  197  198  199  200  201  202  203  204  205  206  207  208 \n",
       "  90   83   75   49   35   43   36   78   53   44   39   76   32   89   69   82 \n",
       " 209  210  211  212  213  214  215  216  217  218  219  220  221  222  223  224 \n",
       "  13   70    9   34   42   65   37   61   77  106   85  128  126  118  131   84 \n",
       " 225  226  227  228  229  230  231  232  233  234  235  236  237  238  239  240 \n",
       "  77  104   78   77   21   81   34   49   27   84   26   76   91   97   68   93 \n",
       " 241  242  243  244  245  246  247  248  249  250  251  252  253  254  255  256 \n",
       "  57   68   47   61   11   13   15   13   14   39    5   31    6   31   14   28 \n",
       " 257  258  259  260  261  262  263  264  265  266  267  268  269  270  271  272 \n",
       "  36   72   61   48   35   16   38   55   27   31   24   61   42   89   55   41 \n",
       " 273  274  275  276  277  278  279  280  281  282  283  284  285  286  287  288 \n",
       "  43   50   52   42   28   19   23   17   16   25   14   16    6    7    4   26 \n",
       " 289  290  291  292  293  294  296  297  298  300  302  303  304  305  306  308 \n",
       "   4   20    6   16    6    6   13    1    4   10   12    3   10    2    9    6 \n",
       " 309  310  312  313  314  315  316  318  319  320  321  322  324  326  327  328 \n",
       "   3    5   16    1    6    1    6    5    1    7    3    6    6    1    5    8 \n",
       " 330  332  334  336  338  340  342  344  345  346  348  350  351  352  354  356 \n",
       "  14    6    2   18   10   41   17   11    1   14   10    5    1   13   10    7 \n",
       " 357  358  359  360  362  364  366  367  368  369  370  372  374  375  376  378 \n",
       "   8   12    1   16   13    8   13    1    5    1    3   12    1    1    7    5 \n",
       " 380  381  382  384  386  387  388  390  392  394  396  398  400  402  404  406 \n",
       "   9    2    6   11    5    4    6   11    2    6    4    5    6    4    5    3 \n",
       " 408  410  411  412  414  416  417  418  419  420  422  423  424  426  427  428 \n",
       "   1    7    2    5   10    8    2    3    1    8    1    1    3    4    1    7 \n",
       " 430  432  434  435  436  437  438  439  440  442  444  445  446  447  448  450 \n",
       "   1    4    9    4    8    1   13    3    9   13   12    1    7    1    5   12 \n",
       " 452  453  454  456  458  459  460  462  464  466  468  469  470  472  474  476 \n",
       "  17    2   11    9    2    1    3    3    7    3    8    1    5    5   17    8 \n",
       " 477  480  481  482  484  486  488  489  490  492  494  500  504  507  508  510 \n",
       "   1   14    1    4    9    4    2    1    1    2    2    2    2    2    2    6 \n",
       " 512  513  514  516  518  520  521  522  526  527  528  530  531  532  534  536 \n",
       "   2    2    5   11    6    6    1    2    3    1    2    1    1    2    1    3 \n",
       " 538  540  542  544  546  548  550  552  554  556  558  560  561  562  564  566 \n",
       "   6    9    4    1    4    5    4    4    4    1    2    1    1    1    1    1 \n",
       " 570  571  573  577  578  582  585  586  600  603  621  624  651  654  657  659 \n",
       "   1    1    1    1    1    2    2    1    1    2    1    2    1    2    2    1 \n",
       " 660  666  681  692  697  711  716  717  720  771  774  783  788  792  804  812 \n",
       "   3    2    1    1    1    4    1    3    2    1    2    1    1    1    1    1 \n",
       " 822  828  837  840  849  858  864  976 \n",
       "   1    1    1    1    1    1    1    1 \n"
      ]
     },
     "metadata": {},
     "output_type": "display_data"
    }
   ],
   "source": [
    "dat = dat_peak_annot_summary\n",
    "lst = split(dat, dat$Label)\n",
    "lst = lapply(lst, function(dat){\n",
    "    table(dat$Count)\n",
    "})\n",
    "lst"
   ]
  },
  {
   "cell_type": "markdown",
   "metadata": {},
   "source": [
    "## Save results"
   ]
  },
  {
   "cell_type": "code",
   "execution_count": 11,
   "metadata": {},
   "outputs": [],
   "source": [
    "fdiry = file.path(\n",
    "    FD_RES, \n",
    "    \"results\", \n",
    "    \"region\", \n",
    "    \"KS91_K562_ASTARRseq_peak_macs_input\", \n",
    "    \"summary\")\n",
    "fname = \"peak.summary.encode_e2g_prediction.total.tsv\"\n",
    "fpath = file.path(fdiry, fname)\n",
    "\n",
    "dat = dat_peak_annot_summary\n",
    "write_tsv(dat, fpath)"
   ]
  },
  {
   "cell_type": "code",
   "execution_count": null,
   "metadata": {},
   "outputs": [],
   "source": []
  }
 ],
 "metadata": {
  "kernelspec": {
   "display_name": "R",
   "language": "R",
   "name": "ir"
  },
  "language_info": {
   "codemirror_mode": "r",
   "file_extension": ".r",
   "mimetype": "text/x-r-source",
   "name": "R",
   "pygments_lexer": "r",
   "version": "4.3.1"
  }
 },
 "nbformat": 4,
 "nbformat_minor": 4
}
