{
 "cells": [
  {
   "cell_type": "markdown",
   "id": "14822c17-5d3c-4244-af1b-f9700e14be13",
   "metadata": {},
   "source": [
    "**Set environment**"
   ]
  },
  {
   "cell_type": "code",
   "execution_count": 1,
   "id": "7daba40b-102d-4cc8-9457-e8facb806ead",
   "metadata": {},
   "outputs": [
    {
     "name": "stdout",
     "output_type": "stream",
     "text": [
      "You are on Duke Server: HARDAC\n",
      "BASE DIRECTORY (FD_BASE): /data/reddylab/Kuei\n",
      "WORK DIRECTORY (FD_WORK): /data/reddylab/Kuei/out\n",
      "CODE DIRECTORY (FD_CODE): /data/reddylab/Kuei/code\n",
      "SING DIRECTORY (FD_SING): /data/reddylab/Kuei/singularity\n",
      "PATH OF PROJECT (FD_PRJ): /data/reddylab/Kuei/code/Proj_CombEffect_ENCODE_FCC\n",
      "PATH OF RESULTS (FD_RES): /data/reddylab/Kuei/out/proj_combeffect_encode_fcc\n",
      "PATH OF LOG     (FD_LOG): /data/reddylab/Kuei/out/proj_combeffect_encode_fcc/log\n",
      "\n"
     ]
    }
   ],
   "source": [
    "### set env\n",
    "source ../config/config_duke.sh\n",
    "source ../config/config_load_module_bedtools.sh\n",
    "show_env"
   ]
  },
  {
   "cell_type": "markdown",
   "id": "8a5518a8-26d0-452c-99f1-596fc7220b10",
   "metadata": {},
   "source": [
    "## Region to annotation: ATAC peaks"
   ]
  },
  {
   "cell_type": "code",
   "execution_count": 2,
   "id": "fcdba350-5cdf-4497-827a-372d3e75c636",
   "metadata": {},
   "outputs": [
    {
     "name": "stdout",
     "output_type": "stream",
     "text": [
      "\u001b[0m\u001b[38;5;9m/data/reddylab/Kuei/out/proj_combeffect_encode_fcc/results/region/KS91_K562_ASTARRseq_peak_macs_input/KS91_K562_hg38_ASTARRseq_Input.all_reps.masked.union_narrowPeak.q5.bed.gz\u001b[0m\u001b[K\n",
      "chr1\t10015\t10442\n",
      "chr1\t14253\t14645\n",
      "chr1\t16015\t16477\n",
      "chr1\t17237\t17772\n",
      "chr1\t28903\t29613\n",
      "chr1\t30803\t31072\n",
      "chr1\t101603\t101849\n",
      "chr1\t115411\t115986\n",
      "chr1\t118518\t118743\n",
      "chr1\t136071\t137429\n"
     ]
    }
   ],
   "source": [
    "FD_REG=${FD_RES}/results/region/KS91_K562_ASTARRseq_peak_macs_input\n",
    "FN_REG=KS91_K562_hg38_ASTARRseq_Input.all_reps.masked.union_narrowPeak.q5.bed.gz\n",
    "FP_REG=${FD_REG}/${FN_REG}\n",
    "ls   ${FP_REG}\n",
    "zcat ${FP_REG} | head"
   ]
  },
  {
   "cell_type": "markdown",
   "id": "cc9d8155-feca-4e12-9c6f-b6a06dca02db",
   "metadata": {},
   "source": [
    "## Annotation: intact Hi-C (ENCSR479XDG)"
   ]
  },
  {
   "cell_type": "markdown",
   "id": "b4528dc1-80f0-4a17-9bc6-9a139c33dea6",
   "metadata": {},
   "source": [
    "**Check data**"
   ]
  },
  {
   "cell_type": "code",
   "execution_count": 3,
   "id": "57a8b79a-e1d6-489e-8d86-2702a1abb476",
   "metadata": {},
   "outputs": [
    {
     "name": "stdout",
     "output_type": "stream",
     "text": [
      "hic_intact.ENCSR479XDG.Loop_A.bed.gz\n",
      "hic_intact.ENCSR479XDG.Loop_B.bed.gz\n"
     ]
    }
   ],
   "source": [
    "FOLDER=hic_intact_ENCSR479XDG\n",
    "FD_ANT=${FD_RES}/results/region/${FOLDER}\n",
    "FP_ANTS=($(ls ${FD_ANT}/*bed.gz))\n",
    "\n",
    "basename -a ${FP_ANTS[@]}"
   ]
  },
  {
   "cell_type": "markdown",
   "id": "701981d0-a39a-417d-99ad-b544f6e43894",
   "metadata": {},
   "source": [
    "**Annotatoin**"
   ]
  },
  {
   "cell_type": "code",
   "execution_count": 5,
   "id": "6681eaee-81a1-4ca4-92c2-bd51d8c552eb",
   "metadata": {},
   "outputs": [
    {
     "name": "stdout",
     "output_type": "stream",
     "text": [
      "\u001b[0m\u001b[38;5;34mrun_bedtools_annot_A.sh\u001b[0m        \u001b[38;5;34mrun_bedtools_intersect.sh\u001b[0m\n",
      "\u001b[38;5;34mrun_bedtools_annot.sh\u001b[0m          \u001b[38;5;34mrun_bedtools_merge_assay.sh\u001b[0m\n",
      "\u001b[38;5;34mrun_bedtools_closest.sh\u001b[0m        \u001b[38;5;34mrun_bedtools_merge_region.sh\u001b[0m\n",
      "\u001b[38;5;34mrun_bedtools_intersect_inv.sh\u001b[0m  \u001b[38;5;34mrun_bedtools_test.sh\u001b[0m\n"
     ]
    }
   ],
   "source": [
    "ls ../scripts/"
   ]
  },
  {
   "cell_type": "code",
   "execution_count": 6,
   "id": "a7fe7265-31e6-41c2-a721-5562beff9cd4",
   "metadata": {},
   "outputs": [
    {
     "name": "stdout",
     "output_type": "stream",
     "text": [
      "File Folder (Output):\n",
      "/data/reddylab/Kuei/out/proj_combeffect_encode_fcc/results/region/KS91_K562_ASTARRseq_peak_macs_input/hic_intact_ENCSR479XDG\n",
      "\n",
      "File Prefix (Annotation): hic_intact.ENCSR479XDG.Loop_A\n",
      "File Name   (Annotation): hic_intact.ENCSR479XDG.Loop_A.bed.gz\n",
      "File Name   (Output):     peak.annotation.hic_intact.ENCSR479XDG.Loop_A.bed.gz\n",
      "File Path   (Log):        ${FD_LOG}/peak.annotation.hic_intact.ENCSR479XDG.Loop_A.txt\n",
      "\n",
      "Submitted batch job 30256337\n",
      "\n",
      "File Prefix (Annotation): hic_intact.ENCSR479XDG.Loop_B\n",
      "File Name   (Annotation): hic_intact.ENCSR479XDG.Loop_B.bed.gz\n",
      "File Name   (Output):     peak.annotation.hic_intact.ENCSR479XDG.Loop_B.bed.gz\n",
      "File Path   (Log):        ${FD_LOG}/peak.annotation.hic_intact.ENCSR479XDG.Loop_B.txt\n",
      "\n",
      "Submitted batch job 30256338\n",
      "\n"
     ]
    }
   ],
   "source": [
    "FOLDER=hic_intact_ENCSR479XDG\n",
    "FD_ANT=${FD_RES}/results/region/${FOLDER}\n",
    "FP_ANTS=($(ls ${FD_ANT}/*bed.gz))\n",
    "\n",
    "FD_OUT=${FD_REG}/${FOLDER}\n",
    "echo \"File Folder (Output):\"\n",
    "echo ${FD_OUT}\n",
    "echo \n",
    "\n",
    "for FP_ANT in ${FP_ANTS[@]}; do\n",
    "    FN_ANT=$(basename ${FP_ANT})\n",
    "    PREFIX=${FN_ANT%.bed.gz}\n",
    "    \n",
    "    FN_LOG=peak.annotation.${PREFIX}.txt\n",
    "    FP_LOG='${FD_LOG}/'${FN_LOG}\n",
    "    \n",
    "    FD_OUT=${FD_REG}/${FOLDER}\n",
    "    FN_OUT=peak.annotation.${FN_ANT}\n",
    "    FP_OUT=${FD_OUT}/${FN_OUT}\n",
    "    \n",
    "    echo \"File Prefix (Annotation):\" ${PREFIX}\n",
    "    echo \"File Name   (Annotation):\" ${FN_ANT}\n",
    "    echo \"File Name   (Output):    \" ${FN_OUT}\n",
    "    echo \"File Path   (Log):       \" ${FP_LOG}\n",
    "    echo\n",
    "    mkdir  -p ${FD_OUT}\n",
    "    sbatch -p ${NODE} \\\n",
    "        --exclude=dl-01 \\\n",
    "        --cpus-per-task 4 \\\n",
    "        --mem 4G \\\n",
    "        --output ${FD_LOG}/${FN_LOG} \\\n",
    "        ../scripts/run_bedtools_intersect.sh ${FP_REG} ${FP_ANT} ${FP_OUT}\n",
    "    echo\n",
    "done"
   ]
  },
  {
   "cell_type": "code",
   "execution_count": 7,
   "id": "9520a591-8fc5-4e36-abbe-69516d06cdf8",
   "metadata": {},
   "outputs": [
    {
     "name": "stdout",
     "output_type": "stream",
     "text": [
      "File Folder (Output):\n",
      "/data/reddylab/Kuei/out/proj_combeffect_encode_fcc/results/region/KS91_K562_ASTARRseq_peak_macs_input/hic_intact_ENCSR479XDG\n",
      "\n",
      "File Prefix (Annotation): hic_intact.ENCSR479XDG.Loop_A\n",
      "File Name   (Annotation): hic_intact.ENCSR479XDG.Loop_A.bed.gz\n",
      "File Name   (Output):     peak.closest.hic_intact.ENCSR479XDG.Loop_A.bed.gz\n",
      "File Path   (Log):        ${FD_LOG}/peak.closest.hic_intact.ENCSR479XDG.Loop_A.txt\n",
      "\n",
      "Submitted batch job 30256339\n",
      "\n",
      "File Prefix (Annotation): hic_intact.ENCSR479XDG.Loop_B\n",
      "File Name   (Annotation): hic_intact.ENCSR479XDG.Loop_B.bed.gz\n",
      "File Name   (Output):     peak.closest.hic_intact.ENCSR479XDG.Loop_B.bed.gz\n",
      "File Path   (Log):        ${FD_LOG}/peak.closest.hic_intact.ENCSR479XDG.Loop_B.txt\n",
      "\n",
      "Submitted batch job 30256340\n",
      "\n"
     ]
    }
   ],
   "source": [
    "FOLDER=hic_intact_ENCSR479XDG\n",
    "FD_ANT=${FD_RES}/results/region/${FOLDER}\n",
    "FP_ANTS=($(ls ${FD_ANT}/*bed.gz))\n",
    "\n",
    "FD_OUT=${FD_REG}/${FOLDER}\n",
    "echo \"File Folder (Output):\"\n",
    "echo ${FD_OUT}\n",
    "echo \n",
    "\n",
    "for FP_ANT in ${FP_ANTS[@]}; do\n",
    "    FN_ANT=$(basename ${FP_ANT})\n",
    "    PREFIX=${FN_ANT%.bed.gz}\n",
    "    \n",
    "    FN_LOG=peak.closest.${PREFIX}.txt\n",
    "    FP_LOG='${FD_LOG}/'${FN_LOG}\n",
    "    \n",
    "    FD_OUT=${FD_REG}/${FOLDER}\n",
    "    FN_OUT=peak.closest.${FN_ANT}\n",
    "    FP_OUT=${FD_OUT}/${FN_OUT}\n",
    "    \n",
    "    echo \"File Prefix (Annotation):\" ${PREFIX}\n",
    "    echo \"File Name   (Annotation):\" ${FN_ANT}\n",
    "    echo \"File Name   (Output):    \" ${FN_OUT}\n",
    "    echo \"File Path   (Log):       \" ${FP_LOG}\n",
    "    echo\n",
    "    mkdir  -p ${FD_OUT}\n",
    "    sbatch -p ${NODE} \\\n",
    "        --exclude=dl-01 \\\n",
    "        --cpus-per-task 4 \\\n",
    "        --mem 4G \\\n",
    "        --output ${FD_LOG}/${FN_LOG} \\\n",
    "        ../scripts/run_bedtools_closest.sh ${FP_REG} ${FP_ANT} ${FP_OUT}\n",
    "    echo\n",
    "done"
   ]
  },
  {
   "cell_type": "markdown",
   "id": "d6b1b461-2374-4707-9083-13a98efdcb4e",
   "metadata": {},
   "source": [
    "**Check results**"
   ]
  },
  {
   "cell_type": "code",
   "execution_count": 11,
   "id": "4322fcfe-b292-43a9-9b1f-eb97c3131292",
   "metadata": {
    "tags": []
   },
   "outputs": [
    {
     "name": "stdout",
     "output_type": "stream",
     "text": [
      "Hostname:           x1-03-1.genome.duke.edu\n",
      "Slurm Array Index: \n",
      "Time Stamp:         10-16-23+16:22:00\n",
      "\n",
      "Input:  /data/reddylab/Kuei/out/proj_combeffect_encode_fcc/results/region/KS91_K562_ASTARRseq_peak_macs_input/KS91_K562_hg38_ASTARRseq_Input.all_reps.masked.union_narrowPeak.q5.bed.gz\n",
      "\n",
      "show first few lines of input\n",
      "chr1\t10015\t10442\n",
      "chr1\t14253\t14645\n",
      "chr1\t16015\t16477\n",
      "chr1\t17237\t17772\n",
      "chr1\t28903\t29613\n",
      "chr1\t30803\t31072\n",
      "chr1\t101603\t101849\n",
      "chr1\t115411\t115986\n",
      "chr1\t118518\t118743\n",
      "chr1\t136071\t137429\n",
      "\n",
      "Input:  /data/reddylab/Kuei/out/proj_combeffect_encode_fcc/results/region/hic_intact_ENCSR479XDG/hic_intact.ENCSR479XDG.Loop_A.bed.gz\n",
      "\n",
      "show first few lines of input\n",
      "chr1\t770000\t780000\n",
      "chr1\t904000\t906000\n",
      "chr1\t920000\t925000\n",
      "chr1\t980000\t990000\n",
      "chr1\t984000\t985000\n",
      "chr1\t1000000\t1005000\n",
      "chr1\t1020000\t1025000\n",
      "chr1\t1033000\t1034000\n",
      "chr1\t1116000\t1118000\n",
      "chr1\t1120000\t1125000\n",
      "\n",
      "\n",
      "Output:  /data/reddylab/Kuei/out/proj_combeffect_encode_fcc/results/region/KS91_K562_ASTARRseq_peak_macs_input/hic_intact_ENCSR479XDG/peak.annotation.hic_intact.ENCSR479XDG.Loop_A.bed.gz\n",
      "\n",
      "show first few lines of output:\n",
      "chr1\t770944\t771343\tchr1\t770000\t780000\t399\n",
      "chr1\t777949\t779437\tchr1\t770000\t780000\t1488\n",
      "chr1\t903633\t905556\tchr1\t904000\t906000\t1556\n",
      "chr1\t920697\t921526\tchr1\t920000\t925000\t829\n",
      "chr1\t923417\t925194\tchr1\t920000\t925000\t1583\n",
      "chr1\t978177\t980894\tchr1\t980000\t990000\t894\n",
      "chr1\t984016\t984547\tchr1\t984000\t985000\t531\n",
      "chr1\t984016\t984547\tchr1\t980000\t990000\t531\n",
      "chr1\t998921\t1001204\tchr1\t1000000\t1005000\t1204\n",
      "chr1\t1001499\t1002142\tchr1\t1000000\t1005000\t643\n",
      "\n",
      "\n",
      "Done!\n",
      "Run Time: 2 seconds\n"
     ]
    }
   ],
   "source": [
    "cat ${FD_LOG}/peak.annotation.hic_intact.ENCSR479XDG.Loop_A.txt"
   ]
  },
  {
   "cell_type": "code",
   "execution_count": 12,
   "id": "2de05bf6-44eb-4f83-b9a3-499fb6c75282",
   "metadata": {},
   "outputs": [
    {
     "name": "stdout",
     "output_type": "stream",
     "text": [
      "Hostname:           x1-03-1.genome.duke.edu\n",
      "Slurm Array Index: \n",
      "Time Stamp:         10-16-23+16:22:17\n",
      "\n",
      "Input:  /data/reddylab/Kuei/out/proj_combeffect_encode_fcc/results/region/KS91_K562_ASTARRseq_peak_macs_input/KS91_K562_hg38_ASTARRseq_Input.all_reps.masked.union_narrowPeak.q5.bed.gz\n",
      "\n",
      "show first few lines of input\n",
      "chr1\t10015\t10442\n",
      "chr1\t14253\t14645\n",
      "chr1\t16015\t16477\n",
      "chr1\t17237\t17772\n",
      "chr1\t28903\t29613\n",
      "chr1\t30803\t31072\n",
      "chr1\t101603\t101849\n",
      "chr1\t115411\t115986\n",
      "chr1\t118518\t118743\n",
      "chr1\t136071\t137429\n",
      "\n",
      "Input:  /data/reddylab/Kuei/out/proj_combeffect_encode_fcc/results/region/hic_intact_ENCSR479XDG/hic_intact.ENCSR479XDG.Loop_A.bed.gz\n",
      "\n",
      "show first few lines of input\n",
      "chr1\t770000\t780000\n",
      "chr1\t904000\t906000\n",
      "chr1\t920000\t925000\n",
      "chr1\t980000\t990000\n",
      "chr1\t984000\t985000\n",
      "chr1\t1000000\t1005000\n",
      "chr1\t1020000\t1025000\n",
      "chr1\t1033000\t1034000\n",
      "chr1\t1116000\t1118000\n",
      "chr1\t1120000\t1125000\n",
      "\n",
      "\n",
      "Output:  /data/reddylab/Kuei/out/proj_combeffect_encode_fcc/results/region/KS91_K562_ASTARRseq_peak_macs_input/hic_intact_ENCSR479XDG/peak.closest.hic_intact.ENCSR479XDG.Loop_A.bed.gz\n",
      "\n",
      "show first few lines of output:\n",
      "chr1\t10015\t10442\tchr1\t770000\t780000\t759559\n",
      "chr1\t14253\t14645\tchr1\t770000\t780000\t755356\n",
      "chr1\t16015\t16477\tchr1\t770000\t780000\t753524\n",
      "chr1\t17237\t17772\tchr1\t770000\t780000\t752229\n",
      "chr1\t28903\t29613\tchr1\t770000\t780000\t740388\n",
      "chr1\t30803\t31072\tchr1\t770000\t780000\t738929\n",
      "chr1\t101603\t101849\tchr1\t770000\t780000\t668152\n",
      "chr1\t115411\t115986\tchr1\t770000\t780000\t654015\n",
      "chr1\t118518\t118743\tchr1\t770000\t780000\t651258\n",
      "chr1\t136071\t137429\tchr1\t770000\t780000\t632572\n",
      "\n",
      "\n",
      "Done!\n",
      "Run Time: 3 seconds\n"
     ]
    }
   ],
   "source": [
    "cat ${FD_LOG}/peak.closest.hic_intact.ENCSR479XDG.Loop_A.txt"
   ]
  },
  {
   "cell_type": "markdown",
   "id": "3b669439-f9d4-4b63-be7b-561a06b4e905",
   "metadata": {
    "tags": []
   },
   "source": [
    "## Annotation: intact Hi-C (Deep)"
   ]
  },
  {
   "cell_type": "markdown",
   "id": "43ff0731-3a70-49c9-8451-5b3bf9ce8f09",
   "metadata": {},
   "source": [
    "**Check data**"
   ]
  },
  {
   "cell_type": "code",
   "execution_count": 8,
   "id": "7f38639a-9ebc-4c7b-a244-7fcea8f7df63",
   "metadata": {},
   "outputs": [
    {
     "name": "stdout",
     "output_type": "stream",
     "text": [
      "hic_intact.deep.Loop_A.bed.gz\n",
      "hic_intact.deep.Loop_B.bed.gz\n"
     ]
    }
   ],
   "source": [
    "FOLDER=hic_intact_deep\n",
    "FD_ANT=${FD_RES}/results/region/${FOLDER}\n",
    "FP_ANTS=($(ls ${FD_ANT}/*bed.gz))\n",
    "\n",
    "basename -a ${FP_ANTS[@]}"
   ]
  },
  {
   "cell_type": "markdown",
   "id": "6718fdc9-7ff0-497f-8e5f-8a4fb2c1130d",
   "metadata": {},
   "source": [
    "**Annotation**"
   ]
  },
  {
   "cell_type": "code",
   "execution_count": 9,
   "id": "47946dd0-d1a2-4dc0-a43b-9f69480229b2",
   "metadata": {},
   "outputs": [
    {
     "name": "stdout",
     "output_type": "stream",
     "text": [
      "File Folder (Output):\n",
      "/data/reddylab/Kuei/out/proj_combeffect_encode_fcc/results/region/KS91_K562_ASTARRseq_peak_macs_input/hic_intact_deep\n",
      "\n",
      "File Prefix (Annotation): hic_intact.deep.Loop_A\n",
      "File Name   (Annotation): hic_intact.deep.Loop_A.bed.gz\n",
      "File Name   (Output):     peak.annotation.hic_intact.deep.Loop_A.bed.gz\n",
      "File Path   (Log):        ${FD_LOG}/peak.annotation.hic_intact.deep.Loop_A.txt\n",
      "\n",
      "Submitted batch job 30256341\n",
      "\n",
      "File Prefix (Annotation): hic_intact.deep.Loop_B\n",
      "File Name   (Annotation): hic_intact.deep.Loop_B.bed.gz\n",
      "File Name   (Output):     peak.annotation.hic_intact.deep.Loop_B.bed.gz\n",
      "File Path   (Log):        ${FD_LOG}/peak.annotation.hic_intact.deep.Loop_B.txt\n",
      "\n",
      "Submitted batch job 30256342\n",
      "\n"
     ]
    }
   ],
   "source": [
    "FOLDER=hic_intact_deep\n",
    "FD_ANT=${FD_RES}/results/region/${FOLDER}\n",
    "FP_ANTS=($(ls ${FD_ANT}/*bed.gz))\n",
    "\n",
    "FD_OUT=${FD_REG}/${FOLDER}\n",
    "echo \"File Folder (Output):\"\n",
    "echo ${FD_OUT}\n",
    "echo \n",
    "\n",
    "for FP_ANT in ${FP_ANTS[@]}; do\n",
    "    FN_ANT=$(basename ${FP_ANT})\n",
    "    PREFIX=${FN_ANT%.bed.gz}\n",
    "    \n",
    "    FN_LOG=peak.annotation.${PREFIX}.txt\n",
    "    FP_LOG='${FD_LOG}/'${FN_LOG}\n",
    "    \n",
    "    FD_OUT=${FD_REG}/${FOLDER}\n",
    "    FN_OUT=peak.annotation.${FN_ANT}\n",
    "    FP_OUT=${FD_OUT}/${FN_OUT}\n",
    "    \n",
    "    echo \"File Prefix (Annotation):\" ${PREFIX}\n",
    "    echo \"File Name   (Annotation):\" ${FN_ANT}\n",
    "    echo \"File Name   (Output):    \" ${FN_OUT}\n",
    "    echo \"File Path   (Log):       \" ${FP_LOG}\n",
    "    echo\n",
    "    mkdir  -p ${FD_OUT}\n",
    "    sbatch -p ${NODE} \\\n",
    "        --exclude=dl-01 \\\n",
    "        --cpus-per-task 4 \\\n",
    "        --mem 4G \\\n",
    "        --output ${FD_LOG}/${FN_LOG} \\\n",
    "        ../scripts/run_bedtools_intersect.sh ${FP_REG} ${FP_ANT} ${FP_OUT}\n",
    "    echo\n",
    "done"
   ]
  },
  {
   "cell_type": "code",
   "execution_count": 10,
   "id": "8f15601b-af9e-4426-ab57-2920cc8ef05f",
   "metadata": {},
   "outputs": [
    {
     "name": "stdout",
     "output_type": "stream",
     "text": [
      "File Folder (Output):\n",
      "/data/reddylab/Kuei/out/proj_combeffect_encode_fcc/results/region/KS91_K562_ASTARRseq_peak_macs_input/hic_intact_deep\n",
      "\n",
      "File Prefix (Annotation): hic_intact.deep.Loop_A\n",
      "File Name   (Annotation): hic_intact.deep.Loop_A.bed.gz\n",
      "File Name   (Output):     peak.closest.hic_intact.deep.Loop_A.bed.gz\n",
      "File Path   (Log):        ${FD_LOG}/peak.closest.hic_intact.deep.Loop_A.txt\n",
      "\n",
      "Submitted batch job 30256343\n",
      "\n",
      "File Prefix (Annotation): hic_intact.deep.Loop_B\n",
      "File Name   (Annotation): hic_intact.deep.Loop_B.bed.gz\n",
      "File Name   (Output):     peak.closest.hic_intact.deep.Loop_B.bed.gz\n",
      "File Path   (Log):        ${FD_LOG}/peak.closest.hic_intact.deep.Loop_B.txt\n",
      "\n",
      "Submitted batch job 30256344\n",
      "\n"
     ]
    }
   ],
   "source": [
    "FOLDER=hic_intact_deep\n",
    "FD_ANT=${FD_RES}/results/region/${FOLDER}\n",
    "FP_ANTS=($(ls ${FD_ANT}/*bed.gz))\n",
    "\n",
    "FD_OUT=${FD_REG}/${FOLDER}\n",
    "echo \"File Folder (Output):\"\n",
    "echo ${FD_OUT}\n",
    "echo \n",
    "\n",
    "for FP_ANT in ${FP_ANTS[@]}; do\n",
    "    FN_ANT=$(basename ${FP_ANT})\n",
    "    PREFIX=${FN_ANT%.bed.gz}\n",
    "    \n",
    "    FN_LOG=peak.closest.${PREFIX}.txt\n",
    "    FP_LOG='${FD_LOG}/'${FN_LOG}\n",
    "    \n",
    "    FD_OUT=${FD_REG}/${FOLDER}\n",
    "    FN_OUT=peak.closest.${FN_ANT}\n",
    "    FP_OUT=${FD_OUT}/${FN_OUT}\n",
    "    \n",
    "    echo \"File Prefix (Annotation):\" ${PREFIX}\n",
    "    echo \"File Name   (Annotation):\" ${FN_ANT}\n",
    "    echo \"File Name   (Output):    \" ${FN_OUT}\n",
    "    echo \"File Path   (Log):       \" ${FP_LOG}\n",
    "    echo\n",
    "    mkdir  -p ${FD_OUT}\n",
    "    sbatch -p ${NODE} \\\n",
    "        --exclude=dl-01 \\\n",
    "        --cpus-per-task 4 \\\n",
    "        --mem 4G \\\n",
    "        --output ${FD_LOG}/${FN_LOG} \\\n",
    "        ../scripts/run_bedtools_closest.sh ${FP_REG} ${FP_ANT} ${FP_OUT}\n",
    "    echo\n",
    "done"
   ]
  },
  {
   "cell_type": "markdown",
   "id": "e00e66ea-79a2-4891-9382-05d3f9f6aa83",
   "metadata": {},
   "source": [
    "**Check results**"
   ]
  },
  {
   "cell_type": "code",
   "execution_count": 13,
   "id": "06eb9bff-1e1f-4018-9528-f26862fe01d5",
   "metadata": {},
   "outputs": [
    {
     "name": "stdout",
     "output_type": "stream",
     "text": [
      "Hostname:           x1-03-1.genome.duke.edu\n",
      "Slurm Array Index: \n",
      "Time Stamp:         10-16-23+16:22:32\n",
      "\n",
      "Input:  /data/reddylab/Kuei/out/proj_combeffect_encode_fcc/results/region/KS91_K562_ASTARRseq_peak_macs_input/KS91_K562_hg38_ASTARRseq_Input.all_reps.masked.union_narrowPeak.q5.bed.gz\n",
      "\n",
      "show first few lines of input\n",
      "chr1\t10015\t10442\n",
      "chr1\t14253\t14645\n",
      "chr1\t16015\t16477\n",
      "chr1\t17237\t17772\n",
      "chr1\t28903\t29613\n",
      "chr1\t30803\t31072\n",
      "chr1\t101603\t101849\n",
      "chr1\t115411\t115986\n",
      "chr1\t118518\t118743\n",
      "chr1\t136071\t137429\n",
      "\n",
      "Input:  /data/reddylab/Kuei/out/proj_combeffect_encode_fcc/results/region/hic_intact_deep/hic_intact.deep.Loop_A.bed.gz\n",
      "\n",
      "show first few lines of input\n",
      "chr1\t778000\t779000\n",
      "chr1\t868000\t870000\n",
      "chr1\t870000\t872000\n",
      "chr1\t870000\t875000\n",
      "chr1\t904000\t905000\n",
      "chr1\t904000\t906000\n",
      "chr1\t906000\t907000\n",
      "chr1\t906000\t908000\n",
      "chr1\t920000\t925000\n",
      "chr1\t921000\t922000\n",
      "\n",
      "\n",
      "Output:  /data/reddylab/Kuei/out/proj_combeffect_encode_fcc/results/region/KS91_K562_ASTARRseq_peak_macs_input/hic_intact_deep/peak.annotation.hic_intact.deep.Loop_A.bed.gz\n",
      "\n",
      "show first few lines of output:\n",
      "chr1\t777949\t779437\tchr1\t778000\t779000\t1000\n",
      "chr1\t869623\t870250\tchr1\t870000\t872000\t250\n",
      "chr1\t869623\t870250\tchr1\t870000\t875000\t250\n",
      "chr1\t869623\t870250\tchr1\t868000\t870000\t377\n",
      "chr1\t873248\t873781\tchr1\t870000\t875000\t533\n",
      "chr1\t903633\t905556\tchr1\t904000\t905000\t1000\n",
      "chr1\t903633\t905556\tchr1\t904000\t906000\t1556\n",
      "chr1\t906458\t907282\tchr1\t906000\t907000\t542\n",
      "chr1\t906458\t907282\tchr1\t906000\t908000\t824\n",
      "chr1\t920697\t921526\tchr1\t920000\t925000\t829\n",
      "\n",
      "\n",
      "Done!\n",
      "Run Time: 2 seconds\n"
     ]
    }
   ],
   "source": [
    "cat ${FD_LOG}/peak.annotation.hic_intact.deep.Loop_A.txt"
   ]
  },
  {
   "cell_type": "code",
   "execution_count": 14,
   "id": "885aab2e-ed57-4acd-9a15-79ba82fa5cd9",
   "metadata": {},
   "outputs": [
    {
     "name": "stdout",
     "output_type": "stream",
     "text": [
      "Hostname:           x1-03-1.genome.duke.edu\n",
      "Slurm Array Index: \n",
      "Time Stamp:         10-16-23+16:22:46\n",
      "\n",
      "Input:  /data/reddylab/Kuei/out/proj_combeffect_encode_fcc/results/region/KS91_K562_ASTARRseq_peak_macs_input/KS91_K562_hg38_ASTARRseq_Input.all_reps.masked.union_narrowPeak.q5.bed.gz\n",
      "\n",
      "show first few lines of input\n",
      "chr1\t10015\t10442\n",
      "chr1\t14253\t14645\n",
      "chr1\t16015\t16477\n",
      "chr1\t17237\t17772\n",
      "chr1\t28903\t29613\n",
      "chr1\t30803\t31072\n",
      "chr1\t101603\t101849\n",
      "chr1\t115411\t115986\n",
      "chr1\t118518\t118743\n",
      "chr1\t136071\t137429\n",
      "\n",
      "Input:  /data/reddylab/Kuei/out/proj_combeffect_encode_fcc/results/region/hic_intact_deep/hic_intact.deep.Loop_A.bed.gz\n",
      "\n",
      "show first few lines of input\n",
      "chr1\t778000\t779000\n",
      "chr1\t868000\t870000\n",
      "chr1\t870000\t872000\n",
      "chr1\t870000\t875000\n",
      "chr1\t904000\t905000\n",
      "chr1\t904000\t906000\n",
      "chr1\t906000\t907000\n",
      "chr1\t906000\t908000\n",
      "chr1\t920000\t925000\n",
      "chr1\t921000\t922000\n",
      "\n",
      "\n",
      "Output:  /data/reddylab/Kuei/out/proj_combeffect_encode_fcc/results/region/KS91_K562_ASTARRseq_peak_macs_input/hic_intact_deep/peak.closest.hic_intact.deep.Loop_A.bed.gz\n",
      "\n",
      "show first few lines of output:\n",
      "chr1\t10015\t10442\tchr1\t778000\t779000\t767559\n",
      "chr1\t14253\t14645\tchr1\t778000\t779000\t763356\n",
      "chr1\t16015\t16477\tchr1\t778000\t779000\t761524\n",
      "chr1\t17237\t17772\tchr1\t778000\t779000\t760229\n",
      "chr1\t28903\t29613\tchr1\t778000\t779000\t748388\n",
      "chr1\t30803\t31072\tchr1\t778000\t779000\t746929\n",
      "chr1\t101603\t101849\tchr1\t778000\t779000\t676152\n",
      "chr1\t115411\t115986\tchr1\t778000\t779000\t662015\n",
      "chr1\t118518\t118743\tchr1\t778000\t779000\t659258\n",
      "chr1\t136071\t137429\tchr1\t778000\t779000\t640572\n",
      "\n",
      "\n",
      "Done!\n",
      "Run Time: 3 seconds\n"
     ]
    }
   ],
   "source": [
    "cat ${FD_LOG}/peak.closest.hic_intact.deep.Loop_A.txt"
   ]
  },
  {
   "cell_type": "code",
   "execution_count": 31,
   "id": "4ca67df8-13be-4d50-b9d4-20b9cea10d8e",
   "metadata": {
    "tags": []
   },
   "outputs": [
    {
     "name": "stdout",
     "output_type": "stream",
     "text": [
      "Hostname:           x1-03-1.genome.duke.edu\n",
      "Slurm Array Index:  0\n",
      "Time Stamp:         08-16-23+10:07:35\n",
      "\n",
      "Input:  /data/reddylab/Kuei/out/proj_combeffect_encode_fcc/results/region/KS91_K562_ASTARRseq_peak_macs_input/KS91_K562_hg38_ASTARRseq_Input.all_reps.masked.union_narrowPeak.q5.bed.gz\n",
      "\n",
      "show first few lines of input\n",
      "chr1\t10015\t10442\n",
      "chr1\t14253\t14645\n",
      "chr1\t16015\t16477\n",
      "chr1\t17237\t17772\n",
      "chr1\t28903\t29613\n",
      "chr1\t30803\t31072\n",
      "chr1\t101603\t101849\n",
      "chr1\t115411\t115986\n",
      "chr1\t118518\t118743\n",
      "chr1\t136071\t137429\n",
      "\n",
      "Input:  /data/reddylab/Kuei/out/proj_combeffect_encode_fcc/results/region/hic_intact_deep/hic_intact.deep.Loop_A.bed.gz\n",
      "\n",
      "show first few lines of input\n",
      "chr1\t778000\t779000\tchr1:778000-779000|chr1:827000-828000\n",
      "chr1\t868000\t870000\tchr1:868000-870000|chr1:1290000-1292000\n",
      "chr1\t870000\t872000\tchr1:870000-872000|chr1:974000-976000\n",
      "chr1\t870000\t872000\tchr1:870000-872000|chr1:1062000-1064000\n",
      "chr1\t870000\t875000\tchr1:870000-875000|chr1:935000-940000\n",
      "chr1\t904000\t905000\tchr1:904000-905000|chr1:976000-977000\n",
      "chr1\t904000\t905000\tchr1:904000-905000|chr1:1062000-1063000\n",
      "chr1\t904000\t905000\tchr1:904000-905000|chr1:940000-941000\n",
      "chr1\t904000\t905000\tchr1:904000-905000|chr1:1000000-1001000\n",
      "chr1\t904000\t906000\tchr1:904000-906000|chr1:966000-968000\n",
      "\n",
      "\n",
      "Output:  /data/reddylab/Kuei/out/proj_combeffect_encode_fcc/results/region/KS91_K562_ASTARRseq_peak_macs_input/hic_intact_deep/peak.annotation.hic_intact.deep.Loop_A.bed.gz\n",
      "\n",
      "show first few lines of output:\n",
      "chr1\t10015\t10442\tchr1\t778000\t779000\tchr1:778000-779000|chr1:827000-828000\t767559\n",
      "chr1\t14253\t14645\tchr1\t778000\t779000\tchr1:778000-779000|chr1:827000-828000\t763356\n",
      "chr1\t16015\t16477\tchr1\t778000\t779000\tchr1:778000-779000|chr1:827000-828000\t761524\n",
      "chr1\t17237\t17772\tchr1\t778000\t779000\tchr1:778000-779000|chr1:827000-828000\t760229\n",
      "chr1\t28903\t29613\tchr1\t778000\t779000\tchr1:778000-779000|chr1:827000-828000\t748388\n",
      "chr1\t30803\t31072\tchr1\t778000\t779000\tchr1:778000-779000|chr1:827000-828000\t746929\n",
      "chr1\t101603\t101849\tchr1\t778000\t779000\tchr1:778000-779000|chr1:827000-828000\t676152\n",
      "chr1\t115411\t115986\tchr1\t778000\t779000\tchr1:778000-779000|chr1:827000-828000\t662015\n",
      "chr1\t118518\t118743\tchr1\t778000\t779000\tchr1:778000-779000|chr1:827000-828000\t659258\n",
      "chr1\t136071\t137429\tchr1\t778000\t779000\tchr1:778000-779000|chr1:827000-828000\t640572\n",
      "\n",
      "\n",
      "Done!\n",
      "Run Time: 1 seconds\n"
     ]
    }
   ],
   "source": [
    "cat ${FD_LOG}/peak.annotation.hic_intact.deep.Loop_A.0.txt"
   ]
  },
  {
   "cell_type": "code",
   "execution_count": null,
   "id": "ba66e624-b8c0-423e-994a-2bee3697c7c7",
   "metadata": {},
   "outputs": [],
   "source": []
  },
  {
   "cell_type": "code",
   "execution_count": null,
   "id": "c760031f-8c3c-4c0d-bb9e-e0baf62fcc29",
   "metadata": {},
   "outputs": [],
   "source": []
  },
  {
   "cell_type": "code",
   "execution_count": null,
   "id": "43fbc9a1-a145-4c96-9c3f-4b15e8fd3d10",
   "metadata": {},
   "outputs": [],
   "source": []
  },
  {
   "cell_type": "code",
   "execution_count": null,
   "id": "48b28df6-4f9c-44d6-bf79-7e001e0950ce",
   "metadata": {},
   "outputs": [],
   "source": []
  },
  {
   "cell_type": "code",
   "execution_count": null,
   "id": "e301a152-b632-4861-8d72-8c0c8b5878ab",
   "metadata": {},
   "outputs": [],
   "source": []
  },
  {
   "cell_type": "code",
   "execution_count": 32,
   "id": "12d72d13-8b4e-4b84-8751-79bee0d0b391",
   "metadata": {},
   "outputs": [
    {
     "name": "stdout",
     "output_type": "stream",
     "text": [
      "chr11\t134977379\t134977930\tchr11\t134868000\t134870000\tchr11:134868000-134870000|chr11:134978000-134980000\t107380\n",
      "chr11\t134978370\t134979207\tchr11\t134868000\t134870000\tchr11:134868000-134870000|chr11:134978000-134980000\t108371\n",
      "chr11\t134980787\t134981486\tchr11\t134868000\t134870000\tchr11:134868000-134870000|chr11:134978000-134980000\t110788\n",
      "chr11\t134983611\t134983969\tchr11\t134868000\t134870000\tchr11:134868000-134870000|chr11:134978000-134980000\t113612\n",
      "chr11\t135036593\t135037844\tchr11\t134868000\t134870000\tchr11:134868000-134870000|chr11:134978000-134980000\t166594\n",
      "chr11\t135038508\t135039563\tchr11\t134868000\t134870000\tchr11:134868000-134870000|chr11:134978000-134980000\t168509\n",
      "chr11\t135047270\t135048008\tchr11\t134868000\t134870000\tchr11:134868000-134870000|chr11:134978000-134980000\t177271\n",
      "chr11\t135075737\t135076154\tchr11\t134868000\t134870000\tchr11:134868000-134870000|chr11:134978000-134980000\t205738\n",
      "chr12\t10606\t11448\tchr12\t108000\t109000\tchr12:108000-109000|chr12:153000-154000\t96553\n",
      "chr12\t12322\t14195\tchr12\t108000\t109000\tchr12:108000-109000|chr12:153000-154000\t93806\n"
     ]
    }
   ],
   "source": [
    "FPATH=/data/reddylab/Kuei/out/proj_combeffect_encode_fcc/results/region/KS91_K562_ASTARRseq_peak_macs_input/hic_intact_deep/peak.annotation.hic_intact.deep.Loop_A.bed.gz\n",
    "zcat ${FPATH} | head -n 108438 | tail"
   ]
  },
  {
   "cell_type": "markdown",
   "id": "f361939e-1ef0-4af0-971e-9ef81bcacc04",
   "metadata": {},
   "source": [
    "```\n",
    "FPATH=/data/reddylab/Kuei/out/proj_combeffect_encode_fcc/results/region/KS91_K562_ASTARRseq_peak_macs_input/hic_intact_deep/peak.annotation.hic_intact.deep.Loop_A.bed.gz\n",
    "```\n",
    "\n",
    "```\n",
    "chr11_KI270721v1_random\t14450\t14823\t.\t-1\t-1\t\t.\t-1\n",
    "chr11_KI270721v1_random\t34135\t34494\t.\t-1\t-1\t\t.\t-1\n",
    "```\n",
    "\n",
    "```\n",
    "zcat ${FPATH} | awk '{ if($4 == \".\") { print }}' | wc -l\n",
    "# 17011\n",
    "\n",
    "zcat ${FPATH} | awk '{ if($8 < 0) { print }}' | wc -l\n",
    "# 17011\n",
    "```"
   ]
  },
  {
   "cell_type": "code",
   "execution_count": 33,
   "id": "580c107c-d90d-4afc-a800-238bdeb47c39",
   "metadata": {},
   "outputs": [
    {
     "name": "stdout",
     "output_type": "stream",
     "text": [
      "455456\n"
     ]
    }
   ],
   "source": [
    "zcat ${FPATH} | awk '{ if($4 != \".\") { print }}' | wc -l"
   ]
  },
  {
   "cell_type": "code",
   "execution_count": 34,
   "id": "7b33d261-65be-4db5-b9a9-17b4bb4812ef",
   "metadata": {},
   "outputs": [
    {
     "name": "stdout",
     "output_type": "stream",
     "text": [
      "0\n"
     ]
    }
   ],
   "source": [
    "zcat ${FPATH} | awk '{ if($8 < 0) { print }}' | wc -l"
   ]
  },
  {
   "cell_type": "code",
   "execution_count": 35,
   "id": "d367295c-dade-492c-96c0-60c0fd4a9f48",
   "metadata": {},
   "outputs": [
    {
     "name": "stdout",
     "output_type": "stream",
     "text": [
      "455456\n"
     ]
    }
   ],
   "source": [
    "zcat ${FPATH} |  wc -l"
   ]
  },
  {
   "cell_type": "code",
   "execution_count": null,
   "id": "d780f1cd-fad5-4241-8a1b-b8607c4257d6",
   "metadata": {},
   "outputs": [],
   "source": []
  }
 ],
 "metadata": {
  "kernelspec": {
   "display_name": "Bash",
   "language": "bash",
   "name": "bash"
  },
  "language_info": {
   "codemirror_mode": "shell",
   "file_extension": ".sh",
   "mimetype": "text/x-sh",
   "name": "bash"
  }
 },
 "nbformat": 4,
 "nbformat_minor": 5
}
