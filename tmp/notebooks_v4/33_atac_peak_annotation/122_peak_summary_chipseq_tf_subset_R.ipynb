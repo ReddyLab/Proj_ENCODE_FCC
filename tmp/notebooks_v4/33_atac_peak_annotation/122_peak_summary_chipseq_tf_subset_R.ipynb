{
 "cells": [
  {
   "cell_type": "markdown",
   "metadata": {},
   "source": [
    "**Set environment**"
   ]
  },
  {
   "cell_type": "code",
   "execution_count": 1,
   "metadata": {},
   "outputs": [
    {
     "name": "stdout",
     "output_type": "stream",
     "text": [
      "You are in Singularity: singularity_proj_encode_fcc \n",
      "BASE DIRECTORY (FD_BASE): /data/reddylab/Kuei \n",
      "WORK DIRECTORY (FD_WORK): /data/reddylab/Kuei/out \n",
      "CODE DIRECTORY (FD_CODE): /data/reddylab/Kuei/code \n",
      "PATH OF PROJECT (FD_PRJ): /data/reddylab/Kuei/code/Proj_CombEffect_ENCODE_FCC \n",
      "PATH OF RESULTS (FD_RES): /data/reddylab/Kuei/out/proj_combeffect_encode_fcc \n",
      "PATH OF LOG     (FD_LOG): /data/reddylab/Kuei/out/proj_combeffect_encode_fcc/log \n"
     ]
    }
   ],
   "source": [
    "suppressMessages(suppressWarnings(source(\"../config/config_sing.R\")))\n",
    "show_env()"
   ]
  },
  {
   "cell_type": "markdown",
   "metadata": {},
   "source": [
    "**Check data**"
   ]
  },
  {
   "cell_type": "code",
   "execution_count": 2,
   "metadata": {},
   "outputs": [],
   "source": [
    "FOLDER = \"annotation_chipseq_tf_subset\""
   ]
  },
  {
   "cell_type": "code",
   "execution_count": 3,
   "metadata": {},
   "outputs": [
    {
     "name": "stdout",
     "output_type": "stream",
     "text": [
      "[1] \"accession_info_peaks.tsv\"\n",
      "[1] \"description.tsv\"\n",
      "[1] \"download_log.txt\"\n",
      "[1] \"download.sh\"\n",
      "[1] \"K562.ENCSR000BMH.ENCFF398UQZ.YY1.bed.gz\"\n",
      "[1] \"K562.ENCSR000BMW.ENCFF707MDI.REST.bed.gz\"\n",
      "[1] \"K562.ENCSR000EFS.ENCFF190CGV.JUN.bed.gz\"\n",
      "[1] \"K562.ENCSR000EFT.ENCFF657CTC.GATA1.bed.gz\"\n",
      "[1] \"K562.ENCSR000EFU.ENCFF715WGN.ELK1.bed.gz\"\n",
      "[1] \"K562.ENCSR000EGE.ENCFF702XPO.EP300.bed.gz\"\n",
      "[1] \"K562.ENCSR000EGM.ENCFF660GHM.CTCF.bed.gz\"\n",
      "[1] \"K562.ENCSR000EHB.ENCFF852ZRK.TAL1.bed.gz\"\n",
      "[1] \"K562.ENCSR004GKA.ENCFF242AOL.ZEB2.bed.gz\"\n",
      "[1] \"K562.ENCSR091GVJ.ENCFF627RSK.ATF1.bed.gz\"\n",
      "[1] \"K562.ENCSR121SPB.ENCFF142ZTD.KLF10.bed.gz\"\n",
      "[1] \"K562.ENCSR388QZF.ENCFF355MNE.POLR2A.bed.gz\"\n",
      "[1] \"K562.ENCSR552YGL.ENCFF023IFO.NFE2.bed.gz\"\n",
      "[1] \"K562.ENCSR760UVO.ENCFF488OTN.KLF16.bed.gz\"\n",
      "[1] \"K562.ENCSR991ELG.ENCFF553GPK.SP1.bed.gz\"\n",
      "[1] \"K562.ENCSR998AJK.ENCFF777PKJ.NRF1.bed.gz\"\n"
     ]
    }
   ],
   "source": [
    "fdiry = file.path(\n",
    "    FD_RES, \n",
    "    \"results\", \n",
    "    \"region\", \n",
    "    FOLDER)\n",
    "for(fname in dir(fdiry)){print(fname)}"
   ]
  },
  {
   "cell_type": "code",
   "execution_count": 4,
   "metadata": {},
   "outputs": [
    {
     "name": "stdout",
     "output_type": "stream",
     "text": [
      "[1] \"peak.annotation.K562.ENCSR000BMH.ENCFF398UQZ.YY1.bed.gz\"\n",
      "[1] \"peak.annotation.K562.ENCSR000BMW.ENCFF707MDI.REST.bed.gz\"\n",
      "[1] \"peak.annotation.K562.ENCSR000EFS.ENCFF190CGV.JUN.bed.gz\"\n",
      "[1] \"peak.annotation.K562.ENCSR000EFT.ENCFF657CTC.GATA1.bed.gz\"\n",
      "[1] \"peak.annotation.K562.ENCSR000EFU.ENCFF715WGN.ELK1.bed.gz\"\n",
      "[1] \"peak.annotation.K562.ENCSR000EGE.ENCFF702XPO.EP300.bed.gz\"\n",
      "[1] \"peak.annotation.K562.ENCSR000EGM.ENCFF660GHM.CTCF.bed.gz\"\n",
      "[1] \"peak.annotation.K562.ENCSR000EHB.ENCFF852ZRK.TAL1.bed.gz\"\n",
      "[1] \"peak.annotation.K562.ENCSR004GKA.ENCFF242AOL.ZEB2.bed.gz\"\n",
      "[1] \"peak.annotation.K562.ENCSR091GVJ.ENCFF627RSK.ATF1.bed.gz\"\n",
      "[1] \"peak.annotation.K562.ENCSR121SPB.ENCFF142ZTD.KLF10.bed.gz\"\n",
      "[1] \"peak.annotation.K562.ENCSR388QZF.ENCFF355MNE.POLR2A.bed.gz\"\n",
      "[1] \"peak.annotation.K562.ENCSR552YGL.ENCFF023IFO.NFE2.bed.gz\"\n",
      "[1] \"peak.annotation.K562.ENCSR760UVO.ENCFF488OTN.KLF16.bed.gz\"\n",
      "[1] \"peak.annotation.K562.ENCSR991ELG.ENCFF553GPK.SP1.bed.gz\"\n",
      "[1] \"peak.annotation.K562.ENCSR998AJK.ENCFF777PKJ.NRF1.bed.gz\"\n"
     ]
    }
   ],
   "source": [
    "fdiry = file.path(\n",
    "    FD_RES, \n",
    "    \"results\", \n",
    "    \"region\", \n",
    "    \"KS91_K562_ASTARRseq_peak_macs_input\", \n",
    "    FOLDER)\n",
    "for(fname in dir(fdiry)){print(fname)}"
   ]
  },
  {
   "cell_type": "markdown",
   "metadata": {},
   "source": [
    "## Import data"
   ]
  },
  {
   "cell_type": "code",
   "execution_count": 5,
   "metadata": {},
   "outputs": [
    {
     "name": "stdout",
     "output_type": "stream",
     "text": [
      "[1] 10  2\n"
     ]
    },
    {
     "data": {
      "text/html": [
       "<table class=\"dataframe\">\n",
       "<caption>A spec_tbl_df: 10 × 2</caption>\n",
       "<thead>\n",
       "\t<tr><th scope=col>Name</th><th scope=col>Description</th></tr>\n",
       "\t<tr><th scope=col>&lt;chr&gt;</th><th scope=col>&lt;chr&gt;</th></tr>\n",
       "</thead>\n",
       "<tbody>\n",
       "\t<tr><td>Chrom      </td><td>Chromosome                                                                                                   </td></tr>\n",
       "\t<tr><td>Start      </td><td>Start position                                                                                               </td></tr>\n",
       "\t<tr><td>End        </td><td>End position                                                                                                 </td></tr>\n",
       "\t<tr><td>Name       </td><td>Name given to a region                                                                                       </td></tr>\n",
       "\t<tr><td>Score      </td><td>Scaled IDR value, min(int(log2(-125IDR), 1000).                                                              </td></tr>\n",
       "\t<tr><td>Strand     </td><td>[+-.]; Use '.' if no strand is assigned.                                                                     </td></tr>\n",
       "\t<tr><td>SignalValue</td><td>Measurement of enrichment for the region for merged peaks.                                                   </td></tr>\n",
       "\t<tr><td>PValue     </td><td>Measurement of statistical significance (-log10). Use -1 if no pValue is assigned.                           </td></tr>\n",
       "\t<tr><td>QValue     </td><td>Measurement of statistical significance using false discovery rate (-log10). Use -1 if no qValue is assigned.</td></tr>\n",
       "\t<tr><td>Peak       </td><td>Point-source called for this peak; 0-based offset from chromStart. Use -1 if no point-source called.         </td></tr>\n",
       "</tbody>\n",
       "</table>\n"
      ],
      "text/latex": [
       "A spec\\_tbl\\_df: 10 × 2\n",
       "\\begin{tabular}{ll}\n",
       " Name & Description\\\\\n",
       " <chr> & <chr>\\\\\n",
       "\\hline\n",
       "\t Chrom       & Chromosome                                                                                                   \\\\\n",
       "\t Start       & Start position                                                                                               \\\\\n",
       "\t End         & End position                                                                                                 \\\\\n",
       "\t Name        & Name given to a region                                                                                       \\\\\n",
       "\t Score       & Scaled IDR value, min(int(log2(-125IDR), 1000).                                                              \\\\\n",
       "\t Strand      & {[}+-.{]}; Use '.' if no strand is assigned.                                                                     \\\\\n",
       "\t SignalValue & Measurement of enrichment for the region for merged peaks.                                                   \\\\\n",
       "\t PValue      & Measurement of statistical significance (-log10). Use -1 if no pValue is assigned.                           \\\\\n",
       "\t QValue      & Measurement of statistical significance using false discovery rate (-log10). Use -1 if no qValue is assigned.\\\\\n",
       "\t Peak        & Point-source called for this peak; 0-based offset from chromStart. Use -1 if no point-source called.         \\\\\n",
       "\\end{tabular}\n"
      ],
      "text/markdown": [
       "\n",
       "A spec_tbl_df: 10 × 2\n",
       "\n",
       "| Name &lt;chr&gt; | Description &lt;chr&gt; |\n",
       "|---|---|\n",
       "| Chrom       | Chromosome                                                                                                    |\n",
       "| Start       | Start position                                                                                                |\n",
       "| End         | End position                                                                                                  |\n",
       "| Name        | Name given to a region                                                                                        |\n",
       "| Score       | Scaled IDR value, min(int(log2(-125IDR), 1000).                                                               |\n",
       "| Strand      | [+-.]; Use '.' if no strand is assigned.                                                                      |\n",
       "| SignalValue | Measurement of enrichment for the region for merged peaks.                                                    |\n",
       "| PValue      | Measurement of statistical significance (-log10). Use -1 if no pValue is assigned.                            |\n",
       "| QValue      | Measurement of statistical significance using false discovery rate (-log10). Use -1 if no qValue is assigned. |\n",
       "| Peak        | Point-source called for this peak; 0-based offset from chromStart. Use -1 if no point-source called.          |\n",
       "\n"
      ],
      "text/plain": [
       "   Name       \n",
       "1  Chrom      \n",
       "2  Start      \n",
       "3  End        \n",
       "4  Name       \n",
       "5  Score      \n",
       "6  Strand     \n",
       "7  SignalValue\n",
       "8  PValue     \n",
       "9  QValue     \n",
       "10 Peak       \n",
       "   Description                                                                                                  \n",
       "1  Chromosome                                                                                                   \n",
       "2  Start position                                                                                               \n",
       "3  End position                                                                                                 \n",
       "4  Name given to a region                                                                                       \n",
       "5  Scaled IDR value, min(int(log2(-125IDR), 1000).                                                              \n",
       "6  [+-.]; Use '.' if no strand is assigned.                                                                     \n",
       "7  Measurement of enrichment for the region for merged peaks.                                                   \n",
       "8  Measurement of statistical significance (-log10). Use -1 if no pValue is assigned.                           \n",
       "9  Measurement of statistical significance using false discovery rate (-log10). Use -1 if no qValue is assigned.\n",
       "10 Point-source called for this peak; 0-based offset from chromStart. Use -1 if no point-source called.         "
      ]
     },
     "metadata": {},
     "output_type": "display_data"
    }
   ],
   "source": [
    "fdiry  = file.path(FD_RES, \"results\", \"region\", FOLDER)\n",
    "fname = \"description.tsv\"\n",
    "fpath = file.path(fdiry, fname)\n",
    "\n",
    "dat = read_tsv(fpath, show_col_types = FALSE)\n",
    "\n",
    "dat_cnames = dat\n",
    "print(dim(dat))\n",
    "dat"
   ]
  },
  {
   "cell_type": "code",
   "execution_count": 6,
   "metadata": {},
   "outputs": [
    {
     "name": "stdout",
     "output_type": "stream",
     "text": [
      "                                             YY1_ENCFF398UQZ \n",
      "   \"peak.annotation.K562.ENCSR000BMH.ENCFF398UQZ.YY1.bed.gz\" \n",
      "                                            REST_ENCFF707MDI \n",
      "  \"peak.annotation.K562.ENCSR000BMW.ENCFF707MDI.REST.bed.gz\" \n",
      "                                             JUN_ENCFF190CGV \n",
      "   \"peak.annotation.K562.ENCSR000EFS.ENCFF190CGV.JUN.bed.gz\" \n",
      "                                           GATA1_ENCFF657CTC \n",
      " \"peak.annotation.K562.ENCSR000EFT.ENCFF657CTC.GATA1.bed.gz\" \n",
      "                                            ELK1_ENCFF715WGN \n",
      "  \"peak.annotation.K562.ENCSR000EFU.ENCFF715WGN.ELK1.bed.gz\" \n",
      "                                           EP300_ENCFF702XPO \n",
      " \"peak.annotation.K562.ENCSR000EGE.ENCFF702XPO.EP300.bed.gz\" \n",
      "                                            CTCF_ENCFF660GHM \n",
      "  \"peak.annotation.K562.ENCSR000EGM.ENCFF660GHM.CTCF.bed.gz\" \n",
      "                                            TAL1_ENCFF852ZRK \n",
      "  \"peak.annotation.K562.ENCSR000EHB.ENCFF852ZRK.TAL1.bed.gz\" \n",
      "                                            ZEB2_ENCFF242AOL \n",
      "  \"peak.annotation.K562.ENCSR004GKA.ENCFF242AOL.ZEB2.bed.gz\" \n",
      "                                            ATF1_ENCFF627RSK \n",
      "  \"peak.annotation.K562.ENCSR091GVJ.ENCFF627RSK.ATF1.bed.gz\" \n",
      "                                           KLF10_ENCFF142ZTD \n",
      " \"peak.annotation.K562.ENCSR121SPB.ENCFF142ZTD.KLF10.bed.gz\" \n",
      "                                          POLR2A_ENCFF355MNE \n",
      "\"peak.annotation.K562.ENCSR388QZF.ENCFF355MNE.POLR2A.bed.gz\" \n",
      "                                            NFE2_ENCFF023IFO \n",
      "  \"peak.annotation.K562.ENCSR552YGL.ENCFF023IFO.NFE2.bed.gz\" \n",
      "                                           KLF16_ENCFF488OTN \n",
      " \"peak.annotation.K562.ENCSR760UVO.ENCFF488OTN.KLF16.bed.gz\" \n",
      "                                             SP1_ENCFF553GPK \n",
      "   \"peak.annotation.K562.ENCSR991ELG.ENCFF553GPK.SP1.bed.gz\" \n",
      "                                            NRF1_ENCFF777PKJ \n",
      "  \"peak.annotation.K562.ENCSR998AJK.ENCFF777PKJ.NRF1.bed.gz\" \n"
     ]
    }
   ],
   "source": [
    "### init: set column names\n",
    "cnames = dat_cnames$Name\n",
    "cnames = c(\"Chrom_ATAC\", \"Start_ATAC\", \"End_ATAC\", cnames, \"Overlap\")\n",
    "\n",
    "### init: set file path\n",
    "fdiry = file.path(\n",
    "    FD_RES, \n",
    "    \"results\", \n",
    "    \"region\", \n",
    "    \"KS91_K562_ASTARRseq_peak_macs_input\", \n",
    "    FOLDER)\n",
    "fname  = paste(\"peak.annotation\", \"bed.gz\", sep=\"*\")\n",
    "fglob  = file.path(fdiry, fname)\n",
    "fpaths = Sys.glob(fglob)\n",
    "fnames = basename(fpaths)\n",
    "\n",
    "### init: annotation and label\n",
    "annotation = \"ChIPseq_TF\"\n",
    "labels = fnames %>% \n",
    "    str_split(., \"\\\\.\") %>%\n",
    "    do.call(rbind, .) %>%\n",
    "    as.data.frame %>%\n",
    "    dplyr::mutate(X = paste(V6, V5, sep=\"_\")) %>%\n",
    "    dplyr::pull(X)\n",
    "targets = fnames %>% \n",
    "    str_split(., \"\\\\.\") %>%\n",
    "    do.call(rbind, .) %>%\n",
    "    as.data.frame %>%\n",
    "    dplyr::mutate(X = V6) %>%\n",
    "    dplyr::pull(X)\n",
    "\n",
    "names(fnames) = labels\n",
    "names(labels) = labels\n",
    "names(targets) = labels\n",
    "print(fnames)"
   ]
  },
  {
   "cell_type": "code",
   "execution_count": 7,
   "metadata": {},
   "outputs": [
    {
     "name": "stdout",
     "output_type": "stream",
     "text": [
      "[1] 16\n"
     ]
    },
    {
     "data": {
      "text/html": [
       "<table class=\"dataframe\">\n",
       "<caption>A tibble: 6 × 20</caption>\n",
       "<thead>\n",
       "\t<tr><th scope=col>Chrom_ATAC</th><th scope=col>Start_ATAC</th><th scope=col>End_ATAC</th><th scope=col>Chrom</th><th scope=col>Start</th><th scope=col>End</th><th scope=col>Name</th><th scope=col>Score</th><th scope=col>Strand</th><th scope=col>SignalValue</th><th scope=col>PValue</th><th scope=col>QValue</th><th scope=col>Peak</th><th scope=col>Overlap</th><th scope=col>Peak_ATAC</th><th scope=col>Annotation</th><th scope=col>Label</th><th scope=col>Region</th><th scope=col>Value</th><th scope=col>Note</th></tr>\n",
       "\t<tr><th scope=col>&lt;chr&gt;</th><th scope=col>&lt;dbl&gt;</th><th scope=col>&lt;dbl&gt;</th><th scope=col>&lt;chr&gt;</th><th scope=col>&lt;dbl&gt;</th><th scope=col>&lt;dbl&gt;</th><th scope=col>&lt;chr&gt;</th><th scope=col>&lt;dbl&gt;</th><th scope=col>&lt;chr&gt;</th><th scope=col>&lt;dbl&gt;</th><th scope=col>&lt;dbl&gt;</th><th scope=col>&lt;dbl&gt;</th><th scope=col>&lt;dbl&gt;</th><th scope=col>&lt;dbl&gt;</th><th scope=col>&lt;chr&gt;</th><th scope=col>&lt;chr&gt;</th><th scope=col>&lt;chr&gt;</th><th scope=col>&lt;chr&gt;</th><th scope=col>&lt;dbl&gt;</th><th scope=col>&lt;chr&gt;</th></tr>\n",
       "</thead>\n",
       "<tbody>\n",
       "\t<tr><td>chr1</td><td>777949</td><td>779437</td><td>chr1</td><td>778486</td><td>778776</td><td>.</td><td>1000</td><td>.</td><td>132.48683</td><td>-1</td><td>4.33080</td><td>136</td><td>290</td><td>chr1:777949-779437</td><td>ChIPseq_TF</td><td>YY1_ENCFF398UQZ</td><td>chr1:778486-778776</td><td>132.48683</td><td>YY1</td></tr>\n",
       "\t<tr><td>chr1</td><td>903633</td><td>905556</td><td>chr1</td><td>904638</td><td>904883</td><td>.</td><td>1000</td><td>.</td><td> 75.95987</td><td>-1</td><td>4.33080</td><td>112</td><td>245</td><td>chr1:903633-905556</td><td>ChIPseq_TF</td><td>YY1_ENCFF398UQZ</td><td>chr1:904638-904883</td><td> 75.95987</td><td>YY1</td></tr>\n",
       "\t<tr><td>chr1</td><td>912650</td><td>914455</td><td>chr1</td><td>913032</td><td>913129</td><td>.</td><td>1000</td><td>.</td><td> 41.88374</td><td>-1</td><td>3.88398</td><td> 56</td><td> 97</td><td>chr1:912650-914455</td><td>ChIPseq_TF</td><td>YY1_ENCFF398UQZ</td><td>chr1:913032-913129</td><td> 41.88374</td><td>YY1</td></tr>\n",
       "\t<tr><td>chr1</td><td>920697</td><td>921526</td><td>chr1</td><td>921136</td><td>921238</td><td>.</td><td>1000</td><td>.</td><td> 50.33578</td><td>-1</td><td>4.33080</td><td> 62</td><td>102</td><td>chr1:920697-921526</td><td>ChIPseq_TF</td><td>YY1_ENCFF398UQZ</td><td>chr1:921136-921238</td><td> 50.33578</td><td>YY1</td></tr>\n",
       "\t<tr><td>chr1</td><td>923417</td><td>925194</td><td>chr1</td><td>923707</td><td>924017</td><td>.</td><td>1000</td><td>.</td><td> 34.69952</td><td>-1</td><td>3.76640</td><td>155</td><td>310</td><td>chr1:923417-925194</td><td>ChIPseq_TF</td><td>YY1_ENCFF398UQZ</td><td>chr1:923707-924017</td><td> 34.69952</td><td>YY1</td></tr>\n",
       "\t<tr><td>chr1</td><td>923417</td><td>925194</td><td>chr1</td><td>924711</td><td>925021</td><td>.</td><td> 634</td><td>.</td><td> 20.27464</td><td>-1</td><td>3.58222</td><td>155</td><td>310</td><td>chr1:923417-925194</td><td>ChIPseq_TF</td><td>YY1_ENCFF398UQZ</td><td>chr1:924711-925021</td><td> 20.27464</td><td>YY1</td></tr>\n",
       "</tbody>\n",
       "</table>\n"
      ],
      "text/latex": [
       "A tibble: 6 × 20\n",
       "\\begin{tabular}{llllllllllllllllllll}\n",
       " Chrom\\_ATAC & Start\\_ATAC & End\\_ATAC & Chrom & Start & End & Name & Score & Strand & SignalValue & PValue & QValue & Peak & Overlap & Peak\\_ATAC & Annotation & Label & Region & Value & Note\\\\\n",
       " <chr> & <dbl> & <dbl> & <chr> & <dbl> & <dbl> & <chr> & <dbl> & <chr> & <dbl> & <dbl> & <dbl> & <dbl> & <dbl> & <chr> & <chr> & <chr> & <chr> & <dbl> & <chr>\\\\\n",
       "\\hline\n",
       "\t chr1 & 777949 & 779437 & chr1 & 778486 & 778776 & . & 1000 & . & 132.48683 & -1 & 4.33080 & 136 & 290 & chr1:777949-779437 & ChIPseq\\_TF & YY1\\_ENCFF398UQZ & chr1:778486-778776 & 132.48683 & YY1\\\\\n",
       "\t chr1 & 903633 & 905556 & chr1 & 904638 & 904883 & . & 1000 & . &  75.95987 & -1 & 4.33080 & 112 & 245 & chr1:903633-905556 & ChIPseq\\_TF & YY1\\_ENCFF398UQZ & chr1:904638-904883 &  75.95987 & YY1\\\\\n",
       "\t chr1 & 912650 & 914455 & chr1 & 913032 & 913129 & . & 1000 & . &  41.88374 & -1 & 3.88398 &  56 &  97 & chr1:912650-914455 & ChIPseq\\_TF & YY1\\_ENCFF398UQZ & chr1:913032-913129 &  41.88374 & YY1\\\\\n",
       "\t chr1 & 920697 & 921526 & chr1 & 921136 & 921238 & . & 1000 & . &  50.33578 & -1 & 4.33080 &  62 & 102 & chr1:920697-921526 & ChIPseq\\_TF & YY1\\_ENCFF398UQZ & chr1:921136-921238 &  50.33578 & YY1\\\\\n",
       "\t chr1 & 923417 & 925194 & chr1 & 923707 & 924017 & . & 1000 & . &  34.69952 & -1 & 3.76640 & 155 & 310 & chr1:923417-925194 & ChIPseq\\_TF & YY1\\_ENCFF398UQZ & chr1:923707-924017 &  34.69952 & YY1\\\\\n",
       "\t chr1 & 923417 & 925194 & chr1 & 924711 & 925021 & . &  634 & . &  20.27464 & -1 & 3.58222 & 155 & 310 & chr1:923417-925194 & ChIPseq\\_TF & YY1\\_ENCFF398UQZ & chr1:924711-925021 &  20.27464 & YY1\\\\\n",
       "\\end{tabular}\n"
      ],
      "text/markdown": [
       "\n",
       "A tibble: 6 × 20\n",
       "\n",
       "| Chrom_ATAC &lt;chr&gt; | Start_ATAC &lt;dbl&gt; | End_ATAC &lt;dbl&gt; | Chrom &lt;chr&gt; | Start &lt;dbl&gt; | End &lt;dbl&gt; | Name &lt;chr&gt; | Score &lt;dbl&gt; | Strand &lt;chr&gt; | SignalValue &lt;dbl&gt; | PValue &lt;dbl&gt; | QValue &lt;dbl&gt; | Peak &lt;dbl&gt; | Overlap &lt;dbl&gt; | Peak_ATAC &lt;chr&gt; | Annotation &lt;chr&gt; | Label &lt;chr&gt; | Region &lt;chr&gt; | Value &lt;dbl&gt; | Note &lt;chr&gt; |\n",
       "|---|---|---|---|---|---|---|---|---|---|---|---|---|---|---|---|---|---|---|---|\n",
       "| chr1 | 777949 | 779437 | chr1 | 778486 | 778776 | . | 1000 | . | 132.48683 | -1 | 4.33080 | 136 | 290 | chr1:777949-779437 | ChIPseq_TF | YY1_ENCFF398UQZ | chr1:778486-778776 | 132.48683 | YY1 |\n",
       "| chr1 | 903633 | 905556 | chr1 | 904638 | 904883 | . | 1000 | . |  75.95987 | -1 | 4.33080 | 112 | 245 | chr1:903633-905556 | ChIPseq_TF | YY1_ENCFF398UQZ | chr1:904638-904883 |  75.95987 | YY1 |\n",
       "| chr1 | 912650 | 914455 | chr1 | 913032 | 913129 | . | 1000 | . |  41.88374 | -1 | 3.88398 |  56 |  97 | chr1:912650-914455 | ChIPseq_TF | YY1_ENCFF398UQZ | chr1:913032-913129 |  41.88374 | YY1 |\n",
       "| chr1 | 920697 | 921526 | chr1 | 921136 | 921238 | . | 1000 | . |  50.33578 | -1 | 4.33080 |  62 | 102 | chr1:920697-921526 | ChIPseq_TF | YY1_ENCFF398UQZ | chr1:921136-921238 |  50.33578 | YY1 |\n",
       "| chr1 | 923417 | 925194 | chr1 | 923707 | 924017 | . | 1000 | . |  34.69952 | -1 | 3.76640 | 155 | 310 | chr1:923417-925194 | ChIPseq_TF | YY1_ENCFF398UQZ | chr1:923707-924017 |  34.69952 | YY1 |\n",
       "| chr1 | 923417 | 925194 | chr1 | 924711 | 925021 | . |  634 | . |  20.27464 | -1 | 3.58222 | 155 | 310 | chr1:923417-925194 | ChIPseq_TF | YY1_ENCFF398UQZ | chr1:924711-925021 |  20.27464 | YY1 |\n",
       "\n"
      ],
      "text/plain": [
       "  Chrom_ATAC Start_ATAC End_ATAC Chrom Start  End    Name Score Strand\n",
       "1 chr1       777949     779437   chr1  778486 778776 .    1000  .     \n",
       "2 chr1       903633     905556   chr1  904638 904883 .    1000  .     \n",
       "3 chr1       912650     914455   chr1  913032 913129 .    1000  .     \n",
       "4 chr1       920697     921526   chr1  921136 921238 .    1000  .     \n",
       "5 chr1       923417     925194   chr1  923707 924017 .    1000  .     \n",
       "6 chr1       923417     925194   chr1  924711 925021 .     634  .     \n",
       "  SignalValue PValue QValue  Peak Overlap Peak_ATAC          Annotation\n",
       "1 132.48683   -1     4.33080 136  290     chr1:777949-779437 ChIPseq_TF\n",
       "2  75.95987   -1     4.33080 112  245     chr1:903633-905556 ChIPseq_TF\n",
       "3  41.88374   -1     3.88398  56   97     chr1:912650-914455 ChIPseq_TF\n",
       "4  50.33578   -1     4.33080  62  102     chr1:920697-921526 ChIPseq_TF\n",
       "5  34.69952   -1     3.76640 155  310     chr1:923417-925194 ChIPseq_TF\n",
       "6  20.27464   -1     3.58222 155  310     chr1:923417-925194 ChIPseq_TF\n",
       "  Label           Region             Value     Note\n",
       "1 YY1_ENCFF398UQZ chr1:778486-778776 132.48683 YY1 \n",
       "2 YY1_ENCFF398UQZ chr1:904638-904883  75.95987 YY1 \n",
       "3 YY1_ENCFF398UQZ chr1:913032-913129  41.88374 YY1 \n",
       "4 YY1_ENCFF398UQZ chr1:921136-921238  50.33578 YY1 \n",
       "5 YY1_ENCFF398UQZ chr1:923707-924017  34.69952 YY1 \n",
       "6 YY1_ENCFF398UQZ chr1:924711-925021  20.27464 YY1 "
      ]
     },
     "metadata": {},
     "output_type": "display_data"
    }
   ],
   "source": [
    "### Import data\n",
    "lst = lapply(labels, function(label){\n",
    "    ### set file path\n",
    "    target = targets[label]\n",
    "    fname = fnames[label]\n",
    "    fpath = file.path(fdiry, fname)\n",
    "    \n",
    "    ### read data\n",
    "    dat = read_tsv(fpath, col_names = cnames, show_col_types = FALSE)\n",
    "    dat = dat %>% dplyr::mutate(\n",
    "        Peak_ATAC  = paste0(Chrom_ATAC, \":\", Start_ATAC, \"-\", End_ATAC),\n",
    "        Annotation = annotation,\n",
    "        Label      = label,\n",
    "        Region     = paste0(Chrom, \":\", Start, \"-\", End),\n",
    "        Value      = SignalValue,\n",
    "        Note       = target\n",
    "    )\n",
    "    return(dat)\n",
    "})\n",
    "\n",
    "### assign and show\n",
    "lst_peak_annot_import = lst\n",
    "print(length(lst))\n",
    "head(lst[[1]])"
   ]
  },
  {
   "cell_type": "markdown",
   "metadata": {},
   "source": [
    "## Arrange and summarize"
   ]
  },
  {
   "cell_type": "code",
   "execution_count": 8,
   "metadata": {},
   "outputs": [
    {
     "name": "stdout",
     "output_type": "stream",
     "text": [
      "[1] 270491      7\n"
     ]
    },
    {
     "data": {
      "text/html": [
       "<table class=\"dataframe\">\n",
       "<caption>A tibble: 6 × 7</caption>\n",
       "<thead>\n",
       "\t<tr><th scope=col>Peak</th><th scope=col>Annotation</th><th scope=col>Label</th><th scope=col>Count</th><th scope=col>Region</th><th scope=col>Score</th><th scope=col>Note</th></tr>\n",
       "\t<tr><th scope=col>&lt;chr&gt;</th><th scope=col>&lt;chr&gt;</th><th scope=col>&lt;chr&gt;</th><th scope=col>&lt;int&gt;</th><th scope=col>&lt;chr&gt;</th><th scope=col>&lt;dbl&gt;</th><th scope=col>&lt;chr&gt;</th></tr>\n",
       "</thead>\n",
       "<tbody>\n",
       "\t<tr><td>chr1:16015-16477  </td><td>ChIPseq_TF</td><td>CTCF_ENCFF660GHM  </td><td>1</td><td>chr1:16127-16367  </td><td> 24.18824</td><td>CTCF  </td></tr>\n",
       "\t<tr><td>chr1:17237-17772  </td><td>ChIPseq_TF</td><td>POLR2A_ENCFF355MNE</td><td>1</td><td>chr1:17333-17518  </td><td> 79.27235</td><td>POLR2A</td></tr>\n",
       "\t<tr><td>chr1:115411-115986</td><td>ChIPseq_TF</td><td>EP300_ENCFF702XPO </td><td>1</td><td>chr1:115579-115895</td><td> 25.07974</td><td>EP300 </td></tr>\n",
       "\t<tr><td>chr1:115411-115986</td><td>ChIPseq_TF</td><td>NFE2_ENCFF023IFO  </td><td>1</td><td>chr1:115518-115922</td><td> 67.43800</td><td>NFE2  </td></tr>\n",
       "\t<tr><td>chr1:115411-115986</td><td>ChIPseq_TF</td><td>NRF1_ENCFF777PKJ  </td><td>1</td><td>chr1:115456-116012</td><td> 43.47197</td><td>NRF1  </td></tr>\n",
       "\t<tr><td>chr1:115411-115986</td><td>ChIPseq_TF</td><td>POLR2A_ENCFF355MNE</td><td>1</td><td>chr1:115625-115913</td><td>113.27279</td><td>POLR2A</td></tr>\n",
       "</tbody>\n",
       "</table>\n"
      ],
      "text/latex": [
       "A tibble: 6 × 7\n",
       "\\begin{tabular}{lllllll}\n",
       " Peak & Annotation & Label & Count & Region & Score & Note\\\\\n",
       " <chr> & <chr> & <chr> & <int> & <chr> & <dbl> & <chr>\\\\\n",
       "\\hline\n",
       "\t chr1:16015-16477   & ChIPseq\\_TF & CTCF\\_ENCFF660GHM   & 1 & chr1:16127-16367   &  24.18824 & CTCF  \\\\\n",
       "\t chr1:17237-17772   & ChIPseq\\_TF & POLR2A\\_ENCFF355MNE & 1 & chr1:17333-17518   &  79.27235 & POLR2A\\\\\n",
       "\t chr1:115411-115986 & ChIPseq\\_TF & EP300\\_ENCFF702XPO  & 1 & chr1:115579-115895 &  25.07974 & EP300 \\\\\n",
       "\t chr1:115411-115986 & ChIPseq\\_TF & NFE2\\_ENCFF023IFO   & 1 & chr1:115518-115922 &  67.43800 & NFE2  \\\\\n",
       "\t chr1:115411-115986 & ChIPseq\\_TF & NRF1\\_ENCFF777PKJ   & 1 & chr1:115456-116012 &  43.47197 & NRF1  \\\\\n",
       "\t chr1:115411-115986 & ChIPseq\\_TF & POLR2A\\_ENCFF355MNE & 1 & chr1:115625-115913 & 113.27279 & POLR2A\\\\\n",
       "\\end{tabular}\n"
      ],
      "text/markdown": [
       "\n",
       "A tibble: 6 × 7\n",
       "\n",
       "| Peak &lt;chr&gt; | Annotation &lt;chr&gt; | Label &lt;chr&gt; | Count &lt;int&gt; | Region &lt;chr&gt; | Score &lt;dbl&gt; | Note &lt;chr&gt; |\n",
       "|---|---|---|---|---|---|---|\n",
       "| chr1:16015-16477   | ChIPseq_TF | CTCF_ENCFF660GHM   | 1 | chr1:16127-16367   |  24.18824 | CTCF   |\n",
       "| chr1:17237-17772   | ChIPseq_TF | POLR2A_ENCFF355MNE | 1 | chr1:17333-17518   |  79.27235 | POLR2A |\n",
       "| chr1:115411-115986 | ChIPseq_TF | EP300_ENCFF702XPO  | 1 | chr1:115579-115895 |  25.07974 | EP300  |\n",
       "| chr1:115411-115986 | ChIPseq_TF | NFE2_ENCFF023IFO   | 1 | chr1:115518-115922 |  67.43800 | NFE2   |\n",
       "| chr1:115411-115986 | ChIPseq_TF | NRF1_ENCFF777PKJ   | 1 | chr1:115456-116012 |  43.47197 | NRF1   |\n",
       "| chr1:115411-115986 | ChIPseq_TF | POLR2A_ENCFF355MNE | 1 | chr1:115625-115913 | 113.27279 | POLR2A |\n",
       "\n"
      ],
      "text/plain": [
       "  Peak               Annotation Label              Count Region            \n",
       "1 chr1:16015-16477   ChIPseq_TF CTCF_ENCFF660GHM   1     chr1:16127-16367  \n",
       "2 chr1:17237-17772   ChIPseq_TF POLR2A_ENCFF355MNE 1     chr1:17333-17518  \n",
       "3 chr1:115411-115986 ChIPseq_TF EP300_ENCFF702XPO  1     chr1:115579-115895\n",
       "4 chr1:115411-115986 ChIPseq_TF NFE2_ENCFF023IFO   1     chr1:115518-115922\n",
       "5 chr1:115411-115986 ChIPseq_TF NRF1_ENCFF777PKJ   1     chr1:115456-116012\n",
       "6 chr1:115411-115986 ChIPseq_TF POLR2A_ENCFF355MNE 1     chr1:115625-115913\n",
       "  Score     Note  \n",
       "1  24.18824 CTCF  \n",
       "2  79.27235 POLR2A\n",
       "3  25.07974 EP300 \n",
       "4  67.43800 NFE2  \n",
       "5  43.47197 NRF1  \n",
       "6 113.27279 POLR2A"
      ]
     },
     "metadata": {},
     "output_type": "display_data"
    }
   ],
   "source": [
    "### init\n",
    "lst = lst_peak_annot_import\n",
    "dat = bind_rows(lst)\n",
    "\n",
    "### summarize\n",
    "dat = dat %>%\n",
    "    dplyr::group_by(Chrom_ATAC, Start_ATAC, End_ATAC, Peak_ATAC, Annotation, Label) %>%\n",
    "    dplyr::summarise(\n",
    "        Count  = n(), \n",
    "        Region = paste(Region, collapse=\"|\"),\n",
    "        Score  = mean(Value),\n",
    "        Note   = paste(unique(sort(Note)), collapse=\"|\"),\n",
    "        .groups = \"drop\")\n",
    "\n",
    "## arrange\n",
    "dat = dat %>% \n",
    "    dplyr::arrange(Chrom_ATAC, Start_ATAC, End_ATAC) %>%\n",
    "    dplyr::select(-Chrom_ATAC, -Start_ATAC, -End_ATAC) %>%\n",
    "    dplyr::rename(\"Peak\" = Peak_ATAC)\n",
    "\n",
    "### assign and show\n",
    "dat_peak_annot_summary = dat\n",
    "print(dim(dat))\n",
    "head(dat)"
   ]
  },
  {
   "cell_type": "markdown",
   "metadata": {},
   "source": [
    "## Explore and check results"
   ]
  },
  {
   "cell_type": "code",
   "execution_count": 9,
   "metadata": {},
   "outputs": [
    {
     "data": {
      "text/plain": [
       "\n",
       "  ATF1   CTCF   ELK1  EP300  GATA1    JUN  KLF10  KLF16   NFE2   NRF1 POLR2A \n",
       " 24776  37780   3149  22333  11815  16287    650  15344  14986  22194  17945 \n",
       "  REST    SP1   TAL1    YY1   ZEB2 \n",
       " 14306   9048  22430  20494  16954 "
      ]
     },
     "metadata": {},
     "output_type": "display_data"
    }
   ],
   "source": [
    "dat = dat_peak_annot_summary\n",
    "table(dat$Note)"
   ]
  },
  {
   "cell_type": "code",
   "execution_count": 10,
   "metadata": {},
   "outputs": [
    {
     "data": {
      "text/plain": [
       "$ATF1_ENCFF627RSK\n",
       "\n",
       "    1     2     3     4     5     6 \n",
       "13371 10186  1024   173    21     1 \n",
       "\n",
       "$CTCF_ENCFF660GHM\n",
       "\n",
       "    1     2     3     4 \n",
       "35822  1816   135     7 \n",
       "\n",
       "$ELK1_ENCFF715WGN\n",
       "\n",
       "   1    2    3    4 \n",
       "2784  336   25    4 \n",
       "\n",
       "$EP300_ENCFF702XPO\n",
       "\n",
       "    1     2     3     4     5     6 \n",
       "20415  1744   153    18     2     1 \n",
       "\n",
       "$GATA1_ENCFF657CTC\n",
       "\n",
       "    1     2     3     4     5 \n",
       "11319   480    14     1     1 \n",
       "\n",
       "$JUN_ENCFF190CGV\n",
       "\n",
       "    1     2     3     4     5     6 \n",
       "14937  1231   109     7     2     1 \n",
       "\n",
       "$KLF10_ENCFF142ZTD\n",
       "\n",
       "  1   2   3   4 \n",
       "609  32   7   2 \n",
       "\n",
       "$KLF16_ENCFF488OTN\n",
       "\n",
       "    1     2     3     4 \n",
       "14468   830    42     4 \n",
       "\n",
       "$NFE2_ENCFF023IFO\n",
       "\n",
       "    1     2     3 \n",
       "14271   680    35 \n",
       "\n",
       "$NRF1_ENCFF777PKJ\n",
       "\n",
       "    1     2     3     4     5     6     8 \n",
       "13915  7322   768   168    18     2     1 \n",
       "\n",
       "$POLR2A_ENCFF355MNE\n",
       "\n",
       "   1    2    3    4    5    6    7    8    9   10   11   12   13   14   15   16 \n",
       "8686 6349 1531  560  241  129   80   92   47   45   40   28   28   17   16   18 \n",
       "  17   18   19   20   23 \n",
       "   7   14    1    7    9 \n",
       "\n",
       "$REST_ENCFF707MDI\n",
       "\n",
       "    1     2     3     4     5 \n",
       "12678  1417   188    20     3 \n",
       "\n",
       "$SP1_ENCFF553GPK\n",
       "\n",
       "   1    2    3    4    7 \n",
       "6674 2208  149   16    1 \n",
       "\n",
       "$TAL1_ENCFF852ZRK\n",
       "\n",
       "    1     2     3     4 \n",
       "20874  1438   110     8 \n",
       "\n",
       "$YY1_ENCFF398UQZ\n",
       "\n",
       "    1     2     3     4     5     6 \n",
       "16316  3337   680   126    27     8 \n",
       "\n",
       "$ZEB2_ENCFF242AOL\n",
       "\n",
       "    1     2     3     4 \n",
       "14193  2559   181    21 \n"
      ]
     },
     "metadata": {},
     "output_type": "display_data"
    }
   ],
   "source": [
    "dat = dat_peak_annot_summary\n",
    "lst = split(dat, dat$Label)\n",
    "lst = lapply(lst, function(dat){\n",
    "    table(dat$Count)\n",
    "})\n",
    "lst"
   ]
  },
  {
   "cell_type": "markdown",
   "metadata": {},
   "source": [
    "## Save results"
   ]
  },
  {
   "cell_type": "code",
   "execution_count": 11,
   "metadata": {},
   "outputs": [],
   "source": [
    "fdiry = file.path(\n",
    "    FD_RES, \n",
    "    \"results\", \n",
    "    \"region\", \n",
    "    \"KS91_K562_ASTARRseq_peak_macs_input\", \n",
    "    \"summary\")\n",
    "fname = \"peak.summary.chipseq_tf_subset.tsv\"\n",
    "fpath = file.path(fdiry, fname)\n",
    "\n",
    "dat = dat_peak_annot_summary\n",
    "write_tsv(dat, fpath)"
   ]
  },
  {
   "cell_type": "code",
   "execution_count": null,
   "metadata": {},
   "outputs": [],
   "source": []
  }
 ],
 "metadata": {
  "kernelspec": {
   "display_name": "R",
   "language": "R",
   "name": "ir"
  },
  "language_info": {
   "codemirror_mode": "r",
   "file_extension": ".r",
   "mimetype": "text/x-r-source",
   "name": "R",
   "pygments_lexer": "r",
   "version": "4.3.0"
  }
 },
 "nbformat": 4,
 "nbformat_minor": 4
}
