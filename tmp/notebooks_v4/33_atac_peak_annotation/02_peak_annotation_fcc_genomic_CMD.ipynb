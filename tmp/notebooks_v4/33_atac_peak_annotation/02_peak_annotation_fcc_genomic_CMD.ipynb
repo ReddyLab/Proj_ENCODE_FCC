{
 "cells": [
  {
   "cell_type": "markdown",
   "id": "658a532c-5320-4776-85c6-21bf69d9ccc0",
   "metadata": {},
   "source": [
    "**Set environment**"
   ]
  },
  {
   "cell_type": "code",
   "execution_count": 1,
   "id": "9a0314e5-8e75-4078-85f1-d0e09ae313a2",
   "metadata": {},
   "outputs": [
    {
     "name": "stdout",
     "output_type": "stream",
     "text": [
      "You are on Duke Server: HARDAC\n",
      "BASE DIRECTORY (FD_BASE): /data/reddylab/Kuei\n",
      "WORK DIRECTORY (FD_WORK): /data/reddylab/Kuei/out\n",
      "CODE DIRECTORY (FD_CODE): /data/reddylab/Kuei/code\n",
      "SING DIRECTORY (FD_SING): /data/reddylab/Kuei/singularity\n",
      "PATH OF PROJECT (FD_PRJ): /data/reddylab/Kuei/code/Proj_CombEffect_ENCODE_FCC\n",
      "PATH OF RESULTS (FD_RES): /data/reddylab/Kuei/out/proj_combeffect_encode_fcc\n",
      "PATH OF LOG     (FD_LOG): /data/reddylab/Kuei/out/proj_combeffect_encode_fcc/log\n",
      "\n"
     ]
    }
   ],
   "source": [
    "### set env\n",
    "source ../config/config_duke.sh\n",
    "source ../config/config_load_module_bedtools.sh\n",
    "show_env"
   ]
  },
  {
   "cell_type": "markdown",
   "id": "cfb3c533-ec04-4879-bc5e-3f51b7bc20d4",
   "metadata": {},
   "source": [
    "## Region to be annotated: ATAC peaks"
   ]
  },
  {
   "cell_type": "code",
   "execution_count": 2,
   "id": "71efa685-e007-4394-a970-25c4283f03f7",
   "metadata": {},
   "outputs": [
    {
     "name": "stdout",
     "output_type": "stream",
     "text": [
      "\u001b[0m\u001b[38;5;9m/data/reddylab/Kuei/out/proj_combeffect_encode_fcc/results/region/KS91_K562_ASTARRseq_peak_macs_input/KS91_K562_hg38_ASTARRseq_Input.all_reps.masked.union_narrowPeak.q5.bed.gz\u001b[0m\u001b[K\n",
      "chr1\t10015\t10442\n",
      "chr1\t14253\t14645\n",
      "chr1\t16015\t16477\n",
      "chr1\t17237\t17772\n",
      "chr1\t28903\t29613\n",
      "chr1\t30803\t31072\n",
      "chr1\t101603\t101849\n",
      "chr1\t115411\t115986\n",
      "chr1\t118518\t118743\n",
      "chr1\t136071\t137429\n"
     ]
    }
   ],
   "source": [
    "FD_REG=${FD_RES}/results/region/KS91_K562_ASTARRseq_peak_macs_input\n",
    "FN_REG=KS91_K562_hg38_ASTARRseq_Input.all_reps.masked.union_narrowPeak.q5.bed.gz\n",
    "FP_REG=${FD_REG}/${FN_REG}\n",
    "ls   ${FP_REG}\n",
    "zcat ${FP_REG} | head"
   ]
  },
  {
   "cell_type": "markdown",
   "id": "5e6d5d5f-202b-42e1-9d80-5d44f8a9f9f1",
   "metadata": {},
   "source": [
    "## Annotation"
   ]
  },
  {
   "cell_type": "markdown",
   "id": "58e1df98-9ec5-456d-8964-5142b5ca1443",
   "metadata": {},
   "source": [
    "**Get data files**"
   ]
  },
  {
   "cell_type": "code",
   "execution_count": 4,
   "id": "0f22b168-6a80-44bf-9ab5-6102a7f88bd7",
   "metadata": {},
   "outputs": [
    {
     "name": "stdout",
     "output_type": "stream",
     "text": [
      "annotation_tss_pol2\n",
      "K562.TSS.selected_by_highest_Pol2_signal.bed.gz\n",
      "K562.TSS.selected_by_highest_Pol2_signal.filtered_by_RNAseq_TPM.bed.gz\n",
      "\n",
      "annotation_ccres\n",
      "ccres_v3.bed.gz\n",
      "ccres_v4.bed.gz\n",
      "\n",
      "annotation_ccres_silencer\n",
      "ccres_v4.silencer.rest.bed.gz\n",
      "ccres_v4.silencer.starr.bed.gz\n",
      "\n",
      "annotation_chromHMM\n",
      "K562.ENCSR365YNI.ENCFF106BGJ.ChromHMM.bed.gz\n",
      "\n"
     ]
    }
   ],
   "source": [
    "### TSS\n",
    "FOLDER=annotation_tss_pol2\n",
    "FD_ANT=${FD_RES}/results/region/${FOLDER}\n",
    "FP_ANTS_TSS=($(ls ${FD_ANT}/*bed.gz))\n",
    "\n",
    "echo ${FOLDER}\n",
    "basename -a ${FP_ANTS_TSS[@]}\n",
    "echo\n",
    "\n",
    "### cCREs\n",
    "FOLDER=annotation_ccres\n",
    "FD_ANT=${FD_RES}/results/region/${FOLDER}\n",
    "FP_ANTS_CCRES=($(ls ${FD_ANT}/*bed.gz))\n",
    "\n",
    "echo ${FOLDER}\n",
    "basename -a ${FP_ANTS_CCRES[@]}\n",
    "echo\n",
    "\n",
    "### cCREs silencer\n",
    "FOLDER=annotation_ccres_silencer\n",
    "FD_ANT=${FD_RES}/results/region/${FOLDER}\n",
    "FP_ANTS_CCRES_SILENCER=($(ls ${FD_ANT}/*bed.gz))\n",
    "\n",
    "echo ${FOLDER}\n",
    "basename -a ${FP_ANTS_CCRES_SILENCER[@]}\n",
    "echo\n",
    "\n",
    "### ChromHMM\n",
    "FOLDER=annotation_chromHMM\n",
    "FD_ANT=${FD_RES}/results/region/${FOLDER}\n",
    "FP_ANTS_CHROMHMM=($(ls ${FD_ANT}/*bed.gz))\n",
    "\n",
    "echo ${FOLDER}\n",
    "basename -a ${FP_ANTS_CHROMHMM[@]}\n",
    "echo"
   ]
  },
  {
   "cell_type": "markdown",
   "id": "96ffd635-10c2-4c1a-b413-a3fa76c9548d",
   "metadata": {},
   "source": [
    "**Test loop**"
   ]
  },
  {
   "cell_type": "code",
   "execution_count": 5,
   "id": "768b3d74-9b2a-4031-ba09-2e3c0e8aaceb",
   "metadata": {},
   "outputs": [
    {
     "name": "stdout",
     "output_type": "stream",
     "text": [
      "File Folder (Annotation): annotation_tss_pol2\n",
      "File Prefix (Annotation): K562.TSS.selected_by_highest_Pol2_signal\n",
      "File Name   (Annotation): K562.TSS.selected_by_highest_Pol2_signal.bed.gz\n",
      "File Name   (Output):     peak.annotation.K562.TSS.selected_by_highest_Pol2_signal.bed.gz\n",
      "File Path   (Log):        ${FD_LOG}/peak.annotation.K562.TSS.selected_by_highest_Pol2_signal.txt\n",
      "\n",
      "File Folder (Annotation): annotation_tss_pol2\n",
      "File Prefix (Annotation): K562.TSS.selected_by_highest_Pol2_signal.filtered_by_RNAseq_TPM\n",
      "File Name   (Annotation): K562.TSS.selected_by_highest_Pol2_signal.filtered_by_RNAseq_TPM.bed.gz\n",
      "File Name   (Output):     peak.annotation.K562.TSS.selected_by_highest_Pol2_signal.filtered_by_RNAseq_TPM.bed.gz\n",
      "File Path   (Log):        ${FD_LOG}/peak.annotation.K562.TSS.selected_by_highest_Pol2_signal.filtered_by_RNAseq_TPM.txt\n",
      "\n",
      "File Folder (Annotation): annotation_ccres\n",
      "File Prefix (Annotation): ccres_v3\n",
      "File Name   (Annotation): ccres_v3.bed.gz\n",
      "File Name   (Output):     peak.annotation.ccres_v3.bed.gz\n",
      "File Path   (Log):        ${FD_LOG}/peak.annotation.ccres_v3.txt\n",
      "\n",
      "File Folder (Annotation): annotation_ccres\n",
      "File Prefix (Annotation): ccres_v4\n",
      "File Name   (Annotation): ccres_v4.bed.gz\n",
      "File Name   (Output):     peak.annotation.ccres_v4.bed.gz\n",
      "File Path   (Log):        ${FD_LOG}/peak.annotation.ccres_v4.txt\n",
      "\n",
      "File Folder (Annotation): annotation_ccres_silencer\n",
      "File Prefix (Annotation): ccres_v4.silencer.rest\n",
      "File Name   (Annotation): ccres_v4.silencer.rest.bed.gz\n",
      "File Name   (Output):     peak.annotation.ccres_v4.silencer.rest.bed.gz\n",
      "File Path   (Log):        ${FD_LOG}/peak.annotation.ccres_v4.silencer.rest.txt\n",
      "\n",
      "File Folder (Annotation): annotation_ccres_silencer\n",
      "File Prefix (Annotation): ccres_v4.silencer.starr\n",
      "File Name   (Annotation): ccres_v4.silencer.starr.bed.gz\n",
      "File Name   (Output):     peak.annotation.ccres_v4.silencer.starr.bed.gz\n",
      "File Path   (Log):        ${FD_LOG}/peak.annotation.ccres_v4.silencer.starr.txt\n",
      "\n",
      "File Folder (Annotation): annotation_chromHMM\n",
      "File Prefix (Annotation): K562.ENCSR365YNI.ENCFF106BGJ.ChromHMM\n",
      "File Name   (Annotation): K562.ENCSR365YNI.ENCFF106BGJ.ChromHMM.bed.gz\n",
      "File Name   (Output):     peak.annotation.K562.ENCSR365YNI.ENCFF106BGJ.ChromHMM.bed.gz\n",
      "File Path   (Log):        ${FD_LOG}/peak.annotation.K562.ENCSR365YNI.ENCFF106BGJ.ChromHMM.txt\n",
      "\n"
     ]
    }
   ],
   "source": [
    "### concat\n",
    "FP_ANTS=(\n",
    "    ${FP_ANTS_TSS[@]}\n",
    "    ${FP_ANTS_CCRES[@]}\n",
    "    ${FP_ANTS_CCRES_SILENCER[@]}\n",
    "    ${FP_ANTS_CHROMHMM[@]}\n",
    ")\n",
    "\n",
    "for FP_ANT in ${FP_ANTS[@]}; do\n",
    "    FD_ANT=$(dirname  ${FP_ANT})\n",
    "    FOLDER=$(basename ${FD_ANT})\n",
    "    \n",
    "    FN_ANT=$(basename ${FP_ANT})\n",
    "    PREFIX=${FN_ANT%.bed.gz}\n",
    "    \n",
    "    FN_LOG=peak.annotation.${PREFIX}.txt\n",
    "    FP_LOG='${FD_LOG}/'peak.annotation.${PREFIX}.txt\n",
    "    \n",
    "    FD_OUT=${FD_REG}/${FOLDER}\n",
    "    FN_OUT=peak.annotation.${FN_ANT}\n",
    "    FP_OUT=${FD_OUT}/${FN_OUT}\n",
    "    \n",
    "    echo \"File Folder (Annotation):\" ${FOLDER}\n",
    "    echo \"File Prefix (Annotation):\" ${PREFIX}\n",
    "    echo \"File Name   (Annotation):\" ${FN_ANT}\n",
    "    echo \"File Name   (Output):    \" ${FN_OUT}\n",
    "    echo \"File Path   (Log):       \" '${FD_LOG}/'${FN_LOG}\n",
    "    echo\n",
    "done"
   ]
  },
  {
   "cell_type": "markdown",
   "id": "e1d366b1-76e0-44b2-b464-1610caad6bad",
   "metadata": {},
   "source": [
    "**Execute**"
   ]
  },
  {
   "cell_type": "code",
   "execution_count": 6,
   "id": "fe494d71-13ed-4c42-a241-fe66adcb8140",
   "metadata": {},
   "outputs": [
    {
     "name": "stdout",
     "output_type": "stream",
     "text": [
      "File Folder (Annotation): annotation_tss_pol2\n",
      "File Prefix (Annotation): K562.TSS.selected_by_highest_Pol2_signal\n",
      "File Name   (Annotation): K562.TSS.selected_by_highest_Pol2_signal.bed.gz\n",
      "File Name   (Output):     peak.annotation.K562.TSS.selected_by_highest_Pol2_signal.bed.gz\n",
      "File Path   (Log):        ${FD_LOG}/peak.annotation.K562.TSS.selected_by_highest_Pol2_signal.txt\n",
      "\n",
      "Submitted batch job 30527165\n",
      "\n",
      "File Folder (Annotation): annotation_tss_pol2\n",
      "File Prefix (Annotation): K562.TSS.selected_by_highest_Pol2_signal.filtered_by_RNAseq_TPM\n",
      "File Name   (Annotation): K562.TSS.selected_by_highest_Pol2_signal.filtered_by_RNAseq_TPM.bed.gz\n",
      "File Name   (Output):     peak.annotation.K562.TSS.selected_by_highest_Pol2_signal.filtered_by_RNAseq_TPM.bed.gz\n",
      "File Path   (Log):        ${FD_LOG}/peak.annotation.K562.TSS.selected_by_highest_Pol2_signal.filtered_by_RNAseq_TPM.txt\n",
      "\n",
      "Submitted batch job 30527166\n",
      "\n",
      "File Folder (Annotation): annotation_ccres\n",
      "File Prefix (Annotation): ccres_v3\n",
      "File Name   (Annotation): ccres_v3.bed.gz\n",
      "File Name   (Output):     peak.annotation.ccres_v3.bed.gz\n",
      "File Path   (Log):        ${FD_LOG}/peak.annotation.ccres_v3.txt\n",
      "\n",
      "Submitted batch job 30527167\n",
      "\n",
      "File Folder (Annotation): annotation_ccres\n",
      "File Prefix (Annotation): ccres_v4\n",
      "File Name   (Annotation): ccres_v4.bed.gz\n",
      "File Name   (Output):     peak.annotation.ccres_v4.bed.gz\n",
      "File Path   (Log):        ${FD_LOG}/peak.annotation.ccres_v4.txt\n",
      "\n",
      "Submitted batch job 30527168\n",
      "\n",
      "File Folder (Annotation): annotation_ccres_silencer\n",
      "File Prefix (Annotation): ccres_v4.silencer.rest\n",
      "File Name   (Annotation): ccres_v4.silencer.rest.bed.gz\n",
      "File Name   (Output):     peak.annotation.ccres_v4.silencer.rest.bed.gz\n",
      "File Path   (Log):        ${FD_LOG}/peak.annotation.ccres_v4.silencer.rest.txt\n",
      "\n",
      "Submitted batch job 30527169\n",
      "\n",
      "File Folder (Annotation): annotation_ccres_silencer\n",
      "File Prefix (Annotation): ccres_v4.silencer.starr\n",
      "File Name   (Annotation): ccres_v4.silencer.starr.bed.gz\n",
      "File Name   (Output):     peak.annotation.ccres_v4.silencer.starr.bed.gz\n",
      "File Path   (Log):        ${FD_LOG}/peak.annotation.ccres_v4.silencer.starr.txt\n",
      "\n",
      "Submitted batch job 30527170\n",
      "\n",
      "File Folder (Annotation): annotation_chromHMM\n",
      "File Prefix (Annotation): K562.ENCSR365YNI.ENCFF106BGJ.ChromHMM\n",
      "File Name   (Annotation): K562.ENCSR365YNI.ENCFF106BGJ.ChromHMM.bed.gz\n",
      "File Name   (Output):     peak.annotation.K562.ENCSR365YNI.ENCFF106BGJ.ChromHMM.bed.gz\n",
      "File Path   (Log):        ${FD_LOG}/peak.annotation.K562.ENCSR365YNI.ENCFF106BGJ.ChromHMM.txt\n",
      "\n",
      "Submitted batch job 30527171\n",
      "\n"
     ]
    }
   ],
   "source": [
    "### concat\n",
    "FP_ANTS=(\n",
    "    ${FP_ANTS_TSS[@]}\n",
    "    ${FP_ANTS_CCRES[@]}\n",
    "    ${FP_ANTS_CCRES_SILENCER[@]}\n",
    "    ${FP_ANTS_CHROMHMM[@]}\n",
    ")\n",
    "\n",
    "for FP_ANT in ${FP_ANTS[@]}; do\n",
    "    FD_ANT=$(dirname  ${FP_ANT})\n",
    "    FOLDER=$(basename ${FD_ANT})\n",
    "    \n",
    "    FN_ANT=$(basename ${FP_ANT})\n",
    "    PREFIX=${FN_ANT%.bed.gz}\n",
    "    \n",
    "    FN_LOG=peak.annotation.${PREFIX}.txt\n",
    "    FP_LOG=${FD_LOG}/${FN_LOG}\n",
    "    \n",
    "    FD_OUT=${FD_REG}/${FOLDER}\n",
    "    FN_OUT=peak.annotation.${FN_ANT}\n",
    "    FP_OUT=${FD_OUT}/${FN_OUT}\n",
    "    \n",
    "    echo \"File Folder (Annotation):\" ${FOLDER}\n",
    "    echo \"File Prefix (Annotation):\" ${PREFIX}\n",
    "    echo \"File Name   (Annotation):\" ${FN_ANT}\n",
    "    echo \"File Name   (Output):    \" ${FN_OUT}\n",
    "    echo \"File Path   (Log):       \" '${FD_LOG}/'${FN_LOG}\n",
    "    echo\n",
    "    sbatch -p ${NODE} \\\n",
    "        --exclude=dl-01 \\\n",
    "        --cpus-per-task 4 \\\n",
    "        --mem 4G \\\n",
    "        --output ${FP_LOG} \\\n",
    "        ../scripts/run_bedtools_annot.sh ${FP_REG} ${FP_ANT} ${FP_OUT}\n",
    "    echo\n",
    "done"
   ]
  },
  {
   "cell_type": "markdown",
   "id": "f6c85774-08b9-482d-9389-06e0b3bcc3da",
   "metadata": {},
   "source": [
    "**Check results**"
   ]
  },
  {
   "cell_type": "code",
   "execution_count": 7,
   "id": "c844c5d4-1436-4740-a898-f5d0fbcc908d",
   "metadata": {},
   "outputs": [
    {
     "name": "stdout",
     "output_type": "stream",
     "text": [
      "Hostname:           x1-02-3.genome.duke.edu\n",
      "Slurm Array Index: \n",
      "Time Stamp:         12-22-23+13:02:18\n",
      "\n",
      "Input:  /data/reddylab/Kuei/out/proj_combeffect_encode_fcc/results/region/KS91_K562_ASTARRseq_peak_macs_input/KS91_K562_hg38_ASTARRseq_Input.all_reps.masked.union_narrowPeak.q5.bed.gz\n",
      "\n",
      "show first few lines of input\n",
      "chr1\t10015\t10442\n",
      "chr1\t14253\t14645\n",
      "chr1\t16015\t16477\n",
      "chr1\t17237\t17772\n",
      "chr1\t28903\t29613\n",
      "chr1\t30803\t31072\n",
      "chr1\t101603\t101849\n",
      "chr1\t115411\t115986\n",
      "chr1\t118518\t118743\n",
      "chr1\t136071\t137429\n",
      "\n",
      "Input:  /data/reddylab/Kuei/out/proj_combeffect_encode_fcc/results/region/annotation_tss_pol2/K562.TSS.selected_by_highest_Pol2_signal.bed.gz\n",
      "\n",
      "show first few lines of input\n",
      "chr1\t11873\t11874\tDDX11L1\t2.3e-4\n",
      "chr1\t17436\t17437\tMIR6859-1\t9.43812\n",
      "chr1\t17436\t17437\tMIR6859-2\t9.43812\n",
      "chr1\t17436\t17437\tMIR6859-3\t9.43812\n",
      "chr1\t17436\t17437\tMIR6859-4\t9.43812\n",
      "chr1\t29370\t29371\tWASH7P\t2.3e-4\n",
      "chr1\t30365\t30366\tMIR1302-10\t0.562995\n",
      "chr1\t30365\t30366\tMIR1302-11\t0.562995\n",
      "chr1\t30365\t30366\tMIR1302-2\t0.562995\n",
      "chr1\t30365\t30366\tMIR1302-9\t0.562995\n",
      "\n",
      "\n",
      "Output:  /data/reddylab/Kuei/out/proj_combeffect_encode_fcc/results/region/KS91_K562_ASTARRseq_peak_macs_input/annotation_tss_pol2/peak.annotation.K562.TSS.selected_by_highest_Pol2_signal.bed.gz\n",
      "\n",
      "show first few lines of output:\n",
      "chr1\t17237\t17772\tchr1\t17436\t17437\tMIR6859-1\t9.43812\t1\n",
      "chr1\t17237\t17772\tchr1\t17436\t17437\tMIR6859-2\t9.43812\t1\n",
      "chr1\t17237\t17772\tchr1\t17436\t17437\tMIR6859-3\t9.43812\t1\n",
      "chr1\t17237\t17772\tchr1\t17436\t17437\tMIR6859-4\t9.43812\t1\n",
      "chr1\t28903\t29613\tchr1\t29370\t29371\tWASH7P\t2.3e-4\t1\n",
      "chr1\t777949\t779437\tchr1\t778634\t778635\tLOC100288069\t230.561\t1\n",
      "chr1\t816774\t817547\tchr1\t817370\t817371\tFAM87B\t1.06609\t1\n",
      "chr1\t826754\t828040\tchr1\t827522\t827523\tLINC00115\t64.4656\t1\n",
      "chr1\t826754\t828040\tchr1\t827590\t827591\tLINC01128\t64.4603\t1\n",
      "chr1\t876474\t878030\tchr1\t876802\t876803\tFAM41C\t0.00788399\t1\n",
      "\n",
      "\n",
      "Done!\n",
      "Run Time: 1 seconds\n"
     ]
    }
   ],
   "source": [
    "cat ${FD_LOG}/peak.annotation.K562.TSS.selected_by_highest_Pol2_signal.txt"
   ]
  },
  {
   "cell_type": "code",
   "execution_count": 9,
   "id": "0e084381-aba9-47d0-baf8-b4a0f1bb7495",
   "metadata": {},
   "outputs": [
    {
     "name": "stdout",
     "output_type": "stream",
     "text": [
      "Hostname:           x1-03-1.genome.duke.edu\n",
      "Slurm Array Index: \n",
      "Time Stamp:         12-22-23+13:02:18\n",
      "\n",
      "Input:  /data/reddylab/Kuei/out/proj_combeffect_encode_fcc/results/region/KS91_K562_ASTARRseq_peak_macs_input/KS91_K562_hg38_ASTARRseq_Input.all_reps.masked.union_narrowPeak.q5.bed.gz\n",
      "\n",
      "show first few lines of input\n",
      "chr1\t10015\t10442\n",
      "chr1\t14253\t14645\n",
      "chr1\t16015\t16477\n",
      "chr1\t17237\t17772\n",
      "chr1\t28903\t29613\n",
      "chr1\t30803\t31072\n",
      "chr1\t101603\t101849\n",
      "chr1\t115411\t115986\n",
      "chr1\t118518\t118743\n",
      "chr1\t136071\t137429\n",
      "\n",
      "Input:  /data/reddylab/Kuei/out/proj_combeffect_encode_fcc/results/region/annotation_ccres/ccres_v4.bed.gz\n",
      "\n",
      "show first few lines of input\n",
      "chr1\t10033\t10250\tEH38E2776516\t0\t.\t10033\t10250\t225,225,225\tLow-DNase\tAll-data/Full-classification\n",
      "chr1\t10385\t10713\tEH38E2776517\t0\t.\t10385\t10713\t225,225,225\tLow-DNase\tAll-data/Full-classification\n",
      "chr1\t16097\t16381\tEH38E3951272\t0\t.\t16097\t16381\t225,225,225\tLow-DNase\tAll-data/Full-classification\n",
      "chr1\t17343\t17642\tEH38E3951273\t0\t.\t17343\t17642\t225,225,225\tLow-DNase\tAll-data/Full-classification\n",
      "chr1\t29320\t29517\tEH38E3951274\t0\t.\t29320\t29517\t225,225,225\tLow-DNase\tAll-data/Full-classification\n",
      "chr1\t66350\t66509\tEH38E3951275\t0\t.\t66350\t66509\t225,225,225\tLow-DNase\tAll-data/Full-classification\n",
      "chr1\t78990\t79238\tEH38E3951276\t0\t.\t78990\t79238\t225,225,225\tLow-DNase\tAll-data/Full-classification\n",
      "chr1\t79304\t79545\tEH38E2776519\t0\t.\t79304\t79545\t225,225,225\tLow-DNase\tAll-data/Full-classification\n",
      "chr1\t91087\t91426\tEH38E3951277\t0\t.\t91087\t91426\t225,225,225\tLow-DNase\tAll-data/Full-classification\n",
      "chr1\t98867\t99117\tEH38E3951278\t0\t.\t98867\t99117\t225,225,225\tLow-DNase\tAll-data/Full-classification\n",
      "\n",
      "\n",
      "Output:  /data/reddylab/Kuei/out/proj_combeffect_encode_fcc/results/region/KS91_K562_ASTARRseq_peak_macs_input/annotation_ccres/peak.annotation.ccres_v4.bed.gz\n",
      "\n",
      "show first few lines of output:\n",
      "chr1\t10015\t10442\tchr1\t10033\t10250\tEH38E2776516\t0\t.\t10033\t10250\t225,225,225\tLow-DNase\tAll-data/Full-classification\t217\n",
      "chr1\t16015\t16477\tchr1\t16097\t16381\tEH38E3951272\t0\t.\t16097\t16381\t225,225,225\tLow-DNase\tAll-data/Full-classification\t284\n",
      "chr1\t17237\t17772\tchr1\t17343\t17642\tEH38E3951273\t0\t.\t17343\t17642\t225,225,225\tLow-DNase\tAll-data/Full-classification\t299\n",
      "chr1\t28903\t29613\tchr1\t29320\t29517\tEH38E3951274\t0\t.\t29320\t29517\t225,225,225\tLow-DNase\tAll-data/Full-classification\t197\n",
      "chr1\t115411\t115986\tchr1\t115562\t115912\tEH38E3951280\t0\t.\t115562\t115912\t0,176,240\tCA-CTCF\tAll-data/Full-classification\t350\n",
      "chr1\t118518\t118743\tchr1\t118508\t118826\tEH38E3951281\t0\t.\t118508\t118826\t225,225,225\tLow-DNase\tAll-data/Full-classification\t225\n",
      "chr1\t136071\t137429\tchr1\t136378\t136540\tEH38E3951284\t0\t.\t136378\t136540\t225,225,225\tLow-DNase\tAll-data/Full-classification\t162\n",
      "chr1\t136071\t137429\tchr1\t136646\t136985\tEH38E3951285\t0\t.\t136646\t136985\t225,225,225\tLow-DNase\tAll-data/Full-classification\t339\n",
      "chr1\t137737\t139544\tchr1\t138917\t139112\tEH38E3951286\t0\t.\t138917\t139112\t255,167,0\tpELS\tAll-data/Full-classification\t195\n",
      "chr1\t137737\t139544\tchr1\t139237\t139527\tEH38E3951287\t0\t.\t139237\t139527\t225,225,225\tLow-DNase\tAll-data/Full-classification\t290\n",
      "\n",
      "\n",
      "Done!\n",
      "Run Time: 10 seconds\n"
     ]
    }
   ],
   "source": [
    "cat ${FD_LOG}/peak.annotation.ccres_v4.txt"
   ]
  },
  {
   "cell_type": "code",
   "execution_count": 8,
   "id": "65681117-a273-4004-8617-77f83ce39d3d",
   "metadata": {},
   "outputs": [
    {
     "name": "stdout",
     "output_type": "stream",
     "text": [
      "Hostname:           x1-03-1.genome.duke.edu\n",
      "Slurm Array Index: \n",
      "Time Stamp:         12-22-23+13:02:18\n",
      "\n",
      "Input:  /data/reddylab/Kuei/out/proj_combeffect_encode_fcc/results/region/KS91_K562_ASTARRseq_peak_macs_input/KS91_K562_hg38_ASTARRseq_Input.all_reps.masked.union_narrowPeak.q5.bed.gz\n",
      "\n",
      "show first few lines of input\n",
      "chr1\t10015\t10442\n",
      "chr1\t14253\t14645\n",
      "chr1\t16015\t16477\n",
      "chr1\t17237\t17772\n",
      "chr1\t28903\t29613\n",
      "chr1\t30803\t31072\n",
      "chr1\t101603\t101849\n",
      "chr1\t115411\t115986\n",
      "chr1\t118518\t118743\n",
      "chr1\t136071\t137429\n",
      "\n",
      "Input:  /data/reddylab/Kuei/out/proj_combeffect_encode_fcc/results/region/annotation_ccres_silencer/ccres_v4.silencer.rest.bed.gz\n",
      "\n",
      "show first few lines of input\n",
      "chr10\t100680786\t100681128\tEH38E4018829\t0\t.\tCA-H3K4me3\tREST+ silencer\n",
      "chr10\t101081011\t101081271\tEH38E4018984\t0\t.\tCA-TF\tREST+ silencer\n",
      "chr10\t102361781\t102362038\tEH38E4019348\t0\t.\tCA-CTCF\tREST+ silencer\n",
      "chr10\t103265839\t103266036\tEH38E1495742\t0\t.\tCA-CTCF\tREST+ silencer\n",
      "chr10\t104548071\t104548416\tEH38E4019821\t0\t.\tCA-TF\tREST+ silencer\n",
      "chr10\t104750418\t104750581\tEH38E4019865\t0\t.\tCA-TF\tREST+ silencer\n",
      "chr10\t104824451\t104824786\tEH38E4019880\t0\t.\tCA-TF\tREST+ silencer\n",
      "chr10\t108970069\t108970347\tEH38E4020685\t0\t.\tCA-TF\tREST+ silencer\n",
      "chr10\t109723424\t109723695\tEH38E4020818\t0\t.\tCA-TF\tREST+ silencer\n",
      "chr10\t109821746\t109822051\tEH38E4020832\t0\t.\tCA-TF\tREST+ silencer\n",
      "\n",
      "\n",
      "Output:  /data/reddylab/Kuei/out/proj_combeffect_encode_fcc/results/region/KS91_K562_ASTARRseq_peak_macs_input/annotation_ccres_silencer/peak.annotation.ccres_v4.silencer.rest.bed.gz\n",
      "\n",
      "show first few lines of output:\n",
      "chr1\t1298873\t1300608\tchr1\t1298966\t1299316\tEH38E2777310\t0\t.\tdELS\tREST+ enhancer/silencer\t350\n",
      "chr1\t1334703\t1335568\tchr1\t1334920\t1335266\tEH38E2777380\t0\t.\tdELS\tREST+ enhancer/silencer\t346\n",
      "chr1\t1374415\t1376654\tchr1\t1375250\t1375598\tEH38E2777455\t0\t.\tpELS\tREST+ Non-silencer\t348\n",
      "chr1\t1406792\t1408163\tchr1\t1407146\t1407496\tEH38E2777492\t0\t.\tPLS\tREST+ Non-silencer\t350\n",
      "chr1\t1432984\t1434718\tchr1\t1433204\t1433554\tEH38E2777541\t0\t.\tpELS\tREST+ Non-silencer\t350\n",
      "chr1\t1470698\t1473196\tchr1\t1472896\t1473193\tEH38E3951566\t0\t.\tpELS\tREST+ Non-silencer\t297\n",
      "chr1\t1511039\t1512740\tchr1\t1511887\t1512233\tEH38E2777613\t0\t.\tPLS\tREST+ Non-silencer\t346\n",
      "chr1\t1599391\t1601183\tchr1\t1600481\t1600821\tEH38E2777722\t0\t.\tpELS\tREST+ Non-silencer\t340\n",
      "chr1\t1777887\t1779538\tchr1\t1778801\t1779150\tEH38E1311174\t0\t.\tPLS\tREST+ Non-silencer\t349\n",
      "chr1\t1942882\t1944661\tchr1\t1943989\t1944283\tEH38E2778118\t0\t.\tdELS\tREST+ enhancer/silencer\t294\n",
      "\n",
      "\n",
      "Done!\n",
      "Run Time: 1 seconds\n"
     ]
    }
   ],
   "source": [
    "cat ${FD_LOG}/peak.annotation.ccres_v4.silencer.rest.txt"
   ]
  },
  {
   "cell_type": "code",
   "execution_count": null,
   "id": "3826c6c1-23a8-4c17-bd91-52aacdd1b501",
   "metadata": {},
   "outputs": [],
   "source": []
  }
 ],
 "metadata": {
  "kernelspec": {
   "display_name": "Bash",
   "language": "bash",
   "name": "bash"
  },
  "language_info": {
   "codemirror_mode": "shell",
   "file_extension": ".sh",
   "mimetype": "text/x-sh",
   "name": "bash"
  }
 },
 "nbformat": 4,
 "nbformat_minor": 5
}
