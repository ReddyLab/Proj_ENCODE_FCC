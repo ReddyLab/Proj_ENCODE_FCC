{
 "cells": [
  {
   "cell_type": "markdown",
   "metadata": {},
   "source": [
    "**Set environment**"
   ]
  },
  {
   "cell_type": "code",
   "execution_count": 1,
   "metadata": {},
   "outputs": [
    {
     "name": "stdout",
     "output_type": "stream",
     "text": [
      "You are in Singularity: singularity_proj_encode_fcc \n",
      "BASE DIRECTORY (FD_BASE): /data/reddylab/Kuei \n",
      "WORK DIRECTORY (FD_WORK): /data/reddylab/Kuei/out \n",
      "CODE DIRECTORY (FD_CODE): /data/reddylab/Kuei/code \n",
      "PATH OF PROJECT (FD_PRJ): /data/reddylab/Kuei/code/Proj_CombEffect_ENCODE_FCC \n",
      "PATH OF RESULTS (FD_RES): /data/reddylab/Kuei/out/proj_combeffect_encode_fcc \n",
      "PATH OF LOG     (FD_LOG): /data/reddylab/Kuei/out/proj_combeffect_encode_fcc/log \n"
     ]
    }
   ],
   "source": [
    "suppressMessages(suppressWarnings(source(\"../config/config_sing.R\")))\n",
    "show_env()"
   ]
  },
  {
   "cell_type": "markdown",
   "metadata": {},
   "source": [
    "**Check data**"
   ]
  },
  {
   "cell_type": "code",
   "execution_count": 2,
   "metadata": {},
   "outputs": [],
   "source": [
    "FOLDER = \"annotation_crispri_growth\""
   ]
  },
  {
   "cell_type": "code",
   "execution_count": 3,
   "metadata": {},
   "outputs": [
    {
     "name": "stdout",
     "output_type": "stream",
     "text": [
      "[1] \"crispri_growth.dhs.active.bed.gz\"\n",
      "[1] \"crispri_growth.dhs.total.bed.gz\"\n",
      "[1] \"crispri_growth.dhs.total.merge.bed.gz\"\n",
      "[1] \"description.tsv\"\n"
     ]
    }
   ],
   "source": [
    "fdiry = file.path(\n",
    "    FD_RES, \n",
    "    \"results\", \n",
    "    \"region\", \n",
    "    FOLDER)\n",
    "for(fname in dir(fdiry)){print(fname)}"
   ]
  },
  {
   "cell_type": "code",
   "execution_count": 4,
   "metadata": {},
   "outputs": [
    {
     "name": "stdout",
     "output_type": "stream",
     "text": [
      "[1] \"peak.annotation.crispri_growth_dhs.bed.gz\"\n",
      "[1] \"peak.annotation.crispri_growth.dhs.active.bed.gz\"\n",
      "[1] \"peak.annotation.crispri_growth.dhs.inactive.bed.gz\"\n"
     ]
    }
   ],
   "source": [
    "fdiry = file.path(\n",
    "    FD_RES, \n",
    "    \"results\", \n",
    "    \"region\", \n",
    "    \"KS91_K562_ASTARRseq_peak_macs_input\", \n",
    "    FOLDER)\n",
    "for(fname in dir(fdiry)){print(fname)}"
   ]
  },
  {
   "cell_type": "markdown",
   "metadata": {},
   "source": [
    "## Import data"
   ]
  },
  {
   "cell_type": "code",
   "execution_count": 5,
   "metadata": {},
   "outputs": [
    {
     "name": "stdout",
     "output_type": "stream",
     "text": [
      "[1] 9 2\n"
     ]
    },
    {
     "data": {
      "text/html": [
       "<table class=\"dataframe\">\n",
       "<caption>A spec_tbl_df: 9 × 2</caption>\n",
       "<thead>\n",
       "\t<tr><th scope=col>Name</th><th scope=col>Description</th></tr>\n",
       "\t<tr><th scope=col>&lt;chr&gt;</th><th scope=col>&lt;chr&gt;</th></tr>\n",
       "</thead>\n",
       "<tbody>\n",
       "\t<tr><td>Chrom      </td><td>Chromosome of DHS                     </td></tr>\n",
       "\t<tr><td>Start      </td><td>Start position of DHS                 </td></tr>\n",
       "\t<tr><td>End        </td><td>End   position of DHS                 </td></tr>\n",
       "\t<tr><td>Name       </td><td>ID of significant guide within the DHS</td></tr>\n",
       "\t<tr><td>Log2FC     </td><td>Log2FC of the guide                   </td></tr>\n",
       "\t<tr><td>Padj       </td><td>Adjusted p value of the guide         </td></tr>\n",
       "\t<tr><td>Region     </td><td>Location of the DHS                   </td></tr>\n",
       "\t<tr><td>Assay_Type </td><td>Assay type                            </td></tr>\n",
       "\t<tr><td>Assay_Label</td><td>Assay label                           </td></tr>\n",
       "</tbody>\n",
       "</table>\n"
      ],
      "text/latex": [
       "A spec\\_tbl\\_df: 9 × 2\n",
       "\\begin{tabular}{ll}\n",
       " Name & Description\\\\\n",
       " <chr> & <chr>\\\\\n",
       "\\hline\n",
       "\t Chrom       & Chromosome of DHS                     \\\\\n",
       "\t Start       & Start position of DHS                 \\\\\n",
       "\t End         & End   position of DHS                 \\\\\n",
       "\t Name        & ID of significant guide within the DHS\\\\\n",
       "\t Log2FC      & Log2FC of the guide                   \\\\\n",
       "\t Padj        & Adjusted p value of the guide         \\\\\n",
       "\t Region      & Location of the DHS                   \\\\\n",
       "\t Assay\\_Type  & Assay type                            \\\\\n",
       "\t Assay\\_Label & Assay label                           \\\\\n",
       "\\end{tabular}\n"
      ],
      "text/markdown": [
       "\n",
       "A spec_tbl_df: 9 × 2\n",
       "\n",
       "| Name &lt;chr&gt; | Description &lt;chr&gt; |\n",
       "|---|---|\n",
       "| Chrom       | Chromosome of DHS                      |\n",
       "| Start       | Start position of DHS                  |\n",
       "| End         | End   position of DHS                  |\n",
       "| Name        | ID of significant guide within the DHS |\n",
       "| Log2FC      | Log2FC of the guide                    |\n",
       "| Padj        | Adjusted p value of the guide          |\n",
       "| Region      | Location of the DHS                    |\n",
       "| Assay_Type  | Assay type                             |\n",
       "| Assay_Label | Assay label                            |\n",
       "\n"
      ],
      "text/plain": [
       "  Name        Description                           \n",
       "1 Chrom       Chromosome of DHS                     \n",
       "2 Start       Start position of DHS                 \n",
       "3 End         End   position of DHS                 \n",
       "4 Name        ID of significant guide within the DHS\n",
       "5 Log2FC      Log2FC of the guide                   \n",
       "6 Padj        Adjusted p value of the guide         \n",
       "7 Region      Location of the DHS                   \n",
       "8 Assay_Type  Assay type                            \n",
       "9 Assay_Label Assay label                           "
      ]
     },
     "metadata": {},
     "output_type": "display_data"
    }
   ],
   "source": [
    "fdiry  = file.path(FD_RES, \"results\", \"region\", FOLDER)\n",
    "fname = \"description.tsv\"\n",
    "fpath = file.path(fdiry, fname)\n",
    "\n",
    "dat = read_tsv(fpath, show_col_types = FALSE)\n",
    "\n",
    "dat_cnames = dat\n",
    "print(dim(dat))\n",
    "dat"
   ]
  },
  {
   "cell_type": "code",
   "execution_count": 6,
   "metadata": {},
   "outputs": [
    {
     "name": "stdout",
     "output_type": "stream",
     "text": [
      "[1] \"/data/reddylab/Kuei/out/proj_combeffect_encode_fcc/results/region/KS91_K562_ASTARRseq_peak_macs_input/annotation_crispri_growth/peak.annotation.crispri_growth.dhs.active.bed.gz\"\n",
      "[1] 4667   18\n"
     ]
    },
    {
     "data": {
      "text/html": [
       "<table class=\"dataframe\">\n",
       "<caption>A tibble: 6 × 18</caption>\n",
       "<thead>\n",
       "\t<tr><th scope=col>Chrom_ATAC</th><th scope=col>Start_ATAC</th><th scope=col>End_ATAC</th><th scope=col>Chrom</th><th scope=col>Start</th><th scope=col>End</th><th scope=col>Name</th><th scope=col>Log2FC</th><th scope=col>Padj</th><th scope=col>Region</th><th scope=col>Assay_Type</th><th scope=col>Assay_Label</th><th scope=col>Overlap</th><th scope=col>Peak_ATAC</th><th scope=col>Annotation</th><th scope=col>Label</th><th scope=col>Value</th><th scope=col>Note</th></tr>\n",
       "\t<tr><th scope=col>&lt;chr&gt;</th><th scope=col>&lt;dbl&gt;</th><th scope=col>&lt;dbl&gt;</th><th scope=col>&lt;chr&gt;</th><th scope=col>&lt;dbl&gt;</th><th scope=col>&lt;dbl&gt;</th><th scope=col>&lt;chr&gt;</th><th scope=col>&lt;dbl&gt;</th><th scope=col>&lt;dbl&gt;</th><th scope=col>&lt;chr&gt;</th><th scope=col>&lt;chr&gt;</th><th scope=col>&lt;chr&gt;</th><th scope=col>&lt;dbl&gt;</th><th scope=col>&lt;chr&gt;</th><th scope=col>&lt;chr&gt;</th><th scope=col>&lt;chr&gt;</th><th scope=col>&lt;dbl&gt;</th><th scope=col>&lt;chr&gt;</th></tr>\n",
       "</thead>\n",
       "<tbody>\n",
       "\t<tr><td>chr1</td><td> 605090</td><td> 605823</td><td>chr1</td><td> 605550</td><td> 605627</td><td>chr1.1.1  </td><td>-0.9859338</td><td>3.245787e-11</td><td>chr1:605550-605627  </td><td>CRISPRi-Growth</td><td>CRISPRi-Growth</td><td>  77</td><td>chr1:605090-605823  </td><td>CRISPRi</td><td>CRISPRi_Growth</td><td>-0.9859338</td><td>CRISPRi-Growth</td></tr>\n",
       "\t<tr><td>chr1</td><td> 826754</td><td> 828040</td><td>chr1</td><td> 826642</td><td> 827902</td><td>chr1.4.8  </td><td> 0.1855074</td><td>3.250512e-02</td><td>chr1:826642-827902  </td><td>CRISPRi-Growth</td><td>CRISPRi-Growth</td><td>1148</td><td>chr1:826754-828040  </td><td>CRISPRi</td><td>CRISPRi_Growth</td><td> 0.1855074</td><td>CRISPRi-Growth</td></tr>\n",
       "\t<tr><td>chr1</td><td>1067955</td><td>1068196</td><td>chr1</td><td>1067929</td><td>1070953</td><td>chr1.74.8 </td><td>-0.3383702</td><td>3.371964e-02</td><td>chr1:1067929-1070953</td><td>CRISPRi-Growth</td><td>CRISPRi-Growth</td><td> 241</td><td>chr1:1067955-1068196</td><td>CRISPRi</td><td>CRISPRi_Growth</td><td>-0.3383702</td><td>CRISPRi-Growth</td></tr>\n",
       "\t<tr><td>chr1</td><td>1068570</td><td>1070643</td><td>chr1</td><td>1067929</td><td>1070953</td><td>chr1.74.8 </td><td>-0.3383702</td><td>3.371964e-02</td><td>chr1:1067929-1070953</td><td>CRISPRi-Growth</td><td>CRISPRi-Growth</td><td>2073</td><td>chr1:1068570-1070643</td><td>CRISPRi</td><td>CRISPRi_Growth</td><td>-0.3383702</td><td>CRISPRi-Growth</td></tr>\n",
       "\t<tr><td>chr1</td><td>1298873</td><td>1300608</td><td>chr1</td><td>1300037</td><td>1300357</td><td>chr1.170.3</td><td>-1.0553137</td><td>2.462243e-12</td><td>chr1:1300037-1300357</td><td>CRISPRi-Growth</td><td>CRISPRi-Growth</td><td> 320</td><td>chr1:1298873-1300608</td><td>CRISPRi</td><td>CRISPRi_Growth</td><td>-1.0553137</td><td>CRISPRi-Growth</td></tr>\n",
       "\t<tr><td>chr1</td><td>1324260</td><td>1325767</td><td>chr1</td><td>1324117</td><td>1325709</td><td>chr1.177.1</td><td>-1.2056016</td><td>1.782666e-07</td><td>chr1:1324117-1325709</td><td>CRISPRi-Growth</td><td>CRISPRi-Growth</td><td>1449</td><td>chr1:1324260-1325767</td><td>CRISPRi</td><td>CRISPRi_Growth</td><td>-1.2056016</td><td>CRISPRi-Growth</td></tr>\n",
       "</tbody>\n",
       "</table>\n"
      ],
      "text/latex": [
       "A tibble: 6 × 18\n",
       "\\begin{tabular}{llllllllllllllllll}\n",
       " Chrom\\_ATAC & Start\\_ATAC & End\\_ATAC & Chrom & Start & End & Name & Log2FC & Padj & Region & Assay\\_Type & Assay\\_Label & Overlap & Peak\\_ATAC & Annotation & Label & Value & Note\\\\\n",
       " <chr> & <dbl> & <dbl> & <chr> & <dbl> & <dbl> & <chr> & <dbl> & <dbl> & <chr> & <chr> & <chr> & <dbl> & <chr> & <chr> & <chr> & <dbl> & <chr>\\\\\n",
       "\\hline\n",
       "\t chr1 &  605090 &  605823 & chr1 &  605550 &  605627 & chr1.1.1   & -0.9859338 & 3.245787e-11 & chr1:605550-605627   & CRISPRi-Growth & CRISPRi-Growth &   77 & chr1:605090-605823   & CRISPRi & CRISPRi\\_Growth & -0.9859338 & CRISPRi-Growth\\\\\n",
       "\t chr1 &  826754 &  828040 & chr1 &  826642 &  827902 & chr1.4.8   &  0.1855074 & 3.250512e-02 & chr1:826642-827902   & CRISPRi-Growth & CRISPRi-Growth & 1148 & chr1:826754-828040   & CRISPRi & CRISPRi\\_Growth &  0.1855074 & CRISPRi-Growth\\\\\n",
       "\t chr1 & 1067955 & 1068196 & chr1 & 1067929 & 1070953 & chr1.74.8  & -0.3383702 & 3.371964e-02 & chr1:1067929-1070953 & CRISPRi-Growth & CRISPRi-Growth &  241 & chr1:1067955-1068196 & CRISPRi & CRISPRi\\_Growth & -0.3383702 & CRISPRi-Growth\\\\\n",
       "\t chr1 & 1068570 & 1070643 & chr1 & 1067929 & 1070953 & chr1.74.8  & -0.3383702 & 3.371964e-02 & chr1:1067929-1070953 & CRISPRi-Growth & CRISPRi-Growth & 2073 & chr1:1068570-1070643 & CRISPRi & CRISPRi\\_Growth & -0.3383702 & CRISPRi-Growth\\\\\n",
       "\t chr1 & 1298873 & 1300608 & chr1 & 1300037 & 1300357 & chr1.170.3 & -1.0553137 & 2.462243e-12 & chr1:1300037-1300357 & CRISPRi-Growth & CRISPRi-Growth &  320 & chr1:1298873-1300608 & CRISPRi & CRISPRi\\_Growth & -1.0553137 & CRISPRi-Growth\\\\\n",
       "\t chr1 & 1324260 & 1325767 & chr1 & 1324117 & 1325709 & chr1.177.1 & -1.2056016 & 1.782666e-07 & chr1:1324117-1325709 & CRISPRi-Growth & CRISPRi-Growth & 1449 & chr1:1324260-1325767 & CRISPRi & CRISPRi\\_Growth & -1.2056016 & CRISPRi-Growth\\\\\n",
       "\\end{tabular}\n"
      ],
      "text/markdown": [
       "\n",
       "A tibble: 6 × 18\n",
       "\n",
       "| Chrom_ATAC &lt;chr&gt; | Start_ATAC &lt;dbl&gt; | End_ATAC &lt;dbl&gt; | Chrom &lt;chr&gt; | Start &lt;dbl&gt; | End &lt;dbl&gt; | Name &lt;chr&gt; | Log2FC &lt;dbl&gt; | Padj &lt;dbl&gt; | Region &lt;chr&gt; | Assay_Type &lt;chr&gt; | Assay_Label &lt;chr&gt; | Overlap &lt;dbl&gt; | Peak_ATAC &lt;chr&gt; | Annotation &lt;chr&gt; | Label &lt;chr&gt; | Value &lt;dbl&gt; | Note &lt;chr&gt; |\n",
       "|---|---|---|---|---|---|---|---|---|---|---|---|---|---|---|---|---|---|\n",
       "| chr1 |  605090 |  605823 | chr1 |  605550 |  605627 | chr1.1.1   | -0.9859338 | 3.245787e-11 | chr1:605550-605627   | CRISPRi-Growth | CRISPRi-Growth |   77 | chr1:605090-605823   | CRISPRi | CRISPRi_Growth | -0.9859338 | CRISPRi-Growth |\n",
       "| chr1 |  826754 |  828040 | chr1 |  826642 |  827902 | chr1.4.8   |  0.1855074 | 3.250512e-02 | chr1:826642-827902   | CRISPRi-Growth | CRISPRi-Growth | 1148 | chr1:826754-828040   | CRISPRi | CRISPRi_Growth |  0.1855074 | CRISPRi-Growth |\n",
       "| chr1 | 1067955 | 1068196 | chr1 | 1067929 | 1070953 | chr1.74.8  | -0.3383702 | 3.371964e-02 | chr1:1067929-1070953 | CRISPRi-Growth | CRISPRi-Growth |  241 | chr1:1067955-1068196 | CRISPRi | CRISPRi_Growth | -0.3383702 | CRISPRi-Growth |\n",
       "| chr1 | 1068570 | 1070643 | chr1 | 1067929 | 1070953 | chr1.74.8  | -0.3383702 | 3.371964e-02 | chr1:1067929-1070953 | CRISPRi-Growth | CRISPRi-Growth | 2073 | chr1:1068570-1070643 | CRISPRi | CRISPRi_Growth | -0.3383702 | CRISPRi-Growth |\n",
       "| chr1 | 1298873 | 1300608 | chr1 | 1300037 | 1300357 | chr1.170.3 | -1.0553137 | 2.462243e-12 | chr1:1300037-1300357 | CRISPRi-Growth | CRISPRi-Growth |  320 | chr1:1298873-1300608 | CRISPRi | CRISPRi_Growth | -1.0553137 | CRISPRi-Growth |\n",
       "| chr1 | 1324260 | 1325767 | chr1 | 1324117 | 1325709 | chr1.177.1 | -1.2056016 | 1.782666e-07 | chr1:1324117-1325709 | CRISPRi-Growth | CRISPRi-Growth | 1449 | chr1:1324260-1325767 | CRISPRi | CRISPRi_Growth | -1.2056016 | CRISPRi-Growth |\n",
       "\n"
      ],
      "text/plain": [
       "  Chrom_ATAC Start_ATAC End_ATAC Chrom Start   End     Name       Log2FC    \n",
       "1 chr1        605090     605823  chr1   605550  605627 chr1.1.1   -0.9859338\n",
       "2 chr1        826754     828040  chr1   826642  827902 chr1.4.8    0.1855074\n",
       "3 chr1       1067955    1068196  chr1  1067929 1070953 chr1.74.8  -0.3383702\n",
       "4 chr1       1068570    1070643  chr1  1067929 1070953 chr1.74.8  -0.3383702\n",
       "5 chr1       1298873    1300608  chr1  1300037 1300357 chr1.170.3 -1.0553137\n",
       "6 chr1       1324260    1325767  chr1  1324117 1325709 chr1.177.1 -1.2056016\n",
       "  Padj         Region               Assay_Type     Assay_Label    Overlap\n",
       "1 3.245787e-11 chr1:605550-605627   CRISPRi-Growth CRISPRi-Growth   77   \n",
       "2 3.250512e-02 chr1:826642-827902   CRISPRi-Growth CRISPRi-Growth 1148   \n",
       "3 3.371964e-02 chr1:1067929-1070953 CRISPRi-Growth CRISPRi-Growth  241   \n",
       "4 3.371964e-02 chr1:1067929-1070953 CRISPRi-Growth CRISPRi-Growth 2073   \n",
       "5 2.462243e-12 chr1:1300037-1300357 CRISPRi-Growth CRISPRi-Growth  320   \n",
       "6 1.782666e-07 chr1:1324117-1325709 CRISPRi-Growth CRISPRi-Growth 1449   \n",
       "  Peak_ATAC            Annotation Label          Value      Note          \n",
       "1 chr1:605090-605823   CRISPRi    CRISPRi_Growth -0.9859338 CRISPRi-Growth\n",
       "2 chr1:826754-828040   CRISPRi    CRISPRi_Growth  0.1855074 CRISPRi-Growth\n",
       "3 chr1:1067955-1068196 CRISPRi    CRISPRi_Growth -0.3383702 CRISPRi-Growth\n",
       "4 chr1:1068570-1070643 CRISPRi    CRISPRi_Growth -0.3383702 CRISPRi-Growth\n",
       "5 chr1:1298873-1300608 CRISPRi    CRISPRi_Growth -1.0553137 CRISPRi-Growth\n",
       "6 chr1:1324260-1325767 CRISPRi    CRISPRi_Growth -1.2056016 CRISPRi-Growth"
      ]
     },
     "metadata": {},
     "output_type": "display_data"
    }
   ],
   "source": [
    "### init: set column names\n",
    "cnames = dat_cnames$Name\n",
    "cnames = c(\"Chrom_ATAC\", \"Start_ATAC\", \"End_ATAC\", cnames, \"Overlap\")\n",
    "\n",
    "### init: set file path\n",
    "fdiry = file.path(\n",
    "    FD_RES, \n",
    "    \"results\", \n",
    "    \"region\", \n",
    "    \"KS91_K562_ASTARRseq_peak_macs_input\", \n",
    "    FOLDER)\n",
    "fname = paste(\"peak.annotation\", \".active.\", \"bed.gz\", sep=\"*\")\n",
    "fglob = file.path(fdiry, fname)\n",
    "fpath = Sys.glob(fglob)\n",
    "print(fpath)\n",
    "\n",
    "### init: annotation and label\n",
    "annotation = \"CRISPRi\"\n",
    "label      = \"CRISPRi_Growth\"\n",
    "\n",
    "### read data\n",
    "dat = read_tsv(fpath, col_names = cnames, show_col_types = FALSE)\n",
    "dat = dat %>% dplyr::mutate(\n",
    "    Peak_ATAC  = paste0(Chrom_ATAC, \":\", Start_ATAC, \"-\", End_ATAC),\n",
    "    Annotation = annotation,\n",
    "    Label      = label,\n",
    "    Region     = paste0(Chrom, \":\", Start, \"-\", End),\n",
    "    Value      = Log2FC,\n",
    "    Note       = Assay_Label\n",
    ")\n",
    "\n",
    "### assign and show\n",
    "dat_peak_annot_import = dat\n",
    "print(dim(dat))\n",
    "head(dat)"
   ]
  },
  {
   "cell_type": "markdown",
   "metadata": {},
   "source": [
    "## Arrange and summarize"
   ]
  },
  {
   "cell_type": "code",
   "execution_count": 7,
   "metadata": {},
   "outputs": [
    {
     "name": "stdout",
     "output_type": "stream",
     "text": [
      "[1] 4609    7\n"
     ]
    },
    {
     "data": {
      "text/html": [
       "<table class=\"dataframe\">\n",
       "<caption>A tibble: 6 × 7</caption>\n",
       "<thead>\n",
       "\t<tr><th scope=col>Peak</th><th scope=col>Annotation</th><th scope=col>Label</th><th scope=col>Count</th><th scope=col>Region</th><th scope=col>Score</th><th scope=col>Note</th></tr>\n",
       "\t<tr><th scope=col>&lt;chr&gt;</th><th scope=col>&lt;chr&gt;</th><th scope=col>&lt;chr&gt;</th><th scope=col>&lt;int&gt;</th><th scope=col>&lt;chr&gt;</th><th scope=col>&lt;dbl&gt;</th><th scope=col>&lt;chr&gt;</th></tr>\n",
       "</thead>\n",
       "<tbody>\n",
       "\t<tr><td>chr1:605090-605823  </td><td>CRISPRi</td><td>CRISPRi_Growth</td><td>1</td><td>chr1:605550-605627  </td><td>-0.9859338</td><td>CRISPRi-Growth</td></tr>\n",
       "\t<tr><td>chr1:826754-828040  </td><td>CRISPRi</td><td>CRISPRi_Growth</td><td>1</td><td>chr1:826642-827902  </td><td> 0.1855074</td><td>CRISPRi-Growth</td></tr>\n",
       "\t<tr><td>chr1:1067955-1068196</td><td>CRISPRi</td><td>CRISPRi_Growth</td><td>1</td><td>chr1:1067929-1070953</td><td>-0.3383702</td><td>CRISPRi-Growth</td></tr>\n",
       "\t<tr><td>chr1:1068570-1070643</td><td>CRISPRi</td><td>CRISPRi_Growth</td><td>1</td><td>chr1:1067929-1070953</td><td>-0.3383702</td><td>CRISPRi-Growth</td></tr>\n",
       "\t<tr><td>chr1:1298873-1300608</td><td>CRISPRi</td><td>CRISPRi_Growth</td><td>1</td><td>chr1:1300037-1300357</td><td>-1.0553137</td><td>CRISPRi-Growth</td></tr>\n",
       "\t<tr><td>chr1:1324260-1325767</td><td>CRISPRi</td><td>CRISPRi_Growth</td><td>1</td><td>chr1:1324117-1325709</td><td>-1.2056016</td><td>CRISPRi-Growth</td></tr>\n",
       "</tbody>\n",
       "</table>\n"
      ],
      "text/latex": [
       "A tibble: 6 × 7\n",
       "\\begin{tabular}{lllllll}\n",
       " Peak & Annotation & Label & Count & Region & Score & Note\\\\\n",
       " <chr> & <chr> & <chr> & <int> & <chr> & <dbl> & <chr>\\\\\n",
       "\\hline\n",
       "\t chr1:605090-605823   & CRISPRi & CRISPRi\\_Growth & 1 & chr1:605550-605627   & -0.9859338 & CRISPRi-Growth\\\\\n",
       "\t chr1:826754-828040   & CRISPRi & CRISPRi\\_Growth & 1 & chr1:826642-827902   &  0.1855074 & CRISPRi-Growth\\\\\n",
       "\t chr1:1067955-1068196 & CRISPRi & CRISPRi\\_Growth & 1 & chr1:1067929-1070953 & -0.3383702 & CRISPRi-Growth\\\\\n",
       "\t chr1:1068570-1070643 & CRISPRi & CRISPRi\\_Growth & 1 & chr1:1067929-1070953 & -0.3383702 & CRISPRi-Growth\\\\\n",
       "\t chr1:1298873-1300608 & CRISPRi & CRISPRi\\_Growth & 1 & chr1:1300037-1300357 & -1.0553137 & CRISPRi-Growth\\\\\n",
       "\t chr1:1324260-1325767 & CRISPRi & CRISPRi\\_Growth & 1 & chr1:1324117-1325709 & -1.2056016 & CRISPRi-Growth\\\\\n",
       "\\end{tabular}\n"
      ],
      "text/markdown": [
       "\n",
       "A tibble: 6 × 7\n",
       "\n",
       "| Peak &lt;chr&gt; | Annotation &lt;chr&gt; | Label &lt;chr&gt; | Count &lt;int&gt; | Region &lt;chr&gt; | Score &lt;dbl&gt; | Note &lt;chr&gt; |\n",
       "|---|---|---|---|---|---|---|\n",
       "| chr1:605090-605823   | CRISPRi | CRISPRi_Growth | 1 | chr1:605550-605627   | -0.9859338 | CRISPRi-Growth |\n",
       "| chr1:826754-828040   | CRISPRi | CRISPRi_Growth | 1 | chr1:826642-827902   |  0.1855074 | CRISPRi-Growth |\n",
       "| chr1:1067955-1068196 | CRISPRi | CRISPRi_Growth | 1 | chr1:1067929-1070953 | -0.3383702 | CRISPRi-Growth |\n",
       "| chr1:1068570-1070643 | CRISPRi | CRISPRi_Growth | 1 | chr1:1067929-1070953 | -0.3383702 | CRISPRi-Growth |\n",
       "| chr1:1298873-1300608 | CRISPRi | CRISPRi_Growth | 1 | chr1:1300037-1300357 | -1.0553137 | CRISPRi-Growth |\n",
       "| chr1:1324260-1325767 | CRISPRi | CRISPRi_Growth | 1 | chr1:1324117-1325709 | -1.2056016 | CRISPRi-Growth |\n",
       "\n"
      ],
      "text/plain": [
       "  Peak                 Annotation Label          Count Region              \n",
       "1 chr1:605090-605823   CRISPRi    CRISPRi_Growth 1     chr1:605550-605627  \n",
       "2 chr1:826754-828040   CRISPRi    CRISPRi_Growth 1     chr1:826642-827902  \n",
       "3 chr1:1067955-1068196 CRISPRi    CRISPRi_Growth 1     chr1:1067929-1070953\n",
       "4 chr1:1068570-1070643 CRISPRi    CRISPRi_Growth 1     chr1:1067929-1070953\n",
       "5 chr1:1298873-1300608 CRISPRi    CRISPRi_Growth 1     chr1:1300037-1300357\n",
       "6 chr1:1324260-1325767 CRISPRi    CRISPRi_Growth 1     chr1:1324117-1325709\n",
       "  Score      Note          \n",
       "1 -0.9859338 CRISPRi-Growth\n",
       "2  0.1855074 CRISPRi-Growth\n",
       "3 -0.3383702 CRISPRi-Growth\n",
       "4 -0.3383702 CRISPRi-Growth\n",
       "5 -1.0553137 CRISPRi-Growth\n",
       "6 -1.2056016 CRISPRi-Growth"
      ]
     },
     "metadata": {},
     "output_type": "display_data"
    }
   ],
   "source": [
    "### init\n",
    "dat = dat_peak_annot_import\n",
    "\n",
    "### summarize\n",
    "dat = dat %>%\n",
    "    dplyr::group_by(Chrom_ATAC, Start_ATAC, End_ATAC, Peak_ATAC, Annotation, Label) %>%\n",
    "    dplyr::summarise(\n",
    "        Count  = n(), \n",
    "        Region = paste(Region, collapse=\"|\"),\n",
    "        Score  = mean(Value),\n",
    "        Note   = paste(sort(unique(Note)), collapse=\"|\"),\n",
    "        .groups = \"drop\")\n",
    "\n",
    "## Arrange\n",
    "dat = dat %>% \n",
    "    dplyr::arrange(Chrom_ATAC, Start_ATAC, End_ATAC) %>%\n",
    "    dplyr::select(-Chrom_ATAC, -Start_ATAC, -End_ATAC) %>%\n",
    "    dplyr::rename(\"Peak\" = Peak_ATAC)\n",
    "\n",
    "### assign and show\n",
    "dat_peak_annot_summary = dat\n",
    "print(dim(dat))\n",
    "head(dat)"
   ]
  },
  {
   "cell_type": "markdown",
   "metadata": {},
   "source": [
    "## Explore and check results"
   ]
  },
  {
   "cell_type": "code",
   "execution_count": 8,
   "metadata": {},
   "outputs": [
    {
     "data": {
      "text/plain": [
       "$CRISPRi_Growth\n",
       "\n",
       "CRISPRi-Growth \n",
       "          4609 \n"
      ]
     },
     "metadata": {},
     "output_type": "display_data"
    }
   ],
   "source": [
    "dat = dat_peak_annot_summary\n",
    "lst = split(dat, dat$Label)\n",
    "lst = lapply(lst, function(dat){\n",
    "    table(dat$Note)\n",
    "})\n",
    "lst"
   ]
  },
  {
   "cell_type": "code",
   "execution_count": 9,
   "metadata": {},
   "outputs": [
    {
     "data": {
      "text/plain": [
       "$CRISPRi_Growth\n",
       "\n",
       "   1    2 \n",
       "4551   58 \n"
      ]
     },
     "metadata": {},
     "output_type": "display_data"
    }
   ],
   "source": [
    "dat = dat_peak_annot_summary\n",
    "lst = split(dat, dat$Label)\n",
    "lst = lapply(lst, function(dat){\n",
    "    table(dat$Count)\n",
    "})\n",
    "lst"
   ]
  },
  {
   "cell_type": "markdown",
   "metadata": {},
   "source": [
    "## Save results"
   ]
  },
  {
   "cell_type": "code",
   "execution_count": 10,
   "metadata": {},
   "outputs": [],
   "source": [
    "fdiry = file.path(\n",
    "    FD_RES, \n",
    "    \"results\", \n",
    "    \"region\", \n",
    "    \"KS91_K562_ASTARRseq_peak_macs_input\", \n",
    "    \"summary\")\n",
    "fname = \"peak.summary.crispri_growth.dhs.active.tsv\"\n",
    "fpath = file.path(fdiry, fname)\n",
    "\n",
    "dat = dat_peak_annot_summary\n",
    "write_tsv(dat, fpath)"
   ]
  },
  {
   "cell_type": "code",
   "execution_count": null,
   "metadata": {},
   "outputs": [],
   "source": []
  }
 ],
 "metadata": {
  "kernelspec": {
   "display_name": "R",
   "language": "R",
   "name": "ir"
  },
  "language_info": {
   "codemirror_mode": "r",
   "file_extension": ".r",
   "mimetype": "text/x-r-source",
   "name": "R",
   "pygments_lexer": "r",
   "version": "4.3.0"
  }
 },
 "nbformat": 4,
 "nbformat_minor": 4
}
