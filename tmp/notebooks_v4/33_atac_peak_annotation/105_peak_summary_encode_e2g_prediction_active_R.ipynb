{
 "cells": [
  {
   "cell_type": "markdown",
   "metadata": {},
   "source": [
    "**Set environment**"
   ]
  },
  {
   "cell_type": "code",
   "execution_count": 1,
   "metadata": {},
   "outputs": [
    {
     "name": "stdout",
     "output_type": "stream",
     "text": [
      "You are in Singularity: singularity_proj_encode_fcc \n",
      "BASE DIRECTORY (FD_BASE): /data/reddylab/Kuei \n",
      "WORK DIRECTORY (FD_WORK): /data/reddylab/Kuei/out \n",
      "CODE DIRECTORY (FD_CODE): /data/reddylab/Kuei/code \n",
      "PATH OF PROJECT (FD_PRJ): /data/reddylab/Kuei/code/Proj_CombEffect_ENCODE_FCC \n",
      "PATH OF RESULTS (FD_RES): /data/reddylab/Kuei/out/proj_combeffect_encode_fcc \n",
      "PATH OF LOG     (FD_LOG): /data/reddylab/Kuei/out/proj_combeffect_encode_fcc/log \n"
     ]
    }
   ],
   "source": [
    "suppressMessages(suppressWarnings(source(\"../config/config_sing.R\")))\n",
    "show_env()"
   ]
  },
  {
   "cell_type": "markdown",
   "metadata": {},
   "source": [
    "**Check data**"
   ]
  },
  {
   "cell_type": "code",
   "execution_count": 2,
   "metadata": {},
   "outputs": [],
   "source": [
    "FOLDER = \"annotation_encode_e2g_prediction\""
   ]
  },
  {
   "cell_type": "code",
   "execution_count": 3,
   "metadata": {},
   "outputs": [
    {
     "name": "stdout",
     "output_type": "stream",
     "text": [
      "[1] \"description.tsv\"\n",
      "[1] \"K562.ENCSR328LMT.ENCFF122UMY.element_gene_links.total.bed.gz\"\n",
      "[1] \"K562.ENCSR328LMT.ENCFF122UMY.element_gene_links.total.merge.bed.gz\"\n",
      "[1] \"K562.ENCSR328LMT.ENCFF202FID.element_gene_links.active.bed.gz\"\n",
      "[1] \"K562.ENCSR328LMT.ENCFF202FID.element_gene_links.active.merge.bed.gz\"\n"
     ]
    }
   ],
   "source": [
    "fdiry = file.path(\n",
    "    FD_RES, \n",
    "    \"results\", \n",
    "    \"region\", \n",
    "    FOLDER)\n",
    "for(fname in dir(fdiry)){print(fname)}"
   ]
  },
  {
   "cell_type": "code",
   "execution_count": 4,
   "metadata": {},
   "outputs": [
    {
     "name": "stdout",
     "output_type": "stream",
     "text": [
      "[1] \"peak.annotation.K562.ENCSR328LMT.ENCFF122UMY.element_gene_links.total.bed.gz\"\n",
      "[1] \"peak.annotation.K562.ENCSR328LMT.ENCFF122UMY.element_gene_links.total.merge.bed.gz\"\n",
      "[1] \"peak.annotation.K562.ENCSR328LMT.ENCFF202FID.element_gene_links.active.bed.gz\"\n",
      "[1] \"peak.annotation.K562.ENCSR328LMT.ENCFF202FID.element_gene_links.active.merge.bed.gz\"\n"
     ]
    }
   ],
   "source": [
    "fdiry = file.path(\n",
    "    FD_RES, \n",
    "    \"results\", \n",
    "    \"region\", \n",
    "    \"KS91_K562_ASTARRseq_peak_macs_input\", \n",
    "    FOLDER)\n",
    "for(fname in dir(fdiry)){print(fname)}"
   ]
  },
  {
   "cell_type": "markdown",
   "metadata": {},
   "source": [
    "## Import data"
   ]
  },
  {
   "cell_type": "code",
   "execution_count": 5,
   "metadata": {},
   "outputs": [
    {
     "name": "stdout",
     "output_type": "stream",
     "text": [
      "[1] 11  2\n"
     ]
    },
    {
     "data": {
      "text/html": [
       "<table class=\"dataframe\">\n",
       "<caption>A spec_tbl_df: 11 × 2</caption>\n",
       "<thead>\n",
       "\t<tr><th scope=col>Name</th><th scope=col>Description</th></tr>\n",
       "\t<tr><th scope=col>&lt;chr&gt;</th><th scope=col>&lt;chr&gt;</th></tr>\n",
       "</thead>\n",
       "<tbody>\n",
       "\t<tr><td>Chrom       </td><td>Chromosome of the perturbed element                                                                              </td></tr>\n",
       "\t<tr><td>Start       </td><td>Start of the perturbed element (0-based)                                                                         </td></tr>\n",
       "\t<tr><td>End         </td><td>End of the perturbed element                                                                                     </td></tr>\n",
       "\t<tr><td>Name        </td><td>Identifier for the given E-G pair in the form of 'gene|chr:start-stop:strand', e.g. 'BET1L|chr11:220536-220704:*'</td></tr>\n",
       "\t<tr><td>Score       </td><td>Change in gene expression upon CRISPRi perturbation, e.g. precentage change in expression or log fold change     </td></tr>\n",
       "\t<tr><td>Region_Class</td><td>Type of region (intergenic, promoter, genic)                                                                     </td></tr>\n",
       "\t<tr><td>Gene_ENSEMBL</td><td>target gene ensembl                                                                                              </td></tr>\n",
       "\t<tr><td>Gene_Symbol </td><td>target gene symbol                                                                                               </td></tr>\n",
       "\t<tr><td>Gene_TSS    </td><td>target gene TSS                                                                                                  </td></tr>\n",
       "\t<tr><td>Assay_Type  </td><td>Assay type                                                                                                       </td></tr>\n",
       "\t<tr><td>Assay_Label </td><td>Assay label                                                                                                      </td></tr>\n",
       "</tbody>\n",
       "</table>\n"
      ],
      "text/latex": [
       "A spec\\_tbl\\_df: 11 × 2\n",
       "\\begin{tabular}{ll}\n",
       " Name & Description\\\\\n",
       " <chr> & <chr>\\\\\n",
       "\\hline\n",
       "\t Chrom        & Chromosome of the perturbed element                                                                              \\\\\n",
       "\t Start        & Start of the perturbed element (0-based)                                                                         \\\\\n",
       "\t End          & End of the perturbed element                                                                                     \\\\\n",
       "\t Name         & Identifier for the given E-G pair in the form of 'gene\\textbar{}chr:start-stop:strand', e.g. 'BET1L\\textbar{}chr11:220536-220704:*'\\\\\n",
       "\t Score        & Change in gene expression upon CRISPRi perturbation, e.g. precentage change in expression or log fold change     \\\\\n",
       "\t Region\\_Class & Type of region (intergenic, promoter, genic)                                                                     \\\\\n",
       "\t Gene\\_ENSEMBL & target gene ensembl                                                                                              \\\\\n",
       "\t Gene\\_Symbol  & target gene symbol                                                                                               \\\\\n",
       "\t Gene\\_TSS     & target gene TSS                                                                                                  \\\\\n",
       "\t Assay\\_Type   & Assay type                                                                                                       \\\\\n",
       "\t Assay\\_Label  & Assay label                                                                                                      \\\\\n",
       "\\end{tabular}\n"
      ],
      "text/markdown": [
       "\n",
       "A spec_tbl_df: 11 × 2\n",
       "\n",
       "| Name &lt;chr&gt; | Description &lt;chr&gt; |\n",
       "|---|---|\n",
       "| Chrom        | Chromosome of the perturbed element                                                                               |\n",
       "| Start        | Start of the perturbed element (0-based)                                                                          |\n",
       "| End          | End of the perturbed element                                                                                      |\n",
       "| Name         | Identifier for the given E-G pair in the form of 'gene|chr:start-stop:strand', e.g. 'BET1L|chr11:220536-220704:*' |\n",
       "| Score        | Change in gene expression upon CRISPRi perturbation, e.g. precentage change in expression or log fold change      |\n",
       "| Region_Class | Type of region (intergenic, promoter, genic)                                                                      |\n",
       "| Gene_ENSEMBL | target gene ensembl                                                                                               |\n",
       "| Gene_Symbol  | target gene symbol                                                                                                |\n",
       "| Gene_TSS     | target gene TSS                                                                                                   |\n",
       "| Assay_Type   | Assay type                                                                                                        |\n",
       "| Assay_Label  | Assay label                                                                                                       |\n",
       "\n"
      ],
      "text/plain": [
       "   Name        \n",
       "1  Chrom       \n",
       "2  Start       \n",
       "3  End         \n",
       "4  Name        \n",
       "5  Score       \n",
       "6  Region_Class\n",
       "7  Gene_ENSEMBL\n",
       "8  Gene_Symbol \n",
       "9  Gene_TSS    \n",
       "10 Assay_Type  \n",
       "11 Assay_Label \n",
       "   Description                                                                                                      \n",
       "1  Chromosome of the perturbed element                                                                              \n",
       "2  Start of the perturbed element (0-based)                                                                         \n",
       "3  End of the perturbed element                                                                                     \n",
       "4  Identifier for the given E-G pair in the form of 'gene|chr:start-stop:strand', e.g. 'BET1L|chr11:220536-220704:*'\n",
       "5  Change in gene expression upon CRISPRi perturbation, e.g. precentage change in expression or log fold change     \n",
       "6  Type of region (intergenic, promoter, genic)                                                                     \n",
       "7  target gene ensembl                                                                                              \n",
       "8  target gene symbol                                                                                               \n",
       "9  target gene TSS                                                                                                  \n",
       "10 Assay type                                                                                                       \n",
       "11 Assay label                                                                                                      "
      ]
     },
     "metadata": {},
     "output_type": "display_data"
    }
   ],
   "source": [
    "fdiry  = file.path(FD_RES, \"results\", \"region\", FOLDER)\n",
    "fname = \"description.tsv\"\n",
    "fpath = file.path(fdiry, fname)\n",
    "\n",
    "dat = read_tsv(fpath, show_col_types = FALSE)\n",
    "\n",
    "dat_cnames = dat\n",
    "print(dim(dat))\n",
    "dat"
   ]
  },
  {
   "cell_type": "code",
   "execution_count": 6,
   "metadata": {},
   "outputs": [
    {
     "name": "stdout",
     "output_type": "stream",
     "text": [
      "[1] 104089     21\n"
     ]
    },
    {
     "data": {
      "text/html": [
       "<table class=\"dataframe\">\n",
       "<caption>A tibble: 6 × 21</caption>\n",
       "<thead>\n",
       "\t<tr><th scope=col>Chrom_ATAC</th><th scope=col>Start_ATAC</th><th scope=col>End_ATAC</th><th scope=col>Chrom</th><th scope=col>Start</th><th scope=col>End</th><th scope=col>Name</th><th scope=col>Score</th><th scope=col>Region_Class</th><th scope=col>Gene_ENSEMBL</th><th scope=col>⋯</th><th scope=col>Gene_TSS</th><th scope=col>Assay_Type</th><th scope=col>Assay_Label</th><th scope=col>Overlap</th><th scope=col>Peak_ATAC</th><th scope=col>Annotation</th><th scope=col>Label</th><th scope=col>Region</th><th scope=col>Value</th><th scope=col>Note</th></tr>\n",
       "\t<tr><th scope=col>&lt;chr&gt;</th><th scope=col>&lt;dbl&gt;</th><th scope=col>&lt;dbl&gt;</th><th scope=col>&lt;chr&gt;</th><th scope=col>&lt;dbl&gt;</th><th scope=col>&lt;dbl&gt;</th><th scope=col>&lt;chr&gt;</th><th scope=col>&lt;dbl&gt;</th><th scope=col>&lt;chr&gt;</th><th scope=col>&lt;chr&gt;</th><th scope=col>⋯</th><th scope=col>&lt;dbl&gt;</th><th scope=col>&lt;chr&gt;</th><th scope=col>&lt;chr&gt;</th><th scope=col>&lt;dbl&gt;</th><th scope=col>&lt;chr&gt;</th><th scope=col>&lt;chr&gt;</th><th scope=col>&lt;chr&gt;</th><th scope=col>&lt;chr&gt;</th><th scope=col>&lt;dbl&gt;</th><th scope=col>&lt;chr&gt;</th></tr>\n",
       "</thead>\n",
       "<tbody>\n",
       "\t<tr><td>chr1</td><td>115411</td><td>115986</td><td>chr1</td><td>115484</td><td>115984</td><td>chr1:115484-115984</td><td>0.41016</td><td>intergenic</td><td>ENSG00000187634</td><td>⋯</td><td>925740</td><td>ENCODE-E2G_Prediction</td><td>ENCODE-E2G_Prediction:SAMD11      </td><td>500</td><td>chr1:115411-115986</td><td>ENCODE-E2G</td><td>ENCODE-E2G_Prediction</td><td>chr1:115484-115984</td><td>0.41016</td><td>intergenic</td></tr>\n",
       "\t<tr><td>chr1</td><td>777949</td><td>779437</td><td>chr1</td><td>778438</td><td>779143</td><td>chr1:778438-779143</td><td>0.87131</td><td>promoter  </td><td>ENSG00000177757</td><td>⋯</td><td>817370</td><td>ENCODE-E2G_Prediction</td><td>ENCODE-E2G_Prediction:FAM87B      </td><td>705</td><td>chr1:777949-779437</td><td>ENCODE-E2G</td><td>ENCODE-E2G_Prediction</td><td>chr1:778438-779143</td><td>0.87131</td><td>promoter  </td></tr>\n",
       "\t<tr><td>chr1</td><td>777949</td><td>779437</td><td>chr1</td><td>778438</td><td>779143</td><td>chr1:778438-779143</td><td>0.70513</td><td>promoter  </td><td>ENSG00000225880</td><td>⋯</td><td>827522</td><td>ENCODE-E2G_Prediction</td><td>ENCODE-E2G_Prediction:LINC00115   </td><td>705</td><td>chr1:777949-779437</td><td>ENCODE-E2G</td><td>ENCODE-E2G_Prediction</td><td>chr1:778438-779143</td><td>0.70513</td><td>promoter  </td></tr>\n",
       "\t<tr><td>chr1</td><td>777949</td><td>779437</td><td>chr1</td><td>778438</td><td>779143</td><td>chr1:778438-779143</td><td>0.75133</td><td>promoter  </td><td>ENSG00000228794</td><td>⋯</td><td>827590</td><td>ENCODE-E2G_Prediction</td><td>ENCODE-E2G_Prediction:LINC01128   </td><td>705</td><td>chr1:777949-779437</td><td>ENCODE-E2G</td><td>ENCODE-E2G_Prediction</td><td>chr1:778438-779143</td><td>0.75133</td><td>promoter  </td></tr>\n",
       "\t<tr><td>chr1</td><td>777949</td><td>779437</td><td>chr1</td><td>778438</td><td>779143</td><td>chr1:778438-779143</td><td>0.99514</td><td>promoter  </td><td>NA             </td><td>⋯</td><td>778688</td><td>ENCODE-E2G_Prediction</td><td>ENCODE-E2G_Prediction:LOC100288069</td><td>705</td><td>chr1:777949-779437</td><td>ENCODE-E2G</td><td>ENCODE-E2G_Prediction</td><td>chr1:778438-779143</td><td>0.99514</td><td>promoter  </td></tr>\n",
       "\t<tr><td>chr1</td><td>777949</td><td>779437</td><td>chr1</td><td>778438</td><td>779143</td><td>chr1:778438-779143</td><td>0.61667</td><td>promoter  </td><td>ENSG00000187634</td><td>⋯</td><td>925740</td><td>ENCODE-E2G_Prediction</td><td>ENCODE-E2G_Prediction:SAMD11      </td><td>705</td><td>chr1:777949-779437</td><td>ENCODE-E2G</td><td>ENCODE-E2G_Prediction</td><td>chr1:778438-779143</td><td>0.61667</td><td>promoter  </td></tr>\n",
       "</tbody>\n",
       "</table>\n"
      ],
      "text/latex": [
       "A tibble: 6 × 21\n",
       "\\begin{tabular}{lllllllllllllllllllll}\n",
       " Chrom\\_ATAC & Start\\_ATAC & End\\_ATAC & Chrom & Start & End & Name & Score & Region\\_Class & Gene\\_ENSEMBL & ⋯ & Gene\\_TSS & Assay\\_Type & Assay\\_Label & Overlap & Peak\\_ATAC & Annotation & Label & Region & Value & Note\\\\\n",
       " <chr> & <dbl> & <dbl> & <chr> & <dbl> & <dbl> & <chr> & <dbl> & <chr> & <chr> & ⋯ & <dbl> & <chr> & <chr> & <dbl> & <chr> & <chr> & <chr> & <chr> & <dbl> & <chr>\\\\\n",
       "\\hline\n",
       "\t chr1 & 115411 & 115986 & chr1 & 115484 & 115984 & chr1:115484-115984 & 0.41016 & intergenic & ENSG00000187634 & ⋯ & 925740 & ENCODE-E2G\\_Prediction & ENCODE-E2G\\_Prediction:SAMD11       & 500 & chr1:115411-115986 & ENCODE-E2G & ENCODE-E2G\\_Prediction & chr1:115484-115984 & 0.41016 & intergenic\\\\\n",
       "\t chr1 & 777949 & 779437 & chr1 & 778438 & 779143 & chr1:778438-779143 & 0.87131 & promoter   & ENSG00000177757 & ⋯ & 817370 & ENCODE-E2G\\_Prediction & ENCODE-E2G\\_Prediction:FAM87B       & 705 & chr1:777949-779437 & ENCODE-E2G & ENCODE-E2G\\_Prediction & chr1:778438-779143 & 0.87131 & promoter  \\\\\n",
       "\t chr1 & 777949 & 779437 & chr1 & 778438 & 779143 & chr1:778438-779143 & 0.70513 & promoter   & ENSG00000225880 & ⋯ & 827522 & ENCODE-E2G\\_Prediction & ENCODE-E2G\\_Prediction:LINC00115    & 705 & chr1:777949-779437 & ENCODE-E2G & ENCODE-E2G\\_Prediction & chr1:778438-779143 & 0.70513 & promoter  \\\\\n",
       "\t chr1 & 777949 & 779437 & chr1 & 778438 & 779143 & chr1:778438-779143 & 0.75133 & promoter   & ENSG00000228794 & ⋯ & 827590 & ENCODE-E2G\\_Prediction & ENCODE-E2G\\_Prediction:LINC01128    & 705 & chr1:777949-779437 & ENCODE-E2G & ENCODE-E2G\\_Prediction & chr1:778438-779143 & 0.75133 & promoter  \\\\\n",
       "\t chr1 & 777949 & 779437 & chr1 & 778438 & 779143 & chr1:778438-779143 & 0.99514 & promoter   & NA              & ⋯ & 778688 & ENCODE-E2G\\_Prediction & ENCODE-E2G\\_Prediction:LOC100288069 & 705 & chr1:777949-779437 & ENCODE-E2G & ENCODE-E2G\\_Prediction & chr1:778438-779143 & 0.99514 & promoter  \\\\\n",
       "\t chr1 & 777949 & 779437 & chr1 & 778438 & 779143 & chr1:778438-779143 & 0.61667 & promoter   & ENSG00000187634 & ⋯ & 925740 & ENCODE-E2G\\_Prediction & ENCODE-E2G\\_Prediction:SAMD11       & 705 & chr1:777949-779437 & ENCODE-E2G & ENCODE-E2G\\_Prediction & chr1:778438-779143 & 0.61667 & promoter  \\\\\n",
       "\\end{tabular}\n"
      ],
      "text/markdown": [
       "\n",
       "A tibble: 6 × 21\n",
       "\n",
       "| Chrom_ATAC &lt;chr&gt; | Start_ATAC &lt;dbl&gt; | End_ATAC &lt;dbl&gt; | Chrom &lt;chr&gt; | Start &lt;dbl&gt; | End &lt;dbl&gt; | Name &lt;chr&gt; | Score &lt;dbl&gt; | Region_Class &lt;chr&gt; | Gene_ENSEMBL &lt;chr&gt; | ⋯ ⋯ | Gene_TSS &lt;dbl&gt; | Assay_Type &lt;chr&gt; | Assay_Label &lt;chr&gt; | Overlap &lt;dbl&gt; | Peak_ATAC &lt;chr&gt; | Annotation &lt;chr&gt; | Label &lt;chr&gt; | Region &lt;chr&gt; | Value &lt;dbl&gt; | Note &lt;chr&gt; |\n",
       "|---|---|---|---|---|---|---|---|---|---|---|---|---|---|---|---|---|---|---|---|---|\n",
       "| chr1 | 115411 | 115986 | chr1 | 115484 | 115984 | chr1:115484-115984 | 0.41016 | intergenic | ENSG00000187634 | ⋯ | 925740 | ENCODE-E2G_Prediction | ENCODE-E2G_Prediction:SAMD11       | 500 | chr1:115411-115986 | ENCODE-E2G | ENCODE-E2G_Prediction | chr1:115484-115984 | 0.41016 | intergenic |\n",
       "| chr1 | 777949 | 779437 | chr1 | 778438 | 779143 | chr1:778438-779143 | 0.87131 | promoter   | ENSG00000177757 | ⋯ | 817370 | ENCODE-E2G_Prediction | ENCODE-E2G_Prediction:FAM87B       | 705 | chr1:777949-779437 | ENCODE-E2G | ENCODE-E2G_Prediction | chr1:778438-779143 | 0.87131 | promoter   |\n",
       "| chr1 | 777949 | 779437 | chr1 | 778438 | 779143 | chr1:778438-779143 | 0.70513 | promoter   | ENSG00000225880 | ⋯ | 827522 | ENCODE-E2G_Prediction | ENCODE-E2G_Prediction:LINC00115    | 705 | chr1:777949-779437 | ENCODE-E2G | ENCODE-E2G_Prediction | chr1:778438-779143 | 0.70513 | promoter   |\n",
       "| chr1 | 777949 | 779437 | chr1 | 778438 | 779143 | chr1:778438-779143 | 0.75133 | promoter   | ENSG00000228794 | ⋯ | 827590 | ENCODE-E2G_Prediction | ENCODE-E2G_Prediction:LINC01128    | 705 | chr1:777949-779437 | ENCODE-E2G | ENCODE-E2G_Prediction | chr1:778438-779143 | 0.75133 | promoter   |\n",
       "| chr1 | 777949 | 779437 | chr1 | 778438 | 779143 | chr1:778438-779143 | 0.99514 | promoter   | NA              | ⋯ | 778688 | ENCODE-E2G_Prediction | ENCODE-E2G_Prediction:LOC100288069 | 705 | chr1:777949-779437 | ENCODE-E2G | ENCODE-E2G_Prediction | chr1:778438-779143 | 0.99514 | promoter   |\n",
       "| chr1 | 777949 | 779437 | chr1 | 778438 | 779143 | chr1:778438-779143 | 0.61667 | promoter   | ENSG00000187634 | ⋯ | 925740 | ENCODE-E2G_Prediction | ENCODE-E2G_Prediction:SAMD11       | 705 | chr1:777949-779437 | ENCODE-E2G | ENCODE-E2G_Prediction | chr1:778438-779143 | 0.61667 | promoter   |\n",
       "\n"
      ],
      "text/plain": [
       "  Chrom_ATAC Start_ATAC End_ATAC Chrom Start  End    Name               Score  \n",
       "1 chr1       115411     115986   chr1  115484 115984 chr1:115484-115984 0.41016\n",
       "2 chr1       777949     779437   chr1  778438 779143 chr1:778438-779143 0.87131\n",
       "3 chr1       777949     779437   chr1  778438 779143 chr1:778438-779143 0.70513\n",
       "4 chr1       777949     779437   chr1  778438 779143 chr1:778438-779143 0.75133\n",
       "5 chr1       777949     779437   chr1  778438 779143 chr1:778438-779143 0.99514\n",
       "6 chr1       777949     779437   chr1  778438 779143 chr1:778438-779143 0.61667\n",
       "  Region_Class Gene_ENSEMBL    ⋯ Gene_TSS Assay_Type           \n",
       "1 intergenic   ENSG00000187634 ⋯ 925740   ENCODE-E2G_Prediction\n",
       "2 promoter     ENSG00000177757 ⋯ 817370   ENCODE-E2G_Prediction\n",
       "3 promoter     ENSG00000225880 ⋯ 827522   ENCODE-E2G_Prediction\n",
       "4 promoter     ENSG00000228794 ⋯ 827590   ENCODE-E2G_Prediction\n",
       "5 promoter     NA              ⋯ 778688   ENCODE-E2G_Prediction\n",
       "6 promoter     ENSG00000187634 ⋯ 925740   ENCODE-E2G_Prediction\n",
       "  Assay_Label                        Overlap Peak_ATAC          Annotation\n",
       "1 ENCODE-E2G_Prediction:SAMD11       500     chr1:115411-115986 ENCODE-E2G\n",
       "2 ENCODE-E2G_Prediction:FAM87B       705     chr1:777949-779437 ENCODE-E2G\n",
       "3 ENCODE-E2G_Prediction:LINC00115    705     chr1:777949-779437 ENCODE-E2G\n",
       "4 ENCODE-E2G_Prediction:LINC01128    705     chr1:777949-779437 ENCODE-E2G\n",
       "5 ENCODE-E2G_Prediction:LOC100288069 705     chr1:777949-779437 ENCODE-E2G\n",
       "6 ENCODE-E2G_Prediction:SAMD11       705     chr1:777949-779437 ENCODE-E2G\n",
       "  Label                 Region             Value   Note      \n",
       "1 ENCODE-E2G_Prediction chr1:115484-115984 0.41016 intergenic\n",
       "2 ENCODE-E2G_Prediction chr1:778438-779143 0.87131 promoter  \n",
       "3 ENCODE-E2G_Prediction chr1:778438-779143 0.70513 promoter  \n",
       "4 ENCODE-E2G_Prediction chr1:778438-779143 0.75133 promoter  \n",
       "5 ENCODE-E2G_Prediction chr1:778438-779143 0.99514 promoter  \n",
       "6 ENCODE-E2G_Prediction chr1:778438-779143 0.61667 promoter  "
      ]
     },
     "metadata": {},
     "output_type": "display_data"
    }
   ],
   "source": [
    "### init: set column names\n",
    "cnames = dat_cnames$Name\n",
    "cnames = c(\"Chrom_ATAC\", \"Start_ATAC\", \"End_ATAC\", cnames, \"Overlap\")\n",
    "\n",
    "### init: set file path\n",
    "fdiry = file.path(\n",
    "    FD_RES, \n",
    "    \"results\", \n",
    "    \"region\", \n",
    "    \"KS91_K562_ASTARRseq_peak_macs_input\", \n",
    "    FOLDER)\n",
    "fname = paste(\"peak.annotation\", \".active.bed.gz\", sep=\"*\")\n",
    "fglob = file.path(fdiry, fname)\n",
    "fpath = Sys.glob(fglob)\n",
    "\n",
    "### init: annotation and label\n",
    "annotation = \"ENCODE-E2G\"\n",
    "label      = \"ENCODE-E2G_Prediction\"\n",
    "\n",
    "### read data\n",
    "dat = read_tsv(fpath, col_names = cnames, show_col_types = FALSE)\n",
    "dat = dat %>% dplyr::mutate(\n",
    "    Peak_ATAC  = paste0(Chrom_ATAC, \":\", Start_ATAC, \"-\", End_ATAC),\n",
    "    Annotation = annotation,\n",
    "    Label      = label,\n",
    "    Region     = paste0(Chrom, \":\", Start, \"-\", End),\n",
    "    Value      = Score,\n",
    "    Note       = Region_Class\n",
    ")\n",
    "\n",
    "### assign and show\n",
    "dat_peak_annot_import = dat\n",
    "print(dim(dat))\n",
    "head(dat)"
   ]
  },
  {
   "cell_type": "markdown",
   "metadata": {},
   "source": [
    "## Arrange and summarize"
   ]
  },
  {
   "cell_type": "code",
   "execution_count": 7,
   "metadata": {},
   "outputs": [
    {
     "name": "stdout",
     "output_type": "stream",
     "text": [
      "[1] 35672     7\n"
     ]
    },
    {
     "data": {
      "text/html": [
       "<table class=\"dataframe\">\n",
       "<caption>A tibble: 6 × 7</caption>\n",
       "<thead>\n",
       "\t<tr><th scope=col>Peak</th><th scope=col>Annotation</th><th scope=col>Label</th><th scope=col>Count</th><th scope=col>Region</th><th scope=col>Score</th><th scope=col>Note</th></tr>\n",
       "\t<tr><th scope=col>&lt;chr&gt;</th><th scope=col>&lt;chr&gt;</th><th scope=col>&lt;chr&gt;</th><th scope=col>&lt;int&gt;</th><th scope=col>&lt;chr&gt;</th><th scope=col>&lt;dbl&gt;</th><th scope=col>&lt;chr&gt;</th></tr>\n",
       "</thead>\n",
       "<tbody>\n",
       "\t<tr><td>chr1:115411-115986</td><td>ENCODE-E2G</td><td>ENCODE-E2G_Prediction</td><td>1</td><td>chr1:115484-115984                                                                            </td><td>0.410160</td><td>intergenic</td></tr>\n",
       "\t<tr><td>chr1:777949-779437</td><td>ENCODE-E2G</td><td>ENCODE-E2G_Prediction</td><td>5</td><td>chr1:778438-779143|chr1:778438-779143|chr1:778438-779143|chr1:778438-779143|chr1:778438-779143</td><td>0.787916</td><td>promoter  </td></tr>\n",
       "\t<tr><td>chr1:816774-817547</td><td>ENCODE-E2G</td><td>ENCODE-E2G_Prediction</td><td>3</td><td>chr1:817120-817620|chr1:817120-817620|chr1:817120-817620                                      </td><td>0.602110</td><td>promoter  </td></tr>\n",
       "\t<tr><td>chr1:826754-828040</td><td>ENCODE-E2G</td><td>ENCODE-E2G_Prediction</td><td>5</td><td>chr1:827244-827847|chr1:827244-827847|chr1:827244-827847|chr1:827244-827847|chr1:827244-827847</td><td>0.713476</td><td>promoter  </td></tr>\n",
       "\t<tr><td>chr1:842480-843449</td><td>ENCODE-E2G</td><td>ENCODE-E2G_Prediction</td><td>1</td><td>chr1:842505-843350                                                                            </td><td>0.370660</td><td>genic     </td></tr>\n",
       "\t<tr><td>chr1:903633-905556</td><td>ENCODE-E2G</td><td>ENCODE-E2G_Prediction</td><td>1</td><td>chr1:904203-905033                                                                            </td><td>0.574120</td><td>intergenic</td></tr>\n",
       "</tbody>\n",
       "</table>\n"
      ],
      "text/latex": [
       "A tibble: 6 × 7\n",
       "\\begin{tabular}{lllllll}\n",
       " Peak & Annotation & Label & Count & Region & Score & Note\\\\\n",
       " <chr> & <chr> & <chr> & <int> & <chr> & <dbl> & <chr>\\\\\n",
       "\\hline\n",
       "\t chr1:115411-115986 & ENCODE-E2G & ENCODE-E2G\\_Prediction & 1 & chr1:115484-115984                                                                             & 0.410160 & intergenic\\\\\n",
       "\t chr1:777949-779437 & ENCODE-E2G & ENCODE-E2G\\_Prediction & 5 & chr1:778438-779143\\textbar{}chr1:778438-779143\\textbar{}chr1:778438-779143\\textbar{}chr1:778438-779143\\textbar{}chr1:778438-779143 & 0.787916 & promoter  \\\\\n",
       "\t chr1:816774-817547 & ENCODE-E2G & ENCODE-E2G\\_Prediction & 3 & chr1:817120-817620\\textbar{}chr1:817120-817620\\textbar{}chr1:817120-817620                                       & 0.602110 & promoter  \\\\\n",
       "\t chr1:826754-828040 & ENCODE-E2G & ENCODE-E2G\\_Prediction & 5 & chr1:827244-827847\\textbar{}chr1:827244-827847\\textbar{}chr1:827244-827847\\textbar{}chr1:827244-827847\\textbar{}chr1:827244-827847 & 0.713476 & promoter  \\\\\n",
       "\t chr1:842480-843449 & ENCODE-E2G & ENCODE-E2G\\_Prediction & 1 & chr1:842505-843350                                                                             & 0.370660 & genic     \\\\\n",
       "\t chr1:903633-905556 & ENCODE-E2G & ENCODE-E2G\\_Prediction & 1 & chr1:904203-905033                                                                             & 0.574120 & intergenic\\\\\n",
       "\\end{tabular}\n"
      ],
      "text/markdown": [
       "\n",
       "A tibble: 6 × 7\n",
       "\n",
       "| Peak &lt;chr&gt; | Annotation &lt;chr&gt; | Label &lt;chr&gt; | Count &lt;int&gt; | Region &lt;chr&gt; | Score &lt;dbl&gt; | Note &lt;chr&gt; |\n",
       "|---|---|---|---|---|---|---|\n",
       "| chr1:115411-115986 | ENCODE-E2G | ENCODE-E2G_Prediction | 1 | chr1:115484-115984                                                                             | 0.410160 | intergenic |\n",
       "| chr1:777949-779437 | ENCODE-E2G | ENCODE-E2G_Prediction | 5 | chr1:778438-779143|chr1:778438-779143|chr1:778438-779143|chr1:778438-779143|chr1:778438-779143 | 0.787916 | promoter   |\n",
       "| chr1:816774-817547 | ENCODE-E2G | ENCODE-E2G_Prediction | 3 | chr1:817120-817620|chr1:817120-817620|chr1:817120-817620                                       | 0.602110 | promoter   |\n",
       "| chr1:826754-828040 | ENCODE-E2G | ENCODE-E2G_Prediction | 5 | chr1:827244-827847|chr1:827244-827847|chr1:827244-827847|chr1:827244-827847|chr1:827244-827847 | 0.713476 | promoter   |\n",
       "| chr1:842480-843449 | ENCODE-E2G | ENCODE-E2G_Prediction | 1 | chr1:842505-843350                                                                             | 0.370660 | genic      |\n",
       "| chr1:903633-905556 | ENCODE-E2G | ENCODE-E2G_Prediction | 1 | chr1:904203-905033                                                                             | 0.574120 | intergenic |\n",
       "\n"
      ],
      "text/plain": [
       "  Peak               Annotation Label                 Count\n",
       "1 chr1:115411-115986 ENCODE-E2G ENCODE-E2G_Prediction 1    \n",
       "2 chr1:777949-779437 ENCODE-E2G ENCODE-E2G_Prediction 5    \n",
       "3 chr1:816774-817547 ENCODE-E2G ENCODE-E2G_Prediction 3    \n",
       "4 chr1:826754-828040 ENCODE-E2G ENCODE-E2G_Prediction 5    \n",
       "5 chr1:842480-843449 ENCODE-E2G ENCODE-E2G_Prediction 1    \n",
       "6 chr1:903633-905556 ENCODE-E2G ENCODE-E2G_Prediction 1    \n",
       "  Region                                                                                        \n",
       "1 chr1:115484-115984                                                                            \n",
       "2 chr1:778438-779143|chr1:778438-779143|chr1:778438-779143|chr1:778438-779143|chr1:778438-779143\n",
       "3 chr1:817120-817620|chr1:817120-817620|chr1:817120-817620                                      \n",
       "4 chr1:827244-827847|chr1:827244-827847|chr1:827244-827847|chr1:827244-827847|chr1:827244-827847\n",
       "5 chr1:842505-843350                                                                            \n",
       "6 chr1:904203-905033                                                                            \n",
       "  Score    Note      \n",
       "1 0.410160 intergenic\n",
       "2 0.787916 promoter  \n",
       "3 0.602110 promoter  \n",
       "4 0.713476 promoter  \n",
       "5 0.370660 genic     \n",
       "6 0.574120 intergenic"
      ]
     },
     "metadata": {},
     "output_type": "display_data"
    }
   ],
   "source": [
    "### init\n",
    "dat = dat_peak_annot_import\n",
    "\n",
    "### summarize\n",
    "dat = dat %>%\n",
    "    dplyr::group_by(Chrom_ATAC, Start_ATAC, End_ATAC, Peak_ATAC, Annotation, Label) %>%\n",
    "    dplyr::summarise(\n",
    "        Count  = n(), \n",
    "        Region = paste(Region, collapse=\"|\"),\n",
    "        Score  = mean(Value),\n",
    "        Note   = paste(sort(unique(Note)), collapse=\"|\"),\n",
    "        .groups = \"drop\")\n",
    "\n",
    "## Arrange\n",
    "dat = dat %>% \n",
    "    dplyr::arrange(Chrom_ATAC, Start_ATAC, End_ATAC) %>%\n",
    "    dplyr::select(-Chrom_ATAC, -Start_ATAC, -End_ATAC) %>%\n",
    "    dplyr::rename(\"Peak\" = Peak_ATAC)\n",
    "\n",
    "### assign and show\n",
    "dat_peak_annot_summary = dat\n",
    "print(dim(dat))\n",
    "head(dat)"
   ]
  },
  {
   "cell_type": "markdown",
   "metadata": {},
   "source": [
    "## Explore and check results"
   ]
  },
  {
   "cell_type": "code",
   "execution_count": 8,
   "metadata": {},
   "outputs": [
    {
     "data": {
      "text/plain": [
       "$`ENCODE-E2G_Prediction`\n",
       "\n",
       "                    genic          genic|intergenic genic|intergenic|promoter \n",
       "                    12610                        26                        16 \n",
       "           genic|promoter                intergenic       intergenic|promoter \n",
       "                      891                     11011                       297 \n",
       "                 promoter \n",
       "                    10821 \n"
      ]
     },
     "metadata": {},
     "output_type": "display_data"
    }
   ],
   "source": [
    "dat = dat_peak_annot_summary\n",
    "lst = split(dat, dat$Label)\n",
    "lst = lapply(lst, function(dat){\n",
    "    table(dat$Note)\n",
    "})\n",
    "lst"
   ]
  },
  {
   "cell_type": "code",
   "execution_count": 9,
   "metadata": {},
   "outputs": [
    {
     "data": {
      "text/plain": [
       "$`ENCODE-E2G_Prediction`\n",
       "\n",
       "    1     2     3     4     5     6     7     8     9    10    11    12    13 \n",
       "16008  7432  3871  2421  1549  1076   732   538   404   324   243   179   139 \n",
       "   14    15    16    17    18    19    20    21    22    23    24    25    26 \n",
       "  129   111    89    69    56    49    34    36    25    21    14    16    12 \n",
       "   27    28    29    30    31    32    33    34    35    36    37    38    39 \n",
       "    9    14    12     8     2     8     8     3     5     2     1     4     1 \n",
       "   40    42    43    46    47    48    58    85    86 \n",
       "    3     4     3     1     3     1     1     1     1 \n"
      ]
     },
     "metadata": {},
     "output_type": "display_data"
    }
   ],
   "source": [
    "dat = dat_peak_annot_summary\n",
    "lst = split(dat, dat$Label)\n",
    "lst = lapply(lst, function(dat){\n",
    "    table(dat$Count)\n",
    "})\n",
    "lst"
   ]
  },
  {
   "cell_type": "markdown",
   "metadata": {},
   "source": [
    "## Save results"
   ]
  },
  {
   "cell_type": "code",
   "execution_count": 10,
   "metadata": {},
   "outputs": [],
   "source": [
    "fdiry = file.path(\n",
    "    FD_RES, \n",
    "    \"results\", \n",
    "    \"region\", \n",
    "    \"KS91_K562_ASTARRseq_peak_macs_input\", \n",
    "    \"summary\")\n",
    "fname = \"peak.summary.encode_e2g_prediction.tsv\"\n",
    "fpath = file.path(fdiry, fname)\n",
    "\n",
    "dat = dat_peak_annot_summary\n",
    "write_tsv(dat, fpath)"
   ]
  },
  {
   "cell_type": "code",
   "execution_count": null,
   "metadata": {},
   "outputs": [],
   "source": []
  }
 ],
 "metadata": {
  "kernelspec": {
   "display_name": "R",
   "language": "R",
   "name": "ir"
  },
  "language_info": {
   "codemirror_mode": "r",
   "file_extension": ".r",
   "mimetype": "text/x-r-source",
   "name": "R",
   "pygments_lexer": "r",
   "version": "4.3.1"
  }
 },
 "nbformat": 4,
 "nbformat_minor": 4
}
