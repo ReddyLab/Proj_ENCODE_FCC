{
 "cells": [
  {
   "cell_type": "markdown",
   "metadata": {},
   "source": [
    "**Set environment**"
   ]
  },
  {
   "cell_type": "code",
   "execution_count": 1,
   "metadata": {},
   "outputs": [
    {
     "name": "stdout",
     "output_type": "stream",
     "text": [
      "You are in Singularity: singularity_proj_encode_fcc \n",
      "BASE DIRECTORY (FD_BASE): /data/reddylab/Kuei \n",
      "WORK DIRECTORY (FD_WORK): /data/reddylab/Kuei/out \n",
      "CODE DIRECTORY (FD_CODE): /data/reddylab/Kuei/code \n",
      "PATH OF PROJECT (FD_PRJ): /data/reddylab/Kuei/code/Proj_CombEffect_ENCODE_FCC \n",
      "PATH OF RESULTS (FD_RES): /data/reddylab/Kuei/out/proj_combeffect_encode_fcc \n",
      "PATH OF LOG     (FD_LOG): /data/reddylab/Kuei/out/proj_combeffect_encode_fcc/log \n"
     ]
    }
   ],
   "source": [
    "suppressMessages(suppressWarnings(source(\"../config/config_sing.R\")))\n",
    "show_env()"
   ]
  },
  {
   "cell_type": "markdown",
   "metadata": {},
   "source": [
    "**Check data**"
   ]
  },
  {
   "cell_type": "code",
   "execution_count": 2,
   "metadata": {},
   "outputs": [
    {
     "name": "stdout",
     "output_type": "stream",
     "text": [
      "[1] \"description.tsv\"\n",
      "[1] \"enhancer_zscore_junke.peak.ASTARR.bed.gz\"\n",
      "[1] \"enhancer_zscore_junke.peak.LMPRA.bed.gz\"\n",
      "[1] \"enhancer_zscore_junke.peak.TMPRA.bed.gz\"\n",
      "[1] \"enhancer_zscore_junke.peak.WSTARR.bed.gz\"\n"
     ]
    }
   ],
   "source": [
    "fdiry = file.path(\n",
    "    FD_RES, \n",
    "    \"results\", \n",
    "    \"region\", \n",
    "    \"annotation_enhancer_zscore_junke\")\n",
    "for(idn in dir(fdiry)){print(idn)}"
   ]
  },
  {
   "cell_type": "code",
   "execution_count": 3,
   "metadata": {},
   "outputs": [
    {
     "name": "stdout",
     "output_type": "stream",
     "text": [
      "[1] \"peak.annotation.enhancer_zscore_junke.peak.ASTARR.bed.gz\"\n",
      "[1] \"peak.annotation.enhancer_zscore_junke.peak.LMPRA.bed.gz\"\n",
      "[1] \"peak.annotation.enhancer_zscore_junke.peak.TMPRA.bed.gz\"\n",
      "[1] \"peak.annotation.enhancer_zscore_junke.peak.WSTARR.bed.gz\"\n",
      "[1] \"z_peak.annotation.enhancer_zscore_junke_peak_astarr.bed.gz\"\n",
      "[1] \"z_peak.annotation.enhancer_zscore_junke_peak_wstarr.bed.gz\"\n"
     ]
    }
   ],
   "source": [
    "fdiry = file.path(\n",
    "    FD_RES, \n",
    "    \"results\", \n",
    "    \"region\", \n",
    "    \"KS91_K562_ASTARRseq_peak_macs_input\", \n",
    "    \"annotation_enhancer_zscore_junke\")\n",
    "for(idn in dir(fdiry)){print(idn)}"
   ]
  },
  {
   "cell_type": "markdown",
   "metadata": {},
   "source": [
    "## Import data"
   ]
  },
  {
   "cell_type": "code",
   "execution_count": 4,
   "metadata": {},
   "outputs": [
    {
     "name": "stdout",
     "output_type": "stream",
     "text": [
      "[1] 8 2\n"
     ]
    },
    {
     "data": {
      "text/html": [
       "<table class=\"dataframe\">\n",
       "<caption>A spec_tbl_df: 8 × 2</caption>\n",
       "<thead>\n",
       "\t<tr><th scope=col>Name</th><th scope=col>Description</th></tr>\n",
       "\t<tr><th scope=col>&lt;chr&gt;</th><th scope=col>&lt;chr&gt;</th></tr>\n",
       "</thead>\n",
       "<tbody>\n",
       "\t<tr><td>Chrom      </td><td>Seqnames                   </td></tr>\n",
       "\t<tr><td>Start      </td><td>Start                      </td></tr>\n",
       "\t<tr><td>End        </td><td>End                        </td></tr>\n",
       "\t<tr><td>Name       </td><td>Name                       </td></tr>\n",
       "\t<tr><td>Score      </td><td>Z_score based on mean logFC</td></tr>\n",
       "\t<tr><td>Strand     </td><td>Strand                     </td></tr>\n",
       "\t<tr><td>Assay_Type </td><td>Assay type                 </td></tr>\n",
       "\t<tr><td>Assay_Label</td><td>Assay label                </td></tr>\n",
       "</tbody>\n",
       "</table>\n"
      ],
      "text/latex": [
       "A spec\\_tbl\\_df: 8 × 2\n",
       "\\begin{tabular}{ll}\n",
       " Name & Description\\\\\n",
       " <chr> & <chr>\\\\\n",
       "\\hline\n",
       "\t Chrom       & Seqnames                   \\\\\n",
       "\t Start       & Start                      \\\\\n",
       "\t End         & End                        \\\\\n",
       "\t Name        & Name                       \\\\\n",
       "\t Score       & Z\\_score based on mean logFC\\\\\n",
       "\t Strand      & Strand                     \\\\\n",
       "\t Assay\\_Type  & Assay type                 \\\\\n",
       "\t Assay\\_Label & Assay label                \\\\\n",
       "\\end{tabular}\n"
      ],
      "text/markdown": [
       "\n",
       "A spec_tbl_df: 8 × 2\n",
       "\n",
       "| Name &lt;chr&gt; | Description &lt;chr&gt; |\n",
       "|---|---|\n",
       "| Chrom       | Seqnames                    |\n",
       "| Start       | Start                       |\n",
       "| End         | End                         |\n",
       "| Name        | Name                        |\n",
       "| Score       | Z_score based on mean logFC |\n",
       "| Strand      | Strand                      |\n",
       "| Assay_Type  | Assay type                  |\n",
       "| Assay_Label | Assay label                 |\n",
       "\n"
      ],
      "text/plain": [
       "  Name        Description                \n",
       "1 Chrom       Seqnames                   \n",
       "2 Start       Start                      \n",
       "3 End         End                        \n",
       "4 Name        Name                       \n",
       "5 Score       Z_score based on mean logFC\n",
       "6 Strand      Strand                     \n",
       "7 Assay_Type  Assay type                 \n",
       "8 Assay_Label Assay label                "
      ]
     },
     "metadata": {},
     "output_type": "display_data"
    }
   ],
   "source": [
    "folder = \"annotation_enhancer_zscore_junke\"\n",
    "fdiry  = file.path(FD_RES, \"results\", \"region\", folder)\n",
    "fname = \"description.tsv\"\n",
    "fpath = file.path(fdiry, fname)\n",
    "\n",
    "dat = read_tsv(fpath, show_col_types = FALSE)\n",
    "\n",
    "dat_cnames = dat\n",
    "print(dim(dat))\n",
    "dat"
   ]
  },
  {
   "cell_type": "code",
   "execution_count": 8,
   "metadata": {},
   "outputs": [
    {
     "name": "stdout",
     "output_type": "stream",
     "text": [
      "[1] 27535    12\n"
     ]
    },
    {
     "data": {
      "text/html": [
       "<table class=\"dataframe\">\n",
       "<caption>A tibble: 6 × 12</caption>\n",
       "<thead>\n",
       "\t<tr><th scope=col>Chrom_ATAC</th><th scope=col>Start_ATAC</th><th scope=col>End_ATAC</th><th scope=col>Chrom</th><th scope=col>Start</th><th scope=col>End</th><th scope=col>Name</th><th scope=col>Score</th><th scope=col>Strand</th><th scope=col>Assay_Type</th><th scope=col>Assay_Label</th><th scope=col>Overlap</th></tr>\n",
       "\t<tr><th scope=col>&lt;chr&gt;</th><th scope=col>&lt;dbl&gt;</th><th scope=col>&lt;dbl&gt;</th><th scope=col>&lt;chr&gt;</th><th scope=col>&lt;dbl&gt;</th><th scope=col>&lt;dbl&gt;</th><th scope=col>&lt;chr&gt;</th><th scope=col>&lt;dbl&gt;</th><th scope=col>&lt;chr&gt;</th><th scope=col>&lt;chr&gt;</th><th scope=col>&lt;chr&gt;</th><th scope=col>&lt;dbl&gt;</th></tr>\n",
       "</thead>\n",
       "<tbody>\n",
       "\t<tr><td>chr1</td><td>136071</td><td>137429</td><td>chr1</td><td>136520</td><td>136950</td><td>peak1</td><td>-1.603468</td><td>.</td><td>ASTARR</td><td>ASTARR_R</td><td>430</td></tr>\n",
       "\t<tr><td>chr1</td><td>136071</td><td>137429</td><td>chr1</td><td>137050</td><td>137150</td><td>peak2</td><td>-1.408464</td><td>.</td><td>ASTARR</td><td>ASTARR_R</td><td>100</td></tr>\n",
       "\t<tr><td>chr1</td><td>180982</td><td>182087</td><td>chr1</td><td>181600</td><td>181790</td><td>peak3</td><td>-1.913155</td><td>.</td><td>ASTARR</td><td>ASTARR_R</td><td>190</td></tr>\n",
       "\t<tr><td>chr1</td><td>777949</td><td>779437</td><td>chr1</td><td>778720</td><td>778830</td><td>peak1</td><td> 2.009577</td><td>.</td><td>ASTARR</td><td>ASTARR_A</td><td>110</td></tr>\n",
       "\t<tr><td>chr1</td><td>826754</td><td>828040</td><td>chr1</td><td>827060</td><td>827160</td><td>peak4</td><td>-1.383606</td><td>.</td><td>ASTARR</td><td>ASTARR_R</td><td>100</td></tr>\n",
       "\t<tr><td>chr1</td><td>826754</td><td>828040</td><td>chr1</td><td>827590</td><td>828050</td><td>peak5</td><td>-2.477047</td><td>.</td><td>ASTARR</td><td>ASTARR_R</td><td>450</td></tr>\n",
       "</tbody>\n",
       "</table>\n"
      ],
      "text/latex": [
       "A tibble: 6 × 12\n",
       "\\begin{tabular}{llllllllllll}\n",
       " Chrom\\_ATAC & Start\\_ATAC & End\\_ATAC & Chrom & Start & End & Name & Score & Strand & Assay\\_Type & Assay\\_Label & Overlap\\\\\n",
       " <chr> & <dbl> & <dbl> & <chr> & <dbl> & <dbl> & <chr> & <dbl> & <chr> & <chr> & <chr> & <dbl>\\\\\n",
       "\\hline\n",
       "\t chr1 & 136071 & 137429 & chr1 & 136520 & 136950 & peak1 & -1.603468 & . & ASTARR & ASTARR\\_R & 430\\\\\n",
       "\t chr1 & 136071 & 137429 & chr1 & 137050 & 137150 & peak2 & -1.408464 & . & ASTARR & ASTARR\\_R & 100\\\\\n",
       "\t chr1 & 180982 & 182087 & chr1 & 181600 & 181790 & peak3 & -1.913155 & . & ASTARR & ASTARR\\_R & 190\\\\\n",
       "\t chr1 & 777949 & 779437 & chr1 & 778720 & 778830 & peak1 &  2.009577 & . & ASTARR & ASTARR\\_A & 110\\\\\n",
       "\t chr1 & 826754 & 828040 & chr1 & 827060 & 827160 & peak4 & -1.383606 & . & ASTARR & ASTARR\\_R & 100\\\\\n",
       "\t chr1 & 826754 & 828040 & chr1 & 827590 & 828050 & peak5 & -2.477047 & . & ASTARR & ASTARR\\_R & 450\\\\\n",
       "\\end{tabular}\n"
      ],
      "text/markdown": [
       "\n",
       "A tibble: 6 × 12\n",
       "\n",
       "| Chrom_ATAC &lt;chr&gt; | Start_ATAC &lt;dbl&gt; | End_ATAC &lt;dbl&gt; | Chrom &lt;chr&gt; | Start &lt;dbl&gt; | End &lt;dbl&gt; | Name &lt;chr&gt; | Score &lt;dbl&gt; | Strand &lt;chr&gt; | Assay_Type &lt;chr&gt; | Assay_Label &lt;chr&gt; | Overlap &lt;dbl&gt; |\n",
       "|---|---|---|---|---|---|---|---|---|---|---|---|\n",
       "| chr1 | 136071 | 137429 | chr1 | 136520 | 136950 | peak1 | -1.603468 | . | ASTARR | ASTARR_R | 430 |\n",
       "| chr1 | 136071 | 137429 | chr1 | 137050 | 137150 | peak2 | -1.408464 | . | ASTARR | ASTARR_R | 100 |\n",
       "| chr1 | 180982 | 182087 | chr1 | 181600 | 181790 | peak3 | -1.913155 | . | ASTARR | ASTARR_R | 190 |\n",
       "| chr1 | 777949 | 779437 | chr1 | 778720 | 778830 | peak1 |  2.009577 | . | ASTARR | ASTARR_A | 110 |\n",
       "| chr1 | 826754 | 828040 | chr1 | 827060 | 827160 | peak4 | -1.383606 | . | ASTARR | ASTARR_R | 100 |\n",
       "| chr1 | 826754 | 828040 | chr1 | 827590 | 828050 | peak5 | -2.477047 | . | ASTARR | ASTARR_R | 450 |\n",
       "\n"
      ],
      "text/plain": [
       "  Chrom_ATAC Start_ATAC End_ATAC Chrom Start  End    Name  Score     Strand\n",
       "1 chr1       136071     137429   chr1  136520 136950 peak1 -1.603468 .     \n",
       "2 chr1       136071     137429   chr1  137050 137150 peak2 -1.408464 .     \n",
       "3 chr1       180982     182087   chr1  181600 181790 peak3 -1.913155 .     \n",
       "4 chr1       777949     779437   chr1  778720 778830 peak1  2.009577 .     \n",
       "5 chr1       826754     828040   chr1  827060 827160 peak4 -1.383606 .     \n",
       "6 chr1       826754     828040   chr1  827590 828050 peak5 -2.477047 .     \n",
       "  Assay_Type Assay_Label Overlap\n",
       "1 ASTARR     ASTARR_R    430    \n",
       "2 ASTARR     ASTARR_R    100    \n",
       "3 ASTARR     ASTARR_R    190    \n",
       "4 ASTARR     ASTARR_A    110    \n",
       "5 ASTARR     ASTARR_R    100    \n",
       "6 ASTARR     ASTARR_R    450    "
      ]
     },
     "metadata": {},
     "output_type": "display_data"
    }
   ],
   "source": [
    "### init\n",
    "annotation = \"Enhancer_ZScore\"\n",
    "label      = \"ASTARR\"\n",
    "cnames = dat_cnames$Name\n",
    "cnames = c(\"Chrom_ATAC\", \"Start_ATAC\", \"End_ATAC\", cnames, \"Overlap\")\n",
    "\n",
    "###\n",
    "fdiry = file.path(\n",
    "    FD_RES, \n",
    "    \"results\", \n",
    "    \"region\", \n",
    "    \"KS91_K562_ASTARRseq_peak_macs_input\", \n",
    "    folder)\n",
    "fname = \"peak.annotation.enhancer_zscore_junke.peak.ASTARR.bed.gz\"\n",
    "fpath = file.path(fdiry, fname)\n",
    "\n",
    "### read data\n",
    "dat = read_tsv(fpath, col_names = cnames, show_col_types = FALSE)\n",
    "\n",
    "### assign and show\n",
    "dat_peak_annot_import = dat\n",
    "print(dim(dat))\n",
    "head(dat)"
   ]
  },
  {
   "cell_type": "code",
   "execution_count": 9,
   "metadata": {},
   "outputs": [
    {
     "name": "stdout",
     "output_type": "stream",
     "text": [
      "[1] 27535    18\n"
     ]
    },
    {
     "data": {
      "text/html": [
       "<table class=\"dataframe\">\n",
       "<caption>A tibble: 6 × 18</caption>\n",
       "<thead>\n",
       "\t<tr><th scope=col>Chrom_ATAC</th><th scope=col>Start_ATAC</th><th scope=col>End_ATAC</th><th scope=col>Chrom</th><th scope=col>Start</th><th scope=col>End</th><th scope=col>Name</th><th scope=col>Score</th><th scope=col>Strand</th><th scope=col>Assay_Type</th><th scope=col>Assay_Label</th><th scope=col>Overlap</th><th scope=col>Peak_ATAC</th><th scope=col>Annotation</th><th scope=col>Label</th><th scope=col>Region</th><th scope=col>Value</th><th scope=col>Note</th></tr>\n",
       "\t<tr><th scope=col>&lt;chr&gt;</th><th scope=col>&lt;dbl&gt;</th><th scope=col>&lt;dbl&gt;</th><th scope=col>&lt;chr&gt;</th><th scope=col>&lt;dbl&gt;</th><th scope=col>&lt;dbl&gt;</th><th scope=col>&lt;chr&gt;</th><th scope=col>&lt;dbl&gt;</th><th scope=col>&lt;chr&gt;</th><th scope=col>&lt;chr&gt;</th><th scope=col>&lt;chr&gt;</th><th scope=col>&lt;dbl&gt;</th><th scope=col>&lt;chr&gt;</th><th scope=col>&lt;chr&gt;</th><th scope=col>&lt;chr&gt;</th><th scope=col>&lt;chr&gt;</th><th scope=col>&lt;dbl&gt;</th><th scope=col>&lt;chr&gt;</th></tr>\n",
       "</thead>\n",
       "<tbody>\n",
       "\t<tr><td>chr1</td><td>136071</td><td>137429</td><td>chr1</td><td>136520</td><td>136950</td><td>peak1</td><td>-1.603468</td><td>.</td><td>ASTARR</td><td>ASTARR_R</td><td>430</td><td>chr1:136071-137429</td><td>Enhancer_ZScore</td><td>ASTARR</td><td>chr1:136520-136950</td><td>-1.603468</td><td>ASTARR_R</td></tr>\n",
       "\t<tr><td>chr1</td><td>136071</td><td>137429</td><td>chr1</td><td>137050</td><td>137150</td><td>peak2</td><td>-1.408464</td><td>.</td><td>ASTARR</td><td>ASTARR_R</td><td>100</td><td>chr1:136071-137429</td><td>Enhancer_ZScore</td><td>ASTARR</td><td>chr1:137050-137150</td><td>-1.408464</td><td>ASTARR_R</td></tr>\n",
       "\t<tr><td>chr1</td><td>180982</td><td>182087</td><td>chr1</td><td>181600</td><td>181790</td><td>peak3</td><td>-1.913155</td><td>.</td><td>ASTARR</td><td>ASTARR_R</td><td>190</td><td>chr1:180982-182087</td><td>Enhancer_ZScore</td><td>ASTARR</td><td>chr1:181600-181790</td><td>-1.913155</td><td>ASTARR_R</td></tr>\n",
       "\t<tr><td>chr1</td><td>777949</td><td>779437</td><td>chr1</td><td>778720</td><td>778830</td><td>peak1</td><td> 2.009577</td><td>.</td><td>ASTARR</td><td>ASTARR_A</td><td>110</td><td>chr1:777949-779437</td><td>Enhancer_ZScore</td><td>ASTARR</td><td>chr1:778720-778830</td><td> 2.009577</td><td>ASTARR_A</td></tr>\n",
       "\t<tr><td>chr1</td><td>826754</td><td>828040</td><td>chr1</td><td>827060</td><td>827160</td><td>peak4</td><td>-1.383606</td><td>.</td><td>ASTARR</td><td>ASTARR_R</td><td>100</td><td>chr1:826754-828040</td><td>Enhancer_ZScore</td><td>ASTARR</td><td>chr1:827060-827160</td><td>-1.383606</td><td>ASTARR_R</td></tr>\n",
       "\t<tr><td>chr1</td><td>826754</td><td>828040</td><td>chr1</td><td>827590</td><td>828050</td><td>peak5</td><td>-2.477047</td><td>.</td><td>ASTARR</td><td>ASTARR_R</td><td>450</td><td>chr1:826754-828040</td><td>Enhancer_ZScore</td><td>ASTARR</td><td>chr1:827590-828050</td><td>-2.477047</td><td>ASTARR_R</td></tr>\n",
       "</tbody>\n",
       "</table>\n"
      ],
      "text/latex": [
       "A tibble: 6 × 18\n",
       "\\begin{tabular}{llllllllllllllllll}\n",
       " Chrom\\_ATAC & Start\\_ATAC & End\\_ATAC & Chrom & Start & End & Name & Score & Strand & Assay\\_Type & Assay\\_Label & Overlap & Peak\\_ATAC & Annotation & Label & Region & Value & Note\\\\\n",
       " <chr> & <dbl> & <dbl> & <chr> & <dbl> & <dbl> & <chr> & <dbl> & <chr> & <chr> & <chr> & <dbl> & <chr> & <chr> & <chr> & <chr> & <dbl> & <chr>\\\\\n",
       "\\hline\n",
       "\t chr1 & 136071 & 137429 & chr1 & 136520 & 136950 & peak1 & -1.603468 & . & ASTARR & ASTARR\\_R & 430 & chr1:136071-137429 & Enhancer\\_ZScore & ASTARR & chr1:136520-136950 & -1.603468 & ASTARR\\_R\\\\\n",
       "\t chr1 & 136071 & 137429 & chr1 & 137050 & 137150 & peak2 & -1.408464 & . & ASTARR & ASTARR\\_R & 100 & chr1:136071-137429 & Enhancer\\_ZScore & ASTARR & chr1:137050-137150 & -1.408464 & ASTARR\\_R\\\\\n",
       "\t chr1 & 180982 & 182087 & chr1 & 181600 & 181790 & peak3 & -1.913155 & . & ASTARR & ASTARR\\_R & 190 & chr1:180982-182087 & Enhancer\\_ZScore & ASTARR & chr1:181600-181790 & -1.913155 & ASTARR\\_R\\\\\n",
       "\t chr1 & 777949 & 779437 & chr1 & 778720 & 778830 & peak1 &  2.009577 & . & ASTARR & ASTARR\\_A & 110 & chr1:777949-779437 & Enhancer\\_ZScore & ASTARR & chr1:778720-778830 &  2.009577 & ASTARR\\_A\\\\\n",
       "\t chr1 & 826754 & 828040 & chr1 & 827060 & 827160 & peak4 & -1.383606 & . & ASTARR & ASTARR\\_R & 100 & chr1:826754-828040 & Enhancer\\_ZScore & ASTARR & chr1:827060-827160 & -1.383606 & ASTARR\\_R\\\\\n",
       "\t chr1 & 826754 & 828040 & chr1 & 827590 & 828050 & peak5 & -2.477047 & . & ASTARR & ASTARR\\_R & 450 & chr1:826754-828040 & Enhancer\\_ZScore & ASTARR & chr1:827590-828050 & -2.477047 & ASTARR\\_R\\\\\n",
       "\\end{tabular}\n"
      ],
      "text/markdown": [
       "\n",
       "A tibble: 6 × 18\n",
       "\n",
       "| Chrom_ATAC &lt;chr&gt; | Start_ATAC &lt;dbl&gt; | End_ATAC &lt;dbl&gt; | Chrom &lt;chr&gt; | Start &lt;dbl&gt; | End &lt;dbl&gt; | Name &lt;chr&gt; | Score &lt;dbl&gt; | Strand &lt;chr&gt; | Assay_Type &lt;chr&gt; | Assay_Label &lt;chr&gt; | Overlap &lt;dbl&gt; | Peak_ATAC &lt;chr&gt; | Annotation &lt;chr&gt; | Label &lt;chr&gt; | Region &lt;chr&gt; | Value &lt;dbl&gt; | Note &lt;chr&gt; |\n",
       "|---|---|---|---|---|---|---|---|---|---|---|---|---|---|---|---|---|---|\n",
       "| chr1 | 136071 | 137429 | chr1 | 136520 | 136950 | peak1 | -1.603468 | . | ASTARR | ASTARR_R | 430 | chr1:136071-137429 | Enhancer_ZScore | ASTARR | chr1:136520-136950 | -1.603468 | ASTARR_R |\n",
       "| chr1 | 136071 | 137429 | chr1 | 137050 | 137150 | peak2 | -1.408464 | . | ASTARR | ASTARR_R | 100 | chr1:136071-137429 | Enhancer_ZScore | ASTARR | chr1:137050-137150 | -1.408464 | ASTARR_R |\n",
       "| chr1 | 180982 | 182087 | chr1 | 181600 | 181790 | peak3 | -1.913155 | . | ASTARR | ASTARR_R | 190 | chr1:180982-182087 | Enhancer_ZScore | ASTARR | chr1:181600-181790 | -1.913155 | ASTARR_R |\n",
       "| chr1 | 777949 | 779437 | chr1 | 778720 | 778830 | peak1 |  2.009577 | . | ASTARR | ASTARR_A | 110 | chr1:777949-779437 | Enhancer_ZScore | ASTARR | chr1:778720-778830 |  2.009577 | ASTARR_A |\n",
       "| chr1 | 826754 | 828040 | chr1 | 827060 | 827160 | peak4 | -1.383606 | . | ASTARR | ASTARR_R | 100 | chr1:826754-828040 | Enhancer_ZScore | ASTARR | chr1:827060-827160 | -1.383606 | ASTARR_R |\n",
       "| chr1 | 826754 | 828040 | chr1 | 827590 | 828050 | peak5 | -2.477047 | . | ASTARR | ASTARR_R | 450 | chr1:826754-828040 | Enhancer_ZScore | ASTARR | chr1:827590-828050 | -2.477047 | ASTARR_R |\n",
       "\n"
      ],
      "text/plain": [
       "  Chrom_ATAC Start_ATAC End_ATAC Chrom Start  End    Name  Score     Strand\n",
       "1 chr1       136071     137429   chr1  136520 136950 peak1 -1.603468 .     \n",
       "2 chr1       136071     137429   chr1  137050 137150 peak2 -1.408464 .     \n",
       "3 chr1       180982     182087   chr1  181600 181790 peak3 -1.913155 .     \n",
       "4 chr1       777949     779437   chr1  778720 778830 peak1  2.009577 .     \n",
       "5 chr1       826754     828040   chr1  827060 827160 peak4 -1.383606 .     \n",
       "6 chr1       826754     828040   chr1  827590 828050 peak5 -2.477047 .     \n",
       "  Assay_Type Assay_Label Overlap Peak_ATAC          Annotation      Label \n",
       "1 ASTARR     ASTARR_R    430     chr1:136071-137429 Enhancer_ZScore ASTARR\n",
       "2 ASTARR     ASTARR_R    100     chr1:136071-137429 Enhancer_ZScore ASTARR\n",
       "3 ASTARR     ASTARR_R    190     chr1:180982-182087 Enhancer_ZScore ASTARR\n",
       "4 ASTARR     ASTARR_A    110     chr1:777949-779437 Enhancer_ZScore ASTARR\n",
       "5 ASTARR     ASTARR_R    100     chr1:826754-828040 Enhancer_ZScore ASTARR\n",
       "6 ASTARR     ASTARR_R    450     chr1:826754-828040 Enhancer_ZScore ASTARR\n",
       "  Region             Value     Note    \n",
       "1 chr1:136520-136950 -1.603468 ASTARR_R\n",
       "2 chr1:137050-137150 -1.408464 ASTARR_R\n",
       "3 chr1:181600-181790 -1.913155 ASTARR_R\n",
       "4 chr1:778720-778830  2.009577 ASTARR_A\n",
       "5 chr1:827060-827160 -1.383606 ASTARR_R\n",
       "6 chr1:827590-828050 -2.477047 ASTARR_R"
      ]
     },
     "metadata": {},
     "output_type": "display_data"
    }
   ],
   "source": [
    "dat = dat_peak_annot_import\n",
    "dat = dat %>% dplyr::mutate(\n",
    "    Peak_ATAC  = paste0(Chrom_ATAC, \":\", Start_ATAC, \"-\", End_ATAC),\n",
    "    Annotation = annotation,\n",
    "    Label      = label,\n",
    "    Region     = paste0(Chrom, \":\", Start, \"-\", End),\n",
    "    Value      = Score,\n",
    "    Note       = Assay_Label\n",
    ")\n",
    "\n",
    "dat_peak_annot_arrange = dat\n",
    "print(dim(dat))\n",
    "head(dat)"
   ]
  },
  {
   "cell_type": "code",
   "execution_count": 32,
   "metadata": {},
   "outputs": [
    {
     "name": "stdout",
     "output_type": "stream",
     "text": [
      "[1] 17644     7\n"
     ]
    },
    {
     "data": {
      "text/html": [
       "<table class=\"dataframe\">\n",
       "<caption>A tibble: 6 × 7</caption>\n",
       "<thead>\n",
       "\t<tr><th scope=col>Peak_ATAC</th><th scope=col>Annotation</th><th scope=col>Label</th><th scope=col>Count</th><th scope=col>Region</th><th scope=col>Score</th><th scope=col>Note</th></tr>\n",
       "\t<tr><th scope=col>&lt;chr&gt;</th><th scope=col>&lt;chr&gt;</th><th scope=col>&lt;chr&gt;</th><th scope=col>&lt;int&gt;</th><th scope=col>&lt;chr&gt;</th><th scope=col>&lt;dbl&gt;</th><th scope=col>&lt;chr&gt;</th></tr>\n",
       "</thead>\n",
       "<tbody>\n",
       "\t<tr><td>chr10:100009096-100010466</td><td>Enhancer_ZScore</td><td>ASTARR</td><td>1</td><td>chr10:100009660-100010220</td><td>-2.111705</td><td>ASTARR_R</td></tr>\n",
       "\t<tr><td>chr10:100185017-100187275</td><td>Enhancer_ZScore</td><td>ASTARR</td><td>1</td><td>chr10:100186900-100187010</td><td>-2.328370</td><td>ASTARR_R</td></tr>\n",
       "\t<tr><td>chr10:100228452-100230090</td><td>Enhancer_ZScore</td><td>ASTARR</td><td>1</td><td>chr10:100229190-100229430</td><td>-3.287076</td><td>ASTARR_R</td></tr>\n",
       "\t<tr><td>chr10:100346328-100347693</td><td>Enhancer_ZScore</td><td>ASTARR</td><td>1</td><td>chr10:100347430-100347550</td><td>-1.421908</td><td>ASTARR_R</td></tr>\n",
       "\t<tr><td>chr10:100373060-100374238</td><td>Enhancer_ZScore</td><td>ASTARR</td><td>1</td><td>chr10:100374050-100374180</td><td> 2.060838</td><td>ASTARR_A</td></tr>\n",
       "\t<tr><td>chr10:100481467-100483191</td><td>Enhancer_ZScore</td><td>ASTARR</td><td>1</td><td>chr10:100482500-100482730</td><td>-1.576317</td><td>ASTARR_R</td></tr>\n",
       "</tbody>\n",
       "</table>\n"
      ],
      "text/latex": [
       "A tibble: 6 × 7\n",
       "\\begin{tabular}{lllllll}\n",
       " Peak\\_ATAC & Annotation & Label & Count & Region & Score & Note\\\\\n",
       " <chr> & <chr> & <chr> & <int> & <chr> & <dbl> & <chr>\\\\\n",
       "\\hline\n",
       "\t chr10:100009096-100010466 & Enhancer\\_ZScore & ASTARR & 1 & chr10:100009660-100010220 & -2.111705 & ASTARR\\_R\\\\\n",
       "\t chr10:100185017-100187275 & Enhancer\\_ZScore & ASTARR & 1 & chr10:100186900-100187010 & -2.328370 & ASTARR\\_R\\\\\n",
       "\t chr10:100228452-100230090 & Enhancer\\_ZScore & ASTARR & 1 & chr10:100229190-100229430 & -3.287076 & ASTARR\\_R\\\\\n",
       "\t chr10:100346328-100347693 & Enhancer\\_ZScore & ASTARR & 1 & chr10:100347430-100347550 & -1.421908 & ASTARR\\_R\\\\\n",
       "\t chr10:100373060-100374238 & Enhancer\\_ZScore & ASTARR & 1 & chr10:100374050-100374180 &  2.060838 & ASTARR\\_A\\\\\n",
       "\t chr10:100481467-100483191 & Enhancer\\_ZScore & ASTARR & 1 & chr10:100482500-100482730 & -1.576317 & ASTARR\\_R\\\\\n",
       "\\end{tabular}\n"
      ],
      "text/markdown": [
       "\n",
       "A tibble: 6 × 7\n",
       "\n",
       "| Peak_ATAC &lt;chr&gt; | Annotation &lt;chr&gt; | Label &lt;chr&gt; | Count &lt;int&gt; | Region &lt;chr&gt; | Score &lt;dbl&gt; | Note &lt;chr&gt; |\n",
       "|---|---|---|---|---|---|---|\n",
       "| chr10:100009096-100010466 | Enhancer_ZScore | ASTARR | 1 | chr10:100009660-100010220 | -2.111705 | ASTARR_R |\n",
       "| chr10:100185017-100187275 | Enhancer_ZScore | ASTARR | 1 | chr10:100186900-100187010 | -2.328370 | ASTARR_R |\n",
       "| chr10:100228452-100230090 | Enhancer_ZScore | ASTARR | 1 | chr10:100229190-100229430 | -3.287076 | ASTARR_R |\n",
       "| chr10:100346328-100347693 | Enhancer_ZScore | ASTARR | 1 | chr10:100347430-100347550 | -1.421908 | ASTARR_R |\n",
       "| chr10:100373060-100374238 | Enhancer_ZScore | ASTARR | 1 | chr10:100374050-100374180 |  2.060838 | ASTARR_A |\n",
       "| chr10:100481467-100483191 | Enhancer_ZScore | ASTARR | 1 | chr10:100482500-100482730 | -1.576317 | ASTARR_R |\n",
       "\n"
      ],
      "text/plain": [
       "  Peak_ATAC                 Annotation      Label  Count\n",
       "1 chr10:100009096-100010466 Enhancer_ZScore ASTARR 1    \n",
       "2 chr10:100185017-100187275 Enhancer_ZScore ASTARR 1    \n",
       "3 chr10:100228452-100230090 Enhancer_ZScore ASTARR 1    \n",
       "4 chr10:100346328-100347693 Enhancer_ZScore ASTARR 1    \n",
       "5 chr10:100373060-100374238 Enhancer_ZScore ASTARR 1    \n",
       "6 chr10:100481467-100483191 Enhancer_ZScore ASTARR 1    \n",
       "  Region                    Score     Note    \n",
       "1 chr10:100009660-100010220 -2.111705 ASTARR_R\n",
       "2 chr10:100186900-100187010 -2.328370 ASTARR_R\n",
       "3 chr10:100229190-100229430 -3.287076 ASTARR_R\n",
       "4 chr10:100347430-100347550 -1.421908 ASTARR_R\n",
       "5 chr10:100374050-100374180  2.060838 ASTARR_A\n",
       "6 chr10:100482500-100482730 -1.576317 ASTARR_R"
      ]
     },
     "metadata": {},
     "output_type": "display_data"
    }
   ],
   "source": [
    "dat = dat_peak_annot_arrange\n",
    "dat = dat %>% dplyr::filter(Note != \"ASTARR_AB\")\n",
    "dat = dat %>% \n",
    "    dplyr::group_by(Peak_ATAC, Annotation, Label) %>%\n",
    "    dplyr::summarise(\n",
    "        Count  = n(), \n",
    "        Region = paste(Region, collapse=\"|\"),\n",
    "        Score  = mean(Value),\n",
    "        Note   = paste(unique(sort(Note)), collapse=\"|\"),\n",
    "        .groups = \"drop\")\n",
    "\n",
    "### assign and show\n",
    "dat_peak_annot_summary = dat\n",
    "print(dim(dat))\n",
    "head(dat)"
   ]
  },
  {
   "cell_type": "code",
   "execution_count": 33,
   "metadata": {},
   "outputs": [
    {
     "data": {
      "text/plain": [
       "\n",
       "    1     2     3     4     5     6     7     8     9    11 \n",
       "12718  3469  1006   316    91    30     8     4     1     1 "
      ]
     },
     "metadata": {},
     "output_type": "display_data"
    }
   ],
   "source": [
    "dat = dat_peak_annot_summary\n",
    "table(dat$Count)"
   ]
  },
  {
   "cell_type": "code",
   "execution_count": 34,
   "metadata": {},
   "outputs": [
    {
     "data": {
      "text/plain": [
       "\n",
       "         ASTARR_A ASTARR_A|ASTARR_R          ASTARR_R \n",
       "             6273              1154             10217 "
      ]
     },
     "metadata": {},
     "output_type": "display_data"
    }
   ],
   "source": [
    "dat = dat_peak_annot_summary\n",
    "table(dat$Note)"
   ]
  },
  {
   "cell_type": "code",
   "execution_count": 35,
   "metadata": {},
   "outputs": [
    {
     "data": {
      "text/html": [
       "<table class=\"dataframe\">\n",
       "<caption>A tibble: 4 × 7</caption>\n",
       "<thead>\n",
       "\t<tr><th scope=col>Peak_ATAC</th><th scope=col>Annotation</th><th scope=col>Label</th><th scope=col>Count</th><th scope=col>Region</th><th scope=col>Score</th><th scope=col>Note</th></tr>\n",
       "\t<tr><th scope=col>&lt;chr&gt;</th><th scope=col>&lt;chr&gt;</th><th scope=col>&lt;chr&gt;</th><th scope=col>&lt;int&gt;</th><th scope=col>&lt;chr&gt;</th><th scope=col>&lt;dbl&gt;</th><th scope=col>&lt;chr&gt;</th></tr>\n",
       "</thead>\n",
       "<tbody>\n",
       "\t<tr><td>chr16:85610448-85614503 </td><td>Enhancer_ZScore</td><td>ASTARR</td><td>8</td><td>chr16:85611300-85611440|chr16:85611650-85611990|chr16:85612120-85612220|chr16:85612580-85612800|chr16:85613110-85613230|chr16:85613360-85613690|chr16:85613700-85613800|chr16:85613810-85614250        </td><td>-0.02689735</td><td>ASTARR_A|ASTARR_R</td></tr>\n",
       "\t<tr><td>chr20:324198-327853     </td><td>Enhancer_ZScore</td><td>ASTARR</td><td>8</td><td>chr20:324180-324280|chr20:325370-326120|chr20:326300-326570|chr20:326650-326760|chr20:326980-327080|chr20:327080-327190|chr20:327090-327210|chr20:327370-327470                                        </td><td>-1.22079806</td><td>ASTARR_A|ASTARR_R</td></tr>\n",
       "\t<tr><td>chr6:156776797-156780624</td><td>Enhancer_ZScore</td><td>ASTARR</td><td>8</td><td>chr6:156777130-156777270|chr6:156778020-156778170|chr6:156778020-156778310|chr6:156778200-156778330|chr6:156778820-156778920|chr6:156778930-156779040|chr6:156779070-156779440|chr6:156779510-156779800</td><td>-1.56755499</td><td>ASTARR_A|ASTARR_R</td></tr>\n",
       "\t<tr><td>chr9:136847509-136850164</td><td>Enhancer_ZScore</td><td>ASTARR</td><td>8</td><td>chr9:136847510-136847650|chr9:136847780-136848020|chr9:136848460-136848770|chr9:136848850-136848990|chr9:136848860-136849020|chr9:136849030-136849220|chr9:136849570-136849770|chr9:136849920-136850050</td><td>-0.96609279</td><td>ASTARR_A|ASTARR_R</td></tr>\n",
       "</tbody>\n",
       "</table>\n"
      ],
      "text/latex": [
       "A tibble: 4 × 7\n",
       "\\begin{tabular}{lllllll}\n",
       " Peak\\_ATAC & Annotation & Label & Count & Region & Score & Note\\\\\n",
       " <chr> & <chr> & <chr> & <int> & <chr> & <dbl> & <chr>\\\\\n",
       "\\hline\n",
       "\t chr16:85610448-85614503  & Enhancer\\_ZScore & ASTARR & 8 & chr16:85611300-85611440\\textbar{}chr16:85611650-85611990\\textbar{}chr16:85612120-85612220\\textbar{}chr16:85612580-85612800\\textbar{}chr16:85613110-85613230\\textbar{}chr16:85613360-85613690\\textbar{}chr16:85613700-85613800\\textbar{}chr16:85613810-85614250         & -0.02689735 & ASTARR\\_A\\textbar{}ASTARR\\_R\\\\\n",
       "\t chr20:324198-327853      & Enhancer\\_ZScore & ASTARR & 8 & chr20:324180-324280\\textbar{}chr20:325370-326120\\textbar{}chr20:326300-326570\\textbar{}chr20:326650-326760\\textbar{}chr20:326980-327080\\textbar{}chr20:327080-327190\\textbar{}chr20:327090-327210\\textbar{}chr20:327370-327470                                         & -1.22079806 & ASTARR\\_A\\textbar{}ASTARR\\_R\\\\\n",
       "\t chr6:156776797-156780624 & Enhancer\\_ZScore & ASTARR & 8 & chr6:156777130-156777270\\textbar{}chr6:156778020-156778170\\textbar{}chr6:156778020-156778310\\textbar{}chr6:156778200-156778330\\textbar{}chr6:156778820-156778920\\textbar{}chr6:156778930-156779040\\textbar{}chr6:156779070-156779440\\textbar{}chr6:156779510-156779800 & -1.56755499 & ASTARR\\_A\\textbar{}ASTARR\\_R\\\\\n",
       "\t chr9:136847509-136850164 & Enhancer\\_ZScore & ASTARR & 8 & chr9:136847510-136847650\\textbar{}chr9:136847780-136848020\\textbar{}chr9:136848460-136848770\\textbar{}chr9:136848850-136848990\\textbar{}chr9:136848860-136849020\\textbar{}chr9:136849030-136849220\\textbar{}chr9:136849570-136849770\\textbar{}chr9:136849920-136850050 & -0.96609279 & ASTARR\\_A\\textbar{}ASTARR\\_R\\\\\n",
       "\\end{tabular}\n"
      ],
      "text/markdown": [
       "\n",
       "A tibble: 4 × 7\n",
       "\n",
       "| Peak_ATAC &lt;chr&gt; | Annotation &lt;chr&gt; | Label &lt;chr&gt; | Count &lt;int&gt; | Region &lt;chr&gt; | Score &lt;dbl&gt; | Note &lt;chr&gt; |\n",
       "|---|---|---|---|---|---|---|\n",
       "| chr16:85610448-85614503  | Enhancer_ZScore | ASTARR | 8 | chr16:85611300-85611440|chr16:85611650-85611990|chr16:85612120-85612220|chr16:85612580-85612800|chr16:85613110-85613230|chr16:85613360-85613690|chr16:85613700-85613800|chr16:85613810-85614250         | -0.02689735 | ASTARR_A|ASTARR_R |\n",
       "| chr20:324198-327853      | Enhancer_ZScore | ASTARR | 8 | chr20:324180-324280|chr20:325370-326120|chr20:326300-326570|chr20:326650-326760|chr20:326980-327080|chr20:327080-327190|chr20:327090-327210|chr20:327370-327470                                         | -1.22079806 | ASTARR_A|ASTARR_R |\n",
       "| chr6:156776797-156780624 | Enhancer_ZScore | ASTARR | 8 | chr6:156777130-156777270|chr6:156778020-156778170|chr6:156778020-156778310|chr6:156778200-156778330|chr6:156778820-156778920|chr6:156778930-156779040|chr6:156779070-156779440|chr6:156779510-156779800 | -1.56755499 | ASTARR_A|ASTARR_R |\n",
       "| chr9:136847509-136850164 | Enhancer_ZScore | ASTARR | 8 | chr9:136847510-136847650|chr9:136847780-136848020|chr9:136848460-136848770|chr9:136848850-136848990|chr9:136848860-136849020|chr9:136849030-136849220|chr9:136849570-136849770|chr9:136849920-136850050 | -0.96609279 | ASTARR_A|ASTARR_R |\n",
       "\n"
      ],
      "text/plain": [
       "  Peak_ATAC                Annotation      Label  Count\n",
       "1 chr16:85610448-85614503  Enhancer_ZScore ASTARR 8    \n",
       "2 chr20:324198-327853      Enhancer_ZScore ASTARR 8    \n",
       "3 chr6:156776797-156780624 Enhancer_ZScore ASTARR 8    \n",
       "4 chr9:136847509-136850164 Enhancer_ZScore ASTARR 8    \n",
       "  Region                                                                                                                                                                                                 \n",
       "1 chr16:85611300-85611440|chr16:85611650-85611990|chr16:85612120-85612220|chr16:85612580-85612800|chr16:85613110-85613230|chr16:85613360-85613690|chr16:85613700-85613800|chr16:85613810-85614250        \n",
       "2 chr20:324180-324280|chr20:325370-326120|chr20:326300-326570|chr20:326650-326760|chr20:326980-327080|chr20:327080-327190|chr20:327090-327210|chr20:327370-327470                                        \n",
       "3 chr6:156777130-156777270|chr6:156778020-156778170|chr6:156778020-156778310|chr6:156778200-156778330|chr6:156778820-156778920|chr6:156778930-156779040|chr6:156779070-156779440|chr6:156779510-156779800\n",
       "4 chr9:136847510-136847650|chr9:136847780-136848020|chr9:136848460-136848770|chr9:136848850-136848990|chr9:136848860-136849020|chr9:136849030-136849220|chr9:136849570-136849770|chr9:136849920-136850050\n",
       "  Score       Note             \n",
       "1 -0.02689735 ASTARR_A|ASTARR_R\n",
       "2 -1.22079806 ASTARR_A|ASTARR_R\n",
       "3 -1.56755499 ASTARR_A|ASTARR_R\n",
       "4 -0.96609279 ASTARR_A|ASTARR_R"
      ]
     },
     "metadata": {},
     "output_type": "display_data"
    }
   ],
   "source": [
    "dat = dat_peak_annot_summary\n",
    "dat = dat %>% dplyr::filter(Count == 8)\n",
    "dat"
   ]
  },
  {
   "cell_type": "code",
   "execution_count": 36,
   "metadata": {},
   "outputs": [
    {
     "data": {
      "text/html": [
       "<table class=\"dataframe\">\n",
       "<caption>A tibble: 1 × 7</caption>\n",
       "<thead>\n",
       "\t<tr><th scope=col>Peak_ATAC</th><th scope=col>Annotation</th><th scope=col>Label</th><th scope=col>Count</th><th scope=col>Region</th><th scope=col>Score</th><th scope=col>Note</th></tr>\n",
       "\t<tr><th scope=col>&lt;chr&gt;</th><th scope=col>&lt;chr&gt;</th><th scope=col>&lt;chr&gt;</th><th scope=col>&lt;int&gt;</th><th scope=col>&lt;chr&gt;</th><th scope=col>&lt;dbl&gt;</th><th scope=col>&lt;chr&gt;</th></tr>\n",
       "</thead>\n",
       "<tbody>\n",
       "\t<tr><td>chr19:7868466-7872515</td><td>Enhancer_ZScore</td><td>ASTARR</td><td>11</td><td>chr19:7868690-7868940|chr19:7868980-7869080|chr19:7869100-7870250|chr19:7870360-7870560|chr19:7870600-7870710|chr19:7870690-7871060|chr19:7871070-7871170|chr19:7871500-7871650|chr19:7871700-7872040|chr19:7872070-7872230|chr19:7872240-7872410</td><td>-1.295076</td><td>ASTARR_A|ASTARR_R</td></tr>\n",
       "</tbody>\n",
       "</table>\n"
      ],
      "text/latex": [
       "A tibble: 1 × 7\n",
       "\\begin{tabular}{lllllll}\n",
       " Peak\\_ATAC & Annotation & Label & Count & Region & Score & Note\\\\\n",
       " <chr> & <chr> & <chr> & <int> & <chr> & <dbl> & <chr>\\\\\n",
       "\\hline\n",
       "\t chr19:7868466-7872515 & Enhancer\\_ZScore & ASTARR & 11 & chr19:7868690-7868940\\textbar{}chr19:7868980-7869080\\textbar{}chr19:7869100-7870250\\textbar{}chr19:7870360-7870560\\textbar{}chr19:7870600-7870710\\textbar{}chr19:7870690-7871060\\textbar{}chr19:7871070-7871170\\textbar{}chr19:7871500-7871650\\textbar{}chr19:7871700-7872040\\textbar{}chr19:7872070-7872230\\textbar{}chr19:7872240-7872410 & -1.295076 & ASTARR\\_A\\textbar{}ASTARR\\_R\\\\\n",
       "\\end{tabular}\n"
      ],
      "text/markdown": [
       "\n",
       "A tibble: 1 × 7\n",
       "\n",
       "| Peak_ATAC &lt;chr&gt; | Annotation &lt;chr&gt; | Label &lt;chr&gt; | Count &lt;int&gt; | Region &lt;chr&gt; | Score &lt;dbl&gt; | Note &lt;chr&gt; |\n",
       "|---|---|---|---|---|---|---|\n",
       "| chr19:7868466-7872515 | Enhancer_ZScore | ASTARR | 11 | chr19:7868690-7868940|chr19:7868980-7869080|chr19:7869100-7870250|chr19:7870360-7870560|chr19:7870600-7870710|chr19:7870690-7871060|chr19:7871070-7871170|chr19:7871500-7871650|chr19:7871700-7872040|chr19:7872070-7872230|chr19:7872240-7872410 | -1.295076 | ASTARR_A|ASTARR_R |\n",
       "\n"
      ],
      "text/plain": [
       "  Peak_ATAC             Annotation      Label  Count\n",
       "1 chr19:7868466-7872515 Enhancer_ZScore ASTARR 11   \n",
       "  Region                                                                                                                                                                                                                                           \n",
       "1 chr19:7868690-7868940|chr19:7868980-7869080|chr19:7869100-7870250|chr19:7870360-7870560|chr19:7870600-7870710|chr19:7870690-7871060|chr19:7871070-7871170|chr19:7871500-7871650|chr19:7871700-7872040|chr19:7872070-7872230|chr19:7872240-7872410\n",
       "  Score     Note             \n",
       "1 -1.295076 ASTARR_A|ASTARR_R"
      ]
     },
     "metadata": {},
     "output_type": "display_data"
    }
   ],
   "source": [
    "dat = dat_peak_annot_summary\n",
    "dat = dat %>% dplyr::filter(Count == 11)\n",
    "dat"
   ]
  },
  {
   "cell_type": "code",
   "execution_count": 41,
   "metadata": {},
   "outputs": [
    {
     "data": {
      "text/plain": [
       "   Min. 1st Qu.  Median    Mean 3rd Qu.    Max. \n",
       "-8.2220 -1.9924 -1.5277 -0.3758  2.0715  4.0337 "
      ]
     },
     "metadata": {},
     "output_type": "display_data"
    }
   ],
   "source": [
    "dat = dat_peak_annot_summary\n",
    "summary(dat$Score)"
   ]
  },
  {
   "cell_type": "code",
   "execution_count": 50,
   "metadata": {},
   "outputs": [
    {
     "data": {
      "image/png": "[encoded data removed]",
      "text/plain": [
       "plot without title"
      ]
     },
     "metadata": {
      "image/png": {
       "height": 180,
       "width": 420
      }
     },
     "output_type": "display_data"
    }
   ],
   "source": [
    "dat = dat_peak_annot_summary\n",
    "gpt = ggplot(dat, aes(x=Note, y=Score)) + \n",
    "    geom_boxplot() + \n",
    "    geom_hline(yintercept = 0, linetype=\"dashed\", color=\"grey50\") +\n",
    "    ylim(-9, 5) +\n",
    "    labs(x=\"\", y=\"Z Score\") +\n",
    "    coord_flip() +\n",
    "    theme_cowplot()\n",
    "\n",
    "options(repr.plot.height=3, repr.plot.width=7)\n",
    "print(gpt)"
   ]
  },
  {
   "cell_type": "code",
   "execution_count": null,
   "metadata": {},
   "outputs": [],
   "source": []
  }
 ],
 "metadata": {
  "kernelspec": {
   "display_name": "R",
   "language": "R",
   "name": "ir"
  },
  "language_info": {
   "codemirror_mode": "r",
   "file_extension": ".r",
   "mimetype": "text/x-r-source",
   "name": "R",
   "pygments_lexer": "r",
   "version": "4.3.0"
  }
 },
 "nbformat": 4,
 "nbformat_minor": 4
}
