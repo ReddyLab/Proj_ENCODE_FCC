{
 "cells": [
  {
   "cell_type": "markdown",
   "metadata": {},
   "source": [
    "**Set environment**"
   ]
  },
  {
   "cell_type": "code",
   "execution_count": 1,
   "metadata": {},
   "outputs": [
    {
     "name": "stdout",
     "output_type": "stream",
     "text": [
      "You are in Singularity: singularity_proj_encode_fcc \n",
      "BASE DIRECTORY (FD_BASE): /data/reddylab/Kuei \n",
      "WORK DIRECTORY (FD_WORK): /data/reddylab/Kuei/out \n",
      "CODE DIRECTORY (FD_CODE): /data/reddylab/Kuei/code \n",
      "PATH OF PROJECT (FD_PRJ): /data/reddylab/Kuei/code/Proj_CombEffect_ENCODE_FCC \n",
      "PATH OF RESULTS (FD_RES): /data/reddylab/Kuei/out/proj_combeffect_encode_fcc \n",
      "PATH OF LOG     (FD_LOG): /data/reddylab/Kuei/out/proj_combeffect_encode_fcc/log \n"
     ]
    }
   ],
   "source": [
    "suppressMessages(suppressWarnings(source(\"../config/config_sing.R\")))\n",
    "show_env()"
   ]
  },
  {
   "cell_type": "markdown",
   "metadata": {},
   "source": [
    "**Check data**"
   ]
  },
  {
   "cell_type": "code",
   "execution_count": 2,
   "metadata": {},
   "outputs": [],
   "source": [
    "FOLDER = \"annotation_chipseq_histone\""
   ]
  },
  {
   "cell_type": "code",
   "execution_count": 3,
   "metadata": {},
   "outputs": [
    {
     "name": "stdout",
     "output_type": "stream",
     "text": [
      "[1] \"accession_info_peaks.tsv\"\n",
      "[1] \"description.tsv\"\n",
      "[1] \"download.sh\"\n",
      "[1] \"K562.ENCSR000AKP.ENCFF544LXB.H3K27ac.bed.gz\"\n",
      "[1] \"K562.ENCSR000AKQ.ENCFF323WOT.H3K27me3.bed.gz\"\n",
      "[1] \"K562.ENCSR000AKR.ENCFF193ERO.H3K36me3.bed.gz\"\n",
      "[1] \"K562.ENCSR000AKS.ENCFF135ZLM.H3K4me1.bed.gz\"\n",
      "[1] \"K562.ENCSR000AKT.ENCFF749KLQ.H3K4me2.bed.gz\"\n",
      "[1] \"K562.ENCSR000AKU.ENCFF689QIJ.H3K4me3.bed.gz\"\n",
      "[1] \"K562.ENCSR000AKV.ENCFF891CHI.H3K9ac.bed.gz\"\n",
      "[1] \"K562.ENCSR000AKW.ENCFF462AVD.H3K9me1.bed.gz\"\n",
      "[1] \"K562.ENCSR000AKX.ENCFF909RKY.H4K20me1.bed.gz\"\n",
      "[1] \"K562.ENCSR000APC.ENCFF213OTI.H2AFZ.bed.gz\"\n",
      "[1] \"K562.ENCSR000APD.ENCFF209OQD.H3K79me2.bed.gz\"\n",
      "[1] \"K562.ENCSR000APE.ENCFF963GZJ.H3K9me3.bed.gz\"\n",
      "[1] \"K562.ENCSR000DWB.ENCFF561OUZ.H3K36me3.bed.gz\"\n",
      "[1] \"K562.ENCSR000DWD.ENCFF706WUF.H3K4me3.bed.gz\"\n",
      "[1] \"K562.ENCSR000EVZ.ENCFF148UQI.H3K9ac.bed.gz\"\n",
      "[1] \"K562.ENCSR000EWA.ENCFF122CSI.H3K4me3.bed.gz\"\n",
      "[1] \"K562.ENCSR000EWB.ENCFF801AHF.H3K27me3.bed.gz\"\n",
      "[1] \"K562.ENCSR000EWC.ENCFF540NGG.H3K4me1.bed.gz\"\n",
      "[1] \"K562.ENCSR668LDD.ENCFF885FQN.H3K4me3.bed.gz\"\n"
     ]
    }
   ],
   "source": [
    "fdiry = file.path(\n",
    "    FD_RES, \n",
    "    \"results\", \n",
    "    \"region\", \n",
    "    FOLDER)\n",
    "for(fname in dir(fdiry)){print(fname)}"
   ]
  },
  {
   "cell_type": "code",
   "execution_count": 4,
   "metadata": {},
   "outputs": [
    {
     "name": "stdout",
     "output_type": "stream",
     "text": [
      "[1] \"peak.annotation.K562.ENCSR000AKP.ENCFF544LXB.H3K27ac.bed.gz\"\n",
      "[1] \"peak.annotation.K562.ENCSR000AKQ.ENCFF323WOT.H3K27me3.bed.gz\"\n",
      "[1] \"peak.annotation.K562.ENCSR000AKR.ENCFF193ERO.H3K36me3.bed.gz\"\n",
      "[1] \"peak.annotation.K562.ENCSR000AKS.ENCFF135ZLM.H3K4me1.bed.gz\"\n",
      "[1] \"peak.annotation.K562.ENCSR000AKT.ENCFF749KLQ.H3K4me2.bed.gz\"\n",
      "[1] \"peak.annotation.K562.ENCSR000AKU.ENCFF689QIJ.H3K4me3.bed.gz\"\n",
      "[1] \"peak.annotation.K562.ENCSR000AKV.ENCFF891CHI.H3K9ac.bed.gz\"\n",
      "[1] \"peak.annotation.K562.ENCSR000AKW.ENCFF462AVD.H3K9me1.bed.gz\"\n",
      "[1] \"peak.annotation.K562.ENCSR000AKX.ENCFF909RKY.H4K20me1.bed.gz\"\n",
      "[1] \"peak.annotation.K562.ENCSR000APC.ENCFF213OTI.H2AFZ.bed.gz\"\n",
      "[1] \"peak.annotation.K562.ENCSR000APD.ENCFF209OQD.H3K79me2.bed.gz\"\n",
      "[1] \"peak.annotation.K562.ENCSR000APE.ENCFF963GZJ.H3K9me3.bed.gz\"\n",
      "[1] \"peak.annotation.K562.ENCSR000DWB.ENCFF561OUZ.H3K36me3.bed.gz\"\n",
      "[1] \"peak.annotation.K562.ENCSR000DWD.ENCFF706WUF.H3K4me3.bed.gz\"\n",
      "[1] \"peak.annotation.K562.ENCSR000EVZ.ENCFF148UQI.H3K9ac.bed.gz\"\n",
      "[1] \"peak.annotation.K562.ENCSR000EWA.ENCFF122CSI.H3K4me3.bed.gz\"\n",
      "[1] \"peak.annotation.K562.ENCSR000EWB.ENCFF801AHF.H3K27me3.bed.gz\"\n",
      "[1] \"peak.annotation.K562.ENCSR000EWC.ENCFF540NGG.H3K4me1.bed.gz\"\n",
      "[1] \"peak.annotation.K562.ENCSR668LDD.ENCFF885FQN.H3K4me3.bed.gz\"\n"
     ]
    }
   ],
   "source": [
    "fdiry = file.path(\n",
    "    FD_RES, \n",
    "    \"results\", \n",
    "    \"region\", \n",
    "    \"KS91_K562_ASTARRseq_peak_macs_input\", \n",
    "    FOLDER)\n",
    "for(fname in dir(fdiry)){print(fname)}"
   ]
  },
  {
   "cell_type": "markdown",
   "metadata": {},
   "source": [
    "## Import data"
   ]
  },
  {
   "cell_type": "code",
   "execution_count": 5,
   "metadata": {},
   "outputs": [
    {
     "name": "stdout",
     "output_type": "stream",
     "text": [
      "[1] 10  2\n"
     ]
    },
    {
     "data": {
      "text/html": [
       "<table class=\"dataframe\">\n",
       "<caption>A spec_tbl_df: 10 × 2</caption>\n",
       "<thead>\n",
       "\t<tr><th scope=col>Name</th><th scope=col>Description</th></tr>\n",
       "\t<tr><th scope=col>&lt;chr&gt;</th><th scope=col>&lt;chr&gt;</th></tr>\n",
       "</thead>\n",
       "<tbody>\n",
       "\t<tr><td>Chrom      </td><td>Name of the chromosome (or contig, scaffold, etc.).                                                                                                                                                                                                              </td></tr>\n",
       "\t<tr><td>Start      </td><td>The starting position of the feature in the chromosome or scaffold. The first base in a chromosome is numbered 0.                                                                                                                                                </td></tr>\n",
       "\t<tr><td>End        </td><td>The ending position of the feature in the chromosome or scaffold. The chromEnd base is not included in the display of the feature. For example, the first 100 bases of a chromosome are defined as chromStart=0, chromEnd=100, and span the bases numbered 0-99. </td></tr>\n",
       "\t<tr><td>Name       </td><td>Name given to a region (preferably unique). Use '.' if no name is assigned.                                                                                                                                                                                      </td></tr>\n",
       "\t<tr><td>Score      </td><td>Indicates how dark the peak will be displayed in the browser (0-1000). If all scores were '0' when the data were submitted to the DCC, the DCC assigned scores 1-1000 based on signal value. Ideally the average signalValue per base spread is between 100-1000.</td></tr>\n",
       "\t<tr><td>Strand     </td><td>+/- to denote strand or orientation (whenever applicable). Use '.' if no orientation is assigned.                                                                                                                                                                </td></tr>\n",
       "\t<tr><td>SignalValue</td><td>Measurement of overall (usually, average) enrichment for the region.                                                                                                                                                                                             </td></tr>\n",
       "\t<tr><td>pValue     </td><td>Measurement of statistical significance (-log10). Use -1 if no pValue is assigned.                                                                                                                                                                               </td></tr>\n",
       "\t<tr><td>qValue     </td><td>Measurement of statistical significance using false discovery rate (-log10). Use -1 if no qValue is assigned.                                                                                                                                                    </td></tr>\n",
       "\t<tr><td>peak       </td><td>Point-source called for this peak; 0-based offset from chromStart. Use -1 if no point-source called.                                                                                                                                                             </td></tr>\n",
       "</tbody>\n",
       "</table>\n"
      ],
      "text/latex": [
       "A spec\\_tbl\\_df: 10 × 2\n",
       "\\begin{tabular}{ll}\n",
       " Name & Description\\\\\n",
       " <chr> & <chr>\\\\\n",
       "\\hline\n",
       "\t Chrom       & Name of the chromosome (or contig, scaffold, etc.).                                                                                                                                                                                                              \\\\\n",
       "\t Start       & The starting position of the feature in the chromosome or scaffold. The first base in a chromosome is numbered 0.                                                                                                                                                \\\\\n",
       "\t End         & The ending position of the feature in the chromosome or scaffold. The chromEnd base is not included in the display of the feature. For example, the first 100 bases of a chromosome are defined as chromStart=0, chromEnd=100, and span the bases numbered 0-99. \\\\\n",
       "\t Name        & Name given to a region (preferably unique). Use '.' if no name is assigned.                                                                                                                                                                                      \\\\\n",
       "\t Score       & Indicates how dark the peak will be displayed in the browser (0-1000). If all scores were '0' when the data were submitted to the DCC, the DCC assigned scores 1-1000 based on signal value. Ideally the average signalValue per base spread is between 100-1000.\\\\\n",
       "\t Strand      & +/- to denote strand or orientation (whenever applicable). Use '.' if no orientation is assigned.                                                                                                                                                                \\\\\n",
       "\t SignalValue & Measurement of overall (usually, average) enrichment for the region.                                                                                                                                                                                             \\\\\n",
       "\t pValue      & Measurement of statistical significance (-log10). Use -1 if no pValue is assigned.                                                                                                                                                                               \\\\\n",
       "\t qValue      & Measurement of statistical significance using false discovery rate (-log10). Use -1 if no qValue is assigned.                                                                                                                                                    \\\\\n",
       "\t peak        & Point-source called for this peak; 0-based offset from chromStart. Use -1 if no point-source called.                                                                                                                                                             \\\\\n",
       "\\end{tabular}\n"
      ],
      "text/markdown": [
       "\n",
       "A spec_tbl_df: 10 × 2\n",
       "\n",
       "| Name &lt;chr&gt; | Description &lt;chr&gt; |\n",
       "|---|---|\n",
       "| Chrom       | Name of the chromosome (or contig, scaffold, etc.).                                                                                                                                                                                                               |\n",
       "| Start       | The starting position of the feature in the chromosome or scaffold. The first base in a chromosome is numbered 0.                                                                                                                                                 |\n",
       "| End         | The ending position of the feature in the chromosome or scaffold. The chromEnd base is not included in the display of the feature. For example, the first 100 bases of a chromosome are defined as chromStart=0, chromEnd=100, and span the bases numbered 0-99.  |\n",
       "| Name        | Name given to a region (preferably unique). Use '.' if no name is assigned.                                                                                                                                                                                       |\n",
       "| Score       | Indicates how dark the peak will be displayed in the browser (0-1000). If all scores were '0' when the data were submitted to the DCC, the DCC assigned scores 1-1000 based on signal value. Ideally the average signalValue per base spread is between 100-1000. |\n",
       "| Strand      | +/- to denote strand or orientation (whenever applicable). Use '.' if no orientation is assigned.                                                                                                                                                                 |\n",
       "| SignalValue | Measurement of overall (usually, average) enrichment for the region.                                                                                                                                                                                              |\n",
       "| pValue      | Measurement of statistical significance (-log10). Use -1 if no pValue is assigned.                                                                                                                                                                                |\n",
       "| qValue      | Measurement of statistical significance using false discovery rate (-log10). Use -1 if no qValue is assigned.                                                                                                                                                     |\n",
       "| peak        | Point-source called for this peak; 0-based offset from chromStart. Use -1 if no point-source called.                                                                                                                                                              |\n",
       "\n"
      ],
      "text/plain": [
       "   Name       \n",
       "1  Chrom      \n",
       "2  Start      \n",
       "3  End        \n",
       "4  Name       \n",
       "5  Score      \n",
       "6  Strand     \n",
       "7  SignalValue\n",
       "8  pValue     \n",
       "9  qValue     \n",
       "10 peak       \n",
       "   Description                                                                                                                                                                                                                                                      \n",
       "1  Name of the chromosome (or contig, scaffold, etc.).                                                                                                                                                                                                              \n",
       "2  The starting position of the feature in the chromosome or scaffold. The first base in a chromosome is numbered 0.                                                                                                                                                \n",
       "3  The ending position of the feature in the chromosome or scaffold. The chromEnd base is not included in the display of the feature. For example, the first 100 bases of a chromosome are defined as chromStart=0, chromEnd=100, and span the bases numbered 0-99. \n",
       "4  Name given to a region (preferably unique). Use '.' if no name is assigned.                                                                                                                                                                                      \n",
       "5  Indicates how dark the peak will be displayed in the browser (0-1000). If all scores were '0' when the data were submitted to the DCC, the DCC assigned scores 1-1000 based on signal value. Ideally the average signalValue per base spread is between 100-1000.\n",
       "6  +/- to denote strand or orientation (whenever applicable). Use '.' if no orientation is assigned.                                                                                                                                                                \n",
       "7  Measurement of overall (usually, average) enrichment for the region.                                                                                                                                                                                             \n",
       "8  Measurement of statistical significance (-log10). Use -1 if no pValue is assigned.                                                                                                                                                                               \n",
       "9  Measurement of statistical significance using false discovery rate (-log10). Use -1 if no qValue is assigned.                                                                                                                                                    \n",
       "10 Point-source called for this peak; 0-based offset from chromStart. Use -1 if no point-source called.                                                                                                                                                             "
      ]
     },
     "metadata": {},
     "output_type": "display_data"
    }
   ],
   "source": [
    "fdiry  = file.path(FD_RES, \"results\", \"region\", FOLDER)\n",
    "fname = \"description.tsv\"\n",
    "fpath = file.path(fdiry, fname)\n",
    "\n",
    "dat = read_tsv(fpath, show_col_types = FALSE)\n",
    "\n",
    "dat_cnames = dat\n",
    "print(dim(dat))\n",
    "dat"
   ]
  },
  {
   "cell_type": "code",
   "execution_count": 6,
   "metadata": {},
   "outputs": [
    {
     "name": "stdout",
     "output_type": "stream",
     "text": [
      "                                           H3K27ac_ENCFF544LXB \n",
      " \"peak.annotation.K562.ENCSR000AKP.ENCFF544LXB.H3K27ac.bed.gz\" \n",
      "                                          H3K27me3_ENCFF323WOT \n",
      "\"peak.annotation.K562.ENCSR000AKQ.ENCFF323WOT.H3K27me3.bed.gz\" \n",
      "                                          H3K36me3_ENCFF193ERO \n",
      "\"peak.annotation.K562.ENCSR000AKR.ENCFF193ERO.H3K36me3.bed.gz\" \n",
      "                                           H3K4me1_ENCFF135ZLM \n",
      " \"peak.annotation.K562.ENCSR000AKS.ENCFF135ZLM.H3K4me1.bed.gz\" \n",
      "                                           H3K4me2_ENCFF749KLQ \n",
      " \"peak.annotation.K562.ENCSR000AKT.ENCFF749KLQ.H3K4me2.bed.gz\" \n",
      "                                           H3K4me3_ENCFF689QIJ \n",
      " \"peak.annotation.K562.ENCSR000AKU.ENCFF689QIJ.H3K4me3.bed.gz\" \n",
      "                                            H3K9ac_ENCFF891CHI \n",
      "  \"peak.annotation.K562.ENCSR000AKV.ENCFF891CHI.H3K9ac.bed.gz\" \n",
      "                                           H3K9me1_ENCFF462AVD \n",
      " \"peak.annotation.K562.ENCSR000AKW.ENCFF462AVD.H3K9me1.bed.gz\" \n",
      "                                          H4K20me1_ENCFF909RKY \n",
      "\"peak.annotation.K562.ENCSR000AKX.ENCFF909RKY.H4K20me1.bed.gz\" \n",
      "                                             H2AFZ_ENCFF213OTI \n",
      "   \"peak.annotation.K562.ENCSR000APC.ENCFF213OTI.H2AFZ.bed.gz\" \n",
      "                                          H3K79me2_ENCFF209OQD \n",
      "\"peak.annotation.K562.ENCSR000APD.ENCFF209OQD.H3K79me2.bed.gz\" \n",
      "                                           H3K9me3_ENCFF963GZJ \n",
      " \"peak.annotation.K562.ENCSR000APE.ENCFF963GZJ.H3K9me3.bed.gz\" \n",
      "                                          H3K36me3_ENCFF561OUZ \n",
      "\"peak.annotation.K562.ENCSR000DWB.ENCFF561OUZ.H3K36me3.bed.gz\" \n",
      "                                           H3K4me3_ENCFF706WUF \n",
      " \"peak.annotation.K562.ENCSR000DWD.ENCFF706WUF.H3K4me3.bed.gz\" \n",
      "                                            H3K9ac_ENCFF148UQI \n",
      "  \"peak.annotation.K562.ENCSR000EVZ.ENCFF148UQI.H3K9ac.bed.gz\" \n",
      "                                           H3K4me3_ENCFF122CSI \n",
      " \"peak.annotation.K562.ENCSR000EWA.ENCFF122CSI.H3K4me3.bed.gz\" \n",
      "                                          H3K27me3_ENCFF801AHF \n",
      "\"peak.annotation.K562.ENCSR000EWB.ENCFF801AHF.H3K27me3.bed.gz\" \n",
      "                                           H3K4me1_ENCFF540NGG \n",
      " \"peak.annotation.K562.ENCSR000EWC.ENCFF540NGG.H3K4me1.bed.gz\" \n",
      "                                           H3K4me3_ENCFF885FQN \n",
      " \"peak.annotation.K562.ENCSR668LDD.ENCFF885FQN.H3K4me3.bed.gz\" \n"
     ]
    }
   ],
   "source": [
    "### init: set column names\n",
    "cnames = dat_cnames$Name\n",
    "cnames = c(\"Chrom_ATAC\", \"Start_ATAC\", \"End_ATAC\", cnames, \"Overlap\")\n",
    "\n",
    "### init: set file path\n",
    "fdiry = file.path(\n",
    "    FD_RES, \n",
    "    \"results\", \n",
    "    \"region\", \n",
    "    \"KS91_K562_ASTARRseq_peak_macs_input\", \n",
    "    FOLDER)\n",
    "fname  = paste(\"peak.annotation\", \"bed.gz\", sep=\"*\")\n",
    "fglob  = file.path(fdiry, fname)\n",
    "fpaths = Sys.glob(fglob)\n",
    "fnames = basename(fpaths)\n",
    "\n",
    "### init: annotation and label\n",
    "annotation = \"ChIPseq_Histone\"\n",
    "labels = fnames %>% \n",
    "    str_split(., \"\\\\.\") %>%\n",
    "    do.call(rbind, .) %>%\n",
    "    as.data.frame %>%\n",
    "    dplyr::mutate(X = paste(V6, V5, sep=\"_\")) %>%\n",
    "    dplyr::pull(X)\n",
    "targets = fnames %>% \n",
    "    str_split(., \"\\\\.\") %>%\n",
    "    do.call(rbind, .) %>%\n",
    "    as.data.frame %>%\n",
    "    dplyr::mutate(X = V6) %>%\n",
    "    dplyr::pull(X)\n",
    "\n",
    "names(fnames) = labels\n",
    "names(labels) = labels\n",
    "names(targets) = labels\n",
    "print(fnames)"
   ]
  },
  {
   "cell_type": "code",
   "execution_count": 7,
   "metadata": {},
   "outputs": [
    {
     "name": "stdout",
     "output_type": "stream",
     "text": [
      "[1] 19\n"
     ]
    },
    {
     "data": {
      "text/html": [
       "<table class=\"dataframe\">\n",
       "<caption>A tibble: 6 × 20</caption>\n",
       "<thead>\n",
       "\t<tr><th scope=col>Chrom_ATAC</th><th scope=col>Start_ATAC</th><th scope=col>End_ATAC</th><th scope=col>Chrom</th><th scope=col>Start</th><th scope=col>End</th><th scope=col>Name</th><th scope=col>Score</th><th scope=col>Strand</th><th scope=col>SignalValue</th><th scope=col>pValue</th><th scope=col>qValue</th><th scope=col>peak</th><th scope=col>Overlap</th><th scope=col>Peak_ATAC</th><th scope=col>Annotation</th><th scope=col>Label</th><th scope=col>Region</th><th scope=col>Value</th><th scope=col>Note</th></tr>\n",
       "\t<tr><th scope=col>&lt;chr&gt;</th><th scope=col>&lt;dbl&gt;</th><th scope=col>&lt;dbl&gt;</th><th scope=col>&lt;chr&gt;</th><th scope=col>&lt;dbl&gt;</th><th scope=col>&lt;dbl&gt;</th><th scope=col>&lt;chr&gt;</th><th scope=col>&lt;dbl&gt;</th><th scope=col>&lt;chr&gt;</th><th scope=col>&lt;dbl&gt;</th><th scope=col>&lt;dbl&gt;</th><th scope=col>&lt;dbl&gt;</th><th scope=col>&lt;dbl&gt;</th><th scope=col>&lt;dbl&gt;</th><th scope=col>&lt;chr&gt;</th><th scope=col>&lt;chr&gt;</th><th scope=col>&lt;chr&gt;</th><th scope=col>&lt;chr&gt;</th><th scope=col>&lt;dbl&gt;</th><th scope=col>&lt;chr&gt;</th></tr>\n",
       "</thead>\n",
       "<tbody>\n",
       "\t<tr><td>chr1</td><td>137737</td><td>139544</td><td>chr1</td><td>137650</td><td>138169</td><td>Peak_16228</td><td>317</td><td>.</td><td> 9.24885</td><td>31.74444</td><td>29.32013</td><td>338</td><td> 432</td><td>chr1:137737-139544</td><td>ChIPseq_Histone</td><td>H3K27ac_ENCFF544LXB</td><td>chr1:137650-138169</td><td> 9.24885</td><td>H3K27ac</td></tr>\n",
       "\t<tr><td>chr1</td><td>137737</td><td>139544</td><td>chr1</td><td>138356</td><td>139236</td><td>Peak_19531</td><td>228</td><td>.</td><td> 7.55215</td><td>22.82356</td><td>20.52066</td><td>178</td><td> 880</td><td>chr1:137737-139544</td><td>ChIPseq_Histone</td><td>H3K27ac_ENCFF544LXB</td><td>chr1:138356-139236</td><td> 7.55215</td><td>H3K27ac</td></tr>\n",
       "\t<tr><td>chr1</td><td>137737</td><td>139544</td><td>chr1</td><td>139285</td><td>139490</td><td>Peak_33716</td><td> 88</td><td>.</td><td> 4.27130</td><td> 8.85756</td><td> 6.82864</td><td>172</td><td> 205</td><td>chr1:137737-139544</td><td>ChIPseq_Histone</td><td>H3K27ac_ENCFF544LXB</td><td>chr1:139285-139490</td><td> 4.27130</td><td>H3K27ac</td></tr>\n",
       "\t<tr><td>chr1</td><td>777949</td><td>779437</td><td>chr1</td><td>777712</td><td>778823</td><td>Peak_6597 </td><td>939</td><td>.</td><td>19.33186</td><td>93.91751</td><td>90.86520</td><td>823</td><td> 874</td><td>chr1:777949-779437</td><td>ChIPseq_Histone</td><td>H3K27ac_ENCFF544LXB</td><td>chr1:777712-778823</td><td>19.33186</td><td>H3K27ac</td></tr>\n",
       "\t<tr><td>chr1</td><td>777949</td><td>779437</td><td>chr1</td><td>778887</td><td>779412</td><td>Peak_16912</td><td>296</td><td>.</td><td> 8.99031</td><td>29.63080</td><td>27.23310</td><td>306</td><td> 525</td><td>chr1:777949-779437</td><td>ChIPseq_Histone</td><td>H3K27ac_ENCFF544LXB</td><td>chr1:778887-779412</td><td> 8.99031</td><td>H3K27ac</td></tr>\n",
       "\t<tr><td>chr1</td><td>826754</td><td>828040</td><td>chr1</td><td>826565</td><td>827901</td><td>Peak_8064 </td><td>783</td><td>.</td><td>17.13224</td><td>78.32069</td><td>75.40894</td><td>869</td><td>1147</td><td>chr1:826754-828040</td><td>ChIPseq_Histone</td><td>H3K27ac_ENCFF544LXB</td><td>chr1:826565-827901</td><td>17.13224</td><td>H3K27ac</td></tr>\n",
       "</tbody>\n",
       "</table>\n"
      ],
      "text/latex": [
       "A tibble: 6 × 20\n",
       "\\begin{tabular}{llllllllllllllllllll}\n",
       " Chrom\\_ATAC & Start\\_ATAC & End\\_ATAC & Chrom & Start & End & Name & Score & Strand & SignalValue & pValue & qValue & peak & Overlap & Peak\\_ATAC & Annotation & Label & Region & Value & Note\\\\\n",
       " <chr> & <dbl> & <dbl> & <chr> & <dbl> & <dbl> & <chr> & <dbl> & <chr> & <dbl> & <dbl> & <dbl> & <dbl> & <dbl> & <chr> & <chr> & <chr> & <chr> & <dbl> & <chr>\\\\\n",
       "\\hline\n",
       "\t chr1 & 137737 & 139544 & chr1 & 137650 & 138169 & Peak\\_16228 & 317 & . &  9.24885 & 31.74444 & 29.32013 & 338 &  432 & chr1:137737-139544 & ChIPseq\\_Histone & H3K27ac\\_ENCFF544LXB & chr1:137650-138169 &  9.24885 & H3K27ac\\\\\n",
       "\t chr1 & 137737 & 139544 & chr1 & 138356 & 139236 & Peak\\_19531 & 228 & . &  7.55215 & 22.82356 & 20.52066 & 178 &  880 & chr1:137737-139544 & ChIPseq\\_Histone & H3K27ac\\_ENCFF544LXB & chr1:138356-139236 &  7.55215 & H3K27ac\\\\\n",
       "\t chr1 & 137737 & 139544 & chr1 & 139285 & 139490 & Peak\\_33716 &  88 & . &  4.27130 &  8.85756 &  6.82864 & 172 &  205 & chr1:137737-139544 & ChIPseq\\_Histone & H3K27ac\\_ENCFF544LXB & chr1:139285-139490 &  4.27130 & H3K27ac\\\\\n",
       "\t chr1 & 777949 & 779437 & chr1 & 777712 & 778823 & Peak\\_6597  & 939 & . & 19.33186 & 93.91751 & 90.86520 & 823 &  874 & chr1:777949-779437 & ChIPseq\\_Histone & H3K27ac\\_ENCFF544LXB & chr1:777712-778823 & 19.33186 & H3K27ac\\\\\n",
       "\t chr1 & 777949 & 779437 & chr1 & 778887 & 779412 & Peak\\_16912 & 296 & . &  8.99031 & 29.63080 & 27.23310 & 306 &  525 & chr1:777949-779437 & ChIPseq\\_Histone & H3K27ac\\_ENCFF544LXB & chr1:778887-779412 &  8.99031 & H3K27ac\\\\\n",
       "\t chr1 & 826754 & 828040 & chr1 & 826565 & 827901 & Peak\\_8064  & 783 & . & 17.13224 & 78.32069 & 75.40894 & 869 & 1147 & chr1:826754-828040 & ChIPseq\\_Histone & H3K27ac\\_ENCFF544LXB & chr1:826565-827901 & 17.13224 & H3K27ac\\\\\n",
       "\\end{tabular}\n"
      ],
      "text/markdown": [
       "\n",
       "A tibble: 6 × 20\n",
       "\n",
       "| Chrom_ATAC &lt;chr&gt; | Start_ATAC &lt;dbl&gt; | End_ATAC &lt;dbl&gt; | Chrom &lt;chr&gt; | Start &lt;dbl&gt; | End &lt;dbl&gt; | Name &lt;chr&gt; | Score &lt;dbl&gt; | Strand &lt;chr&gt; | SignalValue &lt;dbl&gt; | pValue &lt;dbl&gt; | qValue &lt;dbl&gt; | peak &lt;dbl&gt; | Overlap &lt;dbl&gt; | Peak_ATAC &lt;chr&gt; | Annotation &lt;chr&gt; | Label &lt;chr&gt; | Region &lt;chr&gt; | Value &lt;dbl&gt; | Note &lt;chr&gt; |\n",
       "|---|---|---|---|---|---|---|---|---|---|---|---|---|---|---|---|---|---|---|---|\n",
       "| chr1 | 137737 | 139544 | chr1 | 137650 | 138169 | Peak_16228 | 317 | . |  9.24885 | 31.74444 | 29.32013 | 338 |  432 | chr1:137737-139544 | ChIPseq_Histone | H3K27ac_ENCFF544LXB | chr1:137650-138169 |  9.24885 | H3K27ac |\n",
       "| chr1 | 137737 | 139544 | chr1 | 138356 | 139236 | Peak_19531 | 228 | . |  7.55215 | 22.82356 | 20.52066 | 178 |  880 | chr1:137737-139544 | ChIPseq_Histone | H3K27ac_ENCFF544LXB | chr1:138356-139236 |  7.55215 | H3K27ac |\n",
       "| chr1 | 137737 | 139544 | chr1 | 139285 | 139490 | Peak_33716 |  88 | . |  4.27130 |  8.85756 |  6.82864 | 172 |  205 | chr1:137737-139544 | ChIPseq_Histone | H3K27ac_ENCFF544LXB | chr1:139285-139490 |  4.27130 | H3K27ac |\n",
       "| chr1 | 777949 | 779437 | chr1 | 777712 | 778823 | Peak_6597  | 939 | . | 19.33186 | 93.91751 | 90.86520 | 823 |  874 | chr1:777949-779437 | ChIPseq_Histone | H3K27ac_ENCFF544LXB | chr1:777712-778823 | 19.33186 | H3K27ac |\n",
       "| chr1 | 777949 | 779437 | chr1 | 778887 | 779412 | Peak_16912 | 296 | . |  8.99031 | 29.63080 | 27.23310 | 306 |  525 | chr1:777949-779437 | ChIPseq_Histone | H3K27ac_ENCFF544LXB | chr1:778887-779412 |  8.99031 | H3K27ac |\n",
       "| chr1 | 826754 | 828040 | chr1 | 826565 | 827901 | Peak_8064  | 783 | . | 17.13224 | 78.32069 | 75.40894 | 869 | 1147 | chr1:826754-828040 | ChIPseq_Histone | H3K27ac_ENCFF544LXB | chr1:826565-827901 | 17.13224 | H3K27ac |\n",
       "\n"
      ],
      "text/plain": [
       "  Chrom_ATAC Start_ATAC End_ATAC Chrom Start  End    Name       Score Strand\n",
       "1 chr1       137737     139544   chr1  137650 138169 Peak_16228 317   .     \n",
       "2 chr1       137737     139544   chr1  138356 139236 Peak_19531 228   .     \n",
       "3 chr1       137737     139544   chr1  139285 139490 Peak_33716  88   .     \n",
       "4 chr1       777949     779437   chr1  777712 778823 Peak_6597  939   .     \n",
       "5 chr1       777949     779437   chr1  778887 779412 Peak_16912 296   .     \n",
       "6 chr1       826754     828040   chr1  826565 827901 Peak_8064  783   .     \n",
       "  SignalValue pValue   qValue   peak Overlap Peak_ATAC          Annotation     \n",
       "1  9.24885    31.74444 29.32013 338   432    chr1:137737-139544 ChIPseq_Histone\n",
       "2  7.55215    22.82356 20.52066 178   880    chr1:137737-139544 ChIPseq_Histone\n",
       "3  4.27130     8.85756  6.82864 172   205    chr1:137737-139544 ChIPseq_Histone\n",
       "4 19.33186    93.91751 90.86520 823   874    chr1:777949-779437 ChIPseq_Histone\n",
       "5  8.99031    29.63080 27.23310 306   525    chr1:777949-779437 ChIPseq_Histone\n",
       "6 17.13224    78.32069 75.40894 869  1147    chr1:826754-828040 ChIPseq_Histone\n",
       "  Label               Region             Value    Note   \n",
       "1 H3K27ac_ENCFF544LXB chr1:137650-138169  9.24885 H3K27ac\n",
       "2 H3K27ac_ENCFF544LXB chr1:138356-139236  7.55215 H3K27ac\n",
       "3 H3K27ac_ENCFF544LXB chr1:139285-139490  4.27130 H3K27ac\n",
       "4 H3K27ac_ENCFF544LXB chr1:777712-778823 19.33186 H3K27ac\n",
       "5 H3K27ac_ENCFF544LXB chr1:778887-779412  8.99031 H3K27ac\n",
       "6 H3K27ac_ENCFF544LXB chr1:826565-827901 17.13224 H3K27ac"
      ]
     },
     "metadata": {},
     "output_type": "display_data"
    }
   ],
   "source": [
    "### Import data\n",
    "lst = lapply(labels, function(label){\n",
    "    ### set file path\n",
    "    target = targets[label]\n",
    "    fname = fnames[label]\n",
    "    fpath = file.path(fdiry, fname)\n",
    "    \n",
    "    ### read data\n",
    "    dat = read_tsv(fpath, col_names = cnames, show_col_types = FALSE)\n",
    "    dat = dat %>% dplyr::mutate(\n",
    "        Peak_ATAC  = paste0(Chrom_ATAC, \":\", Start_ATAC, \"-\", End_ATAC),\n",
    "        Annotation = annotation,\n",
    "        Label      = label,\n",
    "        Region     = paste0(Chrom, \":\", Start, \"-\", End),\n",
    "        Value      = SignalValue,\n",
    "        Note       = target\n",
    "    )\n",
    "    return(dat)\n",
    "})\n",
    "\n",
    "### assign and show\n",
    "lst_peak_annot_import = lst\n",
    "print(length(lst))\n",
    "head(lst[[1]])"
   ]
  },
  {
   "cell_type": "code",
   "execution_count": 8,
   "metadata": {},
   "outputs": [
    {
     "name": "stdout",
     "output_type": "stream",
     "text": [
      "   Min. 1st Qu.  Median    Mean 3rd Qu.    Max. \n",
      "   20.0    87.0   212.0   383.1   674.0  1000.0 \n",
      "   Min. 1st Qu.  Median    Mean 3rd Qu.    Max. \n",
      "  1.500   3.659   5.852   8.687  11.482  56.806 \n"
     ]
    }
   ],
   "source": [
    "print(summary(lst[[1]]$Score))\n",
    "print(summary(lst[[1]]$SignalValue))"
   ]
  },
  {
   "cell_type": "code",
   "execution_count": 9,
   "metadata": {},
   "outputs": [
    {
     "data": {
      "image/png": "[encoded data removed]",
      "text/plain": [
       "plot without title"
      ]
     },
     "metadata": {
      "image/png": {
       "height": 300,
       "width": 360
      }
     },
     "output_type": "display_data"
    }
   ],
   "source": [
    "dat = lst[[1]]\n",
    "gpt = ggplot(dat, aes(x=Score, y=SignalValue)) + geom_point(size=0.1) + theme_cowplot()\n",
    "options(repr.plot.height=5, repr.plot.width=6)\n",
    "print(gpt)"
   ]
  },
  {
   "cell_type": "markdown",
   "metadata": {},
   "source": [
    "## Arrange and summarize"
   ]
  },
  {
   "cell_type": "code",
   "execution_count": 10,
   "metadata": {},
   "outputs": [
    {
     "name": "stdout",
     "output_type": "stream",
     "text": [
      "[1] 515432      7\n"
     ]
    },
    {
     "data": {
      "text/html": [
       "<table class=\"dataframe\">\n",
       "<caption>A tibble: 6 × 7</caption>\n",
       "<thead>\n",
       "\t<tr><th scope=col>Peak</th><th scope=col>Annotation</th><th scope=col>Label</th><th scope=col>Count</th><th scope=col>Region</th><th scope=col>Score</th><th scope=col>Note</th></tr>\n",
       "\t<tr><th scope=col>&lt;chr&gt;</th><th scope=col>&lt;chr&gt;</th><th scope=col>&lt;chr&gt;</th><th scope=col>&lt;int&gt;</th><th scope=col>&lt;chr&gt;</th><th scope=col>&lt;dbl&gt;</th><th scope=col>&lt;chr&gt;</th></tr>\n",
       "</thead>\n",
       "<tbody>\n",
       "\t<tr><td>chr1:16015-16477  </td><td>ChIPseq_Histone</td><td>H3K36me3_ENCFF193ERO</td><td>1</td><td>chr1:16092-16380                                        </td><td> 4.56269</td><td>H3K36me3</td></tr>\n",
       "\t<tr><td>chr1:16015-16477  </td><td>ChIPseq_Histone</td><td>H3K36me3_ENCFF561OUZ</td><td>1</td><td>chr1:16209-16339                                        </td><td> 4.29995</td><td>H3K36me3</td></tr>\n",
       "\t<tr><td>chr1:118518-118743</td><td>ChIPseq_Histone</td><td>H3K9ac_ENCFF891CHI  </td><td>1</td><td>chr1:118435-119129                                      </td><td>12.03536</td><td>H3K9ac  </td></tr>\n",
       "\t<tr><td>chr1:137737-139544</td><td>ChIPseq_Histone</td><td>H3K27ac_ENCFF544LXB </td><td>3</td><td>chr1:137650-138169|chr1:138356-139236|chr1:139285-139490</td><td> 7.02410</td><td>H3K27ac </td></tr>\n",
       "\t<tr><td>chr1:137737-139544</td><td>ChIPseq_Histone</td><td>H3K36me3_ENCFF193ERO</td><td>1</td><td>chr1:139300-139473                                      </td><td> 3.45776</td><td>H3K36me3</td></tr>\n",
       "\t<tr><td>chr1:137737-139544</td><td>ChIPseq_Histone</td><td>H3K4me2_ENCFF749KLQ </td><td>3</td><td>chr1:137654-138013|chr1:138363-138566|chr1:138755-139628</td><td>11.87772</td><td>H3K4me2 </td></tr>\n",
       "</tbody>\n",
       "</table>\n"
      ],
      "text/latex": [
       "A tibble: 6 × 7\n",
       "\\begin{tabular}{lllllll}\n",
       " Peak & Annotation & Label & Count & Region & Score & Note\\\\\n",
       " <chr> & <chr> & <chr> & <int> & <chr> & <dbl> & <chr>\\\\\n",
       "\\hline\n",
       "\t chr1:16015-16477   & ChIPseq\\_Histone & H3K36me3\\_ENCFF193ERO & 1 & chr1:16092-16380                                         &  4.56269 & H3K36me3\\\\\n",
       "\t chr1:16015-16477   & ChIPseq\\_Histone & H3K36me3\\_ENCFF561OUZ & 1 & chr1:16209-16339                                         &  4.29995 & H3K36me3\\\\\n",
       "\t chr1:118518-118743 & ChIPseq\\_Histone & H3K9ac\\_ENCFF891CHI   & 1 & chr1:118435-119129                                       & 12.03536 & H3K9ac  \\\\\n",
       "\t chr1:137737-139544 & ChIPseq\\_Histone & H3K27ac\\_ENCFF544LXB  & 3 & chr1:137650-138169\\textbar{}chr1:138356-139236\\textbar{}chr1:139285-139490 &  7.02410 & H3K27ac \\\\\n",
       "\t chr1:137737-139544 & ChIPseq\\_Histone & H3K36me3\\_ENCFF193ERO & 1 & chr1:139300-139473                                       &  3.45776 & H3K36me3\\\\\n",
       "\t chr1:137737-139544 & ChIPseq\\_Histone & H3K4me2\\_ENCFF749KLQ  & 3 & chr1:137654-138013\\textbar{}chr1:138363-138566\\textbar{}chr1:138755-139628 & 11.87772 & H3K4me2 \\\\\n",
       "\\end{tabular}\n"
      ],
      "text/markdown": [
       "\n",
       "A tibble: 6 × 7\n",
       "\n",
       "| Peak &lt;chr&gt; | Annotation &lt;chr&gt; | Label &lt;chr&gt; | Count &lt;int&gt; | Region &lt;chr&gt; | Score &lt;dbl&gt; | Note &lt;chr&gt; |\n",
       "|---|---|---|---|---|---|---|\n",
       "| chr1:16015-16477   | ChIPseq_Histone | H3K36me3_ENCFF193ERO | 1 | chr1:16092-16380                                         |  4.56269 | H3K36me3 |\n",
       "| chr1:16015-16477   | ChIPseq_Histone | H3K36me3_ENCFF561OUZ | 1 | chr1:16209-16339                                         |  4.29995 | H3K36me3 |\n",
       "| chr1:118518-118743 | ChIPseq_Histone | H3K9ac_ENCFF891CHI   | 1 | chr1:118435-119129                                       | 12.03536 | H3K9ac   |\n",
       "| chr1:137737-139544 | ChIPseq_Histone | H3K27ac_ENCFF544LXB  | 3 | chr1:137650-138169|chr1:138356-139236|chr1:139285-139490 |  7.02410 | H3K27ac  |\n",
       "| chr1:137737-139544 | ChIPseq_Histone | H3K36me3_ENCFF193ERO | 1 | chr1:139300-139473                                       |  3.45776 | H3K36me3 |\n",
       "| chr1:137737-139544 | ChIPseq_Histone | H3K4me2_ENCFF749KLQ  | 3 | chr1:137654-138013|chr1:138363-138566|chr1:138755-139628 | 11.87772 | H3K4me2  |\n",
       "\n"
      ],
      "text/plain": [
       "  Peak               Annotation      Label                Count\n",
       "1 chr1:16015-16477   ChIPseq_Histone H3K36me3_ENCFF193ERO 1    \n",
       "2 chr1:16015-16477   ChIPseq_Histone H3K36me3_ENCFF561OUZ 1    \n",
       "3 chr1:118518-118743 ChIPseq_Histone H3K9ac_ENCFF891CHI   1    \n",
       "4 chr1:137737-139544 ChIPseq_Histone H3K27ac_ENCFF544LXB  3    \n",
       "5 chr1:137737-139544 ChIPseq_Histone H3K36me3_ENCFF193ERO 1    \n",
       "6 chr1:137737-139544 ChIPseq_Histone H3K4me2_ENCFF749KLQ  3    \n",
       "  Region                                                   Score    Note    \n",
       "1 chr1:16092-16380                                          4.56269 H3K36me3\n",
       "2 chr1:16209-16339                                          4.29995 H3K36me3\n",
       "3 chr1:118435-119129                                       12.03536 H3K9ac  \n",
       "4 chr1:137650-138169|chr1:138356-139236|chr1:139285-139490  7.02410 H3K27ac \n",
       "5 chr1:139300-139473                                        3.45776 H3K36me3\n",
       "6 chr1:137654-138013|chr1:138363-138566|chr1:138755-139628 11.87772 H3K4me2 "
      ]
     },
     "metadata": {},
     "output_type": "display_data"
    }
   ],
   "source": [
    "### init\n",
    "lst = lst_peak_annot_import\n",
    "dat = bind_rows(lst)\n",
    "\n",
    "### summarize\n",
    "dat = dat %>%\n",
    "    dplyr::group_by(Chrom_ATAC, Start_ATAC, End_ATAC, Peak_ATAC, Annotation, Label) %>%\n",
    "    dplyr::summarise(\n",
    "        Count  = n(), \n",
    "        Region = paste(Region, collapse=\"|\"),\n",
    "        Score  = mean(Value),\n",
    "        Note   = paste(unique(sort(Note)), collapse=\"|\"),\n",
    "        .groups = \"drop\")\n",
    "\n",
    "## arrange\n",
    "dat = dat %>% \n",
    "    dplyr::arrange(Chrom_ATAC, Start_ATAC, End_ATAC) %>%\n",
    "    dplyr::select(-Chrom_ATAC, -Start_ATAC, -End_ATAC) %>%\n",
    "    dplyr::rename(\"Peak\" = Peak_ATAC)\n",
    "\n",
    "### assign and show\n",
    "dat_peak_annot_summary = dat\n",
    "print(dim(dat))\n",
    "head(dat)"
   ]
  },
  {
   "cell_type": "markdown",
   "metadata": {},
   "source": [
    "## Explore and check results"
   ]
  },
  {
   "cell_type": "code",
   "execution_count": 11,
   "metadata": {},
   "outputs": [
    {
     "data": {
      "text/plain": [
       "\n",
       "   H2AFZ  H3K27ac H3K27me3 H3K36me3  H3K4me1  H3K4me2  H3K4me3 H3K79me2 \n",
       "   53494    32987    60860    36529    93879    42445    83241    20940 \n",
       "  H3K9ac  H3K9me1  H3K9me3 H4K20me1 \n",
       "   73762     3291     1665    12339 "
      ]
     },
     "metadata": {},
     "output_type": "display_data"
    }
   ],
   "source": [
    "dat = dat_peak_annot_summary\n",
    "table(dat$Note)"
   ]
  },
  {
   "cell_type": "code",
   "execution_count": 12,
   "metadata": {},
   "outputs": [
    {
     "data": {
      "text/plain": [
       "$H2AFZ_ENCFF213OTI\n",
       "\n",
       "    1     2     3     4     5     6 \n",
       "47314  5510   602    60     6     2 \n",
       "\n",
       "$H3K27ac_ENCFF544LXB\n",
       "\n",
       "    1     2     3     4     5 \n",
       "30050  2792   134     8     3 \n",
       "\n",
       "$H3K27me3_ENCFF323WOT\n",
       "\n",
       "    1     2     3     4     5 \n",
       "16757  2067   309    42     6 \n",
       "\n",
       "$H3K27me3_ENCFF801AHF\n",
       "\n",
       "    1     2     3     4 \n",
       "40750   891    36     2 \n",
       "\n",
       "$H3K36me3_ENCFF193ERO\n",
       "\n",
       "    1     2     3     4 \n",
       "24152   813    74     7 \n",
       "\n",
       "$H3K36me3_ENCFF561OUZ\n",
       "\n",
       "   1    2    3    4    5    6    7 \n",
       "9473 1587  332   73   13    3    2 \n",
       "\n",
       "$H3K4me1_ENCFF135ZLM\n",
       "\n",
       "    1     2     3     4     5 \n",
       "36657  2952   213    11     1 \n",
       "\n",
       "$H3K4me1_ENCFF540NGG\n",
       "\n",
       "    1     2     3     4     5 \n",
       "48805  4846   366    26     2 \n",
       "\n",
       "$H3K4me2_ENCFF749KLQ\n",
       "\n",
       "    1     2     3     4 \n",
       "39325  2929   179    12 \n",
       "\n",
       "$H3K4me3_ENCFF122CSI\n",
       "\n",
       "    1     2     3     4     5 \n",
       "16450  1243    52     5     1 \n",
       "\n",
       "$H3K4me3_ENCFF689QIJ\n",
       "\n",
       "    1     2     3     4     5 \n",
       "25853  2317   132    11     1 \n",
       "\n",
       "$H3K4me3_ENCFF706WUF\n",
       "\n",
       "    1     2     3     4 \n",
       "16389  2219   142    10 \n",
       "\n",
       "$H3K4me3_ENCFF885FQN\n",
       "\n",
       "    1     2     3 \n",
       "17782   622    12 \n",
       "\n",
       "$H3K79me2_ENCFF209OQD\n",
       "\n",
       "    1     2     3     4     5 \n",
       "20045   813    76     5     1 \n",
       "\n",
       "$H3K9ac_ENCFF148UQI\n",
       "\n",
       "    1     2     3     4     5     6 \n",
       "40758  7590  1047   146    23     5 \n",
       "\n",
       "$H3K9ac_ENCFF891CHI\n",
       "\n",
       "    1     2     3     4 \n",
       "22604  1516    70     3 \n",
       "\n",
       "$H3K9me1_ENCFF462AVD\n",
       "\n",
       "   1    2    3 \n",
       "3180  108    3 \n",
       "\n",
       "$H3K9me3_ENCFF963GZJ\n",
       "\n",
       "   1    2    3    5 \n",
       "1550  103   11    1 \n",
       "\n",
       "$H4K20me1_ENCFF909RKY\n",
       "\n",
       "    1     2     3     4 \n",
       "11797   509    30     3 \n"
      ]
     },
     "metadata": {},
     "output_type": "display_data"
    }
   ],
   "source": [
    "dat = dat_peak_annot_summary\n",
    "lst = split(dat, dat$Label)\n",
    "lst = lapply(lst, function(dat){\n",
    "    table(dat$Count)\n",
    "})\n",
    "lst"
   ]
  },
  {
   "cell_type": "markdown",
   "metadata": {},
   "source": [
    "## Save results"
   ]
  },
  {
   "cell_type": "code",
   "execution_count": 13,
   "metadata": {},
   "outputs": [],
   "source": [
    "fdiry = file.path(\n",
    "    FD_RES, \n",
    "    \"results\", \n",
    "    \"region\", \n",
    "    \"KS91_K562_ASTARRseq_peak_macs_input\", \n",
    "    \"summary\")\n",
    "fname = \"peak.summary.chipseq_histone.tsv\"\n",
    "fpath = file.path(fdiry, fname)\n",
    "\n",
    "dat = dat_peak_annot_summary\n",
    "write_tsv(dat, fpath)"
   ]
  },
  {
   "cell_type": "code",
   "execution_count": null,
   "metadata": {},
   "outputs": [],
   "source": []
  }
 ],
 "metadata": {
  "kernelspec": {
   "display_name": "R",
   "language": "R",
   "name": "ir"
  },
  "language_info": {
   "codemirror_mode": "r",
   "file_extension": ".r",
   "mimetype": "text/x-r-source",
   "name": "R",
   "pygments_lexer": "r",
   "version": "4.3.0"
  }
 },
 "nbformat": 4,
 "nbformat_minor": 4
}
