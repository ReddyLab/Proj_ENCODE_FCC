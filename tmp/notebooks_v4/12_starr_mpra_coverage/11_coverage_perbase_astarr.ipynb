{
 "cells": [
  {
   "cell_type": "markdown",
   "metadata": {},
   "source": [
    "## Calculate coverage perbase for input and output"
   ]
  },
  {
   "cell_type": "markdown",
   "metadata": {},
   "source": [
    "**Set environment**"
   ]
  },
  {
   "cell_type": "code",
   "execution_count": 1,
   "metadata": {},
   "outputs": [
    {
     "name": "stdout",
     "output_type": "stream",
     "text": [
      "You are on Duke Server: HARDAC\n",
      "BASE DIRECTORY (FD_BASE): /data/reddylab/Kuei\n",
      "WORK DIRECTORY (FD_WORK): /data/reddylab/Kuei/out\n",
      "CODE DIRECTORY (FD_CODE): /data/reddylab/Kuei/code\n",
      "SING DIRECTORY (FD_SING): /data/reddylab/Kuei/singularity\n",
      "PATH OF PROJECT (FD_PRJ): /data/reddylab/Kuei/code/Proj_CombEffect_ENCODE_FCC\n",
      "PATH OF RESULTS (FD_RES): /data/reddylab/Kuei/out/proj_combeffect_encode_fcc\n",
      "PATH OF LOG     (FD_LOG): /data/reddylab/Kuei/out/proj_combeffect_encode_fcc/log\n",
      "\n"
     ]
    }
   ],
   "source": [
    "source ../config/config_duke.sh\n",
    "source ../config/config_load_module_bedtools.sh\n",
    "show_env"
   ]
  },
  {
   "cell_type": "markdown",
   "metadata": {},
   "source": [
    "**Check data**"
   ]
  },
  {
   "cell_type": "code",
   "execution_count": 2,
   "metadata": {},
   "outputs": [
    {
     "name": "stdout",
     "output_type": "stream",
     "text": [
      "\u001b[0m\u001b[38;5;9mKS91_K562_ASTARRseq.Input.rep1.SUBSET.unstranded.bed.gz\u001b[0m\n",
      "\u001b[38;5;9mKS91_K562_ASTARRseq.Input.rep1.WGS.unstranded.bed.gz\u001b[0m\n",
      "\u001b[38;5;9mKS91_K562_ASTARRseq.Input.rep2.SUBSET.unstranded.bed.gz\u001b[0m\n",
      "\u001b[38;5;9mKS91_K562_ASTARRseq.Input.rep2.WGS.unstranded.bed.gz\u001b[0m\n",
      "\u001b[38;5;9mKS91_K562_ASTARRseq.Input.rep3.SUBSET.unstranded.bed.gz\u001b[0m\n",
      "\u001b[38;5;9mKS91_K562_ASTARRseq.Input.rep3.WGS.unstranded.bed.gz\u001b[0m\n",
      "\u001b[38;5;9mKS91_K562_ASTARRseq.Input.rep4.SUBSET.unstranded.bed.gz\u001b[0m\n",
      "\u001b[38;5;9mKS91_K562_ASTARRseq.Input.rep4.WGS.unstranded.bed.gz\u001b[0m\n",
      "\u001b[38;5;9mKS91_K562_ASTARRseq.Input.rep5.SUBSET.unstranded.bed.gz\u001b[0m\n",
      "\u001b[38;5;9mKS91_K562_ASTARRseq.Input.rep5.WGS.unstranded.bed.gz\u001b[0m\n",
      "\u001b[38;5;9mKS91_K562_ASTARRseq.Input.rep6.SUBSET.unstranded.bed.gz\u001b[0m\n",
      "\u001b[38;5;9mKS91_K562_ASTARRseq.Input.rep6.WGS.unstranded.bed.gz\u001b[0m\n",
      "\u001b[38;5;9mKS91_K562_ASTARRseq.Output.rep1.SUBSET.unstranded.bed.gz\u001b[0m\n",
      "\u001b[38;5;9mKS91_K562_ASTARRseq.Output.rep1.WGS.unstranded.bed.gz\u001b[0m\n",
      "\u001b[38;5;9mKS91_K562_ASTARRseq.Output.rep2.SUBSET.unstranded.bed.gz\u001b[0m\n",
      "\u001b[38;5;9mKS91_K562_ASTARRseq.Output.rep2.WGS.unstranded.bed.gz\u001b[0m\n",
      "\u001b[38;5;9mKS91_K562_ASTARRseq.Output.rep3.SUBSET.unstranded.bed.gz\u001b[0m\n",
      "\u001b[38;5;9mKS91_K562_ASTARRseq.Output.rep3.WGS.unstranded.bed.gz\u001b[0m\n",
      "\u001b[38;5;9mKS91_K562_ASTARRseq.Output.rep4.SUBSET.unstranded.bed.gz\u001b[0m\n",
      "\u001b[38;5;9mKS91_K562_ASTARRseq.Output.rep4.WGS.unstranded.bed.gz\u001b[0m\n"
     ]
    }
   ],
   "source": [
    "ASSAY=KS91_K562_ASTARRseq\n",
    "FD_INP=${FD_RES}/results/${ASSAY}/fragment_count\n",
    "ls ${FD_INP}"
   ]
  },
  {
   "cell_type": "code",
   "execution_count": 3,
   "metadata": {},
   "outputs": [
    {
     "name": "stdout",
     "output_type": "stream",
     "text": [
      "Total:  10\n",
      "KS91_K562_ASTARRseq.Input.rep1.SUBSET.unstranded.bed.gz\n",
      "KS91_K562_ASTARRseq.Input.rep2.SUBSET.unstranded.bed.gz\n",
      "KS91_K562_ASTARRseq.Input.rep3.SUBSET.unstranded.bed.gz\n",
      "KS91_K562_ASTARRseq.Input.rep4.SUBSET.unstranded.bed.gz\n",
      "KS91_K562_ASTARRseq.Input.rep5.SUBSET.unstranded.bed.gz\n",
      "KS91_K562_ASTARRseq.Input.rep6.SUBSET.unstranded.bed.gz\n",
      "KS91_K562_ASTARRseq.Output.rep1.SUBSET.unstranded.bed.gz\n",
      "KS91_K562_ASTARRseq.Output.rep2.SUBSET.unstranded.bed.gz\n",
      "KS91_K562_ASTARRseq.Output.rep3.SUBSET.unstranded.bed.gz\n",
      "KS91_K562_ASTARRseq.Output.rep4.SUBSET.unstranded.bed.gz\n"
     ]
    }
   ],
   "source": [
    "ASSAY=KS91_K562_ASTARRseq\n",
    "FD_INP=${FD_RES}/results/${ASSAY}/fragment_count\n",
    "\n",
    "FP_INPS=($(ls ${FD_INP}/*SUBSET*))\n",
    "echo \"Total:  ${#FP_INPS[@]}\"\n",
    "basename -a ${FP_INPS[@]}"
   ]
  },
  {
   "cell_type": "markdown",
   "metadata": {},
   "source": [
    "## RUN"
   ]
  },
  {
   "cell_type": "code",
   "execution_count": 4,
   "metadata": {},
   "outputs": [
    {
     "name": "stdout",
     "output_type": "stream",
     "text": [
      "Submitted batch job 29574548\n"
     ]
    }
   ],
   "source": [
    "sbatch -p ${NODE} \\\n",
    "    --exclude=dl-01 \\\n",
    "    --cpus-per-task 8 \\\n",
    "    --mem 8G \\\n",
    "    --output ${FD_LOG}/coverage_perbase_subset_ASTARR.%a.txt \\\n",
    "    --array 0-9 \\\n",
    "    <<'EOF'\n",
    "#!/bin/bash\n",
    "### set directories & global variables\n",
    "source ../config/config_duke.sh\n",
    "ASSAY=KS91_K562_ASTARRseq\n",
    "\n",
    "### print start message\n",
    "timer_start=`date +%s`\n",
    "echo \"Hostname:          \" $(hostname)\n",
    "echo \"Slurm Array Index: \" ${SLURM_ARRAY_TASK_ID}\n",
    "echo \"Time Stamp:        \" $(date +\"%m-%d-%y+%T\")\n",
    "echo\n",
    "\n",
    "### set input and output files\n",
    "FD_INP=${FD_RES}/results/${ASSAY}/fragment_count\n",
    "FD_OUT=${FD_RES}/results/${ASSAY}/coverage/track_counts\n",
    "FD_REG=${FD_RES}/results/region\n",
    "FP_REG=${FD_REG}/region_screened_selected_perbase.bed.gz\n",
    "\n",
    "FP_INPS=($(ls ${FD_INP}/*SUBSET*))\n",
    "FP_INP=${FP_INPS[${SLURM_ARRAY_TASK_ID}]}\n",
    "FN_INP=$(basename ${FP_INP})\n",
    "FN_OUT=${FN_INP}\n",
    "FP_OUT=${FD_OUT}/${FN_OUT}\n",
    "\n",
    "### show I/O file\n",
    "echo ++++++++++++++++++++++++++++++++++++++\n",
    "echo \"Input: \" ${FP_REG}\n",
    "echo\n",
    "echo \"show first few lines of file\"\n",
    "zcat ${FP_REG} | head -5\n",
    "echo\n",
    "echo ++++++++++++++++++++++++++++++++++++++\n",
    "echo \"Input: \" ${FP_INP}\n",
    "echo\n",
    "echo \"show first few lines of file\"\n",
    "zcat ${FP_INP} | head -5\n",
    "echo\n",
    "\n",
    "### execute\n",
    "bedtools map \\\n",
    "    -a ${FP_REG} \\\n",
    "    -b ${FP_INP} \\\n",
    "    -o sum \\\n",
    "| gzip -c \\\n",
    "> ${FP_OUT}\n",
    "\n",
    "### show I/O file\n",
    "echo ++++++++++++++++++++++++++++++++++++++\n",
    "echo \"Output: \" ${FP_OUT}\n",
    "echo\n",
    "echo \"show first few lines of file\"\n",
    "zcat ${FP_OUT} | head -5\n",
    "echo\n",
    "\n",
    "### print end message\n",
    "timer=`date +%s`\n",
    "runtime=$(echo \"${timer} - ${timer_start}\" | bc -l)\n",
    "echo\n",
    "echo 'Done!'\n",
    "echo \"Run Time: $(displaytime ${runtime})\"\n",
    "EOF"
   ]
  },
  {
   "cell_type": "markdown",
   "metadata": {},
   "source": [
    "## Check"
   ]
  },
  {
   "cell_type": "code",
   "execution_count": 5,
   "metadata": {},
   "outputs": [
    {
     "name": "stdout",
     "output_type": "stream",
     "text": [
      "Hostname:           x3-01-2.genome.duke.edu\n",
      "Slurm Array Index:  0\n",
      "Time Stamp:         03-15-23+13:38:24\n",
      "\n",
      "++++++++++++++++++++++++++++++++++++++\n",
      "Input:  /data/reddylab/Kuei/out/proj_combeffect_encode_fcc/results/region/region_screened_selected_perbase.bed.gz\n",
      "\n",
      "show first few lines of file\n",
      "chr11\t4000000\t4000001\n",
      "chr11\t4000001\t4000002\n",
      "chr11\t4000002\t4000003\n",
      "chr11\t4000003\t4000004\n",
      "chr11\t4000004\t4000005\n",
      "\n",
      "++++++++++++++++++++++++++++++++++++++\n",
      "Input:  /data/reddylab/Kuei/out/proj_combeffect_encode_fcc/results/KS91_K562_ASTARRseq/fragment_count/KS91_K562_ASTARRseq.Input.rep1.SUBSET.unstranded.bed.gz\n",
      "\n",
      "show first few lines of file\n",
      "chr11\t3999592\t4000108\tchr11_3999592_4000108\t1\t.\tchr11\t4000000\t6600000\tchr11:4091884-6505900\t108\n",
      "chr11\t3999629\t4000121\tchr11_3999629_4000121\t1\t.\tchr11\t4000000\t6600000\tchr11:4091884-6505900\t121\n",
      "chr11\t3999670\t4000006\tchr11_3999670_4000006\t1\t.\tchr11\t4000000\t6600000\tchr11:4091884-6505900\t6\n",
      "chr11\t3999679\t4000092\tchr11_3999679_4000092\t1\t.\tchr11\t4000000\t6600000\tchr11:4091884-6505900\t92\n",
      "chr11\t3999701\t4000025\tchr11_3999701_4000025\t1\t.\tchr11\t4000000\t6600000\tchr11:4091884-6505900\t25\n",
      "\n",
      "++++++++++++++++++++++++++++++++++++++\n",
      "Output:  /data/reddylab/Kuei/out/proj_combeffect_encode_fcc/results/KS91_K562_ASTARRseq/coverage/track_counts/KS91_K562_ASTARRseq.Input.rep1.SUBSET.unstranded.bed.gz\n",
      "\n",
      "show first few lines of file\n",
      "chr11\t4000000\t4000001\t33\n",
      "chr11\t4000001\t4000002\t32\n",
      "chr11\t4000002\t4000003\t32\n",
      "chr11\t4000003\t4000004\t32\n",
      "chr11\t4000004\t4000005\t32\n",
      "\n",
      "\n",
      "Done!\n",
      "Run Time: 4 minutes and 52 seconds\n"
     ]
    }
   ],
   "source": [
    "cat ${FD_LOG}/coverage_perbase_subset_ASTARR.0.txt"
   ]
  },
  {
   "cell_type": "code",
   "execution_count": 6,
   "metadata": {},
   "outputs": [
    {
     "name": "stdout",
     "output_type": "stream",
     "text": [
      "Hostname:           x3-04-4.genome.duke.edu\n",
      "Slurm Array Index:  9\n",
      "Time Stamp:         03-15-23+13:38:25\n",
      "\n",
      "++++++++++++++++++++++++++++++++++++++\n",
      "Input:  /data/reddylab/Kuei/out/proj_combeffect_encode_fcc/results/region/region_screened_selected_perbase.bed.gz\n",
      "\n",
      "show first few lines of file\n",
      "chr11\t4000000\t4000001\n",
      "chr11\t4000001\t4000002\n",
      "chr11\t4000002\t4000003\n",
      "chr11\t4000003\t4000004\n",
      "chr11\t4000004\t4000005\n",
      "\n",
      "++++++++++++++++++++++++++++++++++++++\n",
      "Input:  /data/reddylab/Kuei/out/proj_combeffect_encode_fcc/results/KS91_K562_ASTARRseq/fragment_count/KS91_K562_ASTARRseq.Output.rep4.SUBSET.unstranded.bed.gz\n",
      "\n",
      "show first few lines of file\n",
      "chr11\t3999534\t4000055\tchr11_3999534_4000055\t1\t.\tchr11\t4000000\t6600000\tchr11:4091884-6505900\t55\n",
      "chr11\t3999534\t4000056\tchr11_3999534_4000056\t1\t.\tchr11\t4000000\t6600000\tchr11:4091884-6505900\t56\n",
      "chr11\t3999535\t4000056\tchr11_3999535_4000056\t1\t.\tchr11\t4000000\t6600000\tchr11:4091884-6505900\t56\n",
      "chr11\t3999569\t4000150\tchr11_3999569_4000150\t1\t.\tchr11\t4000000\t6600000\tchr11:4091884-6505900\t150\n",
      "chr11\t3999569\t4000151\tchr11_3999569_4000151\t1\t.\tchr11\t4000000\t6600000\tchr11:4091884-6505900\t151\n",
      "\n",
      "++++++++++++++++++++++++++++++++++++++\n",
      "Output:  /data/reddylab/Kuei/out/proj_combeffect_encode_fcc/results/KS91_K562_ASTARRseq/coverage/track_counts/KS91_K562_ASTARRseq.Output.rep4.SUBSET.unstranded.bed.gz\n",
      "\n",
      "show first few lines of file\n",
      "chr11\t4000000\t4000001\t26\n",
      "chr11\t4000001\t4000002\t26\n",
      "chr11\t4000002\t4000003\t26\n",
      "chr11\t4000003\t4000004\t26\n",
      "chr11\t4000004\t4000005\t26\n",
      "\n",
      "\n",
      "Done!\n",
      "Run Time: 2 minutes and 47 seconds\n"
     ]
    }
   ],
   "source": [
    "cat ${FD_LOG}/coverage_perbase_subset_ASTARR.9.txt"
   ]
  },
  {
   "cell_type": "code",
   "execution_count": null,
   "metadata": {},
   "outputs": [],
   "source": []
  }
 ],
 "metadata": {
  "kernelspec": {
   "display_name": "Bash",
   "language": "bash",
   "name": "bash"
  },
  "language_info": {
   "codemirror_mode": "shell",
   "file_extension": ".sh",
   "mimetype": "text/x-sh",
   "name": "bash"
  }
 },
 "nbformat": 4,
 "nbformat_minor": 4
}
