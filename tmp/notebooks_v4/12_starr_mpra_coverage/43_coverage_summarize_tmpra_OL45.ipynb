{
 "cells": [
  {
   "cell_type": "markdown",
   "id": "4639b38c-eb27-4810-8c23-8cacdb9b0172",
   "metadata": {},
   "source": [
    "**Set environment**"
   ]
  },
  {
   "cell_type": "code",
   "execution_count": 1,
   "id": "96bd93c9-c43d-40b0-9b4f-c452e3fee11d",
   "metadata": {},
   "outputs": [
    {
     "name": "stdout",
     "output_type": "stream",
     "text": [
      "You are on Duke Server: HARDAC\n",
      "BASE DIRECTORY (FD_BASE): /data/reddylab/Kuei\n",
      "WORK DIRECTORY (FD_WORK): /data/reddylab/Kuei/out\n",
      "CODE DIRECTORY (FD_CODE): /data/reddylab/Kuei/code\n",
      "SING DIRECTORY (FD_SING): /data/reddylab/Kuei/singularity\n",
      "PATH OF PROJECT (FD_PRJ): /data/reddylab/Kuei/code/Proj_CombEffect_ENCODE_FCC\n",
      "PATH OF RESULTS (FD_RES): /data/reddylab/Kuei/out/proj_combeffect_encode_fcc\n",
      "PATH OF LOG     (FD_LOG): /data/reddylab/Kuei/out/proj_combeffect_encode_fcc/log\n",
      "\n"
     ]
    }
   ],
   "source": [
    "source ../config/config_duke.sh\n",
    "source ../config/config_load_module_bedtools.sh\n",
    "show_env"
   ]
  },
  {
   "cell_type": "markdown",
   "id": "4580eae8-3736-4d1b-8f9f-67f374c90f75",
   "metadata": {},
   "source": [
    "**Check data**"
   ]
  },
  {
   "cell_type": "code",
   "execution_count": 2,
   "id": "8c028dc6-a4d9-44bd-a0e4-e9dab5f03d22",
   "metadata": {},
   "outputs": [
    {
     "name": "stdout",
     "output_type": "stream",
     "text": [
      "OL45_20220927.hg38.raw.Input.rep1.stranded_pos.bed.gz\n",
      "OL45_20220927.hg38.raw.Input.rep2.stranded_pos.bed.gz\n",
      "OL45_20220927.hg38.raw.Input.rep3.stranded_pos.bed.gz\n",
      "OL45_20220927.hg38.raw.Input.rep4.stranded_pos.bed.gz\n"
     ]
    }
   ],
   "source": [
    "ASSAY=Tewhey_K562_TileMPRA\n",
    "PREFIX=OL45\n",
    "GROUP=Input\n",
    "ls ${FD_RES}/results/${ASSAY}/coverage/track_normalized/${PREFIX}*hg38*raw*${GROUP}*rep*bed.gz \\\n",
    "| xargs -n 1 basename"
   ]
  },
  {
   "cell_type": "code",
   "execution_count": 3,
   "id": "5c5f4041-23fa-434c-811d-67efe9297c6c",
   "metadata": {},
   "outputs": [
    {
     "name": "stdout",
     "output_type": "stream",
     "text": [
      "OL45_20220927.hg38.raw.Input.rep1.stranded_pos.bed.gz\n"
     ]
    }
   ],
   "source": [
    "ASSAY=Tewhey_K562_TileMPRA\n",
    "PREFIX=OL45\n",
    "GROUP=Input\n",
    "ls ${FD_RES}/results/${ASSAY}/coverage/track_normalized/${PREFIX}*hg38*raw*${GROUP}*rep1*bed.gz \\\n",
    "| xargs -n 1 basename"
   ]
  },
  {
   "cell_type": "markdown",
   "id": "5bc117e8-ab0a-4cf5-812b-66d390a7c2fa",
   "metadata": {},
   "source": [
    "## RUN"
   ]
  },
  {
   "cell_type": "code",
   "execution_count": 4,
   "id": "9bcedc28-cdba-4220-accc-971bc09b5cfd",
   "metadata": {},
   "outputs": [
    {
     "name": "stdout",
     "output_type": "stream",
     "text": [
      "Submitted batch job 29574762\n"
     ]
    }
   ],
   "source": [
    "sbatch -p ${NODE} \\\n",
    "    --exclude=dl-01 \\\n",
    "    --cpus-per-task 8 \\\n",
    "    --mem 20G \\\n",
    "    --output ${FD_LOG}/coverage_perbase_mean_TMPRA_OL45.%a.txt \\\n",
    "    --array 0-1 \\\n",
    "    <<'EOF'\n",
    "#!/bin/bash\n",
    "### set directories & global variables\n",
    "source ../config/config_duke.sh\n",
    "ASSAY=Tewhey_K562_TileMPRA\n",
    "PREFIX=OL45\n",
    "SAMPLE_GROUPS=(\"Input\" \"Output\")\n",
    "\n",
    "### print start message\n",
    "timer_start=`date +%s`\n",
    "echo \"Hostname:          \" $(hostname)\n",
    "echo \"Slurm Array Index: \" ${SLURM_ARRAY_TASK_ID}\n",
    "echo \"Time Stamp:        \" $(date +\"%m-%d-%y+%T\")\n",
    "echo\n",
    "\n",
    "### set input and output files\n",
    "FD_INP=${FD_RES}/results/${ASSAY}/coverage/track_normalized\n",
    "FD_OUT=${FD_RES}/results/${ASSAY}/coverage/track_normalized\n",
    "\n",
    "GROUP=${SAMPLE_GROUPS[${SLURM_ARRAY_TASK_ID}]}\n",
    "FP_INPS=($(ls ${FD_INP}/${PREFIX}*hg38*raw*${GROUP}*rep*bed.gz))\n",
    "\n",
    "FP_INP=$(ls ${FD_INP}/${PREFIX}*hg38*raw*${GROUP}*rep1*bed.gz)\n",
    "FN_INP=$(basename ${FP_INP})\n",
    "FN_OUT=${FN_INP/rep1/mean}\n",
    "FP_OUT=${FD_OUT}/${FN_OUT}\n",
    "\n",
    "### show I/O file\n",
    "echo ++++++++++++++++++++++++++++++++++++++\n",
    "for FP_INP in ${FP_INPS[@]}; do\n",
    "    echo \"Input file: \" ${FP_INP}\n",
    "    echo\n",
    "    echo \"show first few lines of file\"\n",
    "    zcat ${FP_INP} | head -10\n",
    "    echo\n",
    "done\n",
    "\n",
    "### execute\n",
    "bedtools unionbedg -i ${FP_INPS[@]} \\\n",
    "| awk '{\n",
    "    sum = 0; \n",
    "    for (col = 4; col <= NF; col++) {\n",
    "       sum += $col; \n",
    "    }\n",
    "    mean = sum / (NF-4+1);\n",
    "    print $1 \"\\t\" $2 \"\\t\" $3 \"\\t\" mean; \n",
    "  }' \\\n",
    "| gzip -c \\\n",
    "> ${FP_OUT}\n",
    "  \n",
    "### show I/O file\n",
    "echo ++++++++++++++++++++++++++++++++++++++\n",
    "echo \"Output file: \" ${FP_OUT}\n",
    "echo\n",
    "echo \"show first few lines of file\"\n",
    "zcat ${FP_OUT} | head -10\n",
    "echo\n",
    "\n",
    "### print end message\n",
    "timer=`date +%s`\n",
    "runtime=$(echo \"${timer} - ${timer_start}\" | bc -l)\n",
    "echo\n",
    "echo 'Done!'\n",
    "echo \"Run Time: $(displaytime ${runtime})\"\n",
    "EOF"
   ]
  },
  {
   "cell_type": "markdown",
   "id": "9b79cb7e-71df-406c-8f52-5b8070fed7d4",
   "metadata": {},
   "source": [
    "## Check"
   ]
  },
  {
   "cell_type": "code",
   "execution_count": 5,
   "id": "6d0d19df-75db-4826-a7b0-b858e3710f58",
   "metadata": {},
   "outputs": [
    {
     "name": "stdout",
     "output_type": "stream",
     "text": [
      "Hostname:           x3-01-2.genome.duke.edu\n",
      "Slurm Array Index:  0\n",
      "Time Stamp:         03-15-23+15:17:25\n",
      "\n",
      "++++++++++++++++++++++++++++++++++++++\n",
      "Input file:  /data/reddylab/Kuei/out/proj_combeffect_encode_fcc/results/Tewhey_K562_TileMPRA/coverage/track_normalized/OL45_20220927.hg38.raw.Input.rep1.stranded_pos.bed.gz\n",
      "\n",
      "show first few lines of file\n",
      "chr11\t4505501\t4505502\t14.0224\n",
      "chr11\t4505502\t4505503\t14.0224\n",
      "chr11\t4505503\t4505504\t14.0224\n",
      "chr11\t4505504\t4505505\t14.0224\n",
      "chr11\t4505505\t4505506\t14.0224\n",
      "chr11\t4505506\t4505507\t14.0224\n",
      "chr11\t4505507\t4505508\t14.0224\n",
      "chr11\t4505508\t4505509\t14.0224\n",
      "chr11\t4505509\t4505510\t14.0224\n",
      "chr11\t4505510\t4505511\t14.0224\n",
      "\n",
      "Input file:  /data/reddylab/Kuei/out/proj_combeffect_encode_fcc/results/Tewhey_K562_TileMPRA/coverage/track_normalized/OL45_20220927.hg38.raw.Input.rep2.stranded_pos.bed.gz\n",
      "\n",
      "show first few lines of file\n",
      "chr11\t4505501\t4505502\t13.5239\n",
      "chr11\t4505502\t4505503\t13.5239\n",
      "chr11\t4505503\t4505504\t13.5239\n",
      "chr11\t4505504\t4505505\t13.5239\n",
      "chr11\t4505505\t4505506\t13.5239\n",
      "chr11\t4505506\t4505507\t13.5239\n",
      "chr11\t4505507\t4505508\t13.5239\n",
      "chr11\t4505508\t4505509\t13.5239\n",
      "chr11\t4505509\t4505510\t13.5239\n",
      "chr11\t4505510\t4505511\t13.5239\n",
      "\n",
      "Input file:  /data/reddylab/Kuei/out/proj_combeffect_encode_fcc/results/Tewhey_K562_TileMPRA/coverage/track_normalized/OL45_20220927.hg38.raw.Input.rep3.stranded_pos.bed.gz\n",
      "\n",
      "show first few lines of file\n",
      "chr11\t4505501\t4505502\t18.1604\n",
      "chr11\t4505502\t4505503\t18.1604\n",
      "chr11\t4505503\t4505504\t18.1604\n",
      "chr11\t4505504\t4505505\t18.1604\n",
      "chr11\t4505505\t4505506\t18.1604\n",
      "chr11\t4505506\t4505507\t18.1604\n",
      "chr11\t4505507\t4505508\t18.1604\n",
      "chr11\t4505508\t4505509\t18.1604\n",
      "chr11\t4505509\t4505510\t18.1604\n",
      "chr11\t4505510\t4505511\t18.1604\n",
      "\n",
      "Input file:  /data/reddylab/Kuei/out/proj_combeffect_encode_fcc/results/Tewhey_K562_TileMPRA/coverage/track_normalized/OL45_20220927.hg38.raw.Input.rep4.stranded_pos.bed.gz\n",
      "\n",
      "show first few lines of file\n",
      "chr11\t4505501\t4505502\t16.4161\n",
      "chr11\t4505502\t4505503\t16.4161\n",
      "chr11\t4505503\t4505504\t16.4161\n",
      "chr11\t4505504\t4505505\t16.4161\n",
      "chr11\t4505505\t4505506\t16.4161\n",
      "chr11\t4505506\t4505507\t16.4161\n",
      "chr11\t4505507\t4505508\t16.4161\n",
      "chr11\t4505508\t4505509\t16.4161\n",
      "chr11\t4505509\t4505510\t16.4161\n",
      "chr11\t4505510\t4505511\t16.4161\n",
      "\n",
      "++++++++++++++++++++++++++++++++++++++\n",
      "Output file:  /data/reddylab/Kuei/out/proj_combeffect_encode_fcc/results/Tewhey_K562_TileMPRA/coverage/track_normalized/OL45_20220927.hg38.raw.Input.mean.stranded_pos.bed.gz\n",
      "\n",
      "show first few lines of file\n",
      "chr11\t4505501\t4505502\t15.5307\n",
      "chr11\t4505502\t4505503\t15.5307\n",
      "chr11\t4505503\t4505504\t15.5307\n",
      "chr11\t4505504\t4505505\t15.5307\n",
      "chr11\t4505505\t4505506\t15.5307\n",
      "chr11\t4505506\t4505507\t15.5307\n",
      "chr11\t4505507\t4505508\t15.5307\n",
      "chr11\t4505508\t4505509\t15.5307\n",
      "chr11\t4505509\t4505510\t15.5307\n",
      "chr11\t4505510\t4505511\t15.5307\n",
      "\n",
      "\n",
      "Done!\n",
      "Run Time: 2 minutes and 37 seconds\n"
     ]
    }
   ],
   "source": [
    "cat ${FD_LOG}/coverage_perbase_mean_TMPRA_OL45.0.txt"
   ]
  },
  {
   "cell_type": "code",
   "execution_count": 6,
   "id": "bd151a3b-b8df-4e2c-b1fb-19c62e43193c",
   "metadata": {},
   "outputs": [
    {
     "name": "stdout",
     "output_type": "stream",
     "text": [
      "Hostname:           x3-01-2.genome.duke.edu\n",
      "Slurm Array Index:  1\n",
      "Time Stamp:         03-15-23+15:17:25\n",
      "\n",
      "++++++++++++++++++++++++++++++++++++++\n",
      "Input file:  /data/reddylab/Kuei/out/proj_combeffect_encode_fcc/results/Tewhey_K562_TileMPRA/coverage/track_normalized/OL45_20220927.hg38.raw.Output.rep1.stranded_pos.bed.gz\n",
      "\n",
      "show first few lines of file\n",
      "chr11\t4505501\t4505502\t8.39743\n",
      "chr11\t4505502\t4505503\t8.39743\n",
      "chr11\t4505503\t4505504\t8.39743\n",
      "chr11\t4505504\t4505505\t8.39743\n",
      "chr11\t4505505\t4505506\t8.39743\n",
      "chr11\t4505506\t4505507\t8.39743\n",
      "chr11\t4505507\t4505508\t8.39743\n",
      "chr11\t4505508\t4505509\t8.39743\n",
      "chr11\t4505509\t4505510\t8.39743\n",
      "chr11\t4505510\t4505511\t8.39743\n",
      "\n",
      "Input file:  /data/reddylab/Kuei/out/proj_combeffect_encode_fcc/results/Tewhey_K562_TileMPRA/coverage/track_normalized/OL45_20220927.hg38.raw.Output.rep2.stranded_pos.bed.gz\n",
      "\n",
      "show first few lines of file\n",
      "chr11\t4505501\t4505502\t10.3593\n",
      "chr11\t4505502\t4505503\t10.3593\n",
      "chr11\t4505503\t4505504\t10.3593\n",
      "chr11\t4505504\t4505505\t10.3593\n",
      "chr11\t4505505\t4505506\t10.3593\n",
      "chr11\t4505506\t4505507\t10.3593\n",
      "chr11\t4505507\t4505508\t10.3593\n",
      "chr11\t4505508\t4505509\t10.3593\n",
      "chr11\t4505509\t4505510\t10.3593\n",
      "chr11\t4505510\t4505511\t10.3593\n",
      "\n",
      "Input file:  /data/reddylab/Kuei/out/proj_combeffect_encode_fcc/results/Tewhey_K562_TileMPRA/coverage/track_normalized/OL45_20220927.hg38.raw.Output.rep3.stranded_pos.bed.gz\n",
      "\n",
      "show first few lines of file\n",
      "chr11\t4505501\t4505502\t10.4559\n",
      "chr11\t4505502\t4505503\t10.4559\n",
      "chr11\t4505503\t4505504\t10.4559\n",
      "chr11\t4505504\t4505505\t10.4559\n",
      "chr11\t4505505\t4505506\t10.4559\n",
      "chr11\t4505506\t4505507\t10.4559\n",
      "chr11\t4505507\t4505508\t10.4559\n",
      "chr11\t4505508\t4505509\t10.4559\n",
      "chr11\t4505509\t4505510\t10.4559\n",
      "chr11\t4505510\t4505511\t10.4559\n",
      "\n",
      "Input file:  /data/reddylab/Kuei/out/proj_combeffect_encode_fcc/results/Tewhey_K562_TileMPRA/coverage/track_normalized/OL45_20220927.hg38.raw.Output.rep4.stranded_pos.bed.gz\n",
      "\n",
      "show first few lines of file\n",
      "chr11\t4505501\t4505502\t8.2642\n",
      "chr11\t4505502\t4505503\t8.2642\n",
      "chr11\t4505503\t4505504\t8.2642\n",
      "chr11\t4505504\t4505505\t8.2642\n",
      "chr11\t4505505\t4505506\t8.2642\n",
      "chr11\t4505506\t4505507\t8.2642\n",
      "chr11\t4505507\t4505508\t8.2642\n",
      "chr11\t4505508\t4505509\t8.2642\n",
      "chr11\t4505509\t4505510\t8.2642\n",
      "chr11\t4505510\t4505511\t8.2642\n",
      "\n",
      "++++++++++++++++++++++++++++++++++++++\n",
      "Output file:  /data/reddylab/Kuei/out/proj_combeffect_encode_fcc/results/Tewhey_K562_TileMPRA/coverage/track_normalized/OL45_20220927.hg38.raw.Output.mean.stranded_pos.bed.gz\n",
      "\n",
      "show first few lines of file\n",
      "chr11\t4505501\t4505502\t9.36921\n",
      "chr11\t4505502\t4505503\t9.36921\n",
      "chr11\t4505503\t4505504\t9.36921\n",
      "chr11\t4505504\t4505505\t9.36921\n",
      "chr11\t4505505\t4505506\t9.36921\n",
      "chr11\t4505506\t4505507\t9.36921\n",
      "chr11\t4505507\t4505508\t9.36921\n",
      "chr11\t4505508\t4505509\t9.36921\n",
      "chr11\t4505509\t4505510\t9.36921\n",
      "chr11\t4505510\t4505511\t9.36921\n",
      "\n",
      "\n",
      "Done!\n",
      "Run Time: 2 minutes and 37 seconds\n"
     ]
    }
   ],
   "source": [
    "cat ${FD_LOG}/coverage_perbase_mean_TMPRA_OL45.1.txt"
   ]
  },
  {
   "cell_type": "code",
   "execution_count": null,
   "id": "1519ed43-34b2-49a8-aa00-95e7b6f0f19b",
   "metadata": {},
   "outputs": [],
   "source": []
  },
  {
   "cell_type": "code",
   "execution_count": null,
   "id": "60359915-8273-4018-bca5-438b0f21240a",
   "metadata": {},
   "outputs": [],
   "source": []
  }
 ],
 "metadata": {
  "kernelspec": {
   "display_name": "Bash",
   "language": "bash",
   "name": "bash"
  },
  "language_info": {
   "codemirror_mode": "shell",
   "file_extension": ".sh",
   "mimetype": "text/x-sh",
   "name": "bash"
  }
 },
 "nbformat": 4,
 "nbformat_minor": 5
}
