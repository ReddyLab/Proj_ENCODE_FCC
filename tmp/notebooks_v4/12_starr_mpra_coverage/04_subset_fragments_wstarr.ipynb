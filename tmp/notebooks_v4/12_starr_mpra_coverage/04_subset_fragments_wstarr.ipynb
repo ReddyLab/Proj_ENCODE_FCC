{
 "cells": [
  {
   "cell_type": "markdown",
   "id": "942baa9c-c24a-4e08-b8fd-cdc144858b7f",
   "metadata": {},
   "source": [
    "**Set environment**"
   ]
  },
  {
   "cell_type": "code",
   "execution_count": 1,
   "id": "5f29ebd2-496d-47f2-9bb4-170f4c1efdcf",
   "metadata": {},
   "outputs": [
    {
     "name": "stdout",
     "output_type": "stream",
     "text": [
      "You are on Duke Server: HARDAC\n",
      "BASE DIRECTORY (FD_BASE): /data/reddylab/Kuei\n",
      "WORK DIRECTORY (FD_WORK): /data/reddylab/Kuei/out\n",
      "CODE DIRECTORY (FD_CODE): /data/reddylab/Kuei/code\n",
      "SING DIRECTORY (FD_SING): /data/reddylab/Kuei/singularity\n",
      "PATH OF PROJECT (FD_PRJ): /data/reddylab/Kuei/code/Proj_CombEffect_ENCODE_FCC\n",
      "PATH OF RESULTS (FD_RES): /data/reddylab/Kuei/out/proj_combeffect_encode_fcc\n",
      "PATH OF LOG     (FD_LOG): /data/reddylab/Kuei/out/proj_combeffect_encode_fcc/log\n",
      "\n"
     ]
    }
   ],
   "source": [
    "### set env\n",
    "source ../config/config_duke.sh\n",
    "source ../config/config_load_module_bedtools.sh\n",
    "show_env"
   ]
  },
  {
   "cell_type": "markdown",
   "id": "d09d94c5-a713-4eb5-a2c2-cdd96d30ffe4",
   "metadata": {},
   "source": [
    "**Check data**"
   ]
  },
  {
   "cell_type": "code",
   "execution_count": 2,
   "id": "93963b4e-4dac-43b1-8e03-723062cfa1de",
   "metadata": {},
   "outputs": [
    {
     "name": "stdout",
     "output_type": "stream",
     "text": [
      "chr11       4000000     6600000     chr11:4091884-6505900\n",
      "chr11       32800000    35000000    chr11:32869701-34870100\n",
      "chr11       61700000    62000000    chr11:61787329-61898348\n",
      "chr12       54290000    54310000    chr12:54300766-54301042\n",
      "chr12       110000000   113000000   chr12:110726151-112325737\n",
      "chr16       0           1300000     chr16:10001-1173100\n",
      "chr19       12880000    12900000    chr19:12887110-12887237\n",
      "chr2        59000000    62000000    chr2:59553301-61553700\n",
      "chr20       55500000    59000000    chr20:56391301-58391700\n",
      "chr3        128475000   128512000   chr3:128487571-128487937\n",
      "chr4        55000000    56500000    chr4:55237590-56068531\n",
      "chr5        86000000    91600000    chr5:87611207-89911163\n",
      "chr6        108000000   111000000   chr6:108840570-109828800\n",
      "chr6        133000000   138000000   chr6:134253831-136927585\n",
      "chr8        122000000   136000000   chr8:126735901-128736550\n",
      "chrX        47000000    51000000    chrX:47785501-49880650\n"
     ]
    }
   ],
   "source": [
    "cat  ${FD_RES}/results/region/region_screened_selected.bed | expand -t 12"
   ]
  },
  {
   "cell_type": "code",
   "execution_count": 3,
   "id": "cd4426c8-711f-43a0-9115-ef23c9e429c4",
   "metadata": {},
   "outputs": [
    {
     "name": "stdout",
     "output_type": "stream",
     "text": [
      "7\n",
      "A001_K562_WSTARRseq.Input.rep1.WGS.unstranded.bed.gz\n",
      "A001_K562_WSTARRseq.Input.rep2.WGS.unstranded.bed.gz\n",
      "A001_K562_WSTARRseq.Input.rep3.WGS.unstranded.bed.gz\n",
      "A001_K562_WSTARRseq.Input.rep4.WGS.unstranded.bed.gz\n",
      "A001_K562_WSTARRseq.Output.rep1.WGS.unstranded.bed.gz\n",
      "A001_K562_WSTARRseq.Output.rep2.WGS.unstranded.bed.gz\n",
      "A001_K562_WSTARRseq.Output.rep3.WGS.unstranded.bed.gz\n"
     ]
    }
   ],
   "source": [
    "ASSAY=A001_K562_WSTARRseq\n",
    "FD_INP=${FD_RES}/results/${ASSAY}/fragment_count\n",
    "ls ${FD_INP}/*WGS*bed* | wc -l\n",
    "ls ${FD_INP}/*WGS*bed* | xargs -n 1 basename"
   ]
  },
  {
   "cell_type": "code",
   "execution_count": 4,
   "id": "10a203e0-dc43-422c-a3dc-5e547f86fc99",
   "metadata": {},
   "outputs": [
    {
     "name": "stdout",
     "output_type": "stream",
     "text": [
      "/data/reddylab/Kuei/out/proj_combeffect_encode_fcc/results/A001_K562_WSTARRseq/fragment_count/A001_K562_WSTARRseq.Input.rep1.WGS.unstranded.bed.gz\n",
      "\n",
      "A001_K562_WSTARRseq.Input.rep1.WGS.unstranded.bed.gz\n",
      "\n",
      "A001_K562_WSTARRseq.Input.rep1.SUBSET.unstranded.bed.gz\n"
     ]
    }
   ],
   "source": [
    "ASSAY=A001_K562_WSTARRseq\n",
    "FD_INP=${FD_RES}/results/${ASSAY}/fragment_count\n",
    "FP_INPS=($(ls ${FD_INP}/*WGS*bed*))\n",
    "FP_INP=${FP_INPS[0]}\n",
    "FN_INP=$(basename ${FP_INP})\n",
    "FN_OUT=${FN_INP/WGS/SUBSET}\n",
    "\n",
    "echo ${FP_INP}\n",
    "echo\n",
    "echo ${FN_INP}\n",
    "echo\n",
    "echo ${FN_OUT}"
   ]
  },
  {
   "cell_type": "markdown",
   "id": "eba2150d-7f4e-4338-bffc-18a61893c9bb",
   "metadata": {},
   "source": [
    "## RUN"
   ]
  },
  {
   "cell_type": "code",
   "execution_count": 39,
   "id": "b425bf6a-1356-4a4e-be9d-3610d6d43806",
   "metadata": {},
   "outputs": [
    {
     "name": "stdout",
     "output_type": "stream",
     "text": [
      "Submitted batch job 29562357\n"
     ]
    }
   ],
   "source": [
    "sbatch -p ${NODE} \\\n",
    "    --exclude=dl-01 \\\n",
    "    --cpus-per-task 8 \\\n",
    "    --mem 8G \\\n",
    "    --output ${FD_LOG}/fragments_subset_wstarr.%a.txt \\\n",
    "    --array 0-6 \\\n",
    "    <<'EOF'\n",
    "#!/bin/bash\n",
    "### set directories & global variables\n",
    "source ../config/config_duke.sh\n",
    "ASSAY=A001_K562_WSTARRseq\n",
    "\n",
    "### print start message\n",
    "timer_start=`date +%s`\n",
    "echo \"Hostname:          \" $(hostname)\n",
    "echo \"Slurm Array Index: \" ${SLURM_ARRAY_TASK_ID}\n",
    "echo \"Time Stamp:        \" $(date +\"%m-%d-%y+%T\")\n",
    "echo\n",
    "\n",
    "### set input and output\n",
    "FD_INP=${FD_RES}/results/${ASSAY}/fragment_count\n",
    "FP_INPS=($(ls ${FD_INP}/*WGS*bed*))\n",
    "FP_INP=${FP_INPS[${SLURM_ARRAY_TASK_ID}]}\n",
    "FN_INP=$(basename ${FP_INP})\n",
    "\n",
    "FD_OUT=${FD_RES}/results/${ASSAY}/fragment_count\n",
    "FN_OUT=${FN_INP/WGS/SUBSET}\n",
    "FP_OUT=${FD_OUT}/${FN_OUT}\n",
    "\n",
    "FD_REG=${FD_RES}/results/region\n",
    "FN_REG=region_screened_selected.bed\n",
    "FP_REG=${FD_REG}/${FN_REG}\n",
    "\n",
    "### show I/O file\n",
    "echo \"Input: \" ${FP_INP}\n",
    "echo\n",
    "echo \"show first few lines of the file\"\n",
    "zcat ${FP_INP} | head -5\n",
    "echo\n",
    "echo \"Input: \" ${FP_REG}\n",
    "echo\n",
    "echo \"show lines of the file\"\n",
    "cat ${FP_REG}\n",
    "echo\n",
    "\n",
    "### annotation using intersect\n",
    "bedtools intersect -a ${FP_INP} -b ${FP_REG} -wo | gzip -c > ${FP_OUT}\n",
    "\n",
    "### show output file\n",
    "echo\n",
    "echo \"Output: \" ${FP_OUT}\n",
    "echo\n",
    "echo \"show first few lines of the file:\"\n",
    "zcat ${FP_OUT} | head -5\n",
    "echo\n",
    "\n",
    "### print end message\n",
    "timer=`date +%s`\n",
    "runtime=$(echo \"${timer} - ${timer_start}\" | bc -l)\n",
    "echo\n",
    "echo 'Done!'\n",
    "echo \"Run Time: $(displaytime ${runtime})\"\n",
    "\n",
    "EOF"
   ]
  },
  {
   "cell_type": "markdown",
   "id": "1380d0ba-c4d6-46e2-9150-eee2d05f1152",
   "metadata": {},
   "source": [
    "## Check"
   ]
  },
  {
   "cell_type": "code",
   "execution_count": 40,
   "id": "6e1aeee5-198e-49d9-ada9-115d6d488bf3",
   "metadata": {},
   "outputs": [
    {
     "name": "stdout",
     "output_type": "stream",
     "text": [
      "Hostname:           x3-05-1.genome.duke.edu\n",
      "Slurm Array Index:  0\n",
      "Time Stamp:         03-12-23+22:56:34\n",
      "\n",
      "Input:  /data/reddylab/Kuei/out/proj_combeffect_encode_fcc/results/A001_K562_WSTARRseq/fragment_count/A001_K562_WSTARRseq.Input.rep1.WGS.unstranded.bed.gz\n",
      "\n",
      "show first few lines of the file\n",
      "chr1\t10335\t10549\tchr1_10335_10549\t1\t.\n",
      "chr1\t16983\t17500\tchr1_16983_17500\t1\t.\n",
      "chr1\t16985\t17499\tchr1_16985_17499\t1\t.\n",
      "chr1\t17004\t17500\tchr1_17004_17500\t1\t.\n",
      "chr1\t17483\t17898\tchr1_17483_17898\t1\t.\n",
      "\n",
      "Input:  /data/reddylab/Kuei/out/proj_combeffect_encode_fcc/results/region/region_screened_selected.bed\n",
      "\n",
      "show lines of the file\n",
      "chr11\t4000000\t6600000\tchr11:4091884-6505900\n",
      "chr11\t32800000\t35000000\tchr11:32869701-34870100\n",
      "chr11\t61700000\t62000000\tchr11:61787329-61898348\n",
      "chr12\t54290000\t54310000\tchr12:54300766-54301042\n",
      "chr12\t110000000\t113000000\tchr12:110726151-112325737\n",
      "chr16\t0\t1300000\tchr16:10001-1173100\n",
      "chr19\t12880000\t12900000\tchr19:12887110-12887237\n",
      "chr2\t59000000\t62000000\tchr2:59553301-61553700\n",
      "chr20\t55500000\t59000000\tchr20:56391301-58391700\n",
      "chr3\t128475000\t128512000\tchr3:128487571-128487937\n",
      "chr4\t55000000\t56500000\tchr4:55237590-56068531\n",
      "chr5\t86000000\t91600000\tchr5:87611207-89911163\n",
      "chr6\t108000000\t111000000\tchr6:108840570-109828800\n",
      "chr6\t133000000\t138000000\tchr6:134253831-136927585\n",
      "chr8\t122000000\t136000000\tchr8:126735901-128736550\n",
      "chrX\t47000000\t51000000\tchrX:47785501-49880650\n",
      "\n",
      "\n",
      "Output:  /data/reddylab/Kuei/out/proj_combeffect_encode_fcc/results/A001_K562_WSTARRseq/fragment_count/A001_K562_WSTARRseq.Input.rep1.SUBSET.unstranded.bed.gz\n",
      "\n",
      "show first few lines of the file:\n",
      "chr11\t3999435\t4000079\tchr11_3999435_4000079\t1\t.\tchr11\t4000000\t6600000\tchr11:4091884-6505900\t79\n",
      "chr11\t3999566\t4000061\tchr11_3999566_4000061\t1\t.\tchr11\t4000000\t6600000\tchr11:4091884-6505900\t61\n",
      "chr11\t3999631\t4000124\tchr11_3999631_4000124\t1\t.\tchr11\t4000000\t6600000\tchr11:4091884-6505900\t124\n",
      "chr11\t3999851\t4000369\tchr11_3999851_4000369\t1\t.\tchr11\t4000000\t6600000\tchr11:4091884-6505900\t369\n",
      "chr11\t3999992\t4000110\tchr11_3999992_4000110\t1\t.\tchr11\t4000000\t6600000\tchr11:4091884-6505900\t110\n",
      "\n",
      "\n",
      "Done!\n",
      "Run Time: 26 seconds\n"
     ]
    }
   ],
   "source": [
    "cat ${FD_LOG}/fragments_subset_wstarr.0.txt"
   ]
  },
  {
   "cell_type": "code",
   "execution_count": 41,
   "id": "397b60c9-ac50-4950-98d2-2a110926db71",
   "metadata": {},
   "outputs": [
    {
     "name": "stdout",
     "output_type": "stream",
     "text": [
      "Hostname:           x3-01-1.genome.duke.edu\n",
      "Slurm Array Index:  2\n",
      "Time Stamp:         03-12-23+22:56:34\n",
      "\n",
      "Input:  /data/reddylab/Kuei/out/proj_combeffect_encode_fcc/results/A001_K562_WSTARRseq/fragment_count/A001_K562_WSTARRseq.Input.rep3.WGS.unstranded.bed.gz\n",
      "\n",
      "show first few lines of the file\n",
      "chr1\t10247\t10299\tchr1_10247_10299\t1\t.\n",
      "chr1\t14684\t15184\tchr1_14684_15184\t1\t.\n",
      "chr1\t14690\t15158\tchr1_14690_15158\t1\t.\n",
      "chr1\t14933\t15190\tchr1_14933_15190\t1\t.\n",
      "chr1\t15143\t15820\tchr1_15143_15820\t1\t.\n",
      "\n",
      "Input:  /data/reddylab/Kuei/out/proj_combeffect_encode_fcc/results/region/region_screened_selected.bed\n",
      "\n",
      "show lines of the file\n",
      "chr11\t4000000\t6600000\tchr11:4091884-6505900\n",
      "chr11\t32800000\t35000000\tchr11:32869701-34870100\n",
      "chr11\t61700000\t62000000\tchr11:61787329-61898348\n",
      "chr12\t54290000\t54310000\tchr12:54300766-54301042\n",
      "chr12\t110000000\t113000000\tchr12:110726151-112325737\n",
      "chr16\t0\t1300000\tchr16:10001-1173100\n",
      "chr19\t12880000\t12900000\tchr19:12887110-12887237\n",
      "chr2\t59000000\t62000000\tchr2:59553301-61553700\n",
      "chr20\t55500000\t59000000\tchr20:56391301-58391700\n",
      "chr3\t128475000\t128512000\tchr3:128487571-128487937\n",
      "chr4\t55000000\t56500000\tchr4:55237590-56068531\n",
      "chr5\t86000000\t91600000\tchr5:87611207-89911163\n",
      "chr6\t108000000\t111000000\tchr6:108840570-109828800\n",
      "chr6\t133000000\t138000000\tchr6:134253831-136927585\n",
      "chr8\t122000000\t136000000\tchr8:126735901-128736550\n",
      "chrX\t47000000\t51000000\tchrX:47785501-49880650\n",
      "\n",
      "\n",
      "Output:  /data/reddylab/Kuei/out/proj_combeffect_encode_fcc/results/A001_K562_WSTARRseq/fragment_count/A001_K562_WSTARRseq.Input.rep3.SUBSET.unstranded.bed.gz\n",
      "\n",
      "show first few lines of the file:\n",
      "chr11\t3999483\t4000047\tchr11_3999483_4000047\t1\t.\tchr11\t4000000\t6600000\tchr11:4091884-6505900\t47\n",
      "chr11\t3999522\t4000202\tchr11_3999522_4000202\t1\t.\tchr11\t4000000\t6600000\tchr11:4091884-6505900\t202\n",
      "chr11\t3999563\t4000064\tchr11_3999563_4000064\t1\t.\tchr11\t4000000\t6600000\tchr11:4091884-6505900\t64\n",
      "chr11\t3999567\t4000216\tchr11_3999567_4000216\t1\t.\tchr11\t4000000\t6600000\tchr11:4091884-6505900\t216\n",
      "chr11\t3999609\t4000061\tchr11_3999609_4000061\t1\t.\tchr11\t4000000\t6600000\tchr11:4091884-6505900\t61\n",
      "\n",
      "\n",
      "Done!\n",
      "Run Time: 1 minutes and 33 seconds\n"
     ]
    }
   ],
   "source": [
    "cat ${FD_LOG}/fragments_subset_wstarr.2.txt"
   ]
  },
  {
   "cell_type": "code",
   "execution_count": 42,
   "id": "6c6876b7-d2d4-4545-ad28-832b9b4d95cf",
   "metadata": {},
   "outputs": [
    {
     "name": "stdout",
     "output_type": "stream",
     "text": [
      "Hostname:           x3-01-2.genome.duke.edu\n",
      "Slurm Array Index:  6\n",
      "Time Stamp:         03-12-23+22:56:34\n",
      "\n",
      "Input:  /data/reddylab/Kuei/out/proj_combeffect_encode_fcc/results/A001_K562_WSTARRseq/fragment_count/A001_K562_WSTARRseq.Output.rep3.WGS.unstranded.bed.gz\n",
      "\n",
      "show first few lines of the file\n",
      "chr1\t10537\t11067\tchr1_10537_11067\t1\t.\n",
      "chr1\t14408\t14799\tchr1_14408_14799\t1\t.\n",
      "chr1\t14498\t14937\tchr1_14498_14937\t1\t.\n",
      "chr1\t14676\t15184\tchr1_14676_15184\t1\t.\n",
      "chr1\t14684\t15162\tchr1_14684_15162\t1\t.\n",
      "\n",
      "Input:  /data/reddylab/Kuei/out/proj_combeffect_encode_fcc/results/region/region_screened_selected.bed\n",
      "\n",
      "show lines of the file\n",
      "chr11\t4000000\t6600000\tchr11:4091884-6505900\n",
      "chr11\t32800000\t35000000\tchr11:32869701-34870100\n",
      "chr11\t61700000\t62000000\tchr11:61787329-61898348\n",
      "chr12\t54290000\t54310000\tchr12:54300766-54301042\n",
      "chr12\t110000000\t113000000\tchr12:110726151-112325737\n",
      "chr16\t0\t1300000\tchr16:10001-1173100\n",
      "chr19\t12880000\t12900000\tchr19:12887110-12887237\n",
      "chr2\t59000000\t62000000\tchr2:59553301-61553700\n",
      "chr20\t55500000\t59000000\tchr20:56391301-58391700\n",
      "chr3\t128475000\t128512000\tchr3:128487571-128487937\n",
      "chr4\t55000000\t56500000\tchr4:55237590-56068531\n",
      "chr5\t86000000\t91600000\tchr5:87611207-89911163\n",
      "chr6\t108000000\t111000000\tchr6:108840570-109828800\n",
      "chr6\t133000000\t138000000\tchr6:134253831-136927585\n",
      "chr8\t122000000\t136000000\tchr8:126735901-128736550\n",
      "chrX\t47000000\t51000000\tchrX:47785501-49880650\n",
      "\n",
      "\n",
      "Output:  /data/reddylab/Kuei/out/proj_combeffect_encode_fcc/results/A001_K562_WSTARRseq/fragment_count/A001_K562_WSTARRseq.Output.rep3.SUBSET.unstranded.bed.gz\n",
      "\n",
      "show first few lines of the file:\n",
      "chr11\t3999381\t4000166\tchr11_3999381_4000166\t1\t.\tchr11\t4000000\t6600000\tchr11:4091884-6505900\t166\n",
      "chr11\t3999386\t4000021\tchr11_3999386_4000021\t1\t.\tchr11\t4000000\t6600000\tchr11:4091884-6505900\t21\n",
      "chr11\t3999392\t4000028\tchr11_3999392_4000028\t1\t.\tchr11\t4000000\t6600000\tchr11:4091884-6505900\t28\n",
      "chr11\t3999435\t4000079\tchr11_3999435_4000079\t1\t.\tchr11\t4000000\t6600000\tchr11:4091884-6505900\t79\n",
      "chr11\t3999463\t4000084\tchr11_3999463_4000084\t1\t.\tchr11\t4000000\t6600000\tchr11:4091884-6505900\t84\n",
      "\n",
      "\n",
      "Done!\n",
      "Run Time: 4 minutes and 56 seconds\n"
     ]
    }
   ],
   "source": [
    "cat ${FD_LOG}/fragments_subset_wstarr.6.txt"
   ]
  },
  {
   "cell_type": "code",
   "execution_count": null,
   "id": "8558cab1-045d-4277-a6f4-39fbdd379600",
   "metadata": {},
   "outputs": [],
   "source": []
  },
  {
   "cell_type": "code",
   "execution_count": null,
   "id": "3674118c-5585-4d1a-b45b-1ceae466e9c8",
   "metadata": {},
   "outputs": [],
   "source": []
  },
  {
   "cell_type": "code",
   "execution_count": null,
   "id": "48e36644-4b08-4aee-8472-e4f108ed0803",
   "metadata": {},
   "outputs": [],
   "source": []
  },
  {
   "cell_type": "code",
   "execution_count": null,
   "id": "88354929-a814-44ee-b47f-f49e007578f3",
   "metadata": {},
   "outputs": [],
   "source": []
  },
  {
   "cell_type": "code",
   "execution_count": null,
   "id": "d684e895-96f1-41fe-b81a-54bfff957d69",
   "metadata": {},
   "outputs": [],
   "source": []
  },
  {
   "cell_type": "code",
   "execution_count": 11,
   "id": "0853763d-d3c6-4de6-8fca-b3bc77776684",
   "metadata": {},
   "outputs": [
    {
     "name": "stdout",
     "output_type": "stream",
     "text": [
      "\n",
      "gzip: /data/reddylab/Kuei/out/proj_combeffect_encode_fcc/results/A001_K562_WSTARRseq/fragment_count/A001_K562_WSTARRseq.Output.rep3.WGS.unstranded.bed.gz: unexpected end of file\n",
      "chr10\t99423542\t99423"
     ]
    }
   ],
   "source": [
    "FPATH=/data/reddylab/Kuei/out/proj_combeffect_encode_fcc/results/A001_K562_WSTARRseq/fragment_count/A001_K562_WSTARRseq.Output.rep3.WGS.unstranded.bed.gz\n",
    "zcat ${FPATH} | head -n 38522889 | tail -n 1"
   ]
  },
  {
   "cell_type": "code",
   "execution_count": 13,
   "id": "78c306eb-8181-4f94-af9e-b1de98a7e269",
   "metadata": {},
   "outputs": [
    {
     "name": "stdout",
     "output_type": "stream",
     "text": [
      "\n",
      "gzip: /data/reddylab/Kuei/out/proj_combeffect_encode_fcc/results/A001_K562_WSTARRseq/fragment_count/A001_K562_WSTARRseq.Output.rep3.WGS.unstranded.bed.gz: unexpected end of file\n"
     ]
    }
   ],
   "source": [
    "FPATH=/data/reddylab/Kuei/out/proj_combeffect_encode_fcc/results/A001_K562_WSTARRseq/fragment_count/A001_K562_WSTARRseq.Output.rep3.WGS.unstranded.bed.gz\n",
    "zcat ${FPATH} | head -n 38522900 > test.txt"
   ]
  },
  {
   "cell_type": "code",
   "execution_count": 14,
   "id": "7a68d9f8-7928-4f59-9576-6633fd6dfd8c",
   "metadata": {},
   "outputs": [
    {
     "name": "stdout",
     "output_type": "stream",
     "text": [
      "chr10\t99423331\t99423712\tchr10_99423331_99423712\t1\t.\n",
      "chr10\t99423334\t99423604\tchr10_99423334_99423604\t1\t.\n",
      "chr10\t99423345\t99423850\tchr10_99423345_99423850\t1\t.\n",
      "chr10\t99423355\t99423576\tchr10_99423355_99423576\t1\t.\n",
      "chr10\t99423363\t99423729\tchr10_99423363_99423729\t1\t.\n",
      "chr10\t99423371\t99423632\tchr10_99423371_99423632\t1\t.\n",
      "chr10\t99423388\t99423526\tchr10_99423388_99423526\t1\t.\n",
      "chr10\t99423415\t99423860\tchr10_99423415_99423860\t1\t.\n",
      "chr10\t99423418\t99423880\tchr10_99423418_99423880\t1\t.\n",
      "chr10\t99423419\t99423996\tchr10_99423419_99423996\t1\t.\n",
      "chr10\t99423425\t99423766\tchr10_99423425_99423766\t1\t.\n",
      "chr10\t99423430\t99423807\tchr10_99423430_99423807\t1\t.\n",
      "chr10\t99423444\t99423932\tchr10_99423444_99423932\t1\t.\n",
      "chr10\t99423448\t99423947\tchr10_99423448_99423947\t1\t.\n",
      "chr10\t99423495\t99423995\tchr10_99423495_99423995\t1\t.\n",
      "chr10\t99423503\t99423936\tchr10_99423503_99423936\t1\t.\n",
      "chr10\t99423512\t99424033\tchr10_99423512_99424033\t1\t.\n",
      "chr10\t99423532\t99423907\tchr10_99423532_99423907\t1\t.\n",
      "chr10\t99423537\t99423921\tchr10_99423537_99423921\t1\t.\n",
      "chr10\t99423542\t99423"
     ]
    }
   ],
   "source": [
    "cat test.txt | tail -n 20"
   ]
  },
  {
   "cell_type": "code",
   "execution_count": 19,
   "id": "168451d4-24dd-40c6-b50b-b6d0944a71ac",
   "metadata": {},
   "outputs": [
    {
     "name": "stdout",
     "output_type": "stream",
     "text": [
      "\n",
      "gzip: /data/reddylab/Kuei/out/proj_combeffect_encode_fcc/results/A001_K562_WSTARRseq/fragment_count/A001_K562_WSTARRseq.Output.rep3.WGS.unstranded.bed.gz: unexpected end of file\n",
      "38522888\n"
     ]
    }
   ],
   "source": [
    "FPATH=/data/reddylab/Kuei/out/proj_combeffect_encode_fcc/results/A001_K562_WSTARRseq/fragment_count/A001_K562_WSTARRseq.Output.rep3.WGS.unstranded.bed.gz\n",
    "zcat ${FPATH} | wc -l"
   ]
  },
  {
   "cell_type": "code",
   "execution_count": 25,
   "id": "b09e3b31-31e9-4d39-9960-266426d3c71c",
   "metadata": {},
   "outputs": [
    {
     "name": "stdout",
     "output_type": "stream",
     "text": [
      "\u001b[0m\u001b[38;5;9mA001-input-K562-rep1.masked.dedup.fragments.counts.txt.gz\u001b[0m\n",
      "\u001b[38;5;9mA001-input-K562-rep2.masked.dedup.fragments.counts.txt.gz\u001b[0m\n",
      "\u001b[38;5;9mA001-input-K562-rep3.masked.dedup.fragments.counts.txt.gz\u001b[0m\n",
      "\u001b[38;5;9mA001-input-K562-rep4.masked.dedup.fragments.counts.txt.gz\u001b[0m\n",
      "\u001b[38;5;9mA001-K562-rep1.masked.dedup.fragments.counts.txt.gz\u001b[0m\n",
      "\u001b[38;5;9mA001-K562-rep2.masked.dedup.fragments.counts.txt.gz\u001b[0m\n",
      "\u001b[38;5;9mA001-K562-rep3.masked.dedup.fragments.counts.txt.gz\u001b[0m\n"
     ]
    }
   ],
   "source": [
    "FPATH=/data/reddylab/Kuei/out/proj_combeffect_encode_fcc/source/A001_K562_wstarrseq_fragments_wgs\n",
    "ls ${FPATH}"
   ]
  },
  {
   "cell_type": "code",
   "execution_count": 26,
   "id": "71355849-c8ef-48d8-a09d-0b1c9324d2e5",
   "metadata": {},
   "outputs": [
    {
     "name": "stdout",
     "output_type": "stream",
     "text": [
      "\n",
      "gzip: /data/reddylab/Kuei/out/proj_combeffect_encode_fcc/source/A001_K562_wstarrseq_fragments_wgs/A001-K562-rep3.masked.dedup.fragments.counts.txt.gz: unexpected end of file\n",
      "38522888\n"
     ]
    }
   ],
   "source": [
    "FPATH=/data/reddylab/Kuei/out/proj_combeffect_encode_fcc/source/A001_K562_wstarrseq_fragments_wgs/A001-K562-rep3.masked.dedup.fragments.counts.txt.gz\n",
    "zcat ${FPATH} | wc -l"
   ]
  },
  {
   "cell_type": "code",
   "execution_count": 27,
   "id": "372e1746-8014-4be8-a89a-fc4a0ff39210",
   "metadata": {},
   "outputs": [
    {
     "name": "stdout",
     "output_type": "stream",
     "text": [
      "bash: A001-K562-rep3.masked.dedup.fragments.counts.txt.gz: command not found\n",
      "328185275\n"
     ]
    }
   ],
   "source": [
    "FPATH=/data/reddylab/Alex/encode4_duke/data/starr_seq/fragments/A001-K562-rep3.masked.dedup.fragments.counts.txt.gz\n",
    "zcat ${FPATH} | wc -l"
   ]
  },
  {
   "cell_type": "code",
   "execution_count": null,
   "id": "1fd0304e-be3d-4b2a-ad9f-188033e1cfc0",
   "metadata": {},
   "outputs": [],
   "source": [
    "ls /data/reddylab/Alex/encode4_duke/data/starr_seq/fragments"
   ]
  },
  {
   "cell_type": "code",
   "execution_count": null,
   "id": "cc276a15-6d6c-4b3d-b4a3-a36e717856b5",
   "metadata": {},
   "outputs": [],
   "source": []
  },
  {
   "cell_type": "code",
   "execution_count": 38,
   "id": "0925940d-2fc9-4b8c-b7d3-4975b7398a18",
   "metadata": {},
   "outputs": [
    {
     "name": "stdout",
     "output_type": "stream",
     "text": [
      "A001-input-K562-rep1.masked.dedup.fragments.counts.txt.gz\n",
      "26908970\n",
      "\n",
      "A001-input-K562-rep2.masked.dedup.fragments.counts.txt.gz\n",
      "99899775\n",
      "\n",
      "A001-input-K562-rep3.masked.dedup.fragments.counts.txt.gz\n",
      "105623984\n",
      "\n",
      "A001-input-K562-rep4.masked.dedup.fragments.counts.txt.gz\n",
      "108635002\n",
      "\n",
      "A001-K562-rep1.masked.dedup.fragments.counts.txt.gz\n",
      "160349140\n",
      "\n",
      "A001-K562-rep2.masked.dedup.fragments.counts.txt.gz\n",
      "157326312\n",
      "\n",
      "A001-K562-rep3.masked.dedup.fragments.counts.txt.gz\n",
      "\n",
      "gzip: /data/reddylab/Kuei/out/proj_combeffect_encode_fcc/source/A001_K562_wstarrseq_fragments_wgs/A001-K562-rep3.masked.dedup.fragments.counts.txt.gz: unexpected end of file\n",
      "38522888\n",
      "\n"
     ]
    }
   ],
   "source": [
    "FDIRY=/data/reddylab/Kuei/out/proj_combeffect_encode_fcc/source/A001_K562_wstarrseq_fragments_wgs\n",
    "FPATHS=($(ls ${FDIRY}/*gz))\n",
    "for FPATH in ${FPATHS[@]}; do\n",
    "    FNAME=$(basename ${FPATH})\n",
    "    echo ${FNAME}\n",
    "    zcat ${FPATH} | wc -l \n",
    "    echo\n",
    "done"
   ]
  },
  {
   "cell_type": "code",
   "execution_count": null,
   "id": "eb2ccfaa-47bb-4b63-91e4-993e088936f6",
   "metadata": {},
   "outputs": [],
   "source": [
    "FDIRY=/data/reddylab/Kuei/out/proj_combeffect_encode_fcc/source/A001_K562_wstarrseq_fragments_wgs\n",
    "FPATHS=($(ls ${FDIRY}/*gz))\n",
    "for FPATH in ${FPATHS[@]}; do\n",
    "    FNAME=$(basename ${FPATH})\n",
    "    echo ${FNAME}\n",
    "    zcat ${FPATH} | wc -l \n",
    "    echo\n",
    "done"
   ]
  }
 ],
 "metadata": {
  "kernelspec": {
   "display_name": "Bash",
   "language": "bash",
   "name": "bash"
  },
  "language_info": {
   "codemirror_mode": "shell",
   "file_extension": ".sh",
   "mimetype": "text/x-sh",
   "name": "bash"
  }
 },
 "nbformat": 4,
 "nbformat_minor": 5
}
