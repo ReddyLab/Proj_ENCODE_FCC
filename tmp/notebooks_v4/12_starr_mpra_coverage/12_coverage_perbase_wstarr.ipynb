{
 "cells": [
  {
   "cell_type": "markdown",
   "metadata": {},
   "source": [
    "## Calculate coverage perbase for input and output"
   ]
  },
  {
   "cell_type": "markdown",
   "metadata": {},
   "source": [
    "**Set environment**"
   ]
  },
  {
   "cell_type": "code",
   "execution_count": 1,
   "metadata": {},
   "outputs": [
    {
     "name": "stdout",
     "output_type": "stream",
     "text": [
      "You are on Duke Server: HARDAC\n",
      "BASE DIRECTORY (FD_BASE): /data/reddylab/Kuei\n",
      "WORK DIRECTORY (FD_WORK): /data/reddylab/Kuei/out\n",
      "CODE DIRECTORY (FD_CODE): /data/reddylab/Kuei/code\n",
      "SING DIRECTORY (FD_SING): /data/reddylab/Kuei/singularity\n",
      "PATH OF PROJECT (FD_PRJ): /data/reddylab/Kuei/code/Proj_CombEffect_ENCODE_FCC\n",
      "PATH OF RESULTS (FD_RES): /data/reddylab/Kuei/out/proj_combeffect_encode_fcc\n",
      "PATH OF LOG     (FD_LOG): /data/reddylab/Kuei/out/proj_combeffect_encode_fcc/log\n",
      "\n"
     ]
    }
   ],
   "source": [
    "source ../config/config_duke.sh\n",
    "source ../config/config_load_module_bedtools.sh\n",
    "show_env"
   ]
  },
  {
   "cell_type": "markdown",
   "metadata": {},
   "source": [
    "**Check data**"
   ]
  },
  {
   "cell_type": "code",
   "execution_count": 2,
   "metadata": {},
   "outputs": [
    {
     "name": "stdout",
     "output_type": "stream",
     "text": [
      "\u001b[0m\u001b[38;5;9mA001_K562_WSTARRseq.Input.rep1.SUBSET.unstranded.bed.gz\u001b[0m\n",
      "\u001b[38;5;9mA001_K562_WSTARRseq.Input.rep1.WGS.unstranded.bed.gz\u001b[0m\n",
      "\u001b[38;5;9mA001_K562_WSTARRseq.Input.rep2.SUBSET.unstranded.bed.gz\u001b[0m\n",
      "\u001b[38;5;9mA001_K562_WSTARRseq.Input.rep2.WGS.unstranded.bed.gz\u001b[0m\n",
      "\u001b[38;5;9mA001_K562_WSTARRseq.Input.rep3.SUBSET.unstranded.bed.gz\u001b[0m\n",
      "\u001b[38;5;9mA001_K562_WSTARRseq.Input.rep3.WGS.unstranded.bed.gz\u001b[0m\n",
      "\u001b[38;5;9mA001_K562_WSTARRseq.Input.rep4.SUBSET.unstranded.bed.gz\u001b[0m\n",
      "\u001b[38;5;9mA001_K562_WSTARRseq.Input.rep4.WGS.unstranded.bed.gz\u001b[0m\n",
      "\u001b[38;5;9mA001_K562_WSTARRseq.Output.rep1.SUBSET.unstranded.bed.gz\u001b[0m\n",
      "\u001b[38;5;9mA001_K562_WSTARRseq.Output.rep1.WGS.unstranded.bed.gz\u001b[0m\n",
      "\u001b[38;5;9mA001_K562_WSTARRseq.Output.rep2.SUBSET.unstranded.bed.gz\u001b[0m\n",
      "\u001b[38;5;9mA001_K562_WSTARRseq.Output.rep2.WGS.unstranded.bed.gz\u001b[0m\n",
      "\u001b[38;5;9mA001_K562_WSTARRseq.Output.rep3.SUBSET.unstranded.bed.gz\u001b[0m\n",
      "\u001b[38;5;9mA001_K562_WSTARRseq.Output.rep3.WGS.unstranded.bed.gz\u001b[0m\n"
     ]
    }
   ],
   "source": [
    "ASSAY=A001_K562_WSTARRseq\n",
    "FD_INP=${FD_RES}/results/${ASSAY}/fragment_count\n",
    "ls ${FD_INP}"
   ]
  },
  {
   "cell_type": "code",
   "execution_count": 3,
   "metadata": {},
   "outputs": [
    {
     "name": "stdout",
     "output_type": "stream",
     "text": [
      "Total:  7\n",
      "A001_K562_WSTARRseq.Input.rep1.SUBSET.unstranded.bed.gz\n",
      "A001_K562_WSTARRseq.Input.rep2.SUBSET.unstranded.bed.gz\n",
      "A001_K562_WSTARRseq.Input.rep3.SUBSET.unstranded.bed.gz\n",
      "A001_K562_WSTARRseq.Input.rep4.SUBSET.unstranded.bed.gz\n",
      "A001_K562_WSTARRseq.Output.rep1.SUBSET.unstranded.bed.gz\n",
      "A001_K562_WSTARRseq.Output.rep2.SUBSET.unstranded.bed.gz\n",
      "A001_K562_WSTARRseq.Output.rep3.SUBSET.unstranded.bed.gz\n"
     ]
    }
   ],
   "source": [
    "ASSAY=A001_K562_WSTARRseq\n",
    "FD_INP=${FD_RES}/results/${ASSAY}/fragment_count\n",
    "\n",
    "FP_INPS=($(ls ${FD_INP}/*SUBSET*))\n",
    "echo \"Total:  ${#FP_INPS[@]}\"\n",
    "basename -a ${FP_INPS[@]}"
   ]
  },
  {
   "cell_type": "markdown",
   "metadata": {},
   "source": [
    "## RUN"
   ]
  },
  {
   "cell_type": "code",
   "execution_count": 4,
   "metadata": {},
   "outputs": [
    {
     "name": "stdout",
     "output_type": "stream",
     "text": [
      "Submitted batch job 29574558\n"
     ]
    }
   ],
   "source": [
    "sbatch -p ${NODE} \\\n",
    "    --exclude=dl-01 \\\n",
    "    --cpus-per-task 8 \\\n",
    "    --mem 8G \\\n",
    "    --output ${FD_LOG}/coverage_perbase_subset_WSTARR.%a.txt \\\n",
    "    --array 0-6 \\\n",
    "    <<'EOF'\n",
    "#!/bin/bash\n",
    "### set directories & global variables\n",
    "source ../config/config_duke.sh\n",
    "ASSAY=A001_K562_WSTARRseq\n",
    "\n",
    "### print start message\n",
    "timer_start=`date +%s`\n",
    "echo \"Hostname:          \" $(hostname)\n",
    "echo \"Slurm Array Index: \" ${SLURM_ARRAY_TASK_ID}\n",
    "echo \"Time Stamp:        \" $(date +\"%m-%d-%y+%T\")\n",
    "echo\n",
    "\n",
    "### set input and output files\n",
    "FD_INP=${FD_RES}/results/${ASSAY}/fragment_count\n",
    "FD_OUT=${FD_RES}/results/${ASSAY}/coverage/track_counts\n",
    "FD_REG=${FD_RES}/results/region\n",
    "FP_REG=${FD_REG}/region_screened_selected_perbase.bed.gz\n",
    "\n",
    "FP_INPS=($(ls ${FD_INP}/*SUBSET*))\n",
    "FP_INP=${FP_INPS[${SLURM_ARRAY_TASK_ID}]}\n",
    "FN_INP=$(basename ${FP_INP})\n",
    "FN_OUT=${FN_INP}\n",
    "FP_OUT=${FD_OUT}/${FN_OUT}\n",
    "\n",
    "### show I/O file\n",
    "echo ++++++++++++++++++++++++++++++++++++++\n",
    "echo \"Input: \" ${FP_REG}\n",
    "echo\n",
    "echo \"show first few lines of file\"\n",
    "zcat ${FP_REG} | head -5\n",
    "echo\n",
    "echo ++++++++++++++++++++++++++++++++++++++\n",
    "echo \"Input: \" ${FP_INP}\n",
    "echo\n",
    "echo \"show first few lines of file\"\n",
    "zcat ${FP_INP} | head -5\n",
    "echo\n",
    "\n",
    "### execute\n",
    "bedtools map \\\n",
    "    -a ${FP_REG} \\\n",
    "    -b ${FP_INP} \\\n",
    "    -o sum \\\n",
    "| gzip -c \\\n",
    "> ${FP_OUT}\n",
    "\n",
    "### show I/O file\n",
    "echo ++++++++++++++++++++++++++++++++++++++\n",
    "echo \"Output: \" ${FP_OUT}\n",
    "echo\n",
    "echo \"show first few lines of file\"\n",
    "zcat ${FP_OUT} | head -5\n",
    "echo\n",
    "\n",
    "### print end message\n",
    "timer=`date +%s`\n",
    "runtime=$(echo \"${timer} - ${timer_start}\" | bc -l)\n",
    "echo\n",
    "echo 'Done!'\n",
    "echo \"Run Time: $(displaytime ${runtime})\"\n",
    "EOF"
   ]
  },
  {
   "cell_type": "markdown",
   "metadata": {},
   "source": [
    "## Check"
   ]
  },
  {
   "cell_type": "code",
   "execution_count": 5,
   "metadata": {},
   "outputs": [
    {
     "name": "stdout",
     "output_type": "stream",
     "text": [
      "Hostname:           x3-05-4.genome.duke.edu\n",
      "Slurm Array Index:  0\n",
      "Time Stamp:         03-15-23+13:38:55\n",
      "\n",
      "++++++++++++++++++++++++++++++++++++++\n",
      "Input:  /data/reddylab/Kuei/out/proj_combeffect_encode_fcc/results/region/region_screened_selected_perbase.bed.gz\n",
      "\n",
      "show first few lines of file\n",
      "chr11\t4000000\t4000001\n",
      "chr11\t4000001\t4000002\n",
      "chr11\t4000002\t4000003\n",
      "chr11\t4000003\t4000004\n",
      "chr11\t4000004\t4000005\n",
      "\n",
      "++++++++++++++++++++++++++++++++++++++\n",
      "Input:  /data/reddylab/Kuei/out/proj_combeffect_encode_fcc/results/A001_K562_WSTARRseq/fragment_count/A001_K562_WSTARRseq.Input.rep1.SUBSET.unstranded.bed.gz\n",
      "\n",
      "show first few lines of file\n",
      "chr11\t3999435\t4000079\tchr11_3999435_4000079\t1\t.\tchr11\t4000000\t6600000\tchr11:4091884-6505900\t79\n",
      "chr11\t3999566\t4000061\tchr11_3999566_4000061\t1\t.\tchr11\t4000000\t6600000\tchr11:4091884-6505900\t61\n",
      "chr11\t3999631\t4000124\tchr11_3999631_4000124\t1\t.\tchr11\t4000000\t6600000\tchr11:4091884-6505900\t124\n",
      "chr11\t3999851\t4000369\tchr11_3999851_4000369\t1\t.\tchr11\t4000000\t6600000\tchr11:4091884-6505900\t369\n",
      "chr11\t3999992\t4000110\tchr11_3999992_4000110\t1\t.\tchr11\t4000000\t6600000\tchr11:4091884-6505900\t110\n",
      "\n",
      "++++++++++++++++++++++++++++++++++++++\n",
      "Output:  /data/reddylab/Kuei/out/proj_combeffect_encode_fcc/results/A001_K562_WSTARRseq/coverage/track_counts/A001_K562_WSTARRseq.Input.rep1.SUBSET.unstranded.bed.gz\n",
      "\n",
      "show first few lines of file\n",
      "chr11\t4000000\t4000001\t5\n",
      "chr11\t4000001\t4000002\t5\n",
      "chr11\t4000002\t4000003\t5\n",
      "chr11\t4000003\t4000004\t5\n",
      "chr11\t4000004\t4000005\t5\n",
      "\n",
      "\n",
      "Done!\n",
      "Run Time: 2 minutes and 14 seconds\n"
     ]
    }
   ],
   "source": [
    "cat ${FD_LOG}/coverage_perbase_subset_WSTARR.0.txt"
   ]
  },
  {
   "cell_type": "code",
   "execution_count": 6,
   "metadata": {},
   "outputs": [
    {
     "name": "stdout",
     "output_type": "stream",
     "text": [
      "Hostname:           x3-05-1.genome.duke.edu\n",
      "Slurm Array Index:  6\n",
      "Time Stamp:         03-15-23+13:38:55\n",
      "\n",
      "++++++++++++++++++++++++++++++++++++++\n",
      "Input:  /data/reddylab/Kuei/out/proj_combeffect_encode_fcc/results/region/region_screened_selected_perbase.bed.gz\n",
      "\n",
      "show first few lines of file\n",
      "chr11\t4000000\t4000001\n",
      "chr11\t4000001\t4000002\n",
      "chr11\t4000002\t4000003\n",
      "chr11\t4000003\t4000004\n",
      "chr11\t4000004\t4000005\n",
      "\n",
      "++++++++++++++++++++++++++++++++++++++\n",
      "Input:  /data/reddylab/Kuei/out/proj_combeffect_encode_fcc/results/A001_K562_WSTARRseq/fragment_count/A001_K562_WSTARRseq.Output.rep3.SUBSET.unstranded.bed.gz\n",
      "\n",
      "show first few lines of file\n",
      "chr11\t3999381\t4000166\tchr11_3999381_4000166\t1\t.\tchr11\t4000000\t6600000\tchr11:4091884-6505900\t166\n",
      "chr11\t3999386\t4000021\tchr11_3999386_4000021\t1\t.\tchr11\t4000000\t6600000\tchr11:4091884-6505900\t21\n",
      "chr11\t3999392\t4000028\tchr11_3999392_4000028\t1\t.\tchr11\t4000000\t6600000\tchr11:4091884-6505900\t28\n",
      "chr11\t3999435\t4000079\tchr11_3999435_4000079\t1\t.\tchr11\t4000000\t6600000\tchr11:4091884-6505900\t79\n",
      "chr11\t3999463\t4000084\tchr11_3999463_4000084\t1\t.\tchr11\t4000000\t6600000\tchr11:4091884-6505900\t84\n",
      "\n",
      "++++++++++++++++++++++++++++++++++++++\n",
      "Output:  /data/reddylab/Kuei/out/proj_combeffect_encode_fcc/results/A001_K562_WSTARRseq/coverage/track_counts/A001_K562_WSTARRseq.Output.rep3.SUBSET.unstranded.bed.gz\n",
      "\n",
      "show first few lines of file\n",
      "chr11\t4000000\t4000001\t89\n",
      "chr11\t4000001\t4000002\t89\n",
      "chr11\t4000002\t4000003\t89\n",
      "chr11\t4000003\t4000004\t89\n",
      "chr11\t4000004\t4000005\t89\n",
      "\n",
      "\n",
      "Done!\n",
      "Run Time: 5 minutes and 48 seconds\n"
     ]
    }
   ],
   "source": [
    "cat ${FD_LOG}/coverage_perbase_subset_WSTARR.6.txt"
   ]
  },
  {
   "cell_type": "code",
   "execution_count": null,
   "metadata": {},
   "outputs": [],
   "source": []
  }
 ],
 "metadata": {
  "kernelspec": {
   "display_name": "Bash",
   "language": "bash",
   "name": "bash"
  },
  "language_info": {
   "codemirror_mode": "shell",
   "file_extension": ".sh",
   "mimetype": "text/x-sh",
   "name": "bash"
  }
 },
 "nbformat": 4,
 "nbformat_minor": 4
}
