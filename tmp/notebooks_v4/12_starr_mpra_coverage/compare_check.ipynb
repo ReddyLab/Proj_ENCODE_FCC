{
 "cells": [
  {
   "cell_type": "markdown",
   "metadata": {},
   "source": [
    "**Set environment**"
   ]
  },
  {
   "cell_type": "code",
   "execution_count": 1,
   "metadata": {},
   "outputs": [
    {
     "name": "stdout",
     "output_type": "stream",
     "text": [
      "You are in Singularity: singularity_proj_encode_fcc \n",
      "BASE DIRECTORY (FD_BASE): /data/reddylab/Kuei \n",
      "WORK DIRECTORY (FD_WORK): /data/reddylab/Kuei/out \n",
      "CODE DIRECTORY (FD_CODE): /data/reddylab/Kuei/code \n",
      "PATH OF PROJECT (FD_PRJ): /data/reddylab/Kuei/code/Proj_CombEffect_ENCODE_FCC \n",
      "PATH OF RESULTS (FD_RES): /data/reddylab/Kuei/out/proj_combeffect_encode_fcc \n",
      "PATH OF LOG     (FD_LOG): /data/reddylab/Kuei/out/proj_combeffect_encode_fcc/log \n"
     ]
    }
   ],
   "source": [
    "suppressWarnings(suppressMessages(source(\"../config/config_sing.R\")))\n",
    "show_env()"
   ]
  },
  {
   "cell_type": "markdown",
   "metadata": {},
   "source": [
    "**Check data**"
   ]
  },
  {
   "cell_type": "code",
   "execution_count": 10,
   "metadata": {},
   "outputs": [
    {
     "name": "stdout",
     "output_type": "stream",
     "text": [
      "[1] \"library_size_count.csv\"                   \n",
      "[2] \"library_size_summary_sorted_no_cnames.tsv\"\n",
      "[3] \"library_size_summary.csv\"                 \n",
      "[4] \"library_size_summary.tsv\"                 \n"
     ]
    }
   ],
   "source": [
    "assay  = \"A001_K562_WSTARRseq\"\n",
    "fdiry  = file.path(FD_RES, \"results\", assay, \"coverage\", \"summary\")\n",
    "fpaths = dir(fdiry)\n",
    "print(fpaths)"
   ]
  },
  {
   "cell_type": "code",
   "execution_count": 11,
   "metadata": {},
   "outputs": [
    {
     "name": "stdout",
     "output_type": "stream",
     "text": [
      " [1] \"A001_K562_WSTARRseq.track.raw.FC.bw\"     \n",
      " [2] \"A001_K562_WSTARRseq.track.raw.Input.bw\"  \n",
      " [3] \"A001_K562_WSTARRseq.track.raw.Log2FC.bw\" \n",
      " [4] \"A001_K562_WSTARRseq.track.raw.Output.bw\" \n",
      " [5] \"A001_K562_WSTARRseq.track.raw.pLog2FC.bw\"\n",
      " [6] \"library_size_output.csv\"                 \n",
      " [7] \"library_size_summary.csv\"                \n",
      " [8] \"track.raw.count.FADS.tsv\"                \n",
      " [9] \"track.raw.count.GATA1.tsv\"               \n",
      "[10] \"track.raw.count.MYC.tsv\"                 \n",
      "[11] \"track.raw.cpm.FADS.tsv\"                  \n",
      "[12] \"track.raw.cpm.GATA1.tsv\"                 \n",
      "[13] \"track.raw.cpm.MYC.tsv\"                   \n",
      "[14] \"track.raw.FC.bw\"                         \n",
      "[15] \"track.raw.Input.bw\"                      \n",
      "[16] \"track.raw.Log2FC.bw\"                     \n",
      "[17] \"track.raw.Log2FC.FADS.tsv\"               \n",
      "[18] \"track.raw.Log2FC.GATA1.tsv\"              \n",
      "[19] \"track.raw.Log2FC.MYC.tsv\"                \n",
      "[20] \"track.raw.Output.bw\"                     \n",
      "[21] \"track.raw.pLog2FC.bw\"                    \n"
     ]
    }
   ],
   "source": [
    "assay  = \"A001_K562_WSTARRseq\"\n",
    "fdiry  = file.path(FD_RES, \"results_v3\", assay, \"coverage\", \"summary\")\n",
    "fpaths = dir(fdiry)\n",
    "print(fpaths)"
   ]
  },
  {
   "cell_type": "code",
   "execution_count": 19,
   "metadata": {},
   "outputs": [
    {
     "name": "stdout",
     "output_type": "stream",
     "text": [
      "[1] \"A001_K562_WSTARRseq.Input.rep1.SUBSET.unstranded.bed.gz\" \n",
      "[2] \"A001_K562_WSTARRseq.Input.rep2.SUBSET.unstranded.bed.gz\" \n",
      "[3] \"A001_K562_WSTARRseq.Input.rep3.SUBSET.unstranded.bed.gz\" \n",
      "[4] \"A001_K562_WSTARRseq.Input.rep4.SUBSET.unstranded.bed.gz\" \n",
      "[5] \"A001_K562_WSTARRseq.Output.rep1.SUBSET.unstranded.bed.gz\"\n",
      "[6] \"A001_K562_WSTARRseq.Output.rep2.SUBSET.unstranded.bed.gz\"\n",
      "[7] \"A001_K562_WSTARRseq.Output.rep3.SUBSET.unstranded.bed.gz\"\n"
     ]
    }
   ],
   "source": [
    "assay  = \"A001_K562_WSTARRseq\"\n",
    "fdiry  = file.path(FD_RES, \"results\", assay, \"coverage\", \"track_counts\")\n",
    "fpaths = dir(fdiry)\n",
    "print(fpaths)"
   ]
  },
  {
   "cell_type": "code",
   "execution_count": 20,
   "metadata": {},
   "outputs": [
    {
     "name": "stdout",
     "output_type": "stream",
     "text": [
      " [1] \"A001_K562_WSTARRseq.Input.rep1.FADS.unstranded.bed.gz\"  \n",
      " [2] \"A001_K562_WSTARRseq.Input.rep1.GATA1.unstranded.bed.gz\" \n",
      " [3] \"A001_K562_WSTARRseq.Input.rep1.MYC.unstranded.bed.gz\"   \n",
      " [4] \"A001_K562_WSTARRseq.Input.rep2.FADS.unstranded.bed.gz\"  \n",
      " [5] \"A001_K562_WSTARRseq.Input.rep2.GATA1.unstranded.bed.gz\" \n",
      " [6] \"A001_K562_WSTARRseq.Input.rep2.MYC.unstranded.bed.gz\"   \n",
      " [7] \"A001_K562_WSTARRseq.Input.rep3.FADS.unstranded.bed.gz\"  \n",
      " [8] \"A001_K562_WSTARRseq.Input.rep3.GATA1.unstranded.bed.gz\" \n",
      " [9] \"A001_K562_WSTARRseq.Input.rep3.MYC.unstranded.bed.gz\"   \n",
      "[10] \"A001_K562_WSTARRseq.Input.rep4.FADS.unstranded.bed.gz\"  \n",
      "[11] \"A001_K562_WSTARRseq.Input.rep4.GATA1.unstranded.bed.gz\" \n",
      "[12] \"A001_K562_WSTARRseq.Input.rep4.MYC.unstranded.bed.gz\"   \n",
      "[13] \"A001_K562_WSTARRseq.Output.rep1.FADS.unstranded.bed.gz\" \n",
      "[14] \"A001_K562_WSTARRseq.Output.rep1.GATA1.unstranded.bed.gz\"\n",
      "[15] \"A001_K562_WSTARRseq.Output.rep1.MYC.unstranded.bed.gz\"  \n",
      "[16] \"A001_K562_WSTARRseq.Output.rep2.FADS.unstranded.bed.gz\" \n",
      "[17] \"A001_K562_WSTARRseq.Output.rep2.GATA1.unstranded.bed.gz\"\n",
      "[18] \"A001_K562_WSTARRseq.Output.rep2.MYC.unstranded.bed.gz\"  \n",
      "[19] \"A001_K562_WSTARRseq.Output.rep3.FADS.unstranded.bed.gz\" \n",
      "[20] \"A001_K562_WSTARRseq.Output.rep3.GATA1.unstranded.bed.gz\"\n",
      "[21] \"A001_K562_WSTARRseq.Output.rep3.MYC.unstranded.bed.gz\"  \n",
      "[22] \"region_FADS_perbase.bed\"                                \n",
      "[23] \"region_FADS.bed\"                                        \n",
      "[24] \"region_GATA1_perbase.bed\"                               \n",
      "[25] \"region_GATA1.bed\"                                       \n",
      "[26] \"region_MYC_perbase.bed\"                                 \n",
      "[27] \"region_MYC.bed\"                                         \n",
      "[28] \"summary\"                                                \n"
     ]
    }
   ],
   "source": [
    "assay  = \"A001_K562_WSTARRseq\"\n",
    "fdiry  = file.path(FD_RES, \"results_v3\", assay, \"coverage\")\n",
    "fpaths = dir(fdiry)\n",
    "print(fpaths)"
   ]
  },
  {
   "cell_type": "markdown",
   "metadata": {},
   "source": [
    "## check library size (WSTARR)"
   ]
  },
  {
   "cell_type": "code",
   "execution_count": 23,
   "metadata": {},
   "outputs": [
    {
     "name": "stdout",
     "output_type": "stream",
     "text": [
      "[1] 7 2\n"
     ]
    },
    {
     "data": {
      "text/html": [
       "<table class=\"dataframe\">\n",
       "<caption>A tibble: 7 × 2</caption>\n",
       "<thead>\n",
       "\t<tr><th scope=col>FName</th><th scope=col>Size</th></tr>\n",
       "\t<tr><th scope=col>&lt;chr&gt;</th><th scope=col>&lt;dbl&gt;</th></tr>\n",
       "</thead>\n",
       "<tbody>\n",
       "\t<tr><td>A001_K562_WSTARRseq.Input.rep1.WGS.unstranded.bed.gz </td><td> 26908970</td></tr>\n",
       "\t<tr><td>A001_K562_WSTARRseq.Input.rep2.WGS.unstranded.bed.gz </td><td> 99899775</td></tr>\n",
       "\t<tr><td>A001_K562_WSTARRseq.Input.rep3.WGS.unstranded.bed.gz </td><td>105623984</td></tr>\n",
       "\t<tr><td>A001_K562_WSTARRseq.Input.rep4.WGS.unstranded.bed.gz </td><td>108635002</td></tr>\n",
       "\t<tr><td>A001_K562_WSTARRseq.Output.rep1.WGS.unstranded.bed.gz</td><td>160349140</td></tr>\n",
       "\t<tr><td>A001_K562_WSTARRseq.Output.rep2.WGS.unstranded.bed.gz</td><td>157326312</td></tr>\n",
       "\t<tr><td>A001_K562_WSTARRseq.Output.rep3.WGS.unstranded.bed.gz</td><td>328185275</td></tr>\n",
       "</tbody>\n",
       "</table>\n"
      ],
      "text/latex": [
       "A tibble: 7 × 2\n",
       "\\begin{tabular}{ll}\n",
       " FName & Size\\\\\n",
       " <chr> & <dbl>\\\\\n",
       "\\hline\n",
       "\t A001\\_K562\\_WSTARRseq.Input.rep1.WGS.unstranded.bed.gz  &  26908970\\\\\n",
       "\t A001\\_K562\\_WSTARRseq.Input.rep2.WGS.unstranded.bed.gz  &  99899775\\\\\n",
       "\t A001\\_K562\\_WSTARRseq.Input.rep3.WGS.unstranded.bed.gz  & 105623984\\\\\n",
       "\t A001\\_K562\\_WSTARRseq.Input.rep4.WGS.unstranded.bed.gz  & 108635002\\\\\n",
       "\t A001\\_K562\\_WSTARRseq.Output.rep1.WGS.unstranded.bed.gz & 160349140\\\\\n",
       "\t A001\\_K562\\_WSTARRseq.Output.rep2.WGS.unstranded.bed.gz & 157326312\\\\\n",
       "\t A001\\_K562\\_WSTARRseq.Output.rep3.WGS.unstranded.bed.gz & 328185275\\\\\n",
       "\\end{tabular}\n"
      ],
      "text/markdown": [
       "\n",
       "A tibble: 7 × 2\n",
       "\n",
       "| FName &lt;chr&gt; | Size &lt;dbl&gt; |\n",
       "|---|---|\n",
       "| A001_K562_WSTARRseq.Input.rep1.WGS.unstranded.bed.gz  |  26908970 |\n",
       "| A001_K562_WSTARRseq.Input.rep2.WGS.unstranded.bed.gz  |  99899775 |\n",
       "| A001_K562_WSTARRseq.Input.rep3.WGS.unstranded.bed.gz  | 105623984 |\n",
       "| A001_K562_WSTARRseq.Input.rep4.WGS.unstranded.bed.gz  | 108635002 |\n",
       "| A001_K562_WSTARRseq.Output.rep1.WGS.unstranded.bed.gz | 160349140 |\n",
       "| A001_K562_WSTARRseq.Output.rep2.WGS.unstranded.bed.gz | 157326312 |\n",
       "| A001_K562_WSTARRseq.Output.rep3.WGS.unstranded.bed.gz | 328185275 |\n",
       "\n"
      ],
      "text/plain": [
       "  FName                                                 Size     \n",
       "1 A001_K562_WSTARRseq.Input.rep1.WGS.unstranded.bed.gz   26908970\n",
       "2 A001_K562_WSTARRseq.Input.rep2.WGS.unstranded.bed.gz   99899775\n",
       "3 A001_K562_WSTARRseq.Input.rep3.WGS.unstranded.bed.gz  105623984\n",
       "4 A001_K562_WSTARRseq.Input.rep4.WGS.unstranded.bed.gz  108635002\n",
       "5 A001_K562_WSTARRseq.Output.rep1.WGS.unstranded.bed.gz 160349140\n",
       "6 A001_K562_WSTARRseq.Output.rep2.WGS.unstranded.bed.gz 157326312\n",
       "7 A001_K562_WSTARRseq.Output.rep3.WGS.unstranded.bed.gz 328185275"
      ]
     },
     "metadata": {},
     "output_type": "display_data"
    }
   ],
   "source": [
    "assay = \"A001_K562_WSTARRseq\"\n",
    "fdiry = file.path(FD_RES, \"results\", assay, \"coverage\", \"summary\")\n",
    "fname = \"library_size_summary.tsv\"\n",
    "fpath = file.path(fdiry, fname)\n",
    "\n",
    "dat = read_tsv(fpath, show_col_types = FALSE)\n",
    "dat = dat %>% dplyr::select(FName, Size)\n",
    "\n",
    "dat_lib_wstarr_cur = dat \n",
    "print(dim(dat))\n",
    "IRdisplay::display(dat)"
   ]
  },
  {
   "cell_type": "code",
   "execution_count": 24,
   "metadata": {},
   "outputs": [
    {
     "name": "stdout",
     "output_type": "stream",
     "text": [
      "[1] 7 2\n"
     ]
    },
    {
     "data": {
      "text/html": [
       "<table class=\"dataframe\">\n",
       "<caption>A tibble: 7 × 2</caption>\n",
       "<thead>\n",
       "\t<tr><th scope=col>FName</th><th scope=col>Size</th></tr>\n",
       "\t<tr><th scope=col>&lt;chr&gt;</th><th scope=col>&lt;dbl&gt;</th></tr>\n",
       "</thead>\n",
       "<tbody>\n",
       "\t<tr><td>A001_K562_WSTARRseq.Input.rep1.WGS.unstranded.bed.gz </td><td> 26908970</td></tr>\n",
       "\t<tr><td>A001_K562_WSTARRseq.Input.rep2.WGS.unstranded.bed.gz </td><td> 99899775</td></tr>\n",
       "\t<tr><td>A001_K562_WSTARRseq.Input.rep3.WGS.unstranded.bed.gz </td><td>105623984</td></tr>\n",
       "\t<tr><td>A001_K562_WSTARRseq.Input.rep4.WGS.unstranded.bed.gz </td><td>108635002</td></tr>\n",
       "\t<tr><td>A001_K562_WSTARRseq.Output.rep1.WGS.unstranded.bed.gz</td><td>160349140</td></tr>\n",
       "\t<tr><td>A001_K562_WSTARRseq.Output.rep2.WGS.unstranded.bed.gz</td><td>157326312</td></tr>\n",
       "\t<tr><td>A001_K562_WSTARRseq.Output.rep3.WGS.unstranded.bed.gz</td><td>328185275</td></tr>\n",
       "</tbody>\n",
       "</table>\n"
      ],
      "text/latex": [
       "A tibble: 7 × 2\n",
       "\\begin{tabular}{ll}\n",
       " FName & Size\\\\\n",
       " <chr> & <dbl>\\\\\n",
       "\\hline\n",
       "\t A001\\_K562\\_WSTARRseq.Input.rep1.WGS.unstranded.bed.gz  &  26908970\\\\\n",
       "\t A001\\_K562\\_WSTARRseq.Input.rep2.WGS.unstranded.bed.gz  &  99899775\\\\\n",
       "\t A001\\_K562\\_WSTARRseq.Input.rep3.WGS.unstranded.bed.gz  & 105623984\\\\\n",
       "\t A001\\_K562\\_WSTARRseq.Input.rep4.WGS.unstranded.bed.gz  & 108635002\\\\\n",
       "\t A001\\_K562\\_WSTARRseq.Output.rep1.WGS.unstranded.bed.gz & 160349140\\\\\n",
       "\t A001\\_K562\\_WSTARRseq.Output.rep2.WGS.unstranded.bed.gz & 157326312\\\\\n",
       "\t A001\\_K562\\_WSTARRseq.Output.rep3.WGS.unstranded.bed.gz & 328185275\\\\\n",
       "\\end{tabular}\n"
      ],
      "text/markdown": [
       "\n",
       "A tibble: 7 × 2\n",
       "\n",
       "| FName &lt;chr&gt; | Size &lt;dbl&gt; |\n",
       "|---|---|\n",
       "| A001_K562_WSTARRseq.Input.rep1.WGS.unstranded.bed.gz  |  26908970 |\n",
       "| A001_K562_WSTARRseq.Input.rep2.WGS.unstranded.bed.gz  |  99899775 |\n",
       "| A001_K562_WSTARRseq.Input.rep3.WGS.unstranded.bed.gz  | 105623984 |\n",
       "| A001_K562_WSTARRseq.Input.rep4.WGS.unstranded.bed.gz  | 108635002 |\n",
       "| A001_K562_WSTARRseq.Output.rep1.WGS.unstranded.bed.gz | 160349140 |\n",
       "| A001_K562_WSTARRseq.Output.rep2.WGS.unstranded.bed.gz | 157326312 |\n",
       "| A001_K562_WSTARRseq.Output.rep3.WGS.unstranded.bed.gz | 328185275 |\n",
       "\n"
      ],
      "text/plain": [
       "  FName                                                 Size     \n",
       "1 A001_K562_WSTARRseq.Input.rep1.WGS.unstranded.bed.gz   26908970\n",
       "2 A001_K562_WSTARRseq.Input.rep2.WGS.unstranded.bed.gz   99899775\n",
       "3 A001_K562_WSTARRseq.Input.rep3.WGS.unstranded.bed.gz  105623984\n",
       "4 A001_K562_WSTARRseq.Input.rep4.WGS.unstranded.bed.gz  108635002\n",
       "5 A001_K562_WSTARRseq.Output.rep1.WGS.unstranded.bed.gz 160349140\n",
       "6 A001_K562_WSTARRseq.Output.rep2.WGS.unstranded.bed.gz 157326312\n",
       "7 A001_K562_WSTARRseq.Output.rep3.WGS.unstranded.bed.gz 328185275"
      ]
     },
     "metadata": {},
     "output_type": "display_data"
    }
   ],
   "source": [
    "assay = \"A001_K562_WSTARRseq\"\n",
    "fdiry = file.path(FD_RES, \"results_v3\", assay, \"coverage\", \"summary\")\n",
    "fname = \"library_size_summary.csv\"\n",
    "fpath = file.path(fdiry, fname)\n",
    "\n",
    "dat = read_csv(fpath, show_col_types = FALSE)\n",
    "dat = dat %>% dplyr::filter(Region == \"WGS\") %>% dplyr::select(FName, Size)\n",
    "\n",
    "dat_lib_wstarr_pre = dat \n",
    "print(dim(dat))\n",
    "dat"
   ]
  },
  {
   "cell_type": "markdown",
   "metadata": {},
   "source": [
    "## check counts (WSTARR)"
   ]
  },
  {
   "cell_type": "code",
   "execution_count": null,
   "metadata": {},
   "outputs": [],
   "source": []
  },
  {
   "cell_type": "code",
   "execution_count": null,
   "metadata": {},
   "outputs": [],
   "source": []
  },
  {
   "cell_type": "code",
   "execution_count": null,
   "metadata": {},
   "outputs": [],
   "source": []
  }
 ],
 "metadata": {
  "kernelspec": {
   "display_name": "R",
   "language": "R",
   "name": "ir"
  },
  "language_info": {
   "codemirror_mode": "r",
   "file_extension": ".r",
   "mimetype": "text/x-r-source",
   "name": "R",
   "pygments_lexer": "r",
   "version": "4.2.2"
  }
 },
 "nbformat": 4,
 "nbformat_minor": 5
}
