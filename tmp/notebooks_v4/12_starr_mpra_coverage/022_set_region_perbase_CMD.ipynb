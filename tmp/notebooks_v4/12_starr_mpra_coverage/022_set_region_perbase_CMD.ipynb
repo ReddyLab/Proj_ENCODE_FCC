{
 "cells": [
  {
   "cell_type": "markdown",
   "id": "4b0dfaf9-6627-4e1c-a89b-69eedc191407",
   "metadata": {},
   "source": [
    "**Set environment**"
   ]
  },
  {
   "cell_type": "code",
   "execution_count": 6,
   "id": "a8f1a8b6-e3d8-42c0-816b-26e9a2a20a3f",
   "metadata": {},
   "outputs": [
    {
     "name": "stdout",
     "output_type": "stream",
     "text": [
      "bedtools v2.25.0\n",
      "You are on Duke Server: HARDAC\n",
      "BASE DIRECTORY (FD_BASE): /data/reddylab/Kuei\n",
      "WORK DIRECTORY (FD_WORK): /data/reddylab/Kuei/out\n",
      "CODE DIRECTORY (FD_CODE): /data/reddylab/Kuei/code\n",
      "SING DIRECTORY (FD_SING): /data/reddylab/Kuei/singularity\n",
      "PATH OF PROJECT (FD_PRJ): /data/reddylab/Kuei/code/Proj_CombEffect_ENCODE_FCC\n",
      "PATH OF RESULTS (FD_RES): /data/reddylab/Kuei/out/proj_combeffect_encode_fcc\n",
      "PATH OF LOG     (FD_LOG): /data/reddylab/Kuei/out/proj_combeffect_encode_fcc/log\n",
      "\n"
     ]
    }
   ],
   "source": [
    "source ../config/config_duke.sh\n",
    "source ../config/config_load_module_bedtools.sh\n",
    "bedtools --version\n",
    "show_env"
   ]
  },
  {
   "cell_type": "code",
   "execution_count": 2,
   "id": "67eb02f2-8b8e-4e1b-bf66-362df14871ae",
   "metadata": {},
   "outputs": [
    {
     "name": "stdout",
     "output_type": "stream",
     "text": [
      "\u001b[0m\u001b[38;5;27mannotation_crispri_casa\u001b[0m               region_screened_selected.bed\n",
      "\u001b[38;5;27mannotation_enhancer_junke\u001b[0m             region_screened_selected_perbase.bed\n",
      "\u001b[38;5;27mannotation_gencode\u001b[0m                    region_screened_tmpra.bed\n",
      "\u001b[38;5;27mKS91_K562_ASTARRseq_peak_macs_input\u001b[0m   region_screened_tmpra_crispr.bed\n",
      "region_screened_crispri_flowfish.bed\n"
     ]
    }
   ],
   "source": [
    "ls ${FD_RES}/results/region"
   ]
  },
  {
   "cell_type": "code",
   "execution_count": 3,
   "id": "8a592da5-b2d0-42fb-89e2-bef6f1bb2255",
   "metadata": {},
   "outputs": [],
   "source": [
    "FD_REG=${FD_RES}/results/region\n",
    "FN_INP=region_screened_selected.bed\n",
    "FN_OUT=region_screened_selected_perbase.bed.gz\n",
    "\n",
    "FP_INP=${FD_REG}/${FN_INP}\n",
    "FP_OUT=${FD_REG}/${FN_OUT}"
   ]
  },
  {
   "cell_type": "code",
   "execution_count": 4,
   "id": "04e513eb-0aae-48a1-a60b-adcc7849cb35",
   "metadata": {},
   "outputs": [
    {
     "name": "stdout",
     "output_type": "stream",
     "text": [
      "chr11 4000000 6600000 chr11:4091884-6505900\n",
      "chr11 32800000 35000000 chr11:32869701-34870100\n",
      "chr11 61700000 62000000 chr11:61787329-61898348\n",
      "chr12 54290000 54310000 chr12:54300766-54301042\n",
      "chr12 110000000 113000000 chr12:110726151-112325737\n",
      "chr16 0 1300000 chr16:10001-1173100\n",
      "chr19 12880000 12900000 chr19:12887110-12887237\n",
      "chr2 59000000 62000000 chr2:59553301-61553700\n",
      "chr20 55500000 59000000 chr20:56391301-58391700\n",
      "chr3 128475000 128512000 chr3:128487571-128487937\n",
      "chr4 55000000 56500000 chr4:55237590-56068531\n",
      "chr5 86000000 91600000 chr5:87611207-89911163\n",
      "chr6 108000000 111000000 chr6:108840570-109828800\n",
      "chr6 133000000 138000000 chr6:134253831-136927585\n",
      "chr8 122000000 136000000 chr8:126735901-128736550\n",
      "chrX 47000000 51000000 chrX:47785501-49880650\n"
     ]
    }
   ],
   "source": [
    "while read CHROM START END; do\n",
    "    echo ${CHROM} ${START} ${END}\n",
    "done < ${FP_INP}"
   ]
  },
  {
   "cell_type": "markdown",
   "id": "e6812261-395d-4e0c-9cbf-6dac4cf29d39",
   "metadata": {},
   "source": [
    "```\n",
    "cat /dev/null > ${FP_OUT}\n",
    "\n",
    "while read CHROM START END NAME; do\n",
    "    ### show progress\n",
    "    echo ${CHROM} ${START} ${END}\n",
    "    \n",
    "    ### create location\n",
    "    for LOC in $(seq ${START} ${END}); do\n",
    "        echo -e \"${CHROM}\\\\t${LOC}\\\\t$((${LOC} + 1))\" >> ${FP_OUT}\n",
    "    done\n",
    "done < ${FP_INP}\n",
    "```"
   ]
  },
  {
   "cell_type": "code",
   "execution_count": 7,
   "id": "971ab875-b5b2-47b2-98c2-415e3132a643",
   "metadata": {},
   "outputs": [],
   "source": [
    "bedtools makewindows -b ${FP_INP} -w 1 | gzip -c > ${FP_OUT}"
   ]
  },
  {
   "cell_type": "code",
   "execution_count": null,
   "id": "b9cbeb66-d151-49fa-84f5-9be3bb19dee1",
   "metadata": {},
   "outputs": [],
   "source": []
  },
  {
   "cell_type": "code",
   "execution_count": null,
   "id": "07b7ec25-0456-48e3-bce9-8fcfd5b56946",
   "metadata": {},
   "outputs": [],
   "source": []
  },
  {
   "cell_type": "code",
   "execution_count": 8,
   "id": "28931548-56aa-49a8-8245-10abb68dc45c",
   "metadata": {},
   "outputs": [
    {
     "name": "stdout",
     "output_type": "stream",
     "text": [
      "chr11\t4000000\t4000001\n",
      "chr11\t4000001\t4000002\n",
      "chr11\t4000002\t4000003\n",
      "chr11\t4000003\t4000004\n",
      "chr11\t4000004\t4000005\n",
      "chr11\t4000005\t4000006\n",
      "chr11\t4000006\t4000007\n",
      "chr11\t4000007\t4000008\n",
      "chr11\t4000008\t4000009\n",
      "chr11\t4000009\t4000010\n"
     ]
    }
   ],
   "source": [
    "head ${FD_REG}/region_screened_selected_perbase.bed"
   ]
  },
  {
   "cell_type": "code",
   "execution_count": 9,
   "id": "b09ce3cd-0d01-4592-a78d-845166912141",
   "metadata": {},
   "outputs": [
    {
     "name": "stdout",
     "output_type": "stream",
     "text": [
      "chr11\t4000000\t4000001\n",
      "chr11\t4000001\t4000002\n",
      "chr11\t4000002\t4000003\n",
      "chr11\t4000003\t4000004\n",
      "chr11\t4000004\t4000005\n",
      "chr11\t4000005\t4000006\n",
      "chr11\t4000006\t4000007\n",
      "chr11\t4000007\t4000008\n",
      "chr11\t4000008\t4000009\n",
      "chr11\t4000009\t4000010\n"
     ]
    }
   ],
   "source": [
    "zcat ${FD_REG}/region_screened_selected_perbase.bed.gz | head"
   ]
  },
  {
   "cell_type": "code",
   "execution_count": 10,
   "id": "078f1d2f-1043-4fed-97b9-b0f2da8426b6",
   "metadata": {},
   "outputs": [
    {
     "name": "stdout",
     "output_type": "stream",
     "text": [
      "chr5\t90893774\t90893775\n",
      "chr5\t90893775\t90893776\n",
      "chr5\t90893776\t90893777\n",
      "chr5\t90893777\t90893778\n",
      "chr5\t90893778\t90893779\n",
      "chr5\t90893779\t90893780\n",
      "chr5\t90893780\t90893781\n",
      "chr5\t90893781\t90893782\n",
      "chr5\t90893782\t90893783\n",
      "chr5\t90893783\t90893784\n"
     ]
    }
   ],
   "source": [
    "tail ${FD_REG}/region_screened_selected_perbase.bed"
   ]
  },
  {
   "cell_type": "code",
   "execution_count": 11,
   "id": "fa479b4a-3289-4834-865a-a5ec2af4e6a4",
   "metadata": {},
   "outputs": [
    {
     "name": "stdout",
     "output_type": "stream",
     "text": [
      "chrX\t50999990\t50999991\n",
      "chrX\t50999991\t50999992\n",
      "chrX\t50999992\t50999993\n",
      "chrX\t50999993\t50999994\n",
      "chrX\t50999994\t50999995\n",
      "chrX\t50999995\t50999996\n",
      "chrX\t50999996\t50999997\n",
      "chrX\t50999997\t50999998\n",
      "chrX\t50999998\t50999999\n",
      "chrX\t50999999\t51000000\n"
     ]
    }
   ],
   "source": [
    "zcat ${FD_REG}/region_screened_selected_perbase.bed.gz | tail"
   ]
  },
  {
   "cell_type": "code",
   "execution_count": 12,
   "id": "2551f00e-d0c5-4c5a-b660-1bdc8311fb94",
   "metadata": {},
   "outputs": [
    {
     "name": "stdout",
     "output_type": "stream",
     "text": [
      "-rw-rw-r-- 1 kk319 reddylab 500M Mar 10 16:29 /data/reddylab/Kuei/out/proj_combeffect_encode_fcc/results/region/region_screened_selected_perbase.bed\n"
     ]
    }
   ],
   "source": [
    "ls -lh ${FD_REG}/region_screened_selected_perbase.bed"
   ]
  },
  {
   "cell_type": "code",
   "execution_count": 13,
   "id": "3323053f-205d-4bd2-8492-78722dab1c4d",
   "metadata": {},
   "outputs": [
    {
     "name": "stdout",
     "output_type": "stream",
     "text": [
      "-rw-rw-r-- 1 kk319 reddylab 236M Mar 10 16:48 \u001b[0m\u001b[38;5;9m/data/reddylab/Kuei/out/proj_combeffect_encode_fcc/results/region/region_screened_selected_perbase.bed.gz\u001b[0m\u001b[K\n"
     ]
    }
   ],
   "source": [
    "ls -lh ${FD_REG}/region_screened_selected_perbase.bed.gz"
   ]
  },
  {
   "cell_type": "code",
   "execution_count": null,
   "id": "de8d34c0-8c53-4409-b24e-ff156d939b9c",
   "metadata": {},
   "outputs": [],
   "source": []
  }
 ],
 "metadata": {
  "kernelspec": {
   "display_name": "Bash",
   "language": "bash",
   "name": "bash"
  },
  "language_info": {
   "codemirror_mode": "shell",
   "file_extension": ".sh",
   "mimetype": "text/x-sh",
   "name": "bash"
  }
 },
 "nbformat": 4,
 "nbformat_minor": 5
}
