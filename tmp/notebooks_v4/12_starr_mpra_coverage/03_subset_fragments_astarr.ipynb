{
 "cells": [
  {
   "cell_type": "markdown",
   "id": "a7401e82-d2b5-4e63-8e12-3814f64e0637",
   "metadata": {},
   "source": [
    "**Set environment**"
   ]
  },
  {
   "cell_type": "code",
   "execution_count": 1,
   "id": "523fa856-dabe-4ad5-aef2-116d4c470b9a",
   "metadata": {},
   "outputs": [
    {
     "name": "stdout",
     "output_type": "stream",
     "text": [
      "You are on Duke Server: HARDAC\n",
      "BASE DIRECTORY (FD_BASE): /data/reddylab/Kuei\n",
      "WORK DIRECTORY (FD_WORK): /data/reddylab/Kuei/out\n",
      "CODE DIRECTORY (FD_CODE): /data/reddylab/Kuei/code\n",
      "SING DIRECTORY (FD_SING): /data/reddylab/Kuei/singularity\n",
      "PATH OF PROJECT (FD_PRJ): /data/reddylab/Kuei/code/Proj_CombEffect_ENCODE_FCC\n",
      "PATH OF RESULTS (FD_RES): /data/reddylab/Kuei/out/proj_combeffect_encode_fcc\n",
      "PATH OF LOG     (FD_LOG): /data/reddylab/Kuei/out/proj_combeffect_encode_fcc/log\n",
      "\n"
     ]
    }
   ],
   "source": [
    "### set env\n",
    "source ../config/config_duke.sh\n",
    "source ../config/config_load_module_bedtools.sh\n",
    "show_env"
   ]
  },
  {
   "cell_type": "markdown",
   "id": "91685761-ffbc-4b60-92d6-04f7a047a42a",
   "metadata": {},
   "source": [
    "**Check data**"
   ]
  },
  {
   "cell_type": "code",
   "execution_count": 6,
   "id": "e3a331ba-a48b-4650-8aa9-47c407180a7b",
   "metadata": {},
   "outputs": [
    {
     "name": "stdout",
     "output_type": "stream",
     "text": [
      "chr11       4000000     6600000     chr11:4091884-6505900\n",
      "chr11       32800000    35000000    chr11:32869701-34870100\n",
      "chr11       61700000    62000000    chr11:61787329-61898348\n",
      "chr12       54290000    54310000    chr12:54300766-54301042\n",
      "chr12       110000000   113000000   chr12:110726151-112325737\n",
      "chr16       0           1300000     chr16:10001-1173100\n",
      "chr19       12880000    12900000    chr19:12887110-12887237\n",
      "chr2        59000000    62000000    chr2:59553301-61553700\n",
      "chr20       55500000    59000000    chr20:56391301-58391700\n",
      "chr3        128475000   128512000   chr3:128487571-128487937\n",
      "chr4        55000000    56500000    chr4:55237590-56068531\n",
      "chr5        86000000    91600000    chr5:87611207-89911163\n",
      "chr6        108000000   111000000   chr6:108840570-109828800\n",
      "chr6        133000000   138000000   chr6:134253831-136927585\n",
      "chr8        122000000   136000000   chr8:126735901-128736550\n",
      "chrX        47000000    51000000    chrX:47785501-49880650\n"
     ]
    }
   ],
   "source": [
    "cat  ${FD_RES}/results/region/region_screened_selected.bed | expand -t 12"
   ]
  },
  {
   "cell_type": "code",
   "execution_count": 21,
   "id": "45c0ec95-51b7-4269-b217-f0603dee6328",
   "metadata": {},
   "outputs": [
    {
     "name": "stdout",
     "output_type": "stream",
     "text": [
      "10\n",
      "KS91_K562_ASTARRseq.Input.rep1.WGS.unstranded.bed.gz\n",
      "KS91_K562_ASTARRseq.Input.rep2.WGS.unstranded.bed.gz\n",
      "KS91_K562_ASTARRseq.Input.rep3.WGS.unstranded.bed.gz\n",
      "KS91_K562_ASTARRseq.Input.rep4.WGS.unstranded.bed.gz\n",
      "KS91_K562_ASTARRseq.Input.rep5.WGS.unstranded.bed.gz\n",
      "KS91_K562_ASTARRseq.Input.rep6.WGS.unstranded.bed.gz\n",
      "KS91_K562_ASTARRseq.Output.rep1.WGS.unstranded.bed.gz\n",
      "KS91_K562_ASTARRseq.Output.rep2.WGS.unstranded.bed.gz\n",
      "KS91_K562_ASTARRseq.Output.rep3.WGS.unstranded.bed.gz\n",
      "KS91_K562_ASTARRseq.Output.rep4.WGS.unstranded.bed.gz\n"
     ]
    }
   ],
   "source": [
    "ASSAY=KS91_K562_ASTARRseq\n",
    "FD_INP=${FD_RES}/results/${ASSAY}/fragment_count\n",
    "ls ${FD_INP}/*WGS*bed* | wc -l\n",
    "ls ${FD_INP}/*WGS*bed* | xargs -n 1 basename"
   ]
  },
  {
   "cell_type": "code",
   "execution_count": 22,
   "id": "84030f1b-0928-43f2-bfeb-5bac5b504c0e",
   "metadata": {},
   "outputs": [
    {
     "name": "stdout",
     "output_type": "stream",
     "text": [
      "/data/reddylab/Kuei/out/proj_combeffect_encode_fcc/results/KS91_K562_ASTARRseq/fragment_count/KS91_K562_ASTARRseq.Input.rep1.WGS.unstranded.bed.gz\n",
      "\n",
      "KS91_K562_ASTARRseq.Input.rep1.WGS.unstranded.bed.gz\n",
      "\n",
      "KS91_K562_ASTARRseq.Input.rep1.SUBSET.unstranded.bed.gz\n"
     ]
    }
   ],
   "source": [
    "ASSAY=KS91_K562_ASTARRseq\n",
    "FD_INP=${FD_RES}/results/${ASSAY}/fragment_count\n",
    "FP_INPS=($(ls ${FD_INP}/*WGS*bed*))\n",
    "FP_INP=${FP_INPS[0]}\n",
    "FN_INP=$(basename ${FP_INP})\n",
    "FN_OUT=${FN_INP/WGS/SUBSET}\n",
    "\n",
    "echo ${FP_INP}\n",
    "echo\n",
    "echo ${FN_INP}\n",
    "echo\n",
    "echo ${FN_OUT}"
   ]
  },
  {
   "cell_type": "markdown",
   "id": "0ca1c857-0f6b-4362-8b40-152ceef9a093",
   "metadata": {
    "tags": []
   },
   "source": [
    "## RUN"
   ]
  },
  {
   "cell_type": "code",
   "execution_count": 28,
   "id": "fd4aff85-89e0-4c4e-8e62-c549a8b1808a",
   "metadata": {},
   "outputs": [
    {
     "name": "stdout",
     "output_type": "stream",
     "text": [
      "Submitted batch job 29562356\n"
     ]
    }
   ],
   "source": [
    "sbatch -p ${NODE} \\\n",
    "    --exclude=dl-01 \\\n",
    "    --cpus-per-task 8 \\\n",
    "    --mem 8G \\\n",
    "    --output ${FD_LOG}/fragments_subset_astarr.%a.txt \\\n",
    "    --array 0-9 \\\n",
    "    <<'EOF'\n",
    "#!/bin/bash\n",
    "### set directories & global variables\n",
    "source ../config/config_duke.sh\n",
    "ASSAY=KS91_K562_ASTARRseq\n",
    "\n",
    "### print start message\n",
    "timer_start=`date +%s`\n",
    "echo \"Hostname:          \" $(hostname)\n",
    "echo \"Slurm Array Index: \" ${SLURM_ARRAY_TASK_ID}\n",
    "echo \"Time Stamp:        \" $(date +\"%m-%d-%y+%T\")\n",
    "echo\n",
    "\n",
    "### set input and output\n",
    "FD_INP=${FD_RES}/results/${ASSAY}/fragment_count\n",
    "FP_INPS=($(ls ${FD_INP}/*WGS*bed*))\n",
    "FP_INP=${FP_INPS[${SLURM_ARRAY_TASK_ID}]}\n",
    "FN_INP=$(basename ${FP_INP})\n",
    "\n",
    "FD_OUT=${FD_RES}/results/${ASSAY}/fragment_count\n",
    "FN_OUT=${FN_INP/WGS/SUBSET}\n",
    "FP_OUT=${FD_OUT}/${FN_OUT}\n",
    "\n",
    "FD_REG=${FD_RES}/results/region\n",
    "FN_REG=region_screened_selected.bed\n",
    "FP_REG=${FD_REG}/${FN_REG}\n",
    "\n",
    "### show I/O file\n",
    "echo \"Input: \" ${FP_INP}\n",
    "echo\n",
    "echo \"show first few lines of the file\"\n",
    "zcat ${FP_INP} | head -5\n",
    "echo\n",
    "echo \"Input: \" ${FP_REG}\n",
    "echo\n",
    "echo \"show lines of the file\"\n",
    "cat ${FP_REG}\n",
    "echo\n",
    "\n",
    "### annotation using intersect\n",
    "bedtools intersect -a ${FP_INP} -b ${FP_REG} -wo | gzip -c > ${FP_OUT}\n",
    "\n",
    "### show output file\n",
    "echo\n",
    "echo \"Output: \" ${FP_OUT}\n",
    "echo\n",
    "echo \"show first few lines of the file:\"\n",
    "zcat ${FP_OUT} | head -5\n",
    "echo\n",
    "\n",
    "### print end message\n",
    "timer=`date +%s`\n",
    "runtime=$(echo \"${timer} - ${timer_start}\" | bc -l)\n",
    "echo\n",
    "echo 'Done!'\n",
    "echo \"Run Time: $(displaytime ${runtime})\"\n",
    "\n",
    "EOF"
   ]
  },
  {
   "cell_type": "markdown",
   "id": "6b381a83-940c-4ad3-8d6a-71d173effe89",
   "metadata": {},
   "source": [
    "## Check"
   ]
  },
  {
   "cell_type": "code",
   "execution_count": 29,
   "id": "ed0fda2c-bdb6-47c5-8869-ab73f7b94bba",
   "metadata": {},
   "outputs": [
    {
     "name": "stdout",
     "output_type": "stream",
     "text": [
      "Hostname:           x1-02-4.genome.duke.edu\n",
      "Slurm Array Index:  0\n",
      "Time Stamp:         03-12-23+22:56:34\n",
      "\n",
      "Input:  /data/reddylab/Kuei/out/proj_combeffect_encode_fcc/results/KS91_K562_ASTARRseq/fragment_count/KS91_K562_ASTARRseq.Input.rep1.WGS.unstranded.bed.gz\n",
      "\n",
      "show first few lines of the file\n",
      "chr1\t10001\t10143\tchr1_10001_10143\t1\t.\n",
      "chr1\t10002\t10118\tchr1_10002_10118\t1\t.\n",
      "chr1\t10002\t10131\tchr1_10002_10131\t1\t.\n",
      "chr1\t10002\t10203\tchr1_10002_10203\t1\t.\n",
      "chr1\t10002\t10209\tchr1_10002_10209\t1\t.\n",
      "\n",
      "Input:  /data/reddylab/Kuei/out/proj_combeffect_encode_fcc/results/region/region_screened_selected.bed\n",
      "\n",
      "show lines of the file\n",
      "chr11\t4000000\t6600000\tchr11:4091884-6505900\n",
      "chr11\t32800000\t35000000\tchr11:32869701-34870100\n",
      "chr11\t61700000\t62000000\tchr11:61787329-61898348\n",
      "chr12\t54290000\t54310000\tchr12:54300766-54301042\n",
      "chr12\t110000000\t113000000\tchr12:110726151-112325737\n",
      "chr16\t0\t1300000\tchr16:10001-1173100\n",
      "chr19\t12880000\t12900000\tchr19:12887110-12887237\n",
      "chr2\t59000000\t62000000\tchr2:59553301-61553700\n",
      "chr20\t55500000\t59000000\tchr20:56391301-58391700\n",
      "chr3\t128475000\t128512000\tchr3:128487571-128487937\n",
      "chr4\t55000000\t56500000\tchr4:55237590-56068531\n",
      "chr5\t86000000\t91600000\tchr5:87611207-89911163\n",
      "chr6\t108000000\t111000000\tchr6:108840570-109828800\n",
      "chr6\t133000000\t138000000\tchr6:134253831-136927585\n",
      "chr8\t122000000\t136000000\tchr8:126735901-128736550\n",
      "chrX\t47000000\t51000000\tchrX:47785501-49880650\n",
      "\n",
      "\n",
      "Output:  /data/reddylab/Kuei/out/proj_combeffect_encode_fcc/results/KS91_K562_ASTARRseq/fragment_count/KS91_K562_ASTARRseq.Input.rep1.SUBSET.unstranded.bed.gz\n",
      "\n",
      "show first few lines of the file:\n",
      "chr11\t3999592\t4000108\tchr11_3999592_4000108\t1\t.\tchr11\t4000000\t6600000\tchr11:4091884-6505900\t108\n",
      "chr11\t3999629\t4000121\tchr11_3999629_4000121\t1\t.\tchr11\t4000000\t6600000\tchr11:4091884-6505900\t121\n",
      "chr11\t3999670\t4000006\tchr11_3999670_4000006\t1\t.\tchr11\t4000000\t6600000\tchr11:4091884-6505900\t6\n",
      "chr11\t3999679\t4000092\tchr11_3999679_4000092\t1\t.\tchr11\t4000000\t6600000\tchr11:4091884-6505900\t92\n",
      "chr11\t3999701\t4000025\tchr11_3999701_4000025\t1\t.\tchr11\t4000000\t6600000\tchr11:4091884-6505900\t25\n",
      "\n",
      "\n",
      "Done!\n",
      "Run Time: 5 minutes and 33 seconds\n"
     ]
    }
   ],
   "source": [
    "cat ${FD_LOG}/fragments_subset_astarr.0.txt"
   ]
  },
  {
   "cell_type": "code",
   "execution_count": 30,
   "id": "8968f9ef-27fc-4b2c-a7da-6196634c74c6",
   "metadata": {},
   "outputs": [
    {
     "name": "stdout",
     "output_type": "stream",
     "text": [
      "Hostname:           x3-05-1.genome.duke.edu\n",
      "Slurm Array Index:  9\n",
      "Time Stamp:         03-12-23+22:56:34\n",
      "\n",
      "Input:  /data/reddylab/Kuei/out/proj_combeffect_encode_fcc/results/KS91_K562_ASTARRseq/fragment_count/KS91_K562_ASTARRseq.Output.rep4.WGS.unstranded.bed.gz\n",
      "\n",
      "show first few lines of the file\n",
      "chr1\t10033\t10130\tchr1_10033_10130\t1\t.\n",
      "chr1\t10057\t10233\tchr1_10057_10233\t3\t.\n",
      "chr1\t10104\t10345\tchr1_10104_10345\t1\t.\n",
      "chr1\t10116\t10461\tchr1_10116_10461\t1\t.\n",
      "chr1\t10147\t10430\tchr1_10147_10430\t1\t.\n",
      "\n",
      "Input:  /data/reddylab/Kuei/out/proj_combeffect_encode_fcc/results/region/region_screened_selected.bed\n",
      "\n",
      "show lines of the file\n",
      "chr11\t4000000\t6600000\tchr11:4091884-6505900\n",
      "chr11\t32800000\t35000000\tchr11:32869701-34870100\n",
      "chr11\t61700000\t62000000\tchr11:61787329-61898348\n",
      "chr12\t54290000\t54310000\tchr12:54300766-54301042\n",
      "chr12\t110000000\t113000000\tchr12:110726151-112325737\n",
      "chr16\t0\t1300000\tchr16:10001-1173100\n",
      "chr19\t12880000\t12900000\tchr19:12887110-12887237\n",
      "chr2\t59000000\t62000000\tchr2:59553301-61553700\n",
      "chr20\t55500000\t59000000\tchr20:56391301-58391700\n",
      "chr3\t128475000\t128512000\tchr3:128487571-128487937\n",
      "chr4\t55000000\t56500000\tchr4:55237590-56068531\n",
      "chr5\t86000000\t91600000\tchr5:87611207-89911163\n",
      "chr6\t108000000\t111000000\tchr6:108840570-109828800\n",
      "chr6\t133000000\t138000000\tchr6:134253831-136927585\n",
      "chr8\t122000000\t136000000\tchr8:126735901-128736550\n",
      "chrX\t47000000\t51000000\tchrX:47785501-49880650\n",
      "\n",
      "\n",
      "Output:  /data/reddylab/Kuei/out/proj_combeffect_encode_fcc/results/KS91_K562_ASTARRseq/fragment_count/KS91_K562_ASTARRseq.Output.rep4.SUBSET.unstranded.bed.gz\n",
      "\n",
      "show first few lines of the file:\n",
      "chr11\t3999534\t4000055\tchr11_3999534_4000055\t1\t.\tchr11\t4000000\t6600000\tchr11:4091884-6505900\t55\n",
      "chr11\t3999534\t4000056\tchr11_3999534_4000056\t1\t.\tchr11\t4000000\t6600000\tchr11:4091884-6505900\t56\n",
      "chr11\t3999535\t4000056\tchr11_3999535_4000056\t1\t.\tchr11\t4000000\t6600000\tchr11:4091884-6505900\t56\n",
      "chr11\t3999569\t4000150\tchr11_3999569_4000150\t1\t.\tchr11\t4000000\t6600000\tchr11:4091884-6505900\t150\n",
      "chr11\t3999569\t4000151\tchr11_3999569_4000151\t1\t.\tchr11\t4000000\t6600000\tchr11:4091884-6505900\t151\n",
      "\n",
      "\n",
      "Done!\n",
      "Run Time: 1 minutes and 50 seconds\n"
     ]
    }
   ],
   "source": [
    "cat ${FD_LOG}/fragments_subset_astarr.9.txt"
   ]
  },
  {
   "cell_type": "code",
   "execution_count": null,
   "id": "8aae0758-7e80-4ed5-8f47-e16b0def6f4b",
   "metadata": {},
   "outputs": [],
   "source": []
  }
 ],
 "metadata": {
  "kernelspec": {
   "display_name": "Bash",
   "language": "bash",
   "name": "bash"
  },
  "language_info": {
   "codemirror_mode": "shell",
   "file_extension": ".sh",
   "mimetype": "text/x-sh",
   "name": "bash"
  }
 },
 "nbformat": 4,
 "nbformat_minor": 5
}
