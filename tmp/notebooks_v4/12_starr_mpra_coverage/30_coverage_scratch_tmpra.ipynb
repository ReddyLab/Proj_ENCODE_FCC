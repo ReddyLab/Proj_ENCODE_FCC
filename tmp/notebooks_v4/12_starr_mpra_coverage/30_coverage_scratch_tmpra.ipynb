{
 "cells": [
  {
   "cell_type": "markdown",
   "id": "e25e6d32",
   "metadata": {},
   "source": [
    "**Set environment**"
   ]
  },
  {
   "cell_type": "code",
   "execution_count": 1,
   "id": "0b68f808",
   "metadata": {},
   "outputs": [
    {
     "name": "stdout",
     "output_type": "stream",
     "text": [
      "You are on Duke Server: HARDAC\n",
      "BASE DIRECTORY (FD_BASE): /data/reddylab/Kuei\n",
      "WORK DIRECTORY (FD_WORK): /data/reddylab/Kuei/out\n",
      "CODE DIRECTORY (FD_CODE): /data/reddylab/Kuei/code\n",
      "SING DIRECTORY (FD_SING): /data/reddylab/Kuei/singularity\n",
      "PATH OF PROJECT (FD_PRJ): /data/reddylab/Kuei/code/Proj_CombEffect_ENCODE_FCC\n",
      "PATH OF RESULTS (FD_RES): /data/reddylab/Kuei/out/proj_combeffect_encode_fcc\n",
      "PATH OF LOG     (FD_LOG): /data/reddylab/Kuei/out/proj_combeffect_encode_fcc/log\n",
      "\n"
     ]
    }
   ],
   "source": [
    "source ../config/config_duke.sh\n",
    "source ../config/config_load_module_bedtools.sh\n",
    "show_env"
   ]
  },
  {
   "cell_type": "markdown",
   "id": "f8a0f412-adc6-4fc4-8e9b-0dc7805efe14",
   "metadata": {},
   "source": [
    "## TMPRA"
   ]
  },
  {
   "cell_type": "code",
   "execution_count": 2,
   "id": "0e85d299-173e-4e89-86f1-d98ac1c41914",
   "metadata": {},
   "outputs": [
    {
     "name": "stdout",
     "output_type": "stream",
     "text": [
      "\u001b[0m\u001b[38;5;27mA001_K562_WSTARRseq\u001b[0m  \u001b[38;5;27mKS91_K562_ASTARRseq\u001b[0m  \u001b[38;5;27mTewhey_K562_TileMPRA\u001b[0m\n",
      "\u001b[38;5;27mCRISPRi_FlowFISH\u001b[0m     \u001b[38;5;27mregion\u001b[0m\n"
     ]
    }
   ],
   "source": [
    "ls ${FD_RES}/results"
   ]
  },
  {
   "cell_type": "code",
   "execution_count": 3,
   "id": "7189a7de",
   "metadata": {},
   "outputs": [
    {
     "name": "stdout",
     "output_type": "stream",
     "text": [
      "\u001b[0m\u001b[38;5;9mOL13_20220512.hg38.norm.Input.mean.stranded_pos.bed.gz\u001b[0m\n",
      "\u001b[38;5;9mOL13_20220512.hg38.norm.Input.rep1.stranded_pos.bed.gz\u001b[0m\n",
      "\u001b[38;5;9mOL13_20220512.hg38.norm.Input.rep2.stranded_pos.bed.gz\u001b[0m\n",
      "\u001b[38;5;9mOL13_20220512.hg38.norm.Input.rep3.stranded_pos.bed.gz\u001b[0m\n",
      "\u001b[38;5;9mOL13_20220512.hg38.norm.Input.rep4.stranded_pos.bed.gz\u001b[0m\n",
      "\u001b[38;5;9mOL13_20220512.hg38.norm.Log2FC.mean.stranded_pos.bed.gz\u001b[0m\n",
      "\u001b[38;5;9mOL13_20220512.hg38.norm.Output.mean.stranded_pos.bed.gz\u001b[0m\n",
      "\u001b[38;5;9mOL13_20220512.hg38.norm.Output.rep1.stranded_pos.bed.gz\u001b[0m\n",
      "\u001b[38;5;9mOL13_20220512.hg38.norm.Output.rep2.stranded_pos.bed.gz\u001b[0m\n",
      "\u001b[38;5;9mOL13_20220512.hg38.norm.Output.rep3.stranded_pos.bed.gz\u001b[0m\n",
      "\u001b[38;5;9mOL13_20220512.hg38.norm.Output.rep4.stranded_pos.bed.gz\u001b[0m\n",
      "\u001b[38;5;9mOL13_20220512.hg38.raw.Input.rep1.stranded_pos.bed.gz\u001b[0m\n",
      "\u001b[38;5;9mOL13_20220512.hg38.raw.Input.rep2.stranded_pos.bed.gz\u001b[0m\n",
      "\u001b[38;5;9mOL13_20220512.hg38.raw.Input.rep3.stranded_pos.bed.gz\u001b[0m\n",
      "\u001b[38;5;9mOL13_20220512.hg38.raw.Input.rep4.stranded_pos.bed.gz\u001b[0m\n",
      "\u001b[38;5;9mOL13_20220512.hg38.raw.Output.rep1.stranded_pos.bed.gz\u001b[0m\n",
      "\u001b[38;5;9mOL13_20220512.hg38.raw.Output.rep2.stranded_pos.bed.gz\u001b[0m\n",
      "\u001b[38;5;9mOL13_20220512.hg38.raw.Output.rep3.stranded_pos.bed.gz\u001b[0m\n",
      "\u001b[38;5;9mOL13_20220512.hg38.raw.Output.rep4.stranded_pos.bed.gz\u001b[0m\n",
      "\u001b[38;5;9mOL43_20221003.hg38.norm.Input.mean.stranded_pos.bed.gz\u001b[0m\n",
      "\u001b[38;5;9mOL43_20221003.hg38.norm.Input.rep1.stranded_pos.bed.gz\u001b[0m\n",
      "\u001b[38;5;9mOL43_20221003.hg38.norm.Input.rep2.stranded_pos.bed.gz\u001b[0m\n",
      "\u001b[38;5;9mOL43_20221003.hg38.norm.Input.rep3.stranded_pos.bed.gz\u001b[0m\n",
      "\u001b[38;5;9mOL43_20221003.hg38.norm.Input.rep4.stranded_pos.bed.gz\u001b[0m\n",
      "\u001b[38;5;9mOL43_20221003.hg38.norm.Input.rep5.stranded_pos.bed.gz\u001b[0m\n",
      "\u001b[38;5;9mOL43_20221003.hg38.norm.Input.rep6.stranded_pos.bed.gz\u001b[0m\n",
      "\u001b[38;5;9mOL43_20221003.hg38.norm.Log2FC.mean.stranded_pos.bed.gz\u001b[0m\n",
      "\u001b[38;5;9mOL43_20221003.hg38.norm.Output.mean.stranded_pos.bed.gz\u001b[0m\n",
      "\u001b[38;5;9mOL43_20221003.hg38.norm.Output.rep1.stranded_pos.bed.gz\u001b[0m\n",
      "\u001b[38;5;9mOL43_20221003.hg38.norm.Output.rep2.stranded_pos.bed.gz\u001b[0m\n",
      "\u001b[38;5;9mOL43_20221003.hg38.norm.Output.rep3.stranded_pos.bed.gz\u001b[0m\n",
      "\u001b[38;5;9mOL43_20221003.hg38.norm.Output.rep4.stranded_pos.bed.gz\u001b[0m\n",
      "\u001b[38;5;9mOL43_20221003.hg38.norm.Output.rep5.stranded_pos.bed.gz\u001b[0m\n",
      "\u001b[38;5;9mOL43_20221003.hg38.raw.Input.rep1.stranded_pos.bed.gz\u001b[0m\n",
      "\u001b[38;5;9mOL43_20221003.hg38.raw.Input.rep2.stranded_pos.bed.gz\u001b[0m\n",
      "\u001b[38;5;9mOL43_20221003.hg38.raw.Input.rep3.stranded_pos.bed.gz\u001b[0m\n",
      "\u001b[38;5;9mOL43_20221003.hg38.raw.Input.rep4.stranded_pos.bed.gz\u001b[0m\n",
      "\u001b[38;5;9mOL43_20221003.hg38.raw.Input.rep5.stranded_pos.bed.gz\u001b[0m\n",
      "\u001b[38;5;9mOL43_20221003.hg38.raw.Input.rep6.stranded_pos.bed.gz\u001b[0m\n",
      "\u001b[38;5;9mOL43_20221003.hg38.raw.Output.rep1.stranded_pos.bed.gz\u001b[0m\n",
      "\u001b[38;5;9mOL43_20221003.hg38.raw.Output.rep2.stranded_pos.bed.gz\u001b[0m\n",
      "\u001b[38;5;9mOL43_20221003.hg38.raw.Output.rep3.stranded_pos.bed.gz\u001b[0m\n",
      "\u001b[38;5;9mOL43_20221003.hg38.raw.Output.rep4.stranded_pos.bed.gz\u001b[0m\n",
      "\u001b[38;5;9mOL43_20221003.hg38.raw.Output.rep5.stranded_pos.bed.gz\u001b[0m\n",
      "\u001b[38;5;9mOL45_20220927.hg38.norm.Input.mean.stranded_pos.bed.gz\u001b[0m\n",
      "\u001b[38;5;9mOL45_20220927.hg38.norm.Input.rep1.stranded_pos.bed.gz\u001b[0m\n",
      "\u001b[38;5;9mOL45_20220927.hg38.norm.Input.rep2.stranded_pos.bed.gz\u001b[0m\n",
      "\u001b[38;5;9mOL45_20220927.hg38.norm.Input.rep3.stranded_pos.bed.gz\u001b[0m\n",
      "\u001b[38;5;9mOL45_20220927.hg38.norm.Input.rep4.stranded_pos.bed.gz\u001b[0m\n",
      "\u001b[38;5;9mOL45_20220927.hg38.norm.Log2FC.mean.stranded_pos.bed.gz\u001b[0m\n",
      "\u001b[38;5;9mOL45_20220927.hg38.norm.Output.mean.stranded_pos.bed.gz\u001b[0m\n",
      "\u001b[38;5;9mOL45_20220927.hg38.norm.Output.rep1.stranded_pos.bed.gz\u001b[0m\n",
      "\u001b[38;5;9mOL45_20220927.hg38.norm.Output.rep2.stranded_pos.bed.gz\u001b[0m\n",
      "\u001b[38;5;9mOL45_20220927.hg38.norm.Output.rep3.stranded_pos.bed.gz\u001b[0m\n",
      "\u001b[38;5;9mOL45_20220927.hg38.norm.Output.rep4.stranded_pos.bed.gz\u001b[0m\n",
      "\u001b[38;5;9mOL45_20220927.hg38.raw.Input.rep1.stranded_pos.bed.gz\u001b[0m\n",
      "\u001b[38;5;9mOL45_20220927.hg38.raw.Input.rep2.stranded_pos.bed.gz\u001b[0m\n",
      "\u001b[38;5;9mOL45_20220927.hg38.raw.Input.rep3.stranded_pos.bed.gz\u001b[0m\n",
      "\u001b[38;5;9mOL45_20220927.hg38.raw.Input.rep4.stranded_pos.bed.gz\u001b[0m\n",
      "\u001b[38;5;9mOL45_20220927.hg38.raw.Output.rep1.stranded_pos.bed.gz\u001b[0m\n",
      "\u001b[38;5;9mOL45_20220927.hg38.raw.Output.rep2.stranded_pos.bed.gz\u001b[0m\n",
      "\u001b[38;5;9mOL45_20220927.hg38.raw.Output.rep3.stranded_pos.bed.gz\u001b[0m\n",
      "\u001b[38;5;9mOL45_20220927.hg38.raw.Output.rep4.stranded_pos.bed.gz\u001b[0m\n"
     ]
    }
   ],
   "source": [
    "ASSAY=Tewhey_K562_TileMPRA\n",
    "ls ${FD_RES}/results/${ASSAY}/coverage/track_counts"
   ]
  },
  {
   "cell_type": "code",
   "execution_count": 4,
   "id": "8026d368-a2a4-454a-84c2-7e4fc4646f64",
   "metadata": {},
   "outputs": [
    {
     "name": "stdout",
     "output_type": "stream",
     "text": [
      "OL13_20220512.hg38.raw.Input.rep1.stranded_pos.bed.gz\n",
      "OL13_20220512.hg38.raw.Input.rep2.stranded_pos.bed.gz\n",
      "OL13_20220512.hg38.raw.Input.rep3.stranded_pos.bed.gz\n",
      "OL13_20220512.hg38.raw.Input.rep4.stranded_pos.bed.gz\n",
      "OL13_20220512.hg38.raw.Output.rep1.stranded_pos.bed.gz\n",
      "OL13_20220512.hg38.raw.Output.rep2.stranded_pos.bed.gz\n",
      "OL13_20220512.hg38.raw.Output.rep3.stranded_pos.bed.gz\n",
      "OL13_20220512.hg38.raw.Output.rep4.stranded_pos.bed.gz\n"
     ]
    }
   ],
   "source": [
    "ASSAY=Tewhey_K562_TileMPRA\n",
    "PREFIX=OL13\n",
    "\n",
    "FD_INP=${FD_RES}/results/${ASSAY}/coverage/track_counts\n",
    "FP_INPS=($(ls ${FD_INP}/${PREFIX}*hg38*raw*rep*bed.gz))\n",
    "\n",
    "FD_OUT=${FD_RES}/results/${ASSAY}/coverage/track_scratch\n",
    "\n",
    "for FP_INP in ${FP_INPS[@]}; do\n",
    "    ###\n",
    "    FN_INP=$(basename ${FP_INP})\n",
    "    FN_OUT=${FN_INP}\n",
    "    FP_OUT=${FD_OUT}/${FN_OUT}\n",
    "    \n",
    "    ###\n",
    "    echo ${FN_INP}\n",
    "done"
   ]
  },
  {
   "cell_type": "code",
   "execution_count": 5,
   "id": "66de9b19-b478-4539-93b8-0cb1d058846d",
   "metadata": {},
   "outputs": [
    {
     "name": "stdout",
     "output_type": "stream",
     "text": [
      "/data/reddylab/Kuei/out/proj_combeffect_encode_fcc/results/Tewhey_K562_TileMPRA/coverage/summary/library_size_summary.tsv\n",
      "FName\tSize\tPrefix\tSample\tGroup\tType\tGenome\n",
      "OL13_20220512.hg19.norm.Input.rep1.stranded_pos.bed\t6418470.212\tOL13_20220512\tInput.rep1\tInput\tnorm\thg19\n",
      "OL13_20220512.hg19.norm.Input.rep2.stranded_pos.bed\t6412310.656\tOL13_20220512\tInput.rep2\tInput\tnorm\thg19\n",
      "OL13_20220512.hg19.norm.Input.rep3.stranded_pos.bed\t6413567.776\tOL13_20220512\tInput.rep3\tInput\tnorm\thg19\n",
      "OL13_20220512.hg19.norm.Input.rep4.stranded_pos.bed\t6410821.564\tOL13_20220512\tInput.rep4\tInput\tnorm\thg19\n",
      "OL13_20220512.hg19.norm.Output.rep1.stranded_pos.bed\t24214236.952\tOL13_20220512\tOutput.rep1\tOutput\tnorm\thg19\n",
      "OL13_20220512.hg19.norm.Output.rep2.stranded_pos.bed\t21967607.311\tOL13_20220512\tOutput.rep2\tOutput\tnorm\thg19\n",
      "OL13_20220512.hg19.norm.Output.rep3.stranded_pos.bed\t20773782.111\tOL13_20220512\tOutput.rep3\tOutput\tnorm\thg19\n",
      "OL13_20220512.hg19.norm.Output.rep4.stranded_pos.bed\t19239233.544\tOL13_20220512\tOutput.rep4\tOutput\tnorm\thg19\n",
      "OL13_20220512.hg19.raw.Input.rep1.stranded_pos.bed\t11710957\tOL13_20220512\tInput.rep1\tInput\traw\thg19\n"
     ]
    }
   ],
   "source": [
    "FP_LIB=${FD_RES}/results/${ASSAY}/coverage/summary/library_size_summary.tsv\n",
    "echo ${FP_LIB}\n",
    "head ${FP_LIB}"
   ]
  },
  {
   "cell_type": "markdown",
   "id": "7bd0fd18-37d3-4150-8030-a5187dbbcef0",
   "metadata": {},
   "source": [
    "## Scratch: Normalize track counts by library size"
   ]
  },
  {
   "cell_type": "code",
   "execution_count": 7,
   "id": "fb29a391-b916-4bd7-a824-031915cb9a30",
   "metadata": {},
   "outputs": [
    {
     "name": "stdout",
     "output_type": "stream",
     "text": [
      "OL13_20220512.hg38.raw.Input.rep1.stranded_pos.bed.gz\n",
      "OL13_20220512.hg38.raw.Input.rep1.stranded_pos.bed.gz\n",
      "OL13_20220512.hg38.raw.Input.rep1.stranded_pos.bed\n",
      "\n",
      "chr11\t61787329\t61787330\t971\tOL13_20220512.hg38.raw.Input.rep1.stranded_pos.bed\n",
      "chr11\t61787330\t61787331\t971\tOL13_20220512.hg38.raw.Input.rep1.stranded_pos.bed\n",
      "chr11\t61787331\t61787332\t971\tOL13_20220512.hg38.raw.Input.rep1.stranded_pos.bed\n",
      "chr11\t61787332\t61787333\t971\tOL13_20220512.hg38.raw.Input.rep1.stranded_pos.bed\n",
      "chr11\t61787333\t61787334\t971\tOL13_20220512.hg38.raw.Input.rep1.stranded_pos.bed\n",
      "\n",
      "chr11\t61787329\t61787330\t971\t11710957\n",
      "chr11\t61787330\t61787331\t971\t11710957\n",
      "chr11\t61787331\t61787332\t971\t11710957\n",
      "chr11\t61787332\t61787333\t971\t11710957\n",
      "chr11\t61787333\t61787334\t971\t11710957\n",
      "\n",
      "chr11\t61787329\t61787330\t82.9138\n",
      "chr11\t61787330\t61787331\t82.9138\n",
      "chr11\t61787331\t61787332\t82.9138\n",
      "chr11\t61787332\t61787333\t82.9138\n",
      "chr11\t61787333\t61787334\t82.9138\n"
     ]
    }
   ],
   "source": [
    "ASSAY=Tewhey_K562_TileMPRA\n",
    "PREFIX=OL13\n",
    "STRING1=\"\\t\\\\.\"\n",
    "STRING2=\"\\t0\"\n",
    "\n",
    "FD_INP=${FD_RES}/results/${ASSAY}/coverage/track_counts\n",
    "FP_INPS=($(ls ${FD_INP}/${PREFIX}*hg38*raw*rep*bed.gz))\n",
    "FD_OUT=${FD_RES}/results/${ASSAY}/coverage/track_scratch\n",
    "\n",
    "FP_INP=${FP_INPS[0]}\n",
    "FN_INP=$(basename ${FP_INP})\n",
    "FN_OUT=${FN_INP}\n",
    "FP_OUT=${FD_OUT}/${FN_OUT}\n",
    "PREFIX=${FN_INP%%.gz}\n",
    "\n",
    "echo ${FN_INP}\n",
    "echo ${FN_OUT}\n",
    "echo ${PREFIX}\n",
    "echo\n",
    "\n",
    "zcat ${FP_INP} \\\n",
    "| head -n 5 \\\n",
    "| awk -v PREFIX=${PREFIX} '{print $1 \"\\t\" $2 \"\\t\" $3 \"\\t\" $4 \"\\t\" PREFIX}'\n",
    "echo\n",
    "\n",
    "zcat ${FP_INP} \\\n",
    "| head -n 5 \\\n",
    "| awk -v PREFIX=${PREFIX} '{print $1 \"\\t\" $2 \"\\t\" $3 \"\\t\" $4 \"\\t\" PREFIX}' \\\n",
    "| join -1 5 -2 1 -t $'\\t' -o 1.1,1.2,1.3,1.4,2.2 - ${FP_LIB}\n",
    "echo \n",
    "\n",
    "zcat ${FP_INP} \\\n",
    "| head -n 5 \\\n",
    "| sed --expression=\"s/${STRING1}/${STRING2}/g\" \\\n",
    "| awk -v PREFIX=${PREFIX} '{print $1 \"\\t\" $2 \"\\t\" $3 \"\\t\" $4 \"\\t\" PREFIX}' \\\n",
    "| join -1 5 -2 1 -t $'\\t' -o 1.1,1.2,1.3,1.4,2.2 - ${FP_LIB} \\\n",
    "| awk '{print $1 \"\\t\" $2 \"\\t\" $3 \"\\t\" $4 * 10^6 / $5}'"
   ]
  },
  {
   "cell_type": "code",
   "execution_count": 12,
   "id": "a1eefcb2-6b3a-499d-a4f5-a0ddcd409742",
   "metadata": {},
   "outputs": [
    {
     "name": "stdout",
     "output_type": "stream",
     "text": [
      "OL13_20220512.hg38.raw.Input.rep1.stranded_pos.bed.gz\n",
      "\n",
      "OL13_20220512.hg38.raw.Input.rep2.stranded_pos.bed.gz\n",
      "\n",
      "OL13_20220512.hg38.raw.Input.rep3.stranded_pos.bed.gz\n",
      "\n",
      "OL13_20220512.hg38.raw.Input.rep4.stranded_pos.bed.gz\n",
      "\n",
      "OL13_20220512.hg38.raw.Output.rep1.stranded_pos.bed.gz\n",
      "\n",
      "OL13_20220512.hg38.raw.Output.rep2.stranded_pos.bed.gz\n",
      "\n",
      "OL13_20220512.hg38.raw.Output.rep3.stranded_pos.bed.gz\n",
      "\n",
      "OL13_20220512.hg38.raw.Output.rep4.stranded_pos.bed.gz\n",
      "\n"
     ]
    }
   ],
   "source": [
    "ASSAY=Tewhey_K562_TileMPRA\n",
    "PREFIX=OL13\n",
    "\n",
    "FD_INP=${FD_RES}/results/${ASSAY}/coverage/track_counts\n",
    "FP_INPS=($(ls ${FD_INP}/${PREFIX}*hg38*raw*rep*bed.gz))\n",
    "FD_OUT=${FD_RES}/results/${ASSAY}/coverage/track_scratch\n",
    "\n",
    "for FP_INP in ${FP_INPS[@]}; do\n",
    "    ###\n",
    "    FN_INP=$(basename ${FP_INP})\n",
    "    FN_OUT=${FN_INP}\n",
    "    FP_OUT=${FD_OUT}/${FN_OUT}\n",
    "    PREFIX=${FN_INP%%.gz}\n",
    "    \n",
    "    ###\n",
    "    echo ${FN_INP}\n",
    "    zcat ${FP_INP} \\\n",
    "    | head -n 20 \\\n",
    "    | awk -v PREFIX=${PREFIX} '{print $1 \"\\t\" $2 \"\\t\" $3 \"\\t\" $4 \"\\t\" PREFIX}' \\\n",
    "    | join -1 5 -2 1 -t $'\\t' -o 1.1,1.2,1.3,1.4,2.2 - ${FP_LIB} \\\n",
    "    | awk '{print $1 \"\\t\" $2 \"\\t\" $3 \"\\t\" $4 * 10^6 / $5}' \\\n",
    "    | gzip -c \\\n",
    "    > ${FP_OUT}\n",
    "    echo\n",
    "done"
   ]
  },
  {
   "cell_type": "code",
   "execution_count": 13,
   "id": "01069c53-0488-44a6-92a8-fdb6378c64cb",
   "metadata": {},
   "outputs": [
    {
     "name": "stdout",
     "output_type": "stream",
     "text": [
      "chr11     61787329  61787330  82.9138\n",
      "chr11     61787330  61787331  82.9138\n",
      "chr11     61787331  61787332  82.9138\n",
      "chr11     61787332  61787333  82.9138\n",
      "chr11     61787333  61787334  82.9138\n",
      "chr11     61787334  61787335  191.103\n",
      "chr11     61787335  61787336  191.103\n",
      "chr11     61787336  61787337  191.103\n",
      "chr11     61787337  61787338  191.103\n",
      "chr11     61787338  61787339  191.103\n",
      "chr11     61787339  61787340  292.12\n",
      "chr11     61787340  61787341  292.12\n",
      "chr11     61787341  61787342  292.12\n",
      "chr11     61787342  61787343  292.12\n",
      "chr11     61787343  61787344  292.12\n",
      "chr11     61787344  61787345  379.218\n",
      "chr11     61787345  61787346  379.218\n",
      "chr11     61787346  61787347  379.218\n",
      "chr11     61787347  61787348  379.218\n",
      "chr11     61787348  61787349  379.218\n"
     ]
    }
   ],
   "source": [
    "FD_OUT=${FD_RES}/results/${ASSAY}/coverage/track_scratch\n",
    "FN_OUT=OL13_20220512.hg38.raw.Input.rep1.stranded_pos.bed.gz\n",
    "FP_OUT=${FD_OUT}/${FN_OUT}\n",
    "zcat ${FP_OUT} | expand -t 10"
   ]
  },
  {
   "cell_type": "markdown",
   "id": "a7a0eddc-30d4-4a04-a777-113e97b62422",
   "metadata": {},
   "source": [
    "## Scratch: Taking mean, min, max counts for input and output"
   ]
  },
  {
   "cell_type": "code",
   "execution_count": 18,
   "id": "fdb0f6d4-4d96-47aa-be59-de238828fa54",
   "metadata": {},
   "outputs": [
    {
     "name": "stdout",
     "output_type": "stream",
     "text": [
      "OL13_20220512.hg38.raw.Input.rep1.stranded_pos.bed.gz\n",
      "OL13_20220512.hg38.raw.Input.rep2.stranded_pos.bed.gz\n",
      "OL13_20220512.hg38.raw.Input.rep3.stranded_pos.bed.gz\n",
      "OL13_20220512.hg38.raw.Input.rep4.stranded_pos.bed.gz\n",
      "\n",
      "OL13_20220512.hg38.raw.Input.mean.stranded_pos.bed.gz\n",
      "\n",
      "chr11       61787329    61787330    82.9138     82.8218     75.0103     96.9446\n",
      "chr11       61787330    61787331    82.9138     82.8218     75.0103     96.9446\n",
      "chr11       61787331    61787332    82.9138     82.8218     75.0103     96.9446\n",
      "chr11       61787332    61787333    82.9138     82.8218     75.0103     96.9446\n",
      "chr11       61787333    61787334    82.9138     82.8218     75.0103     96.9446\n",
      "chr11       61787334    61787335    191.103     168.7       176.202     182.377\n",
      "chr11       61787335    61787336    191.103     168.7       176.202     182.377\n",
      "chr11       61787336    61787337    191.103     168.7       176.202     182.377\n",
      "chr11       61787337    61787338    191.103     168.7       176.202     182.377\n",
      "chr11       61787338    61787339    191.103     168.7       176.202     182.377\n",
      "chr11       61787339    61787340    292.12      266.649     283.032     281.594\n",
      "chr11       61787340    61787341    292.12      266.649     283.032     281.594\n",
      "chr11       61787341    61787342    292.12      266.649     283.032     281.594\n",
      "chr11       61787342    61787343    292.12      266.649     283.032     281.594\n",
      "chr11       61787343    61787344    292.12      266.649     283.032     281.594\n",
      "chr11       61787344    61787345    379.218     339.386     386.805     370.056\n",
      "chr11       61787345    61787346    379.218     339.386     386.805     370.056\n",
      "chr11       61787346    61787347    379.218     339.386     386.805     370.056\n",
      "chr11       61787347    61787348    379.218     339.386     386.805     370.056\n",
      "chr11       61787348    61787349    379.218     339.386     386.805     370.056\n"
     ]
    }
   ],
   "source": [
    "ASSAY=Tewhey_K562_TileMPRA\n",
    "PREFIX=OL13\n",
    "GROUP=Input\n",
    "\n",
    "FD_INP=${FD_RES}/results/${ASSAY}/coverage/track_scratch\n",
    "FP_INPS=($(ls ${FD_INP}/${PREFIX}*hg38*raw*${GROUP}*rep*bed.gz))\n",
    "\n",
    "FD_OUT=${FD_RES}/results/${ASSAY}/coverage/track_scratch\n",
    "FP_INP=$(ls ${FD_INP}/${PREFIX}*hg38*raw*${GROUP}*rep1*bed.gz)\n",
    "FN_INP=$(basename ${FP_INP})\n",
    "FN_OUT=${FN_INP/rep1/mean}\n",
    "FP_OUT=${FD_OUT}/${FN_OUT}\n",
    "\n",
    "basename -a ${FP_INPS[@]}\n",
    "echo\n",
    "echo ${FN_OUT}\n",
    "echo\n",
    "bedtools unionbedg -i ${FP_INPS[@]} | expand -t 12"
   ]
  },
  {
   "cell_type": "code",
   "execution_count": 19,
   "id": "e74cc91b-0e4f-4eec-b6bd-1f4a3cea15c4",
   "metadata": {},
   "outputs": [
    {
     "name": "stdout",
     "output_type": "stream",
     "text": [
      "OL13_20220512.hg38.raw.Input.rep1.stranded_pos.bed.gz\n",
      "OL13_20220512.hg38.raw.Input.rep2.stranded_pos.bed.gz\n",
      "OL13_20220512.hg38.raw.Input.rep3.stranded_pos.bed.gz\n",
      "OL13_20220512.hg38.raw.Input.rep4.stranded_pos.bed.gz\n",
      "\n",
      "OL13_20220512.hg38.raw.Input.mean.stranded_pos.bed.gz\n",
      "\n",
      "chr11       61787329    61787330    84.4226     96.9446     75.0103\n",
      "chr11       61787330    61787331    84.4226     96.9446     75.0103\n",
      "chr11       61787331    61787332    84.4226     96.9446     75.0103\n",
      "chr11       61787332    61787333    84.4226     96.9446     75.0103\n",
      "chr11       61787333    61787334    84.4226     96.9446     75.0103\n",
      "chr11       61787334    61787335    179.596     191.103     168.7\n",
      "chr11       61787335    61787336    179.596     191.103     168.7\n",
      "chr11       61787336    61787337    179.596     191.103     168.7\n",
      "chr11       61787337    61787338    179.596     191.103     168.7\n",
      "chr11       61787338    61787339    179.596     191.103     168.7\n",
      "chr11       61787339    61787340    280.849     292.12      266.649\n",
      "chr11       61787340    61787341    280.849     292.12      266.649\n",
      "chr11       61787341    61787342    280.849     292.12      266.649\n",
      "chr11       61787342    61787343    280.849     292.12      266.649\n",
      "chr11       61787343    61787344    280.849     292.12      266.649\n",
      "chr11       61787344    61787345    368.866     386.805     339.386\n",
      "chr11       61787345    61787346    368.866     386.805     339.386\n",
      "chr11       61787346    61787347    368.866     386.805     339.386\n",
      "chr11       61787347    61787348    368.866     386.805     339.386\n",
      "chr11       61787348    61787349    368.866     386.805     339.386\n"
     ]
    }
   ],
   "source": [
    "ASSAY=Tewhey_K562_TileMPRA\n",
    "PREFIX=OL13\n",
    "GROUP=Input\n",
    "\n",
    "FD_INP=${FD_RES}/results/${ASSAY}/coverage/track_scratch\n",
    "FP_INPS=($(ls ${FD_INP}/${PREFIX}*hg38*raw*${GROUP}*rep*bed.gz))\n",
    "\n",
    "FD_OUT=${FD_RES}/results/${ASSAY}/coverage/track_scratch\n",
    "FP_INP=$(ls ${FD_INP}/${PREFIX}*hg38*raw*${GROUP}*rep1*bed.gz)\n",
    "FN_INP=$(basename ${FP_INP})\n",
    "FN_OUT=${FN_INP/rep1/mean}\n",
    "FP_OUT=${FD_OUT}/${FN_OUT}\n",
    "\n",
    "basename -a ${FP_INPS[@]}\n",
    "echo\n",
    "echo ${FN_OUT}\n",
    "echo\n",
    "\n",
    "bedtools unionbedg -i ${FP_INPS[@]} \\\n",
    "| awk '{\n",
    "    x_sum = 0; \n",
    "    x_min = $4;\n",
    "    x_max = $4;\n",
    "    for (col = 4; col <= NF; col++) { \n",
    "       x_sum += $col; \n",
    "       if( $col > x_max) x_max = $col;\n",
    "       if( $col < x_min) x_min = $col;\n",
    "    }\n",
    "    x_mean = x_sum / (NF-4+1);\n",
    "    print $1 \"\\t\" $2 \"\\t\" $3 \"\\t\" x_mean \"\\t\" x_max \"\\t\" x_min; \n",
    "  }' \\\n",
    "| expand -t 12"
   ]
  },
  {
   "cell_type": "code",
   "execution_count": 20,
   "id": "b569b527-02df-45c0-ab9c-f14201381fe8",
   "metadata": {},
   "outputs": [
    {
     "name": "stdout",
     "output_type": "stream",
     "text": [
      "OL13_20220512.hg38.raw.Input.rep1.stranded_pos.bed.gz\n",
      "OL13_20220512.hg38.raw.Input.rep2.stranded_pos.bed.gz\n",
      "OL13_20220512.hg38.raw.Input.rep3.stranded_pos.bed.gz\n",
      "OL13_20220512.hg38.raw.Input.rep4.stranded_pos.bed.gz\n",
      "\n",
      "OL13_20220512.hg38.raw.Input.mean.stranded_pos.bed.gz\n",
      "\n",
      "chr11\t61787329\t61787330\t84.4226\n",
      "chr11\t61787330\t61787331\t84.4226\n",
      "chr11\t61787331\t61787332\t84.4226\n",
      "chr11\t61787332\t61787333\t84.4226\n",
      "chr11\t61787333\t61787334\t84.4226\n",
      "chr11\t61787334\t61787335\t179.596\n",
      "chr11\t61787335\t61787336\t179.596\n",
      "chr11\t61787336\t61787337\t179.596\n",
      "chr11\t61787337\t61787338\t179.596\n",
      "chr11\t61787338\t61787339\t179.596\n",
      "chr11\t61787339\t61787340\t280.849\n",
      "chr11\t61787340\t61787341\t280.849\n",
      "chr11\t61787341\t61787342\t280.849\n",
      "chr11\t61787342\t61787343\t280.849\n",
      "chr11\t61787343\t61787344\t280.849\n",
      "chr11\t61787344\t61787345\t368.866\n",
      "chr11\t61787345\t61787346\t368.866\n",
      "chr11\t61787346\t61787347\t368.866\n",
      "chr11\t61787347\t61787348\t368.866\n",
      "chr11\t61787348\t61787349\t368.866\n"
     ]
    }
   ],
   "source": [
    "ASSAY=Tewhey_K562_TileMPRA\n",
    "PREFIX=OL13\n",
    "GROUP=Input\n",
    "\n",
    "FD_INP=${FD_RES}/results/${ASSAY}/coverage/track_scratch\n",
    "FP_INPS=($(ls ${FD_INP}/${PREFIX}*hg38*raw*${GROUP}*rep*bed.gz))\n",
    "\n",
    "FD_OUT=${FD_RES}/results/${ASSAY}/coverage/track_scratch\n",
    "FP_INP=$(ls ${FD_INP}/${PREFIX}*hg38*raw*${GROUP}*rep1*bed.gz)\n",
    "FN_INP=$(basename ${FP_INP})\n",
    "FN_OUT=${FN_INP/rep1/mean}\n",
    "FP_OUT=${FD_OUT}/${FN_OUT}\n",
    "\n",
    "basename -a ${FP_INPS[@]}\n",
    "echo\n",
    "echo ${FN_OUT}\n",
    "echo\n",
    "\n",
    "bedtools unionbedg -i ${FP_INPS[@]} \\\n",
    "| awk '{\n",
    "    x_sum = 0; \n",
    "    for (col = 4; col <= NF; col++) { \n",
    "       x_sum += $col; \n",
    "    }\n",
    "    x_mean = x_sum / (NF-4+1);\n",
    "    print $1 \"\\t\" $2 \"\\t\" $3 \"\\t\" x_mean; \n",
    "  }' \\\n",
    "| gzip -c \\\n",
    "> ${FP_OUT}\n",
    "\n",
    "zcat ${FP_OUT}"
   ]
  },
  {
   "cell_type": "code",
   "execution_count": 21,
   "id": "1ebc8e4e-fd55-487d-aa00-e2a214999767",
   "metadata": {},
   "outputs": [
    {
     "name": "stdout",
     "output_type": "stream",
     "text": [
      "OL13_20220512.hg38.raw.Output.rep1.stranded_pos.bed.gz\n",
      "OL13_20220512.hg38.raw.Output.rep2.stranded_pos.bed.gz\n",
      "OL13_20220512.hg38.raw.Output.rep3.stranded_pos.bed.gz\n",
      "OL13_20220512.hg38.raw.Output.rep4.stranded_pos.bed.gz\n",
      "\n",
      "OL13_20220512.hg38.raw.Output.mean.stranded_pos.bed.gz\n",
      "\n",
      "chr11\t61787329\t61787330\t14.4865\n",
      "chr11\t61787330\t61787331\t14.4865\n",
      "chr11\t61787331\t61787332\t14.4865\n",
      "chr11\t61787332\t61787333\t14.4865\n",
      "chr11\t61787333\t61787334\t14.4865\n",
      "chr11\t61787334\t61787335\t30.8914\n",
      "chr11\t61787335\t61787336\t30.8914\n",
      "chr11\t61787336\t61787337\t30.8914\n",
      "chr11\t61787337\t61787338\t30.8914\n",
      "chr11\t61787338\t61787339\t30.8914\n",
      "chr11\t61787339\t61787340\t53.4412\n",
      "chr11\t61787340\t61787341\t53.4412\n",
      "chr11\t61787341\t61787342\t53.4412\n",
      "chr11\t61787342\t61787343\t53.4412\n",
      "chr11\t61787343\t61787344\t53.4412\n",
      "chr11\t61787344\t61787345\t72.6048\n",
      "chr11\t61787345\t61787346\t72.6048\n",
      "chr11\t61787346\t61787347\t72.6048\n",
      "chr11\t61787347\t61787348\t72.6048\n",
      "chr11\t61787348\t61787349\t72.6048\n"
     ]
    }
   ],
   "source": [
    "ASSAY=Tewhey_K562_TileMPRA\n",
    "PREFIX=OL13\n",
    "GROUP=Output\n",
    "\n",
    "FD_INP=${FD_RES}/results/${ASSAY}/coverage/track_scratch\n",
    "FP_INPS=($(ls ${FD_INP}/${PREFIX}*hg38*raw*${GROUP}*rep*bed.gz))\n",
    "\n",
    "FD_OUT=${FD_RES}/results/${ASSAY}/coverage/track_scratch\n",
    "FP_INP=$(ls ${FD_INP}/${PREFIX}*hg38*raw*${GROUP}*rep1*bed.gz)\n",
    "FN_INP=$(basename ${FP_INP})\n",
    "FN_OUT=${FN_INP/rep1/mean}\n",
    "FP_OUT=${FD_OUT}/${FN_OUT}\n",
    "\n",
    "basename -a ${FP_INPS[@]}\n",
    "echo\n",
    "echo ${FN_OUT}\n",
    "echo\n",
    "\n",
    "bedtools unionbedg -i ${FP_INPS[@]} \\\n",
    "| awk '{\n",
    "    x_sum = 0; \n",
    "    for (col = 4; col <= NF; col++) { \n",
    "       x_sum += $col; \n",
    "    }\n",
    "    x_mean = x_sum / (NF-4+1);\n",
    "    print $1 \"\\t\" $2 \"\\t\" $3 \"\\t\" x_mean; \n",
    "  }' \\\n",
    "| gzip -c \\\n",
    "> ${FP_OUT}\n",
    "\n",
    "zcat ${FP_OUT}"
   ]
  },
  {
   "cell_type": "markdown",
   "id": "f2027708-8856-4696-85f9-562bd9d8802d",
   "metadata": {},
   "source": [
    "## Scratch: Caculate Log2FC"
   ]
  },
  {
   "cell_type": "code",
   "execution_count": 23,
   "id": "182a15ea-9ca9-4570-a1b9-ddfa631dbb14",
   "metadata": {},
   "outputs": [
    {
     "name": "stdout",
     "output_type": "stream",
     "text": [
      "OL13_20220512.hg38.raw.Input.mean.stranded_pos.bed.gz\n",
      "\n",
      "OL13_20220512.hg38.raw.Output.mean.stranded_pos.bed.gz\n",
      "\n",
      "OL13_20220512.hg38.raw.Log2FC.mean.stranded_pos.bed.gz\n",
      "\n",
      "chr11\t61787329\t61787330\t84.4226\t14.4865\n",
      "chr11\t61787330\t61787331\t84.4226\t14.4865\n",
      "chr11\t61787331\t61787332\t84.4226\t14.4865\n",
      "chr11\t61787332\t61787333\t84.4226\t14.4865\n",
      "chr11\t61787333\t61787334\t84.4226\t14.4865\n",
      "chr11\t61787334\t61787335\t179.596\t30.8914\n",
      "chr11\t61787335\t61787336\t179.596\t30.8914\n",
      "chr11\t61787336\t61787337\t179.596\t30.8914\n",
      "chr11\t61787337\t61787338\t179.596\t30.8914\n",
      "chr11\t61787338\t61787339\t179.596\t30.8914\n",
      "chr11\t61787339\t61787340\t280.849\t53.4412\n",
      "chr11\t61787340\t61787341\t280.849\t53.4412\n",
      "chr11\t61787341\t61787342\t280.849\t53.4412\n",
      "chr11\t61787342\t61787343\t280.849\t53.4412\n",
      "chr11\t61787343\t61787344\t280.849\t53.4412\n",
      "chr11\t61787344\t61787345\t368.866\t72.6048\n",
      "chr11\t61787345\t61787346\t368.866\t72.6048\n",
      "chr11\t61787346\t61787347\t368.866\t72.6048\n",
      "chr11\t61787347\t61787348\t368.866\t72.6048\n",
      "chr11\t61787348\t61787349\t368.866\t72.6048\n",
      "\n",
      "chr11\t61787329\t61787330\t-2.54292\n",
      "chr11\t61787330\t61787331\t-2.54292\n",
      "chr11\t61787331\t61787332\t-2.54292\n",
      "chr11\t61787332\t61787333\t-2.54292\n",
      "chr11\t61787333\t61787334\t-2.54292\n",
      "chr11\t61787334\t61787335\t-2.53948\n",
      "chr11\t61787335\t61787336\t-2.53948\n",
      "chr11\t61787336\t61787337\t-2.53948\n",
      "chr11\t61787337\t61787338\t-2.53948\n",
      "chr11\t61787338\t61787339\t-2.53948\n",
      "chr11\t61787339\t61787340\t-2.39377\n",
      "chr11\t61787340\t61787341\t-2.39377\n",
      "chr11\t61787341\t61787342\t-2.39377\n",
      "chr11\t61787342\t61787343\t-2.39377\n",
      "chr11\t61787343\t61787344\t-2.39377\n",
      "chr11\t61787344\t61787345\t-2.34496\n",
      "chr11\t61787345\t61787346\t-2.34496\n",
      "chr11\t61787346\t61787347\t-2.34496\n",
      "chr11\t61787347\t61787348\t-2.34496\n",
      "chr11\t61787348\t61787349\t-2.34496\n"
     ]
    }
   ],
   "source": [
    "ASSAY=Tewhey_K562_TileMPRA\n",
    "PREFIX=OL13\n",
    "\n",
    "FD_INP=${FD_RES}/results/${ASSAY}/coverage/track_scratch\n",
    "GROUP=\"Input\";  FP_INP1=($(ls ${FD_INP}/${PREFIX}*hg38*raw*${GROUP}*mean*bed.gz))\n",
    "GROUP=\"Output\"; FP_INP2=($(ls ${FD_INP}/${PREFIX}*hg38*raw*${GROUP}*mean*bed.gz))\n",
    "FN_INP1=$(basename ${FP_INP1})\n",
    "FN_INP2=$(basename ${FP_INP2})\n",
    "\n",
    "FD_OUT=${FD_RES}/results/${ASSAY}/coverage/track_scratch\n",
    "FN_OUT=${FN_INP1/Input/Log2FC}\n",
    "FP_OUT=${FD_OUT}/${FN_OUT}\n",
    "\n",
    "echo ${FN_INP1}\n",
    "echo \n",
    "echo ${FN_INP2}\n",
    "echo\n",
    "echo ${FN_OUT}\n",
    "echo \n",
    "\n",
    "bedtools unionbedg -i ${FP_INP1} ${FP_INP2}\n",
    "echo\n",
    "\n",
    "bedtools unionbedg -i ${FP_INP1} ${FP_INP2} \\\n",
    "| awk '{\n",
    "    log2fc = log($5)/log(2) - log($4)/log(2);\n",
    "    print $1 \"\\t\" $2 \"\\t\" $3 \"\\t\" log2fc; \n",
    "  }' \\\n",
    "| gzip -c \\\n",
    "> ${FP_OUT}\n",
    "\n",
    "zcat ${FP_OUT}"
   ]
  },
  {
   "cell_type": "code",
   "execution_count": null,
   "id": "a60712e8-3d9f-4124-b3fb-5790fbbddb29",
   "metadata": {},
   "outputs": [],
   "source": []
  },
  {
   "cell_type": "code",
   "execution_count": null,
   "id": "6ad06c7b-627e-405a-8683-79fa268adb59",
   "metadata": {},
   "outputs": [],
   "source": []
  }
 ],
 "metadata": {
  "kernelspec": {
   "display_name": "Bash",
   "language": "bash",
   "name": "bash"
  },
  "language_info": {
   "codemirror_mode": "shell",
   "file_extension": ".sh",
   "mimetype": "text/x-sh",
   "name": "bash"
  }
 },
 "nbformat": 4,
 "nbformat_minor": 5
}
