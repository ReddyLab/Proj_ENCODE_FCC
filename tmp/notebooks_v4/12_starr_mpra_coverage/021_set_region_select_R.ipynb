{
 "cells": [
  {
   "cell_type": "code",
   "execution_count": 1,
   "metadata": {},
   "outputs": [
    {
     "name": "stdout",
     "output_type": "stream",
     "text": [
      "You are in Singularity: singularity_proj_encode_fcc \n",
      "BASE DIRECTORY (FD_BASE): /data/reddylab/Kuei \n",
      "WORK DIRECTORY (FD_WORK): /data/reddylab/Kuei/out \n",
      "CODE DIRECTORY (FD_CODE): /data/reddylab/Kuei/code \n",
      "PATH OF PROJECT (FD_PRJ): /data/reddylab/Kuei/code/Proj_CombEffect_ENCODE_FCC \n",
      "PATH OF RESULTS (FD_RES): /data/reddylab/Kuei/out/proj_combeffect_encode_fcc \n",
      "PATH OF LOG     (FD_LOG): /data/reddylab/Kuei/out/proj_combeffect_encode_fcc/log \n"
     ]
    }
   ],
   "source": [
    "suppressMessages(suppressWarnings(source(\"../config/config_sing.R\")))\n",
    "show_env()"
   ]
  },
  {
   "cell_type": "code",
   "execution_count": 7,
   "metadata": {},
   "outputs": [
    {
     "name": "stdout",
     "output_type": "stream",
     "text": [
      "[1] 16  4\n"
     ]
    },
    {
     "data": {
      "text/html": [
       "<table class=\"dataframe\">\n",
       "<caption>A spec_tbl_df: 16 × 4</caption>\n",
       "<thead>\n",
       "\t<tr><th scope=col>Chrom</th><th scope=col>Start</th><th scope=col>End</th><th scope=col>Name</th></tr>\n",
       "\t<tr><th scope=col>&lt;chr&gt;</th><th scope=col>&lt;dbl&gt;</th><th scope=col>&lt;dbl&gt;</th><th scope=col>&lt;chr&gt;</th></tr>\n",
       "</thead>\n",
       "<tbody>\n",
       "\t<tr><td>chr11</td><td>  4000000</td><td>  6600000</td><td>chr11:4091884-6505900    </td></tr>\n",
       "\t<tr><td>chr11</td><td> 32800000</td><td> 35000000</td><td>chr11:32869701-34870100  </td></tr>\n",
       "\t<tr><td>chr11</td><td> 61700000</td><td> 62000000</td><td>chr11:61787329-61898348  </td></tr>\n",
       "\t<tr><td>chr12</td><td> 54290000</td><td> 54310000</td><td>chr12:54300766-54301042  </td></tr>\n",
       "\t<tr><td>chr12</td><td>110000000</td><td>113000000</td><td>chr12:110726151-112325737</td></tr>\n",
       "\t<tr><td>chr16</td><td>        0</td><td>  1300000</td><td>chr16:10001-1173100      </td></tr>\n",
       "\t<tr><td>chr19</td><td> 12880000</td><td> 12900000</td><td>chr19:12887110-12887237  </td></tr>\n",
       "\t<tr><td>chr2 </td><td> 59000000</td><td> 62000000</td><td>chr2:59553301-61553700   </td></tr>\n",
       "\t<tr><td>chr20</td><td> 55500000</td><td> 59000000</td><td>chr20:56391301-58391700  </td></tr>\n",
       "\t<tr><td>chr3 </td><td>128475000</td><td>128512000</td><td>chr3:128487571-128487937 </td></tr>\n",
       "\t<tr><td>chr4 </td><td> 55000000</td><td> 56500000</td><td>chr4:55237590-56068531   </td></tr>\n",
       "\t<tr><td>chr5 </td><td> 86000000</td><td> 91600000</td><td>chr5:87611207-89911163   </td></tr>\n",
       "\t<tr><td>chr6 </td><td>108000000</td><td>111000000</td><td>chr6:108840570-109828800 </td></tr>\n",
       "\t<tr><td>chr6 </td><td>133000000</td><td>138000000</td><td>chr6:134253831-136927585 </td></tr>\n",
       "\t<tr><td>chr8 </td><td>122000000</td><td>136000000</td><td>chr8:126735901-128736550 </td></tr>\n",
       "\t<tr><td>chrX </td><td> 47000000</td><td> 51000000</td><td>chrX:47785501-49880650   </td></tr>\n",
       "</tbody>\n",
       "</table>\n"
      ],
      "text/latex": [
       "A spec\\_tbl\\_df: 16 × 4\n",
       "\\begin{tabular}{llll}\n",
       " Chrom & Start & End & Name\\\\\n",
       " <chr> & <dbl> & <dbl> & <chr>\\\\\n",
       "\\hline\n",
       "\t chr11 &   4000000 &   6600000 & chr11:4091884-6505900    \\\\\n",
       "\t chr11 &  32800000 &  35000000 & chr11:32869701-34870100  \\\\\n",
       "\t chr11 &  61700000 &  62000000 & chr11:61787329-61898348  \\\\\n",
       "\t chr12 &  54290000 &  54310000 & chr12:54300766-54301042  \\\\\n",
       "\t chr12 & 110000000 & 113000000 & chr12:110726151-112325737\\\\\n",
       "\t chr16 &         0 &   1300000 & chr16:10001-1173100      \\\\\n",
       "\t chr19 &  12880000 &  12900000 & chr19:12887110-12887237  \\\\\n",
       "\t chr2  &  59000000 &  62000000 & chr2:59553301-61553700   \\\\\n",
       "\t chr20 &  55500000 &  59000000 & chr20:56391301-58391700  \\\\\n",
       "\t chr3  & 128475000 & 128512000 & chr3:128487571-128487937 \\\\\n",
       "\t chr4  &  55000000 &  56500000 & chr4:55237590-56068531   \\\\\n",
       "\t chr5  &  86000000 &  91600000 & chr5:87611207-89911163   \\\\\n",
       "\t chr6  & 108000000 & 111000000 & chr6:108840570-109828800 \\\\\n",
       "\t chr6  & 133000000 & 138000000 & chr6:134253831-136927585 \\\\\n",
       "\t chr8  & 122000000 & 136000000 & chr8:126735901-128736550 \\\\\n",
       "\t chrX  &  47000000 &  51000000 & chrX:47785501-49880650   \\\\\n",
       "\\end{tabular}\n"
      ],
      "text/markdown": [
       "\n",
       "A spec_tbl_df: 16 × 4\n",
       "\n",
       "| Chrom &lt;chr&gt; | Start &lt;dbl&gt; | End &lt;dbl&gt; | Name &lt;chr&gt; |\n",
       "|---|---|---|---|\n",
       "| chr11 |   4000000 |   6600000 | chr11:4091884-6505900     |\n",
       "| chr11 |  32800000 |  35000000 | chr11:32869701-34870100   |\n",
       "| chr11 |  61700000 |  62000000 | chr11:61787329-61898348   |\n",
       "| chr12 |  54290000 |  54310000 | chr12:54300766-54301042   |\n",
       "| chr12 | 110000000 | 113000000 | chr12:110726151-112325737 |\n",
       "| chr16 |         0 |   1300000 | chr16:10001-1173100       |\n",
       "| chr19 |  12880000 |  12900000 | chr19:12887110-12887237   |\n",
       "| chr2  |  59000000 |  62000000 | chr2:59553301-61553700    |\n",
       "| chr20 |  55500000 |  59000000 | chr20:56391301-58391700   |\n",
       "| chr3  | 128475000 | 128512000 | chr3:128487571-128487937  |\n",
       "| chr4  |  55000000 |  56500000 | chr4:55237590-56068531    |\n",
       "| chr5  |  86000000 |  91600000 | chr5:87611207-89911163    |\n",
       "| chr6  | 108000000 | 111000000 | chr6:108840570-109828800  |\n",
       "| chr6  | 133000000 | 138000000 | chr6:134253831-136927585  |\n",
       "| chr8  | 122000000 | 136000000 | chr8:126735901-128736550  |\n",
       "| chrX  |  47000000 |  51000000 | chrX:47785501-49880650    |\n",
       "\n"
      ],
      "text/plain": [
       "   Chrom Start     End       Name                     \n",
       "1  chr11   4000000   6600000 chr11:4091884-6505900    \n",
       "2  chr11  32800000  35000000 chr11:32869701-34870100  \n",
       "3  chr11  61700000  62000000 chr11:61787329-61898348  \n",
       "4  chr12  54290000  54310000 chr12:54300766-54301042  \n",
       "5  chr12 110000000 113000000 chr12:110726151-112325737\n",
       "6  chr16         0   1300000 chr16:10001-1173100      \n",
       "7  chr19  12880000  12900000 chr19:12887110-12887237  \n",
       "8  chr2   59000000  62000000 chr2:59553301-61553700   \n",
       "9  chr20  55500000  59000000 chr20:56391301-58391700  \n",
       "10 chr3  128475000 128512000 chr3:128487571-128487937 \n",
       "11 chr4   55000000  56500000 chr4:55237590-56068531   \n",
       "12 chr5   86000000  91600000 chr5:87611207-89911163   \n",
       "13 chr6  108000000 111000000 chr6:108840570-109828800 \n",
       "14 chr6  133000000 138000000 chr6:134253831-136927585 \n",
       "15 chr8  122000000 136000000 chr8:126735901-128736550 \n",
       "16 chrX   47000000  51000000 chrX:47785501-49880650   "
      ]
     },
     "metadata": {},
     "output_type": "display_data"
    }
   ],
   "source": [
    "fdiry = file.path(FD_RES, \"results\", \"region\")\n",
    "fname = \"region_screened_selected.bed\"\n",
    "fpath = file.path(fdiry, fname)\n",
    "\n",
    "cnames = c(\"Chrom\", \"Start\", \"End\", \"Name\")\n",
    "dat = read_tsv(fpath, col_names = cnames, show_col_types = FALSE)\n",
    "\n",
    "dat_region = dat\n",
    "print(dim(dat))\n",
    "dat"
   ]
  },
  {
   "cell_type": "code",
   "execution_count": 8,
   "metadata": {},
   "outputs": [],
   "source": [
    "fdiry = file.path(FD_RES, \"results\", \"region\")\n",
    "fname = \"region_screened_selected.bed.gz\"\n",
    "fpath = file.path(fdiry, fname)\n",
    "\n",
    "write_tsv(dat, fpath, col_names=FALSE)"
   ]
  },
  {
   "cell_type": "code",
   "execution_count": null,
   "metadata": {},
   "outputs": [],
   "source": []
  }
 ],
 "metadata": {
  "kernelspec": {
   "display_name": "R",
   "language": "R",
   "name": "ir"
  },
  "language_info": {
   "codemirror_mode": "r",
   "file_extension": ".r",
   "mimetype": "text/x-r-source",
   "name": "R",
   "pygments_lexer": "r",
   "version": "4.3.0"
  }
 },
 "nbformat": 4,
 "nbformat_minor": 4
}
