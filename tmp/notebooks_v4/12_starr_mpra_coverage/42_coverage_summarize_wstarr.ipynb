{
 "cells": [
  {
   "cell_type": "markdown",
   "id": "4639b38c-eb27-4810-8c23-8cacdb9b0172",
   "metadata": {},
   "source": [
    "**Set environment**"
   ]
  },
  {
   "cell_type": "code",
   "execution_count": 1,
   "id": "96bd93c9-c43d-40b0-9b4f-c452e3fee11d",
   "metadata": {},
   "outputs": [
    {
     "name": "stdout",
     "output_type": "stream",
     "text": [
      "You are on Duke Server: HARDAC\n",
      "BASE DIRECTORY (FD_BASE): /data/reddylab/Kuei\n",
      "WORK DIRECTORY (FD_WORK): /data/reddylab/Kuei/out\n",
      "CODE DIRECTORY (FD_CODE): /data/reddylab/Kuei/code\n",
      "SING DIRECTORY (FD_SING): /data/reddylab/Kuei/singularity\n",
      "PATH OF PROJECT (FD_PRJ): /data/reddylab/Kuei/code/Proj_CombEffect_ENCODE_FCC\n",
      "PATH OF RESULTS (FD_RES): /data/reddylab/Kuei/out/proj_combeffect_encode_fcc\n",
      "PATH OF LOG     (FD_LOG): /data/reddylab/Kuei/out/proj_combeffect_encode_fcc/log\n",
      "\n"
     ]
    }
   ],
   "source": [
    "source ../config/config_duke.sh\n",
    "source ../config/config_load_module_bedtools.sh\n",
    "show_env"
   ]
  },
  {
   "cell_type": "markdown",
   "id": "4580eae8-3736-4d1b-8f9f-67f374c90f75",
   "metadata": {},
   "source": [
    "**Check data**"
   ]
  },
  {
   "cell_type": "code",
   "execution_count": 2,
   "id": "8c028dc6-a4d9-44bd-a0e4-e9dab5f03d22",
   "metadata": {},
   "outputs": [
    {
     "name": "stdout",
     "output_type": "stream",
     "text": [
      "\u001b[0m\u001b[38;5;9mA001_K562_WSTARRseq.Input.mean.SUBSET.unstranded.bed.gz\u001b[0m\n",
      "\u001b[38;5;9mA001_K562_WSTARRseq.Input.rep1.SUBSET.unstranded.bed.gz\u001b[0m\n",
      "\u001b[38;5;9mA001_K562_WSTARRseq.Input.rep2.SUBSET.unstranded.bed.gz\u001b[0m\n",
      "\u001b[38;5;9mA001_K562_WSTARRseq.Input.rep3.SUBSET.unstranded.bed.gz\u001b[0m\n",
      "\u001b[38;5;9mA001_K562_WSTARRseq.Input.rep4.SUBSET.unstranded.bed.gz\u001b[0m\n",
      "\u001b[38;5;9mA001_K562_WSTARRseq.Output.mean.SUBSET.unstranded.bed.gz\u001b[0m\n",
      "\u001b[38;5;9mA001_K562_WSTARRseq.Output.rep1.SUBSET.unstranded.bed.gz\u001b[0m\n",
      "\u001b[38;5;9mA001_K562_WSTARRseq.Output.rep2.SUBSET.unstranded.bed.gz\u001b[0m\n",
      "\u001b[38;5;9mA001_K562_WSTARRseq.Output.rep3.SUBSET.unstranded.bed.gz\u001b[0m\n",
      "\u001b[38;5;9mA001_K562_WSTARRseq.pLog2FC.mean.SUBSET.unstranded.bed.gz\u001b[0m\n"
     ]
    }
   ],
   "source": [
    "ASSAY=A001_K562_WSTARRseq\n",
    "ls ${FD_RES}/results/${ASSAY}/coverage/track_normalized"
   ]
  },
  {
   "cell_type": "code",
   "execution_count": 5,
   "id": "c668b652-11a5-449d-be1a-2004dd3a5abc",
   "metadata": {},
   "outputs": [
    {
     "name": "stdout",
     "output_type": "stream",
     "text": [
      "A001_K562_WSTARRseq.Input.rep1.SUBSET.unstranded.bed.gz\n",
      "A001_K562_WSTARRseq.Input.rep2.SUBSET.unstranded.bed.gz\n",
      "A001_K562_WSTARRseq.Input.rep3.SUBSET.unstranded.bed.gz\n",
      "A001_K562_WSTARRseq.Input.rep4.SUBSET.unstranded.bed.gz\n"
     ]
    }
   ],
   "source": [
    "ASSAY=A001_K562_WSTARRseq\n",
    "GROUP=Input\n",
    "ls ${FD_RES}/results/${ASSAY}/coverage/track_normalized/*${GROUP}*rep*SUBSET*bed.gz \\\n",
    "| xargs -n 1 basename"
   ]
  },
  {
   "cell_type": "markdown",
   "id": "5bc117e8-ab0a-4cf5-812b-66d390a7c2fa",
   "metadata": {},
   "source": [
    "## RUN"
   ]
  },
  {
   "cell_type": "code",
   "execution_count": 6,
   "id": "9bcedc28-cdba-4220-accc-971bc09b5cfd",
   "metadata": {},
   "outputs": [
    {
     "name": "stdout",
     "output_type": "stream",
     "text": [
      "Submitted batch job 29575255\n"
     ]
    }
   ],
   "source": [
    "sbatch -p ${NODE} \\\n",
    "    --exclude=dl-01 \\\n",
    "    --cpus-per-task 8 \\\n",
    "    --mem 20G \\\n",
    "    --output ${FD_LOG}/coverage_perbase_mean_subset_WSTARR.%a.txt \\\n",
    "    --array 0-1 \\\n",
    "    <<'EOF'\n",
    "#!/bin/bash\n",
    "### set directories & global variables\n",
    "source ../config/config_duke.sh\n",
    "ASSAY=A001_K562_WSTARRseq\n",
    "SAMPLE_GROUPS=(\"Input\" \"Output\")\n",
    "\n",
    "### print start message\n",
    "timer_start=`date +%s`\n",
    "echo \"Hostname:          \" $(hostname)\n",
    "echo \"Slurm Array Index: \" ${SLURM_ARRAY_TASK_ID}\n",
    "echo \"Time Stamp:        \" $(date +\"%m-%d-%y+%T\")\n",
    "echo\n",
    "\n",
    "### set input and output files\n",
    "FD_INP=${FD_RES}/results/${ASSAY}/coverage/track_normalized\n",
    "FD_OUT=${FD_RES}/results/${ASSAY}/coverage/track_normalized\n",
    "\n",
    "GROUP=${SAMPLE_GROUPS[${SLURM_ARRAY_TASK_ID}]}\n",
    "FP_INPS=($(ls ${FD_INP}/*${GROUP}*rep*SUBSET*bed.gz))\n",
    "\n",
    "FP_INP=$(ls ${FD_INP}/*${GROUP}*rep1*SUBSET*bed.gz)\n",
    "FN_INP=$(basename ${FP_INP})\n",
    "FN_OUT=${FN_INP/rep1/mean}\n",
    "FP_OUT=${FD_OUT}/${FN_OUT}\n",
    "\n",
    "### show I/O file\n",
    "echo ++++++++++++++++++++++++++++++++++++++\n",
    "for FP_INP in ${FP_INPS[@]}; do\n",
    "    echo \"Input file: \" ${FP_INP}\n",
    "    echo\n",
    "    echo \"show first few lines of file\"\n",
    "    zcat ${FP_INP} | head -10\n",
    "    echo\n",
    "done\n",
    "\n",
    "### execute\n",
    "bedtools unionbedg -i ${FP_INPS[@]} \\\n",
    "| awk '{\n",
    "    sum = 0; \n",
    "    for (col = 4; col <= NF; col++) { \n",
    "       sum += $col; \n",
    "    }\n",
    "    mean = sum / (NF-4+1);\n",
    "    print $1 \"\\t\" $2 \"\\t\" $3 \"\\t\" mean; \n",
    "  }' \\\n",
    "| gzip -c \\\n",
    "> ${FP_OUT}\n",
    "  \n",
    "### show I/O file\n",
    "echo ++++++++++++++++++++++++++++++++++++++\n",
    "echo \"Output file: \" ${FP_OUT}\n",
    "echo\n",
    "echo \"show first few lines of file\"\n",
    "zcat ${FP_OUT} | head -10\n",
    "echo\n",
    "\n",
    "### print end message\n",
    "timer=`date +%s`\n",
    "runtime=$(echo \"${timer} - ${timer_start}\" | bc -l)\n",
    "echo\n",
    "echo 'Done!'\n",
    "echo \"Run Time: $(displaytime ${runtime})\"\n",
    "EOF"
   ]
  },
  {
   "cell_type": "markdown",
   "id": "9b79cb7e-71df-406c-8f52-5b8070fed7d4",
   "metadata": {},
   "source": [
    "## Check"
   ]
  },
  {
   "cell_type": "code",
   "execution_count": 7,
   "id": "6d0d19df-75db-4826-a7b0-b858e3710f58",
   "metadata": {},
   "outputs": [
    {
     "name": "stdout",
     "output_type": "stream",
     "text": [
      "Hostname:           x2-07-3.genome.duke.edu\n",
      "Slurm Array Index:  0\n",
      "Time Stamp:         03-16-23+09:56:32\n",
      "\n",
      "++++++++++++++++++++++++++++++++++++++\n",
      "Input file:  /data/reddylab/Kuei/out/proj_combeffect_encode_fcc/results/A001_K562_WSTARRseq/coverage/track_normalized/A001_K562_WSTARRseq.Input.rep1.SUBSET.unstranded.bed.gz\n",
      "\n",
      "show first few lines of file\n",
      "chr11\t4000000\t4000001\t0.185812\n",
      "chr11\t4000001\t4000002\t0.185812\n",
      "chr11\t4000002\t4000003\t0.185812\n",
      "chr11\t4000003\t4000004\t0.185812\n",
      "chr11\t4000004\t4000005\t0.185812\n",
      "chr11\t4000005\t4000006\t0.185812\n",
      "chr11\t4000006\t4000007\t0.185812\n",
      "chr11\t4000007\t4000008\t0.185812\n",
      "chr11\t4000008\t4000009\t0.185812\n",
      "chr11\t4000009\t4000010\t0.185812\n",
      "\n",
      "Input file:  /data/reddylab/Kuei/out/proj_combeffect_encode_fcc/results/A001_K562_WSTARRseq/coverage/track_normalized/A001_K562_WSTARRseq.Input.rep2.SUBSET.unstranded.bed.gz\n",
      "\n",
      "show first few lines of file\n",
      "chr11\t4000000\t4000001\t0.14014\n",
      "chr11\t4000001\t4000002\t0.14014\n",
      "chr11\t4000002\t4000003\t0.14014\n",
      "chr11\t4000003\t4000004\t0.13013\n",
      "chr11\t4000004\t4000005\t0.13013\n",
      "chr11\t4000005\t4000006\t0.13013\n",
      "chr11\t4000006\t4000007\t0.13013\n",
      "chr11\t4000007\t4000008\t0.13013\n",
      "chr11\t4000008\t4000009\t0.13013\n",
      "chr11\t4000009\t4000010\t0.13013\n",
      "\n",
      "Input file:  /data/reddylab/Kuei/out/proj_combeffect_encode_fcc/results/A001_K562_WSTARRseq/coverage/track_normalized/A001_K562_WSTARRseq.Input.rep3.SUBSET.unstranded.bed.gz\n",
      "\n",
      "show first few lines of file\n",
      "chr11\t4000000\t4000001\t0.142013\n",
      "chr11\t4000001\t4000002\t0.142013\n",
      "chr11\t4000002\t4000003\t0.142013\n",
      "chr11\t4000003\t4000004\t0.142013\n",
      "chr11\t4000004\t4000005\t0.142013\n",
      "chr11\t4000005\t4000006\t0.142013\n",
      "chr11\t4000006\t4000007\t0.142013\n",
      "chr11\t4000007\t4000008\t0.142013\n",
      "chr11\t4000008\t4000009\t0.132546\n",
      "chr11\t4000009\t4000010\t0.132546\n",
      "\n",
      "Input file:  /data/reddylab/Kuei/out/proj_combeffect_encode_fcc/results/A001_K562_WSTARRseq/coverage/track_normalized/A001_K562_WSTARRseq.Input.rep4.SUBSET.unstranded.bed.gz\n",
      "\n",
      "show first few lines of file\n",
      "chr11\t4000000\t4000001\t0.147282\n",
      "chr11\t4000001\t4000002\t0.147282\n",
      "chr11\t4000002\t4000003\t0.147282\n",
      "chr11\t4000003\t4000004\t0.147282\n",
      "chr11\t4000004\t4000005\t0.147282\n",
      "chr11\t4000005\t4000006\t0.147282\n",
      "chr11\t4000006\t4000007\t0.147282\n",
      "chr11\t4000007\t4000008\t0.138077\n",
      "chr11\t4000008\t4000009\t0.138077\n",
      "chr11\t4000009\t4000010\t0.138077\n",
      "\n",
      "++++++++++++++++++++++++++++++++++++++\n",
      "Output file:  /data/reddylab/Kuei/out/proj_combeffect_encode_fcc/results/A001_K562_WSTARRseq/coverage/track_normalized/A001_K562_WSTARRseq.Input.mean.SUBSET.unstranded.bed.gz\n",
      "\n",
      "show first few lines of file\n",
      "chr11\t4000000\t4000001\t0.153812\n",
      "chr11\t4000001\t4000002\t0.153812\n",
      "chr11\t4000002\t4000003\t0.153812\n",
      "chr11\t4000003\t4000004\t0.151309\n",
      "chr11\t4000004\t4000005\t0.151309\n",
      "chr11\t4000005\t4000006\t0.151309\n",
      "chr11\t4000006\t4000007\t0.151309\n",
      "chr11\t4000007\t4000008\t0.149008\n",
      "chr11\t4000008\t4000009\t0.146641\n",
      "chr11\t4000009\t4000010\t0.146641\n",
      "\n",
      "\n",
      "Done!\n",
      "Run Time: 16 minutes and 57 seconds\n"
     ]
    }
   ],
   "source": [
    "cat ${FD_LOG}/coverage_perbase_mean_subset_WSTARR.0.txt"
   ]
  },
  {
   "cell_type": "code",
   "execution_count": 8,
   "id": "bd151a3b-b8df-4e2c-b1fb-19c62e43193c",
   "metadata": {},
   "outputs": [
    {
     "name": "stdout",
     "output_type": "stream",
     "text": [
      "Hostname:           x3-04-2.genome.duke.edu\n",
      "Slurm Array Index:  1\n",
      "Time Stamp:         03-16-23+09:56:32\n",
      "\n",
      "++++++++++++++++++++++++++++++++++++++\n",
      "Input file:  /data/reddylab/Kuei/out/proj_combeffect_encode_fcc/results/A001_K562_WSTARRseq/coverage/track_normalized/A001_K562_WSTARRseq.Output.rep1.SUBSET.unstranded.bed.gz\n",
      "\n",
      "show first few lines of file\n",
      "chr11\t4000000\t4000001\t0.330529\n",
      "chr11\t4000001\t4000002\t0.324292\n",
      "chr11\t4000002\t4000003\t0.324292\n",
      "chr11\t4000003\t4000004\t0.324292\n",
      "chr11\t4000004\t4000005\t0.324292\n",
      "chr11\t4000005\t4000006\t0.324292\n",
      "chr11\t4000006\t4000007\t0.324292\n",
      "chr11\t4000007\t4000008\t0.318056\n",
      "chr11\t4000008\t4000009\t0.318056\n",
      "chr11\t4000009\t4000010\t0.318056\n",
      "\n",
      "Input file:  /data/reddylab/Kuei/out/proj_combeffect_encode_fcc/results/A001_K562_WSTARRseq/coverage/track_normalized/A001_K562_WSTARRseq.Output.rep2.SUBSET.unstranded.bed.gz\n",
      "\n",
      "show first few lines of file\n",
      "chr11\t4000000\t4000001\t0.254249\n",
      "chr11\t4000001\t4000002\t0.254249\n",
      "chr11\t4000002\t4000003\t0.254249\n",
      "chr11\t4000003\t4000004\t0.266961\n",
      "chr11\t4000004\t4000005\t0.266961\n",
      "chr11\t4000005\t4000006\t0.266961\n",
      "chr11\t4000006\t4000007\t0.266961\n",
      "chr11\t4000007\t4000008\t0.266961\n",
      "chr11\t4000008\t4000009\t0.266961\n",
      "chr11\t4000009\t4000010\t0.266961\n",
      "\n",
      "Input file:  /data/reddylab/Kuei/out/proj_combeffect_encode_fcc/results/A001_K562_WSTARRseq/coverage/track_normalized/A001_K562_WSTARRseq.Output.rep3.SUBSET.unstranded.bed.gz\n",
      "\n",
      "show first few lines of file\n",
      "chr11\t4000000\t4000001\t0.271188\n",
      "chr11\t4000001\t4000002\t0.271188\n",
      "chr11\t4000002\t4000003\t0.271188\n",
      "chr11\t4000003\t4000004\t0.271188\n",
      "chr11\t4000004\t4000005\t0.271188\n",
      "chr11\t4000005\t4000006\t0.271188\n",
      "chr11\t4000006\t4000007\t0.271188\n",
      "chr11\t4000007\t4000008\t0.271188\n",
      "chr11\t4000008\t4000009\t0.265094\n",
      "chr11\t4000009\t4000010\t0.265094\n",
      "\n",
      "++++++++++++++++++++++++++++++++++++++\n",
      "Output file:  /data/reddylab/Kuei/out/proj_combeffect_encode_fcc/results/A001_K562_WSTARRseq/coverage/track_normalized/A001_K562_WSTARRseq.Output.mean.SUBSET.unstranded.bed.gz\n",
      "\n",
      "show first few lines of file\n",
      "chr11\t4000000\t4000001\t0.285322\n",
      "chr11\t4000001\t4000002\t0.283243\n",
      "chr11\t4000002\t4000003\t0.283243\n",
      "chr11\t4000003\t4000004\t0.28748\n",
      "chr11\t4000004\t4000005\t0.28748\n",
      "chr11\t4000005\t4000006\t0.28748\n",
      "chr11\t4000006\t4000007\t0.28748\n",
      "chr11\t4000007\t4000008\t0.285402\n",
      "chr11\t4000008\t4000009\t0.28337\n",
      "chr11\t4000009\t4000010\t0.28337\n",
      "\n",
      "\n",
      "Done!\n",
      "Run Time: 11 minutes and 1 seconds\n"
     ]
    }
   ],
   "source": [
    "cat ${FD_LOG}/coverage_perbase_mean_subset_WSTARR.1.txt"
   ]
  },
  {
   "cell_type": "code",
   "execution_count": null,
   "id": "1519ed43-34b2-49a8-aa00-95e7b6f0f19b",
   "metadata": {},
   "outputs": [],
   "source": []
  },
  {
   "cell_type": "code",
   "execution_count": null,
   "id": "60359915-8273-4018-bca5-438b0f21240a",
   "metadata": {},
   "outputs": [],
   "source": []
  }
 ],
 "metadata": {
  "kernelspec": {
   "display_name": "Bash",
   "language": "bash",
   "name": "bash"
  },
  "language_info": {
   "codemirror_mode": "shell",
   "file_extension": ".sh",
   "mimetype": "text/x-sh",
   "name": "bash"
  }
 },
 "nbformat": 4,
 "nbformat_minor": 5
}
