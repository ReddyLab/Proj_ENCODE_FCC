{
 "cells": [
  {
   "cell_type": "markdown",
   "id": "5b46fe9b-e187-4252-902b-e9141957e016",
   "metadata": {},
   "source": [
    "**Set environment**"
   ]
  },
  {
   "cell_type": "code",
   "execution_count": 1,
   "id": "90c5e244-90b6-4236-9f15-4f3d1289712c",
   "metadata": {},
   "outputs": [
    {
     "name": "stdout",
     "output_type": "stream",
     "text": [
      "You are on Duke Server: HARDAC\n",
      "BASE DIRECTORY (FD_BASE): /data/reddylab/Kuei\n",
      "WORK DIRECTORY (FD_WORK): /data/reddylab/Kuei/out\n",
      "CODE DIRECTORY (FD_CODE): /data/reddylab/Kuei/code\n",
      "SING DIRECTORY (FD_SING): /data/reddylab/Kuei/singularity\n",
      "PATH OF PROJECT (FD_PRJ): /data/reddylab/Kuei/code/Proj_CombEffect_ENCODE_FCC\n",
      "PATH OF RESULTS (FD_RES): /data/reddylab/Kuei/out/proj_combeffect_encode_fcc\n",
      "PATH OF LOG     (FD_LOG): /data/reddylab/Kuei/out/proj_combeffect_encode_fcc/log\n",
      "\n"
     ]
    }
   ],
   "source": [
    "source ../config/config_duke.sh\n",
    "source ../config/config_load_module_bedtools.sh\n",
    "show_env"
   ]
  },
  {
   "cell_type": "markdown",
   "id": "124f6f10-f973-4ce8-a6df-5ca0b1b717f2",
   "metadata": {},
   "source": [
    "**Check data**"
   ]
  },
  {
   "cell_type": "code",
   "execution_count": 2,
   "id": "6ef65406-ecad-4838-8336-139ca1d7d787",
   "metadata": {},
   "outputs": [
    {
     "name": "stdout",
     "output_type": "stream",
     "text": [
      "\u001b[0m\u001b[38;5;9mKS91_K562_ASTARRseq.Input.rep1.SUBSET.unstranded.bed.gz\u001b[0m\n",
      "\u001b[38;5;9mKS91_K562_ASTARRseq.Input.rep2.SUBSET.unstranded.bed.gz\u001b[0m\n",
      "\u001b[38;5;9mKS91_K562_ASTARRseq.Input.rep3.SUBSET.unstranded.bed.gz\u001b[0m\n",
      "\u001b[38;5;9mKS91_K562_ASTARRseq.Input.rep4.SUBSET.unstranded.bed.gz\u001b[0m\n",
      "\u001b[38;5;9mKS91_K562_ASTARRseq.Input.rep5.SUBSET.unstranded.bed.gz\u001b[0m\n",
      "\u001b[38;5;9mKS91_K562_ASTARRseq.Input.rep6.SUBSET.unstranded.bed.gz\u001b[0m\n",
      "\u001b[38;5;9mKS91_K562_ASTARRseq.Output.rep1.SUBSET.unstranded.bed.gz\u001b[0m\n",
      "\u001b[38;5;9mKS91_K562_ASTARRseq.Output.rep2.SUBSET.unstranded.bed.gz\u001b[0m\n",
      "\u001b[38;5;9mKS91_K562_ASTARRseq.Output.rep3.SUBSET.unstranded.bed.gz\u001b[0m\n",
      "\u001b[38;5;9mKS91_K562_ASTARRseq.Output.rep4.SUBSET.unstranded.bed.gz\u001b[0m\n"
     ]
    }
   ],
   "source": [
    "ASSAY=KS91_K562_ASTARRseq\n",
    "ls ${FD_RES}/results/${ASSAY}/coverage/track_counts"
   ]
  },
  {
   "cell_type": "code",
   "execution_count": 3,
   "id": "82dc5c43-715e-4a69-8d3d-0e3ca3931c4c",
   "metadata": {},
   "outputs": [
    {
     "name": "stdout",
     "output_type": "stream",
     "text": [
      "Total:  10\n",
      "KS91_K562_ASTARRseq.Input.rep1.SUBSET.unstranded.bed.gz\n",
      "KS91_K562_ASTARRseq.Input.rep2.SUBSET.unstranded.bed.gz\n",
      "KS91_K562_ASTARRseq.Input.rep3.SUBSET.unstranded.bed.gz\n",
      "KS91_K562_ASTARRseq.Input.rep4.SUBSET.unstranded.bed.gz\n",
      "KS91_K562_ASTARRseq.Input.rep5.SUBSET.unstranded.bed.gz\n",
      "KS91_K562_ASTARRseq.Input.rep6.SUBSET.unstranded.bed.gz\n",
      "KS91_K562_ASTARRseq.Output.rep1.SUBSET.unstranded.bed.gz\n",
      "KS91_K562_ASTARRseq.Output.rep2.SUBSET.unstranded.bed.gz\n",
      "KS91_K562_ASTARRseq.Output.rep3.SUBSET.unstranded.bed.gz\n",
      "KS91_K562_ASTARRseq.Output.rep4.SUBSET.unstranded.bed.gz\n"
     ]
    }
   ],
   "source": [
    "ASSAY=KS91_K562_ASTARRseq\n",
    "\n",
    "FD_INP=${FD_RES}/results/${ASSAY}/coverage/track_counts\n",
    "FP_INPS=($(ls ${FD_INP}/*rep*SUBSET*bed.gz))\n",
    "FD_OUT=${FD_RES}/results/${ASSAY}/coverage/track_normalized\n",
    "\n",
    "ASSAY=KS91_K562_ASTARRseq\n",
    "FD_INP=${FD_RES}/results/${ASSAY}/fragment_count\n",
    "\n",
    "echo \"Total:  ${#FP_INPS[@]}\"\n",
    "for FP_INP in ${FP_INPS[@]}; do\n",
    "    ###\n",
    "    FN_INP=$(basename ${FP_INP})\n",
    "    FN_OUT=${FN_INP}\n",
    "    FP_OUT=${FD_OUT}/${FN_OUT}\n",
    "    \n",
    "    ###\n",
    "    echo ${FN_INP}\n",
    "done"
   ]
  },
  {
   "cell_type": "code",
   "execution_count": 4,
   "id": "8b52f2b3-310a-49d5-9385-c34531c411f2",
   "metadata": {},
   "outputs": [
    {
     "name": "stdout",
     "output_type": "stream",
     "text": [
      "/data/reddylab/Kuei/out/proj_combeffect_encode_fcc/results/KS91_K562_ASTARRseq/coverage/summary/library_size_summary.tsv\n",
      "\n",
      "FName\tSize\tPrefix\tSample\tGroup\tType\tGenome\n",
      "KS91_K562_ASTARRseq.Input.rep1.WGS.unstranded.bed.gz\t348695063\tKS91_K562_ASTARRseq\tInput.rep1\tInput\traw\thg38\n",
      "KS91_K562_ASTARRseq.Input.rep2.WGS.unstranded.bed.gz\t451369741\tKS91_K562_ASTARRseq\tInput.rep2\tInput\traw\thg38\n",
      "KS91_K562_ASTARRseq.Input.rep3.WGS.unstranded.bed.gz\t487579055\tKS91_K562_ASTARRseq\tInput.rep3\tInput\traw\thg38\n",
      "KS91_K562_ASTARRseq.Input.rep4.WGS.unstranded.bed.gz\t456246254\tKS91_K562_ASTARRseq\tInput.rep4\tInput\traw\thg38\n",
      "KS91_K562_ASTARRseq.Input.rep5.WGS.unstranded.bed.gz\t444268950\tKS91_K562_ASTARRseq\tInput.rep5\tInput\traw\thg38\n",
      "KS91_K562_ASTARRseq.Input.rep6.WGS.unstranded.bed.gz\t397333562\tKS91_K562_ASTARRseq\tInput.rep6\tInput\traw\thg38\n",
      "KS91_K562_ASTARRseq.Output.rep1.WGS.unstranded.bed.gz\t44103844\tKS91_K562_ASTARRseq\tOutput.rep1\tOutput\traw\thg38\n",
      "KS91_K562_ASTARRseq.Output.rep2.WGS.unstranded.bed.gz\t97471282\tKS91_K562_ASTARRseq\tOutput.rep2\tOutput\traw\thg38\n",
      "KS91_K562_ASTARRseq.Output.rep3.WGS.unstranded.bed.gz\t84103298\tKS91_K562_ASTARRseq\tOutput.rep3\tOutput\traw\thg38\n",
      "KS91_K562_ASTARRseq.Output.rep4.WGS.unstranded.bed.gz\t183115379\tKS91_K562_ASTARRseq\tOutput.rep4\tOutput\traw\thg38\n"
     ]
    }
   ],
   "source": [
    "FP_LIB=${FD_RES}/results/${ASSAY}/coverage/summary/library_size_summary.tsv\n",
    "echo ${FP_LIB}\n",
    "echo \n",
    "cat  ${FP_LIB}"
   ]
  },
  {
   "cell_type": "markdown",
   "id": "c43c07c7-0ec2-42e8-9feb-335c7c55b426",
   "metadata": {},
   "source": [
    "## RUN"
   ]
  },
  {
   "cell_type": "code",
   "execution_count": 5,
   "id": "c42acc1c-0cec-4bb6-ae2e-6aa8410dd8e3",
   "metadata": {},
   "outputs": [
    {
     "name": "stdout",
     "output_type": "stream",
     "text": [
      "Submitted batch job 29574632\n"
     ]
    }
   ],
   "source": [
    "sbatch -p ${NODE} \\\n",
    "    --exclude=dl-01 \\\n",
    "    --cpus-per-task 8 \\\n",
    "    --mem 20G \\\n",
    "    --output ${FD_LOG}/coverage_perbase_normalize_subset_ASTARR.%a.txt \\\n",
    "    --array 0-9 \\\n",
    "    <<'EOF'\n",
    "#!/bin/bash\n",
    "### set directories & global variables\n",
    "source ../config/config_duke.sh\n",
    "ASSAY=KS91_K562_ASTARRseq\n",
    "\n",
    "### print start message\n",
    "timer_start=`date +%s`\n",
    "echo \"Hostname:          \" $(hostname)\n",
    "echo \"Slurm Array Index: \" ${SLURM_ARRAY_TASK_ID}\n",
    "echo \"Time Stamp:        \" $(date +\"%m-%d-%y+%T\")\n",
    "echo\n",
    "\n",
    "### set input and output files\n",
    "FD_INP=${FD_RES}/results/${ASSAY}/coverage/track_counts\n",
    "FD_OUT=${FD_RES}/results/${ASSAY}/coverage/track_normalized\n",
    "\n",
    "FD_LIB=${FD_RES}/results/${ASSAY}/coverage/summary\n",
    "FN_LIB=library_size_summary.tsv\n",
    "FP_LIB=${FD_LIB}/${FN_LIB}\n",
    "\n",
    "FP_INPS=($(ls ${FD_INP}/*rep*SUBSET*bed.gz))\n",
    "FP_INP=${FP_INPS[${SLURM_ARRAY_TASK_ID}]}\n",
    "FN_INP=$(basename ${FP_INP})\n",
    "FN_OUT=${FN_INP}\n",
    "FP_OUT=${FD_OUT}/${FN_OUT}\n",
    "PREFIX=${FN_OUT/SUBSET/WGS}\n",
    "\n",
    "### show I/O file\n",
    "echo ++++++++++++++++++++++++++++++++++++++\n",
    "echo \"Input: \" ${FP_LIB}\n",
    "echo\n",
    "echo \"show first few lines of file\"\n",
    "cat ${FP_LIB}\n",
    "echo\n",
    "echo ++++++++++++++++++++++++++++++++++++++\n",
    "echo \"Input: \" ${FP_INP}\n",
    "echo\n",
    "echo \"show first few lines of file\"\n",
    "zcat ${FP_INP} | head -5\n",
    "echo\n",
    "\n",
    "### execute\n",
    "STRING1=\"\\t\\\\.\"\n",
    "STRING2=\"\\t0\"\n",
    "\n",
    "zcat ${FP_INP} \\\n",
    "| sed --expression=\"s/${STRING1}/${STRING2}/g\" \\\n",
    "| awk -v PREFIX=${PREFIX} '{print $1 \"\\t\" $2 \"\\t\" $3 \"\\t\" $4 \"\\t\" PREFIX}' \\\n",
    "| join -1 5 -2 1 -t $'\\t' -o 1.1,1.2,1.3,1.4,2.2 - ${FP_LIB} \\\n",
    "| awk '{print $1 \"\\t\" $2 \"\\t\" $3 \"\\t\" $4 * 10^6 / $5}' \\\n",
    "| gzip -c \\\n",
    "> ${FP_OUT}\n",
    "\n",
    "### show I/O file\n",
    "echo ++++++++++++++++++++++++++++++++++++++\n",
    "echo \"Output: \" ${FP_OUT}\n",
    "echo\n",
    "echo \"show first few lines of file\"\n",
    "zcat ${FP_OUT} | head -5\n",
    "echo\n",
    "\n",
    "### print end message\n",
    "timer=`date +%s`\n",
    "runtime=$(echo \"${timer} - ${timer_start}\" | bc -l)\n",
    "echo\n",
    "echo 'Done!'\n",
    "echo \"Run Time: $(displaytime ${runtime})\"\n",
    "EOF"
   ]
  },
  {
   "cell_type": "markdown",
   "id": "525a839e-9dad-460f-aa37-f3991283cecb",
   "metadata": {},
   "source": [
    "## Check"
   ]
  },
  {
   "cell_type": "code",
   "execution_count": 6,
   "id": "33c1dce1-c1e1-4a69-a5f4-216190569d6b",
   "metadata": {},
   "outputs": [
    {
     "name": "stdout",
     "output_type": "stream",
     "text": [
      "Hostname:           x3-01-2.genome.duke.edu\n",
      "Slurm Array Index:  0\n",
      "Time Stamp:         03-15-23+13:51:55\n",
      "\n",
      "++++++++++++++++++++++++++++++++++++++\n",
      "Input:  /data/reddylab/Kuei/out/proj_combeffect_encode_fcc/results/KS91_K562_ASTARRseq/coverage/summary/library_size_summary.tsv\n",
      "\n",
      "show first few lines of file\n",
      "FName\tSize\tPrefix\tSample\tGroup\tType\tGenome\n",
      "KS91_K562_ASTARRseq.Input.rep1.WGS.unstranded.bed.gz\t348695063\tKS91_K562_ASTARRseq\tInput.rep1\tInput\traw\thg38\n",
      "KS91_K562_ASTARRseq.Input.rep2.WGS.unstranded.bed.gz\t451369741\tKS91_K562_ASTARRseq\tInput.rep2\tInput\traw\thg38\n",
      "KS91_K562_ASTARRseq.Input.rep3.WGS.unstranded.bed.gz\t487579055\tKS91_K562_ASTARRseq\tInput.rep3\tInput\traw\thg38\n",
      "KS91_K562_ASTARRseq.Input.rep4.WGS.unstranded.bed.gz\t456246254\tKS91_K562_ASTARRseq\tInput.rep4\tInput\traw\thg38\n",
      "KS91_K562_ASTARRseq.Input.rep5.WGS.unstranded.bed.gz\t444268950\tKS91_K562_ASTARRseq\tInput.rep5\tInput\traw\thg38\n",
      "KS91_K562_ASTARRseq.Input.rep6.WGS.unstranded.bed.gz\t397333562\tKS91_K562_ASTARRseq\tInput.rep6\tInput\traw\thg38\n",
      "KS91_K562_ASTARRseq.Output.rep1.WGS.unstranded.bed.gz\t44103844\tKS91_K562_ASTARRseq\tOutput.rep1\tOutput\traw\thg38\n",
      "KS91_K562_ASTARRseq.Output.rep2.WGS.unstranded.bed.gz\t97471282\tKS91_K562_ASTARRseq\tOutput.rep2\tOutput\traw\thg38\n",
      "KS91_K562_ASTARRseq.Output.rep3.WGS.unstranded.bed.gz\t84103298\tKS91_K562_ASTARRseq\tOutput.rep3\tOutput\traw\thg38\n",
      "KS91_K562_ASTARRseq.Output.rep4.WGS.unstranded.bed.gz\t183115379\tKS91_K562_ASTARRseq\tOutput.rep4\tOutput\traw\thg38\n",
      "\n",
      "++++++++++++++++++++++++++++++++++++++\n",
      "Input:  /data/reddylab/Kuei/out/proj_combeffect_encode_fcc/results/KS91_K562_ASTARRseq/coverage/track_counts/KS91_K562_ASTARRseq.Input.rep1.SUBSET.unstranded.bed.gz\n",
      "\n",
      "show first few lines of file\n",
      "chr11\t4000000\t4000001\t33\n",
      "chr11\t4000001\t4000002\t32\n",
      "chr11\t4000002\t4000003\t32\n",
      "chr11\t4000003\t4000004\t32\n",
      "chr11\t4000004\t4000005\t32\n",
      "\n",
      "++++++++++++++++++++++++++++++++++++++\n",
      "Output:  /data/reddylab/Kuei/out/proj_combeffect_encode_fcc/results/KS91_K562_ASTARRseq/coverage/track_normalized/KS91_K562_ASTARRseq.Input.rep1.SUBSET.unstranded.bed.gz\n",
      "\n",
      "show first few lines of file\n",
      "chr11\t4000000\t4000001\t0.0946386\n",
      "chr11\t4000001\t4000002\t0.0917707\n",
      "chr11\t4000002\t4000003\t0.0917707\n",
      "chr11\t4000003\t4000004\t0.0917707\n",
      "chr11\t4000004\t4000005\t0.0917707\n",
      "\n",
      "\n",
      "Done!\n",
      "Run Time: 3 minutes and 8 seconds\n"
     ]
    }
   ],
   "source": [
    "cat ${FD_LOG}/coverage_perbase_normalize_subset_ASTARR.0.txt"
   ]
  },
  {
   "cell_type": "code",
   "execution_count": 7,
   "id": "df0da87a-9a60-432d-a0f2-943a27c09220",
   "metadata": {},
   "outputs": [
    {
     "name": "stdout",
     "output_type": "stream",
     "text": [
      "Hostname:           x3-05-4.genome.duke.edu\n",
      "Slurm Array Index:  9\n",
      "Time Stamp:         03-15-23+13:51:55\n",
      "\n",
      "++++++++++++++++++++++++++++++++++++++\n",
      "Input:  /data/reddylab/Kuei/out/proj_combeffect_encode_fcc/results/KS91_K562_ASTARRseq/coverage/summary/library_size_summary.tsv\n",
      "\n",
      "show first few lines of file\n",
      "FName\tSize\tPrefix\tSample\tGroup\tType\tGenome\n",
      "KS91_K562_ASTARRseq.Input.rep1.WGS.unstranded.bed.gz\t348695063\tKS91_K562_ASTARRseq\tInput.rep1\tInput\traw\thg38\n",
      "KS91_K562_ASTARRseq.Input.rep2.WGS.unstranded.bed.gz\t451369741\tKS91_K562_ASTARRseq\tInput.rep2\tInput\traw\thg38\n",
      "KS91_K562_ASTARRseq.Input.rep3.WGS.unstranded.bed.gz\t487579055\tKS91_K562_ASTARRseq\tInput.rep3\tInput\traw\thg38\n",
      "KS91_K562_ASTARRseq.Input.rep4.WGS.unstranded.bed.gz\t456246254\tKS91_K562_ASTARRseq\tInput.rep4\tInput\traw\thg38\n",
      "KS91_K562_ASTARRseq.Input.rep5.WGS.unstranded.bed.gz\t444268950\tKS91_K562_ASTARRseq\tInput.rep5\tInput\traw\thg38\n",
      "KS91_K562_ASTARRseq.Input.rep6.WGS.unstranded.bed.gz\t397333562\tKS91_K562_ASTARRseq\tInput.rep6\tInput\traw\thg38\n",
      "KS91_K562_ASTARRseq.Output.rep1.WGS.unstranded.bed.gz\t44103844\tKS91_K562_ASTARRseq\tOutput.rep1\tOutput\traw\thg38\n",
      "KS91_K562_ASTARRseq.Output.rep2.WGS.unstranded.bed.gz\t97471282\tKS91_K562_ASTARRseq\tOutput.rep2\tOutput\traw\thg38\n",
      "KS91_K562_ASTARRseq.Output.rep3.WGS.unstranded.bed.gz\t84103298\tKS91_K562_ASTARRseq\tOutput.rep3\tOutput\traw\thg38\n",
      "KS91_K562_ASTARRseq.Output.rep4.WGS.unstranded.bed.gz\t183115379\tKS91_K562_ASTARRseq\tOutput.rep4\tOutput\traw\thg38\n",
      "\n",
      "++++++++++++++++++++++++++++++++++++++\n",
      "Input:  /data/reddylab/Kuei/out/proj_combeffect_encode_fcc/results/KS91_K562_ASTARRseq/coverage/track_counts/KS91_K562_ASTARRseq.Output.rep4.SUBSET.unstranded.bed.gz\n",
      "\n",
      "show first few lines of file\n",
      "chr11\t4000000\t4000001\t26\n",
      "chr11\t4000001\t4000002\t26\n",
      "chr11\t4000002\t4000003\t26\n",
      "chr11\t4000003\t4000004\t26\n",
      "chr11\t4000004\t4000005\t26\n",
      "\n",
      "++++++++++++++++++++++++++++++++++++++\n",
      "Output:  /data/reddylab/Kuei/out/proj_combeffect_encode_fcc/results/KS91_K562_ASTARRseq/coverage/track_normalized/KS91_K562_ASTARRseq.Output.rep4.SUBSET.unstranded.bed.gz\n",
      "\n",
      "show first few lines of file\n",
      "chr11\t4000000\t4000001\t0.141987\n",
      "chr11\t4000001\t4000002\t0.141987\n",
      "chr11\t4000002\t4000003\t0.141987\n",
      "chr11\t4000003\t4000004\t0.141987\n",
      "chr11\t4000004\t4000005\t0.141987\n",
      "\n",
      "\n",
      "Done!\n",
      "Run Time: 3 minutes and 22 seconds\n"
     ]
    }
   ],
   "source": [
    "cat ${FD_LOG}/coverage_perbase_normalize_subset_ASTARR.9.txt"
   ]
  },
  {
   "cell_type": "code",
   "execution_count": null,
   "id": "3dff2956-44b3-4898-a26e-9ccf1885626a",
   "metadata": {},
   "outputs": [],
   "source": []
  }
 ],
 "metadata": {
  "kernelspec": {
   "display_name": "Bash",
   "language": "bash",
   "name": "bash"
  },
  "language_info": {
   "codemirror_mode": "shell",
   "file_extension": ".sh",
   "mimetype": "text/x-sh",
   "name": "bash"
  }
 },
 "nbformat": 4,
 "nbformat_minor": 5
}
