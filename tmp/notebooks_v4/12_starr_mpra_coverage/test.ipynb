{
 "cells": [
  {
   "cell_type": "code",
   "execution_count": 1,
   "metadata": {},
   "outputs": [
    {
     "name": "stdout",
     "output_type": "stream",
     "text": [
      "You are in Singularity: singularity_proj_encode_fcc \n",
      "BASE DIRECTORY (FD_BASE): /data/reddylab/Kuei \n",
      "WORK DIRECTORY (FD_WORK): /data/reddylab/Kuei/out \n",
      "CODE DIRECTORY (FD_CODE): /data/reddylab/Kuei/code \n",
      "PATH OF PROJECT (FD_PRJ): /data/reddylab/Kuei/code/Proj_CombEffect_ENCODE_FCC \n",
      "PATH OF RESULTS (FD_RES): /data/reddylab/Kuei/out/proj_combeffect_encode_fcc \n",
      "PATH OF LOG     (FD_LOG): /data/reddylab/Kuei/out/proj_combeffect_encode_fcc/log \n"
     ]
    }
   ],
   "source": [
    "suppressMessages(suppressWarnings(source(\"../config/config_sing.R\")))\n",
    "show_env()"
   ]
  },
  {
   "cell_type": "code",
   "execution_count": 3,
   "metadata": {},
   "outputs": [
    {
     "name": "stderr",
     "output_type": "stream",
     "text": [
      "\u001b[1mRows: \u001b[22m\u001b[34m38522888\u001b[39m \u001b[1mColumns: \u001b[22m\u001b[34m6\u001b[39m\n",
      "\u001b[36m──\u001b[39m \u001b[1mColumn specification\u001b[22m \u001b[36m───────────────────────────────────────────────────────────────────────\u001b[39m\n",
      "\u001b[1mDelimiter:\u001b[22m \"\\t\"\n",
      "\u001b[31mchr\u001b[39m (3): X1, X4, X6\n",
      "\u001b[32mdbl\u001b[39m (3): X2, X3, X5\n",
      "\n",
      "\u001b[36mℹ\u001b[39m Use `spec()` to retrieve the full column specification for this data.\n",
      "\u001b[36mℹ\u001b[39m Specify the column types or set `show_col_types = FALSE` to quiet this message.\n"
     ]
    }
   ],
   "source": [
    "fpath=\"/data/reddylab/Kuei/out/proj_combeffect_encode_fcc/results/A001_K562_WSTARRseq/fragment_count/A001_K562_WSTARRseq.Output.rep3.WGS.unstranded.bed.gz\"\n",
    "dat_lib = read_tsv(fpath, col_names = FALSE)"
   ]
  },
  {
   "cell_type": "code",
   "execution_count": 4,
   "metadata": {},
   "outputs": [
    {
     "name": "stdout",
     "output_type": "stream",
     "text": [
      "[1] 38522888        6\n"
     ]
    },
    {
     "data": {
      "text/html": [
       "<table class=\"dataframe\">\n",
       "<caption>A tibble: 6 × 6</caption>\n",
       "<thead>\n",
       "\t<tr><th scope=col>X1</th><th scope=col>X2</th><th scope=col>X3</th><th scope=col>X4</th><th scope=col>X5</th><th scope=col>X6</th></tr>\n",
       "\t<tr><th scope=col>&lt;chr&gt;</th><th scope=col>&lt;dbl&gt;</th><th scope=col>&lt;dbl&gt;</th><th scope=col>&lt;chr&gt;</th><th scope=col>&lt;dbl&gt;</th><th scope=col>&lt;chr&gt;</th></tr>\n",
       "</thead>\n",
       "<tbody>\n",
       "\t<tr><td>chr1</td><td>10537</td><td>11067</td><td>chr1_10537_11067</td><td>1</td><td>.</td></tr>\n",
       "\t<tr><td>chr1</td><td>14408</td><td>14799</td><td>chr1_14408_14799</td><td>1</td><td>.</td></tr>\n",
       "\t<tr><td>chr1</td><td>14498</td><td>14937</td><td>chr1_14498_14937</td><td>1</td><td>.</td></tr>\n",
       "\t<tr><td>chr1</td><td>14676</td><td>15184</td><td>chr1_14676_15184</td><td>1</td><td>.</td></tr>\n",
       "\t<tr><td>chr1</td><td>14684</td><td>15162</td><td>chr1_14684_15162</td><td>1</td><td>.</td></tr>\n",
       "\t<tr><td>chr1</td><td>14690</td><td>15158</td><td>chr1_14690_15158</td><td>1</td><td>.</td></tr>\n",
       "</tbody>\n",
       "</table>\n"
      ],
      "text/latex": [
       "A tibble: 6 × 6\n",
       "\\begin{tabular}{llllll}\n",
       " X1 & X2 & X3 & X4 & X5 & X6\\\\\n",
       " <chr> & <dbl> & <dbl> & <chr> & <dbl> & <chr>\\\\\n",
       "\\hline\n",
       "\t chr1 & 10537 & 11067 & chr1\\_10537\\_11067 & 1 & .\\\\\n",
       "\t chr1 & 14408 & 14799 & chr1\\_14408\\_14799 & 1 & .\\\\\n",
       "\t chr1 & 14498 & 14937 & chr1\\_14498\\_14937 & 1 & .\\\\\n",
       "\t chr1 & 14676 & 15184 & chr1\\_14676\\_15184 & 1 & .\\\\\n",
       "\t chr1 & 14684 & 15162 & chr1\\_14684\\_15162 & 1 & .\\\\\n",
       "\t chr1 & 14690 & 15158 & chr1\\_14690\\_15158 & 1 & .\\\\\n",
       "\\end{tabular}\n"
      ],
      "text/markdown": [
       "\n",
       "A tibble: 6 × 6\n",
       "\n",
       "| X1 &lt;chr&gt; | X2 &lt;dbl&gt; | X3 &lt;dbl&gt; | X4 &lt;chr&gt; | X5 &lt;dbl&gt; | X6 &lt;chr&gt; |\n",
       "|---|---|---|---|---|---|\n",
       "| chr1 | 10537 | 11067 | chr1_10537_11067 | 1 | . |\n",
       "| chr1 | 14408 | 14799 | chr1_14408_14799 | 1 | . |\n",
       "| chr1 | 14498 | 14937 | chr1_14498_14937 | 1 | . |\n",
       "| chr1 | 14676 | 15184 | chr1_14676_15184 | 1 | . |\n",
       "| chr1 | 14684 | 15162 | chr1_14684_15162 | 1 | . |\n",
       "| chr1 | 14690 | 15158 | chr1_14690_15158 | 1 | . |\n",
       "\n"
      ],
      "text/plain": [
       "  X1   X2    X3    X4               X5 X6\n",
       "1 chr1 10537 11067 chr1_10537_11067 1  . \n",
       "2 chr1 14408 14799 chr1_14408_14799 1  . \n",
       "3 chr1 14498 14937 chr1_14498_14937 1  . \n",
       "4 chr1 14676 15184 chr1_14676_15184 1  . \n",
       "5 chr1 14684 15162 chr1_14684_15162 1  . \n",
       "6 chr1 14690 15158 chr1_14690_15158 1  . "
      ]
     },
     "metadata": {},
     "output_type": "display_data"
    }
   ],
   "source": [
    "dat = dat_lib\n",
    "print(dim(dat))\n",
    "head(dat)"
   ]
  },
  {
   "cell_type": "code",
   "execution_count": null,
   "metadata": {},
   "outputs": [],
   "source": []
  }
 ],
 "metadata": {
  "kernelspec": {
   "display_name": "R",
   "language": "R",
   "name": "ir"
  },
  "language_info": {
   "codemirror_mode": "r",
   "file_extension": ".r",
   "mimetype": "text/x-r-source",
   "name": "R",
   "pygments_lexer": "r",
   "version": "4.2.2"
  }
 },
 "nbformat": 4,
 "nbformat_minor": 4
}
