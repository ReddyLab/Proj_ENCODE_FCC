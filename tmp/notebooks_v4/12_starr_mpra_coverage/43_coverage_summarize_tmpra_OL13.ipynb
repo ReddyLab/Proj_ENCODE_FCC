{
 "cells": [
  {
   "cell_type": "markdown",
   "id": "4639b38c-eb27-4810-8c23-8cacdb9b0172",
   "metadata": {},
   "source": [
    "**Set environment**"
   ]
  },
  {
   "cell_type": "code",
   "execution_count": 1,
   "id": "96bd93c9-c43d-40b0-9b4f-c452e3fee11d",
   "metadata": {},
   "outputs": [
    {
     "name": "stdout",
     "output_type": "stream",
     "text": [
      "You are on Duke Server: HARDAC\n",
      "BASE DIRECTORY (FD_BASE): /data/reddylab/Kuei\n",
      "WORK DIRECTORY (FD_WORK): /data/reddylab/Kuei/out\n",
      "CODE DIRECTORY (FD_CODE): /data/reddylab/Kuei/code\n",
      "SING DIRECTORY (FD_SING): /data/reddylab/Kuei/singularity\n",
      "PATH OF PROJECT (FD_PRJ): /data/reddylab/Kuei/code/Proj_CombEffect_ENCODE_FCC\n",
      "PATH OF RESULTS (FD_RES): /data/reddylab/Kuei/out/proj_combeffect_encode_fcc\n",
      "PATH OF LOG     (FD_LOG): /data/reddylab/Kuei/out/proj_combeffect_encode_fcc/log\n",
      "\n"
     ]
    }
   ],
   "source": [
    "source ../config/config_duke.sh\n",
    "source ../config/config_load_module_bedtools.sh\n",
    "show_env"
   ]
  },
  {
   "cell_type": "markdown",
   "id": "4580eae8-3736-4d1b-8f9f-67f374c90f75",
   "metadata": {},
   "source": [
    "**Check data**"
   ]
  },
  {
   "cell_type": "code",
   "execution_count": 2,
   "id": "8c028dc6-a4d9-44bd-a0e4-e9dab5f03d22",
   "metadata": {},
   "outputs": [
    {
     "name": "stdout",
     "output_type": "stream",
     "text": [
      "OL13_20220512.hg38.raw.Input.rep1.stranded_pos.bed.gz\n",
      "OL13_20220512.hg38.raw.Input.rep2.stranded_pos.bed.gz\n",
      "OL13_20220512.hg38.raw.Input.rep3.stranded_pos.bed.gz\n",
      "OL13_20220512.hg38.raw.Input.rep4.stranded_pos.bed.gz\n"
     ]
    }
   ],
   "source": [
    "ASSAY=Tewhey_K562_TileMPRA\n",
    "PREFIX=OL13\n",
    "GROUP=Input\n",
    "ls ${FD_RES}/results/${ASSAY}/coverage/track_normalized/${PREFIX}*hg38*raw*${GROUP}*rep*bed.gz \\\n",
    "| xargs -n 1 basename"
   ]
  },
  {
   "cell_type": "code",
   "execution_count": 3,
   "id": "5c5f4041-23fa-434c-811d-67efe9297c6c",
   "metadata": {},
   "outputs": [
    {
     "name": "stdout",
     "output_type": "stream",
     "text": [
      "OL13_20220512.hg38.raw.Input.rep1.stranded_pos.bed.gz\n"
     ]
    }
   ],
   "source": [
    "ASSAY=Tewhey_K562_TileMPRA\n",
    "PREFIX=OL13\n",
    "GROUP=Input\n",
    "ls ${FD_RES}/results/${ASSAY}/coverage/track_normalized/${PREFIX}*hg38*raw*${GROUP}*rep1*bed.gz \\\n",
    "| xargs -n 1 basename"
   ]
  },
  {
   "cell_type": "markdown",
   "id": "5bc117e8-ab0a-4cf5-812b-66d390a7c2fa",
   "metadata": {},
   "source": [
    "## RUN"
   ]
  },
  {
   "cell_type": "code",
   "execution_count": 4,
   "id": "9bcedc28-cdba-4220-accc-971bc09b5cfd",
   "metadata": {},
   "outputs": [
    {
     "name": "stdout",
     "output_type": "stream",
     "text": [
      "Submitted batch job 29574758\n"
     ]
    }
   ],
   "source": [
    "sbatch -p ${NODE} \\\n",
    "    --exclude=dl-01 \\\n",
    "    --cpus-per-task 8 \\\n",
    "    --mem 20G \\\n",
    "    --output ${FD_LOG}/coverage_perbase_mean_TMPRA_OL13.%a.txt \\\n",
    "    --array 0-1 \\\n",
    "    <<'EOF'\n",
    "#!/bin/bash\n",
    "### set directories & global variables\n",
    "source ../config/config_duke.sh\n",
    "ASSAY=Tewhey_K562_TileMPRA\n",
    "PREFIX=OL13\n",
    "SAMPLE_GROUPS=(\"Input\" \"Output\")\n",
    "\n",
    "### print start message\n",
    "timer_start=`date +%s`\n",
    "echo \"Hostname:          \" $(hostname)\n",
    "echo \"Slurm Array Index: \" ${SLURM_ARRAY_TASK_ID}\n",
    "echo \"Time Stamp:        \" $(date +\"%m-%d-%y+%T\")\n",
    "echo\n",
    "\n",
    "### set input and output files\n",
    "FD_INP=${FD_RES}/results/${ASSAY}/coverage/track_normalized\n",
    "FD_OUT=${FD_RES}/results/${ASSAY}/coverage/track_normalized\n",
    "\n",
    "GROUP=${SAMPLE_GROUPS[${SLURM_ARRAY_TASK_ID}]}\n",
    "FP_INPS=($(ls ${FD_INP}/${PREFIX}*hg38*raw*${GROUP}*rep*bed.gz))\n",
    "\n",
    "FP_INP=$(ls ${FD_INP}/${PREFIX}*hg38*raw*${GROUP}*rep1*bed.gz)\n",
    "FN_INP=$(basename ${FP_INP})\n",
    "FN_OUT=${FN_INP/rep1/mean}\n",
    "FP_OUT=${FD_OUT}/${FN_OUT}\n",
    "\n",
    "### show I/O file\n",
    "echo ++++++++++++++++++++++++++++++++++++++\n",
    "for FP_INP in ${FP_INPS[@]}; do\n",
    "    echo \"Input file: \" ${FP_INP}\n",
    "    echo\n",
    "    echo \"show first few lines of file\"\n",
    "    zcat ${FP_INP} | head -10\n",
    "    echo\n",
    "done\n",
    "\n",
    "### execute\n",
    "bedtools unionbedg -i ${FP_INPS[@]} \\\n",
    "| awk '{\n",
    "    sum = 0; \n",
    "    for (col = 4; col <= NF; col++) {\n",
    "       sum += $col; \n",
    "    }\n",
    "    mean = sum / (NF-4+1);\n",
    "    print $1 \"\\t\" $2 \"\\t\" $3 \"\\t\" mean; \n",
    "  }' \\\n",
    "| gzip -c \\\n",
    "> ${FP_OUT}\n",
    "  \n",
    "### show I/O file\n",
    "echo ++++++++++++++++++++++++++++++++++++++\n",
    "echo \"Output file: \" ${FP_OUT}\n",
    "echo\n",
    "echo \"show first few lines of file\"\n",
    "zcat ${FP_OUT} | head -10\n",
    "echo\n",
    "\n",
    "### print end message\n",
    "timer=`date +%s`\n",
    "runtime=$(echo \"${timer} - ${timer_start}\" | bc -l)\n",
    "echo\n",
    "echo 'Done!'\n",
    "echo \"Run Time: $(displaytime ${runtime})\"\n",
    "EOF"
   ]
  },
  {
   "cell_type": "markdown",
   "id": "9b79cb7e-71df-406c-8f52-5b8070fed7d4",
   "metadata": {},
   "source": [
    "## Check"
   ]
  },
  {
   "cell_type": "code",
   "execution_count": 5,
   "id": "6d0d19df-75db-4826-a7b0-b858e3710f58",
   "metadata": {},
   "outputs": [
    {
     "name": "stdout",
     "output_type": "stream",
     "text": [
      "Hostname:           x2-08-4.genome.duke.edu\n",
      "Slurm Array Index:  0\n",
      "Time Stamp:         03-15-23+15:15:55\n",
      "\n",
      "++++++++++++++++++++++++++++++++++++++\n",
      "Input file:  /data/reddylab/Kuei/out/proj_combeffect_encode_fcc/results/Tewhey_K562_TileMPRA/coverage/track_normalized/OL13_20220512.hg38.raw.Input.rep1.stranded_pos.bed.gz\n",
      "\n",
      "show first few lines of file\n",
      "chr11\t61787329\t61787330\t82.9138\n",
      "chr11\t61787330\t61787331\t82.9138\n",
      "chr11\t61787331\t61787332\t82.9138\n",
      "chr11\t61787332\t61787333\t82.9138\n",
      "chr11\t61787333\t61787334\t82.9138\n",
      "chr11\t61787334\t61787335\t191.103\n",
      "chr11\t61787335\t61787336\t191.103\n",
      "chr11\t61787336\t61787337\t191.103\n",
      "chr11\t61787337\t61787338\t191.103\n",
      "chr11\t61787338\t61787339\t191.103\n",
      "\n",
      "Input file:  /data/reddylab/Kuei/out/proj_combeffect_encode_fcc/results/Tewhey_K562_TileMPRA/coverage/track_normalized/OL13_20220512.hg38.raw.Input.rep2.stranded_pos.bed.gz\n",
      "\n",
      "show first few lines of file\n",
      "chr11\t61787329\t61787330\t82.8218\n",
      "chr11\t61787330\t61787331\t82.8218\n",
      "chr11\t61787331\t61787332\t82.8218\n",
      "chr11\t61787332\t61787333\t82.8218\n",
      "chr11\t61787333\t61787334\t82.8218\n",
      "chr11\t61787334\t61787335\t168.7\n",
      "chr11\t61787335\t61787336\t168.7\n",
      "chr11\t61787336\t61787337\t168.7\n",
      "chr11\t61787337\t61787338\t168.7\n",
      "chr11\t61787338\t61787339\t168.7\n",
      "\n",
      "Input file:  /data/reddylab/Kuei/out/proj_combeffect_encode_fcc/results/Tewhey_K562_TileMPRA/coverage/track_normalized/OL13_20220512.hg38.raw.Input.rep3.stranded_pos.bed.gz\n",
      "\n",
      "show first few lines of file\n",
      "chr11\t61787329\t61787330\t75.0103\n",
      "chr11\t61787330\t61787331\t75.0103\n",
      "chr11\t61787331\t61787332\t75.0103\n",
      "chr11\t61787332\t61787333\t75.0103\n",
      "chr11\t61787333\t61787334\t75.0103\n",
      "chr11\t61787334\t61787335\t176.202\n",
      "chr11\t61787335\t61787336\t176.202\n",
      "chr11\t61787336\t61787337\t176.202\n",
      "chr11\t61787337\t61787338\t176.202\n",
      "chr11\t61787338\t61787339\t176.202\n",
      "\n",
      "Input file:  /data/reddylab/Kuei/out/proj_combeffect_encode_fcc/results/Tewhey_K562_TileMPRA/coverage/track_normalized/OL13_20220512.hg38.raw.Input.rep4.stranded_pos.bed.gz\n",
      "\n",
      "show first few lines of file\n",
      "chr11\t61787329\t61787330\t96.9446\n",
      "chr11\t61787330\t61787331\t96.9446\n",
      "chr11\t61787331\t61787332\t96.9446\n",
      "chr11\t61787332\t61787333\t96.9446\n",
      "chr11\t61787333\t61787334\t96.9446\n",
      "chr11\t61787334\t61787335\t182.377\n",
      "chr11\t61787335\t61787336\t182.377\n",
      "chr11\t61787336\t61787337\t182.377\n",
      "chr11\t61787337\t61787338\t182.377\n",
      "chr11\t61787338\t61787339\t182.377\n",
      "\n",
      "++++++++++++++++++++++++++++++++++++++\n",
      "Output file:  /data/reddylab/Kuei/out/proj_combeffect_encode_fcc/results/Tewhey_K562_TileMPRA/coverage/track_normalized/OL13_20220512.hg38.raw.Input.mean.stranded_pos.bed.gz\n",
      "\n",
      "show first few lines of file\n",
      "chr11\t61787329\t61787330\t84.4226\n",
      "chr11\t61787330\t61787331\t84.4226\n",
      "chr11\t61787331\t61787332\t84.4226\n",
      "chr11\t61787332\t61787333\t84.4226\n",
      "chr11\t61787333\t61787334\t84.4226\n",
      "chr11\t61787334\t61787335\t179.596\n",
      "chr11\t61787335\t61787336\t179.596\n",
      "chr11\t61787336\t61787337\t179.596\n",
      "chr11\t61787337\t61787338\t179.596\n",
      "chr11\t61787338\t61787339\t179.596\n",
      "\n",
      "\n",
      "Done!\n",
      "Run Time: 3 seconds\n"
     ]
    }
   ],
   "source": [
    "cat ${FD_LOG}/coverage_perbase_mean_TMPRA_OL13.0.txt"
   ]
  },
  {
   "cell_type": "code",
   "execution_count": 7,
   "id": "bd151a3b-b8df-4e2c-b1fb-19c62e43193c",
   "metadata": {},
   "outputs": [
    {
     "name": "stdout",
     "output_type": "stream",
     "text": [
      "Hostname:           x3-01-1.genome.duke.edu\n",
      "Slurm Array Index:  1\n",
      "Time Stamp:         03-15-23+15:15:55\n",
      "\n",
      "++++++++++++++++++++++++++++++++++++++\n",
      "Input file:  /data/reddylab/Kuei/out/proj_combeffect_encode_fcc/results/Tewhey_K562_TileMPRA/coverage/track_normalized/OL13_20220512.hg38.raw.Output.rep1.stranded_pos.bed.gz\n",
      "\n",
      "show first few lines of file\n",
      "chr11\t61787329\t61787330\t9.89638\n",
      "chr11\t61787330\t61787331\t9.89638\n",
      "chr11\t61787331\t61787332\t9.89638\n",
      "chr11\t61787332\t61787333\t9.89638\n",
      "chr11\t61787333\t61787334\t9.89638\n",
      "chr11\t61787334\t61787335\t28.5404\n",
      "chr11\t61787335\t61787336\t28.5404\n",
      "chr11\t61787336\t61787337\t28.5404\n",
      "chr11\t61787337\t61787338\t28.5404\n",
      "chr11\t61787338\t61787339\t28.5404\n",
      "\n",
      "Input file:  /data/reddylab/Kuei/out/proj_combeffect_encode_fcc/results/Tewhey_K562_TileMPRA/coverage/track_normalized/OL13_20220512.hg38.raw.Output.rep2.stranded_pos.bed.gz\n",
      "\n",
      "show first few lines of file\n",
      "chr11\t61787329\t61787330\t21.6245\n",
      "chr11\t61787330\t61787331\t21.6245\n",
      "chr11\t61787331\t61787332\t21.6245\n",
      "chr11\t61787332\t61787333\t21.6245\n",
      "chr11\t61787333\t61787334\t21.6245\n",
      "chr11\t61787334\t61787335\t31.0624\n",
      "chr11\t61787335\t61787336\t31.0624\n",
      "chr11\t61787336\t61787337\t31.0624\n",
      "chr11\t61787337\t61787338\t31.0624\n",
      "chr11\t61787338\t61787339\t31.0624\n",
      "\n",
      "Input file:  /data/reddylab/Kuei/out/proj_combeffect_encode_fcc/results/Tewhey_K562_TileMPRA/coverage/track_normalized/OL13_20220512.hg38.raw.Output.rep3.stranded_pos.bed.gz\n",
      "\n",
      "show first few lines of file\n",
      "chr11\t61787329\t61787330\t13.4772\n",
      "chr11\t61787330\t61787331\t13.4772\n",
      "chr11\t61787331\t61787332\t13.4772\n",
      "chr11\t61787332\t61787333\t13.4772\n",
      "chr11\t61787333\t61787334\t13.4772\n",
      "chr11\t61787334\t61787335\t37.3687\n",
      "chr11\t61787335\t61787336\t37.3687\n",
      "chr11\t61787336\t61787337\t37.3687\n",
      "chr11\t61787337\t61787338\t37.3687\n",
      "chr11\t61787338\t61787339\t37.3687\n",
      "\n",
      "Input file:  /data/reddylab/Kuei/out/proj_combeffect_encode_fcc/results/Tewhey_K562_TileMPRA/coverage/track_normalized/OL13_20220512.hg38.raw.Output.rep4.stranded_pos.bed.gz\n",
      "\n",
      "show first few lines of file\n",
      "chr11\t61787329\t61787330\t12.9481\n",
      "chr11\t61787330\t61787331\t12.9481\n",
      "chr11\t61787331\t61787332\t12.9481\n",
      "chr11\t61787332\t61787333\t12.9481\n",
      "chr11\t61787333\t61787334\t12.9481\n",
      "chr11\t61787334\t61787335\t26.5943\n",
      "chr11\t61787335\t61787336\t26.5943\n",
      "chr11\t61787336\t61787337\t26.5943\n",
      "chr11\t61787337\t61787338\t26.5943\n",
      "chr11\t61787338\t61787339\t26.5943\n",
      "\n",
      "++++++++++++++++++++++++++++++++++++++\n",
      "Output file:  /data/reddylab/Kuei/out/proj_combeffect_encode_fcc/results/Tewhey_K562_TileMPRA/coverage/track_normalized/OL13_20220512.hg38.raw.Output.mean.stranded_pos.bed.gz\n",
      "\n",
      "show first few lines of file\n",
      "chr11\t61787329\t61787330\t14.4865\n",
      "chr11\t61787330\t61787331\t14.4865\n",
      "chr11\t61787331\t61787332\t14.4865\n",
      "chr11\t61787332\t61787333\t14.4865\n",
      "chr11\t61787333\t61787334\t14.4865\n",
      "chr11\t61787334\t61787335\t30.8914\n",
      "chr11\t61787335\t61787336\t30.8914\n",
      "chr11\t61787336\t61787337\t30.8914\n",
      "chr11\t61787337\t61787338\t30.8914\n",
      "chr11\t61787338\t61787339\t30.8914\n",
      "\n",
      "\n",
      "Done!\n",
      "Run Time: 3 seconds\n"
     ]
    }
   ],
   "source": [
    "cat ${FD_LOG}/coverage_perbase_mean_TMPRA_OL13.1.txt"
   ]
  },
  {
   "cell_type": "code",
   "execution_count": null,
   "id": "1519ed43-34b2-49a8-aa00-95e7b6f0f19b",
   "metadata": {},
   "outputs": [],
   "source": []
  },
  {
   "cell_type": "code",
   "execution_count": null,
   "id": "60359915-8273-4018-bca5-438b0f21240a",
   "metadata": {},
   "outputs": [],
   "source": []
  }
 ],
 "metadata": {
  "kernelspec": {
   "display_name": "Bash",
   "language": "bash",
   "name": "bash"
  },
  "language_info": {
   "codemirror_mode": "shell",
   "file_extension": ".sh",
   "mimetype": "text/x-sh",
   "name": "bash"
  }
 },
 "nbformat": 4,
 "nbformat_minor": 5
}
