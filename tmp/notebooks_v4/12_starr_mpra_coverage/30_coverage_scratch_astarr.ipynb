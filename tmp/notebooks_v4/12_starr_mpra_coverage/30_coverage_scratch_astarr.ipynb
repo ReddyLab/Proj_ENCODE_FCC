{
 "cells": [
  {
   "cell_type": "markdown",
   "id": "a2b0eeda-3a25-4463-85c1-579f1a3b37bc",
   "metadata": {},
   "source": [
    "**Set environment**"
   ]
  },
  {
   "cell_type": "code",
   "execution_count": 1,
   "id": "4a743c7c-10db-4b7c-9ed0-b00f0fb7635c",
   "metadata": {},
   "outputs": [
    {
     "name": "stdout",
     "output_type": "stream",
     "text": [
      "You are on Duke Server: HARDAC\n",
      "BASE DIRECTORY (FD_BASE): /data/reddylab/Kuei\n",
      "WORK DIRECTORY (FD_WORK): /data/reddylab/Kuei/out\n",
      "CODE DIRECTORY (FD_CODE): /data/reddylab/Kuei/code\n",
      "SING DIRECTORY (FD_SING): /data/reddylab/Kuei/singularity\n",
      "PATH OF PROJECT (FD_PRJ): /data/reddylab/Kuei/code/Proj_CombEffect_ENCODE_FCC\n",
      "PATH OF RESULTS (FD_RES): /data/reddylab/Kuei/out/proj_combeffect_encode_fcc\n",
      "PATH OF LOG     (FD_LOG): /data/reddylab/Kuei/out/proj_combeffect_encode_fcc/log\n",
      "\n"
     ]
    }
   ],
   "source": [
    "source ../config/config_duke.sh\n",
    "source ../config/config_load_module_bedtools.sh\n",
    "show_env"
   ]
  },
  {
   "cell_type": "markdown",
   "id": "81e79907-f252-4631-9853-f28029331c78",
   "metadata": {},
   "source": [
    "**Check data**"
   ]
  },
  {
   "cell_type": "code",
   "execution_count": 2,
   "id": "92872b48-3975-4f8e-826f-9a0eba082fc9",
   "metadata": {},
   "outputs": [
    {
     "name": "stdout",
     "output_type": "stream",
     "text": [
      "\u001b[0m\u001b[38;5;27mA001_K562_WSTARRseq\u001b[0m  \u001b[38;5;27mKS91_K562_ASTARRseq\u001b[0m  \u001b[38;5;27mTewhey_K562_TileMPRA\u001b[0m\n",
      "\u001b[38;5;27mCRISPRi_FlowFISH\u001b[0m     \u001b[38;5;27mregion\u001b[0m\n"
     ]
    }
   ],
   "source": [
    "ls ${FD_RES}/results"
   ]
  },
  {
   "cell_type": "code",
   "execution_count": 3,
   "id": "de58879a-032a-4f36-8cda-a8c37d8788e3",
   "metadata": {},
   "outputs": [
    {
     "name": "stdout",
     "output_type": "stream",
     "text": [
      "\u001b[0m\u001b[38;5;9mKS91_K562_ASTARRseq.Input.rep1.SUBSET.unstranded.bed.gz\u001b[0m\n",
      "\u001b[38;5;9mKS91_K562_ASTARRseq.Input.rep2.SUBSET.unstranded.bed.gz\u001b[0m\n",
      "\u001b[38;5;9mKS91_K562_ASTARRseq.Input.rep3.SUBSET.unstranded.bed.gz\u001b[0m\n",
      "\u001b[38;5;9mKS91_K562_ASTARRseq.Input.rep4.SUBSET.unstranded.bed.gz\u001b[0m\n",
      "\u001b[38;5;9mKS91_K562_ASTARRseq.Input.rep5.SUBSET.unstranded.bed.gz\u001b[0m\n",
      "\u001b[38;5;9mKS91_K562_ASTARRseq.Input.rep6.SUBSET.unstranded.bed.gz\u001b[0m\n",
      "\u001b[38;5;9mKS91_K562_ASTARRseq.Output.rep1.SUBSET.unstranded.bed.gz\u001b[0m\n",
      "\u001b[38;5;9mKS91_K562_ASTARRseq.Output.rep2.SUBSET.unstranded.bed.gz\u001b[0m\n",
      "\u001b[38;5;9mKS91_K562_ASTARRseq.Output.rep3.SUBSET.unstranded.bed.gz\u001b[0m\n",
      "\u001b[38;5;9mKS91_K562_ASTARRseq.Output.rep4.SUBSET.unstranded.bed.gz\u001b[0m\n"
     ]
    }
   ],
   "source": [
    "ASSAY=KS91_K562_ASTARRseq\n",
    "ls ${FD_RES}/results/${ASSAY}/coverage/track_counts"
   ]
  },
  {
   "cell_type": "code",
   "execution_count": 4,
   "id": "f70e2e6a-5a7a-46a3-a7d0-aa6d2c069d94",
   "metadata": {},
   "outputs": [
    {
     "name": "stdout",
     "output_type": "stream",
     "text": [
      "KS91_K562_ASTARRseq.Input.rep1.SUBSET.unstranded.bed.gz\n",
      "KS91_K562_ASTARRseq.Input.rep2.SUBSET.unstranded.bed.gz\n",
      "KS91_K562_ASTARRseq.Input.rep3.SUBSET.unstranded.bed.gz\n",
      "KS91_K562_ASTARRseq.Input.rep4.SUBSET.unstranded.bed.gz\n",
      "KS91_K562_ASTARRseq.Input.rep5.SUBSET.unstranded.bed.gz\n",
      "KS91_K562_ASTARRseq.Input.rep6.SUBSET.unstranded.bed.gz\n",
      "KS91_K562_ASTARRseq.Output.rep1.SUBSET.unstranded.bed.gz\n",
      "KS91_K562_ASTARRseq.Output.rep2.SUBSET.unstranded.bed.gz\n",
      "KS91_K562_ASTARRseq.Output.rep3.SUBSET.unstranded.bed.gz\n",
      "KS91_K562_ASTARRseq.Output.rep4.SUBSET.unstranded.bed.gz\n"
     ]
    }
   ],
   "source": [
    "ASSAY=KS91_K562_ASTARRseq\n",
    "\n",
    "FD_INP=${FD_RES}/results/${ASSAY}/coverage/track_counts\n",
    "FP_INPS=($(ls ${FD_INP}/*rep*SUBSET*bed.gz))\n",
    "FD_OUT=${FD_RES}/results/${ASSAY}/coverage/track_scratch\n",
    "\n",
    "for FP_INP in ${FP_INPS[@]}; do\n",
    "    ###\n",
    "    FN_INP=$(basename ${FP_INP})\n",
    "    FN_OUT=${FN_INP}\n",
    "    FP_OUT=${FD_OUT}/${FN_OUT}\n",
    "    \n",
    "    ###\n",
    "    echo ${FN_INP}\n",
    "done"
   ]
  },
  {
   "cell_type": "code",
   "execution_count": 5,
   "id": "367ae73b-aa93-4dcd-bab1-f9d621dc35f8",
   "metadata": {},
   "outputs": [
    {
     "name": "stdout",
     "output_type": "stream",
     "text": [
      "/data/reddylab/Kuei/out/proj_combeffect_encode_fcc/results/KS91_K562_ASTARRseq/coverage/summary/library_size_summary.tsv\n",
      "\n",
      "FName\tSize\tPrefix\tSample\tGroup\tType\tGenome\n",
      "KS91_K562_ASTARRseq.Input.rep1.WGS.unstranded.bed.gz\t348695063\tKS91_K562_ASTARRseq\tInput.rep1\tInput\traw\thg38\n",
      "KS91_K562_ASTARRseq.Input.rep2.WGS.unstranded.bed.gz\t451369741\tKS91_K562_ASTARRseq\tInput.rep2\tInput\traw\thg38\n",
      "KS91_K562_ASTARRseq.Input.rep3.WGS.unstranded.bed.gz\t487579055\tKS91_K562_ASTARRseq\tInput.rep3\tInput\traw\thg38\n",
      "KS91_K562_ASTARRseq.Input.rep4.WGS.unstranded.bed.gz\t456246254\tKS91_K562_ASTARRseq\tInput.rep4\tInput\traw\thg38\n",
      "KS91_K562_ASTARRseq.Input.rep5.WGS.unstranded.bed.gz\t444268950\tKS91_K562_ASTARRseq\tInput.rep5\tInput\traw\thg38\n",
      "KS91_K562_ASTARRseq.Input.rep6.WGS.unstranded.bed.gz\t397333562\tKS91_K562_ASTARRseq\tInput.rep6\tInput\traw\thg38\n",
      "KS91_K562_ASTARRseq.Output.rep1.WGS.unstranded.bed.gz\t44103844\tKS91_K562_ASTARRseq\tOutput.rep1\tOutput\traw\thg38\n",
      "KS91_K562_ASTARRseq.Output.rep2.WGS.unstranded.bed.gz\t97471282\tKS91_K562_ASTARRseq\tOutput.rep2\tOutput\traw\thg38\n",
      "KS91_K562_ASTARRseq.Output.rep3.WGS.unstranded.bed.gz\t84103298\tKS91_K562_ASTARRseq\tOutput.rep3\tOutput\traw\thg38\n",
      "KS91_K562_ASTARRseq.Output.rep4.WGS.unstranded.bed.gz\t183115379\tKS91_K562_ASTARRseq\tOutput.rep4\tOutput\traw\thg38\n"
     ]
    }
   ],
   "source": [
    "FP_LIB=${FD_RES}/results/${ASSAY}/coverage/summary/library_size_summary.tsv\n",
    "echo ${FP_LIB}\n",
    "echo \n",
    "cat  ${FP_LIB}"
   ]
  },
  {
   "cell_type": "code",
   "execution_count": 7,
   "id": "73bdabda-5d32-4e26-9238-ebbd00a9628e",
   "metadata": {},
   "outputs": [
    {
     "name": "stdout",
     "output_type": "stream",
     "text": [
      "/data/reddylab/Kuei/out/proj_combeffect_encode_fcc/results/KS91_K562_ASTARRseq/coverage/summary/library_size_summary_sorted_no_cnames.tsv\n",
      "\n",
      "KS91_K562_ASTARRseq.Input.rep1.WGS.unstranded.bed.gz\t348695063\tKS91_K562_ASTARRseq\tInput.rep1\tInput\traw\thg38\n",
      "KS91_K562_ASTARRseq.Input.rep2.WGS.unstranded.bed.gz\t451369741\tKS91_K562_ASTARRseq\tInput.rep2\tInput\traw\thg38\n",
      "KS91_K562_ASTARRseq.Input.rep3.WGS.unstranded.bed.gz\t487579055\tKS91_K562_ASTARRseq\tInput.rep3\tInput\traw\thg38\n",
      "KS91_K562_ASTARRseq.Input.rep4.WGS.unstranded.bed.gz\t456246254\tKS91_K562_ASTARRseq\tInput.rep4\tInput\traw\thg38\n",
      "KS91_K562_ASTARRseq.Input.rep5.WGS.unstranded.bed.gz\t444268950\tKS91_K562_ASTARRseq\tInput.rep5\tInput\traw\thg38\n",
      "KS91_K562_ASTARRseq.Input.rep6.WGS.unstranded.bed.gz\t397333562\tKS91_K562_ASTARRseq\tInput.rep6\tInput\traw\thg38\n",
      "KS91_K562_ASTARRseq.Output.rep1.WGS.unstranded.bed.gz\t44103844\tKS91_K562_ASTARRseq\tOutput.rep1\tOutput\traw\thg38\n",
      "KS91_K562_ASTARRseq.Output.rep2.WGS.unstranded.bed.gz\t97471282\tKS91_K562_ASTARRseq\tOutput.rep2\tOutput\traw\thg38\n",
      "KS91_K562_ASTARRseq.Output.rep3.WGS.unstranded.bed.gz\t84103298\tKS91_K562_ASTARRseq\tOutput.rep3\tOutput\traw\thg38\n",
      "KS91_K562_ASTARRseq.Output.rep4.WGS.unstranded.bed.gz\t183115379\tKS91_K562_ASTARRseq\tOutput.rep4\tOutput\traw\thg38\n"
     ]
    }
   ],
   "source": [
    "FP_LIB=${FD_RES}/results/${ASSAY}/coverage/summary/library_size_summary_sorted_no_cnames.tsv\n",
    "echo ${FP_LIB}\n",
    "echo \n",
    "cat  ${FP_LIB}"
   ]
  },
  {
   "cell_type": "markdown",
   "id": "d0ced623-6a39-4991-b72b-552b7aba246f",
   "metadata": {},
   "source": [
    "## Scratch: Normalize track counts by library size"
   ]
  },
  {
   "cell_type": "code",
   "execution_count": 8,
   "id": "18dc6443-9fca-4fc6-b23e-8c50cb7a321a",
   "metadata": {},
   "outputs": [
    {
     "name": "stdout",
     "output_type": "stream",
     "text": [
      "KS91_K562_ASTARRseq.Input.rep1.SUBSET.unstranded.bed.gz\n",
      "KS91_K562_ASTARRseq.Input.rep1.SUBSET.unstranded.bed.gz\n",
      "KS91_K562_ASTARRseq.Input.rep1.WGS.unstranded.bed.gz\n",
      "\n",
      "chr11\t4000000\t4000001\t33\tKS91_K562_ASTARRseq.Input.rep1.WGS.unstranded.bed.gz\n",
      "chr11\t4000001\t4000002\t32\tKS91_K562_ASTARRseq.Input.rep1.WGS.unstranded.bed.gz\n",
      "chr11\t4000002\t4000003\t32\tKS91_K562_ASTARRseq.Input.rep1.WGS.unstranded.bed.gz\n",
      "chr11\t4000003\t4000004\t32\tKS91_K562_ASTARRseq.Input.rep1.WGS.unstranded.bed.gz\n",
      "chr11\t4000004\t4000005\t32\tKS91_K562_ASTARRseq.Input.rep1.WGS.unstranded.bed.gz\n",
      "\n",
      "chr11\t4000000\t4000001\t33\t348695063\n",
      "chr11\t4000001\t4000002\t32\t348695063\n",
      "chr11\t4000002\t4000003\t32\t348695063\n",
      "chr11\t4000003\t4000004\t32\t348695063\n",
      "chr11\t4000004\t4000005\t32\t348695063\n",
      "\n",
      "chr11\t4000000\t4000001\t0.0946386\n",
      "chr11\t4000001\t4000002\t0.0917707\n",
      "chr11\t4000002\t4000003\t0.0917707\n",
      "chr11\t4000003\t4000004\t0.0917707\n",
      "chr11\t4000004\t4000005\t0.0917707\n"
     ]
    }
   ],
   "source": [
    "ASSAY=KS91_K562_ASTARRseq\n",
    "STRING1=\"\\t\\\\.\"\n",
    "STRING2=\"\\t0\"\n",
    "\n",
    "FD_INP=${FD_RES}/results/${ASSAY}/coverage/track_counts\n",
    "FP_INPS=($(ls ${FD_INP}/*rep*SUBSET*bed.gz))\n",
    "FD_OUT=${FD_RES}/results/${ASSAY}/coverage/track_scratch\n",
    "\n",
    "FP_INP=${FP_INPS[0]}\n",
    "FN_INP=$(basename ${FP_INP})\n",
    "FN_OUT=${FN_INP}\n",
    "FP_OUT=${FD_OUT}/${FN_OUT}\n",
    "PREFIX=${FN_OUT/SUBSET/WGS}\n",
    "\n",
    "echo ${FN_INP}\n",
    "echo ${FN_OUT}\n",
    "echo ${PREFIX}\n",
    "echo\n",
    "\n",
    "zcat ${FP_INP} \\\n",
    "| head -n 5 \\\n",
    "| sed --expression=\"s/${STRING1}/${STRING2}/g\" \\\n",
    "| awk -v PREFIX=${PREFIX} '{print $1 \"\\t\" $2 \"\\t\" $3 \"\\t\" $4 \"\\t\" PREFIX}'\n",
    "echo\n",
    "\n",
    "zcat ${FP_INP} \\\n",
    "| head -n 5 \\\n",
    "| sed --expression=\"s/${STRING1}/${STRING2}/g\" \\\n",
    "| awk -v PREFIX=${PREFIX} '{print $1 \"\\t\" $2 \"\\t\" $3 \"\\t\" $4 \"\\t\" PREFIX}' \\\n",
    "| join -1 5 -2 1 -t $'\\t' -o 1.1,1.2,1.3,1.4,2.2 - ${FP_LIB}\n",
    "echo \n",
    "\n",
    "zcat ${FP_INP} \\\n",
    "| head -n 5 \\\n",
    "| sed --expression=\"s/${STRING1}/${STRING2}/g\" \\\n",
    "| awk -v PREFIX=${PREFIX} '{print $1 \"\\t\" $2 \"\\t\" $3 \"\\t\" $4 \"\\t\" PREFIX}' \\\n",
    "| join -1 5 -2 1 -t $'\\t' -o 1.1,1.2,1.3,1.4,2.2 - ${FP_LIB} \\\n",
    "| awk '{print $1 \"\\t\" $2 \"\\t\" $3 \"\\t\" $4 * 10^6 / $5}'"
   ]
  },
  {
   "cell_type": "code",
   "execution_count": 7,
   "id": "fee3d4b5-59cb-4f26-b3f5-5e53af6d5171",
   "metadata": {},
   "outputs": [
    {
     "name": "stdout",
     "output_type": "stream",
     "text": [
      "KS91_K562_ASTARRseq.Input.rep1.SUBSET.unstranded.bed.gz\n",
      "\n",
      "KS91_K562_ASTARRseq.Input.rep2.SUBSET.unstranded.bed.gz\n",
      "\n",
      "KS91_K562_ASTARRseq.Input.rep3.SUBSET.unstranded.bed.gz\n",
      "\n",
      "KS91_K562_ASTARRseq.Input.rep4.SUBSET.unstranded.bed.gz\n",
      "\n",
      "KS91_K562_ASTARRseq.Input.rep5.SUBSET.unstranded.bed.gz\n",
      "\n",
      "KS91_K562_ASTARRseq.Input.rep6.SUBSET.unstranded.bed.gz\n",
      "\n",
      "KS91_K562_ASTARRseq.Output.rep1.SUBSET.unstranded.bed.gz\n",
      "\n",
      "KS91_K562_ASTARRseq.Output.rep2.SUBSET.unstranded.bed.gz\n",
      "\n",
      "KS91_K562_ASTARRseq.Output.rep3.SUBSET.unstranded.bed.gz\n",
      "\n",
      "KS91_K562_ASTARRseq.Output.rep4.SUBSET.unstranded.bed.gz\n",
      "\n"
     ]
    }
   ],
   "source": [
    "ASSAY=KS91_K562_ASTARRseq\n",
    "STRING1=\"\\t\\\\.\"\n",
    "STRING2=\"\\t0\"\n",
    "\n",
    "FD_INP=${FD_RES}/results/${ASSAY}/coverage/track_counts\n",
    "FP_INPS=($(ls ${FD_INP}/*rep*SUBSET*bed.gz))\n",
    "FD_OUT=${FD_RES}/results/${ASSAY}/coverage/track_scratch\n",
    "\n",
    "for FP_INP in ${FP_INPS[@]}; do\n",
    "    ###\n",
    "    FN_INP=$(basename ${FP_INP})\n",
    "    FN_OUT=${FN_INP}\n",
    "    FP_OUT=${FD_OUT}/${FN_OUT}\n",
    "    PREFIX=${FN_OUT/SUBSET/WGS}\n",
    "    \n",
    "    ###\n",
    "    echo ${FN_INP}\n",
    "    zcat ${FP_INP} \\\n",
    "    | head -n 20 \\\n",
    "    | sed --expression=\"s/${STRING1}/${STRING2}/g\" \\\n",
    "    | awk -v PREFIX=${PREFIX} '{print $1 \"\\t\" $2 \"\\t\" $3 \"\\t\" $4 \"\\t\" PREFIX}' \\\n",
    "    | join -1 5 -2 1 -t $'\\t' -o 1.1,1.2,1.3,1.4,2.2 - ${FP_LIB} \\\n",
    "    | awk '{print $1 \"\\t\" $2 \"\\t\" $3 \"\\t\" $4 * 10^6 / $5}' \\\n",
    "    | gzip -c \\\n",
    "    > ${FP_OUT}\n",
    "    echo\n",
    "done"
   ]
  },
  {
   "cell_type": "code",
   "execution_count": 8,
   "id": "ca9ed202-8d33-464c-8069-6f9e6bac978b",
   "metadata": {},
   "outputs": [
    {
     "name": "stdout",
     "output_type": "stream",
     "text": [
      "chr11     4000000   4000001   0.0946386\n",
      "chr11     4000001   4000002   0.0917707\n",
      "chr11     4000002   4000003   0.0917707\n",
      "chr11     4000003   4000004   0.0917707\n",
      "chr11     4000004   4000005   0.0917707\n",
      "chr11     4000005   4000006   0.0946386\n",
      "chr11     4000006   4000007   0.0917707\n",
      "chr11     4000007   4000008   0.0917707\n",
      "chr11     4000008   4000009   0.0917707\n",
      "chr11     4000009   4000010   0.0917707\n",
      "chr11     4000010   4000011   0.0917707\n",
      "chr11     4000011   4000012   0.0917707\n",
      "chr11     4000012   4000013   0.0917707\n",
      "chr11     4000013   4000014   0.0917707\n",
      "chr11     4000014   4000015   0.0917707\n",
      "chr11     4000015   4000016   0.0917707\n",
      "chr11     4000016   4000017   0.0917707\n",
      "chr11     4000017   4000018   0.0946386\n",
      "chr11     4000018   4000019   0.0946386\n",
      "chr11     4000019   4000020   0.0946386\n"
     ]
    }
   ],
   "source": [
    "FD_OUT=${FD_RES}/results/${ASSAY}/coverage/track_scratch\n",
    "FN_OUT=KS91_K562_ASTARRseq.Input.rep1.SUBSET.unstranded.bed.gz\n",
    "FP_OUT=${FD_OUT}/${FN_OUT}\n",
    "zcat ${FP_OUT} | expand -t 10"
   ]
  },
  {
   "cell_type": "markdown",
   "id": "ce26b3a7-6913-4c2b-8f43-3a816352c212",
   "metadata": {},
   "source": [
    "## Scratch: Taking mean, min, max counts for input and output"
   ]
  },
  {
   "cell_type": "code",
   "execution_count": 21,
   "id": "89530489-26a7-4180-868f-adb0dd3d8b63",
   "metadata": {},
   "outputs": [
    {
     "name": "stdout",
     "output_type": "stream",
     "text": [
      "chr11\t4000000\t4000001\t0.0946386\t0.146222\t0.153821\t0.120549\t0.121548\t0.133389\n",
      "chr11\t4000001\t4000002\t0.0917707\t0.144006\t0.149719\t0.118357\t0.117046\t0.125839\n",
      "chr11\t4000002\t4000003\t0.0917707\t0.144006\t0.149719\t0.118357\t0.117046\t0.125839\n",
      "chr11\t4000003\t4000004\t0.0917707\t0.144006\t0.149719\t0.118357\t0.117046\t0.125839\n",
      "chr11\t4000004\t4000005\t0.0917707\t0.144006\t0.149719\t0.118357\t0.117046\t0.125839\n",
      "chr11\t4000005\t4000006\t0.0946386\t0.144006\t0.15177\t0.118357\t0.119297\t0.128356\n",
      "chr11\t4000006\t4000007\t0.0917707\t0.144006\t0.15177\t0.118357\t0.119297\t0.128356\n",
      "chr11\t4000007\t4000008\t0.0917707\t0.144006\t0.15177\t0.118357\t0.119297\t0.128356\n",
      "chr11\t4000008\t4000009\t0.0917707\t0.144006\t0.15177\t0.118357\t0.119297\t0.128356\n",
      "chr11\t4000009\t4000010\t0.0917707\t0.144006\t0.15177\t0.118357\t0.119297\t0.128356\n",
      "chr11\t4000010\t4000011\t0.0917707\t0.144006\t0.15177\t0.118357\t0.119297\t0.128356\n",
      "chr11\t4000011\t4000012\t0.0917707\t0.144006\t0.15177\t0.118357\t0.119297\t0.128356\n",
      "chr11\t4000012\t4000013\t0.0917707\t0.144006\t0.15177\t0.118357\t0.119297\t0.128356\n",
      "chr11\t4000013\t4000014\t0.0917707\t0.144006\t0.15177\t0.118357\t0.119297\t0.128356\n",
      "chr11\t4000014\t4000015\t0.0917707\t0.139575\t0.147668\t0.116165\t0.114795\t0.125839\n",
      "chr11\t4000015\t4000016\t0.0917707\t0.139575\t0.147668\t0.116165\t0.114795\t0.125839\n",
      "chr11\t4000016\t4000017\t0.0917707\t0.141791\t0.149719\t0.118357\t0.114795\t0.125839\n",
      "chr11\t4000017\t4000018\t0.0946386\t0.144006\t0.15177\t0.120549\t0.117046\t0.128356\n",
      "chr11\t4000018\t4000019\t0.0946386\t0.144006\t0.15177\t0.120549\t0.117046\t0.128356\n",
      "chr11\t4000019\t4000020\t0.0946386\t0.144006\t0.15177\t0.120549\t0.117046\t0.128356\n"
     ]
    }
   ],
   "source": [
    "ASSAY=KS91_K562_ASTARRseq\n",
    "GROUP=Input\n",
    "\n",
    "FD_INP=${FD_RES}/results/${ASSAY}/coverage/track_scratch\n",
    "FP_INPS=($(ls ${FD_INP}/*${GROUP}*rep*SUBSET*bed.gz))\n",
    "FD_OUT=${FD_RES}/results/${ASSAY}/coverage/track_scratch\n",
    "\n",
    "bedtools unionbedg -i ${FP_INPS[@]}"
   ]
  },
  {
   "cell_type": "markdown",
   "id": "c6c28146-0f09-4b2a-9a73-d302c76bf1b6",
   "metadata": {},
   "source": [
    "unix - How to calculate max and min of multiple columns (row wise) using awk - Stack Overflow\n",
    "https://stackoverflow.com/questions/67319136/how-to-calculate-max-and-min-of-multiple-columns-row-wise-using-awk"
   ]
  },
  {
   "cell_type": "code",
   "execution_count": 46,
   "id": "153cf1d0-5f8b-4b23-a8f2-3aec5a5ff781",
   "metadata": {},
   "outputs": [
    {
     "name": "stdout",
     "output_type": "stream",
     "text": [
      "chr11       4000000     4000001     0.128361    0.153821    0.0946386\n",
      "chr11       4000001     4000002     0.124456    0.149719    0.0917707\n",
      "chr11       4000002     4000003     0.124456    0.149719    0.0917707\n",
      "chr11       4000003     4000004     0.124456    0.149719    0.0917707\n",
      "chr11       4000004     4000005     0.124456    0.149719    0.0917707\n",
      "chr11       4000005     4000006     0.126071    0.15177     0.0946386\n",
      "chr11       4000006     4000007     0.125593    0.15177     0.0917707\n",
      "chr11       4000007     4000008     0.125593    0.15177     0.0917707\n",
      "chr11       4000008     4000009     0.125593    0.15177     0.0917707\n",
      "chr11       4000009     4000010     0.125593    0.15177     0.0917707\n",
      "chr11       4000010     4000011     0.125593    0.15177     0.0917707\n",
      "chr11       4000011     4000012     0.125593    0.15177     0.0917707\n",
      "chr11       4000012     4000013     0.125593    0.15177     0.0917707\n",
      "chr11       4000013     4000014     0.125593    0.15177     0.0917707\n",
      "chr11       4000014     4000015     0.122635    0.147668    0.0917707\n",
      "chr11       4000015     4000016     0.122635    0.147668    0.0917707\n",
      "chr11       4000016     4000017     0.123712    0.149719    0.0917707\n",
      "chr11       4000017     4000018     0.126061    0.15177     0.0946386\n",
      "chr11       4000018     4000019     0.126061    0.15177     0.0946386\n",
      "chr11       4000019     4000020     0.126061    0.15177     0.0946386\n"
     ]
    }
   ],
   "source": [
    "ASSAY=KS91_K562_ASTARRseq\n",
    "GROUP=Input\n",
    "\n",
    "FD_INP=${FD_RES}/results/${ASSAY}/coverage/track_scratch\n",
    "FP_INPS=($(ls ${FD_INP}/*${GROUP}*rep*SUBSET*bed.gz))\n",
    "\n",
    "FD_OUT=${FD_RES}/results/${ASSAY}/coverage/track_scratch\n",
    "FP_INP=$(ls ${FD_INP}/*${GROUP}*rep1*SUBSET*bed.gz)\n",
    "FN_INP=$(basename ${FP_INP})\n",
    "FN_OUT=${FN_INP/rep1/mean}\n",
    "FP_OUT=${FD_OUT}/${FN_OUT}\n",
    "\n",
    "bedtools unionbedg -i ${FP_INPS[@]} \\\n",
    "| awk '{\n",
    "    x_sum = 0; \n",
    "    x_min = $4;\n",
    "    x_max = $4;\n",
    "    for (col = 4; col <= NF; col++) { \n",
    "       x_sum += $col; \n",
    "       if( $col > x_max) x_max = $col;\n",
    "       if( $col < x_min) x_min = $col;\n",
    "    }\n",
    "    x_mean = x_sum / (NF-4+1);\n",
    "    print $1 \"\\t\" $2 \"\\t\" $3 \"\\t\" x_mean \"\\t\" x_max \"\\t\" x_min; \n",
    "  }' \\\n",
    "| expand -t 12"
   ]
  },
  {
   "cell_type": "markdown",
   "id": "d8dab431-b2fe-49df-bc88-2ed3a43ecced",
   "metadata": {},
   "source": [
    "**Originally I thought I could use mean, max, and min directly. But the bedtools unionbedg only allows one score column to be used**"
   ]
  },
  {
   "cell_type": "code",
   "execution_count": 49,
   "id": "8b02f979-a6a9-4d69-b74f-208b1d08f649",
   "metadata": {},
   "outputs": [
    {
     "name": "stdout",
     "output_type": "stream",
     "text": [
      "KS91_K562_ASTARRseq.Input.rep1.SUBSET.unstranded.bed.gz\n",
      "KS91_K562_ASTARRseq.Input.mean.SUBSET.unstranded.bed.gz\n",
      "\n",
      "chr11\t4000000\t4000001\t0.128361\n",
      "chr11\t4000001\t4000002\t0.124456\n",
      "chr11\t4000002\t4000003\t0.124456\n",
      "chr11\t4000003\t4000004\t0.124456\n",
      "chr11\t4000004\t4000005\t0.124456\n",
      "chr11\t4000005\t4000006\t0.126071\n",
      "chr11\t4000006\t4000007\t0.125593\n",
      "chr11\t4000007\t4000008\t0.125593\n",
      "chr11\t4000008\t4000009\t0.125593\n",
      "chr11\t4000009\t4000010\t0.125593\n",
      "chr11\t4000010\t4000011\t0.125593\n",
      "chr11\t4000011\t4000012\t0.125593\n",
      "chr11\t4000012\t4000013\t0.125593\n",
      "chr11\t4000013\t4000014\t0.125593\n",
      "chr11\t4000014\t4000015\t0.122635\n",
      "chr11\t4000015\t4000016\t0.122635\n",
      "chr11\t4000016\t4000017\t0.123712\n",
      "chr11\t4000017\t4000018\t0.126061\n",
      "chr11\t4000018\t4000019\t0.126061\n",
      "chr11\t4000019\t4000020\t0.126061\n"
     ]
    }
   ],
   "source": [
    "ASSAY=KS91_K562_ASTARRseq\n",
    "GROUP=Input\n",
    "\n",
    "FD_INP=${FD_RES}/results/${ASSAY}/coverage/track_scratch\n",
    "FP_INPS=($(ls ${FD_INP}/*${GROUP}*rep*SUBSET*bed.gz))\n",
    "\n",
    "FD_OUT=${FD_RES}/results/${ASSAY}/coverage/track_scratch\n",
    "FP_INP=$(ls ${FD_INP}/*${GROUP}*rep1*SUBSET*bed.gz)\n",
    "FN_INP=$(basename ${FP_INP})\n",
    "FN_OUT=${FN_INP/rep1/mean}\n",
    "FP_OUT=${FD_OUT}/${FN_OUT}\n",
    "\n",
    "bedtools unionbedg -i ${FP_INPS[@]} \\\n",
    "| awk '{\n",
    "    x_sum = 0; \n",
    "    x_min = $4;\n",
    "    x_max = $4;\n",
    "    for (col = 4; col <= NF; col++) { \n",
    "       x_sum += $col; \n",
    "    }\n",
    "    x_mean = x_sum / (NF-4+1);\n",
    "    print $1 \"\\t\" $2 \"\\t\" $3 \"\\t\" x_mean; \n",
    "  }' \\\n",
    "| gzip -c \\\n",
    "> ${FP_OUT}\n",
    "\n",
    "echo ${FN_INP}\n",
    "echo ${FN_OUT}\n",
    "echo\n",
    "zcat ${FP_OUT}"
   ]
  },
  {
   "cell_type": "code",
   "execution_count": 50,
   "id": "eda24b90-5097-4bb2-9937-857edd75baa7",
   "metadata": {},
   "outputs": [
    {
     "name": "stdout",
     "output_type": "stream",
     "text": [
      "KS91_K562_ASTARRseq.Output.rep1.SUBSET.unstranded.bed.gz\n",
      "KS91_K562_ASTARRseq.Output.mean.SUBSET.unstranded.bed.gz\n",
      "\n",
      "chr11\t4000000\t4000001\t0.217619\n",
      "chr11\t4000001\t4000002\t0.217619\n",
      "chr11\t4000002\t4000003\t0.217619\n",
      "chr11\t4000003\t4000004\t0.217619\n",
      "chr11\t4000004\t4000005\t0.217619\n",
      "chr11\t4000005\t4000006\t0.217619\n",
      "chr11\t4000006\t4000007\t0.217619\n",
      "chr11\t4000007\t4000008\t0.217619\n",
      "chr11\t4000008\t4000009\t0.217619\n",
      "chr11\t4000009\t4000010\t0.217619\n",
      "chr11\t4000010\t4000011\t0.217619\n",
      "chr11\t4000011\t4000012\t0.217619\n",
      "chr11\t4000012\t4000013\t0.217619\n",
      "chr11\t4000013\t4000014\t0.217619\n",
      "chr11\t4000014\t4000015\t0.217619\n",
      "chr11\t4000015\t4000016\t0.217619\n",
      "chr11\t4000016\t4000017\t0.221715\n",
      "chr11\t4000017\t4000018\t0.224446\n",
      "chr11\t4000018\t4000019\t0.224446\n",
      "chr11\t4000019\t4000020\t0.224446\n"
     ]
    }
   ],
   "source": [
    "ASSAY=KS91_K562_ASTARRseq\n",
    "GROUP=Output\n",
    "\n",
    "FD_INP=${FD_RES}/results/${ASSAY}/coverage/track_scratch\n",
    "FP_INPS=($(ls ${FD_INP}/*${GROUP}*rep*SUBSET*bed.gz))\n",
    "\n",
    "FD_OUT=${FD_RES}/results/${ASSAY}/coverage/track_scratch\n",
    "FP_INP=$(ls ${FD_INP}/*${GROUP}*rep1*SUBSET*bed.gz)\n",
    "FN_INP=$(basename ${FP_INP})\n",
    "FN_OUT=${FN_INP/rep1/mean}\n",
    "FP_OUT=${FD_OUT}/${FN_OUT}\n",
    "\n",
    "bedtools unionbedg -i ${FP_INPS[@]} \\\n",
    "| awk '{\n",
    "    x_sum = 0; \n",
    "    x_min = $4;\n",
    "    x_max = $4;\n",
    "    for (col = 4; col <= NF; col++) { \n",
    "       x_sum += $col; \n",
    "    }\n",
    "    x_mean = x_sum / (NF-4+1);\n",
    "    print $1 \"\\t\" $2 \"\\t\" $3 \"\\t\" x_mean; \n",
    "  }' \\\n",
    "| gzip -c \\\n",
    "> ${FP_OUT}\n",
    "\n",
    "echo ${FN_INP}\n",
    "echo ${FN_OUT}\n",
    "echo\n",
    "zcat ${FP_OUT}"
   ]
  },
  {
   "cell_type": "markdown",
   "id": "c88e5dc9-cede-48b0-b503-4f634935f13f",
   "metadata": {
    "tags": []
   },
   "source": [
    "## Scratch: Caculate pLog2FC"
   ]
  },
  {
   "cell_type": "code",
   "execution_count": 54,
   "id": "809a7754-50ab-4b99-9838-78c6c5637a58",
   "metadata": {},
   "outputs": [
    {
     "name": "stdout",
     "output_type": "stream",
     "text": [
      "KS91_K562_ASTARRseq.Input.mean.SUBSET.unstranded.bed.gz\n",
      "\n",
      "KS91_K562_ASTARRseq.Output.mean.SUBSET.unstranded.bed.gz\n",
      "\n",
      "KS91_K562_ASTARRseq.pLog2FC.mean.SUBSET.unstranded.bed.gz\n",
      "\n",
      "chr11\t4000000\t4000001\t0.128361\t0.217619\n",
      "chr11\t4000001\t4000002\t0.124456\t0.217619\n",
      "chr11\t4000002\t4000003\t0.124456\t0.217619\n",
      "chr11\t4000003\t4000004\t0.124456\t0.217619\n",
      "chr11\t4000004\t4000005\t0.124456\t0.217619\n",
      "chr11\t4000005\t4000006\t0.126071\t0.217619\n",
      "chr11\t4000006\t4000007\t0.125593\t0.217619\n",
      "chr11\t4000007\t4000008\t0.125593\t0.217619\n",
      "chr11\t4000008\t4000009\t0.125593\t0.217619\n",
      "chr11\t4000009\t4000010\t0.125593\t0.217619\n",
      "chr11\t4000010\t4000011\t0.125593\t0.217619\n",
      "chr11\t4000011\t4000012\t0.125593\t0.217619\n",
      "chr11\t4000012\t4000013\t0.125593\t0.217619\n",
      "chr11\t4000013\t4000014\t0.125593\t0.217619\n",
      "chr11\t4000014\t4000015\t0.122635\t0.217619\n",
      "chr11\t4000015\t4000016\t0.122635\t0.217619\n",
      "chr11\t4000016\t4000017\t0.123712\t0.221715\n",
      "chr11\t4000017\t4000018\t0.126061\t0.224446\n",
      "chr11\t4000018\t4000019\t0.126061\t0.224446\n",
      "chr11\t4000019\t4000020\t0.126061\t0.224446\n",
      "\n",
      "chr11\t4000000\t4000001\t0.109834\n",
      "chr11\t4000001\t4000002\t0.114836\n",
      "chr11\t4000002\t4000003\t0.114836\n",
      "chr11\t4000003\t4000004\t0.114836\n",
      "chr11\t4000004\t4000005\t0.114836\n",
      "chr11\t4000005\t4000006\t0.112765\n",
      "chr11\t4000006\t4000007\t0.113378\n",
      "chr11\t4000007\t4000008\t0.113378\n",
      "chr11\t4000008\t4000009\t0.113378\n",
      "chr11\t4000009\t4000010\t0.113378\n",
      "chr11\t4000010\t4000011\t0.113378\n",
      "chr11\t4000011\t4000012\t0.113378\n",
      "chr11\t4000012\t4000013\t0.113378\n",
      "chr11\t4000013\t4000014\t0.113378\n",
      "chr11\t4000014\t4000015\t0.117174\n",
      "chr11\t4000015\t4000016\t0.117174\n",
      "chr11\t4000016\t4000017\t0.120635\n",
      "chr11\t4000017\t4000018\t0.120844\n",
      "chr11\t4000018\t4000019\t0.120844\n",
      "chr11\t4000019\t4000020\t0.120844\n"
     ]
    }
   ],
   "source": [
    "ASSAY=KS91_K562_ASTARRseq\n",
    "FD_INP=${FD_RES}/results/${ASSAY}/coverage/track_scratch\n",
    "\n",
    "FP_INP1=$(ls ${FD_INP}/*Input*mean*SUBSET*bed.gz)\n",
    "FP_INP2=$(ls ${FD_INP}/*Output*mean*SUBSET*bed.gz)\n",
    "FN_INP1=$(basename ${FP_INP1})\n",
    "FN_INP2=$(basename ${FP_INP2})\n",
    "\n",
    "FD_OUT=${FD_RES}/results/${ASSAY}/coverage/track_scratch\n",
    "FN_OUT=${FN_INP1/Input/pLog2FC}\n",
    "FP_OUT=${FD_OUT}/${FN_OUT}\n",
    "\n",
    "echo ${FN_INP1}\n",
    "echo \n",
    "echo ${FN_INP2}\n",
    "echo\n",
    "echo ${FN_OUT}\n",
    "echo \n",
    "\n",
    "bedtools unionbedg -i ${FP_INP1} ${FP_INP2}\n",
    "echo\n",
    "\n",
    "bedtools unionbedg -i ${FP_INP1} ${FP_INP2} \\\n",
    "| awk '{\n",
    "    plog2fc = log($5 + 1)/log(2) - log($4 + 1)/log(2);\n",
    "    print $1 \"\\t\" $2 \"\\t\" $3 \"\\t\" plog2fc; \n",
    "  }' \\\n",
    "| gzip -c \\\n",
    "> ${FP_OUT}\n",
    "\n",
    "zcat ${FP_OUT}"
   ]
  }
 ],
 "metadata": {
  "kernelspec": {
   "display_name": "Bash",
   "language": "bash",
   "name": "bash"
  },
  "language_info": {
   "codemirror_mode": "shell",
   "file_extension": ".sh",
   "mimetype": "text/x-sh",
   "name": "bash"
  }
 },
 "nbformat": 4,
 "nbformat_minor": 5
}
