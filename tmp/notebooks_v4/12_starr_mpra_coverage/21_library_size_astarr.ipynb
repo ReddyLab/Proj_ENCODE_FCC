{
 "cells": [
  {
   "cell_type": "markdown",
   "id": "a6c29cc0-4d6b-4bff-a4cd-57f0b847f0ed",
   "metadata": {},
   "source": [
    "**Set environment**"
   ]
  },
  {
   "cell_type": "code",
   "execution_count": 1,
   "id": "cfe9be95-d416-49fc-8fe4-fa1efa484301",
   "metadata": {},
   "outputs": [
    {
     "name": "stdout",
     "output_type": "stream",
     "text": [
      "You are on Duke Server: HARDAC\n",
      "BASE DIRECTORY (FD_BASE): /data/reddylab/Kuei\n",
      "WORK DIRECTORY (FD_WORK): /data/reddylab/Kuei/out\n",
      "CODE DIRECTORY (FD_CODE): /data/reddylab/Kuei/code\n",
      "SING DIRECTORY (FD_SING): /data/reddylab/Kuei/singularity\n",
      "PATH OF PROJECT (FD_PRJ): /data/reddylab/Kuei/code/Proj_CombEffect_ENCODE_FCC\n",
      "PATH OF RESULTS (FD_RES): /data/reddylab/Kuei/out/proj_combeffect_encode_fcc\n",
      "PATH OF LOG     (FD_LOG): /data/reddylab/Kuei/out/proj_combeffect_encode_fcc/log\n",
      "\n"
     ]
    }
   ],
   "source": [
    "source ../config/config_duke.sh\n",
    "show_env"
   ]
  },
  {
   "cell_type": "markdown",
   "id": "6d2c85af-2a1b-40cf-ac79-56fb80b5ca2d",
   "metadata": {},
   "source": [
    "**Check data**"
   ]
  },
  {
   "cell_type": "code",
   "execution_count": 4,
   "id": "8b914137-3857-42fe-aa90-7dc5905854bd",
   "metadata": {},
   "outputs": [
    {
     "name": "stdout",
     "output_type": "stream",
     "text": [
      "Total: 10\n",
      "KS91_K562_ASTARRseq.Input.rep1.WGS.unstranded.bed.gz\n",
      "KS91_K562_ASTARRseq.Input.rep2.WGS.unstranded.bed.gz\n",
      "KS91_K562_ASTARRseq.Input.rep3.WGS.unstranded.bed.gz\n",
      "KS91_K562_ASTARRseq.Input.rep4.WGS.unstranded.bed.gz\n",
      "KS91_K562_ASTARRseq.Input.rep5.WGS.unstranded.bed.gz\n",
      "KS91_K562_ASTARRseq.Input.rep6.WGS.unstranded.bed.gz\n",
      "KS91_K562_ASTARRseq.Output.rep1.WGS.unstranded.bed.gz\n",
      "KS91_K562_ASTARRseq.Output.rep2.WGS.unstranded.bed.gz\n",
      "KS91_K562_ASTARRseq.Output.rep3.WGS.unstranded.bed.gz\n",
      "KS91_K562_ASTARRseq.Output.rep4.WGS.unstranded.bed.gz\n"
     ]
    }
   ],
   "source": [
    "ASSAY=KS91_K562_ASTARRseq\n",
    "FD_INP=${FD_RES}/results/${ASSAY}/fragment_count\n",
    "FP_INPS=($(ls ${FD_INP}/*WGS*bed.gz))\n",
    "\n",
    "echo Total: ${#FP_INPS[@]}\n",
    "for FP_INP in ${FP_INPS[@]}; do\n",
    "    echo $(basename ${FP_INP})\n",
    "done"
   ]
  },
  {
   "cell_type": "markdown",
   "id": "5628ad2b-ebb8-4ab2-a343-71adc39611a7",
   "metadata": {},
   "source": [
    "## RUN"
   ]
  },
  {
   "cell_type": "code",
   "execution_count": 7,
   "id": "69cfddb1-c43c-4657-b212-48f405eed088",
   "metadata": {},
   "outputs": [
    {
     "name": "stdout",
     "output_type": "stream",
     "text": [
      "Submitted batch job 29562024\n"
     ]
    }
   ],
   "source": [
    "sbatch -p ${NODE} \\\n",
    "    --exclude=dl-01 \\\n",
    "    --cpus-per-task 8 \\\n",
    "    --mem 8G \\\n",
    "    --output ${FD_LOG}/coverage_library_size_ASTARR.%a.txt \\\n",
    "    --array 0 \\\n",
    "    <<'EOF'\n",
    "#!/bin/bash\n",
    "### set directories & global variables\n",
    "source ../config/config_duke.sh\n",
    "ASSAY=KS91_K562_ASTARRseq\n",
    "\n",
    "### print start message\n",
    "timer_start=`date +%s`\n",
    "echo \"Hostname:          \" $(hostname)\n",
    "echo \"Slurm Array Index: \" ${SLURM_ARRAY_TASK_ID}\n",
    "echo \"Time Stamp:        \" $(date +\"%m-%d-%y+%T\")\n",
    "echo\n",
    "\n",
    "### set input and output files\n",
    "FD_INP=${FD_RES}/results/${ASSAY}/fragment_count\n",
    "FP_INPS=($(ls ${FD_INP}/*WGS*bed.gz))\n",
    "\n",
    "FD_OUT=${FD_RES}/results/${ASSAY}/coverage/summary\n",
    "FN_OUT=library_size_count.csv\n",
    "FP_OUT=${FD_OUT}/${FN_OUT}\n",
    "\n",
    "### init\n",
    "mkdir -p   ${FD_OUT}\n",
    "echo  -n > ${FP_OUT}\n",
    "\n",
    "### get library size\n",
    "for FP_INP in ${FP_INPS[@]}; do\n",
    "    \n",
    "    ### show I/O file\n",
    "    echo ++++++++++++++++++++++++++++++++++++++\n",
    "    echo \"Input: \" ${FP_INP}\n",
    "    echo\n",
    "    echo \"show first few lines of file\"\n",
    "    zcat ${FP_INP} | head -n 3\n",
    "    echo\n",
    "    \n",
    "    ### count the total counts and append the results to the output file\n",
    "    FN_INP=$(basename ${FP_INP})\n",
    "    zcat ${FP_INP} |\\\n",
    "        awk -v OFS=, -v FNAME=${FN_INP} '{sum += $5} END {print FNAME, sum}' \\\n",
    "        >> ${FP_OUT}\n",
    "done\n",
    "\n",
    "### show I/O file\n",
    "echo \"Output file: ${FP_OUT}\"\n",
    "echo\n",
    "echo \"Show the lines\"\n",
    "cat ${FP_OUT}\n",
    "echo\n",
    "\n",
    "### print end message\n",
    "timer=`date +%s`\n",
    "runtime=$(echo \"${timer} - ${timer_start}\" | bc -l)\n",
    "echo\n",
    "echo 'Done!'\n",
    "echo \"Run Time: $(displaytime ${runtime})\"\n",
    "EOF"
   ]
  },
  {
   "cell_type": "markdown",
   "id": "8032b8eb-8be2-4be5-9aa0-4b3e42fe95f8",
   "metadata": {},
   "source": [
    "## Check"
   ]
  },
  {
   "cell_type": "code",
   "execution_count": 9,
   "id": "15100ed0-1e51-4e44-b7f9-a4bef176b676",
   "metadata": {},
   "outputs": [
    {
     "name": "stdout",
     "output_type": "stream",
     "text": [
      "Hostname:           x1-02-4.genome.duke.edu\n",
      "Slurm Array Index:  0\n",
      "Time Stamp:         03-12-23+13:54:01\n",
      "\n",
      "++++++++++++++++++++++++++++++++++++++\n",
      "Input:  /data/reddylab/Kuei/out/proj_combeffect_encode_fcc/results/KS91_K562_ASTARRseq/fragment_count/KS91_K562_ASTARRseq.Input.rep1.WGS.unstranded.bed.gz\n",
      "\n",
      "show first few lines of file\n",
      "chr1\t10001\t10143\tchr1_10001_10143\t1\t.\n",
      "chr1\t10002\t10118\tchr1_10002_10118\t1\t.\n",
      "chr1\t10002\t10131\tchr1_10002_10131\t1\t.\n",
      "\n",
      "++++++++++++++++++++++++++++++++++++++\n",
      "Input:  /data/reddylab/Kuei/out/proj_combeffect_encode_fcc/results/KS91_K562_ASTARRseq/fragment_count/KS91_K562_ASTARRseq.Input.rep2.WGS.unstranded.bed.gz\n",
      "\n",
      "show first few lines of file\n",
      "chr1\t10001\t10233\tchr1_10001_10233\t1\t.\n",
      "chr1\t10001\t10351\tchr1_10001_10351\t1\t.\n",
      "chr1\t10002\t10119\tchr1_10002_10119\t1\t.\n",
      "\n",
      "++++++++++++++++++++++++++++++++++++++\n",
      "Input:  /data/reddylab/Kuei/out/proj_combeffect_encode_fcc/results/KS91_K562_ASTARRseq/fragment_count/KS91_K562_ASTARRseq.Input.rep3.WGS.unstranded.bed.gz\n",
      "\n",
      "show first few lines of file\n",
      "chr1\t10001\t10203\tchr1_10001_10203\t1\t.\n",
      "chr1\t10002\t10113\tchr1_10002_10113\t1\t.\n",
      "chr1\t10002\t10131\tchr1_10002_10131\t1\t.\n",
      "\n",
      "++++++++++++++++++++++++++++++++++++++\n",
      "Input:  /data/reddylab/Kuei/out/proj_combeffect_encode_fcc/results/KS91_K562_ASTARRseq/fragment_count/KS91_K562_ASTARRseq.Input.rep4.WGS.unstranded.bed.gz\n",
      "\n",
      "show first few lines of file\n",
      "chr1\t10001\t10125\tchr1_10001_10125\t1\t.\n",
      "chr1\t10001\t10326\tchr1_10001_10326\t1\t.\n",
      "chr1\t10002\t10119\tchr1_10002_10119\t1\t.\n",
      "\n",
      "++++++++++++++++++++++++++++++++++++++\n",
      "Input:  /data/reddylab/Kuei/out/proj_combeffect_encode_fcc/results/KS91_K562_ASTARRseq/fragment_count/KS91_K562_ASTARRseq.Input.rep5.WGS.unstranded.bed.gz\n",
      "\n",
      "show first few lines of file\n",
      "chr1\t10001\t10119\tchr1_10001_10119\t1\t.\n",
      "chr1\t10001\t10131\tchr1_10001_10131\t1\t.\n",
      "chr1\t10001\t10215\tchr1_10001_10215\t1\t.\n",
      "\n",
      "++++++++++++++++++++++++++++++++++++++\n",
      "Input:  /data/reddylab/Kuei/out/proj_combeffect_encode_fcc/results/KS91_K562_ASTARRseq/fragment_count/KS91_K562_ASTARRseq.Input.rep6.WGS.unstranded.bed.gz\n",
      "\n",
      "show first few lines of file\n",
      "chr1\t10001\t10119\tchr1_10001_10119\t1\t.\n",
      "chr1\t10001\t10143\tchr1_10001_10143\t1\t.\n",
      "chr1\t10002\t10119\tchr1_10002_10119\t1\t.\n",
      "\n",
      "++++++++++++++++++++++++++++++++++++++\n",
      "Input:  /data/reddylab/Kuei/out/proj_combeffect_encode_fcc/results/KS91_K562_ASTARRseq/fragment_count/KS91_K562_ASTARRseq.Output.rep1.WGS.unstranded.bed.gz\n",
      "\n",
      "show first few lines of file\n",
      "chr1\t10057\t10233\tchr1_10057_10233\t2\t.\n",
      "chr1\t10188\t10442\tchr1_10188_10442\t1\t.\n",
      "chr1\t10285\t10349\tchr1_10285_10349\t1\t.\n",
      "\n",
      "++++++++++++++++++++++++++++++++++++++\n",
      "Input:  /data/reddylab/Kuei/out/proj_combeffect_encode_fcc/results/KS91_K562_ASTARRseq/fragment_count/KS91_K562_ASTARRseq.Output.rep2.WGS.unstranded.bed.gz\n",
      "\n",
      "show first few lines of file\n",
      "chr1\t10051\t10233\tchr1_10051_10233\t1\t.\n",
      "chr1\t10056\t10233\tchr1_10056_10233\t1\t.\n",
      "chr1\t10057\t10233\tchr1_10057_10233\t5\t.\n",
      "\n",
      "++++++++++++++++++++++++++++++++++++++\n",
      "Input:  /data/reddylab/Kuei/out/proj_combeffect_encode_fcc/results/KS91_K562_ASTARRseq/fragment_count/KS91_K562_ASTARRseq.Output.rep3.WGS.unstranded.bed.gz\n",
      "\n",
      "show first few lines of file\n",
      "chr1\t10057\t10233\tchr1_10057_10233\t2\t.\n",
      "chr1\t10087\t10412\tchr1_10087_10412\t1\t.\n",
      "chr1\t10342\t10452\tchr1_10342_10452\t1\t.\n",
      "\n",
      "++++++++++++++++++++++++++++++++++++++\n",
      "Input:  /data/reddylab/Kuei/out/proj_combeffect_encode_fcc/results/KS91_K562_ASTARRseq/fragment_count/KS91_K562_ASTARRseq.Output.rep4.WGS.unstranded.bed.gz\n",
      "\n",
      "show first few lines of file\n",
      "chr1\t10033\t10130\tchr1_10033_10130\t1\t.\n",
      "chr1\t10057\t10233\tchr1_10057_10233\t3\t.\n",
      "chr1\t10104\t10345\tchr1_10104_10345\t1\t.\n",
      "\n",
      "Output file: /data/reddylab/Kuei/out/proj_combeffect_encode_fcc/results/KS91_K562_ASTARRseq/coverage/summary/library_size_count.csv\n",
      "\n",
      "Show the lines\n",
      "KS91_K562_ASTARRseq.Input.rep1.WGS.unstranded.bed.gz,348695063\n",
      "KS91_K562_ASTARRseq.Input.rep2.WGS.unstranded.bed.gz,451369741\n",
      "KS91_K562_ASTARRseq.Input.rep3.WGS.unstranded.bed.gz,487579055\n",
      "KS91_K562_ASTARRseq.Input.rep4.WGS.unstranded.bed.gz,456246254\n",
      "KS91_K562_ASTARRseq.Input.rep5.WGS.unstranded.bed.gz,444268950\n",
      "KS91_K562_ASTARRseq.Input.rep6.WGS.unstranded.bed.gz,397333562\n",
      "KS91_K562_ASTARRseq.Output.rep1.WGS.unstranded.bed.gz,44103844\n",
      "KS91_K562_ASTARRseq.Output.rep2.WGS.unstranded.bed.gz,97471282\n",
      "KS91_K562_ASTARRseq.Output.rep3.WGS.unstranded.bed.gz,84103298\n",
      "KS91_K562_ASTARRseq.Output.rep4.WGS.unstranded.bed.gz,183115379\n",
      "\n",
      "\n",
      "Done!\n",
      "Run Time: 17 minutes and 34 seconds\n"
     ]
    }
   ],
   "source": [
    "cat ${FD_LOG}/coverage_library_size_ASTARR.0.txt"
   ]
  },
  {
   "cell_type": "code",
   "execution_count": null,
   "id": "49b284fe-96e1-464a-8c59-c1a74154f3d5",
   "metadata": {},
   "outputs": [],
   "source": []
  }
 ],
 "metadata": {
  "kernelspec": {
   "display_name": "Bash",
   "language": "bash",
   "name": "bash"
  },
  "language_info": {
   "codemirror_mode": "shell",
   "file_extension": ".sh",
   "mimetype": "text/x-sh",
   "name": "bash"
  }
 },
 "nbformat": 4,
 "nbformat_minor": 5
}
