{
 "cells": [
  {
   "cell_type": "markdown",
   "id": "08e022c5",
   "metadata": {},
   "source": [
    "**Set environment**"
   ]
  },
  {
   "cell_type": "code",
   "execution_count": 6,
   "id": "3cc40eba",
   "metadata": {},
   "outputs": [
    {
     "name": "stdout",
     "output_type": "stream",
     "text": [
      "You are on Duke Server: HARDAC\n",
      "BASE DIRECTORY (FD_BASE): /data/reddylab/Kuei\n",
      "WORK DIRECTORY (FD_WORK): /data/reddylab/Kuei/out\n",
      "CODE DIRECTORY (FD_CODE): /data/reddylab/Kuei/code\n",
      "SING DIRECTORY (FD_SING): /data/reddylab/Kuei/singularity\n",
      "PATH OF PROJECT (FD_PRJ): /data/reddylab/Kuei/code/Proj_CombEffect_ENCODE_FCC\n",
      "PATH OF RESULTS (FD_RES): /data/reddylab/Kuei/out/proj_combeffect_encode_fcc\n",
      "PATH OF LOG     (FD_LOG): /data/reddylab/Kuei/out/proj_combeffect_encode_fcc/log\n",
      "\n"
     ]
    }
   ],
   "source": [
    "source ../config/config_duke.sh\n",
    "source ../config/config_load_module_bedtools.sh\n",
    "show_env"
   ]
  },
  {
   "cell_type": "markdown",
   "id": "e5d48924",
   "metadata": {},
   "source": [
    "**Check data**"
   ]
  },
  {
   "cell_type": "code",
   "execution_count": 7,
   "id": "2d1652fe",
   "metadata": {},
   "outputs": [
    {
     "name": "stdout",
     "output_type": "stream",
     "text": [
      "\u001b[0m\u001b[38;5;9mOL13_20220512.hg38.raw.Input.mean.stranded_pos.bed.gz\u001b[0m\n",
      "\u001b[38;5;9mOL13_20220512.hg38.raw.Input.rep1.stranded_pos.bed.gz\u001b[0m\n",
      "\u001b[38;5;9mOL13_20220512.hg38.raw.Input.rep2.stranded_pos.bed.gz\u001b[0m\n",
      "\u001b[38;5;9mOL13_20220512.hg38.raw.Input.rep3.stranded_pos.bed.gz\u001b[0m\n",
      "\u001b[38;5;9mOL13_20220512.hg38.raw.Input.rep4.stranded_pos.bed.gz\u001b[0m\n",
      "\u001b[38;5;9mOL13_20220512.hg38.raw.Output.mean.stranded_pos.bed.gz\u001b[0m\n",
      "\u001b[38;5;9mOL13_20220512.hg38.raw.Output.rep1.stranded_pos.bed.gz\u001b[0m\n",
      "\u001b[38;5;9mOL13_20220512.hg38.raw.Output.rep2.stranded_pos.bed.gz\u001b[0m\n",
      "\u001b[38;5;9mOL13_20220512.hg38.raw.Output.rep3.stranded_pos.bed.gz\u001b[0m\n",
      "\u001b[38;5;9mOL13_20220512.hg38.raw.Output.rep4.stranded_pos.bed.gz\u001b[0m\n",
      "\u001b[38;5;9mOL13_20220512.hg38.raw.pLog2FC.mean.stranded_pos.bed.gz\u001b[0m\n",
      "\u001b[38;5;9mOL43_20221003.hg38.raw.Input.mean.stranded_pos.bed.gz\u001b[0m\n",
      "\u001b[38;5;9mOL43_20221003.hg38.raw.Input.rep1.stranded_pos.bed.gz\u001b[0m\n",
      "\u001b[38;5;9mOL43_20221003.hg38.raw.Input.rep2.stranded_pos.bed.gz\u001b[0m\n",
      "\u001b[38;5;9mOL43_20221003.hg38.raw.Input.rep3.stranded_pos.bed.gz\u001b[0m\n",
      "\u001b[38;5;9mOL43_20221003.hg38.raw.Input.rep4.stranded_pos.bed.gz\u001b[0m\n",
      "\u001b[38;5;9mOL43_20221003.hg38.raw.Input.rep5.stranded_pos.bed.gz\u001b[0m\n",
      "\u001b[38;5;9mOL43_20221003.hg38.raw.Input.rep6.stranded_pos.bed.gz\u001b[0m\n",
      "\u001b[38;5;9mOL43_20221003.hg38.raw.Output.mean.stranded_pos.bed.gz\u001b[0m\n",
      "\u001b[38;5;9mOL43_20221003.hg38.raw.Output.rep1.stranded_pos.bed.gz\u001b[0m\n",
      "\u001b[38;5;9mOL43_20221003.hg38.raw.Output.rep2.stranded_pos.bed.gz\u001b[0m\n",
      "\u001b[38;5;9mOL43_20221003.hg38.raw.Output.rep3.stranded_pos.bed.gz\u001b[0m\n",
      "\u001b[38;5;9mOL43_20221003.hg38.raw.Output.rep4.stranded_pos.bed.gz\u001b[0m\n",
      "\u001b[38;5;9mOL43_20221003.hg38.raw.Output.rep5.stranded_pos.bed.gz\u001b[0m\n",
      "\u001b[38;5;9mOL43_20221003.hg38.raw.pLog2FC.mean.stranded_pos.bed.gz\u001b[0m\n",
      "\u001b[38;5;9mOL45_20220927.hg38.raw.Input.mean.stranded_pos.bed.gz\u001b[0m\n",
      "\u001b[38;5;9mOL45_20220927.hg38.raw.Input.rep1.stranded_pos.bed.gz\u001b[0m\n",
      "\u001b[38;5;9mOL45_20220927.hg38.raw.Input.rep2.stranded_pos.bed.gz\u001b[0m\n",
      "\u001b[38;5;9mOL45_20220927.hg38.raw.Input.rep3.stranded_pos.bed.gz\u001b[0m\n",
      "\u001b[38;5;9mOL45_20220927.hg38.raw.Input.rep4.stranded_pos.bed.gz\u001b[0m\n",
      "\u001b[38;5;9mOL45_20220927.hg38.raw.Output.mean.stranded_pos.bed.gz\u001b[0m\n",
      "\u001b[38;5;9mOL45_20220927.hg38.raw.Output.rep1.stranded_pos.bed.gz\u001b[0m\n",
      "\u001b[38;5;9mOL45_20220927.hg38.raw.Output.rep2.stranded_pos.bed.gz\u001b[0m\n",
      "\u001b[38;5;9mOL45_20220927.hg38.raw.Output.rep3.stranded_pos.bed.gz\u001b[0m\n",
      "\u001b[38;5;9mOL45_20220927.hg38.raw.Output.rep4.stranded_pos.bed.gz\u001b[0m\n",
      "\u001b[38;5;9mOL45_20220927.hg38.raw.pLog2FC.mean.stranded_pos.bed.gz\u001b[0m\n"
     ]
    }
   ],
   "source": [
    "ASSAY=Tewhey_K562_TileMPRA\n",
    "PREFIX=OL45\n",
    "ls ${FD_RES}/results/${ASSAY}/coverage/track_normalized"
   ]
  },
  {
   "cell_type": "code",
   "execution_count": 8,
   "id": "e1419bd5",
   "metadata": {},
   "outputs": [
    {
     "name": "stdout",
     "output_type": "stream",
     "text": [
      "OL45_20220927.hg38.raw.Input.mean.stranded_pos.bed.gz\n",
      "\n",
      "OL45_20220927.hg38.raw.Output.mean.stranded_pos.bed.gz\n",
      "\n",
      "OL45_20220927.hg38.raw.pLog2FC.mean.stranded_pos.bed.gz\n"
     ]
    }
   ],
   "source": [
    "FD_INP=${FD_RES}/results/${ASSAY}/coverage/track_normalized\n",
    "FP_INP1=$(ls ${FD_INP}/${PREFIX}*hg38*raw*Input*mean*bed.gz)\n",
    "FP_INP2=$(ls ${FD_INP}/${PREFIX}*hg38*raw*Output*mean*bed.gz)\n",
    "FN_INP1=$(basename ${FP_INP1})\n",
    "FN_INP2=$(basename ${FP_INP2})\n",
    "FD_OUT=${FD_RES}/results/${ASSAY}/coverage/track_normalized\n",
    "FN_OUT=${FN_INP1/Input/pLog2FC}\n",
    "FP_OUT=${FD_OUT}/${FN_OUT}\n",
    "\n",
    "echo ${FN_INP1}\n",
    "echo \n",
    "echo ${FN_INP2}\n",
    "echo\n",
    "echo ${FN_OUT}"
   ]
  },
  {
   "cell_type": "markdown",
   "id": "4602841d",
   "metadata": {},
   "source": [
    "## RUN"
   ]
  },
  {
   "cell_type": "code",
   "execution_count": 9,
   "id": "2e750f30",
   "metadata": {},
   "outputs": [
    {
     "name": "stdout",
     "output_type": "stream",
     "text": [
      "Submitted batch job 29574732\n"
     ]
    }
   ],
   "source": [
    "sbatch -p ${NODE} \\\n",
    "    --exclude=dl-01 \\\n",
    "    --cpus-per-task 8 \\\n",
    "    --mem 20G \\\n",
    "    --output ${FD_LOG}/coverage_perbase_pLog2FC_TMPRA_OL45.%a.txt \\\n",
    "    --array 0 \\\n",
    "    <<'EOF'\n",
    "#!/bin/bash\n",
    "### set directories & global variables\n",
    "source ../config/config_duke.sh\n",
    "ASSAY=Tewhey_K562_TileMPRA\n",
    "PREFIX=OL45\n",
    "SAMPLE_GROUPS=(\"Input\" \"Output\")\n",
    "\n",
    "### print start message\n",
    "timer_start=`date +%s`\n",
    "echo \"Hostname:          \" $(hostname)\n",
    "echo \"Slurm Array Index: \" ${SLURM_ARRAY_TASK_ID}\n",
    "echo \"Time Stamp:        \" $(date +\"%m-%d-%y+%T\")\n",
    "echo\n",
    "\n",
    "### set input and output files\n",
    "FD_INP=${FD_RES}/results/${ASSAY}/coverage/track_normalized\n",
    "FP_INP1=$(ls ${FD_INP}/${PREFIX}*hg38*raw*Input*mean*bed.gz)\n",
    "FP_INP2=$(ls ${FD_INP}/${PREFIX}*hg38*raw*Output*mean*bed.gz)\n",
    "FN_INP1=$(basename ${FP_INP1})\n",
    "FN_INP2=$(basename ${FP_INP2})\n",
    "\n",
    "FD_OUT=${FD_RES}/results/${ASSAY}/coverage/track_normalized\n",
    "FN_OUT=${FN_INP1/Input/pLog2FC}\n",
    "FP_OUT=${FD_OUT}/${FN_OUT}\n",
    "\n",
    "### show I/O file\n",
    "echo ++++++++++++++++++++++++++++++++++++++\n",
    "echo \"Input file: \" ${FP_INP1}\n",
    "echo\n",
    "echo \"show first few lines of file\"\n",
    "zcat ${FP_INP1} | head -5\n",
    "echo\n",
    "echo ++++++++++++++++++++++++++++++++++++++\n",
    "echo \"Input file: \" ${FP_INP2}\n",
    "echo\n",
    "echo \"show first few lines of file\"\n",
    "zcat ${FP_INP2} | head -5\n",
    "echo\n",
    "\n",
    "### execute\n",
    "bedtools unionbedg -i ${FP_INP1} ${FP_INP2} \\\n",
    "| awk '{\n",
    "    plog2fc = log($5 + 1)/log(2) - log($4 + 1)/log(2);\n",
    "    print $1 \"\\t\" $2 \"\\t\" $3 \"\\t\" $4 \"\\t\" $5 \"\\t\" plog2fc;\n",
    "  }' \\\n",
    "| gzip -c \\\n",
    "> ${FP_OUT}\n",
    "  \n",
    "### show I/O file\n",
    "echo ++++++++++++++++++++++++++++++++++++++\n",
    "echo \"Output file: \" ${FP_OUT}\n",
    "echo\n",
    "echo \"show first few lines of file\"\n",
    "zcat ${FP_OUT} | head -5\n",
    "echo\n",
    "\n",
    "### print end message\n",
    "timer=`date +%s`\n",
    "runtime=$(echo \"${timer} - ${timer_start}\" | bc -l)\n",
    "echo\n",
    "echo 'Done!'\n",
    "echo \"Run Time: $(displaytime ${runtime})\"\n",
    "EOF"
   ]
  },
  {
   "cell_type": "markdown",
   "id": "a118f098",
   "metadata": {},
   "source": [
    "## Check"
   ]
  },
  {
   "cell_type": "code",
   "execution_count": 11,
   "id": "c1fd76d8",
   "metadata": {},
   "outputs": [
    {
     "name": "stdout",
     "output_type": "stream",
     "text": [
      "Hostname:           x3-01-2.genome.duke.edu\n",
      "Slurm Array Index:  0\n",
      "Time Stamp:         03-15-23+15:03:25\n",
      "\n",
      "++++++++++++++++++++++++++++++++++++++\n",
      "Input file:  /data/reddylab/Kuei/out/proj_combeffect_encode_fcc/results/Tewhey_K562_TileMPRA/coverage/track_normalized/OL45_20220927.hg38.raw.Input.mean.stranded_pos.bed.gz\n",
      "\n",
      "show first few lines of file\n",
      "chr11\t4505501\t4505502\t15.5307\n",
      "chr11\t4505502\t4505503\t15.5307\n",
      "chr11\t4505503\t4505504\t15.5307\n",
      "chr11\t4505504\t4505505\t15.5307\n",
      "chr11\t4505505\t4505506\t15.5307\n",
      "\n",
      "++++++++++++++++++++++++++++++++++++++\n",
      "Input file:  /data/reddylab/Kuei/out/proj_combeffect_encode_fcc/results/Tewhey_K562_TileMPRA/coverage/track_normalized/OL45_20220927.hg38.raw.Output.mean.stranded_pos.bed.gz\n",
      "\n",
      "show first few lines of file\n",
      "chr11\t4505501\t4505502\t9.36921\n",
      "chr11\t4505502\t4505503\t9.36921\n",
      "chr11\t4505503\t4505504\t9.36921\n",
      "chr11\t4505504\t4505505\t9.36921\n",
      "chr11\t4505505\t4505506\t9.36921\n",
      "\n",
      "++++++++++++++++++++++++++++++++++++++\n",
      "Output file:  /data/reddylab/Kuei/out/proj_combeffect_encode_fcc/results/Tewhey_K562_TileMPRA/coverage/track_normalized/OL45_20220927.hg38.raw.pLog2FC.mean.stranded_pos.bed.gz\n",
      "\n",
      "show first few lines of file\n",
      "chr11\t4505501\t4505502\t15.5307\t9.36921\t-0.672842\n",
      "chr11\t4505502\t4505503\t15.5307\t9.36921\t-0.672842\n",
      "chr11\t4505503\t4505504\t15.5307\t9.36921\t-0.672842\n",
      "chr11\t4505504\t4505505\t15.5307\t9.36921\t-0.672842\n",
      "chr11\t4505505\t4505506\t15.5307\t9.36921\t-0.672842\n",
      "\n",
      "\n",
      "Done!\n",
      "Run Time: 1 minutes and 30 seconds\n"
     ]
    }
   ],
   "source": [
    "cat ${FD_LOG}/coverage_perbase_pLog2FC_TMPRA_OL45.0.txt"
   ]
  },
  {
   "cell_type": "code",
   "execution_count": null,
   "id": "4baecc82",
   "metadata": {},
   "outputs": [],
   "source": []
  }
 ],
 "metadata": {
  "kernelspec": {
   "display_name": "Bash",
   "language": "bash",
   "name": "bash"
  },
  "language_info": {
   "codemirror_mode": "shell",
   "file_extension": ".sh",
   "mimetype": "text/x-sh",
   "name": "bash"
  }
 },
 "nbformat": 4,
 "nbformat_minor": 5
}
