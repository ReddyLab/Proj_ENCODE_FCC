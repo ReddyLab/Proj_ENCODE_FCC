{
 "cells": [
  {
   "cell_type": "code",
   "execution_count": 1,
   "id": "5ffd589c-dab5-4198-b95e-81ca9d6cc583",
   "metadata": {},
   "outputs": [
    {
     "name": "stdout",
     "output_type": "stream",
     "text": [
      "You are on Duke Server: HARDAC\n",
      "BASE DIRECTORY (FD_BASE): /data/reddylab/Kuei\n",
      "WORK DIRECTORY (FD_WORK): /data/reddylab/Kuei/out\n",
      "CODE DIRECTORY (FD_CODE): /data/reddylab/Kuei/code\n",
      "SING DIRECTORY (FD_SING): /data/reddylab/Kuei/singularity\n",
      "PATH OF PROJECT (FD_PRJ): /data/reddylab/Kuei/code/Proj_CombEffect_ENCODE_FCC\n",
      "PATH OF RESULTS (FD_RES): /data/reddylab/Kuei/out/proj_combeffect_encode_fcc\n",
      "PATH OF LOG     (FD_LOG): /data/reddylab/Kuei/out/proj_combeffect_encode_fcc/log\n",
      "\n"
     ]
    }
   ],
   "source": [
    "### set env\n",
    "source ../config/config_duke.sh\n",
    "show_env"
   ]
  },
  {
   "cell_type": "code",
   "execution_count": 5,
   "id": "3cc331c0-89c3-4035-9613-d2b8f87de804",
   "metadata": {},
   "outputs": [
    {
     "name": "stdout",
     "output_type": "stream",
     "text": [
      "OL13_20220512.hg38.norm.Input.mean.stranded_pos.bed.gz\n",
      "OL13_20220512.hg38.norm.Log2FC.mean.stranded_pos.bed.gz\n",
      "OL13_20220512.hg38.norm.Output.mean.stranded_pos.bed.gz\n",
      "OL43_20221003.hg38.norm.Input.mean.stranded_pos.bed.gz\n",
      "OL43_20221003.hg38.norm.Log2FC.mean.stranded_pos.bed.gz\n",
      "OL43_20221003.hg38.norm.Output.mean.stranded_pos.bed.gz\n",
      "OL45_20220927.hg38.norm.Input.mean.stranded_pos.bed.gz\n",
      "OL45_20220927.hg38.norm.Log2FC.mean.stranded_pos.bed.gz\n",
      "OL45_20220927.hg38.norm.Output.mean.stranded_pos.bed.gz\n"
     ]
    }
   ],
   "source": [
    "ASSAY=Tewhey_K562_TileMPRA\n",
    "FD_INP=${FD_RES}/results/${ASSAY}/coverage/track_counts\n",
    "ls ${FD_INP}/OL*hg38*norm*mean*stranded_pos.bed.gz | xargs -n 1 basename"
   ]
  },
  {
   "cell_type": "code",
   "execution_count": 10,
   "id": "b306b714-5e29-4098-8823-85b3a12dfc7f",
   "metadata": {},
   "outputs": [
    {
     "name": "stdout",
     "output_type": "stream",
     "text": [
      "OL13_20220512.hg38.norm.Input.mean.stranded_pos.bed.gz\n",
      "OL43_20221003.hg38.norm.Input.mean.stranded_pos.bed.gz\n",
      "OL45_20220927.hg38.norm.Input.mean.stranded_pos.bed.gz\n"
     ]
    }
   ],
   "source": [
    "FP_INPS=($(ls ${FD_INP}/OL*hg38*norm*Input*mean*stranded_pos.bed.gz))\n",
    "basename -a ${FP_INPS[@]}"
   ]
  },
  {
   "cell_type": "code",
   "execution_count": 11,
   "id": "e40646d9-ee57-4f9d-b1a7-ea68832a1d2e",
   "metadata": {},
   "outputs": [
    {
     "name": "stdout",
     "output_type": "stream",
     "text": [
      "OL13_20220512.hg38.norm.Output.mean.stranded_pos.bed.gz\n",
      "OL43_20221003.hg38.norm.Output.mean.stranded_pos.bed.gz\n",
      "OL45_20220927.hg38.norm.Output.mean.stranded_pos.bed.gz\n"
     ]
    }
   ],
   "source": [
    "FP_INPS=($(ls ${FD_INP}/OL*hg38*norm*Output*mean*stranded_pos.bed.gz))\n",
    "basename -a ${FP_INPS[@]}"
   ]
  },
  {
   "cell_type": "code",
   "execution_count": 12,
   "id": "a0fe38cd-7763-4411-b341-df457ddfe87b",
   "metadata": {},
   "outputs": [
    {
     "name": "stdout",
     "output_type": "stream",
     "text": [
      "OL13_20220512.hg38.norm.Log2FC.mean.stranded_pos.bed.gz\n",
      "OL43_20221003.hg38.norm.Log2FC.mean.stranded_pos.bed.gz\n",
      "OL45_20220927.hg38.norm.Log2FC.mean.stranded_pos.bed.gz\n"
     ]
    }
   ],
   "source": [
    "FP_INPS=($(ls ${FD_INP}/OL*hg38*norm*Log2FC*mean*stranded_pos.bed.gz))\n",
    "basename -a ${FP_INPS[@]}"
   ]
  },
  {
   "cell_type": "markdown",
   "id": "376a0d4c-3010-492d-b73f-2d66fb869ce8",
   "metadata": {},
   "source": [
    "**Merge**"
   ]
  },
  {
   "cell_type": "code",
   "execution_count": 16,
   "id": "2e04b45f-41cb-4a9e-b570-49ee75478ada",
   "metadata": {},
   "outputs": [],
   "source": [
    "FD_INP=${FD_RES}/results/${ASSAY}/coverage/track_counts\n",
    "FD_OUT=${FD_RES}/results/${ASSAY}/coverage/track_counts\n",
    "\n",
    "FP_INP1=${FD_INP}/OL13_20220512.hg38.norm.Log2FC.mean.stranded_pos.bed.gz\n",
    "FP_INP2=${FD_INP}/OL43_20221003.hg38.norm.Log2FC.mean.stranded_pos.bed.gz\n",
    "FP_INP3=${FD_INP}/OL45_20220927.hg38.norm.Log2FC.mean.stranded_pos.bed.gz\n",
    "\n",
    "FP_OUT=${FD_OUT}/Merge.hg38.norm.Log2FC.mean.stranded_pos.bed.gz\n",
    "\n",
    "cat ${FP_INP1} ${FP_INP2} ${FP_INP3} \\\n",
    "| zcat \\\n",
    "| sort -k 1,1 -k2,2n \\\n",
    "| gzip -c \\\n",
    "> ${FP_OUT}"
   ]
  },
  {
   "cell_type": "code",
   "execution_count": 17,
   "id": "a684df2f-79a0-4f96-9bb4-91e61035694c",
   "metadata": {},
   "outputs": [
    {
     "name": "stdout",
     "output_type": "stream",
     "text": [
      "chr11\t4505501\t4505502\t0.45\n",
      "chr11\t4505502\t4505503\t0.45\n",
      "chr11\t4505503\t4505504\t0.45\n",
      "chr11\t4505504\t4505505\t0.45\n",
      "chr11\t4505505\t4505506\t0.45\n",
      "chr11\t4505506\t4505507\t0.45\n",
      "chr11\t4505507\t4505508\t0.45\n",
      "chr11\t4505508\t4505509\t0.45\n",
      "chr11\t4505509\t4505510\t0.45\n",
      "chr11\t4505510\t4505511\t0.45\n"
     ]
    }
   ],
   "source": [
    "zcat ${FP_OUT} | head"
   ]
  },
  {
   "cell_type": "markdown",
   "id": "2becffac-af94-4d89-add2-f7f524f3e75b",
   "metadata": {},
   "source": [
    "**bed2bw**"
   ]
  },
  {
   "cell_type": "code",
   "execution_count": 21,
   "id": "5c03d9d6-8c64-4af3-a36a-6f6c1104fba1",
   "metadata": {},
   "outputs": [
    {
     "name": "stdout",
     "output_type": "stream",
     "text": [
      "\u001b[0m\u001b[38;5;34m/data/common/shared_conda_envs/ucsc/bin/bedGraphToBigWig\u001b[0m\n"
     ]
    }
   ],
   "source": [
    "FD_UCSC=/data/common/shared_conda_envs/ucsc/bin\n",
    "ls ${FD_UCSC}/bedGraphToBigWig"
   ]
  },
  {
   "cell_type": "code",
   "execution_count": 24,
   "id": "398a5688-4e7c-431e-8aee-72ad28f0e15b",
   "metadata": {},
   "outputs": [
    {
     "name": "stdout",
     "output_type": "stream",
     "text": [
      "Merge.hg38.norm.Log2FC.mean.stranded_pos.bed.gz\n",
      "Merge.hg38.norm.Log2FC.mean.stranded_pos\n",
      "Merge.hg38.norm.Log2FC.mean.stranded_pos.bg\n",
      "Merge.hg38.norm.Log2FC.mean.stranded_pos.bw\n"
     ]
    }
   ],
   "source": [
    "FD_INP=${FD_RES}/results/${ASSAY}/coverage/track_counts\n",
    "FD_OUT=${FD_RES}/results/${ASSAY}/coverage/track_counts\n",
    "\n",
    "FN_INP=Merge.hg38.norm.Log2FC.mean.stranded_pos.bed.gz\n",
    "FP_INP=${FD_INP}/${FN_INP}\n",
    "PREFIX=${FN_INP%.bed.gz}\n",
    "echo ${FN_INP}\n",
    "echo ${PREFIX}\n",
    "\n",
    "### bed2bedgraph\n",
    "FN_OUT_BG=${PREFIX}.bg\n",
    "FP_OUT_BG=${FD_OUT}/${FN_OUT_BG}\n",
    "echo ${FN_OUT_BG}\n",
    "\n",
    "### bedgraph2bigwig\n",
    "FN_OUT_BW=${PREFIX}.bw\n",
    "FP_OUT_BW=${FD_OUT}/${FN_OUT_BW}\n",
    "echo ${FN_OUT}"
   ]
  },
  {
   "cell_type": "code",
   "execution_count": 25,
   "id": "50c182ae-bb55-48b4-bee0-21cc7485bc80",
   "metadata": {},
   "outputs": [
    {
     "name": "stdout",
     "output_type": "stream",
     "text": [
      "Merge.hg38.norm.Log2FC.mean.stranded_pos.bed.gz\n",
      "Merge.hg38.norm.Log2FC.mean.stranded_pos\n",
      "Merge.hg38.norm.Log2FC.mean.stranded_pos.bg\n",
      "Merge.hg38.norm.Log2FC.mean.stranded_pos.bw\n"
     ]
    }
   ],
   "source": [
    "FD_INP=${FD_RES}/results/${ASSAY}/coverage/track_counts\n",
    "FD_OUT=${FD_RES}/results/${ASSAY}/coverage/track_counts\n",
    "\n",
    "FN_INP=Merge.hg38.norm.Log2FC.mean.stranded_pos.bed.gz\n",
    "FP_INP=${FD_INP}/${FN_INP}\n",
    "PREFIX=${FN_INP%.bed.gz}\n",
    "echo ${FN_INP}\n",
    "echo ${PREFIX}\n",
    "\n",
    "### bed2bedgraph\n",
    "FN_OUT_BG=${PREFIX}.bg\n",
    "FP_OUT_BG=${FD_OUT}/${FN_OUT_BG}\n",
    "echo ${FN_OUT_BG}\n",
    "\n",
    "zcat ${FP_INP} > ${FP_OUT_BG}\n",
    "\n",
    "### bedgraph2bigwig\n",
    "FN_OUT_BW=${PREFIX}.bw\n",
    "FP_OUT_BW=${FD_OUT}/${FN_OUT_BW}\n",
    "echo ${FN_OUT}\n",
    "\n",
    "FP_CHR=${FD_RES}/source/chrom.sizes.hg38\n",
    "${FD_UCSC}/bedGraphToBigWig ${FP_OUT_BG} ${FP_CHR} ${FP_OUT_BW}"
   ]
  },
  {
   "cell_type": "code",
   "execution_count": null,
   "id": "9ada1720-048e-4ea5-8bf0-40acf45d2b4e",
   "metadata": {},
   "outputs": [],
   "source": []
  }
 ],
 "metadata": {
  "kernelspec": {
   "display_name": "Bash",
   "language": "bash",
   "name": "bash"
  },
  "language_info": {
   "codemirror_mode": "shell",
   "file_extension": ".sh",
   "mimetype": "text/x-sh",
   "name": "bash"
  }
 },
 "nbformat": 4,
 "nbformat_minor": 5
}
