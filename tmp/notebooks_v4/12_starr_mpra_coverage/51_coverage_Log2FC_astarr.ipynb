{
 "cells": [
  {
   "cell_type": "markdown",
   "id": "08e022c5",
   "metadata": {},
   "source": [
    "**Set environment**"
   ]
  },
  {
   "cell_type": "code",
   "execution_count": 1,
   "id": "3cc40eba",
   "metadata": {},
   "outputs": [
    {
     "name": "stdout",
     "output_type": "stream",
     "text": [
      "You are on Duke Server: HARDAC\n",
      "BASE DIRECTORY (FD_BASE): /data/reddylab/Kuei\n",
      "WORK DIRECTORY (FD_WORK): /data/reddylab/Kuei/out\n",
      "CODE DIRECTORY (FD_CODE): /data/reddylab/Kuei/code\n",
      "SING DIRECTORY (FD_SING): /data/reddylab/Kuei/singularity\n",
      "PATH OF PROJECT (FD_PRJ): /data/reddylab/Kuei/code/Proj_CombEffect_ENCODE_FCC\n",
      "PATH OF RESULTS (FD_RES): /data/reddylab/Kuei/out/proj_combeffect_encode_fcc\n",
      "PATH OF LOG     (FD_LOG): /data/reddylab/Kuei/out/proj_combeffect_encode_fcc/log\n",
      "\n"
     ]
    }
   ],
   "source": [
    "source ../config/config_duke.sh\n",
    "source ../config/config_load_module_bedtools.sh\n",
    "show_env"
   ]
  },
  {
   "cell_type": "markdown",
   "id": "e5d48924",
   "metadata": {},
   "source": [
    "**Check data**"
   ]
  },
  {
   "cell_type": "code",
   "execution_count": 2,
   "id": "2d1652fe",
   "metadata": {},
   "outputs": [
    {
     "name": "stdout",
     "output_type": "stream",
     "text": [
      "\u001b[0m\u001b[38;5;9mKS91_K562_ASTARRseq.Input.mean.SUBSET.unstranded.bed.gz\u001b[0m\n",
      "\u001b[38;5;9mKS91_K562_ASTARRseq.Input.rep1.SUBSET.unstranded.bed.gz\u001b[0m\n",
      "\u001b[38;5;9mKS91_K562_ASTARRseq.Input.rep2.SUBSET.unstranded.bed.gz\u001b[0m\n",
      "\u001b[38;5;9mKS91_K562_ASTARRseq.Input.rep3.SUBSET.unstranded.bed.gz\u001b[0m\n",
      "\u001b[38;5;9mKS91_K562_ASTARRseq.Input.rep4.SUBSET.unstranded.bed.gz\u001b[0m\n",
      "\u001b[38;5;9mKS91_K562_ASTARRseq.Input.rep5.SUBSET.unstranded.bed.gz\u001b[0m\n",
      "\u001b[38;5;9mKS91_K562_ASTARRseq.Input.rep6.SUBSET.unstranded.bed.gz\u001b[0m\n",
      "\u001b[38;5;9mKS91_K562_ASTARRseq.Output.mean.SUBSET.unstranded.bed.gz\u001b[0m\n",
      "\u001b[38;5;9mKS91_K562_ASTARRseq.Output.rep1.SUBSET.unstranded.bed.gz\u001b[0m\n",
      "\u001b[38;5;9mKS91_K562_ASTARRseq.Output.rep2.SUBSET.unstranded.bed.gz\u001b[0m\n",
      "\u001b[38;5;9mKS91_K562_ASTARRseq.Output.rep3.SUBSET.unstranded.bed.gz\u001b[0m\n",
      "\u001b[38;5;9mKS91_K562_ASTARRseq.Output.rep4.SUBSET.unstranded.bed.gz\u001b[0m\n",
      "\u001b[38;5;9mKS91_K562_ASTARRseq.pLog2FC.mean.SUBSET.unstranded.bed.gz\u001b[0m\n"
     ]
    }
   ],
   "source": [
    "ASSAY=KS91_K562_ASTARRseq\n",
    "ls ${FD_RES}/results/${ASSAY}/coverage/track_normalized"
   ]
  },
  {
   "cell_type": "code",
   "execution_count": 3,
   "id": "e1419bd5",
   "metadata": {},
   "outputs": [
    {
     "name": "stdout",
     "output_type": "stream",
     "text": [
      "KS91_K562_ASTARRseq.Input.mean.SUBSET.unstranded.bed.gz\n",
      "\n",
      "KS91_K562_ASTARRseq.Output.mean.SUBSET.unstranded.bed.gz\n",
      "\n",
      "KS91_K562_ASTARRseq.pLog2FC.mean.SUBSET.unstranded.bed.gz\n"
     ]
    }
   ],
   "source": [
    "FD_INP=${FD_RES}/results/${ASSAY}/coverage/track_normalized\n",
    "FP_INP1=$(ls ${FD_INP}/*Input*mean*SUBSET*bed.gz)\n",
    "FP_INP2=$(ls ${FD_INP}/*Output*mean*SUBSET*bed.gz)\n",
    "FN_INP1=$(basename ${FP_INP1})\n",
    "FN_INP2=$(basename ${FP_INP2})\n",
    "FD_OUT=${FD_RES}/results/${ASSAY}/coverage/track_normalized\n",
    "FN_OUT=${FN_INP1/Input/pLog2FC}\n",
    "FP_OUT=${FD_OUT}/${FN_OUT}\n",
    "\n",
    "echo ${FN_INP1}\n",
    "echo \n",
    "echo ${FN_INP2}\n",
    "echo\n",
    "echo ${FN_OUT}"
   ]
  },
  {
   "cell_type": "markdown",
   "id": "4602841d",
   "metadata": {},
   "source": [
    "## RUN"
   ]
  },
  {
   "cell_type": "code",
   "execution_count": 4,
   "id": "2e750f30",
   "metadata": {},
   "outputs": [
    {
     "name": "stdout",
     "output_type": "stream",
     "text": [
      "Submitted batch job 29574733\n"
     ]
    }
   ],
   "source": [
    "sbatch -p ${NODE} \\\n",
    "    --exclude=dl-01 \\\n",
    "    --cpus-per-task 8 \\\n",
    "    --mem 20G \\\n",
    "    --output ${FD_LOG}/coverage_perbase_pLog2FC_subset_ASTARR.%a.txt \\\n",
    "    --array 0 \\\n",
    "    <<'EOF'\n",
    "#!/bin/bash\n",
    "### set directories & global variables\n",
    "source ../config/config_duke.sh\n",
    "ASSAY=KS91_K562_ASTARRseq\n",
    "SAMPLE_GROUPS=(\"Input\" \"Output\")\n",
    "\n",
    "### print start message\n",
    "timer_start=`date +%s`\n",
    "echo \"Hostname:          \" $(hostname)\n",
    "echo \"Slurm Array Index: \" ${SLURM_ARRAY_TASK_ID}\n",
    "echo \"Time Stamp:        \" $(date +\"%m-%d-%y+%T\")\n",
    "echo\n",
    "\n",
    "### set input and output files\n",
    "FD_INP=${FD_RES}/results/${ASSAY}/coverage/track_normalized\n",
    "FP_INP1=$(ls ${FD_INP}/*Input*mean*SUBSET*bed.gz)\n",
    "FP_INP2=$(ls ${FD_INP}/*Output*mean*SUBSET*bed.gz)\n",
    "FN_INP1=$(basename ${FP_INP1})\n",
    "FN_INP2=$(basename ${FP_INP2})\n",
    "\n",
    "FD_OUT=${FD_RES}/results/${ASSAY}/coverage/track_normalized\n",
    "FN_OUT=${FN_INP1/Input/pLog2FC}\n",
    "FP_OUT=${FD_OUT}/${FN_OUT}\n",
    "\n",
    "### show I/O file\n",
    "echo ++++++++++++++++++++++++++++++++++++++\n",
    "echo \"Input file: \" ${FP_INP1}\n",
    "echo\n",
    "echo \"show first few lines of file\"\n",
    "zcat ${FP_INP1} | head -5\n",
    "echo\n",
    "echo ++++++++++++++++++++++++++++++++++++++\n",
    "echo \"Input file: \" ${FP_INP2}\n",
    "echo\n",
    "echo \"show first few lines of file\"\n",
    "zcat ${FP_INP2} | head -5\n",
    "echo\n",
    "\n",
    "### execute\n",
    "bedtools unionbedg -i ${FP_INP1} ${FP_INP2} \\\n",
    "| awk '{\n",
    "    plog2fc = log($5 + 1)/log(2) - log($4 + 1)/log(2);\n",
    "    print $1 \"\\t\" $2 \"\\t\" $3 \"\\t\" $4 \"\\t\" $5 \"\\t\" plog2fc; \n",
    "  }' \\\n",
    "| gzip -c \\\n",
    "> ${FP_OUT}\n",
    "  \n",
    "### show I/O file\n",
    "echo ++++++++++++++++++++++++++++++++++++++\n",
    "echo \"Output file: \" ${FP_OUT}\n",
    "echo\n",
    "echo \"show first few lines of file\"\n",
    "zcat ${FP_OUT} | head -5\n",
    "echo\n",
    "\n",
    "### print end message\n",
    "timer=`date +%s`\n",
    "runtime=$(echo \"${timer} - ${timer_start}\" | bc -l)\n",
    "echo\n",
    "echo 'Done!'\n",
    "echo \"Run Time: $(displaytime ${runtime})\"\n",
    "EOF"
   ]
  },
  {
   "cell_type": "markdown",
   "id": "a118f098",
   "metadata": {},
   "source": [
    "## Check"
   ]
  },
  {
   "cell_type": "code",
   "execution_count": 6,
   "id": "c1fd76d8",
   "metadata": {},
   "outputs": [
    {
     "name": "stdout",
     "output_type": "stream",
     "text": [
      "Hostname:           x2-08-4.genome.duke.edu\n",
      "Slurm Array Index:  0\n",
      "Time Stamp:         03-15-23+15:03:55\n",
      "\n",
      "++++++++++++++++++++++++++++++++++++++\n",
      "Input file:  /data/reddylab/Kuei/out/proj_combeffect_encode_fcc/results/KS91_K562_ASTARRseq/coverage/track_normalized/KS91_K562_ASTARRseq.Input.mean.SUBSET.unstranded.bed.gz\n",
      "\n",
      "show first few lines of file\n",
      "chr11\t4000000\t4000001\t0.128361\n",
      "chr11\t4000001\t4000002\t0.124456\n",
      "chr11\t4000002\t4000003\t0.124456\n",
      "chr11\t4000003\t4000004\t0.124456\n",
      "chr11\t4000004\t4000005\t0.124456\n",
      "\n",
      "++++++++++++++++++++++++++++++++++++++\n",
      "Input file:  /data/reddylab/Kuei/out/proj_combeffect_encode_fcc/results/KS91_K562_ASTARRseq/coverage/track_normalized/KS91_K562_ASTARRseq.Output.mean.SUBSET.unstranded.bed.gz\n",
      "\n",
      "show first few lines of file\n",
      "chr11\t4000000\t4000001\t0.217619\n",
      "chr11\t4000001\t4000002\t0.217619\n",
      "chr11\t4000002\t4000003\t0.217619\n",
      "chr11\t4000003\t4000004\t0.217619\n",
      "chr11\t4000004\t4000005\t0.217619\n",
      "\n",
      "++++++++++++++++++++++++++++++++++++++\n",
      "Output file:  /data/reddylab/Kuei/out/proj_combeffect_encode_fcc/results/KS91_K562_ASTARRseq/coverage/track_normalized/KS91_K562_ASTARRseq.pLog2FC.mean.SUBSET.unstranded.bed.gz\n",
      "\n",
      "show first few lines of file\n",
      "chr11\t4000000\t4000001\t0.128361\t0.217619\t0.109834\n",
      "chr11\t4000001\t4000002\t0.124456\t0.217619\t0.114836\n",
      "chr11\t4000002\t4000003\t0.124456\t0.217619\t0.114836\n",
      "chr11\t4000003\t4000004\t0.124456\t0.217619\t0.114836\n",
      "chr11\t4000004\t4000005\t0.124456\t0.217619\t0.114836\n",
      "\n",
      "\n",
      "Done!\n",
      "Run Time: 10 minutes and 30 seconds\n"
     ]
    }
   ],
   "source": [
    "cat ${FD_LOG}/coverage_perbase_pLog2FC_subset_ASTARR.0.txt"
   ]
  },
  {
   "cell_type": "code",
   "execution_count": null,
   "id": "f62d27f4",
   "metadata": {},
   "outputs": [],
   "source": []
  }
 ],
 "metadata": {
  "kernelspec": {
   "display_name": "Bash",
   "language": "bash",
   "name": "bash"
  },
  "language_info": {
   "codemirror_mode": "shell",
   "file_extension": ".sh",
   "mimetype": "text/x-sh",
   "name": "bash"
  }
 },
 "nbformat": 4,
 "nbformat_minor": 5
}
