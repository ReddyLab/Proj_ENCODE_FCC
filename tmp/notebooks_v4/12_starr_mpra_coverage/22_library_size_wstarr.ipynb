{
 "cells": [
  {
   "cell_type": "markdown",
   "id": "0234a325-f1b6-4b5c-b371-e887fb4fe6b4",
   "metadata": {},
   "source": [
    "**Set environment**"
   ]
  },
  {
   "cell_type": "code",
   "execution_count": 1,
   "id": "475858b2-5592-440a-a393-cfd153d97399",
   "metadata": {},
   "outputs": [
    {
     "name": "stdout",
     "output_type": "stream",
     "text": [
      "You are on Duke Server: HARDAC\n",
      "BASE DIRECTORY (FD_BASE): /data/reddylab/Kuei\n",
      "WORK DIRECTORY (FD_WORK): /data/reddylab/Kuei/out\n",
      "CODE DIRECTORY (FD_CODE): /data/reddylab/Kuei/code\n",
      "SING DIRECTORY (FD_SING): /data/reddylab/Kuei/singularity\n",
      "PATH OF PROJECT (FD_PRJ): /data/reddylab/Kuei/code/Proj_CombEffect_ENCODE_FCC\n",
      "PATH OF RESULTS (FD_RES): /data/reddylab/Kuei/out/proj_combeffect_encode_fcc\n",
      "PATH OF LOG     (FD_LOG): /data/reddylab/Kuei/out/proj_combeffect_encode_fcc/log\n",
      "\n"
     ]
    }
   ],
   "source": [
    "source ../config/config_duke.sh\n",
    "show_env"
   ]
  },
  {
   "cell_type": "markdown",
   "id": "e6fc1de3-eaf6-4fa0-bd61-79a83cfdbb25",
   "metadata": {},
   "source": [
    "**Check data**"
   ]
  },
  {
   "cell_type": "code",
   "execution_count": 2,
   "id": "6cc684f9-3452-403e-9a9f-254ec2ab595e",
   "metadata": {},
   "outputs": [
    {
     "name": "stdout",
     "output_type": "stream",
     "text": [
      "Total: 7\n",
      "A001_K562_WSTARRseq.Input.rep1.WGS.unstranded.bed.gz\n",
      "A001_K562_WSTARRseq.Input.rep2.WGS.unstranded.bed.gz\n",
      "A001_K562_WSTARRseq.Input.rep3.WGS.unstranded.bed.gz\n",
      "A001_K562_WSTARRseq.Input.rep4.WGS.unstranded.bed.gz\n",
      "A001_K562_WSTARRseq.Output.rep1.WGS.unstranded.bed.gz\n",
      "A001_K562_WSTARRseq.Output.rep2.WGS.unstranded.bed.gz\n",
      "A001_K562_WSTARRseq.Output.rep3.WGS.unstranded.bed.gz\n"
     ]
    }
   ],
   "source": [
    "ASSAY=A001_K562_WSTARRseq\n",
    "FD_INP=${FD_RES}/results/${ASSAY}/fragment_count\n",
    "FP_INPS=($(ls ${FD_INP}/*WGS*bed.gz))\n",
    "\n",
    "echo Total: ${#FP_INPS[@]}\n",
    "for FP_INP in ${FP_INPS[@]}; do\n",
    "    echo $(basename ${FP_INP})\n",
    "done"
   ]
  },
  {
   "cell_type": "markdown",
   "id": "fd0a4e72-cb52-49cc-8729-8213bd06902f",
   "metadata": {},
   "source": [
    "## RUN"
   ]
  },
  {
   "cell_type": "code",
   "execution_count": 3,
   "id": "e149fb7e-fa5f-4a1a-a66e-65d701564935",
   "metadata": {
    "tags": []
   },
   "outputs": [
    {
     "name": "stdout",
     "output_type": "stream",
     "text": [
      "Submitted batch job 29575241\n"
     ]
    }
   ],
   "source": [
    "sbatch -p ${NODE} \\\n",
    "    --exclude=dl-01 \\\n",
    "    --cpus-per-task 8 \\\n",
    "    --mem 8G \\\n",
    "    --output ${FD_LOG}/coverage_library_size_WSTARR.%a.txt \\\n",
    "    --array 0 \\\n",
    "    <<'EOF'\n",
    "#!/bin/bash\n",
    "### set directories & global variables\n",
    "source ../config/config_duke.sh\n",
    "ASSAY=A001_K562_WSTARRseq\n",
    "\n",
    "### print start message\n",
    "timer_start=`date +%s`\n",
    "echo \"Hostname:          \" $(hostname)\n",
    "echo \"Slurm Array Index: \" ${SLURM_ARRAY_TASK_ID}\n",
    "echo \"Time Stamp:        \" $(date +\"%m-%d-%y+%T\")\n",
    "echo\n",
    "\n",
    "### set input and output files\n",
    "FD_INP=${FD_RES}/results/${ASSAY}/fragment_count\n",
    "FP_INPS=($(ls ${FD_INP}/*WGS*bed.gz))\n",
    "\n",
    "FD_OUT=${FD_RES}/results/${ASSAY}/coverage/summary\n",
    "FN_OUT=library_size_count.csv\n",
    "FP_OUT=${FD_OUT}/${FN_OUT}\n",
    "\n",
    "### init\n",
    "mkdir -p   ${FD_OUT}\n",
    "echo  -n > ${FP_OUT}\n",
    "\n",
    "### get library size\n",
    "for FP_INP in ${FP_INPS[@]}; do\n",
    "    \n",
    "    ### show I/O file\n",
    "    echo ++++++++++++++++++++++++++++++++++++++\n",
    "    echo \"Input: \" ${FP_INP}\n",
    "    echo\n",
    "    echo \"show first few lines of file\"\n",
    "    zcat ${FP_INP} | head -n 3\n",
    "    echo\n",
    "    \n",
    "    ### count the total counts and append the results to the output file\n",
    "    FN_INP=$(basename ${FP_INP})\n",
    "    zcat ${FP_INP} |\\\n",
    "        awk -v OFS=, -v FNAME=${FN_INP} '{sum += $5} END {print FNAME, sum}' \\\n",
    "        >> ${FP_OUT}\n",
    "done\n",
    "\n",
    "### show I/O file\n",
    "echo \"Output file: ${FP_OUT}\"\n",
    "echo\n",
    "echo \"Show the lines\"\n",
    "cat ${FP_OUT}\n",
    "echo\n",
    "\n",
    "### print end message\n",
    "timer=`date +%s`\n",
    "runtime=$(echo \"${timer} - ${timer_start}\" | bc -l)\n",
    "echo\n",
    "echo 'Done!'\n",
    "echo \"Run Time: $(displaytime ${runtime})\"\n",
    "EOF"
   ]
  },
  {
   "cell_type": "markdown",
   "id": "9c4449b3-d68f-4273-aa4a-f451d2960cb6",
   "metadata": {},
   "source": [
    "## Check"
   ]
  },
  {
   "cell_type": "code",
   "execution_count": 8,
   "id": "b15a5cf1-2263-4926-a289-eb361b8b6ff3",
   "metadata": {},
   "outputs": [
    {
     "name": "stdout",
     "output_type": "stream",
     "text": [
      "Hostname:           x3-05-2.genome.duke.edu\n",
      "Slurm Array Index:  0\n",
      "Time Stamp:         03-12-23+14:07:31\n",
      "\n",
      "++++++++++++++++++++++++++++++++++++++\n",
      "Input:  /data/reddylab/Kuei/out/proj_combeffect_encode_fcc/results/A001_K562_WSTARRseq/fragment_count/A001_K562_WSTARRseq.Input.rep1.WGS.unstranded.bed.gz\n",
      "\n",
      "show first few lines of file\n",
      "chr1\t10335\t10549\tchr1_10335_10549\t1\t.\n",
      "chr1\t16983\t17500\tchr1_16983_17500\t1\t.\n",
      "chr1\t16985\t17499\tchr1_16985_17499\t1\t.\n",
      "\n",
      "++++++++++++++++++++++++++++++++++++++\n",
      "Input:  /data/reddylab/Kuei/out/proj_combeffect_encode_fcc/results/A001_K562_WSTARRseq/fragment_count/A001_K562_WSTARRseq.Input.rep2.WGS.unstranded.bed.gz\n",
      "\n",
      "show first few lines of file\n",
      "chr1\t10244\t10370\tchr1_10244_10370\t1\t.\n",
      "chr1\t14494\t14961\tchr1_14494_14961\t1\t.\n",
      "chr1\t15593\t16258\tchr1_15593_16258\t1\t.\n",
      "\n",
      "++++++++++++++++++++++++++++++++++++++\n",
      "Input:  /data/reddylab/Kuei/out/proj_combeffect_encode_fcc/results/A001_K562_WSTARRseq/fragment_count/A001_K562_WSTARRseq.Input.rep3.WGS.unstranded.bed.gz\n",
      "\n",
      "show first few lines of file\n",
      "chr1\t10247\t10299\tchr1_10247_10299\t1\t.\n",
      "chr1\t14684\t15184\tchr1_14684_15184\t1\t.\n",
      "chr1\t14690\t15158\tchr1_14690_15158\t1\t.\n",
      "\n",
      "++++++++++++++++++++++++++++++++++++++\n",
      "Input:  /data/reddylab/Kuei/out/proj_combeffect_encode_fcc/results/A001_K562_WSTARRseq/fragment_count/A001_K562_WSTARRseq.Input.rep4.WGS.unstranded.bed.gz\n",
      "\n",
      "show first few lines of file\n",
      "chr1\t10086\t10542\tchr1_10086_10542\t1\t.\n",
      "chr1\t14845\t15207\tchr1_14845_15207\t1\t.\n",
      "chr1\t15520\t15834\tchr1_15520_15834\t1\t.\n",
      "\n",
      "++++++++++++++++++++++++++++++++++++++\n",
      "Input:  /data/reddylab/Kuei/out/proj_combeffect_encode_fcc/results/A001_K562_WSTARRseq/fragment_count/A001_K562_WSTARRseq.Output.rep1.WGS.unstranded.bed.gz\n",
      "\n",
      "show first few lines of file\n",
      "chr1\t14845\t15207\tchr1_14845_15207\t1\t.\n",
      "chr1\t15512\t16248\tchr1_15512_16248\t1\t.\n",
      "chr1\t15652\t16254\tchr1_15652_16254\t1\t.\n",
      "\n",
      "++++++++++++++++++++++++++++++++++++++\n",
      "Input:  /data/reddylab/Kuei/out/proj_combeffect_encode_fcc/results/A001_K562_WSTARRseq/fragment_count/A001_K562_WSTARRseq.Output.rep2.WGS.unstranded.bed.gz\n",
      "\n",
      "show first few lines of file\n",
      "chr1\t14510\t14960\tchr1_14510_14960\t1\t.\n",
      "chr1\t14684\t15162\tchr1_14684_15162\t1\t.\n",
      "chr1\t14688\t15199\tchr1_14688_15199\t1\t.\n",
      "\n",
      "++++++++++++++++++++++++++++++++++++++\n",
      "Input:  /data/reddylab/Kuei/out/proj_combeffect_encode_fcc/results/A001_K562_WSTARRseq/fragment_count/A001_K562_WSTARRseq.Output.rep3.WGS.unstranded.bed.gz\n",
      "\n",
      "show first few lines of file\n",
      "chr1\t10537\t11067\tchr1_10537_11067\t1\t.\n",
      "chr1\t14408\t14799\tchr1_14408_14799\t1\t.\n",
      "chr1\t14498\t14937\tchr1_14498_14937\t1\t.\n",
      "\n",
      "\n",
      "gzip: /data/reddylab/Kuei/out/proj_combeffect_encode_fcc/results/A001_K562_WSTARRseq/fragment_count/A001_K562_WSTARRseq.Output.rep3.WGS.unstranded.bed.gz: unexpected end of file\n",
      "Output file: /data/reddylab/Kuei/out/proj_combeffect_encode_fcc/results/A001_K562_WSTARRseq/coverage/summary/library_size_count.csv\n",
      "\n",
      "Show the lines\n",
      "A001_K562_WSTARRseq.Input.rep1.WGS.unstranded.bed.gz,26908970\n",
      "A001_K562_WSTARRseq.Input.rep2.WGS.unstranded.bed.gz,99899775\n",
      "A001_K562_WSTARRseq.Input.rep3.WGS.unstranded.bed.gz,105623984\n",
      "A001_K562_WSTARRseq.Input.rep4.WGS.unstranded.bed.gz,108635002\n",
      "A001_K562_WSTARRseq.Output.rep1.WGS.unstranded.bed.gz,160349140\n",
      "A001_K562_WSTARRseq.Output.rep2.WGS.unstranded.bed.gz,157326312\n",
      "A001_K562_WSTARRseq.Output.rep3.WGS.unstranded.bed.gz,38522888\n",
      "\n",
      "\n",
      "Done!\n",
      "Run Time: 4 minutes and 0 seconds\n"
     ]
    }
   ],
   "source": [
    "cat ${FD_LOG}/coverage_library_size_WSTARR.0.txt"
   ]
  },
  {
   "cell_type": "code",
   "execution_count": null,
   "id": "5b2d8a06-b1da-41be-9081-e3ef556a763d",
   "metadata": {},
   "outputs": [],
   "source": []
  }
 ],
 "metadata": {
  "kernelspec": {
   "display_name": "Bash",
   "language": "bash",
   "name": "bash"
  },
  "language_info": {
   "codemirror_mode": "shell",
   "file_extension": ".sh",
   "mimetype": "text/x-sh",
   "name": "bash"
  }
 },
 "nbformat": 4,
 "nbformat_minor": 5
}
