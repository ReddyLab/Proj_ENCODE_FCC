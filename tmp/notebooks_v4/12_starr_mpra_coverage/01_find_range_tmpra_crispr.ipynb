{
 "cells": [
  {
   "cell_type": "markdown",
   "metadata": {},
   "source": [
    "**Set environment**"
   ]
  },
  {
   "cell_type": "code",
   "execution_count": 1,
   "metadata": {},
   "outputs": [],
   "source": [
    "suppressWarnings(suppressMessages(source(\"../config/config_sing.R\")))\n",
    "suppressWarnings(suppressMessages(library(\"GenomicRanges\")))"
   ]
  },
  {
   "cell_type": "code",
   "execution_count": 2,
   "metadata": {},
   "outputs": [
    {
     "name": "stdout",
     "output_type": "stream",
     "text": [
      "[1] \"annotation_crispri_casa\"             \n",
      "[2] \"annotation_enhancer_junke\"           \n",
      "[3] \"annotation_gencode\"                  \n",
      "[4] \"KS91_K562_ASTARRseq_peak_macs_input\" \n",
      "[5] \"region_screened_crispri_flowfish.bed\"\n",
      "[6] \"region_screened_tmpra.bed\"           \n"
     ]
    }
   ],
   "source": [
    "fdiry = file.path(FD_RES, \"results\", \"region\")\n",
    "print(dir(fdiry))"
   ]
  },
  {
   "cell_type": "code",
   "execution_count": 3,
   "metadata": {},
   "outputs": [
    {
     "name": "stdout",
     "output_type": "stream",
     "text": [
      "[1] \"/data/reddylab/Kuei/out/proj_combeffect_encode_fcc/results/region/region_screened_tmpra.bed\"\n",
      "[1] 8 4\n"
     ]
    },
    {
     "data": {
      "text/html": [
       "<table class=\"dataframe\">\n",
       "<caption>A tibble: 6 × 4</caption>\n",
       "<thead>\n",
       "\t<tr><th scope=col>Chrom</th><th scope=col>Start</th><th scope=col>End</th><th scope=col>Gene</th></tr>\n",
       "\t<tr><th scope=col>&lt;chr&gt;</th><th scope=col>&lt;dbl&gt;</th><th scope=col>&lt;dbl&gt;</th><th scope=col>&lt;chr&gt;</th></tr>\n",
       "</thead>\n",
       "<tbody>\n",
       "\t<tr><td>chr11</td><td> 4505501</td><td> 6505900</td><td>HBE1  </td></tr>\n",
       "\t<tr><td>chr11</td><td>32869701</td><td>34870100</td><td>LMO2  </td></tr>\n",
       "\t<tr><td>chr11</td><td>61787329</td><td>61898348</td><td>FADS  </td></tr>\n",
       "\t<tr><td>chr16</td><td>   10001</td><td> 1173100</td><td>HBA2  </td></tr>\n",
       "\t<tr><td>chr2 </td><td>59553301</td><td>61553700</td><td>BCL11A</td></tr>\n",
       "\t<tr><td>chr20</td><td>56391301</td><td>58391700</td><td>RBM38 </td></tr>\n",
       "</tbody>\n",
       "</table>\n"
      ],
      "text/latex": [
       "A tibble: 6 × 4\n",
       "\\begin{tabular}{llll}\n",
       " Chrom & Start & End & Gene\\\\\n",
       " <chr> & <dbl> & <dbl> & <chr>\\\\\n",
       "\\hline\n",
       "\t chr11 &  4505501 &  6505900 & HBE1  \\\\\n",
       "\t chr11 & 32869701 & 34870100 & LMO2  \\\\\n",
       "\t chr11 & 61787329 & 61898348 & FADS  \\\\\n",
       "\t chr16 &    10001 &  1173100 & HBA2  \\\\\n",
       "\t chr2  & 59553301 & 61553700 & BCL11A\\\\\n",
       "\t chr20 & 56391301 & 58391700 & RBM38 \\\\\n",
       "\\end{tabular}\n"
      ],
      "text/markdown": [
       "\n",
       "A tibble: 6 × 4\n",
       "\n",
       "| Chrom &lt;chr&gt; | Start &lt;dbl&gt; | End &lt;dbl&gt; | Gene &lt;chr&gt; |\n",
       "|---|---|---|---|\n",
       "| chr11 |  4505501 |  6505900 | HBE1   |\n",
       "| chr11 | 32869701 | 34870100 | LMO2   |\n",
       "| chr11 | 61787329 | 61898348 | FADS   |\n",
       "| chr16 |    10001 |  1173100 | HBA2   |\n",
       "| chr2  | 59553301 | 61553700 | BCL11A |\n",
       "| chr20 | 56391301 | 58391700 | RBM38  |\n",
       "\n"
      ],
      "text/plain": [
       "  Chrom Start    End      Gene  \n",
       "1 chr11  4505501  6505900 HBE1  \n",
       "2 chr11 32869701 34870100 LMO2  \n",
       "3 chr11 61787329 61898348 FADS  \n",
       "4 chr16    10001  1173100 HBA2  \n",
       "5 chr2  59553301 61553700 BCL11A\n",
       "6 chr20 56391301 58391700 RBM38 "
      ]
     },
     "metadata": {},
     "output_type": "display_data"
    }
   ],
   "source": [
    "fdiry = file.path(FD_RES, \"results\", \"region\")\n",
    "fname = \"region_screened_tmpra.bed\"\n",
    "fpath = file.path(fdiry, fname)\n",
    "print(fpath)\n",
    "\n",
    "cnames = c(\"Chrom\", \"Start\", \"End\", \"Gene\")\n",
    "dat = read_tsv(fpath, col_names = cnames, show_col_types = FALSE)\n",
    "\n",
    "dat_range_tmpra = dat\n",
    "print(dim(dat))\n",
    "head(dat)"
   ]
  },
  {
   "cell_type": "code",
   "execution_count": 4,
   "metadata": {},
   "outputs": [
    {
     "name": "stdout",
     "output_type": "stream",
     "text": [
      "[1] \"/data/reddylab/Kuei/out/proj_combeffect_encode_fcc/results/region/region_screened_crispri_flowfish.bed\"\n",
      "[1] 13  4\n"
     ]
    },
    {
     "data": {
      "text/html": [
       "<table class=\"dataframe\">\n",
       "<caption>A tibble: 6 × 4</caption>\n",
       "<thead>\n",
       "\t<tr><th scope=col>Chrom</th><th scope=col>Start</th><th scope=col>End</th><th scope=col>Gene</th></tr>\n",
       "\t<tr><th scope=col>&lt;chr&gt;</th><th scope=col>&lt;dbl&gt;</th><th scope=col>&lt;dbl&gt;</th><th scope=col>&lt;chr&gt;</th></tr>\n",
       "</thead>\n",
       "<tbody>\n",
       "\t<tr><td>chr11</td><td>  4091884</td><td>  6419310</td><td>HBE1,HBG1,HBG2,HBS1L,MYB</td></tr>\n",
       "\t<tr><td>chr11</td><td> 33064196</td><td> 34664117</td><td>CAPRIN1,CAT,LMO2        </td></tr>\n",
       "\t<tr><td>chr11</td><td> 61788524</td><td> 61897153</td><td>FADS1,FADS2,FADS3,FEN1  </td></tr>\n",
       "\t<tr><td>chr12</td><td> 54300766</td><td> 54301042</td><td>GATA1,HDAC6             </td></tr>\n",
       "\t<tr><td>chr12</td><td>110726151</td><td>112325737</td><td>ERP29                   </td></tr>\n",
       "\t<tr><td>chr19</td><td> 12887110</td><td> 12887237</td><td>GATA1,HDAC6             </td></tr>\n",
       "</tbody>\n",
       "</table>\n"
      ],
      "text/latex": [
       "A tibble: 6 × 4\n",
       "\\begin{tabular}{llll}\n",
       " Chrom & Start & End & Gene\\\\\n",
       " <chr> & <dbl> & <dbl> & <chr>\\\\\n",
       "\\hline\n",
       "\t chr11 &   4091884 &   6419310 & HBE1,HBG1,HBG2,HBS1L,MYB\\\\\n",
       "\t chr11 &  33064196 &  34664117 & CAPRIN1,CAT,LMO2        \\\\\n",
       "\t chr11 &  61788524 &  61897153 & FADS1,FADS2,FADS3,FEN1  \\\\\n",
       "\t chr12 &  54300766 &  54301042 & GATA1,HDAC6             \\\\\n",
       "\t chr12 & 110726151 & 112325737 & ERP29                   \\\\\n",
       "\t chr19 &  12887110 &  12887237 & GATA1,HDAC6             \\\\\n",
       "\\end{tabular}\n"
      ],
      "text/markdown": [
       "\n",
       "A tibble: 6 × 4\n",
       "\n",
       "| Chrom &lt;chr&gt; | Start &lt;dbl&gt; | End &lt;dbl&gt; | Gene &lt;chr&gt; |\n",
       "|---|---|---|---|\n",
       "| chr11 |   4091884 |   6419310 | HBE1,HBG1,HBG2,HBS1L,MYB |\n",
       "| chr11 |  33064196 |  34664117 | CAPRIN1,CAT,LMO2         |\n",
       "| chr11 |  61788524 |  61897153 | FADS1,FADS2,FADS3,FEN1   |\n",
       "| chr12 |  54300766 |  54301042 | GATA1,HDAC6              |\n",
       "| chr12 | 110726151 | 112325737 | ERP29                    |\n",
       "| chr19 |  12887110 |  12887237 | GATA1,HDAC6              |\n",
       "\n"
      ],
      "text/plain": [
       "  Chrom Start     End       Gene                    \n",
       "1 chr11   4091884   6419310 HBE1,HBG1,HBG2,HBS1L,MYB\n",
       "2 chr11  33064196  34664117 CAPRIN1,CAT,LMO2        \n",
       "3 chr11  61788524  61897153 FADS1,FADS2,FADS3,FEN1  \n",
       "4 chr12  54300766  54301042 GATA1,HDAC6             \n",
       "5 chr12 110726151 112325737 ERP29                   \n",
       "6 chr19  12887110  12887237 GATA1,HDAC6             "
      ]
     },
     "metadata": {},
     "output_type": "display_data"
    }
   ],
   "source": [
    "fdiry = file.path(FD_RES, \"results\", \"region\")\n",
    "fname = \"region_screened_crispri_flowfish.bed\"\n",
    "fpath = file.path(fdiry, fname)\n",
    "print(fpath)\n",
    "\n",
    "cnames = c(\"Chrom\", \"Start\", \"End\", \"Gene\")\n",
    "dat = read_tsv(fpath, col_names = cnames, show_col_types = FALSE)\n",
    "\n",
    "dat_range_crispr = dat\n",
    "print(dim(dat))\n",
    "head(dat)"
   ]
  },
  {
   "cell_type": "code",
   "execution_count": 5,
   "metadata": {},
   "outputs": [
    {
     "data": {
      "text/plain": [
       "GRanges object with 8 ranges and 0 metadata columns:\n",
       "      seqnames              ranges strand\n",
       "         <Rle>           <IRanges>  <Rle>\n",
       "  [1]    chr11     4505501-6505900      *\n",
       "  [2]    chr11   32869701-34870100      *\n",
       "  [3]    chr11   61787329-61898348      *\n",
       "  [4]    chr16       10001-1173100      *\n",
       "  [5]     chr2   59553301-61553700      *\n",
       "  [6]    chr20   56391301-58391700      *\n",
       "  [7]     chr8 126735901-128736550      *\n",
       "  [8]     chrX   47785501-49880650      *\n",
       "  -------\n",
       "  seqinfo: 6 sequences from an unspecified genome; no seqlengths"
      ]
     },
     "metadata": {},
     "output_type": "display_data"
    }
   ],
   "source": [
    "dat = dat_range_tmpra\n",
    "grg = GRanges(\n",
    "    seqnames = dat$Chrom,\n",
    "    ranges   = IRanges(\n",
    "        start = dat$Start, \n",
    "        end   = dat$End\n",
    "    )\n",
    ")\n",
    "\n",
    "grg_range_tmpra = grg\n",
    "grg"
   ]
  },
  {
   "cell_type": "code",
   "execution_count": 6,
   "metadata": {},
   "outputs": [
    {
     "data": {
      "text/plain": [
       "GRanges object with 13 ranges and 0 metadata columns:\n",
       "       seqnames              ranges strand\n",
       "          <Rle>           <IRanges>  <Rle>\n",
       "   [1]    chr11     4091884-6419310      *\n",
       "   [2]    chr11   33064196-34664117      *\n",
       "   [3]    chr11   61788524-61897153      *\n",
       "   [4]    chr12   54300766-54301042      *\n",
       "   [5]    chr12 110726151-112325737      *\n",
       "   ...      ...                 ...    ...\n",
       "   [9]     chr5   87611207-89911163      *\n",
       "  [10]     chr6 108840570-109828800      *\n",
       "  [11]     chr6 134253831-136927585      *\n",
       "  [12]     chr8 126736094-128735225      *\n",
       "  [13]     chrX   48397930-49656988      *\n",
       "  -------\n",
       "  seqinfo: 9 sequences from an unspecified genome; no seqlengths"
      ]
     },
     "metadata": {},
     "output_type": "display_data"
    }
   ],
   "source": [
    "dat = dat_range_crispr\n",
    "grg = GRanges(\n",
    "    seqnames = dat$Chrom,\n",
    "    ranges   = IRanges(\n",
    "        start = dat$Start, \n",
    "        end   = dat$End\n",
    "    )\n",
    ")\n",
    "\n",
    "grg_range_crispr = grg\n",
    "grg"
   ]
  },
  {
   "cell_type": "code",
   "execution_count": 15,
   "metadata": {},
   "outputs": [
    {
     "name": "stderr",
     "output_type": "stream",
     "text": [
      "Warning message in .merge_two_Seqinfo_objects(x, y):\n",
      "“Each of the 2 combined objects has sequence levels not in the other:\n",
      "  - in 'x': chr16, chr2, chr20\n",
      "  - in 'y': chr12, chr19, chr3, chr4, chr5, chr6\n",
      "  Make sure to always combine/compare objects based on the same reference\n",
      "  genome (use suppressWarnings() to suppress this warning).”\n"
     ]
    },
    {
     "data": {
      "text/html": [
       "<table class=\"dataframe\">\n",
       "<caption>A data.frame: 16 × 4</caption>\n",
       "<thead>\n",
       "\t<tr><th scope=col>Chrom</th><th scope=col>Start</th><th scope=col>End</th><th scope=col>Name</th></tr>\n",
       "\t<tr><th scope=col>&lt;chr&gt;</th><th scope=col>&lt;int&gt;</th><th scope=col>&lt;int&gt;</th><th scope=col>&lt;chr&gt;</th></tr>\n",
       "</thead>\n",
       "<tbody>\n",
       "\t<tr><td>chr11</td><td>  4091884</td><td>  6505900</td><td>chr11:4091884-6505900    </td></tr>\n",
       "\t<tr><td>chr11</td><td> 32869701</td><td> 34870100</td><td>chr11:32869701-34870100  </td></tr>\n",
       "\t<tr><td>chr11</td><td> 61787329</td><td> 61898348</td><td>chr11:61787329-61898348  </td></tr>\n",
       "\t<tr><td>chr12</td><td> 54300766</td><td> 54301042</td><td>chr12:54300766-54301042  </td></tr>\n",
       "\t<tr><td>chr12</td><td>110726151</td><td>112325737</td><td>chr12:110726151-112325737</td></tr>\n",
       "\t<tr><td>chr16</td><td>    10001</td><td>  1173100</td><td>chr16:10001-1173100      </td></tr>\n",
       "\t<tr><td>chr19</td><td> 12887110</td><td> 12887237</td><td>chr19:12887110-12887237  </td></tr>\n",
       "\t<tr><td>chr2 </td><td> 59553301</td><td> 61553700</td><td>chr2:59553301-61553700   </td></tr>\n",
       "\t<tr><td>chr20</td><td> 56391301</td><td> 58391700</td><td>chr20:56391301-58391700  </td></tr>\n",
       "\t<tr><td>chr3 </td><td>128487571</td><td>128487937</td><td>chr3:128487571-128487937 </td></tr>\n",
       "\t<tr><td>chr4 </td><td> 55237590</td><td> 56068531</td><td>chr4:55237590-56068531   </td></tr>\n",
       "\t<tr><td>chr5 </td><td> 87611207</td><td> 89911163</td><td>chr5:87611207-89911163   </td></tr>\n",
       "\t<tr><td>chr6 </td><td>108840570</td><td>109828800</td><td>chr6:108840570-109828800 </td></tr>\n",
       "\t<tr><td>chr6 </td><td>134253831</td><td>136927585</td><td>chr6:134253831-136927585 </td></tr>\n",
       "\t<tr><td>chr8 </td><td>126735901</td><td>128736550</td><td>chr8:126735901-128736550 </td></tr>\n",
       "\t<tr><td>chrX </td><td> 47785501</td><td> 49880650</td><td>chrX:47785501-49880650   </td></tr>\n",
       "</tbody>\n",
       "</table>\n"
      ],
      "text/latex": [
       "A data.frame: 16 × 4\n",
       "\\begin{tabular}{llll}\n",
       " Chrom & Start & End & Name\\\\\n",
       " <chr> & <int> & <int> & <chr>\\\\\n",
       "\\hline\n",
       "\t chr11 &   4091884 &   6505900 & chr11:4091884-6505900    \\\\\n",
       "\t chr11 &  32869701 &  34870100 & chr11:32869701-34870100  \\\\\n",
       "\t chr11 &  61787329 &  61898348 & chr11:61787329-61898348  \\\\\n",
       "\t chr12 &  54300766 &  54301042 & chr12:54300766-54301042  \\\\\n",
       "\t chr12 & 110726151 & 112325737 & chr12:110726151-112325737\\\\\n",
       "\t chr16 &     10001 &   1173100 & chr16:10001-1173100      \\\\\n",
       "\t chr19 &  12887110 &  12887237 & chr19:12887110-12887237  \\\\\n",
       "\t chr2  &  59553301 &  61553700 & chr2:59553301-61553700   \\\\\n",
       "\t chr20 &  56391301 &  58391700 & chr20:56391301-58391700  \\\\\n",
       "\t chr3  & 128487571 & 128487937 & chr3:128487571-128487937 \\\\\n",
       "\t chr4  &  55237590 &  56068531 & chr4:55237590-56068531   \\\\\n",
       "\t chr5  &  87611207 &  89911163 & chr5:87611207-89911163   \\\\\n",
       "\t chr6  & 108840570 & 109828800 & chr6:108840570-109828800 \\\\\n",
       "\t chr6  & 134253831 & 136927585 & chr6:134253831-136927585 \\\\\n",
       "\t chr8  & 126735901 & 128736550 & chr8:126735901-128736550 \\\\\n",
       "\t chrX  &  47785501 &  49880650 & chrX:47785501-49880650   \\\\\n",
       "\\end{tabular}\n"
      ],
      "text/markdown": [
       "\n",
       "A data.frame: 16 × 4\n",
       "\n",
       "| Chrom &lt;chr&gt; | Start &lt;int&gt; | End &lt;int&gt; | Name &lt;chr&gt; |\n",
       "|---|---|---|---|\n",
       "| chr11 |   4091884 |   6505900 | chr11:4091884-6505900     |\n",
       "| chr11 |  32869701 |  34870100 | chr11:32869701-34870100   |\n",
       "| chr11 |  61787329 |  61898348 | chr11:61787329-61898348   |\n",
       "| chr12 |  54300766 |  54301042 | chr12:54300766-54301042   |\n",
       "| chr12 | 110726151 | 112325737 | chr12:110726151-112325737 |\n",
       "| chr16 |     10001 |   1173100 | chr16:10001-1173100       |\n",
       "| chr19 |  12887110 |  12887237 | chr19:12887110-12887237   |\n",
       "| chr2  |  59553301 |  61553700 | chr2:59553301-61553700    |\n",
       "| chr20 |  56391301 |  58391700 | chr20:56391301-58391700   |\n",
       "| chr3  | 128487571 | 128487937 | chr3:128487571-128487937  |\n",
       "| chr4  |  55237590 |  56068531 | chr4:55237590-56068531    |\n",
       "| chr5  |  87611207 |  89911163 | chr5:87611207-89911163    |\n",
       "| chr6  | 108840570 | 109828800 | chr6:108840570-109828800  |\n",
       "| chr6  | 134253831 | 136927585 | chr6:134253831-136927585  |\n",
       "| chr8  | 126735901 | 128736550 | chr8:126735901-128736550  |\n",
       "| chrX  |  47785501 |  49880650 | chrX:47785501-49880650    |\n",
       "\n"
      ],
      "text/plain": [
       "   Chrom Start     End       Name                     \n",
       "1  chr11   4091884   6505900 chr11:4091884-6505900    \n",
       "2  chr11  32869701  34870100 chr11:32869701-34870100  \n",
       "3  chr11  61787329  61898348 chr11:61787329-61898348  \n",
       "4  chr12  54300766  54301042 chr12:54300766-54301042  \n",
       "5  chr12 110726151 112325737 chr12:110726151-112325737\n",
       "6  chr16     10001   1173100 chr16:10001-1173100      \n",
       "7  chr19  12887110  12887237 chr19:12887110-12887237  \n",
       "8  chr2   59553301  61553700 chr2:59553301-61553700   \n",
       "9  chr20  56391301  58391700 chr20:56391301-58391700  \n",
       "10 chr3  128487571 128487937 chr3:128487571-128487937 \n",
       "11 chr4   55237590  56068531 chr4:55237590-56068531   \n",
       "12 chr5   87611207  89911163 chr5:87611207-89911163   \n",
       "13 chr6  108840570 109828800 chr6:108840570-109828800 \n",
       "14 chr6  134253831 136927585 chr6:134253831-136927585 \n",
       "15 chr8  126735901 128736550 chr8:126735901-128736550 \n",
       "16 chrX   47785501  49880650 chrX:47785501-49880650   "
      ]
     },
     "metadata": {},
     "output_type": "display_data"
    }
   ],
   "source": [
    "grg = c(grg_range_tmpra, grg_range_crispr)\n",
    "grg = reduce(grg)\n",
    "\n",
    "dat = data.frame(\n",
    "    Chrom = as.character(seqnames(grg)),\n",
    "    Start = start(grg),\n",
    "    End   = end(grg)\n",
    ")\n",
    "dat = dat %>% \n",
    "    dplyr::mutate(Name = paste0(Chrom, \":\", Start, \"-\", End)) %>%\n",
    "    dplyr::arrange(Chrom, Start, End)\n",
    "dat"
   ]
  },
  {
   "cell_type": "code",
   "execution_count": 16,
   "metadata": {},
   "outputs": [
    {
     "name": "stdout",
     "output_type": "stream",
     "text": [
      "[1] \"/data/reddylab/Kuei/out/proj_combeffect_encode_fcc/results/region/region_screened_tmpra_crispr.bed\"\n"
     ]
    }
   ],
   "source": [
    "fdiry = file.path(FD_RES, \"results\", \"region\")\n",
    "fname = \"region_screened_tmpra_crispr.bed\"\n",
    "fpath = file.path(fdiry, fname)\n",
    "print(fpath)\n",
    "\n",
    "write_tsv(dat, fpath, col_names = FALSE)"
   ]
  },
  {
   "cell_type": "code",
   "execution_count": 14,
   "metadata": {},
   "outputs": [
    {
     "data": {
      "text/html": [
       "-830941"
      ],
      "text/latex": [
       "-830941"
      ],
      "text/markdown": [
       "-830941"
      ],
      "text/plain": [
       "[1] -830941"
      ]
     },
     "metadata": {},
     "output_type": "display_data"
    }
   ],
   "source": [
    "55237590-56068531"
   ]
  },
  {
   "cell_type": "code",
   "execution_count": 8,
   "metadata": {},
   "outputs": [
    {
     "data": {
      "text/plain": [
       "GRanges object with 16 ranges and 0 metadata columns:\n",
       "       seqnames              ranges strand\n",
       "          <Rle>           <IRanges>  <Rle>\n",
       "   [1]    chr11     4091884-6505900      *\n",
       "   [2]    chr11   32869701-34870100      *\n",
       "   [3]    chr11   61787329-61898348      *\n",
       "   [4]    chr16       10001-1173100      *\n",
       "   [5]     chr2   59553301-61553700      *\n",
       "   ...      ...                 ...    ...\n",
       "  [12]     chr3 128487571-128487937      *\n",
       "  [13]     chr4   55237590-56068531      *\n",
       "  [14]     chr5   87611207-89911163      *\n",
       "  [15]     chr6 108840570-109828800      *\n",
       "  [16]     chr6 134253831-136927585      *\n",
       "  -------\n",
       "  seqinfo: 12 sequences from an unspecified genome; no seqlengths"
      ]
     },
     "metadata": {},
     "output_type": "display_data"
    }
   ],
   "source": [
    "reduce(grg)"
   ]
  },
  {
   "cell_type": "code",
   "execution_count": null,
   "metadata": {},
   "outputs": [],
   "source": [
    "grg = grg_range_merge\n",
    "dat = data.frame(\n",
    "    Chrom = as.character(seqnames(grg)),\n",
    "    Start = start(grg),\n",
    "    End   = end(grg),\n",
    "    Name  = grg$Name\n",
    ")\n",
    "dat = dat %>% dplyr::arrange(Chrom, Start, End)\n",
    "\n",
    "fdiry = file.path(FD_RES, \"results\", \"region\")\n",
    "fname = \"region_screened_tmpra.bed\"\n",
    "fpath = file.path(fdiry, fname)\n",
    "print(fpath)\n",
    "\n",
    "write_tsv(dat, fpath, col_names = FALSE)"
   ]
  }
 ],
 "metadata": {
  "kernelspec": {
   "display_name": "R",
   "language": "R",
   "name": "ir"
  },
  "language_info": {
   "codemirror_mode": "r",
   "file_extension": ".r",
   "mimetype": "text/x-r-source",
   "name": "R",
   "pygments_lexer": "r",
   "version": "4.3.0"
  }
 },
 "nbformat": 4,
 "nbformat_minor": 4
}
