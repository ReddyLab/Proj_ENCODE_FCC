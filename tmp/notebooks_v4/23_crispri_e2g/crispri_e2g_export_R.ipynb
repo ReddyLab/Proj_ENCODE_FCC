{
 "cells": [
  {
   "cell_type": "code",
   "execution_count": 1,
   "metadata": {},
   "outputs": [
    {
     "name": "stdout",
     "output_type": "stream",
     "text": [
      "You are in Singularity: singularity_proj_encode_fcc \n",
      "BASE DIRECTORY (FD_BASE): /data/reddylab/Kuei \n",
      "WORK DIRECTORY (FD_WORK): /data/reddylab/Kuei/out \n",
      "CODE DIRECTORY (FD_CODE): /data/reddylab/Kuei/code \n",
      "PATH OF PROJECT (FD_PRJ): /data/reddylab/Kuei/code/Proj_CombEffect_ENCODE_FCC \n",
      "PATH OF RESULTS (FD_RES): /data/reddylab/Kuei/out/proj_combeffect_encode_fcc \n",
      "PATH OF LOG     (FD_LOG): /data/reddylab/Kuei/out/proj_combeffect_encode_fcc/log \n"
     ]
    }
   ],
   "source": [
    "suppressMessages(suppressWarnings(source(\"../config/config_sing.R\")))\n",
    "show_env()"
   ]
  },
  {
   "cell_type": "code",
   "execution_count": 6,
   "metadata": {},
   "outputs": [
    {
     "name": "stdout",
     "output_type": "stream",
     "text": [
      "[1] 10412    25\n"
     ]
    },
    {
     "data": {
      "text/html": [
       "<table class=\"dataframe\">\n",
       "<caption>A tibble: 6 × 25</caption>\n",
       "<thead>\n",
       "\t<tr><th scope=col>dataset</th><th scope=col>chrom</th><th scope=col>chromStart</th><th scope=col>chromEnd</th><th scope=col>name</th><th scope=col>EffectSize</th><th scope=col>chrTSS</th><th scope=col>startTSS</th><th scope=col>endTSS</th><th scope=col>measuredGeneSymbol</th><th scope=col>⋯</th><th scope=col>Reference</th><th scope=col>Regulated</th><th scope=col>PowerAtEffectSize10</th><th scope=col>PowerAtEffectSize15</th><th scope=col>PowerAtEffectSize20</th><th scope=col>PowerAtEffectSize50</th><th scope=col>pair_uid</th><th scope=col>merged_uid</th><th scope=col>merged_start</th><th scope=col>merged_end</th></tr>\n",
       "\t<tr><th scope=col>&lt;chr&gt;</th><th scope=col>&lt;chr&gt;</th><th scope=col>&lt;dbl&gt;</th><th scope=col>&lt;dbl&gt;</th><th scope=col>&lt;chr&gt;</th><th scope=col>&lt;dbl&gt;</th><th scope=col>&lt;chr&gt;</th><th scope=col>&lt;dbl&gt;</th><th scope=col>&lt;dbl&gt;</th><th scope=col>&lt;chr&gt;</th><th scope=col>⋯</th><th scope=col>&lt;chr&gt;</th><th scope=col>&lt;lgl&gt;</th><th scope=col>&lt;dbl&gt;</th><th scope=col>&lt;dbl&gt;</th><th scope=col>&lt;dbl&gt;</th><th scope=col>&lt;dbl&gt;</th><th scope=col>&lt;chr&gt;</th><th scope=col>&lt;dbl&gt;</th><th scope=col>&lt;dbl&gt;</th><th scope=col>&lt;dbl&gt;</th></tr>\n",
       "</thead>\n",
       "<tbody>\n",
       "\t<tr><td>FlowFISH_K562</td><td>chr1</td><td>3774714</td><td>3775214</td><td>CEP104|chr1:3691278-3691778:*</td><td>-0.293431866</td><td>chr1</td><td>3857213</td><td>3857214</td><td>CEP104</td><td>⋯</td><td>Ulirsch2016           </td><td> TRUE</td><td>  NA</td><td>  NA</td><td>  NA</td><td>NA</td><td>FlowFISH_K562|CEP104|chr1:3691278-3691778:*</td><td>1</td><td>3774714</td><td>3775214</td></tr>\n",
       "\t<tr><td>FlowFISH_K562</td><td>chr1</td><td>3774714</td><td>3775214</td><td>LRRC47|chr1:3691278-3691778:*</td><td>-0.331178093</td><td>chr1</td><td>3796503</td><td>3796504</td><td>LRRC47</td><td>⋯</td><td>Ulirsch2016           </td><td> TRUE</td><td>  NA</td><td>  NA</td><td>  NA</td><td>NA</td><td>FlowFISH_K562|LRRC47|chr1:3691278-3691778:*</td><td>2</td><td>3774714</td><td>3775214</td></tr>\n",
       "\t<tr><td>Gasperini2019</td><td>chr1</td><td>3803570</td><td>3805848</td><td>LRRC47|chr1:3720134-3722412:.</td><td>-0.001471265</td><td>chr1</td><td>3796503</td><td>3796504</td><td>LRRC47</td><td>⋯</td><td>Gasperini et al., 2019</td><td>FALSE</td><td>0.40</td><td>0.80</td><td>0.85</td><td> 1</td><td>Gasperini2019|LRRC47|chr1:3720134-3722412:.</td><td>3</td><td>3803570</td><td>3805848</td></tr>\n",
       "\t<tr><td>FlowFISH_K562</td><td>chr1</td><td>3774714</td><td>3775214</td><td>SMIM1|chr1:3691278-3691778:* </td><td>-0.472019217</td><td>chr1</td><td>3772761</td><td>3772762</td><td>SMIM1 </td><td>⋯</td><td>Ulirsch2016           </td><td> TRUE</td><td>  NA</td><td>  NA</td><td>  NA</td><td>NA</td><td>FlowFISH_K562|SMIM1|chr1:3691278-3691778:* </td><td>4</td><td>3774714</td><td>3775214</td></tr>\n",
       "\t<tr><td>Gasperini2019</td><td>chr1</td><td>3803570</td><td>3805848</td><td>SMIM1|chr1:3720134-3722412:. </td><td> 0.025676924</td><td>chr1</td><td>3772788</td><td>3772789</td><td>SMIM1 </td><td>⋯</td><td>Gasperini et al., 2019</td><td>FALSE</td><td>0.80</td><td>0.85</td><td>1.00</td><td> 1</td><td>Gasperini2019|SMIM1|chr1:3720134-3722412:. </td><td>5</td><td>3803570</td><td>3805848</td></tr>\n",
       "\t<tr><td>Gasperini2019</td><td>chr1</td><td>4126791</td><td>4127291</td><td>SMIM1|chr1:4186851-4187351:. </td><td> 0.023383787</td><td>chr1</td><td>3772788</td><td>3772789</td><td>SMIM1 </td><td>⋯</td><td>Gasperini et al., 2019</td><td>FALSE</td><td>0.55</td><td>0.80</td><td>0.90</td><td> 1</td><td>Gasperini2019|SMIM1|chr1:4186851-4187351:. </td><td>6</td><td>4126791</td><td>4127291</td></tr>\n",
       "</tbody>\n",
       "</table>\n"
      ],
      "text/latex": [
       "A tibble: 6 × 25\n",
       "\\begin{tabular}{lllllllllllllllllllll}\n",
       " dataset & chrom & chromStart & chromEnd & name & EffectSize & chrTSS & startTSS & endTSS & measuredGeneSymbol & ⋯ & Reference & Regulated & PowerAtEffectSize10 & PowerAtEffectSize15 & PowerAtEffectSize20 & PowerAtEffectSize50 & pair\\_uid & merged\\_uid & merged\\_start & merged\\_end\\\\\n",
       " <chr> & <chr> & <dbl> & <dbl> & <chr> & <dbl> & <chr> & <dbl> & <dbl> & <chr> & ⋯ & <chr> & <lgl> & <dbl> & <dbl> & <dbl> & <dbl> & <chr> & <dbl> & <dbl> & <dbl>\\\\\n",
       "\\hline\n",
       "\t FlowFISH\\_K562 & chr1 & 3774714 & 3775214 & CEP104\\textbar{}chr1:3691278-3691778:* & -0.293431866 & chr1 & 3857213 & 3857214 & CEP104 & ⋯ & Ulirsch2016            &  TRUE &   NA &   NA &   NA & NA & FlowFISH\\_K562\\textbar{}CEP104\\textbar{}chr1:3691278-3691778:* & 1 & 3774714 & 3775214\\\\\n",
       "\t FlowFISH\\_K562 & chr1 & 3774714 & 3775214 & LRRC47\\textbar{}chr1:3691278-3691778:* & -0.331178093 & chr1 & 3796503 & 3796504 & LRRC47 & ⋯ & Ulirsch2016            &  TRUE &   NA &   NA &   NA & NA & FlowFISH\\_K562\\textbar{}LRRC47\\textbar{}chr1:3691278-3691778:* & 2 & 3774714 & 3775214\\\\\n",
       "\t Gasperini2019 & chr1 & 3803570 & 3805848 & LRRC47\\textbar{}chr1:3720134-3722412:. & -0.001471265 & chr1 & 3796503 & 3796504 & LRRC47 & ⋯ & Gasperini et al., 2019 & FALSE & 0.40 & 0.80 & 0.85 &  1 & Gasperini2019\\textbar{}LRRC47\\textbar{}chr1:3720134-3722412:. & 3 & 3803570 & 3805848\\\\\n",
       "\t FlowFISH\\_K562 & chr1 & 3774714 & 3775214 & SMIM1\\textbar{}chr1:3691278-3691778:*  & -0.472019217 & chr1 & 3772761 & 3772762 & SMIM1  & ⋯ & Ulirsch2016            &  TRUE &   NA &   NA &   NA & NA & FlowFISH\\_K562\\textbar{}SMIM1\\textbar{}chr1:3691278-3691778:*  & 4 & 3774714 & 3775214\\\\\n",
       "\t Gasperini2019 & chr1 & 3803570 & 3805848 & SMIM1\\textbar{}chr1:3720134-3722412:.  &  0.025676924 & chr1 & 3772788 & 3772789 & SMIM1  & ⋯ & Gasperini et al., 2019 & FALSE & 0.80 & 0.85 & 1.00 &  1 & Gasperini2019\\textbar{}SMIM1\\textbar{}chr1:3720134-3722412:.  & 5 & 3803570 & 3805848\\\\\n",
       "\t Gasperini2019 & chr1 & 4126791 & 4127291 & SMIM1\\textbar{}chr1:4186851-4187351:.  &  0.023383787 & chr1 & 3772788 & 3772789 & SMIM1  & ⋯ & Gasperini et al., 2019 & FALSE & 0.55 & 0.80 & 0.90 &  1 & Gasperini2019\\textbar{}SMIM1\\textbar{}chr1:4186851-4187351:.  & 6 & 4126791 & 4127291\\\\\n",
       "\\end{tabular}\n"
      ],
      "text/markdown": [
       "\n",
       "A tibble: 6 × 25\n",
       "\n",
       "| dataset &lt;chr&gt; | chrom &lt;chr&gt; | chromStart &lt;dbl&gt; | chromEnd &lt;dbl&gt; | name &lt;chr&gt; | EffectSize &lt;dbl&gt; | chrTSS &lt;chr&gt; | startTSS &lt;dbl&gt; | endTSS &lt;dbl&gt; | measuredGeneSymbol &lt;chr&gt; | ⋯ ⋯ | Reference &lt;chr&gt; | Regulated &lt;lgl&gt; | PowerAtEffectSize10 &lt;dbl&gt; | PowerAtEffectSize15 &lt;dbl&gt; | PowerAtEffectSize20 &lt;dbl&gt; | PowerAtEffectSize50 &lt;dbl&gt; | pair_uid &lt;chr&gt; | merged_uid &lt;dbl&gt; | merged_start &lt;dbl&gt; | merged_end &lt;dbl&gt; |\n",
       "|---|---|---|---|---|---|---|---|---|---|---|---|---|---|---|---|---|---|---|---|---|\n",
       "| FlowFISH_K562 | chr1 | 3774714 | 3775214 | CEP104|chr1:3691278-3691778:* | -0.293431866 | chr1 | 3857213 | 3857214 | CEP104 | ⋯ | Ulirsch2016            |  TRUE |   NA |   NA |   NA | NA | FlowFISH_K562|CEP104|chr1:3691278-3691778:* | 1 | 3774714 | 3775214 |\n",
       "| FlowFISH_K562 | chr1 | 3774714 | 3775214 | LRRC47|chr1:3691278-3691778:* | -0.331178093 | chr1 | 3796503 | 3796504 | LRRC47 | ⋯ | Ulirsch2016            |  TRUE |   NA |   NA |   NA | NA | FlowFISH_K562|LRRC47|chr1:3691278-3691778:* | 2 | 3774714 | 3775214 |\n",
       "| Gasperini2019 | chr1 | 3803570 | 3805848 | LRRC47|chr1:3720134-3722412:. | -0.001471265 | chr1 | 3796503 | 3796504 | LRRC47 | ⋯ | Gasperini et al., 2019 | FALSE | 0.40 | 0.80 | 0.85 |  1 | Gasperini2019|LRRC47|chr1:3720134-3722412:. | 3 | 3803570 | 3805848 |\n",
       "| FlowFISH_K562 | chr1 | 3774714 | 3775214 | SMIM1|chr1:3691278-3691778:*  | -0.472019217 | chr1 | 3772761 | 3772762 | SMIM1  | ⋯ | Ulirsch2016            |  TRUE |   NA |   NA |   NA | NA | FlowFISH_K562|SMIM1|chr1:3691278-3691778:*  | 4 | 3774714 | 3775214 |\n",
       "| Gasperini2019 | chr1 | 3803570 | 3805848 | SMIM1|chr1:3720134-3722412:.  |  0.025676924 | chr1 | 3772788 | 3772789 | SMIM1  | ⋯ | Gasperini et al., 2019 | FALSE | 0.80 | 0.85 | 1.00 |  1 | Gasperini2019|SMIM1|chr1:3720134-3722412:.  | 5 | 3803570 | 3805848 |\n",
       "| Gasperini2019 | chr1 | 4126791 | 4127291 | SMIM1|chr1:4186851-4187351:.  |  0.023383787 | chr1 | 3772788 | 3772789 | SMIM1  | ⋯ | Gasperini et al., 2019 | FALSE | 0.55 | 0.80 | 0.90 |  1 | Gasperini2019|SMIM1|chr1:4186851-4187351:.  | 6 | 4126791 | 4127291 |\n",
       "\n"
      ],
      "text/plain": [
       "  dataset       chrom chromStart chromEnd name                         \n",
       "1 FlowFISH_K562 chr1  3774714    3775214  CEP104|chr1:3691278-3691778:*\n",
       "2 FlowFISH_K562 chr1  3774714    3775214  LRRC47|chr1:3691278-3691778:*\n",
       "3 Gasperini2019 chr1  3803570    3805848  LRRC47|chr1:3720134-3722412:.\n",
       "4 FlowFISH_K562 chr1  3774714    3775214  SMIM1|chr1:3691278-3691778:* \n",
       "5 Gasperini2019 chr1  3803570    3805848  SMIM1|chr1:3720134-3722412:. \n",
       "6 Gasperini2019 chr1  4126791    4127291  SMIM1|chr1:4186851-4187351:. \n",
       "  EffectSize   chrTSS startTSS endTSS  measuredGeneSymbol ⋯\n",
       "1 -0.293431866 chr1   3857213  3857214 CEP104             ⋯\n",
       "2 -0.331178093 chr1   3796503  3796504 LRRC47             ⋯\n",
       "3 -0.001471265 chr1   3796503  3796504 LRRC47             ⋯\n",
       "4 -0.472019217 chr1   3772761  3772762 SMIM1              ⋯\n",
       "5  0.025676924 chr1   3772788  3772789 SMIM1              ⋯\n",
       "6  0.023383787 chr1   3772788  3772789 SMIM1              ⋯\n",
       "  Reference              Regulated PowerAtEffectSize10 PowerAtEffectSize15\n",
       "1 Ulirsch2016             TRUE       NA                  NA               \n",
       "2 Ulirsch2016             TRUE       NA                  NA               \n",
       "3 Gasperini et al., 2019 FALSE     0.40                0.80               \n",
       "4 Ulirsch2016             TRUE       NA                  NA               \n",
       "5 Gasperini et al., 2019 FALSE     0.80                0.85               \n",
       "6 Gasperini et al., 2019 FALSE     0.55                0.80               \n",
       "  PowerAtEffectSize20 PowerAtEffectSize50\n",
       "1   NA                NA                 \n",
       "2   NA                NA                 \n",
       "3 0.85                 1                 \n",
       "4   NA                NA                 \n",
       "5 1.00                 1                 \n",
       "6 0.90                 1                 \n",
       "  pair_uid                                    merged_uid merged_start\n",
       "1 FlowFISH_K562|CEP104|chr1:3691278-3691778:* 1          3774714     \n",
       "2 FlowFISH_K562|LRRC47|chr1:3691278-3691778:* 2          3774714     \n",
       "3 Gasperini2019|LRRC47|chr1:3720134-3722412:. 3          3803570     \n",
       "4 FlowFISH_K562|SMIM1|chr1:3691278-3691778:*  4          3774714     \n",
       "5 Gasperini2019|SMIM1|chr1:3720134-3722412:.  5          3803570     \n",
       "6 Gasperini2019|SMIM1|chr1:4186851-4187351:.  6          4126791     \n",
       "  merged_end\n",
       "1 3775214   \n",
       "2 3775214   \n",
       "3 3805848   \n",
       "4 3775214   \n",
       "5 3805848   \n",
       "6 4127291   "
      ]
     },
     "metadata": {},
     "output_type": "display_data"
    }
   ],
   "source": [
    "fdiry = file.path(FD_RES, \"source\", \"CRISPR_E2G\")\n",
    "fname = \"EPCrisprBenchmark_ensemble_data_GRCh38.tsv\"\n",
    "fpath = file.path(fdiry, fname)\n",
    "\n",
    "dat = read_tsv(fpath, show_col_types = FALSE)\n",
    "\n",
    "dat_crispr_e2g_import = dat\n",
    "print(dim(dat))\n",
    "head(dat)"
   ]
  },
  {
   "cell_type": "code",
   "execution_count": 13,
   "metadata": {},
   "outputs": [
    {
     "data": {
      "text/plain": [
       "\n",
       " K562 \n",
       "10412 "
      ]
     },
     "metadata": {},
     "output_type": "display_data"
    }
   ],
   "source": [
    "dat = dat_crispr_e2g_import\n",
    "table(dat$CellType)"
   ]
  },
  {
   "cell_type": "code",
   "execution_count": 14,
   "metadata": {},
   "outputs": [
    {
     "data": {
      "text/plain": [
       "\n",
       "FALSE  TRUE \n",
       " 9924   487 "
      ]
     },
     "metadata": {},
     "output_type": "display_data"
    }
   ],
   "source": [
    "dat = dat_crispr_e2g_import\n",
    "table(dat$Regulated)"
   ]
  },
  {
   "cell_type": "code",
   "execution_count": 15,
   "metadata": {},
   "outputs": [
    {
     "name": "stdout",
     "output_type": "stream",
     "text": [
      "[1] 487   6\n"
     ]
    },
    {
     "data": {
      "text/html": [
       "<table class=\"dataframe\">\n",
       "<caption>A tibble: 6 × 6</caption>\n",
       "<thead>\n",
       "\t<tr><th scope=col>chrom</th><th scope=col>chromStart</th><th scope=col>chromEnd</th><th scope=col>name</th><th scope=col>EffectSize</th><th scope=col>Reference</th></tr>\n",
       "\t<tr><th scope=col>&lt;chr&gt;</th><th scope=col>&lt;dbl&gt;</th><th scope=col>&lt;dbl&gt;</th><th scope=col>&lt;chr&gt;</th><th scope=col>&lt;dbl&gt;</th><th scope=col>&lt;chr&gt;</th></tr>\n",
       "</thead>\n",
       "<tbody>\n",
       "\t<tr><td>chr1</td><td> 3774714</td><td> 3775214</td><td>CEP104|chr1:3691278-3691778:*</td><td>-0.29343187</td><td>Ulirsch2016           </td></tr>\n",
       "\t<tr><td>chr1</td><td> 3774714</td><td> 3775214</td><td>LRRC47|chr1:3691278-3691778:*</td><td>-0.33117809</td><td>Ulirsch2016           </td></tr>\n",
       "\t<tr><td>chr1</td><td> 3774714</td><td> 3775214</td><td>SMIM1|chr1:3691278-3691778:* </td><td>-0.47201922</td><td>Ulirsch2016           </td></tr>\n",
       "\t<tr><td>chr1</td><td> 8858063</td><td> 8858563</td><td>ENO1|chr1:8918122-8918622:.  </td><td>-0.10740946</td><td>Gasperini et al., 2019</td></tr>\n",
       "\t<tr><td>chr1</td><td>17441310</td><td>17441810</td><td>SDHB|chr1:17767806-17768306:.</td><td>-0.08967821</td><td>Gasperini et al., 2019</td></tr>\n",
       "\t<tr><td>chr1</td><td>25933351</td><td>25933954</td><td>NUDC|chr1:26259842-26260445:.</td><td>-0.08462141</td><td>Gasperini et al., 2019</td></tr>\n",
       "</tbody>\n",
       "</table>\n"
      ],
      "text/latex": [
       "A tibble: 6 × 6\n",
       "\\begin{tabular}{llllll}\n",
       " chrom & chromStart & chromEnd & name & EffectSize & Reference\\\\\n",
       " <chr> & <dbl> & <dbl> & <chr> & <dbl> & <chr>\\\\\n",
       "\\hline\n",
       "\t chr1 &  3774714 &  3775214 & CEP104\\textbar{}chr1:3691278-3691778:* & -0.29343187 & Ulirsch2016           \\\\\n",
       "\t chr1 &  3774714 &  3775214 & LRRC47\\textbar{}chr1:3691278-3691778:* & -0.33117809 & Ulirsch2016           \\\\\n",
       "\t chr1 &  3774714 &  3775214 & SMIM1\\textbar{}chr1:3691278-3691778:*  & -0.47201922 & Ulirsch2016           \\\\\n",
       "\t chr1 &  8858063 &  8858563 & ENO1\\textbar{}chr1:8918122-8918622:.   & -0.10740946 & Gasperini et al., 2019\\\\\n",
       "\t chr1 & 17441310 & 17441810 & SDHB\\textbar{}chr1:17767806-17768306:. & -0.08967821 & Gasperini et al., 2019\\\\\n",
       "\t chr1 & 25933351 & 25933954 & NUDC\\textbar{}chr1:26259842-26260445:. & -0.08462141 & Gasperini et al., 2019\\\\\n",
       "\\end{tabular}\n"
      ],
      "text/markdown": [
       "\n",
       "A tibble: 6 × 6\n",
       "\n",
       "| chrom &lt;chr&gt; | chromStart &lt;dbl&gt; | chromEnd &lt;dbl&gt; | name &lt;chr&gt; | EffectSize &lt;dbl&gt; | Reference &lt;chr&gt; |\n",
       "|---|---|---|---|---|---|\n",
       "| chr1 |  3774714 |  3775214 | CEP104|chr1:3691278-3691778:* | -0.29343187 | Ulirsch2016            |\n",
       "| chr1 |  3774714 |  3775214 | LRRC47|chr1:3691278-3691778:* | -0.33117809 | Ulirsch2016            |\n",
       "| chr1 |  3774714 |  3775214 | SMIM1|chr1:3691278-3691778:*  | -0.47201922 | Ulirsch2016            |\n",
       "| chr1 |  8858063 |  8858563 | ENO1|chr1:8918122-8918622:.   | -0.10740946 | Gasperini et al., 2019 |\n",
       "| chr1 | 17441310 | 17441810 | SDHB|chr1:17767806-17768306:. | -0.08967821 | Gasperini et al., 2019 |\n",
       "| chr1 | 25933351 | 25933954 | NUDC|chr1:26259842-26260445:. | -0.08462141 | Gasperini et al., 2019 |\n",
       "\n"
      ],
      "text/plain": [
       "  chrom chromStart chromEnd name                          EffectSize \n",
       "1 chr1   3774714    3775214 CEP104|chr1:3691278-3691778:* -0.29343187\n",
       "2 chr1   3774714    3775214 LRRC47|chr1:3691278-3691778:* -0.33117809\n",
       "3 chr1   3774714    3775214 SMIM1|chr1:3691278-3691778:*  -0.47201922\n",
       "4 chr1   8858063    8858563 ENO1|chr1:8918122-8918622:.   -0.10740946\n",
       "5 chr1  17441310   17441810 SDHB|chr1:17767806-17768306:. -0.08967821\n",
       "6 chr1  25933351   25933954 NUDC|chr1:26259842-26260445:. -0.08462141\n",
       "  Reference             \n",
       "1 Ulirsch2016           \n",
       "2 Ulirsch2016           \n",
       "3 Ulirsch2016           \n",
       "4 Gasperini et al., 2019\n",
       "5 Gasperini et al., 2019\n",
       "6 Gasperini et al., 2019"
      ]
     },
     "metadata": {},
     "output_type": "display_data"
    }
   ],
   "source": [
    "dat = dat_crispr_e2g_import\n",
    "dat = dat %>% dplyr::filter(Regulated)\n",
    "dat = dat %>% dplyr::select(chrom, chromStart, chromEnd, name, EffectSize, Reference)\n",
    "dat = dat %>% dplyr::arrange(chrom, chromStart, chromEnd)\n",
    "\n",
    "dat_cirspr_e2g_filter = dat\n",
    "print(dim(dat))\n",
    "head(dat)"
   ]
  },
  {
   "cell_type": "code",
   "execution_count": 19,
   "metadata": {},
   "outputs": [],
   "source": [
    "dat_cnames = tribble(\n",
    "    ~Name, ~Description,\n",
    "    \"Chrom\",   \"Chromosome of the perturbed element\",\n",
    "    \"Start\",   \"Start of the perturbed element (0-based)\",\n",
    "    \"End\",     \"End of the perturbed element\",\n",
    "    \"Name\",    \"Identifier for the given E-G pair in the form of 'gene|chr:start-stop:strand', e.g. 'BET1L|chr11:220536-220704:*'\",\n",
    "    \"Score\",   \"Change in gene expression upon CRISPRi perturbation, e.g. precentage change in expression or log fold change\",\n",
    "    \"Reference\", \"Study from which this E-G pair was collected, e.g. Fulco2019\"\n",
    ")"
   ]
  },
  {
   "cell_type": "code",
   "execution_count": null,
   "metadata": {},
   "outputs": [],
   "source": []
  },
  {
   "cell_type": "code",
   "execution_count": 8,
   "metadata": {},
   "outputs": [
    {
     "ename": "ERROR",
     "evalue": "Error in file.path(FD_RES, \"results\", \"region\", ): argument is missing, with no default\n",
     "output_type": "error",
     "traceback": [
      "Error in file.path(FD_RES, \"results\", \"region\", ): argument is missing, with no default\nTraceback:\n",
      "1. file.path(FD_RES, \"results\", \"region\", )"
     ]
    }
   ],
   "source": [
    "fdiry = file.path(FD_RES, \"results\", \"region\", \"annotation_crispr_e2g\")\n",
    "fanme = \"crispr_e2g.region.bed.gz\"\n",
    "dat = dat_cirspr_e2g_filter"
   ]
  },
  {
   "cell_type": "code",
   "execution_count": null,
   "metadata": {},
   "outputs": [],
   "source": []
  }
 ],
 "metadata": {
  "kernelspec": {
   "display_name": "R (alex_py3)",
   "language": "R",
   "name": "ir_alex_py3"
  },
  "language_info": {
   "codemirror_mode": "r",
   "file_extension": ".r",
   "mimetype": "text/x-r-source",
   "name": "R",
   "pygments_lexer": "r",
   "version": "3.6.2"
  }
 },
 "nbformat": 4,
 "nbformat_minor": 4
}
