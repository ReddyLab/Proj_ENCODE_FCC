{
 "cells": [
  {
   "cell_type": "code",
   "execution_count": 1,
   "id": "5416f0ff-96c8-4185-9477-d6df30b71c69",
   "metadata": {},
   "outputs": [
    {
     "name": "stdout",
     "output_type": "stream",
     "text": [
      "arrange_folder_structure.ipynb  \u001b[0m\u001b[38;5;27mnotebooks_v1\u001b[0m  \u001b[38;5;27mnotebooks_v3\u001b[0m\n",
      "\u001b[38;5;27mnotebooks\u001b[0m                       \u001b[38;5;27mnotebooks_v2\u001b[0m  README.md\n"
     ]
    }
   ],
   "source": [
    "ls"
   ]
  },
  {
   "cell_type": "code",
   "execution_count": 2,
   "id": "52ee59c4-d54e-43d5-b360-c383f2b1bf32",
   "metadata": {},
   "outputs": [
    {
     "name": "stdout",
     "output_type": "stream",
     "text": [
      "\u001b[0m\u001b[38;5;27m00_setup_env\u001b[0m            \u001b[38;5;27m31_astarr_peak_nuc\u001b[0m         \u001b[38;5;34mjupyter_proj_encode_fcc.sh\u001b[0m\n",
      "\u001b[38;5;27m01_prepare_data\u001b[0m         \u001b[38;5;27m32_astarr_peak_coverage\u001b[0m    \u001b[38;5;34msing_proj_encode_fcc.sh\u001b[0m\n",
      "\u001b[38;5;27m11_starr_mpra_fragment\u001b[0m  \u001b[38;5;27m33_astarr_peak_annotation\u001b[0m\n",
      "\u001b[38;5;27m12_starr_mpra_coverage\u001b[0m  \u001b[38;5;27mconfig\u001b[0m\n"
     ]
    }
   ],
   "source": [
    "ls notebooks"
   ]
  },
  {
   "cell_type": "code",
   "execution_count": 10,
   "id": "d3d50583-4552-4269-b1b9-3a0d89ef501a",
   "metadata": {},
   "outputs": [
    {
     "name": "stdout",
     "output_type": "stream",
     "text": [
      "01_extract_fragment_count_astarr.ipynb\n",
      "02_extract_fragment_count_wstarr.ipynb\n",
      "11_extract_fragment_count_tmpra_v1_subset.ipynb\n",
      "11_extract_fragment_count_tmpra_v2_merge.ipynb\n",
      "12_convert_table_to_bed_raw.ipynb\n",
      "13_liftover_tmpra_fragment_OL13.ipynb\n",
      "14_tmpra_fragment_ranges.ipynb\n",
      "explore_fragment_tmpra_FADS.ipynb\n",
      "explore_fragment_tmpra.ipynb\n",
      "extract_fragment_count_tmpra_OL43.ipynb\n",
      "z14_sort_fragment_count_tmpra.ipynb\n",
      "z23_get_fragment_count_tmpra_OL13.ipynb\n"
     ]
    }
   ],
   "source": [
    "ls notebooks_v3/02_fragment"
   ]
  },
  {
   "cell_type": "code",
   "execution_count": 11,
   "id": "59a31e70-6b89-4cce-8a9e-b27c6fc3c122",
   "metadata": {},
   "outputs": [
    {
     "name": "stdout",
     "output_type": "stream",
     "text": [
      "notebooks_v3/02_fragment/11_extract_fragment_count_tmpra_v2_merge.ipynb\n"
     ]
    }
   ],
   "source": [
    "ls notebooks_v3/02_fragment/11_extract_fragment_count_tmpra_v2_merge.ipynb"
   ]
  },
  {
   "cell_type": "code",
   "execution_count": 15,
   "id": "3913dafc-416b-4cd5-9d38-a2fce18fdece",
   "metadata": {},
   "outputs": [],
   "source": [
    "cp notebooks_v3/02_fragment/14_tmpra_fragment_ranges.ipynb notebooks/11_starr_mpra_fragment"
   ]
  },
  {
   "cell_type": "code",
   "execution_count": null,
   "id": "886bf345-28cd-45d1-93c8-86283a2a8cb6",
   "metadata": {},
   "outputs": [],
   "source": []
  }
 ],
 "metadata": {
  "kernelspec": {
   "display_name": "Bash",
   "language": "bash",
   "name": "bash"
  },
  "language_info": {
   "codemirror_mode": "shell",
   "file_extension": ".sh",
   "mimetype": "text/x-sh",
   "name": "bash"
  }
 },
 "nbformat": 4,
 "nbformat_minor": 5
}
