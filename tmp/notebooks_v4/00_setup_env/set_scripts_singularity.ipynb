{
 "cells": [
  {
   "cell_type": "markdown",
   "id": "d3a4228a-55c0-4f86-aff6-0ed8253252ed",
   "metadata": {},
   "source": [
    "**Set environment**"
   ]
  },
  {
   "cell_type": "code",
   "execution_count": 1,
   "id": "3fce1c89-cf78-43a2-9034-ff151a9e99b7",
   "metadata": {},
   "outputs": [
    {
     "name": "stdout",
     "output_type": "stream",
     "text": [
      "You are on Duke Server: HARDAC\n",
      "BASE DIRECTORY (FD_BASE): /data/reddylab/Kuei\n",
      "WORK DIRECTORY (FD_WORK): /data/reddylab/Kuei/out\n",
      "CODE DIRECTORY (FD_CODE): /data/reddylab/Kuei/code\n",
      "SING DIRECTORY (FD_SING): /data/reddylab/Kuei/singularity\n",
      "PATH OF PROJECT (FD_PRJ): /data/reddylab/Kuei/code/Proj_CombEffect_ENCODE_FCC\n",
      "PATH OF RESULTS (FD_RES): /data/reddylab/Kuei/out/proj_combeffect_encode_fcc\n",
      "PATH OF LOG     (FD_LOG): /data/reddylab/Kuei/out/proj_combeffect_encode_fcc/log\n",
      "\n"
     ]
    }
   ],
   "source": [
    "source ../config/config_duke.sh\n",
    "show_env"
   ]
  },
  {
   "cell_type": "code",
   "execution_count": 2,
   "id": "b0d8a459-6901-4d0f-bd2b-92f46fa47877",
   "metadata": {},
   "outputs": [
    {
     "name": "stdout",
     "output_type": "stream",
     "text": [
      "\u001b[0m\u001b[38;5;34mrun_bedtools_annot_A.sh\u001b[0m\n",
      "\u001b[38;5;34mrun_bedtools_annot.sh\u001b[0m\n",
      "\u001b[38;5;34mrun_bedtools_closest.sh\u001b[0m\n",
      "\u001b[38;5;34mrun_bedtools_intersect_inv.sh\u001b[0m\n",
      "\u001b[38;5;34mrun_bedtools_intersect.sh\u001b[0m\n",
      "\u001b[38;5;34mrun_bedtools_merge_assay.sh\u001b[0m\n",
      "\u001b[38;5;34mrun_bedtools_merge_region.sh\u001b[0m\n",
      "\u001b[38;5;34mrun_bedtools_test.sh\u001b[0m\n",
      "run_hicstraw_aggregate.py\n",
      "\u001b[38;5;34mrun_sing_proj_encode_fcc.sh\u001b[0m\n",
      "run_test.py\n"
     ]
    }
   ],
   "source": [
    "ls -1 ../scripts"
   ]
  },
  {
   "cell_type": "markdown",
   "id": "c5a2b08c-29a6-475a-904b-49853d62e743",
   "metadata": {},
   "source": [
    "## Test run"
   ]
  },
  {
   "cell_type": "code",
   "execution_count": 3,
   "id": "0cf3ba89-8c2d-42fd-9b13-8a35fdac32a7",
   "metadata": {},
   "outputs": [
    {
     "name": "stdout",
     "output_type": "stream",
     "text": [
      "#!/bin/bash\n",
      "\n",
      "FD_SING=/data/reddylab/Kuei/singularity/project\n",
      "FN_SING=singularity_proj_encode_fcc.sif\n",
      "FP_SING=${FD_SING}/${FN_SING}\n",
      "\n",
      "### execute\n",
      "singularity exec \\\n",
      "    -H ${PWD}:/home \\\n",
      "    -B /data:/data \\\n",
      "    ${FP_SING} \\\n",
      "    \"$@\"\n"
     ]
    }
   ],
   "source": [
    "cat ../scripts/run_sing_proj_encode_fcc.sh\n",
    "chmod +x ../scripts/run_sing_proj_encode_fcc.sh"
   ]
  },
  {
   "cell_type": "code",
   "execution_count": 4,
   "id": "d88cecd3-ff22-4577-a187-0a185672f1ed",
   "metadata": {},
   "outputs": [
    {
     "name": "stdout",
     "output_type": "stream",
     "text": [
      "check_kernel_python.ipynb   set_scripts_hicstraw.ipynb\n",
      "check_path.ipynb\t    set_scripts_singularity.ipynb\n",
      "folder_structure.ipynb\t    test_display_table.ipynb\n",
      "set_scripts_bedtools.ipynb\n"
     ]
    }
   ],
   "source": [
    "../scripts/run_sing_proj_encode_fcc.sh ls"
   ]
  },
  {
   "cell_type": "code",
   "execution_count": 5,
   "id": "3c2e349d-a00e-491c-b813-c7eb868fef33",
   "metadata": {},
   "outputs": [
    {
     "name": "stdout",
     "output_type": "stream",
     "text": [
      "Python 3.11.6\n"
     ]
    }
   ],
   "source": [
    "../scripts/run_sing_proj_encode_fcc.sh python --version"
   ]
  },
  {
   "cell_type": "code",
   "execution_count": 6,
   "id": "f076f7c3-2901-466f-93bd-d456be13dacb",
   "metadata": {},
   "outputs": [
    {
     "name": "stdout",
     "output_type": "stream",
     "text": [
      "R version 4.3.1 (2023-06-16) -- \"Beagle Scouts\"\n",
      "Copyright (C) 2023 The R Foundation for Statistical Computing\n",
      "Platform: x86_64-pc-linux-gnu (64-bit)\n",
      "\n",
      "R is free software and comes with ABSOLUTELY NO WARRANTY.\n",
      "You are welcome to redistribute it under the terms of the\n",
      "GNU General Public License versions 2 or 3.\n",
      "For more information about these matters see\n",
      "https://www.gnu.org/licenses/.\n",
      "\n"
     ]
    }
   ],
   "source": [
    "../scripts/run_sing_proj_encode_fcc.sh R --version"
   ]
  },
  {
   "cell_type": "markdown",
   "id": "e5410e9b-2f5c-4ae4-acb5-ccb0ec91937d",
   "metadata": {},
   "source": [
    "## Test run"
   ]
  },
  {
   "cell_type": "code",
   "execution_count": 8,
   "id": "8b0adde2-d892-49c1-9ad1-f9d53f4e941d",
   "metadata": {},
   "outputs": [],
   "source": [
    "cat > ../scripts/run_test.py << 'EOF'\n",
    "print(\"Hello\")\n",
    "EOF"
   ]
  },
  {
   "cell_type": "code",
   "execution_count": 12,
   "id": "d36409c5-8c04-401a-95a6-2d2545e25e28",
   "metadata": {},
   "outputs": [
    {
     "name": "stdout",
     "output_type": "stream",
     "text": [
      "Hello\n"
     ]
    }
   ],
   "source": [
    "FD_RUN=${FD_PRJ}/notebooks/scripts\n",
    "FP_RUN=${FD_RUN}/run_sing_proj_encode_fcc.sh\n",
    "\n",
    "${FP_RUN} python ${FD_RUN}/run_test.py"
   ]
  },
  {
   "cell_type": "code",
   "execution_count": null,
   "id": "0117963c-6bdd-431c-b061-b2c8dbbe1601",
   "metadata": {},
   "outputs": [],
   "source": []
  }
 ],
 "metadata": {
  "kernelspec": {
   "display_name": "Bash",
   "language": "bash",
   "name": "bash"
  },
  "language_info": {
   "codemirror_mode": "shell",
   "file_extension": ".sh",
   "mimetype": "text/x-sh",
   "name": "bash"
  }
 },
 "nbformat": 4,
 "nbformat_minor": 5
}
