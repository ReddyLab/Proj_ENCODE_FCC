{
 "cells": [
  {
   "cell_type": "code",
   "execution_count": 1,
   "metadata": {},
   "outputs": [
    {
     "name": "stdout",
     "output_type": "stream",
     "text": [
      "You are on Duke Server: HARDAC\n",
      "BASE DIRECTORY (FD_BASE): /data/reddylab/Kuei\n",
      "WORK DIRECTORY (FD_WORK): /data/reddylab/Kuei/out\n",
      "CODE DIRECTORY (FD_CODE): /data/reddylab/Kuei/code\n",
      "SING DIRECTORY (FD_SING): /data/reddylab/Kuei/singularity\n",
      "PATH OF PROJECT (FD_PRJ): /data/reddylab/Kuei/code/Proj_CombEffect_ENCODE_FCC\n",
      "PATH OF RESULTS (FD_RES): /data/reddylab/Kuei/out/proj_combeffect_encode_fcc\n",
      "PATH OF LOG     (FD_LOG): /data/reddylab/Kuei/out/proj_combeffect_encode_fcc/log\n",
      "\n"
     ]
    }
   ],
   "source": [
    "source ../config/config_duke.sh\n",
    "show_env"
   ]
  },
  {
   "cell_type": "code",
   "execution_count": 2,
   "metadata": {},
   "outputs": [
    {
     "name": "stdout",
     "output_type": "stream",
     "text": [
      "/gpfs/fs1/data/reddylab/Kuei/code/Proj_CombEffect_ENCODE_FCC/notebooks/00_setup_env\n"
     ]
    }
   ],
   "source": [
    "pwd"
   ]
  },
  {
   "cell_type": "markdown",
   "metadata": {},
   "source": [
    "## Results: region"
   ]
  },
  {
   "cell_type": "code",
   "execution_count": 6,
   "metadata": {},
   "outputs": [
    {
     "name": "stdout",
     "output_type": "stream",
     "text": [
      "\u001b[0m\u001b[38;5;27mannotation_ccre\u001b[0m                   \u001b[38;5;27mhic_intact_deep\u001b[0m\n",
      "\u001b[38;5;27mannotation_chipseq_histone\u001b[0m        \u001b[38;5;27mhic_intact_ENCSR479XDG\u001b[0m\n",
      "\u001b[38;5;27mannotation_chipseq_tf\u001b[0m             \u001b[38;5;27mKS91_K562_ASTARRseq_peak_macs_input\u001b[0m\n",
      "\u001b[38;5;27mannotation_chipseq_tf_subset\u001b[0m      region_screened_crispri_flowfish.bed\n",
      "\u001b[38;5;27mannotation_chromHMM\u001b[0m               region_screened_selected.bed\n",
      "\u001b[38;5;27mannotation_crispri_growth\u001b[0m         \u001b[38;5;9mregion_screened_selected.bed.gz\u001b[0m\n",
      "\u001b[38;5;27mannotation_crispri_hcrff\u001b[0m          region_screened_selected_perbase.bed\n",
      "\u001b[38;5;27mannotation_encode_e2g_benchmark\u001b[0m   \u001b[38;5;9mregion_screened_selected_perbase.bed.gz\u001b[0m\n",
      "\u001b[38;5;27mannotation_encode_e2g_prediction\u001b[0m  region_screened_tmpra.bed\n",
      "\u001b[38;5;27mannotation_enhancer_junke\u001b[0m         region_screened_tmpra_crispr.bed\n",
      "\u001b[38;5;27mannotation_enhancer_junke_zscore\u001b[0m  \u001b[38;5;27mz_annotation_hic\u001b[0m\n",
      "\u001b[38;5;27mannotation_enhancer_merge\u001b[0m         \u001b[38;5;27mz_annotation_inactive\u001b[0m\n",
      "\u001b[38;5;27mannotation_gencode\u001b[0m                \u001b[38;5;27mz_annotation_tss_pol2_span\u001b[0m\n",
      "\u001b[38;5;27mannotation_tss_pol2\u001b[0m\n"
     ]
    }
   ],
   "source": [
    "ls /data/reddylab/Kuei/out/proj_combeffect_encode_fcc/results/region"
   ]
  },
  {
   "cell_type": "code",
   "execution_count": null,
   "metadata": {},
   "outputs": [],
   "source": []
  },
  {
   "cell_type": "code",
   "execution_count": null,
   "metadata": {},
   "outputs": [],
   "source": []
  },
  {
   "cell_type": "code",
   "execution_count": null,
   "metadata": {},
   "outputs": [],
   "source": []
  },
  {
   "cell_type": "code",
   "execution_count": null,
   "metadata": {},
   "outputs": [],
   "source": []
  },
  {
   "cell_type": "code",
   "execution_count": null,
   "metadata": {},
   "outputs": [],
   "source": []
  },
  {
   "cell_type": "code",
   "execution_count": null,
   "metadata": {},
   "outputs": [],
   "source": []
  },
  {
   "cell_type": "code",
   "execution_count": null,
   "metadata": {},
   "outputs": [],
   "source": []
  },
  {
   "cell_type": "code",
   "execution_count": null,
   "metadata": {},
   "outputs": [],
   "source": []
  },
  {
   "cell_type": "markdown",
   "metadata": {},
   "source": [
    "## STARR/MPRA"
   ]
  },
  {
   "cell_type": "code",
   "execution_count": 3,
   "metadata": {},
   "outputs": [
    {
     "name": "stdout",
     "output_type": "stream",
     "text": [
      "KS91_K562_ASTARRseq/fragment\n",
      "KS91_K562_ASTARRseq/fragment_nuc\n",
      "KS91_K562_ASTARRseq/fragment_count\n",
      "KS91_K562_ASTARRseq/coverage\n",
      "KS91_K562_ASTARRseq/coverage_astarrseq_peak_macs_input\n",
      "\n",
      "A001_K562_WSTARRseq/fragment\n",
      "A001_K562_WSTARRseq/fragment_nuc\n",
      "A001_K562_WSTARRseq/fragment_count\n",
      "A001_K562_WSTARRseq/coverage\n",
      "A001_K562_WSTARRseq/coverage_astarrseq_peak_macs_input\n",
      "\n",
      "Tewhey_K562_TileMPRA/fragment\n",
      "Tewhey_K562_TileMPRA/fragment_nuc\n",
      "Tewhey_K562_TileMPRA/fragment_count\n",
      "Tewhey_K562_TileMPRA/coverage\n",
      "Tewhey_K562_TileMPRA/coverage_astarrseq_peak_macs_input\n",
      "\n"
     ]
    }
   ],
   "source": [
    "ASSAYS=(\n",
    "    KS91_K562_ASTARRseq \n",
    "    A001_K562_WSTARRseq \n",
    "    Tewhey_K562_TileMPRA\n",
    ")\n",
    "\n",
    "FOLDERS=(\n",
    "    fragment\n",
    "    fragment_nuc\n",
    "    fragment_count\n",
    "    coverage\n",
    "    coverage_astarrseq_peak_macs_input\n",
    ")\n",
    "\n",
    "for ASSAY in ${ASSAYS[@]}; do\n",
    "    for FOLDER in ${FOLDERS[@]}; do\n",
    "        echo ${ASSAY}/${FOLDER}\n",
    "        \n",
    "        FDIRY=${FD_RES}/results/${ASSAY}/${FOLDER}\n",
    "        mkdir -p ${FDIRY}\n",
    "    done\n",
    "    echo\n",
    "done"
   ]
  },
  {
   "cell_type": "markdown",
   "metadata": {},
   "source": [
    "**Summary**"
   ]
  },
  {
   "cell_type": "code",
   "execution_count": 4,
   "metadata": {},
   "outputs": [
    {
     "name": "stdout",
     "output_type": "stream",
     "text": [
      "KS91_K562_ASTARRseq/coverage/summary\n",
      "KS91_K562_ASTARRseq/coverage/normalized\n",
      "\n",
      "A001_K562_WSTARRseq/coverage/summary\n",
      "A001_K562_WSTARRseq/coverage/normalized\n",
      "\n",
      "Tewhey_K562_TileMPRA/coverage/summary\n",
      "Tewhey_K562_TileMPRA/coverage/normalized\n",
      "\n"
     ]
    }
   ],
   "source": [
    "ASSAYS=(\n",
    "    KS91_K562_ASTARRseq \n",
    "    A001_K562_WSTARRseq \n",
    "    Tewhey_K562_TileMPRA\n",
    ")\n",
    "\n",
    "FOLDERS=(\n",
    "    coverage\n",
    ")\n",
    "\n",
    "for ASSAY in ${ASSAYS[@]}; do\n",
    "    for FOLDER in ${FOLDERS[@]}; do\n",
    "        echo ${ASSAY}/${FOLDER}/summary\n",
    "        FDIRY=${FD_RES}/results/${ASSAY}/${FOLDER}/summary\n",
    "        mkdir -p ${FDIRY}\n",
    "        \n",
    "        echo ${ASSAY}/${FOLDER}/normalized\n",
    "        FDIRY=${FD_RES}/results/${ASSAY}/${FOLDER}/normalized\n",
    "        mkdir -p ${FDIRY}\n",
    "    done\n",
    "    echo\n",
    "done"
   ]
  },
  {
   "cell_type": "code",
   "execution_count": 5,
   "metadata": {},
   "outputs": [
    {
     "name": "stdout",
     "output_type": "stream",
     "text": [
      "KS91_K562_ASTARRseq/coverage_astarrseq_peak_macs_input/summary\n",
      "\n",
      "A001_K562_WSTARRseq/coverage_astarrseq_peak_macs_input/summary\n",
      "\n",
      "Tewhey_K562_TileMPRA/coverage_astarrseq_peak_macs_input/summary\n",
      "\n"
     ]
    }
   ],
   "source": [
    "ASSAYS=(\n",
    "    KS91_K562_ASTARRseq \n",
    "    A001_K562_WSTARRseq \n",
    "    Tewhey_K562_TileMPRA\n",
    ")\n",
    "\n",
    "FOLDERS=(\n",
    "    coverage_astarrseq_peak_macs_input\n",
    ")\n",
    "\n",
    "for ASSAY in ${ASSAYS[@]}; do\n",
    "    for FOLDER in ${FOLDERS[@]}; do\n",
    "        echo ${ASSAY}/${FOLDER}/summary\n",
    "        FDIRY=${FD_RES}/results/${ASSAY}/${FOLDER}/summary\n",
    "        mkdir -p ${FDIRY}\n",
    "    done\n",
    "    echo\n",
    "done"
   ]
  },
  {
   "cell_type": "code",
   "execution_count": 6,
   "metadata": {},
   "outputs": [
    {
     "name": "stdout",
     "output_type": "stream",
     "text": [
      "Tewhey_K562_TileMPRA/fragment_count/summary\n"
     ]
    }
   ],
   "source": [
    "ASSAY=Tewhey_K562_TileMPRA\n",
    "FOLDER=fragment_count\n",
    "\n",
    "echo ${ASSAY}/${FOLDER}/summary\n",
    "FDIRY=${FD_RES}/results/${ASSAY}/${FOLDER}/summary\n",
    "mkdir -p ${FDIRY}"
   ]
  },
  {
   "cell_type": "markdown",
   "metadata": {},
   "source": [
    "**Show**"
   ]
  },
  {
   "cell_type": "code",
   "execution_count": 6,
   "metadata": {},
   "outputs": [
    {
     "name": "stdout",
     "output_type": "stream",
     "text": [
      "\u001b[0m\u001b[38;5;27mA001_K562_WSTARRseq\u001b[0m\n",
      "\u001b[38;5;27mCRISPRi_FlowFISH\u001b[0m\n",
      "\u001b[38;5;27mKS91_K562_ASTARRseq\u001b[0m\n",
      "\u001b[38;5;27mregion\u001b[0m\n",
      "\u001b[38;5;27mTewhey_K562_TileMPRA\u001b[0m\n"
     ]
    }
   ],
   "source": [
    "ls -1 ${FD_RES}/results"
   ]
  },
  {
   "cell_type": "markdown",
   "metadata": {},
   "source": [
    "Linux command to print directory structure in the form of a tree - Stack Overflow\n",
    "https://stackoverflow.com/questions/3455625/linux-command-to-print-directory-structure-in-the-form-of-a-tree"
   ]
  },
  {
   "cell_type": "code",
   "execution_count": 7,
   "metadata": {},
   "outputs": [
    {
     "name": "stdout",
     "output_type": "stream",
     "text": [
      ".\n",
      "└── A001_K562_WSTARRseq\n",
      "│   └── coverage\n",
      "│   │   └── summary\n",
      "│   └── coverage_astarrseq_peak_macs_input\n",
      "│   │   └── summary\n",
      "│   └── fragment\n",
      "│   └── fragment_count\n",
      "│   └── fragment_nuc\n",
      "└── CRISPRi_FlowFISH\n",
      "│   └── coverage\n",
      "│   │   └── .ipynb_checkpoints\n",
      "│   └── coverage_astarrseq_peak_macs_input\n",
      "│   └── .ipynb_checkpoints\n",
      "└── .ipynb_checkpoints\n",
      "└── KS91_K562_ASTARRseq\n",
      "│   └── coverage\n",
      "│   │   └── summary\n",
      "│   └── coverage_astarrseq_peak_macs_input\n",
      "│   │   └── summary\n",
      "│   └── fragment\n",
      "│   └── fragment_count\n",
      "│   └── fragment_nuc\n",
      "└── region\n",
      "│   └── .ipynb_checkpoints\n",
      "│   └── KS91_K562_ASTARRseq_peak_macs_input\n",
      "└── Tewhey_K562_TileMPRA\n",
      "│   └── coverage\n",
      "│   │   └── summary\n",
      "│   └── coverage_astarrseq_peak_macs_input\n",
      "│   │   └── summary\n",
      "│   └── fragment\n",
      "│   └── fragment_count\n",
      "│   │   └── .ipynb_checkpoints\n",
      "│   │   └── summary\n",
      "│   └── fragment_nuc\n",
      "\n",
      "/gpfs/fs1/data/reddylab/Kuei/code/Proj_CombEffect_ENCODE_FCC/notebooks/01_prepare_data\n"
     ]
    }
   ],
   "source": [
    "cd ${FD_RES}/results\n",
    "ls -aR | grep \":$\" | perl -pe 's/:$//;s/[^-][^\\/]*\\//    /g;s/^    (\\S)/└── \\1/;s/(^    |    (?= ))/│   /g;s/    (\\S)/└── \\1/'\n",
    "\n",
    "echo\n",
    "cd -"
   ]
  },
  {
   "cell_type": "code",
   "execution_count": null,
   "metadata": {},
   "outputs": [],
   "source": []
  },
  {
   "cell_type": "code",
   "execution_count": null,
   "metadata": {},
   "outputs": [],
   "source": []
  },
  {
   "cell_type": "code",
   "execution_count": null,
   "metadata": {},
   "outputs": [],
   "source": []
  }
 ],
 "metadata": {
  "kernelspec": {
   "display_name": "Bash",
   "language": "bash",
   "name": "bash"
  },
  "language_info": {
   "codemirror_mode": "shell",
   "file_extension": ".sh",
   "mimetype": "text/x-sh",
   "name": "bash"
  }
 },
 "nbformat": 4,
 "nbformat_minor": 4
}
