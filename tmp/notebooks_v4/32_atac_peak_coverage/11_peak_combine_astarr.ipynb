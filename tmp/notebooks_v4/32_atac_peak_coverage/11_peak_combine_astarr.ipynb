{
 "cells": [
  {
   "cell_type": "markdown",
   "metadata": {},
   "source": [
    "**Set environment**"
   ]
  },
  {
   "cell_type": "code",
   "execution_count": 1,
   "metadata": {},
   "outputs": [
    {
     "name": "stdout",
     "output_type": "stream",
     "text": [
      "You are in Singularity: singularity_proj_encode_fcc \n",
      "BASE DIRECTORY (FD_BASE): /data/reddylab/Kuei \n",
      "WORK DIRECTORY (FD_WORK): /data/reddylab/Kuei/out \n",
      "CODE DIRECTORY (FD_CODE): /data/reddylab/Kuei/code \n",
      "PATH OF PROJECT (FD_PRJ): /data/reddylab/Kuei/code/Proj_CombEffect_ENCODE_FCC \n",
      "PATH OF RESULTS (FD_RES): /data/reddylab/Kuei/out/proj_combeffect_encode_fcc \n",
      "PATH OF LOG     (FD_LOG): /data/reddylab/Kuei/out/proj_combeffect_encode_fcc/log \n"
     ]
    }
   ],
   "source": [
    "suppressMessages(suppressWarnings(source(\"../config/config_sing.R\")))\n",
    "show_env()"
   ]
  },
  {
   "cell_type": "markdown",
   "metadata": {},
   "source": [
    "**Check data**"
   ]
  },
  {
   "cell_type": "code",
   "execution_count": 2,
   "metadata": {},
   "outputs": [
    {
     "data": {
      "text/html": [
       "<style>\n",
       ".list-inline {list-style: none; margin:0; padding: 0}\n",
       ".list-inline>li {display: inline-block}\n",
       ".list-inline>li:not(:last-child)::after {content: \"\\00b7\"; padding: 0 .5ex}\n",
       "</style>\n",
       "<ol class=list-inline><li>'KS91_K562_ASTARRseq.Input.rep1.WGS.unstranded.bed.gz'</li><li>'KS91_K562_ASTARRseq.Input.rep2.WGS.unstranded.bed.gz'</li><li>'KS91_K562_ASTARRseq.Input.rep3.WGS.unstranded.bed.gz'</li><li>'KS91_K562_ASTARRseq.Input.rep4.WGS.unstranded.bed.gz'</li><li>'KS91_K562_ASTARRseq.Input.rep5.WGS.unstranded.bed.gz'</li><li>'KS91_K562_ASTARRseq.Input.rep6.WGS.unstranded.bed.gz'</li><li>'KS91_K562_ASTARRseq.Output.rep1.WGS.unstranded.bed.gz'</li><li>'KS91_K562_ASTARRseq.Output.rep2.WGS.unstranded.bed.gz'</li><li>'KS91_K562_ASTARRseq.Output.rep3.WGS.unstranded.bed.gz'</li><li>'KS91_K562_ASTARRseq.Output.rep4.WGS.unstranded.bed.gz'</li><li>'summary'</li></ol>\n"
      ],
      "text/latex": [
       "\\begin{enumerate*}\n",
       "\\item 'KS91\\_K562\\_ASTARRseq.Input.rep1.WGS.unstranded.bed.gz'\n",
       "\\item 'KS91\\_K562\\_ASTARRseq.Input.rep2.WGS.unstranded.bed.gz'\n",
       "\\item 'KS91\\_K562\\_ASTARRseq.Input.rep3.WGS.unstranded.bed.gz'\n",
       "\\item 'KS91\\_K562\\_ASTARRseq.Input.rep4.WGS.unstranded.bed.gz'\n",
       "\\item 'KS91\\_K562\\_ASTARRseq.Input.rep5.WGS.unstranded.bed.gz'\n",
       "\\item 'KS91\\_K562\\_ASTARRseq.Input.rep6.WGS.unstranded.bed.gz'\n",
       "\\item 'KS91\\_K562\\_ASTARRseq.Output.rep1.WGS.unstranded.bed.gz'\n",
       "\\item 'KS91\\_K562\\_ASTARRseq.Output.rep2.WGS.unstranded.bed.gz'\n",
       "\\item 'KS91\\_K562\\_ASTARRseq.Output.rep3.WGS.unstranded.bed.gz'\n",
       "\\item 'KS91\\_K562\\_ASTARRseq.Output.rep4.WGS.unstranded.bed.gz'\n",
       "\\item 'summary'\n",
       "\\end{enumerate*}\n"
      ],
      "text/markdown": [
       "1. 'KS91_K562_ASTARRseq.Input.rep1.WGS.unstranded.bed.gz'\n",
       "2. 'KS91_K562_ASTARRseq.Input.rep2.WGS.unstranded.bed.gz'\n",
       "3. 'KS91_K562_ASTARRseq.Input.rep3.WGS.unstranded.bed.gz'\n",
       "4. 'KS91_K562_ASTARRseq.Input.rep4.WGS.unstranded.bed.gz'\n",
       "5. 'KS91_K562_ASTARRseq.Input.rep5.WGS.unstranded.bed.gz'\n",
       "6. 'KS91_K562_ASTARRseq.Input.rep6.WGS.unstranded.bed.gz'\n",
       "7. 'KS91_K562_ASTARRseq.Output.rep1.WGS.unstranded.bed.gz'\n",
       "8. 'KS91_K562_ASTARRseq.Output.rep2.WGS.unstranded.bed.gz'\n",
       "9. 'KS91_K562_ASTARRseq.Output.rep3.WGS.unstranded.bed.gz'\n",
       "10. 'KS91_K562_ASTARRseq.Output.rep4.WGS.unstranded.bed.gz'\n",
       "11. 'summary'\n",
       "\n",
       "\n"
      ],
      "text/plain": [
       " [1] \"KS91_K562_ASTARRseq.Input.rep1.WGS.unstranded.bed.gz\" \n",
       " [2] \"KS91_K562_ASTARRseq.Input.rep2.WGS.unstranded.bed.gz\" \n",
       " [3] \"KS91_K562_ASTARRseq.Input.rep3.WGS.unstranded.bed.gz\" \n",
       " [4] \"KS91_K562_ASTARRseq.Input.rep4.WGS.unstranded.bed.gz\" \n",
       " [5] \"KS91_K562_ASTARRseq.Input.rep5.WGS.unstranded.bed.gz\" \n",
       " [6] \"KS91_K562_ASTARRseq.Input.rep6.WGS.unstranded.bed.gz\" \n",
       " [7] \"KS91_K562_ASTARRseq.Output.rep1.WGS.unstranded.bed.gz\"\n",
       " [8] \"KS91_K562_ASTARRseq.Output.rep2.WGS.unstranded.bed.gz\"\n",
       " [9] \"KS91_K562_ASTARRseq.Output.rep3.WGS.unstranded.bed.gz\"\n",
       "[10] \"KS91_K562_ASTARRseq.Output.rep4.WGS.unstranded.bed.gz\"\n",
       "[11] \"summary\"                                              "
      ]
     },
     "metadata": {},
     "output_type": "display_data"
    }
   ],
   "source": [
    "fdiry = file.path(FD_RES, \"results\", \"KS91_K562_ASTARRseq\", \"coverage_astarrseq_peak_macs_input\")\n",
    "dir(fdiry)"
   ]
  },
  {
   "cell_type": "code",
   "execution_count": 3,
   "metadata": {},
   "outputs": [],
   "source": [
    "ASSAY  = \"KS91_K562_ASTARRseq\"\n",
    "\n",
    "GROUPS  = c(\"Input\", \"Output\")\n",
    "\n",
    "SAMPLES = c(\n",
    "    paste0(\"Input.rep\",  1:6),\n",
    "    paste0(\"Output.rep\", 1:4))\n",
    "\n",
    "CNAMES = c(\"Chrom\", \"Start\", \"End\", \"Count\")\n",
    "\n",
    "get_info = function(fpath, strings){\n",
    "    idx = str_detect(string = fpath, pattern = strings)\n",
    "    return(strings[idx])\n",
    "}\n",
    "\n",
    "get_group  = function(fpath){return(get_info(fpath, GROUPS))}\n",
    "get_sample = function(fpath){return(get_info(fpath, SAMPLES))}"
   ]
  },
  {
   "cell_type": "markdown",
   "metadata": {},
   "source": [
    "## Get file paths and set metadata"
   ]
  },
  {
   "cell_type": "code",
   "execution_count": 4,
   "metadata": {},
   "outputs": [
    {
     "name": "stdout",
     "output_type": "stream",
     "text": [
      "[1] \"/data/reddylab/Kuei/out/proj_combeffect_encode_fcc/results/KS91_K562_ASTARRseq/coverage_astarrseq_peak_macs_input/KS91_K562_ASTARRseq.Input.rep1.WGS.unstranded.bed.gz\"\n",
      "[1] \"Input\"\n",
      "[1] \"Input.rep1\"\n",
      "[1] \"/data/reddylab/Kuei/out/proj_combeffect_encode_fcc/results/KS91_K562_ASTARRseq/coverage_astarrseq_peak_macs_input/KS91_K562_ASTARRseq.Input.rep2.WGS.unstranded.bed.gz\"\n",
      "[1] \"Input\"\n",
      "[1] \"Input.rep2\"\n",
      "[1] \"/data/reddylab/Kuei/out/proj_combeffect_encode_fcc/results/KS91_K562_ASTARRseq/coverage_astarrseq_peak_macs_input/KS91_K562_ASTARRseq.Input.rep3.WGS.unstranded.bed.gz\"\n",
      "[1] \"Input\"\n",
      "[1] \"Input.rep3\"\n",
      "[1] \"/data/reddylab/Kuei/out/proj_combeffect_encode_fcc/results/KS91_K562_ASTARRseq/coverage_astarrseq_peak_macs_input/KS91_K562_ASTARRseq.Input.rep4.WGS.unstranded.bed.gz\"\n",
      "[1] \"Input\"\n",
      "[1] \"Input.rep4\"\n",
      "[1] \"/data/reddylab/Kuei/out/proj_combeffect_encode_fcc/results/KS91_K562_ASTARRseq/coverage_astarrseq_peak_macs_input/KS91_K562_ASTARRseq.Input.rep5.WGS.unstranded.bed.gz\"\n",
      "[1] \"Input\"\n",
      "[1] \"Input.rep5\"\n",
      "[1] \"/data/reddylab/Kuei/out/proj_combeffect_encode_fcc/results/KS91_K562_ASTARRseq/coverage_astarrseq_peak_macs_input/KS91_K562_ASTARRseq.Input.rep6.WGS.unstranded.bed.gz\"\n",
      "[1] \"Input\"\n",
      "[1] \"Input.rep6\"\n",
      "[1] \"/data/reddylab/Kuei/out/proj_combeffect_encode_fcc/results/KS91_K562_ASTARRseq/coverage_astarrseq_peak_macs_input/KS91_K562_ASTARRseq.Output.rep1.WGS.unstranded.bed.gz\"\n",
      "[1] \"Output\"\n",
      "[1] \"Output.rep1\"\n",
      "[1] \"/data/reddylab/Kuei/out/proj_combeffect_encode_fcc/results/KS91_K562_ASTARRseq/coverage_astarrseq_peak_macs_input/KS91_K562_ASTARRseq.Output.rep2.WGS.unstranded.bed.gz\"\n",
      "[1] \"Output\"\n",
      "[1] \"Output.rep2\"\n",
      "[1] \"/data/reddylab/Kuei/out/proj_combeffect_encode_fcc/results/KS91_K562_ASTARRseq/coverage_astarrseq_peak_macs_input/KS91_K562_ASTARRseq.Output.rep3.WGS.unstranded.bed.gz\"\n",
      "[1] \"Output\"\n",
      "[1] \"Output.rep3\"\n",
      "[1] \"/data/reddylab/Kuei/out/proj_combeffect_encode_fcc/results/KS91_K562_ASTARRseq/coverage_astarrseq_peak_macs_input/KS91_K562_ASTARRseq.Output.rep4.WGS.unstranded.bed.gz\"\n",
      "[1] \"Output\"\n",
      "[1] \"Output.rep4\"\n"
     ]
    }
   ],
   "source": [
    "ASSAY  = \"KS91_K562_ASTARRseq\"\n",
    "FOLDER = \"coverage_astarrseq_peak_macs_input\"\n",
    "fglob  = file.path(FD_RES, \"results\", ASSAY, FOLDER, \"*WGS*bed.gz\")\n",
    "fpaths = Sys.glob(fglob)\n",
    "for (fpath in fpaths){\n",
    "    print(fpath)\n",
    "    print(get_group(fpath))\n",
    "    print(get_sample(fpath))\n",
    "}"
   ]
  },
  {
   "cell_type": "code",
   "execution_count": 5,
   "metadata": {},
   "outputs": [
    {
     "data": {
      "text/html": [
       "<table class=\"dataframe\">\n",
       "<caption>A data.frame: 10 × 3</caption>\n",
       "<thead>\n",
       "\t<tr><th scope=col>Sample</th><th scope=col>Group</th><th scope=col>FPath</th></tr>\n",
       "\t<tr><th scope=col>&lt;chr&gt;</th><th scope=col>&lt;chr&gt;</th><th scope=col>&lt;chr&gt;</th></tr>\n",
       "</thead>\n",
       "<tbody>\n",
       "\t<tr><td>Input.rep1 </td><td>Input </td><td>/data/reddylab/Kuei/out/proj_combeffect_encode_fcc/results/KS91_K562_ASTARRseq/coverage_astarrseq_peak_macs_input/KS91_K562_ASTARRseq.Input.rep1.WGS.unstranded.bed.gz </td></tr>\n",
       "\t<tr><td>Input.rep2 </td><td>Input </td><td>/data/reddylab/Kuei/out/proj_combeffect_encode_fcc/results/KS91_K562_ASTARRseq/coverage_astarrseq_peak_macs_input/KS91_K562_ASTARRseq.Input.rep2.WGS.unstranded.bed.gz </td></tr>\n",
       "\t<tr><td>Input.rep3 </td><td>Input </td><td>/data/reddylab/Kuei/out/proj_combeffect_encode_fcc/results/KS91_K562_ASTARRseq/coverage_astarrseq_peak_macs_input/KS91_K562_ASTARRseq.Input.rep3.WGS.unstranded.bed.gz </td></tr>\n",
       "\t<tr><td>Input.rep4 </td><td>Input </td><td>/data/reddylab/Kuei/out/proj_combeffect_encode_fcc/results/KS91_K562_ASTARRseq/coverage_astarrseq_peak_macs_input/KS91_K562_ASTARRseq.Input.rep4.WGS.unstranded.bed.gz </td></tr>\n",
       "\t<tr><td>Input.rep5 </td><td>Input </td><td>/data/reddylab/Kuei/out/proj_combeffect_encode_fcc/results/KS91_K562_ASTARRseq/coverage_astarrseq_peak_macs_input/KS91_K562_ASTARRseq.Input.rep5.WGS.unstranded.bed.gz </td></tr>\n",
       "\t<tr><td>Input.rep6 </td><td>Input </td><td>/data/reddylab/Kuei/out/proj_combeffect_encode_fcc/results/KS91_K562_ASTARRseq/coverage_astarrseq_peak_macs_input/KS91_K562_ASTARRseq.Input.rep6.WGS.unstranded.bed.gz </td></tr>\n",
       "\t<tr><td>Output.rep1</td><td>Output</td><td>/data/reddylab/Kuei/out/proj_combeffect_encode_fcc/results/KS91_K562_ASTARRseq/coverage_astarrseq_peak_macs_input/KS91_K562_ASTARRseq.Output.rep1.WGS.unstranded.bed.gz</td></tr>\n",
       "\t<tr><td>Output.rep2</td><td>Output</td><td>/data/reddylab/Kuei/out/proj_combeffect_encode_fcc/results/KS91_K562_ASTARRseq/coverage_astarrseq_peak_macs_input/KS91_K562_ASTARRseq.Output.rep2.WGS.unstranded.bed.gz</td></tr>\n",
       "\t<tr><td>Output.rep3</td><td>Output</td><td>/data/reddylab/Kuei/out/proj_combeffect_encode_fcc/results/KS91_K562_ASTARRseq/coverage_astarrseq_peak_macs_input/KS91_K562_ASTARRseq.Output.rep3.WGS.unstranded.bed.gz</td></tr>\n",
       "\t<tr><td>Output.rep4</td><td>Output</td><td>/data/reddylab/Kuei/out/proj_combeffect_encode_fcc/results/KS91_K562_ASTARRseq/coverage_astarrseq_peak_macs_input/KS91_K562_ASTARRseq.Output.rep4.WGS.unstranded.bed.gz</td></tr>\n",
       "</tbody>\n",
       "</table>\n"
      ],
      "text/latex": [
       "A data.frame: 10 × 3\n",
       "\\begin{tabular}{lll}\n",
       " Sample & Group & FPath\\\\\n",
       " <chr> & <chr> & <chr>\\\\\n",
       "\\hline\n",
       "\t Input.rep1  & Input  & /data/reddylab/Kuei/out/proj\\_combeffect\\_encode\\_fcc/results/KS91\\_K562\\_ASTARRseq/coverage\\_astarrseq\\_peak\\_macs\\_input/KS91\\_K562\\_ASTARRseq.Input.rep1.WGS.unstranded.bed.gz \\\\\n",
       "\t Input.rep2  & Input  & /data/reddylab/Kuei/out/proj\\_combeffect\\_encode\\_fcc/results/KS91\\_K562\\_ASTARRseq/coverage\\_astarrseq\\_peak\\_macs\\_input/KS91\\_K562\\_ASTARRseq.Input.rep2.WGS.unstranded.bed.gz \\\\\n",
       "\t Input.rep3  & Input  & /data/reddylab/Kuei/out/proj\\_combeffect\\_encode\\_fcc/results/KS91\\_K562\\_ASTARRseq/coverage\\_astarrseq\\_peak\\_macs\\_input/KS91\\_K562\\_ASTARRseq.Input.rep3.WGS.unstranded.bed.gz \\\\\n",
       "\t Input.rep4  & Input  & /data/reddylab/Kuei/out/proj\\_combeffect\\_encode\\_fcc/results/KS91\\_K562\\_ASTARRseq/coverage\\_astarrseq\\_peak\\_macs\\_input/KS91\\_K562\\_ASTARRseq.Input.rep4.WGS.unstranded.bed.gz \\\\\n",
       "\t Input.rep5  & Input  & /data/reddylab/Kuei/out/proj\\_combeffect\\_encode\\_fcc/results/KS91\\_K562\\_ASTARRseq/coverage\\_astarrseq\\_peak\\_macs\\_input/KS91\\_K562\\_ASTARRseq.Input.rep5.WGS.unstranded.bed.gz \\\\\n",
       "\t Input.rep6  & Input  & /data/reddylab/Kuei/out/proj\\_combeffect\\_encode\\_fcc/results/KS91\\_K562\\_ASTARRseq/coverage\\_astarrseq\\_peak\\_macs\\_input/KS91\\_K562\\_ASTARRseq.Input.rep6.WGS.unstranded.bed.gz \\\\\n",
       "\t Output.rep1 & Output & /data/reddylab/Kuei/out/proj\\_combeffect\\_encode\\_fcc/results/KS91\\_K562\\_ASTARRseq/coverage\\_astarrseq\\_peak\\_macs\\_input/KS91\\_K562\\_ASTARRseq.Output.rep1.WGS.unstranded.bed.gz\\\\\n",
       "\t Output.rep2 & Output & /data/reddylab/Kuei/out/proj\\_combeffect\\_encode\\_fcc/results/KS91\\_K562\\_ASTARRseq/coverage\\_astarrseq\\_peak\\_macs\\_input/KS91\\_K562\\_ASTARRseq.Output.rep2.WGS.unstranded.bed.gz\\\\\n",
       "\t Output.rep3 & Output & /data/reddylab/Kuei/out/proj\\_combeffect\\_encode\\_fcc/results/KS91\\_K562\\_ASTARRseq/coverage\\_astarrseq\\_peak\\_macs\\_input/KS91\\_K562\\_ASTARRseq.Output.rep3.WGS.unstranded.bed.gz\\\\\n",
       "\t Output.rep4 & Output & /data/reddylab/Kuei/out/proj\\_combeffect\\_encode\\_fcc/results/KS91\\_K562\\_ASTARRseq/coverage\\_astarrseq\\_peak\\_macs\\_input/KS91\\_K562\\_ASTARRseq.Output.rep4.WGS.unstranded.bed.gz\\\\\n",
       "\\end{tabular}\n"
      ],
      "text/markdown": [
       "\n",
       "A data.frame: 10 × 3\n",
       "\n",
       "| Sample &lt;chr&gt; | Group &lt;chr&gt; | FPath &lt;chr&gt; |\n",
       "|---|---|---|\n",
       "| Input.rep1  | Input  | /data/reddylab/Kuei/out/proj_combeffect_encode_fcc/results/KS91_K562_ASTARRseq/coverage_astarrseq_peak_macs_input/KS91_K562_ASTARRseq.Input.rep1.WGS.unstranded.bed.gz  |\n",
       "| Input.rep2  | Input  | /data/reddylab/Kuei/out/proj_combeffect_encode_fcc/results/KS91_K562_ASTARRseq/coverage_astarrseq_peak_macs_input/KS91_K562_ASTARRseq.Input.rep2.WGS.unstranded.bed.gz  |\n",
       "| Input.rep3  | Input  | /data/reddylab/Kuei/out/proj_combeffect_encode_fcc/results/KS91_K562_ASTARRseq/coverage_astarrseq_peak_macs_input/KS91_K562_ASTARRseq.Input.rep3.WGS.unstranded.bed.gz  |\n",
       "| Input.rep4  | Input  | /data/reddylab/Kuei/out/proj_combeffect_encode_fcc/results/KS91_K562_ASTARRseq/coverage_astarrseq_peak_macs_input/KS91_K562_ASTARRseq.Input.rep4.WGS.unstranded.bed.gz  |\n",
       "| Input.rep5  | Input  | /data/reddylab/Kuei/out/proj_combeffect_encode_fcc/results/KS91_K562_ASTARRseq/coverage_astarrseq_peak_macs_input/KS91_K562_ASTARRseq.Input.rep5.WGS.unstranded.bed.gz  |\n",
       "| Input.rep6  | Input  | /data/reddylab/Kuei/out/proj_combeffect_encode_fcc/results/KS91_K562_ASTARRseq/coverage_astarrseq_peak_macs_input/KS91_K562_ASTARRseq.Input.rep6.WGS.unstranded.bed.gz  |\n",
       "| Output.rep1 | Output | /data/reddylab/Kuei/out/proj_combeffect_encode_fcc/results/KS91_K562_ASTARRseq/coverage_astarrseq_peak_macs_input/KS91_K562_ASTARRseq.Output.rep1.WGS.unstranded.bed.gz |\n",
       "| Output.rep2 | Output | /data/reddylab/Kuei/out/proj_combeffect_encode_fcc/results/KS91_K562_ASTARRseq/coverage_astarrseq_peak_macs_input/KS91_K562_ASTARRseq.Output.rep2.WGS.unstranded.bed.gz |\n",
       "| Output.rep3 | Output | /data/reddylab/Kuei/out/proj_combeffect_encode_fcc/results/KS91_K562_ASTARRseq/coverage_astarrseq_peak_macs_input/KS91_K562_ASTARRseq.Output.rep3.WGS.unstranded.bed.gz |\n",
       "| Output.rep4 | Output | /data/reddylab/Kuei/out/proj_combeffect_encode_fcc/results/KS91_K562_ASTARRseq/coverage_astarrseq_peak_macs_input/KS91_K562_ASTARRseq.Output.rep4.WGS.unstranded.bed.gz |\n",
       "\n"
      ],
      "text/plain": [
       "   Sample      Group \n",
       "1  Input.rep1  Input \n",
       "2  Input.rep2  Input \n",
       "3  Input.rep3  Input \n",
       "4  Input.rep4  Input \n",
       "5  Input.rep5  Input \n",
       "6  Input.rep6  Input \n",
       "7  Output.rep1 Output\n",
       "8  Output.rep2 Output\n",
       "9  Output.rep3 Output\n",
       "10 Output.rep4 Output\n",
       "   FPath                                                                                                                                                                  \n",
       "1  /data/reddylab/Kuei/out/proj_combeffect_encode_fcc/results/KS91_K562_ASTARRseq/coverage_astarrseq_peak_macs_input/KS91_K562_ASTARRseq.Input.rep1.WGS.unstranded.bed.gz \n",
       "2  /data/reddylab/Kuei/out/proj_combeffect_encode_fcc/results/KS91_K562_ASTARRseq/coverage_astarrseq_peak_macs_input/KS91_K562_ASTARRseq.Input.rep2.WGS.unstranded.bed.gz \n",
       "3  /data/reddylab/Kuei/out/proj_combeffect_encode_fcc/results/KS91_K562_ASTARRseq/coverage_astarrseq_peak_macs_input/KS91_K562_ASTARRseq.Input.rep3.WGS.unstranded.bed.gz \n",
       "4  /data/reddylab/Kuei/out/proj_combeffect_encode_fcc/results/KS91_K562_ASTARRseq/coverage_astarrseq_peak_macs_input/KS91_K562_ASTARRseq.Input.rep4.WGS.unstranded.bed.gz \n",
       "5  /data/reddylab/Kuei/out/proj_combeffect_encode_fcc/results/KS91_K562_ASTARRseq/coverage_astarrseq_peak_macs_input/KS91_K562_ASTARRseq.Input.rep5.WGS.unstranded.bed.gz \n",
       "6  /data/reddylab/Kuei/out/proj_combeffect_encode_fcc/results/KS91_K562_ASTARRseq/coverage_astarrseq_peak_macs_input/KS91_K562_ASTARRseq.Input.rep6.WGS.unstranded.bed.gz \n",
       "7  /data/reddylab/Kuei/out/proj_combeffect_encode_fcc/results/KS91_K562_ASTARRseq/coverage_astarrseq_peak_macs_input/KS91_K562_ASTARRseq.Output.rep1.WGS.unstranded.bed.gz\n",
       "8  /data/reddylab/Kuei/out/proj_combeffect_encode_fcc/results/KS91_K562_ASTARRseq/coverage_astarrseq_peak_macs_input/KS91_K562_ASTARRseq.Output.rep2.WGS.unstranded.bed.gz\n",
       "9  /data/reddylab/Kuei/out/proj_combeffect_encode_fcc/results/KS91_K562_ASTARRseq/coverage_astarrseq_peak_macs_input/KS91_K562_ASTARRseq.Output.rep3.WGS.unstranded.bed.gz\n",
       "10 /data/reddylab/Kuei/out/proj_combeffect_encode_fcc/results/KS91_K562_ASTARRseq/coverage_astarrseq_peak_macs_input/KS91_K562_ASTARRseq.Output.rep4.WGS.unstranded.bed.gz"
      ]
     },
     "metadata": {},
     "output_type": "display_data"
    }
   ],
   "source": [
    "dat_meta = data.frame(\n",
    "    Sample = sapply(fpaths, get_sample),\n",
    "    Group  = sapply(fpaths, get_group),\n",
    "    FPath  = fpaths,\n",
    "    row.names = NULL\n",
    ")\n",
    "dat_meta"
   ]
  },
  {
   "cell_type": "markdown",
   "metadata": {},
   "source": [
    "## Import data"
   ]
  },
  {
   "cell_type": "code",
   "execution_count": 6,
   "metadata": {},
   "outputs": [
    {
     "data": {
      "text/html": [
       "<table class=\"dataframe\">\n",
       "<caption>A tibble: 6 × 6</caption>\n",
       "<thead>\n",
       "\t<tr><th scope=col>Chrom</th><th scope=col>Start</th><th scope=col>End</th><th scope=col>Count</th><th scope=col>Peak</th><th scope=col>Sample</th></tr>\n",
       "\t<tr><th scope=col>&lt;chr&gt;</th><th scope=col>&lt;dbl&gt;</th><th scope=col>&lt;dbl&gt;</th><th scope=col>&lt;int&gt;</th><th scope=col>&lt;chr&gt;</th><th scope=col>&lt;chr&gt;</th></tr>\n",
       "</thead>\n",
       "<tbody>\n",
       "\t<tr><td>chr1</td><td>10015</td><td>10442</td><td>155</td><td>chr1:10015-10442</td><td>Input.rep1</td></tr>\n",
       "\t<tr><td>chr1</td><td>14253</td><td>14645</td><td>110</td><td>chr1:14253-14645</td><td>Input.rep1</td></tr>\n",
       "\t<tr><td>chr1</td><td>16015</td><td>16477</td><td>141</td><td>chr1:16015-16477</td><td>Input.rep1</td></tr>\n",
       "\t<tr><td>chr1</td><td>17237</td><td>17772</td><td>259</td><td>chr1:17237-17772</td><td>Input.rep1</td></tr>\n",
       "\t<tr><td>chr1</td><td>28903</td><td>29613</td><td>263</td><td>chr1:28903-29613</td><td>Input.rep1</td></tr>\n",
       "\t<tr><td>chr1</td><td>30803</td><td>31072</td><td> 82</td><td>chr1:30803-31072</td><td>Input.rep1</td></tr>\n",
       "</tbody>\n",
       "</table>\n"
      ],
      "text/latex": [
       "A tibble: 6 × 6\n",
       "\\begin{tabular}{llllll}\n",
       " Chrom & Start & End & Count & Peak & Sample\\\\\n",
       " <chr> & <dbl> & <dbl> & <int> & <chr> & <chr>\\\\\n",
       "\\hline\n",
       "\t chr1 & 10015 & 10442 & 155 & chr1:10015-10442 & Input.rep1\\\\\n",
       "\t chr1 & 14253 & 14645 & 110 & chr1:14253-14645 & Input.rep1\\\\\n",
       "\t chr1 & 16015 & 16477 & 141 & chr1:16015-16477 & Input.rep1\\\\\n",
       "\t chr1 & 17237 & 17772 & 259 & chr1:17237-17772 & Input.rep1\\\\\n",
       "\t chr1 & 28903 & 29613 & 263 & chr1:28903-29613 & Input.rep1\\\\\n",
       "\t chr1 & 30803 & 31072 &  82 & chr1:30803-31072 & Input.rep1\\\\\n",
       "\\end{tabular}\n"
      ],
      "text/markdown": [
       "\n",
       "A tibble: 6 × 6\n",
       "\n",
       "| Chrom &lt;chr&gt; | Start &lt;dbl&gt; | End &lt;dbl&gt; | Count &lt;int&gt; | Peak &lt;chr&gt; | Sample &lt;chr&gt; |\n",
       "|---|---|---|---|---|---|\n",
       "| chr1 | 10015 | 10442 | 155 | chr1:10015-10442 | Input.rep1 |\n",
       "| chr1 | 14253 | 14645 | 110 | chr1:14253-14645 | Input.rep1 |\n",
       "| chr1 | 16015 | 16477 | 141 | chr1:16015-16477 | Input.rep1 |\n",
       "| chr1 | 17237 | 17772 | 259 | chr1:17237-17772 | Input.rep1 |\n",
       "| chr1 | 28903 | 29613 | 263 | chr1:28903-29613 | Input.rep1 |\n",
       "| chr1 | 30803 | 31072 |  82 | chr1:30803-31072 | Input.rep1 |\n",
       "\n"
      ],
      "text/plain": [
       "  Chrom Start End   Count Peak             Sample    \n",
       "1 chr1  10015 10442 155   chr1:10015-10442 Input.rep1\n",
       "2 chr1  14253 14645 110   chr1:14253-14645 Input.rep1\n",
       "3 chr1  16015 16477 141   chr1:16015-16477 Input.rep1\n",
       "4 chr1  17237 17772 259   chr1:17237-17772 Input.rep1\n",
       "5 chr1  28903 29613 263   chr1:28903-29613 Input.rep1\n",
       "6 chr1  30803 31072  82   chr1:30803-31072 Input.rep1"
      ]
     },
     "metadata": {},
     "output_type": "display_data"
    }
   ],
   "source": [
    "cnames = c(\"Chrom\", \"Start\", \"End\", \"Count\")\n",
    "ctypes = c(col_character(), col_integer(), col_integer(), col_integer())\n",
    "\n",
    "lst = lapply(fpaths, function(fpath){\n",
    "    sam = get_sample(fpath)\n",
    "    dat = read_tsv(fpath, col_names = cnames, col_types = ctypes) %>% \n",
    "        dplyr::filter(Count != \".\") %>% \n",
    "        dplyr::mutate(Count  = as.integer(Count)) %>%\n",
    "        dplyr::mutate(\n",
    "            Peak   = paste0(Chrom, \":\", Start, \"-\", End),\n",
    "            Sample = sam)\n",
    "    return(dat)\n",
    "})\n",
    "\n",
    "dat_count = bind_rows(lst)\n",
    "head(dat_count)"
   ]
  },
  {
   "cell_type": "code",
   "execution_count": 7,
   "metadata": {},
   "outputs": [
    {
     "data": {
      "text/html": [
       "<table class=\"dataframe\">\n",
       "<caption>A spec_tbl_df: 10 × 7</caption>\n",
       "<thead>\n",
       "\t<tr><th scope=col>FName</th><th scope=col>Size</th><th scope=col>Prefix</th><th scope=col>Sample</th><th scope=col>Group</th><th scope=col>Type</th><th scope=col>Genome</th></tr>\n",
       "\t<tr><th scope=col>&lt;chr&gt;</th><th scope=col>&lt;dbl&gt;</th><th scope=col>&lt;chr&gt;</th><th scope=col>&lt;chr&gt;</th><th scope=col>&lt;chr&gt;</th><th scope=col>&lt;chr&gt;</th><th scope=col>&lt;chr&gt;</th></tr>\n",
       "</thead>\n",
       "<tbody>\n",
       "\t<tr><td>KS91_K562_ASTARRseq.Input.rep1.WGS.unstranded.bed.gz </td><td>348695063</td><td>KS91_K562_ASTARRseq</td><td>Input.rep1 </td><td>Input </td><td>raw</td><td>hg38</td></tr>\n",
       "\t<tr><td>KS91_K562_ASTARRseq.Input.rep2.WGS.unstranded.bed.gz </td><td>451369741</td><td>KS91_K562_ASTARRseq</td><td>Input.rep2 </td><td>Input </td><td>raw</td><td>hg38</td></tr>\n",
       "\t<tr><td>KS91_K562_ASTARRseq.Input.rep3.WGS.unstranded.bed.gz </td><td>487579055</td><td>KS91_K562_ASTARRseq</td><td>Input.rep3 </td><td>Input </td><td>raw</td><td>hg38</td></tr>\n",
       "\t<tr><td>KS91_K562_ASTARRseq.Input.rep4.WGS.unstranded.bed.gz </td><td>456246254</td><td>KS91_K562_ASTARRseq</td><td>Input.rep4 </td><td>Input </td><td>raw</td><td>hg38</td></tr>\n",
       "\t<tr><td>KS91_K562_ASTARRseq.Input.rep5.WGS.unstranded.bed.gz </td><td>444268950</td><td>KS91_K562_ASTARRseq</td><td>Input.rep5 </td><td>Input </td><td>raw</td><td>hg38</td></tr>\n",
       "\t<tr><td>KS91_K562_ASTARRseq.Input.rep6.WGS.unstranded.bed.gz </td><td>397333562</td><td>KS91_K562_ASTARRseq</td><td>Input.rep6 </td><td>Input </td><td>raw</td><td>hg38</td></tr>\n",
       "\t<tr><td>KS91_K562_ASTARRseq.Output.rep1.WGS.unstranded.bed.gz</td><td> 44103844</td><td>KS91_K562_ASTARRseq</td><td>Output.rep1</td><td>Output</td><td>raw</td><td>hg38</td></tr>\n",
       "\t<tr><td>KS91_K562_ASTARRseq.Output.rep2.WGS.unstranded.bed.gz</td><td> 97471282</td><td>KS91_K562_ASTARRseq</td><td>Output.rep2</td><td>Output</td><td>raw</td><td>hg38</td></tr>\n",
       "\t<tr><td>KS91_K562_ASTARRseq.Output.rep3.WGS.unstranded.bed.gz</td><td> 84103298</td><td>KS91_K562_ASTARRseq</td><td>Output.rep3</td><td>Output</td><td>raw</td><td>hg38</td></tr>\n",
       "\t<tr><td>KS91_K562_ASTARRseq.Output.rep4.WGS.unstranded.bed.gz</td><td>183115379</td><td>KS91_K562_ASTARRseq</td><td>Output.rep4</td><td>Output</td><td>raw</td><td>hg38</td></tr>\n",
       "</tbody>\n",
       "</table>\n"
      ],
      "text/latex": [
       "A spec\\_tbl\\_df: 10 × 7\n",
       "\\begin{tabular}{lllllll}\n",
       " FName & Size & Prefix & Sample & Group & Type & Genome\\\\\n",
       " <chr> & <dbl> & <chr> & <chr> & <chr> & <chr> & <chr>\\\\\n",
       "\\hline\n",
       "\t KS91\\_K562\\_ASTARRseq.Input.rep1.WGS.unstranded.bed.gz  & 348695063 & KS91\\_K562\\_ASTARRseq & Input.rep1  & Input  & raw & hg38\\\\\n",
       "\t KS91\\_K562\\_ASTARRseq.Input.rep2.WGS.unstranded.bed.gz  & 451369741 & KS91\\_K562\\_ASTARRseq & Input.rep2  & Input  & raw & hg38\\\\\n",
       "\t KS91\\_K562\\_ASTARRseq.Input.rep3.WGS.unstranded.bed.gz  & 487579055 & KS91\\_K562\\_ASTARRseq & Input.rep3  & Input  & raw & hg38\\\\\n",
       "\t KS91\\_K562\\_ASTARRseq.Input.rep4.WGS.unstranded.bed.gz  & 456246254 & KS91\\_K562\\_ASTARRseq & Input.rep4  & Input  & raw & hg38\\\\\n",
       "\t KS91\\_K562\\_ASTARRseq.Input.rep5.WGS.unstranded.bed.gz  & 444268950 & KS91\\_K562\\_ASTARRseq & Input.rep5  & Input  & raw & hg38\\\\\n",
       "\t KS91\\_K562\\_ASTARRseq.Input.rep6.WGS.unstranded.bed.gz  & 397333562 & KS91\\_K562\\_ASTARRseq & Input.rep6  & Input  & raw & hg38\\\\\n",
       "\t KS91\\_K562\\_ASTARRseq.Output.rep1.WGS.unstranded.bed.gz &  44103844 & KS91\\_K562\\_ASTARRseq & Output.rep1 & Output & raw & hg38\\\\\n",
       "\t KS91\\_K562\\_ASTARRseq.Output.rep2.WGS.unstranded.bed.gz &  97471282 & KS91\\_K562\\_ASTARRseq & Output.rep2 & Output & raw & hg38\\\\\n",
       "\t KS91\\_K562\\_ASTARRseq.Output.rep3.WGS.unstranded.bed.gz &  84103298 & KS91\\_K562\\_ASTARRseq & Output.rep3 & Output & raw & hg38\\\\\n",
       "\t KS91\\_K562\\_ASTARRseq.Output.rep4.WGS.unstranded.bed.gz & 183115379 & KS91\\_K562\\_ASTARRseq & Output.rep4 & Output & raw & hg38\\\\\n",
       "\\end{tabular}\n"
      ],
      "text/markdown": [
       "\n",
       "A spec_tbl_df: 10 × 7\n",
       "\n",
       "| FName &lt;chr&gt; | Size &lt;dbl&gt; | Prefix &lt;chr&gt; | Sample &lt;chr&gt; | Group &lt;chr&gt; | Type &lt;chr&gt; | Genome &lt;chr&gt; |\n",
       "|---|---|---|---|---|---|---|\n",
       "| KS91_K562_ASTARRseq.Input.rep1.WGS.unstranded.bed.gz  | 348695063 | KS91_K562_ASTARRseq | Input.rep1  | Input  | raw | hg38 |\n",
       "| KS91_K562_ASTARRseq.Input.rep2.WGS.unstranded.bed.gz  | 451369741 | KS91_K562_ASTARRseq | Input.rep2  | Input  | raw | hg38 |\n",
       "| KS91_K562_ASTARRseq.Input.rep3.WGS.unstranded.bed.gz  | 487579055 | KS91_K562_ASTARRseq | Input.rep3  | Input  | raw | hg38 |\n",
       "| KS91_K562_ASTARRseq.Input.rep4.WGS.unstranded.bed.gz  | 456246254 | KS91_K562_ASTARRseq | Input.rep4  | Input  | raw | hg38 |\n",
       "| KS91_K562_ASTARRseq.Input.rep5.WGS.unstranded.bed.gz  | 444268950 | KS91_K562_ASTARRseq | Input.rep5  | Input  | raw | hg38 |\n",
       "| KS91_K562_ASTARRseq.Input.rep6.WGS.unstranded.bed.gz  | 397333562 | KS91_K562_ASTARRseq | Input.rep6  | Input  | raw | hg38 |\n",
       "| KS91_K562_ASTARRseq.Output.rep1.WGS.unstranded.bed.gz |  44103844 | KS91_K562_ASTARRseq | Output.rep1 | Output | raw | hg38 |\n",
       "| KS91_K562_ASTARRseq.Output.rep2.WGS.unstranded.bed.gz |  97471282 | KS91_K562_ASTARRseq | Output.rep2 | Output | raw | hg38 |\n",
       "| KS91_K562_ASTARRseq.Output.rep3.WGS.unstranded.bed.gz |  84103298 | KS91_K562_ASTARRseq | Output.rep3 | Output | raw | hg38 |\n",
       "| KS91_K562_ASTARRseq.Output.rep4.WGS.unstranded.bed.gz | 183115379 | KS91_K562_ASTARRseq | Output.rep4 | Output | raw | hg38 |\n",
       "\n"
      ],
      "text/plain": [
       "   FName                                                 Size     \n",
       "1  KS91_K562_ASTARRseq.Input.rep1.WGS.unstranded.bed.gz  348695063\n",
       "2  KS91_K562_ASTARRseq.Input.rep2.WGS.unstranded.bed.gz  451369741\n",
       "3  KS91_K562_ASTARRseq.Input.rep3.WGS.unstranded.bed.gz  487579055\n",
       "4  KS91_K562_ASTARRseq.Input.rep4.WGS.unstranded.bed.gz  456246254\n",
       "5  KS91_K562_ASTARRseq.Input.rep5.WGS.unstranded.bed.gz  444268950\n",
       "6  KS91_K562_ASTARRseq.Input.rep6.WGS.unstranded.bed.gz  397333562\n",
       "7  KS91_K562_ASTARRseq.Output.rep1.WGS.unstranded.bed.gz  44103844\n",
       "8  KS91_K562_ASTARRseq.Output.rep2.WGS.unstranded.bed.gz  97471282\n",
       "9  KS91_K562_ASTARRseq.Output.rep3.WGS.unstranded.bed.gz  84103298\n",
       "10 KS91_K562_ASTARRseq.Output.rep4.WGS.unstranded.bed.gz 183115379\n",
       "   Prefix              Sample      Group  Type Genome\n",
       "1  KS91_K562_ASTARRseq Input.rep1  Input  raw  hg38  \n",
       "2  KS91_K562_ASTARRseq Input.rep2  Input  raw  hg38  \n",
       "3  KS91_K562_ASTARRseq Input.rep3  Input  raw  hg38  \n",
       "4  KS91_K562_ASTARRseq Input.rep4  Input  raw  hg38  \n",
       "5  KS91_K562_ASTARRseq Input.rep5  Input  raw  hg38  \n",
       "6  KS91_K562_ASTARRseq Input.rep6  Input  raw  hg38  \n",
       "7  KS91_K562_ASTARRseq Output.rep1 Output raw  hg38  \n",
       "8  KS91_K562_ASTARRseq Output.rep2 Output raw  hg38  \n",
       "9  KS91_K562_ASTARRseq Output.rep3 Output raw  hg38  \n",
       "10 KS91_K562_ASTARRseq Output.rep4 Output raw  hg38  "
      ]
     },
     "metadata": {},
     "output_type": "display_data"
    }
   ],
   "source": [
    "fdiry = file.path(FD_RES, \"results\", ASSAY, \"coverage\", \"summary\")\n",
    "fname = \"library_size_summary.tsv\"\n",
    "fpath = file.path(fdiry, fname)\n",
    "dat_lib = read_tsv(fpath, show_col_types = FALSE)\n",
    "dat_lib"
   ]
  },
  {
   "cell_type": "markdown",
   "metadata": {},
   "source": [
    "## Calulate CPM"
   ]
  },
  {
   "cell_type": "code",
   "execution_count": 8,
   "metadata": {},
   "outputs": [
    {
     "name": "stdout",
     "output_type": "stream",
     "text": [
      "[1] 2464996       7\n"
     ]
    },
    {
     "data": {
      "text/html": [
       "<table class=\"dataframe\">\n",
       "<caption>A tibble: 6 × 7</caption>\n",
       "<thead>\n",
       "\t<tr><th scope=col>Chrom</th><th scope=col>Start</th><th scope=col>End</th><th scope=col>Peak</th><th scope=col>Sample</th><th scope=col>Count</th><th scope=col>CPM</th></tr>\n",
       "\t<tr><th scope=col>&lt;chr&gt;</th><th scope=col>&lt;dbl&gt;</th><th scope=col>&lt;dbl&gt;</th><th scope=col>&lt;chr&gt;</th><th scope=col>&lt;chr&gt;</th><th scope=col>&lt;int&gt;</th><th scope=col>&lt;dbl&gt;</th></tr>\n",
       "</thead>\n",
       "<tbody>\n",
       "\t<tr><td>chr1</td><td>10015</td><td>10442</td><td>chr1:10015-10442</td><td>Input.rep1</td><td>155</td><td>0.4445145</td></tr>\n",
       "\t<tr><td>chr1</td><td>14253</td><td>14645</td><td>chr1:14253-14645</td><td>Input.rep1</td><td>110</td><td>0.3154619</td></tr>\n",
       "\t<tr><td>chr1</td><td>16015</td><td>16477</td><td>chr1:16015-16477</td><td>Input.rep1</td><td>141</td><td>0.4043648</td></tr>\n",
       "\t<tr><td>chr1</td><td>17237</td><td>17772</td><td>chr1:17237-17772</td><td>Input.rep1</td><td>259</td><td>0.7427693</td></tr>\n",
       "\t<tr><td>chr1</td><td>28903</td><td>29613</td><td>chr1:28903-29613</td><td>Input.rep1</td><td>263</td><td>0.7542407</td></tr>\n",
       "\t<tr><td>chr1</td><td>30803</td><td>31072</td><td>chr1:30803-31072</td><td>Input.rep1</td><td> 82</td><td>0.2351625</td></tr>\n",
       "</tbody>\n",
       "</table>\n"
      ],
      "text/latex": [
       "A tibble: 6 × 7\n",
       "\\begin{tabular}{lllllll}\n",
       " Chrom & Start & End & Peak & Sample & Count & CPM\\\\\n",
       " <chr> & <dbl> & <dbl> & <chr> & <chr> & <int> & <dbl>\\\\\n",
       "\\hline\n",
       "\t chr1 & 10015 & 10442 & chr1:10015-10442 & Input.rep1 & 155 & 0.4445145\\\\\n",
       "\t chr1 & 14253 & 14645 & chr1:14253-14645 & Input.rep1 & 110 & 0.3154619\\\\\n",
       "\t chr1 & 16015 & 16477 & chr1:16015-16477 & Input.rep1 & 141 & 0.4043648\\\\\n",
       "\t chr1 & 17237 & 17772 & chr1:17237-17772 & Input.rep1 & 259 & 0.7427693\\\\\n",
       "\t chr1 & 28903 & 29613 & chr1:28903-29613 & Input.rep1 & 263 & 0.7542407\\\\\n",
       "\t chr1 & 30803 & 31072 & chr1:30803-31072 & Input.rep1 &  82 & 0.2351625\\\\\n",
       "\\end{tabular}\n"
      ],
      "text/markdown": [
       "\n",
       "A tibble: 6 × 7\n",
       "\n",
       "| Chrom &lt;chr&gt; | Start &lt;dbl&gt; | End &lt;dbl&gt; | Peak &lt;chr&gt; | Sample &lt;chr&gt; | Count &lt;int&gt; | CPM &lt;dbl&gt; |\n",
       "|---|---|---|---|---|---|---|\n",
       "| chr1 | 10015 | 10442 | chr1:10015-10442 | Input.rep1 | 155 | 0.4445145 |\n",
       "| chr1 | 14253 | 14645 | chr1:14253-14645 | Input.rep1 | 110 | 0.3154619 |\n",
       "| chr1 | 16015 | 16477 | chr1:16015-16477 | Input.rep1 | 141 | 0.4043648 |\n",
       "| chr1 | 17237 | 17772 | chr1:17237-17772 | Input.rep1 | 259 | 0.7427693 |\n",
       "| chr1 | 28903 | 29613 | chr1:28903-29613 | Input.rep1 | 263 | 0.7542407 |\n",
       "| chr1 | 30803 | 31072 | chr1:30803-31072 | Input.rep1 |  82 | 0.2351625 |\n",
       "\n"
      ],
      "text/plain": [
       "  Chrom Start End   Peak             Sample     Count CPM      \n",
       "1 chr1  10015 10442 chr1:10015-10442 Input.rep1 155   0.4445145\n",
       "2 chr1  14253 14645 chr1:14253-14645 Input.rep1 110   0.3154619\n",
       "3 chr1  16015 16477 chr1:16015-16477 Input.rep1 141   0.4043648\n",
       "4 chr1  17237 17772 chr1:17237-17772 Input.rep1 259   0.7427693\n",
       "5 chr1  28903 29613 chr1:28903-29613 Input.rep1 263   0.7542407\n",
       "6 chr1  30803 31072 chr1:30803-31072 Input.rep1  82   0.2351625"
      ]
     },
     "metadata": {},
     "output_type": "display_data"
    }
   ],
   "source": [
    "###\n",
    "dat = left_join(dat_count, dat_lib, by = \"Sample\")\n",
    "dat = dat %>%\n",
    "    dplyr::mutate(CPM = Count * 10^6 / Size) %>%\n",
    "    dplyr::select(Chrom, Start, End, Peak, Sample, Count, CPM)\n",
    "\n",
    "###\n",
    "dat_count_cpm = dat\n",
    "print(dim(dat))\n",
    "head(dat)"
   ]
  },
  {
   "cell_type": "markdown",
   "metadata": {},
   "source": [
    "## Arrange to matrix"
   ]
  },
  {
   "cell_type": "code",
   "execution_count": 9,
   "metadata": {},
   "outputs": [
    {
     "name": "stdout",
     "output_type": "stream",
     "text": [
      "[1] 246852     11\n"
     ]
    },
    {
     "data": {
      "text/html": [
       "<table class=\"dataframe\">\n",
       "<caption>A tibble: 6 × 11</caption>\n",
       "<thead>\n",
       "\t<tr><th scope=col>Peak</th><th scope=col>Input.rep1</th><th scope=col>Input.rep2</th><th scope=col>Input.rep3</th><th scope=col>Input.rep4</th><th scope=col>Input.rep5</th><th scope=col>Input.rep6</th><th scope=col>Output.rep1</th><th scope=col>Output.rep2</th><th scope=col>Output.rep3</th><th scope=col>Output.rep4</th></tr>\n",
       "\t<tr><th scope=col>&lt;chr&gt;</th><th scope=col>&lt;int&gt;</th><th scope=col>&lt;int&gt;</th><th scope=col>&lt;int&gt;</th><th scope=col>&lt;int&gt;</th><th scope=col>&lt;int&gt;</th><th scope=col>&lt;int&gt;</th><th scope=col>&lt;int&gt;</th><th scope=col>&lt;int&gt;</th><th scope=col>&lt;int&gt;</th><th scope=col>&lt;int&gt;</th></tr>\n",
       "</thead>\n",
       "<tbody>\n",
       "\t<tr><td>chr1:100006256-100006880</td><td>121</td><td>176</td><td>180</td><td>155</td><td>147</td><td>152</td><td>10</td><td> 32</td><td> 24</td><td> 51</td></tr>\n",
       "\t<tr><td>chr1:100010437-100010915</td><td>103</td><td>122</td><td>125</td><td>146</td><td>123</td><td>119</td><td> 2</td><td>  9</td><td> 15</td><td> 28</td></tr>\n",
       "\t<tr><td>chr1:10002087-10003910  </td><td>399</td><td>561</td><td>538</td><td>546</td><td>536</td><td>458</td><td>28</td><td> 77</td><td> 70</td><td>127</td></tr>\n",
       "\t<tr><td>chr1:100021298-100021629</td><td> 79</td><td>106</td><td>121</td><td>106</td><td> 96</td><td> 92</td><td> 2</td><td>  7</td><td> 12</td><td> 16</td></tr>\n",
       "\t<tr><td>chr1:100023727-100023976</td><td> 48</td><td> 72</td><td> 72</td><td> 68</td><td> 79</td><td> 57</td><td>11</td><td> 11</td><td>  7</td><td> 14</td></tr>\n",
       "\t<tr><td>chr1:100027983-100029702</td><td>480</td><td>611</td><td>744</td><td>697</td><td>676</td><td>573</td><td>37</td><td>108</td><td>110</td><td>165</td></tr>\n",
       "</tbody>\n",
       "</table>\n"
      ],
      "text/latex": [
       "A tibble: 6 × 11\n",
       "\\begin{tabular}{lllllllllll}\n",
       " Peak & Input.rep1 & Input.rep2 & Input.rep3 & Input.rep4 & Input.rep5 & Input.rep6 & Output.rep1 & Output.rep2 & Output.rep3 & Output.rep4\\\\\n",
       " <chr> & <int> & <int> & <int> & <int> & <int> & <int> & <int> & <int> & <int> & <int>\\\\\n",
       "\\hline\n",
       "\t chr1:100006256-100006880 & 121 & 176 & 180 & 155 & 147 & 152 & 10 &  32 &  24 &  51\\\\\n",
       "\t chr1:100010437-100010915 & 103 & 122 & 125 & 146 & 123 & 119 &  2 &   9 &  15 &  28\\\\\n",
       "\t chr1:10002087-10003910   & 399 & 561 & 538 & 546 & 536 & 458 & 28 &  77 &  70 & 127\\\\\n",
       "\t chr1:100021298-100021629 &  79 & 106 & 121 & 106 &  96 &  92 &  2 &   7 &  12 &  16\\\\\n",
       "\t chr1:100023727-100023976 &  48 &  72 &  72 &  68 &  79 &  57 & 11 &  11 &   7 &  14\\\\\n",
       "\t chr1:100027983-100029702 & 480 & 611 & 744 & 697 & 676 & 573 & 37 & 108 & 110 & 165\\\\\n",
       "\\end{tabular}\n"
      ],
      "text/markdown": [
       "\n",
       "A tibble: 6 × 11\n",
       "\n",
       "| Peak &lt;chr&gt; | Input.rep1 &lt;int&gt; | Input.rep2 &lt;int&gt; | Input.rep3 &lt;int&gt; | Input.rep4 &lt;int&gt; | Input.rep5 &lt;int&gt; | Input.rep6 &lt;int&gt; | Output.rep1 &lt;int&gt; | Output.rep2 &lt;int&gt; | Output.rep3 &lt;int&gt; | Output.rep4 &lt;int&gt; |\n",
       "|---|---|---|---|---|---|---|---|---|---|---|\n",
       "| chr1:100006256-100006880 | 121 | 176 | 180 | 155 | 147 | 152 | 10 |  32 |  24 |  51 |\n",
       "| chr1:100010437-100010915 | 103 | 122 | 125 | 146 | 123 | 119 |  2 |   9 |  15 |  28 |\n",
       "| chr1:10002087-10003910   | 399 | 561 | 538 | 546 | 536 | 458 | 28 |  77 |  70 | 127 |\n",
       "| chr1:100021298-100021629 |  79 | 106 | 121 | 106 |  96 |  92 |  2 |   7 |  12 |  16 |\n",
       "| chr1:100023727-100023976 |  48 |  72 |  72 |  68 |  79 |  57 | 11 |  11 |   7 |  14 |\n",
       "| chr1:100027983-100029702 | 480 | 611 | 744 | 697 | 676 | 573 | 37 | 108 | 110 | 165 |\n",
       "\n"
      ],
      "text/plain": [
       "  Peak                     Input.rep1 Input.rep2 Input.rep3 Input.rep4\n",
       "1 chr1:100006256-100006880 121        176        180        155       \n",
       "2 chr1:100010437-100010915 103        122        125        146       \n",
       "3 chr1:10002087-10003910   399        561        538        546       \n",
       "4 chr1:100021298-100021629  79        106        121        106       \n",
       "5 chr1:100023727-100023976  48         72         72         68       \n",
       "6 chr1:100027983-100029702 480        611        744        697       \n",
       "  Input.rep5 Input.rep6 Output.rep1 Output.rep2 Output.rep3 Output.rep4\n",
       "1 147        152        10           32          24          51        \n",
       "2 123        119         2            9          15          28        \n",
       "3 536        458        28           77          70         127        \n",
       "4  96         92         2            7          12          16        \n",
       "5  79         57        11           11           7          14        \n",
       "6 676        573        37          108         110         165        "
      ]
     },
     "metadata": {},
     "output_type": "display_data"
    }
   ],
   "source": [
    "dat = dat_count_cpm\n",
    "dat = dat %>% \n",
    "    dplyr::select(Peak, Sample, Count) %>%\n",
    "    spread(Sample, Count) %>% \n",
    "    replace(is.na(.), 0)\n",
    "\n",
    "mat_count_raw = dat\n",
    "print(dim(dat))\n",
    "head(dat)"
   ]
  },
  {
   "cell_type": "code",
   "execution_count": 10,
   "metadata": {},
   "outputs": [
    {
     "name": "stdout",
     "output_type": "stream",
     "text": [
      "[1] 246852     11\n"
     ]
    },
    {
     "data": {
      "text/html": [
       "<table class=\"dataframe\">\n",
       "<caption>A tibble: 6 × 11</caption>\n",
       "<thead>\n",
       "\t<tr><th scope=col>Peak</th><th scope=col>Input.rep1</th><th scope=col>Input.rep2</th><th scope=col>Input.rep3</th><th scope=col>Input.rep4</th><th scope=col>Input.rep5</th><th scope=col>Input.rep6</th><th scope=col>Output.rep1</th><th scope=col>Output.rep2</th><th scope=col>Output.rep3</th><th scope=col>Output.rep4</th></tr>\n",
       "\t<tr><th scope=col>&lt;chr&gt;</th><th scope=col>&lt;dbl&gt;</th><th scope=col>&lt;dbl&gt;</th><th scope=col>&lt;dbl&gt;</th><th scope=col>&lt;dbl&gt;</th><th scope=col>&lt;dbl&gt;</th><th scope=col>&lt;dbl&gt;</th><th scope=col>&lt;dbl&gt;</th><th scope=col>&lt;dbl&gt;</th><th scope=col>&lt;dbl&gt;</th><th scope=col>&lt;dbl&gt;</th></tr>\n",
       "</thead>\n",
       "<tbody>\n",
       "\t<tr><td>chr1:100006256-100006880</td><td>0.3470081</td><td>0.3899242</td><td>0.3691709</td><td>0.3397288</td><td>0.3308807</td><td>0.3825501</td><td>0.22673761</td><td>0.32830183</td><td>0.28536336</td><td>0.27851293</td></tr>\n",
       "\t<tr><td>chr1:100010437-100010915</td><td>0.2953870</td><td>0.2702884</td><td>0.2563687</td><td>0.3200026</td><td>0.2768593</td><td>0.2994965</td><td>0.04534752</td><td>0.09233489</td><td>0.17835210</td><td>0.15290906</td></tr>\n",
       "\t<tr><td>chr1:10002087-10003910  </td><td>1.1442663</td><td>1.2428835</td><td>1.1034108</td><td>1.1967222</td><td>1.2064764</td><td>1.1526839</td><td>0.63486530</td><td>0.78997627</td><td>0.83230981</td><td>0.69355180</td></tr>\n",
       "\t<tr><td>chr1:100021298-100021629</td><td>0.2265590</td><td>0.2348407</td><td>0.2481649</td><td>0.2323307</td><td>0.2160853</td><td>0.2315435</td><td>0.04534752</td><td>0.07181602</td><td>0.14268168</td><td>0.08737660</td></tr>\n",
       "\t<tr><td>chr1:100023727-100023976</td><td>0.1376561</td><td>0.1595145</td><td>0.1476684</td><td>0.1490423</td><td>0.1778202</td><td>0.1434563</td><td>0.24941137</td><td>0.11285375</td><td>0.08323098</td><td>0.07645453</td></tr>\n",
       "\t<tr><td>chr1:100027983-100029702</td><td>1.3765609</td><td>1.3536574</td><td>1.5259064</td><td>1.5276838</td><td>1.5216008</td><td>1.4421133</td><td>0.83892914</td><td>1.10801867</td><td>1.30791542</td><td>0.90107123</td></tr>\n",
       "</tbody>\n",
       "</table>\n"
      ],
      "text/latex": [
       "A tibble: 6 × 11\n",
       "\\begin{tabular}{lllllllllll}\n",
       " Peak & Input.rep1 & Input.rep2 & Input.rep3 & Input.rep4 & Input.rep5 & Input.rep6 & Output.rep1 & Output.rep2 & Output.rep3 & Output.rep4\\\\\n",
       " <chr> & <dbl> & <dbl> & <dbl> & <dbl> & <dbl> & <dbl> & <dbl> & <dbl> & <dbl> & <dbl>\\\\\n",
       "\\hline\n",
       "\t chr1:100006256-100006880 & 0.3470081 & 0.3899242 & 0.3691709 & 0.3397288 & 0.3308807 & 0.3825501 & 0.22673761 & 0.32830183 & 0.28536336 & 0.27851293\\\\\n",
       "\t chr1:100010437-100010915 & 0.2953870 & 0.2702884 & 0.2563687 & 0.3200026 & 0.2768593 & 0.2994965 & 0.04534752 & 0.09233489 & 0.17835210 & 0.15290906\\\\\n",
       "\t chr1:10002087-10003910   & 1.1442663 & 1.2428835 & 1.1034108 & 1.1967222 & 1.2064764 & 1.1526839 & 0.63486530 & 0.78997627 & 0.83230981 & 0.69355180\\\\\n",
       "\t chr1:100021298-100021629 & 0.2265590 & 0.2348407 & 0.2481649 & 0.2323307 & 0.2160853 & 0.2315435 & 0.04534752 & 0.07181602 & 0.14268168 & 0.08737660\\\\\n",
       "\t chr1:100023727-100023976 & 0.1376561 & 0.1595145 & 0.1476684 & 0.1490423 & 0.1778202 & 0.1434563 & 0.24941137 & 0.11285375 & 0.08323098 & 0.07645453\\\\\n",
       "\t chr1:100027983-100029702 & 1.3765609 & 1.3536574 & 1.5259064 & 1.5276838 & 1.5216008 & 1.4421133 & 0.83892914 & 1.10801867 & 1.30791542 & 0.90107123\\\\\n",
       "\\end{tabular}\n"
      ],
      "text/markdown": [
       "\n",
       "A tibble: 6 × 11\n",
       "\n",
       "| Peak &lt;chr&gt; | Input.rep1 &lt;dbl&gt; | Input.rep2 &lt;dbl&gt; | Input.rep3 &lt;dbl&gt; | Input.rep4 &lt;dbl&gt; | Input.rep5 &lt;dbl&gt; | Input.rep6 &lt;dbl&gt; | Output.rep1 &lt;dbl&gt; | Output.rep2 &lt;dbl&gt; | Output.rep3 &lt;dbl&gt; | Output.rep4 &lt;dbl&gt; |\n",
       "|---|---|---|---|---|---|---|---|---|---|---|\n",
       "| chr1:100006256-100006880 | 0.3470081 | 0.3899242 | 0.3691709 | 0.3397288 | 0.3308807 | 0.3825501 | 0.22673761 | 0.32830183 | 0.28536336 | 0.27851293 |\n",
       "| chr1:100010437-100010915 | 0.2953870 | 0.2702884 | 0.2563687 | 0.3200026 | 0.2768593 | 0.2994965 | 0.04534752 | 0.09233489 | 0.17835210 | 0.15290906 |\n",
       "| chr1:10002087-10003910   | 1.1442663 | 1.2428835 | 1.1034108 | 1.1967222 | 1.2064764 | 1.1526839 | 0.63486530 | 0.78997627 | 0.83230981 | 0.69355180 |\n",
       "| chr1:100021298-100021629 | 0.2265590 | 0.2348407 | 0.2481649 | 0.2323307 | 0.2160853 | 0.2315435 | 0.04534752 | 0.07181602 | 0.14268168 | 0.08737660 |\n",
       "| chr1:100023727-100023976 | 0.1376561 | 0.1595145 | 0.1476684 | 0.1490423 | 0.1778202 | 0.1434563 | 0.24941137 | 0.11285375 | 0.08323098 | 0.07645453 |\n",
       "| chr1:100027983-100029702 | 1.3765609 | 1.3536574 | 1.5259064 | 1.5276838 | 1.5216008 | 1.4421133 | 0.83892914 | 1.10801867 | 1.30791542 | 0.90107123 |\n",
       "\n"
      ],
      "text/plain": [
       "  Peak                     Input.rep1 Input.rep2 Input.rep3 Input.rep4\n",
       "1 chr1:100006256-100006880 0.3470081  0.3899242  0.3691709  0.3397288 \n",
       "2 chr1:100010437-100010915 0.2953870  0.2702884  0.2563687  0.3200026 \n",
       "3 chr1:10002087-10003910   1.1442663  1.2428835  1.1034108  1.1967222 \n",
       "4 chr1:100021298-100021629 0.2265590  0.2348407  0.2481649  0.2323307 \n",
       "5 chr1:100023727-100023976 0.1376561  0.1595145  0.1476684  0.1490423 \n",
       "6 chr1:100027983-100029702 1.3765609  1.3536574  1.5259064  1.5276838 \n",
       "  Input.rep5 Input.rep6 Output.rep1 Output.rep2 Output.rep3 Output.rep4\n",
       "1 0.3308807  0.3825501  0.22673761  0.32830183  0.28536336  0.27851293 \n",
       "2 0.2768593  0.2994965  0.04534752  0.09233489  0.17835210  0.15290906 \n",
       "3 1.2064764  1.1526839  0.63486530  0.78997627  0.83230981  0.69355180 \n",
       "4 0.2160853  0.2315435  0.04534752  0.07181602  0.14268168  0.08737660 \n",
       "5 0.1778202  0.1434563  0.24941137  0.11285375  0.08323098  0.07645453 \n",
       "6 1.5216008  1.4421133  0.83892914  1.10801867  1.30791542  0.90107123 "
      ]
     },
     "metadata": {},
     "output_type": "display_data"
    }
   ],
   "source": [
    "dat = dat_count_cpm\n",
    "dat = dat %>% \n",
    "    dplyr::select(Peak, Sample, CPM) %>%\n",
    "    spread(Sample, CPM) %>% \n",
    "    replace(is.na(.), 0)\n",
    "\n",
    "mat_count_cpm = dat\n",
    "print(dim(dat))\n",
    "head(dat)"
   ]
  },
  {
   "cell_type": "markdown",
   "metadata": {},
   "source": [
    "## Calculate log2fc"
   ]
  },
  {
   "cell_type": "code",
   "execution_count": 11,
   "metadata": {},
   "outputs": [
    {
     "data": {
      "text/html": [
       "<table class=\"dataframe\">\n",
       "<caption>A tibble: 6 × 11</caption>\n",
       "<thead>\n",
       "\t<tr><th scope=col>Peak</th><th scope=col>Input.rep1</th><th scope=col>Input.rep2</th><th scope=col>Input.rep3</th><th scope=col>Input.rep4</th><th scope=col>Input.rep5</th><th scope=col>Input.rep6</th><th scope=col>Output.rep1</th><th scope=col>Output.rep2</th><th scope=col>Output.rep3</th><th scope=col>Output.rep4</th></tr>\n",
       "\t<tr><th scope=col>&lt;chr&gt;</th><th scope=col>&lt;dbl&gt;</th><th scope=col>&lt;dbl&gt;</th><th scope=col>&lt;dbl&gt;</th><th scope=col>&lt;dbl&gt;</th><th scope=col>&lt;dbl&gt;</th><th scope=col>&lt;dbl&gt;</th><th scope=col>&lt;dbl&gt;</th><th scope=col>&lt;dbl&gt;</th><th scope=col>&lt;dbl&gt;</th><th scope=col>&lt;dbl&gt;</th></tr>\n",
       "</thead>\n",
       "<tbody>\n",
       "\t<tr><td>chr1:100006256-100006880</td><td>0.3470081</td><td>0.3899242</td><td>0.3691709</td><td>0.3397288</td><td>0.3308807</td><td>0.3825501</td><td>0.22673761</td><td>0.32830183</td><td>0.28536336</td><td>0.27851293</td></tr>\n",
       "\t<tr><td>chr1:100010437-100010915</td><td>0.2953870</td><td>0.2702884</td><td>0.2563687</td><td>0.3200026</td><td>0.2768593</td><td>0.2994965</td><td>0.04534752</td><td>0.09233489</td><td>0.17835210</td><td>0.15290906</td></tr>\n",
       "\t<tr><td>chr1:10002087-10003910  </td><td>1.1442663</td><td>1.2428835</td><td>1.1034108</td><td>1.1967222</td><td>1.2064764</td><td>1.1526839</td><td>0.63486530</td><td>0.78997627</td><td>0.83230981</td><td>0.69355180</td></tr>\n",
       "\t<tr><td>chr1:100021298-100021629</td><td>0.2265590</td><td>0.2348407</td><td>0.2481649</td><td>0.2323307</td><td>0.2160853</td><td>0.2315435</td><td>0.04534752</td><td>0.07181602</td><td>0.14268168</td><td>0.08737660</td></tr>\n",
       "\t<tr><td>chr1:100023727-100023976</td><td>0.1376561</td><td>0.1595145</td><td>0.1476684</td><td>0.1490423</td><td>0.1778202</td><td>0.1434563</td><td>0.24941137</td><td>0.11285375</td><td>0.08323098</td><td>0.07645453</td></tr>\n",
       "\t<tr><td>chr1:100027983-100029702</td><td>1.3765609</td><td>1.3536574</td><td>1.5259064</td><td>1.5276838</td><td>1.5216008</td><td>1.4421133</td><td>0.83892914</td><td>1.10801867</td><td>1.30791542</td><td>0.90107123</td></tr>\n",
       "</tbody>\n",
       "</table>\n"
      ],
      "text/latex": [
       "A tibble: 6 × 11\n",
       "\\begin{tabular}{lllllllllll}\n",
       " Peak & Input.rep1 & Input.rep2 & Input.rep3 & Input.rep4 & Input.rep5 & Input.rep6 & Output.rep1 & Output.rep2 & Output.rep3 & Output.rep4\\\\\n",
       " <chr> & <dbl> & <dbl> & <dbl> & <dbl> & <dbl> & <dbl> & <dbl> & <dbl> & <dbl> & <dbl>\\\\\n",
       "\\hline\n",
       "\t chr1:100006256-100006880 & 0.3470081 & 0.3899242 & 0.3691709 & 0.3397288 & 0.3308807 & 0.3825501 & 0.22673761 & 0.32830183 & 0.28536336 & 0.27851293\\\\\n",
       "\t chr1:100010437-100010915 & 0.2953870 & 0.2702884 & 0.2563687 & 0.3200026 & 0.2768593 & 0.2994965 & 0.04534752 & 0.09233489 & 0.17835210 & 0.15290906\\\\\n",
       "\t chr1:10002087-10003910   & 1.1442663 & 1.2428835 & 1.1034108 & 1.1967222 & 1.2064764 & 1.1526839 & 0.63486530 & 0.78997627 & 0.83230981 & 0.69355180\\\\\n",
       "\t chr1:100021298-100021629 & 0.2265590 & 0.2348407 & 0.2481649 & 0.2323307 & 0.2160853 & 0.2315435 & 0.04534752 & 0.07181602 & 0.14268168 & 0.08737660\\\\\n",
       "\t chr1:100023727-100023976 & 0.1376561 & 0.1595145 & 0.1476684 & 0.1490423 & 0.1778202 & 0.1434563 & 0.24941137 & 0.11285375 & 0.08323098 & 0.07645453\\\\\n",
       "\t chr1:100027983-100029702 & 1.3765609 & 1.3536574 & 1.5259064 & 1.5276838 & 1.5216008 & 1.4421133 & 0.83892914 & 1.10801867 & 1.30791542 & 0.90107123\\\\\n",
       "\\end{tabular}\n"
      ],
      "text/markdown": [
       "\n",
       "A tibble: 6 × 11\n",
       "\n",
       "| Peak &lt;chr&gt; | Input.rep1 &lt;dbl&gt; | Input.rep2 &lt;dbl&gt; | Input.rep3 &lt;dbl&gt; | Input.rep4 &lt;dbl&gt; | Input.rep5 &lt;dbl&gt; | Input.rep6 &lt;dbl&gt; | Output.rep1 &lt;dbl&gt; | Output.rep2 &lt;dbl&gt; | Output.rep3 &lt;dbl&gt; | Output.rep4 &lt;dbl&gt; |\n",
       "|---|---|---|---|---|---|---|---|---|---|---|\n",
       "| chr1:100006256-100006880 | 0.3470081 | 0.3899242 | 0.3691709 | 0.3397288 | 0.3308807 | 0.3825501 | 0.22673761 | 0.32830183 | 0.28536336 | 0.27851293 |\n",
       "| chr1:100010437-100010915 | 0.2953870 | 0.2702884 | 0.2563687 | 0.3200026 | 0.2768593 | 0.2994965 | 0.04534752 | 0.09233489 | 0.17835210 | 0.15290906 |\n",
       "| chr1:10002087-10003910   | 1.1442663 | 1.2428835 | 1.1034108 | 1.1967222 | 1.2064764 | 1.1526839 | 0.63486530 | 0.78997627 | 0.83230981 | 0.69355180 |\n",
       "| chr1:100021298-100021629 | 0.2265590 | 0.2348407 | 0.2481649 | 0.2323307 | 0.2160853 | 0.2315435 | 0.04534752 | 0.07181602 | 0.14268168 | 0.08737660 |\n",
       "| chr1:100023727-100023976 | 0.1376561 | 0.1595145 | 0.1476684 | 0.1490423 | 0.1778202 | 0.1434563 | 0.24941137 | 0.11285375 | 0.08323098 | 0.07645453 |\n",
       "| chr1:100027983-100029702 | 1.3765609 | 1.3536574 | 1.5259064 | 1.5276838 | 1.5216008 | 1.4421133 | 0.83892914 | 1.10801867 | 1.30791542 | 0.90107123 |\n",
       "\n"
      ],
      "text/plain": [
       "  Peak                     Input.rep1 Input.rep2 Input.rep3 Input.rep4\n",
       "1 chr1:100006256-100006880 0.3470081  0.3899242  0.3691709  0.3397288 \n",
       "2 chr1:100010437-100010915 0.2953870  0.2702884  0.2563687  0.3200026 \n",
       "3 chr1:10002087-10003910   1.1442663  1.2428835  1.1034108  1.1967222 \n",
       "4 chr1:100021298-100021629 0.2265590  0.2348407  0.2481649  0.2323307 \n",
       "5 chr1:100023727-100023976 0.1376561  0.1595145  0.1476684  0.1490423 \n",
       "6 chr1:100027983-100029702 1.3765609  1.3536574  1.5259064  1.5276838 \n",
       "  Input.rep5 Input.rep6 Output.rep1 Output.rep2 Output.rep3 Output.rep4\n",
       "1 0.3308807  0.3825501  0.22673761  0.32830183  0.28536336  0.27851293 \n",
       "2 0.2768593  0.2994965  0.04534752  0.09233489  0.17835210  0.15290906 \n",
       "3 1.2064764  1.1526839  0.63486530  0.78997627  0.83230981  0.69355180 \n",
       "4 0.2160853  0.2315435  0.04534752  0.07181602  0.14268168  0.08737660 \n",
       "5 0.1778202  0.1434563  0.24941137  0.11285375  0.08323098  0.07645453 \n",
       "6 1.5216008  1.4421133  0.83892914  1.10801867  1.30791542  0.90107123 "
      ]
     },
     "metadata": {},
     "output_type": "display_data"
    }
   ],
   "source": [
    "dat = mat_count_cpm\n",
    "head(dat)"
   ]
  },
  {
   "cell_type": "code",
   "execution_count": 12,
   "metadata": {},
   "outputs": [
    {
     "name": "stdout",
     "output_type": "stream",
     "text": [
      "[1] 246852      5\n"
     ]
    },
    {
     "data": {
      "text/html": [
       "<table class=\"dataframe\">\n",
       "<caption>A tibble: 6 × 5</caption>\n",
       "<thead>\n",
       "\t<tr><th scope=col>Peak</th><th scope=col>Input</th><th scope=col>Output</th><th scope=col>Log2FC</th><th scope=col>pLog2FC</th></tr>\n",
       "\t<tr><th scope=col>&lt;chr&gt;</th><th scope=col>&lt;dbl&gt;</th><th scope=col>&lt;dbl&gt;</th><th scope=col>&lt;dbl&gt;</th><th scope=col>&lt;dbl&gt;</th></tr>\n",
       "</thead>\n",
       "<tbody>\n",
       "\t<tr><td>chr1:100006256-100006880</td><td>0.3598771</td><td>0.27972893</td><td>-0.3634750</td><td>-0.08763805</td></tr>\n",
       "\t<tr><td>chr1:100010437-100010915</td><td>0.2864004</td><td>0.11723589</td><td>-1.2886193</td><td>-0.20340596</td></tr>\n",
       "\t<tr><td>chr1:10002087-10003910  </td><td>1.1744072</td><td>0.73767579</td><td>-0.6708739</td><td>-0.32346318</td></tr>\n",
       "\t<tr><td>chr1:100021298-100021629</td><td>0.2315873</td><td>0.08680546</td><td>-1.4156988</td><td>-0.18042524</td></tr>\n",
       "\t<tr><td>chr1:100023727-100023976</td><td>0.1525263</td><td>0.13048766</td><td>-0.2251446</td><td>-0.02785442</td></tr>\n",
       "\t<tr><td>chr1:100027983-100029702</td><td>1.4579204</td><td>1.03898361</td><td>-0.4887391</td><td>-0.26958803</td></tr>\n",
       "</tbody>\n",
       "</table>\n"
      ],
      "text/latex": [
       "A tibble: 6 × 5\n",
       "\\begin{tabular}{lllll}\n",
       " Peak & Input & Output & Log2FC & pLog2FC\\\\\n",
       " <chr> & <dbl> & <dbl> & <dbl> & <dbl>\\\\\n",
       "\\hline\n",
       "\t chr1:100006256-100006880 & 0.3598771 & 0.27972893 & -0.3634750 & -0.08763805\\\\\n",
       "\t chr1:100010437-100010915 & 0.2864004 & 0.11723589 & -1.2886193 & -0.20340596\\\\\n",
       "\t chr1:10002087-10003910   & 1.1744072 & 0.73767579 & -0.6708739 & -0.32346318\\\\\n",
       "\t chr1:100021298-100021629 & 0.2315873 & 0.08680546 & -1.4156988 & -0.18042524\\\\\n",
       "\t chr1:100023727-100023976 & 0.1525263 & 0.13048766 & -0.2251446 & -0.02785442\\\\\n",
       "\t chr1:100027983-100029702 & 1.4579204 & 1.03898361 & -0.4887391 & -0.26958803\\\\\n",
       "\\end{tabular}\n"
      ],
      "text/markdown": [
       "\n",
       "A tibble: 6 × 5\n",
       "\n",
       "| Peak &lt;chr&gt; | Input &lt;dbl&gt; | Output &lt;dbl&gt; | Log2FC &lt;dbl&gt; | pLog2FC &lt;dbl&gt; |\n",
       "|---|---|---|---|---|\n",
       "| chr1:100006256-100006880 | 0.3598771 | 0.27972893 | -0.3634750 | -0.08763805 |\n",
       "| chr1:100010437-100010915 | 0.2864004 | 0.11723589 | -1.2886193 | -0.20340596 |\n",
       "| chr1:10002087-10003910   | 1.1744072 | 0.73767579 | -0.6708739 | -0.32346318 |\n",
       "| chr1:100021298-100021629 | 0.2315873 | 0.08680546 | -1.4156988 | -0.18042524 |\n",
       "| chr1:100023727-100023976 | 0.1525263 | 0.13048766 | -0.2251446 | -0.02785442 |\n",
       "| chr1:100027983-100029702 | 1.4579204 | 1.03898361 | -0.4887391 | -0.26958803 |\n",
       "\n"
      ],
      "text/plain": [
       "  Peak                     Input     Output     Log2FC     pLog2FC    \n",
       "1 chr1:100006256-100006880 0.3598771 0.27972893 -0.3634750 -0.08763805\n",
       "2 chr1:100010437-100010915 0.2864004 0.11723589 -1.2886193 -0.20340596\n",
       "3 chr1:10002087-10003910   1.1744072 0.73767579 -0.6708739 -0.32346318\n",
       "4 chr1:100021298-100021629 0.2315873 0.08680546 -1.4156988 -0.18042524\n",
       "5 chr1:100023727-100023976 0.1525263 0.13048766 -0.2251446 -0.02785442\n",
       "6 chr1:100027983-100029702 1.4579204 1.03898361 -0.4887391 -0.26958803"
      ]
     },
     "metadata": {},
     "output_type": "display_data"
    }
   ],
   "source": [
    "### Row-wise means in dplyr – Jeffrey Girard\n",
    "### https://jmgirard.com/rowwise-means/\n",
    "\n",
    "dat = mat_count_cpm\n",
    "dat = dat %>%\n",
    "    dplyr::mutate(\n",
    "        Input  = rowMeans(across(starts_with(\"Input\"))),\n",
    "        Output = rowMeans(across(starts_with(\"Output\")))\n",
    "    ) %>%\n",
    "    dplyr::mutate(\n",
    "        Log2FC  = log2(Output)   - log2(Input),\n",
    "        pLog2FC = log2(Output+1) - log2(Input+1)\n",
    "    ) %>%\n",
    "    dplyr::select(Peak, Input, Output, Log2FC, pLog2FC)\n",
    "\n",
    "###\n",
    "dat_log2fc = dat\n",
    "print(dim(dat))\n",
    "head(dat)"
   ]
  },
  {
   "cell_type": "markdown",
   "metadata": {},
   "source": [
    "## Save results"
   ]
  },
  {
   "cell_type": "code",
   "execution_count": 13,
   "metadata": {},
   "outputs": [],
   "source": [
    "ASSAY  = \"KS91_K562_ASTARRseq\"\n",
    "FOLDER = \"coverage_astarrseq_peak_macs_input\""
   ]
  },
  {
   "cell_type": "code",
   "execution_count": 14,
   "metadata": {},
   "outputs": [
    {
     "name": "stdout",
     "output_type": "stream",
     "text": [
      "[1] \"/data/reddylab/Kuei/out/proj_combeffect_encode_fcc/results/KS91_K562_ASTARRseq/coverage_astarrseq_peak_macs_input/summary/metadata.raw.WGS.tsv\"\n"
     ]
    }
   ],
   "source": [
    "fdiry = file.path(FD_RES, \"results\", ASSAY, FOLDER, \"summary\")\n",
    "fname = \"metadata.raw.WGS.tsv\"\n",
    "fpath = file.path(fdiry, fname)\n",
    "print(fpath)\n",
    "\n",
    "dat = dat_meta\n",
    "write_tsv(dat, fpath)"
   ]
  },
  {
   "cell_type": "code",
   "execution_count": 15,
   "metadata": {},
   "outputs": [
    {
     "name": "stdout",
     "output_type": "stream",
     "text": [
      "[1] \"/data/reddylab/Kuei/out/proj_combeffect_encode_fcc/results/KS91_K562_ASTARRseq/coverage_astarrseq_peak_macs_input/summary/matrix.raw.count.WGS.tsv\"\n"
     ]
    }
   ],
   "source": [
    "fdiry = file.path(FD_RES, \"results\", ASSAY, FOLDER, \"summary\")\n",
    "fname = \"matrix.raw.count.WGS.tsv\"\n",
    "fpath = file.path(fdiry, fname)\n",
    "print(fpath)\n",
    "\n",
    "dat = mat_count_raw\n",
    "write_tsv(dat, fpath)"
   ]
  },
  {
   "cell_type": "code",
   "execution_count": 16,
   "metadata": {},
   "outputs": [
    {
     "name": "stdout",
     "output_type": "stream",
     "text": [
      "[1] \"/data/reddylab/Kuei/out/proj_combeffect_encode_fcc/results/KS91_K562_ASTARRseq/coverage_astarrseq_peak_macs_input/summary/matrix.raw.cpm.WGS.tsv\"\n"
     ]
    }
   ],
   "source": [
    "fdiry = file.path(FD_RES, \"results\", ASSAY, FOLDER, \"summary\")\n",
    "fname = \"matrix.raw.cpm.WGS.tsv\"\n",
    "fpath = file.path(fdiry, fname)\n",
    "print(fpath)\n",
    "\n",
    "dat = mat_count_cpm\n",
    "write_tsv(dat, fpath)"
   ]
  },
  {
   "cell_type": "code",
   "execution_count": 17,
   "metadata": {},
   "outputs": [
    {
     "name": "stdout",
     "output_type": "stream",
     "text": [
      "[1] \"/data/reddylab/Kuei/out/proj_combeffect_encode_fcc/results/KS91_K562_ASTARRseq/coverage_astarrseq_peak_macs_input/summary/result.Log2FC.raw.cpm.WGS.tsv\"\n"
     ]
    }
   ],
   "source": [
    "fdiry = file.path(FD_RES, \"results\", ASSAY, FOLDER, \"summary\")\n",
    "fname = \"result.Log2FC.raw.cpm.WGS.tsv\"\n",
    "fpath = file.path(fdiry, fname)\n",
    "print(fpath)\n",
    "\n",
    "dat = dat_log2fc\n",
    "write_tsv(dat, fpath)"
   ]
  },
  {
   "cell_type": "code",
   "execution_count": null,
   "metadata": {},
   "outputs": [],
   "source": []
  }
 ],
 "metadata": {
  "kernelspec": {
   "display_name": "R (alex_py3)",
   "language": "R",
   "name": "ir_alex_py3"
  },
  "language_info": {
   "codemirror_mode": "r",
   "file_extension": ".r",
   "mimetype": "text/x-r-source",
   "name": "R",
   "pygments_lexer": "r",
   "version": "4.3.1"
  }
 },
 "nbformat": 4,
 "nbformat_minor": 4
}
