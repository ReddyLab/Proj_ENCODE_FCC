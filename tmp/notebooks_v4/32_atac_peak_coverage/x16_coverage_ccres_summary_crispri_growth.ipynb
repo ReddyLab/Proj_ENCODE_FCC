{
 "cells": [
  {
   "cell_type": "markdown",
   "id": "73949ceb-5582-4060-ae55-bbd37e327706",
   "metadata": {},
   "source": [
    "**Set environment**"
   ]
  },
  {
   "cell_type": "code",
   "execution_count": 1,
   "id": "0af2f809-c859-4338-bad2-c6e0aa68b89c",
   "metadata": {},
   "outputs": [
    {
     "name": "stdout",
     "output_type": "stream",
     "text": [
      "You are in Singularity: singularity_proj_encode_fcc \n",
      "BASE DIRECTORY (FD_BASE): /data/reddylab/Kuei \n",
      "WORK DIRECTORY (FD_WORK): /data/reddylab/Kuei/out \n",
      "CODE DIRECTORY (FD_CODE): /data/reddylab/Kuei/code \n",
      "PATH OF PROJECT (FD_PRJ): /data/reddylab/Kuei/code/Proj_CombEffect_ENCODE_FCC \n",
      "PATH OF RESULTS (FD_RES): /data/reddylab/Kuei/out/proj_combeffect_encode_fcc \n",
      "PATH OF LOG     (FD_LOG): /data/reddylab/Kuei/out/proj_combeffect_encode_fcc/log \n"
     ]
    }
   ],
   "source": [
    "suppressMessages(suppressWarnings(source(\"../config/config_sing.R\")))\n",
    "show_env()"
   ]
  },
  {
   "cell_type": "markdown",
   "id": "3d0c65af-fadf-40ea-8a72-a74fd13f73db",
   "metadata": {},
   "source": [
    "## Import data"
   ]
  },
  {
   "cell_type": "code",
   "execution_count": 2,
   "id": "83c9a757-85b1-40e0-b236-7451e423334b",
   "metadata": {},
   "outputs": [
    {
     "data": {
      "text/html": [
       "<table class=\"dataframe\">\n",
       "<caption>A spec_tbl_df: 11 × 2</caption>\n",
       "<thead>\n",
       "\t<tr><th scope=col>Name</th><th scope=col>Description</th></tr>\n",
       "\t<tr><th scope=col>&lt;chr&gt;</th><th scope=col>&lt;chr&gt;</th></tr>\n",
       "</thead>\n",
       "<tbody>\n",
       "\t<tr><td>Chrom     </td><td>Chromosome                                                 </td></tr>\n",
       "\t<tr><td>Start     </td><td>Start position                                             </td></tr>\n",
       "\t<tr><td>End       </td><td>End position                                               </td></tr>\n",
       "\t<tr><td>Name      </td><td>Name                                                       </td></tr>\n",
       "\t<tr><td>Score     </td><td>Score                                                      </td></tr>\n",
       "\t<tr><td>Strand    </td><td>[+-.]; Use '.' if no strand is assigned.                   </td></tr>\n",
       "\t<tr><td>ThickStart</td><td>The starting position at which the feature is drawn thickly</td></tr>\n",
       "\t<tr><td>ThickEnd  </td><td>The ending position at which the feature is drawn thickly  </td></tr>\n",
       "\t<tr><td>ItemRgb   </td><td>An RGB value of the form R,G,B (e.g. 255,0,0)              </td></tr>\n",
       "\t<tr><td>Category  </td><td>Label of cCREs type                                        </td></tr>\n",
       "\t<tr><td>Note      </td><td>Description                                                </td></tr>\n",
       "</tbody>\n",
       "</table>\n"
      ],
      "text/latex": [
       "A spec\\_tbl\\_df: 11 × 2\n",
       "\\begin{tabular}{ll}\n",
       " Name & Description\\\\\n",
       " <chr> & <chr>\\\\\n",
       "\\hline\n",
       "\t Chrom      & Chromosome                                                 \\\\\n",
       "\t Start      & Start position                                             \\\\\n",
       "\t End        & End position                                               \\\\\n",
       "\t Name       & Name                                                       \\\\\n",
       "\t Score      & Score                                                      \\\\\n",
       "\t Strand     & {[}+-.{]}; Use '.' if no strand is assigned.                   \\\\\n",
       "\t ThickStart & The starting position at which the feature is drawn thickly\\\\\n",
       "\t ThickEnd   & The ending position at which the feature is drawn thickly  \\\\\n",
       "\t ItemRgb    & An RGB value of the form R,G,B (e.g. 255,0,0)              \\\\\n",
       "\t Category   & Label of cCREs type                                        \\\\\n",
       "\t Note       & Description                                                \\\\\n",
       "\\end{tabular}\n"
      ],
      "text/markdown": [
       "\n",
       "A spec_tbl_df: 11 × 2\n",
       "\n",
       "| Name &lt;chr&gt; | Description &lt;chr&gt; |\n",
       "|---|---|\n",
       "| Chrom      | Chromosome                                                  |\n",
       "| Start      | Start position                                              |\n",
       "| End        | End position                                                |\n",
       "| Name       | Name                                                        |\n",
       "| Score      | Score                                                       |\n",
       "| Strand     | [+-.]; Use '.' if no strand is assigned.                    |\n",
       "| ThickStart | The starting position at which the feature is drawn thickly |\n",
       "| ThickEnd   | The ending position at which the feature is drawn thickly   |\n",
       "| ItemRgb    | An RGB value of the form R,G,B (e.g. 255,0,0)               |\n",
       "| Category   | Label of cCREs type                                         |\n",
       "| Note       | Description                                                 |\n",
       "\n"
      ],
      "text/plain": [
       "   Name       Description                                                \n",
       "1  Chrom      Chromosome                                                 \n",
       "2  Start      Start position                                             \n",
       "3  End        End position                                               \n",
       "4  Name       Name                                                       \n",
       "5  Score      Score                                                      \n",
       "6  Strand     [+-.]; Use '.' if no strand is assigned.                   \n",
       "7  ThickStart The starting position at which the feature is drawn thickly\n",
       "8  ThickEnd   The ending position at which the feature is drawn thickly  \n",
       "9  ItemRgb    An RGB value of the form R,G,B (e.g. 255,0,0)              \n",
       "10 Category   Label of cCREs type                                        \n",
       "11 Note       Description                                                "
      ]
     },
     "metadata": {},
     "output_type": "display_data"
    }
   ],
   "source": [
    "fdiry = file.path(FD_RES, \"results\", \"region\", \"annotation_ccres\")\n",
    "fname = \"description.tsv\"\n",
    "fpath = file.path(fdiry, fname)\n",
    "\n",
    "dat = read_tsv(fpath, show_col_types = FALSE)\n",
    "vec = dat$Name\n",
    "\n",
    "vec_txt_cnames1 = vec\n",
    "IRdisplay::display(dat)"
   ]
  },
  {
   "cell_type": "code",
   "execution_count": 3,
   "id": "a7ab38d0-4fd4-4d2a-b0a1-0fd1ed1cf5c4",
   "metadata": {},
   "outputs": [],
   "source": [
    "vec_txt_cnames2 = c(\n",
    "    \"Chrom_Guide\", \"Start_Guide\", \"End_Guide\", \n",
    "    \"Guide_ID\", \"Score\"\n",
    ")"
   ]
  },
  {
   "cell_type": "code",
   "execution_count": 4,
   "id": "cfb8af01-8182-479b-8471-5f9f35eeba77",
   "metadata": {},
   "outputs": [
    {
     "name": "stdout",
     "output_type": "stream",
     "text": [
      "[1] 885681     17\n"
     ]
    },
    {
     "data": {
      "text/html": [
       "<table class=\"dataframe\">\n",
       "<caption>A tibble: 6 × 17</caption>\n",
       "<thead>\n",
       "\t<tr><th scope=col>Chrom_A</th><th scope=col>Start_A</th><th scope=col>End_A</th><th scope=col>Name_A</th><th scope=col>Score_A</th><th scope=col>Strand_A</th><th scope=col>ThickStart_A</th><th scope=col>ThickEnd_A</th><th scope=col>ItemRgb_A</th><th scope=col>Category_A</th><th scope=col>Note_A</th><th scope=col>Chrom_Guide</th><th scope=col>Start_Guide</th><th scope=col>End_Guide</th><th scope=col>Guide_ID</th><th scope=col>Score</th><th scope=col>Overlap</th></tr>\n",
       "\t<tr><th scope=col>&lt;chr&gt;</th><th scope=col>&lt;dbl&gt;</th><th scope=col>&lt;dbl&gt;</th><th scope=col>&lt;chr&gt;</th><th scope=col>&lt;dbl&gt;</th><th scope=col>&lt;chr&gt;</th><th scope=col>&lt;dbl&gt;</th><th scope=col>&lt;dbl&gt;</th><th scope=col>&lt;chr&gt;</th><th scope=col>&lt;chr&gt;</th><th scope=col>&lt;chr&gt;</th><th scope=col>&lt;chr&gt;</th><th scope=col>&lt;dbl&gt;</th><th scope=col>&lt;dbl&gt;</th><th scope=col>&lt;chr&gt;</th><th scope=col>&lt;dbl&gt;</th><th scope=col>&lt;dbl&gt;</th></tr>\n",
       "</thead>\n",
       "<tbody>\n",
       "\t<tr><td>chr1</td><td>605330</td><td>605668</td><td>EH38E2776534</td><td>0</td><td>.</td><td>605330</td><td>605668</td><td>190,40,229</td><td>CA-TF</td><td>All-data/Full-classification</td><td>chr1</td><td>605580</td><td>605581</td><td>id-1</td><td>-0.180660</td><td>1</td></tr>\n",
       "\t<tr><td>chr1</td><td>605330</td><td>605668</td><td>EH38E2776534</td><td>0</td><td>.</td><td>605330</td><td>605668</td><td>190,40,229</td><td>CA-TF</td><td>All-data/Full-classification</td><td>chr1</td><td>605581</td><td>605582</td><td>id-2</td><td> 0.486646</td><td>1</td></tr>\n",
       "\t<tr><td>chr1</td><td>605330</td><td>605668</td><td>EH38E2776534</td><td>0</td><td>.</td><td>605330</td><td>605668</td><td>190,40,229</td><td>CA-TF</td><td>All-data/Full-classification</td><td>chr1</td><td>605589</td><td>605590</td><td>id-3</td><td> 3.171240</td><td>1</td></tr>\n",
       "\t<tr><td>chr1</td><td>605330</td><td>605668</td><td>EH38E2776534</td><td>0</td><td>.</td><td>605330</td><td>605668</td><td>190,40,229</td><td>CA-TF</td><td>All-data/Full-classification</td><td>chr1</td><td>605591</td><td>605592</td><td>id-4</td><td>-0.364573</td><td>1</td></tr>\n",
       "\t<tr><td>chr1</td><td>605330</td><td>605668</td><td>EH38E2776534</td><td>0</td><td>.</td><td>605330</td><td>605668</td><td>190,40,229</td><td>CA-TF</td><td>All-data/Full-classification</td><td>chr1</td><td>605592</td><td>605593</td><td>id-5</td><td>-0.206319</td><td>1</td></tr>\n",
       "\t<tr><td>chr1</td><td>605330</td><td>605668</td><td>EH38E2776534</td><td>0</td><td>.</td><td>605330</td><td>605668</td><td>190,40,229</td><td>CA-TF</td><td>All-data/Full-classification</td><td>chr1</td><td>605609</td><td>605610</td><td>id-6</td><td>-0.266750</td><td>1</td></tr>\n",
       "</tbody>\n",
       "</table>\n"
      ],
      "text/latex": [
       "A tibble: 6 × 17\n",
       "\\begin{tabular}{lllllllllllllllll}\n",
       " Chrom\\_A & Start\\_A & End\\_A & Name\\_A & Score\\_A & Strand\\_A & ThickStart\\_A & ThickEnd\\_A & ItemRgb\\_A & Category\\_A & Note\\_A & Chrom\\_Guide & Start\\_Guide & End\\_Guide & Guide\\_ID & Score & Overlap\\\\\n",
       " <chr> & <dbl> & <dbl> & <chr> & <dbl> & <chr> & <dbl> & <dbl> & <chr> & <chr> & <chr> & <chr> & <dbl> & <dbl> & <chr> & <dbl> & <dbl>\\\\\n",
       "\\hline\n",
       "\t chr1 & 605330 & 605668 & EH38E2776534 & 0 & . & 605330 & 605668 & 190,40,229 & CA-TF & All-data/Full-classification & chr1 & 605580 & 605581 & id-1 & -0.180660 & 1\\\\\n",
       "\t chr1 & 605330 & 605668 & EH38E2776534 & 0 & . & 605330 & 605668 & 190,40,229 & CA-TF & All-data/Full-classification & chr1 & 605581 & 605582 & id-2 &  0.486646 & 1\\\\\n",
       "\t chr1 & 605330 & 605668 & EH38E2776534 & 0 & . & 605330 & 605668 & 190,40,229 & CA-TF & All-data/Full-classification & chr1 & 605589 & 605590 & id-3 &  3.171240 & 1\\\\\n",
       "\t chr1 & 605330 & 605668 & EH38E2776534 & 0 & . & 605330 & 605668 & 190,40,229 & CA-TF & All-data/Full-classification & chr1 & 605591 & 605592 & id-4 & -0.364573 & 1\\\\\n",
       "\t chr1 & 605330 & 605668 & EH38E2776534 & 0 & . & 605330 & 605668 & 190,40,229 & CA-TF & All-data/Full-classification & chr1 & 605592 & 605593 & id-5 & -0.206319 & 1\\\\\n",
       "\t chr1 & 605330 & 605668 & EH38E2776534 & 0 & . & 605330 & 605668 & 190,40,229 & CA-TF & All-data/Full-classification & chr1 & 605609 & 605610 & id-6 & -0.266750 & 1\\\\\n",
       "\\end{tabular}\n"
      ],
      "text/markdown": [
       "\n",
       "A tibble: 6 × 17\n",
       "\n",
       "| Chrom_A &lt;chr&gt; | Start_A &lt;dbl&gt; | End_A &lt;dbl&gt; | Name_A &lt;chr&gt; | Score_A &lt;dbl&gt; | Strand_A &lt;chr&gt; | ThickStart_A &lt;dbl&gt; | ThickEnd_A &lt;dbl&gt; | ItemRgb_A &lt;chr&gt; | Category_A &lt;chr&gt; | Note_A &lt;chr&gt; | Chrom_Guide &lt;chr&gt; | Start_Guide &lt;dbl&gt; | End_Guide &lt;dbl&gt; | Guide_ID &lt;chr&gt; | Score &lt;dbl&gt; | Overlap &lt;dbl&gt; |\n",
       "|---|---|---|---|---|---|---|---|---|---|---|---|---|---|---|---|---|\n",
       "| chr1 | 605330 | 605668 | EH38E2776534 | 0 | . | 605330 | 605668 | 190,40,229 | CA-TF | All-data/Full-classification | chr1 | 605580 | 605581 | id-1 | -0.180660 | 1 |\n",
       "| chr1 | 605330 | 605668 | EH38E2776534 | 0 | . | 605330 | 605668 | 190,40,229 | CA-TF | All-data/Full-classification | chr1 | 605581 | 605582 | id-2 |  0.486646 | 1 |\n",
       "| chr1 | 605330 | 605668 | EH38E2776534 | 0 | . | 605330 | 605668 | 190,40,229 | CA-TF | All-data/Full-classification | chr1 | 605589 | 605590 | id-3 |  3.171240 | 1 |\n",
       "| chr1 | 605330 | 605668 | EH38E2776534 | 0 | . | 605330 | 605668 | 190,40,229 | CA-TF | All-data/Full-classification | chr1 | 605591 | 605592 | id-4 | -0.364573 | 1 |\n",
       "| chr1 | 605330 | 605668 | EH38E2776534 | 0 | . | 605330 | 605668 | 190,40,229 | CA-TF | All-data/Full-classification | chr1 | 605592 | 605593 | id-5 | -0.206319 | 1 |\n",
       "| chr1 | 605330 | 605668 | EH38E2776534 | 0 | . | 605330 | 605668 | 190,40,229 | CA-TF | All-data/Full-classification | chr1 | 605609 | 605610 | id-6 | -0.266750 | 1 |\n",
       "\n"
      ],
      "text/plain": [
       "  Chrom_A Start_A End_A  Name_A       Score_A Strand_A ThickStart_A ThickEnd_A\n",
       "1 chr1    605330  605668 EH38E2776534 0       .        605330       605668    \n",
       "2 chr1    605330  605668 EH38E2776534 0       .        605330       605668    \n",
       "3 chr1    605330  605668 EH38E2776534 0       .        605330       605668    \n",
       "4 chr1    605330  605668 EH38E2776534 0       .        605330       605668    \n",
       "5 chr1    605330  605668 EH38E2776534 0       .        605330       605668    \n",
       "6 chr1    605330  605668 EH38E2776534 0       .        605330       605668    \n",
       "  ItemRgb_A  Category_A Note_A                       Chrom_Guide Start_Guide\n",
       "1 190,40,229 CA-TF      All-data/Full-classification chr1        605580     \n",
       "2 190,40,229 CA-TF      All-data/Full-classification chr1        605581     \n",
       "3 190,40,229 CA-TF      All-data/Full-classification chr1        605589     \n",
       "4 190,40,229 CA-TF      All-data/Full-classification chr1        605591     \n",
       "5 190,40,229 CA-TF      All-data/Full-classification chr1        605592     \n",
       "6 190,40,229 CA-TF      All-data/Full-classification chr1        605609     \n",
       "  End_Guide Guide_ID Score     Overlap\n",
       "1 605581    id-1     -0.180660 1      \n",
       "2 605582    id-2      0.486646 1      \n",
       "3 605590    id-3      3.171240 1      \n",
       "4 605592    id-4     -0.364573 1      \n",
       "5 605593    id-5     -0.206319 1      \n",
       "6 605610    id-6     -0.266750 1      "
      ]
     },
     "metadata": {},
     "output_type": "display_data"
    }
   ],
   "source": [
    "ASSAY   = \"CRISPRi_Growth_K562_Gersbach\"\n",
    "FOLDER  = \"coverage_ccres_v4\"\n",
    "\n",
    "fdiry = file.path(FD_RES, \"results\", ASSAY, FOLDER)\n",
    "fname = \"CRISPRi_rAVG_log2FC_2.bed.gz\"\n",
    "fpath = file.path(fdiry, fname)\n",
    "\n",
    "vec1 = vec_txt_cnames1\n",
    "vec1 = vec_txt_cnames1\n",
    "vec1 = paste0(vec1, \"_A\")\n",
    "\n",
    "vec2 = vec_txt_cnames2\n",
    "#vec2 = paste0(vec2, \"_B\")\n",
    "vec_txt_cnames = c(vec1, vec2, \"Overlap\")\n",
    "\n",
    "dat = read_tsv(fpath, col_names = vec_txt_cnames, show_col_types = FALSE)\n",
    "\n",
    "dat_peak_score_import = dat\n",
    "print(dim(dat))\n",
    "head(dat)"
   ]
  },
  {
   "cell_type": "markdown",
   "id": "76c82074-e03e-4c84-b980-d1ed2ef79094",
   "metadata": {},
   "source": [
    "## Arrange"
   ]
  },
  {
   "cell_type": "code",
   "execution_count": 5,
   "id": "fc08dbd3-ea87-4123-a27b-c7c6ac207f37",
   "metadata": {},
   "outputs": [
    {
     "name": "stdout",
     "output_type": "stream",
     "text": [
      "[1] 885681      7\n"
     ]
    },
    {
     "data": {
      "text/html": [
       "<table class=\"dataframe\">\n",
       "<caption>A tibble: 6 × 7</caption>\n",
       "<thead>\n",
       "\t<tr><th scope=col>Chrom</th><th scope=col>Start</th><th scope=col>End</th><th scope=col>Region</th><th scope=col>Index</th><th scope=col>Label</th><th scope=col>Score</th></tr>\n",
       "\t<tr><th scope=col>&lt;chr&gt;</th><th scope=col>&lt;dbl&gt;</th><th scope=col>&lt;dbl&gt;</th><th scope=col>&lt;chr&gt;</th><th scope=col>&lt;chr&gt;</th><th scope=col>&lt;chr&gt;</th><th scope=col>&lt;dbl&gt;</th></tr>\n",
       "</thead>\n",
       "<tbody>\n",
       "\t<tr><td>chr1</td><td>605330</td><td>605668</td><td>chr1:605330-605668</td><td>EH38E2776534</td><td>CA-TF</td><td>-0.180660</td></tr>\n",
       "\t<tr><td>chr1</td><td>605330</td><td>605668</td><td>chr1:605330-605668</td><td>EH38E2776534</td><td>CA-TF</td><td> 0.486646</td></tr>\n",
       "\t<tr><td>chr1</td><td>605330</td><td>605668</td><td>chr1:605330-605668</td><td>EH38E2776534</td><td>CA-TF</td><td> 3.171240</td></tr>\n",
       "\t<tr><td>chr1</td><td>605330</td><td>605668</td><td>chr1:605330-605668</td><td>EH38E2776534</td><td>CA-TF</td><td>-0.364573</td></tr>\n",
       "\t<tr><td>chr1</td><td>605330</td><td>605668</td><td>chr1:605330-605668</td><td>EH38E2776534</td><td>CA-TF</td><td>-0.206319</td></tr>\n",
       "\t<tr><td>chr1</td><td>605330</td><td>605668</td><td>chr1:605330-605668</td><td>EH38E2776534</td><td>CA-TF</td><td>-0.266750</td></tr>\n",
       "</tbody>\n",
       "</table>\n"
      ],
      "text/latex": [
       "A tibble: 6 × 7\n",
       "\\begin{tabular}{lllllll}\n",
       " Chrom & Start & End & Region & Index & Label & Score\\\\\n",
       " <chr> & <dbl> & <dbl> & <chr> & <chr> & <chr> & <dbl>\\\\\n",
       "\\hline\n",
       "\t chr1 & 605330 & 605668 & chr1:605330-605668 & EH38E2776534 & CA-TF & -0.180660\\\\\n",
       "\t chr1 & 605330 & 605668 & chr1:605330-605668 & EH38E2776534 & CA-TF &  0.486646\\\\\n",
       "\t chr1 & 605330 & 605668 & chr1:605330-605668 & EH38E2776534 & CA-TF &  3.171240\\\\\n",
       "\t chr1 & 605330 & 605668 & chr1:605330-605668 & EH38E2776534 & CA-TF & -0.364573\\\\\n",
       "\t chr1 & 605330 & 605668 & chr1:605330-605668 & EH38E2776534 & CA-TF & -0.206319\\\\\n",
       "\t chr1 & 605330 & 605668 & chr1:605330-605668 & EH38E2776534 & CA-TF & -0.266750\\\\\n",
       "\\end{tabular}\n"
      ],
      "text/markdown": [
       "\n",
       "A tibble: 6 × 7\n",
       "\n",
       "| Chrom &lt;chr&gt; | Start &lt;dbl&gt; | End &lt;dbl&gt; | Region &lt;chr&gt; | Index &lt;chr&gt; | Label &lt;chr&gt; | Score &lt;dbl&gt; |\n",
       "|---|---|---|---|---|---|---|\n",
       "| chr1 | 605330 | 605668 | chr1:605330-605668 | EH38E2776534 | CA-TF | -0.180660 |\n",
       "| chr1 | 605330 | 605668 | chr1:605330-605668 | EH38E2776534 | CA-TF |  0.486646 |\n",
       "| chr1 | 605330 | 605668 | chr1:605330-605668 | EH38E2776534 | CA-TF |  3.171240 |\n",
       "| chr1 | 605330 | 605668 | chr1:605330-605668 | EH38E2776534 | CA-TF | -0.364573 |\n",
       "| chr1 | 605330 | 605668 | chr1:605330-605668 | EH38E2776534 | CA-TF | -0.206319 |\n",
       "| chr1 | 605330 | 605668 | chr1:605330-605668 | EH38E2776534 | CA-TF | -0.266750 |\n",
       "\n"
      ],
      "text/plain": [
       "  Chrom Start  End    Region             Index        Label Score    \n",
       "1 chr1  605330 605668 chr1:605330-605668 EH38E2776534 CA-TF -0.180660\n",
       "2 chr1  605330 605668 chr1:605330-605668 EH38E2776534 CA-TF  0.486646\n",
       "3 chr1  605330 605668 chr1:605330-605668 EH38E2776534 CA-TF  3.171240\n",
       "4 chr1  605330 605668 chr1:605330-605668 EH38E2776534 CA-TF -0.364573\n",
       "5 chr1  605330 605668 chr1:605330-605668 EH38E2776534 CA-TF -0.206319\n",
       "6 chr1  605330 605668 chr1:605330-605668 EH38E2776534 CA-TF -0.266750"
      ]
     },
     "metadata": {},
     "output_type": "display_data"
    }
   ],
   "source": [
    "dat = dat_peak_score_import\n",
    "dat = dat %>% \n",
    "    dplyr::mutate(\n",
    "        Chrom  = Chrom_A,\n",
    "        Start  = Start_A,\n",
    "        End    = End_A,\n",
    "        Region = paste0(Chrom_A, \":\", Start_A, \"-\", End_A),\n",
    "        Index  = Name_A,\n",
    "        Label  = Category_A,\n",
    "        Score  = Score\n",
    "    ) %>%\n",
    "    dplyr::select(\n",
    "        Chrom, Start, End, Region, Index, Label, Score\n",
    "    )\n",
    "\n",
    "###\n",
    "dat_peak_score_arrange = dat\n",
    "print(dim(dat))\n",
    "head(dat)"
   ]
  },
  {
   "cell_type": "markdown",
   "id": "9add0e3b-da1e-4dd7-b477-ece086992670",
   "metadata": {},
   "source": [
    "## Summary"
   ]
  },
  {
   "cell_type": "code",
   "execution_count": 6,
   "id": "d26b09cb-fa19-4bc8-9281-211cb3d7d614",
   "metadata": {},
   "outputs": [
    {
     "data": {
      "text/plain": [
       "\n",
       "   neg    pos \n",
       "462342 423339 "
      ]
     },
     "metadata": {},
     "output_type": "display_data"
    }
   ],
   "source": [
    "###\n",
    "dat = dat_peak_score_arrange\n",
    "dat = dat %>% dplyr::mutate(Sign  = ifelse(Score > 0, \"pos\", \"neg\"))\n",
    "table(dat$Sign)"
   ]
  },
  {
   "cell_type": "code",
   "execution_count": 7,
   "id": "18b6feee-c6a9-420f-ac5e-17a49ea2f9e9",
   "metadata": {},
   "outputs": [
    {
     "name": "stdout",
     "output_type": "stream",
     "text": [
      "[1] 152808      8\n"
     ]
    },
    {
     "data": {
      "text/html": [
       "<table class=\"dataframe\">\n",
       "<caption>A tibble: 6 × 8</caption>\n",
       "<thead>\n",
       "\t<tr><th scope=col>Region</th><th scope=col>Mean</th><th scope=col>Median</th><th scope=col>Max</th><th scope=col>Min</th><th scope=col>Count</th><th scope=col>Mean_Neg</th><th scope=col>Mean_Pos</th></tr>\n",
       "\t<tr><th scope=col>&lt;chr&gt;</th><th scope=col>&lt;dbl&gt;</th><th scope=col>&lt;dbl&gt;</th><th scope=col>&lt;dbl&gt;</th><th scope=col>&lt;dbl&gt;</th><th scope=col>&lt;int&gt;</th><th scope=col>&lt;dbl&gt;</th><th scope=col>&lt;dbl&gt;</th></tr>\n",
       "</thead>\n",
       "<tbody>\n",
       "\t<tr><td>chr10:100006302-100006644</td><td> 0.3432904</td><td> 0.3756255</td><td> 1.490990</td><td>-0.606268</td><td>10</td><td>-0.4285530</td><td>0.6740804</td></tr>\n",
       "\t<tr><td>chr10:100009359-100009597</td><td>-0.0594750</td><td>-0.0594750</td><td>-0.059475</td><td>-0.059475</td><td> 1</td><td>-0.0594750</td><td>0.0000000</td></tr>\n",
       "\t<tr><td>chr10:100009615-100009781</td><td> 0.4072320</td><td> 0.4072320</td><td> 0.526902</td><td> 0.287562</td><td> 2</td><td> 0.0000000</td><td>0.4072320</td></tr>\n",
       "\t<tr><td>chr10:100009828-100010178</td><td>-0.1293382</td><td>-0.1194500</td><td> 0.484747</td><td>-0.655965</td><td> 5</td><td>-0.4172263</td><td>0.3024940</td></tr>\n",
       "\t<tr><td>chr10:100010237-100010448</td><td>-0.6092790</td><td>-0.6092790</td><td>-0.609279</td><td>-0.609279</td><td> 1</td><td>-0.6092790</td><td>0.0000000</td></tr>\n",
       "\t<tr><td>chr10:100046073-100046363</td><td> 0.1087357</td><td> 0.1820295</td><td> 0.646953</td><td>-0.497578</td><td>10</td><td>-0.2750008</td><td>0.3645600</td></tr>\n",
       "</tbody>\n",
       "</table>\n"
      ],
      "text/latex": [
       "A tibble: 6 × 8\n",
       "\\begin{tabular}{llllllll}\n",
       " Region & Mean & Median & Max & Min & Count & Mean\\_Neg & Mean\\_Pos\\\\\n",
       " <chr> & <dbl> & <dbl> & <dbl> & <dbl> & <int> & <dbl> & <dbl>\\\\\n",
       "\\hline\n",
       "\t chr10:100006302-100006644 &  0.3432904 &  0.3756255 &  1.490990 & -0.606268 & 10 & -0.4285530 & 0.6740804\\\\\n",
       "\t chr10:100009359-100009597 & -0.0594750 & -0.0594750 & -0.059475 & -0.059475 &  1 & -0.0594750 & 0.0000000\\\\\n",
       "\t chr10:100009615-100009781 &  0.4072320 &  0.4072320 &  0.526902 &  0.287562 &  2 &  0.0000000 & 0.4072320\\\\\n",
       "\t chr10:100009828-100010178 & -0.1293382 & -0.1194500 &  0.484747 & -0.655965 &  5 & -0.4172263 & 0.3024940\\\\\n",
       "\t chr10:100010237-100010448 & -0.6092790 & -0.6092790 & -0.609279 & -0.609279 &  1 & -0.6092790 & 0.0000000\\\\\n",
       "\t chr10:100046073-100046363 &  0.1087357 &  0.1820295 &  0.646953 & -0.497578 & 10 & -0.2750008 & 0.3645600\\\\\n",
       "\\end{tabular}\n"
      ],
      "text/markdown": [
       "\n",
       "A tibble: 6 × 8\n",
       "\n",
       "| Region &lt;chr&gt; | Mean &lt;dbl&gt; | Median &lt;dbl&gt; | Max &lt;dbl&gt; | Min &lt;dbl&gt; | Count &lt;int&gt; | Mean_Neg &lt;dbl&gt; | Mean_Pos &lt;dbl&gt; |\n",
       "|---|---|---|---|---|---|---|---|\n",
       "| chr10:100006302-100006644 |  0.3432904 |  0.3756255 |  1.490990 | -0.606268 | 10 | -0.4285530 | 0.6740804 |\n",
       "| chr10:100009359-100009597 | -0.0594750 | -0.0594750 | -0.059475 | -0.059475 |  1 | -0.0594750 | 0.0000000 |\n",
       "| chr10:100009615-100009781 |  0.4072320 |  0.4072320 |  0.526902 |  0.287562 |  2 |  0.0000000 | 0.4072320 |\n",
       "| chr10:100009828-100010178 | -0.1293382 | -0.1194500 |  0.484747 | -0.655965 |  5 | -0.4172263 | 0.3024940 |\n",
       "| chr10:100010237-100010448 | -0.6092790 | -0.6092790 | -0.609279 | -0.609279 |  1 | -0.6092790 | 0.0000000 |\n",
       "| chr10:100046073-100046363 |  0.1087357 |  0.1820295 |  0.646953 | -0.497578 | 10 | -0.2750008 | 0.3645600 |\n",
       "\n"
      ],
      "text/plain": [
       "  Region                    Mean       Median     Max       Min       Count\n",
       "1 chr10:100006302-100006644  0.3432904  0.3756255  1.490990 -0.606268 10   \n",
       "2 chr10:100009359-100009597 -0.0594750 -0.0594750 -0.059475 -0.059475  1   \n",
       "3 chr10:100009615-100009781  0.4072320  0.4072320  0.526902  0.287562  2   \n",
       "4 chr10:100009828-100010178 -0.1293382 -0.1194500  0.484747 -0.655965  5   \n",
       "5 chr10:100010237-100010448 -0.6092790 -0.6092790 -0.609279 -0.609279  1   \n",
       "6 chr10:100046073-100046363  0.1087357  0.1820295  0.646953 -0.497578 10   \n",
       "  Mean_Neg   Mean_Pos \n",
       "1 -0.4285530 0.6740804\n",
       "2 -0.0594750 0.0000000\n",
       "3  0.0000000 0.4072320\n",
       "4 -0.4172263 0.3024940\n",
       "5 -0.6092790 0.0000000\n",
       "6 -0.2750008 0.3645600"
      ]
     },
     "metadata": {},
     "output_type": "display_data"
    }
   ],
   "source": [
    "###\n",
    "dat = dat_peak_score_arrange\n",
    "dat = dat %>% dplyr::mutate(Sign  = ifelse(Score > 0, \"pos\", \"neg\"))\n",
    "\n",
    "###\n",
    "dat_summary_total = dat %>%\n",
    "    dplyr::group_by(Region) %>%\n",
    "    dplyr::summarise(\n",
    "        Mean    = mean(Score),\n",
    "        Median  = median(Score),\n",
    "        Max     = max(Score),\n",
    "        Min     = min(Score),\n",
    "        Count   = n(),\n",
    "        .groups = \"drop\"\n",
    "    )\n",
    "\n",
    "###\n",
    "dat_summary_sign = dat %>%\n",
    "    dplyr::group_by(Region, Sign) %>%\n",
    "    dplyr::summarise(Mean = mean(Score), .groups = \"drop\") %>% \n",
    "    dplyr::mutate(Sign = dplyr::recode(Sign, `pos` = \"Mean_Pos\", `neg` = \"Mean_Neg\")) %>% \n",
    "    tidyr::spread(Sign, Mean)\n",
    "\n",
    "###\n",
    "dat = dplyr::left_join(\n",
    "    dat_summary_total,\n",
    "    dat_summary_sign,\n",
    "    by = c(\"Region\")) %>% \n",
    "    replace(is.na(.), 0)\n",
    "\n",
    "dat_peak_score_summary = dat\n",
    "print(dim(dat))\n",
    "head(dat)"
   ]
  },
  {
   "cell_type": "code",
   "execution_count": 8,
   "id": "a09b903b-d1a3-4072-8d19-75684a2f7661",
   "metadata": {},
   "outputs": [
    {
     "data": {
      "text/plain": [
       "   Min. 1st Qu.  Median    Mean 3rd Qu.    Max. \n",
       "  1.000   3.000   6.000   5.796   9.000  20.000 "
      ]
     },
     "metadata": {},
     "output_type": "display_data"
    }
   ],
   "source": [
    "dat = dat_peak_score_summary\n",
    "summary(dat$Count)"
   ]
  },
  {
   "cell_type": "code",
   "execution_count": 9,
   "id": "1c3f6396-486c-4131-8265-6c4ef39b3bfb",
   "metadata": {},
   "outputs": [
    {
     "data": {
      "text/plain": [
       "\n",
       "    1     2     3     4     5     6     7     8     9    10    11    12    13 \n",
       "20699 16295 13607 11921 10898 10155  9983 10213 13885 35035    36    26    16 \n",
       "   14    15    16    17    18    19    20 \n",
       "    6     9     7     2     3     8     4 "
      ]
     },
     "metadata": {},
     "output_type": "display_data"
    }
   ],
   "source": [
    "dat = dat_peak_score_summary\n",
    "table(dat$Count)"
   ]
  },
  {
   "cell_type": "code",
   "execution_count": 10,
   "id": "def569a3-5c00-421c-9afc-f9e5ade7f2e6",
   "metadata": {},
   "outputs": [
    {
     "data": {
      "image/png": "[encoded data removed]",
      "text/plain": [
       "plot without title"
      ]
     },
     "metadata": {
      "image/png": {
       "height": 300,
       "width": 480
      }
     },
     "output_type": "display_data"
    }
   ],
   "source": [
    "dat = dat_peak_score_summary\n",
    "gpt = ggplot(dat, aes(x=Count)) + \n",
    "    geom_histogram(binwidth = 1) + \n",
    "    labs(y=\"#Guides / Region\") +\n",
    "    theme_cowplot()\n",
    "options(repr.plot.height=5, repr.plot.width=8)\n",
    "print(gpt)"
   ]
  },
  {
   "cell_type": "code",
   "execution_count": 11,
   "id": "10fca4df-28ba-4c0b-9e32-8da6704608d0",
   "metadata": {},
   "outputs": [
    {
     "data": {
      "image/png": "[encoded data removed]",
      "text/plain": [
       "plot without title"
      ]
     },
     "metadata": {
      "image/png": {
       "height": 300,
       "width": 480
      }
     },
     "output_type": "display_data"
    }
   ],
   "source": [
    "dat = dat_peak_score_arrange\n",
    "gpt = ggplot(dat, aes(x=Score)) + \n",
    "    geom_histogram(bins = 50) + \n",
    "    labs(y=\"Score\") +\n",
    "    theme_cowplot()\n",
    "print(gpt)"
   ]
  },
  {
   "cell_type": "markdown",
   "id": "d3af9658-16c9-4188-93a4-d8fb98369368",
   "metadata": {},
   "source": [
    "## Save results"
   ]
  },
  {
   "cell_type": "code",
   "execution_count": 14,
   "id": "68f5f7cb-cc8d-499b-887d-f51cfd7cfb9c",
   "metadata": {},
   "outputs": [
    {
     "data": {
      "text/html": [
       "'CRISPRi_Growth_K562_Gersbach'"
      ],
      "text/latex": [
       "'CRISPRi\\_Growth\\_K562\\_Gersbach'"
      ],
      "text/markdown": [
       "'CRISPRi_Growth_K562_Gersbach'"
      ],
      "text/plain": [
       "[1] \"CRISPRi_Growth_K562_Gersbach\""
      ]
     },
     "metadata": {},
     "output_type": "display_data"
    }
   ],
   "source": [
    "ASSAY"
   ]
  },
  {
   "cell_type": "code",
   "execution_count": 15,
   "id": "d7503849-fca8-4588-af79-bfb3fd9a9e96",
   "metadata": {},
   "outputs": [
    {
     "data": {
      "text/html": [
       "'coverage_ccres_v4'"
      ],
      "text/latex": [
       "'coverage\\_ccres\\_v4'"
      ],
      "text/markdown": [
       "'coverage_ccres_v4'"
      ],
      "text/plain": [
       "[1] \"coverage_ccres_v4\""
      ]
     },
     "metadata": {},
     "output_type": "display_data"
    }
   ],
   "source": [
    "FOLDER"
   ]
  },
  {
   "cell_type": "code",
   "execution_count": 17,
   "id": "8936648c-5181-4098-8a43-be902b4a0cdc",
   "metadata": {},
   "outputs": [],
   "source": [
    "fdiry = file.path(FD_RES, \"results\", ASSAY, FOLDER, \"summary\")\n",
    "fname = \"results.score.tsv\"\n",
    "fpath = file.path(fdiry, fname)\n",
    "\n",
    "dat = dat_peak_score_arrange\n",
    "write_tsv(dat, fpath)"
   ]
  },
  {
   "cell_type": "code",
   "execution_count": 18,
   "id": "e68ce63e-bb18-4135-975c-b3a0c5ad501f",
   "metadata": {},
   "outputs": [],
   "source": [
    "fdiry = file.path(FD_RES, \"results\", ASSAY, FOLDER, \"summary\")\n",
    "fname = \"results.summary.tsv\"\n",
    "fpath = file.path(fdiry, fname)\n",
    "\n",
    "dat = dat_peak_score_summary\n",
    "write_tsv(dat, fpath)"
   ]
  },
  {
   "cell_type": "code",
   "execution_count": null,
   "id": "633f60f3-61f3-4718-bf31-9ea911747b0a",
   "metadata": {},
   "outputs": [],
   "source": []
  }
 ],
 "metadata": {
  "kernelspec": {
   "display_name": "R",
   "language": "R",
   "name": "ir"
  },
  "language_info": {
   "codemirror_mode": "r",
   "file_extension": ".r",
   "mimetype": "text/x-r-source",
   "name": "R",
   "pygments_lexer": "r",
   "version": "4.3.1"
  }
 },
 "nbformat": 4,
 "nbformat_minor": 5
}
