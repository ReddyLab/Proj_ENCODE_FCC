{
 "cells": [
  {
   "cell_type": "markdown",
   "metadata": {},
   "source": [
    "**Set environment**"
   ]
  },
  {
   "cell_type": "code",
   "execution_count": 1,
   "metadata": {},
   "outputs": [
    {
     "name": "stdout",
     "output_type": "stream",
     "text": [
      "You are in Singularity: singularity_proj_encode_fcc \n",
      "BASE DIRECTORY (FD_BASE): /data/reddylab/Kuei \n",
      "WORK DIRECTORY (FD_WORK): /data/reddylab/Kuei/out \n",
      "CODE DIRECTORY (FD_CODE): /data/reddylab/Kuei/code \n",
      "PATH OF PROJECT (FD_PRJ): /data/reddylab/Kuei/code/Proj_CombEffect_ENCODE_FCC \n",
      "PATH OF RESULTS (FD_RES): /data/reddylab/Kuei/out/proj_combeffect_encode_fcc \n",
      "PATH OF LOG     (FD_LOG): /data/reddylab/Kuei/out/proj_combeffect_encode_fcc/log \n"
     ]
    }
   ],
   "source": [
    "suppressMessages(suppressWarnings(source(\"../config/config_sing.R\")))\n",
    "show_env()"
   ]
  },
  {
   "cell_type": "code",
   "execution_count": 3,
   "metadata": {},
   "outputs": [
    {
     "name": "stderr",
     "output_type": "stream",
     "text": [
      "\u001b[1mRows: \u001b[22m\u001b[34m87\u001b[39m \u001b[1mColumns: \u001b[22m\u001b[34m6\u001b[39m\n",
      "\u001b[36m──\u001b[39m \u001b[1mColumn specification\u001b[22m \u001b[36m───────────────────────────────────────────────────────────────────────\u001b[39m\n",
      "\u001b[1mDelimiter:\u001b[22m \"\\t\"\n",
      "\u001b[31mchr\u001b[39m (4): Peak, CASA, Gene_Symbol, Gene_ENS\n",
      "\u001b[32mdbl\u001b[39m (2): Score, Overlap\n",
      "\n",
      "\u001b[36mℹ\u001b[39m Use `spec()` to retrieve the full column specification for this data.\n",
      "\u001b[36mℹ\u001b[39m Specify the column types or set `show_col_types = FALSE` to quiet this message.\n"
     ]
    },
    {
     "name": "stdout",
     "output_type": "stream",
     "text": [
      "[1] 87  6\n"
     ]
    },
    {
     "data": {
      "text/html": [
       "<table class=\"dataframe\">\n",
       "<caption>A tibble: 6 × 6</caption>\n",
       "<thead>\n",
       "\t<tr><th scope=col>Peak</th><th scope=col>CASA</th><th scope=col>Score</th><th scope=col>Gene_Symbol</th><th scope=col>Gene_ENS</th><th scope=col>Overlap</th></tr>\n",
       "\t<tr><th scope=col>&lt;chr&gt;</th><th scope=col>&lt;chr&gt;</th><th scope=col>&lt;dbl&gt;</th><th scope=col>&lt;chr&gt;</th><th scope=col>&lt;chr&gt;</th><th scope=col>&lt;dbl&gt;</th></tr>\n",
       "</thead>\n",
       "<tbody>\n",
       "\t<tr><td>chr11_5249943_5250880</td><td>chr11_5249847_5250847</td><td>1.890890</td><td>HBG1</td><td>ENST00000330597.5</td><td> 904</td></tr>\n",
       "\t<tr><td>chr11_5249943_5250880</td><td>chr11_5249847_5250847</td><td>1.922956</td><td>HBG2</td><td>ENST00000336906.6</td><td> 904</td></tr>\n",
       "\t<tr><td>chr11_5254190_5254453</td><td>chr11_5253647_5254647</td><td>1.504404</td><td>HBG1</td><td>ENST00000330597.5</td><td> 263</td></tr>\n",
       "\t<tr><td>chr11_5254190_5254453</td><td>chr11_5253647_5254647</td><td>1.430535</td><td>HBG2</td><td>ENST00000336906.6</td><td> 263</td></tr>\n",
       "\t<tr><td>chr11_5269440_5270695</td><td>chr11_5269147_5271147</td><td>1.906478</td><td>HBE1</td><td>ENST00000336906.6</td><td>1255</td></tr>\n",
       "\t<tr><td>chr11_5275424_5276195</td><td>chr11_5275847_5276247</td><td>1.173871</td><td>HBG1</td><td>ENST00000330597.5</td><td> 348</td></tr>\n",
       "</tbody>\n",
       "</table>\n"
      ],
      "text/latex": [
       "A tibble: 6 × 6\n",
       "\\begin{tabular}{llllll}\n",
       " Peak & CASA & Score & Gene\\_Symbol & Gene\\_ENS & Overlap\\\\\n",
       " <chr> & <chr> & <dbl> & <chr> & <chr> & <dbl>\\\\\n",
       "\\hline\n",
       "\t chr11\\_5249943\\_5250880 & chr11\\_5249847\\_5250847 & 1.890890 & HBG1 & ENST00000330597.5 &  904\\\\\n",
       "\t chr11\\_5249943\\_5250880 & chr11\\_5249847\\_5250847 & 1.922956 & HBG2 & ENST00000336906.6 &  904\\\\\n",
       "\t chr11\\_5254190\\_5254453 & chr11\\_5253647\\_5254647 & 1.504404 & HBG1 & ENST00000330597.5 &  263\\\\\n",
       "\t chr11\\_5254190\\_5254453 & chr11\\_5253647\\_5254647 & 1.430535 & HBG2 & ENST00000336906.6 &  263\\\\\n",
       "\t chr11\\_5269440\\_5270695 & chr11\\_5269147\\_5271147 & 1.906478 & HBE1 & ENST00000336906.6 & 1255\\\\\n",
       "\t chr11\\_5275424\\_5276195 & chr11\\_5275847\\_5276247 & 1.173871 & HBG1 & ENST00000330597.5 &  348\\\\\n",
       "\\end{tabular}\n"
      ],
      "text/markdown": [
       "\n",
       "A tibble: 6 × 6\n",
       "\n",
       "| Peak &lt;chr&gt; | CASA &lt;chr&gt; | Score &lt;dbl&gt; | Gene_Symbol &lt;chr&gt; | Gene_ENS &lt;chr&gt; | Overlap &lt;dbl&gt; |\n",
       "|---|---|---|---|---|---|\n",
       "| chr11_5249943_5250880 | chr11_5249847_5250847 | 1.890890 | HBG1 | ENST00000330597.5 |  904 |\n",
       "| chr11_5249943_5250880 | chr11_5249847_5250847 | 1.922956 | HBG2 | ENST00000336906.6 |  904 |\n",
       "| chr11_5254190_5254453 | chr11_5253647_5254647 | 1.504404 | HBG1 | ENST00000330597.5 |  263 |\n",
       "| chr11_5254190_5254453 | chr11_5253647_5254647 | 1.430535 | HBG2 | ENST00000336906.6 |  263 |\n",
       "| chr11_5269440_5270695 | chr11_5269147_5271147 | 1.906478 | HBE1 | ENST00000336906.6 | 1255 |\n",
       "| chr11_5275424_5276195 | chr11_5275847_5276247 | 1.173871 | HBG1 | ENST00000330597.5 |  348 |\n",
       "\n"
      ],
      "text/plain": [
       "  Peak                  CASA                  Score    Gene_Symbol\n",
       "1 chr11_5249943_5250880 chr11_5249847_5250847 1.890890 HBG1       \n",
       "2 chr11_5249943_5250880 chr11_5249847_5250847 1.922956 HBG2       \n",
       "3 chr11_5254190_5254453 chr11_5253647_5254647 1.504404 HBG1       \n",
       "4 chr11_5254190_5254453 chr11_5253647_5254647 1.430535 HBG2       \n",
       "5 chr11_5269440_5270695 chr11_5269147_5271147 1.906478 HBE1       \n",
       "6 chr11_5275424_5276195 chr11_5275847_5276247 1.173871 HBG1       \n",
       "  Gene_ENS          Overlap\n",
       "1 ENST00000330597.5  904   \n",
       "2 ENST00000336906.6  904   \n",
       "3 ENST00000330597.5  263   \n",
       "4 ENST00000336906.6  263   \n",
       "5 ENST00000336906.6 1255   \n",
       "6 ENST00000330597.5  348   "
      ]
     },
     "metadata": {},
     "output_type": "display_data"
    }
   ],
   "source": [
    "fdiry = file.path(FD_RES, \"results\", \"region\", \"KS91_K562_ASTARRseq_peak_macs_input\")\n",
    "fname = \"peak.summary.crispri_casa_peak.tsv\"\n",
    "fpath = file.path(fdiry, fname)\n",
    "\n",
    "dat = read_tsv(fpath)\n",
    "\n",
    "dat_peak_crispr_casa = dat\n",
    "print(dim(dat))\n",
    "head(dat)"
   ]
  },
  {
   "cell_type": "code",
   "execution_count": 21,
   "metadata": {},
   "outputs": [
    {
     "data": {
      "text/html": [
       "<table class=\"dataframe\">\n",
       "<caption>A tibble: 11 × 8</caption>\n",
       "<thead>\n",
       "\t<tr><th scope=col>Peak</th><th scope=col>CASA</th><th scope=col>Score</th><th scope=col>Gene_Symbol</th><th scope=col>Gene_ENS</th><th scope=col>Overlap</th><th scope=col>Gene</th><th scope=col>Sign</th></tr>\n",
       "\t<tr><th scope=col>&lt;chr&gt;</th><th scope=col>&lt;chr&gt;</th><th scope=col>&lt;dbl&gt;</th><th scope=col>&lt;chr&gt;</th><th scope=col>&lt;chr&gt;</th><th scope=col>&lt;dbl&gt;</th><th scope=col>&lt;chr&gt;</th><th scope=col>&lt;chr&gt;</th></tr>\n",
       "</thead>\n",
       "<tbody>\n",
       "\t<tr><td>chr11_61814735_61817343  </td><td>chr11_61816500_61817100  </td><td>-0.6149356</td><td>FADS3</td><td>ENSG00000221968  </td><td> 600</td><td>FADS3</td><td>neg</td></tr>\n",
       "\t<tr><td>chr11_61869565_61871916  </td><td>chr11_61870100_61873100  </td><td>-1.3559256</td><td>FADS3</td><td>ENSG00000221968  </td><td>1816</td><td>FADS3</td><td>neg</td></tr>\n",
       "\t<tr><td>chr12_112005783_112006330</td><td>chr12_112005226_112006426</td><td>-0.9551667</td><td>ERP29</td><td>ENSG00000089248  </td><td> 547</td><td>ERP29</td><td>neg</td></tr>\n",
       "\t<tr><td>chr6_109308062_109308421 </td><td>chr6_109308045_109308645 </td><td>-1.0178052</td><td>CD164</td><td>ENSG00000135535  </td><td> 359</td><td>CD164</td><td>neg</td></tr>\n",
       "\t<tr><td>chr6_135321046_135321957 </td><td>chr6_135321286_135321686 </td><td>-0.7820552</td><td>HBG1 </td><td>ENST00000330597.5</td><td> 400</td><td>HBG1 </td><td>neg</td></tr>\n",
       "\t<tr><td>chr6_135321046_135321957 </td><td>chr6_135321286_135321686 </td><td>-0.9863269</td><td>HBG2 </td><td>ENST00000336906.6</td><td> 400</td><td>HBG2 </td><td>neg</td></tr>\n",
       "\t<tr><td>chr6_135322859_135323689 </td><td>chr6_135322686_135323686 </td><td>-1.5616941</td><td>HBG1 </td><td>ENST00000330597.5</td><td> 827</td><td>HBG1 </td><td>neg</td></tr>\n",
       "\t<tr><td>chr6_135322859_135323689 </td><td>chr6_135322686_135323686 </td><td>-1.8402149</td><td>HBG2 </td><td>ENST00000336906.6</td><td> 827</td><td>HBG2 </td><td>neg</td></tr>\n",
       "\t<tr><td>chr8_127735036_127736676 </td><td>chr8_127735869_127736569 </td><td>-0.7221916</td><td>PVT1 </td><td>ENSG00000249859  </td><td> 700</td><td>PVT1 </td><td>neg</td></tr>\n",
       "\t<tr><td>chr8_127793817_127795585 </td><td>chr8_127794569_127795269 </td><td>-0.5050054</td><td>MYC  </td><td>ENSG00000136997  </td><td> 700</td><td>MYC  </td><td>neg</td></tr>\n",
       "\t<tr><td>chrX_48785773_48786737   </td><td>chrX_48786297_48786997   </td><td>-1.4253163</td><td>HDAC6</td><td>ENSG00000094631  </td><td> 440</td><td>HDAC6</td><td>neg</td></tr>\n",
       "</tbody>\n",
       "</table>\n"
      ],
      "text/latex": [
       "A tibble: 11 × 8\n",
       "\\begin{tabular}{llllllll}\n",
       " Peak & CASA & Score & Gene\\_Symbol & Gene\\_ENS & Overlap & Gene & Sign\\\\\n",
       " <chr> & <chr> & <dbl> & <chr> & <chr> & <dbl> & <chr> & <chr>\\\\\n",
       "\\hline\n",
       "\t chr11\\_61814735\\_61817343   & chr11\\_61816500\\_61817100   & -0.6149356 & FADS3 & ENSG00000221968   &  600 & FADS3 & neg\\\\\n",
       "\t chr11\\_61869565\\_61871916   & chr11\\_61870100\\_61873100   & -1.3559256 & FADS3 & ENSG00000221968   & 1816 & FADS3 & neg\\\\\n",
       "\t chr12\\_112005783\\_112006330 & chr12\\_112005226\\_112006426 & -0.9551667 & ERP29 & ENSG00000089248   &  547 & ERP29 & neg\\\\\n",
       "\t chr6\\_109308062\\_109308421  & chr6\\_109308045\\_109308645  & -1.0178052 & CD164 & ENSG00000135535   &  359 & CD164 & neg\\\\\n",
       "\t chr6\\_135321046\\_135321957  & chr6\\_135321286\\_135321686  & -0.7820552 & HBG1  & ENST00000330597.5 &  400 & HBG1  & neg\\\\\n",
       "\t chr6\\_135321046\\_135321957  & chr6\\_135321286\\_135321686  & -0.9863269 & HBG2  & ENST00000336906.6 &  400 & HBG2  & neg\\\\\n",
       "\t chr6\\_135322859\\_135323689  & chr6\\_135322686\\_135323686  & -1.5616941 & HBG1  & ENST00000330597.5 &  827 & HBG1  & neg\\\\\n",
       "\t chr6\\_135322859\\_135323689  & chr6\\_135322686\\_135323686  & -1.8402149 & HBG2  & ENST00000336906.6 &  827 & HBG2  & neg\\\\\n",
       "\t chr8\\_127735036\\_127736676  & chr8\\_127735869\\_127736569  & -0.7221916 & PVT1  & ENSG00000249859   &  700 & PVT1  & neg\\\\\n",
       "\t chr8\\_127793817\\_127795585  & chr8\\_127794569\\_127795269  & -0.5050054 & MYC   & ENSG00000136997   &  700 & MYC   & neg\\\\\n",
       "\t chrX\\_48785773\\_48786737    & chrX\\_48786297\\_48786997    & -1.4253163 & HDAC6 & ENSG00000094631   &  440 & HDAC6 & neg\\\\\n",
       "\\end{tabular}\n"
      ],
      "text/markdown": [
       "\n",
       "A tibble: 11 × 8\n",
       "\n",
       "| Peak &lt;chr&gt; | CASA &lt;chr&gt; | Score &lt;dbl&gt; | Gene_Symbol &lt;chr&gt; | Gene_ENS &lt;chr&gt; | Overlap &lt;dbl&gt; | Gene &lt;chr&gt; | Sign &lt;chr&gt; |\n",
       "|---|---|---|---|---|---|---|---|\n",
       "| chr11_61814735_61817343   | chr11_61816500_61817100   | -0.6149356 | FADS3 | ENSG00000221968   |  600 | FADS3 | neg |\n",
       "| chr11_61869565_61871916   | chr11_61870100_61873100   | -1.3559256 | FADS3 | ENSG00000221968   | 1816 | FADS3 | neg |\n",
       "| chr12_112005783_112006330 | chr12_112005226_112006426 | -0.9551667 | ERP29 | ENSG00000089248   |  547 | ERP29 | neg |\n",
       "| chr6_109308062_109308421  | chr6_109308045_109308645  | -1.0178052 | CD164 | ENSG00000135535   |  359 | CD164 | neg |\n",
       "| chr6_135321046_135321957  | chr6_135321286_135321686  | -0.7820552 | HBG1  | ENST00000330597.5 |  400 | HBG1  | neg |\n",
       "| chr6_135321046_135321957  | chr6_135321286_135321686  | -0.9863269 | HBG2  | ENST00000336906.6 |  400 | HBG2  | neg |\n",
       "| chr6_135322859_135323689  | chr6_135322686_135323686  | -1.5616941 | HBG1  | ENST00000330597.5 |  827 | HBG1  | neg |\n",
       "| chr6_135322859_135323689  | chr6_135322686_135323686  | -1.8402149 | HBG2  | ENST00000336906.6 |  827 | HBG2  | neg |\n",
       "| chr8_127735036_127736676  | chr8_127735869_127736569  | -0.7221916 | PVT1  | ENSG00000249859   |  700 | PVT1  | neg |\n",
       "| chr8_127793817_127795585  | chr8_127794569_127795269  | -0.5050054 | MYC   | ENSG00000136997   |  700 | MYC   | neg |\n",
       "| chrX_48785773_48786737    | chrX_48786297_48786997    | -1.4253163 | HDAC6 | ENSG00000094631   |  440 | HDAC6 | neg |\n",
       "\n"
      ],
      "text/plain": [
       "   Peak                      CASA                      Score      Gene_Symbol\n",
       "1  chr11_61814735_61817343   chr11_61816500_61817100   -0.6149356 FADS3      \n",
       "2  chr11_61869565_61871916   chr11_61870100_61873100   -1.3559256 FADS3      \n",
       "3  chr12_112005783_112006330 chr12_112005226_112006426 -0.9551667 ERP29      \n",
       "4  chr6_109308062_109308421  chr6_109308045_109308645  -1.0178052 CD164      \n",
       "5  chr6_135321046_135321957  chr6_135321286_135321686  -0.7820552 HBG1       \n",
       "6  chr6_135321046_135321957  chr6_135321286_135321686  -0.9863269 HBG2       \n",
       "7  chr6_135322859_135323689  chr6_135322686_135323686  -1.5616941 HBG1       \n",
       "8  chr6_135322859_135323689  chr6_135322686_135323686  -1.8402149 HBG2       \n",
       "9  chr8_127735036_127736676  chr8_127735869_127736569  -0.7221916 PVT1       \n",
       "10 chr8_127793817_127795585  chr8_127794569_127795269  -0.5050054 MYC        \n",
       "11 chrX_48785773_48786737    chrX_48786297_48786997    -1.4253163 HDAC6      \n",
       "   Gene_ENS          Overlap Gene  Sign\n",
       "1  ENSG00000221968    600    FADS3 neg \n",
       "2  ENSG00000221968   1816    FADS3 neg \n",
       "3  ENSG00000089248    547    ERP29 neg \n",
       "4  ENSG00000135535    359    CD164 neg \n",
       "5  ENST00000330597.5  400    HBG1  neg \n",
       "6  ENST00000336906.6  400    HBG2  neg \n",
       "7  ENST00000330597.5  827    HBG1  neg \n",
       "8  ENST00000336906.6  827    HBG2  neg \n",
       "9  ENSG00000249859    700    PVT1  neg \n",
       "10 ENSG00000136997    700    MYC   neg \n",
       "11 ENSG00000094631    440    HDAC6 neg "
      ]
     },
     "metadata": {},
     "output_type": "display_data"
    }
   ],
   "source": [
    "dat = dat_peak_crispr_casa\n",
    "dat = dat %>% \n",
    "    dplyr::mutate(Gene = Gene_Symbol) %>%\n",
    "    dplyr::mutate(Sign = ifelse(Score > 0, \"pos\", \"neg\"))\n",
    "dat %>% filter(Sign == \"neg\")"
   ]
  },
  {
   "cell_type": "code",
   "execution_count": 17,
   "metadata": {},
   "outputs": [
    {
     "data": {
      "text/html": [
       "<table class=\"dataframe\">\n",
       "<caption>A tibble: 6 × 3</caption>\n",
       "<thead>\n",
       "\t<tr><th scope=col>Peak</th><th scope=col>Gene</th><th scope=col>Sign</th></tr>\n",
       "\t<tr><th scope=col>&lt;chr&gt;</th><th scope=col>&lt;chr&gt;</th><th scope=col>&lt;chr&gt;</th></tr>\n",
       "</thead>\n",
       "<tbody>\n",
       "\t<tr><td>chr11_33868682_33871379</td><td>LMO2            </td><td>pos</td></tr>\n",
       "\t<tr><td>chr11_33880631_33881416</td><td>LMO2            </td><td>pos</td></tr>\n",
       "\t<tr><td>chr11_33881831_33882405</td><td>LMO2            </td><td>pos</td></tr>\n",
       "\t<tr><td>chr11_33936760_33937819</td><td>LMO2            </td><td>pos</td></tr>\n",
       "\t<tr><td>chr11_33941500_33942221</td><td>LMO2            </td><td>pos</td></tr>\n",
       "\t<tr><td>chr11_33944510_33945297</td><td>CAPRIN1,CAT,LMO2</td><td>pos</td></tr>\n",
       "</tbody>\n",
       "</table>\n"
      ],
      "text/latex": [
       "A tibble: 6 × 3\n",
       "\\begin{tabular}{lll}\n",
       " Peak & Gene & Sign\\\\\n",
       " <chr> & <chr> & <chr>\\\\\n",
       "\\hline\n",
       "\t chr11\\_33868682\\_33871379 & LMO2             & pos\\\\\n",
       "\t chr11\\_33880631\\_33881416 & LMO2             & pos\\\\\n",
       "\t chr11\\_33881831\\_33882405 & LMO2             & pos\\\\\n",
       "\t chr11\\_33936760\\_33937819 & LMO2             & pos\\\\\n",
       "\t chr11\\_33941500\\_33942221 & LMO2             & pos\\\\\n",
       "\t chr11\\_33944510\\_33945297 & CAPRIN1,CAT,LMO2 & pos\\\\\n",
       "\\end{tabular}\n"
      ],
      "text/markdown": [
       "\n",
       "A tibble: 6 × 3\n",
       "\n",
       "| Peak &lt;chr&gt; | Gene &lt;chr&gt; | Sign &lt;chr&gt; |\n",
       "|---|---|---|\n",
       "| chr11_33868682_33871379 | LMO2             | pos |\n",
       "| chr11_33880631_33881416 | LMO2             | pos |\n",
       "| chr11_33881831_33882405 | LMO2             | pos |\n",
       "| chr11_33936760_33937819 | LMO2             | pos |\n",
       "| chr11_33941500_33942221 | LMO2             | pos |\n",
       "| chr11_33944510_33945297 | CAPRIN1,CAT,LMO2 | pos |\n",
       "\n"
      ],
      "text/plain": [
       "  Peak                    Gene             Sign\n",
       "1 chr11_33868682_33871379 LMO2             pos \n",
       "2 chr11_33880631_33881416 LMO2             pos \n",
       "3 chr11_33881831_33882405 LMO2             pos \n",
       "4 chr11_33936760_33937819 LMO2             pos \n",
       "5 chr11_33941500_33942221 LMO2             pos \n",
       "6 chr11_33944510_33945297 CAPRIN1,CAT,LMO2 pos "
      ]
     },
     "metadata": {},
     "output_type": "display_data"
    }
   ],
   "source": [
    "dat = dat_peak_crispr_casa\n",
    "dat = dat %>% \n",
    "    dplyr::mutate(Gene = Gene_Symbol) %>%\n",
    "    dplyr::mutate(Sign = ifelse(Score > 0, \"pos\", \"neg\")) %>%\n",
    "    dplyr::group_by(Peak) %>%\n",
    "    dplyr::summarise(\n",
    "        Gene = paste(sort(unique(Gene)), collapse=\",\"),\n",
    "        Sign = paste(sort(unique(Sign)), collapse=\",\"),\n",
    "        .groups = \"drop\"\n",
    "    )\n",
    "head(dat)"
   ]
  },
  {
   "cell_type": "code",
   "execution_count": 18,
   "metadata": {},
   "outputs": [
    {
     "data": {
      "text/plain": [
       "\n",
       "    neg neg,pos     pos \n",
       "      3       6      48 "
      ]
     },
     "metadata": {},
     "output_type": "display_data"
    }
   ],
   "source": [
    "table(dat$Sign)"
   ]
  },
  {
   "cell_type": "code",
   "execution_count": 19,
   "metadata": {},
   "outputs": [
    {
     "data": {
      "text/html": [
       "<table class=\"dataframe\">\n",
       "<caption>A tibble: 6 × 3</caption>\n",
       "<thead>\n",
       "\t<tr><th scope=col>Peak</th><th scope=col>Gene</th><th scope=col>Sign</th></tr>\n",
       "\t<tr><th scope=col>&lt;chr&gt;</th><th scope=col>&lt;chr&gt;</th><th scope=col>&lt;chr&gt;</th></tr>\n",
       "</thead>\n",
       "<tbody>\n",
       "\t<tr><td>chr11_61814735_61817343 </td><td>FADS1,FADS2,FADS3</td><td>neg,pos</td></tr>\n",
       "\t<tr><td>chr11_61869565_61871916 </td><td>FADS1,FADS3      </td><td>neg,pos</td></tr>\n",
       "\t<tr><td>chr6_135321046_135321957</td><td>HBG1,HBG2,MYB    </td><td>neg,pos</td></tr>\n",
       "\t<tr><td>chr6_135322859_135323689</td><td>HBG1,HBG2,MYB    </td><td>neg,pos</td></tr>\n",
       "\t<tr><td>chr8_127735036_127736676</td><td>MYC,PVT1         </td><td>neg,pos</td></tr>\n",
       "\t<tr><td>chrX_48785773_48786737  </td><td>GATA1,HDAC6      </td><td>neg,pos</td></tr>\n",
       "</tbody>\n",
       "</table>\n"
      ],
      "text/latex": [
       "A tibble: 6 × 3\n",
       "\\begin{tabular}{lll}\n",
       " Peak & Gene & Sign\\\\\n",
       " <chr> & <chr> & <chr>\\\\\n",
       "\\hline\n",
       "\t chr11\\_61814735\\_61817343  & FADS1,FADS2,FADS3 & neg,pos\\\\\n",
       "\t chr11\\_61869565\\_61871916  & FADS1,FADS3       & neg,pos\\\\\n",
       "\t chr6\\_135321046\\_135321957 & HBG1,HBG2,MYB     & neg,pos\\\\\n",
       "\t chr6\\_135322859\\_135323689 & HBG1,HBG2,MYB     & neg,pos\\\\\n",
       "\t chr8\\_127735036\\_127736676 & MYC,PVT1          & neg,pos\\\\\n",
       "\t chrX\\_48785773\\_48786737   & GATA1,HDAC6       & neg,pos\\\\\n",
       "\\end{tabular}\n"
      ],
      "text/markdown": [
       "\n",
       "A tibble: 6 × 3\n",
       "\n",
       "| Peak &lt;chr&gt; | Gene &lt;chr&gt; | Sign &lt;chr&gt; |\n",
       "|---|---|---|\n",
       "| chr11_61814735_61817343  | FADS1,FADS2,FADS3 | neg,pos |\n",
       "| chr11_61869565_61871916  | FADS1,FADS3       | neg,pos |\n",
       "| chr6_135321046_135321957 | HBG1,HBG2,MYB     | neg,pos |\n",
       "| chr6_135322859_135323689 | HBG1,HBG2,MYB     | neg,pos |\n",
       "| chr8_127735036_127736676 | MYC,PVT1          | neg,pos |\n",
       "| chrX_48785773_48786737   | GATA1,HDAC6       | neg,pos |\n",
       "\n"
      ],
      "text/plain": [
       "  Peak                     Gene              Sign   \n",
       "1 chr11_61814735_61817343  FADS1,FADS2,FADS3 neg,pos\n",
       "2 chr11_61869565_61871916  FADS1,FADS3       neg,pos\n",
       "3 chr6_135321046_135321957 HBG1,HBG2,MYB     neg,pos\n",
       "4 chr6_135322859_135323689 HBG1,HBG2,MYB     neg,pos\n",
       "5 chr8_127735036_127736676 MYC,PVT1          neg,pos\n",
       "6 chrX_48785773_48786737   GATA1,HDAC6       neg,pos"
      ]
     },
     "metadata": {},
     "output_type": "display_data"
    }
   ],
   "source": [
    "dat %>% dplyr::filter(Sign == \"neg,pos\")"
   ]
  },
  {
   "cell_type": "code",
   "execution_count": null,
   "metadata": {},
   "outputs": [],
   "source": []
  }
 ],
 "metadata": {
  "kernelspec": {
   "display_name": "R",
   "language": "R",
   "name": "ir"
  },
  "language_info": {
   "codemirror_mode": "r",
   "file_extension": ".r",
   "mimetype": "text/x-r-source",
   "name": "R",
   "pygments_lexer": "r",
   "version": "4.3.0"
  }
 },
 "nbformat": 4,
 "nbformat_minor": 4
}
