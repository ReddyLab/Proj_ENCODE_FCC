{
 "cells": [
  {
   "cell_type": "code",
   "execution_count": 1,
   "id": "8dc2b72d-d041-4867-b92a-ce95832ea685",
   "metadata": {},
   "outputs": [
    {
     "name": "stdout",
     "output_type": "stream",
     "text": [
      "You are on Duke Server: HARDAC\n",
      "BASE DIRECTORY (FD_BASE): /data/reddylab/Kuei\n",
      "WORK DIRECTORY (FD_WORK): /data/reddylab/Kuei/out\n",
      "CODE DIRECTORY (FD_CODE): /data/reddylab/Kuei/code\n",
      "SING DIRECTORY (FD_SING): /data/reddylab/Kuei/singularity\n",
      "PATH OF PROJECT (FD_PRJ): /data/reddylab/Kuei/code/Proj_CombEffect_ENCODE_FCC\n",
      "PATH OF RESULTS (FD_RES): /data/reddylab/Kuei/out/proj_combeffect_encode_fcc\n",
      "PATH OF LOG     (FD_LOG): /data/reddylab/Kuei/out/proj_combeffect_encode_fcc/log\n",
      "\n"
     ]
    }
   ],
   "source": [
    "source ../config/config_duke.sh\n",
    "source ../config/config_load_module_bedtools.sh\n",
    "show_env"
   ]
  },
  {
   "cell_type": "code",
   "execution_count": null,
   "id": "0fe5d140-8cd5-4ac8-ae6e-94448bc07ddf",
   "metadata": {},
   "outputs": [],
   "source": []
  },
  {
   "cell_type": "code",
   "execution_count": 2,
   "id": "b130c4cb-1610-40ab-8aa6-817263b1a6e0",
   "metadata": {},
   "outputs": [
    {
     "name": "stdout",
     "output_type": "stream",
     "text": [
      "/data/reddylab/Kuei/out/proj_combeffect_encode_fcc/results/Tewhey_K562_TileMPRA/fragment_count\n",
      "OL13_20220512.hg38.raw.Input.rep1.stranded_pos.bed\n",
      "OL13_20220512.hg38.raw.Input.rep2.stranded_pos.bed\n",
      "OL13_20220512.hg38.raw.Input.rep3.stranded_pos.bed\n",
      "OL13_20220512.hg38.raw.Input.rep4.stranded_pos.bed\n",
      "OL13_20220512.hg38.raw.Output.rep1.stranded_pos.bed\n",
      "OL13_20220512.hg38.raw.Output.rep2.stranded_pos.bed\n",
      "OL13_20220512.hg38.raw.Output.rep3.stranded_pos.bed\n",
      "OL13_20220512.hg38.raw.Output.rep4.stranded_pos.bed\n",
      "OL43_20221003.hg38.raw.Input.rep1.stranded_pos.bed\n",
      "OL43_20221003.hg38.raw.Input.rep2.stranded_pos.bed\n",
      "OL43_20221003.hg38.raw.Input.rep3.stranded_pos.bed\n",
      "OL43_20221003.hg38.raw.Input.rep4.stranded_pos.bed\n",
      "OL43_20221003.hg38.raw.Input.rep5.stranded_pos.bed\n",
      "OL43_20221003.hg38.raw.Input.rep6.stranded_pos.bed\n",
      "OL43_20221003.hg38.raw.Output.rep1.stranded_pos.bed\n",
      "OL43_20221003.hg38.raw.Output.rep2.stranded_pos.bed\n",
      "OL43_20221003.hg38.raw.Output.rep3.stranded_pos.bed\n",
      "OL43_20221003.hg38.raw.Output.rep4.stranded_pos.bed\n",
      "OL43_20221003.hg38.raw.Output.rep5.stranded_pos.bed\n",
      "OL45_20220927.hg38.raw.Input.rep1.stranded_pos.bed\n",
      "OL45_20220927.hg38.raw.Input.rep2.stranded_pos.bed\n",
      "OL45_20220927.hg38.raw.Input.rep3.stranded_pos.bed\n",
      "OL45_20220927.hg38.raw.Input.rep4.stranded_pos.bed\n",
      "OL45_20220927.hg38.raw.Output.rep1.stranded_pos.bed\n",
      "OL45_20220927.hg38.raw.Output.rep2.stranded_pos.bed\n",
      "OL45_20220927.hg38.raw.Output.rep3.stranded_pos.bed\n",
      "OL45_20220927.hg38.raw.Output.rep4.stranded_pos.bed\n"
     ]
    }
   ],
   "source": [
    "ASSAY=Tewhey_K562_TileMPRA\n",
    "PREFIX=OL\n",
    "FD_INP=${FD_RES}/results/${ASSAY}/fragment_count\n",
    "\n",
    "echo ${FD_INP}\n",
    "ls ${FD_INP}/${PREFIX}*hg38*raw*rep*bed | xargs -n 1 basename"
   ]
  },
  {
   "cell_type": "code",
   "execution_count": 4,
   "id": "6a95d24e-b514-4053-9115-d3780a9cddb5",
   "metadata": {},
   "outputs": [
    {
     "name": "stdout",
     "output_type": "stream",
     "text": [
      "Total: 27\n"
     ]
    }
   ],
   "source": [
    "ASSAY=Tewhey_K562_TileMPRA\n",
    "PREFIX=OL\n",
    "FP_INPS=($(ls ${FD_INP}/${PREFIX}*hg38*raw*rep*bed))\n",
    "echo Total: ${#FP_INPS[@]}"
   ]
  },
  {
   "cell_type": "markdown",
   "id": "203ed46a-65d0-42d3-8357-9b03b2938411",
   "metadata": {},
   "source": [
    "**RUN**"
   ]
  },
  {
   "cell_type": "code",
   "execution_count": 6,
   "id": "de0c1813-78ce-448a-87f0-9b757e3aba14",
   "metadata": {},
   "outputs": [
    {
     "name": "stdout",
     "output_type": "stream",
     "text": [
      "Submitted batch job 30635243\n"
     ]
    }
   ],
   "source": [
    "sbatch -p ${NODE} \\\n",
    "    --exclude=dl-01 \\\n",
    "    --cpus-per-task 8 \\\n",
    "    --mem 20G \\\n",
    "    --output ${FD_LOG}/coverage_ccres_v4_tmpra.%a.txt \\\n",
    "    --array 0-26 \\\n",
    "    <<'EOF'\n",
    "#!/bin/bash\n",
    "### set directories & global variables\n",
    "source ../config/config_duke.sh\n",
    "ASSAY=Tewhey_K562_TileMPRA\n",
    "PREFIX=OL\n",
    "\n",
    "### print start message\n",
    "timer_start=`date +%s`\n",
    "echo \"Hostname:          \" $(hostname)\n",
    "echo \"Slurm Array Index: \" ${SLURM_ARRAY_TASK_ID}\n",
    "echo \"Time Stamp:        \" $(date +\"%m-%d-%y+%T\")\n",
    "echo\n",
    "\n",
    "### set input and output directory\n",
    "FD_INP=${FD_RES}/results/${ASSAY}/fragment_count\n",
    "FD_OUT=${FD_RES}/results/${ASSAY}/coverage_ccres_v4\n",
    "\n",
    "FP_INPS=($(ls ${FD_INP}/${PREFIX}*hg38*raw*rep*bed))\n",
    "FP_INP=${FP_INPS[${SLURM_ARRAY_TASK_ID}]}\n",
    "FN_INP=$(basename ${FP_INP})\n",
    "\n",
    "FN_OUT=${FN_INP}.gz\n",
    "FP_OUT=${FD_OUT}/${FN_OUT}\n",
    "\n",
    "FD_REG=${FD_RES}/results/region/annotation_ccres\n",
    "FN_REG=ccres_v4.bed.gz\n",
    "FP_REG=${FD_REG}/${FN_REG}\n",
    "\n",
    "### Show I/O file\n",
    "echo \"Input  file: \" ${FP_INP}\n",
    "echo\n",
    "echo \"Show the first few lines of the input file\"\n",
    "fun_head ${FP_INP} | head -n 5 \n",
    "echo\n",
    "\n",
    "echo \"Input  file: \" ${FP_REG}\n",
    "echo\n",
    "echo \"Show the first few lines of the input file\"\n",
    "fun_head ${FP_REG} | head -n 3 \n",
    "echo\n",
    "\n",
    "### execute\n",
    "bedtools map \\\n",
    "    -a ${FP_REG} \\\n",
    "    -b ${FP_INP} \\\n",
    "    -o sum \\\n",
    "    -f 0.5 \\\n",
    "    -F 0.5 \\\n",
    "    -e \\\n",
    "| gzip -c \\\n",
    "> ${FP_OUT}\n",
    "\n",
    "### Show I/O file\n",
    "echo\n",
    "echo \"Output file: \" ${FP_OUT}\n",
    "echo\n",
    "echo \"Show the first few lines of the output file\"\n",
    "fun_head ${FP_OUT}\n",
    "echo\n",
    "\n",
    "### print end message\n",
    "timer_stop=`date +%s`\n",
    "runtime=$(echo \"${timer_stop} - ${timer_start}\" | bc -l)\n",
    "echo\n",
    "echo 'Done!'\n",
    "echo \"Run Time: $(displaytime ${runtime})\"\n",
    "\n",
    "EOF"
   ]
  },
  {
   "cell_type": "markdown",
   "id": "17711d35-146b-4c72-8454-c9e2d76d5c80",
   "metadata": {},
   "source": [
    "**Check results**"
   ]
  },
  {
   "cell_type": "code",
   "execution_count": 7,
   "id": "8f7ce7ac-af99-49a8-949a-67852f70373f",
   "metadata": {},
   "outputs": [
    {
     "name": "stdout",
     "output_type": "stream",
     "text": [
      "Hostname:           x2-06-2.genome.duke.edu\n",
      "Slurm Array Index:  0\n",
      "Time Stamp:         01-24-24+09:49:07\n",
      "\n",
      "Input  file:  /data/reddylab/Kuei/out/proj_combeffect_encode_fcc/results/Tewhey_K562_TileMPRA/fragment_count/OL13_20220512.hg38.raw.Input.rep1.stranded_pos.bed\n",
      "\n",
      "Show the first few lines of the input file\n",
      "chr11\t61787329\t61787528\tchr11:61554801-61555000\t971\t+\n",
      "chr11\t61787334\t61787533\tchr11:61554806-61555005\t1267\t+\n",
      "chr11\t61787339\t61787538\tchr11:61554811-61555010\t1183\t+\n",
      "chr11\t61787344\t61787543\tchr11:61554816-61555015\t1020\t+\n",
      "chr11\t61787349\t61787548\tchr11:61554821-61555020\t1138\t+\n",
      "\n",
      "Input  file:  /data/reddylab/Kuei/out/proj_combeffect_encode_fcc/results/region/annotation_ccres/ccres_v4.bed.gz\n",
      "\n",
      "Show the first few lines of the input file\n",
      "chr1\t10033\t10250\tEH38E2776516\t0\t.\t10033\t10250\t225,225,225\tLow-DNase\tAll-data/Full-classification\n",
      "chr1\t10385\t10713\tEH38E2776517\t0\t.\t10385\t10713\t225,225,225\tLow-DNase\tAll-data/Full-classification\n",
      "chr1\t16097\t16381\tEH38E3951272\t0\t.\t16097\t16381\t225,225,225\tLow-DNase\tAll-data/Full-classification\n",
      "\n",
      "\n",
      "Output file:  /data/reddylab/Kuei/out/proj_combeffect_encode_fcc/results/Tewhey_K562_TileMPRA/coverage_ccres_v4/OL13_20220512.hg38.raw.Input.rep1.stranded_pos.bed.gz\n",
      "\n",
      "Show the first few lines of the output file\n",
      "chr1\t10033\t10250\tEH38E2776516\t0\t.\t10033\t10250\t225,225,225\tLow-DNase\tAll-data/Full-classification\t.\n",
      "chr1\t10385\t10713\tEH38E2776517\t0\t.\t10385\t10713\t225,225,225\tLow-DNase\tAll-data/Full-classification\t.\n",
      "chr1\t16097\t16381\tEH38E3951272\t0\t.\t16097\t16381\t225,225,225\tLow-DNase\tAll-data/Full-classification\t.\n",
      "chr1\t17343\t17642\tEH38E3951273\t0\t.\t17343\t17642\t225,225,225\tLow-DNase\tAll-data/Full-classification\t.\n",
      "chr1\t29320\t29517\tEH38E3951274\t0\t.\t29320\t29517\t225,225,225\tLow-DNase\tAll-data/Full-classification\t.\n",
      "chr1\t66350\t66509\tEH38E3951275\t0\t.\t66350\t66509\t225,225,225\tLow-DNase\tAll-data/Full-classification\t.\n",
      "chr1\t78990\t79238\tEH38E3951276\t0\t.\t78990\t79238\t225,225,225\tLow-DNase\tAll-data/Full-classification\t.\n",
      "chr1\t79304\t79545\tEH38E2776519\t0\t.\t79304\t79545\t225,225,225\tLow-DNase\tAll-data/Full-classification\t.\n",
      "chr1\t91087\t91426\tEH38E3951277\t0\t.\t91087\t91426\t225,225,225\tLow-DNase\tAll-data/Full-classification\t.\n",
      "chr1\t98867\t99117\tEH38E3951278\t0\t.\t98867\t99117\t225,225,225\tLow-DNase\tAll-data/Full-classification\t.\n",
      "\n",
      "\n",
      "Done!\n",
      "Run Time: 9 seconds\n"
     ]
    }
   ],
   "source": [
    "cat ${FD_LOG}/coverage_ccres_v4_tmpra.0.txt"
   ]
  },
  {
   "cell_type": "code",
   "execution_count": null,
   "id": "144f9fce-3d4f-43b0-b7f8-7b3089896c3a",
   "metadata": {},
   "outputs": [],
   "source": []
  }
 ],
 "metadata": {
  "kernelspec": {
   "display_name": "Bash",
   "language": "bash",
   "name": "bash"
  },
  "language_info": {
   "codemirror_mode": "shell",
   "file_extension": ".sh",
   "mimetype": "text/x-sh",
   "name": "bash"
  }
 },
 "nbformat": 4,
 "nbformat_minor": 5
}
