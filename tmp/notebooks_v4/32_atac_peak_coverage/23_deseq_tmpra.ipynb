{
 "cells": [
  {
   "cell_type": "markdown",
   "metadata": {},
   "source": [
    "**Set environment**"
   ]
  },
  {
   "cell_type": "code",
   "execution_count": 1,
   "metadata": {},
   "outputs": [
    {
     "name": "stdout",
     "output_type": "stream",
     "text": [
      "You are in Singularity: singularity_proj_encode_fcc \n",
      "BASE DIRECTORY (FD_BASE): /data/reddylab/Kuei \n",
      "WORK DIRECTORY (FD_WORK): /data/reddylab/Kuei/out \n",
      "CODE DIRECTORY (FD_CODE): /data/reddylab/Kuei/code \n",
      "PATH OF PROJECT (FD_PRJ): /data/reddylab/Kuei/code/Proj_CombEffect_ENCODE_FCC \n",
      "PATH OF RESULTS (FD_RES): /data/reddylab/Kuei/out/proj_combeffect_encode_fcc \n",
      "PATH OF LOG     (FD_LOG): /data/reddylab/Kuei/out/proj_combeffect_encode_fcc/log \n"
     ]
    }
   ],
   "source": [
    "suppressMessages(suppressWarnings(source(\"../config/config_sing.R\")))\n",
    "suppressMessages(suppressWarnings(library(\"DESeq2\")))\n",
    "show_env()"
   ]
  },
  {
   "cell_type": "markdown",
   "metadata": {},
   "source": [
    "## Import count matrix and metadata to setup DESeq2"
   ]
  },
  {
   "cell_type": "code",
   "execution_count": 2,
   "metadata": {},
   "outputs": [
    {
     "name": "stdout",
     "output_type": "stream",
     "text": [
      " [1] \"matrix.raw.count.OL13_20220512.tsv\"       \n",
      " [2] \"matrix.raw.count.OL43_20221003.tsv\"       \n",
      " [3] \"matrix.raw.count.OL45_20220927.tsv\"       \n",
      " [4] \"matrix.raw.cpm.OL13_20220512.tsv\"         \n",
      " [5] \"matrix.raw.cpm.OL43_20221003.tsv\"         \n",
      " [6] \"matrix.raw.cpm.OL45_20220927.tsv\"         \n",
      " [7] \"metadata.raw.OL13_20220512.tsv\"           \n",
      " [8] \"metadata.raw.OL43_20221003.tsv\"           \n",
      " [9] \"metadata.raw.OL45_20220927.tsv\"           \n",
      "[10] \"result.Log2FC.raw.cpm.Merge.tsv\"          \n",
      "[11] \"result.Log2FC.raw.cpm.OL13_20220512.tsv\"  \n",
      "[12] \"result.Log2FC.raw.cpm.OL43_20221003.tsv\"  \n",
      "[13] \"result.Log2FC.raw.cpm.OL45_20220927.tsv\"  \n",
      "[14] \"result.Log2FC.raw.deseq.Merge.tsv\"        \n",
      "[15] \"result.Log2FC.raw.deseq.OL13_20220512.tsv\"\n",
      "[16] \"result.Log2FC.raw.deseq.OL43_20221003.tsv\"\n",
      "[17] \"result.Log2FC.raw.deseq.OL45_20220927.tsv\"\n"
     ]
    }
   ],
   "source": [
    "PREFIX   = \"Tewhey_K562_TileMPRA\"\n",
    "FOLDER   = \"coverage_astarrseq_peak_macs_input\"\n",
    "\n",
    "fdiry = file.path(FD_RES, \"results\", PREFIX, FOLDER, \"summary\")\n",
    "print(dir(fdiry))"
   ]
  },
  {
   "cell_type": "code",
   "execution_count": 3,
   "metadata": {},
   "outputs": [
    {
     "name": "stdout",
     "output_type": "stream",
     "text": [
      "OL13 \n",
      "[1] \"matrix.raw.count.OL13_20220512.tsv\"\n",
      "[1] \"metadata.raw.OL13_20220512.tsv\"\n",
      "OL43 \n",
      "[1] \"matrix.raw.count.OL43_20221003.tsv\"\n",
      "[1] \"metadata.raw.OL43_20221003.tsv\"\n",
      "OL45 \n",
      "[1] \"matrix.raw.count.OL45_20220927.tsv\"\n",
      "[1] \"metadata.raw.OL45_20220927.tsv\"\n"
     ]
    }
   ],
   "source": [
    "PREFIX   = \"Tewhey_K562_TileMPRA\"\n",
    "FOLDER   = \"coverage_astarrseq_peak_macs_input\"\n",
    "DATASETS = c(\"OL13\", \"OL43\", \"OL45\")\n",
    "\n",
    "fdiry = file.path(FD_RES, \"results\", PREFIX, FOLDER, \"summary\")\n",
    "for (DATASET in DATASETS){\n",
    "    cat(DATASET, \"\\n\")\n",
    "    \n",
    "    fname = paste(\"matrix.raw.count\", DATASET, \"tsv\", sep = \"*\")\n",
    "    fglob = file.path(fdiry, fname)\n",
    "    fpath = Sys.glob(fglob)\n",
    "    fname = basename(fpath)\n",
    "    print(fname)\n",
    "    \n",
    "    fname = paste(\"metadata.raw\", DATASET, \"tsv\", sep = \"*\")\n",
    "    fglob = file.path(fdiry, fname)\n",
    "    fpath = Sys.glob(fglob)\n",
    "    fname = basename(fpath)\n",
    "    print(fname)\n",
    "}"
   ]
  },
  {
   "cell_type": "code",
   "execution_count": 4,
   "metadata": {},
   "outputs": [
    {
     "name": "stdout",
     "output_type": "stream",
     "text": [
      "\n",
      "=============================\n",
      "OL13_20220512 \n",
      "\n",
      "+++++++++++++++++++++++++++++\n",
      "Count matrix \n",
      "\u001b[90m# A tibble: 6 × 9\u001b[39m\n",
      "  Peak       Input.rep1 Input.rep2 Input.rep3 Input.rep4 Output.rep1 Output.rep2\n",
      "  \u001b[3m\u001b[90m<chr>\u001b[39m\u001b[23m           \u001b[3m\u001b[90m<dbl>\u001b[39m\u001b[23m      \u001b[3m\u001b[90m<dbl>\u001b[39m\u001b[23m      \u001b[3m\u001b[90m<dbl>\u001b[39m\u001b[23m      \u001b[3m\u001b[90m<dbl>\u001b[39m\u001b[23m       \u001b[3m\u001b[90m<dbl>\u001b[39m\u001b[23m       \u001b[3m\u001b[90m<dbl>\u001b[39m\u001b[23m\n",
      "\u001b[90m1\u001b[39m chr11:617…     \u001b[4m1\u001b[24m\u001b[4m2\u001b[24m\u001b[4m3\u001b[24m964      \u001b[4m6\u001b[24m\u001b[4m9\u001b[24m072     \u001b[4m1\u001b[24m\u001b[4m1\u001b[24m\u001b[4m3\u001b[24m487      \u001b[4m7\u001b[24m\u001b[4m1\u001b[24m526      \u001b[4m4\u001b[24m\u001b[4m6\u001b[24m\u001b[4m1\u001b[24m111      \u001b[4m4\u001b[24m\u001b[4m6\u001b[24m\u001b[4m1\u001b[24m000\n",
      "\u001b[90m2\u001b[39m chr11:618…      \u001b[4m9\u001b[24m\u001b[4m3\u001b[24m429      \u001b[4m5\u001b[24m\u001b[4m3\u001b[24m063      \u001b[4m8\u001b[24m\u001b[4m3\u001b[24m490      \u001b[4m5\u001b[24m\u001b[4m3\u001b[24m637      \u001b[4m4\u001b[24m\u001b[4m2\u001b[24m\u001b[4m4\u001b[24m590      \u001b[4m3\u001b[24m\u001b[4m9\u001b[24m\u001b[4m8\u001b[24m992\n",
      "\u001b[90m3\u001b[39m chr11:618…      \u001b[4m7\u001b[24m\u001b[4m3\u001b[24m252      \u001b[4m3\u001b[24m\u001b[4m9\u001b[24m188      \u001b[4m6\u001b[24m\u001b[4m3\u001b[24m205      \u001b[4m4\u001b[24m\u001b[4m0\u001b[24m131       \u001b[4m2\u001b[24m\u001b[4m9\u001b[24m775       \u001b[4m2\u001b[24m\u001b[4m8\u001b[24m918\n",
      "\u001b[90m4\u001b[39m chr11:618…     \u001b[4m2\u001b[24m\u001b[4m0\u001b[24m\u001b[4m0\u001b[24m996     \u001b[4m1\u001b[24m\u001b[4m1\u001b[24m\u001b[4m4\u001b[24m253     \u001b[4m1\u001b[24m\u001b[4m8\u001b[24m\u001b[4m0\u001b[24m968     \u001b[4m1\u001b[24m\u001b[4m1\u001b[24m\u001b[4m3\u001b[24m933     1\u001b[4m3\u001b[24m\u001b[4m9\u001b[24m\u001b[4m2\u001b[24m238     1\u001b[4m4\u001b[24m\u001b[4m0\u001b[24m\u001b[4m6\u001b[24m638\n",
      "\u001b[90m5\u001b[39m chr11:618…      \u001b[4m3\u001b[24m\u001b[4m1\u001b[24m914      \u001b[4m1\u001b[24m\u001b[4m7\u001b[24m567      \u001b[4m2\u001b[24m\u001b[4m8\u001b[24m311      \u001b[4m1\u001b[24m\u001b[4m7\u001b[24m860        \u001b[4m8\u001b[24m275        \u001b[4m9\u001b[24m393\n",
      "\u001b[90m6\u001b[39m chr11:618…      \u001b[4m3\u001b[24m\u001b[4m2\u001b[24m681      \u001b[4m1\u001b[24m\u001b[4m8\u001b[24m795      \u001b[4m2\u001b[24m\u001b[4m9\u001b[24m971      \u001b[4m1\u001b[24m\u001b[4m9\u001b[24m749       \u001b[4m2\u001b[24m\u001b[4m9\u001b[24m360       \u001b[4m2\u001b[24m\u001b[4m9\u001b[24m820\n",
      "\u001b[90m# ℹ 2 more variables: Output.rep3 <dbl>, Output.rep4 <dbl>\u001b[39m\n",
      "\n",
      "+++++++++++++++++++++++++++++\n",
      "Metadata \n",
      "\u001b[90m# A tibble: 8 × 3\u001b[39m\n",
      "  Sample      Group  FPath                                                      \n",
      "  \u001b[3m\u001b[90m<chr>\u001b[39m\u001b[23m       \u001b[3m\u001b[90m<chr>\u001b[39m\u001b[23m  \u001b[3m\u001b[90m<chr>\u001b[39m\u001b[23m                                                      \n",
      "\u001b[90m1\u001b[39m Input.rep1  Input  /data/reddylab/Kuei/out/proj_combeffect_encode_fcc/results…\n",
      "\u001b[90m2\u001b[39m Input.rep2  Input  /data/reddylab/Kuei/out/proj_combeffect_encode_fcc/results…\n",
      "\u001b[90m3\u001b[39m Input.rep3  Input  /data/reddylab/Kuei/out/proj_combeffect_encode_fcc/results…\n",
      "\u001b[90m4\u001b[39m Input.rep4  Input  /data/reddylab/Kuei/out/proj_combeffect_encode_fcc/results…\n",
      "\u001b[90m5\u001b[39m Output.rep1 Output /data/reddylab/Kuei/out/proj_combeffect_encode_fcc/results…\n",
      "\u001b[90m6\u001b[39m Output.rep2 Output /data/reddylab/Kuei/out/proj_combeffect_encode_fcc/results…\n",
      "\u001b[90m7\u001b[39m Output.rep3 Output /data/reddylab/Kuei/out/proj_combeffect_encode_fcc/results…\n",
      "\u001b[90m8\u001b[39m Output.rep4 Output /data/reddylab/Kuei/out/proj_combeffect_encode_fcc/results…\n",
      "\n",
      "+++++++++++++++++++++++++++++\n",
      "Check 01: TRUE \n",
      "Check 02: TRUE \n"
     ]
    },
    {
     "name": "stderr",
     "output_type": "stream",
     "text": [
      "converting counts to integer mode\n",
      "\n",
      "Warning message in DESeqDataSet(se, design = design, ignoreRank):\n",
      "“some variables in design formula are characters, converting to factors”\n"
     ]
    },
    {
     "name": "stdout",
     "output_type": "stream",
     "text": [
      "\n",
      "=============================\n",
      "OL43_20221003 \n",
      "\n",
      "+++++++++++++++++++++++++++++\n",
      "Count matrix \n",
      "\u001b[90m# A tibble: 6 × 12\u001b[39m\n",
      "  Peak         Input.rep1 Input.rep2 Input.rep3 Input.rep4 Input.rep5 Input.rep6\n",
      "  \u001b[3m\u001b[90m<chr>\u001b[39m\u001b[23m             \u001b[3m\u001b[90m<dbl>\u001b[39m\u001b[23m      \u001b[3m\u001b[90m<dbl>\u001b[39m\u001b[23m      \u001b[3m\u001b[90m<dbl>\u001b[39m\u001b[23m      \u001b[3m\u001b[90m<dbl>\u001b[39m\u001b[23m      \u001b[3m\u001b[90m<dbl>\u001b[39m\u001b[23m      \u001b[3m\u001b[90m<dbl>\u001b[39m\u001b[23m\n",
      "\u001b[90m1\u001b[39m chr8:126778…      \u001b[4m1\u001b[24m\u001b[4m0\u001b[24m372      \u001b[4m1\u001b[24m\u001b[4m1\u001b[24m304      \u001b[4m1\u001b[24m\u001b[4m0\u001b[24m609      \u001b[4m1\u001b[24m\u001b[4m1\u001b[24m042       \u001b[4m5\u001b[24m318       \u001b[4m5\u001b[24m475\n",
      "\u001b[90m2\u001b[39m chr8:126782…       \u001b[4m3\u001b[24m076       \u001b[4m3\u001b[24m477       \u001b[4m3\u001b[24m122       \u001b[4m3\u001b[24m211       \u001b[4m1\u001b[24m563       \u001b[4m1\u001b[24m614\n",
      "\u001b[90m3\u001b[39m chr8:126804…      \u001b[4m1\u001b[24m\u001b[4m6\u001b[24m184      \u001b[4m1\u001b[24m\u001b[4m8\u001b[24m791      \u001b[4m1\u001b[24m\u001b[4m7\u001b[24m453      \u001b[4m1\u001b[24m\u001b[4m7\u001b[24m754       \u001b[4m8\u001b[24m529       \u001b[4m8\u001b[24m533\n",
      "\u001b[90m4\u001b[39m chr8:126817…      \u001b[4m1\u001b[24m\u001b[4m0\u001b[24m013      \u001b[4m1\u001b[24m\u001b[4m1\u001b[24m400      \u001b[4m1\u001b[24m\u001b[4m0\u001b[24m553      \u001b[4m1\u001b[24m\u001b[4m0\u001b[24m900       \u001b[4m5\u001b[24m157       \u001b[4m5\u001b[24m076\n",
      "\u001b[90m5\u001b[39m chr8:126820…      \u001b[4m1\u001b[24m\u001b[4m6\u001b[24m573      \u001b[4m1\u001b[24m\u001b[4m9\u001b[24m018      \u001b[4m1\u001b[24m\u001b[4m7\u001b[24m231      \u001b[4m1\u001b[24m\u001b[4m7\u001b[24m757       \u001b[4m8\u001b[24m703       \u001b[4m8\u001b[24m698\n",
      "\u001b[90m6\u001b[39m chr8:126824…      \u001b[4m2\u001b[24m\u001b[4m7\u001b[24m649      \u001b[4m3\u001b[24m\u001b[4m2\u001b[24m054      \u001b[4m2\u001b[24m\u001b[4m9\u001b[24m605      \u001b[4m2\u001b[24m\u001b[4m9\u001b[24m659      \u001b[4m1\u001b[24m\u001b[4m4\u001b[24m783      \u001b[4m1\u001b[24m\u001b[4m4\u001b[24m827\n",
      "\u001b[90m# ℹ 5 more variables: Output.rep1 <dbl>, Output.rep2 <dbl>, Output.rep3 <dbl>,\u001b[39m\n",
      "\u001b[90m#   Output.rep4 <dbl>, Output.rep5 <dbl>\u001b[39m\n",
      "\n",
      "+++++++++++++++++++++++++++++\n",
      "Metadata \n",
      "\u001b[90m# A tibble: 11 × 3\u001b[39m\n",
      "   Sample      Group  FPath                                                     \n",
      "   \u001b[3m\u001b[90m<chr>\u001b[39m\u001b[23m       \u001b[3m\u001b[90m<chr>\u001b[39m\u001b[23m  \u001b[3m\u001b[90m<chr>\u001b[39m\u001b[23m                                                     \n",
      "\u001b[90m 1\u001b[39m Input.rep1  Input  /data/reddylab/Kuei/out/proj_combeffect_encode_fcc/result…\n",
      "\u001b[90m 2\u001b[39m Input.rep2  Input  /data/reddylab/Kuei/out/proj_combeffect_encode_fcc/result…\n",
      "\u001b[90m 3\u001b[39m Input.rep3  Input  /data/reddylab/Kuei/out/proj_combeffect_encode_fcc/result…\n",
      "\u001b[90m 4\u001b[39m Input.rep4  Input  /data/reddylab/Kuei/out/proj_combeffect_encode_fcc/result…\n",
      "\u001b[90m 5\u001b[39m Input.rep5  Input  /data/reddylab/Kuei/out/proj_combeffect_encode_fcc/result…\n",
      "\u001b[90m 6\u001b[39m Input.rep6  Input  /data/reddylab/Kuei/out/proj_combeffect_encode_fcc/result…\n",
      "\u001b[90m 7\u001b[39m Output.rep1 Output /data/reddylab/Kuei/out/proj_combeffect_encode_fcc/result…\n",
      "\u001b[90m 8\u001b[39m Output.rep2 Output /data/reddylab/Kuei/out/proj_combeffect_encode_fcc/result…\n",
      "\u001b[90m 9\u001b[39m Output.rep3 Output /data/reddylab/Kuei/out/proj_combeffect_encode_fcc/result…\n",
      "\u001b[90m10\u001b[39m Output.rep4 Output /data/reddylab/Kuei/out/proj_combeffect_encode_fcc/result…\n",
      "\u001b[90m11\u001b[39m Output.rep5 Output /data/reddylab/Kuei/out/proj_combeffect_encode_fcc/result…\n",
      "\n",
      "+++++++++++++++++++++++++++++\n",
      "Check 01: TRUE \n",
      "Check 02: TRUE \n"
     ]
    },
    {
     "name": "stderr",
     "output_type": "stream",
     "text": [
      "converting counts to integer mode\n",
      "\n",
      "Warning message in DESeqDataSet(se, design = design, ignoreRank):\n",
      "“some variables in design formula are characters, converting to factors”\n"
     ]
    },
    {
     "name": "stdout",
     "output_type": "stream",
     "text": [
      "\n",
      "=============================\n",
      "OL45_20220927 \n",
      "\n",
      "+++++++++++++++++++++++++++++\n",
      "Count matrix \n",
      "\u001b[90m# A tibble: 6 × 9\u001b[39m\n",
      "  Peak       Input.rep1 Input.rep2 Input.rep3 Input.rep4 Output.rep1 Output.rep2\n",
      "  \u001b[3m\u001b[90m<chr>\u001b[39m\u001b[23m           \u001b[3m\u001b[90m<dbl>\u001b[39m\u001b[23m      \u001b[3m\u001b[90m<dbl>\u001b[39m\u001b[23m      \u001b[3m\u001b[90m<dbl>\u001b[39m\u001b[23m      \u001b[3m\u001b[90m<dbl>\u001b[39m\u001b[23m       \u001b[3m\u001b[90m<dbl>\u001b[39m\u001b[23m       \u001b[3m\u001b[90m<dbl>\u001b[39m\u001b[23m\n",
      "\u001b[90m1\u001b[39m chr11:328…       \u001b[4m5\u001b[24m796       \u001b[4m5\u001b[24m349       \u001b[4m5\u001b[24m093       \u001b[4m5\u001b[24m236        \u001b[4m4\u001b[24m190        \u001b[4m3\u001b[24m932\n",
      "\u001b[90m2\u001b[39m chr11:328…       \u001b[4m4\u001b[24m925       \u001b[4m4\u001b[24m182       \u001b[4m4\u001b[24m315       \u001b[4m4\u001b[24m301        \u001b[4m5\u001b[24m557        \u001b[4m3\u001b[24m395\n",
      "\u001b[90m3\u001b[39m chr11:328…       \u001b[4m8\u001b[24m452       \u001b[4m7\u001b[24m263       \u001b[4m7\u001b[24m369       \u001b[4m7\u001b[24m154       \u001b[4m1\u001b[24m\u001b[4m2\u001b[24m228       \u001b[4m1\u001b[24m\u001b[4m0\u001b[24m838\n",
      "\u001b[90m4\u001b[39m chr11:328…      \u001b[4m1\u001b[24m\u001b[4m3\u001b[24m661      \u001b[4m1\u001b[24m\u001b[4m1\u001b[24m814      \u001b[4m1\u001b[24m\u001b[4m1\u001b[24m553      \u001b[4m1\u001b[24m\u001b[4m1\u001b[24m485       \u001b[4m3\u001b[24m\u001b[4m1\u001b[24m756       \u001b[4m2\u001b[24m\u001b[4m9\u001b[24m398\n",
      "\u001b[90m5\u001b[39m chr11:329…       \u001b[4m8\u001b[24m501       \u001b[4m7\u001b[24m376       \u001b[4m7\u001b[24m544       \u001b[4m7\u001b[24m221        \u001b[4m6\u001b[24m066        \u001b[4m4\u001b[24m803\n",
      "\u001b[90m6\u001b[39m chr11:329…      \u001b[4m1\u001b[24m\u001b[4m0\u001b[24m373       \u001b[4m8\u001b[24m676       \u001b[4m9\u001b[24m442       \u001b[4m9\u001b[24m147        \u001b[4m7\u001b[24m865        \u001b[4m6\u001b[24m824\n",
      "\u001b[90m# ℹ 2 more variables: Output.rep3 <dbl>, Output.rep4 <dbl>\u001b[39m\n",
      "\n",
      "+++++++++++++++++++++++++++++\n",
      "Metadata \n",
      "\u001b[90m# A tibble: 8 × 3\u001b[39m\n",
      "  Sample      Group  FPath                                                      \n",
      "  \u001b[3m\u001b[90m<chr>\u001b[39m\u001b[23m       \u001b[3m\u001b[90m<chr>\u001b[39m\u001b[23m  \u001b[3m\u001b[90m<chr>\u001b[39m\u001b[23m                                                      \n",
      "\u001b[90m1\u001b[39m Input.rep1  Input  /data/reddylab/Kuei/out/proj_combeffect_encode_fcc/results…\n",
      "\u001b[90m2\u001b[39m Input.rep2  Input  /data/reddylab/Kuei/out/proj_combeffect_encode_fcc/results…\n",
      "\u001b[90m3\u001b[39m Input.rep3  Input  /data/reddylab/Kuei/out/proj_combeffect_encode_fcc/results…\n",
      "\u001b[90m4\u001b[39m Input.rep4  Input  /data/reddylab/Kuei/out/proj_combeffect_encode_fcc/results…\n",
      "\u001b[90m5\u001b[39m Output.rep1 Output /data/reddylab/Kuei/out/proj_combeffect_encode_fcc/results…\n",
      "\u001b[90m6\u001b[39m Output.rep2 Output /data/reddylab/Kuei/out/proj_combeffect_encode_fcc/results…\n",
      "\u001b[90m7\u001b[39m Output.rep3 Output /data/reddylab/Kuei/out/proj_combeffect_encode_fcc/results…\n",
      "\u001b[90m8\u001b[39m Output.rep4 Output /data/reddylab/Kuei/out/proj_combeffect_encode_fcc/results…\n",
      "\n",
      "+++++++++++++++++++++++++++++\n",
      "Check 01: TRUE \n",
      "Check 02: TRUE \n"
     ]
    },
    {
     "name": "stderr",
     "output_type": "stream",
     "text": [
      "converting counts to integer mode\n",
      "\n",
      "Warning message in DESeqDataSet(se, design = design, ignoreRank):\n",
      "“some variables in design formula are characters, converting to factors”\n"
     ]
    }
   ],
   "source": [
    "PREFIX   = \"Tewhey_K562_TileMPRA\"\n",
    "FOLDER   = \"coverage_astarrseq_peak_macs_input\"\n",
    "DATASETS = c(\n",
    "    \"OL13_20220512\", \n",
    "    \"OL43_20221003\", \n",
    "    \"OL45_20220927\")\n",
    "\n",
    "lst = lapply(DATASETS, function(DATASET){\n",
    "    \n",
    "    ### show progress\n",
    "    cat(\"\\n=============================\\n\")\n",
    "    cat(DATASET, \"\\n\")\n",
    "    \n",
    "    ### Import count matrix\n",
    "    fname = paste(\"matrix.raw.count\", DATASET, \"tsv\", sep = \"*\")\n",
    "    fglob = file.path(fdiry, fname)\n",
    "    fpath = Sys.glob(fglob)\n",
    "    dat   = read_tsv(fpath, show_col_types = FALSE)\n",
    "    \n",
    "    cat(\"\\n+++++++++++++++++++++++++++++\\n\")\n",
    "    cat(\"Count matrix\", \"\\n\")\n",
    "    dat_count = dat\n",
    "    print(head(dat))\n",
    "    \n",
    "    ### Import metadata\n",
    "    fname = paste(\"metadata.raw\", DATASET, \"tsv\", sep = \"*\")\n",
    "    fglob = file.path(fdiry, fname)\n",
    "    fpath = Sys.glob(fglob)\n",
    "    dat   = read_tsv(fpath, show_col_types = FALSE)\n",
    "    \n",
    "    cat(\"\\n+++++++++++++++++++++++++++++\\n\")\n",
    "    cat(\"Metadata\", \"\\n\")\n",
    "    dat_meta = dat\n",
    "    print(dat)\n",
    "    \n",
    "    ### Arrange count matrix and metadata\n",
    "    dat_col = dat_meta  %>% \n",
    "        dplyr::select(Sample, Group) %>% \n",
    "        dplyr::rename(condition = Group) %>%\n",
    "        column_to_rownames(var = \"Sample\")\n",
    "\n",
    "    dat_cnt = dat_count %>% \n",
    "        column_to_rownames(var = \"Peak\")\n",
    "\n",
    "    dat_cnt[is.na(dat_cnt)] = 0\n",
    "    \n",
    "    ### checking\n",
    "    cat(\"\\n+++++++++++++++++++++++++++++\\n\")\n",
    "    cat(\"Check 01:\", all(rownames(dat_col) %in% colnames(dat_cnt)), \"\\n\")\n",
    "    cat(\"Check 02:\", all(rownames(dat_col) ==   colnames(dat_cnt)), \"\\n\")\n",
    "    \n",
    "    ### create DESeq2 object\n",
    "    dds = DESeqDataSetFromMatrix(\n",
    "        countData = dat_cnt, \n",
    "        colData   = dat_col, \n",
    "        design    = ~condition)\n",
    "    return(dds)\n",
    "})\n",
    "\n",
    "names(lst) = DATASETS\n",
    "lst_dds_setup = lst"
   ]
  },
  {
   "cell_type": "markdown",
   "metadata": {},
   "source": [
    "## Preprocess"
   ]
  },
  {
   "cell_type": "markdown",
   "metadata": {},
   "source": [
    "**Pre-filtering**"
   ]
  },
  {
   "cell_type": "code",
   "execution_count": 5,
   "metadata": {},
   "outputs": [
    {
     "name": "stdout",
     "output_type": "stream",
     "text": [
      "Before filter: 22 \n",
      "After  filter: 22 \n",
      "Before filter: 394 \n",
      "After  filter: 394 \n",
      "Before filter: 1306 \n",
      "After  filter: 1306 \n"
     ]
    }
   ],
   "source": [
    "lst = lst_dds_setup\n",
    "\n",
    "lst = lapply(lst, function(dds){\n",
    "    ### remove the peaks which have < 10 reads\n",
    "    cat(\"Before filter:\", nrow(dds), \"\\n\")\n",
    "    dds = dds[rowSums(counts(dds)) >= 10,]\n",
    "    cat(\"After  filter:\", nrow(dds), \"\\n\")\n",
    "\n",
    "    ### set control condition as reference\n",
    "    dds$condition <- relevel(dds$condition, ref = \"Input\")\n",
    "    return(dds)\n",
    "})\n",
    "\n",
    "lst_dds_filtered = lst"
   ]
  },
  {
   "cell_type": "code",
   "execution_count": 6,
   "metadata": {},
   "outputs": [
    {
     "data": {
      "text/html": [
       "<style>\n",
       ".list-inline {list-style: none; margin:0; padding: 0}\n",
       ".list-inline>li {display: inline-block}\n",
       ".list-inline>li:not(:last-child)::after {content: \"\\00b7\"; padding: 0 .5ex}\n",
       "</style>\n",
       "<ol class=list-inline><li>'OL13_20220512'</li><li>'OL43_20221003'</li><li>'OL45_20220927'</li></ol>\n"
      ],
      "text/latex": [
       "\\begin{enumerate*}\n",
       "\\item 'OL13\\_20220512'\n",
       "\\item 'OL43\\_20221003'\n",
       "\\item 'OL45\\_20220927'\n",
       "\\end{enumerate*}\n"
      ],
      "text/markdown": [
       "1. 'OL13_20220512'\n",
       "2. 'OL43_20221003'\n",
       "3. 'OL45_20220927'\n",
       "\n",
       "\n"
      ],
      "text/plain": [
       "[1] \"OL13_20220512\" \"OL43_20221003\" \"OL45_20220927\""
      ]
     },
     "metadata": {},
     "output_type": "display_data"
    }
   ],
   "source": [
    "names(lst)"
   ]
  },
  {
   "cell_type": "markdown",
   "metadata": {},
   "source": [
    "## Run DESeq2"
   ]
  },
  {
   "cell_type": "code",
   "execution_count": 7,
   "metadata": {},
   "outputs": [
    {
     "name": "stderr",
     "output_type": "stream",
     "text": [
      "estimating size factors\n",
      "\n",
      "estimating dispersions\n",
      "\n",
      "gene-wise dispersion estimates\n",
      "\n",
      "mean-dispersion relationship\n",
      "\n",
      "final dispersion estimates\n",
      "\n",
      "fitting model and testing\n",
      "\n",
      "estimating size factors\n",
      "\n",
      "estimating dispersions\n",
      "\n",
      "gene-wise dispersion estimates\n",
      "\n",
      "mean-dispersion relationship\n",
      "\n",
      "final dispersion estimates\n",
      "\n",
      "fitting model and testing\n",
      "\n",
      "estimating size factors\n",
      "\n",
      "estimating dispersions\n",
      "\n",
      "gene-wise dispersion estimates\n",
      "\n",
      "mean-dispersion relationship\n",
      "\n",
      "final dispersion estimates\n",
      "\n",
      "fitting model and testing\n",
      "\n"
     ]
    }
   ],
   "source": [
    "lst = lst_dds_filtered\n",
    "\n",
    "lst = lapply(lst, function(dds){\n",
    "    ### apply DESeq2 data processing\n",
    "    dds = DESeq(dds, fitType='local')\n",
    "    return(dds)\n",
    "})\n",
    "\n",
    "lst_dds_run = lst"
   ]
  },
  {
   "cell_type": "markdown",
   "metadata": {},
   "source": [
    "## Get results"
   ]
  },
  {
   "cell_type": "code",
   "execution_count": 8,
   "metadata": {},
   "outputs": [
    {
     "name": "stdout",
     "output_type": "stream",
     "text": [
      "[1] \"OL13_20220512\" \"OL43_20221003\" \"OL45_20220927\"\n"
     ]
    }
   ],
   "source": [
    "lst = lst_dds_run\n",
    "\n",
    "lst = lapply(lst, function(dds){\n",
    "    res = results(dds)\n",
    "    res = as.data.frame(res) %>% rownames_to_column(var = \"Peak\")\n",
    "    return(res)\n",
    "})\n",
    "\n",
    "lst_res = lst\n",
    "print(names(lst))"
   ]
  },
  {
   "cell_type": "markdown",
   "metadata": {},
   "source": [
    "## Save results"
   ]
  },
  {
   "cell_type": "code",
   "execution_count": 9,
   "metadata": {},
   "outputs": [
    {
     "name": "stdout",
     "output_type": "stream",
     "text": [
      "\n",
      "+++++++++++++++++++++++++++++\n",
      "OL13_20220512 \n",
      "[1] \"/data/reddylab/Kuei/out/proj_combeffect_encode_fcc/results/Tewhey_K562_TileMPRA/coverage_astarrseq_peak_macs_input/summary/result.Log2FC.raw.deseq.OL13_20220512.tsv\"\n",
      "\n",
      "+++++++++++++++++++++++++++++\n",
      "OL43_20221003 \n",
      "[1] \"/data/reddylab/Kuei/out/proj_combeffect_encode_fcc/results/Tewhey_K562_TileMPRA/coverage_astarrseq_peak_macs_input/summary/result.Log2FC.raw.deseq.OL43_20221003.tsv\"\n",
      "\n",
      "+++++++++++++++++++++++++++++\n",
      "OL45_20220927 \n",
      "[1] \"/data/reddylab/Kuei/out/proj_combeffect_encode_fcc/results/Tewhey_K562_TileMPRA/coverage_astarrseq_peak_macs_input/summary/result.Log2FC.raw.deseq.OL45_20220927.tsv\"\n"
     ]
    }
   ],
   "source": [
    "lst = lst_res\n",
    "\n",
    "for (idx in names(lst)){\n",
    "    cat(\"\\n+++++++++++++++++++++++++++++\\n\")\n",
    "    cat(idx, \"\\n\")\n",
    "    \n",
    "    fdiry = file.path(FD_RES, \"results\", PREFIX, FOLDER, \"summary\")\n",
    "    fname = paste(\"result.Log2FC.raw.deseq\", idx, \"tsv\", sep = \".\")\n",
    "    fpath = file.path(fdiry, fname)\n",
    "    print(fpath)\n",
    "    \n",
    "    res = lst[[idx]]\n",
    "    write_tsv(res, fpath)\n",
    "}"
   ]
  }
 ],
 "metadata": {
  "kernelspec": {
   "display_name": "R",
   "language": "R",
   "name": "ir"
  },
  "language_info": {
   "codemirror_mode": "r",
   "file_extension": ".r",
   "mimetype": "text/x-r-source",
   "name": "R",
   "pygments_lexer": "r",
   "version": "4.3.0"
  }
 },
 "nbformat": 4,
 "nbformat_minor": 4
}
