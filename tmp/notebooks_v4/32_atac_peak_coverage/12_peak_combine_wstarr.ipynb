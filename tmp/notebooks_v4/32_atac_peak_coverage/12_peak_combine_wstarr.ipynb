{
 "cells": [
  {
   "cell_type": "markdown",
   "metadata": {},
   "source": [
    "**Set environment**"
   ]
  },
  {
   "cell_type": "code",
   "execution_count": 1,
   "metadata": {},
   "outputs": [
    {
     "name": "stdout",
     "output_type": "stream",
     "text": [
      "You are in Singularity: singularity_proj_encode_fcc \n",
      "BASE DIRECTORY (FD_BASE): /data/reddylab/Kuei \n",
      "WORK DIRECTORY (FD_WORK): /data/reddylab/Kuei/out \n",
      "CODE DIRECTORY (FD_CODE): /data/reddylab/Kuei/code \n",
      "PATH OF PROJECT (FD_PRJ): /data/reddylab/Kuei/code/Proj_CombEffect_ENCODE_FCC \n",
      "PATH OF RESULTS (FD_RES): /data/reddylab/Kuei/out/proj_combeffect_encode_fcc \n",
      "PATH OF LOG     (FD_LOG): /data/reddylab/Kuei/out/proj_combeffect_encode_fcc/log \n"
     ]
    }
   ],
   "source": [
    "suppressMessages(suppressWarnings(source(\"../config/config_sing.R\")))\n",
    "show_env()"
   ]
  },
  {
   "cell_type": "markdown",
   "metadata": {},
   "source": [
    "**Check data**"
   ]
  },
  {
   "cell_type": "code",
   "execution_count": 2,
   "metadata": {},
   "outputs": [
    {
     "data": {
      "text/html": [
       "<style>\n",
       ".list-inline {list-style: none; margin:0; padding: 0}\n",
       ".list-inline>li {display: inline-block}\n",
       ".list-inline>li:not(:last-child)::after {content: \"\\00b7\"; padding: 0 .5ex}\n",
       "</style>\n",
       "<ol class=list-inline><li>'A001_K562_WSTARRseq.Input.rep1.WGS.unstranded.bed.gz'</li><li>'A001_K562_WSTARRseq.Input.rep2.WGS.unstranded.bed.gz'</li><li>'A001_K562_WSTARRseq.Input.rep3.WGS.unstranded.bed.gz'</li><li>'A001_K562_WSTARRseq.Input.rep4.WGS.unstranded.bed.gz'</li><li>'A001_K562_WSTARRseq.Output.rep1.WGS.unstranded.bed.gz'</li><li>'A001_K562_WSTARRseq.Output.rep2.WGS.unstranded.bed.gz'</li><li>'A001_K562_WSTARRseq.Output.rep3.WGS.unstranded.bed.gz'</li><li>'summary'</li></ol>\n"
      ],
      "text/latex": [
       "\\begin{enumerate*}\n",
       "\\item 'A001\\_K562\\_WSTARRseq.Input.rep1.WGS.unstranded.bed.gz'\n",
       "\\item 'A001\\_K562\\_WSTARRseq.Input.rep2.WGS.unstranded.bed.gz'\n",
       "\\item 'A001\\_K562\\_WSTARRseq.Input.rep3.WGS.unstranded.bed.gz'\n",
       "\\item 'A001\\_K562\\_WSTARRseq.Input.rep4.WGS.unstranded.bed.gz'\n",
       "\\item 'A001\\_K562\\_WSTARRseq.Output.rep1.WGS.unstranded.bed.gz'\n",
       "\\item 'A001\\_K562\\_WSTARRseq.Output.rep2.WGS.unstranded.bed.gz'\n",
       "\\item 'A001\\_K562\\_WSTARRseq.Output.rep3.WGS.unstranded.bed.gz'\n",
       "\\item 'summary'\n",
       "\\end{enumerate*}\n"
      ],
      "text/markdown": [
       "1. 'A001_K562_WSTARRseq.Input.rep1.WGS.unstranded.bed.gz'\n",
       "2. 'A001_K562_WSTARRseq.Input.rep2.WGS.unstranded.bed.gz'\n",
       "3. 'A001_K562_WSTARRseq.Input.rep3.WGS.unstranded.bed.gz'\n",
       "4. 'A001_K562_WSTARRseq.Input.rep4.WGS.unstranded.bed.gz'\n",
       "5. 'A001_K562_WSTARRseq.Output.rep1.WGS.unstranded.bed.gz'\n",
       "6. 'A001_K562_WSTARRseq.Output.rep2.WGS.unstranded.bed.gz'\n",
       "7. 'A001_K562_WSTARRseq.Output.rep3.WGS.unstranded.bed.gz'\n",
       "8. 'summary'\n",
       "\n",
       "\n"
      ],
      "text/plain": [
       "[1] \"A001_K562_WSTARRseq.Input.rep1.WGS.unstranded.bed.gz\" \n",
       "[2] \"A001_K562_WSTARRseq.Input.rep2.WGS.unstranded.bed.gz\" \n",
       "[3] \"A001_K562_WSTARRseq.Input.rep3.WGS.unstranded.bed.gz\" \n",
       "[4] \"A001_K562_WSTARRseq.Input.rep4.WGS.unstranded.bed.gz\" \n",
       "[5] \"A001_K562_WSTARRseq.Output.rep1.WGS.unstranded.bed.gz\"\n",
       "[6] \"A001_K562_WSTARRseq.Output.rep2.WGS.unstranded.bed.gz\"\n",
       "[7] \"A001_K562_WSTARRseq.Output.rep3.WGS.unstranded.bed.gz\"\n",
       "[8] \"summary\"                                              "
      ]
     },
     "metadata": {},
     "output_type": "display_data"
    }
   ],
   "source": [
    "fdiry = file.path(FD_RES, \"results\", \"A001_K562_WSTARRseq\", \"coverage_astarrseq_peak_macs_input\")\n",
    "dir(fdiry)"
   ]
  },
  {
   "cell_type": "code",
   "execution_count": 3,
   "metadata": {},
   "outputs": [],
   "source": [
    "ASSAY  = \"A001_K562_WSTARRseq\"\n",
    "\n",
    "GROUPS  = c(\"Input\", \"Output\")\n",
    "\n",
    "SAMPLES = c(\n",
    "    paste0(\"Input.rep\",  1:4),\n",
    "    paste0(\"Output.rep\", 1:3))\n",
    "\n",
    "CNAMES = c(\"Chrom\", \"Start\", \"End\", \"Count\")\n",
    "\n",
    "get_info = function(fpath, strings){\n",
    "    idx = str_detect(string = fpath, pattern = strings)\n",
    "    return(strings[idx])\n",
    "}\n",
    "\n",
    "get_group  = function(fpath){return(get_info(fpath, GROUPS))}\n",
    "get_sample = function(fpath){return(get_info(fpath, SAMPLES))}"
   ]
  },
  {
   "cell_type": "markdown",
   "metadata": {},
   "source": [
    "## Get file paths and set metadata"
   ]
  },
  {
   "cell_type": "code",
   "execution_count": 4,
   "metadata": {},
   "outputs": [
    {
     "name": "stdout",
     "output_type": "stream",
     "text": [
      "[1] \"/data/reddylab/Kuei/out/proj_combeffect_encode_fcc/results/A001_K562_WSTARRseq/coverage_astarrseq_peak_macs_input/A001_K562_WSTARRseq.Input.rep1.WGS.unstranded.bed.gz\"\n",
      "[1] \"Input\"\n",
      "[1] \"Input.rep1\"\n",
      "[1] \"/data/reddylab/Kuei/out/proj_combeffect_encode_fcc/results/A001_K562_WSTARRseq/coverage_astarrseq_peak_macs_input/A001_K562_WSTARRseq.Input.rep2.WGS.unstranded.bed.gz\"\n",
      "[1] \"Input\"\n",
      "[1] \"Input.rep2\"\n",
      "[1] \"/data/reddylab/Kuei/out/proj_combeffect_encode_fcc/results/A001_K562_WSTARRseq/coverage_astarrseq_peak_macs_input/A001_K562_WSTARRseq.Input.rep3.WGS.unstranded.bed.gz\"\n",
      "[1] \"Input\"\n",
      "[1] \"Input.rep3\"\n",
      "[1] \"/data/reddylab/Kuei/out/proj_combeffect_encode_fcc/results/A001_K562_WSTARRseq/coverage_astarrseq_peak_macs_input/A001_K562_WSTARRseq.Input.rep4.WGS.unstranded.bed.gz\"\n",
      "[1] \"Input\"\n",
      "[1] \"Input.rep4\"\n",
      "[1] \"/data/reddylab/Kuei/out/proj_combeffect_encode_fcc/results/A001_K562_WSTARRseq/coverage_astarrseq_peak_macs_input/A001_K562_WSTARRseq.Output.rep1.WGS.unstranded.bed.gz\"\n",
      "[1] \"Output\"\n",
      "[1] \"Output.rep1\"\n",
      "[1] \"/data/reddylab/Kuei/out/proj_combeffect_encode_fcc/results/A001_K562_WSTARRseq/coverage_astarrseq_peak_macs_input/A001_K562_WSTARRseq.Output.rep2.WGS.unstranded.bed.gz\"\n",
      "[1] \"Output\"\n",
      "[1] \"Output.rep2\"\n",
      "[1] \"/data/reddylab/Kuei/out/proj_combeffect_encode_fcc/results/A001_K562_WSTARRseq/coverage_astarrseq_peak_macs_input/A001_K562_WSTARRseq.Output.rep3.WGS.unstranded.bed.gz\"\n",
      "[1] \"Output\"\n",
      "[1] \"Output.rep3\"\n"
     ]
    }
   ],
   "source": [
    "ASSAY  = \"A001_K562_WSTARRseq\"\n",
    "FOLDER = \"coverage_astarrseq_peak_macs_input\"\n",
    "fglob  = file.path(FD_RES, \"results\", ASSAY, FOLDER, \"*WGS*bed.gz\")\n",
    "fpaths = Sys.glob(fglob)\n",
    "for (fpath in fpaths){\n",
    "    print(fpath)\n",
    "    print(get_group(fpath))\n",
    "    print(get_sample(fpath))\n",
    "}"
   ]
  },
  {
   "cell_type": "code",
   "execution_count": 5,
   "metadata": {},
   "outputs": [
    {
     "data": {
      "text/html": [
       "<table class=\"dataframe\">\n",
       "<caption>A data.frame: 7 × 3</caption>\n",
       "<thead>\n",
       "\t<tr><th scope=col>Sample</th><th scope=col>Group</th><th scope=col>FPath</th></tr>\n",
       "\t<tr><th scope=col>&lt;chr&gt;</th><th scope=col>&lt;chr&gt;</th><th scope=col>&lt;chr&gt;</th></tr>\n",
       "</thead>\n",
       "<tbody>\n",
       "\t<tr><td>Input.rep1 </td><td>Input </td><td>/data/reddylab/Kuei/out/proj_combeffect_encode_fcc/results/A001_K562_WSTARRseq/coverage_astarrseq_peak_macs_input/A001_K562_WSTARRseq.Input.rep1.WGS.unstranded.bed.gz </td></tr>\n",
       "\t<tr><td>Input.rep2 </td><td>Input </td><td>/data/reddylab/Kuei/out/proj_combeffect_encode_fcc/results/A001_K562_WSTARRseq/coverage_astarrseq_peak_macs_input/A001_K562_WSTARRseq.Input.rep2.WGS.unstranded.bed.gz </td></tr>\n",
       "\t<tr><td>Input.rep3 </td><td>Input </td><td>/data/reddylab/Kuei/out/proj_combeffect_encode_fcc/results/A001_K562_WSTARRseq/coverage_astarrseq_peak_macs_input/A001_K562_WSTARRseq.Input.rep3.WGS.unstranded.bed.gz </td></tr>\n",
       "\t<tr><td>Input.rep4 </td><td>Input </td><td>/data/reddylab/Kuei/out/proj_combeffect_encode_fcc/results/A001_K562_WSTARRseq/coverage_astarrseq_peak_macs_input/A001_K562_WSTARRseq.Input.rep4.WGS.unstranded.bed.gz </td></tr>\n",
       "\t<tr><td>Output.rep1</td><td>Output</td><td>/data/reddylab/Kuei/out/proj_combeffect_encode_fcc/results/A001_K562_WSTARRseq/coverage_astarrseq_peak_macs_input/A001_K562_WSTARRseq.Output.rep1.WGS.unstranded.bed.gz</td></tr>\n",
       "\t<tr><td>Output.rep2</td><td>Output</td><td>/data/reddylab/Kuei/out/proj_combeffect_encode_fcc/results/A001_K562_WSTARRseq/coverage_astarrseq_peak_macs_input/A001_K562_WSTARRseq.Output.rep2.WGS.unstranded.bed.gz</td></tr>\n",
       "\t<tr><td>Output.rep3</td><td>Output</td><td>/data/reddylab/Kuei/out/proj_combeffect_encode_fcc/results/A001_K562_WSTARRseq/coverage_astarrseq_peak_macs_input/A001_K562_WSTARRseq.Output.rep3.WGS.unstranded.bed.gz</td></tr>\n",
       "</tbody>\n",
       "</table>\n"
      ],
      "text/latex": [
       "A data.frame: 7 × 3\n",
       "\\begin{tabular}{lll}\n",
       " Sample & Group & FPath\\\\\n",
       " <chr> & <chr> & <chr>\\\\\n",
       "\\hline\n",
       "\t Input.rep1  & Input  & /data/reddylab/Kuei/out/proj\\_combeffect\\_encode\\_fcc/results/A001\\_K562\\_WSTARRseq/coverage\\_astarrseq\\_peak\\_macs\\_input/A001\\_K562\\_WSTARRseq.Input.rep1.WGS.unstranded.bed.gz \\\\\n",
       "\t Input.rep2  & Input  & /data/reddylab/Kuei/out/proj\\_combeffect\\_encode\\_fcc/results/A001\\_K562\\_WSTARRseq/coverage\\_astarrseq\\_peak\\_macs\\_input/A001\\_K562\\_WSTARRseq.Input.rep2.WGS.unstranded.bed.gz \\\\\n",
       "\t Input.rep3  & Input  & /data/reddylab/Kuei/out/proj\\_combeffect\\_encode\\_fcc/results/A001\\_K562\\_WSTARRseq/coverage\\_astarrseq\\_peak\\_macs\\_input/A001\\_K562\\_WSTARRseq.Input.rep3.WGS.unstranded.bed.gz \\\\\n",
       "\t Input.rep4  & Input  & /data/reddylab/Kuei/out/proj\\_combeffect\\_encode\\_fcc/results/A001\\_K562\\_WSTARRseq/coverage\\_astarrseq\\_peak\\_macs\\_input/A001\\_K562\\_WSTARRseq.Input.rep4.WGS.unstranded.bed.gz \\\\\n",
       "\t Output.rep1 & Output & /data/reddylab/Kuei/out/proj\\_combeffect\\_encode\\_fcc/results/A001\\_K562\\_WSTARRseq/coverage\\_astarrseq\\_peak\\_macs\\_input/A001\\_K562\\_WSTARRseq.Output.rep1.WGS.unstranded.bed.gz\\\\\n",
       "\t Output.rep2 & Output & /data/reddylab/Kuei/out/proj\\_combeffect\\_encode\\_fcc/results/A001\\_K562\\_WSTARRseq/coverage\\_astarrseq\\_peak\\_macs\\_input/A001\\_K562\\_WSTARRseq.Output.rep2.WGS.unstranded.bed.gz\\\\\n",
       "\t Output.rep3 & Output & /data/reddylab/Kuei/out/proj\\_combeffect\\_encode\\_fcc/results/A001\\_K562\\_WSTARRseq/coverage\\_astarrseq\\_peak\\_macs\\_input/A001\\_K562\\_WSTARRseq.Output.rep3.WGS.unstranded.bed.gz\\\\\n",
       "\\end{tabular}\n"
      ],
      "text/markdown": [
       "\n",
       "A data.frame: 7 × 3\n",
       "\n",
       "| Sample &lt;chr&gt; | Group &lt;chr&gt; | FPath &lt;chr&gt; |\n",
       "|---|---|---|\n",
       "| Input.rep1  | Input  | /data/reddylab/Kuei/out/proj_combeffect_encode_fcc/results/A001_K562_WSTARRseq/coverage_astarrseq_peak_macs_input/A001_K562_WSTARRseq.Input.rep1.WGS.unstranded.bed.gz  |\n",
       "| Input.rep2  | Input  | /data/reddylab/Kuei/out/proj_combeffect_encode_fcc/results/A001_K562_WSTARRseq/coverage_astarrseq_peak_macs_input/A001_K562_WSTARRseq.Input.rep2.WGS.unstranded.bed.gz  |\n",
       "| Input.rep3  | Input  | /data/reddylab/Kuei/out/proj_combeffect_encode_fcc/results/A001_K562_WSTARRseq/coverage_astarrseq_peak_macs_input/A001_K562_WSTARRseq.Input.rep3.WGS.unstranded.bed.gz  |\n",
       "| Input.rep4  | Input  | /data/reddylab/Kuei/out/proj_combeffect_encode_fcc/results/A001_K562_WSTARRseq/coverage_astarrseq_peak_macs_input/A001_K562_WSTARRseq.Input.rep4.WGS.unstranded.bed.gz  |\n",
       "| Output.rep1 | Output | /data/reddylab/Kuei/out/proj_combeffect_encode_fcc/results/A001_K562_WSTARRseq/coverage_astarrseq_peak_macs_input/A001_K562_WSTARRseq.Output.rep1.WGS.unstranded.bed.gz |\n",
       "| Output.rep2 | Output | /data/reddylab/Kuei/out/proj_combeffect_encode_fcc/results/A001_K562_WSTARRseq/coverage_astarrseq_peak_macs_input/A001_K562_WSTARRseq.Output.rep2.WGS.unstranded.bed.gz |\n",
       "| Output.rep3 | Output | /data/reddylab/Kuei/out/proj_combeffect_encode_fcc/results/A001_K562_WSTARRseq/coverage_astarrseq_peak_macs_input/A001_K562_WSTARRseq.Output.rep3.WGS.unstranded.bed.gz |\n",
       "\n"
      ],
      "text/plain": [
       "  Sample      Group \n",
       "1 Input.rep1  Input \n",
       "2 Input.rep2  Input \n",
       "3 Input.rep3  Input \n",
       "4 Input.rep4  Input \n",
       "5 Output.rep1 Output\n",
       "6 Output.rep2 Output\n",
       "7 Output.rep3 Output\n",
       "  FPath                                                                                                                                                                  \n",
       "1 /data/reddylab/Kuei/out/proj_combeffect_encode_fcc/results/A001_K562_WSTARRseq/coverage_astarrseq_peak_macs_input/A001_K562_WSTARRseq.Input.rep1.WGS.unstranded.bed.gz \n",
       "2 /data/reddylab/Kuei/out/proj_combeffect_encode_fcc/results/A001_K562_WSTARRseq/coverage_astarrseq_peak_macs_input/A001_K562_WSTARRseq.Input.rep2.WGS.unstranded.bed.gz \n",
       "3 /data/reddylab/Kuei/out/proj_combeffect_encode_fcc/results/A001_K562_WSTARRseq/coverage_astarrseq_peak_macs_input/A001_K562_WSTARRseq.Input.rep3.WGS.unstranded.bed.gz \n",
       "4 /data/reddylab/Kuei/out/proj_combeffect_encode_fcc/results/A001_K562_WSTARRseq/coverage_astarrseq_peak_macs_input/A001_K562_WSTARRseq.Input.rep4.WGS.unstranded.bed.gz \n",
       "5 /data/reddylab/Kuei/out/proj_combeffect_encode_fcc/results/A001_K562_WSTARRseq/coverage_astarrseq_peak_macs_input/A001_K562_WSTARRseq.Output.rep1.WGS.unstranded.bed.gz\n",
       "6 /data/reddylab/Kuei/out/proj_combeffect_encode_fcc/results/A001_K562_WSTARRseq/coverage_astarrseq_peak_macs_input/A001_K562_WSTARRseq.Output.rep2.WGS.unstranded.bed.gz\n",
       "7 /data/reddylab/Kuei/out/proj_combeffect_encode_fcc/results/A001_K562_WSTARRseq/coverage_astarrseq_peak_macs_input/A001_K562_WSTARRseq.Output.rep3.WGS.unstranded.bed.gz"
      ]
     },
     "metadata": {},
     "output_type": "display_data"
    }
   ],
   "source": [
    "dat_meta = data.frame(\n",
    "    Sample = sapply(fpaths, get_sample),\n",
    "    Group  = sapply(fpaths, get_group),\n",
    "    FPath  = fpaths,\n",
    "    row.names = NULL\n",
    ")\n",
    "dat_meta"
   ]
  },
  {
   "cell_type": "markdown",
   "metadata": {},
   "source": [
    "## Import data"
   ]
  },
  {
   "cell_type": "code",
   "execution_count": 6,
   "metadata": {},
   "outputs": [
    {
     "data": {
      "text/html": [
       "<table class=\"dataframe\">\n",
       "<caption>A tibble: 6 × 6</caption>\n",
       "<thead>\n",
       "\t<tr><th scope=col>Chrom</th><th scope=col>Start</th><th scope=col>End</th><th scope=col>Count</th><th scope=col>Peak</th><th scope=col>Sample</th></tr>\n",
       "\t<tr><th scope=col>&lt;chr&gt;</th><th scope=col>&lt;dbl&gt;</th><th scope=col>&lt;dbl&gt;</th><th scope=col>&lt;int&gt;</th><th scope=col>&lt;chr&gt;</th><th scope=col>&lt;chr&gt;</th></tr>\n",
       "</thead>\n",
       "<tbody>\n",
       "\t<tr><td>chr1</td><td> 10015</td><td> 10442</td><td> 1</td><td>chr1:10015-10442  </td><td>Input.rep1</td></tr>\n",
       "\t<tr><td>chr1</td><td> 17237</td><td> 17772</td><td> 5</td><td>chr1:17237-17772  </td><td>Input.rep1</td></tr>\n",
       "\t<tr><td>chr1</td><td>136071</td><td>137429</td><td> 3</td><td>chr1:136071-137429</td><td>Input.rep1</td></tr>\n",
       "\t<tr><td>chr1</td><td>137737</td><td>139544</td><td>14</td><td>chr1:137737-139544</td><td>Input.rep1</td></tr>\n",
       "\t<tr><td>chr1</td><td>180982</td><td>182087</td><td> 8</td><td>chr1:180982-182087</td><td>Input.rep1</td></tr>\n",
       "\t<tr><td>chr1</td><td>183239</td><td>184602</td><td>12</td><td>chr1:183239-184602</td><td>Input.rep1</td></tr>\n",
       "</tbody>\n",
       "</table>\n"
      ],
      "text/latex": [
       "A tibble: 6 × 6\n",
       "\\begin{tabular}{llllll}\n",
       " Chrom & Start & End & Count & Peak & Sample\\\\\n",
       " <chr> & <dbl> & <dbl> & <int> & <chr> & <chr>\\\\\n",
       "\\hline\n",
       "\t chr1 &  10015 &  10442 &  1 & chr1:10015-10442   & Input.rep1\\\\\n",
       "\t chr1 &  17237 &  17772 &  5 & chr1:17237-17772   & Input.rep1\\\\\n",
       "\t chr1 & 136071 & 137429 &  3 & chr1:136071-137429 & Input.rep1\\\\\n",
       "\t chr1 & 137737 & 139544 & 14 & chr1:137737-139544 & Input.rep1\\\\\n",
       "\t chr1 & 180982 & 182087 &  8 & chr1:180982-182087 & Input.rep1\\\\\n",
       "\t chr1 & 183239 & 184602 & 12 & chr1:183239-184602 & Input.rep1\\\\\n",
       "\\end{tabular}\n"
      ],
      "text/markdown": [
       "\n",
       "A tibble: 6 × 6\n",
       "\n",
       "| Chrom &lt;chr&gt; | Start &lt;dbl&gt; | End &lt;dbl&gt; | Count &lt;int&gt; | Peak &lt;chr&gt; | Sample &lt;chr&gt; |\n",
       "|---|---|---|---|---|---|\n",
       "| chr1 |  10015 |  10442 |  1 | chr1:10015-10442   | Input.rep1 |\n",
       "| chr1 |  17237 |  17772 |  5 | chr1:17237-17772   | Input.rep1 |\n",
       "| chr1 | 136071 | 137429 |  3 | chr1:136071-137429 | Input.rep1 |\n",
       "| chr1 | 137737 | 139544 | 14 | chr1:137737-139544 | Input.rep1 |\n",
       "| chr1 | 180982 | 182087 |  8 | chr1:180982-182087 | Input.rep1 |\n",
       "| chr1 | 183239 | 184602 | 12 | chr1:183239-184602 | Input.rep1 |\n",
       "\n"
      ],
      "text/plain": [
       "  Chrom Start  End    Count Peak               Sample    \n",
       "1 chr1   10015  10442  1    chr1:10015-10442   Input.rep1\n",
       "2 chr1   17237  17772  5    chr1:17237-17772   Input.rep1\n",
       "3 chr1  136071 137429  3    chr1:136071-137429 Input.rep1\n",
       "4 chr1  137737 139544 14    chr1:137737-139544 Input.rep1\n",
       "5 chr1  180982 182087  8    chr1:180982-182087 Input.rep1\n",
       "6 chr1  183239 184602 12    chr1:183239-184602 Input.rep1"
      ]
     },
     "metadata": {},
     "output_type": "display_data"
    }
   ],
   "source": [
    "cnames = c(\"Chrom\", \"Start\", \"End\", \"Count\")\n",
    "ctypes = c(col_character(), col_integer(), col_integer(), col_integer())\n",
    "\n",
    "lst = lapply(fpaths, function(fpath){\n",
    "    sam = get_sample(fpath)\n",
    "    dat = read_tsv(fpath, col_names = cnames, col_types = ctypes) %>% \n",
    "        dplyr::filter(Count != \".\") %>% \n",
    "        dplyr::mutate(Count  = as.integer(Count)) %>%\n",
    "        dplyr::mutate(\n",
    "            Peak   = paste0(Chrom, \":\", Start, \"-\", End),\n",
    "            Sample = sam)\n",
    "    return(dat)\n",
    "})\n",
    "\n",
    "dat_count = bind_rows(lst)\n",
    "head(dat_count)"
   ]
  },
  {
   "cell_type": "code",
   "execution_count": 7,
   "metadata": {},
   "outputs": [
    {
     "data": {
      "text/html": [
       "<table class=\"dataframe\">\n",
       "<caption>A spec_tbl_df: 7 × 7</caption>\n",
       "<thead>\n",
       "\t<tr><th scope=col>FName</th><th scope=col>Size</th><th scope=col>Prefix</th><th scope=col>Sample</th><th scope=col>Group</th><th scope=col>Type</th><th scope=col>Genome</th></tr>\n",
       "\t<tr><th scope=col>&lt;chr&gt;</th><th scope=col>&lt;dbl&gt;</th><th scope=col>&lt;chr&gt;</th><th scope=col>&lt;chr&gt;</th><th scope=col>&lt;chr&gt;</th><th scope=col>&lt;chr&gt;</th><th scope=col>&lt;chr&gt;</th></tr>\n",
       "</thead>\n",
       "<tbody>\n",
       "\t<tr><td>A001_K562_WSTARRseq.Input.rep1.WGS.unstranded.bed.gz </td><td> 26908970</td><td>A001_K562_WSTARRseq</td><td>Input.rep1 </td><td>Input </td><td>raw</td><td>hg38</td></tr>\n",
       "\t<tr><td>A001_K562_WSTARRseq.Input.rep2.WGS.unstranded.bed.gz </td><td> 99899775</td><td>A001_K562_WSTARRseq</td><td>Input.rep2 </td><td>Input </td><td>raw</td><td>hg38</td></tr>\n",
       "\t<tr><td>A001_K562_WSTARRseq.Input.rep3.WGS.unstranded.bed.gz </td><td>105623984</td><td>A001_K562_WSTARRseq</td><td>Input.rep3 </td><td>Input </td><td>raw</td><td>hg38</td></tr>\n",
       "\t<tr><td>A001_K562_WSTARRseq.Input.rep4.WGS.unstranded.bed.gz </td><td>108635002</td><td>A001_K562_WSTARRseq</td><td>Input.rep4 </td><td>Input </td><td>raw</td><td>hg38</td></tr>\n",
       "\t<tr><td>A001_K562_WSTARRseq.Output.rep1.WGS.unstranded.bed.gz</td><td>160349140</td><td>A001_K562_WSTARRseq</td><td>Output.rep1</td><td>Output</td><td>raw</td><td>hg38</td></tr>\n",
       "\t<tr><td>A001_K562_WSTARRseq.Output.rep2.WGS.unstranded.bed.gz</td><td>157326312</td><td>A001_K562_WSTARRseq</td><td>Output.rep2</td><td>Output</td><td>raw</td><td>hg38</td></tr>\n",
       "\t<tr><td>A001_K562_WSTARRseq.Output.rep3.WGS.unstranded.bed.gz</td><td>328185275</td><td>A001_K562_WSTARRseq</td><td>Output.rep3</td><td>Output</td><td>raw</td><td>hg38</td></tr>\n",
       "</tbody>\n",
       "</table>\n"
      ],
      "text/latex": [
       "A spec\\_tbl\\_df: 7 × 7\n",
       "\\begin{tabular}{lllllll}\n",
       " FName & Size & Prefix & Sample & Group & Type & Genome\\\\\n",
       " <chr> & <dbl> & <chr> & <chr> & <chr> & <chr> & <chr>\\\\\n",
       "\\hline\n",
       "\t A001\\_K562\\_WSTARRseq.Input.rep1.WGS.unstranded.bed.gz  &  26908970 & A001\\_K562\\_WSTARRseq & Input.rep1  & Input  & raw & hg38\\\\\n",
       "\t A001\\_K562\\_WSTARRseq.Input.rep2.WGS.unstranded.bed.gz  &  99899775 & A001\\_K562\\_WSTARRseq & Input.rep2  & Input  & raw & hg38\\\\\n",
       "\t A001\\_K562\\_WSTARRseq.Input.rep3.WGS.unstranded.bed.gz  & 105623984 & A001\\_K562\\_WSTARRseq & Input.rep3  & Input  & raw & hg38\\\\\n",
       "\t A001\\_K562\\_WSTARRseq.Input.rep4.WGS.unstranded.bed.gz  & 108635002 & A001\\_K562\\_WSTARRseq & Input.rep4  & Input  & raw & hg38\\\\\n",
       "\t A001\\_K562\\_WSTARRseq.Output.rep1.WGS.unstranded.bed.gz & 160349140 & A001\\_K562\\_WSTARRseq & Output.rep1 & Output & raw & hg38\\\\\n",
       "\t A001\\_K562\\_WSTARRseq.Output.rep2.WGS.unstranded.bed.gz & 157326312 & A001\\_K562\\_WSTARRseq & Output.rep2 & Output & raw & hg38\\\\\n",
       "\t A001\\_K562\\_WSTARRseq.Output.rep3.WGS.unstranded.bed.gz & 328185275 & A001\\_K562\\_WSTARRseq & Output.rep3 & Output & raw & hg38\\\\\n",
       "\\end{tabular}\n"
      ],
      "text/markdown": [
       "\n",
       "A spec_tbl_df: 7 × 7\n",
       "\n",
       "| FName &lt;chr&gt; | Size &lt;dbl&gt; | Prefix &lt;chr&gt; | Sample &lt;chr&gt; | Group &lt;chr&gt; | Type &lt;chr&gt; | Genome &lt;chr&gt; |\n",
       "|---|---|---|---|---|---|---|\n",
       "| A001_K562_WSTARRseq.Input.rep1.WGS.unstranded.bed.gz  |  26908970 | A001_K562_WSTARRseq | Input.rep1  | Input  | raw | hg38 |\n",
       "| A001_K562_WSTARRseq.Input.rep2.WGS.unstranded.bed.gz  |  99899775 | A001_K562_WSTARRseq | Input.rep2  | Input  | raw | hg38 |\n",
       "| A001_K562_WSTARRseq.Input.rep3.WGS.unstranded.bed.gz  | 105623984 | A001_K562_WSTARRseq | Input.rep3  | Input  | raw | hg38 |\n",
       "| A001_K562_WSTARRseq.Input.rep4.WGS.unstranded.bed.gz  | 108635002 | A001_K562_WSTARRseq | Input.rep4  | Input  | raw | hg38 |\n",
       "| A001_K562_WSTARRseq.Output.rep1.WGS.unstranded.bed.gz | 160349140 | A001_K562_WSTARRseq | Output.rep1 | Output | raw | hg38 |\n",
       "| A001_K562_WSTARRseq.Output.rep2.WGS.unstranded.bed.gz | 157326312 | A001_K562_WSTARRseq | Output.rep2 | Output | raw | hg38 |\n",
       "| A001_K562_WSTARRseq.Output.rep3.WGS.unstranded.bed.gz | 328185275 | A001_K562_WSTARRseq | Output.rep3 | Output | raw | hg38 |\n",
       "\n"
      ],
      "text/plain": [
       "  FName                                                 Size     \n",
       "1 A001_K562_WSTARRseq.Input.rep1.WGS.unstranded.bed.gz   26908970\n",
       "2 A001_K562_WSTARRseq.Input.rep2.WGS.unstranded.bed.gz   99899775\n",
       "3 A001_K562_WSTARRseq.Input.rep3.WGS.unstranded.bed.gz  105623984\n",
       "4 A001_K562_WSTARRseq.Input.rep4.WGS.unstranded.bed.gz  108635002\n",
       "5 A001_K562_WSTARRseq.Output.rep1.WGS.unstranded.bed.gz 160349140\n",
       "6 A001_K562_WSTARRseq.Output.rep2.WGS.unstranded.bed.gz 157326312\n",
       "7 A001_K562_WSTARRseq.Output.rep3.WGS.unstranded.bed.gz 328185275\n",
       "  Prefix              Sample      Group  Type Genome\n",
       "1 A001_K562_WSTARRseq Input.rep1  Input  raw  hg38  \n",
       "2 A001_K562_WSTARRseq Input.rep2  Input  raw  hg38  \n",
       "3 A001_K562_WSTARRseq Input.rep3  Input  raw  hg38  \n",
       "4 A001_K562_WSTARRseq Input.rep4  Input  raw  hg38  \n",
       "5 A001_K562_WSTARRseq Output.rep1 Output raw  hg38  \n",
       "6 A001_K562_WSTARRseq Output.rep2 Output raw  hg38  \n",
       "7 A001_K562_WSTARRseq Output.rep3 Output raw  hg38  "
      ]
     },
     "metadata": {},
     "output_type": "display_data"
    }
   ],
   "source": [
    "fdiry = file.path(FD_RES, \"results\", ASSAY, \"coverage\", \"summary\")\n",
    "fname = \"library_size_summary.tsv\"\n",
    "fpath = file.path(fdiry, fname)\n",
    "dat_lib = read_tsv(fpath, show_col_types = FALSE)\n",
    "dat_lib"
   ]
  },
  {
   "cell_type": "markdown",
   "metadata": {},
   "source": [
    "## Calulate CPM"
   ]
  },
  {
   "cell_type": "code",
   "execution_count": 8,
   "metadata": {},
   "outputs": [
    {
     "name": "stdout",
     "output_type": "stream",
     "text": [
      "[1] 1725002       7\n"
     ]
    },
    {
     "data": {
      "text/html": [
       "<table class=\"dataframe\">\n",
       "<caption>A tibble: 6 × 7</caption>\n",
       "<thead>\n",
       "\t<tr><th scope=col>Chrom</th><th scope=col>Start</th><th scope=col>End</th><th scope=col>Peak</th><th scope=col>Sample</th><th scope=col>Count</th><th scope=col>CPM</th></tr>\n",
       "\t<tr><th scope=col>&lt;chr&gt;</th><th scope=col>&lt;dbl&gt;</th><th scope=col>&lt;dbl&gt;</th><th scope=col>&lt;chr&gt;</th><th scope=col>&lt;chr&gt;</th><th scope=col>&lt;int&gt;</th><th scope=col>&lt;dbl&gt;</th></tr>\n",
       "</thead>\n",
       "<tbody>\n",
       "\t<tr><td>chr1</td><td> 10015</td><td> 10442</td><td>chr1:10015-10442  </td><td>Input.rep1</td><td> 1</td><td>0.03716233</td></tr>\n",
       "\t<tr><td>chr1</td><td> 17237</td><td> 17772</td><td>chr1:17237-17772  </td><td>Input.rep1</td><td> 5</td><td>0.18581165</td></tr>\n",
       "\t<tr><td>chr1</td><td>136071</td><td>137429</td><td>chr1:136071-137429</td><td>Input.rep1</td><td> 3</td><td>0.11148699</td></tr>\n",
       "\t<tr><td>chr1</td><td>137737</td><td>139544</td><td>chr1:137737-139544</td><td>Input.rep1</td><td>14</td><td>0.52027261</td></tr>\n",
       "\t<tr><td>chr1</td><td>180982</td><td>182087</td><td>chr1:180982-182087</td><td>Input.rep1</td><td> 8</td><td>0.29729863</td></tr>\n",
       "\t<tr><td>chr1</td><td>183239</td><td>184602</td><td>chr1:183239-184602</td><td>Input.rep1</td><td>12</td><td>0.44594795</td></tr>\n",
       "</tbody>\n",
       "</table>\n"
      ],
      "text/latex": [
       "A tibble: 6 × 7\n",
       "\\begin{tabular}{lllllll}\n",
       " Chrom & Start & End & Peak & Sample & Count & CPM\\\\\n",
       " <chr> & <dbl> & <dbl> & <chr> & <chr> & <int> & <dbl>\\\\\n",
       "\\hline\n",
       "\t chr1 &  10015 &  10442 & chr1:10015-10442   & Input.rep1 &  1 & 0.03716233\\\\\n",
       "\t chr1 &  17237 &  17772 & chr1:17237-17772   & Input.rep1 &  5 & 0.18581165\\\\\n",
       "\t chr1 & 136071 & 137429 & chr1:136071-137429 & Input.rep1 &  3 & 0.11148699\\\\\n",
       "\t chr1 & 137737 & 139544 & chr1:137737-139544 & Input.rep1 & 14 & 0.52027261\\\\\n",
       "\t chr1 & 180982 & 182087 & chr1:180982-182087 & Input.rep1 &  8 & 0.29729863\\\\\n",
       "\t chr1 & 183239 & 184602 & chr1:183239-184602 & Input.rep1 & 12 & 0.44594795\\\\\n",
       "\\end{tabular}\n"
      ],
      "text/markdown": [
       "\n",
       "A tibble: 6 × 7\n",
       "\n",
       "| Chrom &lt;chr&gt; | Start &lt;dbl&gt; | End &lt;dbl&gt; | Peak &lt;chr&gt; | Sample &lt;chr&gt; | Count &lt;int&gt; | CPM &lt;dbl&gt; |\n",
       "|---|---|---|---|---|---|---|\n",
       "| chr1 |  10015 |  10442 | chr1:10015-10442   | Input.rep1 |  1 | 0.03716233 |\n",
       "| chr1 |  17237 |  17772 | chr1:17237-17772   | Input.rep1 |  5 | 0.18581165 |\n",
       "| chr1 | 136071 | 137429 | chr1:136071-137429 | Input.rep1 |  3 | 0.11148699 |\n",
       "| chr1 | 137737 | 139544 | chr1:137737-139544 | Input.rep1 | 14 | 0.52027261 |\n",
       "| chr1 | 180982 | 182087 | chr1:180982-182087 | Input.rep1 |  8 | 0.29729863 |\n",
       "| chr1 | 183239 | 184602 | chr1:183239-184602 | Input.rep1 | 12 | 0.44594795 |\n",
       "\n"
      ],
      "text/plain": [
       "  Chrom Start  End    Peak               Sample     Count CPM       \n",
       "1 chr1   10015  10442 chr1:10015-10442   Input.rep1  1    0.03716233\n",
       "2 chr1   17237  17772 chr1:17237-17772   Input.rep1  5    0.18581165\n",
       "3 chr1  136071 137429 chr1:136071-137429 Input.rep1  3    0.11148699\n",
       "4 chr1  137737 139544 chr1:137737-139544 Input.rep1 14    0.52027261\n",
       "5 chr1  180982 182087 chr1:180982-182087 Input.rep1  8    0.29729863\n",
       "6 chr1  183239 184602 chr1:183239-184602 Input.rep1 12    0.44594795"
      ]
     },
     "metadata": {},
     "output_type": "display_data"
    }
   ],
   "source": [
    "###\n",
    "dat = left_join(dat_count, dat_lib, by = \"Sample\")\n",
    "dat = dat %>%\n",
    "    dplyr::mutate(CPM = Count * 10^6 / Size) %>%\n",
    "    dplyr::select(Chrom, Start, End, Peak, Sample, Count, CPM)\n",
    "\n",
    "###\n",
    "dat_count_cpm = dat\n",
    "print(dim(dat))\n",
    "head(dat)"
   ]
  },
  {
   "cell_type": "markdown",
   "metadata": {},
   "source": [
    "## Arrange to matrix"
   ]
  },
  {
   "cell_type": "code",
   "execution_count": 9,
   "metadata": {},
   "outputs": [
    {
     "name": "stdout",
     "output_type": "stream",
     "text": [
      "[1] 246832      8\n"
     ]
    },
    {
     "data": {
      "text/html": [
       "<table class=\"dataframe\">\n",
       "<caption>A tibble: 6 × 8</caption>\n",
       "<thead>\n",
       "\t<tr><th scope=col>Peak</th><th scope=col>Input.rep1</th><th scope=col>Input.rep2</th><th scope=col>Input.rep3</th><th scope=col>Input.rep4</th><th scope=col>Output.rep1</th><th scope=col>Output.rep2</th><th scope=col>Output.rep3</th></tr>\n",
       "\t<tr><th scope=col>&lt;chr&gt;</th><th scope=col>&lt;int&gt;</th><th scope=col>&lt;int&gt;</th><th scope=col>&lt;int&gt;</th><th scope=col>&lt;int&gt;</th><th scope=col>&lt;int&gt;</th><th scope=col>&lt;int&gt;</th><th scope=col>&lt;int&gt;</th></tr>\n",
       "</thead>\n",
       "<tbody>\n",
       "\t<tr><td>chr1:100006256-100006880</td><td>17</td><td>51</td><td>63</td><td>41</td><td> 69</td><td> 57</td><td>136</td></tr>\n",
       "\t<tr><td>chr1:100010437-100010915</td><td> 5</td><td>31</td><td>29</td><td>35</td><td> 49</td><td> 39</td><td> 77</td></tr>\n",
       "\t<tr><td>chr1:10002087-10003910  </td><td>13</td><td>68</td><td>72</td><td>64</td><td> 85</td><td> 85</td><td>177</td></tr>\n",
       "\t<tr><td>chr1:100021298-100021629</td><td> 0</td><td>10</td><td>13</td><td> 9</td><td> 14</td><td>  9</td><td> 19</td></tr>\n",
       "\t<tr><td>chr1:100023727-100023976</td><td> 2</td><td>14</td><td>14</td><td> 6</td><td> 16</td><td> 17</td><td> 48</td></tr>\n",
       "\t<tr><td>chr1:100027983-100029702</td><td>23</td><td>75</td><td>84</td><td>57</td><td>103</td><td>107</td><td>225</td></tr>\n",
       "</tbody>\n",
       "</table>\n"
      ],
      "text/latex": [
       "A tibble: 6 × 8\n",
       "\\begin{tabular}{llllllll}\n",
       " Peak & Input.rep1 & Input.rep2 & Input.rep3 & Input.rep4 & Output.rep1 & Output.rep2 & Output.rep3\\\\\n",
       " <chr> & <int> & <int> & <int> & <int> & <int> & <int> & <int>\\\\\n",
       "\\hline\n",
       "\t chr1:100006256-100006880 & 17 & 51 & 63 & 41 &  69 &  57 & 136\\\\\n",
       "\t chr1:100010437-100010915 &  5 & 31 & 29 & 35 &  49 &  39 &  77\\\\\n",
       "\t chr1:10002087-10003910   & 13 & 68 & 72 & 64 &  85 &  85 & 177\\\\\n",
       "\t chr1:100021298-100021629 &  0 & 10 & 13 &  9 &  14 &   9 &  19\\\\\n",
       "\t chr1:100023727-100023976 &  2 & 14 & 14 &  6 &  16 &  17 &  48\\\\\n",
       "\t chr1:100027983-100029702 & 23 & 75 & 84 & 57 & 103 & 107 & 225\\\\\n",
       "\\end{tabular}\n"
      ],
      "text/markdown": [
       "\n",
       "A tibble: 6 × 8\n",
       "\n",
       "| Peak &lt;chr&gt; | Input.rep1 &lt;int&gt; | Input.rep2 &lt;int&gt; | Input.rep3 &lt;int&gt; | Input.rep4 &lt;int&gt; | Output.rep1 &lt;int&gt; | Output.rep2 &lt;int&gt; | Output.rep3 &lt;int&gt; |\n",
       "|---|---|---|---|---|---|---|---|\n",
       "| chr1:100006256-100006880 | 17 | 51 | 63 | 41 |  69 |  57 | 136 |\n",
       "| chr1:100010437-100010915 |  5 | 31 | 29 | 35 |  49 |  39 |  77 |\n",
       "| chr1:10002087-10003910   | 13 | 68 | 72 | 64 |  85 |  85 | 177 |\n",
       "| chr1:100021298-100021629 |  0 | 10 | 13 |  9 |  14 |   9 |  19 |\n",
       "| chr1:100023727-100023976 |  2 | 14 | 14 |  6 |  16 |  17 |  48 |\n",
       "| chr1:100027983-100029702 | 23 | 75 | 84 | 57 | 103 | 107 | 225 |\n",
       "\n"
      ],
      "text/plain": [
       "  Peak                     Input.rep1 Input.rep2 Input.rep3 Input.rep4\n",
       "1 chr1:100006256-100006880 17         51         63         41        \n",
       "2 chr1:100010437-100010915  5         31         29         35        \n",
       "3 chr1:10002087-10003910   13         68         72         64        \n",
       "4 chr1:100021298-100021629  0         10         13          9        \n",
       "5 chr1:100023727-100023976  2         14         14          6        \n",
       "6 chr1:100027983-100029702 23         75         84         57        \n",
       "  Output.rep1 Output.rep2 Output.rep3\n",
       "1  69          57         136        \n",
       "2  49          39          77        \n",
       "3  85          85         177        \n",
       "4  14           9          19        \n",
       "5  16          17          48        \n",
       "6 103         107         225        "
      ]
     },
     "metadata": {},
     "output_type": "display_data"
    }
   ],
   "source": [
    "dat = dat_count_cpm\n",
    "dat = dat %>% \n",
    "    dplyr::select(Peak, Sample, Count) %>%\n",
    "    spread(Sample, Count) %>% \n",
    "    replace(is.na(.), 0)\n",
    "\n",
    "mat_count_raw = dat\n",
    "print(dim(dat))\n",
    "head(dat)"
   ]
  },
  {
   "cell_type": "code",
   "execution_count": 10,
   "metadata": {},
   "outputs": [
    {
     "name": "stdout",
     "output_type": "stream",
     "text": [
      "[1] 246832      8\n"
     ]
    },
    {
     "data": {
      "text/html": [
       "<table class=\"dataframe\">\n",
       "<caption>A tibble: 6 × 8</caption>\n",
       "<thead>\n",
       "\t<tr><th scope=col>Peak</th><th scope=col>Input.rep1</th><th scope=col>Input.rep2</th><th scope=col>Input.rep3</th><th scope=col>Input.rep4</th><th scope=col>Output.rep1</th><th scope=col>Output.rep2</th><th scope=col>Output.rep3</th></tr>\n",
       "\t<tr><th scope=col>&lt;chr&gt;</th><th scope=col>&lt;dbl&gt;</th><th scope=col>&lt;dbl&gt;</th><th scope=col>&lt;dbl&gt;</th><th scope=col>&lt;dbl&gt;</th><th scope=col>&lt;dbl&gt;</th><th scope=col>&lt;dbl&gt;</th><th scope=col>&lt;dbl&gt;</th></tr>\n",
       "</thead>\n",
       "<tbody>\n",
       "\t<tr><td>chr1:100006256-100006880</td><td>0.63175960</td><td>0.5105117</td><td>0.5964554</td><td>0.37741059</td><td>0.43031101</td><td>0.36230430</td><td>0.41440007</td></tr>\n",
       "\t<tr><td>chr1:100010437-100010915</td><td>0.18581165</td><td>0.3103110</td><td>0.2745589</td><td>0.32217977</td><td>0.30558318</td><td>0.24789242</td><td>0.23462357</td></tr>\n",
       "\t<tr><td>chr1:10002087-10003910  </td><td>0.48311028</td><td>0.6806822</td><td>0.6816634</td><td>0.58912872</td><td>0.53009327</td><td>0.54027835</td><td>0.53932950</td></tr>\n",
       "\t<tr><td>chr1:100021298-100021629</td><td>0.00000000</td><td>0.1001003</td><td>0.1230781</td><td>0.08284623</td><td>0.08730948</td><td>0.05720594</td><td>0.05789413</td></tr>\n",
       "\t<tr><td>chr1:100023727-100023976</td><td>0.07432466</td><td>0.1401405</td><td>0.1325457</td><td>0.05523082</td><td>0.09978226</td><td>0.10805567</td><td>0.14625885</td></tr>\n",
       "\t<tr><td>chr1:100027983-100029702</td><td>0.85473357</td><td>0.7507524</td><td>0.7952739</td><td>0.52469277</td><td>0.64234832</td><td>0.68011510</td><td>0.68558835</td></tr>\n",
       "</tbody>\n",
       "</table>\n"
      ],
      "text/latex": [
       "A tibble: 6 × 8\n",
       "\\begin{tabular}{llllllll}\n",
       " Peak & Input.rep1 & Input.rep2 & Input.rep3 & Input.rep4 & Output.rep1 & Output.rep2 & Output.rep3\\\\\n",
       " <chr> & <dbl> & <dbl> & <dbl> & <dbl> & <dbl> & <dbl> & <dbl>\\\\\n",
       "\\hline\n",
       "\t chr1:100006256-100006880 & 0.63175960 & 0.5105117 & 0.5964554 & 0.37741059 & 0.43031101 & 0.36230430 & 0.41440007\\\\\n",
       "\t chr1:100010437-100010915 & 0.18581165 & 0.3103110 & 0.2745589 & 0.32217977 & 0.30558318 & 0.24789242 & 0.23462357\\\\\n",
       "\t chr1:10002087-10003910   & 0.48311028 & 0.6806822 & 0.6816634 & 0.58912872 & 0.53009327 & 0.54027835 & 0.53932950\\\\\n",
       "\t chr1:100021298-100021629 & 0.00000000 & 0.1001003 & 0.1230781 & 0.08284623 & 0.08730948 & 0.05720594 & 0.05789413\\\\\n",
       "\t chr1:100023727-100023976 & 0.07432466 & 0.1401405 & 0.1325457 & 0.05523082 & 0.09978226 & 0.10805567 & 0.14625885\\\\\n",
       "\t chr1:100027983-100029702 & 0.85473357 & 0.7507524 & 0.7952739 & 0.52469277 & 0.64234832 & 0.68011510 & 0.68558835\\\\\n",
       "\\end{tabular}\n"
      ],
      "text/markdown": [
       "\n",
       "A tibble: 6 × 8\n",
       "\n",
       "| Peak &lt;chr&gt; | Input.rep1 &lt;dbl&gt; | Input.rep2 &lt;dbl&gt; | Input.rep3 &lt;dbl&gt; | Input.rep4 &lt;dbl&gt; | Output.rep1 &lt;dbl&gt; | Output.rep2 &lt;dbl&gt; | Output.rep3 &lt;dbl&gt; |\n",
       "|---|---|---|---|---|---|---|---|\n",
       "| chr1:100006256-100006880 | 0.63175960 | 0.5105117 | 0.5964554 | 0.37741059 | 0.43031101 | 0.36230430 | 0.41440007 |\n",
       "| chr1:100010437-100010915 | 0.18581165 | 0.3103110 | 0.2745589 | 0.32217977 | 0.30558318 | 0.24789242 | 0.23462357 |\n",
       "| chr1:10002087-10003910   | 0.48311028 | 0.6806822 | 0.6816634 | 0.58912872 | 0.53009327 | 0.54027835 | 0.53932950 |\n",
       "| chr1:100021298-100021629 | 0.00000000 | 0.1001003 | 0.1230781 | 0.08284623 | 0.08730948 | 0.05720594 | 0.05789413 |\n",
       "| chr1:100023727-100023976 | 0.07432466 | 0.1401405 | 0.1325457 | 0.05523082 | 0.09978226 | 0.10805567 | 0.14625885 |\n",
       "| chr1:100027983-100029702 | 0.85473357 | 0.7507524 | 0.7952739 | 0.52469277 | 0.64234832 | 0.68011510 | 0.68558835 |\n",
       "\n"
      ],
      "text/plain": [
       "  Peak                     Input.rep1 Input.rep2 Input.rep3 Input.rep4\n",
       "1 chr1:100006256-100006880 0.63175960 0.5105117  0.5964554  0.37741059\n",
       "2 chr1:100010437-100010915 0.18581165 0.3103110  0.2745589  0.32217977\n",
       "3 chr1:10002087-10003910   0.48311028 0.6806822  0.6816634  0.58912872\n",
       "4 chr1:100021298-100021629 0.00000000 0.1001003  0.1230781  0.08284623\n",
       "5 chr1:100023727-100023976 0.07432466 0.1401405  0.1325457  0.05523082\n",
       "6 chr1:100027983-100029702 0.85473357 0.7507524  0.7952739  0.52469277\n",
       "  Output.rep1 Output.rep2 Output.rep3\n",
       "1 0.43031101  0.36230430  0.41440007 \n",
       "2 0.30558318  0.24789242  0.23462357 \n",
       "3 0.53009327  0.54027835  0.53932950 \n",
       "4 0.08730948  0.05720594  0.05789413 \n",
       "5 0.09978226  0.10805567  0.14625885 \n",
       "6 0.64234832  0.68011510  0.68558835 "
      ]
     },
     "metadata": {},
     "output_type": "display_data"
    }
   ],
   "source": [
    "dat = dat_count_cpm\n",
    "dat = dat %>% \n",
    "    dplyr::select(Peak, Sample, CPM) %>%\n",
    "    spread(Sample, CPM) %>% \n",
    "    replace(is.na(.), 0)\n",
    "\n",
    "mat_count_cpm = dat\n",
    "print(dim(dat))\n",
    "head(dat)"
   ]
  },
  {
   "cell_type": "markdown",
   "metadata": {},
   "source": [
    "## Calculate log2fc"
   ]
  },
  {
   "cell_type": "code",
   "execution_count": 11,
   "metadata": {},
   "outputs": [
    {
     "data": {
      "text/html": [
       "<table class=\"dataframe\">\n",
       "<caption>A tibble: 6 × 8</caption>\n",
       "<thead>\n",
       "\t<tr><th scope=col>Peak</th><th scope=col>Input.rep1</th><th scope=col>Input.rep2</th><th scope=col>Input.rep3</th><th scope=col>Input.rep4</th><th scope=col>Output.rep1</th><th scope=col>Output.rep2</th><th scope=col>Output.rep3</th></tr>\n",
       "\t<tr><th scope=col>&lt;chr&gt;</th><th scope=col>&lt;dbl&gt;</th><th scope=col>&lt;dbl&gt;</th><th scope=col>&lt;dbl&gt;</th><th scope=col>&lt;dbl&gt;</th><th scope=col>&lt;dbl&gt;</th><th scope=col>&lt;dbl&gt;</th><th scope=col>&lt;dbl&gt;</th></tr>\n",
       "</thead>\n",
       "<tbody>\n",
       "\t<tr><td>chr1:100006256-100006880</td><td>0.63175960</td><td>0.5105117</td><td>0.5964554</td><td>0.37741059</td><td>0.43031101</td><td>0.36230430</td><td>0.41440007</td></tr>\n",
       "\t<tr><td>chr1:100010437-100010915</td><td>0.18581165</td><td>0.3103110</td><td>0.2745589</td><td>0.32217977</td><td>0.30558318</td><td>0.24789242</td><td>0.23462357</td></tr>\n",
       "\t<tr><td>chr1:10002087-10003910  </td><td>0.48311028</td><td>0.6806822</td><td>0.6816634</td><td>0.58912872</td><td>0.53009327</td><td>0.54027835</td><td>0.53932950</td></tr>\n",
       "\t<tr><td>chr1:100021298-100021629</td><td>0.00000000</td><td>0.1001003</td><td>0.1230781</td><td>0.08284623</td><td>0.08730948</td><td>0.05720594</td><td>0.05789413</td></tr>\n",
       "\t<tr><td>chr1:100023727-100023976</td><td>0.07432466</td><td>0.1401405</td><td>0.1325457</td><td>0.05523082</td><td>0.09978226</td><td>0.10805567</td><td>0.14625885</td></tr>\n",
       "\t<tr><td>chr1:100027983-100029702</td><td>0.85473357</td><td>0.7507524</td><td>0.7952739</td><td>0.52469277</td><td>0.64234832</td><td>0.68011510</td><td>0.68558835</td></tr>\n",
       "</tbody>\n",
       "</table>\n"
      ],
      "text/latex": [
       "A tibble: 6 × 8\n",
       "\\begin{tabular}{llllllll}\n",
       " Peak & Input.rep1 & Input.rep2 & Input.rep3 & Input.rep4 & Output.rep1 & Output.rep2 & Output.rep3\\\\\n",
       " <chr> & <dbl> & <dbl> & <dbl> & <dbl> & <dbl> & <dbl> & <dbl>\\\\\n",
       "\\hline\n",
       "\t chr1:100006256-100006880 & 0.63175960 & 0.5105117 & 0.5964554 & 0.37741059 & 0.43031101 & 0.36230430 & 0.41440007\\\\\n",
       "\t chr1:100010437-100010915 & 0.18581165 & 0.3103110 & 0.2745589 & 0.32217977 & 0.30558318 & 0.24789242 & 0.23462357\\\\\n",
       "\t chr1:10002087-10003910   & 0.48311028 & 0.6806822 & 0.6816634 & 0.58912872 & 0.53009327 & 0.54027835 & 0.53932950\\\\\n",
       "\t chr1:100021298-100021629 & 0.00000000 & 0.1001003 & 0.1230781 & 0.08284623 & 0.08730948 & 0.05720594 & 0.05789413\\\\\n",
       "\t chr1:100023727-100023976 & 0.07432466 & 0.1401405 & 0.1325457 & 0.05523082 & 0.09978226 & 0.10805567 & 0.14625885\\\\\n",
       "\t chr1:100027983-100029702 & 0.85473357 & 0.7507524 & 0.7952739 & 0.52469277 & 0.64234832 & 0.68011510 & 0.68558835\\\\\n",
       "\\end{tabular}\n"
      ],
      "text/markdown": [
       "\n",
       "A tibble: 6 × 8\n",
       "\n",
       "| Peak &lt;chr&gt; | Input.rep1 &lt;dbl&gt; | Input.rep2 &lt;dbl&gt; | Input.rep3 &lt;dbl&gt; | Input.rep4 &lt;dbl&gt; | Output.rep1 &lt;dbl&gt; | Output.rep2 &lt;dbl&gt; | Output.rep3 &lt;dbl&gt; |\n",
       "|---|---|---|---|---|---|---|---|\n",
       "| chr1:100006256-100006880 | 0.63175960 | 0.5105117 | 0.5964554 | 0.37741059 | 0.43031101 | 0.36230430 | 0.41440007 |\n",
       "| chr1:100010437-100010915 | 0.18581165 | 0.3103110 | 0.2745589 | 0.32217977 | 0.30558318 | 0.24789242 | 0.23462357 |\n",
       "| chr1:10002087-10003910   | 0.48311028 | 0.6806822 | 0.6816634 | 0.58912872 | 0.53009327 | 0.54027835 | 0.53932950 |\n",
       "| chr1:100021298-100021629 | 0.00000000 | 0.1001003 | 0.1230781 | 0.08284623 | 0.08730948 | 0.05720594 | 0.05789413 |\n",
       "| chr1:100023727-100023976 | 0.07432466 | 0.1401405 | 0.1325457 | 0.05523082 | 0.09978226 | 0.10805567 | 0.14625885 |\n",
       "| chr1:100027983-100029702 | 0.85473357 | 0.7507524 | 0.7952739 | 0.52469277 | 0.64234832 | 0.68011510 | 0.68558835 |\n",
       "\n"
      ],
      "text/plain": [
       "  Peak                     Input.rep1 Input.rep2 Input.rep3 Input.rep4\n",
       "1 chr1:100006256-100006880 0.63175960 0.5105117  0.5964554  0.37741059\n",
       "2 chr1:100010437-100010915 0.18581165 0.3103110  0.2745589  0.32217977\n",
       "3 chr1:10002087-10003910   0.48311028 0.6806822  0.6816634  0.58912872\n",
       "4 chr1:100021298-100021629 0.00000000 0.1001003  0.1230781  0.08284623\n",
       "5 chr1:100023727-100023976 0.07432466 0.1401405  0.1325457  0.05523082\n",
       "6 chr1:100027983-100029702 0.85473357 0.7507524  0.7952739  0.52469277\n",
       "  Output.rep1 Output.rep2 Output.rep3\n",
       "1 0.43031101  0.36230430  0.41440007 \n",
       "2 0.30558318  0.24789242  0.23462357 \n",
       "3 0.53009327  0.54027835  0.53932950 \n",
       "4 0.08730948  0.05720594  0.05789413 \n",
       "5 0.09978226  0.10805567  0.14625885 \n",
       "6 0.64234832  0.68011510  0.68558835 "
      ]
     },
     "metadata": {},
     "output_type": "display_data"
    }
   ],
   "source": [
    "dat = mat_count_cpm\n",
    "head(dat)"
   ]
  },
  {
   "cell_type": "code",
   "execution_count": 12,
   "metadata": {},
   "outputs": [
    {
     "name": "stdout",
     "output_type": "stream",
     "text": [
      "[1] 246832      5\n"
     ]
    },
    {
     "data": {
      "text/html": [
       "<table class=\"dataframe\">\n",
       "<caption>A tibble: 6 × 5</caption>\n",
       "<thead>\n",
       "\t<tr><th scope=col>Peak</th><th scope=col>Input</th><th scope=col>Output</th><th scope=col>Log2FC</th><th scope=col>pLog2FC</th></tr>\n",
       "\t<tr><th scope=col>&lt;chr&gt;</th><th scope=col>&lt;dbl&gt;</th><th scope=col>&lt;dbl&gt;</th><th scope=col>&lt;dbl&gt;</th><th scope=col>&lt;dbl&gt;</th></tr>\n",
       "</thead>\n",
       "<tbody>\n",
       "\t<tr><td>chr1:100006256-100006880</td><td>0.52903432</td><td>0.40233846</td><td>-0.39495167</td><td>-0.12478620</td></tr>\n",
       "\t<tr><td>chr1:100010437-100010915</td><td>0.27321532</td><td>0.26269972</td><td>-0.05662371</td><td>-0.01196482</td></tr>\n",
       "\t<tr><td>chr1:10002087-10003910  </td><td>0.60864614</td><td>0.53656704</td><td>-0.18184528</td><td>-0.06613630</td></tr>\n",
       "\t<tr><td>chr1:100021298-100021629</td><td>0.07650616</td><td>0.06746985</td><td>-0.18133305</td><td>-0.01216126</td></tr>\n",
       "\t<tr><td>chr1:100023727-100023976</td><td>0.10056040</td><td>0.11803226</td><td> 0.23111898</td><td> 0.02272350</td></tr>\n",
       "\t<tr><td>chr1:100027983-100029702</td><td>0.73136318</td><td>0.66935059</td><td>-0.12782594</td><td>-0.05262141</td></tr>\n",
       "</tbody>\n",
       "</table>\n"
      ],
      "text/latex": [
       "A tibble: 6 × 5\n",
       "\\begin{tabular}{lllll}\n",
       " Peak & Input & Output & Log2FC & pLog2FC\\\\\n",
       " <chr> & <dbl> & <dbl> & <dbl> & <dbl>\\\\\n",
       "\\hline\n",
       "\t chr1:100006256-100006880 & 0.52903432 & 0.40233846 & -0.39495167 & -0.12478620\\\\\n",
       "\t chr1:100010437-100010915 & 0.27321532 & 0.26269972 & -0.05662371 & -0.01196482\\\\\n",
       "\t chr1:10002087-10003910   & 0.60864614 & 0.53656704 & -0.18184528 & -0.06613630\\\\\n",
       "\t chr1:100021298-100021629 & 0.07650616 & 0.06746985 & -0.18133305 & -0.01216126\\\\\n",
       "\t chr1:100023727-100023976 & 0.10056040 & 0.11803226 &  0.23111898 &  0.02272350\\\\\n",
       "\t chr1:100027983-100029702 & 0.73136318 & 0.66935059 & -0.12782594 & -0.05262141\\\\\n",
       "\\end{tabular}\n"
      ],
      "text/markdown": [
       "\n",
       "A tibble: 6 × 5\n",
       "\n",
       "| Peak &lt;chr&gt; | Input &lt;dbl&gt; | Output &lt;dbl&gt; | Log2FC &lt;dbl&gt; | pLog2FC &lt;dbl&gt; |\n",
       "|---|---|---|---|---|\n",
       "| chr1:100006256-100006880 | 0.52903432 | 0.40233846 | -0.39495167 | -0.12478620 |\n",
       "| chr1:100010437-100010915 | 0.27321532 | 0.26269972 | -0.05662371 | -0.01196482 |\n",
       "| chr1:10002087-10003910   | 0.60864614 | 0.53656704 | -0.18184528 | -0.06613630 |\n",
       "| chr1:100021298-100021629 | 0.07650616 | 0.06746985 | -0.18133305 | -0.01216126 |\n",
       "| chr1:100023727-100023976 | 0.10056040 | 0.11803226 |  0.23111898 |  0.02272350 |\n",
       "| chr1:100027983-100029702 | 0.73136318 | 0.66935059 | -0.12782594 | -0.05262141 |\n",
       "\n"
      ],
      "text/plain": [
       "  Peak                     Input      Output     Log2FC      pLog2FC    \n",
       "1 chr1:100006256-100006880 0.52903432 0.40233846 -0.39495167 -0.12478620\n",
       "2 chr1:100010437-100010915 0.27321532 0.26269972 -0.05662371 -0.01196482\n",
       "3 chr1:10002087-10003910   0.60864614 0.53656704 -0.18184528 -0.06613630\n",
       "4 chr1:100021298-100021629 0.07650616 0.06746985 -0.18133305 -0.01216126\n",
       "5 chr1:100023727-100023976 0.10056040 0.11803226  0.23111898  0.02272350\n",
       "6 chr1:100027983-100029702 0.73136318 0.66935059 -0.12782594 -0.05262141"
      ]
     },
     "metadata": {},
     "output_type": "display_data"
    }
   ],
   "source": [
    "### Row-wise means in dplyr – Jeffrey Girard\n",
    "### https://jmgirard.com/rowwise-means/\n",
    "\n",
    "dat = mat_count_cpm\n",
    "dat = dat %>%\n",
    "    dplyr::mutate(\n",
    "        Input  = rowMeans(across(starts_with(\"Input\"))),\n",
    "        Output = rowMeans(across(starts_with(\"Output\")))\n",
    "    ) %>%\n",
    "    dplyr::mutate(\n",
    "        Log2FC  = log2(Output)   - log2(Input),\n",
    "        pLog2FC = log2(Output+1) - log2(Input+1)\n",
    "    ) %>%\n",
    "    dplyr::select(Peak, Input, Output, Log2FC, pLog2FC)\n",
    "\n",
    "###\n",
    "dat_log2fc = dat\n",
    "print(dim(dat))\n",
    "head(dat)"
   ]
  },
  {
   "cell_type": "markdown",
   "metadata": {},
   "source": [
    "## Save results"
   ]
  },
  {
   "cell_type": "code",
   "execution_count": 13,
   "metadata": {},
   "outputs": [],
   "source": [
    "ASSAY  = \"A001_K562_WSTARRseq\"\n",
    "FOLDER = \"coverage_astarrseq_peak_macs_input\""
   ]
  },
  {
   "cell_type": "code",
   "execution_count": 14,
   "metadata": {},
   "outputs": [
    {
     "name": "stdout",
     "output_type": "stream",
     "text": [
      "[1] \"/data/reddylab/Kuei/out/proj_combeffect_encode_fcc/results/A001_K562_WSTARRseq/coverage_astarrseq_peak_macs_input/summary/metadata.raw.WGS.tsv\"\n"
     ]
    }
   ],
   "source": [
    "fdiry = file.path(FD_RES, \"results\", ASSAY, FOLDER, \"summary\")\n",
    "fname = \"metadata.raw.WGS.tsv\"\n",
    "fpath = file.path(fdiry, fname)\n",
    "print(fpath)\n",
    "\n",
    "dat = dat_meta\n",
    "write_tsv(dat, fpath)"
   ]
  },
  {
   "cell_type": "code",
   "execution_count": 15,
   "metadata": {},
   "outputs": [
    {
     "name": "stdout",
     "output_type": "stream",
     "text": [
      "[1] \"/data/reddylab/Kuei/out/proj_combeffect_encode_fcc/results/A001_K562_WSTARRseq/coverage_astarrseq_peak_macs_input/summary/matrix.raw.count.WGS.tsv\"\n"
     ]
    }
   ],
   "source": [
    "fdiry = file.path(FD_RES, \"results\", ASSAY, FOLDER, \"summary\")\n",
    "fname = \"matrix.raw.count.WGS.tsv\"\n",
    "fpath = file.path(fdiry, fname)\n",
    "print(fpath)\n",
    "\n",
    "dat = mat_count_raw\n",
    "write_tsv(dat, fpath)"
   ]
  },
  {
   "cell_type": "code",
   "execution_count": 16,
   "metadata": {},
   "outputs": [
    {
     "name": "stdout",
     "output_type": "stream",
     "text": [
      "[1] \"/data/reddylab/Kuei/out/proj_combeffect_encode_fcc/results/A001_K562_WSTARRseq/coverage_astarrseq_peak_macs_input/summary/matrix.raw.cpm.WGS.tsv\"\n"
     ]
    }
   ],
   "source": [
    "fdiry = file.path(FD_RES, \"results\", ASSAY, FOLDER, \"summary\")\n",
    "fname = \"matrix.raw.cpm.WGS.tsv\"\n",
    "fpath = file.path(fdiry, fname)\n",
    "print(fpath)\n",
    "\n",
    "dat = mat_count_cpm\n",
    "write_tsv(dat, fpath)"
   ]
  },
  {
   "cell_type": "code",
   "execution_count": 17,
   "metadata": {},
   "outputs": [
    {
     "name": "stdout",
     "output_type": "stream",
     "text": [
      "[1] \"/data/reddylab/Kuei/out/proj_combeffect_encode_fcc/results/A001_K562_WSTARRseq/coverage_astarrseq_peak_macs_input/summary/result.Log2FC.raw.cpm.WGS.tsv\"\n"
     ]
    }
   ],
   "source": [
    "fdiry = file.path(FD_RES, \"results\", ASSAY, FOLDER, \"summary\")\n",
    "fname = \"result.Log2FC.raw.cpm.WGS.tsv\"\n",
    "fpath = file.path(fdiry, fname)\n",
    "print(fpath)\n",
    "\n",
    "dat = dat_log2fc\n",
    "write_tsv(dat, fpath)"
   ]
  },
  {
   "cell_type": "code",
   "execution_count": null,
   "metadata": {},
   "outputs": [],
   "source": []
  }
 ],
 "metadata": {
  "kernelspec": {
   "display_name": "R",
   "language": "R",
   "name": "ir"
  },
  "language_info": {
   "codemirror_mode": "r",
   "file_extension": ".r",
   "mimetype": "text/x-r-source",
   "name": "R",
   "pygments_lexer": "r",
   "version": "4.3.0"
  }
 },
 "nbformat": 4,
 "nbformat_minor": 4
}
