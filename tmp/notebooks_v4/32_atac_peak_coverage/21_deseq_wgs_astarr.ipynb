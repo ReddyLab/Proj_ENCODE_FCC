{
 "cells": [
  {
   "cell_type": "markdown",
   "metadata": {},
   "source": [
    "**Set environment**"
   ]
  },
  {
   "cell_type": "code",
   "execution_count": 1,
   "metadata": {},
   "outputs": [
    {
     "name": "stdout",
     "output_type": "stream",
     "text": [
      "You are in Singularity: singularity_proj_encode_fcc \n",
      "BASE DIRECTORY (FD_BASE): /data/reddylab/Kuei \n",
      "WORK DIRECTORY (FD_WORK): /data/reddylab/Kuei/out \n",
      "CODE DIRECTORY (FD_CODE): /data/reddylab/Kuei/code \n",
      "PATH OF PROJECT (FD_PRJ): /data/reddylab/Kuei/code/Proj_CombEffect_ENCODE_FCC \n",
      "PATH OF RESULTS (FD_RES): /data/reddylab/Kuei/out/proj_combeffect_encode_fcc \n",
      "PATH OF LOG     (FD_LOG): /data/reddylab/Kuei/out/proj_combeffect_encode_fcc/log \n"
     ]
    }
   ],
   "source": [
    "suppressMessages(suppressWarnings(source(\"../config/config_sing.R\")))\n",
    "suppressMessages(suppressWarnings(library(\"DESeq2\")))\n",
    "show_env()"
   ]
  },
  {
   "cell_type": "markdown",
   "metadata": {},
   "source": [
    "## Import count matrix and metadata"
   ]
  },
  {
   "cell_type": "code",
   "execution_count": 2,
   "metadata": {},
   "outputs": [],
   "source": [
    "PREFIX = \"KS91_K562_ASTARRseq\"\n",
    "FOLDER = \"coverage_astarrseq_peak_macs_input\"\n",
    "\n",
    "fdiry = file.path(FD_RES, \"results\", PREFIX, FOLDER, \"summary\")\n",
    "\n",
    "fname = \"matrix.raw.count.WGS.tsv\"\n",
    "fpath = file.path(fdiry, fname)\n",
    "dat_count = read_tsv(fpath, show_col_types = FALSE)\n",
    "\n",
    "fname = \"metadata.raw.WGS.tsv\"\n",
    "fpath = file.path(fdiry, fname)\n",
    "dat_meta = read_tsv(fpath, show_col_types = FALSE)"
   ]
  },
  {
   "cell_type": "markdown",
   "metadata": {},
   "source": [
    "**Arrange count matrix and metadata**"
   ]
  },
  {
   "cell_type": "code",
   "execution_count": 3,
   "metadata": {},
   "outputs": [],
   "source": [
    "dat_col = dat_meta  %>% \n",
    "    dplyr::select(Sample, Group) %>% \n",
    "    dplyr::rename(condition = Group) %>%\n",
    "    column_to_rownames(var = \"Sample\")\n",
    "\n",
    "dat_cnt = dat_count %>% \n",
    "    column_to_rownames(var = \"Peak\")\n",
    "\n",
    "dat_cnt[is.na(dat_cnt)] = 0"
   ]
  },
  {
   "cell_type": "markdown",
   "metadata": {},
   "source": [
    "**Show data**"
   ]
  },
  {
   "cell_type": "code",
   "execution_count": 4,
   "metadata": {},
   "outputs": [
    {
     "data": {
      "text/html": [
       "<table class=\"dataframe\">\n",
       "<caption>A data.frame: 6 × 10</caption>\n",
       "<thead>\n",
       "\t<tr><th></th><th scope=col>Input.rep1</th><th scope=col>Input.rep2</th><th scope=col>Input.rep3</th><th scope=col>Input.rep4</th><th scope=col>Input.rep5</th><th scope=col>Input.rep6</th><th scope=col>Output.rep1</th><th scope=col>Output.rep2</th><th scope=col>Output.rep3</th><th scope=col>Output.rep4</th></tr>\n",
       "\t<tr><th></th><th scope=col>&lt;dbl&gt;</th><th scope=col>&lt;dbl&gt;</th><th scope=col>&lt;dbl&gt;</th><th scope=col>&lt;dbl&gt;</th><th scope=col>&lt;dbl&gt;</th><th scope=col>&lt;dbl&gt;</th><th scope=col>&lt;dbl&gt;</th><th scope=col>&lt;dbl&gt;</th><th scope=col>&lt;dbl&gt;</th><th scope=col>&lt;dbl&gt;</th></tr>\n",
       "</thead>\n",
       "<tbody>\n",
       "\t<tr><th scope=row>chr1:100006256-100006880</th><td>121</td><td>176</td><td>180</td><td>155</td><td>147</td><td>152</td><td>10</td><td> 32</td><td> 24</td><td> 51</td></tr>\n",
       "\t<tr><th scope=row>chr1:100010437-100010915</th><td>103</td><td>122</td><td>125</td><td>146</td><td>123</td><td>119</td><td> 2</td><td>  9</td><td> 15</td><td> 28</td></tr>\n",
       "\t<tr><th scope=row>chr1:10002087-10003910</th><td>399</td><td>561</td><td>538</td><td>546</td><td>536</td><td>458</td><td>28</td><td> 77</td><td> 70</td><td>127</td></tr>\n",
       "\t<tr><th scope=row>chr1:100021298-100021629</th><td> 79</td><td>106</td><td>121</td><td>106</td><td> 96</td><td> 92</td><td> 2</td><td>  7</td><td> 12</td><td> 16</td></tr>\n",
       "\t<tr><th scope=row>chr1:100023727-100023976</th><td> 48</td><td> 72</td><td> 72</td><td> 68</td><td> 79</td><td> 57</td><td>11</td><td> 11</td><td>  7</td><td> 14</td></tr>\n",
       "\t<tr><th scope=row>chr1:100027983-100029702</th><td>480</td><td>611</td><td>744</td><td>697</td><td>676</td><td>573</td><td>37</td><td>108</td><td>110</td><td>165</td></tr>\n",
       "</tbody>\n",
       "</table>\n"
      ],
      "text/latex": [
       "A data.frame: 6 × 10\n",
       "\\begin{tabular}{r|llllllllll}\n",
       "  & Input.rep1 & Input.rep2 & Input.rep3 & Input.rep4 & Input.rep5 & Input.rep6 & Output.rep1 & Output.rep2 & Output.rep3 & Output.rep4\\\\\n",
       "  & <dbl> & <dbl> & <dbl> & <dbl> & <dbl> & <dbl> & <dbl> & <dbl> & <dbl> & <dbl>\\\\\n",
       "\\hline\n",
       "\tchr1:100006256-100006880 & 121 & 176 & 180 & 155 & 147 & 152 & 10 &  32 &  24 &  51\\\\\n",
       "\tchr1:100010437-100010915 & 103 & 122 & 125 & 146 & 123 & 119 &  2 &   9 &  15 &  28\\\\\n",
       "\tchr1:10002087-10003910 & 399 & 561 & 538 & 546 & 536 & 458 & 28 &  77 &  70 & 127\\\\\n",
       "\tchr1:100021298-100021629 &  79 & 106 & 121 & 106 &  96 &  92 &  2 &   7 &  12 &  16\\\\\n",
       "\tchr1:100023727-100023976 &  48 &  72 &  72 &  68 &  79 &  57 & 11 &  11 &   7 &  14\\\\\n",
       "\tchr1:100027983-100029702 & 480 & 611 & 744 & 697 & 676 & 573 & 37 & 108 & 110 & 165\\\\\n",
       "\\end{tabular}\n"
      ],
      "text/markdown": [
       "\n",
       "A data.frame: 6 × 10\n",
       "\n",
       "| <!--/--> | Input.rep1 &lt;dbl&gt; | Input.rep2 &lt;dbl&gt; | Input.rep3 &lt;dbl&gt; | Input.rep4 &lt;dbl&gt; | Input.rep5 &lt;dbl&gt; | Input.rep6 &lt;dbl&gt; | Output.rep1 &lt;dbl&gt; | Output.rep2 &lt;dbl&gt; | Output.rep3 &lt;dbl&gt; | Output.rep4 &lt;dbl&gt; |\n",
       "|---|---|---|---|---|---|---|---|---|---|---|\n",
       "| chr1:100006256-100006880 | 121 | 176 | 180 | 155 | 147 | 152 | 10 |  32 |  24 |  51 |\n",
       "| chr1:100010437-100010915 | 103 | 122 | 125 | 146 | 123 | 119 |  2 |   9 |  15 |  28 |\n",
       "| chr1:10002087-10003910 | 399 | 561 | 538 | 546 | 536 | 458 | 28 |  77 |  70 | 127 |\n",
       "| chr1:100021298-100021629 |  79 | 106 | 121 | 106 |  96 |  92 |  2 |   7 |  12 |  16 |\n",
       "| chr1:100023727-100023976 |  48 |  72 |  72 |  68 |  79 |  57 | 11 |  11 |   7 |  14 |\n",
       "| chr1:100027983-100029702 | 480 | 611 | 744 | 697 | 676 | 573 | 37 | 108 | 110 | 165 |\n",
       "\n"
      ],
      "text/plain": [
       "                         Input.rep1 Input.rep2 Input.rep3 Input.rep4 Input.rep5\n",
       "chr1:100006256-100006880 121        176        180        155        147       \n",
       "chr1:100010437-100010915 103        122        125        146        123       \n",
       "chr1:10002087-10003910   399        561        538        546        536       \n",
       "chr1:100021298-100021629  79        106        121        106         96       \n",
       "chr1:100023727-100023976  48         72         72         68         79       \n",
       "chr1:100027983-100029702 480        611        744        697        676       \n",
       "                         Input.rep6 Output.rep1 Output.rep2 Output.rep3\n",
       "chr1:100006256-100006880 152        10           32          24        \n",
       "chr1:100010437-100010915 119         2            9          15        \n",
       "chr1:10002087-10003910   458        28           77          70        \n",
       "chr1:100021298-100021629  92         2            7          12        \n",
       "chr1:100023727-100023976  57        11           11           7        \n",
       "chr1:100027983-100029702 573        37          108         110        \n",
       "                         Output.rep4\n",
       "chr1:100006256-100006880  51        \n",
       "chr1:100010437-100010915  28        \n",
       "chr1:10002087-10003910   127        \n",
       "chr1:100021298-100021629  16        \n",
       "chr1:100023727-100023976  14        \n",
       "chr1:100027983-100029702 165        "
      ]
     },
     "metadata": {},
     "output_type": "display_data"
    }
   ],
   "source": [
    "head(dat_cnt)"
   ]
  },
  {
   "cell_type": "code",
   "execution_count": 5,
   "metadata": {},
   "outputs": [
    {
     "data": {
      "text/html": [
       "<table class=\"dataframe\">\n",
       "<caption>A data.frame: 10 × 1</caption>\n",
       "<thead>\n",
       "\t<tr><th></th><th scope=col>condition</th></tr>\n",
       "\t<tr><th></th><th scope=col>&lt;chr&gt;</th></tr>\n",
       "</thead>\n",
       "<tbody>\n",
       "\t<tr><th scope=row>Input.rep1</th><td>Input </td></tr>\n",
       "\t<tr><th scope=row>Input.rep2</th><td>Input </td></tr>\n",
       "\t<tr><th scope=row>Input.rep3</th><td>Input </td></tr>\n",
       "\t<tr><th scope=row>Input.rep4</th><td>Input </td></tr>\n",
       "\t<tr><th scope=row>Input.rep5</th><td>Input </td></tr>\n",
       "\t<tr><th scope=row>Input.rep6</th><td>Input </td></tr>\n",
       "\t<tr><th scope=row>Output.rep1</th><td>Output</td></tr>\n",
       "\t<tr><th scope=row>Output.rep2</th><td>Output</td></tr>\n",
       "\t<tr><th scope=row>Output.rep3</th><td>Output</td></tr>\n",
       "\t<tr><th scope=row>Output.rep4</th><td>Output</td></tr>\n",
       "</tbody>\n",
       "</table>\n"
      ],
      "text/latex": [
       "A data.frame: 10 × 1\n",
       "\\begin{tabular}{r|l}\n",
       "  & condition\\\\\n",
       "  & <chr>\\\\\n",
       "\\hline\n",
       "\tInput.rep1 & Input \\\\\n",
       "\tInput.rep2 & Input \\\\\n",
       "\tInput.rep3 & Input \\\\\n",
       "\tInput.rep4 & Input \\\\\n",
       "\tInput.rep5 & Input \\\\\n",
       "\tInput.rep6 & Input \\\\\n",
       "\tOutput.rep1 & Output\\\\\n",
       "\tOutput.rep2 & Output\\\\\n",
       "\tOutput.rep3 & Output\\\\\n",
       "\tOutput.rep4 & Output\\\\\n",
       "\\end{tabular}\n"
      ],
      "text/markdown": [
       "\n",
       "A data.frame: 10 × 1\n",
       "\n",
       "| <!--/--> | condition &lt;chr&gt; |\n",
       "|---|---|\n",
       "| Input.rep1 | Input  |\n",
       "| Input.rep2 | Input  |\n",
       "| Input.rep3 | Input  |\n",
       "| Input.rep4 | Input  |\n",
       "| Input.rep5 | Input  |\n",
       "| Input.rep6 | Input  |\n",
       "| Output.rep1 | Output |\n",
       "| Output.rep2 | Output |\n",
       "| Output.rep3 | Output |\n",
       "| Output.rep4 | Output |\n",
       "\n"
      ],
      "text/plain": [
       "            condition\n",
       "Input.rep1  Input    \n",
       "Input.rep2  Input    \n",
       "Input.rep3  Input    \n",
       "Input.rep4  Input    \n",
       "Input.rep5  Input    \n",
       "Input.rep6  Input    \n",
       "Output.rep1 Output   \n",
       "Output.rep2 Output   \n",
       "Output.rep3 Output   \n",
       "Output.rep4 Output   "
      ]
     },
     "metadata": {},
     "output_type": "display_data"
    }
   ],
   "source": [
    "dat_col"
   ]
  },
  {
   "cell_type": "code",
   "execution_count": 6,
   "metadata": {},
   "outputs": [
    {
     "name": "stdout",
     "output_type": "stream",
     "text": [
      "[1] TRUE\n",
      "[1] TRUE\n"
     ]
    }
   ],
   "source": [
    "print(all(rownames(dat_col) %in% colnames(dat_cnt)))\n",
    "print(all(rownames(dat_col) ==   colnames(dat_cnt)))"
   ]
  },
  {
   "cell_type": "markdown",
   "metadata": {},
   "source": [
    "## Setup DESeq2"
   ]
  },
  {
   "cell_type": "code",
   "execution_count": 7,
   "metadata": {},
   "outputs": [
    {
     "name": "stderr",
     "output_type": "stream",
     "text": [
      "converting counts to integer mode\n",
      "\n",
      "Warning message in DESeqDataSet(se, design = design, ignoreRank):\n",
      "“some variables in design formula are characters, converting to factors”\n"
     ]
    }
   ],
   "source": [
    "dds = DESeqDataSetFromMatrix(\n",
    "    countData = dat_cnt, \n",
    "    colData   = dat_col, \n",
    "    design    = ~condition)"
   ]
  },
  {
   "cell_type": "markdown",
   "metadata": {},
   "source": [
    "**Pre-filtering**"
   ]
  },
  {
   "cell_type": "code",
   "execution_count": 8,
   "metadata": {},
   "outputs": [
    {
     "name": "stdout",
     "output_type": "stream",
     "text": [
      "Before filter: 246852 \n",
      "After  filter: 246850 \n"
     ]
    }
   ],
   "source": [
    "### remove the peaks which have < 10 reads\n",
    "cat(\"Before filter:\", nrow(dds), \"\\n\")\n",
    "dds = dds[rowSums(counts(dds)) >= 10,]\n",
    "cat(\"After  filter:\", nrow(dds), \"\\n\")\n",
    "\n",
    "### set control condition as reference\n",
    "dds$condition <- relevel(dds$condition, ref = \"Input\")"
   ]
  },
  {
   "cell_type": "markdown",
   "metadata": {},
   "source": [
    "## Run DESeq2"
   ]
  },
  {
   "cell_type": "code",
   "execution_count": 9,
   "metadata": {},
   "outputs": [
    {
     "name": "stderr",
     "output_type": "stream",
     "text": [
      "estimating size factors\n",
      "\n",
      "estimating dispersions\n",
      "\n",
      "gene-wise dispersion estimates\n",
      "\n",
      "mean-dispersion relationship\n",
      "\n",
      "final dispersion estimates\n",
      "\n",
      "fitting model and testing\n",
      "\n"
     ]
    }
   ],
   "source": [
    "dds = DESeq(dds)"
   ]
  },
  {
   "cell_type": "markdown",
   "metadata": {},
   "source": [
    "## Get results"
   ]
  },
  {
   "cell_type": "code",
   "execution_count": 10,
   "metadata": {},
   "outputs": [
    {
     "data": {
      "text/html": [
       "<style>\n",
       ".list-inline {list-style: none; margin:0; padding: 0}\n",
       ".list-inline>li {display: inline-block}\n",
       ".list-inline>li:not(:last-child)::after {content: \"\\00b7\"; padding: 0 .5ex}\n",
       "</style>\n",
       "<ol class=list-inline><li>'Intercept'</li><li>'condition_Output_vs_Input'</li></ol>\n"
      ],
      "text/latex": [
       "\\begin{enumerate*}\n",
       "\\item 'Intercept'\n",
       "\\item 'condition\\_Output\\_vs\\_Input'\n",
       "\\end{enumerate*}\n"
      ],
      "text/markdown": [
       "1. 'Intercept'\n",
       "2. 'condition_Output_vs_Input'\n",
       "\n",
       "\n"
      ],
      "text/plain": [
       "[1] \"Intercept\"                 \"condition_Output_vs_Input\""
      ]
     },
     "metadata": {},
     "output_type": "display_data"
    }
   ],
   "source": [
    "resultsNames(dds)"
   ]
  },
  {
   "cell_type": "code",
   "execution_count": 11,
   "metadata": {},
   "outputs": [
    {
     "data": {
      "text/html": [
       "<table class=\"dataframe\">\n",
       "<caption>A data.frame: 6 × 7</caption>\n",
       "<thead>\n",
       "\t<tr><th></th><th scope=col>Peak</th><th scope=col>baseMean</th><th scope=col>log2FoldChange</th><th scope=col>lfcSE</th><th scope=col>stat</th><th scope=col>pvalue</th><th scope=col>padj</th></tr>\n",
       "\t<tr><th></th><th scope=col>&lt;chr&gt;</th><th scope=col>&lt;dbl&gt;</th><th scope=col>&lt;dbl&gt;</th><th scope=col>&lt;dbl&gt;</th><th scope=col>&lt;dbl&gt;</th><th scope=col>&lt;dbl&gt;</th><th scope=col>&lt;dbl&gt;</th></tr>\n",
       "</thead>\n",
       "<tbody>\n",
       "\t<tr><th scope=row>1</th><td>chr1:100006256-100006880</td><td> 74.39238</td><td>-0.01311792</td><td>0.15512423</td><td>-0.08456397</td><td>9.326080e-01</td><td>0.9510236543</td></tr>\n",
       "\t<tr><th scope=row>2</th><td>chr1:100010437-100010915</td><td> 48.25931</td><td>-0.80687947</td><td>0.22174651</td><td>-3.63874709</td><td>2.739677e-04</td><td>0.0008947519</td></tr>\n",
       "\t<tr><th scope=row>3</th><td>chr1:10002087-10003910  </td><td>224.35927</td><td>-0.34892859</td><td>0.09743886</td><td>-3.58100041</td><td>3.422811e-04</td><td>0.0010926173</td></tr>\n",
       "\t<tr><th scope=row>4</th><td>chr1:100021298-100021629</td><td> 38.13434</td><td>-1.03799571</td><td>0.25401013</td><td>-4.08643436</td><td>4.380534e-05</td><td>0.0001707736</td></tr>\n",
       "\t<tr><th scope=row>5</th><td>chr1:100023727-100023976</td><td> 32.62049</td><td>-0.19100207</td><td>0.25625467</td><td>-0.74536036</td><td>4.560539e-01</td><td>0.5497617125</td></tr>\n",
       "\t<tr><th scope=row>6</th><td>chr1:100027983-100029702</td><td>290.98442</td><td>-0.18001582</td><td>0.09610434</td><td>-1.87312902</td><td>6.105057e-02</td><td>0.1032752224</td></tr>\n",
       "</tbody>\n",
       "</table>\n"
      ],
      "text/latex": [
       "A data.frame: 6 × 7\n",
       "\\begin{tabular}{r|lllllll}\n",
       "  & Peak & baseMean & log2FoldChange & lfcSE & stat & pvalue & padj\\\\\n",
       "  & <chr> & <dbl> & <dbl> & <dbl> & <dbl> & <dbl> & <dbl>\\\\\n",
       "\\hline\n",
       "\t1 & chr1:100006256-100006880 &  74.39238 & -0.01311792 & 0.15512423 & -0.08456397 & 9.326080e-01 & 0.9510236543\\\\\n",
       "\t2 & chr1:100010437-100010915 &  48.25931 & -0.80687947 & 0.22174651 & -3.63874709 & 2.739677e-04 & 0.0008947519\\\\\n",
       "\t3 & chr1:10002087-10003910   & 224.35927 & -0.34892859 & 0.09743886 & -3.58100041 & 3.422811e-04 & 0.0010926173\\\\\n",
       "\t4 & chr1:100021298-100021629 &  38.13434 & -1.03799571 & 0.25401013 & -4.08643436 & 4.380534e-05 & 0.0001707736\\\\\n",
       "\t5 & chr1:100023727-100023976 &  32.62049 & -0.19100207 & 0.25625467 & -0.74536036 & 4.560539e-01 & 0.5497617125\\\\\n",
       "\t6 & chr1:100027983-100029702 & 290.98442 & -0.18001582 & 0.09610434 & -1.87312902 & 6.105057e-02 & 0.1032752224\\\\\n",
       "\\end{tabular}\n"
      ],
      "text/markdown": [
       "\n",
       "A data.frame: 6 × 7\n",
       "\n",
       "| <!--/--> | Peak &lt;chr&gt; | baseMean &lt;dbl&gt; | log2FoldChange &lt;dbl&gt; | lfcSE &lt;dbl&gt; | stat &lt;dbl&gt; | pvalue &lt;dbl&gt; | padj &lt;dbl&gt; |\n",
       "|---|---|---|---|---|---|---|---|\n",
       "| 1 | chr1:100006256-100006880 |  74.39238 | -0.01311792 | 0.15512423 | -0.08456397 | 9.326080e-01 | 0.9510236543 |\n",
       "| 2 | chr1:100010437-100010915 |  48.25931 | -0.80687947 | 0.22174651 | -3.63874709 | 2.739677e-04 | 0.0008947519 |\n",
       "| 3 | chr1:10002087-10003910   | 224.35927 | -0.34892859 | 0.09743886 | -3.58100041 | 3.422811e-04 | 0.0010926173 |\n",
       "| 4 | chr1:100021298-100021629 |  38.13434 | -1.03799571 | 0.25401013 | -4.08643436 | 4.380534e-05 | 0.0001707736 |\n",
       "| 5 | chr1:100023727-100023976 |  32.62049 | -0.19100207 | 0.25625467 | -0.74536036 | 4.560539e-01 | 0.5497617125 |\n",
       "| 6 | chr1:100027983-100029702 | 290.98442 | -0.18001582 | 0.09610434 | -1.87312902 | 6.105057e-02 | 0.1032752224 |\n",
       "\n"
      ],
      "text/plain": [
       "  Peak                     baseMean  log2FoldChange lfcSE      stat       \n",
       "1 chr1:100006256-100006880  74.39238 -0.01311792    0.15512423 -0.08456397\n",
       "2 chr1:100010437-100010915  48.25931 -0.80687947    0.22174651 -3.63874709\n",
       "3 chr1:10002087-10003910   224.35927 -0.34892859    0.09743886 -3.58100041\n",
       "4 chr1:100021298-100021629  38.13434 -1.03799571    0.25401013 -4.08643436\n",
       "5 chr1:100023727-100023976  32.62049 -0.19100207    0.25625467 -0.74536036\n",
       "6 chr1:100027983-100029702 290.98442 -0.18001582    0.09610434 -1.87312902\n",
       "  pvalue       padj        \n",
       "1 9.326080e-01 0.9510236543\n",
       "2 2.739677e-04 0.0008947519\n",
       "3 3.422811e-04 0.0010926173\n",
       "4 4.380534e-05 0.0001707736\n",
       "5 4.560539e-01 0.5497617125\n",
       "6 6.105057e-02 0.1032752224"
      ]
     },
     "metadata": {},
     "output_type": "display_data"
    }
   ],
   "source": [
    "res = results(dds)\n",
    "res = as.data.frame(res) %>% rownames_to_column(var = \"Peak\")\n",
    "head(res)"
   ]
  },
  {
   "cell_type": "markdown",
   "metadata": {},
   "source": [
    "## Save results"
   ]
  },
  {
   "cell_type": "code",
   "execution_count": 12,
   "metadata": {},
   "outputs": [
    {
     "name": "stdout",
     "output_type": "stream",
     "text": [
      "[1] \"/data/reddylab/Kuei/out/proj_combeffect_encode_fcc/results/KS91_K562_ASTARRseq/coverage_astarrseq_peak_macs_input/summary/result.Log2FC.raw.deseq.WGS.tsv\"\n"
     ]
    }
   ],
   "source": [
    "fdiry = file.path(FD_RES, \"results\", PREFIX, FOLDER, \"summary\")\n",
    "fname = \"result.Log2FC.raw.deseq.WGS.tsv\"\n",
    "fpath = file.path(fdiry, fname)\n",
    "print(fpath)\n",
    "\n",
    "write_tsv(res, fpath)"
   ]
  },
  {
   "cell_type": "code",
   "execution_count": null,
   "metadata": {},
   "outputs": [],
   "source": []
  }
 ],
 "metadata": {
  "kernelspec": {
   "display_name": "R",
   "language": "R",
   "name": "ir"
  },
  "language_info": {
   "codemirror_mode": "r",
   "file_extension": ".r",
   "mimetype": "text/x-r-source",
   "name": "R",
   "pygments_lexer": "r",
   "version": "4.3.1"
  }
 },
 "nbformat": 4,
 "nbformat_minor": 4
}
