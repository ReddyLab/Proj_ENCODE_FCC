{
 "cells": [
  {
   "cell_type": "markdown",
   "id": "6ca39d96-2017-4b40-90da-5e587f4070b7",
   "metadata": {},
   "source": [
    "**Set environment**"
   ]
  },
  {
   "cell_type": "code",
   "execution_count": 1,
   "id": "9d883341-5f06-48b6-a33f-339ecfb3a22b",
   "metadata": {},
   "outputs": [
    {
     "name": "stdout",
     "output_type": "stream",
     "text": [
      "You are in Singularity: singularity_proj_encode_fcc \n",
      "BASE DIRECTORY (FD_BASE): /data/reddylab/Kuei \n",
      "WORK DIRECTORY (FD_WORK): /data/reddylab/Kuei/out \n",
      "CODE DIRECTORY (FD_CODE): /data/reddylab/Kuei/code \n",
      "PATH OF PROJECT (FD_PRJ): /data/reddylab/Kuei/code/Proj_CombEffect_ENCODE_FCC \n",
      "PATH OF RESULTS (FD_RES): /data/reddylab/Kuei/out/proj_combeffect_encode_fcc \n",
      "PATH OF LOG     (FD_LOG): /data/reddylab/Kuei/out/proj_combeffect_encode_fcc/log \n"
     ]
    }
   ],
   "source": [
    "suppressMessages(suppressWarnings(source(\"../config/config_sing.R\")))\n",
    "show_env()"
   ]
  },
  {
   "cell_type": "markdown",
   "id": "6f4768ab-724d-4706-983b-25ea0a572fdc",
   "metadata": {},
   "source": [
    "## Import data"
   ]
  },
  {
   "cell_type": "code",
   "execution_count": null,
   "id": "771a413d-b2bb-4a3c-81bd-f0e6f8a16401",
   "metadata": {},
   "outputs": [],
   "source": [
    "TXT_FOLDR = \"coverage_ccres_v4\""
   ]
  },
  {
   "cell_type": "code",
   "execution_count": 34,
   "id": "c887537d-9cfa-4447-aabd-f9ac998ec7a3",
   "metadata": {},
   "outputs": [
    {
     "name": "stdout",
     "output_type": "stream",
     "text": [
      "[1] TRUE\n",
      "[1] 23488540       11\n"
     ]
    },
    {
     "data": {
      "text/html": [
       "<table class=\"dataframe\">\n",
       "<caption>A tibble: 6 × 11</caption>\n",
       "<thead>\n",
       "\t<tr><th scope=col>Chrom</th><th scope=col>Start</th><th scope=col>End</th><th scope=col>Region</th><th scope=col>Index</th><th scope=col>Label</th><th scope=col>Sample</th><th scope=col>Group</th><th scope=col>Count</th><th scope=col>CPM</th><th scope=col>Assay_Type</th></tr>\n",
       "\t<tr><th scope=col>&lt;chr&gt;</th><th scope=col>&lt;dbl&gt;</th><th scope=col>&lt;dbl&gt;</th><th scope=col>&lt;chr&gt;</th><th scope=col>&lt;chr&gt;</th><th scope=col>&lt;chr&gt;</th><th scope=col>&lt;chr&gt;</th><th scope=col>&lt;chr&gt;</th><th scope=col>&lt;dbl&gt;</th><th scope=col>&lt;dbl&gt;</th><th scope=col>&lt;chr&gt;</th></tr>\n",
       "</thead>\n",
       "<tbody>\n",
       "\t<tr><td>chr1</td><td>10033</td><td>10250</td><td>chr1:10033-10250</td><td>EH38E2776516</td><td>Low-DNase</td><td>Input.rep1</td><td>Input</td><td>118</td><td>0.3384046</td><td>ASTARR</td></tr>\n",
       "\t<tr><td>chr1</td><td>10385</td><td>10713</td><td>chr1:10385-10713</td><td>EH38E2776517</td><td>Low-DNase</td><td>Input.rep1</td><td>Input</td><td> 34</td><td>0.0975064</td><td>ASTARR</td></tr>\n",
       "\t<tr><td>chr1</td><td>16097</td><td>16381</td><td>chr1:16097-16381</td><td>EH38E3951272</td><td>Low-DNase</td><td>Input.rep1</td><td>Input</td><td>119</td><td>0.3412724</td><td>ASTARR</td></tr>\n",
       "\t<tr><td>chr1</td><td>17343</td><td>17642</td><td>chr1:17343-17642</td><td>EH38E3951273</td><td>Low-DNase</td><td>Input.rep1</td><td>Input</td><td>259</td><td>0.7427693</td><td>ASTARR</td></tr>\n",
       "\t<tr><td>chr1</td><td>29320</td><td>29517</td><td>chr1:29320-29517</td><td>EH38E3951274</td><td>Low-DNase</td><td>Input.rep1</td><td>Input</td><td>159</td><td>0.4559858</td><td>ASTARR</td></tr>\n",
       "\t<tr><td>chr1</td><td>66350</td><td>66509</td><td>chr1:66350-66509</td><td>EH38E3951275</td><td>Low-DNase</td><td>Input.rep1</td><td>Input</td><td>  0</td><td>0.0000000</td><td>ASTARR</td></tr>\n",
       "</tbody>\n",
       "</table>\n"
      ],
      "text/latex": [
       "A tibble: 6 × 11\n",
       "\\begin{tabular}{lllllllllll}\n",
       " Chrom & Start & End & Region & Index & Label & Sample & Group & Count & CPM & Assay\\_Type\\\\\n",
       " <chr> & <dbl> & <dbl> & <chr> & <chr> & <chr> & <chr> & <chr> & <dbl> & <dbl> & <chr>\\\\\n",
       "\\hline\n",
       "\t chr1 & 10033 & 10250 & chr1:10033-10250 & EH38E2776516 & Low-DNase & Input.rep1 & Input & 118 & 0.3384046 & ASTARR\\\\\n",
       "\t chr1 & 10385 & 10713 & chr1:10385-10713 & EH38E2776517 & Low-DNase & Input.rep1 & Input &  34 & 0.0975064 & ASTARR\\\\\n",
       "\t chr1 & 16097 & 16381 & chr1:16097-16381 & EH38E3951272 & Low-DNase & Input.rep1 & Input & 119 & 0.3412724 & ASTARR\\\\\n",
       "\t chr1 & 17343 & 17642 & chr1:17343-17642 & EH38E3951273 & Low-DNase & Input.rep1 & Input & 259 & 0.7427693 & ASTARR\\\\\n",
       "\t chr1 & 29320 & 29517 & chr1:29320-29517 & EH38E3951274 & Low-DNase & Input.rep1 & Input & 159 & 0.4559858 & ASTARR\\\\\n",
       "\t chr1 & 66350 & 66509 & chr1:66350-66509 & EH38E3951275 & Low-DNase & Input.rep1 & Input &   0 & 0.0000000 & ASTARR\\\\\n",
       "\\end{tabular}\n"
      ],
      "text/markdown": [
       "\n",
       "A tibble: 6 × 11\n",
       "\n",
       "| Chrom &lt;chr&gt; | Start &lt;dbl&gt; | End &lt;dbl&gt; | Region &lt;chr&gt; | Index &lt;chr&gt; | Label &lt;chr&gt; | Sample &lt;chr&gt; | Group &lt;chr&gt; | Count &lt;dbl&gt; | CPM &lt;dbl&gt; | Assay_Type &lt;chr&gt; |\n",
       "|---|---|---|---|---|---|---|---|---|---|---|\n",
       "| chr1 | 10033 | 10250 | chr1:10033-10250 | EH38E2776516 | Low-DNase | Input.rep1 | Input | 118 | 0.3384046 | ASTARR |\n",
       "| chr1 | 10385 | 10713 | chr1:10385-10713 | EH38E2776517 | Low-DNase | Input.rep1 | Input |  34 | 0.0975064 | ASTARR |\n",
       "| chr1 | 16097 | 16381 | chr1:16097-16381 | EH38E3951272 | Low-DNase | Input.rep1 | Input | 119 | 0.3412724 | ASTARR |\n",
       "| chr1 | 17343 | 17642 | chr1:17343-17642 | EH38E3951273 | Low-DNase | Input.rep1 | Input | 259 | 0.7427693 | ASTARR |\n",
       "| chr1 | 29320 | 29517 | chr1:29320-29517 | EH38E3951274 | Low-DNase | Input.rep1 | Input | 159 | 0.4559858 | ASTARR |\n",
       "| chr1 | 66350 | 66509 | chr1:66350-66509 | EH38E3951275 | Low-DNase | Input.rep1 | Input |   0 | 0.0000000 | ASTARR |\n",
       "\n"
      ],
      "text/plain": [
       "  Chrom Start End   Region           Index        Label     Sample     Group\n",
       "1 chr1  10033 10250 chr1:10033-10250 EH38E2776516 Low-DNase Input.rep1 Input\n",
       "2 chr1  10385 10713 chr1:10385-10713 EH38E2776517 Low-DNase Input.rep1 Input\n",
       "3 chr1  16097 16381 chr1:16097-16381 EH38E3951272 Low-DNase Input.rep1 Input\n",
       "4 chr1  17343 17642 chr1:17343-17642 EH38E3951273 Low-DNase Input.rep1 Input\n",
       "5 chr1  29320 29517 chr1:29320-29517 EH38E3951274 Low-DNase Input.rep1 Input\n",
       "6 chr1  66350 66509 chr1:66350-66509 EH38E3951275 Low-DNase Input.rep1 Input\n",
       "  Count CPM       Assay_Type\n",
       "1 118   0.3384046 ASTARR    \n",
       "2  34   0.0975064 ASTARR    \n",
       "3 119   0.3412724 ASTARR    \n",
       "4 259   0.7427693 ASTARR    \n",
       "5 159   0.4559858 ASTARR    \n",
       "6   0   0.0000000 ASTARR    "
      ]
     },
     "metadata": {},
     "output_type": "display_data"
    }
   ],
   "source": [
    "txt_assay = \"KS91_K562_ASTARRseq\"\n",
    "txt_fdiry = file.path(FD_RES, \"results\", txt_assay, TXT_FOLDR, \"summary\")\n",
    "txt_fname = \"coverage.count.cpm.tsv\"\n",
    "txt_fpath = file.path(txt_fdiry, txt_fname)\n",
    "print(file.exists(txt_fpath))\n",
    "\n",
    "dat = read_tsv(txt_fpath, show_col_types = FALSE)\n",
    "dat = dat %>% dplyr::mutate(Assay_Type = \"ASTARR\")\n",
    "\n",
    "dat_coverage_ccres_astarr = dat\n",
    "print(dim(dat))\n",
    "head(dat)"
   ]
  },
  {
   "cell_type": "code",
   "execution_count": 35,
   "id": "512f8dab-89e7-4c96-b227-2407b27d1c30",
   "metadata": {},
   "outputs": [
    {
     "name": "stdout",
     "output_type": "stream",
     "text": [
      "[1] TRUE\n",
      "[1] 16441978       11\n"
     ]
    },
    {
     "data": {
      "text/html": [
       "<table class=\"dataframe\">\n",
       "<caption>A tibble: 6 × 11</caption>\n",
       "<thead>\n",
       "\t<tr><th scope=col>Chrom</th><th scope=col>Start</th><th scope=col>End</th><th scope=col>Region</th><th scope=col>Index</th><th scope=col>Label</th><th scope=col>Sample</th><th scope=col>Group</th><th scope=col>Count</th><th scope=col>CPM</th><th scope=col>Assay_Type</th></tr>\n",
       "\t<tr><th scope=col>&lt;chr&gt;</th><th scope=col>&lt;dbl&gt;</th><th scope=col>&lt;dbl&gt;</th><th scope=col>&lt;chr&gt;</th><th scope=col>&lt;chr&gt;</th><th scope=col>&lt;chr&gt;</th><th scope=col>&lt;chr&gt;</th><th scope=col>&lt;chr&gt;</th><th scope=col>&lt;dbl&gt;</th><th scope=col>&lt;dbl&gt;</th><th scope=col>&lt;chr&gt;</th></tr>\n",
       "</thead>\n",
       "<tbody>\n",
       "\t<tr><td>chr1</td><td>10033</td><td>10250</td><td>chr1:10033-10250</td><td>EH38E2776516</td><td>Low-DNase</td><td>Input.rep1</td><td>Input</td><td>0</td><td>0.00000000</td><td>WSTARR</td></tr>\n",
       "\t<tr><td>chr1</td><td>10385</td><td>10713</td><td>chr1:10385-10713</td><td>EH38E2776517</td><td>Low-DNase</td><td>Input.rep1</td><td>Input</td><td>1</td><td>0.03716233</td><td>WSTARR</td></tr>\n",
       "\t<tr><td>chr1</td><td>16097</td><td>16381</td><td>chr1:16097-16381</td><td>EH38E3951272</td><td>Low-DNase</td><td>Input.rep1</td><td>Input</td><td>0</td><td>0.00000000</td><td>WSTARR</td></tr>\n",
       "\t<tr><td>chr1</td><td>17343</td><td>17642</td><td>chr1:17343-17642</td><td>EH38E3951273</td><td>Low-DNase</td><td>Input.rep1</td><td>Input</td><td>5</td><td>0.18581165</td><td>WSTARR</td></tr>\n",
       "\t<tr><td>chr1</td><td>29320</td><td>29517</td><td>chr1:29320-29517</td><td>EH38E3951274</td><td>Low-DNase</td><td>Input.rep1</td><td>Input</td><td>0</td><td>0.00000000</td><td>WSTARR</td></tr>\n",
       "\t<tr><td>chr1</td><td>66350</td><td>66509</td><td>chr1:66350-66509</td><td>EH38E3951275</td><td>Low-DNase</td><td>Input.rep1</td><td>Input</td><td>0</td><td>0.00000000</td><td>WSTARR</td></tr>\n",
       "</tbody>\n",
       "</table>\n"
      ],
      "text/latex": [
       "A tibble: 6 × 11\n",
       "\\begin{tabular}{lllllllllll}\n",
       " Chrom & Start & End & Region & Index & Label & Sample & Group & Count & CPM & Assay\\_Type\\\\\n",
       " <chr> & <dbl> & <dbl> & <chr> & <chr> & <chr> & <chr> & <chr> & <dbl> & <dbl> & <chr>\\\\\n",
       "\\hline\n",
       "\t chr1 & 10033 & 10250 & chr1:10033-10250 & EH38E2776516 & Low-DNase & Input.rep1 & Input & 0 & 0.00000000 & WSTARR\\\\\n",
       "\t chr1 & 10385 & 10713 & chr1:10385-10713 & EH38E2776517 & Low-DNase & Input.rep1 & Input & 1 & 0.03716233 & WSTARR\\\\\n",
       "\t chr1 & 16097 & 16381 & chr1:16097-16381 & EH38E3951272 & Low-DNase & Input.rep1 & Input & 0 & 0.00000000 & WSTARR\\\\\n",
       "\t chr1 & 17343 & 17642 & chr1:17343-17642 & EH38E3951273 & Low-DNase & Input.rep1 & Input & 5 & 0.18581165 & WSTARR\\\\\n",
       "\t chr1 & 29320 & 29517 & chr1:29320-29517 & EH38E3951274 & Low-DNase & Input.rep1 & Input & 0 & 0.00000000 & WSTARR\\\\\n",
       "\t chr1 & 66350 & 66509 & chr1:66350-66509 & EH38E3951275 & Low-DNase & Input.rep1 & Input & 0 & 0.00000000 & WSTARR\\\\\n",
       "\\end{tabular}\n"
      ],
      "text/markdown": [
       "\n",
       "A tibble: 6 × 11\n",
       "\n",
       "| Chrom &lt;chr&gt; | Start &lt;dbl&gt; | End &lt;dbl&gt; | Region &lt;chr&gt; | Index &lt;chr&gt; | Label &lt;chr&gt; | Sample &lt;chr&gt; | Group &lt;chr&gt; | Count &lt;dbl&gt; | CPM &lt;dbl&gt; | Assay_Type &lt;chr&gt; |\n",
       "|---|---|---|---|---|---|---|---|---|---|---|\n",
       "| chr1 | 10033 | 10250 | chr1:10033-10250 | EH38E2776516 | Low-DNase | Input.rep1 | Input | 0 | 0.00000000 | WSTARR |\n",
       "| chr1 | 10385 | 10713 | chr1:10385-10713 | EH38E2776517 | Low-DNase | Input.rep1 | Input | 1 | 0.03716233 | WSTARR |\n",
       "| chr1 | 16097 | 16381 | chr1:16097-16381 | EH38E3951272 | Low-DNase | Input.rep1 | Input | 0 | 0.00000000 | WSTARR |\n",
       "| chr1 | 17343 | 17642 | chr1:17343-17642 | EH38E3951273 | Low-DNase | Input.rep1 | Input | 5 | 0.18581165 | WSTARR |\n",
       "| chr1 | 29320 | 29517 | chr1:29320-29517 | EH38E3951274 | Low-DNase | Input.rep1 | Input | 0 | 0.00000000 | WSTARR |\n",
       "| chr1 | 66350 | 66509 | chr1:66350-66509 | EH38E3951275 | Low-DNase | Input.rep1 | Input | 0 | 0.00000000 | WSTARR |\n",
       "\n"
      ],
      "text/plain": [
       "  Chrom Start End   Region           Index        Label     Sample     Group\n",
       "1 chr1  10033 10250 chr1:10033-10250 EH38E2776516 Low-DNase Input.rep1 Input\n",
       "2 chr1  10385 10713 chr1:10385-10713 EH38E2776517 Low-DNase Input.rep1 Input\n",
       "3 chr1  16097 16381 chr1:16097-16381 EH38E3951272 Low-DNase Input.rep1 Input\n",
       "4 chr1  17343 17642 chr1:17343-17642 EH38E3951273 Low-DNase Input.rep1 Input\n",
       "5 chr1  29320 29517 chr1:29320-29517 EH38E3951274 Low-DNase Input.rep1 Input\n",
       "6 chr1  66350 66509 chr1:66350-66509 EH38E3951275 Low-DNase Input.rep1 Input\n",
       "  Count CPM        Assay_Type\n",
       "1 0     0.00000000 WSTARR    \n",
       "2 1     0.03716233 WSTARR    \n",
       "3 0     0.00000000 WSTARR    \n",
       "4 5     0.18581165 WSTARR    \n",
       "5 0     0.00000000 WSTARR    \n",
       "6 0     0.00000000 WSTARR    "
      ]
     },
     "metadata": {},
     "output_type": "display_data"
    }
   ],
   "source": [
    "txt_assay = \"A001_K562_WSTARRseq\"\n",
    "txt_fdiry = file.path(FD_RES, \"results\", txt_assay, TXT_FOLDR, \"summary\")\n",
    "txt_fname = \"coverage.count.cpm.tsv\"\n",
    "txt_fpath = file.path(txt_fdiry, txt_fname)\n",
    "print(file.exists(txt_fpath))\n",
    "\n",
    "dat = read_tsv(txt_fpath, show_col_types = FALSE)\n",
    "dat = dat %>% dplyr::mutate(Assay_Type = \"WSTARR\")\n",
    "\n",
    "dat_coverage_ccres_wstarr = dat\n",
    "print(dim(dat))\n",
    "head(dat)"
   ]
  },
  {
   "cell_type": "code",
   "execution_count": null,
   "id": "e2e04f6f-2fc6-4ce3-948a-1117628be39c",
   "metadata": {},
   "outputs": [],
   "source": []
  },
  {
   "cell_type": "code",
   "execution_count": null,
   "id": "26dd287f-c316-4ace-b06d-af1d56f4dd2e",
   "metadata": {},
   "outputs": [],
   "source": []
  },
  {
   "cell_type": "code",
   "execution_count": null,
   "id": "d15e5240-cdc8-4873-85d2-a87e3d9188c3",
   "metadata": {},
   "outputs": [],
   "source": []
  },
  {
   "cell_type": "code",
   "execution_count": 28,
   "id": "b51061da-f4fb-42e6-9c98-5c925dab6d80",
   "metadata": {},
   "outputs": [
    {
     "data": {
      "image/png": "[encoded data removed]",
      "text/plain": [
       "plot without title"
      ]
     },
     "metadata": {
      "image/png": {
       "height": 300,
       "width": 480
      }
     },
     "output_type": "display_data"
    }
   ],
   "source": [
    "dat = dat_coverage_ccres_astarr\n",
    "dat = dat %>% dplyr::filter(Count > 0, Count < 500)\n",
    "\n",
    "gpt = ggplot(dat, aes(x=Count)) +\n",
    "    geom_histogram(bins = 100) +\n",
    "    theme_cowplot()\n",
    "\n",
    "options(repr.plot.width = 8, repr.plot.height = 5)\n",
    "print(gpt)"
   ]
  },
  {
   "cell_type": "code",
   "execution_count": 29,
   "id": "7d5d43ce-e0cb-4fc3-95cb-264147cc6a07",
   "metadata": {},
   "outputs": [
    {
     "data": {
      "image/png": "[encoded data removed]",
      "text/plain": [
       "plot without title"
      ]
     },
     "metadata": {
      "image/png": {
       "height": 300,
       "width": 480
      }
     },
     "output_type": "display_data"
    }
   ],
   "source": [
    "dat = dat_coverage_ccres_astarr\n",
    "dat = dat %>% dplyr::filter(Count > 10, Count < 500)\n",
    "\n",
    "gpt = ggplot(dat, aes(x=Count)) +\n",
    "    geom_histogram(bins = 100) +\n",
    "    theme_cowplot()\n",
    "\n",
    "options(repr.plot.width = 8, repr.plot.height = 5)\n",
    "print(gpt)"
   ]
  },
  {
   "cell_type": "code",
   "execution_count": 30,
   "id": "9caadccb-9de3-4fae-811c-41a1f3627ce5",
   "metadata": {},
   "outputs": [
    {
     "data": {
      "image/png": "[encoded data removed]",
      "text/plain": [
       "plot without title"
      ]
     },
     "metadata": {
      "image/png": {
       "height": 300,
       "width": 480
      }
     },
     "output_type": "display_data"
    }
   ],
   "source": [
    "dat = dat_coverage_ccres_wstarr\n",
    "dat = dat %>% dplyr::filter(Count > 0, Count < 500)\n",
    "\n",
    "gpt = ggplot(dat, aes(x=Count)) +\n",
    "    geom_histogram(bins = 100) +\n",
    "    theme_cowplot()\n",
    "\n",
    "options(repr.plot.width = 8, repr.plot.height = 5)\n",
    "print(gpt)"
   ]
  },
  {
   "cell_type": "code",
   "execution_count": 31,
   "id": "8e28f6e8-3203-481f-a91c-47865c0cb673",
   "metadata": {},
   "outputs": [
    {
     "data": {
      "image/png": "[encoded data removed]",
      "text/plain": [
       "plot without title"
      ]
     },
     "metadata": {
      "image/png": {
       "height": 300,
       "width": 480
      }
     },
     "output_type": "display_data"
    }
   ],
   "source": [
    "dat = dat_coverage_ccres_wstarr\n",
    "dat = dat %>% dplyr::filter(Count > 10, Count < 500)\n",
    "\n",
    "gpt = ggplot(dat, aes(x=Count)) +\n",
    "    geom_histogram(bins = 100) +\n",
    "    theme_cowplot()\n",
    "\n",
    "options(repr.plot.width = 8, repr.plot.height = 5)\n",
    "print(gpt)"
   ]
  },
  {
   "cell_type": "code",
   "execution_count": 33,
   "id": "8a251710-79fe-495b-8df8-e42e5c00114f",
   "metadata": {},
   "outputs": [
    {
     "data": {
      "text/html": [
       "<table class=\"dataframe\">\n",
       "<caption>A tibble: 6 × 10</caption>\n",
       "<thead>\n",
       "\t<tr><th scope=col>Chrom</th><th scope=col>Start</th><th scope=col>End</th><th scope=col>Region</th><th scope=col>Index</th><th scope=col>Label</th><th scope=col>Sample</th><th scope=col>Group</th><th scope=col>Count</th><th scope=col>CPM</th></tr>\n",
       "\t<tr><th scope=col>&lt;chr&gt;</th><th scope=col>&lt;dbl&gt;</th><th scope=col>&lt;dbl&gt;</th><th scope=col>&lt;chr&gt;</th><th scope=col>&lt;chr&gt;</th><th scope=col>&lt;chr&gt;</th><th scope=col>&lt;chr&gt;</th><th scope=col>&lt;chr&gt;</th><th scope=col>&lt;dbl&gt;</th><th scope=col>&lt;dbl&gt;</th></tr>\n",
       "</thead>\n",
       "<tbody>\n",
       "\t<tr><td>chr1</td><td>10033</td><td>10250</td><td>chr1:10033-10250</td><td>EH38E2776516</td><td>Low-DNase</td><td>Input.rep1</td><td>Input</td><td>118</td><td>0.3384046</td></tr>\n",
       "\t<tr><td>chr1</td><td>10385</td><td>10713</td><td>chr1:10385-10713</td><td>EH38E2776517</td><td>Low-DNase</td><td>Input.rep1</td><td>Input</td><td> 34</td><td>0.0975064</td></tr>\n",
       "\t<tr><td>chr1</td><td>16097</td><td>16381</td><td>chr1:16097-16381</td><td>EH38E3951272</td><td>Low-DNase</td><td>Input.rep1</td><td>Input</td><td>119</td><td>0.3412724</td></tr>\n",
       "\t<tr><td>chr1</td><td>17343</td><td>17642</td><td>chr1:17343-17642</td><td>EH38E3951273</td><td>Low-DNase</td><td>Input.rep1</td><td>Input</td><td>259</td><td>0.7427693</td></tr>\n",
       "\t<tr><td>chr1</td><td>29320</td><td>29517</td><td>chr1:29320-29517</td><td>EH38E3951274</td><td>Low-DNase</td><td>Input.rep1</td><td>Input</td><td>159</td><td>0.4559858</td></tr>\n",
       "\t<tr><td>chr1</td><td>66350</td><td>66509</td><td>chr1:66350-66509</td><td>EH38E3951275</td><td>Low-DNase</td><td>Input.rep1</td><td>Input</td><td>  0</td><td>0.0000000</td></tr>\n",
       "</tbody>\n",
       "</table>\n"
      ],
      "text/latex": [
       "A tibble: 6 × 10\n",
       "\\begin{tabular}{llllllllll}\n",
       " Chrom & Start & End & Region & Index & Label & Sample & Group & Count & CPM\\\\\n",
       " <chr> & <dbl> & <dbl> & <chr> & <chr> & <chr> & <chr> & <chr> & <dbl> & <dbl>\\\\\n",
       "\\hline\n",
       "\t chr1 & 10033 & 10250 & chr1:10033-10250 & EH38E2776516 & Low-DNase & Input.rep1 & Input & 118 & 0.3384046\\\\\n",
       "\t chr1 & 10385 & 10713 & chr1:10385-10713 & EH38E2776517 & Low-DNase & Input.rep1 & Input &  34 & 0.0975064\\\\\n",
       "\t chr1 & 16097 & 16381 & chr1:16097-16381 & EH38E3951272 & Low-DNase & Input.rep1 & Input & 119 & 0.3412724\\\\\n",
       "\t chr1 & 17343 & 17642 & chr1:17343-17642 & EH38E3951273 & Low-DNase & Input.rep1 & Input & 259 & 0.7427693\\\\\n",
       "\t chr1 & 29320 & 29517 & chr1:29320-29517 & EH38E3951274 & Low-DNase & Input.rep1 & Input & 159 & 0.4559858\\\\\n",
       "\t chr1 & 66350 & 66509 & chr1:66350-66509 & EH38E3951275 & Low-DNase & Input.rep1 & Input &   0 & 0.0000000\\\\\n",
       "\\end{tabular}\n"
      ],
      "text/markdown": [
       "\n",
       "A tibble: 6 × 10\n",
       "\n",
       "| Chrom &lt;chr&gt; | Start &lt;dbl&gt; | End &lt;dbl&gt; | Region &lt;chr&gt; | Index &lt;chr&gt; | Label &lt;chr&gt; | Sample &lt;chr&gt; | Group &lt;chr&gt; | Count &lt;dbl&gt; | CPM &lt;dbl&gt; |\n",
       "|---|---|---|---|---|---|---|---|---|---|\n",
       "| chr1 | 10033 | 10250 | chr1:10033-10250 | EH38E2776516 | Low-DNase | Input.rep1 | Input | 118 | 0.3384046 |\n",
       "| chr1 | 10385 | 10713 | chr1:10385-10713 | EH38E2776517 | Low-DNase | Input.rep1 | Input |  34 | 0.0975064 |\n",
       "| chr1 | 16097 | 16381 | chr1:16097-16381 | EH38E3951272 | Low-DNase | Input.rep1 | Input | 119 | 0.3412724 |\n",
       "| chr1 | 17343 | 17642 | chr1:17343-17642 | EH38E3951273 | Low-DNase | Input.rep1 | Input | 259 | 0.7427693 |\n",
       "| chr1 | 29320 | 29517 | chr1:29320-29517 | EH38E3951274 | Low-DNase | Input.rep1 | Input | 159 | 0.4559858 |\n",
       "| chr1 | 66350 | 66509 | chr1:66350-66509 | EH38E3951275 | Low-DNase | Input.rep1 | Input |   0 | 0.0000000 |\n",
       "\n"
      ],
      "text/plain": [
       "  Chrom Start End   Region           Index        Label     Sample     Group\n",
       "1 chr1  10033 10250 chr1:10033-10250 EH38E2776516 Low-DNase Input.rep1 Input\n",
       "2 chr1  10385 10713 chr1:10385-10713 EH38E2776517 Low-DNase Input.rep1 Input\n",
       "3 chr1  16097 16381 chr1:16097-16381 EH38E3951272 Low-DNase Input.rep1 Input\n",
       "4 chr1  17343 17642 chr1:17343-17642 EH38E3951273 Low-DNase Input.rep1 Input\n",
       "5 chr1  29320 29517 chr1:29320-29517 EH38E3951274 Low-DNase Input.rep1 Input\n",
       "6 chr1  66350 66509 chr1:66350-66509 EH38E3951275 Low-DNase Input.rep1 Input\n",
       "  Count CPM      \n",
       "1 118   0.3384046\n",
       "2  34   0.0975064\n",
       "3 119   0.3412724\n",
       "4 259   0.7427693\n",
       "5 159   0.4559858\n",
       "6   0   0.0000000"
      ]
     },
     "metadata": {},
     "output_type": "display_data"
    }
   ],
   "source": [
    "dat = dat_coverage_ccres_astarr\n",
    "head(dat)"
   ]
  },
  {
   "cell_type": "code",
   "execution_count": 49,
   "id": "3a5afda1-12c5-419d-b373-72b4790ee8cf",
   "metadata": {},
   "outputs": [
    {
     "name": "stdout",
     "output_type": "stream",
     "text": [
      "[1] 16\n"
     ]
    },
    {
     "data": {
      "text/html": [
       "<table class=\"dataframe\">\n",
       "<caption>A tibble: 6 × 5</caption>\n",
       "<thead>\n",
       "\t<tr><th scope=col>Label</th><th scope=col>Assay_Type</th><th scope=col>Count</th><th scope=col>Total</th><th scope=col>Freq</th></tr>\n",
       "\t<tr><th scope=col>&lt;chr&gt;</th><th scope=col>&lt;chr&gt;</th><th scope=col>&lt;int&gt;</th><th scope=col>&lt;int&gt;</th><th scope=col>&lt;dbl&gt;</th></tr>\n",
       "</thead>\n",
       "<tbody>\n",
       "\t<tr><td>CA-CTCF   </td><td>ASTARR</td><td>28268</td><td>2314696</td><td>0.012212403</td></tr>\n",
       "\t<tr><td>CA-CTCF   </td><td>WSTARR</td><td>27886</td><td>2294192</td><td>0.012155042</td></tr>\n",
       "\t<tr><td>CA-H3K4me3</td><td>ASTARR</td><td> 5861</td><td>2314696</td><td>0.002532082</td></tr>\n",
       "\t<tr><td>CA-H3K4me3</td><td>WSTARR</td><td> 5836</td><td>2294192</td><td>0.002543815</td></tr>\n",
       "\t<tr><td>CA-TF     </td><td>ASTARR</td><td>38857</td><td>2314696</td><td>0.016787086</td></tr>\n",
       "\t<tr><td>CA-TF     </td><td>WSTARR</td><td>38619</td><td>2294192</td><td>0.016833378</td></tr>\n",
       "</tbody>\n",
       "</table>\n"
      ],
      "text/latex": [
       "A tibble: 6 × 5\n",
       "\\begin{tabular}{lllll}\n",
       " Label & Assay\\_Type & Count & Total & Freq\\\\\n",
       " <chr> & <chr> & <int> & <int> & <dbl>\\\\\n",
       "\\hline\n",
       "\t CA-CTCF    & ASTARR & 28268 & 2314696 & 0.012212403\\\\\n",
       "\t CA-CTCF    & WSTARR & 27886 & 2294192 & 0.012155042\\\\\n",
       "\t CA-H3K4me3 & ASTARR &  5861 & 2314696 & 0.002532082\\\\\n",
       "\t CA-H3K4me3 & WSTARR &  5836 & 2294192 & 0.002543815\\\\\n",
       "\t CA-TF      & ASTARR & 38857 & 2314696 & 0.016787086\\\\\n",
       "\t CA-TF      & WSTARR & 38619 & 2294192 & 0.016833378\\\\\n",
       "\\end{tabular}\n"
      ],
      "text/markdown": [
       "\n",
       "A tibble: 6 × 5\n",
       "\n",
       "| Label &lt;chr&gt; | Assay_Type &lt;chr&gt; | Count &lt;int&gt; | Total &lt;int&gt; | Freq &lt;dbl&gt; |\n",
       "|---|---|---|---|---|\n",
       "| CA-CTCF    | ASTARR | 28268 | 2314696 | 0.012212403 |\n",
       "| CA-CTCF    | WSTARR | 27886 | 2294192 | 0.012155042 |\n",
       "| CA-H3K4me3 | ASTARR |  5861 | 2314696 | 0.002532082 |\n",
       "| CA-H3K4me3 | WSTARR |  5836 | 2294192 | 0.002543815 |\n",
       "| CA-TF      | ASTARR | 38857 | 2314696 | 0.016787086 |\n",
       "| CA-TF      | WSTARR | 38619 | 2294192 | 0.016833378 |\n",
       "\n"
      ],
      "text/plain": [
       "  Label      Assay_Type Count Total   Freq       \n",
       "1 CA-CTCF    ASTARR     28268 2314696 0.012212403\n",
       "2 CA-CTCF    WSTARR     27886 2294192 0.012155042\n",
       "3 CA-H3K4me3 ASTARR      5861 2314696 0.002532082\n",
       "4 CA-H3K4me3 WSTARR      5836 2294192 0.002543815\n",
       "5 CA-TF      ASTARR     38857 2314696 0.016787086\n",
       "6 CA-TF      WSTARR     38619 2294192 0.016833378"
      ]
     },
     "metadata": {},
     "output_type": "display_data"
    }
   ],
   "source": [
    "dat = bind_rows(\n",
    "    dat_coverage_ccres_astarr,\n",
    "    dat_coverage_ccres_wstarr\n",
    ")\n",
    "dat = dat %>% dplyr::filter(Count > 10)\n",
    "dat = dat %>% dplyr::select(Region, Index, Label, Assay_Type) %>% dplyr::distinct()\n",
    "\n",
    "### count each\n",
    "dat1 = dat %>%\n",
    "    dplyr::group_by(Label, Assay_Type) %>%\n",
    "    dplyr::summarise(\n",
    "        Count   = n(), \n",
    "        .groups = \"drop\")\n",
    "\n",
    "### count total\n",
    "dat2 = dat %>%\n",
    "    dplyr::group_by(Assay_Type) %>%\n",
    "    dplyr::summarise(\n",
    "        Total   = n(), \n",
    "        .groups = \"drop\")\n",
    "\n",
    "### merge count\n",
    "dat = dat1 %>% \n",
    "    dplyr::left_join(dat2, by = \"Assay_Type\") %>%\n",
    "    dplyr::mutate(Freq = Count / Total)\n",
    "\n",
    "### assign and show\n",
    "dat_region_annot_count = dat\n",
    "print(nrow(dat))\n",
    "head(dat)"
   ]
  },
  {
   "cell_type": "code",
   "execution_count": 50,
   "id": "a264ba05-2fce-4ea8-b15b-8737c7bf29b2",
   "metadata": {},
   "outputs": [
    {
     "data": {
      "image/png": "[encoded data removed]",
      "text/plain": [
       "plot without title"
      ]
     },
     "metadata": {
      "image/png": {
       "height": 180,
       "width": 480
      }
     },
     "output_type": "display_data"
    }
   ],
   "source": [
    "tmp = dat_region_annot_count\n",
    "\n",
    "### order Assay\n",
    "dat = tmp\n",
    "dat = dat %>% \n",
    "    dplyr::filter(Label == \"Low-DNase\") %>% \n",
    "    dplyr::arrange(Freq)\n",
    "\n",
    "vec_txt_assay = dat$Assay_Type\n",
    "\n",
    "### order label\n",
    "vec_txt_color = c(\n",
    "    \"PLS\"        = \"#fb8072\", \n",
    "    \"pELS\"       = \"#fdb462\", \n",
    "    \"dELS\"       = \"#fee08b\", \n",
    "    \"CA-TF\"      = \"#984ea3\", #\"#bebada\", \n",
    "    \"CA-CTCF\"    = \"#80b1d3\", \n",
    "    \"CA-H3K4me3\" = \"#fccde5\",  \n",
    "    \"CA-only\"    = \"#8dd3c7\", \n",
    "    \"Low-DNase\"  = \"#d9d9d9\")\n",
    "\n",
    "vec_txt_label = names(vec_txt_color)\n",
    "\n",
    "### set factor\n",
    "dat = tmp\n",
    "dat = dat %>% \n",
    "    dplyr::mutate(\n",
    "        Assay_Type = factor(Assay_Type, levels=rev(vec_txt_assay)),\n",
    "        Label      = factor(Label,      levels=rev(vec_txt_label)),\n",
    ")\n",
    "\n",
    "### plot\n",
    "theme_fill = scale_fill_manual(values = vec_txt_color)\n",
    "\n",
    "gpt = ggplot(dat, aes(x=Assay_Type, y=Freq, fill=Label)) + \n",
    "    geom_col() +\n",
    "    labs(x=\"\", y=\"Proportion\", title = \"cCREs composition of each assay\") +\n",
    "    coord_flip() +\n",
    "    theme_cowplot() +\n",
    "    theme_fill\n",
    "\n",
    "### show and save\n",
    "options(repr.plot.height=3, repr.plot.width=8)\n",
    "print(gpt)\n",
    "#ggsave(\"fig.fcc_table.ccres.proportion.png\", gpt, width = 9, height = 4.5)\n",
    "#ggsave(\"fig.fcc_table.ccres.proportion.pdf\", gpt, width = 9, height = 4.5)"
   ]
  },
  {
   "cell_type": "code",
   "execution_count": null,
   "id": "28e98a6c-e4f9-4f24-9f8d-ff4175691c7e",
   "metadata": {},
   "outputs": [],
   "source": []
  },
  {
   "cell_type": "code",
   "execution_count": 51,
   "id": "c4e45f47-bebd-4664-b03a-285fe372ce89",
   "metadata": {},
   "outputs": [
    {
     "name": "stdout",
     "output_type": "stream",
     "text": [
      "[1] 16\n"
     ]
    },
    {
     "data": {
      "text/html": [
       "<table class=\"dataframe\">\n",
       "<caption>A tibble: 6 × 5</caption>\n",
       "<thead>\n",
       "\t<tr><th scope=col>Label</th><th scope=col>Assay_Type</th><th scope=col>Count</th><th scope=col>Total</th><th scope=col>Freq</th></tr>\n",
       "\t<tr><th scope=col>&lt;chr&gt;</th><th scope=col>&lt;chr&gt;</th><th scope=col>&lt;int&gt;</th><th scope=col>&lt;int&gt;</th><th scope=col>&lt;dbl&gt;</th></tr>\n",
       "</thead>\n",
       "<tbody>\n",
       "\t<tr><td>CA-CTCF   </td><td>ASTARR</td><td>28271</td><td>2348854</td><td>0.012036082</td></tr>\n",
       "\t<tr><td>CA-CTCF   </td><td>WSTARR</td><td>28271</td><td>2348854</td><td>0.012036082</td></tr>\n",
       "\t<tr><td>CA-H3K4me3</td><td>ASTARR</td><td> 5861</td><td>2348854</td><td>0.002495259</td></tr>\n",
       "\t<tr><td>CA-H3K4me3</td><td>WSTARR</td><td> 5861</td><td>2348854</td><td>0.002495259</td></tr>\n",
       "\t<tr><td>CA-TF     </td><td>ASTARR</td><td>38859</td><td>2348854</td><td>0.016543812</td></tr>\n",
       "\t<tr><td>CA-TF     </td><td>WSTARR</td><td>38859</td><td>2348854</td><td>0.016543812</td></tr>\n",
       "</tbody>\n",
       "</table>\n"
      ],
      "text/latex": [
       "A tibble: 6 × 5\n",
       "\\begin{tabular}{lllll}\n",
       " Label & Assay\\_Type & Count & Total & Freq\\\\\n",
       " <chr> & <chr> & <int> & <int> & <dbl>\\\\\n",
       "\\hline\n",
       "\t CA-CTCF    & ASTARR & 28271 & 2348854 & 0.012036082\\\\\n",
       "\t CA-CTCF    & WSTARR & 28271 & 2348854 & 0.012036082\\\\\n",
       "\t CA-H3K4me3 & ASTARR &  5861 & 2348854 & 0.002495259\\\\\n",
       "\t CA-H3K4me3 & WSTARR &  5861 & 2348854 & 0.002495259\\\\\n",
       "\t CA-TF      & ASTARR & 38859 & 2348854 & 0.016543812\\\\\n",
       "\t CA-TF      & WSTARR & 38859 & 2348854 & 0.016543812\\\\\n",
       "\\end{tabular}\n"
      ],
      "text/markdown": [
       "\n",
       "A tibble: 6 × 5\n",
       "\n",
       "| Label &lt;chr&gt; | Assay_Type &lt;chr&gt; | Count &lt;int&gt; | Total &lt;int&gt; | Freq &lt;dbl&gt; |\n",
       "|---|---|---|---|---|\n",
       "| CA-CTCF    | ASTARR | 28271 | 2348854 | 0.012036082 |\n",
       "| CA-CTCF    | WSTARR | 28271 | 2348854 | 0.012036082 |\n",
       "| CA-H3K4me3 | ASTARR |  5861 | 2348854 | 0.002495259 |\n",
       "| CA-H3K4me3 | WSTARR |  5861 | 2348854 | 0.002495259 |\n",
       "| CA-TF      | ASTARR | 38859 | 2348854 | 0.016543812 |\n",
       "| CA-TF      | WSTARR | 38859 | 2348854 | 0.016543812 |\n",
       "\n"
      ],
      "text/plain": [
       "  Label      Assay_Type Count Total   Freq       \n",
       "1 CA-CTCF    ASTARR     28271 2348854 0.012036082\n",
       "2 CA-CTCF    WSTARR     28271 2348854 0.012036082\n",
       "3 CA-H3K4me3 ASTARR      5861 2348854 0.002495259\n",
       "4 CA-H3K4me3 WSTARR      5861 2348854 0.002495259\n",
       "5 CA-TF      ASTARR     38859 2348854 0.016543812\n",
       "6 CA-TF      WSTARR     38859 2348854 0.016543812"
      ]
     },
     "metadata": {},
     "output_type": "display_data"
    }
   ],
   "source": [
    "dat = bind_rows(\n",
    "    dat_coverage_ccres_astarr,\n",
    "    dat_coverage_ccres_wstarr\n",
    ")\n",
    "#dat = dat %>% dplyr::filter(Count > 10)\n",
    "dat = dat %>% dplyr::select(Region, Index, Label, Assay_Type) %>% dplyr::distinct()\n",
    "\n",
    "### count each\n",
    "dat1 = dat %>%\n",
    "    dplyr::group_by(Label, Assay_Type) %>%\n",
    "    dplyr::summarise(\n",
    "        Count   = n(), \n",
    "        .groups = \"drop\")\n",
    "\n",
    "### count total\n",
    "dat2 = dat %>%\n",
    "    dplyr::group_by(Assay_Type) %>%\n",
    "    dplyr::summarise(\n",
    "        Total   = n(), \n",
    "        .groups = \"drop\")\n",
    "\n",
    "### merge count\n",
    "dat = dat1 %>% \n",
    "    dplyr::left_join(dat2, by = \"Assay_Type\") %>%\n",
    "    dplyr::mutate(Freq = Count / Total)\n",
    "\n",
    "### assign and show\n",
    "dat_region_annot_count = dat\n",
    "print(nrow(dat))\n",
    "head(dat)"
   ]
  },
  {
   "cell_type": "code",
   "execution_count": 52,
   "id": "a9174be2-cff6-42f5-a7a3-01b06b081f40",
   "metadata": {},
   "outputs": [
    {
     "data": {
      "image/png": "[encoded data removed]",
      "text/plain": [
       "plot without title"
      ]
     },
     "metadata": {
      "image/png": {
       "height": 180,
       "width": 480
      }
     },
     "output_type": "display_data"
    }
   ],
   "source": [
    "tmp = dat_region_annot_count\n",
    "\n",
    "### order Assay\n",
    "dat = tmp\n",
    "dat = dat %>% \n",
    "    dplyr::filter(Label == \"Low-DNase\") %>% \n",
    "    dplyr::arrange(Freq)\n",
    "\n",
    "vec_txt_assay = dat$Assay_Type\n",
    "\n",
    "### order label\n",
    "vec_txt_color = c(\n",
    "    \"PLS\"        = \"#fb8072\", \n",
    "    \"pELS\"       = \"#fdb462\", \n",
    "    \"dELS\"       = \"#fee08b\", \n",
    "    \"CA-TF\"      = \"#984ea3\", #\"#bebada\", \n",
    "    \"CA-CTCF\"    = \"#80b1d3\", \n",
    "    \"CA-H3K4me3\" = \"#fccde5\",  \n",
    "    \"CA-only\"    = \"#8dd3c7\", \n",
    "    \"Low-DNase\"  = \"#d9d9d9\")\n",
    "\n",
    "vec_txt_label = names(vec_txt_color)\n",
    "\n",
    "### set factor\n",
    "dat = tmp\n",
    "dat = dat %>% \n",
    "    dplyr::mutate(\n",
    "        Assay_Type = factor(Assay_Type, levels=rev(vec_txt_assay)),\n",
    "        Label      = factor(Label,      levels=rev(vec_txt_label)),\n",
    ")\n",
    "\n",
    "### plot\n",
    "theme_fill = scale_fill_manual(values = vec_txt_color)\n",
    "\n",
    "gpt = ggplot(dat, aes(x=Assay_Type, y=Freq, fill=Label)) + \n",
    "    geom_col() +\n",
    "    labs(x=\"\", y=\"Proportion\", title = \"cCREs composition of each assay\") +\n",
    "    coord_flip() +\n",
    "    theme_cowplot() +\n",
    "    theme_fill\n",
    "\n",
    "### show and save\n",
    "options(repr.plot.height=3, repr.plot.width=8)\n",
    "print(gpt)\n",
    "#ggsave(\"fig.fcc_table.ccres.proportion.png\", gpt, width = 9, height = 4.5)\n",
    "#ggsave(\"fig.fcc_table.ccres.proportion.pdf\", gpt, width = 9, height = 4.5)"
   ]
  },
  {
   "cell_type": "code",
   "execution_count": 55,
   "id": "43d13cbb-4c2c-46df-9651-8220d783f349",
   "metadata": {},
   "outputs": [
    {
     "name": "stdout",
     "output_type": "stream",
     "text": [
      "[1] 16\n"
     ]
    },
    {
     "data": {
      "text/html": [
       "<table class=\"dataframe\">\n",
       "<caption>A tibble: 6 × 5</caption>\n",
       "<thead>\n",
       "\t<tr><th scope=col>Label</th><th scope=col>Assay_Type</th><th scope=col>Count</th><th scope=col>Total</th><th scope=col>Freq</th></tr>\n",
       "\t<tr><th scope=col>&lt;chr&gt;</th><th scope=col>&lt;chr&gt;</th><th scope=col>&lt;int&gt;</th><th scope=col>&lt;int&gt;</th><th scope=col>&lt;dbl&gt;</th></tr>\n",
       "</thead>\n",
       "<tbody>\n",
       "\t<tr><td>CA-CTCF   </td><td>ASTARR</td><td>27709</td><td>1172536</td><td>0.023631684</td></tr>\n",
       "\t<tr><td>CA-CTCF   </td><td>WSTARR</td><td>20581</td><td>1393595</td><td>0.014768279</td></tr>\n",
       "\t<tr><td>CA-H3K4me3</td><td>ASTARR</td><td> 5855</td><td>1172536</td><td>0.004993450</td></tr>\n",
       "\t<tr><td>CA-H3K4me3</td><td>WSTARR</td><td> 5295</td><td>1393595</td><td>0.003799526</td></tr>\n",
       "\t<tr><td>CA-TF     </td><td>ASTARR</td><td>38406</td><td>1172536</td><td>0.032754645</td></tr>\n",
       "\t<tr><td>CA-TF     </td><td>WSTARR</td><td>31024</td><td>1393595</td><td>0.022261848</td></tr>\n",
       "</tbody>\n",
       "</table>\n"
      ],
      "text/latex": [
       "A tibble: 6 × 5\n",
       "\\begin{tabular}{lllll}\n",
       " Label & Assay\\_Type & Count & Total & Freq\\\\\n",
       " <chr> & <chr> & <int> & <int> & <dbl>\\\\\n",
       "\\hline\n",
       "\t CA-CTCF    & ASTARR & 27709 & 1172536 & 0.023631684\\\\\n",
       "\t CA-CTCF    & WSTARR & 20581 & 1393595 & 0.014768279\\\\\n",
       "\t CA-H3K4me3 & ASTARR &  5855 & 1172536 & 0.004993450\\\\\n",
       "\t CA-H3K4me3 & WSTARR &  5295 & 1393595 & 0.003799526\\\\\n",
       "\t CA-TF      & ASTARR & 38406 & 1172536 & 0.032754645\\\\\n",
       "\t CA-TF      & WSTARR & 31024 & 1393595 & 0.022261848\\\\\n",
       "\\end{tabular}\n"
      ],
      "text/markdown": [
       "\n",
       "A tibble: 6 × 5\n",
       "\n",
       "| Label &lt;chr&gt; | Assay_Type &lt;chr&gt; | Count &lt;int&gt; | Total &lt;int&gt; | Freq &lt;dbl&gt; |\n",
       "|---|---|---|---|---|\n",
       "| CA-CTCF    | ASTARR | 27709 | 1172536 | 0.023631684 |\n",
       "| CA-CTCF    | WSTARR | 20581 | 1393595 | 0.014768279 |\n",
       "| CA-H3K4me3 | ASTARR |  5855 | 1172536 | 0.004993450 |\n",
       "| CA-H3K4me3 | WSTARR |  5295 | 1393595 | 0.003799526 |\n",
       "| CA-TF      | ASTARR | 38406 | 1172536 | 0.032754645 |\n",
       "| CA-TF      | WSTARR | 31024 | 1393595 | 0.022261848 |\n",
       "\n"
      ],
      "text/plain": [
       "  Label      Assay_Type Count Total   Freq       \n",
       "1 CA-CTCF    ASTARR     27709 1172536 0.023631684\n",
       "2 CA-CTCF    WSTARR     20581 1393595 0.014768279\n",
       "3 CA-H3K4me3 ASTARR      5855 1172536 0.004993450\n",
       "4 CA-H3K4me3 WSTARR      5295 1393595 0.003799526\n",
       "5 CA-TF      ASTARR     38406 1172536 0.032754645\n",
       "6 CA-TF      WSTARR     31024 1393595 0.022261848"
      ]
     },
     "metadata": {},
     "output_type": "display_data"
    }
   ],
   "source": [
    "dat = bind_rows(\n",
    "    dat_coverage_ccres_astarr,\n",
    "    dat_coverage_ccres_wstarr\n",
    ")\n",
    "dat = dat %>% dplyr::filter(Count > 50)\n",
    "dat = dat %>% dplyr::select(Region, Index, Label, Assay_Type) %>% dplyr::distinct()\n",
    "\n",
    "### count each\n",
    "dat1 = dat %>%\n",
    "    dplyr::group_by(Label, Assay_Type) %>%\n",
    "    dplyr::summarise(\n",
    "        Count   = n(), \n",
    "        .groups = \"drop\")\n",
    "\n",
    "### count total\n",
    "dat2 = dat %>%\n",
    "    dplyr::group_by(Assay_Type) %>%\n",
    "    dplyr::summarise(\n",
    "        Total   = n(), \n",
    "        .groups = \"drop\")\n",
    "\n",
    "### merge count\n",
    "dat = dat1 %>% \n",
    "    dplyr::left_join(dat2, by = \"Assay_Type\") %>%\n",
    "    dplyr::mutate(Freq = Count / Total)\n",
    "\n",
    "### assign and show\n",
    "dat_region_annot_count = dat\n",
    "print(nrow(dat))\n",
    "head(dat)"
   ]
  },
  {
   "cell_type": "code",
   "execution_count": 56,
   "id": "01302439-821a-4fa2-810e-647803eb03b6",
   "metadata": {},
   "outputs": [
    {
     "data": {
      "image/png": "[encoded data removed]",
      "text/plain": [
       "plot without title"
      ]
     },
     "metadata": {
      "image/png": {
       "height": 180,
       "width": 480
      }
     },
     "output_type": "display_data"
    }
   ],
   "source": [
    "tmp = dat_region_annot_count\n",
    "\n",
    "### order Assay\n",
    "dat = tmp\n",
    "dat = dat %>% \n",
    "    dplyr::filter(Label == \"Low-DNase\") %>% \n",
    "    dplyr::arrange(Freq)\n",
    "\n",
    "vec_txt_assay = dat$Assay_Type\n",
    "\n",
    "### order label\n",
    "vec_txt_color = c(\n",
    "    \"PLS\"        = \"#fb8072\", \n",
    "    \"pELS\"       = \"#fdb462\", \n",
    "    \"dELS\"       = \"#fee08b\", \n",
    "    \"CA-TF\"      = \"#984ea3\", #\"#bebada\", \n",
    "    \"CA-CTCF\"    = \"#80b1d3\", \n",
    "    \"CA-H3K4me3\" = \"#fccde5\",  \n",
    "    \"CA-only\"    = \"#8dd3c7\", \n",
    "    \"Low-DNase\"  = \"#d9d9d9\")\n",
    "\n",
    "vec_txt_label = names(vec_txt_color)\n",
    "\n",
    "### set factor\n",
    "dat = tmp\n",
    "dat = dat %>% \n",
    "    dplyr::mutate(\n",
    "        Assay_Type = factor(Assay_Type, levels=rev(vec_txt_assay)),\n",
    "        Label      = factor(Label,      levels=rev(vec_txt_label)),\n",
    ")\n",
    "\n",
    "### plot\n",
    "theme_fill = scale_fill_manual(values = vec_txt_color)\n",
    "\n",
    "gpt = ggplot(dat, aes(x=Assay_Type, y=Freq, fill=Label)) + \n",
    "    geom_col() +\n",
    "    labs(x=\"\", y=\"Proportion\", title = \"cCREs composition of each assay\") +\n",
    "    coord_flip() +\n",
    "    theme_cowplot() +\n",
    "    theme_fill\n",
    "\n",
    "### show and save\n",
    "options(repr.plot.height=3, repr.plot.width=8)\n",
    "print(gpt)\n",
    "#ggsave(\"fig.fcc_table.ccres.proportion.png\", gpt, width = 9, height = 4.5)\n",
    "#ggsave(\"fig.fcc_table.ccres.proportion.pdf\", gpt, width = 9, height = 4.5)"
   ]
  },
  {
   "cell_type": "code",
   "execution_count": 53,
   "id": "c31f21ff-799b-44a6-bb5a-4a0d6cc371d4",
   "metadata": {},
   "outputs": [
    {
     "name": "stdout",
     "output_type": "stream",
     "text": [
      "[1] 16\n"
     ]
    },
    {
     "data": {
      "text/html": [
       "<table class=\"dataframe\">\n",
       "<caption>A tibble: 6 × 5</caption>\n",
       "<thead>\n",
       "\t<tr><th scope=col>Label</th><th scope=col>Assay_Type</th><th scope=col>Count</th><th scope=col>Total</th><th scope=col>Freq</th></tr>\n",
       "\t<tr><th scope=col>&lt;chr&gt;</th><th scope=col>&lt;chr&gt;</th><th scope=col>&lt;int&gt;</th><th scope=col>&lt;int&gt;</th><th scope=col>&lt;dbl&gt;</th></tr>\n",
       "</thead>\n",
       "<tbody>\n",
       "\t<tr><td>CA-CTCF   </td><td>ASTARR</td><td>24395</td><td>505061</td><td>0.04830110</td></tr>\n",
       "\t<tr><td>CA-CTCF   </td><td>WSTARR</td><td> 7996</td><td>408154</td><td>0.01959064</td></tr>\n",
       "\t<tr><td>CA-H3K4me3</td><td>ASTARR</td><td> 5775</td><td>505061</td><td>0.01143426</td></tr>\n",
       "\t<tr><td>CA-H3K4me3</td><td>WSTARR</td><td> 3776</td><td>408154</td><td>0.00925141</td></tr>\n",
       "\t<tr><td>CA-TF     </td><td>ASTARR</td><td>34963</td><td>505061</td><td>0.06922530</td></tr>\n",
       "\t<tr><td>CA-TF     </td><td>WSTARR</td><td>12809</td><td>408154</td><td>0.03138276</td></tr>\n",
       "</tbody>\n",
       "</table>\n"
      ],
      "text/latex": [
       "A tibble: 6 × 5\n",
       "\\begin{tabular}{lllll}\n",
       " Label & Assay\\_Type & Count & Total & Freq\\\\\n",
       " <chr> & <chr> & <int> & <int> & <dbl>\\\\\n",
       "\\hline\n",
       "\t CA-CTCF    & ASTARR & 24395 & 505061 & 0.04830110\\\\\n",
       "\t CA-CTCF    & WSTARR &  7996 & 408154 & 0.01959064\\\\\n",
       "\t CA-H3K4me3 & ASTARR &  5775 & 505061 & 0.01143426\\\\\n",
       "\t CA-H3K4me3 & WSTARR &  3776 & 408154 & 0.00925141\\\\\n",
       "\t CA-TF      & ASTARR & 34963 & 505061 & 0.06922530\\\\\n",
       "\t CA-TF      & WSTARR & 12809 & 408154 & 0.03138276\\\\\n",
       "\\end{tabular}\n"
      ],
      "text/markdown": [
       "\n",
       "A tibble: 6 × 5\n",
       "\n",
       "| Label &lt;chr&gt; | Assay_Type &lt;chr&gt; | Count &lt;int&gt; | Total &lt;int&gt; | Freq &lt;dbl&gt; |\n",
       "|---|---|---|---|---|\n",
       "| CA-CTCF    | ASTARR | 24395 | 505061 | 0.04830110 |\n",
       "| CA-CTCF    | WSTARR |  7996 | 408154 | 0.01959064 |\n",
       "| CA-H3K4me3 | ASTARR |  5775 | 505061 | 0.01143426 |\n",
       "| CA-H3K4me3 | WSTARR |  3776 | 408154 | 0.00925141 |\n",
       "| CA-TF      | ASTARR | 34963 | 505061 | 0.06922530 |\n",
       "| CA-TF      | WSTARR | 12809 | 408154 | 0.03138276 |\n",
       "\n"
      ],
      "text/plain": [
       "  Label      Assay_Type Count Total  Freq      \n",
       "1 CA-CTCF    ASTARR     24395 505061 0.04830110\n",
       "2 CA-CTCF    WSTARR      7996 408154 0.01959064\n",
       "3 CA-H3K4me3 ASTARR      5775 505061 0.01143426\n",
       "4 CA-H3K4me3 WSTARR      3776 408154 0.00925141\n",
       "5 CA-TF      ASTARR     34963 505061 0.06922530\n",
       "6 CA-TF      WSTARR     12809 408154 0.03138276"
      ]
     },
     "metadata": {},
     "output_type": "display_data"
    }
   ],
   "source": [
    "dat = bind_rows(\n",
    "    dat_coverage_ccres_astarr,\n",
    "    dat_coverage_ccres_wstarr\n",
    ")\n",
    "dat = dat %>% dplyr::filter(Count > 100)\n",
    "dat = dat %>% dplyr::select(Region, Index, Label, Assay_Type) %>% dplyr::distinct()\n",
    "\n",
    "### count each\n",
    "dat1 = dat %>%\n",
    "    dplyr::group_by(Label, Assay_Type) %>%\n",
    "    dplyr::summarise(\n",
    "        Count   = n(), \n",
    "        .groups = \"drop\")\n",
    "\n",
    "### count total\n",
    "dat2 = dat %>%\n",
    "    dplyr::group_by(Assay_Type) %>%\n",
    "    dplyr::summarise(\n",
    "        Total   = n(), \n",
    "        .groups = \"drop\")\n",
    "\n",
    "### merge count\n",
    "dat = dat1 %>% \n",
    "    dplyr::left_join(dat2, by = \"Assay_Type\") %>%\n",
    "    dplyr::mutate(Freq = Count / Total)\n",
    "\n",
    "### assign and show\n",
    "dat_region_annot_count = dat\n",
    "print(nrow(dat))\n",
    "head(dat)"
   ]
  },
  {
   "cell_type": "code",
   "execution_count": 54,
   "id": "c29c3ab6-1c34-4748-9e31-a15d44328814",
   "metadata": {},
   "outputs": [
    {
     "data": {
      "image/png": "[encoded data removed]",
      "text/plain": [
       "plot without title"
      ]
     },
     "metadata": {
      "image/png": {
       "height": 180,
       "width": 480
      }
     },
     "output_type": "display_data"
    }
   ],
   "source": [
    "tmp = dat_region_annot_count\n",
    "\n",
    "### order Assay\n",
    "dat = tmp\n",
    "dat = dat %>% \n",
    "    dplyr::filter(Label == \"Low-DNase\") %>% \n",
    "    dplyr::arrange(Freq)\n",
    "\n",
    "vec_txt_assay = dat$Assay_Type\n",
    "\n",
    "### order label\n",
    "vec_txt_color = c(\n",
    "    \"PLS\"        = \"#fb8072\", \n",
    "    \"pELS\"       = \"#fdb462\", \n",
    "    \"dELS\"       = \"#fee08b\", \n",
    "    \"CA-TF\"      = \"#984ea3\", #\"#bebada\", \n",
    "    \"CA-CTCF\"    = \"#80b1d3\", \n",
    "    \"CA-H3K4me3\" = \"#fccde5\",  \n",
    "    \"CA-only\"    = \"#8dd3c7\", \n",
    "    \"Low-DNase\"  = \"#d9d9d9\")\n",
    "\n",
    "vec_txt_label = names(vec_txt_color)\n",
    "\n",
    "### set factor\n",
    "dat = tmp\n",
    "dat = dat %>% \n",
    "    dplyr::mutate(\n",
    "        Assay_Type = factor(Assay_Type, levels=rev(vec_txt_assay)),\n",
    "        Label      = factor(Label,      levels=rev(vec_txt_label)),\n",
    ")\n",
    "\n",
    "### plot\n",
    "theme_fill = scale_fill_manual(values = vec_txt_color)\n",
    "\n",
    "gpt = ggplot(dat, aes(x=Assay_Type, y=Freq, fill=Label)) + \n",
    "    geom_col() +\n",
    "    labs(x=\"\", y=\"Proportion\", title = \"cCREs composition of each assay\") +\n",
    "    coord_flip() +\n",
    "    theme_cowplot() +\n",
    "    theme_fill\n",
    "\n",
    "### show and save\n",
    "options(repr.plot.height=3, repr.plot.width=8)\n",
    "print(gpt)\n",
    "#ggsave(\"fig.fcc_table.ccres.proportion.png\", gpt, width = 9, height = 4.5)\n",
    "#ggsave(\"fig.fcc_table.ccres.proportion.pdf\", gpt, width = 9, height = 4.5)"
   ]
  },
  {
   "cell_type": "code",
   "execution_count": null,
   "id": "3230b0f2-3e3a-4cb0-96df-11eaa103e7c8",
   "metadata": {},
   "outputs": [],
   "source": []
  },
  {
   "cell_type": "code",
   "execution_count": null,
   "id": "0f39d714-c179-48dc-af15-535f1df1e3bb",
   "metadata": {},
   "outputs": [],
   "source": []
  },
  {
   "cell_type": "code",
   "execution_count": null,
   "id": "f3b91d78-7d5f-4578-bbdc-1fe34fb9eafc",
   "metadata": {},
   "outputs": [],
   "source": []
  },
  {
   "cell_type": "code",
   "execution_count": null,
   "id": "c6817562-4489-4265-a1d1-55394c727125",
   "metadata": {},
   "outputs": [],
   "source": []
  },
  {
   "cell_type": "code",
   "execution_count": null,
   "id": "4ac5a456-501f-4864-bbd2-ebdca33c7cea",
   "metadata": {},
   "outputs": [],
   "source": []
  },
  {
   "cell_type": "code",
   "execution_count": null,
   "id": "5e842eaa-0af6-442f-8cee-13e85b49fb6f",
   "metadata": {},
   "outputs": [],
   "source": [
    "### split and expand table by assay type\n",
    "dat = dat_peak_annot_overlap\n",
    "dat = dat %>% tidyr::separate_longer_delim(Assay_Type, \",\")\n",
    "\n",
    "### count each\n",
    "dat1 = dat %>%\n",
    "    dplyr::group_by(Label, Assay_Type) %>%\n",
    "    dplyr::summarise(\n",
    "        Count   = n(), \n",
    "        .groups = \"drop\")\n",
    "\n",
    "### count total\n",
    "dat2 = dat %>%\n",
    "    dplyr::group_by(Assay_Type) %>%\n",
    "    dplyr::summarise(\n",
    "        Total   = n(), \n",
    "        .groups = \"drop\")\n",
    "\n",
    "### merge count\n",
    "dat = dat1 %>% \n",
    "    dplyr::left_join(dat2, by = \"Assay_Type\") %>%\n",
    "    dplyr::mutate(Freq = Count / Total)\n",
    "\n",
    "### assign and show\n",
    "dat_peak_annot_count = dat\n",
    "print(dim(dat))\n",
    "head(dat)"
   ]
  },
  {
   "cell_type": "code",
   "execution_count": null,
   "id": "d3414b38-5a88-4edb-a36d-968e36186c48",
   "metadata": {},
   "outputs": [],
   "source": []
  },
  {
   "cell_type": "code",
   "execution_count": null,
   "id": "5397c47a-76e3-4762-8d5e-5b9f91298f06",
   "metadata": {},
   "outputs": [],
   "source": []
  },
  {
   "cell_type": "code",
   "execution_count": 24,
   "id": "ae56b45d-be98-486a-bbe7-779f23bd249b",
   "metadata": {},
   "outputs": [
    {
     "name": "stdout",
     "output_type": "stream",
     "text": [
      "[1] 2314696\n"
     ]
    },
    {
     "data": {
      "text/html": [
       "<table class=\"dataframe\">\n",
       "<caption>A tibble: 6 × 3</caption>\n",
       "<thead>\n",
       "\t<tr><th scope=col>Region</th><th scope=col>Index</th><th scope=col>Label</th></tr>\n",
       "\t<tr><th scope=col>&lt;chr&gt;</th><th scope=col>&lt;chr&gt;</th><th scope=col>&lt;chr&gt;</th></tr>\n",
       "</thead>\n",
       "<tbody>\n",
       "\t<tr><td>chr1:10033-10250</td><td>EH38E2776516</td><td>Low-DNase</td></tr>\n",
       "\t<tr><td>chr1:10385-10713</td><td>EH38E2776517</td><td>Low-DNase</td></tr>\n",
       "\t<tr><td>chr1:16097-16381</td><td>EH38E3951272</td><td>Low-DNase</td></tr>\n",
       "\t<tr><td>chr1:17343-17642</td><td>EH38E3951273</td><td>Low-DNase</td></tr>\n",
       "\t<tr><td>chr1:29320-29517</td><td>EH38E3951274</td><td>Low-DNase</td></tr>\n",
       "\t<tr><td>chr1:78990-79238</td><td>EH38E3951276</td><td>Low-DNase</td></tr>\n",
       "</tbody>\n",
       "</table>\n"
      ],
      "text/latex": [
       "A tibble: 6 × 3\n",
       "\\begin{tabular}{lll}\n",
       " Region & Index & Label\\\\\n",
       " <chr> & <chr> & <chr>\\\\\n",
       "\\hline\n",
       "\t chr1:10033-10250 & EH38E2776516 & Low-DNase\\\\\n",
       "\t chr1:10385-10713 & EH38E2776517 & Low-DNase\\\\\n",
       "\t chr1:16097-16381 & EH38E3951272 & Low-DNase\\\\\n",
       "\t chr1:17343-17642 & EH38E3951273 & Low-DNase\\\\\n",
       "\t chr1:29320-29517 & EH38E3951274 & Low-DNase\\\\\n",
       "\t chr1:78990-79238 & EH38E3951276 & Low-DNase\\\\\n",
       "\\end{tabular}\n"
      ],
      "text/markdown": [
       "\n",
       "A tibble: 6 × 3\n",
       "\n",
       "| Region &lt;chr&gt; | Index &lt;chr&gt; | Label &lt;chr&gt; |\n",
       "|---|---|---|\n",
       "| chr1:10033-10250 | EH38E2776516 | Low-DNase |\n",
       "| chr1:10385-10713 | EH38E2776517 | Low-DNase |\n",
       "| chr1:16097-16381 | EH38E3951272 | Low-DNase |\n",
       "| chr1:17343-17642 | EH38E3951273 | Low-DNase |\n",
       "| chr1:29320-29517 | EH38E3951274 | Low-DNase |\n",
       "| chr1:78990-79238 | EH38E3951276 | Low-DNase |\n",
       "\n"
      ],
      "text/plain": [
       "  Region           Index        Label    \n",
       "1 chr1:10033-10250 EH38E2776516 Low-DNase\n",
       "2 chr1:10385-10713 EH38E2776517 Low-DNase\n",
       "3 chr1:16097-16381 EH38E3951272 Low-DNase\n",
       "4 chr1:17343-17642 EH38E3951273 Low-DNase\n",
       "5 chr1:29320-29517 EH38E3951274 Low-DNase\n",
       "6 chr1:78990-79238 EH38E3951276 Low-DNase"
      ]
     },
     "metadata": {},
     "output_type": "display_data"
    }
   ],
   "source": [
    "dat = dat_coverage_ccres_astarr\n",
    "dat = dat %>% dplyr::filter(Count > 10)\n",
    "dat = dat %>% dplyr::select(Region, Index, Label) %>% dplyr::distinct()\n",
    "\n",
    "print(nrow(dat))\n",
    "head(dat)"
   ]
  },
  {
   "cell_type": "code",
   "execution_count": null,
   "id": "d7e563d8-96ad-4e6d-ba99-73c95c4017ec",
   "metadata": {},
   "outputs": [],
   "source": []
  },
  {
   "cell_type": "code",
   "execution_count": 25,
   "id": "fcec5577-f844-4211-89f1-4c617bf06485",
   "metadata": {},
   "outputs": [
    {
     "name": "stdout",
     "output_type": "stream",
     "text": [
      "[1] 2348854\n"
     ]
    },
    {
     "data": {
      "text/html": [
       "<table class=\"dataframe\">\n",
       "<caption>A tibble: 6 × 3</caption>\n",
       "<thead>\n",
       "\t<tr><th scope=col>Region</th><th scope=col>Index</th><th scope=col>Label</th></tr>\n",
       "\t<tr><th scope=col>&lt;chr&gt;</th><th scope=col>&lt;chr&gt;</th><th scope=col>&lt;chr&gt;</th></tr>\n",
       "</thead>\n",
       "<tbody>\n",
       "\t<tr><td>chr1:10033-10250</td><td>EH38E2776516</td><td>Low-DNase</td></tr>\n",
       "\t<tr><td>chr1:10385-10713</td><td>EH38E2776517</td><td>Low-DNase</td></tr>\n",
       "\t<tr><td>chr1:16097-16381</td><td>EH38E3951272</td><td>Low-DNase</td></tr>\n",
       "\t<tr><td>chr1:17343-17642</td><td>EH38E3951273</td><td>Low-DNase</td></tr>\n",
       "\t<tr><td>chr1:29320-29517</td><td>EH38E3951274</td><td>Low-DNase</td></tr>\n",
       "\t<tr><td>chr1:66350-66509</td><td>EH38E3951275</td><td>Low-DNase</td></tr>\n",
       "</tbody>\n",
       "</table>\n"
      ],
      "text/latex": [
       "A tibble: 6 × 3\n",
       "\\begin{tabular}{lll}\n",
       " Region & Index & Label\\\\\n",
       " <chr> & <chr> & <chr>\\\\\n",
       "\\hline\n",
       "\t chr1:10033-10250 & EH38E2776516 & Low-DNase\\\\\n",
       "\t chr1:10385-10713 & EH38E2776517 & Low-DNase\\\\\n",
       "\t chr1:16097-16381 & EH38E3951272 & Low-DNase\\\\\n",
       "\t chr1:17343-17642 & EH38E3951273 & Low-DNase\\\\\n",
       "\t chr1:29320-29517 & EH38E3951274 & Low-DNase\\\\\n",
       "\t chr1:66350-66509 & EH38E3951275 & Low-DNase\\\\\n",
       "\\end{tabular}\n"
      ],
      "text/markdown": [
       "\n",
       "A tibble: 6 × 3\n",
       "\n",
       "| Region &lt;chr&gt; | Index &lt;chr&gt; | Label &lt;chr&gt; |\n",
       "|---|---|---|\n",
       "| chr1:10033-10250 | EH38E2776516 | Low-DNase |\n",
       "| chr1:10385-10713 | EH38E2776517 | Low-DNase |\n",
       "| chr1:16097-16381 | EH38E3951272 | Low-DNase |\n",
       "| chr1:17343-17642 | EH38E3951273 | Low-DNase |\n",
       "| chr1:29320-29517 | EH38E3951274 | Low-DNase |\n",
       "| chr1:66350-66509 | EH38E3951275 | Low-DNase |\n",
       "\n"
      ],
      "text/plain": [
       "  Region           Index        Label    \n",
       "1 chr1:10033-10250 EH38E2776516 Low-DNase\n",
       "2 chr1:10385-10713 EH38E2776517 Low-DNase\n",
       "3 chr1:16097-16381 EH38E3951272 Low-DNase\n",
       "4 chr1:17343-17642 EH38E3951273 Low-DNase\n",
       "5 chr1:29320-29517 EH38E3951274 Low-DNase\n",
       "6 chr1:66350-66509 EH38E3951275 Low-DNase"
      ]
     },
     "metadata": {},
     "output_type": "display_data"
    }
   ],
   "source": [
    "dat = dat_coverage_ccres_wstarr\n",
    "dat = dat %>% dplyr::select(Region, Index, Label) %>% dplyr::distinct()\n",
    "\n",
    "print(nrow(dat))\n",
    "head(dat)"
   ]
  },
  {
   "cell_type": "code",
   "execution_count": 26,
   "id": "bb3da548-5761-4ef8-bfeb-f3b2b007db77",
   "metadata": {},
   "outputs": [
    {
     "name": "stdout",
     "output_type": "stream",
     "text": [
      "[1] 2294192\n"
     ]
    },
    {
     "data": {
      "text/html": [
       "<table class=\"dataframe\">\n",
       "<caption>A tibble: 6 × 3</caption>\n",
       "<thead>\n",
       "\t<tr><th scope=col>Region</th><th scope=col>Index</th><th scope=col>Label</th></tr>\n",
       "\t<tr><th scope=col>&lt;chr&gt;</th><th scope=col>&lt;chr&gt;</th><th scope=col>&lt;chr&gt;</th></tr>\n",
       "</thead>\n",
       "<tbody>\n",
       "\t<tr><td>chr1:191294-191644</td><td>EH38E2776526</td><td>Low-DNase</td></tr>\n",
       "\t<tr><td>chr1:779023-779182</td><td>EH38E3951314</td><td>PLS      </td></tr>\n",
       "\t<tr><td>chr1:821468-821731</td><td>EH38E2776551</td><td>Low-DNase</td></tr>\n",
       "\t<tr><td>chr1:827417-827767</td><td>EH38E2776555</td><td>PLS      </td></tr>\n",
       "\t<tr><td>chr1:910345-910513</td><td>EH38E2776609</td><td>Low-DNase</td></tr>\n",
       "\t<tr><td>chr1:910642-910967</td><td>EH38E1310217</td><td>Low-DNase</td></tr>\n",
       "</tbody>\n",
       "</table>\n"
      ],
      "text/latex": [
       "A tibble: 6 × 3\n",
       "\\begin{tabular}{lll}\n",
       " Region & Index & Label\\\\\n",
       " <chr> & <chr> & <chr>\\\\\n",
       "\\hline\n",
       "\t chr1:191294-191644 & EH38E2776526 & Low-DNase\\\\\n",
       "\t chr1:779023-779182 & EH38E3951314 & PLS      \\\\\n",
       "\t chr1:821468-821731 & EH38E2776551 & Low-DNase\\\\\n",
       "\t chr1:827417-827767 & EH38E2776555 & PLS      \\\\\n",
       "\t chr1:910345-910513 & EH38E2776609 & Low-DNase\\\\\n",
       "\t chr1:910642-910967 & EH38E1310217 & Low-DNase\\\\\n",
       "\\end{tabular}\n"
      ],
      "text/markdown": [
       "\n",
       "A tibble: 6 × 3\n",
       "\n",
       "| Region &lt;chr&gt; | Index &lt;chr&gt; | Label &lt;chr&gt; |\n",
       "|---|---|---|\n",
       "| chr1:191294-191644 | EH38E2776526 | Low-DNase |\n",
       "| chr1:779023-779182 | EH38E3951314 | PLS       |\n",
       "| chr1:821468-821731 | EH38E2776551 | Low-DNase |\n",
       "| chr1:827417-827767 | EH38E2776555 | PLS       |\n",
       "| chr1:910345-910513 | EH38E2776609 | Low-DNase |\n",
       "| chr1:910642-910967 | EH38E1310217 | Low-DNase |\n",
       "\n"
      ],
      "text/plain": [
       "  Region             Index        Label    \n",
       "1 chr1:191294-191644 EH38E2776526 Low-DNase\n",
       "2 chr1:779023-779182 EH38E3951314 PLS      \n",
       "3 chr1:821468-821731 EH38E2776551 Low-DNase\n",
       "4 chr1:827417-827767 EH38E2776555 PLS      \n",
       "5 chr1:910345-910513 EH38E2776609 Low-DNase\n",
       "6 chr1:910642-910967 EH38E1310217 Low-DNase"
      ]
     },
     "metadata": {},
     "output_type": "display_data"
    }
   ],
   "source": [
    "dat = dat_coverage_ccres_wstarr\n",
    "dat = dat %>% dplyr::filter(Count > 10)\n",
    "dat = dat %>% dplyr::select(Region, Index, Label) %>% dplyr::distinct()\n",
    "\n",
    "print(nrow(dat))\n",
    "head(dat)"
   ]
  },
  {
   "cell_type": "code",
   "execution_count": null,
   "id": "90521c89-0e04-40e2-abb6-7f7e1a0672da",
   "metadata": {},
   "outputs": [],
   "source": []
  }
 ],
 "metadata": {
  "kernelspec": {
   "display_name": "R",
   "language": "R",
   "name": "ir"
  },
  "language_info": {
   "codemirror_mode": "r",
   "file_extension": ".r",
   "mimetype": "text/x-r-source",
   "name": "R",
   "pygments_lexer": "r",
   "version": "4.3.1"
  }
 },
 "nbformat": 4,
 "nbformat_minor": 5
}
