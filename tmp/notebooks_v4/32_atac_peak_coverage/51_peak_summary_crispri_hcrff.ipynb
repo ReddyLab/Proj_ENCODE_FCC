{
 "cells": [
  {
   "cell_type": "markdown",
   "metadata": {},
   "source": [
    "**Set environment**"
   ]
  },
  {
   "cell_type": "code",
   "execution_count": 1,
   "metadata": {},
   "outputs": [
    {
     "name": "stdout",
     "output_type": "stream",
     "text": [
      "You are in Singularity: singularity_proj_encode_fcc \n",
      "BASE DIRECTORY (FD_BASE): /data/reddylab/Kuei \n",
      "WORK DIRECTORY (FD_WORK): /data/reddylab/Kuei/out \n",
      "CODE DIRECTORY (FD_CODE): /data/reddylab/Kuei/code \n",
      "PATH OF PROJECT (FD_PRJ): /data/reddylab/Kuei/code/Proj_CombEffect_ENCODE_FCC \n",
      "PATH OF RESULTS (FD_RES): /data/reddylab/Kuei/out/proj_combeffect_encode_fcc \n",
      "PATH OF LOG     (FD_LOG): /data/reddylab/Kuei/out/proj_combeffect_encode_fcc/log \n"
     ]
    }
   ],
   "source": [
    "suppressMessages(suppressWarnings(source(\"../config/config_sing.R\")))\n",
    "show_env()"
   ]
  },
  {
   "cell_type": "markdown",
   "metadata": {},
   "source": [
    "## Import data"
   ]
  },
  {
   "cell_type": "code",
   "execution_count": 2,
   "metadata": {},
   "outputs": [
    {
     "name": "stdout",
     "output_type": "stream",
     "text": [
      "[1] 176457     10\n"
     ]
    },
    {
     "data": {
      "text/html": [
       "<table class=\"dataframe\">\n",
       "<caption>A tibble: 6 × 10</caption>\n",
       "<thead>\n",
       "\t<tr><th scope=col>Chrom_Peak</th><th scope=col>Start_Peak</th><th scope=col>End_Peak</th><th scope=col>Chrom_Guide</th><th scope=col>Start_Guide</th><th scope=col>End_Guide</th><th scope=col>Guide_ID</th><th scope=col>Score</th><th scope=col>Gene</th><th scope=col>Overlap</th></tr>\n",
       "\t<tr><th scope=col>&lt;chr&gt;</th><th scope=col>&lt;dbl&gt;</th><th scope=col>&lt;dbl&gt;</th><th scope=col>&lt;chr&gt;</th><th scope=col>&lt;dbl&gt;</th><th scope=col>&lt;dbl&gt;</th><th scope=col>&lt;chr&gt;</th><th scope=col>&lt;dbl&gt;</th><th scope=col>&lt;chr&gt;</th><th scope=col>&lt;dbl&gt;</th></tr>\n",
       "</thead>\n",
       "<tbody>\n",
       "\t<tr><td>chr11</td><td>4092104</td><td>4092566</td><td>chr11</td><td>4092122</td><td>4092123</td><td>id-145</td><td>-1.101030</td><td>HBE1</td><td>1</td></tr>\n",
       "\t<tr><td>chr11</td><td>4092104</td><td>4092566</td><td>chr11</td><td>4092123</td><td>4092124</td><td>id-146</td><td>-0.061961</td><td>HBE1</td><td>1</td></tr>\n",
       "\t<tr><td>chr11</td><td>4092104</td><td>4092566</td><td>chr11</td><td>4092130</td><td>4092131</td><td>id-147</td><td> 0.528464</td><td>HBE1</td><td>1</td></tr>\n",
       "\t<tr><td>chr11</td><td>4092104</td><td>4092566</td><td>chr11</td><td>4092135</td><td>4092136</td><td>id-148</td><td> 0.497477</td><td>HBE1</td><td>1</td></tr>\n",
       "\t<tr><td>chr11</td><td>4092104</td><td>4092566</td><td>chr11</td><td>4092162</td><td>4092163</td><td>id-149</td><td>-0.190223</td><td>HBE1</td><td>1</td></tr>\n",
       "\t<tr><td>chr11</td><td>4092104</td><td>4092566</td><td>chr11</td><td>4092163</td><td>4092164</td><td>id-150</td><td>-1.781920</td><td>HBE1</td><td>1</td></tr>\n",
       "</tbody>\n",
       "</table>\n"
      ],
      "text/latex": [
       "A tibble: 6 × 10\n",
       "\\begin{tabular}{llllllllll}\n",
       " Chrom\\_Peak & Start\\_Peak & End\\_Peak & Chrom\\_Guide & Start\\_Guide & End\\_Guide & Guide\\_ID & Score & Gene & Overlap\\\\\n",
       " <chr> & <dbl> & <dbl> & <chr> & <dbl> & <dbl> & <chr> & <dbl> & <chr> & <dbl>\\\\\n",
       "\\hline\n",
       "\t chr11 & 4092104 & 4092566 & chr11 & 4092122 & 4092123 & id-145 & -1.101030 & HBE1 & 1\\\\\n",
       "\t chr11 & 4092104 & 4092566 & chr11 & 4092123 & 4092124 & id-146 & -0.061961 & HBE1 & 1\\\\\n",
       "\t chr11 & 4092104 & 4092566 & chr11 & 4092130 & 4092131 & id-147 &  0.528464 & HBE1 & 1\\\\\n",
       "\t chr11 & 4092104 & 4092566 & chr11 & 4092135 & 4092136 & id-148 &  0.497477 & HBE1 & 1\\\\\n",
       "\t chr11 & 4092104 & 4092566 & chr11 & 4092162 & 4092163 & id-149 & -0.190223 & HBE1 & 1\\\\\n",
       "\t chr11 & 4092104 & 4092566 & chr11 & 4092163 & 4092164 & id-150 & -1.781920 & HBE1 & 1\\\\\n",
       "\\end{tabular}\n"
      ],
      "text/markdown": [
       "\n",
       "A tibble: 6 × 10\n",
       "\n",
       "| Chrom_Peak &lt;chr&gt; | Start_Peak &lt;dbl&gt; | End_Peak &lt;dbl&gt; | Chrom_Guide &lt;chr&gt; | Start_Guide &lt;dbl&gt; | End_Guide &lt;dbl&gt; | Guide_ID &lt;chr&gt; | Score &lt;dbl&gt; | Gene &lt;chr&gt; | Overlap &lt;dbl&gt; |\n",
       "|---|---|---|---|---|---|---|---|---|---|\n",
       "| chr11 | 4092104 | 4092566 | chr11 | 4092122 | 4092123 | id-145 | -1.101030 | HBE1 | 1 |\n",
       "| chr11 | 4092104 | 4092566 | chr11 | 4092123 | 4092124 | id-146 | -0.061961 | HBE1 | 1 |\n",
       "| chr11 | 4092104 | 4092566 | chr11 | 4092130 | 4092131 | id-147 |  0.528464 | HBE1 | 1 |\n",
       "| chr11 | 4092104 | 4092566 | chr11 | 4092135 | 4092136 | id-148 |  0.497477 | HBE1 | 1 |\n",
       "| chr11 | 4092104 | 4092566 | chr11 | 4092162 | 4092163 | id-149 | -0.190223 | HBE1 | 1 |\n",
       "| chr11 | 4092104 | 4092566 | chr11 | 4092163 | 4092164 | id-150 | -1.781920 | HBE1 | 1 |\n",
       "\n"
      ],
      "text/plain": [
       "  Chrom_Peak Start_Peak End_Peak Chrom_Guide Start_Guide End_Guide Guide_ID\n",
       "1 chr11      4092104    4092566  chr11       4092122     4092123   id-145  \n",
       "2 chr11      4092104    4092566  chr11       4092123     4092124   id-146  \n",
       "3 chr11      4092104    4092566  chr11       4092130     4092131   id-147  \n",
       "4 chr11      4092104    4092566  chr11       4092135     4092136   id-148  \n",
       "5 chr11      4092104    4092566  chr11       4092162     4092163   id-149  \n",
       "6 chr11      4092104    4092566  chr11       4092163     4092164   id-150  \n",
       "  Score     Gene Overlap\n",
       "1 -1.101030 HBE1 1      \n",
       "2 -0.061961 HBE1 1      \n",
       "3  0.528464 HBE1 1      \n",
       "4  0.497477 HBE1 1      \n",
       "5 -0.190223 HBE1 1      \n",
       "6 -1.781920 HBE1 1      "
      ]
     },
     "metadata": {},
     "output_type": "display_data"
    }
   ],
   "source": [
    "ASSAY   = \"CRISPRi_FlowFISH\"\n",
    "FOLDER  = \"coverage_astarrseq_peak_macs_input\"\n",
    "\n",
    "fdiry = file.path(FD_RES, \"results\", ASSAY, FOLDER)\n",
    "fname = \"Merge_HCRFF_rAVG.log2FC_2.filtered.bed.gz\"\n",
    "fpath = file.path(fdiry, fname)\n",
    "\n",
    "cnames = c(\n",
    "    \"Chrom_Peak\",  \"Start_Peak\",  \"End_Peak\",\n",
    "    \"Chrom_Guide\", \"Start_Guide\", \"End_Guide\", \"Guide_ID\", \"Score\", \"Gene\", \n",
    "    \"Overlap\"\n",
    ")\n",
    "dat = read_tsv(fpath, col_names = cnames, show_col_types = FALSE)\n",
    "\n",
    "dat_peak_score_import = dat\n",
    "print(dim(dat))\n",
    "head(dat)"
   ]
  },
  {
   "cell_type": "markdown",
   "metadata": {},
   "source": [
    "**Check results**"
   ]
  },
  {
   "cell_type": "code",
   "execution_count": 3,
   "metadata": {},
   "outputs": [
    {
     "data": {
      "text/plain": [
       "\n",
       "     1 \n",
       "176457 "
      ]
     },
     "metadata": {},
     "output_type": "display_data"
    }
   ],
   "source": [
    "### overlap should be all one\n",
    "table(dat_peak_score_import$Overlap)"
   ]
  },
  {
   "cell_type": "markdown",
   "metadata": {},
   "source": [
    "## Arrange"
   ]
  },
  {
   "cell_type": "code",
   "execution_count": 4,
   "metadata": {},
   "outputs": [
    {
     "name": "stdout",
     "output_type": "stream",
     "text": [
      "[1] 176457      4\n"
     ]
    },
    {
     "data": {
      "text/html": [
       "<table class=\"dataframe\">\n",
       "<caption>A tibble: 6 × 4</caption>\n",
       "<thead>\n",
       "\t<tr><th scope=col>Peak</th><th scope=col>Guide</th><th scope=col>Gene</th><th scope=col>Score</th></tr>\n",
       "\t<tr><th scope=col>&lt;chr&gt;</th><th scope=col>&lt;chr&gt;</th><th scope=col>&lt;chr&gt;</th><th scope=col>&lt;dbl&gt;</th></tr>\n",
       "</thead>\n",
       "<tbody>\n",
       "\t<tr><td>chr11:4092104-4092566</td><td>chr11:4092122-4092123</td><td>HBE1</td><td>-1.101030</td></tr>\n",
       "\t<tr><td>chr11:4092104-4092566</td><td>chr11:4092123-4092124</td><td>HBE1</td><td>-0.061961</td></tr>\n",
       "\t<tr><td>chr11:4092104-4092566</td><td>chr11:4092130-4092131</td><td>HBE1</td><td> 0.528464</td></tr>\n",
       "\t<tr><td>chr11:4092104-4092566</td><td>chr11:4092135-4092136</td><td>HBE1</td><td> 0.497477</td></tr>\n",
       "\t<tr><td>chr11:4092104-4092566</td><td>chr11:4092162-4092163</td><td>HBE1</td><td>-0.190223</td></tr>\n",
       "\t<tr><td>chr11:4092104-4092566</td><td>chr11:4092163-4092164</td><td>HBE1</td><td>-1.781920</td></tr>\n",
       "</tbody>\n",
       "</table>\n"
      ],
      "text/latex": [
       "A tibble: 6 × 4\n",
       "\\begin{tabular}{llll}\n",
       " Peak & Guide & Gene & Score\\\\\n",
       " <chr> & <chr> & <chr> & <dbl>\\\\\n",
       "\\hline\n",
       "\t chr11:4092104-4092566 & chr11:4092122-4092123 & HBE1 & -1.101030\\\\\n",
       "\t chr11:4092104-4092566 & chr11:4092123-4092124 & HBE1 & -0.061961\\\\\n",
       "\t chr11:4092104-4092566 & chr11:4092130-4092131 & HBE1 &  0.528464\\\\\n",
       "\t chr11:4092104-4092566 & chr11:4092135-4092136 & HBE1 &  0.497477\\\\\n",
       "\t chr11:4092104-4092566 & chr11:4092162-4092163 & HBE1 & -0.190223\\\\\n",
       "\t chr11:4092104-4092566 & chr11:4092163-4092164 & HBE1 & -1.781920\\\\\n",
       "\\end{tabular}\n"
      ],
      "text/markdown": [
       "\n",
       "A tibble: 6 × 4\n",
       "\n",
       "| Peak &lt;chr&gt; | Guide &lt;chr&gt; | Gene &lt;chr&gt; | Score &lt;dbl&gt; |\n",
       "|---|---|---|---|\n",
       "| chr11:4092104-4092566 | chr11:4092122-4092123 | HBE1 | -1.101030 |\n",
       "| chr11:4092104-4092566 | chr11:4092123-4092124 | HBE1 | -0.061961 |\n",
       "| chr11:4092104-4092566 | chr11:4092130-4092131 | HBE1 |  0.528464 |\n",
       "| chr11:4092104-4092566 | chr11:4092135-4092136 | HBE1 |  0.497477 |\n",
       "| chr11:4092104-4092566 | chr11:4092162-4092163 | HBE1 | -0.190223 |\n",
       "| chr11:4092104-4092566 | chr11:4092163-4092164 | HBE1 | -1.781920 |\n",
       "\n"
      ],
      "text/plain": [
       "  Peak                  Guide                 Gene Score    \n",
       "1 chr11:4092104-4092566 chr11:4092122-4092123 HBE1 -1.101030\n",
       "2 chr11:4092104-4092566 chr11:4092123-4092124 HBE1 -0.061961\n",
       "3 chr11:4092104-4092566 chr11:4092130-4092131 HBE1  0.528464\n",
       "4 chr11:4092104-4092566 chr11:4092135-4092136 HBE1  0.497477\n",
       "5 chr11:4092104-4092566 chr11:4092162-4092163 HBE1 -0.190223\n",
       "6 chr11:4092104-4092566 chr11:4092163-4092164 HBE1 -1.781920"
      ]
     },
     "metadata": {},
     "output_type": "display_data"
    }
   ],
   "source": [
    "dat = dat_peak_score_import\n",
    "dat = dat %>% \n",
    "    dplyr::mutate(\n",
    "        Peak  = paste0(Chrom_Peak, \":\",  Start_Peak, \"-\", End_Peak),\n",
    "        Guide = paste0(Chrom_Guide,\":\", Start_Guide, \"-\", End_Guide)) %>%\n",
    "    dplyr::select(\n",
    "        Peak, Guide, Gene, Score\n",
    "    )\n",
    "\n",
    "###\n",
    "dat_peak_score_arrange = dat\n",
    "print(dim(dat))\n",
    "head(dat)"
   ]
  },
  {
   "cell_type": "markdown",
   "metadata": {},
   "source": [
    "## Summary"
   ]
  },
  {
   "cell_type": "code",
   "execution_count": 5,
   "metadata": {},
   "outputs": [
    {
     "name": "stdout",
     "output_type": "stream",
     "text": [
      "[1] 3084    9\n"
     ]
    },
    {
     "data": {
      "text/html": [
       "<table class=\"dataframe\">\n",
       "<caption>A tibble: 6 × 9</caption>\n",
       "<thead>\n",
       "\t<tr><th scope=col>Peak</th><th scope=col>Gene</th><th scope=col>Mean</th><th scope=col>Median</th><th scope=col>Max</th><th scope=col>Min</th><th scope=col>Count</th><th scope=col>Mean_Neg</th><th scope=col>Mean_Pos</th></tr>\n",
       "\t<tr><th scope=col>&lt;chr&gt;</th><th scope=col>&lt;chr&gt;</th><th scope=col>&lt;dbl&gt;</th><th scope=col>&lt;dbl&gt;</th><th scope=col>&lt;dbl&gt;</th><th scope=col>&lt;dbl&gt;</th><th scope=col>&lt;int&gt;</th><th scope=col>&lt;dbl&gt;</th><th scope=col>&lt;dbl&gt;</th></tr>\n",
       "</thead>\n",
       "<tbody>\n",
       "\t<tr><td>chr11:33065336-33066228</td><td>CAPRIN1</td><td>-0.27343935</td><td>-0.2533300</td><td>1.82911</td><td>-2.32196</td><td>46</td><td>-0.5695431</td><td>0.4782085</td></tr>\n",
       "\t<tr><td>chr11:33065336-33066228</td><td>CAT    </td><td>-0.01256696</td><td>-0.1384765</td><td>1.43868</td><td>-1.77410</td><td>46</td><td>-0.5122241</td><td>0.6369873</td></tr>\n",
       "\t<tr><td>chr11:33065336-33066228</td><td>LMO2   </td><td> 0.03675483</td><td>-0.0071000</td><td>1.09905</td><td>-1.14702</td><td>46</td><td>-0.4276747</td><td>0.5011843</td></tr>\n",
       "\t<tr><td>chr11:33068519-33069100</td><td>CAPRIN1</td><td>-0.11785479</td><td>-0.0847600</td><td>1.64429</td><td>-2.01338</td><td>53</td><td>-0.4252182</td><td>0.4797963</td></tr>\n",
       "\t<tr><td>chr11:33068519-33069100</td><td>CAT    </td><td>-0.15932204</td><td>-0.1697360</td><td>2.12211</td><td>-2.59035</td><td>53</td><td>-0.6266582</td><td>0.6769637</td></tr>\n",
       "\t<tr><td>chr11:33068519-33069100</td><td>LMO2   </td><td>-0.08303026</td><td>-0.1090310</td><td>2.73010</td><td>-2.25265</td><td>53</td><td>-0.5389359</td><td>0.5116293</td></tr>\n",
       "</tbody>\n",
       "</table>\n"
      ],
      "text/latex": [
       "A tibble: 6 × 9\n",
       "\\begin{tabular}{lllllllll}\n",
       " Peak & Gene & Mean & Median & Max & Min & Count & Mean\\_Neg & Mean\\_Pos\\\\\n",
       " <chr> & <chr> & <dbl> & <dbl> & <dbl> & <dbl> & <int> & <dbl> & <dbl>\\\\\n",
       "\\hline\n",
       "\t chr11:33065336-33066228 & CAPRIN1 & -0.27343935 & -0.2533300 & 1.82911 & -2.32196 & 46 & -0.5695431 & 0.4782085\\\\\n",
       "\t chr11:33065336-33066228 & CAT     & -0.01256696 & -0.1384765 & 1.43868 & -1.77410 & 46 & -0.5122241 & 0.6369873\\\\\n",
       "\t chr11:33065336-33066228 & LMO2    &  0.03675483 & -0.0071000 & 1.09905 & -1.14702 & 46 & -0.4276747 & 0.5011843\\\\\n",
       "\t chr11:33068519-33069100 & CAPRIN1 & -0.11785479 & -0.0847600 & 1.64429 & -2.01338 & 53 & -0.4252182 & 0.4797963\\\\\n",
       "\t chr11:33068519-33069100 & CAT     & -0.15932204 & -0.1697360 & 2.12211 & -2.59035 & 53 & -0.6266582 & 0.6769637\\\\\n",
       "\t chr11:33068519-33069100 & LMO2    & -0.08303026 & -0.1090310 & 2.73010 & -2.25265 & 53 & -0.5389359 & 0.5116293\\\\\n",
       "\\end{tabular}\n"
      ],
      "text/markdown": [
       "\n",
       "A tibble: 6 × 9\n",
       "\n",
       "| Peak &lt;chr&gt; | Gene &lt;chr&gt; | Mean &lt;dbl&gt; | Median &lt;dbl&gt; | Max &lt;dbl&gt; | Min &lt;dbl&gt; | Count &lt;int&gt; | Mean_Neg &lt;dbl&gt; | Mean_Pos &lt;dbl&gt; |\n",
       "|---|---|---|---|---|---|---|---|---|\n",
       "| chr11:33065336-33066228 | CAPRIN1 | -0.27343935 | -0.2533300 | 1.82911 | -2.32196 | 46 | -0.5695431 | 0.4782085 |\n",
       "| chr11:33065336-33066228 | CAT     | -0.01256696 | -0.1384765 | 1.43868 | -1.77410 | 46 | -0.5122241 | 0.6369873 |\n",
       "| chr11:33065336-33066228 | LMO2    |  0.03675483 | -0.0071000 | 1.09905 | -1.14702 | 46 | -0.4276747 | 0.5011843 |\n",
       "| chr11:33068519-33069100 | CAPRIN1 | -0.11785479 | -0.0847600 | 1.64429 | -2.01338 | 53 | -0.4252182 | 0.4797963 |\n",
       "| chr11:33068519-33069100 | CAT     | -0.15932204 | -0.1697360 | 2.12211 | -2.59035 | 53 | -0.6266582 | 0.6769637 |\n",
       "| chr11:33068519-33069100 | LMO2    | -0.08303026 | -0.1090310 | 2.73010 | -2.25265 | 53 | -0.5389359 | 0.5116293 |\n",
       "\n"
      ],
      "text/plain": [
       "  Peak                    Gene    Mean        Median     Max     Min      Count\n",
       "1 chr11:33065336-33066228 CAPRIN1 -0.27343935 -0.2533300 1.82911 -2.32196 46   \n",
       "2 chr11:33065336-33066228 CAT     -0.01256696 -0.1384765 1.43868 -1.77410 46   \n",
       "3 chr11:33065336-33066228 LMO2     0.03675483 -0.0071000 1.09905 -1.14702 46   \n",
       "4 chr11:33068519-33069100 CAPRIN1 -0.11785479 -0.0847600 1.64429 -2.01338 53   \n",
       "5 chr11:33068519-33069100 CAT     -0.15932204 -0.1697360 2.12211 -2.59035 53   \n",
       "6 chr11:33068519-33069100 LMO2    -0.08303026 -0.1090310 2.73010 -2.25265 53   \n",
       "  Mean_Neg   Mean_Pos \n",
       "1 -0.5695431 0.4782085\n",
       "2 -0.5122241 0.6369873\n",
       "3 -0.4276747 0.5011843\n",
       "4 -0.4252182 0.4797963\n",
       "5 -0.6266582 0.6769637\n",
       "6 -0.5389359 0.5116293"
      ]
     },
     "metadata": {},
     "output_type": "display_data"
    }
   ],
   "source": [
    "###\n",
    "dat = dat_peak_score_arrange\n",
    "dat = dat %>% dplyr::mutate(Sign  = ifelse(Score > 0, \"pos\", \"neg\"))\n",
    "\n",
    "###\n",
    "dat_summary_total = dat %>%\n",
    "    dplyr::group_by(Peak, Gene) %>%\n",
    "    dplyr::summarise(\n",
    "        Mean    = mean(Score),\n",
    "        Median  = median(Score),\n",
    "        Max     = max(Score),\n",
    "        Min     = min(Score),\n",
    "        Count   = n(),\n",
    "        .groups = \"drop\"\n",
    "    )\n",
    "\n",
    "###\n",
    "dat_summary_sign = dat %>%\n",
    "    dplyr::group_by(Peak, Gene, Sign) %>%\n",
    "    dplyr::summarise(Mean = mean(Score), .groups = \"drop\") %>% \n",
    "    dplyr::mutate(Sign = dplyr::recode(Sign, `pos` = \"Mean_Pos\", `neg` = \"Mean_Neg\")) %>% \n",
    "    tidyr::spread(Sign, Mean)\n",
    "\n",
    "###\n",
    "dat = dplyr::left_join(\n",
    "    dat_summary_total,\n",
    "    dat_summary_sign,\n",
    "    by = c(\"Peak\", \"Gene\")) %>% \n",
    "    replace(is.na(.), 0)\n",
    "\n",
    "dat_peak_score_summary = dat\n",
    "print(dim(dat))\n",
    "head(dat)"
   ]
  },
  {
   "cell_type": "code",
   "execution_count": 7,
   "metadata": {},
   "outputs": [
    {
     "name": "stdout",
     "output_type": "stream",
     "text": [
      "[1] 1330    6\n"
     ]
    },
    {
     "data": {
      "text/html": [
       "<table class=\"dataframe\">\n",
       "<caption>A tibble: 6 × 6</caption>\n",
       "<thead>\n",
       "\t<tr><th scope=col>Peak</th><th scope=col>Mean</th><th scope=col>Mean_Pos</th><th scope=col>Mean_Neg</th><th scope=col>Count</th><th scope=col>Note</th></tr>\n",
       "\t<tr><th scope=col>&lt;chr&gt;</th><th scope=col>&lt;dbl&gt;</th><th scope=col>&lt;dbl&gt;</th><th scope=col>&lt;dbl&gt;</th><th scope=col>&lt;int&gt;</th><th scope=col>&lt;chr&gt;</th></tr>\n",
       "</thead>\n",
       "<tbody>\n",
       "\t<tr><td>chr11:33065336-33066228</td><td>-0.08308383</td><td>0.03675483</td><td>-0.2734393</td><td>138</td><td>CAPRIN1:138|CAT:138|LMO2:138</td></tr>\n",
       "\t<tr><td>chr11:33068519-33069100</td><td>-0.12006903</td><td>0.00000000</td><td>-0.1593220</td><td>159</td><td>CAPRIN1:159|CAT:159|LMO2:159</td></tr>\n",
       "\t<tr><td>chr11:33072412-33072630</td><td> 0.10643558</td><td>0.35299267</td><td>-0.1982723</td><td> 36</td><td>CAPRIN1:36|CAT:36|LMO2:36   </td></tr>\n",
       "\t<tr><td>chr11:33103533-33104120</td><td> 0.98158422</td><td>1.44209600</td><td> 0.0000000</td><td>  9</td><td>CAPRIN1:9|CAT:9|LMO2:9      </td></tr>\n",
       "\t<tr><td>chr11:33114629-33115134</td><td> 0.22095793</td><td>0.42649733</td><td> 0.0000000</td><td> 27</td><td>CAPRIN1:27|CAT:27|LMO2:27   </td></tr>\n",
       "\t<tr><td>chr11:33125296-33126416</td><td>-0.05128921</td><td>0.04323581</td><td>-0.1542515</td><td>159</td><td>CAPRIN1:159|CAT:159|LMO2:159</td></tr>\n",
       "</tbody>\n",
       "</table>\n"
      ],
      "text/latex": [
       "A tibble: 6 × 6\n",
       "\\begin{tabular}{llllll}\n",
       " Peak & Mean & Mean\\_Pos & Mean\\_Neg & Count & Note\\\\\n",
       " <chr> & <dbl> & <dbl> & <dbl> & <int> & <chr>\\\\\n",
       "\\hline\n",
       "\t chr11:33065336-33066228 & -0.08308383 & 0.03675483 & -0.2734393 & 138 & CAPRIN1:138\\textbar{}CAT:138\\textbar{}LMO2:138\\\\\n",
       "\t chr11:33068519-33069100 & -0.12006903 & 0.00000000 & -0.1593220 & 159 & CAPRIN1:159\\textbar{}CAT:159\\textbar{}LMO2:159\\\\\n",
       "\t chr11:33072412-33072630 &  0.10643558 & 0.35299267 & -0.1982723 &  36 & CAPRIN1:36\\textbar{}CAT:36\\textbar{}LMO2:36   \\\\\n",
       "\t chr11:33103533-33104120 &  0.98158422 & 1.44209600 &  0.0000000 &   9 & CAPRIN1:9\\textbar{}CAT:9\\textbar{}LMO2:9      \\\\\n",
       "\t chr11:33114629-33115134 &  0.22095793 & 0.42649733 &  0.0000000 &  27 & CAPRIN1:27\\textbar{}CAT:27\\textbar{}LMO2:27   \\\\\n",
       "\t chr11:33125296-33126416 & -0.05128921 & 0.04323581 & -0.1542515 & 159 & CAPRIN1:159\\textbar{}CAT:159\\textbar{}LMO2:159\\\\\n",
       "\\end{tabular}\n"
      ],
      "text/markdown": [
       "\n",
       "A tibble: 6 × 6\n",
       "\n",
       "| Peak &lt;chr&gt; | Mean &lt;dbl&gt; | Mean_Pos &lt;dbl&gt; | Mean_Neg &lt;dbl&gt; | Count &lt;int&gt; | Note &lt;chr&gt; |\n",
       "|---|---|---|---|---|---|\n",
       "| chr11:33065336-33066228 | -0.08308383 | 0.03675483 | -0.2734393 | 138 | CAPRIN1:138|CAT:138|LMO2:138 |\n",
       "| chr11:33068519-33069100 | -0.12006903 | 0.00000000 | -0.1593220 | 159 | CAPRIN1:159|CAT:159|LMO2:159 |\n",
       "| chr11:33072412-33072630 |  0.10643558 | 0.35299267 | -0.1982723 |  36 | CAPRIN1:36|CAT:36|LMO2:36    |\n",
       "| chr11:33103533-33104120 |  0.98158422 | 1.44209600 |  0.0000000 |   9 | CAPRIN1:9|CAT:9|LMO2:9       |\n",
       "| chr11:33114629-33115134 |  0.22095793 | 0.42649733 |  0.0000000 |  27 | CAPRIN1:27|CAT:27|LMO2:27    |\n",
       "| chr11:33125296-33126416 | -0.05128921 | 0.04323581 | -0.1542515 | 159 | CAPRIN1:159|CAT:159|LMO2:159 |\n",
       "\n"
      ],
      "text/plain": [
       "  Peak                    Mean        Mean_Pos   Mean_Neg   Count\n",
       "1 chr11:33065336-33066228 -0.08308383 0.03675483 -0.2734393 138  \n",
       "2 chr11:33068519-33069100 -0.12006903 0.00000000 -0.1593220 159  \n",
       "3 chr11:33072412-33072630  0.10643558 0.35299267 -0.1982723  36  \n",
       "4 chr11:33103533-33104120  0.98158422 1.44209600  0.0000000   9  \n",
       "5 chr11:33114629-33115134  0.22095793 0.42649733  0.0000000  27  \n",
       "6 chr11:33125296-33126416 -0.05128921 0.04323581 -0.1542515 159  \n",
       "  Note                        \n",
       "1 CAPRIN1:138|CAT:138|LMO2:138\n",
       "2 CAPRIN1:159|CAT:159|LMO2:159\n",
       "3 CAPRIN1:36|CAT:36|LMO2:36   \n",
       "4 CAPRIN1:9|CAT:9|LMO2:9      \n",
       "5 CAPRIN1:27|CAT:27|LMO2:27   \n",
       "6 CAPRIN1:159|CAT:159|LMO2:159"
      ]
     },
     "metadata": {},
     "output_type": "display_data"
    }
   ],
   "source": [
    "dat = dat_peak_score_summary\n",
    "dat = dat %>% \n",
    "    dplyr::group_by(Peak) %>%\n",
    "    dplyr::summarize(\n",
    "        Mean_Tot = mean(Mean),\n",
    "        Mean_Pos = max(Mean, 0),\n",
    "        Mean_Neg = min(Mean, 0),\n",
    "        Count    = sum(Count),\n",
    "        Note     = paste(Gene, Count, sep=\":\", collapse=\"|\"),\n",
    "        .groups  = \"drop\"\n",
    "    ) %>%\n",
    "    dplyr::rename(\"Mean\" = \"Mean_Tot\")\n",
    "\n",
    "dat_peak_score_summary_merge = dat\n",
    "print(dim(dat))\n",
    "head(dat)"
   ]
  },
  {
   "cell_type": "code",
   "execution_count": 8,
   "metadata": {},
   "outputs": [
    {
     "data": {
      "image/png": "[encoded data removed]",
      "text/plain": [
       "plot without title"
      ]
     },
     "metadata": {
      "image/png": {
       "height": 420,
       "width": 420
      }
     },
     "output_type": "display_data"
    }
   ],
   "source": [
    "dat = dat_peak_score_summary\n",
    "gpt = ggplot(dat, aes(x=Count)) + \n",
    "    geom_histogram(bins = 50) + \n",
    "    labs(y=\"#Guides / Region\") +\n",
    "    theme_cowplot()\n",
    "print(gpt)"
   ]
  },
  {
   "cell_type": "markdown",
   "metadata": {},
   "source": [
    "## Save results"
   ]
  },
  {
   "cell_type": "code",
   "execution_count": 9,
   "metadata": {},
   "outputs": [],
   "source": [
    "fdiry = file.path(FD_RES, \"results\", ASSAY, FOLDER, \"summary\")\n",
    "fname = \"results.score.tsv\"\n",
    "fpath = file.path(fdiry, fname)\n",
    "\n",
    "dat = dat_peak_score_arrange\n",
    "write_tsv(dat, fpath)"
   ]
  },
  {
   "cell_type": "code",
   "execution_count": 10,
   "metadata": {},
   "outputs": [],
   "source": [
    "fdiry = file.path(FD_RES, \"results\", ASSAY, FOLDER, \"summary\")\n",
    "fname = \"results.summary.tsv\"\n",
    "fpath = file.path(fdiry, fname)\n",
    "\n",
    "dat = dat_peak_score_summary\n",
    "write_tsv(dat, fpath)"
   ]
  },
  {
   "cell_type": "code",
   "execution_count": 11,
   "metadata": {},
   "outputs": [],
   "source": [
    "fdiry = file.path(FD_RES, \"results\", ASSAY, FOLDER, \"summary\")\n",
    "fname = \"results.summary.Merge.tsv\"\n",
    "fpath = file.path(fdiry, fname)\n",
    "\n",
    "dat = dat_peak_score_summary_merge\n",
    "write_tsv(dat, fpath)"
   ]
  },
  {
   "cell_type": "code",
   "execution_count": null,
   "metadata": {},
   "outputs": [],
   "source": []
  }
 ],
 "metadata": {
  "kernelspec": {
   "display_name": "R",
   "language": "R",
   "name": "ir"
  },
  "language_info": {
   "codemirror_mode": "r",
   "file_extension": ".r",
   "mimetype": "text/x-r-source",
   "name": "R",
   "pygments_lexer": "r",
   "version": "4.3.1"
  }
 },
 "nbformat": 4,
 "nbformat_minor": 4
}
