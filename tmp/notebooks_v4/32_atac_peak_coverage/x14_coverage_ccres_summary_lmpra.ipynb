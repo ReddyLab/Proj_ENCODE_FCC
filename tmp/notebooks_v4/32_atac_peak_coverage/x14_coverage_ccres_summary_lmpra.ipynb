{
 "cells": [
  {
   "cell_type": "markdown",
   "id": "73949ceb-5582-4060-ae55-bbd37e327706",
   "metadata": {},
   "source": [
    "**Set environment**"
   ]
  },
  {
   "cell_type": "code",
   "execution_count": 11,
   "id": "0af2f809-c859-4338-bad2-c6e0aa68b89c",
   "metadata": {},
   "outputs": [
    {
     "name": "stdout",
     "output_type": "stream",
     "text": [
      "You are in Singularity: singularity_proj_encode_fcc \n",
      "BASE DIRECTORY (FD_BASE): /data/reddylab/Kuei \n",
      "WORK DIRECTORY (FD_WORK): /data/reddylab/Kuei/out \n",
      "CODE DIRECTORY (FD_CODE): /data/reddylab/Kuei/code \n",
      "PATH OF PROJECT (FD_PRJ): /data/reddylab/Kuei/code/Proj_CombEffect_ENCODE_FCC \n",
      "PATH OF RESULTS (FD_RES): /data/reddylab/Kuei/out/proj_combeffect_encode_fcc \n",
      "PATH OF LOG     (FD_LOG): /data/reddylab/Kuei/out/proj_combeffect_encode_fcc/log \n"
     ]
    }
   ],
   "source": [
    "suppressMessages(suppressWarnings(source(\"../config/config_sing.R\")))\n",
    "show_env()"
   ]
  },
  {
   "cell_type": "markdown",
   "id": "3d0c65af-fadf-40ea-8a72-a74fd13f73db",
   "metadata": {},
   "source": [
    "## Import data"
   ]
  },
  {
   "cell_type": "code",
   "execution_count": 12,
   "id": "83c9a757-85b1-40e0-b236-7451e423334b",
   "metadata": {},
   "outputs": [
    {
     "data": {
      "text/html": [
       "<table class=\"dataframe\">\n",
       "<caption>A spec_tbl_df: 11 × 2</caption>\n",
       "<thead>\n",
       "\t<tr><th scope=col>Name</th><th scope=col>Description</th></tr>\n",
       "\t<tr><th scope=col>&lt;chr&gt;</th><th scope=col>&lt;chr&gt;</th></tr>\n",
       "</thead>\n",
       "<tbody>\n",
       "\t<tr><td>Chrom     </td><td>Chromosome                                                 </td></tr>\n",
       "\t<tr><td>Start     </td><td>Start position                                             </td></tr>\n",
       "\t<tr><td>End       </td><td>End position                                               </td></tr>\n",
       "\t<tr><td>Name      </td><td>Name                                                       </td></tr>\n",
       "\t<tr><td>Score     </td><td>Score                                                      </td></tr>\n",
       "\t<tr><td>Strand    </td><td>[+-.]; Use '.' if no strand is assigned.                   </td></tr>\n",
       "\t<tr><td>ThickStart</td><td>The starting position at which the feature is drawn thickly</td></tr>\n",
       "\t<tr><td>ThickEnd  </td><td>The ending position at which the feature is drawn thickly  </td></tr>\n",
       "\t<tr><td>ItemRgb   </td><td>An RGB value of the form R,G,B (e.g. 255,0,0)              </td></tr>\n",
       "\t<tr><td>Category  </td><td>Label of cCREs type                                        </td></tr>\n",
       "\t<tr><td>Note      </td><td>Description                                                </td></tr>\n",
       "</tbody>\n",
       "</table>\n"
      ],
      "text/latex": [
       "A spec\\_tbl\\_df: 11 × 2\n",
       "\\begin{tabular}{ll}\n",
       " Name & Description\\\\\n",
       " <chr> & <chr>\\\\\n",
       "\\hline\n",
       "\t Chrom      & Chromosome                                                 \\\\\n",
       "\t Start      & Start position                                             \\\\\n",
       "\t End        & End position                                               \\\\\n",
       "\t Name       & Name                                                       \\\\\n",
       "\t Score      & Score                                                      \\\\\n",
       "\t Strand     & {[}+-.{]}; Use '.' if no strand is assigned.                   \\\\\n",
       "\t ThickStart & The starting position at which the feature is drawn thickly\\\\\n",
       "\t ThickEnd   & The ending position at which the feature is drawn thickly  \\\\\n",
       "\t ItemRgb    & An RGB value of the form R,G,B (e.g. 255,0,0)              \\\\\n",
       "\t Category   & Label of cCREs type                                        \\\\\n",
       "\t Note       & Description                                                \\\\\n",
       "\\end{tabular}\n"
      ],
      "text/markdown": [
       "\n",
       "A spec_tbl_df: 11 × 2\n",
       "\n",
       "| Name &lt;chr&gt; | Description &lt;chr&gt; |\n",
       "|---|---|\n",
       "| Chrom      | Chromosome                                                  |\n",
       "| Start      | Start position                                              |\n",
       "| End        | End position                                                |\n",
       "| Name       | Name                                                        |\n",
       "| Score      | Score                                                       |\n",
       "| Strand     | [+-.]; Use '.' if no strand is assigned.                    |\n",
       "| ThickStart | The starting position at which the feature is drawn thickly |\n",
       "| ThickEnd   | The ending position at which the feature is drawn thickly   |\n",
       "| ItemRgb    | An RGB value of the form R,G,B (e.g. 255,0,0)               |\n",
       "| Category   | Label of cCREs type                                         |\n",
       "| Note       | Description                                                 |\n",
       "\n"
      ],
      "text/plain": [
       "   Name       Description                                                \n",
       "1  Chrom      Chromosome                                                 \n",
       "2  Start      Start position                                             \n",
       "3  End        End position                                               \n",
       "4  Name       Name                                                       \n",
       "5  Score      Score                                                      \n",
       "6  Strand     [+-.]; Use '.' if no strand is assigned.                   \n",
       "7  ThickStart The starting position at which the feature is drawn thickly\n",
       "8  ThickEnd   The ending position at which the feature is drawn thickly  \n",
       "9  ItemRgb    An RGB value of the form R,G,B (e.g. 255,0,0)              \n",
       "10 Category   Label of cCREs type                                        \n",
       "11 Note       Description                                                "
      ]
     },
     "metadata": {},
     "output_type": "display_data"
    }
   ],
   "source": [
    "fdiry = file.path(FD_RES, \"results\", \"region\", \"annotation_ccres\")\n",
    "fname = \"description.tsv\"\n",
    "fpath = file.path(fdiry, fname)\n",
    "\n",
    "dat = read_tsv(fpath, show_col_types = FALSE)\n",
    "vec = dat$Name\n",
    "\n",
    "vec_txt_cnames1 = vec\n",
    "IRdisplay::display(dat)"
   ]
  },
  {
   "cell_type": "code",
   "execution_count": 13,
   "id": "73e6283d-2f2e-499f-9dda-760f928a4f83",
   "metadata": {},
   "outputs": [
    {
     "data": {
      "text/html": [
       "<table class=\"dataframe\">\n",
       "<caption>A spec_tbl_df: 15 × 2</caption>\n",
       "<thead>\n",
       "\t<tr><th scope=col>Name</th><th scope=col>Description</th></tr>\n",
       "\t<tr><th scope=col>&lt;chr&gt;</th><th scope=col>&lt;chr&gt;</th></tr>\n",
       "</thead>\n",
       "<tbody>\n",
       "\t<tr><td>Chrom      </td><td>Chromosome                                                              </td></tr>\n",
       "\t<tr><td>Start      </td><td>Start position                                                          </td></tr>\n",
       "\t<tr><td>End        </td><td>End position                                                            </td></tr>\n",
       "\t<tr><td>Name       </td><td>Site name                                                               </td></tr>\n",
       "\t<tr><td>Score      </td><td>Score (NULL)                                                            </td></tr>\n",
       "\t<tr><td>Strand     </td><td>Strand                                                                  </td></tr>\n",
       "\t<tr><td>Category   </td><td>Site property (potential enhancer/promoter or postive/negative controls)</td></tr>\n",
       "\t<tr><td>Log2FC_Rep1</td><td>Log2FoldChange of replicate 1                                           </td></tr>\n",
       "\t<tr><td>Log2FC_Rep2</td><td>Log2FoldChange of replicate 2                                           </td></tr>\n",
       "\t<tr><td>Log2FC_Rep3</td><td>Log2FoldChange of replicate 3                                           </td></tr>\n",
       "\t<tr><td>Log2FC_Mean</td><td>Log2FoldChange mean                                                     </td></tr>\n",
       "\t<tr><td>ZScore_Rep1</td><td>Z score of Log2FC (Rep1) wpt negative shuffled controls                 </td></tr>\n",
       "\t<tr><td>ZScore_Rep2</td><td>Z score of Log2FC (Rep2) wpt negative shuffled controls                 </td></tr>\n",
       "\t<tr><td>ZScore_Rep3</td><td>Z score of Log2FC (Rep3) wpt negative shuffled controls                 </td></tr>\n",
       "\t<tr><td>ZScore_Mean</td><td>Z score of Log2FC (Mean) wpt negative shuffled controls                 </td></tr>\n",
       "</tbody>\n",
       "</table>\n"
      ],
      "text/latex": [
       "A spec\\_tbl\\_df: 15 × 2\n",
       "\\begin{tabular}{ll}\n",
       " Name & Description\\\\\n",
       " <chr> & <chr>\\\\\n",
       "\\hline\n",
       "\t Chrom       & Chromosome                                                              \\\\\n",
       "\t Start       & Start position                                                          \\\\\n",
       "\t End         & End position                                                            \\\\\n",
       "\t Name        & Site name                                                               \\\\\n",
       "\t Score       & Score (NULL)                                                            \\\\\n",
       "\t Strand      & Strand                                                                  \\\\\n",
       "\t Category    & Site property (potential enhancer/promoter or postive/negative controls)\\\\\n",
       "\t Log2FC\\_Rep1 & Log2FoldChange of replicate 1                                           \\\\\n",
       "\t Log2FC\\_Rep2 & Log2FoldChange of replicate 2                                           \\\\\n",
       "\t Log2FC\\_Rep3 & Log2FoldChange of replicate 3                                           \\\\\n",
       "\t Log2FC\\_Mean & Log2FoldChange mean                                                     \\\\\n",
       "\t ZScore\\_Rep1 & Z score of Log2FC (Rep1) wpt negative shuffled controls                 \\\\\n",
       "\t ZScore\\_Rep2 & Z score of Log2FC (Rep2) wpt negative shuffled controls                 \\\\\n",
       "\t ZScore\\_Rep3 & Z score of Log2FC (Rep3) wpt negative shuffled controls                 \\\\\n",
       "\t ZScore\\_Mean & Z score of Log2FC (Mean) wpt negative shuffled controls                 \\\\\n",
       "\\end{tabular}\n"
      ],
      "text/markdown": [
       "\n",
       "A spec_tbl_df: 15 × 2\n",
       "\n",
       "| Name &lt;chr&gt; | Description &lt;chr&gt; |\n",
       "|---|---|\n",
       "| Chrom       | Chromosome                                                               |\n",
       "| Start       | Start position                                                           |\n",
       "| End         | End position                                                             |\n",
       "| Name        | Site name                                                                |\n",
       "| Score       | Score (NULL)                                                             |\n",
       "| Strand      | Strand                                                                   |\n",
       "| Category    | Site property (potential enhancer/promoter or postive/negative controls) |\n",
       "| Log2FC_Rep1 | Log2FoldChange of replicate 1                                            |\n",
       "| Log2FC_Rep2 | Log2FoldChange of replicate 2                                            |\n",
       "| Log2FC_Rep3 | Log2FoldChange of replicate 3                                            |\n",
       "| Log2FC_Mean | Log2FoldChange mean                                                      |\n",
       "| ZScore_Rep1 | Z score of Log2FC (Rep1) wpt negative shuffled controls                  |\n",
       "| ZScore_Rep2 | Z score of Log2FC (Rep2) wpt negative shuffled controls                  |\n",
       "| ZScore_Rep3 | Z score of Log2FC (Rep3) wpt negative shuffled controls                  |\n",
       "| ZScore_Mean | Z score of Log2FC (Mean) wpt negative shuffled controls                  |\n",
       "\n"
      ],
      "text/plain": [
       "   Name       \n",
       "1  Chrom      \n",
       "2  Start      \n",
       "3  End        \n",
       "4  Name       \n",
       "5  Score      \n",
       "6  Strand     \n",
       "7  Category   \n",
       "8  Log2FC_Rep1\n",
       "9  Log2FC_Rep2\n",
       "10 Log2FC_Rep3\n",
       "11 Log2FC_Mean\n",
       "12 ZScore_Rep1\n",
       "13 ZScore_Rep2\n",
       "14 ZScore_Rep3\n",
       "15 ZScore_Mean\n",
       "   Description                                                             \n",
       "1  Chromosome                                                              \n",
       "2  Start position                                                          \n",
       "3  End position                                                            \n",
       "4  Site name                                                               \n",
       "5  Score (NULL)                                                            \n",
       "6  Strand                                                                  \n",
       "7  Site property (potential enhancer/promoter or postive/negative controls)\n",
       "8  Log2FoldChange of replicate 1                                           \n",
       "9  Log2FoldChange of replicate 2                                           \n",
       "10 Log2FoldChange of replicate 3                                           \n",
       "11 Log2FoldChange mean                                                     \n",
       "12 Z score of Log2FC (Rep1) wpt negative shuffled controls                 \n",
       "13 Z score of Log2FC (Rep2) wpt negative shuffled controls                 \n",
       "14 Z score of Log2FC (Rep3) wpt negative shuffled controls                 \n",
       "15 Z score of Log2FC (Mean) wpt negative shuffled controls                 "
      ]
     },
     "metadata": {},
     "output_type": "display_data"
    }
   ],
   "source": [
    "ASSAY   = \"LentiMPRA_K562_Nadav\"\n",
    "FOLDER  = \"coverage\"\n",
    "\n",
    "fdiry = file.path(FD_RES, \"results\", ASSAY, FOLDER)\n",
    "fname = \"description.vikram230621.tsv\"\n",
    "fpath = file.path(fdiry, fname)\n",
    "\n",
    "dat = read_tsv(fpath, show_col_types = FALSE)\n",
    "vec = dat$Name\n",
    "\n",
    "vec_txt_cnames2 = vec\n",
    "IRdisplay::display(dat)"
   ]
  },
  {
   "cell_type": "code",
   "execution_count": 21,
   "id": "ee7d6935-2a5f-4440-9492-c9b32c23ac16",
   "metadata": {},
   "outputs": [
    {
     "name": "stdout",
     "output_type": "stream",
     "text": [
      "[1] 221890     27\n"
     ]
    },
    {
     "data": {
      "text/html": [
       "<table class=\"dataframe\">\n",
       "<caption>A tibble: 6 × 27</caption>\n",
       "<thead>\n",
       "\t<tr><th scope=col>Chrom_A</th><th scope=col>Start_A</th><th scope=col>End_A</th><th scope=col>Name_A</th><th scope=col>Score_A</th><th scope=col>Strand_A</th><th scope=col>ThickStart_A</th><th scope=col>ThickEnd_A</th><th scope=col>ItemRgb_A</th><th scope=col>Category_A</th><th scope=col>⋯</th><th scope=col>Category_B</th><th scope=col>Log2FC_Rep1_B</th><th scope=col>Log2FC_Rep2_B</th><th scope=col>Log2FC_Rep3_B</th><th scope=col>Log2FC_Mean_B</th><th scope=col>ZScore_Rep1_B</th><th scope=col>ZScore_Rep2_B</th><th scope=col>ZScore_Rep3_B</th><th scope=col>ZScore_Mean_B</th><th scope=col>Overlap</th></tr>\n",
       "\t<tr><th scope=col>&lt;chr&gt;</th><th scope=col>&lt;dbl&gt;</th><th scope=col>&lt;dbl&gt;</th><th scope=col>&lt;chr&gt;</th><th scope=col>&lt;dbl&gt;</th><th scope=col>&lt;chr&gt;</th><th scope=col>&lt;dbl&gt;</th><th scope=col>&lt;dbl&gt;</th><th scope=col>&lt;chr&gt;</th><th scope=col>&lt;chr&gt;</th><th scope=col>⋯</th><th scope=col>&lt;chr&gt;</th><th scope=col>&lt;dbl&gt;</th><th scope=col>&lt;dbl&gt;</th><th scope=col>&lt;dbl&gt;</th><th scope=col>&lt;dbl&gt;</th><th scope=col>&lt;dbl&gt;</th><th scope=col>&lt;dbl&gt;</th><th scope=col>&lt;dbl&gt;</th><th scope=col>&lt;dbl&gt;</th><th scope=col>&lt;dbl&gt;</th></tr>\n",
       "</thead>\n",
       "<tbody>\n",
       "\t<tr><td>chr1</td><td>115562</td><td>115912</td><td>EH38E3951280</td><td>0</td><td>.</td><td>115562</td><td>115912</td><td>0,176,240</td><td>CA-CTCF</td><td>⋯</td><td>potential enhancer</td><td> 0.138</td><td>-0.044</td><td> 0.025</td><td> 0.040</td><td>2.4069026</td><td> 1.7461277</td><td> 1.9966413</td><td> 2.05110076</td><td>200</td></tr>\n",
       "\t<tr><td>chr1</td><td>138917</td><td>139112</td><td>EH38E3951286</td><td>0</td><td>.</td><td>138917</td><td>139112</td><td>255,167,0</td><td>pELS   </td><td>⋯</td><td>potential enhancer</td><td>-0.370</td><td> 0.330</td><td>-0.261</td><td>-0.101</td><td>0.5625420</td><td> 3.1039838</td><td> 0.9582808</td><td> 1.53918178</td><td>172</td></tr>\n",
       "\t<tr><td>chr1</td><td>138917</td><td>139112</td><td>EH38E3951286</td><td>0</td><td>.</td><td>138917</td><td>139112</td><td>255,167,0</td><td>pELS   </td><td>⋯</td><td>potential enhancer</td><td>-0.245</td><td>-0.609</td><td>-0.775</td><td>-0.543</td><td>1.0163709</td><td>-0.3051788</td><td>-0.9078635</td><td>-0.06555714</td><td>172</td></tr>\n",
       "\t<tr><td>chr1</td><td>267925</td><td>268171</td><td>EH38E2776528</td><td>0</td><td>.</td><td>267925</td><td>268171</td><td>0,176,240</td><td>CA-CTCF</td><td>⋯</td><td>potential enhancer</td><td>-0.438</td><td>-1.087</td><td>-1.375</td><td>-0.967</td><td>0.3156591</td><td>-2.0406204</td><td>-3.0862422</td><td>-1.60494471</td><td>186</td></tr>\n",
       "\t<tr><td>chr1</td><td>267925</td><td>268171</td><td>EH38E2776528</td><td>0</td><td>.</td><td>267925</td><td>268171</td><td>0,176,240</td><td>CA-CTCF</td><td>⋯</td><td>potential enhancer</td><td> 0.220</td><td> 0.302</td><td> 0.152</td><td> 0.225</td><td>2.7046143</td><td> 3.0023261</td><td> 2.4577314</td><td> 2.72276750</td><td>186</td></tr>\n",
       "\t<tr><td>chr1</td><td>586036</td><td>586264</td><td>EH38E2776532</td><td>0</td><td>.</td><td>586036</td><td>586264</td><td>0,176,240</td><td>CA-CTCF</td><td>⋯</td><td>potential enhancer</td><td>-0.245</td><td>-0.879</td><td>-0.199</td><td>-0.441</td><td>1.0163709</td><td>-1.2854492</td><td> 1.1833799</td><td> 0.30476722</td><td>171</td></tr>\n",
       "</tbody>\n",
       "</table>\n"
      ],
      "text/latex": [
       "A tibble: 6 × 27\n",
       "\\begin{tabular}{lllllllllllllllllllll}\n",
       " Chrom\\_A & Start\\_A & End\\_A & Name\\_A & Score\\_A & Strand\\_A & ThickStart\\_A & ThickEnd\\_A & ItemRgb\\_A & Category\\_A & ⋯ & Category\\_B & Log2FC\\_Rep1\\_B & Log2FC\\_Rep2\\_B & Log2FC\\_Rep3\\_B & Log2FC\\_Mean\\_B & ZScore\\_Rep1\\_B & ZScore\\_Rep2\\_B & ZScore\\_Rep3\\_B & ZScore\\_Mean\\_B & Overlap\\\\\n",
       " <chr> & <dbl> & <dbl> & <chr> & <dbl> & <chr> & <dbl> & <dbl> & <chr> & <chr> & ⋯ & <chr> & <dbl> & <dbl> & <dbl> & <dbl> & <dbl> & <dbl> & <dbl> & <dbl> & <dbl>\\\\\n",
       "\\hline\n",
       "\t chr1 & 115562 & 115912 & EH38E3951280 & 0 & . & 115562 & 115912 & 0,176,240 & CA-CTCF & ⋯ & potential enhancer &  0.138 & -0.044 &  0.025 &  0.040 & 2.4069026 &  1.7461277 &  1.9966413 &  2.05110076 & 200\\\\\n",
       "\t chr1 & 138917 & 139112 & EH38E3951286 & 0 & . & 138917 & 139112 & 255,167,0 & pELS    & ⋯ & potential enhancer & -0.370 &  0.330 & -0.261 & -0.101 & 0.5625420 &  3.1039838 &  0.9582808 &  1.53918178 & 172\\\\\n",
       "\t chr1 & 138917 & 139112 & EH38E3951286 & 0 & . & 138917 & 139112 & 255,167,0 & pELS    & ⋯ & potential enhancer & -0.245 & -0.609 & -0.775 & -0.543 & 1.0163709 & -0.3051788 & -0.9078635 & -0.06555714 & 172\\\\\n",
       "\t chr1 & 267925 & 268171 & EH38E2776528 & 0 & . & 267925 & 268171 & 0,176,240 & CA-CTCF & ⋯ & potential enhancer & -0.438 & -1.087 & -1.375 & -0.967 & 0.3156591 & -2.0406204 & -3.0862422 & -1.60494471 & 186\\\\\n",
       "\t chr1 & 267925 & 268171 & EH38E2776528 & 0 & . & 267925 & 268171 & 0,176,240 & CA-CTCF & ⋯ & potential enhancer &  0.220 &  0.302 &  0.152 &  0.225 & 2.7046143 &  3.0023261 &  2.4577314 &  2.72276750 & 186\\\\\n",
       "\t chr1 & 586036 & 586264 & EH38E2776532 & 0 & . & 586036 & 586264 & 0,176,240 & CA-CTCF & ⋯ & potential enhancer & -0.245 & -0.879 & -0.199 & -0.441 & 1.0163709 & -1.2854492 &  1.1833799 &  0.30476722 & 171\\\\\n",
       "\\end{tabular}\n"
      ],
      "text/markdown": [
       "\n",
       "A tibble: 6 × 27\n",
       "\n",
       "| Chrom_A &lt;chr&gt; | Start_A &lt;dbl&gt; | End_A &lt;dbl&gt; | Name_A &lt;chr&gt; | Score_A &lt;dbl&gt; | Strand_A &lt;chr&gt; | ThickStart_A &lt;dbl&gt; | ThickEnd_A &lt;dbl&gt; | ItemRgb_A &lt;chr&gt; | Category_A &lt;chr&gt; | ⋯ ⋯ | Category_B &lt;chr&gt; | Log2FC_Rep1_B &lt;dbl&gt; | Log2FC_Rep2_B &lt;dbl&gt; | Log2FC_Rep3_B &lt;dbl&gt; | Log2FC_Mean_B &lt;dbl&gt; | ZScore_Rep1_B &lt;dbl&gt; | ZScore_Rep2_B &lt;dbl&gt; | ZScore_Rep3_B &lt;dbl&gt; | ZScore_Mean_B &lt;dbl&gt; | Overlap &lt;dbl&gt; |\n",
       "|---|---|---|---|---|---|---|---|---|---|---|---|---|---|---|---|---|---|---|---|---|\n",
       "| chr1 | 115562 | 115912 | EH38E3951280 | 0 | . | 115562 | 115912 | 0,176,240 | CA-CTCF | ⋯ | potential enhancer |  0.138 | -0.044 |  0.025 |  0.040 | 2.4069026 |  1.7461277 |  1.9966413 |  2.05110076 | 200 |\n",
       "| chr1 | 138917 | 139112 | EH38E3951286 | 0 | . | 138917 | 139112 | 255,167,0 | pELS    | ⋯ | potential enhancer | -0.370 |  0.330 | -0.261 | -0.101 | 0.5625420 |  3.1039838 |  0.9582808 |  1.53918178 | 172 |\n",
       "| chr1 | 138917 | 139112 | EH38E3951286 | 0 | . | 138917 | 139112 | 255,167,0 | pELS    | ⋯ | potential enhancer | -0.245 | -0.609 | -0.775 | -0.543 | 1.0163709 | -0.3051788 | -0.9078635 | -0.06555714 | 172 |\n",
       "| chr1 | 267925 | 268171 | EH38E2776528 | 0 | . | 267925 | 268171 | 0,176,240 | CA-CTCF | ⋯ | potential enhancer | -0.438 | -1.087 | -1.375 | -0.967 | 0.3156591 | -2.0406204 | -3.0862422 | -1.60494471 | 186 |\n",
       "| chr1 | 267925 | 268171 | EH38E2776528 | 0 | . | 267925 | 268171 | 0,176,240 | CA-CTCF | ⋯ | potential enhancer |  0.220 |  0.302 |  0.152 |  0.225 | 2.7046143 |  3.0023261 |  2.4577314 |  2.72276750 | 186 |\n",
       "| chr1 | 586036 | 586264 | EH38E2776532 | 0 | . | 586036 | 586264 | 0,176,240 | CA-CTCF | ⋯ | potential enhancer | -0.245 | -0.879 | -0.199 | -0.441 | 1.0163709 | -1.2854492 |  1.1833799 |  0.30476722 | 171 |\n",
       "\n"
      ],
      "text/plain": [
       "  Chrom_A Start_A End_A  Name_A       Score_A Strand_A ThickStart_A ThickEnd_A\n",
       "1 chr1    115562  115912 EH38E3951280 0       .        115562       115912    \n",
       "2 chr1    138917  139112 EH38E3951286 0       .        138917       139112    \n",
       "3 chr1    138917  139112 EH38E3951286 0       .        138917       139112    \n",
       "4 chr1    267925  268171 EH38E2776528 0       .        267925       268171    \n",
       "5 chr1    267925  268171 EH38E2776528 0       .        267925       268171    \n",
       "6 chr1    586036  586264 EH38E2776532 0       .        586036       586264    \n",
       "  ItemRgb_A Category_A ⋯ Category_B         Log2FC_Rep1_B Log2FC_Rep2_B\n",
       "1 0,176,240 CA-CTCF    ⋯ potential enhancer  0.138        -0.044       \n",
       "2 255,167,0 pELS       ⋯ potential enhancer -0.370         0.330       \n",
       "3 255,167,0 pELS       ⋯ potential enhancer -0.245        -0.609       \n",
       "4 0,176,240 CA-CTCF    ⋯ potential enhancer -0.438        -1.087       \n",
       "5 0,176,240 CA-CTCF    ⋯ potential enhancer  0.220         0.302       \n",
       "6 0,176,240 CA-CTCF    ⋯ potential enhancer -0.245        -0.879       \n",
       "  Log2FC_Rep3_B Log2FC_Mean_B ZScore_Rep1_B ZScore_Rep2_B ZScore_Rep3_B\n",
       "1  0.025         0.040        2.4069026      1.7461277     1.9966413   \n",
       "2 -0.261        -0.101        0.5625420      3.1039838     0.9582808   \n",
       "3 -0.775        -0.543        1.0163709     -0.3051788    -0.9078635   \n",
       "4 -1.375        -0.967        0.3156591     -2.0406204    -3.0862422   \n",
       "5  0.152         0.225        2.7046143      3.0023261     2.4577314   \n",
       "6 -0.199        -0.441        1.0163709     -1.2854492     1.1833799   \n",
       "  ZScore_Mean_B Overlap\n",
       "1  2.05110076   200    \n",
       "2  1.53918178   172    \n",
       "3 -0.06555714   172    \n",
       "4 -1.60494471   186    \n",
       "5  2.72276750   186    \n",
       "6  0.30476722   171    "
      ]
     },
     "metadata": {},
     "output_type": "display_data"
    }
   ],
   "source": [
    "ASSAY   = \"LentiMPRA_K562_Nadav\"\n",
    "FOLDER  = \"coverage_ccres_v4\"\n",
    "\n",
    "fdiry = file.path(FD_RES, \"results\", ASSAY, FOLDER)\n",
    "fname = \"K562.vikram230621.LMPRA.stranded.bed.gz\"\n",
    "fpath = file.path(fdiry, fname)\n",
    "\n",
    "vec1 = vec_txt_cnames1\n",
    "vec1 = paste0(vec1, \"_A\")\n",
    "\n",
    "vec2 = vec_txt_cnames2\n",
    "vec2 = paste0(vec2, \"_B\")\n",
    "\n",
    "vec_txt_cnames = c(vec1, vec2, \"Overlap\")\n",
    "\n",
    "dat = read_tsv(fpath, col_names = vec_txt_cnames, show_col_types = FALSE)\n",
    "\n",
    "dat_peak_score_import = dat\n",
    "print(dim(dat))\n",
    "head(dat)"
   ]
  },
  {
   "cell_type": "code",
   "execution_count": 40,
   "id": "60a52073-2be6-431d-8a57-7b5f539d14ac",
   "metadata": {},
   "outputs": [
    {
     "name": "stderr",
     "output_type": "stream",
     "text": [
      "\u001b[1mRows: \u001b[22m\u001b[34m0\u001b[39m \u001b[1mColumns: \u001b[22m\u001b[34m0\u001b[39m\n",
      "\n",
      "\u001b[36mℹ\u001b[39m Use `spec()` to retrieve the full column specification for this data.\n",
      "\u001b[36mℹ\u001b[39m Specify the column types or set `show_col_types = FALSE` to quiet this message.\n"
     ]
    },
    {
     "data": {
      "text/html": [],
      "text/latex": [],
      "text/markdown": [],
      "text/plain": [
       "<0 x 0 matrix>"
      ]
     },
     "metadata": {},
     "output_type": "display_data"
    }
   ],
   "source": [
    "fpath = \"/data/reddylab/Kuei/out/proj_combeffect_encode_fcc/results/CRISPRi_Growth_K562_Gersbach/coverage_ccres_v4/CRISPRi_rAVG_log2FC_2.bed.gz\"\n",
    "dat = read_tsv(fpath, col_names = FALSE)\n",
    "head(dat)"
   ]
  },
  {
   "cell_type": "markdown",
   "id": "76c82074-e03e-4c84-b980-d1ed2ef79094",
   "metadata": {},
   "source": [
    "## Arrange"
   ]
  },
  {
   "cell_type": "code",
   "execution_count": 24,
   "id": "fc08dbd3-ea87-4123-a27b-c7c6ac207f37",
   "metadata": {},
   "outputs": [
    {
     "name": "stdout",
     "output_type": "stream",
     "text": [
      "[1] 221890      7\n"
     ]
    },
    {
     "data": {
      "text/html": [
       "<table class=\"dataframe\">\n",
       "<caption>A tibble: 6 × 7</caption>\n",
       "<thead>\n",
       "\t<tr><th scope=col>Chrom</th><th scope=col>Start</th><th scope=col>End</th><th scope=col>Region</th><th scope=col>Index</th><th scope=col>Label</th><th scope=col>Score</th></tr>\n",
       "\t<tr><th scope=col>&lt;chr&gt;</th><th scope=col>&lt;dbl&gt;</th><th scope=col>&lt;dbl&gt;</th><th scope=col>&lt;chr&gt;</th><th scope=col>&lt;chr&gt;</th><th scope=col>&lt;chr&gt;</th><th scope=col>&lt;dbl&gt;</th></tr>\n",
       "</thead>\n",
       "<tbody>\n",
       "\t<tr><td>chr1</td><td>115562</td><td>115912</td><td>chr1:115562-115912</td><td>EH38E3951280</td><td>CA-CTCF</td><td> 2.05110076</td></tr>\n",
       "\t<tr><td>chr1</td><td>138917</td><td>139112</td><td>chr1:138917-139112</td><td>EH38E3951286</td><td>pELS   </td><td> 1.53918178</td></tr>\n",
       "\t<tr><td>chr1</td><td>138917</td><td>139112</td><td>chr1:138917-139112</td><td>EH38E3951286</td><td>pELS   </td><td>-0.06555714</td></tr>\n",
       "\t<tr><td>chr1</td><td>267925</td><td>268171</td><td>chr1:267925-268171</td><td>EH38E2776528</td><td>CA-CTCF</td><td>-1.60494471</td></tr>\n",
       "\t<tr><td>chr1</td><td>267925</td><td>268171</td><td>chr1:267925-268171</td><td>EH38E2776528</td><td>CA-CTCF</td><td> 2.72276750</td></tr>\n",
       "\t<tr><td>chr1</td><td>586036</td><td>586264</td><td>chr1:586036-586264</td><td>EH38E2776532</td><td>CA-CTCF</td><td> 0.30476722</td></tr>\n",
       "</tbody>\n",
       "</table>\n"
      ],
      "text/latex": [
       "A tibble: 6 × 7\n",
       "\\begin{tabular}{lllllll}\n",
       " Chrom & Start & End & Region & Index & Label & Score\\\\\n",
       " <chr> & <dbl> & <dbl> & <chr> & <chr> & <chr> & <dbl>\\\\\n",
       "\\hline\n",
       "\t chr1 & 115562 & 115912 & chr1:115562-115912 & EH38E3951280 & CA-CTCF &  2.05110076\\\\\n",
       "\t chr1 & 138917 & 139112 & chr1:138917-139112 & EH38E3951286 & pELS    &  1.53918178\\\\\n",
       "\t chr1 & 138917 & 139112 & chr1:138917-139112 & EH38E3951286 & pELS    & -0.06555714\\\\\n",
       "\t chr1 & 267925 & 268171 & chr1:267925-268171 & EH38E2776528 & CA-CTCF & -1.60494471\\\\\n",
       "\t chr1 & 267925 & 268171 & chr1:267925-268171 & EH38E2776528 & CA-CTCF &  2.72276750\\\\\n",
       "\t chr1 & 586036 & 586264 & chr1:586036-586264 & EH38E2776532 & CA-CTCF &  0.30476722\\\\\n",
       "\\end{tabular}\n"
      ],
      "text/markdown": [
       "\n",
       "A tibble: 6 × 7\n",
       "\n",
       "| Chrom &lt;chr&gt; | Start &lt;dbl&gt; | End &lt;dbl&gt; | Region &lt;chr&gt; | Index &lt;chr&gt; | Label &lt;chr&gt; | Score &lt;dbl&gt; |\n",
       "|---|---|---|---|---|---|---|\n",
       "| chr1 | 115562 | 115912 | chr1:115562-115912 | EH38E3951280 | CA-CTCF |  2.05110076 |\n",
       "| chr1 | 138917 | 139112 | chr1:138917-139112 | EH38E3951286 | pELS    |  1.53918178 |\n",
       "| chr1 | 138917 | 139112 | chr1:138917-139112 | EH38E3951286 | pELS    | -0.06555714 |\n",
       "| chr1 | 267925 | 268171 | chr1:267925-268171 | EH38E2776528 | CA-CTCF | -1.60494471 |\n",
       "| chr1 | 267925 | 268171 | chr1:267925-268171 | EH38E2776528 | CA-CTCF |  2.72276750 |\n",
       "| chr1 | 586036 | 586264 | chr1:586036-586264 | EH38E2776532 | CA-CTCF |  0.30476722 |\n",
       "\n"
      ],
      "text/plain": [
       "  Chrom Start  End    Region             Index        Label   Score      \n",
       "1 chr1  115562 115912 chr1:115562-115912 EH38E3951280 CA-CTCF  2.05110076\n",
       "2 chr1  138917 139112 chr1:138917-139112 EH38E3951286 pELS     1.53918178\n",
       "3 chr1  138917 139112 chr1:138917-139112 EH38E3951286 pELS    -0.06555714\n",
       "4 chr1  267925 268171 chr1:267925-268171 EH38E2776528 CA-CTCF -1.60494471\n",
       "5 chr1  267925 268171 chr1:267925-268171 EH38E2776528 CA-CTCF  2.72276750\n",
       "6 chr1  586036 586264 chr1:586036-586264 EH38E2776532 CA-CTCF  0.30476722"
      ]
     },
     "metadata": {},
     "output_type": "display_data"
    }
   ],
   "source": [
    "dat = dat_peak_score_import\n",
    "dat = dat %>% \n",
    "    dplyr::mutate(\n",
    "        Chrom  = Chrom_A,\n",
    "        Start  = Start_A,\n",
    "        End    = End_A,\n",
    "        Region = paste0(Chrom_A, \":\", Start_A, \"-\", End_A),\n",
    "        Index  = Name_A,\n",
    "        Label  = Category_A,\n",
    "        Score  = ZScore_Mean_B\n",
    "    ) %>%\n",
    "    dplyr::select(\n",
    "        Chrom, Start, End, Region, Index, Label, Score\n",
    "    )\n",
    "\n",
    "###\n",
    "dat_peak_score_arrange = dat\n",
    "print(dim(dat))\n",
    "head(dat)"
   ]
  },
  {
   "cell_type": "markdown",
   "id": "9add0e3b-da1e-4dd7-b477-ece086992670",
   "metadata": {},
   "source": [
    "## Summary"
   ]
  },
  {
   "cell_type": "code",
   "execution_count": 28,
   "id": "d26b09cb-fa19-4bc8-9281-211cb3d7d614",
   "metadata": {},
   "outputs": [
    {
     "data": {
      "text/plain": [
       "\n",
       "   neg    pos \n",
       " 49959 171931 "
      ]
     },
     "metadata": {},
     "output_type": "display_data"
    }
   ],
   "source": [
    "###\n",
    "dat = dat_peak_score_arrange\n",
    "dat = dat %>% dplyr::mutate(Sign  = ifelse(Score > 0, \"pos\", \"neg\"))\n",
    "table(dat$Sign)"
   ]
  },
  {
   "cell_type": "code",
   "execution_count": 26,
   "id": "347910a4-dff2-453b-8145-ddd982c8f23d",
   "metadata": {},
   "outputs": [],
   "source": [
    "dat = dat_peak_score_arrange"
   ]
  },
  {
   "cell_type": "code",
   "execution_count": 30,
   "id": "18b6feee-c6a9-420f-ac5e-17a49ea2f9e9",
   "metadata": {},
   "outputs": [
    {
     "name": "stdout",
     "output_type": "stream",
     "text": [
      "[1] 106924      8\n"
     ]
    },
    {
     "data": {
      "text/html": [
       "<table class=\"dataframe\">\n",
       "<caption>A tibble: 6 × 8</caption>\n",
       "<thead>\n",
       "\t<tr><th scope=col>Region</th><th scope=col>Mean</th><th scope=col>Median</th><th scope=col>Max</th><th scope=col>Min</th><th scope=col>Count</th><th scope=col>Mean_Neg</th><th scope=col>Mean_Pos</th></tr>\n",
       "\t<tr><th scope=col>&lt;chr&gt;</th><th scope=col>&lt;dbl&gt;</th><th scope=col>&lt;dbl&gt;</th><th scope=col>&lt;dbl&gt;</th><th scope=col>&lt;dbl&gt;</th><th scope=col>&lt;int&gt;</th><th scope=col>&lt;dbl&gt;</th><th scope=col>&lt;dbl&gt;</th></tr>\n",
       "</thead>\n",
       "<tbody>\n",
       "\t<tr><td>chr10:100006302-100006644</td><td>0.80034836</td><td>0.80034836</td><td>1.0163709</td><td> 0.5843258</td><td>2</td><td> 0.0000000</td><td>0.8003484</td></tr>\n",
       "\t<tr><td>chr10:100046073-100046363</td><td>1.35946554</td><td>1.35946554</td><td>1.4810917</td><td> 1.2378394</td><td>2</td><td> 0.0000000</td><td>1.3594655</td></tr>\n",
       "\t<tr><td>chr10:100065250-100065591</td><td>1.07264569</td><td>1.07264569</td><td>1.3503890</td><td> 0.7949024</td><td>2</td><td> 0.0000000</td><td>1.0726457</td></tr>\n",
       "\t<tr><td>chr10:100081412-100081749</td><td>0.08511404</td><td>0.08511404</td><td>0.7150285</td><td>-0.5448004</td><td>2</td><td>-0.5448004</td><td>0.7150285</td></tr>\n",
       "\t<tr><td>chr10:100100656-100100903</td><td>1.03089343</td><td>1.03089343</td><td>1.1507043</td><td> 0.9110826</td><td>2</td><td> 0.0000000</td><td>1.0308934</td></tr>\n",
       "\t<tr><td>chr10:100129367-100129715</td><td>0.21944739</td><td>0.21944739</td><td>0.2611997</td><td> 0.1776951</td><td>2</td><td> 0.0000000</td><td>0.2194474</td></tr>\n",
       "</tbody>\n",
       "</table>\n"
      ],
      "text/latex": [
       "A tibble: 6 × 8\n",
       "\\begin{tabular}{llllllll}\n",
       " Region & Mean & Median & Max & Min & Count & Mean\\_Neg & Mean\\_Pos\\\\\n",
       " <chr> & <dbl> & <dbl> & <dbl> & <dbl> & <int> & <dbl> & <dbl>\\\\\n",
       "\\hline\n",
       "\t chr10:100006302-100006644 & 0.80034836 & 0.80034836 & 1.0163709 &  0.5843258 & 2 &  0.0000000 & 0.8003484\\\\\n",
       "\t chr10:100046073-100046363 & 1.35946554 & 1.35946554 & 1.4810917 &  1.2378394 & 2 &  0.0000000 & 1.3594655\\\\\n",
       "\t chr10:100065250-100065591 & 1.07264569 & 1.07264569 & 1.3503890 &  0.7949024 & 2 &  0.0000000 & 1.0726457\\\\\n",
       "\t chr10:100081412-100081749 & 0.08511404 & 0.08511404 & 0.7150285 & -0.5448004 & 2 & -0.5448004 & 0.7150285\\\\\n",
       "\t chr10:100100656-100100903 & 1.03089343 & 1.03089343 & 1.1507043 &  0.9110826 & 2 &  0.0000000 & 1.0308934\\\\\n",
       "\t chr10:100129367-100129715 & 0.21944739 & 0.21944739 & 0.2611997 &  0.1776951 & 2 &  0.0000000 & 0.2194474\\\\\n",
       "\\end{tabular}\n"
      ],
      "text/markdown": [
       "\n",
       "A tibble: 6 × 8\n",
       "\n",
       "| Region &lt;chr&gt; | Mean &lt;dbl&gt; | Median &lt;dbl&gt; | Max &lt;dbl&gt; | Min &lt;dbl&gt; | Count &lt;int&gt; | Mean_Neg &lt;dbl&gt; | Mean_Pos &lt;dbl&gt; |\n",
       "|---|---|---|---|---|---|---|---|\n",
       "| chr10:100006302-100006644 | 0.80034836 | 0.80034836 | 1.0163709 |  0.5843258 | 2 |  0.0000000 | 0.8003484 |\n",
       "| chr10:100046073-100046363 | 1.35946554 | 1.35946554 | 1.4810917 |  1.2378394 | 2 |  0.0000000 | 1.3594655 |\n",
       "| chr10:100065250-100065591 | 1.07264569 | 1.07264569 | 1.3503890 |  0.7949024 | 2 |  0.0000000 | 1.0726457 |\n",
       "| chr10:100081412-100081749 | 0.08511404 | 0.08511404 | 0.7150285 | -0.5448004 | 2 | -0.5448004 | 0.7150285 |\n",
       "| chr10:100100656-100100903 | 1.03089343 | 1.03089343 | 1.1507043 |  0.9110826 | 2 |  0.0000000 | 1.0308934 |\n",
       "| chr10:100129367-100129715 | 0.21944739 | 0.21944739 | 0.2611997 |  0.1776951 | 2 |  0.0000000 | 0.2194474 |\n",
       "\n"
      ],
      "text/plain": [
       "  Region                    Mean       Median     Max       Min        Count\n",
       "1 chr10:100006302-100006644 0.80034836 0.80034836 1.0163709  0.5843258 2    \n",
       "2 chr10:100046073-100046363 1.35946554 1.35946554 1.4810917  1.2378394 2    \n",
       "3 chr10:100065250-100065591 1.07264569 1.07264569 1.3503890  0.7949024 2    \n",
       "4 chr10:100081412-100081749 0.08511404 0.08511404 0.7150285 -0.5448004 2    \n",
       "5 chr10:100100656-100100903 1.03089343 1.03089343 1.1507043  0.9110826 2    \n",
       "6 chr10:100129367-100129715 0.21944739 0.21944739 0.2611997  0.1776951 2    \n",
       "  Mean_Neg   Mean_Pos \n",
       "1  0.0000000 0.8003484\n",
       "2  0.0000000 1.3594655\n",
       "3  0.0000000 1.0726457\n",
       "4 -0.5448004 0.7150285\n",
       "5  0.0000000 1.0308934\n",
       "6  0.0000000 0.2194474"
      ]
     },
     "metadata": {},
     "output_type": "display_data"
    }
   ],
   "source": [
    "###\n",
    "dat = dat_peak_score_arrange\n",
    "dat = dat %>% dplyr::mutate(Sign  = ifelse(Score > 0, \"pos\", \"neg\"))\n",
    "\n",
    "###\n",
    "dat_summary_total = dat %>%\n",
    "    dplyr::group_by(Region) %>%\n",
    "    dplyr::summarise(\n",
    "        Mean    = mean(Score),\n",
    "        Median  = median(Score),\n",
    "        Max     = max(Score),\n",
    "        Min     = min(Score),\n",
    "        Count   = n(),\n",
    "        .groups = \"drop\"\n",
    "    )\n",
    "\n",
    "###\n",
    "dat_summary_sign = dat %>%\n",
    "    dplyr::group_by(Region, Sign) %>%\n",
    "    dplyr::summarise(Mean = mean(Score), .groups = \"drop\") %>% \n",
    "    dplyr::mutate(Sign = dplyr::recode(Sign, `pos` = \"Mean_Pos\", `neg` = \"Mean_Neg\")) %>% \n",
    "    tidyr::spread(Sign, Mean)\n",
    "\n",
    "###\n",
    "dat = dplyr::left_join(\n",
    "    dat_summary_total,\n",
    "    dat_summary_sign,\n",
    "    by = c(\"Region\")) %>% \n",
    "    replace(is.na(.), 0)\n",
    "\n",
    "dat_peak_score_summary = dat\n",
    "print(dim(dat))\n",
    "head(dat)"
   ]
  },
  {
   "cell_type": "code",
   "execution_count": 31,
   "id": "a09b903b-d1a3-4072-8d19-75684a2f7661",
   "metadata": {},
   "outputs": [
    {
     "data": {
      "text/plain": [
       "   Min. 1st Qu.  Median    Mean 3rd Qu.    Max. \n",
       "  1.000   2.000   2.000   2.075   2.000   6.000 "
      ]
     },
     "metadata": {},
     "output_type": "display_data"
    }
   ],
   "source": [
    "dat = dat_peak_score_summary\n",
    "summary(dat$Count)"
   ]
  },
  {
   "cell_type": "code",
   "execution_count": 32,
   "id": "1c3f6396-486c-4131-8265-6c4ef39b3bfb",
   "metadata": {},
   "outputs": [
    {
     "data": {
      "text/plain": [
       "\n",
       "    1     2     3     4     5     6 \n",
       " 3038 98324   364  5024    28   146 "
      ]
     },
     "metadata": {},
     "output_type": "display_data"
    }
   ],
   "source": [
    "dat = dat_peak_score_summary\n",
    "table(dat$Count)"
   ]
  },
  {
   "cell_type": "code",
   "execution_count": 33,
   "id": "def569a3-5c00-421c-9afc-f9e5ade7f2e6",
   "metadata": {},
   "outputs": [
    {
     "data": {
      "image/png": "[encoded data removed]",
      "text/plain": [
       "plot without title"
      ]
     },
     "metadata": {
      "image/png": {
       "height": 300,
       "width": 480
      }
     },
     "output_type": "display_data"
    }
   ],
   "source": [
    "dat = dat_peak_score_summary\n",
    "gpt = ggplot(dat, aes(x=Count)) + \n",
    "    geom_histogram(binwidth = 1) + \n",
    "    labs(y=\"#Guides / Region\") +\n",
    "    theme_cowplot()\n",
    "options(repr.plot.height=5, repr.plot.width=8)\n",
    "print(gpt)"
   ]
  },
  {
   "cell_type": "code",
   "execution_count": 34,
   "id": "10fca4df-28ba-4c0b-9e32-8da6704608d0",
   "metadata": {},
   "outputs": [
    {
     "data": {
      "image/png": "[encoded data removed]",
      "text/plain": [
       "plot without title"
      ]
     },
     "metadata": {
      "image/png": {
       "height": 300,
       "width": 480
      }
     },
     "output_type": "display_data"
    }
   ],
   "source": [
    "dat = dat_peak_score_arrange\n",
    "gpt = ggplot(dat, aes(x=Score)) + \n",
    "    geom_histogram(bins = 50) + \n",
    "    labs(y=\"Score\") +\n",
    "    theme_cowplot()\n",
    "print(gpt)"
   ]
  },
  {
   "cell_type": "markdown",
   "id": "d3af9658-16c9-4188-93a4-d8fb98369368",
   "metadata": {},
   "source": [
    "## Save results"
   ]
  },
  {
   "cell_type": "code",
   "execution_count": 36,
   "id": "68f5f7cb-cc8d-499b-887d-f51cfd7cfb9c",
   "metadata": {},
   "outputs": [
    {
     "data": {
      "text/html": [
       "'LentiMPRA_K562_Nadav'"
      ],
      "text/latex": [
       "'LentiMPRA\\_K562\\_Nadav'"
      ],
      "text/markdown": [
       "'LentiMPRA_K562_Nadav'"
      ],
      "text/plain": [
       "[1] \"LentiMPRA_K562_Nadav\""
      ]
     },
     "metadata": {},
     "output_type": "display_data"
    }
   ],
   "source": [
    "ASSAY"
   ]
  },
  {
   "cell_type": "code",
   "execution_count": 37,
   "id": "d7503849-fca8-4588-af79-bfb3fd9a9e96",
   "metadata": {},
   "outputs": [
    {
     "data": {
      "text/html": [
       "'coverage_ccres_v4'"
      ],
      "text/latex": [
       "'coverage\\_ccres\\_v4'"
      ],
      "text/markdown": [
       "'coverage_ccres_v4'"
      ],
      "text/plain": [
       "[1] \"coverage_ccres_v4\""
      ]
     },
     "metadata": {},
     "output_type": "display_data"
    }
   ],
   "source": [
    "FOLDER"
   ]
  },
  {
   "cell_type": "code",
   "execution_count": 38,
   "id": "8936648c-5181-4098-8a43-be902b4a0cdc",
   "metadata": {},
   "outputs": [],
   "source": [
    "fdiry = file.path(FD_RES, \"results\", ASSAY, FOLDER, \"summary\")\n",
    "fname = \"results.score.vikram230621.tsv\"\n",
    "fpath = file.path(fdiry, fname)\n",
    "\n",
    "dat = dat_peak_score_arrange\n",
    "write_tsv(dat, fpath)"
   ]
  },
  {
   "cell_type": "code",
   "execution_count": 39,
   "id": "e68ce63e-bb18-4135-975c-b3a0c5ad501f",
   "metadata": {},
   "outputs": [],
   "source": [
    "fdiry = file.path(FD_RES, \"results\", ASSAY, FOLDER, \"summary\")\n",
    "fname = \"results.summary.vikram230621.tsv\"\n",
    "fpath = file.path(fdiry, fname)\n",
    "\n",
    "dat = dat_peak_score_summary\n",
    "write_tsv(dat, fpath)"
   ]
  },
  {
   "cell_type": "code",
   "execution_count": null,
   "id": "633f60f3-61f3-4718-bf31-9ea911747b0a",
   "metadata": {},
   "outputs": [],
   "source": []
  }
 ],
 "metadata": {
  "kernelspec": {
   "display_name": "R",
   "language": "R",
   "name": "ir"
  },
  "language_info": {
   "codemirror_mode": "r",
   "file_extension": ".r",
   "mimetype": "text/x-r-source",
   "name": "R",
   "pygments_lexer": "r",
   "version": "4.3.1"
  }
 },
 "nbformat": 4,
 "nbformat_minor": 5
}
