{
 "cells": [
  {
   "cell_type": "markdown",
   "id": "95e5e2ea-ef86-4184-ab6d-c8bcc3ddbe27",
   "metadata": {},
   "source": [
    "**Set environment**"
   ]
  },
  {
   "cell_type": "code",
   "execution_count": 1,
   "id": "6f03565b-36dd-4ff2-9aa3-10330f69405f",
   "metadata": {},
   "outputs": [
    {
     "name": "stdout",
     "output_type": "stream",
     "text": [
      "You are on Duke Server: HARDAC\n",
      "BASE DIRECTORY (FD_BASE): /data/reddylab/Kuei\n",
      "WORK DIRECTORY (FD_WORK): /data/reddylab/Kuei/out\n",
      "CODE DIRECTORY (FD_CODE): /data/reddylab/Kuei/code\n",
      "SING DIRECTORY (FD_SING): /data/reddylab/Kuei/singularity\n",
      "PATH OF PROJECT (FD_PRJ): /data/reddylab/Kuei/code/Proj_CombEffect_ENCODE_FCC\n",
      "PATH OF RESULTS (FD_RES): /data/reddylab/Kuei/out/proj_combeffect_encode_fcc\n",
      "PATH OF LOG     (FD_LOG): /data/reddylab/Kuei/out/proj_combeffect_encode_fcc/log\n",
      "\n"
     ]
    }
   ],
   "source": [
    "source ../config/config_duke.sh\n",
    "source ../config/config_load_module_bedtools.sh\n",
    "show_env"
   ]
  },
  {
   "cell_type": "markdown",
   "id": "0ce8a034-c36d-46ca-a769-2c75f54e68b2",
   "metadata": {},
   "source": [
    "**Check data**"
   ]
  },
  {
   "cell_type": "code",
   "execution_count": 2,
   "id": "897e5109-30c1-4b36-8d07-21a2edde4a76",
   "metadata": {},
   "outputs": [
    {
     "name": "stdout",
     "output_type": "stream",
     "text": [
      "+++++++++++++++++++++++++++++++++++\n",
      "-rw-rw-r-- 1 kk319 reddylab 32M Jun 11  2023 \u001b[0m\u001b[38;5;9m/data/reddylab/Kuei/out/proj_combeffect_encode_fcc/results/region/annotation_ccres/ccres_v4.bed.gz\u001b[0m\u001b[K\n",
      "\n",
      "gzip: stdout: Broken pipe\n",
      "10\n",
      "\n",
      "+++++++++++++++++++++++++++++++++++\n",
      "chr1\t10033\t10250\tEH38E2776516\t0\t.\t10033\t10250\t225,225,225\tLow-DNase\tAll-data/Full-classification\n",
      "chr1\t10385\t10713\tEH38E2776517\t0\t.\t10385\t10713\t225,225,225\tLow-DNase\tAll-data/Full-classification\n",
      "chr1\t16097\t16381\tEH38E3951272\t0\t.\t16097\t16381\t225,225,225\tLow-DNase\tAll-data/Full-classification\n",
      "chr1\t17343\t17642\tEH38E3951273\t0\t.\t17343\t17642\t225,225,225\tLow-DNase\tAll-data/Full-classification\n",
      "chr1\t29320\t29517\tEH38E3951274\t0\t.\t29320\t29517\t225,225,225\tLow-DNase\tAll-data/Full-classification\n",
      "chr1\t66350\t66509\tEH38E3951275\t0\t.\t66350\t66509\t225,225,225\tLow-DNase\tAll-data/Full-classification\n",
      "chr1\t78990\t79238\tEH38E3951276\t0\t.\t78990\t79238\t225,225,225\tLow-DNase\tAll-data/Full-classification\n",
      "chr1\t79304\t79545\tEH38E2776519\t0\t.\t79304\t79545\t225,225,225\tLow-DNase\tAll-data/Full-classification\n",
      "chr1\t91087\t91426\tEH38E3951277\t0\t.\t91087\t91426\t225,225,225\tLow-DNase\tAll-data/Full-classification\n",
      "chr1\t98867\t99117\tEH38E3951278\t0\t.\t98867\t99117\t225,225,225\tLow-DNase\tAll-data/Full-classification\n",
      "\n"
     ]
    }
   ],
   "source": [
    "FD_REG=${FD_RES}/results/region/annotation_ccres\n",
    "FN_REG=ccres_v4.bed.gz\n",
    "\n",
    "echo +++++++++++++++++++++++++++++++++++\n",
    "ls -lh ${FD_REG}/${FN_REG}\n",
    "fun_head ${FD_REG}/${FN_REG} | wc -l\n",
    "echo\n",
    "\n",
    "echo +++++++++++++++++++++++++++++++++++\n",
    "fun_head ${FD_REG}/${FN_REG}\n",
    "echo\n",
    "\n",
    "#echo +++++++++++++++++++++++++++++++++++\n",
    "#tail ${FD_REG}/${FN_REG}\n",
    "#echo"
   ]
  },
  {
   "cell_type": "markdown",
   "id": "a1efe901-5f4e-49d4-bc1e-e4dbb1b1a8e7",
   "metadata": {},
   "source": [
    "## TMPRA"
   ]
  },
  {
   "cell_type": "code",
   "execution_count": null,
   "id": "1771a013-6525-4a8d-8e9e-3b33d8d5bab0",
   "metadata": {},
   "outputs": [],
   "source": [
    "ASSAY=Tewhey_K562_TileMPRA\n",
    "FOLDR=coverage\n",
    "\n",
    "FD_INP=${FD_RES}/results/${ASSAY}/${FOLDR}/Merge*bed.gz\n",
    "ls ${FD_INP}"
   ]
  },
  {
   "cell_type": "code",
   "execution_count": null,
   "id": "e74d4620-5eaf-46bb-865c-21f26b7e68a7",
   "metadata": {},
   "outputs": [],
   "source": []
  },
  {
   "cell_type": "code",
   "execution_count": null,
   "id": "04742169-08b2-403f-bea0-836523ec352e",
   "metadata": {},
   "outputs": [],
   "source": []
  },
  {
   "cell_type": "markdown",
   "id": "25f19f3d-22d9-4d51-b6b6-87103549bbff",
   "metadata": {},
   "source": [
    "## CRISPRi-FlowFISH"
   ]
  },
  {
   "cell_type": "code",
   "execution_count": 8,
   "id": "79ba2db3-d31b-40a7-8786-b8f68343f340",
   "metadata": {},
   "outputs": [
    {
     "name": "stdout",
     "output_type": "stream",
     "text": [
      "\u001b[0m\u001b[38;5;9m/data/reddylab/Kuei/out/proj_combeffect_encode_fcc/results/CRISPRi_FlowFISH/coverage/Merge_HCRFF_rAVG.log2FC_2.bed.gz\u001b[0m\u001b[K\n",
      "\u001b[38;5;9m/data/reddylab/Kuei/out/proj_combeffect_encode_fcc/results/CRISPRi_FlowFISH/coverage/Merge_HCRFF_rAVG.log2FC_2.filtered.bed.gz\u001b[0m\u001b[K\n"
     ]
    }
   ],
   "source": [
    "ASSAY=CRISPRi_FlowFISH\n",
    "FOLDR=coverage\n",
    "\n",
    "FD_INP=${FD_RES}/results/${ASSAY}/${FOLDR}/Merge*bed.gz\n",
    "ls ${FD_INP}"
   ]
  },
  {
   "cell_type": "code",
   "execution_count": 12,
   "id": "cb065c31-18c6-42fd-9365-4504f91d11df",
   "metadata": {},
   "outputs": [
    {
     "name": "stdout",
     "output_type": "stream",
     "text": [
      "======================================\n",
      "Merge_HCRFF_rAVG.log2FC_2.bed.gz\n",
      "Merge_HCRFF_rAVG.log2FC_2\n",
      "/data/reddylab/Kuei/out/proj_combeffect_encode_fcc/log/coverage_ccres_Merge_HCRFF_rAVG.log2FC_2.txt\n",
      "\n",
      "Submitted batch job 30635192\n",
      "\n",
      "======================================\n",
      "Merge_HCRFF_rAVG.log2FC_2.filtered.bed.gz\n",
      "Merge_HCRFF_rAVG.log2FC_2.filtered\n",
      "/data/reddylab/Kuei/out/proj_combeffect_encode_fcc/log/coverage_ccres_Merge_HCRFF_rAVG.log2FC_2.filtered.txt\n",
      "\n",
      "Submitted batch job 30635193\n",
      "\n"
     ]
    }
   ],
   "source": [
    "### Regions\n",
    "FD_REG=${FD_RES}/results/region/annotation_ccres\n",
    "FN_REG=ccres_v4.bed.gz\n",
    "FP_REG=${FD_REG}/${FN_REG}\n",
    "\n",
    "### Annotated signals\n",
    "ASSAY=CRISPRi_FlowFISH\n",
    "FD_INP=${FD_RES}/results/${ASSAY}/coverage\n",
    "FP_INPS=($(ls ${FD_INP}/Merge*bed.gz))\n",
    "\n",
    "### Loop\n",
    "for FP_INP in ${FP_INPS[@]}; do\n",
    "    ### Get annotation file name\n",
    "    FN_INP=$(basename ${FP_INP})\n",
    "    PREFIX=${FN_INP%.bed.gz}\n",
    "    \n",
    "    ### Output file\n",
    "    FD_OUT=${FD_RES}/results/${ASSAY}/coverage_ccres_v4\n",
    "    FN_OUT=${FN_INP}\n",
    "    FP_OUT=${FD_OUT}/${FN_OUT}\n",
    "    \n",
    "    ### Log file\n",
    "    FN_LOG=coverage_ccres_${PREFIX}.txt\n",
    "    FP_LOG=${FD_LOG}/${FN_LOG}\n",
    "\n",
    "    ### Show progress\n",
    "    echo ======================================\n",
    "    echo ${FN_INP}\n",
    "    echo ${PREFIX}\n",
    "    echo ${FP_LOG}\n",
    "    echo\n",
    "    ### RUN\n",
    "    sbatch -p all \\\n",
    "        --exclude=dl-01 \\\n",
    "        --cpus-per-task 4 \\\n",
    "        --mem 4G \\\n",
    "        --output ${FP_LOG} \\\n",
    "        ../scripts/run_bedtools_intersect.sh ${FP_REG} ${FP_INP} ${FP_OUT}\n",
    "    \n",
    "    echo\n",
    "done"
   ]
  },
  {
   "cell_type": "markdown",
   "id": "d93169d2-6f4d-4d7b-9c4f-733c9ae7f562",
   "metadata": {},
   "source": [
    "## CRISPRi-Growth"
   ]
  },
  {
   "cell_type": "code",
   "execution_count": 32,
   "id": "2dac3d1d-710a-481d-9ac7-ae5605ba116c",
   "metadata": {},
   "outputs": [
    {
     "name": "stdout",
     "output_type": "stream",
     "text": [
      "CRISPRi_rAVG_log2FC_2.bed\n",
      "\u001b[0m\u001b[38;5;9mCRISPRi_rAVG_log2FC_2.bed.gz\u001b[0m\n",
      "CRISPRi_rAVG_log2FC_2.wig\n"
     ]
    }
   ],
   "source": [
    "ASSAY=CRISPRi_Growth_K562_Gersbach\n",
    "FD_ANT=${FD_RES}/results/${ASSAY}/coverage\n",
    "ls -1 ${FD_ANT}"
   ]
  },
  {
   "cell_type": "code",
   "execution_count": 33,
   "id": "039047bb-90cb-4b21-9842-6c0c5f78b002",
   "metadata": {},
   "outputs": [
    {
     "name": "stdout",
     "output_type": "stream",
     "text": [
      "chr1\t605580\t605581\tid-1\t-0.180660\n",
      "chr1\t605581\t605582\tid-2\t0.486646\n",
      "chr1\t605589\t605590\tid-3\t3.171240\n",
      "chr1\t605591\t605592\tid-4\t-0.364573\n",
      "chr1\t605592\t605593\tid-5\t-0.206319\n",
      "chr1\t605609\t605610\tid-6\t-0.266750\n",
      "chr1\t605617\t605618\tid-7\t-0.774100\n",
      "chr1\t605618\t605619\tid-8\t-0.353224\n",
      "chr1\t605619\t605620\tid-9\t-0.187707\n",
      "chr1\t605620\t605621\tid-10\t-0.420401\n"
     ]
    }
   ],
   "source": [
    "ASSAY=CRISPRi_Growth_K562_Gersbach\n",
    "FD_ANT=${FD_RES}/results/${ASSAY}/coverage\n",
    "FN_ANT=CRISPRi_rAVG_log2FC_2.bed.gz\n",
    "FP_ANT=${FD_ANT}/${FN_ANT}\n",
    "zcat ${FP_ANT} | head"
   ]
  },
  {
   "cell_type": "markdown",
   "id": "ca9167e0-8b25-4e83-8c2d-0792825ffa3f",
   "metadata": {},
   "source": [
    "**RUN**"
   ]
  },
  {
   "cell_type": "code",
   "execution_count": 34,
   "id": "fab8bd30-ea21-4551-8847-31c7cfa29b1f",
   "metadata": {},
   "outputs": [
    {
     "name": "stdout",
     "output_type": "stream",
     "text": [
      "${FD_LOG}/coverage_ccres_crispri_growth.0.txt\n",
      "Submitted batch job 30635210\n"
     ]
    }
   ],
   "source": [
    "### Regions\n",
    "FD_REG=${FD_RES}/results/region/annotation_ccres\n",
    "FN_REG=ccres_v4.bed.gz\n",
    "FP_REG=${FD_REG}/${FN_REG}\n",
    "\n",
    "### Annotated signals\n",
    "ASSAY=CRISPRi_Growth_K562_Gersbach\n",
    "FD_ANT=${FD_RES}/results/${ASSAY}/coverage\n",
    "FN_ANT=CRISPRi_rAVG_log2FC_2.bed.gz\n",
    "FP_ANT=${FD_ANT}/${FN_ANT}\n",
    "\n",
    "### Output file\n",
    "FD_OUT=${FD_RES}/results/${ASSAY}/coverage_ccres_v4\n",
    "FN_OUT=${FN_ANT}\n",
    "FP_OUT=${FD_OUT}/${FN_OUT}\n",
    "\n",
    "### Log file\n",
    "FN_LOG=coverage_ccres_crispri_growth.%a.txt\n",
    "FP_LOG=${FD_LOG}/${FN_LOG}\n",
    "echo '${FD_LOG}/coverage_ccres_crispri_growth.0.txt'\n",
    "\n",
    "### RUN\n",
    "sbatch -p ${NODE} \\\n",
    "    --exclude=dl-01 \\\n",
    "    --cpus-per-task 4 \\\n",
    "    --mem 4G \\\n",
    "    --output ${FP_LOG} \\\n",
    "    --array 0 \\\n",
    "    ./run_annot.sh ${FP_REG} ${FP_ANT} ${FP_OUT}"
   ]
  },
  {
   "cell_type": "code",
   "execution_count": 35,
   "id": "d7a81a76-8a1c-4df4-a4cb-1140e50ed2a6",
   "metadata": {},
   "outputs": [
    {
     "name": "stdout",
     "output_type": "stream",
     "text": [
      "/data/reddylab/Kuei/out/proj_combeffect_encode_fcc/log/coverage_ccres_crispri_growth.0.txt\n"
     ]
    }
   ],
   "source": [
    "echo ${FD_LOG}/coverage_ccres_crispri_growth.0.txt"
   ]
  },
  {
   "cell_type": "code",
   "execution_count": 37,
   "id": "20d4bd04-c7a2-45a2-a36e-aaf66c4ec901",
   "metadata": {},
   "outputs": [
    {
     "name": "stdout",
     "output_type": "stream",
     "text": [
      "Hostname:           x1-01-2.genome.duke.edu\n",
      "Slurm Array Index:  0\n",
      "Time Stamp:         01-24-24+09:09:13\n",
      "\n",
      "Input:  /data/reddylab/Kuei/out/proj_combeffect_encode_fcc/results/region/annotation_ccres/ccres_v4.bed.gz\n",
      "\n",
      "show first few lines of input\n",
      "chr1\t10033\t10250\tEH38E2776516\t0\t.\t10033\t10250\t225,225,225\tLow-DNase\tAll-data/Full-classification\n",
      "chr1\t10385\t10713\tEH38E2776517\t0\t.\t10385\t10713\t225,225,225\tLow-DNase\tAll-data/Full-classification\n",
      "chr1\t16097\t16381\tEH38E3951272\t0\t.\t16097\t16381\t225,225,225\tLow-DNase\tAll-data/Full-classification\n",
      "chr1\t17343\t17642\tEH38E3951273\t0\t.\t17343\t17642\t225,225,225\tLow-DNase\tAll-data/Full-classification\n",
      "chr1\t29320\t29517\tEH38E3951274\t0\t.\t29320\t29517\t225,225,225\tLow-DNase\tAll-data/Full-classification\n",
      "\n",
      "Input:  /data/reddylab/Kuei/out/proj_combeffect_encode_fcc/results/CRISPRi_Growth_K562_Gersbach/coverage/CRISPRi_rAVG_log2FC_2.bed.gz\n",
      "\n",
      "show first few lines of input\n",
      "chr1\t605580\t605581\tid-1\t-0.180660\n",
      "chr1\t605581\t605582\tid-2\t0.486646\n",
      "chr1\t605589\t605590\tid-3\t3.171240\n",
      "chr1\t605591\t605592\tid-4\t-0.364573\n",
      "chr1\t605592\t605593\tid-5\t-0.206319\n",
      "\n",
      "\n",
      "Output:  /data/reddylab/Kuei/out/proj_combeffect_encode_fcc/results/CRISPRi_Growth_K562_Gersbach/coverage_ccres_v4/CRISPRi_rAVG_log2FC_2.bed.gz\n",
      "\n",
      "show first few lines of output:\n",
      "chr1\t605330\t605668\tEH38E2776534\t0\t.\t605330\t605668\t190,40,229\tCA-TF\tAll-data/Full-classification\tchr1\t605580\t605581\tid-1\t-0.180660\t1\n",
      "chr1\t605330\t605668\tEH38E2776534\t0\t.\t605330\t605668\t190,40,229\tCA-TF\tAll-data/Full-classification\tchr1\t605581\t605582\tid-2\t0.486646\t1\n",
      "chr1\t605330\t605668\tEH38E2776534\t0\t.\t605330\t605668\t190,40,229\tCA-TF\tAll-data/Full-classification\tchr1\t605589\t605590\tid-3\t3.171240\t1\n",
      "chr1\t605330\t605668\tEH38E2776534\t0\t.\t605330\t605668\t190,40,229\tCA-TF\tAll-data/Full-classification\tchr1\t605591\t605592\tid-4\t-0.364573\t1\n",
      "chr1\t605330\t605668\tEH38E2776534\t0\t.\t605330\t605668\t190,40,229\tCA-TF\tAll-data/Full-classification\tchr1\t605592\t605593\tid-5\t-0.206319\t1\n",
      "\n",
      "\n",
      "Done!\n",
      "Run Time: 7 seconds\n"
     ]
    }
   ],
   "source": [
    "cat ${FD_LOG}/coverage_ccres_crispri_growth.0.txt"
   ]
  },
  {
   "cell_type": "markdown",
   "id": "d181848a-be8c-4863-b9d1-c5c2e7c437a9",
   "metadata": {
    "tags": []
   },
   "source": [
    "## Lenti-MPRA"
   ]
  },
  {
   "cell_type": "code",
   "execution_count": 17,
   "id": "8515f15b-89ad-4745-8b2b-0daca06a47eb",
   "metadata": {},
   "outputs": [
    {
     "name": "stdout",
     "output_type": "stream",
     "text": [
      "${FD_LOG}/coverage_ccres_v4_lmpra_vikram230621.0.txt\n",
      "Submitted batch job 30635197\n"
     ]
    }
   ],
   "source": [
    "### Regions\n",
    "FD_REG=${FD_RES}/results/region/annotation_ccres\n",
    "FN_REG=ccres_v4.bed.gz\n",
    "FP_REG=${FD_REG}/${FN_REG}\n",
    "\n",
    "### Annotated signals\n",
    "ASSAY=LentiMPRA_K562_Nadav\n",
    "FD_ANT=${FD_RES}/results/${ASSAY}/coverage\n",
    "FN_ANT=K562.vikram230621.LMPRA.stranded.bed.gz\n",
    "FP_ANT=${FD_ANT}/${FN_ANT}\n",
    "\n",
    "### Output file\n",
    "FD_OUT=${FD_RES}/results/${ASSAY}/coverage_ccres_v4\n",
    "FN_OUT=${FN_ANT}\n",
    "FP_OUT=${FD_OUT}/${FN_OUT}\n",
    "\n",
    "### Log file\n",
    "FN_LOG=coverage_ccres_v4_lmpra_vikram230621.%a.txt\n",
    "FP_LOG=${FD_LOG}/${FN_LOG}\n",
    "echo '${FD_LOG}/coverage_ccres_v4_lmpra_vikram230621.0.txt'\n",
    "\n",
    "### RUN\n",
    "sbatch -p ${NODE} \\\n",
    "    --exclude=dl-01 \\\n",
    "    --cpus-per-task 4 \\\n",
    "    --mem 4G \\\n",
    "    --output ${FP_LOG} \\\n",
    "    --array 0 \\\n",
    "    ./run_annot.sh ${FP_REG} ${FP_ANT} ${FP_OUT}"
   ]
  },
  {
   "cell_type": "code",
   "execution_count": null,
   "id": "d7b9757d-1b1d-4dbd-bd23-ae3e52540e5d",
   "metadata": {},
   "outputs": [],
   "source": []
  },
  {
   "cell_type": "code",
   "execution_count": null,
   "id": "8053c2a6-a6df-4054-8b64-b3536635affc",
   "metadata": {},
   "outputs": [],
   "source": []
  }
 ],
 "metadata": {
  "kernelspec": {
   "display_name": "Bash",
   "language": "bash",
   "name": "bash"
  },
  "language_info": {
   "codemirror_mode": "shell",
   "file_extension": ".sh",
   "mimetype": "text/x-sh",
   "name": "bash"
  }
 },
 "nbformat": 4,
 "nbformat_minor": 5
}
