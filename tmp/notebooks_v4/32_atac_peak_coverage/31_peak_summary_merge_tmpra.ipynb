{
 "cells": [
  {
   "cell_type": "markdown",
   "metadata": {},
   "source": [
    "**Set environment**"
   ]
  },
  {
   "cell_type": "code",
   "execution_count": 1,
   "metadata": {},
   "outputs": [
    {
     "name": "stdout",
     "output_type": "stream",
     "text": [
      "You are in Singularity: singularity_proj_encode_fcc \n",
      "BASE DIRECTORY (FD_BASE): /data/reddylab/Kuei \n",
      "WORK DIRECTORY (FD_WORK): /data/reddylab/Kuei/out \n",
      "CODE DIRECTORY (FD_CODE): /data/reddylab/Kuei/code \n",
      "PATH OF PROJECT (FD_PRJ): /data/reddylab/Kuei/code/Proj_CombEffect_ENCODE_FCC \n",
      "PATH OF RESULTS (FD_RES): /data/reddylab/Kuei/out/proj_combeffect_encode_fcc \n",
      "PATH OF LOG     (FD_LOG): /data/reddylab/Kuei/out/proj_combeffect_encode_fcc/log \n"
     ]
    }
   ],
   "source": [
    "suppressMessages(suppressWarnings(source(\"../config/config_sing.R\")))\n",
    "show_env()"
   ]
  },
  {
   "cell_type": "markdown",
   "metadata": {},
   "source": [
    "### Import and merge"
   ]
  },
  {
   "cell_type": "markdown",
   "metadata": {},
   "source": [
    "**TMPRA (CPM)**"
   ]
  },
  {
   "cell_type": "code",
   "execution_count": 2,
   "metadata": {},
   "outputs": [
    {
     "name": "stdout",
     "output_type": "stream",
     "text": [
      "/data/reddylab/Kuei/out/proj_combeffect_encode_fcc/results/Tewhey_K562_TileMPRA/coverage_astarrseq_peak_macs_input/summary/result.Log2FC.raw.cpm.OL13_20220512.tsv \n",
      "\n",
      "/data/reddylab/Kuei/out/proj_combeffect_encode_fcc/results/Tewhey_K562_TileMPRA/coverage_astarrseq_peak_macs_input/summary/result.Log2FC.raw.cpm.OL43_20221003.tsv \n",
      "\n",
      "/data/reddylab/Kuei/out/proj_combeffect_encode_fcc/results/Tewhey_K562_TileMPRA/coverage_astarrseq_peak_macs_input/summary/result.Log2FC.raw.cpm.OL45_20220927.tsv \n",
      "\n",
      "[1] 1722    6\n"
     ]
    },
    {
     "data": {
      "text/html": [
       "<table class=\"dataframe\">\n",
       "<caption>A tibble: 6 × 6</caption>\n",
       "<thead>\n",
       "\t<tr><th scope=col>Dataset</th><th scope=col>Peak</th><th scope=col>Input</th><th scope=col>Output</th><th scope=col>Log2FC</th><th scope=col>pLog2FC</th></tr>\n",
       "\t<tr><th scope=col>&lt;chr&gt;</th><th scope=col>&lt;chr&gt;</th><th scope=col>&lt;dbl&gt;</th><th scope=col>&lt;dbl&gt;</th><th scope=col>&lt;dbl&gt;</th><th scope=col>&lt;dbl&gt;</th></tr>\n",
       "</thead>\n",
       "<tbody>\n",
       "\t<tr><td>OL13</td><td>chr11:61792068-61793464</td><td>10704.672</td><td> 40948.1003</td><td> 1.9355559</td><td> 1.9354563</td></tr>\n",
       "\t<tr><td>OL13</td><td>chr11:61800085-61801113</td><td> 8047.226</td><td> 35129.2082</td><td> 2.1261076</td><td> 2.1259694</td></tr>\n",
       "\t<tr><td>OL13</td><td>chr11:61806630-61807154</td><td> 6090.406</td><td>  2860.1796</td><td>-1.0904327</td><td>-1.0901653</td></tr>\n",
       "\t<tr><td>OL13</td><td>chr11:61814735-61817343</td><td>17293.054</td><td>120547.5790</td><td> 2.8013381</td><td> 2.8012666</td></tr>\n",
       "\t<tr><td>OL13</td><td>chr11:61822094-61822443</td><td> 2705.029</td><td>   949.0243</td><td>-1.5111270</td><td>-1.5101409</td></tr>\n",
       "\t<tr><td>OL13</td><td>chr11:61825795-61826306</td><td> 2879.504</td><td>  2642.9275</td><td>-0.1236834</td><td>-0.1236386</td></tr>\n",
       "</tbody>\n",
       "</table>\n"
      ],
      "text/latex": [
       "A tibble: 6 × 6\n",
       "\\begin{tabular}{llllll}\n",
       " Dataset & Peak & Input & Output & Log2FC & pLog2FC\\\\\n",
       " <chr> & <chr> & <dbl> & <dbl> & <dbl> & <dbl>\\\\\n",
       "\\hline\n",
       "\t OL13 & chr11:61792068-61793464 & 10704.672 &  40948.1003 &  1.9355559 &  1.9354563\\\\\n",
       "\t OL13 & chr11:61800085-61801113 &  8047.226 &  35129.2082 &  2.1261076 &  2.1259694\\\\\n",
       "\t OL13 & chr11:61806630-61807154 &  6090.406 &   2860.1796 & -1.0904327 & -1.0901653\\\\\n",
       "\t OL13 & chr11:61814735-61817343 & 17293.054 & 120547.5790 &  2.8013381 &  2.8012666\\\\\n",
       "\t OL13 & chr11:61822094-61822443 &  2705.029 &    949.0243 & -1.5111270 & -1.5101409\\\\\n",
       "\t OL13 & chr11:61825795-61826306 &  2879.504 &   2642.9275 & -0.1236834 & -0.1236386\\\\\n",
       "\\end{tabular}\n"
      ],
      "text/markdown": [
       "\n",
       "A tibble: 6 × 6\n",
       "\n",
       "| Dataset &lt;chr&gt; | Peak &lt;chr&gt; | Input &lt;dbl&gt; | Output &lt;dbl&gt; | Log2FC &lt;dbl&gt; | pLog2FC &lt;dbl&gt; |\n",
       "|---|---|---|---|---|---|\n",
       "| OL13 | chr11:61792068-61793464 | 10704.672 |  40948.1003 |  1.9355559 |  1.9354563 |\n",
       "| OL13 | chr11:61800085-61801113 |  8047.226 |  35129.2082 |  2.1261076 |  2.1259694 |\n",
       "| OL13 | chr11:61806630-61807154 |  6090.406 |   2860.1796 | -1.0904327 | -1.0901653 |\n",
       "| OL13 | chr11:61814735-61817343 | 17293.054 | 120547.5790 |  2.8013381 |  2.8012666 |\n",
       "| OL13 | chr11:61822094-61822443 |  2705.029 |    949.0243 | -1.5111270 | -1.5101409 |\n",
       "| OL13 | chr11:61825795-61826306 |  2879.504 |   2642.9275 | -0.1236834 | -0.1236386 |\n",
       "\n"
      ],
      "text/plain": [
       "  Dataset Peak                    Input     Output      Log2FC     pLog2FC   \n",
       "1 OL13    chr11:61792068-61793464 10704.672  40948.1003  1.9355559  1.9354563\n",
       "2 OL13    chr11:61800085-61801113  8047.226  35129.2082  2.1261076  2.1259694\n",
       "3 OL13    chr11:61806630-61807154  6090.406   2860.1796 -1.0904327 -1.0901653\n",
       "4 OL13    chr11:61814735-61817343 17293.054 120547.5790  2.8013381  2.8012666\n",
       "5 OL13    chr11:61822094-61822443  2705.029    949.0243 -1.5111270 -1.5101409\n",
       "6 OL13    chr11:61825795-61826306  2879.504   2642.9275 -0.1236834 -0.1236386"
      ]
     },
     "metadata": {},
     "output_type": "display_data"
    }
   ],
   "source": [
    "ASSAY   = \"Tewhey_K562_TileMPRA\"\n",
    "FOLDER  = \"coverage_astarrseq_peak_macs_input\"\n",
    "PREFIXS = c(\"OL13\", \"OL43\", \"OL45\")\n",
    "\n",
    "lst = lapply(PREFIXS, function(PREFIX){\n",
    "    ### set file path\n",
    "    fdiry = file.path(FD_RES, \"results\", ASSAY, FOLDER, \"summary\")\n",
    "    fname = paste(\"result.Log2FC.raw\", \"cpm\", PREFIX, \"tsv\", sep = \"*\")\n",
    "    fglob = file.path(fdiry, fname)\n",
    "    fpath = Sys.glob(fglob)\n",
    "    cat(fpath, \"\\n\\n\")\n",
    "    \n",
    "    ### read data\n",
    "    dat = read_tsv(fpath, show_col_types = FALSE)\n",
    "    return(dat)    \n",
    "})\n",
    "names(lst) = PREFIXS\n",
    "dat = bind_rows(lst, .id = \"Dataset\")\n",
    "\n",
    "###\n",
    "dat_log2fc_cpm_tmpra = dat\n",
    "print(dim(dat))\n",
    "head(dat)"
   ]
  },
  {
   "cell_type": "markdown",
   "metadata": {},
   "source": [
    "**TMPRA (DESeq2)**"
   ]
  },
  {
   "cell_type": "code",
   "execution_count": 3,
   "metadata": {},
   "outputs": [
    {
     "name": "stdout",
     "output_type": "stream",
     "text": [
      "/data/reddylab/Kuei/out/proj_combeffect_encode_fcc/results/Tewhey_K562_TileMPRA/coverage_astarrseq_peak_macs_input/summary/result.Log2FC.raw.deseq.OL13_20220512.tsv \n",
      "\n",
      "/data/reddylab/Kuei/out/proj_combeffect_encode_fcc/results/Tewhey_K562_TileMPRA/coverage_astarrseq_peak_macs_input/summary/result.Log2FC.raw.deseq.OL43_20221003.tsv \n",
      "\n",
      "/data/reddylab/Kuei/out/proj_combeffect_encode_fcc/results/Tewhey_K562_TileMPRA/coverage_astarrseq_peak_macs_input/summary/result.Log2FC.raw.deseq.OL45_20220927.tsv \n",
      "\n",
      "[1] 1722    8\n"
     ]
    },
    {
     "data": {
      "text/html": [
       "<table class=\"dataframe\">\n",
       "<caption>A tibble: 6 × 8</caption>\n",
       "<thead>\n",
       "\t<tr><th scope=col>Dataset</th><th scope=col>Peak</th><th scope=col>baseMean</th><th scope=col>log2FoldChange</th><th scope=col>lfcSE</th><th scope=col>stat</th><th scope=col>pvalue</th><th scope=col>padj</th></tr>\n",
       "\t<tr><th scope=col>&lt;chr&gt;</th><th scope=col>&lt;chr&gt;</th><th scope=col>&lt;dbl&gt;</th><th scope=col>&lt;dbl&gt;</th><th scope=col>&lt;dbl&gt;</th><th scope=col>&lt;dbl&gt;</th><th scope=col>&lt;dbl&gt;</th><th scope=col>&lt;dbl&gt;</th></tr>\n",
       "</thead>\n",
       "<tbody>\n",
       "\t<tr><td>OL13</td><td>chr11:61792068-61793464</td><td>260242.12</td><td> 1.6665654</td><td>0.03671583</td><td> 45.390919</td><td>0.000000e+00</td><td>0.000000e+00</td></tr>\n",
       "\t<tr><td>OL13</td><td>chr11:61800085-61801113</td><td>216437.58</td><td> 1.8554038</td><td>0.04389284</td><td> 42.271214</td><td>0.000000e+00</td><td>0.000000e+00</td></tr>\n",
       "\t<tr><td>OL13</td><td>chr11:61806630-61807154</td><td> 49327.33</td><td>-1.3562271</td><td>0.07733082</td><td>-17.537989</td><td>7.348170e-69</td><td>1.347165e-68</td></tr>\n",
       "\t<tr><td>OL13</td><td>chr11:61814735-61817343</td><td>682819.52</td><td> 2.5310145</td><td>0.03600593</td><td> 70.294376</td><td>0.000000e+00</td><td>0.000000e+00</td></tr>\n",
       "\t<tr><td>OL13</td><td>chr11:61822094-61822443</td><td> 20363.10</td><td>-1.7731459</td><td>0.16511332</td><td>-10.738963</td><td>6.679004e-27</td><td>8.163227e-27</td></tr>\n",
       "\t<tr><td>OL13</td><td>chr11:61825795-61826306</td><td> 29539.40</td><td>-0.3921375</td><td>0.05359585</td><td> -7.316565</td><td>2.543988e-13</td><td>2.665130e-13</td></tr>\n",
       "</tbody>\n",
       "</table>\n"
      ],
      "text/latex": [
       "A tibble: 6 × 8\n",
       "\\begin{tabular}{llllllll}\n",
       " Dataset & Peak & baseMean & log2FoldChange & lfcSE & stat & pvalue & padj\\\\\n",
       " <chr> & <chr> & <dbl> & <dbl> & <dbl> & <dbl> & <dbl> & <dbl>\\\\\n",
       "\\hline\n",
       "\t OL13 & chr11:61792068-61793464 & 260242.12 &  1.6665654 & 0.03671583 &  45.390919 & 0.000000e+00 & 0.000000e+00\\\\\n",
       "\t OL13 & chr11:61800085-61801113 & 216437.58 &  1.8554038 & 0.04389284 &  42.271214 & 0.000000e+00 & 0.000000e+00\\\\\n",
       "\t OL13 & chr11:61806630-61807154 &  49327.33 & -1.3562271 & 0.07733082 & -17.537989 & 7.348170e-69 & 1.347165e-68\\\\\n",
       "\t OL13 & chr11:61814735-61817343 & 682819.52 &  2.5310145 & 0.03600593 &  70.294376 & 0.000000e+00 & 0.000000e+00\\\\\n",
       "\t OL13 & chr11:61822094-61822443 &  20363.10 & -1.7731459 & 0.16511332 & -10.738963 & 6.679004e-27 & 8.163227e-27\\\\\n",
       "\t OL13 & chr11:61825795-61826306 &  29539.40 & -0.3921375 & 0.05359585 &  -7.316565 & 2.543988e-13 & 2.665130e-13\\\\\n",
       "\\end{tabular}\n"
      ],
      "text/markdown": [
       "\n",
       "A tibble: 6 × 8\n",
       "\n",
       "| Dataset &lt;chr&gt; | Peak &lt;chr&gt; | baseMean &lt;dbl&gt; | log2FoldChange &lt;dbl&gt; | lfcSE &lt;dbl&gt; | stat &lt;dbl&gt; | pvalue &lt;dbl&gt; | padj &lt;dbl&gt; |\n",
       "|---|---|---|---|---|---|---|---|\n",
       "| OL13 | chr11:61792068-61793464 | 260242.12 |  1.6665654 | 0.03671583 |  45.390919 | 0.000000e+00 | 0.000000e+00 |\n",
       "| OL13 | chr11:61800085-61801113 | 216437.58 |  1.8554038 | 0.04389284 |  42.271214 | 0.000000e+00 | 0.000000e+00 |\n",
       "| OL13 | chr11:61806630-61807154 |  49327.33 | -1.3562271 | 0.07733082 | -17.537989 | 7.348170e-69 | 1.347165e-68 |\n",
       "| OL13 | chr11:61814735-61817343 | 682819.52 |  2.5310145 | 0.03600593 |  70.294376 | 0.000000e+00 | 0.000000e+00 |\n",
       "| OL13 | chr11:61822094-61822443 |  20363.10 | -1.7731459 | 0.16511332 | -10.738963 | 6.679004e-27 | 8.163227e-27 |\n",
       "| OL13 | chr11:61825795-61826306 |  29539.40 | -0.3921375 | 0.05359585 |  -7.316565 | 2.543988e-13 | 2.665130e-13 |\n",
       "\n"
      ],
      "text/plain": [
       "  Dataset Peak                    baseMean  log2FoldChange lfcSE     \n",
       "1 OL13    chr11:61792068-61793464 260242.12  1.6665654     0.03671583\n",
       "2 OL13    chr11:61800085-61801113 216437.58  1.8554038     0.04389284\n",
       "3 OL13    chr11:61806630-61807154  49327.33 -1.3562271     0.07733082\n",
       "4 OL13    chr11:61814735-61817343 682819.52  2.5310145     0.03600593\n",
       "5 OL13    chr11:61822094-61822443  20363.10 -1.7731459     0.16511332\n",
       "6 OL13    chr11:61825795-61826306  29539.40 -0.3921375     0.05359585\n",
       "  stat       pvalue       padj        \n",
       "1  45.390919 0.000000e+00 0.000000e+00\n",
       "2  42.271214 0.000000e+00 0.000000e+00\n",
       "3 -17.537989 7.348170e-69 1.347165e-68\n",
       "4  70.294376 0.000000e+00 0.000000e+00\n",
       "5 -10.738963 6.679004e-27 8.163227e-27\n",
       "6  -7.316565 2.543988e-13 2.665130e-13"
      ]
     },
     "metadata": {},
     "output_type": "display_data"
    }
   ],
   "source": [
    "ASSAY   = \"Tewhey_K562_TileMPRA\"\n",
    "FOLDER  = \"coverage_astarrseq_peak_macs_input\"\n",
    "PREFIXS = c(\"OL13\", \"OL43\", \"OL45\")\n",
    "\n",
    "lst = lapply(PREFIXS, function(PREFIX){\n",
    "    ### set file path\n",
    "    fdiry = file.path(FD_RES, \"results\", ASSAY, FOLDER, \"summary\")\n",
    "    fname = paste(\"result.Log2FC.raw\", \"deseq\", PREFIX, \"tsv\", sep = \"*\")\n",
    "    fglob = file.path(fdiry, fname)\n",
    "    fpath = Sys.glob(fglob)\n",
    "    cat(fpath, \"\\n\\n\")\n",
    "    \n",
    "    ### read data\n",
    "    dat = read_tsv(fpath, show_col_types = FALSE)\n",
    "    return(dat)    \n",
    "})\n",
    "names(lst) = PREFIXS\n",
    "dat = bind_rows(lst, .id = \"Dataset\")\n",
    "\n",
    "###\n",
    "dat_log2fc_deseq_tmpra = dat\n",
    "print(dim(dat))\n",
    "head(dat)"
   ]
  },
  {
   "cell_type": "markdown",
   "metadata": {},
   "source": [
    "## Save results"
   ]
  },
  {
   "cell_type": "code",
   "execution_count": 4,
   "metadata": {},
   "outputs": [
    {
     "name": "stdout",
     "output_type": "stream",
     "text": [
      "/data/reddylab/Kuei/out/proj_combeffect_encode_fcc/results/Tewhey_K562_TileMPRA/coverage_astarrseq_peak_macs_input/summary/result.Log2FC.raw.cpm.Merge.tsv"
     ]
    }
   ],
   "source": [
    "ASSAY   = \"Tewhey_K562_TileMPRA\"\n",
    "FOLDER  = \"coverage_astarrseq_peak_macs_input\"\n",
    "\n",
    "fdiry = file.path(FD_RES, \"results\", ASSAY, FOLDER, \"summary\")\n",
    "fname = \"result.Log2FC.raw.cpm.Merge.tsv\"\n",
    "fpath = file.path(fdiry, fname)\n",
    "cat(fpath)\n",
    "\n",
    "write_tsv(dat_log2fc_cpm_tmpra, fpath)"
   ]
  },
  {
   "cell_type": "code",
   "execution_count": 5,
   "metadata": {},
   "outputs": [
    {
     "name": "stdout",
     "output_type": "stream",
     "text": [
      "/data/reddylab/Kuei/out/proj_combeffect_encode_fcc/results/Tewhey_K562_TileMPRA/coverage_astarrseq_peak_macs_input/summary/result.Log2FC.raw.deseq.Merge.tsv"
     ]
    }
   ],
   "source": [
    "ASSAY   = \"Tewhey_K562_TileMPRA\"\n",
    "FOLDER  = \"coverage_astarrseq_peak_macs_input\"\n",
    "\n",
    "fdiry = file.path(FD_RES, \"results\", ASSAY, FOLDER, \"summary\")\n",
    "fname = \"result.Log2FC.raw.deseq.Merge.tsv\"\n",
    "fpath = file.path(fdiry, fname)\n",
    "cat(fpath)\n",
    "\n",
    "write_tsv(dat_log2fc_deseq_tmpra, fpath)"
   ]
  },
  {
   "cell_type": "code",
   "execution_count": null,
   "metadata": {},
   "outputs": [],
   "source": []
  }
 ],
 "metadata": {
  "kernelspec": {
   "display_name": "R",
   "language": "R",
   "name": "ir"
  },
  "language_info": {
   "codemirror_mode": "r",
   "file_extension": ".r",
   "mimetype": "text/x-r-source",
   "name": "R",
   "pygments_lexer": "r",
   "version": "4.3.0"
  }
 },
 "nbformat": 4,
 "nbformat_minor": 4
}
