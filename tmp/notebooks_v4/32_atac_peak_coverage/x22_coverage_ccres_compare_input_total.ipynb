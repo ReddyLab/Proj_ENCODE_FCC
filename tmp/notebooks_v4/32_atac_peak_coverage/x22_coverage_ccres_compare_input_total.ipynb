{
 "cells": [
  {
   "cell_type": "markdown",
   "id": "6ca39d96-2017-4b40-90da-5e587f4070b7",
   "metadata": {},
   "source": [
    "**Set environment**"
   ]
  },
  {
   "cell_type": "code",
   "execution_count": 1,
   "id": "9d883341-5f06-48b6-a33f-339ecfb3a22b",
   "metadata": {},
   "outputs": [
    {
     "name": "stdout",
     "output_type": "stream",
     "text": [
      "You are in Singularity: singularity_proj_encode_fcc \n",
      "BASE DIRECTORY (FD_BASE): /data/reddylab/Kuei \n",
      "WORK DIRECTORY (FD_WORK): /data/reddylab/Kuei/out \n",
      "CODE DIRECTORY (FD_CODE): /data/reddylab/Kuei/code \n",
      "PATH OF PROJECT (FD_PRJ): /data/reddylab/Kuei/code/Proj_CombEffect_ENCODE_FCC \n",
      "PATH OF RESULTS (FD_RES): /data/reddylab/Kuei/out/proj_combeffect_encode_fcc \n",
      "PATH OF LOG     (FD_LOG): /data/reddylab/Kuei/out/proj_combeffect_encode_fcc/log \n"
     ]
    }
   ],
   "source": [
    "suppressMessages(suppressWarnings(source(\"../config/config_sing.R\")))\n",
    "show_env()"
   ]
  },
  {
   "cell_type": "markdown",
   "id": "6f4768ab-724d-4706-983b-25ea0a572fdc",
   "metadata": {},
   "source": [
    "## Import data"
   ]
  },
  {
   "cell_type": "code",
   "execution_count": 2,
   "id": "771a413d-b2bb-4a3c-81bd-f0e6f8a16401",
   "metadata": {},
   "outputs": [],
   "source": [
    "TXT_FOLDR = \"coverage_ccres_v4\""
   ]
  },
  {
   "cell_type": "code",
   "execution_count": 3,
   "id": "c887537d-9cfa-4447-aabd-f9ac998ec7a3",
   "metadata": {},
   "outputs": [
    {
     "name": "stdout",
     "output_type": "stream",
     "text": [
      "[1] TRUE\n",
      "[1] 23488540       11\n"
     ]
    },
    {
     "data": {
      "text/html": [
       "<table class=\"dataframe\">\n",
       "<caption>A tibble: 6 × 11</caption>\n",
       "<thead>\n",
       "\t<tr><th scope=col>Chrom</th><th scope=col>Start</th><th scope=col>End</th><th scope=col>Region</th><th scope=col>Index</th><th scope=col>Label</th><th scope=col>Sample</th><th scope=col>Group</th><th scope=col>Count</th><th scope=col>CPM</th><th scope=col>Assay_Type</th></tr>\n",
       "\t<tr><th scope=col>&lt;chr&gt;</th><th scope=col>&lt;dbl&gt;</th><th scope=col>&lt;dbl&gt;</th><th scope=col>&lt;chr&gt;</th><th scope=col>&lt;chr&gt;</th><th scope=col>&lt;chr&gt;</th><th scope=col>&lt;chr&gt;</th><th scope=col>&lt;chr&gt;</th><th scope=col>&lt;dbl&gt;</th><th scope=col>&lt;dbl&gt;</th><th scope=col>&lt;chr&gt;</th></tr>\n",
       "</thead>\n",
       "<tbody>\n",
       "\t<tr><td>chr1</td><td>10033</td><td>10250</td><td>chr1:10033-10250</td><td>EH38E2776516</td><td>Low-DNase</td><td>Input.rep1</td><td>Input</td><td>118</td><td>0.3384046</td><td>ASTARR</td></tr>\n",
       "\t<tr><td>chr1</td><td>10385</td><td>10713</td><td>chr1:10385-10713</td><td>EH38E2776517</td><td>Low-DNase</td><td>Input.rep1</td><td>Input</td><td> 34</td><td>0.0975064</td><td>ASTARR</td></tr>\n",
       "\t<tr><td>chr1</td><td>16097</td><td>16381</td><td>chr1:16097-16381</td><td>EH38E3951272</td><td>Low-DNase</td><td>Input.rep1</td><td>Input</td><td>119</td><td>0.3412724</td><td>ASTARR</td></tr>\n",
       "\t<tr><td>chr1</td><td>17343</td><td>17642</td><td>chr1:17343-17642</td><td>EH38E3951273</td><td>Low-DNase</td><td>Input.rep1</td><td>Input</td><td>259</td><td>0.7427693</td><td>ASTARR</td></tr>\n",
       "\t<tr><td>chr1</td><td>29320</td><td>29517</td><td>chr1:29320-29517</td><td>EH38E3951274</td><td>Low-DNase</td><td>Input.rep1</td><td>Input</td><td>159</td><td>0.4559858</td><td>ASTARR</td></tr>\n",
       "\t<tr><td>chr1</td><td>66350</td><td>66509</td><td>chr1:66350-66509</td><td>EH38E3951275</td><td>Low-DNase</td><td>Input.rep1</td><td>Input</td><td>  0</td><td>0.0000000</td><td>ASTARR</td></tr>\n",
       "</tbody>\n",
       "</table>\n"
      ],
      "text/latex": [
       "A tibble: 6 × 11\n",
       "\\begin{tabular}{lllllllllll}\n",
       " Chrom & Start & End & Region & Index & Label & Sample & Group & Count & CPM & Assay\\_Type\\\\\n",
       " <chr> & <dbl> & <dbl> & <chr> & <chr> & <chr> & <chr> & <chr> & <dbl> & <dbl> & <chr>\\\\\n",
       "\\hline\n",
       "\t chr1 & 10033 & 10250 & chr1:10033-10250 & EH38E2776516 & Low-DNase & Input.rep1 & Input & 118 & 0.3384046 & ASTARR\\\\\n",
       "\t chr1 & 10385 & 10713 & chr1:10385-10713 & EH38E2776517 & Low-DNase & Input.rep1 & Input &  34 & 0.0975064 & ASTARR\\\\\n",
       "\t chr1 & 16097 & 16381 & chr1:16097-16381 & EH38E3951272 & Low-DNase & Input.rep1 & Input & 119 & 0.3412724 & ASTARR\\\\\n",
       "\t chr1 & 17343 & 17642 & chr1:17343-17642 & EH38E3951273 & Low-DNase & Input.rep1 & Input & 259 & 0.7427693 & ASTARR\\\\\n",
       "\t chr1 & 29320 & 29517 & chr1:29320-29517 & EH38E3951274 & Low-DNase & Input.rep1 & Input & 159 & 0.4559858 & ASTARR\\\\\n",
       "\t chr1 & 66350 & 66509 & chr1:66350-66509 & EH38E3951275 & Low-DNase & Input.rep1 & Input &   0 & 0.0000000 & ASTARR\\\\\n",
       "\\end{tabular}\n"
      ],
      "text/markdown": [
       "\n",
       "A tibble: 6 × 11\n",
       "\n",
       "| Chrom &lt;chr&gt; | Start &lt;dbl&gt; | End &lt;dbl&gt; | Region &lt;chr&gt; | Index &lt;chr&gt; | Label &lt;chr&gt; | Sample &lt;chr&gt; | Group &lt;chr&gt; | Count &lt;dbl&gt; | CPM &lt;dbl&gt; | Assay_Type &lt;chr&gt; |\n",
       "|---|---|---|---|---|---|---|---|---|---|---|\n",
       "| chr1 | 10033 | 10250 | chr1:10033-10250 | EH38E2776516 | Low-DNase | Input.rep1 | Input | 118 | 0.3384046 | ASTARR |\n",
       "| chr1 | 10385 | 10713 | chr1:10385-10713 | EH38E2776517 | Low-DNase | Input.rep1 | Input |  34 | 0.0975064 | ASTARR |\n",
       "| chr1 | 16097 | 16381 | chr1:16097-16381 | EH38E3951272 | Low-DNase | Input.rep1 | Input | 119 | 0.3412724 | ASTARR |\n",
       "| chr1 | 17343 | 17642 | chr1:17343-17642 | EH38E3951273 | Low-DNase | Input.rep1 | Input | 259 | 0.7427693 | ASTARR |\n",
       "| chr1 | 29320 | 29517 | chr1:29320-29517 | EH38E3951274 | Low-DNase | Input.rep1 | Input | 159 | 0.4559858 | ASTARR |\n",
       "| chr1 | 66350 | 66509 | chr1:66350-66509 | EH38E3951275 | Low-DNase | Input.rep1 | Input |   0 | 0.0000000 | ASTARR |\n",
       "\n"
      ],
      "text/plain": [
       "  Chrom Start End   Region           Index        Label     Sample     Group\n",
       "1 chr1  10033 10250 chr1:10033-10250 EH38E2776516 Low-DNase Input.rep1 Input\n",
       "2 chr1  10385 10713 chr1:10385-10713 EH38E2776517 Low-DNase Input.rep1 Input\n",
       "3 chr1  16097 16381 chr1:16097-16381 EH38E3951272 Low-DNase Input.rep1 Input\n",
       "4 chr1  17343 17642 chr1:17343-17642 EH38E3951273 Low-DNase Input.rep1 Input\n",
       "5 chr1  29320 29517 chr1:29320-29517 EH38E3951274 Low-DNase Input.rep1 Input\n",
       "6 chr1  66350 66509 chr1:66350-66509 EH38E3951275 Low-DNase Input.rep1 Input\n",
       "  Count CPM       Assay_Type\n",
       "1 118   0.3384046 ASTARR    \n",
       "2  34   0.0975064 ASTARR    \n",
       "3 119   0.3412724 ASTARR    \n",
       "4 259   0.7427693 ASTARR    \n",
       "5 159   0.4559858 ASTARR    \n",
       "6   0   0.0000000 ASTARR    "
      ]
     },
     "metadata": {},
     "output_type": "display_data"
    }
   ],
   "source": [
    "txt_assay = \"KS91_K562_ASTARRseq\"\n",
    "txt_fdiry = file.path(FD_RES, \"results\", txt_assay, TXT_FOLDR, \"summary\")\n",
    "txt_fname = \"coverage.count.cpm.tsv\"\n",
    "txt_fpath = file.path(txt_fdiry, txt_fname)\n",
    "print(file.exists(txt_fpath))\n",
    "\n",
    "dat = read_tsv(txt_fpath, show_col_types = FALSE)\n",
    "dat = dat %>% dplyr::mutate(Assay_Type = \"ASTARR\")\n",
    "\n",
    "dat_coverage_ccres_astarr = dat\n",
    "print(dim(dat))\n",
    "head(dat)"
   ]
  },
  {
   "cell_type": "code",
   "execution_count": 4,
   "id": "512f8dab-89e7-4c96-b227-2407b27d1c30",
   "metadata": {},
   "outputs": [
    {
     "name": "stdout",
     "output_type": "stream",
     "text": [
      "[1] TRUE\n",
      "[1] 16441978       11\n"
     ]
    },
    {
     "data": {
      "text/html": [
       "<table class=\"dataframe\">\n",
       "<caption>A tibble: 6 × 11</caption>\n",
       "<thead>\n",
       "\t<tr><th scope=col>Chrom</th><th scope=col>Start</th><th scope=col>End</th><th scope=col>Region</th><th scope=col>Index</th><th scope=col>Label</th><th scope=col>Sample</th><th scope=col>Group</th><th scope=col>Count</th><th scope=col>CPM</th><th scope=col>Assay_Type</th></tr>\n",
       "\t<tr><th scope=col>&lt;chr&gt;</th><th scope=col>&lt;dbl&gt;</th><th scope=col>&lt;dbl&gt;</th><th scope=col>&lt;chr&gt;</th><th scope=col>&lt;chr&gt;</th><th scope=col>&lt;chr&gt;</th><th scope=col>&lt;chr&gt;</th><th scope=col>&lt;chr&gt;</th><th scope=col>&lt;dbl&gt;</th><th scope=col>&lt;dbl&gt;</th><th scope=col>&lt;chr&gt;</th></tr>\n",
       "</thead>\n",
       "<tbody>\n",
       "\t<tr><td>chr1</td><td>10033</td><td>10250</td><td>chr1:10033-10250</td><td>EH38E2776516</td><td>Low-DNase</td><td>Input.rep1</td><td>Input</td><td>0</td><td>0.00000000</td><td>WSTARR</td></tr>\n",
       "\t<tr><td>chr1</td><td>10385</td><td>10713</td><td>chr1:10385-10713</td><td>EH38E2776517</td><td>Low-DNase</td><td>Input.rep1</td><td>Input</td><td>1</td><td>0.03716233</td><td>WSTARR</td></tr>\n",
       "\t<tr><td>chr1</td><td>16097</td><td>16381</td><td>chr1:16097-16381</td><td>EH38E3951272</td><td>Low-DNase</td><td>Input.rep1</td><td>Input</td><td>0</td><td>0.00000000</td><td>WSTARR</td></tr>\n",
       "\t<tr><td>chr1</td><td>17343</td><td>17642</td><td>chr1:17343-17642</td><td>EH38E3951273</td><td>Low-DNase</td><td>Input.rep1</td><td>Input</td><td>5</td><td>0.18581165</td><td>WSTARR</td></tr>\n",
       "\t<tr><td>chr1</td><td>29320</td><td>29517</td><td>chr1:29320-29517</td><td>EH38E3951274</td><td>Low-DNase</td><td>Input.rep1</td><td>Input</td><td>0</td><td>0.00000000</td><td>WSTARR</td></tr>\n",
       "\t<tr><td>chr1</td><td>66350</td><td>66509</td><td>chr1:66350-66509</td><td>EH38E3951275</td><td>Low-DNase</td><td>Input.rep1</td><td>Input</td><td>0</td><td>0.00000000</td><td>WSTARR</td></tr>\n",
       "</tbody>\n",
       "</table>\n"
      ],
      "text/latex": [
       "A tibble: 6 × 11\n",
       "\\begin{tabular}{lllllllllll}\n",
       " Chrom & Start & End & Region & Index & Label & Sample & Group & Count & CPM & Assay\\_Type\\\\\n",
       " <chr> & <dbl> & <dbl> & <chr> & <chr> & <chr> & <chr> & <chr> & <dbl> & <dbl> & <chr>\\\\\n",
       "\\hline\n",
       "\t chr1 & 10033 & 10250 & chr1:10033-10250 & EH38E2776516 & Low-DNase & Input.rep1 & Input & 0 & 0.00000000 & WSTARR\\\\\n",
       "\t chr1 & 10385 & 10713 & chr1:10385-10713 & EH38E2776517 & Low-DNase & Input.rep1 & Input & 1 & 0.03716233 & WSTARR\\\\\n",
       "\t chr1 & 16097 & 16381 & chr1:16097-16381 & EH38E3951272 & Low-DNase & Input.rep1 & Input & 0 & 0.00000000 & WSTARR\\\\\n",
       "\t chr1 & 17343 & 17642 & chr1:17343-17642 & EH38E3951273 & Low-DNase & Input.rep1 & Input & 5 & 0.18581165 & WSTARR\\\\\n",
       "\t chr1 & 29320 & 29517 & chr1:29320-29517 & EH38E3951274 & Low-DNase & Input.rep1 & Input & 0 & 0.00000000 & WSTARR\\\\\n",
       "\t chr1 & 66350 & 66509 & chr1:66350-66509 & EH38E3951275 & Low-DNase & Input.rep1 & Input & 0 & 0.00000000 & WSTARR\\\\\n",
       "\\end{tabular}\n"
      ],
      "text/markdown": [
       "\n",
       "A tibble: 6 × 11\n",
       "\n",
       "| Chrom &lt;chr&gt; | Start &lt;dbl&gt; | End &lt;dbl&gt; | Region &lt;chr&gt; | Index &lt;chr&gt; | Label &lt;chr&gt; | Sample &lt;chr&gt; | Group &lt;chr&gt; | Count &lt;dbl&gt; | CPM &lt;dbl&gt; | Assay_Type &lt;chr&gt; |\n",
       "|---|---|---|---|---|---|---|---|---|---|---|\n",
       "| chr1 | 10033 | 10250 | chr1:10033-10250 | EH38E2776516 | Low-DNase | Input.rep1 | Input | 0 | 0.00000000 | WSTARR |\n",
       "| chr1 | 10385 | 10713 | chr1:10385-10713 | EH38E2776517 | Low-DNase | Input.rep1 | Input | 1 | 0.03716233 | WSTARR |\n",
       "| chr1 | 16097 | 16381 | chr1:16097-16381 | EH38E3951272 | Low-DNase | Input.rep1 | Input | 0 | 0.00000000 | WSTARR |\n",
       "| chr1 | 17343 | 17642 | chr1:17343-17642 | EH38E3951273 | Low-DNase | Input.rep1 | Input | 5 | 0.18581165 | WSTARR |\n",
       "| chr1 | 29320 | 29517 | chr1:29320-29517 | EH38E3951274 | Low-DNase | Input.rep1 | Input | 0 | 0.00000000 | WSTARR |\n",
       "| chr1 | 66350 | 66509 | chr1:66350-66509 | EH38E3951275 | Low-DNase | Input.rep1 | Input | 0 | 0.00000000 | WSTARR |\n",
       "\n"
      ],
      "text/plain": [
       "  Chrom Start End   Region           Index        Label     Sample     Group\n",
       "1 chr1  10033 10250 chr1:10033-10250 EH38E2776516 Low-DNase Input.rep1 Input\n",
       "2 chr1  10385 10713 chr1:10385-10713 EH38E2776517 Low-DNase Input.rep1 Input\n",
       "3 chr1  16097 16381 chr1:16097-16381 EH38E3951272 Low-DNase Input.rep1 Input\n",
       "4 chr1  17343 17642 chr1:17343-17642 EH38E3951273 Low-DNase Input.rep1 Input\n",
       "5 chr1  29320 29517 chr1:29320-29517 EH38E3951274 Low-DNase Input.rep1 Input\n",
       "6 chr1  66350 66509 chr1:66350-66509 EH38E3951275 Low-DNase Input.rep1 Input\n",
       "  Count CPM        Assay_Type\n",
       "1 0     0.00000000 WSTARR    \n",
       "2 1     0.03716233 WSTARR    \n",
       "3 0     0.00000000 WSTARR    \n",
       "4 5     0.18581165 WSTARR    \n",
       "5 0     0.00000000 WSTARR    \n",
       "6 0     0.00000000 WSTARR    "
      ]
     },
     "metadata": {},
     "output_type": "display_data"
    }
   ],
   "source": [
    "txt_assay = \"A001_K562_WSTARRseq\"\n",
    "txt_fdiry = file.path(FD_RES, \"results\", txt_assay, TXT_FOLDR, \"summary\")\n",
    "txt_fname = \"coverage.count.cpm.tsv\"\n",
    "txt_fpath = file.path(txt_fdiry, txt_fname)\n",
    "print(file.exists(txt_fpath))\n",
    "\n",
    "dat = read_tsv(txt_fpath, show_col_types = FALSE)\n",
    "dat = dat %>% dplyr::mutate(Assay_Type = \"WSTARR\")\n",
    "\n",
    "dat_coverage_ccres_wstarr = dat\n",
    "print(dim(dat))\n",
    "head(dat)"
   ]
  },
  {
   "cell_type": "code",
   "execution_count": 6,
   "id": "e2e04f6f-2fc6-4ce3-948a-1117628be39c",
   "metadata": {},
   "outputs": [
    {
     "name": "stdout",
     "output_type": "stream",
     "text": [
      "[1] TRUE\n",
      "[1] 221890      8\n"
     ]
    },
    {
     "data": {
      "text/html": [
       "<table class=\"dataframe\">\n",
       "<caption>A tibble: 6 × 8</caption>\n",
       "<thead>\n",
       "\t<tr><th scope=col>Chrom</th><th scope=col>Start</th><th scope=col>End</th><th scope=col>Region</th><th scope=col>Index</th><th scope=col>Label</th><th scope=col>Score</th><th scope=col>Assay_Type</th></tr>\n",
       "\t<tr><th scope=col>&lt;chr&gt;</th><th scope=col>&lt;dbl&gt;</th><th scope=col>&lt;dbl&gt;</th><th scope=col>&lt;chr&gt;</th><th scope=col>&lt;chr&gt;</th><th scope=col>&lt;chr&gt;</th><th scope=col>&lt;dbl&gt;</th><th scope=col>&lt;chr&gt;</th></tr>\n",
       "</thead>\n",
       "<tbody>\n",
       "\t<tr><td>chr1</td><td>115562</td><td>115912</td><td>chr1:115562-115912</td><td>EH38E3951280</td><td>CA-CTCF</td><td> 2.05110076</td><td>LMPRA</td></tr>\n",
       "\t<tr><td>chr1</td><td>138917</td><td>139112</td><td>chr1:138917-139112</td><td>EH38E3951286</td><td>pELS   </td><td> 1.53918178</td><td>LMPRA</td></tr>\n",
       "\t<tr><td>chr1</td><td>138917</td><td>139112</td><td>chr1:138917-139112</td><td>EH38E3951286</td><td>pELS   </td><td>-0.06555714</td><td>LMPRA</td></tr>\n",
       "\t<tr><td>chr1</td><td>267925</td><td>268171</td><td>chr1:267925-268171</td><td>EH38E2776528</td><td>CA-CTCF</td><td>-1.60494471</td><td>LMPRA</td></tr>\n",
       "\t<tr><td>chr1</td><td>267925</td><td>268171</td><td>chr1:267925-268171</td><td>EH38E2776528</td><td>CA-CTCF</td><td> 2.72276750</td><td>LMPRA</td></tr>\n",
       "\t<tr><td>chr1</td><td>586036</td><td>586264</td><td>chr1:586036-586264</td><td>EH38E2776532</td><td>CA-CTCF</td><td> 0.30476722</td><td>LMPRA</td></tr>\n",
       "</tbody>\n",
       "</table>\n"
      ],
      "text/latex": [
       "A tibble: 6 × 8\n",
       "\\begin{tabular}{llllllll}\n",
       " Chrom & Start & End & Region & Index & Label & Score & Assay\\_Type\\\\\n",
       " <chr> & <dbl> & <dbl> & <chr> & <chr> & <chr> & <dbl> & <chr>\\\\\n",
       "\\hline\n",
       "\t chr1 & 115562 & 115912 & chr1:115562-115912 & EH38E3951280 & CA-CTCF &  2.05110076 & LMPRA\\\\\n",
       "\t chr1 & 138917 & 139112 & chr1:138917-139112 & EH38E3951286 & pELS    &  1.53918178 & LMPRA\\\\\n",
       "\t chr1 & 138917 & 139112 & chr1:138917-139112 & EH38E3951286 & pELS    & -0.06555714 & LMPRA\\\\\n",
       "\t chr1 & 267925 & 268171 & chr1:267925-268171 & EH38E2776528 & CA-CTCF & -1.60494471 & LMPRA\\\\\n",
       "\t chr1 & 267925 & 268171 & chr1:267925-268171 & EH38E2776528 & CA-CTCF &  2.72276750 & LMPRA\\\\\n",
       "\t chr1 & 586036 & 586264 & chr1:586036-586264 & EH38E2776532 & CA-CTCF &  0.30476722 & LMPRA\\\\\n",
       "\\end{tabular}\n"
      ],
      "text/markdown": [
       "\n",
       "A tibble: 6 × 8\n",
       "\n",
       "| Chrom &lt;chr&gt; | Start &lt;dbl&gt; | End &lt;dbl&gt; | Region &lt;chr&gt; | Index &lt;chr&gt; | Label &lt;chr&gt; | Score &lt;dbl&gt; | Assay_Type &lt;chr&gt; |\n",
       "|---|---|---|---|---|---|---|---|\n",
       "| chr1 | 115562 | 115912 | chr1:115562-115912 | EH38E3951280 | CA-CTCF |  2.05110076 | LMPRA |\n",
       "| chr1 | 138917 | 139112 | chr1:138917-139112 | EH38E3951286 | pELS    |  1.53918178 | LMPRA |\n",
       "| chr1 | 138917 | 139112 | chr1:138917-139112 | EH38E3951286 | pELS    | -0.06555714 | LMPRA |\n",
       "| chr1 | 267925 | 268171 | chr1:267925-268171 | EH38E2776528 | CA-CTCF | -1.60494471 | LMPRA |\n",
       "| chr1 | 267925 | 268171 | chr1:267925-268171 | EH38E2776528 | CA-CTCF |  2.72276750 | LMPRA |\n",
       "| chr1 | 586036 | 586264 | chr1:586036-586264 | EH38E2776532 | CA-CTCF |  0.30476722 | LMPRA |\n",
       "\n"
      ],
      "text/plain": [
       "  Chrom Start  End    Region             Index        Label   Score      \n",
       "1 chr1  115562 115912 chr1:115562-115912 EH38E3951280 CA-CTCF  2.05110076\n",
       "2 chr1  138917 139112 chr1:138917-139112 EH38E3951286 pELS     1.53918178\n",
       "3 chr1  138917 139112 chr1:138917-139112 EH38E3951286 pELS    -0.06555714\n",
       "4 chr1  267925 268171 chr1:267925-268171 EH38E2776528 CA-CTCF -1.60494471\n",
       "5 chr1  267925 268171 chr1:267925-268171 EH38E2776528 CA-CTCF  2.72276750\n",
       "6 chr1  586036 586264 chr1:586036-586264 EH38E2776532 CA-CTCF  0.30476722\n",
       "  Assay_Type\n",
       "1 LMPRA     \n",
       "2 LMPRA     \n",
       "3 LMPRA     \n",
       "4 LMPRA     \n",
       "5 LMPRA     \n",
       "6 LMPRA     "
      ]
     },
     "metadata": {},
     "output_type": "display_data"
    }
   ],
   "source": [
    "txt_assay = \"LentiMPRA_K562_Nadav\"\n",
    "txt_fdiry = file.path(FD_RES, \"results\", txt_assay, TXT_FOLDR, \"summary\")\n",
    "txt_fname = \"results.score.vikram230621.tsv\"\n",
    "txt_fpath = file.path(txt_fdiry, txt_fname)\n",
    "print(file.exists(txt_fpath))\n",
    "\n",
    "dat = read_tsv(txt_fpath, show_col_types = FALSE)\n",
    "dat = dat %>% dplyr::mutate(Assay_Type = \"LMPRA\")\n",
    "\n",
    "dat_coverage_ccres_lmpra = dat\n",
    "print(dim(dat))\n",
    "head(dat)"
   ]
  },
  {
   "cell_type": "code",
   "execution_count": 22,
   "id": "1f01ee87-093b-4737-8f25-d875366371a7",
   "metadata": {},
   "outputs": [
    {
     "name": "stdout",
     "output_type": "stream",
     "text": [
      "[1] TRUE\n",
      "[1] 287631      9\n"
     ]
    },
    {
     "data": {
      "text/html": [
       "<table class=\"dataframe\">\n",
       "<caption>A tibble: 6 × 9</caption>\n",
       "<thead>\n",
       "\t<tr><th scope=col>Chrom</th><th scope=col>Start</th><th scope=col>End</th><th scope=col>Region</th><th scope=col>Gene</th><th scope=col>Index</th><th scope=col>Label</th><th scope=col>Score</th><th scope=col>Assay_Type</th></tr>\n",
       "\t<tr><th scope=col>&lt;chr&gt;</th><th scope=col>&lt;dbl&gt;</th><th scope=col>&lt;dbl&gt;</th><th scope=col>&lt;chr&gt;</th><th scope=col>&lt;chr&gt;</th><th scope=col>&lt;chr&gt;</th><th scope=col>&lt;chr&gt;</th><th scope=col>&lt;dbl&gt;</th><th scope=col>&lt;chr&gt;</th></tr>\n",
       "</thead>\n",
       "<tbody>\n",
       "\t<tr><td>chr11</td><td>4092009</td><td>4092343</td><td>chr11:4092009-4092343</td><td>HBE1</td><td>EH38E2941664</td><td>dELS</td><td> 0.872537</td><td>CRISPRi-HCRFF</td></tr>\n",
       "\t<tr><td>chr11</td><td>4092009</td><td>4092343</td><td>chr11:4092009-4092343</td><td>HBE1</td><td>EH38E2941664</td><td>dELS</td><td> 1.318650</td><td>CRISPRi-HCRFF</td></tr>\n",
       "\t<tr><td>chr11</td><td>4092009</td><td>4092343</td><td>chr11:4092009-4092343</td><td>HBE1</td><td>EH38E2941664</td><td>dELS</td><td>-0.105160</td><td>CRISPRi-HCRFF</td></tr>\n",
       "\t<tr><td>chr11</td><td>4092009</td><td>4092343</td><td>chr11:4092009-4092343</td><td>HBE1</td><td>EH38E2941664</td><td>dELS</td><td> 0.216536</td><td>CRISPRi-HCRFF</td></tr>\n",
       "\t<tr><td>chr11</td><td>4092009</td><td>4092343</td><td>chr11:4092009-4092343</td><td>HBE1</td><td>EH38E2941664</td><td>dELS</td><td>-0.269330</td><td>CRISPRi-HCRFF</td></tr>\n",
       "\t<tr><td>chr11</td><td>4092009</td><td>4092343</td><td>chr11:4092009-4092343</td><td>HBE1</td><td>EH38E2941664</td><td>dELS</td><td>-1.367700</td><td>CRISPRi-HCRFF</td></tr>\n",
       "</tbody>\n",
       "</table>\n"
      ],
      "text/latex": [
       "A tibble: 6 × 9\n",
       "\\begin{tabular}{lllllllll}\n",
       " Chrom & Start & End & Region & Gene & Index & Label & Score & Assay\\_Type\\\\\n",
       " <chr> & <dbl> & <dbl> & <chr> & <chr> & <chr> & <chr> & <dbl> & <chr>\\\\\n",
       "\\hline\n",
       "\t chr11 & 4092009 & 4092343 & chr11:4092009-4092343 & HBE1 & EH38E2941664 & dELS &  0.872537 & CRISPRi-HCRFF\\\\\n",
       "\t chr11 & 4092009 & 4092343 & chr11:4092009-4092343 & HBE1 & EH38E2941664 & dELS &  1.318650 & CRISPRi-HCRFF\\\\\n",
       "\t chr11 & 4092009 & 4092343 & chr11:4092009-4092343 & HBE1 & EH38E2941664 & dELS & -0.105160 & CRISPRi-HCRFF\\\\\n",
       "\t chr11 & 4092009 & 4092343 & chr11:4092009-4092343 & HBE1 & EH38E2941664 & dELS &  0.216536 & CRISPRi-HCRFF\\\\\n",
       "\t chr11 & 4092009 & 4092343 & chr11:4092009-4092343 & HBE1 & EH38E2941664 & dELS & -0.269330 & CRISPRi-HCRFF\\\\\n",
       "\t chr11 & 4092009 & 4092343 & chr11:4092009-4092343 & HBE1 & EH38E2941664 & dELS & -1.367700 & CRISPRi-HCRFF\\\\\n",
       "\\end{tabular}\n"
      ],
      "text/markdown": [
       "\n",
       "A tibble: 6 × 9\n",
       "\n",
       "| Chrom &lt;chr&gt; | Start &lt;dbl&gt; | End &lt;dbl&gt; | Region &lt;chr&gt; | Gene &lt;chr&gt; | Index &lt;chr&gt; | Label &lt;chr&gt; | Score &lt;dbl&gt; | Assay_Type &lt;chr&gt; |\n",
       "|---|---|---|---|---|---|---|---|---|\n",
       "| chr11 | 4092009 | 4092343 | chr11:4092009-4092343 | HBE1 | EH38E2941664 | dELS |  0.872537 | CRISPRi-HCRFF |\n",
       "| chr11 | 4092009 | 4092343 | chr11:4092009-4092343 | HBE1 | EH38E2941664 | dELS |  1.318650 | CRISPRi-HCRFF |\n",
       "| chr11 | 4092009 | 4092343 | chr11:4092009-4092343 | HBE1 | EH38E2941664 | dELS | -0.105160 | CRISPRi-HCRFF |\n",
       "| chr11 | 4092009 | 4092343 | chr11:4092009-4092343 | HBE1 | EH38E2941664 | dELS |  0.216536 | CRISPRi-HCRFF |\n",
       "| chr11 | 4092009 | 4092343 | chr11:4092009-4092343 | HBE1 | EH38E2941664 | dELS | -0.269330 | CRISPRi-HCRFF |\n",
       "| chr11 | 4092009 | 4092343 | chr11:4092009-4092343 | HBE1 | EH38E2941664 | dELS | -1.367700 | CRISPRi-HCRFF |\n",
       "\n"
      ],
      "text/plain": [
       "  Chrom Start   End     Region                Gene Index        Label Score    \n",
       "1 chr11 4092009 4092343 chr11:4092009-4092343 HBE1 EH38E2941664 dELS   0.872537\n",
       "2 chr11 4092009 4092343 chr11:4092009-4092343 HBE1 EH38E2941664 dELS   1.318650\n",
       "3 chr11 4092009 4092343 chr11:4092009-4092343 HBE1 EH38E2941664 dELS  -0.105160\n",
       "4 chr11 4092009 4092343 chr11:4092009-4092343 HBE1 EH38E2941664 dELS   0.216536\n",
       "5 chr11 4092009 4092343 chr11:4092009-4092343 HBE1 EH38E2941664 dELS  -0.269330\n",
       "6 chr11 4092009 4092343 chr11:4092009-4092343 HBE1 EH38E2941664 dELS  -1.367700\n",
       "  Assay_Type   \n",
       "1 CRISPRi-HCRFF\n",
       "2 CRISPRi-HCRFF\n",
       "3 CRISPRi-HCRFF\n",
       "4 CRISPRi-HCRFF\n",
       "5 CRISPRi-HCRFF\n",
       "6 CRISPRi-HCRFF"
      ]
     },
     "metadata": {},
     "output_type": "display_data"
    }
   ],
   "source": [
    "txt_assay = \"CRISPRi_FlowFISH\"\n",
    "txt_fdiry = file.path(FD_RES, \"results\", txt_assay, TXT_FOLDR, \"summary\")\n",
    "txt_fname = \"results.score.tsv\"\n",
    "txt_fpath = file.path(txt_fdiry, txt_fname)\n",
    "print(file.exists(txt_fpath))\n",
    "\n",
    "dat = read_tsv(txt_fpath, show_col_types = FALSE)\n",
    "dat = dat %>% dplyr::mutate(Assay_Type = \"CRISPRi-HCRFF\")\n",
    "\n",
    "dat_coverage_ccres_crispri_hcrff = dat\n",
    "print(dim(dat))\n",
    "head(dat)"
   ]
  },
  {
   "cell_type": "code",
   "execution_count": 23,
   "id": "26dd287f-c316-4ace-b06d-af1d56f4dd2e",
   "metadata": {},
   "outputs": [
    {
     "name": "stdout",
     "output_type": "stream",
     "text": [
      "[1] TRUE\n",
      "[1] 885681      8\n"
     ]
    },
    {
     "data": {
      "text/html": [
       "<table class=\"dataframe\">\n",
       "<caption>A tibble: 6 × 8</caption>\n",
       "<thead>\n",
       "\t<tr><th scope=col>Chrom</th><th scope=col>Start</th><th scope=col>End</th><th scope=col>Region</th><th scope=col>Index</th><th scope=col>Label</th><th scope=col>Score</th><th scope=col>Assay_Type</th></tr>\n",
       "\t<tr><th scope=col>&lt;chr&gt;</th><th scope=col>&lt;dbl&gt;</th><th scope=col>&lt;dbl&gt;</th><th scope=col>&lt;chr&gt;</th><th scope=col>&lt;chr&gt;</th><th scope=col>&lt;chr&gt;</th><th scope=col>&lt;dbl&gt;</th><th scope=col>&lt;chr&gt;</th></tr>\n",
       "</thead>\n",
       "<tbody>\n",
       "\t<tr><td>chr1</td><td>605330</td><td>605668</td><td>chr1:605330-605668</td><td>EH38E2776534</td><td>CA-TF</td><td>-0.180660</td><td>CRISPRi-Growth</td></tr>\n",
       "\t<tr><td>chr1</td><td>605330</td><td>605668</td><td>chr1:605330-605668</td><td>EH38E2776534</td><td>CA-TF</td><td> 0.486646</td><td>CRISPRi-Growth</td></tr>\n",
       "\t<tr><td>chr1</td><td>605330</td><td>605668</td><td>chr1:605330-605668</td><td>EH38E2776534</td><td>CA-TF</td><td> 3.171240</td><td>CRISPRi-Growth</td></tr>\n",
       "\t<tr><td>chr1</td><td>605330</td><td>605668</td><td>chr1:605330-605668</td><td>EH38E2776534</td><td>CA-TF</td><td>-0.364573</td><td>CRISPRi-Growth</td></tr>\n",
       "\t<tr><td>chr1</td><td>605330</td><td>605668</td><td>chr1:605330-605668</td><td>EH38E2776534</td><td>CA-TF</td><td>-0.206319</td><td>CRISPRi-Growth</td></tr>\n",
       "\t<tr><td>chr1</td><td>605330</td><td>605668</td><td>chr1:605330-605668</td><td>EH38E2776534</td><td>CA-TF</td><td>-0.266750</td><td>CRISPRi-Growth</td></tr>\n",
       "</tbody>\n",
       "</table>\n"
      ],
      "text/latex": [
       "A tibble: 6 × 8\n",
       "\\begin{tabular}{llllllll}\n",
       " Chrom & Start & End & Region & Index & Label & Score & Assay\\_Type\\\\\n",
       " <chr> & <dbl> & <dbl> & <chr> & <chr> & <chr> & <dbl> & <chr>\\\\\n",
       "\\hline\n",
       "\t chr1 & 605330 & 605668 & chr1:605330-605668 & EH38E2776534 & CA-TF & -0.180660 & CRISPRi-Growth\\\\\n",
       "\t chr1 & 605330 & 605668 & chr1:605330-605668 & EH38E2776534 & CA-TF &  0.486646 & CRISPRi-Growth\\\\\n",
       "\t chr1 & 605330 & 605668 & chr1:605330-605668 & EH38E2776534 & CA-TF &  3.171240 & CRISPRi-Growth\\\\\n",
       "\t chr1 & 605330 & 605668 & chr1:605330-605668 & EH38E2776534 & CA-TF & -0.364573 & CRISPRi-Growth\\\\\n",
       "\t chr1 & 605330 & 605668 & chr1:605330-605668 & EH38E2776534 & CA-TF & -0.206319 & CRISPRi-Growth\\\\\n",
       "\t chr1 & 605330 & 605668 & chr1:605330-605668 & EH38E2776534 & CA-TF & -0.266750 & CRISPRi-Growth\\\\\n",
       "\\end{tabular}\n"
      ],
      "text/markdown": [
       "\n",
       "A tibble: 6 × 8\n",
       "\n",
       "| Chrom &lt;chr&gt; | Start &lt;dbl&gt; | End &lt;dbl&gt; | Region &lt;chr&gt; | Index &lt;chr&gt; | Label &lt;chr&gt; | Score &lt;dbl&gt; | Assay_Type &lt;chr&gt; |\n",
       "|---|---|---|---|---|---|---|---|\n",
       "| chr1 | 605330 | 605668 | chr1:605330-605668 | EH38E2776534 | CA-TF | -0.180660 | CRISPRi-Growth |\n",
       "| chr1 | 605330 | 605668 | chr1:605330-605668 | EH38E2776534 | CA-TF |  0.486646 | CRISPRi-Growth |\n",
       "| chr1 | 605330 | 605668 | chr1:605330-605668 | EH38E2776534 | CA-TF |  3.171240 | CRISPRi-Growth |\n",
       "| chr1 | 605330 | 605668 | chr1:605330-605668 | EH38E2776534 | CA-TF | -0.364573 | CRISPRi-Growth |\n",
       "| chr1 | 605330 | 605668 | chr1:605330-605668 | EH38E2776534 | CA-TF | -0.206319 | CRISPRi-Growth |\n",
       "| chr1 | 605330 | 605668 | chr1:605330-605668 | EH38E2776534 | CA-TF | -0.266750 | CRISPRi-Growth |\n",
       "\n"
      ],
      "text/plain": [
       "  Chrom Start  End    Region             Index        Label Score    \n",
       "1 chr1  605330 605668 chr1:605330-605668 EH38E2776534 CA-TF -0.180660\n",
       "2 chr1  605330 605668 chr1:605330-605668 EH38E2776534 CA-TF  0.486646\n",
       "3 chr1  605330 605668 chr1:605330-605668 EH38E2776534 CA-TF  3.171240\n",
       "4 chr1  605330 605668 chr1:605330-605668 EH38E2776534 CA-TF -0.364573\n",
       "5 chr1  605330 605668 chr1:605330-605668 EH38E2776534 CA-TF -0.206319\n",
       "6 chr1  605330 605668 chr1:605330-605668 EH38E2776534 CA-TF -0.266750\n",
       "  Assay_Type    \n",
       "1 CRISPRi-Growth\n",
       "2 CRISPRi-Growth\n",
       "3 CRISPRi-Growth\n",
       "4 CRISPRi-Growth\n",
       "5 CRISPRi-Growth\n",
       "6 CRISPRi-Growth"
      ]
     },
     "metadata": {},
     "output_type": "display_data"
    }
   ],
   "source": [
    "txt_assay = \"CRISPRi_Growth_K562_Gersbach\"\n",
    "txt_fdiry = file.path(FD_RES, \"results\", txt_assay, TXT_FOLDR, \"summary\")\n",
    "txt_fname = \"results.score.tsv\"\n",
    "txt_fpath = file.path(txt_fdiry, txt_fname)\n",
    "print(file.exists(txt_fpath))\n",
    "\n",
    "dat = read_tsv(txt_fpath, show_col_types = FALSE)\n",
    "dat = dat %>% dplyr::mutate(Assay_Type = \"CRISPRi-Growth\")\n",
    "\n",
    "dat_coverage_ccres_crispri_growth = dat\n",
    "print(dim(dat))\n",
    "head(dat)"
   ]
  },
  {
   "cell_type": "code",
   "execution_count": 18,
   "id": "d15e5240-cdc8-4873-85d2-a87e3d9188c3",
   "metadata": {},
   "outputs": [
    {
     "name": "stdout",
     "output_type": "stream",
     "text": [
      "[1] 19357977       11\n"
     ]
    },
    {
     "data": {
      "text/html": [
       "<table class=\"dataframe\">\n",
       "<caption>A tibble: 6 × 11</caption>\n",
       "<thead>\n",
       "\t<tr><th scope=col>Chrom</th><th scope=col>Start</th><th scope=col>End</th><th scope=col>Region</th><th scope=col>Index</th><th scope=col>Label</th><th scope=col>Sample</th><th scope=col>Group</th><th scope=col>Count</th><th scope=col>CPM</th><th scope=col>Assay_Type</th></tr>\n",
       "\t<tr><th scope=col>&lt;chr&gt;</th><th scope=col>&lt;dbl&gt;</th><th scope=col>&lt;dbl&gt;</th><th scope=col>&lt;chr&gt;</th><th scope=col>&lt;chr&gt;</th><th scope=col>&lt;chr&gt;</th><th scope=col>&lt;chr&gt;</th><th scope=col>&lt;chr&gt;</th><th scope=col>&lt;dbl&gt;</th><th scope=col>&lt;dbl&gt;</th><th scope=col>&lt;chr&gt;</th></tr>\n",
       "</thead>\n",
       "<tbody>\n",
       "\t<tr><td>chr1</td><td>10033</td><td>10250</td><td>chr1:10033-10250</td><td>EH38E2776516</td><td>Low-DNase</td><td>Input.rep1</td><td>Input</td><td>118</td><td>0.33840456</td><td>ASTARR</td></tr>\n",
       "\t<tr><td>chr1</td><td>10385</td><td>10713</td><td>chr1:10385-10713</td><td>EH38E2776517</td><td>Low-DNase</td><td>Input.rep1</td><td>Input</td><td> 34</td><td>0.09750640</td><td>ASTARR</td></tr>\n",
       "\t<tr><td>chr1</td><td>16097</td><td>16381</td><td>chr1:16097-16381</td><td>EH38E3951272</td><td>Low-DNase</td><td>Input.rep1</td><td>Input</td><td>119</td><td>0.34127240</td><td>ASTARR</td></tr>\n",
       "\t<tr><td>chr1</td><td>17343</td><td>17642</td><td>chr1:17343-17642</td><td>EH38E3951273</td><td>Low-DNase</td><td>Input.rep1</td><td>Input</td><td>259</td><td>0.74276933</td><td>ASTARR</td></tr>\n",
       "\t<tr><td>chr1</td><td>29320</td><td>29517</td><td>chr1:29320-29517</td><td>EH38E3951274</td><td>Low-DNase</td><td>Input.rep1</td><td>Input</td><td>159</td><td>0.45598581</td><td>ASTARR</td></tr>\n",
       "\t<tr><td>chr1</td><td>78990</td><td>79238</td><td>chr1:78990-79238</td><td>EH38E3951276</td><td>Low-DNase</td><td>Input.rep1</td><td>Input</td><td> 14</td><td>0.04014969</td><td>ASTARR</td></tr>\n",
       "</tbody>\n",
       "</table>\n"
      ],
      "text/latex": [
       "A tibble: 6 × 11\n",
       "\\begin{tabular}{lllllllllll}\n",
       " Chrom & Start & End & Region & Index & Label & Sample & Group & Count & CPM & Assay\\_Type\\\\\n",
       " <chr> & <dbl> & <dbl> & <chr> & <chr> & <chr> & <chr> & <chr> & <dbl> & <dbl> & <chr>\\\\\n",
       "\\hline\n",
       "\t chr1 & 10033 & 10250 & chr1:10033-10250 & EH38E2776516 & Low-DNase & Input.rep1 & Input & 118 & 0.33840456 & ASTARR\\\\\n",
       "\t chr1 & 10385 & 10713 & chr1:10385-10713 & EH38E2776517 & Low-DNase & Input.rep1 & Input &  34 & 0.09750640 & ASTARR\\\\\n",
       "\t chr1 & 16097 & 16381 & chr1:16097-16381 & EH38E3951272 & Low-DNase & Input.rep1 & Input & 119 & 0.34127240 & ASTARR\\\\\n",
       "\t chr1 & 17343 & 17642 & chr1:17343-17642 & EH38E3951273 & Low-DNase & Input.rep1 & Input & 259 & 0.74276933 & ASTARR\\\\\n",
       "\t chr1 & 29320 & 29517 & chr1:29320-29517 & EH38E3951274 & Low-DNase & Input.rep1 & Input & 159 & 0.45598581 & ASTARR\\\\\n",
       "\t chr1 & 78990 & 79238 & chr1:78990-79238 & EH38E3951276 & Low-DNase & Input.rep1 & Input &  14 & 0.04014969 & ASTARR\\\\\n",
       "\\end{tabular}\n"
      ],
      "text/markdown": [
       "\n",
       "A tibble: 6 × 11\n",
       "\n",
       "| Chrom &lt;chr&gt; | Start &lt;dbl&gt; | End &lt;dbl&gt; | Region &lt;chr&gt; | Index &lt;chr&gt; | Label &lt;chr&gt; | Sample &lt;chr&gt; | Group &lt;chr&gt; | Count &lt;dbl&gt; | CPM &lt;dbl&gt; | Assay_Type &lt;chr&gt; |\n",
       "|---|---|---|---|---|---|---|---|---|---|---|\n",
       "| chr1 | 10033 | 10250 | chr1:10033-10250 | EH38E2776516 | Low-DNase | Input.rep1 | Input | 118 | 0.33840456 | ASTARR |\n",
       "| chr1 | 10385 | 10713 | chr1:10385-10713 | EH38E2776517 | Low-DNase | Input.rep1 | Input |  34 | 0.09750640 | ASTARR |\n",
       "| chr1 | 16097 | 16381 | chr1:16097-16381 | EH38E3951272 | Low-DNase | Input.rep1 | Input | 119 | 0.34127240 | ASTARR |\n",
       "| chr1 | 17343 | 17642 | chr1:17343-17642 | EH38E3951273 | Low-DNase | Input.rep1 | Input | 259 | 0.74276933 | ASTARR |\n",
       "| chr1 | 29320 | 29517 | chr1:29320-29517 | EH38E3951274 | Low-DNase | Input.rep1 | Input | 159 | 0.45598581 | ASTARR |\n",
       "| chr1 | 78990 | 79238 | chr1:78990-79238 | EH38E3951276 | Low-DNase | Input.rep1 | Input |  14 | 0.04014969 | ASTARR |\n",
       "\n"
      ],
      "text/plain": [
       "  Chrom Start End   Region           Index        Label     Sample     Group\n",
       "1 chr1  10033 10250 chr1:10033-10250 EH38E2776516 Low-DNase Input.rep1 Input\n",
       "2 chr1  10385 10713 chr1:10385-10713 EH38E2776517 Low-DNase Input.rep1 Input\n",
       "3 chr1  16097 16381 chr1:16097-16381 EH38E3951272 Low-DNase Input.rep1 Input\n",
       "4 chr1  17343 17642 chr1:17343-17642 EH38E3951273 Low-DNase Input.rep1 Input\n",
       "5 chr1  29320 29517 chr1:29320-29517 EH38E3951274 Low-DNase Input.rep1 Input\n",
       "6 chr1  78990 79238 chr1:78990-79238 EH38E3951276 Low-DNase Input.rep1 Input\n",
       "  Count CPM        Assay_Type\n",
       "1 118   0.33840456 ASTARR    \n",
       "2  34   0.09750640 ASTARR    \n",
       "3 119   0.34127240 ASTARR    \n",
       "4 259   0.74276933 ASTARR    \n",
       "5 159   0.45598581 ASTARR    \n",
       "6  14   0.04014969 ASTARR    "
      ]
     },
     "metadata": {},
     "output_type": "display_data"
    }
   ],
   "source": [
    "dat = bind_rows(\n",
    "    dat_coverage_ccres_astarr,\n",
    "    dat_coverage_ccres_wstarr\n",
    ")\n",
    "dat = dat %>% dplyr::filter(Group == \"Input\") %>% dplyr::filter(Count > 10)\n",
    "\n",
    "dat_coverage_ccres_starr = dat\n",
    "print(dim(dat))\n",
    "head(dat)"
   ]
  },
  {
   "cell_type": "code",
   "execution_count": 19,
   "id": "f9d80208-7b28-4def-8d15-9e0ce2f7e078",
   "metadata": {},
   "outputs": [
    {
     "data": {
      "text/plain": [
       "\n",
       "   Input \n",
       "19357977 "
      ]
     },
     "metadata": {},
     "output_type": "display_data"
    }
   ],
   "source": [
    "dat = dat_coverage_ccres_starr\n",
    "table(dat$Group)"
   ]
  },
  {
   "cell_type": "code",
   "execution_count": 24,
   "id": "73f91203-fda3-43f0-a34a-8a2724c8e831",
   "metadata": {},
   "outputs": [
    {
     "data": {
      "text/plain": [
       "\n",
       "        ASTARR CRISPRi-Growth  CRISPRi-HCRFF          LMPRA         WSTARR \n",
       "       2313053         152808           9508         106924        2094766 "
      ]
     },
     "metadata": {},
     "output_type": "display_data"
    }
   ],
   "source": [
    "lst = list(\n",
    "    dat_coverage_ccres_starr,\n",
    "    dat_coverage_ccres_lmpra,\n",
    "    dat_coverage_ccres_crispri_growth,\n",
    "    dat_coverage_ccres_crispri_hcrff\n",
    ")\n",
    "\n",
    "lst = lapply(lst, function(dat){\n",
    "    dat = dat %>% dplyr::select(Region, Index, Label, Assay_Type) %>% dplyr::distinct()\n",
    "    return(dat)\n",
    "})\n",
    "\n",
    "dat = bind_rows(lst)\n",
    "table(dat$Assay_Type)"
   ]
  },
  {
   "cell_type": "code",
   "execution_count": 25,
   "id": "e089b425-453b-4496-a695-87c23ebd70b1",
   "metadata": {},
   "outputs": [
    {
     "name": "stdout",
     "output_type": "stream",
     "text": [
      "[1] 40\n"
     ]
    },
    {
     "data": {
      "text/html": [
       "<table class=\"dataframe\">\n",
       "<caption>A tibble: 6 × 5</caption>\n",
       "<thead>\n",
       "\t<tr><th scope=col>Label</th><th scope=col>Assay_Type</th><th scope=col>Count</th><th scope=col>Total</th><th scope=col>Freq</th></tr>\n",
       "\t<tr><th scope=col>&lt;chr&gt;</th><th scope=col>&lt;chr&gt;</th><th scope=col>&lt;int&gt;</th><th scope=col>&lt;int&gt;</th><th scope=col>&lt;dbl&gt;</th></tr>\n",
       "</thead>\n",
       "<tbody>\n",
       "\t<tr><td>CA-CTCF   </td><td>ASTARR        </td><td>28267</td><td>2313053</td><td>0.012220645</td></tr>\n",
       "\t<tr><td>CA-CTCF   </td><td>CRISPRi-Growth</td><td>23857</td><td> 152808</td><td>0.156124025</td></tr>\n",
       "\t<tr><td>CA-CTCF   </td><td>CRISPRi-HCRFF </td><td>  136</td><td>   9508</td><td>0.014303744</td></tr>\n",
       "\t<tr><td>CA-CTCF   </td><td>LMPRA         </td><td>20209</td><td> 106924</td><td>0.189003404</td></tr>\n",
       "\t<tr><td>CA-CTCF   </td><td>WSTARR        </td><td>26183</td><td>2094766</td><td>0.012499248</td></tr>\n",
       "\t<tr><td>CA-H3K4me3</td><td>ASTARR        </td><td> 5861</td><td>2313053</td><td>0.002533881</td></tr>\n",
       "</tbody>\n",
       "</table>\n"
      ],
      "text/latex": [
       "A tibble: 6 × 5\n",
       "\\begin{tabular}{lllll}\n",
       " Label & Assay\\_Type & Count & Total & Freq\\\\\n",
       " <chr> & <chr> & <int> & <int> & <dbl>\\\\\n",
       "\\hline\n",
       "\t CA-CTCF    & ASTARR         & 28267 & 2313053 & 0.012220645\\\\\n",
       "\t CA-CTCF    & CRISPRi-Growth & 23857 &  152808 & 0.156124025\\\\\n",
       "\t CA-CTCF    & CRISPRi-HCRFF  &   136 &    9508 & 0.014303744\\\\\n",
       "\t CA-CTCF    & LMPRA          & 20209 &  106924 & 0.189003404\\\\\n",
       "\t CA-CTCF    & WSTARR         & 26183 & 2094766 & 0.012499248\\\\\n",
       "\t CA-H3K4me3 & ASTARR         &  5861 & 2313053 & 0.002533881\\\\\n",
       "\\end{tabular}\n"
      ],
      "text/markdown": [
       "\n",
       "A tibble: 6 × 5\n",
       "\n",
       "| Label &lt;chr&gt; | Assay_Type &lt;chr&gt; | Count &lt;int&gt; | Total &lt;int&gt; | Freq &lt;dbl&gt; |\n",
       "|---|---|---|---|---|\n",
       "| CA-CTCF    | ASTARR         | 28267 | 2313053 | 0.012220645 |\n",
       "| CA-CTCF    | CRISPRi-Growth | 23857 |  152808 | 0.156124025 |\n",
       "| CA-CTCF    | CRISPRi-HCRFF  |   136 |    9508 | 0.014303744 |\n",
       "| CA-CTCF    | LMPRA          | 20209 |  106924 | 0.189003404 |\n",
       "| CA-CTCF    | WSTARR         | 26183 | 2094766 | 0.012499248 |\n",
       "| CA-H3K4me3 | ASTARR         |  5861 | 2313053 | 0.002533881 |\n",
       "\n"
      ],
      "text/plain": [
       "  Label      Assay_Type     Count Total   Freq       \n",
       "1 CA-CTCF    ASTARR         28267 2313053 0.012220645\n",
       "2 CA-CTCF    CRISPRi-Growth 23857  152808 0.156124025\n",
       "3 CA-CTCF    CRISPRi-HCRFF    136    9508 0.014303744\n",
       "4 CA-CTCF    LMPRA          20209  106924 0.189003404\n",
       "5 CA-CTCF    WSTARR         26183 2094766 0.012499248\n",
       "6 CA-H3K4me3 ASTARR          5861 2313053 0.002533881"
      ]
     },
     "metadata": {},
     "output_type": "display_data"
    }
   ],
   "source": [
    "lst = list(\n",
    "    dat_coverage_ccres_starr,\n",
    "    dat_coverage_ccres_lmpra,\n",
    "    dat_coverage_ccres_crispri_growth,\n",
    "    dat_coverage_ccres_crispri_hcrff\n",
    ")\n",
    "\n",
    "lst = lapply(lst, function(dat){\n",
    "    dat = dat %>% dplyr::select(Region, Index, Label, Assay_Type) %>% dplyr::distinct()\n",
    "    return(dat)\n",
    "})\n",
    "\n",
    "dat = bind_rows(lst)\n",
    "\n",
    "### count each\n",
    "dat1 = dat %>%\n",
    "    dplyr::group_by(Label, Assay_Type) %>%\n",
    "    dplyr::summarise(\n",
    "        Count   = n(), \n",
    "        .groups = \"drop\")\n",
    "\n",
    "### count total\n",
    "dat2 = dat %>%\n",
    "    dplyr::group_by(Assay_Type) %>%\n",
    "    dplyr::summarise(\n",
    "        Total   = n(), \n",
    "        .groups = \"drop\")\n",
    "\n",
    "### merge count\n",
    "dat = dat1 %>% \n",
    "    dplyr::left_join(dat2, by = \"Assay_Type\") %>%\n",
    "    dplyr::mutate(Freq = Count / Total)\n",
    "\n",
    "### assign and show\n",
    "dat_region_annot_count = dat\n",
    "print(nrow(dat))\n",
    "head(dat)"
   ]
  },
  {
   "cell_type": "code",
   "execution_count": 26,
   "id": "a264ba05-2fce-4ea8-b15b-8737c7bf29b2",
   "metadata": {},
   "outputs": [
    {
     "data": {
      "image/png": "[encoded data removed]",
      "text/plain": [
       "plot without title"
      ]
     },
     "metadata": {
      "image/png": {
       "height": 180,
       "width": 480
      }
     },
     "output_type": "display_data"
    }
   ],
   "source": [
    "tmp = dat_region_annot_count\n",
    "\n",
    "### order Assay\n",
    "dat = tmp\n",
    "dat = dat %>% \n",
    "    dplyr::filter(Label == \"Low-DNase\") %>% \n",
    "    dplyr::arrange(Freq)\n",
    "\n",
    "vec_txt_assay = dat$Assay_Type\n",
    "\n",
    "### order label\n",
    "vec_txt_color = c(\n",
    "    \"PLS\"        = \"#fb8072\", \n",
    "    \"pELS\"       = \"#fdb462\", \n",
    "    \"dELS\"       = \"#fee08b\", \n",
    "    \"CA-TF\"      = \"#984ea3\", #\"#bebada\", \n",
    "    \"CA-CTCF\"    = \"#80b1d3\", \n",
    "    \"CA-H3K4me3\" = \"#fccde5\",  \n",
    "    \"CA-only\"    = \"#8dd3c7\", \n",
    "    \"Low-DNase\"  = \"#d9d9d9\")\n",
    "\n",
    "vec_txt_label = names(vec_txt_color)\n",
    "\n",
    "### set factor\n",
    "dat = tmp\n",
    "dat = dat %>% \n",
    "    dplyr::mutate(\n",
    "        Assay_Type = factor(Assay_Type, levels=rev(vec_txt_assay)),\n",
    "        Label      = factor(Label,      levels=rev(vec_txt_label)),\n",
    ")\n",
    "\n",
    "### plot\n",
    "theme_fill = scale_fill_manual(values = vec_txt_color)\n",
    "\n",
    "gpt = ggplot(dat, aes(x=Assay_Type, y=Freq, fill=Label)) + \n",
    "    geom_col() +\n",
    "    labs(x=\"\", y=\"Proportion\", title = \"cCREs composition of Input library\") +\n",
    "    coord_flip() +\n",
    "    theme_cowplot() +\n",
    "    theme_fill\n",
    "\n",
    "### show and save\n",
    "options(repr.plot.height=3, repr.plot.width=8)\n",
    "print(gpt)\n",
    "#ggsave(\"fig.fcc_table.ccres.proportion.png\", gpt, width = 9, height = 4.5)\n",
    "#ggsave(\"fig.fcc_table.ccres.proportion.pdf\", gpt, width = 9, height = 4.5)"
   ]
  },
  {
   "cell_type": "code",
   "execution_count": null,
   "id": "28e98a6c-e4f9-4f24-9f8d-ff4175691c7e",
   "metadata": {},
   "outputs": [],
   "source": []
  },
  {
   "cell_type": "code",
   "execution_count": null,
   "id": "f3b91d78-7d5f-4578-bbdc-1fe34fb9eafc",
   "metadata": {},
   "outputs": [],
   "source": []
  },
  {
   "cell_type": "code",
   "execution_count": null,
   "id": "c6817562-4489-4265-a1d1-55394c727125",
   "metadata": {},
   "outputs": [],
   "source": []
  },
  {
   "cell_type": "code",
   "execution_count": null,
   "id": "4ac5a456-501f-4864-bbd2-ebdca33c7cea",
   "metadata": {},
   "outputs": [],
   "source": []
  },
  {
   "cell_type": "code",
   "execution_count": null,
   "id": "90521c89-0e04-40e2-abb6-7f7e1a0672da",
   "metadata": {},
   "outputs": [],
   "source": []
  }
 ],
 "metadata": {
  "kernelspec": {
   "display_name": "R",
   "language": "R",
   "name": "ir"
  },
  "language_info": {
   "codemirror_mode": "r",
   "file_extension": ".r",
   "mimetype": "text/x-r-source",
   "name": "R",
   "pygments_lexer": "r",
   "version": "4.3.1"
  }
 },
 "nbformat": 4,
 "nbformat_minor": 5
}
