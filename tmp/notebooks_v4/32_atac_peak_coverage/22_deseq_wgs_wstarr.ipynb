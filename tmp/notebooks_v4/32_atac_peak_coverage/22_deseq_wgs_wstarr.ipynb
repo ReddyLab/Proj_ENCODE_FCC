{
 "cells": [
  {
   "cell_type": "markdown",
   "metadata": {},
   "source": [
    "**Set environment**"
   ]
  },
  {
   "cell_type": "code",
   "execution_count": 1,
   "metadata": {},
   "outputs": [
    {
     "name": "stdout",
     "output_type": "stream",
     "text": [
      "You are in Singularity: singularity_proj_encode_fcc \n",
      "BASE DIRECTORY (FD_BASE): /data/reddylab/Kuei \n",
      "WORK DIRECTORY (FD_WORK): /data/reddylab/Kuei/out \n",
      "CODE DIRECTORY (FD_CODE): /data/reddylab/Kuei/code \n",
      "PATH OF PROJECT (FD_PRJ): /data/reddylab/Kuei/code/Proj_CombEffect_ENCODE_FCC \n",
      "PATH OF RESULTS (FD_RES): /data/reddylab/Kuei/out/proj_combeffect_encode_fcc \n",
      "PATH OF LOG     (FD_LOG): /data/reddylab/Kuei/out/proj_combeffect_encode_fcc/log \n"
     ]
    }
   ],
   "source": [
    "suppressMessages(suppressWarnings(source(\"../config/config_sing.R\")))\n",
    "suppressMessages(suppressWarnings(library(\"DESeq2\")))\n",
    "show_env()"
   ]
  },
  {
   "cell_type": "markdown",
   "metadata": {},
   "source": [
    "## Import count matrix and metadata"
   ]
  },
  {
   "cell_type": "code",
   "execution_count": 2,
   "metadata": {},
   "outputs": [],
   "source": [
    "PREFIX = \"A001_K562_WSTARRseq\"\n",
    "FOLDER = \"coverage_astarrseq_peak_macs_input\"\n",
    "\n",
    "fdiry = file.path(FD_RES, \"results\", PREFIX, FOLDER, \"summary\")\n",
    "\n",
    "fname = \"matrix.raw.count.WGS.tsv\"\n",
    "fpath = file.path(fdiry, fname)\n",
    "dat_count = read_tsv(fpath, show_col_types = FALSE)\n",
    "\n",
    "fname = \"metadata.raw.WGS.tsv\"\n",
    "fpath = file.path(fdiry, fname)\n",
    "dat_meta = read_tsv(fpath, show_col_types = FALSE)"
   ]
  },
  {
   "cell_type": "markdown",
   "metadata": {},
   "source": [
    "**Arrange count matrix and metadata**"
   ]
  },
  {
   "cell_type": "code",
   "execution_count": 3,
   "metadata": {},
   "outputs": [],
   "source": [
    "dat_col = dat_meta  %>% \n",
    "    dplyr::select(Sample, Group) %>% \n",
    "    dplyr::rename(condition = Group) %>%\n",
    "    column_to_rownames(var = \"Sample\")\n",
    "\n",
    "dat_cnt = dat_count %>% \n",
    "    column_to_rownames(var = \"Peak\")\n",
    "\n",
    "dat_cnt[is.na(dat_cnt)] = 0"
   ]
  },
  {
   "cell_type": "markdown",
   "metadata": {},
   "source": [
    "**Show data**"
   ]
  },
  {
   "cell_type": "code",
   "execution_count": 4,
   "metadata": {},
   "outputs": [
    {
     "data": {
      "text/html": [
       "<table class=\"dataframe\">\n",
       "<caption>A data.frame: 6 × 7</caption>\n",
       "<thead>\n",
       "\t<tr><th></th><th scope=col>Input.rep1</th><th scope=col>Input.rep2</th><th scope=col>Input.rep3</th><th scope=col>Input.rep4</th><th scope=col>Output.rep1</th><th scope=col>Output.rep2</th><th scope=col>Output.rep3</th></tr>\n",
       "\t<tr><th></th><th scope=col>&lt;dbl&gt;</th><th scope=col>&lt;dbl&gt;</th><th scope=col>&lt;dbl&gt;</th><th scope=col>&lt;dbl&gt;</th><th scope=col>&lt;dbl&gt;</th><th scope=col>&lt;dbl&gt;</th><th scope=col>&lt;dbl&gt;</th></tr>\n",
       "</thead>\n",
       "<tbody>\n",
       "\t<tr><th scope=row>chr1:100006256-100006880</th><td>17</td><td>51</td><td>63</td><td>41</td><td> 69</td><td> 57</td><td>136</td></tr>\n",
       "\t<tr><th scope=row>chr1:100010437-100010915</th><td> 5</td><td>31</td><td>29</td><td>35</td><td> 49</td><td> 39</td><td> 77</td></tr>\n",
       "\t<tr><th scope=row>chr1:10002087-10003910</th><td>13</td><td>68</td><td>72</td><td>64</td><td> 85</td><td> 85</td><td>177</td></tr>\n",
       "\t<tr><th scope=row>chr1:100021298-100021629</th><td> 0</td><td>10</td><td>13</td><td> 9</td><td> 14</td><td>  9</td><td> 19</td></tr>\n",
       "\t<tr><th scope=row>chr1:100023727-100023976</th><td> 2</td><td>14</td><td>14</td><td> 6</td><td> 16</td><td> 17</td><td> 48</td></tr>\n",
       "\t<tr><th scope=row>chr1:100027983-100029702</th><td>23</td><td>75</td><td>84</td><td>57</td><td>103</td><td>107</td><td>225</td></tr>\n",
       "</tbody>\n",
       "</table>\n"
      ],
      "text/latex": [
       "A data.frame: 6 × 7\n",
       "\\begin{tabular}{r|lllllll}\n",
       "  & Input.rep1 & Input.rep2 & Input.rep3 & Input.rep4 & Output.rep1 & Output.rep2 & Output.rep3\\\\\n",
       "  & <dbl> & <dbl> & <dbl> & <dbl> & <dbl> & <dbl> & <dbl>\\\\\n",
       "\\hline\n",
       "\tchr1:100006256-100006880 & 17 & 51 & 63 & 41 &  69 &  57 & 136\\\\\n",
       "\tchr1:100010437-100010915 &  5 & 31 & 29 & 35 &  49 &  39 &  77\\\\\n",
       "\tchr1:10002087-10003910 & 13 & 68 & 72 & 64 &  85 &  85 & 177\\\\\n",
       "\tchr1:100021298-100021629 &  0 & 10 & 13 &  9 &  14 &   9 &  19\\\\\n",
       "\tchr1:100023727-100023976 &  2 & 14 & 14 &  6 &  16 &  17 &  48\\\\\n",
       "\tchr1:100027983-100029702 & 23 & 75 & 84 & 57 & 103 & 107 & 225\\\\\n",
       "\\end{tabular}\n"
      ],
      "text/markdown": [
       "\n",
       "A data.frame: 6 × 7\n",
       "\n",
       "| <!--/--> | Input.rep1 &lt;dbl&gt; | Input.rep2 &lt;dbl&gt; | Input.rep3 &lt;dbl&gt; | Input.rep4 &lt;dbl&gt; | Output.rep1 &lt;dbl&gt; | Output.rep2 &lt;dbl&gt; | Output.rep3 &lt;dbl&gt; |\n",
       "|---|---|---|---|---|---|---|---|\n",
       "| chr1:100006256-100006880 | 17 | 51 | 63 | 41 |  69 |  57 | 136 |\n",
       "| chr1:100010437-100010915 |  5 | 31 | 29 | 35 |  49 |  39 |  77 |\n",
       "| chr1:10002087-10003910 | 13 | 68 | 72 | 64 |  85 |  85 | 177 |\n",
       "| chr1:100021298-100021629 |  0 | 10 | 13 |  9 |  14 |   9 |  19 |\n",
       "| chr1:100023727-100023976 |  2 | 14 | 14 |  6 |  16 |  17 |  48 |\n",
       "| chr1:100027983-100029702 | 23 | 75 | 84 | 57 | 103 | 107 | 225 |\n",
       "\n"
      ],
      "text/plain": [
       "                         Input.rep1 Input.rep2 Input.rep3 Input.rep4\n",
       "chr1:100006256-100006880 17         51         63         41        \n",
       "chr1:100010437-100010915  5         31         29         35        \n",
       "chr1:10002087-10003910   13         68         72         64        \n",
       "chr1:100021298-100021629  0         10         13          9        \n",
       "chr1:100023727-100023976  2         14         14          6        \n",
       "chr1:100027983-100029702 23         75         84         57        \n",
       "                         Output.rep1 Output.rep2 Output.rep3\n",
       "chr1:100006256-100006880  69          57         136        \n",
       "chr1:100010437-100010915  49          39          77        \n",
       "chr1:10002087-10003910    85          85         177        \n",
       "chr1:100021298-100021629  14           9          19        \n",
       "chr1:100023727-100023976  16          17          48        \n",
       "chr1:100027983-100029702 103         107         225        "
      ]
     },
     "metadata": {},
     "output_type": "display_data"
    }
   ],
   "source": [
    "head(dat_cnt)"
   ]
  },
  {
   "cell_type": "code",
   "execution_count": 5,
   "metadata": {},
   "outputs": [
    {
     "data": {
      "text/html": [
       "<table class=\"dataframe\">\n",
       "<caption>A data.frame: 7 × 1</caption>\n",
       "<thead>\n",
       "\t<tr><th></th><th scope=col>condition</th></tr>\n",
       "\t<tr><th></th><th scope=col>&lt;chr&gt;</th></tr>\n",
       "</thead>\n",
       "<tbody>\n",
       "\t<tr><th scope=row>Input.rep1</th><td>Input </td></tr>\n",
       "\t<tr><th scope=row>Input.rep2</th><td>Input </td></tr>\n",
       "\t<tr><th scope=row>Input.rep3</th><td>Input </td></tr>\n",
       "\t<tr><th scope=row>Input.rep4</th><td>Input </td></tr>\n",
       "\t<tr><th scope=row>Output.rep1</th><td>Output</td></tr>\n",
       "\t<tr><th scope=row>Output.rep2</th><td>Output</td></tr>\n",
       "\t<tr><th scope=row>Output.rep3</th><td>Output</td></tr>\n",
       "</tbody>\n",
       "</table>\n"
      ],
      "text/latex": [
       "A data.frame: 7 × 1\n",
       "\\begin{tabular}{r|l}\n",
       "  & condition\\\\\n",
       "  & <chr>\\\\\n",
       "\\hline\n",
       "\tInput.rep1 & Input \\\\\n",
       "\tInput.rep2 & Input \\\\\n",
       "\tInput.rep3 & Input \\\\\n",
       "\tInput.rep4 & Input \\\\\n",
       "\tOutput.rep1 & Output\\\\\n",
       "\tOutput.rep2 & Output\\\\\n",
       "\tOutput.rep3 & Output\\\\\n",
       "\\end{tabular}\n"
      ],
      "text/markdown": [
       "\n",
       "A data.frame: 7 × 1\n",
       "\n",
       "| <!--/--> | condition &lt;chr&gt; |\n",
       "|---|---|\n",
       "| Input.rep1 | Input  |\n",
       "| Input.rep2 | Input  |\n",
       "| Input.rep3 | Input  |\n",
       "| Input.rep4 | Input  |\n",
       "| Output.rep1 | Output |\n",
       "| Output.rep2 | Output |\n",
       "| Output.rep3 | Output |\n",
       "\n"
      ],
      "text/plain": [
       "            condition\n",
       "Input.rep1  Input    \n",
       "Input.rep2  Input    \n",
       "Input.rep3  Input    \n",
       "Input.rep4  Input    \n",
       "Output.rep1 Output   \n",
       "Output.rep2 Output   \n",
       "Output.rep3 Output   "
      ]
     },
     "metadata": {},
     "output_type": "display_data"
    }
   ],
   "source": [
    "dat_col"
   ]
  },
  {
   "cell_type": "code",
   "execution_count": 6,
   "metadata": {},
   "outputs": [
    {
     "name": "stdout",
     "output_type": "stream",
     "text": [
      "[1] TRUE\n",
      "[1] TRUE\n"
     ]
    }
   ],
   "source": [
    "print(all(rownames(dat_col) %in% colnames(dat_cnt)))\n",
    "print(all(rownames(dat_col) ==   colnames(dat_cnt)))"
   ]
  },
  {
   "cell_type": "markdown",
   "metadata": {},
   "source": [
    "## Setup DESeq2"
   ]
  },
  {
   "cell_type": "code",
   "execution_count": 7,
   "metadata": {},
   "outputs": [
    {
     "name": "stderr",
     "output_type": "stream",
     "text": [
      "converting counts to integer mode\n",
      "\n",
      "Warning message in DESeqDataSet(se, design = design, ignoreRank):\n",
      "“some variables in design formula are characters, converting to factors”\n"
     ]
    }
   ],
   "source": [
    "dds = DESeqDataSetFromMatrix(\n",
    "    countData = dat_cnt, \n",
    "    colData   = dat_col, \n",
    "    design    = ~condition)"
   ]
  },
  {
   "cell_type": "markdown",
   "metadata": {},
   "source": [
    "**Pre-filtering**"
   ]
  },
  {
   "cell_type": "code",
   "execution_count": 8,
   "metadata": {},
   "outputs": [
    {
     "name": "stdout",
     "output_type": "stream",
     "text": [
      "Before filter: 246832 \n",
      "After  filter: 246688 \n"
     ]
    }
   ],
   "source": [
    "### remove the peaks which have < 10 reads\n",
    "cat(\"Before filter:\", nrow(dds), \"\\n\")\n",
    "dds = dds[rowSums(counts(dds)) >= 10,]\n",
    "cat(\"After  filter:\", nrow(dds), \"\\n\")\n",
    "\n",
    "### set control condition as reference\n",
    "dds$condition <- relevel(dds$condition, ref = \"Input\")"
   ]
  },
  {
   "cell_type": "markdown",
   "metadata": {},
   "source": [
    "## Run DESeq2"
   ]
  },
  {
   "cell_type": "code",
   "execution_count": 9,
   "metadata": {},
   "outputs": [
    {
     "name": "stderr",
     "output_type": "stream",
     "text": [
      "estimating size factors\n",
      "\n",
      "estimating dispersions\n",
      "\n",
      "gene-wise dispersion estimates\n",
      "\n",
      "mean-dispersion relationship\n",
      "\n",
      "final dispersion estimates\n",
      "\n",
      "fitting model and testing\n",
      "\n"
     ]
    }
   ],
   "source": [
    "dds = DESeq(dds)"
   ]
  },
  {
   "cell_type": "markdown",
   "metadata": {},
   "source": [
    "## Get results"
   ]
  },
  {
   "cell_type": "code",
   "execution_count": 10,
   "metadata": {},
   "outputs": [
    {
     "data": {
      "text/html": [
       "<style>\n",
       ".list-inline {list-style: none; margin:0; padding: 0}\n",
       ".list-inline>li {display: inline-block}\n",
       ".list-inline>li:not(:last-child)::after {content: \"\\00b7\"; padding: 0 .5ex}\n",
       "</style>\n",
       "<ol class=list-inline><li>'Intercept'</li><li>'condition_Output_vs_Input'</li></ol>\n"
      ],
      "text/latex": [
       "\\begin{enumerate*}\n",
       "\\item 'Intercept'\n",
       "\\item 'condition\\_Output\\_vs\\_Input'\n",
       "\\end{enumerate*}\n"
      ],
      "text/markdown": [
       "1. 'Intercept'\n",
       "2. 'condition_Output_vs_Input'\n",
       "\n",
       "\n"
      ],
      "text/plain": [
       "[1] \"Intercept\"                 \"condition_Output_vs_Input\""
      ]
     },
     "metadata": {},
     "output_type": "display_data"
    }
   ],
   "source": [
    "resultsNames(dds)"
   ]
  },
  {
   "cell_type": "code",
   "execution_count": 11,
   "metadata": {},
   "outputs": [
    {
     "data": {
      "text/html": [
       "<table class=\"dataframe\">\n",
       "<caption>A data.frame: 6 × 7</caption>\n",
       "<thead>\n",
       "\t<tr><th></th><th scope=col>Peak</th><th scope=col>baseMean</th><th scope=col>log2FoldChange</th><th scope=col>lfcSE</th><th scope=col>stat</th><th scope=col>pvalue</th><th scope=col>padj</th></tr>\n",
       "\t<tr><th></th><th scope=col>&lt;chr&gt;</th><th scope=col>&lt;dbl&gt;</th><th scope=col>&lt;dbl&gt;</th><th scope=col>&lt;dbl&gt;</th><th scope=col>&lt;dbl&gt;</th><th scope=col>&lt;dbl&gt;</th><th scope=col>&lt;dbl&gt;</th></tr>\n",
       "</thead>\n",
       "<tbody>\n",
       "\t<tr><th scope=row>1</th><td>chr1:100006256-100006880</td><td>54.500445</td><td>-0.48849764</td><td>0.1997784</td><td>-2.4451969</td><td>0.01447731</td><td>0.09534129</td></tr>\n",
       "\t<tr><th scope=row>2</th><td>chr1:100010437-100010915</td><td>30.645878</td><td>-0.30895395</td><td>0.2528932</td><td>-1.2216777</td><td>0.22182954</td><td>0.50094986</td></tr>\n",
       "\t<tr><th scope=row>3</th><td>chr1:10002087-10003910  </td><td>66.045530</td><td>-0.38624192</td><td>0.1730120</td><td>-2.2324569</td><td>0.02558478</td><td>0.14019267</td></tr>\n",
       "\t<tr><th scope=row>4</th><td>chr1:100021298-100021629</td><td> 8.289442</td><td>-0.59404974</td><td>0.4799400</td><td>-1.2377583</td><td>0.21580568</td><td>        NA</td></tr>\n",
       "\t<tr><th scope=row>5</th><td>chr1:100023727-100023976</td><td>12.258468</td><td> 0.04988694</td><td>0.4075494</td><td> 0.1224071</td><td>0.90257663</td><td>0.96366009</td></tr>\n",
       "\t<tr><th scope=row>6</th><td>chr1:100027983-100029702</td><td>80.536286</td><td>-0.22927538</td><td>0.1665249</td><td>-1.3768236</td><td>0.16856680</td><td>0.43305688</td></tr>\n",
       "</tbody>\n",
       "</table>\n"
      ],
      "text/latex": [
       "A data.frame: 6 × 7\n",
       "\\begin{tabular}{r|lllllll}\n",
       "  & Peak & baseMean & log2FoldChange & lfcSE & stat & pvalue & padj\\\\\n",
       "  & <chr> & <dbl> & <dbl> & <dbl> & <dbl> & <dbl> & <dbl>\\\\\n",
       "\\hline\n",
       "\t1 & chr1:100006256-100006880 & 54.500445 & -0.48849764 & 0.1997784 & -2.4451969 & 0.01447731 & 0.09534129\\\\\n",
       "\t2 & chr1:100010437-100010915 & 30.645878 & -0.30895395 & 0.2528932 & -1.2216777 & 0.22182954 & 0.50094986\\\\\n",
       "\t3 & chr1:10002087-10003910   & 66.045530 & -0.38624192 & 0.1730120 & -2.2324569 & 0.02558478 & 0.14019267\\\\\n",
       "\t4 & chr1:100021298-100021629 &  8.289442 & -0.59404974 & 0.4799400 & -1.2377583 & 0.21580568 &         NA\\\\\n",
       "\t5 & chr1:100023727-100023976 & 12.258468 &  0.04988694 & 0.4075494 &  0.1224071 & 0.90257663 & 0.96366009\\\\\n",
       "\t6 & chr1:100027983-100029702 & 80.536286 & -0.22927538 & 0.1665249 & -1.3768236 & 0.16856680 & 0.43305688\\\\\n",
       "\\end{tabular}\n"
      ],
      "text/markdown": [
       "\n",
       "A data.frame: 6 × 7\n",
       "\n",
       "| <!--/--> | Peak &lt;chr&gt; | baseMean &lt;dbl&gt; | log2FoldChange &lt;dbl&gt; | lfcSE &lt;dbl&gt; | stat &lt;dbl&gt; | pvalue &lt;dbl&gt; | padj &lt;dbl&gt; |\n",
       "|---|---|---|---|---|---|---|---|\n",
       "| 1 | chr1:100006256-100006880 | 54.500445 | -0.48849764 | 0.1997784 | -2.4451969 | 0.01447731 | 0.09534129 |\n",
       "| 2 | chr1:100010437-100010915 | 30.645878 | -0.30895395 | 0.2528932 | -1.2216777 | 0.22182954 | 0.50094986 |\n",
       "| 3 | chr1:10002087-10003910   | 66.045530 | -0.38624192 | 0.1730120 | -2.2324569 | 0.02558478 | 0.14019267 |\n",
       "| 4 | chr1:100021298-100021629 |  8.289442 | -0.59404974 | 0.4799400 | -1.2377583 | 0.21580568 |         NA |\n",
       "| 5 | chr1:100023727-100023976 | 12.258468 |  0.04988694 | 0.4075494 |  0.1224071 | 0.90257663 | 0.96366009 |\n",
       "| 6 | chr1:100027983-100029702 | 80.536286 | -0.22927538 | 0.1665249 | -1.3768236 | 0.16856680 | 0.43305688 |\n",
       "\n"
      ],
      "text/plain": [
       "  Peak                     baseMean  log2FoldChange lfcSE     stat      \n",
       "1 chr1:100006256-100006880 54.500445 -0.48849764    0.1997784 -2.4451969\n",
       "2 chr1:100010437-100010915 30.645878 -0.30895395    0.2528932 -1.2216777\n",
       "3 chr1:10002087-10003910   66.045530 -0.38624192    0.1730120 -2.2324569\n",
       "4 chr1:100021298-100021629  8.289442 -0.59404974    0.4799400 -1.2377583\n",
       "5 chr1:100023727-100023976 12.258468  0.04988694    0.4075494  0.1224071\n",
       "6 chr1:100027983-100029702 80.536286 -0.22927538    0.1665249 -1.3768236\n",
       "  pvalue     padj      \n",
       "1 0.01447731 0.09534129\n",
       "2 0.22182954 0.50094986\n",
       "3 0.02558478 0.14019267\n",
       "4 0.21580568         NA\n",
       "5 0.90257663 0.96366009\n",
       "6 0.16856680 0.43305688"
      ]
     },
     "metadata": {},
     "output_type": "display_data"
    }
   ],
   "source": [
    "res = results(dds)\n",
    "res = as.data.frame(res) %>% rownames_to_column(var = \"Peak\")\n",
    "head(res)"
   ]
  },
  {
   "cell_type": "markdown",
   "metadata": {},
   "source": [
    "## Save results"
   ]
  },
  {
   "cell_type": "code",
   "execution_count": 12,
   "metadata": {},
   "outputs": [
    {
     "name": "stdout",
     "output_type": "stream",
     "text": [
      "[1] \"/data/reddylab/Kuei/out/proj_combeffect_encode_fcc/results/A001_K562_WSTARRseq/coverage_astarrseq_peak_macs_input/summary/result.Log2FC.raw.deseq.WGS.tsv\"\n"
     ]
    }
   ],
   "source": [
    "fdiry = file.path(FD_RES, \"results\", PREFIX, FOLDER, \"summary\")\n",
    "fname = \"result.Log2FC.raw.deseq.WGS.tsv\"\n",
    "fpath = file.path(fdiry, fname)\n",
    "print(fpath)\n",
    "\n",
    "write_tsv(res, fpath)"
   ]
  }
 ],
 "metadata": {
  "kernelspec": {
   "display_name": "R",
   "language": "R",
   "name": "ir"
  },
  "language_info": {
   "codemirror_mode": "r",
   "file_extension": ".r",
   "mimetype": "text/x-r-source",
   "name": "R",
   "pygments_lexer": "r",
   "version": "4.3.0"
  }
 },
 "nbformat": 4,
 "nbformat_minor": 4
}
