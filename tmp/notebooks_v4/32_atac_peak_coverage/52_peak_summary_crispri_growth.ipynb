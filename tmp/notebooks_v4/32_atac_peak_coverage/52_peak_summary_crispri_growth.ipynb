{
 "cells": [
  {
   "cell_type": "markdown",
   "metadata": {},
   "source": [
    "**Set environment**"
   ]
  },
  {
   "cell_type": "code",
   "execution_count": 1,
   "metadata": {},
   "outputs": [
    {
     "name": "stdout",
     "output_type": "stream",
     "text": [
      "You are in Singularity: singularity_proj_encode_fcc \n",
      "BASE DIRECTORY (FD_BASE): /data/reddylab/Kuei \n",
      "WORK DIRECTORY (FD_WORK): /data/reddylab/Kuei/out \n",
      "CODE DIRECTORY (FD_CODE): /data/reddylab/Kuei/code \n",
      "PATH OF PROJECT (FD_PRJ): /data/reddylab/Kuei/code/Proj_CombEffect_ENCODE_FCC \n",
      "PATH OF RESULTS (FD_RES): /data/reddylab/Kuei/out/proj_combeffect_encode_fcc \n",
      "PATH OF LOG     (FD_LOG): /data/reddylab/Kuei/out/proj_combeffect_encode_fcc/log \n"
     ]
    }
   ],
   "source": [
    "suppressMessages(suppressWarnings(source(\"../config/config_sing.R\")))\n",
    "show_env()"
   ]
  },
  {
   "cell_type": "markdown",
   "metadata": {},
   "source": [
    "## Import data"
   ]
  },
  {
   "cell_type": "code",
   "execution_count": 2,
   "metadata": {},
   "outputs": [
    {
     "name": "stdout",
     "output_type": "stream",
     "text": [
      "[1] 824575      9\n"
     ]
    },
    {
     "data": {
      "text/html": [
       "<table class=\"dataframe\">\n",
       "<caption>A tibble: 6 × 9</caption>\n",
       "<thead>\n",
       "\t<tr><th scope=col>Chrom_Peak</th><th scope=col>Start_Peak</th><th scope=col>End_Peak</th><th scope=col>Chrom_Guide</th><th scope=col>Start_Guide</th><th scope=col>End_Guide</th><th scope=col>Guide_ID</th><th scope=col>Score</th><th scope=col>Overlap</th></tr>\n",
       "\t<tr><th scope=col>&lt;chr&gt;</th><th scope=col>&lt;dbl&gt;</th><th scope=col>&lt;dbl&gt;</th><th scope=col>&lt;chr&gt;</th><th scope=col>&lt;dbl&gt;</th><th scope=col>&lt;dbl&gt;</th><th scope=col>&lt;chr&gt;</th><th scope=col>&lt;dbl&gt;</th><th scope=col>&lt;dbl&gt;</th></tr>\n",
       "</thead>\n",
       "<tbody>\n",
       "\t<tr><td>chr1</td><td>605090</td><td>605823</td><td>chr1</td><td>605580</td><td>605581</td><td>id-1</td><td>-0.180660</td><td>1</td></tr>\n",
       "\t<tr><td>chr1</td><td>605090</td><td>605823</td><td>chr1</td><td>605581</td><td>605582</td><td>id-2</td><td> 0.486646</td><td>1</td></tr>\n",
       "\t<tr><td>chr1</td><td>605090</td><td>605823</td><td>chr1</td><td>605589</td><td>605590</td><td>id-3</td><td> 3.171240</td><td>1</td></tr>\n",
       "\t<tr><td>chr1</td><td>605090</td><td>605823</td><td>chr1</td><td>605591</td><td>605592</td><td>id-4</td><td>-0.364573</td><td>1</td></tr>\n",
       "\t<tr><td>chr1</td><td>605090</td><td>605823</td><td>chr1</td><td>605592</td><td>605593</td><td>id-5</td><td>-0.206319</td><td>1</td></tr>\n",
       "\t<tr><td>chr1</td><td>605090</td><td>605823</td><td>chr1</td><td>605609</td><td>605610</td><td>id-6</td><td>-0.266750</td><td>1</td></tr>\n",
       "</tbody>\n",
       "</table>\n"
      ],
      "text/latex": [
       "A tibble: 6 × 9\n",
       "\\begin{tabular}{lllllllll}\n",
       " Chrom\\_Peak & Start\\_Peak & End\\_Peak & Chrom\\_Guide & Start\\_Guide & End\\_Guide & Guide\\_ID & Score & Overlap\\\\\n",
       " <chr> & <dbl> & <dbl> & <chr> & <dbl> & <dbl> & <chr> & <dbl> & <dbl>\\\\\n",
       "\\hline\n",
       "\t chr1 & 605090 & 605823 & chr1 & 605580 & 605581 & id-1 & -0.180660 & 1\\\\\n",
       "\t chr1 & 605090 & 605823 & chr1 & 605581 & 605582 & id-2 &  0.486646 & 1\\\\\n",
       "\t chr1 & 605090 & 605823 & chr1 & 605589 & 605590 & id-3 &  3.171240 & 1\\\\\n",
       "\t chr1 & 605090 & 605823 & chr1 & 605591 & 605592 & id-4 & -0.364573 & 1\\\\\n",
       "\t chr1 & 605090 & 605823 & chr1 & 605592 & 605593 & id-5 & -0.206319 & 1\\\\\n",
       "\t chr1 & 605090 & 605823 & chr1 & 605609 & 605610 & id-6 & -0.266750 & 1\\\\\n",
       "\\end{tabular}\n"
      ],
      "text/markdown": [
       "\n",
       "A tibble: 6 × 9\n",
       "\n",
       "| Chrom_Peak &lt;chr&gt; | Start_Peak &lt;dbl&gt; | End_Peak &lt;dbl&gt; | Chrom_Guide &lt;chr&gt; | Start_Guide &lt;dbl&gt; | End_Guide &lt;dbl&gt; | Guide_ID &lt;chr&gt; | Score &lt;dbl&gt; | Overlap &lt;dbl&gt; |\n",
       "|---|---|---|---|---|---|---|---|---|\n",
       "| chr1 | 605090 | 605823 | chr1 | 605580 | 605581 | id-1 | -0.180660 | 1 |\n",
       "| chr1 | 605090 | 605823 | chr1 | 605581 | 605582 | id-2 |  0.486646 | 1 |\n",
       "| chr1 | 605090 | 605823 | chr1 | 605589 | 605590 | id-3 |  3.171240 | 1 |\n",
       "| chr1 | 605090 | 605823 | chr1 | 605591 | 605592 | id-4 | -0.364573 | 1 |\n",
       "| chr1 | 605090 | 605823 | chr1 | 605592 | 605593 | id-5 | -0.206319 | 1 |\n",
       "| chr1 | 605090 | 605823 | chr1 | 605609 | 605610 | id-6 | -0.266750 | 1 |\n",
       "\n"
      ],
      "text/plain": [
       "  Chrom_Peak Start_Peak End_Peak Chrom_Guide Start_Guide End_Guide Guide_ID\n",
       "1 chr1       605090     605823   chr1        605580      605581    id-1    \n",
       "2 chr1       605090     605823   chr1        605581      605582    id-2    \n",
       "3 chr1       605090     605823   chr1        605589      605590    id-3    \n",
       "4 chr1       605090     605823   chr1        605591      605592    id-4    \n",
       "5 chr1       605090     605823   chr1        605592      605593    id-5    \n",
       "6 chr1       605090     605823   chr1        605609      605610    id-6    \n",
       "  Score     Overlap\n",
       "1 -0.180660 1      \n",
       "2  0.486646 1      \n",
       "3  3.171240 1      \n",
       "4 -0.364573 1      \n",
       "5 -0.206319 1      \n",
       "6 -0.266750 1      "
      ]
     },
     "metadata": {},
     "output_type": "display_data"
    }
   ],
   "source": [
    "ASSAY   = \"CRISPRi_Growth_K562_Gersbach\"\n",
    "FOLDER  = \"coverage_astarrseq_peak_macs_input\"\n",
    "\n",
    "fdiry = file.path(FD_RES, \"results\", ASSAY, FOLDER)\n",
    "fname = \"CRISPRi_rAVG_log2FC_2.bed.gz\"\n",
    "fpath = file.path(fdiry, fname)\n",
    "\n",
    "cnames = c(\n",
    "    \"Chrom_Peak\",  \"Start_Peak\",  \"End_Peak\",\n",
    "    \"Chrom_Guide\", \"Start_Guide\", \"End_Guide\", \"Guide_ID\", \"Score\", \n",
    "    \"Overlap\"\n",
    ")\n",
    "dat = read_tsv(fpath, col_names = cnames, show_col_types = FALSE)\n",
    "\n",
    "dat_peak_score_import = dat\n",
    "print(dim(dat))\n",
    "head(dat)"
   ]
  },
  {
   "cell_type": "markdown",
   "metadata": {},
   "source": [
    "**Check results**"
   ]
  },
  {
   "cell_type": "code",
   "execution_count": 3,
   "metadata": {},
   "outputs": [
    {
     "data": {
      "text/plain": [
       "\n",
       "     1 \n",
       "824575 "
      ]
     },
     "metadata": {},
     "output_type": "display_data"
    }
   ],
   "source": [
    "### overlap should be all one\n",
    "table(dat_peak_score_import$Overlap)"
   ]
  },
  {
   "cell_type": "markdown",
   "metadata": {},
   "source": [
    "## Arrange"
   ]
  },
  {
   "cell_type": "code",
   "execution_count": 4,
   "metadata": {},
   "outputs": [
    {
     "name": "stdout",
     "output_type": "stream",
     "text": [
      "[1] 824575      3\n"
     ]
    },
    {
     "data": {
      "text/html": [
       "<table class=\"dataframe\">\n",
       "<caption>A tibble: 6 × 3</caption>\n",
       "<thead>\n",
       "\t<tr><th scope=col>Peak</th><th scope=col>Guide</th><th scope=col>Score</th></tr>\n",
       "\t<tr><th scope=col>&lt;chr&gt;</th><th scope=col>&lt;chr&gt;</th><th scope=col>&lt;dbl&gt;</th></tr>\n",
       "</thead>\n",
       "<tbody>\n",
       "\t<tr><td>chr1:605090-605823</td><td>chr1:605580-605581</td><td>-0.180660</td></tr>\n",
       "\t<tr><td>chr1:605090-605823</td><td>chr1:605581-605582</td><td> 0.486646</td></tr>\n",
       "\t<tr><td>chr1:605090-605823</td><td>chr1:605589-605590</td><td> 3.171240</td></tr>\n",
       "\t<tr><td>chr1:605090-605823</td><td>chr1:605591-605592</td><td>-0.364573</td></tr>\n",
       "\t<tr><td>chr1:605090-605823</td><td>chr1:605592-605593</td><td>-0.206319</td></tr>\n",
       "\t<tr><td>chr1:605090-605823</td><td>chr1:605609-605610</td><td>-0.266750</td></tr>\n",
       "</tbody>\n",
       "</table>\n"
      ],
      "text/latex": [
       "A tibble: 6 × 3\n",
       "\\begin{tabular}{lll}\n",
       " Peak & Guide & Score\\\\\n",
       " <chr> & <chr> & <dbl>\\\\\n",
       "\\hline\n",
       "\t chr1:605090-605823 & chr1:605580-605581 & -0.180660\\\\\n",
       "\t chr1:605090-605823 & chr1:605581-605582 &  0.486646\\\\\n",
       "\t chr1:605090-605823 & chr1:605589-605590 &  3.171240\\\\\n",
       "\t chr1:605090-605823 & chr1:605591-605592 & -0.364573\\\\\n",
       "\t chr1:605090-605823 & chr1:605592-605593 & -0.206319\\\\\n",
       "\t chr1:605090-605823 & chr1:605609-605610 & -0.266750\\\\\n",
       "\\end{tabular}\n"
      ],
      "text/markdown": [
       "\n",
       "A tibble: 6 × 3\n",
       "\n",
       "| Peak &lt;chr&gt; | Guide &lt;chr&gt; | Score &lt;dbl&gt; |\n",
       "|---|---|---|\n",
       "| chr1:605090-605823 | chr1:605580-605581 | -0.180660 |\n",
       "| chr1:605090-605823 | chr1:605581-605582 |  0.486646 |\n",
       "| chr1:605090-605823 | chr1:605589-605590 |  3.171240 |\n",
       "| chr1:605090-605823 | chr1:605591-605592 | -0.364573 |\n",
       "| chr1:605090-605823 | chr1:605592-605593 | -0.206319 |\n",
       "| chr1:605090-605823 | chr1:605609-605610 | -0.266750 |\n",
       "\n"
      ],
      "text/plain": [
       "  Peak               Guide              Score    \n",
       "1 chr1:605090-605823 chr1:605580-605581 -0.180660\n",
       "2 chr1:605090-605823 chr1:605581-605582  0.486646\n",
       "3 chr1:605090-605823 chr1:605589-605590  3.171240\n",
       "4 chr1:605090-605823 chr1:605591-605592 -0.364573\n",
       "5 chr1:605090-605823 chr1:605592-605593 -0.206319\n",
       "6 chr1:605090-605823 chr1:605609-605610 -0.266750"
      ]
     },
     "metadata": {},
     "output_type": "display_data"
    }
   ],
   "source": [
    "dat = dat_peak_score_import\n",
    "dat = dat %>% \n",
    "    dplyr::mutate(\n",
    "        Peak  = paste0(Chrom_Peak, \":\",  Start_Peak, \"-\", End_Peak),\n",
    "        Guide = paste0(Chrom_Guide,\":\", Start_Guide, \"-\", End_Guide)) %>%\n",
    "    dplyr::select(\n",
    "        Peak, Guide, Score\n",
    "    )\n",
    "\n",
    "###\n",
    "dat_peak_score_arrange = dat\n",
    "print(dim(dat))\n",
    "head(dat)"
   ]
  },
  {
   "cell_type": "markdown",
   "metadata": {},
   "source": [
    "## Summary"
   ]
  },
  {
   "cell_type": "code",
   "execution_count": 5,
   "metadata": {},
   "outputs": [
    {
     "name": "stdout",
     "output_type": "stream",
     "text": [
      "[1] 80288     8\n"
     ]
    },
    {
     "data": {
      "text/html": [
       "<table class=\"dataframe\">\n",
       "<caption>A tibble: 6 × 8</caption>\n",
       "<thead>\n",
       "\t<tr><th scope=col>Peak</th><th scope=col>Mean</th><th scope=col>Median</th><th scope=col>Max</th><th scope=col>Min</th><th scope=col>Count</th><th scope=col>Mean_Neg</th><th scope=col>Mean_Pos</th></tr>\n",
       "\t<tr><th scope=col>&lt;chr&gt;</th><th scope=col>&lt;dbl&gt;</th><th scope=col>&lt;dbl&gt;</th><th scope=col>&lt;dbl&gt;</th><th scope=col>&lt;dbl&gt;</th><th scope=col>&lt;int&gt;</th><th scope=col>&lt;dbl&gt;</th><th scope=col>&lt;dbl&gt;</th></tr>\n",
       "</thead>\n",
       "<tbody>\n",
       "\t<tr><td>chr10:100009096-100010466</td><td>-0.03786170</td><td> 0.0303830</td><td>0.526902</td><td>-0.655965</td><td>10</td><td>-0.3840866</td><td>0.3083632</td></tr>\n",
       "\t<tr><td>chr10:100045961-100046653</td><td> 0.10873570</td><td> 0.1820295</td><td>0.646953</td><td>-0.497578</td><td>10</td><td>-0.2750008</td><td>0.3645600</td></tr>\n",
       "\t<tr><td>chr10:100065094-100065486</td><td>-0.00323730</td><td>-0.0931995</td><td>1.305380</td><td>-0.677550</td><td>10</td><td>-0.3639722</td><td>0.5378650</td></tr>\n",
       "\t<tr><td>chr10:100129051-100131059</td><td>-0.26576144</td><td>-0.2617330</td><td>0.253159</td><td>-0.767330</td><td> 9</td><td>-0.4522120</td><td>0.1071397</td></tr>\n",
       "\t<tr><td>chr10:100185017-100187275</td><td>-0.01202196</td><td>-0.0613300</td><td>0.730481</td><td>-0.954435</td><td>25</td><td>-0.2790666</td><td>0.3278531</td></tr>\n",
       "\t<tr><td>chr10:100228452-100230090</td><td>-0.01822050</td><td> 0.0722880</td><td>0.446912</td><td>-0.768059</td><td>10</td><td>-0.3293750</td><td>0.1892158</td></tr>\n",
       "</tbody>\n",
       "</table>\n"
      ],
      "text/latex": [
       "A tibble: 6 × 8\n",
       "\\begin{tabular}{llllllll}\n",
       " Peak & Mean & Median & Max & Min & Count & Mean\\_Neg & Mean\\_Pos\\\\\n",
       " <chr> & <dbl> & <dbl> & <dbl> & <dbl> & <int> & <dbl> & <dbl>\\\\\n",
       "\\hline\n",
       "\t chr10:100009096-100010466 & -0.03786170 &  0.0303830 & 0.526902 & -0.655965 & 10 & -0.3840866 & 0.3083632\\\\\n",
       "\t chr10:100045961-100046653 &  0.10873570 &  0.1820295 & 0.646953 & -0.497578 & 10 & -0.2750008 & 0.3645600\\\\\n",
       "\t chr10:100065094-100065486 & -0.00323730 & -0.0931995 & 1.305380 & -0.677550 & 10 & -0.3639722 & 0.5378650\\\\\n",
       "\t chr10:100129051-100131059 & -0.26576144 & -0.2617330 & 0.253159 & -0.767330 &  9 & -0.4522120 & 0.1071397\\\\\n",
       "\t chr10:100185017-100187275 & -0.01202196 & -0.0613300 & 0.730481 & -0.954435 & 25 & -0.2790666 & 0.3278531\\\\\n",
       "\t chr10:100228452-100230090 & -0.01822050 &  0.0722880 & 0.446912 & -0.768059 & 10 & -0.3293750 & 0.1892158\\\\\n",
       "\\end{tabular}\n"
      ],
      "text/markdown": [
       "\n",
       "A tibble: 6 × 8\n",
       "\n",
       "| Peak &lt;chr&gt; | Mean &lt;dbl&gt; | Median &lt;dbl&gt; | Max &lt;dbl&gt; | Min &lt;dbl&gt; | Count &lt;int&gt; | Mean_Neg &lt;dbl&gt; | Mean_Pos &lt;dbl&gt; |\n",
       "|---|---|---|---|---|---|---|---|\n",
       "| chr10:100009096-100010466 | -0.03786170 |  0.0303830 | 0.526902 | -0.655965 | 10 | -0.3840866 | 0.3083632 |\n",
       "| chr10:100045961-100046653 |  0.10873570 |  0.1820295 | 0.646953 | -0.497578 | 10 | -0.2750008 | 0.3645600 |\n",
       "| chr10:100065094-100065486 | -0.00323730 | -0.0931995 | 1.305380 | -0.677550 | 10 | -0.3639722 | 0.5378650 |\n",
       "| chr10:100129051-100131059 | -0.26576144 | -0.2617330 | 0.253159 | -0.767330 |  9 | -0.4522120 | 0.1071397 |\n",
       "| chr10:100185017-100187275 | -0.01202196 | -0.0613300 | 0.730481 | -0.954435 | 25 | -0.2790666 | 0.3278531 |\n",
       "| chr10:100228452-100230090 | -0.01822050 |  0.0722880 | 0.446912 | -0.768059 | 10 | -0.3293750 | 0.1892158 |\n",
       "\n"
      ],
      "text/plain": [
       "  Peak                      Mean        Median     Max      Min       Count\n",
       "1 chr10:100009096-100010466 -0.03786170  0.0303830 0.526902 -0.655965 10   \n",
       "2 chr10:100045961-100046653  0.10873570  0.1820295 0.646953 -0.497578 10   \n",
       "3 chr10:100065094-100065486 -0.00323730 -0.0931995 1.305380 -0.677550 10   \n",
       "4 chr10:100129051-100131059 -0.26576144 -0.2617330 0.253159 -0.767330  9   \n",
       "5 chr10:100185017-100187275 -0.01202196 -0.0613300 0.730481 -0.954435 25   \n",
       "6 chr10:100228452-100230090 -0.01822050  0.0722880 0.446912 -0.768059 10   \n",
       "  Mean_Neg   Mean_Pos \n",
       "1 -0.3840866 0.3083632\n",
       "2 -0.2750008 0.3645600\n",
       "3 -0.3639722 0.5378650\n",
       "4 -0.4522120 0.1071397\n",
       "5 -0.2790666 0.3278531\n",
       "6 -0.3293750 0.1892158"
      ]
     },
     "metadata": {},
     "output_type": "display_data"
    }
   ],
   "source": [
    "###\n",
    "dat = dat_peak_score_arrange\n",
    "dat = dat %>% dplyr::mutate(Sign  = ifelse(Score > 0, \"pos\", \"neg\"))\n",
    "\n",
    "###\n",
    "dat_summary_total = dat %>%\n",
    "    dplyr::group_by(Peak) %>%\n",
    "    dplyr::summarise(\n",
    "        Mean    = mean(Score),\n",
    "        Median  = median(Score),\n",
    "        Max     = max(Score),\n",
    "        Min     = min(Score),\n",
    "        Count   = n(),\n",
    "        .groups = \"drop\"\n",
    "    )\n",
    "\n",
    "###\n",
    "dat_summary_sign = dat %>%\n",
    "    dplyr::group_by(Peak, Sign) %>%\n",
    "    dplyr::summarise(Mean = mean(Score), .groups = \"drop\") %>% \n",
    "    dplyr::mutate(Sign = dplyr::recode(Sign, `pos` = \"Mean_Pos\", `neg` = \"Mean_Neg\")) %>% \n",
    "    tidyr::spread(Sign, Mean)\n",
    "\n",
    "###\n",
    "dat = dplyr::left_join(\n",
    "    dat_summary_total,\n",
    "    dat_summary_sign,\n",
    "    by = c(\"Peak\")) %>% \n",
    "    replace(is.na(.), 0)\n",
    "\n",
    "dat_peak_score_summary = dat\n",
    "print(dim(dat))\n",
    "head(dat)"
   ]
  },
  {
   "cell_type": "code",
   "execution_count": 6,
   "metadata": {},
   "outputs": [
    {
     "data": {
      "image/png": "[encoded data removed]",
      "text/plain": [
       "plot without title"
      ]
     },
     "metadata": {
      "image/png": {
       "height": 420,
       "width": 420
      }
     },
     "output_type": "display_data"
    }
   ],
   "source": [
    "dat = dat_peak_score_summary\n",
    "gpt = ggplot(dat, aes(x=Count)) + \n",
    "    geom_histogram(bins = 50) + \n",
    "    labs(y=\"#Guides / Region\") +\n",
    "    theme_cowplot()\n",
    "print(gpt)"
   ]
  },
  {
   "cell_type": "markdown",
   "metadata": {},
   "source": [
    "## Save results"
   ]
  },
  {
   "cell_type": "code",
   "execution_count": 7,
   "metadata": {},
   "outputs": [],
   "source": [
    "fdiry = file.path(FD_RES, \"results\", ASSAY, FOLDER, \"summary\")\n",
    "fname = \"results.score.tsv\"\n",
    "fpath = file.path(fdiry, fname)\n",
    "\n",
    "dat = dat_peak_score_arrange\n",
    "write_tsv(dat, fpath)"
   ]
  },
  {
   "cell_type": "code",
   "execution_count": 8,
   "metadata": {},
   "outputs": [],
   "source": [
    "fdiry = file.path(FD_RES, \"results\", ASSAY, FOLDER, \"summary\")\n",
    "fname = \"results.summary.tsv\"\n",
    "fpath = file.path(fdiry, fname)\n",
    "\n",
    "dat = dat_peak_score_summary\n",
    "write_tsv(dat, fpath)"
   ]
  },
  {
   "cell_type": "code",
   "execution_count": null,
   "metadata": {},
   "outputs": [],
   "source": []
  }
 ],
 "metadata": {
  "kernelspec": {
   "display_name": "R",
   "language": "R",
   "name": "ir"
  },
  "language_info": {
   "codemirror_mode": "r",
   "file_extension": ".r",
   "mimetype": "text/x-r-source",
   "name": "R",
   "pygments_lexer": "r",
   "version": "4.3.1"
  }
 },
 "nbformat": 4,
 "nbformat_minor": 4
}
