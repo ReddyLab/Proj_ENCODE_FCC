{
 "cells": [
  {
   "cell_type": "markdown",
   "id": "e4896435",
   "metadata": {},
   "source": [
    "**Set environment**"
   ]
  },
  {
   "cell_type": "code",
   "execution_count": 1,
   "id": "ec5d640f",
   "metadata": {},
   "outputs": [
    {
     "name": "stdout",
     "output_type": "stream",
     "text": [
      "You are on Duke Server: HARDAC\n",
      "BASE DIRECTORY (FD_BASE): /data/reddylab/Kuei\n",
      "WORK DIRECTORY (FD_WORK): /data/reddylab/Kuei/out\n",
      "CODE DIRECTORY (FD_CODE): /data/reddylab/Kuei/code\n",
      "SING DIRECTORY (FD_SING): /data/reddylab/Kuei/singularity\n",
      "PATH OF PROJECT (FD_PRJ): /data/reddylab/Kuei/code/Proj_CombEffect_ENCODE_FCC\n",
      "PATH OF RESULTS (FD_RES): /data/reddylab/Kuei/out/proj_combeffect_encode_fcc\n",
      "PATH OF LOG     (FD_LOG): /data/reddylab/Kuei/out/proj_combeffect_encode_fcc/log\n",
      "\n"
     ]
    }
   ],
   "source": [
    "source ../config/config_duke.sh\n",
    "source ../config/config_load_module_bedtools.sh\n",
    "show_env"
   ]
  },
  {
   "cell_type": "markdown",
   "id": "afc3851d",
   "metadata": {},
   "source": [
    "**Check data**"
   ]
  },
  {
   "cell_type": "code",
   "execution_count": 2,
   "id": "d4dfce1b",
   "metadata": {},
   "outputs": [
    {
     "name": "stdout",
     "output_type": "stream",
     "text": [
      "+++++++++++++++++++++++++++++++++++\n",
      "-rw-rw-r-- 1 kk319 reddylab 5.7M Mar  6 16:02 /data/reddylab/Kuei/out/proj_combeffect_encode_fcc/results/region/KS91_K562_ASTARRseq_peak_macs_input/KS91_K562_hg38_ASTARRseq_Input.all_reps.masked.union_narrowPeak.q5.bed\n",
      "247520\n",
      "\n",
      "+++++++++++++++++++++++++++++++++++\n",
      "chr1\t10015\t10442\n",
      "chr1\t14253\t14645\n",
      "chr1\t16015\t16477\n",
      "chr1\t17237\t17772\n",
      "chr1\t28903\t29613\n",
      "chr1\t30803\t31072\n",
      "chr1\t101603\t101849\n",
      "chr1\t115411\t115986\n",
      "chr1\t118518\t118743\n",
      "chr1\t136071\t137429\n",
      "\n",
      "+++++++++++++++++++++++++++++++++++\n",
      "chrX\t155966947\t155967395\n",
      "chrX\t155971561\t155972273\n",
      "chrX\t155986274\t155987619\n",
      "chrX\t155997267\t155998045\n",
      "chrX\t156000382\t156003205\n",
      "chrX\t156009687\t156010227\n",
      "chrX\t156016391\t156016836\n",
      "chrX\t156024950\t156025593\n",
      "chrX\t156030187\t156030740\n",
      "chrY\t11215098\t11215422\n",
      "\n"
     ]
    }
   ],
   "source": [
    "FD_REG=${FD_RES}/results/region/KS91_K562_ASTARRseq_peak_macs_input\n",
    "FN_REG=KS91_K562_hg38_ASTARRseq_Input.all_reps.masked.union_narrowPeak.q5.bed\n",
    "\n",
    "echo +++++++++++++++++++++++++++++++++++\n",
    "ls -lh ${FD_REG}/${FN_REG}\n",
    "cat ${FD_REG}/${FN_REG} | wc -l\n",
    "echo\n",
    "\n",
    "echo +++++++++++++++++++++++++++++++++++\n",
    "head ${FD_REG}/${FN_REG}\n",
    "echo\n",
    "\n",
    "echo +++++++++++++++++++++++++++++++++++\n",
    "tail ${FD_REG}/${FN_REG}\n",
    "echo"
   ]
  },
  {
   "cell_type": "code",
   "execution_count": 3,
   "id": "d54481e5",
   "metadata": {},
   "outputs": [
    {
     "name": "stdout",
     "output_type": "stream",
     "text": [
      "/data/reddylab/Kuei/out/proj_combeffect_encode_fcc/results/Tewhey_K562_TileMPRA/fragment_count\n",
      "OL13_20220512.hg38.raw.Input.rep1.stranded_pos.bed\n",
      "OL13_20220512.hg38.raw.Input.rep2.stranded_pos.bed\n",
      "OL13_20220512.hg38.raw.Input.rep3.stranded_pos.bed\n",
      "OL13_20220512.hg38.raw.Input.rep4.stranded_pos.bed\n",
      "OL13_20220512.hg38.raw.Output.rep1.stranded_pos.bed\n",
      "OL13_20220512.hg38.raw.Output.rep2.stranded_pos.bed\n",
      "OL13_20220512.hg38.raw.Output.rep3.stranded_pos.bed\n",
      "OL13_20220512.hg38.raw.Output.rep4.stranded_pos.bed\n",
      "OL43_20221003.hg38.raw.Input.rep1.stranded_pos.bed\n",
      "OL43_20221003.hg38.raw.Input.rep2.stranded_pos.bed\n",
      "OL43_20221003.hg38.raw.Input.rep3.stranded_pos.bed\n",
      "OL43_20221003.hg38.raw.Input.rep4.stranded_pos.bed\n",
      "OL43_20221003.hg38.raw.Input.rep5.stranded_pos.bed\n",
      "OL43_20221003.hg38.raw.Input.rep6.stranded_pos.bed\n",
      "OL43_20221003.hg38.raw.Output.rep1.stranded_pos.bed\n",
      "OL43_20221003.hg38.raw.Output.rep2.stranded_pos.bed\n",
      "OL43_20221003.hg38.raw.Output.rep3.stranded_pos.bed\n",
      "OL43_20221003.hg38.raw.Output.rep4.stranded_pos.bed\n",
      "OL43_20221003.hg38.raw.Output.rep5.stranded_pos.bed\n",
      "OL45_20220927.hg38.raw.Input.rep1.stranded_pos.bed\n",
      "OL45_20220927.hg38.raw.Input.rep2.stranded_pos.bed\n",
      "OL45_20220927.hg38.raw.Input.rep3.stranded_pos.bed\n",
      "OL45_20220927.hg38.raw.Input.rep4.stranded_pos.bed\n",
      "OL45_20220927.hg38.raw.Output.rep1.stranded_pos.bed\n",
      "OL45_20220927.hg38.raw.Output.rep2.stranded_pos.bed\n",
      "OL45_20220927.hg38.raw.Output.rep3.stranded_pos.bed\n",
      "OL45_20220927.hg38.raw.Output.rep4.stranded_pos.bed\n"
     ]
    }
   ],
   "source": [
    "ASSAY=Tewhey_K562_TileMPRA\n",
    "PREFIX=OL\n",
    "FD_INP=${FD_RES}/results/${ASSAY}/fragment_count\n",
    "\n",
    "echo ${FD_INP}\n",
    "ls ${FD_INP}/${PREFIX}*hg38*raw*rep*bed | xargs -n 1 basename"
   ]
  },
  {
   "cell_type": "code",
   "execution_count": 4,
   "id": "ee083637",
   "metadata": {},
   "outputs": [
    {
     "name": "stdout",
     "output_type": "stream",
     "text": [
      "Total: 8\n",
      "OL13_20220512.hg38.raw.Input.rep1.stranded_pos.bed\n",
      "OL13_20220512.hg38.raw.Input.rep2.stranded_pos.bed\n",
      "OL13_20220512.hg38.raw.Input.rep3.stranded_pos.bed\n",
      "OL13_20220512.hg38.raw.Input.rep4.stranded_pos.bed\n",
      "OL13_20220512.hg38.raw.Output.rep1.stranded_pos.bed\n",
      "OL13_20220512.hg38.raw.Output.rep2.stranded_pos.bed\n",
      "OL13_20220512.hg38.raw.Output.rep3.stranded_pos.bed\n",
      "OL13_20220512.hg38.raw.Output.rep4.stranded_pos.bed\n"
     ]
    }
   ],
   "source": [
    "ASSAY=Tewhey_K562_TileMPRA\n",
    "PREFIX=OL13\n",
    "\n",
    "FD_INP=${FD_RES}/results/${ASSAY}/fragment_count\n",
    "FP_INPS=($(ls ${FD_INP}/${PREFIX}*hg38*raw*rep*bed))\n",
    "echo Total: ${#FP_INPS[@]}\n",
    "basename -a ${FP_INPS[@]}"
   ]
  },
  {
   "cell_type": "code",
   "execution_count": 5,
   "id": "fd9f79ec",
   "metadata": {},
   "outputs": [
    {
     "name": "stdout",
     "output_type": "stream",
     "text": [
      "Total: 11\n",
      "OL43_20221003.hg38.raw.Input.rep1.stranded_pos.bed\n",
      "OL43_20221003.hg38.raw.Input.rep2.stranded_pos.bed\n",
      "OL43_20221003.hg38.raw.Input.rep3.stranded_pos.bed\n",
      "OL43_20221003.hg38.raw.Input.rep4.stranded_pos.bed\n",
      "OL43_20221003.hg38.raw.Input.rep5.stranded_pos.bed\n",
      "OL43_20221003.hg38.raw.Input.rep6.stranded_pos.bed\n",
      "OL43_20221003.hg38.raw.Output.rep1.stranded_pos.bed\n",
      "OL43_20221003.hg38.raw.Output.rep2.stranded_pos.bed\n",
      "OL43_20221003.hg38.raw.Output.rep3.stranded_pos.bed\n",
      "OL43_20221003.hg38.raw.Output.rep4.stranded_pos.bed\n",
      "OL43_20221003.hg38.raw.Output.rep5.stranded_pos.bed\n"
     ]
    }
   ],
   "source": [
    "ASSAY=Tewhey_K562_TileMPRA\n",
    "PREFIX=OL43\n",
    "\n",
    "FD_INP=${FD_RES}/results/${ASSAY}/fragment_count\n",
    "FP_INPS=($(ls ${FD_INP}/${PREFIX}*hg38*raw*rep*bed))\n",
    "echo Total: ${#FP_INPS[@]}\n",
    "basename -a ${FP_INPS[@]}"
   ]
  },
  {
   "cell_type": "code",
   "execution_count": 6,
   "id": "c9d5fc66",
   "metadata": {},
   "outputs": [
    {
     "name": "stdout",
     "output_type": "stream",
     "text": [
      "Total: 8\n",
      "OL45_20220927.hg38.raw.Input.rep1.stranded_pos.bed\n",
      "OL45_20220927.hg38.raw.Input.rep2.stranded_pos.bed\n",
      "OL45_20220927.hg38.raw.Input.rep3.stranded_pos.bed\n",
      "OL45_20220927.hg38.raw.Input.rep4.stranded_pos.bed\n",
      "OL45_20220927.hg38.raw.Output.rep1.stranded_pos.bed\n",
      "OL45_20220927.hg38.raw.Output.rep2.stranded_pos.bed\n",
      "OL45_20220927.hg38.raw.Output.rep3.stranded_pos.bed\n",
      "OL45_20220927.hg38.raw.Output.rep4.stranded_pos.bed\n"
     ]
    }
   ],
   "source": [
    "ASSAY=Tewhey_K562_TileMPRA\n",
    "PREFIX=OL45\n",
    "\n",
    "FD_INP=${FD_RES}/results/${ASSAY}/fragment_count\n",
    "FP_INPS=($(ls ${FD_INP}/${PREFIX}*hg38*raw*rep*bed))\n",
    "echo Total: ${#FP_INPS[@]}\n",
    "basename -a ${FP_INPS[@]}"
   ]
  },
  {
   "cell_type": "code",
   "execution_count": 7,
   "id": "ec96c576",
   "metadata": {},
   "outputs": [
    {
     "name": "stdout",
     "output_type": "stream",
     "text": [
      "Total: 27\n"
     ]
    }
   ],
   "source": [
    "ASSAY=Tewhey_K562_TileMPRA\n",
    "PREFIX=OL\n",
    "FP_INPS=($(ls ${FD_INP}/${PREFIX}*hg38*raw*rep*bed))\n",
    "echo Total: ${#FP_INPS[@]}"
   ]
  },
  {
   "cell_type": "markdown",
   "id": "de7f7571",
   "metadata": {},
   "source": [
    "**RUN**"
   ]
  },
  {
   "cell_type": "code",
   "execution_count": 8,
   "id": "2c7f6d01",
   "metadata": {},
   "outputs": [
    {
     "name": "stdout",
     "output_type": "stream",
     "text": [
      "Submitted batch job 29590338\n"
     ]
    }
   ],
   "source": [
    "sbatch -p ${NODE} \\\n",
    "    --exclude=dl-01 \\\n",
    "    --cpus-per-task 8 \\\n",
    "    --mem 20G \\\n",
    "    --output ${FD_LOG}/coverage_astarr_peak_macs_input_tmpra.%a.txt \\\n",
    "    --array 0-26 \\\n",
    "    <<'EOF'\n",
    "#!/bin/bash\n",
    "### set directories & global variables\n",
    "source ../config/config_duke.sh\n",
    "ASSAY=Tewhey_K562_TileMPRA\n",
    "PREFIX=OL\n",
    "\n",
    "### print start message\n",
    "timer_start=`date +%s`\n",
    "echo \"Hostname:          \" $(hostname)\n",
    "echo \"Slurm Array Index: \" ${SLURM_ARRAY_TASK_ID}\n",
    "echo \"Time Stamp:        \" $(date +\"%m-%d-%y+%T\")\n",
    "echo\n",
    "\n",
    "### set input and output directory\n",
    "FD_INP=${FD_RES}/results/${ASSAY}/fragment_count\n",
    "FD_OUT=${FD_RES}/results/${ASSAY}/coverage_astarrseq_peak_macs_input\n",
    "\n",
    "FP_INPS=($(ls ${FD_INP}/${PREFIX}*hg38*raw*rep*bed))\n",
    "FP_INP=${FP_INPS[${SLURM_ARRAY_TASK_ID}]}\n",
    "FN_INP=$(basename ${FP_INP})\n",
    "\n",
    "FN_OUT=${FN_INP}.gz\n",
    "FP_OUT=${FD_OUT}/${FN_OUT}\n",
    "\n",
    "FD_REG=${FD_RES}/results/region/KS91_K562_ASTARRseq_peak_macs_input\n",
    "FN_REG=KS91_K562_hg38_ASTARRseq_Input.all_reps.masked.union_narrowPeak.q5.bed\n",
    "FP_REG=${FD_REG}/${FN_REG}\n",
    "\n",
    "### Show I/O file\n",
    "echo \"Input  file: \" ${FP_INP}\n",
    "echo\n",
    "echo \"Show the first few lines of the input file\"\n",
    "cat  ${FP_INP} | head -n 5 \n",
    "echo\n",
    "\n",
    "echo \"Input  file: \" ${FP_REG}\n",
    "echo\n",
    "echo \"Show the first few lines of the input file\"\n",
    "cat  ${FP_REG} | head -n 3 \n",
    "echo\n",
    "echo \"Show the last few lines of the input file\"\n",
    "cat  ${FP_REG} | tail -n 3 \n",
    "echo\n",
    "\n",
    "### execute\n",
    "bedtools map \\\n",
    "    -a ${FP_REG} \\\n",
    "    -b ${FP_INP} \\\n",
    "    -o sum \\\n",
    "    -f 0.5 \\\n",
    "    -F 0.5 \\\n",
    "    -e \\\n",
    "| gzip -c \\\n",
    "> ${FP_OUT}\n",
    "\n",
    "### Show I/O file\n",
    "echo\n",
    "echo \"Output file: \" ${FP_OUT}\n",
    "echo\n",
    "echo \"Show the first few lines of the output file\"\n",
    "zcat ${FP_OUT} | head -n 3\n",
    "echo\n",
    "\n",
    "### print end message\n",
    "timer_stop=`date +%s`\n",
    "runtime=$(echo \"${timer_stop} - ${timer_start}\" | bc -l)\n",
    "echo\n",
    "echo 'Done!'\n",
    "echo \"Run Time: $(displaytime ${runtime})\"\n",
    "\n",
    "EOF"
   ]
  },
  {
   "cell_type": "markdown",
   "id": "aa056fdd",
   "metadata": {},
   "source": [
    "**Check results**"
   ]
  },
  {
   "cell_type": "code",
   "execution_count": 9,
   "id": "72d34963",
   "metadata": {},
   "outputs": [
    {
     "name": "stdout",
     "output_type": "stream",
     "text": [
      "Hostname:           x1-02-4.genome.duke.edu\n",
      "Slurm Array Index:  0\n",
      "Time Stamp:         03-21-23+16:30:31\n",
      "\n",
      "Input  file:  /data/reddylab/Kuei/out/proj_combeffect_encode_fcc/results/Tewhey_K562_TileMPRA/fragment_count/OL13_20220512.hg38.raw.Input.rep1.stranded_pos.bed\n",
      "\n",
      "Show the first few lines of the input file\n",
      "chr11\t61787329\t61787528\tchr11:61554801-61555000\t971\t+\n",
      "chr11\t61787334\t61787533\tchr11:61554806-61555005\t1267\t+\n",
      "chr11\t61787339\t61787538\tchr11:61554811-61555010\t1183\t+\n",
      "chr11\t61787344\t61787543\tchr11:61554816-61555015\t1020\t+\n",
      "chr11\t61787349\t61787548\tchr11:61554821-61555020\t1138\t+\n",
      "\n",
      "Input  file:  /data/reddylab/Kuei/out/proj_combeffect_encode_fcc/results/region/KS91_K562_ASTARRseq_peak_macs_input/KS91_K562_hg38_ASTARRseq_Input.all_reps.masked.union_narrowPeak.q5.bed\n",
      "\n",
      "Show the first few lines of the input file\n",
      "chr1\t10015\t10442\n",
      "chr1\t14253\t14645\n",
      "chr1\t16015\t16477\n",
      "\n",
      "Show the last few lines of the input file\n",
      "chrX\t156024950\t156025593\n",
      "chrX\t156030187\t156030740\n",
      "chrY\t11215098\t11215422\n",
      "\n",
      "\n",
      "Output file:  /data/reddylab/Kuei/out/proj_combeffect_encode_fcc/results/Tewhey_K562_TileMPRA/coverage_astarrseq_peak_macs_input/OL13_20220512.hg38.raw.Input.rep1.stranded_pos.bed.gz\n",
      "\n",
      "Show the first few lines of the output file\n",
      "chr1\t10015\t10442\t.\n",
      "chr1\t14253\t14645\t.\n",
      "chr1\t16015\t16477\t.\n",
      "\n",
      "\n",
      "Done!\n",
      "Run Time: 0 seconds\n"
     ]
    }
   ],
   "source": [
    "cat ${FD_LOG}/coverage_astarr_peak_macs_input_tmpra.0.txt"
   ]
  },
  {
   "cell_type": "code",
   "execution_count": 10,
   "id": "d377beee",
   "metadata": {},
   "outputs": [
    {
     "name": "stdout",
     "output_type": "stream",
     "text": [
      "Hostname:           x1-03-2.genome.duke.edu\n",
      "Slurm Array Index:  7\n",
      "Time Stamp:         03-21-23+16:30:31\n",
      "\n",
      "Input  file:  /data/reddylab/Kuei/out/proj_combeffect_encode_fcc/results/Tewhey_K562_TileMPRA/fragment_count/OL13_20220512.hg38.raw.Output.rep4.stranded_pos.bed\n",
      "\n",
      "Show the first few lines of the input file\n",
      "chr11\t61787329\t61787528\tchr11:61554801-61555000\t204\t+\n",
      "chr11\t61787334\t61787533\tchr11:61554806-61555005\t215\t+\n",
      "chr11\t61787339\t61787538\tchr11:61554811-61555010\t276\t+\n",
      "chr11\t61787344\t61787543\tchr11:61554816-61555015\t497\t+\n",
      "chr11\t61787349\t61787548\tchr11:61554821-61555020\t365\t+\n",
      "\n",
      "Input  file:  /data/reddylab/Kuei/out/proj_combeffect_encode_fcc/results/region/KS91_K562_ASTARRseq_peak_macs_input/KS91_K562_hg38_ASTARRseq_Input.all_reps.masked.union_narrowPeak.q5.bed\n",
      "\n",
      "Show the first few lines of the input file\n",
      "chr1\t10015\t10442\n",
      "chr1\t14253\t14645\n",
      "chr1\t16015\t16477\n",
      "\n",
      "Show the last few lines of the input file\n",
      "chrX\t156024950\t156025593\n",
      "chrX\t156030187\t156030740\n",
      "chrY\t11215098\t11215422\n",
      "\n",
      "\n",
      "Output file:  /data/reddylab/Kuei/out/proj_combeffect_encode_fcc/results/Tewhey_K562_TileMPRA/coverage_astarrseq_peak_macs_input/OL13_20220512.hg38.raw.Output.rep4.stranded_pos.bed.gz\n",
      "\n",
      "Show the first few lines of the output file\n",
      "chr1\t10015\t10442\t.\n",
      "chr1\t14253\t14645\t.\n",
      "chr1\t16015\t16477\t.\n",
      "\n",
      "\n",
      "Done!\n",
      "Run Time: 0 seconds\n"
     ]
    }
   ],
   "source": [
    "cat ${FD_LOG}/coverage_astarr_peak_macs_input_tmpra.7.txt"
   ]
  },
  {
   "cell_type": "code",
   "execution_count": 11,
   "id": "aa90effa",
   "metadata": {},
   "outputs": [
    {
     "name": "stdout",
     "output_type": "stream",
     "text": [
      "Hostname:           x1-03-2.genome.duke.edu\n",
      "Slurm Array Index:  8\n",
      "Time Stamp:         03-21-23+16:30:31\n",
      "\n",
      "Input  file:  /data/reddylab/Kuei/out/proj_combeffect_encode_fcc/results/Tewhey_K562_TileMPRA/fragment_count/OL43_20221003.hg38.raw.Input.rep1.stranded_pos.bed\n",
      "\n",
      "Show the first few lines of the input file\n",
      "chr8\t126735901\t126736100\tchr8:126735901-126736100\t1190\t+\n",
      "chr8\t126735951\t126736150\tchr8:126735951-126736150\t194\t+\n",
      "chr8\t126736001\t126736200\tchr8:126736001-126736200\t746\t+\n",
      "chr8\t126736051\t126736250\tchr8:126736051-126736250\t934\t+\n",
      "chr8\t126736101\t126736300\tchr8:126736101-126736300\t697\t+\n",
      "\n",
      "Input  file:  /data/reddylab/Kuei/out/proj_combeffect_encode_fcc/results/region/KS91_K562_ASTARRseq_peak_macs_input/KS91_K562_hg38_ASTARRseq_Input.all_reps.masked.union_narrowPeak.q5.bed\n",
      "\n",
      "Show the first few lines of the input file\n",
      "chr1\t10015\t10442\n",
      "chr1\t14253\t14645\n",
      "chr1\t16015\t16477\n",
      "\n",
      "Show the last few lines of the input file\n",
      "chrX\t156024950\t156025593\n",
      "chrX\t156030187\t156030740\n",
      "chrY\t11215098\t11215422\n",
      "\n",
      "\n",
      "Output file:  /data/reddylab/Kuei/out/proj_combeffect_encode_fcc/results/Tewhey_K562_TileMPRA/coverage_astarrseq_peak_macs_input/OL43_20221003.hg38.raw.Input.rep1.stranded_pos.bed.gz\n",
      "\n",
      "Show the first few lines of the output file\n",
      "chr1\t10015\t10442\t.\n",
      "chr1\t14253\t14645\t.\n",
      "chr1\t16015\t16477\t.\n",
      "\n",
      "\n",
      "Done!\n",
      "Run Time: 0 seconds\n"
     ]
    }
   ],
   "source": [
    "cat ${FD_LOG}/coverage_astarr_peak_macs_input_tmpra.8.txt"
   ]
  },
  {
   "cell_type": "code",
   "execution_count": 12,
   "id": "7314c471",
   "metadata": {},
   "outputs": [
    {
     "name": "stdout",
     "output_type": "stream",
     "text": [
      "Hostname:           x1-03-4.genome.duke.edu\n",
      "Slurm Array Index:  18\n",
      "Time Stamp:         03-21-23+16:30:31\n",
      "\n",
      "Input  file:  /data/reddylab/Kuei/out/proj_combeffect_encode_fcc/results/Tewhey_K562_TileMPRA/fragment_count/OL43_20221003.hg38.raw.Output.rep5.stranded_pos.bed\n",
      "\n",
      "Show the first few lines of the input file\n",
      "chr8\t126735901\t126736100\tchr8:126735901-126736100\t4941\t+\n",
      "chr8\t126735951\t126736150\tchr8:126735951-126736150\t595\t+\n",
      "chr8\t126736001\t126736200\tchr8:126736001-126736200\t2652\t+\n",
      "chr8\t126736051\t126736250\tchr8:126736051-126736250\t676\t+\n",
      "chr8\t126736101\t126736300\tchr8:126736101-126736300\t611\t+\n",
      "\n",
      "Input  file:  /data/reddylab/Kuei/out/proj_combeffect_encode_fcc/results/region/KS91_K562_ASTARRseq_peak_macs_input/KS91_K562_hg38_ASTARRseq_Input.all_reps.masked.union_narrowPeak.q5.bed\n",
      "\n",
      "Show the first few lines of the input file\n",
      "chr1\t10015\t10442\n",
      "chr1\t14253\t14645\n",
      "chr1\t16015\t16477\n",
      "\n",
      "Show the last few lines of the input file\n",
      "chrX\t156024950\t156025593\n",
      "chrX\t156030187\t156030740\n",
      "chrY\t11215098\t11215422\n",
      "\n",
      "\n",
      "Output file:  /data/reddylab/Kuei/out/proj_combeffect_encode_fcc/results/Tewhey_K562_TileMPRA/coverage_astarrseq_peak_macs_input/OL43_20221003.hg38.raw.Output.rep5.stranded_pos.bed.gz\n",
      "\n",
      "Show the first few lines of the output file\n",
      "chr1\t10015\t10442\t.\n",
      "chr1\t14253\t14645\t.\n",
      "chr1\t16015\t16477\t.\n",
      "\n",
      "\n",
      "Done!\n",
      "Run Time: 0 seconds\n"
     ]
    }
   ],
   "source": [
    "cat ${FD_LOG}/coverage_astarr_peak_macs_input_tmpra.18.txt"
   ]
  },
  {
   "cell_type": "code",
   "execution_count": 13,
   "id": "3f33ce51",
   "metadata": {},
   "outputs": [
    {
     "name": "stdout",
     "output_type": "stream",
     "text": [
      "Hostname:           x1-03-4.genome.duke.edu\n",
      "Slurm Array Index:  19\n",
      "Time Stamp:         03-21-23+16:30:31\n",
      "\n",
      "Input  file:  /data/reddylab/Kuei/out/proj_combeffect_encode_fcc/results/Tewhey_K562_TileMPRA/fragment_count/OL45_20220927.hg38.raw.Input.rep1.stranded_pos.bed\n",
      "\n",
      "Show the first few lines of the input file\n",
      "chr11\t4505501\t4505700\tchr11:4505501-4505700\t811\t+\n",
      "chr11\t4505601\t4505800\tchr11:4505601-4505800\t693\t+\n",
      "chr11\t4505701\t4505900\tchr11:4505701-4505900\t577\t+\n",
      "chr11\t4505801\t4506000\tchr11:4505801-4506000\t855\t+\n",
      "chr11\t4505901\t4506100\tchr11:4505901-4506100\t317\t+\n",
      "\n",
      "Input  file:  /data/reddylab/Kuei/out/proj_combeffect_encode_fcc/results/region/KS91_K562_ASTARRseq_peak_macs_input/KS91_K562_hg38_ASTARRseq_Input.all_reps.masked.union_narrowPeak.q5.bed\n",
      "\n",
      "Show the first few lines of the input file\n",
      "chr1\t10015\t10442\n",
      "chr1\t14253\t14645\n",
      "chr1\t16015\t16477\n",
      "\n",
      "Show the last few lines of the input file\n",
      "chrX\t156024950\t156025593\n",
      "chrX\t156030187\t156030740\n",
      "chrY\t11215098\t11215422\n",
      "\n",
      "\n",
      "Output file:  /data/reddylab/Kuei/out/proj_combeffect_encode_fcc/results/Tewhey_K562_TileMPRA/coverage_astarrseq_peak_macs_input/OL45_20220927.hg38.raw.Input.rep1.stranded_pos.bed.gz\n",
      "\n",
      "Show the first few lines of the output file\n",
      "chr1\t10015\t10442\t.\n",
      "chr1\t14253\t14645\t.\n",
      "chr1\t16015\t16477\t.\n",
      "\n",
      "\n",
      "Done!\n",
      "Run Time: 0 seconds\n"
     ]
    }
   ],
   "source": [
    "cat ${FD_LOG}/coverage_astarr_peak_macs_input_tmpra.19.txt"
   ]
  },
  {
   "cell_type": "code",
   "execution_count": 14,
   "id": "5417df34",
   "metadata": {},
   "outputs": [
    {
     "name": "stdout",
     "output_type": "stream",
     "text": [
      "Hostname:           x2-08-2.genome.duke.edu\n",
      "Slurm Array Index:  26\n",
      "Time Stamp:         03-21-23+16:30:31\n",
      "\n",
      "Input  file:  /data/reddylab/Kuei/out/proj_combeffect_encode_fcc/results/Tewhey_K562_TileMPRA/fragment_count/OL45_20220927.hg38.raw.Output.rep4.stranded_pos.bed\n",
      "\n",
      "Show the first few lines of the input file\n",
      "chr11\t4505501\t4505700\tchr11:4505501-4505700\t714\t+\n",
      "chr11\t4505601\t4505800\tchr11:4505601-4505800\t395\t+\n",
      "chr11\t4505701\t4505900\tchr11:4505701-4505900\t291\t+\n",
      "chr11\t4505801\t4506000\tchr11:4505801-4506000\t406\t+\n",
      "chr11\t4505901\t4506100\tchr11:4505901-4506100\t179\t+\n",
      "\n",
      "Input  file:  /data/reddylab/Kuei/out/proj_combeffect_encode_fcc/results/region/KS91_K562_ASTARRseq_peak_macs_input/KS91_K562_hg38_ASTARRseq_Input.all_reps.masked.union_narrowPeak.q5.bed\n",
      "\n",
      "Show the first few lines of the input file\n",
      "chr1\t10015\t10442\n",
      "chr1\t14253\t14645\n",
      "chr1\t16015\t16477\n",
      "\n",
      "Show the last few lines of the input file\n",
      "chrX\t156024950\t156025593\n",
      "chrX\t156030187\t156030740\n",
      "chrY\t11215098\t11215422\n",
      "\n",
      "\n",
      "Output file:  /data/reddylab/Kuei/out/proj_combeffect_encode_fcc/results/Tewhey_K562_TileMPRA/coverage_astarrseq_peak_macs_input/OL45_20220927.hg38.raw.Output.rep4.stranded_pos.bed.gz\n",
      "\n",
      "Show the first few lines of the output file\n",
      "chr1\t10015\t10442\t.\n",
      "chr1\t14253\t14645\t.\n",
      "chr1\t16015\t16477\t.\n",
      "\n",
      "\n",
      "Done!\n",
      "Run Time: 0 seconds\n"
     ]
    }
   ],
   "source": [
    "cat ${FD_LOG}/coverage_astarr_peak_macs_input_tmpra.26.txt"
   ]
  },
  {
   "cell_type": "code",
   "execution_count": null,
   "id": "e882bf02",
   "metadata": {},
   "outputs": [],
   "source": []
  },
  {
   "cell_type": "code",
   "execution_count": null,
   "id": "c6e03f97-dfd2-466f-8b28-02e90cc36198",
   "metadata": {},
   "outputs": [],
   "source": []
  }
 ],
 "metadata": {
  "kernelspec": {
   "display_name": "Bash",
   "language": "bash",
   "name": "bash"
  },
  "language_info": {
   "codemirror_mode": "shell",
   "file_extension": ".sh",
   "mimetype": "text/x-sh",
   "name": "bash"
  }
 },
 "nbformat": 4,
 "nbformat_minor": 5
}
