{
 "cells": [
  {
   "cell_type": "markdown",
   "metadata": {},
   "source": [
    "**Set environment**"
   ]
  },
  {
   "cell_type": "code",
   "execution_count": 1,
   "metadata": {},
   "outputs": [
    {
     "name": "stdout",
     "output_type": "stream",
     "text": [
      "You are in Singularity: singularity_proj_encode_fcc \n",
      "BASE DIRECTORY (FD_BASE): /data/reddylab/Kuei \n",
      "WORK DIRECTORY (FD_WORK): /data/reddylab/Kuei/out \n",
      "CODE DIRECTORY (FD_CODE): /data/reddylab/Kuei/code \n",
      "PATH OF PROJECT (FD_PRJ): /data/reddylab/Kuei/code/Proj_CombEffect_ENCODE_FCC \n",
      "PATH OF RESULTS (FD_RES): /data/reddylab/Kuei/out/proj_combeffect_encode_fcc \n",
      "PATH OF LOG     (FD_LOG): /data/reddylab/Kuei/out/proj_combeffect_encode_fcc/log \n"
     ]
    }
   ],
   "source": [
    "suppressMessages(suppressWarnings(source(\"../config/config_sing.R\")))\n",
    "suppressWarnings(suppressMessages(library(\"GenomicRanges\")))\n",
    "show_env()"
   ]
  },
  {
   "cell_type": "markdown",
   "metadata": {},
   "source": [
    "## ATAC Peaks"
   ]
  },
  {
   "cell_type": "code",
   "execution_count": 2,
   "metadata": {},
   "outputs": [
    {
     "name": "stdout",
     "output_type": "stream",
     "text": [
      "[1] 247520      4\n"
     ]
    },
    {
     "data": {
      "text/html": [
       "<table class=\"dataframe\">\n",
       "<caption>A tibble: 6 × 4</caption>\n",
       "<thead>\n",
       "\t<tr><th scope=col>Chrom</th><th scope=col>Start</th><th scope=col>End</th><th scope=col>Peak</th></tr>\n",
       "\t<tr><th scope=col>&lt;chr&gt;</th><th scope=col>&lt;dbl&gt;</th><th scope=col>&lt;dbl&gt;</th><th scope=col>&lt;chr&gt;</th></tr>\n",
       "</thead>\n",
       "<tbody>\n",
       "\t<tr><td>chr1</td><td>10015</td><td>10442</td><td>chr1:10015-10442</td></tr>\n",
       "\t<tr><td>chr1</td><td>14253</td><td>14645</td><td>chr1:14253-14645</td></tr>\n",
       "\t<tr><td>chr1</td><td>16015</td><td>16477</td><td>chr1:16015-16477</td></tr>\n",
       "\t<tr><td>chr1</td><td>17237</td><td>17772</td><td>chr1:17237-17772</td></tr>\n",
       "\t<tr><td>chr1</td><td>28903</td><td>29613</td><td>chr1:28903-29613</td></tr>\n",
       "\t<tr><td>chr1</td><td>30803</td><td>31072</td><td>chr1:30803-31072</td></tr>\n",
       "</tbody>\n",
       "</table>\n"
      ],
      "text/latex": [
       "A tibble: 6 × 4\n",
       "\\begin{tabular}{llll}\n",
       " Chrom & Start & End & Peak\\\\\n",
       " <chr> & <dbl> & <dbl> & <chr>\\\\\n",
       "\\hline\n",
       "\t chr1 & 10015 & 10442 & chr1:10015-10442\\\\\n",
       "\t chr1 & 14253 & 14645 & chr1:14253-14645\\\\\n",
       "\t chr1 & 16015 & 16477 & chr1:16015-16477\\\\\n",
       "\t chr1 & 17237 & 17772 & chr1:17237-17772\\\\\n",
       "\t chr1 & 28903 & 29613 & chr1:28903-29613\\\\\n",
       "\t chr1 & 30803 & 31072 & chr1:30803-31072\\\\\n",
       "\\end{tabular}\n"
      ],
      "text/markdown": [
       "\n",
       "A tibble: 6 × 4\n",
       "\n",
       "| Chrom &lt;chr&gt; | Start &lt;dbl&gt; | End &lt;dbl&gt; | Peak &lt;chr&gt; |\n",
       "|---|---|---|---|\n",
       "| chr1 | 10015 | 10442 | chr1:10015-10442 |\n",
       "| chr1 | 14253 | 14645 | chr1:14253-14645 |\n",
       "| chr1 | 16015 | 16477 | chr1:16015-16477 |\n",
       "| chr1 | 17237 | 17772 | chr1:17237-17772 |\n",
       "| chr1 | 28903 | 29613 | chr1:28903-29613 |\n",
       "| chr1 | 30803 | 31072 | chr1:30803-31072 |\n",
       "\n"
      ],
      "text/plain": [
       "  Chrom Start End   Peak            \n",
       "1 chr1  10015 10442 chr1:10015-10442\n",
       "2 chr1  14253 14645 chr1:14253-14645\n",
       "3 chr1  16015 16477 chr1:16015-16477\n",
       "4 chr1  17237 17772 chr1:17237-17772\n",
       "5 chr1  28903 29613 chr1:28903-29613\n",
       "6 chr1  30803 31072 chr1:30803-31072"
      ]
     },
     "metadata": {},
     "output_type": "display_data"
    }
   ],
   "source": [
    "fdiry = file.path(FD_RES, \"results\", \"region\", \"KS91_K562_ASTARRseq_peak_macs_input\")\n",
    "fname = \"KS91_K562_hg38_ASTARRseq_Input.all_reps.masked.union_narrowPeak.q5.bed\"\n",
    "fpath = file.path(fdiry, fname)\n",
    "\n",
    "cnames = c(\"Chrom\", \"Start\", \"End\")\n",
    "dat = read_tsv(fpath, col_names = cnames, show_col_types = FALSE)\n",
    "dat = dat %>% mutate(Peak = paste0(Chrom, \":\", Start, \"-\", End))\n",
    "\n",
    "dat_peak_atac_wgs = dat\n",
    "print(dim(dat))\n",
    "head(dat)"
   ]
  },
  {
   "cell_type": "code",
   "execution_count": 3,
   "metadata": {},
   "outputs": [
    {
     "data": {
      "text/plain": [
       "GRanges object with 247520 ranges and 0 metadata columns:\n",
       "           seqnames              ranges strand\n",
       "              <Rle>           <IRanges>  <Rle>\n",
       "       [1]     chr1         10015-10442      *\n",
       "       [2]     chr1         14253-14645      *\n",
       "       [3]     chr1         16015-16477      *\n",
       "       [4]     chr1         17237-17772      *\n",
       "       [5]     chr1         28903-29613      *\n",
       "       ...      ...                 ...    ...\n",
       "  [247516]     chrX 156009687-156010227      *\n",
       "  [247517]     chrX 156016391-156016836      *\n",
       "  [247518]     chrX 156024950-156025593      *\n",
       "  [247519]     chrX 156030187-156030740      *\n",
       "  [247520]     chrY   11215098-11215422      *\n",
       "  -------\n",
       "  seqinfo: 83 sequences from an unspecified genome; no seqlengths"
      ]
     },
     "metadata": {},
     "output_type": "display_data"
    }
   ],
   "source": [
    "dat = dat_peak_atac_wgs\n",
    "grg = GRanges(\n",
    "    seqnames = dat$Chrom,\n",
    "    ranges   = IRanges(\n",
    "        start = dat$Start, \n",
    "        end   = dat$End\n",
    "    )\n",
    ")\n",
    "\n",
    "grg_peak_atac_wgs = grg\n",
    "grg"
   ]
  },
  {
   "cell_type": "markdown",
   "metadata": {},
   "source": [
    "## TMPRA"
   ]
  },
  {
   "cell_type": "code",
   "execution_count": 4,
   "metadata": {},
   "outputs": [
    {
     "name": "stdout",
     "output_type": "stream",
     "text": [
      "[1] \"/data/reddylab/Kuei/out/proj_combeffect_encode_fcc/results/region/region_screened_tmpra.bed\"\n",
      "[1] 8 5\n"
     ]
    },
    {
     "data": {
      "text/html": [
       "<table class=\"dataframe\">\n",
       "<caption>A tibble: 6 × 5</caption>\n",
       "<thead>\n",
       "\t<tr><th scope=col>Chrom</th><th scope=col>Start</th><th scope=col>End</th><th scope=col>Gene</th><th scope=col>Dataset</th></tr>\n",
       "\t<tr><th scope=col>&lt;chr&gt;</th><th scope=col>&lt;dbl&gt;</th><th scope=col>&lt;dbl&gt;</th><th scope=col>&lt;chr&gt;</th><th scope=col>&lt;chr&gt;</th></tr>\n",
       "</thead>\n",
       "<tbody>\n",
       "\t<tr><td>chr11</td><td> 4505501</td><td> 6505900</td><td>HBE1  </td><td>OL45</td></tr>\n",
       "\t<tr><td>chr11</td><td>32869701</td><td>34870100</td><td>LMO2  </td><td>OL45</td></tr>\n",
       "\t<tr><td>chr11</td><td>61787329</td><td>61898348</td><td>FADS  </td><td>OL13</td></tr>\n",
       "\t<tr><td>chr16</td><td>   10001</td><td> 1173100</td><td>HBA2  </td><td>OL45</td></tr>\n",
       "\t<tr><td>chr2 </td><td>59553301</td><td>61553700</td><td>BCL11A</td><td>OL45</td></tr>\n",
       "\t<tr><td>chr20</td><td>56391301</td><td>58391700</td><td>RBM38 </td><td>OL45</td></tr>\n",
       "</tbody>\n",
       "</table>\n"
      ],
      "text/latex": [
       "A tibble: 6 × 5\n",
       "\\begin{tabular}{lllll}\n",
       " Chrom & Start & End & Gene & Dataset\\\\\n",
       " <chr> & <dbl> & <dbl> & <chr> & <chr>\\\\\n",
       "\\hline\n",
       "\t chr11 &  4505501 &  6505900 & HBE1   & OL45\\\\\n",
       "\t chr11 & 32869701 & 34870100 & LMO2   & OL45\\\\\n",
       "\t chr11 & 61787329 & 61898348 & FADS   & OL13\\\\\n",
       "\t chr16 &    10001 &  1173100 & HBA2   & OL45\\\\\n",
       "\t chr2  & 59553301 & 61553700 & BCL11A & OL45\\\\\n",
       "\t chr20 & 56391301 & 58391700 & RBM38  & OL45\\\\\n",
       "\\end{tabular}\n"
      ],
      "text/markdown": [
       "\n",
       "A tibble: 6 × 5\n",
       "\n",
       "| Chrom &lt;chr&gt; | Start &lt;dbl&gt; | End &lt;dbl&gt; | Gene &lt;chr&gt; | Dataset &lt;chr&gt; |\n",
       "|---|---|---|---|---|\n",
       "| chr11 |  4505501 |  6505900 | HBE1   | OL45 |\n",
       "| chr11 | 32869701 | 34870100 | LMO2   | OL45 |\n",
       "| chr11 | 61787329 | 61898348 | FADS   | OL13 |\n",
       "| chr16 |    10001 |  1173100 | HBA2   | OL45 |\n",
       "| chr2  | 59553301 | 61553700 | BCL11A | OL45 |\n",
       "| chr20 | 56391301 | 58391700 | RBM38  | OL45 |\n",
       "\n"
      ],
      "text/plain": [
       "  Chrom Start    End      Gene   Dataset\n",
       "1 chr11  4505501  6505900 HBE1   OL45   \n",
       "2 chr11 32869701 34870100 LMO2   OL45   \n",
       "3 chr11 61787329 61898348 FADS   OL13   \n",
       "4 chr16    10001  1173100 HBA2   OL45   \n",
       "5 chr2  59553301 61553700 BCL11A OL45   \n",
       "6 chr20 56391301 58391700 RBM38  OL45   "
      ]
     },
     "metadata": {},
     "output_type": "display_data"
    }
   ],
   "source": [
    "fdiry = file.path(FD_RES, \"results\", \"region\")\n",
    "fname = \"region_screened_tmpra.bed\"\n",
    "fpath = file.path(fdiry, fname)\n",
    "print(fpath)\n",
    "\n",
    "cnames = c(\"Chrom\", \"Start\", \"End\", \"Gene\", \"Dataset\")\n",
    "dat = read_tsv(fpath, col_names = cnames, show_col_types = FALSE)\n",
    "\n",
    "dat_range_tmpra = dat\n",
    "print(dim(dat))\n",
    "head(dat)"
   ]
  },
  {
   "cell_type": "code",
   "execution_count": 5,
   "metadata": {},
   "outputs": [
    {
     "data": {
      "text/plain": [
       "GRanges object with 8 ranges and 2 metadata columns:\n",
       "      seqnames              ranges strand |        Gene     Dataset\n",
       "         <Rle>           <IRanges>  <Rle> | <character> <character>\n",
       "  [1]    chr11     4505501-6505900      * |        HBE1        OL45\n",
       "  [2]    chr11   32869701-34870100      * |        LMO2        OL45\n",
       "  [3]    chr11   61787329-61898348      * |        FADS        OL13\n",
       "  [4]    chr16       10001-1173100      * |        HBA2        OL45\n",
       "  [5]     chr2   59553301-61553700      * |      BCL11A        OL45\n",
       "  [6]    chr20   56391301-58391700      * |       RBM38        OL45\n",
       "  [7]     chr8 126735901-128736550      * |         MYC        OL43\n",
       "  [8]     chrX   47785501-49880650      * |       GATA1        OL43\n",
       "  -------\n",
       "  seqinfo: 6 sequences from an unspecified genome; no seqlengths"
      ]
     },
     "metadata": {},
     "output_type": "display_data"
    }
   ],
   "source": [
    "dat = dat_range_tmpra\n",
    "grg = GRanges(\n",
    "    seqnames = dat$Chrom,\n",
    "    ranges   = IRanges(\n",
    "        start = dat$Start, \n",
    "        end   = dat$End\n",
    "    )\n",
    ")\n",
    "grg$Gene    = dat$Gene\n",
    "grg$Dataset = dat$Dataset\n",
    "grg_range_tmpra = grg\n",
    "grg"
   ]
  },
  {
   "cell_type": "markdown",
   "metadata": {},
   "source": [
    "## CRISPR"
   ]
  },
  {
   "cell_type": "code",
   "execution_count": 6,
   "metadata": {},
   "outputs": [
    {
     "name": "stdout",
     "output_type": "stream",
     "text": [
      "[1] 610960      6\n"
     ]
    },
    {
     "data": {
      "text/html": [
       "<table class=\"dataframe\">\n",
       "<caption>A tibble: 6 × 6</caption>\n",
       "<thead>\n",
       "\t<tr><th scope=col>Chrom</th><th scope=col>Start</th><th scope=col>End</th><th scope=col>Name</th><th scope=col>Score</th><th scope=col>Gene</th></tr>\n",
       "\t<tr><th scope=col>&lt;chr&gt;</th><th scope=col>&lt;dbl&gt;</th><th scope=col>&lt;dbl&gt;</th><th scope=col>&lt;chr&gt;</th><th scope=col>&lt;dbl&gt;</th><th scope=col>&lt;chr&gt;</th></tr>\n",
       "</thead>\n",
       "<tbody>\n",
       "\t<tr><td>chr11</td><td>33064196</td><td>33064197</td><td>id-1495</td><td> 0.807624</td><td>CAPRIN1</td></tr>\n",
       "\t<tr><td>chr11</td><td>33064217</td><td>33064218</td><td>id-1496</td><td>-2.712460</td><td>CAPRIN1</td></tr>\n",
       "\t<tr><td>chr11</td><td>33064229</td><td>33064230</td><td>id-1497</td><td> 0.642045</td><td>CAPRIN1</td></tr>\n",
       "\t<tr><td>chr11</td><td>33064230</td><td>33064231</td><td>id-1498</td><td> 1.853540</td><td>CAPRIN1</td></tr>\n",
       "\t<tr><td>chr11</td><td>33064258</td><td>33064259</td><td>id-1499</td><td> 0.126467</td><td>CAPRIN1</td></tr>\n",
       "\t<tr><td>chr11</td><td>33064264</td><td>33064265</td><td>id-1500</td><td> 0.217096</td><td>CAPRIN1</td></tr>\n",
       "</tbody>\n",
       "</table>\n"
      ],
      "text/latex": [
       "A tibble: 6 × 6\n",
       "\\begin{tabular}{llllll}\n",
       " Chrom & Start & End & Name & Score & Gene\\\\\n",
       " <chr> & <dbl> & <dbl> & <chr> & <dbl> & <chr>\\\\\n",
       "\\hline\n",
       "\t chr11 & 33064196 & 33064197 & id-1495 &  0.807624 & CAPRIN1\\\\\n",
       "\t chr11 & 33064217 & 33064218 & id-1496 & -2.712460 & CAPRIN1\\\\\n",
       "\t chr11 & 33064229 & 33064230 & id-1497 &  0.642045 & CAPRIN1\\\\\n",
       "\t chr11 & 33064230 & 33064231 & id-1498 &  1.853540 & CAPRIN1\\\\\n",
       "\t chr11 & 33064258 & 33064259 & id-1499 &  0.126467 & CAPRIN1\\\\\n",
       "\t chr11 & 33064264 & 33064265 & id-1500 &  0.217096 & CAPRIN1\\\\\n",
       "\\end{tabular}\n"
      ],
      "text/markdown": [
       "\n",
       "A tibble: 6 × 6\n",
       "\n",
       "| Chrom &lt;chr&gt; | Start &lt;dbl&gt; | End &lt;dbl&gt; | Name &lt;chr&gt; | Score &lt;dbl&gt; | Gene &lt;chr&gt; |\n",
       "|---|---|---|---|---|---|\n",
       "| chr11 | 33064196 | 33064197 | id-1495 |  0.807624 | CAPRIN1 |\n",
       "| chr11 | 33064217 | 33064218 | id-1496 | -2.712460 | CAPRIN1 |\n",
       "| chr11 | 33064229 | 33064230 | id-1497 |  0.642045 | CAPRIN1 |\n",
       "| chr11 | 33064230 | 33064231 | id-1498 |  1.853540 | CAPRIN1 |\n",
       "| chr11 | 33064258 | 33064259 | id-1499 |  0.126467 | CAPRIN1 |\n",
       "| chr11 | 33064264 | 33064265 | id-1500 |  0.217096 | CAPRIN1 |\n",
       "\n"
      ],
      "text/plain": [
       "  Chrom Start    End      Name    Score     Gene   \n",
       "1 chr11 33064196 33064197 id-1495  0.807624 CAPRIN1\n",
       "2 chr11 33064217 33064218 id-1496 -2.712460 CAPRIN1\n",
       "3 chr11 33064229 33064230 id-1497  0.642045 CAPRIN1\n",
       "4 chr11 33064230 33064231 id-1498  1.853540 CAPRIN1\n",
       "5 chr11 33064258 33064259 id-1499  0.126467 CAPRIN1\n",
       "6 chr11 33064264 33064265 id-1500  0.217096 CAPRIN1"
      ]
     },
     "metadata": {},
     "output_type": "display_data"
    }
   ],
   "source": [
    "fdiry = file.path(FD_RES, \"results\", \"CRISPRi_FlowFISH\", \"coverage\")\n",
    "fname = \"Merge_HCRFF_rAVG.log2FC_2.filtered.bed\"\n",
    "fpath = file.path(fdiry, fname)\n",
    "\n",
    "cnames = c(\"Chrom\", \"Start\", \"End\", \"Name\", \"Score\", \"Gene\")\n",
    "dat = read_tsv(fpath, col_names = cnames, show_col_types = FALSE)\n",
    "\n",
    "dat_crispr_log2fc_filter = dat\n",
    "print(dim(dat))\n",
    "head(dat)"
   ]
  },
  {
   "cell_type": "code",
   "execution_count": 7,
   "metadata": {},
   "outputs": [
    {
     "name": "stdout",
     "output_type": "stream",
     "text": [
      "[1] 610960\n",
      "GRanges object with 610960 ranges and 1 metadata column:\n",
      "           seqnames              ranges strand |        Gene\n",
      "              <Rle>           <IRanges>  <Rle> | <character>\n",
      "       [1]    chr11   33064196-33064197      * |     CAPRIN1\n",
      "       [2]    chr11   33064217-33064218      * |     CAPRIN1\n",
      "       [3]    chr11   33064229-33064230      * |     CAPRIN1\n",
      "       [4]    chr11   33064230-33064231      * |     CAPRIN1\n",
      "       [5]    chr11   33064258-33064259      * |     CAPRIN1\n",
      "       ...      ...                 ...    ... .         ...\n",
      "  [610956]     chr8 128731456-128731457      * |        PVT1\n",
      "  [610957]     chr8 128732458-128732459      * |        PVT1\n",
      "  [610958]     chr8 128732691-128732692      * |        PVT1\n",
      "  [610959]     chr8 128733323-128733324      * |        PVT1\n",
      "  [610960]     chr8 128735224-128735225      * |        PVT1\n",
      "  -------\n",
      "  seqinfo: 9 sequences from an unspecified genome; no seqlengths\n"
     ]
    }
   ],
   "source": [
    "### construct a granges object of the guides\n",
    "dat = dat_crispr_log2fc_filter\n",
    "grg = GRanges(\n",
    "    seqnames = dat$Chrom,\n",
    "    ranges   = IRanges(\n",
    "        start = dat$Start, \n",
    "        end   = dat$End\n",
    "    )\n",
    ")\n",
    "grg$Gene = dat$Gene\n",
    "\n",
    "### assign and show\n",
    "grg_crispr_guides = grg\n",
    "print(length(grg))\n",
    "print(grg)"
   ]
  },
  {
   "cell_type": "markdown",
   "metadata": {},
   "source": [
    "## Annotate ATAC Peaks with TMPRA"
   ]
  },
  {
   "cell_type": "code",
   "execution_count": 8,
   "metadata": {},
   "outputs": [
    {
     "name": "stdout",
     "output_type": "stream",
     "text": [
      "[1] 1722    5\n"
     ]
    },
    {
     "data": {
      "text/html": [
       "<table class=\"dataframe\">\n",
       "<caption>A data.frame: 6 × 5</caption>\n",
       "<thead>\n",
       "\t<tr><th></th><th scope=col>Chrom</th><th scope=col>Start</th><th scope=col>End</th><th scope=col>TMPRA_Gene</th><th scope=col>TMPRA_Dataset</th></tr>\n",
       "\t<tr><th></th><th scope=col>&lt;chr&gt;</th><th scope=col>&lt;int&gt;</th><th scope=col>&lt;int&gt;</th><th scope=col>&lt;chr&gt;</th><th scope=col>&lt;chr&gt;</th></tr>\n",
       "</thead>\n",
       "<tbody>\n",
       "\t<tr><th scope=row>1</th><td>chr11</td><td>4539569</td><td>4540043</td><td>HBE1</td><td>OL45</td></tr>\n",
       "\t<tr><th scope=row>2</th><td>chr11</td><td>4551336</td><td>4552012</td><td>HBE1</td><td>OL45</td></tr>\n",
       "\t<tr><th scope=row>3</th><td>chr11</td><td>4553969</td><td>4555012</td><td>HBE1</td><td>OL45</td></tr>\n",
       "\t<tr><th scope=row>4</th><td>chr11</td><td>4569016</td><td>4569992</td><td>HBE1</td><td>OL45</td></tr>\n",
       "\t<tr><th scope=row>5</th><td>chr11</td><td>4577444</td><td>4578031</td><td>HBE1</td><td>OL45</td></tr>\n",
       "\t<tr><th scope=row>6</th><td>chr11</td><td>4601808</td><td>4602487</td><td>HBE1</td><td>OL45</td></tr>\n",
       "</tbody>\n",
       "</table>\n"
      ],
      "text/latex": [
       "A data.frame: 6 × 5\n",
       "\\begin{tabular}{r|lllll}\n",
       "  & Chrom & Start & End & TMPRA\\_Gene & TMPRA\\_Dataset\\\\\n",
       "  & <chr> & <int> & <int> & <chr> & <chr>\\\\\n",
       "\\hline\n",
       "\t1 & chr11 & 4539569 & 4540043 & HBE1 & OL45\\\\\n",
       "\t2 & chr11 & 4551336 & 4552012 & HBE1 & OL45\\\\\n",
       "\t3 & chr11 & 4553969 & 4555012 & HBE1 & OL45\\\\\n",
       "\t4 & chr11 & 4569016 & 4569992 & HBE1 & OL45\\\\\n",
       "\t5 & chr11 & 4577444 & 4578031 & HBE1 & OL45\\\\\n",
       "\t6 & chr11 & 4601808 & 4602487 & HBE1 & OL45\\\\\n",
       "\\end{tabular}\n"
      ],
      "text/markdown": [
       "\n",
       "A data.frame: 6 × 5\n",
       "\n",
       "| <!--/--> | Chrom &lt;chr&gt; | Start &lt;int&gt; | End &lt;int&gt; | TMPRA_Gene &lt;chr&gt; | TMPRA_Dataset &lt;chr&gt; |\n",
       "|---|---|---|---|---|---|\n",
       "| 1 | chr11 | 4539569 | 4540043 | HBE1 | OL45 |\n",
       "| 2 | chr11 | 4551336 | 4552012 | HBE1 | OL45 |\n",
       "| 3 | chr11 | 4553969 | 4555012 | HBE1 | OL45 |\n",
       "| 4 | chr11 | 4569016 | 4569992 | HBE1 | OL45 |\n",
       "| 5 | chr11 | 4577444 | 4578031 | HBE1 | OL45 |\n",
       "| 6 | chr11 | 4601808 | 4602487 | HBE1 | OL45 |\n",
       "\n"
      ],
      "text/plain": [
       "  Chrom Start   End     TMPRA_Gene TMPRA_Dataset\n",
       "1 chr11 4539569 4540043 HBE1       OL45         \n",
       "2 chr11 4551336 4552012 HBE1       OL45         \n",
       "3 chr11 4553969 4555012 HBE1       OL45         \n",
       "4 chr11 4569016 4569992 HBE1       OL45         \n",
       "5 chr11 4577444 4578031 HBE1       OL45         \n",
       "6 chr11 4601808 4602487 HBE1       OL45         "
      ]
     },
     "metadata": {},
     "output_type": "display_data"
    }
   ],
   "source": [
    "grg_query   = grg_peak_atac_wgs\n",
    "grg_subject = grg_range_tmpra\n",
    "\n",
    "res = GenomicRanges::findOverlaps(grg_query, grg_subject)\n",
    "idx_query   = queryHits(res)\n",
    "idx_subject = subjectHits(res)\n",
    "\n",
    "grg = grg_query[idx_query]\n",
    "dat = data.frame(\n",
    "    Chrom  = as.character(seqnames(grg)),\n",
    "    Start  = start(grg),\n",
    "    End    = end(grg),\n",
    "    TMPRA_Gene    = grg_subject$Gene[idx_subject],\n",
    "    TMPRA_Dataset = grg_subject$Dataset[idx_subject]\n",
    ")\n",
    "dat = dat %>% dplyr::arrange(Chrom, Start, End)\n",
    "\n",
    "### assign and show\n",
    "dat_peak_annot_tmpra = dat\n",
    "print(dim(dat))\n",
    "head(dat)"
   ]
  },
  {
   "cell_type": "markdown",
   "metadata": {},
   "source": [
    "## Annotate ATAC Peaks with CRISPR"
   ]
  },
  {
   "cell_type": "code",
   "execution_count": 9,
   "metadata": {},
   "outputs": [
    {
     "name": "stdout",
     "output_type": "stream",
     "text": [
      "[1] 1330    4\n"
     ]
    },
    {
     "data": {
      "text/html": [
       "<table class=\"dataframe\">\n",
       "<caption>A tibble: 6 × 4</caption>\n",
       "<thead>\n",
       "\t<tr><th scope=col>Chrom</th><th scope=col>Start</th><th scope=col>End</th><th scope=col>CRISPR_HCFF</th></tr>\n",
       "\t<tr><th scope=col>&lt;chr&gt;</th><th scope=col>&lt;int&gt;</th><th scope=col>&lt;int&gt;</th><th scope=col>&lt;chr&gt;</th></tr>\n",
       "</thead>\n",
       "<tbody>\n",
       "\t<tr><td>chr11</td><td>4092104</td><td>4092566</td><td>HBE1,HBG1,HBG2,HBS1L,MYB</td></tr>\n",
       "\t<tr><td>chr11</td><td>4094204</td><td>4095676</td><td>HBE1,HBG1,HBG2,HBS1L,MYB</td></tr>\n",
       "\t<tr><td>chr11</td><td>4144511</td><td>4147030</td><td>HBE1,HBG1,HBG2,HBS1L,MYB</td></tr>\n",
       "\t<tr><td>chr11</td><td>4167268</td><td>4168022</td><td>HBE1,HBG1,HBG2,HBS1L,MYB</td></tr>\n",
       "\t<tr><td>chr11</td><td>4181723</td><td>4182583</td><td>HBE1,HBG1,HBG2,HBS1L,MYB</td></tr>\n",
       "\t<tr><td>chr11</td><td>4186880</td><td>4188018</td><td>HBE1,HBG1,HBG2,HBS1L,MYB</td></tr>\n",
       "</tbody>\n",
       "</table>\n"
      ],
      "text/latex": [
       "A tibble: 6 × 4\n",
       "\\begin{tabular}{llll}\n",
       " Chrom & Start & End & CRISPR\\_HCFF\\\\\n",
       " <chr> & <int> & <int> & <chr>\\\\\n",
       "\\hline\n",
       "\t chr11 & 4092104 & 4092566 & HBE1,HBG1,HBG2,HBS1L,MYB\\\\\n",
       "\t chr11 & 4094204 & 4095676 & HBE1,HBG1,HBG2,HBS1L,MYB\\\\\n",
       "\t chr11 & 4144511 & 4147030 & HBE1,HBG1,HBG2,HBS1L,MYB\\\\\n",
       "\t chr11 & 4167268 & 4168022 & HBE1,HBG1,HBG2,HBS1L,MYB\\\\\n",
       "\t chr11 & 4181723 & 4182583 & HBE1,HBG1,HBG2,HBS1L,MYB\\\\\n",
       "\t chr11 & 4186880 & 4188018 & HBE1,HBG1,HBG2,HBS1L,MYB\\\\\n",
       "\\end{tabular}\n"
      ],
      "text/markdown": [
       "\n",
       "A tibble: 6 × 4\n",
       "\n",
       "| Chrom &lt;chr&gt; | Start &lt;int&gt; | End &lt;int&gt; | CRISPR_HCFF &lt;chr&gt; |\n",
       "|---|---|---|---|\n",
       "| chr11 | 4092104 | 4092566 | HBE1,HBG1,HBG2,HBS1L,MYB |\n",
       "| chr11 | 4094204 | 4095676 | HBE1,HBG1,HBG2,HBS1L,MYB |\n",
       "| chr11 | 4144511 | 4147030 | HBE1,HBG1,HBG2,HBS1L,MYB |\n",
       "| chr11 | 4167268 | 4168022 | HBE1,HBG1,HBG2,HBS1L,MYB |\n",
       "| chr11 | 4181723 | 4182583 | HBE1,HBG1,HBG2,HBS1L,MYB |\n",
       "| chr11 | 4186880 | 4188018 | HBE1,HBG1,HBG2,HBS1L,MYB |\n",
       "\n"
      ],
      "text/plain": [
       "  Chrom Start   End     CRISPR_HCFF             \n",
       "1 chr11 4092104 4092566 HBE1,HBG1,HBG2,HBS1L,MYB\n",
       "2 chr11 4094204 4095676 HBE1,HBG1,HBG2,HBS1L,MYB\n",
       "3 chr11 4144511 4147030 HBE1,HBG1,HBG2,HBS1L,MYB\n",
       "4 chr11 4167268 4168022 HBE1,HBG1,HBG2,HBS1L,MYB\n",
       "5 chr11 4181723 4182583 HBE1,HBG1,HBG2,HBS1L,MYB\n",
       "6 chr11 4186880 4188018 HBE1,HBG1,HBG2,HBS1L,MYB"
      ]
     },
     "metadata": {},
     "output_type": "display_data"
    }
   ],
   "source": [
    "grg_query   = grg_peak_atac_wgs\n",
    "grg_subject = grg_crispr_guides\n",
    "\n",
    "res = GenomicRanges::findOverlaps(grg_query, grg_subject)\n",
    "idx_query   = queryHits(res)\n",
    "idx_subject = subjectHits(res)\n",
    "\n",
    "grg = grg_query[idx_query]\n",
    "dat = data.frame(\n",
    "    Chrom = as.character(seqnames(grg)),\n",
    "    Start = start(grg),\n",
    "    End   = end(grg),\n",
    "    Gene  = grg_subject$Gene[idx_subject]\n",
    ")\n",
    "\n",
    "dat = dat %>% \n",
    "    dplyr::arrange(Chrom, Start, End) %>% \n",
    "    distinct\n",
    "\n",
    "dat = dat %>% \n",
    "    dplyr::group_by(Chrom, Start, End) %>% \n",
    "    dplyr::summarise(\n",
    "        CRISPR_HCFF = paste(Gene, collapse=\",\"), \n",
    "        .groups = \"drop\"\n",
    "    )\n",
    "\n",
    "### assign and show\n",
    "dat_peak_annot_crispr = dat\n",
    "print(dim(dat))\n",
    "head(dat)"
   ]
  },
  {
   "cell_type": "markdown",
   "metadata": {},
   "source": [
    "## Combine the results"
   ]
  },
  {
   "cell_type": "code",
   "execution_count": 10,
   "metadata": {},
   "outputs": [
    {
     "name": "stdout",
     "output_type": "stream",
     "text": [
      "[1] 247520      7\n"
     ]
    },
    {
     "data": {
      "text/html": [
       "<table class=\"dataframe\">\n",
       "<caption>A tibble: 6 × 7</caption>\n",
       "<thead>\n",
       "\t<tr><th scope=col>Chrom</th><th scope=col>Start</th><th scope=col>End</th><th scope=col>Peak</th><th scope=col>TMPRA_Gene</th><th scope=col>TMPRA_Dataset</th><th scope=col>CRISPR_HCFF</th></tr>\n",
       "\t<tr><th scope=col>&lt;chr&gt;</th><th scope=col>&lt;dbl&gt;</th><th scope=col>&lt;dbl&gt;</th><th scope=col>&lt;chr&gt;</th><th scope=col>&lt;chr&gt;</th><th scope=col>&lt;chr&gt;</th><th scope=col>&lt;chr&gt;</th></tr>\n",
       "</thead>\n",
       "<tbody>\n",
       "\t<tr><td>chr1</td><td>10015</td><td>10442</td><td>chr1:10015-10442</td><td>NA</td><td>NA</td><td>NA</td></tr>\n",
       "\t<tr><td>chr1</td><td>14253</td><td>14645</td><td>chr1:14253-14645</td><td>NA</td><td>NA</td><td>NA</td></tr>\n",
       "\t<tr><td>chr1</td><td>16015</td><td>16477</td><td>chr1:16015-16477</td><td>NA</td><td>NA</td><td>NA</td></tr>\n",
       "\t<tr><td>chr1</td><td>17237</td><td>17772</td><td>chr1:17237-17772</td><td>NA</td><td>NA</td><td>NA</td></tr>\n",
       "\t<tr><td>chr1</td><td>28903</td><td>29613</td><td>chr1:28903-29613</td><td>NA</td><td>NA</td><td>NA</td></tr>\n",
       "\t<tr><td>chr1</td><td>30803</td><td>31072</td><td>chr1:30803-31072</td><td>NA</td><td>NA</td><td>NA</td></tr>\n",
       "</tbody>\n",
       "</table>\n"
      ],
      "text/latex": [
       "A tibble: 6 × 7\n",
       "\\begin{tabular}{lllllll}\n",
       " Chrom & Start & End & Peak & TMPRA\\_Gene & TMPRA\\_Dataset & CRISPR\\_HCFF\\\\\n",
       " <chr> & <dbl> & <dbl> & <chr> & <chr> & <chr> & <chr>\\\\\n",
       "\\hline\n",
       "\t chr1 & 10015 & 10442 & chr1:10015-10442 & NA & NA & NA\\\\\n",
       "\t chr1 & 14253 & 14645 & chr1:14253-14645 & NA & NA & NA\\\\\n",
       "\t chr1 & 16015 & 16477 & chr1:16015-16477 & NA & NA & NA\\\\\n",
       "\t chr1 & 17237 & 17772 & chr1:17237-17772 & NA & NA & NA\\\\\n",
       "\t chr1 & 28903 & 29613 & chr1:28903-29613 & NA & NA & NA\\\\\n",
       "\t chr1 & 30803 & 31072 & chr1:30803-31072 & NA & NA & NA\\\\\n",
       "\\end{tabular}\n"
      ],
      "text/markdown": [
       "\n",
       "A tibble: 6 × 7\n",
       "\n",
       "| Chrom &lt;chr&gt; | Start &lt;dbl&gt; | End &lt;dbl&gt; | Peak &lt;chr&gt; | TMPRA_Gene &lt;chr&gt; | TMPRA_Dataset &lt;chr&gt; | CRISPR_HCFF &lt;chr&gt; |\n",
       "|---|---|---|---|---|---|---|\n",
       "| chr1 | 10015 | 10442 | chr1:10015-10442 | NA | NA | NA |\n",
       "| chr1 | 14253 | 14645 | chr1:14253-14645 | NA | NA | NA |\n",
       "| chr1 | 16015 | 16477 | chr1:16015-16477 | NA | NA | NA |\n",
       "| chr1 | 17237 | 17772 | chr1:17237-17772 | NA | NA | NA |\n",
       "| chr1 | 28903 | 29613 | chr1:28903-29613 | NA | NA | NA |\n",
       "| chr1 | 30803 | 31072 | chr1:30803-31072 | NA | NA | NA |\n",
       "\n"
      ],
      "text/plain": [
       "  Chrom Start End   Peak             TMPRA_Gene TMPRA_Dataset CRISPR_HCFF\n",
       "1 chr1  10015 10442 chr1:10015-10442 NA         NA            NA         \n",
       "2 chr1  14253 14645 chr1:14253-14645 NA         NA            NA         \n",
       "3 chr1  16015 16477 chr1:16015-16477 NA         NA            NA         \n",
       "4 chr1  17237 17772 chr1:17237-17772 NA         NA            NA         \n",
       "5 chr1  28903 29613 chr1:28903-29613 NA         NA            NA         \n",
       "6 chr1  30803 31072 chr1:30803-31072 NA         NA            NA         "
      ]
     },
     "metadata": {},
     "output_type": "display_data"
    }
   ],
   "source": [
    "###\n",
    "dat = dat_peak_atac_wgs\n",
    "dat = dat %>% \n",
    "    left_join(dat_peak_annot_tmpra,  by=c(\"Chrom\", \"Start\", \"End\")) %>%\n",
    "    left_join(dat_peak_annot_crispr, by=c(\"Chrom\", \"Start\", \"End\"))\n",
    "\n",
    "### assign and show\n",
    "dat_peak_annot_merge = dat\n",
    "print(dim(dat))\n",
    "head(dat)"
   ]
  },
  {
   "cell_type": "markdown",
   "metadata": {},
   "source": [
    "**Examine the results**"
   ]
  },
  {
   "cell_type": "code",
   "execution_count": 11,
   "metadata": {},
   "outputs": [
    {
     "name": "stdout",
     "output_type": "stream",
     "text": [
      "[1] 632   7\n"
     ]
    },
    {
     "data": {
      "text/html": [
       "<table class=\"dataframe\">\n",
       "<caption>A tibble: 6 × 7</caption>\n",
       "<thead>\n",
       "\t<tr><th scope=col>Chrom</th><th scope=col>Start</th><th scope=col>End</th><th scope=col>Peak</th><th scope=col>TMPRA_Gene</th><th scope=col>TMPRA_Dataset</th><th scope=col>CRISPR_HCFF</th></tr>\n",
       "\t<tr><th scope=col>&lt;chr&gt;</th><th scope=col>&lt;dbl&gt;</th><th scope=col>&lt;dbl&gt;</th><th scope=col>&lt;chr&gt;</th><th scope=col>&lt;chr&gt;</th><th scope=col>&lt;chr&gt;</th><th scope=col>&lt;chr&gt;</th></tr>\n",
       "</thead>\n",
       "<tbody>\n",
       "\t<tr><td>chr11</td><td>4539569</td><td>4540043</td><td>chr11:4539569-4540043</td><td>HBE1</td><td>OL45</td><td>HBE1,HBG1,HBG2,HBS1L,MYB</td></tr>\n",
       "\t<tr><td>chr11</td><td>4607676</td><td>4608647</td><td>chr11:4607676-4608647</td><td>HBE1</td><td>OL45</td><td>HBE1,HBG1,HBG2,HBS1L,MYB</td></tr>\n",
       "\t<tr><td>chr11</td><td>4626130</td><td>4626814</td><td>chr11:4626130-4626814</td><td>HBE1</td><td>OL45</td><td>HBE1,HBG1,HBG2,HBS1L,MYB</td></tr>\n",
       "\t<tr><td>chr11</td><td>4636783</td><td>4637731</td><td>chr11:4636783-4637731</td><td>HBE1</td><td>OL45</td><td>HBE1,HBG1,HBG2,HBS1L,MYB</td></tr>\n",
       "\t<tr><td>chr11</td><td>4658480</td><td>4659558</td><td>chr11:4658480-4659558</td><td>HBE1</td><td>OL45</td><td>HBE1,HBG1,HBG2,HBS1L,MYB</td></tr>\n",
       "\t<tr><td>chr11</td><td>4801687</td><td>4802066</td><td>chr11:4801687-4802066</td><td>HBE1</td><td>OL45</td><td>HBE1,HBG1,HBG2,HBS1L,MYB</td></tr>\n",
       "</tbody>\n",
       "</table>\n"
      ],
      "text/latex": [
       "A tibble: 6 × 7\n",
       "\\begin{tabular}{lllllll}\n",
       " Chrom & Start & End & Peak & TMPRA\\_Gene & TMPRA\\_Dataset & CRISPR\\_HCFF\\\\\n",
       " <chr> & <dbl> & <dbl> & <chr> & <chr> & <chr> & <chr>\\\\\n",
       "\\hline\n",
       "\t chr11 & 4539569 & 4540043 & chr11:4539569-4540043 & HBE1 & OL45 & HBE1,HBG1,HBG2,HBS1L,MYB\\\\\n",
       "\t chr11 & 4607676 & 4608647 & chr11:4607676-4608647 & HBE1 & OL45 & HBE1,HBG1,HBG2,HBS1L,MYB\\\\\n",
       "\t chr11 & 4626130 & 4626814 & chr11:4626130-4626814 & HBE1 & OL45 & HBE1,HBG1,HBG2,HBS1L,MYB\\\\\n",
       "\t chr11 & 4636783 & 4637731 & chr11:4636783-4637731 & HBE1 & OL45 & HBE1,HBG1,HBG2,HBS1L,MYB\\\\\n",
       "\t chr11 & 4658480 & 4659558 & chr11:4658480-4659558 & HBE1 & OL45 & HBE1,HBG1,HBG2,HBS1L,MYB\\\\\n",
       "\t chr11 & 4801687 & 4802066 & chr11:4801687-4802066 & HBE1 & OL45 & HBE1,HBG1,HBG2,HBS1L,MYB\\\\\n",
       "\\end{tabular}\n"
      ],
      "text/markdown": [
       "\n",
       "A tibble: 6 × 7\n",
       "\n",
       "| Chrom &lt;chr&gt; | Start &lt;dbl&gt; | End &lt;dbl&gt; | Peak &lt;chr&gt; | TMPRA_Gene &lt;chr&gt; | TMPRA_Dataset &lt;chr&gt; | CRISPR_HCFF &lt;chr&gt; |\n",
       "|---|---|---|---|---|---|---|\n",
       "| chr11 | 4539569 | 4540043 | chr11:4539569-4540043 | HBE1 | OL45 | HBE1,HBG1,HBG2,HBS1L,MYB |\n",
       "| chr11 | 4607676 | 4608647 | chr11:4607676-4608647 | HBE1 | OL45 | HBE1,HBG1,HBG2,HBS1L,MYB |\n",
       "| chr11 | 4626130 | 4626814 | chr11:4626130-4626814 | HBE1 | OL45 | HBE1,HBG1,HBG2,HBS1L,MYB |\n",
       "| chr11 | 4636783 | 4637731 | chr11:4636783-4637731 | HBE1 | OL45 | HBE1,HBG1,HBG2,HBS1L,MYB |\n",
       "| chr11 | 4658480 | 4659558 | chr11:4658480-4659558 | HBE1 | OL45 | HBE1,HBG1,HBG2,HBS1L,MYB |\n",
       "| chr11 | 4801687 | 4802066 | chr11:4801687-4802066 | HBE1 | OL45 | HBE1,HBG1,HBG2,HBS1L,MYB |\n",
       "\n"
      ],
      "text/plain": [
       "  Chrom Start   End     Peak                  TMPRA_Gene TMPRA_Dataset\n",
       "1 chr11 4539569 4540043 chr11:4539569-4540043 HBE1       OL45         \n",
       "2 chr11 4607676 4608647 chr11:4607676-4608647 HBE1       OL45         \n",
       "3 chr11 4626130 4626814 chr11:4626130-4626814 HBE1       OL45         \n",
       "4 chr11 4636783 4637731 chr11:4636783-4637731 HBE1       OL45         \n",
       "5 chr11 4658480 4659558 chr11:4658480-4659558 HBE1       OL45         \n",
       "6 chr11 4801687 4802066 chr11:4801687-4802066 HBE1       OL45         \n",
       "  CRISPR_HCFF             \n",
       "1 HBE1,HBG1,HBG2,HBS1L,MYB\n",
       "2 HBE1,HBG1,HBG2,HBS1L,MYB\n",
       "3 HBE1,HBG1,HBG2,HBS1L,MYB\n",
       "4 HBE1,HBG1,HBG2,HBS1L,MYB\n",
       "5 HBE1,HBG1,HBG2,HBS1L,MYB\n",
       "6 HBE1,HBG1,HBG2,HBS1L,MYB"
      ]
     },
     "metadata": {},
     "output_type": "display_data"
    }
   ],
   "source": [
    "dat = dat_peak_annot_merge\n",
    "dat = dat %>% na.omit\n",
    "\n",
    "print(dim(dat))\n",
    "head(dat)"
   ]
  },
  {
   "cell_type": "code",
   "execution_count": 12,
   "metadata": {},
   "outputs": [
    {
     "name": "stdout",
     "output_type": "stream",
     "text": [
      "[1] 20  4\n"
     ]
    },
    {
     "data": {
      "text/html": [
       "<table class=\"dataframe\">\n",
       "<caption>A tibble: 20 × 4</caption>\n",
       "<thead>\n",
       "\t<tr><th scope=col>TMPRA_Gene</th><th scope=col>TMPRA_Dataset</th><th scope=col>CRISPR_HCFF</th><th scope=col>Count</th></tr>\n",
       "\t<tr><th scope=col>&lt;chr&gt;</th><th scope=col>&lt;chr&gt;</th><th scope=col>&lt;chr&gt;</th><th scope=col>&lt;int&gt;</th></tr>\n",
       "</thead>\n",
       "<tbody>\n",
       "\t<tr><td>BCL11A</td><td>OL45</td><td>NA                      </td><td>   184</td></tr>\n",
       "\t<tr><td>FADS  </td><td>OL13</td><td>FADS1,FADS2,FADS3,FEN1  </td><td>    21</td></tr>\n",
       "\t<tr><td>FADS  </td><td>OL13</td><td>NA                      </td><td>     1</td></tr>\n",
       "\t<tr><td>GATA1 </td><td>OL43</td><td>GATA1,HDAC6             </td><td>   110</td></tr>\n",
       "\t<tr><td>GATA1 </td><td>OL43</td><td>NA                      </td><td>    96</td></tr>\n",
       "\t<tr><td>HBA2  </td><td>OL45</td><td>NA                      </td><td>   284</td></tr>\n",
       "\t<tr><td>HBE1  </td><td>OL45</td><td>HBE1,HBG1,HBG2,HBS1L,MYB</td><td>    89</td></tr>\n",
       "\t<tr><td>HBE1  </td><td>OL45</td><td>NA                      </td><td>   177</td></tr>\n",
       "\t<tr><td>LMO2  </td><td>OL45</td><td>CAPRIN1,CAT,LMO2        </td><td>   230</td></tr>\n",
       "\t<tr><td>LMO2  </td><td>OL45</td><td>NA                      </td><td>    71</td></tr>\n",
       "\t<tr><td>MYC   </td><td>OL43</td><td>MYC,PVT1                </td><td>   182</td></tr>\n",
       "\t<tr><td>MYC   </td><td>OL43</td><td>NA                      </td><td>     6</td></tr>\n",
       "\t<tr><td>RBM38 </td><td>OL45</td><td>NA                      </td><td>   271</td></tr>\n",
       "\t<tr><td>NA    </td><td>NA  </td><td>CD164                   </td><td>   114</td></tr>\n",
       "\t<tr><td>NA    </td><td>NA  </td><td>ERP29                   </td><td>   244</td></tr>\n",
       "\t<tr><td>NA    </td><td>NA  </td><td>GATA1,HDAC6             </td><td>     3</td></tr>\n",
       "\t<tr><td>NA    </td><td>NA  </td><td>HBE1,HBG1,HBG2,HBS1L,MYB</td><td>   145</td></tr>\n",
       "\t<tr><td>NA    </td><td>NA  </td><td>MEF2C                   </td><td>    92</td></tr>\n",
       "\t<tr><td>NA    </td><td>NA  </td><td>NMU                     </td><td>   100</td></tr>\n",
       "\t<tr><td>NA    </td><td>NA  </td><td>NA                      </td><td>245100</td></tr>\n",
       "</tbody>\n",
       "</table>\n"
      ],
      "text/latex": [
       "A tibble: 20 × 4\n",
       "\\begin{tabular}{llll}\n",
       " TMPRA\\_Gene & TMPRA\\_Dataset & CRISPR\\_HCFF & Count\\\\\n",
       " <chr> & <chr> & <chr> & <int>\\\\\n",
       "\\hline\n",
       "\t BCL11A & OL45 & NA                       &    184\\\\\n",
       "\t FADS   & OL13 & FADS1,FADS2,FADS3,FEN1   &     21\\\\\n",
       "\t FADS   & OL13 & NA                       &      1\\\\\n",
       "\t GATA1  & OL43 & GATA1,HDAC6              &    110\\\\\n",
       "\t GATA1  & OL43 & NA                       &     96\\\\\n",
       "\t HBA2   & OL45 & NA                       &    284\\\\\n",
       "\t HBE1   & OL45 & HBE1,HBG1,HBG2,HBS1L,MYB &     89\\\\\n",
       "\t HBE1   & OL45 & NA                       &    177\\\\\n",
       "\t LMO2   & OL45 & CAPRIN1,CAT,LMO2         &    230\\\\\n",
       "\t LMO2   & OL45 & NA                       &     71\\\\\n",
       "\t MYC    & OL43 & MYC,PVT1                 &    182\\\\\n",
       "\t MYC    & OL43 & NA                       &      6\\\\\n",
       "\t RBM38  & OL45 & NA                       &    271\\\\\n",
       "\t NA     & NA   & CD164                    &    114\\\\\n",
       "\t NA     & NA   & ERP29                    &    244\\\\\n",
       "\t NA     & NA   & GATA1,HDAC6              &      3\\\\\n",
       "\t NA     & NA   & HBE1,HBG1,HBG2,HBS1L,MYB &    145\\\\\n",
       "\t NA     & NA   & MEF2C                    &     92\\\\\n",
       "\t NA     & NA   & NMU                      &    100\\\\\n",
       "\t NA     & NA   & NA                       & 245100\\\\\n",
       "\\end{tabular}\n"
      ],
      "text/markdown": [
       "\n",
       "A tibble: 20 × 4\n",
       "\n",
       "| TMPRA_Gene &lt;chr&gt; | TMPRA_Dataset &lt;chr&gt; | CRISPR_HCFF &lt;chr&gt; | Count &lt;int&gt; |\n",
       "|---|---|---|---|\n",
       "| BCL11A | OL45 | NA                       |    184 |\n",
       "| FADS   | OL13 | FADS1,FADS2,FADS3,FEN1   |     21 |\n",
       "| FADS   | OL13 | NA                       |      1 |\n",
       "| GATA1  | OL43 | GATA1,HDAC6              |    110 |\n",
       "| GATA1  | OL43 | NA                       |     96 |\n",
       "| HBA2   | OL45 | NA                       |    284 |\n",
       "| HBE1   | OL45 | HBE1,HBG1,HBG2,HBS1L,MYB |     89 |\n",
       "| HBE1   | OL45 | NA                       |    177 |\n",
       "| LMO2   | OL45 | CAPRIN1,CAT,LMO2         |    230 |\n",
       "| LMO2   | OL45 | NA                       |     71 |\n",
       "| MYC    | OL43 | MYC,PVT1                 |    182 |\n",
       "| MYC    | OL43 | NA                       |      6 |\n",
       "| RBM38  | OL45 | NA                       |    271 |\n",
       "| NA     | NA   | CD164                    |    114 |\n",
       "| NA     | NA   | ERP29                    |    244 |\n",
       "| NA     | NA   | GATA1,HDAC6              |      3 |\n",
       "| NA     | NA   | HBE1,HBG1,HBG2,HBS1L,MYB |    145 |\n",
       "| NA     | NA   | MEF2C                    |     92 |\n",
       "| NA     | NA   | NMU                      |    100 |\n",
       "| NA     | NA   | NA                       | 245100 |\n",
       "\n"
      ],
      "text/plain": [
       "   TMPRA_Gene TMPRA_Dataset CRISPR_HCFF              Count \n",
       "1  BCL11A     OL45          NA                          184\n",
       "2  FADS       OL13          FADS1,FADS2,FADS3,FEN1       21\n",
       "3  FADS       OL13          NA                            1\n",
       "4  GATA1      OL43          GATA1,HDAC6                 110\n",
       "5  GATA1      OL43          NA                           96\n",
       "6  HBA2       OL45          NA                          284\n",
       "7  HBE1       OL45          HBE1,HBG1,HBG2,HBS1L,MYB     89\n",
       "8  HBE1       OL45          NA                          177\n",
       "9  LMO2       OL45          CAPRIN1,CAT,LMO2            230\n",
       "10 LMO2       OL45          NA                           71\n",
       "11 MYC        OL43          MYC,PVT1                    182\n",
       "12 MYC        OL43          NA                            6\n",
       "13 RBM38      OL45          NA                          271\n",
       "14 NA         NA            CD164                       114\n",
       "15 NA         NA            ERP29                       244\n",
       "16 NA         NA            GATA1,HDAC6                   3\n",
       "17 NA         NA            HBE1,HBG1,HBG2,HBS1L,MYB    145\n",
       "18 NA         NA            MEF2C                        92\n",
       "19 NA         NA            NMU                         100\n",
       "20 NA         NA            NA                       245100"
      ]
     },
     "metadata": {},
     "output_type": "display_data"
    },
    {
     "name": "stdout",
     "output_type": "stream",
     "text": [
      "\n",
      "======================================\n",
      "[1] 5 4\n"
     ]
    },
    {
     "data": {
      "text/html": [
       "<table class=\"dataframe\">\n",
       "<caption>A tibble: 5 × 4</caption>\n",
       "<thead>\n",
       "\t<tr><th scope=col>TMPRA_Gene</th><th scope=col>TMPRA_Dataset</th><th scope=col>CRISPR_HCFF</th><th scope=col>Count</th></tr>\n",
       "\t<tr><th scope=col>&lt;chr&gt;</th><th scope=col>&lt;chr&gt;</th><th scope=col>&lt;chr&gt;</th><th scope=col>&lt;int&gt;</th></tr>\n",
       "</thead>\n",
       "<tbody>\n",
       "\t<tr><td>FADS </td><td>OL13</td><td>FADS1,FADS2,FADS3,FEN1  </td><td> 21</td></tr>\n",
       "\t<tr><td>GATA1</td><td>OL43</td><td>GATA1,HDAC6             </td><td>110</td></tr>\n",
       "\t<tr><td>HBE1 </td><td>OL45</td><td>HBE1,HBG1,HBG2,HBS1L,MYB</td><td> 89</td></tr>\n",
       "\t<tr><td>LMO2 </td><td>OL45</td><td>CAPRIN1,CAT,LMO2        </td><td>230</td></tr>\n",
       "\t<tr><td>MYC  </td><td>OL43</td><td>MYC,PVT1                </td><td>182</td></tr>\n",
       "</tbody>\n",
       "</table>\n"
      ],
      "text/latex": [
       "A tibble: 5 × 4\n",
       "\\begin{tabular}{llll}\n",
       " TMPRA\\_Gene & TMPRA\\_Dataset & CRISPR\\_HCFF & Count\\\\\n",
       " <chr> & <chr> & <chr> & <int>\\\\\n",
       "\\hline\n",
       "\t FADS  & OL13 & FADS1,FADS2,FADS3,FEN1   &  21\\\\\n",
       "\t GATA1 & OL43 & GATA1,HDAC6              & 110\\\\\n",
       "\t HBE1  & OL45 & HBE1,HBG1,HBG2,HBS1L,MYB &  89\\\\\n",
       "\t LMO2  & OL45 & CAPRIN1,CAT,LMO2         & 230\\\\\n",
       "\t MYC   & OL43 & MYC,PVT1                 & 182\\\\\n",
       "\\end{tabular}\n"
      ],
      "text/markdown": [
       "\n",
       "A tibble: 5 × 4\n",
       "\n",
       "| TMPRA_Gene &lt;chr&gt; | TMPRA_Dataset &lt;chr&gt; | CRISPR_HCFF &lt;chr&gt; | Count &lt;int&gt; |\n",
       "|---|---|---|---|\n",
       "| FADS  | OL13 | FADS1,FADS2,FADS3,FEN1   |  21 |\n",
       "| GATA1 | OL43 | GATA1,HDAC6              | 110 |\n",
       "| HBE1  | OL45 | HBE1,HBG1,HBG2,HBS1L,MYB |  89 |\n",
       "| LMO2  | OL45 | CAPRIN1,CAT,LMO2         | 230 |\n",
       "| MYC   | OL43 | MYC,PVT1                 | 182 |\n",
       "\n"
      ],
      "text/plain": [
       "  TMPRA_Gene TMPRA_Dataset CRISPR_HCFF              Count\n",
       "1 FADS       OL13          FADS1,FADS2,FADS3,FEN1    21  \n",
       "2 GATA1      OL43          GATA1,HDAC6              110  \n",
       "3 HBE1       OL45          HBE1,HBG1,HBG2,HBS1L,MYB  89  \n",
       "4 LMO2       OL45          CAPRIN1,CAT,LMO2         230  \n",
       "5 MYC        OL43          MYC,PVT1                 182  "
      ]
     },
     "metadata": {},
     "output_type": "display_data"
    }
   ],
   "source": [
    "### init\n",
    "dat = dat_peak_annot_merge\n",
    "\n",
    "###\n",
    "dat = dat %>% \n",
    "    dplyr::group_by(TMPRA_Gene, TMPRA_Dataset, CRISPR_HCFF) %>% \n",
    "    dplyr::summarize(Count = n(), .groups = \"drop\")\n",
    "\n",
    "print(dim(dat))\n",
    "IRdisplay::display(dat)\n",
    "\n",
    "### \n",
    "cat(\"\\n======================================\\n\")\n",
    "dat = dat %>% na.omit\n",
    "\n",
    "\n",
    "print(dim(dat))\n",
    "IRdisplay::display(dat)"
   ]
  },
  {
   "cell_type": "markdown",
   "metadata": {},
   "source": [
    "## Save table"
   ]
  },
  {
   "cell_type": "code",
   "execution_count": 13,
   "metadata": {},
   "outputs": [
    {
     "name": "stdout",
     "output_type": "stream",
     "text": [
      "[1] \"/data/reddylab/Kuei/out/proj_combeffect_encode_fcc/results/region/KS91_K562_ASTARRseq_peak_macs_input/peak.annotation.screen.tsv\"\n"
     ]
    }
   ],
   "source": [
    "fdiry = file.path(FD_RES, \"results\", \"region\", \"KS91_K562_ASTARRseq_peak_macs_input\")\n",
    "fname = \"peak.annotation.screen.tsv\"\n",
    "fpath = file.path(fdiry, fname)\n",
    "print(fpath)\n",
    "\n",
    "dat = dat_peak_annot_merge\n",
    "write_tsv(dat, fpath)"
   ]
  },
  {
   "cell_type": "code",
   "execution_count": null,
   "metadata": {},
   "outputs": [],
   "source": []
  }
 ],
 "metadata": {
  "kernelspec": {
   "display_name": "R",
   "language": "R",
   "name": "ir"
  },
  "language_info": {
   "codemirror_mode": "r",
   "file_extension": ".r",
   "mimetype": "text/x-r-source",
   "name": "R",
   "pygments_lexer": "r",
   "version": "4.3.1"
  }
 },
 "nbformat": 4,
 "nbformat_minor": 4
}
