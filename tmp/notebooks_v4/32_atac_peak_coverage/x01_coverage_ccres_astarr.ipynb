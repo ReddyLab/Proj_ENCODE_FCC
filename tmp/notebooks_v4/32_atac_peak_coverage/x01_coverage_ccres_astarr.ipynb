{
 "cells": [
  {
   "cell_type": "markdown",
   "id": "59c93a48-edb2-45b3-bf4f-635931561c68",
   "metadata": {},
   "source": [
    "**Set environment**"
   ]
  },
  {
   "cell_type": "code",
   "execution_count": 1,
   "id": "9207f71a-c775-4179-8aa6-a4a3569f5f26",
   "metadata": {},
   "outputs": [
    {
     "name": "stdout",
     "output_type": "stream",
     "text": [
      "You are on Duke Server: HARDAC\n",
      "BASE DIRECTORY (FD_BASE): /data/reddylab/Kuei\n",
      "WORK DIRECTORY (FD_WORK): /data/reddylab/Kuei/out\n",
      "CODE DIRECTORY (FD_CODE): /data/reddylab/Kuei/code\n",
      "SING DIRECTORY (FD_SING): /data/reddylab/Kuei/singularity\n",
      "PATH OF PROJECT (FD_PRJ): /data/reddylab/Kuei/code/Proj_CombEffect_ENCODE_FCC\n",
      "PATH OF RESULTS (FD_RES): /data/reddylab/Kuei/out/proj_combeffect_encode_fcc\n",
      "PATH OF LOG     (FD_LOG): /data/reddylab/Kuei/out/proj_combeffect_encode_fcc/log\n",
      "\n"
     ]
    }
   ],
   "source": [
    "source ../config/config_duke.sh\n",
    "source ../config/config_load_module_bedtools.sh\n",
    "show_env"
   ]
  },
  {
   "cell_type": "markdown",
   "id": "a72e1d86-770b-4a0e-b692-2f4724de7510",
   "metadata": {},
   "source": [
    "**Check data**"
   ]
  },
  {
   "cell_type": "code",
   "execution_count": 2,
   "id": "6404d864-c949-454c-b69e-0c09dd4fed23",
   "metadata": {},
   "outputs": [
    {
     "name": "stdout",
     "output_type": "stream",
     "text": [
      "+++++++++++++++++++++++++++++++++++\n",
      "-rw-rw-r-- 1 kk319 reddylab 32M Jun 11  2023 \u001b[0m\u001b[38;5;9m/data/reddylab/Kuei/out/proj_combeffect_encode_fcc/results/region/annotation_ccres/ccres_v4.bed.gz\u001b[0m\u001b[K\n",
      "\n",
      "gzip: stdout: Broken pipe\n",
      "10\n",
      "\n",
      "+++++++++++++++++++++++++++++++++++\n",
      "chr1\t10033\t10250\tEH38E2776516\t0\t.\t10033\t10250\t225,225,225\tLow-DNase\tAll-data/Full-classification\n",
      "chr1\t10385\t10713\tEH38E2776517\t0\t.\t10385\t10713\t225,225,225\tLow-DNase\tAll-data/Full-classification\n",
      "chr1\t16097\t16381\tEH38E3951272\t0\t.\t16097\t16381\t225,225,225\tLow-DNase\tAll-data/Full-classification\n",
      "chr1\t17343\t17642\tEH38E3951273\t0\t.\t17343\t17642\t225,225,225\tLow-DNase\tAll-data/Full-classification\n",
      "chr1\t29320\t29517\tEH38E3951274\t0\t.\t29320\t29517\t225,225,225\tLow-DNase\tAll-data/Full-classification\n",
      "chr1\t66350\t66509\tEH38E3951275\t0\t.\t66350\t66509\t225,225,225\tLow-DNase\tAll-data/Full-classification\n",
      "chr1\t78990\t79238\tEH38E3951276\t0\t.\t78990\t79238\t225,225,225\tLow-DNase\tAll-data/Full-classification\n",
      "chr1\t79304\t79545\tEH38E2776519\t0\t.\t79304\t79545\t225,225,225\tLow-DNase\tAll-data/Full-classification\n",
      "chr1\t91087\t91426\tEH38E3951277\t0\t.\t91087\t91426\t225,225,225\tLow-DNase\tAll-data/Full-classification\n",
      "chr1\t98867\t99117\tEH38E3951278\t0\t.\t98867\t99117\t225,225,225\tLow-DNase\tAll-data/Full-classification\n",
      "\n"
     ]
    }
   ],
   "source": [
    "FD_REG=${FD_RES}/results/region/annotation_ccres\n",
    "FN_REG=ccres_v4.bed.gz\n",
    "\n",
    "echo +++++++++++++++++++++++++++++++++++\n",
    "ls -lh ${FD_REG}/${FN_REG}\n",
    "fun_head ${FD_REG}/${FN_REG} | wc -l\n",
    "echo\n",
    "\n",
    "echo +++++++++++++++++++++++++++++++++++\n",
    "fun_head ${FD_REG}/${FN_REG}\n",
    "echo\n",
    "\n",
    "#echo +++++++++++++++++++++++++++++++++++\n",
    "#tail ${FD_REG}/${FN_REG}\n",
    "#echo"
   ]
  },
  {
   "cell_type": "code",
   "execution_count": 3,
   "id": "6e4dcee2-eeba-4288-9ca9-2bd468554410",
   "metadata": {},
   "outputs": [
    {
     "name": "stdout",
     "output_type": "stream",
     "text": [
      "/data/reddylab/Kuei/out/proj_combeffect_encode_fcc/results/KS91_K562_ASTARRseq/fragment_count\n",
      "KS91_K562_ASTARRseq.Input.rep1.WGS.unstranded.bed.gz\n",
      "KS91_K562_ASTARRseq.Input.rep2.WGS.unstranded.bed.gz\n",
      "KS91_K562_ASTARRseq.Input.rep3.WGS.unstranded.bed.gz\n",
      "KS91_K562_ASTARRseq.Input.rep4.WGS.unstranded.bed.gz\n",
      "KS91_K562_ASTARRseq.Input.rep5.WGS.unstranded.bed.gz\n",
      "KS91_K562_ASTARRseq.Input.rep6.WGS.unstranded.bed.gz\n",
      "KS91_K562_ASTARRseq.Output.rep1.WGS.unstranded.bed.gz\n",
      "KS91_K562_ASTARRseq.Output.rep2.WGS.unstranded.bed.gz\n",
      "KS91_K562_ASTARRseq.Output.rep3.WGS.unstranded.bed.gz\n",
      "KS91_K562_ASTARRseq.Output.rep4.WGS.unstranded.bed.gz\n"
     ]
    }
   ],
   "source": [
    "ASSAY=KS91_K562_ASTARRseq\n",
    "FD_INP=${FD_RES}/results/${ASSAY}/fragment_count\n",
    "\n",
    "echo ${FD_INP}\n",
    "ls ${FD_INP}/*WGS*.bed.gz | xargs -n 1 basename"
   ]
  },
  {
   "cell_type": "code",
   "execution_count": 4,
   "id": "82587e37-46cd-4a4d-a2b6-c5c84c8acdc0",
   "metadata": {},
   "outputs": [
    {
     "name": "stdout",
     "output_type": "stream",
     "text": [
      "Total: 10\n"
     ]
    }
   ],
   "source": [
    "FP_INPS=($(ls ${FD_INP}/*WGS*.bed.gz))\n",
    "echo Total: ${#FP_INPS[@]}"
   ]
  },
  {
   "cell_type": "markdown",
   "id": "9616544b-b98f-4cff-b4c9-37f379233bba",
   "metadata": {},
   "source": [
    "**RUN**"
   ]
  },
  {
   "cell_type": "code",
   "execution_count": 10,
   "id": "b79c0132-274d-4e52-992d-fa227f932094",
   "metadata": {},
   "outputs": [
    {
     "name": "stdout",
     "output_type": "stream",
     "text": [
      "Submitted batch job 30632409\n"
     ]
    }
   ],
   "source": [
    "sbatch -p ${NODE} \\\n",
    "    --exclude=dl-01 \\\n",
    "    --cpus-per-task 8 \\\n",
    "    --mem 20G \\\n",
    "    --output ${FD_LOG}/coverage_ccres_astarr.%a.txt \\\n",
    "    --array 0-9 \\\n",
    "    <<'EOF'\n",
    "#!/bin/bash\n",
    "### set directories & global variables\n",
    "source ../config/config_duke.sh\n",
    "ASSAY=KS91_K562_ASTARRseq\n",
    "\n",
    "### print start message\n",
    "timer_start=`date +%s`\n",
    "echo \"Hostname:          \" $(hostname)\n",
    "echo \"Slurm Array Index: \" ${SLURM_ARRAY_TASK_ID}\n",
    "echo \"Time Stamp:        \" $(date +\"%m-%d-%y+%T\")\n",
    "echo\n",
    "\n",
    "### set input and output directory\n",
    "FD_INP=${FD_RES}/results/${ASSAY}/fragment_count\n",
    "FD_OUT=${FD_RES}/results/${ASSAY}/coverage_ccres_v4\n",
    "\n",
    "FP_INPS=($(ls ${FD_INP}/*WGS*.bed.gz))\n",
    "FP_INP=${FP_INPS[${SLURM_ARRAY_TASK_ID}]}\n",
    "FN_INP=$(basename ${FP_INP})\n",
    "\n",
    "FN_OUT=${FN_INP}\n",
    "FP_OUT=${FD_OUT}/${FN_OUT}\n",
    "\n",
    "FD_REG=${FD_RES}/results/region/annotation_ccres\n",
    "FN_REG=ccres_v4.bed.gz\n",
    "FP_REG=${FD_REG}/${FN_REG}\n",
    "\n",
    "### Show I/O file\n",
    "echo \"Input  file: \" ${FP_INP}\n",
    "echo\n",
    "echo \"Show the first few lines of the input file\"\n",
    "fun_head ${FP_INP} | head -n 5 \n",
    "echo\n",
    "\n",
    "echo \"Input  file: \" ${FP_REG}\n",
    "echo\n",
    "echo \"Show the first few lines of the input file\"\n",
    "fun_head ${FP_REG} | head -n 3 \n",
    "echo\n",
    "\n",
    "### execute\n",
    "bedtools map \\\n",
    "    -a ${FP_REG} \\\n",
    "    -b ${FP_INP} \\\n",
    "    -o sum \\\n",
    "    -f 0.5 \\\n",
    "    -F 0.5 \\\n",
    "    -e \\\n",
    "| gzip -c \\\n",
    "> ${FP_OUT}\n",
    "\n",
    "### Show I/O file\n",
    "echo\n",
    "echo \"Output file: \" ${FP_OUT}\n",
    "echo\n",
    "echo \"Show the first few lines of the output file\"\n",
    "fun_head ${FP_OUT}\n",
    "echo\n",
    "\n",
    "### print end message\n",
    "timer_stop=`date +%s`\n",
    "runtime=$(echo \"${timer_stop} - ${timer_start}\" | bc -l)\n",
    "echo\n",
    "echo 'Done!'\n",
    "echo \"Run Time: $(displaytime ${runtime})\"\n",
    "\n",
    "EOF"
   ]
  },
  {
   "cell_type": "markdown",
   "id": "17c0ad98-607c-4686-90a4-b73dd102a88f",
   "metadata": {},
   "source": [
    "**Check results**"
   ]
  },
  {
   "cell_type": "code",
   "execution_count": 12,
   "id": "2a3a0d76-b39a-4a89-89b4-de6d75e4fbdb",
   "metadata": {},
   "outputs": [
    {
     "name": "stdout",
     "output_type": "stream",
     "text": [
      "Hostname:           x1-02-2.genome.duke.edu\n",
      "Slurm Array Index:  0\n",
      "Time Stamp:         01-18-24+14:57:38\n",
      "\n",
      "Input  file:  /data/reddylab/Kuei/out/proj_combeffect_encode_fcc/results/KS91_K562_ASTARRseq/fragment_count/KS91_K562_ASTARRseq.Input.rep1.WGS.unstranded.bed.gz\n",
      "\n",
      "Show the first few lines of the input file\n",
      "chr1\t10001\t10143\tchr1_10001_10143\t1\t.\n",
      "chr1\t10002\t10118\tchr1_10002_10118\t1\t.\n",
      "chr1\t10002\t10131\tchr1_10002_10131\t1\t.\n",
      "chr1\t10002\t10203\tchr1_10002_10203\t1\t.\n",
      "chr1\t10002\t10209\tchr1_10002_10209\t1\t.\n",
      "\n",
      "Input  file:  /data/reddylab/Kuei/out/proj_combeffect_encode_fcc/results/region/annotation_ccres/ccres_v4.bed.gz\n",
      "\n",
      "Show the first few lines of the input file\n",
      "chr1\t10033\t10250\tEH38E2776516\t0\t.\t10033\t10250\t225,225,225\tLow-DNase\tAll-data/Full-classification\n",
      "chr1\t10385\t10713\tEH38E2776517\t0\t.\t10385\t10713\t225,225,225\tLow-DNase\tAll-data/Full-classification\n",
      "chr1\t16097\t16381\tEH38E3951272\t0\t.\t16097\t16381\t225,225,225\tLow-DNase\tAll-data/Full-classification\n",
      "\n",
      "\n",
      "Output file:  /data/reddylab/Kuei/out/proj_combeffect_encode_fcc/results/KS91_K562_ASTARRseq/coverage_ccres_v4/KS91_K562_ASTARRseq.Input.rep1.WGS.unstranded.bed.gz\n",
      "\n",
      "Show the first few lines of the output file\n",
      "chr1\t10033\t10250\tEH38E2776516\t0\t.\t10033\t10250\t225,225,225\tLow-DNase\tAll-data/Full-classification\t118\n",
      "chr1\t10385\t10713\tEH38E2776517\t0\t.\t10385\t10713\t225,225,225\tLow-DNase\tAll-data/Full-classification\t34\n",
      "chr1\t16097\t16381\tEH38E3951272\t0\t.\t16097\t16381\t225,225,225\tLow-DNase\tAll-data/Full-classification\t119\n",
      "chr1\t17343\t17642\tEH38E3951273\t0\t.\t17343\t17642\t225,225,225\tLow-DNase\tAll-data/Full-classification\t259\n",
      "chr1\t29320\t29517\tEH38E3951274\t0\t.\t29320\t29517\t225,225,225\tLow-DNase\tAll-data/Full-classification\t159\n",
      "chr1\t66350\t66509\tEH38E3951275\t0\t.\t66350\t66509\t225,225,225\tLow-DNase\tAll-data/Full-classification\t.\n",
      "chr1\t78990\t79238\tEH38E3951276\t0\t.\t78990\t79238\t225,225,225\tLow-DNase\tAll-data/Full-classification\t14\n",
      "chr1\t79304\t79545\tEH38E2776519\t0\t.\t79304\t79545\t225,225,225\tLow-DNase\tAll-data/Full-classification\t18\n",
      "chr1\t91087\t91426\tEH38E3951277\t0\t.\t91087\t91426\t225,225,225\tLow-DNase\tAll-data/Full-classification\t40\n",
      "chr1\t98867\t99117\tEH38E3951278\t0\t.\t98867\t99117\t225,225,225\tLow-DNase\tAll-data/Full-classification\t3\n",
      "\n",
      "\n",
      "Done!\n",
      "Run Time: 5 minutes and 33 seconds\n"
     ]
    }
   ],
   "source": [
    "cat ${FD_LOG}/coverage_ccres_astarr.0.txt"
   ]
  },
  {
   "cell_type": "code",
   "execution_count": null,
   "id": "ab102cee-2d41-4d36-9e2d-7f081388392b",
   "metadata": {},
   "outputs": [],
   "source": []
  }
 ],
 "metadata": {
  "kernelspec": {
   "display_name": "Bash",
   "language": "bash",
   "name": "bash"
  },
  "language_info": {
   "codemirror_mode": "shell",
   "file_extension": ".sh",
   "mimetype": "text/x-sh",
   "name": "bash"
  }
 },
 "nbformat": 4,
 "nbformat_minor": 5
}
