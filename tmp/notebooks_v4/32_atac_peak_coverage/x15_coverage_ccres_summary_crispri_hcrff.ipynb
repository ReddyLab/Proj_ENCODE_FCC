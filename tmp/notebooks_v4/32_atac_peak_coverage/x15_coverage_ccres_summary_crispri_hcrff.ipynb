{
 "cells": [
  {
   "cell_type": "markdown",
   "id": "73949ceb-5582-4060-ae55-bbd37e327706",
   "metadata": {},
   "source": [
    "**Set environment**"
   ]
  },
  {
   "cell_type": "code",
   "execution_count": 1,
   "id": "0af2f809-c859-4338-bad2-c6e0aa68b89c",
   "metadata": {},
   "outputs": [
    {
     "name": "stdout",
     "output_type": "stream",
     "text": [
      "You are in Singularity: singularity_proj_encode_fcc \n",
      "BASE DIRECTORY (FD_BASE): /data/reddylab/Kuei \n",
      "WORK DIRECTORY (FD_WORK): /data/reddylab/Kuei/out \n",
      "CODE DIRECTORY (FD_CODE): /data/reddylab/Kuei/code \n",
      "PATH OF PROJECT (FD_PRJ): /data/reddylab/Kuei/code/Proj_CombEffect_ENCODE_FCC \n",
      "PATH OF RESULTS (FD_RES): /data/reddylab/Kuei/out/proj_combeffect_encode_fcc \n",
      "PATH OF LOG     (FD_LOG): /data/reddylab/Kuei/out/proj_combeffect_encode_fcc/log \n"
     ]
    }
   ],
   "source": [
    "suppressMessages(suppressWarnings(source(\"../config/config_sing.R\")))\n",
    "show_env()"
   ]
  },
  {
   "cell_type": "markdown",
   "id": "3d0c65af-fadf-40ea-8a72-a74fd13f73db",
   "metadata": {},
   "source": [
    "## Import data"
   ]
  },
  {
   "cell_type": "code",
   "execution_count": 2,
   "id": "83c9a757-85b1-40e0-b236-7451e423334b",
   "metadata": {},
   "outputs": [
    {
     "data": {
      "text/html": [
       "<table class=\"dataframe\">\n",
       "<caption>A spec_tbl_df: 11 × 2</caption>\n",
       "<thead>\n",
       "\t<tr><th scope=col>Name</th><th scope=col>Description</th></tr>\n",
       "\t<tr><th scope=col>&lt;chr&gt;</th><th scope=col>&lt;chr&gt;</th></tr>\n",
       "</thead>\n",
       "<tbody>\n",
       "\t<tr><td>Chrom     </td><td>Chromosome                                                 </td></tr>\n",
       "\t<tr><td>Start     </td><td>Start position                                             </td></tr>\n",
       "\t<tr><td>End       </td><td>End position                                               </td></tr>\n",
       "\t<tr><td>Name      </td><td>Name                                                       </td></tr>\n",
       "\t<tr><td>Score     </td><td>Score                                                      </td></tr>\n",
       "\t<tr><td>Strand    </td><td>[+-.]; Use '.' if no strand is assigned.                   </td></tr>\n",
       "\t<tr><td>ThickStart</td><td>The starting position at which the feature is drawn thickly</td></tr>\n",
       "\t<tr><td>ThickEnd  </td><td>The ending position at which the feature is drawn thickly  </td></tr>\n",
       "\t<tr><td>ItemRgb   </td><td>An RGB value of the form R,G,B (e.g. 255,0,0)              </td></tr>\n",
       "\t<tr><td>Category  </td><td>Label of cCREs type                                        </td></tr>\n",
       "\t<tr><td>Note      </td><td>Description                                                </td></tr>\n",
       "</tbody>\n",
       "</table>\n"
      ],
      "text/latex": [
       "A spec\\_tbl\\_df: 11 × 2\n",
       "\\begin{tabular}{ll}\n",
       " Name & Description\\\\\n",
       " <chr> & <chr>\\\\\n",
       "\\hline\n",
       "\t Chrom      & Chromosome                                                 \\\\\n",
       "\t Start      & Start position                                             \\\\\n",
       "\t End        & End position                                               \\\\\n",
       "\t Name       & Name                                                       \\\\\n",
       "\t Score      & Score                                                      \\\\\n",
       "\t Strand     & {[}+-.{]}; Use '.' if no strand is assigned.                   \\\\\n",
       "\t ThickStart & The starting position at which the feature is drawn thickly\\\\\n",
       "\t ThickEnd   & The ending position at which the feature is drawn thickly  \\\\\n",
       "\t ItemRgb    & An RGB value of the form R,G,B (e.g. 255,0,0)              \\\\\n",
       "\t Category   & Label of cCREs type                                        \\\\\n",
       "\t Note       & Description                                                \\\\\n",
       "\\end{tabular}\n"
      ],
      "text/markdown": [
       "\n",
       "A spec_tbl_df: 11 × 2\n",
       "\n",
       "| Name &lt;chr&gt; | Description &lt;chr&gt; |\n",
       "|---|---|\n",
       "| Chrom      | Chromosome                                                  |\n",
       "| Start      | Start position                                              |\n",
       "| End        | End position                                                |\n",
       "| Name       | Name                                                        |\n",
       "| Score      | Score                                                       |\n",
       "| Strand     | [+-.]; Use '.' if no strand is assigned.                    |\n",
       "| ThickStart | The starting position at which the feature is drawn thickly |\n",
       "| ThickEnd   | The ending position at which the feature is drawn thickly   |\n",
       "| ItemRgb    | An RGB value of the form R,G,B (e.g. 255,0,0)               |\n",
       "| Category   | Label of cCREs type                                         |\n",
       "| Note       | Description                                                 |\n",
       "\n"
      ],
      "text/plain": [
       "   Name       Description                                                \n",
       "1  Chrom      Chromosome                                                 \n",
       "2  Start      Start position                                             \n",
       "3  End        End position                                               \n",
       "4  Name       Name                                                       \n",
       "5  Score      Score                                                      \n",
       "6  Strand     [+-.]; Use '.' if no strand is assigned.                   \n",
       "7  ThickStart The starting position at which the feature is drawn thickly\n",
       "8  ThickEnd   The ending position at which the feature is drawn thickly  \n",
       "9  ItemRgb    An RGB value of the form R,G,B (e.g. 255,0,0)              \n",
       "10 Category   Label of cCREs type                                        \n",
       "11 Note       Description                                                "
      ]
     },
     "metadata": {},
     "output_type": "display_data"
    }
   ],
   "source": [
    "fdiry = file.path(FD_RES, \"results\", \"region\", \"annotation_ccres\")\n",
    "fname = \"description.tsv\"\n",
    "fpath = file.path(fdiry, fname)\n",
    "\n",
    "dat = read_tsv(fpath, show_col_types = FALSE)\n",
    "vec = dat$Name\n",
    "\n",
    "vec_txt_cnames1 = vec\n",
    "IRdisplay::display(dat)"
   ]
  },
  {
   "cell_type": "code",
   "execution_count": 3,
   "id": "a7ab38d0-4fd4-4d2a-b0a1-0fd1ed1cf5c4",
   "metadata": {},
   "outputs": [],
   "source": [
    "vec_txt_cnames2 = c(\n",
    "    \"Chrom_Guide\", \"Start_Guide\", \"End_Guide\", \"Guide_ID\", \"Score\", \"Gene\"\n",
    ")"
   ]
  },
  {
   "cell_type": "code",
   "execution_count": 4,
   "id": "cfb8af01-8182-479b-8471-5f9f35eeba77",
   "metadata": {},
   "outputs": [
    {
     "name": "stdout",
     "output_type": "stream",
     "text": [
      "[1] 287631     18\n"
     ]
    },
    {
     "data": {
      "text/html": [
       "<table class=\"dataframe\">\n",
       "<caption>A tibble: 6 × 18</caption>\n",
       "<thead>\n",
       "\t<tr><th scope=col>Chrom_A</th><th scope=col>Start_A</th><th scope=col>End_A</th><th scope=col>Name_A</th><th scope=col>Score_A</th><th scope=col>Strand_A</th><th scope=col>ThickStart_A</th><th scope=col>ThickEnd_A</th><th scope=col>ItemRgb_A</th><th scope=col>Category_A</th><th scope=col>Note_A</th><th scope=col>Chrom_Guide</th><th scope=col>Start_Guide</th><th scope=col>End_Guide</th><th scope=col>Guide_ID</th><th scope=col>Score</th><th scope=col>Gene</th><th scope=col>Overlap</th></tr>\n",
       "\t<tr><th scope=col>&lt;chr&gt;</th><th scope=col>&lt;dbl&gt;</th><th scope=col>&lt;dbl&gt;</th><th scope=col>&lt;chr&gt;</th><th scope=col>&lt;dbl&gt;</th><th scope=col>&lt;chr&gt;</th><th scope=col>&lt;dbl&gt;</th><th scope=col>&lt;dbl&gt;</th><th scope=col>&lt;chr&gt;</th><th scope=col>&lt;chr&gt;</th><th scope=col>&lt;chr&gt;</th><th scope=col>&lt;chr&gt;</th><th scope=col>&lt;dbl&gt;</th><th scope=col>&lt;dbl&gt;</th><th scope=col>&lt;chr&gt;</th><th scope=col>&lt;dbl&gt;</th><th scope=col>&lt;chr&gt;</th><th scope=col>&lt;dbl&gt;</th></tr>\n",
       "</thead>\n",
       "<tbody>\n",
       "\t<tr><td>chr11</td><td>4092009</td><td>4092343</td><td>EH38E2941664</td><td>0</td><td>.</td><td>4092009</td><td>4092343</td><td>255,205,0</td><td>dELS</td><td>All-data/Full-classification</td><td>chr11</td><td>4092012</td><td>4092013</td><td>id-129</td><td> 0.872537</td><td>HBE1</td><td>1</td></tr>\n",
       "\t<tr><td>chr11</td><td>4092009</td><td>4092343</td><td>EH38E2941664</td><td>0</td><td>.</td><td>4092009</td><td>4092343</td><td>255,205,0</td><td>dELS</td><td>All-data/Full-classification</td><td>chr11</td><td>4092013</td><td>4092014</td><td>id-130</td><td> 1.318650</td><td>HBE1</td><td>1</td></tr>\n",
       "\t<tr><td>chr11</td><td>4092009</td><td>4092343</td><td>EH38E2941664</td><td>0</td><td>.</td><td>4092009</td><td>4092343</td><td>255,205,0</td><td>dELS</td><td>All-data/Full-classification</td><td>chr11</td><td>4092017</td><td>4092018</td><td>id-131</td><td>-0.105160</td><td>HBE1</td><td>1</td></tr>\n",
       "\t<tr><td>chr11</td><td>4092009</td><td>4092343</td><td>EH38E2941664</td><td>0</td><td>.</td><td>4092009</td><td>4092343</td><td>255,205,0</td><td>dELS</td><td>All-data/Full-classification</td><td>chr11</td><td>4092018</td><td>4092019</td><td>id-132</td><td> 0.216536</td><td>HBE1</td><td>1</td></tr>\n",
       "\t<tr><td>chr11</td><td>4092009</td><td>4092343</td><td>EH38E2941664</td><td>0</td><td>.</td><td>4092009</td><td>4092343</td><td>255,205,0</td><td>dELS</td><td>All-data/Full-classification</td><td>chr11</td><td>4092019</td><td>4092020</td><td>id-133</td><td>-0.269330</td><td>HBE1</td><td>1</td></tr>\n",
       "\t<tr><td>chr11</td><td>4092009</td><td>4092343</td><td>EH38E2941664</td><td>0</td><td>.</td><td>4092009</td><td>4092343</td><td>255,205,0</td><td>dELS</td><td>All-data/Full-classification</td><td>chr11</td><td>4092038</td><td>4092039</td><td>id-134</td><td>-1.367700</td><td>HBE1</td><td>1</td></tr>\n",
       "</tbody>\n",
       "</table>\n"
      ],
      "text/latex": [
       "A tibble: 6 × 18\n",
       "\\begin{tabular}{llllllllllllllllll}\n",
       " Chrom\\_A & Start\\_A & End\\_A & Name\\_A & Score\\_A & Strand\\_A & ThickStart\\_A & ThickEnd\\_A & ItemRgb\\_A & Category\\_A & Note\\_A & Chrom\\_Guide & Start\\_Guide & End\\_Guide & Guide\\_ID & Score & Gene & Overlap\\\\\n",
       " <chr> & <dbl> & <dbl> & <chr> & <dbl> & <chr> & <dbl> & <dbl> & <chr> & <chr> & <chr> & <chr> & <dbl> & <dbl> & <chr> & <dbl> & <chr> & <dbl>\\\\\n",
       "\\hline\n",
       "\t chr11 & 4092009 & 4092343 & EH38E2941664 & 0 & . & 4092009 & 4092343 & 255,205,0 & dELS & All-data/Full-classification & chr11 & 4092012 & 4092013 & id-129 &  0.872537 & HBE1 & 1\\\\\n",
       "\t chr11 & 4092009 & 4092343 & EH38E2941664 & 0 & . & 4092009 & 4092343 & 255,205,0 & dELS & All-data/Full-classification & chr11 & 4092013 & 4092014 & id-130 &  1.318650 & HBE1 & 1\\\\\n",
       "\t chr11 & 4092009 & 4092343 & EH38E2941664 & 0 & . & 4092009 & 4092343 & 255,205,0 & dELS & All-data/Full-classification & chr11 & 4092017 & 4092018 & id-131 & -0.105160 & HBE1 & 1\\\\\n",
       "\t chr11 & 4092009 & 4092343 & EH38E2941664 & 0 & . & 4092009 & 4092343 & 255,205,0 & dELS & All-data/Full-classification & chr11 & 4092018 & 4092019 & id-132 &  0.216536 & HBE1 & 1\\\\\n",
       "\t chr11 & 4092009 & 4092343 & EH38E2941664 & 0 & . & 4092009 & 4092343 & 255,205,0 & dELS & All-data/Full-classification & chr11 & 4092019 & 4092020 & id-133 & -0.269330 & HBE1 & 1\\\\\n",
       "\t chr11 & 4092009 & 4092343 & EH38E2941664 & 0 & . & 4092009 & 4092343 & 255,205,0 & dELS & All-data/Full-classification & chr11 & 4092038 & 4092039 & id-134 & -1.367700 & HBE1 & 1\\\\\n",
       "\\end{tabular}\n"
      ],
      "text/markdown": [
       "\n",
       "A tibble: 6 × 18\n",
       "\n",
       "| Chrom_A &lt;chr&gt; | Start_A &lt;dbl&gt; | End_A &lt;dbl&gt; | Name_A &lt;chr&gt; | Score_A &lt;dbl&gt; | Strand_A &lt;chr&gt; | ThickStart_A &lt;dbl&gt; | ThickEnd_A &lt;dbl&gt; | ItemRgb_A &lt;chr&gt; | Category_A &lt;chr&gt; | Note_A &lt;chr&gt; | Chrom_Guide &lt;chr&gt; | Start_Guide &lt;dbl&gt; | End_Guide &lt;dbl&gt; | Guide_ID &lt;chr&gt; | Score &lt;dbl&gt; | Gene &lt;chr&gt; | Overlap &lt;dbl&gt; |\n",
       "|---|---|---|---|---|---|---|---|---|---|---|---|---|---|---|---|---|---|\n",
       "| chr11 | 4092009 | 4092343 | EH38E2941664 | 0 | . | 4092009 | 4092343 | 255,205,0 | dELS | All-data/Full-classification | chr11 | 4092012 | 4092013 | id-129 |  0.872537 | HBE1 | 1 |\n",
       "| chr11 | 4092009 | 4092343 | EH38E2941664 | 0 | . | 4092009 | 4092343 | 255,205,0 | dELS | All-data/Full-classification | chr11 | 4092013 | 4092014 | id-130 |  1.318650 | HBE1 | 1 |\n",
       "| chr11 | 4092009 | 4092343 | EH38E2941664 | 0 | . | 4092009 | 4092343 | 255,205,0 | dELS | All-data/Full-classification | chr11 | 4092017 | 4092018 | id-131 | -0.105160 | HBE1 | 1 |\n",
       "| chr11 | 4092009 | 4092343 | EH38E2941664 | 0 | . | 4092009 | 4092343 | 255,205,0 | dELS | All-data/Full-classification | chr11 | 4092018 | 4092019 | id-132 |  0.216536 | HBE1 | 1 |\n",
       "| chr11 | 4092009 | 4092343 | EH38E2941664 | 0 | . | 4092009 | 4092343 | 255,205,0 | dELS | All-data/Full-classification | chr11 | 4092019 | 4092020 | id-133 | -0.269330 | HBE1 | 1 |\n",
       "| chr11 | 4092009 | 4092343 | EH38E2941664 | 0 | . | 4092009 | 4092343 | 255,205,0 | dELS | All-data/Full-classification | chr11 | 4092038 | 4092039 | id-134 | -1.367700 | HBE1 | 1 |\n",
       "\n"
      ],
      "text/plain": [
       "  Chrom_A Start_A End_A   Name_A       Score_A Strand_A ThickStart_A ThickEnd_A\n",
       "1 chr11   4092009 4092343 EH38E2941664 0       .        4092009      4092343   \n",
       "2 chr11   4092009 4092343 EH38E2941664 0       .        4092009      4092343   \n",
       "3 chr11   4092009 4092343 EH38E2941664 0       .        4092009      4092343   \n",
       "4 chr11   4092009 4092343 EH38E2941664 0       .        4092009      4092343   \n",
       "5 chr11   4092009 4092343 EH38E2941664 0       .        4092009      4092343   \n",
       "6 chr11   4092009 4092343 EH38E2941664 0       .        4092009      4092343   \n",
       "  ItemRgb_A Category_A Note_A                       Chrom_Guide Start_Guide\n",
       "1 255,205,0 dELS       All-data/Full-classification chr11       4092012    \n",
       "2 255,205,0 dELS       All-data/Full-classification chr11       4092013    \n",
       "3 255,205,0 dELS       All-data/Full-classification chr11       4092017    \n",
       "4 255,205,0 dELS       All-data/Full-classification chr11       4092018    \n",
       "5 255,205,0 dELS       All-data/Full-classification chr11       4092019    \n",
       "6 255,205,0 dELS       All-data/Full-classification chr11       4092038    \n",
       "  End_Guide Guide_ID Score     Gene Overlap\n",
       "1 4092013   id-129    0.872537 HBE1 1      \n",
       "2 4092014   id-130    1.318650 HBE1 1      \n",
       "3 4092018   id-131   -0.105160 HBE1 1      \n",
       "4 4092019   id-132    0.216536 HBE1 1      \n",
       "5 4092020   id-133   -0.269330 HBE1 1      \n",
       "6 4092039   id-134   -1.367700 HBE1 1      "
      ]
     },
     "metadata": {},
     "output_type": "display_data"
    }
   ],
   "source": [
    "ASSAY   = \"CRISPRi_FlowFISH\"\n",
    "FOLDER  = \"coverage_ccres_v4\"\n",
    "\n",
    "fdiry = file.path(FD_RES, \"results\", ASSAY, FOLDER)\n",
    "fname = \"Merge_HCRFF_rAVG.log2FC_2.filtered.bed.gz\"\n",
    "fpath = file.path(fdiry, fname)\n",
    "\n",
    "vec1 = vec_txt_cnames1\n",
    "vec1 = paste0(vec1, \"_A\")\n",
    "\n",
    "vec2 = vec_txt_cnames2\n",
    "#vec2 = paste0(vec2, \"_B\")\n",
    "vec_txt_cnames = c(vec1, vec2, \"Overlap\")\n",
    "\n",
    "dat = read_tsv(fpath, col_names = vec_txt_cnames, show_col_types = FALSE)\n",
    "\n",
    "dat_peak_score_import = dat\n",
    "print(dim(dat))\n",
    "head(dat)"
   ]
  },
  {
   "cell_type": "markdown",
   "id": "76c82074-e03e-4c84-b980-d1ed2ef79094",
   "metadata": {},
   "source": [
    "## Arrange"
   ]
  },
  {
   "cell_type": "code",
   "execution_count": 10,
   "id": "fc08dbd3-ea87-4123-a27b-c7c6ac207f37",
   "metadata": {},
   "outputs": [
    {
     "name": "stdout",
     "output_type": "stream",
     "text": [
      "[1] 287631      8\n"
     ]
    },
    {
     "data": {
      "text/html": [
       "<table class=\"dataframe\">\n",
       "<caption>A tibble: 6 × 8</caption>\n",
       "<thead>\n",
       "\t<tr><th scope=col>Chrom</th><th scope=col>Start</th><th scope=col>End</th><th scope=col>Region</th><th scope=col>Gene</th><th scope=col>Index</th><th scope=col>Label</th><th scope=col>Score</th></tr>\n",
       "\t<tr><th scope=col>&lt;chr&gt;</th><th scope=col>&lt;dbl&gt;</th><th scope=col>&lt;dbl&gt;</th><th scope=col>&lt;chr&gt;</th><th scope=col>&lt;chr&gt;</th><th scope=col>&lt;chr&gt;</th><th scope=col>&lt;chr&gt;</th><th scope=col>&lt;dbl&gt;</th></tr>\n",
       "</thead>\n",
       "<tbody>\n",
       "\t<tr><td>chr11</td><td>4092009</td><td>4092343</td><td>chr11:4092009-4092343</td><td>HBE1</td><td>EH38E2941664</td><td>dELS</td><td> 0.872537</td></tr>\n",
       "\t<tr><td>chr11</td><td>4092009</td><td>4092343</td><td>chr11:4092009-4092343</td><td>HBE1</td><td>EH38E2941664</td><td>dELS</td><td> 1.318650</td></tr>\n",
       "\t<tr><td>chr11</td><td>4092009</td><td>4092343</td><td>chr11:4092009-4092343</td><td>HBE1</td><td>EH38E2941664</td><td>dELS</td><td>-0.105160</td></tr>\n",
       "\t<tr><td>chr11</td><td>4092009</td><td>4092343</td><td>chr11:4092009-4092343</td><td>HBE1</td><td>EH38E2941664</td><td>dELS</td><td> 0.216536</td></tr>\n",
       "\t<tr><td>chr11</td><td>4092009</td><td>4092343</td><td>chr11:4092009-4092343</td><td>HBE1</td><td>EH38E2941664</td><td>dELS</td><td>-0.269330</td></tr>\n",
       "\t<tr><td>chr11</td><td>4092009</td><td>4092343</td><td>chr11:4092009-4092343</td><td>HBE1</td><td>EH38E2941664</td><td>dELS</td><td>-1.367700</td></tr>\n",
       "</tbody>\n",
       "</table>\n"
      ],
      "text/latex": [
       "A tibble: 6 × 8\n",
       "\\begin{tabular}{llllllll}\n",
       " Chrom & Start & End & Region & Gene & Index & Label & Score\\\\\n",
       " <chr> & <dbl> & <dbl> & <chr> & <chr> & <chr> & <chr> & <dbl>\\\\\n",
       "\\hline\n",
       "\t chr11 & 4092009 & 4092343 & chr11:4092009-4092343 & HBE1 & EH38E2941664 & dELS &  0.872537\\\\\n",
       "\t chr11 & 4092009 & 4092343 & chr11:4092009-4092343 & HBE1 & EH38E2941664 & dELS &  1.318650\\\\\n",
       "\t chr11 & 4092009 & 4092343 & chr11:4092009-4092343 & HBE1 & EH38E2941664 & dELS & -0.105160\\\\\n",
       "\t chr11 & 4092009 & 4092343 & chr11:4092009-4092343 & HBE1 & EH38E2941664 & dELS &  0.216536\\\\\n",
       "\t chr11 & 4092009 & 4092343 & chr11:4092009-4092343 & HBE1 & EH38E2941664 & dELS & -0.269330\\\\\n",
       "\t chr11 & 4092009 & 4092343 & chr11:4092009-4092343 & HBE1 & EH38E2941664 & dELS & -1.367700\\\\\n",
       "\\end{tabular}\n"
      ],
      "text/markdown": [
       "\n",
       "A tibble: 6 × 8\n",
       "\n",
       "| Chrom &lt;chr&gt; | Start &lt;dbl&gt; | End &lt;dbl&gt; | Region &lt;chr&gt; | Gene &lt;chr&gt; | Index &lt;chr&gt; | Label &lt;chr&gt; | Score &lt;dbl&gt; |\n",
       "|---|---|---|---|---|---|---|---|\n",
       "| chr11 | 4092009 | 4092343 | chr11:4092009-4092343 | HBE1 | EH38E2941664 | dELS |  0.872537 |\n",
       "| chr11 | 4092009 | 4092343 | chr11:4092009-4092343 | HBE1 | EH38E2941664 | dELS |  1.318650 |\n",
       "| chr11 | 4092009 | 4092343 | chr11:4092009-4092343 | HBE1 | EH38E2941664 | dELS | -0.105160 |\n",
       "| chr11 | 4092009 | 4092343 | chr11:4092009-4092343 | HBE1 | EH38E2941664 | dELS |  0.216536 |\n",
       "| chr11 | 4092009 | 4092343 | chr11:4092009-4092343 | HBE1 | EH38E2941664 | dELS | -0.269330 |\n",
       "| chr11 | 4092009 | 4092343 | chr11:4092009-4092343 | HBE1 | EH38E2941664 | dELS | -1.367700 |\n",
       "\n"
      ],
      "text/plain": [
       "  Chrom Start   End     Region                Gene Index        Label Score    \n",
       "1 chr11 4092009 4092343 chr11:4092009-4092343 HBE1 EH38E2941664 dELS   0.872537\n",
       "2 chr11 4092009 4092343 chr11:4092009-4092343 HBE1 EH38E2941664 dELS   1.318650\n",
       "3 chr11 4092009 4092343 chr11:4092009-4092343 HBE1 EH38E2941664 dELS  -0.105160\n",
       "4 chr11 4092009 4092343 chr11:4092009-4092343 HBE1 EH38E2941664 dELS   0.216536\n",
       "5 chr11 4092009 4092343 chr11:4092009-4092343 HBE1 EH38E2941664 dELS  -0.269330\n",
       "6 chr11 4092009 4092343 chr11:4092009-4092343 HBE1 EH38E2941664 dELS  -1.367700"
      ]
     },
     "metadata": {},
     "output_type": "display_data"
    }
   ],
   "source": [
    "dat = dat_peak_score_import\n",
    "dat = dat %>% \n",
    "    dplyr::mutate(\n",
    "        Chrom  = Chrom_A,\n",
    "        Start  = Start_A,\n",
    "        End    = End_A,\n",
    "        Region = paste0(Chrom_A, \":\", Start_A, \"-\", End_A),\n",
    "        Gene   = Gene,\n",
    "        Index  = Name_A,\n",
    "        Label  = Category_A,\n",
    "        Score  = Score\n",
    "    ) %>%\n",
    "    dplyr::select(\n",
    "        Chrom, Start, End, Region, Gene, Index, Label, Score\n",
    "    )\n",
    "\n",
    "###\n",
    "dat_peak_score_arrange = dat\n",
    "print(dim(dat))\n",
    "head(dat)"
   ]
  },
  {
   "cell_type": "markdown",
   "id": "ecf35772-61df-423e-acbe-63fb430f6e82",
   "metadata": {},
   "source": [
    "**Check**"
   ]
  },
  {
   "cell_type": "code",
   "execution_count": 12,
   "id": "12edd417-e741-4eb6-a1bd-fdf6695821f7",
   "metadata": {},
   "outputs": [
    {
     "data": {
      "text/html": [
       "<table class=\"dataframe\">\n",
       "<caption>A tibble: 31 × 2</caption>\n",
       "<thead>\n",
       "\t<tr><th scope=col>Chrom</th><th scope=col>Gene</th></tr>\n",
       "\t<tr><th scope=col>&lt;chr&gt;</th><th scope=col>&lt;chr&gt;</th></tr>\n",
       "</thead>\n",
       "<tbody>\n",
       "\t<tr><td>chr11</td><td>HBE1   </td></tr>\n",
       "\t<tr><td>chr11</td><td>HBG1   </td></tr>\n",
       "\t<tr><td>chr11</td><td>HBG2   </td></tr>\n",
       "\t<tr><td>chr11</td><td>HBS1L  </td></tr>\n",
       "\t<tr><td>chr11</td><td>MYB    </td></tr>\n",
       "\t<tr><td>chr11</td><td>CAPRIN1</td></tr>\n",
       "\t<tr><td>chr11</td><td>CAT    </td></tr>\n",
       "\t<tr><td>chr11</td><td>LMO2   </td></tr>\n",
       "\t<tr><td>chr11</td><td>FADS1  </td></tr>\n",
       "\t<tr><td>chr11</td><td>FADS2  </td></tr>\n",
       "\t<tr><td>chr11</td><td>FADS3  </td></tr>\n",
       "\t<tr><td>chr11</td><td>FEN1   </td></tr>\n",
       "\t<tr><td>chr12</td><td>GATA1  </td></tr>\n",
       "\t<tr><td>chr12</td><td>HDAC6  </td></tr>\n",
       "\t<tr><td>chr12</td><td>ERP29  </td></tr>\n",
       "\t<tr><td>chr19</td><td>GATA1  </td></tr>\n",
       "\t<tr><td>chr19</td><td>HDAC6  </td></tr>\n",
       "\t<tr><td>chr3 </td><td>GATA1  </td></tr>\n",
       "\t<tr><td>chr3 </td><td>HDAC6  </td></tr>\n",
       "\t<tr><td>chr4 </td><td>NMU    </td></tr>\n",
       "\t<tr><td>chr5 </td><td>MEF2C  </td></tr>\n",
       "\t<tr><td>chr6 </td><td>CD164  </td></tr>\n",
       "\t<tr><td>chr6 </td><td>HBE1   </td></tr>\n",
       "\t<tr><td>chr6 </td><td>HBG1   </td></tr>\n",
       "\t<tr><td>chr6 </td><td>HBG2   </td></tr>\n",
       "\t<tr><td>chr6 </td><td>HBS1L  </td></tr>\n",
       "\t<tr><td>chr6 </td><td>MYB    </td></tr>\n",
       "\t<tr><td>chr8 </td><td>MYC    </td></tr>\n",
       "\t<tr><td>chr8 </td><td>PVT1   </td></tr>\n",
       "\t<tr><td>chrX </td><td>GATA1  </td></tr>\n",
       "\t<tr><td>chrX </td><td>HDAC6  </td></tr>\n",
       "</tbody>\n",
       "</table>\n"
      ],
      "text/latex": [
       "A tibble: 31 × 2\n",
       "\\begin{tabular}{ll}\n",
       " Chrom & Gene\\\\\n",
       " <chr> & <chr>\\\\\n",
       "\\hline\n",
       "\t chr11 & HBE1   \\\\\n",
       "\t chr11 & HBG1   \\\\\n",
       "\t chr11 & HBG2   \\\\\n",
       "\t chr11 & HBS1L  \\\\\n",
       "\t chr11 & MYB    \\\\\n",
       "\t chr11 & CAPRIN1\\\\\n",
       "\t chr11 & CAT    \\\\\n",
       "\t chr11 & LMO2   \\\\\n",
       "\t chr11 & FADS1  \\\\\n",
       "\t chr11 & FADS2  \\\\\n",
       "\t chr11 & FADS3  \\\\\n",
       "\t chr11 & FEN1   \\\\\n",
       "\t chr12 & GATA1  \\\\\n",
       "\t chr12 & HDAC6  \\\\\n",
       "\t chr12 & ERP29  \\\\\n",
       "\t chr19 & GATA1  \\\\\n",
       "\t chr19 & HDAC6  \\\\\n",
       "\t chr3  & GATA1  \\\\\n",
       "\t chr3  & HDAC6  \\\\\n",
       "\t chr4  & NMU    \\\\\n",
       "\t chr5  & MEF2C  \\\\\n",
       "\t chr6  & CD164  \\\\\n",
       "\t chr6  & HBE1   \\\\\n",
       "\t chr6  & HBG1   \\\\\n",
       "\t chr6  & HBG2   \\\\\n",
       "\t chr6  & HBS1L  \\\\\n",
       "\t chr6  & MYB    \\\\\n",
       "\t chr8  & MYC    \\\\\n",
       "\t chr8  & PVT1   \\\\\n",
       "\t chrX  & GATA1  \\\\\n",
       "\t chrX  & HDAC6  \\\\\n",
       "\\end{tabular}\n"
      ],
      "text/markdown": [
       "\n",
       "A tibble: 31 × 2\n",
       "\n",
       "| Chrom &lt;chr&gt; | Gene &lt;chr&gt; |\n",
       "|---|---|\n",
       "| chr11 | HBE1    |\n",
       "| chr11 | HBG1    |\n",
       "| chr11 | HBG2    |\n",
       "| chr11 | HBS1L   |\n",
       "| chr11 | MYB     |\n",
       "| chr11 | CAPRIN1 |\n",
       "| chr11 | CAT     |\n",
       "| chr11 | LMO2    |\n",
       "| chr11 | FADS1   |\n",
       "| chr11 | FADS2   |\n",
       "| chr11 | FADS3   |\n",
       "| chr11 | FEN1    |\n",
       "| chr12 | GATA1   |\n",
       "| chr12 | HDAC6   |\n",
       "| chr12 | ERP29   |\n",
       "| chr19 | GATA1   |\n",
       "| chr19 | HDAC6   |\n",
       "| chr3  | GATA1   |\n",
       "| chr3  | HDAC6   |\n",
       "| chr4  | NMU     |\n",
       "| chr5  | MEF2C   |\n",
       "| chr6  | CD164   |\n",
       "| chr6  | HBE1    |\n",
       "| chr6  | HBG1    |\n",
       "| chr6  | HBG2    |\n",
       "| chr6  | HBS1L   |\n",
       "| chr6  | MYB     |\n",
       "| chr8  | MYC     |\n",
       "| chr8  | PVT1    |\n",
       "| chrX  | GATA1   |\n",
       "| chrX  | HDAC6   |\n",
       "\n"
      ],
      "text/plain": [
       "   Chrom Gene   \n",
       "1  chr11 HBE1   \n",
       "2  chr11 HBG1   \n",
       "3  chr11 HBG2   \n",
       "4  chr11 HBS1L  \n",
       "5  chr11 MYB    \n",
       "6  chr11 CAPRIN1\n",
       "7  chr11 CAT    \n",
       "8  chr11 LMO2   \n",
       "9  chr11 FADS1  \n",
       "10 chr11 FADS2  \n",
       "11 chr11 FADS3  \n",
       "12 chr11 FEN1   \n",
       "13 chr12 GATA1  \n",
       "14 chr12 HDAC6  \n",
       "15 chr12 ERP29  \n",
       "16 chr19 GATA1  \n",
       "17 chr19 HDAC6  \n",
       "18 chr3  GATA1  \n",
       "19 chr3  HDAC6  \n",
       "20 chr4  NMU    \n",
       "21 chr5  MEF2C  \n",
       "22 chr6  CD164  \n",
       "23 chr6  HBE1   \n",
       "24 chr6  HBG1   \n",
       "25 chr6  HBG2   \n",
       "26 chr6  HBS1L  \n",
       "27 chr6  MYB    \n",
       "28 chr8  MYC    \n",
       "29 chr8  PVT1   \n",
       "30 chrX  GATA1  \n",
       "31 chrX  HDAC6  "
      ]
     },
     "metadata": {},
     "output_type": "display_data"
    }
   ],
   "source": [
    "dat = dat_peak_score_arrange\n",
    "dat = dat %>% dplyr::select(Chrom, Gene) %>% dplyr::distinct()\n",
    "dat"
   ]
  },
  {
   "cell_type": "markdown",
   "id": "9add0e3b-da1e-4dd7-b477-ece086992670",
   "metadata": {},
   "source": [
    "## Summary"
   ]
  },
  {
   "cell_type": "code",
   "execution_count": 13,
   "id": "d26b09cb-fa19-4bc8-9281-211cb3d7d614",
   "metadata": {},
   "outputs": [
    {
     "data": {
      "text/plain": [
       "\n",
       "   neg    pos \n",
       "152331 135300 "
      ]
     },
     "metadata": {},
     "output_type": "display_data"
    }
   ],
   "source": [
    "###\n",
    "dat = dat_peak_score_arrange\n",
    "dat = dat %>% dplyr::mutate(Sign  = ifelse(Score > 0, \"pos\", \"neg\"))\n",
    "table(dat$Sign)"
   ]
  },
  {
   "cell_type": "code",
   "execution_count": 14,
   "id": "18b6feee-c6a9-420f-ac5e-17a49ea2f9e9",
   "metadata": {},
   "outputs": [
    {
     "name": "stdout",
     "output_type": "stream",
     "text": [
      "[1] 18467     9\n"
     ]
    },
    {
     "data": {
      "text/html": [
       "<table class=\"dataframe\">\n",
       "<caption>A tibble: 6 × 9</caption>\n",
       "<thead>\n",
       "\t<tr><th scope=col>Region</th><th scope=col>Gene</th><th scope=col>Mean</th><th scope=col>Median</th><th scope=col>Max</th><th scope=col>Min</th><th scope=col>Count</th><th scope=col>Mean_Neg</th><th scope=col>Mean_Pos</th></tr>\n",
       "\t<tr><th scope=col>&lt;chr&gt;</th><th scope=col>&lt;chr&gt;</th><th scope=col>&lt;dbl&gt;</th><th scope=col>&lt;dbl&gt;</th><th scope=col>&lt;dbl&gt;</th><th scope=col>&lt;dbl&gt;</th><th scope=col>&lt;int&gt;</th><th scope=col>&lt;dbl&gt;</th><th scope=col>&lt;dbl&gt;</th></tr>\n",
       "</thead>\n",
       "<tbody>\n",
       "\t<tr><td>chr11:33064238-33064442</td><td>CAPRIN1</td><td>-0.621251091</td><td>-0.5727760</td><td>0.217096</td><td>-2.265460</td><td>11</td><td>-0.7974806</td><td>0.1717815</td></tr>\n",
       "\t<tr><td>chr11:33064238-33064442</td><td>CAT    </td><td>-0.036045000</td><td>-0.1544540</td><td>1.792080</td><td>-1.038090</td><td>11</td><td>-0.4661079</td><td>1.1107893</td></tr>\n",
       "\t<tr><td>chr11:33064238-33064442</td><td>LMO2   </td><td> 0.133220000</td><td> 0.0910970</td><td>0.919454</td><td>-0.479535</td><td>11</td><td>-0.2757578</td><td>0.4740348</td></tr>\n",
       "\t<tr><td>chr11:33064452-33064801</td><td>CAPRIN1</td><td>-0.057939591</td><td> 0.0391085</td><td>1.691810</td><td>-2.351120</td><td>22</td><td>-0.7462876</td><td>0.4186090</td></tr>\n",
       "\t<tr><td>chr11:33064452-33064801</td><td>CAT    </td><td>-0.005705227</td><td> 0.0379285</td><td>2.664580</td><td>-1.789820</td><td>22</td><td>-0.6082166</td><td>0.4963876</td></tr>\n",
       "\t<tr><td>chr11:33064452-33064801</td><td>LMO2   </td><td> 0.051482364</td><td>-0.0096500</td><td>1.412590</td><td>-1.193420</td><td>22</td><td>-0.4999403</td><td>0.6029050</td></tr>\n",
       "</tbody>\n",
       "</table>\n"
      ],
      "text/latex": [
       "A tibble: 6 × 9\n",
       "\\begin{tabular}{lllllllll}\n",
       " Region & Gene & Mean & Median & Max & Min & Count & Mean\\_Neg & Mean\\_Pos\\\\\n",
       " <chr> & <chr> & <dbl> & <dbl> & <dbl> & <dbl> & <int> & <dbl> & <dbl>\\\\\n",
       "\\hline\n",
       "\t chr11:33064238-33064442 & CAPRIN1 & -0.621251091 & -0.5727760 & 0.217096 & -2.265460 & 11 & -0.7974806 & 0.1717815\\\\\n",
       "\t chr11:33064238-33064442 & CAT     & -0.036045000 & -0.1544540 & 1.792080 & -1.038090 & 11 & -0.4661079 & 1.1107893\\\\\n",
       "\t chr11:33064238-33064442 & LMO2    &  0.133220000 &  0.0910970 & 0.919454 & -0.479535 & 11 & -0.2757578 & 0.4740348\\\\\n",
       "\t chr11:33064452-33064801 & CAPRIN1 & -0.057939591 &  0.0391085 & 1.691810 & -2.351120 & 22 & -0.7462876 & 0.4186090\\\\\n",
       "\t chr11:33064452-33064801 & CAT     & -0.005705227 &  0.0379285 & 2.664580 & -1.789820 & 22 & -0.6082166 & 0.4963876\\\\\n",
       "\t chr11:33064452-33064801 & LMO2    &  0.051482364 & -0.0096500 & 1.412590 & -1.193420 & 22 & -0.4999403 & 0.6029050\\\\\n",
       "\\end{tabular}\n"
      ],
      "text/markdown": [
       "\n",
       "A tibble: 6 × 9\n",
       "\n",
       "| Region &lt;chr&gt; | Gene &lt;chr&gt; | Mean &lt;dbl&gt; | Median &lt;dbl&gt; | Max &lt;dbl&gt; | Min &lt;dbl&gt; | Count &lt;int&gt; | Mean_Neg &lt;dbl&gt; | Mean_Pos &lt;dbl&gt; |\n",
       "|---|---|---|---|---|---|---|---|---|\n",
       "| chr11:33064238-33064442 | CAPRIN1 | -0.621251091 | -0.5727760 | 0.217096 | -2.265460 | 11 | -0.7974806 | 0.1717815 |\n",
       "| chr11:33064238-33064442 | CAT     | -0.036045000 | -0.1544540 | 1.792080 | -1.038090 | 11 | -0.4661079 | 1.1107893 |\n",
       "| chr11:33064238-33064442 | LMO2    |  0.133220000 |  0.0910970 | 0.919454 | -0.479535 | 11 | -0.2757578 | 0.4740348 |\n",
       "| chr11:33064452-33064801 | CAPRIN1 | -0.057939591 |  0.0391085 | 1.691810 | -2.351120 | 22 | -0.7462876 | 0.4186090 |\n",
       "| chr11:33064452-33064801 | CAT     | -0.005705227 |  0.0379285 | 2.664580 | -1.789820 | 22 | -0.6082166 | 0.4963876 |\n",
       "| chr11:33064452-33064801 | LMO2    |  0.051482364 | -0.0096500 | 1.412590 | -1.193420 | 22 | -0.4999403 | 0.6029050 |\n",
       "\n"
      ],
      "text/plain": [
       "  Region                  Gene    Mean         Median     Max      Min      \n",
       "1 chr11:33064238-33064442 CAPRIN1 -0.621251091 -0.5727760 0.217096 -2.265460\n",
       "2 chr11:33064238-33064442 CAT     -0.036045000 -0.1544540 1.792080 -1.038090\n",
       "3 chr11:33064238-33064442 LMO2     0.133220000  0.0910970 0.919454 -0.479535\n",
       "4 chr11:33064452-33064801 CAPRIN1 -0.057939591  0.0391085 1.691810 -2.351120\n",
       "5 chr11:33064452-33064801 CAT     -0.005705227  0.0379285 2.664580 -1.789820\n",
       "6 chr11:33064452-33064801 LMO2     0.051482364 -0.0096500 1.412590 -1.193420\n",
       "  Count Mean_Neg   Mean_Pos \n",
       "1 11    -0.7974806 0.1717815\n",
       "2 11    -0.4661079 1.1107893\n",
       "3 11    -0.2757578 0.4740348\n",
       "4 22    -0.7462876 0.4186090\n",
       "5 22    -0.6082166 0.4963876\n",
       "6 22    -0.4999403 0.6029050"
      ]
     },
     "metadata": {},
     "output_type": "display_data"
    }
   ],
   "source": [
    "###\n",
    "dat = dat_peak_score_arrange\n",
    "dat = dat %>% dplyr::mutate(Sign  = ifelse(Score > 0, \"pos\", \"neg\"))\n",
    "\n",
    "###\n",
    "dat_summary_total = dat %>%\n",
    "    dplyr::group_by(Region, Gene) %>%\n",
    "    dplyr::summarise(\n",
    "        Mean    = mean(Score),\n",
    "        Median  = median(Score),\n",
    "        Max     = max(Score),\n",
    "        Min     = min(Score),\n",
    "        Count   = n(),\n",
    "        .groups = \"drop\"\n",
    "    )\n",
    "\n",
    "###\n",
    "dat_summary_sign = dat %>%\n",
    "    dplyr::group_by(Region, Gene, Sign) %>%\n",
    "    dplyr::summarise(Mean = mean(Score), .groups = \"drop\") %>% \n",
    "    dplyr::mutate(Sign = dplyr::recode(Sign, `pos` = \"Mean_Pos\", `neg` = \"Mean_Neg\")) %>% \n",
    "    tidyr::spread(Sign, Mean)\n",
    "\n",
    "###\n",
    "dat = dplyr::left_join(\n",
    "    dat_summary_total,\n",
    "    dat_summary_sign,\n",
    "    by = c(\"Region\", \"Gene\")) %>% \n",
    "    replace(is.na(.), 0)\n",
    "\n",
    "dat_peak_score_summary = dat\n",
    "print(dim(dat))\n",
    "head(dat)"
   ]
  },
  {
   "cell_type": "code",
   "execution_count": 27,
   "id": "99d435f3-9d33-4e69-9ca1-0460784bb3d2",
   "metadata": {},
   "outputs": [
    {
     "name": "stdout",
     "output_type": "stream",
     "text": [
      "[1] 9508    6\n"
     ]
    },
    {
     "data": {
      "text/html": [
       "<table class=\"dataframe\">\n",
       "<caption>A tibble: 6 × 6</caption>\n",
       "<thead>\n",
       "\t<tr><th scope=col>Region</th><th scope=col>Mean</th><th scope=col>Mean_Pos</th><th scope=col>Mean_Neg</th><th scope=col>Count</th><th scope=col>Note</th></tr>\n",
       "\t<tr><th scope=col>&lt;chr&gt;</th><th scope=col>&lt;dbl&gt;</th><th scope=col>&lt;dbl&gt;</th><th scope=col>&lt;dbl&gt;</th><th scope=col>&lt;int&gt;</th><th scope=col>&lt;chr&gt;</th></tr>\n",
       "</thead>\n",
       "<tbody>\n",
       "\t<tr><td>chr11:33064238-33064442</td><td>-0.174692030</td><td>0.13322000</td><td>-0.62125109</td><td>33</td><td>CAPRIN1:33|CAT:33|LMO2:33</td></tr>\n",
       "\t<tr><td>chr11:33064452-33064801</td><td>-0.004054152</td><td>0.05148236</td><td>-0.05793959</td><td>66</td><td>CAPRIN1:66|CAT:66|LMO2:66</td></tr>\n",
       "\t<tr><td>chr11:33064932-33065193</td><td> 0.227909722</td><td>0.35328775</td><td> 0.00000000</td><td>36</td><td>CAPRIN1:36|CAT:36|LMO2:36</td></tr>\n",
       "\t<tr><td>chr11:33065612-33065919</td><td> 0.008820937</td><td>0.15108512</td><td>-0.08050919</td><td>48</td><td>CAPRIN1:48|CAT:48|LMO2:48</td></tr>\n",
       "\t<tr><td>chr11:33067336-33067679</td><td> 0.027872875</td><td>0.18167258</td><td>-0.06737354</td><td>72</td><td>CAPRIN1:72|CAT:72|LMO2:72</td></tr>\n",
       "\t<tr><td>chr11:33069061-33069230</td><td>-0.446141556</td><td>0.00000000</td><td>-0.68554842</td><td>36</td><td>CAPRIN1:36|CAT:36|LMO2:36</td></tr>\n",
       "</tbody>\n",
       "</table>\n"
      ],
      "text/latex": [
       "A tibble: 6 × 6\n",
       "\\begin{tabular}{llllll}\n",
       " Region & Mean & Mean\\_Pos & Mean\\_Neg & Count & Note\\\\\n",
       " <chr> & <dbl> & <dbl> & <dbl> & <int> & <chr>\\\\\n",
       "\\hline\n",
       "\t chr11:33064238-33064442 & -0.174692030 & 0.13322000 & -0.62125109 & 33 & CAPRIN1:33\\textbar{}CAT:33\\textbar{}LMO2:33\\\\\n",
       "\t chr11:33064452-33064801 & -0.004054152 & 0.05148236 & -0.05793959 & 66 & CAPRIN1:66\\textbar{}CAT:66\\textbar{}LMO2:66\\\\\n",
       "\t chr11:33064932-33065193 &  0.227909722 & 0.35328775 &  0.00000000 & 36 & CAPRIN1:36\\textbar{}CAT:36\\textbar{}LMO2:36\\\\\n",
       "\t chr11:33065612-33065919 &  0.008820937 & 0.15108512 & -0.08050919 & 48 & CAPRIN1:48\\textbar{}CAT:48\\textbar{}LMO2:48\\\\\n",
       "\t chr11:33067336-33067679 &  0.027872875 & 0.18167258 & -0.06737354 & 72 & CAPRIN1:72\\textbar{}CAT:72\\textbar{}LMO2:72\\\\\n",
       "\t chr11:33069061-33069230 & -0.446141556 & 0.00000000 & -0.68554842 & 36 & CAPRIN1:36\\textbar{}CAT:36\\textbar{}LMO2:36\\\\\n",
       "\\end{tabular}\n"
      ],
      "text/markdown": [
       "\n",
       "A tibble: 6 × 6\n",
       "\n",
       "| Region &lt;chr&gt; | Mean &lt;dbl&gt; | Mean_Pos &lt;dbl&gt; | Mean_Neg &lt;dbl&gt; | Count &lt;int&gt; | Note &lt;chr&gt; |\n",
       "|---|---|---|---|---|---|\n",
       "| chr11:33064238-33064442 | -0.174692030 | 0.13322000 | -0.62125109 | 33 | CAPRIN1:33|CAT:33|LMO2:33 |\n",
       "| chr11:33064452-33064801 | -0.004054152 | 0.05148236 | -0.05793959 | 66 | CAPRIN1:66|CAT:66|LMO2:66 |\n",
       "| chr11:33064932-33065193 |  0.227909722 | 0.35328775 |  0.00000000 | 36 | CAPRIN1:36|CAT:36|LMO2:36 |\n",
       "| chr11:33065612-33065919 |  0.008820937 | 0.15108512 | -0.08050919 | 48 | CAPRIN1:48|CAT:48|LMO2:48 |\n",
       "| chr11:33067336-33067679 |  0.027872875 | 0.18167258 | -0.06737354 | 72 | CAPRIN1:72|CAT:72|LMO2:72 |\n",
       "| chr11:33069061-33069230 | -0.446141556 | 0.00000000 | -0.68554842 | 36 | CAPRIN1:36|CAT:36|LMO2:36 |\n",
       "\n"
      ],
      "text/plain": [
       "  Region                  Mean         Mean_Pos   Mean_Neg    Count\n",
       "1 chr11:33064238-33064442 -0.174692030 0.13322000 -0.62125109 33   \n",
       "2 chr11:33064452-33064801 -0.004054152 0.05148236 -0.05793959 66   \n",
       "3 chr11:33064932-33065193  0.227909722 0.35328775  0.00000000 36   \n",
       "4 chr11:33065612-33065919  0.008820937 0.15108512 -0.08050919 48   \n",
       "5 chr11:33067336-33067679  0.027872875 0.18167258 -0.06737354 72   \n",
       "6 chr11:33069061-33069230 -0.446141556 0.00000000 -0.68554842 36   \n",
       "  Note                     \n",
       "1 CAPRIN1:33|CAT:33|LMO2:33\n",
       "2 CAPRIN1:66|CAT:66|LMO2:66\n",
       "3 CAPRIN1:36|CAT:36|LMO2:36\n",
       "4 CAPRIN1:48|CAT:48|LMO2:48\n",
       "5 CAPRIN1:72|CAT:72|LMO2:72\n",
       "6 CAPRIN1:36|CAT:36|LMO2:36"
      ]
     },
     "metadata": {},
     "output_type": "display_data"
    }
   ],
   "source": [
    "dat = dat_peak_score_summary\n",
    "dat = dat %>% \n",
    "    dplyr::group_by(Region) %>%\n",
    "    dplyr::summarize(\n",
    "        Mean_Tot = mean(Mean),\n",
    "        Mean_Pos = max(Mean, 0),\n",
    "        Mean_Neg = min(Mean, 0),\n",
    "        Count    = sum(Count),\n",
    "        Note     = paste(Gene, Count, sep=\":\", collapse=\"|\"),\n",
    "        .groups  = \"drop\"\n",
    "    ) %>%\n",
    "    dplyr::rename(\"Mean\" = \"Mean_Tot\")\n",
    "\n",
    "dat_peak_score_summary_merge = dat\n",
    "print(dim(dat))\n",
    "head(dat)"
   ]
  },
  {
   "cell_type": "code",
   "execution_count": 15,
   "id": "a09b903b-d1a3-4072-8d19-75684a2f7661",
   "metadata": {},
   "outputs": [
    {
     "data": {
      "text/plain": [
       "   Min. 1st Qu.  Median    Mean 3rd Qu.    Max. \n",
       "   1.00    7.00   12.00   15.58   21.00   85.00 "
      ]
     },
     "metadata": {},
     "output_type": "display_data"
    }
   ],
   "source": [
    "dat = dat_peak_score_summary\n",
    "summary(dat$Count)"
   ]
  },
  {
   "cell_type": "code",
   "execution_count": 16,
   "id": "1c3f6396-486c-4131-8265-6c4ef39b3bfb",
   "metadata": {},
   "outputs": [
    {
     "data": {
      "text/plain": [
       "\n",
       "   1    2    3    4    5    6    7    8    9   10   11   12   13   14   15   16 \n",
       " 347  440  487  692  819 1037 1054 1076 1116 1000  897  686  650  634  498  538 \n",
       "  17   18   19   20   21   22   23   24   25   26   27   28   29   30   31   32 \n",
       " 459  436  493  420  363  328  318  323  230  273  250  191  203  175  151  157 \n",
       "  33   34   35   36   37   38   39   40   41   42   43   44   45   46   47   48 \n",
       " 126  119  142  102  102   87  105  102   57   77   36   61   55   65   48   19 \n",
       "  49   50   51   52   53   54   55   56   57   58   59   60   61   62   63   64 \n",
       "  41   50   28   14   38   22    5   34   18    8   19   13    6   12   12   10 \n",
       "  65   66   68   69   70   71   72   73   75   76   77   78   80   81   83   84 \n",
       "   6   15   14    2    2    4    1   11    6    1    8   16    1    3    1    1 \n",
       "  85 \n",
       "   1 "
      ]
     },
     "metadata": {},
     "output_type": "display_data"
    }
   ],
   "source": [
    "dat = dat_peak_score_summary\n",
    "table(dat$Count)"
   ]
  },
  {
   "cell_type": "code",
   "execution_count": 17,
   "id": "def569a3-5c00-421c-9afc-f9e5ade7f2e6",
   "metadata": {},
   "outputs": [
    {
     "data": {
      "image/png": "[encoded data removed]",
      "text/plain": [
       "plot without title"
      ]
     },
     "metadata": {
      "image/png": {
       "height": 300,
       "width": 480
      }
     },
     "output_type": "display_data"
    }
   ],
   "source": [
    "dat = dat_peak_score_summary\n",
    "gpt = ggplot(dat, aes(x=Count)) + \n",
    "    geom_histogram(binwidth = 1) + \n",
    "    labs(y=\"#Guides / Region\") +\n",
    "    theme_cowplot()\n",
    "options(repr.plot.height=5, repr.plot.width=8)\n",
    "print(gpt)"
   ]
  },
  {
   "cell_type": "code",
   "execution_count": 18,
   "id": "10fca4df-28ba-4c0b-9e32-8da6704608d0",
   "metadata": {},
   "outputs": [
    {
     "data": {
      "image/png": "[encoded data removed]",
      "text/plain": [
       "plot without title"
      ]
     },
     "metadata": {
      "image/png": {
       "height": 300,
       "width": 480
      }
     },
     "output_type": "display_data"
    }
   ],
   "source": [
    "dat = dat_peak_score_arrange\n",
    "gpt = ggplot(dat, aes(x=Score)) + \n",
    "    geom_histogram(bins = 50) + \n",
    "    labs(y=\"Score\") +\n",
    "    theme_cowplot()\n",
    "print(gpt)"
   ]
  },
  {
   "cell_type": "markdown",
   "id": "d3af9658-16c9-4188-93a4-d8fb98369368",
   "metadata": {},
   "source": [
    "## Save results"
   ]
  },
  {
   "cell_type": "code",
   "execution_count": 19,
   "id": "68f5f7cb-cc8d-499b-887d-f51cfd7cfb9c",
   "metadata": {},
   "outputs": [
    {
     "data": {
      "text/html": [
       "'CRISPRi_FlowFISH'"
      ],
      "text/latex": [
       "'CRISPRi\\_FlowFISH'"
      ],
      "text/markdown": [
       "'CRISPRi_FlowFISH'"
      ],
      "text/plain": [
       "[1] \"CRISPRi_FlowFISH\""
      ]
     },
     "metadata": {},
     "output_type": "display_data"
    }
   ],
   "source": [
    "ASSAY"
   ]
  },
  {
   "cell_type": "code",
   "execution_count": 20,
   "id": "d7503849-fca8-4588-af79-bfb3fd9a9e96",
   "metadata": {},
   "outputs": [
    {
     "data": {
      "text/html": [
       "'coverage_ccres_v4'"
      ],
      "text/latex": [
       "'coverage\\_ccres\\_v4'"
      ],
      "text/markdown": [
       "'coverage_ccres_v4'"
      ],
      "text/plain": [
       "[1] \"coverage_ccres_v4\""
      ]
     },
     "metadata": {},
     "output_type": "display_data"
    }
   ],
   "source": [
    "FOLDER"
   ]
  },
  {
   "cell_type": "code",
   "execution_count": 23,
   "id": "8936648c-5181-4098-8a43-be902b4a0cdc",
   "metadata": {},
   "outputs": [],
   "source": [
    "fdiry = file.path(FD_RES, \"results\", ASSAY, FOLDER, \"summary\")\n",
    "fname = \"results.score.tsv\"\n",
    "fpath = file.path(fdiry, fname)\n",
    "\n",
    "dat = dat_peak_score_arrange\n",
    "write_tsv(dat, fpath)"
   ]
  },
  {
   "cell_type": "code",
   "execution_count": 24,
   "id": "e68ce63e-bb18-4135-975c-b3a0c5ad501f",
   "metadata": {},
   "outputs": [],
   "source": [
    "fdiry = file.path(FD_RES, \"results\", ASSAY, FOLDER, \"summary\")\n",
    "fname = \"results.summary.tsv\"\n",
    "fpath = file.path(fdiry, fname)\n",
    "\n",
    "dat = dat_peak_score_summary\n",
    "write_tsv(dat, fpath)"
   ]
  },
  {
   "cell_type": "code",
   "execution_count": 28,
   "id": "633f60f3-61f3-4718-bf31-9ea911747b0a",
   "metadata": {},
   "outputs": [],
   "source": [
    "fdiry = file.path(FD_RES, \"results\", ASSAY, FOLDER, \"summary\")\n",
    "fname = \"results.summary.Merge.tsv\"\n",
    "fpath = file.path(fdiry, fname)\n",
    "\n",
    "dat = dat_peak_score_summary_merge\n",
    "write_tsv(dat, fpath)"
   ]
  },
  {
   "cell_type": "code",
   "execution_count": null,
   "id": "82b2fdbd-6cd0-45be-b5a7-38d56d9b833b",
   "metadata": {},
   "outputs": [],
   "source": []
  }
 ],
 "metadata": {
  "kernelspec": {
   "display_name": "R",
   "language": "R",
   "name": "ir"
  },
  "language_info": {
   "codemirror_mode": "r",
   "file_extension": ".r",
   "mimetype": "text/x-r-source",
   "name": "R",
   "pygments_lexer": "r",
   "version": "4.3.1"
  }
 },
 "nbformat": 4,
 "nbformat_minor": 5
}
