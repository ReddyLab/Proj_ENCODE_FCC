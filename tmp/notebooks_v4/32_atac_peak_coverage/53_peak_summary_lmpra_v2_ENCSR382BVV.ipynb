{
 "cells": [
  {
   "cell_type": "markdown",
   "metadata": {},
   "source": [
    "**Set environment**"
   ]
  },
  {
   "cell_type": "code",
   "execution_count": 1,
   "metadata": {},
   "outputs": [
    {
     "name": "stdout",
     "output_type": "stream",
     "text": [
      "You are in Singularity: singularity_proj_encode_fcc \n",
      "BASE DIRECTORY (FD_BASE): /data/reddylab/Kuei \n",
      "WORK DIRECTORY (FD_WORK): /data/reddylab/Kuei/out \n",
      "CODE DIRECTORY (FD_CODE): /data/reddylab/Kuei/code \n",
      "PATH OF PROJECT (FD_PRJ): /data/reddylab/Kuei/code/Proj_CombEffect_ENCODE_FCC \n",
      "PATH OF RESULTS (FD_RES): /data/reddylab/Kuei/out/proj_combeffect_encode_fcc \n",
      "PATH OF LOG     (FD_LOG): /data/reddylab/Kuei/out/proj_combeffect_encode_fcc/log \n"
     ]
    }
   ],
   "source": [
    "suppressMessages(suppressWarnings(source(\"../config/config_sing.R\")))\n",
    "show_env()"
   ]
  },
  {
   "cell_type": "markdown",
   "metadata": {},
   "source": [
    "## Import data"
   ]
  },
  {
   "cell_type": "code",
   "execution_count": 2,
   "metadata": {},
   "outputs": [
    {
     "name": "stderr",
     "output_type": "stream",
     "text": [
      "\u001b[1mRows: \u001b[22m\u001b[34m171405\u001b[39m \u001b[1mColumns: \u001b[22m\u001b[34m10\u001b[39m\n",
      "\u001b[36m──\u001b[39m \u001b[1mColumn specification\u001b[22m \u001b[36m─────────────────────────────────────────────────────────────────────\u001b[39m\n",
      "\u001b[1mDelimiter:\u001b[22m \"\\t\"\n",
      "\u001b[31mchr\u001b[39m (4): Chrom_Peak, Chrom_Site, Name, Strand\n",
      "\u001b[32mdbl\u001b[39m (6): Start_Peak, End_Peak, Start_Site, End_Site, Score, Overlap\n",
      "\n",
      "\u001b[36mℹ\u001b[39m Use `spec()` to retrieve the full column specification for this data.\n",
      "\u001b[36mℹ\u001b[39m Specify the column types or set `show_col_types = FALSE` to quiet this message.\n"
     ]
    },
    {
     "name": "stdout",
     "output_type": "stream",
     "text": [
      "[1] 171405     10\n"
     ]
    },
    {
     "data": {
      "text/html": [
       "<table class=\"dataframe\">\n",
       "<caption>A tibble: 6 × 10</caption>\n",
       "<thead>\n",
       "\t<tr><th scope=col>Chrom_Peak</th><th scope=col>Start_Peak</th><th scope=col>End_Peak</th><th scope=col>Chrom_Site</th><th scope=col>Start_Site</th><th scope=col>End_Site</th><th scope=col>Name</th><th scope=col>Score</th><th scope=col>Strand</th><th scope=col>Overlap</th></tr>\n",
       "\t<tr><th scope=col>&lt;chr&gt;</th><th scope=col>&lt;dbl&gt;</th><th scope=col>&lt;dbl&gt;</th><th scope=col>&lt;chr&gt;</th><th scope=col>&lt;dbl&gt;</th><th scope=col>&lt;dbl&gt;</th><th scope=col>&lt;chr&gt;</th><th scope=col>&lt;dbl&gt;</th><th scope=col>&lt;chr&gt;</th><th scope=col>&lt;dbl&gt;</th></tr>\n",
       "</thead>\n",
       "<tbody>\n",
       "\t<tr><td>chr1</td><td>115411</td><td>115986</td><td>chr1</td><td>115631</td><td>115831</td><td>peak1_Reversed: </td><td> 0.1572</td><td>-</td><td>200</td></tr>\n",
       "\t<tr><td>chr1</td><td>137737</td><td>139544</td><td>chr1</td><td>138940</td><td>139140</td><td>peak2_Reversed: </td><td> 0.2047</td><td>-</td><td>200</td></tr>\n",
       "\t<tr><td>chr1</td><td>137737</td><td>139544</td><td>chr1</td><td>138940</td><td>139140</td><td>peak2           </td><td>-0.2317</td><td>+</td><td>200</td></tr>\n",
       "\t<tr><td>chr1</td><td>267853</td><td>268603</td><td>chr1</td><td>267911</td><td>268111</td><td>peak4_Reversed: </td><td>-0.3220</td><td>-</td><td>200</td></tr>\n",
       "\t<tr><td>chr1</td><td>267853</td><td>268603</td><td>chr1</td><td>267911</td><td>268111</td><td>peak4           </td><td> 0.4415</td><td>+</td><td>200</td></tr>\n",
       "\t<tr><td>chr1</td><td>777949</td><td>779437</td><td>chr1</td><td>778638</td><td>778838</td><td>peak11_Reversed:</td><td> 1.4364</td><td>-</td><td>200</td></tr>\n",
       "</tbody>\n",
       "</table>\n"
      ],
      "text/latex": [
       "A tibble: 6 × 10\n",
       "\\begin{tabular}{llllllllll}\n",
       " Chrom\\_Peak & Start\\_Peak & End\\_Peak & Chrom\\_Site & Start\\_Site & End\\_Site & Name & Score & Strand & Overlap\\\\\n",
       " <chr> & <dbl> & <dbl> & <chr> & <dbl> & <dbl> & <chr> & <dbl> & <chr> & <dbl>\\\\\n",
       "\\hline\n",
       "\t chr1 & 115411 & 115986 & chr1 & 115631 & 115831 & peak1\\_Reversed:  &  0.1572 & - & 200\\\\\n",
       "\t chr1 & 137737 & 139544 & chr1 & 138940 & 139140 & peak2\\_Reversed:  &  0.2047 & - & 200\\\\\n",
       "\t chr1 & 137737 & 139544 & chr1 & 138940 & 139140 & peak2            & -0.2317 & + & 200\\\\\n",
       "\t chr1 & 267853 & 268603 & chr1 & 267911 & 268111 & peak4\\_Reversed:  & -0.3220 & - & 200\\\\\n",
       "\t chr1 & 267853 & 268603 & chr1 & 267911 & 268111 & peak4            &  0.4415 & + & 200\\\\\n",
       "\t chr1 & 777949 & 779437 & chr1 & 778638 & 778838 & peak11\\_Reversed: &  1.4364 & - & 200\\\\\n",
       "\\end{tabular}\n"
      ],
      "text/markdown": [
       "\n",
       "A tibble: 6 × 10\n",
       "\n",
       "| Chrom_Peak &lt;chr&gt; | Start_Peak &lt;dbl&gt; | End_Peak &lt;dbl&gt; | Chrom_Site &lt;chr&gt; | Start_Site &lt;dbl&gt; | End_Site &lt;dbl&gt; | Name &lt;chr&gt; | Score &lt;dbl&gt; | Strand &lt;chr&gt; | Overlap &lt;dbl&gt; |\n",
       "|---|---|---|---|---|---|---|---|---|---|\n",
       "| chr1 | 115411 | 115986 | chr1 | 115631 | 115831 | peak1_Reversed:  |  0.1572 | - | 200 |\n",
       "| chr1 | 137737 | 139544 | chr1 | 138940 | 139140 | peak2_Reversed:  |  0.2047 | - | 200 |\n",
       "| chr1 | 137737 | 139544 | chr1 | 138940 | 139140 | peak2            | -0.2317 | + | 200 |\n",
       "| chr1 | 267853 | 268603 | chr1 | 267911 | 268111 | peak4_Reversed:  | -0.3220 | - | 200 |\n",
       "| chr1 | 267853 | 268603 | chr1 | 267911 | 268111 | peak4            |  0.4415 | + | 200 |\n",
       "| chr1 | 777949 | 779437 | chr1 | 778638 | 778838 | peak11_Reversed: |  1.4364 | - | 200 |\n",
       "\n"
      ],
      "text/plain": [
       "  Chrom_Peak Start_Peak End_Peak Chrom_Site Start_Site End_Site\n",
       "1 chr1       115411     115986   chr1       115631     115831  \n",
       "2 chr1       137737     139544   chr1       138940     139140  \n",
       "3 chr1       137737     139544   chr1       138940     139140  \n",
       "4 chr1       267853     268603   chr1       267911     268111  \n",
       "5 chr1       267853     268603   chr1       267911     268111  \n",
       "6 chr1       777949     779437   chr1       778638     778838  \n",
       "  Name             Score   Strand Overlap\n",
       "1 peak1_Reversed:   0.1572 -      200    \n",
       "2 peak2_Reversed:   0.2047 -      200    \n",
       "3 peak2            -0.2317 +      200    \n",
       "4 peak4_Reversed:  -0.3220 -      200    \n",
       "5 peak4             0.4415 +      200    \n",
       "6 peak11_Reversed:  1.4364 -      200    "
      ]
     },
     "metadata": {},
     "output_type": "display_data"
    }
   ],
   "source": [
    "ASSAY   = \"LentiMPRA_K562_Nadav\"\n",
    "FOLDER  = \"coverage_astarrseq_peak_macs_input\"\n",
    "\n",
    "fdiry = file.path(FD_RES, \"results\", ASSAY, FOLDER)\n",
    "fname = \"K562.ENCSR382BVV.ENCFF348WYK.LMPRA.stranded.bed.gz\"\n",
    "fpath = file.path(fdiry, fname)\n",
    "\n",
    "cnames = c(\n",
    "    \"Chrom_Peak\", \"Start_Peak\", \"End_Peak\",\n",
    "    \"Chrom_Site\", \"Start_Site\", \"End_Site\", \"Name\", \"Score\", \"Strand\",\n",
    "    \"Overlap\"\n",
    ")\n",
    "dat = read_tsv(fpath, col_names = cnames)\n",
    "\n",
    "dat_peak_score_import = dat\n",
    "print(dim(dat))\n",
    "head(dat)"
   ]
  },
  {
   "cell_type": "markdown",
   "metadata": {},
   "source": [
    "**Check results**"
   ]
  },
  {
   "cell_type": "code",
   "execution_count": 3,
   "metadata": {},
   "outputs": [
    {
     "data": {
      "text/plain": [
       "\n",
       "     1      2      3      4      5      6      7      8      9     10     11 \n",
       "    20     23     22     18     20     18     23     20     24     20     14 \n",
       "    12     13     14     15     16     17     18     19     20     21     22 \n",
       "    14     20     18     14     15     12     17     20     13     23     16 \n",
       "    23     24     25     26     27     28     29     30     31     32     33 \n",
       "    16     24     16     23     18     25     24     29     18     30     18 \n",
       "    34     35     36     37     38     39     40     41     42     43     44 \n",
       "    32     24     20     20     29     27     18     21     30     22     31 \n",
       "    45     46     47     48     49     50     51     52     53     54     55 \n",
       "    35     21     30     18     39     37     34     28     36     30     16 \n",
       "    56     57     58     59     60     61     62     63     64     65     66 \n",
       "    26     27     36     32     40     43     29     48     48     41     34 \n",
       "    67     68     69     70     71     72     73     74     75     76     77 \n",
       "    50     51     36     38     44     42     50     53     32     58     53 \n",
       "    78     79     80     81     82     83     84     85     86     87     88 \n",
       "    54     55     56     52     81     57     77     54     66     74     51 \n",
       "    89     90     91     92     93     94     95     96     97     98     99 \n",
       "    52     76     77     85     60     75     62     62     57    108     81 \n",
       "   100    101    102    103    104    105    106    107    108    109    110 \n",
       "    90     80     90     88     78     81     90     92     77    102     76 \n",
       "   111    112    113    114    115    116    117    118    119    120    121 \n",
       "    73    121    109     93    118    100    109    103    110     96     96 \n",
       "   122    123    124    125    126    127    128    129    130    131    132 \n",
       "   106     92    119    126    142    106    103    127    150    141    156 \n",
       "   133    134    135    136    137    138    139    140    141    142    143 \n",
       "   158    154    140    186    166    178    195    173    200    204    220 \n",
       "   144    145    146    147    148    149    150    151    152    153    154 \n",
       "   221    226    256    213    224    204    193    246    232    212    281 \n",
       "   155    156    157    158    159    160    161    162    163    164    165 \n",
       "   238    240    263    251    236    251    237    283    271    285    252 \n",
       "   166    167    168    169    170    171    172    173    174    175    176 \n",
       "   256    264    283    274    270    292    273    281    289    310    344 \n",
       "   177    178    179    180    181    182    183    184    185    186    187 \n",
       "   289    276    282    293    263    244    293    291    274    264    242 \n",
       "   188    189    190    191    192    193    194    195    196    197    198 \n",
       "   303    292    252    247    269    298    241    293    249    278    246 \n",
       "   199    200    201    202    204    227    254 \n",
       "   283 147629     14      4      2      1      2 "
      ]
     },
     "metadata": {},
     "output_type": "display_data"
    }
   ],
   "source": [
    "### overlap should be all one\n",
    "table(dat_peak_score_import$Overlap)"
   ]
  },
  {
   "cell_type": "markdown",
   "metadata": {},
   "source": [
    "## Arrange"
   ]
  },
  {
   "cell_type": "code",
   "execution_count": 4,
   "metadata": {},
   "outputs": [
    {
     "name": "stdout",
     "output_type": "stream",
     "text": [
      "[1] 171405      3\n"
     ]
    },
    {
     "data": {
      "text/html": [
       "<table class=\"dataframe\">\n",
       "<caption>A tibble: 6 × 3</caption>\n",
       "<thead>\n",
       "\t<tr><th scope=col>Peak</th><th scope=col>Site</th><th scope=col>Score</th></tr>\n",
       "\t<tr><th scope=col>&lt;chr&gt;</th><th scope=col>&lt;chr&gt;</th><th scope=col>&lt;dbl&gt;</th></tr>\n",
       "</thead>\n",
       "<tbody>\n",
       "\t<tr><td>chr1:115411-115986</td><td>chr1:115631-115831</td><td> 0.1572</td></tr>\n",
       "\t<tr><td>chr1:137737-139544</td><td>chr1:138940-139140</td><td> 0.2047</td></tr>\n",
       "\t<tr><td>chr1:137737-139544</td><td>chr1:138940-139140</td><td>-0.2317</td></tr>\n",
       "\t<tr><td>chr1:267853-268603</td><td>chr1:267911-268111</td><td>-0.3220</td></tr>\n",
       "\t<tr><td>chr1:267853-268603</td><td>chr1:267911-268111</td><td> 0.4415</td></tr>\n",
       "\t<tr><td>chr1:777949-779437</td><td>chr1:778638-778838</td><td> 1.4364</td></tr>\n",
       "</tbody>\n",
       "</table>\n"
      ],
      "text/latex": [
       "A tibble: 6 × 3\n",
       "\\begin{tabular}{lll}\n",
       " Peak & Site & Score\\\\\n",
       " <chr> & <chr> & <dbl>\\\\\n",
       "\\hline\n",
       "\t chr1:115411-115986 & chr1:115631-115831 &  0.1572\\\\\n",
       "\t chr1:137737-139544 & chr1:138940-139140 &  0.2047\\\\\n",
       "\t chr1:137737-139544 & chr1:138940-139140 & -0.2317\\\\\n",
       "\t chr1:267853-268603 & chr1:267911-268111 & -0.3220\\\\\n",
       "\t chr1:267853-268603 & chr1:267911-268111 &  0.4415\\\\\n",
       "\t chr1:777949-779437 & chr1:778638-778838 &  1.4364\\\\\n",
       "\\end{tabular}\n"
      ],
      "text/markdown": [
       "\n",
       "A tibble: 6 × 3\n",
       "\n",
       "| Peak &lt;chr&gt; | Site &lt;chr&gt; | Score &lt;dbl&gt; |\n",
       "|---|---|---|\n",
       "| chr1:115411-115986 | chr1:115631-115831 |  0.1572 |\n",
       "| chr1:137737-139544 | chr1:138940-139140 |  0.2047 |\n",
       "| chr1:137737-139544 | chr1:138940-139140 | -0.2317 |\n",
       "| chr1:267853-268603 | chr1:267911-268111 | -0.3220 |\n",
       "| chr1:267853-268603 | chr1:267911-268111 |  0.4415 |\n",
       "| chr1:777949-779437 | chr1:778638-778838 |  1.4364 |\n",
       "\n"
      ],
      "text/plain": [
       "  Peak               Site               Score  \n",
       "1 chr1:115411-115986 chr1:115631-115831  0.1572\n",
       "2 chr1:137737-139544 chr1:138940-139140  0.2047\n",
       "3 chr1:137737-139544 chr1:138940-139140 -0.2317\n",
       "4 chr1:267853-268603 chr1:267911-268111 -0.3220\n",
       "5 chr1:267853-268603 chr1:267911-268111  0.4415\n",
       "6 chr1:777949-779437 chr1:778638-778838  1.4364"
      ]
     },
     "metadata": {},
     "output_type": "display_data"
    }
   ],
   "source": [
    "dat = dat_peak_score_import\n",
    "dat = dat %>% \n",
    "    dplyr::mutate(\n",
    "        Peak = paste0(Chrom_Peak, \":\", Start_Peak, \"-\", End_Peak),\n",
    "        Site = paste0(Chrom_Site, \":\", Start_Site, \"-\", End_Site)) %>%\n",
    "    dplyr::select(\n",
    "        Peak, Site, Score\n",
    "    )\n",
    "\n",
    "###\n",
    "dat_peak_score_arrange = dat\n",
    "print(dim(dat))\n",
    "head(dat)"
   ]
  },
  {
   "cell_type": "markdown",
   "metadata": {},
   "source": [
    "## Summary"
   ]
  },
  {
   "cell_type": "code",
   "execution_count": 5,
   "metadata": {},
   "outputs": [
    {
     "data": {
      "text/plain": [
       "\n",
       "  neg   pos \n",
       "75480 95925 "
      ]
     },
     "metadata": {},
     "output_type": "display_data"
    }
   ],
   "source": [
    "###\n",
    "dat = dat_peak_score_arrange\n",
    "dat = dat %>% dplyr::mutate(Sign  = ifelse(Score > 0, \"pos\", \"neg\"))\n",
    "table(dat$Sign)"
   ]
  },
  {
   "cell_type": "code",
   "execution_count": 6,
   "metadata": {},
   "outputs": [
    {
     "name": "stdout",
     "output_type": "stream",
     "text": [
      "[1] 68641     8\n"
     ]
    },
    {
     "data": {
      "text/html": [
       "<table class=\"dataframe\">\n",
       "<caption>A tibble: 6 × 8</caption>\n",
       "<thead>\n",
       "\t<tr><th scope=col>Peak</th><th scope=col>Mean</th><th scope=col>Median</th><th scope=col>Max</th><th scope=col>Min</th><th scope=col>Count</th><th scope=col>Mean_Neg</th><th scope=col>Mean_Pos</th></tr>\n",
       "\t<tr><th scope=col>&lt;chr&gt;</th><th scope=col>&lt;dbl&gt;</th><th scope=col>&lt;dbl&gt;</th><th scope=col>&lt;dbl&gt;</th><th scope=col>&lt;dbl&gt;</th><th scope=col>&lt;int&gt;</th><th scope=col>&lt;dbl&gt;</th><th scope=col>&lt;dbl&gt;</th></tr>\n",
       "</thead>\n",
       "<tbody>\n",
       "\t<tr><td>chr10:100045961-100046653</td><td> 0.13860</td><td> 0.13860</td><td> 0.1657</td><td> 0.1115</td><td>2</td><td> 0.00000</td><td>0.13860</td></tr>\n",
       "\t<tr><td>chr10:100065094-100065486</td><td> 0.01565</td><td> 0.01565</td><td> 0.0880</td><td>-0.0567</td><td>2</td><td>-0.05670</td><td>0.08800</td></tr>\n",
       "\t<tr><td>chr10:100081317-100081607</td><td>-0.21900</td><td>-0.21900</td><td>-0.0373</td><td>-0.4007</td><td>2</td><td>-0.21900</td><td>0.00000</td></tr>\n",
       "\t<tr><td>chr10:100129051-100131059</td><td>-0.17460</td><td>-0.17460</td><td>-0.1531</td><td>-0.1961</td><td>2</td><td>-0.17460</td><td>0.00000</td></tr>\n",
       "\t<tr><td>chr10:100185017-100187275</td><td>-0.12265</td><td>-0.12265</td><td>-0.0172</td><td>-0.2281</td><td>2</td><td>-0.12265</td><td>0.00000</td></tr>\n",
       "\t<tr><td>chr10:100228452-100230090</td><td> 1.23175</td><td> 1.23175</td><td> 1.3505</td><td> 1.1130</td><td>2</td><td> 0.00000</td><td>1.23175</td></tr>\n",
       "</tbody>\n",
       "</table>\n"
      ],
      "text/latex": [
       "A tibble: 6 × 8\n",
       "\\begin{tabular}{llllllll}\n",
       " Peak & Mean & Median & Max & Min & Count & Mean\\_Neg & Mean\\_Pos\\\\\n",
       " <chr> & <dbl> & <dbl> & <dbl> & <dbl> & <int> & <dbl> & <dbl>\\\\\n",
       "\\hline\n",
       "\t chr10:100045961-100046653 &  0.13860 &  0.13860 &  0.1657 &  0.1115 & 2 &  0.00000 & 0.13860\\\\\n",
       "\t chr10:100065094-100065486 &  0.01565 &  0.01565 &  0.0880 & -0.0567 & 2 & -0.05670 & 0.08800\\\\\n",
       "\t chr10:100081317-100081607 & -0.21900 & -0.21900 & -0.0373 & -0.4007 & 2 & -0.21900 & 0.00000\\\\\n",
       "\t chr10:100129051-100131059 & -0.17460 & -0.17460 & -0.1531 & -0.1961 & 2 & -0.17460 & 0.00000\\\\\n",
       "\t chr10:100185017-100187275 & -0.12265 & -0.12265 & -0.0172 & -0.2281 & 2 & -0.12265 & 0.00000\\\\\n",
       "\t chr10:100228452-100230090 &  1.23175 &  1.23175 &  1.3505 &  1.1130 & 2 &  0.00000 & 1.23175\\\\\n",
       "\\end{tabular}\n"
      ],
      "text/markdown": [
       "\n",
       "A tibble: 6 × 8\n",
       "\n",
       "| Peak &lt;chr&gt; | Mean &lt;dbl&gt; | Median &lt;dbl&gt; | Max &lt;dbl&gt; | Min &lt;dbl&gt; | Count &lt;int&gt; | Mean_Neg &lt;dbl&gt; | Mean_Pos &lt;dbl&gt; |\n",
       "|---|---|---|---|---|---|---|---|\n",
       "| chr10:100045961-100046653 |  0.13860 |  0.13860 |  0.1657 |  0.1115 | 2 |  0.00000 | 0.13860 |\n",
       "| chr10:100065094-100065486 |  0.01565 |  0.01565 |  0.0880 | -0.0567 | 2 | -0.05670 | 0.08800 |\n",
       "| chr10:100081317-100081607 | -0.21900 | -0.21900 | -0.0373 | -0.4007 | 2 | -0.21900 | 0.00000 |\n",
       "| chr10:100129051-100131059 | -0.17460 | -0.17460 | -0.1531 | -0.1961 | 2 | -0.17460 | 0.00000 |\n",
       "| chr10:100185017-100187275 | -0.12265 | -0.12265 | -0.0172 | -0.2281 | 2 | -0.12265 | 0.00000 |\n",
       "| chr10:100228452-100230090 |  1.23175 |  1.23175 |  1.3505 |  1.1130 | 2 |  0.00000 | 1.23175 |\n",
       "\n"
      ],
      "text/plain": [
       "  Peak                      Mean     Median   Max     Min     Count Mean_Neg\n",
       "1 chr10:100045961-100046653  0.13860  0.13860  0.1657  0.1115 2      0.00000\n",
       "2 chr10:100065094-100065486  0.01565  0.01565  0.0880 -0.0567 2     -0.05670\n",
       "3 chr10:100081317-100081607 -0.21900 -0.21900 -0.0373 -0.4007 2     -0.21900\n",
       "4 chr10:100129051-100131059 -0.17460 -0.17460 -0.1531 -0.1961 2     -0.17460\n",
       "5 chr10:100185017-100187275 -0.12265 -0.12265 -0.0172 -0.2281 2     -0.12265\n",
       "6 chr10:100228452-100230090  1.23175  1.23175  1.3505  1.1130 2      0.00000\n",
       "  Mean_Pos\n",
       "1 0.13860 \n",
       "2 0.08800 \n",
       "3 0.00000 \n",
       "4 0.00000 \n",
       "5 0.00000 \n",
       "6 1.23175 "
      ]
     },
     "metadata": {},
     "output_type": "display_data"
    }
   ],
   "source": [
    "###\n",
    "dat = dat_peak_score_arrange\n",
    "dat = dat %>% dplyr::mutate(Sign  = ifelse(Score > 0, \"pos\", \"neg\"))\n",
    "\n",
    "###\n",
    "dat_sum_total = dat %>%\n",
    "    dplyr::group_by(Peak) %>%\n",
    "    dplyr::summarise(\n",
    "        Mean    = mean(Score),\n",
    "        Median  = median(Score),\n",
    "        Max     = max(Score),\n",
    "        Min     = min(Score),\n",
    "        Count   = n(),\n",
    "        .groups = \"drop\"\n",
    "    )\n",
    "\n",
    "###\n",
    "dat_sum_sign = dat %>%\n",
    "    dplyr::group_by(Peak, Sign) %>%\n",
    "    dplyr::summarise(Mean = mean(Score), .groups = \"drop\") %>% \n",
    "    dplyr::mutate(Sign = dplyr::recode(Sign, `pos` = \"Mean_Pos\", `neg` = \"Mean_Neg\")) %>% \n",
    "    tidyr::spread(Sign, Mean)\n",
    "\n",
    "###\n",
    "dat = dplyr::left_join(\n",
    "    dat_sum_total,\n",
    "    dat_sum_sign,\n",
    "    by = c(\"Peak\")) %>% \n",
    "    replace(is.na(.), 0)\n",
    "\n",
    "dat_peak_score_summary = dat\n",
    "print(dim(dat))\n",
    "head(dat)"
   ]
  },
  {
   "cell_type": "code",
   "execution_count": 7,
   "metadata": {},
   "outputs": [
    {
     "data": {
      "text/plain": [
       "   Min. 1st Qu.  Median    Mean 3rd Qu.    Max. \n",
       "  1.000   2.000   2.000   2.497   2.000  24.000 "
      ]
     },
     "metadata": {},
     "output_type": "display_data"
    }
   ],
   "source": [
    "dat = dat_peak_score_summary\n",
    "summary(dat$Count)"
   ]
  },
  {
   "cell_type": "code",
   "execution_count": 8,
   "metadata": {},
   "outputs": [
    {
     "data": {
      "text/plain": [
       "\n",
       "    1     2     3     4     5     6     7     8     9    10    11    12    13 \n",
       " 1104 53402   440 10720   157  2195    50   415    12   115     3    19     1 \n",
       "   14    16    20    22    24 \n",
       "    3     2     1     1     1 "
      ]
     },
     "metadata": {},
     "output_type": "display_data"
    }
   ],
   "source": [
    "dat = dat_peak_score_summary\n",
    "table(dat$Count)"
   ]
  },
  {
   "cell_type": "code",
   "execution_count": 13,
   "metadata": {},
   "outputs": [
    {
     "data": {
      "image/png": "[encoded data removed]",
      "text/plain": [
       "plot without title"
      ]
     },
     "metadata": {
      "image/png": {
       "height": 300,
       "width": 480
      }
     },
     "output_type": "display_data"
    }
   ],
   "source": [
    "dat = dat_peak_score_summary\n",
    "gpt = ggplot(dat, aes(x=Count)) + \n",
    "    geom_histogram(binwidth = 1) + \n",
    "    labs(y=\"#Guides / Region\") +\n",
    "    theme_cowplot()\n",
    "options(repr.plot.height=5, repr.plot.width=8)\n",
    "print(gpt)"
   ]
  },
  {
   "cell_type": "code",
   "execution_count": 10,
   "metadata": {},
   "outputs": [
    {
     "data": {
      "image/png": "[encoded data removed]",
      "text/plain": [
       "plot without title"
      ]
     },
     "metadata": {
      "image/png": {
       "height": 420,
       "width": 420
      }
     },
     "output_type": "display_data"
    }
   ],
   "source": [
    "dat = dat_peak_score_arrange\n",
    "gpt = ggplot(dat, aes(x=Score)) + \n",
    "    geom_histogram(bins = 50) + \n",
    "    labs(y=\"Score\") +\n",
    "    theme_cowplot()\n",
    "print(gpt)"
   ]
  },
  {
   "cell_type": "markdown",
   "metadata": {},
   "source": [
    "## Save results"
   ]
  },
  {
   "cell_type": "code",
   "execution_count": 14,
   "metadata": {},
   "outputs": [],
   "source": [
    "fdiry = file.path(FD_RES, \"results\", ASSAY, FOLDER, \"summary\")\n",
    "fname = \"results.score.ENCSR382BVV.ENCFF348WYK.tsv\"\n",
    "fpath = file.path(fdiry, fname)\n",
    "\n",
    "dat = dat_peak_score_arrange\n",
    "write_tsv(dat, fpath)"
   ]
  },
  {
   "cell_type": "code",
   "execution_count": 15,
   "metadata": {},
   "outputs": [],
   "source": [
    "fdiry = file.path(FD_RES, \"results\", ASSAY, FOLDER, \"summary\")\n",
    "fname = \"results.summary.ENCSR382BVV.ENCFF348WYK.tsv\"\n",
    "fpath = file.path(fdiry, fname)\n",
    "\n",
    "dat = dat_peak_score_summary\n",
    "write_tsv(dat, fpath)"
   ]
  },
  {
   "cell_type": "code",
   "execution_count": null,
   "metadata": {},
   "outputs": [],
   "source": []
  }
 ],
 "metadata": {
  "kernelspec": {
   "display_name": "R",
   "language": "R",
   "name": "ir"
  },
  "language_info": {
   "codemirror_mode": "r",
   "file_extension": ".r",
   "mimetype": "text/x-r-source",
   "name": "R",
   "pygments_lexer": "r",
   "version": "4.3.0"
  }
 },
 "nbformat": 4,
 "nbformat_minor": 4
}
