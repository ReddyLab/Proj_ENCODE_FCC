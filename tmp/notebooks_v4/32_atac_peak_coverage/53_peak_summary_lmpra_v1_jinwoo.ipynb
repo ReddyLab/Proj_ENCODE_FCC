{
 "cells": [
  {
   "cell_type": "markdown",
   "metadata": {},
   "source": [
    "**Set environment**"
   ]
  },
  {
   "cell_type": "code",
   "execution_count": 1,
   "metadata": {},
   "outputs": [
    {
     "name": "stdout",
     "output_type": "stream",
     "text": [
      "You are in Singularity: singularity_proj_encode_fcc \n",
      "BASE DIRECTORY (FD_BASE): /data/reddylab/Kuei \n",
      "WORK DIRECTORY (FD_WORK): /data/reddylab/Kuei/out \n",
      "CODE DIRECTORY (FD_CODE): /data/reddylab/Kuei/code \n",
      "PATH OF PROJECT (FD_PRJ): /data/reddylab/Kuei/code/Proj_CombEffect_ENCODE_FCC \n",
      "PATH OF RESULTS (FD_RES): /data/reddylab/Kuei/out/proj_combeffect_encode_fcc \n",
      "PATH OF LOG     (FD_LOG): /data/reddylab/Kuei/out/proj_combeffect_encode_fcc/log \n"
     ]
    }
   ],
   "source": [
    "suppressMessages(suppressWarnings(source(\"../config/config_sing.R\")))\n",
    "show_env()"
   ]
  },
  {
   "cell_type": "markdown",
   "metadata": {},
   "source": [
    "## Import data"
   ]
  },
  {
   "cell_type": "code",
   "execution_count": 2,
   "metadata": {},
   "outputs": [
    {
     "name": "stderr",
     "output_type": "stream",
     "text": [
      "\u001b[1mRows: \u001b[22m\u001b[34m7847988\u001b[39m \u001b[1mColumns: \u001b[22m\u001b[34m9\u001b[39m\n",
      "\u001b[36m──\u001b[39m \u001b[1mColumn specification\u001b[22m \u001b[36m─────────────────────────────────────────────────────────────────────\u001b[39m\n",
      "\u001b[1mDelimiter:\u001b[22m \"\\t\"\n",
      "\u001b[31mchr\u001b[39m (3): Chrom_Peak, Chrom_Site, Site_ID\n",
      "\u001b[32mdbl\u001b[39m (6): Start_Peak, End_Peak, Start_Site, End_Site, Score, Overlap\n",
      "\n",
      "\u001b[36mℹ\u001b[39m Use `spec()` to retrieve the full column specification for this data.\n",
      "\u001b[36mℹ\u001b[39m Specify the column types or set `show_col_types = FALSE` to quiet this message.\n"
     ]
    },
    {
     "name": "stdout",
     "output_type": "stream",
     "text": [
      "[1] 7847988       9\n"
     ]
    },
    {
     "data": {
      "text/html": [
       "<table class=\"dataframe\">\n",
       "<caption>A tibble: 6 × 9</caption>\n",
       "<thead>\n",
       "\t<tr><th scope=col>Chrom_Peak</th><th scope=col>Start_Peak</th><th scope=col>End_Peak</th><th scope=col>Chrom_Site</th><th scope=col>Start_Site</th><th scope=col>End_Site</th><th scope=col>Site_ID</th><th scope=col>Score</th><th scope=col>Overlap</th></tr>\n",
       "\t<tr><th scope=col>&lt;chr&gt;</th><th scope=col>&lt;dbl&gt;</th><th scope=col>&lt;dbl&gt;</th><th scope=col>&lt;chr&gt;</th><th scope=col>&lt;dbl&gt;</th><th scope=col>&lt;dbl&gt;</th><th scope=col>&lt;chr&gt;</th><th scope=col>&lt;dbl&gt;</th><th scope=col>&lt;dbl&gt;</th></tr>\n",
       "</thead>\n",
       "<tbody>\n",
       "\t<tr><td>chr1</td><td>777949</td><td>779437</td><td>chr1</td><td>778637</td><td>778638</td><td>id-1</td><td>2.17604</td><td>1</td></tr>\n",
       "\t<tr><td>chr1</td><td>777949</td><td>779437</td><td>chr1</td><td>778638</td><td>778639</td><td>id-2</td><td>2.17604</td><td>1</td></tr>\n",
       "\t<tr><td>chr1</td><td>777949</td><td>779437</td><td>chr1</td><td>778639</td><td>778640</td><td>id-3</td><td>2.17604</td><td>1</td></tr>\n",
       "\t<tr><td>chr1</td><td>777949</td><td>779437</td><td>chr1</td><td>778640</td><td>778641</td><td>id-4</td><td>2.17604</td><td>1</td></tr>\n",
       "\t<tr><td>chr1</td><td>777949</td><td>779437</td><td>chr1</td><td>778641</td><td>778642</td><td>id-5</td><td>2.17604</td><td>1</td></tr>\n",
       "\t<tr><td>chr1</td><td>777949</td><td>779437</td><td>chr1</td><td>778642</td><td>778643</td><td>id-6</td><td>2.17604</td><td>1</td></tr>\n",
       "</tbody>\n",
       "</table>\n"
      ],
      "text/latex": [
       "A tibble: 6 × 9\n",
       "\\begin{tabular}{lllllllll}\n",
       " Chrom\\_Peak & Start\\_Peak & End\\_Peak & Chrom\\_Site & Start\\_Site & End\\_Site & Site\\_ID & Score & Overlap\\\\\n",
       " <chr> & <dbl> & <dbl> & <chr> & <dbl> & <dbl> & <chr> & <dbl> & <dbl>\\\\\n",
       "\\hline\n",
       "\t chr1 & 777949 & 779437 & chr1 & 778637 & 778638 & id-1 & 2.17604 & 1\\\\\n",
       "\t chr1 & 777949 & 779437 & chr1 & 778638 & 778639 & id-2 & 2.17604 & 1\\\\\n",
       "\t chr1 & 777949 & 779437 & chr1 & 778639 & 778640 & id-3 & 2.17604 & 1\\\\\n",
       "\t chr1 & 777949 & 779437 & chr1 & 778640 & 778641 & id-4 & 2.17604 & 1\\\\\n",
       "\t chr1 & 777949 & 779437 & chr1 & 778641 & 778642 & id-5 & 2.17604 & 1\\\\\n",
       "\t chr1 & 777949 & 779437 & chr1 & 778642 & 778643 & id-6 & 2.17604 & 1\\\\\n",
       "\\end{tabular}\n"
      ],
      "text/markdown": [
       "\n",
       "A tibble: 6 × 9\n",
       "\n",
       "| Chrom_Peak &lt;chr&gt; | Start_Peak &lt;dbl&gt; | End_Peak &lt;dbl&gt; | Chrom_Site &lt;chr&gt; | Start_Site &lt;dbl&gt; | End_Site &lt;dbl&gt; | Site_ID &lt;chr&gt; | Score &lt;dbl&gt; | Overlap &lt;dbl&gt; |\n",
       "|---|---|---|---|---|---|---|---|---|\n",
       "| chr1 | 777949 | 779437 | chr1 | 778637 | 778638 | id-1 | 2.17604 | 1 |\n",
       "| chr1 | 777949 | 779437 | chr1 | 778638 | 778639 | id-2 | 2.17604 | 1 |\n",
       "| chr1 | 777949 | 779437 | chr1 | 778639 | 778640 | id-3 | 2.17604 | 1 |\n",
       "| chr1 | 777949 | 779437 | chr1 | 778640 | 778641 | id-4 | 2.17604 | 1 |\n",
       "| chr1 | 777949 | 779437 | chr1 | 778641 | 778642 | id-5 | 2.17604 | 1 |\n",
       "| chr1 | 777949 | 779437 | chr1 | 778642 | 778643 | id-6 | 2.17604 | 1 |\n",
       "\n"
      ],
      "text/plain": [
       "  Chrom_Peak Start_Peak End_Peak Chrom_Site Start_Site End_Site Site_ID Score  \n",
       "1 chr1       777949     779437   chr1       778637     778638   id-1    2.17604\n",
       "2 chr1       777949     779437   chr1       778638     778639   id-2    2.17604\n",
       "3 chr1       777949     779437   chr1       778639     778640   id-3    2.17604\n",
       "4 chr1       777949     779437   chr1       778640     778641   id-4    2.17604\n",
       "5 chr1       777949     779437   chr1       778641     778642   id-5    2.17604\n",
       "6 chr1       777949     779437   chr1       778642     778643   id-6    2.17604\n",
       "  Overlap\n",
       "1 1      \n",
       "2 1      \n",
       "3 1      \n",
       "4 1      \n",
       "5 1      \n",
       "6 1      "
      ]
     },
     "metadata": {},
     "output_type": "display_data"
    }
   ],
   "source": [
    "ASSAY   = \"LentiMPRA_K562_Nadav\"\n",
    "FOLDER  = \"coverage_astarrseq_peak_macs_input\"\n",
    "\n",
    "fdiry = file.path(FD_RES, \"results\", ASSAY, FOLDER)\n",
    "fname = \"nadav_K562_MPRA_log2FC_Z_bp.bed.gz\"\n",
    "fpath = file.path(fdiry, fname)\n",
    "\n",
    "cnames = c(\n",
    "    \"Chrom_Peak\", \"Start_Peak\", \"End_Peak\",\n",
    "    \"Chrom_Site\", \"Start_Site\", \"End_Site\", \"Site_ID\", \"Score\", \n",
    "    \"Overlap\"\n",
    ")\n",
    "dat = read_tsv(fpath, col_names = cnames)\n",
    "\n",
    "dat_peak_score_import = dat\n",
    "print(dim(dat))\n",
    "head(dat)"
   ]
  },
  {
   "cell_type": "markdown",
   "metadata": {},
   "source": [
    "**Check results**"
   ]
  },
  {
   "cell_type": "code",
   "execution_count": 3,
   "metadata": {},
   "outputs": [
    {
     "data": {
      "text/plain": [
       "\n",
       "      1 \n",
       "7847988 "
      ]
     },
     "metadata": {},
     "output_type": "display_data"
    }
   ],
   "source": [
    "### overlap should be all one\n",
    "table(dat_peak_score_import$Overlap)"
   ]
  },
  {
   "cell_type": "markdown",
   "metadata": {},
   "source": [
    "## Arrange"
   ]
  },
  {
   "cell_type": "code",
   "execution_count": 4,
   "metadata": {},
   "outputs": [
    {
     "name": "stdout",
     "output_type": "stream",
     "text": [
      "[1] 7847988       3\n"
     ]
    },
    {
     "data": {
      "text/html": [
       "<table class=\"dataframe\">\n",
       "<caption>A tibble: 6 × 3</caption>\n",
       "<thead>\n",
       "\t<tr><th scope=col>Peak</th><th scope=col>Site</th><th scope=col>Score</th></tr>\n",
       "\t<tr><th scope=col>&lt;chr&gt;</th><th scope=col>&lt;chr&gt;</th><th scope=col>&lt;dbl&gt;</th></tr>\n",
       "</thead>\n",
       "<tbody>\n",
       "\t<tr><td>chr1:777949-779437</td><td>chr1:778637-778638</td><td>2.17604</td></tr>\n",
       "\t<tr><td>chr1:777949-779437</td><td>chr1:778638-778639</td><td>2.17604</td></tr>\n",
       "\t<tr><td>chr1:777949-779437</td><td>chr1:778639-778640</td><td>2.17604</td></tr>\n",
       "\t<tr><td>chr1:777949-779437</td><td>chr1:778640-778641</td><td>2.17604</td></tr>\n",
       "\t<tr><td>chr1:777949-779437</td><td>chr1:778641-778642</td><td>2.17604</td></tr>\n",
       "\t<tr><td>chr1:777949-779437</td><td>chr1:778642-778643</td><td>2.17604</td></tr>\n",
       "</tbody>\n",
       "</table>\n"
      ],
      "text/latex": [
       "A tibble: 6 × 3\n",
       "\\begin{tabular}{lll}\n",
       " Peak & Site & Score\\\\\n",
       " <chr> & <chr> & <dbl>\\\\\n",
       "\\hline\n",
       "\t chr1:777949-779437 & chr1:778637-778638 & 2.17604\\\\\n",
       "\t chr1:777949-779437 & chr1:778638-778639 & 2.17604\\\\\n",
       "\t chr1:777949-779437 & chr1:778639-778640 & 2.17604\\\\\n",
       "\t chr1:777949-779437 & chr1:778640-778641 & 2.17604\\\\\n",
       "\t chr1:777949-779437 & chr1:778641-778642 & 2.17604\\\\\n",
       "\t chr1:777949-779437 & chr1:778642-778643 & 2.17604\\\\\n",
       "\\end{tabular}\n"
      ],
      "text/markdown": [
       "\n",
       "A tibble: 6 × 3\n",
       "\n",
       "| Peak &lt;chr&gt; | Site &lt;chr&gt; | Score &lt;dbl&gt; |\n",
       "|---|---|---|\n",
       "| chr1:777949-779437 | chr1:778637-778638 | 2.17604 |\n",
       "| chr1:777949-779437 | chr1:778638-778639 | 2.17604 |\n",
       "| chr1:777949-779437 | chr1:778639-778640 | 2.17604 |\n",
       "| chr1:777949-779437 | chr1:778640-778641 | 2.17604 |\n",
       "| chr1:777949-779437 | chr1:778641-778642 | 2.17604 |\n",
       "| chr1:777949-779437 | chr1:778642-778643 | 2.17604 |\n",
       "\n"
      ],
      "text/plain": [
       "  Peak               Site               Score  \n",
       "1 chr1:777949-779437 chr1:778637-778638 2.17604\n",
       "2 chr1:777949-779437 chr1:778638-778639 2.17604\n",
       "3 chr1:777949-779437 chr1:778639-778640 2.17604\n",
       "4 chr1:777949-779437 chr1:778640-778641 2.17604\n",
       "5 chr1:777949-779437 chr1:778641-778642 2.17604\n",
       "6 chr1:777949-779437 chr1:778642-778643 2.17604"
      ]
     },
     "metadata": {},
     "output_type": "display_data"
    }
   ],
   "source": [
    "dat = dat_peak_score_import\n",
    "dat = dat %>% \n",
    "    dplyr::mutate(\n",
    "        Peak = paste0(Chrom_Peak, \":\", Start_Peak, \"-\", End_Peak),\n",
    "        Site = paste0(Chrom_Site, \":\", Start_Site, \"-\", End_Site)) %>%\n",
    "    dplyr::select(\n",
    "        Peak, Site, Score\n",
    "    )\n",
    "\n",
    "###\n",
    "dat_peak_score_arrange = dat\n",
    "print(dim(dat))\n",
    "head(dat)"
   ]
  },
  {
   "cell_type": "markdown",
   "metadata": {},
   "source": [
    "## Summary"
   ]
  },
  {
   "cell_type": "code",
   "execution_count": 9,
   "metadata": {},
   "outputs": [
    {
     "data": {
      "text/plain": [
       "\n",
       "    pos \n",
       "7847988 "
      ]
     },
     "metadata": {},
     "output_type": "display_data"
    }
   ],
   "source": [
    "###\n",
    "dat = dat_peak_score_arrange\n",
    "dat = dat %>% dplyr::mutate(Sign  = ifelse(Score > 0, \"pos\", \"neg\"))\n",
    "table(dat$Sign)"
   ]
  },
  {
   "cell_type": "code",
   "execution_count": 5,
   "metadata": {},
   "outputs": [
    {
     "name": "stdout",
     "output_type": "stream",
     "text": [
      "[1] 37180     7\n"
     ]
    },
    {
     "data": {
      "text/html": [
       "<table class=\"dataframe\">\n",
       "<caption>A tibble: 6 × 7</caption>\n",
       "<thead>\n",
       "\t<tr><th scope=col>Peak</th><th scope=col>Mean</th><th scope=col>Median</th><th scope=col>Max</th><th scope=col>Min</th><th scope=col>Count</th><th scope=col>Mean_Pos</th></tr>\n",
       "\t<tr><th scope=col>&lt;chr&gt;</th><th scope=col>&lt;dbl&gt;</th><th scope=col>&lt;dbl&gt;</th><th scope=col>&lt;dbl&gt;</th><th scope=col>&lt;dbl&gt;</th><th scope=col>&lt;int&gt;</th><th scope=col>&lt;dbl&gt;</th></tr>\n",
       "</thead>\n",
       "<tbody>\n",
       "\t<tr><td>chr10:100045961-100046653</td><td>0.065811</td><td>0.065811</td><td>0.065811</td><td>0.065811</td><td>200</td><td>0.065811</td></tr>\n",
       "\t<tr><td>chr10:100228452-100230090</td><td>2.158430</td><td>2.158430</td><td>2.158430</td><td>2.158430</td><td>200</td><td>2.158430</td></tr>\n",
       "\t<tr><td>chr10:100267066-100268374</td><td>1.338820</td><td>1.338820</td><td>1.338820</td><td>1.338820</td><td>200</td><td>1.338820</td></tr>\n",
       "\t<tr><td>chr10:100285974-100287341</td><td>1.322260</td><td>1.322260</td><td>1.322260</td><td>1.322260</td><td>200</td><td>1.322260</td></tr>\n",
       "\t<tr><td>chr10:100289686-100290090</td><td>0.548885</td><td>0.548885</td><td>0.548885</td><td>0.548885</td><td>200</td><td>0.548885</td></tr>\n",
       "\t<tr><td>chr10:100342247-100342824</td><td>0.176936</td><td>0.176936</td><td>0.176936</td><td>0.176936</td><td>200</td><td>0.176936</td></tr>\n",
       "</tbody>\n",
       "</table>\n"
      ],
      "text/latex": [
       "A tibble: 6 × 7\n",
       "\\begin{tabular}{lllllll}\n",
       " Peak & Mean & Median & Max & Min & Count & Mean\\_Pos\\\\\n",
       " <chr> & <dbl> & <dbl> & <dbl> & <dbl> & <int> & <dbl>\\\\\n",
       "\\hline\n",
       "\t chr10:100045961-100046653 & 0.065811 & 0.065811 & 0.065811 & 0.065811 & 200 & 0.065811\\\\\n",
       "\t chr10:100228452-100230090 & 2.158430 & 2.158430 & 2.158430 & 2.158430 & 200 & 2.158430\\\\\n",
       "\t chr10:100267066-100268374 & 1.338820 & 1.338820 & 1.338820 & 1.338820 & 200 & 1.338820\\\\\n",
       "\t chr10:100285974-100287341 & 1.322260 & 1.322260 & 1.322260 & 1.322260 & 200 & 1.322260\\\\\n",
       "\t chr10:100289686-100290090 & 0.548885 & 0.548885 & 0.548885 & 0.548885 & 200 & 0.548885\\\\\n",
       "\t chr10:100342247-100342824 & 0.176936 & 0.176936 & 0.176936 & 0.176936 & 200 & 0.176936\\\\\n",
       "\\end{tabular}\n"
      ],
      "text/markdown": [
       "\n",
       "A tibble: 6 × 7\n",
       "\n",
       "| Peak &lt;chr&gt; | Mean &lt;dbl&gt; | Median &lt;dbl&gt; | Max &lt;dbl&gt; | Min &lt;dbl&gt; | Count &lt;int&gt; | Mean_Pos &lt;dbl&gt; |\n",
       "|---|---|---|---|---|---|---|\n",
       "| chr10:100045961-100046653 | 0.065811 | 0.065811 | 0.065811 | 0.065811 | 200 | 0.065811 |\n",
       "| chr10:100228452-100230090 | 2.158430 | 2.158430 | 2.158430 | 2.158430 | 200 | 2.158430 |\n",
       "| chr10:100267066-100268374 | 1.338820 | 1.338820 | 1.338820 | 1.338820 | 200 | 1.338820 |\n",
       "| chr10:100285974-100287341 | 1.322260 | 1.322260 | 1.322260 | 1.322260 | 200 | 1.322260 |\n",
       "| chr10:100289686-100290090 | 0.548885 | 0.548885 | 0.548885 | 0.548885 | 200 | 0.548885 |\n",
       "| chr10:100342247-100342824 | 0.176936 | 0.176936 | 0.176936 | 0.176936 | 200 | 0.176936 |\n",
       "\n"
      ],
      "text/plain": [
       "  Peak                      Mean     Median   Max      Min      Count Mean_Pos\n",
       "1 chr10:100045961-100046653 0.065811 0.065811 0.065811 0.065811 200   0.065811\n",
       "2 chr10:100228452-100230090 2.158430 2.158430 2.158430 2.158430 200   2.158430\n",
       "3 chr10:100267066-100268374 1.338820 1.338820 1.338820 1.338820 200   1.338820\n",
       "4 chr10:100285974-100287341 1.322260 1.322260 1.322260 1.322260 200   1.322260\n",
       "5 chr10:100289686-100290090 0.548885 0.548885 0.548885 0.548885 200   0.548885\n",
       "6 chr10:100342247-100342824 0.176936 0.176936 0.176936 0.176936 200   0.176936"
      ]
     },
     "metadata": {},
     "output_type": "display_data"
    }
   ],
   "source": [
    "###\n",
    "dat = dat_peak_score_arrange\n",
    "dat = dat %>% dplyr::mutate(Sign  = ifelse(Score > 0, \"pos\", \"neg\"))\n",
    "\n",
    "###\n",
    "dat_sum_total = dat %>%\n",
    "    dplyr::group_by(Peak) %>%\n",
    "    dplyr::summarise(\n",
    "        Mean    = mean(Score),\n",
    "        Median  = median(Score),\n",
    "        Max     = max(Score),\n",
    "        Min     = min(Score),\n",
    "        Count   = n(),\n",
    "        .groups = \"drop\"\n",
    "    )\n",
    "\n",
    "###\n",
    "dat_sum_sign = dat %>%\n",
    "    dplyr::group_by(Peak, Sign) %>%\n",
    "    dplyr::summarise(Mean = mean(Score), .groups = \"drop\") %>% \n",
    "    dplyr::mutate(Sign = dplyr::recode(Sign, `pos` = \"Mean_Pos\", `neg` = \"Mean_Neg\")) %>% \n",
    "    tidyr::spread(Sign, Mean)\n",
    "\n",
    "###\n",
    "dat = dplyr::left_join(\n",
    "    dat_sum_total,\n",
    "    dat_sum_sign,\n",
    "    by = c(\"Peak\")) %>% \n",
    "    replace(is.na(.), 0)\n",
    "\n",
    "dat_peak_score_summary = dat\n",
    "print(dim(dat))\n",
    "head(dat)"
   ]
  },
  {
   "cell_type": "code",
   "execution_count": 6,
   "metadata": {},
   "outputs": [
    {
     "data": {
      "image/png": "[encoded data removed]",
      "text/plain": [
       "plot without title"
      ]
     },
     "metadata": {
      "image/png": {
       "height": 420,
       "width": 420
      }
     },
     "output_type": "display_data"
    }
   ],
   "source": [
    "dat = dat_peak_score_summary\n",
    "gpt = ggplot(dat, aes(x=Count)) + \n",
    "    geom_histogram(bins = 50) + \n",
    "    labs(y=\"#Guides / Region\") +\n",
    "    theme_cowplot()\n",
    "print(gpt)"
   ]
  },
  {
   "cell_type": "code",
   "execution_count": 10,
   "metadata": {},
   "outputs": [
    {
     "data": {
      "image/png": "[encoded data removed]",
      "text/plain": [
       "plot without title"
      ]
     },
     "metadata": {
      "image/png": {
       "height": 420,
       "width": 420
      }
     },
     "output_type": "display_data"
    }
   ],
   "source": [
    "dat = dat_peak_score_arrange\n",
    "gpt = ggplot(dat, aes(x=Score)) + \n",
    "    geom_histogram(bins = 50) + \n",
    "    labs(y=\"Score\") +\n",
    "    theme_cowplot()\n",
    "print(gpt)"
   ]
  },
  {
   "cell_type": "markdown",
   "metadata": {},
   "source": [
    "## Save results"
   ]
  },
  {
   "cell_type": "code",
   "execution_count": 7,
   "metadata": {},
   "outputs": [],
   "source": [
    "fdiry = file.path(FD_RES, \"results\", ASSAY, FOLDER, \"summary\")\n",
    "fname = \"results.score.tsv\"\n",
    "fpath = file.path(fdiry, fname)\n",
    "\n",
    "dat = dat_peak_score_arrange\n",
    "write_tsv(dat, fpath)"
   ]
  },
  {
   "cell_type": "code",
   "execution_count": 8,
   "metadata": {},
   "outputs": [],
   "source": [
    "fdiry = file.path(FD_RES, \"results\", ASSAY, FOLDER, \"summary\")\n",
    "fname = \"results.summary.tsv\"\n",
    "fpath = file.path(fdiry, fname)\n",
    "\n",
    "dat = dat_peak_score_summary\n",
    "write_tsv(dat, fpath)"
   ]
  },
  {
   "cell_type": "code",
   "execution_count": null,
   "metadata": {},
   "outputs": [],
   "source": []
  }
 ],
 "metadata": {
  "kernelspec": {
   "display_name": "R",
   "language": "R",
   "name": "ir"
  },
  "language_info": {
   "codemirror_mode": "r",
   "file_extension": ".r",
   "mimetype": "text/x-r-source",
   "name": "R",
   "pygments_lexer": "r",
   "version": "4.3.0"
  }
 },
 "nbformat": 4,
 "nbformat_minor": 4
}
