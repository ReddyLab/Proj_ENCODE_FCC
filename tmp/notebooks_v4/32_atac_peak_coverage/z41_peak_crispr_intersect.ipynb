{
 "cells": [
  {
   "cell_type": "markdown",
   "metadata": {},
   "source": [
    "# intersect the CRISPR guides"
   ]
  },
  {
   "cell_type": "markdown",
   "metadata": {},
   "source": [
    "**Set environment**"
   ]
  },
  {
   "cell_type": "code",
   "execution_count": 1,
   "metadata": {},
   "outputs": [
    {
     "name": "stdout",
     "output_type": "stream",
     "text": [
      "You are on Duke Server: HARDAC\n",
      "BASE DIRECTORY (FD_BASE): /data/reddylab/Kuei\n",
      "WORK DIRECTORY (FD_WORK): /data/reddylab/Kuei/out\n",
      "CODE DIRECTORY (FD_CODE): /data/reddylab/Kuei/code\n",
      "SING DIRECTORY (FD_SING): /data/reddylab/Kuei/singularity\n",
      "PATH OF PROJECT (FD_PRJ): /data/reddylab/Kuei/code/Proj_CombEffect_ENCODE_FCC\n",
      "PATH OF RESULTS (FD_RES): /data/reddylab/Kuei/out/proj_combeffect_encode_fcc\n",
      "PATH OF LOG     (FD_LOG): /data/reddylab/Kuei/out/proj_combeffect_encode_fcc/log\n",
      "\n"
     ]
    }
   ],
   "source": [
    "source ../config/config_duke.sh\n",
    "source ../config/config_load_module_bedtools.sh\n",
    "show_env"
   ]
  },
  {
   "cell_type": "markdown",
   "metadata": {},
   "source": [
    "**Check data**"
   ]
  },
  {
   "cell_type": "code",
   "execution_count": 2,
   "metadata": {},
   "outputs": [
    {
     "name": "stdout",
     "output_type": "stream",
     "text": [
      "chr1\t10015\t10442\n",
      "chr1\t14253\t14645\n",
      "chr1\t16015\t16477\n",
      "chr1\t17237\t17772\n",
      "chr1\t28903\t29613\n",
      "chr1\t30803\t31072\n",
      "chr1\t101603\t101849\n",
      "chr1\t115411\t115986\n",
      "chr1\t118518\t118743\n",
      "chr1\t136071\t137429\n"
     ]
    }
   ],
   "source": [
    "FD_REG=${FD_RES}/results/region/KS91_K562_ASTARRseq_peak_macs_input\n",
    "FN_REG=KS91_K562_hg38_ASTARRseq_Input.all_reps.masked.union_narrowPeak.q5.bed\n",
    "FP_REG=${FD_REG}/${FN_REG}\n",
    "head ${FP_REG}"
   ]
  },
  {
   "cell_type": "code",
   "execution_count": 3,
   "metadata": {},
   "outputs": [
    {
     "name": "stdout",
     "output_type": "stream",
     "text": [
      "\u001b[0m\u001b[38;5;27mcoverage\u001b[0m  \u001b[38;5;27mcoverage_astarrseq_peak_macs_input\u001b[0m\n"
     ]
    }
   ],
   "source": [
    "ASSAY=CRISPRi_FlowFISH\n",
    "FD_INP=${FD_RES}/results/${ASSAY}\n",
    "ls ${FD_INP}"
   ]
  },
  {
   "cell_type": "code",
   "execution_count": 4,
   "metadata": {},
   "outputs": [
    {
     "name": "stdout",
     "output_type": "stream",
     "text": [
      "chr11\t33064196\t33064197\tid-1495\t0.807624\tCAPRIN1\n",
      "chr11\t33064217\t33064218\tid-1496\t-2.71246\tCAPRIN1\n",
      "chr11\t33064229\t33064230\tid-1497\t0.642045\tCAPRIN1\n",
      "chr11\t33064230\t33064231\tid-1498\t1.85354\tCAPRIN1\n",
      "chr11\t33064258\t33064259\tid-1499\t0.126467\tCAPRIN1\n",
      "chr11\t33064264\t33064265\tid-1500\t0.217096\tCAPRIN1\n",
      "chr11\t33064298\t33064299\tid-1501\t-0.612031\tCAPRIN1\n",
      "chr11\t33064303\t33064304\tid-1502\t-0.859612\tCAPRIN1\n",
      "chr11\t33064315\t33064316\tid-1503\t-0.665188\tCAPRIN1\n",
      "chr11\t33064339\t33064340\tid-1504\t-0.569748\tCAPRIN1\n",
      "\n",
      "chr8\t128557671\t128557672\tid-49860\t0.622196\tPVT1\n",
      "chr8\t128704726\t128704727\tid-49861\t0.351404\tPVT1\n",
      "chr8\t128726825\t128726826\tid-49862\t-1.85164\tPVT1\n",
      "chr8\t128727502\t128727503\tid-49863\t-2.83422\tPVT1\n",
      "chr8\t128727986\t128727987\tid-49864\t-0.467646\tPVT1\n",
      "chr8\t128731456\t128731457\tid-49865\t-0.004463\tPVT1\n",
      "chr8\t128732458\t128732459\tid-49866\t-0.247074\tPVT1\n",
      "chr8\t128732691\t128732692\tid-49867\t-0.33844\tPVT1\n",
      "chr8\t128733323\t128733324\tid-49868\t1.28813\tPVT1\n",
      "chr8\t128735224\t128735225\tid-49869\t0.53652\tPVT1\n"
     ]
    }
   ],
   "source": [
    "ASSAY=CRISPRi_FlowFISH\n",
    "FD_INP=${FD_RES}/results/${ASSAY}/coverage\n",
    "FP_INPS=($(ls ${FD_INP}/*.log2FC_2.filtered.bed))\n",
    "\n",
    "head ${FD_INP}/Merge_HCRFF_rAVG.log2FC_2.filtered.bed\n",
    "echo\n",
    "tail ${FD_INP}/Merge_HCRFF_rAVG.log2FC_2.filtered.bed"
   ]
  },
  {
   "cell_type": "markdown",
   "metadata": {},
   "source": [
    "**RUN**"
   ]
  },
  {
   "cell_type": "code",
   "execution_count": 5,
   "metadata": {},
   "outputs": [
    {
     "name": "stdout",
     "output_type": "stream",
     "text": [
      "Submitted batch job 29603485\n"
     ]
    }
   ],
   "source": [
    "sbatch -p ${NODE} \\\n",
    "    --exclude=dl-01 \\\n",
    "    --cpus-per-task 8 \\\n",
    "    --mem 8G \\\n",
    "    --output ${FD_LOG}/coverage_astarr_peak_macs_input_crispri_hcrff.%a.txt \\\n",
    "    --array 0 \\\n",
    "    <<'EOF'\n",
    "#!/bin/bash\n",
    "### set directories & global variables\n",
    "source ../config/config_duke.sh\n",
    "ASSAY=CRISPRi_FlowFISH\n",
    "\n",
    "### print start message\n",
    "timer_start=`date +%s`\n",
    "echo \"Hostname:          \" $(hostname)\n",
    "echo \"Slurm Array Index: \" ${SLURM_ARRAY_TASK_ID}\n",
    "echo \"Time Stamp:        \" $(date +\"%m-%d-%y+%T\")\n",
    "echo\n",
    "\n",
    "### set input and output\n",
    "FD_INP=${FD_RES}/results/${ASSAY}/coverage\n",
    "FN_INP=Merge_HCRFF_rAVG.log2FC_2.filtered.bed\n",
    "FP_INP=${FD_INP}/${FN_INP}\n",
    "\n",
    "FD_OUT=${FD_RES}/results/${ASSAY}/coverage_astarrseq_peak_macs_input\n",
    "FN_OUT=${FN_INP}.gz\n",
    "FP_OUT=${FD_OUT}/${FN_OUT}\n",
    "\n",
    "FD_REG=${FD_RES}/results/region/KS91_K562_ASTARRseq_peak_macs_input\n",
    "FN_REG=KS91_K562_hg38_ASTARRseq_Input.all_reps.masked.union_narrowPeak.q5.bed\n",
    "FP_REG=${FD_REG}/${FN_REG}\n",
    "\n",
    "### show I/O file\n",
    "echo \"Input: \" ${FP_INP}\n",
    "echo\n",
    "echo \"show first few lines of input\"\n",
    "cat ${FP_INP} | head -5\n",
    "echo\n",
    "echo \"Input: \" ${FP_REG}\n",
    "echo\n",
    "echo \"show first few lines of input\"\n",
    "cat ${FP_REG} | head -5\n",
    "echo\n",
    "\n",
    "### init: create output folder if not exist\n",
    "mkdir -p ${FD_OUT}\n",
    "\n",
    "### annotation using intersect\n",
    "bedtools intersect \\\n",
    "    -a ${FP_REG} \\\n",
    "    -b ${FP_INP} \\\n",
    "    -wo \\\n",
    "| gzip -c \\\n",
    "> ${FP_OUT}\n",
    "\n",
    "### Show I/O file\n",
    "echo\n",
    "echo \"Output file: \" ${FP_OUT}\n",
    "echo\n",
    "echo \"Show the first few lines of the output file\"\n",
    "zcat ${FP_OUT} | head -n 5\n",
    "echo\n",
    "\n",
    "### print end message\n",
    "timer_stop=`date +%s`\n",
    "runtime=$(echo \"${timer_stop} - ${timer_start}\" | bc -l)\n",
    "echo\n",
    "echo 'Done!'\n",
    "echo \"Run Time: $(displaytime ${runtime})\"\n",
    "\n",
    "EOF"
   ]
  },
  {
   "cell_type": "markdown",
   "metadata": {},
   "source": [
    "**Check results**"
   ]
  },
  {
   "cell_type": "code",
   "execution_count": 6,
   "metadata": {},
   "outputs": [
    {
     "name": "stdout",
     "output_type": "stream",
     "text": [
      "Hostname:           x2-08-1.genome.duke.edu\n",
      "Slurm Array Index:  0\n",
      "Time Stamp:         03-24-23+10:18:20\n",
      "\n",
      "Input:  /data/reddylab/Kuei/out/proj_combeffect_encode_fcc/results/CRISPRi_FlowFISH/coverage/Merge_HCRFF_rAVG.log2FC_2.filtered.bed\n",
      "\n",
      "show first few lines of input\n",
      "chr11\t33064196\t33064197\tid-1495\t0.807624\tCAPRIN1\n",
      "chr11\t33064217\t33064218\tid-1496\t-2.71246\tCAPRIN1\n",
      "chr11\t33064229\t33064230\tid-1497\t0.642045\tCAPRIN1\n",
      "chr11\t33064230\t33064231\tid-1498\t1.85354\tCAPRIN1\n",
      "chr11\t33064258\t33064259\tid-1499\t0.126467\tCAPRIN1\n",
      "\n",
      "Input:  /data/reddylab/Kuei/out/proj_combeffect_encode_fcc/results/region/KS91_K562_ASTARRseq_peak_macs_input/KS91_K562_hg38_ASTARRseq_Input.all_reps.masked.union_narrowPeak.q5.bed\n",
      "\n",
      "show first few lines of input\n",
      "chr1\t10015\t10442\n",
      "chr1\t14253\t14645\n",
      "chr1\t16015\t16477\n",
      "chr1\t17237\t17772\n",
      "chr1\t28903\t29613\n",
      "\n",
      "\n",
      "Output file:  /data/reddylab/Kuei/out/proj_combeffect_encode_fcc/results/CRISPRi_FlowFISH/coverage_astarrseq_peak_macs_input/Merge_HCRFF_rAVG.log2FC_2.filtered.bed.gz\n",
      "\n",
      "Show the first few lines of the output file\n",
      "chr11\t4092104\t4092566\tchr11\t4092122\t4092123\tid-145\t-1.10103\tHBE1\t1\n",
      "chr11\t4092104\t4092566\tchr11\t4092123\t4092124\tid-146\t-0.061961\tHBE1\t1\n",
      "chr11\t4092104\t4092566\tchr11\t4092130\t4092131\tid-147\t0.528464\tHBE1\t1\n",
      "chr11\t4092104\t4092566\tchr11\t4092135\t4092136\tid-148\t0.497477\tHBE1\t1\n",
      "chr11\t4092104\t4092566\tchr11\t4092162\t4092163\tid-149\t-0.190223\tHBE1\t1\n",
      "\n",
      "\n",
      "Done!\n",
      "Run Time: 2 seconds\n"
     ]
    }
   ],
   "source": [
    "cat ${FD_LOG}/coverage_astarr_peak_macs_input_crispri_hcrff.0.txt"
   ]
  },
  {
   "cell_type": "code",
   "execution_count": null,
   "metadata": {},
   "outputs": [],
   "source": []
  }
 ],
 "metadata": {
  "kernelspec": {
   "display_name": "Bash",
   "language": "bash",
   "name": "bash"
  },
  "language_info": {
   "codemirror_mode": "shell",
   "file_extension": ".sh",
   "mimetype": "text/x-sh",
   "name": "bash"
  }
 },
 "nbformat": 4,
 "nbformat_minor": 5
}
