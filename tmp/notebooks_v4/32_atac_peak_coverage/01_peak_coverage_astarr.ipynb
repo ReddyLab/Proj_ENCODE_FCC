{
 "cells": [
  {
   "cell_type": "markdown",
   "id": "9d31d6dc-023a-42e8-a05d-137df3ea2d0d",
   "metadata": {},
   "source": [
    "**Set environment**"
   ]
  },
  {
   "cell_type": "code",
   "execution_count": 1,
   "id": "184c3ab9-3e15-4586-894a-225cde1f1ed3",
   "metadata": {},
   "outputs": [
    {
     "name": "stdout",
     "output_type": "stream",
     "text": [
      "You are on Duke Server: HARDAC\n",
      "BASE DIRECTORY (FD_BASE): /data/reddylab/Kuei\n",
      "WORK DIRECTORY (FD_WORK): /data/reddylab/Kuei/out\n",
      "CODE DIRECTORY (FD_CODE): /data/reddylab/Kuei/code\n",
      "SING DIRECTORY (FD_SING): /data/reddylab/Kuei/singularity\n",
      "PATH OF PROJECT (FD_PRJ): /data/reddylab/Kuei/code/Proj_CombEffect_ENCODE_FCC\n",
      "PATH OF RESULTS (FD_RES): /data/reddylab/Kuei/out/proj_combeffect_encode_fcc\n",
      "PATH OF LOG     (FD_LOG): /data/reddylab/Kuei/out/proj_combeffect_encode_fcc/log\n",
      "\n"
     ]
    }
   ],
   "source": [
    "source ../config/config_duke.sh\n",
    "source ../config/config_load_module_bedtools.sh\n",
    "show_env"
   ]
  },
  {
   "cell_type": "markdown",
   "id": "89c4f10b-3c83-4112-86de-6c94db996829",
   "metadata": {},
   "source": [
    "**Check data**"
   ]
  },
  {
   "cell_type": "code",
   "execution_count": 2,
   "id": "1ea65370-107e-43bc-8f18-9117a37892f1",
   "metadata": {},
   "outputs": [
    {
     "name": "stdout",
     "output_type": "stream",
     "text": [
      "+++++++++++++++++++++++++++++++++++\n",
      "-rw-rw-r-- 1 kk319 reddylab 5.7M Mar  6 16:02 /data/reddylab/Kuei/out/proj_combeffect_encode_fcc/results/region/KS91_K562_ASTARRseq_peak_macs_input/KS91_K562_hg38_ASTARRseq_Input.all_reps.masked.union_narrowPeak.q5.bed\n",
      "247520\n",
      "\n",
      "+++++++++++++++++++++++++++++++++++\n",
      "chr1\t10015\t10442\n",
      "chr1\t14253\t14645\n",
      "chr1\t16015\t16477\n",
      "chr1\t17237\t17772\n",
      "chr1\t28903\t29613\n",
      "chr1\t30803\t31072\n",
      "chr1\t101603\t101849\n",
      "chr1\t115411\t115986\n",
      "chr1\t118518\t118743\n",
      "chr1\t136071\t137429\n",
      "\n",
      "+++++++++++++++++++++++++++++++++++\n",
      "chrX\t155966947\t155967395\n",
      "chrX\t155971561\t155972273\n",
      "chrX\t155986274\t155987619\n",
      "chrX\t155997267\t155998045\n",
      "chrX\t156000382\t156003205\n",
      "chrX\t156009687\t156010227\n",
      "chrX\t156016391\t156016836\n",
      "chrX\t156024950\t156025593\n",
      "chrX\t156030187\t156030740\n",
      "chrY\t11215098\t11215422\n",
      "\n"
     ]
    }
   ],
   "source": [
    "FD_REG=${FD_RES}/results/region/KS91_K562_ASTARRseq_peak_macs_input\n",
    "FN_REG=KS91_K562_hg38_ASTARRseq_Input.all_reps.masked.union_narrowPeak.q5.bed\n",
    "\n",
    "echo +++++++++++++++++++++++++++++++++++\n",
    "ls -lh ${FD_REG}/${FN_REG}\n",
    "cat ${FD_REG}/${FN_REG} | wc -l\n",
    "echo\n",
    "\n",
    "echo +++++++++++++++++++++++++++++++++++\n",
    "head ${FD_REG}/${FN_REG}\n",
    "echo\n",
    "\n",
    "echo +++++++++++++++++++++++++++++++++++\n",
    "tail ${FD_REG}/${FN_REG}\n",
    "echo"
   ]
  },
  {
   "cell_type": "code",
   "execution_count": 3,
   "id": "923a5fda-43ca-408c-86c1-7c186fa4bfc5",
   "metadata": {},
   "outputs": [
    {
     "name": "stdout",
     "output_type": "stream",
     "text": [
      "/data/reddylab/Kuei/out/proj_combeffect_encode_fcc/results/KS91_K562_ASTARRseq/fragment_count\n",
      "KS91_K562_ASTARRseq.Input.rep1.WGS.unstranded.bed.gz\n",
      "KS91_K562_ASTARRseq.Input.rep2.WGS.unstranded.bed.gz\n",
      "KS91_K562_ASTARRseq.Input.rep3.WGS.unstranded.bed.gz\n",
      "KS91_K562_ASTARRseq.Input.rep4.WGS.unstranded.bed.gz\n",
      "KS91_K562_ASTARRseq.Input.rep5.WGS.unstranded.bed.gz\n",
      "KS91_K562_ASTARRseq.Input.rep6.WGS.unstranded.bed.gz\n",
      "KS91_K562_ASTARRseq.Output.rep1.WGS.unstranded.bed.gz\n",
      "KS91_K562_ASTARRseq.Output.rep2.WGS.unstranded.bed.gz\n",
      "KS91_K562_ASTARRseq.Output.rep3.WGS.unstranded.bed.gz\n",
      "KS91_K562_ASTARRseq.Output.rep4.WGS.unstranded.bed.gz\n"
     ]
    }
   ],
   "source": [
    "ASSAY=KS91_K562_ASTARRseq\n",
    "FD_INP=${FD_RES}/results/${ASSAY}/fragment_count\n",
    "\n",
    "echo ${FD_INP}\n",
    "ls ${FD_INP}/*WGS*.bed.gz | xargs -n 1 basename"
   ]
  },
  {
   "cell_type": "code",
   "execution_count": 4,
   "id": "f6235789-a356-4360-9ad1-83c47ff93822",
   "metadata": {},
   "outputs": [
    {
     "name": "stdout",
     "output_type": "stream",
     "text": [
      "Total: 10\n"
     ]
    }
   ],
   "source": [
    "FP_INPS=($(ls ${FD_INP}/*WGS*.bed.gz))\n",
    "echo Total: ${#FP_INPS[@]}"
   ]
  },
  {
   "cell_type": "markdown",
   "id": "4be3b712-44e2-47da-89ff-c8e8fc0877cd",
   "metadata": {},
   "source": [
    "**RUN**"
   ]
  },
  {
   "cell_type": "code",
   "execution_count": 5,
   "id": "83c4b4d8-b699-4fb5-b28a-1358e4086725",
   "metadata": {},
   "outputs": [
    {
     "name": "stdout",
     "output_type": "stream",
     "text": [
      "Submitted batch job 29577913\n"
     ]
    }
   ],
   "source": [
    "sbatch -p ${NODE} \\\n",
    "    --exclude=dl-01 \\\n",
    "    --cpus-per-task 8 \\\n",
    "    --mem 20G \\\n",
    "    --output ${FD_LOG}/coverage_astarr_peak_macs_input_astarr.%a.txt \\\n",
    "    --array 0-9 \\\n",
    "    <<'EOF'\n",
    "#!/bin/bash\n",
    "### set directories & global variables\n",
    "source ../config/config_duke.sh\n",
    "ASSAY=KS91_K562_ASTARRseq\n",
    "\n",
    "### print start message\n",
    "timer_start=`date +%s`\n",
    "echo \"Hostname:          \" $(hostname)\n",
    "echo \"Slurm Array Index: \" ${SLURM_ARRAY_TASK_ID}\n",
    "echo \"Time Stamp:        \" $(date +\"%m-%d-%y+%T\")\n",
    "echo\n",
    "\n",
    "### set input and output directory\n",
    "FD_INP=${FD_RES}/results/${ASSAY}/fragment_count\n",
    "FD_OUT=${FD_RES}/results/${ASSAY}/coverage_astarrseq_peak_macs_input\n",
    "\n",
    "FP_INPS=($(ls ${FD_INP}/*WGS*.bed.gz))\n",
    "FP_INP=${FP_INPS[${SLURM_ARRAY_TASK_ID}]}\n",
    "FN_INP=$(basename ${FP_INP})\n",
    "\n",
    "FN_OUT=${FN_INP}\n",
    "FP_OUT=${FD_OUT}/${FN_OUT}\n",
    "\n",
    "FD_REG=${FD_RES}/results/region/KS91_K562_ASTARRseq_peak_macs_input\n",
    "FN_REG=KS91_K562_hg38_ASTARRseq_Input.all_reps.masked.union_narrowPeak.q5.bed\n",
    "FP_REG=${FD_REG}/${FN_REG}\n",
    "\n",
    "### Show I/O file\n",
    "echo \"Input  file: \" ${FP_INP}\n",
    "echo\n",
    "echo \"Show the first few lines of the input file\"\n",
    "zcat  ${FP_INP} | head -n 5 \n",
    "echo\n",
    "\n",
    "echo \"Input  file: \" ${FP_REG}\n",
    "echo\n",
    "echo \"Show the first few lines of the input file\"\n",
    "cat  ${FP_REG} | head -n 3 \n",
    "echo\n",
    "echo \"Show the last few lines of the input file\"\n",
    "cat  ${FP_REG} | tail -n 3 \n",
    "echo\n",
    "\n",
    "### execute\n",
    "bedtools map \\\n",
    "    -a ${FP_REG} \\\n",
    "    -b ${FP_INP} \\\n",
    "    -o sum \\\n",
    "    -f 0.5 \\\n",
    "    -F 0.5 \\\n",
    "    -e \\\n",
    "| gzip -c \\\n",
    "> ${FP_OUT}\n",
    "\n",
    "### Show I/O file\n",
    "echo\n",
    "echo \"Output file: \" ${FP_OUT}\n",
    "echo\n",
    "echo \"Show the first few lines of the output file\"\n",
    "zcat ${FP_OUT} | head -n 3\n",
    "echo\n",
    "\n",
    "### print end message\n",
    "timer_stop=`date +%s`\n",
    "runtime=$(echo \"${timer_stop} - ${timer_start}\" | bc -l)\n",
    "echo\n",
    "echo 'Done!'\n",
    "echo \"Run Time: $(displaytime ${runtime})\"\n",
    "\n",
    "EOF"
   ]
  },
  {
   "cell_type": "markdown",
   "id": "9168a697-6eda-4934-baac-782ac2afc314",
   "metadata": {},
   "source": [
    "**Check results**"
   ]
  },
  {
   "cell_type": "code",
   "execution_count": 6,
   "id": "088f6542-3d95-4279-be61-29921ca7e615",
   "metadata": {},
   "outputs": [
    {
     "name": "stdout",
     "output_type": "stream",
     "text": [
      "Hostname:           x3-02-3.genome.duke.edu\n",
      "Slurm Array Index:  0\n",
      "Time Stamp:         03-19-23+13:31:20\n",
      "\n",
      "Input  file:  /data/reddylab/Kuei/out/proj_combeffect_encode_fcc/results/KS91_K562_ASTARRseq/fragment_count/KS91_K562_ASTARRseq.Input.rep1.WGS.unstranded.bed.gz\n",
      "\n",
      "Show the first few lines of the input file\n",
      "chr1\t10001\t10143\tchr1_10001_10143\t1\t.\n",
      "chr1\t10002\t10118\tchr1_10002_10118\t1\t.\n",
      "chr1\t10002\t10131\tchr1_10002_10131\t1\t.\n",
      "chr1\t10002\t10203\tchr1_10002_10203\t1\t.\n",
      "chr1\t10002\t10209\tchr1_10002_10209\t1\t.\n",
      "\n",
      "Input  file:  /data/reddylab/Kuei/out/proj_combeffect_encode_fcc/results/region/KS91_K562_ASTARRseq_peak_macs_input/KS91_K562_hg38_ASTARRseq_Input.all_reps.masked.union_narrowPeak.q5.bed\n",
      "\n",
      "Show the first few lines of the input file\n",
      "chr1\t10015\t10442\n",
      "chr1\t14253\t14645\n",
      "chr1\t16015\t16477\n",
      "\n",
      "Show the last few lines of the input file\n",
      "chrX\t156024950\t156025593\n",
      "chrX\t156030187\t156030740\n",
      "chrY\t11215098\t11215422\n",
      "\n",
      "\n",
      "Output file:  /data/reddylab/Kuei/out/proj_combeffect_encode_fcc/results/KS91_K562_ASTARRseq/coverage_astarrseq_peak_macs_input/KS91_K562_ASTARRseq.Input.rep1.WGS.unstranded.bed.gz\n",
      "\n",
      "Show the first few lines of the output file\n",
      "chr1\t10015\t10442\t155\n",
      "chr1\t14253\t14645\t110\n",
      "chr1\t16015\t16477\t141\n",
      "\n",
      "\n",
      "Done!\n",
      "Run Time: 4 minutes and 27 seconds\n"
     ]
    }
   ],
   "source": [
    "cat ${FD_LOG}/coverage_astarr_peak_macs_input_astarr.0.txt"
   ]
  },
  {
   "cell_type": "code",
   "execution_count": 7,
   "id": "69ea1f8d-53d0-4efc-af55-e692cf1aecc0",
   "metadata": {},
   "outputs": [
    {
     "name": "stdout",
     "output_type": "stream",
     "text": [
      "Hostname:           x2-08-4.genome.duke.edu\n",
      "Slurm Array Index:  9\n",
      "Time Stamp:         03-19-23+13:31:20\n",
      "\n",
      "Input  file:  /data/reddylab/Kuei/out/proj_combeffect_encode_fcc/results/KS91_K562_ASTARRseq/fragment_count/KS91_K562_ASTARRseq.Output.rep4.WGS.unstranded.bed.gz\n",
      "\n",
      "Show the first few lines of the input file\n",
      "chr1\t10033\t10130\tchr1_10033_10130\t1\t.\n",
      "chr1\t10057\t10233\tchr1_10057_10233\t3\t.\n",
      "chr1\t10104\t10345\tchr1_10104_10345\t1\t.\n",
      "chr1\t10116\t10461\tchr1_10116_10461\t1\t.\n",
      "chr1\t10147\t10430\tchr1_10147_10430\t1\t.\n",
      "\n",
      "Input  file:  /data/reddylab/Kuei/out/proj_combeffect_encode_fcc/results/region/KS91_K562_ASTARRseq_peak_macs_input/KS91_K562_hg38_ASTARRseq_Input.all_reps.masked.union_narrowPeak.q5.bed\n",
      "\n",
      "Show the first few lines of the input file\n",
      "chr1\t10015\t10442\n",
      "chr1\t14253\t14645\n",
      "chr1\t16015\t16477\n",
      "\n",
      "Show the last few lines of the input file\n",
      "chrX\t156024950\t156025593\n",
      "chrX\t156030187\t156030740\n",
      "chrY\t11215098\t11215422\n",
      "\n",
      "\n",
      "Output file:  /data/reddylab/Kuei/out/proj_combeffect_encode_fcc/results/KS91_K562_ASTARRseq/coverage_astarrseq_peak_macs_input/KS91_K562_ASTARRseq.Output.rep4.WGS.unstranded.bed.gz\n",
      "\n",
      "Show the first few lines of the output file\n",
      "chr1\t10015\t10442\t11\n",
      "chr1\t14253\t14645\t57\n",
      "chr1\t16015\t16477\t23\n",
      "\n",
      "\n",
      "Done!\n",
      "Run Time: 1 minutes and 56 seconds\n"
     ]
    }
   ],
   "source": [
    "cat ${FD_LOG}/coverage_astarr_peak_macs_input_astarr.9.txt"
   ]
  },
  {
   "cell_type": "code",
   "execution_count": null,
   "id": "bfea1cad-49a9-4378-83ca-45ef3a7c00a5",
   "metadata": {},
   "outputs": [],
   "source": []
  }
 ],
 "metadata": {
  "kernelspec": {
   "display_name": "Bash",
   "language": "bash",
   "name": "bash"
  },
  "language_info": {
   "codemirror_mode": "shell",
   "file_extension": ".sh",
   "mimetype": "text/x-sh",
   "name": "bash"
  }
 },
 "nbformat": 4,
 "nbformat_minor": 5
}
