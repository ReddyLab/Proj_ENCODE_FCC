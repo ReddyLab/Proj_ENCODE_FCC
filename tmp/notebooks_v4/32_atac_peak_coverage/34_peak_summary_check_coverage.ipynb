{
 "cells": [
  {
   "cell_type": "markdown",
   "metadata": {},
   "source": [
    "**Set environment**"
   ]
  },
  {
   "cell_type": "code",
   "execution_count": 12,
   "metadata": {},
   "outputs": [
    {
     "name": "stdout",
     "output_type": "stream",
     "text": [
      "You are in Singularity: singularity_proj_encode_fcc \n",
      "BASE DIRECTORY (FD_BASE): /data/reddylab/Kuei \n",
      "WORK DIRECTORY (FD_WORK): /data/reddylab/Kuei/out \n",
      "CODE DIRECTORY (FD_CODE): /data/reddylab/Kuei/code \n",
      "PATH OF PROJECT (FD_PRJ): /data/reddylab/Kuei/code/Proj_CombEffect_ENCODE_FCC \n",
      "PATH OF RESULTS (FD_RES): /data/reddylab/Kuei/out/proj_combeffect_encode_fcc \n",
      "PATH OF LOG     (FD_LOG): /data/reddylab/Kuei/out/proj_combeffect_encode_fcc/log \n"
     ]
    }
   ],
   "source": [
    "suppressMessages(suppressWarnings(source(\"../config/config_sing.R\")))\n",
    "suppressWarnings(suppressMessages(library(\"GenomicRanges\")))\n",
    "show_env()"
   ]
  },
  {
   "cell_type": "markdown",
   "metadata": {},
   "source": [
    "## Import data"
   ]
  },
  {
   "cell_type": "code",
   "execution_count": 3,
   "metadata": {},
   "outputs": [
    {
     "data": {
      "text/html": [
       "<style>\n",
       ".list-inline {list-style: none; margin:0; padding: 0}\n",
       ".list-inline>li {display: inline-block}\n",
       ".list-inline>li:not(:last-child)::after {content: \"\\00b7\"; padding: 0 .5ex}\n",
       "</style>\n",
       "<ol class=list-inline><li>'A001_K562_WSTARRseq'</li><li>'CRISPRi_FlowFISH'</li><li>'KS91_K562_ASTARRseq'</li><li>'region'</li><li>'Tewhey_K562_TileMPRA'</li></ol>\n"
      ],
      "text/latex": [
       "\\begin{enumerate*}\n",
       "\\item 'A001\\_K562\\_WSTARRseq'\n",
       "\\item 'CRISPRi\\_FlowFISH'\n",
       "\\item 'KS91\\_K562\\_ASTARRseq'\n",
       "\\item 'region'\n",
       "\\item 'Tewhey\\_K562\\_TileMPRA'\n",
       "\\end{enumerate*}\n"
      ],
      "text/markdown": [
       "1. 'A001_K562_WSTARRseq'\n",
       "2. 'CRISPRi_FlowFISH'\n",
       "3. 'KS91_K562_ASTARRseq'\n",
       "4. 'region'\n",
       "5. 'Tewhey_K562_TileMPRA'\n",
       "\n",
       "\n"
      ],
      "text/plain": [
       "[1] \"A001_K562_WSTARRseq\"  \"CRISPRi_FlowFISH\"     \"KS91_K562_ASTARRseq\" \n",
       "[4] \"region\"               \"Tewhey_K562_TileMPRA\""
      ]
     },
     "metadata": {},
     "output_type": "display_data"
    }
   ],
   "source": [
    "fdiry = file.path(FD_RES, \"results\")\n",
    "dir(fdiry)"
   ]
  },
  {
   "cell_type": "code",
   "execution_count": 7,
   "metadata": {},
   "outputs": [
    {
     "name": "stdout",
     "output_type": "stream",
     "text": [
      "[1] 246850      7\n"
     ]
    },
    {
     "data": {
      "text/html": [
       "<table class=\"dataframe\">\n",
       "<caption>A tibble: 6 × 7</caption>\n",
       "<thead>\n",
       "\t<tr><th scope=col>Peak</th><th scope=col>baseMean</th><th scope=col>log2FoldChange</th><th scope=col>lfcSE</th><th scope=col>stat</th><th scope=col>pvalue</th><th scope=col>padj</th></tr>\n",
       "\t<tr><th scope=col>&lt;chr&gt;</th><th scope=col>&lt;dbl&gt;</th><th scope=col>&lt;dbl&gt;</th><th scope=col>&lt;dbl&gt;</th><th scope=col>&lt;dbl&gt;</th><th scope=col>&lt;dbl&gt;</th><th scope=col>&lt;dbl&gt;</th></tr>\n",
       "</thead>\n",
       "<tbody>\n",
       "\t<tr><td>chr1_100006256_100006880</td><td> 74.39238</td><td>-0.01311792</td><td>0.15512423</td><td>-0.08456397</td><td>9.326080e-01</td><td>0.9510236543</td></tr>\n",
       "\t<tr><td>chr1_100010437_100010915</td><td> 48.25931</td><td>-0.80687947</td><td>0.22174651</td><td>-3.63874709</td><td>2.739677e-04</td><td>0.0008947519</td></tr>\n",
       "\t<tr><td>chr1_10002087_10003910  </td><td>224.35927</td><td>-0.34892859</td><td>0.09743886</td><td>-3.58100041</td><td>3.422811e-04</td><td>0.0010926173</td></tr>\n",
       "\t<tr><td>chr1_100021298_100021629</td><td> 38.13434</td><td>-1.03799571</td><td>0.25401013</td><td>-4.08643436</td><td>4.380534e-05</td><td>0.0001707736</td></tr>\n",
       "\t<tr><td>chr1_100023727_100023976</td><td> 32.62049</td><td>-0.19100207</td><td>0.25625467</td><td>-0.74536036</td><td>4.560539e-01</td><td>0.5497617125</td></tr>\n",
       "\t<tr><td>chr1_100027983_100029702</td><td>290.98442</td><td>-0.18001582</td><td>0.09610434</td><td>-1.87312902</td><td>6.105057e-02</td><td>0.1032752224</td></tr>\n",
       "</tbody>\n",
       "</table>\n"
      ],
      "text/latex": [
       "A tibble: 6 × 7\n",
       "\\begin{tabular}{lllllll}\n",
       " Peak & baseMean & log2FoldChange & lfcSE & stat & pvalue & padj\\\\\n",
       " <chr> & <dbl> & <dbl> & <dbl> & <dbl> & <dbl> & <dbl>\\\\\n",
       "\\hline\n",
       "\t chr1\\_100006256\\_100006880 &  74.39238 & -0.01311792 & 0.15512423 & -0.08456397 & 9.326080e-01 & 0.9510236543\\\\\n",
       "\t chr1\\_100010437\\_100010915 &  48.25931 & -0.80687947 & 0.22174651 & -3.63874709 & 2.739677e-04 & 0.0008947519\\\\\n",
       "\t chr1\\_10002087\\_10003910   & 224.35927 & -0.34892859 & 0.09743886 & -3.58100041 & 3.422811e-04 & 0.0010926173\\\\\n",
       "\t chr1\\_100021298\\_100021629 &  38.13434 & -1.03799571 & 0.25401013 & -4.08643436 & 4.380534e-05 & 0.0001707736\\\\\n",
       "\t chr1\\_100023727\\_100023976 &  32.62049 & -0.19100207 & 0.25625467 & -0.74536036 & 4.560539e-01 & 0.5497617125\\\\\n",
       "\t chr1\\_100027983\\_100029702 & 290.98442 & -0.18001582 & 0.09610434 & -1.87312902 & 6.105057e-02 & 0.1032752224\\\\\n",
       "\\end{tabular}\n"
      ],
      "text/markdown": [
       "\n",
       "A tibble: 6 × 7\n",
       "\n",
       "| Peak &lt;chr&gt; | baseMean &lt;dbl&gt; | log2FoldChange &lt;dbl&gt; | lfcSE &lt;dbl&gt; | stat &lt;dbl&gt; | pvalue &lt;dbl&gt; | padj &lt;dbl&gt; |\n",
       "|---|---|---|---|---|---|---|\n",
       "| chr1_100006256_100006880 |  74.39238 | -0.01311792 | 0.15512423 | -0.08456397 | 9.326080e-01 | 0.9510236543 |\n",
       "| chr1_100010437_100010915 |  48.25931 | -0.80687947 | 0.22174651 | -3.63874709 | 2.739677e-04 | 0.0008947519 |\n",
       "| chr1_10002087_10003910   | 224.35927 | -0.34892859 | 0.09743886 | -3.58100041 | 3.422811e-04 | 0.0010926173 |\n",
       "| chr1_100021298_100021629 |  38.13434 | -1.03799571 | 0.25401013 | -4.08643436 | 4.380534e-05 | 0.0001707736 |\n",
       "| chr1_100023727_100023976 |  32.62049 | -0.19100207 | 0.25625467 | -0.74536036 | 4.560539e-01 | 0.5497617125 |\n",
       "| chr1_100027983_100029702 | 290.98442 | -0.18001582 | 0.09610434 | -1.87312902 | 6.105057e-02 | 0.1032752224 |\n",
       "\n"
      ],
      "text/plain": [
       "  Peak                     baseMean  log2FoldChange lfcSE      stat       \n",
       "1 chr1_100006256_100006880  74.39238 -0.01311792    0.15512423 -0.08456397\n",
       "2 chr1_100010437_100010915  48.25931 -0.80687947    0.22174651 -3.63874709\n",
       "3 chr1_10002087_10003910   224.35927 -0.34892859    0.09743886 -3.58100041\n",
       "4 chr1_100021298_100021629  38.13434 -1.03799571    0.25401013 -4.08643436\n",
       "5 chr1_100023727_100023976  32.62049 -0.19100207    0.25625467 -0.74536036\n",
       "6 chr1_100027983_100029702 290.98442 -0.18001582    0.09610434 -1.87312902\n",
       "  pvalue       padj        \n",
       "1 9.326080e-01 0.9510236543\n",
       "2 2.739677e-04 0.0008947519\n",
       "3 3.422811e-04 0.0010926173\n",
       "4 4.380534e-05 0.0001707736\n",
       "5 4.560539e-01 0.5497617125\n",
       "6 6.105057e-02 0.1032752224"
      ]
     },
     "metadata": {},
     "output_type": "display_data"
    }
   ],
   "source": [
    "### init\n",
    "ASSAY  = \"KS91_K562_ASTARRseq\"\n",
    "FOLDER = \"coverage_astarrseq_peak_macs_input\"\n",
    "\n",
    "### set file path\n",
    "fdiry = file.path(FD_RES, \"results\", ASSAY, FOLDER, \"summary\")\n",
    "fname = \"result.Log2FC.raw.deseq.WGS.tsv\"\n",
    "fpath = file.path(fdiry, fname)\n",
    "\n",
    "### read data\n",
    "dat = read_tsv(fpath, show_col_types = FALSE)\n",
    "\n",
    "### assign and show\n",
    "dat_peak_log2fc_deseq_astarr = dat\n",
    "print(dim(dat))\n",
    "head(dat)"
   ]
  },
  {
   "cell_type": "code",
   "execution_count": 8,
   "metadata": {},
   "outputs": [
    {
     "name": "stdout",
     "output_type": "stream",
     "text": [
      "[1] 246688      7\n"
     ]
    },
    {
     "data": {
      "text/html": [
       "<table class=\"dataframe\">\n",
       "<caption>A tibble: 6 × 7</caption>\n",
       "<thead>\n",
       "\t<tr><th scope=col>Peak</th><th scope=col>baseMean</th><th scope=col>log2FoldChange</th><th scope=col>lfcSE</th><th scope=col>stat</th><th scope=col>pvalue</th><th scope=col>padj</th></tr>\n",
       "\t<tr><th scope=col>&lt;chr&gt;</th><th scope=col>&lt;dbl&gt;</th><th scope=col>&lt;dbl&gt;</th><th scope=col>&lt;dbl&gt;</th><th scope=col>&lt;dbl&gt;</th><th scope=col>&lt;dbl&gt;</th><th scope=col>&lt;dbl&gt;</th></tr>\n",
       "</thead>\n",
       "<tbody>\n",
       "\t<tr><td>chr1_100006256_100006880</td><td>54.500445</td><td>-0.48849764</td><td>0.1997784</td><td>-2.4451969</td><td>0.01447731</td><td>0.09534129</td></tr>\n",
       "\t<tr><td>chr1_100010437_100010915</td><td>30.645878</td><td>-0.30895395</td><td>0.2528932</td><td>-1.2216777</td><td>0.22182954</td><td>0.50094986</td></tr>\n",
       "\t<tr><td>chr1_10002087_10003910  </td><td>66.045530</td><td>-0.38624192</td><td>0.1730120</td><td>-2.2324569</td><td>0.02558478</td><td>0.14019267</td></tr>\n",
       "\t<tr><td>chr1_100021298_100021629</td><td> 8.289442</td><td>-0.59404974</td><td>0.4799400</td><td>-1.2377583</td><td>0.21580568</td><td>        NA</td></tr>\n",
       "\t<tr><td>chr1_100023727_100023976</td><td>12.258468</td><td> 0.04988694</td><td>0.4075494</td><td> 0.1224071</td><td>0.90257663</td><td>0.96366009</td></tr>\n",
       "\t<tr><td>chr1_100027983_100029702</td><td>80.536286</td><td>-0.22927538</td><td>0.1665249</td><td>-1.3768236</td><td>0.16856680</td><td>0.43305688</td></tr>\n",
       "</tbody>\n",
       "</table>\n"
      ],
      "text/latex": [
       "A tibble: 6 × 7\n",
       "\\begin{tabular}{lllllll}\n",
       " Peak & baseMean & log2FoldChange & lfcSE & stat & pvalue & padj\\\\\n",
       " <chr> & <dbl> & <dbl> & <dbl> & <dbl> & <dbl> & <dbl>\\\\\n",
       "\\hline\n",
       "\t chr1\\_100006256\\_100006880 & 54.500445 & -0.48849764 & 0.1997784 & -2.4451969 & 0.01447731 & 0.09534129\\\\\n",
       "\t chr1\\_100010437\\_100010915 & 30.645878 & -0.30895395 & 0.2528932 & -1.2216777 & 0.22182954 & 0.50094986\\\\\n",
       "\t chr1\\_10002087\\_10003910   & 66.045530 & -0.38624192 & 0.1730120 & -2.2324569 & 0.02558478 & 0.14019267\\\\\n",
       "\t chr1\\_100021298\\_100021629 &  8.289442 & -0.59404974 & 0.4799400 & -1.2377583 & 0.21580568 &         NA\\\\\n",
       "\t chr1\\_100023727\\_100023976 & 12.258468 &  0.04988694 & 0.4075494 &  0.1224071 & 0.90257663 & 0.96366009\\\\\n",
       "\t chr1\\_100027983\\_100029702 & 80.536286 & -0.22927538 & 0.1665249 & -1.3768236 & 0.16856680 & 0.43305688\\\\\n",
       "\\end{tabular}\n"
      ],
      "text/markdown": [
       "\n",
       "A tibble: 6 × 7\n",
       "\n",
       "| Peak &lt;chr&gt; | baseMean &lt;dbl&gt; | log2FoldChange &lt;dbl&gt; | lfcSE &lt;dbl&gt; | stat &lt;dbl&gt; | pvalue &lt;dbl&gt; | padj &lt;dbl&gt; |\n",
       "|---|---|---|---|---|---|---|\n",
       "| chr1_100006256_100006880 | 54.500445 | -0.48849764 | 0.1997784 | -2.4451969 | 0.01447731 | 0.09534129 |\n",
       "| chr1_100010437_100010915 | 30.645878 | -0.30895395 | 0.2528932 | -1.2216777 | 0.22182954 | 0.50094986 |\n",
       "| chr1_10002087_10003910   | 66.045530 | -0.38624192 | 0.1730120 | -2.2324569 | 0.02558478 | 0.14019267 |\n",
       "| chr1_100021298_100021629 |  8.289442 | -0.59404974 | 0.4799400 | -1.2377583 | 0.21580568 |         NA |\n",
       "| chr1_100023727_100023976 | 12.258468 |  0.04988694 | 0.4075494 |  0.1224071 | 0.90257663 | 0.96366009 |\n",
       "| chr1_100027983_100029702 | 80.536286 | -0.22927538 | 0.1665249 | -1.3768236 | 0.16856680 | 0.43305688 |\n",
       "\n"
      ],
      "text/plain": [
       "  Peak                     baseMean  log2FoldChange lfcSE     stat      \n",
       "1 chr1_100006256_100006880 54.500445 -0.48849764    0.1997784 -2.4451969\n",
       "2 chr1_100010437_100010915 30.645878 -0.30895395    0.2528932 -1.2216777\n",
       "3 chr1_10002087_10003910   66.045530 -0.38624192    0.1730120 -2.2324569\n",
       "4 chr1_100021298_100021629  8.289442 -0.59404974    0.4799400 -1.2377583\n",
       "5 chr1_100023727_100023976 12.258468  0.04988694    0.4075494  0.1224071\n",
       "6 chr1_100027983_100029702 80.536286 -0.22927538    0.1665249 -1.3768236\n",
       "  pvalue     padj      \n",
       "1 0.01447731 0.09534129\n",
       "2 0.22182954 0.50094986\n",
       "3 0.02558478 0.14019267\n",
       "4 0.21580568         NA\n",
       "5 0.90257663 0.96366009\n",
       "6 0.16856680 0.43305688"
      ]
     },
     "metadata": {},
     "output_type": "display_data"
    }
   ],
   "source": [
    "### init\n",
    "ASSAY  = \"A001_K562_WSTARRseq\"\n",
    "FOLDER = \"coverage_astarrseq_peak_macs_input\"\n",
    "\n",
    "### set file path\n",
    "fdiry = file.path(FD_RES, \"results\", ASSAY, FOLDER, \"summary\")\n",
    "fname = \"result.Log2FC.raw.deseq.WGS.tsv\"\n",
    "fpath = file.path(fdiry, fname)\n",
    "\n",
    "### read data\n",
    "dat = read_tsv(fpath, show_col_types = FALSE)\n",
    "\n",
    "### assign and show\n",
    "dat_peak_log2fc_deseq_wstarr = dat\n",
    "print(dim(dat))\n",
    "head(dat)"
   ]
  },
  {
   "cell_type": "code",
   "execution_count": 9,
   "metadata": {},
   "outputs": [
    {
     "name": "stdout",
     "output_type": "stream",
     "text": [
      "[1] 1722    8\n"
     ]
    },
    {
     "data": {
      "text/html": [
       "<table class=\"dataframe\">\n",
       "<caption>A tibble: 6 × 8</caption>\n",
       "<thead>\n",
       "\t<tr><th scope=col>Dataset</th><th scope=col>Peak</th><th scope=col>baseMean</th><th scope=col>log2FoldChange</th><th scope=col>lfcSE</th><th scope=col>stat</th><th scope=col>pvalue</th><th scope=col>padj</th></tr>\n",
       "\t<tr><th scope=col>&lt;chr&gt;</th><th scope=col>&lt;chr&gt;</th><th scope=col>&lt;dbl&gt;</th><th scope=col>&lt;dbl&gt;</th><th scope=col>&lt;dbl&gt;</th><th scope=col>&lt;dbl&gt;</th><th scope=col>&lt;dbl&gt;</th><th scope=col>&lt;dbl&gt;</th></tr>\n",
       "</thead>\n",
       "<tbody>\n",
       "\t<tr><td>OL13</td><td>chr11_61792068_61793464</td><td>260242.12</td><td> 1.6665654</td><td>0.03671583</td><td> 45.390919</td><td>0.000000e+00</td><td>0.000000e+00</td></tr>\n",
       "\t<tr><td>OL13</td><td>chr11_61800085_61801113</td><td>216437.58</td><td> 1.8554038</td><td>0.04389284</td><td> 42.271214</td><td>0.000000e+00</td><td>0.000000e+00</td></tr>\n",
       "\t<tr><td>OL13</td><td>chr11_61806630_61807154</td><td> 49327.33</td><td>-1.3562271</td><td>0.07733082</td><td>-17.537989</td><td>7.348170e-69</td><td>1.347165e-68</td></tr>\n",
       "\t<tr><td>OL13</td><td>chr11_61814735_61817343</td><td>682819.52</td><td> 2.5310145</td><td>0.03600593</td><td> 70.294376</td><td>0.000000e+00</td><td>0.000000e+00</td></tr>\n",
       "\t<tr><td>OL13</td><td>chr11_61822094_61822443</td><td> 20363.10</td><td>-1.7731459</td><td>0.16511332</td><td>-10.738963</td><td>6.679004e-27</td><td>8.163227e-27</td></tr>\n",
       "\t<tr><td>OL13</td><td>chr11_61825795_61826306</td><td> 29539.40</td><td>-0.3921375</td><td>0.05359585</td><td> -7.316565</td><td>2.543988e-13</td><td>2.665130e-13</td></tr>\n",
       "</tbody>\n",
       "</table>\n"
      ],
      "text/latex": [
       "A tibble: 6 × 8\n",
       "\\begin{tabular}{llllllll}\n",
       " Dataset & Peak & baseMean & log2FoldChange & lfcSE & stat & pvalue & padj\\\\\n",
       " <chr> & <chr> & <dbl> & <dbl> & <dbl> & <dbl> & <dbl> & <dbl>\\\\\n",
       "\\hline\n",
       "\t OL13 & chr11\\_61792068\\_61793464 & 260242.12 &  1.6665654 & 0.03671583 &  45.390919 & 0.000000e+00 & 0.000000e+00\\\\\n",
       "\t OL13 & chr11\\_61800085\\_61801113 & 216437.58 &  1.8554038 & 0.04389284 &  42.271214 & 0.000000e+00 & 0.000000e+00\\\\\n",
       "\t OL13 & chr11\\_61806630\\_61807154 &  49327.33 & -1.3562271 & 0.07733082 & -17.537989 & 7.348170e-69 & 1.347165e-68\\\\\n",
       "\t OL13 & chr11\\_61814735\\_61817343 & 682819.52 &  2.5310145 & 0.03600593 &  70.294376 & 0.000000e+00 & 0.000000e+00\\\\\n",
       "\t OL13 & chr11\\_61822094\\_61822443 &  20363.10 & -1.7731459 & 0.16511332 & -10.738963 & 6.679004e-27 & 8.163227e-27\\\\\n",
       "\t OL13 & chr11\\_61825795\\_61826306 &  29539.40 & -0.3921375 & 0.05359585 &  -7.316565 & 2.543988e-13 & 2.665130e-13\\\\\n",
       "\\end{tabular}\n"
      ],
      "text/markdown": [
       "\n",
       "A tibble: 6 × 8\n",
       "\n",
       "| Dataset &lt;chr&gt; | Peak &lt;chr&gt; | baseMean &lt;dbl&gt; | log2FoldChange &lt;dbl&gt; | lfcSE &lt;dbl&gt; | stat &lt;dbl&gt; | pvalue &lt;dbl&gt; | padj &lt;dbl&gt; |\n",
       "|---|---|---|---|---|---|---|---|\n",
       "| OL13 | chr11_61792068_61793464 | 260242.12 |  1.6665654 | 0.03671583 |  45.390919 | 0.000000e+00 | 0.000000e+00 |\n",
       "| OL13 | chr11_61800085_61801113 | 216437.58 |  1.8554038 | 0.04389284 |  42.271214 | 0.000000e+00 | 0.000000e+00 |\n",
       "| OL13 | chr11_61806630_61807154 |  49327.33 | -1.3562271 | 0.07733082 | -17.537989 | 7.348170e-69 | 1.347165e-68 |\n",
       "| OL13 | chr11_61814735_61817343 | 682819.52 |  2.5310145 | 0.03600593 |  70.294376 | 0.000000e+00 | 0.000000e+00 |\n",
       "| OL13 | chr11_61822094_61822443 |  20363.10 | -1.7731459 | 0.16511332 | -10.738963 | 6.679004e-27 | 8.163227e-27 |\n",
       "| OL13 | chr11_61825795_61826306 |  29539.40 | -0.3921375 | 0.05359585 |  -7.316565 | 2.543988e-13 | 2.665130e-13 |\n",
       "\n"
      ],
      "text/plain": [
       "  Dataset Peak                    baseMean  log2FoldChange lfcSE     \n",
       "1 OL13    chr11_61792068_61793464 260242.12  1.6665654     0.03671583\n",
       "2 OL13    chr11_61800085_61801113 216437.58  1.8554038     0.04389284\n",
       "3 OL13    chr11_61806630_61807154  49327.33 -1.3562271     0.07733082\n",
       "4 OL13    chr11_61814735_61817343 682819.52  2.5310145     0.03600593\n",
       "5 OL13    chr11_61822094_61822443  20363.10 -1.7731459     0.16511332\n",
       "6 OL13    chr11_61825795_61826306  29539.40 -0.3921375     0.05359585\n",
       "  stat       pvalue       padj        \n",
       "1  45.390919 0.000000e+00 0.000000e+00\n",
       "2  42.271214 0.000000e+00 0.000000e+00\n",
       "3 -17.537989 7.348170e-69 1.347165e-68\n",
       "4  70.294376 0.000000e+00 0.000000e+00\n",
       "5 -10.738963 6.679004e-27 8.163227e-27\n",
       "6  -7.316565 2.543988e-13 2.665130e-13"
      ]
     },
     "metadata": {},
     "output_type": "display_data"
    }
   ],
   "source": [
    "### init\n",
    "ASSAY  = \"Tewhey_K562_TileMPRA\"\n",
    "FOLDER = \"coverage_astarrseq_peak_macs_input\"\n",
    "\n",
    "### set file path\n",
    "fdiry = file.path(FD_RES, \"results\", ASSAY, FOLDER, \"summary\")\n",
    "fname = \"result.Log2FC.raw.deseq.Merge.tsv\"\n",
    "fpath = file.path(fdiry, fname)\n",
    "\n",
    "### read data\n",
    "dat = read_tsv(fpath, show_col_types = FALSE)\n",
    "\n",
    "### assign and show\n",
    "dat_peak_log2fc_deseq_tmpra = dat\n",
    "print(dim(dat))\n",
    "head(dat)"
   ]
  },
  {
   "cell_type": "code",
   "execution_count": 10,
   "metadata": {},
   "outputs": [
    {
     "name": "stderr",
     "output_type": "stream",
     "text": [
      "\u001b[1mRows: \u001b[22m\u001b[34m247520\u001b[39m \u001b[1mColumns: \u001b[22m\u001b[34m3\u001b[39m\n",
      "\u001b[36m──\u001b[39m \u001b[1mColumn specification\u001b[22m \u001b[36m───────────────────────────────────────────────────────────────────────\u001b[39m\n",
      "\u001b[1mDelimiter:\u001b[22m \"\\t\"\n",
      "\u001b[31mchr\u001b[39m (1): Chrom\n",
      "\u001b[32mdbl\u001b[39m (2): Start, End\n",
      "\n",
      "\u001b[36mℹ\u001b[39m Use `spec()` to retrieve the full column specification for this data.\n",
      "\u001b[36mℹ\u001b[39m Specify the column types or set `show_col_types = FALSE` to quiet this message.\n"
     ]
    },
    {
     "name": "stdout",
     "output_type": "stream",
     "text": [
      "[1] 247520      5\n"
     ]
    },
    {
     "data": {
      "text/html": [
       "<table class=\"dataframe\">\n",
       "<caption>A tibble: 6 × 5</caption>\n",
       "<thead>\n",
       "\t<tr><th scope=col>Chrom</th><th scope=col>Start</th><th scope=col>End</th><th scope=col>Peak</th><th scope=col>Length</th></tr>\n",
       "\t<tr><th scope=col>&lt;chr&gt;</th><th scope=col>&lt;dbl&gt;</th><th scope=col>&lt;dbl&gt;</th><th scope=col>&lt;chr&gt;</th><th scope=col>&lt;dbl&gt;</th></tr>\n",
       "</thead>\n",
       "<tbody>\n",
       "\t<tr><td>chr1</td><td>10015</td><td>10442</td><td>chr1_10015_10442</td><td>427</td></tr>\n",
       "\t<tr><td>chr1</td><td>14253</td><td>14645</td><td>chr1_14253_14645</td><td>392</td></tr>\n",
       "\t<tr><td>chr1</td><td>16015</td><td>16477</td><td>chr1_16015_16477</td><td>462</td></tr>\n",
       "\t<tr><td>chr1</td><td>17237</td><td>17772</td><td>chr1_17237_17772</td><td>535</td></tr>\n",
       "\t<tr><td>chr1</td><td>28903</td><td>29613</td><td>chr1_28903_29613</td><td>710</td></tr>\n",
       "\t<tr><td>chr1</td><td>30803</td><td>31072</td><td>chr1_30803_31072</td><td>269</td></tr>\n",
       "</tbody>\n",
       "</table>\n"
      ],
      "text/latex": [
       "A tibble: 6 × 5\n",
       "\\begin{tabular}{lllll}\n",
       " Chrom & Start & End & Peak & Length\\\\\n",
       " <chr> & <dbl> & <dbl> & <chr> & <dbl>\\\\\n",
       "\\hline\n",
       "\t chr1 & 10015 & 10442 & chr1\\_10015\\_10442 & 427\\\\\n",
       "\t chr1 & 14253 & 14645 & chr1\\_14253\\_14645 & 392\\\\\n",
       "\t chr1 & 16015 & 16477 & chr1\\_16015\\_16477 & 462\\\\\n",
       "\t chr1 & 17237 & 17772 & chr1\\_17237\\_17772 & 535\\\\\n",
       "\t chr1 & 28903 & 29613 & chr1\\_28903\\_29613 & 710\\\\\n",
       "\t chr1 & 30803 & 31072 & chr1\\_30803\\_31072 & 269\\\\\n",
       "\\end{tabular}\n"
      ],
      "text/markdown": [
       "\n",
       "A tibble: 6 × 5\n",
       "\n",
       "| Chrom &lt;chr&gt; | Start &lt;dbl&gt; | End &lt;dbl&gt; | Peak &lt;chr&gt; | Length &lt;dbl&gt; |\n",
       "|---|---|---|---|---|\n",
       "| chr1 | 10015 | 10442 | chr1_10015_10442 | 427 |\n",
       "| chr1 | 14253 | 14645 | chr1_14253_14645 | 392 |\n",
       "| chr1 | 16015 | 16477 | chr1_16015_16477 | 462 |\n",
       "| chr1 | 17237 | 17772 | chr1_17237_17772 | 535 |\n",
       "| chr1 | 28903 | 29613 | chr1_28903_29613 | 710 |\n",
       "| chr1 | 30803 | 31072 | chr1_30803_31072 | 269 |\n",
       "\n"
      ],
      "text/plain": [
       "  Chrom Start End   Peak             Length\n",
       "1 chr1  10015 10442 chr1_10015_10442 427   \n",
       "2 chr1  14253 14645 chr1_14253_14645 392   \n",
       "3 chr1  16015 16477 chr1_16015_16477 462   \n",
       "4 chr1  17237 17772 chr1_17237_17772 535   \n",
       "5 chr1  28903 29613 chr1_28903_29613 710   \n",
       "6 chr1  30803 31072 chr1_30803_31072 269   "
      ]
     },
     "metadata": {},
     "output_type": "display_data"
    }
   ],
   "source": [
    "fdiry = file.path(FD_RES, \"results\", \"region\", \"KS91_K562_ASTARRseq_peak_macs_input\")\n",
    "fname = \"KS91_K562_hg38_ASTARRseq_Input.all_reps.masked.union_narrowPeak.q5.bed\"\n",
    "fpath = file.path(fdiry, fname)\n",
    "\n",
    "cnames = c(\"Chrom\", \"Start\", \"End\")\n",
    "dat = read_tsv(fpath, col_names = cnames)\n",
    "dat = dat %>%\n",
    "    dplyr::mutate(\n",
    "        Peak   = paste(Chrom, Start, End, sep=\"_\"),\n",
    "        Length = End - Start\n",
    "    )\n",
    "\n",
    "dat_peak_atac_wgs = dat\n",
    "print(dim(dat))\n",
    "head(dat)"
   ]
  },
  {
   "cell_type": "code",
   "execution_count": 19,
   "metadata": {},
   "outputs": [
    {
     "name": "stdout",
     "output_type": "stream",
     "text": [
      "[1] \"/data/reddylab/Kuei/out/proj_combeffect_encode_fcc/results/region/region_screened_tmpra.bed\"\n",
      "[1] 8 4\n"
     ]
    },
    {
     "data": {
      "text/html": [
       "<table class=\"dataframe\">\n",
       "<caption>A tibble: 6 × 4</caption>\n",
       "<thead>\n",
       "\t<tr><th scope=col>Chrom</th><th scope=col>Start</th><th scope=col>End</th><th scope=col>Gene</th></tr>\n",
       "\t<tr><th scope=col>&lt;chr&gt;</th><th scope=col>&lt;dbl&gt;</th><th scope=col>&lt;dbl&gt;</th><th scope=col>&lt;chr&gt;</th></tr>\n",
       "</thead>\n",
       "<tbody>\n",
       "\t<tr><td>chr11</td><td> 4505501</td><td> 6505900</td><td>HBE1  </td></tr>\n",
       "\t<tr><td>chr11</td><td>32869701</td><td>34870100</td><td>LMO2  </td></tr>\n",
       "\t<tr><td>chr11</td><td>61787329</td><td>61898348</td><td>FADS  </td></tr>\n",
       "\t<tr><td>chr16</td><td>   10001</td><td> 1173100</td><td>HBA2  </td></tr>\n",
       "\t<tr><td>chr2 </td><td>59553301</td><td>61553700</td><td>BCL11A</td></tr>\n",
       "\t<tr><td>chr20</td><td>56391301</td><td>58391700</td><td>RBM38 </td></tr>\n",
       "</tbody>\n",
       "</table>\n"
      ],
      "text/latex": [
       "A tibble: 6 × 4\n",
       "\\begin{tabular}{llll}\n",
       " Chrom & Start & End & Gene\\\\\n",
       " <chr> & <dbl> & <dbl> & <chr>\\\\\n",
       "\\hline\n",
       "\t chr11 &  4505501 &  6505900 & HBE1  \\\\\n",
       "\t chr11 & 32869701 & 34870100 & LMO2  \\\\\n",
       "\t chr11 & 61787329 & 61898348 & FADS  \\\\\n",
       "\t chr16 &    10001 &  1173100 & HBA2  \\\\\n",
       "\t chr2  & 59553301 & 61553700 & BCL11A\\\\\n",
       "\t chr20 & 56391301 & 58391700 & RBM38 \\\\\n",
       "\\end{tabular}\n"
      ],
      "text/markdown": [
       "\n",
       "A tibble: 6 × 4\n",
       "\n",
       "| Chrom &lt;chr&gt; | Start &lt;dbl&gt; | End &lt;dbl&gt; | Gene &lt;chr&gt; |\n",
       "|---|---|---|---|\n",
       "| chr11 |  4505501 |  6505900 | HBE1   |\n",
       "| chr11 | 32869701 | 34870100 | LMO2   |\n",
       "| chr11 | 61787329 | 61898348 | FADS   |\n",
       "| chr16 |    10001 |  1173100 | HBA2   |\n",
       "| chr2  | 59553301 | 61553700 | BCL11A |\n",
       "| chr20 | 56391301 | 58391700 | RBM38  |\n",
       "\n"
      ],
      "text/plain": [
       "  Chrom Start    End      Gene  \n",
       "1 chr11  4505501  6505900 HBE1  \n",
       "2 chr11 32869701 34870100 LMO2  \n",
       "3 chr11 61787329 61898348 FADS  \n",
       "4 chr16    10001  1173100 HBA2  \n",
       "5 chr2  59553301 61553700 BCL11A\n",
       "6 chr20 56391301 58391700 RBM38 "
      ]
     },
     "metadata": {},
     "output_type": "display_data"
    }
   ],
   "source": [
    "fdiry = file.path(FD_RES, \"results\", \"region\")\n",
    "fname = \"region_screened_tmpra.bed\"\n",
    "fpath = file.path(fdiry, fname)\n",
    "print(fpath)\n",
    "\n",
    "cnames = c(\"Chrom\", \"Start\", \"End\", \"Gene\")\n",
    "dat = read_tsv(fpath, col_names = cnames, show_col_types = FALSE)\n",
    "\n",
    "dat_range_tmpra = dat\n",
    "print(dim(dat))\n",
    "head(dat)"
   ]
  },
  {
   "cell_type": "code",
   "execution_count": null,
   "metadata": {},
   "outputs": [],
   "source": []
  },
  {
   "cell_type": "code",
   "execution_count": null,
   "metadata": {},
   "outputs": [],
   "source": []
  },
  {
   "cell_type": "code",
   "execution_count": null,
   "metadata": {},
   "outputs": [],
   "source": []
  },
  {
   "cell_type": "code",
   "execution_count": 14,
   "metadata": {},
   "outputs": [
    {
     "name": "stdout",
     "output_type": "stream",
     "text": [
      "[1] 246850      5\n"
     ]
    },
    {
     "data": {
      "text/html": [
       "<table class=\"dataframe\">\n",
       "<caption>A tibble: 6 × 5</caption>\n",
       "<thead>\n",
       "\t<tr><th scope=col>Chrom</th><th scope=col>Start</th><th scope=col>End</th><th scope=col>Peak</th><th scope=col>Length</th></tr>\n",
       "\t<tr><th scope=col>&lt;chr&gt;</th><th scope=col>&lt;dbl&gt;</th><th scope=col>&lt;dbl&gt;</th><th scope=col>&lt;chr&gt;</th><th scope=col>&lt;dbl&gt;</th></tr>\n",
       "</thead>\n",
       "<tbody>\n",
       "\t<tr><td>chr1</td><td>10015</td><td>10442</td><td>chr1_10015_10442</td><td>427</td></tr>\n",
       "\t<tr><td>chr1</td><td>14253</td><td>14645</td><td>chr1_14253_14645</td><td>392</td></tr>\n",
       "\t<tr><td>chr1</td><td>16015</td><td>16477</td><td>chr1_16015_16477</td><td>462</td></tr>\n",
       "\t<tr><td>chr1</td><td>17237</td><td>17772</td><td>chr1_17237_17772</td><td>535</td></tr>\n",
       "\t<tr><td>chr1</td><td>28903</td><td>29613</td><td>chr1_28903_29613</td><td>710</td></tr>\n",
       "\t<tr><td>chr1</td><td>30803</td><td>31072</td><td>chr1_30803_31072</td><td>269</td></tr>\n",
       "</tbody>\n",
       "</table>\n"
      ],
      "text/latex": [
       "A tibble: 6 × 5\n",
       "\\begin{tabular}{lllll}\n",
       " Chrom & Start & End & Peak & Length\\\\\n",
       " <chr> & <dbl> & <dbl> & <chr> & <dbl>\\\\\n",
       "\\hline\n",
       "\t chr1 & 10015 & 10442 & chr1\\_10015\\_10442 & 427\\\\\n",
       "\t chr1 & 14253 & 14645 & chr1\\_14253\\_14645 & 392\\\\\n",
       "\t chr1 & 16015 & 16477 & chr1\\_16015\\_16477 & 462\\\\\n",
       "\t chr1 & 17237 & 17772 & chr1\\_17237\\_17772 & 535\\\\\n",
       "\t chr1 & 28903 & 29613 & chr1\\_28903\\_29613 & 710\\\\\n",
       "\t chr1 & 30803 & 31072 & chr1\\_30803\\_31072 & 269\\\\\n",
       "\\end{tabular}\n"
      ],
      "text/markdown": [
       "\n",
       "A tibble: 6 × 5\n",
       "\n",
       "| Chrom &lt;chr&gt; | Start &lt;dbl&gt; | End &lt;dbl&gt; | Peak &lt;chr&gt; | Length &lt;dbl&gt; |\n",
       "|---|---|---|---|---|\n",
       "| chr1 | 10015 | 10442 | chr1_10015_10442 | 427 |\n",
       "| chr1 | 14253 | 14645 | chr1_14253_14645 | 392 |\n",
       "| chr1 | 16015 | 16477 | chr1_16015_16477 | 462 |\n",
       "| chr1 | 17237 | 17772 | chr1_17237_17772 | 535 |\n",
       "| chr1 | 28903 | 29613 | chr1_28903_29613 | 710 |\n",
       "| chr1 | 30803 | 31072 | chr1_30803_31072 | 269 |\n",
       "\n"
      ],
      "text/plain": [
       "  Chrom Start End   Peak             Length\n",
       "1 chr1  10015 10442 chr1_10015_10442 427   \n",
       "2 chr1  14253 14645 chr1_14253_14645 392   \n",
       "3 chr1  16015 16477 chr1_16015_16477 462   \n",
       "4 chr1  17237 17772 chr1_17237_17772 535   \n",
       "5 chr1  28903 29613 chr1_28903_29613 710   \n",
       "6 chr1  30803 31072 chr1_30803_31072 269   "
      ]
     },
     "metadata": {},
     "output_type": "display_data"
    }
   ],
   "source": [
    "vec = dat_peak_log2fc_deseq_astarr$Peak\n",
    "dat = dat_peak_atac_wgs\n",
    "dat = dat %>% dplyr::filter(Peak %in% vec)\n",
    "\n",
    "dat_peak_astarr = dat \n",
    "print(dim(dat))\n",
    "head(dat)"
   ]
  },
  {
   "cell_type": "code",
   "execution_count": 15,
   "metadata": {},
   "outputs": [
    {
     "name": "stdout",
     "output_type": "stream",
     "text": [
      "[1] 246688      5\n"
     ]
    },
    {
     "data": {
      "text/html": [
       "<table class=\"dataframe\">\n",
       "<caption>A tibble: 6 × 5</caption>\n",
       "<thead>\n",
       "\t<tr><th scope=col>Chrom</th><th scope=col>Start</th><th scope=col>End</th><th scope=col>Peak</th><th scope=col>Length</th></tr>\n",
       "\t<tr><th scope=col>&lt;chr&gt;</th><th scope=col>&lt;dbl&gt;</th><th scope=col>&lt;dbl&gt;</th><th scope=col>&lt;chr&gt;</th><th scope=col>&lt;dbl&gt;</th></tr>\n",
       "</thead>\n",
       "<tbody>\n",
       "\t<tr><td>chr1</td><td> 16015</td><td> 16477</td><td>chr1_16015_16477  </td><td> 462</td></tr>\n",
       "\t<tr><td>chr1</td><td> 17237</td><td> 17772</td><td>chr1_17237_17772  </td><td> 535</td></tr>\n",
       "\t<tr><td>chr1</td><td> 28903</td><td> 29613</td><td>chr1_28903_29613  </td><td> 710</td></tr>\n",
       "\t<tr><td>chr1</td><td>115411</td><td>115986</td><td>chr1_115411_115986</td><td> 575</td></tr>\n",
       "\t<tr><td>chr1</td><td>136071</td><td>137429</td><td>chr1_136071_137429</td><td>1358</td></tr>\n",
       "\t<tr><td>chr1</td><td>137737</td><td>139544</td><td>chr1_137737_139544</td><td>1807</td></tr>\n",
       "</tbody>\n",
       "</table>\n"
      ],
      "text/latex": [
       "A tibble: 6 × 5\n",
       "\\begin{tabular}{lllll}\n",
       " Chrom & Start & End & Peak & Length\\\\\n",
       " <chr> & <dbl> & <dbl> & <chr> & <dbl>\\\\\n",
       "\\hline\n",
       "\t chr1 &  16015 &  16477 & chr1\\_16015\\_16477   &  462\\\\\n",
       "\t chr1 &  17237 &  17772 & chr1\\_17237\\_17772   &  535\\\\\n",
       "\t chr1 &  28903 &  29613 & chr1\\_28903\\_29613   &  710\\\\\n",
       "\t chr1 & 115411 & 115986 & chr1\\_115411\\_115986 &  575\\\\\n",
       "\t chr1 & 136071 & 137429 & chr1\\_136071\\_137429 & 1358\\\\\n",
       "\t chr1 & 137737 & 139544 & chr1\\_137737\\_139544 & 1807\\\\\n",
       "\\end{tabular}\n"
      ],
      "text/markdown": [
       "\n",
       "A tibble: 6 × 5\n",
       "\n",
       "| Chrom &lt;chr&gt; | Start &lt;dbl&gt; | End &lt;dbl&gt; | Peak &lt;chr&gt; | Length &lt;dbl&gt; |\n",
       "|---|---|---|---|---|\n",
       "| chr1 |  16015 |  16477 | chr1_16015_16477   |  462 |\n",
       "| chr1 |  17237 |  17772 | chr1_17237_17772   |  535 |\n",
       "| chr1 |  28903 |  29613 | chr1_28903_29613   |  710 |\n",
       "| chr1 | 115411 | 115986 | chr1_115411_115986 |  575 |\n",
       "| chr1 | 136071 | 137429 | chr1_136071_137429 | 1358 |\n",
       "| chr1 | 137737 | 139544 | chr1_137737_139544 | 1807 |\n",
       "\n"
      ],
      "text/plain": [
       "  Chrom Start  End    Peak               Length\n",
       "1 chr1   16015  16477 chr1_16015_16477    462  \n",
       "2 chr1   17237  17772 chr1_17237_17772    535  \n",
       "3 chr1   28903  29613 chr1_28903_29613    710  \n",
       "4 chr1  115411 115986 chr1_115411_115986  575  \n",
       "5 chr1  136071 137429 chr1_136071_137429 1358  \n",
       "6 chr1  137737 139544 chr1_137737_139544 1807  "
      ]
     },
     "metadata": {},
     "output_type": "display_data"
    }
   ],
   "source": [
    "vec = dat_peak_log2fc_deseq_wstarr$Peak\n",
    "dat = dat_peak_atac_wgs\n",
    "dat = dat %>% dplyr::filter(Peak %in% vec)\n",
    "\n",
    "dat_peak_wstarr = dat \n",
    "print(dim(dat))\n",
    "head(dat)"
   ]
  },
  {
   "cell_type": "code",
   "execution_count": 16,
   "metadata": {},
   "outputs": [
    {
     "name": "stdout",
     "output_type": "stream",
     "text": [
      "[1] 1722    5\n"
     ]
    },
    {
     "data": {
      "text/html": [
       "<table class=\"dataframe\">\n",
       "<caption>A tibble: 6 × 5</caption>\n",
       "<thead>\n",
       "\t<tr><th scope=col>Chrom</th><th scope=col>Start</th><th scope=col>End</th><th scope=col>Peak</th><th scope=col>Length</th></tr>\n",
       "\t<tr><th scope=col>&lt;chr&gt;</th><th scope=col>&lt;dbl&gt;</th><th scope=col>&lt;dbl&gt;</th><th scope=col>&lt;chr&gt;</th><th scope=col>&lt;dbl&gt;</th></tr>\n",
       "</thead>\n",
       "<tbody>\n",
       "\t<tr><td>chr11</td><td>4539569</td><td>4540043</td><td>chr11_4539569_4540043</td><td> 474</td></tr>\n",
       "\t<tr><td>chr11</td><td>4551336</td><td>4552012</td><td>chr11_4551336_4552012</td><td> 676</td></tr>\n",
       "\t<tr><td>chr11</td><td>4553969</td><td>4555012</td><td>chr11_4553969_4555012</td><td>1043</td></tr>\n",
       "\t<tr><td>chr11</td><td>4569016</td><td>4569992</td><td>chr11_4569016_4569992</td><td> 976</td></tr>\n",
       "\t<tr><td>chr11</td><td>4577444</td><td>4578031</td><td>chr11_4577444_4578031</td><td> 587</td></tr>\n",
       "\t<tr><td>chr11</td><td>4601808</td><td>4602487</td><td>chr11_4601808_4602487</td><td> 679</td></tr>\n",
       "</tbody>\n",
       "</table>\n"
      ],
      "text/latex": [
       "A tibble: 6 × 5\n",
       "\\begin{tabular}{lllll}\n",
       " Chrom & Start & End & Peak & Length\\\\\n",
       " <chr> & <dbl> & <dbl> & <chr> & <dbl>\\\\\n",
       "\\hline\n",
       "\t chr11 & 4539569 & 4540043 & chr11\\_4539569\\_4540043 &  474\\\\\n",
       "\t chr11 & 4551336 & 4552012 & chr11\\_4551336\\_4552012 &  676\\\\\n",
       "\t chr11 & 4553969 & 4555012 & chr11\\_4553969\\_4555012 & 1043\\\\\n",
       "\t chr11 & 4569016 & 4569992 & chr11\\_4569016\\_4569992 &  976\\\\\n",
       "\t chr11 & 4577444 & 4578031 & chr11\\_4577444\\_4578031 &  587\\\\\n",
       "\t chr11 & 4601808 & 4602487 & chr11\\_4601808\\_4602487 &  679\\\\\n",
       "\\end{tabular}\n"
      ],
      "text/markdown": [
       "\n",
       "A tibble: 6 × 5\n",
       "\n",
       "| Chrom &lt;chr&gt; | Start &lt;dbl&gt; | End &lt;dbl&gt; | Peak &lt;chr&gt; | Length &lt;dbl&gt; |\n",
       "|---|---|---|---|---|\n",
       "| chr11 | 4539569 | 4540043 | chr11_4539569_4540043 |  474 |\n",
       "| chr11 | 4551336 | 4552012 | chr11_4551336_4552012 |  676 |\n",
       "| chr11 | 4553969 | 4555012 | chr11_4553969_4555012 | 1043 |\n",
       "| chr11 | 4569016 | 4569992 | chr11_4569016_4569992 |  976 |\n",
       "| chr11 | 4577444 | 4578031 | chr11_4577444_4578031 |  587 |\n",
       "| chr11 | 4601808 | 4602487 | chr11_4601808_4602487 |  679 |\n",
       "\n"
      ],
      "text/plain": [
       "  Chrom Start   End     Peak                  Length\n",
       "1 chr11 4539569 4540043 chr11_4539569_4540043  474  \n",
       "2 chr11 4551336 4552012 chr11_4551336_4552012  676  \n",
       "3 chr11 4553969 4555012 chr11_4553969_4555012 1043  \n",
       "4 chr11 4569016 4569992 chr11_4569016_4569992  976  \n",
       "5 chr11 4577444 4578031 chr11_4577444_4578031  587  \n",
       "6 chr11 4601808 4602487 chr11_4601808_4602487  679  "
      ]
     },
     "metadata": {},
     "output_type": "display_data"
    }
   ],
   "source": [
    "vec = dat_peak_log2fc_deseq_tmpra$Peak\n",
    "dat = dat_peak_atac_wgs\n",
    "dat = dat %>% dplyr::filter(Peak %in% vec)\n",
    "\n",
    "dat_peak_tmpra = dat \n",
    "print(dim(dat))\n",
    "head(dat)"
   ]
  },
  {
   "cell_type": "code",
   "execution_count": null,
   "metadata": {},
   "outputs": [],
   "source": []
  },
  {
   "cell_type": "code",
   "execution_count": null,
   "metadata": {},
   "outputs": [],
   "source": []
  },
  {
   "cell_type": "code",
   "execution_count": null,
   "metadata": {},
   "outputs": [],
   "source": []
  },
  {
   "cell_type": "code",
   "execution_count": 18,
   "metadata": {},
   "outputs": [
    {
     "data": {
      "text/plain": [
       "[[1]]\n",
       "GRanges object with 246850 ranges and 0 metadata columns:\n",
       "           seqnames              ranges strand\n",
       "              <Rle>           <IRanges>  <Rle>\n",
       "       [1]     chr1         10015-10442      *\n",
       "       [2]     chr1         14253-14645      *\n",
       "       [3]     chr1         16015-16477      *\n",
       "       [4]     chr1         17237-17772      *\n",
       "       [5]     chr1         28903-29613      *\n",
       "       ...      ...                 ...    ...\n",
       "  [246846]     chrX 156000382-156003205      *\n",
       "  [246847]     chrX 156009687-156010227      *\n",
       "  [246848]     chrX 156016391-156016836      *\n",
       "  [246849]     chrX 156024950-156025593      *\n",
       "  [246850]     chrX 156030187-156030740      *\n",
       "  -------\n",
       "  seqinfo: 23 sequences from an unspecified genome; no seqlengths\n",
       "\n",
       "[[2]]\n",
       "GRanges object with 246688 ranges and 0 metadata columns:\n",
       "           seqnames              ranges strand\n",
       "              <Rle>           <IRanges>  <Rle>\n",
       "       [1]     chr1         16015-16477      *\n",
       "       [2]     chr1         17237-17772      *\n",
       "       [3]     chr1         28903-29613      *\n",
       "       [4]     chr1       115411-115986      *\n",
       "       [5]     chr1       136071-137429      *\n",
       "       ...      ...                 ...    ...\n",
       "  [246684]     chrX 155997267-155998045      *\n",
       "  [246685]     chrX 156000382-156003205      *\n",
       "  [246686]     chrX 156009687-156010227      *\n",
       "  [246687]     chrX 156016391-156016836      *\n",
       "  [246688]     chrX 156024950-156025593      *\n",
       "  -------\n",
       "  seqinfo: 24 sequences from an unspecified genome; no seqlengths\n",
       "\n",
       "[[3]]\n",
       "GRanges object with 1722 ranges and 0 metadata columns:\n",
       "         seqnames            ranges strand\n",
       "            <Rle>         <IRanges>  <Rle>\n",
       "     [1]    chr11   4539569-4540043      *\n",
       "     [2]    chr11   4551336-4552012      *\n",
       "     [3]    chr11   4553969-4555012      *\n",
       "     [4]    chr11   4569016-4569992      *\n",
       "     [5]    chr11   4577444-4578031      *\n",
       "     ...      ...               ...    ...\n",
       "  [1718]     chrX 49856806-49857279      *\n",
       "  [1719]     chrX 49860981-49861475      *\n",
       "  [1720]     chrX 49862119-49862823      *\n",
       "  [1721]     chrX 49868244-49869175      *\n",
       "  [1722]     chrX 49878402-49880117      *\n",
       "  -------\n",
       "  seqinfo: 6 sequences from an unspecified genome; no seqlengths\n"
      ]
     },
     "metadata": {},
     "output_type": "display_data"
    }
   ],
   "source": [
    "lst = list(\n",
    "    dat_peak_astarr,\n",
    "    dat_peak_wstarr,\n",
    "    dat_peak_tmpra\n",
    ")\n",
    "\n",
    "lst = lapply(lst, function(dat){\n",
    "    grg = GRanges(\n",
    "        seqnames = dat$Chrom,\n",
    "        ranges   = IRanges(\n",
    "            start = dat$Start, \n",
    "            end   = dat$End\n",
    "        )\n",
    "    )\n",
    "    return(grg)\n",
    "})\n",
    "\n",
    "lst_peak = lst\n",
    "lst"
   ]
  },
  {
   "cell_type": "code",
   "execution_count": 22,
   "metadata": {},
   "outputs": [
    {
     "data": {
      "text/plain": [
       "GRanges object with 8 ranges and 1 metadata column:\n",
       "      seqnames              ranges strand |        Name\n",
       "         <Rle>           <IRanges>  <Rle> | <character>\n",
       "  [1]    chr11     4505501-6505900      * |        HBE1\n",
       "  [2]    chr11   32869701-34870100      * |        LMO2\n",
       "  [3]    chr11   61787329-61898348      * |        FADS\n",
       "  [4]    chr16       10001-1173100      * |        HBA2\n",
       "  [5]     chr2   59553301-61553700      * |      BCL11A\n",
       "  [6]    chr20   56391301-58391700      * |       RBM38\n",
       "  [7]     chr8 126735901-128736550      * |         MYC\n",
       "  [8]     chrX   47785501-49880650      * |       GATA1\n",
       "  -------\n",
       "  seqinfo: 6 sequences from an unspecified genome; no seqlengths"
      ]
     },
     "metadata": {},
     "output_type": "display_data"
    }
   ],
   "source": [
    "dat = dat_range_tmpra\n",
    "grg = GRanges(\n",
    "    seqnames = dat$Chrom,\n",
    "    ranges   = IRanges(\n",
    "        start = dat$Start, \n",
    "        end   = dat$End\n",
    "    )\n",
    ")\n",
    "grg$Name = dat$Gene\n",
    "\n",
    "grg_range_tmpra = grg\n",
    "grg"
   ]
  },
  {
   "cell_type": "code",
   "execution_count": null,
   "metadata": {},
   "outputs": [],
   "source": []
  },
  {
   "cell_type": "code",
   "execution_count": null,
   "metadata": {},
   "outputs": [],
   "source": []
  },
  {
   "cell_type": "code",
   "execution_count": 36,
   "metadata": {},
   "outputs": [
    {
     "name": "stdout",
     "output_type": "stream",
     "text": [
      "\n",
      "=============================\n",
      "[1] 246850\n",
      "[1] 1722\n",
      "vec\n",
      "BCL11A   FADS  GATA1   HBA2   HBE1   LMO2    MYC  RBM38 \n",
      "   184     22    206    284    266    301    188    271 \n",
      "\n",
      "=============================\n",
      "[1] 246688\n",
      "[1] 1722\n",
      "vec\n",
      "BCL11A   FADS  GATA1   HBA2   HBE1   LMO2    MYC  RBM38 \n",
      "   184     22    206    284    266    301    188    271 \n",
      "\n",
      "=============================\n",
      "[1] 1722\n",
      "[1] 1722\n",
      "vec\n",
      "BCL11A   FADS  GATA1   HBA2   HBE1   LMO2    MYC  RBM38 \n",
      "   184     22    206    284    266    301    188    271 \n"
     ]
    }
   ],
   "source": [
    "for (grg in lst_peak){\n",
    "    \n",
    "    res = GenomicRanges::findOverlaps(grg, grg_range_tmpra)\n",
    "    idx = subjectHits(res)\n",
    "    vec = grg_range_tmpra$Name[idx]\n",
    "    \n",
    "    cat(\"\\n=============================\\n\")\n",
    "    print(length(grg))\n",
    "    print(length(vec))\n",
    "    print(table(vec))\n",
    "    \n",
    "}"
   ]
  },
  {
   "cell_type": "code",
   "execution_count": null,
   "metadata": {},
   "outputs": [],
   "source": []
  },
  {
   "cell_type": "code",
   "execution_count": null,
   "metadata": {},
   "outputs": [],
   "source": []
  },
  {
   "cell_type": "code",
   "execution_count": null,
   "metadata": {},
   "outputs": [],
   "source": []
  }
 ],
 "metadata": {
  "kernelspec": {
   "display_name": "R",
   "language": "R",
   "name": "ir"
  },
  "language_info": {
   "codemirror_mode": "r",
   "file_extension": ".r",
   "mimetype": "text/x-r-source",
   "name": "R",
   "pygments_lexer": "r",
   "version": "4.2.2"
  }
 },
 "nbformat": 4,
 "nbformat_minor": 4
}
