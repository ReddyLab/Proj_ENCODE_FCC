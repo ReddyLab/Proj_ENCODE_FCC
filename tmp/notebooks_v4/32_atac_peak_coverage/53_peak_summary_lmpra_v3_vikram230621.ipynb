{
 "cells": [
  {
   "cell_type": "markdown",
   "metadata": {},
   "source": [
    "**Set environment**"
   ]
  },
  {
   "cell_type": "code",
   "execution_count": 1,
   "metadata": {},
   "outputs": [
    {
     "name": "stdout",
     "output_type": "stream",
     "text": [
      "You are in Singularity: singularity_proj_encode_fcc \n",
      "BASE DIRECTORY (FD_BASE): /data/reddylab/Kuei \n",
      "WORK DIRECTORY (FD_WORK): /data/reddylab/Kuei/out \n",
      "CODE DIRECTORY (FD_CODE): /data/reddylab/Kuei/code \n",
      "PATH OF PROJECT (FD_PRJ): /data/reddylab/Kuei/code/Proj_CombEffect_ENCODE_FCC \n",
      "PATH OF RESULTS (FD_RES): /data/reddylab/Kuei/out/proj_combeffect_encode_fcc \n",
      "PATH OF LOG     (FD_LOG): /data/reddylab/Kuei/out/proj_combeffect_encode_fcc/log \n"
     ]
    }
   ],
   "source": [
    "suppressMessages(suppressWarnings(source(\"../config/config_sing.R\")))\n",
    "show_env()"
   ]
  },
  {
   "cell_type": "markdown",
   "metadata": {},
   "source": [
    "## Import data"
   ]
  },
  {
   "cell_type": "code",
   "execution_count": 2,
   "metadata": {},
   "outputs": [
    {
     "name": "stdout",
     "output_type": "stream",
     "text": [
      "[1] 15  2\n"
     ]
    },
    {
     "data": {
      "text/html": [
       "<table class=\"dataframe\">\n",
       "<caption>A spec_tbl_df: 15 × 2</caption>\n",
       "<thead>\n",
       "\t<tr><th scope=col>Name</th><th scope=col>Description</th></tr>\n",
       "\t<tr><th scope=col>&lt;chr&gt;</th><th scope=col>&lt;chr&gt;</th></tr>\n",
       "</thead>\n",
       "<tbody>\n",
       "\t<tr><td>Chrom      </td><td>Chromosome                                                              </td></tr>\n",
       "\t<tr><td>Start      </td><td>Start position                                                          </td></tr>\n",
       "\t<tr><td>End        </td><td>End position                                                            </td></tr>\n",
       "\t<tr><td>Name       </td><td>Site name                                                               </td></tr>\n",
       "\t<tr><td>Score      </td><td>Score (NULL)                                                            </td></tr>\n",
       "\t<tr><td>Strand     </td><td>Strand                                                                  </td></tr>\n",
       "\t<tr><td>Category   </td><td>Site property (potential enhancer/promoter or postive/negative controls)</td></tr>\n",
       "\t<tr><td>Log2FC_Rep1</td><td>Log2FoldChange of replicate 1                                           </td></tr>\n",
       "\t<tr><td>Log2FC_Rep2</td><td>Log2FoldChange of replicate 2                                           </td></tr>\n",
       "\t<tr><td>Log2FC_Rep3</td><td>Log2FoldChange of replicate 3                                           </td></tr>\n",
       "\t<tr><td>Log2FC_Mean</td><td>Log2FoldChange mean                                                     </td></tr>\n",
       "\t<tr><td>ZScore_Rep1</td><td>Z score of Log2FC (Rep1) wpt negative shuffled controls                 </td></tr>\n",
       "\t<tr><td>ZScore_Rep2</td><td>Z score of Log2FC (Rep2) wpt negative shuffled controls                 </td></tr>\n",
       "\t<tr><td>ZScore_Rep3</td><td>Z score of Log2FC (Rep3) wpt negative shuffled controls                 </td></tr>\n",
       "\t<tr><td>ZScore_Mean</td><td>Z score of Log2FC (Mean) wpt negative shuffled controls                 </td></tr>\n",
       "</tbody>\n",
       "</table>\n"
      ],
      "text/latex": [
       "A spec\\_tbl\\_df: 15 × 2\n",
       "\\begin{tabular}{ll}\n",
       " Name & Description\\\\\n",
       " <chr> & <chr>\\\\\n",
       "\\hline\n",
       "\t Chrom       & Chromosome                                                              \\\\\n",
       "\t Start       & Start position                                                          \\\\\n",
       "\t End         & End position                                                            \\\\\n",
       "\t Name        & Site name                                                               \\\\\n",
       "\t Score       & Score (NULL)                                                            \\\\\n",
       "\t Strand      & Strand                                                                  \\\\\n",
       "\t Category    & Site property (potential enhancer/promoter or postive/negative controls)\\\\\n",
       "\t Log2FC\\_Rep1 & Log2FoldChange of replicate 1                                           \\\\\n",
       "\t Log2FC\\_Rep2 & Log2FoldChange of replicate 2                                           \\\\\n",
       "\t Log2FC\\_Rep3 & Log2FoldChange of replicate 3                                           \\\\\n",
       "\t Log2FC\\_Mean & Log2FoldChange mean                                                     \\\\\n",
       "\t ZScore\\_Rep1 & Z score of Log2FC (Rep1) wpt negative shuffled controls                 \\\\\n",
       "\t ZScore\\_Rep2 & Z score of Log2FC (Rep2) wpt negative shuffled controls                 \\\\\n",
       "\t ZScore\\_Rep3 & Z score of Log2FC (Rep3) wpt negative shuffled controls                 \\\\\n",
       "\t ZScore\\_Mean & Z score of Log2FC (Mean) wpt negative shuffled controls                 \\\\\n",
       "\\end{tabular}\n"
      ],
      "text/markdown": [
       "\n",
       "A spec_tbl_df: 15 × 2\n",
       "\n",
       "| Name &lt;chr&gt; | Description &lt;chr&gt; |\n",
       "|---|---|\n",
       "| Chrom       | Chromosome                                                               |\n",
       "| Start       | Start position                                                           |\n",
       "| End         | End position                                                             |\n",
       "| Name        | Site name                                                                |\n",
       "| Score       | Score (NULL)                                                             |\n",
       "| Strand      | Strand                                                                   |\n",
       "| Category    | Site property (potential enhancer/promoter or postive/negative controls) |\n",
       "| Log2FC_Rep1 | Log2FoldChange of replicate 1                                            |\n",
       "| Log2FC_Rep2 | Log2FoldChange of replicate 2                                            |\n",
       "| Log2FC_Rep3 | Log2FoldChange of replicate 3                                            |\n",
       "| Log2FC_Mean | Log2FoldChange mean                                                      |\n",
       "| ZScore_Rep1 | Z score of Log2FC (Rep1) wpt negative shuffled controls                  |\n",
       "| ZScore_Rep2 | Z score of Log2FC (Rep2) wpt negative shuffled controls                  |\n",
       "| ZScore_Rep3 | Z score of Log2FC (Rep3) wpt negative shuffled controls                  |\n",
       "| ZScore_Mean | Z score of Log2FC (Mean) wpt negative shuffled controls                  |\n",
       "\n"
      ],
      "text/plain": [
       "   Name       \n",
       "1  Chrom      \n",
       "2  Start      \n",
       "3  End        \n",
       "4  Name       \n",
       "5  Score      \n",
       "6  Strand     \n",
       "7  Category   \n",
       "8  Log2FC_Rep1\n",
       "9  Log2FC_Rep2\n",
       "10 Log2FC_Rep3\n",
       "11 Log2FC_Mean\n",
       "12 ZScore_Rep1\n",
       "13 ZScore_Rep2\n",
       "14 ZScore_Rep3\n",
       "15 ZScore_Mean\n",
       "   Description                                                             \n",
       "1  Chromosome                                                              \n",
       "2  Start position                                                          \n",
       "3  End position                                                            \n",
       "4  Site name                                                               \n",
       "5  Score (NULL)                                                            \n",
       "6  Strand                                                                  \n",
       "7  Site property (potential enhancer/promoter or postive/negative controls)\n",
       "8  Log2FoldChange of replicate 1                                           \n",
       "9  Log2FoldChange of replicate 2                                           \n",
       "10 Log2FoldChange of replicate 3                                           \n",
       "11 Log2FoldChange mean                                                     \n",
       "12 Z score of Log2FC (Rep1) wpt negative shuffled controls                 \n",
       "13 Z score of Log2FC (Rep2) wpt negative shuffled controls                 \n",
       "14 Z score of Log2FC (Rep3) wpt negative shuffled controls                 \n",
       "15 Z score of Log2FC (Mean) wpt negative shuffled controls                 "
      ]
     },
     "metadata": {},
     "output_type": "display_data"
    }
   ],
   "source": [
    "ASSAY   = \"LentiMPRA_K562_Nadav\"\n",
    "FOLDER  = \"coverage\"\n",
    "\n",
    "fdiry = file.path(FD_RES, \"results\", ASSAY, FOLDER)\n",
    "fname = \"description.vikram230621.tsv\"\n",
    "fpath = file.path(fdiry, fname)\n",
    "\n",
    "dat = read_tsv(fpath, show_col_types = FALSE)\n",
    "\n",
    "dat_cnames = dat\n",
    "print(dim(dat))\n",
    "dat"
   ]
  },
  {
   "cell_type": "code",
   "execution_count": 3,
   "metadata": {},
   "outputs": [
    {
     "name": "stdout",
     "output_type": "stream",
     "text": [
      "[1] 170187     19\n"
     ]
    },
    {
     "data": {
      "text/html": [
       "<table class=\"dataframe\">\n",
       "<caption>A tibble: 6 × 19</caption>\n",
       "<thead>\n",
       "\t<tr><th scope=col>Chrom_Peak</th><th scope=col>Start_Peak</th><th scope=col>End_Peak</th><th scope=col>Chrom</th><th scope=col>Start</th><th scope=col>End</th><th scope=col>Name</th><th scope=col>Score</th><th scope=col>Strand</th><th scope=col>Category</th><th scope=col>Log2FC_Rep1</th><th scope=col>Log2FC_Rep2</th><th scope=col>Log2FC_Rep3</th><th scope=col>Log2FC_Mean</th><th scope=col>ZScore_Rep1</th><th scope=col>ZScore_Rep2</th><th scope=col>ZScore_Rep3</th><th scope=col>ZScore_Mean</th><th scope=col>Overlap</th></tr>\n",
       "\t<tr><th scope=col>&lt;chr&gt;</th><th scope=col>&lt;dbl&gt;</th><th scope=col>&lt;dbl&gt;</th><th scope=col>&lt;chr&gt;</th><th scope=col>&lt;dbl&gt;</th><th scope=col>&lt;dbl&gt;</th><th scope=col>&lt;chr&gt;</th><th scope=col>&lt;dbl&gt;</th><th scope=col>&lt;chr&gt;</th><th scope=col>&lt;chr&gt;</th><th scope=col>&lt;dbl&gt;</th><th scope=col>&lt;dbl&gt;</th><th scope=col>&lt;dbl&gt;</th><th scope=col>&lt;dbl&gt;</th><th scope=col>&lt;dbl&gt;</th><th scope=col>&lt;dbl&gt;</th><th scope=col>&lt;dbl&gt;</th><th scope=col>&lt;dbl&gt;</th><th scope=col>&lt;dbl&gt;</th></tr>\n",
       "</thead>\n",
       "<tbody>\n",
       "\t<tr><td>chr1</td><td>115411</td><td>115986</td><td>chr1</td><td>115631</td><td>115831</td><td>peak1_Reversed:</td><td>0</td><td>-</td><td>potential enhancer</td><td> 0.138</td><td>-0.044</td><td> 0.025</td><td> 0.040</td><td>2.4069026</td><td> 1.7461277</td><td> 1.9966413</td><td> 2.05110076</td><td>200</td></tr>\n",
       "\t<tr><td>chr1</td><td>137737</td><td>139544</td><td>chr1</td><td>138940</td><td>139140</td><td>peak2_Reversed:</td><td>0</td><td>-</td><td>potential enhancer</td><td>-0.370</td><td> 0.330</td><td>-0.261</td><td>-0.101</td><td>0.5625420</td><td> 3.1039838</td><td> 0.9582808</td><td> 1.53918178</td><td>200</td></tr>\n",
       "\t<tr><td>chr1</td><td>137737</td><td>139544</td><td>chr1</td><td>138940</td><td>139140</td><td>peak2          </td><td>0</td><td>+</td><td>potential enhancer</td><td>-0.245</td><td>-0.609</td><td>-0.775</td><td>-0.543</td><td>1.0163709</td><td>-0.3051788</td><td>-0.9078635</td><td>-0.06555714</td><td>200</td></tr>\n",
       "\t<tr><td>chr1</td><td>267853</td><td>268603</td><td>chr1</td><td>267911</td><td>268111</td><td>peak4_Reversed:</td><td>0</td><td>-</td><td>potential enhancer</td><td>-0.438</td><td>-1.087</td><td>-1.375</td><td>-0.967</td><td>0.3156591</td><td>-2.0406204</td><td>-3.0862422</td><td>-1.60494471</td><td>200</td></tr>\n",
       "\t<tr><td>chr1</td><td>267853</td><td>268603</td><td>chr1</td><td>267911</td><td>268111</td><td>peak4          </td><td>0</td><td>+</td><td>potential enhancer</td><td> 0.220</td><td> 0.302</td><td> 0.152</td><td> 0.225</td><td>2.7046143</td><td> 3.0023261</td><td> 2.4577314</td><td> 2.72276750</td><td>200</td></tr>\n",
       "\t<tr><td>chr1</td><td>777949</td><td>779437</td><td>chr1</td><td>778638</td><td>778838</td><td>peak11         </td><td>0</td><td>+</td><td>potential enhancer</td><td> 0.879</td><td> 1.408</td><td> 0.581</td><td> 0.956</td><td>5.0972002</td><td> 7.0178040</td><td> 4.0152722</td><td> 5.37675880</td><td>200</td></tr>\n",
       "</tbody>\n",
       "</table>\n"
      ],
      "text/latex": [
       "A tibble: 6 × 19\n",
       "\\begin{tabular}{lllllllllllllllllll}\n",
       " Chrom\\_Peak & Start\\_Peak & End\\_Peak & Chrom & Start & End & Name & Score & Strand & Category & Log2FC\\_Rep1 & Log2FC\\_Rep2 & Log2FC\\_Rep3 & Log2FC\\_Mean & ZScore\\_Rep1 & ZScore\\_Rep2 & ZScore\\_Rep3 & ZScore\\_Mean & Overlap\\\\\n",
       " <chr> & <dbl> & <dbl> & <chr> & <dbl> & <dbl> & <chr> & <dbl> & <chr> & <chr> & <dbl> & <dbl> & <dbl> & <dbl> & <dbl> & <dbl> & <dbl> & <dbl> & <dbl>\\\\\n",
       "\\hline\n",
       "\t chr1 & 115411 & 115986 & chr1 & 115631 & 115831 & peak1\\_Reversed: & 0 & - & potential enhancer &  0.138 & -0.044 &  0.025 &  0.040 & 2.4069026 &  1.7461277 &  1.9966413 &  2.05110076 & 200\\\\\n",
       "\t chr1 & 137737 & 139544 & chr1 & 138940 & 139140 & peak2\\_Reversed: & 0 & - & potential enhancer & -0.370 &  0.330 & -0.261 & -0.101 & 0.5625420 &  3.1039838 &  0.9582808 &  1.53918178 & 200\\\\\n",
       "\t chr1 & 137737 & 139544 & chr1 & 138940 & 139140 & peak2           & 0 & + & potential enhancer & -0.245 & -0.609 & -0.775 & -0.543 & 1.0163709 & -0.3051788 & -0.9078635 & -0.06555714 & 200\\\\\n",
       "\t chr1 & 267853 & 268603 & chr1 & 267911 & 268111 & peak4\\_Reversed: & 0 & - & potential enhancer & -0.438 & -1.087 & -1.375 & -0.967 & 0.3156591 & -2.0406204 & -3.0862422 & -1.60494471 & 200\\\\\n",
       "\t chr1 & 267853 & 268603 & chr1 & 267911 & 268111 & peak4           & 0 & + & potential enhancer &  0.220 &  0.302 &  0.152 &  0.225 & 2.7046143 &  3.0023261 &  2.4577314 &  2.72276750 & 200\\\\\n",
       "\t chr1 & 777949 & 779437 & chr1 & 778638 & 778838 & peak11          & 0 & + & potential enhancer &  0.879 &  1.408 &  0.581 &  0.956 & 5.0972002 &  7.0178040 &  4.0152722 &  5.37675880 & 200\\\\\n",
       "\\end{tabular}\n"
      ],
      "text/markdown": [
       "\n",
       "A tibble: 6 × 19\n",
       "\n",
       "| Chrom_Peak &lt;chr&gt; | Start_Peak &lt;dbl&gt; | End_Peak &lt;dbl&gt; | Chrom &lt;chr&gt; | Start &lt;dbl&gt; | End &lt;dbl&gt; | Name &lt;chr&gt; | Score &lt;dbl&gt; | Strand &lt;chr&gt; | Category &lt;chr&gt; | Log2FC_Rep1 &lt;dbl&gt; | Log2FC_Rep2 &lt;dbl&gt; | Log2FC_Rep3 &lt;dbl&gt; | Log2FC_Mean &lt;dbl&gt; | ZScore_Rep1 &lt;dbl&gt; | ZScore_Rep2 &lt;dbl&gt; | ZScore_Rep3 &lt;dbl&gt; | ZScore_Mean &lt;dbl&gt; | Overlap &lt;dbl&gt; |\n",
       "|---|---|---|---|---|---|---|---|---|---|---|---|---|---|---|---|---|---|---|\n",
       "| chr1 | 115411 | 115986 | chr1 | 115631 | 115831 | peak1_Reversed: | 0 | - | potential enhancer |  0.138 | -0.044 |  0.025 |  0.040 | 2.4069026 |  1.7461277 |  1.9966413 |  2.05110076 | 200 |\n",
       "| chr1 | 137737 | 139544 | chr1 | 138940 | 139140 | peak2_Reversed: | 0 | - | potential enhancer | -0.370 |  0.330 | -0.261 | -0.101 | 0.5625420 |  3.1039838 |  0.9582808 |  1.53918178 | 200 |\n",
       "| chr1 | 137737 | 139544 | chr1 | 138940 | 139140 | peak2           | 0 | + | potential enhancer | -0.245 | -0.609 | -0.775 | -0.543 | 1.0163709 | -0.3051788 | -0.9078635 | -0.06555714 | 200 |\n",
       "| chr1 | 267853 | 268603 | chr1 | 267911 | 268111 | peak4_Reversed: | 0 | - | potential enhancer | -0.438 | -1.087 | -1.375 | -0.967 | 0.3156591 | -2.0406204 | -3.0862422 | -1.60494471 | 200 |\n",
       "| chr1 | 267853 | 268603 | chr1 | 267911 | 268111 | peak4           | 0 | + | potential enhancer |  0.220 |  0.302 |  0.152 |  0.225 | 2.7046143 |  3.0023261 |  2.4577314 |  2.72276750 | 200 |\n",
       "| chr1 | 777949 | 779437 | chr1 | 778638 | 778838 | peak11          | 0 | + | potential enhancer |  0.879 |  1.408 |  0.581 |  0.956 | 5.0972002 |  7.0178040 |  4.0152722 |  5.37675880 | 200 |\n",
       "\n"
      ],
      "text/plain": [
       "  Chrom_Peak Start_Peak End_Peak Chrom Start  End    Name            Score\n",
       "1 chr1       115411     115986   chr1  115631 115831 peak1_Reversed: 0    \n",
       "2 chr1       137737     139544   chr1  138940 139140 peak2_Reversed: 0    \n",
       "3 chr1       137737     139544   chr1  138940 139140 peak2           0    \n",
       "4 chr1       267853     268603   chr1  267911 268111 peak4_Reversed: 0    \n",
       "5 chr1       267853     268603   chr1  267911 268111 peak4           0    \n",
       "6 chr1       777949     779437   chr1  778638 778838 peak11          0    \n",
       "  Strand Category           Log2FC_Rep1 Log2FC_Rep2 Log2FC_Rep3 Log2FC_Mean\n",
       "1 -      potential enhancer  0.138      -0.044       0.025       0.040     \n",
       "2 -      potential enhancer -0.370       0.330      -0.261      -0.101     \n",
       "3 +      potential enhancer -0.245      -0.609      -0.775      -0.543     \n",
       "4 -      potential enhancer -0.438      -1.087      -1.375      -0.967     \n",
       "5 +      potential enhancer  0.220       0.302       0.152       0.225     \n",
       "6 +      potential enhancer  0.879       1.408       0.581       0.956     \n",
       "  ZScore_Rep1 ZScore_Rep2 ZScore_Rep3 ZScore_Mean Overlap\n",
       "1 2.4069026    1.7461277   1.9966413   2.05110076 200    \n",
       "2 0.5625420    3.1039838   0.9582808   1.53918178 200    \n",
       "3 1.0163709   -0.3051788  -0.9078635  -0.06555714 200    \n",
       "4 0.3156591   -2.0406204  -3.0862422  -1.60494471 200    \n",
       "5 2.7046143    3.0023261   2.4577314   2.72276750 200    \n",
       "6 5.0972002    7.0178040   4.0152722   5.37675880 200    "
      ]
     },
     "metadata": {},
     "output_type": "display_data"
    }
   ],
   "source": [
    "ASSAY   = \"LentiMPRA_K562_Nadav\"\n",
    "FOLDER  = \"coverage_astarrseq_peak_macs_input\"\n",
    "\n",
    "fdiry = file.path(FD_RES, \"results\", ASSAY, FOLDER)\n",
    "fname = \"K562.vikram230621.LMPRA.stranded.bed.gz\"\n",
    "fpath = file.path(fdiry, fname)\n",
    "\n",
    "cnames = c(\n",
    "    \"Chrom_Peak\", \"Start_Peak\", \"End_Peak\",\n",
    "    dat_cnames$Name,\n",
    "    \"Overlap\"\n",
    ")\n",
    "dat = read_tsv(fpath, col_names = cnames, show_col_types = FALSE)\n",
    "\n",
    "dat_peak_score_import = dat\n",
    "print(dim(dat))\n",
    "head(dat)"
   ]
  },
  {
   "cell_type": "markdown",
   "metadata": {},
   "source": [
    "**Check results**"
   ]
  },
  {
   "cell_type": "code",
   "execution_count": 4,
   "metadata": {},
   "outputs": [
    {
     "data": {
      "text/plain": [
       "\n",
       "     1      2      3      4      5      6      7      8      9     10     11 \n",
       "    20     23     22     18     19     18     22     18     22     20     12 \n",
       "    12     13     14     15     16     17     18     19     20     21     22 \n",
       "    13     20     18     14     15     12     16     20     13     23     16 \n",
       "    23     24     25     26     27     28     29     30     31     32     33 \n",
       "    15     24     16     22     18     24     24     29     18     30     18 \n",
       "    34     35     36     37     38     39     40     41     42     43     44 \n",
       "    31     24     20     20     28     27     18     19     29     22     31 \n",
       "    45     46     47     48     49     50     51     52     53     54     55 \n",
       "    35     21     30     17     37     33     34     28     36     30     16 \n",
       "    56     57     58     59     60     61     62     63     64     65     66 \n",
       "    26     27     36     32     40     43     29     48     47     39     34 \n",
       "    67     68     69     70     71     72     73     74     75     76     77 \n",
       "    48     50     36     38     42     41     49     53     32     57     53 \n",
       "    78     79     80     81     82     83     84     85     86     87     88 \n",
       "    50     54     56     52     81     54     77     53     65     73     51 \n",
       "    89     90     91     92     93     94     95     96     97     98     99 \n",
       "    52     75     77     84     59     75     62     61     58    104     79 \n",
       "   100    101    102    103    104    105    106    107    108    109    110 \n",
       "    88     78     86     84     78     81     88     91     76    101     75 \n",
       "   111    112    113    114    115    116    117    118    119    120    121 \n",
       "    73    120    106     93    117     98    108    100    108     92     94 \n",
       "   122    123    124    125    126    127    128    129    130    131    132 \n",
       "   104     91    118    125    140    105    103    125    150    140    156 \n",
       "   133    134    135    136    137    138    139    140    141    142    143 \n",
       "   158    151    140    185    162    177    192    170    200    202    217 \n",
       "   144    145    146    147    148    149    150    151    152    153    154 \n",
       "   219    226    254    208    220    203    193    244    231    211    276 \n",
       "   155    156    157    158    159    160    161    162    163    164    165 \n",
       "   237    237    264    250    234    248    234    282    268    284    253 \n",
       "   166    167    168    169    170    171    172    173    174    175    176 \n",
       "   257    263    276    271    266    289    271    281    283    309    344 \n",
       "   177    178    179    180    181    182    183    184    185    186    187 \n",
       "   288    275    281    293    263    241    293    290    272    264    238 \n",
       "   188    189    190    191    192    193    194    195    196    197    198 \n",
       "   301    292    248    246    266    298    240    292    247    279    245 \n",
       "   199    200    201    202    204    227    254 \n",
       "   283 146627     14      4      2      1      2 "
      ]
     },
     "metadata": {},
     "output_type": "display_data"
    }
   ],
   "source": [
    "### overlap should be all one\n",
    "table(dat_peak_score_import$Overlap)"
   ]
  },
  {
   "cell_type": "markdown",
   "metadata": {},
   "source": [
    "## Arrange"
   ]
  },
  {
   "cell_type": "code",
   "execution_count": 7,
   "metadata": {},
   "outputs": [
    {
     "name": "stdout",
     "output_type": "stream",
     "text": [
      "[1] 170187      3\n"
     ]
    },
    {
     "data": {
      "text/html": [
       "<table class=\"dataframe\">\n",
       "<caption>A tibble: 6 × 3</caption>\n",
       "<thead>\n",
       "\t<tr><th scope=col>Peak</th><th scope=col>Site</th><th scope=col>Score</th></tr>\n",
       "\t<tr><th scope=col>&lt;chr&gt;</th><th scope=col>&lt;chr&gt;</th><th scope=col>&lt;dbl&gt;</th></tr>\n",
       "</thead>\n",
       "<tbody>\n",
       "\t<tr><td>chr1:115411-115986</td><td>chr1:115631-115831|potential enhancer</td><td> 2.05110076</td></tr>\n",
       "\t<tr><td>chr1:137737-139544</td><td>chr1:138940-139140|potential enhancer</td><td> 1.53918178</td></tr>\n",
       "\t<tr><td>chr1:137737-139544</td><td>chr1:138940-139140|potential enhancer</td><td>-0.06555714</td></tr>\n",
       "\t<tr><td>chr1:267853-268603</td><td>chr1:267911-268111|potential enhancer</td><td>-1.60494471</td></tr>\n",
       "\t<tr><td>chr1:267853-268603</td><td>chr1:267911-268111|potential enhancer</td><td> 2.72276750</td></tr>\n",
       "\t<tr><td>chr1:777949-779437</td><td>chr1:778638-778838|potential enhancer</td><td> 5.37675880</td></tr>\n",
       "</tbody>\n",
       "</table>\n"
      ],
      "text/latex": [
       "A tibble: 6 × 3\n",
       "\\begin{tabular}{lll}\n",
       " Peak & Site & Score\\\\\n",
       " <chr> & <chr> & <dbl>\\\\\n",
       "\\hline\n",
       "\t chr1:115411-115986 & chr1:115631-115831\\textbar{}potential enhancer &  2.05110076\\\\\n",
       "\t chr1:137737-139544 & chr1:138940-139140\\textbar{}potential enhancer &  1.53918178\\\\\n",
       "\t chr1:137737-139544 & chr1:138940-139140\\textbar{}potential enhancer & -0.06555714\\\\\n",
       "\t chr1:267853-268603 & chr1:267911-268111\\textbar{}potential enhancer & -1.60494471\\\\\n",
       "\t chr1:267853-268603 & chr1:267911-268111\\textbar{}potential enhancer &  2.72276750\\\\\n",
       "\t chr1:777949-779437 & chr1:778638-778838\\textbar{}potential enhancer &  5.37675880\\\\\n",
       "\\end{tabular}\n"
      ],
      "text/markdown": [
       "\n",
       "A tibble: 6 × 3\n",
       "\n",
       "| Peak &lt;chr&gt; | Site &lt;chr&gt; | Score &lt;dbl&gt; |\n",
       "|---|---|---|\n",
       "| chr1:115411-115986 | chr1:115631-115831|potential enhancer |  2.05110076 |\n",
       "| chr1:137737-139544 | chr1:138940-139140|potential enhancer |  1.53918178 |\n",
       "| chr1:137737-139544 | chr1:138940-139140|potential enhancer | -0.06555714 |\n",
       "| chr1:267853-268603 | chr1:267911-268111|potential enhancer | -1.60494471 |\n",
       "| chr1:267853-268603 | chr1:267911-268111|potential enhancer |  2.72276750 |\n",
       "| chr1:777949-779437 | chr1:778638-778838|potential enhancer |  5.37675880 |\n",
       "\n"
      ],
      "text/plain": [
       "  Peak               Site                                  Score      \n",
       "1 chr1:115411-115986 chr1:115631-115831|potential enhancer  2.05110076\n",
       "2 chr1:137737-139544 chr1:138940-139140|potential enhancer  1.53918178\n",
       "3 chr1:137737-139544 chr1:138940-139140|potential enhancer -0.06555714\n",
       "4 chr1:267853-268603 chr1:267911-268111|potential enhancer -1.60494471\n",
       "5 chr1:267853-268603 chr1:267911-268111|potential enhancer  2.72276750\n",
       "6 chr1:777949-779437 chr1:778638-778838|potential enhancer  5.37675880"
      ]
     },
     "metadata": {},
     "output_type": "display_data"
    }
   ],
   "source": [
    "dat = dat_peak_score_import\n",
    "dat = dat %>% \n",
    "    dplyr::mutate(\n",
    "        Peak  = paste0(Chrom_Peak, \":\", Start_Peak, \"-\", End_Peak),\n",
    "        Site  = paste0(Chrom, \":\", Start, \"-\", End, \"|\", Category),\n",
    "        Score = ZScore_Mean\n",
    "    ) %>%\n",
    "    dplyr::select(\n",
    "        Peak, Site, Score\n",
    "    )\n",
    "\n",
    "###\n",
    "dat_peak_score_arrange = dat\n",
    "print(dim(dat))\n",
    "head(dat)"
   ]
  },
  {
   "cell_type": "markdown",
   "metadata": {},
   "source": [
    "## Summary"
   ]
  },
  {
   "cell_type": "code",
   "execution_count": 8,
   "metadata": {},
   "outputs": [
    {
     "data": {
      "text/plain": [
       "\n",
       "   neg    pos \n",
       " 32664 137523 "
      ]
     },
     "metadata": {},
     "output_type": "display_data"
    }
   ],
   "source": [
    "###\n",
    "dat = dat_peak_score_arrange\n",
    "dat = dat %>% dplyr::mutate(Sign  = ifelse(Score > 0, \"pos\", \"neg\"))\n",
    "table(dat$Sign)"
   ]
  },
  {
   "cell_type": "code",
   "execution_count": 9,
   "metadata": {},
   "outputs": [
    {
     "name": "stdout",
     "output_type": "stream",
     "text": [
      "[1] 68420     8\n"
     ]
    },
    {
     "data": {
      "text/html": [
       "<table class=\"dataframe\">\n",
       "<caption>A tibble: 6 × 8</caption>\n",
       "<thead>\n",
       "\t<tr><th scope=col>Peak</th><th scope=col>Mean</th><th scope=col>Median</th><th scope=col>Max</th><th scope=col>Min</th><th scope=col>Count</th><th scope=col>Mean_Neg</th><th scope=col>Mean_Pos</th></tr>\n",
       "\t<tr><th scope=col>&lt;chr&gt;</th><th scope=col>&lt;dbl&gt;</th><th scope=col>&lt;dbl&gt;</th><th scope=col>&lt;dbl&gt;</th><th scope=col>&lt;dbl&gt;</th><th scope=col>&lt;int&gt;</th><th scope=col>&lt;dbl&gt;</th><th scope=col>&lt;dbl&gt;</th></tr>\n",
       "</thead>\n",
       "<tbody>\n",
       "\t<tr><td>chr10:100045961-100046653</td><td>1.35946554</td><td>1.35946554</td><td>1.4810917</td><td> 1.23783940</td><td>2</td><td> 0.0000000</td><td>1.3594655</td></tr>\n",
       "\t<tr><td>chr10:100065094-100065486</td><td>1.07264569</td><td>1.07264569</td><td>1.3503890</td><td> 0.79490241</td><td>2</td><td> 0.0000000</td><td>1.0726457</td></tr>\n",
       "\t<tr><td>chr10:100081317-100081607</td><td>0.08511404</td><td>0.08511404</td><td>0.7150285</td><td>-0.54480044</td><td>2</td><td>-0.5448004</td><td>0.7150285</td></tr>\n",
       "\t<tr><td>chr10:100129051-100131059</td><td>0.21944739</td><td>0.21944739</td><td>0.2611997</td><td> 0.17769514</td><td>2</td><td> 0.0000000</td><td>0.2194474</td></tr>\n",
       "\t<tr><td>chr10:100185017-100187275</td><td>0.59521771</td><td>0.59521771</td><td>1.1724880</td><td> 0.01794737</td><td>2</td><td> 0.0000000</td><td>0.5952177</td></tr>\n",
       "\t<tr><td>chr10:100228452-100230090</td><td>5.54013719</td><td>5.54013719</td><td>6.0266418</td><td> 5.05363263</td><td>2</td><td> 0.0000000</td><td>5.5401372</td></tr>\n",
       "</tbody>\n",
       "</table>\n"
      ],
      "text/latex": [
       "A tibble: 6 × 8\n",
       "\\begin{tabular}{llllllll}\n",
       " Peak & Mean & Median & Max & Min & Count & Mean\\_Neg & Mean\\_Pos\\\\\n",
       " <chr> & <dbl> & <dbl> & <dbl> & <dbl> & <int> & <dbl> & <dbl>\\\\\n",
       "\\hline\n",
       "\t chr10:100045961-100046653 & 1.35946554 & 1.35946554 & 1.4810917 &  1.23783940 & 2 &  0.0000000 & 1.3594655\\\\\n",
       "\t chr10:100065094-100065486 & 1.07264569 & 1.07264569 & 1.3503890 &  0.79490241 & 2 &  0.0000000 & 1.0726457\\\\\n",
       "\t chr10:100081317-100081607 & 0.08511404 & 0.08511404 & 0.7150285 & -0.54480044 & 2 & -0.5448004 & 0.7150285\\\\\n",
       "\t chr10:100129051-100131059 & 0.21944739 & 0.21944739 & 0.2611997 &  0.17769514 & 2 &  0.0000000 & 0.2194474\\\\\n",
       "\t chr10:100185017-100187275 & 0.59521771 & 0.59521771 & 1.1724880 &  0.01794737 & 2 &  0.0000000 & 0.5952177\\\\\n",
       "\t chr10:100228452-100230090 & 5.54013719 & 5.54013719 & 6.0266418 &  5.05363263 & 2 &  0.0000000 & 5.5401372\\\\\n",
       "\\end{tabular}\n"
      ],
      "text/markdown": [
       "\n",
       "A tibble: 6 × 8\n",
       "\n",
       "| Peak &lt;chr&gt; | Mean &lt;dbl&gt; | Median &lt;dbl&gt; | Max &lt;dbl&gt; | Min &lt;dbl&gt; | Count &lt;int&gt; | Mean_Neg &lt;dbl&gt; | Mean_Pos &lt;dbl&gt; |\n",
       "|---|---|---|---|---|---|---|---|\n",
       "| chr10:100045961-100046653 | 1.35946554 | 1.35946554 | 1.4810917 |  1.23783940 | 2 |  0.0000000 | 1.3594655 |\n",
       "| chr10:100065094-100065486 | 1.07264569 | 1.07264569 | 1.3503890 |  0.79490241 | 2 |  0.0000000 | 1.0726457 |\n",
       "| chr10:100081317-100081607 | 0.08511404 | 0.08511404 | 0.7150285 | -0.54480044 | 2 | -0.5448004 | 0.7150285 |\n",
       "| chr10:100129051-100131059 | 0.21944739 | 0.21944739 | 0.2611997 |  0.17769514 | 2 |  0.0000000 | 0.2194474 |\n",
       "| chr10:100185017-100187275 | 0.59521771 | 0.59521771 | 1.1724880 |  0.01794737 | 2 |  0.0000000 | 0.5952177 |\n",
       "| chr10:100228452-100230090 | 5.54013719 | 5.54013719 | 6.0266418 |  5.05363263 | 2 |  0.0000000 | 5.5401372 |\n",
       "\n"
      ],
      "text/plain": [
       "  Peak                      Mean       Median     Max       Min         Count\n",
       "1 chr10:100045961-100046653 1.35946554 1.35946554 1.4810917  1.23783940 2    \n",
       "2 chr10:100065094-100065486 1.07264569 1.07264569 1.3503890  0.79490241 2    \n",
       "3 chr10:100081317-100081607 0.08511404 0.08511404 0.7150285 -0.54480044 2    \n",
       "4 chr10:100129051-100131059 0.21944739 0.21944739 0.2611997  0.17769514 2    \n",
       "5 chr10:100185017-100187275 0.59521771 0.59521771 1.1724880  0.01794737 2    \n",
       "6 chr10:100228452-100230090 5.54013719 5.54013719 6.0266418  5.05363263 2    \n",
       "  Mean_Neg   Mean_Pos \n",
       "1  0.0000000 1.3594655\n",
       "2  0.0000000 1.0726457\n",
       "3 -0.5448004 0.7150285\n",
       "4  0.0000000 0.2194474\n",
       "5  0.0000000 0.5952177\n",
       "6  0.0000000 5.5401372"
      ]
     },
     "metadata": {},
     "output_type": "display_data"
    }
   ],
   "source": [
    "###\n",
    "dat = dat_peak_score_arrange\n",
    "dat = dat %>% dplyr::mutate(Sign  = ifelse(Score > 0, \"pos\", \"neg\"))\n",
    "\n",
    "###\n",
    "dat_summary_total = dat %>%\n",
    "    dplyr::group_by(Peak) %>%\n",
    "    dplyr::summarise(\n",
    "        Mean    = mean(Score),\n",
    "        Median  = median(Score),\n",
    "        Max     = max(Score),\n",
    "        Min     = min(Score),\n",
    "        Count   = n(),\n",
    "        .groups = \"drop\"\n",
    "    )\n",
    "\n",
    "###\n",
    "dat_summary_sign = dat %>%\n",
    "    dplyr::group_by(Peak, Sign) %>%\n",
    "    dplyr::summarise(Mean = mean(Score), .groups = \"drop\") %>% \n",
    "    dplyr::mutate(Sign = dplyr::recode(Sign, `pos` = \"Mean_Pos\", `neg` = \"Mean_Neg\")) %>% \n",
    "    tidyr::spread(Sign, Mean)\n",
    "\n",
    "###\n",
    "dat = dplyr::left_join(\n",
    "    dat_summary_total,\n",
    "    dat_summary_sign,\n",
    "    by = c(\"Peak\")) %>% \n",
    "    replace(is.na(.), 0)\n",
    "\n",
    "dat_peak_score_summary = dat\n",
    "print(dim(dat))\n",
    "head(dat)"
   ]
  },
  {
   "cell_type": "code",
   "execution_count": 10,
   "metadata": {},
   "outputs": [
    {
     "data": {
      "text/plain": [
       "   Min. 1st Qu.  Median    Mean 3rd Qu.    Max. \n",
       "  1.000   2.000   2.000   2.487   2.000  24.000 "
      ]
     },
     "metadata": {},
     "output_type": "display_data"
    }
   ],
   "source": [
    "dat = dat_peak_score_summary\n",
    "summary(dat$Count)"
   ]
  },
  {
   "cell_type": "code",
   "execution_count": 11,
   "metadata": {},
   "outputs": [
    {
     "data": {
      "text/plain": [
       "\n",
       "    1     2     3     4     5     6     7     8     9    10    11    12    13 \n",
       " 1393 52985   532 10572   205  2133    62   387    14   106     6    17     3 \n",
       "   14    16    22    24 \n",
       "    1     2     1     1 "
      ]
     },
     "metadata": {},
     "output_type": "display_data"
    }
   ],
   "source": [
    "dat = dat_peak_score_summary\n",
    "table(dat$Count)"
   ]
  },
  {
   "cell_type": "code",
   "execution_count": 12,
   "metadata": {},
   "outputs": [
    {
     "data": {
      "image/png": "[encoded data removed]",
      "text/plain": [
       "plot without title"
      ]
     },
     "metadata": {
      "image/png": {
       "height": 300,
       "width": 480
      }
     },
     "output_type": "display_data"
    }
   ],
   "source": [
    "dat = dat_peak_score_summary\n",
    "gpt = ggplot(dat, aes(x=Count)) + \n",
    "    geom_histogram(binwidth = 1) + \n",
    "    labs(y=\"#Guides / Region\") +\n",
    "    theme_cowplot()\n",
    "options(repr.plot.height=5, repr.plot.width=8)\n",
    "print(gpt)"
   ]
  },
  {
   "cell_type": "code",
   "execution_count": 13,
   "metadata": {},
   "outputs": [
    {
     "data": {
      "image/png": "[encoded data removed]",
      "text/plain": [
       "plot without title"
      ]
     },
     "metadata": {
      "image/png": {
       "height": 300,
       "width": 480
      }
     },
     "output_type": "display_data"
    }
   ],
   "source": [
    "dat = dat_peak_score_arrange\n",
    "gpt = ggplot(dat, aes(x=Score)) + \n",
    "    geom_histogram(bins = 50) + \n",
    "    labs(y=\"Score\") +\n",
    "    theme_cowplot()\n",
    "print(gpt)"
   ]
  },
  {
   "cell_type": "markdown",
   "metadata": {},
   "source": [
    "## Save results"
   ]
  },
  {
   "cell_type": "code",
   "execution_count": 14,
   "metadata": {},
   "outputs": [],
   "source": [
    "fdiry = file.path(FD_RES, \"results\", ASSAY, FOLDER, \"summary\")\n",
    "fname = \"results.score.vikram230621.tsv\"\n",
    "fpath = file.path(fdiry, fname)\n",
    "\n",
    "dat = dat_peak_score_arrange\n",
    "write_tsv(dat, fpath)"
   ]
  },
  {
   "cell_type": "code",
   "execution_count": 15,
   "metadata": {},
   "outputs": [],
   "source": [
    "fdiry = file.path(FD_RES, \"results\", ASSAY, FOLDER, \"summary\")\n",
    "fname = \"results.summary.vikram230621.tsv\"\n",
    "fpath = file.path(fdiry, fname)\n",
    "\n",
    "dat = dat_peak_score_summary\n",
    "write_tsv(dat, fpath)"
   ]
  },
  {
   "cell_type": "code",
   "execution_count": null,
   "metadata": {},
   "outputs": [],
   "source": []
  }
 ],
 "metadata": {
  "kernelspec": {
   "display_name": "R",
   "language": "R",
   "name": "ir"
  },
  "language_info": {
   "codemirror_mode": "r",
   "file_extension": ".r",
   "mimetype": "text/x-r-source",
   "name": "R",
   "pygments_lexer": "r",
   "version": "4.3.1"
  }
 },
 "nbformat": 4,
 "nbformat_minor": 4
}
