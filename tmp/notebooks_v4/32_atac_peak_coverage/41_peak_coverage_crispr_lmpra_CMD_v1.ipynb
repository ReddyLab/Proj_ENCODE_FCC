{
 "cells": [
  {
   "cell_type": "markdown",
   "id": "46ba7db3",
   "metadata": {},
   "source": [
    "**Set environment**"
   ]
  },
  {
   "cell_type": "code",
   "execution_count": 1,
   "id": "de9d4f5f",
   "metadata": {},
   "outputs": [
    {
     "name": "stdout",
     "output_type": "stream",
     "text": [
      "You are on Duke Server: HARDAC\n",
      "BASE DIRECTORY (FD_BASE): /data/reddylab/Kuei\n",
      "WORK DIRECTORY (FD_WORK): /data/reddylab/Kuei/out\n",
      "CODE DIRECTORY (FD_CODE): /data/reddylab/Kuei/code\n",
      "SING DIRECTORY (FD_SING): /data/reddylab/Kuei/singularity\n",
      "PATH OF PROJECT (FD_PRJ): /data/reddylab/Kuei/code/Proj_CombEffect_ENCODE_FCC\n",
      "PATH OF RESULTS (FD_RES): /data/reddylab/Kuei/out/proj_combeffect_encode_fcc\n",
      "PATH OF LOG     (FD_LOG): /data/reddylab/Kuei/out/proj_combeffect_encode_fcc/log\n",
      "\n"
     ]
    }
   ],
   "source": [
    "source ../config/config_duke.sh\n",
    "source ../config/config_load_module_bedtools.sh\n",
    "show_env"
   ]
  },
  {
   "cell_type": "markdown",
   "id": "43423a81",
   "metadata": {},
   "source": [
    "**Script**"
   ]
  },
  {
   "cell_type": "code",
   "execution_count": 2,
   "id": "d831189c",
   "metadata": {},
   "outputs": [],
   "source": [
    "cat > run_annot_test.sh << 'EOF'\n",
    "#!/bin/bash\n",
    "\n",
    "### print start message\n",
    "timer_start=`date +%s`\n",
    "echo \"Hostname:          \" $(hostname)\n",
    "echo \"Slurm Array Index: \" ${SLURM_ARRAY_TASK_ID}\n",
    "echo \"Time Stamp:        \" $(date +\"%m-%d-%y+%T\")\n",
    "echo\n",
    "\n",
    "### setup input and output\n",
    "source ../config/config_duke.sh\n",
    "FP_REG=$1\n",
    "FP_ANT=$2\n",
    "FP_OUT=$3\n",
    "\n",
    "### show I/O file\n",
    "echo \"Input: \" ${FP_REG}\n",
    "echo\n",
    "echo \"show first few lines of input\"\n",
    "zcat ${FP_REG} | head -5\n",
    "echo\n",
    "echo \"Input: \" ${FP_ANT}\n",
    "echo\n",
    "echo \"show first few lines of input\"\n",
    "zcat ${FP_ANT} | head -5\n",
    "echo\n",
    "\n",
    "### show output file\n",
    "echo\n",
    "echo \"Output: \" ${FP_OUT}\n",
    "echo\n",
    "echo \"show first few lines of output:\"\n",
    "zcat ${FP_OUT} | head -5\n",
    "echo\n",
    "\n",
    "### print end message\n",
    "timer=`date +%s`\n",
    "runtime=$(echo \"${timer} - ${timer_start}\" | bc -l)\n",
    "echo\n",
    "echo 'Done!'\n",
    "echo \"Run Time: $(displaytime ${runtime})\"\n",
    "\n",
    "EOF\n",
    "\n",
    "chmod +x run_annot_test.sh"
   ]
  },
  {
   "cell_type": "code",
   "execution_count": 3,
   "id": "a135271d",
   "metadata": {},
   "outputs": [],
   "source": [
    "cat > run_annot.sh << 'EOF'\n",
    "#!/bin/bash\n",
    "\n",
    "### print start message\n",
    "timer_start=`date +%s`\n",
    "echo \"Hostname:          \" $(hostname)\n",
    "echo \"Slurm Array Index: \" ${SLURM_ARRAY_TASK_ID}\n",
    "echo \"Time Stamp:        \" $(date +\"%m-%d-%y+%T\")\n",
    "echo\n",
    "\n",
    "### setup input and output\n",
    "source ../config/config_duke.sh\n",
    "FP_REG=$1\n",
    "FP_ANT=$2\n",
    "FP_OUT=$3\n",
    "\n",
    "### show I/O file\n",
    "echo \"Input: \" ${FP_REG}\n",
    "echo\n",
    "echo \"show first few lines of input\"\n",
    "zcat ${FP_REG} | head -5\n",
    "echo\n",
    "echo \"Input: \" ${FP_ANT}\n",
    "echo\n",
    "echo \"show first few lines of input\"\n",
    "zcat ${FP_ANT} | head -5\n",
    "echo\n",
    "\n",
    "### execute: annotation using intersect\n",
    "bedtools intersect \\\n",
    "    -a ${FP_REG} \\\n",
    "    -b ${FP_ANT} \\\n",
    "    -wo \\\n",
    "| gzip -c \\\n",
    "> ${FP_OUT}\n",
    "\n",
    "### show output file\n",
    "echo\n",
    "echo \"Output: \" ${FP_OUT}\n",
    "echo\n",
    "echo \"show first few lines of output:\"\n",
    "zcat ${FP_OUT} | head -5\n",
    "echo\n",
    "\n",
    "### print end message\n",
    "timer=`date +%s`\n",
    "runtime=$(echo \"${timer} - ${timer_start}\" | bc -l)\n",
    "echo\n",
    "echo 'Done!'\n",
    "echo \"Run Time: $(displaytime ${runtime})\"\n",
    "\n",
    "EOF\n",
    "\n",
    "chmod +x run_annot.sh"
   ]
  },
  {
   "cell_type": "markdown",
   "id": "ea45ac21",
   "metadata": {},
   "source": [
    "## ATAC peaks"
   ]
  },
  {
   "cell_type": "code",
   "execution_count": 4,
   "id": "5710de3e",
   "metadata": {},
   "outputs": [
    {
     "name": "stdout",
     "output_type": "stream",
     "text": [
      "chr1\t10015\t10442\n",
      "chr1\t14253\t14645\n",
      "chr1\t16015\t16477\n",
      "chr1\t17237\t17772\n",
      "chr1\t28903\t29613\n",
      "chr1\t30803\t31072\n",
      "chr1\t101603\t101849\n",
      "chr1\t115411\t115986\n",
      "chr1\t118518\t118743\n",
      "chr1\t136071\t137429\n"
     ]
    }
   ],
   "source": [
    "FD_REG=${FD_RES}/results/region/KS91_K562_ASTARRseq_peak_macs_input\n",
    "FN_REG=KS91_K562_hg38_ASTARRseq_Input.all_reps.masked.union_narrowPeak.q5.bed.gz\n",
    "FP_REG=${FD_REG}/${FN_REG}\n",
    "zcat ${FP_REG} | head"
   ]
  },
  {
   "cell_type": "markdown",
   "id": "88441386",
   "metadata": {},
   "source": [
    "## CRISPRi-FlowFISH"
   ]
  },
  {
   "cell_type": "markdown",
   "id": "6e99be3c",
   "metadata": {},
   "source": [
    "**Check data**"
   ]
  },
  {
   "cell_type": "code",
   "execution_count": 5,
   "id": "ae59b06f",
   "metadata": {},
   "outputs": [
    {
     "name": "stdout",
     "output_type": "stream",
     "text": [
      "\u001b[0m\u001b[38;5;27mcoverage\u001b[0m  \u001b[38;5;27mcoverage_astarrseq_peak_macs_input\u001b[0m\n"
     ]
    }
   ],
   "source": [
    "ASSAY=CRISPRi_FlowFISH\n",
    "FD_INP=${FD_RES}/results/${ASSAY}\n",
    "ls ${FD_INP}"
   ]
  },
  {
   "cell_type": "code",
   "execution_count": 6,
   "id": "fd5f8d73",
   "metadata": {},
   "outputs": [
    {
     "name": "stdout",
     "output_type": "stream",
     "text": [
      "chr11\t33064196\t33064197\tid-1495\t0.807624\tCAPRIN1\n",
      "chr11\t33064217\t33064218\tid-1496\t-2.71246\tCAPRIN1\n",
      "chr11\t33064229\t33064230\tid-1497\t0.642045\tCAPRIN1\n",
      "chr11\t33064230\t33064231\tid-1498\t1.85354\tCAPRIN1\n",
      "chr11\t33064258\t33064259\tid-1499\t0.126467\tCAPRIN1\n",
      "chr11\t33064264\t33064265\tid-1500\t0.217096\tCAPRIN1\n",
      "chr11\t33064298\t33064299\tid-1501\t-0.612031\tCAPRIN1\n",
      "chr11\t33064303\t33064304\tid-1502\t-0.859612\tCAPRIN1\n",
      "chr11\t33064315\t33064316\tid-1503\t-0.665188\tCAPRIN1\n",
      "chr11\t33064339\t33064340\tid-1504\t-0.569748\tCAPRIN1\n"
     ]
    }
   ],
   "source": [
    "ASSAY=CRISPRi_FlowFISH\n",
    "FD_ANT=${FD_RES}/results/${ASSAY}/coverage\n",
    "FN_ANT=Merge_HCRFF_rAVG.log2FC_2.filtered.bed.gz\n",
    "FP_ANT=${FD_ANT}/${FN_ANT}\n",
    "zcat ${FP_ANT} | head"
   ]
  },
  {
   "cell_type": "markdown",
   "id": "b852f060",
   "metadata": {},
   "source": [
    "**RUN**"
   ]
  },
  {
   "cell_type": "code",
   "execution_count": 7,
   "id": "57c40eb0",
   "metadata": {},
   "outputs": [
    {
     "name": "stdout",
     "output_type": "stream",
     "text": [
      "${FD_LOG}/coverage_astarr_peak_macs_input_crispri_hcrff.0.txt\n",
      "Submitted batch job 29958339\n"
     ]
    }
   ],
   "source": [
    "### ATAC peaks\n",
    "FD_REG=${FD_RES}/results/region/KS91_K562_ASTARRseq_peak_macs_input\n",
    "FN_REG=KS91_K562_hg38_ASTARRseq_Input.all_reps.masked.union_narrowPeak.q5.bed.gz\n",
    "FP_REG=${FD_REG}/${FN_REG}\n",
    "\n",
    "### Annotated signals\n",
    "ASSAY=CRISPRi_FlowFISH\n",
    "FD_ANT=${FD_RES}/results/${ASSAY}/coverage\n",
    "FN_ANT=Merge_HCRFF_rAVG.log2FC_2.filtered.bed.gz\n",
    "FP_ANT=${FD_ANT}/${FN_ANT}\n",
    "\n",
    "### Output file\n",
    "FD_OUT=${FD_RES}/results/${ASSAY}/coverage_astarrseq_peak_macs_input\n",
    "FN_OUT=${FN_ANT}\n",
    "FP_OUT=${FD_OUT}/${FN_OUT}\n",
    "\n",
    "### Log file\n",
    "FN_LOG=coverage_astarr_peak_macs_input_crispri_hcrff.%a.txt\n",
    "FP_LOG=${FD_LOG}/${FN_LOG}\n",
    "echo '${FD_LOG}/coverage_astarr_peak_macs_input_crispri_hcrff.0.txt'\n",
    "\n",
    "### RUN\n",
    "sbatch -p ${NODE} \\\n",
    "    --exclude=dl-01 \\\n",
    "    --cpus-per-task 4 \\\n",
    "    --mem 4G \\\n",
    "    --output ${FP_LOG} \\\n",
    "    --array 0 \\\n",
    "    ./run_annot.sh ${FP_REG} ${FP_ANT} ${FP_OUT}"
   ]
  },
  {
   "cell_type": "markdown",
   "id": "a9541cbb",
   "metadata": {},
   "source": [
    "**Check results**"
   ]
  },
  {
   "cell_type": "code",
   "execution_count": 8,
   "id": "b803a5b2",
   "metadata": {},
   "outputs": [
    {
     "name": "stdout",
     "output_type": "stream",
     "text": [
      "Hostname:           x1-03-1.genome.duke.edu\n",
      "Slurm Array Index:  0\n",
      "Time Stamp:         06-10-23+17:14:49\n",
      "\n",
      "Input:  /data/reddylab/Kuei/out/proj_combeffect_encode_fcc/results/region/KS91_K562_ASTARRseq_peak_macs_input/KS91_K562_hg38_ASTARRseq_Input.all_reps.masked.union_narrowPeak.q5.bed.gz\n",
      "\n",
      "show first few lines of input\n",
      "chr1\t10015\t10442\n",
      "chr1\t14253\t14645\n",
      "chr1\t16015\t16477\n",
      "chr1\t17237\t17772\n",
      "chr1\t28903\t29613\n",
      "\n",
      "Input:  /data/reddylab/Kuei/out/proj_combeffect_encode_fcc/results/CRISPRi_FlowFISH/coverage/Merge_HCRFF_rAVG.log2FC_2.filtered.bed.gz\n",
      "\n",
      "show first few lines of input\n",
      "chr11\t33064196\t33064197\tid-1495\t0.807624\tCAPRIN1\n",
      "chr11\t33064217\t33064218\tid-1496\t-2.71246\tCAPRIN1\n",
      "chr11\t33064229\t33064230\tid-1497\t0.642045\tCAPRIN1\n",
      "chr11\t33064230\t33064231\tid-1498\t1.85354\tCAPRIN1\n",
      "chr11\t33064258\t33064259\tid-1499\t0.126467\tCAPRIN1\n",
      "\n",
      "\n",
      "Output:  /data/reddylab/Kuei/out/proj_combeffect_encode_fcc/results/CRISPRi_FlowFISH/coverage_astarrseq_peak_macs_input/Merge_HCRFF_rAVG.log2FC_2.filtered.bed.gz\n",
      "\n",
      "show first few lines of output:\n",
      "chr11\t4092104\t4092566\tchr11\t4092122\t4092123\tid-145\t-1.10103\tHBE1\t1\n",
      "chr11\t4092104\t4092566\tchr11\t4092123\t4092124\tid-146\t-0.061961\tHBE1\t1\n",
      "chr11\t4092104\t4092566\tchr11\t4092130\t4092131\tid-147\t0.528464\tHBE1\t1\n",
      "chr11\t4092104\t4092566\tchr11\t4092135\t4092136\tid-148\t0.497477\tHBE1\t1\n",
      "chr11\t4092104\t4092566\tchr11\t4092162\t4092163\tid-149\t-0.190223\tHBE1\t1\n",
      "\n",
      "\n",
      "Done!\n",
      "Run Time: 2 seconds\n"
     ]
    }
   ],
   "source": [
    "cat ${FD_LOG}/coverage_astarr_peak_macs_input_crispri_hcrff.0.txt"
   ]
  },
  {
   "cell_type": "markdown",
   "id": "2f4c8731",
   "metadata": {},
   "source": [
    "## CRISPRi-Growth"
   ]
  },
  {
   "cell_type": "markdown",
   "id": "eaebc766",
   "metadata": {},
   "source": [
    "**Check data**"
   ]
  },
  {
   "cell_type": "code",
   "execution_count": 9,
   "id": "cd226f2e",
   "metadata": {},
   "outputs": [
    {
     "name": "stdout",
     "output_type": "stream",
     "text": [
      "CRISPRi_rAVG_log2FC_2.bed\n",
      "\u001b[0m\u001b[38;5;9mCRISPRi_rAVG_log2FC_2.bed.gz\u001b[0m\n",
      "CRISPRi_rAVG_log2FC_2.wig\n"
     ]
    }
   ],
   "source": [
    "ASSAY=CRISPRi_Growth_K562_Gersbach\n",
    "FD_ANT=${FD_RES}/results/${ASSAY}/coverage\n",
    "ls -1 ${FD_ANT}"
   ]
  },
  {
   "cell_type": "code",
   "execution_count": 10,
   "id": "abef3302",
   "metadata": {},
   "outputs": [
    {
     "name": "stdout",
     "output_type": "stream",
     "text": [
      "chr1\t605580\t605581\tid-1\t-0.180660\n",
      "chr1\t605581\t605582\tid-2\t0.486646\n",
      "chr1\t605589\t605590\tid-3\t3.171240\n",
      "chr1\t605591\t605592\tid-4\t-0.364573\n",
      "chr1\t605592\t605593\tid-5\t-0.206319\n",
      "chr1\t605609\t605610\tid-6\t-0.266750\n",
      "chr1\t605617\t605618\tid-7\t-0.774100\n",
      "chr1\t605618\t605619\tid-8\t-0.353224\n",
      "chr1\t605619\t605620\tid-9\t-0.187707\n",
      "chr1\t605620\t605621\tid-10\t-0.420401\n"
     ]
    }
   ],
   "source": [
    "ASSAY=CRISPRi_Growth_K562_Gersbach\n",
    "FD_ANT=${FD_RES}/results/${ASSAY}/coverage\n",
    "FN_ANT=CRISPRi_rAVG_log2FC_2.bed.gz\n",
    "FP_ANT=${FD_ANT}/${FN_ANT}\n",
    "zcat ${FP_ANT} | head"
   ]
  },
  {
   "cell_type": "markdown",
   "id": "0b89a30c",
   "metadata": {},
   "source": [
    "**RUN**"
   ]
  },
  {
   "cell_type": "code",
   "execution_count": 11,
   "id": "b36d248e",
   "metadata": {},
   "outputs": [
    {
     "name": "stdout",
     "output_type": "stream",
     "text": [
      "${FD_LOG}/coverage_astarr_peak_macs_input_crispri_growth.0.txt\n",
      "Submitted batch job 29958340\n"
     ]
    }
   ],
   "source": [
    "### ATAC peaks\n",
    "FD_REG=${FD_RES}/results/region/KS91_K562_ASTARRseq_peak_macs_input\n",
    "FN_REG=KS91_K562_hg38_ASTARRseq_Input.all_reps.masked.union_narrowPeak.q5.bed.gz\n",
    "FP_REG=${FD_REG}/${FN_REG}\n",
    "\n",
    "### Annotated signals\n",
    "ASSAY=CRISPRi_Growth_K562_Gersbach\n",
    "FD_ANT=${FD_RES}/results/${ASSAY}/coverage\n",
    "FN_ANT=CRISPRi_rAVG_log2FC_2.bed.gz\n",
    "FP_ANT=${FD_ANT}/${FN_ANT}\n",
    "\n",
    "### Output file\n",
    "FD_OUT=${FD_RES}/results/${ASSAY}/coverage_astarrseq_peak_macs_input\n",
    "FN_OUT=${FN_ANT}\n",
    "FP_OUT=${FD_OUT}/${FN_OUT}\n",
    "\n",
    "### Log file\n",
    "FN_LOG=coverage_astarr_peak_macs_input_crispri_growth.%a.txt\n",
    "FP_LOG=${FD_LOG}/${FN_LOG}\n",
    "echo '${FD_LOG}/coverage_astarr_peak_macs_input_crispri_growth.0.txt'\n",
    "\n",
    "### RUN\n",
    "sbatch -p ${NODE} \\\n",
    "    --exclude=dl-01 \\\n",
    "    --cpus-per-task 4 \\\n",
    "    --mem 4G \\\n",
    "    --output ${FP_LOG} \\\n",
    "    --array 0 \\\n",
    "    ./run_annot.sh ${FP_REG} ${FP_ANT} ${FP_OUT}"
   ]
  },
  {
   "cell_type": "markdown",
   "id": "628c47e0",
   "metadata": {},
   "source": [
    "**Check results**"
   ]
  },
  {
   "cell_type": "code",
   "execution_count": 12,
   "id": "f9a60622",
   "metadata": {},
   "outputs": [
    {
     "name": "stdout",
     "output_type": "stream",
     "text": [
      "Hostname:           x1-03-1.genome.duke.edu\n",
      "Slurm Array Index:  0\n",
      "Time Stamp:         06-10-23+17:15:02\n",
      "\n",
      "Input:  /data/reddylab/Kuei/out/proj_combeffect_encode_fcc/results/region/KS91_K562_ASTARRseq_peak_macs_input/KS91_K562_hg38_ASTARRseq_Input.all_reps.masked.union_narrowPeak.q5.bed.gz\n",
      "\n",
      "show first few lines of input\n",
      "chr1\t10015\t10442\n",
      "chr1\t14253\t14645\n",
      "chr1\t16015\t16477\n",
      "chr1\t17237\t17772\n",
      "chr1\t28903\t29613\n",
      "\n",
      "Input:  /data/reddylab/Kuei/out/proj_combeffect_encode_fcc/results/CRISPRi_Growth_K562_Gersbach/coverage/CRISPRi_rAVG_log2FC_2.bed.gz\n",
      "\n",
      "show first few lines of input\n",
      "chr1\t605580\t605581\tid-1\t-0.180660\n",
      "chr1\t605581\t605582\tid-2\t0.486646\n",
      "chr1\t605589\t605590\tid-3\t3.171240\n",
      "chr1\t605591\t605592\tid-4\t-0.364573\n",
      "chr1\t605592\t605593\tid-5\t-0.206319\n",
      "\n",
      "\n",
      "Output:  /data/reddylab/Kuei/out/proj_combeffect_encode_fcc/results/CRISPRi_Growth_K562_Gersbach/coverage_astarrseq_peak_macs_input/CRISPRi_rAVG_log2FC_2.bed.gz\n",
      "\n",
      "show first few lines of output:\n",
      "chr1\t605090\t605823\tchr1\t605580\t605581\tid-1\t-0.180660\t1\n",
      "chr1\t605090\t605823\tchr1\t605581\t605582\tid-2\t0.486646\t1\n",
      "chr1\t605090\t605823\tchr1\t605589\t605590\tid-3\t3.171240\t1\n",
      "chr1\t605090\t605823\tchr1\t605591\t605592\tid-4\t-0.364573\t1\n",
      "chr1\t605090\t605823\tchr1\t605592\t605593\tid-5\t-0.206319\t1\n",
      "\n",
      "\n",
      "Done!\n",
      "Run Time: 5 seconds\n"
     ]
    }
   ],
   "source": [
    "cat ${FD_LOG}/coverage_astarr_peak_macs_input_crispri_growth.0.txt"
   ]
  },
  {
   "cell_type": "markdown",
   "id": "bbe7b66e",
   "metadata": {},
   "source": [
    "## LentiMPRA"
   ]
  },
  {
   "cell_type": "markdown",
   "id": "f375d6ac",
   "metadata": {},
   "source": [
    "**Check data**"
   ]
  },
  {
   "cell_type": "code",
   "execution_count": 5,
   "id": "c44ab90b",
   "metadata": {},
   "outputs": [
    {
     "name": "stdout",
     "output_type": "stream",
     "text": [
      "\u001b[0m\u001b[38;5;9mK562.ENCSR382BVV.ENCFF348WYK.LMPRA.region.bed.gz\u001b[0m\n",
      "\u001b[38;5;9mK562.ENCSR382BVV.ENCFF348WYK.LMPRA.region_merge.bed.gz\u001b[0m\n",
      "\u001b[38;5;9mK562.ENCSR382BVV.ENCFF348WYK.LMPRA.region_merge_perbase.bed.gz\u001b[0m\n",
      "\u001b[38;5;9mK562.ENCSR382BVV.ENCFF348WYK.LMPRA.stranded.bed.gz\u001b[0m\n",
      "\u001b[38;5;9mK562.ENCSR382BVV.ENCFF348WYK.LMPRA.unstranded.bed.gz\u001b[0m\n",
      "K562.ENCSR382BVV.ENCFF348WYK.LMPRA.unstranded.bg\n",
      "K562.ENCSR382BVV.ENCFF348WYK.LMPRA.unstranded.bw\n",
      "\u001b[38;5;9mK562.vikram230621.LMPRA.region.bed.gz\u001b[0m\n",
      "\u001b[38;5;9mK562.vikram230621.LMPRA.region_merge.bed.gz\u001b[0m\n",
      "\u001b[38;5;9mK562.vikram230621.LMPRA.region_merge_perbase.bed.gz\u001b[0m\n",
      "\u001b[38;5;9mK562.vikram230621.LMPRA.stranded.bed.gz\u001b[0m\n",
      "K562.vikram230621.LMPRA.unstranded.bg\n",
      "K562.vikram230621.LMPRA.unstranded.bw\n",
      "nadav_K562_MPRA_log2FC_Z_bp.bed\n",
      "\u001b[38;5;9mnadav_K562_MPRA_log2FC_Z_bp.bed.gz\u001b[0m\n",
      "nadav_K562_MPRA_log2FC_Z_bp.wig\n"
     ]
    }
   ],
   "source": [
    "ASSAY=LentiMPRA_K562_Nadav\n",
    "FD_ANT=${FD_RES}/results/${ASSAY}/coverage\n",
    "ls -1 ${FD_ANT}"
   ]
  },
  {
   "cell_type": "code",
   "execution_count": 6,
   "id": "7338efff",
   "metadata": {},
   "outputs": [
    {
     "name": "stdout",
     "output_type": "stream",
     "text": [
      "chr1\t778637\t778638\tid-1\t2.176040\n",
      "chr1\t778638\t778639\tid-2\t2.176040\n",
      "chr1\t778639\t778640\tid-3\t2.176040\n",
      "chr1\t778640\t778641\tid-4\t2.176040\n",
      "chr1\t778641\t778642\tid-5\t2.176040\n",
      "chr1\t778642\t778643\tid-6\t2.176040\n",
      "chr1\t778643\t778644\tid-7\t2.176040\n",
      "chr1\t778644\t778645\tid-8\t2.176040\n",
      "chr1\t778645\t778646\tid-9\t2.176040\n",
      "chr1\t778646\t778647\tid-10\t2.176040\n"
     ]
    }
   ],
   "source": [
    "ASSAY=LentiMPRA_K562_Nadav\n",
    "FD_ANT=${FD_RES}/results/${ASSAY}/coverage\n",
    "FN_ANT=nadav_K562_MPRA_log2FC_Z_bp.bed.gz\n",
    "FP_ANT=${FD_ANT}/${FN_ANT}\n",
    "zcat ${FP_ANT} | head"
   ]
  },
  {
   "cell_type": "code",
   "execution_count": 7,
   "id": "5d5c00a9",
   "metadata": {},
   "outputs": [
    {
     "name": "stdout",
     "output_type": "stream",
     "text": [
      "chr1\t115631\t115831\tpeak1_Reversed:\t0.1572\t-\n",
      "chr1\t138940\t139140\tpeak2_Reversed:\t0.2047\t-\n",
      "chr1\t138940\t139140\tpeak2\t-0.2317\t+\n",
      "chr1\t203225\t203425\tpeak3_Reversed:\t0.0023\t-\n",
      "chr1\t203225\t203425\tpeak3\t0.0524\t+\n",
      "chr1\t267911\t268111\tpeak4_Reversed:\t-0.322\t-\n",
      "chr1\t267911\t268111\tpeak4\t0.4415\t+\n",
      "chr1\t586093\t586293\tpeak5_Reversed:\t0.0718\t-\n",
      "chr1\t586093\t586293\tpeak5\t0.081\t+\n",
      "chr1\t629847\t630047\tpeak6_Reversed:\t-0.7038\t-\n"
     ]
    }
   ],
   "source": [
    "ASSAY=LentiMPRA_K562_Nadav\n",
    "FD_ANT=${FD_RES}/results/${ASSAY}/coverage\n",
    "FN_ANT=K562.ENCSR382BVV.ENCFF348WYK.LMPRA.stranded.bed.gz\n",
    "FP_ANT=${FD_ANT}/${FN_ANT}\n",
    "zcat ${FP_ANT} | head"
   ]
  },
  {
   "cell_type": "code",
   "execution_count": 8,
   "id": "3f95cdc9",
   "metadata": {},
   "outputs": [
    {
     "name": "stdout",
     "output_type": "stream",
     "text": [
      "chr1\t115631\t115831\tpeak1_Reversed:\t0.04\t-\tpotential enhancer\n",
      "chr1\t138940\t139140\tpeak2\t-0.543\t+\tpotential enhancer\n",
      "chr1\t138940\t139140\tpeak2_Reversed:\t-0.101\t-\tpotential enhancer\n",
      "chr1\t203225\t203425\tpeak3\t-0.186\t+\tpotential enhancer\n",
      "chr1\t203225\t203425\tpeak3_Reversed:\t-0.281\t-\tpotential enhancer\n",
      "chr1\t267911\t268111\tpeak4\t0.225\t+\tpotential enhancer\n",
      "chr1\t267911\t268111\tpeak4_Reversed:\t-0.967\t-\tpotential enhancer\n",
      "chr1\t586093\t586293\tpeak5\t-0.441\t+\tpotential enhancer\n",
      "chr1\t586093\t586293\tpeak5_Reversed:\t-0.108\t-\tpotential enhancer\n",
      "chr1\t629847\t630047\tpeak6\t-0.562\t+\tpotential enhancer\n"
     ]
    }
   ],
   "source": [
    "ASSAY=LentiMPRA_K562_Nadav\n",
    "FD_ANT=${FD_RES}/results/${ASSAY}/coverage\n",
    "FN_ANT=K562.vikram230621.LMPRA.stranded.bed.gz\n",
    "FP_ANT=${FD_ANT}/${FN_ANT}\n",
    "zcat ${FP_ANT} | head"
   ]
  },
  {
   "cell_type": "markdown",
   "id": "263dca08",
   "metadata": {},
   "source": [
    "**RUN**"
   ]
  },
  {
   "cell_type": "code",
   "execution_count": 15,
   "id": "48857759",
   "metadata": {},
   "outputs": [
    {
     "name": "stdout",
     "output_type": "stream",
     "text": [
      "${FD_LOG}/coverage_astarr_peak_macs_input_lmpra.0.txt\n",
      "Submitted batch job 29958341\n"
     ]
    }
   ],
   "source": [
    "### ATAC peaks\n",
    "FD_REG=${FD_RES}/results/region/KS91_K562_ASTARRseq_peak_macs_input\n",
    "FN_REG=KS91_K562_hg38_ASTARRseq_Input.all_reps.masked.union_narrowPeak.q5.bed.gz\n",
    "FP_REG=${FD_REG}/${FN_REG}\n",
    "\n",
    "### Annotated signals\n",
    "ASSAY=LentiMPRA_K562_Nadav\n",
    "FD_ANT=${FD_RES}/results/${ASSAY}/coverage\n",
    "FN_ANT=nadav_K562_MPRA_log2FC_Z_bp.bed.gz\n",
    "FP_ANT=${FD_ANT}/${FN_ANT}\n",
    "\n",
    "### Output file\n",
    "FD_OUT=${FD_RES}/results/${ASSAY}/coverage_astarrseq_peak_macs_input\n",
    "FN_OUT=${FN_ANT}\n",
    "FP_OUT=${FD_OUT}/${FN_OUT}\n",
    "\n",
    "### Log file\n",
    "FN_LOG=coverage_astarr_peak_macs_input_lmpra.%a.txt\n",
    "FP_LOG=${FD_LOG}/${FN_LOG}\n",
    "echo '${FD_LOG}/coverage_astarr_peak_macs_input_lmpra.0.txt'\n",
    "\n",
    "### RUN\n",
    "sbatch -p ${NODE} \\\n",
    "    --exclude=dl-01 \\\n",
    "    --cpus-per-task 4 \\\n",
    "    --mem 4G \\\n",
    "    --output ${FP_LOG} \\\n",
    "    --array 0 \\\n",
    "    ./run_annot.sh ${FP_REG} ${FP_ANT} ${FP_OUT}"
   ]
  },
  {
   "cell_type": "code",
   "execution_count": 8,
   "id": "1d04b916",
   "metadata": {},
   "outputs": [
    {
     "name": "stdout",
     "output_type": "stream",
     "text": [
      "${FD_LOG}/coverage_astarr_peak_macs_input_lmpra_v2.0.txt\n",
      "Submitted batch job 30021630\n"
     ]
    }
   ],
   "source": [
    "### ATAC peaks\n",
    "FD_REG=${FD_RES}/results/region/KS91_K562_ASTARRseq_peak_macs_input\n",
    "FN_REG=KS91_K562_hg38_ASTARRseq_Input.all_reps.masked.union_narrowPeak.q5.bed.gz\n",
    "FP_REG=${FD_REG}/${FN_REG}\n",
    "\n",
    "### Annotated signals\n",
    "ASSAY=LentiMPRA_K562_Nadav\n",
    "FD_ANT=${FD_RES}/results/${ASSAY}/coverage\n",
    "FN_ANT=K562.ENCSR382BVV.ENCFF348WYK.LMPRA.stranded.bed.gz\n",
    "FP_ANT=${FD_ANT}/${FN_ANT}\n",
    "\n",
    "### Output file\n",
    "FD_OUT=${FD_RES}/results/${ASSAY}/coverage_astarrseq_peak_macs_input\n",
    "FN_OUT=${FN_ANT}\n",
    "FP_OUT=${FD_OUT}/${FN_OUT}\n",
    "\n",
    "### Log file\n",
    "FN_LOG=coverage_astarr_peak_macs_input_lmpra_v2.%a.txt\n",
    "FP_LOG=${FD_LOG}/${FN_LOG}\n",
    "echo '${FD_LOG}/coverage_astarr_peak_macs_input_lmpra_v2.0.txt'\n",
    "\n",
    "### RUN\n",
    "sbatch -p ${NODE} \\\n",
    "    --exclude=dl-01 \\\n",
    "    --cpus-per-task 4 \\\n",
    "    --mem 4G \\\n",
    "    --output ${FP_LOG} \\\n",
    "    --array 0 \\\n",
    "    ./run_annot.sh ${FP_REG} ${FP_ANT} ${FP_OUT}"
   ]
  },
  {
   "cell_type": "code",
   "execution_count": 12,
   "id": "d88795ab",
   "metadata": {},
   "outputs": [
    {
     "name": "stdout",
     "output_type": "stream",
     "text": [
      "${FD_LOG}/coverage_astarr_peak_macs_input_lmpra_v3_vikram230621.0.txt\n",
      "Submitted batch job 30021944\n"
     ]
    }
   ],
   "source": [
    "### ATAC peaks\n",
    "FD_REG=${FD_RES}/results/region/KS91_K562_ASTARRseq_peak_macs_input\n",
    "FN_REG=KS91_K562_hg38_ASTARRseq_Input.all_reps.masked.union_narrowPeak.q5.bed.gz\n",
    "FP_REG=${FD_REG}/${FN_REG}\n",
    "\n",
    "### Annotated signals\n",
    "ASSAY=LentiMPRA_K562_Nadav\n",
    "FD_ANT=${FD_RES}/results/${ASSAY}/coverage\n",
    "FN_ANT=K562.vikram230621.LMPRA.stranded.bed.gz\n",
    "FP_ANT=${FD_ANT}/${FN_ANT}\n",
    "\n",
    "### Output file\n",
    "FD_OUT=${FD_RES}/results/${ASSAY}/coverage_astarrseq_peak_macs_input\n",
    "FN_OUT=${FN_ANT}\n",
    "FP_OUT=${FD_OUT}/${FN_OUT}\n",
    "\n",
    "### Log file\n",
    "FN_LOG=coverage_astarr_peak_macs_input_lmpra_v3_vikram230621.%a.txt\n",
    "FP_LOG=${FD_LOG}/${FN_LOG}\n",
    "echo '${FD_LOG}/coverage_astarr_peak_macs_input_lmpra_v3_vikram230621.0.txt'\n",
    "\n",
    "### RUN\n",
    "sbatch -p ${NODE} \\\n",
    "    --exclude=dl-01 \\\n",
    "    --cpus-per-task 4 \\\n",
    "    --mem 4G \\\n",
    "    --output ${FP_LOG} \\\n",
    "    --array 0 \\\n",
    "    ./run_annot.sh ${FP_REG} ${FP_ANT} ${FP_OUT}"
   ]
  },
  {
   "cell_type": "markdown",
   "id": "c73b7383",
   "metadata": {},
   "source": [
    "**Check results**"
   ]
  },
  {
   "cell_type": "code",
   "execution_count": 11,
   "id": "7ac1e04b",
   "metadata": {},
   "outputs": [
    {
     "name": "stdout",
     "output_type": "stream",
     "text": [
      "Hostname:           x1-03-1.genome.duke.edu\n",
      "Slurm Array Index:  0\n",
      "Time Stamp:         06-10-23+17:15:29\n",
      "\n",
      "Input:  /data/reddylab/Kuei/out/proj_combeffect_encode_fcc/results/region/KS91_K562_ASTARRseq_peak_macs_input/KS91_K562_hg38_ASTARRseq_Input.all_reps.masked.union_narrowPeak.q5.bed.gz\n",
      "\n",
      "show first few lines of input\n",
      "chr1\t10015\t10442\n",
      "chr1\t14253\t14645\n",
      "chr1\t16015\t16477\n",
      "chr1\t17237\t17772\n",
      "chr1\t28903\t29613\n",
      "\n",
      "Input:  /data/reddylab/Kuei/out/proj_combeffect_encode_fcc/results/LentiMPRA_K562_Nadav/coverage/nadav_K562_MPRA_log2FC_Z_bp.bed.gz\n",
      "\n",
      "show first few lines of input\n",
      "chr1\t778637\t778638\tid-1\t2.176040\n",
      "chr1\t778638\t778639\tid-2\t2.176040\n",
      "chr1\t778639\t778640\tid-3\t2.176040\n",
      "chr1\t778640\t778641\tid-4\t2.176040\n",
      "chr1\t778641\t778642\tid-5\t2.176040\n",
      "\n",
      "\n",
      "Output:  /data/reddylab/Kuei/out/proj_combeffect_encode_fcc/results/LentiMPRA_K562_Nadav/coverage_astarrseq_peak_macs_input/nadav_K562_MPRA_log2FC_Z_bp.bed.gz\n",
      "\n",
      "show first few lines of output:\n",
      "chr1\t777949\t779437\tchr1\t778637\t778638\tid-1\t2.176040\t1\n",
      "chr1\t777949\t779437\tchr1\t778638\t778639\tid-2\t2.176040\t1\n",
      "chr1\t777949\t779437\tchr1\t778639\t778640\tid-3\t2.176040\t1\n",
      "chr1\t777949\t779437\tchr1\t778640\t778641\tid-4\t2.176040\t1\n",
      "chr1\t777949\t779437\tchr1\t778641\t778642\tid-5\t2.176040\t1\n",
      "\n",
      "\n",
      "Done!\n",
      "Run Time: 30 seconds\n"
     ]
    }
   ],
   "source": [
    "cat ${FD_LOG}/coverage_astarr_peak_macs_input_lmpra.0.txt"
   ]
  },
  {
   "cell_type": "code",
   "execution_count": 9,
   "id": "a44bf012",
   "metadata": {},
   "outputs": [
    {
     "name": "stdout",
     "output_type": "stream",
     "text": [
      "Hostname:           x1-01-2.genome.duke.edu\n",
      "Slurm Array Index:  0\n",
      "Time Stamp:         06-20-23+20:37:33\n",
      "\n",
      "Input:  /data/reddylab/Kuei/out/proj_combeffect_encode_fcc/results/region/KS91_K562_ASTARRseq_peak_macs_input/KS91_K562_hg38_ASTARRseq_Input.all_reps.masked.union_narrowPeak.q5.bed.gz\n",
      "\n",
      "show first few lines of input\n",
      "chr1\t10015\t10442\n",
      "chr1\t14253\t14645\n",
      "chr1\t16015\t16477\n",
      "chr1\t17237\t17772\n",
      "chr1\t28903\t29613\n",
      "\n",
      "Input:  /data/reddylab/Kuei/out/proj_combeffect_encode_fcc/results/LentiMPRA_K562_Nadav/coverage/K562.ENCSR382BVV.ENCFF348WYK.LMPRA.stranded.bed.gz\n",
      "\n",
      "show first few lines of input\n",
      "chr1\t115631\t115831\tpeak1_Reversed:\t0.1572\t-\n",
      "chr1\t138940\t139140\tpeak2_Reversed:\t0.2047\t-\n",
      "chr1\t138940\t139140\tpeak2\t-0.2317\t+\n",
      "chr1\t203225\t203425\tpeak3_Reversed:\t0.0023\t-\n",
      "chr1\t203225\t203425\tpeak3\t0.0524\t+\n",
      "\n",
      "\n",
      "Output:  /data/reddylab/Kuei/out/proj_combeffect_encode_fcc/results/LentiMPRA_K562_Nadav/coverage_astarrseq_peak_macs_input/K562.ENCSR382BVV.ENCFF348WYK.LMPRA.stranded.bed.gz\n",
      "\n",
      "show first few lines of output:\n",
      "chr1\t115411\t115986\tchr1\t115631\t115831\tpeak1_Reversed:\t0.1572\t-\t200\n",
      "chr1\t137737\t139544\tchr1\t138940\t139140\tpeak2_Reversed:\t0.2047\t-\t200\n",
      "chr1\t137737\t139544\tchr1\t138940\t139140\tpeak2\t-0.2317\t+\t200\n",
      "chr1\t267853\t268603\tchr1\t267911\t268111\tpeak4_Reversed:\t-0.322\t-\t200\n",
      "chr1\t267853\t268603\tchr1\t267911\t268111\tpeak4\t0.4415\t+\t200\n",
      "\n",
      "\n",
      "Done!\n",
      "Run Time: 1 seconds\n"
     ]
    }
   ],
   "source": [
    "cat ${FD_LOG}/coverage_astarr_peak_macs_input_lmpra_v2.0.txt"
   ]
  },
  {
   "cell_type": "code",
   "execution_count": 13,
   "id": "1b785106",
   "metadata": {},
   "outputs": [
    {
     "name": "stdout",
     "output_type": "stream",
     "text": [
      "Hostname:           x1-02-1.genome.duke.edu\n",
      "Slurm Array Index:  0\n",
      "Time Stamp:         06-23-23+14:12:07\n",
      "\n",
      "Input:  /data/reddylab/Kuei/out/proj_combeffect_encode_fcc/results/region/KS91_K562_ASTARRseq_peak_macs_input/KS91_K562_hg38_ASTARRseq_Input.all_reps.masked.union_narrowPeak.q5.bed.gz\n",
      "\n",
      "show first few lines of input\n",
      "chr1\t10015\t10442\n",
      "chr1\t14253\t14645\n",
      "chr1\t16015\t16477\n",
      "chr1\t17237\t17772\n",
      "chr1\t28903\t29613\n",
      "\n",
      "Input:  /data/reddylab/Kuei/out/proj_combeffect_encode_fcc/results/LentiMPRA_K562_Nadav/coverage/K562.vikram230621.LMPRA.stranded.bed.gz\n",
      "\n",
      "show first few lines of input\n",
      "chr1\t115631\t115831\tpeak1_Reversed:\t0\t-\tpotential enhancer\t0.138\t-0.044\t0.025\t0.04\t2.4069025995500155\t1.746127748956286\t1.9966412912143483\t2.0511007569226227\n",
      "chr1\t138940\t139140\tpeak2_Reversed:\t0\t-\tpotential enhancer\t-0.37\t0.33\t-0.261\t-0.101\t0.5625420275631225\t3.103983760615928\t0.9582808117099164\t1.5391817792648435\n",
      "chr1\t138940\t139140\tpeak2\t0\t+\tpotential enhancer\t-0.245\t-0.609\t-0.775\t-0.543\t1.0163709084654091\t-0.30517879272204945\t-0.9078635465602862\t-0.06555714360564233\n",
      "chr1\t203225\t203425\tpeak3\t0\t+\tpotential enhancer\t-0.339\t0.117\t-0.337\t-0.186\t0.6750915900268895\t2.330659347558431\t0.6823528521213261\t1.2305781402512883\n",
      "chr1\t203225\t203425\tpeak3_Reversed:\t0\t-\tpotential enhancer\t-0.373\t-0.069\t-0.402\t-0.281\t0.5516501344214676\t1.6553619727758286\t0.44636183405213703\t0.8856681907655505\n",
      "\n",
      "\n",
      "Output:  /data/reddylab/Kuei/out/proj_combeffect_encode_fcc/results/LentiMPRA_K562_Nadav/coverage_astarrseq_peak_macs_input/K562.vikram230621.LMPRA.stranded.bed.gz\n",
      "\n",
      "show first few lines of output:\n",
      "chr1\t115411\t115986\tchr1\t115631\t115831\tpeak1_Reversed:\t0\t-\tpotential enhancer\t0.138\t-0.044\t0.025\t0.04\t2.4069025995500155\t1.746127748956286\t1.9966412912143483\t2.0511007569226227\t200\n",
      "chr1\t137737\t139544\tchr1\t138940\t139140\tpeak2_Reversed:\t0\t-\tpotential enhancer\t-0.37\t0.33\t-0.261\t-0.101\t0.5625420275631225\t3.103983760615928\t0.9582808117099164\t1.5391817792648435\t200\n",
      "chr1\t137737\t139544\tchr1\t138940\t139140\tpeak2\t0\t+\tpotential enhancer\t-0.245\t-0.609\t-0.775\t-0.543\t1.0163709084654091\t-0.30517879272204945\t-0.9078635465602862\t-0.06555714360564233\t200\n",
      "chr1\t267853\t268603\tchr1\t267911\t268111\tpeak4_Reversed:\t0\t-\tpotential enhancer\t-0.438\t-1.087\t-1.375\t-0.967\t0.31565911635227856\t-2.0406204332923936\t-3.086242174891262\t-1.6049447076261982\t200\n",
      "chr1\t267853\t268603\tchr1\t267911\t268111\tpeak4\t0\t+\tpotential enhancer\t0.22\t0.302\t0.152\t0.225\t2.7046143454219154\t3.0023260912938157\t2.4577314342110714\t2.7227675006580068\t200\n",
      "\n",
      "\n",
      "Done!\n",
      "Run Time: 3 seconds\n"
     ]
    }
   ],
   "source": [
    "cat ${FD_LOG}/coverage_astarr_peak_macs_input_lmpra_v3_vikram230621.0.txt"
   ]
  },
  {
   "cell_type": "code",
   "execution_count": null,
   "id": "160f46bd",
   "metadata": {},
   "outputs": [],
   "source": []
  }
 ],
 "metadata": {
  "kernelspec": {
   "display_name": "Bash",
   "language": "bash",
   "name": "bash"
  },
  "language_info": {
   "codemirror_mode": "shell",
   "file_extension": ".sh",
   "mimetype": "text/x-sh",
   "name": "bash"
  }
 },
 "nbformat": 4,
 "nbformat_minor": 5
}
