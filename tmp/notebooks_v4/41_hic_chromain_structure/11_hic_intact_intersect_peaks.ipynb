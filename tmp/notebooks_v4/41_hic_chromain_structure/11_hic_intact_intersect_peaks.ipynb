{
 "cells": [
  {
   "cell_type": "code",
   "execution_count": 1,
   "id": "d19c8cd0-5e05-48f5-aac9-2a738d11c3a5",
   "metadata": {},
   "outputs": [
    {
     "name": "stdout",
     "output_type": "stream",
     "text": [
      "You are on Duke Server: HARDAC\n",
      "BASE DIRECTORY (FD_BASE): /data/reddylab/Kuei\n",
      "WORK DIRECTORY (FD_WORK): /data/reddylab/Kuei/out\n",
      "CODE DIRECTORY (FD_CODE): /data/reddylab/Kuei/code\n",
      "SING DIRECTORY (FD_SING): /data/reddylab/Kuei/singularity\n",
      "PATH OF PROJECT (FD_PRJ): /data/reddylab/Kuei/code/Proj_CombEffect_ENCODE_FCC\n",
      "PATH OF RESULTS (FD_RES): /data/reddylab/Kuei/out/proj_combeffect_encode_fcc\n",
      "PATH OF LOG     (FD_LOG): /data/reddylab/Kuei/out/proj_combeffect_encode_fcc/log\n",
      "\n"
     ]
    }
   ],
   "source": [
    "### set env\n",
    "source ../config/config_duke.sh\n",
    "source ../config/config_load_module_bedtools.sh\n",
    "show_env"
   ]
  },
  {
   "cell_type": "markdown",
   "id": "a5434d7f-baa7-4d57-823e-42a7dd681b5c",
   "metadata": {},
   "source": [
    "**Check data**"
   ]
  },
  {
   "cell_type": "code",
   "execution_count": 2,
   "id": "b3f7d5b1-2b94-4bce-a39e-a05a4c69e0e0",
   "metadata": {},
   "outputs": [
    {
     "name": "stdout",
     "output_type": "stream",
     "text": [
      "K562.ENCSR479XDG.ENCFF126GED.contact_domains.bed\n",
      "K562.ENCSR479XDG.ENCFF256ZMD.loops.A.bed\n",
      "K562.ENCSR479XDG.ENCFF256ZMD.loops.B.bed\n",
      "K562.ENCSR479XDG.ENCFF256ZMD.loops.tsv\n"
     ]
    }
   ],
   "source": [
    "ls -1 ${FD_RES}/results/region/annotation_hic"
   ]
  },
  {
   "cell_type": "code",
   "execution_count": 5,
   "id": "acc2cb59-c94d-45ae-8699-1db03df7d4b7",
   "metadata": {},
   "outputs": [
    {
     "name": "stdout",
     "output_type": "stream",
     "text": [
      "K562.ENCSR479XDG.ENCFF126GED.contact_domains.bed\n",
      "K562.ENCSR479XDG.ENCFF256ZMD.loops.A.bed\n",
      "K562.ENCSR479XDG.ENCFF256ZMD.loops.B.bed\n"
     ]
    }
   ],
   "source": [
    "ls -1 ${FD_RES}/results/region/annotation_hic/*ENCSR479XDG*bed | xargs -n 1 basename"
   ]
  },
  {
   "cell_type": "markdown",
   "id": "3bdd1539-658f-4151-b883-83bd0030847e",
   "metadata": {},
   "source": [
    "**RUN**"
   ]
  },
  {
   "cell_type": "code",
   "execution_count": 19,
   "id": "ffb40bf2-1013-4d08-8412-e86b4075ebf2",
   "metadata": {},
   "outputs": [
    {
     "name": "stdout",
     "output_type": "stream",
     "text": [
      "Submitted batch job 29629149\n"
     ]
    }
   ],
   "source": [
    "sbatch -p ${NODE} \\\n",
    "    --exclude=dl-01 \\\n",
    "    --cpus-per-task 8 \\\n",
    "    --mem 8G \\\n",
    "    --output ${FD_LOG}/annotation_astarr_peak_macs_input_hic_ENCSR479XDG.%a.txt \\\n",
    "    --array 0-2 \\\n",
    "    <<'EOF'\n",
    "#!/bin/bash\n",
    "### set directories & global variables\n",
    "source ../config/config_duke.sh\n",
    "\n",
    "### set input and output\n",
    "FD_INP=${FD_RES}/results/region/annotation_hic\n",
    "FP_INPS=($(ls ${FD_INP}/*ENCSR479XDG*bed))\n",
    "FP_INP=${FP_INPS[SLURM_ARRAY_TASK_ID]}\n",
    "FN_INP=$(basename ${FP_INP})\n",
    "\n",
    "FD_REG=${FD_RES}/results/region/KS91_K562_ASTARRseq_peak_macs_input\n",
    "FN_REG=KS91_K562_hg38_ASTARRseq_Input.all_reps.masked.union_narrowPeak.q5.bed\n",
    "FP_REG=${FD_REG}/${FN_REG}\n",
    "\n",
    "FD_OUT=${FD_RES}/results/region/KS91_K562_ASTARRseq_peak_macs_input/annotation_hic\n",
    "FN_OUT=peak.annotation.${FN_INP}.gz\n",
    "FP_OUT=${FD_OUT}/${FN_OUT}\n",
    "\n",
    "### print start message\n",
    "timer_start=`date +%s`\n",
    "echo \"Hostname:          \" $(hostname)\n",
    "echo \"Slurm Array Index: \" ${SLURM_ARRAY_TASK_ID}\n",
    "echo \"Time Stamp:        \" $(date +\"%m-%d-%y+%T\")\n",
    "echo\n",
    "\n",
    "### show I/O file\n",
    "echo \"Input: \" ${FP_REG}\n",
    "echo\n",
    "echo \"show first few lines of input\"\n",
    "cat ${FP_REG} | head -5\n",
    "echo\n",
    "echo \"Input: \" ${FP_INP}\n",
    "echo\n",
    "echo \"show first few lines of input\"\n",
    "cat ${FP_INP} | head -5\n",
    "echo\n",
    "\n",
    "### init: create output folder if not exist\n",
    "mkdir -p ${FD_OUT}\n",
    "\n",
    "### annotation using intersect\n",
    "bedtools intersect \\\n",
    "    -a ${FP_REG} \\\n",
    "    -b ${FP_INP} \\\n",
    "    -wo \\\n",
    "| gzip -c \\\n",
    "> ${FP_OUT}\n",
    "\n",
    "### show output file\n",
    "echo\n",
    "echo \"Output: \" ${FP_OUT}\n",
    "echo\n",
    "echo \"show first few lines of output:\"\n",
    "zcat ${FP_OUT} | head -5\n",
    "echo\n",
    "\n",
    "EOF"
   ]
  },
  {
   "cell_type": "markdown",
   "id": "9d443b5e-b9b4-44dc-910f-ba886d91e98d",
   "metadata": {},
   "source": [
    "**Check results**"
   ]
  },
  {
   "cell_type": "code",
   "execution_count": 20,
   "id": "e824e7e6-0ad8-4e65-bf4d-956da8620fc7",
   "metadata": {},
   "outputs": [
    {
     "name": "stdout",
     "output_type": "stream",
     "text": [
      "Hostname:           x1-02-1.genome.duke.edu\n",
      "Slurm Array Index:  0\n",
      "Time Stamp:         04-03-23+10:22:21\n",
      "\n",
      "Input:  /data/reddylab/Kuei/out/proj_combeffect_encode_fcc/results/region/KS91_K562_ASTARRseq_peak_macs_input/KS91_K562_hg38_ASTARRseq_Input.all_reps.masked.union_narrowPeak.q5.bed\n",
      "\n",
      "show first few lines of input\n",
      "chr1\t10015\t10442\n",
      "chr1\t14253\t14645\n",
      "chr1\t16015\t16477\n",
      "chr1\t17237\t17772\n",
      "chr1\t28903\t29613\n",
      "\n",
      "Input:  /data/reddylab/Kuei/out/proj_combeffect_encode_fcc/results/region/annotation_hic/K562.ENCSR479XDG.ENCFF126GED.contact_domains.bed\n",
      "\n",
      "show first few lines of input\n",
      "chr1\t1120000\t1240000\n",
      "chr1\t1940000\t2040000\n",
      "chr1\t2205000\t2310000\n",
      "chr1\t2410000\t2525000\n",
      "chr1\t2820000\t3430000\n",
      "\n",
      "\n",
      "Output:  /data/reddylab/Kuei/out/proj_combeffect_encode_fcc/results/region/KS91_K562_ASTARRseq_peak_macs_input/annotation_hic/peak.annotation.K562.ENCSR479XDG.ENCFF126GED.contact_domains.bed.gz\n",
      "\n",
      "show first few lines of output:\n",
      "chr1\t1121788\t1122529\tchr1\t1120000\t1240000\t741\n",
      "chr1\t1122893\t1123442\tchr1\t1120000\t1240000\t549\n",
      "chr1\t1124347\t1125709\tchr1\t1120000\t1240000\t1362\n",
      "chr1\t1127455\t1129027\tchr1\t1120000\t1240000\t1572\n",
      "chr1\t1134673\t1136326\tchr1\t1120000\t1240000\t1653\n",
      "\n"
     ]
    }
   ],
   "source": [
    "cat ${FD_LOG}/annotation_astarr_peak_macs_input_hic_ENCSR479XDG.0.txt"
   ]
  },
  {
   "cell_type": "code",
   "execution_count": 21,
   "id": "45b2eeba-41fb-4e10-9a4f-290e644aaa7a",
   "metadata": {},
   "outputs": [
    {
     "name": "stdout",
     "output_type": "stream",
     "text": [
      "Hostname:           x1-02-3.genome.duke.edu\n",
      "Slurm Array Index:  1\n",
      "Time Stamp:         04-03-23+10:22:21\n",
      "\n",
      "Input:  /data/reddylab/Kuei/out/proj_combeffect_encode_fcc/results/region/KS91_K562_ASTARRseq_peak_macs_input/KS91_K562_hg38_ASTARRseq_Input.all_reps.masked.union_narrowPeak.q5.bed\n",
      "\n",
      "show first few lines of input\n",
      "chr1\t10015\t10442\n",
      "chr1\t14253\t14645\n",
      "chr1\t16015\t16477\n",
      "chr1\t17237\t17772\n",
      "chr1\t28903\t29613\n",
      "\n",
      "Input:  /data/reddylab/Kuei/out/proj_combeffect_encode_fcc/results/region/annotation_hic/K562.ENCSR479XDG.ENCFF256ZMD.loops.A.bed\n",
      "\n",
      "show first few lines of input\n",
      "chr1\t770000\t780000\n",
      "chr1\t904000\t906000\n",
      "chr1\t920000\t925000\n",
      "chr1\t980000\t990000\n",
      "chr1\t984000\t985000\n",
      "\n",
      "\n",
      "Output:  /data/reddylab/Kuei/out/proj_combeffect_encode_fcc/results/region/KS91_K562_ASTARRseq_peak_macs_input/annotation_hic/peak.annotation.K562.ENCSR479XDG.ENCFF256ZMD.loops.A.bed.gz\n",
      "\n",
      "show first few lines of output:\n",
      "chr1\t770944\t771343\tchr1\t770000\t780000\t399\n",
      "chr1\t777949\t779437\tchr1\t770000\t780000\t1488\n",
      "chr1\t903633\t905556\tchr1\t904000\t906000\t1556\n",
      "chr1\t920697\t921526\tchr1\t920000\t925000\t829\n",
      "chr1\t923417\t925194\tchr1\t920000\t925000\t1583\n",
      "\n"
     ]
    }
   ],
   "source": [
    "cat ${FD_LOG}/annotation_astarr_peak_macs_input_hic_ENCSR479XDG.1.txt"
   ]
  },
  {
   "cell_type": "code",
   "execution_count": 22,
   "id": "5a79d685-4539-4bc5-9390-f4661d417abd",
   "metadata": {},
   "outputs": [
    {
     "name": "stdout",
     "output_type": "stream",
     "text": [
      "Hostname:           x1-02-3.genome.duke.edu\n",
      "Slurm Array Index:  2\n",
      "Time Stamp:         04-03-23+10:22:21\n",
      "\n",
      "Input:  /data/reddylab/Kuei/out/proj_combeffect_encode_fcc/results/region/KS91_K562_ASTARRseq_peak_macs_input/KS91_K562_hg38_ASTARRseq_Input.all_reps.masked.union_narrowPeak.q5.bed\n",
      "\n",
      "show first few lines of input\n",
      "chr1\t10015\t10442\n",
      "chr1\t14253\t14645\n",
      "chr1\t16015\t16477\n",
      "chr1\t17237\t17772\n",
      "chr1\t28903\t29613\n",
      "\n",
      "Input:  /data/reddylab/Kuei/out/proj_combeffect_encode_fcc/results/region/annotation_hic/K562.ENCSR479XDG.ENCFF256ZMD.loops.B.bed\n",
      "\n",
      "show first few lines of input\n",
      "chr1\t840000\t850000\n",
      "chr1\t976000\t978000\n",
      "chr1\t1060000\t1065000\n",
      "chr1\t1060000\t1065000\n",
      "chr1\t1060000\t1065000\n",
      "\n",
      "\n",
      "Output:  /data/reddylab/Kuei/out/proj_combeffect_encode_fcc/results/region/KS91_K562_ASTARRseq_peak_macs_input/annotation_hic/peak.annotation.K562.ENCSR479XDG.ENCFF256ZMD.loops.B.bed.gz\n",
      "\n",
      "show first few lines of output:\n",
      "chr1\t841328\t842007\tchr1\t840000\t850000\t679\n",
      "chr1\t842480\t843449\tchr1\t840000\t850000\t969\n",
      "chr1\t849557\t850619\tchr1\t840000\t850000\t443\n",
      "chr1\t975970\t976672\tchr1\t976000\t978000\t672\n",
      "chr1\t1059010\t1060142\tchr1\t1060000\t1065000\t142\n",
      "\n"
     ]
    }
   ],
   "source": [
    "cat ${FD_LOG}/annotation_astarr_peak_macs_input_hic_ENCSR479XDG.2.txt"
   ]
  },
  {
   "cell_type": "code",
   "execution_count": null,
   "id": "89b1132b-12d9-4707-b758-f3ea27654d67",
   "metadata": {},
   "outputs": [],
   "source": []
  }
 ],
 "metadata": {
  "kernelspec": {
   "display_name": "Bash",
   "language": "bash",
   "name": "bash"
  },
  "language_info": {
   "codemirror_mode": "shell",
   "file_extension": ".sh",
   "mimetype": "text/x-sh",
   "name": "bash"
  }
 },
 "nbformat": 4,
 "nbformat_minor": 5
}
