{
 "cells": [
  {
   "cell_type": "markdown",
   "metadata": {},
   "source": [
    "**Set environment**"
   ]
  },
  {
   "cell_type": "code",
   "execution_count": 1,
   "metadata": {},
   "outputs": [
    {
     "name": "stdout",
     "output_type": "stream",
     "text": [
      "You are in Singularity: singularity_proj_encode_fcc \n",
      "BASE DIRECTORY (FD_BASE): /data/reddylab/Kuei \n",
      "WORK DIRECTORY (FD_WORK): /data/reddylab/Kuei/out \n",
      "CODE DIRECTORY (FD_CODE): /data/reddylab/Kuei/code \n",
      "PATH OF PROJECT (FD_PRJ): /data/reddylab/Kuei/code/Proj_CombEffect_ENCODE_FCC \n",
      "PATH OF RESULTS (FD_RES): /data/reddylab/Kuei/out/proj_combeffect_encode_fcc \n",
      "PATH OF LOG     (FD_LOG): /data/reddylab/Kuei/out/proj_combeffect_encode_fcc/log \n"
     ]
    }
   ],
   "source": [
    "suppressMessages(suppressWarnings(source(\"../config/config_sing.R\")))\n",
    "show_env()"
   ]
  },
  {
   "cell_type": "markdown",
   "metadata": {},
   "source": [
    "## Import data"
   ]
  },
  {
   "cell_type": "markdown",
   "metadata": {},
   "source": [
    "## ATAC Peaks"
   ]
  },
  {
   "cell_type": "code",
   "execution_count": 38,
   "metadata": {},
   "outputs": [
    {
     "name": "stderr",
     "output_type": "stream",
     "text": [
      "\u001b[1mRows: \u001b[22m\u001b[34m247520\u001b[39m \u001b[1mColumns: \u001b[22m\u001b[34m3\u001b[39m\n",
      "\u001b[36m──\u001b[39m \u001b[1mColumn specification\u001b[22m \u001b[36m────────────────────────────────────────────────────────────────────────\u001b[39m\n",
      "\u001b[1mDelimiter:\u001b[22m \"\\t\"\n",
      "\u001b[31mchr\u001b[39m (1): Chrom\n",
      "\u001b[32mdbl\u001b[39m (2): Start, End\n",
      "\n",
      "\u001b[36mℹ\u001b[39m Use `spec()` to retrieve the full column specification for this data.\n",
      "\u001b[36mℹ\u001b[39m Specify the column types or set `show_col_types = FALSE` to quiet this message.\n"
     ]
    },
    {
     "name": "stdout",
     "output_type": "stream",
     "text": [
      "[1] 247520      4\n"
     ]
    },
    {
     "data": {
      "text/html": [
       "<table class=\"dataframe\">\n",
       "<caption>A tibble: 6 × 4</caption>\n",
       "<thead>\n",
       "\t<tr><th scope=col>Chrom</th><th scope=col>Start</th><th scope=col>End</th><th scope=col>Peak</th></tr>\n",
       "\t<tr><th scope=col>&lt;chr&gt;</th><th scope=col>&lt;dbl&gt;</th><th scope=col>&lt;dbl&gt;</th><th scope=col>&lt;chr&gt;</th></tr>\n",
       "</thead>\n",
       "<tbody>\n",
       "\t<tr><td>chr1</td><td>10015</td><td>10442</td><td>chr1_10015_10442</td></tr>\n",
       "\t<tr><td>chr1</td><td>14253</td><td>14645</td><td>chr1_14253_14645</td></tr>\n",
       "\t<tr><td>chr1</td><td>16015</td><td>16477</td><td>chr1_16015_16477</td></tr>\n",
       "\t<tr><td>chr1</td><td>17237</td><td>17772</td><td>chr1_17237_17772</td></tr>\n",
       "\t<tr><td>chr1</td><td>28903</td><td>29613</td><td>chr1_28903_29613</td></tr>\n",
       "\t<tr><td>chr1</td><td>30803</td><td>31072</td><td>chr1_30803_31072</td></tr>\n",
       "</tbody>\n",
       "</table>\n"
      ],
      "text/latex": [
       "A tibble: 6 × 4\n",
       "\\begin{tabular}{llll}\n",
       " Chrom & Start & End & Peak\\\\\n",
       " <chr> & <dbl> & <dbl> & <chr>\\\\\n",
       "\\hline\n",
       "\t chr1 & 10015 & 10442 & chr1\\_10015\\_10442\\\\\n",
       "\t chr1 & 14253 & 14645 & chr1\\_14253\\_14645\\\\\n",
       "\t chr1 & 16015 & 16477 & chr1\\_16015\\_16477\\\\\n",
       "\t chr1 & 17237 & 17772 & chr1\\_17237\\_17772\\\\\n",
       "\t chr1 & 28903 & 29613 & chr1\\_28903\\_29613\\\\\n",
       "\t chr1 & 30803 & 31072 & chr1\\_30803\\_31072\\\\\n",
       "\\end{tabular}\n"
      ],
      "text/markdown": [
       "\n",
       "A tibble: 6 × 4\n",
       "\n",
       "| Chrom &lt;chr&gt; | Start &lt;dbl&gt; | End &lt;dbl&gt; | Peak &lt;chr&gt; |\n",
       "|---|---|---|---|\n",
       "| chr1 | 10015 | 10442 | chr1_10015_10442 |\n",
       "| chr1 | 14253 | 14645 | chr1_14253_14645 |\n",
       "| chr1 | 16015 | 16477 | chr1_16015_16477 |\n",
       "| chr1 | 17237 | 17772 | chr1_17237_17772 |\n",
       "| chr1 | 28903 | 29613 | chr1_28903_29613 |\n",
       "| chr1 | 30803 | 31072 | chr1_30803_31072 |\n",
       "\n"
      ],
      "text/plain": [
       "  Chrom Start End   Peak            \n",
       "1 chr1  10015 10442 chr1_10015_10442\n",
       "2 chr1  14253 14645 chr1_14253_14645\n",
       "3 chr1  16015 16477 chr1_16015_16477\n",
       "4 chr1  17237 17772 chr1_17237_17772\n",
       "5 chr1  28903 29613 chr1_28903_29613\n",
       "6 chr1  30803 31072 chr1_30803_31072"
      ]
     },
     "metadata": {},
     "output_type": "display_data"
    }
   ],
   "source": [
    "fdiry = file.path(FD_RES, \"results\", \"region\", \"KS91_K562_ASTARRseq_peak_macs_input\")\n",
    "fname = \"KS91_K562_hg38_ASTARRseq_Input.all_reps.masked.union_narrowPeak.q5.bed\"\n",
    "fpath = file.path(fdiry, fname)\n",
    "\n",
    "cnames = c(\"Chrom\", \"Start\", \"End\")\n",
    "dat = read_tsv(fpath, col_names = cnames)\n",
    "dat = dat %>% dplyr::mutate(Peak = paste(Chrom, Start, End, sep = \"_\"))\n",
    "\n",
    "dat_peak_total = dat\n",
    "print(dim(dat))\n",
    "head(dat)"
   ]
  },
  {
   "cell_type": "markdown",
   "metadata": {},
   "source": [
    "### Enhancer"
   ]
  },
  {
   "cell_type": "code",
   "execution_count": 15,
   "metadata": {},
   "outputs": [
    {
     "name": "stderr",
     "output_type": "stream",
     "text": [
      "\u001b[1mRows: \u001b[22m\u001b[34m29012\u001b[39m \u001b[1mColumns: \u001b[22m\u001b[34m4\u001b[39m\n",
      "\u001b[36m──\u001b[39m \u001b[1mColumn specification\u001b[22m \u001b[36m────────────────────────────────────────────────────────────────────────\u001b[39m\n",
      "\u001b[1mDelimiter:\u001b[22m \"\\t\"\n",
      "\u001b[31mchr\u001b[39m (4): Peak, Name, Assay, Annotate\n",
      "\n",
      "\u001b[36mℹ\u001b[39m Use `spec()` to retrieve the full column specification for this data.\n",
      "\u001b[36mℹ\u001b[39m Specify the column types or set `show_col_types = FALSE` to quiet this message.\n"
     ]
    },
    {
     "name": "stdout",
     "output_type": "stream",
     "text": [
      "[1] 29012     4\n"
     ]
    },
    {
     "data": {
      "text/html": [
       "<table class=\"dataframe\">\n",
       "<caption>A tibble: 6 × 4</caption>\n",
       "<thead>\n",
       "\t<tr><th scope=col>Peak</th><th scope=col>Name</th><th scope=col>Assay</th><th scope=col>Annotate</th></tr>\n",
       "\t<tr><th scope=col>&lt;chr&gt;</th><th scope=col>&lt;chr&gt;</th><th scope=col>&lt;chr&gt;</th><th scope=col>&lt;chr&gt;</th></tr>\n",
       "</thead>\n",
       "<tbody>\n",
       "\t<tr><td>chr10_100009096_100010466</td><td>Enhancer</td><td>WSTARR       </td><td>chr10_100009900_100009950,chr10_100010000_100010030</td></tr>\n",
       "\t<tr><td>chr10_100185017_100187275</td><td>Enhancer</td><td>WSTARR       </td><td>chr10_100185860_100186300                          </td></tr>\n",
       "\t<tr><td>chr10_100228452_100230090</td><td>Enhancer</td><td>ASTARR       </td><td>chr10_100229600_100229770                          </td></tr>\n",
       "\t<tr><td>chr10_100267066_100268374</td><td>Enhancer</td><td>ASTARR,WSTARR</td><td>chr10_100267660_100267770,chr10_100267670_100267780</td></tr>\n",
       "\t<tr><td>chr10_100285974_100287341</td><td>Enhancer</td><td>WSTARR       </td><td>chr10_100286470_100286500,chr10_100286550_100286830</td></tr>\n",
       "\t<tr><td>chr10_100346328_100347693</td><td>Enhancer</td><td>WSTARR       </td><td>chr10_100346760_100347200                          </td></tr>\n",
       "</tbody>\n",
       "</table>\n"
      ],
      "text/latex": [
       "A tibble: 6 × 4\n",
       "\\begin{tabular}{llll}\n",
       " Peak & Name & Assay & Annotate\\\\\n",
       " <chr> & <chr> & <chr> & <chr>\\\\\n",
       "\\hline\n",
       "\t chr10\\_100009096\\_100010466 & Enhancer & WSTARR        & chr10\\_100009900\\_100009950,chr10\\_100010000\\_100010030\\\\\n",
       "\t chr10\\_100185017\\_100187275 & Enhancer & WSTARR        & chr10\\_100185860\\_100186300                          \\\\\n",
       "\t chr10\\_100228452\\_100230090 & Enhancer & ASTARR        & chr10\\_100229600\\_100229770                          \\\\\n",
       "\t chr10\\_100267066\\_100268374 & Enhancer & ASTARR,WSTARR & chr10\\_100267660\\_100267770,chr10\\_100267670\\_100267780\\\\\n",
       "\t chr10\\_100285974\\_100287341 & Enhancer & WSTARR        & chr10\\_100286470\\_100286500,chr10\\_100286550\\_100286830\\\\\n",
       "\t chr10\\_100346328\\_100347693 & Enhancer & WSTARR        & chr10\\_100346760\\_100347200                          \\\\\n",
       "\\end{tabular}\n"
      ],
      "text/markdown": [
       "\n",
       "A tibble: 6 × 4\n",
       "\n",
       "| Peak &lt;chr&gt; | Name &lt;chr&gt; | Assay &lt;chr&gt; | Annotate &lt;chr&gt; |\n",
       "|---|---|---|---|\n",
       "| chr10_100009096_100010466 | Enhancer | WSTARR        | chr10_100009900_100009950,chr10_100010000_100010030 |\n",
       "| chr10_100185017_100187275 | Enhancer | WSTARR        | chr10_100185860_100186300                           |\n",
       "| chr10_100228452_100230090 | Enhancer | ASTARR        | chr10_100229600_100229770                           |\n",
       "| chr10_100267066_100268374 | Enhancer | ASTARR,WSTARR | chr10_100267660_100267770,chr10_100267670_100267780 |\n",
       "| chr10_100285974_100287341 | Enhancer | WSTARR        | chr10_100286470_100286500,chr10_100286550_100286830 |\n",
       "| chr10_100346328_100347693 | Enhancer | WSTARR        | chr10_100346760_100347200                           |\n",
       "\n"
      ],
      "text/plain": [
       "  Peak                      Name     Assay        \n",
       "1 chr10_100009096_100010466 Enhancer WSTARR       \n",
       "2 chr10_100185017_100187275 Enhancer WSTARR       \n",
       "3 chr10_100228452_100230090 Enhancer ASTARR       \n",
       "4 chr10_100267066_100268374 Enhancer ASTARR,WSTARR\n",
       "5 chr10_100285974_100287341 Enhancer WSTARR       \n",
       "6 chr10_100346328_100347693 Enhancer WSTARR       \n",
       "  Annotate                                           \n",
       "1 chr10_100009900_100009950,chr10_100010000_100010030\n",
       "2 chr10_100185860_100186300                          \n",
       "3 chr10_100229600_100229770                          \n",
       "4 chr10_100267660_100267770,chr10_100267670_100267780\n",
       "5 chr10_100286470_100286500,chr10_100286550_100286830\n",
       "6 chr10_100346760_100347200                          "
      ]
     },
     "metadata": {},
     "output_type": "display_data"
    }
   ],
   "source": [
    "fdiry = file.path(FD_RES, \"results\", \"region\", \"KS91_K562_ASTARRseq_peak_macs_input\")\n",
    "fname = \"peak.summary.enhancer_junke_peak_merge.tsv\"\n",
    "fpath = file.path(fdiry, fname)\n",
    "\n",
    "dat = read_tsv(fpath)\n",
    "\n",
    "dat_peak_annot_enhancer = dat\n",
    "print(dim(dat))\n",
    "head(dat)"
   ]
  },
  {
   "cell_type": "markdown",
   "metadata": {},
   "source": [
    "### Promoter"
   ]
  },
  {
   "cell_type": "code",
   "execution_count": 16,
   "metadata": {},
   "outputs": [
    {
     "name": "stderr",
     "output_type": "stream",
     "text": [
      "\u001b[1mRows: \u001b[22m\u001b[34m19001\u001b[39m \u001b[1mColumns: \u001b[22m\u001b[34m4\u001b[39m\n",
      "\u001b[36m──\u001b[39m \u001b[1mColumn specification\u001b[22m \u001b[36m────────────────────────────────────────────────────────────────────────\u001b[39m\n",
      "\u001b[1mDelimiter:\u001b[22m \"\\t\"\n",
      "\u001b[31mchr\u001b[39m (3): Peak, Name, Annotate\n",
      "\u001b[32mdbl\u001b[39m (1): Count\n",
      "\n",
      "\u001b[36mℹ\u001b[39m Use `spec()` to retrieve the full column specification for this data.\n",
      "\u001b[36mℹ\u001b[39m Specify the column types or set `show_col_types = FALSE` to quiet this message.\n"
     ]
    },
    {
     "name": "stdout",
     "output_type": "stream",
     "text": [
      "[1] 19001     4\n"
     ]
    },
    {
     "data": {
      "text/html": [
       "<table class=\"dataframe\">\n",
       "<caption>A tibble: 6 × 4</caption>\n",
       "<thead>\n",
       "\t<tr><th scope=col>Peak</th><th scope=col>Name</th><th scope=col>Count</th><th scope=col>Annotate</th></tr>\n",
       "\t<tr><th scope=col>&lt;chr&gt;</th><th scope=col>&lt;chr&gt;</th><th scope=col>&lt;dbl&gt;</th><th scope=col>&lt;chr&gt;</th></tr>\n",
       "</thead>\n",
       "<tbody>\n",
       "\t<tr><td>chr10_100009096_100010466</td><td>TSS</td><td>1</td><td>ENSG00000107554.17                  </td></tr>\n",
       "\t<tr><td>chr10_100185017_100187275</td><td>TSS</td><td>1</td><td>ENSG00000107566.14                  </td></tr>\n",
       "\t<tr><td>chr10_100228452_100230090</td><td>TSS</td><td>2</td><td>ENSG00000213341.11,ENSG00000227492.2</td></tr>\n",
       "\t<tr><td>chr10_100267066_100268374</td><td>TSS</td><td>1</td><td>ENSG00000095485.18                  </td></tr>\n",
       "\t<tr><td>chr10_100285974_100287341</td><td>TSS</td><td>1</td><td>ENSG00000196072.12                  </td></tr>\n",
       "\t<tr><td>chr10_100346328_100347693</td><td>TSS</td><td>2</td><td>ENSG00000231188.1,ENSG00000099194.6 </td></tr>\n",
       "</tbody>\n",
       "</table>\n"
      ],
      "text/latex": [
       "A tibble: 6 × 4\n",
       "\\begin{tabular}{llll}\n",
       " Peak & Name & Count & Annotate\\\\\n",
       " <chr> & <chr> & <dbl> & <chr>\\\\\n",
       "\\hline\n",
       "\t chr10\\_100009096\\_100010466 & TSS & 1 & ENSG00000107554.17                  \\\\\n",
       "\t chr10\\_100185017\\_100187275 & TSS & 1 & ENSG00000107566.14                  \\\\\n",
       "\t chr10\\_100228452\\_100230090 & TSS & 2 & ENSG00000213341.11,ENSG00000227492.2\\\\\n",
       "\t chr10\\_100267066\\_100268374 & TSS & 1 & ENSG00000095485.18                  \\\\\n",
       "\t chr10\\_100285974\\_100287341 & TSS & 1 & ENSG00000196072.12                  \\\\\n",
       "\t chr10\\_100346328\\_100347693 & TSS & 2 & ENSG00000231188.1,ENSG00000099194.6 \\\\\n",
       "\\end{tabular}\n"
      ],
      "text/markdown": [
       "\n",
       "A tibble: 6 × 4\n",
       "\n",
       "| Peak &lt;chr&gt; | Name &lt;chr&gt; | Count &lt;dbl&gt; | Annotate &lt;chr&gt; |\n",
       "|---|---|---|---|\n",
       "| chr10_100009096_100010466 | TSS | 1 | ENSG00000107554.17                   |\n",
       "| chr10_100185017_100187275 | TSS | 1 | ENSG00000107566.14                   |\n",
       "| chr10_100228452_100230090 | TSS | 2 | ENSG00000213341.11,ENSG00000227492.2 |\n",
       "| chr10_100267066_100268374 | TSS | 1 | ENSG00000095485.18                   |\n",
       "| chr10_100285974_100287341 | TSS | 1 | ENSG00000196072.12                   |\n",
       "| chr10_100346328_100347693 | TSS | 2 | ENSG00000231188.1,ENSG00000099194.6  |\n",
       "\n"
      ],
      "text/plain": [
       "  Peak                      Name Count Annotate                            \n",
       "1 chr10_100009096_100010466 TSS  1     ENSG00000107554.17                  \n",
       "2 chr10_100185017_100187275 TSS  1     ENSG00000107566.14                  \n",
       "3 chr10_100228452_100230090 TSS  2     ENSG00000213341.11,ENSG00000227492.2\n",
       "4 chr10_100267066_100268374 TSS  1     ENSG00000095485.18                  \n",
       "5 chr10_100285974_100287341 TSS  1     ENSG00000196072.12                  \n",
       "6 chr10_100346328_100347693 TSS  2     ENSG00000231188.1,ENSG00000099194.6 "
      ]
     },
     "metadata": {},
     "output_type": "display_data"
    }
   ],
   "source": [
    "fdiry = file.path(FD_RES, \"results\", \"region\", \"KS91_K562_ASTARRseq_peak_macs_input\")\n",
    "fname = \"peak.summary.gencode_v24_tss.tsv\"\n",
    "fpath = file.path(fdiry, fname)\n",
    "\n",
    "dat = read_tsv(fpath)\n",
    "\n",
    "dat_peak_annot_promoter = dat\n",
    "print(dim(dat))\n",
    "head(dat)"
   ]
  },
  {
   "cell_type": "markdown",
   "metadata": {},
   "source": [
    "### Hi-C Loop"
   ]
  },
  {
   "cell_type": "code",
   "execution_count": 17,
   "metadata": {},
   "outputs": [
    {
     "name": "stderr",
     "output_type": "stream",
     "text": [
      "\u001b[1mRows: \u001b[22m\u001b[34m76853\u001b[39m \u001b[1mColumns: \u001b[22m\u001b[34m3\u001b[39m\n",
      "\u001b[36m──\u001b[39m \u001b[1mColumn specification\u001b[22m \u001b[36m────────────────────────────────────────────────────────────────────────\u001b[39m\n",
      "\u001b[1mDelimiter:\u001b[22m \"\\t\"\n",
      "\u001b[31mchr\u001b[39m (2): Peak_A, Peak_B\n",
      "\u001b[32mdbl\u001b[39m (1): Count\n",
      "\n",
      "\u001b[36mℹ\u001b[39m Use `spec()` to retrieve the full column specification for this data.\n",
      "\u001b[36mℹ\u001b[39m Specify the column types or set `show_col_types = FALSE` to quiet this message.\n"
     ]
    },
    {
     "name": "stdout",
     "output_type": "stream",
     "text": [
      "[1] 76853     3\n"
     ]
    },
    {
     "data": {
      "text/html": [
       "<table class=\"dataframe\">\n",
       "<caption>A tibble: 6 × 3</caption>\n",
       "<thead>\n",
       "\t<tr><th scope=col>Peak_A</th><th scope=col>Peak_B</th><th scope=col>Count</th></tr>\n",
       "\t<tr><th scope=col>&lt;chr&gt;</th><th scope=col>&lt;chr&gt;</th><th scope=col>&lt;dbl&gt;</th></tr>\n",
       "</thead>\n",
       "<tbody>\n",
       "\t<tr><td>chr10_100338359_100339077</td><td>chr10_100433434_100434444</td><td>1</td></tr>\n",
       "\t<tr><td>chr10_100342247_100342824</td><td>chr10_100433434_100434444</td><td>1</td></tr>\n",
       "\t<tr><td>chr10_100342247_100342824</td><td>chr10_100508470_100509309</td><td>1</td></tr>\n",
       "\t<tr><td>chr10_100342247_100342824</td><td>chr10_100871690_100872646</td><td>1</td></tr>\n",
       "\t<tr><td>chr10_100342247_100342824</td><td>chr10_100878006_100879519</td><td>1</td></tr>\n",
       "\t<tr><td>chr10_100342247_100342824</td><td>chr10_100879867_100880309</td><td>1</td></tr>\n",
       "</tbody>\n",
       "</table>\n"
      ],
      "text/latex": [
       "A tibble: 6 × 3\n",
       "\\begin{tabular}{lll}\n",
       " Peak\\_A & Peak\\_B & Count\\\\\n",
       " <chr> & <chr> & <dbl>\\\\\n",
       "\\hline\n",
       "\t chr10\\_100338359\\_100339077 & chr10\\_100433434\\_100434444 & 1\\\\\n",
       "\t chr10\\_100342247\\_100342824 & chr10\\_100433434\\_100434444 & 1\\\\\n",
       "\t chr10\\_100342247\\_100342824 & chr10\\_100508470\\_100509309 & 1\\\\\n",
       "\t chr10\\_100342247\\_100342824 & chr10\\_100871690\\_100872646 & 1\\\\\n",
       "\t chr10\\_100342247\\_100342824 & chr10\\_100878006\\_100879519 & 1\\\\\n",
       "\t chr10\\_100342247\\_100342824 & chr10\\_100879867\\_100880309 & 1\\\\\n",
       "\\end{tabular}\n"
      ],
      "text/markdown": [
       "\n",
       "A tibble: 6 × 3\n",
       "\n",
       "| Peak_A &lt;chr&gt; | Peak_B &lt;chr&gt; | Count &lt;dbl&gt; |\n",
       "|---|---|---|\n",
       "| chr10_100338359_100339077 | chr10_100433434_100434444 | 1 |\n",
       "| chr10_100342247_100342824 | chr10_100433434_100434444 | 1 |\n",
       "| chr10_100342247_100342824 | chr10_100508470_100509309 | 1 |\n",
       "| chr10_100342247_100342824 | chr10_100871690_100872646 | 1 |\n",
       "| chr10_100342247_100342824 | chr10_100878006_100879519 | 1 |\n",
       "| chr10_100342247_100342824 | chr10_100879867_100880309 | 1 |\n",
       "\n"
      ],
      "text/plain": [
       "  Peak_A                    Peak_B                    Count\n",
       "1 chr10_100338359_100339077 chr10_100433434_100434444 1    \n",
       "2 chr10_100342247_100342824 chr10_100433434_100434444 1    \n",
       "3 chr10_100342247_100342824 chr10_100508470_100509309 1    \n",
       "4 chr10_100342247_100342824 chr10_100871690_100872646 1    \n",
       "5 chr10_100342247_100342824 chr10_100878006_100879519 1    \n",
       "6 chr10_100342247_100342824 chr10_100879867_100880309 1    "
      ]
     },
     "metadata": {},
     "output_type": "display_data"
    }
   ],
   "source": [
    "fdiry = file.path(FD_RES, \"results\", \"region\", \"KS91_K562_ASTARRseq_peak_macs_input\", \"summary\")\n",
    "fname = \"peak.summary.hic_intact.edge.tsv\"\n",
    "fpath = file.path(fdiry, fname)\n",
    "\n",
    "dat = read_tsv(fpath)\n",
    "\n",
    "dat_peak_loop = dat\n",
    "print(dim(dat))\n",
    "head(dat)"
   ]
  },
  {
   "cell_type": "markdown",
   "metadata": {},
   "source": [
    "## Composition"
   ]
  },
  {
   "cell_type": "code",
   "execution_count": 39,
   "metadata": {},
   "outputs": [],
   "source": [
    "dat = dat_peak_annot_enhancer\n",
    "dat = dat %>% dplyr::mutate(Enhancer = \"E\") %>% dplyr::select(Peak, Enhancer) %>% distinct\n",
    "dat_peak_enhancer = dat\n",
    "\n",
    "dat = dat_peak_annot_promoter\n",
    "dat = dat %>% dplyr::mutate(Promoter = \"P\") %>% dplyr::select(Peak, Promoter) %>% distinct\n",
    "dat_peak_promoter = dat"
   ]
  },
  {
   "cell_type": "code",
   "execution_count": 40,
   "metadata": {},
   "outputs": [
    {
     "name": "stdout",
     "output_type": "stream",
     "text": [
      "[1] 29012\n",
      "[1] 19001\n",
      "[1] 8750\n"
     ]
    }
   ],
   "source": [
    "print(nrow(dat_peak_enhancer))\n",
    "print(nrow(dat_peak_promoter))\n",
    "print(length(intersect(dat_peak_enhancer$Peak, dat_peak_promoter$Peak)))"
   ]
  },
  {
   "cell_type": "code",
   "execution_count": 86,
   "metadata": {},
   "outputs": [
    {
     "data": {
      "text/html": [
       "<table class=\"dataframe\">\n",
       "<caption>A tibble: 4 × 2</caption>\n",
       "<thead>\n",
       "\t<tr><th scope=col>Type</th><th scope=col>Count</th></tr>\n",
       "\t<tr><th scope=col>&lt;chr&gt;</th><th scope=col>&lt;int&gt;</th></tr>\n",
       "</thead>\n",
       "<tbody>\n",
       "\t<tr><td>E   </td><td> 20262</td></tr>\n",
       "\t<tr><td>EP  </td><td>  8750</td></tr>\n",
       "\t<tr><td>None</td><td>208257</td></tr>\n",
       "\t<tr><td>P   </td><td> 10251</td></tr>\n",
       "</tbody>\n",
       "</table>\n"
      ],
      "text/latex": [
       "A tibble: 4 × 2\n",
       "\\begin{tabular}{ll}\n",
       " Type & Count\\\\\n",
       " <chr> & <int>\\\\\n",
       "\\hline\n",
       "\t E    &  20262\\\\\n",
       "\t EP   &   8750\\\\\n",
       "\t None & 208257\\\\\n",
       "\t P    &  10251\\\\\n",
       "\\end{tabular}\n"
      ],
      "text/markdown": [
       "\n",
       "A tibble: 4 × 2\n",
       "\n",
       "| Type &lt;chr&gt; | Count &lt;int&gt; |\n",
       "|---|---|\n",
       "| E    |  20262 |\n",
       "| EP   |   8750 |\n",
       "| None | 208257 |\n",
       "| P    |  10251 |\n",
       "\n"
      ],
      "text/plain": [
       "  Type Count \n",
       "1 E     20262\n",
       "2 EP     8750\n",
       "3 None 208257\n",
       "4 P     10251"
      ]
     },
     "metadata": {},
     "output_type": "display_data"
    }
   ],
   "source": [
    "dat = dat_peak_total\n",
    "dat = dat %>% \n",
    "    dplyr::left_join(dat_peak_enhancer, by = \"Peak\") %>%\n",
    "    dplyr::left_join(dat_peak_promoter, by = \"Peak\") %>%\n",
    "    replace(is.na(.), \"\")\n",
    "\n",
    "dat = dat %>% \n",
    "    dplyr::mutate(Type = paste0(Enhancer, Promoter)) %>%\n",
    "    dplyr::mutate(Type = ifelse(Type == \"\", \"None\", Type)) %>%\n",
    "    dplyr::group_by(Type) %>%\n",
    "    dplyr::summarize(Count = n())\n",
    "\n",
    "dat_peak_type = dat\n",
    "head(dat)"
   ]
  },
  {
   "cell_type": "code",
   "execution_count": 87,
   "metadata": {},
   "outputs": [
    {
     "data": {
      "image/png": "[encoded data removed]",
      "text/plain": [
       "plot without title"
      ]
     },
     "metadata": {
      "image/png": {
       "height": 180,
       "width": 300
      }
     },
     "output_type": "display_data"
    }
   ],
   "source": [
    "dat = dat_peak_type\n",
    "dat$Type = factor(dat$Type, levels=c(\"None\", \"E\", \"P\", \"EP\"))\n",
    "\n",
    "gpt = ggplot(dat, aes(x=Type, y=Count)) + \n",
    "    geom_col() + \n",
    "    labs(x = \"\", title = \"Open Chromatin Regions\") +\n",
    "    theme_cowplot()\n",
    "\n",
    "options(repr.plot.height=3, repr.plot.width=5)\n",
    "print(gpt)"
   ]
  },
  {
   "cell_type": "markdown",
   "metadata": {},
   "source": [
    "## E-P links"
   ]
  },
  {
   "cell_type": "code",
   "execution_count": 93,
   "metadata": {},
   "outputs": [
    {
     "name": "stdout",
     "output_type": "stream",
     "text": [
      "#Edge: 76853 \n",
      "#Node: 50890 \n"
     ]
    }
   ],
   "source": [
    "dat = dat_peak_loop\n",
    "peaks = unique(c(dat$Peak_A, dat$Peak_B))\n",
    "\n",
    "cat(\"#Edge:\", nrow(dat), \"\\n\")\n",
    "cat(\"#Node:\", length(peaks), \"\\n\")"
   ]
  },
  {
   "cell_type": "code",
   "execution_count": 74,
   "metadata": {},
   "outputs": [
    {
     "name": "stdout",
     "output_type": "stream",
     "text": [
      "[1] 76853     6\n"
     ]
    },
    {
     "data": {
      "text/html": [
       "<table class=\"dataframe\">\n",
       "<caption>A rowwise_df: 6 × 6</caption>\n",
       "<thead>\n",
       "\t<tr><th scope=col>Peak_A</th><th scope=col>Peak_B</th><th scope=col>Count</th><th scope=col>Enhancer</th><th scope=col>Promoter</th><th scope=col>Edge</th></tr>\n",
       "\t<tr><th scope=col>&lt;chr&gt;</th><th scope=col>&lt;chr&gt;</th><th scope=col>&lt;dbl&gt;</th><th scope=col>&lt;chr&gt;</th><th scope=col>&lt;chr&gt;</th><th scope=col>&lt;chr&gt;</th></tr>\n",
       "</thead>\n",
       "<tbody>\n",
       "\t<tr><td>chr10_100338359_100339077</td><td>chr10_100433434_100434444</td><td>1</td><td>X</td><td>X</td><td>X-X</td></tr>\n",
       "\t<tr><td>chr10_100342247_100342824</td><td>chr10_100433434_100434444</td><td>1</td><td>X</td><td>X</td><td>X-X</td></tr>\n",
       "\t<tr><td>chr10_100342247_100342824</td><td>chr10_100508470_100509309</td><td>1</td><td>X</td><td>X</td><td>X-X</td></tr>\n",
       "\t<tr><td>chr10_100342247_100342824</td><td>chr10_100871690_100872646</td><td>1</td><td>X</td><td>X</td><td>X-X</td></tr>\n",
       "\t<tr><td>chr10_100342247_100342824</td><td>chr10_100878006_100879519</td><td>1</td><td>X</td><td>X</td><td>X-X</td></tr>\n",
       "\t<tr><td>chr10_100342247_100342824</td><td>chr10_100879867_100880309</td><td>1</td><td>X</td><td>X</td><td>X-X</td></tr>\n",
       "</tbody>\n",
       "</table>\n"
      ],
      "text/latex": [
       "A rowwise\\_df: 6 × 6\n",
       "\\begin{tabular}{llllll}\n",
       " Peak\\_A & Peak\\_B & Count & Enhancer & Promoter & Edge\\\\\n",
       " <chr> & <chr> & <dbl> & <chr> & <chr> & <chr>\\\\\n",
       "\\hline\n",
       "\t chr10\\_100338359\\_100339077 & chr10\\_100433434\\_100434444 & 1 & X & X & X-X\\\\\n",
       "\t chr10\\_100342247\\_100342824 & chr10\\_100433434\\_100434444 & 1 & X & X & X-X\\\\\n",
       "\t chr10\\_100342247\\_100342824 & chr10\\_100508470\\_100509309 & 1 & X & X & X-X\\\\\n",
       "\t chr10\\_100342247\\_100342824 & chr10\\_100871690\\_100872646 & 1 & X & X & X-X\\\\\n",
       "\t chr10\\_100342247\\_100342824 & chr10\\_100878006\\_100879519 & 1 & X & X & X-X\\\\\n",
       "\t chr10\\_100342247\\_100342824 & chr10\\_100879867\\_100880309 & 1 & X & X & X-X\\\\\n",
       "\\end{tabular}\n"
      ],
      "text/markdown": [
       "\n",
       "A rowwise_df: 6 × 6\n",
       "\n",
       "| Peak_A &lt;chr&gt; | Peak_B &lt;chr&gt; | Count &lt;dbl&gt; | Enhancer &lt;chr&gt; | Promoter &lt;chr&gt; | Edge &lt;chr&gt; |\n",
       "|---|---|---|---|---|---|\n",
       "| chr10_100338359_100339077 | chr10_100433434_100434444 | 1 | X | X | X-X |\n",
       "| chr10_100342247_100342824 | chr10_100433434_100434444 | 1 | X | X | X-X |\n",
       "| chr10_100342247_100342824 | chr10_100508470_100509309 | 1 | X | X | X-X |\n",
       "| chr10_100342247_100342824 | chr10_100871690_100872646 | 1 | X | X | X-X |\n",
       "| chr10_100342247_100342824 | chr10_100878006_100879519 | 1 | X | X | X-X |\n",
       "| chr10_100342247_100342824 | chr10_100879867_100880309 | 1 | X | X | X-X |\n",
       "\n"
      ],
      "text/plain": [
       "  Peak_A                    Peak_B                    Count Enhancer Promoter\n",
       "1 chr10_100338359_100339077 chr10_100433434_100434444 1     X        X       \n",
       "2 chr10_100342247_100342824 chr10_100433434_100434444 1     X        X       \n",
       "3 chr10_100342247_100342824 chr10_100508470_100509309 1     X        X       \n",
       "4 chr10_100342247_100342824 chr10_100871690_100872646 1     X        X       \n",
       "5 chr10_100342247_100342824 chr10_100878006_100879519 1     X        X       \n",
       "6 chr10_100342247_100342824 chr10_100879867_100880309 1     X        X       \n",
       "  Edge\n",
       "1 X-X \n",
       "2 X-X \n",
       "3 X-X \n",
       "4 X-X \n",
       "5 X-X \n",
       "6 X-X "
      ]
     },
     "metadata": {},
     "output_type": "display_data"
    }
   ],
   "source": [
    "dat = dat_peak_loop\n",
    "dat = left_join(dat, dat_peak_enhancer, by = c(\"Peak_A\" = \"Peak\"))\n",
    "dat = left_join(dat, dat_peak_promoter, by = c(\"Peak_B\" = \"Peak\"))\n",
    "dat = dat %>% \n",
    "    replace(is.na(.), \"X\") %>% \n",
    "    dplyr::rowwise() %>% \n",
    "    dplyr::mutate(Edge = paste(sort(c(Enhancer, Promoter)), collapse = \"-\"))\n",
    "\n",
    "dat_loop_EP = dat\n",
    "print(dim(dat))\n",
    "head(dat)"
   ]
  },
  {
   "cell_type": "code",
   "execution_count": 75,
   "metadata": {},
   "outputs": [
    {
     "data": {
      "text/plain": [
       "\n",
       "  E-P   E-X   P-X   X-X \n",
       " 5130 14231  7968 49524 "
      ]
     },
     "metadata": {},
     "output_type": "display_data"
    }
   ],
   "source": [
    "table(dat_loop_EP$Edge)"
   ]
  },
  {
   "cell_type": "code",
   "execution_count": 76,
   "metadata": {},
   "outputs": [
    {
     "name": "stdout",
     "output_type": "stream",
     "text": [
      "[1] 76853     6\n"
     ]
    },
    {
     "data": {
      "text/html": [
       "<table class=\"dataframe\">\n",
       "<caption>A rowwise_df: 6 × 6</caption>\n",
       "<thead>\n",
       "\t<tr><th scope=col>Peak_A</th><th scope=col>Peak_B</th><th scope=col>Count</th><th scope=col>Enhancer</th><th scope=col>Promoter</th><th scope=col>Edge</th></tr>\n",
       "\t<tr><th scope=col>&lt;chr&gt;</th><th scope=col>&lt;chr&gt;</th><th scope=col>&lt;dbl&gt;</th><th scope=col>&lt;chr&gt;</th><th scope=col>&lt;chr&gt;</th><th scope=col>&lt;chr&gt;</th></tr>\n",
       "</thead>\n",
       "<tbody>\n",
       "\t<tr><td>chr10_100338359_100339077</td><td>chr10_100433434_100434444</td><td>1</td><td>X</td><td>X</td><td>X-X</td></tr>\n",
       "\t<tr><td>chr10_100342247_100342824</td><td>chr10_100433434_100434444</td><td>1</td><td>X</td><td>X</td><td>X-X</td></tr>\n",
       "\t<tr><td>chr10_100342247_100342824</td><td>chr10_100508470_100509309</td><td>1</td><td>X</td><td>X</td><td>X-X</td></tr>\n",
       "\t<tr><td>chr10_100342247_100342824</td><td>chr10_100871690_100872646</td><td>1</td><td>X</td><td>X</td><td>X-X</td></tr>\n",
       "\t<tr><td>chr10_100342247_100342824</td><td>chr10_100878006_100879519</td><td>1</td><td>X</td><td>X</td><td>X-X</td></tr>\n",
       "\t<tr><td>chr10_100342247_100342824</td><td>chr10_100879867_100880309</td><td>1</td><td>X</td><td>X</td><td>X-X</td></tr>\n",
       "</tbody>\n",
       "</table>\n"
      ],
      "text/latex": [
       "A rowwise\\_df: 6 × 6\n",
       "\\begin{tabular}{llllll}\n",
       " Peak\\_A & Peak\\_B & Count & Enhancer & Promoter & Edge\\\\\n",
       " <chr> & <chr> & <dbl> & <chr> & <chr> & <chr>\\\\\n",
       "\\hline\n",
       "\t chr10\\_100338359\\_100339077 & chr10\\_100433434\\_100434444 & 1 & X & X & X-X\\\\\n",
       "\t chr10\\_100342247\\_100342824 & chr10\\_100433434\\_100434444 & 1 & X & X & X-X\\\\\n",
       "\t chr10\\_100342247\\_100342824 & chr10\\_100508470\\_100509309 & 1 & X & X & X-X\\\\\n",
       "\t chr10\\_100342247\\_100342824 & chr10\\_100871690\\_100872646 & 1 & X & X & X-X\\\\\n",
       "\t chr10\\_100342247\\_100342824 & chr10\\_100878006\\_100879519 & 1 & X & X & X-X\\\\\n",
       "\t chr10\\_100342247\\_100342824 & chr10\\_100879867\\_100880309 & 1 & X & X & X-X\\\\\n",
       "\\end{tabular}\n"
      ],
      "text/markdown": [
       "\n",
       "A rowwise_df: 6 × 6\n",
       "\n",
       "| Peak_A &lt;chr&gt; | Peak_B &lt;chr&gt; | Count &lt;dbl&gt; | Enhancer &lt;chr&gt; | Promoter &lt;chr&gt; | Edge &lt;chr&gt; |\n",
       "|---|---|---|---|---|---|\n",
       "| chr10_100338359_100339077 | chr10_100433434_100434444 | 1 | X | X | X-X |\n",
       "| chr10_100342247_100342824 | chr10_100433434_100434444 | 1 | X | X | X-X |\n",
       "| chr10_100342247_100342824 | chr10_100508470_100509309 | 1 | X | X | X-X |\n",
       "| chr10_100342247_100342824 | chr10_100871690_100872646 | 1 | X | X | X-X |\n",
       "| chr10_100342247_100342824 | chr10_100878006_100879519 | 1 | X | X | X-X |\n",
       "| chr10_100342247_100342824 | chr10_100879867_100880309 | 1 | X | X | X-X |\n",
       "\n"
      ],
      "text/plain": [
       "  Peak_A                    Peak_B                    Count Enhancer Promoter\n",
       "1 chr10_100338359_100339077 chr10_100433434_100434444 1     X        X       \n",
       "2 chr10_100342247_100342824 chr10_100433434_100434444 1     X        X       \n",
       "3 chr10_100342247_100342824 chr10_100508470_100509309 1     X        X       \n",
       "4 chr10_100342247_100342824 chr10_100871690_100872646 1     X        X       \n",
       "5 chr10_100342247_100342824 chr10_100878006_100879519 1     X        X       \n",
       "6 chr10_100342247_100342824 chr10_100879867_100880309 1     X        X       \n",
       "  Edge\n",
       "1 X-X \n",
       "2 X-X \n",
       "3 X-X \n",
       "4 X-X \n",
       "5 X-X \n",
       "6 X-X "
      ]
     },
     "metadata": {},
     "output_type": "display_data"
    }
   ],
   "source": [
    "dat = dat_peak_loop\n",
    "dat = left_join(dat, dat_peak_enhancer, by = c(\"Peak_B\" = \"Peak\"))\n",
    "dat = left_join(dat, dat_peak_promoter, by = c(\"Peak_A\" = \"Peak\"))\n",
    "dat = dat %>% \n",
    "    replace(is.na(.), \"X\") %>% \n",
    "    dplyr::rowwise() %>% \n",
    "    dplyr::mutate(Edge = paste(sort(c(Enhancer, Promoter)), collapse = \"-\"))\n",
    "\n",
    "dat_loop_PE = dat\n",
    "print(dim(dat))\n",
    "head(dat)"
   ]
  },
  {
   "cell_type": "code",
   "execution_count": 77,
   "metadata": {},
   "outputs": [
    {
     "data": {
      "text/plain": [
       "\n",
       "  E-P   E-X   P-X   X-X \n",
       " 5128 14288  8219 49218 "
      ]
     },
     "metadata": {},
     "output_type": "display_data"
    }
   ],
   "source": [
    "table(dat_loop_PE$Edge)"
   ]
  },
  {
   "cell_type": "code",
   "execution_count": 89,
   "metadata": {},
   "outputs": [
    {
     "name": "stdout",
     "output_type": "stream",
     "text": [
      "[1] 4 2\n"
     ]
    },
    {
     "data": {
      "text/html": [
       "<table class=\"dataframe\">\n",
       "<caption>A tibble: 4 × 2</caption>\n",
       "<thead>\n",
       "\t<tr><th scope=col>Edge</th><th scope=col>Count</th></tr>\n",
       "\t<tr><th scope=col>&lt;chr&gt;</th><th scope=col>&lt;int&gt;</th></tr>\n",
       "</thead>\n",
       "<tbody>\n",
       "\t<tr><td>E-P</td><td> 7953</td></tr>\n",
       "\t<tr><td>E-X</td><td>26449</td></tr>\n",
       "\t<tr><td>P-X</td><td>15871</td></tr>\n",
       "\t<tr><td>X-X</td><td>59107</td></tr>\n",
       "</tbody>\n",
       "</table>\n"
      ],
      "text/latex": [
       "A tibble: 4 × 2\n",
       "\\begin{tabular}{ll}\n",
       " Edge & Count\\\\\n",
       " <chr> & <int>\\\\\n",
       "\\hline\n",
       "\t E-P &  7953\\\\\n",
       "\t E-X & 26449\\\\\n",
       "\t P-X & 15871\\\\\n",
       "\t X-X & 59107\\\\\n",
       "\\end{tabular}\n"
      ],
      "text/markdown": [
       "\n",
       "A tibble: 4 × 2\n",
       "\n",
       "| Edge &lt;chr&gt; | Count &lt;int&gt; |\n",
       "|---|---|\n",
       "| E-P |  7953 |\n",
       "| E-X | 26449 |\n",
       "| P-X | 15871 |\n",
       "| X-X | 59107 |\n",
       "\n"
      ],
      "text/plain": [
       "  Edge Count\n",
       "1 E-P   7953\n",
       "2 E-X  26449\n",
       "3 P-X  15871\n",
       "4 X-X  59107"
      ]
     },
     "metadata": {},
     "output_type": "display_data"
    }
   ],
   "source": [
    "dat = bind_rows(dat_loop_EP, dat_loop_PE)\n",
    "dat = dat %>% \n",
    "    dplyr::select(Peak_A, Peak_B, Edge) %>% \n",
    "    dplyr::distinct() %>%\n",
    "    dplyr::group_by(Edge) %>%\n",
    "    dplyr::summarize(Count = n())\n",
    "\n",
    "dat_loop_type = dat\n",
    "print(dim(dat))\n",
    "head(dat)"
   ]
  },
  {
   "cell_type": "code",
   "execution_count": 100,
   "metadata": {},
   "outputs": [
    {
     "data": {
      "image/png": "[encoded data removed]",
      "text/plain": [
       "plot without title"
      ]
     },
     "metadata": {
      "image/png": {
       "height": 240,
       "width": 360
      }
     },
     "output_type": "display_data"
    }
   ],
   "source": [
    "dat = dat_loop_type\n",
    "dat$Edge = factor(dat$Edge, levels=c(\"X-X\", \"E-X\", \"P-X\", \"E-P\"))\n",
    "\n",
    "gpt = ggplot(dat, aes(x=Edge, y=Count)) + \n",
    "    geom_col() + \n",
    "    labs(x = \"\", title = \"Open Chromatin Regions connected by Loops\") +\n",
    "    theme_cowplot()\n",
    "\n",
    "options(repr.plot.height=4, repr.plot.width=6)\n",
    "print(gpt)"
   ]
  },
  {
   "cell_type": "code",
   "execution_count": null,
   "metadata": {},
   "outputs": [],
   "source": []
  }
 ],
 "metadata": {
  "kernelspec": {
   "display_name": "R",
   "language": "R",
   "name": "ir"
  },
  "language_info": {
   "codemirror_mode": "r",
   "file_extension": ".r",
   "mimetype": "text/x-r-source",
   "name": "R",
   "pygments_lexer": "r",
   "version": "4.2.3"
  }
 },
 "nbformat": 4,
 "nbformat_minor": 4
}
