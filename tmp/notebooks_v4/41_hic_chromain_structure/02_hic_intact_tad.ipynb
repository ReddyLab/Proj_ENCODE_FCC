{
 "cells": [
  {
   "cell_type": "code",
   "execution_count": 1,
   "metadata": {},
   "outputs": [
    {
     "name": "stdout",
     "output_type": "stream",
     "text": [
      "You are in Singularity: singularity_proj_encode_fcc \n",
      "BASE DIRECTORY (FD_BASE): /data/reddylab/Kuei \n",
      "WORK DIRECTORY (FD_WORK): /data/reddylab/Kuei/out \n",
      "CODE DIRECTORY (FD_CODE): /data/reddylab/Kuei/code \n",
      "PATH OF PROJECT (FD_PRJ): /data/reddylab/Kuei/code/Proj_CombEffect_ENCODE_FCC \n",
      "PATH OF RESULTS (FD_RES): /data/reddylab/Kuei/out/proj_combeffect_encode_fcc \n",
      "PATH OF LOG     (FD_LOG): /data/reddylab/Kuei/out/proj_combeffect_encode_fcc/log \n"
     ]
    }
   ],
   "source": [
    "suppressMessages(suppressWarnings(source(\"../config/config_sing.R\")))\n",
    "show_env()"
   ]
  },
  {
   "cell_type": "code",
   "execution_count": 2,
   "metadata": {},
   "outputs": [
    {
     "data": {
      "text/html": [
       "<style>\n",
       ".list-inline {list-style: none; margin:0; padding: 0}\n",
       ".list-inline>li {display: inline-block}\n",
       ".list-inline>li:not(:last-child)::after {content: \"\\00b7\"; padding: 0 .5ex}\n",
       "</style>\n",
       "<ol class=list-inline><li>'K562.ENCSR479XDG.ENCFF126GED.contact_domains.bedpe.gz'</li><li>'K562.ENCSR479XDG.ENCFF256ZMD.loops.bedpe.gz'</li></ol>\n"
      ],
      "text/latex": [
       "\\begin{enumerate*}\n",
       "\\item 'K562.ENCSR479XDG.ENCFF126GED.contact\\_domains.bedpe.gz'\n",
       "\\item 'K562.ENCSR479XDG.ENCFF256ZMD.loops.bedpe.gz'\n",
       "\\end{enumerate*}\n"
      ],
      "text/markdown": [
       "1. 'K562.ENCSR479XDG.ENCFF126GED.contact_domains.bedpe.gz'\n",
       "2. 'K562.ENCSR479XDG.ENCFF256ZMD.loops.bedpe.gz'\n",
       "\n",
       "\n"
      ],
      "text/plain": [
       "[1] \"K562.ENCSR479XDG.ENCFF126GED.contact_domains.bedpe.gz\"\n",
       "[2] \"K562.ENCSR479XDG.ENCFF256ZMD.loops.bedpe.gz\"          "
      ]
     },
     "metadata": {},
     "output_type": "display_data"
    }
   ],
   "source": [
    "fdiry = file.path(FD_RES, \"source\", \"hic_intact\")\n",
    "dir(fdiry)"
   ]
  },
  {
   "cell_type": "code",
   "execution_count": 3,
   "metadata": {},
   "outputs": [
    {
     "data": {
      "text/html": [
       "<style>\n",
       ".list-inline {list-style: none; margin:0; padding: 0}\n",
       ".list-inline>li {display: inline-block}\n",
       ".list-inline>li:not(:last-child)::after {content: \"\\00b7\"; padding: 0 .5ex}\n",
       "</style>\n",
       "<ol class=list-inline><li>'#chr1\\tx1\\tx2\\tchr2\\ty1\\ty2\\tname\\tscore\\tstrand1\\tstrand2\\tcolor\\tscore\\tuVarScore\\tlVarScore\\tupSign\\tloSign'</li><li>'# juicer_tools version 2.13.06'</li><li>'chr10\\t89790000\\t90730000\\tchr10\\t89790000\\t90730000\\t.\\t.\\t.\\t.\\t255,255,0\\t0.48733428805910184\\t0.43218752937273686\\t0.39101424267719964\\t0.4366181410974244\\t0.5132138857782754'</li><li>'chr10\\t117485000\\t118260000\\tchr10\\t117485000\\t118260000\\t.\\t.\\t.\\t.\\t255,255,0\\t0.47145995448002187\\t0.40388060738386966\\t0.40280872469677464\\t0.44690992767915844\\t0.4451019066403682'</li><li>'chr10\\t51125000\\t52215000\\tchr10\\t51125000\\t52215000\\t.\\t.\\t.\\t.\\t255,255,0\\t0.575707559391474\\t0.38559880334456653\\t0.3954850048221743\\t0.47122602168473726\\t0.40008340283569643'</li><li>'chr10\\t112495000\\t113565000\\tchr10\\t112495000\\t113565000\\t.\\t.\\t.\\t.\\t255,255,0\\t0.6096007256380153\\t0.3796907769991358\\t0.395265539295569\\t0.5317583939079266\\t0.46131879543094495'</li><li>'chr10\\t84540000\\t86085000\\tchr10\\t84540000\\t86085000\\t.\\t.\\t.\\t.\\t255,255,0\\t0.5786491314515995\\t0.41194909350330966\\t0.3597104580764071\\t0.44241415192507805\\t0.4804162330905307'</li><li>'chr10\\t94665000\\t95075000\\tchr10\\t94665000\\t95075000\\t.\\t.\\t.\\t.\\t255,255,0\\t0.6267518627735565\\t0.3811023684762621\\t0.3788707090932024\\t0.5\\t0.40185830429732866'</li><li>'chr10\\t30720000\\t31805000\\tchr10\\t30720000\\t31805000\\t.\\t.\\t.\\t.\\t255,255,0\\t0.5897210984514966\\t0.35466875201487424\\t0.39677175969377804\\t0.42614258059085935\\t0.5093847319249222'</li><li>'chr10\\t8520000\\t9255000\\tchr10\\t8520000\\t9255000\\t.\\t.\\t.\\t.\\t255,255,0\\t0.5208330939306567\\t0.3801456620992116\\t0.35339854389266234\\t0.422936449963477\\t0.5710372534696859'</li></ol>\n"
      ],
      "text/latex": [
       "\\begin{enumerate*}\n",
       "\\item '\\#chr1\\textbackslash{}tx1\\textbackslash{}tx2\\textbackslash{}tchr2\\textbackslash{}ty1\\textbackslash{}ty2\\textbackslash{}tname\\textbackslash{}tscore\\textbackslash{}tstrand1\\textbackslash{}tstrand2\\textbackslash{}tcolor\\textbackslash{}tscore\\textbackslash{}tuVarScore\\textbackslash{}tlVarScore\\textbackslash{}tupSign\\textbackslash{}tloSign'\n",
       "\\item '\\# juicer\\_tools version 2.13.06'\n",
       "\\item 'chr10\\textbackslash{}t89790000\\textbackslash{}t90730000\\textbackslash{}tchr10\\textbackslash{}t89790000\\textbackslash{}t90730000\\textbackslash{}t.\\textbackslash{}t.\\textbackslash{}t.\\textbackslash{}t.\\textbackslash{}t255,255,0\\textbackslash{}t0.48733428805910184\\textbackslash{}t0.43218752937273686\\textbackslash{}t0.39101424267719964\\textbackslash{}t0.4366181410974244\\textbackslash{}t0.5132138857782754'\n",
       "\\item 'chr10\\textbackslash{}t117485000\\textbackslash{}t118260000\\textbackslash{}tchr10\\textbackslash{}t117485000\\textbackslash{}t118260000\\textbackslash{}t.\\textbackslash{}t.\\textbackslash{}t.\\textbackslash{}t.\\textbackslash{}t255,255,0\\textbackslash{}t0.47145995448002187\\textbackslash{}t0.40388060738386966\\textbackslash{}t0.40280872469677464\\textbackslash{}t0.44690992767915844\\textbackslash{}t0.4451019066403682'\n",
       "\\item 'chr10\\textbackslash{}t51125000\\textbackslash{}t52215000\\textbackslash{}tchr10\\textbackslash{}t51125000\\textbackslash{}t52215000\\textbackslash{}t.\\textbackslash{}t.\\textbackslash{}t.\\textbackslash{}t.\\textbackslash{}t255,255,0\\textbackslash{}t0.575707559391474\\textbackslash{}t0.38559880334456653\\textbackslash{}t0.3954850048221743\\textbackslash{}t0.47122602168473726\\textbackslash{}t0.40008340283569643'\n",
       "\\item 'chr10\\textbackslash{}t112495000\\textbackslash{}t113565000\\textbackslash{}tchr10\\textbackslash{}t112495000\\textbackslash{}t113565000\\textbackslash{}t.\\textbackslash{}t.\\textbackslash{}t.\\textbackslash{}t.\\textbackslash{}t255,255,0\\textbackslash{}t0.6096007256380153\\textbackslash{}t0.3796907769991358\\textbackslash{}t0.395265539295569\\textbackslash{}t0.5317583939079266\\textbackslash{}t0.46131879543094495'\n",
       "\\item 'chr10\\textbackslash{}t84540000\\textbackslash{}t86085000\\textbackslash{}tchr10\\textbackslash{}t84540000\\textbackslash{}t86085000\\textbackslash{}t.\\textbackslash{}t.\\textbackslash{}t.\\textbackslash{}t.\\textbackslash{}t255,255,0\\textbackslash{}t0.5786491314515995\\textbackslash{}t0.41194909350330966\\textbackslash{}t0.3597104580764071\\textbackslash{}t0.44241415192507805\\textbackslash{}t0.4804162330905307'\n",
       "\\item 'chr10\\textbackslash{}t94665000\\textbackslash{}t95075000\\textbackslash{}tchr10\\textbackslash{}t94665000\\textbackslash{}t95075000\\textbackslash{}t.\\textbackslash{}t.\\textbackslash{}t.\\textbackslash{}t.\\textbackslash{}t255,255,0\\textbackslash{}t0.6267518627735565\\textbackslash{}t0.3811023684762621\\textbackslash{}t0.3788707090932024\\textbackslash{}t0.5\\textbackslash{}t0.40185830429732866'\n",
       "\\item 'chr10\\textbackslash{}t30720000\\textbackslash{}t31805000\\textbackslash{}tchr10\\textbackslash{}t30720000\\textbackslash{}t31805000\\textbackslash{}t.\\textbackslash{}t.\\textbackslash{}t.\\textbackslash{}t.\\textbackslash{}t255,255,0\\textbackslash{}t0.5897210984514966\\textbackslash{}t0.35466875201487424\\textbackslash{}t0.39677175969377804\\textbackslash{}t0.42614258059085935\\textbackslash{}t0.5093847319249222'\n",
       "\\item 'chr10\\textbackslash{}t8520000\\textbackslash{}t9255000\\textbackslash{}tchr10\\textbackslash{}t8520000\\textbackslash{}t9255000\\textbackslash{}t.\\textbackslash{}t.\\textbackslash{}t.\\textbackslash{}t.\\textbackslash{}t255,255,0\\textbackslash{}t0.5208330939306567\\textbackslash{}t0.3801456620992116\\textbackslash{}t0.35339854389266234\\textbackslash{}t0.422936449963477\\textbackslash{}t0.5710372534696859'\n",
       "\\end{enumerate*}\n"
      ],
      "text/markdown": [
       "1. '#chr1\\tx1\\tx2\\tchr2\\ty1\\ty2\\tname\\tscore\\tstrand1\\tstrand2\\tcolor\\tscore\\tuVarScore\\tlVarScore\\tupSign\\tloSign'\n",
       "2. '# juicer_tools version 2.13.06'\n",
       "3. 'chr10\\t89790000\\t90730000\\tchr10\\t89790000\\t90730000\\t.\\t.\\t.\\t.\\t255,255,0\\t0.48733428805910184\\t0.43218752937273686\\t0.39101424267719964\\t0.4366181410974244\\t0.5132138857782754'\n",
       "4. 'chr10\\t117485000\\t118260000\\tchr10\\t117485000\\t118260000\\t.\\t.\\t.\\t.\\t255,255,0\\t0.47145995448002187\\t0.40388060738386966\\t0.40280872469677464\\t0.44690992767915844\\t0.4451019066403682'\n",
       "5. 'chr10\\t51125000\\t52215000\\tchr10\\t51125000\\t52215000\\t.\\t.\\t.\\t.\\t255,255,0\\t0.575707559391474\\t0.38559880334456653\\t0.3954850048221743\\t0.47122602168473726\\t0.40008340283569643'\n",
       "6. 'chr10\\t112495000\\t113565000\\tchr10\\t112495000\\t113565000\\t.\\t.\\t.\\t.\\t255,255,0\\t0.6096007256380153\\t0.3796907769991358\\t0.395265539295569\\t0.5317583939079266\\t0.46131879543094495'\n",
       "7. 'chr10\\t84540000\\t86085000\\tchr10\\t84540000\\t86085000\\t.\\t.\\t.\\t.\\t255,255,0\\t0.5786491314515995\\t0.41194909350330966\\t0.3597104580764071\\t0.44241415192507805\\t0.4804162330905307'\n",
       "8. 'chr10\\t94665000\\t95075000\\tchr10\\t94665000\\t95075000\\t.\\t.\\t.\\t.\\t255,255,0\\t0.6267518627735565\\t0.3811023684762621\\t0.3788707090932024\\t0.5\\t0.40185830429732866'\n",
       "9. 'chr10\\t30720000\\t31805000\\tchr10\\t30720000\\t31805000\\t.\\t.\\t.\\t.\\t255,255,0\\t0.5897210984514966\\t0.35466875201487424\\t0.39677175969377804\\t0.42614258059085935\\t0.5093847319249222'\n",
       "10. 'chr10\\t8520000\\t9255000\\tchr10\\t8520000\\t9255000\\t.\\t.\\t.\\t.\\t255,255,0\\t0.5208330939306567\\t0.3801456620992116\\t0.35339854389266234\\t0.422936449963477\\t0.5710372534696859'\n",
       "\n",
       "\n"
      ],
      "text/plain": [
       " [1] \"#chr1\\tx1\\tx2\\tchr2\\ty1\\ty2\\tname\\tscore\\tstrand1\\tstrand2\\tcolor\\tscore\\tuVarScore\\tlVarScore\\tupSign\\tloSign\"                                                                         \n",
       " [2] \"# juicer_tools version 2.13.06\"                                                                                                                                                         \n",
       " [3] \"chr10\\t89790000\\t90730000\\tchr10\\t89790000\\t90730000\\t.\\t.\\t.\\t.\\t255,255,0\\t0.48733428805910184\\t0.43218752937273686\\t0.39101424267719964\\t0.4366181410974244\\t0.5132138857782754\"     \n",
       " [4] \"chr10\\t117485000\\t118260000\\tchr10\\t117485000\\t118260000\\t.\\t.\\t.\\t.\\t255,255,0\\t0.47145995448002187\\t0.40388060738386966\\t0.40280872469677464\\t0.44690992767915844\\t0.4451019066403682\"\n",
       " [5] \"chr10\\t51125000\\t52215000\\tchr10\\t51125000\\t52215000\\t.\\t.\\t.\\t.\\t255,255,0\\t0.575707559391474\\t0.38559880334456653\\t0.3954850048221743\\t0.47122602168473726\\t0.40008340283569643\"      \n",
       " [6] \"chr10\\t112495000\\t113565000\\tchr10\\t112495000\\t113565000\\t.\\t.\\t.\\t.\\t255,255,0\\t0.6096007256380153\\t0.3796907769991358\\t0.395265539295569\\t0.5317583939079266\\t0.46131879543094495\"    \n",
       " [7] \"chr10\\t84540000\\t86085000\\tchr10\\t84540000\\t86085000\\t.\\t.\\t.\\t.\\t255,255,0\\t0.5786491314515995\\t0.41194909350330966\\t0.3597104580764071\\t0.44241415192507805\\t0.4804162330905307\"      \n",
       " [8] \"chr10\\t94665000\\t95075000\\tchr10\\t94665000\\t95075000\\t.\\t.\\t.\\t.\\t255,255,0\\t0.6267518627735565\\t0.3811023684762621\\t0.3788707090932024\\t0.5\\t0.40185830429732866\"                      \n",
       " [9] \"chr10\\t30720000\\t31805000\\tchr10\\t30720000\\t31805000\\t.\\t.\\t.\\t.\\t255,255,0\\t0.5897210984514966\\t0.35466875201487424\\t0.39677175969377804\\t0.42614258059085935\\t0.5093847319249222\"     \n",
       "[10] \"chr10\\t8520000\\t9255000\\tchr10\\t8520000\\t9255000\\t.\\t.\\t.\\t.\\t255,255,0\\t0.5208330939306567\\t0.3801456620992116\\t0.35339854389266234\\t0.422936449963477\\t0.5710372534696859\"            "
      ]
     },
     "metadata": {},
     "output_type": "display_data"
    }
   ],
   "source": [
    "fdiry = file.path(FD_RES, \"source\", \"hic_intact\")\n",
    "fname = \"K562.ENCSR479XDG.ENCFF126GED.contact_domains.bedpe.gz\"\n",
    "fpath = file.path(fdiry, fname)\n",
    "\n",
    "txt = paste(\"zcat\", fpath, \"|\", \"head\")\n",
    "system(command = txt, intern = TRUE)"
   ]
  },
  {
   "cell_type": "code",
   "execution_count": 5,
   "metadata": {},
   "outputs": [
    {
     "name": "stderr",
     "output_type": "stream",
     "text": [
      "\u001b[1m\u001b[22mNew names:\n",
      "\u001b[36m•\u001b[39m `score` -> `score...8`\n",
      "\u001b[36m•\u001b[39m `score` -> `score...12`\n",
      "\u001b[1mRows: \u001b[22m\u001b[34m4348\u001b[39m \u001b[1mColumns: \u001b[22m\u001b[34m16\u001b[39m\n",
      "\u001b[36m──\u001b[39m \u001b[1mColumn specification\u001b[22m \u001b[36m────────────────────────────────────────────────────────────────────────\u001b[39m\n",
      "\u001b[1mDelimiter:\u001b[22m \"\\t\"\n",
      "\u001b[31mchr\u001b[39m (6): chr1, chr2, name, score...8, strand1, strand2\n",
      "\u001b[32mdbl\u001b[39m (9): x1, x2, y1, y2, score...12, uVarScore, lVarScore, upSign, loSign\n",
      "\u001b[32mnum\u001b[39m (1): color\n",
      "\n",
      "\u001b[36mℹ\u001b[39m Use `spec()` to retrieve the full column specification for this data.\n",
      "\u001b[36mℹ\u001b[39m Specify the column types or set `show_col_types = FALSE` to quiet this message.\n"
     ]
    },
    {
     "name": "stdout",
     "output_type": "stream",
     "text": [
      "[1] 4348   16\n"
     ]
    },
    {
     "data": {
      "text/html": [
       "<table class=\"dataframe\">\n",
       "<caption>A tibble: 6 × 16</caption>\n",
       "<thead>\n",
       "\t<tr><th scope=col>chr1</th><th scope=col>x1</th><th scope=col>x2</th><th scope=col>chr2</th><th scope=col>y1</th><th scope=col>y2</th><th scope=col>name</th><th scope=col>score...8</th><th scope=col>strand1</th><th scope=col>strand2</th><th scope=col>color</th><th scope=col>score...12</th><th scope=col>uVarScore</th><th scope=col>lVarScore</th><th scope=col>upSign</th><th scope=col>loSign</th></tr>\n",
       "\t<tr><th scope=col>&lt;chr&gt;</th><th scope=col>&lt;dbl&gt;</th><th scope=col>&lt;dbl&gt;</th><th scope=col>&lt;chr&gt;</th><th scope=col>&lt;dbl&gt;</th><th scope=col>&lt;dbl&gt;</th><th scope=col>&lt;chr&gt;</th><th scope=col>&lt;chr&gt;</th><th scope=col>&lt;chr&gt;</th><th scope=col>&lt;chr&gt;</th><th scope=col>&lt;dbl&gt;</th><th scope=col>&lt;dbl&gt;</th><th scope=col>&lt;dbl&gt;</th><th scope=col>&lt;dbl&gt;</th><th scope=col>&lt;dbl&gt;</th><th scope=col>&lt;dbl&gt;</th></tr>\n",
       "</thead>\n",
       "<tbody>\n",
       "\t<tr><td>chr10</td><td> 89790000</td><td> 90730000</td><td>chr10</td><td> 89790000</td><td> 90730000</td><td>.</td><td>.</td><td>.</td><td>.</td><td>2552550</td><td>0.4873343</td><td>0.4321875</td><td>0.3910142</td><td>0.4366181</td><td>0.5132139</td></tr>\n",
       "\t<tr><td>chr10</td><td>117485000</td><td>118260000</td><td>chr10</td><td>117485000</td><td>118260000</td><td>.</td><td>.</td><td>.</td><td>.</td><td>2552550</td><td>0.4714600</td><td>0.4038806</td><td>0.4028087</td><td>0.4469099</td><td>0.4451019</td></tr>\n",
       "\t<tr><td>chr10</td><td> 51125000</td><td> 52215000</td><td>chr10</td><td> 51125000</td><td> 52215000</td><td>.</td><td>.</td><td>.</td><td>.</td><td>2552550</td><td>0.5757076</td><td>0.3855988</td><td>0.3954850</td><td>0.4712260</td><td>0.4000834</td></tr>\n",
       "\t<tr><td>chr10</td><td>112495000</td><td>113565000</td><td>chr10</td><td>112495000</td><td>113565000</td><td>.</td><td>.</td><td>.</td><td>.</td><td>2552550</td><td>0.6096007</td><td>0.3796908</td><td>0.3952655</td><td>0.5317584</td><td>0.4613188</td></tr>\n",
       "\t<tr><td>chr10</td><td> 84540000</td><td> 86085000</td><td>chr10</td><td> 84540000</td><td> 86085000</td><td>.</td><td>.</td><td>.</td><td>.</td><td>2552550</td><td>0.5786491</td><td>0.4119491</td><td>0.3597105</td><td>0.4424142</td><td>0.4804162</td></tr>\n",
       "\t<tr><td>chr10</td><td> 94665000</td><td> 95075000</td><td>chr10</td><td> 94665000</td><td> 95075000</td><td>.</td><td>.</td><td>.</td><td>.</td><td>2552550</td><td>0.6267519</td><td>0.3811024</td><td>0.3788707</td><td>0.5000000</td><td>0.4018583</td></tr>\n",
       "</tbody>\n",
       "</table>\n"
      ],
      "text/latex": [
       "A tibble: 6 × 16\n",
       "\\begin{tabular}{llllllllllllllll}\n",
       " chr1 & x1 & x2 & chr2 & y1 & y2 & name & score...8 & strand1 & strand2 & color & score...12 & uVarScore & lVarScore & upSign & loSign\\\\\n",
       " <chr> & <dbl> & <dbl> & <chr> & <dbl> & <dbl> & <chr> & <chr> & <chr> & <chr> & <dbl> & <dbl> & <dbl> & <dbl> & <dbl> & <dbl>\\\\\n",
       "\\hline\n",
       "\t chr10 &  89790000 &  90730000 & chr10 &  89790000 &  90730000 & . & . & . & . & 2552550 & 0.4873343 & 0.4321875 & 0.3910142 & 0.4366181 & 0.5132139\\\\\n",
       "\t chr10 & 117485000 & 118260000 & chr10 & 117485000 & 118260000 & . & . & . & . & 2552550 & 0.4714600 & 0.4038806 & 0.4028087 & 0.4469099 & 0.4451019\\\\\n",
       "\t chr10 &  51125000 &  52215000 & chr10 &  51125000 &  52215000 & . & . & . & . & 2552550 & 0.5757076 & 0.3855988 & 0.3954850 & 0.4712260 & 0.4000834\\\\\n",
       "\t chr10 & 112495000 & 113565000 & chr10 & 112495000 & 113565000 & . & . & . & . & 2552550 & 0.6096007 & 0.3796908 & 0.3952655 & 0.5317584 & 0.4613188\\\\\n",
       "\t chr10 &  84540000 &  86085000 & chr10 &  84540000 &  86085000 & . & . & . & . & 2552550 & 0.5786491 & 0.4119491 & 0.3597105 & 0.4424142 & 0.4804162\\\\\n",
       "\t chr10 &  94665000 &  95075000 & chr10 &  94665000 &  95075000 & . & . & . & . & 2552550 & 0.6267519 & 0.3811024 & 0.3788707 & 0.5000000 & 0.4018583\\\\\n",
       "\\end{tabular}\n"
      ],
      "text/markdown": [
       "\n",
       "A tibble: 6 × 16\n",
       "\n",
       "| chr1 &lt;chr&gt; | x1 &lt;dbl&gt; | x2 &lt;dbl&gt; | chr2 &lt;chr&gt; | y1 &lt;dbl&gt; | y2 &lt;dbl&gt; | name &lt;chr&gt; | score...8 &lt;chr&gt; | strand1 &lt;chr&gt; | strand2 &lt;chr&gt; | color &lt;dbl&gt; | score...12 &lt;dbl&gt; | uVarScore &lt;dbl&gt; | lVarScore &lt;dbl&gt; | upSign &lt;dbl&gt; | loSign &lt;dbl&gt; |\n",
       "|---|---|---|---|---|---|---|---|---|---|---|---|---|---|---|---|\n",
       "| chr10 |  89790000 |  90730000 | chr10 |  89790000 |  90730000 | . | . | . | . | 2552550 | 0.4873343 | 0.4321875 | 0.3910142 | 0.4366181 | 0.5132139 |\n",
       "| chr10 | 117485000 | 118260000 | chr10 | 117485000 | 118260000 | . | . | . | . | 2552550 | 0.4714600 | 0.4038806 | 0.4028087 | 0.4469099 | 0.4451019 |\n",
       "| chr10 |  51125000 |  52215000 | chr10 |  51125000 |  52215000 | . | . | . | . | 2552550 | 0.5757076 | 0.3855988 | 0.3954850 | 0.4712260 | 0.4000834 |\n",
       "| chr10 | 112495000 | 113565000 | chr10 | 112495000 | 113565000 | . | . | . | . | 2552550 | 0.6096007 | 0.3796908 | 0.3952655 | 0.5317584 | 0.4613188 |\n",
       "| chr10 |  84540000 |  86085000 | chr10 |  84540000 |  86085000 | . | . | . | . | 2552550 | 0.5786491 | 0.4119491 | 0.3597105 | 0.4424142 | 0.4804162 |\n",
       "| chr10 |  94665000 |  95075000 | chr10 |  94665000 |  95075000 | . | . | . | . | 2552550 | 0.6267519 | 0.3811024 | 0.3788707 | 0.5000000 | 0.4018583 |\n",
       "\n"
      ],
      "text/plain": [
       "  chr1  x1        x2        chr2  y1        y2        name score...8 strand1\n",
       "1 chr10  89790000  90730000 chr10  89790000  90730000 .    .         .      \n",
       "2 chr10 117485000 118260000 chr10 117485000 118260000 .    .         .      \n",
       "3 chr10  51125000  52215000 chr10  51125000  52215000 .    .         .      \n",
       "4 chr10 112495000 113565000 chr10 112495000 113565000 .    .         .      \n",
       "5 chr10  84540000  86085000 chr10  84540000  86085000 .    .         .      \n",
       "6 chr10  94665000  95075000 chr10  94665000  95075000 .    .         .      \n",
       "  strand2 color   score...12 uVarScore lVarScore upSign    loSign   \n",
       "1 .       2552550 0.4873343  0.4321875 0.3910142 0.4366181 0.5132139\n",
       "2 .       2552550 0.4714600  0.4038806 0.4028087 0.4469099 0.4451019\n",
       "3 .       2552550 0.5757076  0.3855988 0.3954850 0.4712260 0.4000834\n",
       "4 .       2552550 0.6096007  0.3796908 0.3952655 0.5317584 0.4613188\n",
       "5 .       2552550 0.5786491  0.4119491 0.3597105 0.4424142 0.4804162\n",
       "6 .       2552550 0.6267519  0.3811024 0.3788707 0.5000000 0.4018583"
      ]
     },
     "metadata": {},
     "output_type": "display_data"
    }
   ],
   "source": [
    "fdiry = file.path(FD_RES, \"source\", \"hic_intact\")\n",
    "fname = \"K562.ENCSR479XDG.ENCFF126GED.contact_domains.bedpe.gz\"\n",
    "fpath = file.path(fdiry, fname)\n",
    "\n",
    "cnames = 'chr1\\tx1\\tx2\\tchr2\\ty1\\ty2\\tname\\tscore\\tstrand1\\tstrand2\\tcolor\\tscore\\tuVarScore\\tlVarScore\\tupSign\\tloSign'\n",
    "cnames = unlist(str_split(cnames, \"\\t\"))\n",
    "dat    = read_tsv(fpath, col_names = cnames, comment = \"#\")\n",
    "\n",
    "dat_hic_tad = dat\n",
    "print(dim(dat))\n",
    "head(dat)"
   ]
  },
  {
   "cell_type": "code",
   "execution_count": 6,
   "metadata": {},
   "outputs": [
    {
     "name": "stdout",
     "output_type": "stream",
     "text": [
      " [1] \"chr1\"      \"x1\"        \"x2\"        \"chr2\"      \"y1\"        \"y2\"       \n",
      " [7] \"name\"      \"score\"     \"strand1\"   \"strand2\"   \"color\"     \"score\"    \n",
      "[13] \"uVarScore\" \"lVarScore\" \"upSign\"    \"loSign\"   \n"
     ]
    }
   ],
   "source": [
    "print(cnames)"
   ]
  },
  {
   "cell_type": "code",
   "execution_count": 9,
   "metadata": {},
   "outputs": [
    {
     "name": "stdout",
     "output_type": "stream",
     "text": [
      "[1] TRUE\n",
      "[1] TRUE\n",
      "[1] TRUE\n"
     ]
    }
   ],
   "source": [
    "dat = dat_hic_tad\n",
    "print(all(dat$chr1 == dat$chr2))\n",
    "print(all(dat$x1   == dat$y1))\n",
    "print(all(dat$x2   == dat$y2))"
   ]
  },
  {
   "cell_type": "code",
   "execution_count": 11,
   "metadata": {},
   "outputs": [
    {
     "name": "stdout",
     "output_type": "stream",
     "text": [
      "[1] 4348    3\n"
     ]
    },
    {
     "data": {
      "text/html": [
       "<table class=\"dataframe\">\n",
       "<caption>A tibble: 6 × 3</caption>\n",
       "<thead>\n",
       "\t<tr><th scope=col>chr1</th><th scope=col>x1</th><th scope=col>x2</th></tr>\n",
       "\t<tr><th scope=col>&lt;chr&gt;</th><th scope=col>&lt;dbl&gt;</th><th scope=col>&lt;dbl&gt;</th></tr>\n",
       "</thead>\n",
       "<tbody>\n",
       "\t<tr><td>chr1</td><td>1120000</td><td>1240000</td></tr>\n",
       "\t<tr><td>chr1</td><td>1940000</td><td>2040000</td></tr>\n",
       "\t<tr><td>chr1</td><td>2205000</td><td>2310000</td></tr>\n",
       "\t<tr><td>chr1</td><td>2410000</td><td>2525000</td></tr>\n",
       "\t<tr><td>chr1</td><td>2820000</td><td>3430000</td></tr>\n",
       "\t<tr><td>chr1</td><td>3490000</td><td>3620000</td></tr>\n",
       "</tbody>\n",
       "</table>\n"
      ],
      "text/latex": [
       "A tibble: 6 × 3\n",
       "\\begin{tabular}{lll}\n",
       " chr1 & x1 & x2\\\\\n",
       " <chr> & <dbl> & <dbl>\\\\\n",
       "\\hline\n",
       "\t chr1 & 1120000 & 1240000\\\\\n",
       "\t chr1 & 1940000 & 2040000\\\\\n",
       "\t chr1 & 2205000 & 2310000\\\\\n",
       "\t chr1 & 2410000 & 2525000\\\\\n",
       "\t chr1 & 2820000 & 3430000\\\\\n",
       "\t chr1 & 3490000 & 3620000\\\\\n",
       "\\end{tabular}\n"
      ],
      "text/markdown": [
       "\n",
       "A tibble: 6 × 3\n",
       "\n",
       "| chr1 &lt;chr&gt; | x1 &lt;dbl&gt; | x2 &lt;dbl&gt; |\n",
       "|---|---|---|\n",
       "| chr1 | 1120000 | 1240000 |\n",
       "| chr1 | 1940000 | 2040000 |\n",
       "| chr1 | 2205000 | 2310000 |\n",
       "| chr1 | 2410000 | 2525000 |\n",
       "| chr1 | 2820000 | 3430000 |\n",
       "| chr1 | 3490000 | 3620000 |\n",
       "\n"
      ],
      "text/plain": [
       "  chr1 x1      x2     \n",
       "1 chr1 1120000 1240000\n",
       "2 chr1 1940000 2040000\n",
       "3 chr1 2205000 2310000\n",
       "4 chr1 2410000 2525000\n",
       "5 chr1 2820000 3430000\n",
       "6 chr1 3490000 3620000"
      ]
     },
     "metadata": {},
     "output_type": "display_data"
    }
   ],
   "source": [
    "dat = dat_hic_tad\n",
    "dat = dat %>% \n",
    "    dplyr::select( chr1, x1, x2) %>% \n",
    "    dplyr::arrange(chr1, x1, x2)\n",
    "\n",
    "dat_hic_tad_region = dat\n",
    "print(dim(dat))\n",
    "head(dat)"
   ]
  },
  {
   "cell_type": "code",
   "execution_count": 12,
   "metadata": {},
   "outputs": [],
   "source": [
    "fdiry = file.path(FD_RES, \"results\", \"region\", \"annotation_hic\")\n",
    "fname = \"K562.ENCSR479XDG.ENCFF126GED.contact_domains.bed\"\n",
    "fpath = file.path(fdiry, fname)\n",
    "\n",
    "dat = dat_hic_tad_region\n",
    "write_tsv(dat, fpath, col_names = FALSE)"
   ]
  },
  {
   "cell_type": "code",
   "execution_count": null,
   "metadata": {},
   "outputs": [],
   "source": []
  }
 ],
 "metadata": {
  "kernelspec": {
   "display_name": "R",
   "language": "R",
   "name": "ir"
  },
  "language_info": {
   "codemirror_mode": "r",
   "file_extension": ".r",
   "mimetype": "text/x-r-source",
   "name": "R",
   "pygments_lexer": "r",
   "version": "4.3.0"
  }
 },
 "nbformat": 4,
 "nbformat_minor": 4
}
