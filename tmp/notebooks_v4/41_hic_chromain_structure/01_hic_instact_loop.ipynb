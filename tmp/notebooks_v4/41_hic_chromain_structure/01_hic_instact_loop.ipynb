{
 "cells": [
  {
   "cell_type": "code",
   "execution_count": 2,
   "metadata": {},
   "outputs": [
    {
     "name": "stdout",
     "output_type": "stream",
     "text": [
      "You are in Singularity: singularity_proj_encode_fcc \n",
      "BASE DIRECTORY (FD_BASE): /data/reddylab/Kuei \n",
      "WORK DIRECTORY (FD_WORK): /data/reddylab/Kuei/out \n",
      "CODE DIRECTORY (FD_CODE): /data/reddylab/Kuei/code \n",
      "PATH OF PROJECT (FD_PRJ): /data/reddylab/Kuei/code/Proj_CombEffect_ENCODE_FCC \n",
      "PATH OF RESULTS (FD_RES): /data/reddylab/Kuei/out/proj_combeffect_encode_fcc \n",
      "PATH OF LOG     (FD_LOG): /data/reddylab/Kuei/out/proj_combeffect_encode_fcc/log \n"
     ]
    }
   ],
   "source": [
    "suppressMessages(suppressWarnings(source(\"../config/config_sing.R\")))\n",
    "show_env()"
   ]
  },
  {
   "cell_type": "code",
   "execution_count": 3,
   "metadata": {},
   "outputs": [
    {
     "data": {
      "text/html": [
       "<style>\n",
       ".list-inline {list-style: none; margin:0; padding: 0}\n",
       ".list-inline>li {display: inline-block}\n",
       ".list-inline>li:not(:last-child)::after {content: \"\\00b7\"; padding: 0 .5ex}\n",
       "</style>\n",
       "<ol class=list-inline><li>'K562.ENCSR479XDG.ENCFF126GED.contact_domains.bedpe.gz'</li><li>'K562.ENCSR479XDG.ENCFF256ZMD.loops.bedpe.gz'</li></ol>\n"
      ],
      "text/latex": [
       "\\begin{enumerate*}\n",
       "\\item 'K562.ENCSR479XDG.ENCFF126GED.contact\\_domains.bedpe.gz'\n",
       "\\item 'K562.ENCSR479XDG.ENCFF256ZMD.loops.bedpe.gz'\n",
       "\\end{enumerate*}\n"
      ],
      "text/markdown": [
       "1. 'K562.ENCSR479XDG.ENCFF126GED.contact_domains.bedpe.gz'\n",
       "2. 'K562.ENCSR479XDG.ENCFF256ZMD.loops.bedpe.gz'\n",
       "\n",
       "\n"
      ],
      "text/plain": [
       "[1] \"K562.ENCSR479XDG.ENCFF126GED.contact_domains.bedpe.gz\"\n",
       "[2] \"K562.ENCSR479XDG.ENCFF256ZMD.loops.bedpe.gz\"          "
      ]
     },
     "metadata": {},
     "output_type": "display_data"
    }
   ],
   "source": [
    "fdiry = file.path(FD_RES, \"source\", \"hic_intact\")\n",
    "dir(fdiry)"
   ]
  },
  {
   "cell_type": "code",
   "execution_count": 6,
   "metadata": {},
   "outputs": [
    {
     "data": {
      "text/html": [
       "<style>\n",
       ".list-inline {list-style: none; margin:0; padding: 0}\n",
       ".list-inline>li {display: inline-block}\n",
       ".list-inline>li:not(:last-child)::after {content: \"\\00b7\"; padding: 0 .5ex}\n",
       "</style>\n",
       "<ol class=list-inline><li>'#chr1\\tx1\\tx2\\tchr2\\ty1\\ty2\\tname\\tscore\\tstrand1\\tstrand2\\tcolor\\tobserved\\texpectedBL\\texpectedDonut\\texpectedH\\texpectedV\\tfdrBL\\tfdrDonut\\tfdrH\\tfdrV\\tnumCollapsed\\tcentroid1\\tcentroid2\\tradius\\thighRes_start_1\\thighRes_end_1\\thighRes_start_2\\thighRes_end_2\\tlocalX\\tlocalY\\tlocalObserved\\tlocalPval\\tlocalPeakID'</li><li>'# juicer_tools version 2.13.07'</li><li>'chr10\\t102835000\\t102836000\\tchr10\\t102901000\\t102902000\\t.\\t.\\t.\\t.\\t0,255,255\\t16.0\\t2.5453029\\t2.0566912\\t2.896359\\t2.6027875\\t0.0\\t0.0\\t5.9604645E-8\\t0.0\\t2\\t102835000\\t102901500\\t500\\t102834600\\t102835200\\t102901400\\t102901700\\t102834700\\t102901500\\t4.0\\t2.17173181723318E-4\\t0'</li><li>'chr10\\t123583000\\t123584000\\tchr10\\t123967000\\t123968000\\t.\\t.\\t.\\t.\\t0,255,255\\t17.0\\t1.2294405\\t1.126373\\t1.5320965\\t2.968846\\t0.0\\t0.0\\t0.0\\t0.0\\t2\\t123583000\\t123967500\\t500\\tNA\\tNA\\tNA\\tNA\\tNA\\tNA\\tNA\\tNA\\tNA'</li><li>'chr10\\t60780000\\t60782000\\tchr10\\t60828000\\t60830000\\t.\\t.\\t.\\t.\\t0,255,255\\t16.0\\t3.9354546\\t3.6036625\\t4.087633\\t2.7198699\\t3.993511E-6\\t1.3113022E-6\\t6.377697E-6\\t5.9604645E-8\\t1\\t60781000\\t60829000\\t0\\tNA\\tNA\\tNA\\tNA\\tNA\\tNA\\tNA\\tNA\\tNA'</li><li>'chr10\\t33050000\\t33051000\\tchr10\\t33067000\\t33068000\\t.\\t.\\t.\\t.\\t0,255,255\\t11.0\\t1.8586187\\t1.8435045\\t1.302612\\t2.001136\\t4.23193E-6\\t3.9339066E-6\\t1.1920929E-7\\t8.34465E-6\\t1\\t33050500\\t33067500\\t0\\tNA\\tNA\\tNA\\tNA\\tNA\\tNA\\tNA\\tNA\\tNA'</li><li>'chr10\\t11412000\\t11414000\\tchr10\\t11472000\\t11474000\\t.\\t.\\t.\\t.\\t0,255,255\\t27.0\\t5.0568876\\t4.13146\\t3.918301\\t7.767662\\t0.0\\t0.0\\t0.0\\t5.9604645E-8\\t1\\t11413000\\t11473000\\t0\\t11412000\\t11412500\\t11471700\\t11472700\\t11412200\\t11472100\\t10.0\\t0.008861431153317945\\t0'</li><li>'chr10\\t45005000\\t45010000\\tchr10\\t45465000\\t45470000\\t.\\t.\\t.\\t.\\t0,255,255\\t16.0\\t3.658383\\t2.8294744\\t6.2742825\\t2.340569\\t1.6093254E-6\\t5.9604645E-8\\t8.097887E-4\\t0.0\\t2\\t45007500\\t45465000\\t2500\\tNA\\tNA\\tNA\\tNA\\tNA\\tNA\\tNA\\tNA\\tNA'</li><li>'chr10\\t120420000\\t120430000\\tchr10\\t120600000\\t120610000\\t.\\t.\\t.\\t.\\t0,255,255\\t29.0\\t9.291821\\t9.322407\\t13.77734\\t8.561912\\t1.7881393E-7\\t1.7881393E-7\\t2.3120642E-4\\t5.9604645E-8\\t3\\t120421666\\t120595000\\t12018\\tNA\\tNA\\tNA\\tNA\\tNA\\tNA\\tNA\\tNA\\tNA'</li><li>'chr10\\t62437000\\t62438000\\tchr10\\t63158000\\t63159000\\t.\\t.\\t.\\t.\\t0,255,255\\t13.0\\t1.353705\\t0.9746326\\t1.4709425\\t1.4360862\\t0.0\\t0.0\\t0.0\\t0.0\\t1\\t62437500\\t63158500\\t0\\tNA\\tNA\\tNA\\tNA\\tNA\\tNA\\tNA\\tNA\\tNA'</li></ol>\n"
      ],
      "text/latex": [
       "\\begin{enumerate*}\n",
       "\\item '\\#chr1\\textbackslash{}tx1\\textbackslash{}tx2\\textbackslash{}tchr2\\textbackslash{}ty1\\textbackslash{}ty2\\textbackslash{}tname\\textbackslash{}tscore\\textbackslash{}tstrand1\\textbackslash{}tstrand2\\textbackslash{}tcolor\\textbackslash{}tobserved\\textbackslash{}texpectedBL\\textbackslash{}texpectedDonut\\textbackslash{}texpectedH\\textbackslash{}texpectedV\\textbackslash{}tfdrBL\\textbackslash{}tfdrDonut\\textbackslash{}tfdrH\\textbackslash{}tfdrV\\textbackslash{}tnumCollapsed\\textbackslash{}tcentroid1\\textbackslash{}tcentroid2\\textbackslash{}tradius\\textbackslash{}thighRes\\_start\\_1\\textbackslash{}thighRes\\_end\\_1\\textbackslash{}thighRes\\_start\\_2\\textbackslash{}thighRes\\_end\\_2\\textbackslash{}tlocalX\\textbackslash{}tlocalY\\textbackslash{}tlocalObserved\\textbackslash{}tlocalPval\\textbackslash{}tlocalPeakID'\n",
       "\\item '\\# juicer\\_tools version 2.13.07'\n",
       "\\item 'chr10\\textbackslash{}t102835000\\textbackslash{}t102836000\\textbackslash{}tchr10\\textbackslash{}t102901000\\textbackslash{}t102902000\\textbackslash{}t.\\textbackslash{}t.\\textbackslash{}t.\\textbackslash{}t.\\textbackslash{}t0,255,255\\textbackslash{}t16.0\\textbackslash{}t2.5453029\\textbackslash{}t2.0566912\\textbackslash{}t2.896359\\textbackslash{}t2.6027875\\textbackslash{}t0.0\\textbackslash{}t0.0\\textbackslash{}t5.9604645E-8\\textbackslash{}t0.0\\textbackslash{}t2\\textbackslash{}t102835000\\textbackslash{}t102901500\\textbackslash{}t500\\textbackslash{}t102834600\\textbackslash{}t102835200\\textbackslash{}t102901400\\textbackslash{}t102901700\\textbackslash{}t102834700\\textbackslash{}t102901500\\textbackslash{}t4.0\\textbackslash{}t2.17173181723318E-4\\textbackslash{}t0'\n",
       "\\item 'chr10\\textbackslash{}t123583000\\textbackslash{}t123584000\\textbackslash{}tchr10\\textbackslash{}t123967000\\textbackslash{}t123968000\\textbackslash{}t.\\textbackslash{}t.\\textbackslash{}t.\\textbackslash{}t.\\textbackslash{}t0,255,255\\textbackslash{}t17.0\\textbackslash{}t1.2294405\\textbackslash{}t1.126373\\textbackslash{}t1.5320965\\textbackslash{}t2.968846\\textbackslash{}t0.0\\textbackslash{}t0.0\\textbackslash{}t0.0\\textbackslash{}t0.0\\textbackslash{}t2\\textbackslash{}t123583000\\textbackslash{}t123967500\\textbackslash{}t500\\textbackslash{}tNA\\textbackslash{}tNA\\textbackslash{}tNA\\textbackslash{}tNA\\textbackslash{}tNA\\textbackslash{}tNA\\textbackslash{}tNA\\textbackslash{}tNA\\textbackslash{}tNA'\n",
       "\\item 'chr10\\textbackslash{}t60780000\\textbackslash{}t60782000\\textbackslash{}tchr10\\textbackslash{}t60828000\\textbackslash{}t60830000\\textbackslash{}t.\\textbackslash{}t.\\textbackslash{}t.\\textbackslash{}t.\\textbackslash{}t0,255,255\\textbackslash{}t16.0\\textbackslash{}t3.9354546\\textbackslash{}t3.6036625\\textbackslash{}t4.087633\\textbackslash{}t2.7198699\\textbackslash{}t3.993511E-6\\textbackslash{}t1.3113022E-6\\textbackslash{}t6.377697E-6\\textbackslash{}t5.9604645E-8\\textbackslash{}t1\\textbackslash{}t60781000\\textbackslash{}t60829000\\textbackslash{}t0\\textbackslash{}tNA\\textbackslash{}tNA\\textbackslash{}tNA\\textbackslash{}tNA\\textbackslash{}tNA\\textbackslash{}tNA\\textbackslash{}tNA\\textbackslash{}tNA\\textbackslash{}tNA'\n",
       "\\item 'chr10\\textbackslash{}t33050000\\textbackslash{}t33051000\\textbackslash{}tchr10\\textbackslash{}t33067000\\textbackslash{}t33068000\\textbackslash{}t.\\textbackslash{}t.\\textbackslash{}t.\\textbackslash{}t.\\textbackslash{}t0,255,255\\textbackslash{}t11.0\\textbackslash{}t1.8586187\\textbackslash{}t1.8435045\\textbackslash{}t1.302612\\textbackslash{}t2.001136\\textbackslash{}t4.23193E-6\\textbackslash{}t3.9339066E-6\\textbackslash{}t1.1920929E-7\\textbackslash{}t8.34465E-6\\textbackslash{}t1\\textbackslash{}t33050500\\textbackslash{}t33067500\\textbackslash{}t0\\textbackslash{}tNA\\textbackslash{}tNA\\textbackslash{}tNA\\textbackslash{}tNA\\textbackslash{}tNA\\textbackslash{}tNA\\textbackslash{}tNA\\textbackslash{}tNA\\textbackslash{}tNA'\n",
       "\\item 'chr10\\textbackslash{}t11412000\\textbackslash{}t11414000\\textbackslash{}tchr10\\textbackslash{}t11472000\\textbackslash{}t11474000\\textbackslash{}t.\\textbackslash{}t.\\textbackslash{}t.\\textbackslash{}t.\\textbackslash{}t0,255,255\\textbackslash{}t27.0\\textbackslash{}t5.0568876\\textbackslash{}t4.13146\\textbackslash{}t3.918301\\textbackslash{}t7.767662\\textbackslash{}t0.0\\textbackslash{}t0.0\\textbackslash{}t0.0\\textbackslash{}t5.9604645E-8\\textbackslash{}t1\\textbackslash{}t11413000\\textbackslash{}t11473000\\textbackslash{}t0\\textbackslash{}t11412000\\textbackslash{}t11412500\\textbackslash{}t11471700\\textbackslash{}t11472700\\textbackslash{}t11412200\\textbackslash{}t11472100\\textbackslash{}t10.0\\textbackslash{}t0.008861431153317945\\textbackslash{}t0'\n",
       "\\item 'chr10\\textbackslash{}t45005000\\textbackslash{}t45010000\\textbackslash{}tchr10\\textbackslash{}t45465000\\textbackslash{}t45470000\\textbackslash{}t.\\textbackslash{}t.\\textbackslash{}t.\\textbackslash{}t.\\textbackslash{}t0,255,255\\textbackslash{}t16.0\\textbackslash{}t3.658383\\textbackslash{}t2.8294744\\textbackslash{}t6.2742825\\textbackslash{}t2.340569\\textbackslash{}t1.6093254E-6\\textbackslash{}t5.9604645E-8\\textbackslash{}t8.097887E-4\\textbackslash{}t0.0\\textbackslash{}t2\\textbackslash{}t45007500\\textbackslash{}t45465000\\textbackslash{}t2500\\textbackslash{}tNA\\textbackslash{}tNA\\textbackslash{}tNA\\textbackslash{}tNA\\textbackslash{}tNA\\textbackslash{}tNA\\textbackslash{}tNA\\textbackslash{}tNA\\textbackslash{}tNA'\n",
       "\\item 'chr10\\textbackslash{}t120420000\\textbackslash{}t120430000\\textbackslash{}tchr10\\textbackslash{}t120600000\\textbackslash{}t120610000\\textbackslash{}t.\\textbackslash{}t.\\textbackslash{}t.\\textbackslash{}t.\\textbackslash{}t0,255,255\\textbackslash{}t29.0\\textbackslash{}t9.291821\\textbackslash{}t9.322407\\textbackslash{}t13.77734\\textbackslash{}t8.561912\\textbackslash{}t1.7881393E-7\\textbackslash{}t1.7881393E-7\\textbackslash{}t2.3120642E-4\\textbackslash{}t5.9604645E-8\\textbackslash{}t3\\textbackslash{}t120421666\\textbackslash{}t120595000\\textbackslash{}t12018\\textbackslash{}tNA\\textbackslash{}tNA\\textbackslash{}tNA\\textbackslash{}tNA\\textbackslash{}tNA\\textbackslash{}tNA\\textbackslash{}tNA\\textbackslash{}tNA\\textbackslash{}tNA'\n",
       "\\item 'chr10\\textbackslash{}t62437000\\textbackslash{}t62438000\\textbackslash{}tchr10\\textbackslash{}t63158000\\textbackslash{}t63159000\\textbackslash{}t.\\textbackslash{}t.\\textbackslash{}t.\\textbackslash{}t.\\textbackslash{}t0,255,255\\textbackslash{}t13.0\\textbackslash{}t1.353705\\textbackslash{}t0.9746326\\textbackslash{}t1.4709425\\textbackslash{}t1.4360862\\textbackslash{}t0.0\\textbackslash{}t0.0\\textbackslash{}t0.0\\textbackslash{}t0.0\\textbackslash{}t1\\textbackslash{}t62437500\\textbackslash{}t63158500\\textbackslash{}t0\\textbackslash{}tNA\\textbackslash{}tNA\\textbackslash{}tNA\\textbackslash{}tNA\\textbackslash{}tNA\\textbackslash{}tNA\\textbackslash{}tNA\\textbackslash{}tNA\\textbackslash{}tNA'\n",
       "\\end{enumerate*}\n"
      ],
      "text/markdown": [
       "1. '#chr1\\tx1\\tx2\\tchr2\\ty1\\ty2\\tname\\tscore\\tstrand1\\tstrand2\\tcolor\\tobserved\\texpectedBL\\texpectedDonut\\texpectedH\\texpectedV\\tfdrBL\\tfdrDonut\\tfdrH\\tfdrV\\tnumCollapsed\\tcentroid1\\tcentroid2\\tradius\\thighRes_start_1\\thighRes_end_1\\thighRes_start_2\\thighRes_end_2\\tlocalX\\tlocalY\\tlocalObserved\\tlocalPval\\tlocalPeakID'\n",
       "2. '# juicer_tools version 2.13.07'\n",
       "3. 'chr10\\t102835000\\t102836000\\tchr10\\t102901000\\t102902000\\t.\\t.\\t.\\t.\\t0,255,255\\t16.0\\t2.5453029\\t2.0566912\\t2.896359\\t2.6027875\\t0.0\\t0.0\\t5.9604645E-8\\t0.0\\t2\\t102835000\\t102901500\\t500\\t102834600\\t102835200\\t102901400\\t102901700\\t102834700\\t102901500\\t4.0\\t2.17173181723318E-4\\t0'\n",
       "4. 'chr10\\t123583000\\t123584000\\tchr10\\t123967000\\t123968000\\t.\\t.\\t.\\t.\\t0,255,255\\t17.0\\t1.2294405\\t1.126373\\t1.5320965\\t2.968846\\t0.0\\t0.0\\t0.0\\t0.0\\t2\\t123583000\\t123967500\\t500\\tNA\\tNA\\tNA\\tNA\\tNA\\tNA\\tNA\\tNA\\tNA'\n",
       "5. 'chr10\\t60780000\\t60782000\\tchr10\\t60828000\\t60830000\\t.\\t.\\t.\\t.\\t0,255,255\\t16.0\\t3.9354546\\t3.6036625\\t4.087633\\t2.7198699\\t3.993511E-6\\t1.3113022E-6\\t6.377697E-6\\t5.9604645E-8\\t1\\t60781000\\t60829000\\t0\\tNA\\tNA\\tNA\\tNA\\tNA\\tNA\\tNA\\tNA\\tNA'\n",
       "6. 'chr10\\t33050000\\t33051000\\tchr10\\t33067000\\t33068000\\t.\\t.\\t.\\t.\\t0,255,255\\t11.0\\t1.8586187\\t1.8435045\\t1.302612\\t2.001136\\t4.23193E-6\\t3.9339066E-6\\t1.1920929E-7\\t8.34465E-6\\t1\\t33050500\\t33067500\\t0\\tNA\\tNA\\tNA\\tNA\\tNA\\tNA\\tNA\\tNA\\tNA'\n",
       "7. 'chr10\\t11412000\\t11414000\\tchr10\\t11472000\\t11474000\\t.\\t.\\t.\\t.\\t0,255,255\\t27.0\\t5.0568876\\t4.13146\\t3.918301\\t7.767662\\t0.0\\t0.0\\t0.0\\t5.9604645E-8\\t1\\t11413000\\t11473000\\t0\\t11412000\\t11412500\\t11471700\\t11472700\\t11412200\\t11472100\\t10.0\\t0.008861431153317945\\t0'\n",
       "8. 'chr10\\t45005000\\t45010000\\tchr10\\t45465000\\t45470000\\t.\\t.\\t.\\t.\\t0,255,255\\t16.0\\t3.658383\\t2.8294744\\t6.2742825\\t2.340569\\t1.6093254E-6\\t5.9604645E-8\\t8.097887E-4\\t0.0\\t2\\t45007500\\t45465000\\t2500\\tNA\\tNA\\tNA\\tNA\\tNA\\tNA\\tNA\\tNA\\tNA'\n",
       "9. 'chr10\\t120420000\\t120430000\\tchr10\\t120600000\\t120610000\\t.\\t.\\t.\\t.\\t0,255,255\\t29.0\\t9.291821\\t9.322407\\t13.77734\\t8.561912\\t1.7881393E-7\\t1.7881393E-7\\t2.3120642E-4\\t5.9604645E-8\\t3\\t120421666\\t120595000\\t12018\\tNA\\tNA\\tNA\\tNA\\tNA\\tNA\\tNA\\tNA\\tNA'\n",
       "10. 'chr10\\t62437000\\t62438000\\tchr10\\t63158000\\t63159000\\t.\\t.\\t.\\t.\\t0,255,255\\t13.0\\t1.353705\\t0.9746326\\t1.4709425\\t1.4360862\\t0.0\\t0.0\\t0.0\\t0.0\\t1\\t62437500\\t63158500\\t0\\tNA\\tNA\\tNA\\tNA\\tNA\\tNA\\tNA\\tNA\\tNA'\n",
       "\n",
       "\n"
      ],
      "text/plain": [
       " [1] \"#chr1\\tx1\\tx2\\tchr2\\ty1\\ty2\\tname\\tscore\\tstrand1\\tstrand2\\tcolor\\tobserved\\texpectedBL\\texpectedDonut\\texpectedH\\texpectedV\\tfdrBL\\tfdrDonut\\tfdrH\\tfdrV\\tnumCollapsed\\tcentroid1\\tcentroid2\\tradius\\thighRes_start_1\\thighRes_end_1\\thighRes_start_2\\thighRes_end_2\\tlocalX\\tlocalY\\tlocalObserved\\tlocalPval\\tlocalPeakID\"\n",
       " [2] \"# juicer_tools version 2.13.07\"                                                                                                                                                                                                                                                                                              \n",
       " [3] \"chr10\\t102835000\\t102836000\\tchr10\\t102901000\\t102902000\\t.\\t.\\t.\\t.\\t0,255,255\\t16.0\\t2.5453029\\t2.0566912\\t2.896359\\t2.6027875\\t0.0\\t0.0\\t5.9604645E-8\\t0.0\\t2\\t102835000\\t102901500\\t500\\t102834600\\t102835200\\t102901400\\t102901700\\t102834700\\t102901500\\t4.0\\t2.17173181723318E-4\\t0\"                                  \n",
       " [4] \"chr10\\t123583000\\t123584000\\tchr10\\t123967000\\t123968000\\t.\\t.\\t.\\t.\\t0,255,255\\t17.0\\t1.2294405\\t1.126373\\t1.5320965\\t2.968846\\t0.0\\t0.0\\t0.0\\t0.0\\t2\\t123583000\\t123967500\\t500\\tNA\\tNA\\tNA\\tNA\\tNA\\tNA\\tNA\\tNA\\tNA\"                                                                                                       \n",
       " [5] \"chr10\\t60780000\\t60782000\\tchr10\\t60828000\\t60830000\\t.\\t.\\t.\\t.\\t0,255,255\\t16.0\\t3.9354546\\t3.6036625\\t4.087633\\t2.7198699\\t3.993511E-6\\t1.3113022E-6\\t6.377697E-6\\t5.9604645E-8\\t1\\t60781000\\t60829000\\t0\\tNA\\tNA\\tNA\\tNA\\tNA\\tNA\\tNA\\tNA\\tNA\"                                                                            \n",
       " [6] \"chr10\\t33050000\\t33051000\\tchr10\\t33067000\\t33068000\\t.\\t.\\t.\\t.\\t0,255,255\\t11.0\\t1.8586187\\t1.8435045\\t1.302612\\t2.001136\\t4.23193E-6\\t3.9339066E-6\\t1.1920929E-7\\t8.34465E-6\\t1\\t33050500\\t33067500\\t0\\tNA\\tNA\\tNA\\tNA\\tNA\\tNA\\tNA\\tNA\\tNA\"                                                                               \n",
       " [7] \"chr10\\t11412000\\t11414000\\tchr10\\t11472000\\t11474000\\t.\\t.\\t.\\t.\\t0,255,255\\t27.0\\t5.0568876\\t4.13146\\t3.918301\\t7.767662\\t0.0\\t0.0\\t0.0\\t5.9604645E-8\\t1\\t11413000\\t11473000\\t0\\t11412000\\t11412500\\t11471700\\t11472700\\t11412200\\t11472100\\t10.0\\t0.008861431153317945\\t0\"                                                 \n",
       " [8] \"chr10\\t45005000\\t45010000\\tchr10\\t45465000\\t45470000\\t.\\t.\\t.\\t.\\t0,255,255\\t16.0\\t3.658383\\t2.8294744\\t6.2742825\\t2.340569\\t1.6093254E-6\\t5.9604645E-8\\t8.097887E-4\\t0.0\\t2\\t45007500\\t45465000\\t2500\\tNA\\tNA\\tNA\\tNA\\tNA\\tNA\\tNA\\tNA\\tNA\"                                                                                  \n",
       " [9] \"chr10\\t120420000\\t120430000\\tchr10\\t120600000\\t120610000\\t.\\t.\\t.\\t.\\t0,255,255\\t29.0\\t9.291821\\t9.322407\\t13.77734\\t8.561912\\t1.7881393E-7\\t1.7881393E-7\\t2.3120642E-4\\t5.9604645E-8\\t3\\t120421666\\t120595000\\t12018\\tNA\\tNA\\tNA\\tNA\\tNA\\tNA\\tNA\\tNA\\tNA\"                                                                   \n",
       "[10] \"chr10\\t62437000\\t62438000\\tchr10\\t63158000\\t63159000\\t.\\t.\\t.\\t.\\t0,255,255\\t13.0\\t1.353705\\t0.9746326\\t1.4709425\\t1.4360862\\t0.0\\t0.0\\t0.0\\t0.0\\t1\\t62437500\\t63158500\\t0\\tNA\\tNA\\tNA\\tNA\\tNA\\tNA\\tNA\\tNA\\tNA\"                                                                                                              "
      ]
     },
     "metadata": {},
     "output_type": "display_data"
    }
   ],
   "source": [
    "fdiry = file.path(FD_RES, \"source\", \"hic_intact\")\n",
    "fname = \"K562.ENCSR479XDG.ENCFF256ZMD.loops.bedpe.gz\"\n",
    "fpath = file.path(fdiry, fname)\n",
    "\n",
    "txt = paste(\"zcat\", fpath, \"|\", \"head\")\n",
    "system(command = txt, intern = TRUE)"
   ]
  },
  {
   "cell_type": "code",
   "execution_count": 12,
   "metadata": {},
   "outputs": [
    {
     "name": "stderr",
     "output_type": "stream",
     "text": [
      "\u001b[1mRows: \u001b[22m\u001b[34m46004\u001b[39m \u001b[1mColumns: \u001b[22m\u001b[34m33\u001b[39m\n",
      "\u001b[36m──\u001b[39m \u001b[1mColumn specification\u001b[22m \u001b[36m────────────────────────────────────────────────────────────────────────\u001b[39m\n",
      "\u001b[1mDelimiter:\u001b[22m \"\\t\"\n",
      "\u001b[31mchr\u001b[39m  (7): chr1, chr2, name, score, strand1, strand2, color\n",
      "\u001b[32mdbl\u001b[39m (26): x1, x2, y1, y2, observed, expectedBL, expectedDonut, expectedH, ex...\n",
      "\n",
      "\u001b[36mℹ\u001b[39m Use `spec()` to retrieve the full column specification for this data.\n",
      "\u001b[36mℹ\u001b[39m Specify the column types or set `show_col_types = FALSE` to quiet this message.\n"
     ]
    },
    {
     "name": "stdout",
     "output_type": "stream",
     "text": [
      "[1] 46004    33\n"
     ]
    },
    {
     "data": {
      "text/html": [
       "<table class=\"dataframe\">\n",
       "<caption>A tibble: 6 × 33</caption>\n",
       "<thead>\n",
       "\t<tr><th scope=col>chr1</th><th scope=col>x1</th><th scope=col>x2</th><th scope=col>chr2</th><th scope=col>y1</th><th scope=col>y2</th><th scope=col>name</th><th scope=col>score</th><th scope=col>strand1</th><th scope=col>strand2</th><th scope=col>⋯</th><th scope=col>radius</th><th scope=col>highRes_start_1</th><th scope=col>highRes_end_1</th><th scope=col>highRes_start_2</th><th scope=col>highRes_end_2</th><th scope=col>localX</th><th scope=col>localY</th><th scope=col>localObserved</th><th scope=col>localPval</th><th scope=col>localPeakID</th></tr>\n",
       "\t<tr><th scope=col>&lt;chr&gt;</th><th scope=col>&lt;dbl&gt;</th><th scope=col>&lt;dbl&gt;</th><th scope=col>&lt;chr&gt;</th><th scope=col>&lt;dbl&gt;</th><th scope=col>&lt;dbl&gt;</th><th scope=col>&lt;chr&gt;</th><th scope=col>&lt;chr&gt;</th><th scope=col>&lt;chr&gt;</th><th scope=col>&lt;chr&gt;</th><th scope=col>⋯</th><th scope=col>&lt;dbl&gt;</th><th scope=col>&lt;dbl&gt;</th><th scope=col>&lt;dbl&gt;</th><th scope=col>&lt;dbl&gt;</th><th scope=col>&lt;dbl&gt;</th><th scope=col>&lt;dbl&gt;</th><th scope=col>&lt;dbl&gt;</th><th scope=col>&lt;dbl&gt;</th><th scope=col>&lt;dbl&gt;</th><th scope=col>&lt;dbl&gt;</th></tr>\n",
       "</thead>\n",
       "<tbody>\n",
       "\t<tr><td>chr10</td><td>102835000</td><td>102836000</td><td>chr10</td><td>102901000</td><td>102902000</td><td>.</td><td>.</td><td>.</td><td>.</td><td>⋯</td><td> 500</td><td>102834600</td><td>102835200</td><td>102901400</td><td>102901700</td><td>102834700</td><td>102901500</td><td> 4</td><td>0.0002171732</td><td> 0</td></tr>\n",
       "\t<tr><td>chr10</td><td>123583000</td><td>123584000</td><td>chr10</td><td>123967000</td><td>123968000</td><td>.</td><td>.</td><td>.</td><td>.</td><td>⋯</td><td> 500</td><td>       NA</td><td>       NA</td><td>       NA</td><td>       NA</td><td>       NA</td><td>       NA</td><td>NA</td><td>          NA</td><td>NA</td></tr>\n",
       "\t<tr><td>chr10</td><td> 60780000</td><td> 60782000</td><td>chr10</td><td> 60828000</td><td> 60830000</td><td>.</td><td>.</td><td>.</td><td>.</td><td>⋯</td><td>   0</td><td>       NA</td><td>       NA</td><td>       NA</td><td>       NA</td><td>       NA</td><td>       NA</td><td>NA</td><td>          NA</td><td>NA</td></tr>\n",
       "\t<tr><td>chr10</td><td> 33050000</td><td> 33051000</td><td>chr10</td><td> 33067000</td><td> 33068000</td><td>.</td><td>.</td><td>.</td><td>.</td><td>⋯</td><td>   0</td><td>       NA</td><td>       NA</td><td>       NA</td><td>       NA</td><td>       NA</td><td>       NA</td><td>NA</td><td>          NA</td><td>NA</td></tr>\n",
       "\t<tr><td>chr10</td><td> 11412000</td><td> 11414000</td><td>chr10</td><td> 11472000</td><td> 11474000</td><td>.</td><td>.</td><td>.</td><td>.</td><td>⋯</td><td>   0</td><td> 11412000</td><td> 11412500</td><td> 11471700</td><td> 11472700</td><td> 11412200</td><td> 11472100</td><td>10</td><td>0.0088614312</td><td> 0</td></tr>\n",
       "\t<tr><td>chr10</td><td> 45005000</td><td> 45010000</td><td>chr10</td><td> 45465000</td><td> 45470000</td><td>.</td><td>.</td><td>.</td><td>.</td><td>⋯</td><td>2500</td><td>       NA</td><td>       NA</td><td>       NA</td><td>       NA</td><td>       NA</td><td>       NA</td><td>NA</td><td>          NA</td><td>NA</td></tr>\n",
       "</tbody>\n",
       "</table>\n"
      ],
      "text/latex": [
       "A tibble: 6 × 33\n",
       "\\begin{tabular}{lllllllllllllllllllll}\n",
       " chr1 & x1 & x2 & chr2 & y1 & y2 & name & score & strand1 & strand2 & ⋯ & radius & highRes\\_start\\_1 & highRes\\_end\\_1 & highRes\\_start\\_2 & highRes\\_end\\_2 & localX & localY & localObserved & localPval & localPeakID\\\\\n",
       " <chr> & <dbl> & <dbl> & <chr> & <dbl> & <dbl> & <chr> & <chr> & <chr> & <chr> & ⋯ & <dbl> & <dbl> & <dbl> & <dbl> & <dbl> & <dbl> & <dbl> & <dbl> & <dbl> & <dbl>\\\\\n",
       "\\hline\n",
       "\t chr10 & 102835000 & 102836000 & chr10 & 102901000 & 102902000 & . & . & . & . & ⋯ &  500 & 102834600 & 102835200 & 102901400 & 102901700 & 102834700 & 102901500 &  4 & 0.0002171732 &  0\\\\\n",
       "\t chr10 & 123583000 & 123584000 & chr10 & 123967000 & 123968000 & . & . & . & . & ⋯ &  500 &        NA &        NA &        NA &        NA &        NA &        NA & NA &           NA & NA\\\\\n",
       "\t chr10 &  60780000 &  60782000 & chr10 &  60828000 &  60830000 & . & . & . & . & ⋯ &    0 &        NA &        NA &        NA &        NA &        NA &        NA & NA &           NA & NA\\\\\n",
       "\t chr10 &  33050000 &  33051000 & chr10 &  33067000 &  33068000 & . & . & . & . & ⋯ &    0 &        NA &        NA &        NA &        NA &        NA &        NA & NA &           NA & NA\\\\\n",
       "\t chr10 &  11412000 &  11414000 & chr10 &  11472000 &  11474000 & . & . & . & . & ⋯ &    0 &  11412000 &  11412500 &  11471700 &  11472700 &  11412200 &  11472100 & 10 & 0.0088614312 &  0\\\\\n",
       "\t chr10 &  45005000 &  45010000 & chr10 &  45465000 &  45470000 & . & . & . & . & ⋯ & 2500 &        NA &        NA &        NA &        NA &        NA &        NA & NA &           NA & NA\\\\\n",
       "\\end{tabular}\n"
      ],
      "text/markdown": [
       "\n",
       "A tibble: 6 × 33\n",
       "\n",
       "| chr1 &lt;chr&gt; | x1 &lt;dbl&gt; | x2 &lt;dbl&gt; | chr2 &lt;chr&gt; | y1 &lt;dbl&gt; | y2 &lt;dbl&gt; | name &lt;chr&gt; | score &lt;chr&gt; | strand1 &lt;chr&gt; | strand2 &lt;chr&gt; | ⋯ ⋯ | radius &lt;dbl&gt; | highRes_start_1 &lt;dbl&gt; | highRes_end_1 &lt;dbl&gt; | highRes_start_2 &lt;dbl&gt; | highRes_end_2 &lt;dbl&gt; | localX &lt;dbl&gt; | localY &lt;dbl&gt; | localObserved &lt;dbl&gt; | localPval &lt;dbl&gt; | localPeakID &lt;dbl&gt; |\n",
       "|---|---|---|---|---|---|---|---|---|---|---|---|---|---|---|---|---|---|---|---|---|\n",
       "| chr10 | 102835000 | 102836000 | chr10 | 102901000 | 102902000 | . | . | . | . | ⋯ |  500 | 102834600 | 102835200 | 102901400 | 102901700 | 102834700 | 102901500 |  4 | 0.0002171732 |  0 |\n",
       "| chr10 | 123583000 | 123584000 | chr10 | 123967000 | 123968000 | . | . | . | . | ⋯ |  500 |        NA |        NA |        NA |        NA |        NA |        NA | NA |           NA | NA |\n",
       "| chr10 |  60780000 |  60782000 | chr10 |  60828000 |  60830000 | . | . | . | . | ⋯ |    0 |        NA |        NA |        NA |        NA |        NA |        NA | NA |           NA | NA |\n",
       "| chr10 |  33050000 |  33051000 | chr10 |  33067000 |  33068000 | . | . | . | . | ⋯ |    0 |        NA |        NA |        NA |        NA |        NA |        NA | NA |           NA | NA |\n",
       "| chr10 |  11412000 |  11414000 | chr10 |  11472000 |  11474000 | . | . | . | . | ⋯ |    0 |  11412000 |  11412500 |  11471700 |  11472700 |  11412200 |  11472100 | 10 | 0.0088614312 |  0 |\n",
       "| chr10 |  45005000 |  45010000 | chr10 |  45465000 |  45470000 | . | . | . | . | ⋯ | 2500 |        NA |        NA |        NA |        NA |        NA |        NA | NA |           NA | NA |\n",
       "\n"
      ],
      "text/plain": [
       "  chr1  x1        x2        chr2  y1        y2        name score strand1\n",
       "1 chr10 102835000 102836000 chr10 102901000 102902000 .    .     .      \n",
       "2 chr10 123583000 123584000 chr10 123967000 123968000 .    .     .      \n",
       "3 chr10  60780000  60782000 chr10  60828000  60830000 .    .     .      \n",
       "4 chr10  33050000  33051000 chr10  33067000  33068000 .    .     .      \n",
       "5 chr10  11412000  11414000 chr10  11472000  11474000 .    .     .      \n",
       "6 chr10  45005000  45010000 chr10  45465000  45470000 .    .     .      \n",
       "  strand2 ⋯ radius highRes_start_1 highRes_end_1 highRes_start_2 highRes_end_2\n",
       "1 .       ⋯  500   102834600       102835200     102901400       102901700    \n",
       "2 .       ⋯  500          NA              NA            NA              NA    \n",
       "3 .       ⋯    0          NA              NA            NA              NA    \n",
       "4 .       ⋯    0          NA              NA            NA              NA    \n",
       "5 .       ⋯    0    11412000        11412500      11471700        11472700    \n",
       "6 .       ⋯ 2500          NA              NA            NA              NA    \n",
       "  localX    localY    localObserved localPval    localPeakID\n",
       "1 102834700 102901500  4            0.0002171732  0         \n",
       "2        NA        NA NA                      NA NA         \n",
       "3        NA        NA NA                      NA NA         \n",
       "4        NA        NA NA                      NA NA         \n",
       "5  11412200  11472100 10            0.0088614312  0         \n",
       "6        NA        NA NA                      NA NA         "
      ]
     },
     "metadata": {},
     "output_type": "display_data"
    }
   ],
   "source": [
    "fdiry = file.path(FD_RES, \"source\", \"hic_intact\")\n",
    "fname = \"K562.ENCSR479XDG.ENCFF256ZMD.loops.bedpe.gz\"\n",
    "fpath = file.path(fdiry, fname)\n",
    "\n",
    "cnames = 'chr1\\tx1\\tx2\\tchr2\\ty1\\ty2\\tname\\tscore\\tstrand1\\tstrand2\\tcolor\\tobserved\\texpectedBL\\texpectedDonut\\texpectedH\\texpectedV\\tfdrBL\\tfdrDonut\\tfdrH\\tfdrV\\tnumCollapsed\\tcentroid1\\tcentroid2\\tradius\\thighRes_start_1\\thighRes_end_1\\thighRes_start_2\\thighRes_end_2\\tlocalX\\tlocalY\\tlocalObserved\\tlocalPval\\tlocalPeakID'\n",
    "cnames = unlist(str_split(cnames, \"\\t\"))\n",
    "dat    = read_tsv(fpath, col_names = cnames, comment = \"#\")\n",
    "\n",
    "dat_hic_loop = dat\n",
    "print(dim(dat))\n",
    "head(dat)"
   ]
  },
  {
   "cell_type": "code",
   "execution_count": 14,
   "metadata": {},
   "outputs": [
    {
     "data": {
      "text/html": [
       "<table class=\"dataframe\">\n",
       "<caption>A tibble: 6 × 15</caption>\n",
       "<thead>\n",
       "\t<tr><th scope=col>chr1</th><th scope=col>x1</th><th scope=col>x2</th><th scope=col>chr2</th><th scope=col>y1</th><th scope=col>y2</th><th scope=col>name</th><th scope=col>score</th><th scope=col>strand1</th><th scope=col>strand2</th><th scope=col>color</th><th scope=col>observed</th><th scope=col>expectedBL</th><th scope=col>expectedDonut</th><th scope=col>expectedH</th></tr>\n",
       "\t<tr><th scope=col>&lt;chr&gt;</th><th scope=col>&lt;dbl&gt;</th><th scope=col>&lt;dbl&gt;</th><th scope=col>&lt;chr&gt;</th><th scope=col>&lt;dbl&gt;</th><th scope=col>&lt;dbl&gt;</th><th scope=col>&lt;chr&gt;</th><th scope=col>&lt;chr&gt;</th><th scope=col>&lt;chr&gt;</th><th scope=col>&lt;chr&gt;</th><th scope=col>&lt;chr&gt;</th><th scope=col>&lt;dbl&gt;</th><th scope=col>&lt;dbl&gt;</th><th scope=col>&lt;dbl&gt;</th><th scope=col>&lt;dbl&gt;</th></tr>\n",
       "</thead>\n",
       "<tbody>\n",
       "\t<tr><td>chr10</td><td>102835000</td><td>102836000</td><td>chr10</td><td>102901000</td><td>102902000</td><td>.</td><td>.</td><td>.</td><td>.</td><td>0,255,255</td><td>16</td><td>2.545303</td><td>2.056691</td><td>2.896359</td></tr>\n",
       "\t<tr><td>chr10</td><td>123583000</td><td>123584000</td><td>chr10</td><td>123967000</td><td>123968000</td><td>.</td><td>.</td><td>.</td><td>.</td><td>0,255,255</td><td>17</td><td>1.229440</td><td>1.126373</td><td>1.532096</td></tr>\n",
       "\t<tr><td>chr10</td><td> 60780000</td><td> 60782000</td><td>chr10</td><td> 60828000</td><td> 60830000</td><td>.</td><td>.</td><td>.</td><td>.</td><td>0,255,255</td><td>16</td><td>3.935455</td><td>3.603662</td><td>4.087633</td></tr>\n",
       "\t<tr><td>chr10</td><td> 33050000</td><td> 33051000</td><td>chr10</td><td> 33067000</td><td> 33068000</td><td>.</td><td>.</td><td>.</td><td>.</td><td>0,255,255</td><td>11</td><td>1.858619</td><td>1.843505</td><td>1.302612</td></tr>\n",
       "\t<tr><td>chr10</td><td> 11412000</td><td> 11414000</td><td>chr10</td><td> 11472000</td><td> 11474000</td><td>.</td><td>.</td><td>.</td><td>.</td><td>0,255,255</td><td>27</td><td>5.056888</td><td>4.131460</td><td>3.918301</td></tr>\n",
       "\t<tr><td>chr10</td><td> 45005000</td><td> 45010000</td><td>chr10</td><td> 45465000</td><td> 45470000</td><td>.</td><td>.</td><td>.</td><td>.</td><td>0,255,255</td><td>16</td><td>3.658383</td><td>2.829474</td><td>6.274282</td></tr>\n",
       "</tbody>\n",
       "</table>\n"
      ],
      "text/latex": [
       "A tibble: 6 × 15\n",
       "\\begin{tabular}{lllllllllllllll}\n",
       " chr1 & x1 & x2 & chr2 & y1 & y2 & name & score & strand1 & strand2 & color & observed & expectedBL & expectedDonut & expectedH\\\\\n",
       " <chr> & <dbl> & <dbl> & <chr> & <dbl> & <dbl> & <chr> & <chr> & <chr> & <chr> & <chr> & <dbl> & <dbl> & <dbl> & <dbl>\\\\\n",
       "\\hline\n",
       "\t chr10 & 102835000 & 102836000 & chr10 & 102901000 & 102902000 & . & . & . & . & 0,255,255 & 16 & 2.545303 & 2.056691 & 2.896359\\\\\n",
       "\t chr10 & 123583000 & 123584000 & chr10 & 123967000 & 123968000 & . & . & . & . & 0,255,255 & 17 & 1.229440 & 1.126373 & 1.532096\\\\\n",
       "\t chr10 &  60780000 &  60782000 & chr10 &  60828000 &  60830000 & . & . & . & . & 0,255,255 & 16 & 3.935455 & 3.603662 & 4.087633\\\\\n",
       "\t chr10 &  33050000 &  33051000 & chr10 &  33067000 &  33068000 & . & . & . & . & 0,255,255 & 11 & 1.858619 & 1.843505 & 1.302612\\\\\n",
       "\t chr10 &  11412000 &  11414000 & chr10 &  11472000 &  11474000 & . & . & . & . & 0,255,255 & 27 & 5.056888 & 4.131460 & 3.918301\\\\\n",
       "\t chr10 &  45005000 &  45010000 & chr10 &  45465000 &  45470000 & . & . & . & . & 0,255,255 & 16 & 3.658383 & 2.829474 & 6.274282\\\\\n",
       "\\end{tabular}\n"
      ],
      "text/markdown": [
       "\n",
       "A tibble: 6 × 15\n",
       "\n",
       "| chr1 &lt;chr&gt; | x1 &lt;dbl&gt; | x2 &lt;dbl&gt; | chr2 &lt;chr&gt; | y1 &lt;dbl&gt; | y2 &lt;dbl&gt; | name &lt;chr&gt; | score &lt;chr&gt; | strand1 &lt;chr&gt; | strand2 &lt;chr&gt; | color &lt;chr&gt; | observed &lt;dbl&gt; | expectedBL &lt;dbl&gt; | expectedDonut &lt;dbl&gt; | expectedH &lt;dbl&gt; |\n",
       "|---|---|---|---|---|---|---|---|---|---|---|---|---|---|---|\n",
       "| chr10 | 102835000 | 102836000 | chr10 | 102901000 | 102902000 | . | . | . | . | 0,255,255 | 16 | 2.545303 | 2.056691 | 2.896359 |\n",
       "| chr10 | 123583000 | 123584000 | chr10 | 123967000 | 123968000 | . | . | . | . | 0,255,255 | 17 | 1.229440 | 1.126373 | 1.532096 |\n",
       "| chr10 |  60780000 |  60782000 | chr10 |  60828000 |  60830000 | . | . | . | . | 0,255,255 | 16 | 3.935455 | 3.603662 | 4.087633 |\n",
       "| chr10 |  33050000 |  33051000 | chr10 |  33067000 |  33068000 | . | . | . | . | 0,255,255 | 11 | 1.858619 | 1.843505 | 1.302612 |\n",
       "| chr10 |  11412000 |  11414000 | chr10 |  11472000 |  11474000 | . | . | . | . | 0,255,255 | 27 | 5.056888 | 4.131460 | 3.918301 |\n",
       "| chr10 |  45005000 |  45010000 | chr10 |  45465000 |  45470000 | . | . | . | . | 0,255,255 | 16 | 3.658383 | 2.829474 | 6.274282 |\n",
       "\n"
      ],
      "text/plain": [
       "  chr1  x1        x2        chr2  y1        y2        name score strand1\n",
       "1 chr10 102835000 102836000 chr10 102901000 102902000 .    .     .      \n",
       "2 chr10 123583000 123584000 chr10 123967000 123968000 .    .     .      \n",
       "3 chr10  60780000  60782000 chr10  60828000  60830000 .    .     .      \n",
       "4 chr10  33050000  33051000 chr10  33067000  33068000 .    .     .      \n",
       "5 chr10  11412000  11414000 chr10  11472000  11474000 .    .     .      \n",
       "6 chr10  45005000  45010000 chr10  45465000  45470000 .    .     .      \n",
       "  strand2 color     observed expectedBL expectedDonut expectedH\n",
       "1 .       0,255,255 16       2.545303   2.056691      2.896359 \n",
       "2 .       0,255,255 17       1.229440   1.126373      1.532096 \n",
       "3 .       0,255,255 16       3.935455   3.603662      4.087633 \n",
       "4 .       0,255,255 11       1.858619   1.843505      1.302612 \n",
       "5 .       0,255,255 27       5.056888   4.131460      3.918301 \n",
       "6 .       0,255,255 16       3.658383   2.829474      6.274282 "
      ]
     },
     "metadata": {},
     "output_type": "display_data"
    }
   ],
   "source": [
    "head(dat[,1:15])"
   ]
  },
  {
   "cell_type": "code",
   "execution_count": 18,
   "metadata": {},
   "outputs": [
    {
     "name": "stdout",
     "output_type": "stream",
     "text": [
      "[1] 46004     3\n"
     ]
    },
    {
     "data": {
      "text/html": [
       "<table class=\"dataframe\">\n",
       "<caption>A tibble: 6 × 3</caption>\n",
       "<thead>\n",
       "\t<tr><th scope=col>chr1</th><th scope=col>x1</th><th scope=col>x2</th></tr>\n",
       "\t<tr><th scope=col>&lt;chr&gt;</th><th scope=col>&lt;dbl&gt;</th><th scope=col>&lt;dbl&gt;</th></tr>\n",
       "</thead>\n",
       "<tbody>\n",
       "\t<tr><td>chr1</td><td> 770000</td><td> 780000</td></tr>\n",
       "\t<tr><td>chr1</td><td> 904000</td><td> 906000</td></tr>\n",
       "\t<tr><td>chr1</td><td> 920000</td><td> 925000</td></tr>\n",
       "\t<tr><td>chr1</td><td> 980000</td><td> 990000</td></tr>\n",
       "\t<tr><td>chr1</td><td> 984000</td><td> 985000</td></tr>\n",
       "\t<tr><td>chr1</td><td>1000000</td><td>1005000</td></tr>\n",
       "</tbody>\n",
       "</table>\n"
      ],
      "text/latex": [
       "A tibble: 6 × 3\n",
       "\\begin{tabular}{lll}\n",
       " chr1 & x1 & x2\\\\\n",
       " <chr> & <dbl> & <dbl>\\\\\n",
       "\\hline\n",
       "\t chr1 &  770000 &  780000\\\\\n",
       "\t chr1 &  904000 &  906000\\\\\n",
       "\t chr1 &  920000 &  925000\\\\\n",
       "\t chr1 &  980000 &  990000\\\\\n",
       "\t chr1 &  984000 &  985000\\\\\n",
       "\t chr1 & 1000000 & 1005000\\\\\n",
       "\\end{tabular}\n"
      ],
      "text/markdown": [
       "\n",
       "A tibble: 6 × 3\n",
       "\n",
       "| chr1 &lt;chr&gt; | x1 &lt;dbl&gt; | x2 &lt;dbl&gt; |\n",
       "|---|---|---|\n",
       "| chr1 |  770000 |  780000 |\n",
       "| chr1 |  904000 |  906000 |\n",
       "| chr1 |  920000 |  925000 |\n",
       "| chr1 |  980000 |  990000 |\n",
       "| chr1 |  984000 |  985000 |\n",
       "| chr1 | 1000000 | 1005000 |\n",
       "\n"
      ],
      "text/plain": [
       "  chr1 x1      x2     \n",
       "1 chr1  770000  780000\n",
       "2 chr1  904000  906000\n",
       "3 chr1  920000  925000\n",
       "4 chr1  980000  990000\n",
       "5 chr1  984000  985000\n",
       "6 chr1 1000000 1005000"
      ]
     },
     "metadata": {},
     "output_type": "display_data"
    }
   ],
   "source": [
    "dat = dat_hic_loop\n",
    "dat = dat %>% \n",
    "    dplyr::select( chr1, x1, x2) %>% \n",
    "    dplyr::arrange(chr1, x1, x2)\n",
    "\n",
    "dat_hic_loop_A = dat\n",
    "print(dim(dat))\n",
    "head(dat)"
   ]
  },
  {
   "cell_type": "code",
   "execution_count": 19,
   "metadata": {},
   "outputs": [
    {
     "name": "stdout",
     "output_type": "stream",
     "text": [
      "[1] 46004     3\n"
     ]
    },
    {
     "data": {
      "text/html": [
       "<table class=\"dataframe\">\n",
       "<caption>A tibble: 6 × 3</caption>\n",
       "<thead>\n",
       "\t<tr><th scope=col>chr2</th><th scope=col>y1</th><th scope=col>y2</th></tr>\n",
       "\t<tr><th scope=col>&lt;chr&gt;</th><th scope=col>&lt;dbl&gt;</th><th scope=col>&lt;dbl&gt;</th></tr>\n",
       "</thead>\n",
       "<tbody>\n",
       "\t<tr><td>chr1</td><td> 840000</td><td> 850000</td></tr>\n",
       "\t<tr><td>chr1</td><td> 976000</td><td> 978000</td></tr>\n",
       "\t<tr><td>chr1</td><td>1060000</td><td>1065000</td></tr>\n",
       "\t<tr><td>chr1</td><td>1060000</td><td>1065000</td></tr>\n",
       "\t<tr><td>chr1</td><td>1060000</td><td>1065000</td></tr>\n",
       "\t<tr><td>chr1</td><td>1062000</td><td>1063000</td></tr>\n",
       "</tbody>\n",
       "</table>\n"
      ],
      "text/latex": [
       "A tibble: 6 × 3\n",
       "\\begin{tabular}{lll}\n",
       " chr2 & y1 & y2\\\\\n",
       " <chr> & <dbl> & <dbl>\\\\\n",
       "\\hline\n",
       "\t chr1 &  840000 &  850000\\\\\n",
       "\t chr1 &  976000 &  978000\\\\\n",
       "\t chr1 & 1060000 & 1065000\\\\\n",
       "\t chr1 & 1060000 & 1065000\\\\\n",
       "\t chr1 & 1060000 & 1065000\\\\\n",
       "\t chr1 & 1062000 & 1063000\\\\\n",
       "\\end{tabular}\n"
      ],
      "text/markdown": [
       "\n",
       "A tibble: 6 × 3\n",
       "\n",
       "| chr2 &lt;chr&gt; | y1 &lt;dbl&gt; | y2 &lt;dbl&gt; |\n",
       "|---|---|---|\n",
       "| chr1 |  840000 |  850000 |\n",
       "| chr1 |  976000 |  978000 |\n",
       "| chr1 | 1060000 | 1065000 |\n",
       "| chr1 | 1060000 | 1065000 |\n",
       "| chr1 | 1060000 | 1065000 |\n",
       "| chr1 | 1062000 | 1063000 |\n",
       "\n"
      ],
      "text/plain": [
       "  chr2 y1      y2     \n",
       "1 chr1  840000  850000\n",
       "2 chr1  976000  978000\n",
       "3 chr1 1060000 1065000\n",
       "4 chr1 1060000 1065000\n",
       "5 chr1 1060000 1065000\n",
       "6 chr1 1062000 1063000"
      ]
     },
     "metadata": {},
     "output_type": "display_data"
    }
   ],
   "source": [
    "dat = dat_hic_loop\n",
    "dat = dat %>% \n",
    "    dplyr::select( chr2, y1, y2) %>%\n",
    "    dplyr::arrange(chr2, y1, y2)\n",
    "\n",
    "dat_hic_loop_B = dat\n",
    "print(dim(dat))\n",
    "head(dat)"
   ]
  },
  {
   "cell_type": "code",
   "execution_count": null,
   "metadata": {},
   "outputs": [],
   "source": []
  },
  {
   "cell_type": "code",
   "execution_count": 15,
   "metadata": {},
   "outputs": [
    {
     "data": {
      "text/html": [],
      "text/latex": [],
      "text/markdown": [],
      "text/plain": [
       "character(0)"
      ]
     },
     "metadata": {},
     "output_type": "display_data"
    }
   ],
   "source": [
    "fdiry = file.path(FD_RES, \"region\", \"annotation_hic\")\n",
    "dir(fdiry)"
   ]
  },
  {
   "cell_type": "code",
   "execution_count": null,
   "metadata": {},
   "outputs": [],
   "source": []
  },
  {
   "cell_type": "code",
   "execution_count": 22,
   "metadata": {},
   "outputs": [],
   "source": [
    "fdiry = file.path(FD_RES, \"results\", \"region\", \"annotation_hic\")\n",
    "fname = \"K562.ENCSR479XDG.ENCFF256ZMD.loops.tsv\"\n",
    "fpath = file.path(fdiry, fname)\n",
    "\n",
    "dat = dat_hic_loop\n",
    "write_tsv(dat, fpath)"
   ]
  },
  {
   "cell_type": "code",
   "execution_count": 23,
   "metadata": {},
   "outputs": [],
   "source": [
    "fdiry = file.path(FD_RES, \"results\", \"region\", \"annotation_hic\")\n",
    "fname = \"K562.ENCSR479XDG.ENCFF256ZMD.loops.A.bed\"\n",
    "fpath = file.path(fdiry, fname)\n",
    "\n",
    "dat = dat_hic_loop_A\n",
    "write_tsv(dat, fpath, col_names = FALSE)"
   ]
  },
  {
   "cell_type": "code",
   "execution_count": 24,
   "metadata": {},
   "outputs": [],
   "source": [
    "fdiry = file.path(FD_RES, \"results\", \"region\", \"annotation_hic\")\n",
    "fname = \"K562.ENCSR479XDG.ENCFF256ZMD.loops.B.bed\"\n",
    "fpath = file.path(fdiry, fname)\n",
    "\n",
    "dat = dat_hic_loop_B\n",
    "write_tsv(dat, fpath, col_names = FALSE)"
   ]
  },
  {
   "cell_type": "code",
   "execution_count": null,
   "metadata": {},
   "outputs": [],
   "source": []
  }
 ],
 "metadata": {
  "kernelspec": {
   "display_name": "R",
   "language": "R",
   "name": "ir"
  },
  "language_info": {
   "codemirror_mode": "r",
   "file_extension": ".r",
   "mimetype": "text/x-r-source",
   "name": "R",
   "pygments_lexer": "r",
   "version": "4.3.1"
  }
 },
 "nbformat": 4,
 "nbformat_minor": 4
}
