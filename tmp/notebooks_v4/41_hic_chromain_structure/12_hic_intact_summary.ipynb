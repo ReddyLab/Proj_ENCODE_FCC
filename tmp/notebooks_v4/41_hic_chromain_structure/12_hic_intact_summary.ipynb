{
 "cells": [
  {
   "cell_type": "code",
   "execution_count": 1,
   "id": "d538488c",
   "metadata": {},
   "outputs": [
    {
     "name": "stdout",
     "output_type": "stream",
     "text": [
      "You are in Singularity: singularity_proj_encode_fcc \n",
      "BASE DIRECTORY (FD_BASE): /data/reddylab/Kuei \n",
      "WORK DIRECTORY (FD_WORK): /data/reddylab/Kuei/out \n",
      "CODE DIRECTORY (FD_CODE): /data/reddylab/Kuei/code \n",
      "PATH OF PROJECT (FD_PRJ): /data/reddylab/Kuei/code/Proj_CombEffect_ENCODE_FCC \n",
      "PATH OF RESULTS (FD_RES): /data/reddylab/Kuei/out/proj_combeffect_encode_fcc \n",
      "PATH OF LOG     (FD_LOG): /data/reddylab/Kuei/out/proj_combeffect_encode_fcc/log \n"
     ]
    }
   ],
   "source": [
    "suppressMessages(suppressWarnings(source(\"../config/config_sing.R\")))\n",
    "show_env()"
   ]
  },
  {
   "cell_type": "code",
   "execution_count": 4,
   "id": "6a079cf5",
   "metadata": {},
   "outputs": [
    {
     "data": {
      "text/html": [
       "<style>\n",
       ".list-inline {list-style: none; margin:0; padding: 0}\n",
       ".list-inline>li {display: inline-block}\n",
       ".list-inline>li:not(:last-child)::after {content: \"\\00b7\"; padding: 0 .5ex}\n",
       "</style>\n",
       "<ol class=list-inline><li>'peak.annotation.K562.ENCSR479XDG.ENCFF126GED.contact_domains.bed.gz'</li><li>'peak.annotation.K562.ENCSR479XDG.ENCFF256ZMD.loops.A.bed.gz'</li><li>'peak.annotation.K562.ENCSR479XDG.ENCFF256ZMD.loops.B.bed.gz'</li></ol>\n"
      ],
      "text/latex": [
       "\\begin{enumerate*}\n",
       "\\item 'peak.annotation.K562.ENCSR479XDG.ENCFF126GED.contact\\_domains.bed.gz'\n",
       "\\item 'peak.annotation.K562.ENCSR479XDG.ENCFF256ZMD.loops.A.bed.gz'\n",
       "\\item 'peak.annotation.K562.ENCSR479XDG.ENCFF256ZMD.loops.B.bed.gz'\n",
       "\\end{enumerate*}\n"
      ],
      "text/markdown": [
       "1. 'peak.annotation.K562.ENCSR479XDG.ENCFF126GED.contact_domains.bed.gz'\n",
       "2. 'peak.annotation.K562.ENCSR479XDG.ENCFF256ZMD.loops.A.bed.gz'\n",
       "3. 'peak.annotation.K562.ENCSR479XDG.ENCFF256ZMD.loops.B.bed.gz'\n",
       "\n",
       "\n"
      ],
      "text/plain": [
       "[1] \"peak.annotation.K562.ENCSR479XDG.ENCFF126GED.contact_domains.bed.gz\"\n",
       "[2] \"peak.annotation.K562.ENCSR479XDG.ENCFF256ZMD.loops.A.bed.gz\"        \n",
       "[3] \"peak.annotation.K562.ENCSR479XDG.ENCFF256ZMD.loops.B.bed.gz\"        "
      ]
     },
     "metadata": {},
     "output_type": "display_data"
    }
   ],
   "source": [
    "fdiry = file.path(FD_RES, \"results\", \"region\", \"KS91_K562_ASTARRseq_peak_macs_input\", \"annotation_hic\")\n",
    "dir(fdiry)"
   ]
  },
  {
   "cell_type": "code",
   "execution_count": 16,
   "id": "f01e1e6a",
   "metadata": {},
   "outputs": [
    {
     "name": "stderr",
     "output_type": "stream",
     "text": [
      "\u001b[1mRows: \u001b[22m\u001b[34m108318\u001b[39m \u001b[1mColumns: \u001b[22m\u001b[34m7\u001b[39m\n",
      "\u001b[36m──\u001b[39m \u001b[1mColumn specification\u001b[22m \u001b[36m────────────────────────────────────────────────────────────────────────\u001b[39m\n",
      "\u001b[1mDelimiter:\u001b[22m \"\\t\"\n",
      "\u001b[31mchr\u001b[39m (2): Chrom_Peak, Chrom_TAD\n",
      "\u001b[32mdbl\u001b[39m (5): Start_Peak, End_Peak, Start_TAD, End_TAD, Overlap\n",
      "\n",
      "\u001b[36mℹ\u001b[39m Use `spec()` to retrieve the full column specification for this data.\n",
      "\u001b[36mℹ\u001b[39m Specify the column types or set `show_col_types = FALSE` to quiet this message.\n"
     ]
    },
    {
     "name": "stdout",
     "output_type": "stream",
     "text": [
      "[1] 108318      9\n"
     ]
    },
    {
     "data": {
      "text/html": [
       "<table class=\"dataframe\">\n",
       "<caption>A tibble: 6 × 9</caption>\n",
       "<thead>\n",
       "\t<tr><th scope=col>Chrom_Peak</th><th scope=col>Start_Peak</th><th scope=col>End_Peak</th><th scope=col>Chrom_TAD</th><th scope=col>Start_TAD</th><th scope=col>End_TAD</th><th scope=col>Overlap</th><th scope=col>Peak</th><th scope=col>TAD</th></tr>\n",
       "\t<tr><th scope=col>&lt;chr&gt;</th><th scope=col>&lt;dbl&gt;</th><th scope=col>&lt;dbl&gt;</th><th scope=col>&lt;chr&gt;</th><th scope=col>&lt;dbl&gt;</th><th scope=col>&lt;dbl&gt;</th><th scope=col>&lt;dbl&gt;</th><th scope=col>&lt;chr&gt;</th><th scope=col>&lt;chr&gt;</th></tr>\n",
       "</thead>\n",
       "<tbody>\n",
       "\t<tr><td>chr1</td><td>1121788</td><td>1122529</td><td>chr1</td><td>1120000</td><td>1240000</td><td> 741</td><td>chr1_1121788_1122529</td><td>chr1_1120000_1240000</td></tr>\n",
       "\t<tr><td>chr1</td><td>1122893</td><td>1123442</td><td>chr1</td><td>1120000</td><td>1240000</td><td> 549</td><td>chr1_1122893_1123442</td><td>chr1_1120000_1240000</td></tr>\n",
       "\t<tr><td>chr1</td><td>1124347</td><td>1125709</td><td>chr1</td><td>1120000</td><td>1240000</td><td>1362</td><td>chr1_1124347_1125709</td><td>chr1_1120000_1240000</td></tr>\n",
       "\t<tr><td>chr1</td><td>1127455</td><td>1129027</td><td>chr1</td><td>1120000</td><td>1240000</td><td>1572</td><td>chr1_1127455_1129027</td><td>chr1_1120000_1240000</td></tr>\n",
       "\t<tr><td>chr1</td><td>1134673</td><td>1136326</td><td>chr1</td><td>1120000</td><td>1240000</td><td>1653</td><td>chr1_1134673_1136326</td><td>chr1_1120000_1240000</td></tr>\n",
       "\t<tr><td>chr1</td><td>1136833</td><td>1138125</td><td>chr1</td><td>1120000</td><td>1240000</td><td>1292</td><td>chr1_1136833_1138125</td><td>chr1_1120000_1240000</td></tr>\n",
       "</tbody>\n",
       "</table>\n"
      ],
      "text/latex": [
       "A tibble: 6 × 9\n",
       "\\begin{tabular}{lllllllll}\n",
       " Chrom\\_Peak & Start\\_Peak & End\\_Peak & Chrom\\_TAD & Start\\_TAD & End\\_TAD & Overlap & Peak & TAD\\\\\n",
       " <chr> & <dbl> & <dbl> & <chr> & <dbl> & <dbl> & <dbl> & <chr> & <chr>\\\\\n",
       "\\hline\n",
       "\t chr1 & 1121788 & 1122529 & chr1 & 1120000 & 1240000 &  741 & chr1\\_1121788\\_1122529 & chr1\\_1120000\\_1240000\\\\\n",
       "\t chr1 & 1122893 & 1123442 & chr1 & 1120000 & 1240000 &  549 & chr1\\_1122893\\_1123442 & chr1\\_1120000\\_1240000\\\\\n",
       "\t chr1 & 1124347 & 1125709 & chr1 & 1120000 & 1240000 & 1362 & chr1\\_1124347\\_1125709 & chr1\\_1120000\\_1240000\\\\\n",
       "\t chr1 & 1127455 & 1129027 & chr1 & 1120000 & 1240000 & 1572 & chr1\\_1127455\\_1129027 & chr1\\_1120000\\_1240000\\\\\n",
       "\t chr1 & 1134673 & 1136326 & chr1 & 1120000 & 1240000 & 1653 & chr1\\_1134673\\_1136326 & chr1\\_1120000\\_1240000\\\\\n",
       "\t chr1 & 1136833 & 1138125 & chr1 & 1120000 & 1240000 & 1292 & chr1\\_1136833\\_1138125 & chr1\\_1120000\\_1240000\\\\\n",
       "\\end{tabular}\n"
      ],
      "text/markdown": [
       "\n",
       "A tibble: 6 × 9\n",
       "\n",
       "| Chrom_Peak &lt;chr&gt; | Start_Peak &lt;dbl&gt; | End_Peak &lt;dbl&gt; | Chrom_TAD &lt;chr&gt; | Start_TAD &lt;dbl&gt; | End_TAD &lt;dbl&gt; | Overlap &lt;dbl&gt; | Peak &lt;chr&gt; | TAD &lt;chr&gt; |\n",
       "|---|---|---|---|---|---|---|---|---|\n",
       "| chr1 | 1121788 | 1122529 | chr1 | 1120000 | 1240000 |  741 | chr1_1121788_1122529 | chr1_1120000_1240000 |\n",
       "| chr1 | 1122893 | 1123442 | chr1 | 1120000 | 1240000 |  549 | chr1_1122893_1123442 | chr1_1120000_1240000 |\n",
       "| chr1 | 1124347 | 1125709 | chr1 | 1120000 | 1240000 | 1362 | chr1_1124347_1125709 | chr1_1120000_1240000 |\n",
       "| chr1 | 1127455 | 1129027 | chr1 | 1120000 | 1240000 | 1572 | chr1_1127455_1129027 | chr1_1120000_1240000 |\n",
       "| chr1 | 1134673 | 1136326 | chr1 | 1120000 | 1240000 | 1653 | chr1_1134673_1136326 | chr1_1120000_1240000 |\n",
       "| chr1 | 1136833 | 1138125 | chr1 | 1120000 | 1240000 | 1292 | chr1_1136833_1138125 | chr1_1120000_1240000 |\n",
       "\n"
      ],
      "text/plain": [
       "  Chrom_Peak Start_Peak End_Peak Chrom_TAD Start_TAD End_TAD Overlap\n",
       "1 chr1       1121788    1122529  chr1      1120000   1240000  741   \n",
       "2 chr1       1122893    1123442  chr1      1120000   1240000  549   \n",
       "3 chr1       1124347    1125709  chr1      1120000   1240000 1362   \n",
       "4 chr1       1127455    1129027  chr1      1120000   1240000 1572   \n",
       "5 chr1       1134673    1136326  chr1      1120000   1240000 1653   \n",
       "6 chr1       1136833    1138125  chr1      1120000   1240000 1292   \n",
       "  Peak                 TAD                 \n",
       "1 chr1_1121788_1122529 chr1_1120000_1240000\n",
       "2 chr1_1122893_1123442 chr1_1120000_1240000\n",
       "3 chr1_1124347_1125709 chr1_1120000_1240000\n",
       "4 chr1_1127455_1129027 chr1_1120000_1240000\n",
       "5 chr1_1134673_1136326 chr1_1120000_1240000\n",
       "6 chr1_1136833_1138125 chr1_1120000_1240000"
      ]
     },
     "metadata": {},
     "output_type": "display_data"
    }
   ],
   "source": [
    "fdiry = file.path(FD_RES, \"results\", \"region\", \"KS91_K562_ASTARRseq_peak_macs_input\", \"annotation_hic\")\n",
    "fname = \"peak.annotation.K562.ENCSR479XDG.ENCFF126GED.contact_domains.bed.gz\"\n",
    "fpath = file.path(fdiry, fname)\n",
    "\n",
    "cnames = c(\"Chrom_Peak\", \"Start_Peak\", \"End_Peak\", \"Chrom_TAD\", \"Start_TAD\", \"End_TAD\", \"Overlap\")\n",
    "dat = read_tsv(fpath, col_names = cnames)\n",
    "dat = dat %>% \n",
    "    dplyr::mutate(\n",
    "        Peak = paste(Chrom_Peak, Start_Peak, End_Peak, sep=\"_\"),\n",
    "        TAD  = paste(Chrom_TAD,  Start_TAD,  End_TAD,  sep=\"_\")\n",
    "    )\n",
    "\n",
    "dat_peak_annot_tad = dat\n",
    "print(dim(dat))\n",
    "head(dat)"
   ]
  },
  {
   "cell_type": "code",
   "execution_count": 17,
   "id": "4bfeb39a",
   "metadata": {},
   "outputs": [
    {
     "name": "stderr",
     "output_type": "stream",
     "text": [
      "\u001b[1mRows: \u001b[22m\u001b[34m55458\u001b[39m \u001b[1mColumns: \u001b[22m\u001b[34m7\u001b[39m\n",
      "\u001b[36m──\u001b[39m \u001b[1mColumn specification\u001b[22m \u001b[36m────────────────────────────────────────────────────────────────────────\u001b[39m\n",
      "\u001b[1mDelimiter:\u001b[22m \"\\t\"\n",
      "\u001b[31mchr\u001b[39m (2): Chrom_Peak, Chrom_Loop\n",
      "\u001b[32mdbl\u001b[39m (5): Start_Peak, End_Peak, Start_Loop, End_Loop, Overlap\n",
      "\n",
      "\u001b[36mℹ\u001b[39m Use `spec()` to retrieve the full column specification for this data.\n",
      "\u001b[36mℹ\u001b[39m Specify the column types or set `show_col_types = FALSE` to quiet this message.\n"
     ]
    },
    {
     "name": "stdout",
     "output_type": "stream",
     "text": [
      "[1] 55458     9\n"
     ]
    },
    {
     "data": {
      "text/html": [
       "<table class=\"dataframe\">\n",
       "<caption>A tibble: 6 × 9</caption>\n",
       "<thead>\n",
       "\t<tr><th scope=col>Chrom_Peak</th><th scope=col>Start_Peak</th><th scope=col>End_Peak</th><th scope=col>Chrom_Loop</th><th scope=col>Start_Loop</th><th scope=col>End_Loop</th><th scope=col>Overlap</th><th scope=col>Peak_A</th><th scope=col>Loop_A</th></tr>\n",
       "\t<tr><th scope=col>&lt;chr&gt;</th><th scope=col>&lt;dbl&gt;</th><th scope=col>&lt;dbl&gt;</th><th scope=col>&lt;chr&gt;</th><th scope=col>&lt;dbl&gt;</th><th scope=col>&lt;dbl&gt;</th><th scope=col>&lt;dbl&gt;</th><th scope=col>&lt;chr&gt;</th><th scope=col>&lt;chr&gt;</th></tr>\n",
       "</thead>\n",
       "<tbody>\n",
       "\t<tr><td>chr1</td><td>770944</td><td>771343</td><td>chr1</td><td>770000</td><td>780000</td><td> 399</td><td>chr1_770944_771343</td><td>chr1_770000_780000</td></tr>\n",
       "\t<tr><td>chr1</td><td>777949</td><td>779437</td><td>chr1</td><td>770000</td><td>780000</td><td>1488</td><td>chr1_777949_779437</td><td>chr1_770000_780000</td></tr>\n",
       "\t<tr><td>chr1</td><td>903633</td><td>905556</td><td>chr1</td><td>904000</td><td>906000</td><td>1556</td><td>chr1_903633_905556</td><td>chr1_904000_906000</td></tr>\n",
       "\t<tr><td>chr1</td><td>920697</td><td>921526</td><td>chr1</td><td>920000</td><td>925000</td><td> 829</td><td>chr1_920697_921526</td><td>chr1_920000_925000</td></tr>\n",
       "\t<tr><td>chr1</td><td>923417</td><td>925194</td><td>chr1</td><td>920000</td><td>925000</td><td>1583</td><td>chr1_923417_925194</td><td>chr1_920000_925000</td></tr>\n",
       "\t<tr><td>chr1</td><td>978177</td><td>980894</td><td>chr1</td><td>980000</td><td>990000</td><td> 894</td><td>chr1_978177_980894</td><td>chr1_980000_990000</td></tr>\n",
       "</tbody>\n",
       "</table>\n"
      ],
      "text/latex": [
       "A tibble: 6 × 9\n",
       "\\begin{tabular}{lllllllll}\n",
       " Chrom\\_Peak & Start\\_Peak & End\\_Peak & Chrom\\_Loop & Start\\_Loop & End\\_Loop & Overlap & Peak\\_A & Loop\\_A\\\\\n",
       " <chr> & <dbl> & <dbl> & <chr> & <dbl> & <dbl> & <dbl> & <chr> & <chr>\\\\\n",
       "\\hline\n",
       "\t chr1 & 770944 & 771343 & chr1 & 770000 & 780000 &  399 & chr1\\_770944\\_771343 & chr1\\_770000\\_780000\\\\\n",
       "\t chr1 & 777949 & 779437 & chr1 & 770000 & 780000 & 1488 & chr1\\_777949\\_779437 & chr1\\_770000\\_780000\\\\\n",
       "\t chr1 & 903633 & 905556 & chr1 & 904000 & 906000 & 1556 & chr1\\_903633\\_905556 & chr1\\_904000\\_906000\\\\\n",
       "\t chr1 & 920697 & 921526 & chr1 & 920000 & 925000 &  829 & chr1\\_920697\\_921526 & chr1\\_920000\\_925000\\\\\n",
       "\t chr1 & 923417 & 925194 & chr1 & 920000 & 925000 & 1583 & chr1\\_923417\\_925194 & chr1\\_920000\\_925000\\\\\n",
       "\t chr1 & 978177 & 980894 & chr1 & 980000 & 990000 &  894 & chr1\\_978177\\_980894 & chr1\\_980000\\_990000\\\\\n",
       "\\end{tabular}\n"
      ],
      "text/markdown": [
       "\n",
       "A tibble: 6 × 9\n",
       "\n",
       "| Chrom_Peak &lt;chr&gt; | Start_Peak &lt;dbl&gt; | End_Peak &lt;dbl&gt; | Chrom_Loop &lt;chr&gt; | Start_Loop &lt;dbl&gt; | End_Loop &lt;dbl&gt; | Overlap &lt;dbl&gt; | Peak_A &lt;chr&gt; | Loop_A &lt;chr&gt; |\n",
       "|---|---|---|---|---|---|---|---|---|\n",
       "| chr1 | 770944 | 771343 | chr1 | 770000 | 780000 |  399 | chr1_770944_771343 | chr1_770000_780000 |\n",
       "| chr1 | 777949 | 779437 | chr1 | 770000 | 780000 | 1488 | chr1_777949_779437 | chr1_770000_780000 |\n",
       "| chr1 | 903633 | 905556 | chr1 | 904000 | 906000 | 1556 | chr1_903633_905556 | chr1_904000_906000 |\n",
       "| chr1 | 920697 | 921526 | chr1 | 920000 | 925000 |  829 | chr1_920697_921526 | chr1_920000_925000 |\n",
       "| chr1 | 923417 | 925194 | chr1 | 920000 | 925000 | 1583 | chr1_923417_925194 | chr1_920000_925000 |\n",
       "| chr1 | 978177 | 980894 | chr1 | 980000 | 990000 |  894 | chr1_978177_980894 | chr1_980000_990000 |\n",
       "\n"
      ],
      "text/plain": [
       "  Chrom_Peak Start_Peak End_Peak Chrom_Loop Start_Loop End_Loop Overlap\n",
       "1 chr1       770944     771343   chr1       770000     780000    399   \n",
       "2 chr1       777949     779437   chr1       770000     780000   1488   \n",
       "3 chr1       903633     905556   chr1       904000     906000   1556   \n",
       "4 chr1       920697     921526   chr1       920000     925000    829   \n",
       "5 chr1       923417     925194   chr1       920000     925000   1583   \n",
       "6 chr1       978177     980894   chr1       980000     990000    894   \n",
       "  Peak_A             Loop_A            \n",
       "1 chr1_770944_771343 chr1_770000_780000\n",
       "2 chr1_777949_779437 chr1_770000_780000\n",
       "3 chr1_903633_905556 chr1_904000_906000\n",
       "4 chr1_920697_921526 chr1_920000_925000\n",
       "5 chr1_923417_925194 chr1_920000_925000\n",
       "6 chr1_978177_980894 chr1_980000_990000"
      ]
     },
     "metadata": {},
     "output_type": "display_data"
    }
   ],
   "source": [
    "fdiry = file.path(FD_RES, \"results\", \"region\", \"KS91_K562_ASTARRseq_peak_macs_input\", \"annotation_hic\")\n",
    "fname = \"peak.annotation.K562.ENCSR479XDG.ENCFF256ZMD.loops.A.bed.gz\"\n",
    "fpath = file.path(fdiry, fname)\n",
    "\n",
    "cnames = c(\"Chrom_Peak\", \"Start_Peak\", \"End_Peak\", \"Chrom_Loop\", \"Start_Loop\", \"End_Loop\", \"Overlap\")\n",
    "dat = read_tsv(fpath, col_names = cnames)\n",
    "dat = dat %>% \n",
    "    dplyr::mutate(\n",
    "        Peak_A = paste(Chrom_Peak, Start_Peak, End_Peak, sep=\"_\"),\n",
    "        Loop_A = paste(Chrom_Loop, Start_Loop, End_Loop, sep=\"_\")\n",
    "    )\n",
    "\n",
    "dat_peak_annot_loop_A = dat\n",
    "print(dim(dat))\n",
    "head(dat)"
   ]
  },
  {
   "cell_type": "code",
   "execution_count": 18,
   "id": "3d8bd07c",
   "metadata": {},
   "outputs": [
    {
     "name": "stderr",
     "output_type": "stream",
     "text": [
      "\u001b[1mRows: \u001b[22m\u001b[34m55505\u001b[39m \u001b[1mColumns: \u001b[22m\u001b[34m7\u001b[39m\n",
      "\u001b[36m──\u001b[39m \u001b[1mColumn specification\u001b[22m \u001b[36m────────────────────────────────────────────────────────────────────────\u001b[39m\n",
      "\u001b[1mDelimiter:\u001b[22m \"\\t\"\n",
      "\u001b[31mchr\u001b[39m (2): Chrom_Peak, Chrom_Loop\n",
      "\u001b[32mdbl\u001b[39m (5): Start_Peak, End_Peak, Start_Loop, End_Loop, Overlap\n",
      "\n",
      "\u001b[36mℹ\u001b[39m Use `spec()` to retrieve the full column specification for this data.\n",
      "\u001b[36mℹ\u001b[39m Specify the column types or set `show_col_types = FALSE` to quiet this message.\n"
     ]
    },
    {
     "name": "stdout",
     "output_type": "stream",
     "text": [
      "[1] 55505     9\n"
     ]
    },
    {
     "data": {
      "text/html": [
       "<table class=\"dataframe\">\n",
       "<caption>A tibble: 6 × 9</caption>\n",
       "<thead>\n",
       "\t<tr><th scope=col>Chrom_Peak</th><th scope=col>Start_Peak</th><th scope=col>End_Peak</th><th scope=col>Chrom_Loop</th><th scope=col>Start_Loop</th><th scope=col>End_Loop</th><th scope=col>Overlap</th><th scope=col>Peak_B</th><th scope=col>Loop_B</th></tr>\n",
       "\t<tr><th scope=col>&lt;chr&gt;</th><th scope=col>&lt;dbl&gt;</th><th scope=col>&lt;dbl&gt;</th><th scope=col>&lt;chr&gt;</th><th scope=col>&lt;dbl&gt;</th><th scope=col>&lt;dbl&gt;</th><th scope=col>&lt;dbl&gt;</th><th scope=col>&lt;chr&gt;</th><th scope=col>&lt;chr&gt;</th></tr>\n",
       "</thead>\n",
       "<tbody>\n",
       "\t<tr><td>chr1</td><td> 841328</td><td> 842007</td><td>chr1</td><td> 840000</td><td> 850000</td><td>679</td><td>chr1_841328_842007  </td><td>chr1_840000_850000  </td></tr>\n",
       "\t<tr><td>chr1</td><td> 842480</td><td> 843449</td><td>chr1</td><td> 840000</td><td> 850000</td><td>969</td><td>chr1_842480_843449  </td><td>chr1_840000_850000  </td></tr>\n",
       "\t<tr><td>chr1</td><td> 849557</td><td> 850619</td><td>chr1</td><td> 840000</td><td> 850000</td><td>443</td><td>chr1_849557_850619  </td><td>chr1_840000_850000  </td></tr>\n",
       "\t<tr><td>chr1</td><td> 975970</td><td> 976672</td><td>chr1</td><td> 976000</td><td> 978000</td><td>672</td><td>chr1_975970_976672  </td><td>chr1_976000_978000  </td></tr>\n",
       "\t<tr><td>chr1</td><td>1059010</td><td>1060142</td><td>chr1</td><td>1060000</td><td>1065000</td><td>142</td><td>chr1_1059010_1060142</td><td>chr1_1060000_1065000</td></tr>\n",
       "\t<tr><td>chr1</td><td>1059010</td><td>1060142</td><td>chr1</td><td>1060000</td><td>1065000</td><td>142</td><td>chr1_1059010_1060142</td><td>chr1_1060000_1065000</td></tr>\n",
       "</tbody>\n",
       "</table>\n"
      ],
      "text/latex": [
       "A tibble: 6 × 9\n",
       "\\begin{tabular}{lllllllll}\n",
       " Chrom\\_Peak & Start\\_Peak & End\\_Peak & Chrom\\_Loop & Start\\_Loop & End\\_Loop & Overlap & Peak\\_B & Loop\\_B\\\\\n",
       " <chr> & <dbl> & <dbl> & <chr> & <dbl> & <dbl> & <dbl> & <chr> & <chr>\\\\\n",
       "\\hline\n",
       "\t chr1 &  841328 &  842007 & chr1 &  840000 &  850000 & 679 & chr1\\_841328\\_842007   & chr1\\_840000\\_850000  \\\\\n",
       "\t chr1 &  842480 &  843449 & chr1 &  840000 &  850000 & 969 & chr1\\_842480\\_843449   & chr1\\_840000\\_850000  \\\\\n",
       "\t chr1 &  849557 &  850619 & chr1 &  840000 &  850000 & 443 & chr1\\_849557\\_850619   & chr1\\_840000\\_850000  \\\\\n",
       "\t chr1 &  975970 &  976672 & chr1 &  976000 &  978000 & 672 & chr1\\_975970\\_976672   & chr1\\_976000\\_978000  \\\\\n",
       "\t chr1 & 1059010 & 1060142 & chr1 & 1060000 & 1065000 & 142 & chr1\\_1059010\\_1060142 & chr1\\_1060000\\_1065000\\\\\n",
       "\t chr1 & 1059010 & 1060142 & chr1 & 1060000 & 1065000 & 142 & chr1\\_1059010\\_1060142 & chr1\\_1060000\\_1065000\\\\\n",
       "\\end{tabular}\n"
      ],
      "text/markdown": [
       "\n",
       "A tibble: 6 × 9\n",
       "\n",
       "| Chrom_Peak &lt;chr&gt; | Start_Peak &lt;dbl&gt; | End_Peak &lt;dbl&gt; | Chrom_Loop &lt;chr&gt; | Start_Loop &lt;dbl&gt; | End_Loop &lt;dbl&gt; | Overlap &lt;dbl&gt; | Peak_B &lt;chr&gt; | Loop_B &lt;chr&gt; |\n",
       "|---|---|---|---|---|---|---|---|---|\n",
       "| chr1 |  841328 |  842007 | chr1 |  840000 |  850000 | 679 | chr1_841328_842007   | chr1_840000_850000   |\n",
       "| chr1 |  842480 |  843449 | chr1 |  840000 |  850000 | 969 | chr1_842480_843449   | chr1_840000_850000   |\n",
       "| chr1 |  849557 |  850619 | chr1 |  840000 |  850000 | 443 | chr1_849557_850619   | chr1_840000_850000   |\n",
       "| chr1 |  975970 |  976672 | chr1 |  976000 |  978000 | 672 | chr1_975970_976672   | chr1_976000_978000   |\n",
       "| chr1 | 1059010 | 1060142 | chr1 | 1060000 | 1065000 | 142 | chr1_1059010_1060142 | chr1_1060000_1065000 |\n",
       "| chr1 | 1059010 | 1060142 | chr1 | 1060000 | 1065000 | 142 | chr1_1059010_1060142 | chr1_1060000_1065000 |\n",
       "\n"
      ],
      "text/plain": [
       "  Chrom_Peak Start_Peak End_Peak Chrom_Loop Start_Loop End_Loop Overlap\n",
       "1 chr1        841328     842007  chr1        840000     850000  679    \n",
       "2 chr1        842480     843449  chr1        840000     850000  969    \n",
       "3 chr1        849557     850619  chr1        840000     850000  443    \n",
       "4 chr1        975970     976672  chr1        976000     978000  672    \n",
       "5 chr1       1059010    1060142  chr1       1060000    1065000  142    \n",
       "6 chr1       1059010    1060142  chr1       1060000    1065000  142    \n",
       "  Peak_B               Loop_B              \n",
       "1 chr1_841328_842007   chr1_840000_850000  \n",
       "2 chr1_842480_843449   chr1_840000_850000  \n",
       "3 chr1_849557_850619   chr1_840000_850000  \n",
       "4 chr1_975970_976672   chr1_976000_978000  \n",
       "5 chr1_1059010_1060142 chr1_1060000_1065000\n",
       "6 chr1_1059010_1060142 chr1_1060000_1065000"
      ]
     },
     "metadata": {},
     "output_type": "display_data"
    }
   ],
   "source": [
    "fdiry = file.path(FD_RES, \"results\", \"region\", \"KS91_K562_ASTARRseq_peak_macs_input\", \"annotation_hic\")\n",
    "fname = \"peak.annotation.K562.ENCSR479XDG.ENCFF256ZMD.loops.B.bed.gz\"\n",
    "fpath = file.path(fdiry, fname)\n",
    "\n",
    "cnames = c(\"Chrom_Peak\", \"Start_Peak\", \"End_Peak\", \"Chrom_Loop\", \"Start_Loop\", \"End_Loop\", \"Overlap\")\n",
    "dat = read_tsv(fpath, col_names = cnames)\n",
    "dat = dat %>% \n",
    "    dplyr::mutate(\n",
    "        Peak_B = paste(Chrom_Peak, Start_Peak, End_Peak, sep=\"_\"),\n",
    "        Loop_B = paste(Chrom_Loop, Start_Loop, End_Loop, sep=\"_\")\n",
    "    )\n",
    "\n",
    "dat_peak_annot_loop_B = dat\n",
    "print(dim(dat))\n",
    "head(dat)"
   ]
  },
  {
   "cell_type": "code",
   "execution_count": 19,
   "id": "49cf8fa9",
   "metadata": {},
   "outputs": [
    {
     "name": "stderr",
     "output_type": "stream",
     "text": [
      "\u001b[1mRows: \u001b[22m\u001b[34m46004\u001b[39m \u001b[1mColumns: \u001b[22m\u001b[34m33\u001b[39m\n",
      "\u001b[36m──\u001b[39m \u001b[1mColumn specification\u001b[22m \u001b[36m────────────────────────────────────────────────────────────────────────\u001b[39m\n",
      "\u001b[1mDelimiter:\u001b[22m \"\\t\"\n",
      "\u001b[31mchr\u001b[39m  (7): chr1, chr2, name, score, strand1, strand2, color\n",
      "\u001b[32mdbl\u001b[39m (26): x1, x2, y1, y2, observed, expectedBL, expectedDonut, expectedH, ex...\n",
      "\n",
      "\u001b[36mℹ\u001b[39m Use `spec()` to retrieve the full column specification for this data.\n",
      "\u001b[36mℹ\u001b[39m Specify the column types or set `show_col_types = FALSE` to quiet this message.\n"
     ]
    },
    {
     "name": "stdout",
     "output_type": "stream",
     "text": [
      "[1] 46004     2\n"
     ]
    },
    {
     "data": {
      "text/html": [
       "<table class=\"dataframe\">\n",
       "<caption>A tibble: 6 × 2</caption>\n",
       "<thead>\n",
       "\t<tr><th scope=col>Loop_A</th><th scope=col>Loop_B</th></tr>\n",
       "\t<tr><th scope=col>&lt;chr&gt;</th><th scope=col>&lt;chr&gt;</th></tr>\n",
       "</thead>\n",
       "<tbody>\n",
       "\t<tr><td>chr10_102835000_102836000</td><td>chr10_102901000_102902000</td></tr>\n",
       "\t<tr><td>chr10_123583000_123584000</td><td>chr10_123967000_123968000</td></tr>\n",
       "\t<tr><td>chr10_60780000_60782000  </td><td>chr10_60828000_60830000  </td></tr>\n",
       "\t<tr><td>chr10_33050000_33051000  </td><td>chr10_33067000_33068000  </td></tr>\n",
       "\t<tr><td>chr10_11412000_11414000  </td><td>chr10_11472000_11474000  </td></tr>\n",
       "\t<tr><td>chr10_45005000_45010000  </td><td>chr10_45465000_45470000  </td></tr>\n",
       "</tbody>\n",
       "</table>\n"
      ],
      "text/latex": [
       "A tibble: 6 × 2\n",
       "\\begin{tabular}{ll}\n",
       " Loop\\_A & Loop\\_B\\\\\n",
       " <chr> & <chr>\\\\\n",
       "\\hline\n",
       "\t chr10\\_102835000\\_102836000 & chr10\\_102901000\\_102902000\\\\\n",
       "\t chr10\\_123583000\\_123584000 & chr10\\_123967000\\_123968000\\\\\n",
       "\t chr10\\_60780000\\_60782000   & chr10\\_60828000\\_60830000  \\\\\n",
       "\t chr10\\_33050000\\_33051000   & chr10\\_33067000\\_33068000  \\\\\n",
       "\t chr10\\_11412000\\_11414000   & chr10\\_11472000\\_11474000  \\\\\n",
       "\t chr10\\_45005000\\_45010000   & chr10\\_45465000\\_45470000  \\\\\n",
       "\\end{tabular}\n"
      ],
      "text/markdown": [
       "\n",
       "A tibble: 6 × 2\n",
       "\n",
       "| Loop_A &lt;chr&gt; | Loop_B &lt;chr&gt; |\n",
       "|---|---|\n",
       "| chr10_102835000_102836000 | chr10_102901000_102902000 |\n",
       "| chr10_123583000_123584000 | chr10_123967000_123968000 |\n",
       "| chr10_60780000_60782000   | chr10_60828000_60830000   |\n",
       "| chr10_33050000_33051000   | chr10_33067000_33068000   |\n",
       "| chr10_11412000_11414000   | chr10_11472000_11474000   |\n",
       "| chr10_45005000_45010000   | chr10_45465000_45470000   |\n",
       "\n"
      ],
      "text/plain": [
       "  Loop_A                    Loop_B                   \n",
       "1 chr10_102835000_102836000 chr10_102901000_102902000\n",
       "2 chr10_123583000_123584000 chr10_123967000_123968000\n",
       "3 chr10_60780000_60782000   chr10_60828000_60830000  \n",
       "4 chr10_33050000_33051000   chr10_33067000_33068000  \n",
       "5 chr10_11412000_11414000   chr10_11472000_11474000  \n",
       "6 chr10_45005000_45010000   chr10_45465000_45470000  "
      ]
     },
     "metadata": {},
     "output_type": "display_data"
    }
   ],
   "source": [
    "fdiry = file.path(FD_RES, \"results\", \"region\", \"annotation_hic\")\n",
    "fname = \"K562.ENCSR479XDG.ENCFF256ZMD.loops.tsv\"\n",
    "fpath = file.path(fdiry, fname)\n",
    "\n",
    "dat = read_tsv(fpath)\n",
    "dat = dat %>% \n",
    "    dplyr::mutate(\n",
    "        Loop_A = paste(chr1, x1, x2, sep=\"_\"),\n",
    "        Loop_B = paste(chr2, y1, y2, sep=\"_\")\n",
    "    ) %>%\n",
    "    dplyr::select(Loop_A, Loop_B)\n",
    "\n",
    "dat_hic_loop = dat\n",
    "print(dim(dat))\n",
    "head(dat)"
   ]
  },
  {
   "cell_type": "code",
   "execution_count": null,
   "id": "7c4f1681",
   "metadata": {},
   "outputs": [],
   "source": []
  },
  {
   "cell_type": "code",
   "execution_count": 27,
   "id": "fe4473c4",
   "metadata": {},
   "outputs": [
    {
     "name": "stdout",
     "output_type": "stream",
     "text": [
      "[1] 46004     2\n",
      "[1] 46004     2\n"
     ]
    }
   ],
   "source": [
    "dat = dat_hic_loop\n",
    "print(dim(dat))\n",
    "\n",
    "dat = dat %>% distinct\n",
    "print(dim(dat))"
   ]
  },
  {
   "cell_type": "code",
   "execution_count": 31,
   "id": "f318fc5a",
   "metadata": {},
   "outputs": [
    {
     "name": "stdout",
     "output_type": "stream",
     "text": [
      "res\n",
      "    1     2     3     4     5     6     7     8 \n",
      "30018  5418  1213   277    63    11     2     1 \n"
     ]
    }
   ],
   "source": [
    "res = table(dat$Loop_A)\n",
    "print(table(res))"
   ]
  },
  {
   "cell_type": "code",
   "execution_count": 32,
   "id": "23173e60",
   "metadata": {},
   "outputs": [
    {
     "name": "stdout",
     "output_type": "stream",
     "text": [
      "res\n",
      "    1     2     3     4     5     6     7     8     9 \n",
      "29769  5364  1259   318    60    14     7     2     1 \n"
     ]
    }
   ],
   "source": [
    "res = table(dat$Loop_B)\n",
    "print(table(res))"
   ]
  },
  {
   "cell_type": "code",
   "execution_count": null,
   "id": "0fa5a8d3",
   "metadata": {},
   "outputs": [],
   "source": []
  },
  {
   "cell_type": "code",
   "execution_count": 20,
   "id": "fc463f2f",
   "metadata": {},
   "outputs": [],
   "source": [
    "dat = dat_peak_annot_loop_A\n",
    "dat = dat %>% dplyr::select(Peak_A, Loop_A)\n",
    "dat_loop_A = dat\n",
    "\n",
    "dat = dat_peak_annot_loop_B\n",
    "dat = dat %>% dplyr::select(Peak_B, Loop_B)\n",
    "dat_loop_B = dat"
   ]
  },
  {
   "cell_type": "code",
   "execution_count": 44,
   "id": "052de29a",
   "metadata": {},
   "outputs": [
    {
     "name": "stdout",
     "output_type": "stream",
     "text": [
      "[1] 76853     3\n"
     ]
    },
    {
     "data": {
      "text/html": [
       "<table class=\"dataframe\">\n",
       "<caption>A tibble: 6 × 3</caption>\n",
       "<thead>\n",
       "\t<tr><th scope=col>Peak_A</th><th scope=col>Peak_B</th><th scope=col>Count</th></tr>\n",
       "\t<tr><th scope=col>&lt;chr&gt;</th><th scope=col>&lt;chr&gt;</th><th scope=col>&lt;int&gt;</th></tr>\n",
       "</thead>\n",
       "<tbody>\n",
       "\t<tr><td>chr10_100338359_100339077</td><td>chr10_100433434_100434444</td><td>1</td></tr>\n",
       "\t<tr><td>chr10_100342247_100342824</td><td>chr10_100433434_100434444</td><td>1</td></tr>\n",
       "\t<tr><td>chr10_100342247_100342824</td><td>chr10_100508470_100509309</td><td>1</td></tr>\n",
       "\t<tr><td>chr10_100342247_100342824</td><td>chr10_100871690_100872646</td><td>1</td></tr>\n",
       "\t<tr><td>chr10_100342247_100342824</td><td>chr10_100878006_100879519</td><td>1</td></tr>\n",
       "\t<tr><td>chr10_100342247_100342824</td><td>chr10_100879867_100880309</td><td>1</td></tr>\n",
       "</tbody>\n",
       "</table>\n"
      ],
      "text/latex": [
       "A tibble: 6 × 3\n",
       "\\begin{tabular}{lll}\n",
       " Peak\\_A & Peak\\_B & Count\\\\\n",
       " <chr> & <chr> & <int>\\\\\n",
       "\\hline\n",
       "\t chr10\\_100338359\\_100339077 & chr10\\_100433434\\_100434444 & 1\\\\\n",
       "\t chr10\\_100342247\\_100342824 & chr10\\_100433434\\_100434444 & 1\\\\\n",
       "\t chr10\\_100342247\\_100342824 & chr10\\_100508470\\_100509309 & 1\\\\\n",
       "\t chr10\\_100342247\\_100342824 & chr10\\_100871690\\_100872646 & 1\\\\\n",
       "\t chr10\\_100342247\\_100342824 & chr10\\_100878006\\_100879519 & 1\\\\\n",
       "\t chr10\\_100342247\\_100342824 & chr10\\_100879867\\_100880309 & 1\\\\\n",
       "\\end{tabular}\n"
      ],
      "text/markdown": [
       "\n",
       "A tibble: 6 × 3\n",
       "\n",
       "| Peak_A &lt;chr&gt; | Peak_B &lt;chr&gt; | Count &lt;int&gt; |\n",
       "|---|---|---|\n",
       "| chr10_100338359_100339077 | chr10_100433434_100434444 | 1 |\n",
       "| chr10_100342247_100342824 | chr10_100433434_100434444 | 1 |\n",
       "| chr10_100342247_100342824 | chr10_100508470_100509309 | 1 |\n",
       "| chr10_100342247_100342824 | chr10_100871690_100872646 | 1 |\n",
       "| chr10_100342247_100342824 | chr10_100878006_100879519 | 1 |\n",
       "| chr10_100342247_100342824 | chr10_100879867_100880309 | 1 |\n",
       "\n"
      ],
      "text/plain": [
       "  Peak_A                    Peak_B                    Count\n",
       "1 chr10_100338359_100339077 chr10_100433434_100434444 1    \n",
       "2 chr10_100342247_100342824 chr10_100433434_100434444 1    \n",
       "3 chr10_100342247_100342824 chr10_100508470_100509309 1    \n",
       "4 chr10_100342247_100342824 chr10_100871690_100872646 1    \n",
       "5 chr10_100342247_100342824 chr10_100878006_100879519 1    \n",
       "6 chr10_100342247_100342824 chr10_100879867_100880309 1    "
      ]
     },
     "metadata": {},
     "output_type": "display_data"
    }
   ],
   "source": [
    "dat = dat_hic_loop\n",
    "dat = left_join(dat, dat_loop_A, by = \"Loop_A\", multiple = \"all\")\n",
    "dat = left_join(dat, dat_loop_B, by = \"Loop_B\", multiple = \"all\")\n",
    "dat = dat %>% na.omit %>% distinct\n",
    "\n",
    "dat = dat %>% \n",
    "    dplyr::group_by(Peak_A, Peak_B) %>%\n",
    "    dplyr::summarise(Count = n(), .groups = \"drop\")\n",
    "\n",
    "dat_edge = dat\n",
    "print(dim(dat))\n",
    "head(dat)"
   ]
  },
  {
   "cell_type": "code",
   "execution_count": 45,
   "id": "1ec19e18",
   "metadata": {},
   "outputs": [
    {
     "name": "stdout",
     "output_type": "stream",
     "text": [
      "\n",
      "    1     2 \n",
      "76850     3 \n"
     ]
    }
   ],
   "source": [
    "print(table(dat_edge$Count))"
   ]
  },
  {
   "cell_type": "code",
   "execution_count": 47,
   "id": "7232eeec",
   "metadata": {},
   "outputs": [
    {
     "data": {
      "text/html": [
       "<table class=\"dataframe\">\n",
       "<caption>A tibble: 3 × 3</caption>\n",
       "<thead>\n",
       "\t<tr><th scope=col>Peak_A</th><th scope=col>Peak_B</th><th scope=col>Count</th></tr>\n",
       "\t<tr><th scope=col>&lt;chr&gt;</th><th scope=col>&lt;chr&gt;</th><th scope=col>&lt;int&gt;</th></tr>\n",
       "</thead>\n",
       "<tbody>\n",
       "\t<tr><td>chr6_20291624_20292659  </td><td>chr6_20401082_20404716  </td><td>2</td></tr>\n",
       "\t<tr><td>chr6_20401082_20404716  </td><td>chr6_20527706_20529341  </td><td>2</td></tr>\n",
       "\t<tr><td>chr9_131124532_131126295</td><td>chr9_131273110_131279259</td><td>2</td></tr>\n",
       "</tbody>\n",
       "</table>\n"
      ],
      "text/latex": [
       "A tibble: 3 × 3\n",
       "\\begin{tabular}{lll}\n",
       " Peak\\_A & Peak\\_B & Count\\\\\n",
       " <chr> & <chr> & <int>\\\\\n",
       "\\hline\n",
       "\t chr6\\_20291624\\_20292659   & chr6\\_20401082\\_20404716   & 2\\\\\n",
       "\t chr6\\_20401082\\_20404716   & chr6\\_20527706\\_20529341   & 2\\\\\n",
       "\t chr9\\_131124532\\_131126295 & chr9\\_131273110\\_131279259 & 2\\\\\n",
       "\\end{tabular}\n"
      ],
      "text/markdown": [
       "\n",
       "A tibble: 3 × 3\n",
       "\n",
       "| Peak_A &lt;chr&gt; | Peak_B &lt;chr&gt; | Count &lt;int&gt; |\n",
       "|---|---|---|\n",
       "| chr6_20291624_20292659   | chr6_20401082_20404716   | 2 |\n",
       "| chr6_20401082_20404716   | chr6_20527706_20529341   | 2 |\n",
       "| chr9_131124532_131126295 | chr9_131273110_131279259 | 2 |\n",
       "\n"
      ],
      "text/plain": [
       "  Peak_A                   Peak_B                   Count\n",
       "1 chr6_20291624_20292659   chr6_20401082_20404716   2    \n",
       "2 chr6_20401082_20404716   chr6_20527706_20529341   2    \n",
       "3 chr9_131124532_131126295 chr9_131273110_131279259 2    "
      ]
     },
     "metadata": {},
     "output_type": "display_data"
    }
   ],
   "source": [
    "dat_edge %>% dplyr::filter(Count > 1)"
   ]
  },
  {
   "cell_type": "code",
   "execution_count": 66,
   "id": "00330a68",
   "metadata": {},
   "outputs": [
    {
     "name": "stdout",
     "output_type": "stream",
     "text": [
      "[1] 102193      2\n"
     ]
    },
    {
     "data": {
      "text/html": [
       "<table class=\"dataframe\">\n",
       "<caption>A tibble: 6 × 2</caption>\n",
       "<thead>\n",
       "\t<tr><th scope=col>Peak</th><th scope=col>TAD</th></tr>\n",
       "\t<tr><th scope=col>&lt;chr&gt;</th><th scope=col>&lt;chr&gt;</th></tr>\n",
       "</thead>\n",
       "<tbody>\n",
       "\t<tr><td>chr10_100551537_100552089</td><td>chr10_100540000_100885000</td></tr>\n",
       "\t<tr><td>chr10_100561032_100563457</td><td>chr10_100540000_100885000</td></tr>\n",
       "\t<tr><td>chr10_100569736_100570460</td><td>chr10_100540000_100885000</td></tr>\n",
       "\t<tr><td>chr10_100630761_100631892</td><td>chr10_100540000_100885000</td></tr>\n",
       "\t<tr><td>chr10_100636566_100638239</td><td>chr10_100540000_100885000</td></tr>\n",
       "\t<tr><td>chr10_100654717_100655088</td><td>chr10_100540000_100885000</td></tr>\n",
       "</tbody>\n",
       "</table>\n"
      ],
      "text/latex": [
       "A tibble: 6 × 2\n",
       "\\begin{tabular}{ll}\n",
       " Peak & TAD\\\\\n",
       " <chr> & <chr>\\\\\n",
       "\\hline\n",
       "\t chr10\\_100551537\\_100552089 & chr10\\_100540000\\_100885000\\\\\n",
       "\t chr10\\_100561032\\_100563457 & chr10\\_100540000\\_100885000\\\\\n",
       "\t chr10\\_100569736\\_100570460 & chr10\\_100540000\\_100885000\\\\\n",
       "\t chr10\\_100630761\\_100631892 & chr10\\_100540000\\_100885000\\\\\n",
       "\t chr10\\_100636566\\_100638239 & chr10\\_100540000\\_100885000\\\\\n",
       "\t chr10\\_100654717\\_100655088 & chr10\\_100540000\\_100885000\\\\\n",
       "\\end{tabular}\n"
      ],
      "text/markdown": [
       "\n",
       "A tibble: 6 × 2\n",
       "\n",
       "| Peak &lt;chr&gt; | TAD &lt;chr&gt; |\n",
       "|---|---|\n",
       "| chr10_100551537_100552089 | chr10_100540000_100885000 |\n",
       "| chr10_100561032_100563457 | chr10_100540000_100885000 |\n",
       "| chr10_100569736_100570460 | chr10_100540000_100885000 |\n",
       "| chr10_100630761_100631892 | chr10_100540000_100885000 |\n",
       "| chr10_100636566_100638239 | chr10_100540000_100885000 |\n",
       "| chr10_100654717_100655088 | chr10_100540000_100885000 |\n",
       "\n"
      ],
      "text/plain": [
       "  Peak                      TAD                      \n",
       "1 chr10_100551537_100552089 chr10_100540000_100885000\n",
       "2 chr10_100561032_100563457 chr10_100540000_100885000\n",
       "3 chr10_100569736_100570460 chr10_100540000_100885000\n",
       "4 chr10_100630761_100631892 chr10_100540000_100885000\n",
       "5 chr10_100636566_100638239 chr10_100540000_100885000\n",
       "6 chr10_100654717_100655088 chr10_100540000_100885000"
      ]
     },
     "metadata": {},
     "output_type": "display_data"
    }
   ],
   "source": [
    "dat = dat_peak_annot_tad\n",
    "dat = dat %>% \n",
    "    dplyr::group_by(Peak) %>%\n",
    "    dplyr::summarise(\n",
    "        TAD = paste(TAD, collapse = \",\"),\n",
    "        .groups = \"drop\"\n",
    "    )\n",
    "dat_tad = dat\n",
    "print(dim(dat))\n",
    "head(dat)"
   ]
  },
  {
   "cell_type": "code",
   "execution_count": 75,
   "id": "04aee740",
   "metadata": {},
   "outputs": [
    {
     "name": "stdout",
     "output_type": "stream",
     "text": [
      "[1] 50890     5\n"
     ]
    },
    {
     "data": {
      "text/html": [
       "<table class=\"dataframe\">\n",
       "<caption>A data.frame: 6 × 5</caption>\n",
       "<thead>\n",
       "\t<tr><th></th><th scope=col>Peak</th><th scope=col>Chrom</th><th scope=col>Start</th><th scope=col>End</th><th scope=col>TAD</th></tr>\n",
       "\t<tr><th></th><th scope=col>&lt;chr&gt;</th><th scope=col>&lt;chr&gt;</th><th scope=col>&lt;chr&gt;</th><th scope=col>&lt;chr&gt;</th><th scope=col>&lt;chr&gt;</th></tr>\n",
       "</thead>\n",
       "<tbody>\n",
       "\t<tr><th scope=row>1</th><td>chr1_100036871_100039191</td><td>chr1</td><td>100036871</td><td>100039191</td><td>None</td></tr>\n",
       "\t<tr><th scope=row>2</th><td>chr1_100044617_100044899</td><td>chr1</td><td>100044617</td><td>100044899</td><td>None</td></tr>\n",
       "\t<tr><th scope=row>3</th><td>chr1_100046250_100046578</td><td>chr1</td><td>100046250</td><td>100046578</td><td>None</td></tr>\n",
       "\t<tr><th scope=row>4</th><td>chr1_100048234_100048985</td><td>chr1</td><td>100048234</td><td>100048985</td><td>None</td></tr>\n",
       "\t<tr><th scope=row>5</th><td>chr1_100049562_100050540</td><td>chr1</td><td>100049562</td><td>100050540</td><td>None</td></tr>\n",
       "\t<tr><th scope=row>6</th><td>chr1_100130494_100131245</td><td>chr1</td><td>100130494</td><td>100131245</td><td>None</td></tr>\n",
       "</tbody>\n",
       "</table>\n"
      ],
      "text/latex": [
       "A data.frame: 6 × 5\n",
       "\\begin{tabular}{r|lllll}\n",
       "  & Peak & Chrom & Start & End & TAD\\\\\n",
       "  & <chr> & <chr> & <chr> & <chr> & <chr>\\\\\n",
       "\\hline\n",
       "\t1 & chr1\\_100036871\\_100039191 & chr1 & 100036871 & 100039191 & None\\\\\n",
       "\t2 & chr1\\_100044617\\_100044899 & chr1 & 100044617 & 100044899 & None\\\\\n",
       "\t3 & chr1\\_100046250\\_100046578 & chr1 & 100046250 & 100046578 & None\\\\\n",
       "\t4 & chr1\\_100048234\\_100048985 & chr1 & 100048234 & 100048985 & None\\\\\n",
       "\t5 & chr1\\_100049562\\_100050540 & chr1 & 100049562 & 100050540 & None\\\\\n",
       "\t6 & chr1\\_100130494\\_100131245 & chr1 & 100130494 & 100131245 & None\\\\\n",
       "\\end{tabular}\n"
      ],
      "text/markdown": [
       "\n",
       "A data.frame: 6 × 5\n",
       "\n",
       "| <!--/--> | Peak &lt;chr&gt; | Chrom &lt;chr&gt; | Start &lt;chr&gt; | End &lt;chr&gt; | TAD &lt;chr&gt; |\n",
       "|---|---|---|---|---|---|\n",
       "| 1 | chr1_100036871_100039191 | chr1 | 100036871 | 100039191 | None |\n",
       "| 2 | chr1_100044617_100044899 | chr1 | 100044617 | 100044899 | None |\n",
       "| 3 | chr1_100046250_100046578 | chr1 | 100046250 | 100046578 | None |\n",
       "| 4 | chr1_100048234_100048985 | chr1 | 100048234 | 100048985 | None |\n",
       "| 5 | chr1_100049562_100050540 | chr1 | 100049562 | 100050540 | None |\n",
       "| 6 | chr1_100130494_100131245 | chr1 | 100130494 | 100131245 | None |\n",
       "\n"
      ],
      "text/plain": [
       "  Peak                     Chrom Start     End       TAD \n",
       "1 chr1_100036871_100039191 chr1  100036871 100039191 None\n",
       "2 chr1_100044617_100044899 chr1  100044617 100044899 None\n",
       "3 chr1_100046250_100046578 chr1  100046250 100046578 None\n",
       "4 chr1_100048234_100048985 chr1  100048234 100048985 None\n",
       "5 chr1_100049562_100050540 chr1  100049562 100050540 None\n",
       "6 chr1_100130494_100131245 chr1  100130494 100131245 None"
      ]
     },
     "metadata": {},
     "output_type": "display_data"
    }
   ],
   "source": [
    "vec = unique(c(dat_edge$Peak_A, dat_edge$Peak_B))\n",
    "dat = data.frame(Peak = vec) %>% \n",
    "    tidyr::separate(Peak, c(\"Chrom\", \"Start\", \"End\"), remove = FALSE) %>%\n",
    "    dplyr::left_join(dat_tad, by = \"Peak\") %>%\n",
    "    dplyr::arrange(Chrom, Start, End)\n",
    "dat = dat %>% replace(is.na(.), \"None\")\n",
    "\n",
    "dat_node = dat\n",
    "print(dim(dat))\n",
    "head(dat)"
   ]
  },
  {
   "cell_type": "code",
   "execution_count": 72,
   "id": "41a431b7",
   "metadata": {},
   "outputs": [
    {
     "data": {
      "text/plain": [
       "\n",
       "FALSE  TRUE \n",
       "22217 28673 "
      ]
     },
     "metadata": {},
     "output_type": "display_data"
    }
   ],
   "source": [
    "table(dat$TAD == \"None\")"
   ]
  },
  {
   "cell_type": "code",
   "execution_count": 78,
   "id": "d92fe2f6",
   "metadata": {},
   "outputs": [],
   "source": [
    "fdiry = file.path(FD_RES, \"results\", \"region\", \"KS91_K562_ASTARRseq_peak_macs_input\", \"summary\")\n",
    "fname = \"peak.summary.hic_intact.edge.tsv\"\n",
    "fpath = file.path(fdiry, fname)\n",
    "\n",
    "write_tsv(dat_edge, fpath)"
   ]
  },
  {
   "cell_type": "code",
   "execution_count": 79,
   "id": "ad1a124c",
   "metadata": {},
   "outputs": [],
   "source": [
    "fdiry = file.path(FD_RES, \"results\", \"region\", \"KS91_K562_ASTARRseq_peak_macs_input\", \"summary\")\n",
    "fname = \"peak.summary.hic_intact.node.tsv\"\n",
    "fpath = file.path(fdiry, fname)\n",
    "\n",
    "write_tsv(dat_node, fpath)"
   ]
  },
  {
   "cell_type": "code",
   "execution_count": null,
   "id": "63ed8016",
   "metadata": {},
   "outputs": [],
   "source": [
    "chr11_61814735_61817343\n",
    "chr11_61869566_61871916"
   ]
  }
 ],
 "metadata": {
  "kernelspec": {
   "display_name": "R",
   "language": "R",
   "name": "ir"
  },
  "language_info": {
   "codemirror_mode": "r",
   "file_extension": ".r",
   "mimetype": "text/x-r-source",
   "name": "R",
   "pygments_lexer": "r",
   "version": "4.3.1"
  }
 },
 "nbformat": 4,
 "nbformat_minor": 5
}
