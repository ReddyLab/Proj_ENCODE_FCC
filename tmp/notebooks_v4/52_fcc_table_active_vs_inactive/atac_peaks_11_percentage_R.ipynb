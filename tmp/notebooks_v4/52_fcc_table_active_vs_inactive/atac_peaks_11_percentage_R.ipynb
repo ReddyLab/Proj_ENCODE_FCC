{
 "cells": [
  {
   "cell_type": "markdown",
   "metadata": {},
   "source": [
    "**Set environment**"
   ]
  },
  {
   "cell_type": "code",
   "execution_count": 1,
   "metadata": {},
   "outputs": [
    {
     "name": "stdout",
     "output_type": "stream",
     "text": [
      "You are in Singularity: singularity_proj_encode_fcc \n",
      "BASE DIRECTORY (FD_BASE): /data/reddylab/Kuei \n",
      "WORK DIRECTORY (FD_WORK): /data/reddylab/Kuei/out \n",
      "CODE DIRECTORY (FD_CODE): /data/reddylab/Kuei/code \n",
      "PATH OF PROJECT (FD_PRJ): /data/reddylab/Kuei/code/Proj_CombEffect_ENCODE_FCC \n",
      "PATH OF RESULTS (FD_RES): /data/reddylab/Kuei/out/proj_combeffect_encode_fcc \n",
      "PATH OF LOG     (FD_LOG): /data/reddylab/Kuei/out/proj_combeffect_encode_fcc/log \n"
     ]
    }
   ],
   "source": [
    "suppressWarnings(suppressMessages(source(\"../config/config_sing.R\")))\n",
    "show_env()"
   ]
  },
  {
   "cell_type": "markdown",
   "metadata": {},
   "source": [
    "**Check data files**"
   ]
  },
  {
   "cell_type": "code",
   "execution_count": 2,
   "metadata": {},
   "outputs": [
    {
     "name": "stdout",
     "output_type": "stream",
     "text": [
      "peak.screened.active.tsv \n",
      "peak.screened.inactive.tsv \n",
      "peak.screened.total.tsv \n",
      "peak.summary.ccre_v3.tsv \n",
      "peak.summary.ccre_v4.tsv \n",
      "peak.summary.chipseq_histone.tsv \n",
      "peak.summary.chipseq_tf_subset.tsv \n",
      "peak.summary.chipseq_tf.tsv \n",
      "peak.summary.chromHMM.tsv \n",
      "peak.summary.crispri_growth.dhs.active.tsv \n",
      "peak.summary.crispri_hcrff.casa.tsv \n",
      "peak.summary.encode_e2g_benchmark.tsv \n",
      "peak.summary.encode_e2g_prediction.tsv \n",
      "peak.summary.enhancer_zscore_junke.ASTARR_A.tsv \n",
      "peak.summary.enhancer_zscore_junke.ASTARR_AB.tsv \n",
      "peak.summary.enhancer_zscore_junke.ASTARR_R.tsv \n",
      "peak.summary.enhancer_zscore_junke.ASTARR.tsv \n",
      "peak.summary.enhancer_zscore_junke.LMPRA_A.tsv \n",
      "peak.summary.enhancer_zscore_junke.LMPRA_AB.tsv \n",
      "peak.summary.enhancer_zscore_junke.LMPRA_R.tsv \n",
      "peak.summary.enhancer_zscore_junke.LMPRA.tsv \n",
      "peak.summary.enhancer_zscore_junke.STARRMPRA.tsv \n",
      "peak.summary.enhancer_zscore_junke.TMPRA_A.tsv \n",
      "peak.summary.enhancer_zscore_junke.TMPRA_R.tsv \n",
      "peak.summary.enhancer_zscore_junke.TMPRA.tsv \n",
      "peak.summary.enhancer_zscore_junke.WSTARR_A.tsv \n",
      "peak.summary.enhancer_zscore_junke.WSTARR_AB.tsv \n",
      "peak.summary.enhancer_zscore_junke.WSTARR_R.tsv \n",
      "peak.summary.enhancer_zscore_junke.WSTARR.tsv \n",
      "peak.summary.tss_pol2_rnaseq.tsv \n",
      "peak.summary.tss_pol2.tsv \n"
     ]
    }
   ],
   "source": [
    "fdiry = file.path(FD_RES, \"results\", \"region\", \"KS91_K562_ASTARRseq_peak_macs_input\", \"summary\")\n",
    "for (txt in dir(fdiry)){cat(txt, \"\\n\")}"
   ]
  },
  {
   "cell_type": "markdown",
   "metadata": {},
   "source": [
    "## Import data"
   ]
  },
  {
   "cell_type": "code",
   "execution_count": 3,
   "metadata": {},
   "outputs": [
    {
     "name": "stdout",
     "output_type": "stream",
     "text": [
      "[1] 740280      5\n"
     ]
    },
    {
     "data": {
      "text/html": [
       "<table class=\"dataframe\">\n",
       "<caption>A tibble: 6 × 5</caption>\n",
       "<thead>\n",
       "\t<tr><th scope=col>Chrom</th><th scope=col>Start</th><th scope=col>End</th><th scope=col>Peak</th><th scope=col>Assay_Type</th></tr>\n",
       "\t<tr><th scope=col>&lt;chr&gt;</th><th scope=col>&lt;dbl&gt;</th><th scope=col>&lt;dbl&gt;</th><th scope=col>&lt;chr&gt;</th><th scope=col>&lt;chr&gt;</th></tr>\n",
       "</thead>\n",
       "<tbody>\n",
       "\t<tr><td>chr1</td><td>100006256</td><td>100006880</td><td>chr1:100006256-100006880</td><td>ASTARR</td></tr>\n",
       "\t<tr><td>chr1</td><td>100010437</td><td>100010915</td><td>chr1:100010437-100010915</td><td>ASTARR</td></tr>\n",
       "\t<tr><td>chr1</td><td> 10002087</td><td> 10003910</td><td>chr1:10002087-10003910  </td><td>ASTARR</td></tr>\n",
       "\t<tr><td>chr1</td><td>100021298</td><td>100021629</td><td>chr1:100021298-100021629</td><td>ASTARR</td></tr>\n",
       "\t<tr><td>chr1</td><td>100023727</td><td>100023976</td><td>chr1:100023727-100023976</td><td>ASTARR</td></tr>\n",
       "\t<tr><td>chr1</td><td>100027983</td><td>100029702</td><td>chr1:100027983-100029702</td><td>ASTARR</td></tr>\n",
       "</tbody>\n",
       "</table>\n"
      ],
      "text/latex": [
       "A tibble: 6 × 5\n",
       "\\begin{tabular}{lllll}\n",
       " Chrom & Start & End & Peak & Assay\\_Type\\\\\n",
       " <chr> & <dbl> & <dbl> & <chr> & <chr>\\\\\n",
       "\\hline\n",
       "\t chr1 & 100006256 & 100006880 & chr1:100006256-100006880 & ASTARR\\\\\n",
       "\t chr1 & 100010437 & 100010915 & chr1:100010437-100010915 & ASTARR\\\\\n",
       "\t chr1 &  10002087 &  10003910 & chr1:10002087-10003910   & ASTARR\\\\\n",
       "\t chr1 & 100021298 & 100021629 & chr1:100021298-100021629 & ASTARR\\\\\n",
       "\t chr1 & 100023727 & 100023976 & chr1:100023727-100023976 & ASTARR\\\\\n",
       "\t chr1 & 100027983 & 100029702 & chr1:100027983-100029702 & ASTARR\\\\\n",
       "\\end{tabular}\n"
      ],
      "text/markdown": [
       "\n",
       "A tibble: 6 × 5\n",
       "\n",
       "| Chrom &lt;chr&gt; | Start &lt;dbl&gt; | End &lt;dbl&gt; | Peak &lt;chr&gt; | Assay_Type &lt;chr&gt; |\n",
       "|---|---|---|---|---|\n",
       "| chr1 | 100006256 | 100006880 | chr1:100006256-100006880 | ASTARR |\n",
       "| chr1 | 100010437 | 100010915 | chr1:100010437-100010915 | ASTARR |\n",
       "| chr1 |  10002087 |  10003910 | chr1:10002087-10003910   | ASTARR |\n",
       "| chr1 | 100021298 | 100021629 | chr1:100021298-100021629 | ASTARR |\n",
       "| chr1 | 100023727 | 100023976 | chr1:100023727-100023976 | ASTARR |\n",
       "| chr1 | 100027983 | 100029702 | chr1:100027983-100029702 | ASTARR |\n",
       "\n"
      ],
      "text/plain": [
       "  Chrom Start     End       Peak                     Assay_Type\n",
       "1 chr1  100006256 100006880 chr1:100006256-100006880 ASTARR    \n",
       "2 chr1  100010437 100010915 chr1:100010437-100010915 ASTARR    \n",
       "3 chr1   10002087  10003910 chr1:10002087-10003910   ASTARR    \n",
       "4 chr1  100021298 100021629 chr1:100021298-100021629 ASTARR    \n",
       "5 chr1  100023727 100023976 chr1:100023727-100023976 ASTARR    \n",
       "6 chr1  100027983 100029702 chr1:100027983-100029702 ASTARR    "
      ]
     },
     "metadata": {},
     "output_type": "display_data"
    }
   ],
   "source": [
    "fdiry = file.path(FD_RES, \"results\", \"region\", \"KS91_K562_ASTARRseq_peak_macs_input\", \"summary\")\n",
    "fname = \"peak.screened.total.tsv\"\n",
    "fpath = file.path(fdiry, fname)\n",
    "\n",
    "dat = read_tsv(fpath, show_col_types=FALSE)\n",
    "\n",
    "dat_peak_total = dat\n",
    "print(dim(dat))\n",
    "head(dat)"
   ]
  },
  {
   "cell_type": "code",
   "execution_count": 4,
   "metadata": {},
   "outputs": [
    {
     "name": "stdout",
     "output_type": "stream",
     "text": [
      "[1] 111684      5\n"
     ]
    },
    {
     "data": {
      "text/html": [
       "<table class=\"dataframe\">\n",
       "<caption>A tibble: 6 × 5</caption>\n",
       "<thead>\n",
       "\t<tr><th scope=col>Chrom</th><th scope=col>Start</th><th scope=col>End</th><th scope=col>Peak</th><th scope=col>Assay_Type</th></tr>\n",
       "\t<tr><th scope=col>&lt;chr&gt;</th><th scope=col>&lt;dbl&gt;</th><th scope=col>&lt;dbl&gt;</th><th scope=col>&lt;chr&gt;</th><th scope=col>&lt;chr&gt;</th></tr>\n",
       "</thead>\n",
       "<tbody>\n",
       "\t<tr><td>chr1</td><td>100132370</td><td>100133575</td><td>chr1:100132370-100133575</td><td>ASTARR</td></tr>\n",
       "\t<tr><td>chr1</td><td>100351002</td><td>100353319</td><td>chr1:100351002-100353319</td><td>ASTARR</td></tr>\n",
       "\t<tr><td>chr1</td><td>100785473</td><td>100786391</td><td>chr1:100785473-100786391</td><td>ASTARR</td></tr>\n",
       "\t<tr><td>chr1</td><td>101198203</td><td>101199537</td><td>chr1:101198203-101199537</td><td>ASTARR</td></tr>\n",
       "\t<tr><td>chr1</td><td>  1012902</td><td>  1014502</td><td>chr1:1012902-1014502    </td><td>ASTARR</td></tr>\n",
       "\t<tr><td>chr1</td><td> 10414831</td><td> 10415758</td><td>chr1:10414831-10415758  </td><td>ASTARR</td></tr>\n",
       "</tbody>\n",
       "</table>\n"
      ],
      "text/latex": [
       "A tibble: 6 × 5\n",
       "\\begin{tabular}{lllll}\n",
       " Chrom & Start & End & Peak & Assay\\_Type\\\\\n",
       " <chr> & <dbl> & <dbl> & <chr> & <chr>\\\\\n",
       "\\hline\n",
       "\t chr1 & 100132370 & 100133575 & chr1:100132370-100133575 & ASTARR\\\\\n",
       "\t chr1 & 100351002 & 100353319 & chr1:100351002-100353319 & ASTARR\\\\\n",
       "\t chr1 & 100785473 & 100786391 & chr1:100785473-100786391 & ASTARR\\\\\n",
       "\t chr1 & 101198203 & 101199537 & chr1:101198203-101199537 & ASTARR\\\\\n",
       "\t chr1 &   1012902 &   1014502 & chr1:1012902-1014502     & ASTARR\\\\\n",
       "\t chr1 &  10414831 &  10415758 & chr1:10414831-10415758   & ASTARR\\\\\n",
       "\\end{tabular}\n"
      ],
      "text/markdown": [
       "\n",
       "A tibble: 6 × 5\n",
       "\n",
       "| Chrom &lt;chr&gt; | Start &lt;dbl&gt; | End &lt;dbl&gt; | Peak &lt;chr&gt; | Assay_Type &lt;chr&gt; |\n",
       "|---|---|---|---|---|\n",
       "| chr1 | 100132370 | 100133575 | chr1:100132370-100133575 | ASTARR |\n",
       "| chr1 | 100351002 | 100353319 | chr1:100351002-100353319 | ASTARR |\n",
       "| chr1 | 100785473 | 100786391 | chr1:100785473-100786391 | ASTARR |\n",
       "| chr1 | 101198203 | 101199537 | chr1:101198203-101199537 | ASTARR |\n",
       "| chr1 |   1012902 |   1014502 | chr1:1012902-1014502     | ASTARR |\n",
       "| chr1 |  10414831 |  10415758 | chr1:10414831-10415758   | ASTARR |\n",
       "\n"
      ],
      "text/plain": [
       "  Chrom Start     End       Peak                     Assay_Type\n",
       "1 chr1  100132370 100133575 chr1:100132370-100133575 ASTARR    \n",
       "2 chr1  100351002 100353319 chr1:100351002-100353319 ASTARR    \n",
       "3 chr1  100785473 100786391 chr1:100785473-100786391 ASTARR    \n",
       "4 chr1  101198203 101199537 chr1:101198203-101199537 ASTARR    \n",
       "5 chr1    1012902   1014502 chr1:1012902-1014502     ASTARR    \n",
       "6 chr1   10414831  10415758 chr1:10414831-10415758   ASTARR    "
      ]
     },
     "metadata": {},
     "output_type": "display_data"
    }
   ],
   "source": [
    "fdiry = file.path(FD_RES, \"results\", \"region\", \"KS91_K562_ASTARRseq_peak_macs_input\", \"summary\")\n",
    "fname = \"peak.screened.active.tsv\"\n",
    "fpath = file.path(fdiry, fname)\n",
    "\n",
    "dat = read_tsv(fpath, show_col_types=FALSE)\n",
    "\n",
    "dat_peak_active = dat\n",
    "print(dim(dat))\n",
    "head(dat)"
   ]
  },
  {
   "cell_type": "code",
   "execution_count": 5,
   "metadata": {},
   "outputs": [
    {
     "name": "stdout",
     "output_type": "stream",
     "text": [
      "[1] 293262      5\n"
     ]
    },
    {
     "data": {
      "text/html": [
       "<table class=\"dataframe\">\n",
       "<caption>A tibble: 6 × 5</caption>\n",
       "<thead>\n",
       "\t<tr><th scope=col>Chrom</th><th scope=col>Start</th><th scope=col>End</th><th scope=col>Peak</th><th scope=col>Assay_Type</th></tr>\n",
       "\t<tr><th scope=col>&lt;chr&gt;</th><th scope=col>&lt;dbl&gt;</th><th scope=col>&lt;dbl&gt;</th><th scope=col>&lt;chr&gt;</th><th scope=col>&lt;chr&gt;</th></tr>\n",
       "</thead>\n",
       "<tbody>\n",
       "\t<tr><td>chr1</td><td> 938228</td><td> 938505</td><td>chr1:938228-938505  </td><td>ASTARR</td></tr>\n",
       "\t<tr><td>chr1</td><td> 965936</td><td> 967556</td><td>chr1:965936-967556  </td><td>ASTARR</td></tr>\n",
       "\t<tr><td>chr1</td><td>1005089</td><td>1005593</td><td>chr1:1005089-1005593</td><td>ASTARR</td></tr>\n",
       "\t<tr><td>chr1</td><td>1024158</td><td>1024602</td><td>chr1:1024158-1024602</td><td>ASTARR</td></tr>\n",
       "\t<tr><td>chr1</td><td>1062264</td><td>1062778</td><td>chr1:1062264-1062778</td><td>ASTARR</td></tr>\n",
       "\t<tr><td>chr1</td><td>1067955</td><td>1068196</td><td>chr1:1067955-1068196</td><td>ASTARR</td></tr>\n",
       "</tbody>\n",
       "</table>\n"
      ],
      "text/latex": [
       "A tibble: 6 × 5\n",
       "\\begin{tabular}{lllll}\n",
       " Chrom & Start & End & Peak & Assay\\_Type\\\\\n",
       " <chr> & <dbl> & <dbl> & <chr> & <chr>\\\\\n",
       "\\hline\n",
       "\t chr1 &  938228 &  938505 & chr1:938228-938505   & ASTARR\\\\\n",
       "\t chr1 &  965936 &  967556 & chr1:965936-967556   & ASTARR\\\\\n",
       "\t chr1 & 1005089 & 1005593 & chr1:1005089-1005593 & ASTARR\\\\\n",
       "\t chr1 & 1024158 & 1024602 & chr1:1024158-1024602 & ASTARR\\\\\n",
       "\t chr1 & 1062264 & 1062778 & chr1:1062264-1062778 & ASTARR\\\\\n",
       "\t chr1 & 1067955 & 1068196 & chr1:1067955-1068196 & ASTARR\\\\\n",
       "\\end{tabular}\n"
      ],
      "text/markdown": [
       "\n",
       "A tibble: 6 × 5\n",
       "\n",
       "| Chrom &lt;chr&gt; | Start &lt;dbl&gt; | End &lt;dbl&gt; | Peak &lt;chr&gt; | Assay_Type &lt;chr&gt; |\n",
       "|---|---|---|---|---|\n",
       "| chr1 |  938228 |  938505 | chr1:938228-938505   | ASTARR |\n",
       "| chr1 |  965936 |  967556 | chr1:965936-967556   | ASTARR |\n",
       "| chr1 | 1005089 | 1005593 | chr1:1005089-1005593 | ASTARR |\n",
       "| chr1 | 1024158 | 1024602 | chr1:1024158-1024602 | ASTARR |\n",
       "| chr1 | 1062264 | 1062778 | chr1:1062264-1062778 | ASTARR |\n",
       "| chr1 | 1067955 | 1068196 | chr1:1067955-1068196 | ASTARR |\n",
       "\n"
      ],
      "text/plain": [
       "  Chrom Start   End     Peak                 Assay_Type\n",
       "1 chr1   938228  938505 chr1:938228-938505   ASTARR    \n",
       "2 chr1   965936  967556 chr1:965936-967556   ASTARR    \n",
       "3 chr1  1005089 1005593 chr1:1005089-1005593 ASTARR    \n",
       "4 chr1  1024158 1024602 chr1:1024158-1024602 ASTARR    \n",
       "5 chr1  1062264 1062778 chr1:1062264-1062778 ASTARR    \n",
       "6 chr1  1067955 1068196 chr1:1067955-1068196 ASTARR    "
      ]
     },
     "metadata": {},
     "output_type": "display_data"
    }
   ],
   "source": [
    "fdiry = file.path(FD_RES, \"results\", \"region\", \"KS91_K562_ASTARRseq_peak_macs_input\", \"summary\")\n",
    "fname = \"peak.screened.inactive.tsv\"\n",
    "fpath = file.path(fdiry, fname)\n",
    "\n",
    "dat = read_tsv(fpath, show_col_types=FALSE)\n",
    "\n",
    "dat_peak_inactive = dat\n",
    "print(dim(dat))\n",
    "head(dat)"
   ]
  },
  {
   "cell_type": "markdown",
   "metadata": {},
   "source": [
    "## Summarize"
   ]
  },
  {
   "cell_type": "code",
   "execution_count": 9,
   "metadata": {},
   "outputs": [],
   "source": [
    "dat = dat_peak_total\n",
    "lst = split(dat$Peak, dat$Assay_Type)\n",
    "lst_txt_peak_total = lst\n",
    "\n",
    "dat = dat_peak_active\n",
    "lst = split(dat$Peak, dat$Assay_Type)\n",
    "lst_txt_peak_active = lst\n",
    "\n",
    "dat = dat_peak_inactive\n",
    "lst = split(dat$Peak, dat$Assay_Type)\n",
    "lst_txt_peak_inactive = lst"
   ]
  },
  {
   "cell_type": "markdown",
   "metadata": {},
   "source": [
    "**Check**"
   ]
  },
  {
   "cell_type": "code",
   "execution_count": 13,
   "metadata": {},
   "outputs": [
    {
     "name": "stdout",
     "output_type": "stream",
     "text": [
      "[1] \"ASTARR\"                \"CRISPRi-Growth\"        \"CRISPRi-HCRFF\"        \n",
      "[4] \"ENCODE-E2G_Benchmark\"  \"ENCODE-E2G_Prediction\" \"LMPRA\"                \n",
      "[7] \"TMPRA\"                 \"WSTARR\"               \n",
      "ASTARR \n",
      "Active:   TRUE \n",
      "Inactive: TRUE \n",
      "\n",
      "CRISPRi-Growth \n",
      "Active:   FALSE \n",
      "Inactive: TRUE \n",
      "\n",
      "CRISPRi-HCRFF \n",
      "Active:   TRUE \n",
      "Inactive: TRUE \n",
      "\n",
      "ENCODE-E2G_Benchmark \n",
      "Active:   TRUE \n",
      "Inactive: TRUE \n",
      "\n",
      "ENCODE-E2G_Prediction \n",
      "Active:   TRUE \n",
      "Inactive: TRUE \n",
      "\n",
      "LMPRA \n",
      "Active:   FALSE \n",
      "Inactive: TRUE \n",
      "\n",
      "TMPRA \n",
      "Active:   FALSE \n",
      "Inactive: FALSE \n",
      "\n",
      "WSTARR \n",
      "Active:   TRUE \n",
      "Inactive: TRUE \n",
      "\n"
     ]
    }
   ],
   "source": [
    "vec_txt_assay = names(lst_txt_peak_total)\n",
    "print(vec_txt_assay)\n",
    "\n",
    "for (txt_assay in vec_txt_assay) {\n",
    "    vec_txt_peak_total    = lst_txt_peak_total[[txt_assay]]\n",
    "    vec_txt_peak_active   = lst_txt_peak_active[[txt_assay]]\n",
    "    vec_txt_peak_inactive = lst_txt_peak_inactive[[txt_assay]]\n",
    "    \n",
    "    cat(txt_assay, \"\\n\")\n",
    "    res = vec_txt_peak_active %in% vec_txt_peak_total\n",
    "    cat(\"Active:  \", all(res), \"\\n\")\n",
    "    res = vec_txt_peak_inactive %in% vec_txt_peak_total\n",
    "    cat(\"Inactive:\", all(res), \"\\n\")\n",
    "    cat(\"\\n\")\n",
    "}"
   ]
  },
  {
   "cell_type": "markdown",
   "metadata": {},
   "source": [
    "## Analysis"
   ]
  },
  {
   "cell_type": "code",
   "execution_count": 27,
   "metadata": {},
   "outputs": [
    {
     "data": {
      "text/html": [
       "<table class=\"dataframe\">\n",
       "<caption>A tibble: 8 × 6</caption>\n",
       "<thead>\n",
       "\t<tr><th scope=col>Assay</th><th scope=col>Count_Active</th><th scope=col>Count_Total</th><th scope=col>Freq_Active</th><th scope=col>Count_Label</th><th scope=col>Assay_Label</th></tr>\n",
       "\t<tr><th scope=col>&lt;chr&gt;</th><th scope=col>&lt;int&gt;</th><th scope=col>&lt;int&gt;</th><th scope=col>&lt;dbl&gt;</th><th scope=col>&lt;chr&gt;</th><th scope=col>&lt;chr&gt;</th></tr>\n",
       "</thead>\n",
       "<tbody>\n",
       "\t<tr><td>ASTARR               </td><td> 7427</td><td>246850</td><td>0.03008710</td><td>247K</td><td>ASTARR (247K)              </td></tr>\n",
       "\t<tr><td>CRISPRi-Growth       </td><td> 4602</td><td> 80288</td><td>0.05731865</td><td>80K </td><td>CRISPRi-Growth (80K)       </td></tr>\n",
       "\t<tr><td>CRISPRi-HCRFF        </td><td>   54</td><td>  1330</td><td>0.04060150</td><td>1K  </td><td>CRISPRi-HCRFF (1K)         </td></tr>\n",
       "\t<tr><td>ENCODE-E2G_Benchmark </td><td>  385</td><td>  3195</td><td>0.12050078</td><td>3K  </td><td>ENCODE-E2G_Benchmark (3K)  </td></tr>\n",
       "\t<tr><td>ENCODE-E2G_Prediction</td><td>40892</td><td> 91787</td><td>0.44550971</td><td>92K </td><td>ENCODE-E2G_Prediction (92K)</td></tr>\n",
       "\t<tr><td>LMPRA                </td><td>31760</td><td> 68420</td><td>0.46419176</td><td>68K </td><td>LMPRA (68K)                </td></tr>\n",
       "\t<tr><td>TMPRA                </td><td> 1053</td><td>  1722</td><td>0.61149826</td><td>2K  </td><td>TMPRA (2K)                 </td></tr>\n",
       "\t<tr><td>WSTARR               </td><td>30478</td><td>246688</td><td>0.12354877</td><td>247K</td><td>WSTARR (247K)              </td></tr>\n",
       "</tbody>\n",
       "</table>\n"
      ],
      "text/latex": [
       "A tibble: 8 × 6\n",
       "\\begin{tabular}{llllll}\n",
       " Assay & Count\\_Active & Count\\_Total & Freq\\_Active & Count\\_Label & Assay\\_Label\\\\\n",
       " <chr> & <int> & <int> & <dbl> & <chr> & <chr>\\\\\n",
       "\\hline\n",
       "\t ASTARR                &  7427 & 246850 & 0.03008710 & 247K & ASTARR (247K)              \\\\\n",
       "\t CRISPRi-Growth        &  4602 &  80288 & 0.05731865 & 80K  & CRISPRi-Growth (80K)       \\\\\n",
       "\t CRISPRi-HCRFF         &    54 &   1330 & 0.04060150 & 1K   & CRISPRi-HCRFF (1K)         \\\\\n",
       "\t ENCODE-E2G\\_Benchmark  &   385 &   3195 & 0.12050078 & 3K   & ENCODE-E2G\\_Benchmark (3K)  \\\\\n",
       "\t ENCODE-E2G\\_Prediction & 40892 &  91787 & 0.44550971 & 92K  & ENCODE-E2G\\_Prediction (92K)\\\\\n",
       "\t LMPRA                 & 31760 &  68420 & 0.46419176 & 68K  & LMPRA (68K)                \\\\\n",
       "\t TMPRA                 &  1053 &   1722 & 0.61149826 & 2K   & TMPRA (2K)                 \\\\\n",
       "\t WSTARR                & 30478 & 246688 & 0.12354877 & 247K & WSTARR (247K)              \\\\\n",
       "\\end{tabular}\n"
      ],
      "text/markdown": [
       "\n",
       "A tibble: 8 × 6\n",
       "\n",
       "| Assay &lt;chr&gt; | Count_Active &lt;int&gt; | Count_Total &lt;int&gt; | Freq_Active &lt;dbl&gt; | Count_Label &lt;chr&gt; | Assay_Label &lt;chr&gt; |\n",
       "|---|---|---|---|---|---|\n",
       "| ASTARR                |  7427 | 246850 | 0.03008710 | 247K | ASTARR (247K)               |\n",
       "| CRISPRi-Growth        |  4602 |  80288 | 0.05731865 | 80K  | CRISPRi-Growth (80K)        |\n",
       "| CRISPRi-HCRFF         |    54 |   1330 | 0.04060150 | 1K   | CRISPRi-HCRFF (1K)          |\n",
       "| ENCODE-E2G_Benchmark  |   385 |   3195 | 0.12050078 | 3K   | ENCODE-E2G_Benchmark (3K)   |\n",
       "| ENCODE-E2G_Prediction | 40892 |  91787 | 0.44550971 | 92K  | ENCODE-E2G_Prediction (92K) |\n",
       "| LMPRA                 | 31760 |  68420 | 0.46419176 | 68K  | LMPRA (68K)                 |\n",
       "| TMPRA                 |  1053 |   1722 | 0.61149826 | 2K   | TMPRA (2K)                  |\n",
       "| WSTARR                | 30478 | 246688 | 0.12354877 | 247K | WSTARR (247K)               |\n",
       "\n"
      ],
      "text/plain": [
       "  Assay                 Count_Active Count_Total Freq_Active Count_Label\n",
       "1 ASTARR                 7427        246850      0.03008710  247K       \n",
       "2 CRISPRi-Growth         4602         80288      0.05731865  80K        \n",
       "3 CRISPRi-HCRFF            54          1330      0.04060150  1K         \n",
       "4 ENCODE-E2G_Benchmark    385          3195      0.12050078  3K         \n",
       "5 ENCODE-E2G_Prediction 40892         91787      0.44550971  92K        \n",
       "6 LMPRA                 31760         68420      0.46419176  68K        \n",
       "7 TMPRA                  1053          1722      0.61149826  2K         \n",
       "8 WSTARR                30478        246688      0.12354877  247K       \n",
       "  Assay_Label                \n",
       "1 ASTARR (247K)              \n",
       "2 CRISPRi-Growth (80K)       \n",
       "3 CRISPRi-HCRFF (1K)         \n",
       "4 ENCODE-E2G_Benchmark (3K)  \n",
       "5 ENCODE-E2G_Prediction (92K)\n",
       "6 LMPRA (68K)                \n",
       "7 TMPRA (2K)                 \n",
       "8 WSTARR (247K)              "
      ]
     },
     "metadata": {},
     "output_type": "display_data"
    }
   ],
   "source": [
    "vec_txt_assay = names(lst_txt_peak_total)\n",
    "\n",
    "lst = lapply(vec_txt_assay, function(txt_assay){\n",
    "    vec_txt_peak_total    = lst_txt_peak_total[[txt_assay]]\n",
    "    vec_txt_peak_active   = lst_txt_peak_active[[txt_assay]]\n",
    "    vec_txt_peak_inactive = lst_txt_peak_inactive[[txt_assay]]\n",
    "    \n",
    "    vec = vec_txt_peak_total %in% vec_txt_peak_active\n",
    "    res = c(txt_assay, sum(vec), length(vec), mean(vec))\n",
    "    names(res) = c(\"Assay\", \"Count_Active\", \"Count_Total\", \"Freq_Active\")\n",
    "    return(res)\n",
    "})\n",
    "    \n",
    "dat = bind_rows(lst)\n",
    "dat = dat %>% \n",
    "    dplyr::mutate(\n",
    "        Count_Active = as.integer(Count_Active),\n",
    "        Count_Total  = as.integer(Count_Total),\n",
    "        Freq_Active  = as.double(Freq_Active)\n",
    "    ) %>%\n",
    "    dplyr::mutate(\n",
    "        Count_Label = ifelse(\n",
    "            Count_Total > 1000, \n",
    "            paste0(round(Count_Total / 1000), \"K\"),\n",
    "            Count_Total\n",
    "        )\n",
    "    ) %>%\n",
    "    dplyr::mutate(\n",
    "        Assay_Label = paste0(Assay, \" (\", Count_Label, \")\")\n",
    "    )\n",
    "\n",
    "dat_peak_isActive = dat\n",
    "dat"
   ]
  },
  {
   "cell_type": "code",
   "execution_count": 29,
   "metadata": {},
   "outputs": [
    {
     "data": {
      "image/png": "[encoded data removed]",
      "text/plain": [
       "plot without title"
      ]
     },
     "metadata": {
      "image/png": {
       "height": 360,
       "width": 600
      }
     },
     "output_type": "display_data"
    }
   ],
   "source": [
    "dat = dat_peak_isActive\n",
    "dat = dat %>% \n",
    "    dplyr::arrange(Freq_Active) %>%\n",
    "    dplyr::mutate(Assay_Label = factor(Assay_Label, levels=Assay_Label))\n",
    "\n",
    "gpt = ggplot(dat, aes(x=Freq_Active, y=Assay_Label)) + \n",
    "    geom_col() + \n",
    "    labs(x=\"Frequency of Active peaks\", y=\"Assays\") +\n",
    "    theme_cowplot()\n",
    "\n",
    "options(repr.plot.height=6, repr.plot.width=10)\n",
    "print(gpt)"
   ]
  },
  {
   "cell_type": "code",
   "execution_count": null,
   "metadata": {},
   "outputs": [],
   "source": []
  }
 ],
 "metadata": {
  "kernelspec": {
   "display_name": "R",
   "language": "R",
   "name": "ir"
  },
  "language_info": {
   "codemirror_mode": "r",
   "file_extension": ".r",
   "mimetype": "text/x-r-source",
   "name": "R",
   "pygments_lexer": "r",
   "version": "4.3.1"
  }
 },
 "nbformat": 4,
 "nbformat_minor": 4
}
