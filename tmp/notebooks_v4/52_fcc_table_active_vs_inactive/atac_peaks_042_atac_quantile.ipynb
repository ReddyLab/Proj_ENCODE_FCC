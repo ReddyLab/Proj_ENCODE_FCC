{
 "cells": [
  {
   "cell_type": "markdown",
   "metadata": {},
   "source": [
    "**Set environment**"
   ]
  },
  {
   "cell_type": "code",
   "execution_count": 1,
   "metadata": {},
   "outputs": [
    {
     "name": "stdout",
     "output_type": "stream",
     "text": [
      "You are in Singularity: singularity_proj_encode_fcc \n",
      "BASE DIRECTORY (FD_BASE): /data/reddylab/Kuei \n",
      "WORK DIRECTORY (FD_WORK): /data/reddylab/Kuei/out \n",
      "CODE DIRECTORY (FD_CODE): /data/reddylab/Kuei/code \n",
      "PATH OF PROJECT (FD_PRJ): /data/reddylab/Kuei/code/Proj_CombEffect_ENCODE_FCC \n",
      "PATH OF RESULTS (FD_RES): /data/reddylab/Kuei/out/proj_combeffect_encode_fcc \n",
      "PATH OF LOG     (FD_LOG): /data/reddylab/Kuei/out/proj_combeffect_encode_fcc/log \n"
     ]
    }
   ],
   "source": [
    "suppressMessages(suppressWarnings(source(\"../config/config_sing.R\")))\n",
    "show_env()"
   ]
  },
  {
   "cell_type": "markdown",
   "metadata": {},
   "source": [
    "## Import data (All ATAC peaks)"
   ]
  },
  {
   "cell_type": "code",
   "execution_count": 2,
   "metadata": {},
   "outputs": [
    {
     "name": "stdout",
     "output_type": "stream",
     "text": [
      "[1] 247520      3\n"
     ]
    },
    {
     "data": {
      "text/html": [
       "<table class=\"dataframe\">\n",
       "<caption>A tibble: 6 × 3</caption>\n",
       "<thead>\n",
       "\t<tr><th scope=col>Chrom</th><th scope=col>Start</th><th scope=col>End</th></tr>\n",
       "\t<tr><th scope=col>&lt;chr&gt;</th><th scope=col>&lt;dbl&gt;</th><th scope=col>&lt;dbl&gt;</th></tr>\n",
       "</thead>\n",
       "<tbody>\n",
       "\t<tr><td>chr1</td><td>10015</td><td>10442</td></tr>\n",
       "\t<tr><td>chr1</td><td>14253</td><td>14645</td></tr>\n",
       "\t<tr><td>chr1</td><td>16015</td><td>16477</td></tr>\n",
       "\t<tr><td>chr1</td><td>17237</td><td>17772</td></tr>\n",
       "\t<tr><td>chr1</td><td>28903</td><td>29613</td></tr>\n",
       "\t<tr><td>chr1</td><td>30803</td><td>31072</td></tr>\n",
       "</tbody>\n",
       "</table>\n"
      ],
      "text/latex": [
       "A tibble: 6 × 3\n",
       "\\begin{tabular}{lll}\n",
       " Chrom & Start & End\\\\\n",
       " <chr> & <dbl> & <dbl>\\\\\n",
       "\\hline\n",
       "\t chr1 & 10015 & 10442\\\\\n",
       "\t chr1 & 14253 & 14645\\\\\n",
       "\t chr1 & 16015 & 16477\\\\\n",
       "\t chr1 & 17237 & 17772\\\\\n",
       "\t chr1 & 28903 & 29613\\\\\n",
       "\t chr1 & 30803 & 31072\\\\\n",
       "\\end{tabular}\n"
      ],
      "text/markdown": [
       "\n",
       "A tibble: 6 × 3\n",
       "\n",
       "| Chrom &lt;chr&gt; | Start &lt;dbl&gt; | End &lt;dbl&gt; |\n",
       "|---|---|---|\n",
       "| chr1 | 10015 | 10442 |\n",
       "| chr1 | 14253 | 14645 |\n",
       "| chr1 | 16015 | 16477 |\n",
       "| chr1 | 17237 | 17772 |\n",
       "| chr1 | 28903 | 29613 |\n",
       "| chr1 | 30803 | 31072 |\n",
       "\n"
      ],
      "text/plain": [
       "  Chrom Start End  \n",
       "1 chr1  10015 10442\n",
       "2 chr1  14253 14645\n",
       "3 chr1  16015 16477\n",
       "4 chr1  17237 17772\n",
       "5 chr1  28903 29613\n",
       "6 chr1  30803 31072"
      ]
     },
     "metadata": {},
     "output_type": "display_data"
    }
   ],
   "source": [
    "fdiry = file.path(FD_RES, \"results\", \"region\", \"KS91_K562_ASTARRseq_peak_macs_input\")\n",
    "fname = \"KS91_K562_hg38_ASTARRseq_Input.all_reps.masked.union_narrowPeak.q5.bed.gz\"\n",
    "fpath = file.path(fdiry, fname)\n",
    "\n",
    "cnames = c(\"Chrom\", \"Start\", \"End\")\n",
    "dat = read_tsv(fpath, col_names = cnames, show_col_types = FALSE)\n",
    "\n",
    "dat_peak_atac_total = dat\n",
    "print(dim(dat))\n",
    "head(dat)"
   ]
  },
  {
   "cell_type": "markdown",
   "metadata": {},
   "source": [
    "## Import data (FPKM)"
   ]
  },
  {
   "cell_type": "code",
   "execution_count": 3,
   "metadata": {},
   "outputs": [
    {
     "name": "stdout",
     "output_type": "stream",
     "text": [
      "[1] 246852     15\n"
     ]
    },
    {
     "data": {
      "text/html": [
       "<table class=\"dataframe\">\n",
       "<caption>A tibble: 6 × 15</caption>\n",
       "<thead>\n",
       "\t<tr><th scope=col>Chrom</th><th scope=col>Start</th><th scope=col>End</th><th scope=col>Peak</th><th scope=col>Length</th><th scope=col>Input</th><th scope=col>Output</th><th scope=col>Log2FC</th><th scope=col>pLog2FC</th><th scope=col>Input_Residual</th><th scope=col>Input_Score</th><th scope=col>Output_Residual</th><th scope=col>Output_Score</th><th scope=col>Input_FPKM</th><th scope=col>Output_FPKM</th></tr>\n",
       "\t<tr><th scope=col>&lt;chr&gt;</th><th scope=col>&lt;dbl&gt;</th><th scope=col>&lt;dbl&gt;</th><th scope=col>&lt;chr&gt;</th><th scope=col>&lt;dbl&gt;</th><th scope=col>&lt;dbl&gt;</th><th scope=col>&lt;dbl&gt;</th><th scope=col>&lt;dbl&gt;</th><th scope=col>&lt;dbl&gt;</th><th scope=col>&lt;dbl&gt;</th><th scope=col>&lt;dbl&gt;</th><th scope=col>&lt;dbl&gt;</th><th scope=col>&lt;dbl&gt;</th><th scope=col>&lt;dbl&gt;</th><th scope=col>&lt;dbl&gt;</th></tr>\n",
       "</thead>\n",
       "<tbody>\n",
       "\t<tr><td>chr1</td><td>10015</td><td>10442</td><td>chr1:10015-10442</td><td>427</td><td>0.4863317</td><td>0.09736537</td><td>-2.3204599</td><td>-0.43771215</td><td> 0.25149985</td><td>0.1362392</td><td>-0.1433799</td><td>0.07463616</td><td>1.1389501</td><td>0.2280219</td></tr>\n",
       "\t<tr><td>chr1</td><td>14253</td><td>14645</td><td>chr1:14253-14645</td><td>392</td><td>0.3152472</td><td>0.27902967</td><td>-0.1760648</td><td>-0.04028420</td><td> 0.19879784</td><td>0.1357280</td><td> 0.1693269</td><td>0.07589325</td><td>0.8042019</td><td>0.7118104</td></tr>\n",
       "\t<tr><td>chr1</td><td>16015</td><td>16477</td><td>chr1:16015-16477</td><td>462</td><td>0.4361424</td><td>0.15900628</td><td>-1.4557156</td><td>-0.30931046</td><td> 0.08292808</td><td>0.1346040</td><td>-0.2127815</td><td>0.07435717</td><td>0.9440313</td><td>0.3441694</td></tr>\n",
       "\t<tr><td>chr1</td><td>17237</td><td>17772</td><td>chr1:17237-17772</td><td>535</td><td>0.8007562</td><td>0.22194085</td><td>-1.8511878</td><td>-0.55942840</td><td> 0.20062968</td><td>0.1357457</td><td>-0.4231641</td><td>0.07351143</td><td>1.4967405</td><td>0.4148427</td></tr>\n",
       "\t<tr><td>chr1</td><td>28903</td><td>29613</td><td>chr1:28903-29613</td><td>710</td><td>0.7629703</td><td>0.16679463</td><td>-2.1935541</td><td>-0.59545755</td><td>-0.42906879</td><td>0.1296375</td><td>-1.1335228</td><td>0.07065579</td><td>1.0746061</td><td>0.2349220</td></tr>\n",
       "\t<tr><td>chr1</td><td>30803</td><td>31072</td><td>chr1:30803-31072</td><td>269</td><td>0.2774187</td><td>0.21678565</td><td>-0.3557958</td><td>-0.07015643</td><td> 0.57699942</td><td>0.1393966</td><td> 0.5676036</td><td>0.07749432</td><td>1.0312963</td><td>0.8058946</td></tr>\n",
       "</tbody>\n",
       "</table>\n"
      ],
      "text/latex": [
       "A tibble: 6 × 15\n",
       "\\begin{tabular}{lllllllllllllll}\n",
       " Chrom & Start & End & Peak & Length & Input & Output & Log2FC & pLog2FC & Input\\_Residual & Input\\_Score & Output\\_Residual & Output\\_Score & Input\\_FPKM & Output\\_FPKM\\\\\n",
       " <chr> & <dbl> & <dbl> & <chr> & <dbl> & <dbl> & <dbl> & <dbl> & <dbl> & <dbl> & <dbl> & <dbl> & <dbl> & <dbl> & <dbl>\\\\\n",
       "\\hline\n",
       "\t chr1 & 10015 & 10442 & chr1:10015-10442 & 427 & 0.4863317 & 0.09736537 & -2.3204599 & -0.43771215 &  0.25149985 & 0.1362392 & -0.1433799 & 0.07463616 & 1.1389501 & 0.2280219\\\\\n",
       "\t chr1 & 14253 & 14645 & chr1:14253-14645 & 392 & 0.3152472 & 0.27902967 & -0.1760648 & -0.04028420 &  0.19879784 & 0.1357280 &  0.1693269 & 0.07589325 & 0.8042019 & 0.7118104\\\\\n",
       "\t chr1 & 16015 & 16477 & chr1:16015-16477 & 462 & 0.4361424 & 0.15900628 & -1.4557156 & -0.30931046 &  0.08292808 & 0.1346040 & -0.2127815 & 0.07435717 & 0.9440313 & 0.3441694\\\\\n",
       "\t chr1 & 17237 & 17772 & chr1:17237-17772 & 535 & 0.8007562 & 0.22194085 & -1.8511878 & -0.55942840 &  0.20062968 & 0.1357457 & -0.4231641 & 0.07351143 & 1.4967405 & 0.4148427\\\\\n",
       "\t chr1 & 28903 & 29613 & chr1:28903-29613 & 710 & 0.7629703 & 0.16679463 & -2.1935541 & -0.59545755 & -0.42906879 & 0.1296375 & -1.1335228 & 0.07065579 & 1.0746061 & 0.2349220\\\\\n",
       "\t chr1 & 30803 & 31072 & chr1:30803-31072 & 269 & 0.2774187 & 0.21678565 & -0.3557958 & -0.07015643 &  0.57699942 & 0.1393966 &  0.5676036 & 0.07749432 & 1.0312963 & 0.8058946\\\\\n",
       "\\end{tabular}\n"
      ],
      "text/markdown": [
       "\n",
       "A tibble: 6 × 15\n",
       "\n",
       "| Chrom &lt;chr&gt; | Start &lt;dbl&gt; | End &lt;dbl&gt; | Peak &lt;chr&gt; | Length &lt;dbl&gt; | Input &lt;dbl&gt; | Output &lt;dbl&gt; | Log2FC &lt;dbl&gt; | pLog2FC &lt;dbl&gt; | Input_Residual &lt;dbl&gt; | Input_Score &lt;dbl&gt; | Output_Residual &lt;dbl&gt; | Output_Score &lt;dbl&gt; | Input_FPKM &lt;dbl&gt; | Output_FPKM &lt;dbl&gt; |\n",
       "|---|---|---|---|---|---|---|---|---|---|---|---|---|---|---|\n",
       "| chr1 | 10015 | 10442 | chr1:10015-10442 | 427 | 0.4863317 | 0.09736537 | -2.3204599 | -0.43771215 |  0.25149985 | 0.1362392 | -0.1433799 | 0.07463616 | 1.1389501 | 0.2280219 |\n",
       "| chr1 | 14253 | 14645 | chr1:14253-14645 | 392 | 0.3152472 | 0.27902967 | -0.1760648 | -0.04028420 |  0.19879784 | 0.1357280 |  0.1693269 | 0.07589325 | 0.8042019 | 0.7118104 |\n",
       "| chr1 | 16015 | 16477 | chr1:16015-16477 | 462 | 0.4361424 | 0.15900628 | -1.4557156 | -0.30931046 |  0.08292808 | 0.1346040 | -0.2127815 | 0.07435717 | 0.9440313 | 0.3441694 |\n",
       "| chr1 | 17237 | 17772 | chr1:17237-17772 | 535 | 0.8007562 | 0.22194085 | -1.8511878 | -0.55942840 |  0.20062968 | 0.1357457 | -0.4231641 | 0.07351143 | 1.4967405 | 0.4148427 |\n",
       "| chr1 | 28903 | 29613 | chr1:28903-29613 | 710 | 0.7629703 | 0.16679463 | -2.1935541 | -0.59545755 | -0.42906879 | 0.1296375 | -1.1335228 | 0.07065579 | 1.0746061 | 0.2349220 |\n",
       "| chr1 | 30803 | 31072 | chr1:30803-31072 | 269 | 0.2774187 | 0.21678565 | -0.3557958 | -0.07015643 |  0.57699942 | 0.1393966 |  0.5676036 | 0.07749432 | 1.0312963 | 0.8058946 |\n",
       "\n"
      ],
      "text/plain": [
       "  Chrom Start End   Peak             Length Input     Output     Log2FC    \n",
       "1 chr1  10015 10442 chr1:10015-10442 427    0.4863317 0.09736537 -2.3204599\n",
       "2 chr1  14253 14645 chr1:14253-14645 392    0.3152472 0.27902967 -0.1760648\n",
       "3 chr1  16015 16477 chr1:16015-16477 462    0.4361424 0.15900628 -1.4557156\n",
       "4 chr1  17237 17772 chr1:17237-17772 535    0.8007562 0.22194085 -1.8511878\n",
       "5 chr1  28903 29613 chr1:28903-29613 710    0.7629703 0.16679463 -2.1935541\n",
       "6 chr1  30803 31072 chr1:30803-31072 269    0.2774187 0.21678565 -0.3557958\n",
       "  pLog2FC     Input_Residual Input_Score Output_Residual Output_Score\n",
       "1 -0.43771215  0.25149985    0.1362392   -0.1433799      0.07463616  \n",
       "2 -0.04028420  0.19879784    0.1357280    0.1693269      0.07589325  \n",
       "3 -0.30931046  0.08292808    0.1346040   -0.2127815      0.07435717  \n",
       "4 -0.55942840  0.20062968    0.1357457   -0.4231641      0.07351143  \n",
       "5 -0.59545755 -0.42906879    0.1296375   -1.1335228      0.07065579  \n",
       "6 -0.07015643  0.57699942    0.1393966    0.5676036      0.07749432  \n",
       "  Input_FPKM Output_FPKM\n",
       "1 1.1389501  0.2280219  \n",
       "2 0.8042019  0.7118104  \n",
       "3 0.9440313  0.3441694  \n",
       "4 1.4967405  0.4148427  \n",
       "5 1.0746061  0.2349220  \n",
       "6 1.0312963  0.8058946  "
      ]
     },
     "metadata": {},
     "output_type": "display_data"
    }
   ],
   "source": [
    "ASSAY  = \"KS91_K562_ASTARRseq\"\n",
    "FOLDER = \"coverage_astarrseq_peak_macs_input\"\n",
    "\n",
    "fdiry = file.path(FD_RES, \"results\", ASSAY, FOLDER, \"summary\")\n",
    "fname = \"result.score.raw.cpm.WGS.tsv\"\n",
    "fpath = file.path(fdiry, fname)\n",
    "\n",
    "dat = read_tsv(fpath, show_col_types = FALSE)\n",
    "\n",
    "dat_peak_coverage_astarr = dat\n",
    "print(dim(dat))\n",
    "head(dat)"
   ]
  },
  {
   "cell_type": "markdown",
   "metadata": {},
   "source": [
    "## Split peaks by quantiles (Test)"
   ]
  },
  {
   "cell_type": "code",
   "execution_count": 4,
   "metadata": {},
   "outputs": [
    {
     "name": "stdout",
     "output_type": "stream",
     "text": [
      "          0%          25%          50%          75%         100% \n",
      "7.240126e-04 6.462627e-01 7.982122e-01 1.224492e+00 3.991072e+01 \n",
      "[1] \"ATAC_Q1\" \"ATAC_Q2\" \"ATAC_Q3\" \"ATAC_Q4\"\n"
     ]
    }
   ],
   "source": [
    "dat     = dat_peak_coverage_astarr\n",
    "vec_num = dat$Input_FPKM\n",
    "vec_num = quantile(vec_num, probs = seq(0, 1, length.out = 5))\n",
    "vec_txt = paste0(\"ATAC_Q\", 1:4)\n",
    "\n",
    "print(vec_num)\n",
    "print(vec_txt)"
   ]
  },
  {
   "cell_type": "code",
   "execution_count": 5,
   "metadata": {},
   "outputs": [
    {
     "data": {
      "text/html": [
       "<table class=\"dataframe\">\n",
       "<caption>A tibble: 6 × 3</caption>\n",
       "<thead>\n",
       "\t<tr><th scope=col>Peak</th><th scope=col>Input_FPKM</th><th scope=col>Assay_Label</th></tr>\n",
       "\t<tr><th scope=col>&lt;chr&gt;</th><th scope=col>&lt;dbl&gt;</th><th scope=col>&lt;fct&gt;</th></tr>\n",
       "</thead>\n",
       "<tbody>\n",
       "\t<tr><td>chr1:10015-10442</td><td>1.1389501</td><td>ATAC_Q3</td></tr>\n",
       "\t<tr><td>chr1:14253-14645</td><td>0.8042019</td><td>ATAC_Q3</td></tr>\n",
       "\t<tr><td>chr1:16015-16477</td><td>0.9440313</td><td>ATAC_Q3</td></tr>\n",
       "\t<tr><td>chr1:17237-17772</td><td>1.4967405</td><td>ATAC_Q4</td></tr>\n",
       "\t<tr><td>chr1:28903-29613</td><td>1.0746061</td><td>ATAC_Q3</td></tr>\n",
       "\t<tr><td>chr1:30803-31072</td><td>1.0312963</td><td>ATAC_Q3</td></tr>\n",
       "</tbody>\n",
       "</table>\n"
      ],
      "text/latex": [
       "A tibble: 6 × 3\n",
       "\\begin{tabular}{lll}\n",
       " Peak & Input\\_FPKM & Assay\\_Label\\\\\n",
       " <chr> & <dbl> & <fct>\\\\\n",
       "\\hline\n",
       "\t chr1:10015-10442 & 1.1389501 & ATAC\\_Q3\\\\\n",
       "\t chr1:14253-14645 & 0.8042019 & ATAC\\_Q3\\\\\n",
       "\t chr1:16015-16477 & 0.9440313 & ATAC\\_Q3\\\\\n",
       "\t chr1:17237-17772 & 1.4967405 & ATAC\\_Q4\\\\\n",
       "\t chr1:28903-29613 & 1.0746061 & ATAC\\_Q3\\\\\n",
       "\t chr1:30803-31072 & 1.0312963 & ATAC\\_Q3\\\\\n",
       "\\end{tabular}\n"
      ],
      "text/markdown": [
       "\n",
       "A tibble: 6 × 3\n",
       "\n",
       "| Peak &lt;chr&gt; | Input_FPKM &lt;dbl&gt; | Assay_Label &lt;fct&gt; |\n",
       "|---|---|---|\n",
       "| chr1:10015-10442 | 1.1389501 | ATAC_Q3 |\n",
       "| chr1:14253-14645 | 0.8042019 | ATAC_Q3 |\n",
       "| chr1:16015-16477 | 0.9440313 | ATAC_Q3 |\n",
       "| chr1:17237-17772 | 1.4967405 | ATAC_Q4 |\n",
       "| chr1:28903-29613 | 1.0746061 | ATAC_Q3 |\n",
       "| chr1:30803-31072 | 1.0312963 | ATAC_Q3 |\n",
       "\n"
      ],
      "text/plain": [
       "  Peak             Input_FPKM Assay_Label\n",
       "1 chr1:10015-10442 1.1389501  ATAC_Q3    \n",
       "2 chr1:14253-14645 0.8042019  ATAC_Q3    \n",
       "3 chr1:16015-16477 0.9440313  ATAC_Q3    \n",
       "4 chr1:17237-17772 1.4967405  ATAC_Q4    \n",
       "5 chr1:28903-29613 1.0746061  ATAC_Q3    \n",
       "6 chr1:30803-31072 1.0312963  ATAC_Q3    "
      ]
     },
     "metadata": {},
     "output_type": "display_data"
    }
   ],
   "source": [
    "dat = dat_peak_coverage_astarr\n",
    "dat = dat %>% \n",
    "    dplyr::select(Peak, Input_FPKM) %>% \n",
    "    dplyr::mutate(\n",
    "        Assay_Label = cut(\n",
    "            Input_FPKM, \n",
    "            breaks = vec_num, \n",
    "            labels = vec_txt,\n",
    "            include.lowest=TRUE\n",
    "        )\n",
    "    )\n",
    "head(dat)"
   ]
  },
  {
   "cell_type": "code",
   "execution_count": 6,
   "metadata": {},
   "outputs": [
    {
     "data": {
      "text/plain": [
       "$ATAC_Q1\n",
       "    Min.  1st Qu.   Median     Mean  3rd Qu.     Max. \n",
       "0.000724 0.557734 0.590694 0.585428 0.618757 0.646262 \n",
       "\n",
       "$ATAC_Q2\n",
       "   Min. 1st Qu.  Median    Mean 3rd Qu.    Max. \n",
       " 0.6463  0.6759  0.7090  0.7134  0.7485  0.7982 \n",
       "\n",
       "$ATAC_Q3\n",
       "   Min. 1st Qu.  Median    Mean 3rd Qu.    Max. \n",
       " 0.7982  0.8609  0.9427  0.9641  1.0546  1.2245 \n",
       "\n",
       "$ATAC_Q4\n",
       "   Min. 1st Qu.  Median    Mean 3rd Qu.    Max. \n",
       "  1.224   1.520   2.185   3.578   4.281  39.911 \n"
      ]
     },
     "metadata": {},
     "output_type": "display_data"
    }
   ],
   "source": [
    "lst = split(dat$Input_FPKM, dat$Assay_Label)\n",
    "lst = lapply(lst, summary)\n",
    "lst"
   ]
  },
  {
   "cell_type": "markdown",
   "metadata": {},
   "source": [
    "## Split peaks by quantiles"
   ]
  },
  {
   "cell_type": "code",
   "execution_count": 7,
   "metadata": {},
   "outputs": [
    {
     "name": "stdout",
     "output_type": "stream",
     "text": [
      "[1] 246852      7\n"
     ]
    },
    {
     "data": {
      "text/html": [
       "<table class=\"dataframe\">\n",
       "<caption>A tibble: 6 × 7</caption>\n",
       "<thead>\n",
       "\t<tr><th scope=col>Chrom</th><th scope=col>Start</th><th scope=col>End</th><th scope=col>Peak</th><th scope=col>Score</th><th scope=col>Assay_Type</th><th scope=col>Assay_Label</th></tr>\n",
       "\t<tr><th scope=col>&lt;chr&gt;</th><th scope=col>&lt;dbl&gt;</th><th scope=col>&lt;dbl&gt;</th><th scope=col>&lt;chr&gt;</th><th scope=col>&lt;dbl&gt;</th><th scope=col>&lt;chr&gt;</th><th scope=col>&lt;fct&gt;</th></tr>\n",
       "</thead>\n",
       "<tbody>\n",
       "\t<tr><td>chr1</td><td>10015</td><td>10442</td><td>chr1:10015-10442</td><td>1.1389501</td><td>ATAC</td><td>ATAC_Q3</td></tr>\n",
       "\t<tr><td>chr1</td><td>14253</td><td>14645</td><td>chr1:14253-14645</td><td>0.8042019</td><td>ATAC</td><td>ATAC_Q3</td></tr>\n",
       "\t<tr><td>chr1</td><td>16015</td><td>16477</td><td>chr1:16015-16477</td><td>0.9440313</td><td>ATAC</td><td>ATAC_Q3</td></tr>\n",
       "\t<tr><td>chr1</td><td>17237</td><td>17772</td><td>chr1:17237-17772</td><td>1.4967405</td><td>ATAC</td><td>ATAC_Q4</td></tr>\n",
       "\t<tr><td>chr1</td><td>28903</td><td>29613</td><td>chr1:28903-29613</td><td>1.0746061</td><td>ATAC</td><td>ATAC_Q3</td></tr>\n",
       "\t<tr><td>chr1</td><td>30803</td><td>31072</td><td>chr1:30803-31072</td><td>1.0312963</td><td>ATAC</td><td>ATAC_Q3</td></tr>\n",
       "</tbody>\n",
       "</table>\n"
      ],
      "text/latex": [
       "A tibble: 6 × 7\n",
       "\\begin{tabular}{lllllll}\n",
       " Chrom & Start & End & Peak & Score & Assay\\_Type & Assay\\_Label\\\\\n",
       " <chr> & <dbl> & <dbl> & <chr> & <dbl> & <chr> & <fct>\\\\\n",
       "\\hline\n",
       "\t chr1 & 10015 & 10442 & chr1:10015-10442 & 1.1389501 & ATAC & ATAC\\_Q3\\\\\n",
       "\t chr1 & 14253 & 14645 & chr1:14253-14645 & 0.8042019 & ATAC & ATAC\\_Q3\\\\\n",
       "\t chr1 & 16015 & 16477 & chr1:16015-16477 & 0.9440313 & ATAC & ATAC\\_Q3\\\\\n",
       "\t chr1 & 17237 & 17772 & chr1:17237-17772 & 1.4967405 & ATAC & ATAC\\_Q4\\\\\n",
       "\t chr1 & 28903 & 29613 & chr1:28903-29613 & 1.0746061 & ATAC & ATAC\\_Q3\\\\\n",
       "\t chr1 & 30803 & 31072 & chr1:30803-31072 & 1.0312963 & ATAC & ATAC\\_Q3\\\\\n",
       "\\end{tabular}\n"
      ],
      "text/markdown": [
       "\n",
       "A tibble: 6 × 7\n",
       "\n",
       "| Chrom &lt;chr&gt; | Start &lt;dbl&gt; | End &lt;dbl&gt; | Peak &lt;chr&gt; | Score &lt;dbl&gt; | Assay_Type &lt;chr&gt; | Assay_Label &lt;fct&gt; |\n",
       "|---|---|---|---|---|---|---|\n",
       "| chr1 | 10015 | 10442 | chr1:10015-10442 | 1.1389501 | ATAC | ATAC_Q3 |\n",
       "| chr1 | 14253 | 14645 | chr1:14253-14645 | 0.8042019 | ATAC | ATAC_Q3 |\n",
       "| chr1 | 16015 | 16477 | chr1:16015-16477 | 0.9440313 | ATAC | ATAC_Q3 |\n",
       "| chr1 | 17237 | 17772 | chr1:17237-17772 | 1.4967405 | ATAC | ATAC_Q4 |\n",
       "| chr1 | 28903 | 29613 | chr1:28903-29613 | 1.0746061 | ATAC | ATAC_Q3 |\n",
       "| chr1 | 30803 | 31072 | chr1:30803-31072 | 1.0312963 | ATAC | ATAC_Q3 |\n",
       "\n"
      ],
      "text/plain": [
       "  Chrom Start End   Peak             Score     Assay_Type Assay_Label\n",
       "1 chr1  10015 10442 chr1:10015-10442 1.1389501 ATAC       ATAC_Q3    \n",
       "2 chr1  14253 14645 chr1:14253-14645 0.8042019 ATAC       ATAC_Q3    \n",
       "3 chr1  16015 16477 chr1:16015-16477 0.9440313 ATAC       ATAC_Q3    \n",
       "4 chr1  17237 17772 chr1:17237-17772 1.4967405 ATAC       ATAC_Q4    \n",
       "5 chr1  28903 29613 chr1:28903-29613 1.0746061 ATAC       ATAC_Q3    \n",
       "6 chr1  30803 31072 chr1:30803-31072 1.0312963 ATAC       ATAC_Q3    "
      ]
     },
     "metadata": {},
     "output_type": "display_data"
    }
   ],
   "source": [
    "### init\n",
    "dat = dat_peak_coverage_astarr\n",
    "\n",
    "### label peaks by quantile\n",
    "dat = dat %>%\n",
    "    dplyr::mutate(Peak = paste0(Chrom, \":\", Start, \"-\", End)) %>% \n",
    "    dplyr::mutate(\n",
    "        Score       = Input_FPKM,\n",
    "        Assay_Type  = \"ATAC\",\n",
    "        Assay_Label = cut(\n",
    "            Input_FPKM, \n",
    "            breaks = vec_num, \n",
    "            labels = vec_txt,\n",
    "            include.lowest=TRUE\n",
    "        )\n",
    "    )\n",
    "\n",
    "### arrange table\n",
    "dat = dat %>% \n",
    "    dplyr::select(Chrom, Start, End, Peak, Score, Assay_Type, Assay_Label) %>%\n",
    "    dplyr::arrange(Chrom, Start, End)\n",
    "\n",
    "### assign and show\n",
    "dat_peak_atac_label = dat\n",
    "print(dim(dat))\n",
    "head(dat)"
   ]
  },
  {
   "cell_type": "markdown",
   "metadata": {},
   "source": [
    "**Results**"
   ]
  },
  {
   "cell_type": "code",
   "execution_count": 8,
   "metadata": {},
   "outputs": [
    {
     "data": {
      "text/plain": [
       "\n",
       "ATAC_Q1 ATAC_Q2 ATAC_Q3 ATAC_Q4 \n",
       "  61713   61713   61713   61713 "
      ]
     },
     "metadata": {},
     "output_type": "display_data"
    }
   ],
   "source": [
    "dat = dat_peak_atac_label\n",
    "table(dat$Assay_Label)"
   ]
  },
  {
   "cell_type": "code",
   "execution_count": 9,
   "metadata": {},
   "outputs": [
    {
     "data": {
      "text/html": [
       "<table class=\"dataframe\">\n",
       "<caption>A tibble: 4 × 2</caption>\n",
       "<thead>\n",
       "\t<tr><th scope=col>Assay_Type</th><th scope=col>Assay_Label</th></tr>\n",
       "\t<tr><th scope=col>&lt;chr&gt;</th><th scope=col>&lt;fct&gt;</th></tr>\n",
       "</thead>\n",
       "<tbody>\n",
       "\t<tr><td>ATAC</td><td>ATAC_Q3</td></tr>\n",
       "\t<tr><td>ATAC</td><td>ATAC_Q4</td></tr>\n",
       "\t<tr><td>ATAC</td><td>ATAC_Q2</td></tr>\n",
       "\t<tr><td>ATAC</td><td>ATAC_Q1</td></tr>\n",
       "</tbody>\n",
       "</table>\n"
      ],
      "text/latex": [
       "A tibble: 4 × 2\n",
       "\\begin{tabular}{ll}\n",
       " Assay\\_Type & Assay\\_Label\\\\\n",
       " <chr> & <fct>\\\\\n",
       "\\hline\n",
       "\t ATAC & ATAC\\_Q3\\\\\n",
       "\t ATAC & ATAC\\_Q4\\\\\n",
       "\t ATAC & ATAC\\_Q2\\\\\n",
       "\t ATAC & ATAC\\_Q1\\\\\n",
       "\\end{tabular}\n"
      ],
      "text/markdown": [
       "\n",
       "A tibble: 4 × 2\n",
       "\n",
       "| Assay_Type &lt;chr&gt; | Assay_Label &lt;fct&gt; |\n",
       "|---|---|\n",
       "| ATAC | ATAC_Q3 |\n",
       "| ATAC | ATAC_Q4 |\n",
       "| ATAC | ATAC_Q2 |\n",
       "| ATAC | ATAC_Q1 |\n",
       "\n"
      ],
      "text/plain": [
       "  Assay_Type Assay_Label\n",
       "1 ATAC       ATAC_Q3    \n",
       "2 ATAC       ATAC_Q4    \n",
       "3 ATAC       ATAC_Q2    \n",
       "4 ATAC       ATAC_Q1    "
      ]
     },
     "metadata": {},
     "output_type": "display_data"
    }
   ],
   "source": [
    "dat = dat_peak_atac_label\n",
    "dat = dat %>% dplyr::select(Assay_Type, Assay_Label) %>% dplyr::distinct()\n",
    "dat"
   ]
  },
  {
   "cell_type": "markdown",
   "metadata": {},
   "source": [
    "## Save results"
   ]
  },
  {
   "cell_type": "code",
   "execution_count": 10,
   "metadata": {},
   "outputs": [
    {
     "name": "stdout",
     "output_type": "stream",
     "text": [
      "[1] \"peak.screened.atac.quantile.tsv\"\n"
     ]
    }
   ],
   "source": [
    "### set file paths\n",
    "fdiry  = file.path(\n",
    "    FD_RES, \n",
    "    \"results\",\n",
    "    \"region\",\n",
    "    \"KS91_K562_ASTARRseq_peak_macs_input\",\n",
    "    \"summary\"\n",
    ")\n",
    "fname = paste(\"peak\", \"screened\", \"atac\", \"quantile\", \"tsv\", sep = \".\")\n",
    "fpath = file.path(fdiry, fname)\n",
    "print(fname)\n",
    "\n",
    "### save table\n",
    "dat = dat_peak_atac_label\n",
    "write_tsv(dat, fpath)"
   ]
  },
  {
   "cell_type": "code",
   "execution_count": null,
   "metadata": {},
   "outputs": [],
   "source": []
  }
 ],
 "metadata": {
  "kernelspec": {
   "display_name": "R",
   "language": "R",
   "name": "ir"
  },
  "language_info": {
   "codemirror_mode": "r",
   "file_extension": ".r",
   "mimetype": "text/x-r-source",
   "name": "R",
   "pygments_lexer": "r",
   "version": "4.3.1"
  }
 },
 "nbformat": 4,
 "nbformat_minor": 4
}
