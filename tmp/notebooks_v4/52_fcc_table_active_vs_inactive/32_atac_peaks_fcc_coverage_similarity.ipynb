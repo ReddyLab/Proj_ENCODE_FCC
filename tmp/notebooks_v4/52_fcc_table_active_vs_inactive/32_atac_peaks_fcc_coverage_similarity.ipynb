{
 "cells": [
  {
   "cell_type": "markdown",
   "id": "3a692435-f728-4a27-8bf7-06d0df261124",
   "metadata": {},
   "source": [
    "**Set environment**"
   ]
  },
  {
   "cell_type": "code",
   "execution_count": 38,
   "id": "c9a4533a-2720-4c42-b2cc-c8d6c5b8f890",
   "metadata": {},
   "outputs": [
    {
     "name": "stdout",
     "output_type": "stream",
     "text": [
      "You are in Singularity: singularity_proj_encode_fcc \n",
      "BASE DIRECTORY (FD_BASE): /data/reddylab/Kuei \n",
      "WORK DIRECTORY (FD_WORK): /data/reddylab/Kuei/out \n",
      "CODE DIRECTORY (FD_CODE): /data/reddylab/Kuei/code \n",
      "PATH OF PROJECT (FD_PRJ): /data/reddylab/Kuei/code/Proj_CombEffect_ENCODE_FCC \n",
      "PATH OF RESULTS (FD_RES): /data/reddylab/Kuei/out/proj_combeffect_encode_fcc \n",
      "PATH OF LOG     (FD_LOG): /data/reddylab/Kuei/out/proj_combeffect_encode_fcc/log \n"
     ]
    }
   ],
   "source": [
    "suppressMessages(suppressWarnings(source(\"../config/config_sing.R\")))\n",
    "library(pheatmap)\n",
    "show_env()"
   ]
  },
  {
   "cell_type": "markdown",
   "id": "eae256e2-4284-4b8f-935b-afd3544d6e84",
   "metadata": {},
   "source": [
    "## Import data"
   ]
  },
  {
   "cell_type": "markdown",
   "id": "65b4be13-e347-4ef7-8944-4af733e089c8",
   "metadata": {},
   "source": [
    "**Read total ATAC peaks**"
   ]
  },
  {
   "cell_type": "code",
   "execution_count": 2,
   "id": "d8ad72fa-eceb-419e-8c9f-93f5ffe476d8",
   "metadata": {},
   "outputs": [
    {
     "name": "stdout",
     "output_type": "stream",
     "text": [
      "[1] 247520      6\n"
     ]
    },
    {
     "data": {
      "text/html": [
       "<table class=\"dataframe\">\n",
       "<caption>A tibble: 6 × 6</caption>\n",
       "<thead>\n",
       "\t<tr><th scope=col>Chrom</th><th scope=col>Start</th><th scope=col>End</th><th scope=col>Peak</th><th scope=col>Assay_Type</th><th scope=col>Assay_Label</th></tr>\n",
       "\t<tr><th scope=col>&lt;chr&gt;</th><th scope=col>&lt;dbl&gt;</th><th scope=col>&lt;dbl&gt;</th><th scope=col>&lt;chr&gt;</th><th scope=col>&lt;chr&gt;</th><th scope=col>&lt;chr&gt;</th></tr>\n",
       "</thead>\n",
       "<tbody>\n",
       "\t<tr><td>chr1</td><td>10015</td><td>10442</td><td>chr1:10015-10442</td><td>ATAC</td><td>ATAC_T</td></tr>\n",
       "\t<tr><td>chr1</td><td>14253</td><td>14645</td><td>chr1:14253-14645</td><td>ATAC</td><td>ATAC_T</td></tr>\n",
       "\t<tr><td>chr1</td><td>16015</td><td>16477</td><td>chr1:16015-16477</td><td>ATAC</td><td>ATAC_T</td></tr>\n",
       "\t<tr><td>chr1</td><td>17237</td><td>17772</td><td>chr1:17237-17772</td><td>ATAC</td><td>ATAC_T</td></tr>\n",
       "\t<tr><td>chr1</td><td>28903</td><td>29613</td><td>chr1:28903-29613</td><td>ATAC</td><td>ATAC_T</td></tr>\n",
       "\t<tr><td>chr1</td><td>30803</td><td>31072</td><td>chr1:30803-31072</td><td>ATAC</td><td>ATAC_T</td></tr>\n",
       "</tbody>\n",
       "</table>\n"
      ],
      "text/latex": [
       "A tibble: 6 × 6\n",
       "\\begin{tabular}{llllll}\n",
       " Chrom & Start & End & Peak & Assay\\_Type & Assay\\_Label\\\\\n",
       " <chr> & <dbl> & <dbl> & <chr> & <chr> & <chr>\\\\\n",
       "\\hline\n",
       "\t chr1 & 10015 & 10442 & chr1:10015-10442 & ATAC & ATAC\\_T\\\\\n",
       "\t chr1 & 14253 & 14645 & chr1:14253-14645 & ATAC & ATAC\\_T\\\\\n",
       "\t chr1 & 16015 & 16477 & chr1:16015-16477 & ATAC & ATAC\\_T\\\\\n",
       "\t chr1 & 17237 & 17772 & chr1:17237-17772 & ATAC & ATAC\\_T\\\\\n",
       "\t chr1 & 28903 & 29613 & chr1:28903-29613 & ATAC & ATAC\\_T\\\\\n",
       "\t chr1 & 30803 & 31072 & chr1:30803-31072 & ATAC & ATAC\\_T\\\\\n",
       "\\end{tabular}\n"
      ],
      "text/markdown": [
       "\n",
       "A tibble: 6 × 6\n",
       "\n",
       "| Chrom &lt;chr&gt; | Start &lt;dbl&gt; | End &lt;dbl&gt; | Peak &lt;chr&gt; | Assay_Type &lt;chr&gt; | Assay_Label &lt;chr&gt; |\n",
       "|---|---|---|---|---|---|\n",
       "| chr1 | 10015 | 10442 | chr1:10015-10442 | ATAC | ATAC_T |\n",
       "| chr1 | 14253 | 14645 | chr1:14253-14645 | ATAC | ATAC_T |\n",
       "| chr1 | 16015 | 16477 | chr1:16015-16477 | ATAC | ATAC_T |\n",
       "| chr1 | 17237 | 17772 | chr1:17237-17772 | ATAC | ATAC_T |\n",
       "| chr1 | 28903 | 29613 | chr1:28903-29613 | ATAC | ATAC_T |\n",
       "| chr1 | 30803 | 31072 | chr1:30803-31072 | ATAC | ATAC_T |\n",
       "\n"
      ],
      "text/plain": [
       "  Chrom Start End   Peak             Assay_Type Assay_Label\n",
       "1 chr1  10015 10442 chr1:10015-10442 ATAC       ATAC_T     \n",
       "2 chr1  14253 14645 chr1:14253-14645 ATAC       ATAC_T     \n",
       "3 chr1  16015 16477 chr1:16015-16477 ATAC       ATAC_T     \n",
       "4 chr1  17237 17772 chr1:17237-17772 ATAC       ATAC_T     \n",
       "5 chr1  28903 29613 chr1:28903-29613 ATAC       ATAC_T     \n",
       "6 chr1  30803 31072 chr1:30803-31072 ATAC       ATAC_T     "
      ]
     },
     "metadata": {},
     "output_type": "display_data"
    }
   ],
   "source": [
    "### set file path\n",
    "fdiry = file.path(FD_RES, \"results\", \"region\", \"KS91_K562_ASTARRseq_peak_macs_input\", \"summary\")\n",
    "fname = \"peak.screened.atac.total.tsv\"\n",
    "fpath = file.path(fdiry, fname)\n",
    "\n",
    "### read table\n",
    "dat = read_tsv(fpath, show_col_types = FALSE)\n",
    "\n",
    "### assign and show\n",
    "dat_peak_atac_total = dat\n",
    "print(dim(dat))\n",
    "head(dat)"
   ]
  },
  {
   "cell_type": "markdown",
   "id": "b406f30a-bd04-468a-b873-bd542389ee9a",
   "metadata": {},
   "source": [
    "**Read ATAC peaks screened in each assay**"
   ]
  },
  {
   "cell_type": "code",
   "execution_count": 3,
   "id": "b76e8afe-7610-4013-9cfa-4434159063ad",
   "metadata": {},
   "outputs": [
    {
     "name": "stdout",
     "output_type": "stream",
     "text": [
      "[1] 732434      7\n"
     ]
    },
    {
     "data": {
      "text/html": [
       "<table class=\"dataframe\">\n",
       "<caption>A tibble: 6 × 7</caption>\n",
       "<thead>\n",
       "\t<tr><th scope=col>Chrom</th><th scope=col>Start</th><th scope=col>End</th><th scope=col>Peak</th><th scope=col>Score</th><th scope=col>Assay_Type</th><th scope=col>Assay_Label</th></tr>\n",
       "\t<tr><th scope=col>&lt;chr&gt;</th><th scope=col>&lt;dbl&gt;</th><th scope=col>&lt;dbl&gt;</th><th scope=col>&lt;chr&gt;</th><th scope=col>&lt;dbl&gt;</th><th scope=col>&lt;chr&gt;</th><th scope=col>&lt;chr&gt;</th></tr>\n",
       "</thead>\n",
       "<tbody>\n",
       "\t<tr><td>chr1</td><td>100006256</td><td>100006880</td><td>chr1:100006256-100006880</td><td>-0.01311792</td><td>ASTARR</td><td>ASTARR_T</td></tr>\n",
       "\t<tr><td>chr1</td><td>100010437</td><td>100010915</td><td>chr1:100010437-100010915</td><td>-0.80687947</td><td>ASTARR</td><td>ASTARR_T</td></tr>\n",
       "\t<tr><td>chr1</td><td> 10002087</td><td> 10003910</td><td>chr1:10002087-10003910  </td><td>-0.34892859</td><td>ASTARR</td><td>ASTARR_T</td></tr>\n",
       "\t<tr><td>chr1</td><td>100021298</td><td>100021629</td><td>chr1:100021298-100021629</td><td>-1.03799571</td><td>ASTARR</td><td>ASTARR_T</td></tr>\n",
       "\t<tr><td>chr1</td><td>100023727</td><td>100023976</td><td>chr1:100023727-100023976</td><td>-0.19100207</td><td>ASTARR</td><td>ASTARR_T</td></tr>\n",
       "\t<tr><td>chr1</td><td>100027983</td><td>100029702</td><td>chr1:100027983-100029702</td><td>-0.18001582</td><td>ASTARR</td><td>ASTARR_T</td></tr>\n",
       "</tbody>\n",
       "</table>\n"
      ],
      "text/latex": [
       "A tibble: 6 × 7\n",
       "\\begin{tabular}{lllllll}\n",
       " Chrom & Start & End & Peak & Score & Assay\\_Type & Assay\\_Label\\\\\n",
       " <chr> & <dbl> & <dbl> & <chr> & <dbl> & <chr> & <chr>\\\\\n",
       "\\hline\n",
       "\t chr1 & 100006256 & 100006880 & chr1:100006256-100006880 & -0.01311792 & ASTARR & ASTARR\\_T\\\\\n",
       "\t chr1 & 100010437 & 100010915 & chr1:100010437-100010915 & -0.80687947 & ASTARR & ASTARR\\_T\\\\\n",
       "\t chr1 &  10002087 &  10003910 & chr1:10002087-10003910   & -0.34892859 & ASTARR & ASTARR\\_T\\\\\n",
       "\t chr1 & 100021298 & 100021629 & chr1:100021298-100021629 & -1.03799571 & ASTARR & ASTARR\\_T\\\\\n",
       "\t chr1 & 100023727 & 100023976 & chr1:100023727-100023976 & -0.19100207 & ASTARR & ASTARR\\_T\\\\\n",
       "\t chr1 & 100027983 & 100029702 & chr1:100027983-100029702 & -0.18001582 & ASTARR & ASTARR\\_T\\\\\n",
       "\\end{tabular}\n"
      ],
      "text/markdown": [
       "\n",
       "A tibble: 6 × 7\n",
       "\n",
       "| Chrom &lt;chr&gt; | Start &lt;dbl&gt; | End &lt;dbl&gt; | Peak &lt;chr&gt; | Score &lt;dbl&gt; | Assay_Type &lt;chr&gt; | Assay_Label &lt;chr&gt; |\n",
       "|---|---|---|---|---|---|---|\n",
       "| chr1 | 100006256 | 100006880 | chr1:100006256-100006880 | -0.01311792 | ASTARR | ASTARR_T |\n",
       "| chr1 | 100010437 | 100010915 | chr1:100010437-100010915 | -0.80687947 | ASTARR | ASTARR_T |\n",
       "| chr1 |  10002087 |  10003910 | chr1:10002087-10003910   | -0.34892859 | ASTARR | ASTARR_T |\n",
       "| chr1 | 100021298 | 100021629 | chr1:100021298-100021629 | -1.03799571 | ASTARR | ASTARR_T |\n",
       "| chr1 | 100023727 | 100023976 | chr1:100023727-100023976 | -0.19100207 | ASTARR | ASTARR_T |\n",
       "| chr1 | 100027983 | 100029702 | chr1:100027983-100029702 | -0.18001582 | ASTARR | ASTARR_T |\n",
       "\n"
      ],
      "text/plain": [
       "  Chrom Start     End       Peak                     Score       Assay_Type\n",
       "1 chr1  100006256 100006880 chr1:100006256-100006880 -0.01311792 ASTARR    \n",
       "2 chr1  100010437 100010915 chr1:100010437-100010915 -0.80687947 ASTARR    \n",
       "3 chr1   10002087  10003910 chr1:10002087-10003910   -0.34892859 ASTARR    \n",
       "4 chr1  100021298 100021629 chr1:100021298-100021629 -1.03799571 ASTARR    \n",
       "5 chr1  100023727 100023976 chr1:100023727-100023976 -0.19100207 ASTARR    \n",
       "6 chr1  100027983 100029702 chr1:100027983-100029702 -0.18001582 ASTARR    \n",
       "  Assay_Label\n",
       "1 ASTARR_T   \n",
       "2 ASTARR_T   \n",
       "3 ASTARR_T   \n",
       "4 ASTARR_T   \n",
       "5 ASTARR_T   \n",
       "6 ASTARR_T   "
      ]
     },
     "metadata": {},
     "output_type": "display_data"
    }
   ],
   "source": [
    "### set file path\n",
    "fdiry = file.path(FD_RES, \"results\", \"region\", \"KS91_K562_ASTARRseq_peak_macs_input\", \"summary\")\n",
    "fname = \"peak.screened.fcc.total.tsv\"\n",
    "fpath = file.path(fdiry, fname)\n",
    "\n",
    "### read table\n",
    "dat = read_tsv(fpath, show_col_types = FALSE)\n",
    "\n",
    "### assign and show\n",
    "dat_peak_atac_fcc = dat\n",
    "print(dim(dat))\n",
    "head(dat)"
   ]
  },
  {
   "cell_type": "markdown",
   "id": "18493d9e-c48c-47c1-9edc-41baf793807b",
   "metadata": {},
   "source": [
    "## Calculate coverage similarity"
   ]
  },
  {
   "cell_type": "code",
   "execution_count": 24,
   "id": "18d83ea9-a296-4518-88fc-f9e4c0c31756",
   "metadata": {},
   "outputs": [
    {
     "data": {
      "text/plain": [
       "\n",
       "               ASTARR        CRISPRi-Growth         CRISPRi-HCRFF \n",
       "               246850                 80288                  1330 \n",
       " ENCODE-E2G_Benchmark ENCODE-E2G_Prediction                 LMPRA \n",
       "                 3007                 84129                 68420 \n",
       "                TMPRA                WSTARR \n",
       "                 1722                246688 "
      ]
     },
     "metadata": {},
     "output_type": "display_data"
    }
   ],
   "source": [
    "dat = dat_peak_atac_fcc\n",
    "lst = split(dat$Peak, dat$Assay_Type)\n",
    "\n",
    "lst_vec_txt_peak = lst\n",
    "table(dat$Assay_Type)"
   ]
  },
  {
   "cell_type": "code",
   "execution_count": 58,
   "id": "e9b03bc3-be0b-4dd6-b036-6b21bdb92f1b",
   "metadata": {},
   "outputs": [],
   "source": [
    "fun_jaccard = function(txt1, txt2, lst = lst_vec_txt_peak){\n",
    "    vec1 = lst[[txt1]]\n",
    "    vec2 = lst[[txt2]]\n",
    "    num_size1 = length(vec1)\n",
    "    num_size2 = length(vec2)\n",
    "    num_size_inter = length(intersect(vec1, vec2))\n",
    "    num_size_union = length(union(vec1, vec2))\n",
    "    num_sim_jaccard = num_size_inter / num_size_union\n",
    "    num_sim_overlap = num_size_inter / min(num_size1, num_size2)\n",
    "    res  = c(\n",
    "        txt1, txt2, \n",
    "        num_size_inter,\n",
    "        num_size_union,\n",
    "        num_sim_jaccard,\n",
    "        num_sim_overlap\n",
    "    )\n",
    "    names(res) = c(\n",
    "        \"V1\", \"V2\", \n",
    "        \"Intersect\", \n",
    "        \"Union\", \n",
    "        \"Jaccard\", \n",
    "        \"Overlap\")\n",
    "    return(res)\n",
    "}"
   ]
  },
  {
   "cell_type": "code",
   "execution_count": 59,
   "id": "b442088d-66d2-413b-afad-6329c35f66b2",
   "metadata": {},
   "outputs": [
    {
     "name": "stdout",
     "output_type": "stream",
     "text": [
      "[1] 64  6\n"
     ]
    },
    {
     "data": {
      "text/html": [
       "<table class=\"dataframe\">\n",
       "<caption>A data.frame: 6 × 6</caption>\n",
       "<thead>\n",
       "\t<tr><th></th><th scope=col>V1</th><th scope=col>V2</th><th scope=col>Intersect</th><th scope=col>Union</th><th scope=col>Jaccard</th><th scope=col>Overlap</th></tr>\n",
       "\t<tr><th></th><th scope=col>&lt;chr&gt;</th><th scope=col>&lt;chr&gt;</th><th scope=col>&lt;chr&gt;</th><th scope=col>&lt;chr&gt;</th><th scope=col>&lt;chr&gt;</th><th scope=col>&lt;chr&gt;</th></tr>\n",
       "</thead>\n",
       "<tbody>\n",
       "\t<tr><th scope=row>1</th><td>ASTARR               </td><td>ASTARR</td><td>246850</td><td>246850</td><td>1                  </td><td>1</td></tr>\n",
       "\t<tr><th scope=row>2</th><td>CRISPRi-Growth       </td><td>ASTARR</td><td>80288 </td><td>246850</td><td>0.325250151914118  </td><td>1</td></tr>\n",
       "\t<tr><th scope=row>3</th><td>CRISPRi-HCRFF        </td><td>ASTARR</td><td>1330  </td><td>246850</td><td>0.00538788738100061</td><td>1</td></tr>\n",
       "\t<tr><th scope=row>4</th><td>ENCODE-E2G_Benchmark </td><td>ASTARR</td><td>3007  </td><td>246850</td><td>0.0121814867328337 </td><td>1</td></tr>\n",
       "\t<tr><th scope=row>5</th><td>ENCODE-E2G_Prediction</td><td>ASTARR</td><td>84129 </td><td>246850</td><td>0.340810208628722  </td><td>1</td></tr>\n",
       "\t<tr><th scope=row>6</th><td>LMPRA                </td><td>ASTARR</td><td>68420 </td><td>246850</td><td>0.277172371885761  </td><td>1</td></tr>\n",
       "</tbody>\n",
       "</table>\n"
      ],
      "text/latex": [
       "A data.frame: 6 × 6\n",
       "\\begin{tabular}{r|llllll}\n",
       "  & V1 & V2 & Intersect & Union & Jaccard & Overlap\\\\\n",
       "  & <chr> & <chr> & <chr> & <chr> & <chr> & <chr>\\\\\n",
       "\\hline\n",
       "\t1 & ASTARR                & ASTARR & 246850 & 246850 & 1                   & 1\\\\\n",
       "\t2 & CRISPRi-Growth        & ASTARR & 80288  & 246850 & 0.325250151914118   & 1\\\\\n",
       "\t3 & CRISPRi-HCRFF         & ASTARR & 1330   & 246850 & 0.00538788738100061 & 1\\\\\n",
       "\t4 & ENCODE-E2G\\_Benchmark  & ASTARR & 3007   & 246850 & 0.0121814867328337  & 1\\\\\n",
       "\t5 & ENCODE-E2G\\_Prediction & ASTARR & 84129  & 246850 & 0.340810208628722   & 1\\\\\n",
       "\t6 & LMPRA                 & ASTARR & 68420  & 246850 & 0.277172371885761   & 1\\\\\n",
       "\\end{tabular}\n"
      ],
      "text/markdown": [
       "\n",
       "A data.frame: 6 × 6\n",
       "\n",
       "| <!--/--> | V1 &lt;chr&gt; | V2 &lt;chr&gt; | Intersect &lt;chr&gt; | Union &lt;chr&gt; | Jaccard &lt;chr&gt; | Overlap &lt;chr&gt; |\n",
       "|---|---|---|---|---|---|---|\n",
       "| 1 | ASTARR                | ASTARR | 246850 | 246850 | 1                   | 1 |\n",
       "| 2 | CRISPRi-Growth        | ASTARR | 80288  | 246850 | 0.325250151914118   | 1 |\n",
       "| 3 | CRISPRi-HCRFF         | ASTARR | 1330   | 246850 | 0.00538788738100061 | 1 |\n",
       "| 4 | ENCODE-E2G_Benchmark  | ASTARR | 3007   | 246850 | 0.0121814867328337  | 1 |\n",
       "| 5 | ENCODE-E2G_Prediction | ASTARR | 84129  | 246850 | 0.340810208628722   | 1 |\n",
       "| 6 | LMPRA                 | ASTARR | 68420  | 246850 | 0.277172371885761   | 1 |\n",
       "\n"
      ],
      "text/plain": [
       "  V1                    V2     Intersect Union  Jaccard             Overlap\n",
       "1 ASTARR                ASTARR 246850    246850 1                   1      \n",
       "2 CRISPRi-Growth        ASTARR 80288     246850 0.325250151914118   1      \n",
       "3 CRISPRi-HCRFF         ASTARR 1330      246850 0.00538788738100061 1      \n",
       "4 ENCODE-E2G_Benchmark  ASTARR 3007      246850 0.0121814867328337  1      \n",
       "5 ENCODE-E2G_Prediction ASTARR 84129     246850 0.340810208628722   1      \n",
       "6 LMPRA                 ASTARR 68420     246850 0.277172371885761   1      "
      ]
     },
     "metadata": {},
     "output_type": "display_data"
    }
   ],
   "source": [
    "lst = lst_vec_txt_peak\n",
    "vec = names(lst)\n",
    "dat = expand.grid(vec, vec) #%>% t %>% as.data.frame\n",
    "dat = apply(dat, 1, function(vec){\n",
    "    txt1 = vec[1]\n",
    "    txt2 = vec[2]\n",
    "    \n",
    "    res  = fun_jaccard(txt1, txt2)\n",
    "    return(res)\n",
    "})\n",
    "dat = dat %>% t %>% as.data.frame\n",
    "\n",
    "### assign and show\n",
    "dat_summary = dat\n",
    "print(dim(dat))\n",
    "head(dat)"
   ]
  },
  {
   "cell_type": "code",
   "execution_count": 73,
   "id": "21c45f84-21e1-4da0-b08b-e764c7503a00",
   "metadata": {},
   "outputs": [
    {
     "data": {
      "text/html": [
       "<table class=\"dataframe\">\n",
       "<caption>A matrix: 7 × 7 of type dbl</caption>\n",
       "<thead>\n",
       "\t<tr><th></th><th scope=col>ASTARR</th><th scope=col>CRISPRi-Growth</th><th scope=col>CRISPRi-HCRFF</th><th scope=col>ENCODE-E2G_Benchmark</th><th scope=col>LMPRA</th><th scope=col>TMPRA</th><th scope=col>WSTARR</th></tr>\n",
       "</thead>\n",
       "<tbody>\n",
       "\t<tr><th scope=row>ASTARR</th><td>1.000000000</td><td>0.325250152</td><td>0.005387887</td><td>0.01218149</td><td>0.27717237</td><td>0.006975896</td><td>0.999303235</td></tr>\n",
       "\t<tr><th scope=row>CRISPRi-Growth</th><td>0.325250152</td><td>1.000000000</td><td>0.006883790</td><td>0.03504194</td><td>0.56851742</td><td>0.008708273</td><td>0.325367036</td></tr>\n",
       "\t<tr><th scope=row>CRISPRi-HCRFF</th><td>0.005387887</td><td>0.006883790</td><td>1.000000000</td><td>0.04154659</td><td>0.01041561</td><td>0.261157025</td><td>0.005391426</td></tr>\n",
       "\t<tr><th scope=row>ENCODE-E2G_Benchmark</th><td>0.012181487</td><td>0.035041938</td><td>0.041546590</td><td>1.00000000</td><td>0.03759497</td><td>0.042318713</td><td>0.012185383</td></tr>\n",
       "\t<tr><th scope=row>LMPRA</th><td>0.277172372</td><td>0.568517425</td><td>0.010415610</td><td>0.03759497</td><td>1.00000000</td><td>0.018011350</td><td>0.277287080</td></tr>\n",
       "\t<tr><th scope=row>TMPRA</th><td>0.006975896</td><td>0.008708273</td><td>0.261157025</td><td>0.04231871</td><td>0.01801135</td><td>1.000000000</td><td>0.006980477</td></tr>\n",
       "\t<tr><th scope=row>WSTARR</th><td>0.999303235</td><td>0.325367036</td><td>0.005391426</td><td>0.01218538</td><td>0.27728708</td><td>0.006980477</td><td>1.000000000</td></tr>\n",
       "</tbody>\n",
       "</table>\n"
      ],
      "text/latex": [
       "A matrix: 7 × 7 of type dbl\n",
       "\\begin{tabular}{r|lllllll}\n",
       "  & ASTARR & CRISPRi-Growth & CRISPRi-HCRFF & ENCODE-E2G\\_Benchmark & LMPRA & TMPRA & WSTARR\\\\\n",
       "\\hline\n",
       "\tASTARR & 1.000000000 & 0.325250152 & 0.005387887 & 0.01218149 & 0.27717237 & 0.006975896 & 0.999303235\\\\\n",
       "\tCRISPRi-Growth & 0.325250152 & 1.000000000 & 0.006883790 & 0.03504194 & 0.56851742 & 0.008708273 & 0.325367036\\\\\n",
       "\tCRISPRi-HCRFF & 0.005387887 & 0.006883790 & 1.000000000 & 0.04154659 & 0.01041561 & 0.261157025 & 0.005391426\\\\\n",
       "\tENCODE-E2G\\_Benchmark & 0.012181487 & 0.035041938 & 0.041546590 & 1.00000000 & 0.03759497 & 0.042318713 & 0.012185383\\\\\n",
       "\tLMPRA & 0.277172372 & 0.568517425 & 0.010415610 & 0.03759497 & 1.00000000 & 0.018011350 & 0.277287080\\\\\n",
       "\tTMPRA & 0.006975896 & 0.008708273 & 0.261157025 & 0.04231871 & 0.01801135 & 1.000000000 & 0.006980477\\\\\n",
       "\tWSTARR & 0.999303235 & 0.325367036 & 0.005391426 & 0.01218538 & 0.27728708 & 0.006980477 & 1.000000000\\\\\n",
       "\\end{tabular}\n"
      ],
      "text/markdown": [
       "\n",
       "A matrix: 7 × 7 of type dbl\n",
       "\n",
       "| <!--/--> | ASTARR | CRISPRi-Growth | CRISPRi-HCRFF | ENCODE-E2G_Benchmark | LMPRA | TMPRA | WSTARR |\n",
       "|---|---|---|---|---|---|---|---|\n",
       "| ASTARR | 1.000000000 | 0.325250152 | 0.005387887 | 0.01218149 | 0.27717237 | 0.006975896 | 0.999303235 |\n",
       "| CRISPRi-Growth | 0.325250152 | 1.000000000 | 0.006883790 | 0.03504194 | 0.56851742 | 0.008708273 | 0.325367036 |\n",
       "| CRISPRi-HCRFF | 0.005387887 | 0.006883790 | 1.000000000 | 0.04154659 | 0.01041561 | 0.261157025 | 0.005391426 |\n",
       "| ENCODE-E2G_Benchmark | 0.012181487 | 0.035041938 | 0.041546590 | 1.00000000 | 0.03759497 | 0.042318713 | 0.012185383 |\n",
       "| LMPRA | 0.277172372 | 0.568517425 | 0.010415610 | 0.03759497 | 1.00000000 | 0.018011350 | 0.277287080 |\n",
       "| TMPRA | 0.006975896 | 0.008708273 | 0.261157025 | 0.04231871 | 0.01801135 | 1.000000000 | 0.006980477 |\n",
       "| WSTARR | 0.999303235 | 0.325367036 | 0.005391426 | 0.01218538 | 0.27728708 | 0.006980477 | 1.000000000 |\n",
       "\n"
      ],
      "text/plain": [
       "                     ASTARR      CRISPRi-Growth CRISPRi-HCRFF\n",
       "ASTARR               1.000000000 0.325250152    0.005387887  \n",
       "CRISPRi-Growth       0.325250152 1.000000000    0.006883790  \n",
       "CRISPRi-HCRFF        0.005387887 0.006883790    1.000000000  \n",
       "ENCODE-E2G_Benchmark 0.012181487 0.035041938    0.041546590  \n",
       "LMPRA                0.277172372 0.568517425    0.010415610  \n",
       "TMPRA                0.006975896 0.008708273    0.261157025  \n",
       "WSTARR               0.999303235 0.325367036    0.005391426  \n",
       "                     ENCODE-E2G_Benchmark LMPRA      TMPRA       WSTARR     \n",
       "ASTARR               0.01218149           0.27717237 0.006975896 0.999303235\n",
       "CRISPRi-Growth       0.03504194           0.56851742 0.008708273 0.325367036\n",
       "CRISPRi-HCRFF        0.04154659           0.01041561 0.261157025 0.005391426\n",
       "ENCODE-E2G_Benchmark 1.00000000           0.03759497 0.042318713 0.012185383\n",
       "LMPRA                0.03759497           1.00000000 0.018011350 0.277287080\n",
       "TMPRA                0.04231871           0.01801135 1.000000000 0.006980477\n",
       "WSTARR               0.01218538           0.27728708 0.006980477 1.000000000"
      ]
     },
     "metadata": {},
     "output_type": "display_data"
    }
   ],
   "source": [
    "dat = dat_summary\n",
    "dat = dat %>% \n",
    "    dplyr::mutate(Value = as.double(Jaccard)) %>% \n",
    "    dplyr::filter(V1 != \"ENCODE-E2G_Prediction\", V2 != \"ENCODE-E2G_Prediction\") %>%\n",
    "    dplyr::select(V1, V2, Value)\n",
    "\n",
    "mat = dat %>% \n",
    "    tidyr::spread(V2, Value) %>% \n",
    "    column_to_rownames(\"V1\") %>% \n",
    "    as.matrix\n",
    "\n",
    "mat_score_pairwise = mat\n",
    "mat"
   ]
  },
  {
   "cell_type": "code",
   "execution_count": 74,
   "id": "bfc7f0c3-dc72-4516-afdf-1377198ec275",
   "metadata": {},
   "outputs": [],
   "source": [
    "mat = mat_score_pairwise\n",
    "\n",
    "paletteLength <- 50\n",
    "#myColor <- colorRampPalette(c(\"#abd9e9\", \"white\", \"#d73027\"))(paletteLength)\n",
    "#myBreaks <- c(seq(-0.1, 0, length.out=ceiling(paletteLength/2) + 1), \n",
    "#              seq(1/paletteLength, 1, length.out=floor(paletteLength/2)))\n",
    "\n",
    "num      = 1\n",
    "myColor  = colorRampPalette(c(\"white\", \"#d73027\"))(paletteLength)\n",
    "myBreaks = seq(0, num, length.out=paletteLength)"
   ]
  },
  {
   "cell_type": "code",
   "execution_count": 75,
   "id": "0695f4f0-faf8-490a-9802-c3ecaaac749e",
   "metadata": {},
   "outputs": [
    {
     "data": {
      "image/png": "[encoded data removed]",
      "text/plain": [
       "plot without title"
      ]
     },
     "metadata": {
      "image/png": {
       "height": 420,
       "width": 420
      }
     },
     "output_type": "display_data"
    }
   ],
   "source": [
    "mat = mat_score_pairwise\n",
    "pheatmap(\n",
    "    mat,\n",
    "    color=myColor, \n",
    "    breaks=myBreaks\n",
    ")"
   ]
  },
  {
   "cell_type": "code",
   "execution_count": null,
   "id": "26430b5d-9fd2-4432-a55e-7b61d839a915",
   "metadata": {},
   "outputs": [],
   "source": []
  },
  {
   "cell_type": "code",
   "execution_count": 76,
   "id": "42718648-cae1-41b0-a101-ab4afaeae04f",
   "metadata": {},
   "outputs": [
    {
     "data": {
      "text/html": [
       "<table class=\"dataframe\">\n",
       "<caption>A matrix: 7 × 7 of type dbl</caption>\n",
       "<thead>\n",
       "\t<tr><th></th><th scope=col>ASTARR</th><th scope=col>CRISPRi-Growth</th><th scope=col>CRISPRi-HCRFF</th><th scope=col>ENCODE-E2G_Benchmark</th><th scope=col>LMPRA</th><th scope=col>TMPRA</th><th scope=col>WSTARR</th></tr>\n",
       "</thead>\n",
       "<tbody>\n",
       "\t<tr><th scope=row>ASTARR</th><td>1.0000000</td><td>1.0000000</td><td>1.0000000</td><td>1.0000000</td><td>1.0000000</td><td>1.0000000</td><td>0.9999797</td></tr>\n",
       "\t<tr><th scope=row>CRISPRi-Growth</th><td>1.0000000</td><td>1.0000000</td><td>0.4195489</td><td>0.9378118</td><td>0.7877814</td><td>0.4111498</td><td>0.9997758</td></tr>\n",
       "\t<tr><th scope=row>CRISPRi-HCRFF</th><td>1.0000000</td><td>0.4195489</td><td>1.0000000</td><td>0.1300752</td><td>0.5406015</td><td>0.4751880</td><td>1.0000000</td></tr>\n",
       "\t<tr><th scope=row>ENCODE-E2G_Benchmark</th><td>1.0000000</td><td>0.9378118</td><td>0.1300752</td><td>1.0000000</td><td>0.8606585</td><td>0.1114983</td><td>0.9996674</td></tr>\n",
       "\t<tr><th scope=row>LMPRA</th><td>1.0000000</td><td>0.7877814</td><td>0.5406015</td><td>0.8606585</td><td>1.0000000</td><td>0.7206736</td><td>0.9998100</td></tr>\n",
       "\t<tr><th scope=row>TMPRA</th><td>1.0000000</td><td>0.4111498</td><td>0.4751880</td><td>0.1114983</td><td>0.7206736</td><td>1.0000000</td><td>1.0000000</td></tr>\n",
       "\t<tr><th scope=row>WSTARR</th><td>0.9999797</td><td>0.9997758</td><td>1.0000000</td><td>0.9996674</td><td>0.9998100</td><td>1.0000000</td><td>1.0000000</td></tr>\n",
       "</tbody>\n",
       "</table>\n"
      ],
      "text/latex": [
       "A matrix: 7 × 7 of type dbl\n",
       "\\begin{tabular}{r|lllllll}\n",
       "  & ASTARR & CRISPRi-Growth & CRISPRi-HCRFF & ENCODE-E2G\\_Benchmark & LMPRA & TMPRA & WSTARR\\\\\n",
       "\\hline\n",
       "\tASTARR & 1.0000000 & 1.0000000 & 1.0000000 & 1.0000000 & 1.0000000 & 1.0000000 & 0.9999797\\\\\n",
       "\tCRISPRi-Growth & 1.0000000 & 1.0000000 & 0.4195489 & 0.9378118 & 0.7877814 & 0.4111498 & 0.9997758\\\\\n",
       "\tCRISPRi-HCRFF & 1.0000000 & 0.4195489 & 1.0000000 & 0.1300752 & 0.5406015 & 0.4751880 & 1.0000000\\\\\n",
       "\tENCODE-E2G\\_Benchmark & 1.0000000 & 0.9378118 & 0.1300752 & 1.0000000 & 0.8606585 & 0.1114983 & 0.9996674\\\\\n",
       "\tLMPRA & 1.0000000 & 0.7877814 & 0.5406015 & 0.8606585 & 1.0000000 & 0.7206736 & 0.9998100\\\\\n",
       "\tTMPRA & 1.0000000 & 0.4111498 & 0.4751880 & 0.1114983 & 0.7206736 & 1.0000000 & 1.0000000\\\\\n",
       "\tWSTARR & 0.9999797 & 0.9997758 & 1.0000000 & 0.9996674 & 0.9998100 & 1.0000000 & 1.0000000\\\\\n",
       "\\end{tabular}\n"
      ],
      "text/markdown": [
       "\n",
       "A matrix: 7 × 7 of type dbl\n",
       "\n",
       "| <!--/--> | ASTARR | CRISPRi-Growth | CRISPRi-HCRFF | ENCODE-E2G_Benchmark | LMPRA | TMPRA | WSTARR |\n",
       "|---|---|---|---|---|---|---|---|\n",
       "| ASTARR | 1.0000000 | 1.0000000 | 1.0000000 | 1.0000000 | 1.0000000 | 1.0000000 | 0.9999797 |\n",
       "| CRISPRi-Growth | 1.0000000 | 1.0000000 | 0.4195489 | 0.9378118 | 0.7877814 | 0.4111498 | 0.9997758 |\n",
       "| CRISPRi-HCRFF | 1.0000000 | 0.4195489 | 1.0000000 | 0.1300752 | 0.5406015 | 0.4751880 | 1.0000000 |\n",
       "| ENCODE-E2G_Benchmark | 1.0000000 | 0.9378118 | 0.1300752 | 1.0000000 | 0.8606585 | 0.1114983 | 0.9996674 |\n",
       "| LMPRA | 1.0000000 | 0.7877814 | 0.5406015 | 0.8606585 | 1.0000000 | 0.7206736 | 0.9998100 |\n",
       "| TMPRA | 1.0000000 | 0.4111498 | 0.4751880 | 0.1114983 | 0.7206736 | 1.0000000 | 1.0000000 |\n",
       "| WSTARR | 0.9999797 | 0.9997758 | 1.0000000 | 0.9996674 | 0.9998100 | 1.0000000 | 1.0000000 |\n",
       "\n"
      ],
      "text/plain": [
       "                     ASTARR    CRISPRi-Growth CRISPRi-HCRFF\n",
       "ASTARR               1.0000000 1.0000000      1.0000000    \n",
       "CRISPRi-Growth       1.0000000 1.0000000      0.4195489    \n",
       "CRISPRi-HCRFF        1.0000000 0.4195489      1.0000000    \n",
       "ENCODE-E2G_Benchmark 1.0000000 0.9378118      0.1300752    \n",
       "LMPRA                1.0000000 0.7877814      0.5406015    \n",
       "TMPRA                1.0000000 0.4111498      0.4751880    \n",
       "WSTARR               0.9999797 0.9997758      1.0000000    \n",
       "                     ENCODE-E2G_Benchmark LMPRA     TMPRA     WSTARR   \n",
       "ASTARR               1.0000000            1.0000000 1.0000000 0.9999797\n",
       "CRISPRi-Growth       0.9378118            0.7877814 0.4111498 0.9997758\n",
       "CRISPRi-HCRFF        0.1300752            0.5406015 0.4751880 1.0000000\n",
       "ENCODE-E2G_Benchmark 1.0000000            0.8606585 0.1114983 0.9996674\n",
       "LMPRA                0.8606585            1.0000000 0.7206736 0.9998100\n",
       "TMPRA                0.1114983            0.7206736 1.0000000 1.0000000\n",
       "WSTARR               0.9996674            0.9998100 1.0000000 1.0000000"
      ]
     },
     "metadata": {},
     "output_type": "display_data"
    }
   ],
   "source": [
    "dat = dat_summary\n",
    "dat = dat %>% \n",
    "    dplyr::mutate(Value = as.double(Overlap)) %>% \n",
    "    dplyr::filter(V1 != \"ENCODE-E2G_Prediction\", V2 != \"ENCODE-E2G_Prediction\") %>%\n",
    "    dplyr::select(V1, V2, Value)\n",
    "\n",
    "mat = dat %>% \n",
    "    tidyr::spread(V2, Value) %>% \n",
    "    column_to_rownames(\"V1\") %>% \n",
    "    as.matrix\n",
    "\n",
    "mat_score_pairwise = mat\n",
    "mat"
   ]
  },
  {
   "cell_type": "code",
   "execution_count": 77,
   "id": "6f411981-9738-47f0-b44c-254e685d1314",
   "metadata": {},
   "outputs": [],
   "source": [
    "mat = mat_score_pairwise\n",
    "\n",
    "paletteLength <- 50\n",
    "#myColor <- colorRampPalette(c(\"#abd9e9\", \"white\", \"#d73027\"))(paletteLength)\n",
    "#myBreaks <- c(seq(-0.1, 0, length.out=ceiling(paletteLength/2) + 1), \n",
    "#              seq(1/paletteLength, 1, length.out=floor(paletteLength/2)))\n",
    "\n",
    "num      = 1\n",
    "myColor  = colorRampPalette(c(\"white\", \"#d73027\"))(paletteLength)\n",
    "myBreaks = seq(0, num, length.out=paletteLength)"
   ]
  },
  {
   "cell_type": "code",
   "execution_count": 78,
   "id": "8da59980-0df5-4489-8280-ea8fcada7ffe",
   "metadata": {},
   "outputs": [
    {
     "data": {
      "image/png": "[encoded data removed]",
      "text/plain": [
       "plot without title"
      ]
     },
     "metadata": {
      "image/png": {
       "height": 420,
       "width": 420
      }
     },
     "output_type": "display_data"
    }
   ],
   "source": [
    "mat = mat_score_pairwise\n",
    "pheatmap(\n",
    "    mat,\n",
    "    color=myColor, \n",
    "    breaks=myBreaks\n",
    ")"
   ]
  },
  {
   "cell_type": "code",
   "execution_count": null,
   "id": "59d740cb-e48b-4434-a323-e5d682745f48",
   "metadata": {},
   "outputs": [],
   "source": []
  },
  {
   "cell_type": "code",
   "execution_count": null,
   "id": "e5caaa9f-600c-448e-9959-5c75da13ccc2",
   "metadata": {},
   "outputs": [],
   "source": []
  }
 ],
 "metadata": {
  "kernelspec": {
   "display_name": "R",
   "language": "R",
   "name": "ir"
  },
  "language_info": {
   "codemirror_mode": "r",
   "file_extension": ".r",
   "mimetype": "text/x-r-source",
   "name": "R",
   "pygments_lexer": "r",
   "version": "4.3.1"
  }
 },
 "nbformat": 4,
 "nbformat_minor": 5
}
