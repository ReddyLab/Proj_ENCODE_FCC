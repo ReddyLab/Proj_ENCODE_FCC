{
 "cells": [
  {
   "cell_type": "markdown",
   "metadata": {},
   "source": [
    "**Set environment**"
   ]
  },
  {
   "cell_type": "code",
   "execution_count": 1,
   "metadata": {},
   "outputs": [
    {
     "name": "stdout",
     "output_type": "stream",
     "text": [
      "You are in Singularity: singularity_proj_encode_fcc \n",
      "BASE DIRECTORY (FD_BASE): /data/reddylab/Kuei \n",
      "WORK DIRECTORY (FD_WORK): /data/reddylab/Kuei/out \n",
      "CODE DIRECTORY (FD_CODE): /data/reddylab/Kuei/code \n",
      "PATH OF PROJECT (FD_PRJ): /data/reddylab/Kuei/code/Proj_CombEffect_ENCODE_FCC \n",
      "PATH OF RESULTS (FD_RES): /data/reddylab/Kuei/out/proj_combeffect_encode_fcc \n",
      "PATH OF LOG     (FD_LOG): /data/reddylab/Kuei/out/proj_combeffect_encode_fcc/log \n"
     ]
    }
   ],
   "source": [
    "suppressMessages(suppressWarnings(source(\"../config/config_sing.R\")))\n",
    "show_env()"
   ]
  },
  {
   "cell_type": "markdown",
   "metadata": {},
   "source": [
    "**Check data files: annotation**"
   ]
  },
  {
   "cell_type": "code",
   "execution_count": 2,
   "metadata": {},
   "outputs": [
    {
     "name": "stdout",
     "output_type": "stream",
     "text": [
      "[1] \"peak.screened.atac.active.tsv\"\n",
      "[1] \"peak.screened.atac.quantile.tsv\"\n",
      "[1] \"peak.screened.atac.total.tsv\"\n",
      "[1] \"peak.screened.fcc.active.tsv\"\n",
      "[1] \"peak.screened.fcc.inactive.tsv\"\n",
      "[1] \"peak.screened.fcc.total.tsv\"\n",
      "[1] \"peak.summary.ccre_v3.tsv\"\n",
      "[1] \"peak.summary.ccre_v4.tsv\"\n",
      "[1] \"peak.summary.chipseq_histone.tsv\"\n",
      "[1] \"peak.summary.chipseq_tf_subset.tsv\"\n",
      "[1] \"peak.summary.chipseq_tf.tsv\"\n",
      "[1] \"peak.summary.chromHMM.tsv\"\n",
      "[1] \"peak.summary.crispri_growth.dhs.active.tsv\"\n",
      "[1] \"peak.summary.crispri_hcrff.casa.tsv\"\n",
      "[1] \"peak.summary.encode_e2g_benchmark.total.tsv\"\n",
      "[1] \"peak.summary.encode_e2g_benchmark.tsv\"\n",
      "[1] \"peak.summary.encode_e2g_prediction.total.tsv\"\n",
      "[1] \"peak.summary.encode_e2g_prediction.tsv\"\n",
      "[1] \"peak.summary.enhancer_zscore_junke.ASTARR_A.tsv\"\n",
      "[1] \"peak.summary.enhancer_zscore_junke.ASTARR_AB.tsv\"\n",
      "[1] \"peak.summary.enhancer_zscore_junke.ASTARR_R.tsv\"\n",
      "[1] \"peak.summary.enhancer_zscore_junke.ASTARR.tsv\"\n",
      "[1] \"peak.summary.enhancer_zscore_junke.LMPRA_A.tsv\"\n",
      "[1] \"peak.summary.enhancer_zscore_junke.LMPRA_AB.tsv\"\n",
      "[1] \"peak.summary.enhancer_zscore_junke.LMPRA_R.tsv\"\n",
      "[1] \"peak.summary.enhancer_zscore_junke.LMPRA.tsv\"\n",
      "[1] \"peak.summary.enhancer_zscore_junke.STARRMPRA.tsv\"\n",
      "[1] \"peak.summary.enhancer_zscore_junke.TMPRA_A.tsv\"\n",
      "[1] \"peak.summary.enhancer_zscore_junke.TMPRA_R.tsv\"\n",
      "[1] \"peak.summary.enhancer_zscore_junke.TMPRA.tsv\"\n",
      "[1] \"peak.summary.enhancer_zscore_junke.WSTARR_A.tsv\"\n",
      "[1] \"peak.summary.enhancer_zscore_junke.WSTARR_AB.tsv\"\n",
      "[1] \"peak.summary.enhancer_zscore_junke.WSTARR_R.tsv\"\n",
      "[1] \"peak.summary.enhancer_zscore_junke.WSTARR.tsv\"\n",
      "[1] \"peak.summary.tss_pol2_rnaseq.tsv\"\n",
      "[1] \"peak.summary.tss_pol2.tsv\"\n"
     ]
    }
   ],
   "source": [
    "fdiry  = file.path(\n",
    "    FD_RES, \n",
    "    \"results\",\n",
    "    \"region\",\n",
    "    \"KS91_K562_ASTARRseq_peak_macs_input\",\n",
    "    \"summary\"\n",
    ")\n",
    "for(fname in dir(fdiry)){print(fname)}"
   ]
  },
  {
   "cell_type": "code",
   "execution_count": 7,
   "metadata": {},
   "outputs": [
    {
     "name": "stdout",
     "output_type": "stream",
     "text": [
      " [1] \"peak.summary.enhancer_zscore_junke.ASTARR_AB.tsv\"\n",
      " [2] \"peak.summary.enhancer_zscore_junke.ASTARR_A.tsv\" \n",
      " [3] \"peak.summary.enhancer_zscore_junke.ASTARR_R.tsv\" \n",
      " [4] \"peak.summary.enhancer_zscore_junke.WSTARR_AB.tsv\"\n",
      " [5] \"peak.summary.enhancer_zscore_junke.WSTARR_A.tsv\" \n",
      " [6] \"peak.summary.enhancer_zscore_junke.WSTARR_R.tsv\" \n",
      " [7] \"peak.summary.enhancer_zscore_junke.TMPRA_A.tsv\"  \n",
      " [8] \"peak.summary.enhancer_zscore_junke.TMPRA_R.tsv\"  \n",
      " [9] \"peak.summary.enhancer_zscore_junke.LMPRA_AB.tsv\" \n",
      "[10] \"peak.summary.enhancer_zscore_junke.LMPRA_A.tsv\"  \n",
      "[11] \"peak.summary.enhancer_zscore_junke.LMPRA_R.tsv\"  \n",
      "[12] \"peak.summary.crispri_growth.dhs.active.tsv\"      \n",
      "[13] \"peak.summary.crispri_hcrff.casa.tsv\"             \n",
      "[14] \"peak.summary.encode_e2g_benchmark.active.tsv\"    \n",
      "[15] \"peak.summary.encode_e2g_prediction.active.tsv\"   \n"
     ]
    }
   ],
   "source": [
    "### set file directory\n",
    "fdiry  = file.path(\n",
    "    FD_RES, \n",
    "    \"results\",\n",
    "    \"region\",\n",
    "    \"KS91_K562_ASTARRseq_peak_macs_input\",\n",
    "    \"summary\"\n",
    ")\n",
    "\n",
    "### STARR/MPRA\n",
    "vec = c(\"ASTARR\", \"WSTARR\", \"TMPRA\", \"LMPRA\")\n",
    "vec = paste0(vec, \"_\")\n",
    "\n",
    "### add CRISPR\n",
    "vec = c(vec, \"crispri\", \"encode_e2g*active\")\n",
    "\n",
    "### set globbing\n",
    "vec    = paste0(\"*\", vec, \"*\")\n",
    "fname  = paste(\"peak\", \"summary\", vec, \"tsv\", sep=\".\")\n",
    "fglob  = file.path(fdiry, fname)\n",
    "\n",
    "### get files\n",
    "fpaths = Sys.glob(fglob)\n",
    "fnames = basename(fpaths)\n",
    "print(fnames)"
   ]
  },
  {
   "cell_type": "markdown",
   "metadata": {},
   "source": [
    "## Import data"
   ]
  },
  {
   "cell_type": "code",
   "execution_count": 8,
   "metadata": {},
   "outputs": [
    {
     "name": "stdout",
     "output_type": "stream",
     "text": [
      "\u001b[90m# A tibble: 3 × 7\u001b[39m\n",
      "  Peak                 Annotation      Label     Count Region        Score Note \n",
      "  \u001b[3m\u001b[90m<chr>\u001b[39m\u001b[23m                \u001b[3m\u001b[90m<chr>\u001b[39m\u001b[23m           \u001b[3m\u001b[90m<chr>\u001b[39m\u001b[23m     \u001b[3m\u001b[90m<dbl>\u001b[39m\u001b[23m \u001b[3m\u001b[90m<chr>\u001b[39m\u001b[23m         \u001b[3m\u001b[90m<dbl>\u001b[39m\u001b[23m \u001b[3m\u001b[90m<chr>\u001b[39m\u001b[23m\n",
      "\u001b[90m1\u001b[39m chr1:1012902-1014502 Enhancer_ZScore ASTARR_AB     1 chr1:1013020…  2.18 ASTA…\n",
      "\u001b[90m2\u001b[39m chr1:1723926-1724986 Enhancer_ZScore ASTARR_AB     1 chr1:1724540…  2.15 ASTA…\n",
      "\u001b[90m3\u001b[39m chr1:2289710-2291474 Enhancer_ZScore ASTARR_AB     1 chr1:2290700…  2.39 ASTA…\n",
      "\u001b[90m# A tibble: 3 × 7\u001b[39m\n",
      "  Peak                 Annotation      Label    Count Region         Score Note \n",
      "  \u001b[3m\u001b[90m<chr>\u001b[39m\u001b[23m                \u001b[3m\u001b[90m<chr>\u001b[39m\u001b[23m           \u001b[3m\u001b[90m<chr>\u001b[39m\u001b[23m    \u001b[3m\u001b[90m<dbl>\u001b[39m\u001b[23m \u001b[3m\u001b[90m<chr>\u001b[39m\u001b[23m          \u001b[3m\u001b[90m<dbl>\u001b[39m\u001b[23m \u001b[3m\u001b[90m<chr>\u001b[39m\u001b[23m\n",
      "\u001b[90m1\u001b[39m chr1:777949-779437   Enhancer_ZScore ASTARR_A     1 chr1:778720-7…  2.01 ASTA…\n",
      "\u001b[90m2\u001b[39m chr1:1012902-1014502 Enhancer_ZScore ASTARR_A     1 chr1:1013010-…  2.16 ASTA…\n",
      "\u001b[90m3\u001b[39m chr1:1063757-1064554 Enhancer_ZScore ASTARR_A     1 chr1:1064280-…  2.20 ASTA…\n",
      "\u001b[90m# A tibble: 3 × 7\u001b[39m\n",
      "  Peak               Annotation      Label    Count Region           Score Note \n",
      "  \u001b[3m\u001b[90m<chr>\u001b[39m\u001b[23m              \u001b[3m\u001b[90m<chr>\u001b[39m\u001b[23m           \u001b[3m\u001b[90m<chr>\u001b[39m\u001b[23m    \u001b[3m\u001b[90m<dbl>\u001b[39m\u001b[23m \u001b[3m\u001b[90m<chr>\u001b[39m\u001b[23m            \u001b[3m\u001b[90m<dbl>\u001b[39m\u001b[23m \u001b[3m\u001b[90m<chr>\u001b[39m\u001b[23m\n",
      "\u001b[90m1\u001b[39m chr1:136071-137429 Enhancer_ZScore ASTARR_R     2 chr1:136520-136… -\u001b[31m1\u001b[39m\u001b[31m.\u001b[39m\u001b[31m51\u001b[39m ASTA…\n",
      "\u001b[90m2\u001b[39m chr1:180982-182087 Enhancer_ZScore ASTARR_R     1 chr1:181600-181… -\u001b[31m1\u001b[39m\u001b[31m.\u001b[39m\u001b[31m91\u001b[39m ASTA…\n",
      "\u001b[90m3\u001b[39m chr1:826754-828040 Enhancer_ZScore ASTARR_R     2 chr1:827060-827… -\u001b[31m1\u001b[39m\u001b[31m.\u001b[39m\u001b[31m93\u001b[39m ASTA…\n",
      "\u001b[90m# A tibble: 3 × 7\u001b[39m\n",
      "  Peak               Annotation      Label     Count Region          Score Note \n",
      "  \u001b[3m\u001b[90m<chr>\u001b[39m\u001b[23m              \u001b[3m\u001b[90m<chr>\u001b[39m\u001b[23m           \u001b[3m\u001b[90m<chr>\u001b[39m\u001b[23m     \u001b[3m\u001b[90m<dbl>\u001b[39m\u001b[23m \u001b[3m\u001b[90m<chr>\u001b[39m\u001b[23m           \u001b[3m\u001b[90m<dbl>\u001b[39m\u001b[23m \u001b[3m\u001b[90m<chr>\u001b[39m\u001b[23m\n",
      "\u001b[90m1\u001b[39m chr1:777949-779437 Enhancer_ZScore WSTARR_AB     1 chr1:778420-77…  3.13 WSTA…\n",
      "\u001b[90m2\u001b[39m chr1:826754-828040 Enhancer_ZScore WSTARR_AB     1 chr1:827430-82…  2.52 WSTA…\n",
      "\u001b[90m3\u001b[39m chr1:958685-959974 Enhancer_ZScore WSTARR_AB     1 chr1:959270-95…  3.27 WSTA…\n",
      "\u001b[90m# A tibble: 3 × 7\u001b[39m\n",
      "  Peak               Annotation      Label    Count Region           Score Note \n",
      "  \u001b[3m\u001b[90m<chr>\u001b[39m\u001b[23m              \u001b[3m\u001b[90m<chr>\u001b[39m\u001b[23m           \u001b[3m\u001b[90m<chr>\u001b[39m\u001b[23m    \u001b[3m\u001b[90m<dbl>\u001b[39m\u001b[23m \u001b[3m\u001b[90m<chr>\u001b[39m\u001b[23m            \u001b[3m\u001b[90m<dbl>\u001b[39m\u001b[23m \u001b[3m\u001b[90m<chr>\u001b[39m\u001b[23m\n",
      "\u001b[90m1\u001b[39m chr1:183239-184602 Enhancer_ZScore WSTARR_A     1 chr1:184330-184…  2.68 WSTA…\n",
      "\u001b[90m2\u001b[39m chr1:777949-779437 Enhancer_ZScore WSTARR_A     1 chr1:778400-779…  3.07 WSTA…\n",
      "\u001b[90m3\u001b[39m chr1:818602-819380 Enhancer_ZScore WSTARR_A     1 chr1:818780-818…  2.13 WSTA…\n",
      "\u001b[90m# A tibble: 3 × 7\u001b[39m\n",
      "  Peak                 Annotation      Label    Count Region         Score Note \n",
      "  \u001b[3m\u001b[90m<chr>\u001b[39m\u001b[23m                \u001b[3m\u001b[90m<chr>\u001b[39m\u001b[23m           \u001b[3m\u001b[90m<chr>\u001b[39m\u001b[23m    \u001b[3m\u001b[90m<dbl>\u001b[39m\u001b[23m \u001b[3m\u001b[90m<chr>\u001b[39m\u001b[23m          \u001b[3m\u001b[90m<dbl>\u001b[39m\u001b[23m \u001b[3m\u001b[90m<chr>\u001b[39m\u001b[23m\n",
      "\u001b[90m1\u001b[39m chr1:975970-976672   Enhancer_ZScore WSTARR_R     1 chr1:975940-9… -\u001b[31m3\u001b[39m\u001b[31m.\u001b[39m\u001b[31m0\u001b[39m\u001b[31m9\u001b[39m WSTA…\n",
      "\u001b[90m2\u001b[39m chr1:1019188-1021736 Enhancer_ZScore WSTARR_R     1 chr1:1019860-… -\u001b[31m3\u001b[39m\u001b[31m.\u001b[39m\u001b[31m25\u001b[39m WSTA…\n",
      "\u001b[90m3\u001b[39m chr1:1097152-1097491 Enhancer_ZScore WSTARR_R     1 chr1:1097290-… -\u001b[31m3\u001b[39m\u001b[31m.\u001b[39m\u001b[31m61\u001b[39m WSTA…\n",
      "\u001b[90m# A tibble: 3 × 7\u001b[39m\n",
      "  Peak                  Annotation      Label   Count Region         Score Note \n",
      "  \u001b[3m\u001b[90m<chr>\u001b[39m\u001b[23m                 \u001b[3m\u001b[90m<chr>\u001b[39m\u001b[23m           \u001b[3m\u001b[90m<chr>\u001b[39m\u001b[23m   \u001b[3m\u001b[90m<dbl>\u001b[39m\u001b[23m \u001b[3m\u001b[90m<chr>\u001b[39m\u001b[23m          \u001b[3m\u001b[90m<dbl>\u001b[39m\u001b[23m \u001b[3m\u001b[90m<chr>\u001b[39m\u001b[23m\n",
      "\u001b[90m1\u001b[39m chr11:4551336-4552012 Enhancer_ZScore TMPRA_A     1 chr11:4551601…  2.67 TMPR…\n",
      "\u001b[90m2\u001b[39m chr11:4553969-4555012 Enhancer_ZScore TMPRA_A     2 chr11:4554201…  4.03 TMPR…\n",
      "\u001b[90m3\u001b[39m chr11:4607676-4608647 Enhancer_ZScore TMPRA_A     2 chr11:4607701…  4.27 TMPR…\n",
      "\u001b[90m# A tibble: 3 × 7\u001b[39m\n",
      "  Peak                    Annotation      Label   Count Region       Score Note \n",
      "  \u001b[3m\u001b[90m<chr>\u001b[39m\u001b[23m                   \u001b[3m\u001b[90m<chr>\u001b[39m\u001b[23m           \u001b[3m\u001b[90m<chr>\u001b[39m\u001b[23m   \u001b[3m\u001b[90m<dbl>\u001b[39m\u001b[23m \u001b[3m\u001b[90m<chr>\u001b[39m\u001b[23m        \u001b[3m\u001b[90m<dbl>\u001b[39m\u001b[23m \u001b[3m\u001b[90m<chr>\u001b[39m\u001b[23m\n",
      "\u001b[90m1\u001b[39m chr11:5419055-5419669   Enhancer_ZScore TMPRA_R     1 chr11:54194… -\u001b[31m5\u001b[39m\u001b[31m.\u001b[39m\u001b[31m27\u001b[39m TMPR…\n",
      "\u001b[90m2\u001b[39m chr11:61567108-61567997 Enhancer_ZScore TMPRA_R     2 chr11:61567… -\u001b[31m3\u001b[39m\u001b[31m.\u001b[39m\u001b[31m39\u001b[39m TMPR…\n",
      "\u001b[90m3\u001b[39m chr11:61587170-61588742 Enhancer_ZScore TMPRA_R     1 chr11:61587… -\u001b[31m3\u001b[39m\u001b[31m.\u001b[39m\u001b[31m87\u001b[39m TMPR…\n",
      "\u001b[90m# A tibble: 3 × 7\u001b[39m\n",
      "  Peak               Annotation      Label    Count Region           Score Note \n",
      "  \u001b[3m\u001b[90m<chr>\u001b[39m\u001b[23m              \u001b[3m\u001b[90m<chr>\u001b[39m\u001b[23m           \u001b[3m\u001b[90m<chr>\u001b[39m\u001b[23m    \u001b[3m\u001b[90m<dbl>\u001b[39m\u001b[23m \u001b[3m\u001b[90m<chr>\u001b[39m\u001b[23m            \u001b[3m\u001b[90m<dbl>\u001b[39m\u001b[23m \u001b[3m\u001b[90m<chr>\u001b[39m\u001b[23m\n",
      "\u001b[90m1\u001b[39m chr1:903633-905556 Enhancer_ZScore LMPRA_AB     1 chr1:904350-904…  2.49 LMPR…\n",
      "\u001b[90m2\u001b[39m chr1:940325-943460 Enhancer_ZScore LMPRA_AB     1 chr1:941699-941…  2.23 LMPR…\n",
      "\u001b[90m3\u001b[39m chr1:958685-959974 Enhancer_ZScore LMPRA_AB     1 chr1:959200-959…  4.68 LMPR…\n",
      "\u001b[90m# A tibble: 3 × 7\u001b[39m\n",
      "  Peak               Annotation      Label   Count Region            Score Note \n",
      "  \u001b[3m\u001b[90m<chr>\u001b[39m\u001b[23m              \u001b[3m\u001b[90m<chr>\u001b[39m\u001b[23m           \u001b[3m\u001b[90m<chr>\u001b[39m\u001b[23m   \u001b[3m\u001b[90m<dbl>\u001b[39m\u001b[23m \u001b[3m\u001b[90m<chr>\u001b[39m\u001b[23m             \u001b[3m\u001b[90m<dbl>\u001b[39m\u001b[23m \u001b[3m\u001b[90m<chr>\u001b[39m\u001b[23m\n",
      "\u001b[90m1\u001b[39m chr1:777949-779437 Enhancer_ZScore LMPRA_A     1 chr1:778638-7788…  6.19 LMPR…\n",
      "\u001b[90m2\u001b[39m chr1:826754-828040 Enhancer_ZScore LMPRA_A     1 chr1:827431-8276…  7.10 LMPR…\n",
      "\u001b[90m3\u001b[39m chr1:842480-843449 Enhancer_ZScore LMPRA_A     1 chr1:842870-8430…  2.92 LMPR…\n",
      "\u001b[90m# A tibble: 3 × 7\u001b[39m\n",
      "  Peak                 Annotation      Label   Count Region          Score Note \n",
      "  \u001b[3m\u001b[90m<chr>\u001b[39m\u001b[23m                \u001b[3m\u001b[90m<chr>\u001b[39m\u001b[23m           \u001b[3m\u001b[90m<chr>\u001b[39m\u001b[23m   \u001b[3m\u001b[90m<dbl>\u001b[39m\u001b[23m \u001b[3m\u001b[90m<chr>\u001b[39m\u001b[23m           \u001b[3m\u001b[90m<dbl>\u001b[39m\u001b[23m \u001b[3m\u001b[90m<chr>\u001b[39m\u001b[23m\n",
      "\u001b[90m1\u001b[39m chr1:1005089-1005593 Enhancer_ZScore LMPRA_R     1 chr1:1005270-1… -\u001b[31m1\u001b[39m\u001b[31m.\u001b[39m\u001b[31m99\u001b[39m LMPR…\n",
      "\u001b[90m2\u001b[39m chr1:1079405-1080672 Enhancer_ZScore LMPRA_R     1 chr1:1079756-1… -\u001b[31m3\u001b[39m\u001b[31m.\u001b[39m\u001b[31m0\u001b[39m\u001b[31m9\u001b[39m LMPR…\n",
      "\u001b[90m3\u001b[39m chr1:1121788-1122529 Enhancer_ZScore LMPRA_R     1 chr1:1122182-1… -\u001b[31m2\u001b[39m\u001b[31m.\u001b[39m\u001b[31m0\u001b[39m\u001b[31m1\u001b[39m LMPR…\n",
      "\u001b[90m# A tibble: 3 × 7\u001b[39m\n",
      "  Peak                 Annotation Label          Count Region        Score Note \n",
      "  \u001b[3m\u001b[90m<chr>\u001b[39m\u001b[23m                \u001b[3m\u001b[90m<chr>\u001b[39m\u001b[23m      \u001b[3m\u001b[90m<chr>\u001b[39m\u001b[23m          \u001b[3m\u001b[90m<dbl>\u001b[39m\u001b[23m \u001b[3m\u001b[90m<chr>\u001b[39m\u001b[23m         \u001b[3m\u001b[90m<dbl>\u001b[39m\u001b[23m \u001b[3m\u001b[90m<chr>\u001b[39m\u001b[23m\n",
      "\u001b[90m1\u001b[39m chr1:605090-605823   CRISPRi    CRISPRi_Growth     1 chr1:605550… -\u001b[31m0\u001b[39m\u001b[31m.\u001b[39m\u001b[31m986\u001b[39m CRIS…\n",
      "\u001b[90m2\u001b[39m chr1:826754-828040   CRISPRi    CRISPRi_Growth     1 chr1:826642…  0.186 CRIS…\n",
      "\u001b[90m3\u001b[39m chr1:1067955-1068196 CRISPRi    CRISPRi_Growth     1 chr1:106792… -\u001b[31m0\u001b[39m\u001b[31m.\u001b[39m\u001b[31m338\u001b[39m CRIS…\n",
      "\u001b[90m# A tibble: 3 × 7\u001b[39m\n",
      "  Peak                  Annotation Label         Count Region        Score Note \n",
      "  \u001b[3m\u001b[90m<chr>\u001b[39m\u001b[23m                 \u001b[3m\u001b[90m<chr>\u001b[39m\u001b[23m      \u001b[3m\u001b[90m<chr>\u001b[39m\u001b[23m         \u001b[3m\u001b[90m<dbl>\u001b[39m\u001b[23m \u001b[3m\u001b[90m<chr>\u001b[39m\u001b[23m         \u001b[3m\u001b[90m<dbl>\u001b[39m\u001b[23m \u001b[3m\u001b[90m<chr>\u001b[39m\u001b[23m\n",
      "\u001b[90m1\u001b[39m chr11:5249943-5250880 CRISPRi    CRISPRi_HCRFF     2 chr11:524984…  1.91 HBG1…\n",
      "\u001b[90m2\u001b[39m chr11:5254190-5254453 CRISPRi    CRISPRi_HCRFF     2 chr11:525364…  1.47 HBG1…\n",
      "\u001b[90m3\u001b[39m chr11:5269440-5270695 CRISPRi    CRISPRi_HCRFF     1 chr11:526914…  1.91 HBE1 \n",
      "\u001b[90m# A tibble: 3 × 7\u001b[39m\n",
      "  Peak                   Annotation Label              Count Region  Score Note \n",
      "  \u001b[3m\u001b[90m<chr>\u001b[39m\u001b[23m                  \u001b[3m\u001b[90m<chr>\u001b[39m\u001b[23m      \u001b[3m\u001b[90m<chr>\u001b[39m\u001b[23m              \u001b[3m\u001b[90m<dbl>\u001b[39m\u001b[23m \u001b[3m\u001b[90m<chr>\u001b[39m\u001b[23m   \u001b[3m\u001b[90m<dbl>\u001b[39m\u001b[23m \u001b[3m\u001b[90m<chr>\u001b[39m\u001b[23m\n",
      "\u001b[90m1\u001b[39m chr1:3773953-3776305   ENCODE-E2G ENCODE-E2G_Benchm…     3 chr1:… -\u001b[31m0\u001b[39m\u001b[31m.\u001b[39m\u001b[31m366\u001b[39m Ulir…\n",
      "\u001b[90m2\u001b[39m chr1:8857749-8858710   ENCODE-E2G ENCODE-E2G_Benchm…     1 chr1:… -\u001b[31m0\u001b[39m\u001b[31m.\u001b[39m\u001b[31m107\u001b[39m Gasp…\n",
      "\u001b[90m3\u001b[39m chr1:25932957-25934403 ENCODE-E2G ENCODE-E2G_Benchm…     2 chr1:… -\u001b[31m0\u001b[39m\u001b[31m.\u001b[39m\u001b[31m103\u001b[39m Gasp…\n",
      "\u001b[90m# A tibble: 3 × 7\u001b[39m\n",
      "  Peak               Annotation Label                 Count Region   Score Note \n",
      "  \u001b[3m\u001b[90m<chr>\u001b[39m\u001b[23m              \u001b[3m\u001b[90m<chr>\u001b[39m\u001b[23m      \u001b[3m\u001b[90m<chr>\u001b[39m\u001b[23m                 \u001b[3m\u001b[90m<dbl>\u001b[39m\u001b[23m \u001b[3m\u001b[90m<chr>\u001b[39m\u001b[23m    \u001b[3m\u001b[90m<dbl>\u001b[39m\u001b[23m \u001b[3m\u001b[90m<chr>\u001b[39m\u001b[23m\n",
      "\u001b[90m1\u001b[39m chr1:115411-115986 ENCODE-E2G ENCODE-E2G_Prediction     1 chr1:11… 0.410 inte…\n",
      "\u001b[90m2\u001b[39m chr1:777949-779437 ENCODE-E2G ENCODE-E2G_Prediction     5 chr1:77… 0.788 prom…\n",
      "\u001b[90m3\u001b[39m chr1:816774-817547 ENCODE-E2G ENCODE-E2G_Prediction     3 chr1:81… 0.602 prom…\n"
     ]
    }
   ],
   "source": [
    "### set file directory\n",
    "fdiry  = file.path(\n",
    "    FD_RES, \n",
    "    \"results\",\n",
    "    \"region\",\n",
    "    \"KS91_K562_ASTARRseq_peak_macs_input\",\n",
    "    \"summary\"\n",
    ")\n",
    "\n",
    "### STARR/MPRA\n",
    "vec = c(\"ASTARR\", \"WSTARR\", \"TMPRA\", \"LMPRA\")\n",
    "vec = paste0(vec, \"_\")\n",
    "\n",
    "### add CRISPR\n",
    "vec = c(vec, \"crispri\", \"encode_e2g*active\")\n",
    "\n",
    "### set globbing\n",
    "vec    = paste0(\"*\", vec, \"*\")\n",
    "fname  = paste(\"peak\", \"summary\", vec, \"tsv\", sep=\".\")\n",
    "fglob  = file.path(fdiry, fname)\n",
    "\n",
    "### get files\n",
    "fpaths = Sys.glob(fglob)\n",
    "\n",
    "### import data\n",
    "lst = lapply(fpaths, function(fpath){\n",
    "    ### read table\n",
    "    dat = read_tsv(fpath, show_col_types = FALSE)\n",
    "    return(dat)\n",
    "})\n",
    "\n",
    "### assign and show\n",
    "lst_dat_peak_active = lst\n",
    "for (dat in lst){\n",
    "    print(head(dat, 3))\n",
    "}"
   ]
  },
  {
   "cell_type": "markdown",
   "metadata": {},
   "source": [
    "**Check results**"
   ]
  },
  {
   "cell_type": "code",
   "execution_count": 9,
   "metadata": {},
   "outputs": [
    {
     "name": "stdout",
     "output_type": "stream",
     "text": [
      " [1] \"chr1\"                    \"chr10\"                  \n",
      " [3] \"chr11\"                   \"chr12\"                  \n",
      " [5] \"chr13\"                   \"chr14\"                  \n",
      " [7] \"chr15\"                   \"chr16\"                  \n",
      " [9] \"chr17\"                   \"chr18\"                  \n",
      "[11] \"chr19\"                   \"chr2\"                   \n",
      "[13] \"chr20\"                   \"chr21\"                  \n",
      "[15] \"chr22\"                   \"chr3\"                   \n",
      "[17] \"chr4\"                    \"chr5\"                   \n",
      "[19] \"chr6\"                    \"chr7\"                   \n",
      "[21] \"chr8\"                    \"chr9\"                   \n",
      "[23] \"chrX\"                    \"chr14_GL000009v2_random\"\n",
      "[25] \"chr14_GL000194v1_random\" \"chr14_KI270726v1_random\"\n",
      "[27] \"chr15_KI270727v1_random\" \"chr16_KI270728v1_random\"\n",
      "[29] \"chr17_GL000205v2_random\" \"chr1_KI270706v1_random\" \n",
      "[31] \"chr1_KI270707v1_random\"  \"chr1_KI270709v1_random\" \n",
      "[33] \"chr1_KI270711v1_random\"  \"chr1_KI270713v1_random\" \n",
      "[35] \"chr1_KI270714v1_random\"  \"chr22_KI270731v1_random\"\n",
      "[37] \"chr22_KI270733v1_random\" \"chr9_KI270719v1_random\" \n",
      "[39] \"chrM\"                    \"chrUn_GL000195v1\"       \n",
      "[41] \"chrUn_GL000214v1\"        \"chrUn_GL000218v1\"       \n",
      "[43] \"chrUn_GL000219v1\"        \"chrUn_GL000220v1\"       \n",
      "[45] \"chrUn_GL000224v1\"        \"chrUn_KI270330v1\"       \n",
      "[47] \"chrUn_KI270438v1\"        \"chrUn_KI270442v1\"       \n",
      "[49] \"chrUn_KI270466v1\"        \"chrUn_KI270467v1\"       \n",
      "[51] \"chrUn_KI270742v1\"        \"chrUn_KI270743v1\"       \n",
      "[53] \"chrUn_KI270744v1\"        \"chrUn_KI270745v1\"       \n",
      "[55] \"chrUn_KI270751v1\"        \"chrUn_KI270754v1\"       \n",
      "[57] \"chr4_GL000008v2_random\" \n"
     ]
    }
   ],
   "source": [
    "lst = lst_dat_peak_active\n",
    "lst = lapply(lst, function(dat){\n",
    "    vec = dat$Peak\n",
    "    tmp = str_split(string = vec, pattern = \":\")\n",
    "    tmp = lapply(tmp, function(vec){vec[1]})\n",
    "    vec = unlist(tmp)\n",
    "    return(vec)\n",
    "})\n",
    "vec = unlist(lst)\n",
    "vec = unique(vec)\n",
    "print(vec)"
   ]
  },
  {
   "cell_type": "markdown",
   "metadata": {},
   "source": [
    "## Merge and get ATAC peaks"
   ]
  },
  {
   "cell_type": "code",
   "execution_count": 10,
   "metadata": {},
   "outputs": [
    {
     "name": "stdout",
     "output_type": "stream",
     "text": [
      "[1] 167127      6\n"
     ]
    },
    {
     "data": {
      "text/html": [
       "<table class=\"dataframe\">\n",
       "<caption>A tibble: 6 × 6</caption>\n",
       "<thead>\n",
       "\t<tr><th scope=col>Chrom</th><th scope=col>Start</th><th scope=col>End</th><th scope=col>Peak</th><th scope=col>Annotation</th><th scope=col>Label</th></tr>\n",
       "\t<tr><th scope=col>&lt;chr&gt;</th><th scope=col>&lt;chr&gt;</th><th scope=col>&lt;chr&gt;</th><th scope=col>&lt;chr&gt;</th><th scope=col>&lt;chr&gt;</th><th scope=col>&lt;chr&gt;</th></tr>\n",
       "</thead>\n",
       "<tbody>\n",
       "\t<tr><td>chr1</td><td>101198203</td><td>101199537</td><td>chr1:101198203-101199537</td><td>Enhancer_ZScore</td><td>ASTARR_AB</td></tr>\n",
       "\t<tr><td>chr1</td><td>1012902  </td><td>1014502  </td><td>chr1:1012902-1014502    </td><td>Enhancer_ZScore</td><td>ASTARR_AB</td></tr>\n",
       "\t<tr><td>chr1</td><td>109213422</td><td>109215054</td><td>chr1:109213422-109215054</td><td>Enhancer_ZScore</td><td>ASTARR_AB</td></tr>\n",
       "\t<tr><td>chr1</td><td>109218538</td><td>109219133</td><td>chr1:109218538-109219133</td><td>Enhancer_ZScore</td><td>ASTARR_AB</td></tr>\n",
       "\t<tr><td>chr1</td><td>109388963</td><td>109390708</td><td>chr1:109388963-109390708</td><td>Enhancer_ZScore</td><td>ASTARR_AB</td></tr>\n",
       "\t<tr><td>chr1</td><td>109476546</td><td>109477209</td><td>chr1:109476546-109477209</td><td>Enhancer_ZScore</td><td>ASTARR_AB</td></tr>\n",
       "</tbody>\n",
       "</table>\n"
      ],
      "text/latex": [
       "A tibble: 6 × 6\n",
       "\\begin{tabular}{llllll}\n",
       " Chrom & Start & End & Peak & Annotation & Label\\\\\n",
       " <chr> & <chr> & <chr> & <chr> & <chr> & <chr>\\\\\n",
       "\\hline\n",
       "\t chr1 & 101198203 & 101199537 & chr1:101198203-101199537 & Enhancer\\_ZScore & ASTARR\\_AB\\\\\n",
       "\t chr1 & 1012902   & 1014502   & chr1:1012902-1014502     & Enhancer\\_ZScore & ASTARR\\_AB\\\\\n",
       "\t chr1 & 109213422 & 109215054 & chr1:109213422-109215054 & Enhancer\\_ZScore & ASTARR\\_AB\\\\\n",
       "\t chr1 & 109218538 & 109219133 & chr1:109218538-109219133 & Enhancer\\_ZScore & ASTARR\\_AB\\\\\n",
       "\t chr1 & 109388963 & 109390708 & chr1:109388963-109390708 & Enhancer\\_ZScore & ASTARR\\_AB\\\\\n",
       "\t chr1 & 109476546 & 109477209 & chr1:109476546-109477209 & Enhancer\\_ZScore & ASTARR\\_AB\\\\\n",
       "\\end{tabular}\n"
      ],
      "text/markdown": [
       "\n",
       "A tibble: 6 × 6\n",
       "\n",
       "| Chrom &lt;chr&gt; | Start &lt;chr&gt; | End &lt;chr&gt; | Peak &lt;chr&gt; | Annotation &lt;chr&gt; | Label &lt;chr&gt; |\n",
       "|---|---|---|---|---|---|\n",
       "| chr1 | 101198203 | 101199537 | chr1:101198203-101199537 | Enhancer_ZScore | ASTARR_AB |\n",
       "| chr1 | 1012902   | 1014502   | chr1:1012902-1014502     | Enhancer_ZScore | ASTARR_AB |\n",
       "| chr1 | 109213422 | 109215054 | chr1:109213422-109215054 | Enhancer_ZScore | ASTARR_AB |\n",
       "| chr1 | 109218538 | 109219133 | chr1:109218538-109219133 | Enhancer_ZScore | ASTARR_AB |\n",
       "| chr1 | 109388963 | 109390708 | chr1:109388963-109390708 | Enhancer_ZScore | ASTARR_AB |\n",
       "| chr1 | 109476546 | 109477209 | chr1:109476546-109477209 | Enhancer_ZScore | ASTARR_AB |\n",
       "\n"
      ],
      "text/plain": [
       "  Chrom Start     End       Peak                     Annotation      Label    \n",
       "1 chr1  101198203 101199537 chr1:101198203-101199537 Enhancer_ZScore ASTARR_AB\n",
       "2 chr1  1012902   1014502   chr1:1012902-1014502     Enhancer_ZScore ASTARR_AB\n",
       "3 chr1  109213422 109215054 chr1:109213422-109215054 Enhancer_ZScore ASTARR_AB\n",
       "4 chr1  109218538 109219133 chr1:109218538-109219133 Enhancer_ZScore ASTARR_AB\n",
       "5 chr1  109388963 109390708 chr1:109388963-109390708 Enhancer_ZScore ASTARR_AB\n",
       "6 chr1  109476546 109477209 chr1:109476546-109477209 Enhancer_ZScore ASTARR_AB"
      ]
     },
     "metadata": {},
     "output_type": "display_data"
    }
   ],
   "source": [
    "### init\n",
    "lst = lst_dat_peak_active\n",
    "\n",
    "### get ATAC peaks\n",
    "lst = lapply(lst, function(dat){\n",
    "    dat = dat %>% \n",
    "        dplyr::select(Peak, Annotation, Label) %>%\n",
    "        tidyr::separate(Peak, c(\"Chrom\", \"Start\", \"End\"), sep = \":|-\", remove = FALSE) %>%\n",
    "        dplyr::arrange(Chrom, Start, End)\n",
    "    return(dat)\n",
    "})\n",
    "dat = bind_rows(lst)\n",
    "dat = dat %>% dplyr::select(Chrom, Start, End, Peak, Annotation, Label)\n",
    "\n",
    "### assign and show\n",
    "dat_peak_active = dat\n",
    "print(dim(dat))\n",
    "head(dat)"
   ]
  },
  {
   "cell_type": "markdown",
   "metadata": {},
   "source": [
    "**Show results**"
   ]
  },
  {
   "cell_type": "code",
   "execution_count": 11,
   "metadata": {},
   "outputs": [
    {
     "data": {
      "text/plain": [
       "\n",
       "        CRISPRi      ENCODE-E2G Enhancer_ZScore \n",
       "           4663           36025          126439 "
      ]
     },
     "metadata": {},
     "output_type": "display_data"
    }
   ],
   "source": [
    "dat = dat_peak_active\n",
    "table(dat$Annotation)"
   ]
  },
  {
   "cell_type": "code",
   "execution_count": 12,
   "metadata": {},
   "outputs": [
    {
     "data": {
      "text/plain": [
       "\n",
       "             ASTARR_A             ASTARR_AB              ASTARR_R \n",
       "                 7427                  2799                 11371 \n",
       "       CRISPRi_Growth         CRISPRi_HCRFF  ENCODE-E2G_Benchmark \n",
       "                 4609                    54                   353 \n",
       "ENCODE-E2G_Prediction               LMPRA_A              LMPRA_AB \n",
       "                35672                 32019                 22392 \n",
       "              LMPRA_R               TMPRA_A               TMPRA_R \n",
       "                  901                  1072                    21 \n",
       "             WSTARR_A             WSTARR_AB              WSTARR_R \n",
       "                30478                 13455                  4504 "
      ]
     },
     "metadata": {},
     "output_type": "display_data"
    }
   ],
   "source": [
    "dat = dat_peak_active\n",
    "table(dat$Label)"
   ]
  },
  {
   "cell_type": "code",
   "execution_count": 13,
   "metadata": {},
   "outputs": [
    {
     "data": {
      "text/plain": [
       "                         \n",
       "                          CRISPRi ENCODE-E2G Enhancer_ZScore\n",
       "  chr1                        505       3624           13600\n",
       "  chr1_KI270706v1_random        0          0               3\n",
       "  chr1_KI270707v1_random        0          0               1\n",
       "  chr1_KI270709v1_random        0          0               1\n",
       "  chr1_KI270711v1_random        0          0               1\n",
       "  chr1_KI270713v1_random        0          0               7\n",
       "  chr1_KI270714v1_random        0          0               5\n",
       "  chr10                       180       1540            5395\n",
       "  chr11                       286       2225            6893\n",
       "  chr12                       197       1633            5950\n",
       "  chr13                        65        667            1971\n",
       "  chr14                       136        943            3279\n",
       "  chr14_GL000009v2_random       0          0               2\n",
       "  chr14_GL000194v1_random       0          0               7\n",
       "  chr14_KI270726v1_random       0          0               1\n",
       "  chr15                       164       1115            3881\n",
       "  chr15_KI270727v1_random       0          0               1\n",
       "  chr16                       212       1384            5449\n",
       "  chr16_KI270728v1_random       0          0               2\n",
       "  chr17                       293       1840            6351\n",
       "  chr17_GL000205v2_random       0          0              20\n",
       "  chr18                        67        635            2044\n",
       "  chr19                       304       1924            7502\n",
       "  chr2                        328       2506            9356\n",
       "  chr20                       157       1043            3733\n",
       "  chr21                        62        477            1603\n",
       "  chr22                       124        777            3118\n",
       "  chr22_KI270731v1_random       0          0               1\n",
       "  chr22_KI270733v1_random       0          0              13\n",
       "  chr3                        247       2009            6831\n",
       "  chr4                        162       1236            4651\n",
       "  chr4_GL000008v2_random        1          0               0\n",
       "  chr5                        214       2367            6040\n",
       "  chr6                        231       2334            7510\n",
       "  chr7                        271       1962            7495\n",
       "  chr8                        170       1403            5091\n",
       "  chr9                        165       1286            4747\n",
       "  chr9_KI270719v1_random        0          0               1\n",
       "  chrM                          0          0              10\n",
       "  chrUn_GL000195v1              0          0               5\n",
       "  chrUn_GL000214v1              0          0               8\n",
       "  chrUn_GL000218v1              0          0               4\n",
       "  chrUn_GL000219v1              0          0              12\n",
       "  chrUn_GL000220v1              0          0               6\n",
       "  chrUn_GL000224v1              0          0              16\n",
       "  chrUn_KI270330v1              0          0               1\n",
       "  chrUn_KI270438v1              0          0               2\n",
       "  chrUn_KI270442v1              0          0               1\n",
       "  chrUn_KI270466v1              0          0               1\n",
       "  chrUn_KI270467v1              0          0               1\n",
       "  chrUn_KI270742v1              1          0              14\n",
       "  chrUn_KI270743v1              0          0               1\n",
       "  chrUn_KI270744v1              0          0              15\n",
       "  chrUn_KI270745v1              0          0               1\n",
       "  chrUn_KI270751v1              0          0               1\n",
       "  chrUn_KI270754v1              0          0               2\n",
       "  chrX                        121       1095            3782"
      ]
     },
     "metadata": {},
     "output_type": "display_data"
    }
   ],
   "source": [
    "dat = dat_peak_active\n",
    "table(dat$Chrom, dat$Annotation)"
   ]
  },
  {
   "cell_type": "markdown",
   "metadata": {},
   "source": [
    "## Re-labeling"
   ]
  },
  {
   "cell_type": "code",
   "execution_count": 14,
   "metadata": {},
   "outputs": [],
   "source": [
    "vec_txt_assay = c(\n",
    "    \"ASTARR\", \"WSTARR\", \"TMPRA\", \"LMPRA\", \n",
    "    \"CRISPRi_HCRFF\", \n",
    "    \"CRISPRi_Growth\", \n",
    "    \"ENCODE-E2G_Benchmark\",\n",
    "    \"ENCODE-E2G_Prediction\"\n",
    ")\n",
    "fun_get_label = function(txt, vec_txt_label = vec_txt_assay){\n",
    "    vec_boo = str_detect(string = txt, pattern = vec_txt_label)\n",
    "    vec_txt = vec_txt_label[vec_boo]\n",
    "    return(vec_txt)\n",
    "}"
   ]
  },
  {
   "cell_type": "code",
   "execution_count": 15,
   "metadata": {},
   "outputs": [
    {
     "name": "stdout",
     "output_type": "stream",
     "text": [
      "[1] \"ASTARR\"\n",
      "[1] \"CRISPRi_HCRFF\"\n"
     ]
    }
   ],
   "source": [
    "print(fun_get_label(\"ASTARR_A\"))\n",
    "print(fun_get_label(\"CRISPRi_HCRFF_A\"))\n",
    "#print(fun_get_label(c(\"ASTARR_A\", \"CRISPRi_HCRFF_A\")))"
   ]
  },
  {
   "cell_type": "code",
   "execution_count": 16,
   "metadata": {},
   "outputs": [
    {
     "data": {
      "text/plain": [
       "\n",
       "             ASTARR_A             ASTARR_AB              ASTARR_R \n",
       "                 7427                  2799                 11371 \n",
       "       CRISPRi_Growth         CRISPRi_HCRFF  ENCODE-E2G_Benchmark \n",
       "                 4609                    54                   353 \n",
       "ENCODE-E2G_Prediction               LMPRA_A              LMPRA_AB \n",
       "                35672                 32019                 22392 \n",
       "              LMPRA_R               TMPRA_A               TMPRA_R \n",
       "                  901                  1072                    21 \n",
       "             WSTARR_A             WSTARR_AB              WSTARR_R \n",
       "                30478                 13455                  4504 "
      ]
     },
     "metadata": {},
     "output_type": "display_data"
    }
   ],
   "source": [
    "dat = dat_peak_active\n",
    "table(dat$Label)"
   ]
  },
  {
   "cell_type": "code",
   "execution_count": 17,
   "metadata": {},
   "outputs": [
    {
     "data": {
      "text/html": [
       "<table class=\"dataframe\">\n",
       "<caption>A tibble: 6 × 6</caption>\n",
       "<thead>\n",
       "\t<tr><th scope=col>Chrom</th><th scope=col>Start</th><th scope=col>End</th><th scope=col>Peak</th><th scope=col>Annotation</th><th scope=col>Label</th></tr>\n",
       "\t<tr><th scope=col>&lt;chr&gt;</th><th scope=col>&lt;chr&gt;</th><th scope=col>&lt;chr&gt;</th><th scope=col>&lt;chr&gt;</th><th scope=col>&lt;chr&gt;</th><th scope=col>&lt;chr&gt;</th></tr>\n",
       "</thead>\n",
       "<tbody>\n",
       "\t<tr><td>chr1</td><td>101198203</td><td>101199537</td><td>chr1:101198203-101199537</td><td>Enhancer_ZScore</td><td>ASTARR_AB</td></tr>\n",
       "\t<tr><td>chr1</td><td>1012902  </td><td>1014502  </td><td>chr1:1012902-1014502    </td><td>Enhancer_ZScore</td><td>ASTARR_AB</td></tr>\n",
       "\t<tr><td>chr1</td><td>109213422</td><td>109215054</td><td>chr1:109213422-109215054</td><td>Enhancer_ZScore</td><td>ASTARR_AB</td></tr>\n",
       "\t<tr><td>chr1</td><td>109218538</td><td>109219133</td><td>chr1:109218538-109219133</td><td>Enhancer_ZScore</td><td>ASTARR_AB</td></tr>\n",
       "\t<tr><td>chr1</td><td>109388963</td><td>109390708</td><td>chr1:109388963-109390708</td><td>Enhancer_ZScore</td><td>ASTARR_AB</td></tr>\n",
       "\t<tr><td>chr1</td><td>109476546</td><td>109477209</td><td>chr1:109476546-109477209</td><td>Enhancer_ZScore</td><td>ASTARR_AB</td></tr>\n",
       "</tbody>\n",
       "</table>\n"
      ],
      "text/latex": [
       "A tibble: 6 × 6\n",
       "\\begin{tabular}{llllll}\n",
       " Chrom & Start & End & Peak & Annotation & Label\\\\\n",
       " <chr> & <chr> & <chr> & <chr> & <chr> & <chr>\\\\\n",
       "\\hline\n",
       "\t chr1 & 101198203 & 101199537 & chr1:101198203-101199537 & Enhancer\\_ZScore & ASTARR\\_AB\\\\\n",
       "\t chr1 & 1012902   & 1014502   & chr1:1012902-1014502     & Enhancer\\_ZScore & ASTARR\\_AB\\\\\n",
       "\t chr1 & 109213422 & 109215054 & chr1:109213422-109215054 & Enhancer\\_ZScore & ASTARR\\_AB\\\\\n",
       "\t chr1 & 109218538 & 109219133 & chr1:109218538-109219133 & Enhancer\\_ZScore & ASTARR\\_AB\\\\\n",
       "\t chr1 & 109388963 & 109390708 & chr1:109388963-109390708 & Enhancer\\_ZScore & ASTARR\\_AB\\\\\n",
       "\t chr1 & 109476546 & 109477209 & chr1:109476546-109477209 & Enhancer\\_ZScore & ASTARR\\_AB\\\\\n",
       "\\end{tabular}\n"
      ],
      "text/markdown": [
       "\n",
       "A tibble: 6 × 6\n",
       "\n",
       "| Chrom &lt;chr&gt; | Start &lt;chr&gt; | End &lt;chr&gt; | Peak &lt;chr&gt; | Annotation &lt;chr&gt; | Label &lt;chr&gt; |\n",
       "|---|---|---|---|---|---|\n",
       "| chr1 | 101198203 | 101199537 | chr1:101198203-101199537 | Enhancer_ZScore | ASTARR_AB |\n",
       "| chr1 | 1012902   | 1014502   | chr1:1012902-1014502     | Enhancer_ZScore | ASTARR_AB |\n",
       "| chr1 | 109213422 | 109215054 | chr1:109213422-109215054 | Enhancer_ZScore | ASTARR_AB |\n",
       "| chr1 | 109218538 | 109219133 | chr1:109218538-109219133 | Enhancer_ZScore | ASTARR_AB |\n",
       "| chr1 | 109388963 | 109390708 | chr1:109388963-109390708 | Enhancer_ZScore | ASTARR_AB |\n",
       "| chr1 | 109476546 | 109477209 | chr1:109476546-109477209 | Enhancer_ZScore | ASTARR_AB |\n",
       "\n"
      ],
      "text/plain": [
       "  Chrom Start     End       Peak                     Annotation      Label    \n",
       "1 chr1  101198203 101199537 chr1:101198203-101199537 Enhancer_ZScore ASTARR_AB\n",
       "2 chr1  1012902   1014502   chr1:1012902-1014502     Enhancer_ZScore ASTARR_AB\n",
       "3 chr1  109213422 109215054 chr1:109213422-109215054 Enhancer_ZScore ASTARR_AB\n",
       "4 chr1  109218538 109219133 chr1:109218538-109219133 Enhancer_ZScore ASTARR_AB\n",
       "5 chr1  109388963 109390708 chr1:109388963-109390708 Enhancer_ZScore ASTARR_AB\n",
       "6 chr1  109476546 109477209 chr1:109476546-109477209 Enhancer_ZScore ASTARR_AB"
      ]
     },
     "metadata": {},
     "output_type": "display_data"
    }
   ],
   "source": [
    "dat = dat_peak_active\n",
    "head(dat)"
   ]
  },
  {
   "cell_type": "markdown",
   "metadata": {},
   "source": [
    "**Check function**"
   ]
  },
  {
   "cell_type": "code",
   "execution_count": 21,
   "metadata": {},
   "outputs": [
    {
     "data": {
      "text/html": [
       "<table class=\"dataframe\">\n",
       "<caption>A tibble: 15 × 4</caption>\n",
       "<thead>\n",
       "\t<tr><th scope=col>Annotation</th><th scope=col>Label</th><th scope=col>Assay_Type</th><th scope=col>Assay_Label</th></tr>\n",
       "\t<tr><th scope=col>&lt;chr&gt;</th><th scope=col>&lt;chr&gt;</th><th scope=col>&lt;chr&gt;</th><th scope=col>&lt;chr&gt;</th></tr>\n",
       "</thead>\n",
       "<tbody>\n",
       "\t<tr><td>Enhancer_ZScore</td><td>ASTARR_AB            </td><td>ASTARR               </td><td>ASTARR_AB              </td></tr>\n",
       "\t<tr><td>Enhancer_ZScore</td><td>ASTARR_A             </td><td>ASTARR               </td><td>ASTARR_A               </td></tr>\n",
       "\t<tr><td>Enhancer_ZScore</td><td>ASTARR_R             </td><td>ASTARR               </td><td>ASTARR_R               </td></tr>\n",
       "\t<tr><td>Enhancer_ZScore</td><td>WSTARR_AB            </td><td>WSTARR               </td><td>WSTARR_AB              </td></tr>\n",
       "\t<tr><td>Enhancer_ZScore</td><td>WSTARR_A             </td><td>WSTARR               </td><td>WSTARR_A               </td></tr>\n",
       "\t<tr><td>Enhancer_ZScore</td><td>WSTARR_R             </td><td>WSTARR               </td><td>WSTARR_R               </td></tr>\n",
       "\t<tr><td>Enhancer_ZScore</td><td>TMPRA_A              </td><td>TMPRA                </td><td>TMPRA_A                </td></tr>\n",
       "\t<tr><td>Enhancer_ZScore</td><td>TMPRA_R              </td><td>TMPRA                </td><td>TMPRA_R                </td></tr>\n",
       "\t<tr><td>Enhancer_ZScore</td><td>LMPRA_AB             </td><td>LMPRA                </td><td>LMPRA_AB               </td></tr>\n",
       "\t<tr><td>Enhancer_ZScore</td><td>LMPRA_A              </td><td>LMPRA                </td><td>LMPRA_A                </td></tr>\n",
       "\t<tr><td>Enhancer_ZScore</td><td>LMPRA_R              </td><td>LMPRA                </td><td>LMPRA_R                </td></tr>\n",
       "\t<tr><td>CRISPRi        </td><td>CRISPRi_Growth       </td><td>CRISPRi-Growth       </td><td>CRISPRi-Growth_A       </td></tr>\n",
       "\t<tr><td>CRISPRi        </td><td>CRISPRi_HCRFF        </td><td>CRISPRi-HCRFF        </td><td>CRISPRi-HCRFF_A        </td></tr>\n",
       "\t<tr><td>ENCODE-E2G     </td><td>ENCODE-E2G_Benchmark </td><td>ENCODE-E2G_Benchmark </td><td>ENCODE-E2G_Benchmark_A </td></tr>\n",
       "\t<tr><td>ENCODE-E2G     </td><td>ENCODE-E2G_Prediction</td><td>ENCODE-E2G_Prediction</td><td>ENCODE-E2G_Prediction_A</td></tr>\n",
       "</tbody>\n",
       "</table>\n"
      ],
      "text/latex": [
       "A tibble: 15 × 4\n",
       "\\begin{tabular}{llll}\n",
       " Annotation & Label & Assay\\_Type & Assay\\_Label\\\\\n",
       " <chr> & <chr> & <chr> & <chr>\\\\\n",
       "\\hline\n",
       "\t Enhancer\\_ZScore & ASTARR\\_AB             & ASTARR                & ASTARR\\_AB              \\\\\n",
       "\t Enhancer\\_ZScore & ASTARR\\_A              & ASTARR                & ASTARR\\_A               \\\\\n",
       "\t Enhancer\\_ZScore & ASTARR\\_R              & ASTARR                & ASTARR\\_R               \\\\\n",
       "\t Enhancer\\_ZScore & WSTARR\\_AB             & WSTARR                & WSTARR\\_AB              \\\\\n",
       "\t Enhancer\\_ZScore & WSTARR\\_A              & WSTARR                & WSTARR\\_A               \\\\\n",
       "\t Enhancer\\_ZScore & WSTARR\\_R              & WSTARR                & WSTARR\\_R               \\\\\n",
       "\t Enhancer\\_ZScore & TMPRA\\_A               & TMPRA                 & TMPRA\\_A                \\\\\n",
       "\t Enhancer\\_ZScore & TMPRA\\_R               & TMPRA                 & TMPRA\\_R                \\\\\n",
       "\t Enhancer\\_ZScore & LMPRA\\_AB              & LMPRA                 & LMPRA\\_AB               \\\\\n",
       "\t Enhancer\\_ZScore & LMPRA\\_A               & LMPRA                 & LMPRA\\_A                \\\\\n",
       "\t Enhancer\\_ZScore & LMPRA\\_R               & LMPRA                 & LMPRA\\_R                \\\\\n",
       "\t CRISPRi         & CRISPRi\\_Growth        & CRISPRi-Growth        & CRISPRi-Growth\\_A       \\\\\n",
       "\t CRISPRi         & CRISPRi\\_HCRFF         & CRISPRi-HCRFF         & CRISPRi-HCRFF\\_A        \\\\\n",
       "\t ENCODE-E2G      & ENCODE-E2G\\_Benchmark  & ENCODE-E2G\\_Benchmark  & ENCODE-E2G\\_Benchmark\\_A \\\\\n",
       "\t ENCODE-E2G      & ENCODE-E2G\\_Prediction & ENCODE-E2G\\_Prediction & ENCODE-E2G\\_Prediction\\_A\\\\\n",
       "\\end{tabular}\n"
      ],
      "text/markdown": [
       "\n",
       "A tibble: 15 × 4\n",
       "\n",
       "| Annotation &lt;chr&gt; | Label &lt;chr&gt; | Assay_Type &lt;chr&gt; | Assay_Label &lt;chr&gt; |\n",
       "|---|---|---|---|\n",
       "| Enhancer_ZScore | ASTARR_AB             | ASTARR                | ASTARR_AB               |\n",
       "| Enhancer_ZScore | ASTARR_A              | ASTARR                | ASTARR_A                |\n",
       "| Enhancer_ZScore | ASTARR_R              | ASTARR                | ASTARR_R                |\n",
       "| Enhancer_ZScore | WSTARR_AB             | WSTARR                | WSTARR_AB               |\n",
       "| Enhancer_ZScore | WSTARR_A              | WSTARR                | WSTARR_A                |\n",
       "| Enhancer_ZScore | WSTARR_R              | WSTARR                | WSTARR_R                |\n",
       "| Enhancer_ZScore | TMPRA_A               | TMPRA                 | TMPRA_A                 |\n",
       "| Enhancer_ZScore | TMPRA_R               | TMPRA                 | TMPRA_R                 |\n",
       "| Enhancer_ZScore | LMPRA_AB              | LMPRA                 | LMPRA_AB                |\n",
       "| Enhancer_ZScore | LMPRA_A               | LMPRA                 | LMPRA_A                 |\n",
       "| Enhancer_ZScore | LMPRA_R               | LMPRA                 | LMPRA_R                 |\n",
       "| CRISPRi         | CRISPRi_Growth        | CRISPRi-Growth        | CRISPRi-Growth_A        |\n",
       "| CRISPRi         | CRISPRi_HCRFF         | CRISPRi-HCRFF         | CRISPRi-HCRFF_A         |\n",
       "| ENCODE-E2G      | ENCODE-E2G_Benchmark  | ENCODE-E2G_Benchmark  | ENCODE-E2G_Benchmark_A  |\n",
       "| ENCODE-E2G      | ENCODE-E2G_Prediction | ENCODE-E2G_Prediction | ENCODE-E2G_Prediction_A |\n",
       "\n"
      ],
      "text/plain": [
       "   Annotation      Label                 Assay_Type           \n",
       "1  Enhancer_ZScore ASTARR_AB             ASTARR               \n",
       "2  Enhancer_ZScore ASTARR_A              ASTARR               \n",
       "3  Enhancer_ZScore ASTARR_R              ASTARR               \n",
       "4  Enhancer_ZScore WSTARR_AB             WSTARR               \n",
       "5  Enhancer_ZScore WSTARR_A              WSTARR               \n",
       "6  Enhancer_ZScore WSTARR_R              WSTARR               \n",
       "7  Enhancer_ZScore TMPRA_A               TMPRA                \n",
       "8  Enhancer_ZScore TMPRA_R               TMPRA                \n",
       "9  Enhancer_ZScore LMPRA_AB              LMPRA                \n",
       "10 Enhancer_ZScore LMPRA_A               LMPRA                \n",
       "11 Enhancer_ZScore LMPRA_R               LMPRA                \n",
       "12 CRISPRi         CRISPRi_Growth        CRISPRi-Growth       \n",
       "13 CRISPRi         CRISPRi_HCRFF         CRISPRi-HCRFF        \n",
       "14 ENCODE-E2G      ENCODE-E2G_Benchmark  ENCODE-E2G_Benchmark \n",
       "15 ENCODE-E2G      ENCODE-E2G_Prediction ENCODE-E2G_Prediction\n",
       "   Assay_Label            \n",
       "1  ASTARR_AB              \n",
       "2  ASTARR_A               \n",
       "3  ASTARR_R               \n",
       "4  WSTARR_AB              \n",
       "5  WSTARR_A               \n",
       "6  WSTARR_R               \n",
       "7  TMPRA_A                \n",
       "8  TMPRA_R                \n",
       "9  LMPRA_AB               \n",
       "10 LMPRA_A                \n",
       "11 LMPRA_R                \n",
       "12 CRISPRi-Growth_A       \n",
       "13 CRISPRi-HCRFF_A        \n",
       "14 ENCODE-E2G_Benchmark_A \n",
       "15 ENCODE-E2G_Prediction_A"
      ]
     },
     "metadata": {},
     "output_type": "display_data"
    }
   ],
   "source": [
    "dat = dat_peak_active\n",
    "dat = dat %>%\n",
    "    dplyr::rowwise() %>%\n",
    "    dplyr::mutate(Assay_Type = fun_get_label(Label)) %>%\n",
    "    dplyr::ungroup() %>%\n",
    "    dplyr::mutate(\n",
    "        Assay_Type = dplyr::recode(\n",
    "            Assay_Type, \n",
    "            \"CRISPRi_HCRFF\"         = \"CRISPRi-HCRFF\",\n",
    "            \"CRISPRi_Growth\"        = \"CRISPRi-Growth\",\n",
    "        ),\n",
    "        Assay_Label = dplyr::recode(\n",
    "            Label, \n",
    "            \"CRISPRi_HCRFF\"         = \"CRISPRi-HCRFF_A\",\n",
    "            \"CRISPRi_Growth\"        = \"CRISPRi-Growth_A\",\n",
    "            \"ENCODE-E2G_Benchmark\"  = \"ENCODE-E2G_Benchmark_A\",\n",
    "            \"ENCODE-E2G_Prediction\" = \"ENCODE-E2G_Prediction_A\"\n",
    "        )\n",
    "    )\n",
    "\n",
    "dat = dat %>% dplyr::select(Annotation, Label, Assay_Type, Assay_Label) %>% dplyr::distinct()\n",
    "dat"
   ]
  },
  {
   "cell_type": "markdown",
   "metadata": {},
   "source": [
    "**Run**"
   ]
  },
  {
   "cell_type": "code",
   "execution_count": 22,
   "metadata": {},
   "outputs": [
    {
     "name": "stdout",
     "output_type": "stream",
     "text": [
      "[1] 167127      6\n"
     ]
    },
    {
     "data": {
      "text/html": [
       "<table class=\"dataframe\">\n",
       "<caption>A tibble: 6 × 6</caption>\n",
       "<thead>\n",
       "\t<tr><th scope=col>Chrom</th><th scope=col>Start</th><th scope=col>End</th><th scope=col>Peak</th><th scope=col>Assay_Type</th><th scope=col>Assay_Label</th></tr>\n",
       "\t<tr><th scope=col>&lt;chr&gt;</th><th scope=col>&lt;chr&gt;</th><th scope=col>&lt;chr&gt;</th><th scope=col>&lt;chr&gt;</th><th scope=col>&lt;chr&gt;</th><th scope=col>&lt;chr&gt;</th></tr>\n",
       "</thead>\n",
       "<tbody>\n",
       "\t<tr><td>chr1</td><td>101198203</td><td>101199537</td><td>chr1:101198203-101199537</td><td>ASTARR</td><td>ASTARR_AB</td></tr>\n",
       "\t<tr><td>chr1</td><td>1012902  </td><td>1014502  </td><td>chr1:1012902-1014502    </td><td>ASTARR</td><td>ASTARR_AB</td></tr>\n",
       "\t<tr><td>chr1</td><td>109213422</td><td>109215054</td><td>chr1:109213422-109215054</td><td>ASTARR</td><td>ASTARR_AB</td></tr>\n",
       "\t<tr><td>chr1</td><td>109218538</td><td>109219133</td><td>chr1:109218538-109219133</td><td>ASTARR</td><td>ASTARR_AB</td></tr>\n",
       "\t<tr><td>chr1</td><td>109388963</td><td>109390708</td><td>chr1:109388963-109390708</td><td>ASTARR</td><td>ASTARR_AB</td></tr>\n",
       "\t<tr><td>chr1</td><td>109476546</td><td>109477209</td><td>chr1:109476546-109477209</td><td>ASTARR</td><td>ASTARR_AB</td></tr>\n",
       "</tbody>\n",
       "</table>\n"
      ],
      "text/latex": [
       "A tibble: 6 × 6\n",
       "\\begin{tabular}{llllll}\n",
       " Chrom & Start & End & Peak & Assay\\_Type & Assay\\_Label\\\\\n",
       " <chr> & <chr> & <chr> & <chr> & <chr> & <chr>\\\\\n",
       "\\hline\n",
       "\t chr1 & 101198203 & 101199537 & chr1:101198203-101199537 & ASTARR & ASTARR\\_AB\\\\\n",
       "\t chr1 & 1012902   & 1014502   & chr1:1012902-1014502     & ASTARR & ASTARR\\_AB\\\\\n",
       "\t chr1 & 109213422 & 109215054 & chr1:109213422-109215054 & ASTARR & ASTARR\\_AB\\\\\n",
       "\t chr1 & 109218538 & 109219133 & chr1:109218538-109219133 & ASTARR & ASTARR\\_AB\\\\\n",
       "\t chr1 & 109388963 & 109390708 & chr1:109388963-109390708 & ASTARR & ASTARR\\_AB\\\\\n",
       "\t chr1 & 109476546 & 109477209 & chr1:109476546-109477209 & ASTARR & ASTARR\\_AB\\\\\n",
       "\\end{tabular}\n"
      ],
      "text/markdown": [
       "\n",
       "A tibble: 6 × 6\n",
       "\n",
       "| Chrom &lt;chr&gt; | Start &lt;chr&gt; | End &lt;chr&gt; | Peak &lt;chr&gt; | Assay_Type &lt;chr&gt; | Assay_Label &lt;chr&gt; |\n",
       "|---|---|---|---|---|---|\n",
       "| chr1 | 101198203 | 101199537 | chr1:101198203-101199537 | ASTARR | ASTARR_AB |\n",
       "| chr1 | 1012902   | 1014502   | chr1:1012902-1014502     | ASTARR | ASTARR_AB |\n",
       "| chr1 | 109213422 | 109215054 | chr1:109213422-109215054 | ASTARR | ASTARR_AB |\n",
       "| chr1 | 109218538 | 109219133 | chr1:109218538-109219133 | ASTARR | ASTARR_AB |\n",
       "| chr1 | 109388963 | 109390708 | chr1:109388963-109390708 | ASTARR | ASTARR_AB |\n",
       "| chr1 | 109476546 | 109477209 | chr1:109476546-109477209 | ASTARR | ASTARR_AB |\n",
       "\n"
      ],
      "text/plain": [
       "  Chrom Start     End       Peak                     Assay_Type Assay_Label\n",
       "1 chr1  101198203 101199537 chr1:101198203-101199537 ASTARR     ASTARR_AB  \n",
       "2 chr1  1012902   1014502   chr1:1012902-1014502     ASTARR     ASTARR_AB  \n",
       "3 chr1  109213422 109215054 chr1:109213422-109215054 ASTARR     ASTARR_AB  \n",
       "4 chr1  109218538 109219133 chr1:109218538-109219133 ASTARR     ASTARR_AB  \n",
       "5 chr1  109388963 109390708 chr1:109388963-109390708 ASTARR     ASTARR_AB  \n",
       "6 chr1  109476546 109477209 chr1:109476546-109477209 ASTARR     ASTARR_AB  "
      ]
     },
     "metadata": {},
     "output_type": "display_data"
    }
   ],
   "source": [
    "### init\n",
    "dat = dat_peak_active\n",
    "\n",
    "### relabeling\n",
    "dat = dat %>%\n",
    "    dplyr::rowwise() %>%\n",
    "    dplyr::mutate(Assay_Type = fun_get_label(Label)) %>%\n",
    "    dplyr::ungroup() %>%\n",
    "    dplyr::mutate(\n",
    "        Assay_Type = dplyr::recode(\n",
    "            Assay_Type, \n",
    "            \"CRISPRi_HCRFF\"         = \"CRISPRi-HCRFF\",\n",
    "            \"CRISPRi_Growth\"        = \"CRISPRi-Growth\",\n",
    "        ),\n",
    "        Assay_Label = dplyr::recode(\n",
    "            Label, \n",
    "            \"CRISPRi_HCRFF\"         = \"CRISPRi-HCRFF_A\",\n",
    "            \"CRISPRi_Growth\"        = \"CRISPRi-Growth_A\",\n",
    "            \"ENCODE-E2G_Benchmark\"  = \"ENCODE-E2G_Benchmark_A\",\n",
    "            \"ENCODE-E2G_Prediction\" = \"ENCODE-E2G_Prediction_A\"\n",
    "        )\n",
    "    ) %>%\n",
    "    dplyr::select(Chrom, Start, End, Peak, Assay_Type, Assay_Label)\n",
    "\n",
    "### assign and show\n",
    "dat_peak_active_relabel = dat\n",
    "print(dim(dat))\n",
    "head(dat)"
   ]
  },
  {
   "cell_type": "markdown",
   "metadata": {},
   "source": [
    "**Check results**"
   ]
  },
  {
   "cell_type": "code",
   "execution_count": 23,
   "metadata": {},
   "outputs": [
    {
     "name": "stdout",
     "output_type": "stream",
     "text": [
      "\n",
      "               ASTARR        CRISPRi-Growth         CRISPRi-HCRFF \n",
      "                21597                  4609                    54 \n",
      " ENCODE-E2G_Benchmark ENCODE-E2G_Prediction                 LMPRA \n",
      "                  353                 35672                 55312 \n",
      "                TMPRA                WSTARR \n",
      "                 1093                 48437 \n",
      "\n",
      "               ASTARR_A               ASTARR_AB                ASTARR_R \n",
      "                   7427                    2799                   11371 \n",
      "       CRISPRi-Growth_A         CRISPRi-HCRFF_A  ENCODE-E2G_Benchmark_A \n",
      "                   4609                      54                     353 \n",
      "ENCODE-E2G_Prediction_A                 LMPRA_A                LMPRA_AB \n",
      "                  35672                   32019                   22392 \n",
      "                LMPRA_R                 TMPRA_A                 TMPRA_R \n",
      "                    901                    1072                      21 \n",
      "               WSTARR_A               WSTARR_AB                WSTARR_R \n",
      "                  30478                   13455                    4504 \n"
     ]
    }
   ],
   "source": [
    "dat = dat_peak_active_relabel\n",
    "res = table(dat$Assay_Type)\n",
    "print(res)\n",
    "\n",
    "res = table(dat$Assay_Label)\n",
    "print(res)"
   ]
  },
  {
   "cell_type": "markdown",
   "metadata": {},
   "source": [
    "## Store results"
   ]
  },
  {
   "cell_type": "code",
   "execution_count": 24,
   "metadata": {},
   "outputs": [],
   "source": [
    "### set file paths\n",
    "fdiry  = file.path(\n",
    "    FD_RES, \n",
    "    \"results\",\n",
    "    \"region\",\n",
    "    \"KS91_K562_ASTARRseq_peak_macs_input\",\n",
    "    \"summary\"\n",
    ")\n",
    "fname = paste(\"peak\", \"screened\", \"fcc\", \"active\", \"tsv\", sep = \".\")\n",
    "fpath = file.path(fdiry, fname)\n",
    "\n",
    "### save table\n",
    "dat = dat_peak_active_relabel\n",
    "write_tsv(dat, fpath)"
   ]
  },
  {
   "cell_type": "code",
   "execution_count": null,
   "metadata": {},
   "outputs": [],
   "source": []
  }
 ],
 "metadata": {
  "kernelspec": {
   "display_name": "R",
   "language": "R",
   "name": "ir"
  },
  "language_info": {
   "codemirror_mode": "r",
   "file_extension": ".r",
   "mimetype": "text/x-r-source",
   "name": "R",
   "pygments_lexer": "r",
   "version": "4.3.1"
  }
 },
 "nbformat": 4,
 "nbformat_minor": 4
}
