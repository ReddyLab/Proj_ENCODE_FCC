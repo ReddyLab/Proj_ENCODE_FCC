{
 "cells": [
  {
   "cell_type": "markdown",
   "id": "dfa59b94-fac4-412f-b8e3-4f3bf33113df",
   "metadata": {},
   "source": [
    "**Set environment**"
   ]
  },
  {
   "cell_type": "code",
   "execution_count": 1,
   "id": "d4349731-a95c-4d9f-b702-9ad86ccbcfc2",
   "metadata": {},
   "outputs": [
    {
     "name": "stdout",
     "output_type": "stream",
     "text": [
      "You are in Singularity: singularity_proj_encode_fcc \n",
      "BASE DIRECTORY (FD_BASE): /data/reddylab/Kuei \n",
      "WORK DIRECTORY (FD_WORK): /data/reddylab/Kuei/out \n",
      "CODE DIRECTORY (FD_CODE): /data/reddylab/Kuei/code \n",
      "PATH OF PROJECT (FD_PRJ): /data/reddylab/Kuei/code/Proj_CombEffect_ENCODE_FCC \n",
      "PATH OF RESULTS (FD_RES): /data/reddylab/Kuei/out/proj_combeffect_encode_fcc \n",
      "PATH OF LOG     (FD_LOG): /data/reddylab/Kuei/out/proj_combeffect_encode_fcc/log \n"
     ]
    }
   ],
   "source": [
    "suppressMessages(suppressWarnings(source(\"../config/config_sing.R\")))\n",
    "library(pheatmap)\n",
    "show_env()"
   ]
  },
  {
   "cell_type": "markdown",
   "id": "f0c6985d-8bb9-4702-b5c4-5abba44e8860",
   "metadata": {},
   "source": [
    "## Import data"
   ]
  },
  {
   "cell_type": "markdown",
   "id": "9d823df6-368e-4509-84ba-e0b6b4265035",
   "metadata": {},
   "source": [
    "**Read total ATAC peaks**"
   ]
  },
  {
   "cell_type": "code",
   "execution_count": 8,
   "id": "dbf6a613-000e-4b37-8f64-f5f2faa16a41",
   "metadata": {},
   "outputs": [
    {
     "name": "stdout",
     "output_type": "stream",
     "text": [
      "[1] 732434      7\n"
     ]
    },
    {
     "data": {
      "text/html": [
       "<table class=\"dataframe\">\n",
       "<caption>A tibble: 6 × 7</caption>\n",
       "<thead>\n",
       "\t<tr><th scope=col>Chrom</th><th scope=col>Start</th><th scope=col>End</th><th scope=col>Peak</th><th scope=col>Score</th><th scope=col>Assay_Type</th><th scope=col>Assay_Label</th></tr>\n",
       "\t<tr><th scope=col>&lt;chr&gt;</th><th scope=col>&lt;dbl&gt;</th><th scope=col>&lt;dbl&gt;</th><th scope=col>&lt;chr&gt;</th><th scope=col>&lt;dbl&gt;</th><th scope=col>&lt;chr&gt;</th><th scope=col>&lt;chr&gt;</th></tr>\n",
       "</thead>\n",
       "<tbody>\n",
       "\t<tr><td>chr1</td><td>100006256</td><td>100006880</td><td>chr1:100006256-100006880</td><td>-0.01311792</td><td>ASTARR</td><td>ASTARR_T</td></tr>\n",
       "\t<tr><td>chr1</td><td>100010437</td><td>100010915</td><td>chr1:100010437-100010915</td><td>-0.80687947</td><td>ASTARR</td><td>ASTARR_T</td></tr>\n",
       "\t<tr><td>chr1</td><td> 10002087</td><td> 10003910</td><td>chr1:10002087-10003910  </td><td>-0.34892859</td><td>ASTARR</td><td>ASTARR_T</td></tr>\n",
       "\t<tr><td>chr1</td><td>100021298</td><td>100021629</td><td>chr1:100021298-100021629</td><td>-1.03799571</td><td>ASTARR</td><td>ASTARR_T</td></tr>\n",
       "\t<tr><td>chr1</td><td>100023727</td><td>100023976</td><td>chr1:100023727-100023976</td><td>-0.19100207</td><td>ASTARR</td><td>ASTARR_T</td></tr>\n",
       "\t<tr><td>chr1</td><td>100027983</td><td>100029702</td><td>chr1:100027983-100029702</td><td>-0.18001582</td><td>ASTARR</td><td>ASTARR_T</td></tr>\n",
       "</tbody>\n",
       "</table>\n"
      ],
      "text/latex": [
       "A tibble: 6 × 7\n",
       "\\begin{tabular}{lllllll}\n",
       " Chrom & Start & End & Peak & Score & Assay\\_Type & Assay\\_Label\\\\\n",
       " <chr> & <dbl> & <dbl> & <chr> & <dbl> & <chr> & <chr>\\\\\n",
       "\\hline\n",
       "\t chr1 & 100006256 & 100006880 & chr1:100006256-100006880 & -0.01311792 & ASTARR & ASTARR\\_T\\\\\n",
       "\t chr1 & 100010437 & 100010915 & chr1:100010437-100010915 & -0.80687947 & ASTARR & ASTARR\\_T\\\\\n",
       "\t chr1 &  10002087 &  10003910 & chr1:10002087-10003910   & -0.34892859 & ASTARR & ASTARR\\_T\\\\\n",
       "\t chr1 & 100021298 & 100021629 & chr1:100021298-100021629 & -1.03799571 & ASTARR & ASTARR\\_T\\\\\n",
       "\t chr1 & 100023727 & 100023976 & chr1:100023727-100023976 & -0.19100207 & ASTARR & ASTARR\\_T\\\\\n",
       "\t chr1 & 100027983 & 100029702 & chr1:100027983-100029702 & -0.18001582 & ASTARR & ASTARR\\_T\\\\\n",
       "\\end{tabular}\n"
      ],
      "text/markdown": [
       "\n",
       "A tibble: 6 × 7\n",
       "\n",
       "| Chrom &lt;chr&gt; | Start &lt;dbl&gt; | End &lt;dbl&gt; | Peak &lt;chr&gt; | Score &lt;dbl&gt; | Assay_Type &lt;chr&gt; | Assay_Label &lt;chr&gt; |\n",
       "|---|---|---|---|---|---|---|\n",
       "| chr1 | 100006256 | 100006880 | chr1:100006256-100006880 | -0.01311792 | ASTARR | ASTARR_T |\n",
       "| chr1 | 100010437 | 100010915 | chr1:100010437-100010915 | -0.80687947 | ASTARR | ASTARR_T |\n",
       "| chr1 |  10002087 |  10003910 | chr1:10002087-10003910   | -0.34892859 | ASTARR | ASTARR_T |\n",
       "| chr1 | 100021298 | 100021629 | chr1:100021298-100021629 | -1.03799571 | ASTARR | ASTARR_T |\n",
       "| chr1 | 100023727 | 100023976 | chr1:100023727-100023976 | -0.19100207 | ASTARR | ASTARR_T |\n",
       "| chr1 | 100027983 | 100029702 | chr1:100027983-100029702 | -0.18001582 | ASTARR | ASTARR_T |\n",
       "\n"
      ],
      "text/plain": [
       "  Chrom Start     End       Peak                     Score       Assay_Type\n",
       "1 chr1  100006256 100006880 chr1:100006256-100006880 -0.01311792 ASTARR    \n",
       "2 chr1  100010437 100010915 chr1:100010437-100010915 -0.80687947 ASTARR    \n",
       "3 chr1   10002087  10003910 chr1:10002087-10003910   -0.34892859 ASTARR    \n",
       "4 chr1  100021298 100021629 chr1:100021298-100021629 -1.03799571 ASTARR    \n",
       "5 chr1  100023727 100023976 chr1:100023727-100023976 -0.19100207 ASTARR    \n",
       "6 chr1  100027983 100029702 chr1:100027983-100029702 -0.18001582 ASTARR    \n",
       "  Assay_Label\n",
       "1 ASTARR_T   \n",
       "2 ASTARR_T   \n",
       "3 ASTARR_T   \n",
       "4 ASTARR_T   \n",
       "5 ASTARR_T   \n",
       "6 ASTARR_T   "
      ]
     },
     "metadata": {},
     "output_type": "display_data"
    }
   ],
   "source": [
    "### set file path\n",
    "fdiry = file.path(FD_RES, \"results\", \"region\", \"KS91_K562_ASTARRseq_peak_macs_input\", \"summary\")\n",
    "fname = \"peak.screened.fcc.total.tsv\"\n",
    "fpath = file.path(fdiry, fname)\n",
    "\n",
    "### read table\n",
    "dat = read_tsv(fpath, show_col_types = FALSE)\n",
    "\n",
    "### assign and show\n",
    "dat_peak_atac_total = dat\n",
    "print(dim(dat))\n",
    "head(dat)"
   ]
  },
  {
   "cell_type": "code",
   "execution_count": 9,
   "id": "53950504-80ce-4633-99f8-6cfd5e02101e",
   "metadata": {},
   "outputs": [
    {
     "name": "stdout",
     "output_type": "stream",
     "text": [
      "[1] 167127      6\n"
     ]
    },
    {
     "data": {
      "text/html": [
       "<table class=\"dataframe\">\n",
       "<caption>A tibble: 6 × 6</caption>\n",
       "<thead>\n",
       "\t<tr><th scope=col>Chrom</th><th scope=col>Start</th><th scope=col>End</th><th scope=col>Peak</th><th scope=col>Assay_Type</th><th scope=col>Assay_Label</th></tr>\n",
       "\t<tr><th scope=col>&lt;chr&gt;</th><th scope=col>&lt;dbl&gt;</th><th scope=col>&lt;dbl&gt;</th><th scope=col>&lt;chr&gt;</th><th scope=col>&lt;chr&gt;</th><th scope=col>&lt;chr&gt;</th></tr>\n",
       "</thead>\n",
       "<tbody>\n",
       "\t<tr><td>chr1</td><td>101198203</td><td>101199537</td><td>chr1:101198203-101199537</td><td>ASTARR</td><td>ASTARR_AB</td></tr>\n",
       "\t<tr><td>chr1</td><td>  1012902</td><td>  1014502</td><td>chr1:1012902-1014502    </td><td>ASTARR</td><td>ASTARR_AB</td></tr>\n",
       "\t<tr><td>chr1</td><td>109213422</td><td>109215054</td><td>chr1:109213422-109215054</td><td>ASTARR</td><td>ASTARR_AB</td></tr>\n",
       "\t<tr><td>chr1</td><td>109218538</td><td>109219133</td><td>chr1:109218538-109219133</td><td>ASTARR</td><td>ASTARR_AB</td></tr>\n",
       "\t<tr><td>chr1</td><td>109388963</td><td>109390708</td><td>chr1:109388963-109390708</td><td>ASTARR</td><td>ASTARR_AB</td></tr>\n",
       "\t<tr><td>chr1</td><td>109476546</td><td>109477209</td><td>chr1:109476546-109477209</td><td>ASTARR</td><td>ASTARR_AB</td></tr>\n",
       "</tbody>\n",
       "</table>\n"
      ],
      "text/latex": [
       "A tibble: 6 × 6\n",
       "\\begin{tabular}{llllll}\n",
       " Chrom & Start & End & Peak & Assay\\_Type & Assay\\_Label\\\\\n",
       " <chr> & <dbl> & <dbl> & <chr> & <chr> & <chr>\\\\\n",
       "\\hline\n",
       "\t chr1 & 101198203 & 101199537 & chr1:101198203-101199537 & ASTARR & ASTARR\\_AB\\\\\n",
       "\t chr1 &   1012902 &   1014502 & chr1:1012902-1014502     & ASTARR & ASTARR\\_AB\\\\\n",
       "\t chr1 & 109213422 & 109215054 & chr1:109213422-109215054 & ASTARR & ASTARR\\_AB\\\\\n",
       "\t chr1 & 109218538 & 109219133 & chr1:109218538-109219133 & ASTARR & ASTARR\\_AB\\\\\n",
       "\t chr1 & 109388963 & 109390708 & chr1:109388963-109390708 & ASTARR & ASTARR\\_AB\\\\\n",
       "\t chr1 & 109476546 & 109477209 & chr1:109476546-109477209 & ASTARR & ASTARR\\_AB\\\\\n",
       "\\end{tabular}\n"
      ],
      "text/markdown": [
       "\n",
       "A tibble: 6 × 6\n",
       "\n",
       "| Chrom &lt;chr&gt; | Start &lt;dbl&gt; | End &lt;dbl&gt; | Peak &lt;chr&gt; | Assay_Type &lt;chr&gt; | Assay_Label &lt;chr&gt; |\n",
       "|---|---|---|---|---|---|\n",
       "| chr1 | 101198203 | 101199537 | chr1:101198203-101199537 | ASTARR | ASTARR_AB |\n",
       "| chr1 |   1012902 |   1014502 | chr1:1012902-1014502     | ASTARR | ASTARR_AB |\n",
       "| chr1 | 109213422 | 109215054 | chr1:109213422-109215054 | ASTARR | ASTARR_AB |\n",
       "| chr1 | 109218538 | 109219133 | chr1:109218538-109219133 | ASTARR | ASTARR_AB |\n",
       "| chr1 | 109388963 | 109390708 | chr1:109388963-109390708 | ASTARR | ASTARR_AB |\n",
       "| chr1 | 109476546 | 109477209 | chr1:109476546-109477209 | ASTARR | ASTARR_AB |\n",
       "\n"
      ],
      "text/plain": [
       "  Chrom Start     End       Peak                     Assay_Type Assay_Label\n",
       "1 chr1  101198203 101199537 chr1:101198203-101199537 ASTARR     ASTARR_AB  \n",
       "2 chr1    1012902   1014502 chr1:1012902-1014502     ASTARR     ASTARR_AB  \n",
       "3 chr1  109213422 109215054 chr1:109213422-109215054 ASTARR     ASTARR_AB  \n",
       "4 chr1  109218538 109219133 chr1:109218538-109219133 ASTARR     ASTARR_AB  \n",
       "5 chr1  109388963 109390708 chr1:109388963-109390708 ASTARR     ASTARR_AB  \n",
       "6 chr1  109476546 109477209 chr1:109476546-109477209 ASTARR     ASTARR_AB  "
      ]
     },
     "metadata": {},
     "output_type": "display_data"
    }
   ],
   "source": [
    "### set file path\n",
    "fdiry = file.path(FD_RES, \"results\", \"region\", \"KS91_K562_ASTARRseq_peak_macs_input\", \"summary\")\n",
    "fname = \"peak.screened.fcc.active.tsv\"\n",
    "fpath = file.path(fdiry, fname)\n",
    "\n",
    "### read table\n",
    "dat = read_tsv(fpath, show_col_types = FALSE)\n",
    "\n",
    "### assign and show\n",
    "dat_peak_fcc_total = dat\n",
    "print(dim(dat))\n",
    "head(dat)"
   ]
  },
  {
   "cell_type": "markdown",
   "id": "b50b2656-32af-4d31-af74-8821cdeff7fb",
   "metadata": {},
   "source": [
    "## Calculate similarity"
   ]
  },
  {
   "cell_type": "code",
   "execution_count": 12,
   "id": "9e4036c9-dfbd-461d-b2a2-3f457babd248",
   "metadata": {},
   "outputs": [
    {
     "data": {
      "text/plain": [
       "\n",
       "               ASTARR        CRISPRi-Growth         CRISPRi-HCRFF \n",
       "                21597                  4609                    54 \n",
       " ENCODE-E2G_Benchmark ENCODE-E2G_Prediction                 LMPRA \n",
       "                  353                 35672                 55312 \n",
       "                TMPRA                WSTARR \n",
       "                 1093                 48437 "
      ]
     },
     "metadata": {},
     "output_type": "display_data"
    }
   ],
   "source": [
    "dat = dat_peak_fcc_total\n",
    "lst = split(dat$Peak, dat$Assay_Type)\n",
    "\n",
    "lst_vec_txt_peak_active = lst\n",
    "table(dat$Assay_Type)"
   ]
  },
  {
   "cell_type": "code",
   "execution_count": 13,
   "id": "ebafef59-5d69-400d-af7e-db92d7009e4f",
   "metadata": {},
   "outputs": [
    {
     "data": {
      "text/plain": [
       "\n",
       "               ASTARR        CRISPRi-Growth         CRISPRi-HCRFF \n",
       "               246850                 80288                  1330 \n",
       " ENCODE-E2G_Benchmark ENCODE-E2G_Prediction                 LMPRA \n",
       "                 3007                 84129                 68420 \n",
       "                TMPRA                WSTARR \n",
       "                 1722                246688 "
      ]
     },
     "metadata": {},
     "output_type": "display_data"
    }
   ],
   "source": [
    "dat = dat_peak_atac_total\n",
    "lst = split(dat$Peak, dat$Assay_Type)\n",
    "\n",
    "lst_vec_txt_peak_total = lst\n",
    "table(dat$Assay_Type)"
   ]
  },
  {
   "cell_type": "code",
   "execution_count": 33,
   "id": "7a8157a5-fa5e-451b-9e7f-68619466d7c6",
   "metadata": {},
   "outputs": [],
   "source": [
    "fun_jaccard = function(\n",
    "    txt_assay1, \n",
    "    txt_assay2, \n",
    "    lst_active = lst_vec_txt_peak_active, \n",
    "    lst_total  = lst_vec_txt_peak_total){\n",
    "\n",
    "    ### get the regions that are screened commonly\n",
    "    vec_txt_peak_total_assay1    = unique(lst_total[[txt_assay1]])\n",
    "    vec_txt_peak_total_assay2    = unique(lst_total[[txt_assay2]])\n",
    "    vec_txt_peak_total_intersect = intersect(\n",
    "        vec_txt_peak_total_assay1, \n",
    "        vec_txt_peak_total_assay2\n",
    "    )\n",
    "\n",
    "    ### get the regions that are being called in both assay\n",
    "    vec_txt_peak_active_assay1    = unique(lst_active[[txt_assay1]])\n",
    "    vec_txt_peak_active_assay2    = unique(lst_active[[txt_assay2]])\n",
    "    \n",
    "    vec_txt_peak_active_intersect = intersect(\n",
    "        vec_txt_peak_active_assay1, \n",
    "        vec_txt_peak_active_assay2\n",
    "    )\n",
    "    \n",
    "    vec_txt_peak_active_union = union(\n",
    "        vec_txt_peak_active_assay1, \n",
    "        vec_txt_peak_active_assay2\n",
    "    )\n",
    "\n",
    "    ### \n",
    "    idx1 = c(vec_txt_peak_active_intersect %in% vec_txt_peak_total_intersect)\n",
    "    idx2 = c(vec_txt_peak_active_union     %in% vec_txt_peak_total_intersect)\n",
    "    vec1 = vec_txt_peak_active_intersect[idx1]\n",
    "    vec2 = vec_txt_peak_active_union[idx2]\n",
    "    \n",
    "    ### results\n",
    "    num = length(vec1) / length(vec2)\n",
    "    res = list(\n",
    "        \"Assay1\"     = txt_assay1, \n",
    "        \"Assay2\"     = txt_assay2, \n",
    "        \"Similarity\" = num\n",
    "    )\n",
    "    return(res)\n",
    "}"
   ]
  },
  {
   "cell_type": "code",
   "execution_count": 34,
   "id": "e011b07d-9dcf-494c-9da9-dcac8f25c524",
   "metadata": {},
   "outputs": [
    {
     "data": {
      "text/html": [
       "<style>\n",
       ".list-inline {list-style: none; margin:0; padding: 0}\n",
       ".list-inline>li {display: inline-block}\n",
       ".list-inline>li:not(:last-child)::after {content: \"\\00b7\"; padding: 0 .5ex}\n",
       "</style>\n",
       "<ol class=list-inline><li>'ASTARR'</li><li>'CRISPRi-Growth'</li><li>'CRISPRi-HCRFF'</li><li>'LMPRA'</li><li>'TMPRA'</li><li>'WSTARR'</li></ol>\n"
      ],
      "text/latex": [
       "\\begin{enumerate*}\n",
       "\\item 'ASTARR'\n",
       "\\item 'CRISPRi-Growth'\n",
       "\\item 'CRISPRi-HCRFF'\n",
       "\\item 'LMPRA'\n",
       "\\item 'TMPRA'\n",
       "\\item 'WSTARR'\n",
       "\\end{enumerate*}\n"
      ],
      "text/markdown": [
       "1. 'ASTARR'\n",
       "2. 'CRISPRi-Growth'\n",
       "3. 'CRISPRi-HCRFF'\n",
       "4. 'LMPRA'\n",
       "5. 'TMPRA'\n",
       "6. 'WSTARR'\n",
       "\n",
       "\n"
      ],
      "text/plain": [
       "[1] \"ASTARR\"         \"CRISPRi-Growth\" \"CRISPRi-HCRFF\"  \"LMPRA\"         \n",
       "[5] \"TMPRA\"          \"WSTARR\"        "
      ]
     },
     "metadata": {},
     "output_type": "display_data"
    }
   ],
   "source": [
    "lst = lst_vec_txt_peak_total\n",
    "vec = names(lst)\n",
    "idx = str_detect(vec, \"ENCODE\")\n",
    "vec = vec[!idx]\n",
    "vec"
   ]
  },
  {
   "cell_type": "code",
   "execution_count": 35,
   "id": "34f4df6b-f6ef-48f8-a9a6-91dfa9105dd7",
   "metadata": {},
   "outputs": [
    {
     "name": "stdout",
     "output_type": "stream",
     "text": [
      "[1] 36  3\n"
     ]
    },
    {
     "data": {
      "text/html": [
       "<table class=\"dataframe\">\n",
       "<caption>A tibble: 6 × 3</caption>\n",
       "<thead>\n",
       "\t<tr><th scope=col>Assay1</th><th scope=col>Assay2</th><th scope=col>Similarity</th></tr>\n",
       "\t<tr><th scope=col>&lt;chr&gt;</th><th scope=col>&lt;chr&gt;</th><th scope=col>&lt;dbl&gt;</th></tr>\n",
       "</thead>\n",
       "<tbody>\n",
       "\t<tr><td>ASTARR        </td><td>ASTARR</td><td>1.00000000</td></tr>\n",
       "\t<tr><td>CRISPRi-Growth</td><td>ASTARR</td><td>0.06575554</td></tr>\n",
       "\t<tr><td>CRISPRi-HCRFF </td><td>ASTARR</td><td>0.15337423</td></tr>\n",
       "\t<tr><td>LMPRA         </td><td>ASTARR</td><td>0.24631779</td></tr>\n",
       "\t<tr><td>TMPRA         </td><td>ASTARR</td><td>0.15642458</td></tr>\n",
       "\t<tr><td>WSTARR        </td><td>ASTARR</td><td>0.24727448</td></tr>\n",
       "</tbody>\n",
       "</table>\n"
      ],
      "text/latex": [
       "A tibble: 6 × 3\n",
       "\\begin{tabular}{lll}\n",
       " Assay1 & Assay2 & Similarity\\\\\n",
       " <chr> & <chr> & <dbl>\\\\\n",
       "\\hline\n",
       "\t ASTARR         & ASTARR & 1.00000000\\\\\n",
       "\t CRISPRi-Growth & ASTARR & 0.06575554\\\\\n",
       "\t CRISPRi-HCRFF  & ASTARR & 0.15337423\\\\\n",
       "\t LMPRA          & ASTARR & 0.24631779\\\\\n",
       "\t TMPRA          & ASTARR & 0.15642458\\\\\n",
       "\t WSTARR         & ASTARR & 0.24727448\\\\\n",
       "\\end{tabular}\n"
      ],
      "text/markdown": [
       "\n",
       "A tibble: 6 × 3\n",
       "\n",
       "| Assay1 &lt;chr&gt; | Assay2 &lt;chr&gt; | Similarity &lt;dbl&gt; |\n",
       "|---|---|---|\n",
       "| ASTARR         | ASTARR | 1.00000000 |\n",
       "| CRISPRi-Growth | ASTARR | 0.06575554 |\n",
       "| CRISPRi-HCRFF  | ASTARR | 0.15337423 |\n",
       "| LMPRA          | ASTARR | 0.24631779 |\n",
       "| TMPRA          | ASTARR | 0.15642458 |\n",
       "| WSTARR         | ASTARR | 0.24727448 |\n",
       "\n"
      ],
      "text/plain": [
       "  Assay1         Assay2 Similarity\n",
       "1 ASTARR         ASTARR 1.00000000\n",
       "2 CRISPRi-Growth ASTARR 0.06575554\n",
       "3 CRISPRi-HCRFF  ASTARR 0.15337423\n",
       "4 LMPRA          ASTARR 0.24631779\n",
       "5 TMPRA          ASTARR 0.15642458\n",
       "6 WSTARR         ASTARR 0.24727448"
      ]
     },
     "metadata": {},
     "output_type": "display_data"
    }
   ],
   "source": [
    "###\n",
    "lst = lst_vec_txt_peak_total\n",
    "vec = names(lst)\n",
    "idx = str_detect(vec, \"ENCODE\")\n",
    "vec = vec[!idx]\n",
    "\n",
    "###\n",
    "dat = expand.grid(vec, vec) #%>% t %>% as.data.frame\n",
    "lst = apply(dat, 1, function(vec){\n",
    "    txt1 = vec[1]\n",
    "    txt2 = vec[2]\n",
    "    res  = fun_jaccard(txt1, txt2)\n",
    "    return(res)\n",
    "})\n",
    "dat = bind_rows(lst)\n",
    "\n",
    "### assign and show\n",
    "dat_summary = dat\n",
    "print(dim(dat))\n",
    "head(dat)"
   ]
  },
  {
   "cell_type": "code",
   "execution_count": 36,
   "id": "e6a57d2d-9be5-4d21-85bd-6a0f4360bba7",
   "metadata": {},
   "outputs": [
    {
     "data": {
      "text/html": [
       "<table class=\"dataframe\">\n",
       "<caption>A matrix: 6 × 6 of type dbl</caption>\n",
       "<thead>\n",
       "\t<tr><th></th><th scope=col>ASTARR</th><th scope=col>CRISPRi-Growth</th><th scope=col>CRISPRi-HCRFF</th><th scope=col>LMPRA</th><th scope=col>TMPRA</th><th scope=col>WSTARR</th></tr>\n",
       "</thead>\n",
       "<tbody>\n",
       "\t<tr><th scope=row>ASTARR</th><td>1.00000000</td><td>0.06575554</td><td>0.15337423</td><td>0.24631779</td><td>0.15642458</td><td>0.24727448</td></tr>\n",
       "\t<tr><th scope=row>CRISPRi-Growth</th><td>0.06575554</td><td>1.00000000</td><td>0.24637681</td><td>0.06914968</td><td>0.06732348</td><td>0.08093078</td></tr>\n",
       "\t<tr><th scope=row>CRISPRi-HCRFF</th><td>0.15337423</td><td>0.24637681</td><td>1.00000000</td><td>0.10227273</td><td>0.05405405</td><td>0.10358566</td></tr>\n",
       "\t<tr><th scope=row>LMPRA</th><td>0.24631779</td><td>0.06914968</td><td>0.10227273</td><td>1.00000000</td><td>0.35853379</td><td>0.36892763</td></tr>\n",
       "\t<tr><th scope=row>TMPRA</th><td>0.15642458</td><td>0.06732348</td><td>0.05405405</td><td>0.35853379</td><td>1.00000000</td><td>0.24109589</td></tr>\n",
       "\t<tr><th scope=row>WSTARR</th><td>0.24727448</td><td>0.08093078</td><td>0.10358566</td><td>0.36892763</td><td>0.24109589</td><td>1.00000000</td></tr>\n",
       "</tbody>\n",
       "</table>\n"
      ],
      "text/latex": [
       "A matrix: 6 × 6 of type dbl\n",
       "\\begin{tabular}{r|llllll}\n",
       "  & ASTARR & CRISPRi-Growth & CRISPRi-HCRFF & LMPRA & TMPRA & WSTARR\\\\\n",
       "\\hline\n",
       "\tASTARR & 1.00000000 & 0.06575554 & 0.15337423 & 0.24631779 & 0.15642458 & 0.24727448\\\\\n",
       "\tCRISPRi-Growth & 0.06575554 & 1.00000000 & 0.24637681 & 0.06914968 & 0.06732348 & 0.08093078\\\\\n",
       "\tCRISPRi-HCRFF & 0.15337423 & 0.24637681 & 1.00000000 & 0.10227273 & 0.05405405 & 0.10358566\\\\\n",
       "\tLMPRA & 0.24631779 & 0.06914968 & 0.10227273 & 1.00000000 & 0.35853379 & 0.36892763\\\\\n",
       "\tTMPRA & 0.15642458 & 0.06732348 & 0.05405405 & 0.35853379 & 1.00000000 & 0.24109589\\\\\n",
       "\tWSTARR & 0.24727448 & 0.08093078 & 0.10358566 & 0.36892763 & 0.24109589 & 1.00000000\\\\\n",
       "\\end{tabular}\n"
      ],
      "text/markdown": [
       "\n",
       "A matrix: 6 × 6 of type dbl\n",
       "\n",
       "| <!--/--> | ASTARR | CRISPRi-Growth | CRISPRi-HCRFF | LMPRA | TMPRA | WSTARR |\n",
       "|---|---|---|---|---|---|---|\n",
       "| ASTARR | 1.00000000 | 0.06575554 | 0.15337423 | 0.24631779 | 0.15642458 | 0.24727448 |\n",
       "| CRISPRi-Growth | 0.06575554 | 1.00000000 | 0.24637681 | 0.06914968 | 0.06732348 | 0.08093078 |\n",
       "| CRISPRi-HCRFF | 0.15337423 | 0.24637681 | 1.00000000 | 0.10227273 | 0.05405405 | 0.10358566 |\n",
       "| LMPRA | 0.24631779 | 0.06914968 | 0.10227273 | 1.00000000 | 0.35853379 | 0.36892763 |\n",
       "| TMPRA | 0.15642458 | 0.06732348 | 0.05405405 | 0.35853379 | 1.00000000 | 0.24109589 |\n",
       "| WSTARR | 0.24727448 | 0.08093078 | 0.10358566 | 0.36892763 | 0.24109589 | 1.00000000 |\n",
       "\n"
      ],
      "text/plain": [
       "               ASTARR     CRISPRi-Growth CRISPRi-HCRFF LMPRA      TMPRA     \n",
       "ASTARR         1.00000000 0.06575554     0.15337423    0.24631779 0.15642458\n",
       "CRISPRi-Growth 0.06575554 1.00000000     0.24637681    0.06914968 0.06732348\n",
       "CRISPRi-HCRFF  0.15337423 0.24637681     1.00000000    0.10227273 0.05405405\n",
       "LMPRA          0.24631779 0.06914968     0.10227273    1.00000000 0.35853379\n",
       "TMPRA          0.15642458 0.06732348     0.05405405    0.35853379 1.00000000\n",
       "WSTARR         0.24727448 0.08093078     0.10358566    0.36892763 0.24109589\n",
       "               WSTARR    \n",
       "ASTARR         0.24727448\n",
       "CRISPRi-Growth 0.08093078\n",
       "CRISPRi-HCRFF  0.10358566\n",
       "LMPRA          0.36892763\n",
       "TMPRA          0.24109589\n",
       "WSTARR         1.00000000"
      ]
     },
     "metadata": {},
     "output_type": "display_data"
    }
   ],
   "source": [
    "dat = dat_summary\n",
    "dat = dat %>% \n",
    "    dplyr::mutate(Value = Similarity) %>% \n",
    "    dplyr::select(Assay1, Assay2, Value)\n",
    "\n",
    "mat = dat %>% \n",
    "    tidyr::spread(Assay2, Value) %>% \n",
    "    column_to_rownames(\"Assay1\") %>% \n",
    "    as.matrix\n",
    "\n",
    "mat_score_pairwise = mat\n",
    "mat"
   ]
  },
  {
   "cell_type": "code",
   "execution_count": 38,
   "id": "7fcbaab9-5365-45de-9fc6-95a50096bbd7",
   "metadata": {},
   "outputs": [],
   "source": [
    "mat = mat_score_pairwise\n",
    "\n",
    "paletteLength <- 50\n",
    "#myColor <- colorRampPalette(c(\"#abd9e9\", \"white\", \"#d73027\"))(paletteLength)\n",
    "#myBreaks <- c(seq(-0.1, 0, length.out=ceiling(paletteLength/2) + 1), \n",
    "#              seq(1/paletteLength, 1, length.out=floor(paletteLength/2)))\n",
    "\n",
    "num      = 1\n",
    "myColor  = colorRampPalette(c(\"white\", \"#d73027\"))(paletteLength)\n",
    "myBreaks = seq(0, num, length.out=paletteLength)"
   ]
  },
  {
   "cell_type": "code",
   "execution_count": 39,
   "id": "8f204bbb-fa5a-418b-a909-6525a2541e0f",
   "metadata": {},
   "outputs": [
    {
     "data": {
      "image/png": "[encoded data removed]",
      "text/plain": [
       "plot without title"
      ]
     },
     "metadata": {
      "image/png": {
       "height": 420,
       "width": 420
      }
     },
     "output_type": "display_data"
    }
   ],
   "source": [
    "mat = mat_score_pairwise\n",
    "pheatmap(\n",
    "    mat,\n",
    "    color=myColor, \n",
    "    breaks=myBreaks\n",
    ")"
   ]
  },
  {
   "cell_type": "code",
   "execution_count": null,
   "id": "d8659d1b-954a-4d6b-b909-89ecd3e7ac3d",
   "metadata": {},
   "outputs": [],
   "source": []
  }
 ],
 "metadata": {
  "kernelspec": {
   "display_name": "R",
   "language": "R",
   "name": "ir"
  },
  "language_info": {
   "codemirror_mode": "r",
   "file_extension": ".r",
   "mimetype": "text/x-r-source",
   "name": "R",
   "pygments_lexer": "r",
   "version": "4.3.1"
  }
 },
 "nbformat": 4,
 "nbformat_minor": 5
}
