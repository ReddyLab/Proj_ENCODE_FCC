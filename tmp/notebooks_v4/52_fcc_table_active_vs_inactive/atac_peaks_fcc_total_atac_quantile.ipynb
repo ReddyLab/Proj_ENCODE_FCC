{
 "cells": [
  {
   "cell_type": "code",
   "execution_count": 1,
   "id": "84cec596-6e93-4ab6-9ba5-463c5df0801c",
   "metadata": {},
   "outputs": [
    {
     "name": "stdout",
     "output_type": "stream",
     "text": [
      "You are in Singularity: singularity_proj_encode_fcc \n",
      "BASE DIRECTORY (FD_BASE): /data/reddylab/Kuei \n",
      "WORK DIRECTORY (FD_WORK): /data/reddylab/Kuei/out \n",
      "CODE DIRECTORY (FD_CODE): /data/reddylab/Kuei/code \n",
      "PATH OF PROJECT (FD_PRJ): /data/reddylab/Kuei/code/Proj_CombEffect_ENCODE_FCC \n",
      "PATH OF RESULTS (FD_RES): /data/reddylab/Kuei/out/proj_combeffect_encode_fcc \n",
      "PATH OF LOG     (FD_LOG): /data/reddylab/Kuei/out/proj_combeffect_encode_fcc/log \n"
     ]
    }
   ],
   "source": [
    "suppressWarnings(suppressMessages(source(\"../config/config_sing.R\")))\n",
    "show_env()"
   ]
  },
  {
   "cell_type": "code",
   "execution_count": 3,
   "id": "47831910-7b00-4e04-809e-28cd3dfdd953",
   "metadata": {},
   "outputs": [
    {
     "name": "stdout",
     "output_type": "stream",
     "text": [
      "[1] 732434      7\n"
     ]
    },
    {
     "data": {
      "text/html": [
       "<table class=\"dataframe\">\n",
       "<caption>A tibble: 6 × 7</caption>\n",
       "<thead>\n",
       "\t<tr><th scope=col>Chrom</th><th scope=col>Start</th><th scope=col>End</th><th scope=col>Peak</th><th scope=col>Score</th><th scope=col>Assay_Type</th><th scope=col>Assay_Label</th></tr>\n",
       "\t<tr><th scope=col>&lt;chr&gt;</th><th scope=col>&lt;dbl&gt;</th><th scope=col>&lt;dbl&gt;</th><th scope=col>&lt;chr&gt;</th><th scope=col>&lt;dbl&gt;</th><th scope=col>&lt;chr&gt;</th><th scope=col>&lt;chr&gt;</th></tr>\n",
       "</thead>\n",
       "<tbody>\n",
       "\t<tr><td>chr1</td><td>100006256</td><td>100006880</td><td>chr1:100006256-100006880</td><td>-0.01311792</td><td>ASTARR</td><td>ASTARR_T</td></tr>\n",
       "\t<tr><td>chr1</td><td>100010437</td><td>100010915</td><td>chr1:100010437-100010915</td><td>-0.80687947</td><td>ASTARR</td><td>ASTARR_T</td></tr>\n",
       "\t<tr><td>chr1</td><td> 10002087</td><td> 10003910</td><td>chr1:10002087-10003910  </td><td>-0.34892859</td><td>ASTARR</td><td>ASTARR_T</td></tr>\n",
       "\t<tr><td>chr1</td><td>100021298</td><td>100021629</td><td>chr1:100021298-100021629</td><td>-1.03799571</td><td>ASTARR</td><td>ASTARR_T</td></tr>\n",
       "\t<tr><td>chr1</td><td>100023727</td><td>100023976</td><td>chr1:100023727-100023976</td><td>-0.19100207</td><td>ASTARR</td><td>ASTARR_T</td></tr>\n",
       "\t<tr><td>chr1</td><td>100027983</td><td>100029702</td><td>chr1:100027983-100029702</td><td>-0.18001582</td><td>ASTARR</td><td>ASTARR_T</td></tr>\n",
       "</tbody>\n",
       "</table>\n"
      ],
      "text/latex": [
       "A tibble: 6 × 7\n",
       "\\begin{tabular}{lllllll}\n",
       " Chrom & Start & End & Peak & Score & Assay\\_Type & Assay\\_Label\\\\\n",
       " <chr> & <dbl> & <dbl> & <chr> & <dbl> & <chr> & <chr>\\\\\n",
       "\\hline\n",
       "\t chr1 & 100006256 & 100006880 & chr1:100006256-100006880 & -0.01311792 & ASTARR & ASTARR\\_T\\\\\n",
       "\t chr1 & 100010437 & 100010915 & chr1:100010437-100010915 & -0.80687947 & ASTARR & ASTARR\\_T\\\\\n",
       "\t chr1 &  10002087 &  10003910 & chr1:10002087-10003910   & -0.34892859 & ASTARR & ASTARR\\_T\\\\\n",
       "\t chr1 & 100021298 & 100021629 & chr1:100021298-100021629 & -1.03799571 & ASTARR & ASTARR\\_T\\\\\n",
       "\t chr1 & 100023727 & 100023976 & chr1:100023727-100023976 & -0.19100207 & ASTARR & ASTARR\\_T\\\\\n",
       "\t chr1 & 100027983 & 100029702 & chr1:100027983-100029702 & -0.18001582 & ASTARR & ASTARR\\_T\\\\\n",
       "\\end{tabular}\n"
      ],
      "text/markdown": [
       "\n",
       "A tibble: 6 × 7\n",
       "\n",
       "| Chrom &lt;chr&gt; | Start &lt;dbl&gt; | End &lt;dbl&gt; | Peak &lt;chr&gt; | Score &lt;dbl&gt; | Assay_Type &lt;chr&gt; | Assay_Label &lt;chr&gt; |\n",
       "|---|---|---|---|---|---|---|\n",
       "| chr1 | 100006256 | 100006880 | chr1:100006256-100006880 | -0.01311792 | ASTARR | ASTARR_T |\n",
       "| chr1 | 100010437 | 100010915 | chr1:100010437-100010915 | -0.80687947 | ASTARR | ASTARR_T |\n",
       "| chr1 |  10002087 |  10003910 | chr1:10002087-10003910   | -0.34892859 | ASTARR | ASTARR_T |\n",
       "| chr1 | 100021298 | 100021629 | chr1:100021298-100021629 | -1.03799571 | ASTARR | ASTARR_T |\n",
       "| chr1 | 100023727 | 100023976 | chr1:100023727-100023976 | -0.19100207 | ASTARR | ASTARR_T |\n",
       "| chr1 | 100027983 | 100029702 | chr1:100027983-100029702 | -0.18001582 | ASTARR | ASTARR_T |\n",
       "\n"
      ],
      "text/plain": [
       "  Chrom Start     End       Peak                     Score       Assay_Type\n",
       "1 chr1  100006256 100006880 chr1:100006256-100006880 -0.01311792 ASTARR    \n",
       "2 chr1  100010437 100010915 chr1:100010437-100010915 -0.80687947 ASTARR    \n",
       "3 chr1   10002087  10003910 chr1:10002087-10003910   -0.34892859 ASTARR    \n",
       "4 chr1  100021298 100021629 chr1:100021298-100021629 -1.03799571 ASTARR    \n",
       "5 chr1  100023727 100023976 chr1:100023727-100023976 -0.19100207 ASTARR    \n",
       "6 chr1  100027983 100029702 chr1:100027983-100029702 -0.18001582 ASTARR    \n",
       "  Assay_Label\n",
       "1 ASTARR_T   \n",
       "2 ASTARR_T   \n",
       "3 ASTARR_T   \n",
       "4 ASTARR_T   \n",
       "5 ASTARR_T   \n",
       "6 ASTARR_T   "
      ]
     },
     "metadata": {},
     "output_type": "display_data"
    }
   ],
   "source": [
    "fdiry = file.path(FD_RES, \"results\", \"region\", \"KS91_K562_ASTARRseq_peak_macs_input\", \"summary\")\n",
    "fname = \"peak.screened.fcc.total.tsv\"\n",
    "fpath = file.path(fdiry, fname)\n",
    "\n",
    "dat = read_tsv(fpath, show_col_types=FALSE)\n",
    "\n",
    "dat_peak_atac_fcc_total = dat\n",
    "print(dim(dat))\n",
    "head(dat)"
   ]
  },
  {
   "cell_type": "code",
   "execution_count": 4,
   "id": "f06b269d-2c43-4b76-aa66-3152eb2569c0",
   "metadata": {},
   "outputs": [
    {
     "name": "stdout",
     "output_type": "stream",
     "text": [
      "[1] 246852      6\n"
     ]
    },
    {
     "data": {
      "text/html": [
       "<table class=\"dataframe\">\n",
       "<caption>A tibble: 6 × 6</caption>\n",
       "<thead>\n",
       "\t<tr><th scope=col>Chrom</th><th scope=col>Start</th><th scope=col>End</th><th scope=col>Peak</th><th scope=col>Assay_Type</th><th scope=col>Assay_Label</th></tr>\n",
       "\t<tr><th scope=col>&lt;chr&gt;</th><th scope=col>&lt;dbl&gt;</th><th scope=col>&lt;dbl&gt;</th><th scope=col>&lt;chr&gt;</th><th scope=col>&lt;chr&gt;</th><th scope=col>&lt;chr&gt;</th></tr>\n",
       "</thead>\n",
       "<tbody>\n",
       "\t<tr><td>chr1</td><td>10015</td><td>10442</td><td>chr1:10015-10442</td><td>ATAC</td><td>ATAC_Q3</td></tr>\n",
       "\t<tr><td>chr1</td><td>14253</td><td>14645</td><td>chr1:14253-14645</td><td>ATAC</td><td>ATAC_Q3</td></tr>\n",
       "\t<tr><td>chr1</td><td>16015</td><td>16477</td><td>chr1:16015-16477</td><td>ATAC</td><td>ATAC_Q3</td></tr>\n",
       "\t<tr><td>chr1</td><td>17237</td><td>17772</td><td>chr1:17237-17772</td><td>ATAC</td><td>ATAC_Q4</td></tr>\n",
       "\t<tr><td>chr1</td><td>28903</td><td>29613</td><td>chr1:28903-29613</td><td>ATAC</td><td>ATAC_Q3</td></tr>\n",
       "\t<tr><td>chr1</td><td>30803</td><td>31072</td><td>chr1:30803-31072</td><td>ATAC</td><td>ATAC_Q3</td></tr>\n",
       "</tbody>\n",
       "</table>\n"
      ],
      "text/latex": [
       "A tibble: 6 × 6\n",
       "\\begin{tabular}{llllll}\n",
       " Chrom & Start & End & Peak & Assay\\_Type & Assay\\_Label\\\\\n",
       " <chr> & <dbl> & <dbl> & <chr> & <chr> & <chr>\\\\\n",
       "\\hline\n",
       "\t chr1 & 10015 & 10442 & chr1:10015-10442 & ATAC & ATAC\\_Q3\\\\\n",
       "\t chr1 & 14253 & 14645 & chr1:14253-14645 & ATAC & ATAC\\_Q3\\\\\n",
       "\t chr1 & 16015 & 16477 & chr1:16015-16477 & ATAC & ATAC\\_Q3\\\\\n",
       "\t chr1 & 17237 & 17772 & chr1:17237-17772 & ATAC & ATAC\\_Q4\\\\\n",
       "\t chr1 & 28903 & 29613 & chr1:28903-29613 & ATAC & ATAC\\_Q3\\\\\n",
       "\t chr1 & 30803 & 31072 & chr1:30803-31072 & ATAC & ATAC\\_Q3\\\\\n",
       "\\end{tabular}\n"
      ],
      "text/markdown": [
       "\n",
       "A tibble: 6 × 6\n",
       "\n",
       "| Chrom &lt;chr&gt; | Start &lt;dbl&gt; | End &lt;dbl&gt; | Peak &lt;chr&gt; | Assay_Type &lt;chr&gt; | Assay_Label &lt;chr&gt; |\n",
       "|---|---|---|---|---|---|\n",
       "| chr1 | 10015 | 10442 | chr1:10015-10442 | ATAC | ATAC_Q3 |\n",
       "| chr1 | 14253 | 14645 | chr1:14253-14645 | ATAC | ATAC_Q3 |\n",
       "| chr1 | 16015 | 16477 | chr1:16015-16477 | ATAC | ATAC_Q3 |\n",
       "| chr1 | 17237 | 17772 | chr1:17237-17772 | ATAC | ATAC_Q4 |\n",
       "| chr1 | 28903 | 29613 | chr1:28903-29613 | ATAC | ATAC_Q3 |\n",
       "| chr1 | 30803 | 31072 | chr1:30803-31072 | ATAC | ATAC_Q3 |\n",
       "\n"
      ],
      "text/plain": [
       "  Chrom Start End   Peak             Assay_Type Assay_Label\n",
       "1 chr1  10015 10442 chr1:10015-10442 ATAC       ATAC_Q3    \n",
       "2 chr1  14253 14645 chr1:14253-14645 ATAC       ATAC_Q3    \n",
       "3 chr1  16015 16477 chr1:16015-16477 ATAC       ATAC_Q3    \n",
       "4 chr1  17237 17772 chr1:17237-17772 ATAC       ATAC_Q4    \n",
       "5 chr1  28903 29613 chr1:28903-29613 ATAC       ATAC_Q3    \n",
       "6 chr1  30803 31072 chr1:30803-31072 ATAC       ATAC_Q3    "
      ]
     },
     "metadata": {},
     "output_type": "display_data"
    }
   ],
   "source": [
    "fdiry = file.path(FD_RES, \"results\", \"region\", \"KS91_K562_ASTARRseq_peak_macs_input\", \"summary\")\n",
    "fname = \"peak.screened.atac.quantile.tsv\"\n",
    "fpath = file.path(fdiry, fname)\n",
    "\n",
    "dat = read_tsv(fpath, show_col_types=FALSE)\n",
    "\n",
    "dat_peak_atac_quantile = dat\n",
    "print(dim(dat))\n",
    "head(dat)"
   ]
  },
  {
   "cell_type": "code",
   "execution_count": null,
   "id": "1ed0599f-3dca-4402-9ff8-52d9942c489f",
   "metadata": {},
   "outputs": [],
   "source": []
  },
  {
   "cell_type": "code",
   "execution_count": null,
   "id": "d2403cf2-e86f-40b6-9a3f-e5bc277d8158",
   "metadata": {},
   "outputs": [],
   "source": []
  },
  {
   "cell_type": "code",
   "execution_count": null,
   "id": "416e2b27-c293-4b18-b3e2-50a4a0728475",
   "metadata": {},
   "outputs": [],
   "source": []
  },
  {
   "cell_type": "code",
   "execution_count": null,
   "id": "aa14ffba-53fa-429c-b316-99d37123a1af",
   "metadata": {},
   "outputs": [],
   "source": []
  },
  {
   "cell_type": "code",
   "execution_count": 6,
   "id": "7efc1cc9-0a75-495c-b3f9-01f640ca9799",
   "metadata": {},
   "outputs": [
    {
     "data": {
      "text/plain": [
       "\n",
       "ATAC_Q1 ATAC_Q2 ATAC_Q3 ATAC_Q4 \n",
       "  61713   61713   61713   61713 "
      ]
     },
     "metadata": {},
     "output_type": "display_data"
    }
   ],
   "source": [
    "dat = dat_peak_atac_quantile\n",
    "table(dat$Assay_Label)"
   ]
  },
  {
   "cell_type": "code",
   "execution_count": 10,
   "id": "3daddcaf-65a8-4186-a4d0-b06f7fd510ec",
   "metadata": {},
   "outputs": [
    {
     "data": {
      "text/html": [
       "<style>\n",
       ".list-inline {list-style: none; margin:0; padding: 0}\n",
       ".list-inline>li {display: inline-block}\n",
       ".list-inline>li:not(:last-child)::after {content: \"\\00b7\"; padding: 0 .5ex}\n",
       "</style>\n",
       "<ol class=list-inline><li>'ATAC_Q1'</li><li>'ATAC_Q2'</li><li>'ATAC_Q3'</li><li>'ATAC_Q4'</li></ol>\n"
      ],
      "text/latex": [
       "\\begin{enumerate*}\n",
       "\\item 'ATAC\\_Q1'\n",
       "\\item 'ATAC\\_Q2'\n",
       "\\item 'ATAC\\_Q3'\n",
       "\\item 'ATAC\\_Q4'\n",
       "\\end{enumerate*}\n"
      ],
      "text/markdown": [
       "1. 'ATAC_Q1'\n",
       "2. 'ATAC_Q2'\n",
       "3. 'ATAC_Q3'\n",
       "4. 'ATAC_Q4'\n",
       "\n",
       "\n"
      ],
      "text/plain": [
       "[1] \"ATAC_Q1\" \"ATAC_Q2\" \"ATAC_Q3\" \"ATAC_Q4\""
      ]
     },
     "metadata": {},
     "output_type": "display_data"
    }
   ],
   "source": [
    "dat = dat_peak_atac_quantile\n",
    "lst = split(dat$Peak, dat$Assay_Label)\n",
    "\n",
    "lst_vec_peak_atac_quantile = lst\n",
    "names(lst)"
   ]
  },
  {
   "cell_type": "code",
   "execution_count": 11,
   "id": "a34e9047-6563-475a-90f2-a94f50e78ea6",
   "metadata": {},
   "outputs": [
    {
     "data": {
      "text/plain": [
       "\n",
       "               ASTARR_T        CRISPRi-Growth_T         CRISPRi-HCRFF_T \n",
       "                 246850                   80288                    1330 \n",
       " ENCODE-E2G_Benchmark_T ENCODE-E2G_Prediction_T                 LMPRA_T \n",
       "                   3007                   84129                   68420 \n",
       "                TMPRA_T                WSTARR_T \n",
       "                   1722                  246688 "
      ]
     },
     "metadata": {},
     "output_type": "display_data"
    }
   ],
   "source": [
    "dat = dat_peak_atac_fcc_total\n",
    "table(dat$Assay_Label)"
   ]
  },
  {
   "cell_type": "code",
   "execution_count": 14,
   "id": "f6a54fcd-0c94-4bea-ad6c-bab7edfa54f0",
   "metadata": {},
   "outputs": [
    {
     "data": {
      "text/html": [
       "<style>\n",
       ".list-inline {list-style: none; margin:0; padding: 0}\n",
       ".list-inline>li {display: inline-block}\n",
       ".list-inline>li:not(:last-child)::after {content: \"\\00b7\"; padding: 0 .5ex}\n",
       "</style>\n",
       "<ol class=list-inline><li>'ASTARR_T'</li><li>'CRISPRi-Growth_T'</li><li>'CRISPRi-HCRFF_T'</li><li>'ENCODE-E2G_Benchmark_T'</li><li>'ENCODE-E2G_Prediction_T'</li><li>'LMPRA_T'</li><li>'TMPRA_T'</li><li>'WSTARR_T'</li></ol>\n"
      ],
      "text/latex": [
       "\\begin{enumerate*}\n",
       "\\item 'ASTARR\\_T'\n",
       "\\item 'CRISPRi-Growth\\_T'\n",
       "\\item 'CRISPRi-HCRFF\\_T'\n",
       "\\item 'ENCODE-E2G\\_Benchmark\\_T'\n",
       "\\item 'ENCODE-E2G\\_Prediction\\_T'\n",
       "\\item 'LMPRA\\_T'\n",
       "\\item 'TMPRA\\_T'\n",
       "\\item 'WSTARR\\_T'\n",
       "\\end{enumerate*}\n"
      ],
      "text/markdown": [
       "1. 'ASTARR_T'\n",
       "2. 'CRISPRi-Growth_T'\n",
       "3. 'CRISPRi-HCRFF_T'\n",
       "4. 'ENCODE-E2G_Benchmark_T'\n",
       "5. 'ENCODE-E2G_Prediction_T'\n",
       "6. 'LMPRA_T'\n",
       "7. 'TMPRA_T'\n",
       "8. 'WSTARR_T'\n",
       "\n",
       "\n"
      ],
      "text/plain": [
       "[1] \"ASTARR_T\"                \"CRISPRi-Growth_T\"       \n",
       "[3] \"CRISPRi-HCRFF_T\"         \"ENCODE-E2G_Benchmark_T\" \n",
       "[5] \"ENCODE-E2G_Prediction_T\" \"LMPRA_T\"                \n",
       "[7] \"TMPRA_T\"                 \"WSTARR_T\"               "
      ]
     },
     "metadata": {},
     "output_type": "display_data"
    }
   ],
   "source": [
    "dat = dat_peak_atac_fcc_total\n",
    "lst = split(dat$Peak, dat$Assay_Label)\n",
    "\n",
    "lst_vec_peak_atac_fcc_total = lst\n",
    "names(lst)"
   ]
  },
  {
   "cell_type": "code",
   "execution_count": 16,
   "id": "40b1bc96-33ac-48e1-a711-613f100a9871",
   "metadata": {},
   "outputs": [],
   "source": [
    "lst = lst_vec_peak_atac_fcc_total\n",
    "vec = names(lst)\n",
    "names(vec) = vec\n",
    "vec_txt_assay = vec\n",
    "\n",
    "lst = lapply(vec_txt_assay, function(txt_assay){\n",
    "\n",
    "    vec_peak_fcc_total = lst_vec_peak_atac_fcc_total[[txt_assay]]\n",
    "    \n",
    "    lst_inner = lst_vec_peak_atac_quantile\n",
    "    lst_inner = lapply(lst_inner, function(vec_peak_atac_quantile){\n",
    "        vec = vec_peak_fcc_total %in% vec_peak_atac_quantile\n",
    "        num = mean(vec)\n",
    "        return(num)\n",
    "    \n",
    "    })\n",
    "\n",
    "    vec = unlist(lst_inner)\n",
    "    return(vec)\n",
    "})"
   ]
  },
  {
   "cell_type": "code",
   "execution_count": 24,
   "id": "00e33808-3c41-4dd7-b343-b5f755d00444",
   "metadata": {},
   "outputs": [
    {
     "data": {
      "image/png": "[encoded data removed]",
      "text/plain": [
       "plot without title"
      ]
     },
     "metadata": {
      "image/png": {
       "height": 240,
       "width": 600
      }
     },
     "output_type": "display_data"
    }
   ],
   "source": [
    "vec = c(\"ASTARR\", \"WSTARR\", \"TMPRA\", \"LMPRA\", \"CRISPRi-HCRFF\", \"CRISPRi-Growth\")\n",
    "vec = c(paste(vec, \"T\", sep=\"_\"))\n",
    "\n",
    "dat = bind_rows(lst, .id = \"Assay_Type\")\n",
    "dat = dat %>% dplyr::filter(Assay_Type %in% vec)\n",
    "dat = dat %>% \n",
    "    tidyr::gather(Quantile, Freq, -Assay_Type)\n",
    "\n",
    "vec_txt_color = c(\"ATAC_Q4\" = \"#ef3b2c\", \"ATAC_Q3\" = \"#fc9272\", \"ATAC_Q2\" = \"#fcbba1\", \"ATAC_Q1\" = \"#fee0d2\")\n",
    "\n",
    "options(repr.plot.height=4, repr.plot.width=10)\n",
    "gpt = ggplot(dat, aes(x=Assay_Type, y=Freq, fill=Quantile)) +\n",
    "    geom_col() +\n",
    "    coord_flip() +\n",
    "    theme_cowplot() +\n",
    "    scale_fill_manual(values = vec_txt_color)\n",
    "print(gpt)"
   ]
  },
  {
   "cell_type": "code",
   "execution_count": null,
   "id": "059e69bb-cc08-4cfb-be27-36e33525b1ed",
   "metadata": {},
   "outputs": [],
   "source": []
  }
 ],
 "metadata": {
  "kernelspec": {
   "display_name": "R",
   "language": "R",
   "name": "ir"
  },
  "language_info": {
   "codemirror_mode": "r",
   "file_extension": ".r",
   "mimetype": "text/x-r-source",
   "name": "R",
   "pygments_lexer": "r",
   "version": "4.3.1"
  }
 },
 "nbformat": 4,
 "nbformat_minor": 5
}
