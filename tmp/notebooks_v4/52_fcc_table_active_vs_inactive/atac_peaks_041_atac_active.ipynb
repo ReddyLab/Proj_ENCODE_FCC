{
 "cells": [
  {
   "cell_type": "markdown",
   "metadata": {},
   "source": [
    "**Set environment**"
   ]
  },
  {
   "cell_type": "code",
   "execution_count": 1,
   "metadata": {},
   "outputs": [
    {
     "name": "stdout",
     "output_type": "stream",
     "text": [
      "You are in Singularity: singularity_proj_encode_fcc \n",
      "BASE DIRECTORY (FD_BASE): /data/reddylab/Kuei \n",
      "WORK DIRECTORY (FD_WORK): /data/reddylab/Kuei/out \n",
      "CODE DIRECTORY (FD_CODE): /data/reddylab/Kuei/code \n",
      "PATH OF PROJECT (FD_PRJ): /data/reddylab/Kuei/code/Proj_CombEffect_ENCODE_FCC \n",
      "PATH OF RESULTS (FD_RES): /data/reddylab/Kuei/out/proj_combeffect_encode_fcc \n",
      "PATH OF LOG     (FD_LOG): /data/reddylab/Kuei/out/proj_combeffect_encode_fcc/log \n"
     ]
    }
   ],
   "source": [
    "suppressMessages(suppressWarnings(source(\"../config/config_sing.R\")))\n",
    "show_env()"
   ]
  },
  {
   "cell_type": "markdown",
   "metadata": {},
   "source": [
    "## Import data (All ATAC peaks)"
   ]
  },
  {
   "cell_type": "code",
   "execution_count": 2,
   "metadata": {},
   "outputs": [
    {
     "name": "stderr",
     "output_type": "stream",
     "text": [
      "\u001b[1mRows: \u001b[22m\u001b[34m247520\u001b[39m \u001b[1mColumns: \u001b[22m\u001b[34m3\u001b[39m\n",
      "\u001b[36m──\u001b[39m \u001b[1mColumn specification\u001b[22m \u001b[36m──────────────────────────────────────────────────────\u001b[39m\n",
      "\u001b[1mDelimiter:\u001b[22m \"\\t\"\n",
      "\u001b[31mchr\u001b[39m (1): Chrom\n",
      "\u001b[32mdbl\u001b[39m (2): Start, End\n",
      "\n",
      "\u001b[36mℹ\u001b[39m Use `spec()` to retrieve the full column specification for this data.\n",
      "\u001b[36mℹ\u001b[39m Specify the column types or set `show_col_types = FALSE` to quiet this message.\n"
     ]
    },
    {
     "name": "stdout",
     "output_type": "stream",
     "text": [
      "[1] 247520      3\n"
     ]
    },
    {
     "data": {
      "text/html": [
       "<table class=\"dataframe\">\n",
       "<caption>A tibble: 6 × 3</caption>\n",
       "<thead>\n",
       "\t<tr><th scope=col>Chrom</th><th scope=col>Start</th><th scope=col>End</th></tr>\n",
       "\t<tr><th scope=col>&lt;chr&gt;</th><th scope=col>&lt;dbl&gt;</th><th scope=col>&lt;dbl&gt;</th></tr>\n",
       "</thead>\n",
       "<tbody>\n",
       "\t<tr><td>chr1</td><td>10015</td><td>10442</td></tr>\n",
       "\t<tr><td>chr1</td><td>14253</td><td>14645</td></tr>\n",
       "\t<tr><td>chr1</td><td>16015</td><td>16477</td></tr>\n",
       "\t<tr><td>chr1</td><td>17237</td><td>17772</td></tr>\n",
       "\t<tr><td>chr1</td><td>28903</td><td>29613</td></tr>\n",
       "\t<tr><td>chr1</td><td>30803</td><td>31072</td></tr>\n",
       "</tbody>\n",
       "</table>\n"
      ],
      "text/latex": [
       "A tibble: 6 × 3\n",
       "\\begin{tabular}{lll}\n",
       " Chrom & Start & End\\\\\n",
       " <chr> & <dbl> & <dbl>\\\\\n",
       "\\hline\n",
       "\t chr1 & 10015 & 10442\\\\\n",
       "\t chr1 & 14253 & 14645\\\\\n",
       "\t chr1 & 16015 & 16477\\\\\n",
       "\t chr1 & 17237 & 17772\\\\\n",
       "\t chr1 & 28903 & 29613\\\\\n",
       "\t chr1 & 30803 & 31072\\\\\n",
       "\\end{tabular}\n"
      ],
      "text/markdown": [
       "\n",
       "A tibble: 6 × 3\n",
       "\n",
       "| Chrom &lt;chr&gt; | Start &lt;dbl&gt; | End &lt;dbl&gt; |\n",
       "|---|---|---|\n",
       "| chr1 | 10015 | 10442 |\n",
       "| chr1 | 14253 | 14645 |\n",
       "| chr1 | 16015 | 16477 |\n",
       "| chr1 | 17237 | 17772 |\n",
       "| chr1 | 28903 | 29613 |\n",
       "| chr1 | 30803 | 31072 |\n",
       "\n"
      ],
      "text/plain": [
       "  Chrom Start End  \n",
       "1 chr1  10015 10442\n",
       "2 chr1  14253 14645\n",
       "3 chr1  16015 16477\n",
       "4 chr1  17237 17772\n",
       "5 chr1  28903 29613\n",
       "6 chr1  30803 31072"
      ]
     },
     "metadata": {},
     "output_type": "display_data"
    }
   ],
   "source": [
    "fdiry = file.path(FD_RES, \"results\", \"region\", \"KS91_K562_ASTARRseq_peak_macs_input\")\n",
    "fname = \"KS91_K562_hg38_ASTARRseq_Input.all_reps.masked.union_narrowPeak.q5.bed.gz\"\n",
    "fpath = file.path(fdiry, fname)\n",
    "\n",
    "cnames = c(\"Chrom\", \"Start\", \"End\")\n",
    "dat = read_tsv(fpath, col_names = cnames)\n",
    "\n",
    "dat_peak_atac_total = dat\n",
    "print(dim(dat))\n",
    "head(dat)"
   ]
  },
  {
   "cell_type": "markdown",
   "metadata": {},
   "source": [
    "## Import data (FPKM)"
   ]
  },
  {
   "cell_type": "code",
   "execution_count": 3,
   "metadata": {},
   "outputs": [
    {
     "name": "stderr",
     "output_type": "stream",
     "text": [
      "\u001b[1mRows: \u001b[22m\u001b[34m246852\u001b[39m \u001b[1mColumns: \u001b[22m\u001b[34m15\u001b[39m\n",
      "\u001b[36m──\u001b[39m \u001b[1mColumn specification\u001b[22m \u001b[36m──────────────────────────────────────────────────────\u001b[39m\n",
      "\u001b[1mDelimiter:\u001b[22m \"\\t\"\n",
      "\u001b[31mchr\u001b[39m  (2): Chrom, Peak\n",
      "\u001b[32mdbl\u001b[39m (13): Start, End, Length, Input, Output, Log2FC, pLog2FC, Input_Residual...\n",
      "\n",
      "\u001b[36mℹ\u001b[39m Use `spec()` to retrieve the full column specification for this data.\n",
      "\u001b[36mℹ\u001b[39m Specify the column types or set `show_col_types = FALSE` to quiet this message.\n"
     ]
    },
    {
     "name": "stdout",
     "output_type": "stream",
     "text": [
      "[1] 246852     15\n"
     ]
    },
    {
     "data": {
      "text/html": [
       "<table class=\"dataframe\">\n",
       "<caption>A tibble: 6 × 15</caption>\n",
       "<thead>\n",
       "\t<tr><th scope=col>Chrom</th><th scope=col>Start</th><th scope=col>End</th><th scope=col>Peak</th><th scope=col>Length</th><th scope=col>Input</th><th scope=col>Output</th><th scope=col>Log2FC</th><th scope=col>pLog2FC</th><th scope=col>Input_Residual</th><th scope=col>Input_Score</th><th scope=col>Output_Residual</th><th scope=col>Output_Score</th><th scope=col>Input_FPKM</th><th scope=col>Output_FPKM</th></tr>\n",
       "\t<tr><th scope=col>&lt;chr&gt;</th><th scope=col>&lt;dbl&gt;</th><th scope=col>&lt;dbl&gt;</th><th scope=col>&lt;chr&gt;</th><th scope=col>&lt;dbl&gt;</th><th scope=col>&lt;dbl&gt;</th><th scope=col>&lt;dbl&gt;</th><th scope=col>&lt;dbl&gt;</th><th scope=col>&lt;dbl&gt;</th><th scope=col>&lt;dbl&gt;</th><th scope=col>&lt;dbl&gt;</th><th scope=col>&lt;dbl&gt;</th><th scope=col>&lt;dbl&gt;</th><th scope=col>&lt;dbl&gt;</th><th scope=col>&lt;dbl&gt;</th></tr>\n",
       "</thead>\n",
       "<tbody>\n",
       "\t<tr><td>chr1</td><td>10015</td><td>10442</td><td>chr1:10015-10442</td><td>427</td><td>0.4863317</td><td>0.09736537</td><td>-2.3204599</td><td>-0.43771215</td><td> 0.25149985</td><td>0.1362392</td><td>-0.1433799</td><td>0.07463616</td><td>1.1389501</td><td>0.2280219</td></tr>\n",
       "\t<tr><td>chr1</td><td>14253</td><td>14645</td><td>chr1:14253-14645</td><td>392</td><td>0.3152472</td><td>0.27902967</td><td>-0.1760648</td><td>-0.04028420</td><td> 0.19879784</td><td>0.1357280</td><td> 0.1693269</td><td>0.07589325</td><td>0.8042019</td><td>0.7118104</td></tr>\n",
       "\t<tr><td>chr1</td><td>16015</td><td>16477</td><td>chr1:16015-16477</td><td>462</td><td>0.4361424</td><td>0.15900628</td><td>-1.4557156</td><td>-0.30931046</td><td> 0.08292808</td><td>0.1346040</td><td>-0.2127815</td><td>0.07435717</td><td>0.9440313</td><td>0.3441694</td></tr>\n",
       "\t<tr><td>chr1</td><td>17237</td><td>17772</td><td>chr1:17237-17772</td><td>535</td><td>0.8007562</td><td>0.22194085</td><td>-1.8511878</td><td>-0.55942840</td><td> 0.20062968</td><td>0.1357457</td><td>-0.4231641</td><td>0.07351143</td><td>1.4967405</td><td>0.4148427</td></tr>\n",
       "\t<tr><td>chr1</td><td>28903</td><td>29613</td><td>chr1:28903-29613</td><td>710</td><td>0.7629703</td><td>0.16679463</td><td>-2.1935541</td><td>-0.59545755</td><td>-0.42906879</td><td>0.1296375</td><td>-1.1335228</td><td>0.07065579</td><td>1.0746061</td><td>0.2349220</td></tr>\n",
       "\t<tr><td>chr1</td><td>30803</td><td>31072</td><td>chr1:30803-31072</td><td>269</td><td>0.2774187</td><td>0.21678565</td><td>-0.3557958</td><td>-0.07015643</td><td> 0.57699942</td><td>0.1393966</td><td> 0.5676036</td><td>0.07749432</td><td>1.0312963</td><td>0.8058946</td></tr>\n",
       "</tbody>\n",
       "</table>\n"
      ],
      "text/latex": [
       "A tibble: 6 × 15\n",
       "\\begin{tabular}{lllllllllllllll}\n",
       " Chrom & Start & End & Peak & Length & Input & Output & Log2FC & pLog2FC & Input\\_Residual & Input\\_Score & Output\\_Residual & Output\\_Score & Input\\_FPKM & Output\\_FPKM\\\\\n",
       " <chr> & <dbl> & <dbl> & <chr> & <dbl> & <dbl> & <dbl> & <dbl> & <dbl> & <dbl> & <dbl> & <dbl> & <dbl> & <dbl> & <dbl>\\\\\n",
       "\\hline\n",
       "\t chr1 & 10015 & 10442 & chr1:10015-10442 & 427 & 0.4863317 & 0.09736537 & -2.3204599 & -0.43771215 &  0.25149985 & 0.1362392 & -0.1433799 & 0.07463616 & 1.1389501 & 0.2280219\\\\\n",
       "\t chr1 & 14253 & 14645 & chr1:14253-14645 & 392 & 0.3152472 & 0.27902967 & -0.1760648 & -0.04028420 &  0.19879784 & 0.1357280 &  0.1693269 & 0.07589325 & 0.8042019 & 0.7118104\\\\\n",
       "\t chr1 & 16015 & 16477 & chr1:16015-16477 & 462 & 0.4361424 & 0.15900628 & -1.4557156 & -0.30931046 &  0.08292808 & 0.1346040 & -0.2127815 & 0.07435717 & 0.9440313 & 0.3441694\\\\\n",
       "\t chr1 & 17237 & 17772 & chr1:17237-17772 & 535 & 0.8007562 & 0.22194085 & -1.8511878 & -0.55942840 &  0.20062968 & 0.1357457 & -0.4231641 & 0.07351143 & 1.4967405 & 0.4148427\\\\\n",
       "\t chr1 & 28903 & 29613 & chr1:28903-29613 & 710 & 0.7629703 & 0.16679463 & -2.1935541 & -0.59545755 & -0.42906879 & 0.1296375 & -1.1335228 & 0.07065579 & 1.0746061 & 0.2349220\\\\\n",
       "\t chr1 & 30803 & 31072 & chr1:30803-31072 & 269 & 0.2774187 & 0.21678565 & -0.3557958 & -0.07015643 &  0.57699942 & 0.1393966 &  0.5676036 & 0.07749432 & 1.0312963 & 0.8058946\\\\\n",
       "\\end{tabular}\n"
      ],
      "text/markdown": [
       "\n",
       "A tibble: 6 × 15\n",
       "\n",
       "| Chrom &lt;chr&gt; | Start &lt;dbl&gt; | End &lt;dbl&gt; | Peak &lt;chr&gt; | Length &lt;dbl&gt; | Input &lt;dbl&gt; | Output &lt;dbl&gt; | Log2FC &lt;dbl&gt; | pLog2FC &lt;dbl&gt; | Input_Residual &lt;dbl&gt; | Input_Score &lt;dbl&gt; | Output_Residual &lt;dbl&gt; | Output_Score &lt;dbl&gt; | Input_FPKM &lt;dbl&gt; | Output_FPKM &lt;dbl&gt; |\n",
       "|---|---|---|---|---|---|---|---|---|---|---|---|---|---|---|\n",
       "| chr1 | 10015 | 10442 | chr1:10015-10442 | 427 | 0.4863317 | 0.09736537 | -2.3204599 | -0.43771215 |  0.25149985 | 0.1362392 | -0.1433799 | 0.07463616 | 1.1389501 | 0.2280219 |\n",
       "| chr1 | 14253 | 14645 | chr1:14253-14645 | 392 | 0.3152472 | 0.27902967 | -0.1760648 | -0.04028420 |  0.19879784 | 0.1357280 |  0.1693269 | 0.07589325 | 0.8042019 | 0.7118104 |\n",
       "| chr1 | 16015 | 16477 | chr1:16015-16477 | 462 | 0.4361424 | 0.15900628 | -1.4557156 | -0.30931046 |  0.08292808 | 0.1346040 | -0.2127815 | 0.07435717 | 0.9440313 | 0.3441694 |\n",
       "| chr1 | 17237 | 17772 | chr1:17237-17772 | 535 | 0.8007562 | 0.22194085 | -1.8511878 | -0.55942840 |  0.20062968 | 0.1357457 | -0.4231641 | 0.07351143 | 1.4967405 | 0.4148427 |\n",
       "| chr1 | 28903 | 29613 | chr1:28903-29613 | 710 | 0.7629703 | 0.16679463 | -2.1935541 | -0.59545755 | -0.42906879 | 0.1296375 | -1.1335228 | 0.07065579 | 1.0746061 | 0.2349220 |\n",
       "| chr1 | 30803 | 31072 | chr1:30803-31072 | 269 | 0.2774187 | 0.21678565 | -0.3557958 | -0.07015643 |  0.57699942 | 0.1393966 |  0.5676036 | 0.07749432 | 1.0312963 | 0.8058946 |\n",
       "\n"
      ],
      "text/plain": [
       "  Chrom Start End   Peak             Length Input     Output     Log2FC    \n",
       "1 chr1  10015 10442 chr1:10015-10442 427    0.4863317 0.09736537 -2.3204599\n",
       "2 chr1  14253 14645 chr1:14253-14645 392    0.3152472 0.27902967 -0.1760648\n",
       "3 chr1  16015 16477 chr1:16015-16477 462    0.4361424 0.15900628 -1.4557156\n",
       "4 chr1  17237 17772 chr1:17237-17772 535    0.8007562 0.22194085 -1.8511878\n",
       "5 chr1  28903 29613 chr1:28903-29613 710    0.7629703 0.16679463 -2.1935541\n",
       "6 chr1  30803 31072 chr1:30803-31072 269    0.2774187 0.21678565 -0.3557958\n",
       "  pLog2FC     Input_Residual Input_Score Output_Residual Output_Score\n",
       "1 -0.43771215  0.25149985    0.1362392   -0.1433799      0.07463616  \n",
       "2 -0.04028420  0.19879784    0.1357280    0.1693269      0.07589325  \n",
       "3 -0.30931046  0.08292808    0.1346040   -0.2127815      0.07435717  \n",
       "4 -0.55942840  0.20062968    0.1357457   -0.4231641      0.07351143  \n",
       "5 -0.59545755 -0.42906879    0.1296375   -1.1335228      0.07065579  \n",
       "6 -0.07015643  0.57699942    0.1393966    0.5676036      0.07749432  \n",
       "  Input_FPKM Output_FPKM\n",
       "1 1.1389501  0.2280219  \n",
       "2 0.8042019  0.7118104  \n",
       "3 0.9440313  0.3441694  \n",
       "4 1.4967405  0.4148427  \n",
       "5 1.0746061  0.2349220  \n",
       "6 1.0312963  0.8058946  "
      ]
     },
     "metadata": {},
     "output_type": "display_data"
    }
   ],
   "source": [
    "ASSAY  = \"KS91_K562_ASTARRseq\"\n",
    "FOLDER = \"coverage_astarrseq_peak_macs_input\"\n",
    "\n",
    "fdiry = file.path(FD_RES, \"results\", ASSAY, FOLDER, \"summary\")\n",
    "fname = \"result.score.raw.cpm.WGS.tsv\"\n",
    "fpath = file.path(fdiry, fname)\n",
    "\n",
    "dat = read_tsv(fpath)\n",
    "\n",
    "dat_peak_coverage_astarr = dat\n",
    "print(dim(dat))\n",
    "head(dat)"
   ]
  },
  {
   "cell_type": "markdown",
   "metadata": {},
   "source": [
    "## Define the active regions"
   ]
  },
  {
   "cell_type": "code",
   "execution_count": 4,
   "metadata": {},
   "outputs": [
    {
     "name": "stdout",
     "output_type": "stream",
     "text": [
      "[1] 247520      3\n",
      "[1] 24752\n"
     ]
    }
   ],
   "source": [
    "### init\n",
    "dat = dat_peak_atac_total\n",
    "\n",
    "### how many peaks to pick for top 10%?\n",
    "num = nrow(dat)\n",
    "num = as.integer(num / 10)\n",
    "\n",
    "### assign and show\n",
    "num_size_top10 = num\n",
    "print(dim(dat))\n",
    "print(num)"
   ]
  },
  {
   "cell_type": "code",
   "execution_count": 5,
   "metadata": {},
   "outputs": [
    {
     "name": "stdout",
     "output_type": "stream",
     "text": [
      "[1] 24752     2\n"
     ]
    },
    {
     "data": {
      "text/html": [
       "<table class=\"dataframe\">\n",
       "<caption>A tibble: 6 × 2</caption>\n",
       "<thead>\n",
       "\t<tr><th scope=col>Peak</th><th scope=col>Input_FPKM</th></tr>\n",
       "\t<tr><th scope=col>&lt;chr&gt;</th><th scope=col>&lt;dbl&gt;</th></tr>\n",
       "</thead>\n",
       "<tbody>\n",
       "\t<tr><td>chr22:21735349-21736556</td><td>39.91072</td></tr>\n",
       "\t<tr><td>chr13:91346980-91349411</td><td>39.42543</td></tr>\n",
       "\t<tr><td>chr22:20916756-20918312</td><td>36.73703</td></tr>\n",
       "\t<tr><td>chr22:21628337-21630433</td><td>33.80768</td></tr>\n",
       "\t<tr><td>chr22:21641359-21643456</td><td>32.60726</td></tr>\n",
       "\t<tr><td>chr22:20858084-20859511</td><td>31.77983</td></tr>\n",
       "</tbody>\n",
       "</table>\n"
      ],
      "text/latex": [
       "A tibble: 6 × 2\n",
       "\\begin{tabular}{ll}\n",
       " Peak & Input\\_FPKM\\\\\n",
       " <chr> & <dbl>\\\\\n",
       "\\hline\n",
       "\t chr22:21735349-21736556 & 39.91072\\\\\n",
       "\t chr13:91346980-91349411 & 39.42543\\\\\n",
       "\t chr22:20916756-20918312 & 36.73703\\\\\n",
       "\t chr22:21628337-21630433 & 33.80768\\\\\n",
       "\t chr22:21641359-21643456 & 32.60726\\\\\n",
       "\t chr22:20858084-20859511 & 31.77983\\\\\n",
       "\\end{tabular}\n"
      ],
      "text/markdown": [
       "\n",
       "A tibble: 6 × 2\n",
       "\n",
       "| Peak &lt;chr&gt; | Input_FPKM &lt;dbl&gt; |\n",
       "|---|---|\n",
       "| chr22:21735349-21736556 | 39.91072 |\n",
       "| chr13:91346980-91349411 | 39.42543 |\n",
       "| chr22:20916756-20918312 | 36.73703 |\n",
       "| chr22:21628337-21630433 | 33.80768 |\n",
       "| chr22:21641359-21643456 | 32.60726 |\n",
       "| chr22:20858084-20859511 | 31.77983 |\n",
       "\n"
      ],
      "text/plain": [
       "  Peak                    Input_FPKM\n",
       "1 chr22:21735349-21736556 39.91072  \n",
       "2 chr13:91346980-91349411 39.42543  \n",
       "3 chr22:20916756-20918312 36.73703  \n",
       "4 chr22:21628337-21630433 33.80768  \n",
       "5 chr22:21641359-21643456 32.60726  \n",
       "6 chr22:20858084-20859511 31.77983  "
      ]
     },
     "metadata": {},
     "output_type": "display_data"
    }
   ],
   "source": [
    "### init\n",
    "dat = dat_peak_coverage_astarr\n",
    "\n",
    "### get the top 10%\n",
    "dat = dat %>% \n",
    "    dplyr::select(Peak, Input_FPKM) %>% \n",
    "    dplyr::slice_max(order_by = Input_FPKM, n = num_size_top10)\n",
    "vec = dat$Peak\n",
    "\n",
    "### assign and show\n",
    "vec_txt_peak_active = vec\n",
    "print(dim(dat))\n",
    "head(dat)"
   ]
  },
  {
   "cell_type": "code",
   "execution_count": 6,
   "metadata": {},
   "outputs": [
    {
     "name": "stdout",
     "output_type": "stream",
     "text": [
      "[1] 247520      6\n"
     ]
    },
    {
     "data": {
      "text/html": [
       "<table class=\"dataframe\">\n",
       "<caption>A tibble: 6 × 6</caption>\n",
       "<thead>\n",
       "\t<tr><th scope=col>Chrom</th><th scope=col>Start</th><th scope=col>End</th><th scope=col>Peak</th><th scope=col>Assay_Type</th><th scope=col>Assay_Label</th></tr>\n",
       "\t<tr><th scope=col>&lt;chr&gt;</th><th scope=col>&lt;dbl&gt;</th><th scope=col>&lt;dbl&gt;</th><th scope=col>&lt;chr&gt;</th><th scope=col>&lt;chr&gt;</th><th scope=col>&lt;chr&gt;</th></tr>\n",
       "</thead>\n",
       "<tbody>\n",
       "\t<tr><td>chr1</td><td>10015</td><td>10442</td><td>chr1:10015-10442</td><td>ATAC</td><td>ATAC_I</td></tr>\n",
       "\t<tr><td>chr1</td><td>14253</td><td>14645</td><td>chr1:14253-14645</td><td>ATAC</td><td>ATAC_I</td></tr>\n",
       "\t<tr><td>chr1</td><td>16015</td><td>16477</td><td>chr1:16015-16477</td><td>ATAC</td><td>ATAC_I</td></tr>\n",
       "\t<tr><td>chr1</td><td>17237</td><td>17772</td><td>chr1:17237-17772</td><td>ATAC</td><td>ATAC_I</td></tr>\n",
       "\t<tr><td>chr1</td><td>28903</td><td>29613</td><td>chr1:28903-29613</td><td>ATAC</td><td>ATAC_I</td></tr>\n",
       "\t<tr><td>chr1</td><td>30803</td><td>31072</td><td>chr1:30803-31072</td><td>ATAC</td><td>ATAC_I</td></tr>\n",
       "</tbody>\n",
       "</table>\n"
      ],
      "text/latex": [
       "A tibble: 6 × 6\n",
       "\\begin{tabular}{llllll}\n",
       " Chrom & Start & End & Peak & Assay\\_Type & Assay\\_Label\\\\\n",
       " <chr> & <dbl> & <dbl> & <chr> & <chr> & <chr>\\\\\n",
       "\\hline\n",
       "\t chr1 & 10015 & 10442 & chr1:10015-10442 & ATAC & ATAC\\_I\\\\\n",
       "\t chr1 & 14253 & 14645 & chr1:14253-14645 & ATAC & ATAC\\_I\\\\\n",
       "\t chr1 & 16015 & 16477 & chr1:16015-16477 & ATAC & ATAC\\_I\\\\\n",
       "\t chr1 & 17237 & 17772 & chr1:17237-17772 & ATAC & ATAC\\_I\\\\\n",
       "\t chr1 & 28903 & 29613 & chr1:28903-29613 & ATAC & ATAC\\_I\\\\\n",
       "\t chr1 & 30803 & 31072 & chr1:30803-31072 & ATAC & ATAC\\_I\\\\\n",
       "\\end{tabular}\n"
      ],
      "text/markdown": [
       "\n",
       "A tibble: 6 × 6\n",
       "\n",
       "| Chrom &lt;chr&gt; | Start &lt;dbl&gt; | End &lt;dbl&gt; | Peak &lt;chr&gt; | Assay_Type &lt;chr&gt; | Assay_Label &lt;chr&gt; |\n",
       "|---|---|---|---|---|---|\n",
       "| chr1 | 10015 | 10442 | chr1:10015-10442 | ATAC | ATAC_I |\n",
       "| chr1 | 14253 | 14645 | chr1:14253-14645 | ATAC | ATAC_I |\n",
       "| chr1 | 16015 | 16477 | chr1:16015-16477 | ATAC | ATAC_I |\n",
       "| chr1 | 17237 | 17772 | chr1:17237-17772 | ATAC | ATAC_I |\n",
       "| chr1 | 28903 | 29613 | chr1:28903-29613 | ATAC | ATAC_I |\n",
       "| chr1 | 30803 | 31072 | chr1:30803-31072 | ATAC | ATAC_I |\n",
       "\n"
      ],
      "text/plain": [
       "  Chrom Start End   Peak             Assay_Type Assay_Label\n",
       "1 chr1  10015 10442 chr1:10015-10442 ATAC       ATAC_I     \n",
       "2 chr1  14253 14645 chr1:14253-14645 ATAC       ATAC_I     \n",
       "3 chr1  16015 16477 chr1:16015-16477 ATAC       ATAC_I     \n",
       "4 chr1  17237 17772 chr1:17237-17772 ATAC       ATAC_I     \n",
       "5 chr1  28903 29613 chr1:28903-29613 ATAC       ATAC_I     \n",
       "6 chr1  30803 31072 chr1:30803-31072 ATAC       ATAC_I     "
      ]
     },
     "metadata": {},
     "output_type": "display_data"
    }
   ],
   "source": [
    "### init\n",
    "dat = dat_peak_atac_total\n",
    "\n",
    "### label peaks by top 10% of FPKM\n",
    "dat = dat %>%\n",
    "    dplyr::mutate(Peak = paste0(Chrom, \":\", Start, \"-\", End)) %>% \n",
    "    dplyr::mutate(is_Top10 = Peak %in% vec_txt_peak_active) %>%\n",
    "    dplyr::mutate(\n",
    "        Assay_Type  = \"ATAC\",\n",
    "        Assay_Label = ifelse(\n",
    "            is_Top10,\n",
    "            \"ATAC_A\",\n",
    "            \"ATAC_I\"\n",
    "        )\n",
    "    )\n",
    "\n",
    "### arrange table\n",
    "dat = dat %>% \n",
    "    dplyr::select(Chrom, Start, End, Peak, Assay_Type, Assay_Label) %>%\n",
    "    dplyr::arrange(Chrom, Start, End)\n",
    "\n",
    "### assign and show\n",
    "dat_peak_atac_label = dat\n",
    "print(dim(dat))\n",
    "head(dat)"
   ]
  },
  {
   "cell_type": "markdown",
   "metadata": {},
   "source": [
    "**Results**"
   ]
  },
  {
   "cell_type": "code",
   "execution_count": 7,
   "metadata": {},
   "outputs": [
    {
     "data": {
      "text/plain": [
       "\n",
       "ATAC_A ATAC_I \n",
       " 24752 222768 "
      ]
     },
     "metadata": {},
     "output_type": "display_data"
    }
   ],
   "source": [
    "dat = dat_peak_atac_label\n",
    "table(dat$Assay_Label)"
   ]
  },
  {
   "cell_type": "markdown",
   "metadata": {},
   "source": [
    "## Save results"
   ]
  },
  {
   "cell_type": "code",
   "execution_count": 8,
   "metadata": {},
   "outputs": [],
   "source": [
    "### set file paths\n",
    "fdiry  = file.path(\n",
    "    FD_RES, \n",
    "    \"results\",\n",
    "    \"region\",\n",
    "    \"KS91_K562_ASTARRseq_peak_macs_input\",\n",
    "    \"summary\"\n",
    ")\n",
    "fname = paste(\"peak\", \"screened\", \"atac\", \"active\", \"tsv\", sep = \".\")\n",
    "fpath = file.path(fdiry, fname)\n",
    "\n",
    "### save table\n",
    "dat = dat_peak_atac_label\n",
    "write_tsv(dat, fpath)"
   ]
  },
  {
   "cell_type": "code",
   "execution_count": null,
   "metadata": {},
   "outputs": [],
   "source": []
  }
 ],
 "metadata": {
  "kernelspec": {
   "display_name": "R",
   "language": "R",
   "name": "ir"
  },
  "language_info": {
   "codemirror_mode": "r",
   "file_extension": ".r",
   "mimetype": "text/x-r-source",
   "name": "R",
   "pygments_lexer": "r",
   "version": "4.3.1"
  }
 },
 "nbformat": 4,
 "nbformat_minor": 4
}
