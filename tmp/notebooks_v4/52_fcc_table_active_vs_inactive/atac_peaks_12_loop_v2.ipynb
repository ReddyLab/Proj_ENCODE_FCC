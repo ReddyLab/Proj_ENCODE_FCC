{
 "cells": [
  {
   "cell_type": "markdown",
   "metadata": {},
   "source": [
    "**Set environment**"
   ]
  },
  {
   "cell_type": "code",
   "execution_count": 1,
   "metadata": {},
   "outputs": [
    {
     "name": "stdout",
     "output_type": "stream",
     "text": [
      "You are in Singularity: singularity_proj_encode_fcc \n",
      "BASE DIRECTORY (FD_BASE): /data/reddylab/Kuei \n",
      "WORK DIRECTORY (FD_WORK): /data/reddylab/Kuei/out \n",
      "CODE DIRECTORY (FD_CODE): /data/reddylab/Kuei/code \n",
      "PATH OF PROJECT (FD_PRJ): /data/reddylab/Kuei/code/Proj_CombEffect_ENCODE_FCC \n",
      "PATH OF RESULTS (FD_RES): /data/reddylab/Kuei/out/proj_combeffect_encode_fcc \n",
      "PATH OF LOG     (FD_LOG): /data/reddylab/Kuei/out/proj_combeffect_encode_fcc/log \n"
     ]
    }
   ],
   "source": [
    "suppressWarnings(suppressMessages(source(\"../config/config_sing.R\")))\n",
    "show_env()"
   ]
  },
  {
   "cell_type": "markdown",
   "metadata": {},
   "source": [
    "## Import data"
   ]
  },
  {
   "cell_type": "code",
   "execution_count": 2,
   "metadata": {},
   "outputs": [
    {
     "name": "stdout",
     "output_type": "stream",
     "text": [
      "[1] 732434      7\n"
     ]
    },
    {
     "data": {
      "text/html": [
       "<table class=\"dataframe\">\n",
       "<caption>A tibble: 6 × 7</caption>\n",
       "<thead>\n",
       "\t<tr><th scope=col>Chrom</th><th scope=col>Start</th><th scope=col>End</th><th scope=col>Peak</th><th scope=col>Score</th><th scope=col>Assay_Type</th><th scope=col>Assay_Label</th></tr>\n",
       "\t<tr><th scope=col>&lt;chr&gt;</th><th scope=col>&lt;dbl&gt;</th><th scope=col>&lt;dbl&gt;</th><th scope=col>&lt;chr&gt;</th><th scope=col>&lt;dbl&gt;</th><th scope=col>&lt;chr&gt;</th><th scope=col>&lt;chr&gt;</th></tr>\n",
       "</thead>\n",
       "<tbody>\n",
       "\t<tr><td>chr1</td><td>100006256</td><td>100006880</td><td>chr1:100006256-100006880</td><td>-0.01311792</td><td>ASTARR</td><td>ASTARR_T</td></tr>\n",
       "\t<tr><td>chr1</td><td>100010437</td><td>100010915</td><td>chr1:100010437-100010915</td><td>-0.80687947</td><td>ASTARR</td><td>ASTARR_T</td></tr>\n",
       "\t<tr><td>chr1</td><td> 10002087</td><td> 10003910</td><td>chr1:10002087-10003910  </td><td>-0.34892859</td><td>ASTARR</td><td>ASTARR_T</td></tr>\n",
       "\t<tr><td>chr1</td><td>100021298</td><td>100021629</td><td>chr1:100021298-100021629</td><td>-1.03799571</td><td>ASTARR</td><td>ASTARR_T</td></tr>\n",
       "\t<tr><td>chr1</td><td>100023727</td><td>100023976</td><td>chr1:100023727-100023976</td><td>-0.19100207</td><td>ASTARR</td><td>ASTARR_T</td></tr>\n",
       "\t<tr><td>chr1</td><td>100027983</td><td>100029702</td><td>chr1:100027983-100029702</td><td>-0.18001582</td><td>ASTARR</td><td>ASTARR_T</td></tr>\n",
       "</tbody>\n",
       "</table>\n"
      ],
      "text/latex": [
       "A tibble: 6 × 7\n",
       "\\begin{tabular}{lllllll}\n",
       " Chrom & Start & End & Peak & Score & Assay\\_Type & Assay\\_Label\\\\\n",
       " <chr> & <dbl> & <dbl> & <chr> & <dbl> & <chr> & <chr>\\\\\n",
       "\\hline\n",
       "\t chr1 & 100006256 & 100006880 & chr1:100006256-100006880 & -0.01311792 & ASTARR & ASTARR\\_T\\\\\n",
       "\t chr1 & 100010437 & 100010915 & chr1:100010437-100010915 & -0.80687947 & ASTARR & ASTARR\\_T\\\\\n",
       "\t chr1 &  10002087 &  10003910 & chr1:10002087-10003910   & -0.34892859 & ASTARR & ASTARR\\_T\\\\\n",
       "\t chr1 & 100021298 & 100021629 & chr1:100021298-100021629 & -1.03799571 & ASTARR & ASTARR\\_T\\\\\n",
       "\t chr1 & 100023727 & 100023976 & chr1:100023727-100023976 & -0.19100207 & ASTARR & ASTARR\\_T\\\\\n",
       "\t chr1 & 100027983 & 100029702 & chr1:100027983-100029702 & -0.18001582 & ASTARR & ASTARR\\_T\\\\\n",
       "\\end{tabular}\n"
      ],
      "text/markdown": [
       "\n",
       "A tibble: 6 × 7\n",
       "\n",
       "| Chrom &lt;chr&gt; | Start &lt;dbl&gt; | End &lt;dbl&gt; | Peak &lt;chr&gt; | Score &lt;dbl&gt; | Assay_Type &lt;chr&gt; | Assay_Label &lt;chr&gt; |\n",
       "|---|---|---|---|---|---|---|\n",
       "| chr1 | 100006256 | 100006880 | chr1:100006256-100006880 | -0.01311792 | ASTARR | ASTARR_T |\n",
       "| chr1 | 100010437 | 100010915 | chr1:100010437-100010915 | -0.80687947 | ASTARR | ASTARR_T |\n",
       "| chr1 |  10002087 |  10003910 | chr1:10002087-10003910   | -0.34892859 | ASTARR | ASTARR_T |\n",
       "| chr1 | 100021298 | 100021629 | chr1:100021298-100021629 | -1.03799571 | ASTARR | ASTARR_T |\n",
       "| chr1 | 100023727 | 100023976 | chr1:100023727-100023976 | -0.19100207 | ASTARR | ASTARR_T |\n",
       "| chr1 | 100027983 | 100029702 | chr1:100027983-100029702 | -0.18001582 | ASTARR | ASTARR_T |\n",
       "\n"
      ],
      "text/plain": [
       "  Chrom Start     End       Peak                     Score       Assay_Type\n",
       "1 chr1  100006256 100006880 chr1:100006256-100006880 -0.01311792 ASTARR    \n",
       "2 chr1  100010437 100010915 chr1:100010437-100010915 -0.80687947 ASTARR    \n",
       "3 chr1   10002087  10003910 chr1:10002087-10003910   -0.34892859 ASTARR    \n",
       "4 chr1  100021298 100021629 chr1:100021298-100021629 -1.03799571 ASTARR    \n",
       "5 chr1  100023727 100023976 chr1:100023727-100023976 -0.19100207 ASTARR    \n",
       "6 chr1  100027983 100029702 chr1:100027983-100029702 -0.18001582 ASTARR    \n",
       "  Assay_Label\n",
       "1 ASTARR_T   \n",
       "2 ASTARR_T   \n",
       "3 ASTARR_T   \n",
       "4 ASTARR_T   \n",
       "5 ASTARR_T   \n",
       "6 ASTARR_T   "
      ]
     },
     "metadata": {},
     "output_type": "display_data"
    }
   ],
   "source": [
    "fdiry = file.path(FD_RES, \"results\", \"region\", \"KS91_K562_ASTARRseq_peak_macs_input\", \"summary\")\n",
    "fname = \"peak.screened.fcc.total.tsv\"\n",
    "fpath = file.path(fdiry, fname)\n",
    "\n",
    "dat = read_tsv(fpath, show_col_types=FALSE)\n",
    "\n",
    "dat_peak_atac_fcc_total = dat\n",
    "print(dim(dat))\n",
    "head(dat)"
   ]
  },
  {
   "cell_type": "code",
   "execution_count": 3,
   "metadata": {},
   "outputs": [
    {
     "name": "stdout",
     "output_type": "stream",
     "text": [
      "[1] 167127      6\n"
     ]
    },
    {
     "data": {
      "text/html": [
       "<table class=\"dataframe\">\n",
       "<caption>A tibble: 6 × 6</caption>\n",
       "<thead>\n",
       "\t<tr><th scope=col>Chrom</th><th scope=col>Start</th><th scope=col>End</th><th scope=col>Peak</th><th scope=col>Assay_Type</th><th scope=col>Assay_Label</th></tr>\n",
       "\t<tr><th scope=col>&lt;chr&gt;</th><th scope=col>&lt;dbl&gt;</th><th scope=col>&lt;dbl&gt;</th><th scope=col>&lt;chr&gt;</th><th scope=col>&lt;chr&gt;</th><th scope=col>&lt;chr&gt;</th></tr>\n",
       "</thead>\n",
       "<tbody>\n",
       "\t<tr><td>chr1</td><td>101198203</td><td>101199537</td><td>chr1:101198203-101199537</td><td>ASTARR</td><td>ASTARR_AB</td></tr>\n",
       "\t<tr><td>chr1</td><td>  1012902</td><td>  1014502</td><td>chr1:1012902-1014502    </td><td>ASTARR</td><td>ASTARR_AB</td></tr>\n",
       "\t<tr><td>chr1</td><td>109213422</td><td>109215054</td><td>chr1:109213422-109215054</td><td>ASTARR</td><td>ASTARR_AB</td></tr>\n",
       "\t<tr><td>chr1</td><td>109218538</td><td>109219133</td><td>chr1:109218538-109219133</td><td>ASTARR</td><td>ASTARR_AB</td></tr>\n",
       "\t<tr><td>chr1</td><td>109388963</td><td>109390708</td><td>chr1:109388963-109390708</td><td>ASTARR</td><td>ASTARR_AB</td></tr>\n",
       "\t<tr><td>chr1</td><td>109476546</td><td>109477209</td><td>chr1:109476546-109477209</td><td>ASTARR</td><td>ASTARR_AB</td></tr>\n",
       "</tbody>\n",
       "</table>\n"
      ],
      "text/latex": [
       "A tibble: 6 × 6\n",
       "\\begin{tabular}{llllll}\n",
       " Chrom & Start & End & Peak & Assay\\_Type & Assay\\_Label\\\\\n",
       " <chr> & <dbl> & <dbl> & <chr> & <chr> & <chr>\\\\\n",
       "\\hline\n",
       "\t chr1 & 101198203 & 101199537 & chr1:101198203-101199537 & ASTARR & ASTARR\\_AB\\\\\n",
       "\t chr1 &   1012902 &   1014502 & chr1:1012902-1014502     & ASTARR & ASTARR\\_AB\\\\\n",
       "\t chr1 & 109213422 & 109215054 & chr1:109213422-109215054 & ASTARR & ASTARR\\_AB\\\\\n",
       "\t chr1 & 109218538 & 109219133 & chr1:109218538-109219133 & ASTARR & ASTARR\\_AB\\\\\n",
       "\t chr1 & 109388963 & 109390708 & chr1:109388963-109390708 & ASTARR & ASTARR\\_AB\\\\\n",
       "\t chr1 & 109476546 & 109477209 & chr1:109476546-109477209 & ASTARR & ASTARR\\_AB\\\\\n",
       "\\end{tabular}\n"
      ],
      "text/markdown": [
       "\n",
       "A tibble: 6 × 6\n",
       "\n",
       "| Chrom &lt;chr&gt; | Start &lt;dbl&gt; | End &lt;dbl&gt; | Peak &lt;chr&gt; | Assay_Type &lt;chr&gt; | Assay_Label &lt;chr&gt; |\n",
       "|---|---|---|---|---|---|\n",
       "| chr1 | 101198203 | 101199537 | chr1:101198203-101199537 | ASTARR | ASTARR_AB |\n",
       "| chr1 |   1012902 |   1014502 | chr1:1012902-1014502     | ASTARR | ASTARR_AB |\n",
       "| chr1 | 109213422 | 109215054 | chr1:109213422-109215054 | ASTARR | ASTARR_AB |\n",
       "| chr1 | 109218538 | 109219133 | chr1:109218538-109219133 | ASTARR | ASTARR_AB |\n",
       "| chr1 | 109388963 | 109390708 | chr1:109388963-109390708 | ASTARR | ASTARR_AB |\n",
       "| chr1 | 109476546 | 109477209 | chr1:109476546-109477209 | ASTARR | ASTARR_AB |\n",
       "\n"
      ],
      "text/plain": [
       "  Chrom Start     End       Peak                     Assay_Type Assay_Label\n",
       "1 chr1  101198203 101199537 chr1:101198203-101199537 ASTARR     ASTARR_AB  \n",
       "2 chr1    1012902   1014502 chr1:1012902-1014502     ASTARR     ASTARR_AB  \n",
       "3 chr1  109213422 109215054 chr1:109213422-109215054 ASTARR     ASTARR_AB  \n",
       "4 chr1  109218538 109219133 chr1:109218538-109219133 ASTARR     ASTARR_AB  \n",
       "5 chr1  109388963 109390708 chr1:109388963-109390708 ASTARR     ASTARR_AB  \n",
       "6 chr1  109476546 109477209 chr1:109476546-109477209 ASTARR     ASTARR_AB  "
      ]
     },
     "metadata": {},
     "output_type": "display_data"
    }
   ],
   "source": [
    "fdiry = file.path(FD_RES, \"results\", \"region\", \"KS91_K562_ASTARRseq_peak_macs_input\", \"summary\")\n",
    "fname = \"peak.screened.fcc.active.tsv\"\n",
    "fpath = file.path(fdiry, fname)\n",
    "\n",
    "dat = read_tsv(fpath, show_col_types=FALSE)\n",
    "\n",
    "dat_peak_atac_fcc_active = dat\n",
    "print(dim(dat))\n",
    "head(dat)"
   ]
  },
  {
   "cell_type": "code",
   "execution_count": 4,
   "metadata": {},
   "outputs": [
    {
     "name": "stdout",
     "output_type": "stream",
     "text": [
      "[1] 600872      6\n"
     ]
    },
    {
     "data": {
      "text/html": [
       "<table class=\"dataframe\">\n",
       "<caption>A tibble: 6 × 6</caption>\n",
       "<thead>\n",
       "\t<tr><th scope=col>Chrom</th><th scope=col>Start</th><th scope=col>End</th><th scope=col>Peak</th><th scope=col>Assay_Type</th><th scope=col>Assay_Label</th></tr>\n",
       "\t<tr><th scope=col>&lt;chr&gt;</th><th scope=col>&lt;dbl&gt;</th><th scope=col>&lt;dbl&gt;</th><th scope=col>&lt;chr&gt;</th><th scope=col>&lt;chr&gt;</th><th scope=col>&lt;chr&gt;</th></tr>\n",
       "</thead>\n",
       "<tbody>\n",
       "\t<tr><td>chr1</td><td>10015</td><td>10442</td><td>chr1:10015-10442</td><td>ASTARR</td><td>ASTARR_I</td></tr>\n",
       "\t<tr><td>chr1</td><td>14253</td><td>14645</td><td>chr1:14253-14645</td><td>ASTARR</td><td>ASTARR_I</td></tr>\n",
       "\t<tr><td>chr1</td><td>16015</td><td>16477</td><td>chr1:16015-16477</td><td>ASTARR</td><td>ASTARR_I</td></tr>\n",
       "\t<tr><td>chr1</td><td>17237</td><td>17772</td><td>chr1:17237-17772</td><td>ASTARR</td><td>ASTARR_I</td></tr>\n",
       "\t<tr><td>chr1</td><td>28903</td><td>29613</td><td>chr1:28903-29613</td><td>ASTARR</td><td>ASTARR_I</td></tr>\n",
       "\t<tr><td>chr1</td><td>30803</td><td>31072</td><td>chr1:30803-31072</td><td>ASTARR</td><td>ASTARR_I</td></tr>\n",
       "</tbody>\n",
       "</table>\n"
      ],
      "text/latex": [
       "A tibble: 6 × 6\n",
       "\\begin{tabular}{llllll}\n",
       " Chrom & Start & End & Peak & Assay\\_Type & Assay\\_Label\\\\\n",
       " <chr> & <dbl> & <dbl> & <chr> & <chr> & <chr>\\\\\n",
       "\\hline\n",
       "\t chr1 & 10015 & 10442 & chr1:10015-10442 & ASTARR & ASTARR\\_I\\\\\n",
       "\t chr1 & 14253 & 14645 & chr1:14253-14645 & ASTARR & ASTARR\\_I\\\\\n",
       "\t chr1 & 16015 & 16477 & chr1:16015-16477 & ASTARR & ASTARR\\_I\\\\\n",
       "\t chr1 & 17237 & 17772 & chr1:17237-17772 & ASTARR & ASTARR\\_I\\\\\n",
       "\t chr1 & 28903 & 29613 & chr1:28903-29613 & ASTARR & ASTARR\\_I\\\\\n",
       "\t chr1 & 30803 & 31072 & chr1:30803-31072 & ASTARR & ASTARR\\_I\\\\\n",
       "\\end{tabular}\n"
      ],
      "text/markdown": [
       "\n",
       "A tibble: 6 × 6\n",
       "\n",
       "| Chrom &lt;chr&gt; | Start &lt;dbl&gt; | End &lt;dbl&gt; | Peak &lt;chr&gt; | Assay_Type &lt;chr&gt; | Assay_Label &lt;chr&gt; |\n",
       "|---|---|---|---|---|---|\n",
       "| chr1 | 10015 | 10442 | chr1:10015-10442 | ASTARR | ASTARR_I |\n",
       "| chr1 | 14253 | 14645 | chr1:14253-14645 | ASTARR | ASTARR_I |\n",
       "| chr1 | 16015 | 16477 | chr1:16015-16477 | ASTARR | ASTARR_I |\n",
       "| chr1 | 17237 | 17772 | chr1:17237-17772 | ASTARR | ASTARR_I |\n",
       "| chr1 | 28903 | 29613 | chr1:28903-29613 | ASTARR | ASTARR_I |\n",
       "| chr1 | 30803 | 31072 | chr1:30803-31072 | ASTARR | ASTARR_I |\n",
       "\n"
      ],
      "text/plain": [
       "  Chrom Start End   Peak             Assay_Type Assay_Label\n",
       "1 chr1  10015 10442 chr1:10015-10442 ASTARR     ASTARR_I   \n",
       "2 chr1  14253 14645 chr1:14253-14645 ASTARR     ASTARR_I   \n",
       "3 chr1  16015 16477 chr1:16015-16477 ASTARR     ASTARR_I   \n",
       "4 chr1  17237 17772 chr1:17237-17772 ASTARR     ASTARR_I   \n",
       "5 chr1  28903 29613 chr1:28903-29613 ASTARR     ASTARR_I   \n",
       "6 chr1  30803 31072 chr1:30803-31072 ASTARR     ASTARR_I   "
      ]
     },
     "metadata": {},
     "output_type": "display_data"
    }
   ],
   "source": [
    "fdiry = file.path(FD_RES, \"results\", \"region\", \"KS91_K562_ASTARRseq_peak_macs_input\", \"summary\")\n",
    "fname = \"peak.screened.fcc.inactive.tsv\"\n",
    "fpath = file.path(fdiry, fname)\n",
    "\n",
    "dat = read_tsv(fpath, show_col_types=FALSE)\n",
    "\n",
    "dat_peak_atac_fcc_inactive = dat\n",
    "print(dim(dat))\n",
    "head(dat)"
   ]
  },
  {
   "cell_type": "code",
   "execution_count": 5,
   "metadata": {},
   "outputs": [
    {
     "name": "stdout",
     "output_type": "stream",
     "text": [
      "[1] 247520      6\n"
     ]
    },
    {
     "data": {
      "text/html": [
       "<table class=\"dataframe\">\n",
       "<caption>A tibble: 6 × 6</caption>\n",
       "<thead>\n",
       "\t<tr><th scope=col>Chrom</th><th scope=col>Start</th><th scope=col>End</th><th scope=col>Peak</th><th scope=col>Assay_Type</th><th scope=col>Assay_Label</th></tr>\n",
       "\t<tr><th scope=col>&lt;chr&gt;</th><th scope=col>&lt;dbl&gt;</th><th scope=col>&lt;dbl&gt;</th><th scope=col>&lt;chr&gt;</th><th scope=col>&lt;chr&gt;</th><th scope=col>&lt;chr&gt;</th></tr>\n",
       "</thead>\n",
       "<tbody>\n",
       "\t<tr><td>chr1</td><td>10015</td><td>10442</td><td>chr1:10015-10442</td><td>ATAC</td><td>ATAC_T</td></tr>\n",
       "\t<tr><td>chr1</td><td>14253</td><td>14645</td><td>chr1:14253-14645</td><td>ATAC</td><td>ATAC_T</td></tr>\n",
       "\t<tr><td>chr1</td><td>16015</td><td>16477</td><td>chr1:16015-16477</td><td>ATAC</td><td>ATAC_T</td></tr>\n",
       "\t<tr><td>chr1</td><td>17237</td><td>17772</td><td>chr1:17237-17772</td><td>ATAC</td><td>ATAC_T</td></tr>\n",
       "\t<tr><td>chr1</td><td>28903</td><td>29613</td><td>chr1:28903-29613</td><td>ATAC</td><td>ATAC_T</td></tr>\n",
       "\t<tr><td>chr1</td><td>30803</td><td>31072</td><td>chr1:30803-31072</td><td>ATAC</td><td>ATAC_T</td></tr>\n",
       "</tbody>\n",
       "</table>\n"
      ],
      "text/latex": [
       "A tibble: 6 × 6\n",
       "\\begin{tabular}{llllll}\n",
       " Chrom & Start & End & Peak & Assay\\_Type & Assay\\_Label\\\\\n",
       " <chr> & <dbl> & <dbl> & <chr> & <chr> & <chr>\\\\\n",
       "\\hline\n",
       "\t chr1 & 10015 & 10442 & chr1:10015-10442 & ATAC & ATAC\\_T\\\\\n",
       "\t chr1 & 14253 & 14645 & chr1:14253-14645 & ATAC & ATAC\\_T\\\\\n",
       "\t chr1 & 16015 & 16477 & chr1:16015-16477 & ATAC & ATAC\\_T\\\\\n",
       "\t chr1 & 17237 & 17772 & chr1:17237-17772 & ATAC & ATAC\\_T\\\\\n",
       "\t chr1 & 28903 & 29613 & chr1:28903-29613 & ATAC & ATAC\\_T\\\\\n",
       "\t chr1 & 30803 & 31072 & chr1:30803-31072 & ATAC & ATAC\\_T\\\\\n",
       "\\end{tabular}\n"
      ],
      "text/markdown": [
       "\n",
       "A tibble: 6 × 6\n",
       "\n",
       "| Chrom &lt;chr&gt; | Start &lt;dbl&gt; | End &lt;dbl&gt; | Peak &lt;chr&gt; | Assay_Type &lt;chr&gt; | Assay_Label &lt;chr&gt; |\n",
       "|---|---|---|---|---|---|\n",
       "| chr1 | 10015 | 10442 | chr1:10015-10442 | ATAC | ATAC_T |\n",
       "| chr1 | 14253 | 14645 | chr1:14253-14645 | ATAC | ATAC_T |\n",
       "| chr1 | 16015 | 16477 | chr1:16015-16477 | ATAC | ATAC_T |\n",
       "| chr1 | 17237 | 17772 | chr1:17237-17772 | ATAC | ATAC_T |\n",
       "| chr1 | 28903 | 29613 | chr1:28903-29613 | ATAC | ATAC_T |\n",
       "| chr1 | 30803 | 31072 | chr1:30803-31072 | ATAC | ATAC_T |\n",
       "\n"
      ],
      "text/plain": [
       "  Chrom Start End   Peak             Assay_Type Assay_Label\n",
       "1 chr1  10015 10442 chr1:10015-10442 ATAC       ATAC_T     \n",
       "2 chr1  14253 14645 chr1:14253-14645 ATAC       ATAC_T     \n",
       "3 chr1  16015 16477 chr1:16015-16477 ATAC       ATAC_T     \n",
       "4 chr1  17237 17772 chr1:17237-17772 ATAC       ATAC_T     \n",
       "5 chr1  28903 29613 chr1:28903-29613 ATAC       ATAC_T     \n",
       "6 chr1  30803 31072 chr1:30803-31072 ATAC       ATAC_T     "
      ]
     },
     "metadata": {},
     "output_type": "display_data"
    }
   ],
   "source": [
    "fdiry = file.path(FD_RES, \"results\", \"region\", \"KS91_K562_ASTARRseq_peak_macs_input\", \"summary\")\n",
    "fname = \"peak.screened.atac.total.tsv\"\n",
    "fpath = file.path(fdiry, fname)\n",
    "\n",
    "dat = read_tsv(fpath, show_col_types=FALSE)\n",
    "\n",
    "dat_peak_atac_total = dat\n",
    "print(dim(dat))\n",
    "head(dat)"
   ]
  },
  {
   "cell_type": "code",
   "execution_count": 6,
   "metadata": {},
   "outputs": [
    {
     "name": "stdout",
     "output_type": "stream",
     "text": [
      "[1] 246852      6\n"
     ]
    },
    {
     "data": {
      "text/html": [
       "<table class=\"dataframe\">\n",
       "<caption>A tibble: 6 × 6</caption>\n",
       "<thead>\n",
       "\t<tr><th scope=col>Chrom</th><th scope=col>Start</th><th scope=col>End</th><th scope=col>Peak</th><th scope=col>Assay_Type</th><th scope=col>Assay_Label</th></tr>\n",
       "\t<tr><th scope=col>&lt;chr&gt;</th><th scope=col>&lt;dbl&gt;</th><th scope=col>&lt;dbl&gt;</th><th scope=col>&lt;chr&gt;</th><th scope=col>&lt;chr&gt;</th><th scope=col>&lt;chr&gt;</th></tr>\n",
       "</thead>\n",
       "<tbody>\n",
       "\t<tr><td>chr1</td><td>10015</td><td>10442</td><td>chr1:10015-10442</td><td>ATAC</td><td>ATAC_Q3</td></tr>\n",
       "\t<tr><td>chr1</td><td>14253</td><td>14645</td><td>chr1:14253-14645</td><td>ATAC</td><td>ATAC_Q3</td></tr>\n",
       "\t<tr><td>chr1</td><td>16015</td><td>16477</td><td>chr1:16015-16477</td><td>ATAC</td><td>ATAC_Q3</td></tr>\n",
       "\t<tr><td>chr1</td><td>17237</td><td>17772</td><td>chr1:17237-17772</td><td>ATAC</td><td>ATAC_Q4</td></tr>\n",
       "\t<tr><td>chr1</td><td>28903</td><td>29613</td><td>chr1:28903-29613</td><td>ATAC</td><td>ATAC_Q3</td></tr>\n",
       "\t<tr><td>chr1</td><td>30803</td><td>31072</td><td>chr1:30803-31072</td><td>ATAC</td><td>ATAC_Q3</td></tr>\n",
       "</tbody>\n",
       "</table>\n"
      ],
      "text/latex": [
       "A tibble: 6 × 6\n",
       "\\begin{tabular}{llllll}\n",
       " Chrom & Start & End & Peak & Assay\\_Type & Assay\\_Label\\\\\n",
       " <chr> & <dbl> & <dbl> & <chr> & <chr> & <chr>\\\\\n",
       "\\hline\n",
       "\t chr1 & 10015 & 10442 & chr1:10015-10442 & ATAC & ATAC\\_Q3\\\\\n",
       "\t chr1 & 14253 & 14645 & chr1:14253-14645 & ATAC & ATAC\\_Q3\\\\\n",
       "\t chr1 & 16015 & 16477 & chr1:16015-16477 & ATAC & ATAC\\_Q3\\\\\n",
       "\t chr1 & 17237 & 17772 & chr1:17237-17772 & ATAC & ATAC\\_Q4\\\\\n",
       "\t chr1 & 28903 & 29613 & chr1:28903-29613 & ATAC & ATAC\\_Q3\\\\\n",
       "\t chr1 & 30803 & 31072 & chr1:30803-31072 & ATAC & ATAC\\_Q3\\\\\n",
       "\\end{tabular}\n"
      ],
      "text/markdown": [
       "\n",
       "A tibble: 6 × 6\n",
       "\n",
       "| Chrom &lt;chr&gt; | Start &lt;dbl&gt; | End &lt;dbl&gt; | Peak &lt;chr&gt; | Assay_Type &lt;chr&gt; | Assay_Label &lt;chr&gt; |\n",
       "|---|---|---|---|---|---|\n",
       "| chr1 | 10015 | 10442 | chr1:10015-10442 | ATAC | ATAC_Q3 |\n",
       "| chr1 | 14253 | 14645 | chr1:14253-14645 | ATAC | ATAC_Q3 |\n",
       "| chr1 | 16015 | 16477 | chr1:16015-16477 | ATAC | ATAC_Q3 |\n",
       "| chr1 | 17237 | 17772 | chr1:17237-17772 | ATAC | ATAC_Q4 |\n",
       "| chr1 | 28903 | 29613 | chr1:28903-29613 | ATAC | ATAC_Q3 |\n",
       "| chr1 | 30803 | 31072 | chr1:30803-31072 | ATAC | ATAC_Q3 |\n",
       "\n"
      ],
      "text/plain": [
       "  Chrom Start End   Peak             Assay_Type Assay_Label\n",
       "1 chr1  10015 10442 chr1:10015-10442 ATAC       ATAC_Q3    \n",
       "2 chr1  14253 14645 chr1:14253-14645 ATAC       ATAC_Q3    \n",
       "3 chr1  16015 16477 chr1:16015-16477 ATAC       ATAC_Q3    \n",
       "4 chr1  17237 17772 chr1:17237-17772 ATAC       ATAC_Q4    \n",
       "5 chr1  28903 29613 chr1:28903-29613 ATAC       ATAC_Q3    \n",
       "6 chr1  30803 31072 chr1:30803-31072 ATAC       ATAC_Q3    "
      ]
     },
     "metadata": {},
     "output_type": "display_data"
    }
   ],
   "source": [
    "fdiry = file.path(FD_RES, \"results\", \"region\", \"KS91_K562_ASTARRseq_peak_macs_input\", \"summary\")\n",
    "fname = \"peak.screened.atac.quantile.tsv\"\n",
    "fpath = file.path(fdiry, fname)\n",
    "\n",
    "dat = read_tsv(fpath, show_col_types=FALSE)\n",
    "\n",
    "dat_peak_atac_quantile = dat\n",
    "print(dim(dat))\n",
    "head(dat)"
   ]
  },
  {
   "cell_type": "markdown",
   "metadata": {},
   "source": [
    "**Merge**"
   ]
  },
  {
   "cell_type": "code",
   "execution_count": 7,
   "metadata": {},
   "outputs": [
    {
     "name": "stdout",
     "output_type": "stream",
     "text": [
      "[1] 1994805       8\n"
     ]
    },
    {
     "data": {
      "text/html": [
       "<table class=\"dataframe\">\n",
       "<caption>A tibble: 6 × 8</caption>\n",
       "<thead>\n",
       "\t<tr><th scope=col>Chrom</th><th scope=col>Start</th><th scope=col>End</th><th scope=col>Peak</th><th scope=col>Score</th><th scope=col>Assay_Type</th><th scope=col>Assay_Label</th><th scope=col>Assay</th></tr>\n",
       "\t<tr><th scope=col>&lt;chr&gt;</th><th scope=col>&lt;dbl&gt;</th><th scope=col>&lt;dbl&gt;</th><th scope=col>&lt;chr&gt;</th><th scope=col>&lt;dbl&gt;</th><th scope=col>&lt;chr&gt;</th><th scope=col>&lt;chr&gt;</th><th scope=col>&lt;chr&gt;</th></tr>\n",
       "</thead>\n",
       "<tbody>\n",
       "\t<tr><td>chr1</td><td>100006256</td><td>100006880</td><td>chr1:100006256-100006880</td><td>-0.01311792</td><td>ASTARR</td><td>ASTARR_T</td><td>ASTARR|ASTARR_T</td></tr>\n",
       "\t<tr><td>chr1</td><td>100010437</td><td>100010915</td><td>chr1:100010437-100010915</td><td>-0.80687947</td><td>ASTARR</td><td>ASTARR_T</td><td>ASTARR|ASTARR_T</td></tr>\n",
       "\t<tr><td>chr1</td><td> 10002087</td><td> 10003910</td><td>chr1:10002087-10003910  </td><td>-0.34892859</td><td>ASTARR</td><td>ASTARR_T</td><td>ASTARR|ASTARR_T</td></tr>\n",
       "\t<tr><td>chr1</td><td>100021298</td><td>100021629</td><td>chr1:100021298-100021629</td><td>-1.03799571</td><td>ASTARR</td><td>ASTARR_T</td><td>ASTARR|ASTARR_T</td></tr>\n",
       "\t<tr><td>chr1</td><td>100023727</td><td>100023976</td><td>chr1:100023727-100023976</td><td>-0.19100207</td><td>ASTARR</td><td>ASTARR_T</td><td>ASTARR|ASTARR_T</td></tr>\n",
       "\t<tr><td>chr1</td><td>100027983</td><td>100029702</td><td>chr1:100027983-100029702</td><td>-0.18001582</td><td>ASTARR</td><td>ASTARR_T</td><td>ASTARR|ASTARR_T</td></tr>\n",
       "</tbody>\n",
       "</table>\n"
      ],
      "text/latex": [
       "A tibble: 6 × 8\n",
       "\\begin{tabular}{llllllll}\n",
       " Chrom & Start & End & Peak & Score & Assay\\_Type & Assay\\_Label & Assay\\\\\n",
       " <chr> & <dbl> & <dbl> & <chr> & <dbl> & <chr> & <chr> & <chr>\\\\\n",
       "\\hline\n",
       "\t chr1 & 100006256 & 100006880 & chr1:100006256-100006880 & -0.01311792 & ASTARR & ASTARR\\_T & ASTARR\\textbar{}ASTARR\\_T\\\\\n",
       "\t chr1 & 100010437 & 100010915 & chr1:100010437-100010915 & -0.80687947 & ASTARR & ASTARR\\_T & ASTARR\\textbar{}ASTARR\\_T\\\\\n",
       "\t chr1 &  10002087 &  10003910 & chr1:10002087-10003910   & -0.34892859 & ASTARR & ASTARR\\_T & ASTARR\\textbar{}ASTARR\\_T\\\\\n",
       "\t chr1 & 100021298 & 100021629 & chr1:100021298-100021629 & -1.03799571 & ASTARR & ASTARR\\_T & ASTARR\\textbar{}ASTARR\\_T\\\\\n",
       "\t chr1 & 100023727 & 100023976 & chr1:100023727-100023976 & -0.19100207 & ASTARR & ASTARR\\_T & ASTARR\\textbar{}ASTARR\\_T\\\\\n",
       "\t chr1 & 100027983 & 100029702 & chr1:100027983-100029702 & -0.18001582 & ASTARR & ASTARR\\_T & ASTARR\\textbar{}ASTARR\\_T\\\\\n",
       "\\end{tabular}\n"
      ],
      "text/markdown": [
       "\n",
       "A tibble: 6 × 8\n",
       "\n",
       "| Chrom &lt;chr&gt; | Start &lt;dbl&gt; | End &lt;dbl&gt; | Peak &lt;chr&gt; | Score &lt;dbl&gt; | Assay_Type &lt;chr&gt; | Assay_Label &lt;chr&gt; | Assay &lt;chr&gt; |\n",
       "|---|---|---|---|---|---|---|---|\n",
       "| chr1 | 100006256 | 100006880 | chr1:100006256-100006880 | -0.01311792 | ASTARR | ASTARR_T | ASTARR|ASTARR_T |\n",
       "| chr1 | 100010437 | 100010915 | chr1:100010437-100010915 | -0.80687947 | ASTARR | ASTARR_T | ASTARR|ASTARR_T |\n",
       "| chr1 |  10002087 |  10003910 | chr1:10002087-10003910   | -0.34892859 | ASTARR | ASTARR_T | ASTARR|ASTARR_T |\n",
       "| chr1 | 100021298 | 100021629 | chr1:100021298-100021629 | -1.03799571 | ASTARR | ASTARR_T | ASTARR|ASTARR_T |\n",
       "| chr1 | 100023727 | 100023976 | chr1:100023727-100023976 | -0.19100207 | ASTARR | ASTARR_T | ASTARR|ASTARR_T |\n",
       "| chr1 | 100027983 | 100029702 | chr1:100027983-100029702 | -0.18001582 | ASTARR | ASTARR_T | ASTARR|ASTARR_T |\n",
       "\n"
      ],
      "text/plain": [
       "  Chrom Start     End       Peak                     Score       Assay_Type\n",
       "1 chr1  100006256 100006880 chr1:100006256-100006880 -0.01311792 ASTARR    \n",
       "2 chr1  100010437 100010915 chr1:100010437-100010915 -0.80687947 ASTARR    \n",
       "3 chr1   10002087  10003910 chr1:10002087-10003910   -0.34892859 ASTARR    \n",
       "4 chr1  100021298 100021629 chr1:100021298-100021629 -1.03799571 ASTARR    \n",
       "5 chr1  100023727 100023976 chr1:100023727-100023976 -0.19100207 ASTARR    \n",
       "6 chr1  100027983 100029702 chr1:100027983-100029702 -0.18001582 ASTARR    \n",
       "  Assay_Label Assay          \n",
       "1 ASTARR_T    ASTARR|ASTARR_T\n",
       "2 ASTARR_T    ASTARR|ASTARR_T\n",
       "3 ASTARR_T    ASTARR|ASTARR_T\n",
       "4 ASTARR_T    ASTARR|ASTARR_T\n",
       "5 ASTARR_T    ASTARR|ASTARR_T\n",
       "6 ASTARR_T    ASTARR|ASTARR_T"
      ]
     },
     "metadata": {},
     "output_type": "display_data"
    }
   ],
   "source": [
    "lst = list(\n",
    "    dat_peak_atac_fcc_total,\n",
    "    dat_peak_atac_fcc_active,\n",
    "    dat_peak_atac_fcc_inactive,\n",
    "    dat_peak_atac_quantile,\n",
    "    dat_peak_atac_total)\n",
    "\n",
    "dat = bind_rows(lst)\n",
    "dat = dat %>% dplyr::mutate(Assay = paste(Assay_Type, Assay_Label, sep = \"|\"))\n",
    "\n",
    "dat_peak_atac_merge = dat\n",
    "print(dim(dat))\n",
    "head(dat)"
   ]
  },
  {
   "cell_type": "code",
   "execution_count": 8,
   "metadata": {},
   "outputs": [
    {
     "data": {
      "text/html": [
       "<table class=\"dataframe\">\n",
       "<caption>A tibble: 36 × 3</caption>\n",
       "<thead>\n",
       "\t<tr><th scope=col>Assay_Type</th><th scope=col>Assay_Label</th><th scope=col>Count</th></tr>\n",
       "\t<tr><th scope=col>&lt;chr&gt;</th><th scope=col>&lt;chr&gt;</th><th scope=col>&lt;int&gt;</th></tr>\n",
       "</thead>\n",
       "<tbody>\n",
       "\t<tr><td>ASTARR               </td><td>ASTARR_A               </td><td>  7427</td></tr>\n",
       "\t<tr><td>ASTARR               </td><td>ASTARR_AB              </td><td>  2799</td></tr>\n",
       "\t<tr><td>ASTARR               </td><td>ASTARR_I               </td><td>228970</td></tr>\n",
       "\t<tr><td>ASTARR               </td><td>ASTARR_R               </td><td> 11371</td></tr>\n",
       "\t<tr><td>ASTARR               </td><td>ASTARR_T               </td><td>246850</td></tr>\n",
       "\t<tr><td>ATAC                 </td><td>ATAC_Q1                </td><td> 61713</td></tr>\n",
       "\t<tr><td>ATAC                 </td><td>ATAC_Q2                </td><td> 61713</td></tr>\n",
       "\t<tr><td>ATAC                 </td><td>ATAC_Q3                </td><td> 61713</td></tr>\n",
       "\t<tr><td>ATAC                 </td><td>ATAC_Q4                </td><td> 61713</td></tr>\n",
       "\t<tr><td>ATAC                 </td><td>ATAC_T                 </td><td>247520</td></tr>\n",
       "\t<tr><td>CRISPRi-Growth       </td><td>CRISPRi-Growth_A       </td><td>  4609</td></tr>\n",
       "\t<tr><td>CRISPRi-Growth       </td><td>CRISPRi-Growth_I       </td><td> 75409</td></tr>\n",
       "\t<tr><td>CRISPRi-Growth       </td><td>CRISPRi-Growth_T       </td><td> 80288</td></tr>\n",
       "\t<tr><td>CRISPRi-HCRFF        </td><td>CRISPRi-HCRFF_A        </td><td>    54</td></tr>\n",
       "\t<tr><td>CRISPRi-HCRFF        </td><td>CRISPRi-HCRFF_I        </td><td>  1272</td></tr>\n",
       "\t<tr><td>CRISPRi-HCRFF        </td><td>CRISPRi-HCRFF_T        </td><td>  1330</td></tr>\n",
       "\t<tr><td>ENCODE-E2G_Benchmark </td><td>ENCODE-E2G_Benchmark_A </td><td>   353</td></tr>\n",
       "\t<tr><td>ENCODE-E2G_Benchmark </td><td>ENCODE-E2G_Benchmark_I </td><td>  2652</td></tr>\n",
       "\t<tr><td>ENCODE-E2G_Benchmark </td><td>ENCODE-E2G_Benchmark_T </td><td>  3007</td></tr>\n",
       "\t<tr><td>ENCODE-E2G_Prediction</td><td>ENCODE-E2G_Prediction_A</td><td> 35672</td></tr>\n",
       "\t<tr><td>ENCODE-E2G_Prediction</td><td>ENCODE-E2G_Prediction_I</td><td> 48374</td></tr>\n",
       "\t<tr><td>ENCODE-E2G_Prediction</td><td>ENCODE-E2G_Prediction_T</td><td> 84129</td></tr>\n",
       "\t<tr><td>LMPRA                </td><td>LMPRA_A                </td><td> 32019</td></tr>\n",
       "\t<tr><td>LMPRA                </td><td>LMPRA_AB               </td><td> 22392</td></tr>\n",
       "\t<tr><td>LMPRA                </td><td>LMPRA_I                </td><td> 35087</td></tr>\n",
       "\t<tr><td>LMPRA                </td><td>LMPRA_R                </td><td>   901</td></tr>\n",
       "\t<tr><td>LMPRA                </td><td>LMPRA_T                </td><td> 68420</td></tr>\n",
       "\t<tr><td>TMPRA                </td><td>TMPRA_A                </td><td>  1072</td></tr>\n",
       "\t<tr><td>TMPRA                </td><td>TMPRA_I                </td><td>   473</td></tr>\n",
       "\t<tr><td>TMPRA                </td><td>TMPRA_R                </td><td>    21</td></tr>\n",
       "\t<tr><td>TMPRA                </td><td>TMPRA_T                </td><td>  1722</td></tr>\n",
       "\t<tr><td>WSTARR               </td><td>WSTARR_A               </td><td> 30478</td></tr>\n",
       "\t<tr><td>WSTARR               </td><td>WSTARR_AB              </td><td> 13455</td></tr>\n",
       "\t<tr><td>WSTARR               </td><td>WSTARR_I               </td><td>208635</td></tr>\n",
       "\t<tr><td>WSTARR               </td><td>WSTARR_R               </td><td>  4504</td></tr>\n",
       "\t<tr><td>WSTARR               </td><td>WSTARR_T               </td><td>246688</td></tr>\n",
       "</tbody>\n",
       "</table>\n"
      ],
      "text/latex": [
       "A tibble: 36 × 3\n",
       "\\begin{tabular}{lll}\n",
       " Assay\\_Type & Assay\\_Label & Count\\\\\n",
       " <chr> & <chr> & <int>\\\\\n",
       "\\hline\n",
       "\t ASTARR                & ASTARR\\_A                &   7427\\\\\n",
       "\t ASTARR                & ASTARR\\_AB               &   2799\\\\\n",
       "\t ASTARR                & ASTARR\\_I                & 228970\\\\\n",
       "\t ASTARR                & ASTARR\\_R                &  11371\\\\\n",
       "\t ASTARR                & ASTARR\\_T                & 246850\\\\\n",
       "\t ATAC                  & ATAC\\_Q1                 &  61713\\\\\n",
       "\t ATAC                  & ATAC\\_Q2                 &  61713\\\\\n",
       "\t ATAC                  & ATAC\\_Q3                 &  61713\\\\\n",
       "\t ATAC                  & ATAC\\_Q4                 &  61713\\\\\n",
       "\t ATAC                  & ATAC\\_T                  & 247520\\\\\n",
       "\t CRISPRi-Growth        & CRISPRi-Growth\\_A        &   4609\\\\\n",
       "\t CRISPRi-Growth        & CRISPRi-Growth\\_I        &  75409\\\\\n",
       "\t CRISPRi-Growth        & CRISPRi-Growth\\_T        &  80288\\\\\n",
       "\t CRISPRi-HCRFF         & CRISPRi-HCRFF\\_A         &     54\\\\\n",
       "\t CRISPRi-HCRFF         & CRISPRi-HCRFF\\_I         &   1272\\\\\n",
       "\t CRISPRi-HCRFF         & CRISPRi-HCRFF\\_T         &   1330\\\\\n",
       "\t ENCODE-E2G\\_Benchmark  & ENCODE-E2G\\_Benchmark\\_A  &    353\\\\\n",
       "\t ENCODE-E2G\\_Benchmark  & ENCODE-E2G\\_Benchmark\\_I  &   2652\\\\\n",
       "\t ENCODE-E2G\\_Benchmark  & ENCODE-E2G\\_Benchmark\\_T  &   3007\\\\\n",
       "\t ENCODE-E2G\\_Prediction & ENCODE-E2G\\_Prediction\\_A &  35672\\\\\n",
       "\t ENCODE-E2G\\_Prediction & ENCODE-E2G\\_Prediction\\_I &  48374\\\\\n",
       "\t ENCODE-E2G\\_Prediction & ENCODE-E2G\\_Prediction\\_T &  84129\\\\\n",
       "\t LMPRA                 & LMPRA\\_A                 &  32019\\\\\n",
       "\t LMPRA                 & LMPRA\\_AB                &  22392\\\\\n",
       "\t LMPRA                 & LMPRA\\_I                 &  35087\\\\\n",
       "\t LMPRA                 & LMPRA\\_R                 &    901\\\\\n",
       "\t LMPRA                 & LMPRA\\_T                 &  68420\\\\\n",
       "\t TMPRA                 & TMPRA\\_A                 &   1072\\\\\n",
       "\t TMPRA                 & TMPRA\\_I                 &    473\\\\\n",
       "\t TMPRA                 & TMPRA\\_R                 &     21\\\\\n",
       "\t TMPRA                 & TMPRA\\_T                 &   1722\\\\\n",
       "\t WSTARR                & WSTARR\\_A                &  30478\\\\\n",
       "\t WSTARR                & WSTARR\\_AB               &  13455\\\\\n",
       "\t WSTARR                & WSTARR\\_I                & 208635\\\\\n",
       "\t WSTARR                & WSTARR\\_R                &   4504\\\\\n",
       "\t WSTARR                & WSTARR\\_T                & 246688\\\\\n",
       "\\end{tabular}\n"
      ],
      "text/markdown": [
       "\n",
       "A tibble: 36 × 3\n",
       "\n",
       "| Assay_Type &lt;chr&gt; | Assay_Label &lt;chr&gt; | Count &lt;int&gt; |\n",
       "|---|---|---|\n",
       "| ASTARR                | ASTARR_A                |   7427 |\n",
       "| ASTARR                | ASTARR_AB               |   2799 |\n",
       "| ASTARR                | ASTARR_I                | 228970 |\n",
       "| ASTARR                | ASTARR_R                |  11371 |\n",
       "| ASTARR                | ASTARR_T                | 246850 |\n",
       "| ATAC                  | ATAC_Q1                 |  61713 |\n",
       "| ATAC                  | ATAC_Q2                 |  61713 |\n",
       "| ATAC                  | ATAC_Q3                 |  61713 |\n",
       "| ATAC                  | ATAC_Q4                 |  61713 |\n",
       "| ATAC                  | ATAC_T                  | 247520 |\n",
       "| CRISPRi-Growth        | CRISPRi-Growth_A        |   4609 |\n",
       "| CRISPRi-Growth        | CRISPRi-Growth_I        |  75409 |\n",
       "| CRISPRi-Growth        | CRISPRi-Growth_T        |  80288 |\n",
       "| CRISPRi-HCRFF         | CRISPRi-HCRFF_A         |     54 |\n",
       "| CRISPRi-HCRFF         | CRISPRi-HCRFF_I         |   1272 |\n",
       "| CRISPRi-HCRFF         | CRISPRi-HCRFF_T         |   1330 |\n",
       "| ENCODE-E2G_Benchmark  | ENCODE-E2G_Benchmark_A  |    353 |\n",
       "| ENCODE-E2G_Benchmark  | ENCODE-E2G_Benchmark_I  |   2652 |\n",
       "| ENCODE-E2G_Benchmark  | ENCODE-E2G_Benchmark_T  |   3007 |\n",
       "| ENCODE-E2G_Prediction | ENCODE-E2G_Prediction_A |  35672 |\n",
       "| ENCODE-E2G_Prediction | ENCODE-E2G_Prediction_I |  48374 |\n",
       "| ENCODE-E2G_Prediction | ENCODE-E2G_Prediction_T |  84129 |\n",
       "| LMPRA                 | LMPRA_A                 |  32019 |\n",
       "| LMPRA                 | LMPRA_AB                |  22392 |\n",
       "| LMPRA                 | LMPRA_I                 |  35087 |\n",
       "| LMPRA                 | LMPRA_R                 |    901 |\n",
       "| LMPRA                 | LMPRA_T                 |  68420 |\n",
       "| TMPRA                 | TMPRA_A                 |   1072 |\n",
       "| TMPRA                 | TMPRA_I                 |    473 |\n",
       "| TMPRA                 | TMPRA_R                 |     21 |\n",
       "| TMPRA                 | TMPRA_T                 |   1722 |\n",
       "| WSTARR                | WSTARR_A                |  30478 |\n",
       "| WSTARR                | WSTARR_AB               |  13455 |\n",
       "| WSTARR                | WSTARR_I                | 208635 |\n",
       "| WSTARR                | WSTARR_R                |   4504 |\n",
       "| WSTARR                | WSTARR_T                | 246688 |\n",
       "\n"
      ],
      "text/plain": [
       "   Assay_Type            Assay_Label             Count \n",
       "1  ASTARR                ASTARR_A                  7427\n",
       "2  ASTARR                ASTARR_AB                 2799\n",
       "3  ASTARR                ASTARR_I                228970\n",
       "4  ASTARR                ASTARR_R                 11371\n",
       "5  ASTARR                ASTARR_T                246850\n",
       "6  ATAC                  ATAC_Q1                  61713\n",
       "7  ATAC                  ATAC_Q2                  61713\n",
       "8  ATAC                  ATAC_Q3                  61713\n",
       "9  ATAC                  ATAC_Q4                  61713\n",
       "10 ATAC                  ATAC_T                  247520\n",
       "11 CRISPRi-Growth        CRISPRi-Growth_A          4609\n",
       "12 CRISPRi-Growth        CRISPRi-Growth_I         75409\n",
       "13 CRISPRi-Growth        CRISPRi-Growth_T         80288\n",
       "14 CRISPRi-HCRFF         CRISPRi-HCRFF_A             54\n",
       "15 CRISPRi-HCRFF         CRISPRi-HCRFF_I           1272\n",
       "16 CRISPRi-HCRFF         CRISPRi-HCRFF_T           1330\n",
       "17 ENCODE-E2G_Benchmark  ENCODE-E2G_Benchmark_A     353\n",
       "18 ENCODE-E2G_Benchmark  ENCODE-E2G_Benchmark_I    2652\n",
       "19 ENCODE-E2G_Benchmark  ENCODE-E2G_Benchmark_T    3007\n",
       "20 ENCODE-E2G_Prediction ENCODE-E2G_Prediction_A  35672\n",
       "21 ENCODE-E2G_Prediction ENCODE-E2G_Prediction_I  48374\n",
       "22 ENCODE-E2G_Prediction ENCODE-E2G_Prediction_T  84129\n",
       "23 LMPRA                 LMPRA_A                  32019\n",
       "24 LMPRA                 LMPRA_AB                 22392\n",
       "25 LMPRA                 LMPRA_I                  35087\n",
       "26 LMPRA                 LMPRA_R                    901\n",
       "27 LMPRA                 LMPRA_T                  68420\n",
       "28 TMPRA                 TMPRA_A                   1072\n",
       "29 TMPRA                 TMPRA_I                    473\n",
       "30 TMPRA                 TMPRA_R                     21\n",
       "31 TMPRA                 TMPRA_T                   1722\n",
       "32 WSTARR                WSTARR_A                 30478\n",
       "33 WSTARR                WSTARR_AB                13455\n",
       "34 WSTARR                WSTARR_I                208635\n",
       "35 WSTARR                WSTARR_R                  4504\n",
       "36 WSTARR                WSTARR_T                246688"
      ]
     },
     "metadata": {},
     "output_type": "display_data"
    }
   ],
   "source": [
    "dat = dat_peak_atac_merge\n",
    "dat = dat %>% \n",
    "    dplyr::group_by(Assay_Type, Assay_Label) %>% \n",
    "    dplyr::summarise(Count = n(), .groups = 'drop')\n",
    "dat"
   ]
  },
  {
   "cell_type": "markdown",
   "metadata": {},
   "source": [
    "## Import data"
   ]
  },
  {
   "cell_type": "markdown",
   "metadata": {},
   "source": [
    "**Check data files**"
   ]
  },
  {
   "cell_type": "code",
   "execution_count": 9,
   "metadata": {},
   "outputs": [
    {
     "name": "stdout",
     "output_type": "stream",
     "text": [
      "peak.looped.astarr_a.bed.gz \n",
      "peak.looped.astarr_ab.bed.gz \n",
      "peak.looped.astarr_r.bed.gz \n",
      "peak.looped.atac.bed.gz \n",
      "peak.looped.crispri_growth.bed.gz \n",
      "peak.looped.crispri_hcrff.bed.gz \n",
      "peak.looped.encode_e2g_benchmark.bed.gz \n",
      "peak.looped.encode_e2g_prediction.bed.gz \n",
      "peak.looped.lmpra_a.bed.gz \n",
      "peak.looped.lmpra_ab.bed.gz \n",
      "peak.looped.lmpra_r.bed.gz \n",
      "peak.looped.tmpra_a.bed.gz \n",
      "peak.looped.tmpra_r.bed.gz \n",
      "peak.looped.wstarr_a.bed.gz \n",
      "peak.looped.wstarr_ab.bed.gz \n",
      "peak.looped.wstarr_r.bed.gz \n",
      "peak.summary.crispri_growth.dhs.active.tsv \n",
      "peak.summary.crispri_hcrff.casa.merge.tsv \n",
      "peak.summary.encode_e2g_benchmark.active.merge.tsv \n",
      "peak.summary.encode_e2g_prediction.active.merge.tsv \n",
      "peak.summary.enhancer_zscore_junke.concat.tsv \n",
      "peak.summary.KS91_K562_ASTARRseq_peak_macs_input.tsv \n"
     ]
    }
   ],
   "source": [
    "FOLDER_REG = \"hic_intact_deep\"\n",
    "\n",
    "fdiry = file.path(FD_RES, \"results\", \"region\", FOLDER_REG, \"summary\")\n",
    "for (fname in dir(fdiry)){cat(fname, \"\\n\")}"
   ]
  },
  {
   "cell_type": "markdown",
   "metadata": {},
   "source": [
    "**Import data**"
   ]
  },
  {
   "cell_type": "code",
   "execution_count": 25,
   "metadata": {},
   "outputs": [
    {
     "name": "stdout",
     "output_type": "stream",
     "text": [
      "[1] 569206      6\n"
     ]
    },
    {
     "data": {
      "text/html": [
       "<table class=\"dataframe\">\n",
       "<caption>A tibble: 6 × 6</caption>\n",
       "<thead>\n",
       "\t<tr><th scope=col>Peak</th><th scope=col>Loop</th><th scope=col>Distance</th><th scope=col>Annotation</th><th scope=col>Label_Peak</th><th scope=col>Label_Loop</th></tr>\n",
       "\t<tr><th scope=col>&lt;chr&gt;</th><th scope=col>&lt;chr&gt;</th><th scope=col>&lt;dbl&gt;</th><th scope=col>&lt;chr&gt;</th><th scope=col>&lt;chr&gt;</th><th scope=col>&lt;chr&gt;</th></tr>\n",
       "</thead>\n",
       "<tbody>\n",
       "\t<tr><td>chr1:10015-10442</td><td>chr1:778000-779000</td><td>767559</td><td>ATAC</td><td>ATAC</td><td>Loop_A</td></tr>\n",
       "\t<tr><td>chr1:14253-14645</td><td>chr1:778000-779000</td><td>763356</td><td>ATAC</td><td>ATAC</td><td>Loop_A</td></tr>\n",
       "\t<tr><td>chr1:16015-16477</td><td>chr1:778000-779000</td><td>761524</td><td>ATAC</td><td>ATAC</td><td>Loop_A</td></tr>\n",
       "\t<tr><td>chr1:17237-17772</td><td>chr1:778000-779000</td><td>760229</td><td>ATAC</td><td>ATAC</td><td>Loop_A</td></tr>\n",
       "\t<tr><td>chr1:28903-29613</td><td>chr1:778000-779000</td><td>748388</td><td>ATAC</td><td>ATAC</td><td>Loop_A</td></tr>\n",
       "\t<tr><td>chr1:30803-31072</td><td>chr1:778000-779000</td><td>746929</td><td>ATAC</td><td>ATAC</td><td>Loop_A</td></tr>\n",
       "</tbody>\n",
       "</table>\n"
      ],
      "text/latex": [
       "A tibble: 6 × 6\n",
       "\\begin{tabular}{llllll}\n",
       " Peak & Loop & Distance & Annotation & Label\\_Peak & Label\\_Loop\\\\\n",
       " <chr> & <chr> & <dbl> & <chr> & <chr> & <chr>\\\\\n",
       "\\hline\n",
       "\t chr1:10015-10442 & chr1:778000-779000 & 767559 & ATAC & ATAC & Loop\\_A\\\\\n",
       "\t chr1:14253-14645 & chr1:778000-779000 & 763356 & ATAC & ATAC & Loop\\_A\\\\\n",
       "\t chr1:16015-16477 & chr1:778000-779000 & 761524 & ATAC & ATAC & Loop\\_A\\\\\n",
       "\t chr1:17237-17772 & chr1:778000-779000 & 760229 & ATAC & ATAC & Loop\\_A\\\\\n",
       "\t chr1:28903-29613 & chr1:778000-779000 & 748388 & ATAC & ATAC & Loop\\_A\\\\\n",
       "\t chr1:30803-31072 & chr1:778000-779000 & 746929 & ATAC & ATAC & Loop\\_A\\\\\n",
       "\\end{tabular}\n"
      ],
      "text/markdown": [
       "\n",
       "A tibble: 6 × 6\n",
       "\n",
       "| Peak &lt;chr&gt; | Loop &lt;chr&gt; | Distance &lt;dbl&gt; | Annotation &lt;chr&gt; | Label_Peak &lt;chr&gt; | Label_Loop &lt;chr&gt; |\n",
       "|---|---|---|---|---|---|\n",
       "| chr1:10015-10442 | chr1:778000-779000 | 767559 | ATAC | ATAC | Loop_A |\n",
       "| chr1:14253-14645 | chr1:778000-779000 | 763356 | ATAC | ATAC | Loop_A |\n",
       "| chr1:16015-16477 | chr1:778000-779000 | 761524 | ATAC | ATAC | Loop_A |\n",
       "| chr1:17237-17772 | chr1:778000-779000 | 760229 | ATAC | ATAC | Loop_A |\n",
       "| chr1:28903-29613 | chr1:778000-779000 | 748388 | ATAC | ATAC | Loop_A |\n",
       "| chr1:30803-31072 | chr1:778000-779000 | 746929 | ATAC | ATAC | Loop_A |\n",
       "\n"
      ],
      "text/plain": [
       "  Peak             Loop               Distance Annotation Label_Peak Label_Loop\n",
       "1 chr1:10015-10442 chr1:778000-779000 767559   ATAC       ATAC       Loop_A    \n",
       "2 chr1:14253-14645 chr1:778000-779000 763356   ATAC       ATAC       Loop_A    \n",
       "3 chr1:16015-16477 chr1:778000-779000 761524   ATAC       ATAC       Loop_A    \n",
       "4 chr1:17237-17772 chr1:778000-779000 760229   ATAC       ATAC       Loop_A    \n",
       "5 chr1:28903-29613 chr1:778000-779000 748388   ATAC       ATAC       Loop_A    \n",
       "6 chr1:30803-31072 chr1:778000-779000 746929   ATAC       ATAC       Loop_A    "
      ]
     },
     "metadata": {},
     "output_type": "display_data"
    }
   ],
   "source": [
    "FOLDER_REG = \"hic_intact_deep\"\n",
    "\n",
    "### get file paths\n",
    "fdiry = file.path(FD_RES, \"results\", \"region\", FOLDER_REG, \"summary\")\n",
    "fname = \"peak.summary.KS91_K562_ASTARRseq_peak_macs_input.tsv\"\n",
    "fpath = file.path(fdiry, fname)\n",
    "\n",
    "### read tables\n",
    "dat = read_tsv(fpath, show_col_types = FALSE)\n",
    "\n",
    "### assign and show\n",
    "dat_peak_atac_loop_summary = dat\n",
    "print(dim(dat))\n",
    "head(dat)"
   ]
  },
  {
   "cell_type": "markdown",
   "metadata": {},
   "source": [
    "**Get distance and overlap**"
   ]
  },
  {
   "cell_type": "code",
   "execution_count": 26,
   "metadata": {},
   "outputs": [
    {
     "name": "stdout",
     "output_type": "stream",
     "text": [
      "[1] 230509      2\n"
     ]
    },
    {
     "data": {
      "text/html": [
       "<table class=\"dataframe\">\n",
       "<caption>A tibble: 6 × 2</caption>\n",
       "<thead>\n",
       "\t<tr><th scope=col>Peak</th><th scope=col>Distance</th></tr>\n",
       "\t<tr><th scope=col>&lt;chr&gt;</th><th scope=col>&lt;dbl&gt;</th></tr>\n",
       "</thead>\n",
       "<tbody>\n",
       "\t<tr><td>chr10:100009096-100010466</td><td>    0</td></tr>\n",
       "\t<tr><td>chr10:100020710-100021134</td><td> 5711</td></tr>\n",
       "\t<tr><td>chr10:1000372-1000820    </td><td> 7181</td></tr>\n",
       "\t<tr><td>chr10:100045961-100046653</td><td>    0</td></tr>\n",
       "\t<tr><td>chr10:100065094-100065486</td><td>15095</td></tr>\n",
       "\t<tr><td>chr10:100081317-100081607</td><td>18394</td></tr>\n",
       "</tbody>\n",
       "</table>\n"
      ],
      "text/latex": [
       "A tibble: 6 × 2\n",
       "\\begin{tabular}{ll}\n",
       " Peak & Distance\\\\\n",
       " <chr> & <dbl>\\\\\n",
       "\\hline\n",
       "\t chr10:100009096-100010466 &     0\\\\\n",
       "\t chr10:100020710-100021134 &  5711\\\\\n",
       "\t chr10:1000372-1000820     &  7181\\\\\n",
       "\t chr10:100045961-100046653 &     0\\\\\n",
       "\t chr10:100065094-100065486 & 15095\\\\\n",
       "\t chr10:100081317-100081607 & 18394\\\\\n",
       "\\end{tabular}\n"
      ],
      "text/markdown": [
       "\n",
       "A tibble: 6 × 2\n",
       "\n",
       "| Peak &lt;chr&gt; | Distance &lt;dbl&gt; |\n",
       "|---|---|\n",
       "| chr10:100009096-100010466 |     0 |\n",
       "| chr10:100020710-100021134 |  5711 |\n",
       "| chr10:1000372-1000820     |  7181 |\n",
       "| chr10:100045961-100046653 |     0 |\n",
       "| chr10:100065094-100065486 | 15095 |\n",
       "| chr10:100081317-100081607 | 18394 |\n",
       "\n"
      ],
      "text/plain": [
       "  Peak                      Distance\n",
       "1 chr10:100009096-100010466     0   \n",
       "2 chr10:100020710-100021134  5711   \n",
       "3 chr10:1000372-1000820      7181   \n",
       "4 chr10:100045961-100046653     0   \n",
       "5 chr10:100065094-100065486 15095   \n",
       "6 chr10:100081317-100081607 18394   "
      ]
     },
     "metadata": {},
     "output_type": "display_data"
    }
   ],
   "source": [
    "dat = dat_peak_atac_loop_summary\n",
    "\n",
    "dat = dat %>%\n",
    "    dplyr::group_by(Peak) %>%\n",
    "    dplyr::summarise(Distance = min(Distance), .groups = \"drop\")\n",
    "\n",
    "dat_peak_atac_loop_distance = dat\n",
    "print(dim(dat))\n",
    "head(dat)"
   ]
  },
  {
   "cell_type": "code",
   "execution_count": 27,
   "metadata": {},
   "outputs": [
    {
     "name": "stdout",
     "output_type": "stream",
     "text": [
      "[1] 65084     2\n",
      "[1] \"chr10:100009096-100010466\" \"chr10:100045961-100046653\"\n",
      "[3] \"chr10:100185017-100187275\" \"chr10:100228452-100230090\"\n",
      "[5] \"chr10:100240591-100241246\" \"chr10:100267066-100268374\"\n"
     ]
    },
    {
     "data": {
      "text/html": [
       "<table class=\"dataframe\">\n",
       "<caption>A tibble: 6 × 2</caption>\n",
       "<thead>\n",
       "\t<tr><th scope=col>Peak</th><th scope=col>Distance</th></tr>\n",
       "\t<tr><th scope=col>&lt;chr&gt;</th><th scope=col>&lt;dbl&gt;</th></tr>\n",
       "</thead>\n",
       "<tbody>\n",
       "\t<tr><td>chr10:100009096-100010466</td><td>0</td></tr>\n",
       "\t<tr><td>chr10:100045961-100046653</td><td>0</td></tr>\n",
       "\t<tr><td>chr10:100185017-100187275</td><td>0</td></tr>\n",
       "\t<tr><td>chr10:100228452-100230090</td><td>0</td></tr>\n",
       "\t<tr><td>chr10:100240591-100241246</td><td>0</td></tr>\n",
       "\t<tr><td>chr10:100267066-100268374</td><td>0</td></tr>\n",
       "</tbody>\n",
       "</table>\n"
      ],
      "text/latex": [
       "A tibble: 6 × 2\n",
       "\\begin{tabular}{ll}\n",
       " Peak & Distance\\\\\n",
       " <chr> & <dbl>\\\\\n",
       "\\hline\n",
       "\t chr10:100009096-100010466 & 0\\\\\n",
       "\t chr10:100045961-100046653 & 0\\\\\n",
       "\t chr10:100185017-100187275 & 0\\\\\n",
       "\t chr10:100228452-100230090 & 0\\\\\n",
       "\t chr10:100240591-100241246 & 0\\\\\n",
       "\t chr10:100267066-100268374 & 0\\\\\n",
       "\\end{tabular}\n"
      ],
      "text/markdown": [
       "\n",
       "A tibble: 6 × 2\n",
       "\n",
       "| Peak &lt;chr&gt; | Distance &lt;dbl&gt; |\n",
       "|---|---|\n",
       "| chr10:100009096-100010466 | 0 |\n",
       "| chr10:100045961-100046653 | 0 |\n",
       "| chr10:100185017-100187275 | 0 |\n",
       "| chr10:100228452-100230090 | 0 |\n",
       "| chr10:100240591-100241246 | 0 |\n",
       "| chr10:100267066-100268374 | 0 |\n",
       "\n"
      ],
      "text/plain": [
       "  Peak                      Distance\n",
       "1 chr10:100009096-100010466 0       \n",
       "2 chr10:100045961-100046653 0       \n",
       "3 chr10:100185017-100187275 0       \n",
       "4 chr10:100228452-100230090 0       \n",
       "5 chr10:100240591-100241246 0       \n",
       "6 chr10:100267066-100268374 0       "
      ]
     },
     "metadata": {},
     "output_type": "display_data"
    }
   ],
   "source": [
    "dat = dat_peak_atac_loop_distance\n",
    "\n",
    "dat = dat %>% dplyr::filter(Distance == 0)\n",
    "vec = dat$Peak\n",
    "\n",
    "dat_peak_atac_loop_overlap = dat\n",
    "vec_peak_atac_loop_overlap = vec\n",
    "print(dim(dat))\n",
    "print(head(vec))\n",
    "head(dat)"
   ]
  },
  {
   "cell_type": "markdown",
   "metadata": {},
   "source": [
    "## Frequency"
   ]
  },
  {
   "cell_type": "markdown",
   "metadata": {},
   "source": [
    "**Test loop**"
   ]
  },
  {
   "cell_type": "code",
   "execution_count": 30,
   "metadata": {},
   "outputs": [
    {
     "name": "stdout",
     "output_type": "stream",
     "text": [
      "\n",
      "ATAC_Q1 ATAC_Q2 ATAC_Q3 ATAC_Q4  ATAC_T \n",
      "  61713   61713   61713   61713  247520 \n"
     ]
    },
    {
     "data": {
      "text/html": [
       "<table class=\"dataframe\">\n",
       "<caption>A tibble: 3 × 7</caption>\n",
       "<thead>\n",
       "\t<tr><th scope=col>Chrom</th><th scope=col>Start</th><th scope=col>End</th><th scope=col>Peak</th><th scope=col>Assay_Type</th><th scope=col>Assay_Label</th><th scope=col>Assay</th></tr>\n",
       "\t<tr><th scope=col>&lt;chr&gt;</th><th scope=col>&lt;dbl&gt;</th><th scope=col>&lt;dbl&gt;</th><th scope=col>&lt;chr&gt;</th><th scope=col>&lt;chr&gt;</th><th scope=col>&lt;chr&gt;</th><th scope=col>&lt;chr&gt;</th></tr>\n",
       "</thead>\n",
       "<tbody>\n",
       "\t<tr><td>chr1</td><td>10015</td><td>10442</td><td>chr1:10015-10442</td><td>ATAC</td><td>ATAC_Q3</td><td>ATAC|ATAC_Q3</td></tr>\n",
       "\t<tr><td>chr1</td><td>14253</td><td>14645</td><td>chr1:14253-14645</td><td>ATAC</td><td>ATAC_Q3</td><td>ATAC|ATAC_Q3</td></tr>\n",
       "\t<tr><td>chr1</td><td>16015</td><td>16477</td><td>chr1:16015-16477</td><td>ATAC</td><td>ATAC_Q3</td><td>ATAC|ATAC_Q3</td></tr>\n",
       "</tbody>\n",
       "</table>\n"
      ],
      "text/latex": [
       "A tibble: 3 × 7\n",
       "\\begin{tabular}{lllllll}\n",
       " Chrom & Start & End & Peak & Assay\\_Type & Assay\\_Label & Assay\\\\\n",
       " <chr> & <dbl> & <dbl> & <chr> & <chr> & <chr> & <chr>\\\\\n",
       "\\hline\n",
       "\t chr1 & 10015 & 10442 & chr1:10015-10442 & ATAC & ATAC\\_Q3 & ATAC\\textbar{}ATAC\\_Q3\\\\\n",
       "\t chr1 & 14253 & 14645 & chr1:14253-14645 & ATAC & ATAC\\_Q3 & ATAC\\textbar{}ATAC\\_Q3\\\\\n",
       "\t chr1 & 16015 & 16477 & chr1:16015-16477 & ATAC & ATAC\\_Q3 & ATAC\\textbar{}ATAC\\_Q3\\\\\n",
       "\\end{tabular}\n"
      ],
      "text/markdown": [
       "\n",
       "A tibble: 3 × 7\n",
       "\n",
       "| Chrom &lt;chr&gt; | Start &lt;dbl&gt; | End &lt;dbl&gt; | Peak &lt;chr&gt; | Assay_Type &lt;chr&gt; | Assay_Label &lt;chr&gt; | Assay &lt;chr&gt; |\n",
       "|---|---|---|---|---|---|---|\n",
       "| chr1 | 10015 | 10442 | chr1:10015-10442 | ATAC | ATAC_Q3 | ATAC|ATAC_Q3 |\n",
       "| chr1 | 14253 | 14645 | chr1:14253-14645 | ATAC | ATAC_Q3 | ATAC|ATAC_Q3 |\n",
       "| chr1 | 16015 | 16477 | chr1:16015-16477 | ATAC | ATAC_Q3 | ATAC|ATAC_Q3 |\n",
       "\n"
      ],
      "text/plain": [
       "  Chrom Start End   Peak             Assay_Type Assay_Label Assay       \n",
       "1 chr1  10015 10442 chr1:10015-10442 ATAC       ATAC_Q3     ATAC|ATAC_Q3\n",
       "2 chr1  14253 14645 chr1:14253-14645 ATAC       ATAC_Q3     ATAC|ATAC_Q3\n",
       "3 chr1  16015 16477 chr1:16015-16477 ATAC       ATAC_Q3     ATAC|ATAC_Q3"
      ]
     },
     "metadata": {},
     "output_type": "display_data"
    }
   ],
   "source": [
    "### init\n",
    "vec_peak_feature = vec_peak_atac_loop_overlap\n",
    "\n",
    "### init\n",
    "dat_merge = dat_peak_atac_merge\n",
    "lst_merge = split(dat_merge, dat_merge$Assay_Type)\n",
    "\n",
    "### example\n",
    "txt_assay = \"ATAC\"\n",
    "dat_assay = lst[[txt_assay]]\n",
    "\n",
    "print(table(dat_assay$Assay_Label))\n",
    "head(dat_assay, 3)"
   ]
  },
  {
   "cell_type": "code",
   "execution_count": 34,
   "metadata": {},
   "outputs": [
    {
     "name": "stdout",
     "output_type": "stream",
     "text": [
      "[1] \"ATAC_Q1\" \"ATAC_Q2\" \"ATAC_Q3\" \"ATAC_Q4\" \"ATAC_T\" \n",
      "[1] \"ATAC_T\"\n"
     ]
    }
   ],
   "source": [
    "lst = split(dat_assay$Peak, dat_assay$Assay_Label)\n",
    "print(names(lst))\n",
    "\n",
    "txt = paste(txt_assay, \"T\", sep=\"_\")\n",
    "print(txt)"
   ]
  },
  {
   "cell_type": "code",
   "execution_count": 37,
   "metadata": {},
   "outputs": [
    {
     "name": "stdout",
     "output_type": "stream",
     "text": [
      "[1] \"ATAC|ATAC_Q1\" \"ATAC|ATAC_Q2\" \"ATAC|ATAC_Q3\" \"ATAC|ATAC_Q4\" \"ATAC|ATAC_T\" \n",
      "[1] \"ATAC|ATAC_T\"\n"
     ]
    }
   ],
   "source": [
    "lst = split(dat_assay$Peak, dat_assay$Assay)\n",
    "print(names(lst))\n",
    "\n",
    "txt = paste0(txt_assay, \"|\", txt_assay, \"_\", \"T\")\n",
    "print(txt)"
   ]
  },
  {
   "cell_type": "markdown",
   "metadata": {},
   "source": [
    "**Run**"
   ]
  },
  {
   "cell_type": "code",
   "execution_count": 38,
   "metadata": {},
   "outputs": [],
   "source": [
    "### init\n",
    "vec_peak_feature = vec_peak_atac_loop_overlap\n",
    "\n",
    "### init\n",
    "dat_merge = dat_peak_atac_merge\n",
    "lst_merge = split(dat_merge, dat_merge$Assay_Type)\n",
    "\n",
    "lst = lapply(names(lst_merge), function(txt_assay){\n",
    "    \n",
    "    dat_assay = lst_merge[[txt_assay]]\n",
    "    \n",
    "    lst = split(dat_assay$Peak, dat_assay$Assay)\n",
    "    txt = paste0(txt_assay, \"|\", txt_assay, \"_\", \"T\")\n",
    "    \n",
    "    vec_peak_total  = lst[[txt]]\n",
    "    vec_peak_sample = vec_peak_total\n",
    "    #num_peak_total  = length(vec_peak_total)\n",
    "    #vec_peak_sample = sample(vec_peak_total, size = as.integer(num_peak_total * 0.9))\n",
    "    \n",
    "    lst = lapply(lst, function(vec_peak_group){\n",
    "        vec = intersect(vec_peak_sample, vec_peak_group)\n",
    "        vec = vec %in% vec_peak_feature\n",
    "        num = mean(vec)\n",
    "        return(num)\n",
    "    })\n",
    "    return(lst)\n",
    "})"
   ]
  },
  {
   "cell_type": "code",
   "execution_count": 20,
   "metadata": {},
   "outputs": [
    {
     "data": {
      "text/html": [
       "'ATAC1'"
      ],
      "text/latex": [
       "'ATAC1'"
      ],
      "text/markdown": [
       "'ATAC1'"
      ],
      "text/plain": [
       "[1] \"ATAC1\""
      ]
     },
     "metadata": {},
     "output_type": "display_data"
    }
   ],
   "source": [
    "txt = \"ATAC_Q1\"\n",
    "str_remove(txt, pattern = \"_Q?\")"
   ]
  },
  {
   "cell_type": "code",
   "execution_count": 47,
   "metadata": {},
   "outputs": [
    {
     "data": {
      "text/html": [
       "<table class=\"dataframe\">\n",
       "<caption>A data.frame: 36 × 3</caption>\n",
       "<thead>\n",
       "\t<tr><th></th><th scope=col>Assay_Type</th><th scope=col>Assay_Label</th><th scope=col>Freq</th></tr>\n",
       "\t<tr><th></th><th scope=col>&lt;chr&gt;</th><th scope=col>&lt;fct&gt;</th><th scope=col>&lt;dbl&gt;</th></tr>\n",
       "</thead>\n",
       "<tbody>\n",
       "\t<tr><th scope=row>ASTARR|ASTARR_A</th><td>ASTARR               </td><td>ASTARR_A               </td><td>0.68506800</td></tr>\n",
       "\t<tr><th scope=row>ASTARR|ASTARR_AB</th><td>ASTARR               </td><td>ASTARR_AB              </td><td>0.69810647</td></tr>\n",
       "\t<tr><th scope=row>ASTARR|ASTARR_I</th><td>ASTARR               </td><td>ASTARR_I               </td><td>0.74592468</td></tr>\n",
       "\t<tr><th scope=row>ASTARR|ASTARR_R</th><td>ASTARR               </td><td>ASTARR_R               </td><td>0.74058876</td></tr>\n",
       "\t<tr><th scope=row>ASTARR|ASTARR_T</th><td>ASTARR               </td><td>ASTARR_T               </td><td>0.26365809</td></tr>\n",
       "\t<tr><th scope=row>ATAC|ATAC_Q1</th><td>ATAC                 </td><td>ATAC_Q1                </td><td>0.09879604</td></tr>\n",
       "\t<tr><th scope=row>ATAC|ATAC_Q2</th><td>ATAC                 </td><td>ATAC_Q2                </td><td>0.14697065</td></tr>\n",
       "\t<tr><th scope=row>ATAC|ATAC_Q3</th><td>ATAC                 </td><td>ATAC_Q3                </td><td>0.23993324</td></tr>\n",
       "\t<tr><th scope=row>ATAC|ATAC_Q4</th><td>ATAC                 </td><td>ATAC_Q4                </td><td>0.56892389</td></tr>\n",
       "\t<tr><th scope=row>ATAC|ATAC_T</th><td>ATAC                 </td><td>ATAC_T                 </td><td>0.26294441</td></tr>\n",
       "\t<tr><th scope=row>CRISPRi_Growth|CRISPRi_Growth_A</th><td>CRISPRi_Growth       </td><td>CRISPRi_Growth_A       </td><td>0.61495002</td></tr>\n",
       "\t<tr><th scope=row>CRISPRi_Growth|CRISPRi_Growth_I</th><td>CRISPRi_Growth       </td><td>CRISPRi_Growth_I       </td><td>0.55867337</td></tr>\n",
       "\t<tr><th scope=row>CRISPRi_Growth|CRISPRi_Growth_T</th><td>CRISPRi_Growth       </td><td>CRISPRi_Growth_T       </td><td>0.56129185</td></tr>\n",
       "\t<tr><th scope=row>CRISPRi_HCRFF|CRISPRi_HCRFF_A</th><td>CRISPRi_HCRFF        </td><td>CRISPRi_HCRFF_A        </td><td>0.77777778</td></tr>\n",
       "\t<tr><th scope=row>CRISPRi_HCRFF|CRISPRi_HCRFF_I</th><td>CRISPRi_HCRFF        </td><td>CRISPRi_HCRFF_I        </td><td>0.37893082</td></tr>\n",
       "\t<tr><th scope=row>CRISPRi_HCRFF|CRISPRi_HCRFF_T</th><td>CRISPRi_HCRFF        </td><td>CRISPRi_HCRFF_T        </td><td>0.39624060</td></tr>\n",
       "\t<tr><th scope=row>ENCODE-E2G_Benchmark|ENCODE-E2G_Benchmark_A</th><td>ENCODE-E2G_Benchmark </td><td>ENCODE-E2G_Benchmark_A </td><td>0.83852691</td></tr>\n",
       "\t<tr><th scope=row>ENCODE-E2G_Benchmark|ENCODE-E2G_Benchmark_I</th><td>ENCODE-E2G_Benchmark </td><td>ENCODE-E2G_Benchmark_I </td><td>0.66503206</td></tr>\n",
       "\t<tr><th scope=row>ENCODE-E2G_Benchmark|ENCODE-E2G_Benchmark_T</th><td>ENCODE-E2G_Benchmark </td><td>ENCODE-E2G_Benchmark_T </td><td>0.68562874</td></tr>\n",
       "\t<tr><th scope=row>ENCODE-E2G_Prediction|ENCODE-E2G_Prediction_A</th><td>ENCODE-E2G_Prediction</td><td>ENCODE-E2G_Prediction_A</td><td>0.67215183</td></tr>\n",
       "\t<tr><th scope=row>ENCODE-E2G_Prediction|ENCODE-E2G_Prediction_I</th><td>ENCODE-E2G_Prediction</td><td>ENCODE-E2G_Prediction_I</td><td>0.45075867</td></tr>\n",
       "\t<tr><th scope=row>ENCODE-E2G_Prediction|ENCODE-E2G_Prediction_T</th><td>ENCODE-E2G_Prediction</td><td>ENCODE-E2G_Prediction_T</td><td>0.54472298</td></tr>\n",
       "\t<tr><th scope=row>LMPRA|LMPRA_A</th><td>LMPRA                </td><td>LMPRA_A                </td><td>0.58750000</td></tr>\n",
       "\t<tr><th scope=row>LMPRA|LMPRA_AB</th><td>LMPRA                </td><td>LMPRA_AB               </td><td>0.59429520</td></tr>\n",
       "\t<tr><th scope=row>LMPRA|LMPRA_I</th><td>LMPRA                </td><td>LMPRA_I                </td><td>0.30054645</td></tr>\n",
       "\t<tr><th scope=row>LMPRA|LMPRA_R</th><td>LMPRA                </td><td>LMPRA_R                </td><td>0.59598214</td></tr>\n",
       "\t<tr><th scope=row>LMPRA|LMPRA_T</th><td>LMPRA                </td><td>LMPRA_T                </td><td>0.56274481</td></tr>\n",
       "\t<tr><th scope=row>TMPRA|TMPRA_A</th><td>TMPRA                </td><td>TMPRA_A                </td><td>0.40930674</td></tr>\n",
       "\t<tr><th scope=row>TMPRA|TMPRA_I</th><td>TMPRA                </td><td>TMPRA_I                </td><td>0.19280206</td></tr>\n",
       "\t<tr><th scope=row>TMPRA|TMPRA_R</th><td>TMPRA                </td><td>TMPRA_R                </td><td>0.35294118</td></tr>\n",
       "\t<tr><th scope=row>TMPRA|TMPRA_T</th><td>TMPRA                </td><td>TMPRA_T                </td><td>0.31707317</td></tr>\n",
       "\t<tr><th scope=row>WSTARR|WSTARR_A</th><td>WSTARR               </td><td>WSTARR_A               </td><td>0.48822101</td></tr>\n",
       "\t<tr><th scope=row>WSTARR|WSTARR_AB</th><td>WSTARR               </td><td>WSTARR_AB              </td><td>0.59219621</td></tr>\n",
       "\t<tr><th scope=row>WSTARR|WSTARR_I</th><td>WSTARR               </td><td>WSTARR_I               </td><td>0.21962013</td></tr>\n",
       "\t<tr><th scope=row>WSTARR|WSTARR_R</th><td>WSTARR               </td><td>WSTARR_R               </td><td>0.32815275</td></tr>\n",
       "\t<tr><th scope=row>WSTARR|WSTARR_T</th><td>WSTARR               </td><td>WSTARR_T               </td><td>0.26379070</td></tr>\n",
       "</tbody>\n",
       "</table>\n"
      ],
      "text/latex": [
       "A data.frame: 36 × 3\n",
       "\\begin{tabular}{r|lll}\n",
       "  & Assay\\_Type & Assay\\_Label & Freq\\\\\n",
       "  & <chr> & <fct> & <dbl>\\\\\n",
       "\\hline\n",
       "\tASTARR\\textbar{}ASTARR\\_A & ASTARR                & ASTARR\\_A                & 0.68506800\\\\\n",
       "\tASTARR\\textbar{}ASTARR\\_AB & ASTARR                & ASTARR\\_AB               & 0.69810647\\\\\n",
       "\tASTARR\\textbar{}ASTARR\\_I & ASTARR                & ASTARR\\_I                & 0.74592468\\\\\n",
       "\tASTARR\\textbar{}ASTARR\\_R & ASTARR                & ASTARR\\_R                & 0.74058876\\\\\n",
       "\tASTARR\\textbar{}ASTARR\\_T & ASTARR                & ASTARR\\_T                & 0.26365809\\\\\n",
       "\tATAC\\textbar{}ATAC\\_Q1 & ATAC                  & ATAC\\_Q1                 & 0.09879604\\\\\n",
       "\tATAC\\textbar{}ATAC\\_Q2 & ATAC                  & ATAC\\_Q2                 & 0.14697065\\\\\n",
       "\tATAC\\textbar{}ATAC\\_Q3 & ATAC                  & ATAC\\_Q3                 & 0.23993324\\\\\n",
       "\tATAC\\textbar{}ATAC\\_Q4 & ATAC                  & ATAC\\_Q4                 & 0.56892389\\\\\n",
       "\tATAC\\textbar{}ATAC\\_T & ATAC                  & ATAC\\_T                  & 0.26294441\\\\\n",
       "\tCRISPRi\\_Growth\\textbar{}CRISPRi\\_Growth\\_A & CRISPRi\\_Growth        & CRISPRi\\_Growth\\_A        & 0.61495002\\\\\n",
       "\tCRISPRi\\_Growth\\textbar{}CRISPRi\\_Growth\\_I & CRISPRi\\_Growth        & CRISPRi\\_Growth\\_I        & 0.55867337\\\\\n",
       "\tCRISPRi\\_Growth\\textbar{}CRISPRi\\_Growth\\_T & CRISPRi\\_Growth        & CRISPRi\\_Growth\\_T        & 0.56129185\\\\\n",
       "\tCRISPRi\\_HCRFF\\textbar{}CRISPRi\\_HCRFF\\_A & CRISPRi\\_HCRFF         & CRISPRi\\_HCRFF\\_A         & 0.77777778\\\\\n",
       "\tCRISPRi\\_HCRFF\\textbar{}CRISPRi\\_HCRFF\\_I & CRISPRi\\_HCRFF         & CRISPRi\\_HCRFF\\_I         & 0.37893082\\\\\n",
       "\tCRISPRi\\_HCRFF\\textbar{}CRISPRi\\_HCRFF\\_T & CRISPRi\\_HCRFF         & CRISPRi\\_HCRFF\\_T         & 0.39624060\\\\\n",
       "\tENCODE-E2G\\_Benchmark\\textbar{}ENCODE-E2G\\_Benchmark\\_A & ENCODE-E2G\\_Benchmark  & ENCODE-E2G\\_Benchmark\\_A  & 0.83852691\\\\\n",
       "\tENCODE-E2G\\_Benchmark\\textbar{}ENCODE-E2G\\_Benchmark\\_I & ENCODE-E2G\\_Benchmark  & ENCODE-E2G\\_Benchmark\\_I  & 0.66503206\\\\\n",
       "\tENCODE-E2G\\_Benchmark\\textbar{}ENCODE-E2G\\_Benchmark\\_T & ENCODE-E2G\\_Benchmark  & ENCODE-E2G\\_Benchmark\\_T  & 0.68562874\\\\\n",
       "\tENCODE-E2G\\_Prediction\\textbar{}ENCODE-E2G\\_Prediction\\_A & ENCODE-E2G\\_Prediction & ENCODE-E2G\\_Prediction\\_A & 0.67215183\\\\\n",
       "\tENCODE-E2G\\_Prediction\\textbar{}ENCODE-E2G\\_Prediction\\_I & ENCODE-E2G\\_Prediction & ENCODE-E2G\\_Prediction\\_I & 0.45075867\\\\\n",
       "\tENCODE-E2G\\_Prediction\\textbar{}ENCODE-E2G\\_Prediction\\_T & ENCODE-E2G\\_Prediction & ENCODE-E2G\\_Prediction\\_T & 0.54472298\\\\\n",
       "\tLMPRA\\textbar{}LMPRA\\_A & LMPRA                 & LMPRA\\_A                 & 0.58750000\\\\\n",
       "\tLMPRA\\textbar{}LMPRA\\_AB & LMPRA                 & LMPRA\\_AB                & 0.59429520\\\\\n",
       "\tLMPRA\\textbar{}LMPRA\\_I & LMPRA                 & LMPRA\\_I                 & 0.30054645\\\\\n",
       "\tLMPRA\\textbar{}LMPRA\\_R & LMPRA                 & LMPRA\\_R                 & 0.59598214\\\\\n",
       "\tLMPRA\\textbar{}LMPRA\\_T & LMPRA                 & LMPRA\\_T                 & 0.56274481\\\\\n",
       "\tTMPRA\\textbar{}TMPRA\\_A & TMPRA                 & TMPRA\\_A                 & 0.40930674\\\\\n",
       "\tTMPRA\\textbar{}TMPRA\\_I & TMPRA                 & TMPRA\\_I                 & 0.19280206\\\\\n",
       "\tTMPRA\\textbar{}TMPRA\\_R & TMPRA                 & TMPRA\\_R                 & 0.35294118\\\\\n",
       "\tTMPRA\\textbar{}TMPRA\\_T & TMPRA                 & TMPRA\\_T                 & 0.31707317\\\\\n",
       "\tWSTARR\\textbar{}WSTARR\\_A & WSTARR                & WSTARR\\_A                & 0.48822101\\\\\n",
       "\tWSTARR\\textbar{}WSTARR\\_AB & WSTARR                & WSTARR\\_AB               & 0.59219621\\\\\n",
       "\tWSTARR\\textbar{}WSTARR\\_I & WSTARR                & WSTARR\\_I                & 0.21962013\\\\\n",
       "\tWSTARR\\textbar{}WSTARR\\_R & WSTARR                & WSTARR\\_R                & 0.32815275\\\\\n",
       "\tWSTARR\\textbar{}WSTARR\\_T & WSTARR                & WSTARR\\_T                & 0.26379070\\\\\n",
       "\\end{tabular}\n"
      ],
      "text/markdown": [
       "\n",
       "A data.frame: 36 × 3\n",
       "\n",
       "| <!--/--> | Assay_Type &lt;chr&gt; | Assay_Label &lt;fct&gt; | Freq &lt;dbl&gt; |\n",
       "|---|---|---|---|\n",
       "| ASTARR|ASTARR_A | ASTARR                | ASTARR_A                | 0.68506800 |\n",
       "| ASTARR|ASTARR_AB | ASTARR                | ASTARR_AB               | 0.69810647 |\n",
       "| ASTARR|ASTARR_I | ASTARR                | ASTARR_I                | 0.74592468 |\n",
       "| ASTARR|ASTARR_R | ASTARR                | ASTARR_R                | 0.74058876 |\n",
       "| ASTARR|ASTARR_T | ASTARR                | ASTARR_T                | 0.26365809 |\n",
       "| ATAC|ATAC_Q1 | ATAC                  | ATAC_Q1                 | 0.09879604 |\n",
       "| ATAC|ATAC_Q2 | ATAC                  | ATAC_Q2                 | 0.14697065 |\n",
       "| ATAC|ATAC_Q3 | ATAC                  | ATAC_Q3                 | 0.23993324 |\n",
       "| ATAC|ATAC_Q4 | ATAC                  | ATAC_Q4                 | 0.56892389 |\n",
       "| ATAC|ATAC_T | ATAC                  | ATAC_T                  | 0.26294441 |\n",
       "| CRISPRi_Growth|CRISPRi_Growth_A | CRISPRi_Growth        | CRISPRi_Growth_A        | 0.61495002 |\n",
       "| CRISPRi_Growth|CRISPRi_Growth_I | CRISPRi_Growth        | CRISPRi_Growth_I        | 0.55867337 |\n",
       "| CRISPRi_Growth|CRISPRi_Growth_T | CRISPRi_Growth        | CRISPRi_Growth_T        | 0.56129185 |\n",
       "| CRISPRi_HCRFF|CRISPRi_HCRFF_A | CRISPRi_HCRFF         | CRISPRi_HCRFF_A         | 0.77777778 |\n",
       "| CRISPRi_HCRFF|CRISPRi_HCRFF_I | CRISPRi_HCRFF         | CRISPRi_HCRFF_I         | 0.37893082 |\n",
       "| CRISPRi_HCRFF|CRISPRi_HCRFF_T | CRISPRi_HCRFF         | CRISPRi_HCRFF_T         | 0.39624060 |\n",
       "| ENCODE-E2G_Benchmark|ENCODE-E2G_Benchmark_A | ENCODE-E2G_Benchmark  | ENCODE-E2G_Benchmark_A  | 0.83852691 |\n",
       "| ENCODE-E2G_Benchmark|ENCODE-E2G_Benchmark_I | ENCODE-E2G_Benchmark  | ENCODE-E2G_Benchmark_I  | 0.66503206 |\n",
       "| ENCODE-E2G_Benchmark|ENCODE-E2G_Benchmark_T | ENCODE-E2G_Benchmark  | ENCODE-E2G_Benchmark_T  | 0.68562874 |\n",
       "| ENCODE-E2G_Prediction|ENCODE-E2G_Prediction_A | ENCODE-E2G_Prediction | ENCODE-E2G_Prediction_A | 0.67215183 |\n",
       "| ENCODE-E2G_Prediction|ENCODE-E2G_Prediction_I | ENCODE-E2G_Prediction | ENCODE-E2G_Prediction_I | 0.45075867 |\n",
       "| ENCODE-E2G_Prediction|ENCODE-E2G_Prediction_T | ENCODE-E2G_Prediction | ENCODE-E2G_Prediction_T | 0.54472298 |\n",
       "| LMPRA|LMPRA_A | LMPRA                 | LMPRA_A                 | 0.58750000 |\n",
       "| LMPRA|LMPRA_AB | LMPRA                 | LMPRA_AB                | 0.59429520 |\n",
       "| LMPRA|LMPRA_I | LMPRA                 | LMPRA_I                 | 0.30054645 |\n",
       "| LMPRA|LMPRA_R | LMPRA                 | LMPRA_R                 | 0.59598214 |\n",
       "| LMPRA|LMPRA_T | LMPRA                 | LMPRA_T                 | 0.56274481 |\n",
       "| TMPRA|TMPRA_A | TMPRA                 | TMPRA_A                 | 0.40930674 |\n",
       "| TMPRA|TMPRA_I | TMPRA                 | TMPRA_I                 | 0.19280206 |\n",
       "| TMPRA|TMPRA_R | TMPRA                 | TMPRA_R                 | 0.35294118 |\n",
       "| TMPRA|TMPRA_T | TMPRA                 | TMPRA_T                 | 0.31707317 |\n",
       "| WSTARR|WSTARR_A | WSTARR                | WSTARR_A                | 0.48822101 |\n",
       "| WSTARR|WSTARR_AB | WSTARR                | WSTARR_AB               | 0.59219621 |\n",
       "| WSTARR|WSTARR_I | WSTARR                | WSTARR_I                | 0.21962013 |\n",
       "| WSTARR|WSTARR_R | WSTARR                | WSTARR_R                | 0.32815275 |\n",
       "| WSTARR|WSTARR_T | WSTARR                | WSTARR_T                | 0.26379070 |\n",
       "\n"
      ],
      "text/plain": [
       "                                              Assay_Type           \n",
       "ASTARR|ASTARR_A                               ASTARR               \n",
       "ASTARR|ASTARR_AB                              ASTARR               \n",
       "ASTARR|ASTARR_I                               ASTARR               \n",
       "ASTARR|ASTARR_R                               ASTARR               \n",
       "ASTARR|ASTARR_T                               ASTARR               \n",
       "ATAC|ATAC_Q1                                  ATAC                 \n",
       "ATAC|ATAC_Q2                                  ATAC                 \n",
       "ATAC|ATAC_Q3                                  ATAC                 \n",
       "ATAC|ATAC_Q4                                  ATAC                 \n",
       "ATAC|ATAC_T                                   ATAC                 \n",
       "CRISPRi_Growth|CRISPRi_Growth_A               CRISPRi_Growth       \n",
       "CRISPRi_Growth|CRISPRi_Growth_I               CRISPRi_Growth       \n",
       "CRISPRi_Growth|CRISPRi_Growth_T               CRISPRi_Growth       \n",
       "CRISPRi_HCRFF|CRISPRi_HCRFF_A                 CRISPRi_HCRFF        \n",
       "CRISPRi_HCRFF|CRISPRi_HCRFF_I                 CRISPRi_HCRFF        \n",
       "CRISPRi_HCRFF|CRISPRi_HCRFF_T                 CRISPRi_HCRFF        \n",
       "ENCODE-E2G_Benchmark|ENCODE-E2G_Benchmark_A   ENCODE-E2G_Benchmark \n",
       "ENCODE-E2G_Benchmark|ENCODE-E2G_Benchmark_I   ENCODE-E2G_Benchmark \n",
       "ENCODE-E2G_Benchmark|ENCODE-E2G_Benchmark_T   ENCODE-E2G_Benchmark \n",
       "ENCODE-E2G_Prediction|ENCODE-E2G_Prediction_A ENCODE-E2G_Prediction\n",
       "ENCODE-E2G_Prediction|ENCODE-E2G_Prediction_I ENCODE-E2G_Prediction\n",
       "ENCODE-E2G_Prediction|ENCODE-E2G_Prediction_T ENCODE-E2G_Prediction\n",
       "LMPRA|LMPRA_A                                 LMPRA                \n",
       "LMPRA|LMPRA_AB                                LMPRA                \n",
       "LMPRA|LMPRA_I                                 LMPRA                \n",
       "LMPRA|LMPRA_R                                 LMPRA                \n",
       "LMPRA|LMPRA_T                                 LMPRA                \n",
       "TMPRA|TMPRA_A                                 TMPRA                \n",
       "TMPRA|TMPRA_I                                 TMPRA                \n",
       "TMPRA|TMPRA_R                                 TMPRA                \n",
       "TMPRA|TMPRA_T                                 TMPRA                \n",
       "WSTARR|WSTARR_A                               WSTARR               \n",
       "WSTARR|WSTARR_AB                              WSTARR               \n",
       "WSTARR|WSTARR_I                               WSTARR               \n",
       "WSTARR|WSTARR_R                               WSTARR               \n",
       "WSTARR|WSTARR_T                               WSTARR               \n",
       "                                              Assay_Label            \n",
       "ASTARR|ASTARR_A                               ASTARR_A               \n",
       "ASTARR|ASTARR_AB                              ASTARR_AB              \n",
       "ASTARR|ASTARR_I                               ASTARR_I               \n",
       "ASTARR|ASTARR_R                               ASTARR_R               \n",
       "ASTARR|ASTARR_T                               ASTARR_T               \n",
       "ATAC|ATAC_Q1                                  ATAC_Q1                \n",
       "ATAC|ATAC_Q2                                  ATAC_Q2                \n",
       "ATAC|ATAC_Q3                                  ATAC_Q3                \n",
       "ATAC|ATAC_Q4                                  ATAC_Q4                \n",
       "ATAC|ATAC_T                                   ATAC_T                 \n",
       "CRISPRi_Growth|CRISPRi_Growth_A               CRISPRi_Growth_A       \n",
       "CRISPRi_Growth|CRISPRi_Growth_I               CRISPRi_Growth_I       \n",
       "CRISPRi_Growth|CRISPRi_Growth_T               CRISPRi_Growth_T       \n",
       "CRISPRi_HCRFF|CRISPRi_HCRFF_A                 CRISPRi_HCRFF_A        \n",
       "CRISPRi_HCRFF|CRISPRi_HCRFF_I                 CRISPRi_HCRFF_I        \n",
       "CRISPRi_HCRFF|CRISPRi_HCRFF_T                 CRISPRi_HCRFF_T        \n",
       "ENCODE-E2G_Benchmark|ENCODE-E2G_Benchmark_A   ENCODE-E2G_Benchmark_A \n",
       "ENCODE-E2G_Benchmark|ENCODE-E2G_Benchmark_I   ENCODE-E2G_Benchmark_I \n",
       "ENCODE-E2G_Benchmark|ENCODE-E2G_Benchmark_T   ENCODE-E2G_Benchmark_T \n",
       "ENCODE-E2G_Prediction|ENCODE-E2G_Prediction_A ENCODE-E2G_Prediction_A\n",
       "ENCODE-E2G_Prediction|ENCODE-E2G_Prediction_I ENCODE-E2G_Prediction_I\n",
       "ENCODE-E2G_Prediction|ENCODE-E2G_Prediction_T ENCODE-E2G_Prediction_T\n",
       "LMPRA|LMPRA_A                                 LMPRA_A                \n",
       "LMPRA|LMPRA_AB                                LMPRA_AB               \n",
       "LMPRA|LMPRA_I                                 LMPRA_I                \n",
       "LMPRA|LMPRA_R                                 LMPRA_R                \n",
       "LMPRA|LMPRA_T                                 LMPRA_T                \n",
       "TMPRA|TMPRA_A                                 TMPRA_A                \n",
       "TMPRA|TMPRA_I                                 TMPRA_I                \n",
       "TMPRA|TMPRA_R                                 TMPRA_R                \n",
       "TMPRA|TMPRA_T                                 TMPRA_T                \n",
       "WSTARR|WSTARR_A                               WSTARR_A               \n",
       "WSTARR|WSTARR_AB                              WSTARR_AB              \n",
       "WSTARR|WSTARR_I                               WSTARR_I               \n",
       "WSTARR|WSTARR_R                               WSTARR_R               \n",
       "WSTARR|WSTARR_T                               WSTARR_T               \n",
       "                                              Freq      \n",
       "ASTARR|ASTARR_A                               0.68506800\n",
       "ASTARR|ASTARR_AB                              0.69810647\n",
       "ASTARR|ASTARR_I                               0.74592468\n",
       "ASTARR|ASTARR_R                               0.74058876\n",
       "ASTARR|ASTARR_T                               0.26365809\n",
       "ATAC|ATAC_Q1                                  0.09879604\n",
       "ATAC|ATAC_Q2                                  0.14697065\n",
       "ATAC|ATAC_Q3                                  0.23993324\n",
       "ATAC|ATAC_Q4                                  0.56892389\n",
       "ATAC|ATAC_T                                   0.26294441\n",
       "CRISPRi_Growth|CRISPRi_Growth_A               0.61495002\n",
       "CRISPRi_Growth|CRISPRi_Growth_I               0.55867337\n",
       "CRISPRi_Growth|CRISPRi_Growth_T               0.56129185\n",
       "CRISPRi_HCRFF|CRISPRi_HCRFF_A                 0.77777778\n",
       "CRISPRi_HCRFF|CRISPRi_HCRFF_I                 0.37893082\n",
       "CRISPRi_HCRFF|CRISPRi_HCRFF_T                 0.39624060\n",
       "ENCODE-E2G_Benchmark|ENCODE-E2G_Benchmark_A   0.83852691\n",
       "ENCODE-E2G_Benchmark|ENCODE-E2G_Benchmark_I   0.66503206\n",
       "ENCODE-E2G_Benchmark|ENCODE-E2G_Benchmark_T   0.68562874\n",
       "ENCODE-E2G_Prediction|ENCODE-E2G_Prediction_A 0.67215183\n",
       "ENCODE-E2G_Prediction|ENCODE-E2G_Prediction_I 0.45075867\n",
       "ENCODE-E2G_Prediction|ENCODE-E2G_Prediction_T 0.54472298\n",
       "LMPRA|LMPRA_A                                 0.58750000\n",
       "LMPRA|LMPRA_AB                                0.59429520\n",
       "LMPRA|LMPRA_I                                 0.30054645\n",
       "LMPRA|LMPRA_R                                 0.59598214\n",
       "LMPRA|LMPRA_T                                 0.56274481\n",
       "TMPRA|TMPRA_A                                 0.40930674\n",
       "TMPRA|TMPRA_I                                 0.19280206\n",
       "TMPRA|TMPRA_R                                 0.35294118\n",
       "TMPRA|TMPRA_T                                 0.31707317\n",
       "WSTARR|WSTARR_A                               0.48822101\n",
       "WSTARR|WSTARR_AB                              0.59219621\n",
       "WSTARR|WSTARR_I                               0.21962013\n",
       "WSTARR|WSTARR_R                               0.32815275\n",
       "WSTARR|WSTARR_T                               0.26379070"
      ]
     },
     "metadata": {},
     "output_type": "display_data"
    }
   ],
   "source": [
    "vec = unlist(lst)\n",
    "vec_txt_assay_label = names(vec)\n",
    "\n",
    "dat = data.frame(\n",
    "    \"Assay\" = names(vec),\n",
    "    \"Freq\"        = vec\n",
    ")\n",
    "\n",
    "dat = dat %>% \n",
    "    tidyr::separate(Assay, c(\"Assay_Type\", \"Assay_Label\"), sep = \"\\\\|\")\n",
    "    \n",
    "dat = dat %>%\n",
    "    dplyr::arrange(Assay_Type, Assay_Label) %>%\n",
    "    dplyr::mutate(Assay_Label = factor(Assay_Label, levels=Assay_Label))\n",
    "\n",
    "dat_freq_overlap = dat\n",
    "dat"
   ]
  },
  {
   "cell_type": "code",
   "execution_count": 51,
   "metadata": {},
   "outputs": [
    {
     "data": {
      "image/png": "[encoded data removed]",
      "text/plain": [
       "plot without title"
      ]
     },
     "metadata": {
      "image/png": {
       "height": 420,
       "width": 420
      }
     },
     "output_type": "display_data"
    }
   ],
   "source": [
    "dat = dat_freq_overlap\n",
    "dat = dat %>% dplyr::filter(Assay_Type == \"ATAC\")\n",
    "gpt = ggplot(dat, aes(x=Assay_Label, y=Freq)) + \n",
    "    geom_col() + \n",
    "    coord_flip() +\n",
    "    theme_cowplot() \n",
    "\n",
    "gpt_bar_atac = gpt\n",
    "print(gpt)"
   ]
  },
  {
   "cell_type": "code",
   "execution_count": 52,
   "metadata": {},
   "outputs": [
    {
     "data": {
      "image/png": "[encoded data removed]",
      "text/plain": [
       "plot without title"
      ]
     },
     "metadata": {
      "image/png": {
       "height": 420,
       "width": 420
      }
     },
     "output_type": "display_data"
    }
   ],
   "source": [
    "dat = dat_freq_overlap\n",
    "dat = dat %>% dplyr::filter(Assay_Type != \"ATAC\")\n",
    "gpt = ggplot(dat, aes(x=Assay_Label, y=Freq)) + \n",
    "    geom_col() + \n",
    "    coord_flip() +\n",
    "    theme_cowplot()\n",
    "\n",
    "gpt_bar_fcc = gpt\n",
    "print(gpt)"
   ]
  },
  {
   "cell_type": "code",
   "execution_count": 61,
   "metadata": {},
   "outputs": [
    {
     "data": {
      "image/png": "[encoded data removed]",
      "text/plain": [
       "plot without title"
      ]
     },
     "metadata": {
      "image/png": {
       "height": 600,
       "width": 600
      }
     },
     "output_type": "display_data"
    }
   ],
   "source": [
    "plt = plot_grid(\n",
    "    gpt_bar_fcc  + ylim(0, 0.9) + labs(x=\"\", y=\"\"), \n",
    "    gpt_bar_atac + ylim(0, 0.9) + labs(x=\"\", y=\"Frequency (Looped)\"), \n",
    "    ncol=1, \n",
    "    align = \"v\",\n",
    "    rel_heights = c(4, 1)\n",
    ")\n",
    "options(repr.plot.height=10, repr.plot.width=10)\n",
    "print(plt)"
   ]
  },
  {
   "cell_type": "code",
   "execution_count": null,
   "metadata": {},
   "outputs": [],
   "source": []
  }
 ],
 "metadata": {
  "kernelspec": {
   "display_name": "R",
   "language": "R",
   "name": "ir"
  },
  "language_info": {
   "codemirror_mode": "r",
   "file_extension": ".r",
   "mimetype": "text/x-r-source",
   "name": "R",
   "pygments_lexer": "r",
   "version": "4.3.1"
  }
 },
 "nbformat": 4,
 "nbformat_minor": 4
}
