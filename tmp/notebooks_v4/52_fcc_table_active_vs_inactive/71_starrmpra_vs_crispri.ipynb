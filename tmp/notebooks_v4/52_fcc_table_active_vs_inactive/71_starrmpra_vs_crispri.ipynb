{
 "cells": [
  {
   "cell_type": "markdown",
   "id": "691705bd-fb4d-4504-934f-a95f11b17ea6",
   "metadata": {},
   "source": [
    "**Set environment**"
   ]
  },
  {
   "cell_type": "code",
   "execution_count": 1,
   "id": "37859536-0179-4e89-b1cd-89d1561aad77",
   "metadata": {},
   "outputs": [
    {
     "name": "stdout",
     "output_type": "stream",
     "text": [
      "You are in Singularity: singularity_proj_encode_fcc \n",
      "BASE DIRECTORY (FD_BASE): /data/reddylab/Kuei \n",
      "WORK DIRECTORY (FD_WORK): /data/reddylab/Kuei/out \n",
      "CODE DIRECTORY (FD_CODE): /data/reddylab/Kuei/code \n",
      "PATH OF PROJECT (FD_PRJ): /data/reddylab/Kuei/code/Proj_CombEffect_ENCODE_FCC \n",
      "PATH OF RESULTS (FD_RES): /data/reddylab/Kuei/out/proj_combeffect_encode_fcc \n",
      "PATH OF LOG     (FD_LOG): /data/reddylab/Kuei/out/proj_combeffect_encode_fcc/log \n"
     ]
    }
   ],
   "source": [
    "suppressWarnings(suppressMessages(source(\"../config/config_sing.R\")))\n",
    "show_env()"
   ]
  },
  {
   "cell_type": "markdown",
   "id": "af748ded-2d42-48e6-aed0-0fbf5623167c",
   "metadata": {},
   "source": [
    "## Import FCC data"
   ]
  },
  {
   "cell_type": "code",
   "execution_count": 2,
   "id": "b34b6371-1adf-4531-aafb-84047f82cf84",
   "metadata": {},
   "outputs": [
    {
     "name": "stdout",
     "output_type": "stream",
     "text": [
      "[1] 732434      7\n"
     ]
    },
    {
     "data": {
      "text/html": [
       "<table class=\"dataframe\">\n",
       "<caption>A tibble: 6 × 7</caption>\n",
       "<thead>\n",
       "\t<tr><th scope=col>Chrom</th><th scope=col>Start</th><th scope=col>End</th><th scope=col>Peak</th><th scope=col>Score</th><th scope=col>Assay_Type</th><th scope=col>Assay_Label</th></tr>\n",
       "\t<tr><th scope=col>&lt;chr&gt;</th><th scope=col>&lt;dbl&gt;</th><th scope=col>&lt;dbl&gt;</th><th scope=col>&lt;chr&gt;</th><th scope=col>&lt;dbl&gt;</th><th scope=col>&lt;chr&gt;</th><th scope=col>&lt;chr&gt;</th></tr>\n",
       "</thead>\n",
       "<tbody>\n",
       "\t<tr><td>chr1</td><td>100006256</td><td>100006880</td><td>chr1:100006256-100006880</td><td>-0.01311792</td><td>ASTARR</td><td>ASTARR_T</td></tr>\n",
       "\t<tr><td>chr1</td><td>100010437</td><td>100010915</td><td>chr1:100010437-100010915</td><td>-0.80687947</td><td>ASTARR</td><td>ASTARR_T</td></tr>\n",
       "\t<tr><td>chr1</td><td> 10002087</td><td> 10003910</td><td>chr1:10002087-10003910  </td><td>-0.34892859</td><td>ASTARR</td><td>ASTARR_T</td></tr>\n",
       "\t<tr><td>chr1</td><td>100021298</td><td>100021629</td><td>chr1:100021298-100021629</td><td>-1.03799571</td><td>ASTARR</td><td>ASTARR_T</td></tr>\n",
       "\t<tr><td>chr1</td><td>100023727</td><td>100023976</td><td>chr1:100023727-100023976</td><td>-0.19100207</td><td>ASTARR</td><td>ASTARR_T</td></tr>\n",
       "\t<tr><td>chr1</td><td>100027983</td><td>100029702</td><td>chr1:100027983-100029702</td><td>-0.18001582</td><td>ASTARR</td><td>ASTARR_T</td></tr>\n",
       "</tbody>\n",
       "</table>\n"
      ],
      "text/latex": [
       "A tibble: 6 × 7\n",
       "\\begin{tabular}{lllllll}\n",
       " Chrom & Start & End & Peak & Score & Assay\\_Type & Assay\\_Label\\\\\n",
       " <chr> & <dbl> & <dbl> & <chr> & <dbl> & <chr> & <chr>\\\\\n",
       "\\hline\n",
       "\t chr1 & 100006256 & 100006880 & chr1:100006256-100006880 & -0.01311792 & ASTARR & ASTARR\\_T\\\\\n",
       "\t chr1 & 100010437 & 100010915 & chr1:100010437-100010915 & -0.80687947 & ASTARR & ASTARR\\_T\\\\\n",
       "\t chr1 &  10002087 &  10003910 & chr1:10002087-10003910   & -0.34892859 & ASTARR & ASTARR\\_T\\\\\n",
       "\t chr1 & 100021298 & 100021629 & chr1:100021298-100021629 & -1.03799571 & ASTARR & ASTARR\\_T\\\\\n",
       "\t chr1 & 100023727 & 100023976 & chr1:100023727-100023976 & -0.19100207 & ASTARR & ASTARR\\_T\\\\\n",
       "\t chr1 & 100027983 & 100029702 & chr1:100027983-100029702 & -0.18001582 & ASTARR & ASTARR\\_T\\\\\n",
       "\\end{tabular}\n"
      ],
      "text/markdown": [
       "\n",
       "A tibble: 6 × 7\n",
       "\n",
       "| Chrom &lt;chr&gt; | Start &lt;dbl&gt; | End &lt;dbl&gt; | Peak &lt;chr&gt; | Score &lt;dbl&gt; | Assay_Type &lt;chr&gt; | Assay_Label &lt;chr&gt; |\n",
       "|---|---|---|---|---|---|---|\n",
       "| chr1 | 100006256 | 100006880 | chr1:100006256-100006880 | -0.01311792 | ASTARR | ASTARR_T |\n",
       "| chr1 | 100010437 | 100010915 | chr1:100010437-100010915 | -0.80687947 | ASTARR | ASTARR_T |\n",
       "| chr1 |  10002087 |  10003910 | chr1:10002087-10003910   | -0.34892859 | ASTARR | ASTARR_T |\n",
       "| chr1 | 100021298 | 100021629 | chr1:100021298-100021629 | -1.03799571 | ASTARR | ASTARR_T |\n",
       "| chr1 | 100023727 | 100023976 | chr1:100023727-100023976 | -0.19100207 | ASTARR | ASTARR_T |\n",
       "| chr1 | 100027983 | 100029702 | chr1:100027983-100029702 | -0.18001582 | ASTARR | ASTARR_T |\n",
       "\n"
      ],
      "text/plain": [
       "  Chrom Start     End       Peak                     Score       Assay_Type\n",
       "1 chr1  100006256 100006880 chr1:100006256-100006880 -0.01311792 ASTARR    \n",
       "2 chr1  100010437 100010915 chr1:100010437-100010915 -0.80687947 ASTARR    \n",
       "3 chr1   10002087  10003910 chr1:10002087-10003910   -0.34892859 ASTARR    \n",
       "4 chr1  100021298 100021629 chr1:100021298-100021629 -1.03799571 ASTARR    \n",
       "5 chr1  100023727 100023976 chr1:100023727-100023976 -0.19100207 ASTARR    \n",
       "6 chr1  100027983 100029702 chr1:100027983-100029702 -0.18001582 ASTARR    \n",
       "  Assay_Label\n",
       "1 ASTARR_T   \n",
       "2 ASTARR_T   \n",
       "3 ASTARR_T   \n",
       "4 ASTARR_T   \n",
       "5 ASTARR_T   \n",
       "6 ASTARR_T   "
      ]
     },
     "metadata": {},
     "output_type": "display_data"
    }
   ],
   "source": [
    "fdiry = file.path(FD_RES, \"results\", \"region\", \"KS91_K562_ASTARRseq_peak_macs_input\", \"summary\")\n",
    "fname = \"peak.screened.fcc.total.tsv\"\n",
    "fpath = file.path(fdiry, fname)\n",
    "\n",
    "dat = read_tsv(fpath, show_col_types=FALSE)\n",
    "\n",
    "dat_peak_atac_fcc_total = dat\n",
    "print(dim(dat))\n",
    "head(dat)"
   ]
  },
  {
   "cell_type": "code",
   "execution_count": 3,
   "id": "2596c29a-da46-4059-92c6-be0f0cc30285",
   "metadata": {},
   "outputs": [
    {
     "name": "stdout",
     "output_type": "stream",
     "text": [
      "[1] 167127      6\n"
     ]
    },
    {
     "data": {
      "text/html": [
       "<table class=\"dataframe\">\n",
       "<caption>A tibble: 6 × 6</caption>\n",
       "<thead>\n",
       "\t<tr><th scope=col>Chrom</th><th scope=col>Start</th><th scope=col>End</th><th scope=col>Peak</th><th scope=col>Assay_Type</th><th scope=col>Assay_Label</th></tr>\n",
       "\t<tr><th scope=col>&lt;chr&gt;</th><th scope=col>&lt;dbl&gt;</th><th scope=col>&lt;dbl&gt;</th><th scope=col>&lt;chr&gt;</th><th scope=col>&lt;chr&gt;</th><th scope=col>&lt;chr&gt;</th></tr>\n",
       "</thead>\n",
       "<tbody>\n",
       "\t<tr><td>chr1</td><td>101198203</td><td>101199537</td><td>chr1:101198203-101199537</td><td>ASTARR</td><td>ASTARR_AB</td></tr>\n",
       "\t<tr><td>chr1</td><td>  1012902</td><td>  1014502</td><td>chr1:1012902-1014502    </td><td>ASTARR</td><td>ASTARR_AB</td></tr>\n",
       "\t<tr><td>chr1</td><td>109213422</td><td>109215054</td><td>chr1:109213422-109215054</td><td>ASTARR</td><td>ASTARR_AB</td></tr>\n",
       "\t<tr><td>chr1</td><td>109218538</td><td>109219133</td><td>chr1:109218538-109219133</td><td>ASTARR</td><td>ASTARR_AB</td></tr>\n",
       "\t<tr><td>chr1</td><td>109388963</td><td>109390708</td><td>chr1:109388963-109390708</td><td>ASTARR</td><td>ASTARR_AB</td></tr>\n",
       "\t<tr><td>chr1</td><td>109476546</td><td>109477209</td><td>chr1:109476546-109477209</td><td>ASTARR</td><td>ASTARR_AB</td></tr>\n",
       "</tbody>\n",
       "</table>\n"
      ],
      "text/latex": [
       "A tibble: 6 × 6\n",
       "\\begin{tabular}{llllll}\n",
       " Chrom & Start & End & Peak & Assay\\_Type & Assay\\_Label\\\\\n",
       " <chr> & <dbl> & <dbl> & <chr> & <chr> & <chr>\\\\\n",
       "\\hline\n",
       "\t chr1 & 101198203 & 101199537 & chr1:101198203-101199537 & ASTARR & ASTARR\\_AB\\\\\n",
       "\t chr1 &   1012902 &   1014502 & chr1:1012902-1014502     & ASTARR & ASTARR\\_AB\\\\\n",
       "\t chr1 & 109213422 & 109215054 & chr1:109213422-109215054 & ASTARR & ASTARR\\_AB\\\\\n",
       "\t chr1 & 109218538 & 109219133 & chr1:109218538-109219133 & ASTARR & ASTARR\\_AB\\\\\n",
       "\t chr1 & 109388963 & 109390708 & chr1:109388963-109390708 & ASTARR & ASTARR\\_AB\\\\\n",
       "\t chr1 & 109476546 & 109477209 & chr1:109476546-109477209 & ASTARR & ASTARR\\_AB\\\\\n",
       "\\end{tabular}\n"
      ],
      "text/markdown": [
       "\n",
       "A tibble: 6 × 6\n",
       "\n",
       "| Chrom &lt;chr&gt; | Start &lt;dbl&gt; | End &lt;dbl&gt; | Peak &lt;chr&gt; | Assay_Type &lt;chr&gt; | Assay_Label &lt;chr&gt; |\n",
       "|---|---|---|---|---|---|\n",
       "| chr1 | 101198203 | 101199537 | chr1:101198203-101199537 | ASTARR | ASTARR_AB |\n",
       "| chr1 |   1012902 |   1014502 | chr1:1012902-1014502     | ASTARR | ASTARR_AB |\n",
       "| chr1 | 109213422 | 109215054 | chr1:109213422-109215054 | ASTARR | ASTARR_AB |\n",
       "| chr1 | 109218538 | 109219133 | chr1:109218538-109219133 | ASTARR | ASTARR_AB |\n",
       "| chr1 | 109388963 | 109390708 | chr1:109388963-109390708 | ASTARR | ASTARR_AB |\n",
       "| chr1 | 109476546 | 109477209 | chr1:109476546-109477209 | ASTARR | ASTARR_AB |\n",
       "\n"
      ],
      "text/plain": [
       "  Chrom Start     End       Peak                     Assay_Type Assay_Label\n",
       "1 chr1  101198203 101199537 chr1:101198203-101199537 ASTARR     ASTARR_AB  \n",
       "2 chr1    1012902   1014502 chr1:1012902-1014502     ASTARR     ASTARR_AB  \n",
       "3 chr1  109213422 109215054 chr1:109213422-109215054 ASTARR     ASTARR_AB  \n",
       "4 chr1  109218538 109219133 chr1:109218538-109219133 ASTARR     ASTARR_AB  \n",
       "5 chr1  109388963 109390708 chr1:109388963-109390708 ASTARR     ASTARR_AB  \n",
       "6 chr1  109476546 109477209 chr1:109476546-109477209 ASTARR     ASTARR_AB  "
      ]
     },
     "metadata": {},
     "output_type": "display_data"
    }
   ],
   "source": [
    "fdiry = file.path(FD_RES, \"results\", \"region\", \"KS91_K562_ASTARRseq_peak_macs_input\", \"summary\")\n",
    "fname = \"peak.screened.fcc.active.tsv\"\n",
    "fpath = file.path(fdiry, fname)\n",
    "\n",
    "dat = read_tsv(fpath, show_col_types=FALSE)\n",
    "\n",
    "dat_peak_atac_fcc_active = dat\n",
    "print(dim(dat))\n",
    "head(dat)"
   ]
  },
  {
   "cell_type": "code",
   "execution_count": 4,
   "id": "1139fcc2-973f-4b73-80fb-ed16b5b3b4c3",
   "metadata": {},
   "outputs": [
    {
     "name": "stdout",
     "output_type": "stream",
     "text": [
      "[1] 600872      6\n"
     ]
    },
    {
     "data": {
      "text/html": [
       "<table class=\"dataframe\">\n",
       "<caption>A tibble: 6 × 6</caption>\n",
       "<thead>\n",
       "\t<tr><th scope=col>Chrom</th><th scope=col>Start</th><th scope=col>End</th><th scope=col>Peak</th><th scope=col>Assay_Type</th><th scope=col>Assay_Label</th></tr>\n",
       "\t<tr><th scope=col>&lt;chr&gt;</th><th scope=col>&lt;dbl&gt;</th><th scope=col>&lt;dbl&gt;</th><th scope=col>&lt;chr&gt;</th><th scope=col>&lt;chr&gt;</th><th scope=col>&lt;chr&gt;</th></tr>\n",
       "</thead>\n",
       "<tbody>\n",
       "\t<tr><td>chr1</td><td>10015</td><td>10442</td><td>chr1:10015-10442</td><td>ASTARR</td><td>ASTARR_I</td></tr>\n",
       "\t<tr><td>chr1</td><td>14253</td><td>14645</td><td>chr1:14253-14645</td><td>ASTARR</td><td>ASTARR_I</td></tr>\n",
       "\t<tr><td>chr1</td><td>16015</td><td>16477</td><td>chr1:16015-16477</td><td>ASTARR</td><td>ASTARR_I</td></tr>\n",
       "\t<tr><td>chr1</td><td>17237</td><td>17772</td><td>chr1:17237-17772</td><td>ASTARR</td><td>ASTARR_I</td></tr>\n",
       "\t<tr><td>chr1</td><td>28903</td><td>29613</td><td>chr1:28903-29613</td><td>ASTARR</td><td>ASTARR_I</td></tr>\n",
       "\t<tr><td>chr1</td><td>30803</td><td>31072</td><td>chr1:30803-31072</td><td>ASTARR</td><td>ASTARR_I</td></tr>\n",
       "</tbody>\n",
       "</table>\n"
      ],
      "text/latex": [
       "A tibble: 6 × 6\n",
       "\\begin{tabular}{llllll}\n",
       " Chrom & Start & End & Peak & Assay\\_Type & Assay\\_Label\\\\\n",
       " <chr> & <dbl> & <dbl> & <chr> & <chr> & <chr>\\\\\n",
       "\\hline\n",
       "\t chr1 & 10015 & 10442 & chr1:10015-10442 & ASTARR & ASTARR\\_I\\\\\n",
       "\t chr1 & 14253 & 14645 & chr1:14253-14645 & ASTARR & ASTARR\\_I\\\\\n",
       "\t chr1 & 16015 & 16477 & chr1:16015-16477 & ASTARR & ASTARR\\_I\\\\\n",
       "\t chr1 & 17237 & 17772 & chr1:17237-17772 & ASTARR & ASTARR\\_I\\\\\n",
       "\t chr1 & 28903 & 29613 & chr1:28903-29613 & ASTARR & ASTARR\\_I\\\\\n",
       "\t chr1 & 30803 & 31072 & chr1:30803-31072 & ASTARR & ASTARR\\_I\\\\\n",
       "\\end{tabular}\n"
      ],
      "text/markdown": [
       "\n",
       "A tibble: 6 × 6\n",
       "\n",
       "| Chrom &lt;chr&gt; | Start &lt;dbl&gt; | End &lt;dbl&gt; | Peak &lt;chr&gt; | Assay_Type &lt;chr&gt; | Assay_Label &lt;chr&gt; |\n",
       "|---|---|---|---|---|---|\n",
       "| chr1 | 10015 | 10442 | chr1:10015-10442 | ASTARR | ASTARR_I |\n",
       "| chr1 | 14253 | 14645 | chr1:14253-14645 | ASTARR | ASTARR_I |\n",
       "| chr1 | 16015 | 16477 | chr1:16015-16477 | ASTARR | ASTARR_I |\n",
       "| chr1 | 17237 | 17772 | chr1:17237-17772 | ASTARR | ASTARR_I |\n",
       "| chr1 | 28903 | 29613 | chr1:28903-29613 | ASTARR | ASTARR_I |\n",
       "| chr1 | 30803 | 31072 | chr1:30803-31072 | ASTARR | ASTARR_I |\n",
       "\n"
      ],
      "text/plain": [
       "  Chrom Start End   Peak             Assay_Type Assay_Label\n",
       "1 chr1  10015 10442 chr1:10015-10442 ASTARR     ASTARR_I   \n",
       "2 chr1  14253 14645 chr1:14253-14645 ASTARR     ASTARR_I   \n",
       "3 chr1  16015 16477 chr1:16015-16477 ASTARR     ASTARR_I   \n",
       "4 chr1  17237 17772 chr1:17237-17772 ASTARR     ASTARR_I   \n",
       "5 chr1  28903 29613 chr1:28903-29613 ASTARR     ASTARR_I   \n",
       "6 chr1  30803 31072 chr1:30803-31072 ASTARR     ASTARR_I   "
      ]
     },
     "metadata": {},
     "output_type": "display_data"
    }
   ],
   "source": [
    "fdiry = file.path(FD_RES, \"results\", \"region\", \"KS91_K562_ASTARRseq_peak_macs_input\", \"summary\")\n",
    "fname = \"peak.screened.fcc.inactive.tsv\"\n",
    "fpath = file.path(fdiry, fname)\n",
    "\n",
    "dat = read_tsv(fpath, show_col_types=FALSE)\n",
    "\n",
    "dat_peak_atac_fcc_inactive = dat\n",
    "print(dim(dat))\n",
    "head(dat)"
   ]
  },
  {
   "cell_type": "code",
   "execution_count": null,
   "id": "3525db00-1ef6-4e6c-8677-334100bae68f",
   "metadata": {},
   "outputs": [],
   "source": []
  },
  {
   "cell_type": "code",
   "execution_count": null,
   "id": "9a299a8a-4e2d-4241-a004-a4b3929da693",
   "metadata": {},
   "outputs": [],
   "source": []
  },
  {
   "cell_type": "code",
   "execution_count": null,
   "id": "e3673474-e1cc-4d77-af00-d6e3f919c780",
   "metadata": {},
   "outputs": [],
   "source": []
  },
  {
   "cell_type": "code",
   "execution_count": null,
   "id": "46da4515-84ef-4ba5-987c-d7d27d4a3b7f",
   "metadata": {},
   "outputs": [],
   "source": []
  },
  {
   "cell_type": "code",
   "execution_count": 10,
   "id": "e6399875-a584-40f8-83af-78ee08a8c7f0",
   "metadata": {},
   "outputs": [],
   "source": [
    "###\n",
    "dat = dat_peak_atac_fcc_total\n",
    "lst = split(dat, dat$Assay_Type)\n",
    "\n",
    "dat_peak_total_crispri_hcrff  = lst[[\"CRISPRi-HCRFF\"]]\n",
    "dat_peak_total_crispri_growth = lst[[\"CRISPRi-Growth\"]]\n",
    "\n",
    "###\n",
    "dat = dat_peak_atac_fcc_active\n",
    "lst = split(dat, dat$Assay_Type)\n",
    "\n",
    "dat_peak_active_crispri_hcrff  = lst[[\"CRISPRi-HCRFF\"]]\n",
    "dat_peak_active_crispri_growth = lst[[\"CRISPRi-Growth\"]]\n",
    "\n",
    "###\n",
    "dat = dat_peak_atac_fcc_inactive\n",
    "lst = split(dat, dat$Assay_Type)\n",
    "\n",
    "dat_peak_inactive_crispri_hcrff  = lst[[\"CRISPRi-HCRFF\"]]\n",
    "dat_peak_inactive_crispri_growth = lst[[\"CRISPRi-Growth\"]]\n",
    "\n",
    "###\n",
    "dat = bind_rows(\n",
    "    dat_peak_active_crispri_hcrff,\n",
    "    dat_peak_inactive_crispri_hcrff\n",
    ")\n",
    "\n",
    "dat = dat %>% \n",
    "    dplyr::select(Peak, Assay_Label) %>% \n",
    "    dplyr::rename(\"CRISPRi_Label\" = \"Assay_Label\")\n",
    "\n",
    "dat_peak_label_crispri_hcrff = dat\n",
    "\n",
    "###\n",
    "dat = bind_rows(\n",
    "    dat_peak_active_crispri_growth,\n",
    "    dat_peak_inactive_crispri_growth\n",
    ")\n",
    "\n",
    "dat = dat %>% \n",
    "    dplyr::select(Peak, Assay_Label) %>% \n",
    "    dplyr::rename(\"CRISPRi_Label\" = \"Assay_Label\")\n",
    "\n",
    "dat_peak_label_crispri_growth = dat"
   ]
  },
  {
   "cell_type": "code",
   "execution_count": 13,
   "id": "f58a1b6e-a27a-4a29-961a-56b21c2590d3",
   "metadata": {},
   "outputs": [],
   "source": [
    "fun_auroc = function(vec_boo_actual, vec_num_score) {\n",
    "    ###\n",
    "    idx = order(vec_num_score)\n",
    "    vec = vec_boo_actual[idx]\n",
    "    \n",
    "    ###\n",
    "    vec_num_sens = (sum(vec) - cumsum(vec))/sum(vec)\n",
    "    vec_num_spec = cumsum(!vec)/sum(!vec)\n",
    "    \n",
    "    ###\n",
    "    num_width = diff(c(0, 1 - vec_num_sens))\n",
    "    num_auc   = sum(vec_num_spec * num_width)\n",
    "\n",
    "    ### \n",
    "    lst = list(\n",
    "        \"Specificity\" = vec_num_spec,\n",
    "        \"Sensitivity\" = vec_num_sens,\n",
    "        \"AUROC\"       = num_auc\n",
    "    )\n",
    "    return(lst)\n",
    "}"
   ]
  },
  {
   "cell_type": "code",
   "execution_count": 29,
   "id": "73e80de9-a8a1-480a-9815-284a82699f50",
   "metadata": {},
   "outputs": [
    {
     "name": "stdout",
     "output_type": "stream",
     "text": [
      "[1] 1326    8\n"
     ]
    },
    {
     "data": {
      "text/html": [
       "<table class=\"dataframe\">\n",
       "<caption>A tibble: 6 × 8</caption>\n",
       "<thead>\n",
       "\t<tr><th scope=col>Chrom</th><th scope=col>Start</th><th scope=col>End</th><th scope=col>Peak</th><th scope=col>Score</th><th scope=col>Assay_Type</th><th scope=col>Assay_Label</th><th scope=col>CRISPRi_Label</th></tr>\n",
       "\t<tr><th scope=col>&lt;chr&gt;</th><th scope=col>&lt;dbl&gt;</th><th scope=col>&lt;dbl&gt;</th><th scope=col>&lt;chr&gt;</th><th scope=col>&lt;dbl&gt;</th><th scope=col>&lt;chr&gt;</th><th scope=col>&lt;chr&gt;</th><th scope=col>&lt;chr&gt;</th></tr>\n",
       "</thead>\n",
       "<tbody>\n",
       "\t<tr><td>chr11</td><td>33065336</td><td>33066228</td><td>chr11:33065336-33066228</td><td>-0.1836735</td><td>WSTARR</td><td>WSTARR_T</td><td>CRISPRi-HCRFF_I</td></tr>\n",
       "\t<tr><td>chr11</td><td>33068519</td><td>33069100</td><td>chr11:33068519-33069100</td><td> 0.3259012</td><td>WSTARR</td><td>WSTARR_T</td><td>CRISPRi-HCRFF_I</td></tr>\n",
       "\t<tr><td>chr11</td><td>33072412</td><td>33072630</td><td>chr11:33072412-33072630</td><td>-0.1338946</td><td>WSTARR</td><td>WSTARR_T</td><td>CRISPRi-HCRFF_I</td></tr>\n",
       "\t<tr><td>chr11</td><td>33103533</td><td>33104120</td><td>chr11:33103533-33104120</td><td>-0.4930123</td><td>WSTARR</td><td>WSTARR_T</td><td>CRISPRi-HCRFF_I</td></tr>\n",
       "\t<tr><td>chr11</td><td>33114629</td><td>33115134</td><td>chr11:33114629-33115134</td><td>-0.2409942</td><td>WSTARR</td><td>WSTARR_T</td><td>CRISPRi-HCRFF_I</td></tr>\n",
       "\t<tr><td>chr11</td><td>33125296</td><td>33126416</td><td>chr11:33125296-33126416</td><td> 0.1596538</td><td>WSTARR</td><td>WSTARR_T</td><td>CRISPRi-HCRFF_I</td></tr>\n",
       "</tbody>\n",
       "</table>\n"
      ],
      "text/latex": [
       "A tibble: 6 × 8\n",
       "\\begin{tabular}{llllllll}\n",
       " Chrom & Start & End & Peak & Score & Assay\\_Type & Assay\\_Label & CRISPRi\\_Label\\\\\n",
       " <chr> & <dbl> & <dbl> & <chr> & <dbl> & <chr> & <chr> & <chr>\\\\\n",
       "\\hline\n",
       "\t chr11 & 33065336 & 33066228 & chr11:33065336-33066228 & -0.1836735 & WSTARR & WSTARR\\_T & CRISPRi-HCRFF\\_I\\\\\n",
       "\t chr11 & 33068519 & 33069100 & chr11:33068519-33069100 &  0.3259012 & WSTARR & WSTARR\\_T & CRISPRi-HCRFF\\_I\\\\\n",
       "\t chr11 & 33072412 & 33072630 & chr11:33072412-33072630 & -0.1338946 & WSTARR & WSTARR\\_T & CRISPRi-HCRFF\\_I\\\\\n",
       "\t chr11 & 33103533 & 33104120 & chr11:33103533-33104120 & -0.4930123 & WSTARR & WSTARR\\_T & CRISPRi-HCRFF\\_I\\\\\n",
       "\t chr11 & 33114629 & 33115134 & chr11:33114629-33115134 & -0.2409942 & WSTARR & WSTARR\\_T & CRISPRi-HCRFF\\_I\\\\\n",
       "\t chr11 & 33125296 & 33126416 & chr11:33125296-33126416 &  0.1596538 & WSTARR & WSTARR\\_T & CRISPRi-HCRFF\\_I\\\\\n",
       "\\end{tabular}\n"
      ],
      "text/markdown": [
       "\n",
       "A tibble: 6 × 8\n",
       "\n",
       "| Chrom &lt;chr&gt; | Start &lt;dbl&gt; | End &lt;dbl&gt; | Peak &lt;chr&gt; | Score &lt;dbl&gt; | Assay_Type &lt;chr&gt; | Assay_Label &lt;chr&gt; | CRISPRi_Label &lt;chr&gt; |\n",
       "|---|---|---|---|---|---|---|---|\n",
       "| chr11 | 33065336 | 33066228 | chr11:33065336-33066228 | -0.1836735 | WSTARR | WSTARR_T | CRISPRi-HCRFF_I |\n",
       "| chr11 | 33068519 | 33069100 | chr11:33068519-33069100 |  0.3259012 | WSTARR | WSTARR_T | CRISPRi-HCRFF_I |\n",
       "| chr11 | 33072412 | 33072630 | chr11:33072412-33072630 | -0.1338946 | WSTARR | WSTARR_T | CRISPRi-HCRFF_I |\n",
       "| chr11 | 33103533 | 33104120 | chr11:33103533-33104120 | -0.4930123 | WSTARR | WSTARR_T | CRISPRi-HCRFF_I |\n",
       "| chr11 | 33114629 | 33115134 | chr11:33114629-33115134 | -0.2409942 | WSTARR | WSTARR_T | CRISPRi-HCRFF_I |\n",
       "| chr11 | 33125296 | 33126416 | chr11:33125296-33126416 |  0.1596538 | WSTARR | WSTARR_T | CRISPRi-HCRFF_I |\n",
       "\n"
      ],
      "text/plain": [
       "  Chrom Start    End      Peak                    Score      Assay_Type\n",
       "1 chr11 33065336 33066228 chr11:33065336-33066228 -0.1836735 WSTARR    \n",
       "2 chr11 33068519 33069100 chr11:33068519-33069100  0.3259012 WSTARR    \n",
       "3 chr11 33072412 33072630 chr11:33072412-33072630 -0.1338946 WSTARR    \n",
       "4 chr11 33103533 33104120 chr11:33103533-33104120 -0.4930123 WSTARR    \n",
       "5 chr11 33114629 33115134 chr11:33114629-33115134 -0.2409942 WSTARR    \n",
       "6 chr11 33125296 33126416 chr11:33125296-33126416  0.1596538 WSTARR    \n",
       "  Assay_Label CRISPRi_Label  \n",
       "1 WSTARR_T    CRISPRi-HCRFF_I\n",
       "2 WSTARR_T    CRISPRi-HCRFF_I\n",
       "3 WSTARR_T    CRISPRi-HCRFF_I\n",
       "4 WSTARR_T    CRISPRi-HCRFF_I\n",
       "5 WSTARR_T    CRISPRi-HCRFF_I\n",
       "6 WSTARR_T    CRISPRi-HCRFF_I"
      ]
     },
     "metadata": {},
     "output_type": "display_data"
    }
   ],
   "source": [
    "dat = dat_peak_atac_fcc_total\n",
    "lst = split(dat, dat$Assay_Type)\n",
    "\n",
    "txt = \"WSTARR\"\n",
    "dat = lst[[txt]]\n",
    "dat = dat %>% dplyr::right_join(dat_peak_label_crispri_hcrff, by=\"Peak\")\n",
    "\n",
    "dat_score = dat\n",
    "print(dim(dat))\n",
    "head(dat)"
   ]
  },
  {
   "cell_type": "code",
   "execution_count": 30,
   "id": "e64d3498-97f9-479c-97a5-46b8da9ba7ea",
   "metadata": {},
   "outputs": [
    {
     "data": {
      "image/png": "[encoded data removed]",
      "text/plain": [
       "plot without title"
      ]
     },
     "metadata": {
      "image/png": {
       "height": 420,
       "width": 420
      }
     },
     "output_type": "display_data"
    }
   ],
   "source": [
    "dat = dat_score\n",
    "vec_boo_actual = (dat$CRISPRi_Label == \"CRISPRi-HCRFF_A\")\n",
    "vec_num_score  = dat$Score\n",
    "\n",
    "lst = fun_auroc(vec_boo_actual, vec_num_score)\n",
    "vec_num_spec = lst[[\"Specificity\"]]\n",
    "vec_num_sens = lst[[\"Sensitivity\"]]\n",
    "num_auroc    = lst[[\"AUROC\"]]\n",
    "\n",
    "txt = paste(\"AUROC:\", round(num_auroc, 2))\n",
    "dat = data.frame(\n",
    "    \"x\" = 1 - lst[[\"Specificity\"]],\n",
    "    \"y\" = lst[[\"Sensitivity\"]]\n",
    ")\n",
    "dat = dat %>% dplyr::arrange(x, y)\n",
    "gpt = ggplot(dat, aes(x=x, y=y)) +\n",
    "    geom_line() +\n",
    "    geom_point() +\n",
    "    labs(x = \"1 - Specificity\", y = \"Sensitivity\", title = txt)\n",
    "print(gpt)"
   ]
  },
  {
   "cell_type": "code",
   "execution_count": 31,
   "id": "b4f1e14b-1c2c-4923-9585-7ba8beff62ce",
   "metadata": {},
   "outputs": [
    {
     "data": {
      "image/png": "[encoded data removed]",
      "text/plain": [
       "plot without title"
      ]
     },
     "metadata": {
      "image/png": {
       "height": 420,
       "width": 420
      }
     },
     "output_type": "display_data"
    }
   ],
   "source": [
    "dat = dat_score\n",
    "txt = \"CRISPRi-HCRFF\"\n",
    "vec = paste(txt, c(\"I\", \"A\"), sep=\"_\")\n",
    "dat = dat %>% dplyr::mutate(CRISPRi_Label = factor(CRISPRi_Label, levels = vec))\n",
    "\n",
    "fit = glm(CRISPRi_Label ~ Score, data = dat, family = \"binomial\")\n",
    "\n",
    "vec_boo_actual = (dat$CRISPRi_Label == \"CRISPRi-HCRFF_A\")\n",
    "vec_num_score = predict(fit, type = \"response\")\n",
    "#vec_num_score  = dat$Score\n",
    "\n",
    "lst = fun_auroc(vec_boo_actual, vec_num_score)\n",
    "vec_num_spec = lst[[\"Specificity\"]]\n",
    "vec_num_sens = lst[[\"Sensitivity\"]]\n",
    "num_auroc    = lst[[\"AUROC\"]]\n",
    "\n",
    "txt = paste(\"AUROC:\", round(num_auroc, 2))\n",
    "dat = data.frame(\n",
    "    \"x\" = 1 - lst[[\"Specificity\"]],\n",
    "    \"y\" = lst[[\"Sensitivity\"]]\n",
    ")\n",
    "dat = dat %>% dplyr::arrange(x, y)\n",
    "gpt = ggplot(dat, aes(x=x, y=y)) +\n",
    "    geom_line() +\n",
    "    geom_point() +\n",
    "    labs(x = \"1 - Specificity\", y = \"Sensitivity\", title = txt)\n",
    "print(gpt)"
   ]
  },
  {
   "cell_type": "code",
   "execution_count": 65,
   "id": "2d603df1-6609-4bf4-aaf3-54f3f31b5ced",
   "metadata": {},
   "outputs": [
    {
     "data": {
      "image/png": "[encoded data removed]",
      "text/plain": [
       "plot without title"
      ]
     },
     "metadata": {
      "image/png": {
       "height": 300,
       "width": 420
      }
     },
     "output_type": "display_data"
    }
   ],
   "source": [
    "dat = dat_peak_atac_fcc_total\n",
    "\n",
    "lst = split(dat, dat$Assay_Type)\n",
    "vec = c(\"ASTARR\", \"WSTARR\", \"TMPRA\", \"LMPRA\")\n",
    "lst = lst[vec]\n",
    "\n",
    "lst = lapply(lst, function(dat){\n",
    "    \n",
    "    txt = \"CRISPRi-HCRFF\"\n",
    "    vec = paste(txt, c(\"I\", \"A\"), sep=\"_\")\n",
    "    dat = dat %>% \n",
    "        dplyr::inner_join(dat_peak_label_crispri_hcrff, by=\"Peak\") %>%     \n",
    "        dplyr::mutate(CRISPRi_Label = factor(CRISPRi_Label, levels = vec))\n",
    "    \n",
    "    fit = glm(CRISPRi_Label ~ Score, data = dat, family = \"binomial\")\n",
    "    vec_boo_actual = (dat$CRISPRi_Label == \"CRISPRi-HCRFF_A\")\n",
    "    vec_num_score = predict(fit, type = \"response\")\n",
    "\n",
    "    lst = fun_auroc(vec_boo_actual, vec_num_score)\n",
    "    vec_num_spec = lst[[\"Specificity\"]]\n",
    "    vec_num_sens = lst[[\"Sensitivity\"]]\n",
    "    num_auroc    = lst[[\"AUROC\"]]\n",
    "    txt_assay    = unique(dat$Assay_Type)\n",
    "\n",
    "    txt_title = paste0(\"(\", round(num_auroc, 2), \")\")\n",
    "    txt_title = paste(txt_assay, txt_title)\n",
    "    \n",
    "    dat = data.frame(\n",
    "        \"x\" = 1 - lst[[\"Specificity\"]],\n",
    "        \"y\" = lst[[\"Sensitivity\"]],\n",
    "        \"Assay\" = txt_assay,\n",
    "        \"AUROC\" = num_auroc,\n",
    "        \"Title\" = txt_title\n",
    "    )\n",
    "    dat = dat %>% dplyr::arrange(x, y)\n",
    "    return(dat)\n",
    "})\n",
    "\n",
    "\n",
    "dat = bind_rows(lst)\n",
    "gpt = ggplot(dat, aes(x=x, y=y, group=Assay, color=Title)) +\n",
    "    geom_line() +\n",
    "    #geom_point() +\n",
    "    labs(x = \"1 - Specificity\", y = \"Sensitivity\") +\n",
    "    theme_cowplot()\n",
    "\n",
    "options(repr.plot.width=7, repr.plot.height=5)\n",
    "print(gpt)"
   ]
  },
  {
   "cell_type": "code",
   "execution_count": null,
   "id": "331c263b-6ff7-450f-add6-dad80d9d1b98",
   "metadata": {},
   "outputs": [],
   "source": []
  },
  {
   "cell_type": "code",
   "execution_count": null,
   "id": "bbb13e62-ad7d-41d9-884a-e9192fb8cf8f",
   "metadata": {},
   "outputs": [],
   "source": []
  },
  {
   "cell_type": "code",
   "execution_count": null,
   "id": "6873eaac-e980-4aa5-91f0-bff57e3b7cba",
   "metadata": {},
   "outputs": [],
   "source": []
  },
  {
   "cell_type": "code",
   "execution_count": 22,
   "id": "c42a722d-1e6d-4659-94b4-31b1f27cb865",
   "metadata": {},
   "outputs": [
    {
     "data": {
      "text/html": [
       "<table class=\"dataframe\">\n",
       "<caption>A tibble: 6 × 8</caption>\n",
       "<thead>\n",
       "\t<tr><th scope=col>Chrom</th><th scope=col>Start</th><th scope=col>End</th><th scope=col>Peak</th><th scope=col>Score</th><th scope=col>Assay_Type</th><th scope=col>Assay_Label</th><th scope=col>CRISPRi_Label</th></tr>\n",
       "\t<tr><th scope=col>&lt;chr&gt;</th><th scope=col>&lt;dbl&gt;</th><th scope=col>&lt;dbl&gt;</th><th scope=col>&lt;chr&gt;</th><th scope=col>&lt;dbl&gt;</th><th scope=col>&lt;chr&gt;</th><th scope=col>&lt;chr&gt;</th><th scope=col>&lt;chr&gt;</th></tr>\n",
       "</thead>\n",
       "<tbody>\n",
       "\t<tr><td>chr11</td><td>33065336</td><td>33066228</td><td>chr11:33065336-33066228</td><td>-0.8320223</td><td>ASTARR</td><td>ASTARR_T</td><td>CRISPRi-HCRFF_I</td></tr>\n",
       "\t<tr><td>chr11</td><td>33068519</td><td>33069100</td><td>chr11:33068519-33069100</td><td>-0.2393418</td><td>ASTARR</td><td>ASTARR_T</td><td>CRISPRi-HCRFF_I</td></tr>\n",
       "\t<tr><td>chr11</td><td>33072412</td><td>33072630</td><td>chr11:33072412-33072630</td><td>-0.9603731</td><td>ASTARR</td><td>ASTARR_T</td><td>CRISPRi-HCRFF_I</td></tr>\n",
       "\t<tr><td>chr11</td><td>33103533</td><td>33104120</td><td>chr11:33103533-33104120</td><td>-0.3136428</td><td>ASTARR</td><td>ASTARR_T</td><td>CRISPRi-HCRFF_I</td></tr>\n",
       "\t<tr><td>chr11</td><td>33114629</td><td>33115134</td><td>chr11:33114629-33115134</td><td>-0.3772960</td><td>ASTARR</td><td>ASTARR_T</td><td>CRISPRi-HCRFF_I</td></tr>\n",
       "\t<tr><td>chr11</td><td>33125296</td><td>33126416</td><td>chr11:33125296-33126416</td><td> 0.2643755</td><td>ASTARR</td><td>ASTARR_T</td><td>CRISPRi-HCRFF_I</td></tr>\n",
       "</tbody>\n",
       "</table>\n"
      ],
      "text/latex": [
       "A tibble: 6 × 8\n",
       "\\begin{tabular}{llllllll}\n",
       " Chrom & Start & End & Peak & Score & Assay\\_Type & Assay\\_Label & CRISPRi\\_Label\\\\\n",
       " <chr> & <dbl> & <dbl> & <chr> & <dbl> & <chr> & <chr> & <chr>\\\\\n",
       "\\hline\n",
       "\t chr11 & 33065336 & 33066228 & chr11:33065336-33066228 & -0.8320223 & ASTARR & ASTARR\\_T & CRISPRi-HCRFF\\_I\\\\\n",
       "\t chr11 & 33068519 & 33069100 & chr11:33068519-33069100 & -0.2393418 & ASTARR & ASTARR\\_T & CRISPRi-HCRFF\\_I\\\\\n",
       "\t chr11 & 33072412 & 33072630 & chr11:33072412-33072630 & -0.9603731 & ASTARR & ASTARR\\_T & CRISPRi-HCRFF\\_I\\\\\n",
       "\t chr11 & 33103533 & 33104120 & chr11:33103533-33104120 & -0.3136428 & ASTARR & ASTARR\\_T & CRISPRi-HCRFF\\_I\\\\\n",
       "\t chr11 & 33114629 & 33115134 & chr11:33114629-33115134 & -0.3772960 & ASTARR & ASTARR\\_T & CRISPRi-HCRFF\\_I\\\\\n",
       "\t chr11 & 33125296 & 33126416 & chr11:33125296-33126416 &  0.2643755 & ASTARR & ASTARR\\_T & CRISPRi-HCRFF\\_I\\\\\n",
       "\\end{tabular}\n"
      ],
      "text/markdown": [
       "\n",
       "A tibble: 6 × 8\n",
       "\n",
       "| Chrom &lt;chr&gt; | Start &lt;dbl&gt; | End &lt;dbl&gt; | Peak &lt;chr&gt; | Score &lt;dbl&gt; | Assay_Type &lt;chr&gt; | Assay_Label &lt;chr&gt; | CRISPRi_Label &lt;chr&gt; |\n",
       "|---|---|---|---|---|---|---|---|\n",
       "| chr11 | 33065336 | 33066228 | chr11:33065336-33066228 | -0.8320223 | ASTARR | ASTARR_T | CRISPRi-HCRFF_I |\n",
       "| chr11 | 33068519 | 33069100 | chr11:33068519-33069100 | -0.2393418 | ASTARR | ASTARR_T | CRISPRi-HCRFF_I |\n",
       "| chr11 | 33072412 | 33072630 | chr11:33072412-33072630 | -0.9603731 | ASTARR | ASTARR_T | CRISPRi-HCRFF_I |\n",
       "| chr11 | 33103533 | 33104120 | chr11:33103533-33104120 | -0.3136428 | ASTARR | ASTARR_T | CRISPRi-HCRFF_I |\n",
       "| chr11 | 33114629 | 33115134 | chr11:33114629-33115134 | -0.3772960 | ASTARR | ASTARR_T | CRISPRi-HCRFF_I |\n",
       "| chr11 | 33125296 | 33126416 | chr11:33125296-33126416 |  0.2643755 | ASTARR | ASTARR_T | CRISPRi-HCRFF_I |\n",
       "\n"
      ],
      "text/plain": [
       "  Chrom Start    End      Peak                    Score      Assay_Type\n",
       "1 chr11 33065336 33066228 chr11:33065336-33066228 -0.8320223 ASTARR    \n",
       "2 chr11 33068519 33069100 chr11:33068519-33069100 -0.2393418 ASTARR    \n",
       "3 chr11 33072412 33072630 chr11:33072412-33072630 -0.9603731 ASTARR    \n",
       "4 chr11 33103533 33104120 chr11:33103533-33104120 -0.3136428 ASTARR    \n",
       "5 chr11 33114629 33115134 chr11:33114629-33115134 -0.3772960 ASTARR    \n",
       "6 chr11 33125296 33126416 chr11:33125296-33126416  0.2643755 ASTARR    \n",
       "  Assay_Label CRISPRi_Label  \n",
       "1 ASTARR_T    CRISPRi-HCRFF_I\n",
       "2 ASTARR_T    CRISPRi-HCRFF_I\n",
       "3 ASTARR_T    CRISPRi-HCRFF_I\n",
       "4 ASTARR_T    CRISPRi-HCRFF_I\n",
       "5 ASTARR_T    CRISPRi-HCRFF_I\n",
       "6 ASTARR_T    CRISPRi-HCRFF_I"
      ]
     },
     "metadata": {},
     "output_type": "display_data"
    }
   ],
   "source": [
    "dat = dat_peak_atac_fcc_total\n",
    "lst = split(dat, dat$Assay_Type)\n",
    "\n",
    "txt = \"ASTARR\"\n",
    "dat = lst[[txt]]\n",
    "dat = dat %>% dplyr::right_join(dat_peak_label_crispri_hcrff, by=\"Peak\")\n",
    "\n",
    "head(dat)"
   ]
  },
  {
   "cell_type": "code",
   "execution_count": 27,
   "id": "10b2a857-91b0-4ec7-be18-446c9bd5015a",
   "metadata": {},
   "outputs": [
    {
     "data": {
      "image/png": "[encoded data removed]",
      "text/plain": [
       "plot without title"
      ]
     },
     "metadata": {
      "image/png": {
       "height": 420,
       "width": 420
      }
     },
     "output_type": "display_data"
    }
   ],
   "source": [
    "gpt = ggplot(dat, aes(x=CRISPRi_Label, y=Score)) + geom_boxplot() + theme_cowplot()\n",
    "print(gpt)"
   ]
  },
  {
   "cell_type": "code",
   "execution_count": 25,
   "id": "b74fc330-9a58-494f-a5d0-72152d4374f9",
   "metadata": {},
   "outputs": [
    {
     "name": "stderr",
     "output_type": "stream",
     "text": [
      "\u001b[1m\u001b[22m`stat_bin()` using `bins = 30`. Pick better value with `binwidth`.\n"
     ]
    },
    {
     "data": {
      "image/png": "[encoded data removed]",
      "text/plain": [
       "plot without title"
      ]
     },
     "metadata": {
      "image/png": {
       "height": 420,
       "width": 420
      }
     },
     "output_type": "display_data"
    }
   ],
   "source": [
    "gpt = ggplot(dat, aes(x=Score, fill=CRISPRi_Label)) + geom_histogram() + theme_cowplot()\n",
    "print(gpt)"
   ]
  },
  {
   "cell_type": "code",
   "execution_count": null,
   "id": "82a10871-3db6-47c1-8969-ccf33f91429b",
   "metadata": {},
   "outputs": [],
   "source": []
  }
 ],
 "metadata": {
  "kernelspec": {
   "display_name": "R",
   "language": "R",
   "name": "ir"
  },
  "language_info": {
   "codemirror_mode": "r",
   "file_extension": ".r",
   "mimetype": "text/x-r-source",
   "name": "R",
   "pygments_lexer": "r",
   "version": "4.3.1"
  }
 },
 "nbformat": 4,
 "nbformat_minor": 5
}
