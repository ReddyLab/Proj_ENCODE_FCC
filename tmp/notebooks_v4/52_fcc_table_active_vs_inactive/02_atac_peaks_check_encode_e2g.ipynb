{
 "cells": [
  {
   "cell_type": "markdown",
   "id": "e89a0eba-7022-4c25-89d8-bf0e42f25486",
   "metadata": {},
   "source": [
    "**Set environment**"
   ]
  },
  {
   "cell_type": "code",
   "execution_count": 1,
   "id": "caadd7ef-40d5-4665-89fb-71a9b16a993b",
   "metadata": {},
   "outputs": [
    {
     "name": "stdout",
     "output_type": "stream",
     "text": [
      "You are in Singularity: singularity_proj_encode_fcc \n",
      "BASE DIRECTORY (FD_BASE): /data/reddylab/Kuei \n",
      "WORK DIRECTORY (FD_WORK): /data/reddylab/Kuei/out \n",
      "CODE DIRECTORY (FD_CODE): /data/reddylab/Kuei/code \n",
      "PATH OF PROJECT (FD_PRJ): /data/reddylab/Kuei/code/Proj_CombEffect_ENCODE_FCC \n",
      "PATH OF RESULTS (FD_RES): /data/reddylab/Kuei/out/proj_combeffect_encode_fcc \n",
      "PATH OF LOG     (FD_LOG): /data/reddylab/Kuei/out/proj_combeffect_encode_fcc/log \n"
     ]
    }
   ],
   "source": [
    "suppressMessages(suppressWarnings(source(\"../config/config_sing.R\")))\n",
    "suppressMessages(suppressWarnings(source(\"../config/config_func.R\")))\n",
    "show_env()"
   ]
  },
  {
   "cell_type": "markdown",
   "id": "d87a8810-41a7-4e47-b2dd-7ffd57206451",
   "metadata": {},
   "source": [
    "## Get ATAC Peaks screened by ENCODE-E2G benchmark"
   ]
  },
  {
   "cell_type": "markdown",
   "id": "ba0a1b24-ab7b-442c-ae71-817c98e38aab",
   "metadata": {},
   "source": [
    "**Check data files**"
   ]
  },
  {
   "cell_type": "code",
   "execution_count": 2,
   "id": "7b46f0b6-6730-41ed-b9c2-68af186cfe0e",
   "metadata": {},
   "outputs": [
    {
     "name": "stdout",
     "output_type": "stream",
     "text": [
      "[1] \"peak.annotation.K562.EPCrisprBenchmark.active.bed.gz\"\n",
      "[1] \"peak.annotation.K562.EPCrisprBenchmark.active.merge.bed.gz\"\n",
      "[1] \"peak.annotation.K562.EPCrisprBenchmark.total.bed.gz\"\n",
      "[1] \"peak.annotation.K562.EPCrisprBenchmark.total.merge.bed.gz\"\n",
      "[1] \"peak.intersect.inverse.K562.EPCrisprBenchmark.active.merge.bed.gz\"\n"
     ]
    }
   ],
   "source": [
    "FOLDER = \"annotation_encode_e2g_benchmark\"\n",
    "fdiry  = file.path(\n",
    "    FD_RES, \n",
    "    \"results\",\n",
    "    \"region\",\n",
    "    \"KS91_K562_ASTARRseq_peak_macs_input\",\n",
    "    FOLDER\n",
    ")\n",
    "for(fname in dir(fdiry)){print(fname)}"
   ]
  },
  {
   "cell_type": "markdown",
   "id": "aa1ee18c-4873-48f8-8eba-24e6f8cedd78",
   "metadata": {},
   "source": [
    "**Import data**"
   ]
  },
  {
   "cell_type": "code",
   "execution_count": 3,
   "id": "05a1e743-44f7-46fc-982f-8da8e215f932",
   "metadata": {},
   "outputs": [
    {
     "name": "stdout",
     "output_type": "stream",
     "text": [
      "[1] 3195   10\n"
     ]
    },
    {
     "data": {
      "text/html": [
       "<div style=\"border: 1px solid #ddd; padding: 5px; overflow-x: scroll; width:100%; \"><table class=\"table table-striped\" style=\"margin-left: auto; margin-right: auto;\">\n",
       " <thead>\n",
       "  <tr>\n",
       "   <th style=\"text-align:left;\"> Chrom_ATAC </th>\n",
       "   <th style=\"text-align:right;\"> Start_ATAC </th>\n",
       "   <th style=\"text-align:right;\"> End_ATAC </th>\n",
       "   <th style=\"text-align:left;\"> Chrom </th>\n",
       "   <th style=\"text-align:right;\"> Start </th>\n",
       "   <th style=\"text-align:right;\"> End </th>\n",
       "   <th style=\"text-align:left;\"> Assay_Type </th>\n",
       "   <th style=\"text-align:left;\"> Assay_Label </th>\n",
       "   <th style=\"text-align:right;\"> Overlap </th>\n",
       "   <th style=\"text-align:left;\"> Peak </th>\n",
       "  </tr>\n",
       " </thead>\n",
       "<tbody>\n",
       "  <tr>\n",
       "   <td style=\"text-align:left;\"> chr1 </td>\n",
       "   <td style=\"text-align:right;\"> 3773953 </td>\n",
       "   <td style=\"text-align:right;\"> 3776305 </td>\n",
       "   <td style=\"text-align:left;\"> chr1 </td>\n",
       "   <td style=\"text-align:right;\"> 3774714 </td>\n",
       "   <td style=\"text-align:right;\"> 3775214 </td>\n",
       "   <td style=\"text-align:left;\"> ENCODE-E2G_Benchmark </td>\n",
       "   <td style=\"text-align:left;\"> ENCODE-E2G_Benchmark:CEP104,ENCODE-E2G_Benchmark:LRRC47,ENCODE-E2G_Benchmark:SMIM1 </td>\n",
       "   <td style=\"text-align:right;\"> 500 </td>\n",
       "   <td style=\"text-align:left;\"> chr1:3773953-3776305 </td>\n",
       "  </tr>\n",
       "  <tr>\n",
       "   <td style=\"text-align:left;\"> chr1 </td>\n",
       "   <td style=\"text-align:right;\"> 3803939 </td>\n",
       "   <td style=\"text-align:right;\"> 3806560 </td>\n",
       "   <td style=\"text-align:left;\"> chr1 </td>\n",
       "   <td style=\"text-align:right;\"> 3803570 </td>\n",
       "   <td style=\"text-align:right;\"> 3805848 </td>\n",
       "   <td style=\"text-align:left;\"> ENCODE-E2G_Benchmark </td>\n",
       "   <td style=\"text-align:left;\"> ENCODE-E2G_Benchmark:LRRC47,ENCODE-E2G_Benchmark:SMIM1 </td>\n",
       "   <td style=\"text-align:right;\"> 1909 </td>\n",
       "   <td style=\"text-align:left;\"> chr1:3803939-3806560 </td>\n",
       "  </tr>\n",
       "  <tr>\n",
       "   <td style=\"text-align:left;\"> chr1 </td>\n",
       "   <td style=\"text-align:right;\"> 4126790 </td>\n",
       "   <td style=\"text-align:right;\"> 4128217 </td>\n",
       "   <td style=\"text-align:left;\"> chr1 </td>\n",
       "   <td style=\"text-align:right;\"> 4126791 </td>\n",
       "   <td style=\"text-align:right;\"> 4127291 </td>\n",
       "   <td style=\"text-align:left;\"> ENCODE-E2G_Benchmark </td>\n",
       "   <td style=\"text-align:left;\"> ENCODE-E2G_Benchmark:SMIM1 </td>\n",
       "   <td style=\"text-align:right;\"> 500 </td>\n",
       "   <td style=\"text-align:left;\"> chr1:4126790-4128217 </td>\n",
       "  </tr>\n",
       "  <tr>\n",
       "   <td style=\"text-align:left;\"> chr1 </td>\n",
       "   <td style=\"text-align:right;\"> 5304675 </td>\n",
       "   <td style=\"text-align:right;\"> 5305858 </td>\n",
       "   <td style=\"text-align:left;\"> chr1 </td>\n",
       "   <td style=\"text-align:right;\"> 5304578 </td>\n",
       "   <td style=\"text-align:right;\"> 5305078 </td>\n",
       "   <td style=\"text-align:left;\"> ENCODE-E2G_Benchmark </td>\n",
       "   <td style=\"text-align:left;\"> ENCODE-E2G_Benchmark:RPL22 </td>\n",
       "   <td style=\"text-align:right;\"> 403 </td>\n",
       "   <td style=\"text-align:left;\"> chr1:5304675-5305858 </td>\n",
       "  </tr>\n",
       "  <tr>\n",
       "   <td style=\"text-align:left;\"> chr1 </td>\n",
       "   <td style=\"text-align:right;\"> 8197559 </td>\n",
       "   <td style=\"text-align:right;\"> 8198606 </td>\n",
       "   <td style=\"text-align:left;\"> chr1 </td>\n",
       "   <td style=\"text-align:right;\"> 8197448 </td>\n",
       "   <td style=\"text-align:right;\"> 8198244 </td>\n",
       "   <td style=\"text-align:left;\"> ENCODE-E2G_Benchmark </td>\n",
       "   <td style=\"text-align:left;\"> ENCODE-E2G_Benchmark:PARK7 </td>\n",
       "   <td style=\"text-align:right;\"> 685 </td>\n",
       "   <td style=\"text-align:left;\"> chr1:8197559-8198606 </td>\n",
       "  </tr>\n",
       "  <tr>\n",
       "   <td style=\"text-align:left;\"> chr1 </td>\n",
       "   <td style=\"text-align:right;\"> 8857749 </td>\n",
       "   <td style=\"text-align:right;\"> 8858710 </td>\n",
       "   <td style=\"text-align:left;\"> chr1 </td>\n",
       "   <td style=\"text-align:right;\"> 8858063 </td>\n",
       "   <td style=\"text-align:right;\"> 8858563 </td>\n",
       "   <td style=\"text-align:left;\"> ENCODE-E2G_Benchmark </td>\n",
       "   <td style=\"text-align:left;\"> ENCODE-E2G_Benchmark:ENO1 </td>\n",
       "   <td style=\"text-align:right;\"> 500 </td>\n",
       "   <td style=\"text-align:left;\"> chr1:8857749-8858710 </td>\n",
       "  </tr>\n",
       "</tbody>\n",
       "</table></div>"
      ]
     },
     "metadata": {},
     "output_type": "display_data"
    }
   ],
   "source": [
    "### init\n",
    "FOLDER = \"annotation_encode_e2g_benchmark\"\n",
    "\n",
    "### set column names\n",
    "cnames = c(\"Chrom\", \"Start\", \"End\", \"Assay_Type\", \"Assay_Label\")\n",
    "cnames = c(\"Chrom_ATAC\", \"Start_ATAC\", \"End_ATAC\", cnames, \"Overlap\")\n",
    "\n",
    "### get file path\n",
    "fdiry  = file.path(\n",
    "    FD_RES, \n",
    "    \"results\",\n",
    "    \"region\",\n",
    "    \"KS91_K562_ASTARRseq_peak_macs_input\",\n",
    "    FOLDER\n",
    ")\n",
    "fname = \"peak.annotation.K562.EPCrisprBenchmark.total.merge.bed.gz\"\n",
    "fpath = file.path(fdiry, fname)\n",
    "\n",
    "### read table\n",
    "dat = read_tsv(fpath, col_names = cnames, show_col_types = FALSE)\n",
    "dat = dat %>% dplyr::mutate(Peak = paste0(Chrom_ATAC, \":\", Start_ATAC, \"-\", End_ATAC))\n",
    "\n",
    "### assign and show\n",
    "dat_peak_screened_encode_e2g_benchmark = dat\n",
    "dat1 = dat\n",
    "print(dim(dat))\n",
    "fun_display_table(head(dat))"
   ]
  },
  {
   "cell_type": "code",
   "execution_count": 4,
   "id": "149f0f3a-6862-45d0-bdd7-50fc2ccae58d",
   "metadata": {},
   "outputs": [
    {
     "name": "stdout",
     "output_type": "stream",
     "text": [
      "[1] 3007    9\n"
     ]
    },
    {
     "data": {
      "text/html": [
       "<div style=\"border: 1px solid #ddd; padding: 5px; overflow-x: scroll; width:100%; \"><table class=\"table table-striped\" style=\"margin-left: auto; margin-right: auto;\">\n",
       " <thead>\n",
       "  <tr>\n",
       "   <th style=\"text-align:left;\"> Peak </th>\n",
       "   <th style=\"text-align:left;\"> Annotation </th>\n",
       "   <th style=\"text-align:left;\"> Label </th>\n",
       "   <th style=\"text-align:right;\"> Count </th>\n",
       "   <th style=\"text-align:left;\"> Region </th>\n",
       "   <th style=\"text-align:right;\"> Score_Mean </th>\n",
       "   <th style=\"text-align:right;\"> Score_Max </th>\n",
       "   <th style=\"text-align:right;\"> Score_Min </th>\n",
       "   <th style=\"text-align:left;\"> Note </th>\n",
       "  </tr>\n",
       " </thead>\n",
       "<tbody>\n",
       "  <tr>\n",
       "   <td style=\"text-align:left;\"> chr1:3773953-3776305 </td>\n",
       "   <td style=\"text-align:left;\"> ENCODE-E2G </td>\n",
       "   <td style=\"text-align:left;\"> ENCODE-E2G_Benchmark </td>\n",
       "   <td style=\"text-align:right;\"> 3 </td>\n",
       "   <td style=\"text-align:left;\"> chr1:3774714-3775214|chr1:3774714-3775214|chr1:3774714-3775214 </td>\n",
       "   <td style=\"text-align:right;\"> -0.3655433 </td>\n",
       "   <td style=\"text-align:right;\"> -0.29343 </td>\n",
       "   <td style=\"text-align:right;\"> -0.47202 </td>\n",
       "   <td style=\"text-align:left;\"> Ulirsch2016 </td>\n",
       "  </tr>\n",
       "  <tr>\n",
       "   <td style=\"text-align:left;\"> chr1:3803939-3806560 </td>\n",
       "   <td style=\"text-align:left;\"> ENCODE-E2G </td>\n",
       "   <td style=\"text-align:left;\"> ENCODE-E2G_Benchmark </td>\n",
       "   <td style=\"text-align:right;\"> 2 </td>\n",
       "   <td style=\"text-align:left;\"> chr1:3803570-3805848|chr1:3803570-3805848 </td>\n",
       "   <td style=\"text-align:right;\"> 0.0121050 </td>\n",
       "   <td style=\"text-align:right;\"> 0.02568 </td>\n",
       "   <td style=\"text-align:right;\"> -0.00147 </td>\n",
       "   <td style=\"text-align:left;\"> Gasperini et al., 2019 </td>\n",
       "  </tr>\n",
       "  <tr>\n",
       "   <td style=\"text-align:left;\"> chr1:4126790-4128217 </td>\n",
       "   <td style=\"text-align:left;\"> ENCODE-E2G </td>\n",
       "   <td style=\"text-align:left;\"> ENCODE-E2G_Benchmark </td>\n",
       "   <td style=\"text-align:right;\"> 1 </td>\n",
       "   <td style=\"text-align:left;\"> chr1:4126791-4127291 </td>\n",
       "   <td style=\"text-align:right;\"> 0.0233800 </td>\n",
       "   <td style=\"text-align:right;\"> 0.02338 </td>\n",
       "   <td style=\"text-align:right;\"> 0.02338 </td>\n",
       "   <td style=\"text-align:left;\"> Gasperini et al., 2019 </td>\n",
       "  </tr>\n",
       "  <tr>\n",
       "   <td style=\"text-align:left;\"> chr1:5304675-5305858 </td>\n",
       "   <td style=\"text-align:left;\"> ENCODE-E2G </td>\n",
       "   <td style=\"text-align:left;\"> ENCODE-E2G_Benchmark </td>\n",
       "   <td style=\"text-align:right;\"> 1 </td>\n",
       "   <td style=\"text-align:left;\"> chr1:5304578-5305078 </td>\n",
       "   <td style=\"text-align:right;\"> 0.0267200 </td>\n",
       "   <td style=\"text-align:right;\"> 0.02672 </td>\n",
       "   <td style=\"text-align:right;\"> 0.02672 </td>\n",
       "   <td style=\"text-align:left;\"> Gasperini et al., 2019 </td>\n",
       "  </tr>\n",
       "  <tr>\n",
       "   <td style=\"text-align:left;\"> chr1:8197559-8198606 </td>\n",
       "   <td style=\"text-align:left;\"> ENCODE-E2G </td>\n",
       "   <td style=\"text-align:left;\"> ENCODE-E2G_Benchmark </td>\n",
       "   <td style=\"text-align:right;\"> 1 </td>\n",
       "   <td style=\"text-align:left;\"> chr1:8197448-8198244 </td>\n",
       "   <td style=\"text-align:right;\"> -0.0198800 </td>\n",
       "   <td style=\"text-align:right;\"> -0.01988 </td>\n",
       "   <td style=\"text-align:right;\"> -0.01988 </td>\n",
       "   <td style=\"text-align:left;\"> Gasperini et al., 2019 </td>\n",
       "  </tr>\n",
       "  <tr>\n",
       "   <td style=\"text-align:left;\"> chr1:8857749-8858710 </td>\n",
       "   <td style=\"text-align:left;\"> ENCODE-E2G </td>\n",
       "   <td style=\"text-align:left;\"> ENCODE-E2G_Benchmark </td>\n",
       "   <td style=\"text-align:right;\"> 1 </td>\n",
       "   <td style=\"text-align:left;\"> chr1:8858063-8858563 </td>\n",
       "   <td style=\"text-align:right;\"> -0.1074100 </td>\n",
       "   <td style=\"text-align:right;\"> -0.10741 </td>\n",
       "   <td style=\"text-align:right;\"> -0.10741 </td>\n",
       "   <td style=\"text-align:left;\"> Gasperini et al., 2019 </td>\n",
       "  </tr>\n",
       "</tbody>\n",
       "</table></div>"
      ]
     },
     "metadata": {},
     "output_type": "display_data"
    }
   ],
   "source": [
    "### init\n",
    "#FOLDER = \"annotation_encode_e2g_benchmark\"\n",
    "FOLDER = \"summary\"\n",
    "\n",
    "### set column names\n",
    "#cnames = c(\"Chrom\", \"Start\", \"End\", \"Assay_Type\", \"Assay_Label\")\n",
    "#cnames = c(\"Chrom_ATAC\", \"Start_ATAC\", \"End_ATAC\", cnames, \"Overlap\")\n",
    "\n",
    "### get file path\n",
    "fdiry  = file.path(\n",
    "    FD_RES, \n",
    "    \"results\",\n",
    "    \"region\",\n",
    "    \"KS91_K562_ASTARRseq_peak_macs_input\",\n",
    "    FOLDER\n",
    ")\n",
    "#fname = \"peak.annotation.K562.EPCrisprBenchmark.total.merge.bed.gz\"\n",
    "fname = \"peak.summary.encode_e2g_benchmark.total.tsv\"\n",
    "fpath = file.path(fdiry, fname)\n",
    "\n",
    "### read table\n",
    "#dat = read_tsv(fpath, col_names = cnames, show_col_types = FALSE)\n",
    "#dat = dat %>% dplyr::mutate(Peak = paste0(Chrom_ATAC, \":\", Start_ATAC, \"-\", End_ATAC))\n",
    "dat = read_tsv(fpath, show_col_types = FALSE)\n",
    "\n",
    "### assign and show\n",
    "dat_peak_screened_encode_e2g_benchmark = dat\n",
    "dat2 = dat\n",
    "print(dim(dat))\n",
    "fun_display_table(head(dat))"
   ]
  },
  {
   "cell_type": "markdown",
   "id": "0168c3ab-01e0-4839-8e6b-9b21a8391a47",
   "metadata": {},
   "source": [
    "**Check results**"
   ]
  },
  {
   "cell_type": "code",
   "execution_count": 5,
   "id": "17347e42-d7a8-49fe-b7b5-3bfae2938b02",
   "metadata": {},
   "outputs": [
    {
     "name": "stdout",
     "output_type": "stream",
     "text": [
      "[1] 3195\n",
      "[1] 3006\n",
      "[1] 3007\n",
      "[1] 3007\n",
      "[1] 3006\n"
     ]
    }
   ],
   "source": [
    "#```\n",
    "dat = dat1\n",
    "vec = dat$Peak\n",
    "print(length(vec))\n",
    "#> [1] 3195\n",
    "vec = unique(vec)\n",
    "print(length(vec))\n",
    "#> [1] 3006\n",
    "\n",
    "dat = dat2\n",
    "vec = dat$Peak\n",
    "print(length(vec))\n",
    "#> [1] 3007\n",
    "vec = unique(vec)\n",
    "print(length(vec))\n",
    "#> [1] 3007\n",
    "\n",
    "vec1 = unique(dat1$Peak)\n",
    "vec2 = unique(dat2$Peak)\n",
    "vec  = intersect(vec1, vec2)\n",
    "print(length(vec))\n",
    "#> [1] 3006\n",
    "#```"
   ]
  },
  {
   "cell_type": "markdown",
   "id": "3ed8ab0d-0cbc-48cc-a962-3984be03c761",
   "metadata": {},
   "source": [
    "## Get ATAC Peaks screened by ENCODE-E2G prediction"
   ]
  },
  {
   "cell_type": "markdown",
   "id": "80d03fdc-34c5-4156-9334-c04a3bc0a40a",
   "metadata": {},
   "source": [
    "**Check data files**"
   ]
  },
  {
   "cell_type": "code",
   "execution_count": 6,
   "id": "4090d8d7-b14e-4ccb-a3bd-bf5374703163",
   "metadata": {},
   "outputs": [
    {
     "name": "stdout",
     "output_type": "stream",
     "text": [
      "[1] \"peak.annotation.K562.ENCSR328LMT.ENCFF122UMY.element_gene_links.total.bed.gz\"\n",
      "[1] \"peak.annotation.K562.ENCSR328LMT.ENCFF122UMY.element_gene_links.total.merge.bed.gz\"\n",
      "[1] \"peak.annotation.K562.ENCSR328LMT.ENCFF202FID.element_gene_links.active.bed.gz\"\n",
      "[1] \"peak.annotation.K562.ENCSR328LMT.ENCFF202FID.element_gene_links.active.merge.bed.gz\"\n",
      "[1] \"peak.intersect.inverse.K562.ENCSR328LMT.ENCFF202FID.element_gene_links.active.merge.bed.gz\"\n"
     ]
    }
   ],
   "source": [
    "FOLDER = \"annotation_encode_e2g_prediction\"\n",
    "fdiry  = file.path(\n",
    "    FD_RES, \n",
    "    \"results\",\n",
    "    \"region\",\n",
    "    \"KS91_K562_ASTARRseq_peak_macs_input\",\n",
    "    FOLDER\n",
    ")\n",
    "for(fname in dir(fdiry)){print(fname)}"
   ]
  },
  {
   "cell_type": "code",
   "execution_count": 7,
   "id": "e68335aa-c034-422a-b24e-f47b61255e7d",
   "metadata": {},
   "outputs": [
    {
     "name": "stdout",
     "output_type": "stream",
     "text": [
      "[1] \"peak.screened.atac.active.tsv\"\n",
      "[1] \"peak.screened.atac.quantile.tsv\"\n",
      "[1] \"peak.screened.atac.total.tsv\"\n",
      "[1] \"peak.screened.fcc.active.tsv\"\n",
      "[1] \"peak.screened.fcc.inactive.tsv\"\n",
      "[1] \"peak.screened.fcc.total.tsv\"\n",
      "[1] \"peak.summary.ccre_v3.tsv\"\n",
      "[1] \"peak.summary.ccre_v4.tsv\"\n",
      "[1] \"peak.summary.chipseq_histone.tsv\"\n",
      "[1] \"peak.summary.chipseq_tf_subset.tsv\"\n",
      "[1] \"peak.summary.chipseq_tf.tsv\"\n",
      "[1] \"peak.summary.chromHMM.tsv\"\n",
      "[1] \"peak.summary.crispri_growth.dhs.active.tsv\"\n",
      "[1] \"peak.summary.crispri_hcrff.casa.tsv\"\n",
      "[1] \"peak.summary.encode_e2g_benchmark.total.tsv\"\n",
      "[1] \"peak.summary.encode_e2g_benchmark.tsv\"\n",
      "[1] \"peak.summary.encode_e2g_prediction.total.tsv\"\n",
      "[1] \"peak.summary.encode_e2g_prediction.tsv\"\n",
      "[1] \"peak.summary.enhancer_zscore_junke.ASTARR_A.tsv\"\n",
      "[1] \"peak.summary.enhancer_zscore_junke.ASTARR_AB.tsv\"\n",
      "[1] \"peak.summary.enhancer_zscore_junke.ASTARR_R.tsv\"\n",
      "[1] \"peak.summary.enhancer_zscore_junke.ASTARR.tsv\"\n",
      "[1] \"peak.summary.enhancer_zscore_junke.LMPRA_A.tsv\"\n",
      "[1] \"peak.summary.enhancer_zscore_junke.LMPRA_AB.tsv\"\n",
      "[1] \"peak.summary.enhancer_zscore_junke.LMPRA_R.tsv\"\n",
      "[1] \"peak.summary.enhancer_zscore_junke.LMPRA.tsv\"\n",
      "[1] \"peak.summary.enhancer_zscore_junke.STARRMPRA.tsv\"\n",
      "[1] \"peak.summary.enhancer_zscore_junke.TMPRA_A.tsv\"\n",
      "[1] \"peak.summary.enhancer_zscore_junke.TMPRA_R.tsv\"\n",
      "[1] \"peak.summary.enhancer_zscore_junke.TMPRA.tsv\"\n",
      "[1] \"peak.summary.enhancer_zscore_junke.WSTARR_A.tsv\"\n",
      "[1] \"peak.summary.enhancer_zscore_junke.WSTARR_AB.tsv\"\n",
      "[1] \"peak.summary.enhancer_zscore_junke.WSTARR_R.tsv\"\n",
      "[1] \"peak.summary.enhancer_zscore_junke.WSTARR.tsv\"\n",
      "[1] \"peak.summary.tss_pol2_rnaseq.tsv\"\n",
      "[1] \"peak.summary.tss_pol2.tsv\"\n"
     ]
    }
   ],
   "source": [
    "FOLDER = \"summary\"\n",
    "fdiry  = file.path(\n",
    "    FD_RES, \n",
    "    \"results\",\n",
    "    \"region\",\n",
    "    \"KS91_K562_ASTARRseq_peak_macs_input\",\n",
    "    FOLDER\n",
    ")\n",
    "for(fname in dir(fdiry)){print(fname)}"
   ]
  },
  {
   "cell_type": "markdown",
   "id": "f3c09070-45c7-49ee-b585-bdbd905f9b37",
   "metadata": {},
   "source": [
    "**Import data**"
   ]
  },
  {
   "cell_type": "code",
   "execution_count": 8,
   "id": "76b92b03-b016-483f-9c82-49f8e08c53ed",
   "metadata": {},
   "outputs": [
    {
     "name": "stdout",
     "output_type": "stream",
     "text": [
      "[1] 91787    10\n"
     ]
    },
    {
     "data": {
      "text/html": [
       "<div style=\"border: 1px solid #ddd; padding: 5px; overflow-x: scroll; width:100%; \"><table class=\"table table-striped\" style=\"margin-left: auto; margin-right: auto;\">\n",
       " <thead>\n",
       "  <tr>\n",
       "   <th style=\"text-align:left;\"> Chrom_ATAC </th>\n",
       "   <th style=\"text-align:right;\"> Start_ATAC </th>\n",
       "   <th style=\"text-align:right;\"> End_ATAC </th>\n",
       "   <th style=\"text-align:left;\"> Chrom </th>\n",
       "   <th style=\"text-align:right;\"> Start </th>\n",
       "   <th style=\"text-align:right;\"> End </th>\n",
       "   <th style=\"text-align:left;\"> Assay_Type </th>\n",
       "   <th style=\"text-align:left;\"> Assay_Label </th>\n",
       "   <th style=\"text-align:right;\"> Overlap </th>\n",
       "   <th style=\"text-align:left;\"> Peak </th>\n",
       "  </tr>\n",
       " </thead>\n",
       "<tbody>\n",
       "  <tr>\n",
       "   <td style=\"text-align:left;\"> chr1 </td>\n",
       "   <td style=\"text-align:right;\"> 28903 </td>\n",
       "   <td style=\"text-align:right;\"> 29613 </td>\n",
       "   <td style=\"text-align:left;\"> chr1 </td>\n",
       "   <td style=\"text-align:right;\"> 29120 </td>\n",
       "   <td style=\"text-align:right;\"> 29620 </td>\n",
       "   <td style=\"text-align:left;\"> ENCODE-E2G_Prediction </td>\n",
       "   <td style=\"text-align:left;\"> ENCODE-E2G_Prediction:ACAP3,ENCODE-E2G_Prediction:AGRN,ENCODE-E2G_Prediction:ATAD3A,ENCODE-E2G_Prediction:ATAD3B,ENCODE-E2G_Prediction:AURKAIP1,ENCODE-E2G_Prediction:B3GALT6,ENCODE-E2G_Prediction:C1orf159,ENCODE-E2G_Prediction:C1orf174,ENCODE-E2G_Prediction:CALML6,ENCODE-E2G_Prediction:CCNL2,ENCODE-E2G_Prediction:CDK11A,ENCODE-E2G_Prediction:CDK11B,ENCODE-E2G_Prediction:CEP104,ENCODE-E2G_Prediction:CFAP74,ENCODE-E2G_Prediction:CPTP,ENCODE-E2G_Prediction:DFFB,ENCODE-E2G_Prediction:DVL1,ENCODE-E2G_Prediction:FAAP20,ENCODE-E2G_Prediction:FAM213B,ENCODE-E2G_Prediction:FAM87B,ENCODE-E2G_Prediction:FNDC10,ENCODE-E2G_Prediction:GNB1,ENCODE-E2G_Prediction:HES4,ENCODE-E2G_Prediction:INTS11,ENCODE-E2G_Prediction:ISG15,ENCODE-E2G_Prediction:KLHL17,ENCODE-E2G_Prediction:LINC00115,ENCODE-E2G_Prediction:LINC01128,ENCODE-E2G_Prediction:LINC01134,ENCODE-E2G_Prediction:LINC01342,ENCODE-E2G_Prediction:LINC01770,ENCODE-E2G_Prediction:LOC100288069,ENCODE-E2G_Prediction:LOC105378591,ENCODE-E2G_Prediction:LOC115110,ENCODE-E2G_Prediction:LOC148413,ENCODE-E2G_Prediction:LRRC47,ENCODE-E2G_Prediction:MIB2,ENCODE-E2G_Prediction:MMEL1,ENCODE-E2G_Prediction:MORN1,ENCODE-E2G_Prediction:MRPL20,ENCODE-E2G_Prediction:MXRA8,ENCODE-E2G_Prediction:NADK,ENCODE-E2G_Prediction:NOC2L,ENCODE-E2G_Prediction:PANK4,ENCODE-E2G_Prediction:PEX10,ENCODE-E2G_Prediction:PLEKHN1,ENCODE-E2G_Prediction:PRKCZ,ENCODE-E2G_Prediction:PUSL1,ENCODE-E2G_Prediction:RER1,ENCODE-E2G_Prediction:RNF223,ENCODE-E2G_Prediction:SAMD11,ENCODE-E2G_Prediction:SCNN1D,ENCODE-E2G_Prediction:SDF4,ENCODE-E2G_Prediction:SKI,ENCODE-E2G_Prediction:SLC35E2,ENCODE-E2G_Prediction:SLC35E2B,ENCODE-E2G_Prediction:SMIM1,ENCODE-E2G_Prediction:SSU72,ENCODE-E2G_Prediction:TAS1R3,ENCODE-E2G_Prediction:TMEM52,ENCODE-E2G_Prediction:TNFRSF14,ENCODE-E2G_Prediction:TNFRSF18,ENCODE-E2G_Prediction:TNFRSF4,ENCODE-E2G_Prediction:TP73,ENCODE-E2G_Prediction:TP73-AS1,ENCODE-E2G_Prediction:TPRG1L,ENCODE-E2G_Prediction:TTLL10,ENCODE-E2G_Prediction:UBE2J2,ENCODE-E2G_Prediction:VWA1,ENCODE-E2G_Prediction:WRAP73 </td>\n",
       "   <td style=\"text-align:right;\"> 493 </td>\n",
       "   <td style=\"text-align:left;\"> chr1:28903-29613 </td>\n",
       "  </tr>\n",
       "</tbody>\n",
       "</table></div>"
      ]
     },
     "metadata": {},
     "output_type": "display_data"
    }
   ],
   "source": [
    "### init\n",
    "FOLDER = \"annotation_encode_e2g_prediction\"\n",
    "\n",
    "### set column names\n",
    "cnames = c(\"Chrom\", \"Start\", \"End\", \"Assay_Type\", \"Assay_Label\")\n",
    "cnames = c(\"Chrom_ATAC\", \"Start_ATAC\", \"End_ATAC\", cnames, \"Overlap\")\n",
    "\n",
    "### get file path\n",
    "fdiry  = file.path(\n",
    "    FD_RES, \n",
    "    \"results\",\n",
    "    \"region\",\n",
    "    \"KS91_K562_ASTARRseq_peak_macs_input\",\n",
    "    FOLDER\n",
    ")\n",
    "fname = \"peak.annotation.K562.ENCSR328LMT.ENCFF122UMY.element_gene_links.total.merge.bed.gz\"\n",
    "fpath = file.path(fdiry, fname)\n",
    "\n",
    "### read table\n",
    "dat = read_tsv(fpath, col_names = cnames, show_col_types = FALSE)\n",
    "dat = dat %>% dplyr::mutate(Peak = paste0(Chrom_ATAC, \":\", Start_ATAC, \"-\", End_ATAC))\n",
    "\n",
    "### assign and show\n",
    "dat_peak_screened_encode_e2g_prediction = dat\n",
    "dat1 = dat\n",
    "print(dim(dat))\n",
    "fun_display_table(head(dat, 1))"
   ]
  },
  {
   "cell_type": "code",
   "execution_count": 9,
   "id": "93a2456a-5a8b-4d50-b2e1-d389f89b7a1f",
   "metadata": {},
   "outputs": [
    {
     "name": "stdout",
     "output_type": "stream",
     "text": [
      "[1] 84129     8\n"
     ]
    },
    {
     "data": {
      "text/html": [
       "<div style=\"border: 1px solid #ddd; padding: 5px; overflow-x: scroll; width:100%; \"><table class=\"table table-striped\" style=\"margin-left: auto; margin-right: auto;\">\n",
       " <thead>\n",
       "  <tr>\n",
       "   <th style=\"text-align:left;\"> Peak </th>\n",
       "   <th style=\"text-align:left;\"> Annotation </th>\n",
       "   <th style=\"text-align:left;\"> Label </th>\n",
       "   <th style=\"text-align:right;\"> Count </th>\n",
       "   <th style=\"text-align:left;\"> Region </th>\n",
       "   <th style=\"text-align:right;\"> Score_Mean </th>\n",
       "   <th style=\"text-align:right;\"> Score_Max </th>\n",
       "   <th style=\"text-align:left;\"> Note </th>\n",
       "  </tr>\n",
       " </thead>\n",
       "<tbody>\n",
       "  <tr>\n",
       "   <td style=\"text-align:left;\"> chr1:28903-29613 </td>\n",
       "   <td style=\"text-align:left;\"> ENCODE-E2G </td>\n",
       "   <td style=\"text-align:left;\"> ENCODE-E2G_Prediction </td>\n",
       "   <td style=\"text-align:right;\"> 70 </td>\n",
       "   <td style=\"text-align:left;\"> chr1:29120-29620|chr1:29120-29620|chr1:29120-29620|chr1:29120-29620|chr1:29120-29620|chr1:29120-29620|chr1:29120-29620|chr1:29120-29620|chr1:29120-29620|chr1:29120-29620|chr1:29120-29620|chr1:29120-29620|chr1:29120-29620|chr1:29120-29620|chr1:29120-29620|chr1:29120-29620|chr1:29120-29620|chr1:29120-29620|chr1:29120-29620|chr1:29120-29620|chr1:29120-29620|chr1:29120-29620|chr1:29120-29620|chr1:29120-29620|chr1:29120-29620|chr1:29120-29620|chr1:29120-29620|chr1:29120-29620|chr1:29120-29620|chr1:29120-29620|chr1:29120-29620|chr1:29120-29620|chr1:29120-29620|chr1:29120-29620|chr1:29120-29620|chr1:29120-29620|chr1:29120-29620|chr1:29120-29620|chr1:29120-29620|chr1:29120-29620|chr1:29120-29620|chr1:29120-29620|chr1:29120-29620|chr1:29120-29620|chr1:29120-29620|chr1:29120-29620|chr1:29120-29620|chr1:29120-29620|chr1:29120-29620|chr1:29120-29620|chr1:29120-29620|chr1:29120-29620|chr1:29120-29620|chr1:29120-29620|chr1:29120-29620|chr1:29120-29620|chr1:29120-29620|chr1:29120-29620|chr1:29120-29620|chr1:29120-29620|chr1:29120-29620|chr1:29120-29620|chr1:29120-29620|chr1:29120-29620|chr1:29120-29620|chr1:29120-29620|chr1:29120-29620|chr1:29120-29620|chr1:29120-29620|chr1:29120-29620 </td>\n",
       "   <td style=\"text-align:right;\"> 0.0079099 </td>\n",
       "   <td style=\"text-align:right;\"> 0.07004 </td>\n",
       "   <td style=\"text-align:left;\"> promoter </td>\n",
       "  </tr>\n",
       "  <tr>\n",
       "   <td style=\"text-align:left;\"> chr1:115411-115986 </td>\n",
       "   <td style=\"text-align:left;\"> ENCODE-E2G </td>\n",
       "   <td style=\"text-align:left;\"> ENCODE-E2G_Prediction </td>\n",
       "   <td style=\"text-align:right;\"> 70 </td>\n",
       "   <td style=\"text-align:left;\"> chr1:115484-115984|chr1:115484-115984|chr1:115484-115984|chr1:115484-115984|chr1:115484-115984|chr1:115484-115984|chr1:115484-115984|chr1:115484-115984|chr1:115484-115984|chr1:115484-115984|chr1:115484-115984|chr1:115484-115984|chr1:115484-115984|chr1:115484-115984|chr1:115484-115984|chr1:115484-115984|chr1:115484-115984|chr1:115484-115984|chr1:115484-115984|chr1:115484-115984|chr1:115484-115984|chr1:115484-115984|chr1:115484-115984|chr1:115484-115984|chr1:115484-115984|chr1:115484-115984|chr1:115484-115984|chr1:115484-115984|chr1:115484-115984|chr1:115484-115984|chr1:115484-115984|chr1:115484-115984|chr1:115484-115984|chr1:115484-115984|chr1:115484-115984|chr1:115484-115984|chr1:115484-115984|chr1:115484-115984|chr1:115484-115984|chr1:115484-115984|chr1:115484-115984|chr1:115484-115984|chr1:115484-115984|chr1:115484-115984|chr1:115484-115984|chr1:115484-115984|chr1:115484-115984|chr1:115484-115984|chr1:115484-115984|chr1:115484-115984|chr1:115484-115984|chr1:115484-115984|chr1:115484-115984|chr1:115484-115984|chr1:115484-115984|chr1:115484-115984|chr1:115484-115984|chr1:115484-115984|chr1:115484-115984|chr1:115484-115984|chr1:115484-115984|chr1:115484-115984|chr1:115484-115984|chr1:115484-115984|chr1:115484-115984|chr1:115484-115984|chr1:115484-115984|chr1:115484-115984|chr1:115484-115984|chr1:115484-115984 </td>\n",
       "   <td style=\"text-align:right;\"> 0.0465609 </td>\n",
       "   <td style=\"text-align:right;\"> 0.41016 </td>\n",
       "   <td style=\"text-align:left;\"> intergenic </td>\n",
       "  </tr>\n",
       "  <tr>\n",
       "   <td style=\"text-align:left;\"> chr1:180982-182087 </td>\n",
       "   <td style=\"text-align:left;\"> ENCODE-E2G </td>\n",
       "   <td style=\"text-align:left;\"> ENCODE-E2G_Prediction </td>\n",
       "   <td style=\"text-align:right;\"> 70 </td>\n",
       "   <td style=\"text-align:left;\"> chr1:181231-181731|chr1:181231-181731|chr1:181231-181731|chr1:181231-181731|chr1:181231-181731|chr1:181231-181731|chr1:181231-181731|chr1:181231-181731|chr1:181231-181731|chr1:181231-181731|chr1:181231-181731|chr1:181231-181731|chr1:181231-181731|chr1:181231-181731|chr1:181231-181731|chr1:181231-181731|chr1:181231-181731|chr1:181231-181731|chr1:181231-181731|chr1:181231-181731|chr1:181231-181731|chr1:181231-181731|chr1:181231-181731|chr1:181231-181731|chr1:181231-181731|chr1:181231-181731|chr1:181231-181731|chr1:181231-181731|chr1:181231-181731|chr1:181231-181731|chr1:181231-181731|chr1:181231-181731|chr1:181231-181731|chr1:181231-181731|chr1:181231-181731|chr1:181231-181731|chr1:181231-181731|chr1:181231-181731|chr1:181231-181731|chr1:181231-181731|chr1:181231-181731|chr1:181231-181731|chr1:181231-181731|chr1:181231-181731|chr1:181231-181731|chr1:181231-181731|chr1:181231-181731|chr1:181231-181731|chr1:181231-181731|chr1:181231-181731|chr1:181231-181731|chr1:181231-181731|chr1:181231-181731|chr1:181231-181731|chr1:181231-181731|chr1:181231-181731|chr1:181231-181731|chr1:181231-181731|chr1:181231-181731|chr1:181231-181731|chr1:181231-181731|chr1:181231-181731|chr1:181231-181731|chr1:181231-181731|chr1:181231-181731|chr1:181231-181731|chr1:181231-181731|chr1:181231-181731|chr1:181231-181731|chr1:181231-181731 </td>\n",
       "   <td style=\"text-align:right;\"> 0.0008023 </td>\n",
       "   <td style=\"text-align:right;\"> 0.00896 </td>\n",
       "   <td style=\"text-align:left;\"> intergenic </td>\n",
       "  </tr>\n",
       "  <tr>\n",
       "   <td style=\"text-align:left;\"> chr1:777949-779437 </td>\n",
       "   <td style=\"text-align:left;\"> ENCODE-E2G </td>\n",
       "   <td style=\"text-align:left;\"> ENCODE-E2G_Prediction </td>\n",
       "   <td style=\"text-align:right;\"> 70 </td>\n",
       "   <td style=\"text-align:left;\"> chr1:778438-779143|chr1:778438-779143|chr1:778438-779143|chr1:778438-779143|chr1:778438-779143|chr1:778438-779143|chr1:778438-779143|chr1:778438-779143|chr1:778438-779143|chr1:778438-779143|chr1:778438-779143|chr1:778438-779143|chr1:778438-779143|chr1:778438-779143|chr1:778438-779143|chr1:778438-779143|chr1:778438-779143|chr1:778438-779143|chr1:778438-779143|chr1:778438-779143|chr1:778438-779143|chr1:778438-779143|chr1:778438-779143|chr1:778438-779143|chr1:778438-779143|chr1:778438-779143|chr1:778438-779143|chr1:778438-779143|chr1:778438-779143|chr1:778438-779143|chr1:778438-779143|chr1:778438-779143|chr1:778438-779143|chr1:778438-779143|chr1:778438-779143|chr1:778438-779143|chr1:778438-779143|chr1:778438-779143|chr1:778438-779143|chr1:778438-779143|chr1:778438-779143|chr1:778438-779143|chr1:778438-779143|chr1:778438-779143|chr1:778438-779143|chr1:778438-779143|chr1:778438-779143|chr1:778438-779143|chr1:778438-779143|chr1:778438-779143|chr1:778438-779143|chr1:778438-779143|chr1:778438-779143|chr1:778438-779143|chr1:778438-779143|chr1:778438-779143|chr1:778438-779143|chr1:778438-779143|chr1:778438-779143|chr1:778438-779143|chr1:778438-779143|chr1:778438-779143|chr1:778438-779143|chr1:778438-779143|chr1:778438-779143|chr1:778438-779143|chr1:778438-779143|chr1:778438-779143|chr1:778438-779143|chr1:778438-779143 </td>\n",
       "   <td style=\"text-align:right;\"> 0.0801154 </td>\n",
       "   <td style=\"text-align:right;\"> 0.99514 </td>\n",
       "   <td style=\"text-align:left;\"> promoter </td>\n",
       "  </tr>\n",
       "  <tr>\n",
       "   <td style=\"text-align:left;\"> chr1:816774-817547 </td>\n",
       "   <td style=\"text-align:left;\"> ENCODE-E2G </td>\n",
       "   <td style=\"text-align:left;\"> ENCODE-E2G_Prediction </td>\n",
       "   <td style=\"text-align:right;\"> 70 </td>\n",
       "   <td style=\"text-align:left;\"> chr1:817120-817620|chr1:817120-817620|chr1:817120-817620|chr1:817120-817620|chr1:817120-817620|chr1:817120-817620|chr1:817120-817620|chr1:817120-817620|chr1:817120-817620|chr1:817120-817620|chr1:817120-817620|chr1:817120-817620|chr1:817120-817620|chr1:817120-817620|chr1:817120-817620|chr1:817120-817620|chr1:817120-817620|chr1:817120-817620|chr1:817120-817620|chr1:817120-817620|chr1:817120-817620|chr1:817120-817620|chr1:817120-817620|chr1:817120-817620|chr1:817120-817620|chr1:817120-817620|chr1:817120-817620|chr1:817120-817620|chr1:817120-817620|chr1:817120-817620|chr1:817120-817620|chr1:817120-817620|chr1:817120-817620|chr1:817120-817620|chr1:817120-817620|chr1:817120-817620|chr1:817120-817620|chr1:817120-817620|chr1:817120-817620|chr1:817120-817620|chr1:817120-817620|chr1:817120-817620|chr1:817120-817620|chr1:817120-817620|chr1:817120-817620|chr1:817120-817620|chr1:817120-817620|chr1:817120-817620|chr1:817120-817620|chr1:817120-817620|chr1:817120-817620|chr1:817120-817620|chr1:817120-817620|chr1:817120-817620|chr1:817120-817620|chr1:817120-817620|chr1:817120-817620|chr1:817120-817620|chr1:817120-817620|chr1:817120-817620|chr1:817120-817620|chr1:817120-817620|chr1:817120-817620|chr1:817120-817620|chr1:817120-817620|chr1:817120-817620|chr1:817120-817620|chr1:817120-817620|chr1:817120-817620|chr1:817120-817620 </td>\n",
       "   <td style=\"text-align:right;\"> 0.0366883 </td>\n",
       "   <td style=\"text-align:right;\"> 0.99999 </td>\n",
       "   <td style=\"text-align:left;\"> promoter </td>\n",
       "  </tr>\n",
       "  <tr>\n",
       "   <td style=\"text-align:left;\"> chr1:826754-828040 </td>\n",
       "   <td style=\"text-align:left;\"> ENCODE-E2G </td>\n",
       "   <td style=\"text-align:left;\"> ENCODE-E2G_Prediction </td>\n",
       "   <td style=\"text-align:right;\"> 70 </td>\n",
       "   <td style=\"text-align:left;\"> chr1:827244-827847|chr1:827244-827847|chr1:827244-827847|chr1:827244-827847|chr1:827244-827847|chr1:827244-827847|chr1:827244-827847|chr1:827244-827847|chr1:827244-827847|chr1:827244-827847|chr1:827244-827847|chr1:827244-827847|chr1:827244-827847|chr1:827244-827847|chr1:827244-827847|chr1:827244-827847|chr1:827244-827847|chr1:827244-827847|chr1:827244-827847|chr1:827244-827847|chr1:827244-827847|chr1:827244-827847|chr1:827244-827847|chr1:827244-827847|chr1:827244-827847|chr1:827244-827847|chr1:827244-827847|chr1:827244-827847|chr1:827244-827847|chr1:827244-827847|chr1:827244-827847|chr1:827244-827847|chr1:827244-827847|chr1:827244-827847|chr1:827244-827847|chr1:827244-827847|chr1:827244-827847|chr1:827244-827847|chr1:827244-827847|chr1:827244-827847|chr1:827244-827847|chr1:827244-827847|chr1:827244-827847|chr1:827244-827847|chr1:827244-827847|chr1:827244-827847|chr1:827244-827847|chr1:827244-827847|chr1:827244-827847|chr1:827244-827847|chr1:827244-827847|chr1:827244-827847|chr1:827244-827847|chr1:827244-827847|chr1:827244-827847|chr1:827244-827847|chr1:827244-827847|chr1:827244-827847|chr1:827244-827847|chr1:827244-827847|chr1:827244-827847|chr1:827244-827847|chr1:827244-827847|chr1:827244-827847|chr1:827244-827847|chr1:827244-827847|chr1:827244-827847|chr1:827244-827847|chr1:827244-827847|chr1:827244-827847 </td>\n",
       "   <td style=\"text-align:right;\"> 0.0696051 </td>\n",
       "   <td style=\"text-align:right;\"> 0.99889 </td>\n",
       "   <td style=\"text-align:left;\"> promoter </td>\n",
       "  </tr>\n",
       "</tbody>\n",
       "</table></div>"
      ]
     },
     "metadata": {},
     "output_type": "display_data"
    }
   ],
   "source": [
    "### init\n",
    "#FOLDER = \"annotation_encode_e2g_prediction\"\n",
    "FOLDER = \"summary\"\n",
    "\n",
    "### set column names\n",
    "#cnames = c(\"Chrom\", \"Start\", \"End\", \"Assay_Type\", \"Assay_Label\")\n",
    "#cnames = c(\"Chrom_ATAC\", \"Start_ATAC\", \"End_ATAC\", cnames, \"Overlap\")\n",
    "\n",
    "### get file path\n",
    "fdiry  = file.path(\n",
    "    FD_RES, \n",
    "    \"results\",\n",
    "    \"region\",\n",
    "    \"KS91_K562_ASTARRseq_peak_macs_input\",\n",
    "    FOLDER\n",
    ")\n",
    "#fname = \"peak.annotation.K562.ENCSR328LMT.ENCFF122UMY.element_gene_links.total.merge.bed.gz\"\n",
    "fname = \"peak.summary.encode_e2g_prediction.total.tsv\"\n",
    "fpath = file.path(fdiry, fname)\n",
    "\n",
    "### read table\n",
    "#dat = read_tsv(fpath, col_names = cnames, show_col_types = FALSE)\n",
    "#dat = dat %>% dplyr::mutate(Peak = paste0(Chrom_ATAC, \":\", Start_ATAC, \"-\", End_ATAC))\n",
    "dat = read_tsv(fpath, show_col_types = FALSE)\n",
    "\n",
    "### assign and show\n",
    "dat_peak_screened_encode_e2g_prediction = dat\n",
    "dat2 = dat\n",
    "print(dim(dat))\n",
    "fun_display_table(head(dat))"
   ]
  },
  {
   "cell_type": "markdown",
   "id": "7b6687b6-dab3-47f2-8907-a8416e0e2de3",
   "metadata": {},
   "source": [
    "**Check results**"
   ]
  },
  {
   "cell_type": "code",
   "execution_count": 10,
   "id": "7e3c9082-d3d4-4e5a-9e9f-2e19cd4877ca",
   "metadata": {},
   "outputs": [
    {
     "name": "stdout",
     "output_type": "stream",
     "text": [
      "[1] 91787\n",
      "[1] 84129\n",
      "[1] 84129\n",
      "[1] 84129\n",
      "[1] 84129\n"
     ]
    }
   ],
   "source": [
    "#```\n",
    "dat = dat1\n",
    "vec = dat$Peak\n",
    "print(length(vec))\n",
    "#> [1] 91787\n",
    "vec = unique(vec)\n",
    "print(length(vec))\n",
    "#> [1] 84129\n",
    "\n",
    "dat = dat2\n",
    "vec = dat$Peak\n",
    "print(length(vec))\n",
    "#> [1] 84129\n",
    "vec = unique(vec)\n",
    "print(length(vec))\n",
    "#> [1] 84129\n",
    "\n",
    "vec1 = unique(dat1$Peak)\n",
    "vec2 = unique(dat2$Peak)\n",
    "vec  = intersect(vec1, vec2)\n",
    "print(length(vec))\n",
    "#> [1] 84129\n",
    "#```"
   ]
  },
  {
   "cell_type": "code",
   "execution_count": null,
   "id": "987dd90d-0177-48fa-a50b-395772f63762",
   "metadata": {},
   "outputs": [],
   "source": []
  }
 ],
 "metadata": {
  "kernelspec": {
   "display_name": "R",
   "language": "R",
   "name": "ir"
  },
  "language_info": {
   "codemirror_mode": "r",
   "file_extension": ".r",
   "mimetype": "text/x-r-source",
   "name": "R",
   "pygments_lexer": "r",
   "version": "4.3.1"
  }
 },
 "nbformat": 4,
 "nbformat_minor": 5
}
