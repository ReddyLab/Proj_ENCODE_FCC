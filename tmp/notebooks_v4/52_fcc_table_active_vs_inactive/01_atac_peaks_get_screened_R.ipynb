{
 "cells": [
  {
   "cell_type": "markdown",
   "metadata": {},
   "source": [
    "**Set environment**"
   ]
  },
  {
   "cell_type": "code",
   "execution_count": 1,
   "metadata": {},
   "outputs": [
    {
     "name": "stdout",
     "output_type": "stream",
     "text": [
      "You are in Singularity: singularity_proj_encode_fcc \n",
      "BASE DIRECTORY (FD_BASE): /data/reddylab/Kuei \n",
      "WORK DIRECTORY (FD_WORK): /data/reddylab/Kuei/out \n",
      "CODE DIRECTORY (FD_CODE): /data/reddylab/Kuei/code \n",
      "PATH OF PROJECT (FD_PRJ): /data/reddylab/Kuei/code/Proj_CombEffect_ENCODE_FCC \n",
      "PATH OF RESULTS (FD_RES): /data/reddylab/Kuei/out/proj_combeffect_encode_fcc \n",
      "PATH OF LOG     (FD_LOG): /data/reddylab/Kuei/out/proj_combeffect_encode_fcc/log \n"
     ]
    }
   ],
   "source": [
    "suppressMessages(suppressWarnings(source(\"../config/config_sing.R\")))\n",
    "suppressMessages(suppressWarnings(source(\"../config/config_func.R\")))\n",
    "show_env()"
   ]
  },
  {
   "cell_type": "markdown",
   "metadata": {},
   "source": [
    "**Check data files: coverage**"
   ]
  },
  {
   "cell_type": "code",
   "execution_count": 2,
   "metadata": {},
   "outputs": [
    {
     "name": "stdout",
     "output_type": "stream",
     "text": [
      "[1] \"A001_K562_WSTARRseq\"\n",
      "[1] \"comparison\"\n",
      "[1] \"CRISPRi_FlowFISH\"\n",
      "[1] \"CRISPRi_Growth_K562_Gersbach\"\n",
      "[1] \"hic_intact_K562_deep\"\n",
      "[1] \"hic_intact_K562_ENCSR479XDG\"\n",
      "[1] \"KS91_K562_ASTARRseq\"\n",
      "[1] \"LentiMPRA_K562_Nadav\"\n",
      "[1] \"region\"\n",
      "[1] \"Tewhey_K562_TileMPRA\"\n"
     ]
    }
   ],
   "source": [
    "fdiry  = file.path(\n",
    "    FD_RES, \n",
    "    \"results\"\n",
    ")\n",
    "for(fname in dir(fdiry)){print(fname)}"
   ]
  },
  {
   "cell_type": "markdown",
   "metadata": {},
   "source": [
    "## Get ATAC Peaks screened by ASTARR"
   ]
  },
  {
   "cell_type": "markdown",
   "metadata": {},
   "source": [
    "**Check data files**"
   ]
  },
  {
   "cell_type": "code",
   "execution_count": 3,
   "metadata": {},
   "outputs": [
    {
     "name": "stdout",
     "output_type": "stream",
     "text": [
      "[1] \"matrix.raw.count.WGS.tsv\"\n",
      "[1] \"matrix.raw.cpm.WGS.tsv\"\n",
      "[1] \"metadata.raw.WGS.tsv\"\n",
      "[1] \"result.Log2FC.raw.cpm.WGS.tsv\"\n",
      "[1] \"result.Log2FC.raw.deseq.WGS.tsv\"\n",
      "[1] \"result.score.raw.cpm.WGS.tsv\"\n"
     ]
    }
   ],
   "source": [
    "FOLDER = \"KS91_K562_ASTARRseq\"\n",
    "fdiry  = file.path(\n",
    "    FD_RES, \n",
    "    \"results\",\n",
    "    FOLDER,\n",
    "    \"coverage_astarrseq_peak_macs_input\",\n",
    "    \"summary\"\n",
    ")\n",
    "for(fname in dir(fdiry)){print(fname)}"
   ]
  },
  {
   "cell_type": "markdown",
   "metadata": {},
   "source": [
    "**Import data**"
   ]
  },
  {
   "cell_type": "code",
   "execution_count": 4,
   "metadata": {},
   "outputs": [
    {
     "name": "stdout",
     "output_type": "stream",
     "text": [
      "[1] 246850      7\n"
     ]
    },
    {
     "data": {
      "text/html": [
       "<table class=\"dataframe\">\n",
       "<caption>A tibble: 6 × 7</caption>\n",
       "<thead>\n",
       "\t<tr><th scope=col>Peak</th><th scope=col>baseMean</th><th scope=col>log2FoldChange</th><th scope=col>lfcSE</th><th scope=col>stat</th><th scope=col>pvalue</th><th scope=col>padj</th></tr>\n",
       "\t<tr><th scope=col>&lt;chr&gt;</th><th scope=col>&lt;dbl&gt;</th><th scope=col>&lt;dbl&gt;</th><th scope=col>&lt;dbl&gt;</th><th scope=col>&lt;dbl&gt;</th><th scope=col>&lt;dbl&gt;</th><th scope=col>&lt;dbl&gt;</th></tr>\n",
       "</thead>\n",
       "<tbody>\n",
       "\t<tr><td>chr1:100006256-100006880</td><td> 74.39238</td><td>-0.01311792</td><td>0.15512423</td><td>-0.08456397</td><td>9.326080e-01</td><td>0.9510236543</td></tr>\n",
       "\t<tr><td>chr1:100010437-100010915</td><td> 48.25931</td><td>-0.80687947</td><td>0.22174651</td><td>-3.63874709</td><td>2.739677e-04</td><td>0.0008947519</td></tr>\n",
       "\t<tr><td>chr1:10002087-10003910  </td><td>224.35927</td><td>-0.34892859</td><td>0.09743886</td><td>-3.58100041</td><td>3.422811e-04</td><td>0.0010926173</td></tr>\n",
       "\t<tr><td>chr1:100021298-100021629</td><td> 38.13434</td><td>-1.03799571</td><td>0.25401013</td><td>-4.08643436</td><td>4.380534e-05</td><td>0.0001707736</td></tr>\n",
       "\t<tr><td>chr1:100023727-100023976</td><td> 32.62049</td><td>-0.19100207</td><td>0.25625467</td><td>-0.74536036</td><td>4.560539e-01</td><td>0.5497617125</td></tr>\n",
       "\t<tr><td>chr1:100027983-100029702</td><td>290.98442</td><td>-0.18001582</td><td>0.09610434</td><td>-1.87312902</td><td>6.105057e-02</td><td>0.1032752224</td></tr>\n",
       "</tbody>\n",
       "</table>\n"
      ],
      "text/latex": [
       "A tibble: 6 × 7\n",
       "\\begin{tabular}{lllllll}\n",
       " Peak & baseMean & log2FoldChange & lfcSE & stat & pvalue & padj\\\\\n",
       " <chr> & <dbl> & <dbl> & <dbl> & <dbl> & <dbl> & <dbl>\\\\\n",
       "\\hline\n",
       "\t chr1:100006256-100006880 &  74.39238 & -0.01311792 & 0.15512423 & -0.08456397 & 9.326080e-01 & 0.9510236543\\\\\n",
       "\t chr1:100010437-100010915 &  48.25931 & -0.80687947 & 0.22174651 & -3.63874709 & 2.739677e-04 & 0.0008947519\\\\\n",
       "\t chr1:10002087-10003910   & 224.35927 & -0.34892859 & 0.09743886 & -3.58100041 & 3.422811e-04 & 0.0010926173\\\\\n",
       "\t chr1:100021298-100021629 &  38.13434 & -1.03799571 & 0.25401013 & -4.08643436 & 4.380534e-05 & 0.0001707736\\\\\n",
       "\t chr1:100023727-100023976 &  32.62049 & -0.19100207 & 0.25625467 & -0.74536036 & 4.560539e-01 & 0.5497617125\\\\\n",
       "\t chr1:100027983-100029702 & 290.98442 & -0.18001582 & 0.09610434 & -1.87312902 & 6.105057e-02 & 0.1032752224\\\\\n",
       "\\end{tabular}\n"
      ],
      "text/markdown": [
       "\n",
       "A tibble: 6 × 7\n",
       "\n",
       "| Peak &lt;chr&gt; | baseMean &lt;dbl&gt; | log2FoldChange &lt;dbl&gt; | lfcSE &lt;dbl&gt; | stat &lt;dbl&gt; | pvalue &lt;dbl&gt; | padj &lt;dbl&gt; |\n",
       "|---|---|---|---|---|---|---|\n",
       "| chr1:100006256-100006880 |  74.39238 | -0.01311792 | 0.15512423 | -0.08456397 | 9.326080e-01 | 0.9510236543 |\n",
       "| chr1:100010437-100010915 |  48.25931 | -0.80687947 | 0.22174651 | -3.63874709 | 2.739677e-04 | 0.0008947519 |\n",
       "| chr1:10002087-10003910   | 224.35927 | -0.34892859 | 0.09743886 | -3.58100041 | 3.422811e-04 | 0.0010926173 |\n",
       "| chr1:100021298-100021629 |  38.13434 | -1.03799571 | 0.25401013 | -4.08643436 | 4.380534e-05 | 0.0001707736 |\n",
       "| chr1:100023727-100023976 |  32.62049 | -0.19100207 | 0.25625467 | -0.74536036 | 4.560539e-01 | 0.5497617125 |\n",
       "| chr1:100027983-100029702 | 290.98442 | -0.18001582 | 0.09610434 | -1.87312902 | 6.105057e-02 | 0.1032752224 |\n",
       "\n"
      ],
      "text/plain": [
       "  Peak                     baseMean  log2FoldChange lfcSE      stat       \n",
       "1 chr1:100006256-100006880  74.39238 -0.01311792    0.15512423 -0.08456397\n",
       "2 chr1:100010437-100010915  48.25931 -0.80687947    0.22174651 -3.63874709\n",
       "3 chr1:10002087-10003910   224.35927 -0.34892859    0.09743886 -3.58100041\n",
       "4 chr1:100021298-100021629  38.13434 -1.03799571    0.25401013 -4.08643436\n",
       "5 chr1:100023727-100023976  32.62049 -0.19100207    0.25625467 -0.74536036\n",
       "6 chr1:100027983-100029702 290.98442 -0.18001582    0.09610434 -1.87312902\n",
       "  pvalue       padj        \n",
       "1 9.326080e-01 0.9510236543\n",
       "2 2.739677e-04 0.0008947519\n",
       "3 3.422811e-04 0.0010926173\n",
       "4 4.380534e-05 0.0001707736\n",
       "5 4.560539e-01 0.5497617125\n",
       "6 6.105057e-02 0.1032752224"
      ]
     },
     "metadata": {},
     "output_type": "display_data"
    }
   ],
   "source": [
    "### init\n",
    "FOLDER = \"KS91_K562_ASTARRseq\"\n",
    "\n",
    "### get file path\n",
    "fdiry  = file.path(\n",
    "    FD_RES, \n",
    "    \"results\",\n",
    "    FOLDER,\n",
    "    \"coverage_astarrseq_peak_macs_input\",\n",
    "    \"summary\"\n",
    ")\n",
    "fname = \"result.Log2FC.raw.deseq.WGS.tsv\"\n",
    "fpath = file.path(fdiry, fname)\n",
    "\n",
    "### read table\n",
    "dat = read_tsv(fpath, show_col_types = FALSE)\n",
    "\n",
    "### assign and show\n",
    "dat_peak_screened_astarr = dat\n",
    "print(dim(dat))\n",
    "head(dat)"
   ]
  },
  {
   "cell_type": "markdown",
   "metadata": {},
   "source": [
    "## Get ATAC Peaks screened by WSTARR"
   ]
  },
  {
   "cell_type": "markdown",
   "metadata": {},
   "source": [
    "**Check data files**"
   ]
  },
  {
   "cell_type": "code",
   "execution_count": 5,
   "metadata": {},
   "outputs": [
    {
     "name": "stdout",
     "output_type": "stream",
     "text": [
      "[1] \"matrix.raw.count.WGS.tsv\"\n",
      "[1] \"matrix.raw.cpm.WGS.tsv\"\n",
      "[1] \"metadata.raw.WGS.tsv\"\n",
      "[1] \"result.Log2FC.raw.cpm.WGS.tsv\"\n",
      "[1] \"result.Log2FC.raw.deseq.WGS.tsv\"\n"
     ]
    }
   ],
   "source": [
    "FOLDER = \"A001_K562_WSTARRseq\"\n",
    "fdiry  = file.path(\n",
    "    FD_RES, \n",
    "    \"results\",\n",
    "    FOLDER,\n",
    "    \"coverage_astarrseq_peak_macs_input\",\n",
    "    \"summary\"\n",
    ")\n",
    "for(fname in dir(fdiry)){print(fname)}"
   ]
  },
  {
   "cell_type": "markdown",
   "metadata": {},
   "source": [
    "**Import data**"
   ]
  },
  {
   "cell_type": "code",
   "execution_count": 6,
   "metadata": {},
   "outputs": [
    {
     "name": "stdout",
     "output_type": "stream",
     "text": [
      "[1] 246688      7\n"
     ]
    },
    {
     "data": {
      "text/html": [
       "<table class=\"dataframe\">\n",
       "<caption>A tibble: 6 × 7</caption>\n",
       "<thead>\n",
       "\t<tr><th scope=col>Peak</th><th scope=col>baseMean</th><th scope=col>log2FoldChange</th><th scope=col>lfcSE</th><th scope=col>stat</th><th scope=col>pvalue</th><th scope=col>padj</th></tr>\n",
       "\t<tr><th scope=col>&lt;chr&gt;</th><th scope=col>&lt;dbl&gt;</th><th scope=col>&lt;dbl&gt;</th><th scope=col>&lt;dbl&gt;</th><th scope=col>&lt;dbl&gt;</th><th scope=col>&lt;dbl&gt;</th><th scope=col>&lt;dbl&gt;</th></tr>\n",
       "</thead>\n",
       "<tbody>\n",
       "\t<tr><td>chr1:100006256-100006880</td><td>54.500445</td><td>-0.48849764</td><td>0.1997784</td><td>-2.4451969</td><td>0.01447731</td><td>0.09534129</td></tr>\n",
       "\t<tr><td>chr1:100010437-100010915</td><td>30.645878</td><td>-0.30895395</td><td>0.2528932</td><td>-1.2216777</td><td>0.22182954</td><td>0.50094986</td></tr>\n",
       "\t<tr><td>chr1:10002087-10003910  </td><td>66.045530</td><td>-0.38624192</td><td>0.1730120</td><td>-2.2324569</td><td>0.02558478</td><td>0.14019267</td></tr>\n",
       "\t<tr><td>chr1:100021298-100021629</td><td> 8.289442</td><td>-0.59404974</td><td>0.4799400</td><td>-1.2377583</td><td>0.21580568</td><td>        NA</td></tr>\n",
       "\t<tr><td>chr1:100023727-100023976</td><td>12.258468</td><td> 0.04988694</td><td>0.4075494</td><td> 0.1224071</td><td>0.90257663</td><td>0.96366009</td></tr>\n",
       "\t<tr><td>chr1:100027983-100029702</td><td>80.536286</td><td>-0.22927538</td><td>0.1665249</td><td>-1.3768236</td><td>0.16856680</td><td>0.43305688</td></tr>\n",
       "</tbody>\n",
       "</table>\n"
      ],
      "text/latex": [
       "A tibble: 6 × 7\n",
       "\\begin{tabular}{lllllll}\n",
       " Peak & baseMean & log2FoldChange & lfcSE & stat & pvalue & padj\\\\\n",
       " <chr> & <dbl> & <dbl> & <dbl> & <dbl> & <dbl> & <dbl>\\\\\n",
       "\\hline\n",
       "\t chr1:100006256-100006880 & 54.500445 & -0.48849764 & 0.1997784 & -2.4451969 & 0.01447731 & 0.09534129\\\\\n",
       "\t chr1:100010437-100010915 & 30.645878 & -0.30895395 & 0.2528932 & -1.2216777 & 0.22182954 & 0.50094986\\\\\n",
       "\t chr1:10002087-10003910   & 66.045530 & -0.38624192 & 0.1730120 & -2.2324569 & 0.02558478 & 0.14019267\\\\\n",
       "\t chr1:100021298-100021629 &  8.289442 & -0.59404974 & 0.4799400 & -1.2377583 & 0.21580568 &         NA\\\\\n",
       "\t chr1:100023727-100023976 & 12.258468 &  0.04988694 & 0.4075494 &  0.1224071 & 0.90257663 & 0.96366009\\\\\n",
       "\t chr1:100027983-100029702 & 80.536286 & -0.22927538 & 0.1665249 & -1.3768236 & 0.16856680 & 0.43305688\\\\\n",
       "\\end{tabular}\n"
      ],
      "text/markdown": [
       "\n",
       "A tibble: 6 × 7\n",
       "\n",
       "| Peak &lt;chr&gt; | baseMean &lt;dbl&gt; | log2FoldChange &lt;dbl&gt; | lfcSE &lt;dbl&gt; | stat &lt;dbl&gt; | pvalue &lt;dbl&gt; | padj &lt;dbl&gt; |\n",
       "|---|---|---|---|---|---|---|\n",
       "| chr1:100006256-100006880 | 54.500445 | -0.48849764 | 0.1997784 | -2.4451969 | 0.01447731 | 0.09534129 |\n",
       "| chr1:100010437-100010915 | 30.645878 | -0.30895395 | 0.2528932 | -1.2216777 | 0.22182954 | 0.50094986 |\n",
       "| chr1:10002087-10003910   | 66.045530 | -0.38624192 | 0.1730120 | -2.2324569 | 0.02558478 | 0.14019267 |\n",
       "| chr1:100021298-100021629 |  8.289442 | -0.59404974 | 0.4799400 | -1.2377583 | 0.21580568 |         NA |\n",
       "| chr1:100023727-100023976 | 12.258468 |  0.04988694 | 0.4075494 |  0.1224071 | 0.90257663 | 0.96366009 |\n",
       "| chr1:100027983-100029702 | 80.536286 | -0.22927538 | 0.1665249 | -1.3768236 | 0.16856680 | 0.43305688 |\n",
       "\n"
      ],
      "text/plain": [
       "  Peak                     baseMean  log2FoldChange lfcSE     stat      \n",
       "1 chr1:100006256-100006880 54.500445 -0.48849764    0.1997784 -2.4451969\n",
       "2 chr1:100010437-100010915 30.645878 -0.30895395    0.2528932 -1.2216777\n",
       "3 chr1:10002087-10003910   66.045530 -0.38624192    0.1730120 -2.2324569\n",
       "4 chr1:100021298-100021629  8.289442 -0.59404974    0.4799400 -1.2377583\n",
       "5 chr1:100023727-100023976 12.258468  0.04988694    0.4075494  0.1224071\n",
       "6 chr1:100027983-100029702 80.536286 -0.22927538    0.1665249 -1.3768236\n",
       "  pvalue     padj      \n",
       "1 0.01447731 0.09534129\n",
       "2 0.22182954 0.50094986\n",
       "3 0.02558478 0.14019267\n",
       "4 0.21580568         NA\n",
       "5 0.90257663 0.96366009\n",
       "6 0.16856680 0.43305688"
      ]
     },
     "metadata": {},
     "output_type": "display_data"
    }
   ],
   "source": [
    "### init\n",
    "FOLDER = \"A001_K562_WSTARRseq\"\n",
    "\n",
    "### get file path\n",
    "fdiry  = file.path(\n",
    "    FD_RES, \n",
    "    \"results\",\n",
    "    FOLDER,\n",
    "    \"coverage_astarrseq_peak_macs_input\",\n",
    "    \"summary\"\n",
    ")\n",
    "fname = \"result.Log2FC.raw.deseq.WGS.tsv\"\n",
    "fpath = file.path(fdiry, fname)\n",
    "\n",
    "### read table\n",
    "dat = read_tsv(fpath, show_col_types = FALSE)\n",
    "\n",
    "### assign and show\n",
    "dat_peak_screened_wstarr = dat\n",
    "print(dim(dat))\n",
    "head(dat)"
   ]
  },
  {
   "cell_type": "markdown",
   "metadata": {},
   "source": [
    "## Get ATAC Peaks screened by TMPRA"
   ]
  },
  {
   "cell_type": "markdown",
   "metadata": {},
   "source": [
    "**Check data files**"
   ]
  },
  {
   "cell_type": "code",
   "execution_count": 7,
   "metadata": {},
   "outputs": [
    {
     "name": "stdout",
     "output_type": "stream",
     "text": [
      "[1] \"matrix.raw.count.OL13_20220512.tsv\"\n",
      "[1] \"matrix.raw.count.OL43_20221003.tsv\"\n",
      "[1] \"matrix.raw.count.OL45_20220927.tsv\"\n",
      "[1] \"matrix.raw.cpm.OL13_20220512.tsv\"\n",
      "[1] \"matrix.raw.cpm.OL43_20221003.tsv\"\n",
      "[1] \"matrix.raw.cpm.OL45_20220927.tsv\"\n",
      "[1] \"metadata.raw.OL13_20220512.tsv\"\n",
      "[1] \"metadata.raw.OL43_20221003.tsv\"\n",
      "[1] \"metadata.raw.OL45_20220927.tsv\"\n",
      "[1] \"result.Log2FC.raw.cpm.Merge.tsv\"\n",
      "[1] \"result.Log2FC.raw.cpm.OL13_20220512.tsv\"\n",
      "[1] \"result.Log2FC.raw.cpm.OL43_20221003.tsv\"\n",
      "[1] \"result.Log2FC.raw.cpm.OL45_20220927.tsv\"\n",
      "[1] \"result.Log2FC.raw.deseq.Merge.tsv\"\n",
      "[1] \"result.Log2FC.raw.deseq.OL13_20220512.tsv\"\n",
      "[1] \"result.Log2FC.raw.deseq.OL43_20221003.tsv\"\n",
      "[1] \"result.Log2FC.raw.deseq.OL45_20220927.tsv\"\n"
     ]
    }
   ],
   "source": [
    "FOLDER = \"Tewhey_K562_TileMPRA\"\n",
    "fdiry  = file.path(\n",
    "    FD_RES, \n",
    "    \"results\",\n",
    "    FOLDER,\n",
    "    \"coverage_astarrseq_peak_macs_input\",\n",
    "    \"summary\"\n",
    ")\n",
    "for(fname in dir(fdiry)){print(fname)}"
   ]
  },
  {
   "cell_type": "markdown",
   "metadata": {},
   "source": [
    "**Import data**"
   ]
  },
  {
   "cell_type": "code",
   "execution_count": 8,
   "metadata": {},
   "outputs": [
    {
     "name": "stdout",
     "output_type": "stream",
     "text": [
      "[1] 1722    8\n"
     ]
    },
    {
     "data": {
      "text/html": [
       "<table class=\"dataframe\">\n",
       "<caption>A tibble: 6 × 8</caption>\n",
       "<thead>\n",
       "\t<tr><th scope=col>Dataset</th><th scope=col>Peak</th><th scope=col>baseMean</th><th scope=col>log2FoldChange</th><th scope=col>lfcSE</th><th scope=col>stat</th><th scope=col>pvalue</th><th scope=col>padj</th></tr>\n",
       "\t<tr><th scope=col>&lt;chr&gt;</th><th scope=col>&lt;chr&gt;</th><th scope=col>&lt;dbl&gt;</th><th scope=col>&lt;dbl&gt;</th><th scope=col>&lt;dbl&gt;</th><th scope=col>&lt;dbl&gt;</th><th scope=col>&lt;dbl&gt;</th><th scope=col>&lt;dbl&gt;</th></tr>\n",
       "</thead>\n",
       "<tbody>\n",
       "\t<tr><td>OL13</td><td>chr11:61792068-61793464</td><td>260242.12</td><td> 1.6665654</td><td>0.03671583</td><td> 45.390919</td><td>0.000000e+00</td><td>0.000000e+00</td></tr>\n",
       "\t<tr><td>OL13</td><td>chr11:61800085-61801113</td><td>216437.58</td><td> 1.8554038</td><td>0.04389284</td><td> 42.271214</td><td>0.000000e+00</td><td>0.000000e+00</td></tr>\n",
       "\t<tr><td>OL13</td><td>chr11:61806630-61807154</td><td> 49327.33</td><td>-1.3562271</td><td>0.07733082</td><td>-17.537989</td><td>7.348170e-69</td><td>1.347165e-68</td></tr>\n",
       "\t<tr><td>OL13</td><td>chr11:61814735-61817343</td><td>682819.52</td><td> 2.5310145</td><td>0.03600593</td><td> 70.294376</td><td>0.000000e+00</td><td>0.000000e+00</td></tr>\n",
       "\t<tr><td>OL13</td><td>chr11:61822094-61822443</td><td> 20363.10</td><td>-1.7731459</td><td>0.16511332</td><td>-10.738963</td><td>6.679004e-27</td><td>8.163227e-27</td></tr>\n",
       "\t<tr><td>OL13</td><td>chr11:61825795-61826306</td><td> 29539.40</td><td>-0.3921375</td><td>0.05359585</td><td> -7.316565</td><td>2.543988e-13</td><td>2.665130e-13</td></tr>\n",
       "</tbody>\n",
       "</table>\n"
      ],
      "text/latex": [
       "A tibble: 6 × 8\n",
       "\\begin{tabular}{llllllll}\n",
       " Dataset & Peak & baseMean & log2FoldChange & lfcSE & stat & pvalue & padj\\\\\n",
       " <chr> & <chr> & <dbl> & <dbl> & <dbl> & <dbl> & <dbl> & <dbl>\\\\\n",
       "\\hline\n",
       "\t OL13 & chr11:61792068-61793464 & 260242.12 &  1.6665654 & 0.03671583 &  45.390919 & 0.000000e+00 & 0.000000e+00\\\\\n",
       "\t OL13 & chr11:61800085-61801113 & 216437.58 &  1.8554038 & 0.04389284 &  42.271214 & 0.000000e+00 & 0.000000e+00\\\\\n",
       "\t OL13 & chr11:61806630-61807154 &  49327.33 & -1.3562271 & 0.07733082 & -17.537989 & 7.348170e-69 & 1.347165e-68\\\\\n",
       "\t OL13 & chr11:61814735-61817343 & 682819.52 &  2.5310145 & 0.03600593 &  70.294376 & 0.000000e+00 & 0.000000e+00\\\\\n",
       "\t OL13 & chr11:61822094-61822443 &  20363.10 & -1.7731459 & 0.16511332 & -10.738963 & 6.679004e-27 & 8.163227e-27\\\\\n",
       "\t OL13 & chr11:61825795-61826306 &  29539.40 & -0.3921375 & 0.05359585 &  -7.316565 & 2.543988e-13 & 2.665130e-13\\\\\n",
       "\\end{tabular}\n"
      ],
      "text/markdown": [
       "\n",
       "A tibble: 6 × 8\n",
       "\n",
       "| Dataset &lt;chr&gt; | Peak &lt;chr&gt; | baseMean &lt;dbl&gt; | log2FoldChange &lt;dbl&gt; | lfcSE &lt;dbl&gt; | stat &lt;dbl&gt; | pvalue &lt;dbl&gt; | padj &lt;dbl&gt; |\n",
       "|---|---|---|---|---|---|---|---|\n",
       "| OL13 | chr11:61792068-61793464 | 260242.12 |  1.6665654 | 0.03671583 |  45.390919 | 0.000000e+00 | 0.000000e+00 |\n",
       "| OL13 | chr11:61800085-61801113 | 216437.58 |  1.8554038 | 0.04389284 |  42.271214 | 0.000000e+00 | 0.000000e+00 |\n",
       "| OL13 | chr11:61806630-61807154 |  49327.33 | -1.3562271 | 0.07733082 | -17.537989 | 7.348170e-69 | 1.347165e-68 |\n",
       "| OL13 | chr11:61814735-61817343 | 682819.52 |  2.5310145 | 0.03600593 |  70.294376 | 0.000000e+00 | 0.000000e+00 |\n",
       "| OL13 | chr11:61822094-61822443 |  20363.10 | -1.7731459 | 0.16511332 | -10.738963 | 6.679004e-27 | 8.163227e-27 |\n",
       "| OL13 | chr11:61825795-61826306 |  29539.40 | -0.3921375 | 0.05359585 |  -7.316565 | 2.543988e-13 | 2.665130e-13 |\n",
       "\n"
      ],
      "text/plain": [
       "  Dataset Peak                    baseMean  log2FoldChange lfcSE     \n",
       "1 OL13    chr11:61792068-61793464 260242.12  1.6665654     0.03671583\n",
       "2 OL13    chr11:61800085-61801113 216437.58  1.8554038     0.04389284\n",
       "3 OL13    chr11:61806630-61807154  49327.33 -1.3562271     0.07733082\n",
       "4 OL13    chr11:61814735-61817343 682819.52  2.5310145     0.03600593\n",
       "5 OL13    chr11:61822094-61822443  20363.10 -1.7731459     0.16511332\n",
       "6 OL13    chr11:61825795-61826306  29539.40 -0.3921375     0.05359585\n",
       "  stat       pvalue       padj        \n",
       "1  45.390919 0.000000e+00 0.000000e+00\n",
       "2  42.271214 0.000000e+00 0.000000e+00\n",
       "3 -17.537989 7.348170e-69 1.347165e-68\n",
       "4  70.294376 0.000000e+00 0.000000e+00\n",
       "5 -10.738963 6.679004e-27 8.163227e-27\n",
       "6  -7.316565 2.543988e-13 2.665130e-13"
      ]
     },
     "metadata": {},
     "output_type": "display_data"
    }
   ],
   "source": [
    "### init\n",
    "FOLDER = \"Tewhey_K562_TileMPRA\"\n",
    "\n",
    "### get file path\n",
    "fdiry  = file.path(\n",
    "    FD_RES, \n",
    "    \"results\",\n",
    "    FOLDER,\n",
    "    \"coverage_astarrseq_peak_macs_input\",\n",
    "    \"summary\"\n",
    ")\n",
    "fname = \"result.Log2FC.raw.deseq.Merge.tsv\"\n",
    "fpath = file.path(fdiry, fname)\n",
    "\n",
    "### read table\n",
    "dat = read_tsv(fpath, show_col_types = FALSE)\n",
    "\n",
    "### assign and show\n",
    "dat_peak_screened_tmpra = dat\n",
    "print(dim(dat))\n",
    "head(dat)"
   ]
  },
  {
   "cell_type": "markdown",
   "metadata": {},
   "source": [
    "## Get ATAC Peaks screened by LMPRA"
   ]
  },
  {
   "cell_type": "markdown",
   "metadata": {},
   "source": [
    "**Check data files**"
   ]
  },
  {
   "cell_type": "code",
   "execution_count": 9,
   "metadata": {},
   "outputs": [
    {
     "name": "stdout",
     "output_type": "stream",
     "text": [
      "[1] \"results.score.ENCSR382BVV.ENCFF348WYK.tsv\"\n",
      "[1] \"results.score.tsv\"\n",
      "[1] \"results.score.vikram230621.tsv\"\n",
      "[1] \"results.summary.ENCSR382BVV.ENCFF348WYK.tsv\"\n",
      "[1] \"results.summary.tsv\"\n",
      "[1] \"results.summary.vikram230621.tsv\"\n"
     ]
    }
   ],
   "source": [
    "FOLDER = \"LentiMPRA_K562_Nadav\"\n",
    "fdiry  = file.path(\n",
    "    FD_RES, \n",
    "    \"results\",\n",
    "    FOLDER,\n",
    "    \"coverage_astarrseq_peak_macs_input\",\n",
    "    \"summary\"\n",
    ")\n",
    "for(fname in dir(fdiry)){print(fname)}"
   ]
  },
  {
   "cell_type": "markdown",
   "metadata": {},
   "source": [
    "**Import data**"
   ]
  },
  {
   "cell_type": "code",
   "execution_count": 10,
   "metadata": {},
   "outputs": [
    {
     "name": "stdout",
     "output_type": "stream",
     "text": [
      "[1] 68420     8\n"
     ]
    },
    {
     "data": {
      "text/html": [
       "<table class=\"dataframe\">\n",
       "<caption>A tibble: 6 × 8</caption>\n",
       "<thead>\n",
       "\t<tr><th scope=col>Peak</th><th scope=col>Mean</th><th scope=col>Median</th><th scope=col>Max</th><th scope=col>Min</th><th scope=col>Count</th><th scope=col>Mean_Neg</th><th scope=col>Mean_Pos</th></tr>\n",
       "\t<tr><th scope=col>&lt;chr&gt;</th><th scope=col>&lt;dbl&gt;</th><th scope=col>&lt;dbl&gt;</th><th scope=col>&lt;dbl&gt;</th><th scope=col>&lt;dbl&gt;</th><th scope=col>&lt;dbl&gt;</th><th scope=col>&lt;dbl&gt;</th><th scope=col>&lt;dbl&gt;</th></tr>\n",
       "</thead>\n",
       "<tbody>\n",
       "\t<tr><td>chr10:100045961-100046653</td><td>1.35946554</td><td>1.35946554</td><td>1.4810917</td><td> 1.23783940</td><td>2</td><td> 0.0000000</td><td>1.3594655</td></tr>\n",
       "\t<tr><td>chr10:100065094-100065486</td><td>1.07264569</td><td>1.07264569</td><td>1.3503890</td><td> 0.79490241</td><td>2</td><td> 0.0000000</td><td>1.0726457</td></tr>\n",
       "\t<tr><td>chr10:100081317-100081607</td><td>0.08511404</td><td>0.08511404</td><td>0.7150285</td><td>-0.54480044</td><td>2</td><td>-0.5448004</td><td>0.7150285</td></tr>\n",
       "\t<tr><td>chr10:100129051-100131059</td><td>0.21944739</td><td>0.21944739</td><td>0.2611997</td><td> 0.17769514</td><td>2</td><td> 0.0000000</td><td>0.2194474</td></tr>\n",
       "\t<tr><td>chr10:100185017-100187275</td><td>0.59521771</td><td>0.59521771</td><td>1.1724880</td><td> 0.01794737</td><td>2</td><td> 0.0000000</td><td>0.5952177</td></tr>\n",
       "\t<tr><td>chr10:100228452-100230090</td><td>5.54013719</td><td>5.54013719</td><td>6.0266418</td><td> 5.05363263</td><td>2</td><td> 0.0000000</td><td>5.5401372</td></tr>\n",
       "</tbody>\n",
       "</table>\n"
      ],
      "text/latex": [
       "A tibble: 6 × 8\n",
       "\\begin{tabular}{llllllll}\n",
       " Peak & Mean & Median & Max & Min & Count & Mean\\_Neg & Mean\\_Pos\\\\\n",
       " <chr> & <dbl> & <dbl> & <dbl> & <dbl> & <dbl> & <dbl> & <dbl>\\\\\n",
       "\\hline\n",
       "\t chr10:100045961-100046653 & 1.35946554 & 1.35946554 & 1.4810917 &  1.23783940 & 2 &  0.0000000 & 1.3594655\\\\\n",
       "\t chr10:100065094-100065486 & 1.07264569 & 1.07264569 & 1.3503890 &  0.79490241 & 2 &  0.0000000 & 1.0726457\\\\\n",
       "\t chr10:100081317-100081607 & 0.08511404 & 0.08511404 & 0.7150285 & -0.54480044 & 2 & -0.5448004 & 0.7150285\\\\\n",
       "\t chr10:100129051-100131059 & 0.21944739 & 0.21944739 & 0.2611997 &  0.17769514 & 2 &  0.0000000 & 0.2194474\\\\\n",
       "\t chr10:100185017-100187275 & 0.59521771 & 0.59521771 & 1.1724880 &  0.01794737 & 2 &  0.0000000 & 0.5952177\\\\\n",
       "\t chr10:100228452-100230090 & 5.54013719 & 5.54013719 & 6.0266418 &  5.05363263 & 2 &  0.0000000 & 5.5401372\\\\\n",
       "\\end{tabular}\n"
      ],
      "text/markdown": [
       "\n",
       "A tibble: 6 × 8\n",
       "\n",
       "| Peak &lt;chr&gt; | Mean &lt;dbl&gt; | Median &lt;dbl&gt; | Max &lt;dbl&gt; | Min &lt;dbl&gt; | Count &lt;dbl&gt; | Mean_Neg &lt;dbl&gt; | Mean_Pos &lt;dbl&gt; |\n",
       "|---|---|---|---|---|---|---|---|\n",
       "| chr10:100045961-100046653 | 1.35946554 | 1.35946554 | 1.4810917 |  1.23783940 | 2 |  0.0000000 | 1.3594655 |\n",
       "| chr10:100065094-100065486 | 1.07264569 | 1.07264569 | 1.3503890 |  0.79490241 | 2 |  0.0000000 | 1.0726457 |\n",
       "| chr10:100081317-100081607 | 0.08511404 | 0.08511404 | 0.7150285 | -0.54480044 | 2 | -0.5448004 | 0.7150285 |\n",
       "| chr10:100129051-100131059 | 0.21944739 | 0.21944739 | 0.2611997 |  0.17769514 | 2 |  0.0000000 | 0.2194474 |\n",
       "| chr10:100185017-100187275 | 0.59521771 | 0.59521771 | 1.1724880 |  0.01794737 | 2 |  0.0000000 | 0.5952177 |\n",
       "| chr10:100228452-100230090 | 5.54013719 | 5.54013719 | 6.0266418 |  5.05363263 | 2 |  0.0000000 | 5.5401372 |\n",
       "\n"
      ],
      "text/plain": [
       "  Peak                      Mean       Median     Max       Min         Count\n",
       "1 chr10:100045961-100046653 1.35946554 1.35946554 1.4810917  1.23783940 2    \n",
       "2 chr10:100065094-100065486 1.07264569 1.07264569 1.3503890  0.79490241 2    \n",
       "3 chr10:100081317-100081607 0.08511404 0.08511404 0.7150285 -0.54480044 2    \n",
       "4 chr10:100129051-100131059 0.21944739 0.21944739 0.2611997  0.17769514 2    \n",
       "5 chr10:100185017-100187275 0.59521771 0.59521771 1.1724880  0.01794737 2    \n",
       "6 chr10:100228452-100230090 5.54013719 5.54013719 6.0266418  5.05363263 2    \n",
       "  Mean_Neg   Mean_Pos \n",
       "1  0.0000000 1.3594655\n",
       "2  0.0000000 1.0726457\n",
       "3 -0.5448004 0.7150285\n",
       "4  0.0000000 0.2194474\n",
       "5  0.0000000 0.5952177\n",
       "6  0.0000000 5.5401372"
      ]
     },
     "metadata": {},
     "output_type": "display_data"
    }
   ],
   "source": [
    "### init\n",
    "FOLDER = \"LentiMPRA_K562_Nadav\"\n",
    "\n",
    "### get file path\n",
    "fdiry  = file.path(\n",
    "    FD_RES, \n",
    "    \"results\",\n",
    "    FOLDER,\n",
    "    \"coverage_astarrseq_peak_macs_input\",\n",
    "    \"summary\"\n",
    ")\n",
    "fname = \"results.summary.vikram230621.tsv\"\n",
    "fpath = file.path(fdiry, fname)\n",
    "\n",
    "### read table\n",
    "dat = read_tsv(fpath, show_col_types = FALSE)\n",
    "\n",
    "### assign and show\n",
    "dat_peak_screened_lmpra = dat\n",
    "print(dim(dat))\n",
    "head(dat)"
   ]
  },
  {
   "cell_type": "markdown",
   "metadata": {},
   "source": [
    "## Get ATAC Peaks screened by CRISPRi-HCRFF"
   ]
  },
  {
   "cell_type": "markdown",
   "metadata": {},
   "source": [
    "**Check data files**"
   ]
  },
  {
   "cell_type": "code",
   "execution_count": 11,
   "metadata": {},
   "outputs": [
    {
     "name": "stdout",
     "output_type": "stream",
     "text": [
      "[1] \"results.score.tsv\"\n",
      "[1] \"results.summary.Merge.tsv\"\n",
      "[1] \"results.summary.tsv\"\n"
     ]
    }
   ],
   "source": [
    "FOLDER = \"CRISPRi_FlowFISH\"\n",
    "fdiry  = file.path(\n",
    "    FD_RES, \n",
    "    \"results\",\n",
    "    FOLDER,\n",
    "    \"coverage_astarrseq_peak_macs_input\",\n",
    "    \"summary\"\n",
    ")\n",
    "for(fname in dir(fdiry)){print(fname)}"
   ]
  },
  {
   "cell_type": "markdown",
   "metadata": {},
   "source": [
    "**Import data**"
   ]
  },
  {
   "cell_type": "code",
   "execution_count": 12,
   "metadata": {},
   "outputs": [
    {
     "name": "stdout",
     "output_type": "stream",
     "text": [
      "[1] 1330    6\n"
     ]
    },
    {
     "data": {
      "text/html": [
       "<table class=\"dataframe\">\n",
       "<caption>A tibble: 6 × 6</caption>\n",
       "<thead>\n",
       "\t<tr><th scope=col>Peak</th><th scope=col>Mean_Tot</th><th scope=col>Mean_Pos</th><th scope=col>Mean_Neg</th><th scope=col>Count</th><th scope=col>Note</th></tr>\n",
       "\t<tr><th scope=col>&lt;chr&gt;</th><th scope=col>&lt;dbl&gt;</th><th scope=col>&lt;dbl&gt;</th><th scope=col>&lt;dbl&gt;</th><th scope=col>&lt;dbl&gt;</th><th scope=col>&lt;chr&gt;</th></tr>\n",
       "</thead>\n",
       "<tbody>\n",
       "\t<tr><td>chr11:33065336-33066228</td><td>-0.08308383</td><td>0.03675483</td><td>-0.2734393</td><td>138</td><td>CAPRIN1:138|CAT:138|LMO2:138</td></tr>\n",
       "\t<tr><td>chr11:33068519-33069100</td><td>-0.12006903</td><td>0.00000000</td><td>-0.1593220</td><td>159</td><td>CAPRIN1:159|CAT:159|LMO2:159</td></tr>\n",
       "\t<tr><td>chr11:33072412-33072630</td><td> 0.10643558</td><td>0.35299267</td><td>-0.1982723</td><td> 36</td><td>CAPRIN1:36|CAT:36|LMO2:36   </td></tr>\n",
       "\t<tr><td>chr11:33103533-33104120</td><td> 0.98158422</td><td>1.44209600</td><td> 0.0000000</td><td>  9</td><td>CAPRIN1:9|CAT:9|LMO2:9      </td></tr>\n",
       "\t<tr><td>chr11:33114629-33115134</td><td> 0.22095793</td><td>0.42649733</td><td> 0.0000000</td><td> 27</td><td>CAPRIN1:27|CAT:27|LMO2:27   </td></tr>\n",
       "\t<tr><td>chr11:33125296-33126416</td><td>-0.05128921</td><td>0.04323581</td><td>-0.1542515</td><td>159</td><td>CAPRIN1:159|CAT:159|LMO2:159</td></tr>\n",
       "</tbody>\n",
       "</table>\n"
      ],
      "text/latex": [
       "A tibble: 6 × 6\n",
       "\\begin{tabular}{llllll}\n",
       " Peak & Mean\\_Tot & Mean\\_Pos & Mean\\_Neg & Count & Note\\\\\n",
       " <chr> & <dbl> & <dbl> & <dbl> & <dbl> & <chr>\\\\\n",
       "\\hline\n",
       "\t chr11:33065336-33066228 & -0.08308383 & 0.03675483 & -0.2734393 & 138 & CAPRIN1:138\\textbar{}CAT:138\\textbar{}LMO2:138\\\\\n",
       "\t chr11:33068519-33069100 & -0.12006903 & 0.00000000 & -0.1593220 & 159 & CAPRIN1:159\\textbar{}CAT:159\\textbar{}LMO2:159\\\\\n",
       "\t chr11:33072412-33072630 &  0.10643558 & 0.35299267 & -0.1982723 &  36 & CAPRIN1:36\\textbar{}CAT:36\\textbar{}LMO2:36   \\\\\n",
       "\t chr11:33103533-33104120 &  0.98158422 & 1.44209600 &  0.0000000 &   9 & CAPRIN1:9\\textbar{}CAT:9\\textbar{}LMO2:9      \\\\\n",
       "\t chr11:33114629-33115134 &  0.22095793 & 0.42649733 &  0.0000000 &  27 & CAPRIN1:27\\textbar{}CAT:27\\textbar{}LMO2:27   \\\\\n",
       "\t chr11:33125296-33126416 & -0.05128921 & 0.04323581 & -0.1542515 & 159 & CAPRIN1:159\\textbar{}CAT:159\\textbar{}LMO2:159\\\\\n",
       "\\end{tabular}\n"
      ],
      "text/markdown": [
       "\n",
       "A tibble: 6 × 6\n",
       "\n",
       "| Peak &lt;chr&gt; | Mean_Tot &lt;dbl&gt; | Mean_Pos &lt;dbl&gt; | Mean_Neg &lt;dbl&gt; | Count &lt;dbl&gt; | Note &lt;chr&gt; |\n",
       "|---|---|---|---|---|---|\n",
       "| chr11:33065336-33066228 | -0.08308383 | 0.03675483 | -0.2734393 | 138 | CAPRIN1:138|CAT:138|LMO2:138 |\n",
       "| chr11:33068519-33069100 | -0.12006903 | 0.00000000 | -0.1593220 | 159 | CAPRIN1:159|CAT:159|LMO2:159 |\n",
       "| chr11:33072412-33072630 |  0.10643558 | 0.35299267 | -0.1982723 |  36 | CAPRIN1:36|CAT:36|LMO2:36    |\n",
       "| chr11:33103533-33104120 |  0.98158422 | 1.44209600 |  0.0000000 |   9 | CAPRIN1:9|CAT:9|LMO2:9       |\n",
       "| chr11:33114629-33115134 |  0.22095793 | 0.42649733 |  0.0000000 |  27 | CAPRIN1:27|CAT:27|LMO2:27    |\n",
       "| chr11:33125296-33126416 | -0.05128921 | 0.04323581 | -0.1542515 | 159 | CAPRIN1:159|CAT:159|LMO2:159 |\n",
       "\n"
      ],
      "text/plain": [
       "  Peak                    Mean_Tot    Mean_Pos   Mean_Neg   Count\n",
       "1 chr11:33065336-33066228 -0.08308383 0.03675483 -0.2734393 138  \n",
       "2 chr11:33068519-33069100 -0.12006903 0.00000000 -0.1593220 159  \n",
       "3 chr11:33072412-33072630  0.10643558 0.35299267 -0.1982723  36  \n",
       "4 chr11:33103533-33104120  0.98158422 1.44209600  0.0000000   9  \n",
       "5 chr11:33114629-33115134  0.22095793 0.42649733  0.0000000  27  \n",
       "6 chr11:33125296-33126416 -0.05128921 0.04323581 -0.1542515 159  \n",
       "  Note                        \n",
       "1 CAPRIN1:138|CAT:138|LMO2:138\n",
       "2 CAPRIN1:159|CAT:159|LMO2:159\n",
       "3 CAPRIN1:36|CAT:36|LMO2:36   \n",
       "4 CAPRIN1:9|CAT:9|LMO2:9      \n",
       "5 CAPRIN1:27|CAT:27|LMO2:27   \n",
       "6 CAPRIN1:159|CAT:159|LMO2:159"
      ]
     },
     "metadata": {},
     "output_type": "display_data"
    }
   ],
   "source": [
    "### init\n",
    "FOLDER = \"CRISPRi_FlowFISH\"\n",
    "\n",
    "### get file path\n",
    "fdiry  = file.path(\n",
    "    FD_RES, \n",
    "    \"results\",\n",
    "    FOLDER,\n",
    "    \"coverage_astarrseq_peak_macs_input\",\n",
    "    \"summary\"\n",
    ")\n",
    "fname = \"results.summary.Merge.tsv\"\n",
    "fpath = file.path(fdiry, fname)\n",
    "\n",
    "### read table\n",
    "dat = read_tsv(fpath, show_col_types = FALSE)\n",
    "\n",
    "### assign and show\n",
    "dat_peak_screened_crispri_hcrff = dat\n",
    "print(dim(dat))\n",
    "head(dat)"
   ]
  },
  {
   "cell_type": "markdown",
   "metadata": {},
   "source": [
    "## Get ATAC Peaks screened by CRISPRi-Growth"
   ]
  },
  {
   "cell_type": "markdown",
   "metadata": {},
   "source": [
    "**Check data files**"
   ]
  },
  {
   "cell_type": "code",
   "execution_count": 13,
   "metadata": {},
   "outputs": [
    {
     "name": "stdout",
     "output_type": "stream",
     "text": [
      "[1] \"results.score.tsv\"\n",
      "[1] \"results.summary.tsv\"\n"
     ]
    }
   ],
   "source": [
    "FOLDER = \"CRISPRi_Growth_K562_Gersbach\"\n",
    "fdiry  = file.path(\n",
    "    FD_RES, \n",
    "    \"results\",\n",
    "    FOLDER,\n",
    "    \"coverage_astarrseq_peak_macs_input\",\n",
    "    \"summary\"\n",
    ")\n",
    "for(fname in dir(fdiry)){print(fname)}"
   ]
  },
  {
   "cell_type": "markdown",
   "metadata": {},
   "source": [
    "**Import data**"
   ]
  },
  {
   "cell_type": "code",
   "execution_count": 14,
   "metadata": {},
   "outputs": [
    {
     "name": "stdout",
     "output_type": "stream",
     "text": [
      "[1] 80288     8\n"
     ]
    },
    {
     "data": {
      "text/html": [
       "<table class=\"dataframe\">\n",
       "<caption>A tibble: 6 × 8</caption>\n",
       "<thead>\n",
       "\t<tr><th scope=col>Peak</th><th scope=col>Mean</th><th scope=col>Median</th><th scope=col>Max</th><th scope=col>Min</th><th scope=col>Count</th><th scope=col>Mean_Neg</th><th scope=col>Mean_Pos</th></tr>\n",
       "\t<tr><th scope=col>&lt;chr&gt;</th><th scope=col>&lt;dbl&gt;</th><th scope=col>&lt;dbl&gt;</th><th scope=col>&lt;dbl&gt;</th><th scope=col>&lt;dbl&gt;</th><th scope=col>&lt;dbl&gt;</th><th scope=col>&lt;dbl&gt;</th><th scope=col>&lt;dbl&gt;</th></tr>\n",
       "</thead>\n",
       "<tbody>\n",
       "\t<tr><td>chr10:100009096-100010466</td><td>-0.03786170</td><td> 0.0303830</td><td>0.526902</td><td>-0.655965</td><td>10</td><td>-0.3840866</td><td>0.3083632</td></tr>\n",
       "\t<tr><td>chr10:100045961-100046653</td><td> 0.10873570</td><td> 0.1820295</td><td>0.646953</td><td>-0.497578</td><td>10</td><td>-0.2750008</td><td>0.3645600</td></tr>\n",
       "\t<tr><td>chr10:100065094-100065486</td><td>-0.00323730</td><td>-0.0931995</td><td>1.305380</td><td>-0.677550</td><td>10</td><td>-0.3639722</td><td>0.5378650</td></tr>\n",
       "\t<tr><td>chr10:100129051-100131059</td><td>-0.26576144</td><td>-0.2617330</td><td>0.253159</td><td>-0.767330</td><td> 9</td><td>-0.4522120</td><td>0.1071397</td></tr>\n",
       "\t<tr><td>chr10:100185017-100187275</td><td>-0.01202196</td><td>-0.0613300</td><td>0.730481</td><td>-0.954435</td><td>25</td><td>-0.2790666</td><td>0.3278531</td></tr>\n",
       "\t<tr><td>chr10:100228452-100230090</td><td>-0.01822050</td><td> 0.0722880</td><td>0.446912</td><td>-0.768059</td><td>10</td><td>-0.3293750</td><td>0.1892158</td></tr>\n",
       "</tbody>\n",
       "</table>\n"
      ],
      "text/latex": [
       "A tibble: 6 × 8\n",
       "\\begin{tabular}{llllllll}\n",
       " Peak & Mean & Median & Max & Min & Count & Mean\\_Neg & Mean\\_Pos\\\\\n",
       " <chr> & <dbl> & <dbl> & <dbl> & <dbl> & <dbl> & <dbl> & <dbl>\\\\\n",
       "\\hline\n",
       "\t chr10:100009096-100010466 & -0.03786170 &  0.0303830 & 0.526902 & -0.655965 & 10 & -0.3840866 & 0.3083632\\\\\n",
       "\t chr10:100045961-100046653 &  0.10873570 &  0.1820295 & 0.646953 & -0.497578 & 10 & -0.2750008 & 0.3645600\\\\\n",
       "\t chr10:100065094-100065486 & -0.00323730 & -0.0931995 & 1.305380 & -0.677550 & 10 & -0.3639722 & 0.5378650\\\\\n",
       "\t chr10:100129051-100131059 & -0.26576144 & -0.2617330 & 0.253159 & -0.767330 &  9 & -0.4522120 & 0.1071397\\\\\n",
       "\t chr10:100185017-100187275 & -0.01202196 & -0.0613300 & 0.730481 & -0.954435 & 25 & -0.2790666 & 0.3278531\\\\\n",
       "\t chr10:100228452-100230090 & -0.01822050 &  0.0722880 & 0.446912 & -0.768059 & 10 & -0.3293750 & 0.1892158\\\\\n",
       "\\end{tabular}\n"
      ],
      "text/markdown": [
       "\n",
       "A tibble: 6 × 8\n",
       "\n",
       "| Peak &lt;chr&gt; | Mean &lt;dbl&gt; | Median &lt;dbl&gt; | Max &lt;dbl&gt; | Min &lt;dbl&gt; | Count &lt;dbl&gt; | Mean_Neg &lt;dbl&gt; | Mean_Pos &lt;dbl&gt; |\n",
       "|---|---|---|---|---|---|---|---|\n",
       "| chr10:100009096-100010466 | -0.03786170 |  0.0303830 | 0.526902 | -0.655965 | 10 | -0.3840866 | 0.3083632 |\n",
       "| chr10:100045961-100046653 |  0.10873570 |  0.1820295 | 0.646953 | -0.497578 | 10 | -0.2750008 | 0.3645600 |\n",
       "| chr10:100065094-100065486 | -0.00323730 | -0.0931995 | 1.305380 | -0.677550 | 10 | -0.3639722 | 0.5378650 |\n",
       "| chr10:100129051-100131059 | -0.26576144 | -0.2617330 | 0.253159 | -0.767330 |  9 | -0.4522120 | 0.1071397 |\n",
       "| chr10:100185017-100187275 | -0.01202196 | -0.0613300 | 0.730481 | -0.954435 | 25 | -0.2790666 | 0.3278531 |\n",
       "| chr10:100228452-100230090 | -0.01822050 |  0.0722880 | 0.446912 | -0.768059 | 10 | -0.3293750 | 0.1892158 |\n",
       "\n"
      ],
      "text/plain": [
       "  Peak                      Mean        Median     Max      Min       Count\n",
       "1 chr10:100009096-100010466 -0.03786170  0.0303830 0.526902 -0.655965 10   \n",
       "2 chr10:100045961-100046653  0.10873570  0.1820295 0.646953 -0.497578 10   \n",
       "3 chr10:100065094-100065486 -0.00323730 -0.0931995 1.305380 -0.677550 10   \n",
       "4 chr10:100129051-100131059 -0.26576144 -0.2617330 0.253159 -0.767330  9   \n",
       "5 chr10:100185017-100187275 -0.01202196 -0.0613300 0.730481 -0.954435 25   \n",
       "6 chr10:100228452-100230090 -0.01822050  0.0722880 0.446912 -0.768059 10   \n",
       "  Mean_Neg   Mean_Pos \n",
       "1 -0.3840866 0.3083632\n",
       "2 -0.2750008 0.3645600\n",
       "3 -0.3639722 0.5378650\n",
       "4 -0.4522120 0.1071397\n",
       "5 -0.2790666 0.3278531\n",
       "6 -0.3293750 0.1892158"
      ]
     },
     "metadata": {},
     "output_type": "display_data"
    }
   ],
   "source": [
    "### init\n",
    "FOLDER = \"CRISPRi_Growth_K562_Gersbach\"\n",
    "\n",
    "### get file path\n",
    "fdiry  = file.path(\n",
    "    FD_RES, \n",
    "    \"results\",\n",
    "    FOLDER,\n",
    "    \"coverage_astarrseq_peak_macs_input\",\n",
    "    \"summary\"\n",
    ")\n",
    "fname = \"results.summary.tsv\"\n",
    "fpath = file.path(fdiry, fname)\n",
    "\n",
    "### read table\n",
    "dat = read_tsv(fpath, show_col_types = FALSE)\n",
    "\n",
    "### assign and show\n",
    "dat_peak_screened_crispri_growth = dat\n",
    "print(dim(dat))\n",
    "head(dat)"
   ]
  },
  {
   "cell_type": "markdown",
   "metadata": {},
   "source": [
    "## Get ATAC Peaks screened by ENCODE-E2G benchmark"
   ]
  },
  {
   "cell_type": "markdown",
   "metadata": {},
   "source": [
    "**Check data files**"
   ]
  },
  {
   "cell_type": "code",
   "execution_count": 15,
   "metadata": {},
   "outputs": [
    {
     "name": "stdout",
     "output_type": "stream",
     "text": [
      "[1] \"peak.annotation.K562.EPCrisprBenchmark.active.bed.gz\"\n",
      "[1] \"peak.annotation.K562.EPCrisprBenchmark.active.merge.bed.gz\"\n",
      "[1] \"peak.annotation.K562.EPCrisprBenchmark.total.bed.gz\"\n",
      "[1] \"peak.annotation.K562.EPCrisprBenchmark.total.merge.bed.gz\"\n",
      "[1] \"peak.intersect.inverse.K562.EPCrisprBenchmark.active.merge.bed.gz\"\n"
     ]
    }
   ],
   "source": [
    "FOLDER = \"annotation_encode_e2g_benchmark\"\n",
    "fdiry  = file.path(\n",
    "    FD_RES, \n",
    "    \"results\",\n",
    "    \"region\",\n",
    "    \"KS91_K562_ASTARRseq_peak_macs_input\",\n",
    "    FOLDER\n",
    ")\n",
    "for(fname in dir(fdiry)){print(fname)}"
   ]
  },
  {
   "cell_type": "markdown",
   "metadata": {},
   "source": [
    "**Import data**"
   ]
  },
  {
   "cell_type": "code",
   "execution_count": 23,
   "metadata": {},
   "outputs": [
    {
     "name": "stdout",
     "output_type": "stream",
     "text": [
      "[1] 3007    9\n"
     ]
    },
    {
     "data": {
      "text/html": [
       "<div style=\"border: 1px solid #ddd; padding: 5px; overflow-x: scroll; width:100%; \"><table class=\"table table-striped\" style=\"margin-left: auto; margin-right: auto;\">\n",
       " <thead>\n",
       "  <tr>\n",
       "   <th style=\"text-align:left;\"> Peak </th>\n",
       "   <th style=\"text-align:left;\"> Annotation </th>\n",
       "   <th style=\"text-align:left;\"> Label </th>\n",
       "   <th style=\"text-align:right;\"> Count </th>\n",
       "   <th style=\"text-align:left;\"> Region </th>\n",
       "   <th style=\"text-align:right;\"> Score_Mean </th>\n",
       "   <th style=\"text-align:right;\"> Score_Max </th>\n",
       "   <th style=\"text-align:right;\"> Score_Min </th>\n",
       "   <th style=\"text-align:left;\"> Note </th>\n",
       "  </tr>\n",
       " </thead>\n",
       "<tbody>\n",
       "  <tr>\n",
       "   <td style=\"text-align:left;\"> chr1:3773953-3776305 </td>\n",
       "   <td style=\"text-align:left;\"> ENCODE-E2G </td>\n",
       "   <td style=\"text-align:left;\"> ENCODE-E2G_Benchmark </td>\n",
       "   <td style=\"text-align:right;\"> 3 </td>\n",
       "   <td style=\"text-align:left;\"> chr1:3774714-3775214|chr1:3774714-3775214|chr1:3774714-3775214 </td>\n",
       "   <td style=\"text-align:right;\"> -0.3655433 </td>\n",
       "   <td style=\"text-align:right;\"> -0.29343 </td>\n",
       "   <td style=\"text-align:right;\"> -0.47202 </td>\n",
       "   <td style=\"text-align:left;\"> Ulirsch2016 </td>\n",
       "  </tr>\n",
       "  <tr>\n",
       "   <td style=\"text-align:left;\"> chr1:3803939-3806560 </td>\n",
       "   <td style=\"text-align:left;\"> ENCODE-E2G </td>\n",
       "   <td style=\"text-align:left;\"> ENCODE-E2G_Benchmark </td>\n",
       "   <td style=\"text-align:right;\"> 2 </td>\n",
       "   <td style=\"text-align:left;\"> chr1:3803570-3805848|chr1:3803570-3805848 </td>\n",
       "   <td style=\"text-align:right;\"> 0.0121050 </td>\n",
       "   <td style=\"text-align:right;\"> 0.02568 </td>\n",
       "   <td style=\"text-align:right;\"> -0.00147 </td>\n",
       "   <td style=\"text-align:left;\"> Gasperini et al., 2019 </td>\n",
       "  </tr>\n",
       "  <tr>\n",
       "   <td style=\"text-align:left;\"> chr1:4126790-4128217 </td>\n",
       "   <td style=\"text-align:left;\"> ENCODE-E2G </td>\n",
       "   <td style=\"text-align:left;\"> ENCODE-E2G_Benchmark </td>\n",
       "   <td style=\"text-align:right;\"> 1 </td>\n",
       "   <td style=\"text-align:left;\"> chr1:4126791-4127291 </td>\n",
       "   <td style=\"text-align:right;\"> 0.0233800 </td>\n",
       "   <td style=\"text-align:right;\"> 0.02338 </td>\n",
       "   <td style=\"text-align:right;\"> 0.02338 </td>\n",
       "   <td style=\"text-align:left;\"> Gasperini et al., 2019 </td>\n",
       "  </tr>\n",
       "  <tr>\n",
       "   <td style=\"text-align:left;\"> chr1:5304675-5305858 </td>\n",
       "   <td style=\"text-align:left;\"> ENCODE-E2G </td>\n",
       "   <td style=\"text-align:left;\"> ENCODE-E2G_Benchmark </td>\n",
       "   <td style=\"text-align:right;\"> 1 </td>\n",
       "   <td style=\"text-align:left;\"> chr1:5304578-5305078 </td>\n",
       "   <td style=\"text-align:right;\"> 0.0267200 </td>\n",
       "   <td style=\"text-align:right;\"> 0.02672 </td>\n",
       "   <td style=\"text-align:right;\"> 0.02672 </td>\n",
       "   <td style=\"text-align:left;\"> Gasperini et al., 2019 </td>\n",
       "  </tr>\n",
       "  <tr>\n",
       "   <td style=\"text-align:left;\"> chr1:8197559-8198606 </td>\n",
       "   <td style=\"text-align:left;\"> ENCODE-E2G </td>\n",
       "   <td style=\"text-align:left;\"> ENCODE-E2G_Benchmark </td>\n",
       "   <td style=\"text-align:right;\"> 1 </td>\n",
       "   <td style=\"text-align:left;\"> chr1:8197448-8198244 </td>\n",
       "   <td style=\"text-align:right;\"> -0.0198800 </td>\n",
       "   <td style=\"text-align:right;\"> -0.01988 </td>\n",
       "   <td style=\"text-align:right;\"> -0.01988 </td>\n",
       "   <td style=\"text-align:left;\"> Gasperini et al., 2019 </td>\n",
       "  </tr>\n",
       "  <tr>\n",
       "   <td style=\"text-align:left;\"> chr1:8857749-8858710 </td>\n",
       "   <td style=\"text-align:left;\"> ENCODE-E2G </td>\n",
       "   <td style=\"text-align:left;\"> ENCODE-E2G_Benchmark </td>\n",
       "   <td style=\"text-align:right;\"> 1 </td>\n",
       "   <td style=\"text-align:left;\"> chr1:8858063-8858563 </td>\n",
       "   <td style=\"text-align:right;\"> -0.1074100 </td>\n",
       "   <td style=\"text-align:right;\"> -0.10741 </td>\n",
       "   <td style=\"text-align:right;\"> -0.10741 </td>\n",
       "   <td style=\"text-align:left;\"> Gasperini et al., 2019 </td>\n",
       "  </tr>\n",
       "</tbody>\n",
       "</table></div>"
      ]
     },
     "metadata": {},
     "output_type": "display_data"
    }
   ],
   "source": [
    "### init\n",
    "#FOLDER = \"annotation_encode_e2g_benchmark\"\n",
    "FOLDER = \"summary\"\n",
    "\n",
    "### set column names\n",
    "#cnames = c(\"Chrom\", \"Start\", \"End\", \"Assay_Type\", \"Assay_Label\")\n",
    "#cnames = c(\"Chrom_ATAC\", \"Start_ATAC\", \"End_ATAC\", cnames, \"Overlap\")\n",
    "\n",
    "### get file path\n",
    "fdiry  = file.path(\n",
    "    FD_RES, \n",
    "    \"results\",\n",
    "    \"region\",\n",
    "    \"KS91_K562_ASTARRseq_peak_macs_input\",\n",
    "    FOLDER\n",
    ")\n",
    "#fname = \"peak.annotation.K562.EPCrisprBenchmark.total.merge.bed.gz\"\n",
    "fname = \"peak.summary.encode_e2g_benchmark.total.tsv\"\n",
    "fpath = file.path(fdiry, fname)\n",
    "\n",
    "### read table\n",
    "#dat = read_tsv(fpath, col_names = cnames, show_col_types = FALSE)\n",
    "#dat = dat %>% dplyr::mutate(Peak = paste0(Chrom_ATAC, \":\", Start_ATAC, \"-\", End_ATAC))\n",
    "dat = read_tsv(fpath, show_col_types = FALSE)\n",
    "\n",
    "### assign and show\n",
    "dat_peak_screened_encode_e2g_benchmark = dat\n",
    "print(dim(dat))\n",
    "fun_display_table(head(dat))"
   ]
  },
  {
   "cell_type": "markdown",
   "metadata": {},
   "source": [
    "**Check results**"
   ]
  },
  {
   "cell_type": "markdown",
   "metadata": {},
   "source": [
    "```\n",
    "dat = dat1\n",
    "vec = dat$Peak\n",
    "print(length(vec))\n",
    "#> [1] 3195\n",
    "vec = unique(vec)\n",
    "print(length(vec))\n",
    "#> [1] 3006\n",
    "\n",
    "dat = dat2\n",
    "vec = dat$Peak\n",
    "print(length(vec))\n",
    "#> [1] 3007\n",
    "vec = unique(vec)\n",
    "print(length(vec))\n",
    "#> [1] 3007\n",
    "\n",
    "vec1 = unique(dat1$Peak)\n",
    "vec2 = unique(dat2$Peak)\n",
    "vec  = intersect(vec1, vec2)\n",
    "print(length(vec))\n",
    "#> [1] 3006\n",
    "```"
   ]
  },
  {
   "cell_type": "markdown",
   "metadata": {},
   "source": [
    "## Get ATAC Peaks screened by ENCODE-E2G prediction"
   ]
  },
  {
   "cell_type": "markdown",
   "metadata": {},
   "source": [
    "**Check data files**"
   ]
  },
  {
   "cell_type": "code",
   "execution_count": 24,
   "metadata": {},
   "outputs": [
    {
     "name": "stdout",
     "output_type": "stream",
     "text": [
      "[1] \"peak.annotation.K562.ENCSR328LMT.ENCFF122UMY.element_gene_links.total.bed.gz\"\n",
      "[1] \"peak.annotation.K562.ENCSR328LMT.ENCFF122UMY.element_gene_links.total.merge.bed.gz\"\n",
      "[1] \"peak.annotation.K562.ENCSR328LMT.ENCFF202FID.element_gene_links.active.bed.gz\"\n",
      "[1] \"peak.annotation.K562.ENCSR328LMT.ENCFF202FID.element_gene_links.active.merge.bed.gz\"\n",
      "[1] \"peak.intersect.inverse.K562.ENCSR328LMT.ENCFF202FID.element_gene_links.active.merge.bed.gz\"\n"
     ]
    }
   ],
   "source": [
    "FOLDER = \"annotation_encode_e2g_prediction\"\n",
    "fdiry  = file.path(\n",
    "    FD_RES, \n",
    "    \"results\",\n",
    "    \"region\",\n",
    "    \"KS91_K562_ASTARRseq_peak_macs_input\",\n",
    "    FOLDER\n",
    ")\n",
    "for(fname in dir(fdiry)){print(fname)}"
   ]
  },
  {
   "cell_type": "code",
   "execution_count": 25,
   "metadata": {},
   "outputs": [
    {
     "name": "stdout",
     "output_type": "stream",
     "text": [
      "[1] \"peak.screened.atac.active.tsv\"\n",
      "[1] \"peak.screened.atac.quantile.tsv\"\n",
      "[1] \"peak.screened.atac.total.tsv\"\n",
      "[1] \"peak.screened.fcc.active.tsv\"\n",
      "[1] \"peak.screened.fcc.inactive.tsv\"\n",
      "[1] \"peak.screened.fcc.total.tsv\"\n",
      "[1] \"peak.summary.ccre_v3.tsv\"\n",
      "[1] \"peak.summary.ccre_v4.tsv\"\n",
      "[1] \"peak.summary.chipseq_histone.tsv\"\n",
      "[1] \"peak.summary.chipseq_tf_subset.tsv\"\n",
      "[1] \"peak.summary.chipseq_tf.tsv\"\n",
      "[1] \"peak.summary.chromHMM.tsv\"\n",
      "[1] \"peak.summary.crispri_growth.dhs.active.tsv\"\n",
      "[1] \"peak.summary.crispri_hcrff.casa.tsv\"\n",
      "[1] \"peak.summary.encode_e2g_benchmark.total.tsv\"\n",
      "[1] \"peak.summary.encode_e2g_benchmark.tsv\"\n",
      "[1] \"peak.summary.encode_e2g_prediction.total.tsv\"\n",
      "[1] \"peak.summary.encode_e2g_prediction.tsv\"\n",
      "[1] \"peak.summary.enhancer_zscore_junke.ASTARR_A.tsv\"\n",
      "[1] \"peak.summary.enhancer_zscore_junke.ASTARR_AB.tsv\"\n",
      "[1] \"peak.summary.enhancer_zscore_junke.ASTARR_R.tsv\"\n",
      "[1] \"peak.summary.enhancer_zscore_junke.ASTARR.tsv\"\n",
      "[1] \"peak.summary.enhancer_zscore_junke.LMPRA_A.tsv\"\n",
      "[1] \"peak.summary.enhancer_zscore_junke.LMPRA_AB.tsv\"\n",
      "[1] \"peak.summary.enhancer_zscore_junke.LMPRA_R.tsv\"\n",
      "[1] \"peak.summary.enhancer_zscore_junke.LMPRA.tsv\"\n",
      "[1] \"peak.summary.enhancer_zscore_junke.STARRMPRA.tsv\"\n",
      "[1] \"peak.summary.enhancer_zscore_junke.TMPRA_A.tsv\"\n",
      "[1] \"peak.summary.enhancer_zscore_junke.TMPRA_R.tsv\"\n",
      "[1] \"peak.summary.enhancer_zscore_junke.TMPRA.tsv\"\n",
      "[1] \"peak.summary.enhancer_zscore_junke.WSTARR_A.tsv\"\n",
      "[1] \"peak.summary.enhancer_zscore_junke.WSTARR_AB.tsv\"\n",
      "[1] \"peak.summary.enhancer_zscore_junke.WSTARR_R.tsv\"\n",
      "[1] \"peak.summary.enhancer_zscore_junke.WSTARR.tsv\"\n",
      "[1] \"peak.summary.tss_pol2_rnaseq.tsv\"\n",
      "[1] \"peak.summary.tss_pol2.tsv\"\n"
     ]
    }
   ],
   "source": [
    "FOLDER = \"summary\"\n",
    "fdiry  = file.path(\n",
    "    FD_RES, \n",
    "    \"results\",\n",
    "    \"region\",\n",
    "    \"KS91_K562_ASTARRseq_peak_macs_input\",\n",
    "    FOLDER\n",
    ")\n",
    "for(fname in dir(fdiry)){print(fname)}"
   ]
  },
  {
   "cell_type": "markdown",
   "metadata": {},
   "source": [
    "**Import data**"
   ]
  },
  {
   "cell_type": "code",
   "execution_count": 26,
   "metadata": {},
   "outputs": [
    {
     "name": "stdout",
     "output_type": "stream",
     "text": [
      "[1] 84129     8\n"
     ]
    },
    {
     "data": {
      "text/html": [
       "<div style=\"border: 1px solid #ddd; padding: 5px; overflow-x: scroll; width:100%; \"><table class=\"table table-striped\" style=\"margin-left: auto; margin-right: auto;\">\n",
       " <thead>\n",
       "  <tr>\n",
       "   <th style=\"text-align:left;\"> Peak </th>\n",
       "   <th style=\"text-align:left;\"> Annotation </th>\n",
       "   <th style=\"text-align:left;\"> Label </th>\n",
       "   <th style=\"text-align:right;\"> Count </th>\n",
       "   <th style=\"text-align:left;\"> Region </th>\n",
       "   <th style=\"text-align:right;\"> Score_Mean </th>\n",
       "   <th style=\"text-align:right;\"> Score_Max </th>\n",
       "   <th style=\"text-align:left;\"> Note </th>\n",
       "  </tr>\n",
       " </thead>\n",
       "<tbody>\n",
       "  <tr>\n",
       "   <td style=\"text-align:left;\"> chr1:28903-29613 </td>\n",
       "   <td style=\"text-align:left;\"> ENCODE-E2G </td>\n",
       "   <td style=\"text-align:left;\"> ENCODE-E2G_Prediction </td>\n",
       "   <td style=\"text-align:right;\"> 70 </td>\n",
       "   <td style=\"text-align:left;\"> chr1:29120-29620|chr1:29120-29620|chr1:29120-29620|chr1:29120-29620|chr1:29120-29620|chr1:29120-29620|chr1:29120-29620|chr1:29120-29620|chr1:29120-29620|chr1:29120-29620|chr1:29120-29620|chr1:29120-29620|chr1:29120-29620|chr1:29120-29620|chr1:29120-29620|chr1:29120-29620|chr1:29120-29620|chr1:29120-29620|chr1:29120-29620|chr1:29120-29620|chr1:29120-29620|chr1:29120-29620|chr1:29120-29620|chr1:29120-29620|chr1:29120-29620|chr1:29120-29620|chr1:29120-29620|chr1:29120-29620|chr1:29120-29620|chr1:29120-29620|chr1:29120-29620|chr1:29120-29620|chr1:29120-29620|chr1:29120-29620|chr1:29120-29620|chr1:29120-29620|chr1:29120-29620|chr1:29120-29620|chr1:29120-29620|chr1:29120-29620|chr1:29120-29620|chr1:29120-29620|chr1:29120-29620|chr1:29120-29620|chr1:29120-29620|chr1:29120-29620|chr1:29120-29620|chr1:29120-29620|chr1:29120-29620|chr1:29120-29620|chr1:29120-29620|chr1:29120-29620|chr1:29120-29620|chr1:29120-29620|chr1:29120-29620|chr1:29120-29620|chr1:29120-29620|chr1:29120-29620|chr1:29120-29620|chr1:29120-29620|chr1:29120-29620|chr1:29120-29620|chr1:29120-29620|chr1:29120-29620|chr1:29120-29620|chr1:29120-29620|chr1:29120-29620|chr1:29120-29620|chr1:29120-29620|chr1:29120-29620 </td>\n",
       "   <td style=\"text-align:right;\"> 0.0079099 </td>\n",
       "   <td style=\"text-align:right;\"> 0.07004 </td>\n",
       "   <td style=\"text-align:left;\"> promoter </td>\n",
       "  </tr>\n",
       "  <tr>\n",
       "   <td style=\"text-align:left;\"> chr1:115411-115986 </td>\n",
       "   <td style=\"text-align:left;\"> ENCODE-E2G </td>\n",
       "   <td style=\"text-align:left;\"> ENCODE-E2G_Prediction </td>\n",
       "   <td style=\"text-align:right;\"> 70 </td>\n",
       "   <td style=\"text-align:left;\"> chr1:115484-115984|chr1:115484-115984|chr1:115484-115984|chr1:115484-115984|chr1:115484-115984|chr1:115484-115984|chr1:115484-115984|chr1:115484-115984|chr1:115484-115984|chr1:115484-115984|chr1:115484-115984|chr1:115484-115984|chr1:115484-115984|chr1:115484-115984|chr1:115484-115984|chr1:115484-115984|chr1:115484-115984|chr1:115484-115984|chr1:115484-115984|chr1:115484-115984|chr1:115484-115984|chr1:115484-115984|chr1:115484-115984|chr1:115484-115984|chr1:115484-115984|chr1:115484-115984|chr1:115484-115984|chr1:115484-115984|chr1:115484-115984|chr1:115484-115984|chr1:115484-115984|chr1:115484-115984|chr1:115484-115984|chr1:115484-115984|chr1:115484-115984|chr1:115484-115984|chr1:115484-115984|chr1:115484-115984|chr1:115484-115984|chr1:115484-115984|chr1:115484-115984|chr1:115484-115984|chr1:115484-115984|chr1:115484-115984|chr1:115484-115984|chr1:115484-115984|chr1:115484-115984|chr1:115484-115984|chr1:115484-115984|chr1:115484-115984|chr1:115484-115984|chr1:115484-115984|chr1:115484-115984|chr1:115484-115984|chr1:115484-115984|chr1:115484-115984|chr1:115484-115984|chr1:115484-115984|chr1:115484-115984|chr1:115484-115984|chr1:115484-115984|chr1:115484-115984|chr1:115484-115984|chr1:115484-115984|chr1:115484-115984|chr1:115484-115984|chr1:115484-115984|chr1:115484-115984|chr1:115484-115984|chr1:115484-115984 </td>\n",
       "   <td style=\"text-align:right;\"> 0.0465609 </td>\n",
       "   <td style=\"text-align:right;\"> 0.41016 </td>\n",
       "   <td style=\"text-align:left;\"> intergenic </td>\n",
       "  </tr>\n",
       "  <tr>\n",
       "   <td style=\"text-align:left;\"> chr1:180982-182087 </td>\n",
       "   <td style=\"text-align:left;\"> ENCODE-E2G </td>\n",
       "   <td style=\"text-align:left;\"> ENCODE-E2G_Prediction </td>\n",
       "   <td style=\"text-align:right;\"> 70 </td>\n",
       "   <td style=\"text-align:left;\"> chr1:181231-181731|chr1:181231-181731|chr1:181231-181731|chr1:181231-181731|chr1:181231-181731|chr1:181231-181731|chr1:181231-181731|chr1:181231-181731|chr1:181231-181731|chr1:181231-181731|chr1:181231-181731|chr1:181231-181731|chr1:181231-181731|chr1:181231-181731|chr1:181231-181731|chr1:181231-181731|chr1:181231-181731|chr1:181231-181731|chr1:181231-181731|chr1:181231-181731|chr1:181231-181731|chr1:181231-181731|chr1:181231-181731|chr1:181231-181731|chr1:181231-181731|chr1:181231-181731|chr1:181231-181731|chr1:181231-181731|chr1:181231-181731|chr1:181231-181731|chr1:181231-181731|chr1:181231-181731|chr1:181231-181731|chr1:181231-181731|chr1:181231-181731|chr1:181231-181731|chr1:181231-181731|chr1:181231-181731|chr1:181231-181731|chr1:181231-181731|chr1:181231-181731|chr1:181231-181731|chr1:181231-181731|chr1:181231-181731|chr1:181231-181731|chr1:181231-181731|chr1:181231-181731|chr1:181231-181731|chr1:181231-181731|chr1:181231-181731|chr1:181231-181731|chr1:181231-181731|chr1:181231-181731|chr1:181231-181731|chr1:181231-181731|chr1:181231-181731|chr1:181231-181731|chr1:181231-181731|chr1:181231-181731|chr1:181231-181731|chr1:181231-181731|chr1:181231-181731|chr1:181231-181731|chr1:181231-181731|chr1:181231-181731|chr1:181231-181731|chr1:181231-181731|chr1:181231-181731|chr1:181231-181731|chr1:181231-181731 </td>\n",
       "   <td style=\"text-align:right;\"> 0.0008023 </td>\n",
       "   <td style=\"text-align:right;\"> 0.00896 </td>\n",
       "   <td style=\"text-align:left;\"> intergenic </td>\n",
       "  </tr>\n",
       "  <tr>\n",
       "   <td style=\"text-align:left;\"> chr1:777949-779437 </td>\n",
       "   <td style=\"text-align:left;\"> ENCODE-E2G </td>\n",
       "   <td style=\"text-align:left;\"> ENCODE-E2G_Prediction </td>\n",
       "   <td style=\"text-align:right;\"> 70 </td>\n",
       "   <td style=\"text-align:left;\"> chr1:778438-779143|chr1:778438-779143|chr1:778438-779143|chr1:778438-779143|chr1:778438-779143|chr1:778438-779143|chr1:778438-779143|chr1:778438-779143|chr1:778438-779143|chr1:778438-779143|chr1:778438-779143|chr1:778438-779143|chr1:778438-779143|chr1:778438-779143|chr1:778438-779143|chr1:778438-779143|chr1:778438-779143|chr1:778438-779143|chr1:778438-779143|chr1:778438-779143|chr1:778438-779143|chr1:778438-779143|chr1:778438-779143|chr1:778438-779143|chr1:778438-779143|chr1:778438-779143|chr1:778438-779143|chr1:778438-779143|chr1:778438-779143|chr1:778438-779143|chr1:778438-779143|chr1:778438-779143|chr1:778438-779143|chr1:778438-779143|chr1:778438-779143|chr1:778438-779143|chr1:778438-779143|chr1:778438-779143|chr1:778438-779143|chr1:778438-779143|chr1:778438-779143|chr1:778438-779143|chr1:778438-779143|chr1:778438-779143|chr1:778438-779143|chr1:778438-779143|chr1:778438-779143|chr1:778438-779143|chr1:778438-779143|chr1:778438-779143|chr1:778438-779143|chr1:778438-779143|chr1:778438-779143|chr1:778438-779143|chr1:778438-779143|chr1:778438-779143|chr1:778438-779143|chr1:778438-779143|chr1:778438-779143|chr1:778438-779143|chr1:778438-779143|chr1:778438-779143|chr1:778438-779143|chr1:778438-779143|chr1:778438-779143|chr1:778438-779143|chr1:778438-779143|chr1:778438-779143|chr1:778438-779143|chr1:778438-779143 </td>\n",
       "   <td style=\"text-align:right;\"> 0.0801154 </td>\n",
       "   <td style=\"text-align:right;\"> 0.99514 </td>\n",
       "   <td style=\"text-align:left;\"> promoter </td>\n",
       "  </tr>\n",
       "  <tr>\n",
       "   <td style=\"text-align:left;\"> chr1:816774-817547 </td>\n",
       "   <td style=\"text-align:left;\"> ENCODE-E2G </td>\n",
       "   <td style=\"text-align:left;\"> ENCODE-E2G_Prediction </td>\n",
       "   <td style=\"text-align:right;\"> 70 </td>\n",
       "   <td style=\"text-align:left;\"> chr1:817120-817620|chr1:817120-817620|chr1:817120-817620|chr1:817120-817620|chr1:817120-817620|chr1:817120-817620|chr1:817120-817620|chr1:817120-817620|chr1:817120-817620|chr1:817120-817620|chr1:817120-817620|chr1:817120-817620|chr1:817120-817620|chr1:817120-817620|chr1:817120-817620|chr1:817120-817620|chr1:817120-817620|chr1:817120-817620|chr1:817120-817620|chr1:817120-817620|chr1:817120-817620|chr1:817120-817620|chr1:817120-817620|chr1:817120-817620|chr1:817120-817620|chr1:817120-817620|chr1:817120-817620|chr1:817120-817620|chr1:817120-817620|chr1:817120-817620|chr1:817120-817620|chr1:817120-817620|chr1:817120-817620|chr1:817120-817620|chr1:817120-817620|chr1:817120-817620|chr1:817120-817620|chr1:817120-817620|chr1:817120-817620|chr1:817120-817620|chr1:817120-817620|chr1:817120-817620|chr1:817120-817620|chr1:817120-817620|chr1:817120-817620|chr1:817120-817620|chr1:817120-817620|chr1:817120-817620|chr1:817120-817620|chr1:817120-817620|chr1:817120-817620|chr1:817120-817620|chr1:817120-817620|chr1:817120-817620|chr1:817120-817620|chr1:817120-817620|chr1:817120-817620|chr1:817120-817620|chr1:817120-817620|chr1:817120-817620|chr1:817120-817620|chr1:817120-817620|chr1:817120-817620|chr1:817120-817620|chr1:817120-817620|chr1:817120-817620|chr1:817120-817620|chr1:817120-817620|chr1:817120-817620|chr1:817120-817620 </td>\n",
       "   <td style=\"text-align:right;\"> 0.0366883 </td>\n",
       "   <td style=\"text-align:right;\"> 0.99999 </td>\n",
       "   <td style=\"text-align:left;\"> promoter </td>\n",
       "  </tr>\n",
       "  <tr>\n",
       "   <td style=\"text-align:left;\"> chr1:826754-828040 </td>\n",
       "   <td style=\"text-align:left;\"> ENCODE-E2G </td>\n",
       "   <td style=\"text-align:left;\"> ENCODE-E2G_Prediction </td>\n",
       "   <td style=\"text-align:right;\"> 70 </td>\n",
       "   <td style=\"text-align:left;\"> chr1:827244-827847|chr1:827244-827847|chr1:827244-827847|chr1:827244-827847|chr1:827244-827847|chr1:827244-827847|chr1:827244-827847|chr1:827244-827847|chr1:827244-827847|chr1:827244-827847|chr1:827244-827847|chr1:827244-827847|chr1:827244-827847|chr1:827244-827847|chr1:827244-827847|chr1:827244-827847|chr1:827244-827847|chr1:827244-827847|chr1:827244-827847|chr1:827244-827847|chr1:827244-827847|chr1:827244-827847|chr1:827244-827847|chr1:827244-827847|chr1:827244-827847|chr1:827244-827847|chr1:827244-827847|chr1:827244-827847|chr1:827244-827847|chr1:827244-827847|chr1:827244-827847|chr1:827244-827847|chr1:827244-827847|chr1:827244-827847|chr1:827244-827847|chr1:827244-827847|chr1:827244-827847|chr1:827244-827847|chr1:827244-827847|chr1:827244-827847|chr1:827244-827847|chr1:827244-827847|chr1:827244-827847|chr1:827244-827847|chr1:827244-827847|chr1:827244-827847|chr1:827244-827847|chr1:827244-827847|chr1:827244-827847|chr1:827244-827847|chr1:827244-827847|chr1:827244-827847|chr1:827244-827847|chr1:827244-827847|chr1:827244-827847|chr1:827244-827847|chr1:827244-827847|chr1:827244-827847|chr1:827244-827847|chr1:827244-827847|chr1:827244-827847|chr1:827244-827847|chr1:827244-827847|chr1:827244-827847|chr1:827244-827847|chr1:827244-827847|chr1:827244-827847|chr1:827244-827847|chr1:827244-827847|chr1:827244-827847 </td>\n",
       "   <td style=\"text-align:right;\"> 0.0696051 </td>\n",
       "   <td style=\"text-align:right;\"> 0.99889 </td>\n",
       "   <td style=\"text-align:left;\"> promoter </td>\n",
       "  </tr>\n",
       "</tbody>\n",
       "</table></div>"
      ]
     },
     "metadata": {},
     "output_type": "display_data"
    }
   ],
   "source": [
    "### init\n",
    "#FOLDER = \"annotation_encode_e2g_prediction\"\n",
    "FOLDER = \"summary\"\n",
    "\n",
    "### set column names\n",
    "#cnames = c(\"Chrom\", \"Start\", \"End\", \"Assay_Type\", \"Assay_Label\")\n",
    "#cnames = c(\"Chrom_ATAC\", \"Start_ATAC\", \"End_ATAC\", cnames, \"Overlap\")\n",
    "\n",
    "### get file path\n",
    "fdiry  = file.path(\n",
    "    FD_RES, \n",
    "    \"results\",\n",
    "    \"region\",\n",
    "    \"KS91_K562_ASTARRseq_peak_macs_input\",\n",
    "    FOLDER\n",
    ")\n",
    "#fname = \"peak.annotation.K562.ENCSR328LMT.ENCFF122UMY.element_gene_links.total.merge.bed.gz\"\n",
    "fname = \"peak.summary.encode_e2g_prediction.total.tsv\"\n",
    "fpath = file.path(fdiry, fname)\n",
    "\n",
    "### read table\n",
    "#dat = read_tsv(fpath, col_names = cnames, show_col_types = FALSE)\n",
    "#dat = dat %>% dplyr::mutate(Peak = paste0(Chrom_ATAC, \":\", Start_ATAC, \"-\", End_ATAC))\n",
    "dat = read_tsv(fpath, show_col_types = FALSE)\n",
    "\n",
    "### assign and show\n",
    "dat_peak_screened_encode_e2g_prediction = dat\n",
    "print(dim(dat))\n",
    "fun_display_table(head(dat))"
   ]
  },
  {
   "cell_type": "markdown",
   "metadata": {},
   "source": [
    "```\n",
    "dat = dat1\n",
    "vec = dat$Peak\n",
    "print(length(vec))\n",
    "#> [1] 91787\n",
    "vec = unique(vec)\n",
    "print(length(vec))\n",
    "#> [1] 84129\n",
    "\n",
    "dat = dat2\n",
    "vec = dat$Peak\n",
    "print(length(vec))\n",
    "#> [1] 84129\n",
    "vec = unique(vec)\n",
    "print(length(vec))\n",
    "#> [1] 84129\n",
    "\n",
    "vec1 = unique(dat1$Peak)\n",
    "vec2 = unique(dat2$Peak)\n",
    "vec  = intersect(vec1, vec2)\n",
    "print(length(vec))\n",
    "#> [1] 84129\n",
    "```"
   ]
  },
  {
   "cell_type": "markdown",
   "metadata": {},
   "source": [
    "## Merge and label ATAC peaks by assays"
   ]
  },
  {
   "cell_type": "code",
   "execution_count": 28,
   "metadata": {},
   "outputs": [
    {
     "name": "stdout",
     "output_type": "stream",
     "text": [
      "ASTARR \n",
      "#Rows:  246850 \n",
      "#Peaks: 246850 \n",
      "\u001b[90m# A tibble: 3 × 3\u001b[39m\n",
      "  Peak                       Score Assay_Type\n",
      "  \u001b[3m\u001b[90m<chr>\u001b[39m\u001b[23m                      \u001b[3m\u001b[90m<dbl>\u001b[39m\u001b[23m \u001b[3m\u001b[90m<chr>\u001b[39m\u001b[23m     \n",
      "\u001b[90m1\u001b[39m chr1:100006256-100006880 -\u001b[31m0\u001b[39m\u001b[31m.\u001b[39m\u001b[31m0\u001b[39m\u001b[31m13\u001b[4m1\u001b[24m\u001b[39m ASTARR    \n",
      "\u001b[90m2\u001b[39m chr1:100010437-100010915 -\u001b[31m0\u001b[39m\u001b[31m.\u001b[39m\u001b[31m807\u001b[39m  ASTARR    \n",
      "\u001b[90m3\u001b[39m chr1:10002087-10003910   -\u001b[31m0\u001b[39m\u001b[31m.\u001b[39m\u001b[31m349\u001b[39m  ASTARR    \n",
      "\n",
      "WSTARR \n",
      "#Rows:  246688 \n",
      "#Peaks: 246688 \n",
      "\u001b[90m# A tibble: 3 × 3\u001b[39m\n",
      "  Peak                      Score Assay_Type\n",
      "  \u001b[3m\u001b[90m<chr>\u001b[39m\u001b[23m                     \u001b[3m\u001b[90m<dbl>\u001b[39m\u001b[23m \u001b[3m\u001b[90m<chr>\u001b[39m\u001b[23m     \n",
      "\u001b[90m1\u001b[39m chr1:100006256-100006880 -\u001b[31m0\u001b[39m\u001b[31m.\u001b[39m\u001b[31m488\u001b[39m WSTARR    \n",
      "\u001b[90m2\u001b[39m chr1:100010437-100010915 -\u001b[31m0\u001b[39m\u001b[31m.\u001b[39m\u001b[31m309\u001b[39m WSTARR    \n",
      "\u001b[90m3\u001b[39m chr1:10002087-10003910   -\u001b[31m0\u001b[39m\u001b[31m.\u001b[39m\u001b[31m386\u001b[39m WSTARR    \n",
      "\n",
      "TMPRA \n",
      "#Rows:  1722 \n",
      "#Peaks: 1722 \n",
      "\u001b[90m# A tibble: 3 × 3\u001b[39m\n",
      "  Peak                    Score Assay_Type\n",
      "  \u001b[3m\u001b[90m<chr>\u001b[39m\u001b[23m                   \u001b[3m\u001b[90m<dbl>\u001b[39m\u001b[23m \u001b[3m\u001b[90m<chr>\u001b[39m\u001b[23m     \n",
      "\u001b[90m1\u001b[39m chr11:61792068-61793464  1.67 TMPRA     \n",
      "\u001b[90m2\u001b[39m chr11:61800085-61801113  1.86 TMPRA     \n",
      "\u001b[90m3\u001b[39m chr11:61806630-61807154 -\u001b[31m1\u001b[39m\u001b[31m.\u001b[39m\u001b[31m36\u001b[39m TMPRA     \n",
      "\n",
      "LMPRA \n",
      "#Rows:  68420 \n",
      "#Peaks: 68420 \n",
      "\u001b[90m# A tibble: 3 × 3\u001b[39m\n",
      "  Peak                       Score Assay_Type\n",
      "  \u001b[3m\u001b[90m<chr>\u001b[39m\u001b[23m                      \u001b[3m\u001b[90m<dbl>\u001b[39m\u001b[23m \u001b[3m\u001b[90m<chr>\u001b[39m\u001b[23m     \n",
      "\u001b[90m1\u001b[39m chr10:100045961-100046653 1.36   LMPRA     \n",
      "\u001b[90m2\u001b[39m chr10:100065094-100065486 1.07   LMPRA     \n",
      "\u001b[90m3\u001b[39m chr10:100081317-100081607 0.085\u001b[4m1\u001b[24m LMPRA     \n",
      "\n",
      "CRISPRi-HCRFF \n",
      "#Rows:  1330 \n",
      "#Peaks: 1330 \n",
      "\u001b[90m# A tibble: 3 × 3\u001b[39m\n",
      "  Peak                      Score Assay_Type   \n",
      "  \u001b[3m\u001b[90m<chr>\u001b[39m\u001b[23m                     \u001b[3m\u001b[90m<dbl>\u001b[39m\u001b[23m \u001b[3m\u001b[90m<chr>\u001b[39m\u001b[23m        \n",
      "\u001b[90m1\u001b[39m chr11:33065336-33066228 -\u001b[31m0\u001b[39m\u001b[31m.\u001b[39m\u001b[31m0\u001b[39m\u001b[31m83\u001b[4m1\u001b[24m\u001b[39m CRISPRi-HCRFF\n",
      "\u001b[90m2\u001b[39m chr11:33068519-33069100 -\u001b[31m0\u001b[39m\u001b[31m.\u001b[39m\u001b[31m120\u001b[39m  CRISPRi-HCRFF\n",
      "\u001b[90m3\u001b[39m chr11:33072412-33072630  0.106  CRISPRi-HCRFF\n",
      "\n",
      "CRISPRi-Growth \n",
      "#Rows:  80288 \n",
      "#Peaks: 80288 \n",
      "\u001b[90m# A tibble: 3 × 3\u001b[39m\n",
      "  Peak                         Score Assay_Type    \n",
      "  \u001b[3m\u001b[90m<chr>\u001b[39m\u001b[23m                        \u001b[3m\u001b[90m<dbl>\u001b[39m\u001b[23m \u001b[3m\u001b[90m<chr>\u001b[39m\u001b[23m         \n",
      "\u001b[90m1\u001b[39m chr10:100009096-100010466 -\u001b[31m0\u001b[39m\u001b[31m.\u001b[39m\u001b[31m0\u001b[39m\u001b[31m37\u001b[4m9\u001b[24m\u001b[39m  CRISPRi-Growth\n",
      "\u001b[90m2\u001b[39m chr10:100045961-100046653  0.109   CRISPRi-Growth\n",
      "\u001b[90m3\u001b[39m chr10:100065094-100065486 -\u001b[31m0\u001b[39m\u001b[31m.\u001b[39m\u001b[31m00\u001b[39m\u001b[31m3\u001b[4m2\u001b[24m\u001b[4m4\u001b[24m\u001b[39m CRISPRi-Growth\n",
      "\n",
      "ENCODE-E2G_Benchmark \n",
      "#Rows:  3007 \n",
      "#Peaks: 3007 \n",
      "\u001b[90m# A tibble: 3 × 3\u001b[39m\n",
      "  Peak                   Score Assay_Type          \n",
      "  \u001b[3m\u001b[90m<chr>\u001b[39m\u001b[23m                  \u001b[3m\u001b[90m<dbl>\u001b[39m\u001b[23m \u001b[3m\u001b[90m<chr>\u001b[39m\u001b[23m               \n",
      "\u001b[90m1\u001b[39m chr1:3773953-3776305 -\u001b[31m0\u001b[39m\u001b[31m.\u001b[39m\u001b[31m366\u001b[39m  ENCODE-E2G_Benchmark\n",
      "\u001b[90m2\u001b[39m chr1:3803939-3806560  0.012\u001b[4m1\u001b[24m ENCODE-E2G_Benchmark\n",
      "\u001b[90m3\u001b[39m chr1:4126790-4128217  0.023\u001b[4m4\u001b[24m ENCODE-E2G_Benchmark\n",
      "\n",
      "ENCODE-E2G_Prediction \n",
      "#Rows:  84129 \n",
      "#Peaks: 84129 \n",
      "\u001b[90m# A tibble: 3 × 3\u001b[39m\n",
      "  Peak                 Score Assay_Type           \n",
      "  \u001b[3m\u001b[90m<chr>\u001b[39m\u001b[23m                \u001b[3m\u001b[90m<dbl>\u001b[39m\u001b[23m \u001b[3m\u001b[90m<chr>\u001b[39m\u001b[23m                \n",
      "\u001b[90m1\u001b[39m chr1:28903-29613   0.070\u001b[4m0\u001b[24m  ENCODE-E2G_Prediction\n",
      "\u001b[90m2\u001b[39m chr1:115411-115986 0.410   ENCODE-E2G_Prediction\n",
      "\u001b[90m3\u001b[39m chr1:180982-182087 0.008\u001b[4m9\u001b[24m\u001b[4m6\u001b[24m ENCODE-E2G_Prediction\n",
      "\n"
     ]
    }
   ],
   "source": [
    "lst = list()\n",
    "\n",
    "txt = \"ASTARR\"\n",
    "dat = dat_peak_screened_astarr\n",
    "dat = dat %>% \n",
    "    dplyr::mutate(\n",
    "        Score = log2FoldChange, \n",
    "        Assay_Type = txt) %>%\n",
    "    dplyr::select(Peak, Score, Assay_Type)\n",
    "lst[[txt]] = dat\n",
    "\n",
    "txt = \"WSTARR\"\n",
    "dat = dat_peak_screened_wstarr\n",
    "dat = dat %>% \n",
    "    dplyr::mutate(\n",
    "        Score = log2FoldChange, \n",
    "        Assay_Type = txt) %>%\n",
    "    dplyr::select(Peak, Score, Assay_Type)\n",
    "lst[[txt]] = dat\n",
    "\n",
    "txt = \"TMPRA\"\n",
    "dat = dat_peak_screened_tmpra\n",
    "dat = dat %>% \n",
    "    dplyr::mutate(\n",
    "        Score = log2FoldChange, \n",
    "        Assay_Type = txt) %>%\n",
    "    dplyr::select(Peak, Score, Assay_Type)\n",
    "lst[[txt]] = dat\n",
    "\n",
    "txt = \"LMPRA\"\n",
    "dat = dat_peak_screened_lmpra\n",
    "dat = dat %>% \n",
    "    dplyr::mutate(\n",
    "        Score = Mean, \n",
    "        Assay_Type = txt) %>%\n",
    "    dplyr::select(Peak, Score, Assay_Type)\n",
    "lst[[txt]] = dat\n",
    "\n",
    "txt = \"LMPRA\"\n",
    "dat = dat_peak_screened_lmpra\n",
    "dat = dat %>% \n",
    "    dplyr::mutate(\n",
    "        Score = Mean, \n",
    "        Assay_Type = txt) %>%\n",
    "    dplyr::select(Peak, Score, Assay_Type)\n",
    "lst[[txt]] = dat\n",
    "\n",
    "txt = \"CRISPRi-HCRFF\"\n",
    "dat = dat_peak_screened_crispri_hcrff\n",
    "dat = dat %>% \n",
    "    dplyr::mutate(\n",
    "        Score = Mean_Tot, \n",
    "        Assay_Type = txt) %>%\n",
    "    dplyr::select(Peak, Score, Assay_Type)\n",
    "lst[[txt]] = dat\n",
    "\n",
    "txt = \"CRISPRi-Growth\"\n",
    "dat = dat_peak_screened_crispri_growth\n",
    "dat = dat %>% \n",
    "    dplyr::mutate(\n",
    "        Score = Mean, \n",
    "        Assay_Type = txt) %>%\n",
    "    dplyr::select(Peak, Score, Assay_Type)\n",
    "lst[[txt]] = dat\n",
    "\n",
    "txt = \"ENCODE-E2G_Benchmark\"\n",
    "dat = dat_peak_screened_encode_e2g_benchmark\n",
    "dat = dat %>% \n",
    "    dplyr::mutate(\n",
    "        Score = Score_Mean, \n",
    "        Assay_Type = txt) %>%\n",
    "    dplyr::select(Peak, Score, Assay_Type)\n",
    "lst[[txt]] = dat\n",
    "\n",
    "txt = \"ENCODE-E2G_Prediction\"\n",
    "dat = dat_peak_screened_encode_e2g_prediction\n",
    "dat = dat %>% \n",
    "    dplyr::mutate(\n",
    "        Score = Score_Max, \n",
    "        Assay_Type = txt) %>%\n",
    "    dplyr::select(Peak, Score, Assay_Type)\n",
    "lst[[txt]] = dat\n",
    "\n",
    "### assign and show\n",
    "lst_peak_collect = lst\n",
    "for (txt in names(lst)){\n",
    "    dat = lst[[txt]]\n",
    "    vec = unique(dat$Peak)\n",
    "    cat(txt, \"\\n\")\n",
    "    cat(\"#Rows: \", nrow(dat),   \"\\n\")\n",
    "    cat(\"#Peaks:\", length(vec), \"\\n\")\n",
    "    print(head(dat, 3))\n",
    "    cat(\"\\n\")\n",
    "}"
   ]
  },
  {
   "cell_type": "code",
   "execution_count": 30,
   "metadata": {},
   "outputs": [
    {
     "name": "stdout",
     "output_type": "stream",
     "text": [
      "[1] 732434      7\n"
     ]
    },
    {
     "data": {
      "text/html": [
       "<table class=\"dataframe\">\n",
       "<caption>A tibble: 6 × 7</caption>\n",
       "<thead>\n",
       "\t<tr><th scope=col>Chrom</th><th scope=col>Start</th><th scope=col>End</th><th scope=col>Peak</th><th scope=col>Score</th><th scope=col>Assay_Type</th><th scope=col>Assay_Label</th></tr>\n",
       "\t<tr><th scope=col>&lt;chr&gt;</th><th scope=col>&lt;chr&gt;</th><th scope=col>&lt;chr&gt;</th><th scope=col>&lt;chr&gt;</th><th scope=col>&lt;dbl&gt;</th><th scope=col>&lt;chr&gt;</th><th scope=col>&lt;chr&gt;</th></tr>\n",
       "</thead>\n",
       "<tbody>\n",
       "\t<tr><td>chr1</td><td>100006256</td><td>100006880</td><td>chr1:100006256-100006880</td><td>-0.01311792</td><td>ASTARR</td><td>ASTARR_T</td></tr>\n",
       "\t<tr><td>chr1</td><td>100010437</td><td>100010915</td><td>chr1:100010437-100010915</td><td>-0.80687947</td><td>ASTARR</td><td>ASTARR_T</td></tr>\n",
       "\t<tr><td>chr1</td><td>10002087 </td><td>10003910 </td><td>chr1:10002087-10003910  </td><td>-0.34892859</td><td>ASTARR</td><td>ASTARR_T</td></tr>\n",
       "\t<tr><td>chr1</td><td>100021298</td><td>100021629</td><td>chr1:100021298-100021629</td><td>-1.03799571</td><td>ASTARR</td><td>ASTARR_T</td></tr>\n",
       "\t<tr><td>chr1</td><td>100023727</td><td>100023976</td><td>chr1:100023727-100023976</td><td>-0.19100207</td><td>ASTARR</td><td>ASTARR_T</td></tr>\n",
       "\t<tr><td>chr1</td><td>100027983</td><td>100029702</td><td>chr1:100027983-100029702</td><td>-0.18001582</td><td>ASTARR</td><td>ASTARR_T</td></tr>\n",
       "</tbody>\n",
       "</table>\n"
      ],
      "text/latex": [
       "A tibble: 6 × 7\n",
       "\\begin{tabular}{lllllll}\n",
       " Chrom & Start & End & Peak & Score & Assay\\_Type & Assay\\_Label\\\\\n",
       " <chr> & <chr> & <chr> & <chr> & <dbl> & <chr> & <chr>\\\\\n",
       "\\hline\n",
       "\t chr1 & 100006256 & 100006880 & chr1:100006256-100006880 & -0.01311792 & ASTARR & ASTARR\\_T\\\\\n",
       "\t chr1 & 100010437 & 100010915 & chr1:100010437-100010915 & -0.80687947 & ASTARR & ASTARR\\_T\\\\\n",
       "\t chr1 & 10002087  & 10003910  & chr1:10002087-10003910   & -0.34892859 & ASTARR & ASTARR\\_T\\\\\n",
       "\t chr1 & 100021298 & 100021629 & chr1:100021298-100021629 & -1.03799571 & ASTARR & ASTARR\\_T\\\\\n",
       "\t chr1 & 100023727 & 100023976 & chr1:100023727-100023976 & -0.19100207 & ASTARR & ASTARR\\_T\\\\\n",
       "\t chr1 & 100027983 & 100029702 & chr1:100027983-100029702 & -0.18001582 & ASTARR & ASTARR\\_T\\\\\n",
       "\\end{tabular}\n"
      ],
      "text/markdown": [
       "\n",
       "A tibble: 6 × 7\n",
       "\n",
       "| Chrom &lt;chr&gt; | Start &lt;chr&gt; | End &lt;chr&gt; | Peak &lt;chr&gt; | Score &lt;dbl&gt; | Assay_Type &lt;chr&gt; | Assay_Label &lt;chr&gt; |\n",
       "|---|---|---|---|---|---|---|\n",
       "| chr1 | 100006256 | 100006880 | chr1:100006256-100006880 | -0.01311792 | ASTARR | ASTARR_T |\n",
       "| chr1 | 100010437 | 100010915 | chr1:100010437-100010915 | -0.80687947 | ASTARR | ASTARR_T |\n",
       "| chr1 | 10002087  | 10003910  | chr1:10002087-10003910   | -0.34892859 | ASTARR | ASTARR_T |\n",
       "| chr1 | 100021298 | 100021629 | chr1:100021298-100021629 | -1.03799571 | ASTARR | ASTARR_T |\n",
       "| chr1 | 100023727 | 100023976 | chr1:100023727-100023976 | -0.19100207 | ASTARR | ASTARR_T |\n",
       "| chr1 | 100027983 | 100029702 | chr1:100027983-100029702 | -0.18001582 | ASTARR | ASTARR_T |\n",
       "\n"
      ],
      "text/plain": [
       "  Chrom Start     End       Peak                     Score       Assay_Type\n",
       "1 chr1  100006256 100006880 chr1:100006256-100006880 -0.01311792 ASTARR    \n",
       "2 chr1  100010437 100010915 chr1:100010437-100010915 -0.80687947 ASTARR    \n",
       "3 chr1  10002087  10003910  chr1:10002087-10003910   -0.34892859 ASTARR    \n",
       "4 chr1  100021298 100021629 chr1:100021298-100021629 -1.03799571 ASTARR    \n",
       "5 chr1  100023727 100023976 chr1:100023727-100023976 -0.19100207 ASTARR    \n",
       "6 chr1  100027983 100029702 chr1:100027983-100029702 -0.18001582 ASTARR    \n",
       "  Assay_Label\n",
       "1 ASTARR_T   \n",
       "2 ASTARR_T   \n",
       "3 ASTARR_T   \n",
       "4 ASTARR_T   \n",
       "5 ASTARR_T   \n",
       "6 ASTARR_T   "
      ]
     },
     "metadata": {},
     "output_type": "display_data"
    }
   ],
   "source": [
    "### merge\n",
    "#lst = list(\n",
    "#    \"ASTARR\" = dat_peak_screened_astarr,\n",
    "#    \"WSTARR\" = dat_peak_screened_wstarr,\n",
    "#    \"TMPRA\"  = dat_peak_screened_tmpra,\n",
    "#    \"LMPRA\"  = dat_peak_screened_lmpra,\n",
    "#    \"CRISPRi_HCRFF\"  = dat_peak_screened_crispri_hcrff,\n",
    "#    \"CRISPRi_Growth\" = dat_peak_screened_crispri_growth,\n",
    "#    \"ENCODE-E2G_Benchmark\"  = dat_peak_screened_encode_e2g_benchmark,\n",
    "#    \"ENCODE-E2G_Prediction\" = dat_peak_screened_encode_e2g_prediction\n",
    "#)\n",
    "\n",
    "### arrange ATAC peaks location info\n",
    "lst = lst_peak_collect\n",
    "lst = lapply(lst, function(dat){\n",
    "    dat = dat %>% \n",
    "        dplyr::select(Peak, Score, Assay_Type) %>%\n",
    "        tidyr::separate(Peak, c(\"Chrom\", \"Start\", \"End\"), remove = FALSE) %>%\n",
    "        dplyr::arrange(Chrom, Start, End)\n",
    "    return(dat)\n",
    "})\n",
    "\n",
    "### combine tables\n",
    "dat = bind_rows(lst)\n",
    "dat = dat %>% \n",
    "    dplyr::select(Chrom, Start, End, Peak, Score, Assay_Type) %>% \n",
    "    dplyr::mutate(Assay_Label = paste(Assay_Type, \"T\", sep=\"_\")) \n",
    "\n",
    "### assign and show\n",
    "lst_peak_screened = lst\n",
    "dat_peak_screened = dat\n",
    "print(dim(dat))\n",
    "head(dat)"
   ]
  },
  {
   "cell_type": "markdown",
   "metadata": {},
   "source": [
    "**Show results**"
   ]
  },
  {
   "cell_type": "code",
   "execution_count": 31,
   "metadata": {},
   "outputs": [
    {
     "data": {
      "text/plain": [
       "\n",
       "               ASTARR        CRISPRi-Growth         CRISPRi-HCRFF \n",
       "               246850                 80288                  1330 \n",
       " ENCODE-E2G_Benchmark ENCODE-E2G_Prediction                 LMPRA \n",
       "                 3007                 84129                 68420 \n",
       "                TMPRA                WSTARR \n",
       "                 1722                246688 "
      ]
     },
     "metadata": {},
     "output_type": "display_data"
    }
   ],
   "source": [
    "dat = dat_peak_screened\n",
    "table(dat$Assay_Type)"
   ]
  },
  {
   "cell_type": "code",
   "execution_count": 32,
   "metadata": {},
   "outputs": [
    {
     "data": {
      "text/plain": [
       "       \n",
       "        ASTARR CRISPRi-Growth CRISPRi-HCRFF ENCODE-E2G_Benchmark\n",
       "  chr1   30534           9044             0                  277\n",
       "  chr10  11398           3591             0                   56\n",
       "  chr11  12010           4474           353                  414\n",
       "  chr12  10725           3875           245                  150\n",
       "  chr13   3675           1095             0                    8\n",
       "  chr14   4386           2068             0                   61\n",
       "  chr15   7965           2720             0                   35\n",
       "  chr16   8999           3541             0                   54\n",
       "  chr17  10104           4314             0                  108\n",
       "  chr18   5088           1260             0                   32\n",
       "  chr19   8447           4394             1                  284\n",
       "  chr2   19379           5550             0                  146\n",
       "  chr20   6046           2543             0                   65\n",
       "  chr21   4239           1099             0                   16\n",
       "  chr22   4946           2016             0                   35\n",
       "  chr3   14422           4454             1                  183\n",
       "  chr4   10120           2772           100                   57\n",
       "  chr5   13453           3801            92                  124\n",
       "  chr6   18166           4671           246                  193\n",
       "  chr7   20036           4543             0                  111\n",
       "  chr8   10120           3186           182                  378\n",
       "  chr9    8378           3269             0                   54\n",
       "  chrM       0              0             0                    0\n",
       "  chrX    4214           2008           110                  166\n",
       "       \n",
       "        ENCODE-E2G_Prediction LMPRA TMPRA WSTARR\n",
       "  chr1                   9548  7783     0  30510\n",
       "  chr10                  3715  3126     0  11395\n",
       "  chr11                  4517  3882   589  12005\n",
       "  chr12                  4060  3217     0  10717\n",
       "  chr13                  1354  1076     0   3673\n",
       "  chr14                  2099  1695     0   4383\n",
       "  chr15                  2789  2168     0   7945\n",
       "  chr16                  3107  2653   284   8994\n",
       "  chr17                  3995  3168     0  10088\n",
       "  chr18                  1486  1161     0   5085\n",
       "  chr19                  3948  2886     0   8439\n",
       "  chr2                   6135  5197   184  19373\n",
       "  chr20                  2365  2022   271   6045\n",
       "  chr21                  1132   877     0   4233\n",
       "  chr22                  2082  1481     0   4934\n",
       "  chr3                   5017  4105     0  14421\n",
       "  chr4                   3249  2809     0  10118\n",
       "  chr5                   4128  3228     0  13446\n",
       "  chr6                   5738  4593     0  18160\n",
       "  chr7                   4880  3933     0  20020\n",
       "  chr8                   3426  2952   188  10119\n",
       "  chr9                   3159  2515     0   8373\n",
       "  chrM                      0     0     0      4\n",
       "  chrX                   2200  1893   206   4208"
      ]
     },
     "metadata": {},
     "output_type": "display_data"
    }
   ],
   "source": [
    "dat = dat_peak_screened\n",
    "table(dat$Chrom, dat$Assay_Type)"
   ]
  },
  {
   "cell_type": "code",
   "execution_count": 20,
   "metadata": {},
   "outputs": [
    {
     "data": {
      "text/plain": [
       "       \n",
       "        ASTARR CRISPRi_Growth CRISPRi_HCRFF ENCODE-E2G_Benchmark\n",
       "  chr1   30534           9044             0                  292\n",
       "  chr10  11398           3591             0                   59\n",
       "  chr11  12010           4474           353                  460\n",
       "  chr12  10725           3875           245                  163\n",
       "  chr13   3675           1095             0                    9\n",
       "  chr14   4386           2068             0                   64\n",
       "  chr15   7965           2720             0                   35\n",
       "  chr16   8999           3541             0                   54\n",
       "  chr17  10104           4314             0                  110\n",
       "  chr18   5088           1260             0                   33\n",
       "  chr19   8447           4394             1                  303\n",
       "  chr2   19379           5550             0                  155\n",
       "  chr20   6046           2543             0                   65\n",
       "  chr21   4239           1099             0                   16\n",
       "  chr22   4946           2016             0                   36\n",
       "  chr3   14422           4454             1                  191\n",
       "  chr4   10120           2772           100                   59\n",
       "  chr5   13453           3801            92                  126\n",
       "  chr6   18166           4671           246                  199\n",
       "  chr7   20036           4543             0                  120\n",
       "  chr8   10120           3186           182                  415\n",
       "  chr9    8378           3269             0                   55\n",
       "  chrM       0              0             0                    0\n",
       "  chrX    4214           2008           110                  176\n",
       "       \n",
       "        ENCODE-E2G_Prediction LMPRA TMPRA WSTARR\n",
       "  chr1                  10421  7783     0  30510\n",
       "  chr10                  4070  3126     0  11395\n",
       "  chr11                  4969  3882   589  12005\n",
       "  chr12                  4427  3217     0  10717\n",
       "  chr13                  1471  1076     0   3673\n",
       "  chr14                  2318  1695     0   4383\n",
       "  chr15                  3009  2168     0   7945\n",
       "  chr16                  3426  2653   284   8994\n",
       "  chr17                  4451  3168     0  10088\n",
       "  chr18                  1599  1161     0   5085\n",
       "  chr19                  4381  2886     0   8439\n",
       "  chr2                   6622  5197   184  19373\n",
       "  chr20                  2576  2022   271   6045\n",
       "  chr21                  1213   877     0   4233\n",
       "  chr22                  2328  1481     0   4934\n",
       "  chr3                   5438  4105     0  14421\n",
       "  chr4                   3490  2809     0  10118\n",
       "  chr5                   4448  3228     0  13446\n",
       "  chr6                   6233  4593     0  18160\n",
       "  chr7                   5290  3933     0  20020\n",
       "  chr8                   3708  2952   188  10119\n",
       "  chr9                   3482  2515     0   8373\n",
       "  chrM                      0     0     0      4\n",
       "  chrX                   2417  1893   206   4208"
      ]
     },
     "metadata": {},
     "output_type": "display_data"
    }
   ],
   "source": [
    "dat = dat_peak_screened\n",
    "table(dat$Chrom, dat$Assay_Type)"
   ]
  },
  {
   "cell_type": "markdown",
   "metadata": {},
   "source": [
    "## Store results"
   ]
  },
  {
   "cell_type": "code",
   "execution_count": 33,
   "metadata": {},
   "outputs": [],
   "source": [
    "### set file paths\n",
    "fdiry  = file.path(\n",
    "    FD_RES, \n",
    "    \"results\",\n",
    "    \"region\",\n",
    "    \"KS91_K562_ASTARRseq_peak_macs_input\",\n",
    "    \"summary\"\n",
    ")\n",
    "fname = paste(\"peak\", \"screened\", \"fcc\", \"total\", \"tsv\", sep = \".\")\n",
    "fpath = file.path(fdiry, fname)\n",
    "\n",
    "### save table\n",
    "dat = dat_peak_screened\n",
    "write_tsv(dat, fpath)"
   ]
  },
  {
   "cell_type": "code",
   "execution_count": 34,
   "metadata": {},
   "outputs": [
    {
     "name": "stdout",
     "output_type": "stream",
     "text": [
      "KS91_K562_hg38_ASTARRseq_Input.all_reps.masked.union_narrowPeak.q5.screened.astarr.bed.gz \n",
      "KS91_K562_hg38_ASTARRseq_Input.all_reps.masked.union_narrowPeak.q5.screened.wstarr.bed.gz \n",
      "KS91_K562_hg38_ASTARRseq_Input.all_reps.masked.union_narrowPeak.q5.screened.tmpra.bed.gz \n",
      "KS91_K562_hg38_ASTARRseq_Input.all_reps.masked.union_narrowPeak.q5.screened.lmpra.bed.gz \n",
      "KS91_K562_hg38_ASTARRseq_Input.all_reps.masked.union_narrowPeak.q5.screened.crispri_hcrff.bed.gz \n",
      "KS91_K562_hg38_ASTARRseq_Input.all_reps.masked.union_narrowPeak.q5.screened.crispri_growth.bed.gz \n",
      "KS91_K562_hg38_ASTARRseq_Input.all_reps.masked.union_narrowPeak.q5.screened.encode_e2g_benchmark.bed.gz \n",
      "KS91_K562_hg38_ASTARRseq_Input.all_reps.masked.union_narrowPeak.q5.screened.encode_e2g_prediction.bed.gz \n"
     ]
    }
   ],
   "source": [
    "### set file paths\n",
    "fdiry  = file.path(\n",
    "    FD_RES, \n",
    "    \"results\",\n",
    "    \"region\",\n",
    "    \"KS91_K562_ASTARRseq_peak_macs_input\"\n",
    ")\n",
    "\n",
    "### save table\n",
    "lst = lst_peak_screened\n",
    "for (idn in names(lst)){\n",
    "    ### set file name\n",
    "    txt = idn\n",
    "    txt = tolower(txt)\n",
    "    txt = str_replace(txt, pattern = \"-\", replacement = \"_\")\n",
    "    \n",
    "    fname = paste(\n",
    "        \"KS91_K562_hg38_ASTARRseq_Input.all_reps.masked.union_narrowPeak.q5\",\n",
    "        \"screened\",\n",
    "        txt,\n",
    "        \"bed.gz\",\n",
    "        sep = \".\"\n",
    "    )\n",
    "    \n",
    "    ### set file path\n",
    "    fpath = file.path(fdiry, fname)\n",
    "    \n",
    "    ### get data table\n",
    "    dat = lst[[idn]]\n",
    "    dat = dat %>% \n",
    "        dplyr::select(Chrom, Start, End) %>%\n",
    "        dplyr::arrange(Chrom, Start, End)\n",
    "    \n",
    "    ### save table\n",
    "    write_tsv(dat, fpath, col_names = FALSE)\n",
    "    cat(fname, \"\\n\")\n",
    "}"
   ]
  },
  {
   "cell_type": "code",
   "execution_count": null,
   "metadata": {},
   "outputs": [],
   "source": []
  }
 ],
 "metadata": {
  "kernelspec": {
   "display_name": "R",
   "language": "R",
   "name": "ir"
  },
  "language_info": {
   "codemirror_mode": "r",
   "file_extension": ".r",
   "mimetype": "text/x-r-source",
   "name": "R",
   "pygments_lexer": "r",
   "version": "4.3.1"
  }
 },
 "nbformat": 4,
 "nbformat_minor": 4
}
