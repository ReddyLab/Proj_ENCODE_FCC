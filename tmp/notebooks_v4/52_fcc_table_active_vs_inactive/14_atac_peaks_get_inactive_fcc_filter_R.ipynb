{
 "cells": [
  {
   "cell_type": "markdown",
   "id": "8cf9282c-6704-486a-8032-837f95482eb3",
   "metadata": {},
   "source": [
    "**Set environment**"
   ]
  },
  {
   "cell_type": "code",
   "execution_count": 19,
   "id": "b50f052b-7d4e-4571-abaa-76b79c47e44c",
   "metadata": {},
   "outputs": [
    {
     "name": "stdout",
     "output_type": "stream",
     "text": [
      "You are in Singularity: singularity_proj_encode_fcc \n",
      "BASE DIRECTORY (FD_BASE): /data/reddylab/Kuei \n",
      "WORK DIRECTORY (FD_WORK): /data/reddylab/Kuei/out \n",
      "CODE DIRECTORY (FD_CODE): /data/reddylab/Kuei/code \n",
      "PATH OF PROJECT (FD_PRJ): /data/reddylab/Kuei/code/Proj_CombEffect_ENCODE_FCC \n",
      "PATH OF RESULTS (FD_RES): /data/reddylab/Kuei/out/proj_combeffect_encode_fcc \n",
      "PATH OF LOG     (FD_LOG): /data/reddylab/Kuei/out/proj_combeffect_encode_fcc/log \n"
     ]
    }
   ],
   "source": [
    "suppressMessages(suppressWarnings(source(\"../config/config_sing.R\")))\n",
    "suppressMessages(suppressWarnings(source(\"../config/config_func.R\")))\n",
    "show_env()"
   ]
  },
  {
   "cell_type": "markdown",
   "id": "f594660d-4ed4-4fda-8ba0-036764c6d545",
   "metadata": {},
   "source": [
    "**Check data files: coverage**"
   ]
  },
  {
   "cell_type": "code",
   "execution_count": 2,
   "id": "4ba9d418-73aa-4fa5-895b-5744f8c9ba1d",
   "metadata": {},
   "outputs": [
    {
     "name": "stdout",
     "output_type": "stream",
     "text": [
      "[1] \"A001_K562_WSTARRseq\"\n",
      "[1] \"comparison\"\n",
      "[1] \"CRISPRi_FlowFISH\"\n",
      "[1] \"CRISPRi_Growth_K562_Gersbach\"\n",
      "[1] \"hic_intact_K562_deep\"\n",
      "[1] \"hic_intact_K562_ENCSR479XDG\"\n",
      "[1] \"KS91_K562_ASTARRseq\"\n",
      "[1] \"LentiMPRA_K562_Nadav\"\n",
      "[1] \"region\"\n",
      "[1] \"Tewhey_K562_TileMPRA\"\n"
     ]
    }
   ],
   "source": [
    "fdiry  = file.path(\n",
    "    FD_RES, \n",
    "    \"results\"\n",
    ")\n",
    "for(fname in dir(fdiry)){print(fname)}"
   ]
  },
  {
   "cell_type": "markdown",
   "id": "4527d390-f3de-40d4-a6a7-d1532cb83896",
   "metadata": {},
   "source": [
    "## Get effect sizes"
   ]
  },
  {
   "cell_type": "code",
   "execution_count": 29,
   "id": "0117dbe0-3818-40f9-8025-e62b9b6b5137",
   "metadata": {},
   "outputs": [
    {
     "name": "stdout",
     "output_type": "stream",
     "text": [
      "[1] 732434      7\n",
      "\n",
      "               ASTARR        CRISPRi-Growth         CRISPRi-HCRFF \n",
      "               246850                 80288                  1330 \n",
      " ENCODE-E2G_Benchmark ENCODE-E2G_Prediction                 LMPRA \n",
      "                 3007                 84129                 68420 \n",
      "                TMPRA                WSTARR \n",
      "                 1722                246688 \n"
     ]
    },
    {
     "data": {
      "text/html": [
       "<table class=\"dataframe\">\n",
       "<caption>A tibble: 6 × 7</caption>\n",
       "<thead>\n",
       "\t<tr><th scope=col>Chrom</th><th scope=col>Start</th><th scope=col>End</th><th scope=col>Peak</th><th scope=col>Score</th><th scope=col>Assay_Type</th><th scope=col>Assay_Label</th></tr>\n",
       "\t<tr><th scope=col>&lt;chr&gt;</th><th scope=col>&lt;dbl&gt;</th><th scope=col>&lt;dbl&gt;</th><th scope=col>&lt;chr&gt;</th><th scope=col>&lt;dbl&gt;</th><th scope=col>&lt;chr&gt;</th><th scope=col>&lt;chr&gt;</th></tr>\n",
       "</thead>\n",
       "<tbody>\n",
       "\t<tr><td>chr1</td><td>100006256</td><td>100006880</td><td>chr1:100006256-100006880</td><td>-0.01311792</td><td>ASTARR</td><td>ASTARR_T</td></tr>\n",
       "\t<tr><td>chr1</td><td>100010437</td><td>100010915</td><td>chr1:100010437-100010915</td><td>-0.80687947</td><td>ASTARR</td><td>ASTARR_T</td></tr>\n",
       "\t<tr><td>chr1</td><td> 10002087</td><td> 10003910</td><td>chr1:10002087-10003910  </td><td>-0.34892859</td><td>ASTARR</td><td>ASTARR_T</td></tr>\n",
       "\t<tr><td>chr1</td><td>100021298</td><td>100021629</td><td>chr1:100021298-100021629</td><td>-1.03799571</td><td>ASTARR</td><td>ASTARR_T</td></tr>\n",
       "\t<tr><td>chr1</td><td>100023727</td><td>100023976</td><td>chr1:100023727-100023976</td><td>-0.19100207</td><td>ASTARR</td><td>ASTARR_T</td></tr>\n",
       "\t<tr><td>chr1</td><td>100027983</td><td>100029702</td><td>chr1:100027983-100029702</td><td>-0.18001582</td><td>ASTARR</td><td>ASTARR_T</td></tr>\n",
       "</tbody>\n",
       "</table>\n"
      ],
      "text/latex": [
       "A tibble: 6 × 7\n",
       "\\begin{tabular}{lllllll}\n",
       " Chrom & Start & End & Peak & Score & Assay\\_Type & Assay\\_Label\\\\\n",
       " <chr> & <dbl> & <dbl> & <chr> & <dbl> & <chr> & <chr>\\\\\n",
       "\\hline\n",
       "\t chr1 & 100006256 & 100006880 & chr1:100006256-100006880 & -0.01311792 & ASTARR & ASTARR\\_T\\\\\n",
       "\t chr1 & 100010437 & 100010915 & chr1:100010437-100010915 & -0.80687947 & ASTARR & ASTARR\\_T\\\\\n",
       "\t chr1 &  10002087 &  10003910 & chr1:10002087-10003910   & -0.34892859 & ASTARR & ASTARR\\_T\\\\\n",
       "\t chr1 & 100021298 & 100021629 & chr1:100021298-100021629 & -1.03799571 & ASTARR & ASTARR\\_T\\\\\n",
       "\t chr1 & 100023727 & 100023976 & chr1:100023727-100023976 & -0.19100207 & ASTARR & ASTARR\\_T\\\\\n",
       "\t chr1 & 100027983 & 100029702 & chr1:100027983-100029702 & -0.18001582 & ASTARR & ASTARR\\_T\\\\\n",
       "\\end{tabular}\n"
      ],
      "text/markdown": [
       "\n",
       "A tibble: 6 × 7\n",
       "\n",
       "| Chrom &lt;chr&gt; | Start &lt;dbl&gt; | End &lt;dbl&gt; | Peak &lt;chr&gt; | Score &lt;dbl&gt; | Assay_Type &lt;chr&gt; | Assay_Label &lt;chr&gt; |\n",
       "|---|---|---|---|---|---|---|\n",
       "| chr1 | 100006256 | 100006880 | chr1:100006256-100006880 | -0.01311792 | ASTARR | ASTARR_T |\n",
       "| chr1 | 100010437 | 100010915 | chr1:100010437-100010915 | -0.80687947 | ASTARR | ASTARR_T |\n",
       "| chr1 |  10002087 |  10003910 | chr1:10002087-10003910   | -0.34892859 | ASTARR | ASTARR_T |\n",
       "| chr1 | 100021298 | 100021629 | chr1:100021298-100021629 | -1.03799571 | ASTARR | ASTARR_T |\n",
       "| chr1 | 100023727 | 100023976 | chr1:100023727-100023976 | -0.19100207 | ASTARR | ASTARR_T |\n",
       "| chr1 | 100027983 | 100029702 | chr1:100027983-100029702 | -0.18001582 | ASTARR | ASTARR_T |\n",
       "\n"
      ],
      "text/plain": [
       "  Chrom Start     End       Peak                     Score       Assay_Type\n",
       "1 chr1  100006256 100006880 chr1:100006256-100006880 -0.01311792 ASTARR    \n",
       "2 chr1  100010437 100010915 chr1:100010437-100010915 -0.80687947 ASTARR    \n",
       "3 chr1   10002087  10003910 chr1:10002087-10003910   -0.34892859 ASTARR    \n",
       "4 chr1  100021298 100021629 chr1:100021298-100021629 -1.03799571 ASTARR    \n",
       "5 chr1  100023727 100023976 chr1:100023727-100023976 -0.19100207 ASTARR    \n",
       "6 chr1  100027983 100029702 chr1:100027983-100029702 -0.18001582 ASTARR    \n",
       "  Assay_Label\n",
       "1 ASTARR_T   \n",
       "2 ASTARR_T   \n",
       "3 ASTARR_T   \n",
       "4 ASTARR_T   \n",
       "5 ASTARR_T   \n",
       "6 ASTARR_T   "
      ]
     },
     "metadata": {},
     "output_type": "display_data"
    }
   ],
   "source": [
    "### set file paths\n",
    "fdiry  = file.path(\n",
    "    FD_RES, \n",
    "    \"results\",\n",
    "    \"region\",\n",
    "    \"KS91_K562_ASTARRseq_peak_macs_input\",\n",
    "    \"summary\"\n",
    ")\n",
    "fname = paste(\"peak\", \"screened\", \"fcc\", \"total\", \"tsv\", sep = \".\")\n",
    "fpath = file.path(fdiry, fname)\n",
    "\n",
    "### Read table\n",
    "dat = read_tsv(fpath, show_col_types = FALSE)\n",
    "\n",
    "### assign and show\n",
    "dat_peak_screened_total = dat\n",
    "print(dim(dat))\n",
    "print(table(dat$Assay_Type))\n",
    "head(dat)"
   ]
  },
  {
   "cell_type": "markdown",
   "id": "4105a642-4670-4f92-a110-9d4de6e151c9",
   "metadata": {},
   "source": [
    "**Check results**"
   ]
  },
  {
   "cell_type": "code",
   "execution_count": 9,
   "id": "ca4978cc-fdbf-4cac-a21e-6665b1269134",
   "metadata": {},
   "outputs": [
    {
     "data": {
      "image/png": "[encoded data removed]",
      "text/plain": [
       "plot without title"
      ]
     },
     "metadata": {
      "image/png": {
       "height": 540,
       "width": 600
      }
     },
     "output_type": "display_data"
    }
   ],
   "source": [
    "dat = dat_peak_screened_total\n",
    "gpt = ggplot(dat, aes(x=Score)) +\n",
    "    geom_histogram(bins = 50) +\n",
    "    theme_cowplot() +\n",
    "    facet_wrap(~Assay_Type, scales = \"free\")\n",
    "\n",
    "options(repr.plot.width=10, repr.plot.height=9)\n",
    "print(gpt)"
   ]
  },
  {
   "cell_type": "markdown",
   "id": "ee08013a-8e8b-4afd-92a8-bfec048f52bb",
   "metadata": {},
   "source": [
    "## Get inactive ATAC"
   ]
  },
  {
   "cell_type": "code",
   "execution_count": 30,
   "id": "911f1771-755c-4b90-b748-5442ba8e8967",
   "metadata": {},
   "outputs": [
    {
     "name": "stdout",
     "output_type": "stream",
     "text": [
      "[1] 600872      6\n",
      "\n",
      "               ASTARR        CRISPRi-Growth         CRISPRi-HCRFF \n",
      "               228970                 75409                  1272 \n",
      " ENCODE-E2G_Benchmark ENCODE-E2G_Prediction                 LMPRA \n",
      "                 2652                 48374                 35087 \n",
      "                TMPRA                WSTARR \n",
      "                  473                208635 \n"
     ]
    },
    {
     "data": {
      "text/html": [
       "<table class=\"dataframe\">\n",
       "<caption>A tibble: 6 × 6</caption>\n",
       "<thead>\n",
       "\t<tr><th scope=col>Chrom</th><th scope=col>Start</th><th scope=col>End</th><th scope=col>Peak</th><th scope=col>Assay_Type</th><th scope=col>Assay_Label</th></tr>\n",
       "\t<tr><th scope=col>&lt;chr&gt;</th><th scope=col>&lt;dbl&gt;</th><th scope=col>&lt;dbl&gt;</th><th scope=col>&lt;chr&gt;</th><th scope=col>&lt;chr&gt;</th><th scope=col>&lt;chr&gt;</th></tr>\n",
       "</thead>\n",
       "<tbody>\n",
       "\t<tr><td>chr1</td><td>10015</td><td>10442</td><td>chr1:10015-10442</td><td>ASTARR</td><td>ASTARR_I</td></tr>\n",
       "\t<tr><td>chr1</td><td>14253</td><td>14645</td><td>chr1:14253-14645</td><td>ASTARR</td><td>ASTARR_I</td></tr>\n",
       "\t<tr><td>chr1</td><td>16015</td><td>16477</td><td>chr1:16015-16477</td><td>ASTARR</td><td>ASTARR_I</td></tr>\n",
       "\t<tr><td>chr1</td><td>17237</td><td>17772</td><td>chr1:17237-17772</td><td>ASTARR</td><td>ASTARR_I</td></tr>\n",
       "\t<tr><td>chr1</td><td>28903</td><td>29613</td><td>chr1:28903-29613</td><td>ASTARR</td><td>ASTARR_I</td></tr>\n",
       "\t<tr><td>chr1</td><td>30803</td><td>31072</td><td>chr1:30803-31072</td><td>ASTARR</td><td>ASTARR_I</td></tr>\n",
       "</tbody>\n",
       "</table>\n"
      ],
      "text/latex": [
       "A tibble: 6 × 6\n",
       "\\begin{tabular}{llllll}\n",
       " Chrom & Start & End & Peak & Assay\\_Type & Assay\\_Label\\\\\n",
       " <chr> & <dbl> & <dbl> & <chr> & <chr> & <chr>\\\\\n",
       "\\hline\n",
       "\t chr1 & 10015 & 10442 & chr1:10015-10442 & ASTARR & ASTARR\\_I\\\\\n",
       "\t chr1 & 14253 & 14645 & chr1:14253-14645 & ASTARR & ASTARR\\_I\\\\\n",
       "\t chr1 & 16015 & 16477 & chr1:16015-16477 & ASTARR & ASTARR\\_I\\\\\n",
       "\t chr1 & 17237 & 17772 & chr1:17237-17772 & ASTARR & ASTARR\\_I\\\\\n",
       "\t chr1 & 28903 & 29613 & chr1:28903-29613 & ASTARR & ASTARR\\_I\\\\\n",
       "\t chr1 & 30803 & 31072 & chr1:30803-31072 & ASTARR & ASTARR\\_I\\\\\n",
       "\\end{tabular}\n"
      ],
      "text/markdown": [
       "\n",
       "A tibble: 6 × 6\n",
       "\n",
       "| Chrom &lt;chr&gt; | Start &lt;dbl&gt; | End &lt;dbl&gt; | Peak &lt;chr&gt; | Assay_Type &lt;chr&gt; | Assay_Label &lt;chr&gt; |\n",
       "|---|---|---|---|---|---|\n",
       "| chr1 | 10015 | 10442 | chr1:10015-10442 | ASTARR | ASTARR_I |\n",
       "| chr1 | 14253 | 14645 | chr1:14253-14645 | ASTARR | ASTARR_I |\n",
       "| chr1 | 16015 | 16477 | chr1:16015-16477 | ASTARR | ASTARR_I |\n",
       "| chr1 | 17237 | 17772 | chr1:17237-17772 | ASTARR | ASTARR_I |\n",
       "| chr1 | 28903 | 29613 | chr1:28903-29613 | ASTARR | ASTARR_I |\n",
       "| chr1 | 30803 | 31072 | chr1:30803-31072 | ASTARR | ASTARR_I |\n",
       "\n"
      ],
      "text/plain": [
       "  Chrom Start End   Peak             Assay_Type Assay_Label\n",
       "1 chr1  10015 10442 chr1:10015-10442 ASTARR     ASTARR_I   \n",
       "2 chr1  14253 14645 chr1:14253-14645 ASTARR     ASTARR_I   \n",
       "3 chr1  16015 16477 chr1:16015-16477 ASTARR     ASTARR_I   \n",
       "4 chr1  17237 17772 chr1:17237-17772 ASTARR     ASTARR_I   \n",
       "5 chr1  28903 29613 chr1:28903-29613 ASTARR     ASTARR_I   \n",
       "6 chr1  30803 31072 chr1:30803-31072 ASTARR     ASTARR_I   "
      ]
     },
     "metadata": {},
     "output_type": "display_data"
    }
   ],
   "source": [
    "### set file paths\n",
    "fdiry  = file.path(\n",
    "    FD_RES, \n",
    "    \"results\",\n",
    "    \"region\",\n",
    "    \"KS91_K562_ASTARRseq_peak_macs_input\",\n",
    "    \"summary\"\n",
    ")\n",
    "fname = paste(\"peak\", \"screened\", \"fcc\", \"inactive\", \"tsv\", sep = \".\")\n",
    "fpath = file.path(fdiry, fname)\n",
    "\n",
    "### Read table\n",
    "dat = read_tsv(fpath, show_col_types = FALSE)\n",
    "\n",
    "### assign and show\n",
    "dat_peak_screened_inactive = dat\n",
    "print(dim(dat))\n",
    "print(table(dat$Assay_Type))\n",
    "head(dat)"
   ]
  },
  {
   "cell_type": "markdown",
   "id": "29e3414d-a3ad-45d8-9328-f9f986fb4821",
   "metadata": {},
   "source": [
    "## Filter"
   ]
  },
  {
   "cell_type": "code",
   "execution_count": 31,
   "id": "ece382ff-32f0-421d-9dbe-c4cd68235486",
   "metadata": {},
   "outputs": [
    {
     "data": {
      "text/html": [
       "<table class=\"dataframe\">\n",
       "<caption>A tibble: 6 × 7</caption>\n",
       "<thead>\n",
       "\t<tr><th scope=col>Chrom</th><th scope=col>Start</th><th scope=col>End</th><th scope=col>Peak</th><th scope=col>Score</th><th scope=col>Assay_Type</th><th scope=col>Assay_Label</th></tr>\n",
       "\t<tr><th scope=col>&lt;chr&gt;</th><th scope=col>&lt;dbl&gt;</th><th scope=col>&lt;dbl&gt;</th><th scope=col>&lt;chr&gt;</th><th scope=col>&lt;dbl&gt;</th><th scope=col>&lt;chr&gt;</th><th scope=col>&lt;chr&gt;</th></tr>\n",
       "</thead>\n",
       "<tbody>\n",
       "\t<tr><td>chr1</td><td>100006256</td><td>100006880</td><td>chr1:100006256-100006880</td><td>-0.01311792</td><td>ASTARR</td><td>ASTARR_T</td></tr>\n",
       "\t<tr><td>chr1</td><td>100010437</td><td>100010915</td><td>chr1:100010437-100010915</td><td>-0.80687947</td><td>ASTARR</td><td>ASTARR_T</td></tr>\n",
       "\t<tr><td>chr1</td><td> 10002087</td><td> 10003910</td><td>chr1:10002087-10003910  </td><td>-0.34892859</td><td>ASTARR</td><td>ASTARR_T</td></tr>\n",
       "\t<tr><td>chr1</td><td>100021298</td><td>100021629</td><td>chr1:100021298-100021629</td><td>-1.03799571</td><td>ASTARR</td><td>ASTARR_T</td></tr>\n",
       "\t<tr><td>chr1</td><td>100023727</td><td>100023976</td><td>chr1:100023727-100023976</td><td>-0.19100207</td><td>ASTARR</td><td>ASTARR_T</td></tr>\n",
       "\t<tr><td>chr1</td><td>100027983</td><td>100029702</td><td>chr1:100027983-100029702</td><td>-0.18001582</td><td>ASTARR</td><td>ASTARR_T</td></tr>\n",
       "</tbody>\n",
       "</table>\n"
      ],
      "text/latex": [
       "A tibble: 6 × 7\n",
       "\\begin{tabular}{lllllll}\n",
       " Chrom & Start & End & Peak & Score & Assay\\_Type & Assay\\_Label\\\\\n",
       " <chr> & <dbl> & <dbl> & <chr> & <dbl> & <chr> & <chr>\\\\\n",
       "\\hline\n",
       "\t chr1 & 100006256 & 100006880 & chr1:100006256-100006880 & -0.01311792 & ASTARR & ASTARR\\_T\\\\\n",
       "\t chr1 & 100010437 & 100010915 & chr1:100010437-100010915 & -0.80687947 & ASTARR & ASTARR\\_T\\\\\n",
       "\t chr1 &  10002087 &  10003910 & chr1:10002087-10003910   & -0.34892859 & ASTARR & ASTARR\\_T\\\\\n",
       "\t chr1 & 100021298 & 100021629 & chr1:100021298-100021629 & -1.03799571 & ASTARR & ASTARR\\_T\\\\\n",
       "\t chr1 & 100023727 & 100023976 & chr1:100023727-100023976 & -0.19100207 & ASTARR & ASTARR\\_T\\\\\n",
       "\t chr1 & 100027983 & 100029702 & chr1:100027983-100029702 & -0.18001582 & ASTARR & ASTARR\\_T\\\\\n",
       "\\end{tabular}\n"
      ],
      "text/markdown": [
       "\n",
       "A tibble: 6 × 7\n",
       "\n",
       "| Chrom &lt;chr&gt; | Start &lt;dbl&gt; | End &lt;dbl&gt; | Peak &lt;chr&gt; | Score &lt;dbl&gt; | Assay_Type &lt;chr&gt; | Assay_Label &lt;chr&gt; |\n",
       "|---|---|---|---|---|---|---|\n",
       "| chr1 | 100006256 | 100006880 | chr1:100006256-100006880 | -0.01311792 | ASTARR | ASTARR_T |\n",
       "| chr1 | 100010437 | 100010915 | chr1:100010437-100010915 | -0.80687947 | ASTARR | ASTARR_T |\n",
       "| chr1 |  10002087 |  10003910 | chr1:10002087-10003910   | -0.34892859 | ASTARR | ASTARR_T |\n",
       "| chr1 | 100021298 | 100021629 | chr1:100021298-100021629 | -1.03799571 | ASTARR | ASTARR_T |\n",
       "| chr1 | 100023727 | 100023976 | chr1:100023727-100023976 | -0.19100207 | ASTARR | ASTARR_T |\n",
       "| chr1 | 100027983 | 100029702 | chr1:100027983-100029702 | -0.18001582 | ASTARR | ASTARR_T |\n",
       "\n"
      ],
      "text/plain": [
       "  Chrom Start     End       Peak                     Score       Assay_Type\n",
       "1 chr1  100006256 100006880 chr1:100006256-100006880 -0.01311792 ASTARR    \n",
       "2 chr1  100010437 100010915 chr1:100010437-100010915 -0.80687947 ASTARR    \n",
       "3 chr1   10002087  10003910 chr1:10002087-10003910   -0.34892859 ASTARR    \n",
       "4 chr1  100021298 100021629 chr1:100021298-100021629 -1.03799571 ASTARR    \n",
       "5 chr1  100023727 100023976 chr1:100023727-100023976 -0.19100207 ASTARR    \n",
       "6 chr1  100027983 100029702 chr1:100027983-100029702 -0.18001582 ASTARR    \n",
       "  Assay_Label\n",
       "1 ASTARR_T   \n",
       "2 ASTARR_T   \n",
       "3 ASTARR_T   \n",
       "4 ASTARR_T   \n",
       "5 ASTARR_T   \n",
       "6 ASTARR_T   "
      ]
     },
     "metadata": {},
     "output_type": "display_data"
    }
   ],
   "source": [
    "dat = dat_peak_screened_total\n",
    "head(dat)"
   ]
  },
  {
   "cell_type": "code",
   "execution_count": 43,
   "id": "ca046b7a-dfde-4bca-8364-aeb630049371",
   "metadata": {},
   "outputs": [
    {
     "name": "stdout",
     "output_type": "stream",
     "text": [
      "[1] 8 5\n"
     ]
    },
    {
     "data": {
      "text/html": [
       "<table class=\"dataframe\">\n",
       "<caption>A tibble: 6 × 5</caption>\n",
       "<thead>\n",
       "\t<tr><th scope=col>Assay_Type</th><th scope=col>Score_Mu</th><th scope=col>Score_SD</th><th scope=col>Score_Up</th><th scope=col>Score_Lw</th></tr>\n",
       "\t<tr><th scope=col>&lt;chr&gt;</th><th scope=col>&lt;dbl&gt;</th><th scope=col>&lt;dbl&gt;</th><th scope=col>&lt;dbl&gt;</th><th scope=col>&lt;dbl&gt;</th></tr>\n",
       "</thead>\n",
       "<tbody>\n",
       "\t<tr><td>ASTARR               </td><td> 0.0589208048</td><td>0.62944413</td><td>0.68836493</td><td>-0.57052332</td></tr>\n",
       "\t<tr><td>CRISPRi-Growth       </td><td> 0.0006558736</td><td>0.24228597</td><td>0.24294185</td><td>-0.24163010</td></tr>\n",
       "\t<tr><td>CRISPRi-HCRFF        </td><td> 0.0155558929</td><td>0.31164789</td><td>0.32720378</td><td>-0.29609200</td></tr>\n",
       "\t<tr><td>ENCODE-E2G_Benchmark </td><td>-0.0133548205</td><td>0.06079169</td><td>0.04743687</td><td>-0.07414651</td></tr>\n",
       "\t<tr><td>ENCODE-E2G_Prediction</td><td> 0.3828060727</td><td>0.36624211</td><td>0.74904818</td><td> 0.01656396</td></tr>\n",
       "\t<tr><td>LMPRA                </td><td> 1.6950502336</td><td>1.71266963</td><td>3.40771987</td><td>-0.01761940</td></tr>\n",
       "</tbody>\n",
       "</table>\n"
      ],
      "text/latex": [
       "A tibble: 6 × 5\n",
       "\\begin{tabular}{lllll}\n",
       " Assay\\_Type & Score\\_Mu & Score\\_SD & Score\\_Up & Score\\_Lw\\\\\n",
       " <chr> & <dbl> & <dbl> & <dbl> & <dbl>\\\\\n",
       "\\hline\n",
       "\t ASTARR                &  0.0589208048 & 0.62944413 & 0.68836493 & -0.57052332\\\\\n",
       "\t CRISPRi-Growth        &  0.0006558736 & 0.24228597 & 0.24294185 & -0.24163010\\\\\n",
       "\t CRISPRi-HCRFF         &  0.0155558929 & 0.31164789 & 0.32720378 & -0.29609200\\\\\n",
       "\t ENCODE-E2G\\_Benchmark  & -0.0133548205 & 0.06079169 & 0.04743687 & -0.07414651\\\\\n",
       "\t ENCODE-E2G\\_Prediction &  0.3828060727 & 0.36624211 & 0.74904818 &  0.01656396\\\\\n",
       "\t LMPRA                 &  1.6950502336 & 1.71266963 & 3.40771987 & -0.01761940\\\\\n",
       "\\end{tabular}\n"
      ],
      "text/markdown": [
       "\n",
       "A tibble: 6 × 5\n",
       "\n",
       "| Assay_Type &lt;chr&gt; | Score_Mu &lt;dbl&gt; | Score_SD &lt;dbl&gt; | Score_Up &lt;dbl&gt; | Score_Lw &lt;dbl&gt; |\n",
       "|---|---|---|---|---|\n",
       "| ASTARR                |  0.0589208048 | 0.62944413 | 0.68836493 | -0.57052332 |\n",
       "| CRISPRi-Growth        |  0.0006558736 | 0.24228597 | 0.24294185 | -0.24163010 |\n",
       "| CRISPRi-HCRFF         |  0.0155558929 | 0.31164789 | 0.32720378 | -0.29609200 |\n",
       "| ENCODE-E2G_Benchmark  | -0.0133548205 | 0.06079169 | 0.04743687 | -0.07414651 |\n",
       "| ENCODE-E2G_Prediction |  0.3828060727 | 0.36624211 | 0.74904818 |  0.01656396 |\n",
       "| LMPRA                 |  1.6950502336 | 1.71266963 | 3.40771987 | -0.01761940 |\n",
       "\n"
      ],
      "text/plain": [
       "  Assay_Type            Score_Mu      Score_SD   Score_Up   Score_Lw   \n",
       "1 ASTARR                 0.0589208048 0.62944413 0.68836493 -0.57052332\n",
       "2 CRISPRi-Growth         0.0006558736 0.24228597 0.24294185 -0.24163010\n",
       "3 CRISPRi-HCRFF          0.0155558929 0.31164789 0.32720378 -0.29609200\n",
       "4 ENCODE-E2G_Benchmark  -0.0133548205 0.06079169 0.04743687 -0.07414651\n",
       "5 ENCODE-E2G_Prediction  0.3828060727 0.36624211 0.74904818  0.01656396\n",
       "6 LMPRA                  1.6950502336 1.71266963 3.40771987 -0.01761940"
      ]
     },
     "metadata": {},
     "output_type": "display_data"
    }
   ],
   "source": [
    "dat = dat_peak_screened_total\n",
    "dat = dat %>% \n",
    "    dplyr::group_by(Assay_Type) %>%\n",
    "    dplyr::summarise(\n",
    "        Score_Mu = mean(Score),\n",
    "        Score_SD = sd(Score),\n",
    "        .groups = \"drop\"\n",
    "    ) %>%\n",
    "    dplyr::mutate(\n",
    "        Score_Up = Score_Mu + Score_SD,\n",
    "        Score_Lw = Score_Mu - Score_SD)\n",
    "\n",
    "dat_peak_screened_summary = dat\n",
    "print(dim(dat))\n",
    "head(dat)"
   ]
  },
  {
   "cell_type": "code",
   "execution_count": 44,
   "id": "1355cd16-c957-446f-9500-83a4149348e1",
   "metadata": {},
   "outputs": [
    {
     "name": "stdout",
     "output_type": "stream",
     "text": [
      "[1] 480460      2\n"
     ]
    },
    {
     "data": {
      "text/html": [
       "<table class=\"dataframe\">\n",
       "<caption>A tibble: 6 × 2</caption>\n",
       "<thead>\n",
       "\t<tr><th scope=col>Peak</th><th scope=col>Assay_Type</th></tr>\n",
       "\t<tr><th scope=col>&lt;chr&gt;</th><th scope=col>&lt;chr&gt;</th></tr>\n",
       "</thead>\n",
       "<tbody>\n",
       "\t<tr><td>chr1:100006256-100006880</td><td>ASTARR</td></tr>\n",
       "\t<tr><td>chr1:10002087-10003910  </td><td>ASTARR</td></tr>\n",
       "\t<tr><td>chr1:100023727-100023976</td><td>ASTARR</td></tr>\n",
       "\t<tr><td>chr1:100027983-100029702</td><td>ASTARR</td></tr>\n",
       "\t<tr><td>chr1:100044617-100044899</td><td>ASTARR</td></tr>\n",
       "\t<tr><td>chr1:100049562-100050540</td><td>ASTARR</td></tr>\n",
       "</tbody>\n",
       "</table>\n"
      ],
      "text/latex": [
       "A tibble: 6 × 2\n",
       "\\begin{tabular}{ll}\n",
       " Peak & Assay\\_Type\\\\\n",
       " <chr> & <chr>\\\\\n",
       "\\hline\n",
       "\t chr1:100006256-100006880 & ASTARR\\\\\n",
       "\t chr1:10002087-10003910   & ASTARR\\\\\n",
       "\t chr1:100023727-100023976 & ASTARR\\\\\n",
       "\t chr1:100027983-100029702 & ASTARR\\\\\n",
       "\t chr1:100044617-100044899 & ASTARR\\\\\n",
       "\t chr1:100049562-100050540 & ASTARR\\\\\n",
       "\\end{tabular}\n"
      ],
      "text/markdown": [
       "\n",
       "A tibble: 6 × 2\n",
       "\n",
       "| Peak &lt;chr&gt; | Assay_Type &lt;chr&gt; |\n",
       "|---|---|\n",
       "| chr1:100006256-100006880 | ASTARR |\n",
       "| chr1:10002087-10003910   | ASTARR |\n",
       "| chr1:100023727-100023976 | ASTARR |\n",
       "| chr1:100027983-100029702 | ASTARR |\n",
       "| chr1:100044617-100044899 | ASTARR |\n",
       "| chr1:100049562-100050540 | ASTARR |\n",
       "\n"
      ],
      "text/plain": [
       "  Peak                     Assay_Type\n",
       "1 chr1:100006256-100006880 ASTARR    \n",
       "2 chr1:10002087-10003910   ASTARR    \n",
       "3 chr1:100023727-100023976 ASTARR    \n",
       "4 chr1:100027983-100029702 ASTARR    \n",
       "5 chr1:100044617-100044899 ASTARR    \n",
       "6 chr1:100049562-100050540 ASTARR    "
      ]
     },
     "metadata": {},
     "output_type": "display_data"
    }
   ],
   "source": [
    "vec_txt_assay = c(\n",
    "    \"ASTARR\", \"WSTARR\", \"TMPRA\", \"LMPRA\", \n",
    "    \"CRISPRi-HCRFF\",\n",
    "    \"CRISPRi-Growth\",\n",
    "    \"ENCODE-E2G_Benchmark\"\n",
    ")\n",
    "\n",
    "dat = dplyr::left_join(\n",
    "    dat_peak_screened_total,\n",
    "    dat_peak_screened_summary,\n",
    "    by = \"Assay_Type\")\n",
    "dat = dat %>% \n",
    "    dplyr::filter(Assay_Type %in% vec_txt_assay) %>%\n",
    "    dplyr::filter(\n",
    "        Score < Score_Up,\n",
    "        Score > Score_Lw\n",
    "    ) %>%\n",
    "    dplyr::select(Peak, Assay_Type)\n",
    "\n",
    "### assign and show\n",
    "dat_peak_screened_total_filter = dat\n",
    "print(dim(dat))\n",
    "head(dat)"
   ]
  },
  {
   "cell_type": "code",
   "execution_count": 45,
   "id": "65e7e63f-15a6-4056-8742-34b57f0973a9",
   "metadata": {},
   "outputs": [
    {
     "data": {
      "text/html": [
       "<table class=\"dataframe\">\n",
       "<caption>A tibble: 6 × 6</caption>\n",
       "<thead>\n",
       "\t<tr><th scope=col>Chrom</th><th scope=col>Start</th><th scope=col>End</th><th scope=col>Peak</th><th scope=col>Assay_Type</th><th scope=col>Assay_Label</th></tr>\n",
       "\t<tr><th scope=col>&lt;chr&gt;</th><th scope=col>&lt;dbl&gt;</th><th scope=col>&lt;dbl&gt;</th><th scope=col>&lt;chr&gt;</th><th scope=col>&lt;chr&gt;</th><th scope=col>&lt;chr&gt;</th></tr>\n",
       "</thead>\n",
       "<tbody>\n",
       "\t<tr><td>chr1</td><td>10015</td><td>10442</td><td>chr1:10015-10442</td><td>ASTARR</td><td>ASTARR_I</td></tr>\n",
       "\t<tr><td>chr1</td><td>14253</td><td>14645</td><td>chr1:14253-14645</td><td>ASTARR</td><td>ASTARR_I</td></tr>\n",
       "\t<tr><td>chr1</td><td>16015</td><td>16477</td><td>chr1:16015-16477</td><td>ASTARR</td><td>ASTARR_I</td></tr>\n",
       "\t<tr><td>chr1</td><td>17237</td><td>17772</td><td>chr1:17237-17772</td><td>ASTARR</td><td>ASTARR_I</td></tr>\n",
       "\t<tr><td>chr1</td><td>28903</td><td>29613</td><td>chr1:28903-29613</td><td>ASTARR</td><td>ASTARR_I</td></tr>\n",
       "\t<tr><td>chr1</td><td>30803</td><td>31072</td><td>chr1:30803-31072</td><td>ASTARR</td><td>ASTARR_I</td></tr>\n",
       "</tbody>\n",
       "</table>\n"
      ],
      "text/latex": [
       "A tibble: 6 × 6\n",
       "\\begin{tabular}{llllll}\n",
       " Chrom & Start & End & Peak & Assay\\_Type & Assay\\_Label\\\\\n",
       " <chr> & <dbl> & <dbl> & <chr> & <chr> & <chr>\\\\\n",
       "\\hline\n",
       "\t chr1 & 10015 & 10442 & chr1:10015-10442 & ASTARR & ASTARR\\_I\\\\\n",
       "\t chr1 & 14253 & 14645 & chr1:14253-14645 & ASTARR & ASTARR\\_I\\\\\n",
       "\t chr1 & 16015 & 16477 & chr1:16015-16477 & ASTARR & ASTARR\\_I\\\\\n",
       "\t chr1 & 17237 & 17772 & chr1:17237-17772 & ASTARR & ASTARR\\_I\\\\\n",
       "\t chr1 & 28903 & 29613 & chr1:28903-29613 & ASTARR & ASTARR\\_I\\\\\n",
       "\t chr1 & 30803 & 31072 & chr1:30803-31072 & ASTARR & ASTARR\\_I\\\\\n",
       "\\end{tabular}\n"
      ],
      "text/markdown": [
       "\n",
       "A tibble: 6 × 6\n",
       "\n",
       "| Chrom &lt;chr&gt; | Start &lt;dbl&gt; | End &lt;dbl&gt; | Peak &lt;chr&gt; | Assay_Type &lt;chr&gt; | Assay_Label &lt;chr&gt; |\n",
       "|---|---|---|---|---|---|\n",
       "| chr1 | 10015 | 10442 | chr1:10015-10442 | ASTARR | ASTARR_I |\n",
       "| chr1 | 14253 | 14645 | chr1:14253-14645 | ASTARR | ASTARR_I |\n",
       "| chr1 | 16015 | 16477 | chr1:16015-16477 | ASTARR | ASTARR_I |\n",
       "| chr1 | 17237 | 17772 | chr1:17237-17772 | ASTARR | ASTARR_I |\n",
       "| chr1 | 28903 | 29613 | chr1:28903-29613 | ASTARR | ASTARR_I |\n",
       "| chr1 | 30803 | 31072 | chr1:30803-31072 | ASTARR | ASTARR_I |\n",
       "\n"
      ],
      "text/plain": [
       "  Chrom Start End   Peak             Assay_Type Assay_Label\n",
       "1 chr1  10015 10442 chr1:10015-10442 ASTARR     ASTARR_I   \n",
       "2 chr1  14253 14645 chr1:14253-14645 ASTARR     ASTARR_I   \n",
       "3 chr1  16015 16477 chr1:16015-16477 ASTARR     ASTARR_I   \n",
       "4 chr1  17237 17772 chr1:17237-17772 ASTARR     ASTARR_I   \n",
       "5 chr1  28903 29613 chr1:28903-29613 ASTARR     ASTARR_I   \n",
       "6 chr1  30803 31072 chr1:30803-31072 ASTARR     ASTARR_I   "
      ]
     },
     "metadata": {},
     "output_type": "display_data"
    }
   ],
   "source": [
    "head(dat_peak_screened_inactive)"
   ]
  },
  {
   "cell_type": "code",
   "execution_count": 46,
   "id": "9c117adf-fd66-4c30-a187-024ba656a287",
   "metadata": {},
   "outputs": [
    {
     "data": {
      "text/html": [
       "<table class=\"dataframe\">\n",
       "<caption>A tibble: 6 × 2</caption>\n",
       "<thead>\n",
       "\t<tr><th scope=col>Peak</th><th scope=col>Assay_Type</th></tr>\n",
       "\t<tr><th scope=col>&lt;chr&gt;</th><th scope=col>&lt;chr&gt;</th></tr>\n",
       "</thead>\n",
       "<tbody>\n",
       "\t<tr><td>chr1:100006256-100006880</td><td>ASTARR</td></tr>\n",
       "\t<tr><td>chr1:10002087-10003910  </td><td>ASTARR</td></tr>\n",
       "\t<tr><td>chr1:100023727-100023976</td><td>ASTARR</td></tr>\n",
       "\t<tr><td>chr1:100027983-100029702</td><td>ASTARR</td></tr>\n",
       "\t<tr><td>chr1:100044617-100044899</td><td>ASTARR</td></tr>\n",
       "\t<tr><td>chr1:100049562-100050540</td><td>ASTARR</td></tr>\n",
       "</tbody>\n",
       "</table>\n"
      ],
      "text/latex": [
       "A tibble: 6 × 2\n",
       "\\begin{tabular}{ll}\n",
       " Peak & Assay\\_Type\\\\\n",
       " <chr> & <chr>\\\\\n",
       "\\hline\n",
       "\t chr1:100006256-100006880 & ASTARR\\\\\n",
       "\t chr1:10002087-10003910   & ASTARR\\\\\n",
       "\t chr1:100023727-100023976 & ASTARR\\\\\n",
       "\t chr1:100027983-100029702 & ASTARR\\\\\n",
       "\t chr1:100044617-100044899 & ASTARR\\\\\n",
       "\t chr1:100049562-100050540 & ASTARR\\\\\n",
       "\\end{tabular}\n"
      ],
      "text/markdown": [
       "\n",
       "A tibble: 6 × 2\n",
       "\n",
       "| Peak &lt;chr&gt; | Assay_Type &lt;chr&gt; |\n",
       "|---|---|\n",
       "| chr1:100006256-100006880 | ASTARR |\n",
       "| chr1:10002087-10003910   | ASTARR |\n",
       "| chr1:100023727-100023976 | ASTARR |\n",
       "| chr1:100027983-100029702 | ASTARR |\n",
       "| chr1:100044617-100044899 | ASTARR |\n",
       "| chr1:100049562-100050540 | ASTARR |\n",
       "\n"
      ],
      "text/plain": [
       "  Peak                     Assay_Type\n",
       "1 chr1:100006256-100006880 ASTARR    \n",
       "2 chr1:10002087-10003910   ASTARR    \n",
       "3 chr1:100023727-100023976 ASTARR    \n",
       "4 chr1:100027983-100029702 ASTARR    \n",
       "5 chr1:100044617-100044899 ASTARR    \n",
       "6 chr1:100049562-100050540 ASTARR    "
      ]
     },
     "metadata": {},
     "output_type": "display_data"
    }
   ],
   "source": [
    "head(dat_peak_screened_total_filter)"
   ]
  },
  {
   "cell_type": "code",
   "execution_count": 49,
   "id": "0772fac8-3444-4bab-9b86-ef2f87c7c6ce",
   "metadata": {},
   "outputs": [
    {
     "name": "stdout",
     "output_type": "stream",
     "text": [
      "[1] 435431      6\n"
     ]
    },
    {
     "data": {
      "text/html": [
       "<table class=\"dataframe\">\n",
       "<caption>A tibble: 6 × 6</caption>\n",
       "<thead>\n",
       "\t<tr><th scope=col>Chrom</th><th scope=col>Start</th><th scope=col>End</th><th scope=col>Peak</th><th scope=col>Assay_Type</th><th scope=col>Assay_Label</th></tr>\n",
       "\t<tr><th scope=col>&lt;chr&gt;</th><th scope=col>&lt;dbl&gt;</th><th scope=col>&lt;dbl&gt;</th><th scope=col>&lt;chr&gt;</th><th scope=col>&lt;chr&gt;</th><th scope=col>&lt;chr&gt;</th></tr>\n",
       "</thead>\n",
       "<tbody>\n",
       "\t<tr><td>chr1</td><td>100006256</td><td>100006880</td><td>chr1:100006256-100006880</td><td>ASTARR</td><td>ASTARR_I</td></tr>\n",
       "\t<tr><td>chr1</td><td> 10002087</td><td> 10003910</td><td>chr1:10002087-10003910  </td><td>ASTARR</td><td>ASTARR_I</td></tr>\n",
       "\t<tr><td>chr1</td><td>100023727</td><td>100023976</td><td>chr1:100023727-100023976</td><td>ASTARR</td><td>ASTARR_I</td></tr>\n",
       "\t<tr><td>chr1</td><td>100027983</td><td>100029702</td><td>chr1:100027983-100029702</td><td>ASTARR</td><td>ASTARR_I</td></tr>\n",
       "\t<tr><td>chr1</td><td>100044617</td><td>100044899</td><td>chr1:100044617-100044899</td><td>ASTARR</td><td>ASTARR_I</td></tr>\n",
       "\t<tr><td>chr1</td><td>100049562</td><td>100050540</td><td>chr1:100049562-100050540</td><td>ASTARR</td><td>ASTARR_I</td></tr>\n",
       "</tbody>\n",
       "</table>\n"
      ],
      "text/latex": [
       "A tibble: 6 × 6\n",
       "\\begin{tabular}{llllll}\n",
       " Chrom & Start & End & Peak & Assay\\_Type & Assay\\_Label\\\\\n",
       " <chr> & <dbl> & <dbl> & <chr> & <chr> & <chr>\\\\\n",
       "\\hline\n",
       "\t chr1 & 100006256 & 100006880 & chr1:100006256-100006880 & ASTARR & ASTARR\\_I\\\\\n",
       "\t chr1 &  10002087 &  10003910 & chr1:10002087-10003910   & ASTARR & ASTARR\\_I\\\\\n",
       "\t chr1 & 100023727 & 100023976 & chr1:100023727-100023976 & ASTARR & ASTARR\\_I\\\\\n",
       "\t chr1 & 100027983 & 100029702 & chr1:100027983-100029702 & ASTARR & ASTARR\\_I\\\\\n",
       "\t chr1 & 100044617 & 100044899 & chr1:100044617-100044899 & ASTARR & ASTARR\\_I\\\\\n",
       "\t chr1 & 100049562 & 100050540 & chr1:100049562-100050540 & ASTARR & ASTARR\\_I\\\\\n",
       "\\end{tabular}\n"
      ],
      "text/markdown": [
       "\n",
       "A tibble: 6 × 6\n",
       "\n",
       "| Chrom &lt;chr&gt; | Start &lt;dbl&gt; | End &lt;dbl&gt; | Peak &lt;chr&gt; | Assay_Type &lt;chr&gt; | Assay_Label &lt;chr&gt; |\n",
       "|---|---|---|---|---|---|\n",
       "| chr1 | 100006256 | 100006880 | chr1:100006256-100006880 | ASTARR | ASTARR_I |\n",
       "| chr1 |  10002087 |  10003910 | chr1:10002087-10003910   | ASTARR | ASTARR_I |\n",
       "| chr1 | 100023727 | 100023976 | chr1:100023727-100023976 | ASTARR | ASTARR_I |\n",
       "| chr1 | 100027983 | 100029702 | chr1:100027983-100029702 | ASTARR | ASTARR_I |\n",
       "| chr1 | 100044617 | 100044899 | chr1:100044617-100044899 | ASTARR | ASTARR_I |\n",
       "| chr1 | 100049562 | 100050540 | chr1:100049562-100050540 | ASTARR | ASTARR_I |\n",
       "\n"
      ],
      "text/plain": [
       "  Chrom Start     End       Peak                     Assay_Type Assay_Label\n",
       "1 chr1  100006256 100006880 chr1:100006256-100006880 ASTARR     ASTARR_I   \n",
       "2 chr1   10002087  10003910 chr1:10002087-10003910   ASTARR     ASTARR_I   \n",
       "3 chr1  100023727 100023976 chr1:100023727-100023976 ASTARR     ASTARR_I   \n",
       "4 chr1  100027983 100029702 chr1:100027983-100029702 ASTARR     ASTARR_I   \n",
       "5 chr1  100044617 100044899 chr1:100044617-100044899 ASTARR     ASTARR_I   \n",
       "6 chr1  100049562 100050540 chr1:100049562-100050540 ASTARR     ASTARR_I   "
      ]
     },
     "metadata": {},
     "output_type": "display_data"
    }
   ],
   "source": [
    "### merge to filter the inactive peaks\n",
    "dat = dplyr::inner_join(\n",
    "    dat_peak_screened_total_filter,\n",
    "    dat_peak_screened_inactive,\n",
    "    by = c(\"Peak\", \"Assay_Type\"))\n",
    "\n",
    "### arrange column order\n",
    "dat = dat %>% dplyr::select(Chrom, Start, End, Peak, Assay_Type, Assay_Label)\n",
    "\n",
    "### assign and show\n",
    "dat_peak_screened_inactive_filter = dat\n",
    "print(dim(dat))\n",
    "head(dat)"
   ]
  },
  {
   "cell_type": "code",
   "execution_count": 50,
   "id": "2211e94f-4fd2-4084-bed4-811af956cf85",
   "metadata": {},
   "outputs": [
    {
     "name": "stdout",
     "output_type": "stream",
     "text": [
      "[1] 600872      6\n",
      "\n",
      "               ASTARR        CRISPRi-Growth         CRISPRi-HCRFF \n",
      "               228970                 75409                  1272 \n",
      " ENCODE-E2G_Benchmark ENCODE-E2G_Prediction                 LMPRA \n",
      "                 2652                 48374                 35087 \n",
      "                TMPRA                WSTARR \n",
      "                  473                208635 \n",
      "[1] 435431      6\n",
      "\n",
      "              ASTARR       CRISPRi-Growth        CRISPRi-HCRFF \n",
      "              173373                64246                 1198 \n",
      "ENCODE-E2G_Benchmark                LMPRA                TMPRA \n",
      "                2524                28068                  299 \n",
      "              WSTARR \n",
      "              165723 \n"
     ]
    }
   ],
   "source": [
    "dat = dat_peak_screened_inactive\n",
    "print(dim(dat))\n",
    "print(table(dat$Assay_Type))\n",
    "\n",
    "dat = dat_peak_screened_inactive_filter\n",
    "print(dim(dat))\n",
    "print(table(dat$Assay_Type))"
   ]
  },
  {
   "cell_type": "markdown",
   "id": "992105e1-5d91-4715-b300-7171dd6af55c",
   "metadata": {},
   "source": [
    "## Save results"
   ]
  },
  {
   "cell_type": "code",
   "execution_count": 51,
   "id": "f6523c57-0456-4fd2-9c10-ddd97a57c93f",
   "metadata": {},
   "outputs": [],
   "source": [
    "### set file paths\n",
    "fdiry  = file.path(\n",
    "    FD_RES, \n",
    "    \"results\",\n",
    "    \"region\",\n",
    "    \"KS91_K562_ASTARRseq_peak_macs_input\",\n",
    "    \"summary\"\n",
    ")\n",
    "fname = paste(\"peak\", \"screened\", \"fcc\", \"inactive\", \"filter\", \"tsv\", sep = \".\")\n",
    "fpath = file.path(fdiry, fname)\n",
    "\n",
    "### Write table\n",
    "dat = dat_peak_screened_inactive_filter\n",
    "write_tsv(dat, fpath)"
   ]
  },
  {
   "cell_type": "code",
   "execution_count": null,
   "id": "bed07d9e-8a6c-4834-af83-3c5649bd1f4b",
   "metadata": {},
   "outputs": [],
   "source": []
  }
 ],
 "metadata": {
  "kernelspec": {
   "display_name": "R",
   "language": "R",
   "name": "ir"
  },
  "language_info": {
   "codemirror_mode": "r",
   "file_extension": ".r",
   "mimetype": "text/x-r-source",
   "name": "R",
   "pygments_lexer": "r",
   "version": "4.3.1"
  }
 },
 "nbformat": 4,
 "nbformat_minor": 5
}
