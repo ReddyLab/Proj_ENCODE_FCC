{
 "cells": [
  {
   "cell_type": "markdown",
   "metadata": {},
   "source": [
    "**Set environment**"
   ]
  },
  {
   "cell_type": "code",
   "execution_count": 1,
   "metadata": {},
   "outputs": [
    {
     "name": "stdout",
     "output_type": "stream",
     "text": [
      "You are in Singularity: singularity_proj_encode_fcc \n",
      "BASE DIRECTORY (FD_BASE): /data/reddylab/Kuei \n",
      "WORK DIRECTORY (FD_WORK): /data/reddylab/Kuei/out \n",
      "CODE DIRECTORY (FD_CODE): /data/reddylab/Kuei/code \n",
      "PATH OF PROJECT (FD_PRJ): /data/reddylab/Kuei/code/Proj_CombEffect_ENCODE_FCC \n",
      "PATH OF RESULTS (FD_RES): /data/reddylab/Kuei/out/proj_combeffect_encode_fcc \n",
      "PATH OF LOG     (FD_LOG): /data/reddylab/Kuei/out/proj_combeffect_encode_fcc/log \n"
     ]
    }
   ],
   "source": [
    "suppressMessages(suppressWarnings(source(\"../config/config_sing.R\")))\n",
    "show_env()"
   ]
  },
  {
   "cell_type": "markdown",
   "metadata": {},
   "source": [
    "**Check data files**"
   ]
  },
  {
   "cell_type": "code",
   "execution_count": 2,
   "metadata": {},
   "outputs": [
    {
     "name": "stdout",
     "output_type": "stream",
     "text": [
      "[1] \"peak.annotation.enhancer_zscore_junke.inactive.ASTARR.merge.bed.gz\"\n",
      "[2] \"peak.annotation.enhancer_zscore_junke.inactive.LMPRA.merge.bed.gz\" \n",
      "[3] \"peak.annotation.enhancer_zscore_junke.inactive.TMPRA.merge.bed.gz\" \n",
      "[4] \"peak.annotation.enhancer_zscore_junke.inactive.WSTARR.merge.bed.gz\"\n"
     ]
    }
   ],
   "source": [
    "fdiry  = file.path(\n",
    "    FD_RES, \n",
    "    \"results\",\n",
    "    \"region\",\n",
    "    \"KS91_K562_ASTARRseq_peak_macs_input\"\n",
    ")\n",
    "fname = \"peak.annotation.*.inactive.*.bed.gz\"\n",
    "fglob = file.path(fdiry, \"*\", fname)\n",
    "fpaths = Sys.glob(fglob)\n",
    "fnames = basename(fpaths)\n",
    "print(fnames)"
   ]
  },
  {
   "cell_type": "code",
   "execution_count": 3,
   "metadata": {},
   "outputs": [
    {
     "name": "stdout",
     "output_type": "stream",
     "text": [
      "[1] \"peak.intersect.inverse.crispri_growth.dhs.active.bed.gz\"                                   \n",
      "[2] \"peak.intersect.inverse.crispri_hcrff.casa.bed.gz\"                                          \n",
      "[3] \"peak.intersect.inverse.K562.EPCrisprBenchmark.active.merge.bed.gz\"                         \n",
      "[4] \"peak.intersect.inverse.K562.ENCSR328LMT.ENCFF202FID.element_gene_links.active.merge.bed.gz\"\n",
      "[5] \"peak.intersect.inverse.enhancer_zscore_junke.peak.ASTARR.bed.gz\"                           \n",
      "[6] \"peak.intersect.inverse.enhancer_zscore_junke.peak.LMPRA.bed.gz\"                            \n",
      "[7] \"peak.intersect.inverse.enhancer_zscore_junke.peak.TMPRA.bed.gz\"                            \n",
      "[8] \"peak.intersect.inverse.enhancer_zscore_junke.peak.WSTARR.bed.gz\"                           \n"
     ]
    }
   ],
   "source": [
    "fdiry  = file.path(\n",
    "    FD_RES, \n",
    "    \"results\",\n",
    "    \"region\",\n",
    "    \"KS91_K562_ASTARRseq_peak_macs_input\"\n",
    ")\n",
    "fname = \"peak.intersect.inverse.*.bed.gz\"\n",
    "fglob = file.path(fdiry, \"*\", fname)\n",
    "fpaths = Sys.glob(fglob)\n",
    "fnames = basename(fpaths)\n",
    "print(fnames)"
   ]
  },
  {
   "cell_type": "markdown",
   "metadata": {},
   "source": [
    "## Import data"
   ]
  },
  {
   "cell_type": "code",
   "execution_count": 7,
   "metadata": {},
   "outputs": [
    {
     "name": "stdout",
     "output_type": "stream",
     "text": [
      "peak.intersect.inverse.enhancer_zscore_junke.peak.ASTARR.bed.gz \n",
      "\u001b[90m# A tibble: 3 × 3\u001b[39m\n",
      "  X1           X2        X3\n",
      "  \u001b[3m\u001b[90m<chr>\u001b[39m\u001b[23m     \u001b[3m\u001b[90m<dbl>\u001b[39m\u001b[23m     \u001b[3m\u001b[90m<dbl>\u001b[39m\u001b[23m\n",
      "\u001b[90m1\u001b[39m chr1  100\u001b[4m0\u001b[24m\u001b[4m0\u001b[24m\u001b[4m6\u001b[24m256 100\u001b[4m0\u001b[24m\u001b[4m0\u001b[24m\u001b[4m6\u001b[24m880\n",
      "\u001b[90m2\u001b[39m chr1  100\u001b[4m0\u001b[24m\u001b[4m1\u001b[24m\u001b[4m0\u001b[24m437 100\u001b[4m0\u001b[24m\u001b[4m1\u001b[24m\u001b[4m0\u001b[24m915\n",
      "\u001b[90m3\u001b[39m chr1   10\u001b[4m0\u001b[24m\u001b[4m0\u001b[24m\u001b[4m2\u001b[24m087  10\u001b[4m0\u001b[24m\u001b[4m0\u001b[24m\u001b[4m3\u001b[24m910\n",
      "\n",
      "peak.intersect.inverse.enhancer_zscore_junke.peak.WSTARR.bed.gz \n",
      "\u001b[90m# A tibble: 3 × 3\u001b[39m\n",
      "  X1           X2        X3\n",
      "  \u001b[3m\u001b[90m<chr>\u001b[39m\u001b[23m     \u001b[3m\u001b[90m<dbl>\u001b[39m\u001b[23m     \u001b[3m\u001b[90m<dbl>\u001b[39m\u001b[23m\n",
      "\u001b[90m1\u001b[39m chr1  100\u001b[4m0\u001b[24m\u001b[4m0\u001b[24m\u001b[4m6\u001b[24m256 100\u001b[4m0\u001b[24m\u001b[4m0\u001b[24m\u001b[4m6\u001b[24m880\n",
      "\u001b[90m2\u001b[39m chr1  100\u001b[4m0\u001b[24m\u001b[4m1\u001b[24m\u001b[4m0\u001b[24m437 100\u001b[4m0\u001b[24m\u001b[4m1\u001b[24m\u001b[4m0\u001b[24m915\n",
      "\u001b[90m3\u001b[39m chr1   10\u001b[4m0\u001b[24m\u001b[4m0\u001b[24m\u001b[4m2\u001b[24m087  10\u001b[4m0\u001b[24m\u001b[4m0\u001b[24m\u001b[4m3\u001b[24m910\n",
      "\n",
      "peak.intersect.inverse.enhancer_zscore_junke.peak.TMPRA.bed.gz \n",
      "\u001b[90m# A tibble: 3 × 3\u001b[39m\n",
      "  X1          X2       X3\n",
      "  \u001b[3m\u001b[90m<chr>\u001b[39m\u001b[23m    \u001b[3m\u001b[90m<dbl>\u001b[39m\u001b[23m    \u001b[3m\u001b[90m<dbl>\u001b[39m\u001b[23m\n",
      "\u001b[90m1\u001b[39m chr11 32\u001b[4m8\u001b[24m\u001b[4m7\u001b[24m\u001b[4m0\u001b[24m601 32\u001b[4m8\u001b[24m\u001b[4m7\u001b[24m\u001b[4m1\u001b[24m324\n",
      "\u001b[90m2\u001b[39m chr11 32\u001b[4m9\u001b[24m\u001b[4m0\u001b[24m\u001b[4m1\u001b[24m572 32\u001b[4m9\u001b[24m\u001b[4m0\u001b[24m\u001b[4m2\u001b[24m485\n",
      "\u001b[90m3\u001b[39m chr11 32\u001b[4m9\u001b[24m\u001b[4m0\u001b[24m\u001b[4m3\u001b[24m491 32\u001b[4m9\u001b[24m\u001b[4m0\u001b[24m\u001b[4m4\u001b[24m506\n",
      "\n",
      "peak.intersect.inverse.enhancer_zscore_junke.peak.LMPRA.bed.gz \n",
      "\u001b[90m# A tibble: 3 × 3\u001b[39m\n",
      "  X1           X2        X3\n",
      "  \u001b[3m\u001b[90m<chr>\u001b[39m\u001b[23m     \u001b[3m\u001b[90m<dbl>\u001b[39m\u001b[23m     \u001b[3m\u001b[90m<dbl>\u001b[39m\u001b[23m\n",
      "\u001b[90m1\u001b[39m chr1  100\u001b[4m0\u001b[24m\u001b[4m4\u001b[24m\u001b[4m8\u001b[24m234 100\u001b[4m0\u001b[24m\u001b[4m4\u001b[24m\u001b[4m8\u001b[24m985\n",
      "\u001b[90m2\u001b[39m chr1  100\u001b[4m0\u001b[24m\u001b[4m4\u001b[24m\u001b[4m9\u001b[24m562 100\u001b[4m0\u001b[24m\u001b[4m5\u001b[24m\u001b[4m0\u001b[24m540\n",
      "\u001b[90m3\u001b[39m chr1   10\u001b[4m0\u001b[24m\u001b[4m1\u001b[24m\u001b[4m5\u001b[24m071  10\u001b[4m0\u001b[24m\u001b[4m1\u001b[24m\u001b[4m6\u001b[24m215\n",
      "\n",
      "peak.intersect.inverse.crispri_hcrff.casa.bed.gz \n",
      "\u001b[90m# A tibble: 3 × 3\u001b[39m\n",
      "  X1          X2       X3\n",
      "  \u001b[3m\u001b[90m<chr>\u001b[39m\u001b[23m    \u001b[3m\u001b[90m<dbl>\u001b[39m\u001b[23m    \u001b[3m\u001b[90m<dbl>\u001b[39m\u001b[23m\n",
      "\u001b[90m1\u001b[39m chr11 33\u001b[4m0\u001b[24m\u001b[4m6\u001b[24m\u001b[4m5\u001b[24m336 33\u001b[4m0\u001b[24m\u001b[4m6\u001b[24m\u001b[4m6\u001b[24m228\n",
      "\u001b[90m2\u001b[39m chr11 33\u001b[4m0\u001b[24m\u001b[4m6\u001b[24m\u001b[4m8\u001b[24m519 33\u001b[4m0\u001b[24m\u001b[4m6\u001b[24m\u001b[4m9\u001b[24m100\n",
      "\u001b[90m3\u001b[39m chr11 33\u001b[4m0\u001b[24m\u001b[4m7\u001b[24m\u001b[4m2\u001b[24m412 33\u001b[4m0\u001b[24m\u001b[4m7\u001b[24m\u001b[4m2\u001b[24m630\n",
      "\n",
      "peak.intersect.inverse.crispri_growth.dhs.active.bed.gz \n",
      "\u001b[90m# A tibble: 3 × 3\u001b[39m\n",
      "  X1           X2        X3\n",
      "  \u001b[3m\u001b[90m<chr>\u001b[39m\u001b[23m     \u001b[3m\u001b[90m<dbl>\u001b[39m\u001b[23m     \u001b[3m\u001b[90m<dbl>\u001b[39m\u001b[23m\n",
      "\u001b[90m1\u001b[39m chr1  100\u001b[4m0\u001b[24m\u001b[4m2\u001b[24m\u001b[4m7\u001b[24m983 100\u001b[4m0\u001b[24m\u001b[4m2\u001b[24m\u001b[4m9\u001b[24m702\n",
      "\u001b[90m2\u001b[39m chr1  100\u001b[4m0\u001b[24m\u001b[4m3\u001b[24m\u001b[4m6\u001b[24m871 100\u001b[4m0\u001b[24m\u001b[4m3\u001b[24m\u001b[4m9\u001b[24m191\n",
      "\u001b[90m3\u001b[39m chr1   10\u001b[4m0\u001b[24m\u001b[4m1\u001b[24m\u001b[4m8\u001b[24m625  10\u001b[4m0\u001b[24m\u001b[4m1\u001b[24m\u001b[4m9\u001b[24m155\n",
      "\n",
      "peak.intersect.inverse.K562.EPCrisprBenchmark.active.merge.bed.gz \n",
      "\u001b[90m# A tibble: 3 × 3\u001b[39m\n",
      "  X1           X2        X3\n",
      "  \u001b[3m\u001b[90m<chr>\u001b[39m\u001b[23m     \u001b[3m\u001b[90m<dbl>\u001b[39m\u001b[23m     \u001b[3m\u001b[90m<dbl>\u001b[39m\u001b[23m\n",
      "\u001b[90m1\u001b[39m chr1   10\u001b[4m3\u001b[24m\u001b[4m8\u001b[24m\u001b[4m7\u001b[24m716  10\u001b[4m3\u001b[24m\u001b[4m8\u001b[24m\u001b[4m9\u001b[24m244\n",
      "\u001b[90m2\u001b[39m chr1  109\u001b[4m7\u001b[24m\u001b[4m9\u001b[24m\u001b[4m3\u001b[24m375 109\u001b[4m7\u001b[24m\u001b[4m9\u001b[24m\u001b[4m5\u001b[24m083\n",
      "\u001b[90m3\u001b[39m chr1  109\u001b[4m8\u001b[24m\u001b[4m1\u001b[24m\u001b[4m8\u001b[24m161 109\u001b[4m8\u001b[24m\u001b[4m1\u001b[24m\u001b[4m9\u001b[24m132\n",
      "\n",
      "peak.intersect.inverse.K562.ENCSR328LMT.ENCFF202FID.element_gene_links.active.merge.bed.gz \n",
      "\u001b[90m# A tibble: 3 × 3\u001b[39m\n",
      "  X1           X2        X3\n",
      "  \u001b[3m\u001b[90m<chr>\u001b[39m\u001b[23m     \u001b[3m\u001b[90m<dbl>\u001b[39m\u001b[23m     \u001b[3m\u001b[90m<dbl>\u001b[39m\u001b[23m\n",
      "\u001b[90m1\u001b[39m chr1  100\u001b[4m0\u001b[24m\u001b[4m2\u001b[24m\u001b[4m7\u001b[24m983 100\u001b[4m0\u001b[24m\u001b[4m2\u001b[24m\u001b[4m9\u001b[24m702\n",
      "\u001b[90m2\u001b[39m chr1  100\u001b[4m0\u001b[24m\u001b[4m4\u001b[24m\u001b[4m9\u001b[24m562 100\u001b[4m0\u001b[24m\u001b[4m5\u001b[24m\u001b[4m0\u001b[24m540\n",
      "\u001b[90m3\u001b[39m chr1  100\u001b[4m0\u001b[24m\u001b[4m9\u001b[24m\u001b[4m8\u001b[24m989 100\u001b[4m1\u001b[24m\u001b[4m0\u001b[24m\u001b[4m0\u001b[24m659\n",
      "\n",
      "[1] \"ASTARR\"                \"WSTARR\"                \"TMPRA\"                \n",
      "[4] \"LMPRA\"                 \"CRISPRi-HCRFF\"         \"CRISPRi-Growth\"       \n",
      "[7] \"ENCODE-E2G_Benchmark\"  \"ENCODE-E2G_Prediction\"\n"
     ]
    }
   ],
   "source": [
    "### set file directory\n",
    "fdiry  = file.path(\n",
    "    FD_RES, \n",
    "    \"results\",\n",
    "    \"region\",\n",
    "    \"KS91_K562_ASTARRseq_peak_macs_input\"\n",
    ")\n",
    "\n",
    "### list file names\n",
    "lst = list(\n",
    "    #\"ASTARR\" = \"peak.annotation.enhancer_zscore_junke.inactive.ASTARR.merge.bed.gz\",\n",
    "    #\"WSTARR\" = \"peak.annotation.enhancer_zscore_junke.inactive.WSTARR.merge.bed.gz\",\n",
    "    #\"TMPRA\"  = \"peak.annotation.enhancer_zscore_junke.inactive.TMPRA.merge.bed.gz\",\n",
    "    #\"LMPRA\"  = \"peak.annotation.enhancer_zscore_junke.inactive.LMPRA.merge.bed.gz\",\n",
    "    \"ASTARR\" = \"peak.intersect.inverse.enhancer_zscore_junke.peak.ASTARR.bed.gz\",\n",
    "    \"WSTARR\" = \"peak.intersect.inverse.enhancer_zscore_junke.peak.WSTARR.bed.gz\",\n",
    "    \"TMPRA\"  = \"peak.intersect.inverse.enhancer_zscore_junke.peak.TMPRA.bed.gz\",\n",
    "    \"LMPRA\"  = \"peak.intersect.inverse.enhancer_zscore_junke.peak.LMPRA.bed.gz\",\n",
    "    \"CRISPRi-HCRFF\"  = \"peak.intersect.inverse.crispri_hcrff.casa.bed.gz\",\n",
    "    \"CRISPRi-Growth\" = \"peak.intersect.inverse.crispri_growth.dhs.active.bed.gz\",\n",
    "    \"ENCODE-E2G_Benchmark\"  = \"peak.intersect.inverse.K562.EPCrisprBenchmark.active.merge.bed.gz\",\n",
    "    \"ENCODE-E2G_Prediction\" = \"peak.intersect.inverse.K562.ENCSR328LMT.ENCFF202FID.element_gene_links.active.merge.bed.gz\"\n",
    ")\n",
    "\n",
    "### import data\n",
    "lst = lapply(lst, function(fname){\n",
    "    ### set file path\n",
    "    fglob = file.path(fdiry, \"*\", fname)\n",
    "    fpath = Sys.glob(fglob)\n",
    "    \n",
    "    ### read table\n",
    "    dat = read_tsv(fpath, col_names = FALSE, show_col_types = FALSE)\n",
    "    \n",
    "    ### show progress\n",
    "    cat(fname, \"\\n\")\n",
    "    print(head(dat, 3))\n",
    "    cat(\"\\n\")\n",
    "    \n",
    "    return(dat)\n",
    "})\n",
    "\n",
    "lst_dat_peak_inactive = lst\n",
    "print(names(lst))"
   ]
  },
  {
   "cell_type": "markdown",
   "metadata": {},
   "source": [
    "## Merge and get ATAC peaks"
   ]
  },
  {
   "cell_type": "code",
   "execution_count": 8,
   "metadata": {},
   "outputs": [
    {
     "name": "stdout",
     "output_type": "stream",
     "text": [
      "[1] 600872      6\n"
     ]
    },
    {
     "data": {
      "text/html": [
       "<table class=\"dataframe\">\n",
       "<caption>A tibble: 6 × 6</caption>\n",
       "<thead>\n",
       "\t<tr><th scope=col>Chrom</th><th scope=col>Start</th><th scope=col>End</th><th scope=col>Peak</th><th scope=col>Assay_Type</th><th scope=col>Assay_Label</th></tr>\n",
       "\t<tr><th scope=col>&lt;chr&gt;</th><th scope=col>&lt;dbl&gt;</th><th scope=col>&lt;dbl&gt;</th><th scope=col>&lt;chr&gt;</th><th scope=col>&lt;chr&gt;</th><th scope=col>&lt;chr&gt;</th></tr>\n",
       "</thead>\n",
       "<tbody>\n",
       "\t<tr><td>chr1</td><td>10015</td><td>10442</td><td>chr1:10015-10442</td><td>ASTARR</td><td>ASTARR_I</td></tr>\n",
       "\t<tr><td>chr1</td><td>14253</td><td>14645</td><td>chr1:14253-14645</td><td>ASTARR</td><td>ASTARR_I</td></tr>\n",
       "\t<tr><td>chr1</td><td>16015</td><td>16477</td><td>chr1:16015-16477</td><td>ASTARR</td><td>ASTARR_I</td></tr>\n",
       "\t<tr><td>chr1</td><td>17237</td><td>17772</td><td>chr1:17237-17772</td><td>ASTARR</td><td>ASTARR_I</td></tr>\n",
       "\t<tr><td>chr1</td><td>28903</td><td>29613</td><td>chr1:28903-29613</td><td>ASTARR</td><td>ASTARR_I</td></tr>\n",
       "\t<tr><td>chr1</td><td>30803</td><td>31072</td><td>chr1:30803-31072</td><td>ASTARR</td><td>ASTARR_I</td></tr>\n",
       "</tbody>\n",
       "</table>\n"
      ],
      "text/latex": [
       "A tibble: 6 × 6\n",
       "\\begin{tabular}{llllll}\n",
       " Chrom & Start & End & Peak & Assay\\_Type & Assay\\_Label\\\\\n",
       " <chr> & <dbl> & <dbl> & <chr> & <chr> & <chr>\\\\\n",
       "\\hline\n",
       "\t chr1 & 10015 & 10442 & chr1:10015-10442 & ASTARR & ASTARR\\_I\\\\\n",
       "\t chr1 & 14253 & 14645 & chr1:14253-14645 & ASTARR & ASTARR\\_I\\\\\n",
       "\t chr1 & 16015 & 16477 & chr1:16015-16477 & ASTARR & ASTARR\\_I\\\\\n",
       "\t chr1 & 17237 & 17772 & chr1:17237-17772 & ASTARR & ASTARR\\_I\\\\\n",
       "\t chr1 & 28903 & 29613 & chr1:28903-29613 & ASTARR & ASTARR\\_I\\\\\n",
       "\t chr1 & 30803 & 31072 & chr1:30803-31072 & ASTARR & ASTARR\\_I\\\\\n",
       "\\end{tabular}\n"
      ],
      "text/markdown": [
       "\n",
       "A tibble: 6 × 6\n",
       "\n",
       "| Chrom &lt;chr&gt; | Start &lt;dbl&gt; | End &lt;dbl&gt; | Peak &lt;chr&gt; | Assay_Type &lt;chr&gt; | Assay_Label &lt;chr&gt; |\n",
       "|---|---|---|---|---|---|\n",
       "| chr1 | 10015 | 10442 | chr1:10015-10442 | ASTARR | ASTARR_I |\n",
       "| chr1 | 14253 | 14645 | chr1:14253-14645 | ASTARR | ASTARR_I |\n",
       "| chr1 | 16015 | 16477 | chr1:16015-16477 | ASTARR | ASTARR_I |\n",
       "| chr1 | 17237 | 17772 | chr1:17237-17772 | ASTARR | ASTARR_I |\n",
       "| chr1 | 28903 | 29613 | chr1:28903-29613 | ASTARR | ASTARR_I |\n",
       "| chr1 | 30803 | 31072 | chr1:30803-31072 | ASTARR | ASTARR_I |\n",
       "\n"
      ],
      "text/plain": [
       "  Chrom Start End   Peak             Assay_Type Assay_Label\n",
       "1 chr1  10015 10442 chr1:10015-10442 ASTARR     ASTARR_I   \n",
       "2 chr1  14253 14645 chr1:14253-14645 ASTARR     ASTARR_I   \n",
       "3 chr1  16015 16477 chr1:16015-16477 ASTARR     ASTARR_I   \n",
       "4 chr1  17237 17772 chr1:17237-17772 ASTARR     ASTARR_I   \n",
       "5 chr1  28903 29613 chr1:28903-29613 ASTARR     ASTARR_I   \n",
       "6 chr1  30803 31072 chr1:30803-31072 ASTARR     ASTARR_I   "
      ]
     },
     "metadata": {},
     "output_type": "display_data"
    }
   ],
   "source": [
    "### init\n",
    "lst = lst_dat_peak_inactive\n",
    "\n",
    "### get ATAC peaks\n",
    "lst = lapply(lst, function(dat){\n",
    "    ###\n",
    "    dat = dat %>% dplyr::select(X1, X2, X3)\n",
    "    colnames(dat) = c(\"Chrom\", \"Start\", \"End\")\n",
    "    \n",
    "    ###\n",
    "    dat = dat %>% \n",
    "        dplyr::mutate(Peak = paste0(Chrom, \":\", Start, \"-\", End)) %>%\n",
    "        dplyr::arrange(Chrom, Start, End)\n",
    "    return(dat)\n",
    "})\n",
    "\n",
    "dat = bind_rows(lst, .id = \"Assay_Type\")\n",
    "dat = dat %>% \n",
    "    dplyr::select(Chrom, Start, End, Peak, Assay_Type) %>% \n",
    "    dplyr::mutate(Assay_Label = paste(Assay_Type, \"I\", sep=\"_\")) \n",
    "\n",
    "### assign and show\n",
    "dat_peak_inactive = dat\n",
    "print(dim(dat))\n",
    "head(dat)"
   ]
  },
  {
   "cell_type": "markdown",
   "metadata": {},
   "source": [
    "**Show results**"
   ]
  },
  {
   "cell_type": "code",
   "execution_count": 9,
   "metadata": {},
   "outputs": [
    {
     "data": {
      "text/plain": [
       "       \n",
       "        ASTARR_I CRISPRi-Growth_I CRISPRi-HCRFF_I ENCODE-E2G_Benchmark_I\n",
       "  chr1     28638             8507               0                    245\n",
       "  chr10    10703             3400               0                     45\n",
       "  chr11    11099             4201             329                    379\n",
       "  chr12     9937             3662             242                    136\n",
       "  chr13     3421             1029               0                      7\n",
       "  chr14     3917             1927               0                     56\n",
       "  chr15     7441             2545               0                     26\n",
       "  chr16     8242             3310               0                     47\n",
       "  chr17     9102             4007               0                     89\n",
       "  chr18     4837             1192               0                     26\n",
       "  chr19     7114             4076               1                    253\n",
       "  chr2     17956             5205               0                    121\n",
       "  chr20     5584             2376               0                     57\n",
       "  chr21     4012             1034               0                     13\n",
       "  chr22     4358             1883               0                     29\n",
       "  chr3     13550             4196               1                    166\n",
       "  chr4      9565             2609              92                     39\n",
       "  chr5     12556             3579              89                    110\n",
       "  chr6     17231             4434             239                    173\n",
       "  chr7     18817             4254               0                     91\n",
       "  chr8      9463             3014             172                    355\n",
       "  chr9      7655             3085               0                     44\n",
       "  chrX      3772             1884             107                    145\n",
       "       \n",
       "        ENCODE-E2G_Prediction_I LMPRA_I TMPRA_I WSTARR_I\n",
       "  chr1                     5948    3232       0    26444\n",
       "  chr10                    2185    1669       0     9751\n",
       "  chr11                    2324    2122     218     9983\n",
       "  chr12                    2438    1642       0     8932\n",
       "  chr13                     686     545       0     3099\n",
       "  chr14                    1158     838       0     3469\n",
       "  chr15                    1679    1167       0     6751\n",
       "  chr16                    1729    1299      49     7374\n",
       "  chr17                    2170    1571       0     8176\n",
       "  chr18                     854     639       0     4417\n",
       "  chr19                    2050    1158       0     6221\n",
       "  chr2                     3653    2835      77    16711\n",
       "  chr20                    1330    1068      81     4949\n",
       "  chr21                     651     479       0     3659\n",
       "  chr22                    1308     720       0     3996\n",
       "  chr3                     3019    2258       0    12394\n",
       "  chr4                     2029    1561       0     8603\n",
       "  chr5                     1771    1750       0    11562\n",
       "  chr6                     3417    2576       0    15793\n",
       "  chr7                     2932    2153       0    17611\n",
       "  chr8                     2045    1632      31     8572\n",
       "  chr9                     1876    1294       0     6913\n",
       "  chrX                     1122     879      17     3255"
      ]
     },
     "metadata": {},
     "output_type": "display_data"
    }
   ],
   "source": [
    "dat = dat_peak_inactive\n",
    "table(dat$Chrom, dat$Assay_Label)"
   ]
  },
  {
   "cell_type": "markdown",
   "metadata": {},
   "source": [
    "## Store results"
   ]
  },
  {
   "cell_type": "code",
   "execution_count": 10,
   "metadata": {},
   "outputs": [],
   "source": [
    "### set file paths\n",
    "fdiry  = file.path(\n",
    "    FD_RES, \n",
    "    \"results\",\n",
    "    \"region\",\n",
    "    \"KS91_K562_ASTARRseq_peak_macs_input\",\n",
    "    \"summary\"\n",
    ")\n",
    "fname = paste(\"peak\", \"screened\", \"fcc\", \"inactive\", \"tsv\", sep = \".\")\n",
    "fpath = file.path(fdiry, fname)\n",
    "\n",
    "### save table\n",
    "dat = dat_peak_inactive\n",
    "write_tsv(dat, fpath)"
   ]
  },
  {
   "cell_type": "code",
   "execution_count": null,
   "metadata": {},
   "outputs": [],
   "source": []
  }
 ],
 "metadata": {
  "kernelspec": {
   "display_name": "R (alex_py3)",
   "language": "R",
   "name": "ir_alex_py3"
  },
  "language_info": {
   "codemirror_mode": "r",
   "file_extension": ".r",
   "mimetype": "text/x-r-source",
   "name": "R",
   "pygments_lexer": "r",
   "version": "4.3.1"
  }
 },
 "nbformat": 4,
 "nbformat_minor": 4
}
