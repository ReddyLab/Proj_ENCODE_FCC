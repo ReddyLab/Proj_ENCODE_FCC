{
 "cells": [
  {
   "cell_type": "markdown",
   "id": "ed63cbd3-f343-4393-8fec-f83d9f67dd59",
   "metadata": {},
   "source": [
    "**Set environment**"
   ]
  },
  {
   "cell_type": "code",
   "execution_count": 1,
   "id": "275eed8d-3fba-4695-b341-8c98e3827d4c",
   "metadata": {},
   "outputs": [
    {
     "name": "stdout",
     "output_type": "stream",
     "text": [
      "You are in Singularity: singularity_proj_encode_fcc \n",
      "BASE DIRECTORY (FD_BASE): /data/reddylab/Kuei \n",
      "WORK DIRECTORY (FD_WORK): /data/reddylab/Kuei/out \n",
      "CODE DIRECTORY (FD_CODE): /data/reddylab/Kuei/code \n",
      "PATH OF PROJECT (FD_PRJ): /data/reddylab/Kuei/code/Proj_CombEffect_ENCODE_FCC \n",
      "PATH OF RESULTS (FD_RES): /data/reddylab/Kuei/out/proj_combeffect_encode_fcc \n",
      "PATH OF LOG     (FD_LOG): /data/reddylab/Kuei/out/proj_combeffect_encode_fcc/log \n"
     ]
    }
   ],
   "source": [
    "suppressMessages(suppressWarnings(source(\"../config/config_sing.R\")))\n",
    "show_env()"
   ]
  },
  {
   "cell_type": "markdown",
   "id": "834dd76a-2442-431b-b94a-c2a0b7f4bb5f",
   "metadata": {},
   "source": [
    "## Import data"
   ]
  },
  {
   "cell_type": "markdown",
   "id": "ed9d6844-97de-45a5-b7e7-5c8eae9ed332",
   "metadata": {},
   "source": [
    "**Read total ATAC peaks**"
   ]
  },
  {
   "cell_type": "code",
   "execution_count": 2,
   "id": "9a854e9b-42ba-43ad-896b-951478e6e0ad",
   "metadata": {},
   "outputs": [
    {
     "name": "stdout",
     "output_type": "stream",
     "text": [
      "[1] 247520      6\n"
     ]
    },
    {
     "data": {
      "text/html": [
       "<table class=\"dataframe\">\n",
       "<caption>A tibble: 6 × 6</caption>\n",
       "<thead>\n",
       "\t<tr><th scope=col>Chrom</th><th scope=col>Start</th><th scope=col>End</th><th scope=col>Peak</th><th scope=col>Assay_Type</th><th scope=col>Assay_Label</th></tr>\n",
       "\t<tr><th scope=col>&lt;chr&gt;</th><th scope=col>&lt;dbl&gt;</th><th scope=col>&lt;dbl&gt;</th><th scope=col>&lt;chr&gt;</th><th scope=col>&lt;chr&gt;</th><th scope=col>&lt;chr&gt;</th></tr>\n",
       "</thead>\n",
       "<tbody>\n",
       "\t<tr><td>chr1</td><td>10015</td><td>10442</td><td>chr1:10015-10442</td><td>ATAC</td><td>ATAC_T</td></tr>\n",
       "\t<tr><td>chr1</td><td>14253</td><td>14645</td><td>chr1:14253-14645</td><td>ATAC</td><td>ATAC_T</td></tr>\n",
       "\t<tr><td>chr1</td><td>16015</td><td>16477</td><td>chr1:16015-16477</td><td>ATAC</td><td>ATAC_T</td></tr>\n",
       "\t<tr><td>chr1</td><td>17237</td><td>17772</td><td>chr1:17237-17772</td><td>ATAC</td><td>ATAC_T</td></tr>\n",
       "\t<tr><td>chr1</td><td>28903</td><td>29613</td><td>chr1:28903-29613</td><td>ATAC</td><td>ATAC_T</td></tr>\n",
       "\t<tr><td>chr1</td><td>30803</td><td>31072</td><td>chr1:30803-31072</td><td>ATAC</td><td>ATAC_T</td></tr>\n",
       "</tbody>\n",
       "</table>\n"
      ],
      "text/latex": [
       "A tibble: 6 × 6\n",
       "\\begin{tabular}{llllll}\n",
       " Chrom & Start & End & Peak & Assay\\_Type & Assay\\_Label\\\\\n",
       " <chr> & <dbl> & <dbl> & <chr> & <chr> & <chr>\\\\\n",
       "\\hline\n",
       "\t chr1 & 10015 & 10442 & chr1:10015-10442 & ATAC & ATAC\\_T\\\\\n",
       "\t chr1 & 14253 & 14645 & chr1:14253-14645 & ATAC & ATAC\\_T\\\\\n",
       "\t chr1 & 16015 & 16477 & chr1:16015-16477 & ATAC & ATAC\\_T\\\\\n",
       "\t chr1 & 17237 & 17772 & chr1:17237-17772 & ATAC & ATAC\\_T\\\\\n",
       "\t chr1 & 28903 & 29613 & chr1:28903-29613 & ATAC & ATAC\\_T\\\\\n",
       "\t chr1 & 30803 & 31072 & chr1:30803-31072 & ATAC & ATAC\\_T\\\\\n",
       "\\end{tabular}\n"
      ],
      "text/markdown": [
       "\n",
       "A tibble: 6 × 6\n",
       "\n",
       "| Chrom &lt;chr&gt; | Start &lt;dbl&gt; | End &lt;dbl&gt; | Peak &lt;chr&gt; | Assay_Type &lt;chr&gt; | Assay_Label &lt;chr&gt; |\n",
       "|---|---|---|---|---|---|\n",
       "| chr1 | 10015 | 10442 | chr1:10015-10442 | ATAC | ATAC_T |\n",
       "| chr1 | 14253 | 14645 | chr1:14253-14645 | ATAC | ATAC_T |\n",
       "| chr1 | 16015 | 16477 | chr1:16015-16477 | ATAC | ATAC_T |\n",
       "| chr1 | 17237 | 17772 | chr1:17237-17772 | ATAC | ATAC_T |\n",
       "| chr1 | 28903 | 29613 | chr1:28903-29613 | ATAC | ATAC_T |\n",
       "| chr1 | 30803 | 31072 | chr1:30803-31072 | ATAC | ATAC_T |\n",
       "\n"
      ],
      "text/plain": [
       "  Chrom Start End   Peak             Assay_Type Assay_Label\n",
       "1 chr1  10015 10442 chr1:10015-10442 ATAC       ATAC_T     \n",
       "2 chr1  14253 14645 chr1:14253-14645 ATAC       ATAC_T     \n",
       "3 chr1  16015 16477 chr1:16015-16477 ATAC       ATAC_T     \n",
       "4 chr1  17237 17772 chr1:17237-17772 ATAC       ATAC_T     \n",
       "5 chr1  28903 29613 chr1:28903-29613 ATAC       ATAC_T     \n",
       "6 chr1  30803 31072 chr1:30803-31072 ATAC       ATAC_T     "
      ]
     },
     "metadata": {},
     "output_type": "display_data"
    }
   ],
   "source": [
    "### set file path\n",
    "fdiry = file.path(FD_RES, \"results\", \"region\", \"KS91_K562_ASTARRseq_peak_macs_input\", \"summary\")\n",
    "fname = \"peak.screened.atac.total.tsv\"\n",
    "fpath = file.path(fdiry, fname)\n",
    "\n",
    "### read table\n",
    "dat = read_tsv(fpath, show_col_types = FALSE)\n",
    "\n",
    "### assign and show\n",
    "dat_peak_atac_total = dat\n",
    "print(dim(dat))\n",
    "head(dat)"
   ]
  },
  {
   "cell_type": "markdown",
   "id": "141acd12-1a92-494e-8834-b333dcf3ac65",
   "metadata": {},
   "source": [
    "**Read ATAC peaks screened in each assay**"
   ]
  },
  {
   "cell_type": "code",
   "execution_count": 4,
   "id": "b5fa3cbd-b1a4-441f-b918-387d65a2c81e",
   "metadata": {},
   "outputs": [
    {
     "name": "stdout",
     "output_type": "stream",
     "text": [
      "[1] 732434      7\n"
     ]
    },
    {
     "data": {
      "text/html": [
       "<table class=\"dataframe\">\n",
       "<caption>A tibble: 6 × 7</caption>\n",
       "<thead>\n",
       "\t<tr><th scope=col>Chrom</th><th scope=col>Start</th><th scope=col>End</th><th scope=col>Peak</th><th scope=col>Score</th><th scope=col>Assay_Type</th><th scope=col>Assay_Label</th></tr>\n",
       "\t<tr><th scope=col>&lt;chr&gt;</th><th scope=col>&lt;dbl&gt;</th><th scope=col>&lt;dbl&gt;</th><th scope=col>&lt;chr&gt;</th><th scope=col>&lt;dbl&gt;</th><th scope=col>&lt;chr&gt;</th><th scope=col>&lt;chr&gt;</th></tr>\n",
       "</thead>\n",
       "<tbody>\n",
       "\t<tr><td>chr1</td><td>100006256</td><td>100006880</td><td>chr1:100006256-100006880</td><td>-0.01311792</td><td>ASTARR</td><td>ASTARR_T</td></tr>\n",
       "\t<tr><td>chr1</td><td>100010437</td><td>100010915</td><td>chr1:100010437-100010915</td><td>-0.80687947</td><td>ASTARR</td><td>ASTARR_T</td></tr>\n",
       "\t<tr><td>chr1</td><td> 10002087</td><td> 10003910</td><td>chr1:10002087-10003910  </td><td>-0.34892859</td><td>ASTARR</td><td>ASTARR_T</td></tr>\n",
       "\t<tr><td>chr1</td><td>100021298</td><td>100021629</td><td>chr1:100021298-100021629</td><td>-1.03799571</td><td>ASTARR</td><td>ASTARR_T</td></tr>\n",
       "\t<tr><td>chr1</td><td>100023727</td><td>100023976</td><td>chr1:100023727-100023976</td><td>-0.19100207</td><td>ASTARR</td><td>ASTARR_T</td></tr>\n",
       "\t<tr><td>chr1</td><td>100027983</td><td>100029702</td><td>chr1:100027983-100029702</td><td>-0.18001582</td><td>ASTARR</td><td>ASTARR_T</td></tr>\n",
       "</tbody>\n",
       "</table>\n"
      ],
      "text/latex": [
       "A tibble: 6 × 7\n",
       "\\begin{tabular}{lllllll}\n",
       " Chrom & Start & End & Peak & Score & Assay\\_Type & Assay\\_Label\\\\\n",
       " <chr> & <dbl> & <dbl> & <chr> & <dbl> & <chr> & <chr>\\\\\n",
       "\\hline\n",
       "\t chr1 & 100006256 & 100006880 & chr1:100006256-100006880 & -0.01311792 & ASTARR & ASTARR\\_T\\\\\n",
       "\t chr1 & 100010437 & 100010915 & chr1:100010437-100010915 & -0.80687947 & ASTARR & ASTARR\\_T\\\\\n",
       "\t chr1 &  10002087 &  10003910 & chr1:10002087-10003910   & -0.34892859 & ASTARR & ASTARR\\_T\\\\\n",
       "\t chr1 & 100021298 & 100021629 & chr1:100021298-100021629 & -1.03799571 & ASTARR & ASTARR\\_T\\\\\n",
       "\t chr1 & 100023727 & 100023976 & chr1:100023727-100023976 & -0.19100207 & ASTARR & ASTARR\\_T\\\\\n",
       "\t chr1 & 100027983 & 100029702 & chr1:100027983-100029702 & -0.18001582 & ASTARR & ASTARR\\_T\\\\\n",
       "\\end{tabular}\n"
      ],
      "text/markdown": [
       "\n",
       "A tibble: 6 × 7\n",
       "\n",
       "| Chrom &lt;chr&gt; | Start &lt;dbl&gt; | End &lt;dbl&gt; | Peak &lt;chr&gt; | Score &lt;dbl&gt; | Assay_Type &lt;chr&gt; | Assay_Label &lt;chr&gt; |\n",
       "|---|---|---|---|---|---|---|\n",
       "| chr1 | 100006256 | 100006880 | chr1:100006256-100006880 | -0.01311792 | ASTARR | ASTARR_T |\n",
       "| chr1 | 100010437 | 100010915 | chr1:100010437-100010915 | -0.80687947 | ASTARR | ASTARR_T |\n",
       "| chr1 |  10002087 |  10003910 | chr1:10002087-10003910   | -0.34892859 | ASTARR | ASTARR_T |\n",
       "| chr1 | 100021298 | 100021629 | chr1:100021298-100021629 | -1.03799571 | ASTARR | ASTARR_T |\n",
       "| chr1 | 100023727 | 100023976 | chr1:100023727-100023976 | -0.19100207 | ASTARR | ASTARR_T |\n",
       "| chr1 | 100027983 | 100029702 | chr1:100027983-100029702 | -0.18001582 | ASTARR | ASTARR_T |\n",
       "\n"
      ],
      "text/plain": [
       "  Chrom Start     End       Peak                     Score       Assay_Type\n",
       "1 chr1  100006256 100006880 chr1:100006256-100006880 -0.01311792 ASTARR    \n",
       "2 chr1  100010437 100010915 chr1:100010437-100010915 -0.80687947 ASTARR    \n",
       "3 chr1   10002087  10003910 chr1:10002087-10003910   -0.34892859 ASTARR    \n",
       "4 chr1  100021298 100021629 chr1:100021298-100021629 -1.03799571 ASTARR    \n",
       "5 chr1  100023727 100023976 chr1:100023727-100023976 -0.19100207 ASTARR    \n",
       "6 chr1  100027983 100029702 chr1:100027983-100029702 -0.18001582 ASTARR    \n",
       "  Assay_Label\n",
       "1 ASTARR_T   \n",
       "2 ASTARR_T   \n",
       "3 ASTARR_T   \n",
       "4 ASTARR_T   \n",
       "5 ASTARR_T   \n",
       "6 ASTARR_T   "
      ]
     },
     "metadata": {},
     "output_type": "display_data"
    }
   ],
   "source": [
    "### set file path\n",
    "fdiry = file.path(FD_RES, \"results\", \"region\", \"KS91_K562_ASTARRseq_peak_macs_input\", \"summary\")\n",
    "fname = \"peak.screened.fcc.total.tsv\"\n",
    "fpath = file.path(fdiry, fname)\n",
    "\n",
    "### read table\n",
    "dat = read_tsv(fpath, show_col_types = FALSE)\n",
    "\n",
    "### assign and show\n",
    "dat_peak_atac_fcc = dat\n",
    "print(dim(dat))\n",
    "head(dat)"
   ]
  },
  {
   "cell_type": "markdown",
   "id": "d8fc7559-2da8-4d14-b4ab-fc4074deb94d",
   "metadata": {},
   "source": [
    "**Check**"
   ]
  },
  {
   "cell_type": "code",
   "execution_count": 5,
   "id": "1dc44b31-96b3-4049-93bc-1f01cbd60dd4",
   "metadata": {},
   "outputs": [
    {
     "name": "stdout",
     "output_type": "stream",
     "text": [
      "ASTARR \n",
      "[1] TRUE\n",
      "\n",
      "CRISPRi-Growth \n",
      "[1] TRUE\n",
      "\n",
      "CRISPRi-HCRFF \n",
      "[1] TRUE\n",
      "\n",
      "ENCODE-E2G_Benchmark \n",
      "[1] TRUE\n",
      "\n",
      "ENCODE-E2G_Prediction \n",
      "[1] TRUE\n",
      "\n",
      "LMPRA \n",
      "[1] TRUE\n",
      "\n",
      "TMPRA \n",
      "[1] TRUE\n",
      "\n",
      "WSTARR \n",
      "[1] TRUE\n",
      "\n"
     ]
    }
   ],
   "source": [
    "dat = dat_peak_atac_total\n",
    "vec = dat$Peak\n",
    "vec_txt_peak_total = vec\n",
    "\n",
    "dat = dat_peak_atac_fcc\n",
    "lst = split(dat$Peak, dat$Assay_Type)\n",
    "lst_vec_txt_peak_fcc = lst\n",
    "\n",
    "for (txt in names(lst)){\n",
    "    cat(txt, \"\\n\")\n",
    "    vec_txt_peak_fcc = lst[[txt]]\n",
    "    vec = (vec_txt_peak_fcc %in% vec_txt_peak_total)\n",
    "    res = all(vec)\n",
    "    print(res)\n",
    "    cat(\"\\n\")\n",
    "}"
   ]
  },
  {
   "cell_type": "markdown",
   "id": "cf8392ad-4e2c-4f0e-94d8-1716f88e2e6d",
   "metadata": {},
   "source": [
    "## Calculate coverage percentage"
   ]
  },
  {
   "cell_type": "code",
   "execution_count": 6,
   "id": "7656ec1a-e287-4eb6-a86f-c5da34cc61d1",
   "metadata": {},
   "outputs": [
    {
     "data": {
      "text/html": [
       "<table class=\"dataframe\">\n",
       "<caption>A tibble: 6 × 6</caption>\n",
       "<thead>\n",
       "\t<tr><th scope=col>Chrom</th><th scope=col>Start</th><th scope=col>End</th><th scope=col>Peak</th><th scope=col>Assay_Type</th><th scope=col>Assay_Label</th></tr>\n",
       "\t<tr><th scope=col>&lt;chr&gt;</th><th scope=col>&lt;dbl&gt;</th><th scope=col>&lt;dbl&gt;</th><th scope=col>&lt;chr&gt;</th><th scope=col>&lt;chr&gt;</th><th scope=col>&lt;chr&gt;</th></tr>\n",
       "</thead>\n",
       "<tbody>\n",
       "\t<tr><td>chr1</td><td>10015</td><td>10442</td><td>chr1:10015-10442</td><td>ATAC</td><td>ATAC_T</td></tr>\n",
       "\t<tr><td>chr1</td><td>14253</td><td>14645</td><td>chr1:14253-14645</td><td>ATAC</td><td>ATAC_T</td></tr>\n",
       "\t<tr><td>chr1</td><td>16015</td><td>16477</td><td>chr1:16015-16477</td><td>ATAC</td><td>ATAC_T</td></tr>\n",
       "\t<tr><td>chr1</td><td>17237</td><td>17772</td><td>chr1:17237-17772</td><td>ATAC</td><td>ATAC_T</td></tr>\n",
       "\t<tr><td>chr1</td><td>28903</td><td>29613</td><td>chr1:28903-29613</td><td>ATAC</td><td>ATAC_T</td></tr>\n",
       "\t<tr><td>chr1</td><td>30803</td><td>31072</td><td>chr1:30803-31072</td><td>ATAC</td><td>ATAC_T</td></tr>\n",
       "</tbody>\n",
       "</table>\n"
      ],
      "text/latex": [
       "A tibble: 6 × 6\n",
       "\\begin{tabular}{llllll}\n",
       " Chrom & Start & End & Peak & Assay\\_Type & Assay\\_Label\\\\\n",
       " <chr> & <dbl> & <dbl> & <chr> & <chr> & <chr>\\\\\n",
       "\\hline\n",
       "\t chr1 & 10015 & 10442 & chr1:10015-10442 & ATAC & ATAC\\_T\\\\\n",
       "\t chr1 & 14253 & 14645 & chr1:14253-14645 & ATAC & ATAC\\_T\\\\\n",
       "\t chr1 & 16015 & 16477 & chr1:16015-16477 & ATAC & ATAC\\_T\\\\\n",
       "\t chr1 & 17237 & 17772 & chr1:17237-17772 & ATAC & ATAC\\_T\\\\\n",
       "\t chr1 & 28903 & 29613 & chr1:28903-29613 & ATAC & ATAC\\_T\\\\\n",
       "\t chr1 & 30803 & 31072 & chr1:30803-31072 & ATAC & ATAC\\_T\\\\\n",
       "\\end{tabular}\n"
      ],
      "text/markdown": [
       "\n",
       "A tibble: 6 × 6\n",
       "\n",
       "| Chrom &lt;chr&gt; | Start &lt;dbl&gt; | End &lt;dbl&gt; | Peak &lt;chr&gt; | Assay_Type &lt;chr&gt; | Assay_Label &lt;chr&gt; |\n",
       "|---|---|---|---|---|---|\n",
       "| chr1 | 10015 | 10442 | chr1:10015-10442 | ATAC | ATAC_T |\n",
       "| chr1 | 14253 | 14645 | chr1:14253-14645 | ATAC | ATAC_T |\n",
       "| chr1 | 16015 | 16477 | chr1:16015-16477 | ATAC | ATAC_T |\n",
       "| chr1 | 17237 | 17772 | chr1:17237-17772 | ATAC | ATAC_T |\n",
       "| chr1 | 28903 | 29613 | chr1:28903-29613 | ATAC | ATAC_T |\n",
       "| chr1 | 30803 | 31072 | chr1:30803-31072 | ATAC | ATAC_T |\n",
       "\n"
      ],
      "text/plain": [
       "  Chrom Start End   Peak             Assay_Type Assay_Label\n",
       "1 chr1  10015 10442 chr1:10015-10442 ATAC       ATAC_T     \n",
       "2 chr1  14253 14645 chr1:14253-14645 ATAC       ATAC_T     \n",
       "3 chr1  16015 16477 chr1:16015-16477 ATAC       ATAC_T     \n",
       "4 chr1  17237 17772 chr1:17237-17772 ATAC       ATAC_T     \n",
       "5 chr1  28903 29613 chr1:28903-29613 ATAC       ATAC_T     \n",
       "6 chr1  30803 31072 chr1:30803-31072 ATAC       ATAC_T     "
      ]
     },
     "metadata": {},
     "output_type": "display_data"
    }
   ],
   "source": [
    "dat = dat_peak_atac_total\n",
    "head(dat)"
   ]
  },
  {
   "cell_type": "code",
   "execution_count": 7,
   "id": "aa71fa8a-aa2e-4267-a729-438e72e313dd",
   "metadata": {},
   "outputs": [
    {
     "data": {
      "text/plain": [
       "\n",
       "               ASTARR                  ATAC        CRISPRi-Growth \n",
       "               246850                247520                 80288 \n",
       "        CRISPRi-HCRFF  ENCODE-E2G_Benchmark ENCODE-E2G_Prediction \n",
       "                 1330                  3007                 84129 \n",
       "                LMPRA                 TMPRA                WSTARR \n",
       "                68420                  1722                246688 "
      ]
     },
     "metadata": {},
     "output_type": "display_data"
    }
   ],
   "source": [
    "dat = dat_peak_atac_total\n",
    "vec = dat$Peak\n",
    "vec_txt_peak_total = vec\n",
    "\n",
    "dat = dat_peak_atac_fcc\n",
    "dat = dat %>% dplyr::select(Chrom, Start, End, Peak, Assay_Type, Assay_Label)\n",
    "dat = bind_rows(dat, dat_peak_atac_total)\n",
    "\n",
    "lst = split(dat$Peak, dat$Assay_Type)\n",
    "lst_vec_txt_peak = lst\n",
    "table(dat$Assay_Type)"
   ]
  },
  {
   "cell_type": "code",
   "execution_count": 8,
   "id": "dabc0d3f-c1b0-40db-a5ec-7b266e23d516",
   "metadata": {},
   "outputs": [
    {
     "name": "stdout",
     "output_type": "stream",
     "text": [
      "[1] 9 5\n"
     ]
    },
    {
     "data": {
      "text/html": [
       "<table class=\"dataframe\">\n",
       "<caption>A tibble: 9 × 5</caption>\n",
       "<thead>\n",
       "\t<tr><th scope=col>Assay</th><th scope=col>Count</th><th scope=col>Freq</th><th scope=col>Count_Label</th><th scope=col>Assay_Label</th></tr>\n",
       "\t<tr><th scope=col>&lt;chr&gt;</th><th scope=col>&lt;dbl&gt;</th><th scope=col>&lt;dbl&gt;</th><th scope=col>&lt;chr&gt;</th><th scope=col>&lt;chr&gt;</th></tr>\n",
       "</thead>\n",
       "<tbody>\n",
       "\t<tr><td>ASTARR               </td><td>246850</td><td>0.997293148</td><td>247K</td><td>ASTARR (247K)              </td></tr>\n",
       "\t<tr><td>ATAC                 </td><td>247520</td><td>1.000000000</td><td>248K</td><td>ATAC (248K)                </td></tr>\n",
       "\t<tr><td>CRISPRi-Growth       </td><td> 80288</td><td>0.324369748</td><td>80K </td><td>CRISPRi-Growth (80K)       </td></tr>\n",
       "\t<tr><td>CRISPRi-HCRFF        </td><td>  1330</td><td>0.005373303</td><td>1K  </td><td>CRISPRi-HCRFF (1K)         </td></tr>\n",
       "\t<tr><td>ENCODE-E2G_Benchmark </td><td>  3007</td><td>0.012148513</td><td>3K  </td><td>ENCODE-E2G_Benchmark (3K)  </td></tr>\n",
       "\t<tr><td>ENCODE-E2G_Prediction</td><td> 84129</td><td>0.339887686</td><td>84K </td><td>ENCODE-E2G_Prediction (84K)</td></tr>\n",
       "\t<tr><td>LMPRA                </td><td> 68420</td><td>0.276422107</td><td>68K </td><td>LMPRA (68K)                </td></tr>\n",
       "\t<tr><td>TMPRA                </td><td>  1722</td><td>0.006957014</td><td>2K  </td><td>TMPRA (2K)                 </td></tr>\n",
       "\t<tr><td>WSTARR               </td><td>246688</td><td>0.996638655</td><td>247K</td><td>WSTARR (247K)              </td></tr>\n",
       "</tbody>\n",
       "</table>\n"
      ],
      "text/latex": [
       "A tibble: 9 × 5\n",
       "\\begin{tabular}{lllll}\n",
       " Assay & Count & Freq & Count\\_Label & Assay\\_Label\\\\\n",
       " <chr> & <dbl> & <dbl> & <chr> & <chr>\\\\\n",
       "\\hline\n",
       "\t ASTARR                & 246850 & 0.997293148 & 247K & ASTARR (247K)              \\\\\n",
       "\t ATAC                  & 247520 & 1.000000000 & 248K & ATAC (248K)                \\\\\n",
       "\t CRISPRi-Growth        &  80288 & 0.324369748 & 80K  & CRISPRi-Growth (80K)       \\\\\n",
       "\t CRISPRi-HCRFF         &   1330 & 0.005373303 & 1K   & CRISPRi-HCRFF (1K)         \\\\\n",
       "\t ENCODE-E2G\\_Benchmark  &   3007 & 0.012148513 & 3K   & ENCODE-E2G\\_Benchmark (3K)  \\\\\n",
       "\t ENCODE-E2G\\_Prediction &  84129 & 0.339887686 & 84K  & ENCODE-E2G\\_Prediction (84K)\\\\\n",
       "\t LMPRA                 &  68420 & 0.276422107 & 68K  & LMPRA (68K)                \\\\\n",
       "\t TMPRA                 &   1722 & 0.006957014 & 2K   & TMPRA (2K)                 \\\\\n",
       "\t WSTARR                & 246688 & 0.996638655 & 247K & WSTARR (247K)              \\\\\n",
       "\\end{tabular}\n"
      ],
      "text/markdown": [
       "\n",
       "A tibble: 9 × 5\n",
       "\n",
       "| Assay &lt;chr&gt; | Count &lt;dbl&gt; | Freq &lt;dbl&gt; | Count_Label &lt;chr&gt; | Assay_Label &lt;chr&gt; |\n",
       "|---|---|---|---|---|\n",
       "| ASTARR                | 246850 | 0.997293148 | 247K | ASTARR (247K)               |\n",
       "| ATAC                  | 247520 | 1.000000000 | 248K | ATAC (248K)                 |\n",
       "| CRISPRi-Growth        |  80288 | 0.324369748 | 80K  | CRISPRi-Growth (80K)        |\n",
       "| CRISPRi-HCRFF         |   1330 | 0.005373303 | 1K   | CRISPRi-HCRFF (1K)          |\n",
       "| ENCODE-E2G_Benchmark  |   3007 | 0.012148513 | 3K   | ENCODE-E2G_Benchmark (3K)   |\n",
       "| ENCODE-E2G_Prediction |  84129 | 0.339887686 | 84K  | ENCODE-E2G_Prediction (84K) |\n",
       "| LMPRA                 |  68420 | 0.276422107 | 68K  | LMPRA (68K)                 |\n",
       "| TMPRA                 |   1722 | 0.006957014 | 2K   | TMPRA (2K)                  |\n",
       "| WSTARR                | 246688 | 0.996638655 | 247K | WSTARR (247K)               |\n",
       "\n"
      ],
      "text/plain": [
       "  Assay                 Count  Freq        Count_Label\n",
       "1 ASTARR                246850 0.997293148 247K       \n",
       "2 ATAC                  247520 1.000000000 248K       \n",
       "3 CRISPRi-Growth         80288 0.324369748 80K        \n",
       "4 CRISPRi-HCRFF           1330 0.005373303 1K         \n",
       "5 ENCODE-E2G_Benchmark    3007 0.012148513 3K         \n",
       "6 ENCODE-E2G_Prediction  84129 0.339887686 84K        \n",
       "7 LMPRA                  68420 0.276422107 68K        \n",
       "8 TMPRA                   1722 0.006957014 2K         \n",
       "9 WSTARR                246688 0.996638655 247K       \n",
       "  Assay_Label                \n",
       "1 ASTARR (247K)              \n",
       "2 ATAC (248K)                \n",
       "3 CRISPRi-Growth (80K)       \n",
       "4 CRISPRi-HCRFF (1K)         \n",
       "5 ENCODE-E2G_Benchmark (3K)  \n",
       "6 ENCODE-E2G_Prediction (84K)\n",
       "7 LMPRA (68K)                \n",
       "8 TMPRA (2K)                 \n",
       "9 WSTARR (247K)              "
      ]
     },
     "metadata": {},
     "output_type": "display_data"
    }
   ],
   "source": [
    "### init\n",
    "lst = lst_vec_txt_peak\n",
    "\n",
    "### calculate the percentage of fcc atac peaks in total atac peaks\n",
    "lst = lapply(lst, function(vec_txt_peak){\n",
    "    ### overlap and summarize\n",
    "    vec = (vec_txt_peak_total %in% vec_txt_peak)\n",
    "    num_count = sum(vec)\n",
    "    num_freq  = mean(vec)\n",
    "\n",
    "    ### arrange results\n",
    "    res = c(num_count, num_freq)\n",
    "    names(res) = c(\"Count\", \"Freq\")\n",
    "    return(res)\n",
    "})\n",
    "\n",
    "### combine results\n",
    "dat = bind_rows(lst, .id = \"Assay\")\n",
    "dat = dat %>%\n",
    "    dplyr::mutate(\n",
    "        Count_Label = ifelse(\n",
    "            Count > 1000, \n",
    "            paste0(round(Count / 1000), \"K\"),\n",
    "            Count\n",
    "        )\n",
    "    ) %>%\n",
    "    dplyr::mutate(\n",
    "        Assay_Label = paste0(Assay, \" \", \"(\", Count_Label, \")\")\n",
    "    )\n",
    "\n",
    "### assign and show\n",
    "dat_peak_atac_coverage = dat\n",
    "print(dim(dat))\n",
    "dat"
   ]
  },
  {
   "cell_type": "markdown",
   "id": "a2aedcad-7aa6-4337-bb1f-86568a0e0d87",
   "metadata": {},
   "source": [
    "## Plot ATAC coverage"
   ]
  },
  {
   "cell_type": "code",
   "execution_count": 11,
   "id": "4723af90-db83-49a7-a5bf-d6c199b2732d",
   "metadata": {},
   "outputs": [
    {
     "data": {
      "image/png": "[encoded data removed]",
      "text/plain": [
       "plot without title"
      ]
     },
     "metadata": {
      "image/png": {
       "height": 300,
       "width": 480
      }
     },
     "output_type": "display_data"
    }
   ],
   "source": [
    "dat = dat_peak_atac_coverage\n",
    "dat = dat %>% \n",
    "    dplyr::filter(Assay != \"ENCODE-E2G_Prediction\") %>%\n",
    "    dplyr::arrange(Freq) %>% \n",
    "    dplyr::mutate(Assay_Label = factor(Assay_Label, levels=Assay_Label))\n",
    "\n",
    "gpt = ggplot(dat, aes(x = Freq, y = Assay_Label)) +\n",
    "    geom_col() +\n",
    "    labs(x = \"Percentage\", y = \"\", title = \"ATAC coverage of each assay\") +\n",
    "    theme_cowplot()\n",
    "\n",
    "options(repr.plot.height=5, repr.plot.width=8)\n",
    "print(gpt)\n",
    "ggsave(\"fig.fcc_assay.atac.coverage.png\", gpt, width = 6.5, height = 4.5)\n",
    "ggsave(\"fig.fcc_assay.atac.coverage.pdf\", gpt, width = 6.5, height = 4.5)"
   ]
  },
  {
   "cell_type": "code",
   "execution_count": null,
   "id": "622716c4-6d91-44e0-a054-7ac77f95bf6a",
   "metadata": {},
   "outputs": [],
   "source": [
    "dat = dat_peak_atac_fcc"
   ]
  },
  {
   "cell_type": "code",
   "execution_count": null,
   "id": "aee06a10-324d-4bef-9296-ceddabf2ecb3",
   "metadata": {},
   "outputs": [],
   "source": []
  },
  {
   "cell_type": "code",
   "execution_count": null,
   "id": "e2dd3995-aaec-4246-b19d-496f122de98e",
   "metadata": {},
   "outputs": [],
   "source": []
  }
 ],
 "metadata": {
  "kernelspec": {
   "display_name": "R",
   "language": "R",
   "name": "ir"
  },
  "language_info": {
   "codemirror_mode": "r",
   "file_extension": ".r",
   "mimetype": "text/x-r-source",
   "name": "R",
   "pygments_lexer": "r",
   "version": "4.3.1"
  }
 },
 "nbformat": 4,
 "nbformat_minor": 5
}
