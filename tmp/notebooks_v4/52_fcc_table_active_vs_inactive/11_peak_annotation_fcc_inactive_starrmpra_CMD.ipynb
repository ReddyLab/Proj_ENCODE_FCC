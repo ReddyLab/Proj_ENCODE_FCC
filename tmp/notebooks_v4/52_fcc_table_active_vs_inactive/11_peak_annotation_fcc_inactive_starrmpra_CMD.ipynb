{
 "cells": [
  {
   "cell_type": "markdown",
   "id": "8e86768f-723a-44d7-b7bf-e3664cf0236b",
   "metadata": {},
   "source": [
    "**Set environment**"
   ]
  },
  {
   "cell_type": "code",
   "execution_count": 1,
   "id": "5322fbe3-e838-416e-a932-89ae9ed638fe",
   "metadata": {},
   "outputs": [
    {
     "name": "stdout",
     "output_type": "stream",
     "text": [
      "You are on Duke Server: HARDAC\n",
      "BASE DIRECTORY (FD_BASE): /data/reddylab/Kuei\n",
      "WORK DIRECTORY (FD_WORK): /data/reddylab/Kuei/out\n",
      "CODE DIRECTORY (FD_CODE): /data/reddylab/Kuei/code\n",
      "SING DIRECTORY (FD_SING): /data/reddylab/Kuei/singularity\n",
      "PATH OF PROJECT (FD_PRJ): /data/reddylab/Kuei/code/Proj_CombEffect_ENCODE_FCC\n",
      "PATH OF RESULTS (FD_RES): /data/reddylab/Kuei/out/proj_combeffect_encode_fcc\n",
      "PATH OF LOG     (FD_LOG): /data/reddylab/Kuei/out/proj_combeffect_encode_fcc/log\n",
      "\n"
     ]
    }
   ],
   "source": [
    "### set env\n",
    "source ../config/config_duke.sh\n",
    "source ../config/config_load_module_bedtools.sh\n",
    "show_env"
   ]
  },
  {
   "cell_type": "markdown",
   "id": "2a443454-57ce-4c94-a933-9e6083aea1c2",
   "metadata": {},
   "source": [
    "## Region to be annotated: ATAC peaks"
   ]
  },
  {
   "cell_type": "code",
   "execution_count": 2,
   "id": "b5b4742c-4773-4477-8990-7ef1e32e1372",
   "metadata": {},
   "outputs": [
    {
     "name": "stdout",
     "output_type": "stream",
     "text": [
      "\u001b[0m\u001b[38;5;9m/data/reddylab/Kuei/out/proj_combeffect_encode_fcc/results/region/KS91_K562_ASTARRseq_peak_macs_input/KS91_K562_hg38_ASTARRseq_Input.all_reps.masked.union_narrowPeak.q5.bed.gz\u001b[0m\u001b[K\n",
      "chr1\t10015\t10442\n",
      "chr1\t14253\t14645\n",
      "chr1\t16015\t16477\n",
      "chr1\t17237\t17772\n",
      "chr1\t28903\t29613\n",
      "chr1\t30803\t31072\n",
      "chr1\t101603\t101849\n",
      "chr1\t115411\t115986\n",
      "chr1\t118518\t118743\n",
      "chr1\t136071\t137429\n"
     ]
    }
   ],
   "source": [
    "FD_REG=${FD_RES}/results/region/KS91_K562_ASTARRseq_peak_macs_input\n",
    "FN_REG=KS91_K562_hg38_ASTARRseq_Input.all_reps.masked.union_narrowPeak.q5.bed.gz\n",
    "FP_REG=${FD_REG}/${FN_REG}\n",
    "ls   ${FP_REG}\n",
    "zcat ${FP_REG} | head"
   ]
  },
  {
   "cell_type": "markdown",
   "id": "8681afdf-f689-4bc0-b876-ac91fa565633",
   "metadata": {},
   "source": [
    "## Annotation: STARR/MPRA inactive regions"
   ]
  },
  {
   "cell_type": "markdown",
   "id": "d7b158de-1bc2-44dd-a5be-0e12f22c8f40",
   "metadata": {},
   "source": [
    "**Get data files**"
   ]
  },
  {
   "cell_type": "code",
   "execution_count": 5,
   "id": "0c9ac369-017a-4b03-a2ed-be0c7117ddf5",
   "metadata": {},
   "outputs": [
    {
     "name": "stdout",
     "output_type": "stream",
     "text": [
      "description.tsv\n",
      "\u001b[0m\u001b[38;5;9menhancer_zscore_junke.inactive.ASTARR.bed.gz\u001b[0m\n",
      "\u001b[38;5;9menhancer_zscore_junke.inactive.ASTARR.merge.bed.gz\u001b[0m\n",
      "\u001b[38;5;9menhancer_zscore_junke.inactive.LMPRA.bed.gz\u001b[0m\n",
      "\u001b[38;5;9menhancer_zscore_junke.inactive.LMPRA.merge.bed.gz\u001b[0m\n",
      "\u001b[38;5;9menhancer_zscore_junke.inactive.TMPRA.bed.gz\u001b[0m\n",
      "\u001b[38;5;9menhancer_zscore_junke.inactive.TMPRA.merge.bed.gz\u001b[0m\n",
      "\u001b[38;5;9menhancer_zscore_junke.inactive.TMPRA_OL13.bed.gz\u001b[0m\n",
      "\u001b[38;5;9menhancer_zscore_junke.inactive.TMPRA_OL43.bed.gz\u001b[0m\n",
      "\u001b[38;5;9menhancer_zscore_junke.inactive.TMPRA_OL45.bed.gz\u001b[0m\n",
      "\u001b[38;5;9menhancer_zscore_junke.inactive.WSTARR.bed.gz\u001b[0m\n",
      "\u001b[38;5;9menhancer_zscore_junke.inactive.WSTARR.merge.bed.gz\u001b[0m\n",
      "\u001b[38;5;9menhancer_zscore_junke.peak.ASTARR_AB.bed.gz\u001b[0m\n",
      "\u001b[38;5;9menhancer_zscore_junke.peak.ASTARR_A.bed.gz\u001b[0m\n",
      "\u001b[38;5;9menhancer_zscore_junke.peak.ASTARR_R.bed.gz\u001b[0m\n",
      "\u001b[38;5;9menhancer_zscore_junke.peak.LMPRA_AB.bed.gz\u001b[0m\n",
      "\u001b[38;5;9menhancer_zscore_junke.peak.LMPRA_A.bed.gz\u001b[0m\n",
      "\u001b[38;5;9menhancer_zscore_junke.peak.LMPRA_R.bed.gz\u001b[0m\n",
      "\u001b[38;5;9menhancer_zscore_junke.peak.TMPRA_A.bed.gz\u001b[0m\n",
      "\u001b[38;5;9menhancer_zscore_junke.peak.TMPRA_R.bed.gz\u001b[0m\n",
      "\u001b[38;5;9menhancer_zscore_junke.peak.WSTARR_AB.bed.gz\u001b[0m\n",
      "\u001b[38;5;9menhancer_zscore_junke.peak.WSTARR_A.bed.gz\u001b[0m\n",
      "\u001b[38;5;9menhancer_zscore_junke.peak.WSTARR_R.bed.gz\u001b[0m\n",
      "\u001b[38;5;27mtmp\u001b[0m\n"
     ]
    }
   ],
   "source": [
    "### STARR/MPRA\n",
    "FOLDER=annotation_enhancer_zscore_junke\n",
    "FD_INP=${FD_RES}/results/region/${FOLDER}\n",
    "ls -1 ${FD_INP}"
   ]
  },
  {
   "cell_type": "code",
   "execution_count": 6,
   "id": "3e46c4e7-daee-49b5-9702-7562cf90cf19",
   "metadata": {},
   "outputs": [
    {
     "name": "stdout",
     "output_type": "stream",
     "text": [
      "annotation_enhancer_zscore_junke\n",
      "enhancer_zscore_junke.inactive.ASTARR.merge.bed.gz\n",
      "enhancer_zscore_junke.inactive.LMPRA.merge.bed.gz\n",
      "enhancer_zscore_junke.inactive.TMPRA.merge.bed.gz\n",
      "enhancer_zscore_junke.inactive.WSTARR.merge.bed.gz\n",
      "\n"
     ]
    }
   ],
   "source": [
    "### STARR/MPRA\n",
    "FOLDER=annotation_enhancer_zscore_junke\n",
    "FD_INP=${FD_RES}/results/region/${FOLDER}\n",
    "FP_INPS_STARRMPRA_INACTIVE=($(ls ${FD_INP}/*inactive.{ASTARR,WSTARR,TMPRA,LMPRA}.merge.bed.gz))\n",
    "\n",
    "echo ${FOLDER}\n",
    "basename -a ${FP_INPS_STARRMPRA_INACTIVE[@]}\n",
    "echo"
   ]
  },
  {
   "cell_type": "markdown",
   "id": "ded61a08-83ae-4e0e-b597-db8d1ddebdc2",
   "metadata": {},
   "source": [
    "**Test loop**"
   ]
  },
  {
   "cell_type": "code",
   "execution_count": 7,
   "id": "607cf79c-ab10-473c-965c-4ff557fb4b00",
   "metadata": {},
   "outputs": [
    {
     "name": "stdout",
     "output_type": "stream",
     "text": [
      "File Folder (Annotation): annotation_enhancer_zscore_junke\n",
      "File Prefix (Annotation): enhancer_zscore_junke.inactive.ASTARR.merge\n",
      "File Name   (Annotation): enhancer_zscore_junke.inactive.ASTARR.merge.bed.gz\n",
      "File Name   (Output):     peak.annotation.enhancer_zscore_junke.inactive.ASTARR.merge.bed.gz\n",
      "File Path   (Log):        ${FD_LOG}/peak.annotation.enhancer_zscore_junke.inactive.ASTARR.merge.txt\n",
      "\n",
      "File Folder (Annotation): annotation_enhancer_zscore_junke\n",
      "File Prefix (Annotation): enhancer_zscore_junke.inactive.LMPRA.merge\n",
      "File Name   (Annotation): enhancer_zscore_junke.inactive.LMPRA.merge.bed.gz\n",
      "File Name   (Output):     peak.annotation.enhancer_zscore_junke.inactive.LMPRA.merge.bed.gz\n",
      "File Path   (Log):        ${FD_LOG}/peak.annotation.enhancer_zscore_junke.inactive.LMPRA.merge.txt\n",
      "\n",
      "File Folder (Annotation): annotation_enhancer_zscore_junke\n",
      "File Prefix (Annotation): enhancer_zscore_junke.inactive.TMPRA.merge\n",
      "File Name   (Annotation): enhancer_zscore_junke.inactive.TMPRA.merge.bed.gz\n",
      "File Name   (Output):     peak.annotation.enhancer_zscore_junke.inactive.TMPRA.merge.bed.gz\n",
      "File Path   (Log):        ${FD_LOG}/peak.annotation.enhancer_zscore_junke.inactive.TMPRA.merge.txt\n",
      "\n",
      "File Folder (Annotation): annotation_enhancer_zscore_junke\n",
      "File Prefix (Annotation): enhancer_zscore_junke.inactive.WSTARR.merge\n",
      "File Name   (Annotation): enhancer_zscore_junke.inactive.WSTARR.merge.bed.gz\n",
      "File Name   (Output):     peak.annotation.enhancer_zscore_junke.inactive.WSTARR.merge.bed.gz\n",
      "File Path   (Log):        ${FD_LOG}/peak.annotation.enhancer_zscore_junke.inactive.WSTARR.merge.txt\n",
      "\n"
     ]
    }
   ],
   "source": [
    "### concat\n",
    "FP_ANTS=(\n",
    "    ${FP_INPS_STARRMPRA_INACTIVE[@]}\n",
    ")\n",
    "\n",
    "for FP_ANT in ${FP_ANTS[@]}; do\n",
    "    FD_ANT=$(dirname  ${FP_ANT})\n",
    "    FOLDER=$(basename ${FD_ANT})\n",
    "    \n",
    "    FN_ANT=$(basename ${FP_ANT})\n",
    "    PREFIX=${FN_ANT%.bed.gz}\n",
    "    \n",
    "    FN_LOG=peak.annotation.${PREFIX}.txt\n",
    "    FP_LOG='${FD_LOG}/'peak.annotation.${PREFIX}.txt\n",
    "    \n",
    "    FD_OUT=${FD_REG}/${FOLDER}\n",
    "    FN_OUT=peak.annotation.${FN_ANT}\n",
    "    FP_OUT=${FD_OUT}/${FN_OUT}\n",
    "    \n",
    "    echo \"File Folder (Annotation):\" ${FOLDER}\n",
    "    echo \"File Prefix (Annotation):\" ${PREFIX}\n",
    "    echo \"File Name   (Annotation):\" ${FN_ANT}\n",
    "    echo \"File Name   (Output):    \" ${FN_OUT}\n",
    "    echo \"File Path   (Log):       \" '${FD_LOG}/'${FN_LOG}\n",
    "    echo\n",
    "done"
   ]
  },
  {
   "cell_type": "markdown",
   "id": "78f81356-fac9-4958-bf36-812fe77a1729",
   "metadata": {},
   "source": [
    "**Execute**"
   ]
  },
  {
   "cell_type": "code",
   "execution_count": 12,
   "id": "29167877-1840-49a2-ad18-bcff6cc806ac",
   "metadata": {},
   "outputs": [
    {
     "name": "stdout",
     "output_type": "stream",
     "text": [
      "File Folder (Annotation): annotation_enhancer_zscore_junke\n",
      "File Prefix (Annotation): enhancer_zscore_junke.inactive.ASTARR.merge\n",
      "File Name   (Annotation): enhancer_zscore_junke.inactive.ASTARR.merge.bed.gz\n",
      "File Name   (Output):     peak.annotation.enhancer_zscore_junke.inactive.ASTARR.merge.bed.gz\n",
      "File Path   (Log):        ${FD_LOG}/peak.annotation.enhancer_zscore_junke.inactive.ASTARR.merge.txt\n",
      "\n",
      "Submitted batch job 30231026\n",
      "\n",
      "File Folder (Annotation): annotation_enhancer_zscore_junke\n",
      "File Prefix (Annotation): enhancer_zscore_junke.inactive.LMPRA.merge\n",
      "File Name   (Annotation): enhancer_zscore_junke.inactive.LMPRA.merge.bed.gz\n",
      "File Name   (Output):     peak.annotation.enhancer_zscore_junke.inactive.LMPRA.merge.bed.gz\n",
      "File Path   (Log):        ${FD_LOG}/peak.annotation.enhancer_zscore_junke.inactive.LMPRA.merge.txt\n",
      "\n",
      "Submitted batch job 30231027\n",
      "\n",
      "File Folder (Annotation): annotation_enhancer_zscore_junke\n",
      "File Prefix (Annotation): enhancer_zscore_junke.inactive.TMPRA.merge\n",
      "File Name   (Annotation): enhancer_zscore_junke.inactive.TMPRA.merge.bed.gz\n",
      "File Name   (Output):     peak.annotation.enhancer_zscore_junke.inactive.TMPRA.merge.bed.gz\n",
      "File Path   (Log):        ${FD_LOG}/peak.annotation.enhancer_zscore_junke.inactive.TMPRA.merge.txt\n",
      "\n",
      "Submitted batch job 30231028\n",
      "\n",
      "File Folder (Annotation): annotation_enhancer_zscore_junke\n",
      "File Prefix (Annotation): enhancer_zscore_junke.inactive.WSTARR.merge\n",
      "File Name   (Annotation): enhancer_zscore_junke.inactive.WSTARR.merge.bed.gz\n",
      "File Name   (Output):     peak.annotation.enhancer_zscore_junke.inactive.WSTARR.merge.bed.gz\n",
      "File Path   (Log):        ${FD_LOG}/peak.annotation.enhancer_zscore_junke.inactive.WSTARR.merge.txt\n",
      "\n",
      "Submitted batch job 30231029\n",
      "\n"
     ]
    }
   ],
   "source": [
    "### concat\n",
    "FP_ANTS=(\n",
    "    ${FP_INPS_STARRMPRA_INACTIVE[@]}\n",
    ")\n",
    "\n",
    "for FP_ANT in ${FP_ANTS[@]}; do\n",
    "    FD_ANT=$(dirname  ${FP_ANT})\n",
    "    FOLDER=$(basename ${FD_ANT})\n",
    "    \n",
    "    FN_ANT=$(basename ${FP_ANT})\n",
    "    PREFIX=${FN_ANT%.bed.gz}\n",
    "    \n",
    "    FN_LOG=peak.annotation.${PREFIX}.txt\n",
    "    FP_LOG='${FD_LOG}/'peak.annotation.${PREFIX}.txt\n",
    "    \n",
    "    FD_OUT=${FD_REG}/${FOLDER}\n",
    "    FN_OUT=peak.annotation.${FN_ANT}\n",
    "    FP_OUT=${FD_OUT}/${FN_OUT}\n",
    "    \n",
    "    echo \"File Folder (Annotation):\" ${FOLDER}\n",
    "    echo \"File Prefix (Annotation):\" ${PREFIX}\n",
    "    echo \"File Name   (Annotation):\" ${FN_ANT}\n",
    "    echo \"File Name   (Output):    \" ${FN_OUT}\n",
    "    echo \"File Path   (Log):       \" '${FD_LOG}/'${FN_LOG}\n",
    "    echo\n",
    "    sbatch -p ${NODE} \\\n",
    "        --exclude=dl-01 \\\n",
    "        --cpus-per-task 4 \\\n",
    "        --mem 4G \\\n",
    "        --output ${FD_LOG}/${FN_LOG} \\\n",
    "        ../scripts/run_bedtools_annot_A.sh ${FP_REG} ${FP_ANT} ${FP_OUT}\n",
    "    echo\n",
    "done"
   ]
  },
  {
   "cell_type": "markdown",
   "id": "cd486087-9d5a-4fa3-95dd-3897ad874ff9",
   "metadata": {},
   "source": [
    "**Check results**"
   ]
  },
  {
   "cell_type": "code",
   "execution_count": 13,
   "id": "d2d7b5ce-eebb-4c4a-b8ba-e134e9bed052",
   "metadata": {},
   "outputs": [
    {
     "name": "stdout",
     "output_type": "stream",
     "text": [
      "Hostname:           x1-02-4.genome.duke.edu\n",
      "Slurm Array Index: \n",
      "Time Stamp:         09-04-23+10:31:31\n",
      "\n",
      "Input:  /data/reddylab/Kuei/out/proj_combeffect_encode_fcc/results/region/KS91_K562_ASTARRseq_peak_macs_input/KS91_K562_hg38_ASTARRseq_Input.all_reps.masked.union_narrowPeak.q5.bed.gz\n",
      "\n",
      "show first few lines of input\n",
      "chr1\t10015\t10442\n",
      "chr1\t14253\t14645\n",
      "chr1\t16015\t16477\n",
      "chr1\t17237\t17772\n",
      "chr1\t28903\t29613\n",
      "chr1\t30803\t31072\n",
      "chr1\t101603\t101849\n",
      "chr1\t115411\t115986\n",
      "chr1\t118518\t118743\n",
      "chr1\t136071\t137429\n",
      "\n",
      "Input:  /data/reddylab/Kuei/out/proj_combeffect_encode_fcc/results/region/annotation_enhancer_zscore_junke/enhancer_zscore_junke.inactive.ASTARR.merge.bed.gz\n",
      "\n",
      "show first few lines of input\n",
      "chr1\t115710\t115870\n",
      "chr1\t136400\t136570\n",
      "chr1\t136770\t136870\n",
      "chr1\t137120\t137240\n",
      "chr1\t139050\t139210\n",
      "chr1\t605250\t605480\n",
      "chr1\t778000\t778390\n",
      "chr1\t778860\t779020\n",
      "chr1\t779100\t779510\n",
      "chr1\t779770\t779880\n",
      "\n",
      "\n",
      "Output:  /data/reddylab/Kuei/out/proj_combeffect_encode_fcc/results/region/KS91_K562_ASTARRseq_peak_macs_input/annotation_enhancer_zscore_junke/peak.annotation.enhancer_zscore_junke.inactive.ASTARR.merge.bed.gz\n",
      "\n",
      "show first few lines of output:\n",
      "chr1\t938228\t938505\tchr1\t938260\t938870\t245\n",
      "chr1\t965936\t967556\tchr1\t966000\t967520\t1520\n",
      "chr1\t1005089\t1005593\tchr1\t1005040\t1005610\t504\n",
      "chr1\t1024158\t1024602\tchr1\t1024100\t1024520\t362\n",
      "chr1\t1062264\t1062778\tchr1\t1062210\t1062920\t514\n",
      "chr1\t1067955\t1068196\tchr1\t1067590\t1068390\t241\n",
      "chr1\t1184989\t1186002\tchr1\t1185070\t1185960\t890\n",
      "chr1\t1204723\t1205885\tchr1\t1204970\t1205850\t880\n",
      "chr1\t1240896\t1241120\tchr1\t1240880\t1241110\t214\n",
      "chr1\t1243955\t1244680\tchr1\t1243980\t1244580\t600\n",
      "\n",
      "\n",
      "Done!\n",
      "Run Time: 1 seconds\n"
     ]
    }
   ],
   "source": [
    "cat ${FD_LOG}/peak.annotation.enhancer_zscore_junke.inactive.ASTARR.merge.txt"
   ]
  },
  {
   "cell_type": "code",
   "execution_count": 14,
   "id": "8cd193b3-ca56-4209-a2c1-810ae8bb9a43",
   "metadata": {},
   "outputs": [
    {
     "name": "stdout",
     "output_type": "stream",
     "text": [
      "Hostname:           x1-02-3.genome.duke.edu\n",
      "Slurm Array Index: \n",
      "Time Stamp:         09-04-23+10:31:31\n",
      "\n",
      "Input:  /data/reddylab/Kuei/out/proj_combeffect_encode_fcc/results/region/KS91_K562_ASTARRseq_peak_macs_input/KS91_K562_hg38_ASTARRseq_Input.all_reps.masked.union_narrowPeak.q5.bed.gz\n",
      "\n",
      "show first few lines of input\n",
      "chr1\t10015\t10442\n",
      "chr1\t14253\t14645\n",
      "chr1\t16015\t16477\n",
      "chr1\t17237\t17772\n",
      "chr1\t28903\t29613\n",
      "chr1\t30803\t31072\n",
      "chr1\t101603\t101849\n",
      "chr1\t115411\t115986\n",
      "chr1\t118518\t118743\n",
      "chr1\t136071\t137429\n",
      "\n",
      "Input:  /data/reddylab/Kuei/out/proj_combeffect_encode_fcc/results/region/annotation_enhancer_zscore_junke/enhancer_zscore_junke.inactive.WSTARR.merge.bed.gz\n",
      "\n",
      "show first few lines of input\n",
      "chr1\t88430\t88550\n",
      "chr1\t133200\t133410\n",
      "chr1\t133490\t133610\n",
      "chr1\t135190\t135560\n",
      "chr1\t138970\t139370\n",
      "chr1\t139390\t139500\n",
      "chr1\t181170\t181880\n",
      "chr1\t182490\t182710\n",
      "chr1\t182880\t183240\n",
      "chr1\t183300\t184630\n",
      "\n",
      "\n",
      "Output:  /data/reddylab/Kuei/out/proj_combeffect_encode_fcc/results/region/KS91_K562_ASTARRseq_peak_macs_input/annotation_enhancer_zscore_junke/peak.annotation.enhancer_zscore_junke.inactive.WSTARR.merge.bed.gz\n",
      "\n",
      "show first few lines of output:\n",
      "chr1\t183239\t184602\tchr1\t183300\t184630\t1302\n",
      "chr1\t186238\t187159\tchr1\t186200\t187510\t921\n",
      "chr1\t191188\t191739\tchr1\t190620\t191880\t551\n",
      "chr1\t817905\t818348\tchr1\t817020\t818220\t315\n",
      "chr1\t818602\t819380\tchr1\t818620\t819850\t760\n",
      "chr1\t841328\t842007\tchr1\t841080\t842400\t679\n",
      "chr1\t842480\t843449\tchr1\t842470\t844000\t969\n",
      "chr1\t849557\t850619\tchr1\t849360\t850490\t933\n",
      "chr1\t854743\t855197\tchr1\t854420\t855160\t417\n",
      "chr1\t856009\t856945\tchr1\t856100\t857160\t845\n",
      "\n",
      "\n",
      "Done!\n",
      "Run Time: 5 seconds\n"
     ]
    }
   ],
   "source": [
    "cat ${FD_LOG}/peak.annotation.enhancer_zscore_junke.inactive.WSTARR.merge.txt"
   ]
  },
  {
   "cell_type": "code",
   "execution_count": null,
   "id": "6501b888-9da9-457b-b6c1-baf2615278df",
   "metadata": {},
   "outputs": [],
   "source": []
  }
 ],
 "metadata": {
  "kernelspec": {
   "display_name": "Bash",
   "language": "bash",
   "name": "bash"
  },
  "language_info": {
   "codemirror_mode": "shell",
   "file_extension": ".sh",
   "mimetype": "text/x-sh",
   "name": "bash"
  }
 },
 "nbformat": 4,
 "nbformat_minor": 5
}
