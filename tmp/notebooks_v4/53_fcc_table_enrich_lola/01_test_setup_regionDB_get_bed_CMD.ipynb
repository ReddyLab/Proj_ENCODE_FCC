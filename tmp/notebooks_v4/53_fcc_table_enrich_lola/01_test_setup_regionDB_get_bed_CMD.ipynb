{
 "cells": [
  {
   "cell_type": "markdown",
   "id": "a2a421a5-d68b-4929-83bf-9f7911f1de88",
   "metadata": {},
   "source": [
    "**Set environment**"
   ]
  },
  {
   "cell_type": "code",
   "execution_count": 1,
   "id": "3716c79d-1e3d-409f-bc8e-ecaf8ccf8ec4",
   "metadata": {},
   "outputs": [
    {
     "name": "stdout",
     "output_type": "stream",
     "text": [
      "You are on Duke Server: HARDAC\n",
      "BASE DIRECTORY (FD_BASE): /data/reddylab/Kuei\n",
      "WORK DIRECTORY (FD_WORK): /data/reddylab/Kuei/out\n",
      "CODE DIRECTORY (FD_CODE): /data/reddylab/Kuei/code\n",
      "SING DIRECTORY (FD_SING): /data/reddylab/Kuei/singularity\n",
      "PATH OF PROJECT (FD_PRJ): /data/reddylab/Kuei/code/Proj_CombEffect_ENCODE_FCC\n",
      "PATH OF RESULTS (FD_RES): /data/reddylab/Kuei/out/proj_combeffect_encode_fcc\n",
      "PATH OF LOG     (FD_LOG): /data/reddylab/Kuei/out/proj_combeffect_encode_fcc/log\n",
      "\n"
     ]
    }
   ],
   "source": [
    "source ../config/config_duke.sh\n",
    "show_env"
   ]
  },
  {
   "cell_type": "markdown",
   "id": "38e8acec-7350-4531-8b6b-408c571b22e9",
   "metadata": {},
   "source": [
    "## Setup the test folder"
   ]
  },
  {
   "cell_type": "code",
   "execution_count": 2,
   "id": "fbf0fc51-197e-4b86-ae85-702a18b415cb",
   "metadata": {
    "tags": []
   },
   "outputs": [
    {
     "name": "stdout",
     "output_type": "stream",
     "text": [
      "enrichment_lola\n",
      "\u001b[0m\u001b[38;5;27m.\u001b[0m\n",
      "\u001b[38;5;27m..\u001b[0m\n",
      "\u001b[38;5;27mregionDB_full\u001b[0m\n",
      "\u001b[38;5;27mregionDB_test\u001b[0m\n",
      "\n",
      "regionDB_test\n",
      "\u001b[0m\u001b[38;5;27m.\u001b[0m\n",
      "\u001b[38;5;27m..\u001b[0m\n",
      "\u001b[38;5;27mencode_chipseq_tf_k562\u001b[0m\n"
     ]
    }
   ],
   "source": [
    "FDIRY=${FD_RES}/results/region/KS91_K562_ASTARRseq_peak_macs_input/enrichment_lola\n",
    "echo \"enrichment_lola\"\n",
    "ls -1a ${FDIRY}\n",
    "echo\n",
    "\n",
    "FDIRY=${FDIRY}/regionDB_test\n",
    "echo \"regionDB_test\"\n",
    "ls -1a ${FDIRY}"
   ]
  },
  {
   "cell_type": "code",
   "execution_count": 3,
   "id": "2f70ba43-3708-4f5d-8fa2-4769b947404c",
   "metadata": {},
   "outputs": [
    {
     "name": "stdout",
     "output_type": "stream",
     "text": [
      "File exist\n"
     ]
    }
   ],
   "source": [
    "FDIRY=${FD_RES}\n",
    "FDIRY=${FDIRY}/results/region/KS91_K562_ASTARRseq_peak_macs_input/enrichment_lola\n",
    "FDIRY=${FDIRY}/regionDB_test\n",
    "\n",
    "if test -d ${FDIRY}; then\n",
    "    echo \"File exist\"\n",
    "fi"
   ]
  },
  {
   "cell_type": "code",
   "execution_count": 4,
   "id": "002447de-3577-4191-89be-cafe4eb1dd95",
   "metadata": {},
   "outputs": [],
   "source": [
    "FDIRY=${FD_RES}\n",
    "FDIRY=${FDIRY}/results/region/KS91_K562_ASTARRseq_peak_macs_input/enrichment_lola\n",
    "FDIRY=${FDIRY}/.ipynb_checkpoints\n",
    "\n",
    "if test -d ${FDIRY}; then\n",
    "    echo \".ipynb_checkpoints exist\"\n",
    "    rm -rf ${FDIRY}\n",
    "fi"
   ]
  },
  {
   "cell_type": "code",
   "execution_count": 5,
   "id": "c874b166-5442-46f1-b1c3-39abf0e01451",
   "metadata": {},
   "outputs": [
    {
     "name": "stdout",
     "output_type": "stream",
     "text": [
      "FOLDER: encode_chipseq_tf_k562\n",
      "\u001b[0m\u001b[38;5;27m.\u001b[0m\n",
      "\u001b[38;5;27m..\u001b[0m\n",
      "collection.txt\n",
      "encode_chipseq_tf_k562_files.RData\n",
      "encode_chipseq_tf_k562.RData\n",
      "index.txt\n",
      "\u001b[38;5;27m.ipynb_checkpoints\u001b[0m\n",
      "\u001b[38;5;27mregions\u001b[0m\n",
      "sizes.txt\n"
     ]
    }
   ],
   "source": [
    "FDIRY=${FD_RES}\n",
    "FDIRY=${FDIRY}/results/region/KS91_K562_ASTARRseq_peak_macs_input/enrichment_lola\n",
    "FDIRY=${FDIRY}/regionDB_test\n",
    "FDIRY=${FDIRY}/encode_chipseq_tf_k562\n",
    "\n",
    "echo \"FOLDER: encode_chipseq_tf_k562\"\n",
    "ls -1a ${FDIRY}"
   ]
  },
  {
   "cell_type": "markdown",
   "id": "00586178-8c11-4cbe-9772-d302018431c0",
   "metadata": {},
   "source": [
    "```\n",
    "FDIRY=${FD_RES}/results/region/KS91_K562_ASTARRseq_peak_macs_input/enrichment_lola/regionDB/encode_chipseq_tf_k562\n",
    "rm -rf ${FDIRY}/.ipynb_checkpoints\n",
    "```"
   ]
  },
  {
   "cell_type": "markdown",
   "id": "ee0fca8c-3f89-410c-ac60-b5614e53318d",
   "metadata": {},
   "source": [
    "## get one ChIP-seq file"
   ]
  },
  {
   "cell_type": "code",
   "execution_count": 6,
   "id": "79650752-985f-40bb-a6b2-2779c48cde13",
   "metadata": {},
   "outputs": [],
   "source": [
    "FD_INP=${FD_RES}/results/region/annotation_chipseq_tf_subset\n",
    "FN_INP=K562.ENCSR000EFT.ENCFF657CTC.GATA1.bed.gz\n",
    "FP_INP=${FD_INP}/${FN_INP}\n",
    "\n",
    "FOLDER=regionDB_test\n",
    "FD_OUT=${FD_RES}/results/region/KS91_K562_ASTARRseq_peak_macs_input/enrichment_lola/${FOLDER}/encode_chipseq_tf_k562/regions\n",
    "FN_OUT=K562.ENCSR000EFT.ENCFF657CTC.GATA1.bed.gz\n",
    "FP_OUT=${FD_OUT}/${FN_OUT}"
   ]
  },
  {
   "cell_type": "code",
   "execution_count": 7,
   "id": "b473d6db-ab3e-445a-b40e-1866f6482f06",
   "metadata": {},
   "outputs": [
    {
     "name": "stdout",
     "output_type": "stream",
     "text": [
      "-rw-rw-r-- 1 kk319 reddylab 276901 Apr 20  2023 \u001b[0m\u001b[38;5;9m/data/reddylab/Kuei/out/proj_combeffect_encode_fcc/results/region/annotation_chipseq_tf_subset/K562.ENCSR000EFT.ENCFF657CTC.GATA1.bed.gz\u001b[0m\u001b[K\n",
      "lrwxrwxrwx 1 kk319 reddylab    136 Oct 24 14:32 \u001b[38;5;51m/data/reddylab/Kuei/out/proj_combeffect_encode_fcc/results/region/KS91_K562_ASTARRseq_peak_macs_input/enrichment_lola/regionDB_test/encode_chipseq_tf_k562/regions/K562.ENCSR000EFT.ENCFF657CTC.GATA1.bed.gz\u001b[0m\u001b[K -> \u001b[38;5;9m/data/reddylab/Kuei/out/proj_combeffect_encode_fcc/results/region/annotation_chipseq_tf_subset/K562.ENCSR000EFT.ENCFF657CTC.GATA1.bed.gz\u001b[0m\u001b[K\n"
     ]
    }
   ],
   "source": [
    "ln -sf ${FP_INP} ${FP_OUT}\n",
    "ls -l  ${FP_INP} ${FP_OUT}"
   ]
  },
  {
   "cell_type": "markdown",
   "id": "64b6ce4f-7db4-42ec-9555-8a46bd256c21",
   "metadata": {},
   "source": [
    "## get multiple ChIP-seq files"
   ]
  },
  {
   "cell_type": "code",
   "execution_count": 8,
   "id": "5a1f99b3-bb02-498d-ae77-45be16415616",
   "metadata": {},
   "outputs": [],
   "source": [
    "FD_REG=${FD_RES}/results/region\n",
    "\n",
    "FOLDER_ANNOT=annotation_chipseq_tf_subset\n",
    "FD_INP=${FD_REG}/${FOLDER_ANNOT}\n",
    "\n",
    "FOLDER_REGDB=regionDB_test\n",
    "FOLDER_GROUP=encode_chipseq_tf_k562\n",
    "FD_OUT=${FD_REG}/KS91_K562_ASTARRseq_peak_macs_input/enrichment_lola/${FOLDER_REGDB}/${FOLDER_GROUP}/regions"
   ]
  },
  {
   "cell_type": "code",
   "execution_count": 9,
   "id": "4732fed6-3174-45ee-96ba-ce939eae875e",
   "metadata": {},
   "outputs": [
    {
     "name": "stdout",
     "output_type": "stream",
     "text": [
      "/data/reddylab/Kuei/out/proj_combeffect_encode_fcc/results/region/annotation_chipseq_tf_subset/*bed.gz\n"
     ]
    }
   ],
   "source": [
    "echo \"${FD_INP}/*bed.gz\" "
   ]
  },
  {
   "cell_type": "code",
   "execution_count": 10,
   "id": "1f4d3599-c28e-4e5b-b4c5-3e773d777cc1",
   "metadata": {},
   "outputs": [
    {
     "name": "stdout",
     "output_type": "stream",
     "text": [
      "/data/reddylab/Kuei/out/proj_combeffect_encode_fcc/results/region/KS91_K562_ASTARRseq_peak_macs_input/enrichment_lola/regionDB_test/encode_chipseq_tf_k562/regions\n"
     ]
    }
   ],
   "source": [
    "echo \"${FD_OUT}\" "
   ]
  },
  {
   "cell_type": "code",
   "execution_count": 11,
   "id": "be80644c-4f7b-43ae-a932-f6cc9705b54d",
   "metadata": {},
   "outputs": [
    {
     "name": "stdout",
     "output_type": "stream",
     "text": [
      "K562.ENCSR000BMH.ENCFF398UQZ.YY1.bed.gz\n",
      "K562.ENCSR000BMW.ENCFF707MDI.REST.bed.gz\n",
      "K562.ENCSR000EFS.ENCFF190CGV.JUN.bed.gz\n",
      "K562.ENCSR000EFT.ENCFF657CTC.GATA1.bed.gz\n",
      "K562.ENCSR000EFU.ENCFF715WGN.ELK1.bed.gz\n",
      "K562.ENCSR000EGE.ENCFF702XPO.EP300.bed.gz\n",
      "K562.ENCSR000EGM.ENCFF660GHM.CTCF.bed.gz\n",
      "K562.ENCSR000EHB.ENCFF852ZRK.TAL1.bed.gz\n",
      "K562.ENCSR004GKA.ENCFF242AOL.ZEB2.bed.gz\n",
      "K562.ENCSR091GVJ.ENCFF627RSK.ATF1.bed.gz\n",
      "K562.ENCSR121SPB.ENCFF142ZTD.KLF10.bed.gz\n",
      "K562.ENCSR388QZF.ENCFF355MNE.POLR2A.bed.gz\n",
      "K562.ENCSR552YGL.ENCFF023IFO.NFE2.bed.gz\n",
      "K562.ENCSR760UVO.ENCFF488OTN.KLF16.bed.gz\n",
      "K562.ENCSR991ELG.ENCFF553GPK.SP1.bed.gz\n",
      "K562.ENCSR998AJK.ENCFF777PKJ.NRF1.bed.gz\n"
     ]
    }
   ],
   "source": [
    "ls ${FD_INP}/*bed.gz | xargs -n 1 basename"
   ]
  },
  {
   "cell_type": "code",
   "execution_count": 12,
   "id": "145433d7-aa1d-450e-9679-fd203cf72424",
   "metadata": {},
   "outputs": [
    {
     "name": "stdout",
     "output_type": "stream",
     "text": [
      "\u001b[0m\u001b[38;5;51mK562.ENCSR000BMH.ENCFF398UQZ.YY1.bed.gz\u001b[0m\n",
      "\u001b[38;5;51mK562.ENCSR000BMW.ENCFF707MDI.REST.bed.gz\u001b[0m\n",
      "\u001b[38;5;51mK562.ENCSR000EFS.ENCFF190CGV.JUN.bed.gz\u001b[0m\n",
      "\u001b[38;5;51mK562.ENCSR000EFT.ENCFF657CTC.GATA1.bed.gz\u001b[0m\n",
      "\u001b[38;5;51mK562.ENCSR000EFU.ENCFF715WGN.ELK1.bed.gz\u001b[0m\n",
      "\u001b[38;5;51mK562.ENCSR000EGE.ENCFF702XPO.EP300.bed.gz\u001b[0m\n",
      "\u001b[38;5;51mK562.ENCSR000EGM.ENCFF660GHM.CTCF.bed.gz\u001b[0m\n",
      "\u001b[38;5;51mK562.ENCSR000EHB.ENCFF852ZRK.TAL1.bed.gz\u001b[0m\n",
      "\u001b[38;5;51mK562.ENCSR004GKA.ENCFF242AOL.ZEB2.bed.gz\u001b[0m\n",
      "\u001b[38;5;51mK562.ENCSR091GVJ.ENCFF627RSK.ATF1.bed.gz\u001b[0m\n",
      "\u001b[38;5;51mK562.ENCSR121SPB.ENCFF142ZTD.KLF10.bed.gz\u001b[0m\n",
      "\u001b[38;5;51mK562.ENCSR388QZF.ENCFF355MNE.POLR2A.bed.gz\u001b[0m\n",
      "\u001b[38;5;51mK562.ENCSR552YGL.ENCFF023IFO.NFE2.bed.gz\u001b[0m\n",
      "\u001b[38;5;51mK562.ENCSR760UVO.ENCFF488OTN.KLF16.bed.gz\u001b[0m\n",
      "\u001b[38;5;51mK562.ENCSR991ELG.ENCFF553GPK.SP1.bed.gz\u001b[0m\n",
      "\u001b[38;5;51mK562.ENCSR998AJK.ENCFF777PKJ.NRF1.bed.gz\u001b[0m\n"
     ]
    }
   ],
   "source": [
    "bash -c \"ln -sf ${FD_INP}/*bed.gz ${FD_OUT}\"\n",
    "ls ${FD_OUT}"
   ]
  },
  {
   "cell_type": "code",
   "execution_count": 13,
   "id": "f514b5d9-5bcd-4787-b9fe-d133d3da9187",
   "metadata": {},
   "outputs": [
    {
     "name": "stdout",
     "output_type": "stream",
     "text": [
      "total 16\n",
      "lrwxrwxrwx 1 kk319 reddylab 134 Oct 24 14:32 \u001b[0m\u001b[38;5;51mK562.ENCSR000BMH.ENCFF398UQZ.YY1.bed.gz\u001b[0m -> \u001b[38;5;9m/data/reddylab/Kuei/out/proj_combeffect_encode_fcc/results/region/annotation_chipseq_tf_subset/K562.ENCSR000BMH.ENCFF398UQZ.YY1.bed.gz\u001b[0m\u001b[K\n",
      "lrwxrwxrwx 1 kk319 reddylab 135 Oct 24 14:32 \u001b[38;5;51mK562.ENCSR000BMW.ENCFF707MDI.REST.bed.gz\u001b[0m -> \u001b[38;5;9m/data/reddylab/Kuei/out/proj_combeffect_encode_fcc/results/region/annotation_chipseq_tf_subset/K562.ENCSR000BMW.ENCFF707MDI.REST.bed.gz\u001b[0m\u001b[K\n",
      "lrwxrwxrwx 1 kk319 reddylab 134 Oct 24 14:32 \u001b[38;5;51mK562.ENCSR000EFS.ENCFF190CGV.JUN.bed.gz\u001b[0m -> \u001b[38;5;9m/data/reddylab/Kuei/out/proj_combeffect_encode_fcc/results/region/annotation_chipseq_tf_subset/K562.ENCSR000EFS.ENCFF190CGV.JUN.bed.gz\u001b[0m\u001b[K\n",
      "lrwxrwxrwx 1 kk319 reddylab 136 Oct 24 14:32 \u001b[38;5;51mK562.ENCSR000EFT.ENCFF657CTC.GATA1.bed.gz\u001b[0m -> \u001b[38;5;9m/data/reddylab/Kuei/out/proj_combeffect_encode_fcc/results/region/annotation_chipseq_tf_subset/K562.ENCSR000EFT.ENCFF657CTC.GATA1.bed.gz\u001b[0m\u001b[K\n",
      "lrwxrwxrwx 1 kk319 reddylab 135 Oct 24 14:32 \u001b[38;5;51mK562.ENCSR000EFU.ENCFF715WGN.ELK1.bed.gz\u001b[0m -> \u001b[38;5;9m/data/reddylab/Kuei/out/proj_combeffect_encode_fcc/results/region/annotation_chipseq_tf_subset/K562.ENCSR000EFU.ENCFF715WGN.ELK1.bed.gz\u001b[0m\u001b[K\n",
      "lrwxrwxrwx 1 kk319 reddylab 136 Oct 24 14:32 \u001b[38;5;51mK562.ENCSR000EGE.ENCFF702XPO.EP300.bed.gz\u001b[0m -> \u001b[38;5;9m/data/reddylab/Kuei/out/proj_combeffect_encode_fcc/results/region/annotation_chipseq_tf_subset/K562.ENCSR000EGE.ENCFF702XPO.EP300.bed.gz\u001b[0m\u001b[K\n",
      "lrwxrwxrwx 1 kk319 reddylab 135 Oct 24 14:32 \u001b[38;5;51mK562.ENCSR000EGM.ENCFF660GHM.CTCF.bed.gz\u001b[0m -> \u001b[38;5;9m/data/reddylab/Kuei/out/proj_combeffect_encode_fcc/results/region/annotation_chipseq_tf_subset/K562.ENCSR000EGM.ENCFF660GHM.CTCF.bed.gz\u001b[0m\u001b[K\n",
      "lrwxrwxrwx 1 kk319 reddylab 135 Oct 24 14:32 \u001b[38;5;51mK562.ENCSR000EHB.ENCFF852ZRK.TAL1.bed.gz\u001b[0m -> \u001b[38;5;9m/data/reddylab/Kuei/out/proj_combeffect_encode_fcc/results/region/annotation_chipseq_tf_subset/K562.ENCSR000EHB.ENCFF852ZRK.TAL1.bed.gz\u001b[0m\u001b[K\n",
      "lrwxrwxrwx 1 kk319 reddylab 135 Oct 24 14:32 \u001b[38;5;51mK562.ENCSR004GKA.ENCFF242AOL.ZEB2.bed.gz\u001b[0m -> \u001b[38;5;9m/data/reddylab/Kuei/out/proj_combeffect_encode_fcc/results/region/annotation_chipseq_tf_subset/K562.ENCSR004GKA.ENCFF242AOL.ZEB2.bed.gz\u001b[0m\u001b[K\n",
      "lrwxrwxrwx 1 kk319 reddylab 135 Oct 24 14:32 \u001b[38;5;51mK562.ENCSR091GVJ.ENCFF627RSK.ATF1.bed.gz\u001b[0m -> \u001b[38;5;9m/data/reddylab/Kuei/out/proj_combeffect_encode_fcc/results/region/annotation_chipseq_tf_subset/K562.ENCSR091GVJ.ENCFF627RSK.ATF1.bed.gz\u001b[0m\u001b[K\n",
      "lrwxrwxrwx 1 kk319 reddylab 136 Oct 24 14:32 \u001b[38;5;51mK562.ENCSR121SPB.ENCFF142ZTD.KLF10.bed.gz\u001b[0m -> \u001b[38;5;9m/data/reddylab/Kuei/out/proj_combeffect_encode_fcc/results/region/annotation_chipseq_tf_subset/K562.ENCSR121SPB.ENCFF142ZTD.KLF10.bed.gz\u001b[0m\u001b[K\n",
      "lrwxrwxrwx 1 kk319 reddylab 137 Oct 24 14:32 \u001b[38;5;51mK562.ENCSR388QZF.ENCFF355MNE.POLR2A.bed.gz\u001b[0m -> \u001b[38;5;9m/data/reddylab/Kuei/out/proj_combeffect_encode_fcc/results/region/annotation_chipseq_tf_subset/K562.ENCSR388QZF.ENCFF355MNE.POLR2A.bed.gz\u001b[0m\u001b[K\n",
      "lrwxrwxrwx 1 kk319 reddylab 135 Oct 24 14:32 \u001b[38;5;51mK562.ENCSR552YGL.ENCFF023IFO.NFE2.bed.gz\u001b[0m -> \u001b[38;5;9m/data/reddylab/Kuei/out/proj_combeffect_encode_fcc/results/region/annotation_chipseq_tf_subset/K562.ENCSR552YGL.ENCFF023IFO.NFE2.bed.gz\u001b[0m\u001b[K\n",
      "lrwxrwxrwx 1 kk319 reddylab 136 Oct 24 14:32 \u001b[38;5;51mK562.ENCSR760UVO.ENCFF488OTN.KLF16.bed.gz\u001b[0m -> \u001b[38;5;9m/data/reddylab/Kuei/out/proj_combeffect_encode_fcc/results/region/annotation_chipseq_tf_subset/K562.ENCSR760UVO.ENCFF488OTN.KLF16.bed.gz\u001b[0m\u001b[K\n",
      "lrwxrwxrwx 1 kk319 reddylab 134 Oct 24 14:32 \u001b[38;5;51mK562.ENCSR991ELG.ENCFF553GPK.SP1.bed.gz\u001b[0m -> \u001b[38;5;9m/data/reddylab/Kuei/out/proj_combeffect_encode_fcc/results/region/annotation_chipseq_tf_subset/K562.ENCSR991ELG.ENCFF553GPK.SP1.bed.gz\u001b[0m\u001b[K\n",
      "lrwxrwxrwx 1 kk319 reddylab 135 Oct 24 14:32 \u001b[38;5;51mK562.ENCSR998AJK.ENCFF777PKJ.NRF1.bed.gz\u001b[0m -> \u001b[38;5;9m/data/reddylab/Kuei/out/proj_combeffect_encode_fcc/results/region/annotation_chipseq_tf_subset/K562.ENCSR998AJK.ENCFF777PKJ.NRF1.bed.gz\u001b[0m\u001b[K\n"
     ]
    }
   ],
   "source": [
    "ls -l ${FD_OUT}"
   ]
  },
  {
   "cell_type": "code",
   "execution_count": null,
   "id": "63f87b31-bac2-4355-bbbd-a845553b2260",
   "metadata": {},
   "outputs": [],
   "source": []
  },
  {
   "cell_type": "code",
   "execution_count": null,
   "id": "307bc03c-cf67-4915-9b44-6a61bd5b07cd",
   "metadata": {},
   "outputs": [],
   "source": []
  },
  {
   "cell_type": "code",
   "execution_count": null,
   "id": "d3657bbf-b547-4428-8fad-a0015c7dd199",
   "metadata": {},
   "outputs": [],
   "source": []
  },
  {
   "cell_type": "code",
   "execution_count": null,
   "id": "5463e3e1-d10a-436d-ab2e-bec0c1209c57",
   "metadata": {},
   "outputs": [],
   "source": []
  }
 ],
 "metadata": {
  "kernelspec": {
   "display_name": "Bash",
   "language": "bash",
   "name": "bash"
  },
  "language_info": {
   "codemirror_mode": "shell",
   "file_extension": ".sh",
   "mimetype": "text/x-sh",
   "name": "bash"
  }
 },
 "nbformat": 4,
 "nbformat_minor": 5
}
