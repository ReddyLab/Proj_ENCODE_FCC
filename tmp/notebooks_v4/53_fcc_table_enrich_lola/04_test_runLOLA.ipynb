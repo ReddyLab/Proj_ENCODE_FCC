{
 "cells": [
  {
   "cell_type": "markdown",
   "id": "74ab2d8b-3a62-43d5-a84d-f4fd7f398cab",
   "metadata": {},
   "source": [
    "**Set environment**"
   ]
  },
  {
   "cell_type": "code",
   "execution_count": 1,
   "id": "7e09b209-0fd8-437a-a14c-2214e51eeaf2",
   "metadata": {},
   "outputs": [
    {
     "name": "stdout",
     "output_type": "stream",
     "text": [
      "You are in Singularity: singularity_proj_encode_fcc \n",
      "BASE DIRECTORY (FD_BASE): /data/reddylab/Kuei \n",
      "WORK DIRECTORY (FD_WORK): /data/reddylab/Kuei/out \n",
      "CODE DIRECTORY (FD_CODE): /data/reddylab/Kuei/code \n",
      "PATH OF PROJECT (FD_PRJ): /data/reddylab/Kuei/code/Proj_CombEffect_ENCODE_FCC \n",
      "PATH OF RESULTS (FD_RES): /data/reddylab/Kuei/out/proj_combeffect_encode_fcc \n",
      "PATH OF LOG     (FD_LOG): /data/reddylab/Kuei/out/proj_combeffect_encode_fcc/log \n"
     ]
    }
   ],
   "source": [
    "suppressMessages(suppressWarnings(source(\"../config/config_sing.R\")))\n",
    "suppressMessages(suppressWarnings(source(\"../config/config_func.R\")))\n",
    "suppressMessages(suppressWarnings(library(\"GenomicRanges\")))\n",
    "library(\"LOLA\")\n",
    "show_env()"
   ]
  },
  {
   "cell_type": "markdown",
   "id": "da5c353f-f62c-47c2-bc8b-da427ca3126a",
   "metadata": {},
   "source": [
    "## Import RegionDB"
   ]
  },
  {
   "cell_type": "code",
   "execution_count": 2,
   "id": "102982d2-8bb0-4135-9b10-ea59baef965c",
   "metadata": {},
   "outputs": [
    {
     "name": "stderr",
     "output_type": "stream",
     "text": [
      "Reading collection annotations: \n",
      "\n",
      "\tencode_chipseq_tf_k562: found collection annotation:/data/reddylab/Kuei/out/proj_combeffect_encode_fcc/results/region/KS91_K562_ASTARRseq_peak_macs_input/enrichment_lola/regionDB_test/encode_chipseq_tf_k562/collection.txt\n",
      "\n",
      "Reading region annotations...\n",
      "\n",
      "::Loading cache::\t/data/reddylab/Kuei/out/proj_combeffect_encode_fcc/results/region/KS91_K562_ASTARRseq_peak_macs_input/enrichment_lola/regionDB_test/encode_chipseq_tf_k562//encode_chipseq_tf_k562_files.RData\n",
      "\n",
      "encode_chipseq_tf_k562\n",
      "\n",
      "::Loading cache::\t/data/reddylab/Kuei/out/proj_combeffect_encode_fcc/results/region/KS91_K562_ASTARRseq_peak_macs_input/enrichment_lola/regionDB_test/encode_chipseq_tf_k562/encode_chipseq_tf_k562.RData\n",
      "\n"
     ]
    }
   ],
   "source": [
    "fdiry = file.path(\n",
    "    FD_RES, \n",
    "    \"results\", \n",
    "    \"region\", \n",
    "    \"KS91_K562_ASTARRseq_peak_macs_input\",\n",
    "    \"enrichment_lola\",\n",
    "    \"regionDB_test\"\n",
    ")\n",
    "\n",
    "regionDB = loadRegionDB(fdiry, useCache = TRUE)"
   ]
  },
  {
   "cell_type": "markdown",
   "id": "33190ef2-d3c1-49db-bd6f-d0114e33a607",
   "metadata": {},
   "source": [
    "The following code would crash the runLOLA function\n",
    "```\n",
    "names(regionDB$regionGRL) = regionDB$regionAnno$antibody\n",
    "regionDB$regionGRL\n",
    "```"
   ]
  },
  {
   "cell_type": "markdown",
   "id": "f10d5fc0-0df3-44b1-986f-09bca332a865",
   "metadata": {},
   "source": [
    "## Import regions"
   ]
  },
  {
   "cell_type": "code",
   "execution_count": 3,
   "id": "767f03ea-ea0e-4dac-befc-045c43afec92",
   "metadata": {},
   "outputs": [
    {
     "name": "stdout",
     "output_type": "stream",
     "text": [
      "[1] 732434      7\n",
      "[1] 167127      6\n"
     ]
    }
   ],
   "source": [
    "fdiry = file.path(\n",
    "    FD_RES, \n",
    "    \"results\", \n",
    "    \"region\", \n",
    "    \"KS91_K562_ASTARRseq_peak_macs_input\",\n",
    "    \"summary\"\n",
    ")\n",
    "\n",
    "fname = \"peak.screened.fcc.total.tsv\"\n",
    "fpath = file.path(fdiry, fname)\n",
    "dat   = read_tsv(fpath, show_col_types = FALSE)\n",
    "\n",
    "dat_peak_fcc_total = dat\n",
    "print(dim(dat))\n",
    "\n",
    "fname = \"peak.screened.fcc.active.tsv\"\n",
    "fpath = file.path(fdiry, fname)\n",
    "dat   = read_tsv(fpath, show_col_types = FALSE)\n",
    "\n",
    "dat_peak_fcc_active = dat\n",
    "print(dim(dat))"
   ]
  },
  {
   "cell_type": "code",
   "execution_count": 4,
   "id": "ae1935a6-2fd8-4307-8406-3581fd7e1aee",
   "metadata": {},
   "outputs": [
    {
     "data": {
      "text/html": [
       "<table class=\"dataframe\">\n",
       "<caption>A tibble: 6 × 7</caption>\n",
       "<thead>\n",
       "\t<tr><th scope=col>Chrom</th><th scope=col>Start</th><th scope=col>End</th><th scope=col>Peak</th><th scope=col>Score</th><th scope=col>Assay_Type</th><th scope=col>Assay_Label</th></tr>\n",
       "\t<tr><th scope=col>&lt;chr&gt;</th><th scope=col>&lt;dbl&gt;</th><th scope=col>&lt;dbl&gt;</th><th scope=col>&lt;chr&gt;</th><th scope=col>&lt;dbl&gt;</th><th scope=col>&lt;chr&gt;</th><th scope=col>&lt;chr&gt;</th></tr>\n",
       "</thead>\n",
       "<tbody>\n",
       "\t<tr><td>chr1</td><td>100006256</td><td>100006880</td><td>chr1:100006256-100006880</td><td>-0.01311792</td><td>ASTARR</td><td>ASTARR_T</td></tr>\n",
       "\t<tr><td>chr1</td><td>100010437</td><td>100010915</td><td>chr1:100010437-100010915</td><td>-0.80687947</td><td>ASTARR</td><td>ASTARR_T</td></tr>\n",
       "\t<tr><td>chr1</td><td> 10002087</td><td> 10003910</td><td>chr1:10002087-10003910  </td><td>-0.34892859</td><td>ASTARR</td><td>ASTARR_T</td></tr>\n",
       "\t<tr><td>chr1</td><td>100021298</td><td>100021629</td><td>chr1:100021298-100021629</td><td>-1.03799571</td><td>ASTARR</td><td>ASTARR_T</td></tr>\n",
       "\t<tr><td>chr1</td><td>100023727</td><td>100023976</td><td>chr1:100023727-100023976</td><td>-0.19100207</td><td>ASTARR</td><td>ASTARR_T</td></tr>\n",
       "\t<tr><td>chr1</td><td>100027983</td><td>100029702</td><td>chr1:100027983-100029702</td><td>-0.18001582</td><td>ASTARR</td><td>ASTARR_T</td></tr>\n",
       "</tbody>\n",
       "</table>\n"
      ],
      "text/latex": [
       "A tibble: 6 × 7\n",
       "\\begin{tabular}{lllllll}\n",
       " Chrom & Start & End & Peak & Score & Assay\\_Type & Assay\\_Label\\\\\n",
       " <chr> & <dbl> & <dbl> & <chr> & <dbl> & <chr> & <chr>\\\\\n",
       "\\hline\n",
       "\t chr1 & 100006256 & 100006880 & chr1:100006256-100006880 & -0.01311792 & ASTARR & ASTARR\\_T\\\\\n",
       "\t chr1 & 100010437 & 100010915 & chr1:100010437-100010915 & -0.80687947 & ASTARR & ASTARR\\_T\\\\\n",
       "\t chr1 &  10002087 &  10003910 & chr1:10002087-10003910   & -0.34892859 & ASTARR & ASTARR\\_T\\\\\n",
       "\t chr1 & 100021298 & 100021629 & chr1:100021298-100021629 & -1.03799571 & ASTARR & ASTARR\\_T\\\\\n",
       "\t chr1 & 100023727 & 100023976 & chr1:100023727-100023976 & -0.19100207 & ASTARR & ASTARR\\_T\\\\\n",
       "\t chr1 & 100027983 & 100029702 & chr1:100027983-100029702 & -0.18001582 & ASTARR & ASTARR\\_T\\\\\n",
       "\\end{tabular}\n"
      ],
      "text/markdown": [
       "\n",
       "A tibble: 6 × 7\n",
       "\n",
       "| Chrom &lt;chr&gt; | Start &lt;dbl&gt; | End &lt;dbl&gt; | Peak &lt;chr&gt; | Score &lt;dbl&gt; | Assay_Type &lt;chr&gt; | Assay_Label &lt;chr&gt; |\n",
       "|---|---|---|---|---|---|---|\n",
       "| chr1 | 100006256 | 100006880 | chr1:100006256-100006880 | -0.01311792 | ASTARR | ASTARR_T |\n",
       "| chr1 | 100010437 | 100010915 | chr1:100010437-100010915 | -0.80687947 | ASTARR | ASTARR_T |\n",
       "| chr1 |  10002087 |  10003910 | chr1:10002087-10003910   | -0.34892859 | ASTARR | ASTARR_T |\n",
       "| chr1 | 100021298 | 100021629 | chr1:100021298-100021629 | -1.03799571 | ASTARR | ASTARR_T |\n",
       "| chr1 | 100023727 | 100023976 | chr1:100023727-100023976 | -0.19100207 | ASTARR | ASTARR_T |\n",
       "| chr1 | 100027983 | 100029702 | chr1:100027983-100029702 | -0.18001582 | ASTARR | ASTARR_T |\n",
       "\n"
      ],
      "text/plain": [
       "  Chrom Start     End       Peak                     Score       Assay_Type\n",
       "1 chr1  100006256 100006880 chr1:100006256-100006880 -0.01311792 ASTARR    \n",
       "2 chr1  100010437 100010915 chr1:100010437-100010915 -0.80687947 ASTARR    \n",
       "3 chr1   10002087  10003910 chr1:10002087-10003910   -0.34892859 ASTARR    \n",
       "4 chr1  100021298 100021629 chr1:100021298-100021629 -1.03799571 ASTARR    \n",
       "5 chr1  100023727 100023976 chr1:100023727-100023976 -0.19100207 ASTARR    \n",
       "6 chr1  100027983 100029702 chr1:100027983-100029702 -0.18001582 ASTARR    \n",
       "  Assay_Label\n",
       "1 ASTARR_T   \n",
       "2 ASTARR_T   \n",
       "3 ASTARR_T   \n",
       "4 ASTARR_T   \n",
       "5 ASTARR_T   \n",
       "6 ASTARR_T   "
      ]
     },
     "metadata": {},
     "output_type": "display_data"
    }
   ],
   "source": [
    "dat = dat_peak_fcc_total\n",
    "head(dat)"
   ]
  },
  {
   "cell_type": "code",
   "execution_count": 5,
   "id": "9f7b71f4-c83c-4ade-871b-4332e278cd89",
   "metadata": {},
   "outputs": [
    {
     "data": {
      "text/html": [
       "<table class=\"dataframe\">\n",
       "<caption>A tibble: 6 × 6</caption>\n",
       "<thead>\n",
       "\t<tr><th scope=col>Chrom</th><th scope=col>Start</th><th scope=col>End</th><th scope=col>Peak</th><th scope=col>Assay_Type</th><th scope=col>Assay_Label</th></tr>\n",
       "\t<tr><th scope=col>&lt;chr&gt;</th><th scope=col>&lt;dbl&gt;</th><th scope=col>&lt;dbl&gt;</th><th scope=col>&lt;chr&gt;</th><th scope=col>&lt;chr&gt;</th><th scope=col>&lt;chr&gt;</th></tr>\n",
       "</thead>\n",
       "<tbody>\n",
       "\t<tr><td>chr1</td><td>101198203</td><td>101199537</td><td>chr1:101198203-101199537</td><td>ASTARR</td><td>ASTARR_AB</td></tr>\n",
       "\t<tr><td>chr1</td><td>  1012902</td><td>  1014502</td><td>chr1:1012902-1014502    </td><td>ASTARR</td><td>ASTARR_AB</td></tr>\n",
       "\t<tr><td>chr1</td><td>109213422</td><td>109215054</td><td>chr1:109213422-109215054</td><td>ASTARR</td><td>ASTARR_AB</td></tr>\n",
       "\t<tr><td>chr1</td><td>109218538</td><td>109219133</td><td>chr1:109218538-109219133</td><td>ASTARR</td><td>ASTARR_AB</td></tr>\n",
       "\t<tr><td>chr1</td><td>109388963</td><td>109390708</td><td>chr1:109388963-109390708</td><td>ASTARR</td><td>ASTARR_AB</td></tr>\n",
       "\t<tr><td>chr1</td><td>109476546</td><td>109477209</td><td>chr1:109476546-109477209</td><td>ASTARR</td><td>ASTARR_AB</td></tr>\n",
       "</tbody>\n",
       "</table>\n"
      ],
      "text/latex": [
       "A tibble: 6 × 6\n",
       "\\begin{tabular}{llllll}\n",
       " Chrom & Start & End & Peak & Assay\\_Type & Assay\\_Label\\\\\n",
       " <chr> & <dbl> & <dbl> & <chr> & <chr> & <chr>\\\\\n",
       "\\hline\n",
       "\t chr1 & 101198203 & 101199537 & chr1:101198203-101199537 & ASTARR & ASTARR\\_AB\\\\\n",
       "\t chr1 &   1012902 &   1014502 & chr1:1012902-1014502     & ASTARR & ASTARR\\_AB\\\\\n",
       "\t chr1 & 109213422 & 109215054 & chr1:109213422-109215054 & ASTARR & ASTARR\\_AB\\\\\n",
       "\t chr1 & 109218538 & 109219133 & chr1:109218538-109219133 & ASTARR & ASTARR\\_AB\\\\\n",
       "\t chr1 & 109388963 & 109390708 & chr1:109388963-109390708 & ASTARR & ASTARR\\_AB\\\\\n",
       "\t chr1 & 109476546 & 109477209 & chr1:109476546-109477209 & ASTARR & ASTARR\\_AB\\\\\n",
       "\\end{tabular}\n"
      ],
      "text/markdown": [
       "\n",
       "A tibble: 6 × 6\n",
       "\n",
       "| Chrom &lt;chr&gt; | Start &lt;dbl&gt; | End &lt;dbl&gt; | Peak &lt;chr&gt; | Assay_Type &lt;chr&gt; | Assay_Label &lt;chr&gt; |\n",
       "|---|---|---|---|---|---|\n",
       "| chr1 | 101198203 | 101199537 | chr1:101198203-101199537 | ASTARR | ASTARR_AB |\n",
       "| chr1 |   1012902 |   1014502 | chr1:1012902-1014502     | ASTARR | ASTARR_AB |\n",
       "| chr1 | 109213422 | 109215054 | chr1:109213422-109215054 | ASTARR | ASTARR_AB |\n",
       "| chr1 | 109218538 | 109219133 | chr1:109218538-109219133 | ASTARR | ASTARR_AB |\n",
       "| chr1 | 109388963 | 109390708 | chr1:109388963-109390708 | ASTARR | ASTARR_AB |\n",
       "| chr1 | 109476546 | 109477209 | chr1:109476546-109477209 | ASTARR | ASTARR_AB |\n",
       "\n"
      ],
      "text/plain": [
       "  Chrom Start     End       Peak                     Assay_Type Assay_Label\n",
       "1 chr1  101198203 101199537 chr1:101198203-101199537 ASTARR     ASTARR_AB  \n",
       "2 chr1    1012902   1014502 chr1:1012902-1014502     ASTARR     ASTARR_AB  \n",
       "3 chr1  109213422 109215054 chr1:109213422-109215054 ASTARR     ASTARR_AB  \n",
       "4 chr1  109218538 109219133 chr1:109218538-109219133 ASTARR     ASTARR_AB  \n",
       "5 chr1  109388963 109390708 chr1:109388963-109390708 ASTARR     ASTARR_AB  \n",
       "6 chr1  109476546 109477209 chr1:109476546-109477209 ASTARR     ASTARR_AB  "
      ]
     },
     "metadata": {},
     "output_type": "display_data"
    }
   ],
   "source": [
    "dat = dat_peak_fcc_active\n",
    "head(dat)"
   ]
  },
  {
   "cell_type": "markdown",
   "id": "2ce63124-5278-4e7f-b08e-66f47df0174d",
   "metadata": {},
   "source": [
    "## Arrange regions files"
   ]
  },
  {
   "cell_type": "markdown",
   "id": "c6a8048f-b539-4fea-b966-5170bfc77885",
   "metadata": {},
   "source": [
    "**Split by assay type**"
   ]
  },
  {
   "cell_type": "code",
   "execution_count": 6,
   "id": "9bb0740c-68be-4574-a2fb-f84f45f17448",
   "metadata": {},
   "outputs": [],
   "source": [
    "lst_dat_peak_fcc_active = dat_peak_fcc_active %>% split(., .$Assay_Type)\n",
    "lst_dat_peak_fcc_total  = dat_peak_fcc_total  %>% split(., .$Assay_Type)"
   ]
  },
  {
   "cell_type": "markdown",
   "id": "193c402f-894b-4e89-b432-ce595d9b7d5b",
   "metadata": {},
   "source": [
    "**Total regions**"
   ]
  },
  {
   "cell_type": "code",
   "execution_count": 7,
   "id": "aac7b538-daa3-4a24-a820-480615ad4544",
   "metadata": {},
   "outputs": [],
   "source": [
    "### init\n",
    "lst = lst_dat_peak_fcc_total\n",
    "\n",
    "### create GRangeList for assays\n",
    "lst = lapply(lst, function(dat) {\n",
    "    grg = makeGRangesFromDataFrame(\n",
    "        dat,\n",
    "        #keep.extra.columns=FALSE,\n",
    "        ignore.strand  = TRUE,\n",
    "        seqinfo        = NULL,\n",
    "        seqnames.field = \"Chrom\",\n",
    "        start.field    = \"Start\",\n",
    "        end.field      = \"End\",\n",
    "        starts.in.df.are.0based=TRUE)\n",
    "    return(grg)\n",
    "})\n",
    "lst = GRangesList(lst)\n",
    "\n",
    "### assign and show\n",
    "lst_grg_peak_fcc_total = lst"
   ]
  },
  {
   "cell_type": "code",
   "execution_count": 8,
   "id": "cb44d45c-6f68-4b20-b565-ba0885a55df5",
   "metadata": {},
   "outputs": [
    {
     "name": "stdout",
     "output_type": "stream",
     "text": [
      "[1] \"ASTARR\"                \"CRISPRi-Growth\"        \"CRISPRi-HCRFF\"        \n",
      "[4] \"ENCODE-E2G_Benchmark\"  \"ENCODE-E2G_Prediction\" \"LMPRA\"                \n",
      "[7] \"TMPRA\"                 \"WSTARR\"               \n"
     ]
    },
    {
     "data": {
      "text/html": [
       "<table class=\"dataframe\">\n",
       "<caption>A tibble: 3 × 7</caption>\n",
       "<thead>\n",
       "\t<tr><th scope=col>Chrom</th><th scope=col>Start</th><th scope=col>End</th><th scope=col>Peak</th><th scope=col>Score</th><th scope=col>Assay_Type</th><th scope=col>Assay_Label</th></tr>\n",
       "\t<tr><th scope=col>&lt;chr&gt;</th><th scope=col>&lt;dbl&gt;</th><th scope=col>&lt;dbl&gt;</th><th scope=col>&lt;chr&gt;</th><th scope=col>&lt;dbl&gt;</th><th scope=col>&lt;chr&gt;</th><th scope=col>&lt;chr&gt;</th></tr>\n",
       "</thead>\n",
       "<tbody>\n",
       "\t<tr><td>chr1</td><td>100006256</td><td>100006880</td><td>chr1:100006256-100006880</td><td>-0.01311792</td><td>ASTARR</td><td>ASTARR_T</td></tr>\n",
       "\t<tr><td>chr1</td><td>100010437</td><td>100010915</td><td>chr1:100010437-100010915</td><td>-0.80687947</td><td>ASTARR</td><td>ASTARR_T</td></tr>\n",
       "\t<tr><td>chr1</td><td> 10002087</td><td> 10003910</td><td>chr1:10002087-10003910  </td><td>-0.34892859</td><td>ASTARR</td><td>ASTARR_T</td></tr>\n",
       "</tbody>\n",
       "</table>\n"
      ],
      "text/latex": [
       "A tibble: 3 × 7\n",
       "\\begin{tabular}{lllllll}\n",
       " Chrom & Start & End & Peak & Score & Assay\\_Type & Assay\\_Label\\\\\n",
       " <chr> & <dbl> & <dbl> & <chr> & <dbl> & <chr> & <chr>\\\\\n",
       "\\hline\n",
       "\t chr1 & 100006256 & 100006880 & chr1:100006256-100006880 & -0.01311792 & ASTARR & ASTARR\\_T\\\\\n",
       "\t chr1 & 100010437 & 100010915 & chr1:100010437-100010915 & -0.80687947 & ASTARR & ASTARR\\_T\\\\\n",
       "\t chr1 &  10002087 &  10003910 & chr1:10002087-10003910   & -0.34892859 & ASTARR & ASTARR\\_T\\\\\n",
       "\\end{tabular}\n"
      ],
      "text/markdown": [
       "\n",
       "A tibble: 3 × 7\n",
       "\n",
       "| Chrom &lt;chr&gt; | Start &lt;dbl&gt; | End &lt;dbl&gt; | Peak &lt;chr&gt; | Score &lt;dbl&gt; | Assay_Type &lt;chr&gt; | Assay_Label &lt;chr&gt; |\n",
       "|---|---|---|---|---|---|---|\n",
       "| chr1 | 100006256 | 100006880 | chr1:100006256-100006880 | -0.01311792 | ASTARR | ASTARR_T |\n",
       "| chr1 | 100010437 | 100010915 | chr1:100010437-100010915 | -0.80687947 | ASTARR | ASTARR_T |\n",
       "| chr1 |  10002087 |  10003910 | chr1:10002087-10003910   | -0.34892859 | ASTARR | ASTARR_T |\n",
       "\n"
      ],
      "text/plain": [
       "  Chrom Start     End       Peak                     Score       Assay_Type\n",
       "1 chr1  100006256 100006880 chr1:100006256-100006880 -0.01311792 ASTARR    \n",
       "2 chr1  100010437 100010915 chr1:100010437-100010915 -0.80687947 ASTARR    \n",
       "3 chr1   10002087  10003910 chr1:10002087-10003910   -0.34892859 ASTARR    \n",
       "  Assay_Label\n",
       "1 ASTARR_T   \n",
       "2 ASTARR_T   \n",
       "3 ASTARR_T   "
      ]
     },
     "metadata": {},
     "output_type": "display_data"
    }
   ],
   "source": [
    "lst = lst_dat_peak_fcc_total\n",
    "dat = lst[[1]]\n",
    "\n",
    "print(names(lst))\n",
    "head(dat, 3)"
   ]
  },
  {
   "cell_type": "code",
   "execution_count": 10,
   "id": "e307cfb2-f152-45d9-ad51-d883d6b9123b",
   "metadata": {},
   "outputs": [
    {
     "name": "stdout",
     "output_type": "stream",
     "text": [
      "[1] \"ASTARR\"                \"CRISPRi-Growth\"        \"CRISPRi-HCRFF\"        \n",
      "[4] \"ENCODE-E2G_Benchmark\"  \"ENCODE-E2G_Prediction\" \"LMPRA\"                \n",
      "[7] \"TMPRA\"                 \"WSTARR\"               \n",
      "GRanges object with 246850 ranges and 0 metadata columns:\n",
      "           seqnames              ranges strand\n",
      "              <Rle>           <IRanges>  <Rle>\n",
      "       [1]     chr1 100006257-100006880      *\n",
      "       [2]     chr1 100010438-100010915      *\n",
      "       [3]     chr1   10002088-10003910      *\n",
      "       [4]     chr1 100021299-100021629      *\n",
      "       [5]     chr1 100023728-100023976      *\n",
      "       ...      ...                 ...    ...\n",
      "  [246846]     chrX   98850592-98850902      *\n",
      "  [246847]     chrX     9885197-9885587      *\n",
      "  [246848]     chrX     9894545-9895641      *\n",
      "  [246849]     chrX       989807-990542      *\n",
      "  [246850]     chrX     9995768-9996126      *\n",
      "  -------\n",
      "  seqinfo: 24 sequences from an unspecified genome; no seqlengths\n"
     ]
    }
   ],
   "source": [
    "lst = lst_grg_peak_fcc_total\n",
    "grg = lst[[1]]\n",
    "\n",
    "print(names(lst))\n",
    "print(grg)"
   ]
  },
  {
   "cell_type": "markdown",
   "id": "dec1506b-2e95-4962-aaf5-d0f91b772ad0",
   "metadata": {},
   "source": [
    "**Significant regions**"
   ]
  },
  {
   "cell_type": "code",
   "execution_count": 11,
   "id": "7326c775-9846-40bb-93fa-0e65793fe8cb",
   "metadata": {},
   "outputs": [
    {
     "name": "stdout",
     "output_type": "stream",
     "text": [
      "[1] \"ASTARR\"                \"CRISPRi-Growth\"        \"CRISPRi-HCRFF\"        \n",
      "[4] \"ENCODE-E2G_Benchmark\"  \"ENCODE-E2G_Prediction\" \"LMPRA\"                \n",
      "[7] \"TMPRA\"                 \"WSTARR\"               \n"
     ]
    }
   ],
   "source": [
    "### init\n",
    "lst = lst_dat_peak_fcc_active\n",
    "vec = names(lst)\n",
    "names(vec) = vec\n",
    "vec_txt_assay = vec\n",
    "\n",
    "### create a list of \"GRangeList\" for assays\n",
    "lst = lapply(vec_txt_assay, function(txt_assay){\n",
    "\n",
    "    ### filter\n",
    "    dat = lst_dat_peak_fcc_total[[txt_assay]]\n",
    "    vec = dat$Peak\n",
    "\n",
    "    dat = lst_dat_peak_fcc_active[[txt_assay]]\n",
    "    dat = dat %>% dplyr::filter(Peak %in% vec) %>% dplyr::distinct()\n",
    "    \n",
    "    ###\n",
    "    lst_inner = split(dat, dat$Assay_Label)\n",
    "    lst_inner = lapply(lst_inner, function(dat){\n",
    "        grg = makeGRangesFromDataFrame(\n",
    "            dat,\n",
    "            ignore.strand  = TRUE,\n",
    "            seqinfo        = NULL,\n",
    "            seqnames.field = \"Chrom\",\n",
    "            start.field    = \"Start\",\n",
    "            end.field      = \"End\",\n",
    "            starts.in.df.are.0based=TRUE)\n",
    "        return(grg)\n",
    "    })\n",
    "\n",
    "    ###\n",
    "    #txt_label = paste(txt_assay, \"A\", sep=\"_\")\n",
    "    #lst_inner = lst_inner[txt_label]\n",
    "    \n",
    "    ###\n",
    "    lst_inner = GRangesList(lst_inner)\n",
    "    return(lst_inner)\n",
    "})\n",
    "\n",
    "### assign and show\n",
    "lst_grg_peak_fcc_active = lst\n",
    "print(names(lst))"
   ]
  },
  {
   "cell_type": "code",
   "execution_count": 12,
   "id": "f6707f49-577e-46ee-8394-3a083cab29d8",
   "metadata": {},
   "outputs": [
    {
     "data": {
      "text/plain": [
       "GRangesList object of length 3:\n",
       "$ASTARR_A\n",
       "GRanges object with 7427 ranges and 0 metadata columns:\n",
       "         seqnames              ranges strand\n",
       "            <Rle>           <IRanges>  <Rle>\n",
       "     [1]     chr1 100132371-100133575      *\n",
       "     [2]     chr1 100351003-100353319      *\n",
       "     [3]     chr1 100785474-100786391      *\n",
       "     [4]     chr1 101198204-101199537      *\n",
       "     [5]     chr1     1012903-1014502      *\n",
       "     ...      ...                 ...    ...\n",
       "  [7423]     chrX     9342067-9343227      *\n",
       "  [7424]     chrX     9351592-9353468      *\n",
       "  [7425]     chrX     9462774-9466539      *\n",
       "  [7426]     chrX   95903361-95903991      *\n",
       "  [7427]     chrX       989807-990542      *\n",
       "  -------\n",
       "  seqinfo: 23 sequences from an unspecified genome; no seqlengths\n",
       "\n",
       "$ASTARR_AB\n",
       "GRanges object with 2799 ranges and 0 metadata columns:\n",
       "         seqnames              ranges strand\n",
       "            <Rle>           <IRanges>  <Rle>\n",
       "     [1]     chr1 101198204-101199537      *\n",
       "     [2]     chr1     1012903-1014502      *\n",
       "     [3]     chr1 109213423-109215054      *\n",
       "     [4]     chr1 109218539-109219133      *\n",
       "     [5]     chr1 109388964-109390708      *\n",
       "     ...      ...                 ...    ...\n",
       "  [2795]     chrX   80422236-80424352      *\n",
       "  [2796]     chrX     9351592-9353468      *\n",
       "  [2797]     chrX     9462774-9466539      *\n",
       "  [2798]     chrX   95903361-95903991      *\n",
       "  [2799]     chrX       989807-990542      *\n",
       "  -------\n",
       "  seqinfo: 23 sequences from an unspecified genome; no seqlengths\n",
       "\n",
       "$ASTARR_R\n",
       "GRanges object with 11210 ranges and 0 metadata columns:\n",
       "          seqnames              ranges strand\n",
       "             <Rle>           <IRanges>  <Rle>\n",
       "      [1]     chr1 100036872-100039191      *\n",
       "      [2]     chr1     1001500-1002142      *\n",
       "      [3]     chr1 100248890-100250320      *\n",
       "      [4]     chr1 100265530-100267006      *\n",
       "      [5]     chr1 100351003-100353319      *\n",
       "      ...      ...                 ...    ...\n",
       "  [11206]     chrX   85002986-85004613      *\n",
       "  [11207]     chrX   90453828-90454273      *\n",
       "  [11208]     chrX     9342067-9343227      *\n",
       "  [11209]     chrX     9462774-9466539      *\n",
       "  [11210]     chrX     9530834-9531261      *\n",
       "  -------\n",
       "  seqinfo: 23 sequences from an unspecified genome; no seqlengths\n"
      ]
     },
     "metadata": {},
     "output_type": "display_data"
    }
   ],
   "source": [
    "lst_grg_peak_fcc_active[[\"ASTARR\"]]"
   ]
  },
  {
   "cell_type": "markdown",
   "id": "676452db-d172-4fd9-888e-0553ef4b19d1",
   "metadata": {},
   "source": [
    "## Run the enrichment"
   ]
  },
  {
   "cell_type": "code",
   "execution_count": 13,
   "id": "b83aab4b-b803-455b-a6ed-0ef297ae0026",
   "metadata": {},
   "outputs": [
    {
     "name": "stdout",
     "output_type": "stream",
     "text": [
      "Run LOLA on assay: ASTARR \n"
     ]
    },
    {
     "name": "stderr",
     "output_type": "stream",
     "text": [
      "Calculating unit set overlaps...\n",
      "\n",
      "Calculating universe set overlaps...\n",
      "\n",
      "Calculating Fisher scores...\n",
      "\n"
     ]
    },
    {
     "name": "stdout",
     "output_type": "stream",
     "text": [
      "Run LOLA on assay: CRISPRi-Growth \n"
     ]
    },
    {
     "name": "stderr",
     "output_type": "stream",
     "text": [
      "Calculating unit set overlaps...\n",
      "\n",
      "Calculating universe set overlaps...\n",
      "\n",
      "Calculating Fisher scores...\n",
      "\n"
     ]
    },
    {
     "name": "stdout",
     "output_type": "stream",
     "text": [
      "Run LOLA on assay: CRISPRi-HCRFF \n"
     ]
    },
    {
     "name": "stderr",
     "output_type": "stream",
     "text": [
      "Calculating unit set overlaps...\n",
      "\n",
      "Calculating universe set overlaps...\n",
      "\n",
      "Calculating Fisher scores...\n",
      "\n"
     ]
    },
    {
     "name": "stdout",
     "output_type": "stream",
     "text": [
      "Run LOLA on assay: ENCODE-E2G_Benchmark \n"
     ]
    },
    {
     "name": "stderr",
     "output_type": "stream",
     "text": [
      "Calculating unit set overlaps...\n",
      "\n",
      "Calculating universe set overlaps...\n",
      "\n",
      "Calculating Fisher scores...\n",
      "\n"
     ]
    },
    {
     "name": "stdout",
     "output_type": "stream",
     "text": [
      "Run LOLA on assay: ENCODE-E2G_Prediction \n"
     ]
    },
    {
     "name": "stderr",
     "output_type": "stream",
     "text": [
      "Calculating unit set overlaps...\n",
      "\n",
      "Calculating universe set overlaps...\n",
      "\n",
      "Calculating Fisher scores...\n",
      "\n"
     ]
    },
    {
     "name": "stdout",
     "output_type": "stream",
     "text": [
      "Run LOLA on assay: LMPRA \n"
     ]
    },
    {
     "name": "stderr",
     "output_type": "stream",
     "text": [
      "Calculating unit set overlaps...\n",
      "\n",
      "Calculating universe set overlaps...\n",
      "\n",
      "Calculating Fisher scores...\n",
      "\n"
     ]
    },
    {
     "name": "stdout",
     "output_type": "stream",
     "text": [
      "Run LOLA on assay: TMPRA \n"
     ]
    },
    {
     "name": "stderr",
     "output_type": "stream",
     "text": [
      "Calculating unit set overlaps...\n",
      "\n",
      "Calculating universe set overlaps...\n",
      "\n",
      "Calculating Fisher scores...\n",
      "\n"
     ]
    },
    {
     "name": "stdout",
     "output_type": "stream",
     "text": [
      "Run LOLA on assay: WSTARR \n"
     ]
    },
    {
     "name": "stderr",
     "output_type": "stream",
     "text": [
      "Calculating unit set overlaps...\n",
      "\n",
      "Calculating universe set overlaps...\n",
      "\n",
      "Calculating Fisher scores...\n",
      "\n"
     ]
    }
   ],
   "source": [
    "### init\n",
    "lst = lst_dat_peak_fcc_active\n",
    "vec = names(lst)\n",
    "names(vec) = vec\n",
    "vec_txt_assay = vec\n",
    "\n",
    "### run LOLA for each assay\n",
    "lst = lapply(vec_txt_assay, function(txt_assay){\n",
    "    ###\n",
    "    grg_peak_total = lst_grg_peak_fcc_total[[txt_assay]]\n",
    "    grg_peak_test  = lst_grg_peak_fcc_active[[txt_assay]]\n",
    "\n",
    "    ###\n",
    "    cat(\"Run LOLA on assay:\", txt_assay, \"\\n\")\n",
    "    res = runLOLA(\n",
    "        grg_peak_test,\n",
    "        grg_peak_total,\n",
    "        regionDB\n",
    "    )\n",
    "\n",
    "    return(res)\n",
    "})\n",
    "\n",
    "### assign\n",
    "lst_dat_lola_results = lst"
   ]
  },
  {
   "cell_type": "code",
   "execution_count": 14,
   "id": "2ee83a31-5f97-4406-b4d5-6fad35cf604e",
   "metadata": {},
   "outputs": [
    {
     "data": {
      "text/html": [
       "<table class=\"dataframe\">\n",
       "<caption>A data.table: 6 × 22</caption>\n",
       "<thead>\n",
       "\t<tr><th scope=col>userSet</th><th scope=col>dbSet</th><th scope=col>collection</th><th scope=col>pValueLog</th><th scope=col>oddsRatio</th><th scope=col>support</th><th scope=col>rnkPV</th><th scope=col>rnkOR</th><th scope=col>rnkSup</th><th scope=col>maxRnk</th><th scope=col>⋯</th><th scope=col>c</th><th scope=col>d</th><th scope=col>description</th><th scope=col>cellType</th><th scope=col>tissue</th><th scope=col>antibody</th><th scope=col>treatment</th><th scope=col>dataSource</th><th scope=col>filename</th><th scope=col>size</th></tr>\n",
       "\t<tr><th scope=col>&lt;chr&gt;</th><th scope=col>&lt;int&gt;</th><th scope=col>&lt;chr&gt;</th><th scope=col>&lt;dbl&gt;</th><th scope=col>&lt;dbl&gt;</th><th scope=col>&lt;int&gt;</th><th scope=col>&lt;int&gt;</th><th scope=col>&lt;int&gt;</th><th scope=col>&lt;int&gt;</th><th scope=col>&lt;int&gt;</th><th scope=col>⋯</th><th scope=col>&lt;int&gt;</th><th scope=col>&lt;int&gt;</th><th scope=col>&lt;chr&gt;</th><th scope=col>&lt;chr&gt;</th><th scope=col>&lt;chr&gt;</th><th scope=col>&lt;chr&gt;</th><th scope=col>&lt;chr&gt;</th><th scope=col>&lt;chr&gt;</th><th scope=col>&lt;chr&gt;</th><th scope=col>&lt;dbl&gt;</th></tr>\n",
       "</thead>\n",
       "<tbody>\n",
       "\t<tr><td>ASTARR_A </td><td> 6</td><td>encode_chipseq_tf_k562</td><td>322.0052</td><td>23.32439</td><td>4895</td><td>1</td><td>1</td><td>1</td><td>1</td><td>⋯</td><td>2532</td><td>221098</td><td>ENCSR000EGE;ENCFF702XPO;EP300;Homo sapiens K562                      </td><td>K562</td><td>NA</td><td>EP300</td><td>NA</td><td>Michael Snyder, Stanford;ENCODE2</td><td>K562.ENCSR000EGE.ENCFF702XPO.EP300.bed.gz</td><td>1722</td></tr>\n",
       "\t<tr><td>ASTARR_AB</td><td> 6</td><td>encode_chipseq_tf_k562</td><td>322.0052</td><td>39.48147</td><td>2206</td><td>1</td><td>1</td><td>1</td><td>1</td><td>⋯</td><td> 593</td><td>223037</td><td>ENCSR000EGE;ENCFF702XPO;EP300;Homo sapiens K562                      </td><td>K562</td><td>NA</td><td>EP300</td><td>NA</td><td>Michael Snyder, Stanford;ENCODE2</td><td>K562.ENCSR000EGE.ENCFF702XPO.EP300.bed.gz</td><td>1722</td></tr>\n",
       "\t<tr><td>ASTARR_R </td><td>16</td><td>encode_chipseq_tf_k562</td><td>322.0052</td><td>26.70781</td><td>7353</td><td>1</td><td>2</td><td>1</td><td>2</td><td>⋯</td><td>3857</td><td>219939</td><td>ENCSR998AJK;ENCFF777PKJ;NRF1;Homo sapiens K562                       </td><td>K562</td><td>NA</td><td>NRF1 </td><td>NA</td><td>Michael Snyder, Stanford;ENCODE3</td><td>K562.ENCSR998AJK.ENCFF777PKJ.NRF1.bed.gz </td><td>2440</td></tr>\n",
       "\t<tr><td>ASTARR_AB</td><td> 3</td><td>encode_chipseq_tf_k562</td><td>322.0052</td><td>30.85735</td><td>1879</td><td>1</td><td>2</td><td>2</td><td>2</td><td>⋯</td><td> 920</td><td>228901</td><td>ENCSR000EFS;ENCFF190CGV;JUN;Homo sapiens K562                        </td><td>K562</td><td>NA</td><td>JUN  </td><td>NA</td><td>Michael Snyder, Stanford;ENCODE2</td><td>K562.ENCSR000EFS.ENCFF190CGV.JUN.bed.gz  </td><td>1397</td></tr>\n",
       "\t<tr><td>ASTARR_A </td><td> 3</td><td>encode_chipseq_tf_k562</td><td>322.0052</td><td>20.46745</td><td>4014</td><td>1</td><td>2</td><td>3</td><td>3</td><td>⋯</td><td>3413</td><td>226408</td><td>ENCSR000EFS;ENCFF190CGV;JUN;Homo sapiens K562                        </td><td>K562</td><td>NA</td><td>JUN  </td><td>NA</td><td>Michael Snyder, Stanford;ENCODE2</td><td>K562.ENCSR000EFS.ENCFF190CGV.JUN.bed.gz  </td><td>1397</td></tr>\n",
       "\t<tr><td>ASTARR_A </td><td>10</td><td>encode_chipseq_tf_k562</td><td>322.0052</td><td>17.13082</td><td>4646</td><td>1</td><td>3</td><td>2</td><td>3</td><td>⋯</td><td>2781</td><td>218150</td><td>ENCSR091GVJ;ENCFF627RSK;ATF1;Homo sapiens K562 stably expressing ATF1</td><td>K562</td><td>NA</td><td>ATF1 </td><td>NA</td><td>Michael Snyder, Stanford;ENCODE3</td><td>K562.ENCSR091GVJ.ENCFF627RSK.ATF1.bed.gz </td><td>3033</td></tr>\n",
       "</tbody>\n",
       "</table>\n"
      ],
      "text/latex": [
       "A data.table: 6 × 22\n",
       "\\begin{tabular}{lllllllllllllllllllll}\n",
       " userSet & dbSet & collection & pValueLog & oddsRatio & support & rnkPV & rnkOR & rnkSup & maxRnk & ⋯ & c & d & description & cellType & tissue & antibody & treatment & dataSource & filename & size\\\\\n",
       " <chr> & <int> & <chr> & <dbl> & <dbl> & <int> & <int> & <int> & <int> & <int> & ⋯ & <int> & <int> & <chr> & <chr> & <chr> & <chr> & <chr> & <chr> & <chr> & <dbl>\\\\\n",
       "\\hline\n",
       "\t ASTARR\\_A  &  6 & encode\\_chipseq\\_tf\\_k562 & 322.0052 & 23.32439 & 4895 & 1 & 1 & 1 & 1 & ⋯ & 2532 & 221098 & ENCSR000EGE;ENCFF702XPO;EP300;Homo sapiens K562                       & K562 & NA & EP300 & NA & Michael Snyder, Stanford;ENCODE2 & K562.ENCSR000EGE.ENCFF702XPO.EP300.bed.gz & 1722\\\\\n",
       "\t ASTARR\\_AB &  6 & encode\\_chipseq\\_tf\\_k562 & 322.0052 & 39.48147 & 2206 & 1 & 1 & 1 & 1 & ⋯ &  593 & 223037 & ENCSR000EGE;ENCFF702XPO;EP300;Homo sapiens K562                       & K562 & NA & EP300 & NA & Michael Snyder, Stanford;ENCODE2 & K562.ENCSR000EGE.ENCFF702XPO.EP300.bed.gz & 1722\\\\\n",
       "\t ASTARR\\_R  & 16 & encode\\_chipseq\\_tf\\_k562 & 322.0052 & 26.70781 & 7353 & 1 & 2 & 1 & 2 & ⋯ & 3857 & 219939 & ENCSR998AJK;ENCFF777PKJ;NRF1;Homo sapiens K562                        & K562 & NA & NRF1  & NA & Michael Snyder, Stanford;ENCODE3 & K562.ENCSR998AJK.ENCFF777PKJ.NRF1.bed.gz  & 2440\\\\\n",
       "\t ASTARR\\_AB &  3 & encode\\_chipseq\\_tf\\_k562 & 322.0052 & 30.85735 & 1879 & 1 & 2 & 2 & 2 & ⋯ &  920 & 228901 & ENCSR000EFS;ENCFF190CGV;JUN;Homo sapiens K562                         & K562 & NA & JUN   & NA & Michael Snyder, Stanford;ENCODE2 & K562.ENCSR000EFS.ENCFF190CGV.JUN.bed.gz   & 1397\\\\\n",
       "\t ASTARR\\_A  &  3 & encode\\_chipseq\\_tf\\_k562 & 322.0052 & 20.46745 & 4014 & 1 & 2 & 3 & 3 & ⋯ & 3413 & 226408 & ENCSR000EFS;ENCFF190CGV;JUN;Homo sapiens K562                         & K562 & NA & JUN   & NA & Michael Snyder, Stanford;ENCODE2 & K562.ENCSR000EFS.ENCFF190CGV.JUN.bed.gz   & 1397\\\\\n",
       "\t ASTARR\\_A  & 10 & encode\\_chipseq\\_tf\\_k562 & 322.0052 & 17.13082 & 4646 & 1 & 3 & 2 & 3 & ⋯ & 2781 & 218150 & ENCSR091GVJ;ENCFF627RSK;ATF1;Homo sapiens K562 stably expressing ATF1 & K562 & NA & ATF1  & NA & Michael Snyder, Stanford;ENCODE3 & K562.ENCSR091GVJ.ENCFF627RSK.ATF1.bed.gz  & 3033\\\\\n",
       "\\end{tabular}\n"
      ],
      "text/markdown": [
       "\n",
       "A data.table: 6 × 22\n",
       "\n",
       "| userSet &lt;chr&gt; | dbSet &lt;int&gt; | collection &lt;chr&gt; | pValueLog &lt;dbl&gt; | oddsRatio &lt;dbl&gt; | support &lt;int&gt; | rnkPV &lt;int&gt; | rnkOR &lt;int&gt; | rnkSup &lt;int&gt; | maxRnk &lt;int&gt; | ⋯ ⋯ | c &lt;int&gt; | d &lt;int&gt; | description &lt;chr&gt; | cellType &lt;chr&gt; | tissue &lt;chr&gt; | antibody &lt;chr&gt; | treatment &lt;chr&gt; | dataSource &lt;chr&gt; | filename &lt;chr&gt; | size &lt;dbl&gt; |\n",
       "|---|---|---|---|---|---|---|---|---|---|---|---|---|---|---|---|---|---|---|---|---|\n",
       "| ASTARR_A  |  6 | encode_chipseq_tf_k562 | 322.0052 | 23.32439 | 4895 | 1 | 1 | 1 | 1 | ⋯ | 2532 | 221098 | ENCSR000EGE;ENCFF702XPO;EP300;Homo sapiens K562                       | K562 | NA | EP300 | NA | Michael Snyder, Stanford;ENCODE2 | K562.ENCSR000EGE.ENCFF702XPO.EP300.bed.gz | 1722 |\n",
       "| ASTARR_AB |  6 | encode_chipseq_tf_k562 | 322.0052 | 39.48147 | 2206 | 1 | 1 | 1 | 1 | ⋯ |  593 | 223037 | ENCSR000EGE;ENCFF702XPO;EP300;Homo sapiens K562                       | K562 | NA | EP300 | NA | Michael Snyder, Stanford;ENCODE2 | K562.ENCSR000EGE.ENCFF702XPO.EP300.bed.gz | 1722 |\n",
       "| ASTARR_R  | 16 | encode_chipseq_tf_k562 | 322.0052 | 26.70781 | 7353 | 1 | 2 | 1 | 2 | ⋯ | 3857 | 219939 | ENCSR998AJK;ENCFF777PKJ;NRF1;Homo sapiens K562                        | K562 | NA | NRF1  | NA | Michael Snyder, Stanford;ENCODE3 | K562.ENCSR998AJK.ENCFF777PKJ.NRF1.bed.gz  | 2440 |\n",
       "| ASTARR_AB |  3 | encode_chipseq_tf_k562 | 322.0052 | 30.85735 | 1879 | 1 | 2 | 2 | 2 | ⋯ |  920 | 228901 | ENCSR000EFS;ENCFF190CGV;JUN;Homo sapiens K562                         | K562 | NA | JUN   | NA | Michael Snyder, Stanford;ENCODE2 | K562.ENCSR000EFS.ENCFF190CGV.JUN.bed.gz   | 1397 |\n",
       "| ASTARR_A  |  3 | encode_chipseq_tf_k562 | 322.0052 | 20.46745 | 4014 | 1 | 2 | 3 | 3 | ⋯ | 3413 | 226408 | ENCSR000EFS;ENCFF190CGV;JUN;Homo sapiens K562                         | K562 | NA | JUN   | NA | Michael Snyder, Stanford;ENCODE2 | K562.ENCSR000EFS.ENCFF190CGV.JUN.bed.gz   | 1397 |\n",
       "| ASTARR_A  | 10 | encode_chipseq_tf_k562 | 322.0052 | 17.13082 | 4646 | 1 | 3 | 2 | 3 | ⋯ | 2781 | 218150 | ENCSR091GVJ;ENCFF627RSK;ATF1;Homo sapiens K562 stably expressing ATF1 | K562 | NA | ATF1  | NA | Michael Snyder, Stanford;ENCODE3 | K562.ENCSR091GVJ.ENCFF627RSK.ATF1.bed.gz  | 3033 |\n",
       "\n"
      ],
      "text/plain": [
       "  userSet   dbSet collection             pValueLog oddsRatio support rnkPV\n",
       "1 ASTARR_A   6    encode_chipseq_tf_k562 322.0052  23.32439  4895    1    \n",
       "2 ASTARR_AB  6    encode_chipseq_tf_k562 322.0052  39.48147  2206    1    \n",
       "3 ASTARR_R  16    encode_chipseq_tf_k562 322.0052  26.70781  7353    1    \n",
       "4 ASTARR_AB  3    encode_chipseq_tf_k562 322.0052  30.85735  1879    1    \n",
       "5 ASTARR_A   3    encode_chipseq_tf_k562 322.0052  20.46745  4014    1    \n",
       "6 ASTARR_A  10    encode_chipseq_tf_k562 322.0052  17.13082  4646    1    \n",
       "  rnkOR rnkSup maxRnk ⋯ c    d     \n",
       "1 1     1      1      ⋯ 2532 221098\n",
       "2 1     1      1      ⋯  593 223037\n",
       "3 2     1      2      ⋯ 3857 219939\n",
       "4 2     2      2      ⋯  920 228901\n",
       "5 2     3      3      ⋯ 3413 226408\n",
       "6 3     2      3      ⋯ 2781 218150\n",
       "  description                                                          \n",
       "1 ENCSR000EGE;ENCFF702XPO;EP300;Homo sapiens K562                      \n",
       "2 ENCSR000EGE;ENCFF702XPO;EP300;Homo sapiens K562                      \n",
       "3 ENCSR998AJK;ENCFF777PKJ;NRF1;Homo sapiens K562                       \n",
       "4 ENCSR000EFS;ENCFF190CGV;JUN;Homo sapiens K562                        \n",
       "5 ENCSR000EFS;ENCFF190CGV;JUN;Homo sapiens K562                        \n",
       "6 ENCSR091GVJ;ENCFF627RSK;ATF1;Homo sapiens K562 stably expressing ATF1\n",
       "  cellType tissue antibody treatment dataSource                      \n",
       "1 K562     NA     EP300    NA        Michael Snyder, Stanford;ENCODE2\n",
       "2 K562     NA     EP300    NA        Michael Snyder, Stanford;ENCODE2\n",
       "3 K562     NA     NRF1     NA        Michael Snyder, Stanford;ENCODE3\n",
       "4 K562     NA     JUN      NA        Michael Snyder, Stanford;ENCODE2\n",
       "5 K562     NA     JUN      NA        Michael Snyder, Stanford;ENCODE2\n",
       "6 K562     NA     ATF1     NA        Michael Snyder, Stanford;ENCODE3\n",
       "  filename                                  size\n",
       "1 K562.ENCSR000EGE.ENCFF702XPO.EP300.bed.gz 1722\n",
       "2 K562.ENCSR000EGE.ENCFF702XPO.EP300.bed.gz 1722\n",
       "3 K562.ENCSR998AJK.ENCFF777PKJ.NRF1.bed.gz  2440\n",
       "4 K562.ENCSR000EFS.ENCFF190CGV.JUN.bed.gz   1397\n",
       "5 K562.ENCSR000EFS.ENCFF190CGV.JUN.bed.gz   1397\n",
       "6 K562.ENCSR091GVJ.ENCFF627RSK.ATF1.bed.gz  3033"
      ]
     },
     "metadata": {},
     "output_type": "display_data"
    }
   ],
   "source": [
    "dat = lst[[1]]\n",
    "head(dat)"
   ]
  },
  {
   "cell_type": "code",
   "execution_count": 26,
   "id": "536bdf87-e1fb-4fa4-a1af-493414dc5904",
   "metadata": {},
   "outputs": [
    {
     "name": "stdout",
     "output_type": "stream",
     "text": [
      "[1] 128   5\n"
     ]
    },
    {
     "data": {
      "text/html": [
       "<table class=\"dataframe\">\n",
       "<caption>A data.table: 6 × 5</caption>\n",
       "<thead>\n",
       "\t<tr><th scope=col>Assay_Type</th><th scope=col>userSet</th><th scope=col>antibody</th><th scope=col>oddsRatio</th><th scope=col>pValueLog</th></tr>\n",
       "\t<tr><th scope=col>&lt;chr&gt;</th><th scope=col>&lt;chr&gt;</th><th scope=col>&lt;chr&gt;</th><th scope=col>&lt;dbl&gt;</th><th scope=col>&lt;dbl&gt;</th></tr>\n",
       "</thead>\n",
       "<tbody>\n",
       "\t<tr><td>ASTARR</td><td>ASTARR_A</td><td>EP300</td><td>23.32439</td><td>322.0052</td></tr>\n",
       "\t<tr><td>ASTARR</td><td>ASTARR_A</td><td>JUN  </td><td>20.46745</td><td>322.0052</td></tr>\n",
       "\t<tr><td>ASTARR</td><td>ASTARR_A</td><td>ATF1 </td><td>17.13082</td><td>322.0052</td></tr>\n",
       "\t<tr><td>ASTARR</td><td>ASTARR_A</td><td>ZEB2 </td><td>14.43867</td><td>322.0052</td></tr>\n",
       "\t<tr><td>ASTARR</td><td>ASTARR_A</td><td>YY1  </td><td>11.53758</td><td>322.0052</td></tr>\n",
       "\t<tr><td>ASTARR</td><td>ASTARR_A</td><td>REST </td><td>13.30482</td><td>322.0052</td></tr>\n",
       "</tbody>\n",
       "</table>\n"
      ],
      "text/latex": [
       "A data.table: 6 × 5\n",
       "\\begin{tabular}{lllll}\n",
       " Assay\\_Type & userSet & antibody & oddsRatio & pValueLog\\\\\n",
       " <chr> & <chr> & <chr> & <dbl> & <dbl>\\\\\n",
       "\\hline\n",
       "\t ASTARR & ASTARR\\_A & EP300 & 23.32439 & 322.0052\\\\\n",
       "\t ASTARR & ASTARR\\_A & JUN   & 20.46745 & 322.0052\\\\\n",
       "\t ASTARR & ASTARR\\_A & ATF1  & 17.13082 & 322.0052\\\\\n",
       "\t ASTARR & ASTARR\\_A & ZEB2  & 14.43867 & 322.0052\\\\\n",
       "\t ASTARR & ASTARR\\_A & YY1   & 11.53758 & 322.0052\\\\\n",
       "\t ASTARR & ASTARR\\_A & REST  & 13.30482 & 322.0052\\\\\n",
       "\\end{tabular}\n"
      ],
      "text/markdown": [
       "\n",
       "A data.table: 6 × 5\n",
       "\n",
       "| Assay_Type &lt;chr&gt; | userSet &lt;chr&gt; | antibody &lt;chr&gt; | oddsRatio &lt;dbl&gt; | pValueLog &lt;dbl&gt; |\n",
       "|---|---|---|---|---|\n",
       "| ASTARR | ASTARR_A | EP300 | 23.32439 | 322.0052 |\n",
       "| ASTARR | ASTARR_A | JUN   | 20.46745 | 322.0052 |\n",
       "| ASTARR | ASTARR_A | ATF1  | 17.13082 | 322.0052 |\n",
       "| ASTARR | ASTARR_A | ZEB2  | 14.43867 | 322.0052 |\n",
       "| ASTARR | ASTARR_A | YY1   | 11.53758 | 322.0052 |\n",
       "| ASTARR | ASTARR_A | REST  | 13.30482 | 322.0052 |\n",
       "\n"
      ],
      "text/plain": [
       "  Assay_Type userSet  antibody oddsRatio pValueLog\n",
       "1 ASTARR     ASTARR_A EP300    23.32439  322.0052 \n",
       "2 ASTARR     ASTARR_A JUN      20.46745  322.0052 \n",
       "3 ASTARR     ASTARR_A ATF1     17.13082  322.0052 \n",
       "4 ASTARR     ASTARR_A ZEB2     14.43867  322.0052 \n",
       "5 ASTARR     ASTARR_A YY1      11.53758  322.0052 \n",
       "6 ASTARR     ASTARR_A REST     13.30482  322.0052 "
      ]
     },
     "metadata": {},
     "output_type": "display_data"
    }
   ],
   "source": [
    "lst = lst_dat_lola_results\n",
    "dat = bind_rows(lst, .id = \"Assay_Type\")\n",
    "\n",
    "dat = dat %>% \n",
    "    dplyr::mutate(Assay_Label = paste(Assay_Type, \"A\", sep=\"_\")) %>%\n",
    "    dplyr::filter(Assay_Label == userSet) %>%\n",
    "    dplyr::select(Assay_Type, userSet, antibody, oddsRatio, pValueLog)\n",
    "\n",
    "dat_lola_results = dat\n",
    "print(dim(dat))\n",
    "head(dat)"
   ]
  },
  {
   "cell_type": "code",
   "execution_count": 25,
   "id": "77a0be7c-e4c4-4dd4-9475-8bf965854e71",
   "metadata": {},
   "outputs": [
    {
     "data": {
      "text/plain": [
       "   Min. 1st Qu.  Median    Mean 3rd Qu.    Max. \n",
       "   0.00   11.84  106.48  154.71  322.01  322.01 "
      ]
     },
     "metadata": {},
     "output_type": "display_data"
    }
   ],
   "source": [
    "summary(dat$pValueLog)"
   ]
  },
  {
   "cell_type": "code",
   "execution_count": 30,
   "id": "a38d2835-74d9-4b30-9246-c670a41868f7",
   "metadata": {},
   "outputs": [
    {
     "name": "stdout",
     "output_type": "stream",
     "text": [
      "[1] 81  5\n"
     ]
    }
   ],
   "source": [
    "dat = dat_lola_results\n",
    "dat = dat %>% dplyr::filter(pValueLog   >= 20)\n",
    "print(dim(dat))"
   ]
  },
  {
   "cell_type": "code",
   "execution_count": 31,
   "id": "93e5c103-08cb-42e7-b8b9-f9aa83c1a865",
   "metadata": {},
   "outputs": [
    {
     "data": {
      "image/png": "[encoded data removed]",
      "text/plain": [
       "plot without title"
      ]
     },
     "metadata": {
      "image/png": {
       "height": 300,
       "width": 960
      }
     },
     "output_type": "display_data"
    }
   ],
   "source": [
    "gpt = ggplot(dat, aes(x = antibody, y = userSet, fill = oddsRatio)) + \n",
    "    geom_tile() + \n",
    "    labs(x = \"ChIP-seq TF\", y = \"Assay\", title = \"LOLA ChIP-seq enrichment for each FCC assay\") +\n",
    "    scale_fill_gradient(low=\"#fee0d2\", high=\"#de2d26\") +\n",
    "    theme_cowplot()\n",
    "\n",
    "options(repr.plot.height=5, repr.plot.width=16)\n",
    "print(gpt)"
   ]
  },
  {
   "cell_type": "code",
   "execution_count": 32,
   "id": "ba9d2c17-1000-4401-976f-c9a084d6f53b",
   "metadata": {},
   "outputs": [
    {
     "data": {
      "image/png": "[encoded data removed]",
      "text/plain": [
       "plot without title"
      ]
     },
     "metadata": {
      "image/png": {
       "height": 300,
       "width": 960
      }
     },
     "output_type": "display_data"
    }
   ],
   "source": [
    "gpt = ggplot(dat, aes(x = antibody, y = userSet, fill = pValueLog)) + \n",
    "    geom_tile() + \n",
    "    labs(x = \"ChIP-seq TF\", y = \"Assay\", title = \"LOLA ChIP-seq enrichment for each FCC assay\") +\n",
    "    scale_fill_gradient(low=\"#fee0d2\", high=\"#de2d26\") +\n",
    "    theme_cowplot()\n",
    "\n",
    "options(repr.plot.height=5, repr.plot.width=16)\n",
    "print(gpt)"
   ]
  },
  {
   "cell_type": "code",
   "execution_count": null,
   "id": "579df63f-8b5c-4a19-8444-633505f9caa5",
   "metadata": {},
   "outputs": [],
   "source": [
    "dat = res\n",
    "dat = dat %>% dplyr::select(userSet, antibody, oddsRatio)\n",
    "gpt = ggplot(dat, aes(x = antibody, y = userSet, fill = oddsRatio)) + \n",
    "    geom_tile() + \n",
    "    scale_fill_gradient(low=\"#fee0d2\", high=\"#de2d26\") +\n",
    "    theme_cowplot()\n",
    "\n",
    "options(repr.plot.height=3, repr.plot.width=15)\n",
    "print(gpt)"
   ]
  },
  {
   "cell_type": "code",
   "execution_count": null,
   "id": "dbf6b61b-891f-4357-88be-882a396f15ee",
   "metadata": {},
   "outputs": [],
   "source": []
  },
  {
   "cell_type": "code",
   "execution_count": null,
   "id": "8fdfcb5e-b16d-437c-9d55-8294b4a3fb90",
   "metadata": {},
   "outputs": [],
   "source": []
  },
  {
   "cell_type": "code",
   "execution_count": null,
   "id": "5e34f4c1-2e16-4d1d-85b0-468194d3bd92",
   "metadata": {},
   "outputs": [],
   "source": []
  },
  {
   "cell_type": "code",
   "execution_count": null,
   "id": "8a8a740a-741e-48cb-a307-a4e5a2f9f510",
   "metadata": {},
   "outputs": [],
   "source": []
  },
  {
   "cell_type": "code",
   "execution_count": null,
   "id": "f0a9fa42-dd8d-4d9a-a894-558951d5637f",
   "metadata": {},
   "outputs": [],
   "source": []
  },
  {
   "cell_type": "code",
   "execution_count": null,
   "id": "19d08c21-7170-4cea-a6d2-0ef3291c9718",
   "metadata": {},
   "outputs": [],
   "source": []
  },
  {
   "cell_type": "code",
   "execution_count": 63,
   "id": "8bd6f7af-89ac-46f6-a9db-8f9541ff5e81",
   "metadata": {},
   "outputs": [],
   "source": [
    "data(\"sample_universe\", package=\"LOLA\")\n",
    "data(\"sample_input\", package=\"LOLA\")"
   ]
  },
  {
   "cell_type": "code",
   "execution_count": 64,
   "id": "3ea572a2-b6c6-4361-901a-20d2a3cc6d5f",
   "metadata": {},
   "outputs": [
    {
     "data": {
      "text/plain": [
       "GRangesList object of length 2:\n",
       "$setA\n",
       "GRanges object with 3142 ranges and 0 metadata columns:\n",
       "         seqnames            ranges strand\n",
       "            <Rle>         <IRanges>  <Rle>\n",
       "     [1]     chr1     437151-438164      *\n",
       "     [2]     chr1     875730-878363      *\n",
       "     [3]     chr1     933387-937410      *\n",
       "     [4]     chr1     967966-970238      *\n",
       "     [5]     chr1   1016863-1017439      *\n",
       "     ...      ...               ...    ...\n",
       "  [3138]     chrY   9364545-9364859      *\n",
       "  [3139]     chrY   9385471-9385777      *\n",
       "  [3140]     chrY 14532115-14533600      *\n",
       "  [3141]     chrY 23696580-23696878      *\n",
       "  [3142]     chrY 26959489-26959716      *\n",
       "  -------\n",
       "  seqinfo: 69 sequences from an unspecified genome; no seqlengths\n",
       "\n",
       "$setB\n",
       "GRanges object with 5831 ranges and 0 metadata columns:\n",
       "         seqnames            ranges strand\n",
       "            <Rle>         <IRanges>  <Rle>\n",
       "     [1]     chr1       28735-29810      *\n",
       "     [2]     chr1     544738-546649      *\n",
       "     [3]     chr1     713984-714547      *\n",
       "     [4]     chr1     762416-763445      *\n",
       "     [5]     chr1     805198-805628      *\n",
       "     ...      ...               ...    ...\n",
       "  [5827]     chrY 20508190-20508452      *\n",
       "  [5828]     chrY 21154603-21155040      *\n",
       "  [5829]     chrY 21238448-21240005      *\n",
       "  [5830]     chrY 26979889-26980116      *\n",
       "  [5831]     chrY 28773315-28773544      *\n",
       "  -------\n",
       "  seqinfo: 69 sequences from an unspecified genome; no seqlengths\n"
      ]
     },
     "metadata": {},
     "output_type": "display_data"
    }
   ],
   "source": [
    "userSets"
   ]
  },
  {
   "cell_type": "code",
   "execution_count": 65,
   "id": "18441ebc-df9b-45e8-8e7d-4eb509b68da4",
   "metadata": {},
   "outputs": [
    {
     "data": {
      "text/plain": [
       "GRanges object with 26829 ranges and 0 metadata columns:\n",
       "          seqnames            ranges strand\n",
       "             <Rle>         <IRanges>  <Rle>\n",
       "      [1]     chr1       28735-29810      *\n",
       "      [2]     chr1     135124-135563      *\n",
       "      [3]     chr1     327790-328229      *\n",
       "      [4]     chr1     437151-438164      *\n",
       "      [5]     chr1     449273-450544      *\n",
       "      ...      ...               ...    ...\n",
       "  [26825]     chrY 27610115-27611088      *\n",
       "  [26826]     chrY 28555535-28555932      *\n",
       "  [26827]     chrY 28773315-28773544      *\n",
       "  [26828]     chrY 59213794-59214183      *\n",
       "  [26829]     chrY 59349266-59349574      *\n",
       "  -------\n",
       "  seqinfo: 69 sequences from an unspecified genome; no seqlengths"
      ]
     },
     "metadata": {},
     "output_type": "display_data"
    }
   ],
   "source": [
    "userUniverse"
   ]
  },
  {
   "cell_type": "code",
   "execution_count": null,
   "id": "9fcab80f-8b16-486e-8f28-f9a16df8d119",
   "metadata": {},
   "outputs": [],
   "source": [
    "### init\n",
    "dat = dat_peak_fcc_active\n",
    "\n",
    "### create a list of \"GRangeList\" for assays\n",
    "lst = split(dat, dat$Assay_Type)\n",
    "lst = lapply(lst, function(dat){\n",
    "    tmp = \n",
    "    tmp = lapply\n",
    "    grg = makeGRangesFromDataFrame(\n",
    "        dat,\n",
    "        ignore.strand  = TRUE,\n",
    "        seqinfo        = NULL,\n",
    "        seqnames.field = \"Chrom\",\n",
    "        start.field    = \"Start\",\n",
    "        end.field      = \"End\",\n",
    "        starts.in.df.are.0based=TRUE)\n",
    "    return(grg)\n",
    "})\n",
    "lst = GRangesList(lst)\n",
    "\n",
    "\n",
    "### assign and show\n",
    "lst_grg_peak_astarr_signif = lst\n",
    "print(names(lst))\n",
    "print(lst)"
   ]
  },
  {
   "cell_type": "code",
   "execution_count": null,
   "id": "d3c69370-bcc6-440f-a3ae-93507c4c5074",
   "metadata": {},
   "outputs": [],
   "source": []
  },
  {
   "cell_type": "code",
   "execution_count": null,
   "id": "f1112dde-3215-4ee2-ad1f-9448eadad646",
   "metadata": {},
   "outputs": [],
   "source": []
  },
  {
   "cell_type": "code",
   "execution_count": null,
   "id": "5be2435c-2465-4968-84c2-f441a7366851",
   "metadata": {},
   "outputs": [],
   "source": []
  },
  {
   "cell_type": "code",
   "execution_count": 5,
   "id": "ddb2ce62-4d17-49ff-8dc7-68c4786f15ef",
   "metadata": {},
   "outputs": [
    {
     "name": "stdout",
     "output_type": "stream",
     "text": [
      "\n",
      "ASTARR \n",
      "246850 \n",
      "GRanges object with 246850 ranges and 0 metadata columns:\n",
      "           seqnames              ranges strand\n",
      "              <Rle>           <IRanges>  <Rle>\n",
      "       [1]     chr1 100006257-100006880      *\n",
      "       [2]     chr1 100010438-100010915      *\n",
      "       [3]     chr1   10002088-10003910      *\n",
      "       [4]     chr1 100021299-100021629      *\n",
      "       [5]     chr1 100023728-100023976      *\n",
      "       ...      ...                 ...    ...\n",
      "  [246846]     chrX   98850592-98850902      *\n",
      "  [246847]     chrX     9885197-9885587      *\n",
      "  [246848]     chrX     9894545-9895641      *\n",
      "  [246849]     chrX       989807-990542      *\n",
      "  [246850]     chrX     9995768-9996126      *\n",
      "  -------\n",
      "  seqinfo: 23 sequences from an unspecified genome; no seqlengths\n"
     ]
    }
   ],
   "source": [
    "dat = dat_peak_fcc_total\n",
    "dat = dat %>% dplyr::filter(Assay_Type == \"ASTARR\")\n",
    "res = table(dat$Assay_Type)\n",
    "\n",
    "#dat_peak_astarr_total = dat\n",
    "#dat = dat_peak_astarr_total\n",
    "\n",
    "grg = makeGRangesFromDataFrame(\n",
    "    dat,\n",
    "    #keep.extra.columns=FALSE,\n",
    "    ignore.strand  = TRUE,\n",
    "    seqinfo        = NULL,\n",
    "    seqnames.field = \"Chrom\",\n",
    "    start.field    = \"Start\",\n",
    "    end.field      = \"End\",\n",
    "    starts.in.df.are.0based=TRUE)\n",
    "\n",
    "###\n",
    "grg_peak_astarr_total = grg\n",
    "print(res)\n",
    "print(grg)"
   ]
  },
  {
   "cell_type": "code",
   "execution_count": null,
   "id": "ffc153c8-b1e6-4aa0-ac1b-cef434ff3593",
   "metadata": {},
   "outputs": [],
   "source": []
  },
  {
   "cell_type": "code",
   "execution_count": null,
   "id": "24b70abd-3a6c-4d65-a47b-c57bc516b373",
   "metadata": {},
   "outputs": [],
   "source": []
  },
  {
   "cell_type": "code",
   "execution_count": null,
   "id": "6c386cff-5db8-44a3-8d29-d223c82c5d85",
   "metadata": {},
   "outputs": [],
   "source": []
  },
  {
   "cell_type": "code",
   "execution_count": 6,
   "id": "7e5760c3-83cd-4a39-b5b3-44ba98b966d5",
   "metadata": {},
   "outputs": [
    {
     "name": "stdout",
     "output_type": "stream",
     "text": [
      "[1] \"ASTARR_A\"  \"ASTARR_AB\" \"ASTARR_R\" \n",
      "GRangesList object of length 3:\n",
      "$ASTARR_A\n",
      "GRanges object with 7427 ranges and 0 metadata columns:\n",
      "         seqnames              ranges strand\n",
      "            <Rle>           <IRanges>  <Rle>\n",
      "     [1]     chr1 100132371-100133575      *\n",
      "     [2]     chr1 100351003-100353319      *\n",
      "     [3]     chr1 100785474-100786391      *\n",
      "     [4]     chr1 101198204-101199537      *\n",
      "     [5]     chr1     1012903-1014502      *\n",
      "     ...      ...                 ...    ...\n",
      "  [7423]     chrX     9342067-9343227      *\n",
      "  [7424]     chrX     9351592-9353468      *\n",
      "  [7425]     chrX     9462774-9466539      *\n",
      "  [7426]     chrX   95903361-95903991      *\n",
      "  [7427]     chrX       989807-990542      *\n",
      "  -------\n",
      "  seqinfo: 56 sequences from an unspecified genome; no seqlengths\n",
      "\n",
      "$ASTARR_AB\n",
      "GRanges object with 2799 ranges and 0 metadata columns:\n",
      "         seqnames              ranges strand\n",
      "            <Rle>           <IRanges>  <Rle>\n",
      "     [1]     chr1 101198204-101199537      *\n",
      "     [2]     chr1     1012903-1014502      *\n",
      "     [3]     chr1 109213423-109215054      *\n",
      "     [4]     chr1 109218539-109219133      *\n",
      "     [5]     chr1 109388964-109390708      *\n",
      "     ...      ...                 ...    ...\n",
      "  [2795]     chrX   80422236-80424352      *\n",
      "  [2796]     chrX     9351592-9353468      *\n",
      "  [2797]     chrX     9462774-9466539      *\n",
      "  [2798]     chrX   95903361-95903991      *\n",
      "  [2799]     chrX       989807-990542      *\n",
      "  -------\n",
      "  seqinfo: 56 sequences from an unspecified genome; no seqlengths\n",
      "\n",
      "$ASTARR_R\n",
      "GRanges object with 11371 ranges and 0 metadata columns:\n",
      "          seqnames              ranges strand\n",
      "             <Rle>           <IRanges>  <Rle>\n",
      "      [1]     chr1 100036872-100039191      *\n",
      "      [2]     chr1     1001500-1002142      *\n",
      "      [3]     chr1 100248890-100250320      *\n",
      "      [4]     chr1 100265530-100267006      *\n",
      "      [5]     chr1 100351003-100353319      *\n",
      "      ...      ...                 ...    ...\n",
      "  [11367]     chrX   85002986-85004613      *\n",
      "  [11368]     chrX   90453828-90454273      *\n",
      "  [11369]     chrX     9342067-9343227      *\n",
      "  [11370]     chrX     9462774-9466539      *\n",
      "  [11371]     chrX     9530834-9531261      *\n",
      "  -------\n",
      "  seqinfo: 56 sequences from an unspecified genome; no seqlengths\n",
      "\n"
     ]
    }
   ],
   "source": [
    "dat = dat_peak_fcc_active\n",
    "dat = dat %>% dplyr::filter(Assay_Type == \"ASTARR\")\n",
    "lst = split(dat, dat$Assay_Label)\n",
    "res = table(dat$Assay_Label)\n",
    "\n",
    "#dat_peak_astarr_signif = dat\n",
    "lst = lapply(lst, function(dat){\n",
    "    grg = makeGRangesFromDataFrame(\n",
    "        dat,\n",
    "        #keep.extra.columns=FALSE,\n",
    "        ignore.strand  = TRUE,\n",
    "        seqinfo        = NULL,\n",
    "        seqnames.field = \"Chrom\",\n",
    "        start.field    = \"Start\",\n",
    "        end.field      = \"End\",\n",
    "        starts.in.df.are.0based=TRUE)\n",
    "    return(grg)\n",
    "})\n",
    "lst = GRangesList(lst)\n",
    "\n",
    "\n",
    "### assign and show\n",
    "lst_grg_peak_astarr_signif = lst\n",
    "print(names(lst))\n",
    "print(lst)"
   ]
  },
  {
   "cell_type": "code",
   "execution_count": 7,
   "id": "df4ad6ab-36e6-488a-b39b-ac1ba95f9352",
   "metadata": {},
   "outputs": [
    {
     "name": "stderr",
     "output_type": "stream",
     "text": [
      "Calculating unit set overlaps...\n",
      "\n",
      "Calculating universe set overlaps...\n",
      "\n",
      "Calculating Fisher scores...\n",
      "\n"
     ]
    }
   ],
   "source": [
    "res = runLOLA(\n",
    "    lst_grg_peak_astarr_signif,\n",
    "    grg_peak_astarr_total,\n",
    "    regionDB)"
   ]
  },
  {
   "cell_type": "code",
   "execution_count": 15,
   "id": "afe50954-c158-4a6c-8575-d2d0a1c1e08b",
   "metadata": {},
   "outputs": [
    {
     "data": {
      "image/png": "[encoded data removed]",
      "text/plain": [
       "plot without title"
      ]
     },
     "metadata": {
      "image/png": {
       "height": 180,
       "width": 900
      }
     },
     "output_type": "display_data"
    }
   ],
   "source": [
    "dat = res\n",
    "dat = dat %>% dplyr::select(userSet, antibody, oddsRatio)\n",
    "gpt = ggplot(dat, aes(x = antibody, y = userSet, fill = oddsRatio)) + \n",
    "    geom_tile() + \n",
    "    scale_fill_gradient(low=\"#fee0d2\", high=\"#de2d26\") +\n",
    "    theme_cowplot()\n",
    "\n",
    "options(repr.plot.height=3, repr.plot.width=15)\n",
    "print(gpt)"
   ]
  },
  {
   "cell_type": "code",
   "execution_count": null,
   "id": "c8cbd919-2ed5-402e-af65-4f92a48b71e4",
   "metadata": {},
   "outputs": [],
   "source": []
  },
  {
   "cell_type": "code",
   "execution_count": null,
   "id": "9faada31-0559-415e-a8da-ac8c3f220529",
   "metadata": {},
   "outputs": [],
   "source": []
  },
  {
   "cell_type": "code",
   "execution_count": null,
   "id": "5dc6e93e-3f03-404e-bae8-52990dc9a9da",
   "metadata": {},
   "outputs": [],
   "source": [
    "res = runLOLA(\n",
    "    grg_astarr_active,\n",
    "    grg_astarr_total,\n",
    "    regionDB\n",
    ")"
   ]
  },
  {
   "cell_type": "code",
   "execution_count": null,
   "id": "f60dccc4-d07b-4f98-987b-bcadf4035619",
   "metadata": {},
   "outputs": [],
   "source": []
  },
  {
   "cell_type": "code",
   "execution_count": null,
   "id": "076d89f7-f3f0-4cda-907c-44c6074bdb2d",
   "metadata": {},
   "outputs": [],
   "source": []
  },
  {
   "cell_type": "code",
   "execution_count": null,
   "id": "d0ccfd9f-a463-4170-8abc-dc9755023f4d",
   "metadata": {},
   "outputs": [],
   "source": []
  },
  {
   "cell_type": "code",
   "execution_count": null,
   "id": "e279063a-33de-45f6-9413-4909ff7a3222",
   "metadata": {},
   "outputs": [],
   "source": []
  },
  {
   "cell_type": "code",
   "execution_count": null,
   "id": "6ddf9c2e-36ef-4156-8d68-23da666e713c",
   "metadata": {},
   "outputs": [],
   "source": []
  },
  {
   "cell_type": "code",
   "execution_count": 9,
   "id": "c149b8ee-4c59-4c5b-8da4-ca786c97d9be",
   "metadata": {},
   "outputs": [
    {
     "name": "stdout",
     "output_type": "stream",
     "text": [
      "GRanges object with 7427 ranges and 0 metadata columns:\n",
      "         seqnames              ranges strand\n",
      "            <Rle>           <IRanges>  <Rle>\n",
      "     [1]     chr1 100132371-100133575      *\n",
      "     [2]     chr1 100351003-100353319      *\n",
      "     [3]     chr1 100785474-100786391      *\n",
      "     [4]     chr1 101198204-101199537      *\n",
      "     [5]     chr1     1012903-1014502      *\n",
      "     ...      ...                 ...    ...\n",
      "  [7423]     chrX     9342067-9343227      *\n",
      "  [7424]     chrX     9351592-9353468      *\n",
      "  [7425]     chrX     9462774-9466539      *\n",
      "  [7426]     chrX   95903361-95903991      *\n",
      "  [7427]     chrX       989807-990542      *\n",
      "  -------\n",
      "  seqinfo: 23 sequences from an unspecified genome; no seqlengths\n"
     ]
    }
   ],
   "source": [
    "dat = dat_peak_astarr_active\n",
    "\n",
    "grg_astarr_active = grg\n",
    "print(grg)"
   ]
  },
  {
   "cell_type": "code",
   "execution_count": 10,
   "id": "35b09461-42d3-41aa-b181-769254e89d5b",
   "metadata": {},
   "outputs": [
    {
     "name": "stdout",
     "output_type": "stream",
     "text": [
      "GRanges object with 246850 ranges and 0 metadata columns:\n",
      "           seqnames              ranges strand\n",
      "              <Rle>           <IRanges>  <Rle>\n",
      "       [1]     chr1 100006257-100006880      *\n",
      "       [2]     chr1 100010438-100010915      *\n",
      "       [3]     chr1   10002088-10003910      *\n",
      "       [4]     chr1 100021299-100021629      *\n",
      "       [5]     chr1 100023728-100023976      *\n",
      "       ...      ...                 ...    ...\n",
      "  [246846]     chrX   98850592-98850902      *\n",
      "  [246847]     chrX     9885197-9885587      *\n",
      "  [246848]     chrX     9894545-9895641      *\n",
      "  [246849]     chrX       989807-990542      *\n",
      "  [246850]     chrX     9995768-9996126      *\n",
      "  -------\n",
      "  seqinfo: 23 sequences from an unspecified genome; no seqlengths\n"
     ]
    }
   ],
   "source": []
  },
  {
   "cell_type": "code",
   "execution_count": 11,
   "id": "9003d64a-7d4a-44c0-89bd-fd6a7a09ac11",
   "metadata": {},
   "outputs": [
    {
     "name": "stderr",
     "output_type": "stream",
     "text": [
      "Converting GRanges to GRangesList.\n",
      "\n",
      "Calculating unit set overlaps...\n",
      "\n",
      "Calculating universe set overlaps...\n",
      "\n",
      "Calculating Fisher scores...\n",
      "\n"
     ]
    }
   ],
   "source": [
    "#res = runLOLA(userSets, userUniverse, regionDB, cores=1)\n",
    "res = runLOLA(\n",
    "    grg_astarr_active,\n",
    "    grg_astarr_total,\n",
    "    regionDB\n",
    ")"
   ]
  },
  {
   "cell_type": "code",
   "execution_count": 12,
   "id": "e97aed56-6449-4ee0-8b7e-ec741600d979",
   "metadata": {},
   "outputs": [
    {
     "data": {
      "text/html": [
       "<div style=\"border: 1px solid #ddd; padding: 5px; overflow-x: scroll; width:100%; \"><table class=\"table table-striped\" style=\"margin-left: auto; margin-right: auto;\">\n",
       " <thead>\n",
       "  <tr>\n",
       "   <th style=\"text-align:right;\"> userSet </th>\n",
       "   <th style=\"text-align:right;\"> dbSet </th>\n",
       "   <th style=\"text-align:left;\"> collection </th>\n",
       "   <th style=\"text-align:right;\"> pValueLog </th>\n",
       "   <th style=\"text-align:right;\"> oddsRatio </th>\n",
       "   <th style=\"text-align:right;\"> support </th>\n",
       "   <th style=\"text-align:right;\"> rnkPV </th>\n",
       "   <th style=\"text-align:right;\"> rnkOR </th>\n",
       "   <th style=\"text-align:right;\"> rnkSup </th>\n",
       "   <th style=\"text-align:right;\"> maxRnk </th>\n",
       "   <th style=\"text-align:right;\"> meanRnk </th>\n",
       "   <th style=\"text-align:right;\"> b </th>\n",
       "   <th style=\"text-align:right;\"> c </th>\n",
       "   <th style=\"text-align:right;\"> d </th>\n",
       "   <th style=\"text-align:left;\"> description </th>\n",
       "   <th style=\"text-align:left;\"> cellType </th>\n",
       "   <th style=\"text-align:left;\"> tissue </th>\n",
       "   <th style=\"text-align:left;\"> antibody </th>\n",
       "   <th style=\"text-align:left;\"> treatment </th>\n",
       "   <th style=\"text-align:left;\"> dataSource </th>\n",
       "   <th style=\"text-align:left;\"> filename </th>\n",
       "   <th style=\"text-align:right;\"> size </th>\n",
       "  </tr>\n",
       " </thead>\n",
       "<tbody>\n",
       "  <tr>\n",
       "   <td style=\"text-align:right;\"> 1 </td>\n",
       "   <td style=\"text-align:right;\"> 6 </td>\n",
       "   <td style=\"text-align:left;\"> encode_chipseq_tf_k562 </td>\n",
       "   <td style=\"text-align:right;\"> 322.00519 </td>\n",
       "   <td style=\"text-align:right;\"> 23.324393 </td>\n",
       "   <td style=\"text-align:right;\"> 4895 </td>\n",
       "   <td style=\"text-align:right;\"> 1 </td>\n",
       "   <td style=\"text-align:right;\"> 1 </td>\n",
       "   <td style=\"text-align:right;\"> 1 </td>\n",
       "   <td style=\"text-align:right;\"> 1 </td>\n",
       "   <td style=\"text-align:right;\"> 1.00 </td>\n",
       "   <td style=\"text-align:right;\"> 18325 </td>\n",
       "   <td style=\"text-align:right;\"> 2532 </td>\n",
       "   <td style=\"text-align:right;\"> 221098 </td>\n",
       "   <td style=\"text-align:left;\"> ENCSR000EGE;ENCFF702XPO;EP300;Homo sapiens K562 </td>\n",
       "   <td style=\"text-align:left;\"> K562 </td>\n",
       "   <td style=\"text-align:left;\"> NA </td>\n",
       "   <td style=\"text-align:left;\"> EP300 </td>\n",
       "   <td style=\"text-align:left;\"> NA </td>\n",
       "   <td style=\"text-align:left;\"> Michael Snyder, Stanford;ENCODE2 </td>\n",
       "   <td style=\"text-align:left;\"> K562.ENCSR000EGE.ENCFF702XPO.EP300.bed.gz </td>\n",
       "   <td style=\"text-align:right;\"> 1722 </td>\n",
       "  </tr>\n",
       "  <tr>\n",
       "   <td style=\"text-align:right;\"> 1 </td>\n",
       "   <td style=\"text-align:right;\"> 3 </td>\n",
       "   <td style=\"text-align:left;\"> encode_chipseq_tf_k562 </td>\n",
       "   <td style=\"text-align:right;\"> 322.00519 </td>\n",
       "   <td style=\"text-align:right;\"> 20.467452 </td>\n",
       "   <td style=\"text-align:right;\"> 4014 </td>\n",
       "   <td style=\"text-align:right;\"> 1 </td>\n",
       "   <td style=\"text-align:right;\"> 2 </td>\n",
       "   <td style=\"text-align:right;\"> 3 </td>\n",
       "   <td style=\"text-align:right;\"> 3 </td>\n",
       "   <td style=\"text-align:right;\"> 2.00 </td>\n",
       "   <td style=\"text-align:right;\"> 13015 </td>\n",
       "   <td style=\"text-align:right;\"> 3413 </td>\n",
       "   <td style=\"text-align:right;\"> 226408 </td>\n",
       "   <td style=\"text-align:left;\"> ENCSR000EFS;ENCFF190CGV;JUN;Homo sapiens K562 </td>\n",
       "   <td style=\"text-align:left;\"> K562 </td>\n",
       "   <td style=\"text-align:left;\"> NA </td>\n",
       "   <td style=\"text-align:left;\"> JUN </td>\n",
       "   <td style=\"text-align:left;\"> NA </td>\n",
       "   <td style=\"text-align:left;\"> Michael Snyder, Stanford;ENCODE2 </td>\n",
       "   <td style=\"text-align:left;\"> K562.ENCSR000EFS.ENCFF190CGV.JUN.bed.gz </td>\n",
       "   <td style=\"text-align:right;\"> 1397 </td>\n",
       "  </tr>\n",
       "  <tr>\n",
       "   <td style=\"text-align:right;\"> 1 </td>\n",
       "   <td style=\"text-align:right;\"> 10 </td>\n",
       "   <td style=\"text-align:left;\"> encode_chipseq_tf_k562 </td>\n",
       "   <td style=\"text-align:right;\"> 322.00519 </td>\n",
       "   <td style=\"text-align:right;\"> 17.130824 </td>\n",
       "   <td style=\"text-align:right;\"> 4646 </td>\n",
       "   <td style=\"text-align:right;\"> 1 </td>\n",
       "   <td style=\"text-align:right;\"> 3 </td>\n",
       "   <td style=\"text-align:right;\"> 2 </td>\n",
       "   <td style=\"text-align:right;\"> 3 </td>\n",
       "   <td style=\"text-align:right;\"> 2.00 </td>\n",
       "   <td style=\"text-align:right;\"> 21273 </td>\n",
       "   <td style=\"text-align:right;\"> 2781 </td>\n",
       "   <td style=\"text-align:right;\"> 218150 </td>\n",
       "   <td style=\"text-align:left;\"> ENCSR091GVJ;ENCFF627RSK;ATF1;Homo sapiens K562 stably expressing ATF1 </td>\n",
       "   <td style=\"text-align:left;\"> K562 </td>\n",
       "   <td style=\"text-align:left;\"> NA </td>\n",
       "   <td style=\"text-align:left;\"> ATF1 </td>\n",
       "   <td style=\"text-align:left;\"> NA </td>\n",
       "   <td style=\"text-align:left;\"> Michael Snyder, Stanford;ENCODE3 </td>\n",
       "   <td style=\"text-align:left;\"> K562.ENCSR091GVJ.ENCFF627RSK.ATF1.bed.gz </td>\n",
       "   <td style=\"text-align:right;\"> 3033 </td>\n",
       "  </tr>\n",
       "  <tr>\n",
       "   <td style=\"text-align:right;\"> 1 </td>\n",
       "   <td style=\"text-align:right;\"> 9 </td>\n",
       "   <td style=\"text-align:left;\"> encode_chipseq_tf_k562 </td>\n",
       "   <td style=\"text-align:right;\"> 322.00519 </td>\n",
       "   <td style=\"text-align:right;\"> 14.438673 </td>\n",
       "   <td style=\"text-align:right;\"> 3600 </td>\n",
       "   <td style=\"text-align:right;\"> 1 </td>\n",
       "   <td style=\"text-align:right;\"> 4 </td>\n",
       "   <td style=\"text-align:right;\"> 4 </td>\n",
       "   <td style=\"text-align:right;\"> 4 </td>\n",
       "   <td style=\"text-align:right;\"> 3.00 </td>\n",
       "   <td style=\"text-align:right;\"> 14644 </td>\n",
       "   <td style=\"text-align:right;\"> 3827 </td>\n",
       "   <td style=\"text-align:right;\"> 224779 </td>\n",
       "   <td style=\"text-align:left;\"> ENCSR004GKA;ENCFF242AOL;ZEB2;Homo sapiens K562 </td>\n",
       "   <td style=\"text-align:left;\"> K562 </td>\n",
       "   <td style=\"text-align:left;\"> NA </td>\n",
       "   <td style=\"text-align:left;\"> ZEB2 </td>\n",
       "   <td style=\"text-align:left;\"> NA </td>\n",
       "   <td style=\"text-align:left;\"> Michael Snyder, Stanford;ENCODE3 </td>\n",
       "   <td style=\"text-align:left;\"> K562.ENCSR004GKA.ENCFF242AOL.ZEB2.bed.gz </td>\n",
       "   <td style=\"text-align:right;\"> 1779 </td>\n",
       "  </tr>\n",
       "  <tr>\n",
       "   <td style=\"text-align:right;\"> 1 </td>\n",
       "   <td style=\"text-align:right;\"> 1 </td>\n",
       "   <td style=\"text-align:left;\"> encode_chipseq_tf_k562 </td>\n",
       "   <td style=\"text-align:right;\"> 322.00519 </td>\n",
       "   <td style=\"text-align:right;\"> 11.537583 </td>\n",
       "   <td style=\"text-align:right;\"> 3578 </td>\n",
       "   <td style=\"text-align:right;\"> 1 </td>\n",
       "   <td style=\"text-align:right;\"> 6 </td>\n",
       "   <td style=\"text-align:right;\"> 5 </td>\n",
       "   <td style=\"text-align:right;\"> 6 </td>\n",
       "   <td style=\"text-align:right;\"> 4.00 </td>\n",
       "   <td style=\"text-align:right;\"> 17852 </td>\n",
       "   <td style=\"text-align:right;\"> 3849 </td>\n",
       "   <td style=\"text-align:right;\"> 221571 </td>\n",
       "   <td style=\"text-align:left;\"> ENCSR000BMH;ENCFF398UQZ;YY1;Homo sapiens K562 </td>\n",
       "   <td style=\"text-align:left;\"> K562 </td>\n",
       "   <td style=\"text-align:left;\"> NA </td>\n",
       "   <td style=\"text-align:left;\"> YY1 </td>\n",
       "   <td style=\"text-align:left;\"> NA </td>\n",
       "   <td style=\"text-align:left;\"> Richard Myers, HAIB;ENCODE2 </td>\n",
       "   <td style=\"text-align:left;\"> K562.ENCSR000BMH.ENCFF398UQZ.YY1.bed.gz </td>\n",
       "   <td style=\"text-align:right;\"> 2399 </td>\n",
       "  </tr>\n",
       "  <tr>\n",
       "   <td style=\"text-align:right;\"> 1 </td>\n",
       "   <td style=\"text-align:right;\"> 2 </td>\n",
       "   <td style=\"text-align:left;\"> encode_chipseq_tf_k562 </td>\n",
       "   <td style=\"text-align:right;\"> 322.00519 </td>\n",
       "   <td style=\"text-align:right;\"> 13.304816 </td>\n",
       "   <td style=\"text-align:right;\"> 3027 </td>\n",
       "   <td style=\"text-align:right;\"> 1 </td>\n",
       "   <td style=\"text-align:right;\"> 5 </td>\n",
       "   <td style=\"text-align:right;\"> 10 </td>\n",
       "   <td style=\"text-align:right;\"> 10 </td>\n",
       "   <td style=\"text-align:right;\"> 5.33 </td>\n",
       "   <td style=\"text-align:right;\"> 11775 </td>\n",
       "   <td style=\"text-align:right;\"> 4400 </td>\n",
       "   <td style=\"text-align:right;\"> 227648 </td>\n",
       "   <td style=\"text-align:left;\"> ENCSR000BMW;ENCFF707MDI;REST;Homo sapiens K562 </td>\n",
       "   <td style=\"text-align:left;\"> K562 </td>\n",
       "   <td style=\"text-align:left;\"> NA </td>\n",
       "   <td style=\"text-align:left;\"> REST </td>\n",
       "   <td style=\"text-align:left;\"> NA </td>\n",
       "   <td style=\"text-align:left;\"> Richard Myers, HAIB;ENCODE2 </td>\n",
       "   <td style=\"text-align:left;\"> K562.ENCSR000BMW.ENCFF707MDI.REST.bed.gz </td>\n",
       "   <td style=\"text-align:right;\"> 1580 </td>\n",
       "  </tr>\n",
       "  <tr>\n",
       "   <td style=\"text-align:right;\"> 1 </td>\n",
       "   <td style=\"text-align:right;\"> 8 </td>\n",
       "   <td style=\"text-align:left;\"> encode_chipseq_tf_k562 </td>\n",
       "   <td style=\"text-align:right;\"> 322.00519 </td>\n",
       "   <td style=\"text-align:right;\"> 9.819121 </td>\n",
       "   <td style=\"text-align:right;\"> 3504 </td>\n",
       "   <td style=\"text-align:right;\"> 1 </td>\n",
       "   <td style=\"text-align:right;\"> 10 </td>\n",
       "   <td style=\"text-align:right;\"> 6 </td>\n",
       "   <td style=\"text-align:right;\"> 10 </td>\n",
       "   <td style=\"text-align:right;\"> 5.67 </td>\n",
       "   <td style=\"text-align:right;\"> 19963 </td>\n",
       "   <td style=\"text-align:right;\"> 3923 </td>\n",
       "   <td style=\"text-align:right;\"> 219460 </td>\n",
       "   <td style=\"text-align:left;\"> ENCSR000EHB;ENCFF852ZRK;TAL1;Homo sapiens K562 </td>\n",
       "   <td style=\"text-align:left;\"> K562 </td>\n",
       "   <td style=\"text-align:left;\"> NA </td>\n",
       "   <td style=\"text-align:left;\"> TAL1 </td>\n",
       "   <td style=\"text-align:left;\"> NA </td>\n",
       "   <td style=\"text-align:left;\"> Michael Snyder, Stanford;ENCODE2 </td>\n",
       "   <td style=\"text-align:left;\"> K562.ENCSR000EHB.ENCFF852ZRK.TAL1.bed.gz </td>\n",
       "   <td style=\"text-align:right;\"> 1653 </td>\n",
       "  </tr>\n",
       "  <tr>\n",
       "   <td style=\"text-align:right;\"> 1 </td>\n",
       "   <td style=\"text-align:right;\"> 13 </td>\n",
       "   <td style=\"text-align:left;\"> encode_chipseq_tf_k562 </td>\n",
       "   <td style=\"text-align:right;\"> 322.00519 </td>\n",
       "   <td style=\"text-align:right;\"> 10.940063 </td>\n",
       "   <td style=\"text-align:right;\"> 3075 </td>\n",
       "   <td style=\"text-align:right;\"> 1 </td>\n",
       "   <td style=\"text-align:right;\"> 8 </td>\n",
       "   <td style=\"text-align:right;\"> 8 </td>\n",
       "   <td style=\"text-align:right;\"> 8 </td>\n",
       "   <td style=\"text-align:right;\"> 5.67 </td>\n",
       "   <td style=\"text-align:right;\"> 14525 </td>\n",
       "   <td style=\"text-align:right;\"> 4352 </td>\n",
       "   <td style=\"text-align:right;\"> 224898 </td>\n",
       "   <td style=\"text-align:left;\"> ENCSR552YGL;ENCFF023IFO;NFE2;Homo sapiens K562 stably expressing NFE2 </td>\n",
       "   <td style=\"text-align:left;\"> K562 </td>\n",
       "   <td style=\"text-align:left;\"> NA </td>\n",
       "   <td style=\"text-align:left;\"> NFE2 </td>\n",
       "   <td style=\"text-align:left;\"> NA </td>\n",
       "   <td style=\"text-align:left;\"> Michael Snyder, Stanford;ENCODE3 </td>\n",
       "   <td style=\"text-align:left;\"> K562.ENCSR552YGL.ENCFF023IFO.NFE2.bed.gz </td>\n",
       "   <td style=\"text-align:right;\"> 3100 </td>\n",
       "  </tr>\n",
       "  <tr>\n",
       "   <td style=\"text-align:right;\"> 1 </td>\n",
       "   <td style=\"text-align:right;\"> 16 </td>\n",
       "   <td style=\"text-align:left;\"> encode_chipseq_tf_k562 </td>\n",
       "   <td style=\"text-align:right;\"> 322.00519 </td>\n",
       "   <td style=\"text-align:right;\"> 9.779478 </td>\n",
       "   <td style=\"text-align:right;\"> 3459 </td>\n",
       "   <td style=\"text-align:right;\"> 1 </td>\n",
       "   <td style=\"text-align:right;\"> 11 </td>\n",
       "   <td style=\"text-align:right;\"> 7 </td>\n",
       "   <td style=\"text-align:right;\"> 11 </td>\n",
       "   <td style=\"text-align:right;\"> 6.33 </td>\n",
       "   <td style=\"text-align:right;\"> 19595 </td>\n",
       "   <td style=\"text-align:right;\"> 3968 </td>\n",
       "   <td style=\"text-align:right;\"> 219828 </td>\n",
       "   <td style=\"text-align:left;\"> ENCSR998AJK;ENCFF777PKJ;NRF1;Homo sapiens K562 </td>\n",
       "   <td style=\"text-align:left;\"> K562 </td>\n",
       "   <td style=\"text-align:left;\"> NA </td>\n",
       "   <td style=\"text-align:left;\"> NRF1 </td>\n",
       "   <td style=\"text-align:left;\"> NA </td>\n",
       "   <td style=\"text-align:left;\"> Michael Snyder, Stanford;ENCODE3 </td>\n",
       "   <td style=\"text-align:left;\"> K562.ENCSR998AJK.ENCFF777PKJ.NRF1.bed.gz </td>\n",
       "   <td style=\"text-align:right;\"> 2440 </td>\n",
       "  </tr>\n",
       "  <tr>\n",
       "   <td style=\"text-align:right;\"> 1 </td>\n",
       "   <td style=\"text-align:right;\"> 4 </td>\n",
       "   <td style=\"text-align:left;\"> encode_chipseq_tf_k562 </td>\n",
       "   <td style=\"text-align:right;\"> 322.00519 </td>\n",
       "   <td style=\"text-align:right;\"> 11.111696 </td>\n",
       "   <td style=\"text-align:right;\"> 2403 </td>\n",
       "   <td style=\"text-align:right;\"> 1 </td>\n",
       "   <td style=\"text-align:right;\"> 7 </td>\n",
       "   <td style=\"text-align:right;\"> 12 </td>\n",
       "   <td style=\"text-align:right;\"> 12 </td>\n",
       "   <td style=\"text-align:right;\"> 6.67 </td>\n",
       "   <td style=\"text-align:right;\"> 9880 </td>\n",
       "   <td style=\"text-align:right;\"> 5024 </td>\n",
       "   <td style=\"text-align:right;\"> 229543 </td>\n",
       "   <td style=\"text-align:left;\"> ENCSR000EFT;ENCFF657CTC;GATA1;Homo sapiens K562 </td>\n",
       "   <td style=\"text-align:left;\"> K562 </td>\n",
       "   <td style=\"text-align:left;\"> NA </td>\n",
       "   <td style=\"text-align:left;\"> GATA1 </td>\n",
       "   <td style=\"text-align:left;\"> NA </td>\n",
       "   <td style=\"text-align:left;\"> Michael Snyder, Stanford;ENCODE2 </td>\n",
       "   <td style=\"text-align:left;\"> K562.ENCSR000EFT.ENCFF657CTC.GATA1.bed.gz </td>\n",
       "   <td style=\"text-align:right;\"> 810 </td>\n",
       "  </tr>\n",
       "  <tr>\n",
       "   <td style=\"text-align:right;\"> 1 </td>\n",
       "   <td style=\"text-align:right;\"> 12 </td>\n",
       "   <td style=\"text-align:left;\"> encode_chipseq_tf_k562 </td>\n",
       "   <td style=\"text-align:right;\"> 322.00519 </td>\n",
       "   <td style=\"text-align:right;\"> 9.509716 </td>\n",
       "   <td style=\"text-align:right;\"> 3047 </td>\n",
       "   <td style=\"text-align:right;\"> 1 </td>\n",
       "   <td style=\"text-align:right;\"> 13 </td>\n",
       "   <td style=\"text-align:right;\"> 9 </td>\n",
       "   <td style=\"text-align:right;\"> 13 </td>\n",
       "   <td style=\"text-align:right;\"> 7.67 </td>\n",
       "   <td style=\"text-align:right;\"> 16321 </td>\n",
       "   <td style=\"text-align:right;\"> 4380 </td>\n",
       "   <td style=\"text-align:right;\"> 223102 </td>\n",
       "   <td style=\"text-align:left;\"> ENCSR388QZF;ENCFF355MNE;POLR2A;Homo sapiens K562 </td>\n",
       "   <td style=\"text-align:left;\"> K562 </td>\n",
       "   <td style=\"text-align:left;\"> NA </td>\n",
       "   <td style=\"text-align:left;\"> POLR2A </td>\n",
       "   <td style=\"text-align:left;\"> NA </td>\n",
       "   <td style=\"text-align:left;\"> Michael Snyder, Stanford;ENCODE3 </td>\n",
       "   <td style=\"text-align:left;\"> K562.ENCSR388QZF.ENCFF355MNE.POLR2A.bed.gz </td>\n",
       "   <td style=\"text-align:right;\"> 2376 </td>\n",
       "  </tr>\n",
       "  <tr>\n",
       "   <td style=\"text-align:right;\"> 1 </td>\n",
       "   <td style=\"text-align:right;\"> 14 </td>\n",
       "   <td style=\"text-align:left;\"> encode_chipseq_tf_k562 </td>\n",
       "   <td style=\"text-align:right;\"> 322.00519 </td>\n",
       "   <td style=\"text-align:right;\"> 9.252277 </td>\n",
       "   <td style=\"text-align:right;\"> 2603 </td>\n",
       "   <td style=\"text-align:right;\"> 1 </td>\n",
       "   <td style=\"text-align:right;\"> 14 </td>\n",
       "   <td style=\"text-align:right;\"> 11 </td>\n",
       "   <td style=\"text-align:right;\"> 14 </td>\n",
       "   <td style=\"text-align:right;\"> 8.67 </td>\n",
       "   <td style=\"text-align:right;\"> 13194 </td>\n",
       "   <td style=\"text-align:right;\"> 4824 </td>\n",
       "   <td style=\"text-align:right;\"> 226229 </td>\n",
       "   <td style=\"text-align:left;\"> ENCSR760UVO;ENCFF488OTN;KLF16;Homo sapiens K562 </td>\n",
       "   <td style=\"text-align:left;\"> K562 </td>\n",
       "   <td style=\"text-align:left;\"> NA </td>\n",
       "   <td style=\"text-align:left;\"> KLF16 </td>\n",
       "   <td style=\"text-align:left;\"> NA </td>\n",
       "   <td style=\"text-align:left;\"> Richard Myers, HAIB;ENCODE3 </td>\n",
       "   <td style=\"text-align:left;\"> K562.ENCSR760UVO.ENCFF488OTN.KLF16.bed.gz </td>\n",
       "   <td style=\"text-align:right;\"> 1081 </td>\n",
       "  </tr>\n",
       "  <tr>\n",
       "   <td style=\"text-align:right;\"> 1 </td>\n",
       "   <td style=\"text-align:right;\"> 5 </td>\n",
       "   <td style=\"text-align:left;\"> encode_chipseq_tf_k562 </td>\n",
       "   <td style=\"text-align:right;\"> 322.00519 </td>\n",
       "   <td style=\"text-align:right;\"> 9.679855 </td>\n",
       "   <td style=\"text-align:right;\"> 692 </td>\n",
       "   <td style=\"text-align:right;\"> 1 </td>\n",
       "   <td style=\"text-align:right;\"> 12 </td>\n",
       "   <td style=\"text-align:right;\"> 15 </td>\n",
       "   <td style=\"text-align:right;\"> 15 </td>\n",
       "   <td style=\"text-align:right;\"> 9.33 </td>\n",
       "   <td style=\"text-align:right;\"> 2514 </td>\n",
       "   <td style=\"text-align:right;\"> 6735 </td>\n",
       "   <td style=\"text-align:right;\"> 236909 </td>\n",
       "   <td style=\"text-align:left;\"> ENCSR000EFU;ENCFF715WGN;ELK1;Homo sapiens K562 </td>\n",
       "   <td style=\"text-align:left;\"> K562 </td>\n",
       "   <td style=\"text-align:left;\"> NA </td>\n",
       "   <td style=\"text-align:left;\"> ELK1 </td>\n",
       "   <td style=\"text-align:left;\"> NA </td>\n",
       "   <td style=\"text-align:left;\"> Michael Snyder, Stanford;ENCODE2 </td>\n",
       "   <td style=\"text-align:left;\"> K562.ENCSR000EFU.ENCFF715WGN.ELK1.bed.gz </td>\n",
       "   <td style=\"text-align:right;\"> 301 </td>\n",
       "  </tr>\n",
       "  <tr>\n",
       "   <td style=\"text-align:right;\"> 1 </td>\n",
       "   <td style=\"text-align:right;\"> 15 </td>\n",
       "   <td style=\"text-align:left;\"> encode_chipseq_tf_k562 </td>\n",
       "   <td style=\"text-align:right;\"> 322.00519 </td>\n",
       "   <td style=\"text-align:right;\"> 6.938628 </td>\n",
       "   <td style=\"text-align:right;\"> 1400 </td>\n",
       "   <td style=\"text-align:right;\"> 1 </td>\n",
       "   <td style=\"text-align:right;\"> 15 </td>\n",
       "   <td style=\"text-align:right;\"> 14 </td>\n",
       "   <td style=\"text-align:right;\"> 15 </td>\n",
       "   <td style=\"text-align:right;\"> 10.00 </td>\n",
       "   <td style=\"text-align:right;\"> 7754 </td>\n",
       "   <td style=\"text-align:right;\"> 6027 </td>\n",
       "   <td style=\"text-align:right;\"> 231669 </td>\n",
       "   <td style=\"text-align:left;\"> ENCSR991ELG;ENCFF553GPK;SP1;Homo sapiens K562 </td>\n",
       "   <td style=\"text-align:left;\"> K562 </td>\n",
       "   <td style=\"text-align:left;\"> NA </td>\n",
       "   <td style=\"text-align:left;\"> SP1 </td>\n",
       "   <td style=\"text-align:left;\"> NA </td>\n",
       "   <td style=\"text-align:left;\"> Michael Snyder, Stanford;ENCODE3 </td>\n",
       "   <td style=\"text-align:left;\"> K562.ENCSR991ELG.ENCFF553GPK.SP1.bed.gz </td>\n",
       "   <td style=\"text-align:right;\"> 815 </td>\n",
       "  </tr>\n",
       "  <tr>\n",
       "   <td style=\"text-align:right;\"> 1 </td>\n",
       "   <td style=\"text-align:right;\"> 7 </td>\n",
       "   <td style=\"text-align:left;\"> encode_chipseq_tf_k562 </td>\n",
       "   <td style=\"text-align:right;\"> 125.00946 </td>\n",
       "   <td style=\"text-align:right;\"> 1.951749 </td>\n",
       "   <td style=\"text-align:right;\"> 2022 </td>\n",
       "   <td style=\"text-align:right;\"> 15 </td>\n",
       "   <td style=\"text-align:right;\"> 16 </td>\n",
       "   <td style=\"text-align:right;\"> 13 </td>\n",
       "   <td style=\"text-align:right;\"> 16 </td>\n",
       "   <td style=\"text-align:right;\"> 14.70 </td>\n",
       "   <td style=\"text-align:right;\"> 38511 </td>\n",
       "   <td style=\"text-align:right;\"> 5405 </td>\n",
       "   <td style=\"text-align:right;\"> 200912 </td>\n",
       "   <td style=\"text-align:left;\"> ENCSR000EGM;ENCFF660GHM;CTCF;Homo sapiens K562 </td>\n",
       "   <td style=\"text-align:left;\"> K562 </td>\n",
       "   <td style=\"text-align:left;\"> NA </td>\n",
       "   <td style=\"text-align:left;\"> CTCF </td>\n",
       "   <td style=\"text-align:left;\"> NA </td>\n",
       "   <td style=\"text-align:left;\"> Michael Snyder, Stanford;ENCODE2 </td>\n",
       "   <td style=\"text-align:left;\"> K562.ENCSR000EGM.ENCFF660GHM.CTCF.bed.gz </td>\n",
       "   <td style=\"text-align:right;\"> 4213 </td>\n",
       "  </tr>\n",
       "  <tr>\n",
       "   <td style=\"text-align:right;\"> 1 </td>\n",
       "   <td style=\"text-align:right;\"> 11 </td>\n",
       "   <td style=\"text-align:left;\"> encode_chipseq_tf_k562 </td>\n",
       "   <td style=\"text-align:right;\"> 99.93906 </td>\n",
       "   <td style=\"text-align:right;\"> 9.887137 </td>\n",
       "   <td style=\"text-align:right;\"> 178 </td>\n",
       "   <td style=\"text-align:right;\"> 16 </td>\n",
       "   <td style=\"text-align:right;\"> 9 </td>\n",
       "   <td style=\"text-align:right;\"> 16 </td>\n",
       "   <td style=\"text-align:right;\"> 16 </td>\n",
       "   <td style=\"text-align:right;\"> 13.70 </td>\n",
       "   <td style=\"text-align:right;\"> 593 </td>\n",
       "   <td style=\"text-align:right;\"> 7249 </td>\n",
       "   <td style=\"text-align:right;\"> 238830 </td>\n",
       "   <td style=\"text-align:left;\"> ENCSR121SPB;ENCFF142ZTD;KLF10;Homo sapiens K562 genetically modified (insertion) </td>\n",
       "   <td style=\"text-align:left;\"> K562 </td>\n",
       "   <td style=\"text-align:left;\"> NA </td>\n",
       "   <td style=\"text-align:left;\"> KLF10 </td>\n",
       "   <td style=\"text-align:left;\"> NA </td>\n",
       "   <td style=\"text-align:left;\"> Michael Snyder, Stanford;ENCODE4 </td>\n",
       "   <td style=\"text-align:left;\"> K562.ENCSR121SPB.ENCFF142ZTD.KLF10.bed.gz </td>\n",
       "   <td style=\"text-align:right;\"> 69 </td>\n",
       "  </tr>\n",
       "</tbody>\n",
       "</table></div>"
      ]
     },
     "metadata": {},
     "output_type": "display_data"
    }
   ],
   "source": [
    "fun_display_table(res)"
   ]
  },
  {
   "cell_type": "code",
   "execution_count": null,
   "id": "1e6e1852-4482-4a65-8c2c-9e170d5ab95d",
   "metadata": {},
   "outputs": [],
   "source": []
  },
  {
   "cell_type": "code",
   "execution_count": null,
   "id": "5d87b080-2e3f-458e-83f1-c4dcb30b8fed",
   "metadata": {},
   "outputs": [],
   "source": []
  }
 ],
 "metadata": {
  "kernelspec": {
   "display_name": "R",
   "language": "R",
   "name": "ir"
  },
  "language_info": {
   "codemirror_mode": "r",
   "file_extension": ".r",
   "mimetype": "text/x-r-source",
   "name": "R",
   "pygments_lexer": "r",
   "version": "4.3.1"
  }
 },
 "nbformat": 4,
 "nbformat_minor": 5
}
