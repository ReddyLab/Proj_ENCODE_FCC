{
 "cells": [
  {
   "cell_type": "markdown",
   "id": "07b3a24a-4b40-4f3a-b7a5-701e69c39935",
   "metadata": {},
   "source": [
    "**Set environment**"
   ]
  },
  {
   "cell_type": "code",
   "execution_count": 1,
   "id": "8dace263-28a3-4ff5-a2d2-ad954c7b511c",
   "metadata": {},
   "outputs": [
    {
     "name": "stdout",
     "output_type": "stream",
     "text": [
      "You are in Singularity: singularity_proj_encode_fcc \n",
      "BASE DIRECTORY (FD_BASE): /data/reddylab/Kuei \n",
      "WORK DIRECTORY (FD_WORK): /data/reddylab/Kuei/out \n",
      "CODE DIRECTORY (FD_CODE): /data/reddylab/Kuei/code \n",
      "PATH OF PROJECT (FD_PRJ): /data/reddylab/Kuei/code/Proj_CombEffect_ENCODE_FCC \n",
      "PATH OF RESULTS (FD_RES): /data/reddylab/Kuei/out/proj_combeffect_encode_fcc \n",
      "PATH OF LOG     (FD_LOG): /data/reddylab/Kuei/out/proj_combeffect_encode_fcc/log \n"
     ]
    }
   ],
   "source": [
    "suppressMessages(suppressWarnings(source(\"../config/config_sing.R\")))\n",
    "suppressMessages(suppressWarnings(source(\"../config/config_func.R\")))\n",
    "show_env()"
   ]
  },
  {
   "cell_type": "markdown",
   "id": "0cccaa06-cd3d-4886-85f5-6f0c80778aeb",
   "metadata": {},
   "source": [
    "**Check data**"
   ]
  },
  {
   "cell_type": "code",
   "execution_count": 2,
   "id": "258a66d6-c912-4e87-bf2d-0443f112397a",
   "metadata": {},
   "outputs": [
    {
     "name": "stdout",
     "output_type": "stream",
     "text": [
      "[1] \"/data/reddylab/Kuei/out/proj_combeffect_encode_fcc/results/region/KS91_K562_ASTARRseq_peak_macs_input/enrichment_lola/regionDB_full\"\n",
      "* encode_chipseq_tf_k562 \n",
      "\n",
      "[1] \"/data/reddylab/Kuei/out/proj_combeffect_encode_fcc/results/region/KS91_K562_ASTARRseq_peak_macs_input/enrichment_lola/regionDB_full/encode_chipseq_tf_k562\"\n",
      "* collection.txt \n",
      "* encode_chipseq_tf_k562_files.RData \n",
      "* index.txt \n",
      "* regions \n",
      "* sizes.txt \n",
      "\n"
     ]
    }
   ],
   "source": [
    "fdiry = file.path(\n",
    "    FD_RES, \n",
    "    \"results\", \n",
    "    \"region\", \n",
    "    \"KS91_K562_ASTARRseq_peak_macs_input\",\n",
    "    \"enrichment_lola\",\n",
    "    \"regionDB_full\"\n",
    ")\n",
    "\n",
    "print(fdiry)\n",
    "for (txt in dir(fdiry)){cat(\"*\", txt, \"\\n\")}\n",
    "cat(\"\\n\")\n",
    "\n",
    "fdiry = file.path(fdiry, \"encode_chipseq_tf_k562\")\n",
    "print(fdiry)\n",
    "for (txt in dir(fdiry)){cat(\"*\", txt, \"\\n\")}\n",
    "cat(\"\\n\")\n",
    "\n",
    "#fdiry = file.path(fdiry, \"regions\")\n",
    "#print(fdiry)\n",
    "#for (txt in dir(fdiry)){cat(\"*\", txt, \"\\n\")}"
   ]
  },
  {
   "cell_type": "markdown",
   "id": "e57943cf-1df8-4524-b4da-07a58d7040c3",
   "metadata": {},
   "source": [
    "## set global parameters"
   ]
  },
  {
   "cell_type": "code",
   "execution_count": 3,
   "id": "bf75be8d-19db-4221-bd35-ac6a58301561",
   "metadata": {},
   "outputs": [],
   "source": [
    "FOLDER_REGION_COLLECT   = \"regionDB_full\"\n",
    "FOLDER_REGION_ANNOT_INP = \"annotation_chipseq_tf\"\n",
    "FOLDER_REGION_ANNOT_OUT = \"encode_chipseq_tf_k562\""
   ]
  },
  {
   "cell_type": "markdown",
   "id": "ac9382af-9f06-472f-8b1a-e4f7f34f1217",
   "metadata": {},
   "source": [
    "## Annotating collections: Create `collection.txt` file\n",
    "```\n",
    "    collector (your name)\n",
    "    date (time you produced the collection)\n",
    "    source (paper or website where you got the data)\n",
    "    description (free form field for details)\n",
    "```"
   ]
  },
  {
   "cell_type": "code",
   "execution_count": 4,
   "id": "5cc9dc43-1289-4398-ac78-195c72868596",
   "metadata": {},
   "outputs": [
    {
     "data": {
      "text/html": [
       "<table class=\"dataframe\">\n",
       "<caption>A tibble: 1 × 4</caption>\n",
       "<thead>\n",
       "\t<tr><th scope=col>collector</th><th scope=col>date</th><th scope=col>source</th><th scope=col>description</th></tr>\n",
       "\t<tr><th scope=col>&lt;chr&gt;</th><th scope=col>&lt;chr&gt;</th><th scope=col>&lt;chr&gt;</th><th scope=col>&lt;chr&gt;</th></tr>\n",
       "</thead>\n",
       "<tbody>\n",
       "\t<tr><td>KY KO</td><td>2023/10/21</td><td>ENCODE</td><td>ChIP-seq TF</td></tr>\n",
       "</tbody>\n",
       "</table>\n"
      ],
      "text/latex": [
       "A tibble: 1 × 4\n",
       "\\begin{tabular}{llll}\n",
       " collector & date & source & description\\\\\n",
       " <chr> & <chr> & <chr> & <chr>\\\\\n",
       "\\hline\n",
       "\t KY KO & 2023/10/21 & ENCODE & ChIP-seq TF\\\\\n",
       "\\end{tabular}\n"
      ],
      "text/markdown": [
       "\n",
       "A tibble: 1 × 4\n",
       "\n",
       "| collector &lt;chr&gt; | date &lt;chr&gt; | source &lt;chr&gt; | description &lt;chr&gt; |\n",
       "|---|---|---|---|\n",
       "| KY KO | 2023/10/21 | ENCODE | ChIP-seq TF |\n",
       "\n"
      ],
      "text/plain": [
       "  collector date       source description\n",
       "1 KY KO     2023/10/21 ENCODE ChIP-seq TF"
      ]
     },
     "metadata": {},
     "output_type": "display_data"
    }
   ],
   "source": [
    "dat = tibble::tribble(\n",
    "    ~collector, ~date, ~source, ~description,\n",
    "    \"KY KO\", \"2023/10/21\", \"ENCODE\", \"ChIP-seq TF\"\n",
    ")\n",
    "dat_collection = dat\n",
    "dat"
   ]
  },
  {
   "cell_type": "markdown",
   "id": "148dbca2-6d71-4546-9a56-146c4a425701",
   "metadata": {},
   "source": [
    "## Annotating region sets: Create `index.txt` file\n",
    "```\n",
    "    filename (must match files in the collection exactly)\n",
    "    description\n",
    "    cellType\n",
    "    tissue\n",
    "    antibody (for ChIP experiments)\n",
    "    treatment\n",
    "    dataSource (for publication author, database, etc.)\n",
    "```"
   ]
  },
  {
   "cell_type": "code",
   "execution_count": 5,
   "id": "7730ce05-a0d8-44b1-8d7e-0b74c24b9138",
   "metadata": {},
   "outputs": [
    {
     "name": "stdout",
     "output_type": "stream",
     "text": [
      "[1] 3092    6\n"
     ]
    },
    {
     "data": {
      "text/html": [
       "<table class=\"dataframe\">\n",
       "<caption>A tibble: 6 × 6</caption>\n",
       "<thead>\n",
       "\t<tr><th scope=col>Experiment_Accession</th><th scope=col>Peak_Accession</th><th scope=col>Biosample</th><th scope=col>Target</th><th scope=col>Lab</th><th scope=col>RFA</th></tr>\n",
       "\t<tr><th scope=col>&lt;chr&gt;</th><th scope=col>&lt;chr&gt;</th><th scope=col>&lt;chr&gt;</th><th scope=col>&lt;chr&gt;</th><th scope=col>&lt;chr&gt;</th><th scope=col>&lt;chr&gt;</th></tr>\n",
       "</thead>\n",
       "<tbody>\n",
       "\t<tr><td>ENCSR753RME</td><td>ENCFF917CYG</td><td>Homo sapiens testis tissue male adult (37 years)                  </td><td>CTCF</td><td>Bradley Bernstein, Broad</td><td>ENCODE4</td></tr>\n",
       "\t<tr><td>ENCSR992XTY</td><td>ENCFF112GJQ</td><td>Homo sapiens WTC11                                                </td><td>CTCF</td><td>Bradley Bernstein, Broad</td><td>ENCODE4</td></tr>\n",
       "\t<tr><td>ENCSR934GQS</td><td>ENCFF483KVM</td><td>Homo sapiens ovary tissue female adult (41 years)                 </td><td>CTCF</td><td>Bradley Bernstein, Broad</td><td>ENCODE4</td></tr>\n",
       "\t<tr><td>ENCSR164ASX</td><td>ENCFF238PEB</td><td>Homo sapiens upper lobe of right lung tissue male adult (60 years)</td><td>CTCF</td><td>Bradley Bernstein, Broad</td><td>ENCODE4</td></tr>\n",
       "\t<tr><td>ENCSR000VGD</td><td>ENCFF870ZRR</td><td>Homo sapiens right lobe of liver tissue female adult (47 years)   </td><td>CTCF</td><td>Bradley Bernstein, Broad</td><td>ENCODE4</td></tr>\n",
       "\t<tr><td>ENCSR856TKC</td><td>ENCFF072KJO</td><td>Homo sapiens natural killer cell male adult (33 years)            </td><td>CTCF</td><td>Bradley Bernstein, Broad</td><td>ENCODE4</td></tr>\n",
       "</tbody>\n",
       "</table>\n"
      ],
      "text/latex": [
       "A tibble: 6 × 6\n",
       "\\begin{tabular}{llllll}\n",
       " Experiment\\_Accession & Peak\\_Accession & Biosample & Target & Lab & RFA\\\\\n",
       " <chr> & <chr> & <chr> & <chr> & <chr> & <chr>\\\\\n",
       "\\hline\n",
       "\t ENCSR753RME & ENCFF917CYG & Homo sapiens testis tissue male adult (37 years)                   & CTCF & Bradley Bernstein, Broad & ENCODE4\\\\\n",
       "\t ENCSR992XTY & ENCFF112GJQ & Homo sapiens WTC11                                                 & CTCF & Bradley Bernstein, Broad & ENCODE4\\\\\n",
       "\t ENCSR934GQS & ENCFF483KVM & Homo sapiens ovary tissue female adult (41 years)                  & CTCF & Bradley Bernstein, Broad & ENCODE4\\\\\n",
       "\t ENCSR164ASX & ENCFF238PEB & Homo sapiens upper lobe of right lung tissue male adult (60 years) & CTCF & Bradley Bernstein, Broad & ENCODE4\\\\\n",
       "\t ENCSR000VGD & ENCFF870ZRR & Homo sapiens right lobe of liver tissue female adult (47 years)    & CTCF & Bradley Bernstein, Broad & ENCODE4\\\\\n",
       "\t ENCSR856TKC & ENCFF072KJO & Homo sapiens natural killer cell male adult (33 years)             & CTCF & Bradley Bernstein, Broad & ENCODE4\\\\\n",
       "\\end{tabular}\n"
      ],
      "text/markdown": [
       "\n",
       "A tibble: 6 × 6\n",
       "\n",
       "| Experiment_Accession &lt;chr&gt; | Peak_Accession &lt;chr&gt; | Biosample &lt;chr&gt; | Target &lt;chr&gt; | Lab &lt;chr&gt; | RFA &lt;chr&gt; |\n",
       "|---|---|---|---|---|---|\n",
       "| ENCSR753RME | ENCFF917CYG | Homo sapiens testis tissue male adult (37 years)                   | CTCF | Bradley Bernstein, Broad | ENCODE4 |\n",
       "| ENCSR992XTY | ENCFF112GJQ | Homo sapiens WTC11                                                 | CTCF | Bradley Bernstein, Broad | ENCODE4 |\n",
       "| ENCSR934GQS | ENCFF483KVM | Homo sapiens ovary tissue female adult (41 years)                  | CTCF | Bradley Bernstein, Broad | ENCODE4 |\n",
       "| ENCSR164ASX | ENCFF238PEB | Homo sapiens upper lobe of right lung tissue male adult (60 years) | CTCF | Bradley Bernstein, Broad | ENCODE4 |\n",
       "| ENCSR000VGD | ENCFF870ZRR | Homo sapiens right lobe of liver tissue female adult (47 years)    | CTCF | Bradley Bernstein, Broad | ENCODE4 |\n",
       "| ENCSR856TKC | ENCFF072KJO | Homo sapiens natural killer cell male adult (33 years)             | CTCF | Bradley Bernstein, Broad | ENCODE4 |\n",
       "\n"
      ],
      "text/plain": [
       "  Experiment_Accession Peak_Accession\n",
       "1 ENCSR753RME          ENCFF917CYG   \n",
       "2 ENCSR992XTY          ENCFF112GJQ   \n",
       "3 ENCSR934GQS          ENCFF483KVM   \n",
       "4 ENCSR164ASX          ENCFF238PEB   \n",
       "5 ENCSR000VGD          ENCFF870ZRR   \n",
       "6 ENCSR856TKC          ENCFF072KJO   \n",
       "  Biosample                                                          Target\n",
       "1 Homo sapiens testis tissue male adult (37 years)                   CTCF  \n",
       "2 Homo sapiens WTC11                                                 CTCF  \n",
       "3 Homo sapiens ovary tissue female adult (41 years)                  CTCF  \n",
       "4 Homo sapiens upper lobe of right lung tissue male adult (60 years) CTCF  \n",
       "5 Homo sapiens right lobe of liver tissue female adult (47 years)    CTCF  \n",
       "6 Homo sapiens natural killer cell male adult (33 years)             CTCF  \n",
       "  Lab                      RFA    \n",
       "1 Bradley Bernstein, Broad ENCODE4\n",
       "2 Bradley Bernstein, Broad ENCODE4\n",
       "3 Bradley Bernstein, Broad ENCODE4\n",
       "4 Bradley Bernstein, Broad ENCODE4\n",
       "5 Bradley Bernstein, Broad ENCODE4\n",
       "6 Bradley Bernstein, Broad ENCODE4"
      ]
     },
     "metadata": {},
     "output_type": "display_data"
    }
   ],
   "source": [
    "fdiry = file.path(\n",
    "    FD_RES, \n",
    "    \"source\", \n",
    "    \"annotation_chipseq_tf\"\n",
    ")\n",
    "fname = \"ENCODE4_TF_Accessions_for_Flagship_update221025.csv\"\n",
    "fpath = file.path(fdiry, fname)\n",
    "\n",
    "dat = read_csv(fpath, show_col_types = FALSE)\n",
    "dat_annot_chipseq_tf_info = dat\n",
    "print(dim(dat))\n",
    "head(dat)"
   ]
  },
  {
   "cell_type": "code",
   "execution_count": 6,
   "id": "15e8bd81-0417-4ef5-950a-846cc3f376db",
   "metadata": {},
   "outputs": [
    {
     "data": {
      "text/html": [
       "<table class=\"dataframe\">\n",
       "<caption>A spec_tbl_df: 1 × 6</caption>\n",
       "<thead>\n",
       "\t<tr><th scope=col>Experiment_Accession</th><th scope=col>Peak_Accession</th><th scope=col>Biosample</th><th scope=col>Target</th><th scope=col>Lab</th><th scope=col>RFA</th></tr>\n",
       "\t<tr><th scope=col>&lt;chr&gt;</th><th scope=col>&lt;chr&gt;</th><th scope=col>&lt;chr&gt;</th><th scope=col>&lt;chr&gt;</th><th scope=col>&lt;chr&gt;</th><th scope=col>&lt;chr&gt;</th></tr>\n",
       "</thead>\n",
       "<tbody>\n",
       "\t<tr><td>ENCSR000DKB</td><td>NA</td><td>Homo sapiens K562 stably expressing FOS</td><td>FOS</td><td>Kevin White, UChicago</td><td>ENCODE2</td></tr>\n",
       "</tbody>\n",
       "</table>\n"
      ],
      "text/latex": [
       "A spec\\_tbl\\_df: 1 × 6\n",
       "\\begin{tabular}{llllll}\n",
       " Experiment\\_Accession & Peak\\_Accession & Biosample & Target & Lab & RFA\\\\\n",
       " <chr> & <chr> & <chr> & <chr> & <chr> & <chr>\\\\\n",
       "\\hline\n",
       "\t ENCSR000DKB & NA & Homo sapiens K562 stably expressing FOS & FOS & Kevin White, UChicago & ENCODE2\\\\\n",
       "\\end{tabular}\n"
      ],
      "text/markdown": [
       "\n",
       "A spec_tbl_df: 1 × 6\n",
       "\n",
       "| Experiment_Accession &lt;chr&gt; | Peak_Accession &lt;chr&gt; | Biosample &lt;chr&gt; | Target &lt;chr&gt; | Lab &lt;chr&gt; | RFA &lt;chr&gt; |\n",
       "|---|---|---|---|---|---|\n",
       "| ENCSR000DKB | NA | Homo sapiens K562 stably expressing FOS | FOS | Kevin White, UChicago | ENCODE2 |\n",
       "\n"
      ],
      "text/plain": [
       "  Experiment_Accession Peak_Accession Biosample                              \n",
       "1 ENCSR000DKB          NA             Homo sapiens K562 stably expressing FOS\n",
       "  Target Lab                   RFA    \n",
       "1 FOS    Kevin White, UChicago ENCODE2"
      ]
     },
     "metadata": {},
     "output_type": "display_data"
    }
   ],
   "source": [
    "dat = dat_annot_chipseq_tf_info\n",
    "dat = dat %>% dplyr::filter(Experiment_Accession == \"ENCSR000DKB\")\n",
    "dat"
   ]
  },
  {
   "cell_type": "code",
   "execution_count": 7,
   "id": "76b3b924-5568-49ab-b19d-dc052c2f705d",
   "metadata": {},
   "outputs": [
    {
     "name": "stdout",
     "output_type": "stream",
     "text": [
      "[1] 734   5\n"
     ]
    },
    {
     "data": {
      "text/html": [
       "<table class=\"dataframe\">\n",
       "<caption>A data.frame: 6 × 5</caption>\n",
       "<thead>\n",
       "\t<tr><th></th><th scope=col>filename</th><th scope=col>cellType</th><th scope=col>Experiment_Accession</th><th scope=col>Peak_Accession</th><th scope=col>antibody</th></tr>\n",
       "\t<tr><th></th><th scope=col>&lt;chr&gt;</th><th scope=col>&lt;chr&gt;</th><th scope=col>&lt;chr&gt;</th><th scope=col>&lt;chr&gt;</th><th scope=col>&lt;chr&gt;</th></tr>\n",
       "</thead>\n",
       "<tbody>\n",
       "\t<tr><th scope=row>1</th><td>K562.ENCSR000AKO.ENCFF769AUF.CTCF.bed.gz </td><td>K562</td><td>ENCSR000AKO</td><td>ENCFF769AUF</td><td>CTCF </td></tr>\n",
       "\t<tr><th scope=row>2</th><td>K562.ENCSR000AQA.ENCFF807FNB.KDM5B.bed.gz</td><td>K562</td><td>ENCSR000AQA</td><td>ENCFF807FNB</td><td>KDM5B</td></tr>\n",
       "\t<tr><th scope=row>3</th><td>K562.ENCSR000AQD.ENCFF408NUX.CHD1.bed.gz </td><td>K562</td><td>ENCSR000AQD</td><td>ENCFF408NUX</td><td>CHD1 </td></tr>\n",
       "\t<tr><th scope=row>4</th><td>K562.ENCSR000AQE.ENCFF804RVA.EZH2.bed.gz </td><td>K562</td><td>ENCSR000AQE</td><td>ENCFF804RVA</td><td>EZH2 </td></tr>\n",
       "\t<tr><th scope=row>5</th><td>K562.ENCSR000AQF.ENCFF669MJX.HDAC1.bed.gz</td><td>K562</td><td>ENCSR000AQF</td><td>ENCFF669MJX</td><td>HDAC1</td></tr>\n",
       "\t<tr><th scope=row>6</th><td>K562.ENCSR000AQG.ENCFF182MPT.HDAC2.bed.gz</td><td>K562</td><td>ENCSR000AQG</td><td>ENCFF182MPT</td><td>HDAC2</td></tr>\n",
       "</tbody>\n",
       "</table>\n"
      ],
      "text/latex": [
       "A data.frame: 6 × 5\n",
       "\\begin{tabular}{r|lllll}\n",
       "  & filename & cellType & Experiment\\_Accession & Peak\\_Accession & antibody\\\\\n",
       "  & <chr> & <chr> & <chr> & <chr> & <chr>\\\\\n",
       "\\hline\n",
       "\t1 & K562.ENCSR000AKO.ENCFF769AUF.CTCF.bed.gz  & K562 & ENCSR000AKO & ENCFF769AUF & CTCF \\\\\n",
       "\t2 & K562.ENCSR000AQA.ENCFF807FNB.KDM5B.bed.gz & K562 & ENCSR000AQA & ENCFF807FNB & KDM5B\\\\\n",
       "\t3 & K562.ENCSR000AQD.ENCFF408NUX.CHD1.bed.gz  & K562 & ENCSR000AQD & ENCFF408NUX & CHD1 \\\\\n",
       "\t4 & K562.ENCSR000AQE.ENCFF804RVA.EZH2.bed.gz  & K562 & ENCSR000AQE & ENCFF804RVA & EZH2 \\\\\n",
       "\t5 & K562.ENCSR000AQF.ENCFF669MJX.HDAC1.bed.gz & K562 & ENCSR000AQF & ENCFF669MJX & HDAC1\\\\\n",
       "\t6 & K562.ENCSR000AQG.ENCFF182MPT.HDAC2.bed.gz & K562 & ENCSR000AQG & ENCFF182MPT & HDAC2\\\\\n",
       "\\end{tabular}\n"
      ],
      "text/markdown": [
       "\n",
       "A data.frame: 6 × 5\n",
       "\n",
       "| <!--/--> | filename &lt;chr&gt; | cellType &lt;chr&gt; | Experiment_Accession &lt;chr&gt; | Peak_Accession &lt;chr&gt; | antibody &lt;chr&gt; |\n",
       "|---|---|---|---|---|---|\n",
       "| 1 | K562.ENCSR000AKO.ENCFF769AUF.CTCF.bed.gz  | K562 | ENCSR000AKO | ENCFF769AUF | CTCF  |\n",
       "| 2 | K562.ENCSR000AQA.ENCFF807FNB.KDM5B.bed.gz | K562 | ENCSR000AQA | ENCFF807FNB | KDM5B |\n",
       "| 3 | K562.ENCSR000AQD.ENCFF408NUX.CHD1.bed.gz  | K562 | ENCSR000AQD | ENCFF408NUX | CHD1  |\n",
       "| 4 | K562.ENCSR000AQE.ENCFF804RVA.EZH2.bed.gz  | K562 | ENCSR000AQE | ENCFF804RVA | EZH2  |\n",
       "| 5 | K562.ENCSR000AQF.ENCFF669MJX.HDAC1.bed.gz | K562 | ENCSR000AQF | ENCFF669MJX | HDAC1 |\n",
       "| 6 | K562.ENCSR000AQG.ENCFF182MPT.HDAC2.bed.gz | K562 | ENCSR000AQG | ENCFF182MPT | HDAC2 |\n",
       "\n"
      ],
      "text/plain": [
       "  filename                                  cellType Experiment_Accession\n",
       "1 K562.ENCSR000AKO.ENCFF769AUF.CTCF.bed.gz  K562     ENCSR000AKO         \n",
       "2 K562.ENCSR000AQA.ENCFF807FNB.KDM5B.bed.gz K562     ENCSR000AQA         \n",
       "3 K562.ENCSR000AQD.ENCFF408NUX.CHD1.bed.gz  K562     ENCSR000AQD         \n",
       "4 K562.ENCSR000AQE.ENCFF804RVA.EZH2.bed.gz  K562     ENCSR000AQE         \n",
       "5 K562.ENCSR000AQF.ENCFF669MJX.HDAC1.bed.gz K562     ENCSR000AQF         \n",
       "6 K562.ENCSR000AQG.ENCFF182MPT.HDAC2.bed.gz K562     ENCSR000AQG         \n",
       "  Peak_Accession antibody\n",
       "1 ENCFF769AUF    CTCF    \n",
       "2 ENCFF807FNB    KDM5B   \n",
       "3 ENCFF408NUX    CHD1    \n",
       "4 ENCFF804RVA    EZH2    \n",
       "5 ENCFF669MJX    HDAC1   \n",
       "6 ENCFF182MPT    HDAC2   "
      ]
     },
     "metadata": {},
     "output_type": "display_data"
    }
   ],
   "source": [
    "fdiry = file.path(\n",
    "    FD_RES, \n",
    "    \"results\", \n",
    "    \"region\", \n",
    "    \"KS91_K562_ASTARRseq_peak_macs_input\",\n",
    "    \"enrichment_lola\",\n",
    "    FOLDER_REGION_COLLECT,\n",
    "    FOLDER_REGION_ANNOT_OUT,\n",
    "    \"regions\"\n",
    ")\n",
    "\n",
    "vec = dir(fdiry)\n",
    "dat = data.frame(\n",
    "    filename = vec,\n",
    "    fprefix  = str_remove_all(vec, pattern = \".bed|.gz\")\n",
    ")\n",
    "dat = dat %>% \n",
    "    tidyr::separate(\n",
    "        fprefix, \n",
    "        c(\"cellType\", \"Experiment_Accession\", \"Peak_Accession\", \"antibody\")\n",
    "    )\n",
    "\n",
    "### assign and show\n",
    "dat_fname = dat\n",
    "print(dim(dat))\n",
    "head(dat)"
   ]
  },
  {
   "cell_type": "code",
   "execution_count": 8,
   "id": "2d607bc3-c738-40a5-b245-5288da46b104",
   "metadata": {},
   "outputs": [
    {
     "data": {
      "text/html": [
       "<table class=\"dataframe\">\n",
       "<caption>A data.frame: 6 × 5</caption>\n",
       "<thead>\n",
       "\t<tr><th></th><th scope=col>filename</th><th scope=col>cellType</th><th scope=col>antibody</th><th scope=col>dataSource</th><th scope=col>description</th></tr>\n",
       "\t<tr><th></th><th scope=col>&lt;chr&gt;</th><th scope=col>&lt;chr&gt;</th><th scope=col>&lt;chr&gt;</th><th scope=col>&lt;chr&gt;</th><th scope=col>&lt;chr&gt;</th></tr>\n",
       "</thead>\n",
       "<tbody>\n",
       "\t<tr><th scope=row>1</th><td>K562.ENCSR000AKO.ENCFF769AUF.CTCF.bed.gz </td><td>K562</td><td>CTCF </td><td>Bradley Bernstein, Broad;ENCODE2</td><td>ENCSR000AKO;ENCFF769AUF;CTCF;Homo sapiens K562 </td></tr>\n",
       "\t<tr><th scope=row>2</th><td>K562.ENCSR000AQA.ENCFF807FNB.KDM5B.bed.gz</td><td>K562</td><td>KDM5B</td><td>Bradley Bernstein, Broad;ENCODE2</td><td>ENCSR000AQA;ENCFF807FNB;KDM5B;Homo sapiens K562</td></tr>\n",
       "\t<tr><th scope=row>3</th><td>K562.ENCSR000AQD.ENCFF408NUX.CHD1.bed.gz </td><td>K562</td><td>CHD1 </td><td>Bradley Bernstein, Broad;ENCODE2</td><td>ENCSR000AQD;ENCFF408NUX;CHD1;Homo sapiens K562 </td></tr>\n",
       "\t<tr><th scope=row>4</th><td>K562.ENCSR000AQE.ENCFF804RVA.EZH2.bed.gz </td><td>K562</td><td>EZH2 </td><td>Bradley Bernstein, Broad;ENCODE2</td><td>ENCSR000AQE;ENCFF804RVA;EZH2;Homo sapiens K562 </td></tr>\n",
       "\t<tr><th scope=row>5</th><td>K562.ENCSR000AQF.ENCFF669MJX.HDAC1.bed.gz</td><td>K562</td><td>HDAC1</td><td>Bradley Bernstein, Broad;ENCODE2</td><td>ENCSR000AQF;ENCFF669MJX;HDAC1;Homo sapiens K562</td></tr>\n",
       "\t<tr><th scope=row>6</th><td>K562.ENCSR000AQG.ENCFF182MPT.HDAC2.bed.gz</td><td>K562</td><td>HDAC2</td><td>Bradley Bernstein, Broad;ENCODE2</td><td>ENCSR000AQG;ENCFF182MPT;HDAC2;Homo sapiens K562</td></tr>\n",
       "</tbody>\n",
       "</table>\n"
      ],
      "text/latex": [
       "A data.frame: 6 × 5\n",
       "\\begin{tabular}{r|lllll}\n",
       "  & filename & cellType & antibody & dataSource & description\\\\\n",
       "  & <chr> & <chr> & <chr> & <chr> & <chr>\\\\\n",
       "\\hline\n",
       "\t1 & K562.ENCSR000AKO.ENCFF769AUF.CTCF.bed.gz  & K562 & CTCF  & Bradley Bernstein, Broad;ENCODE2 & ENCSR000AKO;ENCFF769AUF;CTCF;Homo sapiens K562 \\\\\n",
       "\t2 & K562.ENCSR000AQA.ENCFF807FNB.KDM5B.bed.gz & K562 & KDM5B & Bradley Bernstein, Broad;ENCODE2 & ENCSR000AQA;ENCFF807FNB;KDM5B;Homo sapiens K562\\\\\n",
       "\t3 & K562.ENCSR000AQD.ENCFF408NUX.CHD1.bed.gz  & K562 & CHD1  & Bradley Bernstein, Broad;ENCODE2 & ENCSR000AQD;ENCFF408NUX;CHD1;Homo sapiens K562 \\\\\n",
       "\t4 & K562.ENCSR000AQE.ENCFF804RVA.EZH2.bed.gz  & K562 & EZH2  & Bradley Bernstein, Broad;ENCODE2 & ENCSR000AQE;ENCFF804RVA;EZH2;Homo sapiens K562 \\\\\n",
       "\t5 & K562.ENCSR000AQF.ENCFF669MJX.HDAC1.bed.gz & K562 & HDAC1 & Bradley Bernstein, Broad;ENCODE2 & ENCSR000AQF;ENCFF669MJX;HDAC1;Homo sapiens K562\\\\\n",
       "\t6 & K562.ENCSR000AQG.ENCFF182MPT.HDAC2.bed.gz & K562 & HDAC2 & Bradley Bernstein, Broad;ENCODE2 & ENCSR000AQG;ENCFF182MPT;HDAC2;Homo sapiens K562\\\\\n",
       "\\end{tabular}\n"
      ],
      "text/markdown": [
       "\n",
       "A data.frame: 6 × 5\n",
       "\n",
       "| <!--/--> | filename &lt;chr&gt; | cellType &lt;chr&gt; | antibody &lt;chr&gt; | dataSource &lt;chr&gt; | description &lt;chr&gt; |\n",
       "|---|---|---|---|---|---|\n",
       "| 1 | K562.ENCSR000AKO.ENCFF769AUF.CTCF.bed.gz  | K562 | CTCF  | Bradley Bernstein, Broad;ENCODE2 | ENCSR000AKO;ENCFF769AUF;CTCF;Homo sapiens K562  |\n",
       "| 2 | K562.ENCSR000AQA.ENCFF807FNB.KDM5B.bed.gz | K562 | KDM5B | Bradley Bernstein, Broad;ENCODE2 | ENCSR000AQA;ENCFF807FNB;KDM5B;Homo sapiens K562 |\n",
       "| 3 | K562.ENCSR000AQD.ENCFF408NUX.CHD1.bed.gz  | K562 | CHD1  | Bradley Bernstein, Broad;ENCODE2 | ENCSR000AQD;ENCFF408NUX;CHD1;Homo sapiens K562  |\n",
       "| 4 | K562.ENCSR000AQE.ENCFF804RVA.EZH2.bed.gz  | K562 | EZH2  | Bradley Bernstein, Broad;ENCODE2 | ENCSR000AQE;ENCFF804RVA;EZH2;Homo sapiens K562  |\n",
       "| 5 | K562.ENCSR000AQF.ENCFF669MJX.HDAC1.bed.gz | K562 | HDAC1 | Bradley Bernstein, Broad;ENCODE2 | ENCSR000AQF;ENCFF669MJX;HDAC1;Homo sapiens K562 |\n",
       "| 6 | K562.ENCSR000AQG.ENCFF182MPT.HDAC2.bed.gz | K562 | HDAC2 | Bradley Bernstein, Broad;ENCODE2 | ENCSR000AQG;ENCFF182MPT;HDAC2;Homo sapiens K562 |\n",
       "\n"
      ],
      "text/plain": [
       "  filename                                  cellType antibody\n",
       "1 K562.ENCSR000AKO.ENCFF769AUF.CTCF.bed.gz  K562     CTCF    \n",
       "2 K562.ENCSR000AQA.ENCFF807FNB.KDM5B.bed.gz K562     KDM5B   \n",
       "3 K562.ENCSR000AQD.ENCFF408NUX.CHD1.bed.gz  K562     CHD1    \n",
       "4 K562.ENCSR000AQE.ENCFF804RVA.EZH2.bed.gz  K562     EZH2    \n",
       "5 K562.ENCSR000AQF.ENCFF669MJX.HDAC1.bed.gz K562     HDAC1   \n",
       "6 K562.ENCSR000AQG.ENCFF182MPT.HDAC2.bed.gz K562     HDAC2   \n",
       "  dataSource                      \n",
       "1 Bradley Bernstein, Broad;ENCODE2\n",
       "2 Bradley Bernstein, Broad;ENCODE2\n",
       "3 Bradley Bernstein, Broad;ENCODE2\n",
       "4 Bradley Bernstein, Broad;ENCODE2\n",
       "5 Bradley Bernstein, Broad;ENCODE2\n",
       "6 Bradley Bernstein, Broad;ENCODE2\n",
       "  description                                    \n",
       "1 ENCSR000AKO;ENCFF769AUF;CTCF;Homo sapiens K562 \n",
       "2 ENCSR000AQA;ENCFF807FNB;KDM5B;Homo sapiens K562\n",
       "3 ENCSR000AQD;ENCFF408NUX;CHD1;Homo sapiens K562 \n",
       "4 ENCSR000AQE;ENCFF804RVA;EZH2;Homo sapiens K562 \n",
       "5 ENCSR000AQF;ENCFF669MJX;HDAC1;Homo sapiens K562\n",
       "6 ENCSR000AQG;ENCFF182MPT;HDAC2;Homo sapiens K562"
      ]
     },
     "metadata": {},
     "output_type": "display_data"
    }
   ],
   "source": [
    "dat = dat_fname\n",
    "dat = dat %>% \n",
    "    dplyr::left_join(dat_annot_chipseq_tf_info, by=c(\"Experiment_Accession\", \"Peak_Accession\")) %>%\n",
    "    dplyr::mutate(\n",
    "        dataSource  = paste(Lab, RFA, sep=\";\"),\n",
    "        description = paste(Experiment_Accession, Peak_Accession, Target, Biosample, sep=\";\")\n",
    "    ) %>%\n",
    "    dplyr::select(\n",
    "        filename, cellType, antibody, dataSource, description)#, \n",
    "        #Experiment_Accession, \n",
    "        #Peak_Accession, \n",
    "        #Biosample, \n",
    "        #Target)\n",
    "        \n",
    "dat_index = dat\n",
    "head(dat)"
   ]
  },
  {
   "cell_type": "markdown",
   "id": "f089c2ae-6047-4343-b82a-f7ff6a2023e8",
   "metadata": {},
   "source": [
    "## Save results"
   ]
  },
  {
   "cell_type": "code",
   "execution_count": 9,
   "id": "9d5efa9d-8f4c-4362-9830-bb1142e73821",
   "metadata": {},
   "outputs": [],
   "source": [
    "fdiry = file.path(\n",
    "    FD_RES, \n",
    "    \"results\", \n",
    "    \"region\", \n",
    "    \"KS91_K562_ASTARRseq_peak_macs_input\",\n",
    "    \"enrichment_lola\",\n",
    "    FOLDER_REGION_COLLECT,\n",
    "    FOLDER_REGION_ANNOT_OUT\n",
    ")\n",
    "\n",
    "fname = \"collection.txt\"\n",
    "fpath = file.path(fdiry, fname)\n",
    "\n",
    "dat = dat_collection\n",
    "write_tsv(dat, fpath)\n",
    "\n",
    "fname = \"index.txt\"\n",
    "fpath = file.path(fdiry, fname)\n",
    "\n",
    "dat = dat_index\n",
    "write_tsv(dat, fpath)"
   ]
  },
  {
   "cell_type": "code",
   "execution_count": null,
   "id": "2c020b4b-ffe7-4630-b0d5-ebb7ba1826bd",
   "metadata": {},
   "outputs": [],
   "source": []
  },
  {
   "cell_type": "code",
   "execution_count": null,
   "id": "8756c38e-195a-4826-8506-754e8d6dfff4",
   "metadata": {},
   "outputs": [],
   "source": []
  }
 ],
 "metadata": {
  "kernelspec": {
   "display_name": "R",
   "language": "R",
   "name": "ir"
  },
  "language_info": {
   "codemirror_mode": "r",
   "file_extension": ".r",
   "mimetype": "text/x-r-source",
   "name": "R",
   "pygments_lexer": "r",
   "version": "4.3.1"
  }
 },
 "nbformat": 4,
 "nbformat_minor": 5
}
