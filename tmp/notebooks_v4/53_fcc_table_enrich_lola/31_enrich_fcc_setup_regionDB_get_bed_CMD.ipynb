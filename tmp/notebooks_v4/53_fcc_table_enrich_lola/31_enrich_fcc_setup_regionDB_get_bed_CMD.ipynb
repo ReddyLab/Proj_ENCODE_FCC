{
 "cells": [
  {
   "cell_type": "markdown",
   "id": "3923bbe9-ee5f-496d-98df-2be2b4937688",
   "metadata": {},
   "source": [
    "**Set environment**"
   ]
  },
  {
   "cell_type": "code",
   "execution_count": 1,
   "id": "806af614-b294-41ec-823d-5ab45be9be0b",
   "metadata": {},
   "outputs": [
    {
     "name": "stdout",
     "output_type": "stream",
     "text": [
      "You are on Duke Server: HARDAC\n",
      "BASE DIRECTORY (FD_BASE): /data/reddylab/Kuei\n",
      "WORK DIRECTORY (FD_WORK): /data/reddylab/Kuei/out\n",
      "CODE DIRECTORY (FD_CODE): /data/reddylab/Kuei/code\n",
      "SING DIRECTORY (FD_SING): /data/reddylab/Kuei/singularity\n",
      "PATH OF PROJECT (FD_PRJ): /data/reddylab/Kuei/code/Proj_CombEffect_ENCODE_FCC\n",
      "PATH OF RESULTS (FD_RES): /data/reddylab/Kuei/out/proj_combeffect_encode_fcc\n",
      "PATH OF LOG     (FD_LOG): /data/reddylab/Kuei/out/proj_combeffect_encode_fcc/log\n",
      "\n"
     ]
    }
   ],
   "source": [
    "source ../config/config_duke.sh\n",
    "show_env"
   ]
  },
  {
   "cell_type": "markdown",
   "id": "6a866d60-ae27-4489-9e96-221d0e13f130",
   "metadata": {
    "tags": []
   },
   "source": [
    "## Setup the region folder"
   ]
  },
  {
   "cell_type": "code",
   "execution_count": 2,
   "id": "df5823ed-aeec-4bed-b475-61436ccc905a",
   "metadata": {},
   "outputs": [],
   "source": [
    "FDIRY=${FD_RES}/results/region/KS91_K562_ASTARRseq_peak_macs_input/enrichment_lola\n",
    "FDIRY=${FDIRY}/regionDB_fcc\n",
    "FDIRY=${FDIRY}/encode_fcc_starrmpracrispri\n",
    "mkdir -p ${FDIRY}/regions"
   ]
  },
  {
   "cell_type": "code",
   "execution_count": 3,
   "id": "24a49ef7-0bc4-425f-8fc1-ef8f1f567fa8",
   "metadata": {
    "tags": []
   },
   "outputs": [
    {
     "name": "stdout",
     "output_type": "stream",
     "text": [
      "enrichment_lola\n",
      "\u001b[0m\u001b[38;5;27m.\u001b[0m\n",
      "\u001b[38;5;27m..\u001b[0m\n",
      "\u001b[38;5;27m.ipynb_checkpoints\u001b[0m\n",
      "\u001b[38;5;27mregionDB_fcc\u001b[0m\n",
      "\u001b[38;5;27mregionDB_full\u001b[0m\n",
      "\u001b[38;5;27mregionDB_test\u001b[0m\n",
      "\n",
      "regionDB_fcc\n",
      "\u001b[0m\u001b[38;5;27m.\u001b[0m\n",
      "\u001b[38;5;27m..\u001b[0m\n",
      "\u001b[38;5;27mencode_fcc_starrmpracrispri\u001b[0m\n"
     ]
    }
   ],
   "source": [
    "FDIRY=${FD_RES}/results/region/KS91_K562_ASTARRseq_peak_macs_input/enrichment_lola\n",
    "echo \"enrichment_lola\"\n",
    "ls -1a ${FDIRY}\n",
    "echo\n",
    "\n",
    "FDIRY=${FDIRY}/regionDB_fcc\n",
    "echo \"regionDB_fcc\"\n",
    "ls -1a ${FDIRY}"
   ]
  },
  {
   "cell_type": "code",
   "execution_count": 4,
   "id": "f4af9683-a027-4e6e-a55f-01e4074362ed",
   "metadata": {},
   "outputs": [
    {
     "name": "stdout",
     "output_type": "stream",
     "text": [
      "\u001b[0m\u001b[38;5;27mannotation_ccre\u001b[0m                   \u001b[38;5;27mKS91_K562_ASTARRseq_peak_macs_input\u001b[0m\n",
      "\u001b[38;5;27mannotation_chipseq_histone\u001b[0m        region_screened_crispri_flowfish.bed\n",
      "\u001b[38;5;27mannotation_chipseq_tf\u001b[0m             region_screened_selected.bed\n",
      "\u001b[38;5;27mannotation_chipseq_tf_subset\u001b[0m      \u001b[38;5;9mregion_screened_selected.bed.gz\u001b[0m\n",
      "\u001b[38;5;27mannotation_chromHMM\u001b[0m               region_screened_selected_perbase.bed\n",
      "\u001b[38;5;27mannotation_crispri_growth\u001b[0m         \u001b[38;5;9mregion_screened_selected_perbase.bed.gz\u001b[0m\n",
      "\u001b[38;5;27mannotation_crispri_hcrff\u001b[0m          region_screened_tmpra.bed\n",
      "\u001b[38;5;27mannotation_encode_e2g_benchmark\u001b[0m   region_screened_tmpra_crispr.bed\n",
      "\u001b[38;5;27mannotation_encode_e2g_prediction\u001b[0m  \u001b[38;5;27mtmp\u001b[0m\n",
      "\u001b[38;5;27mannotation_enhancer_junke\u001b[0m         \u001b[38;5;27mz_annotation_enhancer_merge\u001b[0m\n",
      "\u001b[38;5;27mannotation_enhancer_zscore_junke\u001b[0m  \u001b[38;5;27mz_annotation_hic\u001b[0m\n",
      "\u001b[38;5;27mannotation_fcc_table\u001b[0m              \u001b[38;5;27mz_annotation_inactive\u001b[0m\n",
      "\u001b[38;5;27mannotation_gencode\u001b[0m                \u001b[38;5;27mz_annotation_tss_pol2_span\u001b[0m\n",
      "\u001b[38;5;27mannotation_tss_pol2\u001b[0m               \u001b[38;5;27mz_hic_intact_deep\u001b[0m\n",
      "\u001b[38;5;27mhic_intact_deep\u001b[0m                   \u001b[38;5;27mz_hic_intact_ENCSR479XDG\u001b[0m\n",
      "\u001b[38;5;27mhic_intact_ENCSR479XDG\u001b[0m\n"
     ]
    }
   ],
   "source": [
    "FD_REG=${FD_RES}/results/region\n",
    "ls ${FD_REG}"
   ]
  },
  {
   "cell_type": "code",
   "execution_count": 5,
   "id": "6c33c588-0c52-4b1c-9f86-eff7e5096538",
   "metadata": {},
   "outputs": [
    {
     "name": "stdout",
     "output_type": "stream",
     "text": [
      "description.tsv\n",
      "\u001b[0m\u001b[38;5;9menhancer_zscore_junke.inactive.ASTARR.bed.gz\u001b[0m\n",
      "\u001b[38;5;9menhancer_zscore_junke.inactive.ASTARR.merge.bed.gz\u001b[0m\n",
      "\u001b[38;5;9menhancer_zscore_junke.inactive.LMPRA.bed.gz\u001b[0m\n",
      "\u001b[38;5;9menhancer_zscore_junke.inactive.LMPRA.merge.bed.gz\u001b[0m\n",
      "\u001b[38;5;9menhancer_zscore_junke.inactive.TMPRA.bed.gz\u001b[0m\n",
      "\u001b[38;5;9menhancer_zscore_junke.inactive.TMPRA.merge.bed.gz\u001b[0m\n",
      "\u001b[38;5;9menhancer_zscore_junke.inactive.TMPRA_OL13.bed.gz\u001b[0m\n",
      "\u001b[38;5;9menhancer_zscore_junke.inactive.TMPRA_OL43.bed.gz\u001b[0m\n",
      "\u001b[38;5;9menhancer_zscore_junke.inactive.TMPRA_OL45.bed.gz\u001b[0m\n",
      "\u001b[38;5;9menhancer_zscore_junke.inactive.WSTARR.bed.gz\u001b[0m\n",
      "\u001b[38;5;9menhancer_zscore_junke.inactive.WSTARR.merge.bed.gz\u001b[0m\n",
      "\u001b[38;5;9menhancer_zscore_junke.peak.ASTARR_AB.bed.gz\u001b[0m\n",
      "\u001b[38;5;9menhancer_zscore_junke.peak.ASTARR_A.bed.gz\u001b[0m\n",
      "\u001b[38;5;9menhancer_zscore_junke.peak.ASTARR.bed.gz\u001b[0m\n",
      "\u001b[38;5;9menhancer_zscore_junke.peak.ASTARR.merge.bed.gz\u001b[0m\n",
      "\u001b[38;5;9menhancer_zscore_junke.peak.ASTARR_R.bed.gz\u001b[0m\n",
      "\u001b[38;5;9menhancer_zscore_junke.peak.LMPRA_AB.bed.gz\u001b[0m\n",
      "\u001b[38;5;9menhancer_zscore_junke.peak.LMPRA_A.bed.gz\u001b[0m\n",
      "\u001b[38;5;9menhancer_zscore_junke.peak.LMPRA.bed.gz\u001b[0m\n",
      "\u001b[38;5;9menhancer_zscore_junke.peak.LMPRA.merge.bed.gz\u001b[0m\n",
      "\u001b[38;5;9menhancer_zscore_junke.peak.LMPRA_R.bed.gz\u001b[0m\n",
      "\u001b[38;5;9menhancer_zscore_junke.peak.TMPRA_A.bed.gz\u001b[0m\n",
      "\u001b[38;5;9menhancer_zscore_junke.peak.TMPRA.bed.gz\u001b[0m\n",
      "\u001b[38;5;9menhancer_zscore_junke.peak.TMPRA.merge.bed.gz\u001b[0m\n",
      "\u001b[38;5;9menhancer_zscore_junke.peak.TMPRA_R.bed.gz\u001b[0m\n",
      "\u001b[38;5;9menhancer_zscore_junke.peak.WSTARR_AB.bed.gz\u001b[0m\n",
      "\u001b[38;5;9menhancer_zscore_junke.peak.WSTARR_A.bed.gz\u001b[0m\n",
      "\u001b[38;5;9menhancer_zscore_junke.peak.WSTARR.bed.gz\u001b[0m\n",
      "\u001b[38;5;9menhancer_zscore_junke.peak.WSTARR.merge.bed.gz\u001b[0m\n",
      "\u001b[38;5;9menhancer_zscore_junke.peak.WSTARR_R.bed.gz\u001b[0m\n",
      "\u001b[38;5;27mtmp\u001b[0m\n"
     ]
    }
   ],
   "source": [
    "FD_REG=${FD_RES}/results/region\n",
    "ls ${FD_REG}/annotation_enhancer_zscore_junke"
   ]
  },
  {
   "cell_type": "code",
   "execution_count": 6,
   "id": "eba71f4c-ac36-40a5-94f2-23f9eb7dda5e",
   "metadata": {},
   "outputs": [],
   "source": [
    "FD_REG=${FD_RES}/results/region\n",
    "\n",
    "FOLDER_ANNOT=annotation_enhancer_zscore_junke\n",
    "FD_INP=${FD_REG}/${FOLDER_ANNOT}\n",
    "\n",
    "FOLDER_REGDB=regionDB_fcc\n",
    "FOLDER_GROUP=encode_fcc_starrmpracrispri\n",
    "FD_OUT=${FD_REG}/KS91_K562_ASTARRseq_peak_macs_input/enrichment_lola/${FOLDER_REGDB}/${FOLDER_GROUP}/regions"
   ]
  },
  {
   "cell_type": "code",
   "execution_count": 10,
   "id": "4cd575cd-62f4-4ed2-b9f2-d06368b03601",
   "metadata": {},
   "outputs": [
    {
     "name": "stdout",
     "output_type": "stream",
     "text": [
      "19\n",
      "enhancer_zscore_junke.peak.ASTARR_AB.bed.gz\n"
     ]
    }
   ],
   "source": [
    "FP_INPS=($(ls ${FD_INP}/*peak*bed.gz))\n",
    "echo ${#FP_INPS[@]}\n",
    "\n",
    "basename -a ${FP_INPS}"
   ]
  },
  {
   "cell_type": "code",
   "execution_count": 8,
   "id": "40e1c292-ce3d-47b5-97fb-e4c5613edb15",
   "metadata": {},
   "outputs": [
    {
     "name": "stdout",
     "output_type": "stream",
     "text": [
      "19\n",
      "enhancer_zscore_junke.peak.ASTARR_AB.bed.gz\n",
      "enhancer_zscore_junke.peak.ASTARR_A.bed.gz\n",
      "enhancer_zscore_junke.peak.ASTARR.bed.gz\n",
      "enhancer_zscore_junke.peak.ASTARR.merge.bed.gz\n",
      "enhancer_zscore_junke.peak.ASTARR_R.bed.gz\n",
      "enhancer_zscore_junke.peak.LMPRA_AB.bed.gz\n",
      "enhancer_zscore_junke.peak.LMPRA_A.bed.gz\n",
      "enhancer_zscore_junke.peak.LMPRA.bed.gz\n",
      "enhancer_zscore_junke.peak.LMPRA.merge.bed.gz\n",
      "enhancer_zscore_junke.peak.LMPRA_R.bed.gz\n",
      "enhancer_zscore_junke.peak.TMPRA_A.bed.gz\n",
      "enhancer_zscore_junke.peak.TMPRA.bed.gz\n",
      "enhancer_zscore_junke.peak.TMPRA.merge.bed.gz\n",
      "enhancer_zscore_junke.peak.TMPRA_R.bed.gz\n",
      "enhancer_zscore_junke.peak.WSTARR_AB.bed.gz\n",
      "enhancer_zscore_junke.peak.WSTARR_A.bed.gz\n",
      "enhancer_zscore_junke.peak.WSTARR.bed.gz\n",
      "enhancer_zscore_junke.peak.WSTARR.merge.bed.gz\n",
      "enhancer_zscore_junke.peak.WSTARR_R.bed.gz\n"
     ]
    }
   ],
   "source": [
    "ls ${FD_INP}/*peak*bed.gz | | wc -l\n",
    "ls ${FD_INP}/*peak*bed.gz | xargs -n 1 basename"
   ]
  },
  {
   "cell_type": "code",
   "execution_count": null,
   "id": "55ae2b72-fff6-4e36-a4fe-e0d0ea989526",
   "metadata": {},
   "outputs": [],
   "source": []
  },
  {
   "cell_type": "code",
   "execution_count": null,
   "id": "7872aa58-2791-4680-9d2b-d959cf0b6e19",
   "metadata": {},
   "outputs": [],
   "source": []
  },
  {
   "cell_type": "code",
   "execution_count": null,
   "id": "cf6ad9b2-f4fa-4788-8afa-f161008fce37",
   "metadata": {},
   "outputs": [],
   "source": []
  }
 ],
 "metadata": {
  "kernelspec": {
   "display_name": "Bash",
   "language": "bash",
   "name": "bash"
  },
  "language_info": {
   "codemirror_mode": "shell",
   "file_extension": ".sh",
   "mimetype": "text/x-sh",
   "name": "bash"
  }
 },
 "nbformat": 4,
 "nbformat_minor": 5
}
