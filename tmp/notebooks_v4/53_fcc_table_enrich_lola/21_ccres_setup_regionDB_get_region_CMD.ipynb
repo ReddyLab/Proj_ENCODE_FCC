{
 "cells": [
  {
   "cell_type": "markdown",
   "id": "0b84c871-9117-4d2c-80bb-f840e21febd5",
   "metadata": {},
   "source": [
    "**Set environment**"
   ]
  },
  {
   "cell_type": "code",
   "execution_count": 1,
   "id": "0c1dd4dd-8540-47ba-ae2b-8076b13d5ce4",
   "metadata": {},
   "outputs": [
    {
     "name": "stdout",
     "output_type": "stream",
     "text": [
      "You are on Duke Server: HARDAC\n",
      "BASE DIRECTORY (FD_BASE): /data/reddylab/Kuei\n",
      "WORK DIRECTORY (FD_WORK): /data/reddylab/Kuei/out\n",
      "CODE DIRECTORY (FD_CODE): /data/reddylab/Kuei/code\n",
      "SING DIRECTORY (FD_SING): /data/reddylab/Kuei/singularity\n",
      "PATH OF PROJECT (FD_PRJ): /data/reddylab/Kuei/code/Proj_CombEffect_ENCODE_FCC\n",
      "PATH OF RESULTS (FD_RES): /data/reddylab/Kuei/out/proj_combeffect_encode_fcc\n",
      "PATH OF LOG     (FD_LOG): /data/reddylab/Kuei/out/proj_combeffect_encode_fcc/log\n",
      "\n"
     ]
    }
   ],
   "source": [
    "source ../config/config_duke.sh\n",
    "show_env"
   ]
  },
  {
   "cell_type": "markdown",
   "id": "7aa13851-cec6-488b-b4e8-4c23b091f125",
   "metadata": {},
   "source": [
    "**Check data**"
   ]
  },
  {
   "cell_type": "code",
   "execution_count": 2,
   "id": "246b4d66-5208-4873-8858-99dabb568b98",
   "metadata": {},
   "outputs": [
    {
     "name": "stdout",
     "output_type": "stream",
     "text": [
      "\u001b[0m\u001b[38;5;9mK562.ENCSR913HQX.ENCFF286VQG.ccres.CA_CTCF.bed.gz\u001b[0m\n",
      "\u001b[38;5;9mK562.ENCSR913HQX.ENCFF286VQG.ccres.CA_H3K4me3.bed.gz\u001b[0m\n",
      "\u001b[38;5;9mK562.ENCSR913HQX.ENCFF286VQG.ccres.CA_only.bed.gz\u001b[0m\n",
      "\u001b[38;5;9mK562.ENCSR913HQX.ENCFF286VQG.ccres.cat2name.bed.gz\u001b[0m\n",
      "\u001b[38;5;9mK562.ENCSR913HQX.ENCFF286VQG.ccres.CA_TF.bed.gz\u001b[0m\n",
      "\u001b[38;5;9mK562.ENCSR913HQX.ENCFF286VQG.ccres.dELS.bed.gz\u001b[0m\n",
      "\u001b[38;5;9mK562.ENCSR913HQX.ENCFF286VQG.ccres.Low_DNase.bed.gz\u001b[0m\n",
      "\u001b[38;5;9mK562.ENCSR913HQX.ENCFF286VQG.ccres.pELS.bed.gz\u001b[0m\n",
      "\u001b[38;5;9mK562.ENCSR913HQX.ENCFF286VQG.ccres.PLS.bed.gz\u001b[0m\n"
     ]
    }
   ],
   "source": [
    "FDIRY=${FD_RES}/results/region/annotation_ccre/summary\n",
    "ls ${FDIRY}"
   ]
  },
  {
   "cell_type": "code",
   "execution_count": 8,
   "id": "a93c7a96-de88-4dae-bea2-35d5f6e6a785",
   "metadata": {},
   "outputs": [
    {
     "name": "stdout",
     "output_type": "stream",
     "text": [
      "\u001b[0m\u001b[38;5;27mencode_chipseq_tf_k562\u001b[0m\n"
     ]
    }
   ],
   "source": [
    "ls ${FD_RES}/results/region/KS91_K562_ASTARRseq_peak_macs_input/enrichment_lola/regionDB_full"
   ]
  },
  {
   "cell_type": "code",
   "execution_count": 7,
   "id": "7d7019d5-a6cf-480f-89de-a73ed103ce36",
   "metadata": {},
   "outputs": [],
   "source": [
    "rm -rf ${FD_RES}/results/region/KS91_K562_ASTARRseq_peak_macs_input/enrichment_lola/regionDB_full/encode_ccres"
   ]
  },
  {
   "cell_type": "markdown",
   "id": "b13024c1-100d-4c4e-a02a-f7324773e6bb",
   "metadata": {
    "tags": []
   },
   "source": [
    "## Setup the region folder"
   ]
  },
  {
   "cell_type": "code",
   "execution_count": 3,
   "id": "65e59275-51a1-42b2-ac1d-6a62d8a4ed5d",
   "metadata": {},
   "outputs": [],
   "source": [
    "FOLDER_REGION_COLLECT=regionDB_full\n",
    "FOLDER_REGION_ANNOT_INP=annotation_ccre/summary\n",
    "FOLDER_REGION_ANNOT_OUT=encode_ccres/regions"
   ]
  },
  {
   "cell_type": "code",
   "execution_count": 11,
   "id": "26779cf9-bc75-41ad-95a7-f19bfe19a8f0",
   "metadata": {},
   "outputs": [],
   "source": [
    "FDIRY=${FD_RES}/results/region/KS91_K562_ASTARRseq_peak_macs_input/enrichment_lola\n",
    "FDIRY=${FDIRY}/${FOLDER_REGION_COLLECT}\n",
    "FDIRY=${FDIRY}/${FOLDER_REGION_ANNOT_OUT}\n",
    "mkdir -p ${FDIRY}"
   ]
  },
  {
   "cell_type": "markdown",
   "id": "d30ef7e7-02ee-42e6-bbcb-6188767ab39d",
   "metadata": {},
   "source": [
    "## Link files"
   ]
  },
  {
   "cell_type": "code",
   "execution_count": 12,
   "id": "3f65ff7d-b98b-4600-93e3-f7cf9da8efa0",
   "metadata": {},
   "outputs": [],
   "source": [
    "### init\n",
    "FD_REG=${FD_RES}/results/region\n",
    "\n",
    "###\n",
    "FD_INP=${FD_REG}/${FOLDER_REGION_ANNOT_INP}\n",
    "\n",
    "###\n",
    "FDIRY=${FD_REG}\n",
    "FDIRY=${FDIRY}/KS91_K562_ASTARRseq_peak_macs_input/enrichment_lola\n",
    "FDIRY=${FDIRY}/${FOLDER_REGION_COLLECT}\n",
    "FDIRY=${FDIRY}/${FOLDER_REGION_ANNOT_OUT}\n",
    "FD_OUT=${FDIRY}"
   ]
  },
  {
   "cell_type": "code",
   "execution_count": 14,
   "id": "565c04c5-a022-456e-b653-f28fd9d72ae1",
   "metadata": {},
   "outputs": [
    {
     "name": "stdout",
     "output_type": "stream",
     "text": [
      "/data/reddylab/Kuei/out/proj_combeffect_encode_fcc/results/region/annotation_ccre/summary\n",
      "\n",
      "/data/reddylab/Kuei/out/proj_combeffect_encode_fcc/results/region/KS91_K562_ASTARRseq_peak_macs_input/enrichment_lola/regionDB_full/encode_ccres/regions\n"
     ]
    }
   ],
   "source": [
    "echo ${FD_INP}\n",
    "echo\n",
    "echo ${FD_OUT}"
   ]
  },
  {
   "cell_type": "code",
   "execution_count": 16,
   "id": "cdb1bd5a-f785-441b-bfcd-e78feba3924a",
   "metadata": {},
   "outputs": [
    {
     "name": "stdout",
     "output_type": "stream",
     "text": [
      "9\n",
      "\n",
      "K562.ENCSR913HQX.ENCFF286VQG.ccres.CA_CTCF.bed.gz\n",
      "K562.ENCSR913HQX.ENCFF286VQG.ccres.CA_H3K4me3.bed.gz\n",
      "K562.ENCSR913HQX.ENCFF286VQG.ccres.CA_only.bed.gz\n",
      "K562.ENCSR913HQX.ENCFF286VQG.ccres.cat2name.bed.gz\n",
      "K562.ENCSR913HQX.ENCFF286VQG.ccres.CA_TF.bed.gz\n",
      "K562.ENCSR913HQX.ENCFF286VQG.ccres.dELS.bed.gz\n",
      "K562.ENCSR913HQX.ENCFF286VQG.ccres.Low_DNase.bed.gz\n",
      "K562.ENCSR913HQX.ENCFF286VQG.ccres.pELS.bed.gz\n",
      "K562.ENCSR913HQX.ENCFF286VQG.ccres.PLS.bed.gz\n",
      "\n",
      "K562.ENCSR913HQX.ENCFF286VQG.ccres.CA_CTCF.bed.gz\n",
      "K562.ENCSR913HQX.ENCFF286VQG.ccres.CA_H3K4me3.bed.gz\n",
      "K562.ENCSR913HQX.ENCFF286VQG.ccres.CA_only.bed.gz\n",
      "K562.ENCSR913HQX.ENCFF286VQG.ccres.CA_TF.bed.gz\n",
      "K562.ENCSR913HQX.ENCFF286VQG.ccres.dELS.bed.gz\n",
      "K562.ENCSR913HQX.ENCFF286VQG.ccres.Low_DNase.bed.gz\n",
      "K562.ENCSR913HQX.ENCFF286VQG.ccres.pELS.bed.gz\n",
      "K562.ENCSR913HQX.ENCFF286VQG.ccres.PLS.bed.gz\n"
     ]
    }
   ],
   "source": [
    "ls ${FD_INP}/*bed.gz | wc -l\n",
    "echo\n",
    "ls ${FD_INP}/*bed.gz | xargs -n 1 basename\n",
    "echo\n",
    "ls ${FD_INP}/*bed.gz | grep -v cat2name | xargs -n 1 basename"
   ]
  },
  {
   "cell_type": "code",
   "execution_count": 17,
   "id": "176af8a8-ddfa-45f1-a104-f55dec0a605c",
   "metadata": {},
   "outputs": [
    {
     "name": "stdout",
     "output_type": "stream",
     "text": [
      "K562.ENCSR913HQX.ENCFF286VQG.ccres.CA_CTCF.bed.gz\n"
     ]
    }
   ],
   "source": [
    "FP_INPS=($(ls ${FD_INP}/*bed.gz | grep -v cat2name))\n",
    "basename -a ${FP_INPS}"
   ]
  },
  {
   "cell_type": "code",
   "execution_count": null,
   "id": "2a582bd1-424e-4056-9adb-93b8e8991be8",
   "metadata": {},
   "outputs": [],
   "source": [
    "bash -c \"ln -sf ${FD_INP}/*bed.gz ${FD_OUT}\"\n",
    "ls ${FD_OUT} | wc -l\n",
    "ls ${FD_OUT} | head"
   ]
  }
 ],
 "metadata": {
  "kernelspec": {
   "display_name": "Bash",
   "language": "bash",
   "name": "bash"
  },
  "language_info": {
   "codemirror_mode": "shell",
   "file_extension": ".sh",
   "mimetype": "text/x-sh",
   "name": "bash"
  }
 },
 "nbformat": 4,
 "nbformat_minor": 5
}
