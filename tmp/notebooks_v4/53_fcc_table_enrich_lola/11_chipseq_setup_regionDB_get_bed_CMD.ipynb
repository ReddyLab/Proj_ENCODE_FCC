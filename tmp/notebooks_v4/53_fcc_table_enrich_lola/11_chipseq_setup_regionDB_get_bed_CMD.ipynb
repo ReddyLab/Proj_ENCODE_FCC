{
 "cells": [
  {
   "cell_type": "markdown",
   "id": "be8d204c-8c04-47d1-8d91-ee893ffe3b90",
   "metadata": {},
   "source": [
    "**Set environment**"
   ]
  },
  {
   "cell_type": "code",
   "execution_count": 1,
   "id": "6fb73415-6003-4f38-aa84-0fc1c9be2a21",
   "metadata": {},
   "outputs": [
    {
     "name": "stdout",
     "output_type": "stream",
     "text": [
      "You are on Duke Server: HARDAC\n",
      "BASE DIRECTORY (FD_BASE): /data/reddylab/Kuei\n",
      "WORK DIRECTORY (FD_WORK): /data/reddylab/Kuei/out\n",
      "CODE DIRECTORY (FD_CODE): /data/reddylab/Kuei/code\n",
      "SING DIRECTORY (FD_SING): /data/reddylab/Kuei/singularity\n",
      "PATH OF PROJECT (FD_PRJ): /data/reddylab/Kuei/code/Proj_CombEffect_ENCODE_FCC\n",
      "PATH OF RESULTS (FD_RES): /data/reddylab/Kuei/out/proj_combeffect_encode_fcc\n",
      "PATH OF LOG     (FD_LOG): /data/reddylab/Kuei/out/proj_combeffect_encode_fcc/log\n",
      "\n"
     ]
    }
   ],
   "source": [
    "source ../config/config_duke.sh\n",
    "show_env"
   ]
  },
  {
   "cell_type": "markdown",
   "id": "0ab81832-4f6c-4d0d-b104-9176f133ac5d",
   "metadata": {
    "tags": []
   },
   "source": [
    "## Setup the region folder"
   ]
  },
  {
   "cell_type": "code",
   "execution_count": 12,
   "id": "1a8cf1ee-0a3f-45cd-b913-28189ad78497",
   "metadata": {},
   "outputs": [],
   "source": [
    "FDIRY=${FD_RES}/results/region/KS91_K562_ASTARRseq_peak_macs_input/enrichment_lola\n",
    "FDIRY=${FDIRY}/regionDB_full\n",
    "FDIRY=${FDIRY}/encode_chipseq_tf_k562\n",
    "mkdir -p ${FDIRY}/regions"
   ]
  },
  {
   "cell_type": "code",
   "execution_count": 13,
   "id": "b1e0c97b-651f-413b-9e79-64475f2681ca",
   "metadata": {
    "tags": []
   },
   "outputs": [
    {
     "name": "stdout",
     "output_type": "stream",
     "text": [
      "enrichment_lola\n",
      "\u001b[0m\u001b[38;5;27m.\u001b[0m\n",
      "\u001b[38;5;27m..\u001b[0m\n",
      "\u001b[38;5;27mregionDB_full\u001b[0m\n",
      "\u001b[38;5;27mregionDB_test\u001b[0m\n",
      "\n",
      "regionDB_full\n",
      "\u001b[0m\u001b[38;5;27m.\u001b[0m\n",
      "\u001b[38;5;27m..\u001b[0m\n",
      "\u001b[38;5;27mencode_chipseq_tf_k562\u001b[0m\n"
     ]
    }
   ],
   "source": [
    "FDIRY=${FD_RES}/results/region/KS91_K562_ASTARRseq_peak_macs_input/enrichment_lola\n",
    "echo \"enrichment_lola\"\n",
    "ls -1a ${FDIRY}\n",
    "echo\n",
    "\n",
    "FDIRY=${FDIRY}/regionDB_full\n",
    "echo \"regionDB_full\"\n",
    "ls -1a ${FDIRY}"
   ]
  },
  {
   "cell_type": "code",
   "execution_count": 14,
   "id": "68b7b469-3804-44ac-9a18-d187d153f0d6",
   "metadata": {},
   "outputs": [
    {
     "name": "stdout",
     "output_type": "stream",
     "text": [
      "File exist\n"
     ]
    }
   ],
   "source": [
    "FDIRY=${FD_RES}\n",
    "FDIRY=${FDIRY}/results/region/KS91_K562_ASTARRseq_peak_macs_input/enrichment_lola\n",
    "FDIRY=${FDIRY}/regionDB_full\n",
    "\n",
    "if test -d ${FDIRY}; then\n",
    "    echo \"File exist\"\n",
    "fi"
   ]
  },
  {
   "cell_type": "code",
   "execution_count": 15,
   "id": "959faa13-97fc-4fdf-ba80-d18d819e1e9d",
   "metadata": {},
   "outputs": [],
   "source": [
    "FDIRY=${FD_RES}\n",
    "FDIRY=${FDIRY}/results/region/KS91_K562_ASTARRseq_peak_macs_input/enrichment_lola\n",
    "FDIRY=${FDIRY}/.ipynb_checkpoints\n",
    "\n",
    "if test -d ${FDIRY}; then\n",
    "    echo \".ipynb_checkpoints exist\"\n",
    "    rm -rf ${FDIRY}\n",
    "fi"
   ]
  },
  {
   "cell_type": "code",
   "execution_count": 16,
   "id": "7c4d0872-a32b-4898-9e3e-d4553d83e1b4",
   "metadata": {},
   "outputs": [
    {
     "name": "stdout",
     "output_type": "stream",
     "text": [
      "FOLDER: encode_chipseq_tf_k562\n",
      "\u001b[0m\u001b[38;5;27m.\u001b[0m\n",
      "\u001b[38;5;27m..\u001b[0m\n",
      "\u001b[38;5;27mregions\u001b[0m\n"
     ]
    }
   ],
   "source": [
    "FDIRY=${FD_RES}\n",
    "FDIRY=${FDIRY}/results/region/KS91_K562_ASTARRseq_peak_macs_input/enrichment_lola\n",
    "FDIRY=${FDIRY}/regionDB_full\n",
    "FDIRY=${FDIRY}/encode_chipseq_tf_k562\n",
    "\n",
    "echo \"FOLDER: encode_chipseq_tf_k562\"\n",
    "ls -1a ${FDIRY}"
   ]
  },
  {
   "cell_type": "markdown",
   "id": "62782ea2-3104-42ad-82ff-f205e1e5390d",
   "metadata": {},
   "source": [
    "```\n",
    "FDIRY=${FD_RES}/results/region/KS91_K562_ASTARRseq_peak_macs_input/enrichment_lola/regionDB/encode_chipseq_tf_k562\n",
    "rm -rf ${FDIRY}/.ipynb_checkpoints\n",
    "```"
   ]
  },
  {
   "cell_type": "markdown",
   "id": "86833d81-c50c-4961-a9e9-eba37fafb608",
   "metadata": {},
   "source": [
    "## get multiple ChIP-seq files"
   ]
  },
  {
   "cell_type": "code",
   "execution_count": 18,
   "id": "dd226fdc-e771-4d81-8dbb-6206cdf15e8d",
   "metadata": {},
   "outputs": [],
   "source": [
    "FD_REG=${FD_RES}/results/region\n",
    "\n",
    "FOLDER_ANNOT=annotation_chipseq_tf\n",
    "FD_INP=${FD_REG}/${FOLDER_ANNOT}\n",
    "\n",
    "FOLDER_REGDB=regionDB_full\n",
    "FOLDER_GROUP=encode_chipseq_tf_k562\n",
    "FD_OUT=${FD_REG}/KS91_K562_ASTARRseq_peak_macs_input/enrichment_lola/${FOLDER_REGDB}/${FOLDER_GROUP}/regions"
   ]
  },
  {
   "cell_type": "code",
   "execution_count": 19,
   "id": "18f80511-0c04-4543-b941-1cd3896b3e5e",
   "metadata": {},
   "outputs": [
    {
     "name": "stdout",
     "output_type": "stream",
     "text": [
      "/data/reddylab/Kuei/out/proj_combeffect_encode_fcc/results/region/annotation_chipseq_tf/*bed.gz\n"
     ]
    }
   ],
   "source": [
    "echo \"${FD_INP}/*bed.gz\" "
   ]
  },
  {
   "cell_type": "code",
   "execution_count": 20,
   "id": "91842d82-cc99-4fde-981b-4a7b020b7518",
   "metadata": {},
   "outputs": [
    {
     "name": "stdout",
     "output_type": "stream",
     "text": [
      "/data/reddylab/Kuei/out/proj_combeffect_encode_fcc/results/region/KS91_K562_ASTARRseq_peak_macs_input/enrichment_lola/regionDB_full/encode_chipseq_tf_k562/regions\n"
     ]
    }
   ],
   "source": [
    "echo \"${FD_OUT}\" "
   ]
  },
  {
   "cell_type": "code",
   "execution_count": 24,
   "id": "8d1e35fd-ffb1-4a1d-b7ff-9e6083413523",
   "metadata": {},
   "outputs": [
    {
     "name": "stdout",
     "output_type": "stream",
     "text": [
      "735\n",
      "K562.ENCSR000AKO.ENCFF769AUF.CTCF.bed.gz\n",
      "K562.ENCSR000AQA.ENCFF807FNB.KDM5B.bed.gz\n",
      "K562.ENCSR000AQD.ENCFF408NUX.CHD1.bed.gz\n",
      "K562.ENCSR000AQE.ENCFF804RVA.EZH2.bed.gz\n",
      "K562.ENCSR000AQF.ENCFF669MJX.HDAC1.bed.gz\n",
      "K562.ENCSR000AQG.ENCFF182MPT.HDAC2.bed.gz\n",
      "K562.ENCSR000AQH.ENCFF981ISM.PHF8.bed.gz\n",
      "K562.ENCSR000AQI.ENCFF942VGF.RBBP5.bed.gz\n",
      "K562.ENCSR000AQJ.ENCFF383IEP.SAP30.bed.gz\n",
      "K562.ENCSR000ATJ.ENCFF736FGN.HDAC6.bed.gz\n"
     ]
    }
   ],
   "source": [
    "ls ${FD_INP}/*bed.gz | wc -l\n",
    "ls ${FD_INP}/*bed.gz | head | xargs -n 1 basename"
   ]
  },
  {
   "cell_type": "code",
   "execution_count": 25,
   "id": "660d80f7-fef0-4309-89e1-1ea3aa1d3d99",
   "metadata": {},
   "outputs": [
    {
     "name": "stdout",
     "output_type": "stream",
     "text": [
      "735\n",
      "K562.ENCSR000AKO.ENCFF769AUF.CTCF.bed.gz\n",
      "K562.ENCSR000AQA.ENCFF807FNB.KDM5B.bed.gz\n",
      "K562.ENCSR000AQD.ENCFF408NUX.CHD1.bed.gz\n",
      "K562.ENCSR000AQE.ENCFF804RVA.EZH2.bed.gz\n",
      "K562.ENCSR000AQF.ENCFF669MJX.HDAC1.bed.gz\n",
      "K562.ENCSR000AQG.ENCFF182MPT.HDAC2.bed.gz\n",
      "K562.ENCSR000AQH.ENCFF981ISM.PHF8.bed.gz\n",
      "K562.ENCSR000AQI.ENCFF942VGF.RBBP5.bed.gz\n",
      "K562.ENCSR000AQJ.ENCFF383IEP.SAP30.bed.gz\n",
      "K562.ENCSR000ATJ.ENCFF736FGN.HDAC6.bed.gz\n"
     ]
    }
   ],
   "source": [
    "bash -c \"ln -sf ${FD_INP}/*bed.gz ${FD_OUT}\"\n",
    "ls ${FD_OUT} | wc -l\n",
    "ls ${FD_OUT} | head"
   ]
  },
  {
   "cell_type": "code",
   "execution_count": 26,
   "id": "9a3557ca-61ce-4bdf-82f6-b05de8520891",
   "metadata": {},
   "outputs": [
    {
     "name": "stdout",
     "output_type": "stream",
     "text": [
      "total 735\n",
      "lrwxrwxrwx 1 kk319 reddylab 128 Oct 24 18:13 K562.ENCSR000AKO.ENCFF769AUF.CTCF.bed.gz -> /data/reddylab/Kuei/out/proj_combeffect_encode_fcc/results/region/annotation_chipseq_tf/K562.ENCSR000AKO.ENCFF769AUF.CTCF.bed.gz\n",
      "lrwxrwxrwx 1 kk319 reddylab 129 Oct 24 18:13 K562.ENCSR000AQA.ENCFF807FNB.KDM5B.bed.gz -> /data/reddylab/Kuei/out/proj_combeffect_encode_fcc/results/region/annotation_chipseq_tf/K562.ENCSR000AQA.ENCFF807FNB.KDM5B.bed.gz\n",
      "lrwxrwxrwx 1 kk319 reddylab 128 Oct 24 18:13 K562.ENCSR000AQD.ENCFF408NUX.CHD1.bed.gz -> /data/reddylab/Kuei/out/proj_combeffect_encode_fcc/results/region/annotation_chipseq_tf/K562.ENCSR000AQD.ENCFF408NUX.CHD1.bed.gz\n",
      "lrwxrwxrwx 1 kk319 reddylab 128 Oct 24 18:13 K562.ENCSR000AQE.ENCFF804RVA.EZH2.bed.gz -> /data/reddylab/Kuei/out/proj_combeffect_encode_fcc/results/region/annotation_chipseq_tf/K562.ENCSR000AQE.ENCFF804RVA.EZH2.bed.gz\n",
      "lrwxrwxrwx 1 kk319 reddylab 129 Oct 24 18:13 K562.ENCSR000AQF.ENCFF669MJX.HDAC1.bed.gz -> /data/reddylab/Kuei/out/proj_combeffect_encode_fcc/results/region/annotation_chipseq_tf/K562.ENCSR000AQF.ENCFF669MJX.HDAC1.bed.gz\n",
      "lrwxrwxrwx 1 kk319 reddylab 129 Oct 24 18:13 K562.ENCSR000AQG.ENCFF182MPT.HDAC2.bed.gz -> /data/reddylab/Kuei/out/proj_combeffect_encode_fcc/results/region/annotation_chipseq_tf/K562.ENCSR000AQG.ENCFF182MPT.HDAC2.bed.gz\n",
      "lrwxrwxrwx 1 kk319 reddylab 128 Oct 24 18:13 K562.ENCSR000AQH.ENCFF981ISM.PHF8.bed.gz -> /data/reddylab/Kuei/out/proj_combeffect_encode_fcc/results/region/annotation_chipseq_tf/K562.ENCSR000AQH.ENCFF981ISM.PHF8.bed.gz\n",
      "lrwxrwxrwx 1 kk319 reddylab 129 Oct 24 18:13 K562.ENCSR000AQI.ENCFF942VGF.RBBP5.bed.gz -> /data/reddylab/Kuei/out/proj_combeffect_encode_fcc/results/region/annotation_chipseq_tf/K562.ENCSR000AQI.ENCFF942VGF.RBBP5.bed.gz\n",
      "lrwxrwxrwx 1 kk319 reddylab 129 Oct 24 18:13 K562.ENCSR000AQJ.ENCFF383IEP.SAP30.bed.gz -> /data/reddylab/Kuei/out/proj_combeffect_encode_fcc/results/region/annotation_chipseq_tf/K562.ENCSR000AQJ.ENCFF383IEP.SAP30.bed.gz\n"
     ]
    }
   ],
   "source": [
    "ls -l ${FD_OUT} | head"
   ]
  },
  {
   "cell_type": "code",
   "execution_count": null,
   "id": "fcbdb4a1-c091-4280-8ca8-3e72835d101d",
   "metadata": {},
   "outputs": [],
   "source": []
  },
  {
   "cell_type": "markdown",
   "id": "f202fd49-daeb-4b4b-a88f-ed3582cc720e",
   "metadata": {},
   "source": [
    "**Check errors**"
   ]
  },
  {
   "cell_type": "code",
   "execution_count": 37,
   "id": "755c18aa-f658-415a-8e71-5a37bd77e216",
   "metadata": {},
   "outputs": [
    {
     "name": "stdout",
     "output_type": "stream",
     "text": [
      "lrwxrwxrwx 1 kk319 reddylab 118 Oct 24 18:13 \u001b[0m\u001b[38;5;51m/data/reddylab/Kuei/out/proj_combeffect_encode_fcc/results/region/KS91_K562_ASTARRseq_peak_macs_input/enrichment_lola/regionDB_full/encode_chipseq_tf_k562/regions/K562.ENCSR000DKB.NA.FOS.bed.gz\u001b[0m\u001b[K -> \u001b[38;5;9m/data/reddylab/Kuei/out/proj_combeffect_encode_fcc/results/region/annotation_chipseq_tf/K562.ENCSR000DKB.NA.FOS.bed.gz\u001b[0m\u001b[K\n"
     ]
    }
   ],
   "source": [
    "FDIRY=${FD_RES}/results/region\n",
    "FDIRY=${FDIRY}/KS91_K562_ASTARRseq_peak_macs_input\n",
    "FDIRY=${FDIRY}/enrichment_lola\n",
    "FDIRY=${FDIRY}/regionDB_full\n",
    "FDIRY=${FDIRY}/encode_chipseq_tf_k562\n",
    "FDIRY=${FDIRY}/regions\n",
    "FNAME=K562.ENCSR000DKB.NA.FOS.bed.gz\n",
    "FPATH=${FDIRY}/${FNAME}\n",
    "ls -l ${FPATH}"
   ]
  },
  {
   "cell_type": "code",
   "execution_count": 40,
   "id": "50427a21-841f-4e16-8ee3-406021402537",
   "metadata": {},
   "outputs": [
    {
     "name": "stdout",
     "output_type": "stream",
     "text": [
      "-rw-rw-r-- 1 kk319 reddylab 273310 Apr 20  2023 \u001b[0m\u001b[38;5;9m/data/reddylab/Kuei/out/proj_combeffect_encode_fcc/results/region/annotation_chipseq_tf/K562.ENCSR000AQJ.ENCFF383IEP.SAP30.bed.gz\u001b[0m\u001b[K\n",
      "chr1\t911254\t911738\t.\t600\t.\t11.11371\t-1.00000\t2.56144\t242\n",
      "chr1\t911475\t911959\t.\t600\t.\t4.61415\t-1.00000\t0.58847\t242\n",
      "chr1\t959060\t959339\t.\t1000\t.\t53.71987\t-1.00000\t3.59251\t135\n",
      "chr1\t999081\t999565\t.\t674\t.\t20.71436\t-1.00000\t3.27872\t242\n",
      "chr1\t1000705\t1001189\t.\t584\t.\t19.07766\t-1.00000\t3.34688\t242\n",
      "chr1\t1013199\t1013326\t.\t1000\t.\t30.10957\t-1.00000\t3.32339\t98\n",
      "chr1\t1013286\t1013770\t.\t798\t.\t27.77659\t-1.00000\t3.39533\t242\n",
      "chr1\t1020056\t1020540\t.\t1000\t.\t29.31428\t-1.00000\t3.34524\t242\n",
      "chr1\t1020850\t1021334\t.\t854\t.\t25.26099\t-1.00000\t3.26383\t242\n",
      "chr1\t1057986\t1058470\t.\t593\t.\t12.72297\t-1.00000\t2.77213\t242\n"
     ]
    }
   ],
   "source": [
    "FPATH=/data/reddylab/Kuei/out/proj_combeffect_encode_fcc/results/region/annotation_chipseq_tf/K562.ENCSR000AQJ.ENCFF383IEP.SAP30.bed.gz\n",
    "ls -l ${FPATH} \n",
    "zcat ${FPATH} | head"
   ]
  },
  {
   "cell_type": "code",
   "execution_count": 41,
   "id": "1cd47181-fcc1-4774-a3ea-a8ec89a347c2",
   "metadata": {},
   "outputs": [
    {
     "name": "stdout",
     "output_type": "stream",
     "text": [
      "-rw-rw-r-- 1 kk319 reddylab 20 Apr 20  2023 \u001b[0m\u001b[38;5;9m/data/reddylab/Kuei/out/proj_combeffect_encode_fcc/results/region/annotation_chipseq_tf/K562.ENCSR000DKB.NA.FOS.bed.gz\u001b[0m\u001b[K\n"
     ]
    }
   ],
   "source": [
    "FPATH=/data/reddylab/Kuei/out/proj_combeffect_encode_fcc/results/region/annotation_chipseq_tf/K562.ENCSR000DKB.NA.FOS.bed.gz\n",
    "ls -l ${FPATH} \n",
    "zcat ${FPATH} | head"
   ]
  },
  {
   "cell_type": "code",
   "execution_count": 31,
   "id": "1d85bad7-1181-44a0-8424-32b0d305df47",
   "metadata": {},
   "outputs": [
    {
     "name": "stdout",
     "output_type": "stream",
     "text": [
      "/data/reddylab/Kuei/out/proj_combeffect_encode_fcc/region/KS91_K562_ASTARRseq_peak_macs_input/enrichment_lola/regionDB_full/encode_chipseq_tf_k562/regions\n"
     ]
    }
   ],
   "source": [
    "echo ${FDIRY}"
   ]
  },
  {
   "cell_type": "code",
   "execution_count": 34,
   "id": "ed33ecf9-6a72-4fee-923b-7ead61613d69",
   "metadata": {},
   "outputs": [
    {
     "name": "stdout",
     "output_type": "stream",
     "text": [
      "\u001b[0m\u001b[38;5;27mencode_chipseq_tf_k562\u001b[0m\n"
     ]
    }
   ],
   "source": [
    "ls /data/reddylab/Kuei/out/proj_combeffect_encode_fcc/results/region/KS91_K562_ASTARRseq_peak_macs_input/enrichment_lola/regionDB_full"
   ]
  },
  {
   "cell_type": "code",
   "execution_count": null,
   "id": "4197e720-b3da-44b6-a2f6-af8bee15b3e5",
   "metadata": {},
   "outputs": [],
   "source": []
  },
  {
   "cell_type": "code",
   "execution_count": 42,
   "id": "66cbe15c-3077-40bc-8b6f-f3e201a250d7",
   "metadata": {},
   "outputs": [],
   "source": [
    "rm /data/reddylab/Kuei/out/proj_combeffect_encode_fcc/results/region/KS91_K562_ASTARRseq_peak_macs_input/enrichment_lola/regionDB_full/encode_chipseq_tf_k562/regions/K562.ENCSR000DKB.NA.FOS.bed.gz"
   ]
  },
  {
   "cell_type": "code",
   "execution_count": null,
   "id": "11708e2a-ed64-4339-a6fb-dcc4c6b4c7de",
   "metadata": {},
   "outputs": [],
   "source": []
  },
  {
   "cell_type": "code",
   "execution_count": null,
   "id": "3a449a3d-e4dc-410e-812c-1d75e674548e",
   "metadata": {},
   "outputs": [],
   "source": []
  },
  {
   "cell_type": "code",
   "execution_count": null,
   "id": "707f5ed4-31e8-4312-9250-204734b53a2d",
   "metadata": {},
   "outputs": [],
   "source": []
  },
  {
   "cell_type": "code",
   "execution_count": null,
   "id": "607035b5-20e9-4a09-af3e-d3def2a32832",
   "metadata": {},
   "outputs": [],
   "source": []
  }
 ],
 "metadata": {
  "kernelspec": {
   "display_name": "Bash",
   "language": "bash",
   "name": "bash"
  },
  "language_info": {
   "codemirror_mode": "shell",
   "file_extension": ".sh",
   "mimetype": "text/x-sh",
   "name": "bash"
  }
 },
 "nbformat": 4,
 "nbformat_minor": 5
}
