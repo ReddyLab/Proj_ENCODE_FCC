{
 "cells": [
  {
   "cell_type": "markdown",
   "id": "6350fb7f-6e06-407b-9198-d78b4fc27afe",
   "metadata": {},
   "source": [
    "**Set environment**"
   ]
  },
  {
   "cell_type": "code",
   "execution_count": 1,
   "id": "b27b0cef-caa8-44f9-93d5-bd3063a6203e",
   "metadata": {},
   "outputs": [
    {
     "name": "stdout",
     "output_type": "stream",
     "text": [
      "You are in Singularity: singularity_proj_encode_fcc \n",
      "BASE DIRECTORY (FD_BASE): /data/reddylab/Kuei \n",
      "WORK DIRECTORY (FD_WORK): /data/reddylab/Kuei/out \n",
      "CODE DIRECTORY (FD_CODE): /data/reddylab/Kuei/code \n",
      "PATH OF PROJECT (FD_PRJ): /data/reddylab/Kuei/code/Proj_CombEffect_ENCODE_FCC \n",
      "PATH OF RESULTS (FD_RES): /data/reddylab/Kuei/out/proj_combeffect_encode_fcc \n",
      "PATH OF LOG     (FD_LOG): /data/reddylab/Kuei/out/proj_combeffect_encode_fcc/log \n"
     ]
    }
   ],
   "source": [
    "suppressMessages(suppressWarnings(source(\"../config/config_sing.R\")))\n",
    "suppressMessages(suppressWarnings(source(\"../config/config_func.R\")))\n",
    "library(\"LOLA\")\n",
    "show_env()"
   ]
  },
  {
   "cell_type": "markdown",
   "id": "e4e983b2-bc09-4b16-bb50-c4d62c25c44b",
   "metadata": {},
   "source": [
    "**Check data**"
   ]
  },
  {
   "cell_type": "code",
   "execution_count": 2,
   "id": "a9737005-4f11-46c2-b828-e8e3ffcd7068",
   "metadata": {},
   "outputs": [
    {
     "name": "stdout",
     "output_type": "stream",
     "text": [
      "[1] \"/usr/local/lib/R/site-library/LOLA/extdata/hg19\"\n",
      "ucsc_example \n",
      "\n",
      "[1] \"/usr/local/lib/R/site-library/LOLA/extdata/hg19/ucsc_example\"\n",
      "collection.txt \n",
      "index.txt \n",
      "regions \n",
      "sizes.txt \n"
     ]
    }
   ],
   "source": [
    "fdiry = system.file(\"extdata\", \"hg19\", package=\"LOLA\")\n",
    "print(fdiry)\n",
    "for (txt in dir(fdiry)){cat(txt, \"\\n\")}\n",
    "cat(\"\\n\")\n",
    "\n",
    "fdiry = file.path(fdiry, \"ucsc_example\")\n",
    "print(fdiry)\n",
    "for (txt in dir(fdiry)){cat(txt, \"\\n\")}"
   ]
  },
  {
   "cell_type": "code",
   "execution_count": 3,
   "id": "5affac9e-62c9-4d1d-a297-c34d7666e5a4",
   "metadata": {},
   "outputs": [
    {
     "name": "stdout",
     "output_type": "stream",
     "text": [
      "[1] \"/data/reddylab/Kuei/out/proj_combeffect_encode_fcc/results/region/KS91_K562_ASTARRseq_peak_macs_input/enrichment_lola/regionDB_test\"\n",
      "encode_chipseq_tf_k562 \n",
      "\n",
      "[1] \"/data/reddylab/Kuei/out/proj_combeffect_encode_fcc/results/region/KS91_K562_ASTARRseq_peak_macs_input/enrichment_lola/regionDB_test/encode_chipseq_tf_k562\"\n",
      "collection.txt \n",
      "encode_chipseq_tf_k562_files.RData \n",
      "encode_chipseq_tf_k562.RData \n",
      "index.txt \n",
      "regions \n",
      "sizes.txt \n"
     ]
    }
   ],
   "source": [
    "fdiry = file.path(\n",
    "    FD_RES, \n",
    "    \"results\", \n",
    "    \"region\", \n",
    "    \"KS91_K562_ASTARRseq_peak_macs_input\",\n",
    "    \"enrichment_lola\",\n",
    "    \"regionDB_test\"\n",
    ")\n",
    "\n",
    "print(fdiry)\n",
    "for (txt in dir(fdiry)){cat(txt, \"\\n\")}\n",
    "cat(\"\\n\")\n",
    "\n",
    "fdiry = file.path(fdiry, \"encode_chipseq_tf_k562\")\n",
    "print(fdiry)\n",
    "for (txt in dir(fdiry)){cat(txt, \"\\n\")}"
   ]
  },
  {
   "cell_type": "markdown",
   "id": "4e0300ba-85b2-4e3c-9775-4abcee0871b9",
   "metadata": {},
   "source": [
    "## Remove Cached files to generate a new one"
   ]
  },
  {
   "cell_type": "markdown",
   "id": "0b43ca4a-231e-4167-a10a-f17a8f161aa6",
   "metadata": {},
   "source": [
    "**Remove cached files**"
   ]
  },
  {
   "cell_type": "code",
   "execution_count": 4,
   "id": "010cf1e0-4c40-4740-bd27-71327865de88",
   "metadata": {},
   "outputs": [
    {
     "name": "stdout",
     "output_type": "stream",
     "text": [
      "Delete cached files: \n",
      "[1] \"/data/reddylab/Kuei/out/proj_combeffect_encode_fcc/results/region/KS91_K562_ASTARRseq_peak_macs_input/enrichment_lola/regionDB_test/encode_chipseq_tf_k562/encode_chipseq_tf_k562_files.RData\"\n",
      "[2] \"/data/reddylab/Kuei/out/proj_combeffect_encode_fcc/results/region/KS91_K562_ASTARRseq_peak_macs_input/enrichment_lola/regionDB_test/encode_chipseq_tf_k562/encode_chipseq_tf_k562.RData\"      \n"
     ]
    }
   ],
   "source": [
    "fdiry = file.path(\n",
    "    FD_RES, \n",
    "    \"results\", \n",
    "    \"region\", \n",
    "    \"KS91_K562_ASTARRseq_peak_macs_input\",\n",
    "    \"enrichment_lola\",\n",
    "    \"regionDB_test\"\n",
    ")\n",
    "fname = \"*RData\"\n",
    "fglob = file.path(fdiry, \"*\", fname)\n",
    "fpath = Sys.glob(fglob)\n",
    "\n",
    "if (length(fpath) != 0) {\n",
    "    cat(\"Delete cached files:\", \"\\n\")\n",
    "    txt = paste(\"rm\", fpath)\n",
    "    system(txt)\n",
    "    print(fpath)\n",
    "} else {\n",
    "    cat(\"No cached file found.\", \"\\n\")\n",
    "}"
   ]
  },
  {
   "cell_type": "markdown",
   "id": "b834d267-fa9e-4fcf-8858-360ed919d246",
   "metadata": {},
   "source": [
    "**Check files**"
   ]
  },
  {
   "cell_type": "code",
   "execution_count": 6,
   "id": "e3584ca4-ea25-435a-b28b-a65446f9374b",
   "metadata": {},
   "outputs": [
    {
     "name": "stdout",
     "output_type": "stream",
     "text": [
      "[1] \"/data/reddylab/Kuei/out/proj_combeffect_encode_fcc/results/region/KS91_K562_ASTARRseq_peak_macs_input/enrichment_lola/regionDB_test\"\n",
      "encode_chipseq_tf_k562 \n",
      "\n",
      "[1] \"/data/reddylab/Kuei/out/proj_combeffect_encode_fcc/results/region/KS91_K562_ASTARRseq_peak_macs_input/enrichment_lola/regionDB_test/encode_chipseq_tf_k562\"\n",
      "collection.txt \n",
      "encode_chipseq_tf_k562.RData \n",
      "index.txt \n",
      "regions \n",
      "sizes.txt \n"
     ]
    }
   ],
   "source": [
    "fdiry = file.path(\n",
    "    FD_RES, \n",
    "    \"results\", \n",
    "    \"region\", \n",
    "    \"KS91_K562_ASTARRseq_peak_macs_input\",\n",
    "    \"enrichment_lola\",\n",
    "    \"regionDB_test\"\n",
    ")\n",
    "\n",
    "print(fdiry)\n",
    "for (txt in dir(fdiry)){cat(txt, \"\\n\")}\n",
    "cat(\"\\n\")\n",
    "\n",
    "fdiry = file.path(fdiry, \"encode_chipseq_tf_k562\")\n",
    "print(fdiry)\n",
    "for (txt in dir(fdiry)){cat(txt, \"\\n\")}"
   ]
  },
  {
   "cell_type": "markdown",
   "id": "760cfff2-4922-4d7b-a493-cd025aef494f",
   "metadata": {},
   "source": [
    "## Create regionDB"
   ]
  },
  {
   "cell_type": "code",
   "execution_count": 7,
   "id": "4a351c66-e1c3-4dc2-b155-d74f464675fc",
   "metadata": {},
   "outputs": [
    {
     "name": "stderr",
     "output_type": "stream",
     "text": [
      "Reading collection annotations: \n",
      "\n",
      "\tencode_chipseq_tf_k562: found collection annotation:/data/reddylab/Kuei/out/proj_combeffect_encode_fcc/results/region/KS91_K562_ASTARRseq_peak_macs_input/enrichment_lola/regionDB_test/encode_chipseq_tf_k562/collection.txt\n",
      "\n",
      "Reading region annotations...\n",
      "\n",
      "::Creating cache::\t/data/reddylab/Kuei/out/proj_combeffect_encode_fcc/results/region/KS91_K562_ASTARRseq_peak_macs_input/enrichment_lola/regionDB_test/encode_chipseq_tf_k562//encode_chipseq_tf_k562_files.RData\n",
      "\n",
      "/data/reddylab/Kuei/out/proj_combeffect_encode_fcc/results/region/KS91_K562_ASTARRseq_peak_macs_input/enrichment_lola/regionDB_test//encode_chipseq_tf_k562/regions\n",
      "\n",
      "\tIn 'encode_chipseq_tf_k562', found index file:/data/reddylab/Kuei/out/proj_combeffect_encode_fcc/results/region/KS91_K562_ASTARRseq_peak_macs_input/enrichment_lola/regionDB_test/encode_chipseq_tf_k562/index.txt\n",
      "\n",
      "Collection: encode_chipseq_tf_k562. Creating size file...\n",
      "\n",
      "encode_chipseq_tf_k562\n",
      "\n",
      "Reading 16 files...\n",
      "\n",
      "1: /data/reddylab/Kuei/out/proj_combeffect_encode_fcc/results/region/KS91_K562_ASTARRseq_peak_macs_input/enrichment_lola/regionDB_test/encode_chipseq_tf_k562/regions/K562.ENCSR000BMH.ENCFF398UQZ.YY1.bed.gz\n",
      "\n",
      "2: /data/reddylab/Kuei/out/proj_combeffect_encode_fcc/results/region/KS91_K562_ASTARRseq_peak_macs_input/enrichment_lola/regionDB_test/encode_chipseq_tf_k562/regions/K562.ENCSR000BMW.ENCFF707MDI.REST.bed.gz\n",
      "\n",
      "3: /data/reddylab/Kuei/out/proj_combeffect_encode_fcc/results/region/KS91_K562_ASTARRseq_peak_macs_input/enrichment_lola/regionDB_test/encode_chipseq_tf_k562/regions/K562.ENCSR000EFS.ENCFF190CGV.JUN.bed.gz\n",
      "\n",
      "4: /data/reddylab/Kuei/out/proj_combeffect_encode_fcc/results/region/KS91_K562_ASTARRseq_peak_macs_input/enrichment_lola/regionDB_test/encode_chipseq_tf_k562/regions/K562.ENCSR000EFT.ENCFF657CTC.GATA1.bed.gz\n",
      "\n",
      "5: /data/reddylab/Kuei/out/proj_combeffect_encode_fcc/results/region/KS91_K562_ASTARRseq_peak_macs_input/enrichment_lola/regionDB_test/encode_chipseq_tf_k562/regions/K562.ENCSR000EFU.ENCFF715WGN.ELK1.bed.gz\n",
      "\n",
      "6: /data/reddylab/Kuei/out/proj_combeffect_encode_fcc/results/region/KS91_K562_ASTARRseq_peak_macs_input/enrichment_lola/regionDB_test/encode_chipseq_tf_k562/regions/K562.ENCSR000EGE.ENCFF702XPO.EP300.bed.gz\n",
      "\n",
      "7: /data/reddylab/Kuei/out/proj_combeffect_encode_fcc/results/region/KS91_K562_ASTARRseq_peak_macs_input/enrichment_lola/regionDB_test/encode_chipseq_tf_k562/regions/K562.ENCSR000EGM.ENCFF660GHM.CTCF.bed.gz\n",
      "\n",
      "8: /data/reddylab/Kuei/out/proj_combeffect_encode_fcc/results/region/KS91_K562_ASTARRseq_peak_macs_input/enrichment_lola/regionDB_test/encode_chipseq_tf_k562/regions/K562.ENCSR000EHB.ENCFF852ZRK.TAL1.bed.gz\n",
      "\n",
      "9: /data/reddylab/Kuei/out/proj_combeffect_encode_fcc/results/region/KS91_K562_ASTARRseq_peak_macs_input/enrichment_lola/regionDB_test/encode_chipseq_tf_k562/regions/K562.ENCSR004GKA.ENCFF242AOL.ZEB2.bed.gz\n",
      "\n",
      "10: /data/reddylab/Kuei/out/proj_combeffect_encode_fcc/results/region/KS91_K562_ASTARRseq_peak_macs_input/enrichment_lola/regionDB_test/encode_chipseq_tf_k562/regions/K562.ENCSR091GVJ.ENCFF627RSK.ATF1.bed.gz\n",
      "\n",
      "11: /data/reddylab/Kuei/out/proj_combeffect_encode_fcc/results/region/KS91_K562_ASTARRseq_peak_macs_input/enrichment_lola/regionDB_test/encode_chipseq_tf_k562/regions/K562.ENCSR121SPB.ENCFF142ZTD.KLF10.bed.gz\n",
      "\n",
      "12: /data/reddylab/Kuei/out/proj_combeffect_encode_fcc/results/region/KS91_K562_ASTARRseq_peak_macs_input/enrichment_lola/regionDB_test/encode_chipseq_tf_k562/regions/K562.ENCSR388QZF.ENCFF355MNE.POLR2A.bed.gz\n",
      "\n",
      "13: /data/reddylab/Kuei/out/proj_combeffect_encode_fcc/results/region/KS91_K562_ASTARRseq_peak_macs_input/enrichment_lola/regionDB_test/encode_chipseq_tf_k562/regions/K562.ENCSR552YGL.ENCFF023IFO.NFE2.bed.gz\n",
      "\n",
      "14: /data/reddylab/Kuei/out/proj_combeffect_encode_fcc/results/region/KS91_K562_ASTARRseq_peak_macs_input/enrichment_lola/regionDB_test/encode_chipseq_tf_k562/regions/K562.ENCSR760UVO.ENCFF488OTN.KLF16.bed.gz\n",
      "\n",
      "15: /data/reddylab/Kuei/out/proj_combeffect_encode_fcc/results/region/KS91_K562_ASTARRseq_peak_macs_input/enrichment_lola/regionDB_test/encode_chipseq_tf_k562/regions/K562.ENCSR991ELG.ENCFF553GPK.SP1.bed.gz\n",
      "\n",
      "16: /data/reddylab/Kuei/out/proj_combeffect_encode_fcc/results/region/KS91_K562_ASTARRseq_peak_macs_input/enrichment_lola/regionDB_test/encode_chipseq_tf_k562/regions/K562.ENCSR998AJK.ENCFF777PKJ.NRF1.bed.gz\n",
      "\n"
     ]
    }
   ],
   "source": [
    "fdiry = file.path(\n",
    "    FD_RES, \n",
    "    \"results\", \n",
    "    \"region\", \n",
    "    \"KS91_K562_ASTARRseq_peak_macs_input\",\n",
    "    \"enrichment_lola\",\n",
    "    \"regionDB_test\"\n",
    ")\n",
    "\n",
    "regionDB = loadRegionDB(fdiry, useCache = FALSE)"
   ]
  },
  {
   "cell_type": "code",
   "execution_count": 8,
   "id": "2181b848-2f5d-4e66-ab96-2b11e920c6bb",
   "metadata": {},
   "outputs": [
    {
     "name": "stdout",
     "output_type": "stream",
     "text": [
      "[1] \"list\"\n"
     ]
    },
    {
     "data": {
      "text/plain": [
       "$dbLocation\n",
       "[1] \"/data/reddylab/Kuei/out/proj_combeffect_encode_fcc/results/region/KS91_K562_ASTARRseq_peak_macs_input/enrichment_lola/regionDB_test\"\n",
       "\n",
       "$regionAnno\n",
       "                                      filename cellType\n",
       " 1:    K562.ENCSR000BMH.ENCFF398UQZ.YY1.bed.gz     K562\n",
       " 2:   K562.ENCSR000BMW.ENCFF707MDI.REST.bed.gz     K562\n",
       " 3:    K562.ENCSR000EFS.ENCFF190CGV.JUN.bed.gz     K562\n",
       " 4:  K562.ENCSR000EFT.ENCFF657CTC.GATA1.bed.gz     K562\n",
       " 5:   K562.ENCSR000EFU.ENCFF715WGN.ELK1.bed.gz     K562\n",
       " 6:  K562.ENCSR000EGE.ENCFF702XPO.EP300.bed.gz     K562\n",
       " 7:   K562.ENCSR000EGM.ENCFF660GHM.CTCF.bed.gz     K562\n",
       " 8:   K562.ENCSR000EHB.ENCFF852ZRK.TAL1.bed.gz     K562\n",
       " 9:   K562.ENCSR004GKA.ENCFF242AOL.ZEB2.bed.gz     K562\n",
       "10:   K562.ENCSR091GVJ.ENCFF627RSK.ATF1.bed.gz     K562\n",
       "11:  K562.ENCSR121SPB.ENCFF142ZTD.KLF10.bed.gz     K562\n",
       "12: K562.ENCSR388QZF.ENCFF355MNE.POLR2A.bed.gz     K562\n",
       "13:   K562.ENCSR552YGL.ENCFF023IFO.NFE2.bed.gz     K562\n",
       "14:  K562.ENCSR760UVO.ENCFF488OTN.KLF16.bed.gz     K562\n",
       "15:    K562.ENCSR991ELG.ENCFF553GPK.SP1.bed.gz     K562\n",
       "16:   K562.ENCSR998AJK.ENCFF777PKJ.NRF1.bed.gz     K562\n",
       "                                                                                                                 description\n",
       " 1:                                                                            ENCSR000BMH;ENCFF398UQZ;YY1;Homo sapiens K562\n",
       " 2:                                                                           ENCSR000BMW;ENCFF707MDI;REST;Homo sapiens K562\n",
       " 3:                                                                            ENCSR000EFS;ENCFF190CGV;JUN;Homo sapiens K562\n",
       " 4:                                                                          ENCSR000EFT;ENCFF657CTC;GATA1;Homo sapiens K562\n",
       " 5:                                                                           ENCSR000EFU;ENCFF715WGN;ELK1;Homo sapiens K562\n",
       " 6:                                                                          ENCSR000EGE;ENCFF702XPO;EP300;Homo sapiens K562\n",
       " 7:                                                                           ENCSR000EGM;ENCFF660GHM;CTCF;Homo sapiens K562\n",
       " 8:                                                                           ENCSR000EHB;ENCFF852ZRK;TAL1;Homo sapiens K562\n",
       " 9:                                                                           ENCSR004GKA;ENCFF242AOL;ZEB2;Homo sapiens K562\n",
       "10:                                                    ENCSR091GVJ;ENCFF627RSK;ATF1;Homo sapiens K562 stably expressing ATF1\n",
       "11: ENCSR121SPB;ENCFF142ZTD;KLF10;Homo sapiens K562 genetically modified (insertion) using CRISPR targeting H. sapiens KLF10\n",
       "12:                                                                         ENCSR388QZF;ENCFF355MNE;POLR2A;Homo sapiens K562\n",
       "13:                                                    ENCSR552YGL;ENCFF023IFO;NFE2;Homo sapiens K562 stably expressing NFE2\n",
       "14:                                                                          ENCSR760UVO;ENCFF488OTN;KLF16;Homo sapiens K562\n",
       "15:                                                                            ENCSR991ELG;ENCFF553GPK;SP1;Homo sapiens K562\n",
       "16:                                                                           ENCSR998AJK;ENCFF777PKJ;NRF1;Homo sapiens K562\n",
       "    tissue                       dataSource antibody treatment\n",
       " 1:   <NA>      Richard Myers, HAIB;ENCODE2      YY1      <NA>\n",
       " 2:   <NA>      Richard Myers, HAIB;ENCODE2     REST      <NA>\n",
       " 3:   <NA> Michael Snyder, Stanford;ENCODE2      JUN      <NA>\n",
       " 4:   <NA> Michael Snyder, Stanford;ENCODE2    GATA1      <NA>\n",
       " 5:   <NA> Michael Snyder, Stanford;ENCODE2     ELK1      <NA>\n",
       " 6:   <NA> Michael Snyder, Stanford;ENCODE2    EP300      <NA>\n",
       " 7:   <NA> Michael Snyder, Stanford;ENCODE2     CTCF      <NA>\n",
       " 8:   <NA> Michael Snyder, Stanford;ENCODE2     TAL1      <NA>\n",
       " 9:   <NA> Michael Snyder, Stanford;ENCODE3     ZEB2      <NA>\n",
       "10:   <NA> Michael Snyder, Stanford;ENCODE3     ATF1      <NA>\n",
       "11:   <NA> Michael Snyder, Stanford;ENCODE4    KLF10      <NA>\n",
       "12:   <NA> Michael Snyder, Stanford;ENCODE3   POLR2A      <NA>\n",
       "13:   <NA> Michael Snyder, Stanford;ENCODE3     NFE2      <NA>\n",
       "14:   <NA>      Richard Myers, HAIB;ENCODE3    KLF16      <NA>\n",
       "15:   <NA> Michael Snyder, Stanford;ENCODE3      SP1      <NA>\n",
       "16:   <NA> Michael Snyder, Stanford;ENCODE3     NRF1      <NA>\n",
       "                collection size\n",
       " 1: encode_chipseq_tf_k562 2399\n",
       " 2: encode_chipseq_tf_k562 1580\n",
       " 3: encode_chipseq_tf_k562 1397\n",
       " 4: encode_chipseq_tf_k562  810\n",
       " 5: encode_chipseq_tf_k562  301\n",
       " 6: encode_chipseq_tf_k562 1722\n",
       " 7: encode_chipseq_tf_k562 4213\n",
       " 8: encode_chipseq_tf_k562 1653\n",
       " 9: encode_chipseq_tf_k562 1779\n",
       "10: encode_chipseq_tf_k562 3033\n",
       "11: encode_chipseq_tf_k562   69\n",
       "12: encode_chipseq_tf_k562 2376\n",
       "13: encode_chipseq_tf_k562 3100\n",
       "14: encode_chipseq_tf_k562 1081\n",
       "15: encode_chipseq_tf_k562  815\n",
       "16: encode_chipseq_tf_k562 2440\n",
       "\n",
       "$collectionAnno\n",
       "           collectionname collector       date source description\n",
       "1: encode_chipseq_tf_k562     KY KO 2023/10/21 ENCODE ChIP-seq TF\n",
       "\n",
       "$regionGRL\n",
       "GRangesList object of length 16:\n",
       "[[1]]\n",
       "GRanges object with 30726 ranges and 0 metadata columns:\n",
       "    seqnames              ranges strand\n",
       "       <Rle>           <IRanges>  <Rle>\n",
       "  .     chr1       778487-778776      *\n",
       "  .     chr1       904639-904883      *\n",
       "  .     chr1       913033-913129      *\n",
       "  .     chr1       921137-921238      *\n",
       "  .     chr1       923708-924017      *\n",
       "  .      ...                 ...    ...\n",
       "  .     chrX 155216344-155216651      *\n",
       "  .     chrX 155434850-155435159      *\n",
       "  .     chrX 155612846-155613155      *\n",
       "  .     chrX 155881107-155881416      *\n",
       "  .     chrX 156002553-156002862      *\n",
       "  -------\n",
       "  seqinfo: 23 sequences from an unspecified genome; no seqlengths\n",
       "\n",
       "...\n",
       "<15 more elements>\n"
      ]
     },
     "metadata": {},
     "output_type": "display_data"
    }
   ],
   "source": [
    "print(class(regionDB))\n",
    "regionDB"
   ]
  },
  {
   "cell_type": "code",
   "execution_count": 9,
   "id": "8c85c37b-ba6d-4953-9e76-5c10c533da74",
   "metadata": {},
   "outputs": [
    {
     "data": {
      "text/html": [
       "<style>\n",
       ".list-inline {list-style: none; margin:0; padding: 0}\n",
       ".list-inline>li {display: inline-block}\n",
       ".list-inline>li:not(:last-child)::after {content: \"\\00b7\"; padding: 0 .5ex}\n",
       "</style>\n",
       "<ol class=list-inline><li>'dbLocation'</li><li>'regionAnno'</li><li>'collectionAnno'</li><li>'regionGRL'</li></ol>\n"
      ],
      "text/latex": [
       "\\begin{enumerate*}\n",
       "\\item 'dbLocation'\n",
       "\\item 'regionAnno'\n",
       "\\item 'collectionAnno'\n",
       "\\item 'regionGRL'\n",
       "\\end{enumerate*}\n"
      ],
      "text/markdown": [
       "1. 'dbLocation'\n",
       "2. 'regionAnno'\n",
       "3. 'collectionAnno'\n",
       "4. 'regionGRL'\n",
       "\n",
       "\n"
      ],
      "text/plain": [
       "[1] \"dbLocation\"     \"regionAnno\"     \"collectionAnno\" \"regionGRL\"     "
      ]
     },
     "metadata": {},
     "output_type": "display_data"
    }
   ],
   "source": [
    "names(regionDB)"
   ]
  },
  {
   "cell_type": "code",
   "execution_count": 10,
   "id": "3624c41c-6ea8-410d-9ebf-166fab2e4769",
   "metadata": {},
   "outputs": [
    {
     "data": {
      "text/html": [
       "<div style=\"border: 1px solid #ddd; padding: 5px; overflow-x: scroll; width:100%; \"><table class=\"table table-striped\" style=\"margin-left: auto; margin-right: auto;\">\n",
       " <thead>\n",
       "  <tr>\n",
       "   <th style=\"text-align:left;\"> filename </th>\n",
       "   <th style=\"text-align:left;\"> cellType </th>\n",
       "   <th style=\"text-align:left;\"> description </th>\n",
       "   <th style=\"text-align:left;\"> tissue </th>\n",
       "   <th style=\"text-align:left;\"> dataSource </th>\n",
       "   <th style=\"text-align:left;\"> antibody </th>\n",
       "   <th style=\"text-align:left;\"> treatment </th>\n",
       "   <th style=\"text-align:left;\"> collection </th>\n",
       "   <th style=\"text-align:right;\"> size </th>\n",
       "  </tr>\n",
       " </thead>\n",
       "<tbody>\n",
       "  <tr>\n",
       "   <td style=\"text-align:left;\"> K562.ENCSR000BMH.ENCFF398UQZ.YY1.bed.gz </td>\n",
       "   <td style=\"text-align:left;\"> K562 </td>\n",
       "   <td style=\"text-align:left;\"> ENCSR000BMH;ENCFF398UQZ;YY1;Homo sapiens K562 </td>\n",
       "   <td style=\"text-align:left;\"> NA </td>\n",
       "   <td style=\"text-align:left;\"> Richard Myers, HAIB;ENCODE2 </td>\n",
       "   <td style=\"text-align:left;\"> YY1 </td>\n",
       "   <td style=\"text-align:left;\"> NA </td>\n",
       "   <td style=\"text-align:left;\"> encode_chipseq_tf_k562 </td>\n",
       "   <td style=\"text-align:right;\"> 2399 </td>\n",
       "  </tr>\n",
       "  <tr>\n",
       "   <td style=\"text-align:left;\"> K562.ENCSR000BMW.ENCFF707MDI.REST.bed.gz </td>\n",
       "   <td style=\"text-align:left;\"> K562 </td>\n",
       "   <td style=\"text-align:left;\"> ENCSR000BMW;ENCFF707MDI;REST;Homo sapiens K562 </td>\n",
       "   <td style=\"text-align:left;\"> NA </td>\n",
       "   <td style=\"text-align:left;\"> Richard Myers, HAIB;ENCODE2 </td>\n",
       "   <td style=\"text-align:left;\"> REST </td>\n",
       "   <td style=\"text-align:left;\"> NA </td>\n",
       "   <td style=\"text-align:left;\"> encode_chipseq_tf_k562 </td>\n",
       "   <td style=\"text-align:right;\"> 1580 </td>\n",
       "  </tr>\n",
       "  <tr>\n",
       "   <td style=\"text-align:left;\"> K562.ENCSR000EFS.ENCFF190CGV.JUN.bed.gz </td>\n",
       "   <td style=\"text-align:left;\"> K562 </td>\n",
       "   <td style=\"text-align:left;\"> ENCSR000EFS;ENCFF190CGV;JUN;Homo sapiens K562 </td>\n",
       "   <td style=\"text-align:left;\"> NA </td>\n",
       "   <td style=\"text-align:left;\"> Michael Snyder, Stanford;ENCODE2 </td>\n",
       "   <td style=\"text-align:left;\"> JUN </td>\n",
       "   <td style=\"text-align:left;\"> NA </td>\n",
       "   <td style=\"text-align:left;\"> encode_chipseq_tf_k562 </td>\n",
       "   <td style=\"text-align:right;\"> 1397 </td>\n",
       "  </tr>\n",
       "  <tr>\n",
       "   <td style=\"text-align:left;\"> K562.ENCSR000EFT.ENCFF657CTC.GATA1.bed.gz </td>\n",
       "   <td style=\"text-align:left;\"> K562 </td>\n",
       "   <td style=\"text-align:left;\"> ENCSR000EFT;ENCFF657CTC;GATA1;Homo sapiens K562 </td>\n",
       "   <td style=\"text-align:left;\"> NA </td>\n",
       "   <td style=\"text-align:left;\"> Michael Snyder, Stanford;ENCODE2 </td>\n",
       "   <td style=\"text-align:left;\"> GATA1 </td>\n",
       "   <td style=\"text-align:left;\"> NA </td>\n",
       "   <td style=\"text-align:left;\"> encode_chipseq_tf_k562 </td>\n",
       "   <td style=\"text-align:right;\"> 810 </td>\n",
       "  </tr>\n",
       "  <tr>\n",
       "   <td style=\"text-align:left;\"> K562.ENCSR000EFU.ENCFF715WGN.ELK1.bed.gz </td>\n",
       "   <td style=\"text-align:left;\"> K562 </td>\n",
       "   <td style=\"text-align:left;\"> ENCSR000EFU;ENCFF715WGN;ELK1;Homo sapiens K562 </td>\n",
       "   <td style=\"text-align:left;\"> NA </td>\n",
       "   <td style=\"text-align:left;\"> Michael Snyder, Stanford;ENCODE2 </td>\n",
       "   <td style=\"text-align:left;\"> ELK1 </td>\n",
       "   <td style=\"text-align:left;\"> NA </td>\n",
       "   <td style=\"text-align:left;\"> encode_chipseq_tf_k562 </td>\n",
       "   <td style=\"text-align:right;\"> 301 </td>\n",
       "  </tr>\n",
       "  <tr>\n",
       "   <td style=\"text-align:left;\"> K562.ENCSR000EGE.ENCFF702XPO.EP300.bed.gz </td>\n",
       "   <td style=\"text-align:left;\"> K562 </td>\n",
       "   <td style=\"text-align:left;\"> ENCSR000EGE;ENCFF702XPO;EP300;Homo sapiens K562 </td>\n",
       "   <td style=\"text-align:left;\"> NA </td>\n",
       "   <td style=\"text-align:left;\"> Michael Snyder, Stanford;ENCODE2 </td>\n",
       "   <td style=\"text-align:left;\"> EP300 </td>\n",
       "   <td style=\"text-align:left;\"> NA </td>\n",
       "   <td style=\"text-align:left;\"> encode_chipseq_tf_k562 </td>\n",
       "   <td style=\"text-align:right;\"> 1722 </td>\n",
       "  </tr>\n",
       "  <tr>\n",
       "   <td style=\"text-align:left;\"> K562.ENCSR000EGM.ENCFF660GHM.CTCF.bed.gz </td>\n",
       "   <td style=\"text-align:left;\"> K562 </td>\n",
       "   <td style=\"text-align:left;\"> ENCSR000EGM;ENCFF660GHM;CTCF;Homo sapiens K562 </td>\n",
       "   <td style=\"text-align:left;\"> NA </td>\n",
       "   <td style=\"text-align:left;\"> Michael Snyder, Stanford;ENCODE2 </td>\n",
       "   <td style=\"text-align:left;\"> CTCF </td>\n",
       "   <td style=\"text-align:left;\"> NA </td>\n",
       "   <td style=\"text-align:left;\"> encode_chipseq_tf_k562 </td>\n",
       "   <td style=\"text-align:right;\"> 4213 </td>\n",
       "  </tr>\n",
       "  <tr>\n",
       "   <td style=\"text-align:left;\"> K562.ENCSR000EHB.ENCFF852ZRK.TAL1.bed.gz </td>\n",
       "   <td style=\"text-align:left;\"> K562 </td>\n",
       "   <td style=\"text-align:left;\"> ENCSR000EHB;ENCFF852ZRK;TAL1;Homo sapiens K562 </td>\n",
       "   <td style=\"text-align:left;\"> NA </td>\n",
       "   <td style=\"text-align:left;\"> Michael Snyder, Stanford;ENCODE2 </td>\n",
       "   <td style=\"text-align:left;\"> TAL1 </td>\n",
       "   <td style=\"text-align:left;\"> NA </td>\n",
       "   <td style=\"text-align:left;\"> encode_chipseq_tf_k562 </td>\n",
       "   <td style=\"text-align:right;\"> 1653 </td>\n",
       "  </tr>\n",
       "  <tr>\n",
       "   <td style=\"text-align:left;\"> K562.ENCSR004GKA.ENCFF242AOL.ZEB2.bed.gz </td>\n",
       "   <td style=\"text-align:left;\"> K562 </td>\n",
       "   <td style=\"text-align:left;\"> ENCSR004GKA;ENCFF242AOL;ZEB2;Homo sapiens K562 </td>\n",
       "   <td style=\"text-align:left;\"> NA </td>\n",
       "   <td style=\"text-align:left;\"> Michael Snyder, Stanford;ENCODE3 </td>\n",
       "   <td style=\"text-align:left;\"> ZEB2 </td>\n",
       "   <td style=\"text-align:left;\"> NA </td>\n",
       "   <td style=\"text-align:left;\"> encode_chipseq_tf_k562 </td>\n",
       "   <td style=\"text-align:right;\"> 1779 </td>\n",
       "  </tr>\n",
       "  <tr>\n",
       "   <td style=\"text-align:left;\"> K562.ENCSR091GVJ.ENCFF627RSK.ATF1.bed.gz </td>\n",
       "   <td style=\"text-align:left;\"> K562 </td>\n",
       "   <td style=\"text-align:left;\"> ENCSR091GVJ;ENCFF627RSK;ATF1;Homo sapiens K562 stably expressing ATF1 </td>\n",
       "   <td style=\"text-align:left;\"> NA </td>\n",
       "   <td style=\"text-align:left;\"> Michael Snyder, Stanford;ENCODE3 </td>\n",
       "   <td style=\"text-align:left;\"> ATF1 </td>\n",
       "   <td style=\"text-align:left;\"> NA </td>\n",
       "   <td style=\"text-align:left;\"> encode_chipseq_tf_k562 </td>\n",
       "   <td style=\"text-align:right;\"> 3033 </td>\n",
       "  </tr>\n",
       "  <tr>\n",
       "   <td style=\"text-align:left;\"> K562.ENCSR121SPB.ENCFF142ZTD.KLF10.bed.gz </td>\n",
       "   <td style=\"text-align:left;\"> K562 </td>\n",
       "   <td style=\"text-align:left;\"> ENCSR121SPB;ENCFF142ZTD;KLF10;Homo sapiens K562 genetically modified (insertion) using CRISPR targeting H. sapiens KLF10 </td>\n",
       "   <td style=\"text-align:left;\"> NA </td>\n",
       "   <td style=\"text-align:left;\"> Michael Snyder, Stanford;ENCODE4 </td>\n",
       "   <td style=\"text-align:left;\"> KLF10 </td>\n",
       "   <td style=\"text-align:left;\"> NA </td>\n",
       "   <td style=\"text-align:left;\"> encode_chipseq_tf_k562 </td>\n",
       "   <td style=\"text-align:right;\"> 69 </td>\n",
       "  </tr>\n",
       "  <tr>\n",
       "   <td style=\"text-align:left;\"> K562.ENCSR388QZF.ENCFF355MNE.POLR2A.bed.gz </td>\n",
       "   <td style=\"text-align:left;\"> K562 </td>\n",
       "   <td style=\"text-align:left;\"> ENCSR388QZF;ENCFF355MNE;POLR2A;Homo sapiens K562 </td>\n",
       "   <td style=\"text-align:left;\"> NA </td>\n",
       "   <td style=\"text-align:left;\"> Michael Snyder, Stanford;ENCODE3 </td>\n",
       "   <td style=\"text-align:left;\"> POLR2A </td>\n",
       "   <td style=\"text-align:left;\"> NA </td>\n",
       "   <td style=\"text-align:left;\"> encode_chipseq_tf_k562 </td>\n",
       "   <td style=\"text-align:right;\"> 2376 </td>\n",
       "  </tr>\n",
       "  <tr>\n",
       "   <td style=\"text-align:left;\"> K562.ENCSR552YGL.ENCFF023IFO.NFE2.bed.gz </td>\n",
       "   <td style=\"text-align:left;\"> K562 </td>\n",
       "   <td style=\"text-align:left;\"> ENCSR552YGL;ENCFF023IFO;NFE2;Homo sapiens K562 stably expressing NFE2 </td>\n",
       "   <td style=\"text-align:left;\"> NA </td>\n",
       "   <td style=\"text-align:left;\"> Michael Snyder, Stanford;ENCODE3 </td>\n",
       "   <td style=\"text-align:left;\"> NFE2 </td>\n",
       "   <td style=\"text-align:left;\"> NA </td>\n",
       "   <td style=\"text-align:left;\"> encode_chipseq_tf_k562 </td>\n",
       "   <td style=\"text-align:right;\"> 3100 </td>\n",
       "  </tr>\n",
       "  <tr>\n",
       "   <td style=\"text-align:left;\"> K562.ENCSR760UVO.ENCFF488OTN.KLF16.bed.gz </td>\n",
       "   <td style=\"text-align:left;\"> K562 </td>\n",
       "   <td style=\"text-align:left;\"> ENCSR760UVO;ENCFF488OTN;KLF16;Homo sapiens K562 </td>\n",
       "   <td style=\"text-align:left;\"> NA </td>\n",
       "   <td style=\"text-align:left;\"> Richard Myers, HAIB;ENCODE3 </td>\n",
       "   <td style=\"text-align:left;\"> KLF16 </td>\n",
       "   <td style=\"text-align:left;\"> NA </td>\n",
       "   <td style=\"text-align:left;\"> encode_chipseq_tf_k562 </td>\n",
       "   <td style=\"text-align:right;\"> 1081 </td>\n",
       "  </tr>\n",
       "  <tr>\n",
       "   <td style=\"text-align:left;\"> K562.ENCSR991ELG.ENCFF553GPK.SP1.bed.gz </td>\n",
       "   <td style=\"text-align:left;\"> K562 </td>\n",
       "   <td style=\"text-align:left;\"> ENCSR991ELG;ENCFF553GPK;SP1;Homo sapiens K562 </td>\n",
       "   <td style=\"text-align:left;\"> NA </td>\n",
       "   <td style=\"text-align:left;\"> Michael Snyder, Stanford;ENCODE3 </td>\n",
       "   <td style=\"text-align:left;\"> SP1 </td>\n",
       "   <td style=\"text-align:left;\"> NA </td>\n",
       "   <td style=\"text-align:left;\"> encode_chipseq_tf_k562 </td>\n",
       "   <td style=\"text-align:right;\"> 815 </td>\n",
       "  </tr>\n",
       "  <tr>\n",
       "   <td style=\"text-align:left;\"> K562.ENCSR998AJK.ENCFF777PKJ.NRF1.bed.gz </td>\n",
       "   <td style=\"text-align:left;\"> K562 </td>\n",
       "   <td style=\"text-align:left;\"> ENCSR998AJK;ENCFF777PKJ;NRF1;Homo sapiens K562 </td>\n",
       "   <td style=\"text-align:left;\"> NA </td>\n",
       "   <td style=\"text-align:left;\"> Michael Snyder, Stanford;ENCODE3 </td>\n",
       "   <td style=\"text-align:left;\"> NRF1 </td>\n",
       "   <td style=\"text-align:left;\"> NA </td>\n",
       "   <td style=\"text-align:left;\"> encode_chipseq_tf_k562 </td>\n",
       "   <td style=\"text-align:right;\"> 2440 </td>\n",
       "  </tr>\n",
       "</tbody>\n",
       "</table></div>"
      ]
     },
     "metadata": {},
     "output_type": "display_data"
    }
   ],
   "source": [
    "fun_display_table(regionDB$regionAnno)"
   ]
  },
  {
   "cell_type": "code",
   "execution_count": null,
   "id": "22150a5f-1e49-484f-94e4-2b63937a18d4",
   "metadata": {},
   "outputs": [],
   "source": []
  }
 ],
 "metadata": {
  "kernelspec": {
   "display_name": "R",
   "language": "R",
   "name": "ir"
  },
  "language_info": {
   "codemirror_mode": "r",
   "file_extension": ".r",
   "mimetype": "text/x-r-source",
   "name": "R",
   "pygments_lexer": "r",
   "version": "4.3.1"
  }
 },
 "nbformat": 4,
 "nbformat_minor": 5
}
