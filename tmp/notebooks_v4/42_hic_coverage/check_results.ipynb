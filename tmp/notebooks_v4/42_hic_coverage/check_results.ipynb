{
 "cells": [
  {
   "cell_type": "code",
   "execution_count": 1,
   "id": "9d5cfc9f-f2fa-46cc-a478-804e49941b82",
   "metadata": {},
   "outputs": [
    {
     "name": "stdout",
     "output_type": "stream",
     "text": [
      "You are on Duke Server: HARDAC\n",
      "BASE DIRECTORY (FD_BASE): /data/reddylab/Kuei\n",
      "WORK DIRECTORY (FD_WORK): /data/reddylab/Kuei/out\n",
      "CODE DIRECTORY (FD_CODE): /data/reddylab/Kuei/code\n",
      "SING DIRECTORY (FD_SING): /data/reddylab/Kuei/singularity\n",
      "PATH OF PROJECT (FD_PRJ): /data/reddylab/Kuei/code/Proj_CombEffect_ENCODE_FCC\n",
      "PATH OF RESULTS (FD_RES): /data/reddylab/Kuei/out/proj_combeffect_encode_fcc\n",
      "PATH OF LOG     (FD_LOG): /data/reddylab/Kuei/out/proj_combeffect_encode_fcc/log\n",
      "\n"
     ]
    }
   ],
   "source": [
    "source ../config/config_duke.sh\n",
    "show_env"
   ]
  },
  {
   "cell_type": "code",
   "execution_count": 2,
   "id": "3c71200e-0bb1-460c-a409-53f2faf2f2ea",
   "metadata": {},
   "outputs": [
    {
     "name": "stdout",
     "output_type": "stream",
     "text": [
      "Hostname:           x1-03-2.genome.duke.edu\n",
      "Slurm Array Index:  0\n",
      "Time Stamp:         07-03-23+11:43:24\n",
      "\n",
      "Input:  /data/reddylab/Kuei/out/proj_combeffect_encode_fcc/results/region/KS91_K562_ASTARRseq_peak_macs_input/region_pair/region_pair_chrX/region_pair.chrX.SUBSET1.tsv.gz\n",
      "\n",
      "show first few lines of input\n",
      "chrX:10014456-10015536\tchrX:10014456-10015536\n",
      "chrX:10014456-10015536\tchrX:10047006-10047716\n",
      "chrX:10014456-10015536\tchrX:100649726-100650005\n",
      "chrX:10014456-10015536\tchrX:100670968-100671799\n",
      "chrX:10014456-10015536\tchrX:100674743-100675253\n",
      "\n",
      "Process Line: 0\n",
      "Process Line: 10000\n",
      "Process Line: 20000\n",
      "Process Line: 30000\n",
      "Process Line: 40000\n",
      "Process Line: 50000\n",
      "Process Line: 60000\n",
      "Process Line: 70000\n",
      "Process Line: 80000\n",
      "Process Line: 90000\n",
      "Process Line: 100000\n",
      "Process Line: 110000\n",
      "Process Line: 120000\n",
      "Process Line: 130000\n",
      "Process Line: 140000\n",
      "Process Line: 150000\n",
      "Process Line: 160000\n",
      "Process Line: 170000\n",
      "Process Line: 180000\n",
      "Process Line: 190000\n",
      "Process Line: 200000\n",
      "Process Line: 210000\n",
      "Process Line: 220000\n",
      "Process Line: 230000\n",
      "Process Line: 240000\n",
      "Process Line: 250000\n",
      "Process Line: 260000\n",
      "Process Line: 270000\n",
      "Process Line: 280000\n",
      "Process Line: 290000\n",
      "Process Line: 300000\n",
      "Process Line: 310000\n",
      "Process Line: 320000\n",
      "Process Line: 330000\n",
      "Process Line: 340000\n",
      "Process Line: 350000\n",
      "Process Line: 360000\n",
      "Process Line: 370000\n",
      "Process Line: 380000\n",
      "Process Line: 390000\n",
      "Process Line: 400000\n",
      "Process Line: 410000\n",
      "Process Line: 420000\n",
      "Process Line: 430000\n",
      "Process Line: 440000\n",
      "Process Line: 450000\n",
      "Process Line: 460000\n",
      "Process Line: 470000\n",
      "Process Line: 480000\n",
      "Process Line: 490000\n",
      "Process Line: 500000\n",
      "Process Line: 510000\n",
      "Process Line: 520000\n",
      "Process Line: 530000\n",
      "Process Line: 540000\n",
      "Process Line: 550000\n",
      "Process Line: 560000\n",
      "Process Line: 570000\n",
      "Process Line: 580000\n",
      "Process Line: 590000\n",
      "Process Line: 600000\n",
      "Process Line: 610000\n",
      "Process Line: 620000\n",
      "Process Line: 630000\n",
      "Process Line: 640000\n",
      "Process Line: 650000\n",
      "Process Line: 660000\n",
      "Process Line: 670000\n",
      "Process Line: 680000\n",
      "Process Line: 690000\n",
      "Process Line: 700000\n",
      "Process Line: 710000\n",
      "Process Line: 720000\n",
      "Process Line: 730000\n",
      "Process Line: 740000\n",
      "Process Line: 750000\n",
      "Process Line: 760000\n",
      "Process Line: 770000\n",
      "Process Line: 780000\n",
      "Process Line: 790000\n",
      "Process Line: 800000\n",
      "Process Line: 810000\n",
      "Process Line: 820000\n",
      "Process Line: 830000\n",
      "Process Line: 840000\n",
      "Process Line: 850000\n",
      "Process Line: 860000\n",
      "Process Line: 870000\n",
      "Process Line: 880000\n",
      "Process Line: 890000\n",
      "Process Line: 900000\n",
      "Process Line: 910000\n",
      "Process Line: 920000\n",
      "Process Line: 930000\n",
      "Process Line: 940000\n",
      "Process Line: 950000\n",
      "Process Line: 960000\n",
      "Process Line: 970000\n",
      "Process Line: 980000\n",
      "Process Line: 990000\n",
      "\n",
      "Output:  /data/reddylab/Kuei/out/proj_combeffect_encode_fcc/results/hic_intact_K562_deep/coverage_astarrseq_peak_macs_input/region_pair_chrX/region_pair.chrX.SUBSET1.tsv.gz\n",
      "\n",
      "show first few lines of output:\n",
      "chrX\t10014456\t10015536\tchrX\t10014456\t10015536\tchrX:10014456-10015536|chrX:10014456-10015536\t11.76076\t13.50927\t2.60598\t6.09284\t14.71749\t0.72899\t53.81496\t0.5625\n",
      "chrX\t10014456\t10015536\tchrX\t10047006\t10047716\tchrX:10014456-10015536|chrX:10047006-10047716\t0.70999\t0.16564\t0.61483\t0.73311\t0.8167\t0.49655\t0.9003\t0.03125\n",
      "chrX\t10014456\t10015536\tchrX\t10109819\t10110295\tchrX:10014456-10015536|chrX:10109819-10110295\t0.70345\t0.31493\t0.48939\t0.59578\t0.86367\t0.383\t1.13155\t0.05\n",
      "chrX\t10014456\t10015536\tchrX\t10119382\t10120047\tchrX:10014456-10015536|chrX:10119382-10120047\t0.24764\t0.12855\t0.14347\t0.20028\t0.32359\t0.10153\t0.52648\t0.14583\n",
      "chrX\t10014456\t10015536\tchrX\t10128173\t10128843\tchrX:10014456-10015536|chrX:10128173-10128843\t0.92679\t0.0\t0.92679\t0.92679\t0.92679\t0.92679\t0.92679\t0.01042\n",
      "\n",
      "\n",
      "Done!\n",
      "Run Time: 5 hours 47 minutes and 30 seconds\n"
     ]
    }
   ],
   "source": [
    "cat ${FD_LOG}/coverage.hic_intact_K562_deep.region_pair.chrX.SUBSET1.0.txt"
   ]
  },
  {
   "cell_type": "code",
   "execution_count": 3,
   "id": "82978682-8309-4e22-85d2-6fe4bd3b4e40",
   "metadata": {},
   "outputs": [
    {
     "name": "stdout",
     "output_type": "stream",
     "text": [
      "chrX\t10014456\t10015536\tchrX\t10014456\t10015536\tchrX:10014456-10015536|chrX:10014456-10015536\t11.76076\t13.50927\t2.60598\t6.09284\t14.71749\t0.72899\t53.81496\t0.5625\n",
      "chrX\t10014456\t10015536\tchrX\t10047006\t10047716\tchrX:10014456-10015536|chrX:10047006-10047716\t0.70999\t0.16564\t0.61483\t0.73311\t0.8167\t0.49655\t0.9003\t0.03125\n",
      "chrX\t10014456\t10015536\tchrX\t10109819\t10110295\tchrX:10014456-10015536|chrX:10109819-10110295\t0.70345\t0.31493\t0.48939\t0.59578\t0.86367\t0.383\t1.13155\t0.05\n",
      "chrX\t10014456\t10015536\tchrX\t10119382\t10120047\tchrX:10014456-10015536|chrX:10119382-10120047\t0.24764\t0.12855\t0.14347\t0.20028\t0.32359\t0.10153\t0.52648\t0.14583\n",
      "chrX\t10014456\t10015536\tchrX\t10128173\t10128843\tchrX:10014456-10015536|chrX:10128173-10128843\t0.92679\t0.0\t0.92679\t0.92679\t0.92679\t0.92679\t0.92679\t0.01042\n",
      "chrX\t10014456\t10015536\tchrX\t10133892\t10134630\tchrX:10014456-10015536|chrX:10133892-10134630\t1.32812\t0.61136\t0.91379\t1.12739\t1.64209\t0.70018\t2.15679\t0.02778\n",
      "chrX\t10014456\t10015536\tchrX\t10156692\t10157047\tchrX:10014456-10015536|chrX:10156692-10157047\t0.82795\t0.16522\t0.74534\t0.82795\t0.91057\t0.66273\t0.99318\t0.03333\n",
      "chrX\t10014456\t10015536\tchrX\t10158454\t10160030\tchrX:10014456-10015536|chrX:10158454-10160030\t0.44624\t0.162\t0.33638\t0.34907\t0.55955\t0.27807\t0.70814\t0.02451\n",
      "chrX\t10014456\t10015536\tchrX\t10165246\t10167071\tchrX:10014456-10015536|chrX:10165246-10167071\t0.61637\t0.36027\t0.3633\t0.41385\t0.76818\t0.31276\t1.12251\t0.01316\n",
      "chrX\t10014456\t10015536\tchrX\t10172889\t10174156\tchrX:10014456-10015536|chrX:10172889-10174156\t1.37931\t1.20719\t0.77571\t1.37931\t1.9829\t0.17211\t2.5865\t0.0119\n"
     ]
    }
   ],
   "source": [
    "FDIRY=${FD_RES}/results/hic_intact_K562_deep/coverage_astarrseq_peak_macs_input/region_pair_chrX/\n",
    "FNAME=region_pair.chrX.SUBSET1.tsv.gz\n",
    "FPATH=${FDIRY}/${FNAME}\n",
    "zcat ${FPATH} | head"
   ]
  },
  {
   "cell_type": "code",
   "execution_count": 4,
   "id": "9c1d8d92-64fd-455c-9755-8d560b2bd56f",
   "metadata": {},
   "outputs": [
    {
     "name": "stdout",
     "output_type": "stream",
     "text": [
      "chrX\t10014456\t10015536\tchrX\t10014456\t10015536\tchrX:10014456-10015536|chrX:10014456-10015536\t11.76076\t13.50927\t2.60598\t6.09284\t14.71749\t0.72899\t53.81496\t0.5625\n",
      "chrX\t10014456\t10015536\tchrX\t10047006\t10047716\tchrX:10014456-10015536|chrX:10047006-10047716\t0.70999\t0.16564\t0.61483\t0.73311\t0.8167\t0.49655\t0.9003\t0.03125\n",
      "chrX\t10014456\t10015536\tchrX\t10109819\t10110295\tchrX:10014456-10015536|chrX:10109819-10110295\t0.70345\t0.31493\t0.48939\t0.59578\t0.86367\t0.383\t1.13155\t0.05\n",
      "chrX\t10014456\t10015536\tchrX\t10119382\t10120047\tchrX:10014456-10015536|chrX:10119382-10120047\t0.24764\t0.12855\t0.14347\t0.20028\t0.32359\t0.10153\t0.52648\t0.14583\n",
      "chrX\t10014456\t10015536\tchrX\t10128173\t10128843\tchrX:10014456-10015536|chrX:10128173-10128843\t0.92679\t0.0\t0.92679\t0.92679\t0.92679\t0.92679\t0.92679\t0.01042\n",
      "chrX\t10014456\t10015536\tchrX\t10133892\t10134630\tchrX:10014456-10015536|chrX:10133892-10134630\t1.32812\t0.61136\t0.91379\t1.12739\t1.64209\t0.70018\t2.15679\t0.02778\n",
      "chrX\t10014456\t10015536\tchrX\t10156692\t10157047\tchrX:10014456-10015536|chrX:10156692-10157047\t0.82795\t0.16522\t0.74534\t0.82795\t0.91057\t0.66273\t0.99318\t0.03333\n",
      "chrX\t10014456\t10015536\tchrX\t10158454\t10160030\tchrX:10014456-10015536|chrX:10158454-10160030\t0.44624\t0.162\t0.33638\t0.34907\t0.55955\t0.27807\t0.70814\t0.02451\n",
      "chrX\t10014456\t10015536\tchrX\t10165246\t10167071\tchrX:10014456-10015536|chrX:10165246-10167071\t0.61637\t0.36027\t0.3633\t0.41385\t0.76818\t0.31276\t1.12251\t0.01316\n",
      "chrX\t10014456\t10015536\tchrX\t10172889\t10174156\tchrX:10014456-10015536|chrX:10172889-10174156\t1.37931\t1.20719\t0.77571\t1.37931\t1.9829\t0.17211\t2.5865\t0.0119\n"
     ]
    }
   ],
   "source": [
    "FDIRY=${FD_RES}/results/hic_intact_K562_deep/coverage_astarrseq_peak_macs_input\n",
    "FNAME=region_pair.chrX.tsv.gz\n",
    "FPATH=${FDIRY}/${FNAME}\n",
    "zcat ${FPATH} | head"
   ]
  },
  {
   "cell_type": "code",
   "execution_count": 5,
   "id": "8a9ab37f-1fd8-4568-b22f-14b2264bba98",
   "metadata": {},
   "outputs": [
    {
     "name": "stdout",
     "output_type": "stream",
     "text": [
      "chr11\t1002205\t1002620\tchr11\t1002205\t1002620\tchr11:1002205-1002620|chr11:1002205-1002620\t35.48858\t19.34637\t20.87331\t28.71582\t54.10481\t9.71025\t72.76383\t0.64\n",
      "chr11\t1002205\t1002620\tchr11\t1011305\t1015066\tchr11:1002205-1002620|chr11:1011305-1015066\t1.42398\t0.38002\t1.1728\t1.35072\t1.55883\t1.04651\t3.03558\t0.15789\n",
      "chr11\t1002205\t1002620\tchr11\t1020290\t1021301\tchr11:1002205-1002620|chr11:1020290-1021301\t1.28405\t0.23429\t1.13417\t1.21364\t1.30767\t1.05986\t1.77048\t0.1\n",
      "chr11\t1002205\t1002620\tchr11\t1025197\t1026832\tchr11:1002205-1002620|chr11:1025197-1026832\t1.26549\t0.07446\t1.22826\t1.26549\t1.30272\t1.19103\t1.33995\t0.02222\n",
      "chr11\t1002205\t1002620\tchr11\t1027690\t1030039\tchr11:1002205-1002620|chr11:1027690-1030039\t1.25809\t0.19257\t1.13146\t1.15974\t1.36857\t1.02984\t1.61703\t0.056\n",
      "chr11\t1002205\t1002620\tchr11\t1035877\t1037428\tchr11:1002205-1002620|chr11:1035877-1037428\t1.21808\t0.22427\t1.01357\t1.19335\t1.30662\t0.97913\t1.59771\t0.05882\n",
      "chr11\t1002205\t1002620\tchr11\t1043243\t1043901\tchr11:1002205-1002620|chr11:1043243-1043901\t1.05988\t0.11778\t1.00099\t1.05988\t1.11877\t0.9421\t1.17766\t0.05\n",
      "chr11\t1002205\t1002620\tchr11\t10477367\t10478723\tchr11:1002205-1002620|chr11:10477367-10478723\t0.92415\t0.0\t0.92415\t0.92415\t0.92415\t0.92415\t0.92415\t0.01333\n",
      "chr11\t1002205\t1002620\tchr11\t1072320\t1076224\tchr11:1002205-1002620|chr11:1072320-1076224\t1.30616\t0.25245\t1.19922\t1.28888\t1.39582\t0.96748\t1.6794\t0.02\n",
      "chr11\t1002205\t1002620\tchr11\t1081803\t1084050\tchr11:1002205-1002620|chr11:1081803-1084050\t1.05343\t0.0\t1.05343\t1.05343\t1.05343\t1.05343\t1.05343\t0.0087\n"
     ]
    }
   ],
   "source": [
    "FDIRY=${FD_RES}/results/hic_intact_K562_deep/coverage_astarrseq_peak_macs_input/region_pair_chr11/\n",
    "FNAME=region_pair.chr11.SUBSET1.tsv.gz\n",
    "FPATH=${FDIRY}/${FNAME}\n",
    "zcat ${FPATH} | head"
   ]
  },
  {
   "cell_type": "code",
   "execution_count": 6,
   "id": "29b7db95-d3bb-459a-a09a-7d6f8f3ef9fb",
   "metadata": {},
   "outputs": [
    {
     "name": "stdout",
     "output_type": "stream",
     "text": [
      "chr11\t1002205\t1002620\tchr11\t1002205\t1002620\tchr11:1002205-1002620|chr11:1002205-1002620\t35.48858\t19.34637\t20.87331\t28.71582\t54.10481\t9.71025\t72.76383\t0.64\n",
      "chr11\t1002205\t1002620\tchr11\t1011305\t1015066\tchr11:1002205-1002620|chr11:1011305-1015066\t1.42398\t0.38002\t1.1728\t1.35072\t1.55883\t1.04651\t3.03558\t0.15789\n",
      "chr11\t1002205\t1002620\tchr11\t1020290\t1021301\tchr11:1002205-1002620|chr11:1020290-1021301\t1.28405\t0.23429\t1.13417\t1.21364\t1.30767\t1.05986\t1.77048\t0.1\n",
      "chr11\t1002205\t1002620\tchr11\t1025197\t1026832\tchr11:1002205-1002620|chr11:1025197-1026832\t1.26549\t0.07446\t1.22826\t1.26549\t1.30272\t1.19103\t1.33995\t0.02222\n",
      "chr11\t1002205\t1002620\tchr11\t1027690\t1030039\tchr11:1002205-1002620|chr11:1027690-1030039\t1.25809\t0.19257\t1.13146\t1.15974\t1.36857\t1.02984\t1.61703\t0.056\n",
      "chr11\t1002205\t1002620\tchr11\t1035877\t1037428\tchr11:1002205-1002620|chr11:1035877-1037428\t1.21808\t0.22427\t1.01357\t1.19335\t1.30662\t0.97913\t1.59771\t0.05882\n",
      "chr11\t1002205\t1002620\tchr11\t1043243\t1043901\tchr11:1002205-1002620|chr11:1043243-1043901\t1.05988\t0.11778\t1.00099\t1.05988\t1.11877\t0.9421\t1.17766\t0.05\n",
      "chr11\t1002205\t1002620\tchr11\t10477367\t10478723\tchr11:1002205-1002620|chr11:10477367-10478723\t0.92415\t0.0\t0.92415\t0.92415\t0.92415\t0.92415\t0.92415\t0.01333\n",
      "chr11\t1002205\t1002620\tchr11\t1072320\t1076224\tchr11:1002205-1002620|chr11:1072320-1076224\t1.30616\t0.25245\t1.19922\t1.28888\t1.39582\t0.96748\t1.6794\t0.02\n",
      "chr11\t1002205\t1002620\tchr11\t1081803\t1084050\tchr11:1002205-1002620|chr11:1081803-1084050\t1.05343\t0.0\t1.05343\t1.05343\t1.05343\t1.05343\t1.05343\t0.0087\n"
     ]
    }
   ],
   "source": [
    "FDIRY=${FD_RES}/results/hic_intact_K562_deep/coverage_astarrseq_peak_macs_input\n",
    "FNAME=region_pair.chr11.tsv.gz\n",
    "FPATH=${FDIRY}/${FNAME}\n",
    "zcat ${FPATH} | head"
   ]
  },
  {
   "cell_type": "code",
   "execution_count": null,
   "id": "543cea2d-93b4-416a-b944-d264e226f153",
   "metadata": {},
   "outputs": [],
   "source": []
  }
 ],
 "metadata": {
  "kernelspec": {
   "display_name": "Bash",
   "language": "bash",
   "name": "bash"
  },
  "language_info": {
   "codemirror_mode": "shell",
   "file_extension": ".sh",
   "mimetype": "text/x-sh",
   "name": "bash"
  }
 },
 "nbformat": 4,
 "nbformat_minor": 5
}
