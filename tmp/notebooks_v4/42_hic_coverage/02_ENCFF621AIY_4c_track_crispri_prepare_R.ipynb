{
 "cells": [
  {
   "cell_type": "markdown",
   "metadata": {},
   "source": [
    "**Set environment**"
   ]
  },
  {
   "cell_type": "code",
   "execution_count": 1,
   "metadata": {},
   "outputs": [
    {
     "name": "stdout",
     "output_type": "stream",
     "text": [
      "You are in Singularity: singularity_proj_encode_fcc \n",
      "BASE DIRECTORY (FD_BASE): /data/reddylab/Kuei \n",
      "WORK DIRECTORY (FD_WORK): /data/reddylab/Kuei/out \n",
      "CODE DIRECTORY (FD_CODE): /data/reddylab/Kuei/code \n",
      "PATH OF PROJECT (FD_PRJ): /data/reddylab/Kuei/code/Proj_CombEffect_ENCODE_FCC \n",
      "PATH OF RESULTS (FD_RES): /data/reddylab/Kuei/out/proj_combeffect_encode_fcc \n",
      "PATH OF LOG     (FD_LOG): /data/reddylab/Kuei/out/proj_combeffect_encode_fcc/log \n"
     ]
    }
   ],
   "source": [
    "suppressWarnings(suppressMessages(source(\"../config/config_sing.R\")))\n",
    "suppressWarnings(suppressMessages(library(\"GenomicRanges\")))\n",
    "show_env()"
   ]
  },
  {
   "cell_type": "markdown",
   "metadata": {},
   "source": [
    "## Import data"
   ]
  },
  {
   "cell_type": "code",
   "execution_count": 2,
   "metadata": {},
   "outputs": [
    {
     "name": "stderr",
     "output_type": "stream",
     "text": [
      "\u001b[1mRows: \u001b[22m\u001b[34m13\u001b[39m \u001b[1mColumns: \u001b[22m\u001b[34m4\u001b[39m\n",
      "\u001b[36m──\u001b[39m \u001b[1mColumn specification\u001b[22m \u001b[36m─────────────────────────────────────────────────────────────────────\u001b[39m\n",
      "\u001b[1mDelimiter:\u001b[22m \"\\t\"\n",
      "\u001b[31mchr\u001b[39m (2): X1, X4\n",
      "\u001b[32mdbl\u001b[39m (2): X2, X3\n",
      "\n",
      "\u001b[36mℹ\u001b[39m Use `spec()` to retrieve the full column specification for this data.\n",
      "\u001b[36mℹ\u001b[39m Specify the column types or set `show_col_types = FALSE` to quiet this message.\n"
     ]
    },
    {
     "name": "stdout",
     "output_type": "stream",
     "text": [
      "[1] 13  4\n"
     ]
    },
    {
     "data": {
      "text/html": [
       "<table class=\"dataframe\">\n",
       "<caption>A spec_tbl_df: 13 × 4</caption>\n",
       "<thead>\n",
       "\t<tr><th scope=col>Chrom</th><th scope=col>Start</th><th scope=col>End</th><th scope=col>Gene</th></tr>\n",
       "\t<tr><th scope=col>&lt;chr&gt;</th><th scope=col>&lt;dbl&gt;</th><th scope=col>&lt;dbl&gt;</th><th scope=col>&lt;chr&gt;</th></tr>\n",
       "</thead>\n",
       "<tbody>\n",
       "\t<tr><td>chr11</td><td>  4091884</td><td>  6419310</td><td>HBE1,HBG1,HBG2,HBS1L,MYB</td></tr>\n",
       "\t<tr><td>chr11</td><td> 33064196</td><td> 34664117</td><td>CAPRIN1,CAT,LMO2        </td></tr>\n",
       "\t<tr><td>chr11</td><td> 61788524</td><td> 61897153</td><td>FADS1,FADS2,FADS3,FEN1  </td></tr>\n",
       "\t<tr><td>chr12</td><td> 54300766</td><td> 54301042</td><td>GATA1,HDAC6             </td></tr>\n",
       "\t<tr><td>chr12</td><td>110726151</td><td>112325737</td><td>ERP29                   </td></tr>\n",
       "\t<tr><td>chr19</td><td> 12887110</td><td> 12887237</td><td>GATA1,HDAC6             </td></tr>\n",
       "\t<tr><td>chr3 </td><td>128487571</td><td>128487937</td><td>GATA1,HDAC6             </td></tr>\n",
       "\t<tr><td>chr4 </td><td> 55237590</td><td> 56068531</td><td>NMU                     </td></tr>\n",
       "\t<tr><td>chr5 </td><td> 87611207</td><td> 89911163</td><td>MEF2C                   </td></tr>\n",
       "\t<tr><td>chr6 </td><td>108840570</td><td>109828800</td><td>CD164                   </td></tr>\n",
       "\t<tr><td>chr6 </td><td>134253831</td><td>136927585</td><td>HBE1,HBG1,HBG2,HBS1L,MYB</td></tr>\n",
       "\t<tr><td>chr8 </td><td>126736094</td><td>128735225</td><td>MYC,PVT1                </td></tr>\n",
       "\t<tr><td>chrX </td><td> 48397930</td><td> 49656988</td><td>GATA1,HDAC6             </td></tr>\n",
       "</tbody>\n",
       "</table>\n"
      ],
      "text/latex": [
       "A spec\\_tbl\\_df: 13 × 4\n",
       "\\begin{tabular}{llll}\n",
       " Chrom & Start & End & Gene\\\\\n",
       " <chr> & <dbl> & <dbl> & <chr>\\\\\n",
       "\\hline\n",
       "\t chr11 &   4091884 &   6419310 & HBE1,HBG1,HBG2,HBS1L,MYB\\\\\n",
       "\t chr11 &  33064196 &  34664117 & CAPRIN1,CAT,LMO2        \\\\\n",
       "\t chr11 &  61788524 &  61897153 & FADS1,FADS2,FADS3,FEN1  \\\\\n",
       "\t chr12 &  54300766 &  54301042 & GATA1,HDAC6             \\\\\n",
       "\t chr12 & 110726151 & 112325737 & ERP29                   \\\\\n",
       "\t chr19 &  12887110 &  12887237 & GATA1,HDAC6             \\\\\n",
       "\t chr3  & 128487571 & 128487937 & GATA1,HDAC6             \\\\\n",
       "\t chr4  &  55237590 &  56068531 & NMU                     \\\\\n",
       "\t chr5  &  87611207 &  89911163 & MEF2C                   \\\\\n",
       "\t chr6  & 108840570 & 109828800 & CD164                   \\\\\n",
       "\t chr6  & 134253831 & 136927585 & HBE1,HBG1,HBG2,HBS1L,MYB\\\\\n",
       "\t chr8  & 126736094 & 128735225 & MYC,PVT1                \\\\\n",
       "\t chrX  &  48397930 &  49656988 & GATA1,HDAC6             \\\\\n",
       "\\end{tabular}\n"
      ],
      "text/markdown": [
       "\n",
       "A spec_tbl_df: 13 × 4\n",
       "\n",
       "| Chrom &lt;chr&gt; | Start &lt;dbl&gt; | End &lt;dbl&gt; | Gene &lt;chr&gt; |\n",
       "|---|---|---|---|\n",
       "| chr11 |   4091884 |   6419310 | HBE1,HBG1,HBG2,HBS1L,MYB |\n",
       "| chr11 |  33064196 |  34664117 | CAPRIN1,CAT,LMO2         |\n",
       "| chr11 |  61788524 |  61897153 | FADS1,FADS2,FADS3,FEN1   |\n",
       "| chr12 |  54300766 |  54301042 | GATA1,HDAC6              |\n",
       "| chr12 | 110726151 | 112325737 | ERP29                    |\n",
       "| chr19 |  12887110 |  12887237 | GATA1,HDAC6              |\n",
       "| chr3  | 128487571 | 128487937 | GATA1,HDAC6              |\n",
       "| chr4  |  55237590 |  56068531 | NMU                      |\n",
       "| chr5  |  87611207 |  89911163 | MEF2C                    |\n",
       "| chr6  | 108840570 | 109828800 | CD164                    |\n",
       "| chr6  | 134253831 | 136927585 | HBE1,HBG1,HBG2,HBS1L,MYB |\n",
       "| chr8  | 126736094 | 128735225 | MYC,PVT1                 |\n",
       "| chrX  |  48397930 |  49656988 | GATA1,HDAC6              |\n",
       "\n"
      ],
      "text/plain": [
       "   Chrom Start     End       Gene                    \n",
       "1  chr11   4091884   6419310 HBE1,HBG1,HBG2,HBS1L,MYB\n",
       "2  chr11  33064196  34664117 CAPRIN1,CAT,LMO2        \n",
       "3  chr11  61788524  61897153 FADS1,FADS2,FADS3,FEN1  \n",
       "4  chr12  54300766  54301042 GATA1,HDAC6             \n",
       "5  chr12 110726151 112325737 ERP29                   \n",
       "6  chr19  12887110  12887237 GATA1,HDAC6             \n",
       "7  chr3  128487571 128487937 GATA1,HDAC6             \n",
       "8  chr4   55237590  56068531 NMU                     \n",
       "9  chr5   87611207  89911163 MEF2C                   \n",
       "10 chr6  108840570 109828800 CD164                   \n",
       "11 chr6  134253831 136927585 HBE1,HBG1,HBG2,HBS1L,MYB\n",
       "12 chr8  126736094 128735225 MYC,PVT1                \n",
       "13 chrX   48397930  49656988 GATA1,HDAC6             "
      ]
     },
     "metadata": {},
     "output_type": "display_data"
    }
   ],
   "source": [
    "fdiry = file.path(FD_RES, \"results\", \"region\")\n",
    "fname = \"region_screened_crispri_flowfish.bed\"\n",
    "fpath = file.path(fdiry, fname)\n",
    "\n",
    "dat = read_tsv(fpath, col_names = FALSE)\n",
    "colnames(dat) = c(\"Chrom\", \"Start\", \"End\", \"Gene\")\n",
    "dat_crispr_region = dat\n",
    "print(dim(dat))\n",
    "dat"
   ]
  },
  {
   "cell_type": "code",
   "execution_count": 3,
   "metadata": {},
   "outputs": [
    {
     "name": "stderr",
     "output_type": "stream",
     "text": [
      "\u001b[1mRows: \u001b[22m\u001b[34m20\u001b[39m \u001b[1mColumns: \u001b[22m\u001b[34m8\u001b[39m\n",
      "\u001b[36m──\u001b[39m \u001b[1mColumn specification\u001b[22m \u001b[36m─────────────────────────────────────────────────────────────────────\u001b[39m\n",
      "\u001b[1mDelimiter:\u001b[22m \"\\t\"\n",
      "\u001b[31mchr\u001b[39m (4): Chrom, Strand, Coord, Gene\n",
      "\u001b[32mdbl\u001b[39m (4): Start, End, TSS, TES\n",
      "\n",
      "\u001b[36mℹ\u001b[39m Use `spec()` to retrieve the full column specification for this data.\n",
      "\u001b[36mℹ\u001b[39m Specify the column types or set `show_col_types = FALSE` to quiet this message.\n"
     ]
    },
    {
     "name": "stdout",
     "output_type": "stream",
     "text": [
      "[1] 20  8\n"
     ]
    },
    {
     "data": {
      "text/html": [
       "<table class=\"dataframe\">\n",
       "<caption>A spec_tbl_df: 20 × 8</caption>\n",
       "<thead>\n",
       "\t<tr><th scope=col>Chrom</th><th scope=col>Start</th><th scope=col>End</th><th scope=col>Strand</th><th scope=col>TSS</th><th scope=col>TES</th><th scope=col>Coord</th><th scope=col>Gene</th></tr>\n",
       "\t<tr><th scope=col>&lt;chr&gt;</th><th scope=col>&lt;dbl&gt;</th><th scope=col>&lt;dbl&gt;</th><th scope=col>&lt;chr&gt;</th><th scope=col>&lt;dbl&gt;</th><th scope=col>&lt;dbl&gt;</th><th scope=col>&lt;chr&gt;</th><th scope=col>&lt;chr&gt;</th></tr>\n",
       "</thead>\n",
       "<tbody>\n",
       "\t<tr><td>chr11</td><td> 34051730</td><td> 34102610</td><td>+</td><td> 34051730</td><td> 34102610</td><td>chr11:34051730-34102610  </td><td>CAPRIN1</td></tr>\n",
       "\t<tr><td>chr11</td><td> 34438933</td><td> 34472060</td><td>+</td><td> 34438933</td><td> 34472060</td><td>chr11:34438933-34472060  </td><td>CAT    </td></tr>\n",
       "\t<tr><td>chr6 </td><td>109366513</td><td>109382467</td><td>-</td><td>109382467</td><td>109366513</td><td>chr6:109366513-109382467 </td><td>CD164  </td></tr>\n",
       "\t<tr><td>chr12</td><td>112013347</td><td>112023220</td><td>+</td><td>112013347</td><td>112023220</td><td>chr12:112013347-112023220</td><td>ERP29  </td></tr>\n",
       "\t<tr><td>chr11</td><td> 61799628</td><td> 61817003</td><td>-</td><td> 61817003</td><td> 61799628</td><td>chr11:61799628-61817003  </td><td>FADS1  </td></tr>\n",
       "\t<tr><td>chr11</td><td> 61816202</td><td> 61867354</td><td>+</td><td> 61816202</td><td> 61867354</td><td>chr11:61816202-61867354  </td><td>FADS2  </td></tr>\n",
       "\t<tr><td>chr11</td><td> 61873525</td><td> 61891545</td><td>-</td><td> 61891545</td><td> 61873525</td><td>chr11:61873525-61891545  </td><td>FADS3  </td></tr>\n",
       "\t<tr><td>chr11</td><td> 61792910</td><td> 61797238</td><td>+</td><td> 61792910</td><td> 61797238</td><td>chr11:61792910-61797238  </td><td>FEN1   </td></tr>\n",
       "\t<tr><td>chrX </td><td> 48786589</td><td> 48794310</td><td>+</td><td> 48786589</td><td> 48794310</td><td>chrX:48786589-48794310   </td><td>GATA1  </td></tr>\n",
       "\t<tr><td>chr11</td><td>  5268345</td><td>  5269945</td><td>-</td><td>  5269945</td><td>  5268345</td><td>chr11:5268345-5269945    </td><td>HBE1   </td></tr>\n",
       "\t<tr><td>chr11</td><td>  5248268</td><td>  5249857</td><td>-</td><td>  5249857</td><td>  5248268</td><td>chr11:5248268-5249857    </td><td>HBG1   </td></tr>\n",
       "\t<tr><td>chr11</td><td>  5253187</td><td>  5254781</td><td>-</td><td>  5254781</td><td>  5253187</td><td>chr11:5253187-5254781    </td><td>HBG2   </td></tr>\n",
       "\t<tr><td>chr6 </td><td>134960382</td><td>135054822</td><td>-</td><td>135054822</td><td>134960382</td><td>chr6:134960382-135054822 </td><td>HBS1L  </td></tr>\n",
       "\t<tr><td>chrX </td><td> 48802066</td><td> 48824972</td><td>+</td><td> 48802066</td><td> 48824972</td><td>chrX:48802066-48824972   </td><td>HDAC6  </td></tr>\n",
       "\t<tr><td>chr11</td><td> 33858575</td><td> 33869878</td><td>-</td><td> 33869878</td><td> 33858575</td><td>chr11:33858575-33869878  </td><td>LMO2   </td></tr>\n",
       "\t<tr><td>chr5 </td><td> 88717116</td><td> 88883184</td><td>-</td><td> 88883184</td><td> 88717116</td><td>chr5:88717116-88883184   </td><td>MEF2C  </td></tr>\n",
       "\t<tr><td>chr6 </td><td>135181307</td><td>135219172</td><td>+</td><td>135181307</td><td>135219172</td><td>chr6:135181307-135219172 </td><td>MYB    </td></tr>\n",
       "\t<tr><td>chr8 </td><td>127736230</td><td>127742951</td><td>+</td><td>127736230</td><td>127742951</td><td>chr8:127736230-127742951 </td><td>MYC    </td></tr>\n",
       "\t<tr><td>chr4 </td><td> 55595230</td><td> 55636298</td><td>-</td><td> 55636298</td><td> 55595230</td><td>chr4:55595230-55636298   </td><td>NMU    </td></tr>\n",
       "\t<tr><td>chr8 </td><td>127794532</td><td>128101253</td><td>+</td><td>127794532</td><td>128101253</td><td>chr8:127794532-128101253 </td><td>PVT1   </td></tr>\n",
       "</tbody>\n",
       "</table>\n"
      ],
      "text/latex": [
       "A spec\\_tbl\\_df: 20 × 8\n",
       "\\begin{tabular}{llllllll}\n",
       " Chrom & Start & End & Strand & TSS & TES & Coord & Gene\\\\\n",
       " <chr> & <dbl> & <dbl> & <chr> & <dbl> & <dbl> & <chr> & <chr>\\\\\n",
       "\\hline\n",
       "\t chr11 &  34051730 &  34102610 & + &  34051730 &  34102610 & chr11:34051730-34102610   & CAPRIN1\\\\\n",
       "\t chr11 &  34438933 &  34472060 & + &  34438933 &  34472060 & chr11:34438933-34472060   & CAT    \\\\\n",
       "\t chr6  & 109366513 & 109382467 & - & 109382467 & 109366513 & chr6:109366513-109382467  & CD164  \\\\\n",
       "\t chr12 & 112013347 & 112023220 & + & 112013347 & 112023220 & chr12:112013347-112023220 & ERP29  \\\\\n",
       "\t chr11 &  61799628 &  61817003 & - &  61817003 &  61799628 & chr11:61799628-61817003   & FADS1  \\\\\n",
       "\t chr11 &  61816202 &  61867354 & + &  61816202 &  61867354 & chr11:61816202-61867354   & FADS2  \\\\\n",
       "\t chr11 &  61873525 &  61891545 & - &  61891545 &  61873525 & chr11:61873525-61891545   & FADS3  \\\\\n",
       "\t chr11 &  61792910 &  61797238 & + &  61792910 &  61797238 & chr11:61792910-61797238   & FEN1   \\\\\n",
       "\t chrX  &  48786589 &  48794310 & + &  48786589 &  48794310 & chrX:48786589-48794310    & GATA1  \\\\\n",
       "\t chr11 &   5268345 &   5269945 & - &   5269945 &   5268345 & chr11:5268345-5269945     & HBE1   \\\\\n",
       "\t chr11 &   5248268 &   5249857 & - &   5249857 &   5248268 & chr11:5248268-5249857     & HBG1   \\\\\n",
       "\t chr11 &   5253187 &   5254781 & - &   5254781 &   5253187 & chr11:5253187-5254781     & HBG2   \\\\\n",
       "\t chr6  & 134960382 & 135054822 & - & 135054822 & 134960382 & chr6:134960382-135054822  & HBS1L  \\\\\n",
       "\t chrX  &  48802066 &  48824972 & + &  48802066 &  48824972 & chrX:48802066-48824972    & HDAC6  \\\\\n",
       "\t chr11 &  33858575 &  33869878 & - &  33869878 &  33858575 & chr11:33858575-33869878   & LMO2   \\\\\n",
       "\t chr5  &  88717116 &  88883184 & - &  88883184 &  88717116 & chr5:88717116-88883184    & MEF2C  \\\\\n",
       "\t chr6  & 135181307 & 135219172 & + & 135181307 & 135219172 & chr6:135181307-135219172  & MYB    \\\\\n",
       "\t chr8  & 127736230 & 127742951 & + & 127736230 & 127742951 & chr8:127736230-127742951  & MYC    \\\\\n",
       "\t chr4  &  55595230 &  55636298 & - &  55636298 &  55595230 & chr4:55595230-55636298    & NMU    \\\\\n",
       "\t chr8  & 127794532 & 128101253 & + & 127794532 & 128101253 & chr8:127794532-128101253  & PVT1   \\\\\n",
       "\\end{tabular}\n"
      ],
      "text/markdown": [
       "\n",
       "A spec_tbl_df: 20 × 8\n",
       "\n",
       "| Chrom &lt;chr&gt; | Start &lt;dbl&gt; | End &lt;dbl&gt; | Strand &lt;chr&gt; | TSS &lt;dbl&gt; | TES &lt;dbl&gt; | Coord &lt;chr&gt; | Gene &lt;chr&gt; |\n",
       "|---|---|---|---|---|---|---|---|\n",
       "| chr11 |  34051730 |  34102610 | + |  34051730 |  34102610 | chr11:34051730-34102610   | CAPRIN1 |\n",
       "| chr11 |  34438933 |  34472060 | + |  34438933 |  34472060 | chr11:34438933-34472060   | CAT     |\n",
       "| chr6  | 109366513 | 109382467 | - | 109382467 | 109366513 | chr6:109366513-109382467  | CD164   |\n",
       "| chr12 | 112013347 | 112023220 | + | 112013347 | 112023220 | chr12:112013347-112023220 | ERP29   |\n",
       "| chr11 |  61799628 |  61817003 | - |  61817003 |  61799628 | chr11:61799628-61817003   | FADS1   |\n",
       "| chr11 |  61816202 |  61867354 | + |  61816202 |  61867354 | chr11:61816202-61867354   | FADS2   |\n",
       "| chr11 |  61873525 |  61891545 | - |  61891545 |  61873525 | chr11:61873525-61891545   | FADS3   |\n",
       "| chr11 |  61792910 |  61797238 | + |  61792910 |  61797238 | chr11:61792910-61797238   | FEN1    |\n",
       "| chrX  |  48786589 |  48794310 | + |  48786589 |  48794310 | chrX:48786589-48794310    | GATA1   |\n",
       "| chr11 |   5268345 |   5269945 | - |   5269945 |   5268345 | chr11:5268345-5269945     | HBE1    |\n",
       "| chr11 |   5248268 |   5249857 | - |   5249857 |   5248268 | chr11:5248268-5249857     | HBG1    |\n",
       "| chr11 |   5253187 |   5254781 | - |   5254781 |   5253187 | chr11:5253187-5254781     | HBG2    |\n",
       "| chr6  | 134960382 | 135054822 | - | 135054822 | 134960382 | chr6:134960382-135054822  | HBS1L   |\n",
       "| chrX  |  48802066 |  48824972 | + |  48802066 |  48824972 | chrX:48802066-48824972    | HDAC6   |\n",
       "| chr11 |  33858575 |  33869878 | - |  33869878 |  33858575 | chr11:33858575-33869878   | LMO2    |\n",
       "| chr5  |  88717116 |  88883184 | - |  88883184 |  88717116 | chr5:88717116-88883184    | MEF2C   |\n",
       "| chr6  | 135181307 | 135219172 | + | 135181307 | 135219172 | chr6:135181307-135219172  | MYB     |\n",
       "| chr8  | 127736230 | 127742951 | + | 127736230 | 127742951 | chr8:127736230-127742951  | MYC     |\n",
       "| chr4  |  55595230 |  55636298 | - |  55636298 |  55595230 | chr4:55595230-55636298    | NMU     |\n",
       "| chr8  | 127794532 | 128101253 | + | 127794532 | 128101253 | chr8:127794532-128101253  | PVT1    |\n",
       "\n"
      ],
      "text/plain": [
       "   Chrom Start     End       Strand TSS       TES      \n",
       "1  chr11  34051730  34102610 +       34051730  34102610\n",
       "2  chr11  34438933  34472060 +       34438933  34472060\n",
       "3  chr6  109366513 109382467 -      109382467 109366513\n",
       "4  chr12 112013347 112023220 +      112013347 112023220\n",
       "5  chr11  61799628  61817003 -       61817003  61799628\n",
       "6  chr11  61816202  61867354 +       61816202  61867354\n",
       "7  chr11  61873525  61891545 -       61891545  61873525\n",
       "8  chr11  61792910  61797238 +       61792910  61797238\n",
       "9  chrX   48786589  48794310 +       48786589  48794310\n",
       "10 chr11   5268345   5269945 -        5269945   5268345\n",
       "11 chr11   5248268   5249857 -        5249857   5248268\n",
       "12 chr11   5253187   5254781 -        5254781   5253187\n",
       "13 chr6  134960382 135054822 -      135054822 134960382\n",
       "14 chrX   48802066  48824972 +       48802066  48824972\n",
       "15 chr11  33858575  33869878 -       33869878  33858575\n",
       "16 chr5   88717116  88883184 -       88883184  88717116\n",
       "17 chr6  135181307 135219172 +      135181307 135219172\n",
       "18 chr8  127736230 127742951 +      127736230 127742951\n",
       "19 chr4   55595230  55636298 -       55636298  55595230\n",
       "20 chr8  127794532 128101253 +      127794532 128101253\n",
       "   Coord                     Gene   \n",
       "1  chr11:34051730-34102610   CAPRIN1\n",
       "2  chr11:34438933-34472060   CAT    \n",
       "3  chr6:109366513-109382467  CD164  \n",
       "4  chr12:112013347-112023220 ERP29  \n",
       "5  chr11:61799628-61817003   FADS1  \n",
       "6  chr11:61816202-61867354   FADS2  \n",
       "7  chr11:61873525-61891545   FADS3  \n",
       "8  chr11:61792910-61797238   FEN1   \n",
       "9  chrX:48786589-48794310    GATA1  \n",
       "10 chr11:5268345-5269945     HBE1   \n",
       "11 chr11:5248268-5249857     HBG1   \n",
       "12 chr11:5253187-5254781     HBG2   \n",
       "13 chr6:134960382-135054822  HBS1L  \n",
       "14 chrX:48802066-48824972    HDAC6  \n",
       "15 chr11:33858575-33869878   LMO2   \n",
       "16 chr5:88717116-88883184    MEF2C  \n",
       "17 chr6:135181307-135219172  MYB    \n",
       "18 chr8:127736230-127742951  MYC    \n",
       "19 chr4:55595230-55636298    NMU    \n",
       "20 chr8:127794532-128101253  PVT1   "
      ]
     },
     "metadata": {},
     "output_type": "display_data"
    }
   ],
   "source": [
    "fdiry = file.path(FD_RES, \"results\", \"region\", \"annotation_crispri_hcrff\")\n",
    "fname = \"K562_HCRFF_20genes_TSS_TES_coords.tsv\"\n",
    "fpath = file.path(fdiry, fname)\n",
    "\n",
    "dat = read_tsv(fpath)\n",
    "dat_crispr_gene_coord = dat\n",
    "print(dim(dat))\n",
    "dat"
   ]
  },
  {
   "cell_type": "code",
   "execution_count": 4,
   "metadata": {},
   "outputs": [
    {
     "name": "stdout",
     "output_type": "stream",
     "text": [
      "[1] 20  5\n"
     ]
    },
    {
     "data": {
      "text/html": [
       "<table class=\"dataframe\">\n",
       "<caption>A tibble: 20 × 5</caption>\n",
       "<thead>\n",
       "\t<tr><th scope=col>Chrom</th><th scope=col>Start</th><th scope=col>End</th><th scope=col>TSS</th><th scope=col>Gene</th></tr>\n",
       "\t<tr><th scope=col>&lt;chr&gt;</th><th scope=col>&lt;dbl&gt;</th><th scope=col>&lt;dbl&gt;</th><th scope=col>&lt;dbl&gt;</th><th scope=col>&lt;chr&gt;</th></tr>\n",
       "</thead>\n",
       "<tbody>\n",
       "\t<tr><td>chr11</td><td>  4091884</td><td>  6419310</td><td>  5269945</td><td>HBE1   </td></tr>\n",
       "\t<tr><td>chr11</td><td>  4091884</td><td>  6419310</td><td>  5249857</td><td>HBG1   </td></tr>\n",
       "\t<tr><td>chr11</td><td>  4091884</td><td>  6419310</td><td>  5254781</td><td>HBG2   </td></tr>\n",
       "\t<tr><td>chr11</td><td> 33064196</td><td> 34664117</td><td> 34051730</td><td>CAPRIN1</td></tr>\n",
       "\t<tr><td>chr11</td><td> 33064196</td><td> 34664117</td><td> 34438933</td><td>CAT    </td></tr>\n",
       "\t<tr><td>chr11</td><td> 33064196</td><td> 34664117</td><td> 33869878</td><td>LMO2   </td></tr>\n",
       "\t<tr><td>chr11</td><td> 61788524</td><td> 61897153</td><td> 61817003</td><td>FADS1  </td></tr>\n",
       "\t<tr><td>chr11</td><td> 61788524</td><td> 61897153</td><td> 61816202</td><td>FADS2  </td></tr>\n",
       "\t<tr><td>chr11</td><td> 61788524</td><td> 61897153</td><td> 61891545</td><td>FADS3  </td></tr>\n",
       "\t<tr><td>chr11</td><td> 61788524</td><td> 61897153</td><td> 61792910</td><td>FEN1   </td></tr>\n",
       "\t<tr><td>chr12</td><td>110726151</td><td>112325737</td><td>112013347</td><td>ERP29  </td></tr>\n",
       "\t<tr><td>chr4 </td><td> 55237590</td><td> 56068531</td><td> 55636298</td><td>NMU    </td></tr>\n",
       "\t<tr><td>chr5 </td><td> 87611207</td><td> 89911163</td><td> 88883184</td><td>MEF2C  </td></tr>\n",
       "\t<tr><td>chr6 </td><td>108840570</td><td>109828800</td><td>109382467</td><td>CD164  </td></tr>\n",
       "\t<tr><td>chr6 </td><td>134253831</td><td>136927585</td><td>135054822</td><td>HBS1L  </td></tr>\n",
       "\t<tr><td>chr6 </td><td>134253831</td><td>136927585</td><td>135181307</td><td>MYB    </td></tr>\n",
       "\t<tr><td>chr8 </td><td>126736094</td><td>128735225</td><td>127736230</td><td>MYC    </td></tr>\n",
       "\t<tr><td>chr8 </td><td>126736094</td><td>128735225</td><td>127794532</td><td>PVT1   </td></tr>\n",
       "\t<tr><td>chrX </td><td> 48397930</td><td> 49656988</td><td> 48786589</td><td>GATA1  </td></tr>\n",
       "\t<tr><td>chrX </td><td> 48397930</td><td> 49656988</td><td> 48802066</td><td>HDAC6  </td></tr>\n",
       "</tbody>\n",
       "</table>\n"
      ],
      "text/latex": [
       "A tibble: 20 × 5\n",
       "\\begin{tabular}{lllll}\n",
       " Chrom & Start & End & TSS & Gene\\\\\n",
       " <chr> & <dbl> & <dbl> & <dbl> & <chr>\\\\\n",
       "\\hline\n",
       "\t chr11 &   4091884 &   6419310 &   5269945 & HBE1   \\\\\n",
       "\t chr11 &   4091884 &   6419310 &   5249857 & HBG1   \\\\\n",
       "\t chr11 &   4091884 &   6419310 &   5254781 & HBG2   \\\\\n",
       "\t chr11 &  33064196 &  34664117 &  34051730 & CAPRIN1\\\\\n",
       "\t chr11 &  33064196 &  34664117 &  34438933 & CAT    \\\\\n",
       "\t chr11 &  33064196 &  34664117 &  33869878 & LMO2   \\\\\n",
       "\t chr11 &  61788524 &  61897153 &  61817003 & FADS1  \\\\\n",
       "\t chr11 &  61788524 &  61897153 &  61816202 & FADS2  \\\\\n",
       "\t chr11 &  61788524 &  61897153 &  61891545 & FADS3  \\\\\n",
       "\t chr11 &  61788524 &  61897153 &  61792910 & FEN1   \\\\\n",
       "\t chr12 & 110726151 & 112325737 & 112013347 & ERP29  \\\\\n",
       "\t chr4  &  55237590 &  56068531 &  55636298 & NMU    \\\\\n",
       "\t chr5  &  87611207 &  89911163 &  88883184 & MEF2C  \\\\\n",
       "\t chr6  & 108840570 & 109828800 & 109382467 & CD164  \\\\\n",
       "\t chr6  & 134253831 & 136927585 & 135054822 & HBS1L  \\\\\n",
       "\t chr6  & 134253831 & 136927585 & 135181307 & MYB    \\\\\n",
       "\t chr8  & 126736094 & 128735225 & 127736230 & MYC    \\\\\n",
       "\t chr8  & 126736094 & 128735225 & 127794532 & PVT1   \\\\\n",
       "\t chrX  &  48397930 &  49656988 &  48786589 & GATA1  \\\\\n",
       "\t chrX  &  48397930 &  49656988 &  48802066 & HDAC6  \\\\\n",
       "\\end{tabular}\n"
      ],
      "text/markdown": [
       "\n",
       "A tibble: 20 × 5\n",
       "\n",
       "| Chrom &lt;chr&gt; | Start &lt;dbl&gt; | End &lt;dbl&gt; | TSS &lt;dbl&gt; | Gene &lt;chr&gt; |\n",
       "|---|---|---|---|---|\n",
       "| chr11 |   4091884 |   6419310 |   5269945 | HBE1    |\n",
       "| chr11 |   4091884 |   6419310 |   5249857 | HBG1    |\n",
       "| chr11 |   4091884 |   6419310 |   5254781 | HBG2    |\n",
       "| chr11 |  33064196 |  34664117 |  34051730 | CAPRIN1 |\n",
       "| chr11 |  33064196 |  34664117 |  34438933 | CAT     |\n",
       "| chr11 |  33064196 |  34664117 |  33869878 | LMO2    |\n",
       "| chr11 |  61788524 |  61897153 |  61817003 | FADS1   |\n",
       "| chr11 |  61788524 |  61897153 |  61816202 | FADS2   |\n",
       "| chr11 |  61788524 |  61897153 |  61891545 | FADS3   |\n",
       "| chr11 |  61788524 |  61897153 |  61792910 | FEN1    |\n",
       "| chr12 | 110726151 | 112325737 | 112013347 | ERP29   |\n",
       "| chr4  |  55237590 |  56068531 |  55636298 | NMU     |\n",
       "| chr5  |  87611207 |  89911163 |  88883184 | MEF2C   |\n",
       "| chr6  | 108840570 | 109828800 | 109382467 | CD164   |\n",
       "| chr6  | 134253831 | 136927585 | 135054822 | HBS1L   |\n",
       "| chr6  | 134253831 | 136927585 | 135181307 | MYB     |\n",
       "| chr8  | 126736094 | 128735225 | 127736230 | MYC     |\n",
       "| chr8  | 126736094 | 128735225 | 127794532 | PVT1    |\n",
       "| chrX  |  48397930 |  49656988 |  48786589 | GATA1   |\n",
       "| chrX  |  48397930 |  49656988 |  48802066 | HDAC6   |\n",
       "\n"
      ],
      "text/plain": [
       "   Chrom Start     End       TSS       Gene   \n",
       "1  chr11   4091884   6419310   5269945 HBE1   \n",
       "2  chr11   4091884   6419310   5249857 HBG1   \n",
       "3  chr11   4091884   6419310   5254781 HBG2   \n",
       "4  chr11  33064196  34664117  34051730 CAPRIN1\n",
       "5  chr11  33064196  34664117  34438933 CAT    \n",
       "6  chr11  33064196  34664117  33869878 LMO2   \n",
       "7  chr11  61788524  61897153  61817003 FADS1  \n",
       "8  chr11  61788524  61897153  61816202 FADS2  \n",
       "9  chr11  61788524  61897153  61891545 FADS3  \n",
       "10 chr11  61788524  61897153  61792910 FEN1   \n",
       "11 chr12 110726151 112325737 112013347 ERP29  \n",
       "12 chr4   55237590  56068531  55636298 NMU    \n",
       "13 chr5   87611207  89911163  88883184 MEF2C  \n",
       "14 chr6  108840570 109828800 109382467 CD164  \n",
       "15 chr6  134253831 136927585 135054822 HBS1L  \n",
       "16 chr6  134253831 136927585 135181307 MYB    \n",
       "17 chr8  126736094 128735225 127736230 MYC    \n",
       "18 chr8  126736094 128735225 127794532 PVT1   \n",
       "19 chrX   48397930  49656988  48786589 GATA1  \n",
       "20 chrX   48397930  49656988  48802066 HDAC6  "
      ]
     },
     "metadata": {},
     "output_type": "display_data"
    }
   ],
   "source": [
    "dat = dat_crispr_region\n",
    "dat = dat %>% tidyr::separate_rows(Gene)\n",
    "colnames(dat) = c(\"Chrom\", \"Start\", \"End\", \"Gene\")\n",
    "dat1 = dat\n",
    "\n",
    "dat = dat_crispr_gene_coord\n",
    "dat = dat %>% dplyr::select(Chrom, TSS, Gene)\n",
    "dat2 = dat\n",
    "\n",
    "dat = dplyr::left_join(dat1, dat2, by=c(\"Chrom\", \"Gene\")) %>% \n",
    "    dplyr::select(Chrom, Start, End, TSS, Gene) %>%\n",
    "    na.omit\n",
    "\n",
    "dat_crispr_gene_region = dat\n",
    "print(dim(dat))\n",
    "dat"
   ]
  },
  {
   "cell_type": "markdown",
   "metadata": {},
   "source": [
    "## Generate script column"
   ]
  },
  {
   "cell_type": "markdown",
   "metadata": {},
   "source": [
    "```\n",
    "python ./scripts/gen_4c_track.py \\\n",
    "       --fpath_hic ${FD_RES}/source/hic_intact_ENCSR479XDG/ENCFF621AIY.hic \\\n",
    "       --normalization NONE \\\n",
    "       --resolution 2_000 \\\n",
    "       --chrom chrX \\\n",
    "       --x1 48_000_000 \\\n",
    "       --y1 50_000_000 \\\n",
    "       --x2 48_800_000 \\\n",
    "       --y2 48_804_000 \\\n",
    "       --verbose\n",
    "```"
   ]
  },
  {
   "cell_type": "code",
   "execution_count": 5,
   "metadata": {},
   "outputs": [
    {
     "name": "stdout",
     "output_type": "stream",
     "text": [
      "[1] \"/data/reddylab/Kuei/code/Proj_CombEffect_ENCODE_FCC\"\n",
      "[1] \"/data/reddylab/Kuei/out/proj_combeffect_encode_fcc\"\n"
     ]
    }
   ],
   "source": [
    "print(FD_PRJ)\n",
    "print(FD_RES)"
   ]
  },
  {
   "cell_type": "code",
   "execution_count": 6,
   "metadata": {},
   "outputs": [],
   "source": [
    "###\n",
    "fpath_script  = file.path(FD_PRJ, \"notebooks\", \"42_hic_coverage\", \"gen_virtual4c_track.py\")\n",
    "fpath_hic     = file.path(FD_RES, \"source\",  \"hic_intact_K562_ENCSR479XDG\", \"ENCFF621AIY.hic\")\n",
    "fdiry_out     = file.path(FD_RES, \"results\", \"hic_intact_K562_ENCSR479XDG\", \"coverage_virtual4c_track_crispri_hcrff\")\n",
    "fname_prefix  = paste(\"virtual4C\", \"K562\", \"ENCFF621AIY\", sep=\".\")\n",
    "normalization = \"SCALE\"\n",
    "resolution    = \"100\"\n",
    "\n",
    "###\n",
    "dat = dat_crispr_gene_region\n",
    "dat = dat %>% \n",
    "    dplyr::rowwise() %>% \n",
    "    dplyr::mutate(CMD = paste(\n",
    "        paste(\"python\",          fpath_script),\n",
    "        paste(\"--fpath_hic\",     fpath_hic),\n",
    "        paste(\"--fpath_out\",     file.path(\n",
    "            fdiry_out, \n",
    "            paste(fname_prefix, Gene, \"TSS\", \"3K\", \"bg\", sep=\".\")\n",
    "        )),\n",
    "        paste(\"--normalization\", normalization),\n",
    "        paste(\"--resolution\",    resolution),\n",
    "        paste(\"--chrom\", Chrom),\n",
    "        paste(\"--x1\",    Start),\n",
    "        paste(\"--y1\",    End),\n",
    "        paste(\"--x2\",    TSS - 3000),\n",
    "        paste(\"--y2\",    TSS + 3000),\n",
    "        \"--verbose\"\n",
    "))\n",
    "dat_crispr_gene_region_cmd_3k = dat\n",
    "\n",
    "###\n",
    "dat = dat_crispr_gene_region\n",
    "dat = dat %>% \n",
    "    dplyr::rowwise() %>% \n",
    "    dplyr::mutate(CMD = paste(\n",
    "        paste(\"python\",          fpath_script),\n",
    "        paste(\"--fpath_hic\",     fpath_hic),\n",
    "        paste(\"--fpath_out\",     file.path(\n",
    "            fdiry_out, \n",
    "            paste(fname_prefix, Gene, \"TSS\", \"1K\", \"bg\", sep=\".\")\n",
    "        )),\n",
    "        paste(\"--normalization\", normalization),\n",
    "        paste(\"--resolution\",    resolution),\n",
    "        paste(\"--chrom\", Chrom),\n",
    "        paste(\"--x1\",    Start),\n",
    "        paste(\"--y1\",    End),\n",
    "        paste(\"--x2\",    TSS - 1000),\n",
    "        paste(\"--y2\",    TSS + 1000),\n",
    "        \"--verbose\"\n",
    "))\n",
    "dat_crispr_gene_region_cmd_1k = dat"
   ]
  },
  {
   "cell_type": "markdown",
   "metadata": {},
   "source": [
    "## Save results"
   ]
  },
  {
   "cell_type": "code",
   "execution_count": 7,
   "metadata": {},
   "outputs": [],
   "source": [
    "fdiry = file.path(\".\")\n",
    "fname = \"hic_intact_K562_ENCSR479XDG_virtual4c_track_crispri_hcrff_3K.tsv\"\n",
    "fpath = file.path(fdiry, fname)\n",
    "\n",
    "write_tsv(dat_crispr_gene_region_cmd_3k, fpath)"
   ]
  },
  {
   "cell_type": "code",
   "execution_count": 8,
   "metadata": {},
   "outputs": [],
   "source": [
    "fdiry = file.path(\".\")\n",
    "fname = \"hic_intact_K562_ENCSR479XDG_virtual4c_track_crispri_hcrff_1K.tsv\"\n",
    "fpath = file.path(fdiry, fname)\n",
    "\n",
    "write_tsv(dat_crispr_gene_region_cmd_1k, fpath)"
   ]
  },
  {
   "cell_type": "code",
   "execution_count": null,
   "metadata": {},
   "outputs": [],
   "source": []
  }
 ],
 "metadata": {
  "kernelspec": {
   "display_name": "R",
   "language": "R",
   "name": "ir"
  },
  "language_info": {
   "codemirror_mode": "r",
   "file_extension": ".r",
   "mimetype": "text/x-r-source",
   "name": "R",
   "pygments_lexer": "r",
   "version": "4.3.0"
  }
 },
 "nbformat": 4,
 "nbformat_minor": 4
}
