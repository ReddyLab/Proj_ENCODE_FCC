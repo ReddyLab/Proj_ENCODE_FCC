{
 "cells": [
  {
   "cell_type": "markdown",
   "id": "b1163cff-9677-4acb-bd83-bda807a00b9d",
   "metadata": {},
   "source": [
    "**Set environment**"
   ]
  },
  {
   "cell_type": "code",
   "execution_count": 1,
   "id": "9fb50819-e7af-4d97-a2d7-42b236730d41",
   "metadata": {},
   "outputs": [
    {
     "name": "stdout",
     "output_type": "stream",
     "text": [
      "You are on Duke Server: HARDAC\n",
      "BASE DIRECTORY (FD_BASE): /data/reddylab/Kuei\n",
      "WORK DIRECTORY (FD_WORK): /data/reddylab/Kuei/out\n",
      "CODE DIRECTORY (FD_CODE): /data/reddylab/Kuei/code\n",
      "SING DIRECTORY (FD_SING): /data/reddylab/Kuei/singularity\n",
      "PATH OF PROJECT (FD_PRJ): /data/reddylab/Kuei/code/Proj_CombEffect_ENCODE_FCC\n",
      "PATH OF RESULTS (FD_RES): /data/reddylab/Kuei/out/proj_combeffect_encode_fcc\n",
      "PATH OF LOG     (FD_LOG): /data/reddylab/Kuei/out/proj_combeffect_encode_fcc/log\n",
      "\n"
     ]
    }
   ],
   "source": [
    "source ../config/config_duke.sh\n",
    "show_env"
   ]
  },
  {
   "cell_type": "markdown",
   "id": "4a5ebeee-5633-422c-a5b3-2a24ed471302",
   "metadata": {},
   "source": [
    "**check data**"
   ]
  },
  {
   "cell_type": "code",
   "execution_count": 3,
   "id": "415d09bd-6768-4d8f-9073-ca6521356d4e",
   "metadata": {},
   "outputs": [
    {
     "name": "stdout",
     "output_type": "stream",
     "text": [
      "inter.hic  localizedList_primary_10.bedpe\n"
     ]
    }
   ],
   "source": [
    "FDIRY=${FD_RES}/source/hic_intact_K562_deep\n",
    "ls ${FDIRY}"
   ]
  },
  {
   "cell_type": "code",
   "execution_count": 5,
   "id": "628bc8b2-f2dc-4a35-b586-ec17502eff94",
   "metadata": {},
   "outputs": [
    {
     "name": "stdout",
     "output_type": "stream",
     "text": [
      "./hic_intact_K562_deep_virtual4c_track_crispri_hcrff_1K.tsv\n",
      "./hic_intact_K562_deep_virtual4c_track_crispri_hcrff_3K.tsv\n",
      "./hic_intact_K562_ENCSR479XDG_virtual4c_track_crispri_hcrff_1K.tsv\n",
      "./hic_intact_K562_ENCSR479XDG_virtual4c_track_crispri_hcrff_3K.tsv\n"
     ]
    }
   ],
   "source": [
    "ls ./*tsv"
   ]
  },
  {
   "cell_type": "code",
   "execution_count": 6,
   "id": "9afcefca-942d-4acf-8152-1934c30f6fec",
   "metadata": {},
   "outputs": [],
   "source": [
    "FD_INP=.\n",
    "FN_INP=hic_intact_K562_deep_virtual4c_track_crispri_hcrff_3K.tsv\n",
    "FP_INP=${FD_INP}/${FN_INP}\n",
    "\n",
    "FD_OUT=.\n",
    "FN_OUT=run_gen_virtual4c_track_K562_deep_TSS_3K.sh\n",
    "FP_OUT=${FD_OUT}/${FN_OUT}\n",
    "\n",
    "cat  /dev/null     >  ${FP_OUT}\n",
    "echo '#!/bin/bash' >> ${FP_OUT}\n",
    "\n",
    "FP_AWK=/data/reddylab/software/bin/print_tab_cols.awk\n",
    "cat ${FP_INP} \\\n",
    "| awk -f ${FP_AWK} -v cols=CMD \\\n",
    ">> ${FP_OUT}\n",
    "\n",
    "chmod +x ${FP_OUT}"
   ]
  },
  {
   "cell_type": "code",
   "execution_count": 7,
   "id": "335d4e69-d125-4d7f-ba92-26b653684a70",
   "metadata": {},
   "outputs": [],
   "source": [
    "FD_INP=.\n",
    "FN_INP=hic_intact_K562_deep_virtual4c_track_crispri_hcrff_1K.tsv\n",
    "FP_INP=${FD_INP}/${FN_INP}\n",
    "\n",
    "FD_OUT=.\n",
    "FN_OUT=run_gen_virtual4c_track_K562_deep_TSS_1K.sh\n",
    "FP_OUT=${FD_OUT}/${FN_OUT}\n",
    "\n",
    "cat  /dev/null     >  ${FP_OUT}\n",
    "echo '#!/bin/bash' >> ${FP_OUT}\n",
    "\n",
    "FP_AWK=/data/reddylab/software/bin/print_tab_cols.awk\n",
    "cat ${FP_INP} \\\n",
    "| awk -f ${FP_AWK} -v cols=CMD \\\n",
    ">> ${FP_OUT}\n",
    "\n",
    "chmod +x ${FP_OUT}"
   ]
  },
  {
   "cell_type": "code",
   "execution_count": 8,
   "id": "fd3c5c2f-b170-4ea7-aa14-40dc9f9143b4",
   "metadata": {},
   "outputs": [
    {
     "name": "stdout",
     "output_type": "stream",
     "text": [
      "#!/bin/bash\n",
      "python /data/reddylab/Kuei/code/Proj_CombEffect_ENCODE_FCC/notebooks/42_hic_coverage/gen_virtual4c_track.py --fpath_hic /data/reddylab/Kuei/out/proj_combeffect_encode_fcc/source/hic_intact_K562_deep/inter.hic --fpath_out /data/reddylab/Kuei/out/proj_combeffect_encode_fcc/results/hic_intact_K562_deep/coverage_virtual4c_track_crispri_hcrff/virtual4C.K562.deep.HBE1.TSS.3K.bg --normalization RU --resolution 100 --chrom chr11 --x1 4091884 --y1 6419310 --x2 5266945 --y2 5272945 --verbose \n",
      "python /data/reddylab/Kuei/code/Proj_CombEffect_ENCODE_FCC/notebooks/42_hic_coverage/gen_virtual4c_track.py --fpath_hic /data/reddylab/Kuei/out/proj_combeffect_encode_fcc/source/hic_intact_K562_deep/inter.hic --fpath_out /data/reddylab/Kuei/out/proj_combeffect_encode_fcc/results/hic_intact_K562_deep/coverage_virtual4c_track_crispri_hcrff/virtual4C.K562.deep.HBG1.TSS.3K.bg --normalization RU --resolution 100 --chrom chr11 --x1 4091884 --y1 6419310 --x2 5246857 --y2 5252857 --verbose \n",
      "python /data/reddylab/Kuei/code/Proj_CombEffect_ENCODE_FCC/notebooks/42_hic_coverage/gen_virtual4c_track.py --fpath_hic /data/reddylab/Kuei/out/proj_combeffect_encode_fcc/source/hic_intact_K562_deep/inter.hic --fpath_out /data/reddylab/Kuei/out/proj_combeffect_encode_fcc/results/hic_intact_K562_deep/coverage_virtual4c_track_crispri_hcrff/virtual4C.K562.deep.HBG2.TSS.3K.bg --normalization RU --resolution 100 --chrom chr11 --x1 4091884 --y1 6419310 --x2 5251781 --y2 5257781 --verbose \n",
      "python /data/reddylab/Kuei/code/Proj_CombEffect_ENCODE_FCC/notebooks/42_hic_coverage/gen_virtual4c_track.py --fpath_hic /data/reddylab/Kuei/out/proj_combeffect_encode_fcc/source/hic_intact_K562_deep/inter.hic --fpath_out /data/reddylab/Kuei/out/proj_combeffect_encode_fcc/results/hic_intact_K562_deep/coverage_virtual4c_track_crispri_hcrff/virtual4C.K562.deep.CAPRIN1.TSS.3K.bg --normalization RU --resolution 100 --chrom chr11 --x1 33064196 --y1 34664117 --x2 34048730 --y2 34054730 --verbose \n",
      "python /data/reddylab/Kuei/code/Proj_CombEffect_ENCODE_FCC/notebooks/42_hic_coverage/gen_virtual4c_track.py --fpath_hic /data/reddylab/Kuei/out/proj_combeffect_encode_fcc/source/hic_intact_K562_deep/inter.hic --fpath_out /data/reddylab/Kuei/out/proj_combeffect_encode_fcc/results/hic_intact_K562_deep/coverage_virtual4c_track_crispri_hcrff/virtual4C.K562.deep.CAT.TSS.3K.bg --normalization RU --resolution 100 --chrom chr11 --x1 33064196 --y1 34664117 --x2 34435933 --y2 34441933 --verbose \n",
      "python /data/reddylab/Kuei/code/Proj_CombEffect_ENCODE_FCC/notebooks/42_hic_coverage/gen_virtual4c_track.py --fpath_hic /data/reddylab/Kuei/out/proj_combeffect_encode_fcc/source/hic_intact_K562_deep/inter.hic --fpath_out /data/reddylab/Kuei/out/proj_combeffect_encode_fcc/results/hic_intact_K562_deep/coverage_virtual4c_track_crispri_hcrff/virtual4C.K562.deep.LMO2.TSS.3K.bg --normalization RU --resolution 100 --chrom chr11 --x1 33064196 --y1 34664117 --x2 33866878 --y2 33872878 --verbose \n",
      "python /data/reddylab/Kuei/code/Proj_CombEffect_ENCODE_FCC/notebooks/42_hic_coverage/gen_virtual4c_track.py --fpath_hic /data/reddylab/Kuei/out/proj_combeffect_encode_fcc/source/hic_intact_K562_deep/inter.hic --fpath_out /data/reddylab/Kuei/out/proj_combeffect_encode_fcc/results/hic_intact_K562_deep/coverage_virtual4c_track_crispri_hcrff/virtual4C.K562.deep.FADS1.TSS.3K.bg --normalization RU --resolution 100 --chrom chr11 --x1 61788524 --y1 61897153 --x2 61814003 --y2 61820003 --verbose \n",
      "python /data/reddylab/Kuei/code/Proj_CombEffect_ENCODE_FCC/notebooks/42_hic_coverage/gen_virtual4c_track.py --fpath_hic /data/reddylab/Kuei/out/proj_combeffect_encode_fcc/source/hic_intact_K562_deep/inter.hic --fpath_out /data/reddylab/Kuei/out/proj_combeffect_encode_fcc/results/hic_intact_K562_deep/coverage_virtual4c_track_crispri_hcrff/virtual4C.K562.deep.FADS2.TSS.3K.bg --normalization RU --resolution 100 --chrom chr11 --x1 61788524 --y1 61897153 --x2 61813202 --y2 61819202 --verbose \n",
      "python /data/reddylab/Kuei/code/Proj_CombEffect_ENCODE_FCC/notebooks/42_hic_coverage/gen_virtual4c_track.py --fpath_hic /data/reddylab/Kuei/out/proj_combeffect_encode_fcc/source/hic_intact_K562_deep/inter.hic --fpath_out /data/reddylab/Kuei/out/proj_combeffect_encode_fcc/results/hic_intact_K562_deep/coverage_virtual4c_track_crispri_hcrff/virtual4C.K562.deep.FADS3.TSS.3K.bg --normalization RU --resolution 100 --chrom chr11 --x1 61788524 --y1 61897153 --x2 61888545 --y2 61894545 --verbose \n",
      "python /data/reddylab/Kuei/code/Proj_CombEffect_ENCODE_FCC/notebooks/42_hic_coverage/gen_virtual4c_track.py --fpath_hic /data/reddylab/Kuei/out/proj_combeffect_encode_fcc/source/hic_intact_K562_deep/inter.hic --fpath_out /data/reddylab/Kuei/out/proj_combeffect_encode_fcc/results/hic_intact_K562_deep/coverage_virtual4c_track_crispri_hcrff/virtual4C.K562.deep.FEN1.TSS.3K.bg --normalization RU --resolution 100 --chrom chr11 --x1 61788524 --y1 61897153 --x2 61789910 --y2 61795910 --verbose \n",
      "python /data/reddylab/Kuei/code/Proj_CombEffect_ENCODE_FCC/notebooks/42_hic_coverage/gen_virtual4c_track.py --fpath_hic /data/reddylab/Kuei/out/proj_combeffect_encode_fcc/source/hic_intact_K562_deep/inter.hic --fpath_out /data/reddylab/Kuei/out/proj_combeffect_encode_fcc/results/hic_intact_K562_deep/coverage_virtual4c_track_crispri_hcrff/virtual4C.K562.deep.ERP29.TSS.3K.bg --normalization RU --resolution 100 --chrom chr12 --x1 110726151 --y1 112325737 --x2 112010347 --y2 112016347 --verbose \n",
      "python /data/reddylab/Kuei/code/Proj_CombEffect_ENCODE_FCC/notebooks/42_hic_coverage/gen_virtual4c_track.py --fpath_hic /data/reddylab/Kuei/out/proj_combeffect_encode_fcc/source/hic_intact_K562_deep/inter.hic --fpath_out /data/reddylab/Kuei/out/proj_combeffect_encode_fcc/results/hic_intact_K562_deep/coverage_virtual4c_track_crispri_hcrff/virtual4C.K562.deep.NMU.TSS.3K.bg --normalization RU --resolution 100 --chrom chr4 --x1 55237590 --y1 56068531 --x2 55633298 --y2 55639298 --verbose \n",
      "python /data/reddylab/Kuei/code/Proj_CombEffect_ENCODE_FCC/notebooks/42_hic_coverage/gen_virtual4c_track.py --fpath_hic /data/reddylab/Kuei/out/proj_combeffect_encode_fcc/source/hic_intact_K562_deep/inter.hic --fpath_out /data/reddylab/Kuei/out/proj_combeffect_encode_fcc/results/hic_intact_K562_deep/coverage_virtual4c_track_crispri_hcrff/virtual4C.K562.deep.MEF2C.TSS.3K.bg --normalization RU --resolution 100 --chrom chr5 --x1 87611207 --y1 89911163 --x2 88880184 --y2 88886184 --verbose \n",
      "python /data/reddylab/Kuei/code/Proj_CombEffect_ENCODE_FCC/notebooks/42_hic_coverage/gen_virtual4c_track.py --fpath_hic /data/reddylab/Kuei/out/proj_combeffect_encode_fcc/source/hic_intact_K562_deep/inter.hic --fpath_out /data/reddylab/Kuei/out/proj_combeffect_encode_fcc/results/hic_intact_K562_deep/coverage_virtual4c_track_crispri_hcrff/virtual4C.K562.deep.CD164.TSS.3K.bg --normalization RU --resolution 100 --chrom chr6 --x1 108840570 --y1 109828800 --x2 109379467 --y2 109385467 --verbose \n",
      "python /data/reddylab/Kuei/code/Proj_CombEffect_ENCODE_FCC/notebooks/42_hic_coverage/gen_virtual4c_track.py --fpath_hic /data/reddylab/Kuei/out/proj_combeffect_encode_fcc/source/hic_intact_K562_deep/inter.hic --fpath_out /data/reddylab/Kuei/out/proj_combeffect_encode_fcc/results/hic_intact_K562_deep/coverage_virtual4c_track_crispri_hcrff/virtual4C.K562.deep.HBS1L.TSS.3K.bg --normalization RU --resolution 100 --chrom chr6 --x1 134253831 --y1 136927585 --x2 135051822 --y2 135057822 --verbose \n",
      "python /data/reddylab/Kuei/code/Proj_CombEffect_ENCODE_FCC/notebooks/42_hic_coverage/gen_virtual4c_track.py --fpath_hic /data/reddylab/Kuei/out/proj_combeffect_encode_fcc/source/hic_intact_K562_deep/inter.hic --fpath_out /data/reddylab/Kuei/out/proj_combeffect_encode_fcc/results/hic_intact_K562_deep/coverage_virtual4c_track_crispri_hcrff/virtual4C.K562.deep.MYB.TSS.3K.bg --normalization RU --resolution 100 --chrom chr6 --x1 134253831 --y1 136927585 --x2 135178307 --y2 135184307 --verbose \n",
      "python /data/reddylab/Kuei/code/Proj_CombEffect_ENCODE_FCC/notebooks/42_hic_coverage/gen_virtual4c_track.py --fpath_hic /data/reddylab/Kuei/out/proj_combeffect_encode_fcc/source/hic_intact_K562_deep/inter.hic --fpath_out /data/reddylab/Kuei/out/proj_combeffect_encode_fcc/results/hic_intact_K562_deep/coverage_virtual4c_track_crispri_hcrff/virtual4C.K562.deep.MYC.TSS.3K.bg --normalization RU --resolution 100 --chrom chr8 --x1 126736094 --y1 128735225 --x2 127733230 --y2 127739230 --verbose \n",
      "python /data/reddylab/Kuei/code/Proj_CombEffect_ENCODE_FCC/notebooks/42_hic_coverage/gen_virtual4c_track.py --fpath_hic /data/reddylab/Kuei/out/proj_combeffect_encode_fcc/source/hic_intact_K562_deep/inter.hic --fpath_out /data/reddylab/Kuei/out/proj_combeffect_encode_fcc/results/hic_intact_K562_deep/coverage_virtual4c_track_crispri_hcrff/virtual4C.K562.deep.PVT1.TSS.3K.bg --normalization RU --resolution 100 --chrom chr8 --x1 126736094 --y1 128735225 --x2 127791532 --y2 127797532 --verbose \n",
      "python /data/reddylab/Kuei/code/Proj_CombEffect_ENCODE_FCC/notebooks/42_hic_coverage/gen_virtual4c_track.py --fpath_hic /data/reddylab/Kuei/out/proj_combeffect_encode_fcc/source/hic_intact_K562_deep/inter.hic --fpath_out /data/reddylab/Kuei/out/proj_combeffect_encode_fcc/results/hic_intact_K562_deep/coverage_virtual4c_track_crispri_hcrff/virtual4C.K562.deep.GATA1.TSS.3K.bg --normalization RU --resolution 100 --chrom chrX --x1 48397930 --y1 49656988 --x2 48783589 --y2 48789589 --verbose \n",
      "python /data/reddylab/Kuei/code/Proj_CombEffect_ENCODE_FCC/notebooks/42_hic_coverage/gen_virtual4c_track.py --fpath_hic /data/reddylab/Kuei/out/proj_combeffect_encode_fcc/source/hic_intact_K562_deep/inter.hic --fpath_out /data/reddylab/Kuei/out/proj_combeffect_encode_fcc/results/hic_intact_K562_deep/coverage_virtual4c_track_crispri_hcrff/virtual4C.K562.deep.HDAC6.TSS.3K.bg --normalization RU --resolution 100 --chrom chrX --x1 48397930 --y1 49656988 --x2 48799066 --y2 48805066 --verbose \n"
     ]
    }
   ],
   "source": [
    "cat run_gen_virtual4c_track_K562_deep_TSS_3K.sh"
   ]
  },
  {
   "cell_type": "code",
   "execution_count": 9,
   "id": "24b187bd-f9ac-43a0-8b60-79893ceceef4",
   "metadata": {},
   "outputs": [
    {
     "name": "stdout",
     "output_type": "stream",
     "text": [
      "#!/bin/bash\n",
      "python /data/reddylab/Kuei/code/Proj_CombEffect_ENCODE_FCC/notebooks/42_hic_coverage/gen_virtual4c_track.py --fpath_hic /data/reddylab/Kuei/out/proj_combeffect_encode_fcc/source/hic_intact_K562_deep/inter.hic --fpath_out /data/reddylab/Kuei/out/proj_combeffect_encode_fcc/results/hic_intact_K562_deep/coverage_virtual4c_track_crispri_hcrff/virtual4C.K562.deep.HBE1.TSS.1K.bg --normalization RU --resolution 100 --chrom chr11 --x1 4091884 --y1 6419310 --x2 5268945 --y2 5270945 --verbose \n",
      "python /data/reddylab/Kuei/code/Proj_CombEffect_ENCODE_FCC/notebooks/42_hic_coverage/gen_virtual4c_track.py --fpath_hic /data/reddylab/Kuei/out/proj_combeffect_encode_fcc/source/hic_intact_K562_deep/inter.hic --fpath_out /data/reddylab/Kuei/out/proj_combeffect_encode_fcc/results/hic_intact_K562_deep/coverage_virtual4c_track_crispri_hcrff/virtual4C.K562.deep.HBG1.TSS.1K.bg --normalization RU --resolution 100 --chrom chr11 --x1 4091884 --y1 6419310 --x2 5248857 --y2 5250857 --verbose \n",
      "python /data/reddylab/Kuei/code/Proj_CombEffect_ENCODE_FCC/notebooks/42_hic_coverage/gen_virtual4c_track.py --fpath_hic /data/reddylab/Kuei/out/proj_combeffect_encode_fcc/source/hic_intact_K562_deep/inter.hic --fpath_out /data/reddylab/Kuei/out/proj_combeffect_encode_fcc/results/hic_intact_K562_deep/coverage_virtual4c_track_crispri_hcrff/virtual4C.K562.deep.HBG2.TSS.1K.bg --normalization RU --resolution 100 --chrom chr11 --x1 4091884 --y1 6419310 --x2 5253781 --y2 5255781 --verbose \n",
      "python /data/reddylab/Kuei/code/Proj_CombEffect_ENCODE_FCC/notebooks/42_hic_coverage/gen_virtual4c_track.py --fpath_hic /data/reddylab/Kuei/out/proj_combeffect_encode_fcc/source/hic_intact_K562_deep/inter.hic --fpath_out /data/reddylab/Kuei/out/proj_combeffect_encode_fcc/results/hic_intact_K562_deep/coverage_virtual4c_track_crispri_hcrff/virtual4C.K562.deep.CAPRIN1.TSS.1K.bg --normalization RU --resolution 100 --chrom chr11 --x1 33064196 --y1 34664117 --x2 34050730 --y2 34052730 --verbose \n",
      "python /data/reddylab/Kuei/code/Proj_CombEffect_ENCODE_FCC/notebooks/42_hic_coverage/gen_virtual4c_track.py --fpath_hic /data/reddylab/Kuei/out/proj_combeffect_encode_fcc/source/hic_intact_K562_deep/inter.hic --fpath_out /data/reddylab/Kuei/out/proj_combeffect_encode_fcc/results/hic_intact_K562_deep/coverage_virtual4c_track_crispri_hcrff/virtual4C.K562.deep.CAT.TSS.1K.bg --normalization RU --resolution 100 --chrom chr11 --x1 33064196 --y1 34664117 --x2 34437933 --y2 34439933 --verbose \n",
      "python /data/reddylab/Kuei/code/Proj_CombEffect_ENCODE_FCC/notebooks/42_hic_coverage/gen_virtual4c_track.py --fpath_hic /data/reddylab/Kuei/out/proj_combeffect_encode_fcc/source/hic_intact_K562_deep/inter.hic --fpath_out /data/reddylab/Kuei/out/proj_combeffect_encode_fcc/results/hic_intact_K562_deep/coverage_virtual4c_track_crispri_hcrff/virtual4C.K562.deep.LMO2.TSS.1K.bg --normalization RU --resolution 100 --chrom chr11 --x1 33064196 --y1 34664117 --x2 33868878 --y2 33870878 --verbose \n",
      "python /data/reddylab/Kuei/code/Proj_CombEffect_ENCODE_FCC/notebooks/42_hic_coverage/gen_virtual4c_track.py --fpath_hic /data/reddylab/Kuei/out/proj_combeffect_encode_fcc/source/hic_intact_K562_deep/inter.hic --fpath_out /data/reddylab/Kuei/out/proj_combeffect_encode_fcc/results/hic_intact_K562_deep/coverage_virtual4c_track_crispri_hcrff/virtual4C.K562.deep.FADS1.TSS.1K.bg --normalization RU --resolution 100 --chrom chr11 --x1 61788524 --y1 61897153 --x2 61816003 --y2 61818003 --verbose \n",
      "python /data/reddylab/Kuei/code/Proj_CombEffect_ENCODE_FCC/notebooks/42_hic_coverage/gen_virtual4c_track.py --fpath_hic /data/reddylab/Kuei/out/proj_combeffect_encode_fcc/source/hic_intact_K562_deep/inter.hic --fpath_out /data/reddylab/Kuei/out/proj_combeffect_encode_fcc/results/hic_intact_K562_deep/coverage_virtual4c_track_crispri_hcrff/virtual4C.K562.deep.FADS2.TSS.1K.bg --normalization RU --resolution 100 --chrom chr11 --x1 61788524 --y1 61897153 --x2 61815202 --y2 61817202 --verbose \n",
      "python /data/reddylab/Kuei/code/Proj_CombEffect_ENCODE_FCC/notebooks/42_hic_coverage/gen_virtual4c_track.py --fpath_hic /data/reddylab/Kuei/out/proj_combeffect_encode_fcc/source/hic_intact_K562_deep/inter.hic --fpath_out /data/reddylab/Kuei/out/proj_combeffect_encode_fcc/results/hic_intact_K562_deep/coverage_virtual4c_track_crispri_hcrff/virtual4C.K562.deep.FADS3.TSS.1K.bg --normalization RU --resolution 100 --chrom chr11 --x1 61788524 --y1 61897153 --x2 61890545 --y2 61892545 --verbose \n",
      "python /data/reddylab/Kuei/code/Proj_CombEffect_ENCODE_FCC/notebooks/42_hic_coverage/gen_virtual4c_track.py --fpath_hic /data/reddylab/Kuei/out/proj_combeffect_encode_fcc/source/hic_intact_K562_deep/inter.hic --fpath_out /data/reddylab/Kuei/out/proj_combeffect_encode_fcc/results/hic_intact_K562_deep/coverage_virtual4c_track_crispri_hcrff/virtual4C.K562.deep.FEN1.TSS.1K.bg --normalization RU --resolution 100 --chrom chr11 --x1 61788524 --y1 61897153 --x2 61791910 --y2 61793910 --verbose \n",
      "python /data/reddylab/Kuei/code/Proj_CombEffect_ENCODE_FCC/notebooks/42_hic_coverage/gen_virtual4c_track.py --fpath_hic /data/reddylab/Kuei/out/proj_combeffect_encode_fcc/source/hic_intact_K562_deep/inter.hic --fpath_out /data/reddylab/Kuei/out/proj_combeffect_encode_fcc/results/hic_intact_K562_deep/coverage_virtual4c_track_crispri_hcrff/virtual4C.K562.deep.ERP29.TSS.1K.bg --normalization RU --resolution 100 --chrom chr12 --x1 110726151 --y1 112325737 --x2 112012347 --y2 112014347 --verbose \n",
      "python /data/reddylab/Kuei/code/Proj_CombEffect_ENCODE_FCC/notebooks/42_hic_coverage/gen_virtual4c_track.py --fpath_hic /data/reddylab/Kuei/out/proj_combeffect_encode_fcc/source/hic_intact_K562_deep/inter.hic --fpath_out /data/reddylab/Kuei/out/proj_combeffect_encode_fcc/results/hic_intact_K562_deep/coverage_virtual4c_track_crispri_hcrff/virtual4C.K562.deep.NMU.TSS.1K.bg --normalization RU --resolution 100 --chrom chr4 --x1 55237590 --y1 56068531 --x2 55635298 --y2 55637298 --verbose \n",
      "python /data/reddylab/Kuei/code/Proj_CombEffect_ENCODE_FCC/notebooks/42_hic_coverage/gen_virtual4c_track.py --fpath_hic /data/reddylab/Kuei/out/proj_combeffect_encode_fcc/source/hic_intact_K562_deep/inter.hic --fpath_out /data/reddylab/Kuei/out/proj_combeffect_encode_fcc/results/hic_intact_K562_deep/coverage_virtual4c_track_crispri_hcrff/virtual4C.K562.deep.MEF2C.TSS.1K.bg --normalization RU --resolution 100 --chrom chr5 --x1 87611207 --y1 89911163 --x2 88882184 --y2 88884184 --verbose \n",
      "python /data/reddylab/Kuei/code/Proj_CombEffect_ENCODE_FCC/notebooks/42_hic_coverage/gen_virtual4c_track.py --fpath_hic /data/reddylab/Kuei/out/proj_combeffect_encode_fcc/source/hic_intact_K562_deep/inter.hic --fpath_out /data/reddylab/Kuei/out/proj_combeffect_encode_fcc/results/hic_intact_K562_deep/coverage_virtual4c_track_crispri_hcrff/virtual4C.K562.deep.CD164.TSS.1K.bg --normalization RU --resolution 100 --chrom chr6 --x1 108840570 --y1 109828800 --x2 109381467 --y2 109383467 --verbose \n",
      "python /data/reddylab/Kuei/code/Proj_CombEffect_ENCODE_FCC/notebooks/42_hic_coverage/gen_virtual4c_track.py --fpath_hic /data/reddylab/Kuei/out/proj_combeffect_encode_fcc/source/hic_intact_K562_deep/inter.hic --fpath_out /data/reddylab/Kuei/out/proj_combeffect_encode_fcc/results/hic_intact_K562_deep/coverage_virtual4c_track_crispri_hcrff/virtual4C.K562.deep.HBS1L.TSS.1K.bg --normalization RU --resolution 100 --chrom chr6 --x1 134253831 --y1 136927585 --x2 135053822 --y2 135055822 --verbose \n",
      "python /data/reddylab/Kuei/code/Proj_CombEffect_ENCODE_FCC/notebooks/42_hic_coverage/gen_virtual4c_track.py --fpath_hic /data/reddylab/Kuei/out/proj_combeffect_encode_fcc/source/hic_intact_K562_deep/inter.hic --fpath_out /data/reddylab/Kuei/out/proj_combeffect_encode_fcc/results/hic_intact_K562_deep/coverage_virtual4c_track_crispri_hcrff/virtual4C.K562.deep.MYB.TSS.1K.bg --normalization RU --resolution 100 --chrom chr6 --x1 134253831 --y1 136927585 --x2 135180307 --y2 135182307 --verbose \n",
      "python /data/reddylab/Kuei/code/Proj_CombEffect_ENCODE_FCC/notebooks/42_hic_coverage/gen_virtual4c_track.py --fpath_hic /data/reddylab/Kuei/out/proj_combeffect_encode_fcc/source/hic_intact_K562_deep/inter.hic --fpath_out /data/reddylab/Kuei/out/proj_combeffect_encode_fcc/results/hic_intact_K562_deep/coverage_virtual4c_track_crispri_hcrff/virtual4C.K562.deep.MYC.TSS.1K.bg --normalization RU --resolution 100 --chrom chr8 --x1 126736094 --y1 128735225 --x2 127735230 --y2 127737230 --verbose \n",
      "python /data/reddylab/Kuei/code/Proj_CombEffect_ENCODE_FCC/notebooks/42_hic_coverage/gen_virtual4c_track.py --fpath_hic /data/reddylab/Kuei/out/proj_combeffect_encode_fcc/source/hic_intact_K562_deep/inter.hic --fpath_out /data/reddylab/Kuei/out/proj_combeffect_encode_fcc/results/hic_intact_K562_deep/coverage_virtual4c_track_crispri_hcrff/virtual4C.K562.deep.PVT1.TSS.1K.bg --normalization RU --resolution 100 --chrom chr8 --x1 126736094 --y1 128735225 --x2 127793532 --y2 127795532 --verbose \n",
      "python /data/reddylab/Kuei/code/Proj_CombEffect_ENCODE_FCC/notebooks/42_hic_coverage/gen_virtual4c_track.py --fpath_hic /data/reddylab/Kuei/out/proj_combeffect_encode_fcc/source/hic_intact_K562_deep/inter.hic --fpath_out /data/reddylab/Kuei/out/proj_combeffect_encode_fcc/results/hic_intact_K562_deep/coverage_virtual4c_track_crispri_hcrff/virtual4C.K562.deep.GATA1.TSS.1K.bg --normalization RU --resolution 100 --chrom chrX --x1 48397930 --y1 49656988 --x2 48785589 --y2 48787589 --verbose \n",
      "python /data/reddylab/Kuei/code/Proj_CombEffect_ENCODE_FCC/notebooks/42_hic_coverage/gen_virtual4c_track.py --fpath_hic /data/reddylab/Kuei/out/proj_combeffect_encode_fcc/source/hic_intact_K562_deep/inter.hic --fpath_out /data/reddylab/Kuei/out/proj_combeffect_encode_fcc/results/hic_intact_K562_deep/coverage_virtual4c_track_crispri_hcrff/virtual4C.K562.deep.HDAC6.TSS.1K.bg --normalization RU --resolution 100 --chrom chrX --x1 48397930 --y1 49656988 --x2 48801066 --y2 48803066 --verbose \n"
     ]
    }
   ],
   "source": [
    "cat run_gen_virtual4c_track_K562_deep_TSS_1K.sh"
   ]
  },
  {
   "cell_type": "markdown",
   "id": "26f13893-dfbb-453a-87d1-0935caa3f4ad",
   "metadata": {},
   "source": [
    "**Run**"
   ]
  },
  {
   "cell_type": "code",
   "execution_count": 10,
   "id": "010bea87-a87c-437c-a762-ec5a750f4bc9",
   "metadata": {},
   "outputs": [
    {
     "name": "stdout",
     "output_type": "stream",
     "text": [
      "#!/bin/bash\n",
      "\n",
      "### get file path\n",
      "### Stackoverflow: how-can-i-get-the-source-directory-of-a-bash-script-from-within-the-script-itself\n",
      "SCRIPT_DIR=\"$( cd \"$( dirname \"${BASH_SOURCE[0]}\" )\" &> /dev/null && pwd )\"\n",
      "source ${SCRIPT_DIR}/config/config_duke.sh\n",
      "\n",
      "### execute\n",
      "singularity exec \\\n",
      "    -H ${PWD}:/home \\\n",
      "    -B ${FD_WORK}:/mount/work \\\n",
      "    -B ${FD_CODE}:/mount/code \\\n",
      "    -B ${FD_RLAB}:/mount/reddylab \\\n",
      "    -B /data:/data \\\n",
      "    ${FD_SING}/singularity_proj_encode_fcc.sif \\\n",
      "    \"$@\"\n"
     ]
    }
   ],
   "source": [
    "cat ${FD_PRJ}/notebooks/sing_proj_encode_fcc.sh"
   ]
  },
  {
   "cell_type": "code",
   "execution_count": 12,
   "id": "40cea5ec-a36a-4344-bb38-b3829a62aea6",
   "metadata": {},
   "outputs": [
    {
     "name": "stdout",
     "output_type": "stream",
     "text": [
      "usage: gen_virtual4c_track.py [-h] [--chrom CHROM] [--x1 X1] [--y1 Y1]\n",
      "                              [--x2 X2] [--y2 Y2] [--fpath_out FPATH_OUT]\n",
      "                              [--fpath_hic FPATH_HIC]\n",
      "                              [--normalization NORMALIZATION]\n",
      "                              [--resolution RESOLUTION] [-v]\n",
      "\n",
      "optional arguments:\n",
      "  -h, --help            show this help message and exit\n",
      "  --chrom CHROM\n",
      "  --x1 X1\n",
      "  --y1 Y1\n",
      "  --x2 X2\n",
      "  --y2 Y2\n",
      "  --fpath_out FPATH_OUT\n",
      "  --fpath_hic FPATH_HIC\n",
      "  --normalization NORMALIZATION\n",
      "  --resolution RESOLUTION\n",
      "  -v, --verbose\n"
     ]
    }
   ],
   "source": [
    "FDIRY=/data/reddylab/Kuei/code/Proj_CombEffect_ENCODE_FCC/notebooks/42_hic_coverage\n",
    "FNAME=gen_virtual4c_track.py\n",
    "FPATH=${FDIRY}/${FNAME}\n",
    "\n",
    "${FD_PRJ}/notebooks/sing_proj_encode_fcc.sh python ${FPATH} -h"
   ]
  },
  {
   "cell_type": "code",
   "execution_count": 11,
   "id": "283bd44f-7fec-4941-a7e2-fa6c86be3bfc",
   "metadata": {},
   "outputs": [
    {
     "name": "stdout",
     "output_type": "stream",
     "text": [
      "\u001b[0m\u001b[38;5;34m./run_gen_virtual4c_track_K562_deep_TSS_1K.sh\u001b[0m\n",
      "\u001b[38;5;34m./run_gen_virtual4c_track_K562_deep_TSS_3K.sh\u001b[0m\n"
     ]
    }
   ],
   "source": [
    "ls ./*deep*sh"
   ]
  },
  {
   "cell_type": "code",
   "execution_count": 16,
   "id": "d13feac4-44cb-4149-9b72-4a1695e60fce",
   "metadata": {},
   "outputs": [
    {
     "name": "stdout",
     "output_type": "stream",
     "text": [
      "Submitted batch job 29916163\n"
     ]
    }
   ],
   "source": [
    "sbatch -p ${NODE} \\\n",
    "    --exclude=dl-01 \\\n",
    "    --cpus-per-task 8 \\\n",
    "    --mem 20G \\\n",
    "    --output ${FD_LOG}/coverage_hic_intact_K562_deep_virtual4c_track_crispri_hcrff_TSS_3k.%a.txt \\\n",
    "    --array 0 \\\n",
    "    <<'EOF'\n",
    "#!/bin/bash\n",
    "### set directories & global variables\n",
    "source ../config/config_duke.sh\n",
    "\n",
    "### print start message\n",
    "timer_start=`date +%s`\n",
    "echo \"Hostname:          \" $(hostname)\n",
    "echo \"Slurm Array Index: \" ${SLURM_ARRAY_TASK_ID}\n",
    "echo \"Time Stamp:        \" $(date +\"%m-%d-%y+%T\")\n",
    "echo\n",
    "\n",
    "### execute\n",
    "FDIRY=${FD_PRJ}/notebooks/42_hic_coverage\n",
    "FNAME=run_gen_virtual4c_track_K562_deep_TSS_3K.sh\n",
    "FPATH=${FDIRY}/${FNAME}\n",
    "\n",
    "chmod +x ${FPATH}\n",
    "${FD_PRJ}/notebooks/sing_proj_encode_fcc.sh ${FPATH}\n",
    "\n",
    "### print end message\n",
    "timer=`date +%s`\n",
    "runtime=$(echo \"${timer} - ${timer_start}\" | bc -l)\n",
    "echo\n",
    "echo 'Done!'\n",
    "echo \"Run Time: $(displaytime ${runtime})\"\n",
    "EOF"
   ]
  },
  {
   "cell_type": "code",
   "execution_count": 18,
   "id": "135d4bf4-8d96-4644-9aba-2d3d87543ea8",
   "metadata": {},
   "outputs": [
    {
     "name": "stdout",
     "output_type": "stream",
     "text": [
      "Submitted batch job 29916164\n"
     ]
    }
   ],
   "source": [
    "sbatch -p ${NODE} \\\n",
    "    --exclude=dl-01 \\\n",
    "    --cpus-per-task 8 \\\n",
    "    --mem 20G \\\n",
    "    --output ${FD_LOG}/coverage_hic_intact_K562_deep_virtual4c_track_crispri_hcrff_TSS_1k.%a.txt \\\n",
    "    --array 0 \\\n",
    "    <<'EOF'\n",
    "#!/bin/bash\n",
    "### set directories & global variables\n",
    "source ../config/config_duke.sh\n",
    "\n",
    "### print start message\n",
    "timer_start=`date +%s`\n",
    "echo \"Hostname:          \" $(hostname)\n",
    "echo \"Slurm Array Index: \" ${SLURM_ARRAY_TASK_ID}\n",
    "echo \"Time Stamp:        \" $(date +\"%m-%d-%y+%T\")\n",
    "echo\n",
    "\n",
    "### execute\n",
    "FDIRY=${FD_PRJ}/notebooks/42_hic_coverage\n",
    "FNAME=run_gen_virtual4c_track_K562_deep_TSS_1K.sh\n",
    "FPATH=${FDIRY}/${FNAME}\n",
    "\n",
    "chmod +x ${FPATH}\n",
    "${FD_PRJ}/notebooks/sing_proj_encode_fcc.sh ${FPATH}\n",
    "\n",
    "### print end message\n",
    "timer=`date +%s`\n",
    "runtime=$(echo \"${timer} - ${timer_start}\" | bc -l)\n",
    "echo\n",
    "echo 'Done!'\n",
    "echo \"Run Time: $(displaytime ${runtime})\"\n",
    "EOF"
   ]
  },
  {
   "cell_type": "markdown",
   "id": "cf698b32-5023-4798-a111-557d29dcbf2e",
   "metadata": {},
   "source": [
    "**Check results**"
   ]
  },
  {
   "cell_type": "code",
   "execution_count": 17,
   "id": "dace1f9e-6ad2-400d-ae0b-6b2aebe23e96",
   "metadata": {},
   "outputs": [
    {
     "name": "stdout",
     "output_type": "stream",
     "text": [
      "Hostname:           x1-03-1.genome.duke.edu\n",
      "Slurm Array Index:  0\n",
      "Time Stamp:         05-29-23+15:12:10\n",
      "\n",
      "Arguments:\n",
      "-  chrom : chr11\n",
      "-  x1 : 4091884\n",
      "-  y1 : 6419310\n",
      "-  x2 : 5266945\n",
      "-  y2 : 5272945\n",
      "-  fpath_out : /data/reddylab/Kuei/out/proj_combeffect_encode_fcc/results/hic_intact_K562_deep/coverage_virtual4c_track_crispri_hcrff/virtual4C.K562.deep.HBE1.TSS.3K.bg\n",
      "-  fpath_hic : /data/reddylab/Kuei/out/proj_combeffect_encode_fcc/source/hic_intact_K562_deep/inter.hic\n",
      "-  normalization : RU\n",
      "-  resolution : 100\n",
      "-  verbose : True\n",
      "\n",
      "Matrix generated.\n",
      "- Shape: (23276, 61)\n",
      "\n",
      "DataFrame generated.\n",
      "- Shape: (23276, 4)\n",
      "\n",
      "Arguments:\n",
      "-  chrom : chr11\n",
      "-  x1 : 4091884\n",
      "-  y1 : 6419310\n",
      "-  x2 : 5246857\n",
      "-  y2 : 5252857\n",
      "-  fpath_out : /data/reddylab/Kuei/out/proj_combeffect_encode_fcc/results/hic_intact_K562_deep/coverage_virtual4c_track_crispri_hcrff/virtual4C.K562.deep.HBG1.TSS.3K.bg\n",
      "-  fpath_hic : /data/reddylab/Kuei/out/proj_combeffect_encode_fcc/source/hic_intact_K562_deep/inter.hic\n",
      "-  normalization : RU\n",
      "-  resolution : 100\n",
      "-  verbose : True\n",
      "\n",
      "Matrix generated.\n",
      "- Shape: (23276, 61)\n",
      "\n",
      "DataFrame generated.\n",
      "- Shape: (23276, 4)\n",
      "\n",
      "Arguments:\n",
      "-  chrom : chr11\n",
      "-  x1 : 4091884\n",
      "-  y1 : 6419310\n",
      "-  x2 : 5251781\n",
      "-  y2 : 5257781\n",
      "-  fpath_out : /data/reddylab/Kuei/out/proj_combeffect_encode_fcc/results/hic_intact_K562_deep/coverage_virtual4c_track_crispri_hcrff/virtual4C.K562.deep.HBG2.TSS.3K.bg\n",
      "-  fpath_hic : /data/reddylab/Kuei/out/proj_combeffect_encode_fcc/source/hic_intact_K562_deep/inter.hic\n",
      "-  normalization : RU\n",
      "-  resolution : 100\n",
      "-  verbose : True\n",
      "\n",
      "Matrix generated.\n",
      "- Shape: (23276, 61)\n",
      "\n",
      "DataFrame generated.\n",
      "- Shape: (23276, 4)\n",
      "\n",
      "Arguments:\n",
      "-  chrom : chr11\n",
      "-  x1 : 33064196\n",
      "-  y1 : 34664117\n",
      "-  x2 : 34048730\n",
      "-  y2 : 34054730\n",
      "-  fpath_out : /data/reddylab/Kuei/out/proj_combeffect_encode_fcc/results/hic_intact_K562_deep/coverage_virtual4c_track_crispri_hcrff/virtual4C.K562.deep.CAPRIN1.TSS.3K.bg\n",
      "-  fpath_hic : /data/reddylab/Kuei/out/proj_combeffect_encode_fcc/source/hic_intact_K562_deep/inter.hic\n",
      "-  normalization : RU\n",
      "-  resolution : 100\n",
      "-  verbose : True\n",
      "\n",
      "Matrix generated.\n",
      "- Shape: (16001, 61)\n",
      "\n",
      "DataFrame generated.\n",
      "- Shape: (16001, 4)\n",
      "\n",
      "Arguments:\n",
      "-  chrom : chr11\n",
      "-  x1 : 33064196\n",
      "-  y1 : 34664117\n",
      "-  x2 : 34435933\n",
      "-  y2 : 34441933\n",
      "-  fpath_out : /data/reddylab/Kuei/out/proj_combeffect_encode_fcc/results/hic_intact_K562_deep/coverage_virtual4c_track_crispri_hcrff/virtual4C.K562.deep.CAT.TSS.3K.bg\n",
      "-  fpath_hic : /data/reddylab/Kuei/out/proj_combeffect_encode_fcc/source/hic_intact_K562_deep/inter.hic\n",
      "-  normalization : RU\n",
      "-  resolution : 100\n",
      "-  verbose : True\n",
      "\n",
      "Matrix generated.\n",
      "- Shape: (16001, 61)\n",
      "\n",
      "DataFrame generated.\n",
      "- Shape: (16001, 4)\n",
      "\n",
      "Arguments:\n",
      "-  chrom : chr11\n",
      "-  x1 : 33064196\n",
      "-  y1 : 34664117\n",
      "-  x2 : 33866878\n",
      "-  y2 : 33872878\n",
      "-  fpath_out : /data/reddylab/Kuei/out/proj_combeffect_encode_fcc/results/hic_intact_K562_deep/coverage_virtual4c_track_crispri_hcrff/virtual4C.K562.deep.LMO2.TSS.3K.bg\n",
      "-  fpath_hic : /data/reddylab/Kuei/out/proj_combeffect_encode_fcc/source/hic_intact_K562_deep/inter.hic\n",
      "-  normalization : RU\n",
      "-  resolution : 100\n",
      "-  verbose : True\n",
      "\n",
      "Matrix generated.\n",
      "- Shape: (16001, 61)\n",
      "\n",
      "DataFrame generated.\n",
      "- Shape: (16001, 4)\n",
      "\n",
      "Arguments:\n",
      "-  chrom : chr11\n",
      "-  x1 : 61788524\n",
      "-  y1 : 61897153\n",
      "-  x2 : 61814003\n",
      "-  y2 : 61820003\n",
      "-  fpath_out : /data/reddylab/Kuei/out/proj_combeffect_encode_fcc/results/hic_intact_K562_deep/coverage_virtual4c_track_crispri_hcrff/virtual4C.K562.deep.FADS1.TSS.3K.bg\n",
      "-  fpath_hic : /data/reddylab/Kuei/out/proj_combeffect_encode_fcc/source/hic_intact_K562_deep/inter.hic\n",
      "-  normalization : RU\n",
      "-  resolution : 100\n",
      "-  verbose : True\n",
      "\n",
      "Matrix generated.\n",
      "- Shape: (1087, 61)\n",
      "\n",
      "DataFrame generated.\n",
      "- Shape: (1087, 4)\n",
      "\n",
      "Arguments:\n",
      "-  chrom : chr11\n",
      "-  x1 : 61788524\n",
      "-  y1 : 61897153\n",
      "-  x2 : 61813202\n",
      "-  y2 : 61819202\n",
      "-  fpath_out : /data/reddylab/Kuei/out/proj_combeffect_encode_fcc/results/hic_intact_K562_deep/coverage_virtual4c_track_crispri_hcrff/virtual4C.K562.deep.FADS2.TSS.3K.bg\n",
      "-  fpath_hic : /data/reddylab/Kuei/out/proj_combeffect_encode_fcc/source/hic_intact_K562_deep/inter.hic\n",
      "-  normalization : RU\n",
      "-  resolution : 100\n",
      "-  verbose : True\n",
      "\n",
      "Matrix generated.\n",
      "- Shape: (1087, 61)\n",
      "\n",
      "DataFrame generated.\n",
      "- Shape: (1087, 4)\n",
      "\n",
      "Arguments:\n",
      "-  chrom : chr11\n",
      "-  x1 : 61788524\n",
      "-  y1 : 61897153\n",
      "-  x2 : 61888545\n",
      "-  y2 : 61894545\n",
      "-  fpath_out : /data/reddylab/Kuei/out/proj_combeffect_encode_fcc/results/hic_intact_K562_deep/coverage_virtual4c_track_crispri_hcrff/virtual4C.K562.deep.FADS3.TSS.3K.bg\n",
      "-  fpath_hic : /data/reddylab/Kuei/out/proj_combeffect_encode_fcc/source/hic_intact_K562_deep/inter.hic\n",
      "-  normalization : RU\n",
      "-  resolution : 100\n",
      "-  verbose : True\n",
      "\n",
      "Matrix generated.\n",
      "- Shape: (1087, 61)\n",
      "\n",
      "DataFrame generated.\n",
      "- Shape: (1087, 4)\n",
      "\n",
      "Arguments:\n",
      "-  chrom : chr11\n",
      "-  x1 : 61788524\n",
      "-  y1 : 61897153\n",
      "-  x2 : 61789910\n",
      "-  y2 : 61795910\n",
      "-  fpath_out : /data/reddylab/Kuei/out/proj_combeffect_encode_fcc/results/hic_intact_K562_deep/coverage_virtual4c_track_crispri_hcrff/virtual4C.K562.deep.FEN1.TSS.3K.bg\n",
      "-  fpath_hic : /data/reddylab/Kuei/out/proj_combeffect_encode_fcc/source/hic_intact_K562_deep/inter.hic\n",
      "-  normalization : RU\n",
      "-  resolution : 100\n",
      "-  verbose : True\n",
      "\n"
     ]
    }
   ],
   "source": [
    "cat ${FD_LOG}/coverage_hic_intact_K562_deep_virtual4c_track_crispri_hcrff_TSS_3k.0.txt"
   ]
  },
  {
   "cell_type": "code",
   "execution_count": 19,
   "id": "d4099f9f-2c90-46b4-ae67-c4919f3fb6ba",
   "metadata": {},
   "outputs": [
    {
     "name": "stdout",
     "output_type": "stream",
     "text": [
      "Hostname:           x1-03-1.genome.duke.edu\n",
      "Slurm Array Index:  0\n",
      "Time Stamp:         05-29-23+15:12:38\n",
      "\n",
      "Arguments:\n",
      "-  chrom : chr11\n",
      "-  x1 : 4091884\n",
      "-  y1 : 6419310\n",
      "-  x2 : 5268945\n",
      "-  y2 : 5270945\n",
      "-  fpath_out : /data/reddylab/Kuei/out/proj_combeffect_encode_fcc/results/hic_intact_K562_deep/coverage_virtual4c_track_crispri_hcrff/virtual4C.K562.deep.HBE1.TSS.1K.bg\n",
      "-  fpath_hic : /data/reddylab/Kuei/out/proj_combeffect_encode_fcc/source/hic_intact_K562_deep/inter.hic\n",
      "-  normalization : RU\n",
      "-  resolution : 100\n",
      "-  verbose : True\n",
      "\n",
      "Matrix generated.\n",
      "- Shape: (23276, 21)\n",
      "\n",
      "DataFrame generated.\n",
      "- Shape: (23276, 4)\n",
      "\n",
      "Arguments:\n",
      "-  chrom : chr11\n",
      "-  x1 : 4091884\n",
      "-  y1 : 6419310\n",
      "-  x2 : 5248857\n",
      "-  y2 : 5250857\n",
      "-  fpath_out : /data/reddylab/Kuei/out/proj_combeffect_encode_fcc/results/hic_intact_K562_deep/coverage_virtual4c_track_crispri_hcrff/virtual4C.K562.deep.HBG1.TSS.1K.bg\n",
      "-  fpath_hic : /data/reddylab/Kuei/out/proj_combeffect_encode_fcc/source/hic_intact_K562_deep/inter.hic\n",
      "-  normalization : RU\n",
      "-  resolution : 100\n",
      "-  verbose : True\n",
      "\n",
      "Matrix generated.\n",
      "- Shape: (23276, 21)\n",
      "\n",
      "DataFrame generated.\n",
      "- Shape: (23276, 4)\n",
      "\n",
      "Arguments:\n",
      "-  chrom : chr11\n",
      "-  x1 : 4091884\n",
      "-  y1 : 6419310\n",
      "-  x2 : 5253781\n",
      "-  y2 : 5255781\n",
      "-  fpath_out : /data/reddylab/Kuei/out/proj_combeffect_encode_fcc/results/hic_intact_K562_deep/coverage_virtual4c_track_crispri_hcrff/virtual4C.K562.deep.HBG2.TSS.1K.bg\n",
      "-  fpath_hic : /data/reddylab/Kuei/out/proj_combeffect_encode_fcc/source/hic_intact_K562_deep/inter.hic\n",
      "-  normalization : RU\n",
      "-  resolution : 100\n",
      "-  verbose : True\n",
      "\n",
      "Matrix generated.\n",
      "- Shape: (23276, 21)\n",
      "\n",
      "DataFrame generated.\n",
      "- Shape: (23276, 4)\n",
      "\n",
      "Arguments:\n",
      "-  chrom : chr11\n",
      "-  x1 : 33064196\n",
      "-  y1 : 34664117\n",
      "-  x2 : 34050730\n",
      "-  y2 : 34052730\n",
      "-  fpath_out : /data/reddylab/Kuei/out/proj_combeffect_encode_fcc/results/hic_intact_K562_deep/coverage_virtual4c_track_crispri_hcrff/virtual4C.K562.deep.CAPRIN1.TSS.1K.bg\n",
      "-  fpath_hic : /data/reddylab/Kuei/out/proj_combeffect_encode_fcc/source/hic_intact_K562_deep/inter.hic\n",
      "-  normalization : RU\n",
      "-  resolution : 100\n",
      "-  verbose : True\n",
      "\n",
      "Matrix generated.\n",
      "- Shape: (16001, 21)\n",
      "\n",
      "DataFrame generated.\n",
      "- Shape: (16001, 4)\n",
      "\n",
      "Arguments:\n",
      "-  chrom : chr11\n",
      "-  x1 : 33064196\n",
      "-  y1 : 34664117\n",
      "-  x2 : 34437933\n",
      "-  y2 : 34439933\n",
      "-  fpath_out : /data/reddylab/Kuei/out/proj_combeffect_encode_fcc/results/hic_intact_K562_deep/coverage_virtual4c_track_crispri_hcrff/virtual4C.K562.deep.CAT.TSS.1K.bg\n",
      "-  fpath_hic : /data/reddylab/Kuei/out/proj_combeffect_encode_fcc/source/hic_intact_K562_deep/inter.hic\n",
      "-  normalization : RU\n",
      "-  resolution : 100\n",
      "-  verbose : True\n",
      "\n",
      "Matrix generated.\n",
      "- Shape: (16001, 21)\n",
      "\n",
      "DataFrame generated.\n",
      "- Shape: (16001, 4)\n",
      "\n",
      "Arguments:\n",
      "-  chrom : chr11\n",
      "-  x1 : 33064196\n",
      "-  y1 : 34664117\n",
      "-  x2 : 33868878\n",
      "-  y2 : 33870878\n",
      "-  fpath_out : /data/reddylab/Kuei/out/proj_combeffect_encode_fcc/results/hic_intact_K562_deep/coverage_virtual4c_track_crispri_hcrff/virtual4C.K562.deep.LMO2.TSS.1K.bg\n",
      "-  fpath_hic : /data/reddylab/Kuei/out/proj_combeffect_encode_fcc/source/hic_intact_K562_deep/inter.hic\n",
      "-  normalization : RU\n",
      "-  resolution : 100\n",
      "-  verbose : True\n",
      "\n",
      "Matrix generated.\n",
      "- Shape: (16001, 21)\n",
      "\n",
      "DataFrame generated.\n",
      "- Shape: (16001, 4)\n",
      "\n",
      "Arguments:\n",
      "-  chrom : chr11\n",
      "-  x1 : 61788524\n",
      "-  y1 : 61897153\n",
      "-  x2 : 61816003\n",
      "-  y2 : 61818003\n",
      "-  fpath_out : /data/reddylab/Kuei/out/proj_combeffect_encode_fcc/results/hic_intact_K562_deep/coverage_virtual4c_track_crispri_hcrff/virtual4C.K562.deep.FADS1.TSS.1K.bg\n",
      "-  fpath_hic : /data/reddylab/Kuei/out/proj_combeffect_encode_fcc/source/hic_intact_K562_deep/inter.hic\n",
      "-  normalization : RU\n",
      "-  resolution : 100\n",
      "-  verbose : True\n",
      "\n",
      "Matrix generated.\n",
      "- Shape: (1087, 21)\n",
      "\n",
      "DataFrame generated.\n",
      "- Shape: (1087, 4)\n",
      "\n",
      "Arguments:\n",
      "-  chrom : chr11\n",
      "-  x1 : 61788524\n",
      "-  y1 : 61897153\n",
      "-  x2 : 61815202\n",
      "-  y2 : 61817202\n",
      "-  fpath_out : /data/reddylab/Kuei/out/proj_combeffect_encode_fcc/results/hic_intact_K562_deep/coverage_virtual4c_track_crispri_hcrff/virtual4C.K562.deep.FADS2.TSS.1K.bg\n",
      "-  fpath_hic : /data/reddylab/Kuei/out/proj_combeffect_encode_fcc/source/hic_intact_K562_deep/inter.hic\n",
      "-  normalization : RU\n",
      "-  resolution : 100\n",
      "-  verbose : True\n",
      "\n",
      "Matrix generated.\n",
      "- Shape: (1087, 21)\n",
      "\n",
      "DataFrame generated.\n",
      "- Shape: (1087, 4)\n",
      "\n",
      "Arguments:\n",
      "-  chrom : chr11\n",
      "-  x1 : 61788524\n",
      "-  y1 : 61897153\n",
      "-  x2 : 61890545\n",
      "-  y2 : 61892545\n",
      "-  fpath_out : /data/reddylab/Kuei/out/proj_combeffect_encode_fcc/results/hic_intact_K562_deep/coverage_virtual4c_track_crispri_hcrff/virtual4C.K562.deep.FADS3.TSS.1K.bg\n",
      "-  fpath_hic : /data/reddylab/Kuei/out/proj_combeffect_encode_fcc/source/hic_intact_K562_deep/inter.hic\n",
      "-  normalization : RU\n",
      "-  resolution : 100\n",
      "-  verbose : True\n",
      "\n",
      "Matrix generated.\n",
      "- Shape: (1087, 21)\n",
      "\n",
      "DataFrame generated.\n",
      "- Shape: (1087, 4)\n",
      "\n",
      "Arguments:\n",
      "-  chrom : chr11\n",
      "-  x1 : 61788524\n",
      "-  y1 : 61897153\n",
      "-  x2 : 61791910\n",
      "-  y2 : 61793910\n",
      "-  fpath_out : /data/reddylab/Kuei/out/proj_combeffect_encode_fcc/results/hic_intact_K562_deep/coverage_virtual4c_track_crispri_hcrff/virtual4C.K562.deep.FEN1.TSS.1K.bg\n",
      "-  fpath_hic : /data/reddylab/Kuei/out/proj_combeffect_encode_fcc/source/hic_intact_K562_deep/inter.hic\n",
      "-  normalization : RU\n",
      "-  resolution : 100\n",
      "-  verbose : True\n",
      "\n",
      "Matrix generated.\n",
      "- Shape: (1087, 21)\n",
      "\n",
      "DataFrame generated.\n",
      "- Shape: (1087, 4)\n",
      "\n",
      "Arguments:\n",
      "-  chrom : chr12\n",
      "-  x1 : 110726151\n",
      "-  y1 : 112325737\n",
      "-  x2 : 112012347\n",
      "-  y2 : 112014347\n",
      "-  fpath_out : /data/reddylab/Kuei/out/proj_combeffect_encode_fcc/results/hic_intact_K562_deep/coverage_virtual4c_track_crispri_hcrff/virtual4C.K562.deep.ERP29.TSS.1K.bg\n",
      "-  fpath_hic : /data/reddylab/Kuei/out/proj_combeffect_encode_fcc/source/hic_intact_K562_deep/inter.hic\n",
      "-  normalization : RU\n",
      "-  resolution : 100\n",
      "-  verbose : True\n",
      "\n",
      "Matrix generated.\n",
      "- Shape: (15997, 21)\n",
      "\n",
      "DataFrame generated.\n",
      "- Shape: (15997, 4)\n",
      "\n",
      "Arguments:\n",
      "-  chrom : chr4\n",
      "-  x1 : 55237590\n",
      "-  y1 : 56068531\n",
      "-  x2 : 55635298\n",
      "-  y2 : 55637298\n",
      "-  fpath_out : /data/reddylab/Kuei/out/proj_combeffect_encode_fcc/results/hic_intact_K562_deep/coverage_virtual4c_track_crispri_hcrff/virtual4C.K562.deep.NMU.TSS.1K.bg\n",
      "-  fpath_hic : /data/reddylab/Kuei/out/proj_combeffect_encode_fcc/source/hic_intact_K562_deep/inter.hic\n",
      "-  normalization : RU\n",
      "-  resolution : 100\n",
      "-  verbose : True\n",
      "\n",
      "Matrix generated.\n",
      "- Shape: (8311, 21)\n",
      "\n",
      "DataFrame generated.\n",
      "- Shape: (8311, 4)\n",
      "\n"
     ]
    }
   ],
   "source": [
    "cat ${FD_LOG}/coverage_hic_intact_K562_deep_virtual4c_track_crispri_hcrff_TSS_1k.0.txt"
   ]
  },
  {
   "cell_type": "markdown",
   "id": "e916b845-46ff-4c55-8220-e54db8333b41",
   "metadata": {},
   "source": [
    "## Convert bedgraph to bigwig"
   ]
  },
  {
   "cell_type": "code",
   "execution_count": 21,
   "id": "17d956f8-86a5-4eca-b084-8def28afc188",
   "metadata": {},
   "outputs": [
    {
     "name": "stdout",
     "output_type": "stream",
     "text": [
      "virtual4C.K562.deep.CAPRIN1.TSS.1K.bg\n",
      "virtual4C.K562.deep.CAPRIN1.TSS.3K.bg\n",
      "virtual4C.K562.deep.CAT.TSS.1K.bg\n",
      "virtual4C.K562.deep.CAT.TSS.3K.bg\n",
      "virtual4C.K562.deep.CD164.TSS.1K.bg\n",
      "virtual4C.K562.deep.CD164.TSS.3K.bg\n",
      "virtual4C.K562.deep.ERP29.TSS.1K.bg\n",
      "virtual4C.K562.deep.ERP29.TSS.3K.bg\n",
      "virtual4C.K562.deep.FADS1.TSS.1K.bg\n",
      "virtual4C.K562.deep.FADS1.TSS.3K.bg\n",
      "virtual4C.K562.deep.FADS2.TSS.1K.bg\n",
      "virtual4C.K562.deep.FADS2.TSS.3K.bg\n",
      "virtual4C.K562.deep.FADS3.TSS.1K.bg\n",
      "virtual4C.K562.deep.FADS3.TSS.3K.bg\n",
      "virtual4C.K562.deep.FEN1.TSS.1K.bg\n",
      "virtual4C.K562.deep.FEN1.TSS.3K.bg\n",
      "virtual4C.K562.deep.GATA1.TSS.1K.bg\n",
      "virtual4C.K562.deep.GATA1.TSS.3K.bg\n",
      "virtual4C.K562.deep.HBE1.TSS.1K.bg\n",
      "virtual4C.K562.deep.HBE1.TSS.3K.bg\n",
      "virtual4C.K562.deep.HBG1.TSS.1K.bg\n",
      "virtual4C.K562.deep.HBG1.TSS.3K.bg\n",
      "virtual4C.K562.deep.HBG2.TSS.1K.bg\n",
      "virtual4C.K562.deep.HBG2.TSS.3K.bg\n",
      "virtual4C.K562.deep.HBS1L.TSS.1K.bg\n",
      "virtual4C.K562.deep.HBS1L.TSS.3K.bg\n",
      "virtual4C.K562.deep.HDAC6.TSS.1K.bg\n",
      "virtual4C.K562.deep.HDAC6.TSS.3K.bg\n",
      "virtual4C.K562.deep.LMO2.TSS.1K.bg\n",
      "virtual4C.K562.deep.LMO2.TSS.3K.bg\n",
      "virtual4C.K562.deep.MEF2C.TSS.1K.bg\n",
      "virtual4C.K562.deep.MEF2C.TSS.3K.bg\n",
      "virtual4C.K562.deep.MYB.TSS.1K.bg\n",
      "virtual4C.K562.deep.MYB.TSS.3K.bg\n",
      "virtual4C.K562.deep.MYC.TSS.1K.bg\n",
      "virtual4C.K562.deep.MYC.TSS.3K.bg\n",
      "virtual4C.K562.deep.NMU.TSS.1K.bg\n",
      "virtual4C.K562.deep.NMU.TSS.3K.bg\n",
      "virtual4C.K562.deep.PVT1.TSS.1K.bg\n",
      "virtual4C.K562.deep.PVT1.TSS.3K.bg\n"
     ]
    }
   ],
   "source": [
    "FP_INPS=($(ls ${FD_RES}/results/hic_intact_K562_deep/coverage_virtual4c_track_crispri_hcrff/*.bg))\n",
    "basename -a ${FP_INPS[@]}"
   ]
  },
  {
   "cell_type": "code",
   "execution_count": 22,
   "id": "71289ca1-7ca8-4a3d-bc0f-b5a8e27124c9",
   "metadata": {},
   "outputs": [
    {
     "name": "stdout",
     "output_type": "stream",
     "text": [
      "virtual4C.K562.deep.CAPRIN1.TSS.1K.bg\n",
      "virtual4C.K562.deep.CAPRIN1.TSS.1K.bw\n",
      "virtual4C.K562.deep.CAPRIN1.TSS.3K.bg\n",
      "virtual4C.K562.deep.CAPRIN1.TSS.3K.bw\n",
      "virtual4C.K562.deep.CAT.TSS.1K.bg\n",
      "virtual4C.K562.deep.CAT.TSS.1K.bw\n",
      "virtual4C.K562.deep.CAT.TSS.3K.bg\n",
      "virtual4C.K562.deep.CAT.TSS.3K.bw\n",
      "virtual4C.K562.deep.CD164.TSS.1K.bg\n",
      "virtual4C.K562.deep.CD164.TSS.1K.bw\n",
      "virtual4C.K562.deep.CD164.TSS.3K.bg\n",
      "virtual4C.K562.deep.CD164.TSS.3K.bw\n",
      "virtual4C.K562.deep.ERP29.TSS.1K.bg\n",
      "virtual4C.K562.deep.ERP29.TSS.1K.bw\n",
      "virtual4C.K562.deep.ERP29.TSS.3K.bg\n",
      "virtual4C.K562.deep.ERP29.TSS.3K.bw\n",
      "virtual4C.K562.deep.FADS1.TSS.1K.bg\n",
      "virtual4C.K562.deep.FADS1.TSS.1K.bw\n",
      "virtual4C.K562.deep.FADS1.TSS.3K.bg\n",
      "virtual4C.K562.deep.FADS1.TSS.3K.bw\n",
      "virtual4C.K562.deep.FADS2.TSS.1K.bg\n",
      "virtual4C.K562.deep.FADS2.TSS.1K.bw\n",
      "virtual4C.K562.deep.FADS2.TSS.3K.bg\n",
      "virtual4C.K562.deep.FADS2.TSS.3K.bw\n",
      "virtual4C.K562.deep.FADS3.TSS.1K.bg\n",
      "virtual4C.K562.deep.FADS3.TSS.1K.bw\n",
      "virtual4C.K562.deep.FADS3.TSS.3K.bg\n",
      "virtual4C.K562.deep.FADS3.TSS.3K.bw\n",
      "virtual4C.K562.deep.FEN1.TSS.1K.bg\n",
      "virtual4C.K562.deep.FEN1.TSS.1K.bw\n",
      "virtual4C.K562.deep.FEN1.TSS.3K.bg\n",
      "virtual4C.K562.deep.FEN1.TSS.3K.bw\n",
      "virtual4C.K562.deep.GATA1.TSS.1K.bg\n",
      "virtual4C.K562.deep.GATA1.TSS.1K.bw\n",
      "virtual4C.K562.deep.GATA1.TSS.3K.bg\n",
      "virtual4C.K562.deep.GATA1.TSS.3K.bw\n",
      "virtual4C.K562.deep.HBE1.TSS.1K.bg\n",
      "virtual4C.K562.deep.HBE1.TSS.1K.bw\n",
      "virtual4C.K562.deep.HBE1.TSS.3K.bg\n",
      "virtual4C.K562.deep.HBE1.TSS.3K.bw\n",
      "virtual4C.K562.deep.HBG1.TSS.1K.bg\n",
      "virtual4C.K562.deep.HBG1.TSS.1K.bw\n",
      "virtual4C.K562.deep.HBG1.TSS.3K.bg\n",
      "virtual4C.K562.deep.HBG1.TSS.3K.bw\n",
      "virtual4C.K562.deep.HBG2.TSS.1K.bg\n",
      "virtual4C.K562.deep.HBG2.TSS.1K.bw\n",
      "virtual4C.K562.deep.HBG2.TSS.3K.bg\n",
      "virtual4C.K562.deep.HBG2.TSS.3K.bw\n",
      "virtual4C.K562.deep.HBS1L.TSS.1K.bg\n",
      "virtual4C.K562.deep.HBS1L.TSS.1K.bw\n",
      "virtual4C.K562.deep.HBS1L.TSS.3K.bg\n",
      "virtual4C.K562.deep.HBS1L.TSS.3K.bw\n",
      "virtual4C.K562.deep.HDAC6.TSS.1K.bg\n",
      "virtual4C.K562.deep.HDAC6.TSS.1K.bw\n",
      "virtual4C.K562.deep.HDAC6.TSS.3K.bg\n",
      "virtual4C.K562.deep.HDAC6.TSS.3K.bw\n",
      "virtual4C.K562.deep.LMO2.TSS.1K.bg\n",
      "virtual4C.K562.deep.LMO2.TSS.1K.bw\n",
      "virtual4C.K562.deep.LMO2.TSS.3K.bg\n",
      "virtual4C.K562.deep.LMO2.TSS.3K.bw\n",
      "virtual4C.K562.deep.MEF2C.TSS.1K.bg\n",
      "virtual4C.K562.deep.MEF2C.TSS.1K.bw\n",
      "virtual4C.K562.deep.MEF2C.TSS.3K.bg\n",
      "virtual4C.K562.deep.MEF2C.TSS.3K.bw\n",
      "virtual4C.K562.deep.MYB.TSS.1K.bg\n",
      "virtual4C.K562.deep.MYB.TSS.1K.bw\n",
      "virtual4C.K562.deep.MYB.TSS.3K.bg\n",
      "virtual4C.K562.deep.MYB.TSS.3K.bw\n",
      "virtual4C.K562.deep.MYC.TSS.1K.bg\n",
      "virtual4C.K562.deep.MYC.TSS.1K.bw\n",
      "virtual4C.K562.deep.MYC.TSS.3K.bg\n",
      "virtual4C.K562.deep.MYC.TSS.3K.bw\n",
      "virtual4C.K562.deep.NMU.TSS.1K.bg\n",
      "virtual4C.K562.deep.NMU.TSS.1K.bw\n",
      "virtual4C.K562.deep.NMU.TSS.3K.bg\n",
      "virtual4C.K562.deep.NMU.TSS.3K.bw\n",
      "virtual4C.K562.deep.PVT1.TSS.1K.bg\n",
      "virtual4C.K562.deep.PVT1.TSS.1K.bw\n",
      "virtual4C.K562.deep.PVT1.TSS.3K.bg\n",
      "virtual4C.K562.deep.PVT1.TSS.3K.bw\n"
     ]
    }
   ],
   "source": [
    "### init\n",
    "FD_UCSC=/data/common/shared_conda_envs/ucsc/bin\n",
    "FP_CHR=${FD_RES}/source/chrom.sizes.hg38\n",
    "FP_INPS=($(ls ${FD_RES}/results/hic_intact_K562_deep/coverage_virtual4c_track_crispri_hcrff/*.bg))\n",
    "\n",
    "### loop through each bed file and convert to bigwig file\n",
    "for FP_INP in ${FP_INPS[@]}; do\n",
    "\n",
    "    ### set input and output\n",
    "    FD_OUT=$(dirname  ${FP_INP})\n",
    "    FN_INP=$(basename ${FP_INP})\n",
    "    PREFIX=${FN_INP%.bg}\n",
    "    FN_OUT=${PREFIX}.bw\n",
    "    FP_OUT=${FD_OUT}/${FN_OUT}\n",
    "    echo ${FN_INP}\n",
    "    echo ${FN_OUT}\n",
    "    \n",
    "    ### bedgraph2bigwig\n",
    "    ${FD_UCSC}/bedGraphToBigWig ${FP_INP} ${FP_CHR} ${FP_OUT}\n",
    "done"
   ]
  },
  {
   "cell_type": "code",
   "execution_count": null,
   "id": "4fb0a508-137c-4002-8c2b-0df4ce280929",
   "metadata": {},
   "outputs": [],
   "source": []
  },
  {
   "cell_type": "code",
   "execution_count": null,
   "id": "e3d96904-873e-4e3c-a4c6-d9dd3f8d19f6",
   "metadata": {},
   "outputs": [],
   "source": []
  },
  {
   "cell_type": "code",
   "execution_count": null,
   "id": "a486539b-265f-4412-9244-332a5c9c019e",
   "metadata": {},
   "outputs": [],
   "source": []
  },
  {
   "cell_type": "code",
   "execution_count": 22,
   "id": "8f9c840c-1640-47b5-8b45-7686489f6926",
   "metadata": {},
   "outputs": [
    {
     "name": "stdout",
     "output_type": "stream",
     "text": [
      "Hostname:           x2-07-2.genome.duke.edu\n",
      "Slurm Array Index:  0\n",
      "Time Stamp:         04-17-23+16:26:06\n",
      "\n",
      "python: can't open file '/data/reddylab/Kuei/code/Proj_CombEffect_ENCODE_FCC/notebooks/42_hic_coverage/gen_virual4c_track.py': [Errno 2] No such file or directory\n",
      "python: can't open file '/data/reddylab/Kuei/code/Proj_CombEffect_ENCODE_FCC/notebooks/42_hic_coverage/gen_virual4c_track.py': [Errno 2] No such file or directory\n",
      "python: can't open file '/data/reddylab/Kuei/code/Proj_CombEffect_ENCODE_FCC/notebooks/42_hic_coverage/gen_virual4c_track.py': [Errno 2] No such file or directory\n",
      "python: can't open file '/data/reddylab/Kuei/code/Proj_CombEffect_ENCODE_FCC/notebooks/42_hic_coverage/gen_virual4c_track.py': [Errno 2] No such file or directory\n",
      "python: can't open file '/data/reddylab/Kuei/code/Proj_CombEffect_ENCODE_FCC/notebooks/42_hic_coverage/gen_virual4c_track.py': [Errno 2] No such file or directory\n",
      "python: can't open file '/data/reddylab/Kuei/code/Proj_CombEffect_ENCODE_FCC/notebooks/42_hic_coverage/gen_virual4c_track.py': [Errno 2] No such file or directory\n",
      "python: can't open file '/data/reddylab/Kuei/code/Proj_CombEffect_ENCODE_FCC/notebooks/42_hic_coverage/gen_virual4c_track.py': [Errno 2] No such file or directory\n",
      "python: can't open file '/data/reddylab/Kuei/code/Proj_CombEffect_ENCODE_FCC/notebooks/42_hic_coverage/gen_virual4c_track.py': [Errno 2] No such file or directory\n",
      "python: can't open file '/data/reddylab/Kuei/code/Proj_CombEffect_ENCODE_FCC/notebooks/42_hic_coverage/gen_virual4c_track.py': [Errno 2] No such file or directory\n",
      "python: can't open file '/data/reddylab/Kuei/code/Proj_CombEffect_ENCODE_FCC/notebooks/42_hic_coverage/gen_virual4c_track.py': [Errno 2] No such file or directory\n",
      "python: can't open file '/data/reddylab/Kuei/code/Proj_CombEffect_ENCODE_FCC/notebooks/42_hic_coverage/gen_virual4c_track.py': [Errno 2] No such file or directory\n",
      "python: can't open file '/data/reddylab/Kuei/code/Proj_CombEffect_ENCODE_FCC/notebooks/42_hic_coverage/gen_virual4c_track.py': [Errno 2] No such file or directory\n",
      "python: can't open file '/data/reddylab/Kuei/code/Proj_CombEffect_ENCODE_FCC/notebooks/42_hic_coverage/gen_virual4c_track.py': [Errno 2] No such file or directory\n",
      "python: can't open file '/data/reddylab/Kuei/code/Proj_CombEffect_ENCODE_FCC/notebooks/42_hic_coverage/gen_virual4c_track.py': [Errno 2] No such file or directory\n",
      "python: can't open file '/data/reddylab/Kuei/code/Proj_CombEffect_ENCODE_FCC/notebooks/42_hic_coverage/gen_virual4c_track.py': [Errno 2] No such file or directory\n",
      "python: can't open file '/data/reddylab/Kuei/code/Proj_CombEffect_ENCODE_FCC/notebooks/42_hic_coverage/gen_virual4c_track.py': [Errno 2] No such file or directory\n",
      "python: can't open file '/data/reddylab/Kuei/code/Proj_CombEffect_ENCODE_FCC/notebooks/42_hic_coverage/gen_virual4c_track.py': [Errno 2] No such file or directory\n",
      "python: can't open file '/data/reddylab/Kuei/code/Proj_CombEffect_ENCODE_FCC/notebooks/42_hic_coverage/gen_virual4c_track.py': [Errno 2] No such file or directory\n",
      "python: can't open file '/data/reddylab/Kuei/code/Proj_CombEffect_ENCODE_FCC/notebooks/42_hic_coverage/gen_virual4c_track.py': [Errno 2] No such file or directory\n",
      "python: can't open file '/data/reddylab/Kuei/code/Proj_CombEffect_ENCODE_FCC/notebooks/42_hic_coverage/gen_virual4c_track.py': [Errno 2] No such file or directory\n",
      "\n",
      "Done!\n",
      "Run Time: 1 seconds\n"
     ]
    }
   ],
   "source": [
    "cat ${FD_LOG}/coverage_hic_ENCFF621AIY_virtual4c_track_crispri_hcrff.0.txt"
   ]
  },
  {
   "cell_type": "code",
   "execution_count": null,
   "id": "52513052-f999-4795-b919-4e79cdee23b5",
   "metadata": {},
   "outputs": [],
   "source": []
  },
  {
   "cell_type": "code",
   "execution_count": 7,
   "id": "1c4d949b-c04b-474e-9e0f-669657e96898",
   "metadata": {},
   "outputs": [
    {
     "name": "stdout",
     "output_type": "stream",
     "text": [
      "\u001b[0m\u001b[38;5;34m/data/reddylab/Kuei/code/Proj_CombEffect_ENCODE_FCC/notebooks/sing_proj_encode_fcc.sh\u001b[0m\u001b[K\n"
     ]
    }
   ],
   "source": [
    "ls ${FD_PRJ}/notebooks/sing_proj_encode_fcc.sh"
   ]
  },
  {
   "cell_type": "code",
   "execution_count": 37,
   "id": "c757c2dc-fb41-4fcc-826a-1e6e4e4c798b",
   "metadata": {},
   "outputs": [
    {
     "name": "stdout",
     "output_type": "stream",
     "text": [
      "/data/reddylab/Kuei/out/proj_combeffect_encode_fcc/source/hic_intact_ENCSR479XDG/ENCFF621AIY.hic\n"
     ]
    }
   ],
   "source": [
    "echo ${FD_RES}/source/hic_intact_ENCSR479XDG/ENCFF621AIY.hic"
   ]
  },
  {
   "cell_type": "code",
   "execution_count": 9,
   "id": "ae15b685-2472-4e81-99c5-58c469c54835",
   "metadata": {},
   "outputs": [
    {
     "name": "stdout",
     "output_type": "stream",
     "text": [
      "#!/bin/bash\n",
      "\n",
      "### get file path\n",
      "### Stackoverflow: how-can-i-get-the-source-directory-of-a-bash-script-from-within-the-script-itself\n",
      "SCRIPT_DIR=\"$( cd \"$( dirname \"${BASH_SOURCE[0]}\" )\" &> /dev/null && pwd )\"\n",
      "source ${SCRIPT_DIR}/config/config_duke.sh\n",
      "\n",
      "### execute\n",
      "singularity exec \\\n",
      "    -H ${PWD}:/home \\\n",
      "    -B ${FD_WORK}:/mount/work \\\n",
      "    -B ${FD_CODE}:/mount/code \\\n",
      "    -B ${FD_RLAB}:/mount/reddylab \\\n",
      "    -B /data:/data \\\n",
      "    ${FD_SING}/singularity_proj_encode_fcc.sif \\\n",
      "    \"$@\"\n"
     ]
    }
   ],
   "source": [
    "cat ${FD_PRJ}/notebooks/sing_proj_encode_fcc.sh"
   ]
  },
  {
   "cell_type": "code",
   "execution_count": 10,
   "id": "60abdc6f-8993-42e2-98b6-6d4d8c1a08d8",
   "metadata": {},
   "outputs": [
    {
     "name": "stdout",
     "output_type": "stream",
     "text": [
      "coverage_4c_track_crispri_01_prepare.ipynb\n",
      "coverage_4c_track_crispri_02_test_CMD.ipynb\n",
      "coverage_4c_track_crispri_02_test_PY.ipynb\n",
      "scripts\n"
     ]
    }
   ],
   "source": [
    "${FD_PRJ}/notebooks/sing_proj_encode_fcc.sh ls"
   ]
  },
  {
   "cell_type": "code",
   "execution_count": 12,
   "id": "6b70644c-cc0b-441c-91c4-6a8b1f1a72f2",
   "metadata": {},
   "outputs": [
    {
     "name": "stdout",
     "output_type": "stream",
     "text": [
      "Namespace(chrom=None, hic=None, verbose=True, x1=None, x2=None, y1=None, y2=None)\n",
      "None\n"
     ]
    }
   ],
   "source": [
    "${FD_PRJ}/notebooks/sing_proj_encode_fcc.sh python ./scripts/gen_4c_track.py --verbose"
   ]
  },
  {
   "cell_type": "code",
   "execution_count": 33,
   "id": "bf115872-f87c-4126-84af-fb35b7753134",
   "metadata": {},
   "outputs": [
    {
     "name": "stdout",
     "output_type": "stream",
     "text": [
      "Namespace(chrom='chrX', fpath_hic='/data/reddylab/Kuei/out/proj_combeffect_encode_fcc/source/hic_intact_ENCSR479XDG/ENCFF621AIY.hic', fpath_out=None, normalization='NONE', resolution=2000, verbose=True, x1=48000000, x2=48800000, y1=50000000, y2=48804000)\n",
      "chrX\n",
      "(1001, 4)\n"
     ]
    }
   ],
   "source": [
    "${FD_PRJ}/notebooks/sing_proj_encode_fcc.sh \\\n",
    "    python ./scripts/gen_4c_track.py \\\n",
    "       --fpath_hic ${FD_RES}/source/hic_intact_ENCSR479XDG/ENCFF621AIY.hic \\\n",
    "       --normalization NONE \\\n",
    "       --resolution 2_000 \\\n",
    "       --chrom chrX \\\n",
    "       --x1 48_000_000 \\\n",
    "       --y1 50_000_000 \\\n",
    "       --x2 48_800_000 \\\n",
    "       --y2 48_804_000 \\\n",
    "       --verbose"
   ]
  },
  {
   "cell_type": "code",
   "execution_count": 36,
   "id": "52c4b422-f87a-41cb-9fab-080fee7fd2d7",
   "metadata": {},
   "outputs": [
    {
     "name": "stdout",
     "output_type": "stream",
     "text": [
      "Namespace(chrom='chrX', fpath_hic='/data/reddylab/Kuei/out/proj_combeffect_encode_fcc/source/hic_intact_ENCSR479XDG/ENCFF621AIY.hic', fpath_out=None, normalization='NONE', resolution=100, verbose=True, x1=48000000, x2=48800000, y1=50000000, y2=48804000)\n",
      "chrX\n",
      "(20001, 4)\n"
     ]
    }
   ],
   "source": [
    "${FD_PRJ}/notebooks/sing_proj_encode_fcc.sh \\\n",
    "    python ./scripts/gen_4c_track.py \\\n",
    "       --fpath_hic ${FD_RES}/source/hic_intact_ENCSR479XDG/ENCFF621AIY.hic \\\n",
    "       --normalization NONE \\\n",
    "       --resolution 100 \\\n",
    "       --chrom chrX \\\n",
    "       --x1 48_000_000 \\\n",
    "       --y1 50_000_000 \\\n",
    "       --x2 48_800_000 \\\n",
    "       --y2 48_804_000 \\\n",
    "       --verbose"
   ]
  },
  {
   "cell_type": "code",
   "execution_count": 34,
   "id": "f8aeeed6-351e-4fae-b999-02c0a32bc529",
   "metadata": {},
   "outputs": [
    {
     "name": "stdout",
     "output_type": "stream",
     "text": [
      "Namespace(chrom='chrX', fpath_hic='/data/reddylab/Kuei/out/proj_combeffect_encode_fcc/source/hic_intact_ENCSR479XDG/ENCFF621AIY.hic', fpath_out=None, normalization='SCALE', resolution=2000, verbose=True, x1=48000000, x2=48800000, y1=50000000, y2=48804000)\n",
      "chrX\n",
      "(1001, 4)\n"
     ]
    }
   ],
   "source": [
    "${FD_PRJ}/notebooks/sing_proj_encode_fcc.sh \\\n",
    "    python ./scripts/gen_4c_track.py \\\n",
    "       --fpath_hic ${FD_RES}/source/hic_intact_ENCSR479XDG/ENCFF621AIY.hic \\\n",
    "       --normalization SCALE \\\n",
    "       --resolution 2_000 \\\n",
    "       --chrom chrX \\\n",
    "       --x1 48_000_000 \\\n",
    "       --y1 50_000_000 \\\n",
    "       --x2 48_800_000 \\\n",
    "       --y2 48_804_000 \\\n",
    "       --verbose"
   ]
  },
  {
   "cell_type": "code",
   "execution_count": null,
   "id": "e873abfb-f1da-46eb-9087-f7268abecb60",
   "metadata": {},
   "outputs": [],
   "source": [
    "48_000_000, 50_000_000, 48_800_000, 48_804_000"
   ]
  }
 ],
 "metadata": {
  "kernelspec": {
   "display_name": "Bash",
   "language": "bash",
   "name": "bash"
  },
  "language_info": {
   "codemirror_mode": "shell",
   "file_extension": ".sh",
   "mimetype": "text/x-sh",
   "name": "bash"
  }
 },
 "nbformat": 4,
 "nbformat_minor": 5
}
