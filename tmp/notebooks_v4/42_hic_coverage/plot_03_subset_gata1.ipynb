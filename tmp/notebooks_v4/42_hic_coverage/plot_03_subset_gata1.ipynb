{
 "cells": [
  {
   "cell_type": "code",
   "execution_count": 1,
   "metadata": {},
   "outputs": [
    {
     "name": "stdout",
     "output_type": "stream",
     "text": [
      "You are in Singularity: singularity_proj_encode_fcc \n",
      "BASE DIRECTORY (FD_BASE): /data/reddylab/Kuei \n",
      "WORK DIRECTORY (FD_WORK): /data/reddylab/Kuei/out \n",
      "CODE DIRECTORY (FD_CODE): /data/reddylab/Kuei/code \n",
      "PATH OF PROJECT (FD_PRJ): /data/reddylab/Kuei/code/Proj_CombEffect_ENCODE_FCC \n",
      "PATH OF RESULTS (FD_RES): /data/reddylab/Kuei/out/proj_combeffect_encode_fcc \n",
      "PATH OF LOG     (FD_LOG): /data/reddylab/Kuei/out/proj_combeffect_encode_fcc/log \n"
     ]
    }
   ],
   "source": [
    "suppressWarnings(suppressMessages(source(\"../config/config_sing.R\")))\n",
    "show_env()"
   ]
  },
  {
   "cell_type": "code",
   "execution_count": 2,
   "metadata": {},
   "outputs": [
    {
     "data": {
      "text/html": [
       "<style>\n",
       ".list-inline {list-style: none; margin:0; padding: 0}\n",
       ".list-inline>li {display: inline-block}\n",
       ".list-inline>li:not(:last-child)::after {content: \"\\00b7\"; padding: 0 .5ex}\n",
       "</style>\n",
       "<ol class=list-inline><li>'region_pair.chrX.SUBSET1.tsv.gz'</li><li>'region_pair.chrX.SUBSET2.tsv.gz'</li><li>'region_pair.chrX.SUBSET3.tsv.gz'</li><li>'region_pair.chrX.SUBSET4.tsv.gz'</li><li>'region_pair.chrX.SUBSET5.tsv.gz'</li><li>'region_pair.chrX.SUBSET6.tsv.gz'</li><li>'region_pair.chrX.SUBSET7.tsv.gz'</li><li>'region_pair.chrX.SUBSET8.tsv.gz'</li><li>'region_pair.chrX.SUBSET9.tsv.gz'</li></ol>\n"
      ],
      "text/latex": [
       "\\begin{enumerate*}\n",
       "\\item 'region\\_pair.chrX.SUBSET1.tsv.gz'\n",
       "\\item 'region\\_pair.chrX.SUBSET2.tsv.gz'\n",
       "\\item 'region\\_pair.chrX.SUBSET3.tsv.gz'\n",
       "\\item 'region\\_pair.chrX.SUBSET4.tsv.gz'\n",
       "\\item 'region\\_pair.chrX.SUBSET5.tsv.gz'\n",
       "\\item 'region\\_pair.chrX.SUBSET6.tsv.gz'\n",
       "\\item 'region\\_pair.chrX.SUBSET7.tsv.gz'\n",
       "\\item 'region\\_pair.chrX.SUBSET8.tsv.gz'\n",
       "\\item 'region\\_pair.chrX.SUBSET9.tsv.gz'\n",
       "\\end{enumerate*}\n"
      ],
      "text/markdown": [
       "1. 'region_pair.chrX.SUBSET1.tsv.gz'\n",
       "2. 'region_pair.chrX.SUBSET2.tsv.gz'\n",
       "3. 'region_pair.chrX.SUBSET3.tsv.gz'\n",
       "4. 'region_pair.chrX.SUBSET4.tsv.gz'\n",
       "5. 'region_pair.chrX.SUBSET5.tsv.gz'\n",
       "6. 'region_pair.chrX.SUBSET6.tsv.gz'\n",
       "7. 'region_pair.chrX.SUBSET7.tsv.gz'\n",
       "8. 'region_pair.chrX.SUBSET8.tsv.gz'\n",
       "9. 'region_pair.chrX.SUBSET9.tsv.gz'\n",
       "\n",
       "\n"
      ],
      "text/plain": [
       "[1] \"region_pair.chrX.SUBSET1.tsv.gz\" \"region_pair.chrX.SUBSET2.tsv.gz\"\n",
       "[3] \"region_pair.chrX.SUBSET3.tsv.gz\" \"region_pair.chrX.SUBSET4.tsv.gz\"\n",
       "[5] \"region_pair.chrX.SUBSET5.tsv.gz\" \"region_pair.chrX.SUBSET6.tsv.gz\"\n",
       "[7] \"region_pair.chrX.SUBSET7.tsv.gz\" \"region_pair.chrX.SUBSET8.tsv.gz\"\n",
       "[9] \"region_pair.chrX.SUBSET9.tsv.gz\""
      ]
     },
     "metadata": {},
     "output_type": "display_data"
    }
   ],
   "source": [
    "fdiry = file.path(\n",
    "    FD_RES, \"results\", \n",
    "    \"hic_intact_K562_deep\", \n",
    "    \"coverage_astarrseq_peak_macs_input\",\n",
    "    \"region_pair_chrX\"\n",
    ")\n",
    "dir(fdiry)"
   ]
  },
  {
   "cell_type": "code",
   "execution_count": 6,
   "metadata": {},
   "outputs": [
    {
     "data": {
      "text/html": [
       "<style>\n",
       ".list-inline {list-style: none; margin:0; padding: 0}\n",
       ".list-inline>li {display: inline-block}\n",
       ".list-inline>li:not(:last-child)::after {content: \"\\00b7\"; padding: 0 .5ex}\n",
       "</style>\n",
       "<ol class=list-inline><li>'chrX\\t46911791\\t46913428\\tchrX\\t120560541\\t120561951\\tchrX:46911791-46913428|chrX:120560541-120561951\\t0.22877\\t0.0\\t0.22877\\t0.22877\\t0.22877\\t0.22877\\t0.22877\\t0.0037'</li><li>'chrX\\t46911791\\t46913428\\tchrX\\t120603602\\t120604778\\tchrX:46911791-46913428|chrX:120603602-120604778\\t0.53849\\t0.0\\t0.53849\\t0.53849\\t0.53849\\t0.53849\\t0.53849\\t0.00463'</li><li>'chrX\\t46911791\\t46913428\\tchrX\\t123454207\\t123456188\\tchrX:46911791-46913428|chrX:123454207-123456188\\t0.37396\\t0.0\\t0.37396\\t0.37396\\t0.37396\\t0.37396\\t0.37396\\t0.00278'</li><li>'chrX\\t46911791\\t46913428\\tchrX\\t124208729\\t124209143\\tchrX:46911791-46913428|chrX:124208729-124209143\\t0.16592\\t0.0\\t0.16592\\t0.16592\\t0.16592\\t0.16592\\t0.16592\\t0.01111'</li><li>'chrX\\t46911791\\t46913428\\tchrX\\t124274330\\t124275734\\tchrX:46911791-46913428|chrX:124274330-124275734\\t0.57041\\t0.0\\t0.57041\\t0.57041\\t0.57041\\t0.57041\\t0.57041\\t0.0037'</li><li>'chrX\\t46911791\\t46913428\\tchrX\\t129724950\\t129725191\\tchrX:46911791-46913428|chrX:129724950-129725191\\t0.21642\\t0.0\\t0.21642\\t0.21642\\t0.21642\\t0.21642\\t0.21642\\t0.01852'</li><li>'chrX\\t46911791\\t46913428\\tchrX\\t130179228\\t130180347\\tchrX:46911791-46913428|chrX:130179228-130180347\\t0.37022\\t0.0\\t0.37022\\t0.37022\\t0.37022\\t0.37022\\t0.37022\\t0.00463'</li><li>'chrX\\t46911791\\t46913428\\tchrX\\t134459625\\t134461154\\tchrX:46911791-46913428|chrX:134459625-134461154\\t0.57271\\t0.0\\t0.57271\\t0.57271\\t0.57271\\t0.57271\\t0.57271\\t0.00347'</li><li>'chrX\\t46911791\\t46913428\\tchrX\\t151981728\\t151982804\\tchrX:46911791-46913428|chrX:151981728-151982804\\t0.71485\\t0.0\\t0.71485\\t0.71485\\t0.71485\\t0.71485\\t0.71485\\t0.00463'</li><li>'chrX\\t46911791\\t46913428\\tchrX\\t152647349\\t152648510\\tchrX:46911791-46913428|chrX:152647349-152648510\\t0.45138\\t0.0\\t0.45138\\t0.45138\\t0.45138\\t0.45138\\t0.45138\\t0.00427'</li></ol>\n"
      ],
      "text/latex": [
       "\\begin{enumerate*}\n",
       "\\item 'chrX\\textbackslash{}t46911791\\textbackslash{}t46913428\\textbackslash{}tchrX\\textbackslash{}t120560541\\textbackslash{}t120561951\\textbackslash{}tchrX:46911791-46913428\\textbar{}chrX:120560541-120561951\\textbackslash{}t0.22877\\textbackslash{}t0.0\\textbackslash{}t0.22877\\textbackslash{}t0.22877\\textbackslash{}t0.22877\\textbackslash{}t0.22877\\textbackslash{}t0.22877\\textbackslash{}t0.0037'\n",
       "\\item 'chrX\\textbackslash{}t46911791\\textbackslash{}t46913428\\textbackslash{}tchrX\\textbackslash{}t120603602\\textbackslash{}t120604778\\textbackslash{}tchrX:46911791-46913428\\textbar{}chrX:120603602-120604778\\textbackslash{}t0.53849\\textbackslash{}t0.0\\textbackslash{}t0.53849\\textbackslash{}t0.53849\\textbackslash{}t0.53849\\textbackslash{}t0.53849\\textbackslash{}t0.53849\\textbackslash{}t0.00463'\n",
       "\\item 'chrX\\textbackslash{}t46911791\\textbackslash{}t46913428\\textbackslash{}tchrX\\textbackslash{}t123454207\\textbackslash{}t123456188\\textbackslash{}tchrX:46911791-46913428\\textbar{}chrX:123454207-123456188\\textbackslash{}t0.37396\\textbackslash{}t0.0\\textbackslash{}t0.37396\\textbackslash{}t0.37396\\textbackslash{}t0.37396\\textbackslash{}t0.37396\\textbackslash{}t0.37396\\textbackslash{}t0.00278'\n",
       "\\item 'chrX\\textbackslash{}t46911791\\textbackslash{}t46913428\\textbackslash{}tchrX\\textbackslash{}t124208729\\textbackslash{}t124209143\\textbackslash{}tchrX:46911791-46913428\\textbar{}chrX:124208729-124209143\\textbackslash{}t0.16592\\textbackslash{}t0.0\\textbackslash{}t0.16592\\textbackslash{}t0.16592\\textbackslash{}t0.16592\\textbackslash{}t0.16592\\textbackslash{}t0.16592\\textbackslash{}t0.01111'\n",
       "\\item 'chrX\\textbackslash{}t46911791\\textbackslash{}t46913428\\textbackslash{}tchrX\\textbackslash{}t124274330\\textbackslash{}t124275734\\textbackslash{}tchrX:46911791-46913428\\textbar{}chrX:124274330-124275734\\textbackslash{}t0.57041\\textbackslash{}t0.0\\textbackslash{}t0.57041\\textbackslash{}t0.57041\\textbackslash{}t0.57041\\textbackslash{}t0.57041\\textbackslash{}t0.57041\\textbackslash{}t0.0037'\n",
       "\\item 'chrX\\textbackslash{}t46911791\\textbackslash{}t46913428\\textbackslash{}tchrX\\textbackslash{}t129724950\\textbackslash{}t129725191\\textbackslash{}tchrX:46911791-46913428\\textbar{}chrX:129724950-129725191\\textbackslash{}t0.21642\\textbackslash{}t0.0\\textbackslash{}t0.21642\\textbackslash{}t0.21642\\textbackslash{}t0.21642\\textbackslash{}t0.21642\\textbackslash{}t0.21642\\textbackslash{}t0.01852'\n",
       "\\item 'chrX\\textbackslash{}t46911791\\textbackslash{}t46913428\\textbackslash{}tchrX\\textbackslash{}t130179228\\textbackslash{}t130180347\\textbackslash{}tchrX:46911791-46913428\\textbar{}chrX:130179228-130180347\\textbackslash{}t0.37022\\textbackslash{}t0.0\\textbackslash{}t0.37022\\textbackslash{}t0.37022\\textbackslash{}t0.37022\\textbackslash{}t0.37022\\textbackslash{}t0.37022\\textbackslash{}t0.00463'\n",
       "\\item 'chrX\\textbackslash{}t46911791\\textbackslash{}t46913428\\textbackslash{}tchrX\\textbackslash{}t134459625\\textbackslash{}t134461154\\textbackslash{}tchrX:46911791-46913428\\textbar{}chrX:134459625-134461154\\textbackslash{}t0.57271\\textbackslash{}t0.0\\textbackslash{}t0.57271\\textbackslash{}t0.57271\\textbackslash{}t0.57271\\textbackslash{}t0.57271\\textbackslash{}t0.57271\\textbackslash{}t0.00347'\n",
       "\\item 'chrX\\textbackslash{}t46911791\\textbackslash{}t46913428\\textbackslash{}tchrX\\textbackslash{}t151981728\\textbackslash{}t151982804\\textbackslash{}tchrX:46911791-46913428\\textbar{}chrX:151981728-151982804\\textbackslash{}t0.71485\\textbackslash{}t0.0\\textbackslash{}t0.71485\\textbackslash{}t0.71485\\textbackslash{}t0.71485\\textbackslash{}t0.71485\\textbackslash{}t0.71485\\textbackslash{}t0.00463'\n",
       "\\item 'chrX\\textbackslash{}t46911791\\textbackslash{}t46913428\\textbackslash{}tchrX\\textbackslash{}t152647349\\textbackslash{}t152648510\\textbackslash{}tchrX:46911791-46913428\\textbar{}chrX:152647349-152648510\\textbackslash{}t0.45138\\textbackslash{}t0.0\\textbackslash{}t0.45138\\textbackslash{}t0.45138\\textbackslash{}t0.45138\\textbackslash{}t0.45138\\textbackslash{}t0.45138\\textbackslash{}t0.00427'\n",
       "\\end{enumerate*}\n"
      ],
      "text/markdown": [
       "1. 'chrX\\t46911791\\t46913428\\tchrX\\t120560541\\t120561951\\tchrX:46911791-46913428|chrX:120560541-120561951\\t0.22877\\t0.0\\t0.22877\\t0.22877\\t0.22877\\t0.22877\\t0.22877\\t0.0037'\n",
       "2. 'chrX\\t46911791\\t46913428\\tchrX\\t120603602\\t120604778\\tchrX:46911791-46913428|chrX:120603602-120604778\\t0.53849\\t0.0\\t0.53849\\t0.53849\\t0.53849\\t0.53849\\t0.53849\\t0.00463'\n",
       "3. 'chrX\\t46911791\\t46913428\\tchrX\\t123454207\\t123456188\\tchrX:46911791-46913428|chrX:123454207-123456188\\t0.37396\\t0.0\\t0.37396\\t0.37396\\t0.37396\\t0.37396\\t0.37396\\t0.00278'\n",
       "4. 'chrX\\t46911791\\t46913428\\tchrX\\t124208729\\t124209143\\tchrX:46911791-46913428|chrX:124208729-124209143\\t0.16592\\t0.0\\t0.16592\\t0.16592\\t0.16592\\t0.16592\\t0.16592\\t0.01111'\n",
       "5. 'chrX\\t46911791\\t46913428\\tchrX\\t124274330\\t124275734\\tchrX:46911791-46913428|chrX:124274330-124275734\\t0.57041\\t0.0\\t0.57041\\t0.57041\\t0.57041\\t0.57041\\t0.57041\\t0.0037'\n",
       "6. 'chrX\\t46911791\\t46913428\\tchrX\\t129724950\\t129725191\\tchrX:46911791-46913428|chrX:129724950-129725191\\t0.21642\\t0.0\\t0.21642\\t0.21642\\t0.21642\\t0.21642\\t0.21642\\t0.01852'\n",
       "7. 'chrX\\t46911791\\t46913428\\tchrX\\t130179228\\t130180347\\tchrX:46911791-46913428|chrX:130179228-130180347\\t0.37022\\t0.0\\t0.37022\\t0.37022\\t0.37022\\t0.37022\\t0.37022\\t0.00463'\n",
       "8. 'chrX\\t46911791\\t46913428\\tchrX\\t134459625\\t134461154\\tchrX:46911791-46913428|chrX:134459625-134461154\\t0.57271\\t0.0\\t0.57271\\t0.57271\\t0.57271\\t0.57271\\t0.57271\\t0.00347'\n",
       "9. 'chrX\\t46911791\\t46913428\\tchrX\\t151981728\\t151982804\\tchrX:46911791-46913428|chrX:151981728-151982804\\t0.71485\\t0.0\\t0.71485\\t0.71485\\t0.71485\\t0.71485\\t0.71485\\t0.00463'\n",
       "10. 'chrX\\t46911791\\t46913428\\tchrX\\t152647349\\t152648510\\tchrX:46911791-46913428|chrX:152647349-152648510\\t0.45138\\t0.0\\t0.45138\\t0.45138\\t0.45138\\t0.45138\\t0.45138\\t0.00427'\n",
       "\n",
       "\n"
      ],
      "text/plain": [
       " [1] \"chrX\\t46911791\\t46913428\\tchrX\\t120560541\\t120561951\\tchrX:46911791-46913428|chrX:120560541-120561951\\t0.22877\\t0.0\\t0.22877\\t0.22877\\t0.22877\\t0.22877\\t0.22877\\t0.0037\" \n",
       " [2] \"chrX\\t46911791\\t46913428\\tchrX\\t120603602\\t120604778\\tchrX:46911791-46913428|chrX:120603602-120604778\\t0.53849\\t0.0\\t0.53849\\t0.53849\\t0.53849\\t0.53849\\t0.53849\\t0.00463\"\n",
       " [3] \"chrX\\t46911791\\t46913428\\tchrX\\t123454207\\t123456188\\tchrX:46911791-46913428|chrX:123454207-123456188\\t0.37396\\t0.0\\t0.37396\\t0.37396\\t0.37396\\t0.37396\\t0.37396\\t0.00278\"\n",
       " [4] \"chrX\\t46911791\\t46913428\\tchrX\\t124208729\\t124209143\\tchrX:46911791-46913428|chrX:124208729-124209143\\t0.16592\\t0.0\\t0.16592\\t0.16592\\t0.16592\\t0.16592\\t0.16592\\t0.01111\"\n",
       " [5] \"chrX\\t46911791\\t46913428\\tchrX\\t124274330\\t124275734\\tchrX:46911791-46913428|chrX:124274330-124275734\\t0.57041\\t0.0\\t0.57041\\t0.57041\\t0.57041\\t0.57041\\t0.57041\\t0.0037\" \n",
       " [6] \"chrX\\t46911791\\t46913428\\tchrX\\t129724950\\t129725191\\tchrX:46911791-46913428|chrX:129724950-129725191\\t0.21642\\t0.0\\t0.21642\\t0.21642\\t0.21642\\t0.21642\\t0.21642\\t0.01852\"\n",
       " [7] \"chrX\\t46911791\\t46913428\\tchrX\\t130179228\\t130180347\\tchrX:46911791-46913428|chrX:130179228-130180347\\t0.37022\\t0.0\\t0.37022\\t0.37022\\t0.37022\\t0.37022\\t0.37022\\t0.00463\"\n",
       " [8] \"chrX\\t46911791\\t46913428\\tchrX\\t134459625\\t134461154\\tchrX:46911791-46913428|chrX:134459625-134461154\\t0.57271\\t0.0\\t0.57271\\t0.57271\\t0.57271\\t0.57271\\t0.57271\\t0.00347\"\n",
       " [9] \"chrX\\t46911791\\t46913428\\tchrX\\t151981728\\t151982804\\tchrX:46911791-46913428|chrX:151981728-151982804\\t0.71485\\t0.0\\t0.71485\\t0.71485\\t0.71485\\t0.71485\\t0.71485\\t0.00463\"\n",
       "[10] \"chrX\\t46911791\\t46913428\\tchrX\\t152647349\\t152648510\\tchrX:46911791-46913428|chrX:152647349-152648510\\t0.45138\\t0.0\\t0.45138\\t0.45138\\t0.45138\\t0.45138\\t0.45138\\t0.00427\""
      ]
     },
     "metadata": {},
     "output_type": "display_data"
    }
   ],
   "source": [
    "fdiry = file.path(\n",
    "    FD_RES, \"results\", \n",
    "    \"hic_intact_K562_deep\", \n",
    "    \"coverage_astarrseq_peak_macs_input\",\n",
    "    \"region_pair_chrX\"\n",
    ")\n",
    "fname = \"region_pair.chrX.SUBSET7.tsv.gz\"\n",
    "fpath = file.path(fdiry, fname)\n",
    "\n",
    "txt = paste(\"zcat\", fpath, \"|\", \"head\")\n",
    "system(txt, intern=TRUE)"
   ]
  },
  {
   "cell_type": "code",
   "execution_count": 7,
   "metadata": {},
   "outputs": [
    {
     "name": "stderr",
     "output_type": "stream",
     "text": [
      "\u001b[1mRows: \u001b[22m\u001b[34m28566\u001b[39m \u001b[1mColumns: \u001b[22m\u001b[34m15\u001b[39m\n",
      "\u001b[36m──\u001b[39m \u001b[1mColumn specification\u001b[22m \u001b[36m──────────────────────────────────────────────────────\u001b[39m\n",
      "\u001b[1mDelimiter:\u001b[22m \"\\t\"\n",
      "\u001b[31mchr\u001b[39m  (3): Chrom1, Chrom2, Name\n",
      "\u001b[32mdbl\u001b[39m (12): Start1, End1, Start2, End2, Mean, SD, Q1, Q2, Q3, Min, Max, Density\n",
      "\n",
      "\u001b[36mℹ\u001b[39m Use `spec()` to retrieve the full column specification for this data.\n",
      "\u001b[36mℹ\u001b[39m Specify the column types or set `show_col_types = FALSE` to quiet this message.\n"
     ]
    },
    {
     "name": "stdout",
     "output_type": "stream",
     "text": [
      "[1] 28566    15\n"
     ]
    },
    {
     "data": {
      "text/html": [
       "<table class=\"dataframe\">\n",
       "<caption>A tibble: 6 × 15</caption>\n",
       "<thead>\n",
       "\t<tr><th scope=col>Chrom1</th><th scope=col>Start1</th><th scope=col>End1</th><th scope=col>Chrom2</th><th scope=col>Start2</th><th scope=col>End2</th><th scope=col>Name</th><th scope=col>Mean</th><th scope=col>SD</th><th scope=col>Q1</th><th scope=col>Q2</th><th scope=col>Q3</th><th scope=col>Min</th><th scope=col>Max</th><th scope=col>Density</th></tr>\n",
       "\t<tr><th scope=col>&lt;chr&gt;</th><th scope=col>&lt;dbl&gt;</th><th scope=col>&lt;dbl&gt;</th><th scope=col>&lt;chr&gt;</th><th scope=col>&lt;dbl&gt;</th><th scope=col>&lt;dbl&gt;</th><th scope=col>&lt;chr&gt;</th><th scope=col>&lt;dbl&gt;</th><th scope=col>&lt;dbl&gt;</th><th scope=col>&lt;dbl&gt;</th><th scope=col>&lt;dbl&gt;</th><th scope=col>&lt;dbl&gt;</th><th scope=col>&lt;dbl&gt;</th><th scope=col>&lt;dbl&gt;</th><th scope=col>&lt;dbl&gt;</th></tr>\n",
       "</thead>\n",
       "<tbody>\n",
       "\t<tr><td>chrX</td><td>46911791</td><td>46913428</td><td>chrX</td><td>120560541</td><td>120561951</td><td>chrX:46911791-46913428|chrX:120560541-120561951</td><td>0.22877</td><td>0</td><td>0.22877</td><td>0.22877</td><td>0.22877</td><td>0.22877</td><td>0.22877</td><td>0.00370</td></tr>\n",
       "\t<tr><td>chrX</td><td>46911791</td><td>46913428</td><td>chrX</td><td>120603602</td><td>120604778</td><td>chrX:46911791-46913428|chrX:120603602-120604778</td><td>0.53849</td><td>0</td><td>0.53849</td><td>0.53849</td><td>0.53849</td><td>0.53849</td><td>0.53849</td><td>0.00463</td></tr>\n",
       "\t<tr><td>chrX</td><td>46911791</td><td>46913428</td><td>chrX</td><td>123454207</td><td>123456188</td><td>chrX:46911791-46913428|chrX:123454207-123456188</td><td>0.37396</td><td>0</td><td>0.37396</td><td>0.37396</td><td>0.37396</td><td>0.37396</td><td>0.37396</td><td>0.00278</td></tr>\n",
       "\t<tr><td>chrX</td><td>46911791</td><td>46913428</td><td>chrX</td><td>124208729</td><td>124209143</td><td>chrX:46911791-46913428|chrX:124208729-124209143</td><td>0.16592</td><td>0</td><td>0.16592</td><td>0.16592</td><td>0.16592</td><td>0.16592</td><td>0.16592</td><td>0.01111</td></tr>\n",
       "\t<tr><td>chrX</td><td>46911791</td><td>46913428</td><td>chrX</td><td>124274330</td><td>124275734</td><td>chrX:46911791-46913428|chrX:124274330-124275734</td><td>0.57041</td><td>0</td><td>0.57041</td><td>0.57041</td><td>0.57041</td><td>0.57041</td><td>0.57041</td><td>0.00370</td></tr>\n",
       "\t<tr><td>chrX</td><td>46911791</td><td>46913428</td><td>chrX</td><td>129724950</td><td>129725191</td><td>chrX:46911791-46913428|chrX:129724950-129725191</td><td>0.21642</td><td>0</td><td>0.21642</td><td>0.21642</td><td>0.21642</td><td>0.21642</td><td>0.21642</td><td>0.01852</td></tr>\n",
       "</tbody>\n",
       "</table>\n"
      ],
      "text/latex": [
       "A tibble: 6 × 15\n",
       "\\begin{tabular}{lllllllllllllll}\n",
       " Chrom1 & Start1 & End1 & Chrom2 & Start2 & End2 & Name & Mean & SD & Q1 & Q2 & Q3 & Min & Max & Density\\\\\n",
       " <chr> & <dbl> & <dbl> & <chr> & <dbl> & <dbl> & <chr> & <dbl> & <dbl> & <dbl> & <dbl> & <dbl> & <dbl> & <dbl> & <dbl>\\\\\n",
       "\\hline\n",
       "\t chrX & 46911791 & 46913428 & chrX & 120560541 & 120561951 & chrX:46911791-46913428\\textbar{}chrX:120560541-120561951 & 0.22877 & 0 & 0.22877 & 0.22877 & 0.22877 & 0.22877 & 0.22877 & 0.00370\\\\\n",
       "\t chrX & 46911791 & 46913428 & chrX & 120603602 & 120604778 & chrX:46911791-46913428\\textbar{}chrX:120603602-120604778 & 0.53849 & 0 & 0.53849 & 0.53849 & 0.53849 & 0.53849 & 0.53849 & 0.00463\\\\\n",
       "\t chrX & 46911791 & 46913428 & chrX & 123454207 & 123456188 & chrX:46911791-46913428\\textbar{}chrX:123454207-123456188 & 0.37396 & 0 & 0.37396 & 0.37396 & 0.37396 & 0.37396 & 0.37396 & 0.00278\\\\\n",
       "\t chrX & 46911791 & 46913428 & chrX & 124208729 & 124209143 & chrX:46911791-46913428\\textbar{}chrX:124208729-124209143 & 0.16592 & 0 & 0.16592 & 0.16592 & 0.16592 & 0.16592 & 0.16592 & 0.01111\\\\\n",
       "\t chrX & 46911791 & 46913428 & chrX & 124274330 & 124275734 & chrX:46911791-46913428\\textbar{}chrX:124274330-124275734 & 0.57041 & 0 & 0.57041 & 0.57041 & 0.57041 & 0.57041 & 0.57041 & 0.00370\\\\\n",
       "\t chrX & 46911791 & 46913428 & chrX & 129724950 & 129725191 & chrX:46911791-46913428\\textbar{}chrX:129724950-129725191 & 0.21642 & 0 & 0.21642 & 0.21642 & 0.21642 & 0.21642 & 0.21642 & 0.01852\\\\\n",
       "\\end{tabular}\n"
      ],
      "text/markdown": [
       "\n",
       "A tibble: 6 × 15\n",
       "\n",
       "| Chrom1 &lt;chr&gt; | Start1 &lt;dbl&gt; | End1 &lt;dbl&gt; | Chrom2 &lt;chr&gt; | Start2 &lt;dbl&gt; | End2 &lt;dbl&gt; | Name &lt;chr&gt; | Mean &lt;dbl&gt; | SD &lt;dbl&gt; | Q1 &lt;dbl&gt; | Q2 &lt;dbl&gt; | Q3 &lt;dbl&gt; | Min &lt;dbl&gt; | Max &lt;dbl&gt; | Density &lt;dbl&gt; |\n",
       "|---|---|---|---|---|---|---|---|---|---|---|---|---|---|---|\n",
       "| chrX | 46911791 | 46913428 | chrX | 120560541 | 120561951 | chrX:46911791-46913428|chrX:120560541-120561951 | 0.22877 | 0 | 0.22877 | 0.22877 | 0.22877 | 0.22877 | 0.22877 | 0.00370 |\n",
       "| chrX | 46911791 | 46913428 | chrX | 120603602 | 120604778 | chrX:46911791-46913428|chrX:120603602-120604778 | 0.53849 | 0 | 0.53849 | 0.53849 | 0.53849 | 0.53849 | 0.53849 | 0.00463 |\n",
       "| chrX | 46911791 | 46913428 | chrX | 123454207 | 123456188 | chrX:46911791-46913428|chrX:123454207-123456188 | 0.37396 | 0 | 0.37396 | 0.37396 | 0.37396 | 0.37396 | 0.37396 | 0.00278 |\n",
       "| chrX | 46911791 | 46913428 | chrX | 124208729 | 124209143 | chrX:46911791-46913428|chrX:124208729-124209143 | 0.16592 | 0 | 0.16592 | 0.16592 | 0.16592 | 0.16592 | 0.16592 | 0.01111 |\n",
       "| chrX | 46911791 | 46913428 | chrX | 124274330 | 124275734 | chrX:46911791-46913428|chrX:124274330-124275734 | 0.57041 | 0 | 0.57041 | 0.57041 | 0.57041 | 0.57041 | 0.57041 | 0.00370 |\n",
       "| chrX | 46911791 | 46913428 | chrX | 129724950 | 129725191 | chrX:46911791-46913428|chrX:129724950-129725191 | 0.21642 | 0 | 0.21642 | 0.21642 | 0.21642 | 0.21642 | 0.21642 | 0.01852 |\n",
       "\n"
      ],
      "text/plain": [
       "  Chrom1 Start1   End1     Chrom2 Start2    End2     \n",
       "1 chrX   46911791 46913428 chrX   120560541 120561951\n",
       "2 chrX   46911791 46913428 chrX   120603602 120604778\n",
       "3 chrX   46911791 46913428 chrX   123454207 123456188\n",
       "4 chrX   46911791 46913428 chrX   124208729 124209143\n",
       "5 chrX   46911791 46913428 chrX   124274330 124275734\n",
       "6 chrX   46911791 46913428 chrX   129724950 129725191\n",
       "  Name                                            Mean    SD Q1      Q2     \n",
       "1 chrX:46911791-46913428|chrX:120560541-120561951 0.22877 0  0.22877 0.22877\n",
       "2 chrX:46911791-46913428|chrX:120603602-120604778 0.53849 0  0.53849 0.53849\n",
       "3 chrX:46911791-46913428|chrX:123454207-123456188 0.37396 0  0.37396 0.37396\n",
       "4 chrX:46911791-46913428|chrX:124208729-124209143 0.16592 0  0.16592 0.16592\n",
       "5 chrX:46911791-46913428|chrX:124274330-124275734 0.57041 0  0.57041 0.57041\n",
       "6 chrX:46911791-46913428|chrX:129724950-129725191 0.21642 0  0.21642 0.21642\n",
       "  Q3      Min     Max     Density\n",
       "1 0.22877 0.22877 0.22877 0.00370\n",
       "2 0.53849 0.53849 0.53849 0.00463\n",
       "3 0.37396 0.37396 0.37396 0.00278\n",
       "4 0.16592 0.16592 0.16592 0.01111\n",
       "5 0.57041 0.57041 0.57041 0.00370\n",
       "6 0.21642 0.21642 0.21642 0.01852"
      ]
     },
     "metadata": {},
     "output_type": "display_data"
    }
   ],
   "source": [
    "fdiry = file.path(\n",
    "    FD_RES, \"results\", \n",
    "    \"hic_intact_K562_deep\", \n",
    "    \"coverage_astarrseq_peak_macs_input\",\n",
    "    \"region_pair_chrX\"\n",
    ")\n",
    "fname = \"region_pair.chrX.SUBSET7.tsv.gz\"\n",
    "fpath = file.path(fdiry, fname)\n",
    "\n",
    "cnames = c(\n",
    "    \"Chrom1\", \"Start1\", \"End1\", \n",
    "    \"Chrom2\", \"Start2\", \"End2\",\n",
    "    \"Name\"\n",
    ")\n",
    "cnames = c(\n",
    "    cnames,\n",
    "    \"Mean\", \"SD\", \n",
    "    \"Q1\", \"Q2\", \"Q3\", \n",
    "    \"Min\", \"Max\", \n",
    "    \"Density\")\n",
    "\n",
    "dat = read_tsv(fpath, col_names = cnames)\n",
    "\n",
    "dat_region_pair_hic_score = dat\n",
    "print(dim(dat))\n",
    "head(dat)"
   ]
  },
  {
   "cell_type": "code",
   "execution_count": 10,
   "metadata": {},
   "outputs": [
    {
     "data": {
      "text/html": [
       "<table class=\"dataframe\">\n",
       "<caption>A tibble: 6 × 15</caption>\n",
       "<thead>\n",
       "\t<tr><th scope=col>Chrom1</th><th scope=col>Start1</th><th scope=col>End1</th><th scope=col>Chrom2</th><th scope=col>Start2</th><th scope=col>End2</th><th scope=col>Name</th><th scope=col>Mean</th><th scope=col>SD</th><th scope=col>Q1</th><th scope=col>Q2</th><th scope=col>Q3</th><th scope=col>Min</th><th scope=col>Max</th><th scope=col>Density</th></tr>\n",
       "\t<tr><th scope=col>&lt;chr&gt;</th><th scope=col>&lt;dbl&gt;</th><th scope=col>&lt;dbl&gt;</th><th scope=col>&lt;chr&gt;</th><th scope=col>&lt;dbl&gt;</th><th scope=col>&lt;dbl&gt;</th><th scope=col>&lt;chr&gt;</th><th scope=col>&lt;dbl&gt;</th><th scope=col>&lt;dbl&gt;</th><th scope=col>&lt;dbl&gt;</th><th scope=col>&lt;dbl&gt;</th><th scope=col>&lt;dbl&gt;</th><th scope=col>&lt;dbl&gt;</th><th scope=col>&lt;dbl&gt;</th><th scope=col>&lt;dbl&gt;</th></tr>\n",
       "</thead>\n",
       "<tbody>\n",
       "\t<tr><td>chrX</td><td>53305951</td><td>53306693</td><td>chrX</td><td> 71094904</td><td> 71096934</td><td>chrX:53305951-53306693|chrX:71094904-71096934  </td><td>0.24644</td><td>0.06664</td><td>0.21312</td><td>0.24644</td><td>0.27976</td><td>0.17980</td><td>0.31307</td><td>0.01190</td></tr>\n",
       "\t<tr><td>chrX</td><td>53305951</td><td>53306693</td><td>chrX</td><td> 71533788</td><td> 71534598</td><td>chrX:53305951-53306693|chrX:71533788-71534598  </td><td>0.42828</td><td>0.00000</td><td>0.42828</td><td>0.42828</td><td>0.42828</td><td>0.42828</td><td>0.42828</td><td>0.01389</td></tr>\n",
       "\t<tr><td>chrX</td><td>53305951</td><td>53306693</td><td>chrX</td><td> 71671087</td><td> 71671626</td><td>chrX:53305951-53306693|chrX:71671087-71671626  </td><td>0.67623</td><td>0.00000</td><td>0.67623</td><td>0.67623</td><td>0.67623</td><td>0.67623</td><td>0.67623</td><td>0.01786</td></tr>\n",
       "\t<tr><td>chrX</td><td>53305951</td><td>53306693</td><td>chrX</td><td> 72620296</td><td> 72621005</td><td>chrX:53305951-53306693|chrX:72620296-72621005  </td><td>0.50157</td><td>0.00000</td><td>0.50157</td><td>0.50157</td><td>0.50157</td><td>0.50157</td><td>0.50157</td><td>0.01389</td></tr>\n",
       "\t<tr><td>chrX</td><td>53305951</td><td>53306693</td><td>chrX</td><td> 77788012</td><td> 77788324</td><td>chrX:53305951-53306693|chrX:77788012-77788324  </td><td>0.28071</td><td>0.00000</td><td>0.28071</td><td>0.28071</td><td>0.28071</td><td>0.28071</td><td>0.28071</td><td>0.03125</td></tr>\n",
       "\t<tr><td>chrX</td><td>53313047</td><td>53313541</td><td>chrX</td><td>103369128</td><td>103369797</td><td>chrX:53313047-53313541|chrX:103369128-103369797</td><td>0.12074</td><td>0.00000</td><td>0.12074</td><td>0.12074</td><td>0.12074</td><td>0.12074</td><td>0.12074</td><td>0.02381</td></tr>\n",
       "</tbody>\n",
       "</table>\n"
      ],
      "text/latex": [
       "A tibble: 6 × 15\n",
       "\\begin{tabular}{lllllllllllllll}\n",
       " Chrom1 & Start1 & End1 & Chrom2 & Start2 & End2 & Name & Mean & SD & Q1 & Q2 & Q3 & Min & Max & Density\\\\\n",
       " <chr> & <dbl> & <dbl> & <chr> & <dbl> & <dbl> & <chr> & <dbl> & <dbl> & <dbl> & <dbl> & <dbl> & <dbl> & <dbl> & <dbl>\\\\\n",
       "\\hline\n",
       "\t chrX & 53305951 & 53306693 & chrX &  71094904 &  71096934 & chrX:53305951-53306693\\textbar{}chrX:71094904-71096934   & 0.24644 & 0.06664 & 0.21312 & 0.24644 & 0.27976 & 0.17980 & 0.31307 & 0.01190\\\\\n",
       "\t chrX & 53305951 & 53306693 & chrX &  71533788 &  71534598 & chrX:53305951-53306693\\textbar{}chrX:71533788-71534598   & 0.42828 & 0.00000 & 0.42828 & 0.42828 & 0.42828 & 0.42828 & 0.42828 & 0.01389\\\\\n",
       "\t chrX & 53305951 & 53306693 & chrX &  71671087 &  71671626 & chrX:53305951-53306693\\textbar{}chrX:71671087-71671626   & 0.67623 & 0.00000 & 0.67623 & 0.67623 & 0.67623 & 0.67623 & 0.67623 & 0.01786\\\\\n",
       "\t chrX & 53305951 & 53306693 & chrX &  72620296 &  72621005 & chrX:53305951-53306693\\textbar{}chrX:72620296-72621005   & 0.50157 & 0.00000 & 0.50157 & 0.50157 & 0.50157 & 0.50157 & 0.50157 & 0.01389\\\\\n",
       "\t chrX & 53305951 & 53306693 & chrX &  77788012 &  77788324 & chrX:53305951-53306693\\textbar{}chrX:77788012-77788324   & 0.28071 & 0.00000 & 0.28071 & 0.28071 & 0.28071 & 0.28071 & 0.28071 & 0.03125\\\\\n",
       "\t chrX & 53313047 & 53313541 & chrX & 103369128 & 103369797 & chrX:53313047-53313541\\textbar{}chrX:103369128-103369797 & 0.12074 & 0.00000 & 0.12074 & 0.12074 & 0.12074 & 0.12074 & 0.12074 & 0.02381\\\\\n",
       "\\end{tabular}\n"
      ],
      "text/markdown": [
       "\n",
       "A tibble: 6 × 15\n",
       "\n",
       "| Chrom1 &lt;chr&gt; | Start1 &lt;dbl&gt; | End1 &lt;dbl&gt; | Chrom2 &lt;chr&gt; | Start2 &lt;dbl&gt; | End2 &lt;dbl&gt; | Name &lt;chr&gt; | Mean &lt;dbl&gt; | SD &lt;dbl&gt; | Q1 &lt;dbl&gt; | Q2 &lt;dbl&gt; | Q3 &lt;dbl&gt; | Min &lt;dbl&gt; | Max &lt;dbl&gt; | Density &lt;dbl&gt; |\n",
       "|---|---|---|---|---|---|---|---|---|---|---|---|---|---|---|\n",
       "| chrX | 53305951 | 53306693 | chrX |  71094904 |  71096934 | chrX:53305951-53306693|chrX:71094904-71096934   | 0.24644 | 0.06664 | 0.21312 | 0.24644 | 0.27976 | 0.17980 | 0.31307 | 0.01190 |\n",
       "| chrX | 53305951 | 53306693 | chrX |  71533788 |  71534598 | chrX:53305951-53306693|chrX:71533788-71534598   | 0.42828 | 0.00000 | 0.42828 | 0.42828 | 0.42828 | 0.42828 | 0.42828 | 0.01389 |\n",
       "| chrX | 53305951 | 53306693 | chrX |  71671087 |  71671626 | chrX:53305951-53306693|chrX:71671087-71671626   | 0.67623 | 0.00000 | 0.67623 | 0.67623 | 0.67623 | 0.67623 | 0.67623 | 0.01786 |\n",
       "| chrX | 53305951 | 53306693 | chrX |  72620296 |  72621005 | chrX:53305951-53306693|chrX:72620296-72621005   | 0.50157 | 0.00000 | 0.50157 | 0.50157 | 0.50157 | 0.50157 | 0.50157 | 0.01389 |\n",
       "| chrX | 53305951 | 53306693 | chrX |  77788012 |  77788324 | chrX:53305951-53306693|chrX:77788012-77788324   | 0.28071 | 0.00000 | 0.28071 | 0.28071 | 0.28071 | 0.28071 | 0.28071 | 0.03125 |\n",
       "| chrX | 53313047 | 53313541 | chrX | 103369128 | 103369797 | chrX:53313047-53313541|chrX:103369128-103369797 | 0.12074 | 0.00000 | 0.12074 | 0.12074 | 0.12074 | 0.12074 | 0.12074 | 0.02381 |\n",
       "\n"
      ],
      "text/plain": [
       "  Chrom1 Start1   End1     Chrom2 Start2    End2     \n",
       "1 chrX   53305951 53306693 chrX    71094904  71096934\n",
       "2 chrX   53305951 53306693 chrX    71533788  71534598\n",
       "3 chrX   53305951 53306693 chrX    71671087  71671626\n",
       "4 chrX   53305951 53306693 chrX    72620296  72621005\n",
       "5 chrX   53305951 53306693 chrX    77788012  77788324\n",
       "6 chrX   53313047 53313541 chrX   103369128 103369797\n",
       "  Name                                            Mean    SD      Q1     \n",
       "1 chrX:53305951-53306693|chrX:71094904-71096934   0.24644 0.06664 0.21312\n",
       "2 chrX:53305951-53306693|chrX:71533788-71534598   0.42828 0.00000 0.42828\n",
       "3 chrX:53305951-53306693|chrX:71671087-71671626   0.67623 0.00000 0.67623\n",
       "4 chrX:53305951-53306693|chrX:72620296-72621005   0.50157 0.00000 0.50157\n",
       "5 chrX:53305951-53306693|chrX:77788012-77788324   0.28071 0.00000 0.28071\n",
       "6 chrX:53313047-53313541|chrX:103369128-103369797 0.12074 0.00000 0.12074\n",
       "  Q2      Q3      Min     Max     Density\n",
       "1 0.24644 0.27976 0.17980 0.31307 0.01190\n",
       "2 0.42828 0.42828 0.42828 0.42828 0.01389\n",
       "3 0.67623 0.67623 0.67623 0.67623 0.01786\n",
       "4 0.50157 0.50157 0.50157 0.50157 0.01389\n",
       "5 0.28071 0.28071 0.28071 0.28071 0.03125\n",
       "6 0.12074 0.12074 0.12074 0.12074 0.02381"
      ]
     },
     "metadata": {},
     "output_type": "display_data"
    }
   ],
   "source": [
    "dat = dat_region_pair_hic_score\n",
    "tail(dat)"
   ]
  },
  {
   "cell_type": "code",
   "execution_count": 18,
   "metadata": {},
   "outputs": [
    {
     "data": {
      "text/html": [
       "<table class=\"dataframe\">\n",
       "<caption>A tibble: 6 × 2</caption>\n",
       "<thead>\n",
       "\t<tr><th scope=col>Peak</th><th scope=col>Score</th></tr>\n",
       "\t<tr><th scope=col>&lt;chr&gt;</th><th scope=col>&lt;dbl&gt;</th></tr>\n",
       "</thead>\n",
       "<tbody>\n",
       "\t<tr><td>chrX:47116734-47117206</td><td>1.05692</td></tr>\n",
       "\t<tr><td>chrX:47193146-47194523</td><td>0.29430</td></tr>\n",
       "\t<tr><td>chrX:47217540-47219310</td><td>0.35274</td></tr>\n",
       "\t<tr><td>chrX:47285518-47285752</td><td>0.48735</td></tr>\n",
       "\t<tr><td>chrX:47312298-47312997</td><td>0.32938</td></tr>\n",
       "\t<tr><td>chrX:47540819-47541791</td><td>0.27073</td></tr>\n",
       "</tbody>\n",
       "</table>\n"
      ],
      "text/latex": [
       "A tibble: 6 × 2\n",
       "\\begin{tabular}{ll}\n",
       " Peak & Score\\\\\n",
       " <chr> & <dbl>\\\\\n",
       "\\hline\n",
       "\t chrX:47116734-47117206 & 1.05692\\\\\n",
       "\t chrX:47193146-47194523 & 0.29430\\\\\n",
       "\t chrX:47217540-47219310 & 0.35274\\\\\n",
       "\t chrX:47285518-47285752 & 0.48735\\\\\n",
       "\t chrX:47312298-47312997 & 0.32938\\\\\n",
       "\t chrX:47540819-47541791 & 0.27073\\\\\n",
       "\\end{tabular}\n"
      ],
      "text/markdown": [
       "\n",
       "A tibble: 6 × 2\n",
       "\n",
       "| Peak &lt;chr&gt; | Score &lt;dbl&gt; |\n",
       "|---|---|\n",
       "| chrX:47116734-47117206 | 1.05692 |\n",
       "| chrX:47193146-47194523 | 0.29430 |\n",
       "| chrX:47217540-47219310 | 0.35274 |\n",
       "| chrX:47285518-47285752 | 0.48735 |\n",
       "| chrX:47312298-47312997 | 0.32938 |\n",
       "| chrX:47540819-47541791 | 0.27073 |\n",
       "\n"
      ],
      "text/plain": [
       "  Peak                   Score  \n",
       "1 chrX:47116734-47117206 1.05692\n",
       "2 chrX:47193146-47194523 0.29430\n",
       "3 chrX:47217540-47219310 0.35274\n",
       "4 chrX:47285518-47285752 0.48735\n",
       "5 chrX:47312298-47312997 0.32938\n",
       "6 chrX:47540819-47541791 0.27073"
      ]
     },
     "metadata": {},
     "output_type": "display_data"
    }
   ],
   "source": [
    "dat = dat_region_pair_hic_score\n",
    "txt = \"chrX:48785773-48786737\"\n",
    "dat = dat %>% \n",
    "    dplyr::filter(str_detect(Name, txt)) %>%\n",
    "    dplyr::mutate(Target = Name) %>%\n",
    "    dplyr::mutate(Target = str_remove(Target,  txt)) %>%\n",
    "    dplyr::mutate(Target = str_remove(Target, \"\\\\|\"))\n",
    "\n",
    "dat = dat %>% \n",
    "    dplyr::mutate(Peak = Target, Score = Mean) %>%\n",
    "    dplyr::select(Peak, Score)\n",
    "\n",
    "head(dat)"
   ]
  },
  {
   "cell_type": "code",
   "execution_count": 20,
   "metadata": {},
   "outputs": [
    {
     "data": {
      "text/html": [
       "<style>\n",
       ".list-inline {list-style: none; margin:0; padding: 0}\n",
       ".list-inline>li {display: inline-block}\n",
       ".list-inline>li:not(:last-child)::after {content: \"\\00b7\"; padding: 0 .5ex}\n",
       "</style>\n",
       "<ol class=list-inline><li>'region_pair.chr11.tsv.gz'</li><li>'region_pair.chr12.tsv.gz'</li><li>'region_pair.chr16.tsv.gz'</li><li>'region_pair.chr19.tsv.gz'</li><li>'region_pair.chr2.tsv.gz'</li><li>'region_pair.chr20.tsv.gz'</li><li>'region_pair.chr3.tsv.gz'</li><li>'region_pair.chr4.tsv.gz'</li><li>'region_pair.chr5.tsv.gz'</li><li>'region_pair.chr6.tsv.gz'</li><li>'region_pair.chr8.tsv.gz'</li><li>'region_pair.chrX.tsv.gz'</li></ol>\n"
      ],
      "text/latex": [
       "\\begin{enumerate*}\n",
       "\\item 'region\\_pair.chr11.tsv.gz'\n",
       "\\item 'region\\_pair.chr12.tsv.gz'\n",
       "\\item 'region\\_pair.chr16.tsv.gz'\n",
       "\\item 'region\\_pair.chr19.tsv.gz'\n",
       "\\item 'region\\_pair.chr2.tsv.gz'\n",
       "\\item 'region\\_pair.chr20.tsv.gz'\n",
       "\\item 'region\\_pair.chr3.tsv.gz'\n",
       "\\item 'region\\_pair.chr4.tsv.gz'\n",
       "\\item 'region\\_pair.chr5.tsv.gz'\n",
       "\\item 'region\\_pair.chr6.tsv.gz'\n",
       "\\item 'region\\_pair.chr8.tsv.gz'\n",
       "\\item 'region\\_pair.chrX.tsv.gz'\n",
       "\\end{enumerate*}\n"
      ],
      "text/markdown": [
       "1. 'region_pair.chr11.tsv.gz'\n",
       "2. 'region_pair.chr12.tsv.gz'\n",
       "3. 'region_pair.chr16.tsv.gz'\n",
       "4. 'region_pair.chr19.tsv.gz'\n",
       "5. 'region_pair.chr2.tsv.gz'\n",
       "6. 'region_pair.chr20.tsv.gz'\n",
       "7. 'region_pair.chr3.tsv.gz'\n",
       "8. 'region_pair.chr4.tsv.gz'\n",
       "9. 'region_pair.chr5.tsv.gz'\n",
       "10. 'region_pair.chr6.tsv.gz'\n",
       "11. 'region_pair.chr8.tsv.gz'\n",
       "12. 'region_pair.chrX.tsv.gz'\n",
       "\n",
       "\n"
      ],
      "text/plain": [
       " [1] \"region_pair.chr11.tsv.gz\" \"region_pair.chr12.tsv.gz\"\n",
       " [3] \"region_pair.chr16.tsv.gz\" \"region_pair.chr19.tsv.gz\"\n",
       " [5] \"region_pair.chr2.tsv.gz\"  \"region_pair.chr20.tsv.gz\"\n",
       " [7] \"region_pair.chr3.tsv.gz\"  \"region_pair.chr4.tsv.gz\" \n",
       " [9] \"region_pair.chr5.tsv.gz\"  \"region_pair.chr6.tsv.gz\" \n",
       "[11] \"region_pair.chr8.tsv.gz\"  \"region_pair.chrX.tsv.gz\" "
      ]
     },
     "metadata": {},
     "output_type": "display_data"
    }
   ],
   "source": [
    "fdiry = file.path(\n",
    "    FD_RES, \"results\", \n",
    "    \"hic_intact_K562_deep\", \n",
    "    \"coverage_astarrseq_peak_macs_input\",\n",
    "    \"region_pair_selected\"\n",
    ")\n",
    "dir(fdiry)"
   ]
  },
  {
   "cell_type": "code",
   "execution_count": 22,
   "metadata": {},
   "outputs": [
    {
     "name": "stderr",
     "output_type": "stream",
     "text": [
      "\u001b[1mRows: \u001b[22m\u001b[34m15777\u001b[39m \u001b[1mColumns: \u001b[22m\u001b[34m15\u001b[39m\n",
      "\u001b[36m──\u001b[39m \u001b[1mColumn specification\u001b[22m \u001b[36m──────────────────────────────────────────────────────\u001b[39m\n",
      "\u001b[1mDelimiter:\u001b[22m \"\\t\"\n",
      "\u001b[31mchr\u001b[39m  (3): Chrom1, Chrom2, Name\n",
      "\u001b[32mdbl\u001b[39m (12): Start1, End1, Start2, End2, Mean, SD, Q1, Q2, Q3, Min, Max, Density\n",
      "\n",
      "\u001b[36mℹ\u001b[39m Use `spec()` to retrieve the full column specification for this data.\n",
      "\u001b[36mℹ\u001b[39m Specify the column types or set `show_col_types = FALSE` to quiet this message.\n"
     ]
    },
    {
     "name": "stdout",
     "output_type": "stream",
     "text": [
      "[1] 15777    15\n"
     ]
    },
    {
     "data": {
      "text/html": [
       "<table class=\"dataframe\">\n",
       "<caption>A tibble: 6 × 15</caption>\n",
       "<thead>\n",
       "\t<tr><th scope=col>Chrom1</th><th scope=col>Start1</th><th scope=col>End1</th><th scope=col>Chrom2</th><th scope=col>Start2</th><th scope=col>End2</th><th scope=col>Name</th><th scope=col>Mean</th><th scope=col>SD</th><th scope=col>Q1</th><th scope=col>Q2</th><th scope=col>Q3</th><th scope=col>Min</th><th scope=col>Max</th><th scope=col>Density</th></tr>\n",
       "\t<tr><th scope=col>&lt;chr&gt;</th><th scope=col>&lt;dbl&gt;</th><th scope=col>&lt;dbl&gt;</th><th scope=col>&lt;chr&gt;</th><th scope=col>&lt;dbl&gt;</th><th scope=col>&lt;dbl&gt;</th><th scope=col>&lt;chr&gt;</th><th scope=col>&lt;dbl&gt;</th><th scope=col>&lt;dbl&gt;</th><th scope=col>&lt;dbl&gt;</th><th scope=col>&lt;dbl&gt;</th><th scope=col>&lt;dbl&gt;</th><th scope=col>&lt;dbl&gt;</th><th scope=col>&lt;dbl&gt;</th><th scope=col>&lt;dbl&gt;</th></tr>\n",
       "</thead>\n",
       "<tbody>\n",
       "\t<tr><td>chrX</td><td>47047714</td><td>47048641</td><td>chrX</td><td>47047714</td><td>47048641</td><td>chrX:47047714-47048641|chrX:47047714-47048641</td><td>4.85728</td><td>3.15390</td><td>2.27842</td><td>3.99866</td><td>6.54132</td><td>1.01030</td><td>14.46936</td><td>0.81000</td></tr>\n",
       "\t<tr><td>chrX</td><td>47047714</td><td>47048641</td><td>chrX</td><td>47059361</td><td>47059759</td><td>chrX:47047714-47048641|chrX:47059361-47059759</td><td>0.54399</td><td>0.17487</td><td>0.43840</td><td>0.46146</td><td>0.64560</td><td>0.28181</td><td> 0.94320</td><td>0.34000</td></tr>\n",
       "\t<tr><td>chrX</td><td>47047714</td><td>47048641</td><td>chrX</td><td>47076887</td><td>47077341</td><td>chrX:47047714-47048641|chrX:47076887-47077341</td><td>0.40016</td><td>0.07845</td><td>0.34609</td><td>0.44586</td><td>0.45086</td><td>0.26908</td><td> 0.47477</td><td>0.10000</td></tr>\n",
       "\t<tr><td>chrX</td><td>47047714</td><td>47048641</td><td>chrX</td><td>47089662</td><td>47090130</td><td>chrX:47047714-47048641|chrX:47089662-47090130</td><td>0.64824</td><td>0.24538</td><td>0.54383</td><td>0.61312</td><td>0.75176</td><td>0.28743</td><td> 1.14678</td><td>0.13333</td></tr>\n",
       "\t<tr><td>chrX</td><td>47047714</td><td>47048641</td><td>chrX</td><td>47091301</td><td>47091859</td><td>chrX:47047714-47048641|chrX:47091301-47091859</td><td>0.45866</td><td>0.16183</td><td>0.32848</td><td>0.47462</td><td>0.55088</td><td>0.24940</td><td> 0.75037</td><td>0.13333</td></tr>\n",
       "\t<tr><td>chrX</td><td>47047714</td><td>47048641</td><td>chrX</td><td>47093229</td><td>47093677</td><td>chrX:47047714-47048641|chrX:47093229-47093677</td><td>0.24120</td><td>0.06158</td><td>0.18966</td><td>0.23995</td><td>0.29814</td><td>0.15505</td><td> 0.31692</td><td>0.16000</td></tr>\n",
       "</tbody>\n",
       "</table>\n"
      ],
      "text/latex": [
       "A tibble: 6 × 15\n",
       "\\begin{tabular}{lllllllllllllll}\n",
       " Chrom1 & Start1 & End1 & Chrom2 & Start2 & End2 & Name & Mean & SD & Q1 & Q2 & Q3 & Min & Max & Density\\\\\n",
       " <chr> & <dbl> & <dbl> & <chr> & <dbl> & <dbl> & <chr> & <dbl> & <dbl> & <dbl> & <dbl> & <dbl> & <dbl> & <dbl> & <dbl>\\\\\n",
       "\\hline\n",
       "\t chrX & 47047714 & 47048641 & chrX & 47047714 & 47048641 & chrX:47047714-47048641\\textbar{}chrX:47047714-47048641 & 4.85728 & 3.15390 & 2.27842 & 3.99866 & 6.54132 & 1.01030 & 14.46936 & 0.81000\\\\\n",
       "\t chrX & 47047714 & 47048641 & chrX & 47059361 & 47059759 & chrX:47047714-47048641\\textbar{}chrX:47059361-47059759 & 0.54399 & 0.17487 & 0.43840 & 0.46146 & 0.64560 & 0.28181 &  0.94320 & 0.34000\\\\\n",
       "\t chrX & 47047714 & 47048641 & chrX & 47076887 & 47077341 & chrX:47047714-47048641\\textbar{}chrX:47076887-47077341 & 0.40016 & 0.07845 & 0.34609 & 0.44586 & 0.45086 & 0.26908 &  0.47477 & 0.10000\\\\\n",
       "\t chrX & 47047714 & 47048641 & chrX & 47089662 & 47090130 & chrX:47047714-47048641\\textbar{}chrX:47089662-47090130 & 0.64824 & 0.24538 & 0.54383 & 0.61312 & 0.75176 & 0.28743 &  1.14678 & 0.13333\\\\\n",
       "\t chrX & 47047714 & 47048641 & chrX & 47091301 & 47091859 & chrX:47047714-47048641\\textbar{}chrX:47091301-47091859 & 0.45866 & 0.16183 & 0.32848 & 0.47462 & 0.55088 & 0.24940 &  0.75037 & 0.13333\\\\\n",
       "\t chrX & 47047714 & 47048641 & chrX & 47093229 & 47093677 & chrX:47047714-47048641\\textbar{}chrX:47093229-47093677 & 0.24120 & 0.06158 & 0.18966 & 0.23995 & 0.29814 & 0.15505 &  0.31692 & 0.16000\\\\\n",
       "\\end{tabular}\n"
      ],
      "text/markdown": [
       "\n",
       "A tibble: 6 × 15\n",
       "\n",
       "| Chrom1 &lt;chr&gt; | Start1 &lt;dbl&gt; | End1 &lt;dbl&gt; | Chrom2 &lt;chr&gt; | Start2 &lt;dbl&gt; | End2 &lt;dbl&gt; | Name &lt;chr&gt; | Mean &lt;dbl&gt; | SD &lt;dbl&gt; | Q1 &lt;dbl&gt; | Q2 &lt;dbl&gt; | Q3 &lt;dbl&gt; | Min &lt;dbl&gt; | Max &lt;dbl&gt; | Density &lt;dbl&gt; |\n",
       "|---|---|---|---|---|---|---|---|---|---|---|---|---|---|---|\n",
       "| chrX | 47047714 | 47048641 | chrX | 47047714 | 47048641 | chrX:47047714-47048641|chrX:47047714-47048641 | 4.85728 | 3.15390 | 2.27842 | 3.99866 | 6.54132 | 1.01030 | 14.46936 | 0.81000 |\n",
       "| chrX | 47047714 | 47048641 | chrX | 47059361 | 47059759 | chrX:47047714-47048641|chrX:47059361-47059759 | 0.54399 | 0.17487 | 0.43840 | 0.46146 | 0.64560 | 0.28181 |  0.94320 | 0.34000 |\n",
       "| chrX | 47047714 | 47048641 | chrX | 47076887 | 47077341 | chrX:47047714-47048641|chrX:47076887-47077341 | 0.40016 | 0.07845 | 0.34609 | 0.44586 | 0.45086 | 0.26908 |  0.47477 | 0.10000 |\n",
       "| chrX | 47047714 | 47048641 | chrX | 47089662 | 47090130 | chrX:47047714-47048641|chrX:47089662-47090130 | 0.64824 | 0.24538 | 0.54383 | 0.61312 | 0.75176 | 0.28743 |  1.14678 | 0.13333 |\n",
       "| chrX | 47047714 | 47048641 | chrX | 47091301 | 47091859 | chrX:47047714-47048641|chrX:47091301-47091859 | 0.45866 | 0.16183 | 0.32848 | 0.47462 | 0.55088 | 0.24940 |  0.75037 | 0.13333 |\n",
       "| chrX | 47047714 | 47048641 | chrX | 47093229 | 47093677 | chrX:47047714-47048641|chrX:47093229-47093677 | 0.24120 | 0.06158 | 0.18966 | 0.23995 | 0.29814 | 0.15505 |  0.31692 | 0.16000 |\n",
       "\n"
      ],
      "text/plain": [
       "  Chrom1 Start1   End1     Chrom2 Start2   End2    \n",
       "1 chrX   47047714 47048641 chrX   47047714 47048641\n",
       "2 chrX   47047714 47048641 chrX   47059361 47059759\n",
       "3 chrX   47047714 47048641 chrX   47076887 47077341\n",
       "4 chrX   47047714 47048641 chrX   47089662 47090130\n",
       "5 chrX   47047714 47048641 chrX   47091301 47091859\n",
       "6 chrX   47047714 47048641 chrX   47093229 47093677\n",
       "  Name                                          Mean    SD      Q1      Q2     \n",
       "1 chrX:47047714-47048641|chrX:47047714-47048641 4.85728 3.15390 2.27842 3.99866\n",
       "2 chrX:47047714-47048641|chrX:47059361-47059759 0.54399 0.17487 0.43840 0.46146\n",
       "3 chrX:47047714-47048641|chrX:47076887-47077341 0.40016 0.07845 0.34609 0.44586\n",
       "4 chrX:47047714-47048641|chrX:47089662-47090130 0.64824 0.24538 0.54383 0.61312\n",
       "5 chrX:47047714-47048641|chrX:47091301-47091859 0.45866 0.16183 0.32848 0.47462\n",
       "6 chrX:47047714-47048641|chrX:47093229-47093677 0.24120 0.06158 0.18966 0.23995\n",
       "  Q3      Min     Max      Density\n",
       "1 6.54132 1.01030 14.46936 0.81000\n",
       "2 0.64560 0.28181  0.94320 0.34000\n",
       "3 0.45086 0.26908  0.47477 0.10000\n",
       "4 0.75176 0.28743  1.14678 0.13333\n",
       "5 0.55088 0.24940  0.75037 0.13333\n",
       "6 0.29814 0.15505  0.31692 0.16000"
      ]
     },
     "metadata": {},
     "output_type": "display_data"
    }
   ],
   "source": [
    "fdiry = file.path(\n",
    "    FD_RES, \"results\", \n",
    "    \"hic_intact_K562_deep\", \n",
    "    \"coverage_astarrseq_peak_macs_input\",\n",
    "    \"region_pair_selected\"\n",
    ")\n",
    "fname = \"region_pair.chrX.tsv.gz\"\n",
    "fpath = file.path(fdiry, fname)\n",
    "\n",
    "cnames = c(\n",
    "    \"Chrom1\", \"Start1\", \"End1\", \n",
    "    \"Chrom2\", \"Start2\", \"End2\",\n",
    "    \"Name\"\n",
    ")\n",
    "cnames = c(\n",
    "    cnames,\n",
    "    \"Mean\", \"SD\", \n",
    "    \"Q1\", \"Q2\", \"Q3\", \n",
    "    \"Min\", \"Max\", \n",
    "    \"Density\")\n",
    "\n",
    "dat = read_tsv(fpath, col_names = cnames)\n",
    "\n",
    "dat_region_pair_hic_score = dat\n",
    "print(dim(dat))\n",
    "head(dat)"
   ]
  },
  {
   "cell_type": "code",
   "execution_count": 24,
   "metadata": {},
   "outputs": [
    {
     "name": "stdout",
     "output_type": "stream",
     "text": [
      "[1] 159   2\n"
     ]
    },
    {
     "data": {
      "text/html": [
       "<table class=\"dataframe\">\n",
       "<caption>A tibble: 6 × 2</caption>\n",
       "<thead>\n",
       "\t<tr><th scope=col>Peak</th><th scope=col>Score</th></tr>\n",
       "\t<tr><th scope=col>&lt;chr&gt;</th><th scope=col>&lt;dbl&gt;</th></tr>\n",
       "</thead>\n",
       "<tbody>\n",
       "\t<tr><td>chrX:47116734-47117206</td><td>1.05692</td></tr>\n",
       "\t<tr><td>chrX:47193146-47194523</td><td>0.29430</td></tr>\n",
       "\t<tr><td>chrX:47217540-47219310</td><td>0.35274</td></tr>\n",
       "\t<tr><td>chrX:47285518-47285752</td><td>0.48735</td></tr>\n",
       "\t<tr><td>chrX:47312298-47312997</td><td>0.32938</td></tr>\n",
       "\t<tr><td>chrX:47540819-47541791</td><td>0.27073</td></tr>\n",
       "</tbody>\n",
       "</table>\n"
      ],
      "text/latex": [
       "A tibble: 6 × 2\n",
       "\\begin{tabular}{ll}\n",
       " Peak & Score\\\\\n",
       " <chr> & <dbl>\\\\\n",
       "\\hline\n",
       "\t chrX:47116734-47117206 & 1.05692\\\\\n",
       "\t chrX:47193146-47194523 & 0.29430\\\\\n",
       "\t chrX:47217540-47219310 & 0.35274\\\\\n",
       "\t chrX:47285518-47285752 & 0.48735\\\\\n",
       "\t chrX:47312298-47312997 & 0.32938\\\\\n",
       "\t chrX:47540819-47541791 & 0.27073\\\\\n",
       "\\end{tabular}\n"
      ],
      "text/markdown": [
       "\n",
       "A tibble: 6 × 2\n",
       "\n",
       "| Peak &lt;chr&gt; | Score &lt;dbl&gt; |\n",
       "|---|---|\n",
       "| chrX:47116734-47117206 | 1.05692 |\n",
       "| chrX:47193146-47194523 | 0.29430 |\n",
       "| chrX:47217540-47219310 | 0.35274 |\n",
       "| chrX:47285518-47285752 | 0.48735 |\n",
       "| chrX:47312298-47312997 | 0.32938 |\n",
       "| chrX:47540819-47541791 | 0.27073 |\n",
       "\n"
      ],
      "text/plain": [
       "  Peak                   Score  \n",
       "1 chrX:47116734-47117206 1.05692\n",
       "2 chrX:47193146-47194523 0.29430\n",
       "3 chrX:47217540-47219310 0.35274\n",
       "4 chrX:47285518-47285752 0.48735\n",
       "5 chrX:47312298-47312997 0.32938\n",
       "6 chrX:47540819-47541791 0.27073"
      ]
     },
     "metadata": {},
     "output_type": "display_data"
    }
   ],
   "source": [
    "dat = dat_region_pair_hic_score\n",
    "txt = \"chrX:48785773-48786737\"\n",
    "dat = dat %>% \n",
    "    dplyr::filter(str_detect(Name, txt)) %>%\n",
    "    dplyr::mutate(Target = Name) %>%\n",
    "    dplyr::mutate(Target = str_remove(Target,  txt)) %>%\n",
    "    dplyr::mutate(Target = str_remove(Target, \"\\\\|\"))\n",
    "\n",
    "dat = dat %>% \n",
    "    dplyr::mutate(Peak = Target, Score = Mean) %>%\n",
    "    dplyr::select(Peak, Score)\n",
    "\n",
    "print(dim(dat))\n",
    "head(dat)"
   ]
  },
  {
   "cell_type": "code",
   "execution_count": null,
   "metadata": {},
   "outputs": [],
   "source": []
  }
 ],
 "metadata": {
  "kernelspec": {
   "display_name": "R",
   "language": "R",
   "name": "ir"
  },
  "language_info": {
   "codemirror_mode": "r",
   "file_extension": ".r",
   "mimetype": "text/x-r-source",
   "name": "R",
   "pygments_lexer": "r",
   "version": "4.3.0"
  }
 },
 "nbformat": 4,
 "nbformat_minor": 4
}
