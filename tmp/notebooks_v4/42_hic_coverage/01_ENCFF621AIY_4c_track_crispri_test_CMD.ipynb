{
 "cells": [
  {
   "cell_type": "markdown",
   "id": "b1163cff-9677-4acb-bd83-bda807a00b9d",
   "metadata": {},
   "source": [
    "**Set environment**"
   ]
  },
  {
   "cell_type": "code",
   "execution_count": 3,
   "id": "9fb50819-e7af-4d97-a2d7-42b236730d41",
   "metadata": {},
   "outputs": [
    {
     "name": "stdout",
     "output_type": "stream",
     "text": [
      "You are on Duke Server: HARDAC\n",
      "BASE DIRECTORY (FD_BASE): /data/reddylab/Kuei\n",
      "WORK DIRECTORY (FD_WORK): /data/reddylab/Kuei/out\n",
      "CODE DIRECTORY (FD_CODE): /data/reddylab/Kuei/code\n",
      "SING DIRECTORY (FD_SING): /data/reddylab/Kuei/singularity\n",
      "PATH OF PROJECT (FD_PRJ): /data/reddylab/Kuei/code/Proj_CombEffect_ENCODE_FCC\n",
      "PATH OF RESULTS (FD_RES): /data/reddylab/Kuei/out/proj_combeffect_encode_fcc\n",
      "PATH OF LOG     (FD_LOG): /data/reddylab/Kuei/out/proj_combeffect_encode_fcc/log\n",
      "\n"
     ]
    }
   ],
   "source": [
    "source ../config/config_duke.sh\n",
    "show_env"
   ]
  },
  {
   "cell_type": "markdown",
   "id": "4a5ebeee-5633-422c-a5b3-2a24ed471302",
   "metadata": {},
   "source": [
    "**check data**"
   ]
  },
  {
   "cell_type": "code",
   "execution_count": 4,
   "id": "415d09bd-6768-4d8f-9073-ca6521356d4e",
   "metadata": {},
   "outputs": [
    {
     "name": "stdout",
     "output_type": "stream",
     "text": [
      "ENCFF621AIY.hic\n",
      "\u001b[0m\u001b[38;5;9mK562.ENCSR479XDG.ENCFF126GED.contact_domains.bedpe.gz\u001b[0m\n",
      "\u001b[38;5;9mK562.ENCSR479XDG.ENCFF256ZMD.loops.bedpe.gz\u001b[0m\n"
     ]
    }
   ],
   "source": [
    "FDIRY=${FD_RES}/source/hic_intact_ENCSR479XDG\n",
    "ls ${FDIRY}"
   ]
  },
  {
   "cell_type": "code",
   "execution_count": 5,
   "id": "1c4d949b-c04b-474e-9e0f-669657e96898",
   "metadata": {},
   "outputs": [
    {
     "name": "stdout",
     "output_type": "stream",
     "text": [
      "\u001b[0m\u001b[38;5;34m/data/reddylab/Kuei/code/Proj_CombEffect_ENCODE_FCC/notebooks/sing_proj_encode_fcc.sh\u001b[0m\u001b[K\n"
     ]
    }
   ],
   "source": [
    "ls ${FD_PRJ}/notebooks/sing_proj_encode_fcc.sh"
   ]
  },
  {
   "cell_type": "code",
   "execution_count": 6,
   "id": "ae15b685-2472-4e81-99c5-58c469c54835",
   "metadata": {},
   "outputs": [
    {
     "name": "stdout",
     "output_type": "stream",
     "text": [
      "#!/bin/bash\n",
      "\n",
      "### get file path\n",
      "### Stackoverflow: how-can-i-get-the-source-directory-of-a-bash-script-from-within-the-script-itself\n",
      "SCRIPT_DIR=\"$( cd \"$( dirname \"${BASH_SOURCE[0]}\" )\" &> /dev/null && pwd )\"\n",
      "source ${SCRIPT_DIR}/config/config_duke.sh\n",
      "\n",
      "### execute\n",
      "singularity exec \\\n",
      "    -H ${PWD}:/home \\\n",
      "    -B ${FD_WORK}:/mount/work \\\n",
      "    -B ${FD_CODE}:/mount/code \\\n",
      "    -B ${FD_RLAB}:/mount/reddylab \\\n",
      "    -B /data:/data \\\n",
      "    ${FD_SING}/singularity_proj_encode_fcc.sif \\\n",
      "    \"$@\"\n"
     ]
    }
   ],
   "source": [
    "cat ${FD_PRJ}/notebooks/sing_proj_encode_fcc.sh"
   ]
  },
  {
   "cell_type": "code",
   "execution_count": 17,
   "id": "bf115872-f87c-4126-84af-fb35b7753134",
   "metadata": {},
   "outputs": [
    {
     "name": "stdout",
     "output_type": "stream",
     "text": [
      "chrom : chrX\n",
      "x1 : 48000000\n",
      "y1 : 50000000\n",
      "x2 : 48800000\n",
      "y2 : 48804000\n",
      "fpath_out : /data/reddylab/Kuei/out/proj_combeffect_encode_fcc/results/hic_intact_ENCSR479XDG/coverage_4c_track_crispri_hcrff/test.bg\n",
      "fpath_hic : /data/reddylab/Kuei/out/proj_combeffect_encode_fcc/source/hic_intact_ENCSR479XDG/ENCFF621AIY.hic\n",
      "normalization : NONE\n",
      "resolution : 2000\n",
      "verbose : True\n",
      "\n"
     ]
    }
   ],
   "source": [
    "${FD_PRJ}/notebooks/sing_proj_encode_fcc.sh \\\n",
    "    python gen_virtual4c_track.py \\\n",
    "       --fpath_hic ${FD_RES}/source/hic_intact_ENCSR479XDG/ENCFF621AIY.hic \\\n",
    "       --fpath_out ${FD_RES}/results/hic_intact_ENCSR479XDG/coverage_4c_track_crispri_hcrff/test.bg \\\n",
    "       --normalization NONE \\\n",
    "       --resolution 2_000 \\\n",
    "       --chrom chrX \\\n",
    "       --x1 48_000_000 \\\n",
    "       --y1 50_000_000 \\\n",
    "       --x2 48_800_000 \\\n",
    "       --y2 48_804_000 \\\n",
    "       --verbose"
   ]
  },
  {
   "cell_type": "code",
   "execution_count": 36,
   "id": "52c4b422-f87a-41cb-9fab-080fee7fd2d7",
   "metadata": {},
   "outputs": [
    {
     "name": "stdout",
     "output_type": "stream",
     "text": [
      "Namespace(chrom='chrX', fpath_hic='/data/reddylab/Kuei/out/proj_combeffect_encode_fcc/source/hic_intact_ENCSR479XDG/ENCFF621AIY.hic', fpath_out=None, normalization='NONE', resolution=100, verbose=True, x1=48000000, x2=48800000, y1=50000000, y2=48804000)\n",
      "chrX\n",
      "(20001, 4)\n"
     ]
    }
   ],
   "source": [
    "${FD_PRJ}/notebooks/sing_proj_encode_fcc.sh \\\n",
    "    python ./scripts/gen_4c_track.py \\\n",
    "       --fpath_hic ${FD_RES}/source/hic_intact_ENCSR479XDG/ENCFF621AIY.hic \\\n",
    "       --normalization NONE \\\n",
    "       --resolution 100 \\\n",
    "       --chrom chrX \\\n",
    "       --x1 48_000_000 \\\n",
    "       --y1 50_000_000 \\\n",
    "       --x2 48_800_000 \\\n",
    "       --y2 48_804_000 \\\n",
    "       --verbose"
   ]
  },
  {
   "cell_type": "code",
   "execution_count": 34,
   "id": "f8aeeed6-351e-4fae-b999-02c0a32bc529",
   "metadata": {},
   "outputs": [
    {
     "name": "stdout",
     "output_type": "stream",
     "text": [
      "Namespace(chrom='chrX', fpath_hic='/data/reddylab/Kuei/out/proj_combeffect_encode_fcc/source/hic_intact_ENCSR479XDG/ENCFF621AIY.hic', fpath_out=None, normalization='SCALE', resolution=2000, verbose=True, x1=48000000, x2=48800000, y1=50000000, y2=48804000)\n",
      "chrX\n",
      "(1001, 4)\n"
     ]
    }
   ],
   "source": [
    "${FD_PRJ}/notebooks/sing_proj_encode_fcc.sh \\\n",
    "    python ./scripts/gen_4c_track.py \\\n",
    "       --fpath_hic ${FD_RES}/source/hic_intact_ENCSR479XDG/ENCFF621AIY.hic \\\n",
    "       --normalization SCALE \\\n",
    "       --resolution 2_000 \\\n",
    "       --chrom chrX \\\n",
    "       --x1 48_000_000 \\\n",
    "       --y1 50_000_000 \\\n",
    "       --x2 48_800_000 \\\n",
    "       --y2 48_804_000 \\\n",
    "       --verbose"
   ]
  },
  {
   "cell_type": "code",
   "execution_count": 9,
   "id": "e873abfb-f1da-46eb-9087-f7268abecb60",
   "metadata": {},
   "outputs": [
    {
     "name": "stdout",
     "output_type": "stream",
     "text": [
      "test.bg  virtual4c_track_crispri_hcrff.tsv\n"
     ]
    }
   ],
   "source": [
    "ls ${FD_RES}/results/hic_intact_ENCSR479XDG/coverage_4c_track_crispri_hcrff"
   ]
  },
  {
   "cell_type": "code",
   "execution_count": 12,
   "id": "cb831b83-120b-4495-bbec-0a67f26fb06c",
   "metadata": {},
   "outputs": [
    {
     "name": "stdout",
     "output_type": "stream",
     "text": [
      "chrX\t48000000\t48002000\t0.0\n",
      "chrX\t48002000\t48004000\t0.0\n",
      "chrX\t48004000\t48006000\t0.0\n",
      "chrX\t48006000\t48008000\t0.0\n",
      "chrX\t48008000\t48010000\t0.0\n",
      "chrX\t48010000\t48012000\t0.0\n"
     ]
    }
   ],
   "source": [
    "FDIRY=${FD_RES}/results/hic_intact_ENCSR479XDG/coverage_4c_track_crispri_hcrff\n",
    "FNAME=test.bg\n",
    "FPATH=${FDIRY}/${FNAME}\n",
    "head -n 6 ${FPATH} "
   ]
  },
  {
   "cell_type": "code",
   "execution_count": null,
   "id": "aac1a0a3-03f1-4081-ae27-c845e85c3b04",
   "metadata": {},
   "outputs": [],
   "source": []
  }
 ],
 "metadata": {
  "kernelspec": {
   "display_name": "Bash",
   "language": "bash",
   "name": "bash"
  },
  "language_info": {
   "codemirror_mode": "shell",
   "file_extension": ".sh",
   "mimetype": "text/x-sh",
   "name": "bash"
  }
 },
 "nbformat": 4,
 "nbformat_minor": 5
}
