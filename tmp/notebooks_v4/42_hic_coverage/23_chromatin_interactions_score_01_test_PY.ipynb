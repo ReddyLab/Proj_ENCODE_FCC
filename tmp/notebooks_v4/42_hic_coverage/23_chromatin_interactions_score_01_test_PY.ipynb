{
 "cells": [
  {
   "cell_type": "markdown",
   "metadata": {},
   "source": [
    "**Set environment**"
   ]
  },
  {
   "cell_type": "code",
   "execution_count": 1,
   "metadata": {},
   "outputs": [
    {
     "name": "stdout",
     "output_type": "stream",
     "text": [
      "You are in Singularity: singularity_proj_encode_fcc\n",
      "BASE DIRECTORY (FD_BASE): /data/reddylab/Kuei\n",
      "WORK DIRECTORY (FD_WORK): /data/reddylab/Kuei/out\n",
      "CODE DIRECTORY (FD_CODE): /data/reddylab/Kuei/code\n",
      "PATH OF PROJECT (FD_PRJ): /data/reddylab/Kuei/code/Proj_CombEffect_ENCODE_FCC\n",
      "PATH OF RESULTS (FD_RES): /data/reddylab/Kuei/out/proj_combeffect_encode_fcc\n",
      "PATH OF LOG     (FD_LOG): /data/reddylab/Kuei/out/proj_combeffect_encode_fcc/log\n",
      "\n"
     ]
    }
   ],
   "source": [
    "import numpy as np\n",
    "import itertools as it\n",
    "import os, sys\n",
    "import gzip\n",
    "import hicstraw\n",
    "import re\n",
    "\n",
    "sys.path.append('..')\n",
    "from config.config_sing import *\n",
    "show_env()"
   ]
  },
  {
   "cell_type": "code",
   "execution_count": 2,
   "metadata": {},
   "outputs": [],
   "source": [
    "import functools\n",
    "print = functools.partial(print, flush=True)"
   ]
  },
  {
   "cell_type": "markdown",
   "metadata": {},
   "source": [
    "**Check data**"
   ]
  },
  {
   "cell_type": "code",
   "execution_count": 3,
   "metadata": {},
   "outputs": [
    {
     "data": {
      "text/plain": [
       "['region_pair_chr12',\n",
       " 'region_pair_chr3',\n",
       " 'region_pair.chr3.tsv.gz',\n",
       " 'region_pair.chr2.tsv.gz',\n",
       " 'region_pair.chr7.tsv.gz',\n",
       " 'region_pair.chr22.tsv.gz',\n",
       " 'region_pair.SUBSET.bedpe.gz',\n",
       " 'region_pair_chr11',\n",
       " 'region_pair.chrX.tsv.gz',\n",
       " 'region_pair_chr5',\n",
       " '.ipynb_checkpoints',\n",
       " 'region_pair.chr12.tsv.gz',\n",
       " 'region_pair.chr18.tsv.gz',\n",
       " 'region_pair_chr2',\n",
       " 'region_pair.chr21.tsv.gz',\n",
       " 'region_pair.chr4.tsv.gz',\n",
       " 'region_pair.chr8.tsv.gz',\n",
       " 'region_pair.chr9.tsv.gz',\n",
       " 'region_pair.chr20.tsv.gz',\n",
       " 'region_pair.chr6.tsv.gz',\n",
       " 'region_pair.chr5.tsv.gz',\n",
       " 'region_pair_chr4',\n",
       " 'region_pair.chr13.tsv.gz',\n",
       " 'region_pair_chr20',\n",
       " 'region_pair_chr16',\n",
       " 'region_pair.chr19.tsv.gz',\n",
       " 'region_pair.chr1.tsv.gz',\n",
       " 'region_pair_chrX',\n",
       " 'region_pair.chr14.tsv.gz',\n",
       " 'region_pair_chr19',\n",
       " 'region_pair.chr16.tsv.gz',\n",
       " 'region_pair.chr11.tsv.gz',\n",
       " 'region_pair.chr10.tsv.gz',\n",
       " 'region_pair_selected',\n",
       " 'region_pair.chr15.tsv.gz',\n",
       " 'region_pair_chr8',\n",
       " 'region_pair_chr6',\n",
       " 'region_pair.chr17.tsv.gz']"
      ]
     },
     "execution_count": 3,
     "metadata": {},
     "output_type": "execute_result"
    }
   ],
   "source": [
    "fdiry = os.path.join(FD_RES, \"results\", \"region\", \"KS91_K562_ASTARRseq_peak_macs_input\", \"region_pair\")\n",
    "os.listdir(fdiry)"
   ]
  },
  {
   "cell_type": "markdown",
   "metadata": {},
   "source": [
    "## Import data"
   ]
  },
  {
   "cell_type": "markdown",
   "metadata": {},
   "source": [
    "**Read HiC data**"
   ]
  },
  {
   "cell_type": "code",
   "execution_count": 4,
   "metadata": {},
   "outputs": [
    {
     "name": "stdout",
     "output_type": "stream",
     "text": [
      "<hicstraw.HiCFile object at 0x7f75ec4d9df0>\n",
      "hg38\n",
      "[2500000, 1000000, 500000, 250000, 100000, 50000, 25000, 10000, 5000, 2000, 1000, 500, 200, 100, 50, 20, 10, 1]\n"
     ]
    }
   ],
   "source": [
    "fdiry = os.path.join(FD_RES, \"source\", \"hic_intact_K562_deep\")\n",
    "fname = \"inter.hic\"\n",
    "fpath = os.path.join(fdiry, fname)\n",
    "hic   = hicstraw.HiCFile(fpath)\n",
    "\n",
    "print(hic)\n",
    "print(hic.getGenomeID())\n",
    "print(hic.getResolutions())"
   ]
  },
  {
   "cell_type": "markdown",
   "metadata": {},
   "source": [
    "**Read region pairs**"
   ]
  },
  {
   "cell_type": "code",
   "execution_count": 5,
   "metadata": {},
   "outputs": [
    {
     "name": "stdout",
     "output_type": "stream",
     "text": [
      "chr11:1002205-1002620\tchr11:1002205-1002620\n",
      "chr11:1002205-1002620\tchr11:100285883-100286264\n",
      "chr11:1002205-1002620\tchr11:100451963-100452380\n",
      "chr11:1002205-1002620\tchr11:100547023-100547250\n",
      "chr11:1002205-1002620\tchr11:100563051-100563718\n"
     ]
    }
   ],
   "source": [
    "fdiry = os.path.join(\n",
    "    FD_RES, \n",
    "    \"results\", \n",
    "    \"region\", \n",
    "    \"KS91_K562_ASTARRseq_peak_macs_input\", \n",
    "    \"region_pair\")\n",
    "fname = 'region_pair.chr11.tsv.gz'\n",
    "fpath = os.path.join(fdiry, fname)\n",
    "\n",
    "with gzip.open(fpath,'rt') as finp:\n",
    "    lines = it.islice(finp, 5)\n",
    "    for line in lines:\n",
    "        line = line.strip()\n",
    "        print(line)"
   ]
  },
  {
   "cell_type": "code",
   "execution_count": 6,
   "metadata": {},
   "outputs": [
    {
     "data": {
      "text/plain": [
       "['chr11', '1002205', '1002620', 'chr11', '100563051', '100563718']"
      ]
     },
     "execution_count": 6,
     "metadata": {},
     "output_type": "execute_result"
    }
   ],
   "source": [
    "line = 'chr11:1002205-1002620\\tchr11:100563051-100563718'\n",
    "re.split(\":|-|\\t\", line)"
   ]
  },
  {
   "cell_type": "markdown",
   "metadata": {},
   "source": [
    "## Test run"
   ]
  },
  {
   "cell_type": "code",
   "execution_count": 7,
   "metadata": {},
   "outputs": [
    {
     "name": "stdout",
     "output_type": "stream",
     "text": [
      "chr11:1002205-1002620\tchr11:1002205-1002620\n",
      "Chrom 1:  chr11\n",
      "Chrom 2:  chr11\n",
      "Length 1: 415\n",
      "Length 2: 415\n",
      "\n",
      "chr11:1002205-1002620\tchr11:100285883-100286264\n",
      "Chrom 1:  chr11\n",
      "Chrom 2:  chr11\n",
      "Length 1: 415\n",
      "Length 2: 381\n",
      "\n",
      "chr11:1002205-1002620\tchr11:100451963-100452380\n",
      "Chrom 1:  chr11\n",
      "Chrom 2:  chr11\n",
      "Length 1: 415\n",
      "Length 2: 417\n",
      "\n",
      "chr11:1002205-1002620\tchr11:100547023-100547250\n",
      "Chrom 1:  chr11\n",
      "Chrom 2:  chr11\n",
      "Length 1: 415\n",
      "Length 2: 227\n",
      "\n",
      "chr11:1002205-1002620\tchr11:100563051-100563718\n",
      "Chrom 1:  chr11\n",
      "Chrom 2:  chr11\n",
      "Length 1: 415\n",
      "Length 2: 667\n",
      "\n"
     ]
    }
   ],
   "source": [
    "fdiry = os.path.join(\n",
    "    FD_RES, \n",
    "    \"results\", \n",
    "    \"region\", \n",
    "    \"KS91_K562_ASTARRseq_peak_macs_input\", \n",
    "    \"region_pair\")\n",
    "fname = 'region_pair.chr11.tsv.gz'\n",
    "fpath = os.path.join(fdiry, fname)\n",
    "\n",
    "with gzip.open(fpath,'rt') as finp:\n",
    "    lines = it.islice(finp, 5)\n",
    "    for line in lines:\n",
    "        line = line.strip()\n",
    "        txt_chrom1, val_start1, val_end1, txt_chrom2, val_start2, val_end2 = re.split(\":|-|\\t\", line)\n",
    "        print(line)\n",
    "        print(f\"Chrom 1:  {txt_chrom1}\")\n",
    "        print(f\"Chrom 2:  {txt_chrom2}\")\n",
    "        print(f\"Length 1: {int(val_end1) - int(val_start1)}\")\n",
    "        print(f\"Length 2: {int(val_end2) - int(val_start2)}\")\n",
    "        print()"
   ]
  },
  {
   "cell_type": "code",
   "execution_count": 8,
   "metadata": {},
   "outputs": [
    {
     "name": "stdout",
     "output_type": "stream",
     "text": [
      "chr11:1002205-1002620\tchr11:1002205-1002620\n",
      "Length 1: 415\n",
      "Length 2: 415\n",
      "\n",
      "Matrix shape: (5, 5)\n",
      "Matrix:\n",
      "[[ 0.          0.          0.          0.          0.        ]\n",
      " [ 0.         26.44706535 29.87776566 20.80835724  9.71024513]\n",
      " [ 0.         29.87776566 27.55387497 54.10480881 20.8949604 ]\n",
      " [ 0.         20.80835724 54.10480881 72.76383209 61.84721375]\n",
      " [ 0.          9.71024513 20.8949604  61.84721375 46.56577682]]\n",
      "\n",
      "Index of Nonzeros:\n",
      "(array([1, 1, 1, 1, 2, 2, 2, 2, 3, 3, 3, 3, 4, 4, 4, 4]), array([1, 2, 3, 4, 1, 2, 3, 4, 1, 2, 3, 4, 1, 2, 3, 4]))\n",
      "Is not empty:  True\n",
      "\n",
      "[35.489, 19.346, 20.873, 28.716, 54.105, 9.71, 72.764, 0.64]\n",
      "\n",
      "chr11:1002205-1002620\tchr11:100285883-100286264\n",
      "Length 1: 415\n",
      "Length 2: 381\n",
      "\n",
      "Matrix shape: (1, 1)\n",
      "Matrix:\n",
      "[[0.]]\n",
      "\n",
      "Index of Nonzeros:\n",
      "(array([], dtype=int64), array([], dtype=int64))\n",
      "Is not empty:  False\n",
      "\n",
      "chr11:1002205-1002620\tchr11:100451963-100452380\n",
      "Length 1: 415\n",
      "Length 2: 417\n",
      "\n",
      "Matrix shape: (1, 1)\n",
      "Matrix:\n",
      "[[0.]]\n",
      "\n",
      "Index of Nonzeros:\n",
      "(array([], dtype=int64), array([], dtype=int64))\n",
      "Is not empty:  False\n",
      "\n",
      "chr11:1002205-1002620\tchr11:100547023-100547250\n",
      "Length 1: 415\n",
      "Length 2: 227\n",
      "\n",
      "Matrix shape: (1, 1)\n",
      "Matrix:\n",
      "[[0.]]\n",
      "\n",
      "Index of Nonzeros:\n",
      "(array([], dtype=int64), array([], dtype=int64))\n",
      "Is not empty:  False\n",
      "\n",
      "chr11:1002205-1002620\tchr11:100563051-100563718\n",
      "Length 1: 415\n",
      "Length 2: 667\n",
      "\n",
      "Matrix shape: (1, 1)\n",
      "Matrix:\n",
      "[[0.]]\n",
      "\n",
      "Index of Nonzeros:\n",
      "(array([], dtype=int64), array([], dtype=int64))\n",
      "Is not empty:  False\n",
      "\n"
     ]
    }
   ],
   "source": [
    "fdiry = os.path.join(\n",
    "    FD_RES, \n",
    "    \"results\", \n",
    "    \"region\", \n",
    "    \"KS91_K562_ASTARRseq_peak_macs_input\", \n",
    "    \"region_pair\")\n",
    "fname = 'region_pair.chr11.tsv.gz'\n",
    "fpath = os.path.join(fdiry, fname)\n",
    "\n",
    "txt_normalization = \"RU\"\n",
    "val_resolution    = 100\n",
    "txt_chrom         = \"chr11\"\n",
    "\n",
    "matrix_object = hic.getMatrixZoomData(\n",
    "    txt_chrom, \n",
    "    txt_chrom, \n",
    "    \"observed\", \n",
    "    txt_normalization, \n",
    "    \"BP\", \n",
    "    val_resolution)\n",
    "\n",
    "with gzip.open(fpath,'rt') as finp:\n",
    "    lines = it.islice(finp, 5)\n",
    "    for line in lines:\n",
    "        line = line.strip()\n",
    "        txt_chrom1, val_start1, val_end1, txt_chrom2, val_start2, val_end2 = re.split(\":|-|\\t\", line)\n",
    "        print(line)\n",
    "        print(f\"Length 1: {int(val_end1) - int(val_start1)}\")\n",
    "        print(f\"Length 2: {int(val_end2) - int(val_start2)}\")\n",
    "        print()\n",
    "        \n",
    "        matrix_numpy = matrix_object.getRecordsAsMatrix(\n",
    "            int(val_start1),\n",
    "            int(val_end1),\n",
    "            int(val_start2),\n",
    "            int(val_end2)\n",
    "        )\n",
    "        idx = np.nonzero(matrix_numpy)\n",
    "        mat = matrix_numpy[idx]\n",
    "        is_not_empty = np.any(mat)\n",
    "        \n",
    "        print(\"Matrix shape:\", matrix_numpy.shape)\n",
    "        print(\"Matrix:\")\n",
    "        print(matrix_numpy)\n",
    "        print()\n",
    "        print(\"Index of Nonzeros:\")\n",
    "        print(idx)\n",
    "        print(\"Is not empty: \", is_not_empty)\n",
    "        print()\n",
    "        if(is_not_empty):\n",
    "            lst = [\n",
    "                np.mean(mat),\n",
    "                np.std(mat),\n",
    "                np.quantile(mat, 0.25),\n",
    "                np.quantile(mat, 0.5),\n",
    "                np.quantile(mat, 0.75),\n",
    "                np.min(mat),\n",
    "                np.max(mat),\n",
    "                mat.flatten().shape[0]/matrix_numpy.flatten().shape[0]\n",
    "            ]\n",
    "            fun = lambda x: np.round(x, decimals = 3)\n",
    "            lst = list(map(fun, lst))\n",
    "            print(lst)\n",
    "            print()"
   ]
  },
  {
   "cell_type": "code",
   "execution_count": null,
   "metadata": {},
   "outputs": [],
   "source": []
  },
  {
   "cell_type": "code",
   "execution_count": null,
   "metadata": {},
   "outputs": [],
   "source": []
  },
  {
   "cell_type": "code",
   "execution_count": null,
   "metadata": {},
   "outputs": [],
   "source": []
  },
  {
   "cell_type": "code",
   "execution_count": null,
   "metadata": {},
   "outputs": [],
   "source": []
  }
 ],
 "metadata": {
  "kernelspec": {
   "display_name": "Python 3 (ipykernel)",
   "language": "python",
   "name": "python3"
  },
  "language_info": {
   "codemirror_mode": {
    "name": "ipython",
    "version": 3
   },
   "file_extension": ".py",
   "mimetype": "text/x-python",
   "name": "python",
   "nbconvert_exporter": "python",
   "pygments_lexer": "ipython3",
   "version": "3.11.6"
  }
 },
 "nbformat": 4,
 "nbformat_minor": 4
}
