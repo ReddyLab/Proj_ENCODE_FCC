{
 "cells": [
  {
   "cell_type": "markdown",
   "metadata": {},
   "source": [
    "**Set environment**"
   ]
  },
  {
   "cell_type": "code",
   "execution_count": 1,
   "metadata": {},
   "outputs": [
    {
     "name": "stdout",
     "output_type": "stream",
     "text": [
      "You are in Singularity: singularity_proj_encode_fcc \n",
      "BASE DIRECTORY (FD_BASE): /data/reddylab/Kuei \n",
      "WORK DIRECTORY (FD_WORK): /data/reddylab/Kuei/out \n",
      "CODE DIRECTORY (FD_CODE): /data/reddylab/Kuei/code \n",
      "PATH OF PROJECT (FD_PRJ): /data/reddylab/Kuei/code/Proj_CombEffect_ENCODE_FCC \n",
      "PATH OF RESULTS (FD_RES): /data/reddylab/Kuei/out/proj_combeffect_encode_fcc \n",
      "PATH OF LOG     (FD_LOG): /data/reddylab/Kuei/out/proj_combeffect_encode_fcc/log \n"
     ]
    }
   ],
   "source": [
    "suppressWarnings(suppressMessages(source(\"../config/config_sing.R\")))\n",
    "show_env()"
   ]
  },
  {
   "cell_type": "markdown",
   "metadata": {},
   "source": [
    "## Import data"
   ]
  },
  {
   "cell_type": "code",
   "execution_count": 2,
   "metadata": {},
   "outputs": [
    {
     "name": "stdout",
     "output_type": "stream",
     "text": [
      "[1] 247520      4\n"
     ]
    },
    {
     "data": {
      "text/html": [
       "<table class=\"dataframe\">\n",
       "<caption>A tibble: 6 × 4</caption>\n",
       "<thead>\n",
       "\t<tr><th scope=col>Chrom</th><th scope=col>Start</th><th scope=col>End</th><th scope=col>Name</th></tr>\n",
       "\t<tr><th scope=col>&lt;chr&gt;</th><th scope=col>&lt;dbl&gt;</th><th scope=col>&lt;dbl&gt;</th><th scope=col>&lt;chr&gt;</th></tr>\n",
       "</thead>\n",
       "<tbody>\n",
       "\t<tr><td>chr1</td><td>10015</td><td>10442</td><td>chr1:10015-10442</td></tr>\n",
       "\t<tr><td>chr1</td><td>14253</td><td>14645</td><td>chr1:14253-14645</td></tr>\n",
       "\t<tr><td>chr1</td><td>16015</td><td>16477</td><td>chr1:16015-16477</td></tr>\n",
       "\t<tr><td>chr1</td><td>17237</td><td>17772</td><td>chr1:17237-17772</td></tr>\n",
       "\t<tr><td>chr1</td><td>28903</td><td>29613</td><td>chr1:28903-29613</td></tr>\n",
       "\t<tr><td>chr1</td><td>30803</td><td>31072</td><td>chr1:30803-31072</td></tr>\n",
       "</tbody>\n",
       "</table>\n"
      ],
      "text/latex": [
       "A tibble: 6 × 4\n",
       "\\begin{tabular}{llll}\n",
       " Chrom & Start & End & Name\\\\\n",
       " <chr> & <dbl> & <dbl> & <chr>\\\\\n",
       "\\hline\n",
       "\t chr1 & 10015 & 10442 & chr1:10015-10442\\\\\n",
       "\t chr1 & 14253 & 14645 & chr1:14253-14645\\\\\n",
       "\t chr1 & 16015 & 16477 & chr1:16015-16477\\\\\n",
       "\t chr1 & 17237 & 17772 & chr1:17237-17772\\\\\n",
       "\t chr1 & 28903 & 29613 & chr1:28903-29613\\\\\n",
       "\t chr1 & 30803 & 31072 & chr1:30803-31072\\\\\n",
       "\\end{tabular}\n"
      ],
      "text/markdown": [
       "\n",
       "A tibble: 6 × 4\n",
       "\n",
       "| Chrom &lt;chr&gt; | Start &lt;dbl&gt; | End &lt;dbl&gt; | Name &lt;chr&gt; |\n",
       "|---|---|---|---|\n",
       "| chr1 | 10015 | 10442 | chr1:10015-10442 |\n",
       "| chr1 | 14253 | 14645 | chr1:14253-14645 |\n",
       "| chr1 | 16015 | 16477 | chr1:16015-16477 |\n",
       "| chr1 | 17237 | 17772 | chr1:17237-17772 |\n",
       "| chr1 | 28903 | 29613 | chr1:28903-29613 |\n",
       "| chr1 | 30803 | 31072 | chr1:30803-31072 |\n",
       "\n"
      ],
      "text/plain": [
       "  Chrom Start End   Name            \n",
       "1 chr1  10015 10442 chr1:10015-10442\n",
       "2 chr1  14253 14645 chr1:14253-14645\n",
       "3 chr1  16015 16477 chr1:16015-16477\n",
       "4 chr1  17237 17772 chr1:17237-17772\n",
       "5 chr1  28903 29613 chr1:28903-29613\n",
       "6 chr1  30803 31072 chr1:30803-31072"
      ]
     },
     "metadata": {},
     "output_type": "display_data"
    }
   ],
   "source": [
    "fdiry = file.path(FD_RES, \"results\", \"region\", \"KS91_K562_ASTARRseq_peak_macs_input\")\n",
    "fname = \"KS91_K562_hg38_ASTARRseq_Input.all_reps.masked.union_narrowPeak.q5.bed.gz\"\n",
    "fpath = file.path(fdiry, fname)\n",
    "\n",
    "cnames = c(\"Chrom\", \"Start\", \"End\")\n",
    "dat = read_tsv(fpath, col_names = cnames, show_col_types = FALSE)\n",
    "dat = dat %>% dplyr::mutate(Name = paste0(Chrom, \":\", Start, \"-\", End))\n",
    "\n",
    "dat_peak_ocr = dat\n",
    "print(dim(dat))\n",
    "head(dat)"
   ]
  },
  {
   "cell_type": "code",
   "execution_count": 3,
   "metadata": {},
   "outputs": [
    {
     "name": "stdout",
     "output_type": "stream",
     "text": [
      "[1] 16  4\n"
     ]
    },
    {
     "data": {
      "text/html": [
       "<table class=\"dataframe\">\n",
       "<caption>A spec_tbl_df: 16 × 4</caption>\n",
       "<thead>\n",
       "\t<tr><th scope=col>Chrom</th><th scope=col>Start</th><th scope=col>End</th><th scope=col>Name</th></tr>\n",
       "\t<tr><th scope=col>&lt;chr&gt;</th><th scope=col>&lt;dbl&gt;</th><th scope=col>&lt;dbl&gt;</th><th scope=col>&lt;chr&gt;</th></tr>\n",
       "</thead>\n",
       "<tbody>\n",
       "\t<tr><td>chr11</td><td>  4000000</td><td>  6600000</td><td>chr11:4091884-6505900    </td></tr>\n",
       "\t<tr><td>chr11</td><td> 32800000</td><td> 35000000</td><td>chr11:32869701-34870100  </td></tr>\n",
       "\t<tr><td>chr11</td><td> 61700000</td><td> 62000000</td><td>chr11:61787329-61898348  </td></tr>\n",
       "\t<tr><td>chr12</td><td> 54290000</td><td> 54310000</td><td>chr12:54300766-54301042  </td></tr>\n",
       "\t<tr><td>chr12</td><td>110000000</td><td>113000000</td><td>chr12:110726151-112325737</td></tr>\n",
       "\t<tr><td>chr16</td><td>        0</td><td>  1300000</td><td>chr16:10001-1173100      </td></tr>\n",
       "\t<tr><td>chr19</td><td> 12880000</td><td> 12900000</td><td>chr19:12887110-12887237  </td></tr>\n",
       "\t<tr><td>chr2 </td><td> 59000000</td><td> 62000000</td><td>chr2:59553301-61553700   </td></tr>\n",
       "\t<tr><td>chr20</td><td> 55500000</td><td> 59000000</td><td>chr20:56391301-58391700  </td></tr>\n",
       "\t<tr><td>chr3 </td><td>128475000</td><td>128512000</td><td>chr3:128487571-128487937 </td></tr>\n",
       "\t<tr><td>chr4 </td><td> 55000000</td><td> 56500000</td><td>chr4:55237590-56068531   </td></tr>\n",
       "\t<tr><td>chr5 </td><td> 86000000</td><td> 91600000</td><td>chr5:87611207-89911163   </td></tr>\n",
       "\t<tr><td>chr6 </td><td>108000000</td><td>111000000</td><td>chr6:108840570-109828800 </td></tr>\n",
       "\t<tr><td>chr6 </td><td>133000000</td><td>138000000</td><td>chr6:134253831-136927585 </td></tr>\n",
       "\t<tr><td>chr8 </td><td>122000000</td><td>136000000</td><td>chr8:126735901-128736550 </td></tr>\n",
       "\t<tr><td>chrX </td><td> 47000000</td><td> 51000000</td><td>chrX:47785501-49880650   </td></tr>\n",
       "</tbody>\n",
       "</table>\n"
      ],
      "text/latex": [
       "A spec\\_tbl\\_df: 16 × 4\n",
       "\\begin{tabular}{llll}\n",
       " Chrom & Start & End & Name\\\\\n",
       " <chr> & <dbl> & <dbl> & <chr>\\\\\n",
       "\\hline\n",
       "\t chr11 &   4000000 &   6600000 & chr11:4091884-6505900    \\\\\n",
       "\t chr11 &  32800000 &  35000000 & chr11:32869701-34870100  \\\\\n",
       "\t chr11 &  61700000 &  62000000 & chr11:61787329-61898348  \\\\\n",
       "\t chr12 &  54290000 &  54310000 & chr12:54300766-54301042  \\\\\n",
       "\t chr12 & 110000000 & 113000000 & chr12:110726151-112325737\\\\\n",
       "\t chr16 &         0 &   1300000 & chr16:10001-1173100      \\\\\n",
       "\t chr19 &  12880000 &  12900000 & chr19:12887110-12887237  \\\\\n",
       "\t chr2  &  59000000 &  62000000 & chr2:59553301-61553700   \\\\\n",
       "\t chr20 &  55500000 &  59000000 & chr20:56391301-58391700  \\\\\n",
       "\t chr3  & 128475000 & 128512000 & chr3:128487571-128487937 \\\\\n",
       "\t chr4  &  55000000 &  56500000 & chr4:55237590-56068531   \\\\\n",
       "\t chr5  &  86000000 &  91600000 & chr5:87611207-89911163   \\\\\n",
       "\t chr6  & 108000000 & 111000000 & chr6:108840570-109828800 \\\\\n",
       "\t chr6  & 133000000 & 138000000 & chr6:134253831-136927585 \\\\\n",
       "\t chr8  & 122000000 & 136000000 & chr8:126735901-128736550 \\\\\n",
       "\t chrX  &  47000000 &  51000000 & chrX:47785501-49880650   \\\\\n",
       "\\end{tabular}\n"
      ],
      "text/markdown": [
       "\n",
       "A spec_tbl_df: 16 × 4\n",
       "\n",
       "| Chrom &lt;chr&gt; | Start &lt;dbl&gt; | End &lt;dbl&gt; | Name &lt;chr&gt; |\n",
       "|---|---|---|---|\n",
       "| chr11 |   4000000 |   6600000 | chr11:4091884-6505900     |\n",
       "| chr11 |  32800000 |  35000000 | chr11:32869701-34870100   |\n",
       "| chr11 |  61700000 |  62000000 | chr11:61787329-61898348   |\n",
       "| chr12 |  54290000 |  54310000 | chr12:54300766-54301042   |\n",
       "| chr12 | 110000000 | 113000000 | chr12:110726151-112325737 |\n",
       "| chr16 |         0 |   1300000 | chr16:10001-1173100       |\n",
       "| chr19 |  12880000 |  12900000 | chr19:12887110-12887237   |\n",
       "| chr2  |  59000000 |  62000000 | chr2:59553301-61553700    |\n",
       "| chr20 |  55500000 |  59000000 | chr20:56391301-58391700   |\n",
       "| chr3  | 128475000 | 128512000 | chr3:128487571-128487937  |\n",
       "| chr4  |  55000000 |  56500000 | chr4:55237590-56068531    |\n",
       "| chr5  |  86000000 |  91600000 | chr5:87611207-89911163    |\n",
       "| chr6  | 108000000 | 111000000 | chr6:108840570-109828800  |\n",
       "| chr6  | 133000000 | 138000000 | chr6:134253831-136927585  |\n",
       "| chr8  | 122000000 | 136000000 | chr8:126735901-128736550  |\n",
       "| chrX  |  47000000 |  51000000 | chrX:47785501-49880650    |\n",
       "\n"
      ],
      "text/plain": [
       "   Chrom Start     End       Name                     \n",
       "1  chr11   4000000   6600000 chr11:4091884-6505900    \n",
       "2  chr11  32800000  35000000 chr11:32869701-34870100  \n",
       "3  chr11  61700000  62000000 chr11:61787329-61898348  \n",
       "4  chr12  54290000  54310000 chr12:54300766-54301042  \n",
       "5  chr12 110000000 113000000 chr12:110726151-112325737\n",
       "6  chr16         0   1300000 chr16:10001-1173100      \n",
       "7  chr19  12880000  12900000 chr19:12887110-12887237  \n",
       "8  chr2   59000000  62000000 chr2:59553301-61553700   \n",
       "9  chr20  55500000  59000000 chr20:56391301-58391700  \n",
       "10 chr3  128475000 128512000 chr3:128487571-128487937 \n",
       "11 chr4   55000000  56500000 chr4:55237590-56068531   \n",
       "12 chr5   86000000  91600000 chr5:87611207-89911163   \n",
       "13 chr6  108000000 111000000 chr6:108840570-109828800 \n",
       "14 chr6  133000000 138000000 chr6:134253831-136927585 \n",
       "15 chr8  122000000 136000000 chr8:126735901-128736550 \n",
       "16 chrX   47000000  51000000 chrX:47785501-49880650   "
      ]
     },
     "metadata": {},
     "output_type": "display_data"
    }
   ],
   "source": [
    "fdiry = file.path(FD_RES, \"results\", \"region\")\n",
    "fname = \"region_screened_selected.bed.gz\"\n",
    "fpath = file.path(fdiry, fname)\n",
    "\n",
    "cnames = c(\"Chrom\", \"Start\", \"End\", \"Name\")\n",
    "dat = read_tsv(fpath, col_names = cnames, show_col_types = FALSE)\n",
    "\n",
    "dat_region_subset = dat\n",
    "print(dim(dat))\n",
    "dat"
   ]
  },
  {
   "cell_type": "markdown",
   "metadata": {},
   "source": [
    "## Subset by the screened regions"
   ]
  },
  {
   "cell_type": "code",
   "execution_count": 4,
   "metadata": {},
   "outputs": [
    {
     "name": "stdout",
     "output_type": "stream",
     "text": [
      "  chr11:32869701-34870100     chr11:4091884-6505900   chr11:61787329-61898348 \n",
      "                        1                         1                         1 \n",
      "chr12:110726151-112325737   chr12:54300766-54301042       chr16:10001-1173100 \n",
      "                        1                         1                         1 \n",
      "  chr19:12887110-12887237    chr2:59553301-61553700   chr20:56391301-58391700 \n",
      "                        1                         1                         1 \n",
      " chr3:128487571-128487937    chr4:55237590-56068531    chr5:87611207-89911163 \n",
      "                        1                         1                         1 \n",
      " chr6:108840570-109828800  chr6:134253831-136927585  chr8:126735901-128736550 \n",
      "                        1                         1                         1 \n",
      "   chrX:47785501-49880650 \n",
      "                        1 \n"
     ]
    }
   ],
   "source": [
    "dat = dat_region_subset\n",
    "lst = split(dat, dat$Name)\n",
    "\n",
    "lst_region_subset = lst\n",
    "vec = unlist(lapply(lst, nrow))\n",
    "print(vec)"
   ]
  },
  {
   "cell_type": "code",
   "execution_count": 5,
   "metadata": {},
   "outputs": [
    {
     "name": "stdout",
     "output_type": "stream",
     "text": [
      "[1] 5376    4\n"
     ]
    },
    {
     "data": {
      "text/html": [
       "<table class=\"dataframe\">\n",
       "<caption>A tibble: 6 × 4</caption>\n",
       "<thead>\n",
       "\t<tr><th scope=col>Chrom</th><th scope=col>Start</th><th scope=col>End</th><th scope=col>Name</th></tr>\n",
       "\t<tr><th scope=col>&lt;chr&gt;</th><th scope=col>&lt;dbl&gt;</th><th scope=col>&lt;dbl&gt;</th><th scope=col>&lt;chr&gt;</th></tr>\n",
       "</thead>\n",
       "<tbody>\n",
       "\t<tr><td>chr11</td><td>32809191</td><td>32809816</td><td>chr11:32809191-32809816</td></tr>\n",
       "\t<tr><td>chr11</td><td>32829398</td><td>32830575</td><td>chr11:32829398-32830575</td></tr>\n",
       "\t<tr><td>chr11</td><td>32838250</td><td>32838808</td><td>chr11:32838250-32838808</td></tr>\n",
       "\t<tr><td>chr11</td><td>32843903</td><td>32844319</td><td>chr11:32843903-32844319</td></tr>\n",
       "\t<tr><td>chr11</td><td>32859295</td><td>32859826</td><td>chr11:32859295-32859826</td></tr>\n",
       "\t<tr><td>chr11</td><td>32870601</td><td>32871324</td><td>chr11:32870601-32871324</td></tr>\n",
       "</tbody>\n",
       "</table>\n"
      ],
      "text/latex": [
       "A tibble: 6 × 4\n",
       "\\begin{tabular}{llll}\n",
       " Chrom & Start & End & Name\\\\\n",
       " <chr> & <dbl> & <dbl> & <chr>\\\\\n",
       "\\hline\n",
       "\t chr11 & 32809191 & 32809816 & chr11:32809191-32809816\\\\\n",
       "\t chr11 & 32829398 & 32830575 & chr11:32829398-32830575\\\\\n",
       "\t chr11 & 32838250 & 32838808 & chr11:32838250-32838808\\\\\n",
       "\t chr11 & 32843903 & 32844319 & chr11:32843903-32844319\\\\\n",
       "\t chr11 & 32859295 & 32859826 & chr11:32859295-32859826\\\\\n",
       "\t chr11 & 32870601 & 32871324 & chr11:32870601-32871324\\\\\n",
       "\\end{tabular}\n"
      ],
      "text/markdown": [
       "\n",
       "A tibble: 6 × 4\n",
       "\n",
       "| Chrom &lt;chr&gt; | Start &lt;dbl&gt; | End &lt;dbl&gt; | Name &lt;chr&gt; |\n",
       "|---|---|---|---|\n",
       "| chr11 | 32809191 | 32809816 | chr11:32809191-32809816 |\n",
       "| chr11 | 32829398 | 32830575 | chr11:32829398-32830575 |\n",
       "| chr11 | 32838250 | 32838808 | chr11:32838250-32838808 |\n",
       "| chr11 | 32843903 | 32844319 | chr11:32843903-32844319 |\n",
       "| chr11 | 32859295 | 32859826 | chr11:32859295-32859826 |\n",
       "| chr11 | 32870601 | 32871324 | chr11:32870601-32871324 |\n",
       "\n"
      ],
      "text/plain": [
       "  Chrom Start    End      Name                   \n",
       "1 chr11 32809191 32809816 chr11:32809191-32809816\n",
       "2 chr11 32829398 32830575 chr11:32829398-32830575\n",
       "3 chr11 32838250 32838808 chr11:32838250-32838808\n",
       "4 chr11 32843903 32844319 chr11:32843903-32844319\n",
       "5 chr11 32859295 32859826 chr11:32859295-32859826\n",
       "6 chr11 32870601 32871324 chr11:32870601-32871324"
      ]
     },
     "metadata": {},
     "output_type": "display_data"
    }
   ],
   "source": [
    "lst = lst_region_subset\n",
    "lst = lapply(lst, function(vec){\n",
    "    ###\n",
    "    txt_chrom = vec$Chrom\n",
    "    val_start = vec$Start\n",
    "    val_end   = vec$End\n",
    "    \n",
    "    ###\n",
    "    dat = dat_peak_ocr\n",
    "    dat = dat %>%\n",
    "        dplyr::filter(\n",
    "            Chrom == txt_chrom,\n",
    "            Start <= val_end,\n",
    "            End   >= val_start\n",
    "        )\n",
    "    return(dat)\n",
    "})\n",
    "dat = bind_rows(lst)\n",
    "\n",
    "dat_peak_ocr_subset = dat\n",
    "print(dim(dat))\n",
    "head(dat)"
   ]
  },
  {
   "cell_type": "markdown",
   "metadata": {},
   "source": [
    "## Pairs of regions"
   ]
  },
  {
   "cell_type": "code",
   "execution_count": 6,
   "metadata": {},
   "outputs": [
    {
     "name": "stdout",
     "output_type": "stream",
     "text": [
      "chr11:32809191-32809816 \n",
      " 727 \n",
      "\n",
      "chr12:109998697-110000145 \n",
      " 525 \n",
      "\n",
      "chr16:10131-11496 \n",
      " 321 \n",
      "\n",
      "chr19:12881065-12881849 \n",
      " 6 \n",
      "\n",
      "chr2:59025102-59025557 \n",
      " 274 \n",
      "\n",
      "chr20:56003558-56004239 \n",
      " 394 \n",
      "\n",
      "chr3:128477179-128477796 \n",
      " 9 \n",
      "\n",
      "chr4:55008511-55009300 \n",
      " 188 \n",
      "\n",
      "chr5:86186696-86187100 \n",
      " 356 \n",
      "\n",
      "chr6:108002670-108003242 \n",
      " 1013 \n",
      "\n",
      "chr8:122533775-122534083 \n",
      " 1265 \n",
      "\n",
      "chrX:47047714-47048641 \n",
      " 298 \n",
      "\n",
      " [1] \"chr11\" \"chr12\" \"chr16\" \"chr19\" \"chr2\"  \"chr20\" \"chr3\"  \"chr4\"  \"chr5\" \n",
      "[10] \"chr6\"  \"chr8\"  \"chrX\" \n"
     ]
    },
    {
     "data": {
      "text/html": [
       "<table class=\"dataframe\">\n",
       "<caption>A data.frame: 6 × 2</caption>\n",
       "<thead>\n",
       "\t<tr><th></th><th scope=col>V1</th><th scope=col>V2</th></tr>\n",
       "\t<tr><th></th><th scope=col>&lt;chr&gt;</th><th scope=col>&lt;chr&gt;</th></tr>\n",
       "</thead>\n",
       "<tbody>\n",
       "\t<tr><th scope=row>1</th><td>chr11:32809191-32809816</td><td>chr11:32809191-32809816</td></tr>\n",
       "\t<tr><th scope=row>2</th><td>chr11:32809191-32809816</td><td>chr11:32829398-32830575</td></tr>\n",
       "\t<tr><th scope=row>3</th><td>chr11:32809191-32809816</td><td>chr11:32838250-32838808</td></tr>\n",
       "\t<tr><th scope=row>4</th><td>chr11:32809191-32809816</td><td>chr11:32843903-32844319</td></tr>\n",
       "\t<tr><th scope=row>5</th><td>chr11:32809191-32809816</td><td>chr11:32859295-32859826</td></tr>\n",
       "\t<tr><th scope=row>6</th><td>chr11:32809191-32809816</td><td>chr11:32870601-32871324</td></tr>\n",
       "</tbody>\n",
       "</table>\n"
      ],
      "text/latex": [
       "A data.frame: 6 × 2\n",
       "\\begin{tabular}{r|ll}\n",
       "  & V1 & V2\\\\\n",
       "  & <chr> & <chr>\\\\\n",
       "\\hline\n",
       "\t1 & chr11:32809191-32809816 & chr11:32809191-32809816\\\\\n",
       "\t2 & chr11:32809191-32809816 & chr11:32829398-32830575\\\\\n",
       "\t3 & chr11:32809191-32809816 & chr11:32838250-32838808\\\\\n",
       "\t4 & chr11:32809191-32809816 & chr11:32843903-32844319\\\\\n",
       "\t5 & chr11:32809191-32809816 & chr11:32859295-32859826\\\\\n",
       "\t6 & chr11:32809191-32809816 & chr11:32870601-32871324\\\\\n",
       "\\end{tabular}\n"
      ],
      "text/markdown": [
       "\n",
       "A data.frame: 6 × 2\n",
       "\n",
       "| <!--/--> | V1 &lt;chr&gt; | V2 &lt;chr&gt; |\n",
       "|---|---|---|\n",
       "| 1 | chr11:32809191-32809816 | chr11:32809191-32809816 |\n",
       "| 2 | chr11:32809191-32809816 | chr11:32829398-32830575 |\n",
       "| 3 | chr11:32809191-32809816 | chr11:32838250-32838808 |\n",
       "| 4 | chr11:32809191-32809816 | chr11:32843903-32844319 |\n",
       "| 5 | chr11:32809191-32809816 | chr11:32859295-32859826 |\n",
       "| 6 | chr11:32809191-32809816 | chr11:32870601-32871324 |\n",
       "\n"
      ],
      "text/plain": [
       "  V1                      V2                     \n",
       "1 chr11:32809191-32809816 chr11:32809191-32809816\n",
       "2 chr11:32809191-32809816 chr11:32829398-32830575\n",
       "3 chr11:32809191-32809816 chr11:32838250-32838808\n",
       "4 chr11:32809191-32809816 chr11:32843903-32844319\n",
       "5 chr11:32809191-32809816 chr11:32859295-32859826\n",
       "6 chr11:32809191-32809816 chr11:32870601-32871324"
      ]
     },
     "metadata": {},
     "output_type": "display_data"
    }
   ],
   "source": [
    "### init\n",
    "dat = dat_peak_ocr_subset\n",
    "vec = paste0(\"chr\", c(1:22, \"X\"))\n",
    "dat = dat %>% dplyr::filter(Chrom %in% vec)\n",
    "\n",
    "### generate region pairs\n",
    "lst = split(dat$Name, dat$Chrom)\n",
    "lst = lapply(lst, function(vec){\n",
    "    ### Show progress\n",
    "    cat(vec[1], \"\\n\", length(vec), \"\\n\\n\")\n",
    "    flush.console()\n",
    "    \n",
    "    ### create combinations without permutation\n",
    "    dat_comb2_self  = data.frame(V1 = vec, V2 = vec)\n",
    "    dat_comb2_pair  = combn(vec, 2) %>% t %>% as.data.frame    \n",
    "    dat_comb2_total = dplyr::bind_rows(\n",
    "        dat_comb2_self, \n",
    "        dat_comb2_pair) %>% \n",
    "        dplyr::arrange(V1, V2)\n",
    "    \n",
    "    return(dat_comb2_total)\n",
    "})\n",
    "\n",
    "### assign and show\n",
    "lst_peak_comb2_table = lst\n",
    "print(names(lst))\n",
    "head(lst[[1]])"
   ]
  },
  {
   "cell_type": "code",
   "execution_count": 7,
   "metadata": {},
   "outputs": [
    {
     "name": "stdout",
     "output_type": "stream",
     "text": [
      " [1] \"chr11\" \"chr12\" \"chr16\" \"chr19\" \"chr2\"  \"chr20\" \"chr3\"  \"chr4\"  \"chr5\" \n",
      "[10] \"chr6\"  \"chr8\"  \"chrX\" \n"
     ]
    },
    {
     "data": {
      "text/html": [
       "<table class=\"dataframe\">\n",
       "<caption>A data.frame: 6 × 6</caption>\n",
       "<thead>\n",
       "\t<tr><th></th><th scope=col>Chrom1</th><th scope=col>Start1</th><th scope=col>End1</th><th scope=col>Chrom2</th><th scope=col>Start2</th><th scope=col>End2</th></tr>\n",
       "\t<tr><th></th><th scope=col>&lt;chr&gt;</th><th scope=col>&lt;chr&gt;</th><th scope=col>&lt;chr&gt;</th><th scope=col>&lt;chr&gt;</th><th scope=col>&lt;chr&gt;</th><th scope=col>&lt;chr&gt;</th></tr>\n",
       "</thead>\n",
       "<tbody>\n",
       "\t<tr><th scope=row>1</th><td>chr11</td><td>32809191</td><td>32809816</td><td>chr11</td><td>32809191</td><td>32809816</td></tr>\n",
       "\t<tr><th scope=row>2</th><td>chr11</td><td>32809191</td><td>32809816</td><td>chr11</td><td>32829398</td><td>32830575</td></tr>\n",
       "\t<tr><th scope=row>3</th><td>chr11</td><td>32809191</td><td>32809816</td><td>chr11</td><td>32838250</td><td>32838808</td></tr>\n",
       "\t<tr><th scope=row>4</th><td>chr11</td><td>32809191</td><td>32809816</td><td>chr11</td><td>32843903</td><td>32844319</td></tr>\n",
       "\t<tr><th scope=row>5</th><td>chr11</td><td>32809191</td><td>32809816</td><td>chr11</td><td>32859295</td><td>32859826</td></tr>\n",
       "\t<tr><th scope=row>6</th><td>chr11</td><td>32809191</td><td>32809816</td><td>chr11</td><td>32870601</td><td>32871324</td></tr>\n",
       "</tbody>\n",
       "</table>\n"
      ],
      "text/latex": [
       "A data.frame: 6 × 6\n",
       "\\begin{tabular}{r|llllll}\n",
       "  & Chrom1 & Start1 & End1 & Chrom2 & Start2 & End2\\\\\n",
       "  & <chr> & <chr> & <chr> & <chr> & <chr> & <chr>\\\\\n",
       "\\hline\n",
       "\t1 & chr11 & 32809191 & 32809816 & chr11 & 32809191 & 32809816\\\\\n",
       "\t2 & chr11 & 32809191 & 32809816 & chr11 & 32829398 & 32830575\\\\\n",
       "\t3 & chr11 & 32809191 & 32809816 & chr11 & 32838250 & 32838808\\\\\n",
       "\t4 & chr11 & 32809191 & 32809816 & chr11 & 32843903 & 32844319\\\\\n",
       "\t5 & chr11 & 32809191 & 32809816 & chr11 & 32859295 & 32859826\\\\\n",
       "\t6 & chr11 & 32809191 & 32809816 & chr11 & 32870601 & 32871324\\\\\n",
       "\\end{tabular}\n"
      ],
      "text/markdown": [
       "\n",
       "A data.frame: 6 × 6\n",
       "\n",
       "| <!--/--> | Chrom1 &lt;chr&gt; | Start1 &lt;chr&gt; | End1 &lt;chr&gt; | Chrom2 &lt;chr&gt; | Start2 &lt;chr&gt; | End2 &lt;chr&gt; |\n",
       "|---|---|---|---|---|---|---|\n",
       "| 1 | chr11 | 32809191 | 32809816 | chr11 | 32809191 | 32809816 |\n",
       "| 2 | chr11 | 32809191 | 32809816 | chr11 | 32829398 | 32830575 |\n",
       "| 3 | chr11 | 32809191 | 32809816 | chr11 | 32838250 | 32838808 |\n",
       "| 4 | chr11 | 32809191 | 32809816 | chr11 | 32843903 | 32844319 |\n",
       "| 5 | chr11 | 32809191 | 32809816 | chr11 | 32859295 | 32859826 |\n",
       "| 6 | chr11 | 32809191 | 32809816 | chr11 | 32870601 | 32871324 |\n",
       "\n"
      ],
      "text/plain": [
       "  Chrom1 Start1   End1     Chrom2 Start2   End2    \n",
       "1 chr11  32809191 32809816 chr11  32809191 32809816\n",
       "2 chr11  32809191 32809816 chr11  32829398 32830575\n",
       "3 chr11  32809191 32809816 chr11  32838250 32838808\n",
       "4 chr11  32809191 32809816 chr11  32843903 32844319\n",
       "5 chr11  32809191 32809816 chr11  32859295 32859826\n",
       "6 chr11  32809191 32809816 chr11  32870601 32871324"
      ]
     },
     "metadata": {},
     "output_type": "display_data"
    }
   ],
   "source": [
    "lst = lst_peak_comb2_table\n",
    "lst = lapply(lst, function(dat){\n",
    "    ### convert to bedpe format\n",
    "    dat = dat %>%\n",
    "        tidyr::separate(V1, c(\"Chrom1\", \"Start1\", \"End1\"), sep = \"[:-]\") %>%\n",
    "        tidyr::separate(V2, c(\"Chrom2\", \"Start2\", \"End2\"), sep = \"[:-]\") %>%\n",
    "        dplyr::select(Chrom1, Start1, End1, Chrom2, Start2, End2)\n",
    "    return(dat)\n",
    "})\n",
    "\n",
    "### assign and show\n",
    "lst_peak_comb2_bedpe = lst\n",
    "print(names(lst))\n",
    "head(lst[[1]])"
   ]
  },
  {
   "cell_type": "code",
   "execution_count": 8,
   "metadata": {},
   "outputs": [
    {
     "name": "stdout",
     "output_type": "stream",
     "text": [
      "[1] 2010139       6\n"
     ]
    },
    {
     "data": {
      "text/html": [
       "<table class=\"dataframe\">\n",
       "<caption>A data.frame: 6 × 6</caption>\n",
       "<thead>\n",
       "\t<tr><th></th><th scope=col>Chrom1</th><th scope=col>Start1</th><th scope=col>End1</th><th scope=col>Chrom2</th><th scope=col>Start2</th><th scope=col>End2</th></tr>\n",
       "\t<tr><th></th><th scope=col>&lt;chr&gt;</th><th scope=col>&lt;chr&gt;</th><th scope=col>&lt;chr&gt;</th><th scope=col>&lt;chr&gt;</th><th scope=col>&lt;chr&gt;</th><th scope=col>&lt;chr&gt;</th></tr>\n",
       "</thead>\n",
       "<tbody>\n",
       "\t<tr><th scope=row>1</th><td>chr11</td><td>32809191</td><td>32809816</td><td>chr11</td><td>32809191</td><td>32809816</td></tr>\n",
       "\t<tr><th scope=row>2</th><td>chr11</td><td>32809191</td><td>32809816</td><td>chr11</td><td>32829398</td><td>32830575</td></tr>\n",
       "\t<tr><th scope=row>3</th><td>chr11</td><td>32809191</td><td>32809816</td><td>chr11</td><td>32838250</td><td>32838808</td></tr>\n",
       "\t<tr><th scope=row>4</th><td>chr11</td><td>32809191</td><td>32809816</td><td>chr11</td><td>32843903</td><td>32844319</td></tr>\n",
       "\t<tr><th scope=row>5</th><td>chr11</td><td>32809191</td><td>32809816</td><td>chr11</td><td>32859295</td><td>32859826</td></tr>\n",
       "\t<tr><th scope=row>6</th><td>chr11</td><td>32809191</td><td>32809816</td><td>chr11</td><td>32870601</td><td>32871324</td></tr>\n",
       "</tbody>\n",
       "</table>\n"
      ],
      "text/latex": [
       "A data.frame: 6 × 6\n",
       "\\begin{tabular}{r|llllll}\n",
       "  & Chrom1 & Start1 & End1 & Chrom2 & Start2 & End2\\\\\n",
       "  & <chr> & <chr> & <chr> & <chr> & <chr> & <chr>\\\\\n",
       "\\hline\n",
       "\t1 & chr11 & 32809191 & 32809816 & chr11 & 32809191 & 32809816\\\\\n",
       "\t2 & chr11 & 32809191 & 32809816 & chr11 & 32829398 & 32830575\\\\\n",
       "\t3 & chr11 & 32809191 & 32809816 & chr11 & 32838250 & 32838808\\\\\n",
       "\t4 & chr11 & 32809191 & 32809816 & chr11 & 32843903 & 32844319\\\\\n",
       "\t5 & chr11 & 32809191 & 32809816 & chr11 & 32859295 & 32859826\\\\\n",
       "\t6 & chr11 & 32809191 & 32809816 & chr11 & 32870601 & 32871324\\\\\n",
       "\\end{tabular}\n"
      ],
      "text/markdown": [
       "\n",
       "A data.frame: 6 × 6\n",
       "\n",
       "| <!--/--> | Chrom1 &lt;chr&gt; | Start1 &lt;chr&gt; | End1 &lt;chr&gt; | Chrom2 &lt;chr&gt; | Start2 &lt;chr&gt; | End2 &lt;chr&gt; |\n",
       "|---|---|---|---|---|---|---|\n",
       "| 1 | chr11 | 32809191 | 32809816 | chr11 | 32809191 | 32809816 |\n",
       "| 2 | chr11 | 32809191 | 32809816 | chr11 | 32829398 | 32830575 |\n",
       "| 3 | chr11 | 32809191 | 32809816 | chr11 | 32838250 | 32838808 |\n",
       "| 4 | chr11 | 32809191 | 32809816 | chr11 | 32843903 | 32844319 |\n",
       "| 5 | chr11 | 32809191 | 32809816 | chr11 | 32859295 | 32859826 |\n",
       "| 6 | chr11 | 32809191 | 32809816 | chr11 | 32870601 | 32871324 |\n",
       "\n"
      ],
      "text/plain": [
       "  Chrom1 Start1   End1     Chrom2 Start2   End2    \n",
       "1 chr11  32809191 32809816 chr11  32809191 32809816\n",
       "2 chr11  32809191 32809816 chr11  32829398 32830575\n",
       "3 chr11  32809191 32809816 chr11  32838250 32838808\n",
       "4 chr11  32809191 32809816 chr11  32843903 32844319\n",
       "5 chr11  32809191 32809816 chr11  32859295 32859826\n",
       "6 chr11  32809191 32809816 chr11  32870601 32871324"
      ]
     },
     "metadata": {},
     "output_type": "display_data"
    }
   ],
   "source": [
    "lst = lst_peak_comb2_bedpe\n",
    "dat = bind_rows(lst)\n",
    "dat = dat %>% \n",
    "    dplyr::arrange(\n",
    "        Chrom1, Start1, End1, \n",
    "        Chrom2, Start2, End2)\n",
    "\n",
    "dat_peak_comb2_bedpe = dat\n",
    "print(dim(dat))\n",
    "head(dat)"
   ]
  },
  {
   "cell_type": "markdown",
   "metadata": {},
   "source": [
    "## Save results"
   ]
  },
  {
   "cell_type": "code",
   "execution_count": 9,
   "metadata": {},
   "outputs": [
    {
     "name": "stdout",
     "output_type": "stream",
     "text": [
      "[1] \"chr11\"\n",
      "[1] \"/data/reddylab/Kuei/out/proj_combeffect_encode_fcc/results/region/KS91_K562_ASTARRseq_peak_macs_input/region_pair/region_pair_selected/region_pair.chr11.tsv.gz\"\n",
      "                       V1                      V2\n",
      "1 chr11:32809191-32809816 chr11:32809191-32809816\n",
      "2 chr11:32809191-32809816 chr11:32829398-32830575\n",
      "3 chr11:32809191-32809816 chr11:32838250-32838808\n",
      "[1] 264628      2\n",
      "\n",
      "[1] \"chr12\"\n",
      "[1] \"/data/reddylab/Kuei/out/proj_combeffect_encode_fcc/results/region/KS91_K562_ASTARRseq_peak_macs_input/region_pair/region_pair_selected/region_pair.chr12.tsv.gz\"\n",
      "                         V1                        V2\n",
      "1 chr12:109998697-110000145 chr12:109998697-110000145\n",
      "2 chr12:109998697-110000145 chr12:110024756-110025315\n",
      "3 chr12:109998697-110000145 chr12:110035591-110035852\n",
      "[1] 138075      2\n",
      "\n",
      "[1] \"chr16\"\n",
      "[1] \"/data/reddylab/Kuei/out/proj_combeffect_encode_fcc/results/region/KS91_K562_ASTARRseq_peak_macs_input/region_pair/region_pair_selected/region_pair.chr16.tsv.gz\"\n",
      "                     V1                    V2\n",
      "1 chr16:1002289-1004429 chr16:1002289-1004429\n",
      "2 chr16:1002289-1004429 chr16:1011626-1012533\n",
      "3 chr16:1002289-1004429 chr16:1014443-1015385\n",
      "[1] 51681     2\n",
      "\n",
      "[1] \"chr19\"\n",
      "[1] \"/data/reddylab/Kuei/out/proj_combeffect_encode_fcc/results/region/KS91_K562_ASTARRseq_peak_macs_input/region_pair/region_pair_selected/region_pair.chr19.tsv.gz\"\n",
      "                       V1                      V2\n",
      "1 chr19:12881065-12881849 chr19:12881065-12881849\n",
      "2 chr19:12881065-12881849 chr19:12884809-12886552\n",
      "3 chr19:12881065-12881849 chr19:12886930-12887979\n",
      "[1] 21  2\n",
      "\n",
      "[1] \"chr2\"\n",
      "[1] \"/data/reddylab/Kuei/out/proj_combeffect_encode_fcc/results/region/KS91_K562_ASTARRseq_peak_macs_input/region_pair/region_pair_selected/region_pair.chr2.tsv.gz\"\n",
      "                      V1                     V2\n",
      "1 chr2:59025102-59025557 chr2:59025102-59025557\n",
      "2 chr2:59025102-59025557 chr2:59034337-59035256\n",
      "3 chr2:59025102-59025557 chr2:59041864-59042382\n",
      "[1] 37675     2\n",
      "\n",
      "[1] \"chr20\"\n",
      "[1] \"/data/reddylab/Kuei/out/proj_combeffect_encode_fcc/results/region/KS91_K562_ASTARRseq_peak_macs_input/region_pair/region_pair_selected/region_pair.chr20.tsv.gz\"\n",
      "                       V1                      V2\n",
      "1 chr20:56003558-56004239 chr20:56003558-56004239\n",
      "2 chr20:56003558-56004239 chr20:56004792-56005486\n",
      "3 chr20:56003558-56004239 chr20:56200451-56200722\n",
      "[1] 77815     2\n",
      "\n",
      "[1] \"chr3\"\n",
      "[1] \"/data/reddylab/Kuei/out/proj_combeffect_encode_fcc/results/region/KS91_K562_ASTARRseq_peak_macs_input/region_pair/region_pair_selected/region_pair.chr3.tsv.gz\"\n",
      "                        V1                       V2\n",
      "1 chr3:128477179-128477796 chr3:128477179-128477796\n",
      "2 chr3:128477179-128477796 chr3:128478746-128480477\n",
      "3 chr3:128477179-128477796 chr3:128482737-128483413\n",
      "[1] 45  2\n",
      "\n",
      "[1] \"chr4\"\n",
      "[1] \"/data/reddylab/Kuei/out/proj_combeffect_encode_fcc/results/region/KS91_K562_ASTARRseq_peak_macs_input/region_pair/region_pair_selected/region_pair.chr4.tsv.gz\"\n",
      "                      V1                     V2\n",
      "1 chr4:55008511-55009300 chr4:55008511-55009300\n",
      "2 chr4:55008511-55009300 chr4:55107231-55107818\n",
      "3 chr4:55008511-55009300 chr4:55124765-55126039\n",
      "[1] 17766     2\n",
      "\n",
      "[1] \"chr5\"\n",
      "[1] \"/data/reddylab/Kuei/out/proj_combeffect_encode_fcc/results/region/KS91_K562_ASTARRseq_peak_macs_input/region_pair/region_pair_selected/region_pair.chr5.tsv.gz\"\n",
      "                      V1                     V2\n",
      "1 chr5:86186696-86187100 chr5:86186696-86187100\n",
      "2 chr5:86186696-86187100 chr5:86226301-86226964\n",
      "3 chr5:86186696-86187100 chr5:86330958-86331367\n",
      "[1] 63546     2\n",
      "\n",
      "[1] \"chr6\"\n",
      "[1] \"/data/reddylab/Kuei/out/proj_combeffect_encode_fcc/results/region/KS91_K562_ASTARRseq_peak_macs_input/region_pair/region_pair_selected/region_pair.chr6.tsv.gz\"\n",
      "                        V1                       V2\n",
      "1 chr6:108002670-108003242 chr6:108002670-108003242\n",
      "2 chr6:108002670-108003242 chr6:108004514-108005468\n",
      "3 chr6:108002670-108003242 chr6:108024413-108025494\n",
      "[1] 513591      2\n",
      "\n",
      "[1] \"chr8\"\n",
      "[1] \"/data/reddylab/Kuei/out/proj_combeffect_encode_fcc/results/region/KS91_K562_ASTARRseq_peak_macs_input/region_pair/region_pair_selected/region_pair.chr8.tsv.gz\"\n",
      "                        V1                       V2\n",
      "1 chr8:122533775-122534083 chr8:122533775-122534083\n",
      "2 chr8:122533775-122534083 chr8:122567617-122568273\n",
      "3 chr8:122533775-122534083 chr8:122572153-122572749\n",
      "[1] 800745      2\n",
      "\n",
      "[1] \"chrX\"\n",
      "[1] \"/data/reddylab/Kuei/out/proj_combeffect_encode_fcc/results/region/KS91_K562_ASTARRseq_peak_macs_input/region_pair/region_pair_selected/region_pair.chrX.tsv.gz\"\n",
      "                      V1                     V2\n",
      "1 chrX:47047714-47048641 chrX:47047714-47048641\n",
      "2 chrX:47047714-47048641 chrX:47059361-47059759\n",
      "3 chrX:47047714-47048641 chrX:47076887-47077341\n",
      "[1] 44551     2\n",
      "\n"
     ]
    }
   ],
   "source": [
    "### save in table format\n",
    "fdiry = file.path(\n",
    "    FD_RES, \"results\", \"region\", \n",
    "    \"KS91_K562_ASTARRseq_peak_macs_input\", \n",
    "    \"region_pair\",\n",
    "    \"region_pair_selected\"\n",
    ")\n",
    "\n",
    "for (idn in names(lst_peak_comb2_table)){\n",
    "    ### set file directory\n",
    "    fname = paste(\"region_pair\", idn, \"tsv.gz\", sep=\".\")\n",
    "    fpath = file.path(fdiry, fname)\n",
    "    \n",
    "    \n",
    "    ### get data\n",
    "    dat = lst_peak_comb2_table[[idn]]\n",
    "    \n",
    "    ### show progress\n",
    "    print(idn)\n",
    "    print(fpath)\n",
    "    print(head(dat, 3))\n",
    "    print(dim(dat))\n",
    "    cat(\"\\n\")\n",
    "    \n",
    "    ### save the results\n",
    "    write_tsv(dat, fpath, col_names=FALSE)\n",
    "}"
   ]
  },
  {
   "cell_type": "code",
   "execution_count": 10,
   "metadata": {},
   "outputs": [
    {
     "name": "stdout",
     "output_type": "stream",
     "text": [
      "Save results:\n",
      " /data/reddylab/Kuei/out/proj_combeffect_encode_fcc/results/region/KS91_K562_ASTARRseq_peak_macs_input/region_pair/region_pair.SUBSET.bedpe.gz \n",
      "\n",
      "Data shape:\n",
      " 2010139 6 \n"
     ]
    }
   ],
   "source": [
    "### save in table format\n",
    "fdiry = file.path(FD_RES, \"results\", \"region\", \"KS91_K562_ASTARRseq_peak_macs_input\", \"region_pair\")\n",
    "fname = paste(\"region_pair\", \"SUBSET\", \"bedpe.gz\", sep=\".\")\n",
    "fpath = file.path(fdiry, fname)\n",
    "\n",
    "dat = dat_peak_comb2_bedpe\n",
    "write_tsv(dat, fpath, col_names=FALSE)\n",
    "\n",
    "### Show progress\n",
    "cat(\"Save results:\\n\", fpath,    \"\\n\")\n",
    "cat(\"\\n\")\n",
    "cat(\"Data shape:\\n\",   dim(dat), \"\\n\")"
   ]
  },
  {
   "cell_type": "code",
   "execution_count": null,
   "metadata": {},
   "outputs": [],
   "source": []
  },
  {
   "cell_type": "code",
   "execution_count": null,
   "metadata": {},
   "outputs": [],
   "source": []
  }
 ],
 "metadata": {
  "kernelspec": {
   "display_name": "R",
   "language": "R",
   "name": "ir"
  },
  "language_info": {
   "codemirror_mode": "r",
   "file_extension": ".r",
   "mimetype": "text/x-r-source",
   "name": "R",
   "pygments_lexer": "r",
   "version": "4.3.0"
  }
 },
 "nbformat": 4,
 "nbformat_minor": 4
}
