{
 "cells": [
  {
   "cell_type": "code",
   "execution_count": 1,
   "metadata": {},
   "outputs": [
    {
     "name": "stdout",
     "output_type": "stream",
     "text": [
      "You are in Singularity: singularity_proj_encode_fcc\n",
      "BASE DIRECTORY (FD_BASE): /data/reddylab/Kuei\n",
      "WORK DIRECTORY (FD_WORK): /data/reddylab/Kuei/out\n",
      "CODE DIRECTORY (FD_CODE): /data/reddylab/Kuei/code\n",
      "PATH OF PROJECT (FD_PRJ): /data/reddylab/Kuei/code/Proj_CombEffect_ENCODE_FCC\n",
      "PATH OF RESULTS (FD_RES): /data/reddylab/Kuei/out/proj_combeffect_encode_fcc\n",
      "PATH OF LOG     (FD_LOG): /data/reddylab/Kuei/out/proj_combeffect_encode_fcc/log\n",
      "\n"
     ]
    }
   ],
   "source": [
    "import numpy as np\n",
    "import hicstraw\n",
    "import os, sys\n",
    "\n",
    "sys.path.append('..')\n",
    "from config.config_sing import *\n",
    "show_env()"
   ]
  },
  {
   "cell_type": "code",
   "execution_count": 2,
   "metadata": {},
   "outputs": [],
   "source": [
    "from matplotlib.colors import LinearSegmentedColormap\n",
    "from matplotlib import pyplot as plt\n",
    "from matplotlib import gridspec\n",
    "import matplotlib.pyplot as plt \n",
    "import seaborn as sns"
   ]
  },
  {
   "cell_type": "code",
   "execution_count": 3,
   "metadata": {},
   "outputs": [],
   "source": [
    "REDMAP = LinearSegmentedColormap.from_list(\"bright_red\", [(1,1,1),(1,0,0)])\n",
    "# helper function for plotting\n",
    "def plot_hic_map(dense_matrix, maxcolor, add_grid=False):\n",
    "    nr, nc = dense_matrix.shape\n",
    "    xr = np.arange(nr) \n",
    "    xc = np.arange(nc)\n",
    "    \n",
    "    plt.matshow(dense_matrix, cmap=REDMAP, vmin=0, vmax=maxcolor)\n",
    "    if add_grid:\n",
    "        plt.hlines(xr, 0, nc+1, linestyle='--', linewidth = 0.5, color='grey')\n",
    "        plt.vlines(xc, 0, nr+1, linestyle='--', linewidth = 0.5, color='grey')\n",
    "    plt.show()"
   ]
  },
  {
   "cell_type": "code",
   "execution_count": 4,
   "metadata": {},
   "outputs": [
    {
     "name": "stdout",
     "output_type": "stream",
     "text": [
      "<hicstraw.HiCFile object at 0x7fee380eca30>\n",
      "hg38\n",
      "[2500000, 1000000, 500000, 250000, 100000, 50000, 25000, 10000, 5000, 2000, 1000, 500, 200, 100, 50, 20, 10, 1]\n"
     ]
    }
   ],
   "source": [
    "fdiry = os.path.join(FD_RES, \"source\", \"hic_intact_K562_deep\")\n",
    "fname = \"inter.hic\"\n",
    "fpath = os.path.join(fdiry, fname)\n",
    "hic   = hicstraw.HiCFile(fpath)\n",
    "\n",
    "print(hic)\n",
    "print(hic.getGenomeID())\n",
    "print(hic.getResolutions())"
   ]
  },
  {
   "cell_type": "code",
   "execution_count": 29,
   "metadata": {},
   "outputs": [
    {
     "data": {
      "image/png": "[encoded data removed]",
      "text/plain": [
       "<Figure size 288x288 with 1 Axes>"
      ]
     },
     "metadata": {
      "needs_background": "light"
     },
     "output_type": "display_data"
    }
   ],
   "source": [
    "normalization = \"RU\"\n",
    "resolution    = 10\n",
    "chrom = \"chrX\"\n",
    "x1    = 48500000\n",
    "y1    = 48500100\n",
    "x2    = x1 # 48800000\n",
    "y2    = y1 # 48804000\n",
    "\n",
    "matrix_object = hic.getMatrixZoomData(\n",
    "    chrom, \n",
    "    chrom, \n",
    "    \"observed\", \n",
    "    normalization, \n",
    "    \"BP\", \n",
    "    resolution)\n",
    "\n",
    "matrix_numpy = matrix_object.getRecordsAsMatrix(\n",
    "    x1,\n",
    "    y1,\n",
    "    x2,\n",
    "    y2\n",
    ")\n",
    "\n",
    "mat1 = matrix_numpy\n",
    "plot_hic_map(matrix_numpy, 20)"
   ]
  },
  {
   "cell_type": "code",
   "execution_count": 30,
   "metadata": {},
   "outputs": [
    {
     "data": {
      "image/png": "[encoded data removed]",
      "text/plain": [
       "<Figure size 288x288 with 1 Axes>"
      ]
     },
     "metadata": {
      "needs_background": "light"
     },
     "output_type": "display_data"
    }
   ],
   "source": [
    "normalization = \"RU\"\n",
    "resolution    = 20\n",
    "chrom = \"chrX\"\n",
    "x1    = 48500000\n",
    "y1    = 48500100\n",
    "x2    = x1 # 48800000\n",
    "y2    = y1 # 48804000\n",
    "\n",
    "matrix_object = hic.getMatrixZoomData(\n",
    "    chrom, \n",
    "    chrom, \n",
    "    \"observed\", \n",
    "    normalization, \n",
    "    \"BP\", \n",
    "    resolution)\n",
    "\n",
    "matrix_numpy = matrix_object.getRecordsAsMatrix(\n",
    "    x1,\n",
    "    y1,\n",
    "    x2,\n",
    "    y2\n",
    ")\n",
    "\n",
    "mat2 = matrix_numpy\n",
    "plot_hic_map(matrix_numpy, 20)"
   ]
  },
  {
   "cell_type": "code",
   "execution_count": 31,
   "metadata": {},
   "outputs": [
    {
     "data": {
      "image/png": "[encoded data removed]",
      "text/plain": [
       "<Figure size 288x288 with 1 Axes>"
      ]
     },
     "metadata": {
      "needs_background": "light"
     },
     "output_type": "display_data"
    }
   ],
   "source": [
    "normalization = \"RU\"\n",
    "resolution    = 50\n",
    "chrom = \"chrX\"\n",
    "x1    = 48500000\n",
    "y1    = 48500100\n",
    "x2    = x1 # 48800000\n",
    "y2    = y1 # 48804000\n",
    "\n",
    "matrix_object = hic.getMatrixZoomData(\n",
    "    chrom, \n",
    "    chrom, \n",
    "    \"observed\", \n",
    "    normalization, \n",
    "    \"BP\", \n",
    "    resolution)\n",
    "\n",
    "matrix_numpy = matrix_object.getRecordsAsMatrix(\n",
    "    x1,\n",
    "    y1,\n",
    "    x2,\n",
    "    y2\n",
    ")\n",
    "\n",
    "mat3 = matrix_numpy\n",
    "plot_hic_map(matrix_numpy, 20)"
   ]
  },
  {
   "cell_type": "code",
   "execution_count": 34,
   "metadata": {},
   "outputs": [
    {
     "data": {
      "text/plain": [
       "array([[1.41000795, 1.98250055],\n",
       "       [1.98250055, 0.        ]])"
      ]
     },
     "execution_count": 34,
     "metadata": {},
     "output_type": "execute_result"
    }
   ],
   "source": [
    "mat1[:2,:2]"
   ]
  },
  {
   "cell_type": "code",
   "execution_count": 35,
   "metadata": {},
   "outputs": [
    {
     "data": {
      "text/plain": [
       "array([[3.19549656, 1.08120608],\n",
       "       [1.08120608, 1.09748816]])"
      ]
     },
     "execution_count": 35,
     "metadata": {},
     "output_type": "execute_result"
    }
   ],
   "source": [
    "mat2[:2,:2]"
   ]
  },
  {
   "cell_type": "code",
   "execution_count": 36,
   "metadata": {},
   "outputs": [
    {
     "data": {
      "text/plain": [
       "array([[6.80075884, 6.8629117 ],\n",
       "       [6.8629117 , 2.90876555]])"
      ]
     },
     "execution_count": 36,
     "metadata": {},
     "output_type": "execute_result"
    }
   ],
   "source": [
    "mat3[:2,:2]"
   ]
  },
  {
   "cell_type": "code",
   "execution_count": 40,
   "metadata": {},
   "outputs": [
    {
     "data": {
      "text/plain": [
       "5.375009059906006"
      ]
     },
     "execution_count": 40,
     "metadata": {},
     "output_type": "execute_result"
    }
   ],
   "source": [
    "mat1[:2,:2].sum()"
   ]
  },
  {
   "cell_type": "code",
   "execution_count": 25,
   "metadata": {},
   "outputs": [
    {
     "data": {
      "text/plain": [
       "1.3437522649765015"
      ]
     },
     "execution_count": 25,
     "metadata": {},
     "output_type": "execute_result"
    }
   ],
   "source": [
    "mat1[:2,:2].mean()"
   ]
  },
  {
   "cell_type": "code",
   "execution_count": 39,
   "metadata": {},
   "outputs": [
    {
     "data": {
      "text/plain": [
       "1.7916696866353352"
      ]
     },
     "execution_count": 39,
     "metadata": {},
     "output_type": "execute_result"
    }
   ],
   "source": [
    "mat1[:2,:2].sum()/3"
   ]
  },
  {
   "cell_type": "code",
   "execution_count": 37,
   "metadata": {},
   "outputs": [
    {
     "name": "stdout",
     "output_type": "stream",
     "text": [
      "40.53262174129486\n",
      "34.42948830127716\n",
      "45.536983251571655\n"
     ]
    }
   ],
   "source": [
    "print(mat1.sum())\n",
    "print(mat2.sum())\n",
    "print(mat3.sum())"
   ]
  },
  {
   "cell_type": "code",
   "execution_count": 38,
   "metadata": {},
   "outputs": [
    {
     "data": {
      "text/plain": [
       "array([[1.41000795, 1.98250055, 0.        , 1.30674672, 1.10557485,\n",
       "        0.        , 0.84827095, 0.75366491, 0.55152839, 0.        ,\n",
       "        0.        ],\n",
       "       [1.98250055, 0.        , 0.        , 0.        , 0.        ,\n",
       "        0.        , 0.        , 0.        , 0.        , 2.40311909,\n",
       "        0.        ],\n",
       "       [0.        , 0.        , 0.        , 1.05770314, 0.89487112,\n",
       "        0.        , 0.        , 0.        , 0.        , 1.38342583,\n",
       "        0.        ],\n",
       "       [1.30674672, 0.        , 1.05770314, 0.        , 0.        ,\n",
       "        0.        , 0.        , 0.69847065, 0.51113749, 0.        ,\n",
       "        0.        ],\n",
       "       [1.10557485, 0.        , 0.89487112, 0.        , 0.        ,\n",
       "        0.71728307, 0.        , 0.59094203, 0.        , 0.        ,\n",
       "        0.87307012],\n",
       "       [0.        , 0.        , 0.        , 0.        , 0.71728307,\n",
       "        0.        , 0.        , 1.46690512, 0.        , 0.        ,\n",
       "        0.72241211],\n",
       "       [0.84827095, 0.        , 0.        , 0.        , 0.        ,\n",
       "        0.        , 0.        , 0.        , 0.        , 0.        ,\n",
       "        0.        ],\n",
       "       [0.75366491, 0.        , 0.        , 0.69847065, 0.59094203,\n",
       "        1.46690512, 0.        , 0.        , 0.58959615, 0.        ,\n",
       "        0.        ],\n",
       "       [0.55152839, 0.        , 0.        , 0.51113749, 0.        ,\n",
       "        0.        , 0.        , 0.58959615, 0.        , 0.66854376,\n",
       "        0.43554085],\n",
       "       [0.        , 2.40311909, 1.38342583, 0.        , 0.        ,\n",
       "        0.        , 0.        , 0.        , 0.66854376, 0.        ,\n",
       "        0.        ],\n",
       "       [0.        , 0.        , 0.        , 0.        , 0.87307012,\n",
       "        0.72241211, 0.        , 0.        , 0.43554085, 0.        ,\n",
       "        0.        ]])"
      ]
     },
     "execution_count": 38,
     "metadata": {},
     "output_type": "execute_result"
    }
   ],
   "source": [
    "mat1"
   ]
  },
  {
   "cell_type": "code",
   "execution_count": null,
   "metadata": {},
   "outputs": [],
   "source": []
  },
  {
   "cell_type": "code",
   "execution_count": null,
   "metadata": {},
   "outputs": [],
   "source": []
  }
 ],
 "metadata": {
  "kernelspec": {
   "display_name": "Python 3 (ipykernel)",
   "language": "python",
   "name": "python3"
  },
  "language_info": {
   "codemirror_mode": {
    "name": "ipython",
    "version": 3
   },
   "file_extension": ".py",
   "mimetype": "text/x-python",
   "name": "python",
   "nbconvert_exporter": "python",
   "pygments_lexer": "ipython3",
   "version": "3.7.4"
  }
 },
 "nbformat": 4,
 "nbformat_minor": 4
}
