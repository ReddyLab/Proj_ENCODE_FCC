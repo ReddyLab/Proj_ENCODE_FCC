{
 "cells": [
  {
   "cell_type": "markdown",
   "metadata": {},
   "source": [
    "**Set environment**"
   ]
  },
  {
   "cell_type": "code",
   "execution_count": 1,
   "metadata": {},
   "outputs": [
    {
     "name": "stdout",
     "output_type": "stream",
     "text": [
      "You are in Singularity: singularity_proj_encode_fcc \n",
      "BASE DIRECTORY (FD_BASE): /data/reddylab/Kuei \n",
      "WORK DIRECTORY (FD_WORK): /data/reddylab/Kuei/out \n",
      "CODE DIRECTORY (FD_CODE): /data/reddylab/Kuei/code \n",
      "PATH OF PROJECT (FD_PRJ): /data/reddylab/Kuei/code/Proj_CombEffect_ENCODE_FCC \n",
      "PATH OF RESULTS (FD_RES): /data/reddylab/Kuei/out/proj_combeffect_encode_fcc \n",
      "PATH OF LOG     (FD_LOG): /data/reddylab/Kuei/out/proj_combeffect_encode_fcc/log \n"
     ]
    }
   ],
   "source": [
    "suppressMessages(suppressWarnings(source(\"../config/config_sing.R\")))\n",
    "show_env()"
   ]
  },
  {
   "cell_type": "markdown",
   "metadata": {},
   "source": [
    "## Import data"
   ]
  },
  {
   "cell_type": "markdown",
   "metadata": {},
   "source": [
    "**Check data**"
   ]
  },
  {
   "cell_type": "code",
   "execution_count": 2,
   "metadata": {},
   "outputs": [
    {
     "name": "stdout",
     "output_type": "stream",
     "text": [
      "annotation_ccre \n",
      "annotation_chipseq_histone \n",
      "annotation_chipseq_tf \n",
      "annotation_chipseq_tf_subset \n",
      "annotation_chromHMM \n",
      "annotation_crispri_e2g \n",
      "annotation_crispri_growth \n",
      "annotation_crispri_hcrff \n",
      "annotation_enhancer_junke \n",
      "annotation_enhancer_zscore_junke \n",
      "annotation_hic \n",
      "annotation_tss_pol2 \n",
      "annotation_tss_pol2_span \n",
      "description.tsv \n",
      "enrichment_prepare_annotation \n",
      "enrichment_prepare_score_merge \n",
      "enrichment_prepare_score_split \n",
      "enrichment_results_merge \n",
      "enrichment_results_split \n",
      "KS91_K562_hg38_ASTARRseq_Input.all_reps.masked.union_narrowPeak.q5.bed \n",
      "KS91_K562_hg38_ASTARRseq_Input.all_reps.masked.union_narrowPeak.q5.bed.gz \n",
      "peak.annotation.screen.tsv \n",
      "summary \n",
      "tmp \n"
     ]
    }
   ],
   "source": [
    "fdiry = file.path(FD_RES, \"results\", \"region\", \"KS91_K562_ASTARRseq_peak_macs_input\")\n",
    "for (x in dir(fdiry)){cat(x, \"\\n\")}"
   ]
  },
  {
   "cell_type": "code",
   "execution_count": 3,
   "metadata": {},
   "outputs": [
    {
     "name": "stdout",
     "output_type": "stream",
     "text": [
      "  [1] \"score_merge.astarr.annot.ChIPseq_Histone.H2AFZ_ENCFF213OTI.rds\"               \n",
      "  [2] \"score_merge.astarr.annot.ChIPseq_Histone.H3K27ac_ENCFF544LXB.rds\"             \n",
      "  [3] \"score_merge.astarr.annot.ChIPseq_Histone.H3K27me3_ENCFF323WOT.rds\"            \n",
      "  [4] \"score_merge.astarr.annot.ChIPseq_Histone.H3K27me3_ENCFF801AHF.rds\"            \n",
      "  [5] \"score_merge.astarr.annot.ChIPseq_Histone.H3K36me3_ENCFF193ERO.rds\"            \n",
      "  [6] \"score_merge.astarr.annot.ChIPseq_Histone.H3K36me3_ENCFF561OUZ.rds\"            \n",
      "  [7] \"score_merge.astarr.annot.ChIPseq_Histone.H3K4me1_ENCFF135ZLM.rds\"             \n",
      "  [8] \"score_merge.astarr.annot.ChIPseq_Histone.H3K4me1_ENCFF540NGG.rds\"             \n",
      "  [9] \"score_merge.astarr.annot.ChIPseq_Histone.H3K4me2_ENCFF749KLQ.rds\"             \n",
      " [10] \"score_merge.astarr.annot.ChIPseq_Histone.H3K4me3_ENCFF122CSI.rds\"             \n",
      " [11] \"score_merge.astarr.annot.ChIPseq_Histone.H3K4me3_ENCFF689QIJ.rds\"             \n",
      " [12] \"score_merge.astarr.annot.ChIPseq_Histone.H3K4me3_ENCFF706WUF.rds\"             \n",
      " [13] \"score_merge.astarr.annot.ChIPseq_Histone.H3K4me3_ENCFF885FQN.rds\"             \n",
      " [14] \"score_merge.astarr.annot.ChIPseq_Histone.H3K79me2_ENCFF209OQD.rds\"            \n",
      " [15] \"score_merge.astarr.annot.ChIPseq_Histone.H3K9ac_ENCFF148UQI.rds\"              \n",
      " [16] \"score_merge.astarr.annot.ChIPseq_Histone.H3K9ac_ENCFF891CHI.rds\"              \n",
      " [17] \"score_merge.astarr.annot.ChIPseq_Histone.H3K9me1_ENCFF462AVD.rds\"             \n",
      " [18] \"score_merge.astarr.annot.ChIPseq_Histone.H3K9me3_ENCFF963GZJ.rds\"             \n",
      " [19] \"score_merge.astarr.annot.ChIPseq_Histone.H4K20me1_ENCFF909RKY.rds\"            \n",
      " [20] \"score_merge.atac.annot.ChIPseq_Histone.H2AFZ_ENCFF213OTI.rds\"                 \n",
      " [21] \"score_merge.atac.annot.ChIPseq_Histone.H3K27ac_ENCFF544LXB.rds\"               \n",
      " [22] \"score_merge.atac.annot.ChIPseq_Histone.H3K27me3_ENCFF323WOT.rds\"              \n",
      " [23] \"score_merge.atac.annot.ChIPseq_Histone.H3K27me3_ENCFF801AHF.rds\"              \n",
      " [24] \"score_merge.atac.annot.ChIPseq_Histone.H3K36me3_ENCFF193ERO.rds\"              \n",
      " [25] \"score_merge.atac.annot.ChIPseq_Histone.H3K36me3_ENCFF561OUZ.rds\"              \n",
      " [26] \"score_merge.atac.annot.ChIPseq_Histone.H3K4me1_ENCFF135ZLM.rds\"               \n",
      " [27] \"score_merge.atac.annot.ChIPseq_Histone.H3K4me1_ENCFF540NGG.rds\"               \n",
      " [28] \"score_merge.atac.annot.ChIPseq_Histone.H3K4me2_ENCFF749KLQ.rds\"               \n",
      " [29] \"score_merge.atac.annot.ChIPseq_Histone.H3K4me3_ENCFF122CSI.rds\"               \n",
      " [30] \"score_merge.atac.annot.ChIPseq_Histone.H3K4me3_ENCFF689QIJ.rds\"               \n",
      " [31] \"score_merge.atac.annot.ChIPseq_Histone.H3K4me3_ENCFF706WUF.rds\"               \n",
      " [32] \"score_merge.atac.annot.ChIPseq_Histone.H3K4me3_ENCFF885FQN.rds\"               \n",
      " [33] \"score_merge.atac.annot.ChIPseq_Histone.H3K79me2_ENCFF209OQD.rds\"              \n",
      " [34] \"score_merge.atac.annot.ChIPseq_Histone.H3K9ac_ENCFF148UQI.rds\"                \n",
      " [35] \"score_merge.atac.annot.ChIPseq_Histone.H3K9ac_ENCFF891CHI.rds\"                \n",
      " [36] \"score_merge.atac.annot.ChIPseq_Histone.H3K9me1_ENCFF462AVD.rds\"               \n",
      " [37] \"score_merge.atac.annot.ChIPseq_Histone.H3K9me3_ENCFF963GZJ.rds\"               \n",
      " [38] \"score_merge.atac.annot.ChIPseq_Histone.H4K20me1_ENCFF909RKY.rds\"              \n",
      " [39] \"score_merge.crispri_growth_tot.annot.ChIPseq_Histone.H2AFZ_ENCFF213OTI.rds\"   \n",
      " [40] \"score_merge.crispri_growth_tot.annot.ChIPseq_Histone.H3K27ac_ENCFF544LXB.rds\" \n",
      " [41] \"score_merge.crispri_growth_tot.annot.ChIPseq_Histone.H3K27me3_ENCFF323WOT.rds\"\n",
      " [42] \"score_merge.crispri_growth_tot.annot.ChIPseq_Histone.H3K27me3_ENCFF801AHF.rds\"\n",
      " [43] \"score_merge.crispri_growth_tot.annot.ChIPseq_Histone.H3K36me3_ENCFF193ERO.rds\"\n",
      " [44] \"score_merge.crispri_growth_tot.annot.ChIPseq_Histone.H3K36me3_ENCFF561OUZ.rds\"\n",
      " [45] \"score_merge.crispri_growth_tot.annot.ChIPseq_Histone.H3K4me1_ENCFF135ZLM.rds\" \n",
      " [46] \"score_merge.crispri_growth_tot.annot.ChIPseq_Histone.H3K4me1_ENCFF540NGG.rds\" \n",
      " [47] \"score_merge.crispri_growth_tot.annot.ChIPseq_Histone.H3K4me2_ENCFF749KLQ.rds\" \n",
      " [48] \"score_merge.crispri_growth_tot.annot.ChIPseq_Histone.H3K4me3_ENCFF122CSI.rds\" \n",
      " [49] \"score_merge.crispri_growth_tot.annot.ChIPseq_Histone.H3K4me3_ENCFF689QIJ.rds\" \n",
      " [50] \"score_merge.crispri_growth_tot.annot.ChIPseq_Histone.H3K4me3_ENCFF706WUF.rds\" \n",
      " [51] \"score_merge.crispri_growth_tot.annot.ChIPseq_Histone.H3K4me3_ENCFF885FQN.rds\" \n",
      " [52] \"score_merge.crispri_growth_tot.annot.ChIPseq_Histone.H3K79me2_ENCFF209OQD.rds\"\n",
      " [53] \"score_merge.crispri_growth_tot.annot.ChIPseq_Histone.H3K9ac_ENCFF148UQI.rds\"  \n",
      " [54] \"score_merge.crispri_growth_tot.annot.ChIPseq_Histone.H3K9ac_ENCFF891CHI.rds\"  \n",
      " [55] \"score_merge.crispri_growth_tot.annot.ChIPseq_Histone.H3K9me1_ENCFF462AVD.rds\" \n",
      " [56] \"score_merge.crispri_growth_tot.annot.ChIPseq_Histone.H3K9me3_ENCFF963GZJ.rds\" \n",
      " [57] \"score_merge.crispri_growth_tot.annot.ChIPseq_Histone.H4K20me1_ENCFF909RKY.rds\"\n",
      " [58] \"score_merge.crispri_hcrff_tot.annot.ChIPseq_Histone.H2AFZ_ENCFF213OTI.rds\"    \n",
      " [59] \"score_merge.crispri_hcrff_tot.annot.ChIPseq_Histone.H3K27ac_ENCFF544LXB.rds\"  \n",
      " [60] \"score_merge.crispri_hcrff_tot.annot.ChIPseq_Histone.H3K27me3_ENCFF323WOT.rds\" \n",
      " [61] \"score_merge.crispri_hcrff_tot.annot.ChIPseq_Histone.H3K27me3_ENCFF801AHF.rds\" \n",
      " [62] \"score_merge.crispri_hcrff_tot.annot.ChIPseq_Histone.H3K36me3_ENCFF193ERO.rds\" \n",
      " [63] \"score_merge.crispri_hcrff_tot.annot.ChIPseq_Histone.H3K36me3_ENCFF561OUZ.rds\" \n",
      " [64] \"score_merge.crispri_hcrff_tot.annot.ChIPseq_Histone.H3K4me1_ENCFF135ZLM.rds\"  \n",
      " [65] \"score_merge.crispri_hcrff_tot.annot.ChIPseq_Histone.H3K4me1_ENCFF540NGG.rds\"  \n",
      " [66] \"score_merge.crispri_hcrff_tot.annot.ChIPseq_Histone.H3K4me2_ENCFF749KLQ.rds\"  \n",
      " [67] \"score_merge.crispri_hcrff_tot.annot.ChIPseq_Histone.H3K4me3_ENCFF122CSI.rds\"  \n",
      " [68] \"score_merge.crispri_hcrff_tot.annot.ChIPseq_Histone.H3K4me3_ENCFF689QIJ.rds\"  \n",
      " [69] \"score_merge.crispri_hcrff_tot.annot.ChIPseq_Histone.H3K4me3_ENCFF706WUF.rds\"  \n",
      " [70] \"score_merge.crispri_hcrff_tot.annot.ChIPseq_Histone.H3K4me3_ENCFF885FQN.rds\"  \n",
      " [71] \"score_merge.crispri_hcrff_tot.annot.ChIPseq_Histone.H3K79me2_ENCFF209OQD.rds\" \n",
      " [72] \"score_merge.crispri_hcrff_tot.annot.ChIPseq_Histone.H3K9ac_ENCFF148UQI.rds\"   \n",
      " [73] \"score_merge.crispri_hcrff_tot.annot.ChIPseq_Histone.H3K9ac_ENCFF891CHI.rds\"   \n",
      " [74] \"score_merge.crispri_hcrff_tot.annot.ChIPseq_Histone.H3K9me1_ENCFF462AVD.rds\"  \n",
      " [75] \"score_merge.crispri_hcrff_tot.annot.ChIPseq_Histone.H3K9me3_ENCFF963GZJ.rds\"  \n",
      " [76] \"score_merge.crispri_hcrff_tot.annot.ChIPseq_Histone.H4K20me1_ENCFF909RKY.rds\" \n",
      " [77] \"score_merge.lmpra_tot.annot.ChIPseq_Histone.H2AFZ_ENCFF213OTI.rds\"            \n",
      " [78] \"score_merge.lmpra_tot.annot.ChIPseq_Histone.H3K27ac_ENCFF544LXB.rds\"          \n",
      " [79] \"score_merge.lmpra_tot.annot.ChIPseq_Histone.H3K27me3_ENCFF323WOT.rds\"         \n",
      " [80] \"score_merge.lmpra_tot.annot.ChIPseq_Histone.H3K27me3_ENCFF801AHF.rds\"         \n",
      " [81] \"score_merge.lmpra_tot.annot.ChIPseq_Histone.H3K36me3_ENCFF193ERO.rds\"         \n",
      " [82] \"score_merge.lmpra_tot.annot.ChIPseq_Histone.H3K36me3_ENCFF561OUZ.rds\"         \n",
      " [83] \"score_merge.lmpra_tot.annot.ChIPseq_Histone.H3K4me1_ENCFF135ZLM.rds\"          \n",
      " [84] \"score_merge.lmpra_tot.annot.ChIPseq_Histone.H3K4me1_ENCFF540NGG.rds\"          \n",
      " [85] \"score_merge.lmpra_tot.annot.ChIPseq_Histone.H3K4me2_ENCFF749KLQ.rds\"          \n",
      " [86] \"score_merge.lmpra_tot.annot.ChIPseq_Histone.H3K4me3_ENCFF122CSI.rds\"          \n",
      " [87] \"score_merge.lmpra_tot.annot.ChIPseq_Histone.H3K4me3_ENCFF689QIJ.rds\"          \n",
      " [88] \"score_merge.lmpra_tot.annot.ChIPseq_Histone.H3K4me3_ENCFF706WUF.rds\"          \n",
      " [89] \"score_merge.lmpra_tot.annot.ChIPseq_Histone.H3K4me3_ENCFF885FQN.rds\"          \n",
      " [90] \"score_merge.lmpra_tot.annot.ChIPseq_Histone.H3K79me2_ENCFF209OQD.rds\"         \n",
      " [91] \"score_merge.lmpra_tot.annot.ChIPseq_Histone.H3K9ac_ENCFF148UQI.rds\"           \n",
      " [92] \"score_merge.lmpra_tot.annot.ChIPseq_Histone.H3K9ac_ENCFF891CHI.rds\"           \n",
      " [93] \"score_merge.lmpra_tot.annot.ChIPseq_Histone.H3K9me1_ENCFF462AVD.rds\"          \n",
      " [94] \"score_merge.lmpra_tot.annot.ChIPseq_Histone.H3K9me3_ENCFF963GZJ.rds\"          \n",
      " [95] \"score_merge.lmpra_tot.annot.ChIPseq_Histone.H4K20me1_ENCFF909RKY.rds\"         \n",
      " [96] \"score_merge.overall.annot.ChIPseq_Histone.H2AFZ_ENCFF213OTI.rds\"              \n",
      " [97] \"score_merge.overall.annot.ChIPseq_Histone.H3K27ac_ENCFF544LXB.rds\"            \n",
      " [98] \"score_merge.overall.annot.ChIPseq_Histone.H3K27me3_ENCFF323WOT.rds\"           \n",
      " [99] \"score_merge.overall.annot.ChIPseq_Histone.H3K27me3_ENCFF801AHF.rds\"           \n",
      "[100] \"score_merge.overall.annot.ChIPseq_Histone.H3K36me3_ENCFF193ERO.rds\"           \n",
      "[101] \"score_merge.overall.annot.ChIPseq_Histone.H3K36me3_ENCFF561OUZ.rds\"           \n",
      "[102] \"score_merge.overall.annot.ChIPseq_Histone.H3K4me1_ENCFF135ZLM.rds\"            \n",
      "[103] \"score_merge.overall.annot.ChIPseq_Histone.H3K4me1_ENCFF540NGG.rds\"            \n",
      "[104] \"score_merge.overall.annot.ChIPseq_Histone.H3K4me2_ENCFF749KLQ.rds\"            \n",
      "[105] \"score_merge.overall.annot.ChIPseq_Histone.H3K4me3_ENCFF122CSI.rds\"            \n",
      "[106] \"score_merge.overall.annot.ChIPseq_Histone.H3K4me3_ENCFF689QIJ.rds\"            \n",
      "[107] \"score_merge.overall.annot.ChIPseq_Histone.H3K4me3_ENCFF706WUF.rds\"            \n",
      "[108] \"score_merge.overall.annot.ChIPseq_Histone.H3K4me3_ENCFF885FQN.rds\"            \n",
      "[109] \"score_merge.overall.annot.ChIPseq_Histone.H3K79me2_ENCFF209OQD.rds\"           \n",
      "[110] \"score_merge.overall.annot.ChIPseq_Histone.H3K9ac_ENCFF148UQI.rds\"             \n",
      "[111] \"score_merge.overall.annot.ChIPseq_Histone.H3K9ac_ENCFF891CHI.rds\"             \n",
      "[112] \"score_merge.overall.annot.ChIPseq_Histone.H3K9me1_ENCFF462AVD.rds\"            \n",
      "[113] \"score_merge.overall.annot.ChIPseq_Histone.H3K9me3_ENCFF963GZJ.rds\"            \n",
      "[114] \"score_merge.overall.annot.ChIPseq_Histone.H4K20me1_ENCFF909RKY.rds\"           \n",
      "[115] \"score_merge.tmpra.annot.ChIPseq_Histone.H2AFZ_ENCFF213OTI.rds\"                \n",
      "[116] \"score_merge.tmpra.annot.ChIPseq_Histone.H3K27ac_ENCFF544LXB.rds\"              \n",
      "[117] \"score_merge.tmpra.annot.ChIPseq_Histone.H3K27me3_ENCFF323WOT.rds\"             \n",
      "[118] \"score_merge.tmpra.annot.ChIPseq_Histone.H3K27me3_ENCFF801AHF.rds\"             \n",
      "[119] \"score_merge.tmpra.annot.ChIPseq_Histone.H3K36me3_ENCFF193ERO.rds\"             \n",
      "[120] \"score_merge.tmpra.annot.ChIPseq_Histone.H3K36me3_ENCFF561OUZ.rds\"             \n",
      "[121] \"score_merge.tmpra.annot.ChIPseq_Histone.H3K4me1_ENCFF135ZLM.rds\"              \n",
      "[122] \"score_merge.tmpra.annot.ChIPseq_Histone.H3K4me1_ENCFF540NGG.rds\"              \n",
      "[123] \"score_merge.tmpra.annot.ChIPseq_Histone.H3K4me2_ENCFF749KLQ.rds\"              \n",
      "[124] \"score_merge.tmpra.annot.ChIPseq_Histone.H3K4me3_ENCFF122CSI.rds\"              \n",
      "[125] \"score_merge.tmpra.annot.ChIPseq_Histone.H3K4me3_ENCFF689QIJ.rds\"              \n",
      "[126] \"score_merge.tmpra.annot.ChIPseq_Histone.H3K4me3_ENCFF706WUF.rds\"              \n",
      "[127] \"score_merge.tmpra.annot.ChIPseq_Histone.H3K4me3_ENCFF885FQN.rds\"              \n",
      "[128] \"score_merge.tmpra.annot.ChIPseq_Histone.H3K79me2_ENCFF209OQD.rds\"             \n",
      "[129] \"score_merge.tmpra.annot.ChIPseq_Histone.H3K9ac_ENCFF148UQI.rds\"               \n",
      "[130] \"score_merge.tmpra.annot.ChIPseq_Histone.H3K9ac_ENCFF891CHI.rds\"               \n",
      "[131] \"score_merge.tmpra.annot.ChIPseq_Histone.H3K9me1_ENCFF462AVD.rds\"              \n",
      "[132] \"score_merge.tmpra.annot.ChIPseq_Histone.H3K9me3_ENCFF963GZJ.rds\"              \n",
      "[133] \"score_merge.tmpra.annot.ChIPseq_Histone.H4K20me1_ENCFF909RKY.rds\"             \n",
      "[134] \"score_merge.wstarr.annot.ChIPseq_Histone.H2AFZ_ENCFF213OTI.rds\"               \n",
      "[135] \"score_merge.wstarr.annot.ChIPseq_Histone.H3K27ac_ENCFF544LXB.rds\"             \n",
      "[136] \"score_merge.wstarr.annot.ChIPseq_Histone.H3K27me3_ENCFF323WOT.rds\"            \n",
      "[137] \"score_merge.wstarr.annot.ChIPseq_Histone.H3K27me3_ENCFF801AHF.rds\"            \n",
      "[138] \"score_merge.wstarr.annot.ChIPseq_Histone.H3K36me3_ENCFF193ERO.rds\"            \n",
      "[139] \"score_merge.wstarr.annot.ChIPseq_Histone.H3K36me3_ENCFF561OUZ.rds\"            \n",
      "[140] \"score_merge.wstarr.annot.ChIPseq_Histone.H3K4me1_ENCFF135ZLM.rds\"             \n",
      "[141] \"score_merge.wstarr.annot.ChIPseq_Histone.H3K4me1_ENCFF540NGG.rds\"             \n",
      "[142] \"score_merge.wstarr.annot.ChIPseq_Histone.H3K4me2_ENCFF749KLQ.rds\"             \n",
      "[143] \"score_merge.wstarr.annot.ChIPseq_Histone.H3K4me3_ENCFF122CSI.rds\"             \n",
      "[144] \"score_merge.wstarr.annot.ChIPseq_Histone.H3K4me3_ENCFF689QIJ.rds\"             \n",
      "[145] \"score_merge.wstarr.annot.ChIPseq_Histone.H3K4me3_ENCFF706WUF.rds\"             \n",
      "[146] \"score_merge.wstarr.annot.ChIPseq_Histone.H3K4me3_ENCFF885FQN.rds\"             \n",
      "[147] \"score_merge.wstarr.annot.ChIPseq_Histone.H3K79me2_ENCFF209OQD.rds\"            \n",
      "[148] \"score_merge.wstarr.annot.ChIPseq_Histone.H3K9ac_ENCFF148UQI.rds\"              \n",
      "[149] \"score_merge.wstarr.annot.ChIPseq_Histone.H3K9ac_ENCFF891CHI.rds\"              \n",
      "[150] \"score_merge.wstarr.annot.ChIPseq_Histone.H3K9me1_ENCFF462AVD.rds\"             \n",
      "[151] \"score_merge.wstarr.annot.ChIPseq_Histone.H3K9me3_ENCFF963GZJ.rds\"             \n",
      "[152] \"score_merge.wstarr.annot.ChIPseq_Histone.H4K20me1_ENCFF909RKY.rds\"            \n"
     ]
    }
   ],
   "source": [
    "fdiry = file.path(\n",
    "    FD_RES, \"results\", \"region\", \n",
    "    \"KS91_K562_ASTARRseq_peak_macs_input\", \n",
    "    \"enrichment_results_merge\",\n",
    "    \"annotation_chipseq_histone\"\n",
    ")\n",
    "fnames = dir(fdiry)\n",
    "print(fnames)"
   ]
  },
  {
   "cell_type": "markdown",
   "metadata": {},
   "source": [
    "## Import enrichment results"
   ]
  },
  {
   "cell_type": "code",
   "execution_count": 4,
   "metadata": {},
   "outputs": [
    {
     "name": "stdout",
     "output_type": "stream",
     "text": [
      "[1] 781   9\n"
     ]
    },
    {
     "data": {
      "text/html": [
       "<table class=\"dataframe\">\n",
       "<caption>A data.frame: 6 × 9</caption>\n",
       "<thead>\n",
       "\t<tr><th></th><th scope=col>Annotation</th><th scope=col>Label</th><th scope=col>pval</th><th scope=col>padj</th><th scope=col>log2err</th><th scope=col>ES</th><th scope=col>NES</th><th scope=col>size</th><th scope=col>nLogP</th></tr>\n",
       "\t<tr><th></th><th scope=col>&lt;chr&gt;</th><th scope=col>&lt;chr&gt;</th><th scope=col>&lt;dbl&gt;</th><th scope=col>&lt;dbl&gt;</th><th scope=col>&lt;dbl&gt;</th><th scope=col>&lt;dbl&gt;</th><th scope=col>&lt;dbl&gt;</th><th scope=col>&lt;int&gt;</th><th scope=col>&lt;dbl&gt;</th></tr>\n",
       "</thead>\n",
       "<tbody>\n",
       "\t<tr><th scope=row>1</th><td>ccre_v3</td><td>CTCF-only,CTCF-bound    </td><td>2.897103e-02</td><td>3.274439e-02</td><td>0.26635066</td><td>0.3094418</td><td>1.414557</td><td>78</td><td> 1.484863</td></tr>\n",
       "\t<tr><th scope=row>2</th><td>ccre_v3</td><td>dELS,CTCF-bound         </td><td>1.038735e-02</td><td>1.209020e-02</td><td>0.38073040</td><td>0.4823140</td><td>1.766232</td><td>19</td><td> 1.917567</td></tr>\n",
       "\t<tr><th scope=row>3</th><td>ccre_v3</td><td>dELS                    </td><td>1.205282e-12</td><td>2.736412e-12</td><td>0.91011973</td><td>0.5170577</td><td>2.406543</td><td>94</td><td>11.562819</td></tr>\n",
       "\t<tr><th scope=row>4</th><td>ccre_v3</td><td>DNase-H3K4me3,CTCF-bound</td><td>1.472158e-02</td><td>1.698309e-02</td><td>0.38073040</td><td>0.5601636</td><td>1.785218</td><td>10</td><td> 1.769983</td></tr>\n",
       "\t<tr><th scope=row>5</th><td>ccre_v3</td><td>DNase-H3K4me3           </td><td>1.808192e-01</td><td>1.916144e-01</td><td>0.09721508</td><td>0.3959064</td><td>1.320317</td><td>12</td><td> 0.717572</td></tr>\n",
       "\t<tr><th scope=row>6</th><td>ccre_v3</td><td>DNase-only              </td><td>1.967574e-02</td><td>2.259817e-02</td><td>0.35248786</td><td>0.3666739</td><td>1.572389</td><td>48</td><td> 1.645927</td></tr>\n",
       "</tbody>\n",
       "</table>\n"
      ],
      "text/latex": [
       "A data.frame: 6 × 9\n",
       "\\begin{tabular}{r|lllllllll}\n",
       "  & Annotation & Label & pval & padj & log2err & ES & NES & size & nLogP\\\\\n",
       "  & <chr> & <chr> & <dbl> & <dbl> & <dbl> & <dbl> & <dbl> & <int> & <dbl>\\\\\n",
       "\\hline\n",
       "\t1 & ccre\\_v3 & CTCF-only,CTCF-bound     & 2.897103e-02 & 3.274439e-02 & 0.26635066 & 0.3094418 & 1.414557 & 78 &  1.484863\\\\\n",
       "\t2 & ccre\\_v3 & dELS,CTCF-bound          & 1.038735e-02 & 1.209020e-02 & 0.38073040 & 0.4823140 & 1.766232 & 19 &  1.917567\\\\\n",
       "\t3 & ccre\\_v3 & dELS                     & 1.205282e-12 & 2.736412e-12 & 0.91011973 & 0.5170577 & 2.406543 & 94 & 11.562819\\\\\n",
       "\t4 & ccre\\_v3 & DNase-H3K4me3,CTCF-bound & 1.472158e-02 & 1.698309e-02 & 0.38073040 & 0.5601636 & 1.785218 & 10 &  1.769983\\\\\n",
       "\t5 & ccre\\_v3 & DNase-H3K4me3            & 1.808192e-01 & 1.916144e-01 & 0.09721508 & 0.3959064 & 1.320317 & 12 &  0.717572\\\\\n",
       "\t6 & ccre\\_v3 & DNase-only               & 1.967574e-02 & 2.259817e-02 & 0.35248786 & 0.3666739 & 1.572389 & 48 &  1.645927\\\\\n",
       "\\end{tabular}\n"
      ],
      "text/markdown": [
       "\n",
       "A data.frame: 6 × 9\n",
       "\n",
       "| <!--/--> | Annotation &lt;chr&gt; | Label &lt;chr&gt; | pval &lt;dbl&gt; | padj &lt;dbl&gt; | log2err &lt;dbl&gt; | ES &lt;dbl&gt; | NES &lt;dbl&gt; | size &lt;int&gt; | nLogP &lt;dbl&gt; |\n",
       "|---|---|---|---|---|---|---|---|---|---|\n",
       "| 1 | ccre_v3 | CTCF-only,CTCF-bound     | 2.897103e-02 | 3.274439e-02 | 0.26635066 | 0.3094418 | 1.414557 | 78 |  1.484863 |\n",
       "| 2 | ccre_v3 | dELS,CTCF-bound          | 1.038735e-02 | 1.209020e-02 | 0.38073040 | 0.4823140 | 1.766232 | 19 |  1.917567 |\n",
       "| 3 | ccre_v3 | dELS                     | 1.205282e-12 | 2.736412e-12 | 0.91011973 | 0.5170577 | 2.406543 | 94 | 11.562819 |\n",
       "| 4 | ccre_v3 | DNase-H3K4me3,CTCF-bound | 1.472158e-02 | 1.698309e-02 | 0.38073040 | 0.5601636 | 1.785218 | 10 |  1.769983 |\n",
       "| 5 | ccre_v3 | DNase-H3K4me3            | 1.808192e-01 | 1.916144e-01 | 0.09721508 | 0.3959064 | 1.320317 | 12 |  0.717572 |\n",
       "| 6 | ccre_v3 | DNase-only               | 1.967574e-02 | 2.259817e-02 | 0.35248786 | 0.3666739 | 1.572389 | 48 |  1.645927 |\n",
       "\n"
      ],
      "text/plain": [
       "  Annotation Label                    pval         padj         log2err   \n",
       "1 ccre_v3    CTCF-only,CTCF-bound     2.897103e-02 3.274439e-02 0.26635066\n",
       "2 ccre_v3    dELS,CTCF-bound          1.038735e-02 1.209020e-02 0.38073040\n",
       "3 ccre_v3    dELS                     1.205282e-12 2.736412e-12 0.91011973\n",
       "4 ccre_v3    DNase-H3K4me3,CTCF-bound 1.472158e-02 1.698309e-02 0.38073040\n",
       "5 ccre_v3    DNase-H3K4me3            1.808192e-01 1.916144e-01 0.09721508\n",
       "6 ccre_v3    DNase-only               1.967574e-02 2.259817e-02 0.35248786\n",
       "  ES        NES      size nLogP    \n",
       "1 0.3094418 1.414557 78    1.484863\n",
       "2 0.4823140 1.766232 19    1.917567\n",
       "3 0.5170577 2.406543 94   11.562819\n",
       "4 0.5601636 1.785218 10    1.769983\n",
       "5 0.3959064 1.320317 12    0.717572\n",
       "6 0.3666739 1.572389 48    1.645927"
      ]
     },
     "metadata": {},
     "output_type": "display_data"
    }
   ],
   "source": [
    "FOLDERS=c(\n",
    "    \"annotation_genomic\",\n",
    "    \"annotation_chipseq_histone\",\n",
    "    \"annotation_chipseq_tf\"\n",
    ")\n",
    "\n",
    "lst = lapply(FOLDERS, function(folder){\n",
    "    fdiry = file.path(\n",
    "        FD_RES, \"results\", \"region\", \n",
    "        \"KS91_K562_ASTARRseq_peak_macs_input\", \n",
    "        \"enrichment_results_merge\",\n",
    "        folder\n",
    "    )\n",
    "    fname  = \"score_merge.overall.*\"\n",
    "    fglob  = file.path(fdiry, fname)\n",
    "    fpaths = Sys.glob(fglob)\n",
    "    \n",
    "    lst = lapply(fpaths, function(fpath){\n",
    "        dat = readRDS(fpath)\n",
    "        return(dat)\n",
    "    })\n",
    "\n",
    "    dat = bind_rows(lst)\n",
    "    return(dat)\n",
    "})\n",
    "\n",
    "dat = bind_rows(lst)\n",
    "dat = dat %>% \n",
    "    dplyr::select(pathway, pval, padj, log2err, ES, NES, size) %>%\n",
    "    tidyr::separate(col=pathway, into=c(\"Annotation\", \"Label\"), sep=\":\") %>%\n",
    "    dplyr::mutate(padj  = p.adjust(pval, \"BH\")) %>%\n",
    "    dplyr::mutate(nLogP = -log10(padj))\n",
    "\n",
    "dat_enrich_overall = dat\n",
    "print(dim(dat))\n",
    "head(dat)"
   ]
  },
  {
   "cell_type": "markdown",
   "metadata": {},
   "source": [
    "## Save results"
   ]
  },
  {
   "cell_type": "code",
   "execution_count": 5,
   "metadata": {},
   "outputs": [],
   "source": [
    "fdiry = file.path(\n",
    "    FD_RES, \n",
    "    \"results\", \n",
    "    \"region\", \n",
    "    \"KS91_K562_ASTARRseq_peak_macs_input\", \n",
    "    \"enrichment_results_merge\",\n",
    "    \"summary\")\n",
    "fname = \"results.enrich.merge.overall.tsv\"\n",
    "fpath = file.path(fdiry, fname)\n",
    "\n",
    "dat = dat_enrich_overall\n",
    "write_tsv(dat, fpath)"
   ]
  },
  {
   "cell_type": "code",
   "execution_count": null,
   "metadata": {},
   "outputs": [],
   "source": []
  },
  {
   "cell_type": "code",
   "execution_count": null,
   "metadata": {},
   "outputs": [],
   "source": []
  },
  {
   "cell_type": "code",
   "execution_count": null,
   "metadata": {},
   "outputs": [],
   "source": []
  },
  {
   "cell_type": "code",
   "execution_count": null,
   "metadata": {},
   "outputs": [],
   "source": []
  },
  {
   "cell_type": "code",
   "execution_count": null,
   "metadata": {},
   "outputs": [],
   "source": []
  },
  {
   "cell_type": "code",
   "execution_count": null,
   "metadata": {},
   "outputs": [],
   "source": []
  },
  {
   "cell_type": "code",
   "execution_count": null,
   "metadata": {},
   "outputs": [],
   "source": []
  },
  {
   "cell_type": "code",
   "execution_count": null,
   "metadata": {},
   "outputs": [],
   "source": []
  },
  {
   "cell_type": "code",
   "execution_count": null,
   "metadata": {},
   "outputs": [],
   "source": []
  },
  {
   "cell_type": "code",
   "execution_count": null,
   "metadata": {},
   "outputs": [],
   "source": []
  },
  {
   "cell_type": "code",
   "execution_count": null,
   "metadata": {},
   "outputs": [],
   "source": []
  },
  {
   "cell_type": "code",
   "execution_count": null,
   "metadata": {},
   "outputs": [],
   "source": []
  },
  {
   "cell_type": "code",
   "execution_count": null,
   "metadata": {},
   "outputs": [],
   "source": []
  },
  {
   "cell_type": "code",
   "execution_count": null,
   "metadata": {},
   "outputs": [],
   "source": []
  },
  {
   "cell_type": "code",
   "execution_count": 10,
   "metadata": {},
   "outputs": [
    {
     "name": "stdout",
     "output_type": "stream",
     "text": [
      "[1] 88\n"
     ]
    }
   ],
   "source": [
    "fdiry  = file.path(FD_RES, \"results\", \"region\", \"KS91_K562_ASTARRseq_peak_macs_input\", \"enrichment_results_merge\")\n",
    "fname  = \"score_merge.overall.*\"\n",
    "fglob  = file.path(fdiry, fname)\n",
    "fpaths = Sys.glob(fglob)\n",
    "print(length(fpaths))\n",
    "#basename(fpaths)"
   ]
  },
  {
   "cell_type": "code",
   "execution_count": 5,
   "metadata": {},
   "outputs": [
    {
     "name": "stdout",
     "output_type": "stream",
     "text": [
      "[1] 733\n"
     ]
    }
   ],
   "source": [
    "fdiry  = file.path(FD_RES, \"results\", \"region\", \"KS91_K562_ASTARRseq_peak_macs_input\", \"enrichment_results_merge_chipseq_tf\")\n",
    "fname  = \"score_merge_overall_*\"\n",
    "fglob  = file.path(fdiry, fname)\n",
    "fpaths = Sys.glob(fglob)\n",
    "print(length(fpaths))\n",
    "#basename(fpaths)"
   ]
  },
  {
   "cell_type": "code",
   "execution_count": 17,
   "metadata": {},
   "outputs": [
    {
     "name": "stdout",
     "output_type": "stream",
     "text": [
      "[1] \"/data/reddylab/Kuei/out/proj_combeffect_encode_fcc/results/region/KS91_K562_ASTARRseq_peak_macs_input/enrichment_results_merge/score_merge_overall_annot_ccre_v3_CTCF_only_CTCF_bound.rds\"\n",
      "[1] \"/data/reddylab/Kuei/out/proj_combeffect_encode_fcc/results/region/KS91_K562_ASTARRseq_peak_macs_input/enrichment_results_merge/score_merge_overall_annot.ccre_v3.CTCF_only_CTCF_bound.rds\"\n"
     ]
    }
   ],
   "source": [
    "print(fpaths[1])\n",
    "print(fpaths[2])"
   ]
  },
  {
   "cell_type": "code",
   "execution_count": 18,
   "metadata": {},
   "outputs": [
    {
     "data": {
      "text/html": [
       "FALSE"
      ],
      "text/latex": [
       "FALSE"
      ],
      "text/markdown": [
       "FALSE"
      ],
      "text/plain": [
       "[1] FALSE"
      ]
     },
     "metadata": {},
     "output_type": "display_data"
    }
   ],
   "source": [
    "fpaths[1] == fpaths[2]"
   ]
  },
  {
   "cell_type": "code",
   "execution_count": 19,
   "metadata": {},
   "outputs": [
    {
     "data": {
      "text/html": [
       "'score_merge_overall_annot_ccre_v3_CTCF_only_CTCF_bound.rds'"
      ],
      "text/latex": [
       "'score\\_merge\\_overall\\_annot\\_ccre\\_v3\\_CTCF\\_only\\_CTCF\\_bound.rds'"
      ],
      "text/markdown": [
       "'score_merge_overall_annot_ccre_v3_CTCF_only_CTCF_bound.rds'"
      ],
      "text/plain": [
       "[1] \"score_merge_overall_annot_ccre_v3_CTCF_only_CTCF_bound.rds\""
      ]
     },
     "metadata": {},
     "output_type": "display_data"
    }
   ],
   "source": [
    "basename(fpaths[1])"
   ]
  },
  {
   "cell_type": "code",
   "execution_count": 20,
   "metadata": {},
   "outputs": [
    {
     "data": {
      "text/html": [
       "'score_merge_overall_annot.ccre_v3.CTCF_only_CTCF_bound.rds'"
      ],
      "text/latex": [
       "'score\\_merge\\_overall\\_annot.ccre\\_v3.CTCF\\_only\\_CTCF\\_bound.rds'"
      ],
      "text/markdown": [
       "'score_merge_overall_annot.ccre_v3.CTCF_only_CTCF_bound.rds'"
      ],
      "text/plain": [
       "[1] \"score_merge_overall_annot.ccre_v3.CTCF_only_CTCF_bound.rds\""
      ]
     },
     "metadata": {},
     "output_type": "display_data"
    }
   ],
   "source": [
    "basename(fpaths[2])"
   ]
  },
  {
   "cell_type": "code",
   "execution_count": 14,
   "metadata": {},
   "outputs": [
    {
     "name": "stdout",
     "output_type": "stream",
     "text": [
      "[1] 88\n",
      "[1] \"/data/reddylab/Kuei/out/proj_combeffect_encode_fcc/results/region/KS91_K562_ASTARRseq_peak_macs_input/enrichment_results_merge/score_merge_overall_annot_ccre_v3_CTCF_only_CTCF_bound.rds\"\n",
      "[1] 0 8\n",
      "[1] \"/data/reddylab/Kuei/out/proj_combeffect_encode_fcc/results/region/KS91_K562_ASTARRseq_peak_macs_input/enrichment_results_merge/score_merge_overall_annot.ccre_v3.CTCF_only_CTCF_bound.rds\"\n",
      "[1] 1 8\n",
      "[1] \"/data/reddylab/Kuei/out/proj_combeffect_encode_fcc/results/region/KS91_K562_ASTARRseq_peak_macs_input/enrichment_results_merge/score_merge_overall_annot_ccre_v3_dELS_CTCF_bound.rds\"\n",
      "[1] 0 8\n",
      "[1] \"/data/reddylab/Kuei/out/proj_combeffect_encode_fcc/results/region/KS91_K562_ASTARRseq_peak_macs_input/enrichment_results_merge/score_merge_overall_annot.ccre_v3.dELS_CTCF_bound.rds\"\n",
      "[1] 1 8\n",
      "[1] \"/data/reddylab/Kuei/out/proj_combeffect_encode_fcc/results/region/KS91_K562_ASTARRseq_peak_macs_input/enrichment_results_merge/score_merge_overall_annot_ccre_v3_dELS.rds\"\n",
      "[1] 0 8\n",
      "[1] \"/data/reddylab/Kuei/out/proj_combeffect_encode_fcc/results/region/KS91_K562_ASTARRseq_peak_macs_input/enrichment_results_merge/score_merge_overall_annot.ccre_v3.dELS.rds\"\n",
      "[1] 1 8\n",
      "[1] \"/data/reddylab/Kuei/out/proj_combeffect_encode_fcc/results/region/KS91_K562_ASTARRseq_peak_macs_input/enrichment_results_merge/score_merge_overall_annot_ccre_v3_DNase_H3K4me3_CTCF_bound.rds\"\n",
      "[1] 0 8\n",
      "[1] \"/data/reddylab/Kuei/out/proj_combeffect_encode_fcc/results/region/KS91_K562_ASTARRseq_peak_macs_input/enrichment_results_merge/score_merge_overall_annot.ccre_v3.DNase_H3K4me3_CTCF_bound.rds\"\n",
      "[1] 1 8\n",
      "[1] \"/data/reddylab/Kuei/out/proj_combeffect_encode_fcc/results/region/KS91_K562_ASTARRseq_peak_macs_input/enrichment_results_merge/score_merge_overall_annot_ccre_v3_DNase_H3K4me3.rds\"\n",
      "[1] 0 8\n",
      "[1] \"/data/reddylab/Kuei/out/proj_combeffect_encode_fcc/results/region/KS91_K562_ASTARRseq_peak_macs_input/enrichment_results_merge/score_merge_overall_annot.ccre_v3.DNase_H3K4me3.rds\"\n",
      "[1] 1 8\n",
      "[1] \"/data/reddylab/Kuei/out/proj_combeffect_encode_fcc/results/region/KS91_K562_ASTARRseq_peak_macs_input/enrichment_results_merge/score_merge_overall_annot_ccre_v3_DNase_only.rds\"\n",
      "[1] 0 8\n",
      "[1] \"/data/reddylab/Kuei/out/proj_combeffect_encode_fcc/results/region/KS91_K562_ASTARRseq_peak_macs_input/enrichment_results_merge/score_merge_overall_annot.ccre_v3.DNase_only.rds\"\n",
      "[1] 1 8\n",
      "[1] \"/data/reddylab/Kuei/out/proj_combeffect_encode_fcc/results/region/KS91_K562_ASTARRseq_peak_macs_input/enrichment_results_merge/score_merge_overall_annot_ccre_v3_Low_DNase.rds\"\n",
      "[1] 0 8\n",
      "[1] \"/data/reddylab/Kuei/out/proj_combeffect_encode_fcc/results/region/KS91_K562_ASTARRseq_peak_macs_input/enrichment_results_merge/score_merge_overall_annot.ccre_v3.Low_DNase.rds\"\n",
      "[1] 1 8\n",
      "[1] \"/data/reddylab/Kuei/out/proj_combeffect_encode_fcc/results/region/KS91_K562_ASTARRseq_peak_macs_input/enrichment_results_merge/score_merge_overall_annot_ccre_v3_pELS_CTCF_bound.rds\"\n",
      "[1] 0 8\n",
      "[1] \"/data/reddylab/Kuei/out/proj_combeffect_encode_fcc/results/region/KS91_K562_ASTARRseq_peak_macs_input/enrichment_results_merge/score_merge_overall_annot.ccre_v3.pELS_CTCF_bound.rds\"\n",
      "[1] 1 8\n",
      "[1] \"/data/reddylab/Kuei/out/proj_combeffect_encode_fcc/results/region/KS91_K562_ASTARRseq_peak_macs_input/enrichment_results_merge/score_merge_overall_annot_ccre_v3_pELS.rds\"\n",
      "[1] 0 8\n",
      "[1] \"/data/reddylab/Kuei/out/proj_combeffect_encode_fcc/results/region/KS91_K562_ASTARRseq_peak_macs_input/enrichment_results_merge/score_merge_overall_annot.ccre_v3.pELS.rds\"\n",
      "[1] 1 8\n",
      "[1] \"/data/reddylab/Kuei/out/proj_combeffect_encode_fcc/results/region/KS91_K562_ASTARRseq_peak_macs_input/enrichment_results_merge/score_merge_overall_annot_ccre_v3_PLS_CTCF_bound.rds\"\n",
      "[1] 0 8\n",
      "[1] \"/data/reddylab/Kuei/out/proj_combeffect_encode_fcc/results/region/KS91_K562_ASTARRseq_peak_macs_input/enrichment_results_merge/score_merge_overall_annot.ccre_v3.PLS_CTCF_bound.rds\"\n",
      "[1] 1 8\n",
      "[1] \"/data/reddylab/Kuei/out/proj_combeffect_encode_fcc/results/region/KS91_K562_ASTARRseq_peak_macs_input/enrichment_results_merge/score_merge_overall_annot_ccre_v3_PLS.rds\"\n",
      "[1] 0 8\n",
      "[1] \"/data/reddylab/Kuei/out/proj_combeffect_encode_fcc/results/region/KS91_K562_ASTARRseq_peak_macs_input/enrichment_results_merge/score_merge_overall_annot.ccre_v3.PLS.rds\"\n",
      "[1] 1 8\n",
      "[1] \"/data/reddylab/Kuei/out/proj_combeffect_encode_fcc/results/region/KS91_K562_ASTARRseq_peak_macs_input/enrichment_results_merge/score_merge_overall_annot_ccre_v4_CA_CTCF.rds\"\n",
      "[1] 0 8\n",
      "[1] \"/data/reddylab/Kuei/out/proj_combeffect_encode_fcc/results/region/KS91_K562_ASTARRseq_peak_macs_input/enrichment_results_merge/score_merge_overall_annot.ccre_v4.CA_CTCF.rds\"\n",
      "[1] 1 8\n",
      "[1] \"/data/reddylab/Kuei/out/proj_combeffect_encode_fcc/results/region/KS91_K562_ASTARRseq_peak_macs_input/enrichment_results_merge/score_merge_overall_annot_ccre_v4_CA_H3K4me3.rds\"\n",
      "[1] 0 8\n",
      "[1] \"/data/reddylab/Kuei/out/proj_combeffect_encode_fcc/results/region/KS91_K562_ASTARRseq_peak_macs_input/enrichment_results_merge/score_merge_overall_annot.ccre_v4.CA_H3K4me3.rds\"\n",
      "[1] 1 8\n",
      "[1] \"/data/reddylab/Kuei/out/proj_combeffect_encode_fcc/results/region/KS91_K562_ASTARRseq_peak_macs_input/enrichment_results_merge/score_merge_overall_annot_ccre_v4_CA_only.rds\"\n",
      "[1] 0 8\n",
      "[1] \"/data/reddylab/Kuei/out/proj_combeffect_encode_fcc/results/region/KS91_K562_ASTARRseq_peak_macs_input/enrichment_results_merge/score_merge_overall_annot.ccre_v4.CA_only.rds\"\n",
      "[1] 1 8\n",
      "[1] \"/data/reddylab/Kuei/out/proj_combeffect_encode_fcc/results/region/KS91_K562_ASTARRseq_peak_macs_input/enrichment_results_merge/score_merge_overall_annot_ccre_v4_CA_TF.rds\"\n",
      "[1] 0 8\n",
      "[1] \"/data/reddylab/Kuei/out/proj_combeffect_encode_fcc/results/region/KS91_K562_ASTARRseq_peak_macs_input/enrichment_results_merge/score_merge_overall_annot.ccre_v4.CA_TF.rds\"\n",
      "[1] 1 8\n",
      "[1] \"/data/reddylab/Kuei/out/proj_combeffect_encode_fcc/results/region/KS91_K562_ASTARRseq_peak_macs_input/enrichment_results_merge/score_merge_overall_annot_ccre_v4_dELS.rds\"\n",
      "[1] 0 8\n",
      "[1] \"/data/reddylab/Kuei/out/proj_combeffect_encode_fcc/results/region/KS91_K562_ASTARRseq_peak_macs_input/enrichment_results_merge/score_merge_overall_annot.ccre_v4.dELS.rds\"\n",
      "[1] 1 8\n",
      "[1] \"/data/reddylab/Kuei/out/proj_combeffect_encode_fcc/results/region/KS91_K562_ASTARRseq_peak_macs_input/enrichment_results_merge/score_merge_overall_annot_ccre_v4_Low_DNase.rds\"\n",
      "[1] 0 8\n",
      "[1] \"/data/reddylab/Kuei/out/proj_combeffect_encode_fcc/results/region/KS91_K562_ASTARRseq_peak_macs_input/enrichment_results_merge/score_merge_overall_annot.ccre_v4.Low_DNase.rds\"\n",
      "[1] 1 8\n",
      "[1] \"/data/reddylab/Kuei/out/proj_combeffect_encode_fcc/results/region/KS91_K562_ASTARRseq_peak_macs_input/enrichment_results_merge/score_merge_overall_annot_ccre_v4_pELS.rds\"\n",
      "[1] 0 8\n",
      "[1] \"/data/reddylab/Kuei/out/proj_combeffect_encode_fcc/results/region/KS91_K562_ASTARRseq_peak_macs_input/enrichment_results_merge/score_merge_overall_annot.ccre_v4.pELS.rds\"\n",
      "[1] 1 8\n",
      "[1] \"/data/reddylab/Kuei/out/proj_combeffect_encode_fcc/results/region/KS91_K562_ASTARRseq_peak_macs_input/enrichment_results_merge/score_merge_overall_annot_ccre_v4_PLS.rds\"\n",
      "[1] 0 8\n",
      "[1] \"/data/reddylab/Kuei/out/proj_combeffect_encode_fcc/results/region/KS91_K562_ASTARRseq_peak_macs_input/enrichment_results_merge/score_merge_overall_annot.ccre_v4.PLS.rds\"\n",
      "[1] 1 8\n",
      "[1] \"/data/reddylab/Kuei/out/proj_combeffect_encode_fcc/results/region/KS91_K562_ASTARRseq_peak_macs_input/enrichment_results_merge/score_merge_overall_annot_ChIPseq_Histone_H2AFZ.rds\"\n",
      "[1] 0 8\n",
      "[1] \"/data/reddylab/Kuei/out/proj_combeffect_encode_fcc/results/region/KS91_K562_ASTARRseq_peak_macs_input/enrichment_results_merge/score_merge_overall_annot_ChIPseq_Histone_H3K27ac.rds\"\n",
      "[1] 0 8\n",
      "[1] \"/data/reddylab/Kuei/out/proj_combeffect_encode_fcc/results/region/KS91_K562_ASTARRseq_peak_macs_input/enrichment_results_merge/score_merge_overall_annot_ChIPseq_Histone_H3K27me3.rds\"\n",
      "[1] 0 8\n",
      "[1] \"/data/reddylab/Kuei/out/proj_combeffect_encode_fcc/results/region/KS91_K562_ASTARRseq_peak_macs_input/enrichment_results_merge/score_merge_overall_annot_ChIPseq_Histone_H3K36me3.rds\"\n",
      "[1] 0 8\n",
      "[1] \"/data/reddylab/Kuei/out/proj_combeffect_encode_fcc/results/region/KS91_K562_ASTARRseq_peak_macs_input/enrichment_results_merge/score_merge_overall_annot_ChIPseq_Histone_H3K4me1.rds\"\n",
      "[1] 0 8\n",
      "[1] \"/data/reddylab/Kuei/out/proj_combeffect_encode_fcc/results/region/KS91_K562_ASTARRseq_peak_macs_input/enrichment_results_merge/score_merge_overall_annot_ChIPseq_Histone_H3K4me2.rds\"\n",
      "[1] 0 8\n",
      "[1] \"/data/reddylab/Kuei/out/proj_combeffect_encode_fcc/results/region/KS91_K562_ASTARRseq_peak_macs_input/enrichment_results_merge/score_merge_overall_annot_ChIPseq_Histone_H3K4me3.rds\"\n",
      "[1] 0 8\n",
      "[1] \"/data/reddylab/Kuei/out/proj_combeffect_encode_fcc/results/region/KS91_K562_ASTARRseq_peak_macs_input/enrichment_results_merge/score_merge_overall_annot_ChIPseq_Histone_H3K79me2.rds\"\n",
      "[1] 0 8\n",
      "[1] \"/data/reddylab/Kuei/out/proj_combeffect_encode_fcc/results/region/KS91_K562_ASTARRseq_peak_macs_input/enrichment_results_merge/score_merge_overall_annot_ChIPseq_Histone_H3K9ac.rds\"\n",
      "[1] 0 8\n",
      "[1] \"/data/reddylab/Kuei/out/proj_combeffect_encode_fcc/results/region/KS91_K562_ASTARRseq_peak_macs_input/enrichment_results_merge/score_merge_overall_annot_ChIPseq_Histone_H3K9me1.rds\"\n",
      "[1] 0 8\n",
      "[1] \"/data/reddylab/Kuei/out/proj_combeffect_encode_fcc/results/region/KS91_K562_ASTARRseq_peak_macs_input/enrichment_results_merge/score_merge_overall_annot_ChIPseq_Histone_H3K9me3.rds\"\n",
      "[1] 0 8\n",
      "[1] \"/data/reddylab/Kuei/out/proj_combeffect_encode_fcc/results/region/KS91_K562_ASTARRseq_peak_macs_input/enrichment_results_merge/score_merge_overall_annot_ChIPseq_Histone_H4K20me1.rds\"\n",
      "[1] 0 8\n",
      "[1] \"/data/reddylab/Kuei/out/proj_combeffect_encode_fcc/results/region/KS91_K562_ASTARRseq_peak_macs_input/enrichment_results_merge/score_merge_overall_annot_ChromHMM_Biv.rds\"\n",
      "[1] 0 8\n",
      "[1] \"/data/reddylab/Kuei/out/proj_combeffect_encode_fcc/results/region/KS91_K562_ASTARRseq_peak_macs_input/enrichment_results_merge/score_merge_overall_annot.ChromHMM.Biv.rds\"\n",
      "[1] 1 8\n",
      "[1] \"/data/reddylab/Kuei/out/proj_combeffect_encode_fcc/results/region/KS91_K562_ASTARRseq_peak_macs_input/enrichment_results_merge/score_merge_overall_annot_ChromHMM_Enh1.rds\"\n",
      "[1] 0 8\n",
      "[1] \"/data/reddylab/Kuei/out/proj_combeffect_encode_fcc/results/region/KS91_K562_ASTARRseq_peak_macs_input/enrichment_results_merge/score_merge_overall_annot.ChromHMM.Enh1.rds\"\n",
      "[1] 1 8\n",
      "[1] \"/data/reddylab/Kuei/out/proj_combeffect_encode_fcc/results/region/KS91_K562_ASTARRseq_peak_macs_input/enrichment_results_merge/score_merge_overall_annot_ChromHMM_Enh2.rds\"\n",
      "[1] 0 8\n",
      "[1] \"/data/reddylab/Kuei/out/proj_combeffect_encode_fcc/results/region/KS91_K562_ASTARRseq_peak_macs_input/enrichment_results_merge/score_merge_overall_annot.ChromHMM.Enh2.rds\"\n",
      "[1] 1 8\n",
      "[1] \"/data/reddylab/Kuei/out/proj_combeffect_encode_fcc/results/region/KS91_K562_ASTARRseq_peak_macs_input/enrichment_results_merge/score_merge_overall_annot_ChromHMM_EnhG1.rds\"\n",
      "[1] 0 8\n",
      "[1] \"/data/reddylab/Kuei/out/proj_combeffect_encode_fcc/results/region/KS91_K562_ASTARRseq_peak_macs_input/enrichment_results_merge/score_merge_overall_annot.ChromHMM.EnhG1.rds\"\n",
      "[1] 1 8\n",
      "[1] \"/data/reddylab/Kuei/out/proj_combeffect_encode_fcc/results/region/KS91_K562_ASTARRseq_peak_macs_input/enrichment_results_merge/score_merge_overall_annot_ChromHMM_EnhG2.rds\"\n",
      "[1] 0 8\n",
      "[1] \"/data/reddylab/Kuei/out/proj_combeffect_encode_fcc/results/region/KS91_K562_ASTARRseq_peak_macs_input/enrichment_results_merge/score_merge_overall_annot.ChromHMM.EnhG2.rds\"\n",
      "[1] 1 8\n",
      "[1] \"/data/reddylab/Kuei/out/proj_combeffect_encode_fcc/results/region/KS91_K562_ASTARRseq_peak_macs_input/enrichment_results_merge/score_merge_overall_annot_ChromHMM_Het.rds\"\n",
      "[1] 0 8\n",
      "[1] \"/data/reddylab/Kuei/out/proj_combeffect_encode_fcc/results/region/KS91_K562_ASTARRseq_peak_macs_input/enrichment_results_merge/score_merge_overall_annot.ChromHMM.Het.rds\"\n",
      "[1] 1 8\n",
      "[1] \"/data/reddylab/Kuei/out/proj_combeffect_encode_fcc/results/region/KS91_K562_ASTARRseq_peak_macs_input/enrichment_results_merge/score_merge_overall_annot_ChromHMM_Quies.rds\"\n",
      "[1] 0 8\n",
      "[1] \"/data/reddylab/Kuei/out/proj_combeffect_encode_fcc/results/region/KS91_K562_ASTARRseq_peak_macs_input/enrichment_results_merge/score_merge_overall_annot.ChromHMM.Quies.rds\"\n",
      "[1] 1 8\n",
      "[1] \"/data/reddylab/Kuei/out/proj_combeffect_encode_fcc/results/region/KS91_K562_ASTARRseq_peak_macs_input/enrichment_results_merge/score_merge_overall_annot_ChromHMM_ReprPC.rds\"\n",
      "[1] 0 8\n",
      "[1] \"/data/reddylab/Kuei/out/proj_combeffect_encode_fcc/results/region/KS91_K562_ASTARRseq_peak_macs_input/enrichment_results_merge/score_merge_overall_annot.ChromHMM.ReprPC.rds\"\n",
      "[1] 1 8\n",
      "[1] \"/data/reddylab/Kuei/out/proj_combeffect_encode_fcc/results/region/KS91_K562_ASTARRseq_peak_macs_input/enrichment_results_merge/score_merge_overall_annot_ChromHMM_TssFlnkD.rds\"\n",
      "[1] 0 8\n",
      "[1] \"/data/reddylab/Kuei/out/proj_combeffect_encode_fcc/results/region/KS91_K562_ASTARRseq_peak_macs_input/enrichment_results_merge/score_merge_overall_annot.ChromHMM.TssFlnkD.rds\"\n",
      "[1] 1 8\n",
      "[1] \"/data/reddylab/Kuei/out/proj_combeffect_encode_fcc/results/region/KS91_K562_ASTARRseq_peak_macs_input/enrichment_results_merge/score_merge_overall_annot_ChromHMM_TssFlnk.rds\"\n",
      "[1] 0 8\n",
      "[1] \"/data/reddylab/Kuei/out/proj_combeffect_encode_fcc/results/region/KS91_K562_ASTARRseq_peak_macs_input/enrichment_results_merge/score_merge_overall_annot.ChromHMM.TssFlnk.rds\"\n",
      "[1] 1 8\n",
      "[1] \"/data/reddylab/Kuei/out/proj_combeffect_encode_fcc/results/region/KS91_K562_ASTARRseq_peak_macs_input/enrichment_results_merge/score_merge_overall_annot_ChromHMM_TssFlnkU.rds\"\n",
      "[1] 0 8\n",
      "[1] \"/data/reddylab/Kuei/out/proj_combeffect_encode_fcc/results/region/KS91_K562_ASTARRseq_peak_macs_input/enrichment_results_merge/score_merge_overall_annot.ChromHMM.TssFlnkU.rds\"\n",
      "[1] 1 8\n",
      "[1] \"/data/reddylab/Kuei/out/proj_combeffect_encode_fcc/results/region/KS91_K562_ASTARRseq_peak_macs_input/enrichment_results_merge/score_merge_overall_annot_ChromHMM_Tss.rds\"\n",
      "[1] 0 8\n",
      "[1] \"/data/reddylab/Kuei/out/proj_combeffect_encode_fcc/results/region/KS91_K562_ASTARRseq_peak_macs_input/enrichment_results_merge/score_merge_overall_annot.ChromHMM.Tss.rds\"\n",
      "[1] 1 8\n",
      "[1] \"/data/reddylab/Kuei/out/proj_combeffect_encode_fcc/results/region/KS91_K562_ASTARRseq_peak_macs_input/enrichment_results_merge/score_merge_overall_annot_ChromHMM_Tx.rds\"\n",
      "[1] 0 8\n",
      "[1] \"/data/reddylab/Kuei/out/proj_combeffect_encode_fcc/results/region/KS91_K562_ASTARRseq_peak_macs_input/enrichment_results_merge/score_merge_overall_annot.ChromHMM.Tx.rds\"\n",
      "[1] 1 8\n",
      "[1] \"/data/reddylab/Kuei/out/proj_combeffect_encode_fcc/results/region/KS91_K562_ASTARRseq_peak_macs_input/enrichment_results_merge/score_merge_overall_annot_ChromHMM_TxWk.rds\"\n",
      "[1] 0 8\n",
      "[1] \"/data/reddylab/Kuei/out/proj_combeffect_encode_fcc/results/region/KS91_K562_ASTARRseq_peak_macs_input/enrichment_results_merge/score_merge_overall_annot.ChromHMM.TxWk.rds\"\n",
      "[1] 1 8\n",
      "[1] \"/data/reddylab/Kuei/out/proj_combeffect_encode_fcc/results/region/KS91_K562_ASTARRseq_peak_macs_input/enrichment_results_merge/score_merge_overall_annot_ChromHMM_ZNF_Rpts.rds\"\n",
      "[1] 0 8\n",
      "[1] \"/data/reddylab/Kuei/out/proj_combeffect_encode_fcc/results/region/KS91_K562_ASTARRseq_peak_macs_input/enrichment_results_merge/score_merge_overall_annot.ChromHMM.ZNF_Rpts.rds\"\n",
      "[1] 1 8\n",
      "[1] \"/data/reddylab/Kuei/out/proj_combeffect_encode_fcc/results/region/KS91_K562_ASTARRseq_peak_macs_input/enrichment_results_merge/score_merge_overall_annot.CRISPRi.CRISPRi_Growth.rds\"\n",
      "[1] 1 8\n",
      "[1] \"/data/reddylab/Kuei/out/proj_combeffect_encode_fcc/results/region/KS91_K562_ASTARRseq_peak_macs_input/enrichment_results_merge/score_merge_overall_annot.CRISPRi.CRISPRi_HCRFF.rds\"\n",
      "[1] 1 8\n",
      "[1] \"/data/reddylab/Kuei/out/proj_combeffect_encode_fcc/results/region/KS91_K562_ASTARRseq_peak_macs_input/enrichment_results_merge/score_merge_overall_annot_CRISPRi_HCRFF_CRISPR_CASA.rds\"\n",
      "[1] 0 8\n",
      "[1] \"/data/reddylab/Kuei/out/proj_combeffect_encode_fcc/results/region/KS91_K562_ASTARRseq_peak_macs_input/enrichment_results_merge/score_merge_overall_annot_Enhancer_Enhancer_STARR.rds\"\n",
      "[1] 0 8\n",
      "[1] \"/data/reddylab/Kuei/out/proj_combeffect_encode_fcc/results/region/KS91_K562_ASTARRseq_peak_macs_input/enrichment_results_merge/score_merge_overall_annot_Enhancer_Enhancer_ZScore_STARR.rds\"\n",
      "[1] 0 8\n",
      "[1] \"/data/reddylab/Kuei/out/proj_combeffect_encode_fcc/results/region/KS91_K562_ASTARRseq_peak_macs_input/enrichment_results_merge/score_merge_overall_annot.Enhancer_ZScore.ASTARR_AB.rds\"\n",
      "[1] 1 8\n",
      "[1] \"/data/reddylab/Kuei/out/proj_combeffect_encode_fcc/results/region/KS91_K562_ASTARRseq_peak_macs_input/enrichment_results_merge/score_merge_overall_annot.Enhancer_ZScore.ASTARR_A.rds\"\n",
      "[1] 1 8\n",
      "[1] \"/data/reddylab/Kuei/out/proj_combeffect_encode_fcc/results/region/KS91_K562_ASTARRseq_peak_macs_input/enrichment_results_merge/score_merge_overall_annot_TSS_POL2_TSS.rds\"\n",
      "[1] 0 8\n",
      "[1] 38  8\n"
     ]
    },
    {
     "data": {
      "text/html": [
       "<table class=\"dataframe\">\n",
       "<caption>A data.table: 6 × 8</caption>\n",
       "<thead>\n",
       "\t<tr><th scope=col>pathway</th><th scope=col>pval</th><th scope=col>padj</th><th scope=col>log2err</th><th scope=col>ES</th><th scope=col>NES</th><th scope=col>size</th><th scope=col>leadingEdge</th></tr>\n",
       "\t<tr><th scope=col>&lt;chr&gt;</th><th scope=col>&lt;dbl&gt;</th><th scope=col>&lt;dbl&gt;</th><th scope=col>&lt;dbl&gt;</th><th scope=col>&lt;dbl&gt;</th><th scope=col>&lt;dbl&gt;</th><th scope=col>&lt;int&gt;</th><th scope=col>&lt;list&gt;</th></tr>\n",
       "</thead>\n",
       "<tbody>\n",
       "\t<tr><td>ccre_v3:CTCF-only,CTCF-bound    </td><td>2.897103e-02</td><td>2.897103e-02</td><td>0.26635066</td><td>0.3094418</td><td>1.414557</td><td>78</td><td>chr16:785365-786016     , chr20:56626306-56626978 , chr16:1150597-1150980   , chrX:48025602-48027305  , chr20:58233920-58234495 , chr11:5600369-5600825   , chr16:487655-488120     , chr11:6269709-6272223   , chrX:48971489-48972805  , chrX:49840468-49841285  , chr11:5507143-5507643   , chr20:57514013-57514715 , chr11:33987858-33988347 , chrX:49291582-49293153  , chr2:61425472-61427136  , chr20:57582887-57583526 , chr11:33808171-33810228 , chr20:57594098-57594776 , chr16:578208-579482     , chr11:5808483-5809339   , chr16:96255-97663       , chr2:60581308-60582350  , chr16:546503-547496     , chrX:48493981-48494574  , chr8:126824093-126824987, chr11:6251053-6252694   , chr16:1057282-1057997   , chr2:60674341-60675636  , chr11:5475885-5476903   , chrX:49626945-49627790  , chr16:813403-814002     , chr11:34492757-34493856 , chr11:33857197-33858390 , chr11:6315738-6316403   , chr20:56577302-56578168 , chr20:58209567-58210686 , chr16:745640-746124     , chr11:61897731-61898477 , chr20:57089380-57090283 , chr20:57596718-57597692 , chr16:733665-734298     , chr16:106793-107475     , chr16:1102925-1103930   , chr11:34791840-34792579 , chr16:363022-365210     , chr11:34512779-34514100 , chr8:127724898-127726838</td></tr>\n",
       "\t<tr><td>ccre_v3:dELS,CTCF-bound         </td><td>1.038735e-02</td><td>1.038735e-02</td><td>0.38073040</td><td>0.4823140</td><td>1.766232</td><td>19</td><td>chrX:49039728-49040229  , chr20:57389114-57391310 , chr16:622004-623228     , chr16:142369-143867     , chrX:49230194-49231405  , chr11:34599585-34601201 , chr11:61869565-61871916 , chrX:49177122-49178250  , chrX:49175582-49176185  , chrX:48631228-48632528  , chr20:57464624-57465376 , chr11:5531048-5531939   , chr16:660456-661697     , chrX:48890603-48892283  , chr11:5195849-5196876   , chr8:127914371-127914665, chr8:127967394-127968596, chrX:48616469-48618242  </td></tr>\n",
       "\t<tr><td>ccre_v3:dELS                    </td><td>1.205282e-12</td><td>1.205282e-12</td><td>0.91011973</td><td>0.5170577</td><td>2.406543</td><td>94</td><td>chr11:5280584-5281311   , chr16:807054-808186     , chr11:34809279-34810196 , chr16:112817-114269     , chr8:127898363-127899746, chr11:33941500-33942221 , chr11:5591550-5591995   , chr11:61834076-61835329 , chr8:128556572-128557393, chr11:5275424-5276195   , chrX:48782524-48783758  , chr8:128176331-128177858, chr11:34603280-34604257 , chr20:57450535-57452546 , chrX:48680411-48680783  , chrX:49147328-49149698  , chr11:61800085-61801113 , chr8:128343440-128344454, chr11:33944510-33945297 , chr16:405242-406077     , chr11:34241932-34243528 , chr11:33936760-33937819 , chr2:61287384-61288774  , chr11:34044347-34045793 , chr11:33912236-33913186 , chrX:48936872-48937767  , chr20:57432673-57433564 , chr11:5287782-5288588   , chr8:127854019-127854900, chrX:48961443-48962257  , chr2:60808237-60808934  , chr16:622004-623228     , chr16:142369-143867     , chr8:128065105-128066356, chr8:128035047-128035766, chr20:56422232-56423039 , chrX:49230194-49231405  , chr20:57414987-57415550 , chr11:5258259-5259344   , chr11:4658480-4659558   , chr16:323762-325231     , chr20:57448688-57449248 , chr2:61465300-61466307  , chrX:49190704-49191897  , chr11:34599585-34601201 , chr2:60806729-60807835  , chr16:252256-253387     , chr11:61869565-61871916 , chr20:58373695-58375015 , chrX:48487040-48488842  , chr16:726514-729450     , chr8:128044551-128045666, chr8:127859401-127860630, chr11:61841459-61842879 , chrX:48793902-48795694  , chr20:57409509-57410825 , chr16:144700-145187     , chr16:578208-579482     , chrX:48631228-48632528  </td></tr>\n",
       "\t<tr><td>ccre_v3:DNase-H3K4me3,CTCF-bound</td><td>1.113463e-02</td><td>1.113463e-02</td><td>0.38073040</td><td>0.5601636</td><td>1.785218</td><td>10</td><td>chr2:60550044-60551083 , chr20:58236706-58237346, chr20:57523756-57526705, chr20:58179062-58180036, chr2:60554041-60555742 , chr16:71295-72412      , chr16:1151778-1153303  , chr11:34357192-34359669, chr11:34173487-34175052, chr16:714464-716381    </td></tr>\n",
       "\t<tr><td>ccre_v3:DNase-H3K4me3           </td><td>1.808192e-01</td><td>1.808192e-01</td><td>0.09721508</td><td>0.3959064</td><td>1.320317</td><td>12</td><td>chr20:58236706-58237346, chrX:48911082-48913003 , chr16:72695-73044      , chr11:33700194-33701286, chr16:71295-72412      , chr16:629444-631401    , chr16:694114-694522    , chr16:1151778-1153303  , chr11:34357192-34359669, chr16:424721-426835    , chr16:173265-173763    , chr11:6473524-6475387  </td></tr>\n",
       "\t<tr><td>ccre_v3:DNase-only              </td><td>1.967574e-02</td><td>1.967574e-02</td><td>0.35248786</td><td>0.3666739</td><td>1.572389</td><td>48</td><td>chr11:34234020-34234512 , chr16:1137641-1138045   , chr11:34241932-34243528 , chr8:126804776-126805825, chr20:57250796-57252293 , chr11:34609472-34610385 , chr16:1089754-1091999   , chr2:60296537-60298492  , chr20:57420700-57421552 , chrX:47936250-47937308  , chr20:57577741-57578760 , chr16:490993-491857     , chr20:57718486-57719139 , chrX:48496584-48497122  , chr11:5507880-5509240   , chr8:127760007-127761404, chr2:61447865-61449052  , chr11:6468964-6469574   , chr8:128149790-128150487, chr20:57460848-57461756 , chr16:1048190-1050261   , chr8:127980105-127980581, chr11:34033879-34034681 , chr20:57329373-57330231 </td></tr>\n",
       "</tbody>\n",
       "</table>\n"
      ],
      "text/latex": [
       "A data.table: 6 × 8\n",
       "\\begin{tabular}{llllllll}\n",
       " pathway & pval & padj & log2err & ES & NES & size & leadingEdge\\\\\n",
       " <chr> & <dbl> & <dbl> & <dbl> & <dbl> & <dbl> & <int> & <list>\\\\\n",
       "\\hline\n",
       "\t ccre\\_v3:CTCF-only,CTCF-bound     & 2.897103e-02 & 2.897103e-02 & 0.26635066 & 0.3094418 & 1.414557 & 78 & chr16:785365-786016     , chr20:56626306-56626978 , chr16:1150597-1150980   , chrX:48025602-48027305  , chr20:58233920-58234495 , chr11:5600369-5600825   , chr16:487655-488120     , chr11:6269709-6272223   , chrX:48971489-48972805  , chrX:49840468-49841285  , chr11:5507143-5507643   , chr20:57514013-57514715 , chr11:33987858-33988347 , chrX:49291582-49293153  , chr2:61425472-61427136  , chr20:57582887-57583526 , chr11:33808171-33810228 , chr20:57594098-57594776 , chr16:578208-579482     , chr11:5808483-5809339   , chr16:96255-97663       , chr2:60581308-60582350  , chr16:546503-547496     , chrX:48493981-48494574  , chr8:126824093-126824987, chr11:6251053-6252694   , chr16:1057282-1057997   , chr2:60674341-60675636  , chr11:5475885-5476903   , chrX:49626945-49627790  , chr16:813403-814002     , chr11:34492757-34493856 , chr11:33857197-33858390 , chr11:6315738-6316403   , chr20:56577302-56578168 , chr20:58209567-58210686 , chr16:745640-746124     , chr11:61897731-61898477 , chr20:57089380-57090283 , chr20:57596718-57597692 , chr16:733665-734298     , chr16:106793-107475     , chr16:1102925-1103930   , chr11:34791840-34792579 , chr16:363022-365210     , chr11:34512779-34514100 , chr8:127724898-127726838\\\\\n",
       "\t ccre\\_v3:dELS,CTCF-bound          & 1.038735e-02 & 1.038735e-02 & 0.38073040 & 0.4823140 & 1.766232 & 19 & chrX:49039728-49040229  , chr20:57389114-57391310 , chr16:622004-623228     , chr16:142369-143867     , chrX:49230194-49231405  , chr11:34599585-34601201 , chr11:61869565-61871916 , chrX:49177122-49178250  , chrX:49175582-49176185  , chrX:48631228-48632528  , chr20:57464624-57465376 , chr11:5531048-5531939   , chr16:660456-661697     , chrX:48890603-48892283  , chr11:5195849-5196876   , chr8:127914371-127914665, chr8:127967394-127968596, chrX:48616469-48618242  \\\\\n",
       "\t ccre\\_v3:dELS                     & 1.205282e-12 & 1.205282e-12 & 0.91011973 & 0.5170577 & 2.406543 & 94 & chr11:5280584-5281311   , chr16:807054-808186     , chr11:34809279-34810196 , chr16:112817-114269     , chr8:127898363-127899746, chr11:33941500-33942221 , chr11:5591550-5591995   , chr11:61834076-61835329 , chr8:128556572-128557393, chr11:5275424-5276195   , chrX:48782524-48783758  , chr8:128176331-128177858, chr11:34603280-34604257 , chr20:57450535-57452546 , chrX:48680411-48680783  , chrX:49147328-49149698  , chr11:61800085-61801113 , chr8:128343440-128344454, chr11:33944510-33945297 , chr16:405242-406077     , chr11:34241932-34243528 , chr11:33936760-33937819 , chr2:61287384-61288774  , chr11:34044347-34045793 , chr11:33912236-33913186 , chrX:48936872-48937767  , chr20:57432673-57433564 , chr11:5287782-5288588   , chr8:127854019-127854900, chrX:48961443-48962257  , chr2:60808237-60808934  , chr16:622004-623228     , chr16:142369-143867     , chr8:128065105-128066356, chr8:128035047-128035766, chr20:56422232-56423039 , chrX:49230194-49231405  , chr20:57414987-57415550 , chr11:5258259-5259344   , chr11:4658480-4659558   , chr16:323762-325231     , chr20:57448688-57449248 , chr2:61465300-61466307  , chrX:49190704-49191897  , chr11:34599585-34601201 , chr2:60806729-60807835  , chr16:252256-253387     , chr11:61869565-61871916 , chr20:58373695-58375015 , chrX:48487040-48488842  , chr16:726514-729450     , chr8:128044551-128045666, chr8:127859401-127860630, chr11:61841459-61842879 , chrX:48793902-48795694  , chr20:57409509-57410825 , chr16:144700-145187     , chr16:578208-579482     , chrX:48631228-48632528  \\\\\n",
       "\t ccre\\_v3:DNase-H3K4me3,CTCF-bound & 1.113463e-02 & 1.113463e-02 & 0.38073040 & 0.5601636 & 1.785218 & 10 & chr2:60550044-60551083 , chr20:58236706-58237346, chr20:57523756-57526705, chr20:58179062-58180036, chr2:60554041-60555742 , chr16:71295-72412      , chr16:1151778-1153303  , chr11:34357192-34359669, chr11:34173487-34175052, chr16:714464-716381    \\\\\n",
       "\t ccre\\_v3:DNase-H3K4me3            & 1.808192e-01 & 1.808192e-01 & 0.09721508 & 0.3959064 & 1.320317 & 12 & chr20:58236706-58237346, chrX:48911082-48913003 , chr16:72695-73044      , chr11:33700194-33701286, chr16:71295-72412      , chr16:629444-631401    , chr16:694114-694522    , chr16:1151778-1153303  , chr11:34357192-34359669, chr16:424721-426835    , chr16:173265-173763    , chr11:6473524-6475387  \\\\\n",
       "\t ccre\\_v3:DNase-only               & 1.967574e-02 & 1.967574e-02 & 0.35248786 & 0.3666739 & 1.572389 & 48 & chr11:34234020-34234512 , chr16:1137641-1138045   , chr11:34241932-34243528 , chr8:126804776-126805825, chr20:57250796-57252293 , chr11:34609472-34610385 , chr16:1089754-1091999   , chr2:60296537-60298492  , chr20:57420700-57421552 , chrX:47936250-47937308  , chr20:57577741-57578760 , chr16:490993-491857     , chr20:57718486-57719139 , chrX:48496584-48497122  , chr11:5507880-5509240   , chr8:127760007-127761404, chr2:61447865-61449052  , chr11:6468964-6469574   , chr8:128149790-128150487, chr20:57460848-57461756 , chr16:1048190-1050261   , chr8:127980105-127980581, chr11:34033879-34034681 , chr20:57329373-57330231 \\\\\n",
       "\\end{tabular}\n"
      ],
      "text/markdown": [
       "\n",
       "A data.table: 6 × 8\n",
       "\n",
       "| pathway &lt;chr&gt; | pval &lt;dbl&gt; | padj &lt;dbl&gt; | log2err &lt;dbl&gt; | ES &lt;dbl&gt; | NES &lt;dbl&gt; | size &lt;int&gt; | leadingEdge &lt;list&gt; |\n",
       "|---|---|---|---|---|---|---|---|\n",
       "| ccre_v3:CTCF-only,CTCF-bound     | 2.897103e-02 | 2.897103e-02 | 0.26635066 | 0.3094418 | 1.414557 | 78 | chr16:785365-786016     , chr20:56626306-56626978 , chr16:1150597-1150980   , chrX:48025602-48027305  , chr20:58233920-58234495 , chr11:5600369-5600825   , chr16:487655-488120     , chr11:6269709-6272223   , chrX:48971489-48972805  , chrX:49840468-49841285  , chr11:5507143-5507643   , chr20:57514013-57514715 , chr11:33987858-33988347 , chrX:49291582-49293153  , chr2:61425472-61427136  , chr20:57582887-57583526 , chr11:33808171-33810228 , chr20:57594098-57594776 , chr16:578208-579482     , chr11:5808483-5809339   , chr16:96255-97663       , chr2:60581308-60582350  , chr16:546503-547496     , chrX:48493981-48494574  , chr8:126824093-126824987, chr11:6251053-6252694   , chr16:1057282-1057997   , chr2:60674341-60675636  , chr11:5475885-5476903   , chrX:49626945-49627790  , chr16:813403-814002     , chr11:34492757-34493856 , chr11:33857197-33858390 , chr11:6315738-6316403   , chr20:56577302-56578168 , chr20:58209567-58210686 , chr16:745640-746124     , chr11:61897731-61898477 , chr20:57089380-57090283 , chr20:57596718-57597692 , chr16:733665-734298     , chr16:106793-107475     , chr16:1102925-1103930   , chr11:34791840-34792579 , chr16:363022-365210     , chr11:34512779-34514100 , chr8:127724898-127726838 |\n",
       "| ccre_v3:dELS,CTCF-bound          | 1.038735e-02 | 1.038735e-02 | 0.38073040 | 0.4823140 | 1.766232 | 19 | chrX:49039728-49040229  , chr20:57389114-57391310 , chr16:622004-623228     , chr16:142369-143867     , chrX:49230194-49231405  , chr11:34599585-34601201 , chr11:61869565-61871916 , chrX:49177122-49178250  , chrX:49175582-49176185  , chrX:48631228-48632528  , chr20:57464624-57465376 , chr11:5531048-5531939   , chr16:660456-661697     , chrX:48890603-48892283  , chr11:5195849-5196876   , chr8:127914371-127914665, chr8:127967394-127968596, chrX:48616469-48618242   |\n",
       "| ccre_v3:dELS                     | 1.205282e-12 | 1.205282e-12 | 0.91011973 | 0.5170577 | 2.406543 | 94 | chr11:5280584-5281311   , chr16:807054-808186     , chr11:34809279-34810196 , chr16:112817-114269     , chr8:127898363-127899746, chr11:33941500-33942221 , chr11:5591550-5591995   , chr11:61834076-61835329 , chr8:128556572-128557393, chr11:5275424-5276195   , chrX:48782524-48783758  , chr8:128176331-128177858, chr11:34603280-34604257 , chr20:57450535-57452546 , chrX:48680411-48680783  , chrX:49147328-49149698  , chr11:61800085-61801113 , chr8:128343440-128344454, chr11:33944510-33945297 , chr16:405242-406077     , chr11:34241932-34243528 , chr11:33936760-33937819 , chr2:61287384-61288774  , chr11:34044347-34045793 , chr11:33912236-33913186 , chrX:48936872-48937767  , chr20:57432673-57433564 , chr11:5287782-5288588   , chr8:127854019-127854900, chrX:48961443-48962257  , chr2:60808237-60808934  , chr16:622004-623228     , chr16:142369-143867     , chr8:128065105-128066356, chr8:128035047-128035766, chr20:56422232-56423039 , chrX:49230194-49231405  , chr20:57414987-57415550 , chr11:5258259-5259344   , chr11:4658480-4659558   , chr16:323762-325231     , chr20:57448688-57449248 , chr2:61465300-61466307  , chrX:49190704-49191897  , chr11:34599585-34601201 , chr2:60806729-60807835  , chr16:252256-253387     , chr11:61869565-61871916 , chr20:58373695-58375015 , chrX:48487040-48488842  , chr16:726514-729450     , chr8:128044551-128045666, chr8:127859401-127860630, chr11:61841459-61842879 , chrX:48793902-48795694  , chr20:57409509-57410825 , chr16:144700-145187     , chr16:578208-579482     , chrX:48631228-48632528   |\n",
       "| ccre_v3:DNase-H3K4me3,CTCF-bound | 1.113463e-02 | 1.113463e-02 | 0.38073040 | 0.5601636 | 1.785218 | 10 | chr2:60550044-60551083 , chr20:58236706-58237346, chr20:57523756-57526705, chr20:58179062-58180036, chr2:60554041-60555742 , chr16:71295-72412      , chr16:1151778-1153303  , chr11:34357192-34359669, chr11:34173487-34175052, chr16:714464-716381     |\n",
       "| ccre_v3:DNase-H3K4me3            | 1.808192e-01 | 1.808192e-01 | 0.09721508 | 0.3959064 | 1.320317 | 12 | chr20:58236706-58237346, chrX:48911082-48913003 , chr16:72695-73044      , chr11:33700194-33701286, chr16:71295-72412      , chr16:629444-631401    , chr16:694114-694522    , chr16:1151778-1153303  , chr11:34357192-34359669, chr16:424721-426835    , chr16:173265-173763    , chr11:6473524-6475387   |\n",
       "| ccre_v3:DNase-only               | 1.967574e-02 | 1.967574e-02 | 0.35248786 | 0.3666739 | 1.572389 | 48 | chr11:34234020-34234512 , chr16:1137641-1138045   , chr11:34241932-34243528 , chr8:126804776-126805825, chr20:57250796-57252293 , chr11:34609472-34610385 , chr16:1089754-1091999   , chr2:60296537-60298492  , chr20:57420700-57421552 , chrX:47936250-47937308  , chr20:57577741-57578760 , chr16:490993-491857     , chr20:57718486-57719139 , chrX:48496584-48497122  , chr11:5507880-5509240   , chr8:127760007-127761404, chr2:61447865-61449052  , chr11:6468964-6469574   , chr8:128149790-128150487, chr20:57460848-57461756 , chr16:1048190-1050261   , chr8:127980105-127980581, chr11:34033879-34034681 , chr20:57329373-57330231  |\n",
       "\n"
      ],
      "text/plain": [
       "  pathway                          pval         padj         log2err   \n",
       "1 ccre_v3:CTCF-only,CTCF-bound     2.897103e-02 2.897103e-02 0.26635066\n",
       "2 ccre_v3:dELS,CTCF-bound          1.038735e-02 1.038735e-02 0.38073040\n",
       "3 ccre_v3:dELS                     1.205282e-12 1.205282e-12 0.91011973\n",
       "4 ccre_v3:DNase-H3K4me3,CTCF-bound 1.113463e-02 1.113463e-02 0.38073040\n",
       "5 ccre_v3:DNase-H3K4me3            1.808192e-01 1.808192e-01 0.09721508\n",
       "6 ccre_v3:DNase-only               1.967574e-02 1.967574e-02 0.35248786\n",
       "  ES        NES      size\n",
       "1 0.3094418 1.414557 78  \n",
       "2 0.4823140 1.766232 19  \n",
       "3 0.5170577 2.406543 94  \n",
       "4 0.5601636 1.785218 10  \n",
       "5 0.3959064 1.320317 12  \n",
       "6 0.3666739 1.572389 48  \n",
       "  leadingEdge                                                                                                                                                                                                                                                                                                                                                                                                                                                                                                                                                                                                                                                                                                                                                                                                                                                                                                                                                                                                                                                                                                                                                                                                                                                                                                                                                                                                                                                                                                                                                                                 \n",
       "1 chr16:785365-786016     , chr20:56626306-56626978 , chr16:1150597-1150980   , chrX:48025602-48027305  , chr20:58233920-58234495 , chr11:5600369-5600825   , chr16:487655-488120     , chr11:6269709-6272223   , chrX:48971489-48972805  , chrX:49840468-49841285  , chr11:5507143-5507643   , chr20:57514013-57514715 , chr11:33987858-33988347 , chrX:49291582-49293153  , chr2:61425472-61427136  , chr20:57582887-57583526 , chr11:33808171-33810228 , chr20:57594098-57594776 , chr16:578208-579482     , chr11:5808483-5809339   , chr16:96255-97663       , chr2:60581308-60582350  , chr16:546503-547496     , chrX:48493981-48494574  , chr8:126824093-126824987, chr11:6251053-6252694   , chr16:1057282-1057997   , chr2:60674341-60675636  , chr11:5475885-5476903   , chrX:49626945-49627790  , chr16:813403-814002     , chr11:34492757-34493856 , chr11:33857197-33858390 , chr11:6315738-6316403   , chr20:56577302-56578168 , chr20:58209567-58210686 , chr16:745640-746124     , chr11:61897731-61898477 , chr20:57089380-57090283 , chr20:57596718-57597692 , chr16:733665-734298     , chr16:106793-107475     , chr16:1102925-1103930   , chr11:34791840-34792579 , chr16:363022-365210     , chr11:34512779-34514100 , chr8:127724898-127726838                                                                                                                                                                                                                                                                                                                        \n",
       "2 chrX:49039728-49040229  , chr20:57389114-57391310 , chr16:622004-623228     , chr16:142369-143867     , chrX:49230194-49231405  , chr11:34599585-34601201 , chr11:61869565-61871916 , chrX:49177122-49178250  , chrX:49175582-49176185  , chrX:48631228-48632528  , chr20:57464624-57465376 , chr11:5531048-5531939   , chr16:660456-661697     , chrX:48890603-48892283  , chr11:5195849-5196876   , chr8:127914371-127914665, chr8:127967394-127968596, chrX:48616469-48618242                                                                                                                                                                                                                                                                                                                                                                                                                                                                                                                                                                                                                                                                                                                                                                                                                                                                                                                                                                                                                                                                                                            \n",
       "3 chr11:5280584-5281311   , chr16:807054-808186     , chr11:34809279-34810196 , chr16:112817-114269     , chr8:127898363-127899746, chr11:33941500-33942221 , chr11:5591550-5591995   , chr11:61834076-61835329 , chr8:128556572-128557393, chr11:5275424-5276195   , chrX:48782524-48783758  , chr8:128176331-128177858, chr11:34603280-34604257 , chr20:57450535-57452546 , chrX:48680411-48680783  , chrX:49147328-49149698  , chr11:61800085-61801113 , chr8:128343440-128344454, chr11:33944510-33945297 , chr16:405242-406077     , chr11:34241932-34243528 , chr11:33936760-33937819 , chr2:61287384-61288774  , chr11:34044347-34045793 , chr11:33912236-33913186 , chrX:48936872-48937767  , chr20:57432673-57433564 , chr11:5287782-5288588   , chr8:127854019-127854900, chrX:48961443-48962257  , chr2:60808237-60808934  , chr16:622004-623228     , chr16:142369-143867     , chr8:128065105-128066356, chr8:128035047-128035766, chr20:56422232-56423039 , chrX:49230194-49231405  , chr20:57414987-57415550 , chr11:5258259-5259344   , chr11:4658480-4659558   , chr16:323762-325231     , chr20:57448688-57449248 , chr2:61465300-61466307  , chrX:49190704-49191897  , chr11:34599585-34601201 , chr2:60806729-60807835  , chr16:252256-253387     , chr11:61869565-61871916 , chr20:58373695-58375015 , chrX:48487040-48488842  , chr16:726514-729450     , chr8:128044551-128045666, chr8:127859401-127860630, chr11:61841459-61842879 , chrX:48793902-48795694  , chr20:57409509-57410825 , chr16:144700-145187     , chr16:578208-579482     , chrX:48631228-48632528  \n",
       "4 chr2:60550044-60551083 , chr20:58236706-58237346, chr20:57523756-57526705, chr20:58179062-58180036, chr2:60554041-60555742 , chr16:71295-72412      , chr16:1151778-1153303  , chr11:34357192-34359669, chr11:34173487-34175052, chr16:714464-716381                                                                                                                                                                                                                                                                                                                                                                                                                                                                                                                                                                                                                                                                                                                                                                                                                                                                                                                                                                                                                                                                                                                                                                                                                                                                                                                                        \n",
       "5 chr20:58236706-58237346, chrX:48911082-48913003 , chr16:72695-73044      , chr11:33700194-33701286, chr16:71295-72412      , chr16:629444-631401    , chr16:694114-694522    , chr16:1151778-1153303  , chr11:34357192-34359669, chr16:424721-426835    , chr16:173265-173763    , chr11:6473524-6475387                                                                                                                                                                                                                                                                                                                                                                                                                                                                                                                                                                                                                                                                                                                                                                                                                                                                                                                                                                                                                                                                                                                                                                                                                                                                                    \n",
       "6 chr11:34234020-34234512 , chr16:1137641-1138045   , chr11:34241932-34243528 , chr8:126804776-126805825, chr20:57250796-57252293 , chr11:34609472-34610385 , chr16:1089754-1091999   , chr2:60296537-60298492  , chr20:57420700-57421552 , chrX:47936250-47937308  , chr20:57577741-57578760 , chr16:490993-491857     , chr20:57718486-57719139 , chrX:48496584-48497122  , chr11:5507880-5509240   , chr8:127760007-127761404, chr2:61447865-61449052  , chr11:6468964-6469574   , chr8:128149790-128150487, chr20:57460848-57461756 , chr16:1048190-1050261   , chr8:127980105-127980581, chr11:34033879-34034681 , chr20:57329373-57330231                                                                                                                                                                                                                                                                                                                                                                                                                                                                                                                                                                                                                                                                                                                                                                                                                                                                                                                                               "
      ]
     },
     "metadata": {},
     "output_type": "display_data"
    }
   ],
   "source": [
    "fdiry  = file.path(FD_RES, \"results\", \"region\", \"KS91_K562_ASTARRseq_peak_macs_input\", \"enrichment_results_merge\")\n",
    "fname  = \"score_merge_overall_*\"\n",
    "fglob  = file.path(fdiry, fname)\n",
    "fpaths = Sys.glob(fglob)\n",
    "print(length(fpaths))\n",
    "\n",
    "lst = lapply(fpaths, function(fpath){\n",
    "    dat = readRDS(fpath)\n",
    "    print(fpath)\n",
    "    print(dim(dat))\n",
    "    return(dat)\n",
    "})\n",
    "\n",
    "dat = bind_rows(lst)\n",
    "\n",
    "dat_enrich_other = dat\n",
    "print(dim(dat))\n",
    "head(dat)"
   ]
  },
  {
   "cell_type": "code",
   "execution_count": 7,
   "metadata": {},
   "outputs": [
    {
     "name": "stdout",
     "output_type": "stream",
     "text": [
      "[1] 0 8\n"
     ]
    }
   ],
   "source": [
    "fdiry  = file.path(FD_RES, \"results\", \"region\", \"KS91_K562_ASTARRseq_peak_macs_input\", \"enrichment_results_merge_chipseq_tf\")\n",
    "fname  = \"score_merge_overall_*\"\n",
    "fglob  = file.path(fdiry, fname)\n",
    "fpaths = Sys.glob(fglob)\n",
    "\n",
    "lst = lapply(fpaths, function(fpath){\n",
    "    dat = readRDS(fpath)\n",
    "    return(dat)\n",
    "})\n",
    "\n",
    "dat = bind_rows(lst)\n",
    "\n",
    "dat_enrich_chipseq_tf = dat\n",
    "print(dim(dat))"
   ]
  },
  {
   "cell_type": "code",
   "execution_count": 8,
   "metadata": {},
   "outputs": [
    {
     "name": "stdout",
     "output_type": "stream",
     "text": [
      "[1] 763   9\n"
     ]
    },
    {
     "data": {
      "text/html": [
       "<table class=\"dataframe\">\n",
       "<caption>A data.frame: 6 × 9</caption>\n",
       "<thead>\n",
       "\t<tr><th></th><th scope=col>Annotation</th><th scope=col>Label</th><th scope=col>pval</th><th scope=col>padj</th><th scope=col>log2err</th><th scope=col>ES</th><th scope=col>NES</th><th scope=col>size</th><th scope=col>nLogP</th></tr>\n",
       "\t<tr><th></th><th scope=col>&lt;chr&gt;</th><th scope=col>&lt;chr&gt;</th><th scope=col>&lt;dbl&gt;</th><th scope=col>&lt;dbl&gt;</th><th scope=col>&lt;dbl&gt;</th><th scope=col>&lt;dbl&gt;</th><th scope=col>&lt;dbl&gt;</th><th scope=col>&lt;int&gt;</th><th scope=col>&lt;dbl&gt;</th></tr>\n",
       "</thead>\n",
       "<tbody>\n",
       "\t<tr><th scope=row>1</th><td>ccre_v3</td><td>CTCF-only,CTCF-bound    </td><td>5.194805e-02</td><td>5.752738e-02</td><td>0.1957890</td><td>0.2931971</td><td>1.340765</td><td>80</td><td> 1.2401254</td></tr>\n",
       "\t<tr><th scope=row>2</th><td>ccre_v3</td><td>dELS,CTCF-bound         </td><td>3.978387e-03</td><td>4.735584e-03</td><td>0.4070179</td><td>0.4973922</td><td>1.850312</td><td>21</td><td> 2.3246265</td></tr>\n",
       "\t<tr><th scope=row>3</th><td>ccre_v3</td><td>dELS                    </td><td>7.026912e-13</td><td>1.605250e-12</td><td>0.9214260</td><td>0.5251367</td><td>2.457154</td><td>96</td><td>11.7944574</td></tr>\n",
       "\t<tr><th scope=row>4</th><td>ccre_v3</td><td>DNase-H3K4me3,CTCF-bound</td><td>1.113463e-02</td><td>1.285283e-02</td><td>0.3807304</td><td>0.5601636</td><td>1.785218</td><td>10</td><td> 1.8910011</td></tr>\n",
       "\t<tr><th scope=row>5</th><td>ccre_v3</td><td>DNase-H3K4me3           </td><td>1.408591e-01</td><td>1.494792e-01</td><td>0.1128434</td><td>0.3977387</td><td>1.365310</td><td>14</td><td> 0.8254193</td></tr>\n",
       "\t<tr><th scope=row>6</th><td>ccre_v3</td><td>DNase-only              </td><td>5.465597e-03</td><td>6.445519e-03</td><td>0.4070179</td><td>0.3858264</td><td>1.666815</td><td>50</td><td> 2.1907421</td></tr>\n",
       "</tbody>\n",
       "</table>\n"
      ],
      "text/latex": [
       "A data.frame: 6 × 9\n",
       "\\begin{tabular}{r|lllllllll}\n",
       "  & Annotation & Label & pval & padj & log2err & ES & NES & size & nLogP\\\\\n",
       "  & <chr> & <chr> & <dbl> & <dbl> & <dbl> & <dbl> & <dbl> & <int> & <dbl>\\\\\n",
       "\\hline\n",
       "\t1 & ccre\\_v3 & CTCF-only,CTCF-bound     & 5.194805e-02 & 5.752738e-02 & 0.1957890 & 0.2931971 & 1.340765 & 80 &  1.2401254\\\\\n",
       "\t2 & ccre\\_v3 & dELS,CTCF-bound          & 3.978387e-03 & 4.735584e-03 & 0.4070179 & 0.4973922 & 1.850312 & 21 &  2.3246265\\\\\n",
       "\t3 & ccre\\_v3 & dELS                     & 7.026912e-13 & 1.605250e-12 & 0.9214260 & 0.5251367 & 2.457154 & 96 & 11.7944574\\\\\n",
       "\t4 & ccre\\_v3 & DNase-H3K4me3,CTCF-bound & 1.113463e-02 & 1.285283e-02 & 0.3807304 & 0.5601636 & 1.785218 & 10 &  1.8910011\\\\\n",
       "\t5 & ccre\\_v3 & DNase-H3K4me3            & 1.408591e-01 & 1.494792e-01 & 0.1128434 & 0.3977387 & 1.365310 & 14 &  0.8254193\\\\\n",
       "\t6 & ccre\\_v3 & DNase-only               & 5.465597e-03 & 6.445519e-03 & 0.4070179 & 0.3858264 & 1.666815 & 50 &  2.1907421\\\\\n",
       "\\end{tabular}\n"
      ],
      "text/markdown": [
       "\n",
       "A data.frame: 6 × 9\n",
       "\n",
       "| <!--/--> | Annotation &lt;chr&gt; | Label &lt;chr&gt; | pval &lt;dbl&gt; | padj &lt;dbl&gt; | log2err &lt;dbl&gt; | ES &lt;dbl&gt; | NES &lt;dbl&gt; | size &lt;int&gt; | nLogP &lt;dbl&gt; |\n",
       "|---|---|---|---|---|---|---|---|---|---|\n",
       "| 1 | ccre_v3 | CTCF-only,CTCF-bound     | 5.194805e-02 | 5.752738e-02 | 0.1957890 | 0.2931971 | 1.340765 | 80 |  1.2401254 |\n",
       "| 2 | ccre_v3 | dELS,CTCF-bound          | 3.978387e-03 | 4.735584e-03 | 0.4070179 | 0.4973922 | 1.850312 | 21 |  2.3246265 |\n",
       "| 3 | ccre_v3 | dELS                     | 7.026912e-13 | 1.605250e-12 | 0.9214260 | 0.5251367 | 2.457154 | 96 | 11.7944574 |\n",
       "| 4 | ccre_v3 | DNase-H3K4me3,CTCF-bound | 1.113463e-02 | 1.285283e-02 | 0.3807304 | 0.5601636 | 1.785218 | 10 |  1.8910011 |\n",
       "| 5 | ccre_v3 | DNase-H3K4me3            | 1.408591e-01 | 1.494792e-01 | 0.1128434 | 0.3977387 | 1.365310 | 14 |  0.8254193 |\n",
       "| 6 | ccre_v3 | DNase-only               | 5.465597e-03 | 6.445519e-03 | 0.4070179 | 0.3858264 | 1.666815 | 50 |  2.1907421 |\n",
       "\n"
      ],
      "text/plain": [
       "  Annotation Label                    pval         padj         log2err  \n",
       "1 ccre_v3    CTCF-only,CTCF-bound     5.194805e-02 5.752738e-02 0.1957890\n",
       "2 ccre_v3    dELS,CTCF-bound          3.978387e-03 4.735584e-03 0.4070179\n",
       "3 ccre_v3    dELS                     7.026912e-13 1.605250e-12 0.9214260\n",
       "4 ccre_v3    DNase-H3K4me3,CTCF-bound 1.113463e-02 1.285283e-02 0.3807304\n",
       "5 ccre_v3    DNase-H3K4me3            1.408591e-01 1.494792e-01 0.1128434\n",
       "6 ccre_v3    DNase-only               5.465597e-03 6.445519e-03 0.4070179\n",
       "  ES        NES      size nLogP     \n",
       "1 0.2931971 1.340765 80    1.2401254\n",
       "2 0.4973922 1.850312 21    2.3246265\n",
       "3 0.5251367 2.457154 96   11.7944574\n",
       "4 0.5601636 1.785218 10    1.8910011\n",
       "5 0.3977387 1.365310 14    0.8254193\n",
       "6 0.3858264 1.666815 50    2.1907421"
      ]
     },
     "metadata": {},
     "output_type": "display_data"
    }
   ],
   "source": [
    "dat = bind_rows(dat_enrich_other, dat_enrich_chipseq_tf)\n",
    "dat = dat %>% \n",
    "    dplyr::select(pathway, pval, padj, log2err, ES, NES, size) %>%\n",
    "    tidyr::separate(col=pathway, into=c(\"Annotation\", \"Label\"), sep=\":\") %>%\n",
    "    dplyr::mutate(padj  = p.adjust(pval, \"BH\")) %>%\n",
    "    dplyr::mutate(nLogP = -log10(padj))\n",
    "\n",
    "dat_enrich_total = dat\n",
    "print(dim(dat))\n",
    "head(dat)"
   ]
  },
  {
   "cell_type": "markdown",
   "metadata": {},
   "source": [
    "## Save results"
   ]
  },
  {
   "cell_type": "code",
   "execution_count": 9,
   "metadata": {},
   "outputs": [],
   "source": [
    "fdiry = file.path(\n",
    "    FD_RES, \n",
    "    \"results\", \n",
    "    \"region\", \n",
    "    \"KS91_K562_ASTARRseq_peak_macs_input\", \n",
    "    \"summary\")\n",
    "fname = \"results.enrich.merge.overall.tsv\"\n",
    "fpath = file.path(fdiry, fname)\n",
    "\n",
    "dat = dat_enrich_total\n",
    "write_tsv(dat, fpath)"
   ]
  },
  {
   "cell_type": "code",
   "execution_count": null,
   "metadata": {},
   "outputs": [],
   "source": []
  },
  {
   "cell_type": "code",
   "execution_count": null,
   "metadata": {},
   "outputs": [],
   "source": []
  },
  {
   "cell_type": "code",
   "execution_count": null,
   "metadata": {},
   "outputs": [],
   "source": []
  }
 ],
 "metadata": {
  "kernelspec": {
   "display_name": "R",
   "language": "R",
   "name": "ir"
  },
  "language_info": {
   "codemirror_mode": "r",
   "file_extension": ".r",
   "mimetype": "text/x-r-source",
   "name": "R",
   "pygments_lexer": "r",
   "version": "4.3.0"
  }
 },
 "nbformat": 4,
 "nbformat_minor": 4
}
