{
 "cells": [
  {
   "cell_type": "markdown",
   "id": "114a83e9-6630-4283-8036-06911952d17f",
   "metadata": {},
   "source": [
    "**Set environment**"
   ]
  },
  {
   "cell_type": "code",
   "execution_count": 1,
   "id": "4e02c874-9397-4b79-a164-a8584fc53e57",
   "metadata": {},
   "outputs": [
    {
     "name": "stdout",
     "output_type": "stream",
     "text": [
      "You are on Duke Server: HARDAC\n",
      "BASE DIRECTORY (FD_BASE): /data/reddylab/Kuei\n",
      "WORK DIRECTORY (FD_WORK): /data/reddylab/Kuei/out\n",
      "CODE DIRECTORY (FD_CODE): /data/reddylab/Kuei/code\n",
      "SING DIRECTORY (FD_SING): /data/reddylab/Kuei/singularity\n",
      "PATH OF PROJECT (FD_PRJ): /data/reddylab/Kuei/code/Proj_CombEffect_ENCODE_FCC\n",
      "PATH OF RESULTS (FD_RES): /data/reddylab/Kuei/out/proj_combeffect_encode_fcc\n",
      "PATH OF LOG     (FD_LOG): /data/reddylab/Kuei/out/proj_combeffect_encode_fcc/log\n",
      "\n"
     ]
    }
   ],
   "source": [
    "### set env\n",
    "source ../config/config_duke.sh\n",
    "show_env"
   ]
  },
  {
   "cell_type": "markdown",
   "id": "e23cf319-c018-4fd7-ad05-58a89d6d32ba",
   "metadata": {},
   "source": [
    "**Check environment**"
   ]
  },
  {
   "cell_type": "code",
   "execution_count": 2,
   "id": "9722a0c7-25d1-4216-8f56-5cd0502aa973",
   "metadata": {},
   "outputs": [
    {
     "name": "stdout",
     "output_type": "stream",
     "text": [
      "/usr/bin/R\n"
     ]
    }
   ],
   "source": [
    "${FD_PRJ}/notebooks/sing_proj_encode_fcc.sh which R"
   ]
  },
  {
   "cell_type": "code",
   "execution_count": 3,
   "id": "65e88228-367d-4158-8f92-10278c92974e",
   "metadata": {},
   "outputs": [
    {
     "name": "stdout",
     "output_type": "stream",
     "text": [
      "[1] \"R version 4.3.0 (2023-04-21)\"\n"
     ]
    }
   ],
   "source": [
    "${FD_PRJ}/notebooks/sing_proj_encode_fcc.sh Rscript -e 'R.Version()$version.string'"
   ]
  },
  {
   "cell_type": "markdown",
   "id": "b8744eaf-e2a9-4c28-90f9-bc11b50c0a77",
   "metadata": {},
   "source": [
    "## Script for running enrichment"
   ]
  },
  {
   "cell_type": "code",
   "execution_count": 4,
   "id": "af9308ce-1248-4254-99b6-223eeb563946",
   "metadata": {},
   "outputs": [],
   "source": [
    "cat > run_fgsea.R << 'EOF'\n",
    "library(tidyverse)\n",
    "library(fgsea)\n",
    "\n",
    "### parse arguemnts\n",
    "myargs = commandArgs(trailingOnly=TRUE)\n",
    "FP_INP_SCORE = myargs[1]\n",
    "FP_INP_ANNOT = myargs[2]\n",
    "FD_OUT       = myargs[3]\n",
    "\n",
    "### Define output\n",
    "txt1   = sub(\".rds\", \"\", basename(FP_INP_SCORE))\n",
    "txt2   = sub(\".rds\", \"\", basename(FP_INP_ANNOT))\n",
    "txt    = paste(txt1, txt2, sep=\"_\")\n",
    "txt    = paste(txt, \"rds\", sep=\".\")\n",
    "FN_OUT = txt\n",
    "FP_OUT = file.path(FD_OUT, FN_OUT)\n",
    "\n",
    "### show\n",
    "cat(\"\\n\")\n",
    "cat(\"Input score:\", FP_INP_SCORE, \"\\n\\n\")\n",
    "cat(\"Input annot:\", FP_INP_ANNOT, \"\\n\\n\")\n",
    "cat(\"Output file:\", FP_OUT,       \"\\n\\n\")\n",
    "flush.console()\n",
    "\n",
    "### import data\n",
    "vec_score = readRDS(FP_INP_SCORE)\n",
    "lst_annot = readRDS(FP_INP_ANNOT)\n",
    "\n",
    "### run GSEA\n",
    "cat(\"RUN GSEA: Start.\\n\")\n",
    "set.seed(123)\n",
    "fgseaRes = fgsea(\n",
    "    pathways  = lst_annot, \n",
    "    stats     = vec_score,\n",
    "    eps       = 0.0,\n",
    "    scoreType = \"pos\"\n",
    ")\n",
    "cat(\"RUN GSEA: Done!\\n\\n\")\n",
    "\n",
    "### show results\n",
    "cat(\"Show results:\\n\")\n",
    "print(fgseaRes)\n",
    "cat(\"\\n\")\n",
    "\n",
    "### Save the results\n",
    "cat(\"Save results.\\n\")\n",
    "saveRDS(fgseaRes, FP_OUT)\n",
    "\n",
    "EOF"
   ]
  },
  {
   "cell_type": "code",
   "execution_count": 5,
   "id": "82301eba-4948-4169-99d3-5108cd9bdf07",
   "metadata": {},
   "outputs": [],
   "source": [
    "cat > run_fgsea.sh << 'EOF'\n",
    "#!/bin/bash\n",
    "\n",
    "### print start message\n",
    "timer_start=`date +%s`\n",
    "echo \"Hostname:          \" $(hostname)\n",
    "echo \"Slurm Array Index: \" ${SLURM_ARRAY_TASK_ID}\n",
    "echo \"Time Stamp:        \" $(date +\"%m-%d-%y+%T\")\n",
    "echo\n",
    "\n",
    "### setup input and output\n",
    "source ../config/config_duke.sh\n",
    "FP_INP_SCORE=$1\n",
    "FD_INP_ANNOT=$2\n",
    "FD_OUT=$3\n",
    "\n",
    "FP_INP_ANNOTS=($(ls ${FD_INP_ANNOT}/*rds))\n",
    "FP_INP_ANNOT=${FP_INP_ANNOTS[${SLURM_ARRAY_TASK_ID}]}\n",
    "\n",
    "### execute\n",
    "${FD_PRJ}/notebooks/sing_proj_encode_fcc.sh Rscript ./run_fgsea.R ${FP_INP_SCORE} ${FP_INP_ANNOT} ${FD_OUT}\n",
    "\n",
    "### print end message\n",
    "timer=`date +%s`\n",
    "runtime=$(echo \"${timer} - ${timer_start}\" | bc -l)\n",
    "echo\n",
    "echo 'Done!'\n",
    "echo \"Run Time: $(displaytime ${runtime})\"\n",
    "\n",
    "EOF\n",
    "\n",
    "chmod +x run_fgsea.sh"
   ]
  },
  {
   "cell_type": "markdown",
   "id": "855666bb-2366-44d4-8538-6e8976e12f97",
   "metadata": {},
   "source": [
    "## Check data"
   ]
  },
  {
   "cell_type": "markdown",
   "id": "652b3af9-d436-4b40-bf52-ef1cff0cb94c",
   "metadata": {},
   "source": [
    "**Score**"
   ]
  },
  {
   "cell_type": "code",
   "execution_count": 6,
   "id": "0f47a579-9778-4826-9b21-253a4d3d9f9b",
   "metadata": {},
   "outputs": [],
   "source": [
    "FD_INP_SCORE=${FD_RES}/results/region/KS91_K562_ASTARRseq_peak_macs_input/enrichment_prepare_score_merge"
   ]
  },
  {
   "cell_type": "code",
   "execution_count": 7,
   "id": "4249449a-b68e-482d-b7ca-9fce0b95741e",
   "metadata": {},
   "outputs": [
    {
     "name": "stdout",
     "output_type": "stream",
     "text": [
      "score_merge_astarr.rds   score_merge_tmpra.rds\n",
      "score_merge_overall.rds  score_merge_wstarr.rds\n"
     ]
    }
   ],
   "source": [
    "ls ${FD_INP_SCORE}"
   ]
  },
  {
   "cell_type": "code",
   "execution_count": 8,
   "id": "6aadfdd6-3305-4091-ba1f-31b2b183bea5",
   "metadata": {},
   "outputs": [
    {
     "name": "stdout",
     "output_type": "stream",
     "text": [
      "4\n"
     ]
    }
   ],
   "source": [
    "FP_INP_SCORES=($(ls ${FD_INP_SCORE}))\n",
    "echo ${#FP_INP_SCORES[@]}"
   ]
  },
  {
   "cell_type": "markdown",
   "id": "214e1438-2e2d-4410-8fa3-f2c9c2974f99",
   "metadata": {},
   "source": [
    "**Annotation**"
   ]
  },
  {
   "cell_type": "code",
   "execution_count": 9,
   "id": "2993c12b-ed17-41c8-8177-c957f3811c71",
   "metadata": {},
   "outputs": [
    {
     "name": "stdout",
     "output_type": "stream",
     "text": [
      "\u001b[0m\u001b[38;5;27m/data/reddylab/Kuei/out/proj_combeffect_encode_fcc/results/region/KS91_K562_ASTARRseq_peak_macs_input/enrichment_prepare_annot_chipseq_histone\u001b[0m\u001b[K\n",
      "\u001b[38;5;27m/data/reddylab/Kuei/out/proj_combeffect_encode_fcc/results/region/KS91_K562_ASTARRseq_peak_macs_input/enrichment_prepare_annot_chipseq_tf\u001b[0m\u001b[K\n",
      "\u001b[38;5;27m/data/reddylab/Kuei/out/proj_combeffect_encode_fcc/results/region/KS91_K562_ASTARRseq_peak_macs_input/enrichment_prepare_annot_chipseq_tf_subset\u001b[0m\u001b[K\n",
      "\u001b[38;5;27m/data/reddylab/Kuei/out/proj_combeffect_encode_fcc/results/region/KS91_K562_ASTARRseq_peak_macs_input/enrichment_prepare_annot_others\u001b[0m\u001b[K\n"
     ]
    }
   ],
   "source": [
    "ls -d ${FD_RES}/results/region/KS91_K562_ASTARRseq_peak_macs_input/enrichment_prepare_annot*"
   ]
  },
  {
   "cell_type": "markdown",
   "id": "e2d9df10-aca2-4564-a1db-8a4f8b2f954f",
   "metadata": {},
   "source": [
    "## Reset"
   ]
  },
  {
   "cell_type": "markdown",
   "id": "17f91a36-d4ae-43e4-8e38-f7e7b83ce8ee",
   "metadata": {},
   "source": [
    "```\n",
    "rm ${FD_RES}/results/region/KS91_K562_ASTARRseq_peak_macs_input/enrichment_prepare_annot_chipseq_tf_subset/*rds\n",
    "rm ${FD_RES}/results/region/KS91_K562_ASTARRseq_peak_macs_input/enrichment_results_merge/*rds\n",
    "rm ${FD_RES}/results/region/KS91_K562_ASTARRseq_peak_macs_input/enrichment_results_merge_chipseq_tf_subset/*rds\n",
    "```"
   ]
  },
  {
   "cell_type": "markdown",
   "id": "865b4ff2-b4d3-477c-8892-5e00cf3339fc",
   "metadata": {
    "tags": []
   },
   "source": [
    "## Run enrichment: All annotations besides ChIP-seq"
   ]
  },
  {
   "cell_type": "markdown",
   "id": "b8bff5e6-dabb-4633-9302-2785ad62ce45",
   "metadata": {},
   "source": [
    "**Check data**"
   ]
  },
  {
   "cell_type": "code",
   "execution_count": 10,
   "id": "7ac06b0d-af2f-45c7-9133-23d065de618a",
   "metadata": {},
   "outputs": [
    {
     "name": "stdout",
     "output_type": "stream",
     "text": [
      "annot_ccre_v3_CTCF_only_CTCF_bound.rds\n",
      "annot_ccre_v3_dELS_CTCF_bound.rds\n",
      "annot_ccre_v3_dELS.rds\n",
      "annot_ccre_v3_DNase_H3K4me3_CTCF_bound.rds\n",
      "annot_ccre_v3_DNase_H3K4me3.rds\n",
      "annot_ccre_v3_DNase_only.rds\n",
      "annot_ccre_v3_Low_DNase.rds\n",
      "annot_ccre_v3_pELS_CTCF_bound.rds\n",
      "annot_ccre_v3_pELS.rds\n",
      "annot_ccre_v3_PLS_CTCF_bound.rds\n",
      "annot_ccre_v3_PLS.rds\n",
      "annot_ccre_v4_CA_CTCF.rds\n",
      "annot_ccre_v4_CA_H3K4me3.rds\n",
      "annot_ccre_v4_CA_only.rds\n",
      "annot_ccre_v4_CA_TF.rds\n",
      "annot_ccre_v4_dELS.rds\n",
      "annot_ccre_v4_Low_DNase.rds\n",
      "annot_ccre_v4_pELS.rds\n",
      "annot_ccre_v4_PLS.rds\n",
      "annot_ChromHMM_Biv.rds\n",
      "annot_ChromHMM_Enh1.rds\n",
      "annot_ChromHMM_Enh2.rds\n",
      "annot_ChromHMM_EnhG1.rds\n",
      "annot_ChromHMM_EnhG2.rds\n",
      "annot_ChromHMM_Het.rds\n",
      "annot_ChromHMM_Quies.rds\n",
      "annot_ChromHMM_ReprPC.rds\n",
      "annot_ChromHMM_TssFlnkD.rds\n",
      "annot_ChromHMM_TssFlnk.rds\n",
      "annot_ChromHMM_TssFlnkU.rds\n",
      "annot_ChromHMM_Tss.rds\n",
      "annot_ChromHMM_Tx.rds\n",
      "annot_ChromHMM_TxWk.rds\n",
      "annot_ChromHMM_ZNF_Rpts.rds\n",
      "annot_CRISPRi_HCRFF_CRISPR_CASA.rds\n",
      "annot_Enhancer_Enhancer_STARR.rds\n",
      "annot_Enhancer_Enhancer_ZScore_STARR.rds\n",
      "annot_TSS_POL2_TSS.rds\n"
     ]
    }
   ],
   "source": [
    "FD_INP_ANNOT=${FD_RES}/results/region/KS91_K562_ASTARRseq_peak_macs_input/enrichment_prepare_annot_others\n",
    "ls ${FD_INP_ANNOT}"
   ]
  },
  {
   "cell_type": "code",
   "execution_count": 11,
   "id": "1506851b-b000-4bf5-ad96-90f3744a4975",
   "metadata": {},
   "outputs": [
    {
     "name": "stdout",
     "output_type": "stream",
     "text": [
      "38\n"
     ]
    }
   ],
   "source": [
    "FP_INP_ANNOTS=($(ls ${FD_INP_ANNOT}))\n",
    "echo ${#FP_INP_ANNOTS[@]}"
   ]
  },
  {
   "cell_type": "markdown",
   "id": "b17f92c1-50f1-4ed9-a381-5a22b595c498",
   "metadata": {},
   "source": [
    "**Test loop**"
   ]
  },
  {
   "cell_type": "code",
   "execution_count": 12,
   "id": "733ff297-f0d2-40da-9443-9dc969f2d405",
   "metadata": {},
   "outputs": [
    {
     "name": "stdout",
     "output_type": "stream",
     "text": [
      "/data/reddylab/Kuei/out/proj_combeffect_encode_fcc/results/region/KS91_K562_ASTARRseq_peak_macs_input/enrichment_prepare_score_merge/score_merge_astarr.rds\n",
      "score_merge_astarr.rds\n",
      "score_merge_astarr\n",
      "/data/reddylab/Kuei/out/proj_combeffect_encode_fcc/results/region/KS91_K562_ASTARRseq_peak_macs_input/enrichment_results_merge\n",
      "\n",
      "/data/reddylab/Kuei/out/proj_combeffect_encode_fcc/results/region/KS91_K562_ASTARRseq_peak_macs_input/enrichment_prepare_score_merge/score_merge_overall.rds\n",
      "score_merge_overall.rds\n",
      "score_merge_overall\n",
      "/data/reddylab/Kuei/out/proj_combeffect_encode_fcc/results/region/KS91_K562_ASTARRseq_peak_macs_input/enrichment_results_merge\n",
      "\n",
      "/data/reddylab/Kuei/out/proj_combeffect_encode_fcc/results/region/KS91_K562_ASTARRseq_peak_macs_input/enrichment_prepare_score_merge/score_merge_tmpra.rds\n",
      "score_merge_tmpra.rds\n",
      "score_merge_tmpra\n",
      "/data/reddylab/Kuei/out/proj_combeffect_encode_fcc/results/region/KS91_K562_ASTARRseq_peak_macs_input/enrichment_results_merge\n",
      "\n",
      "/data/reddylab/Kuei/out/proj_combeffect_encode_fcc/results/region/KS91_K562_ASTARRseq_peak_macs_input/enrichment_prepare_score_merge/score_merge_wstarr.rds\n",
      "score_merge_wstarr.rds\n",
      "score_merge_wstarr\n",
      "/data/reddylab/Kuei/out/proj_combeffect_encode_fcc/results/region/KS91_K562_ASTARRseq_peak_macs_input/enrichment_results_merge\n",
      "\n"
     ]
    }
   ],
   "source": [
    "FD_INP_SCORE=${FD_RES}/results/region/KS91_K562_ASTARRseq_peak_macs_input/enrichment_prepare_score_merge\n",
    "FD_INP_ANNOT=${FD_RES}/results/region/KS91_K562_ASTARRseq_peak_macs_input/enrichment_prepare_annot_others\n",
    "FD_OUT=${FD_RES}/results/region/KS91_K562_ASTARRseq_peak_macs_input/enrichment_results_merge\n",
    "\n",
    "FP_INP_SCORES=($(ls ${FD_INP_SCORE}/*.rds))\n",
    "for FP_INP_SCORE in ${FP_INP_SCORES[@]}; do\n",
    "    FN_INP_SCORE=$(basename ${FP_INP_SCORE})\n",
    "    ID_INP_SCORE=${FN_INP_SCORE%.rds}\n",
    "    echo ${FP_INP_SCORE}\n",
    "    echo ${FN_INP_SCORE}\n",
    "    echo ${ID_INP_SCORE}\n",
    "    echo ${FD_OUT}\n",
    "    echo\n",
    "done"
   ]
  },
  {
   "cell_type": "markdown",
   "id": "ac096b98-9336-4c02-b7d5-0d49b098b466",
   "metadata": {},
   "source": [
    "**RUN**"
   ]
  },
  {
   "cell_type": "code",
   "execution_count": 13,
   "id": "cc8a4a6c-1a04-48b3-9b38-b7b42bc5881b",
   "metadata": {},
   "outputs": [
    {
     "name": "stdout",
     "output_type": "stream",
     "text": [
      "score_merge_astarr\n",
      "Submitted batch job 29821714\n",
      "score_merge_overall\n",
      "Submitted batch job 29821715\n",
      "score_merge_tmpra\n",
      "Submitted batch job 29821716\n",
      "score_merge_wstarr\n",
      "Submitted batch job 29821717\n"
     ]
    }
   ],
   "source": [
    "FD_INP_SCORE=${FD_RES}/results/region/KS91_K562_ASTARRseq_peak_macs_input/enrichment_prepare_score_merge\n",
    "FD_INP_ANNOT=${FD_RES}/results/region/KS91_K562_ASTARRseq_peak_macs_input/enrichment_prepare_annot_others\n",
    "FD_OUT=${FD_RES}/results/region/KS91_K562_ASTARRseq_peak_macs_input/enrichment_results_merge\n",
    "\n",
    "FP_INP_SCORES=($(ls ${FD_INP_SCORE}/*.rds))\n",
    "for FP_INP_SCORE in ${FP_INP_SCORES[@]}; do\n",
    "    FN_INP_SCORE=$(basename ${FP_INP_SCORE})\n",
    "    ID_INP_SCORE=${FN_INP_SCORE%.rds}\n",
    "    \n",
    "    echo ${ID_INP_SCORE}\n",
    "    sbatch -p ${NODE} \\\n",
    "        --exclude=dl-01 \\\n",
    "        --cpus-per-task 8 \\\n",
    "        --mem 4G \\\n",
    "        --output ${FD_LOG}/run_fgsea_${ID_INP_SCORE}_annot_others.%a.txt \\\n",
    "        --array 0-37 \\\n",
    "        ./run_fgsea.sh ${FP_INP_SCORE} ${FD_INP_ANNOT} ${FD_OUT}\n",
    "done"
   ]
  },
  {
   "cell_type": "markdown",
   "id": "d9b54e8c-16e0-4959-8b1c-c47c6ba8148e",
   "metadata": {},
   "source": [
    "**Check results**"
   ]
  },
  {
   "cell_type": "code",
   "execution_count": 14,
   "id": "7eba59d5-5c2f-4429-b54d-74b806b2238c",
   "metadata": {},
   "outputs": [
    {
     "name": "stdout",
     "output_type": "stream",
     "text": [
      "Hostname:           x2-03-3.genome.duke.edu\n",
      "Slurm Array Index:  0\n",
      "Time Stamp:         05-11-23+13:27:22\n",
      "\n",
      "── Attaching packages ─────────────────────────────────────── tidyverse 1.3.1 ──\n",
      "✔ ggplot2 3.4.2     ✔ purrr   1.0.1\n",
      "✔ tibble  3.2.1     ✔ dplyr   1.1.1\n",
      "✔ tidyr   1.3.0     ✔ stringr 1.4.1\n",
      "✔ readr   2.1.4     ✔ forcats 1.0.0\n",
      "── Conflicts ────────────────────────────────────────── tidyverse_conflicts() ──\n",
      "✖ dplyr::filter() masks stats::filter()\n",
      "✖ dplyr::lag()    masks stats::lag()\n",
      "\n",
      "Input score: /data/reddylab/Kuei/out/proj_combeffect_encode_fcc/results/region/KS91_K562_ASTARRseq_peak_macs_input/enrichment_prepare_score_merge/score_merge_overall.rds \n",
      "\n",
      "Input annot: /data/reddylab/Kuei/out/proj_combeffect_encode_fcc/results/region/KS91_K562_ASTARRseq_peak_macs_input/enrichment_prepare_annot_others/annot_ccre_v3_CTCF_only_CTCF_bound.rds \n",
      "\n",
      "Output file: /data/reddylab/Kuei/out/proj_combeffect_encode_fcc/results/region/KS91_K562_ASTARRseq_peak_macs_input/enrichment_results_merge/score_merge_overall_annot_ccre_v3_CTCF_only_CTCF_bound.rds \n",
      "\n",
      "RUN GSEA: Start.\n",
      "Warning message:\n",
      "In preparePathwaysAndStats(pathways, stats, minSize, maxSize, gseaParam,  :\n",
      "  There are ties in the preranked stats (13.94% of the list).\n",
      "The order of those tied genes will be arbitrary, which may produce unexpected results.\n",
      "RUN GSEA: Done!\n",
      "\n",
      "Show results:\n",
      "                        pathway       pval       padj  log2err        ES\n",
      "1: ccre_v3:CTCF-only,CTCF-bound 0.05194805 0.05194805 0.195789 0.2931971\n",
      "        NES size\n",
      "1: 1.340765   80\n",
      "                                                                                                                                  leadingEdge\n",
      "1: chr16_785365_786016,chr20_56626306_56626978,chr16_1150597_1150980,chrX_48025602_48027305,chr20_58233920_58234495,chr11_5600369_5600825,...\n",
      "\n",
      "Save results.\n",
      "\n",
      "Done!\n",
      "Run Time: 7 seconds\n"
     ]
    }
   ],
   "source": [
    "cat /data/reddylab/Kuei/out/proj_combeffect_encode_fcc/log/run_fgsea_score_merge_overall_annot_others.0.txt"
   ]
  },
  {
   "cell_type": "code",
   "execution_count": 15,
   "id": "6000cf77-7b50-445b-a46e-2dd757168636",
   "metadata": {},
   "outputs": [
    {
     "name": "stdout",
     "output_type": "stream",
     "text": [
      "Hostname:           x1-03-1.genome.duke.edu\n",
      "Slurm Array Index:  0\n",
      "Time Stamp:         05-11-23+13:27:22\n",
      "\n",
      "── Attaching packages ─────────────────────────────────────── tidyverse 1.3.1 ──\n",
      "✔ ggplot2 3.4.2     ✔ purrr   1.0.1\n",
      "✔ tibble  3.2.1     ✔ dplyr   1.1.1\n",
      "✔ tidyr   1.3.0     ✔ stringr 1.4.1\n",
      "✔ readr   2.1.4     ✔ forcats 1.0.0\n",
      "── Conflicts ────────────────────────────────────────── tidyverse_conflicts() ──\n",
      "✖ dplyr::filter() masks stats::filter()\n",
      "✖ dplyr::lag()    masks stats::lag()\n",
      "\n",
      "Input score: /data/reddylab/Kuei/out/proj_combeffect_encode_fcc/results/region/KS91_K562_ASTARRseq_peak_macs_input/enrichment_prepare_score_merge/score_merge_astarr.rds \n",
      "\n",
      "Input annot: /data/reddylab/Kuei/out/proj_combeffect_encode_fcc/results/region/KS91_K562_ASTARRseq_peak_macs_input/enrichment_prepare_annot_others/annot_ccre_v3_CTCF_only_CTCF_bound.rds \n",
      "\n",
      "Output file: /data/reddylab/Kuei/out/proj_combeffect_encode_fcc/results/region/KS91_K562_ASTARRseq_peak_macs_input/enrichment_results_merge/score_merge_astarr_annot_ccre_v3_CTCF_only_CTCF_bound.rds \n",
      "\n",
      "RUN GSEA: Start.\n",
      "RUN GSEA: Done!\n",
      "\n",
      "Show results:\n",
      "                        pathway      pval      padj    log2err        ES\n",
      "1: ccre_v3:CTCF-only,CTCF-bound 0.7382617 0.7382617 0.02716698 0.2597125\n",
      "         NES size\n",
      "1: 0.8998583   80\n",
      "                                                                                                                                      leadingEdge\n",
      "1: chr2_60674341_60675636,chr11_5600369_5600825,chrX_49840468_49841285,chr20_58233920_58234495,chr2_61425472_61427136,chr11_34791840_34792579,...\n",
      "\n",
      "Save results.\n",
      "\n",
      "Done!\n",
      "Run Time: 9 seconds\n"
     ]
    }
   ],
   "source": [
    "cat /data/reddylab/Kuei/out/proj_combeffect_encode_fcc/log/run_fgsea_score_merge_astarr_annot_others.0.txt"
   ]
  },
  {
   "cell_type": "code",
   "execution_count": 16,
   "id": "b0a9b62a-7323-4be1-90c2-4917c16ca519",
   "metadata": {},
   "outputs": [
    {
     "name": "stdout",
     "output_type": "stream",
     "text": [
      "Hostname:           x2-03-3.genome.duke.edu\n",
      "Slurm Array Index:  37\n",
      "Time Stamp:         05-11-23+13:27:22\n",
      "\n",
      "── Attaching packages ─────────────────────────────────────── tidyverse 1.3.1 ──\n",
      "✔ ggplot2 3.4.2     ✔ purrr   1.0.1\n",
      "✔ tibble  3.2.1     ✔ dplyr   1.1.1\n",
      "✔ tidyr   1.3.0     ✔ stringr 1.4.1\n",
      "✔ readr   2.1.4     ✔ forcats 1.0.0\n",
      "── Conflicts ────────────────────────────────────────── tidyverse_conflicts() ──\n",
      "✖ dplyr::filter() masks stats::filter()\n",
      "✖ dplyr::lag()    masks stats::lag()\n",
      "\n",
      "Input score: /data/reddylab/Kuei/out/proj_combeffect_encode_fcc/results/region/KS91_K562_ASTARRseq_peak_macs_input/enrichment_prepare_score_merge/score_merge_astarr.rds \n",
      "\n",
      "Input annot: /data/reddylab/Kuei/out/proj_combeffect_encode_fcc/results/region/KS91_K562_ASTARRseq_peak_macs_input/enrichment_prepare_annot_others/annot_TSS_POL2_TSS.rds \n",
      "\n",
      "Output file: /data/reddylab/Kuei/out/proj_combeffect_encode_fcc/results/region/KS91_K562_ASTARRseq_peak_macs_input/enrichment_results_merge/score_merge_astarr_annot_TSS_POL2_TSS.rds \n",
      "\n",
      "RUN GSEA: Start.\n",
      "RUN GSEA: Done!\n",
      "\n",
      "Show results:\n",
      "        pathway       pval       padj   log2err       ES      NES size\n",
      "1: TSS_POL2:TSS 0.02797203 0.02797203 0.2712886 0.334818 1.210015  156\n",
      "                                                                                                                                          leadingEdge\n",
      "1: chr20_56411580_56412866,chr2_60755774_60757171,chr2_61016793_61018539,chrX_47836113_47837157,chr8_128048113_128049711,chr8_127959623_127961065,...\n",
      "\n",
      "Save results.\n",
      "\n",
      "Done!\n",
      "Run Time: 6 seconds\n"
     ]
    }
   ],
   "source": [
    "cat /data/reddylab/Kuei/out/proj_combeffect_encode_fcc/log/run_fgsea_score_merge_astarr_annot_others.37.txt"
   ]
  },
  {
   "cell_type": "markdown",
   "id": "5055908b-a94f-41aa-9a80-7b7d5aabc253",
   "metadata": {},
   "source": [
    "## Run enrichment: ChIP-seq Histone modifications"
   ]
  },
  {
   "cell_type": "markdown",
   "id": "4731b285-cfa5-4a2d-a570-19f5b5f9a612",
   "metadata": {},
   "source": [
    "**Check data**"
   ]
  },
  {
   "cell_type": "code",
   "execution_count": 17,
   "id": "0fcd3004-d531-4f65-aecd-bb385a91ca35",
   "metadata": {},
   "outputs": [
    {
     "name": "stdout",
     "output_type": "stream",
     "text": [
      "annot_ChIPseq_Histone_H2AFZ.rds     annot_ChIPseq_Histone_H3K4me3.rds\n",
      "annot_ChIPseq_Histone_H3K27ac.rds   annot_ChIPseq_Histone_H3K79me2.rds\n",
      "annot_ChIPseq_Histone_H3K27me3.rds  annot_ChIPseq_Histone_H3K9ac.rds\n",
      "annot_ChIPseq_Histone_H3K36me3.rds  annot_ChIPseq_Histone_H3K9me1.rds\n",
      "annot_ChIPseq_Histone_H3K4me1.rds   annot_ChIPseq_Histone_H3K9me3.rds\n",
      "annot_ChIPseq_Histone_H3K4me2.rds   annot_ChIPseq_Histone_H4K20me1.rds\n"
     ]
    }
   ],
   "source": [
    "FD_INP_ANNOT=${FD_RES}/results/region/KS91_K562_ASTARRseq_peak_macs_input/enrichment_prepare_annot_chipseq_histone\n",
    "ls ${FD_INP_ANNOT}"
   ]
  },
  {
   "cell_type": "code",
   "execution_count": 18,
   "id": "bd0fdc2c-3532-430e-befb-4b964692c400",
   "metadata": {},
   "outputs": [
    {
     "name": "stdout",
     "output_type": "stream",
     "text": [
      "12\n"
     ]
    }
   ],
   "source": [
    "FP_INP_ANNOTS=($(ls ${FD_INP_ANNOT}))\n",
    "echo ${#FP_INP_ANNOTS[@]}"
   ]
  },
  {
   "cell_type": "markdown",
   "id": "3491dc24-9f7a-450d-8d0c-152bf3610e9f",
   "metadata": {},
   "source": [
    "**Test loop**"
   ]
  },
  {
   "cell_type": "code",
   "execution_count": 19,
   "id": "1cc68c6c-e31f-4a6e-9ed6-96bfba8ad14a",
   "metadata": {},
   "outputs": [
    {
     "name": "stdout",
     "output_type": "stream",
     "text": [
      "/data/reddylab/Kuei/out/proj_combeffect_encode_fcc/results/region/KS91_K562_ASTARRseq_peak_macs_input/enrichment_prepare_score_merge/score_merge_astarr.rds\n",
      "score_merge_astarr.rds\n",
      "score_merge_astarr\n",
      "/data/reddylab/Kuei/out/proj_combeffect_encode_fcc/results/region/KS91_K562_ASTARRseq_peak_macs_input/enrichment_results_merge\n",
      "\n",
      "/data/reddylab/Kuei/out/proj_combeffect_encode_fcc/results/region/KS91_K562_ASTARRseq_peak_macs_input/enrichment_prepare_score_merge/score_merge_overall.rds\n",
      "score_merge_overall.rds\n",
      "score_merge_overall\n",
      "/data/reddylab/Kuei/out/proj_combeffect_encode_fcc/results/region/KS91_K562_ASTARRseq_peak_macs_input/enrichment_results_merge\n",
      "\n",
      "/data/reddylab/Kuei/out/proj_combeffect_encode_fcc/results/region/KS91_K562_ASTARRseq_peak_macs_input/enrichment_prepare_score_merge/score_merge_tmpra.rds\n",
      "score_merge_tmpra.rds\n",
      "score_merge_tmpra\n",
      "/data/reddylab/Kuei/out/proj_combeffect_encode_fcc/results/region/KS91_K562_ASTARRseq_peak_macs_input/enrichment_results_merge\n",
      "\n",
      "/data/reddylab/Kuei/out/proj_combeffect_encode_fcc/results/region/KS91_K562_ASTARRseq_peak_macs_input/enrichment_prepare_score_merge/score_merge_wstarr.rds\n",
      "score_merge_wstarr.rds\n",
      "score_merge_wstarr\n",
      "/data/reddylab/Kuei/out/proj_combeffect_encode_fcc/results/region/KS91_K562_ASTARRseq_peak_macs_input/enrichment_results_merge\n",
      "\n"
     ]
    }
   ],
   "source": [
    "FD_INP_SCORE=${FD_RES}/results/region/KS91_K562_ASTARRseq_peak_macs_input/enrichment_prepare_score_merge\n",
    "FD_INP_ANNOT=${FD_RES}/results/region/KS91_K562_ASTARRseq_peak_macs_input/enrichment_prepare_annot_chipseq_histone\n",
    "FD_OUT=${FD_RES}/results/region/KS91_K562_ASTARRseq_peak_macs_input/enrichment_results_merge\n",
    "\n",
    "FP_INP_SCORES=($(ls ${FD_INP_SCORE}/*.rds))\n",
    "for FP_INP_SCORE in ${FP_INP_SCORES[@]}; do\n",
    "    FN_INP_SCORE=$(basename ${FP_INP_SCORE})\n",
    "    ID_INP_SCORE=${FN_INP_SCORE%.rds}\n",
    "    echo ${FP_INP_SCORE}\n",
    "    echo ${FN_INP_SCORE}\n",
    "    echo ${ID_INP_SCORE}\n",
    "    echo ${FD_OUT}\n",
    "    echo\n",
    "done"
   ]
  },
  {
   "cell_type": "markdown",
   "id": "4fef2d96-9084-44d5-a995-cf7853d64b96",
   "metadata": {},
   "source": [
    "**RUN**"
   ]
  },
  {
   "cell_type": "code",
   "execution_count": 20,
   "id": "3831b15c-6b05-4737-9578-7b6d8d378077",
   "metadata": {},
   "outputs": [
    {
     "name": "stdout",
     "output_type": "stream",
     "text": [
      "Submitted batch job 29821866\n",
      "Submitted batch job 29821867\n",
      "Submitted batch job 29821868\n",
      "Submitted batch job 29821869\n"
     ]
    }
   ],
   "source": [
    "FD_INP_SCORE=${FD_RES}/results/region/KS91_K562_ASTARRseq_peak_macs_input/enrichment_prepare_score_merge\n",
    "FD_INP_ANNOT=${FD_RES}/results/region/KS91_K562_ASTARRseq_peak_macs_input/enrichment_prepare_annot_chipseq_histone\n",
    "FD_OUT=${FD_RES}/results/region/KS91_K562_ASTARRseq_peak_macs_input/enrichment_results_merge\n",
    "\n",
    "FP_INP_SCORES=($(ls ${FD_INP_SCORE}/*.rds))\n",
    "for FP_INP_SCORE in ${FP_INP_SCORES[@]}; do\n",
    "    FN_INP_SCORE=$(basename ${FP_INP_SCORE})\n",
    "    ID_INP_SCORE=${FN_INP_SCORE%.rds}\n",
    "    sbatch -p ${NODE} \\\n",
    "        --exclude=dl-01 \\\n",
    "        --cpus-per-task 8 \\\n",
    "        --mem 4G \\\n",
    "        --output ${FD_LOG}/run_fgsea_${ID_INP_SCORE}_annot_chipseq_histone.%a.txt \\\n",
    "        --array 0-11 \\\n",
    "        ./run_fgsea.sh ${FP_INP_SCORE} ${FD_INP_ANNOT} ${FD_OUT}\n",
    "done"
   ]
  },
  {
   "cell_type": "markdown",
   "id": "b3c4342e-a79a-484a-a0bd-40b04ee0a1ec",
   "metadata": {},
   "source": [
    "**Check results**"
   ]
  },
  {
   "cell_type": "code",
   "execution_count": 21,
   "id": "ff6f4980-9e2a-4569-b507-90bdd5c2be63",
   "metadata": {},
   "outputs": [
    {
     "name": "stdout",
     "output_type": "stream",
     "text": [
      "Hostname:           x1-03-3.genome.duke.edu\n",
      "Slurm Array Index:  0\n",
      "Time Stamp:         05-11-23+13:27:46\n",
      "\n",
      "── Attaching packages ─────────────────────────────────────── tidyverse 1.3.1 ──\n",
      "✔ ggplot2 3.4.2     ✔ purrr   1.0.1\n",
      "✔ tibble  3.2.1     ✔ dplyr   1.1.1\n",
      "✔ tidyr   1.3.0     ✔ stringr 1.4.1\n",
      "✔ readr   2.1.4     ✔ forcats 1.0.0\n",
      "── Conflicts ────────────────────────────────────────── tidyverse_conflicts() ──\n",
      "✖ dplyr::filter() masks stats::filter()\n",
      "✖ dplyr::lag()    masks stats::lag()\n",
      "\n",
      "Input score: /data/reddylab/Kuei/out/proj_combeffect_encode_fcc/results/region/KS91_K562_ASTARRseq_peak_macs_input/enrichment_prepare_score_merge/score_merge_overall.rds \n",
      "\n",
      "Input annot: /data/reddylab/Kuei/out/proj_combeffect_encode_fcc/results/region/KS91_K562_ASTARRseq_peak_macs_input/enrichment_prepare_annot_chipseq_histone/annot_ChIPseq_Histone_H2AFZ.rds \n",
      "\n",
      "Output file: /data/reddylab/Kuei/out/proj_combeffect_encode_fcc/results/region/KS91_K562_ASTARRseq_peak_macs_input/enrichment_results_merge/score_merge_overall_annot_ChIPseq_Histone_H2AFZ.rds \n",
      "\n",
      "RUN GSEA: Start.\n",
      "Warning message:\n",
      "In preparePathwaysAndStats(pathways, stats, minSize, maxSize, gseaParam,  :\n",
      "  There are ties in the preranked stats (13.94% of the list).\n",
      "The order of those tied genes will be arbitrary, which may produce unexpected results.\n",
      "RUN GSEA: Done!\n",
      "\n",
      "Show results:\n",
      "                 pathway         pval         padj  log2err        ES      NES\n",
      "1: ChIPseq_Histone:H2AFZ 1.232993e-28 1.232993e-28 1.387746 0.4621835 2.398194\n",
      "   size\n",
      "1:  440\n",
      "                                                                                                                                      leadingEdge\n",
      "1: chr16_807054_808186,chrX_48573742_48575194,chr11_33161035_33162032,chr11_34809279_34810196,chr11_34104842_34106372,chr20_56391751_56392958,...\n",
      "\n",
      "Save results.\n",
      "\n",
      "Done!\n",
      "Run Time: 8 seconds\n"
     ]
    }
   ],
   "source": [
    "cat ${FD_LOG}/run_fgsea_score_merge_overall_annot_chipseq_histone.0.txt"
   ]
  },
  {
   "cell_type": "code",
   "execution_count": 22,
   "id": "65e6a670-3dc3-4c05-8a72-fd4e47e58e65",
   "metadata": {},
   "outputs": [
    {
     "name": "stdout",
     "output_type": "stream",
     "text": [
      "Hostname:           x2-02-2.genome.duke.edu\n",
      "Slurm Array Index:  11\n",
      "Time Stamp:         05-11-23+13:27:46\n",
      "\n",
      "── Attaching packages ─────────────────────────────────────── tidyverse 1.3.1 ──\n",
      "✔ ggplot2 3.4.2     ✔ purrr   1.0.1\n",
      "✔ tibble  3.2.1     ✔ dplyr   1.1.1\n",
      "✔ tidyr   1.3.0     ✔ stringr 1.4.1\n",
      "✔ readr   2.1.4     ✔ forcats 1.0.0\n",
      "── Conflicts ────────────────────────────────────────── tidyverse_conflicts() ──\n",
      "✖ dplyr::filter() masks stats::filter()\n",
      "✖ dplyr::lag()    masks stats::lag()\n",
      "\n",
      "Input score: /data/reddylab/Kuei/out/proj_combeffect_encode_fcc/results/region/KS91_K562_ASTARRseq_peak_macs_input/enrichment_prepare_score_merge/score_merge_overall.rds \n",
      "\n",
      "Input annot: /data/reddylab/Kuei/out/proj_combeffect_encode_fcc/results/region/KS91_K562_ASTARRseq_peak_macs_input/enrichment_prepare_annot_chipseq_histone/annot_ChIPseq_Histone_H4K20me1.rds \n",
      "\n",
      "Output file: /data/reddylab/Kuei/out/proj_combeffect_encode_fcc/results/region/KS91_K562_ASTARRseq_peak_macs_input/enrichment_results_merge/score_merge_overall_annot_ChIPseq_Histone_H4K20me1.rds \n",
      "\n",
      "RUN GSEA: Start.\n",
      "Warning message:\n",
      "In preparePathwaysAndStats(pathways, stats, minSize, maxSize, gseaParam,  :\n",
      "  There are ties in the preranked stats (13.94% of the list).\n",
      "The order of those tied genes will be arbitrary, which may produce unexpected results.\n",
      "RUN GSEA: Done!\n",
      "\n",
      "Show results:\n",
      "                    pathway      pval      padj    log2err        ES       NES\n",
      "1: ChIPseq_Histone:H4K20me1 0.9220779 0.9220779 0.01326264 0.1496792 0.7098691\n",
      "   size\n",
      "1:  114\n",
      "                                                                                                                                      leadingEdge\n",
      "1: chr20_57618047_57618434,chr20_58388793_58390778,chr11_34241932_34243528,chr8_127854019_127854900,chr16_1002289_1004429,chr16_683427_684752,...\n",
      "\n",
      "Save results.\n",
      "\n",
      "Done!\n",
      "Run Time: 6 seconds\n"
     ]
    }
   ],
   "source": [
    "cat ${FD_LOG}/run_fgsea_score_merge_overall_annot_chipseq_histone.11.txt"
   ]
  },
  {
   "cell_type": "markdown",
   "id": "2f80c5a5-5683-44cf-b206-929aad7932bc",
   "metadata": {},
   "source": [
    "## Run enrichment: ChIP-seq TF Subset"
   ]
  },
  {
   "cell_type": "markdown",
   "id": "98b1aa01-3558-4c8b-949d-c338c77a714c",
   "metadata": {},
   "source": [
    "**Check data**"
   ]
  },
  {
   "cell_type": "code",
   "execution_count": 23,
   "id": "8c43de7a-2f25-464b-b981-257ce632bcea",
   "metadata": {},
   "outputs": [
    {
     "name": "stdout",
     "output_type": "stream",
     "text": [
      "annot_ChIPseq_TF_ATF1_ENCFF627RSK.rds   annot_ChIPseq_TF_NFE2_ENCFF023IFO.rds\n",
      "annot_ChIPseq_TF_CTCF_ENCFF660GHM.rds   annot_ChIPseq_TF_NRF1_ENCFF777PKJ.rds\n",
      "annot_ChIPseq_TF_ELK1_ENCFF715WGN.rds   annot_ChIPseq_TF_POLR2A_ENCFF355MNE.rds\n",
      "annot_ChIPseq_TF_EP300_ENCFF702XPO.rds  annot_ChIPseq_TF_REST_ENCFF707MDI.rds\n",
      "annot_ChIPseq_TF_GATA1_ENCFF657CTC.rds  annot_ChIPseq_TF_SP1_ENCFF553GPK.rds\n",
      "annot_ChIPseq_TF_JUN_ENCFF190CGV.rds    annot_ChIPseq_TF_TAL1_ENCFF852ZRK.rds\n",
      "annot_ChIPseq_TF_KLF10_ENCFF142ZTD.rds  annot_ChIPseq_TF_YY1_ENCFF398UQZ.rds\n",
      "annot_ChIPseq_TF_KLF16_ENCFF488OTN.rds  annot_ChIPseq_TF_ZEB2_ENCFF242AOL.rds\n"
     ]
    }
   ],
   "source": [
    "FD_INP_ANNOT=${FD_RES}/results/region/KS91_K562_ASTARRseq_peak_macs_input/enrichment_prepare_annot_chipseq_tf_subset\n",
    "ls ${FD_INP_ANNOT}"
   ]
  },
  {
   "cell_type": "code",
   "execution_count": 24,
   "id": "8cfd6a29-9196-444a-94a9-ce575ffcb413",
   "metadata": {},
   "outputs": [
    {
     "name": "stdout",
     "output_type": "stream",
     "text": [
      "16\n"
     ]
    }
   ],
   "source": [
    "FP_INP_ANNOTS=($(ls ${FD_INP_ANNOT}))\n",
    "echo ${#FP_INP_ANNOTS[@]}"
   ]
  },
  {
   "cell_type": "markdown",
   "id": "09f246d8-e9eb-4f88-86a7-62c1c199059e",
   "metadata": {},
   "source": [
    "**Test loop**"
   ]
  },
  {
   "cell_type": "code",
   "execution_count": 25,
   "id": "b173fab1-67fe-43e2-89fb-6b563b06a113",
   "metadata": {},
   "outputs": [
    {
     "name": "stdout",
     "output_type": "stream",
     "text": [
      "/data/reddylab/Kuei/out/proj_combeffect_encode_fcc/results/region/KS91_K562_ASTARRseq_peak_macs_input/enrichment_prepare_score_merge/score_merge_astarr.rds\n",
      "score_merge_astarr.rds\n",
      "score_merge_astarr\n",
      "/data/reddylab/Kuei/out/proj_combeffect_encode_fcc/results/region/KS91_K562_ASTARRseq_peak_macs_input/enrichment_results_merge_chipseq_tf_subset\n",
      "\n",
      "/data/reddylab/Kuei/out/proj_combeffect_encode_fcc/results/region/KS91_K562_ASTARRseq_peak_macs_input/enrichment_prepare_score_merge/score_merge_overall.rds\n",
      "score_merge_overall.rds\n",
      "score_merge_overall\n",
      "/data/reddylab/Kuei/out/proj_combeffect_encode_fcc/results/region/KS91_K562_ASTARRseq_peak_macs_input/enrichment_results_merge_chipseq_tf_subset\n",
      "\n",
      "/data/reddylab/Kuei/out/proj_combeffect_encode_fcc/results/region/KS91_K562_ASTARRseq_peak_macs_input/enrichment_prepare_score_merge/score_merge_tmpra.rds\n",
      "score_merge_tmpra.rds\n",
      "score_merge_tmpra\n",
      "/data/reddylab/Kuei/out/proj_combeffect_encode_fcc/results/region/KS91_K562_ASTARRseq_peak_macs_input/enrichment_results_merge_chipseq_tf_subset\n",
      "\n",
      "/data/reddylab/Kuei/out/proj_combeffect_encode_fcc/results/region/KS91_K562_ASTARRseq_peak_macs_input/enrichment_prepare_score_merge/score_merge_wstarr.rds\n",
      "score_merge_wstarr.rds\n",
      "score_merge_wstarr\n",
      "/data/reddylab/Kuei/out/proj_combeffect_encode_fcc/results/region/KS91_K562_ASTARRseq_peak_macs_input/enrichment_results_merge_chipseq_tf_subset\n",
      "\n"
     ]
    }
   ],
   "source": [
    "FD_INP_SCORE=${FD_RES}/results/region/KS91_K562_ASTARRseq_peak_macs_input/enrichment_prepare_score_merge\n",
    "FD_INP_ANNOT=${FD_RES}/results/region/KS91_K562_ASTARRseq_peak_macs_input/enrichment_prepare_annot_chipseq_tf_subset\n",
    "FD_OUT=${FD_RES}/results/region/KS91_K562_ASTARRseq_peak_macs_input/enrichment_results_merge_chipseq_tf_subset\n",
    "\n",
    "FP_INP_SCORES=($(ls ${FD_INP_SCORE}/*.rds))\n",
    "for FP_INP_SCORE in ${FP_INP_SCORES[@]}; do\n",
    "    FN_INP_SCORE=$(basename ${FP_INP_SCORE})\n",
    "    ID_INP_SCORE=${FN_INP_SCORE%.rds}\n",
    "    echo ${FP_INP_SCORE}\n",
    "    echo ${FN_INP_SCORE}\n",
    "    echo ${ID_INP_SCORE}\n",
    "    echo ${FD_OUT}\n",
    "    echo\n",
    "done"
   ]
  },
  {
   "cell_type": "markdown",
   "id": "a744038d-5832-42d0-946e-3d1e15554829",
   "metadata": {},
   "source": [
    "**RUN**"
   ]
  },
  {
   "cell_type": "code",
   "execution_count": 26,
   "id": "8d184dff-a6bf-4e29-8a63-c8e0f0706b81",
   "metadata": {},
   "outputs": [
    {
     "name": "stdout",
     "output_type": "stream",
     "text": [
      "score_merge_astarr\n",
      "Submitted batch job 29821914\n",
      "score_merge_overall\n",
      "Submitted batch job 29821915\n",
      "score_merge_tmpra\n",
      "Submitted batch job 29821916\n",
      "score_merge_wstarr\n",
      "Submitted batch job 29821917\n"
     ]
    }
   ],
   "source": [
    "FD_INP_SCORE=${FD_RES}/results/region/KS91_K562_ASTARRseq_peak_macs_input/enrichment_prepare_score_merge\n",
    "FD_INP_ANNOT=${FD_RES}/results/region/KS91_K562_ASTARRseq_peak_macs_input/enrichment_prepare_annot_chipseq_tf_subset\n",
    "FD_OUT=${FD_RES}/results/region/KS91_K562_ASTARRseq_peak_macs_input/enrichment_results_merge_chipseq_tf_subset\n",
    "\n",
    "FP_INP_SCORES=($(ls ${FD_INP_SCORE}/*.rds))\n",
    "for FP_INP_SCORE in ${FP_INP_SCORES[@]}; do\n",
    "    FN_INP_SCORE=$(basename ${FP_INP_SCORE})\n",
    "    ID_INP_SCORE=${FN_INP_SCORE%.rds}\n",
    "    echo ${ID_INP_SCORE}\n",
    "    sbatch -p ${NODE} \\\n",
    "        --exclude=dl-01 \\\n",
    "        --cpus-per-task 8 \\\n",
    "        --mem 4G \\\n",
    "        --output ${FD_LOG}/run_fgsea_${ID_INP_SCORE}_annot_chipseq_tf_subset.%a.txt \\\n",
    "        --array 0-15 \\\n",
    "        ./run_fgsea.sh ${FP_INP_SCORE} ${FD_INP_ANNOT} ${FD_OUT}\n",
    "done"
   ]
  },
  {
   "cell_type": "markdown",
   "id": "b32a8ce1-8f04-4811-b0e5-d6d5992d6883",
   "metadata": {},
   "source": [
    "**Check results**"
   ]
  },
  {
   "cell_type": "code",
   "execution_count": 27,
   "id": "bf2397b1-ce0b-4071-ab16-02f53cf551a7",
   "metadata": {},
   "outputs": [
    {
     "name": "stdout",
     "output_type": "stream",
     "text": [
      "Hostname:           x1-03-4.genome.duke.edu\n",
      "Slurm Array Index:  0\n",
      "Time Stamp:         05-11-23+13:28:06\n",
      "\n",
      "── Attaching packages ─────────────────────────────────────── tidyverse 1.3.1 ──\n",
      "✔ ggplot2 3.4.2     ✔ purrr   1.0.1\n",
      "✔ tibble  3.2.1     ✔ dplyr   1.1.1\n",
      "✔ tidyr   1.3.0     ✔ stringr 1.4.1\n",
      "✔ readr   2.1.4     ✔ forcats 1.0.0\n",
      "── Conflicts ────────────────────────────────────────── tidyverse_conflicts() ──\n",
      "✖ dplyr::filter() masks stats::filter()\n",
      "✖ dplyr::lag()    masks stats::lag()\n",
      "\n",
      "Input score: /data/reddylab/Kuei/out/proj_combeffect_encode_fcc/results/region/KS91_K562_ASTARRseq_peak_macs_input/enrichment_prepare_score_merge/score_merge_overall.rds \n",
      "\n",
      "Input annot: /data/reddylab/Kuei/out/proj_combeffect_encode_fcc/results/region/KS91_K562_ASTARRseq_peak_macs_input/enrichment_prepare_annot_chipseq_tf_subset/annot_ChIPseq_TF_ATF1_ENCFF627RSK.rds \n",
      "\n",
      "Output file: /data/reddylab/Kuei/out/proj_combeffect_encode_fcc/results/region/KS91_K562_ASTARRseq_peak_macs_input/enrichment_results_merge_chipseq_tf_subset/score_merge_overall_annot_ChIPseq_TF_ATF1_ENCFF627RSK.rds \n",
      "\n",
      "RUN GSEA: Start.\n",
      "Warning message:\n",
      "In preparePathwaysAndStats(pathways, stats, minSize, maxSize, gseaParam,  :\n",
      "  There are ties in the preranked stats (13.94% of the list).\n",
      "The order of those tied genes will be arbitrary, which may produce unexpected results.\n",
      "RUN GSEA: Done!\n",
      "\n",
      "Show results:\n",
      "                       pathway         pval         padj  log2err       ES\n",
      "1: ChIPseq_TF:ATF1_ENCFF627RSK 6.068028e-49 6.068028e-49 1.825919 0.642985\n",
      "        NES size\n",
      "1: 3.211689  216\n",
      "                                                                                                                                    leadingEdge\n",
      "1: chr11_5280584_5281311,chr16_807054_808186,chrX_48573742_48575194,chr11_33161035_33162032,chr11_34809279_34810196,chr11_34104842_34106372,...\n",
      "\n",
      "Save results.\n",
      "\n",
      "Done!\n",
      "Run Time: 9 seconds\n"
     ]
    }
   ],
   "source": [
    "cat ${FD_LOG}/run_fgsea_score_merge_overall_annot_chipseq_tf_subset.0.txt"
   ]
  },
  {
   "cell_type": "code",
   "execution_count": 28,
   "id": "645853bd-fdf9-4828-9e0d-f2b17626bd5a",
   "metadata": {},
   "outputs": [
    {
     "name": "stdout",
     "output_type": "stream",
     "text": [
      "Hostname:           x2-03-2.genome.duke.edu\n",
      "Slurm Array Index:  15\n",
      "Time Stamp:         05-11-23+13:28:06\n",
      "\n",
      "── Attaching packages ─────────────────────────────────────── tidyverse 1.3.1 ──\n",
      "✔ ggplot2 3.4.2     ✔ purrr   1.0.1\n",
      "✔ tibble  3.2.1     ✔ dplyr   1.1.1\n",
      "✔ tidyr   1.3.0     ✔ stringr 1.4.1\n",
      "✔ readr   2.1.4     ✔ forcats 1.0.0\n",
      "── Conflicts ────────────────────────────────────────── tidyverse_conflicts() ──\n",
      "✖ dplyr::filter() masks stats::filter()\n",
      "✖ dplyr::lag()    masks stats::lag()\n",
      "\n",
      "Input score: /data/reddylab/Kuei/out/proj_combeffect_encode_fcc/results/region/KS91_K562_ASTARRseq_peak_macs_input/enrichment_prepare_score_merge/score_merge_overall.rds \n",
      "\n",
      "Input annot: /data/reddylab/Kuei/out/proj_combeffect_encode_fcc/results/region/KS91_K562_ASTARRseq_peak_macs_input/enrichment_prepare_annot_chipseq_tf_subset/annot_ChIPseq_TF_ZEB2_ENCFF242AOL.rds \n",
      "\n",
      "Output file: /data/reddylab/Kuei/out/proj_combeffect_encode_fcc/results/region/KS91_K562_ASTARRseq_peak_macs_input/enrichment_results_merge_chipseq_tf_subset/score_merge_overall_annot_ChIPseq_TF_ZEB2_ENCFF242AOL.rds \n",
      "\n",
      "RUN GSEA: Start.\n",
      "Warning message:\n",
      "In preparePathwaysAndStats(pathways, stats, minSize, maxSize, gseaParam,  :\n",
      "  There are ties in the preranked stats (13.94% of the list).\n",
      "The order of those tied genes will be arbitrary, which may produce unexpected results.\n",
      "RUN GSEA: Done!\n",
      "\n",
      "Show results:\n",
      "                       pathway         pval         padj  log2err        ES\n",
      "1: ChIPseq_TF:ZEB2_ENCFF242AOL 1.002386e-22 1.002386e-22 1.237897 0.5651548\n",
      "        NES size\n",
      "1: 2.727009  139\n",
      "                                                                                                                               leadingEdge\n",
      "1: chr11_5280584_5281311,chr16_807054_808186,chrX_48573742_48575194,chr11_34809279_34810196,chrX_49039728_49040229,chr16_112817_114269,...\n",
      "\n",
      "Save results.\n",
      "\n",
      "Done!\n",
      "Run Time: 7 seconds\n"
     ]
    }
   ],
   "source": [
    "cat ${FD_LOG}/run_fgsea_score_merge_overall_annot_chipseq_tf_subset.15.txt"
   ]
  },
  {
   "cell_type": "markdown",
   "id": "9920b00d-7b90-4450-b3b8-64a953c1c833",
   "metadata": {},
   "source": [
    "## Run enrichment: ChIP-seq TF"
   ]
  },
  {
   "cell_type": "markdown",
   "id": "b244631f-49f6-4a41-8fa0-ea171f50d519",
   "metadata": {},
   "source": [
    "**Check data**"
   ]
  },
  {
   "cell_type": "code",
   "execution_count": 34,
   "id": "287047de-0d32-43ce-8142-d43f242a433b",
   "metadata": {},
   "outputs": [
    {
     "name": "stdout",
     "output_type": "stream",
     "text": [
      "annot_ChIPseq_TF_ADNP_ENCFF739AJO.rds\n",
      "annot_ChIPseq_TF_AFF1_ENCFF195YGC.rds\n",
      "annot_ChIPseq_TF_AFF1_ENCFF674XTY.rds\n",
      "annot_ChIPseq_TF_AGO1_ENCFF794IRP.rds\n",
      "annot_ChIPseq_TF_ARHGAP35_ENCFF952WKN.rds\n",
      "annot_ChIPseq_TF_ARID1B_ENCFF879NTL.rds\n",
      "annot_ChIPseq_TF_ARID2_ENCFF913WRW.rds\n",
      "annot_ChIPseq_TF_ARID3A_ENCFF891OQP.rds\n",
      "annot_ChIPseq_TF_ARID3B_ENCFF270TSN.rds\n",
      "annot_ChIPseq_TF_ARID4B_ENCFF086FAZ.rds\n"
     ]
    }
   ],
   "source": [
    "FD_INP_ANNOT=${FD_RES}/results/region/KS91_K562_ASTARRseq_peak_macs_input/enrichment_prepare_annot_chipseq_tf\n",
    "ls ${FD_INP_ANNOT} | head"
   ]
  },
  {
   "cell_type": "code",
   "execution_count": 35,
   "id": "784284e6-7713-4e44-b02f-47fe209d8de8",
   "metadata": {},
   "outputs": [
    {
     "name": "stdout",
     "output_type": "stream",
     "text": [
      "733\n"
     ]
    }
   ],
   "source": [
    "FP_INP_ANNOTS=($(ls ${FD_INP_ANNOT}))\n",
    "echo ${#FP_INP_ANNOTS[@]}"
   ]
  },
  {
   "cell_type": "markdown",
   "id": "3f54cd88-0215-4d59-95d4-43376cdf5a84",
   "metadata": {},
   "source": [
    "**Test loop**"
   ]
  },
  {
   "cell_type": "code",
   "execution_count": 36,
   "id": "0db51f19-a2d7-4485-b154-3b4b01cad0e8",
   "metadata": {},
   "outputs": [
    {
     "name": "stdout",
     "output_type": "stream",
     "text": [
      "/data/reddylab/Kuei/out/proj_combeffect_encode_fcc/results/region/KS91_K562_ASTARRseq_peak_macs_input/enrichment_prepare_score_merge/score_merge_astarr.rds\n",
      "score_merge_astarr.rds\n",
      "score_merge_astarr\n",
      "/data/reddylab/Kuei/out/proj_combeffect_encode_fcc/results/region/KS91_K562_ASTARRseq_peak_macs_input/enrichment_results_merge_chipseq_tf\n",
      "\n",
      "/data/reddylab/Kuei/out/proj_combeffect_encode_fcc/results/region/KS91_K562_ASTARRseq_peak_macs_input/enrichment_prepare_score_merge/score_merge_overall.rds\n",
      "score_merge_overall.rds\n",
      "score_merge_overall\n",
      "/data/reddylab/Kuei/out/proj_combeffect_encode_fcc/results/region/KS91_K562_ASTARRseq_peak_macs_input/enrichment_results_merge_chipseq_tf\n",
      "\n",
      "/data/reddylab/Kuei/out/proj_combeffect_encode_fcc/results/region/KS91_K562_ASTARRseq_peak_macs_input/enrichment_prepare_score_merge/score_merge_tmpra.rds\n",
      "score_merge_tmpra.rds\n",
      "score_merge_tmpra\n",
      "/data/reddylab/Kuei/out/proj_combeffect_encode_fcc/results/region/KS91_K562_ASTARRseq_peak_macs_input/enrichment_results_merge_chipseq_tf\n",
      "\n",
      "/data/reddylab/Kuei/out/proj_combeffect_encode_fcc/results/region/KS91_K562_ASTARRseq_peak_macs_input/enrichment_prepare_score_merge/score_merge_wstarr.rds\n",
      "score_merge_wstarr.rds\n",
      "score_merge_wstarr\n",
      "/data/reddylab/Kuei/out/proj_combeffect_encode_fcc/results/region/KS91_K562_ASTARRseq_peak_macs_input/enrichment_results_merge_chipseq_tf\n",
      "\n"
     ]
    }
   ],
   "source": [
    "FD_INP_SCORE=${FD_RES}/results/region/KS91_K562_ASTARRseq_peak_macs_input/enrichment_prepare_score_merge\n",
    "FD_INP_ANNOT=${FD_RES}/results/region/KS91_K562_ASTARRseq_peak_macs_input/enrichment_prepare_annot_chipseq_tf\n",
    "FD_OUT=${FD_RES}/results/region/KS91_K562_ASTARRseq_peak_macs_input/enrichment_results_merge_chipseq_tf\n",
    "\n",
    "FP_INP_SCORES=($(ls ${FD_INP_SCORE}/*.rds))\n",
    "for FP_INP_SCORE in ${FP_INP_SCORES[@]}; do\n",
    "    FN_INP_SCORE=$(basename ${FP_INP_SCORE})\n",
    "    ID_INP_SCORE=${FN_INP_SCORE%.rds}\n",
    "    echo ${FP_INP_SCORE}\n",
    "    echo ${FN_INP_SCORE}\n",
    "    echo ${ID_INP_SCORE}\n",
    "    echo ${FD_OUT}\n",
    "    echo\n",
    "done"
   ]
  },
  {
   "cell_type": "markdown",
   "id": "9f97355b-d3c0-4d74-be82-3414fbdf2d7f",
   "metadata": {},
   "source": [
    "**RUN**"
   ]
  },
  {
   "cell_type": "code",
   "execution_count": 37,
   "id": "c46cebc6-74dd-4fc6-89b9-f1baa78e79d7",
   "metadata": {},
   "outputs": [
    {
     "name": "stdout",
     "output_type": "stream",
     "text": [
      "score_merge_astarr\n",
      "Submitted batch job 29818214\n",
      "score_merge_overall\n",
      "Submitted batch job 29818215\n",
      "score_merge_tmpra\n",
      "Submitted batch job 29818216\n",
      "score_merge_wstarr\n",
      "Submitted batch job 29818217\n"
     ]
    }
   ],
   "source": [
    "FD_INP_SCORE=${FD_RES}/results/region/KS91_K562_ASTARRseq_peak_macs_input/enrichment_prepare_score_merge\n",
    "FD_INP_ANNOT=${FD_RES}/results/region/KS91_K562_ASTARRseq_peak_macs_input/enrichment_prepare_annot_chipseq_tf\n",
    "FD_OUT=${FD_RES}/results/region/KS91_K562_ASTARRseq_peak_macs_input/enrichment_results_merge_chipseq_tf\n",
    "\n",
    "FP_INP_SCORES=($(ls ${FD_INP_SCORE}/*.rds))\n",
    "for FP_INP_SCORE in ${FP_INP_SCORES[@]}; do\n",
    "    FN_INP_SCORE=$(basename ${FP_INP_SCORE})\n",
    "    ID_INP_SCORE=${FN_INP_SCORE%.rds}\n",
    "    echo ${ID_INP_SCORE}\n",
    "    sbatch -p ${NODE} \\\n",
    "        --exclude=dl-01 \\\n",
    "        --cpus-per-task 8 \\\n",
    "        --mem 4G \\\n",
    "        --output ${FD_LOG}/run_fgsea_${ID_INP_SCORE}_annot_chipseq_tf.%a.txt \\\n",
    "        --array 0-732 \\\n",
    "        ./run_fgsea.sh ${FP_INP_SCORE} ${FD_INP_ANNOT} ${FD_OUT}\n",
    "done"
   ]
  },
  {
   "cell_type": "markdown",
   "id": "13d70e16-f823-415e-b549-e5da6f8eed9c",
   "metadata": {},
   "source": [
    "**Check results**"
   ]
  },
  {
   "cell_type": "code",
   "execution_count": 39,
   "id": "8b5207d0-86e5-4392-a98c-a717ec7bd420",
   "metadata": {},
   "outputs": [
    {
     "name": "stdout",
     "output_type": "stream",
     "text": [
      "Hostname:           x3-02-1.genome.duke.edu\n",
      "Slurm Array Index:  0\n",
      "Time Stamp:         05-10-23+15:56:16\n",
      "\n",
      "── Attaching packages ─────────────────────────────────────── tidyverse 1.3.1 ──\n",
      "✔ ggplot2 3.4.2     ✔ purrr   1.0.1\n",
      "✔ tibble  3.2.1     ✔ dplyr   1.1.1\n",
      "✔ tidyr   1.3.0     ✔ stringr 1.4.1\n",
      "✔ readr   2.1.4     ✔ forcats 1.0.0\n",
      "── Conflicts ────────────────────────────────────────── tidyverse_conflicts() ──\n",
      "✖ dplyr::filter() masks stats::filter()\n",
      "✖ dplyr::lag()    masks stats::lag()\n",
      "\n",
      "Input score: /data/reddylab/Kuei/out/proj_combeffect_encode_fcc/results/region/KS91_K562_ASTARRseq_peak_macs_input/enrichment_prepare_score_merge/score_merge_overall.rds \n",
      "\n",
      "Input annot: /data/reddylab/Kuei/out/proj_combeffect_encode_fcc/results/region/KS91_K562_ASTARRseq_peak_macs_input/enrichment_prepare_annot_chipseq_tf/annot_ChIPseq_TF_ADNP_ENCFF739AJO.rds \n",
      "\n",
      "Output file: /data/reddylab/Kuei/out/proj_combeffect_encode_fcc/results/region/KS91_K562_ASTARRseq_peak_macs_input/enrichment_results_merge_chipseq_tf/score_merge_overall_annot_ChIPseq_TF_ADNP_ENCFF739AJO.rds \n",
      "\n",
      "RUN GSEA: Start.\n",
      "Warning message:\n",
      "In preparePathwaysAndStats(pathways, stats, minSize, maxSize, gseaParam,  :\n",
      "  There are ties in the preranked stats (13.94% of the list).\n",
      "The order of those tied genes will be arbitrary, which may produce unexpected results.\n",
      "RUN GSEA: Done!\n",
      "\n",
      "Show results:\n",
      "                       pathway        pval        padj   log2err        ES\n",
      "1: ChIPseq_TF:ADNP_ENCFF739AJO 0.002534382 0.002534382 0.4317077 0.4075296\n",
      "        NES size\n",
      "1: 1.708821   44\n",
      "                                                                                                                                         leadingEdge\n",
      "1: chr11_34809279_34810196,chr16_112817_114269,chr8_127898363_127899746,chr8_127959623_127961065,chrX_48736825_48738095,chr8_128176331_128177858,...\n",
      "\n",
      "Save results.\n",
      "\n",
      "Done!\n",
      "Run Time: 5 seconds\n"
     ]
    }
   ],
   "source": [
    "cat ${FD_LOG}/run_fgsea_score_merge_overall_annot_chipseq_tf.0.txt"
   ]
  },
  {
   "cell_type": "code",
   "execution_count": 43,
   "id": "863cfd07-8920-4104-8595-58612554e70f",
   "metadata": {},
   "outputs": [
    {
     "name": "stdout",
     "output_type": "stream",
     "text": [
      "Hostname:           x1-03-4.genome.duke.edu\n",
      "Slurm Array Index:  732\n",
      "Time Stamp:         05-10-23+15:56:31\n",
      "\n",
      "── Attaching packages ─────────────────────────────────────── tidyverse 1.3.1 ──\n",
      "✔ ggplot2 3.4.2     ✔ purrr   1.0.1\n",
      "✔ tibble  3.2.1     ✔ dplyr   1.1.1\n",
      "✔ tidyr   1.3.0     ✔ stringr 1.4.1\n",
      "✔ readr   2.1.4     ✔ forcats 1.0.0\n",
      "── Conflicts ────────────────────────────────────────── tidyverse_conflicts() ──\n",
      "✖ dplyr::filter() masks stats::filter()\n",
      "✖ dplyr::lag()    masks stats::lag()\n",
      "\n",
      "Input score: /data/reddylab/Kuei/out/proj_combeffect_encode_fcc/results/region/KS91_K562_ASTARRseq_peak_macs_input/enrichment_prepare_score_merge/score_merge_overall.rds \n",
      "\n",
      "Input annot: /data/reddylab/Kuei/out/proj_combeffect_encode_fcc/results/region/KS91_K562_ASTARRseq_peak_macs_input/enrichment_prepare_annot_chipseq_tf/annot_ChIPseq_TF_ZZZ3_ENCFF797VEK.rds \n",
      "\n",
      "Output file: /data/reddylab/Kuei/out/proj_combeffect_encode_fcc/results/region/KS91_K562_ASTARRseq_peak_macs_input/enrichment_results_merge_chipseq_tf/score_merge_overall_annot_ChIPseq_TF_ZZZ3_ENCFF797VEK.rds \n",
      "\n",
      "RUN GSEA: Start.\n",
      "Warning message:\n",
      "In preparePathwaysAndStats(pathways, stats, minSize, maxSize, gseaParam,  :\n",
      "  There are ties in the preranked stats (13.94% of the list).\n",
      "The order of those tied genes will be arbitrary, which may produce unexpected results.\n",
      "RUN GSEA: Done!\n",
      "\n",
      "Show results:\n",
      "                       pathway         pval         padj   log2err        ES\n",
      "1: ChIPseq_TF:ZZZ3_ENCFF797VEK 0.0001825152 0.0001825152 0.5188481 0.7216629\n",
      "        NES size\n",
      "1: 2.254505    9\n",
      "                                                                                                                                        leadingEdge\n",
      "1: chrX_48573742_48575194,chr11_34104842_34106372,chr20_56391751_56392958,chrX_49079517_49080656,chr11_61792068_61793464,chr2_61016793_61018539,...\n",
      "\n",
      "Save results.\n",
      "\n",
      "Done!\n",
      "Run Time: 6 seconds\n"
     ]
    }
   ],
   "source": [
    "cat ${FD_LOG}/run_fgsea_score_merge_overall_annot_chipseq_tf.732.txt"
   ]
  },
  {
   "cell_type": "code",
   "execution_count": null,
   "id": "8120eaf5-9184-43de-8dbd-328b74f4ddcf",
   "metadata": {},
   "outputs": [],
   "source": []
  }
 ],
 "metadata": {
  "kernelspec": {
   "display_name": "Bash",
   "language": "bash",
   "name": "bash"
  },
  "language_info": {
   "codemirror_mode": "shell",
   "file_extension": ".sh",
   "mimetype": "text/x-sh",
   "name": "bash"
  }
 },
 "nbformat": 4,
 "nbformat_minor": 5
}
