{
 "cells": [
  {
   "cell_type": "code",
   "execution_count": 1,
   "metadata": {},
   "outputs": [
    {
     "name": "stdout",
     "output_type": "stream",
     "text": [
      "You are in Singularity: singularity_proj_encode_fcc \n",
      "BASE DIRECTORY (FD_BASE): /data/reddylab/Kuei \n",
      "WORK DIRECTORY (FD_WORK): /data/reddylab/Kuei/out \n",
      "CODE DIRECTORY (FD_CODE): /data/reddylab/Kuei/code \n",
      "PATH OF PROJECT (FD_PRJ): /data/reddylab/Kuei/code/Proj_CombEffect_ENCODE_FCC \n",
      "PATH OF RESULTS (FD_RES): /data/reddylab/Kuei/out/proj_combeffect_encode_fcc \n",
      "PATH OF LOG     (FD_LOG): /data/reddylab/Kuei/out/proj_combeffect_encode_fcc/log \n"
     ]
    }
   ],
   "source": [
    "suppressMessages(suppressWarnings(source(\"../config/config_sing.R\")))\n",
    "show_env()"
   ]
  },
  {
   "cell_type": "code",
   "execution_count": 2,
   "metadata": {},
   "outputs": [
    {
     "name": "stderr",
     "output_type": "stream",
     "text": [
      "\u001b[1mRows: \u001b[22m\u001b[34m39437\u001b[39m \u001b[1mColumns: \u001b[22m\u001b[34m2\u001b[39m\n",
      "\u001b[36m──\u001b[39m \u001b[1mColumn specification\u001b[22m \u001b[36m───────────────────────────────────────────────────────────────────────\u001b[39m\n",
      "\u001b[1mDelimiter:\u001b[22m \"\\t\"\n",
      "\u001b[31mchr\u001b[39m (1): Peak\n",
      "\u001b[32mdbl\u001b[39m (1): Count\n",
      "\n",
      "\u001b[36mℹ\u001b[39m Use `spec()` to retrieve the full column specification for this data.\n",
      "\u001b[36mℹ\u001b[39m Specify the column types or set `show_col_types = FALSE` to quiet this message.\n"
     ]
    },
    {
     "name": "stdout",
     "output_type": "stream",
     "text": [
      "[1] 39437     2\n"
     ]
    },
    {
     "data": {
      "text/html": [
       "<table class=\"dataframe\">\n",
       "<caption>A tibble: 6 × 2</caption>\n",
       "<thead>\n",
       "\t<tr><th scope=col>Peak</th><th scope=col>Count</th></tr>\n",
       "\t<tr><th scope=col>&lt;chr&gt;</th><th scope=col>&lt;dbl&gt;</th></tr>\n",
       "</thead>\n",
       "<tbody>\n",
       "\t<tr><td>chr10_100009096_100010466</td><td>2</td></tr>\n",
       "\t<tr><td>chr10_100045961_100046653</td><td>1</td></tr>\n",
       "\t<tr><td>chr10_100228452_100230090</td><td>1</td></tr>\n",
       "\t<tr><td>chr10_100240591_100241246</td><td>1</td></tr>\n",
       "\t<tr><td>chr10_100285974_100287341</td><td>1</td></tr>\n",
       "\t<tr><td>chr10_100338359_100339077</td><td>1</td></tr>\n",
       "</tbody>\n",
       "</table>\n"
      ],
      "text/latex": [
       "A tibble: 6 × 2\n",
       "\\begin{tabular}{ll}\n",
       " Peak & Count\\\\\n",
       " <chr> & <dbl>\\\\\n",
       "\\hline\n",
       "\t chr10\\_100009096\\_100010466 & 2\\\\\n",
       "\t chr10\\_100045961\\_100046653 & 1\\\\\n",
       "\t chr10\\_100228452\\_100230090 & 1\\\\\n",
       "\t chr10\\_100240591\\_100241246 & 1\\\\\n",
       "\t chr10\\_100285974\\_100287341 & 1\\\\\n",
       "\t chr10\\_100338359\\_100339077 & 1\\\\\n",
       "\\end{tabular}\n"
      ],
      "text/markdown": [
       "\n",
       "A tibble: 6 × 2\n",
       "\n",
       "| Peak &lt;chr&gt; | Count &lt;dbl&gt; |\n",
       "|---|---|\n",
       "| chr10_100009096_100010466 | 2 |\n",
       "| chr10_100045961_100046653 | 1 |\n",
       "| chr10_100228452_100230090 | 1 |\n",
       "| chr10_100240591_100241246 | 1 |\n",
       "| chr10_100285974_100287341 | 1 |\n",
       "| chr10_100338359_100339077 | 1 |\n",
       "\n"
      ],
      "text/plain": [
       "  Peak                      Count\n",
       "1 chr10_100009096_100010466 2    \n",
       "2 chr10_100045961_100046653 1    \n",
       "3 chr10_100228452_100230090 1    \n",
       "4 chr10_100240591_100241246 1    \n",
       "5 chr10_100285974_100287341 1    \n",
       "6 chr10_100338359_100339077 1    "
      ]
     },
     "metadata": {},
     "output_type": "display_data"
    }
   ],
   "source": [
    "fdiry = file.path(FD_RES, \"results\", \"region\", \"KS91_K562_ASTARRseq_peak_macs_input\")\n",
    "fname = \"peak.summary.CTCF.tsv\"\n",
    "fpath = file.path(fdiry, fname)\n",
    "\n",
    "dat = read_tsv(fpath)\n",
    "\n",
    "dat_peak_ctcf = dat\n",
    "print(dim(dat))\n",
    "head(dat)"
   ]
  },
  {
   "cell_type": "code",
   "execution_count": 36,
   "metadata": {},
   "outputs": [
    {
     "name": "stderr",
     "output_type": "stream",
     "text": [
      "\u001b[1mRows: \u001b[22m\u001b[34m246850\u001b[39m \u001b[1mColumns: \u001b[22m\u001b[34m7\u001b[39m\n",
      "\u001b[36m──\u001b[39m \u001b[1mColumn specification\u001b[22m \u001b[36m───────────────────────────────────────────────────────────────────────\u001b[39m\n",
      "\u001b[1mDelimiter:\u001b[22m \"\\t\"\n",
      "\u001b[31mchr\u001b[39m (1): Peak\n",
      "\u001b[32mdbl\u001b[39m (6): baseMean, log2FoldChange, lfcSE, stat, pvalue, padj\n",
      "\n",
      "\u001b[36mℹ\u001b[39m Use `spec()` to retrieve the full column specification for this data.\n",
      "\u001b[36mℹ\u001b[39m Specify the column types or set `show_col_types = FALSE` to quiet this message.\n"
     ]
    },
    {
     "name": "stdout",
     "output_type": "stream",
     "text": [
      "[1] 246850      7\n"
     ]
    },
    {
     "data": {
      "text/html": [
       "<table class=\"dataframe\">\n",
       "<caption>A tibble: 6 × 7</caption>\n",
       "<thead>\n",
       "\t<tr><th scope=col>Peak</th><th scope=col>baseMean</th><th scope=col>log2FoldChange</th><th scope=col>lfcSE</th><th scope=col>stat</th><th scope=col>pvalue</th><th scope=col>padj</th></tr>\n",
       "\t<tr><th scope=col>&lt;chr&gt;</th><th scope=col>&lt;dbl&gt;</th><th scope=col>&lt;dbl&gt;</th><th scope=col>&lt;dbl&gt;</th><th scope=col>&lt;dbl&gt;</th><th scope=col>&lt;dbl&gt;</th><th scope=col>&lt;dbl&gt;</th></tr>\n",
       "</thead>\n",
       "<tbody>\n",
       "\t<tr><td>chr1_100006256_100006880</td><td> 74.39238</td><td>-0.01311792</td><td>0.15512423</td><td>-0.08456397</td><td>9.326080e-01</td><td>0.9510236543</td></tr>\n",
       "\t<tr><td>chr1_100010437_100010915</td><td> 48.25931</td><td>-0.80687947</td><td>0.22174651</td><td>-3.63874709</td><td>2.739677e-04</td><td>0.0008947519</td></tr>\n",
       "\t<tr><td>chr1_10002087_10003910  </td><td>224.35927</td><td>-0.34892859</td><td>0.09743886</td><td>-3.58100041</td><td>3.422811e-04</td><td>0.0010926173</td></tr>\n",
       "\t<tr><td>chr1_100021298_100021629</td><td> 38.13434</td><td>-1.03799571</td><td>0.25401013</td><td>-4.08643436</td><td>4.380534e-05</td><td>0.0001707736</td></tr>\n",
       "\t<tr><td>chr1_100023727_100023976</td><td> 32.62049</td><td>-0.19100207</td><td>0.25625467</td><td>-0.74536036</td><td>4.560539e-01</td><td>0.5497617125</td></tr>\n",
       "\t<tr><td>chr1_100027983_100029702</td><td>290.98442</td><td>-0.18001582</td><td>0.09610434</td><td>-1.87312902</td><td>6.105057e-02</td><td>0.1032752224</td></tr>\n",
       "</tbody>\n",
       "</table>\n"
      ],
      "text/latex": [
       "A tibble: 6 × 7\n",
       "\\begin{tabular}{lllllll}\n",
       " Peak & baseMean & log2FoldChange & lfcSE & stat & pvalue & padj\\\\\n",
       " <chr> & <dbl> & <dbl> & <dbl> & <dbl> & <dbl> & <dbl>\\\\\n",
       "\\hline\n",
       "\t chr1\\_100006256\\_100006880 &  74.39238 & -0.01311792 & 0.15512423 & -0.08456397 & 9.326080e-01 & 0.9510236543\\\\\n",
       "\t chr1\\_100010437\\_100010915 &  48.25931 & -0.80687947 & 0.22174651 & -3.63874709 & 2.739677e-04 & 0.0008947519\\\\\n",
       "\t chr1\\_10002087\\_10003910   & 224.35927 & -0.34892859 & 0.09743886 & -3.58100041 & 3.422811e-04 & 0.0010926173\\\\\n",
       "\t chr1\\_100021298\\_100021629 &  38.13434 & -1.03799571 & 0.25401013 & -4.08643436 & 4.380534e-05 & 0.0001707736\\\\\n",
       "\t chr1\\_100023727\\_100023976 &  32.62049 & -0.19100207 & 0.25625467 & -0.74536036 & 4.560539e-01 & 0.5497617125\\\\\n",
       "\t chr1\\_100027983\\_100029702 & 290.98442 & -0.18001582 & 0.09610434 & -1.87312902 & 6.105057e-02 & 0.1032752224\\\\\n",
       "\\end{tabular}\n"
      ],
      "text/markdown": [
       "\n",
       "A tibble: 6 × 7\n",
       "\n",
       "| Peak &lt;chr&gt; | baseMean &lt;dbl&gt; | log2FoldChange &lt;dbl&gt; | lfcSE &lt;dbl&gt; | stat &lt;dbl&gt; | pvalue &lt;dbl&gt; | padj &lt;dbl&gt; |\n",
       "|---|---|---|---|---|---|---|\n",
       "| chr1_100006256_100006880 |  74.39238 | -0.01311792 | 0.15512423 | -0.08456397 | 9.326080e-01 | 0.9510236543 |\n",
       "| chr1_100010437_100010915 |  48.25931 | -0.80687947 | 0.22174651 | -3.63874709 | 2.739677e-04 | 0.0008947519 |\n",
       "| chr1_10002087_10003910   | 224.35927 | -0.34892859 | 0.09743886 | -3.58100041 | 3.422811e-04 | 0.0010926173 |\n",
       "| chr1_100021298_100021629 |  38.13434 | -1.03799571 | 0.25401013 | -4.08643436 | 4.380534e-05 | 0.0001707736 |\n",
       "| chr1_100023727_100023976 |  32.62049 | -0.19100207 | 0.25625467 | -0.74536036 | 4.560539e-01 | 0.5497617125 |\n",
       "| chr1_100027983_100029702 | 290.98442 | -0.18001582 | 0.09610434 | -1.87312902 | 6.105057e-02 | 0.1032752224 |\n",
       "\n"
      ],
      "text/plain": [
       "  Peak                     baseMean  log2FoldChange lfcSE      stat       \n",
       "1 chr1_100006256_100006880  74.39238 -0.01311792    0.15512423 -0.08456397\n",
       "2 chr1_100010437_100010915  48.25931 -0.80687947    0.22174651 -3.63874709\n",
       "3 chr1_10002087_10003910   224.35927 -0.34892859    0.09743886 -3.58100041\n",
       "4 chr1_100021298_100021629  38.13434 -1.03799571    0.25401013 -4.08643436\n",
       "5 chr1_100023727_100023976  32.62049 -0.19100207    0.25625467 -0.74536036\n",
       "6 chr1_100027983_100029702 290.98442 -0.18001582    0.09610434 -1.87312902\n",
       "  pvalue       padj        \n",
       "1 9.326080e-01 0.9510236543\n",
       "2 2.739677e-04 0.0008947519\n",
       "3 3.422811e-04 0.0010926173\n",
       "4 4.380534e-05 0.0001707736\n",
       "5 4.560539e-01 0.5497617125\n",
       "6 6.105057e-02 0.1032752224"
      ]
     },
     "metadata": {},
     "output_type": "display_data"
    }
   ],
   "source": [
    "ASSAY  = \"KS91_K562_ASTARRseq\"\n",
    "FOLDER = \"coverage_astarrseq_peak_macs_input\"\n",
    "\n",
    "fdiry = file.path(FD_RES, \"results\", ASSAY, FOLDER, \"summary\")\n",
    "fname = \"result.Log2FC.raw.deseq.WGS.tsv\"\n",
    "fpath = file.path(fdiry, fname)\n",
    "\n",
    "dat = read_tsv(fpath)\n",
    "\n",
    "dat_peak_deseq = dat\n",
    "print(dim(dat))\n",
    "head(dat)"
   ]
  },
  {
   "cell_type": "code",
   "execution_count": 3,
   "metadata": {},
   "outputs": [
    {
     "name": "stderr",
     "output_type": "stream",
     "text": [
      "\u001b[1mRows: \u001b[22m\u001b[34m246852\u001b[39m \u001b[1mColumns: \u001b[22m\u001b[34m13\u001b[39m\n",
      "\u001b[36m──\u001b[39m \u001b[1mColumn specification\u001b[22m \u001b[36m───────────────────────────────────────────────────────────────────────\u001b[39m\n",
      "\u001b[1mDelimiter:\u001b[22m \"\\t\"\n",
      "\u001b[31mchr\u001b[39m  (2): Chrom, Peak\n",
      "\u001b[32mdbl\u001b[39m (11): Start, End, Length, Input, Output, Log2FC, pLog2FC, Input_Residual...\n",
      "\n",
      "\u001b[36mℹ\u001b[39m Use `spec()` to retrieve the full column specification for this data.\n",
      "\u001b[36mℹ\u001b[39m Specify the column types or set `show_col_types = FALSE` to quiet this message.\n"
     ]
    },
    {
     "name": "stdout",
     "output_type": "stream",
     "text": [
      "[1] 246852     13\n"
     ]
    },
    {
     "data": {
      "text/html": [
       "<table class=\"dataframe\">\n",
       "<caption>A tibble: 6 × 13</caption>\n",
       "<thead>\n",
       "\t<tr><th scope=col>Chrom</th><th scope=col>Start</th><th scope=col>End</th><th scope=col>Peak</th><th scope=col>Length</th><th scope=col>Input</th><th scope=col>Output</th><th scope=col>Log2FC</th><th scope=col>pLog2FC</th><th scope=col>Input_Residual</th><th scope=col>Input_Score</th><th scope=col>Output_Residual</th><th scope=col>Output_Score</th></tr>\n",
       "\t<tr><th scope=col>&lt;chr&gt;</th><th scope=col>&lt;dbl&gt;</th><th scope=col>&lt;dbl&gt;</th><th scope=col>&lt;chr&gt;</th><th scope=col>&lt;dbl&gt;</th><th scope=col>&lt;dbl&gt;</th><th scope=col>&lt;dbl&gt;</th><th scope=col>&lt;dbl&gt;</th><th scope=col>&lt;dbl&gt;</th><th scope=col>&lt;dbl&gt;</th><th scope=col>&lt;dbl&gt;</th><th scope=col>&lt;dbl&gt;</th><th scope=col>&lt;dbl&gt;</th></tr>\n",
       "</thead>\n",
       "<tbody>\n",
       "\t<tr><td>chr1</td><td>10015</td><td>10442</td><td>chr1_10015_10442</td><td>427</td><td>0.4863317</td><td>0.09736537</td><td>-2.3204599</td><td>-0.43771215</td><td> 0.25149985</td><td>0.1362392</td><td>-0.1433799</td><td>0.07463616</td></tr>\n",
       "\t<tr><td>chr1</td><td>14253</td><td>14645</td><td>chr1_14253_14645</td><td>392</td><td>0.3152472</td><td>0.27902967</td><td>-0.1760648</td><td>-0.04028420</td><td> 0.19879784</td><td>0.1357280</td><td> 0.1693269</td><td>0.07589325</td></tr>\n",
       "\t<tr><td>chr1</td><td>16015</td><td>16477</td><td>chr1_16015_16477</td><td>462</td><td>0.4361424</td><td>0.15900628</td><td>-1.4557156</td><td>-0.30931046</td><td> 0.08292808</td><td>0.1346040</td><td>-0.2127815</td><td>0.07435717</td></tr>\n",
       "\t<tr><td>chr1</td><td>17237</td><td>17772</td><td>chr1_17237_17772</td><td>535</td><td>0.8007562</td><td>0.22194085</td><td>-1.8511878</td><td>-0.55942840</td><td> 0.20062968</td><td>0.1357457</td><td>-0.4231641</td><td>0.07351143</td></tr>\n",
       "\t<tr><td>chr1</td><td>28903</td><td>29613</td><td>chr1_28903_29613</td><td>710</td><td>0.7629703</td><td>0.16679463</td><td>-2.1935541</td><td>-0.59545755</td><td>-0.42906879</td><td>0.1296375</td><td>-1.1335228</td><td>0.07065579</td></tr>\n",
       "\t<tr><td>chr1</td><td>30803</td><td>31072</td><td>chr1_30803_31072</td><td>269</td><td>0.2774187</td><td>0.21678565</td><td>-0.3557958</td><td>-0.07015643</td><td> 0.57699942</td><td>0.1393966</td><td> 0.5676036</td><td>0.07749432</td></tr>\n",
       "</tbody>\n",
       "</table>\n"
      ],
      "text/latex": [
       "A tibble: 6 × 13\n",
       "\\begin{tabular}{lllllllllllll}\n",
       " Chrom & Start & End & Peak & Length & Input & Output & Log2FC & pLog2FC & Input\\_Residual & Input\\_Score & Output\\_Residual & Output\\_Score\\\\\n",
       " <chr> & <dbl> & <dbl> & <chr> & <dbl> & <dbl> & <dbl> & <dbl> & <dbl> & <dbl> & <dbl> & <dbl> & <dbl>\\\\\n",
       "\\hline\n",
       "\t chr1 & 10015 & 10442 & chr1\\_10015\\_10442 & 427 & 0.4863317 & 0.09736537 & -2.3204599 & -0.43771215 &  0.25149985 & 0.1362392 & -0.1433799 & 0.07463616\\\\\n",
       "\t chr1 & 14253 & 14645 & chr1\\_14253\\_14645 & 392 & 0.3152472 & 0.27902967 & -0.1760648 & -0.04028420 &  0.19879784 & 0.1357280 &  0.1693269 & 0.07589325\\\\\n",
       "\t chr1 & 16015 & 16477 & chr1\\_16015\\_16477 & 462 & 0.4361424 & 0.15900628 & -1.4557156 & -0.30931046 &  0.08292808 & 0.1346040 & -0.2127815 & 0.07435717\\\\\n",
       "\t chr1 & 17237 & 17772 & chr1\\_17237\\_17772 & 535 & 0.8007562 & 0.22194085 & -1.8511878 & -0.55942840 &  0.20062968 & 0.1357457 & -0.4231641 & 0.07351143\\\\\n",
       "\t chr1 & 28903 & 29613 & chr1\\_28903\\_29613 & 710 & 0.7629703 & 0.16679463 & -2.1935541 & -0.59545755 & -0.42906879 & 0.1296375 & -1.1335228 & 0.07065579\\\\\n",
       "\t chr1 & 30803 & 31072 & chr1\\_30803\\_31072 & 269 & 0.2774187 & 0.21678565 & -0.3557958 & -0.07015643 &  0.57699942 & 0.1393966 &  0.5676036 & 0.07749432\\\\\n",
       "\\end{tabular}\n"
      ],
      "text/markdown": [
       "\n",
       "A tibble: 6 × 13\n",
       "\n",
       "| Chrom &lt;chr&gt; | Start &lt;dbl&gt; | End &lt;dbl&gt; | Peak &lt;chr&gt; | Length &lt;dbl&gt; | Input &lt;dbl&gt; | Output &lt;dbl&gt; | Log2FC &lt;dbl&gt; | pLog2FC &lt;dbl&gt; | Input_Residual &lt;dbl&gt; | Input_Score &lt;dbl&gt; | Output_Residual &lt;dbl&gt; | Output_Score &lt;dbl&gt; |\n",
       "|---|---|---|---|---|---|---|---|---|---|---|---|---|\n",
       "| chr1 | 10015 | 10442 | chr1_10015_10442 | 427 | 0.4863317 | 0.09736537 | -2.3204599 | -0.43771215 |  0.25149985 | 0.1362392 | -0.1433799 | 0.07463616 |\n",
       "| chr1 | 14253 | 14645 | chr1_14253_14645 | 392 | 0.3152472 | 0.27902967 | -0.1760648 | -0.04028420 |  0.19879784 | 0.1357280 |  0.1693269 | 0.07589325 |\n",
       "| chr1 | 16015 | 16477 | chr1_16015_16477 | 462 | 0.4361424 | 0.15900628 | -1.4557156 | -0.30931046 |  0.08292808 | 0.1346040 | -0.2127815 | 0.07435717 |\n",
       "| chr1 | 17237 | 17772 | chr1_17237_17772 | 535 | 0.8007562 | 0.22194085 | -1.8511878 | -0.55942840 |  0.20062968 | 0.1357457 | -0.4231641 | 0.07351143 |\n",
       "| chr1 | 28903 | 29613 | chr1_28903_29613 | 710 | 0.7629703 | 0.16679463 | -2.1935541 | -0.59545755 | -0.42906879 | 0.1296375 | -1.1335228 | 0.07065579 |\n",
       "| chr1 | 30803 | 31072 | chr1_30803_31072 | 269 | 0.2774187 | 0.21678565 | -0.3557958 | -0.07015643 |  0.57699942 | 0.1393966 |  0.5676036 | 0.07749432 |\n",
       "\n"
      ],
      "text/plain": [
       "  Chrom Start End   Peak             Length Input     Output     Log2FC    \n",
       "1 chr1  10015 10442 chr1_10015_10442 427    0.4863317 0.09736537 -2.3204599\n",
       "2 chr1  14253 14645 chr1_14253_14645 392    0.3152472 0.27902967 -0.1760648\n",
       "3 chr1  16015 16477 chr1_16015_16477 462    0.4361424 0.15900628 -1.4557156\n",
       "4 chr1  17237 17772 chr1_17237_17772 535    0.8007562 0.22194085 -1.8511878\n",
       "5 chr1  28903 29613 chr1_28903_29613 710    0.7629703 0.16679463 -2.1935541\n",
       "6 chr1  30803 31072 chr1_30803_31072 269    0.2774187 0.21678565 -0.3557958\n",
       "  pLog2FC     Input_Residual Input_Score Output_Residual Output_Score\n",
       "1 -0.43771215  0.25149985    0.1362392   -0.1433799      0.07463616  \n",
       "2 -0.04028420  0.19879784    0.1357280    0.1693269      0.07589325  \n",
       "3 -0.30931046  0.08292808    0.1346040   -0.2127815      0.07435717  \n",
       "4 -0.55942840  0.20062968    0.1357457   -0.4231641      0.07351143  \n",
       "5 -0.59545755 -0.42906879    0.1296375   -1.1335228      0.07065579  \n",
       "6 -0.07015643  0.57699942    0.1393966    0.5676036      0.07749432  "
      ]
     },
     "metadata": {},
     "output_type": "display_data"
    }
   ],
   "source": [
    "ASSAY  = \"KS91_K562_ASTARRseq\"\n",
    "FOLDER = \"coverage_astarrseq_peak_macs_input\"\n",
    "\n",
    "fdiry = file.path(FD_RES, \"results\", ASSAY, FOLDER, \"summary\")\n",
    "fname = \"result.Score.raw.cpm.WGS.tsv\"\n",
    "fpath = file.path(fdiry, fname)\n",
    "\n",
    "dat = read_tsv(fpath)\n",
    "\n",
    "dat_peak_score = dat\n",
    "print(dim(dat))\n",
    "head(dat)"
   ]
  },
  {
   "cell_type": "code",
   "execution_count": 49,
   "metadata": {},
   "outputs": [
    {
     "name": "stdout",
     "output_type": "stream",
     "text": [
      "[1] 246850      6\n"
     ]
    },
    {
     "data": {
      "text/html": [
       "<table class=\"dataframe\">\n",
       "<caption>A tibble: 6 × 6</caption>\n",
       "<thead>\n",
       "\t<tr><th scope=col>Peak</th><th scope=col>Input_Score</th><th scope=col>Output_Score</th><th scope=col>Log2FC</th><th scope=col>log2FoldChange</th><th scope=col>CTCF</th></tr>\n",
       "\t<tr><th scope=col>&lt;chr&gt;</th><th scope=col>&lt;dbl&gt;</th><th scope=col>&lt;dbl&gt;</th><th scope=col>&lt;dbl&gt;</th><th scope=col>&lt;dbl&gt;</th><th scope=col>&lt;chr&gt;</th></tr>\n",
       "</thead>\n",
       "<tbody>\n",
       "\t<tr><td>chr1_10015_10442</td><td>0.1362392</td><td>0.07463616</td><td>-2.3204599</td><td>-2.2136128</td><td>0</td></tr>\n",
       "\t<tr><td>chr1_14253_14645</td><td>0.1357280</td><td>0.07589325</td><td>-0.1760648</td><td> 0.2221859</td><td>0</td></tr>\n",
       "\t<tr><td>chr1_16015_16477</td><td>0.1346040</td><td>0.07435717</td><td>-1.4557156</td><td>-1.2712950</td><td>1</td></tr>\n",
       "\t<tr><td>chr1_17237_17772</td><td>0.1357457</td><td>0.07351143</td><td>-1.8511878</td><td>-1.3852891</td><td>0</td></tr>\n",
       "\t<tr><td>chr1_28903_29613</td><td>0.1296375</td><td>0.07065579</td><td>-2.1935541</td><td>-1.9422003</td><td>0</td></tr>\n",
       "\t<tr><td>chr1_30803_31072</td><td>0.1393966</td><td>0.07749432</td><td>-0.3557958</td><td>-0.1332069</td><td>0</td></tr>\n",
       "</tbody>\n",
       "</table>\n"
      ],
      "text/latex": [
       "A tibble: 6 × 6\n",
       "\\begin{tabular}{llllll}\n",
       " Peak & Input\\_Score & Output\\_Score & Log2FC & log2FoldChange & CTCF\\\\\n",
       " <chr> & <dbl> & <dbl> & <dbl> & <dbl> & <chr>\\\\\n",
       "\\hline\n",
       "\t chr1\\_10015\\_10442 & 0.1362392 & 0.07463616 & -2.3204599 & -2.2136128 & 0\\\\\n",
       "\t chr1\\_14253\\_14645 & 0.1357280 & 0.07589325 & -0.1760648 &  0.2221859 & 0\\\\\n",
       "\t chr1\\_16015\\_16477 & 0.1346040 & 0.07435717 & -1.4557156 & -1.2712950 & 1\\\\\n",
       "\t chr1\\_17237\\_17772 & 0.1357457 & 0.07351143 & -1.8511878 & -1.3852891 & 0\\\\\n",
       "\t chr1\\_28903\\_29613 & 0.1296375 & 0.07065579 & -2.1935541 & -1.9422003 & 0\\\\\n",
       "\t chr1\\_30803\\_31072 & 0.1393966 & 0.07749432 & -0.3557958 & -0.1332069 & 0\\\\\n",
       "\\end{tabular}\n"
      ],
      "text/markdown": [
       "\n",
       "A tibble: 6 × 6\n",
       "\n",
       "| Peak &lt;chr&gt; | Input_Score &lt;dbl&gt; | Output_Score &lt;dbl&gt; | Log2FC &lt;dbl&gt; | log2FoldChange &lt;dbl&gt; | CTCF &lt;chr&gt; |\n",
       "|---|---|---|---|---|---|\n",
       "| chr1_10015_10442 | 0.1362392 | 0.07463616 | -2.3204599 | -2.2136128 | 0 |\n",
       "| chr1_14253_14645 | 0.1357280 | 0.07589325 | -0.1760648 |  0.2221859 | 0 |\n",
       "| chr1_16015_16477 | 0.1346040 | 0.07435717 | -1.4557156 | -1.2712950 | 1 |\n",
       "| chr1_17237_17772 | 0.1357457 | 0.07351143 | -1.8511878 | -1.3852891 | 0 |\n",
       "| chr1_28903_29613 | 0.1296375 | 0.07065579 | -2.1935541 | -1.9422003 | 0 |\n",
       "| chr1_30803_31072 | 0.1393966 | 0.07749432 | -0.3557958 | -0.1332069 | 0 |\n",
       "\n"
      ],
      "text/plain": [
       "  Peak             Input_Score Output_Score Log2FC     log2FoldChange CTCF\n",
       "1 chr1_10015_10442 0.1362392   0.07463616   -2.3204599 -2.2136128     0   \n",
       "2 chr1_14253_14645 0.1357280   0.07589325   -0.1760648  0.2221859     0   \n",
       "3 chr1_16015_16477 0.1346040   0.07435717   -1.4557156 -1.2712950     1   \n",
       "4 chr1_17237_17772 0.1357457   0.07351143   -1.8511878 -1.3852891     0   \n",
       "5 chr1_28903_29613 0.1296375   0.07065579   -2.1935541 -1.9422003     0   \n",
       "6 chr1_30803_31072 0.1393966   0.07749432   -0.3557958 -0.1332069     0   "
      ]
     },
     "metadata": {},
     "output_type": "display_data"
    }
   ],
   "source": [
    "dat1 = dat_peak_score\n",
    "dat2 = dat_peak_deseq\n",
    "vec  = dat_peak_ctcf$Peak\n",
    "\n",
    "dat  = inner_join(dat1, dat2, by=\"Peak\") %>%\n",
    "    dplyr::select(Peak, Input_Score, Output_Score, Log2FC, log2FoldChange) %>%\n",
    "    dplyr::mutate(\n",
    "        CTCF = ifelse(\n",
    "            Peak %in% vec,\n",
    "            \"1\",\n",
    "            \"0\"\n",
    "        ))\n",
    "dat_peak_merge = dat\n",
    "print(dim(dat))\n",
    "head(dat)"
   ]
  },
  {
   "cell_type": "code",
   "execution_count": 50,
   "metadata": {},
   "outputs": [
    {
     "data": {
      "image/png": "[encoded data removed]",
      "text/plain": [
       "plot without title"
      ]
     },
     "metadata": {
      "image/png": {
       "height": 300,
       "width": 300
      }
     },
     "output_type": "display_data"
    }
   ],
   "source": [
    "dat = dat_peak_merge %>% dplyr::mutate(Score = Input_Score)\n",
    "gpt = ggplot(dat, aes(x=Score)) + geom_histogram(bins=50) + theme_cowplot()\n",
    "\n",
    "options(repr.plot.height=5, repr.plot.width=5)\n",
    "print(gpt)"
   ]
  },
  {
   "cell_type": "code",
   "execution_count": 51,
   "metadata": {},
   "outputs": [],
   "source": [
    "dat = dat_peak_merge\n",
    "dat = dat %>% dplyr::slice_sample(n = 1000)\n",
    "dat = dat %>% \n",
    "    dplyr::mutate(\n",
    "        Name  = \"Input\",\n",
    "        Score = Input_Score\n",
    "    ) %>% \n",
    "    dplyr::arrange(Score)\n",
    "dat$Peak = factor(dat$Peak, levels=dat$Peak)\n",
    "\n",
    "gpt = ggplot(dat, aes(x=Peak, y=Score, group = 1)) +\n",
    "        geom_line() +\n",
    "        labs(x=\"\", y=\"Input Score\") +\n",
    "        theme_cowplot() +\n",
    "        theme(axis.text.x  = element_blank(),\n",
    "              axis.text.y  = element_text(size=10),\n",
    "              axis.ticks.x = element_blank(),\n",
    "              axis.title.y = element_text(size=20))"
   ]
  },
  {
   "cell_type": "code",
   "execution_count": 52,
   "metadata": {},
   "outputs": [
    {
     "data": {
      "image/png": "[encoded data removed]",
      "text/plain": [
       "plot without title"
      ]
     },
     "metadata": {
      "image/png": {
       "height": 120,
       "width": 900
      }
     },
     "output_type": "display_data"
    }
   ],
   "source": [
    "options(repr.plot.height=2, repr.plot.width=15)\n",
    "print(gpt)"
   ]
  },
  {
   "cell_type": "code",
   "execution_count": 53,
   "metadata": {},
   "outputs": [],
   "source": [
    "dat = dat_peak_merge\n",
    "dat = dat %>% \n",
    "    dplyr::mutate(\n",
    "        Name  = \"Input\",\n",
    "        Score = Input_Score,\n",
    "        Annot = \"CTCF\",\n",
    "        Label = CTCF\n",
    "    ) %>% \n",
    "    dplyr::arrange(Score)\n",
    "dat$Peak = factor(dat$Peak, levels=dat$Peak)\n",
    "\n",
    "vec = c(\"1\" = \"black\", \"0\" = \"white\")\n",
    "gpt = ggplot(dat, aes(x=Peak, y=Annot, fill=Label)) +\n",
    "        geom_tile() +\n",
    "        scale_fill_manual(values = vec) +\n",
    "        labs(x=\"\", y=\"\") +\n",
    "        theme_cowplot() +\n",
    "        theme(axis.text.x = element_blank(),\n",
    "              axis.text.y = element_text(size=30),\n",
    "              axis.ticks.x = element_blank(),\n",
    "              legend.position = \"bottom\",\n",
    "              legend.key.size = unit(1, 'cm'),\n",
    "              legend.title = element_text(size=20),\n",
    "              legend.text = element_text(size=10))"
   ]
  },
  {
   "cell_type": "code",
   "execution_count": 54,
   "metadata": {},
   "outputs": [
    {
     "data": {
      "image/png": "[encoded data removed]",
      "text/plain": [
       "plot without title"
      ]
     },
     "metadata": {
      "image/png": {
       "height": 120,
       "width": 900
      }
     },
     "output_type": "display_data"
    }
   ],
   "source": [
    "options(repr.plot.height=2, repr.plot.width=15)\n",
    "print(gpt)"
   ]
  },
  {
   "cell_type": "markdown",
   "metadata": {},
   "source": [
    "## Plot"
   ]
  },
  {
   "cell_type": "code",
   "execution_count": 55,
   "metadata": {},
   "outputs": [
    {
     "data": {
      "image/png": "[encoded data removed]",
      "text/plain": [
       "plot without title"
      ]
     },
     "metadata": {
      "image/png": {
       "height": 300,
       "width": 900
      }
     },
     "output_type": "display_data"
    }
   ],
   "source": [
    "dat = dat_peak_merge\n",
    "dat = dat %>% \n",
    "    dplyr::mutate(\n",
    "        Score = Input_Score,\n",
    "        Annot = \"CTCF\",\n",
    "        Label = CTCF\n",
    "    ) %>% \n",
    "    dplyr::arrange(Score)\n",
    "dat$Peak = factor(dat$Peak, levels=dat$Peak)\n",
    "\n",
    "\n",
    "gp1 = ggplot(dat, aes(x=Peak, y=Score, group = 1)) +\n",
    "        geom_line() +\n",
    "        labs(x=\"\", y=\"Input Score\") +\n",
    "        theme_cowplot() +\n",
    "        theme(axis.text.x = element_blank(),\n",
    "              axis.text.y = element_text(size=15),\n",
    "              axis.ticks.x = element_blank(),\n",
    "              axis.title.y = element_text(size=20))\n",
    "\n",
    "vec = c(\"1\" = \"black\", \"0\" = \"white\")\n",
    "gp2 = ggplot(dat, aes(x=Peak, y=Annot, fill=Label)) +\n",
    "        geom_tile() +\n",
    "        scale_fill_manual(values = vec) +\n",
    "        labs(x=\"\", y=\"\") +\n",
    "        theme_cowplot() +\n",
    "        theme(axis.text.x  = element_blank(),\n",
    "              axis.text.y  = element_text(size=20),\n",
    "              axis.ticks.x = element_blank(),\n",
    "              legend.position = \"none\")\n",
    "\n",
    "options(repr.plot.height=5, repr.plot.width=15)\n",
    "plot_grid(\n",
    "    gp1, gp2, \n",
    "    ncol  = 1,\n",
    "    align = \"v\",\n",
    "    rel_heights = c(3, 1))"
   ]
  },
  {
   "cell_type": "code",
   "execution_count": 56,
   "metadata": {},
   "outputs": [
    {
     "data": {
      "image/png": "[encoded data removed]",
      "text/plain": [
       "plot without title"
      ]
     },
     "metadata": {
      "image/png": {
       "height": 300,
       "width": 900
      }
     },
     "output_type": "display_data"
    }
   ],
   "source": [
    "dat = dat_peak_merge\n",
    "dat = dat %>% \n",
    "    dplyr::mutate(\n",
    "        Score = Output_Score,\n",
    "        Annot = \"CTCF\",\n",
    "        Label = CTCF\n",
    "    ) %>% \n",
    "    dplyr::arrange(Score)\n",
    "dat$Peak = factor(dat$Peak, levels=dat$Peak)\n",
    "\n",
    "\n",
    "gp1 = ggplot(dat, aes(x=Peak, y=Score, group = 1)) +\n",
    "        geom_line() +\n",
    "        labs(x=\"\", y=\"Output Score\") +\n",
    "        theme_cowplot() +\n",
    "        theme(axis.text.x = element_blank(),\n",
    "              axis.text.y = element_text(size=15),\n",
    "              axis.ticks.x = element_blank(),\n",
    "              axis.title.y = element_text(size=20))\n",
    "\n",
    "vec = c(\"1\" = \"black\", \"0\" = \"white\")\n",
    "gp2 = ggplot(dat, aes(x=Peak, y=Annot, fill=Label)) +\n",
    "        geom_tile() +\n",
    "        scale_fill_manual(values = vec) +\n",
    "        labs(x=\"\", y=\"\") +\n",
    "        theme_cowplot() +\n",
    "        theme(axis.text.x  = element_blank(),\n",
    "              axis.text.y  = element_text(size=20),\n",
    "              axis.ticks.x = element_blank(),\n",
    "              legend.position = \"none\")\n",
    "\n",
    "options(repr.plot.height=5, repr.plot.width=15)\n",
    "plot_grid(\n",
    "    gp1, gp2, \n",
    "    ncol  = 1,\n",
    "    align = \"v\",\n",
    "    rel_heights = c(3, 1))"
   ]
  },
  {
   "cell_type": "code",
   "execution_count": 57,
   "metadata": {},
   "outputs": [
    {
     "data": {
      "image/png": "[encoded data removed]",
      "text/plain": [
       "plot without title"
      ]
     },
     "metadata": {
      "image/png": {
       "height": 300,
       "width": 900
      }
     },
     "output_type": "display_data"
    }
   ],
   "source": [
    "dat = dat_peak_merge\n",
    "dat = dat %>% \n",
    "    dplyr::mutate(\n",
    "        Score = Log2FC,\n",
    "        Annot = \"CTCF\",\n",
    "        Label = CTCF\n",
    "    ) %>% \n",
    "    dplyr::arrange(Score)\n",
    "dat$Peak = factor(dat$Peak, levels=dat$Peak)\n",
    "\n",
    "\n",
    "gp1 = ggplot(dat, aes(x=Peak, y=Score, group = 1)) +\n",
    "        geom_line() +\n",
    "        labs(x=\"\", y=\"Log2FC (CPM)\") +\n",
    "        theme_cowplot() +\n",
    "        theme(axis.text.x = element_blank(),\n",
    "              axis.text.y = element_text(size=15),\n",
    "              axis.ticks.x = element_blank(),\n",
    "              axis.title.y = element_text(size=20))\n",
    "\n",
    "vec = c(\"1\" = \"black\", \"0\" = \"white\")\n",
    "gp2 = ggplot(dat, aes(x=Peak, y=Annot, fill=Label)) +\n",
    "        geom_tile() +\n",
    "        scale_fill_manual(values = vec) +\n",
    "        labs(x=\"\", y=\"\") +\n",
    "        theme_cowplot() +\n",
    "        theme(axis.text.x  = element_blank(),\n",
    "              axis.text.y  = element_text(size=20),\n",
    "              axis.ticks.x = element_blank(),\n",
    "              legend.position = \"none\")\n",
    "\n",
    "options(repr.plot.height=5, repr.plot.width=15)\n",
    "plot_grid(\n",
    "    gp1, gp2, \n",
    "    ncol  = 1,\n",
    "    align = \"v\",\n",
    "    rel_heights = c(3, 1))"
   ]
  },
  {
   "cell_type": "code",
   "execution_count": 58,
   "metadata": {},
   "outputs": [
    {
     "data": {
      "image/png": "[encoded data removed]",
      "text/plain": [
       "plot without title"
      ]
     },
     "metadata": {
      "image/png": {
       "height": 300,
       "width": 900
      }
     },
     "output_type": "display_data"
    }
   ],
   "source": [
    "dat = dat_peak_merge\n",
    "dat = dat %>% \n",
    "    dplyr::mutate(\n",
    "        Score = log2FoldChange,\n",
    "        Annot = \"CTCF\",\n",
    "        Label = CTCF\n",
    "    ) %>% \n",
    "    dplyr::arrange(Score)\n",
    "dat$Peak = factor(dat$Peak, levels=dat$Peak)\n",
    "\n",
    "\n",
    "gp1 = ggplot(dat, aes(x=Peak, y=Score, group = 1)) +\n",
    "        geom_line() +\n",
    "        labs(x=\"\", y=\"Log2FC (DESeq)\") +\n",
    "        theme_cowplot() +\n",
    "        theme(axis.text.x = element_blank(),\n",
    "              axis.text.y = element_text(size=15),\n",
    "              axis.ticks.x = element_blank(),\n",
    "              axis.title.y = element_text(size=20))\n",
    "\n",
    "vec = c(\"1\" = \"black\", \"0\" = \"white\")\n",
    "gp2 = ggplot(dat, aes(x=Peak, y=Annot, fill=Label)) +\n",
    "        geom_tile() +\n",
    "        scale_fill_manual(values = vec) +\n",
    "        labs(x=\"\", y=\"\") +\n",
    "        theme_cowplot() +\n",
    "        theme(axis.text.x  = element_blank(),\n",
    "              axis.text.y  = element_text(size=20),\n",
    "              axis.ticks.x = element_blank(),\n",
    "              legend.position = \"none\")\n",
    "\n",
    "options(repr.plot.height=5, repr.plot.width=15)\n",
    "plot_grid(\n",
    "    gp1, gp2, \n",
    "    ncol  = 1,\n",
    "    align = \"v\",\n",
    "    rel_heights = c(3, 1))"
   ]
  },
  {
   "cell_type": "code",
   "execution_count": null,
   "metadata": {},
   "outputs": [],
   "source": []
  }
 ],
 "metadata": {
  "kernelspec": {
   "display_name": "R",
   "language": "R",
   "name": "ir"
  },
  "language_info": {
   "codemirror_mode": "r",
   "file_extension": ".r",
   "mimetype": "text/x-r-source",
   "name": "R",
   "pygments_lexer": "r",
   "version": "4.2.3"
  }
 },
 "nbformat": 4,
 "nbformat_minor": 4
}
