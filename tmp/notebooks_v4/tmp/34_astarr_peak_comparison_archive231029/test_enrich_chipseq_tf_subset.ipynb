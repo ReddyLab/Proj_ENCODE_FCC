{
 "cells": [
  {
   "cell_type": "markdown",
   "metadata": {},
   "source": [
    "**Set environment**"
   ]
  },
  {
   "cell_type": "code",
   "execution_count": 2,
   "metadata": {},
   "outputs": [
    {
     "name": "stdout",
     "output_type": "stream",
     "text": [
      "You are in Singularity: singularity_proj_encode_fcc \n",
      "BASE DIRECTORY (FD_BASE): /data/reddylab/Kuei \n",
      "WORK DIRECTORY (FD_WORK): /data/reddylab/Kuei/out \n",
      "CODE DIRECTORY (FD_CODE): /data/reddylab/Kuei/code \n",
      "PATH OF PROJECT (FD_PRJ): /data/reddylab/Kuei/code/Proj_CombEffect_ENCODE_FCC \n",
      "PATH OF RESULTS (FD_RES): /data/reddylab/Kuei/out/proj_combeffect_encode_fcc \n",
      "PATH OF LOG     (FD_LOG): /data/reddylab/Kuei/out/proj_combeffect_encode_fcc/log \n"
     ]
    }
   ],
   "source": [
    "suppressMessages(suppressWarnings(source(\"../config/config_sing.R\")))\n",
    "library(fgsea)\n",
    "show_env()"
   ]
  },
  {
   "cell_type": "markdown",
   "metadata": {},
   "source": [
    "## Import data"
   ]
  },
  {
   "cell_type": "code",
   "execution_count": 3,
   "metadata": {},
   "outputs": [
    {
     "name": "stdout",
     "output_type": "stream",
     "text": [
      "[1] 495260      9\n",
      "\n",
      "ASTARR  TMPRA WSTARR \n",
      "246850   1722 246688 \n"
     ]
    },
    {
     "data": {
      "text/html": [
       "<table class=\"dataframe\">\n",
       "<caption>A tibble: 6 × 9</caption>\n",
       "<thead>\n",
       "\t<tr><th scope=col>Assay</th><th scope=col>Peak</th><th scope=col>baseMean</th><th scope=col>log2FoldChange</th><th scope=col>lfcSE</th><th scope=col>stat</th><th scope=col>pvalue</th><th scope=col>padj</th><th scope=col>Dataset</th></tr>\n",
       "\t<tr><th scope=col>&lt;chr&gt;</th><th scope=col>&lt;chr&gt;</th><th scope=col>&lt;dbl&gt;</th><th scope=col>&lt;dbl&gt;</th><th scope=col>&lt;dbl&gt;</th><th scope=col>&lt;dbl&gt;</th><th scope=col>&lt;dbl&gt;</th><th scope=col>&lt;dbl&gt;</th><th scope=col>&lt;chr&gt;</th></tr>\n",
       "</thead>\n",
       "<tbody>\n",
       "\t<tr><td>ASTARR</td><td>chr1_100006256_100006880</td><td> 74.39238</td><td>-0.01311792</td><td>0.15512423</td><td>-0.08456397</td><td>9.326080e-01</td><td>0.9510236543</td><td>NA</td></tr>\n",
       "\t<tr><td>ASTARR</td><td>chr1_100010437_100010915</td><td> 48.25931</td><td>-0.80687947</td><td>0.22174651</td><td>-3.63874709</td><td>2.739677e-04</td><td>0.0008947519</td><td>NA</td></tr>\n",
       "\t<tr><td>ASTARR</td><td>chr1_10002087_10003910  </td><td>224.35927</td><td>-0.34892859</td><td>0.09743886</td><td>-3.58100041</td><td>3.422811e-04</td><td>0.0010926173</td><td>NA</td></tr>\n",
       "\t<tr><td>ASTARR</td><td>chr1_100021298_100021629</td><td> 38.13434</td><td>-1.03799571</td><td>0.25401013</td><td>-4.08643436</td><td>4.380534e-05</td><td>0.0001707736</td><td>NA</td></tr>\n",
       "\t<tr><td>ASTARR</td><td>chr1_100023727_100023976</td><td> 32.62049</td><td>-0.19100207</td><td>0.25625467</td><td>-0.74536036</td><td>4.560539e-01</td><td>0.5497617125</td><td>NA</td></tr>\n",
       "\t<tr><td>ASTARR</td><td>chr1_100027983_100029702</td><td>290.98442</td><td>-0.18001582</td><td>0.09610434</td><td>-1.87312902</td><td>6.105057e-02</td><td>0.1032752224</td><td>NA</td></tr>\n",
       "</tbody>\n",
       "</table>\n"
      ],
      "text/latex": [
       "A tibble: 6 × 9\n",
       "\\begin{tabular}{lllllllll}\n",
       " Assay & Peak & baseMean & log2FoldChange & lfcSE & stat & pvalue & padj & Dataset\\\\\n",
       " <chr> & <chr> & <dbl> & <dbl> & <dbl> & <dbl> & <dbl> & <dbl> & <chr>\\\\\n",
       "\\hline\n",
       "\t ASTARR & chr1\\_100006256\\_100006880 &  74.39238 & -0.01311792 & 0.15512423 & -0.08456397 & 9.326080e-01 & 0.9510236543 & NA\\\\\n",
       "\t ASTARR & chr1\\_100010437\\_100010915 &  48.25931 & -0.80687947 & 0.22174651 & -3.63874709 & 2.739677e-04 & 0.0008947519 & NA\\\\\n",
       "\t ASTARR & chr1\\_10002087\\_10003910   & 224.35927 & -0.34892859 & 0.09743886 & -3.58100041 & 3.422811e-04 & 0.0010926173 & NA\\\\\n",
       "\t ASTARR & chr1\\_100021298\\_100021629 &  38.13434 & -1.03799571 & 0.25401013 & -4.08643436 & 4.380534e-05 & 0.0001707736 & NA\\\\\n",
       "\t ASTARR & chr1\\_100023727\\_100023976 &  32.62049 & -0.19100207 & 0.25625467 & -0.74536036 & 4.560539e-01 & 0.5497617125 & NA\\\\\n",
       "\t ASTARR & chr1\\_100027983\\_100029702 & 290.98442 & -0.18001582 & 0.09610434 & -1.87312902 & 6.105057e-02 & 0.1032752224 & NA\\\\\n",
       "\\end{tabular}\n"
      ],
      "text/markdown": [
       "\n",
       "A tibble: 6 × 9\n",
       "\n",
       "| Assay &lt;chr&gt; | Peak &lt;chr&gt; | baseMean &lt;dbl&gt; | log2FoldChange &lt;dbl&gt; | lfcSE &lt;dbl&gt; | stat &lt;dbl&gt; | pvalue &lt;dbl&gt; | padj &lt;dbl&gt; | Dataset &lt;chr&gt; |\n",
       "|---|---|---|---|---|---|---|---|---|\n",
       "| ASTARR | chr1_100006256_100006880 |  74.39238 | -0.01311792 | 0.15512423 | -0.08456397 | 9.326080e-01 | 0.9510236543 | NA |\n",
       "| ASTARR | chr1_100010437_100010915 |  48.25931 | -0.80687947 | 0.22174651 | -3.63874709 | 2.739677e-04 | 0.0008947519 | NA |\n",
       "| ASTARR | chr1_10002087_10003910   | 224.35927 | -0.34892859 | 0.09743886 | -3.58100041 | 3.422811e-04 | 0.0010926173 | NA |\n",
       "| ASTARR | chr1_100021298_100021629 |  38.13434 | -1.03799571 | 0.25401013 | -4.08643436 | 4.380534e-05 | 0.0001707736 | NA |\n",
       "| ASTARR | chr1_100023727_100023976 |  32.62049 | -0.19100207 | 0.25625467 | -0.74536036 | 4.560539e-01 | 0.5497617125 | NA |\n",
       "| ASTARR | chr1_100027983_100029702 | 290.98442 | -0.18001582 | 0.09610434 | -1.87312902 | 6.105057e-02 | 0.1032752224 | NA |\n",
       "\n"
      ],
      "text/plain": [
       "  Assay  Peak                     baseMean  log2FoldChange lfcSE     \n",
       "1 ASTARR chr1_100006256_100006880  74.39238 -0.01311792    0.15512423\n",
       "2 ASTARR chr1_100010437_100010915  48.25931 -0.80687947    0.22174651\n",
       "3 ASTARR chr1_10002087_10003910   224.35927 -0.34892859    0.09743886\n",
       "4 ASTARR chr1_100021298_100021629  38.13434 -1.03799571    0.25401013\n",
       "5 ASTARR chr1_100023727_100023976  32.62049 -0.19100207    0.25625467\n",
       "6 ASTARR chr1_100027983_100029702 290.98442 -0.18001582    0.09610434\n",
       "  stat        pvalue       padj         Dataset\n",
       "1 -0.08456397 9.326080e-01 0.9510236543 NA     \n",
       "2 -3.63874709 2.739677e-04 0.0008947519 NA     \n",
       "3 -3.58100041 3.422811e-04 0.0010926173 NA     \n",
       "4 -4.08643436 4.380534e-05 0.0001707736 NA     \n",
       "5 -0.74536036 4.560539e-01 0.5497617125 NA     \n",
       "6 -1.87312902 6.105057e-02 0.1032752224 NA     "
      ]
     },
     "metadata": {},
     "output_type": "display_data"
    }
   ],
   "source": [
    "### init\n",
    "ASSAYS = c(\"KS91_K562_ASTARRseq\", \"A001_K562_WSTARRseq\", \"Tewhey_K562_TileMPRA\")\n",
    "LABELS = c(\"ASTARR\", \"WSTARR\", \"TMPRA\")\n",
    "FOLDER = \"coverage_astarrseq_peak_macs_input\"\n",
    "\n",
    "fnames = c(\n",
    "    \"result.Log2FC.raw.deseq.WGS.tsv\",\n",
    "    \"result.Log2FC.raw.deseq.WGS.tsv\",\n",
    "    \"result.Log2FC.raw.deseq.Merge.tsv\"\n",
    ")\n",
    "names(fnames) = ASSAYS\n",
    "\n",
    "### loop and import data\n",
    "lst = lapply(ASSAYS, function(ASSAY){\n",
    "    \n",
    "    ### set file directories\n",
    "    fdiry = file.path(FD_RES, \"results\", ASSAY, FOLDER, \"summary\")\n",
    "    fname = fnames[ASSAY]\n",
    "    fpath = file.path(fdiry, fname)\n",
    "\n",
    "    ### read data\n",
    "    dat = read_tsv(fpath, show_col_types = FALSE)\n",
    "    return(dat)\n",
    "})\n",
    "\n",
    "names(lst) = LABELS\n",
    "dat = bind_rows(lst, .id = \"Assay\")\n",
    "\n",
    "### assign and show\n",
    "dat_peak_deseq_starrmpra = dat\n",
    "print(dim(dat))\n",
    "print(table(dat$Assay))\n",
    "head(dat)"
   ]
  },
  {
   "cell_type": "code",
   "execution_count": 4,
   "metadata": {},
   "outputs": [
    {
     "name": "stdout",
     "output_type": "stream",
     "text": [
      "[1] 5166   10\n"
     ]
    },
    {
     "data": {
      "text/html": [
       "<table class=\"dataframe\">\n",
       "<caption>A tibble: 6 × 10</caption>\n",
       "<thead>\n",
       "\t<tr><th scope=col>Chrom</th><th scope=col>Start</th><th scope=col>End</th><th scope=col>Peak</th><th scope=col>TMPRA_Gene</th><th scope=col>TMPRA_Dataset</th><th scope=col>CRISPR_HCFF</th><th scope=col>Assay</th><th scope=col>Log2FC</th><th scope=col>RankNorm_Total</th></tr>\n",
       "\t<tr><th scope=col>&lt;chr&gt;</th><th scope=col>&lt;dbl&gt;</th><th scope=col>&lt;dbl&gt;</th><th scope=col>&lt;chr&gt;</th><th scope=col>&lt;chr&gt;</th><th scope=col>&lt;chr&gt;</th><th scope=col>&lt;chr&gt;</th><th scope=col>&lt;chr&gt;</th><th scope=col>&lt;dbl&gt;</th><th scope=col>&lt;dbl&gt;</th></tr>\n",
       "</thead>\n",
       "<tbody>\n",
       "\t<tr><td>chr11</td><td>4539569</td><td>4540043</td><td>chr11_4539569_4540043</td><td>HBE1</td><td>OL45</td><td>HBE1,HBG1,HBG2,HBS1L,MYB</td><td>ASTARR</td><td> 0.14501695</td><td>0.6550523</td></tr>\n",
       "\t<tr><td>chr11</td><td>4551336</td><td>4552012</td><td>chr11_4551336_4552012</td><td>HBE1</td><td>OL45</td><td>NA                      </td><td>ASTARR</td><td> 0.32125162</td><td>0.7560976</td></tr>\n",
       "\t<tr><td>chr11</td><td>4553969</td><td>4555012</td><td>chr11_4553969_4555012</td><td>HBE1</td><td>OL45</td><td>NA                      </td><td>ASTARR</td><td> 0.14529397</td><td>0.6556330</td></tr>\n",
       "\t<tr><td>chr11</td><td>4569016</td><td>4569992</td><td>chr11_4569016_4569992</td><td>HBE1</td><td>OL45</td><td>NA                      </td><td>ASTARR</td><td> 0.01136464</td><td>0.5673635</td></tr>\n",
       "\t<tr><td>chr11</td><td>4577444</td><td>4578031</td><td>chr11_4577444_4578031</td><td>HBE1</td><td>OL45</td><td>NA                      </td><td>ASTARR</td><td> 0.24524353</td><td>0.7154472</td></tr>\n",
       "\t<tr><td>chr11</td><td>4601808</td><td>4602487</td><td>chr11_4601808_4602487</td><td>HBE1</td><td>OL45</td><td>NA                      </td><td>ASTARR</td><td>-0.57215284</td><td>0.1277584</td></tr>\n",
       "</tbody>\n",
       "</table>\n"
      ],
      "text/latex": [
       "A tibble: 6 × 10\n",
       "\\begin{tabular}{llllllllll}\n",
       " Chrom & Start & End & Peak & TMPRA\\_Gene & TMPRA\\_Dataset & CRISPR\\_HCFF & Assay & Log2FC & RankNorm\\_Total\\\\\n",
       " <chr> & <dbl> & <dbl> & <chr> & <chr> & <chr> & <chr> & <chr> & <dbl> & <dbl>\\\\\n",
       "\\hline\n",
       "\t chr11 & 4539569 & 4540043 & chr11\\_4539569\\_4540043 & HBE1 & OL45 & HBE1,HBG1,HBG2,HBS1L,MYB & ASTARR &  0.14501695 & 0.6550523\\\\\n",
       "\t chr11 & 4551336 & 4552012 & chr11\\_4551336\\_4552012 & HBE1 & OL45 & NA                       & ASTARR &  0.32125162 & 0.7560976\\\\\n",
       "\t chr11 & 4553969 & 4555012 & chr11\\_4553969\\_4555012 & HBE1 & OL45 & NA                       & ASTARR &  0.14529397 & 0.6556330\\\\\n",
       "\t chr11 & 4569016 & 4569992 & chr11\\_4569016\\_4569992 & HBE1 & OL45 & NA                       & ASTARR &  0.01136464 & 0.5673635\\\\\n",
       "\t chr11 & 4577444 & 4578031 & chr11\\_4577444\\_4578031 & HBE1 & OL45 & NA                       & ASTARR &  0.24524353 & 0.7154472\\\\\n",
       "\t chr11 & 4601808 & 4602487 & chr11\\_4601808\\_4602487 & HBE1 & OL45 & NA                       & ASTARR & -0.57215284 & 0.1277584\\\\\n",
       "\\end{tabular}\n"
      ],
      "text/markdown": [
       "\n",
       "A tibble: 6 × 10\n",
       "\n",
       "| Chrom &lt;chr&gt; | Start &lt;dbl&gt; | End &lt;dbl&gt; | Peak &lt;chr&gt; | TMPRA_Gene &lt;chr&gt; | TMPRA_Dataset &lt;chr&gt; | CRISPR_HCFF &lt;chr&gt; | Assay &lt;chr&gt; | Log2FC &lt;dbl&gt; | RankNorm_Total &lt;dbl&gt; |\n",
       "|---|---|---|---|---|---|---|---|---|---|\n",
       "| chr11 | 4539569 | 4540043 | chr11_4539569_4540043 | HBE1 | OL45 | HBE1,HBG1,HBG2,HBS1L,MYB | ASTARR |  0.14501695 | 0.6550523 |\n",
       "| chr11 | 4551336 | 4552012 | chr11_4551336_4552012 | HBE1 | OL45 | NA                       | ASTARR |  0.32125162 | 0.7560976 |\n",
       "| chr11 | 4553969 | 4555012 | chr11_4553969_4555012 | HBE1 | OL45 | NA                       | ASTARR |  0.14529397 | 0.6556330 |\n",
       "| chr11 | 4569016 | 4569992 | chr11_4569016_4569992 | HBE1 | OL45 | NA                       | ASTARR |  0.01136464 | 0.5673635 |\n",
       "| chr11 | 4577444 | 4578031 | chr11_4577444_4578031 | HBE1 | OL45 | NA                       | ASTARR |  0.24524353 | 0.7154472 |\n",
       "| chr11 | 4601808 | 4602487 | chr11_4601808_4602487 | HBE1 | OL45 | NA                       | ASTARR | -0.57215284 | 0.1277584 |\n",
       "\n"
      ],
      "text/plain": [
       "  Chrom Start   End     Peak                  TMPRA_Gene TMPRA_Dataset\n",
       "1 chr11 4539569 4540043 chr11_4539569_4540043 HBE1       OL45         \n",
       "2 chr11 4551336 4552012 chr11_4551336_4552012 HBE1       OL45         \n",
       "3 chr11 4553969 4555012 chr11_4553969_4555012 HBE1       OL45         \n",
       "4 chr11 4569016 4569992 chr11_4569016_4569992 HBE1       OL45         \n",
       "5 chr11 4577444 4578031 chr11_4577444_4578031 HBE1       OL45         \n",
       "6 chr11 4601808 4602487 chr11_4601808_4602487 HBE1       OL45         \n",
       "  CRISPR_HCFF              Assay  Log2FC      RankNorm_Total\n",
       "1 HBE1,HBG1,HBG2,HBS1L,MYB ASTARR  0.14501695 0.6550523     \n",
       "2 NA                       ASTARR  0.32125162 0.7560976     \n",
       "3 NA                       ASTARR  0.14529397 0.6556330     \n",
       "4 NA                       ASTARR  0.01136464 0.5673635     \n",
       "5 NA                       ASTARR  0.24524353 0.7154472     \n",
       "6 NA                       ASTARR -0.57215284 0.1277584     "
      ]
     },
     "metadata": {},
     "output_type": "display_data"
    }
   ],
   "source": [
    "### set file directories\n",
    "fdiry = file.path(FD_RES, \"results\", \"comparison\")\n",
    "fname = \"result.ranknorm.starrmpra.tsv\"\n",
    "fpath = file.path(fdiry, fname)\n",
    "\n",
    "### read data\n",
    "dat = read_tsv(fpath, show_col_types = FALSE)\n",
    "\n",
    "### assign and show\n",
    "dat_peak_ranknorm_starrmpra = dat\n",
    "print(dim(dat))\n",
    "head(dat)"
   ]
  },
  {
   "cell_type": "code",
   "execution_count": 5,
   "metadata": {},
   "outputs": [
    {
     "name": "stdout",
     "output_type": "stream",
     "text": [
      "[1] 1722    4\n"
     ]
    },
    {
     "data": {
      "text/html": [
       "<table class=\"dataframe\">\n",
       "<caption>A tibble: 6 × 4</caption>\n",
       "<thead>\n",
       "\t<tr><th scope=col>Peak</th><th scope=col>RankNorm</th><th scope=col>CRISPR_pos</th><th scope=col>CRISPR_neg</th></tr>\n",
       "\t<tr><th scope=col>&lt;chr&gt;</th><th scope=col>&lt;dbl&gt;</th><th scope=col>&lt;dbl&gt;</th><th scope=col>&lt;dbl&gt;</th></tr>\n",
       "</thead>\n",
       "<tbody>\n",
       "\t<tr><td>chrX_48996933_48997220  </td><td>0.002129307</td><td>0.00000000</td><td> 0.0000000</td></tr>\n",
       "\t<tr><td>chr8_128298518_128298762</td><td>0.009291521</td><td>0.29710614</td><td> 0.0000000</td></tr>\n",
       "\t<tr><td>chr8_128242220_128242507</td><td>0.039876113</td><td>0.01841620</td><td>-0.3771868</td></tr>\n",
       "\t<tr><td>chr11_34024311_34024546 </td><td>0.040456833</td><td>0.00000000</td><td> 0.0000000</td></tr>\n",
       "\t<tr><td>chr8_128189792_128190210</td><td>0.041231127</td><td>0.09226309</td><td>-0.1074660</td></tr>\n",
       "\t<tr><td>chr20_56703281_56703575 </td><td>0.048199768</td><td>0.00000000</td><td> 0.0000000</td></tr>\n",
       "</tbody>\n",
       "</table>\n"
      ],
      "text/latex": [
       "A tibble: 6 × 4\n",
       "\\begin{tabular}{llll}\n",
       " Peak & RankNorm & CRISPR\\_pos & CRISPR\\_neg\\\\\n",
       " <chr> & <dbl> & <dbl> & <dbl>\\\\\n",
       "\\hline\n",
       "\t chrX\\_48996933\\_48997220   & 0.002129307 & 0.00000000 &  0.0000000\\\\\n",
       "\t chr8\\_128298518\\_128298762 & 0.009291521 & 0.29710614 &  0.0000000\\\\\n",
       "\t chr8\\_128242220\\_128242507 & 0.039876113 & 0.01841620 & -0.3771868\\\\\n",
       "\t chr11\\_34024311\\_34024546  & 0.040456833 & 0.00000000 &  0.0000000\\\\\n",
       "\t chr8\\_128189792\\_128190210 & 0.041231127 & 0.09226309 & -0.1074660\\\\\n",
       "\t chr20\\_56703281\\_56703575  & 0.048199768 & 0.00000000 &  0.0000000\\\\\n",
       "\\end{tabular}\n"
      ],
      "text/markdown": [
       "\n",
       "A tibble: 6 × 4\n",
       "\n",
       "| Peak &lt;chr&gt; | RankNorm &lt;dbl&gt; | CRISPR_pos &lt;dbl&gt; | CRISPR_neg &lt;dbl&gt; |\n",
       "|---|---|---|---|\n",
       "| chrX_48996933_48997220   | 0.002129307 | 0.00000000 |  0.0000000 |\n",
       "| chr8_128298518_128298762 | 0.009291521 | 0.29710614 |  0.0000000 |\n",
       "| chr8_128242220_128242507 | 0.039876113 | 0.01841620 | -0.3771868 |\n",
       "| chr11_34024311_34024546  | 0.040456833 | 0.00000000 |  0.0000000 |\n",
       "| chr8_128189792_128190210 | 0.041231127 | 0.09226309 | -0.1074660 |\n",
       "| chr20_56703281_56703575  | 0.048199768 | 0.00000000 |  0.0000000 |\n",
       "\n"
      ],
      "text/plain": [
       "  Peak                     RankNorm    CRISPR_pos CRISPR_neg\n",
       "1 chrX_48996933_48997220   0.002129307 0.00000000  0.0000000\n",
       "2 chr8_128298518_128298762 0.009291521 0.29710614  0.0000000\n",
       "3 chr8_128242220_128242507 0.039876113 0.01841620 -0.3771868\n",
       "4 chr11_34024311_34024546  0.040456833 0.00000000  0.0000000\n",
       "5 chr8_128189792_128190210 0.041231127 0.09226309 -0.1074660\n",
       "6 chr20_56703281_56703575  0.048199768 0.00000000  0.0000000"
      ]
     },
     "metadata": {},
     "output_type": "display_data"
    }
   ],
   "source": [
    "### set file directories\n",
    "fdiry = file.path(FD_RES, \"results\", \"comparison\")\n",
    "fname = \"result.ranknorm.starrmpra.crispr.tsv\"\n",
    "fpath = file.path(fdiry, fname)\n",
    "\n",
    "### read data\n",
    "dat = read_tsv(fpath, show_col_types = FALSE)\n",
    "\n",
    "### assign and show\n",
    "dat_peak_score_starrmpra_crispr = dat\n",
    "print(dim(dat))\n",
    "head(dat)"
   ]
  },
  {
   "cell_type": "code",
   "execution_count": 6,
   "metadata": {},
   "outputs": [
    {
     "name": "stdout",
     "output_type": "stream",
     "text": [
      "[1] 270491      4\n"
     ]
    },
    {
     "data": {
      "text/html": [
       "<table class=\"dataframe\">\n",
       "<caption>A tibble: 6 × 4</caption>\n",
       "<thead>\n",
       "\t<tr><th scope=col>Peak</th><th scope=col>Annotation</th><th scope=col>Label</th><th scope=col>Count</th></tr>\n",
       "\t<tr><th scope=col>&lt;chr&gt;</th><th scope=col>&lt;chr&gt;</th><th scope=col>&lt;chr&gt;</th><th scope=col>&lt;dbl&gt;</th></tr>\n",
       "</thead>\n",
       "<tbody>\n",
       "\t<tr><td>chr10_100009096_100010466</td><td>ChIPseq_TF</td><td>YY1</td><td>1</td></tr>\n",
       "\t<tr><td>chr10_100185017_100187275</td><td>ChIPseq_TF</td><td>YY1</td><td>1</td></tr>\n",
       "\t<tr><td>chr10_100228452_100230090</td><td>ChIPseq_TF</td><td>YY1</td><td>1</td></tr>\n",
       "\t<tr><td>chr10_100267066_100268374</td><td>ChIPseq_TF</td><td>YY1</td><td>1</td></tr>\n",
       "\t<tr><td>chr10_100285974_100287341</td><td>ChIPseq_TF</td><td>YY1</td><td>2</td></tr>\n",
       "\t<tr><td>chr10_100346328_100347693</td><td>ChIPseq_TF</td><td>YY1</td><td>1</td></tr>\n",
       "</tbody>\n",
       "</table>\n"
      ],
      "text/latex": [
       "A tibble: 6 × 4\n",
       "\\begin{tabular}{llll}\n",
       " Peak & Annotation & Label & Count\\\\\n",
       " <chr> & <chr> & <chr> & <dbl>\\\\\n",
       "\\hline\n",
       "\t chr10\\_100009096\\_100010466 & ChIPseq\\_TF & YY1 & 1\\\\\n",
       "\t chr10\\_100185017\\_100187275 & ChIPseq\\_TF & YY1 & 1\\\\\n",
       "\t chr10\\_100228452\\_100230090 & ChIPseq\\_TF & YY1 & 1\\\\\n",
       "\t chr10\\_100267066\\_100268374 & ChIPseq\\_TF & YY1 & 1\\\\\n",
       "\t chr10\\_100285974\\_100287341 & ChIPseq\\_TF & YY1 & 2\\\\\n",
       "\t chr10\\_100346328\\_100347693 & ChIPseq\\_TF & YY1 & 1\\\\\n",
       "\\end{tabular}\n"
      ],
      "text/markdown": [
       "\n",
       "A tibble: 6 × 4\n",
       "\n",
       "| Peak &lt;chr&gt; | Annotation &lt;chr&gt; | Label &lt;chr&gt; | Count &lt;dbl&gt; |\n",
       "|---|---|---|---|\n",
       "| chr10_100009096_100010466 | ChIPseq_TF | YY1 | 1 |\n",
       "| chr10_100185017_100187275 | ChIPseq_TF | YY1 | 1 |\n",
       "| chr10_100228452_100230090 | ChIPseq_TF | YY1 | 1 |\n",
       "| chr10_100267066_100268374 | ChIPseq_TF | YY1 | 1 |\n",
       "| chr10_100285974_100287341 | ChIPseq_TF | YY1 | 2 |\n",
       "| chr10_100346328_100347693 | ChIPseq_TF | YY1 | 1 |\n",
       "\n"
      ],
      "text/plain": [
       "  Peak                      Annotation Label Count\n",
       "1 chr10_100009096_100010466 ChIPseq_TF YY1   1    \n",
       "2 chr10_100185017_100187275 ChIPseq_TF YY1   1    \n",
       "3 chr10_100228452_100230090 ChIPseq_TF YY1   1    \n",
       "4 chr10_100267066_100268374 ChIPseq_TF YY1   1    \n",
       "5 chr10_100285974_100287341 ChIPseq_TF YY1   2    \n",
       "6 chr10_100346328_100347693 ChIPseq_TF YY1   1    "
      ]
     },
     "metadata": {},
     "output_type": "display_data"
    }
   ],
   "source": [
    "fdiry = file.path(FD_RES, \"results\", \"region\", \"KS91_K562_ASTARRseq_peak_macs_input\", \"summary\")\n",
    "fname = \"peak.summary.chipseq_tf_subset.tsv\"\n",
    "fpath = file.path(fdiry, fname)\n",
    "\n",
    "dat = read_tsv(fpath, show_col_types = FALSE)\n",
    "\n",
    "dat_peak_annot_chipseq_tf_subset = dat\n",
    "print(dim(dat))\n",
    "head(dat)"
   ]
  },
  {
   "cell_type": "markdown",
   "metadata": {},
   "source": [
    "## Prepare score and annotation set for enrichment analysis"
   ]
  },
  {
   "cell_type": "code",
   "execution_count": 7,
   "metadata": {},
   "outputs": [
    {
     "name": "stdout",
     "output_type": "stream",
     "text": [
      "[1] 16\n",
      " [1] \"ATF1\"   \"CTCF\"   \"ELK1\"   \"EP300\"  \"GATA1\"  \"JUN\"    \"KLF10\"  \"KLF16\" \n",
      " [9] \"NFE2\"   \"NRF1\"   \"POLR2A\" \"REST\"   \"SP1\"    \"TAL1\"   \"YY1\"    \"ZEB2\"  \n",
      "\n",
      "\n",
      "ATF1 24776 \n",
      "[1] \"chr10_100009096_100010466\" \"chr10_100185017_100187275\"\n",
      "[3] \"chr10_100228452_100230090\" \"chr10_100267066_100268374\"\n",
      "[5] \"chr10_100285974_100287341\" \"chr10_100346328_100347693\"\n",
      "\n",
      "\n",
      "CTCF 37780 \n",
      "[1] \"chr10_100009096_100010466\" \"chr10_100045961_100046653\"\n",
      "[3] \"chr10_100228452_100230090\" \"chr10_100240591_100241246\"\n",
      "[5] \"chr10_100285974_100287341\" \"chr10_100338359_100339077\"\n",
      "\n",
      "\n",
      "ELK1 3149 \n",
      "[1] \"chr10_100228452_100230090\" \"chr10_100535377_100536237\"\n",
      "[3] \"chr10_100986723_100987807\" \"chr10_101782256_101784101\"\n",
      "[5] \"chr10_102132343_102134065\" \"chr10_103395147_103397089\"\n",
      "\n",
      "\n",
      "EP300 22333 \n",
      "[1] \"chr10_100185017_100187275\" \"chr10_100358645_100359733\"\n",
      "[3] \"chr10_100370571_100371646\" \"chr10_100373060_100374238\"\n",
      "[5] \"chr10_100535377_100536237\" \"chr10_100630761_100631892\"\n",
      "\n",
      "\n",
      "GATA1 11815 \n",
      "[1] \"chr10_100289686_100290090\" \"chr10_100358645_100359733\"\n",
      "[3] \"chr10_100373060_100374238\" \"chr10_100636566_100638239\"\n",
      "[5] \"chr10_1008874_1009782\"     \"chr10_101011384_101013302\"\n",
      "\n",
      "\n",
      "JUN 16287 \n",
      "[1] \"chr10_100185017_100187275\" \"chr10_100373060_100374238\"\n",
      "[3] \"chr10_100890198_100891165\" \"chr10_100912166_100913618\"\n",
      "[5] \"chr10_101066038_101068076\" \"chr10_101367163_101368342\"\n",
      "\n",
      "\n",
      "KLF10 650 \n",
      "[1] \"chr10_110918359_110920661\" \"chr10_14184978_14186500\"  \n",
      "[3] \"chr10_16890882_16892534\"   \"chr10_22230304_22230897\"  \n",
      "[5] \"chr10_23054800_23056121\"   \"chr10_3890655_3891610\"    \n",
      "\n",
      "\n",
      "KLF16 15344 \n",
      "[1] \"chr10_100185017_100187275\" \"chr10_100267066_100268374\"\n",
      "[3] \"chr10_100358645_100359733\" \"chr10_100373060_100374238\"\n",
      "[5] \"chr10_100636566_100638239\" \"chr10_1008874_1009782\"    \n",
      "\n",
      "\n",
      "NFE2 14986 \n",
      "[1] \"chr10_100285974_100287341\" \"chr10_100871690_100872646\"\n",
      "[3] \"chr10_101141782_101142769\" \"chr10_101575389_101576900\"\n",
      "[5] \"chr10_102057753_102058495\" \"chr10_102132343_102134065\"\n",
      "\n",
      "\n",
      "NRF1 22194 \n",
      "[1] \"chr10_100185017_100187275\" \"chr10_100228452_100230090\"\n",
      "[3] \"chr10_100267066_100268374\" \"chr10_100285974_100287341\"\n",
      "[5] \"chr10_100346328_100347693\" \"chr10_100364513_100365906\"\n",
      "\n",
      "\n",
      "POLR2A 17945 \n",
      "[1] \"chr10_100185017_100187275\" \"chr10_100228452_100230090\"\n",
      "[3] \"chr10_100267066_100268374\" \"chr10_100285974_100287341\"\n",
      "[5] \"chr10_100346328_100347693\" \"chr10_100358645_100359733\"\n",
      "\n",
      "\n",
      "REST 14306 \n",
      "[1] \"chr10_100148233_100149794\" \"chr10_100267066_100268374\"\n",
      "[3] \"chr10_100325166_100325596\" \"chr10_100370571_100371646\"\n",
      "[5] \"chr10_100636566_100638239\" \"chr10_100680694_100681343\"\n",
      "\n",
      "\n",
      "SP1 9048 \n",
      "[1] \"chr10_100185017_100187275\" \"chr10_100228452_100230090\"\n",
      "[3] \"chr10_100481467_100483191\" \"chr10_100535377_100536237\"\n",
      "[5] \"chr10_100912166_100913618\" \"chr10_100996476_100998710\"\n",
      "\n",
      "\n",
      "TAL1 22430 \n",
      "[1] \"chr10_100129051_100131059\" \"chr10_100358645_100359733\"\n",
      "[3] \"chr10_100370571_100371646\" \"chr10_100373060_100374238\"\n",
      "[5] \"chr10_100561032_100563457\" \"chr10_100630761_100631892\"\n",
      "\n",
      "\n",
      "YY1 20494 \n",
      "[1] \"chr10_100009096_100010466\" \"chr10_100185017_100187275\"\n",
      "[3] \"chr10_100228452_100230090\" \"chr10_100267066_100268374\"\n",
      "[5] \"chr10_100285974_100287341\" \"chr10_100346328_100347693\"\n",
      "\n",
      "\n",
      "ZEB2 16954 \n",
      "[1] \"chr10_100185017_100187275\" \"chr10_100358645_100359733\"\n",
      "[3] \"chr10_100636566_100638239\" \"chr10_101060309_101063187\"\n",
      "[5] \"chr10_101066038_101068076\" \"chr10_101353538_101354690\"\n",
      "\n",
      "\n"
     ]
    }
   ],
   "source": [
    "dat = dat_peak_annot_chipseq_tf_subset\n",
    "lst = split(dat$Peak, dat$Label)\n",
    "lst_annot = lst\n",
    "\n",
    "print(length(lst))\n",
    "print(names(lst))\n",
    "cat(\"\\n\\n\")\n",
    "\n",
    "for (idx in names(lst_annot)){\n",
    "    x = lst_annot[[idx]]\n",
    "    cat(idx, length(x), \"\\n\")\n",
    "    print(head(x))\n",
    "    cat(\"\\n\\n\")\n",
    "}"
   ]
  },
  {
   "cell_type": "code",
   "execution_count": null,
   "metadata": {},
   "outputs": [],
   "source": []
  },
  {
   "cell_type": "code",
   "execution_count": null,
   "metadata": {},
   "outputs": [],
   "source": []
  },
  {
   "cell_type": "code",
   "execution_count": null,
   "metadata": {},
   "outputs": [],
   "source": []
  },
  {
   "cell_type": "code",
   "execution_count": 64,
   "metadata": {},
   "outputs": [
    {
     "name": "stdout",
     "output_type": "stream",
     "text": [
      "[1] 1722\n",
      "  chrX_48996933_48997220 chr8_128298518_128298762 chr8_128242220_128242507 \n",
      "             0.002129307              0.009291521              0.039876113 \n",
      " chr11_34024311_34024546 chr8_128189792_128190210  chr20_56703281_56703575 \n",
      "             0.040456833              0.041231127              0.048199768 \n"
     ]
    }
   ],
   "source": [
    "dat = dat_peak_score_starrmpra_crispr\n",
    "vec = dat %>%\n",
    "    dplyr::select(Peak, RankNorm) %>%\n",
    "    tibble::deframe()\n",
    "\n",
    "vec_score = vec\n",
    "print(length(vec))\n",
    "print(head(vec))"
   ]
  },
  {
   "cell_type": "code",
   "execution_count": 65,
   "metadata": {},
   "outputs": [
    {
     "name": "stderr",
     "output_type": "stream",
     "text": [
      "Warning message in preparePathwaysAndStats(pathways, stats, minSize, maxSize, gseaParam, :\n",
      "“There are ties in the preranked stats (13.94% of the list).\n",
      "The order of those tied genes will be arbitrary, which may produce unexpected results.”\n"
     ]
    },
    {
     "name": "stdout",
     "output_type": "stream",
     "text": [
      "[1] \"data.table\" \"data.frame\"\n"
     ]
    }
   ],
   "source": [
    "set.seed(123)\n",
    "fgseaRes = fgsea(\n",
    "    pathways  = lst_annot, \n",
    "    stats     = vec_score,\n",
    "    eps       = 0.0,\n",
    "    scoreType = \"pos\"\n",
    "    #minSize   = 15,\n",
    "    #maxSize   = 500\n",
    ")\n",
    "\n",
    "print(class(fgseaRes))"
   ]
  },
  {
   "cell_type": "code",
   "execution_count": 66,
   "metadata": {},
   "outputs": [
    {
     "name": "stdout",
     "output_type": "stream",
     "text": [
      "[1] 16  8\n"
     ]
    },
    {
     "data": {
      "text/html": [
       "<table class=\"dataframe\">\n",
       "<caption>A data.table: 16 × 8</caption>\n",
       "<thead>\n",
       "\t<tr><th scope=col>pathway</th><th scope=col>pval</th><th scope=col>padj</th><th scope=col>log2err</th><th scope=col>ES</th><th scope=col>NES</th><th scope=col>size</th><th scope=col>nlogP</th></tr>\n",
       "\t<tr><th scope=col>&lt;fct&gt;</th><th scope=col>&lt;dbl&gt;</th><th scope=col>&lt;dbl&gt;</th><th scope=col>&lt;dbl&gt;</th><th scope=col>&lt;dbl&gt;</th><th scope=col>&lt;dbl&gt;</th><th scope=col>&lt;int&gt;</th><th scope=col>&lt;dbl&gt;</th></tr>\n",
       "</thead>\n",
       "<tbody>\n",
       "\t<tr><td>KLF10 </td><td>8.593886e-03</td><td>8.593886e-03</td><td>0.3807304</td><td>0.6597818</td><td>1.985779</td><td>  7</td><td> 2.06581</td></tr>\n",
       "\t<tr><td>GATA1 </td><td>1.435912e-11</td><td>1.531640e-11</td><td>0.8753251</td><td>0.5081333</td><td>2.383818</td><td> 91</td><td>10.81484</td></tr>\n",
       "\t<tr><td>CTCF  </td><td>9.185462e-12</td><td>1.049767e-11</td><td>0.8753251</td><td>0.3905116</td><td>1.979741</td><td>271</td><td>10.97891</td></tr>\n",
       "\t<tr><td>NFE2  </td><td>5.764962e-12</td><td>7.095337e-12</td><td>0.8870750</td><td>0.5014436</td><td>2.383751</td><td>102</td><td>11.14903</td></tr>\n",
       "\t<tr><td>ELK1  </td><td>3.793546e-12</td><td>5.058062e-12</td><td>0.8870750</td><td>0.7584162</td><td>2.957699</td><td> 25</td><td>11.29602</td></tr>\n",
       "\t<tr><td>TAL1  </td><td>2.997079e-17</td><td>4.359388e-17</td><td>1.0672100</td><td>0.4888229</td><td>2.429244</td><td>180</td><td>16.36057</td></tr>\n",
       "\t<tr><td>KLF16 </td><td>4.156036e-18</td><td>6.649658e-18</td><td>1.0959293</td><td>0.5360293</td><td>2.589325</td><td>126</td><td>17.17720</td></tr>\n",
       "\t<tr><td>SP1   </td><td>3.815552e-21</td><td>6.783204e-21</td><td>1.1866510</td><td>0.6277946</td><td>2.921299</td><td> 88</td><td>20.16857</td></tr>\n",
       "\t<tr><td>ZEB2  </td><td>2.602889e-22</td><td>5.205778e-22</td><td>1.2210538</td><td>0.5651548</td><td>2.758134</td><td>139</td><td>21.28351</td></tr>\n",
       "\t<tr><td>EP300 </td><td>6.240359e-25</td><td>1.426368e-24</td><td>1.2951231</td><td>0.5459321</td><td>2.713053</td><td>180</td><td>23.84577</td></tr>\n",
       "\t<tr><td>REST  </td><td>2.965586e-27</td><td>7.908228e-27</td><td>1.3575741</td><td>0.6239842</td><td>3.005394</td><td>122</td><td>26.10192</td></tr>\n",
       "\t<tr><td>POLR2A</td><td>5.076010e-30</td><td>1.624323e-29</td><td>1.4245627</td><td>0.5656258</td><td>2.818339</td><td>189</td><td>28.78933</td></tr>\n",
       "\t<tr><td>JUN   </td><td>9.115371e-31</td><td>3.646148e-30</td><td>1.4390257</td><td>0.6326046</td><td>3.084295</td><td>138</td><td>29.43817</td></tr>\n",
       "\t<tr><td>NRF1  </td><td>4.159709e-35</td><td>2.218511e-34</td><td>1.5431831</td><td>0.5912133</td><td>2.953888</td><td>200</td><td>33.65394</td></tr>\n",
       "\t<tr><td>YY1   </td><td>1.928833e-46</td><td>1.543066e-45</td><td>1.7741500</td><td>0.6674941</td><td>3.312338</td><td>174</td><td>44.81162</td></tr>\n",
       "\t<tr><td>ATF1  </td><td>4.590519e-50</td><td>7.344831e-49</td><td>1.8428520</td><td>0.6429850</td><td>3.224093</td><td>216</td><td>48.13402</td></tr>\n",
       "</tbody>\n",
       "</table>\n"
      ],
      "text/latex": [
       "A data.table: 16 × 8\n",
       "\\begin{tabular}{llllllll}\n",
       " pathway & pval & padj & log2err & ES & NES & size & nlogP\\\\\n",
       " <fct> & <dbl> & <dbl> & <dbl> & <dbl> & <dbl> & <int> & <dbl>\\\\\n",
       "\\hline\n",
       "\t KLF10  & 8.593886e-03 & 8.593886e-03 & 0.3807304 & 0.6597818 & 1.985779 &   7 &  2.06581\\\\\n",
       "\t GATA1  & 1.435912e-11 & 1.531640e-11 & 0.8753251 & 0.5081333 & 2.383818 &  91 & 10.81484\\\\\n",
       "\t CTCF   & 9.185462e-12 & 1.049767e-11 & 0.8753251 & 0.3905116 & 1.979741 & 271 & 10.97891\\\\\n",
       "\t NFE2   & 5.764962e-12 & 7.095337e-12 & 0.8870750 & 0.5014436 & 2.383751 & 102 & 11.14903\\\\\n",
       "\t ELK1   & 3.793546e-12 & 5.058062e-12 & 0.8870750 & 0.7584162 & 2.957699 &  25 & 11.29602\\\\\n",
       "\t TAL1   & 2.997079e-17 & 4.359388e-17 & 1.0672100 & 0.4888229 & 2.429244 & 180 & 16.36057\\\\\n",
       "\t KLF16  & 4.156036e-18 & 6.649658e-18 & 1.0959293 & 0.5360293 & 2.589325 & 126 & 17.17720\\\\\n",
       "\t SP1    & 3.815552e-21 & 6.783204e-21 & 1.1866510 & 0.6277946 & 2.921299 &  88 & 20.16857\\\\\n",
       "\t ZEB2   & 2.602889e-22 & 5.205778e-22 & 1.2210538 & 0.5651548 & 2.758134 & 139 & 21.28351\\\\\n",
       "\t EP300  & 6.240359e-25 & 1.426368e-24 & 1.2951231 & 0.5459321 & 2.713053 & 180 & 23.84577\\\\\n",
       "\t REST   & 2.965586e-27 & 7.908228e-27 & 1.3575741 & 0.6239842 & 3.005394 & 122 & 26.10192\\\\\n",
       "\t POLR2A & 5.076010e-30 & 1.624323e-29 & 1.4245627 & 0.5656258 & 2.818339 & 189 & 28.78933\\\\\n",
       "\t JUN    & 9.115371e-31 & 3.646148e-30 & 1.4390257 & 0.6326046 & 3.084295 & 138 & 29.43817\\\\\n",
       "\t NRF1   & 4.159709e-35 & 2.218511e-34 & 1.5431831 & 0.5912133 & 2.953888 & 200 & 33.65394\\\\\n",
       "\t YY1    & 1.928833e-46 & 1.543066e-45 & 1.7741500 & 0.6674941 & 3.312338 & 174 & 44.81162\\\\\n",
       "\t ATF1   & 4.590519e-50 & 7.344831e-49 & 1.8428520 & 0.6429850 & 3.224093 & 216 & 48.13402\\\\\n",
       "\\end{tabular}\n"
      ],
      "text/markdown": [
       "\n",
       "A data.table: 16 × 8\n",
       "\n",
       "| pathway &lt;fct&gt; | pval &lt;dbl&gt; | padj &lt;dbl&gt; | log2err &lt;dbl&gt; | ES &lt;dbl&gt; | NES &lt;dbl&gt; | size &lt;int&gt; | nlogP &lt;dbl&gt; |\n",
       "|---|---|---|---|---|---|---|---|\n",
       "| KLF10  | 8.593886e-03 | 8.593886e-03 | 0.3807304 | 0.6597818 | 1.985779 |   7 |  2.06581 |\n",
       "| GATA1  | 1.435912e-11 | 1.531640e-11 | 0.8753251 | 0.5081333 | 2.383818 |  91 | 10.81484 |\n",
       "| CTCF   | 9.185462e-12 | 1.049767e-11 | 0.8753251 | 0.3905116 | 1.979741 | 271 | 10.97891 |\n",
       "| NFE2   | 5.764962e-12 | 7.095337e-12 | 0.8870750 | 0.5014436 | 2.383751 | 102 | 11.14903 |\n",
       "| ELK1   | 3.793546e-12 | 5.058062e-12 | 0.8870750 | 0.7584162 | 2.957699 |  25 | 11.29602 |\n",
       "| TAL1   | 2.997079e-17 | 4.359388e-17 | 1.0672100 | 0.4888229 | 2.429244 | 180 | 16.36057 |\n",
       "| KLF16  | 4.156036e-18 | 6.649658e-18 | 1.0959293 | 0.5360293 | 2.589325 | 126 | 17.17720 |\n",
       "| SP1    | 3.815552e-21 | 6.783204e-21 | 1.1866510 | 0.6277946 | 2.921299 |  88 | 20.16857 |\n",
       "| ZEB2   | 2.602889e-22 | 5.205778e-22 | 1.2210538 | 0.5651548 | 2.758134 | 139 | 21.28351 |\n",
       "| EP300  | 6.240359e-25 | 1.426368e-24 | 1.2951231 | 0.5459321 | 2.713053 | 180 | 23.84577 |\n",
       "| REST   | 2.965586e-27 | 7.908228e-27 | 1.3575741 | 0.6239842 | 3.005394 | 122 | 26.10192 |\n",
       "| POLR2A | 5.076010e-30 | 1.624323e-29 | 1.4245627 | 0.5656258 | 2.818339 | 189 | 28.78933 |\n",
       "| JUN    | 9.115371e-31 | 3.646148e-30 | 1.4390257 | 0.6326046 | 3.084295 | 138 | 29.43817 |\n",
       "| NRF1   | 4.159709e-35 | 2.218511e-34 | 1.5431831 | 0.5912133 | 2.953888 | 200 | 33.65394 |\n",
       "| YY1    | 1.928833e-46 | 1.543066e-45 | 1.7741500 | 0.6674941 | 3.312338 | 174 | 44.81162 |\n",
       "| ATF1   | 4.590519e-50 | 7.344831e-49 | 1.8428520 | 0.6429850 | 3.224093 | 216 | 48.13402 |\n",
       "\n"
      ],
      "text/plain": [
       "   pathway pval         padj         log2err   ES        NES      size nlogP   \n",
       "1  KLF10   8.593886e-03 8.593886e-03 0.3807304 0.6597818 1.985779   7   2.06581\n",
       "2  GATA1   1.435912e-11 1.531640e-11 0.8753251 0.5081333 2.383818  91  10.81484\n",
       "3  CTCF    9.185462e-12 1.049767e-11 0.8753251 0.3905116 1.979741 271  10.97891\n",
       "4  NFE2    5.764962e-12 7.095337e-12 0.8870750 0.5014436 2.383751 102  11.14903\n",
       "5  ELK1    3.793546e-12 5.058062e-12 0.8870750 0.7584162 2.957699  25  11.29602\n",
       "6  TAL1    2.997079e-17 4.359388e-17 1.0672100 0.4888229 2.429244 180  16.36057\n",
       "7  KLF16   4.156036e-18 6.649658e-18 1.0959293 0.5360293 2.589325 126  17.17720\n",
       "8  SP1     3.815552e-21 6.783204e-21 1.1866510 0.6277946 2.921299  88  20.16857\n",
       "9  ZEB2    2.602889e-22 5.205778e-22 1.2210538 0.5651548 2.758134 139  21.28351\n",
       "10 EP300   6.240359e-25 1.426368e-24 1.2951231 0.5459321 2.713053 180  23.84577\n",
       "11 REST    2.965586e-27 7.908228e-27 1.3575741 0.6239842 3.005394 122  26.10192\n",
       "12 POLR2A  5.076010e-30 1.624323e-29 1.4245627 0.5656258 2.818339 189  28.78933\n",
       "13 JUN     9.115371e-31 3.646148e-30 1.4390257 0.6326046 3.084295 138  29.43817\n",
       "14 NRF1    4.159709e-35 2.218511e-34 1.5431831 0.5912133 2.953888 200  33.65394\n",
       "15 YY1     1.928833e-46 1.543066e-45 1.7741500 0.6674941 3.312338 174  44.81162\n",
       "16 ATF1    4.590519e-50 7.344831e-49 1.8428520 0.6429850 3.224093 216  48.13402"
      ]
     },
     "metadata": {},
     "output_type": "display_data"
    }
   ],
   "source": [
    "dat = fgseaRes\n",
    "dat = dat %>% \n",
    "    dplyr::select(pathway, pval, padj, log2err, ES, NES, size) %>%\n",
    "    dplyr::mutate(nlogP = -log10(padj)) %>%\n",
    "    dplyr::arrange(nlogP) %>%\n",
    "    dplyr::mutate(pathway = factor(pathway, levels=pathway))\n",
    "    \n",
    "dat_fgsea_merge_overall = dat\n",
    "print(dim(dat))\n",
    "dat"
   ]
  },
  {
   "cell_type": "code",
   "execution_count": 69,
   "metadata": {},
   "outputs": [
    {
     "name": "stdout",
     "output_type": "stream",
     "text": [
      "KLF10 GATA1 CTCF NFE2 ELK1 TAL1 KLF16 SP1 ZEB2 EP300 REST POLR2A JUN NRF1 YY1 ATF1"
     ]
    }
   ],
   "source": [
    "dat = dat_fgsea_merge_overall\n",
    "cat(as.character(dat$pathway))"
   ]
  },
  {
   "cell_type": "code",
   "execution_count": 11,
   "metadata": {},
   "outputs": [
    {
     "data": {
      "image/png": "[encoded data removed]",
      "text/plain": [
       "plot without title"
      ]
     },
     "metadata": {
      "image/png": {
       "height": 420,
       "width": 360
      }
     },
     "output_type": "display_data"
    }
   ],
   "source": [
    "theme_text = theme(\n",
    "        axis.text.x = element_text(size=15),\n",
    "        axis.text.y = element_text(size=15)\n",
    ")\n",
    "\n",
    "theme_grid = theme(\n",
    "    panel.grid.major.x = element_line(\n",
    "        color     = \"grey90\",\n",
    "        linewidth = 0.5,\n",
    "        linetype  = 1),\n",
    "    panel.grid.major.y = element_line(\n",
    "        color     = \"grey90\",\n",
    "        linewidth = 0.5,\n",
    "        linetype  = 1),\n",
    "    panel.grid.minor.y = element_line(\n",
    "        color     = \"grey90\",\n",
    "        linewidth = 0.5,\n",
    "        linetype  = 1)\n",
    ")\n",
    "\n",
    "dat = dat_fgsea_merge_overall\n",
    "gpt = ggplot(dat, aes(x = nlogP, y=pathway, size=size)) + \n",
    "    geom_point() + \n",
    "    scale_size(range = c(3, 10)) +\n",
    "    labs(x = \"nLog10P\", y = \"\") +\n",
    "    theme_cowplot() +\n",
    "    theme_grid  +\n",
    "    theme_text\n",
    "\n",
    "options(repr.plot.height=7, repr.plot.width=6)\n",
    "print(gpt)"
   ]
  },
  {
   "cell_type": "code",
   "execution_count": null,
   "metadata": {},
   "outputs": [],
   "source": []
  },
  {
   "cell_type": "code",
   "execution_count": null,
   "metadata": {},
   "outputs": [],
   "source": []
  },
  {
   "cell_type": "code",
   "execution_count": null,
   "metadata": {},
   "outputs": [],
   "source": []
  },
  {
   "cell_type": "code",
   "execution_count": 12,
   "metadata": {},
   "outputs": [
    {
     "name": "stdout",
     "output_type": "stream",
     "text": [
      "[1] \"ASTARR\" \"TMPRA\"  \"WSTARR\"\n",
      "[1] 1722\n",
      "[1] 1722\n",
      "[1] 1722\n"
     ]
    }
   ],
   "source": [
    "dat = dat_peak_ranknorm_starrmpra\n",
    "vec = dat %>%\n",
    "    dplyr::select(Peak, Log2FC) %>%\n",
    "    tibble::deframe()\n",
    "lst = split(vec, dat$Assay)\n",
    "\n",
    "lst_score = lst\n",
    "print(names(lst))\n",
    "for (x in lst){print(length(x))}"
   ]
  },
  {
   "cell_type": "code",
   "execution_count": 13,
   "metadata": {},
   "outputs": [
    {
     "name": "stdout",
     "output_type": "stream",
     "text": [
      "[1] 48  9\n"
     ]
    },
    {
     "data": {
      "text/html": [
       "<table class=\"dataframe\">\n",
       "<caption>A data.table: 6 × 9</caption>\n",
       "<thead>\n",
       "\t<tr><th scope=col>Assay</th><th scope=col>pathway</th><th scope=col>pval</th><th scope=col>padj</th><th scope=col>log2err</th><th scope=col>ES</th><th scope=col>NES</th><th scope=col>size</th><th scope=col>nlogP</th></tr>\n",
       "\t<tr><th scope=col>&lt;chr&gt;</th><th scope=col>&lt;chr&gt;</th><th scope=col>&lt;dbl&gt;</th><th scope=col>&lt;dbl&gt;</th><th scope=col>&lt;dbl&gt;</th><th scope=col>&lt;dbl&gt;</th><th scope=col>&lt;dbl&gt;</th><th scope=col>&lt;int&gt;</th><th scope=col>&lt;dbl&gt;</th></tr>\n",
       "</thead>\n",
       "<tbody>\n",
       "\t<tr><td>ASTARR</td><td>ATF1 </td><td>3.278332e-23</td><td>1.748444e-22</td><td>1.2462328</td><td>0.5911294</td><td>3.018372</td><td>216</td><td>21.75735</td></tr>\n",
       "\t<tr><td>ASTARR</td><td>CTCF </td><td>2.697303e-02</td><td>2.697303e-02</td><td>0.2765006</td><td>0.2715019</td><td>1.394351</td><td>271</td><td> 1.56907</td></tr>\n",
       "\t<tr><td>ASTARR</td><td>ELK1 </td><td>7.952867e-05</td><td>9.788144e-05</td><td>0.5384341</td><td>0.6610732</td><td>2.896497</td><td> 25</td><td> 4.00930</td></tr>\n",
       "\t<tr><td>ASTARR</td><td>EP300</td><td>1.209044e-32</td><td>1.934470e-31</td><td>1.4885397</td><td>0.6883717</td><td>3.506324</td><td>180</td><td>30.71344</td></tr>\n",
       "\t<tr><td>ASTARR</td><td>GATA1</td><td>6.148049e-20</td><td>1.229610e-19</td><td>1.1512205</td><td>0.7178292</td><td>3.559978</td><td> 91</td><td>18.91023</td></tr>\n",
       "\t<tr><td>ASTARR</td><td>JUN  </td><td>3.159799e-25</td><td>2.527839e-24</td><td>1.3030932</td><td>0.6884064</td><td>3.464199</td><td>138</td><td>23.59725</td></tr>\n",
       "</tbody>\n",
       "</table>\n"
      ],
      "text/latex": [
       "A data.table: 6 × 9\n",
       "\\begin{tabular}{lllllllll}\n",
       " Assay & pathway & pval & padj & log2err & ES & NES & size & nlogP\\\\\n",
       " <chr> & <chr> & <dbl> & <dbl> & <dbl> & <dbl> & <dbl> & <int> & <dbl>\\\\\n",
       "\\hline\n",
       "\t ASTARR & ATF1  & 3.278332e-23 & 1.748444e-22 & 1.2462328 & 0.5911294 & 3.018372 & 216 & 21.75735\\\\\n",
       "\t ASTARR & CTCF  & 2.697303e-02 & 2.697303e-02 & 0.2765006 & 0.2715019 & 1.394351 & 271 &  1.56907\\\\\n",
       "\t ASTARR & ELK1  & 7.952867e-05 & 9.788144e-05 & 0.5384341 & 0.6610732 & 2.896497 &  25 &  4.00930\\\\\n",
       "\t ASTARR & EP300 & 1.209044e-32 & 1.934470e-31 & 1.4885397 & 0.6883717 & 3.506324 & 180 & 30.71344\\\\\n",
       "\t ASTARR & GATA1 & 6.148049e-20 & 1.229610e-19 & 1.1512205 & 0.7178292 & 3.559978 &  91 & 18.91023\\\\\n",
       "\t ASTARR & JUN   & 3.159799e-25 & 2.527839e-24 & 1.3030932 & 0.6884064 & 3.464199 & 138 & 23.59725\\\\\n",
       "\\end{tabular}\n"
      ],
      "text/markdown": [
       "\n",
       "A data.table: 6 × 9\n",
       "\n",
       "| Assay &lt;chr&gt; | pathway &lt;chr&gt; | pval &lt;dbl&gt; | padj &lt;dbl&gt; | log2err &lt;dbl&gt; | ES &lt;dbl&gt; | NES &lt;dbl&gt; | size &lt;int&gt; | nlogP &lt;dbl&gt; |\n",
       "|---|---|---|---|---|---|---|---|---|\n",
       "| ASTARR | ATF1  | 3.278332e-23 | 1.748444e-22 | 1.2462328 | 0.5911294 | 3.018372 | 216 | 21.75735 |\n",
       "| ASTARR | CTCF  | 2.697303e-02 | 2.697303e-02 | 0.2765006 | 0.2715019 | 1.394351 | 271 |  1.56907 |\n",
       "| ASTARR | ELK1  | 7.952867e-05 | 9.788144e-05 | 0.5384341 | 0.6610732 | 2.896497 |  25 |  4.00930 |\n",
       "| ASTARR | EP300 | 1.209044e-32 | 1.934470e-31 | 1.4885397 | 0.6883717 | 3.506324 | 180 | 30.71344 |\n",
       "| ASTARR | GATA1 | 6.148049e-20 | 1.229610e-19 | 1.1512205 | 0.7178292 | 3.559978 |  91 | 18.91023 |\n",
       "| ASTARR | JUN   | 3.159799e-25 | 2.527839e-24 | 1.3030932 | 0.6884064 | 3.464199 | 138 | 23.59725 |\n",
       "\n"
      ],
      "text/plain": [
       "  Assay  pathway pval         padj         log2err   ES        NES      size\n",
       "1 ASTARR ATF1    3.278332e-23 1.748444e-22 1.2462328 0.5911294 3.018372 216 \n",
       "2 ASTARR CTCF    2.697303e-02 2.697303e-02 0.2765006 0.2715019 1.394351 271 \n",
       "3 ASTARR ELK1    7.952867e-05 9.788144e-05 0.5384341 0.6610732 2.896497  25 \n",
       "4 ASTARR EP300   1.209044e-32 1.934470e-31 1.4885397 0.6883717 3.506324 180 \n",
       "5 ASTARR GATA1   6.148049e-20 1.229610e-19 1.1512205 0.7178292 3.559978  91 \n",
       "6 ASTARR JUN     3.159799e-25 2.527839e-24 1.3030932 0.6884064 3.464199 138 \n",
       "  nlogP   \n",
       "1 21.75735\n",
       "2  1.56907\n",
       "3  4.00930\n",
       "4 30.71344\n",
       "5 18.91023\n",
       "6 23.59725"
      ]
     },
     "metadata": {},
     "output_type": "display_data"
    }
   ],
   "source": [
    "lst = lapply(lst_score, function(vec_score){\n",
    "    set.seed(123)\n",
    "    res = fgsea(\n",
    "        pathways  = lst_annot, \n",
    "        stats     = vec_score,\n",
    "        eps       = 0.0,\n",
    "        scoreType = \"pos\"\n",
    "        #minSize   = 15,\n",
    "        #maxSize   = 500\n",
    "    )\n",
    "})\n",
    "\n",
    "dat = bind_rows(lst, .id = \"Assay\")\n",
    "dat = dat %>% \n",
    "    dplyr::select(Assay, pathway, pval, padj, log2err, ES, NES, size) %>%\n",
    "    dplyr::mutate(nlogP = -log10(padj))\n",
    "    \n",
    "dat_fgsea_merge_assay = dat\n",
    "print(dim(dat))\n",
    "head(dat)"
   ]
  },
  {
   "cell_type": "code",
   "execution_count": 14,
   "metadata": {},
   "outputs": [
    {
     "data": {
      "image/png": "[encoded data removed]",
      "text/plain": [
       "plot without title"
      ]
     },
     "metadata": {
      "image/png": {
       "height": 420,
       "width": 360
      }
     },
     "output_type": "display_data"
    }
   ],
   "source": [
    "theme_fill = scale_fill_gradient(low = \"#fcbba1\", high = \"#cb181d\")\n",
    "\n",
    "dat = dat_fgsea_merge_assay\n",
    "gpt = ggplot(dat, aes(x=Assay, y=pathway, fill=NES)) + \n",
    "    geom_tile() + \n",
    "    theme_cowplot() +\n",
    "    theme_fill\n",
    "print(gpt)"
   ]
  },
  {
   "cell_type": "code",
   "execution_count": 15,
   "metadata": {},
   "outputs": [
    {
     "data": {
      "image/png": "[encoded data removed]",
      "text/plain": [
       "plot without title"
      ]
     },
     "metadata": {
      "image/png": {
       "height": 420,
       "width": 360
      }
     },
     "output_type": "display_data"
    }
   ],
   "source": [
    "theme_fill = scale_fill_gradient(low = \"grey90\", high = \"grey10\")\n",
    "\n",
    "dat = dat_fgsea_merge_assay\n",
    "gpt = ggplot(dat, aes(x=Assay, y=pathway, fill=nlogP)) + \n",
    "    geom_tile() + \n",
    "    theme_cowplot() +\n",
    "    theme_fill\n",
    "print(gpt)"
   ]
  },
  {
   "cell_type": "code",
   "execution_count": null,
   "metadata": {},
   "outputs": [],
   "source": []
  },
  {
   "cell_type": "code",
   "execution_count": null,
   "metadata": {},
   "outputs": [],
   "source": []
  },
  {
   "cell_type": "code",
   "execution_count": 17,
   "metadata": {},
   "outputs": [
    {
     "name": "stdout",
     "output_type": "stream",
     "text": [
      "ASTARR 246850 \n",
      "chr1_100006256_100006880 chr1_100010437_100010915   chr1_10002087_10003910 \n",
      "             -0.01311792              -0.80687947              -0.34892859 \n",
      "chr1_100021298_100021629 chr1_100023727_100023976 chr1_100027983_100029702 \n",
      "             -1.03799571              -0.19100207              -0.18001582 \n",
      "\n",
      "TMPRA 1722 \n",
      "chr11_61792068_61793464 chr11_61800085_61801113 chr11_61806630_61807154 \n",
      "              1.6665654               1.8554038              -1.3562271 \n",
      "chr11_61814735_61817343 chr11_61822094_61822443 chr11_61825795_61826306 \n",
      "              2.5310145              -1.7731459              -0.3921375 \n",
      "\n",
      "WSTARR 246688 \n",
      "chr1_100006256_100006880 chr1_100010437_100010915   chr1_10002087_10003910 \n",
      "             -0.48849764              -0.30895395              -0.38624192 \n",
      "chr1_100021298_100021629 chr1_100023727_100023976 chr1_100027983_100029702 \n",
      "             -0.59404974               0.04988694              -0.22927538 \n",
      "\n"
     ]
    }
   ],
   "source": [
    "dat = dat = dat_peak_deseq_starrmpra\n",
    "vec = dat %>%\n",
    "    dplyr::select(Peak, log2FoldChange) %>%\n",
    "    tibble::deframe()\n",
    "lst = split(vec, dat$Assay)\n",
    "\n",
    "lst_score = lst\n",
    "\n",
    "for (idx in names(lst)){\n",
    "    vec = lst[[idx]]    \n",
    "    cat(idx, length(vec), \"\\n\")\n",
    "    print(head(vec))\n",
    "    cat(\"\\n\")\n",
    "}"
   ]
  },
  {
   "cell_type": "code",
   "execution_count": 19,
   "metadata": {},
   "outputs": [
    {
     "name": "stdout",
     "output_type": "stream",
     "text": [
      "ATF1 \n",
      "ASTARR 24776 / 24776 \n",
      "TMPRA 216 / 24776 \n",
      "WSTARR 24773 / 24776 \n",
      "\n",
      "CTCF \n",
      "ASTARR 37780 / 37780 \n",
      "TMPRA 271 / 37780 \n",
      "WSTARR 37776 / 37780 \n",
      "\n",
      "ELK1 \n",
      "ASTARR 3149 / 3149 \n",
      "TMPRA 25 / 3149 \n",
      "WSTARR 3149 / 3149 \n",
      "\n",
      "EP300 \n",
      "ASTARR 22333 / 22333 \n",
      "TMPRA 180 / 22333 \n",
      "WSTARR 22332 / 22333 \n",
      "\n",
      "GATA1 \n",
      "ASTARR 11815 / 11815 \n",
      "TMPRA 91 / 11815 \n",
      "WSTARR 11815 / 11815 \n",
      "\n",
      "JUN \n",
      "ASTARR 16287 / 16287 \n",
      "TMPRA 138 / 16287 \n",
      "WSTARR 16286 / 16287 \n",
      "\n",
      "KLF10 \n",
      "ASTARR 650 / 650 \n",
      "TMPRA 7 / 650 \n",
      "WSTARR 650 / 650 \n",
      "\n",
      "KLF16 \n",
      "ASTARR 15344 / 15344 \n",
      "TMPRA 126 / 15344 \n",
      "WSTARR 15342 / 15344 \n",
      "\n",
      "NFE2 \n",
      "ASTARR 14986 / 14986 \n",
      "TMPRA 102 / 14986 \n",
      "WSTARR 14984 / 14986 \n",
      "\n",
      "NRF1 \n",
      "ASTARR 22194 / 22194 \n",
      "TMPRA 200 / 22194 \n",
      "WSTARR 22193 / 22194 \n",
      "\n",
      "POLR2A \n",
      "ASTARR 17945 / 17945 \n",
      "TMPRA 189 / 17945 \n",
      "WSTARR 17941 / 17945 \n",
      "\n",
      "REST \n",
      "ASTARR 14306 / 14306 \n",
      "TMPRA 122 / 14306 \n",
      "WSTARR 14305 / 14306 \n",
      "\n",
      "SP1 \n",
      "ASTARR 9048 / 9048 \n",
      "TMPRA 88 / 9048 \n",
      "WSTARR 9048 / 9048 \n",
      "\n",
      "TAL1 \n",
      "ASTARR 22430 / 22430 \n",
      "TMPRA 180 / 22430 \n",
      "WSTARR 22428 / 22430 \n",
      "\n",
      "YY1 \n",
      "ASTARR 20494 / 20494 \n",
      "TMPRA 174 / 20494 \n",
      "WSTARR 20494 / 20494 \n",
      "\n",
      "ZEB2 \n",
      "ASTARR 16954 / 16954 \n",
      "TMPRA 139 / 16954 \n",
      "WSTARR 16954 / 16954 \n",
      "\n"
     ]
    }
   ],
   "source": [
    "for (idx1 in names(lst_annot)){\n",
    "    vec_annot = lst_annot[[idx1]]\n",
    "    cat(idx1, \"\\n\")\n",
    "    \n",
    "    for (idx2 in names(lst_score)){\n",
    "        vec_score = names(lst_score[[idx2]])\n",
    "        \n",
    "        vec = intersect(vec_score, vec_annot)\n",
    "        \n",
    "        cat(idx2, length(vec), \"/\", length(vec_annot), \"\\n\")    \n",
    "        \n",
    "        flush.console()\n",
    "    }\n",
    "    \n",
    "    cat(\"\\n\")\n",
    "}"
   ]
  },
  {
   "cell_type": "code",
   "execution_count": 51,
   "metadata": {},
   "outputs": [
    {
     "name": "stdout",
     "output_type": "stream",
     "text": [
      "[1] 246850\n"
     ]
    },
    {
     "data": {
      "text/html": [
       "<style>\n",
       ".dl-inline {width: auto; margin:0; padding: 0}\n",
       ".dl-inline>dt, .dl-inline>dd {float: none; width: auto; display: inline-block}\n",
       ".dl-inline>dt::after {content: \":\\0020\"; padding-right: .5ex}\n",
       ".dl-inline>dt:not(:first-of-type) {padding-left: .5ex}\n",
       "</style><dl class=dl-inline><dt>chr1_100006256_100006880</dt><dd>-0.0131179203340907</dd><dt>chr1_100010437_100010915</dt><dd>-0.806879472725004</dd><dt>chr1_10002087_10003910</dt><dd>-0.348928587626187</dd><dt>chr1_100021298_100021629</dt><dd>-1.03799571082441</dd><dt>chr1_100023727_100023976</dt><dd>-0.191002072419685</dd><dt>chr1_100027983_100029702</dt><dd>-0.180015818547747</dd></dl>\n"
      ],
      "text/latex": [
       "\\begin{description*}\n",
       "\\item[chr1\\textbackslash{}\\_100006256\\textbackslash{}\\_100006880] -0.0131179203340907\n",
       "\\item[chr1\\textbackslash{}\\_100010437\\textbackslash{}\\_100010915] -0.806879472725004\n",
       "\\item[chr1\\textbackslash{}\\_10002087\\textbackslash{}\\_10003910] -0.348928587626187\n",
       "\\item[chr1\\textbackslash{}\\_100021298\\textbackslash{}\\_100021629] -1.03799571082441\n",
       "\\item[chr1\\textbackslash{}\\_100023727\\textbackslash{}\\_100023976] -0.191002072419685\n",
       "\\item[chr1\\textbackslash{}\\_100027983\\textbackslash{}\\_100029702] -0.180015818547747\n",
       "\\end{description*}\n"
      ],
      "text/markdown": [
       "chr1_100006256_100006880\n",
       ":   -0.0131179203340907chr1_100010437_100010915\n",
       ":   -0.806879472725004chr1_10002087_10003910\n",
       ":   -0.348928587626187chr1_100021298_100021629\n",
       ":   -1.03799571082441chr1_100023727_100023976\n",
       ":   -0.191002072419685chr1_100027983_100029702\n",
       ":   -0.180015818547747\n",
       "\n"
      ],
      "text/plain": [
       "chr1_100006256_100006880 chr1_100010437_100010915   chr1_10002087_10003910 \n",
       "             -0.01311792              -0.80687947              -0.34892859 \n",
       "chr1_100021298_100021629 chr1_100023727_100023976 chr1_100027983_100029702 \n",
       "             -1.03799571              -0.19100207              -0.18001582 "
      ]
     },
     "metadata": {},
     "output_type": "display_data"
    }
   ],
   "source": [
    "vec_score = lst_score[[\"ASTARR\"]]\n",
    "print(length(vec_score))\n",
    "head(vec_score)"
   ]
  },
  {
   "cell_type": "code",
   "execution_count": 52,
   "metadata": {},
   "outputs": [
    {
     "name": "stderr",
     "output_type": "stream",
     "text": [
      "Warning message in fgseaMultilevel(pathways = pathways, stats = stats, minSize = minSize, :\n",
      "“For some pathways, in reality P-values are less than 1e-50. You can set the `eps` argument to zero for better estimation.”\n"
     ]
    },
    {
     "data": {
      "text/plain": [
       "    user   system  elapsed \n",
       "4827.925   10.292 1099.361 "
      ]
     },
     "metadata": {},
     "output_type": "display_data"
    }
   ],
   "source": [
    "set.seed(123)\n",
    "system.time(res_astarr <- fgsea(\n",
    "    pathways  = lst_annot, \n",
    "    stats     = vec_score\n",
    "))"
   ]
  },
  {
   "cell_type": "code",
   "execution_count": 53,
   "metadata": {},
   "outputs": [
    {
     "data": {
      "text/html": [
       "<table class=\"dataframe\">\n",
       "<caption>A data.table: 16 × 8</caption>\n",
       "<thead>\n",
       "\t<tr><th scope=col>pathway</th><th scope=col>pval</th><th scope=col>padj</th><th scope=col>log2err</th><th scope=col>ES</th><th scope=col>NES</th><th scope=col>size</th><th scope=col>nlogP</th></tr>\n",
       "\t<tr><th scope=col>&lt;fct&gt;</th><th scope=col>&lt;dbl&gt;</th><th scope=col>&lt;dbl&gt;</th><th scope=col>&lt;dbl&gt;</th><th scope=col>&lt;dbl&gt;</th><th scope=col>&lt;dbl&gt;</th><th scope=col>&lt;int&gt;</th><th scope=col>&lt;dbl&gt;</th></tr>\n",
       "</thead>\n",
       "<tbody>\n",
       "\t<tr><td>CTCF  </td><td>1e-50</td><td>1e-50</td><td>NA</td><td>0.2662526</td><td>1.284943</td><td>37780</td><td>50</td></tr>\n",
       "\t<tr><td>SP1   </td><td>1e-50</td><td>1e-50</td><td>NA</td><td>0.4052435</td><td>1.948436</td><td> 9048</td><td>50</td></tr>\n",
       "\t<tr><td>NRF1  </td><td>1e-50</td><td>1e-50</td><td>NA</td><td>0.4574510</td><td>2.204118</td><td>22194</td><td>50</td></tr>\n",
       "\t<tr><td>POLR2A</td><td>1e-50</td><td>1e-50</td><td>NA</td><td>0.4943616</td><td>2.380848</td><td>17945</td><td>50</td></tr>\n",
       "\t<tr><td>REST  </td><td>1e-50</td><td>1e-50</td><td>NA</td><td>0.5260944</td><td>2.534823</td><td>14306</td><td>50</td></tr>\n",
       "\t<tr><td>YY1   </td><td>1e-50</td><td>1e-50</td><td>NA</td><td>0.5434324</td><td>2.618104</td><td>20494</td><td>50</td></tr>\n",
       "\t<tr><td>KLF16 </td><td>1e-50</td><td>1e-50</td><td>NA</td><td>0.5515343</td><td>2.656555</td><td>15344</td><td>50</td></tr>\n",
       "\t<tr><td>ATF1  </td><td>1e-50</td><td>1e-50</td><td>NA</td><td>0.5637904</td><td>2.717398</td><td>24776</td><td>50</td></tr>\n",
       "\t<tr><td>TAL1  </td><td>1e-50</td><td>1e-50</td><td>NA</td><td>0.5695590</td><td>2.744100</td><td>22430</td><td>50</td></tr>\n",
       "\t<tr><td>ZEB2  </td><td>1e-50</td><td>1e-50</td><td>NA</td><td>0.5921648</td><td>2.851991</td><td>16954</td><td>50</td></tr>\n",
       "\t<tr><td>KLF10 </td><td>1e-50</td><td>1e-50</td><td>NA</td><td>0.6305916</td><td>2.916720</td><td>  650</td><td>50</td></tr>\n",
       "\t<tr><td>GATA1 </td><td>1e-50</td><td>1e-50</td><td>NA</td><td>0.6094213</td><td>2.933674</td><td>11815</td><td>50</td></tr>\n",
       "\t<tr><td>ELK1  </td><td>1e-50</td><td>1e-50</td><td>NA</td><td>0.6448512</td><td>3.074805</td><td> 3149</td><td>50</td></tr>\n",
       "\t<tr><td>NFE2  </td><td>1e-50</td><td>1e-50</td><td>NA</td><td>0.6423746</td><td>3.095414</td><td>14986</td><td>50</td></tr>\n",
       "\t<tr><td>JUN   </td><td>1e-50</td><td>1e-50</td><td>NA</td><td>0.6504075</td><td>3.132148</td><td>16287</td><td>50</td></tr>\n",
       "\t<tr><td>EP300 </td><td>1e-50</td><td>1e-50</td><td>NA</td><td>0.6525838</td><td>3.144052</td><td>22333</td><td>50</td></tr>\n",
       "</tbody>\n",
       "</table>\n"
      ],
      "text/latex": [
       "A data.table: 16 × 8\n",
       "\\begin{tabular}{llllllll}\n",
       " pathway & pval & padj & log2err & ES & NES & size & nlogP\\\\\n",
       " <fct> & <dbl> & <dbl> & <dbl> & <dbl> & <dbl> & <int> & <dbl>\\\\\n",
       "\\hline\n",
       "\t CTCF   & 1e-50 & 1e-50 & NA & 0.2662526 & 1.284943 & 37780 & 50\\\\\n",
       "\t SP1    & 1e-50 & 1e-50 & NA & 0.4052435 & 1.948436 &  9048 & 50\\\\\n",
       "\t NRF1   & 1e-50 & 1e-50 & NA & 0.4574510 & 2.204118 & 22194 & 50\\\\\n",
       "\t POLR2A & 1e-50 & 1e-50 & NA & 0.4943616 & 2.380848 & 17945 & 50\\\\\n",
       "\t REST   & 1e-50 & 1e-50 & NA & 0.5260944 & 2.534823 & 14306 & 50\\\\\n",
       "\t YY1    & 1e-50 & 1e-50 & NA & 0.5434324 & 2.618104 & 20494 & 50\\\\\n",
       "\t KLF16  & 1e-50 & 1e-50 & NA & 0.5515343 & 2.656555 & 15344 & 50\\\\\n",
       "\t ATF1   & 1e-50 & 1e-50 & NA & 0.5637904 & 2.717398 & 24776 & 50\\\\\n",
       "\t TAL1   & 1e-50 & 1e-50 & NA & 0.5695590 & 2.744100 & 22430 & 50\\\\\n",
       "\t ZEB2   & 1e-50 & 1e-50 & NA & 0.5921648 & 2.851991 & 16954 & 50\\\\\n",
       "\t KLF10  & 1e-50 & 1e-50 & NA & 0.6305916 & 2.916720 &   650 & 50\\\\\n",
       "\t GATA1  & 1e-50 & 1e-50 & NA & 0.6094213 & 2.933674 & 11815 & 50\\\\\n",
       "\t ELK1   & 1e-50 & 1e-50 & NA & 0.6448512 & 3.074805 &  3149 & 50\\\\\n",
       "\t NFE2   & 1e-50 & 1e-50 & NA & 0.6423746 & 3.095414 & 14986 & 50\\\\\n",
       "\t JUN    & 1e-50 & 1e-50 & NA & 0.6504075 & 3.132148 & 16287 & 50\\\\\n",
       "\t EP300  & 1e-50 & 1e-50 & NA & 0.6525838 & 3.144052 & 22333 & 50\\\\\n",
       "\\end{tabular}\n"
      ],
      "text/markdown": [
       "\n",
       "A data.table: 16 × 8\n",
       "\n",
       "| pathway &lt;fct&gt; | pval &lt;dbl&gt; | padj &lt;dbl&gt; | log2err &lt;dbl&gt; | ES &lt;dbl&gt; | NES &lt;dbl&gt; | size &lt;int&gt; | nlogP &lt;dbl&gt; |\n",
       "|---|---|---|---|---|---|---|---|\n",
       "| CTCF   | 1e-50 | 1e-50 | NA | 0.2662526 | 1.284943 | 37780 | 50 |\n",
       "| SP1    | 1e-50 | 1e-50 | NA | 0.4052435 | 1.948436 |  9048 | 50 |\n",
       "| NRF1   | 1e-50 | 1e-50 | NA | 0.4574510 | 2.204118 | 22194 | 50 |\n",
       "| POLR2A | 1e-50 | 1e-50 | NA | 0.4943616 | 2.380848 | 17945 | 50 |\n",
       "| REST   | 1e-50 | 1e-50 | NA | 0.5260944 | 2.534823 | 14306 | 50 |\n",
       "| YY1    | 1e-50 | 1e-50 | NA | 0.5434324 | 2.618104 | 20494 | 50 |\n",
       "| KLF16  | 1e-50 | 1e-50 | NA | 0.5515343 | 2.656555 | 15344 | 50 |\n",
       "| ATF1   | 1e-50 | 1e-50 | NA | 0.5637904 | 2.717398 | 24776 | 50 |\n",
       "| TAL1   | 1e-50 | 1e-50 | NA | 0.5695590 | 2.744100 | 22430 | 50 |\n",
       "| ZEB2   | 1e-50 | 1e-50 | NA | 0.5921648 | 2.851991 | 16954 | 50 |\n",
       "| KLF10  | 1e-50 | 1e-50 | NA | 0.6305916 | 2.916720 |   650 | 50 |\n",
       "| GATA1  | 1e-50 | 1e-50 | NA | 0.6094213 | 2.933674 | 11815 | 50 |\n",
       "| ELK1   | 1e-50 | 1e-50 | NA | 0.6448512 | 3.074805 |  3149 | 50 |\n",
       "| NFE2   | 1e-50 | 1e-50 | NA | 0.6423746 | 3.095414 | 14986 | 50 |\n",
       "| JUN    | 1e-50 | 1e-50 | NA | 0.6504075 | 3.132148 | 16287 | 50 |\n",
       "| EP300  | 1e-50 | 1e-50 | NA | 0.6525838 | 3.144052 | 22333 | 50 |\n",
       "\n"
      ],
      "text/plain": [
       "   pathway pval  padj  log2err ES        NES      size  nlogP\n",
       "1  CTCF    1e-50 1e-50 NA      0.2662526 1.284943 37780 50   \n",
       "2  SP1     1e-50 1e-50 NA      0.4052435 1.948436  9048 50   \n",
       "3  NRF1    1e-50 1e-50 NA      0.4574510 2.204118 22194 50   \n",
       "4  POLR2A  1e-50 1e-50 NA      0.4943616 2.380848 17945 50   \n",
       "5  REST    1e-50 1e-50 NA      0.5260944 2.534823 14306 50   \n",
       "6  YY1     1e-50 1e-50 NA      0.5434324 2.618104 20494 50   \n",
       "7  KLF16   1e-50 1e-50 NA      0.5515343 2.656555 15344 50   \n",
       "8  ATF1    1e-50 1e-50 NA      0.5637904 2.717398 24776 50   \n",
       "9  TAL1    1e-50 1e-50 NA      0.5695590 2.744100 22430 50   \n",
       "10 ZEB2    1e-50 1e-50 NA      0.5921648 2.851991 16954 50   \n",
       "11 KLF10   1e-50 1e-50 NA      0.6305916 2.916720   650 50   \n",
       "12 GATA1   1e-50 1e-50 NA      0.6094213 2.933674 11815 50   \n",
       "13 ELK1    1e-50 1e-50 NA      0.6448512 3.074805  3149 50   \n",
       "14 NFE2    1e-50 1e-50 NA      0.6423746 3.095414 14986 50   \n",
       "15 JUN     1e-50 1e-50 NA      0.6504075 3.132148 16287 50   \n",
       "16 EP300   1e-50 1e-50 NA      0.6525838 3.144052 22333 50   "
      ]
     },
     "metadata": {},
     "output_type": "display_data"
    }
   ],
   "source": [
    "dat = res_astarr\n",
    "dat = dat %>% \n",
    "    dplyr::select(pathway, pval, padj, log2err, ES, NES, size) %>%\n",
    "    dplyr::mutate(nlogP = -log10(padj)) %>%\n",
    "    dplyr::arrange(NES) %>%\n",
    "    dplyr::mutate(pathway = factor(pathway, levels=pathway))\n",
    "\n",
    "dat_astarr = dat\n",
    "dat"
   ]
  },
  {
   "cell_type": "code",
   "execution_count": 70,
   "metadata": {},
   "outputs": [
    {
     "data": {
      "image/png": "[encoded data removed]",
      "text/plain": [
       "plot without title"
      ]
     },
     "metadata": {
      "image/png": {
       "height": 420,
       "width": 360
      }
     },
     "output_type": "display_data"
    }
   ],
   "source": [
    "theme_text = theme(\n",
    "        axis.text.x = element_text(size=15),\n",
    "        axis.text.y = element_text(size=15)\n",
    ")\n",
    "\n",
    "theme_grid = theme(\n",
    "    panel.grid.major.x = element_line(\n",
    "        color     = \"grey90\",\n",
    "        linewidth = 0.5,\n",
    "        linetype  = 1),\n",
    "    panel.grid.major.y = element_line(\n",
    "        color     = \"grey90\",\n",
    "        linewidth = 0.5,\n",
    "        linetype  = 1),\n",
    "    panel.grid.minor.y = element_line(\n",
    "        color     = \"grey90\",\n",
    "        linewidth = 0.5,\n",
    "        linetype  = 1)\n",
    ")\n",
    "\n",
    "dat = dat_astarr\n",
    "gpt = ggplot(dat, aes(x = NES, y=pathway, size=size)) + \n",
    "    geom_point() + \n",
    "    scale_size(range = c(2, 10)) +\n",
    "    labs(x = \"NES\", y = \"\") +\n",
    "    #xlim(0, 3.5) +\n",
    "    theme_cowplot() +\n",
    "    theme_grid  +\n",
    "    theme_text\n",
    "\n",
    "options(repr.plot.height=7, repr.plot.width=6)\n",
    "print(gpt)"
   ]
  },
  {
   "cell_type": "code",
   "execution_count": null,
   "metadata": {},
   "outputs": [],
   "source": []
  },
  {
   "cell_type": "code",
   "execution_count": null,
   "metadata": {},
   "outputs": [],
   "source": []
  },
  {
   "cell_type": "code",
   "execution_count": null,
   "metadata": {},
   "outputs": [],
   "source": []
  },
  {
   "cell_type": "code",
   "execution_count": 35,
   "metadata": {},
   "outputs": [
    {
     "name": "stdout",
     "output_type": "stream",
     "text": [
      "[1] 246688\n"
     ]
    },
    {
     "data": {
      "text/html": [
       "<style>\n",
       ".dl-inline {width: auto; margin:0; padding: 0}\n",
       ".dl-inline>dt, .dl-inline>dd {float: none; width: auto; display: inline-block}\n",
       ".dl-inline>dt::after {content: \":\\0020\"; padding-right: .5ex}\n",
       ".dl-inline>dt:not(:first-of-type) {padding-left: .5ex}\n",
       "</style><dl class=dl-inline><dt>chr1_100006256_100006880</dt><dd>-0.488497637812935</dd><dt>chr1_100010437_100010915</dt><dd>-0.308953946557748</dd><dt>chr1_10002087_10003910</dt><dd>-0.38624192381594</dd><dt>chr1_100021298_100021629</dt><dd>-0.594049736452382</dd><dt>chr1_100023727_100023976</dt><dd>0.0498869379111762</dd><dt>chr1_100027983_100029702</dt><dd>-0.229275376161535</dd></dl>\n"
      ],
      "text/latex": [
       "\\begin{description*}\n",
       "\\item[chr1\\textbackslash{}\\_100006256\\textbackslash{}\\_100006880] -0.488497637812935\n",
       "\\item[chr1\\textbackslash{}\\_100010437\\textbackslash{}\\_100010915] -0.308953946557748\n",
       "\\item[chr1\\textbackslash{}\\_10002087\\textbackslash{}\\_10003910] -0.38624192381594\n",
       "\\item[chr1\\textbackslash{}\\_100021298\\textbackslash{}\\_100021629] -0.594049736452382\n",
       "\\item[chr1\\textbackslash{}\\_100023727\\textbackslash{}\\_100023976] 0.0498869379111762\n",
       "\\item[chr1\\textbackslash{}\\_100027983\\textbackslash{}\\_100029702] -0.229275376161535\n",
       "\\end{description*}\n"
      ],
      "text/markdown": [
       "chr1_100006256_100006880\n",
       ":   -0.488497637812935chr1_100010437_100010915\n",
       ":   -0.308953946557748chr1_10002087_10003910\n",
       ":   -0.38624192381594chr1_100021298_100021629\n",
       ":   -0.594049736452382chr1_100023727_100023976\n",
       ":   0.0498869379111762chr1_100027983_100029702\n",
       ":   -0.229275376161535\n",
       "\n"
      ],
      "text/plain": [
       "chr1_100006256_100006880 chr1_100010437_100010915   chr1_10002087_10003910 \n",
       "             -0.48849764              -0.30895395              -0.38624192 \n",
       "chr1_100021298_100021629 chr1_100023727_100023976 chr1_100027983_100029702 \n",
       "             -0.59404974               0.04988694              -0.22927538 "
      ]
     },
     "metadata": {},
     "output_type": "display_data"
    }
   ],
   "source": [
    "vec_score = lst_score[[\"WSTARR\"]]\n",
    "print(length(vec_score))\n",
    "head(vec_score)"
   ]
  },
  {
   "cell_type": "code",
   "execution_count": 36,
   "metadata": {},
   "outputs": [
    {
     "name": "stderr",
     "output_type": "stream",
     "text": [
      "Warning message in preparePathwaysAndStats(pathways, stats, minSize, maxSize, gseaParam, :\n",
      "“There are ties in the preranked stats (0% of the list).\n",
      "The order of those tied genes will be arbitrary, which may produce unexpected results.”\n",
      "Warning message in fgseaMultilevel(pathways = pathways, stats = stats, minSize = minSize, :\n",
      "“For some pathways, in reality P-values are less than 1e-50. You can set the `eps` argument to zero for better estimation.”\n"
     ]
    },
    {
     "data": {
      "text/plain": [
       "    user   system  elapsed \n",
       "5555.714   13.636 1079.338 "
      ]
     },
     "metadata": {},
     "output_type": "display_data"
    }
   ],
   "source": [
    "set.seed(123)\n",
    "system.time(res_wstarr <- fgsea(\n",
    "    pathways  = lst_annot, \n",
    "    stats     = vec_score\n",
    "))"
   ]
  },
  {
   "cell_type": "code",
   "execution_count": 47,
   "metadata": {},
   "outputs": [
    {
     "data": {
      "text/html": [
       "<table class=\"dataframe\">\n",
       "<caption>A data.table: 16 × 8</caption>\n",
       "<thead>\n",
       "\t<tr><th scope=col>pathway</th><th scope=col>pval</th><th scope=col>padj</th><th scope=col>log2err</th><th scope=col>ES</th><th scope=col>NES</th><th scope=col>size</th><th scope=col>nlogP</th></tr>\n",
       "\t<tr><th scope=col>&lt;fct&gt;</th><th scope=col>&lt;dbl&gt;</th><th scope=col>&lt;dbl&gt;</th><th scope=col>&lt;dbl&gt;</th><th scope=col>&lt;dbl&gt;</th><th scope=col>&lt;dbl&gt;</th><th scope=col>&lt;int&gt;</th><th scope=col>&lt;dbl&gt;</th></tr>\n",
       "</thead>\n",
       "<tbody>\n",
       "\t<tr><td>CTCF  </td><td>1e-50</td><td>1e-50</td><td>NA</td><td>0.2953420</td><td>1.721899</td><td>37776</td><td>50</td></tr>\n",
       "\t<tr><td>TAL1  </td><td>1e-50</td><td>1e-50</td><td>NA</td><td>0.3901922</td><td>2.272029</td><td>22428</td><td>50</td></tr>\n",
       "\t<tr><td>GATA1 </td><td>1e-50</td><td>1e-50</td><td>NA</td><td>0.4332524</td><td>2.507799</td><td>11815</td><td>50</td></tr>\n",
       "\t<tr><td>KLF16 </td><td>1e-50</td><td>1e-50</td><td>NA</td><td>0.4400400</td><td>2.553711</td><td>15342</td><td>50</td></tr>\n",
       "\t<tr><td>NFE2  </td><td>1e-50</td><td>1e-50</td><td>NA</td><td>0.4907912</td><td>2.847510</td><td>14984</td><td>50</td></tr>\n",
       "\t<tr><td>REST  </td><td>1e-50</td><td>1e-50</td><td>NA</td><td>0.5475692</td><td>3.175677</td><td>14305</td><td>50</td></tr>\n",
       "\t<tr><td>ZEB2  </td><td>1e-50</td><td>1e-50</td><td>NA</td><td>0.5480342</td><td>3.184016</td><td>16954</td><td>50</td></tr>\n",
       "\t<tr><td>KLF10 </td><td>1e-50</td><td>1e-50</td><td>NA</td><td>0.6163885</td><td>3.229104</td><td>  650</td><td>50</td></tr>\n",
       "\t<tr><td>EP300 </td><td>1e-50</td><td>1e-50</td><td>NA</td><td>0.5733022</td><td>3.338538</td><td>22332</td><td>50</td></tr>\n",
       "\t<tr><td>POLR2A</td><td>1e-50</td><td>1e-50</td><td>NA</td><td>0.6653852</td><td>3.870298</td><td>17941</td><td>50</td></tr>\n",
       "\t<tr><td>JUN   </td><td>1e-50</td><td>1e-50</td><td>NA</td><td>0.6779460</td><td>3.937284</td><td>16286</td><td>50</td></tr>\n",
       "\t<tr><td>NRF1  </td><td>1e-50</td><td>1e-50</td><td>NA</td><td>0.6767480</td><td>3.941147</td><td>22193</td><td>50</td></tr>\n",
       "\t<tr><td>ATF1  </td><td>1e-50</td><td>1e-50</td><td>NA</td><td>0.6794474</td><td>3.956899</td><td>24773</td><td>50</td></tr>\n",
       "\t<tr><td>YY1   </td><td>1e-50</td><td>1e-50</td><td>NA</td><td>0.6954350</td><td>4.047822</td><td>20494</td><td>50</td></tr>\n",
       "\t<tr><td>SP1   </td><td>1e-50</td><td>1e-50</td><td>NA</td><td>0.7526610</td><td>4.350796</td><td> 9048</td><td>50</td></tr>\n",
       "\t<tr><td>ELK1  </td><td>1e-50</td><td>1e-50</td><td>NA</td><td>0.7862739</td><td>4.450151</td><td> 3149</td><td>50</td></tr>\n",
       "</tbody>\n",
       "</table>\n"
      ],
      "text/latex": [
       "A data.table: 16 × 8\n",
       "\\begin{tabular}{llllllll}\n",
       " pathway & pval & padj & log2err & ES & NES & size & nlogP\\\\\n",
       " <fct> & <dbl> & <dbl> & <dbl> & <dbl> & <dbl> & <int> & <dbl>\\\\\n",
       "\\hline\n",
       "\t CTCF   & 1e-50 & 1e-50 & NA & 0.2953420 & 1.721899 & 37776 & 50\\\\\n",
       "\t TAL1   & 1e-50 & 1e-50 & NA & 0.3901922 & 2.272029 & 22428 & 50\\\\\n",
       "\t GATA1  & 1e-50 & 1e-50 & NA & 0.4332524 & 2.507799 & 11815 & 50\\\\\n",
       "\t KLF16  & 1e-50 & 1e-50 & NA & 0.4400400 & 2.553711 & 15342 & 50\\\\\n",
       "\t NFE2   & 1e-50 & 1e-50 & NA & 0.4907912 & 2.847510 & 14984 & 50\\\\\n",
       "\t REST   & 1e-50 & 1e-50 & NA & 0.5475692 & 3.175677 & 14305 & 50\\\\\n",
       "\t ZEB2   & 1e-50 & 1e-50 & NA & 0.5480342 & 3.184016 & 16954 & 50\\\\\n",
       "\t KLF10  & 1e-50 & 1e-50 & NA & 0.6163885 & 3.229104 &   650 & 50\\\\\n",
       "\t EP300  & 1e-50 & 1e-50 & NA & 0.5733022 & 3.338538 & 22332 & 50\\\\\n",
       "\t POLR2A & 1e-50 & 1e-50 & NA & 0.6653852 & 3.870298 & 17941 & 50\\\\\n",
       "\t JUN    & 1e-50 & 1e-50 & NA & 0.6779460 & 3.937284 & 16286 & 50\\\\\n",
       "\t NRF1   & 1e-50 & 1e-50 & NA & 0.6767480 & 3.941147 & 22193 & 50\\\\\n",
       "\t ATF1   & 1e-50 & 1e-50 & NA & 0.6794474 & 3.956899 & 24773 & 50\\\\\n",
       "\t YY1    & 1e-50 & 1e-50 & NA & 0.6954350 & 4.047822 & 20494 & 50\\\\\n",
       "\t SP1    & 1e-50 & 1e-50 & NA & 0.7526610 & 4.350796 &  9048 & 50\\\\\n",
       "\t ELK1   & 1e-50 & 1e-50 & NA & 0.7862739 & 4.450151 &  3149 & 50\\\\\n",
       "\\end{tabular}\n"
      ],
      "text/markdown": [
       "\n",
       "A data.table: 16 × 8\n",
       "\n",
       "| pathway &lt;fct&gt; | pval &lt;dbl&gt; | padj &lt;dbl&gt; | log2err &lt;dbl&gt; | ES &lt;dbl&gt; | NES &lt;dbl&gt; | size &lt;int&gt; | nlogP &lt;dbl&gt; |\n",
       "|---|---|---|---|---|---|---|---|\n",
       "| CTCF   | 1e-50 | 1e-50 | NA | 0.2953420 | 1.721899 | 37776 | 50 |\n",
       "| TAL1   | 1e-50 | 1e-50 | NA | 0.3901922 | 2.272029 | 22428 | 50 |\n",
       "| GATA1  | 1e-50 | 1e-50 | NA | 0.4332524 | 2.507799 | 11815 | 50 |\n",
       "| KLF16  | 1e-50 | 1e-50 | NA | 0.4400400 | 2.553711 | 15342 | 50 |\n",
       "| NFE2   | 1e-50 | 1e-50 | NA | 0.4907912 | 2.847510 | 14984 | 50 |\n",
       "| REST   | 1e-50 | 1e-50 | NA | 0.5475692 | 3.175677 | 14305 | 50 |\n",
       "| ZEB2   | 1e-50 | 1e-50 | NA | 0.5480342 | 3.184016 | 16954 | 50 |\n",
       "| KLF10  | 1e-50 | 1e-50 | NA | 0.6163885 | 3.229104 |   650 | 50 |\n",
       "| EP300  | 1e-50 | 1e-50 | NA | 0.5733022 | 3.338538 | 22332 | 50 |\n",
       "| POLR2A | 1e-50 | 1e-50 | NA | 0.6653852 | 3.870298 | 17941 | 50 |\n",
       "| JUN    | 1e-50 | 1e-50 | NA | 0.6779460 | 3.937284 | 16286 | 50 |\n",
       "| NRF1   | 1e-50 | 1e-50 | NA | 0.6767480 | 3.941147 | 22193 | 50 |\n",
       "| ATF1   | 1e-50 | 1e-50 | NA | 0.6794474 | 3.956899 | 24773 | 50 |\n",
       "| YY1    | 1e-50 | 1e-50 | NA | 0.6954350 | 4.047822 | 20494 | 50 |\n",
       "| SP1    | 1e-50 | 1e-50 | NA | 0.7526610 | 4.350796 |  9048 | 50 |\n",
       "| ELK1   | 1e-50 | 1e-50 | NA | 0.7862739 | 4.450151 |  3149 | 50 |\n",
       "\n"
      ],
      "text/plain": [
       "   pathway pval  padj  log2err ES        NES      size  nlogP\n",
       "1  CTCF    1e-50 1e-50 NA      0.2953420 1.721899 37776 50   \n",
       "2  TAL1    1e-50 1e-50 NA      0.3901922 2.272029 22428 50   \n",
       "3  GATA1   1e-50 1e-50 NA      0.4332524 2.507799 11815 50   \n",
       "4  KLF16   1e-50 1e-50 NA      0.4400400 2.553711 15342 50   \n",
       "5  NFE2    1e-50 1e-50 NA      0.4907912 2.847510 14984 50   \n",
       "6  REST    1e-50 1e-50 NA      0.5475692 3.175677 14305 50   \n",
       "7  ZEB2    1e-50 1e-50 NA      0.5480342 3.184016 16954 50   \n",
       "8  KLF10   1e-50 1e-50 NA      0.6163885 3.229104   650 50   \n",
       "9  EP300   1e-50 1e-50 NA      0.5733022 3.338538 22332 50   \n",
       "10 POLR2A  1e-50 1e-50 NA      0.6653852 3.870298 17941 50   \n",
       "11 JUN     1e-50 1e-50 NA      0.6779460 3.937284 16286 50   \n",
       "12 NRF1    1e-50 1e-50 NA      0.6767480 3.941147 22193 50   \n",
       "13 ATF1    1e-50 1e-50 NA      0.6794474 3.956899 24773 50   \n",
       "14 YY1     1e-50 1e-50 NA      0.6954350 4.047822 20494 50   \n",
       "15 SP1     1e-50 1e-50 NA      0.7526610 4.350796  9048 50   \n",
       "16 ELK1    1e-50 1e-50 NA      0.7862739 4.450151  3149 50   "
      ]
     },
     "metadata": {},
     "output_type": "display_data"
    }
   ],
   "source": [
    "dat = res_wstarr\n",
    "dat = dat %>% \n",
    "    dplyr::select(pathway, pval, padj, log2err, ES, NES, size) %>%\n",
    "    dplyr::mutate(nlogP = -log10(padj)) %>%\n",
    "    dplyr::arrange(NES) %>%\n",
    "    dplyr::mutate(pathway = factor(pathway, levels=pathway))\n",
    "\n",
    "dat_wstarr = dat\n",
    "dat"
   ]
  },
  {
   "cell_type": "code",
   "execution_count": 48,
   "metadata": {},
   "outputs": [
    {
     "data": {
      "image/png": "[encoded data removed]",
      "text/plain": [
       "plot without title"
      ]
     },
     "metadata": {
      "image/png": {
       "height": 420,
       "width": 360
      }
     },
     "output_type": "display_data"
    }
   ],
   "source": [
    "theme_text = theme(\n",
    "        axis.text.x = element_text(size=15),\n",
    "        axis.text.y = element_text(size=15)\n",
    ")\n",
    "\n",
    "theme_grid = theme(\n",
    "    panel.grid.major.x = element_line(\n",
    "        color     = \"grey90\",\n",
    "        linewidth = 0.5,\n",
    "        linetype  = 1),\n",
    "    panel.grid.major.y = element_line(\n",
    "        color     = \"grey90\",\n",
    "        linewidth = 0.5,\n",
    "        linetype  = 1),\n",
    "    panel.grid.minor.y = element_line(\n",
    "        color     = \"grey90\",\n",
    "        linewidth = 0.5,\n",
    "        linetype  = 1)\n",
    ")\n",
    "\n",
    "dat = dat_wstarr\n",
    "gpt = ggplot(dat, aes(x = NES, y=pathway, size=size)) + \n",
    "    geom_point() + \n",
    "    scale_size(range = c(2, 10)) +\n",
    "    labs(x = \"NES\", y = \"\") +\n",
    "    #xlim(0, 3.5) +\n",
    "    theme_cowplot() +\n",
    "    theme_grid  +\n",
    "    theme_text\n",
    "\n",
    "options(repr.plot.height=7, repr.plot.width=6)\n",
    "print(gpt)"
   ]
  },
  {
   "cell_type": "code",
   "execution_count": null,
   "metadata": {},
   "outputs": [],
   "source": []
  },
  {
   "cell_type": "code",
   "execution_count": null,
   "metadata": {},
   "outputs": [],
   "source": []
  },
  {
   "cell_type": "code",
   "execution_count": null,
   "metadata": {},
   "outputs": [],
   "source": []
  },
  {
   "cell_type": "code",
   "execution_count": null,
   "metadata": {},
   "outputs": [],
   "source": []
  },
  {
   "cell_type": "code",
   "execution_count": 40,
   "metadata": {},
   "outputs": [
    {
     "name": "stdout",
     "output_type": "stream",
     "text": [
      "[1] 1722\n"
     ]
    },
    {
     "data": {
      "text/html": [
       "<style>\n",
       ".dl-inline {width: auto; margin:0; padding: 0}\n",
       ".dl-inline>dt, .dl-inline>dd {float: none; width: auto; display: inline-block}\n",
       ".dl-inline>dt::after {content: \":\\0020\"; padding-right: .5ex}\n",
       ".dl-inline>dt:not(:first-of-type) {padding-left: .5ex}\n",
       "</style><dl class=dl-inline><dt>chr11_61792068_61793464</dt><dd>1.66656537445798</dd><dt>chr11_61800085_61801113</dt><dd>1.85540384710792</dd><dt>chr11_61806630_61807154</dt><dd>-1.35622712612471</dd><dt>chr11_61814735_61817343</dt><dd>2.53101446929766</dd><dt>chr11_61822094_61822443</dt><dd>-1.77314590429897</dd><dt>chr11_61825795_61826306</dt><dd>-0.392137545509691</dd></dl>\n"
      ],
      "text/latex": [
       "\\begin{description*}\n",
       "\\item[chr11\\textbackslash{}\\_61792068\\textbackslash{}\\_61793464] 1.66656537445798\n",
       "\\item[chr11\\textbackslash{}\\_61800085\\textbackslash{}\\_61801113] 1.85540384710792\n",
       "\\item[chr11\\textbackslash{}\\_61806630\\textbackslash{}\\_61807154] -1.35622712612471\n",
       "\\item[chr11\\textbackslash{}\\_61814735\\textbackslash{}\\_61817343] 2.53101446929766\n",
       "\\item[chr11\\textbackslash{}\\_61822094\\textbackslash{}\\_61822443] -1.77314590429897\n",
       "\\item[chr11\\textbackslash{}\\_61825795\\textbackslash{}\\_61826306] -0.392137545509691\n",
       "\\end{description*}\n"
      ],
      "text/markdown": [
       "chr11_61792068_61793464\n",
       ":   1.66656537445798chr11_61800085_61801113\n",
       ":   1.85540384710792chr11_61806630_61807154\n",
       ":   -1.35622712612471chr11_61814735_61817343\n",
       ":   2.53101446929766chr11_61822094_61822443\n",
       ":   -1.77314590429897chr11_61825795_61826306\n",
       ":   -0.392137545509691\n",
       "\n"
      ],
      "text/plain": [
       "chr11_61792068_61793464 chr11_61800085_61801113 chr11_61806630_61807154 \n",
       "              1.6665654               1.8554038              -1.3562271 \n",
       "chr11_61814735_61817343 chr11_61822094_61822443 chr11_61825795_61826306 \n",
       "              2.5310145              -1.7731459              -0.3921375 "
      ]
     },
     "metadata": {},
     "output_type": "display_data"
    }
   ],
   "source": [
    "vec_score = lst_score[[\"TMPRA\"]]\n",
    "print(length(vec_score))\n",
    "head(vec_score)"
   ]
  },
  {
   "cell_type": "code",
   "execution_count": 41,
   "metadata": {},
   "outputs": [
    {
     "data": {
      "text/plain": [
       "   user  system elapsed \n",
       " 10.648   1.149   2.490 "
      ]
     },
     "metadata": {},
     "output_type": "display_data"
    }
   ],
   "source": [
    "set.seed(123)\n",
    "system.time(res_tmpra <- fgsea(\n",
    "    pathways  = lst_annot, \n",
    "    stats     = vec_score\n",
    "))"
   ]
  },
  {
   "cell_type": "code",
   "execution_count": 45,
   "metadata": {},
   "outputs": [
    {
     "data": {
      "text/html": [
       "<table class=\"dataframe\">\n",
       "<caption>A data.table: 16 × 8</caption>\n",
       "<thead>\n",
       "\t<tr><th scope=col>pathway</th><th scope=col>pval</th><th scope=col>padj</th><th scope=col>log2err</th><th scope=col>ES</th><th scope=col>NES</th><th scope=col>size</th><th scope=col>nlogP</th></tr>\n",
       "\t<tr><th scope=col>&lt;fct&gt;</th><th scope=col>&lt;dbl&gt;</th><th scope=col>&lt;dbl&gt;</th><th scope=col>&lt;dbl&gt;</th><th scope=col>&lt;dbl&gt;</th><th scope=col>&lt;dbl&gt;</th><th scope=col>&lt;int&gt;</th><th scope=col>&lt;dbl&gt;</th></tr>\n",
       "</thead>\n",
       "<tbody>\n",
       "\t<tr><td>KLF10 </td><td>4.218191e-03</td><td>4.218191e-03</td><td>0.4070179</td><td>0.7834405</td><td>1.641967</td><td>  7</td><td> 2.374874</td></tr>\n",
       "\t<tr><td>CTCF  </td><td>9.107917e-14</td><td>1.821583e-13</td><td>0.9545416</td><td>0.5522197</td><td>1.791161</td><td>271</td><td>12.739551</td></tr>\n",
       "\t<tr><td>TAL1  </td><td>4.335535e-12</td><td>5.336043e-12</td><td>0.8870750</td><td>0.5767445</td><td>1.862245</td><td>180</td><td>11.272781</td></tr>\n",
       "\t<tr><td>NFE2  </td><td>1.693867e-09</td><td>1.806792e-09</td><td>0.7881868</td><td>0.6088406</td><td>1.943453</td><td>102</td><td> 8.743092</td></tr>\n",
       "\t<tr><td>ZEB2  </td><td>3.616858e-13</td><td>5.786973e-13</td><td>0.9325952</td><td>0.6171184</td><td>1.981174</td><td>139</td><td>12.237549</td></tr>\n",
       "\t<tr><td>GATA1 </td><td>3.806504e-10</td><td>4.350290e-10</td><td>0.8140358</td><td>0.6245244</td><td>1.982182</td><td> 91</td><td> 9.361482</td></tr>\n",
       "\t<tr><td>KLF16 </td><td>5.129219e-13</td><td>6.838959e-13</td><td>0.9214260</td><td>0.6281755</td><td>2.011459</td><td>126</td><td>12.165010</td></tr>\n",
       "\t<tr><td>REST  </td><td>4.469495e-13</td><td>6.501083e-13</td><td>0.9325952</td><td>0.6385858</td><td>2.041736</td><td>122</td><td>12.187014</td></tr>\n",
       "\t<tr><td>EP300 </td><td>5.696814e-19</td><td>1.302129e-18</td><td>1.1239150</td><td>0.6371771</td><td>2.057376</td><td>180</td><td>17.885346</td></tr>\n",
       "\t<tr><td>JUN   </td><td>4.896378e-22</td><td>1.305701e-21</td><td>1.2125446</td><td>0.6914781</td><td>2.217757</td><td>138</td><td>20.884156</td></tr>\n",
       "\t<tr><td>POLR2A</td><td>1.534208e-29</td><td>6.136834e-29</td><td>1.4099514</td><td>0.6972674</td><td>2.253851</td><td>189</td><td>28.212056</td></tr>\n",
       "\t<tr><td>ATF1  </td><td>1.483026e-42</td><td>1.186421e-41</td><td>1.6965862</td><td>0.7359080</td><td>2.379091</td><td>216</td><td>40.925761</td></tr>\n",
       "\t<tr><td>YY1   </td><td>2.303526e-38</td><td>1.228547e-37</td><td>1.6153023</td><td>0.7522399</td><td>2.428943</td><td>174</td><td>36.910608</td></tr>\n",
       "\t<tr><td>SP1   </td><td>1.213099e-23</td><td>3.881917e-23</td><td>1.2627399</td><td>0.7760157</td><td>2.451476</td><td> 88</td><td>22.410954</td></tr>\n",
       "\t<tr><td>NRF1  </td><td>4.340585e-46</td><td>6.944935e-45</td><td>1.7683043</td><td>0.7595451</td><td>2.455341</td><td>200</td><td>44.158332</td></tr>\n",
       "\t<tr><td>ELK1  </td><td>1.456603e-13</td><td>2.589516e-13</td><td>0.9436322</td><td>0.8842534</td><td>2.464347</td><td> 25</td><td>12.586781</td></tr>\n",
       "</tbody>\n",
       "</table>\n"
      ],
      "text/latex": [
       "A data.table: 16 × 8\n",
       "\\begin{tabular}{llllllll}\n",
       " pathway & pval & padj & log2err & ES & NES & size & nlogP\\\\\n",
       " <fct> & <dbl> & <dbl> & <dbl> & <dbl> & <dbl> & <int> & <dbl>\\\\\n",
       "\\hline\n",
       "\t KLF10  & 4.218191e-03 & 4.218191e-03 & 0.4070179 & 0.7834405 & 1.641967 &   7 &  2.374874\\\\\n",
       "\t CTCF   & 9.107917e-14 & 1.821583e-13 & 0.9545416 & 0.5522197 & 1.791161 & 271 & 12.739551\\\\\n",
       "\t TAL1   & 4.335535e-12 & 5.336043e-12 & 0.8870750 & 0.5767445 & 1.862245 & 180 & 11.272781\\\\\n",
       "\t NFE2   & 1.693867e-09 & 1.806792e-09 & 0.7881868 & 0.6088406 & 1.943453 & 102 &  8.743092\\\\\n",
       "\t ZEB2   & 3.616858e-13 & 5.786973e-13 & 0.9325952 & 0.6171184 & 1.981174 & 139 & 12.237549\\\\\n",
       "\t GATA1  & 3.806504e-10 & 4.350290e-10 & 0.8140358 & 0.6245244 & 1.982182 &  91 &  9.361482\\\\\n",
       "\t KLF16  & 5.129219e-13 & 6.838959e-13 & 0.9214260 & 0.6281755 & 2.011459 & 126 & 12.165010\\\\\n",
       "\t REST   & 4.469495e-13 & 6.501083e-13 & 0.9325952 & 0.6385858 & 2.041736 & 122 & 12.187014\\\\\n",
       "\t EP300  & 5.696814e-19 & 1.302129e-18 & 1.1239150 & 0.6371771 & 2.057376 & 180 & 17.885346\\\\\n",
       "\t JUN    & 4.896378e-22 & 1.305701e-21 & 1.2125446 & 0.6914781 & 2.217757 & 138 & 20.884156\\\\\n",
       "\t POLR2A & 1.534208e-29 & 6.136834e-29 & 1.4099514 & 0.6972674 & 2.253851 & 189 & 28.212056\\\\\n",
       "\t ATF1   & 1.483026e-42 & 1.186421e-41 & 1.6965862 & 0.7359080 & 2.379091 & 216 & 40.925761\\\\\n",
       "\t YY1    & 2.303526e-38 & 1.228547e-37 & 1.6153023 & 0.7522399 & 2.428943 & 174 & 36.910608\\\\\n",
       "\t SP1    & 1.213099e-23 & 3.881917e-23 & 1.2627399 & 0.7760157 & 2.451476 &  88 & 22.410954\\\\\n",
       "\t NRF1   & 4.340585e-46 & 6.944935e-45 & 1.7683043 & 0.7595451 & 2.455341 & 200 & 44.158332\\\\\n",
       "\t ELK1   & 1.456603e-13 & 2.589516e-13 & 0.9436322 & 0.8842534 & 2.464347 &  25 & 12.586781\\\\\n",
       "\\end{tabular}\n"
      ],
      "text/markdown": [
       "\n",
       "A data.table: 16 × 8\n",
       "\n",
       "| pathway &lt;fct&gt; | pval &lt;dbl&gt; | padj &lt;dbl&gt; | log2err &lt;dbl&gt; | ES &lt;dbl&gt; | NES &lt;dbl&gt; | size &lt;int&gt; | nlogP &lt;dbl&gt; |\n",
       "|---|---|---|---|---|---|---|---|\n",
       "| KLF10  | 4.218191e-03 | 4.218191e-03 | 0.4070179 | 0.7834405 | 1.641967 |   7 |  2.374874 |\n",
       "| CTCF   | 9.107917e-14 | 1.821583e-13 | 0.9545416 | 0.5522197 | 1.791161 | 271 | 12.739551 |\n",
       "| TAL1   | 4.335535e-12 | 5.336043e-12 | 0.8870750 | 0.5767445 | 1.862245 | 180 | 11.272781 |\n",
       "| NFE2   | 1.693867e-09 | 1.806792e-09 | 0.7881868 | 0.6088406 | 1.943453 | 102 |  8.743092 |\n",
       "| ZEB2   | 3.616858e-13 | 5.786973e-13 | 0.9325952 | 0.6171184 | 1.981174 | 139 | 12.237549 |\n",
       "| GATA1  | 3.806504e-10 | 4.350290e-10 | 0.8140358 | 0.6245244 | 1.982182 |  91 |  9.361482 |\n",
       "| KLF16  | 5.129219e-13 | 6.838959e-13 | 0.9214260 | 0.6281755 | 2.011459 | 126 | 12.165010 |\n",
       "| REST   | 4.469495e-13 | 6.501083e-13 | 0.9325952 | 0.6385858 | 2.041736 | 122 | 12.187014 |\n",
       "| EP300  | 5.696814e-19 | 1.302129e-18 | 1.1239150 | 0.6371771 | 2.057376 | 180 | 17.885346 |\n",
       "| JUN    | 4.896378e-22 | 1.305701e-21 | 1.2125446 | 0.6914781 | 2.217757 | 138 | 20.884156 |\n",
       "| POLR2A | 1.534208e-29 | 6.136834e-29 | 1.4099514 | 0.6972674 | 2.253851 | 189 | 28.212056 |\n",
       "| ATF1   | 1.483026e-42 | 1.186421e-41 | 1.6965862 | 0.7359080 | 2.379091 | 216 | 40.925761 |\n",
       "| YY1    | 2.303526e-38 | 1.228547e-37 | 1.6153023 | 0.7522399 | 2.428943 | 174 | 36.910608 |\n",
       "| SP1    | 1.213099e-23 | 3.881917e-23 | 1.2627399 | 0.7760157 | 2.451476 |  88 | 22.410954 |\n",
       "| NRF1   | 4.340585e-46 | 6.944935e-45 | 1.7683043 | 0.7595451 | 2.455341 | 200 | 44.158332 |\n",
       "| ELK1   | 1.456603e-13 | 2.589516e-13 | 0.9436322 | 0.8842534 | 2.464347 |  25 | 12.586781 |\n",
       "\n"
      ],
      "text/plain": [
       "   pathway pval         padj         log2err   ES        NES      size\n",
       "1  KLF10   4.218191e-03 4.218191e-03 0.4070179 0.7834405 1.641967   7 \n",
       "2  CTCF    9.107917e-14 1.821583e-13 0.9545416 0.5522197 1.791161 271 \n",
       "3  TAL1    4.335535e-12 5.336043e-12 0.8870750 0.5767445 1.862245 180 \n",
       "4  NFE2    1.693867e-09 1.806792e-09 0.7881868 0.6088406 1.943453 102 \n",
       "5  ZEB2    3.616858e-13 5.786973e-13 0.9325952 0.6171184 1.981174 139 \n",
       "6  GATA1   3.806504e-10 4.350290e-10 0.8140358 0.6245244 1.982182  91 \n",
       "7  KLF16   5.129219e-13 6.838959e-13 0.9214260 0.6281755 2.011459 126 \n",
       "8  REST    4.469495e-13 6.501083e-13 0.9325952 0.6385858 2.041736 122 \n",
       "9  EP300   5.696814e-19 1.302129e-18 1.1239150 0.6371771 2.057376 180 \n",
       "10 JUN     4.896378e-22 1.305701e-21 1.2125446 0.6914781 2.217757 138 \n",
       "11 POLR2A  1.534208e-29 6.136834e-29 1.4099514 0.6972674 2.253851 189 \n",
       "12 ATF1    1.483026e-42 1.186421e-41 1.6965862 0.7359080 2.379091 216 \n",
       "13 YY1     2.303526e-38 1.228547e-37 1.6153023 0.7522399 2.428943 174 \n",
       "14 SP1     1.213099e-23 3.881917e-23 1.2627399 0.7760157 2.451476  88 \n",
       "15 NRF1    4.340585e-46 6.944935e-45 1.7683043 0.7595451 2.455341 200 \n",
       "16 ELK1    1.456603e-13 2.589516e-13 0.9436322 0.8842534 2.464347  25 \n",
       "   nlogP    \n",
       "1   2.374874\n",
       "2  12.739551\n",
       "3  11.272781\n",
       "4   8.743092\n",
       "5  12.237549\n",
       "6   9.361482\n",
       "7  12.165010\n",
       "8  12.187014\n",
       "9  17.885346\n",
       "10 20.884156\n",
       "11 28.212056\n",
       "12 40.925761\n",
       "13 36.910608\n",
       "14 22.410954\n",
       "15 44.158332\n",
       "16 12.586781"
      ]
     },
     "metadata": {},
     "output_type": "display_data"
    }
   ],
   "source": [
    "dat = res_tmpra\n",
    "dat = dat %>% \n",
    "    dplyr::select(pathway, pval, padj, log2err, ES, NES, size) %>%\n",
    "    dplyr::mutate(nlogP = -log10(padj)) %>%\n",
    "    dplyr::arrange(NES) %>%\n",
    "    dplyr::mutate(pathway = factor(pathway, levels=pathway))\n",
    "\n",
    "dat_tmpra = dat\n",
    "dat"
   ]
  },
  {
   "cell_type": "code",
   "execution_count": 46,
   "metadata": {},
   "outputs": [
    {
     "data": {
      "image/png": "[encoded data removed]",
      "text/plain": [
       "plot without title"
      ]
     },
     "metadata": {
      "image/png": {
       "height": 420,
       "width": 360
      }
     },
     "output_type": "display_data"
    }
   ],
   "source": [
    "theme_text = theme(\n",
    "        axis.text.x = element_text(size=15),\n",
    "        axis.text.y = element_text(size=15)\n",
    ")\n",
    "\n",
    "theme_grid = theme(\n",
    "    panel.grid.major.x = element_line(\n",
    "        color     = \"grey90\",\n",
    "        linewidth = 0.5,\n",
    "        linetype  = 1),\n",
    "    panel.grid.major.y = element_line(\n",
    "        color     = \"grey90\",\n",
    "        linewidth = 0.5,\n",
    "        linetype  = 1),\n",
    "    panel.grid.minor.y = element_line(\n",
    "        color     = \"grey90\",\n",
    "        linewidth = 0.5,\n",
    "        linetype  = 1)\n",
    ")\n",
    "\n",
    "dat = dat_tmpra\n",
    "gpt = ggplot(dat, aes(x = NES, y=pathway, size=size)) + \n",
    "    geom_point() + \n",
    "    scale_size(range = c(2, 10)) +\n",
    "    labs(x = \"NES\", y = \"\") +\n",
    "    #xlim(0, 3.5) +\n",
    "    theme_cowplot() +\n",
    "    theme_grid  +\n",
    "    theme_text\n",
    "\n",
    "options(repr.plot.height=7, repr.plot.width=6)\n",
    "print(gpt)"
   ]
  },
  {
   "cell_type": "code",
   "execution_count": null,
   "metadata": {},
   "outputs": [],
   "source": []
  },
  {
   "cell_type": "code",
   "execution_count": null,
   "metadata": {},
   "outputs": [],
   "source": []
  },
  {
   "cell_type": "code",
   "execution_count": 72,
   "metadata": {},
   "outputs": [
    {
     "data": {
      "text/html": [
       "<table class=\"dataframe\">\n",
       "<caption>A data.table: 6 × 9</caption>\n",
       "<thead>\n",
       "\t<tr><th scope=col>pathway</th><th scope=col>pval</th><th scope=col>padj</th><th scope=col>log2err</th><th scope=col>ES</th><th scope=col>NES</th><th scope=col>size</th><th scope=col>nlogP</th><th scope=col>Assay</th></tr>\n",
       "\t<tr><th scope=col>&lt;fct&gt;</th><th scope=col>&lt;dbl&gt;</th><th scope=col>&lt;dbl&gt;</th><th scope=col>&lt;dbl&gt;</th><th scope=col>&lt;dbl&gt;</th><th scope=col>&lt;dbl&gt;</th><th scope=col>&lt;int&gt;</th><th scope=col>&lt;dbl&gt;</th><th scope=col>&lt;chr&gt;</th></tr>\n",
       "</thead>\n",
       "<tbody>\n",
       "\t<tr><td>CTCF  </td><td>1e-50</td><td>1e-50</td><td>NA</td><td>0.2662526</td><td>1.284943</td><td>37780</td><td>50</td><td>ASTARR</td></tr>\n",
       "\t<tr><td>SP1   </td><td>1e-50</td><td>1e-50</td><td>NA</td><td>0.4052435</td><td>1.948436</td><td> 9048</td><td>50</td><td>ASTARR</td></tr>\n",
       "\t<tr><td>NRF1  </td><td>1e-50</td><td>1e-50</td><td>NA</td><td>0.4574510</td><td>2.204118</td><td>22194</td><td>50</td><td>ASTARR</td></tr>\n",
       "\t<tr><td>POLR2A</td><td>1e-50</td><td>1e-50</td><td>NA</td><td>0.4943616</td><td>2.380848</td><td>17945</td><td>50</td><td>ASTARR</td></tr>\n",
       "\t<tr><td>REST  </td><td>1e-50</td><td>1e-50</td><td>NA</td><td>0.5260944</td><td>2.534823</td><td>14306</td><td>50</td><td>ASTARR</td></tr>\n",
       "\t<tr><td>YY1   </td><td>1e-50</td><td>1e-50</td><td>NA</td><td>0.5434324</td><td>2.618104</td><td>20494</td><td>50</td><td>ASTARR</td></tr>\n",
       "</tbody>\n",
       "</table>\n"
      ],
      "text/latex": [
       "A data.table: 6 × 9\n",
       "\\begin{tabular}{lllllllll}\n",
       " pathway & pval & padj & log2err & ES & NES & size & nlogP & Assay\\\\\n",
       " <fct> & <dbl> & <dbl> & <dbl> & <dbl> & <dbl> & <int> & <dbl> & <chr>\\\\\n",
       "\\hline\n",
       "\t CTCF   & 1e-50 & 1e-50 & NA & 0.2662526 & 1.284943 & 37780 & 50 & ASTARR\\\\\n",
       "\t SP1    & 1e-50 & 1e-50 & NA & 0.4052435 & 1.948436 &  9048 & 50 & ASTARR\\\\\n",
       "\t NRF1   & 1e-50 & 1e-50 & NA & 0.4574510 & 2.204118 & 22194 & 50 & ASTARR\\\\\n",
       "\t POLR2A & 1e-50 & 1e-50 & NA & 0.4943616 & 2.380848 & 17945 & 50 & ASTARR\\\\\n",
       "\t REST   & 1e-50 & 1e-50 & NA & 0.5260944 & 2.534823 & 14306 & 50 & ASTARR\\\\\n",
       "\t YY1    & 1e-50 & 1e-50 & NA & 0.5434324 & 2.618104 & 20494 & 50 & ASTARR\\\\\n",
       "\\end{tabular}\n"
      ],
      "text/markdown": [
       "\n",
       "A data.table: 6 × 9\n",
       "\n",
       "| pathway &lt;fct&gt; | pval &lt;dbl&gt; | padj &lt;dbl&gt; | log2err &lt;dbl&gt; | ES &lt;dbl&gt; | NES &lt;dbl&gt; | size &lt;int&gt; | nlogP &lt;dbl&gt; | Assay &lt;chr&gt; |\n",
       "|---|---|---|---|---|---|---|---|---|\n",
       "| CTCF   | 1e-50 | 1e-50 | NA | 0.2662526 | 1.284943 | 37780 | 50 | ASTARR |\n",
       "| SP1    | 1e-50 | 1e-50 | NA | 0.4052435 | 1.948436 |  9048 | 50 | ASTARR |\n",
       "| NRF1   | 1e-50 | 1e-50 | NA | 0.4574510 | 2.204118 | 22194 | 50 | ASTARR |\n",
       "| POLR2A | 1e-50 | 1e-50 | NA | 0.4943616 | 2.380848 | 17945 | 50 | ASTARR |\n",
       "| REST   | 1e-50 | 1e-50 | NA | 0.5260944 | 2.534823 | 14306 | 50 | ASTARR |\n",
       "| YY1    | 1e-50 | 1e-50 | NA | 0.5434324 | 2.618104 | 20494 | 50 | ASTARR |\n",
       "\n"
      ],
      "text/plain": [
       "  pathway pval  padj  log2err ES        NES      size  nlogP Assay \n",
       "1 CTCF    1e-50 1e-50 NA      0.2662526 1.284943 37780 50    ASTARR\n",
       "2 SP1     1e-50 1e-50 NA      0.4052435 1.948436  9048 50    ASTARR\n",
       "3 NRF1    1e-50 1e-50 NA      0.4574510 2.204118 22194 50    ASTARR\n",
       "4 POLR2A  1e-50 1e-50 NA      0.4943616 2.380848 17945 50    ASTARR\n",
       "5 REST    1e-50 1e-50 NA      0.5260944 2.534823 14306 50    ASTARR\n",
       "6 YY1     1e-50 1e-50 NA      0.5434324 2.618104 20494 50    ASTARR"
      ]
     },
     "metadata": {},
     "output_type": "display_data"
    }
   ],
   "source": [
    "dat = bind_rows(\n",
    "    dat_astarr %>% dplyr::mutate(Assay=\"ASTARR\"), \n",
    "    dat_wstarr %>% dplyr::mutate(Assay=\"WSTARR\"), \n",
    "    dat_tmpra  %>% dplyr::mutate(Assay=\"TMPRA\")\n",
    ")\n",
    "head(dat)"
   ]
  },
  {
   "cell_type": "code",
   "execution_count": 61,
   "metadata": {},
   "outputs": [
    {
     "data": {
      "image/png": "[encoded data removed]",
      "text/plain": [
       "plot without title"
      ]
     },
     "metadata": {
      "image/png": {
       "height": 420,
       "width": 360
      }
     },
     "output_type": "display_data"
    }
   ],
   "source": [
    "theme_fill = scale_fill_gradient(low = \"#fcbba1\", high = \"#cb181d\")\n",
    "\n",
    "gpt = ggplot(dat, aes(x=Assay, y=pathway, fill=NES)) + \n",
    "    geom_tile() + \n",
    "    theme_cowplot() +\n",
    "    theme_fill\n",
    "print(gpt)"
   ]
  },
  {
   "cell_type": "code",
   "execution_count": 62,
   "metadata": {},
   "outputs": [
    {
     "data": {
      "image/png": "[encoded data removed]",
      "text/plain": [
       "plot without title"
      ]
     },
     "metadata": {
      "image/png": {
       "height": 420,
       "width": 360
      }
     },
     "output_type": "display_data"
    }
   ],
   "source": [
    "theme_fill = scale_fill_gradient(low = \"grey90\", high = \"grey10\")\n",
    "\n",
    "gpt = ggplot(dat, aes(x=Assay, y=pathway, fill=nlogP)) + \n",
    "    geom_tile() + \n",
    "    theme_cowplot() +\n",
    "    theme_fill\n",
    "print(gpt)"
   ]
  },
  {
   "cell_type": "code",
   "execution_count": 63,
   "metadata": {},
   "outputs": [],
   "source": [
    "write_tsv(dat, \"tmp_enrich_split.tsv\")"
   ]
  },
  {
   "cell_type": "code",
   "execution_count": 85,
   "metadata": {},
   "outputs": [
    {
     "name": "stderr",
     "output_type": "stream",
     "text": [
      "\u001b[1mRows: \u001b[22m\u001b[34m48\u001b[39m \u001b[1mColumns: \u001b[22m\u001b[34m9\u001b[39m\n",
      "\u001b[36m──\u001b[39m \u001b[1mColumn specification\u001b[22m \u001b[36m─────────────────────────────────────────\u001b[39m\n",
      "\u001b[1mDelimiter:\u001b[22m \"\\t\"\n",
      "\u001b[31mchr\u001b[39m (2): pathway, Assay\n",
      "\u001b[32mdbl\u001b[39m (7): pval, padj, log2err, ES, NES, size, nlogP\n",
      "\n",
      "\u001b[36mℹ\u001b[39m Use `spec()` to retrieve the full column specification for this data.\n",
      "\u001b[36mℹ\u001b[39m Specify the column types or set `show_col_types = FALSE` to quiet this message.\n"
     ]
    }
   ],
   "source": [
    "dat = read_tsv(\"tmp_enrich_split.tsv\")"
   ]
  },
  {
   "cell_type": "code",
   "execution_count": 86,
   "metadata": {},
   "outputs": [
    {
     "data": {
      "text/html": [
       "<table class=\"dataframe\">\n",
       "<caption>A grouped_df: 6 × 10</caption>\n",
       "<thead>\n",
       "\t<tr><th scope=col>pathway</th><th scope=col>pval</th><th scope=col>padj</th><th scope=col>log2err</th><th scope=col>ES</th><th scope=col>NES</th><th scope=col>size</th><th scope=col>nlogP</th><th scope=col>Assay</th><th scope=col>Rank</th></tr>\n",
       "\t<tr><th scope=col>&lt;chr&gt;</th><th scope=col>&lt;dbl&gt;</th><th scope=col>&lt;dbl&gt;</th><th scope=col>&lt;dbl&gt;</th><th scope=col>&lt;dbl&gt;</th><th scope=col>&lt;dbl&gt;</th><th scope=col>&lt;dbl&gt;</th><th scope=col>&lt;dbl&gt;</th><th scope=col>&lt;chr&gt;</th><th scope=col>&lt;dbl&gt;</th></tr>\n",
       "</thead>\n",
       "<tbody>\n",
       "\t<tr><td>CTCF  </td><td>1e-50</td><td>1e-50</td><td>NA</td><td>0.2662526</td><td>1.284943</td><td>37780</td><td>50</td><td>ASTARR</td><td>0.0625</td></tr>\n",
       "\t<tr><td>SP1   </td><td>1e-50</td><td>1e-50</td><td>NA</td><td>0.4052435</td><td>1.948436</td><td> 9048</td><td>50</td><td>ASTARR</td><td>0.1250</td></tr>\n",
       "\t<tr><td>NRF1  </td><td>1e-50</td><td>1e-50</td><td>NA</td><td>0.4574510</td><td>2.204118</td><td>22194</td><td>50</td><td>ASTARR</td><td>0.1875</td></tr>\n",
       "\t<tr><td>POLR2A</td><td>1e-50</td><td>1e-50</td><td>NA</td><td>0.4943616</td><td>2.380848</td><td>17945</td><td>50</td><td>ASTARR</td><td>0.2500</td></tr>\n",
       "\t<tr><td>REST  </td><td>1e-50</td><td>1e-50</td><td>NA</td><td>0.5260944</td><td>2.534823</td><td>14306</td><td>50</td><td>ASTARR</td><td>0.3125</td></tr>\n",
       "\t<tr><td>YY1   </td><td>1e-50</td><td>1e-50</td><td>NA</td><td>0.5434324</td><td>2.618104</td><td>20494</td><td>50</td><td>ASTARR</td><td>0.3750</td></tr>\n",
       "</tbody>\n",
       "</table>\n"
      ],
      "text/latex": [
       "A grouped\\_df: 6 × 10\n",
       "\\begin{tabular}{llllllllll}\n",
       " pathway & pval & padj & log2err & ES & NES & size & nlogP & Assay & Rank\\\\\n",
       " <chr> & <dbl> & <dbl> & <dbl> & <dbl> & <dbl> & <dbl> & <dbl> & <chr> & <dbl>\\\\\n",
       "\\hline\n",
       "\t CTCF   & 1e-50 & 1e-50 & NA & 0.2662526 & 1.284943 & 37780 & 50 & ASTARR & 0.0625\\\\\n",
       "\t SP1    & 1e-50 & 1e-50 & NA & 0.4052435 & 1.948436 &  9048 & 50 & ASTARR & 0.1250\\\\\n",
       "\t NRF1   & 1e-50 & 1e-50 & NA & 0.4574510 & 2.204118 & 22194 & 50 & ASTARR & 0.1875\\\\\n",
       "\t POLR2A & 1e-50 & 1e-50 & NA & 0.4943616 & 2.380848 & 17945 & 50 & ASTARR & 0.2500\\\\\n",
       "\t REST   & 1e-50 & 1e-50 & NA & 0.5260944 & 2.534823 & 14306 & 50 & ASTARR & 0.3125\\\\\n",
       "\t YY1    & 1e-50 & 1e-50 & NA & 0.5434324 & 2.618104 & 20494 & 50 & ASTARR & 0.3750\\\\\n",
       "\\end{tabular}\n"
      ],
      "text/markdown": [
       "\n",
       "A grouped_df: 6 × 10\n",
       "\n",
       "| pathway &lt;chr&gt; | pval &lt;dbl&gt; | padj &lt;dbl&gt; | log2err &lt;dbl&gt; | ES &lt;dbl&gt; | NES &lt;dbl&gt; | size &lt;dbl&gt; | nlogP &lt;dbl&gt; | Assay &lt;chr&gt; | Rank &lt;dbl&gt; |\n",
       "|---|---|---|---|---|---|---|---|---|---|\n",
       "| CTCF   | 1e-50 | 1e-50 | NA | 0.2662526 | 1.284943 | 37780 | 50 | ASTARR | 0.0625 |\n",
       "| SP1    | 1e-50 | 1e-50 | NA | 0.4052435 | 1.948436 |  9048 | 50 | ASTARR | 0.1250 |\n",
       "| NRF1   | 1e-50 | 1e-50 | NA | 0.4574510 | 2.204118 | 22194 | 50 | ASTARR | 0.1875 |\n",
       "| POLR2A | 1e-50 | 1e-50 | NA | 0.4943616 | 2.380848 | 17945 | 50 | ASTARR | 0.2500 |\n",
       "| REST   | 1e-50 | 1e-50 | NA | 0.5260944 | 2.534823 | 14306 | 50 | ASTARR | 0.3125 |\n",
       "| YY1    | 1e-50 | 1e-50 | NA | 0.5434324 | 2.618104 | 20494 | 50 | ASTARR | 0.3750 |\n",
       "\n"
      ],
      "text/plain": [
       "  pathway pval  padj  log2err ES        NES      size  nlogP Assay  Rank  \n",
       "1 CTCF    1e-50 1e-50 NA      0.2662526 1.284943 37780 50    ASTARR 0.0625\n",
       "2 SP1     1e-50 1e-50 NA      0.4052435 1.948436  9048 50    ASTARR 0.1250\n",
       "3 NRF1    1e-50 1e-50 NA      0.4574510 2.204118 22194 50    ASTARR 0.1875\n",
       "4 POLR2A  1e-50 1e-50 NA      0.4943616 2.380848 17945 50    ASTARR 0.2500\n",
       "5 REST    1e-50 1e-50 NA      0.5260944 2.534823 14306 50    ASTARR 0.3125\n",
       "6 YY1     1e-50 1e-50 NA      0.5434324 2.618104 20494 50    ASTARR 0.3750"
      ]
     },
     "metadata": {},
     "output_type": "display_data"
    }
   ],
   "source": [
    "tmp = dat %>% \n",
    "    group_by(Assay) %>% \n",
    "    mutate(Rank = rank(NES)/length(NES))\n",
    "head(tmp)"
   ]
  },
  {
   "cell_type": "code",
   "execution_count": 87,
   "metadata": {},
   "outputs": [
    {
     "data": {
      "image/png": "[encoded data removed]",
      "text/plain": [
       "plot without title"
      ]
     },
     "metadata": {
      "image/png": {
       "height": 420,
       "width": 360
      }
     },
     "output_type": "display_data"
    }
   ],
   "source": [
    "theme_fill = scale_fill_gradient2(\n",
    "    low  = \"#4575b4\",\n",
    "    mid  = \"#ffffbf\",\n",
    "    high = \"#d73027\",\n",
    "    midpoint = 0.5\n",
    ")\n",
    "\n",
    "dat = tmp\n",
    "gpt = ggplot(dat, aes(x=Assay, y=pathway, fill=Rank)) + \n",
    "    geom_tile() + \n",
    "    theme_cowplot() +\n",
    "    theme_fill\n",
    "print(gpt)"
   ]
  },
  {
   "cell_type": "code",
   "execution_count": null,
   "metadata": {},
   "outputs": [],
   "source": []
  },
  {
   "cell_type": "code",
   "execution_count": null,
   "metadata": {},
   "outputs": [],
   "source": []
  },
  {
   "cell_type": "code",
   "execution_count": null,
   "metadata": {},
   "outputs": [],
   "source": []
  },
  {
   "cell_type": "code",
   "execution_count": 53,
   "metadata": {},
   "outputs": [],
   "source": [
    "lst = lapply(lst_score, function(vec_score){\n",
    "    set.seed(123)\n",
    "    res = fgsea(\n",
    "        pathways  = lst_annot, \n",
    "        stats     = vec_score,\n",
    "        scoreType = \"pos\",\n",
    "        #eps       = 0.0,\n",
    "        #minSize   = 15,\n",
    "        #maxSize   = 500\n",
    "    )\n",
    "})\n",
    "\n",
    "dat = bind_rows(lst, .id = \"Assay\")\n",
    "dat = dat %>% \n",
    "    dplyr::select(Assay, pathway, pval, padj, log2err, ES, NES, size) %>%\n",
    "    dplyr::mutate(nlogP = -log10(padj))\n",
    "    \n",
    "dat_fgsea = dat\n",
    "print(dim(dat))\n",
    "head(dat)"
   ]
  },
  {
   "cell_type": "code",
   "execution_count": null,
   "metadata": {},
   "outputs": [],
   "source": [
    "theme_fill = scale_fill_gradient(low = \"#fcbba1\", high = \"#cb181d\")\n",
    "\n",
    "dat = dat_fgsea\n",
    "gpt = ggplot(dat, aes(x=Assay, y=pathway, fill=NES)) + \n",
    "    geom_tile() + \n",
    "    theme_cowplot() +\n",
    "    theme_fill\n",
    "print(gpt)"
   ]
  },
  {
   "cell_type": "code",
   "execution_count": 54,
   "metadata": {},
   "outputs": [
    {
     "name": "stdout",
     "output_type": "stream",
     "text": [
      "[1] 1\n"
     ]
    }
   ],
   "source": [
    "print(1)"
   ]
  },
  {
   "cell_type": "code",
   "execution_count": null,
   "metadata": {},
   "outputs": [],
   "source": []
  },
  {
   "cell_type": "code",
   "execution_count": 51,
   "metadata": {},
   "outputs": [
    {
     "data": {
      "text/html": [
       "<table class=\"dataframe\">\n",
       "<caption>A tibble: 6 × 9</caption>\n",
       "<thead>\n",
       "\t<tr><th scope=col>Assay</th><th scope=col>Peak</th><th scope=col>baseMean</th><th scope=col>log2FoldChange</th><th scope=col>lfcSE</th><th scope=col>stat</th><th scope=col>pvalue</th><th scope=col>padj</th><th scope=col>Dataset</th></tr>\n",
       "\t<tr><th scope=col>&lt;chr&gt;</th><th scope=col>&lt;chr&gt;</th><th scope=col>&lt;dbl&gt;</th><th scope=col>&lt;dbl&gt;</th><th scope=col>&lt;dbl&gt;</th><th scope=col>&lt;dbl&gt;</th><th scope=col>&lt;dbl&gt;</th><th scope=col>&lt;dbl&gt;</th><th scope=col>&lt;chr&gt;</th></tr>\n",
       "</thead>\n",
       "<tbody>\n",
       "\t<tr><td>ASTARR</td><td>chr1_100006256_100006880</td><td> 74.39238</td><td>-0.01311792</td><td>0.15512423</td><td>-0.08456397</td><td>9.326080e-01</td><td>0.9510236543</td><td>NA</td></tr>\n",
       "\t<tr><td>ASTARR</td><td>chr1_100010437_100010915</td><td> 48.25931</td><td>-0.80687947</td><td>0.22174651</td><td>-3.63874709</td><td>2.739677e-04</td><td>0.0008947519</td><td>NA</td></tr>\n",
       "\t<tr><td>ASTARR</td><td>chr1_10002087_10003910  </td><td>224.35927</td><td>-0.34892859</td><td>0.09743886</td><td>-3.58100041</td><td>3.422811e-04</td><td>0.0010926173</td><td>NA</td></tr>\n",
       "\t<tr><td>ASTARR</td><td>chr1_100021298_100021629</td><td> 38.13434</td><td>-1.03799571</td><td>0.25401013</td><td>-4.08643436</td><td>4.380534e-05</td><td>0.0001707736</td><td>NA</td></tr>\n",
       "\t<tr><td>ASTARR</td><td>chr1_100023727_100023976</td><td> 32.62049</td><td>-0.19100207</td><td>0.25625467</td><td>-0.74536036</td><td>4.560539e-01</td><td>0.5497617125</td><td>NA</td></tr>\n",
       "\t<tr><td>ASTARR</td><td>chr1_100027983_100029702</td><td>290.98442</td><td>-0.18001582</td><td>0.09610434</td><td>-1.87312902</td><td>6.105057e-02</td><td>0.1032752224</td><td>NA</td></tr>\n",
       "</tbody>\n",
       "</table>\n"
      ],
      "text/latex": [
       "A tibble: 6 × 9\n",
       "\\begin{tabular}{lllllllll}\n",
       " Assay & Peak & baseMean & log2FoldChange & lfcSE & stat & pvalue & padj & Dataset\\\\\n",
       " <chr> & <chr> & <dbl> & <dbl> & <dbl> & <dbl> & <dbl> & <dbl> & <chr>\\\\\n",
       "\\hline\n",
       "\t ASTARR & chr1\\_100006256\\_100006880 &  74.39238 & -0.01311792 & 0.15512423 & -0.08456397 & 9.326080e-01 & 0.9510236543 & NA\\\\\n",
       "\t ASTARR & chr1\\_100010437\\_100010915 &  48.25931 & -0.80687947 & 0.22174651 & -3.63874709 & 2.739677e-04 & 0.0008947519 & NA\\\\\n",
       "\t ASTARR & chr1\\_10002087\\_10003910   & 224.35927 & -0.34892859 & 0.09743886 & -3.58100041 & 3.422811e-04 & 0.0010926173 & NA\\\\\n",
       "\t ASTARR & chr1\\_100021298\\_100021629 &  38.13434 & -1.03799571 & 0.25401013 & -4.08643436 & 4.380534e-05 & 0.0001707736 & NA\\\\\n",
       "\t ASTARR & chr1\\_100023727\\_100023976 &  32.62049 & -0.19100207 & 0.25625467 & -0.74536036 & 4.560539e-01 & 0.5497617125 & NA\\\\\n",
       "\t ASTARR & chr1\\_100027983\\_100029702 & 290.98442 & -0.18001582 & 0.09610434 & -1.87312902 & 6.105057e-02 & 0.1032752224 & NA\\\\\n",
       "\\end{tabular}\n"
      ],
      "text/markdown": [
       "\n",
       "A tibble: 6 × 9\n",
       "\n",
       "| Assay &lt;chr&gt; | Peak &lt;chr&gt; | baseMean &lt;dbl&gt; | log2FoldChange &lt;dbl&gt; | lfcSE &lt;dbl&gt; | stat &lt;dbl&gt; | pvalue &lt;dbl&gt; | padj &lt;dbl&gt; | Dataset &lt;chr&gt; |\n",
       "|---|---|---|---|---|---|---|---|---|\n",
       "| ASTARR | chr1_100006256_100006880 |  74.39238 | -0.01311792 | 0.15512423 | -0.08456397 | 9.326080e-01 | 0.9510236543 | NA |\n",
       "| ASTARR | chr1_100010437_100010915 |  48.25931 | -0.80687947 | 0.22174651 | -3.63874709 | 2.739677e-04 | 0.0008947519 | NA |\n",
       "| ASTARR | chr1_10002087_10003910   | 224.35927 | -0.34892859 | 0.09743886 | -3.58100041 | 3.422811e-04 | 0.0010926173 | NA |\n",
       "| ASTARR | chr1_100021298_100021629 |  38.13434 | -1.03799571 | 0.25401013 | -4.08643436 | 4.380534e-05 | 0.0001707736 | NA |\n",
       "| ASTARR | chr1_100023727_100023976 |  32.62049 | -0.19100207 | 0.25625467 | -0.74536036 | 4.560539e-01 | 0.5497617125 | NA |\n",
       "| ASTARR | chr1_100027983_100029702 | 290.98442 | -0.18001582 | 0.09610434 | -1.87312902 | 6.105057e-02 | 0.1032752224 | NA |\n",
       "\n"
      ],
      "text/plain": [
       "  Assay  Peak                     baseMean  log2FoldChange lfcSE     \n",
       "1 ASTARR chr1_100006256_100006880  74.39238 -0.01311792    0.15512423\n",
       "2 ASTARR chr1_100010437_100010915  48.25931 -0.80687947    0.22174651\n",
       "3 ASTARR chr1_10002087_10003910   224.35927 -0.34892859    0.09743886\n",
       "4 ASTARR chr1_100021298_100021629  38.13434 -1.03799571    0.25401013\n",
       "5 ASTARR chr1_100023727_100023976  32.62049 -0.19100207    0.25625467\n",
       "6 ASTARR chr1_100027983_100029702 290.98442 -0.18001582    0.09610434\n",
       "  stat        pvalue       padj         Dataset\n",
       "1 -0.08456397 9.326080e-01 0.9510236543 NA     \n",
       "2 -3.63874709 2.739677e-04 0.0008947519 NA     \n",
       "3 -3.58100041 3.422811e-04 0.0010926173 NA     \n",
       "4 -4.08643436 4.380534e-05 0.0001707736 NA     \n",
       "5 -0.74536036 4.560539e-01 0.5497617125 NA     \n",
       "6 -1.87312902 6.105057e-02 0.1032752224 NA     "
      ]
     },
     "metadata": {},
     "output_type": "display_data"
    }
   ],
   "source": [
    "dat = dat_peak_deseq_starrmpra\n",
    "head(dat)"
   ]
  },
  {
   "cell_type": "code",
   "execution_count": 20,
   "metadata": {},
   "outputs": [
    {
     "data": {
      "text/html": [
       "<table class=\"dataframe\">\n",
       "<caption>A tibble: 6 × 2</caption>\n",
       "<thead>\n",
       "\t<tr><th scope=col>Peak</th><th scope=col>Log2FC</th></tr>\n",
       "\t<tr><th scope=col>&lt;chr&gt;</th><th scope=col>&lt;dbl&gt;</th></tr>\n",
       "</thead>\n",
       "<tbody>\n",
       "\t<tr><td>chr11_4539569_4540043</td><td> 0.14501695</td></tr>\n",
       "\t<tr><td>chr11_4551336_4552012</td><td> 0.32125162</td></tr>\n",
       "\t<tr><td>chr11_4553969_4555012</td><td> 0.14529397</td></tr>\n",
       "\t<tr><td>chr11_4569016_4569992</td><td> 0.01136464</td></tr>\n",
       "\t<tr><td>chr11_4577444_4578031</td><td> 0.24524353</td></tr>\n",
       "\t<tr><td>chr11_4601808_4602487</td><td>-0.57215284</td></tr>\n",
       "</tbody>\n",
       "</table>\n"
      ],
      "text/latex": [
       "A tibble: 6 × 2\n",
       "\\begin{tabular}{ll}\n",
       " Peak & Log2FC\\\\\n",
       " <chr> & <dbl>\\\\\n",
       "\\hline\n",
       "\t chr11\\_4539569\\_4540043 &  0.14501695\\\\\n",
       "\t chr11\\_4551336\\_4552012 &  0.32125162\\\\\n",
       "\t chr11\\_4553969\\_4555012 &  0.14529397\\\\\n",
       "\t chr11\\_4569016\\_4569992 &  0.01136464\\\\\n",
       "\t chr11\\_4577444\\_4578031 &  0.24524353\\\\\n",
       "\t chr11\\_4601808\\_4602487 & -0.57215284\\\\\n",
       "\\end{tabular}\n"
      ],
      "text/markdown": [
       "\n",
       "A tibble: 6 × 2\n",
       "\n",
       "| Peak &lt;chr&gt; | Log2FC &lt;dbl&gt; |\n",
       "|---|---|\n",
       "| chr11_4539569_4540043 |  0.14501695 |\n",
       "| chr11_4551336_4552012 |  0.32125162 |\n",
       "| chr11_4553969_4555012 |  0.14529397 |\n",
       "| chr11_4569016_4569992 |  0.01136464 |\n",
       "| chr11_4577444_4578031 |  0.24524353 |\n",
       "| chr11_4601808_4602487 | -0.57215284 |\n",
       "\n"
      ],
      "text/plain": [
       "  Peak                  Log2FC     \n",
       "1 chr11_4539569_4540043  0.14501695\n",
       "2 chr11_4551336_4552012  0.32125162\n",
       "3 chr11_4553969_4555012  0.14529397\n",
       "4 chr11_4569016_4569992  0.01136464\n",
       "5 chr11_4577444_4578031  0.24524353\n",
       "6 chr11_4601808_4602487 -0.57215284"
      ]
     },
     "metadata": {},
     "output_type": "display_data"
    }
   ],
   "source": [
    "dat = dat %>%\n",
    "    dplyr::select(Peak, Log2FC)\n",
    "head(dat)"
   ]
  },
  {
   "cell_type": "code",
   "execution_count": null,
   "metadata": {},
   "outputs": [],
   "source": []
  },
  {
   "cell_type": "code",
   "execution_count": null,
   "metadata": {},
   "outputs": [],
   "source": []
  },
  {
   "cell_type": "code",
   "execution_count": null,
   "metadata": {},
   "outputs": [],
   "source": []
  },
  {
   "cell_type": "code",
   "execution_count": null,
   "metadata": {},
   "outputs": [],
   "source": []
  },
  {
   "cell_type": "code",
   "execution_count": null,
   "metadata": {},
   "outputs": [],
   "source": []
  },
  {
   "cell_type": "code",
   "execution_count": 8,
   "metadata": {},
   "outputs": [
    {
     "data": {
      "text/html": [
       "<table class=\"dataframe\">\n",
       "<caption>A tibble: 6 × 2</caption>\n",
       "<thead>\n",
       "\t<tr><th scope=col>Peak</th><th scope=col>RankNorm</th></tr>\n",
       "\t<tr><th scope=col>&lt;chr&gt;</th><th scope=col>&lt;dbl&gt;</th></tr>\n",
       "</thead>\n",
       "<tbody>\n",
       "\t<tr><td>chrX_48996933_48997220  </td><td>0.002129307</td></tr>\n",
       "\t<tr><td>chr8_128298518_128298762</td><td>0.009291521</td></tr>\n",
       "\t<tr><td>chr8_128242220_128242507</td><td>0.039876113</td></tr>\n",
       "\t<tr><td>chr11_34024311_34024546 </td><td>0.040456833</td></tr>\n",
       "\t<tr><td>chr8_128189792_128190210</td><td>0.041231127</td></tr>\n",
       "\t<tr><td>chr20_56703281_56703575 </td><td>0.048199768</td></tr>\n",
       "</tbody>\n",
       "</table>\n"
      ],
      "text/latex": [
       "A tibble: 6 × 2\n",
       "\\begin{tabular}{ll}\n",
       " Peak & RankNorm\\\\\n",
       " <chr> & <dbl>\\\\\n",
       "\\hline\n",
       "\t chrX\\_48996933\\_48997220   & 0.002129307\\\\\n",
       "\t chr8\\_128298518\\_128298762 & 0.009291521\\\\\n",
       "\t chr8\\_128242220\\_128242507 & 0.039876113\\\\\n",
       "\t chr11\\_34024311\\_34024546  & 0.040456833\\\\\n",
       "\t chr8\\_128189792\\_128190210 & 0.041231127\\\\\n",
       "\t chr20\\_56703281\\_56703575  & 0.048199768\\\\\n",
       "\\end{tabular}\n"
      ],
      "text/markdown": [
       "\n",
       "A tibble: 6 × 2\n",
       "\n",
       "| Peak &lt;chr&gt; | RankNorm &lt;dbl&gt; |\n",
       "|---|---|\n",
       "| chrX_48996933_48997220   | 0.002129307 |\n",
       "| chr8_128298518_128298762 | 0.009291521 |\n",
       "| chr8_128242220_128242507 | 0.039876113 |\n",
       "| chr11_34024311_34024546  | 0.040456833 |\n",
       "| chr8_128189792_128190210 | 0.041231127 |\n",
       "| chr20_56703281_56703575  | 0.048199768 |\n",
       "\n"
      ],
      "text/plain": [
       "  Peak                     RankNorm   \n",
       "1 chrX_48996933_48997220   0.002129307\n",
       "2 chr8_128298518_128298762 0.009291521\n",
       "3 chr8_128242220_128242507 0.039876113\n",
       "4 chr11_34024311_34024546  0.040456833\n",
       "5 chr8_128189792_128190210 0.041231127\n",
       "6 chr20_56703281_56703575  0.048199768"
      ]
     },
     "metadata": {},
     "output_type": "display_data"
    }
   ],
   "source": [
    "dat = dat_peak_log2fc\n",
    "dat = dat %>% \n",
    "    dplyr::group_by(Peak) %>% \n",
    "    dplyr::summarise(\n",
    "        RankNorm = mean(RankNorm_Total),\n",
    "        .groups  = \"drop\") %>%\n",
    "    dplyr::arrange(RankNorm)\n",
    "\n",
    "head(dat)"
   ]
  },
  {
   "cell_type": "code",
   "execution_count": 9,
   "metadata": {},
   "outputs": [
    {
     "name": "stdout",
     "output_type": "stream",
     "text": [
      "[1] 1722\n",
      "  chrX_48996933_48997220 chr8_128298518_128298762 chr8_128242220_128242507 \n",
      "             0.002129307              0.009291521              0.039876113 \n",
      " chr11_34024311_34024546 chr8_128189792_128190210  chr20_56703281_56703575 \n",
      "             0.040456833              0.041231127              0.048199768 \n"
     ]
    }
   ],
   "source": [
    "dat = dat_peak_log2fc\n",
    "dat = dat %>% \n",
    "    dplyr::group_by(Peak) %>% \n",
    "    dplyr::summarise(\n",
    "        RankNorm = mean(RankNorm_Total),\n",
    "        .groups  = \"drop\") %>%\n",
    "    dplyr::arrange(RankNorm)\n",
    "\n",
    "vec = dat$RankNorm\n",
    "names(vec) = dat$Peak\n",
    "\n",
    "vec_peak = vec\n",
    "print(length(vec))\n",
    "print(head(vec))"
   ]
  },
  {
   "cell_type": "code",
   "execution_count": null,
   "metadata": {},
   "outputs": [],
   "source": []
  },
  {
   "cell_type": "code",
   "execution_count": null,
   "metadata": {},
   "outputs": [],
   "source": []
  },
  {
   "cell_type": "code",
   "execution_count": null,
   "metadata": {},
   "outputs": [],
   "source": []
  },
  {
   "cell_type": "code",
   "execution_count": 37,
   "metadata": {},
   "outputs": [
    {
     "name": "stderr",
     "output_type": "stream",
     "text": [
      "Warning message in preparePathwaysAndStats(pathways, stats, minSize, maxSize, gseaParam, :\n",
      "“There are ties in the preranked stats (13.24% of the list).\n",
      "The order of those tied genes will be arbitrary, which may produce unexpected results.”\n"
     ]
    },
    {
     "name": "stdout",
     "output_type": "stream",
     "text": [
      "[1] \"data.table\" \"data.frame\"\n"
     ]
    }
   ],
   "source": [
    "set.seed(42)\n",
    "fgseaRes = fgsea(pathways  = lst_annot, \n",
    "                 stats     = vec_peak,\n",
    "                 eps       = 0.0,\n",
    "                 #minSize   = 15,\n",
    "                 #maxSize   = 500,\n",
    "                 scoreType = \"pos\"\n",
    "                )\n",
    "\n",
    "print(class(fgseaRes))"
   ]
  },
  {
   "cell_type": "code",
   "execution_count": 38,
   "metadata": {},
   "outputs": [
    {
     "data": {
      "text/html": [
       "<table class=\"dataframe\">\n",
       "<caption>A data.table: 6 × 8</caption>\n",
       "<thead>\n",
       "\t<tr><th scope=col>pathway</th><th scope=col>pval</th><th scope=col>padj</th><th scope=col>log2err</th><th scope=col>ES</th><th scope=col>NES</th><th scope=col>size</th><th scope=col>nlogP</th></tr>\n",
       "\t<tr><th scope=col>&lt;chr&gt;</th><th scope=col>&lt;dbl&gt;</th><th scope=col>&lt;dbl&gt;</th><th scope=col>&lt;dbl&gt;</th><th scope=col>&lt;dbl&gt;</th><th scope=col>&lt;dbl&gt;</th><th scope=col>&lt;int&gt;</th><th scope=col>&lt;dbl&gt;</th></tr>\n",
       "</thead>\n",
       "<tbody>\n",
       "\t<tr><td>ATF1 </td><td>4.059398e-50</td><td>4.465337e-49</td><td>1.8484619</td><td>0.6442070</td><td>3.211073</td><td>217</td><td>48.350146</td></tr>\n",
       "\t<tr><td>CTCF </td><td>6.775370e-11</td><td>7.452907e-11</td><td>0.8390889</td><td>0.3822657</td><td>1.938757</td><td>283</td><td>10.127674</td></tr>\n",
       "\t<tr><td>ELK1 </td><td>4.271464e-12</td><td>5.873263e-12</td><td>0.8870750</td><td>0.7584162</td><td>2.893149</td><td> 25</td><td>11.231121</td></tr>\n",
       "\t<tr><td>JUN  </td><td>6.994925e-32</td><td>1.923604e-31</td><td>1.4675240</td><td>0.6315832</td><td>3.029299</td><td>141</td><td>30.715884</td></tr>\n",
       "\t<tr><td>KLF10</td><td>6.506648e-03</td><td>6.506648e-03</td><td>0.4070179</td><td>0.6597818</td><td>1.902143</td><td>  7</td><td> 2.186643</td></tr>\n",
       "\t<tr><td>KLF16</td><td>1.583219e-16</td><td>2.487915e-16</td><td>1.0476265</td><td>0.5259766</td><td>2.494206</td><td>128</td><td>15.604164</td></tr>\n",
       "</tbody>\n",
       "</table>\n"
      ],
      "text/latex": [
       "A data.table: 6 × 8\n",
       "\\begin{tabular}{llllllll}\n",
       " pathway & pval & padj & log2err & ES & NES & size & nlogP\\\\\n",
       " <chr> & <dbl> & <dbl> & <dbl> & <dbl> & <dbl> & <int> & <dbl>\\\\\n",
       "\\hline\n",
       "\t ATF1  & 4.059398e-50 & 4.465337e-49 & 1.8484619 & 0.6442070 & 3.211073 & 217 & 48.350146\\\\\n",
       "\t CTCF  & 6.775370e-11 & 7.452907e-11 & 0.8390889 & 0.3822657 & 1.938757 & 283 & 10.127674\\\\\n",
       "\t ELK1  & 4.271464e-12 & 5.873263e-12 & 0.8870750 & 0.7584162 & 2.893149 &  25 & 11.231121\\\\\n",
       "\t JUN   & 6.994925e-32 & 1.923604e-31 & 1.4675240 & 0.6315832 & 3.029299 & 141 & 30.715884\\\\\n",
       "\t KLF10 & 6.506648e-03 & 6.506648e-03 & 0.4070179 & 0.6597818 & 1.902143 &   7 &  2.186643\\\\\n",
       "\t KLF16 & 1.583219e-16 & 2.487915e-16 & 1.0476265 & 0.5259766 & 2.494206 & 128 & 15.604164\\\\\n",
       "\\end{tabular}\n"
      ],
      "text/markdown": [
       "\n",
       "A data.table: 6 × 8\n",
       "\n",
       "| pathway &lt;chr&gt; | pval &lt;dbl&gt; | padj &lt;dbl&gt; | log2err &lt;dbl&gt; | ES &lt;dbl&gt; | NES &lt;dbl&gt; | size &lt;int&gt; | nlogP &lt;dbl&gt; |\n",
       "|---|---|---|---|---|---|---|---|\n",
       "| ATF1  | 4.059398e-50 | 4.465337e-49 | 1.8484619 | 0.6442070 | 3.211073 | 217 | 48.350146 |\n",
       "| CTCF  | 6.775370e-11 | 7.452907e-11 | 0.8390889 | 0.3822657 | 1.938757 | 283 | 10.127674 |\n",
       "| ELK1  | 4.271464e-12 | 5.873263e-12 | 0.8870750 | 0.7584162 | 2.893149 |  25 | 11.231121 |\n",
       "| JUN   | 6.994925e-32 | 1.923604e-31 | 1.4675240 | 0.6315832 | 3.029299 | 141 | 30.715884 |\n",
       "| KLF10 | 6.506648e-03 | 6.506648e-03 | 0.4070179 | 0.6597818 | 1.902143 |   7 |  2.186643 |\n",
       "| KLF16 | 1.583219e-16 | 2.487915e-16 | 1.0476265 | 0.5259766 | 2.494206 | 128 | 15.604164 |\n",
       "\n"
      ],
      "text/plain": [
       "  pathway pval         padj         log2err   ES        NES      size nlogP    \n",
       "1 ATF1    4.059398e-50 4.465337e-49 1.8484619 0.6442070 3.211073 217  48.350146\n",
       "2 CTCF    6.775370e-11 7.452907e-11 0.8390889 0.3822657 1.938757 283  10.127674\n",
       "3 ELK1    4.271464e-12 5.873263e-12 0.8870750 0.7584162 2.893149  25  11.231121\n",
       "4 JUN     6.994925e-32 1.923604e-31 1.4675240 0.6315832 3.029299 141  30.715884\n",
       "5 KLF10   6.506648e-03 6.506648e-03 0.4070179 0.6597818 1.902143   7   2.186643\n",
       "6 KLF16   1.583219e-16 2.487915e-16 1.0476265 0.5259766 2.494206 128  15.604164"
      ]
     },
     "metadata": {},
     "output_type": "display_data"
    }
   ],
   "source": [
    "dat = fgseaRes\n",
    "dat = dat %>% \n",
    "    dplyr::select(pathway, pval, padj, log2err, ES, NES, size) %>%\n",
    "    dplyr::mutate(nlogP = -log10(padj))"
   ]
  },
  {
   "cell_type": "code",
   "execution_count": 39,
   "metadata": {},
   "outputs": [],
   "source": [
    "theme_color = scale_colour_gradient(low = \"#fcbba1\", high = \"#cb181d\")\n",
    "\n",
    "theme_text = theme(\n",
    "        axis.text.x = element_text(size=15),\n",
    "        axis.text.y = element_text(size=15)\n",
    ")\n",
    "\n",
    "theme_grid = theme(\n",
    "    panel.grid.major.x = element_line(\n",
    "        color     = \"grey90\",\n",
    "        linewidth = 0.5,\n",
    "        linetype  = 1),\n",
    "    panel.grid.major.y = element_line(\n",
    "        color     = \"grey90\",\n",
    "        linewidth = 0.5,\n",
    "        linetype  = 1),\n",
    "    panel.grid.minor.y = element_line(\n",
    "        color     = \"grey90\",\n",
    "        linewidth = 0.5,\n",
    "        linetype  = 1)\n",
    ")"
   ]
  },
  {
   "cell_type": "code",
   "execution_count": 40,
   "metadata": {},
   "outputs": [
    {
     "data": {
      "image/png": "[encoded data removed]",
      "text/plain": [
       "plot without title"
      ]
     },
     "metadata": {
      "image/png": {
       "height": 300,
       "width": 480
      }
     },
     "output_type": "display_data"
    }
   ],
   "source": [
    "dat = fgseaRes\n",
    "dat = dat %>% \n",
    "    dplyr::select(pathway, pval, padj, log2err, ES, NES, size) %>%\n",
    "    dplyr::mutate(nlogP = -log10(padj)) %>%\n",
    "    dplyr::arrange(NES) %>%\n",
    "    dplyr::mutate(pathway = factor(pathway, levels=pathway))\n",
    "\n",
    "gpt = ggplot(dat, aes(x = NES, y=pathway, size=size, color=nlogP)) + \n",
    "    geom_point() + \n",
    "    scale_size(range = c(5, 10)) +\n",
    "    xlim(1, 4.0) +\n",
    "    labs(x = \"Normalized Enrichment Score\", y = \"\") +\n",
    "    theme_cowplot() +\n",
    "    theme_grid +\n",
    "    theme_text +\n",
    "    theme_color\n",
    "\n",
    "options(repr.plot.height=5, repr.plot.width=8)\n",
    "print(gpt)"
   ]
  },
  {
   "cell_type": "code",
   "execution_count": 47,
   "metadata": {},
   "outputs": [
    {
     "data": {
      "image/png": "[encoded data removed]",
      "text/plain": [
       "plot without title"
      ]
     },
     "metadata": {
      "image/png": {
       "height": 300,
       "width": 480
      }
     },
     "output_type": "display_data"
    }
   ],
   "source": [
    "dat = fgseaRes\n",
    "dat = dat %>% \n",
    "    dplyr::select(pathway, pval, padj, log2err, ES, NES, size) %>%\n",
    "    dplyr::mutate(nlogP = -log10(padj)) %>%\n",
    "    dplyr::arrange(nlogP) %>%\n",
    "    dplyr::mutate(pathway = factor(pathway, levels=pathway))\n",
    "\n",
    "gpt = ggplot(dat, aes(x = nlogP, y = pathway)) + \n",
    "    geom_col() +\n",
    "    labs(x = \"-log10(P-value)\", y = \"\") +\n",
    "    theme_cowplot() +\n",
    "    theme_grid +\n",
    "    theme_text\n",
    "\n",
    "options(repr.plot.height=5, repr.plot.width=8)\n",
    "print(gpt)"
   ]
  },
  {
   "cell_type": "code",
   "execution_count": 48,
   "metadata": {},
   "outputs": [
    {
     "data": {
      "text/html": [
       "<style>\n",
       ".list-inline {list-style: none; margin:0; padding: 0}\n",
       ".list-inline>li {display: inline-block}\n",
       ".list-inline>li:not(:last-child)::after {content: \"\\00b7\"; padding: 0 .5ex}\n",
       "</style>\n",
       "<ol class=list-inline><li>KLF10</li><li>CTCF</li><li>NFE2</li><li>ELK1</li><li>KLF16</li><li>SP1</li><li>POLR2A</li><li>JUN</li><li>NRF1</li><li>YY1</li><li>ATF1</li></ol>\n",
       "\n",
       "<details>\n",
       "\t<summary style=display:list-item;cursor:pointer>\n",
       "\t\t<strong>Levels</strong>:\n",
       "\t</summary>\n",
       "\t<style>\n",
       "\t.list-inline {list-style: none; margin:0; padding: 0}\n",
       "\t.list-inline>li {display: inline-block}\n",
       "\t.list-inline>li:not(:last-child)::after {content: \"\\00b7\"; padding: 0 .5ex}\n",
       "\t</style>\n",
       "\t<ol class=list-inline><li>'KLF10'</li><li>'CTCF'</li><li>'NFE2'</li><li>'ELK1'</li><li>'KLF16'</li><li>'SP1'</li><li>'POLR2A'</li><li>'JUN'</li><li>'NRF1'</li><li>'YY1'</li><li>'ATF1'</li></ol>\n",
       "</details>"
      ],
      "text/latex": [
       "\\begin{enumerate*}\n",
       "\\item KLF10\n",
       "\\item CTCF\n",
       "\\item NFE2\n",
       "\\item ELK1\n",
       "\\item KLF16\n",
       "\\item SP1\n",
       "\\item POLR2A\n",
       "\\item JUN\n",
       "\\item NRF1\n",
       "\\item YY1\n",
       "\\item ATF1\n",
       "\\end{enumerate*}\n",
       "\n",
       "\\emph{Levels}: \\begin{enumerate*}\n",
       "\\item 'KLF10'\n",
       "\\item 'CTCF'\n",
       "\\item 'NFE2'\n",
       "\\item 'ELK1'\n",
       "\\item 'KLF16'\n",
       "\\item 'SP1'\n",
       "\\item 'POLR2A'\n",
       "\\item 'JUN'\n",
       "\\item 'NRF1'\n",
       "\\item 'YY1'\n",
       "\\item 'ATF1'\n",
       "\\end{enumerate*}\n"
      ],
      "text/markdown": [
       "1. KLF10\n",
       "2. CTCF\n",
       "3. NFE2\n",
       "4. ELK1\n",
       "5. KLF16\n",
       "6. SP1\n",
       "7. POLR2A\n",
       "8. JUN\n",
       "9. NRF1\n",
       "10. YY1\n",
       "11. ATF1\n",
       "\n",
       "\n",
       "\n",
       "**Levels**: 1. 'KLF10'\n",
       "2. 'CTCF'\n",
       "3. 'NFE2'\n",
       "4. 'ELK1'\n",
       "5. 'KLF16'\n",
       "6. 'SP1'\n",
       "7. 'POLR2A'\n",
       "8. 'JUN'\n",
       "9. 'NRF1'\n",
       "10. 'YY1'\n",
       "11. 'ATF1'\n",
       "\n",
       "\n"
      ],
      "text/plain": [
       " [1] KLF10  CTCF   NFE2   ELK1   KLF16  SP1    POLR2A JUN    NRF1   YY1   \n",
       "[11] ATF1  \n",
       "Levels: KLF10 CTCF NFE2 ELK1 KLF16 SP1 POLR2A JUN NRF1 YY1 ATF1"
      ]
     },
     "metadata": {},
     "output_type": "display_data"
    }
   ],
   "source": [
    "dat$pathway"
   ]
  },
  {
   "cell_type": "code",
   "execution_count": null,
   "metadata": {},
   "outputs": [],
   "source": []
  }
 ],
 "metadata": {
  "kernelspec": {
   "display_name": "R",
   "language": "R",
   "name": "ir"
  },
  "language_info": {
   "codemirror_mode": "r",
   "file_extension": ".r",
   "mimetype": "text/x-r-source",
   "name": "R",
   "pygments_lexer": "r",
   "version": "4.3.0"
  }
 },
 "nbformat": 4,
 "nbformat_minor": 4
}
