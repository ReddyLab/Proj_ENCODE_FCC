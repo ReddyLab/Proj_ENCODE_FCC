{
 "cells": [
  {
   "cell_type": "markdown",
   "metadata": {},
   "source": [
    "**Set environment**"
   ]
  },
  {
   "cell_type": "code",
   "execution_count": 1,
   "metadata": {},
   "outputs": [
    {
     "name": "stdout",
     "output_type": "stream",
     "text": [
      "You are in Singularity: singularity_proj_encode_fcc \n",
      "BASE DIRECTORY (FD_BASE): /data/reddylab/Kuei \n",
      "WORK DIRECTORY (FD_WORK): /data/reddylab/Kuei/out \n",
      "CODE DIRECTORY (FD_CODE): /data/reddylab/Kuei/code \n",
      "PATH OF PROJECT (FD_PRJ): /data/reddylab/Kuei/code/Proj_CombEffect_ENCODE_FCC \n",
      "PATH OF RESULTS (FD_RES): /data/reddylab/Kuei/out/proj_combeffect_encode_fcc \n",
      "PATH OF LOG     (FD_LOG): /data/reddylab/Kuei/out/proj_combeffect_encode_fcc/log \n"
     ]
    }
   ],
   "source": [
    "suppressMessages(suppressWarnings(source(\"../config/config_sing.R\")))\n",
    "show_env()"
   ]
  },
  {
   "cell_type": "markdown",
   "metadata": {},
   "source": [
    "**Check data**"
   ]
  },
  {
   "cell_type": "code",
   "execution_count": 2,
   "metadata": {},
   "outputs": [
    {
     "data": {
      "text/html": [
       "<style>\n",
       ".list-inline {list-style: none; margin:0; padding: 0}\n",
       ".list-inline>li {display: inline-block}\n",
       ".list-inline>li:not(:last-child)::after {content: \"\\00b7\"; padding: 0 .5ex}\n",
       "</style>\n",
       "<ol class=list-inline><li>'A001_K562_WSTARRseq'</li><li>'comparison'</li><li>'CRISPRi_FlowFISH'</li><li>'CRISPRi_Growth_K562_Gersbach'</li><li>'hic_intact_K562_deep'</li><li>'hic_intact_K562_ENCSR479XDG'</li><li>'KS91_K562_ASTARRseq'</li><li>'LentiMPRA_K562_Nadav'</li><li>'region'</li><li>'Tewhey_K562_TileMPRA'</li></ol>\n"
      ],
      "text/latex": [
       "\\begin{enumerate*}\n",
       "\\item 'A001\\_K562\\_WSTARRseq'\n",
       "\\item 'comparison'\n",
       "\\item 'CRISPRi\\_FlowFISH'\n",
       "\\item 'CRISPRi\\_Growth\\_K562\\_Gersbach'\n",
       "\\item 'hic\\_intact\\_K562\\_deep'\n",
       "\\item 'hic\\_intact\\_K562\\_ENCSR479XDG'\n",
       "\\item 'KS91\\_K562\\_ASTARRseq'\n",
       "\\item 'LentiMPRA\\_K562\\_Nadav'\n",
       "\\item 'region'\n",
       "\\item 'Tewhey\\_K562\\_TileMPRA'\n",
       "\\end{enumerate*}\n"
      ],
      "text/markdown": [
       "1. 'A001_K562_WSTARRseq'\n",
       "2. 'comparison'\n",
       "3. 'CRISPRi_FlowFISH'\n",
       "4. 'CRISPRi_Growth_K562_Gersbach'\n",
       "5. 'hic_intact_K562_deep'\n",
       "6. 'hic_intact_K562_ENCSR479XDG'\n",
       "7. 'KS91_K562_ASTARRseq'\n",
       "8. 'LentiMPRA_K562_Nadav'\n",
       "9. 'region'\n",
       "10. 'Tewhey_K562_TileMPRA'\n",
       "\n",
       "\n"
      ],
      "text/plain": [
       " [1] \"A001_K562_WSTARRseq\"          \"comparison\"                  \n",
       " [3] \"CRISPRi_FlowFISH\"             \"CRISPRi_Growth_K562_Gersbach\"\n",
       " [5] \"hic_intact_K562_deep\"         \"hic_intact_K562_ENCSR479XDG\" \n",
       " [7] \"KS91_K562_ASTARRseq\"          \"LentiMPRA_K562_Nadav\"        \n",
       " [9] \"region\"                       \"Tewhey_K562_TileMPRA\"        "
      ]
     },
     "metadata": {},
     "output_type": "display_data"
    }
   ],
   "source": [
    "fdiry = file.path(FD_RES, \"results\")\n",
    "dir(fdiry)"
   ]
  },
  {
   "cell_type": "code",
   "execution_count": 3,
   "metadata": {},
   "outputs": [
    {
     "name": "stdout",
     "output_type": "stream",
     "text": [
      " [1] \"annotation_ccre\"                                                          \n",
      " [2] \"annotation_chipseq_histone\"                                               \n",
      " [3] \"annotation_chipseq_tf\"                                                    \n",
      " [4] \"annotation_chipseq_tf_subset\"                                             \n",
      " [5] \"annotation_chromHMM\"                                                      \n",
      " [6] \"annotation_crispri_hcrff\"                                                 \n",
      " [7] \"annotation_enhancer_junke\"                                                \n",
      " [8] \"annotation_enhancer_zscore_junke\"                                         \n",
      " [9] \"annotation_hic\"                                                           \n",
      "[10] \"annotation_tss_pol2\"                                                      \n",
      "[11] \"annotation_tss_pol2_span\"                                                 \n",
      "[12] \"description.tsv\"                                                          \n",
      "[13] \"enrichment_prepare_annot_chipseq_histone\"                                 \n",
      "[14] \"enrichment_prepare_annot_chipseq_tf\"                                      \n",
      "[15] \"enrichment_prepare_annot_chipseq_tf_subset\"                               \n",
      "[16] \"enrichment_prepare_annot_others\"                                          \n",
      "[17] \"enrichment_prepare_score_merge\"                                           \n",
      "[18] \"enrichment_prepare_score_split\"                                           \n",
      "[19] \"enrichment_results_merge\"                                                 \n",
      "[20] \"enrichment_results_merge_chipseq_tf\"                                      \n",
      "[21] \"enrichment_results_merge_chipseq_tf_subset\"                               \n",
      "[22] \"enrichment_results_split\"                                                 \n",
      "[23] \"enrichment_results_split_chipseq_tf\"                                      \n",
      "[24] \"enrichment_results_split_chipseq_tf_subset\"                               \n",
      "[25] \"KS91_K562_hg38_ASTARRseq_Input.all_reps.masked.union_narrowPeak.q5.bed\"   \n",
      "[26] \"KS91_K562_hg38_ASTARRseq_Input.all_reps.masked.union_narrowPeak.q5.bed.gz\"\n",
      "[27] \"summary\"                                                                  \n",
      "[28] \"tmp\"                                                                      \n",
      "[29] \"z_summary\"                                                                \n",
      "[30] \"z_summary_score\"                                                          \n"
     ]
    }
   ],
   "source": [
    "fdiry = file.path(FD_RES, \"results\", \"region\", \"KS91_K562_ASTARRseq_peak_macs_input\")\n",
    "print(dir(fdiry))"
   ]
  },
  {
   "cell_type": "markdown",
   "metadata": {},
   "source": [
    "## Import data"
   ]
  },
  {
   "cell_type": "code",
   "execution_count": 5,
   "metadata": {},
   "outputs": [
    {
     "name": "stdout",
     "output_type": "stream",
     "text": [
      "[1] 495260      9\n"
     ]
    },
    {
     "data": {
      "text/html": [
       "<table class=\"dataframe\">\n",
       "<caption>A tibble: 6 × 9</caption>\n",
       "<thead>\n",
       "\t<tr><th scope=col>Assay</th><th scope=col>Peak</th><th scope=col>baseMean</th><th scope=col>log2FoldChange</th><th scope=col>lfcSE</th><th scope=col>stat</th><th scope=col>pvalue</th><th scope=col>padj</th><th scope=col>Dataset</th></tr>\n",
       "\t<tr><th scope=col>&lt;chr&gt;</th><th scope=col>&lt;chr&gt;</th><th scope=col>&lt;dbl&gt;</th><th scope=col>&lt;dbl&gt;</th><th scope=col>&lt;dbl&gt;</th><th scope=col>&lt;dbl&gt;</th><th scope=col>&lt;dbl&gt;</th><th scope=col>&lt;dbl&gt;</th><th scope=col>&lt;chr&gt;</th></tr>\n",
       "</thead>\n",
       "<tbody>\n",
       "\t<tr><td>ASTARR</td><td>chr1:100006256-100006880</td><td> 74.39238</td><td>-0.01311792</td><td>0.15512423</td><td>-0.08456397</td><td>9.326080e-01</td><td>0.9510236543</td><td>NA</td></tr>\n",
       "\t<tr><td>ASTARR</td><td>chr1:100010437-100010915</td><td> 48.25931</td><td>-0.80687947</td><td>0.22174651</td><td>-3.63874709</td><td>2.739677e-04</td><td>0.0008947519</td><td>NA</td></tr>\n",
       "\t<tr><td>ASTARR</td><td>chr1:10002087-10003910  </td><td>224.35927</td><td>-0.34892859</td><td>0.09743886</td><td>-3.58100041</td><td>3.422811e-04</td><td>0.0010926173</td><td>NA</td></tr>\n",
       "\t<tr><td>ASTARR</td><td>chr1:100021298-100021629</td><td> 38.13434</td><td>-1.03799571</td><td>0.25401013</td><td>-4.08643436</td><td>4.380534e-05</td><td>0.0001707736</td><td>NA</td></tr>\n",
       "\t<tr><td>ASTARR</td><td>chr1:100023727-100023976</td><td> 32.62049</td><td>-0.19100207</td><td>0.25625467</td><td>-0.74536036</td><td>4.560539e-01</td><td>0.5497617125</td><td>NA</td></tr>\n",
       "\t<tr><td>ASTARR</td><td>chr1:100027983-100029702</td><td>290.98442</td><td>-0.18001582</td><td>0.09610434</td><td>-1.87312902</td><td>6.105057e-02</td><td>0.1032752224</td><td>NA</td></tr>\n",
       "</tbody>\n",
       "</table>\n"
      ],
      "text/latex": [
       "A tibble: 6 × 9\n",
       "\\begin{tabular}{lllllllll}\n",
       " Assay & Peak & baseMean & log2FoldChange & lfcSE & stat & pvalue & padj & Dataset\\\\\n",
       " <chr> & <chr> & <dbl> & <dbl> & <dbl> & <dbl> & <dbl> & <dbl> & <chr>\\\\\n",
       "\\hline\n",
       "\t ASTARR & chr1:100006256-100006880 &  74.39238 & -0.01311792 & 0.15512423 & -0.08456397 & 9.326080e-01 & 0.9510236543 & NA\\\\\n",
       "\t ASTARR & chr1:100010437-100010915 &  48.25931 & -0.80687947 & 0.22174651 & -3.63874709 & 2.739677e-04 & 0.0008947519 & NA\\\\\n",
       "\t ASTARR & chr1:10002087-10003910   & 224.35927 & -0.34892859 & 0.09743886 & -3.58100041 & 3.422811e-04 & 0.0010926173 & NA\\\\\n",
       "\t ASTARR & chr1:100021298-100021629 &  38.13434 & -1.03799571 & 0.25401013 & -4.08643436 & 4.380534e-05 & 0.0001707736 & NA\\\\\n",
       "\t ASTARR & chr1:100023727-100023976 &  32.62049 & -0.19100207 & 0.25625467 & -0.74536036 & 4.560539e-01 & 0.5497617125 & NA\\\\\n",
       "\t ASTARR & chr1:100027983-100029702 & 290.98442 & -0.18001582 & 0.09610434 & -1.87312902 & 6.105057e-02 & 0.1032752224 & NA\\\\\n",
       "\\end{tabular}\n"
      ],
      "text/markdown": [
       "\n",
       "A tibble: 6 × 9\n",
       "\n",
       "| Assay &lt;chr&gt; | Peak &lt;chr&gt; | baseMean &lt;dbl&gt; | log2FoldChange &lt;dbl&gt; | lfcSE &lt;dbl&gt; | stat &lt;dbl&gt; | pvalue &lt;dbl&gt; | padj &lt;dbl&gt; | Dataset &lt;chr&gt; |\n",
       "|---|---|---|---|---|---|---|---|---|\n",
       "| ASTARR | chr1:100006256-100006880 |  74.39238 | -0.01311792 | 0.15512423 | -0.08456397 | 9.326080e-01 | 0.9510236543 | NA |\n",
       "| ASTARR | chr1:100010437-100010915 |  48.25931 | -0.80687947 | 0.22174651 | -3.63874709 | 2.739677e-04 | 0.0008947519 | NA |\n",
       "| ASTARR | chr1:10002087-10003910   | 224.35927 | -0.34892859 | 0.09743886 | -3.58100041 | 3.422811e-04 | 0.0010926173 | NA |\n",
       "| ASTARR | chr1:100021298-100021629 |  38.13434 | -1.03799571 | 0.25401013 | -4.08643436 | 4.380534e-05 | 0.0001707736 | NA |\n",
       "| ASTARR | chr1:100023727-100023976 |  32.62049 | -0.19100207 | 0.25625467 | -0.74536036 | 4.560539e-01 | 0.5497617125 | NA |\n",
       "| ASTARR | chr1:100027983-100029702 | 290.98442 | -0.18001582 | 0.09610434 | -1.87312902 | 6.105057e-02 | 0.1032752224 | NA |\n",
       "\n"
      ],
      "text/plain": [
       "  Assay  Peak                     baseMean  log2FoldChange lfcSE     \n",
       "1 ASTARR chr1:100006256-100006880  74.39238 -0.01311792    0.15512423\n",
       "2 ASTARR chr1:100010437-100010915  48.25931 -0.80687947    0.22174651\n",
       "3 ASTARR chr1:10002087-10003910   224.35927 -0.34892859    0.09743886\n",
       "4 ASTARR chr1:100021298-100021629  38.13434 -1.03799571    0.25401013\n",
       "5 ASTARR chr1:100023727-100023976  32.62049 -0.19100207    0.25625467\n",
       "6 ASTARR chr1:100027983-100029702 290.98442 -0.18001582    0.09610434\n",
       "  stat        pvalue       padj         Dataset\n",
       "1 -0.08456397 9.326080e-01 0.9510236543 NA     \n",
       "2 -3.63874709 2.739677e-04 0.0008947519 NA     \n",
       "3 -3.58100041 3.422811e-04 0.0010926173 NA     \n",
       "4 -4.08643436 4.380534e-05 0.0001707736 NA     \n",
       "5 -0.74536036 4.560539e-01 0.5497617125 NA     \n",
       "6 -1.87312902 6.105057e-02 0.1032752224 NA     "
      ]
     },
     "metadata": {},
     "output_type": "display_data"
    }
   ],
   "source": [
    "### init\n",
    "ASSAYS = c(\"KS91_K562_ASTARRseq\", \"A001_K562_WSTARRseq\", \"Tewhey_K562_TileMPRA\")\n",
    "LABELS = c(\"ASTARR\", \"WSTARR\", \"TMPRA\")\n",
    "FOLDER = \"coverage_astarrseq_peak_macs_input\"\n",
    "\n",
    "fnames = c(\n",
    "    \"result.Log2FC.raw.deseq.WGS.tsv\",\n",
    "    \"result.Log2FC.raw.deseq.WGS.tsv\",\n",
    "    \"result.Log2FC.raw.deseq.Merge.tsv\"\n",
    ")\n",
    "names(fnames) = ASSAYS\n",
    "\n",
    "### loop and import data\n",
    "lst = lapply(ASSAYS, function(ASSAY){\n",
    "    \n",
    "    ### set file directories\n",
    "    fdiry = file.path(FD_RES, \"results\", ASSAY, FOLDER, \"summary\")\n",
    "    fname = fnames[ASSAY]\n",
    "    fpath = file.path(fdiry, fname)\n",
    "\n",
    "    ### read data\n",
    "    dat = read_tsv(fpath, show_col_types = FALSE)\n",
    "    return(dat)\n",
    "})\n",
    "\n",
    "names(lst) = LABELS\n",
    "dat = bind_rows(lst, .id = \"Assay\")\n",
    "\n",
    "### assign and show\n",
    "dat_peak_deseq = dat\n",
    "print(dim(dat))\n",
    "head(dat)"
   ]
  },
  {
   "cell_type": "markdown",
   "metadata": {},
   "source": [
    "## Arrange"
   ]
  },
  {
   "cell_type": "code",
   "execution_count": 6,
   "metadata": {},
   "outputs": [
    {
     "name": "stdout",
     "output_type": "stream",
     "text": [
      "[1] 1722    4\n"
     ]
    },
    {
     "data": {
      "text/html": [
       "<table class=\"dataframe\">\n",
       "<caption>A tibble: 6 × 4</caption>\n",
       "<thead>\n",
       "\t<tr><th scope=col>Peak</th><th scope=col>ASTARR</th><th scope=col>TMPRA</th><th scope=col>WSTARR</th></tr>\n",
       "\t<tr><th scope=col>&lt;chr&gt;</th><th scope=col>&lt;dbl&gt;</th><th scope=col>&lt;dbl&gt;</th><th scope=col>&lt;dbl&gt;</th></tr>\n",
       "</thead>\n",
       "<tbody>\n",
       "\t<tr><td>chr11:32870601-32871324</td><td>-0.56726545</td><td>-0.7592992</td><td>-0.45442671</td></tr>\n",
       "\t<tr><td>chr11:32874343-32875070</td><td>-0.54920178</td><td>-0.4159155</td><td>-0.23994680</td></tr>\n",
       "\t<tr><td>chr11:32884749-32885822</td><td>-0.66011484</td><td> 0.2420861</td><td>-0.17415901</td></tr>\n",
       "\t<tr><td>chr11:32892099-32894437</td><td>-0.04192326</td><td> 0.9418955</td><td> 0.42636977</td></tr>\n",
       "\t<tr><td>chr11:32901572-32902485</td><td>-0.38438377</td><td>-0.8541150</td><td>-0.09841904</td></tr>\n",
       "\t<tr><td>chr11:32903491-32904506</td><td>-0.05446687</td><td>-0.7215339</td><td>-0.68078185</td></tr>\n",
       "</tbody>\n",
       "</table>\n"
      ],
      "text/latex": [
       "A tibble: 6 × 4\n",
       "\\begin{tabular}{llll}\n",
       " Peak & ASTARR & TMPRA & WSTARR\\\\\n",
       " <chr> & <dbl> & <dbl> & <dbl>\\\\\n",
       "\\hline\n",
       "\t chr11:32870601-32871324 & -0.56726545 & -0.7592992 & -0.45442671\\\\\n",
       "\t chr11:32874343-32875070 & -0.54920178 & -0.4159155 & -0.23994680\\\\\n",
       "\t chr11:32884749-32885822 & -0.66011484 &  0.2420861 & -0.17415901\\\\\n",
       "\t chr11:32892099-32894437 & -0.04192326 &  0.9418955 &  0.42636977\\\\\n",
       "\t chr11:32901572-32902485 & -0.38438377 & -0.8541150 & -0.09841904\\\\\n",
       "\t chr11:32903491-32904506 & -0.05446687 & -0.7215339 & -0.68078185\\\\\n",
       "\\end{tabular}\n"
      ],
      "text/markdown": [
       "\n",
       "A tibble: 6 × 4\n",
       "\n",
       "| Peak &lt;chr&gt; | ASTARR &lt;dbl&gt; | TMPRA &lt;dbl&gt; | WSTARR &lt;dbl&gt; |\n",
       "|---|---|---|---|\n",
       "| chr11:32870601-32871324 | -0.56726545 | -0.7592992 | -0.45442671 |\n",
       "| chr11:32874343-32875070 | -0.54920178 | -0.4159155 | -0.23994680 |\n",
       "| chr11:32884749-32885822 | -0.66011484 |  0.2420861 | -0.17415901 |\n",
       "| chr11:32892099-32894437 | -0.04192326 |  0.9418955 |  0.42636977 |\n",
       "| chr11:32901572-32902485 | -0.38438377 | -0.8541150 | -0.09841904 |\n",
       "| chr11:32903491-32904506 | -0.05446687 | -0.7215339 | -0.68078185 |\n",
       "\n"
      ],
      "text/plain": [
       "  Peak                    ASTARR      TMPRA      WSTARR     \n",
       "1 chr11:32870601-32871324 -0.56726545 -0.7592992 -0.45442671\n",
       "2 chr11:32874343-32875070 -0.54920178 -0.4159155 -0.23994680\n",
       "3 chr11:32884749-32885822 -0.66011484  0.2420861 -0.17415901\n",
       "4 chr11:32892099-32894437 -0.04192326  0.9418955  0.42636977\n",
       "5 chr11:32901572-32902485 -0.38438377 -0.8541150 -0.09841904\n",
       "6 chr11:32903491-32904506 -0.05446687 -0.7215339 -0.68078185"
      ]
     },
     "metadata": {},
     "output_type": "display_data"
    }
   ],
   "source": [
    "dat = dat_peak_deseq\n",
    "dat = dat %>%\n",
    "    dplyr::select(Assay, Peak, log2FoldChange) %>%\n",
    "    tidyr::spread(Assay, log2FoldChange) %>%\n",
    "    na.omit\n",
    "\n",
    "### assign and show\n",
    "dat_peak_log2fc = dat\n",
    "print(dim(dat))\n",
    "head(dat)"
   ]
  },
  {
   "cell_type": "markdown",
   "metadata": {},
   "source": [
    "## save table"
   ]
  },
  {
   "cell_type": "code",
   "execution_count": 7,
   "metadata": {},
   "outputs": [
    {
     "name": "stdout",
     "output_type": "stream",
     "text": [
      "[1] \"/data/reddylab/Kuei/out/proj_combeffect_encode_fcc/results/comparison/result.Log2FC.raw.deseq.starrmpra.tsv\"\n"
     ]
    }
   ],
   "source": [
    "### set file directories\n",
    "fdiry = file.path(FD_RES, \"results\", \"comparison\")\n",
    "fname = \"result.Log2FC.raw.deseq.starrmpra.tsv\"\n",
    "fpath = file.path(fdiry, fname)\n",
    "print(fpath)\n",
    "\n",
    "write_tsv(dat_peak_log2fc, fpath)"
   ]
  },
  {
   "cell_type": "code",
   "execution_count": null,
   "metadata": {},
   "outputs": [],
   "source": []
  }
 ],
 "metadata": {
  "kernelspec": {
   "display_name": "R",
   "language": "R",
   "name": "ir"
  },
  "language_info": {
   "codemirror_mode": "r",
   "file_extension": ".r",
   "mimetype": "text/x-r-source",
   "name": "R",
   "pygments_lexer": "r",
   "version": "4.3.1"
  }
 },
 "nbformat": 4,
 "nbformat_minor": 4
}
