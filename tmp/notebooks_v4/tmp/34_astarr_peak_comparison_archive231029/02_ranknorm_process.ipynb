{
 "cells": [
  {
   "cell_type": "markdown",
   "metadata": {},
   "source": [
    "**Set environment**"
   ]
  },
  {
   "cell_type": "code",
   "execution_count": 1,
   "metadata": {},
   "outputs": [
    {
     "name": "stdout",
     "output_type": "stream",
     "text": [
      "You are in Singularity: singularity_proj_encode_fcc \n",
      "BASE DIRECTORY (FD_BASE): /data/reddylab/Kuei \n",
      "WORK DIRECTORY (FD_WORK): /data/reddylab/Kuei/out \n",
      "CODE DIRECTORY (FD_CODE): /data/reddylab/Kuei/code \n",
      "PATH OF PROJECT (FD_PRJ): /data/reddylab/Kuei/code/Proj_CombEffect_ENCODE_FCC \n",
      "PATH OF RESULTS (FD_RES): /data/reddylab/Kuei/out/proj_combeffect_encode_fcc \n",
      "PATH OF LOG     (FD_LOG): /data/reddylab/Kuei/out/proj_combeffect_encode_fcc/log \n"
     ]
    }
   ],
   "source": [
    "suppressMessages(suppressWarnings(source(\"../config/config_sing.R\")))\n",
    "show_env()"
   ]
  },
  {
   "cell_type": "markdown",
   "metadata": {},
   "source": [
    "## Import data"
   ]
  },
  {
   "cell_type": "code",
   "execution_count": 2,
   "metadata": {},
   "outputs": [
    {
     "name": "stdout",
     "output_type": "stream",
     "text": [
      "[1] 247520      7\n"
     ]
    },
    {
     "data": {
      "text/html": [
       "<table class=\"dataframe\">\n",
       "<caption>A tibble: 6 × 7</caption>\n",
       "<thead>\n",
       "\t<tr><th scope=col>Chrom</th><th scope=col>Start</th><th scope=col>End</th><th scope=col>Peak</th><th scope=col>TMPRA_Gene</th><th scope=col>TMPRA_Dataset</th><th scope=col>CRISPR_HCFF</th></tr>\n",
       "\t<tr><th scope=col>&lt;chr&gt;</th><th scope=col>&lt;dbl&gt;</th><th scope=col>&lt;dbl&gt;</th><th scope=col>&lt;chr&gt;</th><th scope=col>&lt;chr&gt;</th><th scope=col>&lt;chr&gt;</th><th scope=col>&lt;chr&gt;</th></tr>\n",
       "</thead>\n",
       "<tbody>\n",
       "\t<tr><td>chr1</td><td>10015</td><td>10442</td><td>chr1:10015-10442</td><td>NA</td><td>NA</td><td>NA</td></tr>\n",
       "\t<tr><td>chr1</td><td>14253</td><td>14645</td><td>chr1:14253-14645</td><td>NA</td><td>NA</td><td>NA</td></tr>\n",
       "\t<tr><td>chr1</td><td>16015</td><td>16477</td><td>chr1:16015-16477</td><td>NA</td><td>NA</td><td>NA</td></tr>\n",
       "\t<tr><td>chr1</td><td>17237</td><td>17772</td><td>chr1:17237-17772</td><td>NA</td><td>NA</td><td>NA</td></tr>\n",
       "\t<tr><td>chr1</td><td>28903</td><td>29613</td><td>chr1:28903-29613</td><td>NA</td><td>NA</td><td>NA</td></tr>\n",
       "\t<tr><td>chr1</td><td>30803</td><td>31072</td><td>chr1:30803-31072</td><td>NA</td><td>NA</td><td>NA</td></tr>\n",
       "</tbody>\n",
       "</table>\n"
      ],
      "text/latex": [
       "A tibble: 6 × 7\n",
       "\\begin{tabular}{lllllll}\n",
       " Chrom & Start & End & Peak & TMPRA\\_Gene & TMPRA\\_Dataset & CRISPR\\_HCFF\\\\\n",
       " <chr> & <dbl> & <dbl> & <chr> & <chr> & <chr> & <chr>\\\\\n",
       "\\hline\n",
       "\t chr1 & 10015 & 10442 & chr1:10015-10442 & NA & NA & NA\\\\\n",
       "\t chr1 & 14253 & 14645 & chr1:14253-14645 & NA & NA & NA\\\\\n",
       "\t chr1 & 16015 & 16477 & chr1:16015-16477 & NA & NA & NA\\\\\n",
       "\t chr1 & 17237 & 17772 & chr1:17237-17772 & NA & NA & NA\\\\\n",
       "\t chr1 & 28903 & 29613 & chr1:28903-29613 & NA & NA & NA\\\\\n",
       "\t chr1 & 30803 & 31072 & chr1:30803-31072 & NA & NA & NA\\\\\n",
       "\\end{tabular}\n"
      ],
      "text/markdown": [
       "\n",
       "A tibble: 6 × 7\n",
       "\n",
       "| Chrom &lt;chr&gt; | Start &lt;dbl&gt; | End &lt;dbl&gt; | Peak &lt;chr&gt; | TMPRA_Gene &lt;chr&gt; | TMPRA_Dataset &lt;chr&gt; | CRISPR_HCFF &lt;chr&gt; |\n",
       "|---|---|---|---|---|---|---|\n",
       "| chr1 | 10015 | 10442 | chr1:10015-10442 | NA | NA | NA |\n",
       "| chr1 | 14253 | 14645 | chr1:14253-14645 | NA | NA | NA |\n",
       "| chr1 | 16015 | 16477 | chr1:16015-16477 | NA | NA | NA |\n",
       "| chr1 | 17237 | 17772 | chr1:17237-17772 | NA | NA | NA |\n",
       "| chr1 | 28903 | 29613 | chr1:28903-29613 | NA | NA | NA |\n",
       "| chr1 | 30803 | 31072 | chr1:30803-31072 | NA | NA | NA |\n",
       "\n"
      ],
      "text/plain": [
       "  Chrom Start End   Peak             TMPRA_Gene TMPRA_Dataset CRISPR_HCFF\n",
       "1 chr1  10015 10442 chr1:10015-10442 NA         NA            NA         \n",
       "2 chr1  14253 14645 chr1:14253-14645 NA         NA            NA         \n",
       "3 chr1  16015 16477 chr1:16015-16477 NA         NA            NA         \n",
       "4 chr1  17237 17772 chr1:17237-17772 NA         NA            NA         \n",
       "5 chr1  28903 29613 chr1:28903-29613 NA         NA            NA         \n",
       "6 chr1  30803 31072 chr1:30803-31072 NA         NA            NA         "
      ]
     },
     "metadata": {},
     "output_type": "display_data"
    }
   ],
   "source": [
    "### set file directories\n",
    "fdiry = file.path(FD_RES, \"results\", \"region\", \"KS91_K562_ASTARRseq_peak_macs_input\")\n",
    "fname = \"peak.annotation.screen.tsv\"\n",
    "fpath = file.path(fdiry, fname)\n",
    "\n",
    "### read data\n",
    "dat = read_tsv(fpath, show_col_types = FALSE)\n",
    "\n",
    "### assign and show\n",
    "dat_peak_screen = dat\n",
    "print(dim(dat))\n",
    "head(dat)"
   ]
  },
  {
   "cell_type": "code",
   "execution_count": 3,
   "metadata": {},
   "outputs": [
    {
     "name": "stdout",
     "output_type": "stream",
     "text": [
      "[1] 1722    4\n"
     ]
    },
    {
     "data": {
      "text/html": [
       "<table class=\"dataframe\">\n",
       "<caption>A tibble: 6 × 4</caption>\n",
       "<thead>\n",
       "\t<tr><th scope=col>Peak</th><th scope=col>ASTARR</th><th scope=col>TMPRA</th><th scope=col>WSTARR</th></tr>\n",
       "\t<tr><th scope=col>&lt;chr&gt;</th><th scope=col>&lt;dbl&gt;</th><th scope=col>&lt;dbl&gt;</th><th scope=col>&lt;dbl&gt;</th></tr>\n",
       "</thead>\n",
       "<tbody>\n",
       "\t<tr><td>chr11:32870601-32871324</td><td>-0.56726545</td><td>-0.7592992</td><td>-0.45442671</td></tr>\n",
       "\t<tr><td>chr11:32874343-32875070</td><td>-0.54920178</td><td>-0.4159155</td><td>-0.23994680</td></tr>\n",
       "\t<tr><td>chr11:32884749-32885822</td><td>-0.66011484</td><td> 0.2420861</td><td>-0.17415901</td></tr>\n",
       "\t<tr><td>chr11:32892099-32894437</td><td>-0.04192326</td><td> 0.9418955</td><td> 0.42636977</td></tr>\n",
       "\t<tr><td>chr11:32901572-32902485</td><td>-0.38438377</td><td>-0.8541150</td><td>-0.09841904</td></tr>\n",
       "\t<tr><td>chr11:32903491-32904506</td><td>-0.05446687</td><td>-0.7215339</td><td>-0.68078185</td></tr>\n",
       "</tbody>\n",
       "</table>\n"
      ],
      "text/latex": [
       "A tibble: 6 × 4\n",
       "\\begin{tabular}{llll}\n",
       " Peak & ASTARR & TMPRA & WSTARR\\\\\n",
       " <chr> & <dbl> & <dbl> & <dbl>\\\\\n",
       "\\hline\n",
       "\t chr11:32870601-32871324 & -0.56726545 & -0.7592992 & -0.45442671\\\\\n",
       "\t chr11:32874343-32875070 & -0.54920178 & -0.4159155 & -0.23994680\\\\\n",
       "\t chr11:32884749-32885822 & -0.66011484 &  0.2420861 & -0.17415901\\\\\n",
       "\t chr11:32892099-32894437 & -0.04192326 &  0.9418955 &  0.42636977\\\\\n",
       "\t chr11:32901572-32902485 & -0.38438377 & -0.8541150 & -0.09841904\\\\\n",
       "\t chr11:32903491-32904506 & -0.05446687 & -0.7215339 & -0.68078185\\\\\n",
       "\\end{tabular}\n"
      ],
      "text/markdown": [
       "\n",
       "A tibble: 6 × 4\n",
       "\n",
       "| Peak &lt;chr&gt; | ASTARR &lt;dbl&gt; | TMPRA &lt;dbl&gt; | WSTARR &lt;dbl&gt; |\n",
       "|---|---|---|---|\n",
       "| chr11:32870601-32871324 | -0.56726545 | -0.7592992 | -0.45442671 |\n",
       "| chr11:32874343-32875070 | -0.54920178 | -0.4159155 | -0.23994680 |\n",
       "| chr11:32884749-32885822 | -0.66011484 |  0.2420861 | -0.17415901 |\n",
       "| chr11:32892099-32894437 | -0.04192326 |  0.9418955 |  0.42636977 |\n",
       "| chr11:32901572-32902485 | -0.38438377 | -0.8541150 | -0.09841904 |\n",
       "| chr11:32903491-32904506 | -0.05446687 | -0.7215339 | -0.68078185 |\n",
       "\n"
      ],
      "text/plain": [
       "  Peak                    ASTARR      TMPRA      WSTARR     \n",
       "1 chr11:32870601-32871324 -0.56726545 -0.7592992 -0.45442671\n",
       "2 chr11:32874343-32875070 -0.54920178 -0.4159155 -0.23994680\n",
       "3 chr11:32884749-32885822 -0.66011484  0.2420861 -0.17415901\n",
       "4 chr11:32892099-32894437 -0.04192326  0.9418955  0.42636977\n",
       "5 chr11:32901572-32902485 -0.38438377 -0.8541150 -0.09841904\n",
       "6 chr11:32903491-32904506 -0.05446687 -0.7215339 -0.68078185"
      ]
     },
     "metadata": {},
     "output_type": "display_data"
    }
   ],
   "source": [
    "### set file directories\n",
    "fdiry = file.path(FD_RES, \"results\", \"comparison\")\n",
    "fname = \"result.Log2FC.raw.deseq.starrmpra.tsv\"\n",
    "fpath = file.path(fdiry, fname)\n",
    "\n",
    "### read data\n",
    "dat = read_tsv(fpath, show_col_types = FALSE)\n",
    "\n",
    "### assign and show\n",
    "dat_peak_log2fc = dat\n",
    "print(dim(dat))\n",
    "head(dat)"
   ]
  },
  {
   "cell_type": "markdown",
   "metadata": {},
   "source": [
    "## Helper function"
   ]
  },
  {
   "cell_type": "code",
   "execution_count": 4,
   "metadata": {},
   "outputs": [],
   "source": [
    "fun_ranknorm = function(x){\n",
    "    return(rank(x)/length(x))\n",
    "}"
   ]
  },
  {
   "cell_type": "markdown",
   "metadata": {},
   "source": [
    "## Arrange"
   ]
  },
  {
   "cell_type": "code",
   "execution_count": 5,
   "metadata": {},
   "outputs": [
    {
     "name": "stdout",
     "output_type": "stream",
     "text": [
      "[1] 1722   10\n"
     ]
    },
    {
     "data": {
      "text/html": [
       "<table class=\"dataframe\">\n",
       "<caption>A tibble: 6 × 10</caption>\n",
       "<thead>\n",
       "\t<tr><th scope=col>Chrom</th><th scope=col>Start</th><th scope=col>End</th><th scope=col>Peak</th><th scope=col>TMPRA_Gene</th><th scope=col>TMPRA_Dataset</th><th scope=col>CRISPR_HCFF</th><th scope=col>ASTARR</th><th scope=col>TMPRA</th><th scope=col>WSTARR</th></tr>\n",
       "\t<tr><th scope=col>&lt;chr&gt;</th><th scope=col>&lt;dbl&gt;</th><th scope=col>&lt;dbl&gt;</th><th scope=col>&lt;chr&gt;</th><th scope=col>&lt;chr&gt;</th><th scope=col>&lt;chr&gt;</th><th scope=col>&lt;chr&gt;</th><th scope=col>&lt;dbl&gt;</th><th scope=col>&lt;dbl&gt;</th><th scope=col>&lt;dbl&gt;</th></tr>\n",
       "</thead>\n",
       "<tbody>\n",
       "\t<tr><td>chr11</td><td>4539569</td><td>4540043</td><td>chr11:4539569-4540043</td><td>HBE1</td><td>OL45</td><td>HBE1,HBG1,HBG2,HBS1L,MYB</td><td> 0.14501695</td><td>-0.9324732</td><td>-0.68945769</td></tr>\n",
       "\t<tr><td>chr11</td><td>4551336</td><td>4552012</td><td>chr11:4551336-4552012</td><td>HBE1</td><td>OL45</td><td>NA                      </td><td> 0.32125162</td><td> 0.1172148</td><td>-0.01719732</td></tr>\n",
       "\t<tr><td>chr11</td><td>4553969</td><td>4555012</td><td>chr11:4553969-4555012</td><td>HBE1</td><td>OL45</td><td>NA                      </td><td> 0.14529397</td><td> 2.1228188</td><td> 0.32524277</td></tr>\n",
       "\t<tr><td>chr11</td><td>4569016</td><td>4569992</td><td>chr11:4569016-4569992</td><td>HBE1</td><td>OL45</td><td>NA                      </td><td> 0.01136464</td><td>-1.1864232</td><td> 0.10228636</td></tr>\n",
       "\t<tr><td>chr11</td><td>4577444</td><td>4578031</td><td>chr11:4577444-4578031</td><td>HBE1</td><td>OL45</td><td>NA                      </td><td> 0.24524353</td><td>-0.5696030</td><td>-0.06870693</td></tr>\n",
       "\t<tr><td>chr11</td><td>4601808</td><td>4602487</td><td>chr11:4601808-4602487</td><td>HBE1</td><td>OL45</td><td>NA                      </td><td>-0.57215284</td><td>-1.0393200</td><td>-0.53855046</td></tr>\n",
       "</tbody>\n",
       "</table>\n"
      ],
      "text/latex": [
       "A tibble: 6 × 10\n",
       "\\begin{tabular}{llllllllll}\n",
       " Chrom & Start & End & Peak & TMPRA\\_Gene & TMPRA\\_Dataset & CRISPR\\_HCFF & ASTARR & TMPRA & WSTARR\\\\\n",
       " <chr> & <dbl> & <dbl> & <chr> & <chr> & <chr> & <chr> & <dbl> & <dbl> & <dbl>\\\\\n",
       "\\hline\n",
       "\t chr11 & 4539569 & 4540043 & chr11:4539569-4540043 & HBE1 & OL45 & HBE1,HBG1,HBG2,HBS1L,MYB &  0.14501695 & -0.9324732 & -0.68945769\\\\\n",
       "\t chr11 & 4551336 & 4552012 & chr11:4551336-4552012 & HBE1 & OL45 & NA                       &  0.32125162 &  0.1172148 & -0.01719732\\\\\n",
       "\t chr11 & 4553969 & 4555012 & chr11:4553969-4555012 & HBE1 & OL45 & NA                       &  0.14529397 &  2.1228188 &  0.32524277\\\\\n",
       "\t chr11 & 4569016 & 4569992 & chr11:4569016-4569992 & HBE1 & OL45 & NA                       &  0.01136464 & -1.1864232 &  0.10228636\\\\\n",
       "\t chr11 & 4577444 & 4578031 & chr11:4577444-4578031 & HBE1 & OL45 & NA                       &  0.24524353 & -0.5696030 & -0.06870693\\\\\n",
       "\t chr11 & 4601808 & 4602487 & chr11:4601808-4602487 & HBE1 & OL45 & NA                       & -0.57215284 & -1.0393200 & -0.53855046\\\\\n",
       "\\end{tabular}\n"
      ],
      "text/markdown": [
       "\n",
       "A tibble: 6 × 10\n",
       "\n",
       "| Chrom &lt;chr&gt; | Start &lt;dbl&gt; | End &lt;dbl&gt; | Peak &lt;chr&gt; | TMPRA_Gene &lt;chr&gt; | TMPRA_Dataset &lt;chr&gt; | CRISPR_HCFF &lt;chr&gt; | ASTARR &lt;dbl&gt; | TMPRA &lt;dbl&gt; | WSTARR &lt;dbl&gt; |\n",
       "|---|---|---|---|---|---|---|---|---|---|\n",
       "| chr11 | 4539569 | 4540043 | chr11:4539569-4540043 | HBE1 | OL45 | HBE1,HBG1,HBG2,HBS1L,MYB |  0.14501695 | -0.9324732 | -0.68945769 |\n",
       "| chr11 | 4551336 | 4552012 | chr11:4551336-4552012 | HBE1 | OL45 | NA                       |  0.32125162 |  0.1172148 | -0.01719732 |\n",
       "| chr11 | 4553969 | 4555012 | chr11:4553969-4555012 | HBE1 | OL45 | NA                       |  0.14529397 |  2.1228188 |  0.32524277 |\n",
       "| chr11 | 4569016 | 4569992 | chr11:4569016-4569992 | HBE1 | OL45 | NA                       |  0.01136464 | -1.1864232 |  0.10228636 |\n",
       "| chr11 | 4577444 | 4578031 | chr11:4577444-4578031 | HBE1 | OL45 | NA                       |  0.24524353 | -0.5696030 | -0.06870693 |\n",
       "| chr11 | 4601808 | 4602487 | chr11:4601808-4602487 | HBE1 | OL45 | NA                       | -0.57215284 | -1.0393200 | -0.53855046 |\n",
       "\n"
      ],
      "text/plain": [
       "  Chrom Start   End     Peak                  TMPRA_Gene TMPRA_Dataset\n",
       "1 chr11 4539569 4540043 chr11:4539569-4540043 HBE1       OL45         \n",
       "2 chr11 4551336 4552012 chr11:4551336-4552012 HBE1       OL45         \n",
       "3 chr11 4553969 4555012 chr11:4553969-4555012 HBE1       OL45         \n",
       "4 chr11 4569016 4569992 chr11:4569016-4569992 HBE1       OL45         \n",
       "5 chr11 4577444 4578031 chr11:4577444-4578031 HBE1       OL45         \n",
       "6 chr11 4601808 4602487 chr11:4601808-4602487 HBE1       OL45         \n",
       "  CRISPR_HCFF              ASTARR      TMPRA      WSTARR     \n",
       "1 HBE1,HBG1,HBG2,HBS1L,MYB  0.14501695 -0.9324732 -0.68945769\n",
       "2 NA                        0.32125162  0.1172148 -0.01719732\n",
       "3 NA                        0.14529397  2.1228188  0.32524277\n",
       "4 NA                        0.01136464 -1.1864232  0.10228636\n",
       "5 NA                        0.24524353 -0.5696030 -0.06870693\n",
       "6 NA                       -0.57215284 -1.0393200 -0.53855046"
      ]
     },
     "metadata": {},
     "output_type": "display_data"
    }
   ],
   "source": [
    "dat = inner_join(\n",
    "    dat_peak_screen,\n",
    "    dat_peak_log2fc,\n",
    "    by = \"Peak\"\n",
    ")\n",
    "\n",
    "###\n",
    "dat_peak_merge = dat\n",
    "print(dim(dat))\n",
    "head(dat)"
   ]
  },
  {
   "cell_type": "code",
   "execution_count": 6,
   "metadata": {},
   "outputs": [
    {
     "name": "stdout",
     "output_type": "stream",
     "text": [
      "[1] 5166   10\n"
     ]
    },
    {
     "data": {
      "text/html": [
       "<table class=\"dataframe\">\n",
       "<caption>A tibble: 6 × 10</caption>\n",
       "<thead>\n",
       "\t<tr><th scope=col>Chrom</th><th scope=col>Start</th><th scope=col>End</th><th scope=col>Peak</th><th scope=col>TMPRA_Gene</th><th scope=col>TMPRA_Dataset</th><th scope=col>CRISPR_HCFF</th><th scope=col>Assay</th><th scope=col>Log2FC</th><th scope=col>RankNorm_Total</th></tr>\n",
       "\t<tr><th scope=col>&lt;chr&gt;</th><th scope=col>&lt;dbl&gt;</th><th scope=col>&lt;dbl&gt;</th><th scope=col>&lt;chr&gt;</th><th scope=col>&lt;chr&gt;</th><th scope=col>&lt;chr&gt;</th><th scope=col>&lt;chr&gt;</th><th scope=col>&lt;chr&gt;</th><th scope=col>&lt;dbl&gt;</th><th scope=col>&lt;dbl&gt;</th></tr>\n",
       "</thead>\n",
       "<tbody>\n",
       "\t<tr><td>chr11</td><td>4539569</td><td>4540043</td><td>chr11:4539569-4540043</td><td>HBE1</td><td>OL45</td><td>HBE1,HBG1,HBG2,HBS1L,MYB</td><td>ASTARR</td><td> 0.14501695</td><td>0.6550523</td></tr>\n",
       "\t<tr><td>chr11</td><td>4551336</td><td>4552012</td><td>chr11:4551336-4552012</td><td>HBE1</td><td>OL45</td><td>NA                      </td><td>ASTARR</td><td> 0.32125162</td><td>0.7560976</td></tr>\n",
       "\t<tr><td>chr11</td><td>4553969</td><td>4555012</td><td>chr11:4553969-4555012</td><td>HBE1</td><td>OL45</td><td>NA                      </td><td>ASTARR</td><td> 0.14529397</td><td>0.6556330</td></tr>\n",
       "\t<tr><td>chr11</td><td>4569016</td><td>4569992</td><td>chr11:4569016-4569992</td><td>HBE1</td><td>OL45</td><td>NA                      </td><td>ASTARR</td><td> 0.01136464</td><td>0.5673635</td></tr>\n",
       "\t<tr><td>chr11</td><td>4577444</td><td>4578031</td><td>chr11:4577444-4578031</td><td>HBE1</td><td>OL45</td><td>NA                      </td><td>ASTARR</td><td> 0.24524353</td><td>0.7154472</td></tr>\n",
       "\t<tr><td>chr11</td><td>4601808</td><td>4602487</td><td>chr11:4601808-4602487</td><td>HBE1</td><td>OL45</td><td>NA                      </td><td>ASTARR</td><td>-0.57215284</td><td>0.1277584</td></tr>\n",
       "</tbody>\n",
       "</table>\n"
      ],
      "text/latex": [
       "A tibble: 6 × 10\n",
       "\\begin{tabular}{llllllllll}\n",
       " Chrom & Start & End & Peak & TMPRA\\_Gene & TMPRA\\_Dataset & CRISPR\\_HCFF & Assay & Log2FC & RankNorm\\_Total\\\\\n",
       " <chr> & <dbl> & <dbl> & <chr> & <chr> & <chr> & <chr> & <chr> & <dbl> & <dbl>\\\\\n",
       "\\hline\n",
       "\t chr11 & 4539569 & 4540043 & chr11:4539569-4540043 & HBE1 & OL45 & HBE1,HBG1,HBG2,HBS1L,MYB & ASTARR &  0.14501695 & 0.6550523\\\\\n",
       "\t chr11 & 4551336 & 4552012 & chr11:4551336-4552012 & HBE1 & OL45 & NA                       & ASTARR &  0.32125162 & 0.7560976\\\\\n",
       "\t chr11 & 4553969 & 4555012 & chr11:4553969-4555012 & HBE1 & OL45 & NA                       & ASTARR &  0.14529397 & 0.6556330\\\\\n",
       "\t chr11 & 4569016 & 4569992 & chr11:4569016-4569992 & HBE1 & OL45 & NA                       & ASTARR &  0.01136464 & 0.5673635\\\\\n",
       "\t chr11 & 4577444 & 4578031 & chr11:4577444-4578031 & HBE1 & OL45 & NA                       & ASTARR &  0.24524353 & 0.7154472\\\\\n",
       "\t chr11 & 4601808 & 4602487 & chr11:4601808-4602487 & HBE1 & OL45 & NA                       & ASTARR & -0.57215284 & 0.1277584\\\\\n",
       "\\end{tabular}\n"
      ],
      "text/markdown": [
       "\n",
       "A tibble: 6 × 10\n",
       "\n",
       "| Chrom &lt;chr&gt; | Start &lt;dbl&gt; | End &lt;dbl&gt; | Peak &lt;chr&gt; | TMPRA_Gene &lt;chr&gt; | TMPRA_Dataset &lt;chr&gt; | CRISPR_HCFF &lt;chr&gt; | Assay &lt;chr&gt; | Log2FC &lt;dbl&gt; | RankNorm_Total &lt;dbl&gt; |\n",
       "|---|---|---|---|---|---|---|---|---|---|\n",
       "| chr11 | 4539569 | 4540043 | chr11:4539569-4540043 | HBE1 | OL45 | HBE1,HBG1,HBG2,HBS1L,MYB | ASTARR |  0.14501695 | 0.6550523 |\n",
       "| chr11 | 4551336 | 4552012 | chr11:4551336-4552012 | HBE1 | OL45 | NA                       | ASTARR |  0.32125162 | 0.7560976 |\n",
       "| chr11 | 4553969 | 4555012 | chr11:4553969-4555012 | HBE1 | OL45 | NA                       | ASTARR |  0.14529397 | 0.6556330 |\n",
       "| chr11 | 4569016 | 4569992 | chr11:4569016-4569992 | HBE1 | OL45 | NA                       | ASTARR |  0.01136464 | 0.5673635 |\n",
       "| chr11 | 4577444 | 4578031 | chr11:4577444-4578031 | HBE1 | OL45 | NA                       | ASTARR |  0.24524353 | 0.7154472 |\n",
       "| chr11 | 4601808 | 4602487 | chr11:4601808-4602487 | HBE1 | OL45 | NA                       | ASTARR | -0.57215284 | 0.1277584 |\n",
       "\n"
      ],
      "text/plain": [
       "  Chrom Start   End     Peak                  TMPRA_Gene TMPRA_Dataset\n",
       "1 chr11 4539569 4540043 chr11:4539569-4540043 HBE1       OL45         \n",
       "2 chr11 4551336 4552012 chr11:4551336-4552012 HBE1       OL45         \n",
       "3 chr11 4553969 4555012 chr11:4553969-4555012 HBE1       OL45         \n",
       "4 chr11 4569016 4569992 chr11:4569016-4569992 HBE1       OL45         \n",
       "5 chr11 4577444 4578031 chr11:4577444-4578031 HBE1       OL45         \n",
       "6 chr11 4601808 4602487 chr11:4601808-4602487 HBE1       OL45         \n",
       "  CRISPR_HCFF              Assay  Log2FC      RankNorm_Total\n",
       "1 HBE1,HBG1,HBG2,HBS1L,MYB ASTARR  0.14501695 0.6550523     \n",
       "2 NA                       ASTARR  0.32125162 0.7560976     \n",
       "3 NA                       ASTARR  0.14529397 0.6556330     \n",
       "4 NA                       ASTARR  0.01136464 0.5673635     \n",
       "5 NA                       ASTARR  0.24524353 0.7154472     \n",
       "6 NA                       ASTARR -0.57215284 0.1277584     "
      ]
     },
     "metadata": {},
     "output_type": "display_data"
    }
   ],
   "source": [
    "dat = dat_peak_merge\n",
    "\n",
    "dat = dat %>% \n",
    "    tidyr::gather(\n",
    "        Assay, Log2FC, \n",
    "        -Chrom, -Start, -End, -Peak, \n",
    "        -TMPRA_Gene, \n",
    "        -TMPRA_Dataset, \n",
    "        -CRISPR_HCFF)\n",
    "\n",
    "dat = dat %>%\n",
    "    dplyr::group_by(Assay) %>%\n",
    "    dplyr::mutate(RankNorm_Total = fun_ranknorm(Log2FC)) %>%\n",
    "    dplyr::ungroup()\n",
    "\n",
    "###\n",
    "dat_peak_score_full = dat\n",
    "print(dim(dat))\n",
    "head(dat)"
   ]
  },
  {
   "cell_type": "code",
   "execution_count": 7,
   "metadata": {},
   "outputs": [
    {
     "name": "stdout",
     "output_type": "stream",
     "text": [
      "[1] 1722    2\n"
     ]
    },
    {
     "data": {
      "text/html": [
       "<table class=\"dataframe\">\n",
       "<caption>A tibble: 6 × 2</caption>\n",
       "<thead>\n",
       "\t<tr><th scope=col>Peak</th><th scope=col>RankNorm</th></tr>\n",
       "\t<tr><th scope=col>&lt;chr&gt;</th><th scope=col>&lt;dbl&gt;</th></tr>\n",
       "</thead>\n",
       "<tbody>\n",
       "\t<tr><td>chr11:32870601-32871324</td><td>0.1445993</td></tr>\n",
       "\t<tr><td>chr11:32874343-32875070</td><td>0.2466125</td></tr>\n",
       "\t<tr><td>chr11:32884749-32885822</td><td>0.3211382</td></tr>\n",
       "\t<tr><td>chr11:32892099-32894437</td><td>0.7084785</td></tr>\n",
       "\t<tr><td>chr11:32901572-32902485</td><td>0.2684863</td></tr>\n",
       "\t<tr><td>chr11:32903491-32904506</td><td>0.2586140</td></tr>\n",
       "</tbody>\n",
       "</table>\n"
      ],
      "text/latex": [
       "A tibble: 6 × 2\n",
       "\\begin{tabular}{ll}\n",
       " Peak & RankNorm\\\\\n",
       " <chr> & <dbl>\\\\\n",
       "\\hline\n",
       "\t chr11:32870601-32871324 & 0.1445993\\\\\n",
       "\t chr11:32874343-32875070 & 0.2466125\\\\\n",
       "\t chr11:32884749-32885822 & 0.3211382\\\\\n",
       "\t chr11:32892099-32894437 & 0.7084785\\\\\n",
       "\t chr11:32901572-32902485 & 0.2684863\\\\\n",
       "\t chr11:32903491-32904506 & 0.2586140\\\\\n",
       "\\end{tabular}\n"
      ],
      "text/markdown": [
       "\n",
       "A tibble: 6 × 2\n",
       "\n",
       "| Peak &lt;chr&gt; | RankNorm &lt;dbl&gt; |\n",
       "|---|---|\n",
       "| chr11:32870601-32871324 | 0.1445993 |\n",
       "| chr11:32874343-32875070 | 0.2466125 |\n",
       "| chr11:32884749-32885822 | 0.3211382 |\n",
       "| chr11:32892099-32894437 | 0.7084785 |\n",
       "| chr11:32901572-32902485 | 0.2684863 |\n",
       "| chr11:32903491-32904506 | 0.2586140 |\n",
       "\n"
      ],
      "text/plain": [
       "  Peak                    RankNorm \n",
       "1 chr11:32870601-32871324 0.1445993\n",
       "2 chr11:32874343-32875070 0.2466125\n",
       "3 chr11:32884749-32885822 0.3211382\n",
       "4 chr11:32892099-32894437 0.7084785\n",
       "5 chr11:32901572-32902485 0.2684863\n",
       "6 chr11:32903491-32904506 0.2586140"
      ]
     },
     "metadata": {},
     "output_type": "display_data"
    }
   ],
   "source": [
    "dat = dat_peak_score_full\n",
    "dat = dat %>% \n",
    "    dplyr::group_by(Peak) %>% \n",
    "    dplyr::summarise(\n",
    "        RankNorm = mean(RankNorm_Total),\n",
    "        .groups  = \"drop\")\n",
    "\n",
    "dat_peak_score_mean = dat\n",
    "print(dim(dat))\n",
    "head(dat)"
   ]
  },
  {
   "cell_type": "markdown",
   "metadata": {},
   "source": [
    "## Save results"
   ]
  },
  {
   "cell_type": "code",
   "execution_count": 8,
   "metadata": {},
   "outputs": [
    {
     "name": "stdout",
     "output_type": "stream",
     "text": [
      "[1] \"/data/reddylab/Kuei/out/proj_combeffect_encode_fcc/results/comparison/result.ranknorm.starrmpra.full.tsv\"\n"
     ]
    }
   ],
   "source": [
    "### set file directories\n",
    "fdiry = file.path(FD_RES, \"results\", \"comparison\")\n",
    "fname = \"result.ranknorm.starrmpra.full.tsv\"\n",
    "fpath = file.path(fdiry, fname)\n",
    "print(fpath)\n",
    "\n",
    "dat = dat_peak_score_full\n",
    "write_tsv(dat, fpath)"
   ]
  },
  {
   "cell_type": "code",
   "execution_count": 11,
   "metadata": {},
   "outputs": [
    {
     "name": "stdout",
     "output_type": "stream",
     "text": [
      "[1] \"/data/reddylab/Kuei/out/proj_combeffect_encode_fcc/results/comparison/result.ranknorm.starrmpra.mean.tsv\"\n"
     ]
    }
   ],
   "source": [
    "### set file directories\n",
    "fdiry = file.path(FD_RES, \"results\", \"comparison\")\n",
    "fname = \"result.ranknorm.starrmpra.mean.tsv\"\n",
    "fpath = file.path(fdiry, fname)\n",
    "print(fpath)\n",
    "\n",
    "dat = dat_peak_score_mean\n",
    "write_tsv(dat, fpath)"
   ]
  },
  {
   "cell_type": "code",
   "execution_count": null,
   "metadata": {},
   "outputs": [],
   "source": []
  }
 ],
 "metadata": {
  "kernelspec": {
   "display_name": "R",
   "language": "R",
   "name": "ir"
  },
  "language_info": {
   "codemirror_mode": "r",
   "file_extension": ".r",
   "mimetype": "text/x-r-source",
   "name": "R",
   "pygments_lexer": "r",
   "version": "4.3.1"
  }
 },
 "nbformat": 4,
 "nbformat_minor": 4
}
