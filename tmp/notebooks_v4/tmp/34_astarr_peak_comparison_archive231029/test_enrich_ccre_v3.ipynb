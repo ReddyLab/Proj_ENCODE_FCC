{
 "cells": [
  {
   "cell_type": "code",
   "execution_count": 35,
   "metadata": {},
   "outputs": [
    {
     "name": "stdout",
     "output_type": "stream",
     "text": [
      "You are in Singularity: singularity_proj_encode_fcc \n",
      "BASE DIRECTORY (FD_BASE): /data/reddylab/Kuei \n",
      "WORK DIRECTORY (FD_WORK): /data/reddylab/Kuei/out \n",
      "CODE DIRECTORY (FD_CODE): /data/reddylab/Kuei/code \n",
      "PATH OF PROJECT (FD_PRJ): /data/reddylab/Kuei/code/Proj_CombEffect_ENCODE_FCC \n",
      "PATH OF RESULTS (FD_RES): /data/reddylab/Kuei/out/proj_combeffect_encode_fcc \n",
      "PATH OF LOG     (FD_LOG): /data/reddylab/Kuei/out/proj_combeffect_encode_fcc/log \n"
     ]
    }
   ],
   "source": [
    "suppressMessages(suppressWarnings(source(\"../config/config_sing.R\")))\n",
    "library(fgsea)\n",
    "show_env()"
   ]
  },
  {
   "cell_type": "code",
   "execution_count": 36,
   "metadata": {},
   "outputs": [
    {
     "name": "stderr",
     "output_type": "stream",
     "text": [
      "\u001b[1mRows: \u001b[22m\u001b[34m5166\u001b[39m \u001b[1mColumns: \u001b[22m\u001b[34m10\u001b[39m\n",
      "\u001b[36m──\u001b[39m \u001b[1mColumn specification\u001b[22m \u001b[36m────────────────────────────────────────────────────────────────────────\u001b[39m\n",
      "\u001b[1mDelimiter:\u001b[22m \"\\t\"\n",
      "\u001b[31mchr\u001b[39m (6): Chrom, Peak, TMPRA_Gene, TMPRA_Dataset, CRISPR_HCFF, Assay\n",
      "\u001b[32mdbl\u001b[39m (4): Start, End, Log2FC, RankNorm_Total\n",
      "\n",
      "\u001b[36mℹ\u001b[39m Use `spec()` to retrieve the full column specification for this data.\n",
      "\u001b[36mℹ\u001b[39m Specify the column types or set `show_col_types = FALSE` to quiet this message.\n"
     ]
    },
    {
     "name": "stdout",
     "output_type": "stream",
     "text": [
      "[1] 5166   10\n"
     ]
    },
    {
     "data": {
      "text/html": [
       "<table class=\"dataframe\">\n",
       "<caption>A tibble: 6 × 10</caption>\n",
       "<thead>\n",
       "\t<tr><th scope=col>Chrom</th><th scope=col>Start</th><th scope=col>End</th><th scope=col>Peak</th><th scope=col>TMPRA_Gene</th><th scope=col>TMPRA_Dataset</th><th scope=col>CRISPR_HCFF</th><th scope=col>Assay</th><th scope=col>Log2FC</th><th scope=col>RankNorm_Total</th></tr>\n",
       "\t<tr><th scope=col>&lt;chr&gt;</th><th scope=col>&lt;dbl&gt;</th><th scope=col>&lt;dbl&gt;</th><th scope=col>&lt;chr&gt;</th><th scope=col>&lt;chr&gt;</th><th scope=col>&lt;chr&gt;</th><th scope=col>&lt;chr&gt;</th><th scope=col>&lt;chr&gt;</th><th scope=col>&lt;dbl&gt;</th><th scope=col>&lt;dbl&gt;</th></tr>\n",
       "</thead>\n",
       "<tbody>\n",
       "\t<tr><td>chr11</td><td>4539569</td><td>4540043</td><td>chr11_4539569_4540043</td><td>HBE1</td><td>OL45</td><td>HBE1,HBG1,HBG2,HBS1L,MYB</td><td>ASTARR</td><td> 0.14501695</td><td>0.6550523</td></tr>\n",
       "\t<tr><td>chr11</td><td>4551336</td><td>4552012</td><td>chr11_4551336_4552012</td><td>HBE1</td><td>OL45</td><td>NA                      </td><td>ASTARR</td><td> 0.32125162</td><td>0.7560976</td></tr>\n",
       "\t<tr><td>chr11</td><td>4553969</td><td>4555012</td><td>chr11_4553969_4555012</td><td>HBE1</td><td>OL45</td><td>NA                      </td><td>ASTARR</td><td> 0.14529397</td><td>0.6556330</td></tr>\n",
       "\t<tr><td>chr11</td><td>4569016</td><td>4569992</td><td>chr11_4569016_4569992</td><td>HBE1</td><td>OL45</td><td>NA                      </td><td>ASTARR</td><td> 0.01136464</td><td>0.5673635</td></tr>\n",
       "\t<tr><td>chr11</td><td>4577444</td><td>4578031</td><td>chr11_4577444_4578031</td><td>HBE1</td><td>OL45</td><td>NA                      </td><td>ASTARR</td><td> 0.24524353</td><td>0.7154472</td></tr>\n",
       "\t<tr><td>chr11</td><td>4601808</td><td>4602487</td><td>chr11_4601808_4602487</td><td>HBE1</td><td>OL45</td><td>NA                      </td><td>ASTARR</td><td>-0.57215284</td><td>0.1277584</td></tr>\n",
       "</tbody>\n",
       "</table>\n"
      ],
      "text/latex": [
       "A tibble: 6 × 10\n",
       "\\begin{tabular}{llllllllll}\n",
       " Chrom & Start & End & Peak & TMPRA\\_Gene & TMPRA\\_Dataset & CRISPR\\_HCFF & Assay & Log2FC & RankNorm\\_Total\\\\\n",
       " <chr> & <dbl> & <dbl> & <chr> & <chr> & <chr> & <chr> & <chr> & <dbl> & <dbl>\\\\\n",
       "\\hline\n",
       "\t chr11 & 4539569 & 4540043 & chr11\\_4539569\\_4540043 & HBE1 & OL45 & HBE1,HBG1,HBG2,HBS1L,MYB & ASTARR &  0.14501695 & 0.6550523\\\\\n",
       "\t chr11 & 4551336 & 4552012 & chr11\\_4551336\\_4552012 & HBE1 & OL45 & NA                       & ASTARR &  0.32125162 & 0.7560976\\\\\n",
       "\t chr11 & 4553969 & 4555012 & chr11\\_4553969\\_4555012 & HBE1 & OL45 & NA                       & ASTARR &  0.14529397 & 0.6556330\\\\\n",
       "\t chr11 & 4569016 & 4569992 & chr11\\_4569016\\_4569992 & HBE1 & OL45 & NA                       & ASTARR &  0.01136464 & 0.5673635\\\\\n",
       "\t chr11 & 4577444 & 4578031 & chr11\\_4577444\\_4578031 & HBE1 & OL45 & NA                       & ASTARR &  0.24524353 & 0.7154472\\\\\n",
       "\t chr11 & 4601808 & 4602487 & chr11\\_4601808\\_4602487 & HBE1 & OL45 & NA                       & ASTARR & -0.57215284 & 0.1277584\\\\\n",
       "\\end{tabular}\n"
      ],
      "text/markdown": [
       "\n",
       "A tibble: 6 × 10\n",
       "\n",
       "| Chrom &lt;chr&gt; | Start &lt;dbl&gt; | End &lt;dbl&gt; | Peak &lt;chr&gt; | TMPRA_Gene &lt;chr&gt; | TMPRA_Dataset &lt;chr&gt; | CRISPR_HCFF &lt;chr&gt; | Assay &lt;chr&gt; | Log2FC &lt;dbl&gt; | RankNorm_Total &lt;dbl&gt; |\n",
       "|---|---|---|---|---|---|---|---|---|---|\n",
       "| chr11 | 4539569 | 4540043 | chr11_4539569_4540043 | HBE1 | OL45 | HBE1,HBG1,HBG2,HBS1L,MYB | ASTARR |  0.14501695 | 0.6550523 |\n",
       "| chr11 | 4551336 | 4552012 | chr11_4551336_4552012 | HBE1 | OL45 | NA                       | ASTARR |  0.32125162 | 0.7560976 |\n",
       "| chr11 | 4553969 | 4555012 | chr11_4553969_4555012 | HBE1 | OL45 | NA                       | ASTARR |  0.14529397 | 0.6556330 |\n",
       "| chr11 | 4569016 | 4569992 | chr11_4569016_4569992 | HBE1 | OL45 | NA                       | ASTARR |  0.01136464 | 0.5673635 |\n",
       "| chr11 | 4577444 | 4578031 | chr11_4577444_4578031 | HBE1 | OL45 | NA                       | ASTARR |  0.24524353 | 0.7154472 |\n",
       "| chr11 | 4601808 | 4602487 | chr11_4601808_4602487 | HBE1 | OL45 | NA                       | ASTARR | -0.57215284 | 0.1277584 |\n",
       "\n"
      ],
      "text/plain": [
       "  Chrom Start   End     Peak                  TMPRA_Gene TMPRA_Dataset\n",
       "1 chr11 4539569 4540043 chr11_4539569_4540043 HBE1       OL45         \n",
       "2 chr11 4551336 4552012 chr11_4551336_4552012 HBE1       OL45         \n",
       "3 chr11 4553969 4555012 chr11_4553969_4555012 HBE1       OL45         \n",
       "4 chr11 4569016 4569992 chr11_4569016_4569992 HBE1       OL45         \n",
       "5 chr11 4577444 4578031 chr11_4577444_4578031 HBE1       OL45         \n",
       "6 chr11 4601808 4602487 chr11_4601808_4602487 HBE1       OL45         \n",
       "  CRISPR_HCFF              Assay  Log2FC      RankNorm_Total\n",
       "1 HBE1,HBG1,HBG2,HBS1L,MYB ASTARR  0.14501695 0.6550523     \n",
       "2 NA                       ASTARR  0.32125162 0.7560976     \n",
       "3 NA                       ASTARR  0.14529397 0.6556330     \n",
       "4 NA                       ASTARR  0.01136464 0.5673635     \n",
       "5 NA                       ASTARR  0.24524353 0.7154472     \n",
       "6 NA                       ASTARR -0.57215284 0.1277584     "
      ]
     },
     "metadata": {},
     "output_type": "display_data"
    }
   ],
   "source": [
    "### set file directories\n",
    "fdiry = file.path(FD_RES, \"results\", \"comparison\")\n",
    "fname = \"result.ranknorm.starrmpra.tsv\"\n",
    "fpath = file.path(fdiry, fname)\n",
    "\n",
    "### read data\n",
    "dat = read_tsv(fpath)\n",
    "\n",
    "### assign and show\n",
    "dat_peak_log2fc = dat\n",
    "print(dim(dat))\n",
    "head(dat)"
   ]
  },
  {
   "cell_type": "code",
   "execution_count": 37,
   "metadata": {},
   "outputs": [
    {
     "name": "stderr",
     "output_type": "stream",
     "text": [
      "\u001b[1mRows: \u001b[22m\u001b[34m451244\u001b[39m \u001b[1mColumns: \u001b[22m\u001b[34m4\u001b[39m\n",
      "\u001b[36m──\u001b[39m \u001b[1mColumn specification\u001b[22m \u001b[36m────────────────────────────────────────────────────────────────────────\u001b[39m\n",
      "\u001b[1mDelimiter:\u001b[22m \"\\t\"\n",
      "\u001b[31mchr\u001b[39m (3): Peak, Category, Annotation\n",
      "\u001b[32mdbl\u001b[39m (1): Count\n",
      "\n",
      "\u001b[36mℹ\u001b[39m Use `spec()` to retrieve the full column specification for this data.\n",
      "\u001b[36mℹ\u001b[39m Specify the column types or set `show_col_types = FALSE` to quiet this message.\n"
     ]
    },
    {
     "name": "stdout",
     "output_type": "stream",
     "text": [
      "[1] 451244      4\n"
     ]
    },
    {
     "data": {
      "text/html": [
       "<table class=\"dataframe\">\n",
       "<caption>A tibble: 6 × 4</caption>\n",
       "<thead>\n",
       "\t<tr><th scope=col>Peak</th><th scope=col>Category</th><th scope=col>Annotation</th><th scope=col>Count</th></tr>\n",
       "\t<tr><th scope=col>&lt;chr&gt;</th><th scope=col>&lt;chr&gt;</th><th scope=col>&lt;chr&gt;</th><th scope=col>&lt;dbl&gt;</th></tr>\n",
       "</thead>\n",
       "<tbody>\n",
       "\t<tr><td>chr10_100009096_100010466</td><td>DNase-H3K4me3,CTCF-bound</td><td>ccre_v3</td><td>2</td></tr>\n",
       "\t<tr><td>chr10_100009096_100010466</td><td>Low-DNase               </td><td>ccre_v3</td><td>1</td></tr>\n",
       "\t<tr><td>chr10_100009096_100010466</td><td>PLS,CTCF-bound          </td><td>ccre_v3</td><td>1</td></tr>\n",
       "\t<tr><td>chr10_100020710_100021134</td><td>Low-DNase               </td><td>ccre_v3</td><td>2</td></tr>\n",
       "\t<tr><td>chr10_100045961_100046653</td><td>CTCF-only,CTCF-bound    </td><td>ccre_v3</td><td>1</td></tr>\n",
       "\t<tr><td>chr10_100065094_100065486</td><td>Low-DNase               </td><td>ccre_v3</td><td>1</td></tr>\n",
       "</tbody>\n",
       "</table>\n"
      ],
      "text/latex": [
       "A tibble: 6 × 4\n",
       "\\begin{tabular}{llll}\n",
       " Peak & Category & Annotation & Count\\\\\n",
       " <chr> & <chr> & <chr> & <dbl>\\\\\n",
       "\\hline\n",
       "\t chr10\\_100009096\\_100010466 & DNase-H3K4me3,CTCF-bound & ccre\\_v3 & 2\\\\\n",
       "\t chr10\\_100009096\\_100010466 & Low-DNase                & ccre\\_v3 & 1\\\\\n",
       "\t chr10\\_100009096\\_100010466 & PLS,CTCF-bound           & ccre\\_v3 & 1\\\\\n",
       "\t chr10\\_100020710\\_100021134 & Low-DNase                & ccre\\_v3 & 2\\\\\n",
       "\t chr10\\_100045961\\_100046653 & CTCF-only,CTCF-bound     & ccre\\_v3 & 1\\\\\n",
       "\t chr10\\_100065094\\_100065486 & Low-DNase                & ccre\\_v3 & 1\\\\\n",
       "\\end{tabular}\n"
      ],
      "text/markdown": [
       "\n",
       "A tibble: 6 × 4\n",
       "\n",
       "| Peak &lt;chr&gt; | Category &lt;chr&gt; | Annotation &lt;chr&gt; | Count &lt;dbl&gt; |\n",
       "|---|---|---|---|\n",
       "| chr10_100009096_100010466 | DNase-H3K4me3,CTCF-bound | ccre_v3 | 2 |\n",
       "| chr10_100009096_100010466 | Low-DNase                | ccre_v3 | 1 |\n",
       "| chr10_100009096_100010466 | PLS,CTCF-bound           | ccre_v3 | 1 |\n",
       "| chr10_100020710_100021134 | Low-DNase                | ccre_v3 | 2 |\n",
       "| chr10_100045961_100046653 | CTCF-only,CTCF-bound     | ccre_v3 | 1 |\n",
       "| chr10_100065094_100065486 | Low-DNase                | ccre_v3 | 1 |\n",
       "\n"
      ],
      "text/plain": [
       "  Peak                      Category                 Annotation Count\n",
       "1 chr10_100009096_100010466 DNase-H3K4me3,CTCF-bound ccre_v3    2    \n",
       "2 chr10_100009096_100010466 Low-DNase                ccre_v3    1    \n",
       "3 chr10_100009096_100010466 PLS,CTCF-bound           ccre_v3    1    \n",
       "4 chr10_100020710_100021134 Low-DNase                ccre_v3    2    \n",
       "5 chr10_100045961_100046653 CTCF-only,CTCF-bound     ccre_v3    1    \n",
       "6 chr10_100065094_100065486 Low-DNase                ccre_v3    1    "
      ]
     },
     "metadata": {},
     "output_type": "display_data"
    }
   ],
   "source": [
    "fdiry = file.path(FD_RES, \"results\", \"region\", \"KS91_K562_ASTARRseq_peak_macs_input\", \"summary\")\n",
    "fname = \"peak.summary.ccre.tsv\"\n",
    "fpath = file.path(fdiry, fname)\n",
    "\n",
    "dat = read_tsv(fpath)\n",
    "\n",
    "dat_peak_annot_ccre_v3 = dat %>% dplyr::filter(Annotation == \"ccre_v3\")\n",
    "dat_peak_annot_ccre_v4 = dat %>% dplyr::filter(Annotation == \"ccre_v4\")\n",
    "print(dim(dat))\n",
    "head(dat)"
   ]
  },
  {
   "cell_type": "code",
   "execution_count": 38,
   "metadata": {},
   "outputs": [
    {
     "name": "stdout",
     "output_type": "stream",
     "text": [
      "[1] 8\n",
      "[1] \"CA-CTCF\"    \"CA-H3K4me3\" \"CA-only\"    \"CA-TF\"      \"dELS\"      \n",
      "[6] \"Low-DNase\"  \"pELS\"       \"PLS\"       \n",
      "\n",
      "\n",
      "CA-CTCF 23298 \n",
      "[1] \"chr10_100045961_100046653\" \"chr10_100240591_100241246\"\n",
      "[3] \"chr10_100338359_100339077\" \"chr10_100342247_100342824\"\n",
      "[5] \"chr10_100433434_100434444\" \"chr10_100481467_100483191\"\n",
      "\n",
      "\n",
      "CA-H3K4me3 3240 \n",
      "[1] \"chr10_100009096_100010466\" \"chr10_100454273_100455313\"\n",
      "[3] \"chr10_100968842_100970495\" \"chr10_101049986_101050921\"\n",
      "[5] \"chr10_101213416_101215567\" \"chr10_101291189_101292927\"\n",
      "\n",
      "\n",
      "CA-only 1546 \n",
      "[1] \"chr10_102619485_102621210\" \"chr10_102674009_102674869\"\n",
      "[3] \"chr10_107055680_107057103\" \"chr10_110833464_110835250\"\n",
      "[5] \"chr10_117424809_117425441\" \"chr10_119468542_119469551\"\n",
      "\n",
      "\n",
      "CA-TF 26756 \n",
      "[1] \"chr10_100129051_100131059\" \"chr10_100289686_100290090\"\n",
      "[3] \"chr10_100325166_100325596\" \"chr10_100364513_100365906\"\n",
      "[5] \"chr10_100433434_100434444\" \"chr10_100481467_100483191\"\n",
      "\n",
      "\n",
      "dELS 15782 \n",
      "[1] \"chr10_100358645_100359733\" \"chr10_100370571_100371646\"\n",
      "[3] \"chr10_1008874_1009782\"     \"chr10_101042559_101043551\"\n",
      "[5] \"chr10_101450179_101450847\" \"chr10_101453727_101454766\"\n",
      "\n",
      "\n",
      "Low-DNase 181650 \n",
      "[1] \"chr10_100009096_100010466\" \"chr10_100020710_100021134\"\n",
      "[3] \"chr10_100045961_100046653\" \"chr10_100065094_100065486\"\n",
      "[5] \"chr10_100081317_100081607\" \"chr10_100095324_100095660\"\n",
      "\n",
      "\n",
      "pELS 12960 \n",
      "[1] \"chr10_100009096_100010466\" \"chr10_100185017_100187275\"\n",
      "[3] \"chr10_100228452_100230090\" \"chr10_100285974_100287341\"\n",
      "[5] \"chr10_100346328_100347693\" \"chr10_100370571_100371646\"\n",
      "\n",
      "\n",
      "PLS 12077 \n",
      "[1] \"chr10_100009096_100010466\" \"chr10_100185017_100187275\"\n",
      "[3] \"chr10_100228452_100230090\" \"chr10_100267066_100268374\"\n",
      "[5] \"chr10_100285974_100287341\" \"chr10_100346328_100347693\"\n",
      "\n",
      "\n"
     ]
    }
   ],
   "source": [
    "dat = dat_peak_annot_ccre_v4\n",
    "lst = split(dat$Peak, dat$Category)\n",
    "\n",
    "lst_annot = lst\n",
    "\n",
    "print(length(lst))\n",
    "print(names(lst))\n",
    "cat(\"\\n\\n\")\n",
    "\n",
    "for (idx in names(lst_annot)){\n",
    "    x = lst_annot[[idx]]\n",
    "    cat(idx, length(x), \"\\n\")\n",
    "    print(head(x))\n",
    "    cat(\"\\n\\n\")\n",
    "}"
   ]
  },
  {
   "cell_type": "code",
   "execution_count": 39,
   "metadata": {},
   "outputs": [
    {
     "data": {
      "text/html": [
       "<table class=\"dataframe\">\n",
       "<caption>A tibble: 6 × 2</caption>\n",
       "<thead>\n",
       "\t<tr><th scope=col>Peak</th><th scope=col>RankNorm</th></tr>\n",
       "\t<tr><th scope=col>&lt;chr&gt;</th><th scope=col>&lt;dbl&gt;</th></tr>\n",
       "</thead>\n",
       "<tbody>\n",
       "\t<tr><td>chrX_48996933_48997220  </td><td>0.002129307</td></tr>\n",
       "\t<tr><td>chr8_128298518_128298762</td><td>0.009291521</td></tr>\n",
       "\t<tr><td>chr8_128242220_128242507</td><td>0.039876113</td></tr>\n",
       "\t<tr><td>chr11_34024311_34024546 </td><td>0.040456833</td></tr>\n",
       "\t<tr><td>chr8_128189792_128190210</td><td>0.041231127</td></tr>\n",
       "\t<tr><td>chr20_56703281_56703575 </td><td>0.048199768</td></tr>\n",
       "</tbody>\n",
       "</table>\n"
      ],
      "text/latex": [
       "A tibble: 6 × 2\n",
       "\\begin{tabular}{ll}\n",
       " Peak & RankNorm\\\\\n",
       " <chr> & <dbl>\\\\\n",
       "\\hline\n",
       "\t chrX\\_48996933\\_48997220   & 0.002129307\\\\\n",
       "\t chr8\\_128298518\\_128298762 & 0.009291521\\\\\n",
       "\t chr8\\_128242220\\_128242507 & 0.039876113\\\\\n",
       "\t chr11\\_34024311\\_34024546  & 0.040456833\\\\\n",
       "\t chr8\\_128189792\\_128190210 & 0.041231127\\\\\n",
       "\t chr20\\_56703281\\_56703575  & 0.048199768\\\\\n",
       "\\end{tabular}\n"
      ],
      "text/markdown": [
       "\n",
       "A tibble: 6 × 2\n",
       "\n",
       "| Peak &lt;chr&gt; | RankNorm &lt;dbl&gt; |\n",
       "|---|---|\n",
       "| chrX_48996933_48997220   | 0.002129307 |\n",
       "| chr8_128298518_128298762 | 0.009291521 |\n",
       "| chr8_128242220_128242507 | 0.039876113 |\n",
       "| chr11_34024311_34024546  | 0.040456833 |\n",
       "| chr8_128189792_128190210 | 0.041231127 |\n",
       "| chr20_56703281_56703575  | 0.048199768 |\n",
       "\n"
      ],
      "text/plain": [
       "  Peak                     RankNorm   \n",
       "1 chrX_48996933_48997220   0.002129307\n",
       "2 chr8_128298518_128298762 0.009291521\n",
       "3 chr8_128242220_128242507 0.039876113\n",
       "4 chr11_34024311_34024546  0.040456833\n",
       "5 chr8_128189792_128190210 0.041231127\n",
       "6 chr20_56703281_56703575  0.048199768"
      ]
     },
     "metadata": {},
     "output_type": "display_data"
    }
   ],
   "source": [
    "dat = dat_peak_log2fc\n",
    "dat = dat %>% \n",
    "    dplyr::group_by(Peak) %>% \n",
    "    dplyr::summarise(\n",
    "        RankNorm = mean(RankNorm_Total),\n",
    "        .groups  = \"drop\") %>%\n",
    "    dplyr::arrange(RankNorm)\n",
    "\n",
    "head(dat)"
   ]
  },
  {
   "cell_type": "code",
   "execution_count": 40,
   "metadata": {},
   "outputs": [
    {
     "name": "stdout",
     "output_type": "stream",
     "text": [
      "[1] 1722\n",
      "  chrX_48996933_48997220 chr8_128298518_128298762 chr8_128242220_128242507 \n",
      "             0.002129307              0.009291521              0.039876113 \n",
      " chr11_34024311_34024546 chr8_128189792_128190210  chr20_56703281_56703575 \n",
      "             0.040456833              0.041231127              0.048199768 \n"
     ]
    }
   ],
   "source": [
    "dat = dat_peak_log2fc\n",
    "dat = dat %>% \n",
    "    dplyr::group_by(Peak) %>% \n",
    "    dplyr::summarise(\n",
    "        RankNorm = mean(RankNorm_Total),\n",
    "        .groups  = \"drop\") %>%\n",
    "    dplyr::arrange(RankNorm)\n",
    "\n",
    "vec = dat$RankNorm\n",
    "names(vec) = dat$Peak\n",
    "\n",
    "vec_peak = vec\n",
    "print(length(vec))\n",
    "print(head(vec))"
   ]
  },
  {
   "cell_type": "code",
   "execution_count": 41,
   "metadata": {},
   "outputs": [
    {
     "name": "stderr",
     "output_type": "stream",
     "text": [
      "Warning message in preparePathwaysAndStats(pathways, stats, minSize, maxSize, gseaParam, :\n",
      "“There are ties in the preranked stats (13.24% of the list).\n",
      "The order of those tied genes will be arbitrary, which may produce unexpected results.”\n"
     ]
    },
    {
     "name": "stdout",
     "output_type": "stream",
     "text": [
      "[1] \"data.table\" \"data.frame\"\n"
     ]
    }
   ],
   "source": [
    "set.seed(42)\n",
    "fgseaRes = fgsea(pathways  = lst_annot, \n",
    "                 stats     = vec_peak,\n",
    "                 eps       = 0.0,\n",
    "                 #minSize   = 15,\n",
    "                 #maxSize   = 500,\n",
    "                 scoreType = \"pos\"\n",
    "                )\n",
    "\n",
    "print(class(fgseaRes))"
   ]
  },
  {
   "cell_type": "code",
   "execution_count": 42,
   "metadata": {},
   "outputs": [
    {
     "data": {
      "text/html": [
       "<table class=\"dataframe\">\n",
       "<caption>A data.table: 6 × 8</caption>\n",
       "<thead>\n",
       "\t<tr><th scope=col>pathway</th><th scope=col>pval</th><th scope=col>padj</th><th scope=col>log2err</th><th scope=col>ES</th><th scope=col>NES</th><th scope=col>size</th><th scope=col>nLogP</th></tr>\n",
       "\t<tr><th scope=col>&lt;chr&gt;</th><th scope=col>&lt;dbl&gt;</th><th scope=col>&lt;dbl&gt;</th><th scope=col>&lt;dbl&gt;</th><th scope=col>&lt;dbl&gt;</th><th scope=col>&lt;dbl&gt;</th><th scope=col>&lt;int&gt;</th><th scope=col>&lt;dbl&gt;</th></tr>\n",
       "</thead>\n",
       "<tbody>\n",
       "\t<tr><td>CA-CTCF   </td><td>1.198801e-01</td><td>1.598402e-01</td><td>0.12384217</td><td>0.2492458</td><td>1.2052135</td><td> 148</td><td> 0.79631409</td></tr>\n",
       "\t<tr><td>CA-H3K4me3</td><td>1.053681e-02</td><td>1.685889e-02</td><td>0.38073040</td><td>0.4601004</td><td>1.6949645</td><td>  20</td><td> 1.77317101</td></tr>\n",
       "\t<tr><td>CA-TF     </td><td>9.042251e-03</td><td>1.685889e-02</td><td>0.38073040</td><td>0.2803611</td><td>1.3874258</td><td> 200</td><td> 1.77317101</td></tr>\n",
       "\t<tr><td>CA-only   </td><td>4.815185e-01</td><td>5.503068e-01</td><td>0.04735342</td><td>0.3570007</td><td>1.0144088</td><td>   6</td><td> 0.25939509</td></tr>\n",
       "\t<tr><td>Low-DNase </td><td>8.901099e-01</td><td>8.901099e-01</td><td>0.01603044</td><td>0.1626470</td><td>0.8421447</td><td>1245</td><td> 0.05055637</td></tr>\n",
       "\t<tr><td>PLS       </td><td>6.877440e-27</td><td>2.750976e-26</td><td>1.34223377</td><td>0.6179431</td><td>2.9459986</td><td> 125</td><td>25.56051319</td></tr>\n",
       "</tbody>\n",
       "</table>\n"
      ],
      "text/latex": [
       "A data.table: 6 × 8\n",
       "\\begin{tabular}{llllllll}\n",
       " pathway & pval & padj & log2err & ES & NES & size & nLogP\\\\\n",
       " <chr> & <dbl> & <dbl> & <dbl> & <dbl> & <dbl> & <int> & <dbl>\\\\\n",
       "\\hline\n",
       "\t CA-CTCF    & 1.198801e-01 & 1.598402e-01 & 0.12384217 & 0.2492458 & 1.2052135 &  148 &  0.79631409\\\\\n",
       "\t CA-H3K4me3 & 1.053681e-02 & 1.685889e-02 & 0.38073040 & 0.4601004 & 1.6949645 &   20 &  1.77317101\\\\\n",
       "\t CA-TF      & 9.042251e-03 & 1.685889e-02 & 0.38073040 & 0.2803611 & 1.3874258 &  200 &  1.77317101\\\\\n",
       "\t CA-only    & 4.815185e-01 & 5.503068e-01 & 0.04735342 & 0.3570007 & 1.0144088 &    6 &  0.25939509\\\\\n",
       "\t Low-DNase  & 8.901099e-01 & 8.901099e-01 & 0.01603044 & 0.1626470 & 0.8421447 & 1245 &  0.05055637\\\\\n",
       "\t PLS        & 6.877440e-27 & 2.750976e-26 & 1.34223377 & 0.6179431 & 2.9459986 &  125 & 25.56051319\\\\\n",
       "\\end{tabular}\n"
      ],
      "text/markdown": [
       "\n",
       "A data.table: 6 × 8\n",
       "\n",
       "| pathway &lt;chr&gt; | pval &lt;dbl&gt; | padj &lt;dbl&gt; | log2err &lt;dbl&gt; | ES &lt;dbl&gt; | NES &lt;dbl&gt; | size &lt;int&gt; | nLogP &lt;dbl&gt; |\n",
       "|---|---|---|---|---|---|---|---|\n",
       "| CA-CTCF    | 1.198801e-01 | 1.598402e-01 | 0.12384217 | 0.2492458 | 1.2052135 |  148 |  0.79631409 |\n",
       "| CA-H3K4me3 | 1.053681e-02 | 1.685889e-02 | 0.38073040 | 0.4601004 | 1.6949645 |   20 |  1.77317101 |\n",
       "| CA-TF      | 9.042251e-03 | 1.685889e-02 | 0.38073040 | 0.2803611 | 1.3874258 |  200 |  1.77317101 |\n",
       "| CA-only    | 4.815185e-01 | 5.503068e-01 | 0.04735342 | 0.3570007 | 1.0144088 |    6 |  0.25939509 |\n",
       "| Low-DNase  | 8.901099e-01 | 8.901099e-01 | 0.01603044 | 0.1626470 | 0.8421447 | 1245 |  0.05055637 |\n",
       "| PLS        | 6.877440e-27 | 2.750976e-26 | 1.34223377 | 0.6179431 | 2.9459986 |  125 | 25.56051319 |\n",
       "\n"
      ],
      "text/plain": [
       "  pathway    pval         padj         log2err    ES        NES       size\n",
       "1 CA-CTCF    1.198801e-01 1.598402e-01 0.12384217 0.2492458 1.2052135  148\n",
       "2 CA-H3K4me3 1.053681e-02 1.685889e-02 0.38073040 0.4601004 1.6949645   20\n",
       "3 CA-TF      9.042251e-03 1.685889e-02 0.38073040 0.2803611 1.3874258  200\n",
       "4 CA-only    4.815185e-01 5.503068e-01 0.04735342 0.3570007 1.0144088    6\n",
       "5 Low-DNase  8.901099e-01 8.901099e-01 0.01603044 0.1626470 0.8421447 1245\n",
       "6 PLS        6.877440e-27 2.750976e-26 1.34223377 0.6179431 2.9459986  125\n",
       "  nLogP      \n",
       "1  0.79631409\n",
       "2  1.77317101\n",
       "3  1.77317101\n",
       "4  0.25939509\n",
       "5  0.05055637\n",
       "6 25.56051319"
      ]
     },
     "metadata": {},
     "output_type": "display_data"
    }
   ],
   "source": [
    "dat = fgseaRes\n",
    "dat = dat %>% \n",
    "    dplyr::select(pathway, pval, padj, log2err, ES, NES, size) %>%\n",
    "    dplyr::mutate(nLogP = -log10(padj))\n",
    "head(dat)"
   ]
  },
  {
   "cell_type": "code",
   "execution_count": 43,
   "metadata": {},
   "outputs": [],
   "source": [
    "theme_color = scale_colour_gradient(low = \"#fcbba1\", high = \"#cb181d\")\n",
    "\n",
    "theme_text = theme(\n",
    "        axis.text.x = element_text(size=15),\n",
    "        axis.text.y = element_text(size=15)\n",
    ")\n",
    "\n",
    "theme_grid = theme(\n",
    "    panel.grid.major.x = element_line(\n",
    "        color     = \"grey90\",\n",
    "        linewidth = 0.5,\n",
    "        linetype  = 1),\n",
    "    panel.grid.major.y = element_line(\n",
    "        color     = \"grey90\",\n",
    "        linewidth = 0.5,\n",
    "        linetype  = 1),\n",
    "    panel.grid.minor.y = element_line(\n",
    "        color     = \"grey90\",\n",
    "        linewidth = 0.5,\n",
    "        linetype  = 1)\n",
    ")"
   ]
  },
  {
   "cell_type": "code",
   "execution_count": 45,
   "metadata": {},
   "outputs": [
    {
     "data": {
      "image/png": "[encoded data removed]",
      "text/plain": [
       "plot without title"
      ]
     },
     "metadata": {
      "image/png": {
       "height": 300,
       "width": 480
      }
     },
     "output_type": "display_data"
    }
   ],
   "source": [
    "dat = fgseaRes\n",
    "dat = dat %>% \n",
    "    dplyr::select(pathway, pval, padj, log2err, ES, NES, size) %>%\n",
    "    dplyr::mutate(nlogP = -log10(padj)) %>%\n",
    "    dplyr::arrange(NES) %>%\n",
    "    dplyr::mutate(pathway = factor(pathway, levels=pathway))\n",
    "\n",
    "gpt = ggplot(dat, aes(x = NES, y=pathway, size=size, color=nlogP)) + \n",
    "    geom_point() + \n",
    "    scale_size(range = c(5, 10)) +\n",
    "    labs(x = \"Normalized Enrichment Score\", y = \"\") +\n",
    "    theme_cowplot() +\n",
    "    theme_grid +\n",
    "    theme_text +\n",
    "    theme_color\n",
    "\n",
    "options(repr.plot.height=5, repr.plot.width=8)\n",
    "print(gpt)"
   ]
  },
  {
   "cell_type": "code",
   "execution_count": 46,
   "metadata": {},
   "outputs": [
    {
     "data": {
      "text/html": [
       "<table class=\"dataframe\">\n",
       "<caption>A data.table: 8 × 8</caption>\n",
       "<thead>\n",
       "\t<tr><th scope=col>pathway</th><th scope=col>pval</th><th scope=col>padj</th><th scope=col>log2err</th><th scope=col>ES</th><th scope=col>NES</th><th scope=col>size</th><th scope=col>nlogP</th></tr>\n",
       "\t<tr><th scope=col>&lt;fct&gt;</th><th scope=col>&lt;dbl&gt;</th><th scope=col>&lt;dbl&gt;</th><th scope=col>&lt;dbl&gt;</th><th scope=col>&lt;dbl&gt;</th><th scope=col>&lt;dbl&gt;</th><th scope=col>&lt;int&gt;</th><th scope=col>&lt;dbl&gt;</th></tr>\n",
       "</thead>\n",
       "<tbody>\n",
       "\t<tr><td>CA-CTCF   </td><td>1.198801e-01</td><td>1.598402e-01</td><td>0.12384217</td><td>0.2492458</td><td>1.2052135</td><td> 148</td><td> 0.79631409</td></tr>\n",
       "\t<tr><td>CA-H3K4me3</td><td>1.053681e-02</td><td>1.685889e-02</td><td>0.38073040</td><td>0.4601004</td><td>1.6949645</td><td>  20</td><td> 1.77317101</td></tr>\n",
       "\t<tr><td>CA-TF     </td><td>9.042251e-03</td><td>1.685889e-02</td><td>0.38073040</td><td>0.2803611</td><td>1.3874258</td><td> 200</td><td> 1.77317101</td></tr>\n",
       "\t<tr><td>CA-only   </td><td>4.815185e-01</td><td>5.503068e-01</td><td>0.04735342</td><td>0.3570007</td><td>1.0144088</td><td>   6</td><td> 0.25939509</td></tr>\n",
       "\t<tr><td>Low-DNase </td><td>8.901099e-01</td><td>8.901099e-01</td><td>0.01603044</td><td>0.1626470</td><td>0.8421447</td><td>1245</td><td> 0.05055637</td></tr>\n",
       "\t<tr><td>PLS       </td><td>6.877440e-27</td><td>2.750976e-26</td><td>1.34223377</td><td>0.6179431</td><td>2.9459986</td><td> 125</td><td>25.56051319</td></tr>\n",
       "\t<tr><td>dELS      </td><td>6.784074e-12</td><td>1.809087e-11</td><td>0.88707499</td><td>0.4378838</td><td>2.1337759</td><td> 164</td><td>10.74254067</td></tr>\n",
       "\t<tr><td>pELS      </td><td>2.325663e-28</td><td>1.860531e-27</td><td>1.38026492</td><td>0.5971901</td><td>2.8900867</td><td> 149</td><td>26.73036317</td></tr>\n",
       "</tbody>\n",
       "</table>\n"
      ],
      "text/latex": [
       "A data.table: 8 × 8\n",
       "\\begin{tabular}{llllllll}\n",
       " pathway & pval & padj & log2err & ES & NES & size & nlogP\\\\\n",
       " <fct> & <dbl> & <dbl> & <dbl> & <dbl> & <dbl> & <int> & <dbl>\\\\\n",
       "\\hline\n",
       "\t CA-CTCF    & 1.198801e-01 & 1.598402e-01 & 0.12384217 & 0.2492458 & 1.2052135 &  148 &  0.79631409\\\\\n",
       "\t CA-H3K4me3 & 1.053681e-02 & 1.685889e-02 & 0.38073040 & 0.4601004 & 1.6949645 &   20 &  1.77317101\\\\\n",
       "\t CA-TF      & 9.042251e-03 & 1.685889e-02 & 0.38073040 & 0.2803611 & 1.3874258 &  200 &  1.77317101\\\\\n",
       "\t CA-only    & 4.815185e-01 & 5.503068e-01 & 0.04735342 & 0.3570007 & 1.0144088 &    6 &  0.25939509\\\\\n",
       "\t Low-DNase  & 8.901099e-01 & 8.901099e-01 & 0.01603044 & 0.1626470 & 0.8421447 & 1245 &  0.05055637\\\\\n",
       "\t PLS        & 6.877440e-27 & 2.750976e-26 & 1.34223377 & 0.6179431 & 2.9459986 &  125 & 25.56051319\\\\\n",
       "\t dELS       & 6.784074e-12 & 1.809087e-11 & 0.88707499 & 0.4378838 & 2.1337759 &  164 & 10.74254067\\\\\n",
       "\t pELS       & 2.325663e-28 & 1.860531e-27 & 1.38026492 & 0.5971901 & 2.8900867 &  149 & 26.73036317\\\\\n",
       "\\end{tabular}\n"
      ],
      "text/markdown": [
       "\n",
       "A data.table: 8 × 8\n",
       "\n",
       "| pathway &lt;fct&gt; | pval &lt;dbl&gt; | padj &lt;dbl&gt; | log2err &lt;dbl&gt; | ES &lt;dbl&gt; | NES &lt;dbl&gt; | size &lt;int&gt; | nlogP &lt;dbl&gt; |\n",
       "|---|---|---|---|---|---|---|---|\n",
       "| CA-CTCF    | 1.198801e-01 | 1.598402e-01 | 0.12384217 | 0.2492458 | 1.2052135 |  148 |  0.79631409 |\n",
       "| CA-H3K4me3 | 1.053681e-02 | 1.685889e-02 | 0.38073040 | 0.4601004 | 1.6949645 |   20 |  1.77317101 |\n",
       "| CA-TF      | 9.042251e-03 | 1.685889e-02 | 0.38073040 | 0.2803611 | 1.3874258 |  200 |  1.77317101 |\n",
       "| CA-only    | 4.815185e-01 | 5.503068e-01 | 0.04735342 | 0.3570007 | 1.0144088 |    6 |  0.25939509 |\n",
       "| Low-DNase  | 8.901099e-01 | 8.901099e-01 | 0.01603044 | 0.1626470 | 0.8421447 | 1245 |  0.05055637 |\n",
       "| PLS        | 6.877440e-27 | 2.750976e-26 | 1.34223377 | 0.6179431 | 2.9459986 |  125 | 25.56051319 |\n",
       "| dELS       | 6.784074e-12 | 1.809087e-11 | 0.88707499 | 0.4378838 | 2.1337759 |  164 | 10.74254067 |\n",
       "| pELS       | 2.325663e-28 | 1.860531e-27 | 1.38026492 | 0.5971901 | 2.8900867 |  149 | 26.73036317 |\n",
       "\n"
      ],
      "text/plain": [
       "  pathway    pval         padj         log2err    ES        NES       size\n",
       "1 CA-CTCF    1.198801e-01 1.598402e-01 0.12384217 0.2492458 1.2052135  148\n",
       "2 CA-H3K4me3 1.053681e-02 1.685889e-02 0.38073040 0.4601004 1.6949645   20\n",
       "3 CA-TF      9.042251e-03 1.685889e-02 0.38073040 0.2803611 1.3874258  200\n",
       "4 CA-only    4.815185e-01 5.503068e-01 0.04735342 0.3570007 1.0144088    6\n",
       "5 Low-DNase  8.901099e-01 8.901099e-01 0.01603044 0.1626470 0.8421447 1245\n",
       "6 PLS        6.877440e-27 2.750976e-26 1.34223377 0.6179431 2.9459986  125\n",
       "7 dELS       6.784074e-12 1.809087e-11 0.88707499 0.4378838 2.1337759  164\n",
       "8 pELS       2.325663e-28 1.860531e-27 1.38026492 0.5971901 2.8900867  149\n",
       "  nlogP      \n",
       "1  0.79631409\n",
       "2  1.77317101\n",
       "3  1.77317101\n",
       "4  0.25939509\n",
       "5  0.05055637\n",
       "6 25.56051319\n",
       "7 10.74254067\n",
       "8 26.73036317"
      ]
     },
     "metadata": {},
     "output_type": "display_data"
    }
   ],
   "source": [
    "dat = fgseaRes\n",
    "dat = dat %>% \n",
    "    dplyr::select(pathway, pval, padj, log2err, ES, NES, size) %>%\n",
    "    dplyr::mutate(nlogP = -log10(padj)) %>%\n",
    "    dplyr::mutate(pathway = factor(pathway, levels=pathway))\n",
    "dat"
   ]
  },
  {
   "cell_type": "code",
   "execution_count": 47,
   "metadata": {},
   "outputs": [
    {
     "data": {
      "image/png": "[encoded data removed]",
      "text/plain": [
       "plot without title"
      ]
     },
     "metadata": {
      "image/png": {
       "height": 300,
       "width": 480
      }
     },
     "output_type": "display_data"
    }
   ],
   "source": [
    "dat = fgseaRes\n",
    "dat = dat %>% \n",
    "    dplyr::select(pathway, pval, padj, log2err, ES, NES, size) %>%\n",
    "    dplyr::mutate(nlogP = -log10(padj)) %>%\n",
    "    dplyr::arrange(nlogP) %>%\n",
    "    dplyr::mutate(pathway = factor(pathway, levels=pathway))\n",
    "    \n",
    "gpt = ggplot(dat, aes(x = nlogP, y=pathway, size=size)) + \n",
    "    geom_point() + \n",
    "    scale_size(range = c(3, 10)) +\n",
    "    labs(x = \"nLog10P\", y = \"\") +\n",
    "    theme_cowplot() +\n",
    "    theme_grid +\n",
    "    theme_text\n",
    "\n",
    "options(repr.plot.height=5, repr.plot.width=8)\n",
    "print(gpt)"
   ]
  },
  {
   "cell_type": "code",
   "execution_count": 48,
   "metadata": {},
   "outputs": [
    {
     "data": {
      "text/html": [
       "<style>\n",
       ".list-inline {list-style: none; margin:0; padding: 0}\n",
       ".list-inline>li {display: inline-block}\n",
       ".list-inline>li:not(:last-child)::after {content: \"\\00b7\"; padding: 0 .5ex}\n",
       "</style>\n",
       "<ol class=list-inline><li>Low-DNase</li><li>CA-only</li><li>CA-CTCF</li><li>CA-H3K4me3</li><li>CA-TF</li><li>dELS</li><li>PLS</li><li>pELS</li></ol>\n",
       "\n",
       "<details>\n",
       "\t<summary style=display:list-item;cursor:pointer>\n",
       "\t\t<strong>Levels</strong>:\n",
       "\t</summary>\n",
       "\t<style>\n",
       "\t.list-inline {list-style: none; margin:0; padding: 0}\n",
       "\t.list-inline>li {display: inline-block}\n",
       "\t.list-inline>li:not(:last-child)::after {content: \"\\00b7\"; padding: 0 .5ex}\n",
       "\t</style>\n",
       "\t<ol class=list-inline><li>'Low-DNase'</li><li>'CA-only'</li><li>'CA-CTCF'</li><li>'CA-H3K4me3'</li><li>'CA-TF'</li><li>'dELS'</li><li>'PLS'</li><li>'pELS'</li></ol>\n",
       "</details>"
      ],
      "text/latex": [
       "\\begin{enumerate*}\n",
       "\\item Low-DNase\n",
       "\\item CA-only\n",
       "\\item CA-CTCF\n",
       "\\item CA-H3K4me3\n",
       "\\item CA-TF\n",
       "\\item dELS\n",
       "\\item PLS\n",
       "\\item pELS\n",
       "\\end{enumerate*}\n",
       "\n",
       "\\emph{Levels}: \\begin{enumerate*}\n",
       "\\item 'Low-DNase'\n",
       "\\item 'CA-only'\n",
       "\\item 'CA-CTCF'\n",
       "\\item 'CA-H3K4me3'\n",
       "\\item 'CA-TF'\n",
       "\\item 'dELS'\n",
       "\\item 'PLS'\n",
       "\\item 'pELS'\n",
       "\\end{enumerate*}\n"
      ],
      "text/markdown": [
       "1. Low-DNase\n",
       "2. CA-only\n",
       "3. CA-CTCF\n",
       "4. CA-H3K4me3\n",
       "5. CA-TF\n",
       "6. dELS\n",
       "7. PLS\n",
       "8. pELS\n",
       "\n",
       "\n",
       "\n",
       "**Levels**: 1. 'Low-DNase'\n",
       "2. 'CA-only'\n",
       "3. 'CA-CTCF'\n",
       "4. 'CA-H3K4me3'\n",
       "5. 'CA-TF'\n",
       "6. 'dELS'\n",
       "7. 'PLS'\n",
       "8. 'pELS'\n",
       "\n",
       "\n"
      ],
      "text/plain": [
       "[1] Low-DNase  CA-only    CA-CTCF    CA-H3K4me3 CA-TF      dELS       PLS       \n",
       "[8] pELS      \n",
       "Levels: Low-DNase CA-only CA-CTCF CA-H3K4me3 CA-TF dELS PLS pELS"
      ]
     },
     "metadata": {},
     "output_type": "display_data"
    }
   ],
   "source": [
    "dat$pathway"
   ]
  },
  {
   "cell_type": "code",
   "execution_count": 32,
   "metadata": {},
   "outputs": [
    {
     "data": {
      "text/html": [
       "11"
      ],
      "text/latex": [
       "11"
      ],
      "text/markdown": [
       "11"
      ],
      "text/plain": [
       "[1] 11"
      ]
     },
     "metadata": {},
     "output_type": "display_data"
    }
   ],
   "source": [
    "length(dat$pathway)"
   ]
  },
  {
   "cell_type": "code",
   "execution_count": 33,
   "metadata": {},
   "outputs": [
    {
     "ename": "ERROR",
     "evalue": "Error in parse(text = x, srcfile = src): <text>:1:16: unexpected ','\n1: 'DNase-H3K4me3',\n                   ^\n",
     "output_type": "error",
     "traceback": [
      "Error in parse(text = x, srcfile = src): <text>:1:16: unexpected ','\n1: 'DNase-H3K4me3',\n                   ^\nTraceback:\n"
     ]
    }
   ],
   "source": [
    "'DNase-H3K4me3', 'CTCF-only,CTCF-bound', 'Low-DNase', 'DNase-H3K4me3,CTCF-bound', 'DNase-only', 'dELS,CTCF-bound', 'pELS,CTCF-bound', 'PLS,CTCF-bound', 'dELS', 'PLS', 'pELS'"
   ]
  },
  {
   "cell_type": "code",
   "execution_count": null,
   "metadata": {},
   "outputs": [],
   "source": []
  }
 ],
 "metadata": {
  "kernelspec": {
   "display_name": "R",
   "language": "R",
   "name": "ir"
  },
  "language_info": {
   "codemirror_mode": "r",
   "file_extension": ".r",
   "mimetype": "text/x-r-source",
   "name": "R",
   "pygments_lexer": "r",
   "version": "4.2.3"
  }
 },
 "nbformat": 4,
 "nbformat_minor": 4
}
