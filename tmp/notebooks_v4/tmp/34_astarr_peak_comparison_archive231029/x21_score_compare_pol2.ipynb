{
 "cells": [
  {
   "cell_type": "code",
   "execution_count": 1,
   "metadata": {},
   "outputs": [
    {
     "name": "stdout",
     "output_type": "stream",
     "text": [
      "You are in Singularity: singularity_proj_encode_fcc \n",
      "BASE DIRECTORY (FD_BASE): /data/reddylab/Kuei \n",
      "WORK DIRECTORY (FD_WORK): /data/reddylab/Kuei/out \n",
      "CODE DIRECTORY (FD_CODE): /data/reddylab/Kuei/code \n",
      "PATH OF PROJECT (FD_PRJ): /data/reddylab/Kuei/code/Proj_CombEffect_ENCODE_FCC \n",
      "PATH OF RESULTS (FD_RES): /data/reddylab/Kuei/out/proj_combeffect_encode_fcc \n",
      "PATH OF LOG     (FD_LOG): /data/reddylab/Kuei/out/proj_combeffect_encode_fcc/log \n"
     ]
    }
   ],
   "source": [
    "suppressMessages(suppressWarnings(source(\"../config/config_sing.R\")))\n",
    "show_env()"
   ]
  },
  {
   "cell_type": "code",
   "execution_count": 2,
   "metadata": {},
   "outputs": [
    {
     "name": "stderr",
     "output_type": "stream",
     "text": [
      "\u001b[1mRows: \u001b[22m\u001b[34m5166\u001b[39m \u001b[1mColumns: \u001b[22m\u001b[34m10\u001b[39m\n",
      "\u001b[36m──\u001b[39m \u001b[1mColumn specification\u001b[22m \u001b[36m─────────────────────────────────────────────────────────────────────\u001b[39m\n",
      "\u001b[1mDelimiter:\u001b[22m \"\\t\"\n",
      "\u001b[31mchr\u001b[39m (6): Chrom, Peak, TMPRA_Gene, TMPRA_Dataset, CRISPR_HCFF, Assay\n",
      "\u001b[32mdbl\u001b[39m (4): Start, End, Log2FC, RankNorm_Total\n",
      "\n",
      "\u001b[36mℹ\u001b[39m Use `spec()` to retrieve the full column specification for this data.\n",
      "\u001b[36mℹ\u001b[39m Specify the column types or set `show_col_types = FALSE` to quiet this message.\n"
     ]
    },
    {
     "name": "stdout",
     "output_type": "stream",
     "text": [
      "[1] 5166   10\n"
     ]
    },
    {
     "data": {
      "text/html": [
       "<table class=\"dataframe\">\n",
       "<caption>A tibble: 6 × 10</caption>\n",
       "<thead>\n",
       "\t<tr><th scope=col>Chrom</th><th scope=col>Start</th><th scope=col>End</th><th scope=col>Peak</th><th scope=col>TMPRA_Gene</th><th scope=col>TMPRA_Dataset</th><th scope=col>CRISPR_HCFF</th><th scope=col>Assay</th><th scope=col>Log2FC</th><th scope=col>RankNorm_Total</th></tr>\n",
       "\t<tr><th scope=col>&lt;chr&gt;</th><th scope=col>&lt;dbl&gt;</th><th scope=col>&lt;dbl&gt;</th><th scope=col>&lt;chr&gt;</th><th scope=col>&lt;chr&gt;</th><th scope=col>&lt;chr&gt;</th><th scope=col>&lt;chr&gt;</th><th scope=col>&lt;chr&gt;</th><th scope=col>&lt;dbl&gt;</th><th scope=col>&lt;dbl&gt;</th></tr>\n",
       "</thead>\n",
       "<tbody>\n",
       "\t<tr><td>chr11</td><td>4539569</td><td>4540043</td><td>chr11:4539569-4540043</td><td>HBE1</td><td>OL45</td><td>HBE1,HBG1,HBG2,HBS1L,MYB</td><td>ASTARR</td><td> 0.14501695</td><td>0.6550523</td></tr>\n",
       "\t<tr><td>chr11</td><td>4551336</td><td>4552012</td><td>chr11:4551336-4552012</td><td>HBE1</td><td>OL45</td><td>NA                      </td><td>ASTARR</td><td> 0.32125162</td><td>0.7560976</td></tr>\n",
       "\t<tr><td>chr11</td><td>4553969</td><td>4555012</td><td>chr11:4553969-4555012</td><td>HBE1</td><td>OL45</td><td>NA                      </td><td>ASTARR</td><td> 0.14529397</td><td>0.6556330</td></tr>\n",
       "\t<tr><td>chr11</td><td>4569016</td><td>4569992</td><td>chr11:4569016-4569992</td><td>HBE1</td><td>OL45</td><td>NA                      </td><td>ASTARR</td><td> 0.01136464</td><td>0.5673635</td></tr>\n",
       "\t<tr><td>chr11</td><td>4577444</td><td>4578031</td><td>chr11:4577444-4578031</td><td>HBE1</td><td>OL45</td><td>NA                      </td><td>ASTARR</td><td> 0.24524353</td><td>0.7154472</td></tr>\n",
       "\t<tr><td>chr11</td><td>4601808</td><td>4602487</td><td>chr11:4601808-4602487</td><td>HBE1</td><td>OL45</td><td>NA                      </td><td>ASTARR</td><td>-0.57215284</td><td>0.1277584</td></tr>\n",
       "</tbody>\n",
       "</table>\n"
      ],
      "text/latex": [
       "A tibble: 6 × 10\n",
       "\\begin{tabular}{llllllllll}\n",
       " Chrom & Start & End & Peak & TMPRA\\_Gene & TMPRA\\_Dataset & CRISPR\\_HCFF & Assay & Log2FC & RankNorm\\_Total\\\\\n",
       " <chr> & <dbl> & <dbl> & <chr> & <chr> & <chr> & <chr> & <chr> & <dbl> & <dbl>\\\\\n",
       "\\hline\n",
       "\t chr11 & 4539569 & 4540043 & chr11:4539569-4540043 & HBE1 & OL45 & HBE1,HBG1,HBG2,HBS1L,MYB & ASTARR &  0.14501695 & 0.6550523\\\\\n",
       "\t chr11 & 4551336 & 4552012 & chr11:4551336-4552012 & HBE1 & OL45 & NA                       & ASTARR &  0.32125162 & 0.7560976\\\\\n",
       "\t chr11 & 4553969 & 4555012 & chr11:4553969-4555012 & HBE1 & OL45 & NA                       & ASTARR &  0.14529397 & 0.6556330\\\\\n",
       "\t chr11 & 4569016 & 4569992 & chr11:4569016-4569992 & HBE1 & OL45 & NA                       & ASTARR &  0.01136464 & 0.5673635\\\\\n",
       "\t chr11 & 4577444 & 4578031 & chr11:4577444-4578031 & HBE1 & OL45 & NA                       & ASTARR &  0.24524353 & 0.7154472\\\\\n",
       "\t chr11 & 4601808 & 4602487 & chr11:4601808-4602487 & HBE1 & OL45 & NA                       & ASTARR & -0.57215284 & 0.1277584\\\\\n",
       "\\end{tabular}\n"
      ],
      "text/markdown": [
       "\n",
       "A tibble: 6 × 10\n",
       "\n",
       "| Chrom &lt;chr&gt; | Start &lt;dbl&gt; | End &lt;dbl&gt; | Peak &lt;chr&gt; | TMPRA_Gene &lt;chr&gt; | TMPRA_Dataset &lt;chr&gt; | CRISPR_HCFF &lt;chr&gt; | Assay &lt;chr&gt; | Log2FC &lt;dbl&gt; | RankNorm_Total &lt;dbl&gt; |\n",
       "|---|---|---|---|---|---|---|---|---|---|\n",
       "| chr11 | 4539569 | 4540043 | chr11:4539569-4540043 | HBE1 | OL45 | HBE1,HBG1,HBG2,HBS1L,MYB | ASTARR |  0.14501695 | 0.6550523 |\n",
       "| chr11 | 4551336 | 4552012 | chr11:4551336-4552012 | HBE1 | OL45 | NA                       | ASTARR |  0.32125162 | 0.7560976 |\n",
       "| chr11 | 4553969 | 4555012 | chr11:4553969-4555012 | HBE1 | OL45 | NA                       | ASTARR |  0.14529397 | 0.6556330 |\n",
       "| chr11 | 4569016 | 4569992 | chr11:4569016-4569992 | HBE1 | OL45 | NA                       | ASTARR |  0.01136464 | 0.5673635 |\n",
       "| chr11 | 4577444 | 4578031 | chr11:4577444-4578031 | HBE1 | OL45 | NA                       | ASTARR |  0.24524353 | 0.7154472 |\n",
       "| chr11 | 4601808 | 4602487 | chr11:4601808-4602487 | HBE1 | OL45 | NA                       | ASTARR | -0.57215284 | 0.1277584 |\n",
       "\n"
      ],
      "text/plain": [
       "  Chrom Start   End     Peak                  TMPRA_Gene TMPRA_Dataset\n",
       "1 chr11 4539569 4540043 chr11:4539569-4540043 HBE1       OL45         \n",
       "2 chr11 4551336 4552012 chr11:4551336-4552012 HBE1       OL45         \n",
       "3 chr11 4553969 4555012 chr11:4553969-4555012 HBE1       OL45         \n",
       "4 chr11 4569016 4569992 chr11:4569016-4569992 HBE1       OL45         \n",
       "5 chr11 4577444 4578031 chr11:4577444-4578031 HBE1       OL45         \n",
       "6 chr11 4601808 4602487 chr11:4601808-4602487 HBE1       OL45         \n",
       "  CRISPR_HCFF              Assay  Log2FC      RankNorm_Total\n",
       "1 HBE1,HBG1,HBG2,HBS1L,MYB ASTARR  0.14501695 0.6550523     \n",
       "2 NA                       ASTARR  0.32125162 0.7560976     \n",
       "3 NA                       ASTARR  0.14529397 0.6556330     \n",
       "4 NA                       ASTARR  0.01136464 0.5673635     \n",
       "5 NA                       ASTARR  0.24524353 0.7154472     \n",
       "6 NA                       ASTARR -0.57215284 0.1277584     "
      ]
     },
     "metadata": {},
     "output_type": "display_data"
    }
   ],
   "source": [
    "### set file directories\n",
    "fdiry = file.path(FD_RES, \"results\", \"comparison\")\n",
    "fname = \"result.ranknorm.starrmpra.tsv\"\n",
    "fpath = file.path(fdiry, fname)\n",
    "\n",
    "### read data\n",
    "dat = read_tsv(fpath)\n",
    "\n",
    "### assign and show\n",
    "dat_peak_starrmpra = dat\n",
    "print(dim(dat))\n",
    "head(dat)"
   ]
  },
  {
   "cell_type": "code",
   "execution_count": 3,
   "metadata": {},
   "outputs": [
    {
     "name": "stdout",
     "output_type": "stream",
     "text": [
      "[1] 1722\n"
     ]
    }
   ],
   "source": [
    "dat   = dat_peak_starrmpra\n",
    "PEAKS = dat$Peak %>% unique\n",
    "print(length(PEAKS))"
   ]
  },
  {
   "cell_type": "markdown",
   "metadata": {},
   "source": [
    "## import annotation summary"
   ]
  },
  {
   "cell_type": "code",
   "execution_count": 4,
   "metadata": {},
   "outputs": [
    {
     "name": "stdout",
     "output_type": "stream",
     "text": [
      "[1] 84646     7\n"
     ]
    },
    {
     "data": {
      "text/html": [
       "<table class=\"dataframe\">\n",
       "<caption>A tibble: 6 × 7</caption>\n",
       "<thead>\n",
       "\t<tr><th scope=col>Peak_ATAC</th><th scope=col>Annotation</th><th scope=col>Label</th><th scope=col>Count</th><th scope=col>Region</th><th scope=col>Score</th><th scope=col>Note</th></tr>\n",
       "\t<tr><th scope=col>&lt;chr&gt;</th><th scope=col>&lt;chr&gt;</th><th scope=col>&lt;chr&gt;</th><th scope=col>&lt;dbl&gt;</th><th scope=col>&lt;chr&gt;</th><th scope=col>&lt;dbl&gt;</th><th scope=col>&lt;chr&gt;</th></tr>\n",
       "</thead>\n",
       "<tbody>\n",
       "\t<tr><td>chr10:100009096-100010466</td><td>Enhancer_ZScore</td><td>ASTARR</td><td>1</td><td>chr10:100009660-100010220                          </td><td>-2.1117046</td><td>ASTARR_R         </td></tr>\n",
       "\t<tr><td>chr10:100009096-100010466</td><td>Enhancer_ZScore</td><td>WSTARR</td><td>1</td><td>chr10:100009910-100010030                          </td><td> 2.1022731</td><td>WSTARR_A         </td></tr>\n",
       "\t<tr><td>chr10:100065094-100065486</td><td>Enhancer_ZScore</td><td>WSTARR</td><td>1</td><td>chr10:100065350-100065450                          </td><td> 2.6413782</td><td>WSTARR_A         </td></tr>\n",
       "\t<tr><td>chr10:100185017-100187275</td><td>Enhancer_ZScore</td><td>ASTARR</td><td>1</td><td>chr10:100186900-100187010                          </td><td>-2.3283697</td><td>ASTARR_R         </td></tr>\n",
       "\t<tr><td>chr10:100185017-100187275</td><td>Enhancer_ZScore</td><td>WSTARR</td><td>2</td><td>chr10:100185810-100186310|chr10:100186790-100186890</td><td>-0.1271256</td><td>WSTARR_A|WSTARR_R</td></tr>\n",
       "\t<tr><td>chr10:100228452-100230090</td><td>Enhancer_ZScore</td><td>ASTARR</td><td>1</td><td>chr10:100229190-100229430                          </td><td>-3.2870759</td><td>ASTARR_R         </td></tr>\n",
       "</tbody>\n",
       "</table>\n"
      ],
      "text/latex": [
       "A tibble: 6 × 7\n",
       "\\begin{tabular}{lllllll}\n",
       " Peak\\_ATAC & Annotation & Label & Count & Region & Score & Note\\\\\n",
       " <chr> & <chr> & <chr> & <dbl> & <chr> & <dbl> & <chr>\\\\\n",
       "\\hline\n",
       "\t chr10:100009096-100010466 & Enhancer\\_ZScore & ASTARR & 1 & chr10:100009660-100010220                           & -2.1117046 & ASTARR\\_R         \\\\\n",
       "\t chr10:100009096-100010466 & Enhancer\\_ZScore & WSTARR & 1 & chr10:100009910-100010030                           &  2.1022731 & WSTARR\\_A         \\\\\n",
       "\t chr10:100065094-100065486 & Enhancer\\_ZScore & WSTARR & 1 & chr10:100065350-100065450                           &  2.6413782 & WSTARR\\_A         \\\\\n",
       "\t chr10:100185017-100187275 & Enhancer\\_ZScore & ASTARR & 1 & chr10:100186900-100187010                           & -2.3283697 & ASTARR\\_R         \\\\\n",
       "\t chr10:100185017-100187275 & Enhancer\\_ZScore & WSTARR & 2 & chr10:100185810-100186310\\textbar{}chr10:100186790-100186890 & -0.1271256 & WSTARR\\_A\\textbar{}WSTARR\\_R\\\\\n",
       "\t chr10:100228452-100230090 & Enhancer\\_ZScore & ASTARR & 1 & chr10:100229190-100229430                           & -3.2870759 & ASTARR\\_R         \\\\\n",
       "\\end{tabular}\n"
      ],
      "text/markdown": [
       "\n",
       "A tibble: 6 × 7\n",
       "\n",
       "| Peak_ATAC &lt;chr&gt; | Annotation &lt;chr&gt; | Label &lt;chr&gt; | Count &lt;dbl&gt; | Region &lt;chr&gt; | Score &lt;dbl&gt; | Note &lt;chr&gt; |\n",
       "|---|---|---|---|---|---|---|\n",
       "| chr10:100009096-100010466 | Enhancer_ZScore | ASTARR | 1 | chr10:100009660-100010220                           | -2.1117046 | ASTARR_R          |\n",
       "| chr10:100009096-100010466 | Enhancer_ZScore | WSTARR | 1 | chr10:100009910-100010030                           |  2.1022731 | WSTARR_A          |\n",
       "| chr10:100065094-100065486 | Enhancer_ZScore | WSTARR | 1 | chr10:100065350-100065450                           |  2.6413782 | WSTARR_A          |\n",
       "| chr10:100185017-100187275 | Enhancer_ZScore | ASTARR | 1 | chr10:100186900-100187010                           | -2.3283697 | ASTARR_R          |\n",
       "| chr10:100185017-100187275 | Enhancer_ZScore | WSTARR | 2 | chr10:100185810-100186310|chr10:100186790-100186890 | -0.1271256 | WSTARR_A|WSTARR_R |\n",
       "| chr10:100228452-100230090 | Enhancer_ZScore | ASTARR | 1 | chr10:100229190-100229430                           | -3.2870759 | ASTARR_R          |\n",
       "\n"
      ],
      "text/plain": [
       "  Peak_ATAC                 Annotation      Label  Count\n",
       "1 chr10:100009096-100010466 Enhancer_ZScore ASTARR 1    \n",
       "2 chr10:100009096-100010466 Enhancer_ZScore WSTARR 1    \n",
       "3 chr10:100065094-100065486 Enhancer_ZScore WSTARR 1    \n",
       "4 chr10:100185017-100187275 Enhancer_ZScore ASTARR 1    \n",
       "5 chr10:100185017-100187275 Enhancer_ZScore WSTARR 2    \n",
       "6 chr10:100228452-100230090 Enhancer_ZScore ASTARR 1    \n",
       "  Region                                              Score     \n",
       "1 chr10:100009660-100010220                           -2.1117046\n",
       "2 chr10:100009910-100010030                            2.1022731\n",
       "3 chr10:100065350-100065450                            2.6413782\n",
       "4 chr10:100186900-100187010                           -2.3283697\n",
       "5 chr10:100185810-100186310|chr10:100186790-100186890 -0.1271256\n",
       "6 chr10:100229190-100229430                           -3.2870759\n",
       "  Note             \n",
       "1 ASTARR_R         \n",
       "2 WSTARR_A         \n",
       "3 WSTARR_A         \n",
       "4 ASTARR_R         \n",
       "5 WSTARR_A|WSTARR_R\n",
       "6 ASTARR_R         "
      ]
     },
     "metadata": {},
     "output_type": "display_data"
    }
   ],
   "source": [
    "fdiry = file.path(\n",
    "    FD_RES, \n",
    "    \"results\", \n",
    "    \"region\", \n",
    "    \"KS91_K562_ASTARRseq_peak_macs_input\", \n",
    "    \"summary\")\n",
    "fname = \"peak.summary.enhancer_zscore_junke.tsv\"\n",
    "fpath = file.path(fdiry, fname)\n",
    "\n",
    "### read data\n",
    "dat = read_tsv(fpath, show_col_types = FALSE)\n",
    "\n",
    "### assign and show\n",
    "dat_peak_annot_enhancer_zscore_junke = dat\n",
    "print(dim(dat))\n",
    "head(dat)"
   ]
  },
  {
   "cell_type": "code",
   "execution_count": 5,
   "metadata": {},
   "outputs": [
    {
     "name": "stdout",
     "output_type": "stream",
     "text": [
      "[1] 54  7\n"
     ]
    },
    {
     "data": {
      "text/html": [
       "<table class=\"dataframe\">\n",
       "<caption>A tibble: 6 × 7</caption>\n",
       "<thead>\n",
       "\t<tr><th scope=col>Peak_ATAC</th><th scope=col>Annotation</th><th scope=col>Label</th><th scope=col>Count</th><th scope=col>Region</th><th scope=col>Score</th><th scope=col>Note</th></tr>\n",
       "\t<tr><th scope=col>&lt;chr&gt;</th><th scope=col>&lt;chr&gt;</th><th scope=col>&lt;chr&gt;</th><th scope=col>&lt;dbl&gt;</th><th scope=col>&lt;chr&gt;</th><th scope=col>&lt;dbl&gt;</th><th scope=col>&lt;chr&gt;</th></tr>\n",
       "</thead>\n",
       "<tbody>\n",
       "\t<tr><td>chr11:5249943-5250880</td><td>CRISPRi_HCRFF</td><td>CRISPRi_HCRFF</td><td>2</td><td>chr11:5249847-5250847|chr11:5249847-5250847                      </td><td>1.906923</td><td>HBG1|HBG2     </td></tr>\n",
       "\t<tr><td>chr11:5254190-5254453</td><td>CRISPRi_HCRFF</td><td>CRISPRi_HCRFF</td><td>2</td><td>chr11:5253647-5254647|chr11:5253647-5254647                      </td><td>1.467470</td><td>HBG1|HBG2     </td></tr>\n",
       "\t<tr><td>chr11:5269440-5270695</td><td>CRISPRi_HCRFF</td><td>CRISPRi_HCRFF</td><td>1</td><td>chr11:5269147-5271147                                            </td><td>1.906478</td><td>HBE1          </td></tr>\n",
       "\t<tr><td>chr11:5275424-5276195</td><td>CRISPRi_HCRFF</td><td>CRISPRi_HCRFF</td><td>3</td><td>chr11:5275847-5276247|chr11:5275747-5276247|chr11:5275247-5276247</td><td>1.040996</td><td>HBG1|HBG2|HBE1</td></tr>\n",
       "\t<tr><td>chr11:5280584-5281311</td><td>CRISPRi_HCRFF</td><td>CRISPRi_HCRFF</td><td>3</td><td>chr11:5280447-5281147|chr11:5279747-5281147|chr11:5279747-5281147</td><td>3.006412</td><td>HBE1|HBG1|HBG2</td></tr>\n",
       "\t<tr><td>chr11:5284408-5285152</td><td>CRISPRi_HCRFF</td><td>CRISPRi_HCRFF</td><td>3</td><td>chr11:5284147-5286047|chr11:5283847-5286747|chr11:5283847-5286747</td><td>3.323523</td><td>HBE1|HBG1|HBG2</td></tr>\n",
       "</tbody>\n",
       "</table>\n"
      ],
      "text/latex": [
       "A tibble: 6 × 7\n",
       "\\begin{tabular}{lllllll}\n",
       " Peak\\_ATAC & Annotation & Label & Count & Region & Score & Note\\\\\n",
       " <chr> & <chr> & <chr> & <dbl> & <chr> & <dbl> & <chr>\\\\\n",
       "\\hline\n",
       "\t chr11:5249943-5250880 & CRISPRi\\_HCRFF & CRISPRi\\_HCRFF & 2 & chr11:5249847-5250847\\textbar{}chr11:5249847-5250847                       & 1.906923 & HBG1\\textbar{}HBG2     \\\\\n",
       "\t chr11:5254190-5254453 & CRISPRi\\_HCRFF & CRISPRi\\_HCRFF & 2 & chr11:5253647-5254647\\textbar{}chr11:5253647-5254647                       & 1.467470 & HBG1\\textbar{}HBG2     \\\\\n",
       "\t chr11:5269440-5270695 & CRISPRi\\_HCRFF & CRISPRi\\_HCRFF & 1 & chr11:5269147-5271147                                             & 1.906478 & HBE1          \\\\\n",
       "\t chr11:5275424-5276195 & CRISPRi\\_HCRFF & CRISPRi\\_HCRFF & 3 & chr11:5275847-5276247\\textbar{}chr11:5275747-5276247\\textbar{}chr11:5275247-5276247 & 1.040996 & HBG1\\textbar{}HBG2\\textbar{}HBE1\\\\\n",
       "\t chr11:5280584-5281311 & CRISPRi\\_HCRFF & CRISPRi\\_HCRFF & 3 & chr11:5280447-5281147\\textbar{}chr11:5279747-5281147\\textbar{}chr11:5279747-5281147 & 3.006412 & HBE1\\textbar{}HBG1\\textbar{}HBG2\\\\\n",
       "\t chr11:5284408-5285152 & CRISPRi\\_HCRFF & CRISPRi\\_HCRFF & 3 & chr11:5284147-5286047\\textbar{}chr11:5283847-5286747\\textbar{}chr11:5283847-5286747 & 3.323523 & HBE1\\textbar{}HBG1\\textbar{}HBG2\\\\\n",
       "\\end{tabular}\n"
      ],
      "text/markdown": [
       "\n",
       "A tibble: 6 × 7\n",
       "\n",
       "| Peak_ATAC &lt;chr&gt; | Annotation &lt;chr&gt; | Label &lt;chr&gt; | Count &lt;dbl&gt; | Region &lt;chr&gt; | Score &lt;dbl&gt; | Note &lt;chr&gt; |\n",
       "|---|---|---|---|---|---|---|\n",
       "| chr11:5249943-5250880 | CRISPRi_HCRFF | CRISPRi_HCRFF | 2 | chr11:5249847-5250847|chr11:5249847-5250847                       | 1.906923 | HBG1|HBG2      |\n",
       "| chr11:5254190-5254453 | CRISPRi_HCRFF | CRISPRi_HCRFF | 2 | chr11:5253647-5254647|chr11:5253647-5254647                       | 1.467470 | HBG1|HBG2      |\n",
       "| chr11:5269440-5270695 | CRISPRi_HCRFF | CRISPRi_HCRFF | 1 | chr11:5269147-5271147                                             | 1.906478 | HBE1           |\n",
       "| chr11:5275424-5276195 | CRISPRi_HCRFF | CRISPRi_HCRFF | 3 | chr11:5275847-5276247|chr11:5275747-5276247|chr11:5275247-5276247 | 1.040996 | HBG1|HBG2|HBE1 |\n",
       "| chr11:5280584-5281311 | CRISPRi_HCRFF | CRISPRi_HCRFF | 3 | chr11:5280447-5281147|chr11:5279747-5281147|chr11:5279747-5281147 | 3.006412 | HBE1|HBG1|HBG2 |\n",
       "| chr11:5284408-5285152 | CRISPRi_HCRFF | CRISPRi_HCRFF | 3 | chr11:5284147-5286047|chr11:5283847-5286747|chr11:5283847-5286747 | 3.323523 | HBE1|HBG1|HBG2 |\n",
       "\n"
      ],
      "text/plain": [
       "  Peak_ATAC             Annotation    Label         Count\n",
       "1 chr11:5249943-5250880 CRISPRi_HCRFF CRISPRi_HCRFF 2    \n",
       "2 chr11:5254190-5254453 CRISPRi_HCRFF CRISPRi_HCRFF 2    \n",
       "3 chr11:5269440-5270695 CRISPRi_HCRFF CRISPRi_HCRFF 1    \n",
       "4 chr11:5275424-5276195 CRISPRi_HCRFF CRISPRi_HCRFF 3    \n",
       "5 chr11:5280584-5281311 CRISPRi_HCRFF CRISPRi_HCRFF 3    \n",
       "6 chr11:5284408-5285152 CRISPRi_HCRFF CRISPRi_HCRFF 3    \n",
       "  Region                                                            Score   \n",
       "1 chr11:5249847-5250847|chr11:5249847-5250847                       1.906923\n",
       "2 chr11:5253647-5254647|chr11:5253647-5254647                       1.467470\n",
       "3 chr11:5269147-5271147                                             1.906478\n",
       "4 chr11:5275847-5276247|chr11:5275747-5276247|chr11:5275247-5276247 1.040996\n",
       "5 chr11:5280447-5281147|chr11:5279747-5281147|chr11:5279747-5281147 3.006412\n",
       "6 chr11:5284147-5286047|chr11:5283847-5286747|chr11:5283847-5286747 3.323523\n",
       "  Note          \n",
       "1 HBG1|HBG2     \n",
       "2 HBG1|HBG2     \n",
       "3 HBE1          \n",
       "4 HBG1|HBG2|HBE1\n",
       "5 HBE1|HBG1|HBG2\n",
       "6 HBE1|HBG1|HBG2"
      ]
     },
     "metadata": {},
     "output_type": "display_data"
    }
   ],
   "source": [
    "fdiry = file.path(\n",
    "    FD_RES, \n",
    "    \"results\", \n",
    "    \"region\", \n",
    "    \"KS91_K562_ASTARRseq_peak_macs_input\", \n",
    "    \"summary\")\n",
    "fname = \"peak.summary.crispri_hcrff_casa.tsv\"\n",
    "fpath = file.path(fdiry, fname)\n",
    "\n",
    "### read data\n",
    "dat = read_tsv(fpath, show_col_types = FALSE)\n",
    "\n",
    "### assign and show\n",
    "dat_peak_annot_crispri_hcrff_casa = dat\n",
    "print(dim(dat))\n",
    "head(dat)"
   ]
  },
  {
   "cell_type": "code",
   "execution_count": 6,
   "metadata": {},
   "outputs": [
    {
     "name": "stdout",
     "output_type": "stream",
     "text": [
      "[1] 270491      7\n"
     ]
    },
    {
     "data": {
      "text/html": [
       "<table class=\"dataframe\">\n",
       "<caption>A tibble: 6 × 7</caption>\n",
       "<thead>\n",
       "\t<tr><th scope=col>Peak_ATAC</th><th scope=col>Annotation</th><th scope=col>Label</th><th scope=col>Count</th><th scope=col>Region</th><th scope=col>Score</th><th scope=col>Note</th></tr>\n",
       "\t<tr><th scope=col>&lt;chr&gt;</th><th scope=col>&lt;chr&gt;</th><th scope=col>&lt;chr&gt;</th><th scope=col>&lt;dbl&gt;</th><th scope=col>&lt;chr&gt;</th><th scope=col>&lt;dbl&gt;</th><th scope=col>&lt;chr&gt;</th></tr>\n",
       "</thead>\n",
       "<tbody>\n",
       "\t<tr><td>chr1:16015-16477  </td><td>ChIPseq_TF</td><td>CTCF_ENCFF660GHM  </td><td>1</td><td>chr1:16127-16367  </td><td> 24.18824</td><td>CTCF  </td></tr>\n",
       "\t<tr><td>chr1:17237-17772  </td><td>ChIPseq_TF</td><td>POLR2A_ENCFF355MNE</td><td>1</td><td>chr1:17333-17518  </td><td> 79.27235</td><td>POLR2A</td></tr>\n",
       "\t<tr><td>chr1:115411-115986</td><td>ChIPseq_TF</td><td>EP300_ENCFF702XPO </td><td>1</td><td>chr1:115579-115895</td><td> 25.07974</td><td>EP300 </td></tr>\n",
       "\t<tr><td>chr1:115411-115986</td><td>ChIPseq_TF</td><td>NFE2_ENCFF023IFO  </td><td>1</td><td>chr1:115518-115922</td><td> 67.43800</td><td>NFE2  </td></tr>\n",
       "\t<tr><td>chr1:115411-115986</td><td>ChIPseq_TF</td><td>NRF1_ENCFF777PKJ  </td><td>1</td><td>chr1:115456-116012</td><td> 43.47197</td><td>NRF1  </td></tr>\n",
       "\t<tr><td>chr1:115411-115986</td><td>ChIPseq_TF</td><td>POLR2A_ENCFF355MNE</td><td>1</td><td>chr1:115625-115913</td><td>113.27279</td><td>POLR2A</td></tr>\n",
       "</tbody>\n",
       "</table>\n"
      ],
      "text/latex": [
       "A tibble: 6 × 7\n",
       "\\begin{tabular}{lllllll}\n",
       " Peak\\_ATAC & Annotation & Label & Count & Region & Score & Note\\\\\n",
       " <chr> & <chr> & <chr> & <dbl> & <chr> & <dbl> & <chr>\\\\\n",
       "\\hline\n",
       "\t chr1:16015-16477   & ChIPseq\\_TF & CTCF\\_ENCFF660GHM   & 1 & chr1:16127-16367   &  24.18824 & CTCF  \\\\\n",
       "\t chr1:17237-17772   & ChIPseq\\_TF & POLR2A\\_ENCFF355MNE & 1 & chr1:17333-17518   &  79.27235 & POLR2A\\\\\n",
       "\t chr1:115411-115986 & ChIPseq\\_TF & EP300\\_ENCFF702XPO  & 1 & chr1:115579-115895 &  25.07974 & EP300 \\\\\n",
       "\t chr1:115411-115986 & ChIPseq\\_TF & NFE2\\_ENCFF023IFO   & 1 & chr1:115518-115922 &  67.43800 & NFE2  \\\\\n",
       "\t chr1:115411-115986 & ChIPseq\\_TF & NRF1\\_ENCFF777PKJ   & 1 & chr1:115456-116012 &  43.47197 & NRF1  \\\\\n",
       "\t chr1:115411-115986 & ChIPseq\\_TF & POLR2A\\_ENCFF355MNE & 1 & chr1:115625-115913 & 113.27279 & POLR2A\\\\\n",
       "\\end{tabular}\n"
      ],
      "text/markdown": [
       "\n",
       "A tibble: 6 × 7\n",
       "\n",
       "| Peak_ATAC &lt;chr&gt; | Annotation &lt;chr&gt; | Label &lt;chr&gt; | Count &lt;dbl&gt; | Region &lt;chr&gt; | Score &lt;dbl&gt; | Note &lt;chr&gt; |\n",
       "|---|---|---|---|---|---|---|\n",
       "| chr1:16015-16477   | ChIPseq_TF | CTCF_ENCFF660GHM   | 1 | chr1:16127-16367   |  24.18824 | CTCF   |\n",
       "| chr1:17237-17772   | ChIPseq_TF | POLR2A_ENCFF355MNE | 1 | chr1:17333-17518   |  79.27235 | POLR2A |\n",
       "| chr1:115411-115986 | ChIPseq_TF | EP300_ENCFF702XPO  | 1 | chr1:115579-115895 |  25.07974 | EP300  |\n",
       "| chr1:115411-115986 | ChIPseq_TF | NFE2_ENCFF023IFO   | 1 | chr1:115518-115922 |  67.43800 | NFE2   |\n",
       "| chr1:115411-115986 | ChIPseq_TF | NRF1_ENCFF777PKJ   | 1 | chr1:115456-116012 |  43.47197 | NRF1   |\n",
       "| chr1:115411-115986 | ChIPseq_TF | POLR2A_ENCFF355MNE | 1 | chr1:115625-115913 | 113.27279 | POLR2A |\n",
       "\n"
      ],
      "text/plain": [
       "  Peak_ATAC          Annotation Label              Count Region            \n",
       "1 chr1:16015-16477   ChIPseq_TF CTCF_ENCFF660GHM   1     chr1:16127-16367  \n",
       "2 chr1:17237-17772   ChIPseq_TF POLR2A_ENCFF355MNE 1     chr1:17333-17518  \n",
       "3 chr1:115411-115986 ChIPseq_TF EP300_ENCFF702XPO  1     chr1:115579-115895\n",
       "4 chr1:115411-115986 ChIPseq_TF NFE2_ENCFF023IFO   1     chr1:115518-115922\n",
       "5 chr1:115411-115986 ChIPseq_TF NRF1_ENCFF777PKJ   1     chr1:115456-116012\n",
       "6 chr1:115411-115986 ChIPseq_TF POLR2A_ENCFF355MNE 1     chr1:115625-115913\n",
       "  Score     Note  \n",
       "1  24.18824 CTCF  \n",
       "2  79.27235 POLR2A\n",
       "3  25.07974 EP300 \n",
       "4  67.43800 NFE2  \n",
       "5  43.47197 NRF1  \n",
       "6 113.27279 POLR2A"
      ]
     },
     "metadata": {},
     "output_type": "display_data"
    }
   ],
   "source": [
    "fdiry = file.path(\n",
    "    FD_RES, \n",
    "    \"results\", \n",
    "    \"region\", \n",
    "    \"KS91_K562_ASTARRseq_peak_macs_input\", \n",
    "    \"summary\")\n",
    "fname = \"peak.summary.chipseq_tf_subset.tsv\"\n",
    "fpath = file.path(fdiry, fname)\n",
    "\n",
    "### read data\n",
    "dat = read_tsv(fpath, show_col_types = FALSE)\n",
    "\n",
    "### assign and show\n",
    "dat_peak_annot_chipseq_tf_subset = dat\n",
    "print(dim(dat))\n",
    "head(dat)"
   ]
  },
  {
   "cell_type": "code",
   "execution_count": 7,
   "metadata": {},
   "outputs": [
    {
     "name": "stdout",
     "output_type": "stream",
     "text": [
      "[1] 15191     7\n"
     ]
    },
    {
     "data": {
      "text/html": [
       "<table class=\"dataframe\">\n",
       "<caption>A tibble: 6 × 7</caption>\n",
       "<thead>\n",
       "\t<tr><th scope=col>Peak_ATAC</th><th scope=col>Annotation</th><th scope=col>Label</th><th scope=col>Count</th><th scope=col>Region</th><th scope=col>Score</th><th scope=col>Note</th></tr>\n",
       "\t<tr><th scope=col>&lt;chr&gt;</th><th scope=col>&lt;chr&gt;</th><th scope=col>&lt;chr&gt;</th><th scope=col>&lt;dbl&gt;</th><th scope=col>&lt;chr&gt;</th><th scope=col>&lt;dbl&gt;</th><th scope=col>&lt;chr&gt;</th></tr>\n",
       "</thead>\n",
       "<tbody>\n",
       "\t<tr><td>chr1:17237-17772  </td><td>TSS_POL2</td><td>TSS</td><td>4</td><td>chr1:17436-17437|chr1:17436-17437|chr1:17436-17437|chr1:17436-17437</td><td>  9.43812000</td><td>MIR6859-1|MIR6859-2|MIR6859-3|MIR6859-4</td></tr>\n",
       "\t<tr><td>chr1:28903-29613  </td><td>TSS_POL2</td><td>TSS</td><td>1</td><td>chr1:29370-29371                                                   </td><td>  0.00023000</td><td>WASH7P                                 </td></tr>\n",
       "\t<tr><td>chr1:777949-779437</td><td>TSS_POL2</td><td>TSS</td><td>1</td><td>chr1:778634-778635                                                 </td><td>230.56100000</td><td>LOC100288069                           </td></tr>\n",
       "\t<tr><td>chr1:816774-817547</td><td>TSS_POL2</td><td>TSS</td><td>1</td><td>chr1:817370-817371                                                 </td><td>  1.06609000</td><td>FAM87B                                 </td></tr>\n",
       "\t<tr><td>chr1:826754-828040</td><td>TSS_POL2</td><td>TSS</td><td>2</td><td>chr1:827522-827523|chr1:827590-827591                              </td><td> 64.46295000</td><td>LINC00115|LINC01128                    </td></tr>\n",
       "\t<tr><td>chr1:876474-878030</td><td>TSS_POL2</td><td>TSS</td><td>1</td><td>chr1:876802-876803                                                 </td><td>  0.00788399</td><td>FAM41C                                 </td></tr>\n",
       "</tbody>\n",
       "</table>\n"
      ],
      "text/latex": [
       "A tibble: 6 × 7\n",
       "\\begin{tabular}{lllllll}\n",
       " Peak\\_ATAC & Annotation & Label & Count & Region & Score & Note\\\\\n",
       " <chr> & <chr> & <chr> & <dbl> & <chr> & <dbl> & <chr>\\\\\n",
       "\\hline\n",
       "\t chr1:17237-17772   & TSS\\_POL2 & TSS & 4 & chr1:17436-17437\\textbar{}chr1:17436-17437\\textbar{}chr1:17436-17437\\textbar{}chr1:17436-17437 &   9.43812000 & MIR6859-1\\textbar{}MIR6859-2\\textbar{}MIR6859-3\\textbar{}MIR6859-4\\\\\n",
       "\t chr1:28903-29613   & TSS\\_POL2 & TSS & 1 & chr1:29370-29371                                                    &   0.00023000 & WASH7P                                 \\\\\n",
       "\t chr1:777949-779437 & TSS\\_POL2 & TSS & 1 & chr1:778634-778635                                                  & 230.56100000 & LOC100288069                           \\\\\n",
       "\t chr1:816774-817547 & TSS\\_POL2 & TSS & 1 & chr1:817370-817371                                                  &   1.06609000 & FAM87B                                 \\\\\n",
       "\t chr1:826754-828040 & TSS\\_POL2 & TSS & 2 & chr1:827522-827523\\textbar{}chr1:827590-827591                               &  64.46295000 & LINC00115\\textbar{}LINC01128                    \\\\\n",
       "\t chr1:876474-878030 & TSS\\_POL2 & TSS & 1 & chr1:876802-876803                                                  &   0.00788399 & FAM41C                                 \\\\\n",
       "\\end{tabular}\n"
      ],
      "text/markdown": [
       "\n",
       "A tibble: 6 × 7\n",
       "\n",
       "| Peak_ATAC &lt;chr&gt; | Annotation &lt;chr&gt; | Label &lt;chr&gt; | Count &lt;dbl&gt; | Region &lt;chr&gt; | Score &lt;dbl&gt; | Note &lt;chr&gt; |\n",
       "|---|---|---|---|---|---|---|\n",
       "| chr1:17237-17772   | TSS_POL2 | TSS | 4 | chr1:17436-17437|chr1:17436-17437|chr1:17436-17437|chr1:17436-17437 |   9.43812000 | MIR6859-1|MIR6859-2|MIR6859-3|MIR6859-4 |\n",
       "| chr1:28903-29613   | TSS_POL2 | TSS | 1 | chr1:29370-29371                                                    |   0.00023000 | WASH7P                                  |\n",
       "| chr1:777949-779437 | TSS_POL2 | TSS | 1 | chr1:778634-778635                                                  | 230.56100000 | LOC100288069                            |\n",
       "| chr1:816774-817547 | TSS_POL2 | TSS | 1 | chr1:817370-817371                                                  |   1.06609000 | FAM87B                                  |\n",
       "| chr1:826754-828040 | TSS_POL2 | TSS | 2 | chr1:827522-827523|chr1:827590-827591                               |  64.46295000 | LINC00115|LINC01128                     |\n",
       "| chr1:876474-878030 | TSS_POL2 | TSS | 1 | chr1:876802-876803                                                  |   0.00788399 | FAM41C                                  |\n",
       "\n"
      ],
      "text/plain": [
       "  Peak_ATAC          Annotation Label Count\n",
       "1 chr1:17237-17772   TSS_POL2   TSS   4    \n",
       "2 chr1:28903-29613   TSS_POL2   TSS   1    \n",
       "3 chr1:777949-779437 TSS_POL2   TSS   1    \n",
       "4 chr1:816774-817547 TSS_POL2   TSS   1    \n",
       "5 chr1:826754-828040 TSS_POL2   TSS   2    \n",
       "6 chr1:876474-878030 TSS_POL2   TSS   1    \n",
       "  Region                                                             \n",
       "1 chr1:17436-17437|chr1:17436-17437|chr1:17436-17437|chr1:17436-17437\n",
       "2 chr1:29370-29371                                                   \n",
       "3 chr1:778634-778635                                                 \n",
       "4 chr1:817370-817371                                                 \n",
       "5 chr1:827522-827523|chr1:827590-827591                              \n",
       "6 chr1:876802-876803                                                 \n",
       "  Score        Note                                   \n",
       "1   9.43812000 MIR6859-1|MIR6859-2|MIR6859-3|MIR6859-4\n",
       "2   0.00023000 WASH7P                                 \n",
       "3 230.56100000 LOC100288069                           \n",
       "4   1.06609000 FAM87B                                 \n",
       "5  64.46295000 LINC00115|LINC01128                    \n",
       "6   0.00788399 FAM41C                                 "
      ]
     },
     "metadata": {},
     "output_type": "display_data"
    }
   ],
   "source": [
    "fdiry = file.path(\n",
    "    FD_RES, \n",
    "    \"results\", \n",
    "    \"region\", \n",
    "    \"KS91_K562_ASTARRseq_peak_macs_input\", \n",
    "    \"summary\")\n",
    "fname = \"peak.summary.tss_pol2.tsv\"\n",
    "fpath = file.path(fdiry, fname)\n",
    "\n",
    "### read data\n",
    "dat = read_tsv(fpath, show_col_types = FALSE)\n",
    "\n",
    "### assign and show\n",
    "dat_peak_annot_tss_pol2 = dat\n",
    "print(dim(dat))\n",
    "head(dat)"
   ]
  },
  {
   "cell_type": "markdown",
   "metadata": {},
   "source": [
    "## Combine and select OCRs containing regulatory regions"
   ]
  },
  {
   "cell_type": "code",
   "execution_count": 8,
   "metadata": {},
   "outputs": [
    {
     "data": {
      "text/html": [
       "<table class=\"dataframe\">\n",
       "<caption>A tibble: 6 × 7</caption>\n",
       "<thead>\n",
       "\t<tr><th scope=col>Peak_ATAC</th><th scope=col>Annotation</th><th scope=col>Label</th><th scope=col>Count</th><th scope=col>Region</th><th scope=col>Score</th><th scope=col>Note</th></tr>\n",
       "\t<tr><th scope=col>&lt;chr&gt;</th><th scope=col>&lt;chr&gt;</th><th scope=col>&lt;chr&gt;</th><th scope=col>&lt;dbl&gt;</th><th scope=col>&lt;chr&gt;</th><th scope=col>&lt;dbl&gt;</th><th scope=col>&lt;chr&gt;</th></tr>\n",
       "</thead>\n",
       "<tbody>\n",
       "\t<tr><td>chr10:100009096-100010466</td><td>Enhancer_ZScore</td><td>ASTARR</td><td>1</td><td>chr10:100009660-100010220                          </td><td>-2.1117046</td><td>ASTARR_R         </td></tr>\n",
       "\t<tr><td>chr10:100009096-100010466</td><td>Enhancer_ZScore</td><td>WSTARR</td><td>1</td><td>chr10:100009910-100010030                          </td><td> 2.1022731</td><td>WSTARR_A         </td></tr>\n",
       "\t<tr><td>chr10:100065094-100065486</td><td>Enhancer_ZScore</td><td>WSTARR</td><td>1</td><td>chr10:100065350-100065450                          </td><td> 2.6413782</td><td>WSTARR_A         </td></tr>\n",
       "\t<tr><td>chr10:100185017-100187275</td><td>Enhancer_ZScore</td><td>ASTARR</td><td>1</td><td>chr10:100186900-100187010                          </td><td>-2.3283697</td><td>ASTARR_R         </td></tr>\n",
       "\t<tr><td>chr10:100185017-100187275</td><td>Enhancer_ZScore</td><td>WSTARR</td><td>2</td><td>chr10:100185810-100186310|chr10:100186790-100186890</td><td>-0.1271256</td><td>WSTARR_A|WSTARR_R</td></tr>\n",
       "\t<tr><td>chr10:100228452-100230090</td><td>Enhancer_ZScore</td><td>ASTARR</td><td>1</td><td>chr10:100229190-100229430                          </td><td>-3.2870759</td><td>ASTARR_R         </td></tr>\n",
       "</tbody>\n",
       "</table>\n"
      ],
      "text/latex": [
       "A tibble: 6 × 7\n",
       "\\begin{tabular}{lllllll}\n",
       " Peak\\_ATAC & Annotation & Label & Count & Region & Score & Note\\\\\n",
       " <chr> & <chr> & <chr> & <dbl> & <chr> & <dbl> & <chr>\\\\\n",
       "\\hline\n",
       "\t chr10:100009096-100010466 & Enhancer\\_ZScore & ASTARR & 1 & chr10:100009660-100010220                           & -2.1117046 & ASTARR\\_R         \\\\\n",
       "\t chr10:100009096-100010466 & Enhancer\\_ZScore & WSTARR & 1 & chr10:100009910-100010030                           &  2.1022731 & WSTARR\\_A         \\\\\n",
       "\t chr10:100065094-100065486 & Enhancer\\_ZScore & WSTARR & 1 & chr10:100065350-100065450                           &  2.6413782 & WSTARR\\_A         \\\\\n",
       "\t chr10:100185017-100187275 & Enhancer\\_ZScore & ASTARR & 1 & chr10:100186900-100187010                           & -2.3283697 & ASTARR\\_R         \\\\\n",
       "\t chr10:100185017-100187275 & Enhancer\\_ZScore & WSTARR & 2 & chr10:100185810-100186310\\textbar{}chr10:100186790-100186890 & -0.1271256 & WSTARR\\_A\\textbar{}WSTARR\\_R\\\\\n",
       "\t chr10:100228452-100230090 & Enhancer\\_ZScore & ASTARR & 1 & chr10:100229190-100229430                           & -3.2870759 & ASTARR\\_R         \\\\\n",
       "\\end{tabular}\n"
      ],
      "text/markdown": [
       "\n",
       "A tibble: 6 × 7\n",
       "\n",
       "| Peak_ATAC &lt;chr&gt; | Annotation &lt;chr&gt; | Label &lt;chr&gt; | Count &lt;dbl&gt; | Region &lt;chr&gt; | Score &lt;dbl&gt; | Note &lt;chr&gt; |\n",
       "|---|---|---|---|---|---|---|\n",
       "| chr10:100009096-100010466 | Enhancer_ZScore | ASTARR | 1 | chr10:100009660-100010220                           | -2.1117046 | ASTARR_R          |\n",
       "| chr10:100009096-100010466 | Enhancer_ZScore | WSTARR | 1 | chr10:100009910-100010030                           |  2.1022731 | WSTARR_A          |\n",
       "| chr10:100065094-100065486 | Enhancer_ZScore | WSTARR | 1 | chr10:100065350-100065450                           |  2.6413782 | WSTARR_A          |\n",
       "| chr10:100185017-100187275 | Enhancer_ZScore | ASTARR | 1 | chr10:100186900-100187010                           | -2.3283697 | ASTARR_R          |\n",
       "| chr10:100185017-100187275 | Enhancer_ZScore | WSTARR | 2 | chr10:100185810-100186310|chr10:100186790-100186890 | -0.1271256 | WSTARR_A|WSTARR_R |\n",
       "| chr10:100228452-100230090 | Enhancer_ZScore | ASTARR | 1 | chr10:100229190-100229430                           | -3.2870759 | ASTARR_R          |\n",
       "\n"
      ],
      "text/plain": [
       "  Peak_ATAC                 Annotation      Label  Count\n",
       "1 chr10:100009096-100010466 Enhancer_ZScore ASTARR 1    \n",
       "2 chr10:100009096-100010466 Enhancer_ZScore WSTARR 1    \n",
       "3 chr10:100065094-100065486 Enhancer_ZScore WSTARR 1    \n",
       "4 chr10:100185017-100187275 Enhancer_ZScore ASTARR 1    \n",
       "5 chr10:100185017-100187275 Enhancer_ZScore WSTARR 2    \n",
       "6 chr10:100228452-100230090 Enhancer_ZScore ASTARR 1    \n",
       "  Region                                              Score     \n",
       "1 chr10:100009660-100010220                           -2.1117046\n",
       "2 chr10:100009910-100010030                            2.1022731\n",
       "3 chr10:100065350-100065450                            2.6413782\n",
       "4 chr10:100186900-100187010                           -2.3283697\n",
       "5 chr10:100185810-100186310|chr10:100186790-100186890 -0.1271256\n",
       "6 chr10:100229190-100229430                           -3.2870759\n",
       "  Note             \n",
       "1 ASTARR_R         \n",
       "2 WSTARR_A         \n",
       "3 WSTARR_A         \n",
       "4 ASTARR_R         \n",
       "5 WSTARR_A|WSTARR_R\n",
       "6 ASTARR_R         "
      ]
     },
     "metadata": {},
     "output_type": "display_data"
    }
   ],
   "source": [
    "dat = dat_peak_annot_enhancer_zscore_junke\n",
    "head(dat)"
   ]
  },
  {
   "cell_type": "code",
   "execution_count": 9,
   "metadata": {},
   "outputs": [
    {
     "data": {
      "text/html": [
       "<table class=\"dataframe\">\n",
       "<caption>A tibble: 6 × 7</caption>\n",
       "<thead>\n",
       "\t<tr><th scope=col>Peak_ATAC</th><th scope=col>Annotation</th><th scope=col>Label</th><th scope=col>Count</th><th scope=col>Region</th><th scope=col>Score</th><th scope=col>Note</th></tr>\n",
       "\t<tr><th scope=col>&lt;chr&gt;</th><th scope=col>&lt;chr&gt;</th><th scope=col>&lt;chr&gt;</th><th scope=col>&lt;dbl&gt;</th><th scope=col>&lt;chr&gt;</th><th scope=col>&lt;dbl&gt;</th><th scope=col>&lt;chr&gt;</th></tr>\n",
       "</thead>\n",
       "<tbody>\n",
       "\t<tr><td>chr11:5249943-5250880</td><td>CRISPRi_HCRFF</td><td>CRISPRi_HCRFF</td><td>2</td><td>chr11:5249847-5250847|chr11:5249847-5250847                      </td><td>1.906923</td><td>HBG1|HBG2     </td></tr>\n",
       "\t<tr><td>chr11:5254190-5254453</td><td>CRISPRi_HCRFF</td><td>CRISPRi_HCRFF</td><td>2</td><td>chr11:5253647-5254647|chr11:5253647-5254647                      </td><td>1.467470</td><td>HBG1|HBG2     </td></tr>\n",
       "\t<tr><td>chr11:5269440-5270695</td><td>CRISPRi_HCRFF</td><td>CRISPRi_HCRFF</td><td>1</td><td>chr11:5269147-5271147                                            </td><td>1.906478</td><td>HBE1          </td></tr>\n",
       "\t<tr><td>chr11:5275424-5276195</td><td>CRISPRi_HCRFF</td><td>CRISPRi_HCRFF</td><td>3</td><td>chr11:5275847-5276247|chr11:5275747-5276247|chr11:5275247-5276247</td><td>1.040996</td><td>HBG1|HBG2|HBE1</td></tr>\n",
       "\t<tr><td>chr11:5280584-5281311</td><td>CRISPRi_HCRFF</td><td>CRISPRi_HCRFF</td><td>3</td><td>chr11:5280447-5281147|chr11:5279747-5281147|chr11:5279747-5281147</td><td>3.006412</td><td>HBE1|HBG1|HBG2</td></tr>\n",
       "\t<tr><td>chr11:5284408-5285152</td><td>CRISPRi_HCRFF</td><td>CRISPRi_HCRFF</td><td>3</td><td>chr11:5284147-5286047|chr11:5283847-5286747|chr11:5283847-5286747</td><td>3.323523</td><td>HBE1|HBG1|HBG2</td></tr>\n",
       "</tbody>\n",
       "</table>\n"
      ],
      "text/latex": [
       "A tibble: 6 × 7\n",
       "\\begin{tabular}{lllllll}\n",
       " Peak\\_ATAC & Annotation & Label & Count & Region & Score & Note\\\\\n",
       " <chr> & <chr> & <chr> & <dbl> & <chr> & <dbl> & <chr>\\\\\n",
       "\\hline\n",
       "\t chr11:5249943-5250880 & CRISPRi\\_HCRFF & CRISPRi\\_HCRFF & 2 & chr11:5249847-5250847\\textbar{}chr11:5249847-5250847                       & 1.906923 & HBG1\\textbar{}HBG2     \\\\\n",
       "\t chr11:5254190-5254453 & CRISPRi\\_HCRFF & CRISPRi\\_HCRFF & 2 & chr11:5253647-5254647\\textbar{}chr11:5253647-5254647                       & 1.467470 & HBG1\\textbar{}HBG2     \\\\\n",
       "\t chr11:5269440-5270695 & CRISPRi\\_HCRFF & CRISPRi\\_HCRFF & 1 & chr11:5269147-5271147                                             & 1.906478 & HBE1          \\\\\n",
       "\t chr11:5275424-5276195 & CRISPRi\\_HCRFF & CRISPRi\\_HCRFF & 3 & chr11:5275847-5276247\\textbar{}chr11:5275747-5276247\\textbar{}chr11:5275247-5276247 & 1.040996 & HBG1\\textbar{}HBG2\\textbar{}HBE1\\\\\n",
       "\t chr11:5280584-5281311 & CRISPRi\\_HCRFF & CRISPRi\\_HCRFF & 3 & chr11:5280447-5281147\\textbar{}chr11:5279747-5281147\\textbar{}chr11:5279747-5281147 & 3.006412 & HBE1\\textbar{}HBG1\\textbar{}HBG2\\\\\n",
       "\t chr11:5284408-5285152 & CRISPRi\\_HCRFF & CRISPRi\\_HCRFF & 3 & chr11:5284147-5286047\\textbar{}chr11:5283847-5286747\\textbar{}chr11:5283847-5286747 & 3.323523 & HBE1\\textbar{}HBG1\\textbar{}HBG2\\\\\n",
       "\\end{tabular}\n"
      ],
      "text/markdown": [
       "\n",
       "A tibble: 6 × 7\n",
       "\n",
       "| Peak_ATAC &lt;chr&gt; | Annotation &lt;chr&gt; | Label &lt;chr&gt; | Count &lt;dbl&gt; | Region &lt;chr&gt; | Score &lt;dbl&gt; | Note &lt;chr&gt; |\n",
       "|---|---|---|---|---|---|---|\n",
       "| chr11:5249943-5250880 | CRISPRi_HCRFF | CRISPRi_HCRFF | 2 | chr11:5249847-5250847|chr11:5249847-5250847                       | 1.906923 | HBG1|HBG2      |\n",
       "| chr11:5254190-5254453 | CRISPRi_HCRFF | CRISPRi_HCRFF | 2 | chr11:5253647-5254647|chr11:5253647-5254647                       | 1.467470 | HBG1|HBG2      |\n",
       "| chr11:5269440-5270695 | CRISPRi_HCRFF | CRISPRi_HCRFF | 1 | chr11:5269147-5271147                                             | 1.906478 | HBE1           |\n",
       "| chr11:5275424-5276195 | CRISPRi_HCRFF | CRISPRi_HCRFF | 3 | chr11:5275847-5276247|chr11:5275747-5276247|chr11:5275247-5276247 | 1.040996 | HBG1|HBG2|HBE1 |\n",
       "| chr11:5280584-5281311 | CRISPRi_HCRFF | CRISPRi_HCRFF | 3 | chr11:5280447-5281147|chr11:5279747-5281147|chr11:5279747-5281147 | 3.006412 | HBE1|HBG1|HBG2 |\n",
       "| chr11:5284408-5285152 | CRISPRi_HCRFF | CRISPRi_HCRFF | 3 | chr11:5284147-5286047|chr11:5283847-5286747|chr11:5283847-5286747 | 3.323523 | HBE1|HBG1|HBG2 |\n",
       "\n"
      ],
      "text/plain": [
       "  Peak_ATAC             Annotation    Label         Count\n",
       "1 chr11:5249943-5250880 CRISPRi_HCRFF CRISPRi_HCRFF 2    \n",
       "2 chr11:5254190-5254453 CRISPRi_HCRFF CRISPRi_HCRFF 2    \n",
       "3 chr11:5269440-5270695 CRISPRi_HCRFF CRISPRi_HCRFF 1    \n",
       "4 chr11:5275424-5276195 CRISPRi_HCRFF CRISPRi_HCRFF 3    \n",
       "5 chr11:5280584-5281311 CRISPRi_HCRFF CRISPRi_HCRFF 3    \n",
       "6 chr11:5284408-5285152 CRISPRi_HCRFF CRISPRi_HCRFF 3    \n",
       "  Region                                                            Score   \n",
       "1 chr11:5249847-5250847|chr11:5249847-5250847                       1.906923\n",
       "2 chr11:5253647-5254647|chr11:5253647-5254647                       1.467470\n",
       "3 chr11:5269147-5271147                                             1.906478\n",
       "4 chr11:5275847-5276247|chr11:5275747-5276247|chr11:5275247-5276247 1.040996\n",
       "5 chr11:5280447-5281147|chr11:5279747-5281147|chr11:5279747-5281147 3.006412\n",
       "6 chr11:5284147-5286047|chr11:5283847-5286747|chr11:5283847-5286747 3.323523\n",
       "  Note          \n",
       "1 HBG1|HBG2     \n",
       "2 HBG1|HBG2     \n",
       "3 HBE1          \n",
       "4 HBG1|HBG2|HBE1\n",
       "5 HBE1|HBG1|HBG2\n",
       "6 HBE1|HBG1|HBG2"
      ]
     },
     "metadata": {},
     "output_type": "display_data"
    }
   ],
   "source": [
    "dat = dat_peak_annot_crispri_hcrff_casa\n",
    "head(dat)"
   ]
  },
  {
   "cell_type": "code",
   "execution_count": 10,
   "metadata": {},
   "outputs": [
    {
     "name": "stdout",
     "output_type": "stream",
     "text": [
      "[1] 84700     7\n"
     ]
    },
    {
     "data": {
      "text/html": [
       "<table class=\"dataframe\">\n",
       "<caption>A tibble: 6 × 7</caption>\n",
       "<thead>\n",
       "\t<tr><th scope=col>Peak_ATAC</th><th scope=col>Annotation</th><th scope=col>Label</th><th scope=col>Count</th><th scope=col>Region</th><th scope=col>Score</th><th scope=col>Note</th></tr>\n",
       "\t<tr><th scope=col>&lt;chr&gt;</th><th scope=col>&lt;chr&gt;</th><th scope=col>&lt;chr&gt;</th><th scope=col>&lt;dbl&gt;</th><th scope=col>&lt;chr&gt;</th><th scope=col>&lt;dbl&gt;</th><th scope=col>&lt;chr&gt;</th></tr>\n",
       "</thead>\n",
       "<tbody>\n",
       "\t<tr><td>chr10:100009096-100010466</td><td>Enhancer_ZScore</td><td>ASTARR</td><td>1</td><td>chr10:100009660-100010220                          </td><td>-2.1117046</td><td>ASTARR_R         </td></tr>\n",
       "\t<tr><td>chr10:100009096-100010466</td><td>Enhancer_ZScore</td><td>WSTARR</td><td>1</td><td>chr10:100009910-100010030                          </td><td> 2.1022731</td><td>WSTARR_A         </td></tr>\n",
       "\t<tr><td>chr10:100065094-100065486</td><td>Enhancer_ZScore</td><td>WSTARR</td><td>1</td><td>chr10:100065350-100065450                          </td><td> 2.6413782</td><td>WSTARR_A         </td></tr>\n",
       "\t<tr><td>chr10:100185017-100187275</td><td>Enhancer_ZScore</td><td>ASTARR</td><td>1</td><td>chr10:100186900-100187010                          </td><td>-2.3283697</td><td>ASTARR_R         </td></tr>\n",
       "\t<tr><td>chr10:100185017-100187275</td><td>Enhancer_ZScore</td><td>WSTARR</td><td>2</td><td>chr10:100185810-100186310|chr10:100186790-100186890</td><td>-0.1271256</td><td>WSTARR_A|WSTARR_R</td></tr>\n",
       "\t<tr><td>chr10:100228452-100230090</td><td>Enhancer_ZScore</td><td>ASTARR</td><td>1</td><td>chr10:100229190-100229430                          </td><td>-3.2870759</td><td>ASTARR_R         </td></tr>\n",
       "</tbody>\n",
       "</table>\n"
      ],
      "text/latex": [
       "A tibble: 6 × 7\n",
       "\\begin{tabular}{lllllll}\n",
       " Peak\\_ATAC & Annotation & Label & Count & Region & Score & Note\\\\\n",
       " <chr> & <chr> & <chr> & <dbl> & <chr> & <dbl> & <chr>\\\\\n",
       "\\hline\n",
       "\t chr10:100009096-100010466 & Enhancer\\_ZScore & ASTARR & 1 & chr10:100009660-100010220                           & -2.1117046 & ASTARR\\_R         \\\\\n",
       "\t chr10:100009096-100010466 & Enhancer\\_ZScore & WSTARR & 1 & chr10:100009910-100010030                           &  2.1022731 & WSTARR\\_A         \\\\\n",
       "\t chr10:100065094-100065486 & Enhancer\\_ZScore & WSTARR & 1 & chr10:100065350-100065450                           &  2.6413782 & WSTARR\\_A         \\\\\n",
       "\t chr10:100185017-100187275 & Enhancer\\_ZScore & ASTARR & 1 & chr10:100186900-100187010                           & -2.3283697 & ASTARR\\_R         \\\\\n",
       "\t chr10:100185017-100187275 & Enhancer\\_ZScore & WSTARR & 2 & chr10:100185810-100186310\\textbar{}chr10:100186790-100186890 & -0.1271256 & WSTARR\\_A\\textbar{}WSTARR\\_R\\\\\n",
       "\t chr10:100228452-100230090 & Enhancer\\_ZScore & ASTARR & 1 & chr10:100229190-100229430                           & -3.2870759 & ASTARR\\_R         \\\\\n",
       "\\end{tabular}\n"
      ],
      "text/markdown": [
       "\n",
       "A tibble: 6 × 7\n",
       "\n",
       "| Peak_ATAC &lt;chr&gt; | Annotation &lt;chr&gt; | Label &lt;chr&gt; | Count &lt;dbl&gt; | Region &lt;chr&gt; | Score &lt;dbl&gt; | Note &lt;chr&gt; |\n",
       "|---|---|---|---|---|---|---|\n",
       "| chr10:100009096-100010466 | Enhancer_ZScore | ASTARR | 1 | chr10:100009660-100010220                           | -2.1117046 | ASTARR_R          |\n",
       "| chr10:100009096-100010466 | Enhancer_ZScore | WSTARR | 1 | chr10:100009910-100010030                           |  2.1022731 | WSTARR_A          |\n",
       "| chr10:100065094-100065486 | Enhancer_ZScore | WSTARR | 1 | chr10:100065350-100065450                           |  2.6413782 | WSTARR_A          |\n",
       "| chr10:100185017-100187275 | Enhancer_ZScore | ASTARR | 1 | chr10:100186900-100187010                           | -2.3283697 | ASTARR_R          |\n",
       "| chr10:100185017-100187275 | Enhancer_ZScore | WSTARR | 2 | chr10:100185810-100186310|chr10:100186790-100186890 | -0.1271256 | WSTARR_A|WSTARR_R |\n",
       "| chr10:100228452-100230090 | Enhancer_ZScore | ASTARR | 1 | chr10:100229190-100229430                           | -3.2870759 | ASTARR_R          |\n",
       "\n"
      ],
      "text/plain": [
       "  Peak_ATAC                 Annotation      Label  Count\n",
       "1 chr10:100009096-100010466 Enhancer_ZScore ASTARR 1    \n",
       "2 chr10:100009096-100010466 Enhancer_ZScore WSTARR 1    \n",
       "3 chr10:100065094-100065486 Enhancer_ZScore WSTARR 1    \n",
       "4 chr10:100185017-100187275 Enhancer_ZScore ASTARR 1    \n",
       "5 chr10:100185017-100187275 Enhancer_ZScore WSTARR 2    \n",
       "6 chr10:100228452-100230090 Enhancer_ZScore ASTARR 1    \n",
       "  Region                                              Score     \n",
       "1 chr10:100009660-100010220                           -2.1117046\n",
       "2 chr10:100009910-100010030                            2.1022731\n",
       "3 chr10:100065350-100065450                            2.6413782\n",
       "4 chr10:100186900-100187010                           -2.3283697\n",
       "5 chr10:100185810-100186310|chr10:100186790-100186890 -0.1271256\n",
       "6 chr10:100229190-100229430                           -3.2870759\n",
       "  Note             \n",
       "1 ASTARR_R         \n",
       "2 WSTARR_A         \n",
       "3 WSTARR_A         \n",
       "4 ASTARR_R         \n",
       "5 WSTARR_A|WSTARR_R\n",
       "6 ASTARR_R         "
      ]
     },
     "metadata": {},
     "output_type": "display_data"
    }
   ],
   "source": [
    "dat = bind_rows(\n",
    "    dat_peak_annot_enhancer_zscore_junke,\n",
    "    dat_peak_annot_crispri_hcrff_casa %>% dplyr::mutate(Note = \"CRISPRi_HCRFF\")\n",
    ")\n",
    "\n",
    "dat_peak_annot_cre = dat\n",
    "print(dim(dat))\n",
    "head(dat)"
   ]
  },
  {
   "cell_type": "code",
   "execution_count": 11,
   "metadata": {},
   "outputs": [
    {
     "data": {
      "text/plain": [
       "\n",
       "         ASTARR_A ASTARR_A|ASTARR_R          ASTARR_R     CRISPRi_HCRFF \n",
       "             6273              1154             10217                54 \n",
       "          LMPRA_A   LMPRA_A|LMPRA_R           LMPRA_R           TMPRA_A \n",
       "            31816               203               698               294 \n",
       "  TMPRA_A|TMPRA_R           TMPRA_R          WSTARR_A WSTARR_A|WSTARR_R \n",
       "                8                 7             29472              1006 \n",
       "         WSTARR_R \n",
       "             3498 "
      ]
     },
     "metadata": {},
     "output_type": "display_data"
    }
   ],
   "source": [
    "table(dat$Note)"
   ]
  },
  {
   "cell_type": "markdown",
   "metadata": {},
   "source": [
    "## Join with features"
   ]
  },
  {
   "cell_type": "code",
   "execution_count": 12,
   "metadata": {},
   "outputs": [
    {
     "name": "stdout",
     "output_type": "stream",
     "text": [
      "[1] 17945     3\n"
     ]
    },
    {
     "data": {
      "text/html": [
       "<table class=\"dataframe\">\n",
       "<caption>A tibble: 6 × 3</caption>\n",
       "<thead>\n",
       "\t<tr><th scope=col>Peak_ATAC</th><th scope=col>Score_POLR2A</th><th scope=col>Count_POLR2A</th></tr>\n",
       "\t<tr><th scope=col>&lt;chr&gt;</th><th scope=col>&lt;dbl&gt;</th><th scope=col>&lt;dbl&gt;</th></tr>\n",
       "</thead>\n",
       "<tbody>\n",
       "\t<tr><td>chr1:17237-17772  </td><td> 79.27235</td><td>1</td></tr>\n",
       "\t<tr><td>chr1:115411-115986</td><td>113.27279</td><td>1</td></tr>\n",
       "\t<tr><td>chr1:183239-184602</td><td> 72.17743</td><td>1</td></tr>\n",
       "\t<tr><td>chr1:605090-605823</td><td> 82.60300</td><td>1</td></tr>\n",
       "\t<tr><td>chr1:777949-779437</td><td>889.18667</td><td>1</td></tr>\n",
       "\t<tr><td>chr1:826754-828040</td><td>141.07412</td><td>2</td></tr>\n",
       "</tbody>\n",
       "</table>\n"
      ],
      "text/latex": [
       "A tibble: 6 × 3\n",
       "\\begin{tabular}{lll}\n",
       " Peak\\_ATAC & Score\\_POLR2A & Count\\_POLR2A\\\\\n",
       " <chr> & <dbl> & <dbl>\\\\\n",
       "\\hline\n",
       "\t chr1:17237-17772   &  79.27235 & 1\\\\\n",
       "\t chr1:115411-115986 & 113.27279 & 1\\\\\n",
       "\t chr1:183239-184602 &  72.17743 & 1\\\\\n",
       "\t chr1:605090-605823 &  82.60300 & 1\\\\\n",
       "\t chr1:777949-779437 & 889.18667 & 1\\\\\n",
       "\t chr1:826754-828040 & 141.07412 & 2\\\\\n",
       "\\end{tabular}\n"
      ],
      "text/markdown": [
       "\n",
       "A tibble: 6 × 3\n",
       "\n",
       "| Peak_ATAC &lt;chr&gt; | Score_POLR2A &lt;dbl&gt; | Count_POLR2A &lt;dbl&gt; |\n",
       "|---|---|---|\n",
       "| chr1:17237-17772   |  79.27235 | 1 |\n",
       "| chr1:115411-115986 | 113.27279 | 1 |\n",
       "| chr1:183239-184602 |  72.17743 | 1 |\n",
       "| chr1:605090-605823 |  82.60300 | 1 |\n",
       "| chr1:777949-779437 | 889.18667 | 1 |\n",
       "| chr1:826754-828040 | 141.07412 | 2 |\n",
       "\n"
      ],
      "text/plain": [
       "  Peak_ATAC          Score_POLR2A Count_POLR2A\n",
       "1 chr1:17237-17772    79.27235    1           \n",
       "2 chr1:115411-115986 113.27279    1           \n",
       "3 chr1:183239-184602  72.17743    1           \n",
       "4 chr1:605090-605823  82.60300    1           \n",
       "5 chr1:777949-779437 889.18667    1           \n",
       "6 chr1:826754-828040 141.07412    2           "
      ]
     },
     "metadata": {},
     "output_type": "display_data"
    }
   ],
   "source": [
    "dat = dat_peak_annot_chipseq_tf_subset\n",
    "dat = dat %>% \n",
    "    dplyr::filter(Note == \"POLR2A\") %>%\n",
    "    dplyr::select(Peak_ATAC, Score, Count) %>%\n",
    "    dplyr::rename(\n",
    "        Score_POLR2A = \"Score\",\n",
    "        Count_POLR2A = \"Count\",\n",
    "    )\n",
    "dat_peak_annot_pol2 = dat\n",
    "print(dim(dat))\n",
    "head(dat)"
   ]
  },
  {
   "cell_type": "code",
   "execution_count": 13,
   "metadata": {},
   "outputs": [
    {
     "name": "stdout",
     "output_type": "stream",
     "text": [
      "[1] 17945     4\n"
     ]
    },
    {
     "data": {
      "text/html": [
       "<table class=\"dataframe\">\n",
       "<caption>A tibble: 6 × 4</caption>\n",
       "<thead>\n",
       "\t<tr><th scope=col>Peak_ATAC</th><th scope=col>Score_POLR2A</th><th scope=col>Count_POLR2A</th><th scope=col>Note</th></tr>\n",
       "\t<tr><th scope=col>&lt;chr&gt;</th><th scope=col>&lt;dbl&gt;</th><th scope=col>&lt;dbl&gt;</th><th scope=col>&lt;chr&gt;</th></tr>\n",
       "</thead>\n",
       "<tbody>\n",
       "\t<tr><td>chr1:17237-17772  </td><td> 79.27235</td><td>1</td><td>ATAC</td></tr>\n",
       "\t<tr><td>chr1:115411-115986</td><td>113.27279</td><td>1</td><td>ATAC</td></tr>\n",
       "\t<tr><td>chr1:183239-184602</td><td> 72.17743</td><td>1</td><td>ATAC</td></tr>\n",
       "\t<tr><td>chr1:605090-605823</td><td> 82.60300</td><td>1</td><td>ATAC</td></tr>\n",
       "\t<tr><td>chr1:777949-779437</td><td>889.18667</td><td>1</td><td>ATAC</td></tr>\n",
       "\t<tr><td>chr1:826754-828040</td><td>141.07412</td><td>2</td><td>ATAC</td></tr>\n",
       "</tbody>\n",
       "</table>\n"
      ],
      "text/latex": [
       "A tibble: 6 × 4\n",
       "\\begin{tabular}{llll}\n",
       " Peak\\_ATAC & Score\\_POLR2A & Count\\_POLR2A & Note\\\\\n",
       " <chr> & <dbl> & <dbl> & <chr>\\\\\n",
       "\\hline\n",
       "\t chr1:17237-17772   &  79.27235 & 1 & ATAC\\\\\n",
       "\t chr1:115411-115986 & 113.27279 & 1 & ATAC\\\\\n",
       "\t chr1:183239-184602 &  72.17743 & 1 & ATAC\\\\\n",
       "\t chr1:605090-605823 &  82.60300 & 1 & ATAC\\\\\n",
       "\t chr1:777949-779437 & 889.18667 & 1 & ATAC\\\\\n",
       "\t chr1:826754-828040 & 141.07412 & 2 & ATAC\\\\\n",
       "\\end{tabular}\n"
      ],
      "text/markdown": [
       "\n",
       "A tibble: 6 × 4\n",
       "\n",
       "| Peak_ATAC &lt;chr&gt; | Score_POLR2A &lt;dbl&gt; | Count_POLR2A &lt;dbl&gt; | Note &lt;chr&gt; |\n",
       "|---|---|---|---|\n",
       "| chr1:17237-17772   |  79.27235 | 1 | ATAC |\n",
       "| chr1:115411-115986 | 113.27279 | 1 | ATAC |\n",
       "| chr1:183239-184602 |  72.17743 | 1 | ATAC |\n",
       "| chr1:605090-605823 |  82.60300 | 1 | ATAC |\n",
       "| chr1:777949-779437 | 889.18667 | 1 | ATAC |\n",
       "| chr1:826754-828040 | 141.07412 | 2 | ATAC |\n",
       "\n"
      ],
      "text/plain": [
       "  Peak_ATAC          Score_POLR2A Count_POLR2A Note\n",
       "1 chr1:17237-17772    79.27235    1            ATAC\n",
       "2 chr1:115411-115986 113.27279    1            ATAC\n",
       "3 chr1:183239-184602  72.17743    1            ATAC\n",
       "4 chr1:605090-605823  82.60300    1            ATAC\n",
       "5 chr1:777949-779437 889.18667    1            ATAC\n",
       "6 chr1:826754-828040 141.07412    2            ATAC"
      ]
     },
     "metadata": {},
     "output_type": "display_data"
    }
   ],
   "source": [
    "dat = dat_peak_annot_pol2\n",
    "dat = dat %>% dplyr::mutate(Note = \"ATAC\")\n",
    "dat_score_ocr_polr2a = dat\n",
    "print(dim(dat))\n",
    "head(dat)"
   ]
  },
  {
   "cell_type": "code",
   "execution_count": 14,
   "metadata": {},
   "outputs": [
    {
     "name": "stdout",
     "output_type": "stream",
     "text": [
      "[1] 84700     4\n"
     ]
    },
    {
     "data": {
      "text/html": [
       "<table class=\"dataframe\">\n",
       "<caption>A tibble: 6 × 4</caption>\n",
       "<thead>\n",
       "\t<tr><th scope=col>Peak_ATAC</th><th scope=col>Note</th><th scope=col>Score_POLR2A</th><th scope=col>Count_POLR2A</th></tr>\n",
       "\t<tr><th scope=col>&lt;chr&gt;</th><th scope=col>&lt;chr&gt;</th><th scope=col>&lt;dbl&gt;</th><th scope=col>&lt;dbl&gt;</th></tr>\n",
       "</thead>\n",
       "<tbody>\n",
       "\t<tr><td>chr10:100009096-100010466</td><td>ASTARR_R         </td><td>      NA</td><td>NA</td></tr>\n",
       "\t<tr><td>chr10:100009096-100010466</td><td>WSTARR_A         </td><td>      NA</td><td>NA</td></tr>\n",
       "\t<tr><td>chr10:100065094-100065486</td><td>WSTARR_A         </td><td>      NA</td><td>NA</td></tr>\n",
       "\t<tr><td>chr10:100185017-100187275</td><td>ASTARR_R         </td><td>247.3514</td><td> 2</td></tr>\n",
       "\t<tr><td>chr10:100185017-100187275</td><td>WSTARR_A|WSTARR_R</td><td>247.3514</td><td> 2</td></tr>\n",
       "\t<tr><td>chr10:100228452-100230090</td><td>ASTARR_R         </td><td>316.7072</td><td> 1</td></tr>\n",
       "</tbody>\n",
       "</table>\n"
      ],
      "text/latex": [
       "A tibble: 6 × 4\n",
       "\\begin{tabular}{llll}\n",
       " Peak\\_ATAC & Note & Score\\_POLR2A & Count\\_POLR2A\\\\\n",
       " <chr> & <chr> & <dbl> & <dbl>\\\\\n",
       "\\hline\n",
       "\t chr10:100009096-100010466 & ASTARR\\_R          &       NA & NA\\\\\n",
       "\t chr10:100009096-100010466 & WSTARR\\_A          &       NA & NA\\\\\n",
       "\t chr10:100065094-100065486 & WSTARR\\_A          &       NA & NA\\\\\n",
       "\t chr10:100185017-100187275 & ASTARR\\_R          & 247.3514 &  2\\\\\n",
       "\t chr10:100185017-100187275 & WSTARR\\_A\\textbar{}WSTARR\\_R & 247.3514 &  2\\\\\n",
       "\t chr10:100228452-100230090 & ASTARR\\_R          & 316.7072 &  1\\\\\n",
       "\\end{tabular}\n"
      ],
      "text/markdown": [
       "\n",
       "A tibble: 6 × 4\n",
       "\n",
       "| Peak_ATAC &lt;chr&gt; | Note &lt;chr&gt; | Score_POLR2A &lt;dbl&gt; | Count_POLR2A &lt;dbl&gt; |\n",
       "|---|---|---|---|\n",
       "| chr10:100009096-100010466 | ASTARR_R          |       NA | NA |\n",
       "| chr10:100009096-100010466 | WSTARR_A          |       NA | NA |\n",
       "| chr10:100065094-100065486 | WSTARR_A          |       NA | NA |\n",
       "| chr10:100185017-100187275 | ASTARR_R          | 247.3514 |  2 |\n",
       "| chr10:100185017-100187275 | WSTARR_A|WSTARR_R | 247.3514 |  2 |\n",
       "| chr10:100228452-100230090 | ASTARR_R          | 316.7072 |  1 |\n",
       "\n"
      ],
      "text/plain": [
       "  Peak_ATAC                 Note              Score_POLR2A Count_POLR2A\n",
       "1 chr10:100009096-100010466 ASTARR_R                NA     NA          \n",
       "2 chr10:100009096-100010466 WSTARR_A                NA     NA          \n",
       "3 chr10:100065094-100065486 WSTARR_A                NA     NA          \n",
       "4 chr10:100185017-100187275 ASTARR_R          247.3514      2          \n",
       "5 chr10:100185017-100187275 WSTARR_A|WSTARR_R 247.3514      2          \n",
       "6 chr10:100228452-100230090 ASTARR_R          316.7072      1          "
      ]
     },
     "metadata": {},
     "output_type": "display_data"
    }
   ],
   "source": [
    "dat = dat_peak_annot_cre\n",
    "dat = dat %>% dplyr::select(Peak_ATAC, Note)\n",
    "dat = dat %>% dplyr::left_join(dat_peak_annot_pol2, by=\"Peak_ATAC\")\n",
    "\n",
    "dat_score_cre_polr2a = dat\n",
    "print(dim(dat))\n",
    "head(dat)"
   ]
  },
  {
   "cell_type": "code",
   "execution_count": 15,
   "metadata": {},
   "outputs": [
    {
     "name": "stdout",
     "output_type": "stream",
     "text": [
      "[1] 1377    4\n"
     ]
    },
    {
     "data": {
      "text/html": [
       "<table class=\"dataframe\">\n",
       "<caption>A tibble: 6 × 4</caption>\n",
       "<thead>\n",
       "\t<tr><th scope=col>Peak_ATAC</th><th scope=col>Note</th><th scope=col>Score_POLR2A</th><th scope=col>Count_POLR2A</th></tr>\n",
       "\t<tr><th scope=col>&lt;chr&gt;</th><th scope=col>&lt;chr&gt;</th><th scope=col>&lt;dbl&gt;</th><th scope=col>&lt;dbl&gt;</th></tr>\n",
       "</thead>\n",
       "<tbody>\n",
       "\t<tr><td>chr11:32892099-32894437</td><td>ASTARR_R         </td><td>250.9254</td><td> 3</td></tr>\n",
       "\t<tr><td>chr11:32892099-32894437</td><td>WSTARR_A         </td><td>250.9254</td><td> 3</td></tr>\n",
       "\t<tr><td>chr11:32987763-32988757</td><td>LMPRA_A          </td><td>      NA</td><td>NA</td></tr>\n",
       "\t<tr><td>chr11:33015389-33016533</td><td>LMPRA_A          </td><td>260.6142</td><td> 2</td></tr>\n",
       "\t<tr><td>chr11:33015389-33016533</td><td>WSTARR_A         </td><td>260.6142</td><td> 2</td></tr>\n",
       "\t<tr><td>chr11:33038981-33040353</td><td>ASTARR_A|ASTARR_R</td><td>100.9464</td><td> 3</td></tr>\n",
       "</tbody>\n",
       "</table>\n"
      ],
      "text/latex": [
       "A tibble: 6 × 4\n",
       "\\begin{tabular}{llll}\n",
       " Peak\\_ATAC & Note & Score\\_POLR2A & Count\\_POLR2A\\\\\n",
       " <chr> & <chr> & <dbl> & <dbl>\\\\\n",
       "\\hline\n",
       "\t chr11:32892099-32894437 & ASTARR\\_R          & 250.9254 &  3\\\\\n",
       "\t chr11:32892099-32894437 & WSTARR\\_A          & 250.9254 &  3\\\\\n",
       "\t chr11:32987763-32988757 & LMPRA\\_A           &       NA & NA\\\\\n",
       "\t chr11:33015389-33016533 & LMPRA\\_A           & 260.6142 &  2\\\\\n",
       "\t chr11:33015389-33016533 & WSTARR\\_A          & 260.6142 &  2\\\\\n",
       "\t chr11:33038981-33040353 & ASTARR\\_A\\textbar{}ASTARR\\_R & 100.9464 &  3\\\\\n",
       "\\end{tabular}\n"
      ],
      "text/markdown": [
       "\n",
       "A tibble: 6 × 4\n",
       "\n",
       "| Peak_ATAC &lt;chr&gt; | Note &lt;chr&gt; | Score_POLR2A &lt;dbl&gt; | Count_POLR2A &lt;dbl&gt; |\n",
       "|---|---|---|---|\n",
       "| chr11:32892099-32894437 | ASTARR_R          | 250.9254 |  3 |\n",
       "| chr11:32892099-32894437 | WSTARR_A          | 250.9254 |  3 |\n",
       "| chr11:32987763-32988757 | LMPRA_A           |       NA | NA |\n",
       "| chr11:33015389-33016533 | LMPRA_A           | 260.6142 |  2 |\n",
       "| chr11:33015389-33016533 | WSTARR_A          | 260.6142 |  2 |\n",
       "| chr11:33038981-33040353 | ASTARR_A|ASTARR_R | 100.9464 |  3 |\n",
       "\n"
      ],
      "text/plain": [
       "  Peak_ATAC               Note              Score_POLR2A Count_POLR2A\n",
       "1 chr11:32892099-32894437 ASTARR_R          250.9254      3          \n",
       "2 chr11:32892099-32894437 WSTARR_A          250.9254      3          \n",
       "3 chr11:32987763-32988757 LMPRA_A                 NA     NA          \n",
       "4 chr11:33015389-33016533 LMPRA_A           260.6142      2          \n",
       "5 chr11:33015389-33016533 WSTARR_A          260.6142      2          \n",
       "6 chr11:33038981-33040353 ASTARR_A|ASTARR_R 100.9464      3          "
      ]
     },
     "metadata": {},
     "output_type": "display_data"
    }
   ],
   "source": [
    "dat = bind_rows(\n",
    "    dat_score_cre_polr2a,\n",
    "    dat_score_ocr_polr2a\n",
    ")\n",
    "\n",
    "dat = dat %>% dplyr::filter(Peak_ATAC %in% PEAKS)\n",
    "dat_score_tot_polr2a = dat\n",
    "print(dim(dat))\n",
    "head(dat)"
   ]
  },
  {
   "cell_type": "code",
   "execution_count": 16,
   "metadata": {},
   "outputs": [
    {
     "data": {
      "image/png": "[encoded data removed]",
      "text/plain": [
       "plot without title"
      ]
     },
     "metadata": {
      "image/png": {
       "height": 420,
       "width": 600
      }
     },
     "output_type": "display_data"
    }
   ],
   "source": [
    "dat = dat_score_tot_polr2a\n",
    "dat = dat %>% na.omit\n",
    "gpt = ggplot(dat, aes(x=Note, y=Score_POLR2A)) + \n",
    "    geom_boxplot() +\n",
    "    coord_flip() +\n",
    "    theme_cowplot()\n",
    "\n",
    "options(repr.plot.height=7, repr.plot.width=10)\n",
    "print(gpt)"
   ]
  },
  {
   "cell_type": "code",
   "execution_count": 17,
   "metadata": {},
   "outputs": [
    {
     "data": {
      "image/png": "[encoded data removed]",
      "text/plain": [
       "plot without title"
      ]
     },
     "metadata": {
      "image/png": {
       "height": 420,
       "width": 600
      }
     },
     "output_type": "display_data"
    }
   ],
   "source": [
    "dat = dat_score_tot_polr2a\n",
    "dat = dat %>% na.omit\n",
    "gpt = ggplot(dat, aes(x=Note, y=Count_POLR2A)) + \n",
    "    geom_boxplot() +\n",
    "    coord_flip() +\n",
    "    theme_cowplot()\n",
    "\n",
    "options(repr.plot.height=7, repr.plot.width=10)\n",
    "print(gpt)"
   ]
  },
  {
   "cell_type": "code",
   "execution_count": 18,
   "metadata": {},
   "outputs": [
    {
     "data": {
      "image/png": "[encoded data removed]",
      "text/plain": [
       "plot without title"
      ]
     },
     "metadata": {
      "image/png": {
       "height": 420,
       "width": 600
      }
     },
     "output_type": "display_data"
    }
   ],
   "source": [
    "dat = dat_score_tot_polr2a\n",
    "dat = dat %>% na.omit\n",
    "gpt = ggplot(dat, aes(x=Note, y=Score_POLR2A * Count_POLR2A)) + \n",
    "    geom_boxplot() +\n",
    "    coord_flip() +\n",
    "    theme_cowplot()\n",
    "\n",
    "options(repr.plot.height=7, repr.plot.width=10)\n",
    "print(gpt)"
   ]
  },
  {
   "cell_type": "code",
   "execution_count": 19,
   "metadata": {},
   "outputs": [],
   "source": [
    "vec = c(\"ATAC\", \n",
    "        \"ASTARR_R\", \"ASTARR_A\", \n",
    "        \"WSTARR_R\", \"WSTARR_A\", \n",
    "        \"TMPRA_R\",  \"TMPRA_A\", \n",
    "        \"LMPRA_R\",  \"LMPRA_A\", \n",
    "        \"CRISPRi_HCRFF\")\n",
    "dat = dat_score_tot_polr2a\n",
    "dat = dat %>% na.omit\n",
    "dat = dat %>% dplyr::filter(Note %in% vec)\n",
    "dat = dat %>% dplyr::mutate(Note = factor(Note, levels=vec))"
   ]
  },
  {
   "cell_type": "code",
   "execution_count": 20,
   "metadata": {},
   "outputs": [
    {
     "data": {
      "image/png": "[encoded data removed]",
      "text/plain": [
       "plot without title"
      ]
     },
     "metadata": {
      "image/png": {
       "height": 300,
       "width": 600
      }
     },
     "output_type": "display_data"
    }
   ],
   "source": [
    "gpt = ggplot(dat, aes(x=Note, y=Score_POLR2A)) + \n",
    "    geom_boxplot() +\n",
    "    coord_flip() +\n",
    "    theme_cowplot()\n",
    "options(repr.plot.height=5, repr.plot.width=10)\n",
    "print(gpt)"
   ]
  },
  {
   "cell_type": "code",
   "execution_count": 21,
   "metadata": {},
   "outputs": [
    {
     "data": {
      "image/png": "[encoded data removed]",
      "text/plain": [
       "plot without title"
      ]
     },
     "metadata": {
      "image/png": {
       "height": 300,
       "width": 600
      }
     },
     "output_type": "display_data"
    }
   ],
   "source": [
    "gpt = ggplot(dat, aes(x=Note, y=Count_POLR2A)) + \n",
    "    geom_boxplot() +\n",
    "    coord_flip() +\n",
    "    theme_cowplot()\n",
    "options(repr.plot.height=5, repr.plot.width=10)\n",
    "print(gpt)"
   ]
  },
  {
   "cell_type": "code",
   "execution_count": 22,
   "metadata": {},
   "outputs": [
    {
     "data": {
      "image/png": "[encoded data removed]",
      "text/plain": [
       "plot without title"
      ]
     },
     "metadata": {
      "image/png": {
       "height": 300,
       "width": 600
      }
     },
     "output_type": "display_data"
    }
   ],
   "source": [
    "gpt = ggplot(dat, aes(x=Note, y=Score_POLR2A * Count_POLR2A)) + \n",
    "    geom_boxplot() +\n",
    "    coord_flip() +\n",
    "    theme_cowplot()\n",
    "options(repr.plot.height=5, repr.plot.width=10)\n",
    "print(gpt)"
   ]
  },
  {
   "cell_type": "code",
   "execution_count": null,
   "metadata": {},
   "outputs": [],
   "source": []
  },
  {
   "cell_type": "code",
   "execution_count": null,
   "metadata": {},
   "outputs": [],
   "source": []
  },
  {
   "cell_type": "code",
   "execution_count": null,
   "metadata": {},
   "outputs": [],
   "source": []
  },
  {
   "cell_type": "code",
   "execution_count": 23,
   "metadata": {},
   "outputs": [
    {
     "name": "stdout",
     "output_type": "stream",
     "text": [
      "[1] 15191     3\n"
     ]
    },
    {
     "data": {
      "text/html": [
       "<table class=\"dataframe\">\n",
       "<caption>A tibble: 6 × 3</caption>\n",
       "<thead>\n",
       "\t<tr><th scope=col>Peak_ATAC</th><th scope=col>Count_TSS</th><th scope=col>Score_TSS</th></tr>\n",
       "\t<tr><th scope=col>&lt;chr&gt;</th><th scope=col>&lt;dbl&gt;</th><th scope=col>&lt;dbl&gt;</th></tr>\n",
       "</thead>\n",
       "<tbody>\n",
       "\t<tr><td>chr1:17237-17772  </td><td>4</td><td>  9.43812000</td></tr>\n",
       "\t<tr><td>chr1:28903-29613  </td><td>1</td><td>  0.00023000</td></tr>\n",
       "\t<tr><td>chr1:777949-779437</td><td>1</td><td>230.56100000</td></tr>\n",
       "\t<tr><td>chr1:816774-817547</td><td>1</td><td>  1.06609000</td></tr>\n",
       "\t<tr><td>chr1:826754-828040</td><td>2</td><td> 64.46295000</td></tr>\n",
       "\t<tr><td>chr1:876474-878030</td><td>1</td><td>  0.00788399</td></tr>\n",
       "</tbody>\n",
       "</table>\n"
      ],
      "text/latex": [
       "A tibble: 6 × 3\n",
       "\\begin{tabular}{lll}\n",
       " Peak\\_ATAC & Count\\_TSS & Score\\_TSS\\\\\n",
       " <chr> & <dbl> & <dbl>\\\\\n",
       "\\hline\n",
       "\t chr1:17237-17772   & 4 &   9.43812000\\\\\n",
       "\t chr1:28903-29613   & 1 &   0.00023000\\\\\n",
       "\t chr1:777949-779437 & 1 & 230.56100000\\\\\n",
       "\t chr1:816774-817547 & 1 &   1.06609000\\\\\n",
       "\t chr1:826754-828040 & 2 &  64.46295000\\\\\n",
       "\t chr1:876474-878030 & 1 &   0.00788399\\\\\n",
       "\\end{tabular}\n"
      ],
      "text/markdown": [
       "\n",
       "A tibble: 6 × 3\n",
       "\n",
       "| Peak_ATAC &lt;chr&gt; | Count_TSS &lt;dbl&gt; | Score_TSS &lt;dbl&gt; |\n",
       "|---|---|---|\n",
       "| chr1:17237-17772   | 4 |   9.43812000 |\n",
       "| chr1:28903-29613   | 1 |   0.00023000 |\n",
       "| chr1:777949-779437 | 1 | 230.56100000 |\n",
       "| chr1:816774-817547 | 1 |   1.06609000 |\n",
       "| chr1:826754-828040 | 2 |  64.46295000 |\n",
       "| chr1:876474-878030 | 1 |   0.00788399 |\n",
       "\n"
      ],
      "text/plain": [
       "  Peak_ATAC          Count_TSS Score_TSS   \n",
       "1 chr1:17237-17772   4           9.43812000\n",
       "2 chr1:28903-29613   1           0.00023000\n",
       "3 chr1:777949-779437 1         230.56100000\n",
       "4 chr1:816774-817547 1           1.06609000\n",
       "5 chr1:826754-828040 2          64.46295000\n",
       "6 chr1:876474-878030 1           0.00788399"
      ]
     },
     "metadata": {},
     "output_type": "display_data"
    }
   ],
   "source": [
    "dat = dat_peak_annot_tss_pol2\n",
    "dat = dat %>% \n",
    "    dplyr::select(Peak_ATAC, Count, Score) %>%\n",
    "    dplyr::rename(\n",
    "        Score_TSS = \"Score\",\n",
    "        Count_TSS = \"Count\"\n",
    "    )\n",
    "dat_peak_annot_tss = dat\n",
    "print(dim(dat))\n",
    "head(dat)"
   ]
  },
  {
   "cell_type": "code",
   "execution_count": 24,
   "metadata": {},
   "outputs": [
    {
     "name": "stdout",
     "output_type": "stream",
     "text": [
      "[1] 15191     4\n"
     ]
    },
    {
     "data": {
      "text/html": [
       "<table class=\"dataframe\">\n",
       "<caption>A tibble: 6 × 4</caption>\n",
       "<thead>\n",
       "\t<tr><th scope=col>Peak_ATAC</th><th scope=col>Count_TSS</th><th scope=col>Score_TSS</th><th scope=col>Note</th></tr>\n",
       "\t<tr><th scope=col>&lt;chr&gt;</th><th scope=col>&lt;dbl&gt;</th><th scope=col>&lt;dbl&gt;</th><th scope=col>&lt;chr&gt;</th></tr>\n",
       "</thead>\n",
       "<tbody>\n",
       "\t<tr><td>chr1:17237-17772  </td><td>4</td><td>  9.43812000</td><td>ATAC</td></tr>\n",
       "\t<tr><td>chr1:28903-29613  </td><td>1</td><td>  0.00023000</td><td>ATAC</td></tr>\n",
       "\t<tr><td>chr1:777949-779437</td><td>1</td><td>230.56100000</td><td>ATAC</td></tr>\n",
       "\t<tr><td>chr1:816774-817547</td><td>1</td><td>  1.06609000</td><td>ATAC</td></tr>\n",
       "\t<tr><td>chr1:826754-828040</td><td>2</td><td> 64.46295000</td><td>ATAC</td></tr>\n",
       "\t<tr><td>chr1:876474-878030</td><td>1</td><td>  0.00788399</td><td>ATAC</td></tr>\n",
       "</tbody>\n",
       "</table>\n"
      ],
      "text/latex": [
       "A tibble: 6 × 4\n",
       "\\begin{tabular}{llll}\n",
       " Peak\\_ATAC & Count\\_TSS & Score\\_TSS & Note\\\\\n",
       " <chr> & <dbl> & <dbl> & <chr>\\\\\n",
       "\\hline\n",
       "\t chr1:17237-17772   & 4 &   9.43812000 & ATAC\\\\\n",
       "\t chr1:28903-29613   & 1 &   0.00023000 & ATAC\\\\\n",
       "\t chr1:777949-779437 & 1 & 230.56100000 & ATAC\\\\\n",
       "\t chr1:816774-817547 & 1 &   1.06609000 & ATAC\\\\\n",
       "\t chr1:826754-828040 & 2 &  64.46295000 & ATAC\\\\\n",
       "\t chr1:876474-878030 & 1 &   0.00788399 & ATAC\\\\\n",
       "\\end{tabular}\n"
      ],
      "text/markdown": [
       "\n",
       "A tibble: 6 × 4\n",
       "\n",
       "| Peak_ATAC &lt;chr&gt; | Count_TSS &lt;dbl&gt; | Score_TSS &lt;dbl&gt; | Note &lt;chr&gt; |\n",
       "|---|---|---|---|\n",
       "| chr1:17237-17772   | 4 |   9.43812000 | ATAC |\n",
       "| chr1:28903-29613   | 1 |   0.00023000 | ATAC |\n",
       "| chr1:777949-779437 | 1 | 230.56100000 | ATAC |\n",
       "| chr1:816774-817547 | 1 |   1.06609000 | ATAC |\n",
       "| chr1:826754-828040 | 2 |  64.46295000 | ATAC |\n",
       "| chr1:876474-878030 | 1 |   0.00788399 | ATAC |\n",
       "\n"
      ],
      "text/plain": [
       "  Peak_ATAC          Count_TSS Score_TSS    Note\n",
       "1 chr1:17237-17772   4           9.43812000 ATAC\n",
       "2 chr1:28903-29613   1           0.00023000 ATAC\n",
       "3 chr1:777949-779437 1         230.56100000 ATAC\n",
       "4 chr1:816774-817547 1           1.06609000 ATAC\n",
       "5 chr1:826754-828040 2          64.46295000 ATAC\n",
       "6 chr1:876474-878030 1           0.00788399 ATAC"
      ]
     },
     "metadata": {},
     "output_type": "display_data"
    }
   ],
   "source": [
    "dat = dat_peak_annot_tss\n",
    "dat = dat %>% dplyr::mutate(Note = \"ATAC\")\n",
    "dat_score_ocr_tss = dat\n",
    "print(dim(dat))\n",
    "head(dat)"
   ]
  },
  {
   "cell_type": "code",
   "execution_count": 25,
   "metadata": {},
   "outputs": [
    {
     "name": "stdout",
     "output_type": "stream",
     "text": [
      "[1] 84700     4\n"
     ]
    },
    {
     "data": {
      "text/html": [
       "<table class=\"dataframe\">\n",
       "<caption>A tibble: 6 × 4</caption>\n",
       "<thead>\n",
       "\t<tr><th scope=col>Peak_ATAC</th><th scope=col>Note</th><th scope=col>Count_TSS</th><th scope=col>Score_TSS</th></tr>\n",
       "\t<tr><th scope=col>&lt;chr&gt;</th><th scope=col>&lt;chr&gt;</th><th scope=col>&lt;dbl&gt;</th><th scope=col>&lt;dbl&gt;</th></tr>\n",
       "</thead>\n",
       "<tbody>\n",
       "\t<tr><td>chr10:100009096-100010466</td><td>ASTARR_R         </td><td> 1</td><td>  0.916464</td></tr>\n",
       "\t<tr><td>chr10:100009096-100010466</td><td>WSTARR_A         </td><td> 1</td><td>  0.916464</td></tr>\n",
       "\t<tr><td>chr10:100065094-100065486</td><td>WSTARR_A         </td><td>NA</td><td>        NA</td></tr>\n",
       "\t<tr><td>chr10:100185017-100187275</td><td>ASTARR_R         </td><td> 1</td><td>169.925000</td></tr>\n",
       "\t<tr><td>chr10:100185017-100187275</td><td>WSTARR_A|WSTARR_R</td><td> 1</td><td>169.925000</td></tr>\n",
       "\t<tr><td>chr10:100228452-100230090</td><td>ASTARR_R         </td><td> 1</td><td>116.190000</td></tr>\n",
       "</tbody>\n",
       "</table>\n"
      ],
      "text/latex": [
       "A tibble: 6 × 4\n",
       "\\begin{tabular}{llll}\n",
       " Peak\\_ATAC & Note & Count\\_TSS & Score\\_TSS\\\\\n",
       " <chr> & <chr> & <dbl> & <dbl>\\\\\n",
       "\\hline\n",
       "\t chr10:100009096-100010466 & ASTARR\\_R          &  1 &   0.916464\\\\\n",
       "\t chr10:100009096-100010466 & WSTARR\\_A          &  1 &   0.916464\\\\\n",
       "\t chr10:100065094-100065486 & WSTARR\\_A          & NA &         NA\\\\\n",
       "\t chr10:100185017-100187275 & ASTARR\\_R          &  1 & 169.925000\\\\\n",
       "\t chr10:100185017-100187275 & WSTARR\\_A\\textbar{}WSTARR\\_R &  1 & 169.925000\\\\\n",
       "\t chr10:100228452-100230090 & ASTARR\\_R          &  1 & 116.190000\\\\\n",
       "\\end{tabular}\n"
      ],
      "text/markdown": [
       "\n",
       "A tibble: 6 × 4\n",
       "\n",
       "| Peak_ATAC &lt;chr&gt; | Note &lt;chr&gt; | Count_TSS &lt;dbl&gt; | Score_TSS &lt;dbl&gt; |\n",
       "|---|---|---|---|\n",
       "| chr10:100009096-100010466 | ASTARR_R          |  1 |   0.916464 |\n",
       "| chr10:100009096-100010466 | WSTARR_A          |  1 |   0.916464 |\n",
       "| chr10:100065094-100065486 | WSTARR_A          | NA |         NA |\n",
       "| chr10:100185017-100187275 | ASTARR_R          |  1 | 169.925000 |\n",
       "| chr10:100185017-100187275 | WSTARR_A|WSTARR_R |  1 | 169.925000 |\n",
       "| chr10:100228452-100230090 | ASTARR_R          |  1 | 116.190000 |\n",
       "\n"
      ],
      "text/plain": [
       "  Peak_ATAC                 Note              Count_TSS Score_TSS \n",
       "1 chr10:100009096-100010466 ASTARR_R           1          0.916464\n",
       "2 chr10:100009096-100010466 WSTARR_A           1          0.916464\n",
       "3 chr10:100065094-100065486 WSTARR_A          NA                NA\n",
       "4 chr10:100185017-100187275 ASTARR_R           1        169.925000\n",
       "5 chr10:100185017-100187275 WSTARR_A|WSTARR_R  1        169.925000\n",
       "6 chr10:100228452-100230090 ASTARR_R           1        116.190000"
      ]
     },
     "metadata": {},
     "output_type": "display_data"
    }
   ],
   "source": [
    "dat = dat_peak_annot_cre\n",
    "dat = dat %>% dplyr::select(Peak_ATAC, Note)\n",
    "dat = dat %>% dplyr::left_join(dat_peak_annot_tss, by=\"Peak_ATAC\")\n",
    "\n",
    "dat_score_cre_tss = dat\n",
    "print(dim(dat))\n",
    "head(dat)"
   ]
  },
  {
   "cell_type": "code",
   "execution_count": 26,
   "metadata": {},
   "outputs": [
    {
     "name": "stdout",
     "output_type": "stream",
     "text": [
      "[1] 1344    4\n"
     ]
    },
    {
     "data": {
      "text/html": [
       "<table class=\"dataframe\">\n",
       "<caption>A tibble: 6 × 4</caption>\n",
       "<thead>\n",
       "\t<tr><th scope=col>Peak_ATAC</th><th scope=col>Note</th><th scope=col>Count_TSS</th><th scope=col>Score_TSS</th></tr>\n",
       "\t<tr><th scope=col>&lt;chr&gt;</th><th scope=col>&lt;chr&gt;</th><th scope=col>&lt;dbl&gt;</th><th scope=col>&lt;dbl&gt;</th></tr>\n",
       "</thead>\n",
       "<tbody>\n",
       "\t<tr><td>chr11:32892099-32894437</td><td>ASTARR_R         </td><td> 1</td><td>99.2941</td></tr>\n",
       "\t<tr><td>chr11:32892099-32894437</td><td>WSTARR_A         </td><td> 1</td><td>99.2941</td></tr>\n",
       "\t<tr><td>chr11:32987763-32988757</td><td>LMPRA_A          </td><td>NA</td><td>     NA</td></tr>\n",
       "\t<tr><td>chr11:33015389-33016533</td><td>LMPRA_A          </td><td> 1</td><td>81.6657</td></tr>\n",
       "\t<tr><td>chr11:33015389-33016533</td><td>WSTARR_A         </td><td> 1</td><td>81.6657</td></tr>\n",
       "\t<tr><td>chr11:33038981-33040353</td><td>ASTARR_A|ASTARR_R</td><td> 1</td><td>65.2441</td></tr>\n",
       "</tbody>\n",
       "</table>\n"
      ],
      "text/latex": [
       "A tibble: 6 × 4\n",
       "\\begin{tabular}{llll}\n",
       " Peak\\_ATAC & Note & Count\\_TSS & Score\\_TSS\\\\\n",
       " <chr> & <chr> & <dbl> & <dbl>\\\\\n",
       "\\hline\n",
       "\t chr11:32892099-32894437 & ASTARR\\_R          &  1 & 99.2941\\\\\n",
       "\t chr11:32892099-32894437 & WSTARR\\_A          &  1 & 99.2941\\\\\n",
       "\t chr11:32987763-32988757 & LMPRA\\_A           & NA &      NA\\\\\n",
       "\t chr11:33015389-33016533 & LMPRA\\_A           &  1 & 81.6657\\\\\n",
       "\t chr11:33015389-33016533 & WSTARR\\_A          &  1 & 81.6657\\\\\n",
       "\t chr11:33038981-33040353 & ASTARR\\_A\\textbar{}ASTARR\\_R &  1 & 65.2441\\\\\n",
       "\\end{tabular}\n"
      ],
      "text/markdown": [
       "\n",
       "A tibble: 6 × 4\n",
       "\n",
       "| Peak_ATAC &lt;chr&gt; | Note &lt;chr&gt; | Count_TSS &lt;dbl&gt; | Score_TSS &lt;dbl&gt; |\n",
       "|---|---|---|---|\n",
       "| chr11:32892099-32894437 | ASTARR_R          |  1 | 99.2941 |\n",
       "| chr11:32892099-32894437 | WSTARR_A          |  1 | 99.2941 |\n",
       "| chr11:32987763-32988757 | LMPRA_A           | NA |      NA |\n",
       "| chr11:33015389-33016533 | LMPRA_A           |  1 | 81.6657 |\n",
       "| chr11:33015389-33016533 | WSTARR_A          |  1 | 81.6657 |\n",
       "| chr11:33038981-33040353 | ASTARR_A|ASTARR_R |  1 | 65.2441 |\n",
       "\n"
      ],
      "text/plain": [
       "  Peak_ATAC               Note              Count_TSS Score_TSS\n",
       "1 chr11:32892099-32894437 ASTARR_R           1        99.2941  \n",
       "2 chr11:32892099-32894437 WSTARR_A           1        99.2941  \n",
       "3 chr11:32987763-32988757 LMPRA_A           NA             NA  \n",
       "4 chr11:33015389-33016533 LMPRA_A            1        81.6657  \n",
       "5 chr11:33015389-33016533 WSTARR_A           1        81.6657  \n",
       "6 chr11:33038981-33040353 ASTARR_A|ASTARR_R  1        65.2441  "
      ]
     },
     "metadata": {},
     "output_type": "display_data"
    }
   ],
   "source": [
    "dat = bind_rows(\n",
    "    dat_score_cre_tss,\n",
    "    dat_score_ocr_tss\n",
    ")\n",
    "\n",
    "dat = dat %>% dplyr::filter(Peak_ATAC %in% PEAKS)\n",
    "dat_score_tot_tss = dat\n",
    "print(dim(dat))\n",
    "head(dat)"
   ]
  },
  {
   "cell_type": "code",
   "execution_count": 27,
   "metadata": {},
   "outputs": [
    {
     "data": {
      "image/png": "[encoded data removed]",
      "text/plain": [
       "plot without title"
      ]
     },
     "metadata": {
      "image/png": {
       "height": 420,
       "width": 600
      }
     },
     "output_type": "display_data"
    }
   ],
   "source": [
    "dat = dat_score_tot_tss\n",
    "dat = dat %>% na.omit\n",
    "gpt = ggplot(dat, aes(x=Note, y=Score_TSS * Count_TSS)) + \n",
    "    geom_boxplot() +\n",
    "    coord_flip() +\n",
    "    theme_cowplot()\n",
    "\n",
    "options(repr.plot.height=7, repr.plot.width=10)\n",
    "print(gpt)"
   ]
  },
  {
   "cell_type": "code",
   "execution_count": 29,
   "metadata": {},
   "outputs": [
    {
     "data": {
      "image/png": "[encoded data removed]",
      "text/plain": [
       "plot without title"
      ]
     },
     "metadata": {
      "image/png": {
       "height": 300,
       "width": 600
      }
     },
     "output_type": "display_data"
    }
   ],
   "source": [
    "vec = c(\"ATAC\", \n",
    "        \"ASTARR_R\", \"ASTARR_A\", \n",
    "        \"WSTARR_R\", \"WSTARR_A\", \n",
    "        \"TMPRA_R\",  \"TMPRA_A\", \n",
    "        \"LMPRA_R\",  \"LMPRA_A\", \n",
    "        \"CRISPRi_HCRFF\")\n",
    "dat = dat_score_tot_tss\n",
    "dat = dat %>% na.omit\n",
    "dat = dat %>% dplyr::filter(Note %in% vec)\n",
    "dat = dat %>% dplyr::mutate(Note = factor(Note, levels=vec))\n",
    "gpt = ggplot(dat, aes(x=Note, y=Score_TSS)) + \n",
    "    geom_boxplot() +\n",
    "    coord_flip() +\n",
    "    theme_cowplot()\n",
    "options(repr.plot.height=5, repr.plot.width=10)\n",
    "print(gpt)"
   ]
  },
  {
   "cell_type": "code",
   "execution_count": 30,
   "metadata": {},
   "outputs": [
    {
     "data": {
      "image/png": "[encoded data removed]",
      "text/plain": [
       "plot without title"
      ]
     },
     "metadata": {
      "image/png": {
       "height": 300,
       "width": 600
      }
     },
     "output_type": "display_data"
    }
   ],
   "source": [
    "vec = c(\"ATAC\", \n",
    "        \"ASTARR_R\", \"ASTARR_A\", \n",
    "        \"WSTARR_R\", \"WSTARR_A\", \n",
    "        \"TMPRA_R\",  \"TMPRA_A\", \n",
    "        \"LMPRA_R\",  \"LMPRA_A\", \n",
    "        \"CRISPRi_HCRFF\")\n",
    "dat = dat_score_tot_tss\n",
    "dat = dat %>% na.omit\n",
    "dat = dat %>% dplyr::filter(Note %in% vec)\n",
    "dat = dat %>% dplyr::mutate(Note = factor(Note, levels=vec))\n",
    "gpt = ggplot(dat, aes(x=Note, y=Count_TSS)) + \n",
    "    geom_boxplot() +\n",
    "    coord_flip() +\n",
    "    theme_cowplot()\n",
    "options(repr.plot.height=5, repr.plot.width=10)\n",
    "print(gpt)"
   ]
  },
  {
   "cell_type": "code",
   "execution_count": 31,
   "metadata": {},
   "outputs": [
    {
     "data": {
      "image/png": "[encoded data removed]",
      "text/plain": [
       "plot without title"
      ]
     },
     "metadata": {
      "image/png": {
       "height": 300,
       "width": 600
      }
     },
     "output_type": "display_data"
    }
   ],
   "source": [
    "vec = c(\"ATAC\", \n",
    "        \"ASTARR_R\", \"ASTARR_A\", \n",
    "        \"WSTARR_R\", \"WSTARR_A\", \n",
    "        \"TMPRA_R\",  \"TMPRA_A\", \n",
    "        \"LMPRA_R\",  \"LMPRA_A\", \n",
    "        \"CRISPRi_HCRFF\")\n",
    "dat = dat_score_tot_tss\n",
    "dat = dat %>% na.omit\n",
    "dat = dat %>% dplyr::filter(Note %in% vec)\n",
    "dat = dat %>% dplyr::mutate(Note = factor(Note, levels=vec))\n",
    "gpt = ggplot(dat, aes(x=Note, y=Score_TSS * Count_TSS)) + \n",
    "    geom_boxplot() +\n",
    "    coord_flip() +\n",
    "    theme_cowplot()\n",
    "options(repr.plot.height=5, repr.plot.width=10)\n",
    "print(gpt)"
   ]
  },
  {
   "cell_type": "code",
   "execution_count": null,
   "metadata": {},
   "outputs": [],
   "source": []
  },
  {
   "cell_type": "code",
   "execution_count": 58,
   "metadata": {},
   "outputs": [],
   "source": [
    "vec = c(\"ATAC\", \n",
    "        \"ASTARR_R\", \"ASTARR_A\", \n",
    "        \"WSTARR_R\", \"WSTARR_A\", \n",
    "        \"TMPRA_R\",  \"TMPRA_A\", \n",
    "        \"LMPRA_R\",  \"LMPRA_A\", \n",
    "        \"CRISPRi_HCRFF\")"
   ]
  },
  {
   "cell_type": "code",
   "execution_count": 60,
   "metadata": {},
   "outputs": [
    {
     "data": {
      "image/png": "[encoded data removed]",
      "text/plain": [
       "plot without title"
      ]
     },
     "metadata": {
      "image/png": {
       "height": 300,
       "width": 600
      }
     },
     "output_type": "display_data"
    }
   ],
   "source": [
    "dat = dat_score_tot_tss\n",
    "dat = dat %>% na.omit\n",
    "dat = table(dat$Note) %>% as.data.frame\n",
    "colnames(dat) = c(\"Note\", \"Count\")\n",
    "\n",
    "dat = dat %>% dplyr::filter(Note %in% vec)\n",
    "dat = dat %>% dplyr::mutate(Note = factor(Note, levels=vec))\n",
    "\n",
    "gpt = ggplot(dat, aes(x=Note, y=Count)) + \n",
    "    geom_col() +\n",
    "    coord_flip() +\n",
    "    theme_cowplot()\n",
    "options(repr.plot.height=5, repr.plot.width=10)\n",
    "print(gpt)"
   ]
  },
  {
   "cell_type": "code",
   "execution_count": null,
   "metadata": {},
   "outputs": [],
   "source": []
  },
  {
   "cell_type": "code",
   "execution_count": null,
   "metadata": {},
   "outputs": [],
   "source": []
  },
  {
   "cell_type": "code",
   "execution_count": 62,
   "metadata": {},
   "outputs": [
    {
     "name": "stdout",
     "output_type": "stream",
     "text": [
      "[1] 1722    2\n"
     ]
    },
    {
     "data": {
      "text/html": [
       "<table class=\"dataframe\">\n",
       "<caption>A data.frame: 6 × 2</caption>\n",
       "<thead>\n",
       "\t<tr><th></th><th scope=col>Peak_ATAC</th><th scope=col>Note</th></tr>\n",
       "\t<tr><th></th><th scope=col>&lt;chr&gt;</th><th scope=col>&lt;chr&gt;</th></tr>\n",
       "</thead>\n",
       "<tbody>\n",
       "\t<tr><th scope=row>1</th><td>chr11:4539569-4540043</td><td>ATAC</td></tr>\n",
       "\t<tr><th scope=row>2</th><td>chr11:4551336-4552012</td><td>ATAC</td></tr>\n",
       "\t<tr><th scope=row>3</th><td>chr11:4553969-4555012</td><td>ATAC</td></tr>\n",
       "\t<tr><th scope=row>4</th><td>chr11:4569016-4569992</td><td>ATAC</td></tr>\n",
       "\t<tr><th scope=row>5</th><td>chr11:4577444-4578031</td><td>ATAC</td></tr>\n",
       "\t<tr><th scope=row>6</th><td>chr11:4601808-4602487</td><td>ATAC</td></tr>\n",
       "</tbody>\n",
       "</table>\n"
      ],
      "text/latex": [
       "A data.frame: 6 × 2\n",
       "\\begin{tabular}{r|ll}\n",
       "  & Peak\\_ATAC & Note\\\\\n",
       "  & <chr> & <chr>\\\\\n",
       "\\hline\n",
       "\t1 & chr11:4539569-4540043 & ATAC\\\\\n",
       "\t2 & chr11:4551336-4552012 & ATAC\\\\\n",
       "\t3 & chr11:4553969-4555012 & ATAC\\\\\n",
       "\t4 & chr11:4569016-4569992 & ATAC\\\\\n",
       "\t5 & chr11:4577444-4578031 & ATAC\\\\\n",
       "\t6 & chr11:4601808-4602487 & ATAC\\\\\n",
       "\\end{tabular}\n"
      ],
      "text/markdown": [
       "\n",
       "A data.frame: 6 × 2\n",
       "\n",
       "| <!--/--> | Peak_ATAC &lt;chr&gt; | Note &lt;chr&gt; |\n",
       "|---|---|---|\n",
       "| 1 | chr11:4539569-4540043 | ATAC |\n",
       "| 2 | chr11:4551336-4552012 | ATAC |\n",
       "| 3 | chr11:4553969-4555012 | ATAC |\n",
       "| 4 | chr11:4569016-4569992 | ATAC |\n",
       "| 5 | chr11:4577444-4578031 | ATAC |\n",
       "| 6 | chr11:4601808-4602487 | ATAC |\n",
       "\n"
      ],
      "text/plain": [
       "  Peak_ATAC             Note\n",
       "1 chr11:4539569-4540043 ATAC\n",
       "2 chr11:4551336-4552012 ATAC\n",
       "3 chr11:4553969-4555012 ATAC\n",
       "4 chr11:4569016-4569992 ATAC\n",
       "5 chr11:4577444-4578031 ATAC\n",
       "6 chr11:4601808-4602487 ATAC"
      ]
     },
     "metadata": {},
     "output_type": "display_data"
    }
   ],
   "source": [
    "dat = data.frame(\"Peak_ATAC\" = PEAKS)\n",
    "dat = dat %>% dplyr::mutate(Note = \"ATAC\")\n",
    "dat_peak_ocr = dat\n",
    "print(dim(dat))\n",
    "head(dat)"
   ]
  },
  {
   "cell_type": "code",
   "execution_count": 70,
   "metadata": {},
   "outputs": [
    {
     "name": "stdout",
     "output_type": "stream",
     "text": [
      "[1] 1188    2\n"
     ]
    },
    {
     "data": {
      "text/html": [
       "<table class=\"dataframe\">\n",
       "<caption>A tibble: 6 × 2</caption>\n",
       "<thead>\n",
       "\t<tr><th scope=col>Peak_ATAC</th><th scope=col>Note</th></tr>\n",
       "\t<tr><th scope=col>&lt;chr&gt;</th><th scope=col>&lt;chr&gt;</th></tr>\n",
       "</thead>\n",
       "<tbody>\n",
       "\t<tr><td>chr11:32892099-32894437</td><td>ASTARR_R         </td></tr>\n",
       "\t<tr><td>chr11:32892099-32894437</td><td>WSTARR_A         </td></tr>\n",
       "\t<tr><td>chr11:32987763-32988757</td><td>LMPRA_A          </td></tr>\n",
       "\t<tr><td>chr11:33015389-33016533</td><td>LMPRA_A          </td></tr>\n",
       "\t<tr><td>chr11:33015389-33016533</td><td>WSTARR_A         </td></tr>\n",
       "\t<tr><td>chr11:33038981-33040353</td><td>ASTARR_A|ASTARR_R</td></tr>\n",
       "</tbody>\n",
       "</table>\n"
      ],
      "text/latex": [
       "A tibble: 6 × 2\n",
       "\\begin{tabular}{ll}\n",
       " Peak\\_ATAC & Note\\\\\n",
       " <chr> & <chr>\\\\\n",
       "\\hline\n",
       "\t chr11:32892099-32894437 & ASTARR\\_R         \\\\\n",
       "\t chr11:32892099-32894437 & WSTARR\\_A         \\\\\n",
       "\t chr11:32987763-32988757 & LMPRA\\_A          \\\\\n",
       "\t chr11:33015389-33016533 & LMPRA\\_A          \\\\\n",
       "\t chr11:33015389-33016533 & WSTARR\\_A         \\\\\n",
       "\t chr11:33038981-33040353 & ASTARR\\_A\\textbar{}ASTARR\\_R\\\\\n",
       "\\end{tabular}\n"
      ],
      "text/markdown": [
       "\n",
       "A tibble: 6 × 2\n",
       "\n",
       "| Peak_ATAC &lt;chr&gt; | Note &lt;chr&gt; |\n",
       "|---|---|\n",
       "| chr11:32892099-32894437 | ASTARR_R          |\n",
       "| chr11:32892099-32894437 | WSTARR_A          |\n",
       "| chr11:32987763-32988757 | LMPRA_A           |\n",
       "| chr11:33015389-33016533 | LMPRA_A           |\n",
       "| chr11:33015389-33016533 | WSTARR_A          |\n",
       "| chr11:33038981-33040353 | ASTARR_A|ASTARR_R |\n",
       "\n"
      ],
      "text/plain": [
       "  Peak_ATAC               Note             \n",
       "1 chr11:32892099-32894437 ASTARR_R         \n",
       "2 chr11:32892099-32894437 WSTARR_A         \n",
       "3 chr11:32987763-32988757 LMPRA_A          \n",
       "4 chr11:33015389-33016533 LMPRA_A          \n",
       "5 chr11:33015389-33016533 WSTARR_A         \n",
       "6 chr11:33038981-33040353 ASTARR_A|ASTARR_R"
      ]
     },
     "metadata": {},
     "output_type": "display_data"
    }
   ],
   "source": [
    "dat = dat_peak_annot_cre\n",
    "dat = dat %>% dplyr::select(Peak_ATAC, Note) %>% dplyr::filter(Peak_ATAC %in% PEAKS)\n",
    "dat_peak_cre = dat\n",
    "print(dim(dat))\n",
    "head(dat)"
   ]
  },
  {
   "cell_type": "code",
   "execution_count": 71,
   "metadata": {},
   "outputs": [],
   "source": [
    "dat_peak_tot = bind_rows(dat_peak_ocr, dat_peak_cre)"
   ]
  },
  {
   "cell_type": "code",
   "execution_count": 79,
   "metadata": {},
   "outputs": [
    {
     "data": {
      "text/html": [
       "<table class=\"dataframe\">\n",
       "<caption>A tibble: 14 × 4</caption>\n",
       "<thead>\n",
       "\t<tr><th scope=col>Note</th><th scope=col>Count</th><th scope=col>Total</th><th scope=col>Freq</th></tr>\n",
       "\t<tr><th scope=col>&lt;chr&gt;</th><th scope=col>&lt;int&gt;</th><th scope=col>&lt;int&gt;</th><th scope=col>&lt;dbl&gt;</th></tr>\n",
       "</thead>\n",
       "<tbody>\n",
       "\t<tr><td>ASTARR_A         </td><td> 10</td><td>  43</td><td>0.23255814</td></tr>\n",
       "\t<tr><td>ASTARR_A|ASTARR_R</td><td>  8</td><td>  12</td><td>0.66666667</td></tr>\n",
       "\t<tr><td>ASTARR_R         </td><td> 70</td><td> 126</td><td>0.55555556</td></tr>\n",
       "\t<tr><td>ATAC             </td><td>156</td><td>1722</td><td>0.09059233</td></tr>\n",
       "\t<tr><td>CRISPRi_HCRFF    </td><td> 14</td><td>  36</td><td>0.38888889</td></tr>\n",
       "\t<tr><td>LMPRA_A          </td><td> 68</td><td> 292</td><td>0.23287671</td></tr>\n",
       "\t<tr><td>LMPRA_A|LMPRA_R  </td><td>  0</td><td>  15</td><td>0.00000000</td></tr>\n",
       "\t<tr><td>LMPRA_R          </td><td>  3</td><td>  61</td><td>0.04918033</td></tr>\n",
       "\t<tr><td>TMPRA_A          </td><td> 40</td><td> 294</td><td>0.13605442</td></tr>\n",
       "\t<tr><td>TMPRA_A|TMPRA_R  </td><td>  4</td><td>   8</td><td>0.50000000</td></tr>\n",
       "\t<tr><td>TMPRA_R          </td><td>  0</td><td>   7</td><td>0.00000000</td></tr>\n",
       "\t<tr><td>WSTARR_A         </td><td> 91</td><td> 262</td><td>0.34732824</td></tr>\n",
       "\t<tr><td>WSTARR_A|WSTARR_R</td><td>  3</td><td>   8</td><td>0.37500000</td></tr>\n",
       "\t<tr><td>WSTARR_R         </td><td>  3</td><td>  24</td><td>0.12500000</td></tr>\n",
       "</tbody>\n",
       "</table>\n"
      ],
      "text/latex": [
       "A tibble: 14 × 4\n",
       "\\begin{tabular}{llll}\n",
       " Note & Count & Total & Freq\\\\\n",
       " <chr> & <int> & <int> & <dbl>\\\\\n",
       "\\hline\n",
       "\t ASTARR\\_A          &  10 &   43 & 0.23255814\\\\\n",
       "\t ASTARR\\_A\\textbar{}ASTARR\\_R &   8 &   12 & 0.66666667\\\\\n",
       "\t ASTARR\\_R          &  70 &  126 & 0.55555556\\\\\n",
       "\t ATAC              & 156 & 1722 & 0.09059233\\\\\n",
       "\t CRISPRi\\_HCRFF     &  14 &   36 & 0.38888889\\\\\n",
       "\t LMPRA\\_A           &  68 &  292 & 0.23287671\\\\\n",
       "\t LMPRA\\_A\\textbar{}LMPRA\\_R   &   0 &   15 & 0.00000000\\\\\n",
       "\t LMPRA\\_R           &   3 &   61 & 0.04918033\\\\\n",
       "\t TMPRA\\_A           &  40 &  294 & 0.13605442\\\\\n",
       "\t TMPRA\\_A\\textbar{}TMPRA\\_R   &   4 &    8 & 0.50000000\\\\\n",
       "\t TMPRA\\_R           &   0 &    7 & 0.00000000\\\\\n",
       "\t WSTARR\\_A          &  91 &  262 & 0.34732824\\\\\n",
       "\t WSTARR\\_A\\textbar{}WSTARR\\_R &   3 &    8 & 0.37500000\\\\\n",
       "\t WSTARR\\_R          &   3 &   24 & 0.12500000\\\\\n",
       "\\end{tabular}\n"
      ],
      "text/markdown": [
       "\n",
       "A tibble: 14 × 4\n",
       "\n",
       "| Note &lt;chr&gt; | Count &lt;int&gt; | Total &lt;int&gt; | Freq &lt;dbl&gt; |\n",
       "|---|---|---|---|\n",
       "| ASTARR_A          |  10 |   43 | 0.23255814 |\n",
       "| ASTARR_A|ASTARR_R |   8 |   12 | 0.66666667 |\n",
       "| ASTARR_R          |  70 |  126 | 0.55555556 |\n",
       "| ATAC              | 156 | 1722 | 0.09059233 |\n",
       "| CRISPRi_HCRFF     |  14 |   36 | 0.38888889 |\n",
       "| LMPRA_A           |  68 |  292 | 0.23287671 |\n",
       "| LMPRA_A|LMPRA_R   |   0 |   15 | 0.00000000 |\n",
       "| LMPRA_R           |   3 |   61 | 0.04918033 |\n",
       "| TMPRA_A           |  40 |  294 | 0.13605442 |\n",
       "| TMPRA_A|TMPRA_R   |   4 |    8 | 0.50000000 |\n",
       "| TMPRA_R           |   0 |    7 | 0.00000000 |\n",
       "| WSTARR_A          |  91 |  262 | 0.34732824 |\n",
       "| WSTARR_A|WSTARR_R |   3 |    8 | 0.37500000 |\n",
       "| WSTARR_R          |   3 |   24 | 0.12500000 |\n",
       "\n"
      ],
      "text/plain": [
       "   Note              Count Total Freq      \n",
       "1  ASTARR_A           10     43  0.23255814\n",
       "2  ASTARR_A|ASTARR_R   8     12  0.66666667\n",
       "3  ASTARR_R           70    126  0.55555556\n",
       "4  ATAC              156   1722  0.09059233\n",
       "5  CRISPRi_HCRFF      14     36  0.38888889\n",
       "6  LMPRA_A            68    292  0.23287671\n",
       "7  LMPRA_A|LMPRA_R     0     15  0.00000000\n",
       "8  LMPRA_R             3     61  0.04918033\n",
       "9  TMPRA_A            40    294  0.13605442\n",
       "10 TMPRA_A|TMPRA_R     4      8  0.50000000\n",
       "11 TMPRA_R             0      7  0.00000000\n",
       "12 WSTARR_A           91    262  0.34732824\n",
       "13 WSTARR_A|WSTARR_R   3      8  0.37500000\n",
       "14 WSTARR_R            3     24  0.12500000"
      ]
     },
     "metadata": {},
     "output_type": "display_data"
    }
   ],
   "source": [
    "vec = dat_peak_annot_tss_pol2$Peak_ATAC\n",
    "dat = dat_peak_tot\n",
    "dat = dat %>% dplyr::mutate(TSS = Peak_ATAC %in% vec)\n",
    "dat = dat %>% dplyr::group_by(Note) %>% dplyr::summarise(\n",
    "    Count = sum(TSS),\n",
    "    Total = n(),\n",
    "    Freq  = mean(TSS))\n",
    "dat_peak_count_tss = dat\n",
    "dat"
   ]
  },
  {
   "cell_type": "code",
   "execution_count": 77,
   "metadata": {},
   "outputs": [
    {
     "data": {
      "image/png": "[encoded data removed]",
      "text/plain": [
       "plot without title"
      ]
     },
     "metadata": {
      "image/png": {
       "height": 300,
       "width": 600
      }
     },
     "output_type": "display_data"
    }
   ],
   "source": [
    "vec = c(\"ATAC\", \n",
    "        \"ASTARR_R\", \"ASTARR_A\", \n",
    "        \"WSTARR_R\", \"WSTARR_A\", \n",
    "        \"TMPRA_R\",  \"TMPRA_A\", \n",
    "        \"LMPRA_R\",  \"LMPRA_A\", \n",
    "        \"CRISPRi_HCRFF\")\n",
    "\n",
    "dat = dat_peak_count_tss\n",
    "dat = dat %>% dplyr::filter(Note %in% vec)\n",
    "dat = dat %>% dplyr::mutate(Note = factor(Note, levels=vec))\n",
    "\n",
    "gpt = ggplot(dat, aes(x=Note, y=Count)) + \n",
    "    geom_col() +\n",
    "    coord_flip() +\n",
    "    theme_cowplot()\n",
    "options(repr.plot.height=5, repr.plot.width=10)\n",
    "print(gpt)"
   ]
  },
  {
   "cell_type": "code",
   "execution_count": 78,
   "metadata": {},
   "outputs": [
    {
     "data": {
      "image/png": "[encoded data removed]",
      "text/plain": [
       "plot without title"
      ]
     },
     "metadata": {
      "image/png": {
       "height": 300,
       "width": 600
      }
     },
     "output_type": "display_data"
    }
   ],
   "source": [
    "vec = c(\"ATAC\", \n",
    "        \"ASTARR_R\", \"ASTARR_A\", \n",
    "        \"WSTARR_R\", \"WSTARR_A\", \n",
    "        \"TMPRA_R\",  \"TMPRA_A\", \n",
    "        \"LMPRA_R\",  \"LMPRA_A\", \n",
    "        \"CRISPRi_HCRFF\")\n",
    "\n",
    "dat = dat_peak_count_tss\n",
    "dat = dat %>% dplyr::filter(Note %in% vec)\n",
    "dat = dat %>% dplyr::mutate(Note = factor(Note, levels=vec))\n",
    "\n",
    "gpt = ggplot(dat, aes(x=Note, y=Freq)) + \n",
    "    geom_col() +\n",
    "    coord_flip() +\n",
    "    theme_cowplot()\n",
    "options(repr.plot.height=5, repr.plot.width=10)\n",
    "print(gpt)"
   ]
  },
  {
   "cell_type": "code",
   "execution_count": null,
   "metadata": {},
   "outputs": [],
   "source": []
  },
  {
   "cell_type": "code",
   "execution_count": null,
   "metadata": {},
   "outputs": [],
   "source": []
  },
  {
   "cell_type": "code",
   "execution_count": 44,
   "metadata": {},
   "outputs": [
    {
     "name": "stdout",
     "output_type": "stream",
     "text": [
      "[1] 1722    2\n"
     ]
    },
    {
     "data": {
      "text/html": [
       "<table class=\"dataframe\">\n",
       "<caption>A data.frame: 6 × 2</caption>\n",
       "<thead>\n",
       "\t<tr><th></th><th scope=col>Peak_ATAC</th><th scope=col>TSS</th></tr>\n",
       "\t<tr><th></th><th scope=col>&lt;chr&gt;</th><th scope=col>&lt;lgl&gt;</th></tr>\n",
       "</thead>\n",
       "<tbody>\n",
       "\t<tr><th scope=row>1</th><td>chr11:4539569-4540043</td><td>FALSE</td></tr>\n",
       "\t<tr><th scope=row>2</th><td>chr11:4551336-4552012</td><td>FALSE</td></tr>\n",
       "\t<tr><th scope=row>3</th><td>chr11:4553969-4555012</td><td>FALSE</td></tr>\n",
       "\t<tr><th scope=row>4</th><td>chr11:4569016-4569992</td><td>FALSE</td></tr>\n",
       "\t<tr><th scope=row>5</th><td>chr11:4577444-4578031</td><td>FALSE</td></tr>\n",
       "\t<tr><th scope=row>6</th><td>chr11:4601808-4602487</td><td>FALSE</td></tr>\n",
       "</tbody>\n",
       "</table>\n"
      ],
      "text/latex": [
       "A data.frame: 6 × 2\n",
       "\\begin{tabular}{r|ll}\n",
       "  & Peak\\_ATAC & TSS\\\\\n",
       "  & <chr> & <lgl>\\\\\n",
       "\\hline\n",
       "\t1 & chr11:4539569-4540043 & FALSE\\\\\n",
       "\t2 & chr11:4551336-4552012 & FALSE\\\\\n",
       "\t3 & chr11:4553969-4555012 & FALSE\\\\\n",
       "\t4 & chr11:4569016-4569992 & FALSE\\\\\n",
       "\t5 & chr11:4577444-4578031 & FALSE\\\\\n",
       "\t6 & chr11:4601808-4602487 & FALSE\\\\\n",
       "\\end{tabular}\n"
      ],
      "text/markdown": [
       "\n",
       "A data.frame: 6 × 2\n",
       "\n",
       "| <!--/--> | Peak_ATAC &lt;chr&gt; | TSS &lt;lgl&gt; |\n",
       "|---|---|---|\n",
       "| 1 | chr11:4539569-4540043 | FALSE |\n",
       "| 2 | chr11:4551336-4552012 | FALSE |\n",
       "| 3 | chr11:4553969-4555012 | FALSE |\n",
       "| 4 | chr11:4569016-4569992 | FALSE |\n",
       "| 5 | chr11:4577444-4578031 | FALSE |\n",
       "| 6 | chr11:4601808-4602487 | FALSE |\n",
       "\n"
      ],
      "text/plain": [
       "  Peak_ATAC             TSS  \n",
       "1 chr11:4539569-4540043 FALSE\n",
       "2 chr11:4551336-4552012 FALSE\n",
       "3 chr11:4553969-4555012 FALSE\n",
       "4 chr11:4569016-4569992 FALSE\n",
       "5 chr11:4577444-4578031 FALSE\n",
       "6 chr11:4601808-4602487 FALSE"
      ]
     },
     "metadata": {},
     "output_type": "display_data"
    }
   ],
   "source": [
    "vec = dat_peak_annot_tss_pol2$Peak_ATAC\n",
    "dat = dat_peak_ocr\n",
    "dat = dat %>% dplyr::mutate(TSS = Peak_ATAC %in% vec)\n",
    "\n",
    "dat_peak_tss = dat\n",
    "print(dim(dat))\n",
    "head(dat)"
   ]
  },
  {
   "cell_type": "code",
   "execution_count": 51,
   "metadata": {},
   "outputs": [
    {
     "data": {
      "text/html": [
       "<table class=\"dataframe\">\n",
       "<caption>A data.frame: 6 × 3</caption>\n",
       "<thead>\n",
       "\t<tr><th></th><th scope=col>Peak_ATAC</th><th scope=col>TSS</th><th scope=col>Note</th></tr>\n",
       "\t<tr><th></th><th scope=col>&lt;chr&gt;</th><th scope=col>&lt;lgl&gt;</th><th scope=col>&lt;chr&gt;</th></tr>\n",
       "</thead>\n",
       "<tbody>\n",
       "\t<tr><th scope=row>1</th><td>chr11:4539569-4540043</td><td>FALSE</td><td>NA</td></tr>\n",
       "\t<tr><th scope=row>2</th><td>chr11:4551336-4552012</td><td>FALSE</td><td>NA</td></tr>\n",
       "\t<tr><th scope=row>3</th><td>chr11:4553969-4555012</td><td>FALSE</td><td>NA</td></tr>\n",
       "\t<tr><th scope=row>4</th><td>chr11:4569016-4569992</td><td>FALSE</td><td>NA</td></tr>\n",
       "\t<tr><th scope=row>5</th><td>chr11:4577444-4578031</td><td>FALSE</td><td>NA</td></tr>\n",
       "\t<tr><th scope=row>6</th><td>chr11:4601808-4602487</td><td>FALSE</td><td>NA</td></tr>\n",
       "</tbody>\n",
       "</table>\n"
      ],
      "text/latex": [
       "A data.frame: 6 × 3\n",
       "\\begin{tabular}{r|lll}\n",
       "  & Peak\\_ATAC & TSS & Note\\\\\n",
       "  & <chr> & <lgl> & <chr>\\\\\n",
       "\\hline\n",
       "\t1 & chr11:4539569-4540043 & FALSE & NA\\\\\n",
       "\t2 & chr11:4551336-4552012 & FALSE & NA\\\\\n",
       "\t3 & chr11:4553969-4555012 & FALSE & NA\\\\\n",
       "\t4 & chr11:4569016-4569992 & FALSE & NA\\\\\n",
       "\t5 & chr11:4577444-4578031 & FALSE & NA\\\\\n",
       "\t6 & chr11:4601808-4602487 & FALSE & NA\\\\\n",
       "\\end{tabular}\n"
      ],
      "text/markdown": [
       "\n",
       "A data.frame: 6 × 3\n",
       "\n",
       "| <!--/--> | Peak_ATAC &lt;chr&gt; | TSS &lt;lgl&gt; | Note &lt;chr&gt; |\n",
       "|---|---|---|---|\n",
       "| 1 | chr11:4539569-4540043 | FALSE | NA |\n",
       "| 2 | chr11:4551336-4552012 | FALSE | NA |\n",
       "| 3 | chr11:4553969-4555012 | FALSE | NA |\n",
       "| 4 | chr11:4569016-4569992 | FALSE | NA |\n",
       "| 5 | chr11:4577444-4578031 | FALSE | NA |\n",
       "| 6 | chr11:4601808-4602487 | FALSE | NA |\n",
       "\n"
      ],
      "text/plain": [
       "  Peak_ATAC             TSS   Note\n",
       "1 chr11:4539569-4540043 FALSE NA  \n",
       "2 chr11:4551336-4552012 FALSE NA  \n",
       "3 chr11:4553969-4555012 FALSE NA  \n",
       "4 chr11:4569016-4569992 FALSE NA  \n",
       "5 chr11:4577444-4578031 FALSE NA  \n",
       "6 chr11:4601808-4602487 FALSE NA  "
      ]
     },
     "metadata": {},
     "output_type": "display_data"
    }
   ],
   "source": [
    "dat = dat_peak_annot_cre\n",
    "dat = dat %>% dplyr::select(Peak_ATAC, Note)\n",
    "lst = split(dat, dat$Note)\n",
    "lst = lapply(lst, function(dat){\n",
    "    res = dat_peak_tss %>% dplyr::left_join(dat, by=\"Peak_ATAC\")\n",
    "    return(res)\n",
    "})\n",
    "lst_peak_cre_tss = lst\n",
    "head(lst[[1]])"
   ]
  },
  {
   "cell_type": "code",
   "execution_count": 52,
   "metadata": {},
   "outputs": [
    {
     "data": {
      "text/html": [
       "<dl>\n",
       "\t<dt>$ASTARR_A</dt>\n",
       "\t\t<dd>1722</dd>\n",
       "\t<dt>$`ASTARR_A|ASTARR_R`</dt>\n",
       "\t\t<dd>1722</dd>\n",
       "\t<dt>$ASTARR_R</dt>\n",
       "\t\t<dd>1722</dd>\n",
       "\t<dt>$CRISPRi_HCRFF</dt>\n",
       "\t\t<dd>1722</dd>\n",
       "\t<dt>$LMPRA_A</dt>\n",
       "\t\t<dd>1722</dd>\n",
       "\t<dt>$`LMPRA_A|LMPRA_R`</dt>\n",
       "\t\t<dd>1722</dd>\n",
       "\t<dt>$LMPRA_R</dt>\n",
       "\t\t<dd>1722</dd>\n",
       "\t<dt>$TMPRA_A</dt>\n",
       "\t\t<dd>1722</dd>\n",
       "\t<dt>$`TMPRA_A|TMPRA_R`</dt>\n",
       "\t\t<dd>1722</dd>\n",
       "\t<dt>$TMPRA_R</dt>\n",
       "\t\t<dd>1722</dd>\n",
       "\t<dt>$WSTARR_A</dt>\n",
       "\t\t<dd>1722</dd>\n",
       "\t<dt>$`WSTARR_A|WSTARR_R`</dt>\n",
       "\t\t<dd>1722</dd>\n",
       "\t<dt>$WSTARR_R</dt>\n",
       "\t\t<dd>1722</dd>\n",
       "</dl>\n"
      ],
      "text/latex": [
       "\\begin{description}\n",
       "\\item[\\$ASTARR\\_A] 1722\n",
       "\\item[\\$`ASTARR\\_A\\textbar{}ASTARR\\_R`] 1722\n",
       "\\item[\\$ASTARR\\_R] 1722\n",
       "\\item[\\$CRISPRi\\_HCRFF] 1722\n",
       "\\item[\\$LMPRA\\_A] 1722\n",
       "\\item[\\$`LMPRA\\_A\\textbar{}LMPRA\\_R`] 1722\n",
       "\\item[\\$LMPRA\\_R] 1722\n",
       "\\item[\\$TMPRA\\_A] 1722\n",
       "\\item[\\$`TMPRA\\_A\\textbar{}TMPRA\\_R`] 1722\n",
       "\\item[\\$TMPRA\\_R] 1722\n",
       "\\item[\\$WSTARR\\_A] 1722\n",
       "\\item[\\$`WSTARR\\_A\\textbar{}WSTARR\\_R`] 1722\n",
       "\\item[\\$WSTARR\\_R] 1722\n",
       "\\end{description}\n"
      ],
      "text/markdown": [
       "$ASTARR_A\n",
       ":   1722\n",
       "$`ASTARR_A|ASTARR_R`\n",
       ":   1722\n",
       "$ASTARR_R\n",
       ":   1722\n",
       "$CRISPRi_HCRFF\n",
       ":   1722\n",
       "$LMPRA_A\n",
       ":   1722\n",
       "$`LMPRA_A|LMPRA_R`\n",
       ":   1722\n",
       "$LMPRA_R\n",
       ":   1722\n",
       "$TMPRA_A\n",
       ":   1722\n",
       "$`TMPRA_A|TMPRA_R`\n",
       ":   1722\n",
       "$TMPRA_R\n",
       ":   1722\n",
       "$WSTARR_A\n",
       ":   1722\n",
       "$`WSTARR_A|WSTARR_R`\n",
       ":   1722\n",
       "$WSTARR_R\n",
       ":   1722\n",
       "\n",
       "\n"
      ],
      "text/plain": [
       "$ASTARR_A\n",
       "[1] 1722\n",
       "\n",
       "$`ASTARR_A|ASTARR_R`\n",
       "[1] 1722\n",
       "\n",
       "$ASTARR_R\n",
       "[1] 1722\n",
       "\n",
       "$CRISPRi_HCRFF\n",
       "[1] 1722\n",
       "\n",
       "$LMPRA_A\n",
       "[1] 1722\n",
       "\n",
       "$`LMPRA_A|LMPRA_R`\n",
       "[1] 1722\n",
       "\n",
       "$LMPRA_R\n",
       "[1] 1722\n",
       "\n",
       "$TMPRA_A\n",
       "[1] 1722\n",
       "\n",
       "$`TMPRA_A|TMPRA_R`\n",
       "[1] 1722\n",
       "\n",
       "$TMPRA_R\n",
       "[1] 1722\n",
       "\n",
       "$WSTARR_A\n",
       "[1] 1722\n",
       "\n",
       "$`WSTARR_A|WSTARR_R`\n",
       "[1] 1722\n",
       "\n",
       "$WSTARR_R\n",
       "[1] 1722\n"
      ]
     },
     "metadata": {},
     "output_type": "display_data"
    }
   ],
   "source": [
    "lst = lst_peak_cre_tss\n",
    "lapply(lst, nrow)"
   ]
  },
  {
   "cell_type": "code",
   "execution_count": 37,
   "metadata": {},
   "outputs": [
    {
     "data": {
      "text/plain": [
       "\n",
       "         ASTARR_A ASTARR_A|ASTARR_R          ASTARR_R     CRISPRi_HCRFF \n",
       "             6273              1154             10217                54 \n",
       "          LMPRA_A   LMPRA_A|LMPRA_R           LMPRA_R           TMPRA_A \n",
       "            31816               203               698               294 \n",
       "  TMPRA_A|TMPRA_R           TMPRA_R          WSTARR_A WSTARR_A|WSTARR_R \n",
       "                8                 7             29472              1006 \n",
       "         WSTARR_R \n",
       "             3498 "
      ]
     },
     "metadata": {},
     "output_type": "display_data"
    }
   ],
   "source": [
    "lst = lst_peak_cre_tss\n",
    "lapply(lst, function(dat){\n",
    "    \n",
    "})"
   ]
  },
  {
   "cell_type": "code",
   "execution_count": null,
   "metadata": {},
   "outputs": [],
   "source": []
  }
 ],
 "metadata": {
  "kernelspec": {
   "display_name": "R",
   "language": "R",
   "name": "ir"
  },
  "language_info": {
   "codemirror_mode": "r",
   "file_extension": ".r",
   "mimetype": "text/x-r-source",
   "name": "R",
   "pygments_lexer": "r",
   "version": "4.3.0"
  }
 },
 "nbformat": 4,
 "nbformat_minor": 4
}
