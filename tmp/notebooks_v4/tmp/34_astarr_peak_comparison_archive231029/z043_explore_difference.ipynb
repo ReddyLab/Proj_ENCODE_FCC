{
 "cells": [
  {
   "cell_type": "code",
   "execution_count": 1,
   "metadata": {},
   "outputs": [
    {
     "name": "stdout",
     "output_type": "stream",
     "text": [
      "You are in Singularity: singularity_proj_encode_fcc \n",
      "BASE DIRECTORY (FD_BASE): /data/reddylab/Kuei \n",
      "WORK DIRECTORY (FD_WORK): /data/reddylab/Kuei/out \n",
      "CODE DIRECTORY (FD_CODE): /data/reddylab/Kuei/code \n",
      "PATH OF PROJECT (FD_PRJ): /data/reddylab/Kuei/code/Proj_CombEffect_ENCODE_FCC \n",
      "PATH OF RESULTS (FD_RES): /data/reddylab/Kuei/out/proj_combeffect_encode_fcc \n",
      "PATH OF LOG     (FD_LOG): /data/reddylab/Kuei/out/proj_combeffect_encode_fcc/log \n"
     ]
    }
   ],
   "source": [
    "suppressMessages(suppressWarnings(source(\"../config/config_sing.R\")))\n",
    "show_env()"
   ]
  },
  {
   "cell_type": "code",
   "execution_count": 2,
   "metadata": {},
   "outputs": [
    {
     "name": "stderr",
     "output_type": "stream",
     "text": [
      "\u001b[1mRows: \u001b[22m\u001b[34m5166\u001b[39m \u001b[1mColumns: \u001b[22m\u001b[34m10\u001b[39m\n",
      "\u001b[36m──\u001b[39m \u001b[1mColumn specification\u001b[22m \u001b[36m─────────────────────────────────────────────────────────────────────\u001b[39m\n",
      "\u001b[1mDelimiter:\u001b[22m \"\\t\"\n",
      "\u001b[31mchr\u001b[39m (6): Chrom, Peak, TMPRA_Gene, TMPRA_Dataset, CRISPR_HCFF, Assay\n",
      "\u001b[32mdbl\u001b[39m (4): Start, End, Log2FC, RankNorm_Total\n",
      "\n",
      "\u001b[36mℹ\u001b[39m Use `spec()` to retrieve the full column specification for this data.\n",
      "\u001b[36mℹ\u001b[39m Specify the column types or set `show_col_types = FALSE` to quiet this message.\n"
     ]
    },
    {
     "name": "stdout",
     "output_type": "stream",
     "text": [
      "[1] 5166   10\n"
     ]
    },
    {
     "data": {
      "text/html": [
       "<table class=\"dataframe\">\n",
       "<caption>A tibble: 6 × 10</caption>\n",
       "<thead>\n",
       "\t<tr><th scope=col>Chrom</th><th scope=col>Start</th><th scope=col>End</th><th scope=col>Peak</th><th scope=col>TMPRA_Gene</th><th scope=col>TMPRA_Dataset</th><th scope=col>CRISPR_HCFF</th><th scope=col>Assay</th><th scope=col>Log2FC</th><th scope=col>RankNorm_Total</th></tr>\n",
       "\t<tr><th scope=col>&lt;chr&gt;</th><th scope=col>&lt;dbl&gt;</th><th scope=col>&lt;dbl&gt;</th><th scope=col>&lt;chr&gt;</th><th scope=col>&lt;chr&gt;</th><th scope=col>&lt;chr&gt;</th><th scope=col>&lt;chr&gt;</th><th scope=col>&lt;chr&gt;</th><th scope=col>&lt;dbl&gt;</th><th scope=col>&lt;dbl&gt;</th></tr>\n",
       "</thead>\n",
       "<tbody>\n",
       "\t<tr><td>chr11</td><td>4539569</td><td>4540043</td><td>chr11_4539569_4540043</td><td>HBE1</td><td>OL45</td><td>HBE1,HBG1,HBG2,HBS1L,MYB</td><td>ASTARR</td><td> 0.14501695</td><td>0.6550523</td></tr>\n",
       "\t<tr><td>chr11</td><td>4551336</td><td>4552012</td><td>chr11_4551336_4552012</td><td>HBE1</td><td>OL45</td><td>NA                      </td><td>ASTARR</td><td> 0.32125162</td><td>0.7560976</td></tr>\n",
       "\t<tr><td>chr11</td><td>4553969</td><td>4555012</td><td>chr11_4553969_4555012</td><td>HBE1</td><td>OL45</td><td>NA                      </td><td>ASTARR</td><td> 0.14529397</td><td>0.6556330</td></tr>\n",
       "\t<tr><td>chr11</td><td>4569016</td><td>4569992</td><td>chr11_4569016_4569992</td><td>HBE1</td><td>OL45</td><td>NA                      </td><td>ASTARR</td><td> 0.01136464</td><td>0.5673635</td></tr>\n",
       "\t<tr><td>chr11</td><td>4577444</td><td>4578031</td><td>chr11_4577444_4578031</td><td>HBE1</td><td>OL45</td><td>NA                      </td><td>ASTARR</td><td> 0.24524353</td><td>0.7154472</td></tr>\n",
       "\t<tr><td>chr11</td><td>4601808</td><td>4602487</td><td>chr11_4601808_4602487</td><td>HBE1</td><td>OL45</td><td>NA                      </td><td>ASTARR</td><td>-0.57215284</td><td>0.1277584</td></tr>\n",
       "</tbody>\n",
       "</table>\n"
      ],
      "text/latex": [
       "A tibble: 6 × 10\n",
       "\\begin{tabular}{llllllllll}\n",
       " Chrom & Start & End & Peak & TMPRA\\_Gene & TMPRA\\_Dataset & CRISPR\\_HCFF & Assay & Log2FC & RankNorm\\_Total\\\\\n",
       " <chr> & <dbl> & <dbl> & <chr> & <chr> & <chr> & <chr> & <chr> & <dbl> & <dbl>\\\\\n",
       "\\hline\n",
       "\t chr11 & 4539569 & 4540043 & chr11\\_4539569\\_4540043 & HBE1 & OL45 & HBE1,HBG1,HBG2,HBS1L,MYB & ASTARR &  0.14501695 & 0.6550523\\\\\n",
       "\t chr11 & 4551336 & 4552012 & chr11\\_4551336\\_4552012 & HBE1 & OL45 & NA                       & ASTARR &  0.32125162 & 0.7560976\\\\\n",
       "\t chr11 & 4553969 & 4555012 & chr11\\_4553969\\_4555012 & HBE1 & OL45 & NA                       & ASTARR &  0.14529397 & 0.6556330\\\\\n",
       "\t chr11 & 4569016 & 4569992 & chr11\\_4569016\\_4569992 & HBE1 & OL45 & NA                       & ASTARR &  0.01136464 & 0.5673635\\\\\n",
       "\t chr11 & 4577444 & 4578031 & chr11\\_4577444\\_4578031 & HBE1 & OL45 & NA                       & ASTARR &  0.24524353 & 0.7154472\\\\\n",
       "\t chr11 & 4601808 & 4602487 & chr11\\_4601808\\_4602487 & HBE1 & OL45 & NA                       & ASTARR & -0.57215284 & 0.1277584\\\\\n",
       "\\end{tabular}\n"
      ],
      "text/markdown": [
       "\n",
       "A tibble: 6 × 10\n",
       "\n",
       "| Chrom &lt;chr&gt; | Start &lt;dbl&gt; | End &lt;dbl&gt; | Peak &lt;chr&gt; | TMPRA_Gene &lt;chr&gt; | TMPRA_Dataset &lt;chr&gt; | CRISPR_HCFF &lt;chr&gt; | Assay &lt;chr&gt; | Log2FC &lt;dbl&gt; | RankNorm_Total &lt;dbl&gt; |\n",
       "|---|---|---|---|---|---|---|---|---|---|\n",
       "| chr11 | 4539569 | 4540043 | chr11_4539569_4540043 | HBE1 | OL45 | HBE1,HBG1,HBG2,HBS1L,MYB | ASTARR |  0.14501695 | 0.6550523 |\n",
       "| chr11 | 4551336 | 4552012 | chr11_4551336_4552012 | HBE1 | OL45 | NA                       | ASTARR |  0.32125162 | 0.7560976 |\n",
       "| chr11 | 4553969 | 4555012 | chr11_4553969_4555012 | HBE1 | OL45 | NA                       | ASTARR |  0.14529397 | 0.6556330 |\n",
       "| chr11 | 4569016 | 4569992 | chr11_4569016_4569992 | HBE1 | OL45 | NA                       | ASTARR |  0.01136464 | 0.5673635 |\n",
       "| chr11 | 4577444 | 4578031 | chr11_4577444_4578031 | HBE1 | OL45 | NA                       | ASTARR |  0.24524353 | 0.7154472 |\n",
       "| chr11 | 4601808 | 4602487 | chr11_4601808_4602487 | HBE1 | OL45 | NA                       | ASTARR | -0.57215284 | 0.1277584 |\n",
       "\n"
      ],
      "text/plain": [
       "  Chrom Start   End     Peak                  TMPRA_Gene TMPRA_Dataset\n",
       "1 chr11 4539569 4540043 chr11_4539569_4540043 HBE1       OL45         \n",
       "2 chr11 4551336 4552012 chr11_4551336_4552012 HBE1       OL45         \n",
       "3 chr11 4553969 4555012 chr11_4553969_4555012 HBE1       OL45         \n",
       "4 chr11 4569016 4569992 chr11_4569016_4569992 HBE1       OL45         \n",
       "5 chr11 4577444 4578031 chr11_4577444_4578031 HBE1       OL45         \n",
       "6 chr11 4601808 4602487 chr11_4601808_4602487 HBE1       OL45         \n",
       "  CRISPR_HCFF              Assay  Log2FC      RankNorm_Total\n",
       "1 HBE1,HBG1,HBG2,HBS1L,MYB ASTARR  0.14501695 0.6550523     \n",
       "2 NA                       ASTARR  0.32125162 0.7560976     \n",
       "3 NA                       ASTARR  0.14529397 0.6556330     \n",
       "4 NA                       ASTARR  0.01136464 0.5673635     \n",
       "5 NA                       ASTARR  0.24524353 0.7154472     \n",
       "6 NA                       ASTARR -0.57215284 0.1277584     "
      ]
     },
     "metadata": {},
     "output_type": "display_data"
    }
   ],
   "source": [
    "### set file directories\n",
    "fdiry = file.path(FD_RES, \"results\", \"comparison\")\n",
    "fname = \"result.ranknorm.starrmpra.tsv\"\n",
    "fpath = file.path(fdiry, fname)\n",
    "\n",
    "### read data\n",
    "dat = read_tsv(fpath)\n",
    "\n",
    "### assign and show\n",
    "dat_peak_starrmpra_res = dat\n",
    "print(dim(dat))\n",
    "head(dat)"
   ]
  },
  {
   "cell_type": "code",
   "execution_count": 3,
   "metadata": {},
   "outputs": [
    {
     "name": "stderr",
     "output_type": "stream",
     "text": [
      "\u001b[1mRows: \u001b[22m\u001b[34m1722\u001b[39m \u001b[1mColumns: \u001b[22m\u001b[34m4\u001b[39m\n",
      "\u001b[36m──\u001b[39m \u001b[1mColumn specification\u001b[22m \u001b[36m─────────────────────────────────────────────────────────────────────\u001b[39m\n",
      "\u001b[1mDelimiter:\u001b[22m \"\\t\"\n",
      "\u001b[31mchr\u001b[39m (1): Peak\n",
      "\u001b[32mdbl\u001b[39m (3): RankNorm, CRISPR_pos, CRISPR_neg\n",
      "\n",
      "\u001b[36mℹ\u001b[39m Use `spec()` to retrieve the full column specification for this data.\n",
      "\u001b[36mℹ\u001b[39m Specify the column types or set `show_col_types = FALSE` to quiet this message.\n"
     ]
    },
    {
     "name": "stdout",
     "output_type": "stream",
     "text": [
      "[1] 1722    4\n"
     ]
    },
    {
     "data": {
      "text/html": [
       "<table class=\"dataframe\">\n",
       "<caption>A tibble: 6 × 4</caption>\n",
       "<thead>\n",
       "\t<tr><th scope=col>Peak</th><th scope=col>RankNorm</th><th scope=col>CRISPR_pos</th><th scope=col>CRISPR_neg</th></tr>\n",
       "\t<tr><th scope=col>&lt;chr&gt;</th><th scope=col>&lt;dbl&gt;</th><th scope=col>&lt;dbl&gt;</th><th scope=col>&lt;dbl&gt;</th></tr>\n",
       "</thead>\n",
       "<tbody>\n",
       "\t<tr><td>chrX_48996933_48997220  </td><td>0.002129307</td><td>0.00000000</td><td> 0.0000000</td></tr>\n",
       "\t<tr><td>chr8_128298518_128298762</td><td>0.009291521</td><td>0.29710614</td><td> 0.0000000</td></tr>\n",
       "\t<tr><td>chr8_128242220_128242507</td><td>0.039876113</td><td>0.01841620</td><td>-0.3771868</td></tr>\n",
       "\t<tr><td>chr11_34024311_34024546 </td><td>0.040456833</td><td>0.00000000</td><td> 0.0000000</td></tr>\n",
       "\t<tr><td>chr8_128189792_128190210</td><td>0.041231127</td><td>0.09226309</td><td>-0.1074660</td></tr>\n",
       "\t<tr><td>chr20_56703281_56703575 </td><td>0.048199768</td><td>0.00000000</td><td> 0.0000000</td></tr>\n",
       "</tbody>\n",
       "</table>\n"
      ],
      "text/latex": [
       "A tibble: 6 × 4\n",
       "\\begin{tabular}{llll}\n",
       " Peak & RankNorm & CRISPR\\_pos & CRISPR\\_neg\\\\\n",
       " <chr> & <dbl> & <dbl> & <dbl>\\\\\n",
       "\\hline\n",
       "\t chrX\\_48996933\\_48997220   & 0.002129307 & 0.00000000 &  0.0000000\\\\\n",
       "\t chr8\\_128298518\\_128298762 & 0.009291521 & 0.29710614 &  0.0000000\\\\\n",
       "\t chr8\\_128242220\\_128242507 & 0.039876113 & 0.01841620 & -0.3771868\\\\\n",
       "\t chr11\\_34024311\\_34024546  & 0.040456833 & 0.00000000 &  0.0000000\\\\\n",
       "\t chr8\\_128189792\\_128190210 & 0.041231127 & 0.09226309 & -0.1074660\\\\\n",
       "\t chr20\\_56703281\\_56703575  & 0.048199768 & 0.00000000 &  0.0000000\\\\\n",
       "\\end{tabular}\n"
      ],
      "text/markdown": [
       "\n",
       "A tibble: 6 × 4\n",
       "\n",
       "| Peak &lt;chr&gt; | RankNorm &lt;dbl&gt; | CRISPR_pos &lt;dbl&gt; | CRISPR_neg &lt;dbl&gt; |\n",
       "|---|---|---|---|\n",
       "| chrX_48996933_48997220   | 0.002129307 | 0.00000000 |  0.0000000 |\n",
       "| chr8_128298518_128298762 | 0.009291521 | 0.29710614 |  0.0000000 |\n",
       "| chr8_128242220_128242507 | 0.039876113 | 0.01841620 | -0.3771868 |\n",
       "| chr11_34024311_34024546  | 0.040456833 | 0.00000000 |  0.0000000 |\n",
       "| chr8_128189792_128190210 | 0.041231127 | 0.09226309 | -0.1074660 |\n",
       "| chr20_56703281_56703575  | 0.048199768 | 0.00000000 |  0.0000000 |\n",
       "\n"
      ],
      "text/plain": [
       "  Peak                     RankNorm    CRISPR_pos CRISPR_neg\n",
       "1 chrX_48996933_48997220   0.002129307 0.00000000  0.0000000\n",
       "2 chr8_128298518_128298762 0.009291521 0.29710614  0.0000000\n",
       "3 chr8_128242220_128242507 0.039876113 0.01841620 -0.3771868\n",
       "4 chr11_34024311_34024546  0.040456833 0.00000000  0.0000000\n",
       "5 chr8_128189792_128190210 0.041231127 0.09226309 -0.1074660\n",
       "6 chr20_56703281_56703575  0.048199768 0.00000000  0.0000000"
      ]
     },
     "metadata": {},
     "output_type": "display_data"
    }
   ],
   "source": [
    "### set file directories\n",
    "fdiry = file.path(FD_RES, \"results\", \"comparison\")\n",
    "fname = \"result.ranknorm.starrmpra.crispr.tsv\"\n",
    "fpath = file.path(fdiry, fname)\n",
    "\n",
    "### read data\n",
    "dat = read_tsv(fpath)\n",
    "\n",
    "### assign and show\n",
    "dat_peak_score_starrmpra_crispr = dat\n",
    "print(dim(dat))\n",
    "head(dat)"
   ]
  },
  {
   "cell_type": "code",
   "execution_count": 5,
   "metadata": {},
   "outputs": [
    {
     "name": "stdout",
     "output_type": "stream",
     "text": [
      "[1] 1722    4\n"
     ]
    },
    {
     "data": {
      "text/html": [
       "<table class=\"dataframe\">\n",
       "<caption>A tibble: 6 × 4</caption>\n",
       "<thead>\n",
       "\t<tr><th scope=col>Peak</th><th scope=col>RankNorm</th><th scope=col>CRISPR_pos</th><th scope=col>CRISPR_neg</th></tr>\n",
       "\t<tr><th scope=col>&lt;chr&gt;</th><th scope=col>&lt;dbl&gt;</th><th scope=col>&lt;dbl&gt;</th><th scope=col>&lt;dbl&gt;</th></tr>\n",
       "</thead>\n",
       "<tbody>\n",
       "\t<tr><td>chrX_48996933_48997220  </td><td>0.002129307</td><td>0.00000000</td><td> 0.0000000</td></tr>\n",
       "\t<tr><td>chr8_128298518_128298762</td><td>0.009291521</td><td>0.29710614</td><td> 0.0000000</td></tr>\n",
       "\t<tr><td>chr8_128242220_128242507</td><td>0.039876113</td><td>0.01841620</td><td>-0.3771868</td></tr>\n",
       "\t<tr><td>chr11_34024311_34024546 </td><td>0.040456833</td><td>0.00000000</td><td> 0.0000000</td></tr>\n",
       "\t<tr><td>chr8_128189792_128190210</td><td>0.041231127</td><td>0.09226309</td><td>-0.1074660</td></tr>\n",
       "\t<tr><td>chr20_56703281_56703575 </td><td>0.048199768</td><td>0.00000000</td><td> 0.0000000</td></tr>\n",
       "</tbody>\n",
       "</table>\n"
      ],
      "text/latex": [
       "A tibble: 6 × 4\n",
       "\\begin{tabular}{llll}\n",
       " Peak & RankNorm & CRISPR\\_pos & CRISPR\\_neg\\\\\n",
       " <chr> & <dbl> & <dbl> & <dbl>\\\\\n",
       "\\hline\n",
       "\t chrX\\_48996933\\_48997220   & 0.002129307 & 0.00000000 &  0.0000000\\\\\n",
       "\t chr8\\_128298518\\_128298762 & 0.009291521 & 0.29710614 &  0.0000000\\\\\n",
       "\t chr8\\_128242220\\_128242507 & 0.039876113 & 0.01841620 & -0.3771868\\\\\n",
       "\t chr11\\_34024311\\_34024546  & 0.040456833 & 0.00000000 &  0.0000000\\\\\n",
       "\t chr8\\_128189792\\_128190210 & 0.041231127 & 0.09226309 & -0.1074660\\\\\n",
       "\t chr20\\_56703281\\_56703575  & 0.048199768 & 0.00000000 &  0.0000000\\\\\n",
       "\\end{tabular}\n"
      ],
      "text/markdown": [
       "\n",
       "A tibble: 6 × 4\n",
       "\n",
       "| Peak &lt;chr&gt; | RankNorm &lt;dbl&gt; | CRISPR_pos &lt;dbl&gt; | CRISPR_neg &lt;dbl&gt; |\n",
       "|---|---|---|---|\n",
       "| chrX_48996933_48997220   | 0.002129307 | 0.00000000 |  0.0000000 |\n",
       "| chr8_128298518_128298762 | 0.009291521 | 0.29710614 |  0.0000000 |\n",
       "| chr8_128242220_128242507 | 0.039876113 | 0.01841620 | -0.3771868 |\n",
       "| chr11_34024311_34024546  | 0.040456833 | 0.00000000 |  0.0000000 |\n",
       "| chr8_128189792_128190210 | 0.041231127 | 0.09226309 | -0.1074660 |\n",
       "| chr20_56703281_56703575  | 0.048199768 | 0.00000000 |  0.0000000 |\n",
       "\n"
      ],
      "text/plain": [
       "  Peak                     RankNorm    CRISPR_pos CRISPR_neg\n",
       "1 chrX_48996933_48997220   0.002129307 0.00000000  0.0000000\n",
       "2 chr8_128298518_128298762 0.009291521 0.29710614  0.0000000\n",
       "3 chr8_128242220_128242507 0.039876113 0.01841620 -0.3771868\n",
       "4 chr11_34024311_34024546  0.040456833 0.00000000  0.0000000\n",
       "5 chr8_128189792_128190210 0.041231127 0.09226309 -0.1074660\n",
       "6 chr20_56703281_56703575  0.048199768 0.00000000  0.0000000"
      ]
     },
     "metadata": {},
     "output_type": "display_data"
    }
   ],
   "source": [
    "dat = dat_peak_score_starrmpra_crispr\n",
    "dat = dat %>% arrange(RankNorm)\n",
    "\n",
    "peaks  = dat$Peak\n",
    "assays = c(\"ASTARR\", \"WSTARR\", \"TMPRA\")\n",
    "print(dim(dat))\n",
    "head(dat)"
   ]
  },
  {
   "cell_type": "code",
   "execution_count": 7,
   "metadata": {},
   "outputs": [
    {
     "name": "stdout",
     "output_type": "stream",
     "text": [
      "[1] 5166   11\n"
     ]
    },
    {
     "data": {
      "text/html": [
       "<table class=\"dataframe\">\n",
       "<caption>A tibble: 6 × 11</caption>\n",
       "<thead>\n",
       "\t<tr><th scope=col>Chrom</th><th scope=col>Start</th><th scope=col>End</th><th scope=col>Peak</th><th scope=col>TMPRA_Gene</th><th scope=col>TMPRA_Dataset</th><th scope=col>CRISPR_HCFF</th><th scope=col>Assay</th><th scope=col>Log2FC</th><th scope=col>RankNorm_Total</th><th scope=col>Score</th></tr>\n",
       "\t<tr><th scope=col>&lt;chr&gt;</th><th scope=col>&lt;dbl&gt;</th><th scope=col>&lt;dbl&gt;</th><th scope=col>&lt;fct&gt;</th><th scope=col>&lt;chr&gt;</th><th scope=col>&lt;chr&gt;</th><th scope=col>&lt;chr&gt;</th><th scope=col>&lt;fct&gt;</th><th scope=col>&lt;dbl&gt;</th><th scope=col>&lt;dbl&gt;</th><th scope=col>&lt;dbl&gt;</th></tr>\n",
       "</thead>\n",
       "<tbody>\n",
       "\t<tr><td>chr11</td><td>4539569</td><td>4540043</td><td>chr11_4539569_4540043</td><td>HBE1</td><td>OL45</td><td>HBE1,HBG1,HBG2,HBS1L,MYB</td><td>ASTARR</td><td> 0.14501695</td><td>0.6550523</td><td>0.6550523</td></tr>\n",
       "\t<tr><td>chr11</td><td>4551336</td><td>4552012</td><td>chr11_4551336_4552012</td><td>HBE1</td><td>OL45</td><td>NA                      </td><td>ASTARR</td><td> 0.32125162</td><td>0.7560976</td><td>0.7560976</td></tr>\n",
       "\t<tr><td>chr11</td><td>4553969</td><td>4555012</td><td>chr11_4553969_4555012</td><td>HBE1</td><td>OL45</td><td>NA                      </td><td>ASTARR</td><td> 0.14529397</td><td>0.6556330</td><td>0.6556330</td></tr>\n",
       "\t<tr><td>chr11</td><td>4569016</td><td>4569992</td><td>chr11_4569016_4569992</td><td>HBE1</td><td>OL45</td><td>NA                      </td><td>ASTARR</td><td> 0.01136464</td><td>0.5673635</td><td>0.5673635</td></tr>\n",
       "\t<tr><td>chr11</td><td>4577444</td><td>4578031</td><td>chr11_4577444_4578031</td><td>HBE1</td><td>OL45</td><td>NA                      </td><td>ASTARR</td><td> 0.24524353</td><td>0.7154472</td><td>0.7154472</td></tr>\n",
       "\t<tr><td>chr11</td><td>4601808</td><td>4602487</td><td>chr11_4601808_4602487</td><td>HBE1</td><td>OL45</td><td>NA                      </td><td>ASTARR</td><td>-0.57215284</td><td>0.1277584</td><td>0.1277584</td></tr>\n",
       "</tbody>\n",
       "</table>\n"
      ],
      "text/latex": [
       "A tibble: 6 × 11\n",
       "\\begin{tabular}{lllllllllll}\n",
       " Chrom & Start & End & Peak & TMPRA\\_Gene & TMPRA\\_Dataset & CRISPR\\_HCFF & Assay & Log2FC & RankNorm\\_Total & Score\\\\\n",
       " <chr> & <dbl> & <dbl> & <fct> & <chr> & <chr> & <chr> & <fct> & <dbl> & <dbl> & <dbl>\\\\\n",
       "\\hline\n",
       "\t chr11 & 4539569 & 4540043 & chr11\\_4539569\\_4540043 & HBE1 & OL45 & HBE1,HBG1,HBG2,HBS1L,MYB & ASTARR &  0.14501695 & 0.6550523 & 0.6550523\\\\\n",
       "\t chr11 & 4551336 & 4552012 & chr11\\_4551336\\_4552012 & HBE1 & OL45 & NA                       & ASTARR &  0.32125162 & 0.7560976 & 0.7560976\\\\\n",
       "\t chr11 & 4553969 & 4555012 & chr11\\_4553969\\_4555012 & HBE1 & OL45 & NA                       & ASTARR &  0.14529397 & 0.6556330 & 0.6556330\\\\\n",
       "\t chr11 & 4569016 & 4569992 & chr11\\_4569016\\_4569992 & HBE1 & OL45 & NA                       & ASTARR &  0.01136464 & 0.5673635 & 0.5673635\\\\\n",
       "\t chr11 & 4577444 & 4578031 & chr11\\_4577444\\_4578031 & HBE1 & OL45 & NA                       & ASTARR &  0.24524353 & 0.7154472 & 0.7154472\\\\\n",
       "\t chr11 & 4601808 & 4602487 & chr11\\_4601808\\_4602487 & HBE1 & OL45 & NA                       & ASTARR & -0.57215284 & 0.1277584 & 0.1277584\\\\\n",
       "\\end{tabular}\n"
      ],
      "text/markdown": [
       "\n",
       "A tibble: 6 × 11\n",
       "\n",
       "| Chrom &lt;chr&gt; | Start &lt;dbl&gt; | End &lt;dbl&gt; | Peak &lt;fct&gt; | TMPRA_Gene &lt;chr&gt; | TMPRA_Dataset &lt;chr&gt; | CRISPR_HCFF &lt;chr&gt; | Assay &lt;fct&gt; | Log2FC &lt;dbl&gt; | RankNorm_Total &lt;dbl&gt; | Score &lt;dbl&gt; |\n",
       "|---|---|---|---|---|---|---|---|---|---|---|\n",
       "| chr11 | 4539569 | 4540043 | chr11_4539569_4540043 | HBE1 | OL45 | HBE1,HBG1,HBG2,HBS1L,MYB | ASTARR |  0.14501695 | 0.6550523 | 0.6550523 |\n",
       "| chr11 | 4551336 | 4552012 | chr11_4551336_4552012 | HBE1 | OL45 | NA                       | ASTARR |  0.32125162 | 0.7560976 | 0.7560976 |\n",
       "| chr11 | 4553969 | 4555012 | chr11_4553969_4555012 | HBE1 | OL45 | NA                       | ASTARR |  0.14529397 | 0.6556330 | 0.6556330 |\n",
       "| chr11 | 4569016 | 4569992 | chr11_4569016_4569992 | HBE1 | OL45 | NA                       | ASTARR |  0.01136464 | 0.5673635 | 0.5673635 |\n",
       "| chr11 | 4577444 | 4578031 | chr11_4577444_4578031 | HBE1 | OL45 | NA                       | ASTARR |  0.24524353 | 0.7154472 | 0.7154472 |\n",
       "| chr11 | 4601808 | 4602487 | chr11_4601808_4602487 | HBE1 | OL45 | NA                       | ASTARR | -0.57215284 | 0.1277584 | 0.1277584 |\n",
       "\n"
      ],
      "text/plain": [
       "  Chrom Start   End     Peak                  TMPRA_Gene TMPRA_Dataset\n",
       "1 chr11 4539569 4540043 chr11_4539569_4540043 HBE1       OL45         \n",
       "2 chr11 4551336 4552012 chr11_4551336_4552012 HBE1       OL45         \n",
       "3 chr11 4553969 4555012 chr11_4553969_4555012 HBE1       OL45         \n",
       "4 chr11 4569016 4569992 chr11_4569016_4569992 HBE1       OL45         \n",
       "5 chr11 4577444 4578031 chr11_4577444_4578031 HBE1       OL45         \n",
       "6 chr11 4601808 4602487 chr11_4601808_4602487 HBE1       OL45         \n",
       "  CRISPR_HCFF              Assay  Log2FC      RankNorm_Total Score    \n",
       "1 HBE1,HBG1,HBG2,HBS1L,MYB ASTARR  0.14501695 0.6550523      0.6550523\n",
       "2 NA                       ASTARR  0.32125162 0.7560976      0.7560976\n",
       "3 NA                       ASTARR  0.14529397 0.6556330      0.6556330\n",
       "4 NA                       ASTARR  0.01136464 0.5673635      0.5673635\n",
       "5 NA                       ASTARR  0.24524353 0.7154472      0.7154472\n",
       "6 NA                       ASTARR -0.57215284 0.1277584      0.1277584"
      ]
     },
     "metadata": {},
     "output_type": "display_data"
    }
   ],
   "source": [
    "dat = dat_peak_starrmpra_res\n",
    "dat = dat %>% \n",
    "    dplyr::mutate(\n",
    "        Assay = factor(Assay, levels=assays),\n",
    "        Peak  = factor(Peak,  levels=peaks),\n",
    "        Score = RankNorm_Total\n",
    "    )\n",
    "\n",
    "dat_score_starrmpra = dat\n",
    "print(dim(dat))\n",
    "head(dat)"
   ]
  },
  {
   "cell_type": "code",
   "execution_count": 8,
   "metadata": {},
   "outputs": [
    {
     "name": "stdout",
     "output_type": "stream",
     "text": [
      "[1] 1722    2\n"
     ]
    },
    {
     "data": {
      "text/html": [
       "<table class=\"dataframe\">\n",
       "<caption>A tibble: 6 × 2</caption>\n",
       "<thead>\n",
       "\t<tr><th scope=col>Peak</th><th scope=col>RankNorm</th></tr>\n",
       "\t<tr><th scope=col>&lt;fct&gt;</th><th scope=col>&lt;dbl&gt;</th></tr>\n",
       "</thead>\n",
       "<tbody>\n",
       "\t<tr><td>chrX_48996933_48997220  </td><td>0.002129307</td></tr>\n",
       "\t<tr><td>chr8_128298518_128298762</td><td>0.009291521</td></tr>\n",
       "\t<tr><td>chr8_128242220_128242507</td><td>0.039876113</td></tr>\n",
       "\t<tr><td>chr11_34024311_34024546 </td><td>0.040456833</td></tr>\n",
       "\t<tr><td>chr8_128189792_128190210</td><td>0.041231127</td></tr>\n",
       "\t<tr><td>chr20_56703281_56703575 </td><td>0.048199768</td></tr>\n",
       "</tbody>\n",
       "</table>\n"
      ],
      "text/latex": [
       "A tibble: 6 × 2\n",
       "\\begin{tabular}{ll}\n",
       " Peak & RankNorm\\\\\n",
       " <fct> & <dbl>\\\\\n",
       "\\hline\n",
       "\t chrX\\_48996933\\_48997220   & 0.002129307\\\\\n",
       "\t chr8\\_128298518\\_128298762 & 0.009291521\\\\\n",
       "\t chr8\\_128242220\\_128242507 & 0.039876113\\\\\n",
       "\t chr11\\_34024311\\_34024546  & 0.040456833\\\\\n",
       "\t chr8\\_128189792\\_128190210 & 0.041231127\\\\\n",
       "\t chr20\\_56703281\\_56703575  & 0.048199768\\\\\n",
       "\\end{tabular}\n"
      ],
      "text/markdown": [
       "\n",
       "A tibble: 6 × 2\n",
       "\n",
       "| Peak &lt;fct&gt; | RankNorm &lt;dbl&gt; |\n",
       "|---|---|\n",
       "| chrX_48996933_48997220   | 0.002129307 |\n",
       "| chr8_128298518_128298762 | 0.009291521 |\n",
       "| chr8_128242220_128242507 | 0.039876113 |\n",
       "| chr11_34024311_34024546  | 0.040456833 |\n",
       "| chr8_128189792_128190210 | 0.041231127 |\n",
       "| chr20_56703281_56703575  | 0.048199768 |\n",
       "\n"
      ],
      "text/plain": [
       "  Peak                     RankNorm   \n",
       "1 chrX_48996933_48997220   0.002129307\n",
       "2 chr8_128298518_128298762 0.009291521\n",
       "3 chr8_128242220_128242507 0.039876113\n",
       "4 chr11_34024311_34024546  0.040456833\n",
       "5 chr8_128189792_128190210 0.041231127\n",
       "6 chr20_56703281_56703575  0.048199768"
      ]
     },
     "metadata": {},
     "output_type": "display_data"
    }
   ],
   "source": [
    "dat = dat_peak_score_starrmpra_crispr\n",
    "dat = dat %>% \n",
    "    dplyr::select(Peak, RankNorm) %>%\n",
    "    dplyr::mutate(Peak = factor(Peak, levels=peaks))\n",
    "\n",
    "dat_score_starrmpra_summary = dat\n",
    "print(dim(dat))\n",
    "head(dat)"
   ]
  },
  {
   "cell_type": "code",
   "execution_count": 9,
   "metadata": {},
   "outputs": [
    {
     "name": "stdout",
     "output_type": "stream",
     "text": [
      "[1] 3444    3\n"
     ]
    },
    {
     "data": {
      "text/html": [
       "<table class=\"dataframe\">\n",
       "<caption>A tibble: 6 × 3</caption>\n",
       "<thead>\n",
       "\t<tr><th scope=col>Peak</th><th scope=col>Group</th><th scope=col>Score</th></tr>\n",
       "\t<tr><th scope=col>&lt;fct&gt;</th><th scope=col>&lt;chr&gt;</th><th scope=col>&lt;dbl&gt;</th></tr>\n",
       "</thead>\n",
       "<tbody>\n",
       "\t<tr><td>chrX_48996933_48997220  </td><td>CRISPR_pos</td><td>0.00000000</td></tr>\n",
       "\t<tr><td>chr8_128298518_128298762</td><td>CRISPR_pos</td><td>0.29710614</td></tr>\n",
       "\t<tr><td>chr8_128242220_128242507</td><td>CRISPR_pos</td><td>0.01841620</td></tr>\n",
       "\t<tr><td>chr11_34024311_34024546 </td><td>CRISPR_pos</td><td>0.00000000</td></tr>\n",
       "\t<tr><td>chr8_128189792_128190210</td><td>CRISPR_pos</td><td>0.09226309</td></tr>\n",
       "\t<tr><td>chr20_56703281_56703575 </td><td>CRISPR_pos</td><td>0.00000000</td></tr>\n",
       "</tbody>\n",
       "</table>\n"
      ],
      "text/latex": [
       "A tibble: 6 × 3\n",
       "\\begin{tabular}{lll}\n",
       " Peak & Group & Score\\\\\n",
       " <fct> & <chr> & <dbl>\\\\\n",
       "\\hline\n",
       "\t chrX\\_48996933\\_48997220   & CRISPR\\_pos & 0.00000000\\\\\n",
       "\t chr8\\_128298518\\_128298762 & CRISPR\\_pos & 0.29710614\\\\\n",
       "\t chr8\\_128242220\\_128242507 & CRISPR\\_pos & 0.01841620\\\\\n",
       "\t chr11\\_34024311\\_34024546  & CRISPR\\_pos & 0.00000000\\\\\n",
       "\t chr8\\_128189792\\_128190210 & CRISPR\\_pos & 0.09226309\\\\\n",
       "\t chr20\\_56703281\\_56703575  & CRISPR\\_pos & 0.00000000\\\\\n",
       "\\end{tabular}\n"
      ],
      "text/markdown": [
       "\n",
       "A tibble: 6 × 3\n",
       "\n",
       "| Peak &lt;fct&gt; | Group &lt;chr&gt; | Score &lt;dbl&gt; |\n",
       "|---|---|---|\n",
       "| chrX_48996933_48997220   | CRISPR_pos | 0.00000000 |\n",
       "| chr8_128298518_128298762 | CRISPR_pos | 0.29710614 |\n",
       "| chr8_128242220_128242507 | CRISPR_pos | 0.01841620 |\n",
       "| chr11_34024311_34024546  | CRISPR_pos | 0.00000000 |\n",
       "| chr8_128189792_128190210 | CRISPR_pos | 0.09226309 |\n",
       "| chr20_56703281_56703575  | CRISPR_pos | 0.00000000 |\n",
       "\n"
      ],
      "text/plain": [
       "  Peak                     Group      Score     \n",
       "1 chrX_48996933_48997220   CRISPR_pos 0.00000000\n",
       "2 chr8_128298518_128298762 CRISPR_pos 0.29710614\n",
       "3 chr8_128242220_128242507 CRISPR_pos 0.01841620\n",
       "4 chr11_34024311_34024546  CRISPR_pos 0.00000000\n",
       "5 chr8_128189792_128190210 CRISPR_pos 0.09226309\n",
       "6 chr20_56703281_56703575  CRISPR_pos 0.00000000"
      ]
     },
     "metadata": {},
     "output_type": "display_data"
    }
   ],
   "source": [
    "dat = dat_peak_score_starrmpra_crispr\n",
    "dat = dat %>% \n",
    "    dplyr::select(Peak, CRISPR_pos, CRISPR_neg) %>%\n",
    "    tidyr::gather(Group, Score, -Peak) %>%\n",
    "    dplyr::mutate(Peak  = factor(Peak,  levels=peaks))\n",
    "\n",
    "dat_score_crispr = dat\n",
    "print(dim(dat))\n",
    "head(dat)"
   ]
  },
  {
   "cell_type": "code",
   "execution_count": null,
   "metadata": {},
   "outputs": [],
   "source": []
  }
 ],
 "metadata": {
  "kernelspec": {
   "display_name": "R",
   "language": "R",
   "name": "ir"
  },
  "language_info": {
   "codemirror_mode": "r",
   "file_extension": ".r",
   "mimetype": "text/x-r-source",
   "name": "R",
   "pygments_lexer": "r",
   "version": "4.3.0"
  }
 },
 "nbformat": 4,
 "nbformat_minor": 4
}
