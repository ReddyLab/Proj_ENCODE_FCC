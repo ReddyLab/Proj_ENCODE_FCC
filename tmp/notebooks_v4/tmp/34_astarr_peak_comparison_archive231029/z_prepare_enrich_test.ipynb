{
 "cells": [
  {
   "cell_type": "code",
   "execution_count": 1,
   "metadata": {},
   "outputs": [
    {
     "name": "stdout",
     "output_type": "stream",
     "text": [
      "You are in Singularity: singularity_proj_encode_fcc \n",
      "BASE DIRECTORY (FD_BASE): /data/reddylab/Kuei \n",
      "WORK DIRECTORY (FD_WORK): /data/reddylab/Kuei/out \n",
      "CODE DIRECTORY (FD_CODE): /data/reddylab/Kuei/code \n",
      "PATH OF PROJECT (FD_PRJ): /data/reddylab/Kuei/code/Proj_CombEffect_ENCODE_FCC \n",
      "PATH OF RESULTS (FD_RES): /data/reddylab/Kuei/out/proj_combeffect_encode_fcc \n",
      "PATH OF LOG     (FD_LOG): /data/reddylab/Kuei/out/proj_combeffect_encode_fcc/log \n"
     ]
    }
   ],
   "source": [
    "suppressMessages(suppressWarnings(source(\"../config/config_sing.R\")))\n",
    "library(fgsea)\n",
    "show_env()"
   ]
  },
  {
   "cell_type": "code",
   "execution_count": 2,
   "metadata": {},
   "outputs": [
    {
     "name": "stdout",
     "output_type": "stream",
     "text": [
      "[1] 495260      9\n",
      "\n",
      "ASTARR  TMPRA WSTARR \n",
      "246850   1722 246688 \n"
     ]
    },
    {
     "data": {
      "text/html": [
       "<table class=\"dataframe\">\n",
       "<caption>A tibble: 6 × 9</caption>\n",
       "<thead>\n",
       "\t<tr><th scope=col>Assay</th><th scope=col>Peak</th><th scope=col>baseMean</th><th scope=col>log2FoldChange</th><th scope=col>lfcSE</th><th scope=col>stat</th><th scope=col>pvalue</th><th scope=col>padj</th><th scope=col>Dataset</th></tr>\n",
       "\t<tr><th scope=col>&lt;chr&gt;</th><th scope=col>&lt;chr&gt;</th><th scope=col>&lt;dbl&gt;</th><th scope=col>&lt;dbl&gt;</th><th scope=col>&lt;dbl&gt;</th><th scope=col>&lt;dbl&gt;</th><th scope=col>&lt;dbl&gt;</th><th scope=col>&lt;dbl&gt;</th><th scope=col>&lt;chr&gt;</th></tr>\n",
       "</thead>\n",
       "<tbody>\n",
       "\t<tr><td>ASTARR</td><td>chr1_100006256_100006880</td><td> 74.39238</td><td>-0.01311792</td><td>0.15512423</td><td>-0.08456397</td><td>9.326080e-01</td><td>0.9510236543</td><td>NA</td></tr>\n",
       "\t<tr><td>ASTARR</td><td>chr1_100010437_100010915</td><td> 48.25931</td><td>-0.80687947</td><td>0.22174651</td><td>-3.63874709</td><td>2.739677e-04</td><td>0.0008947519</td><td>NA</td></tr>\n",
       "\t<tr><td>ASTARR</td><td>chr1_10002087_10003910  </td><td>224.35927</td><td>-0.34892859</td><td>0.09743886</td><td>-3.58100041</td><td>3.422811e-04</td><td>0.0010926173</td><td>NA</td></tr>\n",
       "\t<tr><td>ASTARR</td><td>chr1_100021298_100021629</td><td> 38.13434</td><td>-1.03799571</td><td>0.25401013</td><td>-4.08643436</td><td>4.380534e-05</td><td>0.0001707736</td><td>NA</td></tr>\n",
       "\t<tr><td>ASTARR</td><td>chr1_100023727_100023976</td><td> 32.62049</td><td>-0.19100207</td><td>0.25625467</td><td>-0.74536036</td><td>4.560539e-01</td><td>0.5497617125</td><td>NA</td></tr>\n",
       "\t<tr><td>ASTARR</td><td>chr1_100027983_100029702</td><td>290.98442</td><td>-0.18001582</td><td>0.09610434</td><td>-1.87312902</td><td>6.105057e-02</td><td>0.1032752224</td><td>NA</td></tr>\n",
       "</tbody>\n",
       "</table>\n"
      ],
      "text/latex": [
       "A tibble: 6 × 9\n",
       "\\begin{tabular}{lllllllll}\n",
       " Assay & Peak & baseMean & log2FoldChange & lfcSE & stat & pvalue & padj & Dataset\\\\\n",
       " <chr> & <chr> & <dbl> & <dbl> & <dbl> & <dbl> & <dbl> & <dbl> & <chr>\\\\\n",
       "\\hline\n",
       "\t ASTARR & chr1\\_100006256\\_100006880 &  74.39238 & -0.01311792 & 0.15512423 & -0.08456397 & 9.326080e-01 & 0.9510236543 & NA\\\\\n",
       "\t ASTARR & chr1\\_100010437\\_100010915 &  48.25931 & -0.80687947 & 0.22174651 & -3.63874709 & 2.739677e-04 & 0.0008947519 & NA\\\\\n",
       "\t ASTARR & chr1\\_10002087\\_10003910   & 224.35927 & -0.34892859 & 0.09743886 & -3.58100041 & 3.422811e-04 & 0.0010926173 & NA\\\\\n",
       "\t ASTARR & chr1\\_100021298\\_100021629 &  38.13434 & -1.03799571 & 0.25401013 & -4.08643436 & 4.380534e-05 & 0.0001707736 & NA\\\\\n",
       "\t ASTARR & chr1\\_100023727\\_100023976 &  32.62049 & -0.19100207 & 0.25625467 & -0.74536036 & 4.560539e-01 & 0.5497617125 & NA\\\\\n",
       "\t ASTARR & chr1\\_100027983\\_100029702 & 290.98442 & -0.18001582 & 0.09610434 & -1.87312902 & 6.105057e-02 & 0.1032752224 & NA\\\\\n",
       "\\end{tabular}\n"
      ],
      "text/markdown": [
       "\n",
       "A tibble: 6 × 9\n",
       "\n",
       "| Assay &lt;chr&gt; | Peak &lt;chr&gt; | baseMean &lt;dbl&gt; | log2FoldChange &lt;dbl&gt; | lfcSE &lt;dbl&gt; | stat &lt;dbl&gt; | pvalue &lt;dbl&gt; | padj &lt;dbl&gt; | Dataset &lt;chr&gt; |\n",
       "|---|---|---|---|---|---|---|---|---|\n",
       "| ASTARR | chr1_100006256_100006880 |  74.39238 | -0.01311792 | 0.15512423 | -0.08456397 | 9.326080e-01 | 0.9510236543 | NA |\n",
       "| ASTARR | chr1_100010437_100010915 |  48.25931 | -0.80687947 | 0.22174651 | -3.63874709 | 2.739677e-04 | 0.0008947519 | NA |\n",
       "| ASTARR | chr1_10002087_10003910   | 224.35927 | -0.34892859 | 0.09743886 | -3.58100041 | 3.422811e-04 | 0.0010926173 | NA |\n",
       "| ASTARR | chr1_100021298_100021629 |  38.13434 | -1.03799571 | 0.25401013 | -4.08643436 | 4.380534e-05 | 0.0001707736 | NA |\n",
       "| ASTARR | chr1_100023727_100023976 |  32.62049 | -0.19100207 | 0.25625467 | -0.74536036 | 4.560539e-01 | 0.5497617125 | NA |\n",
       "| ASTARR | chr1_100027983_100029702 | 290.98442 | -0.18001582 | 0.09610434 | -1.87312902 | 6.105057e-02 | 0.1032752224 | NA |\n",
       "\n"
      ],
      "text/plain": [
       "  Assay  Peak                     baseMean  log2FoldChange lfcSE     \n",
       "1 ASTARR chr1_100006256_100006880  74.39238 -0.01311792    0.15512423\n",
       "2 ASTARR chr1_100010437_100010915  48.25931 -0.80687947    0.22174651\n",
       "3 ASTARR chr1_10002087_10003910   224.35927 -0.34892859    0.09743886\n",
       "4 ASTARR chr1_100021298_100021629  38.13434 -1.03799571    0.25401013\n",
       "5 ASTARR chr1_100023727_100023976  32.62049 -0.19100207    0.25625467\n",
       "6 ASTARR chr1_100027983_100029702 290.98442 -0.18001582    0.09610434\n",
       "  stat        pvalue       padj         Dataset\n",
       "1 -0.08456397 9.326080e-01 0.9510236543 NA     \n",
       "2 -3.63874709 2.739677e-04 0.0008947519 NA     \n",
       "3 -3.58100041 3.422811e-04 0.0010926173 NA     \n",
       "4 -4.08643436 4.380534e-05 0.0001707736 NA     \n",
       "5 -0.74536036 4.560539e-01 0.5497617125 NA     \n",
       "6 -1.87312902 6.105057e-02 0.1032752224 NA     "
      ]
     },
     "metadata": {},
     "output_type": "display_data"
    }
   ],
   "source": [
    "### init\n",
    "ASSAYS = c(\"KS91_K562_ASTARRseq\", \"A001_K562_WSTARRseq\", \"Tewhey_K562_TileMPRA\")\n",
    "LABELS = c(\"ASTARR\", \"WSTARR\", \"TMPRA\")\n",
    "FOLDER = \"coverage_astarrseq_peak_macs_input\"\n",
    "\n",
    "fnames = c(\n",
    "    \"result.Log2FC.raw.deseq.WGS.tsv\",\n",
    "    \"result.Log2FC.raw.deseq.WGS.tsv\",\n",
    "    \"result.Log2FC.raw.deseq.Merge.tsv\"\n",
    ")\n",
    "names(fnames) = ASSAYS\n",
    "\n",
    "### loop and import data\n",
    "lst = lapply(ASSAYS, function(ASSAY){\n",
    "    \n",
    "    ### set file directories\n",
    "    fdiry = file.path(FD_RES, \"results\", ASSAY, FOLDER, \"summary\")\n",
    "    fname = fnames[ASSAY]\n",
    "    fpath = file.path(fdiry, fname)\n",
    "\n",
    "    ### read data\n",
    "    dat = read_tsv(fpath, show_col_types = FALSE)\n",
    "    return(dat)\n",
    "})\n",
    "\n",
    "names(lst) = LABELS\n",
    "dat = bind_rows(lst, .id = \"Assay\")\n",
    "\n",
    "### assign and show\n",
    "dat_peak_deseq_starrmpra = dat\n",
    "print(dim(dat))\n",
    "print(table(dat$Assay))\n",
    "head(dat)"
   ]
  },
  {
   "cell_type": "code",
   "execution_count": 4,
   "metadata": {},
   "outputs": [
    {
     "name": "stdout",
     "output_type": "stream",
     "text": [
      "ASTARR 246850 \n",
      "chr1_100006256_100006880 chr1_100010437_100010915   chr1_10002087_10003910 \n",
      "             -0.01311792              -0.80687947              -0.34892859 \n",
      "chr1_100021298_100021629 chr1_100023727_100023976 chr1_100027983_100029702 \n",
      "             -1.03799571              -0.19100207              -0.18001582 \n",
      "\n",
      "TMPRA 1722 \n",
      "chr11_61792068_61793464 chr11_61800085_61801113 chr11_61806630_61807154 \n",
      "              1.6665654               1.8554038              -1.3562271 \n",
      "chr11_61814735_61817343 chr11_61822094_61822443 chr11_61825795_61826306 \n",
      "              2.5310145              -1.7731459              -0.3921375 \n",
      "\n",
      "WSTARR 246688 \n",
      "chr1_100006256_100006880 chr1_100010437_100010915   chr1_10002087_10003910 \n",
      "             -0.48849764              -0.30895395              -0.38624192 \n",
      "chr1_100021298_100021629 chr1_100023727_100023976 chr1_100027983_100029702 \n",
      "             -0.59404974               0.04988694              -0.22927538 \n",
      "\n"
     ]
    }
   ],
   "source": [
    "dat = dat = dat_peak_deseq_starrmpra\n",
    "vec = dat %>%\n",
    "    dplyr::select(Peak, log2FoldChange) %>%\n",
    "    tibble::deframe()\n",
    "lst = split(vec, dat$Assay)\n",
    "\n",
    "lst_score = lst\n",
    "\n",
    "for (idx in names(lst)){\n",
    "    vec = lst[[idx]]    \n",
    "    cat(idx, length(vec), \"\\n\")\n",
    "    print(head(vec))\n",
    "    cat(\"\\n\")\n",
    "}"
   ]
  },
  {
   "cell_type": "code",
   "execution_count": 5,
   "metadata": {},
   "outputs": [
    {
     "name": "stdout",
     "output_type": "stream",
     "text": [
      "[1] 270491      4\n"
     ]
    },
    {
     "data": {
      "text/html": [
       "<table class=\"dataframe\">\n",
       "<caption>A tibble: 6 × 4</caption>\n",
       "<thead>\n",
       "\t<tr><th scope=col>Peak</th><th scope=col>Annotation</th><th scope=col>Label</th><th scope=col>Count</th></tr>\n",
       "\t<tr><th scope=col>&lt;chr&gt;</th><th scope=col>&lt;chr&gt;</th><th scope=col>&lt;chr&gt;</th><th scope=col>&lt;dbl&gt;</th></tr>\n",
       "</thead>\n",
       "<tbody>\n",
       "\t<tr><td>chr10_100009096_100010466</td><td>ChIPseq_TF</td><td>YY1</td><td>1</td></tr>\n",
       "\t<tr><td>chr10_100185017_100187275</td><td>ChIPseq_TF</td><td>YY1</td><td>1</td></tr>\n",
       "\t<tr><td>chr10_100228452_100230090</td><td>ChIPseq_TF</td><td>YY1</td><td>1</td></tr>\n",
       "\t<tr><td>chr10_100267066_100268374</td><td>ChIPseq_TF</td><td>YY1</td><td>1</td></tr>\n",
       "\t<tr><td>chr10_100285974_100287341</td><td>ChIPseq_TF</td><td>YY1</td><td>2</td></tr>\n",
       "\t<tr><td>chr10_100346328_100347693</td><td>ChIPseq_TF</td><td>YY1</td><td>1</td></tr>\n",
       "</tbody>\n",
       "</table>\n"
      ],
      "text/latex": [
       "A tibble: 6 × 4\n",
       "\\begin{tabular}{llll}\n",
       " Peak & Annotation & Label & Count\\\\\n",
       " <chr> & <chr> & <chr> & <dbl>\\\\\n",
       "\\hline\n",
       "\t chr10\\_100009096\\_100010466 & ChIPseq\\_TF & YY1 & 1\\\\\n",
       "\t chr10\\_100185017\\_100187275 & ChIPseq\\_TF & YY1 & 1\\\\\n",
       "\t chr10\\_100228452\\_100230090 & ChIPseq\\_TF & YY1 & 1\\\\\n",
       "\t chr10\\_100267066\\_100268374 & ChIPseq\\_TF & YY1 & 1\\\\\n",
       "\t chr10\\_100285974\\_100287341 & ChIPseq\\_TF & YY1 & 2\\\\\n",
       "\t chr10\\_100346328\\_100347693 & ChIPseq\\_TF & YY1 & 1\\\\\n",
       "\\end{tabular}\n"
      ],
      "text/markdown": [
       "\n",
       "A tibble: 6 × 4\n",
       "\n",
       "| Peak &lt;chr&gt; | Annotation &lt;chr&gt; | Label &lt;chr&gt; | Count &lt;dbl&gt; |\n",
       "|---|---|---|---|\n",
       "| chr10_100009096_100010466 | ChIPseq_TF | YY1 | 1 |\n",
       "| chr10_100185017_100187275 | ChIPseq_TF | YY1 | 1 |\n",
       "| chr10_100228452_100230090 | ChIPseq_TF | YY1 | 1 |\n",
       "| chr10_100267066_100268374 | ChIPseq_TF | YY1 | 1 |\n",
       "| chr10_100285974_100287341 | ChIPseq_TF | YY1 | 2 |\n",
       "| chr10_100346328_100347693 | ChIPseq_TF | YY1 | 1 |\n",
       "\n"
      ],
      "text/plain": [
       "  Peak                      Annotation Label Count\n",
       "1 chr10_100009096_100010466 ChIPseq_TF YY1   1    \n",
       "2 chr10_100185017_100187275 ChIPseq_TF YY1   1    \n",
       "3 chr10_100228452_100230090 ChIPseq_TF YY1   1    \n",
       "4 chr10_100267066_100268374 ChIPseq_TF YY1   1    \n",
       "5 chr10_100285974_100287341 ChIPseq_TF YY1   2    \n",
       "6 chr10_100346328_100347693 ChIPseq_TF YY1   1    "
      ]
     },
     "metadata": {},
     "output_type": "display_data"
    }
   ],
   "source": [
    "fdiry = file.path(FD_RES, \"results\", \"region\", \"KS91_K562_ASTARRseq_peak_macs_input\", \"summary\")\n",
    "fname = \"peak.summary.chipseq_tf_subset.tsv\"\n",
    "fpath = file.path(fdiry, fname)\n",
    "\n",
    "dat = read_tsv(fpath, show_col_types = FALSE)\n",
    "\n",
    "dat_peak_annot_chipseq_tf_subset = dat\n",
    "print(dim(dat))\n",
    "head(dat)"
   ]
  },
  {
   "cell_type": "code",
   "execution_count": 6,
   "metadata": {},
   "outputs": [
    {
     "name": "stdout",
     "output_type": "stream",
     "text": [
      "[1] 16\n",
      " [1] \"ATF1\"   \"CTCF\"   \"ELK1\"   \"EP300\"  \"GATA1\"  \"JUN\"    \"KLF10\"  \"KLF16\" \n",
      " [9] \"NFE2\"   \"NRF1\"   \"POLR2A\" \"REST\"   \"SP1\"    \"TAL1\"   \"YY1\"    \"ZEB2\"  \n",
      "\n",
      "\n",
      "ATF1 24776 \n",
      "[1] \"chr10_100009096_100010466\" \"chr10_100185017_100187275\"\n",
      "[3] \"chr10_100228452_100230090\" \"chr10_100267066_100268374\"\n",
      "[5] \"chr10_100285974_100287341\" \"chr10_100346328_100347693\"\n",
      "\n",
      "\n",
      "CTCF 37780 \n",
      "[1] \"chr10_100009096_100010466\" \"chr10_100045961_100046653\"\n",
      "[3] \"chr10_100228452_100230090\" \"chr10_100240591_100241246\"\n",
      "[5] \"chr10_100285974_100287341\" \"chr10_100338359_100339077\"\n",
      "\n",
      "\n",
      "ELK1 3149 \n",
      "[1] \"chr10_100228452_100230090\" \"chr10_100535377_100536237\"\n",
      "[3] \"chr10_100986723_100987807\" \"chr10_101782256_101784101\"\n",
      "[5] \"chr10_102132343_102134065\" \"chr10_103395147_103397089\"\n",
      "\n",
      "\n",
      "EP300 22333 \n",
      "[1] \"chr10_100185017_100187275\" \"chr10_100358645_100359733\"\n",
      "[3] \"chr10_100370571_100371646\" \"chr10_100373060_100374238\"\n",
      "[5] \"chr10_100535377_100536237\" \"chr10_100630761_100631892\"\n",
      "\n",
      "\n",
      "GATA1 11815 \n",
      "[1] \"chr10_100289686_100290090\" \"chr10_100358645_100359733\"\n",
      "[3] \"chr10_100373060_100374238\" \"chr10_100636566_100638239\"\n",
      "[5] \"chr10_1008874_1009782\"     \"chr10_101011384_101013302\"\n",
      "\n",
      "\n",
      "JUN 16287 \n",
      "[1] \"chr10_100185017_100187275\" \"chr10_100373060_100374238\"\n",
      "[3] \"chr10_100890198_100891165\" \"chr10_100912166_100913618\"\n",
      "[5] \"chr10_101066038_101068076\" \"chr10_101367163_101368342\"\n",
      "\n",
      "\n",
      "KLF10 650 \n",
      "[1] \"chr10_110918359_110920661\" \"chr10_14184978_14186500\"  \n",
      "[3] \"chr10_16890882_16892534\"   \"chr10_22230304_22230897\"  \n",
      "[5] \"chr10_23054800_23056121\"   \"chr10_3890655_3891610\"    \n",
      "\n",
      "\n",
      "KLF16 15344 \n",
      "[1] \"chr10_100185017_100187275\" \"chr10_100267066_100268374\"\n",
      "[3] \"chr10_100358645_100359733\" \"chr10_100373060_100374238\"\n",
      "[5] \"chr10_100636566_100638239\" \"chr10_1008874_1009782\"    \n",
      "\n",
      "\n",
      "NFE2 14986 \n",
      "[1] \"chr10_100285974_100287341\" \"chr10_100871690_100872646\"\n",
      "[3] \"chr10_101141782_101142769\" \"chr10_101575389_101576900\"\n",
      "[5] \"chr10_102057753_102058495\" \"chr10_102132343_102134065\"\n",
      "\n",
      "\n",
      "NRF1 22194 \n",
      "[1] \"chr10_100185017_100187275\" \"chr10_100228452_100230090\"\n",
      "[3] \"chr10_100267066_100268374\" \"chr10_100285974_100287341\"\n",
      "[5] \"chr10_100346328_100347693\" \"chr10_100364513_100365906\"\n",
      "\n",
      "\n",
      "POLR2A 17945 \n",
      "[1] \"chr10_100185017_100187275\" \"chr10_100228452_100230090\"\n",
      "[3] \"chr10_100267066_100268374\" \"chr10_100285974_100287341\"\n",
      "[5] \"chr10_100346328_100347693\" \"chr10_100358645_100359733\"\n",
      "\n",
      "\n",
      "REST 14306 \n",
      "[1] \"chr10_100148233_100149794\" \"chr10_100267066_100268374\"\n",
      "[3] \"chr10_100325166_100325596\" \"chr10_100370571_100371646\"\n",
      "[5] \"chr10_100636566_100638239\" \"chr10_100680694_100681343\"\n",
      "\n",
      "\n",
      "SP1 9048 \n",
      "[1] \"chr10_100185017_100187275\" \"chr10_100228452_100230090\"\n",
      "[3] \"chr10_100481467_100483191\" \"chr10_100535377_100536237\"\n",
      "[5] \"chr10_100912166_100913618\" \"chr10_100996476_100998710\"\n",
      "\n",
      "\n",
      "TAL1 22430 \n",
      "[1] \"chr10_100129051_100131059\" \"chr10_100358645_100359733\"\n",
      "[3] \"chr10_100370571_100371646\" \"chr10_100373060_100374238\"\n",
      "[5] \"chr10_100561032_100563457\" \"chr10_100630761_100631892\"\n",
      "\n",
      "\n",
      "YY1 20494 \n",
      "[1] \"chr10_100009096_100010466\" \"chr10_100185017_100187275\"\n",
      "[3] \"chr10_100228452_100230090\" \"chr10_100267066_100268374\"\n",
      "[5] \"chr10_100285974_100287341\" \"chr10_100346328_100347693\"\n",
      "\n",
      "\n",
      "ZEB2 16954 \n",
      "[1] \"chr10_100185017_100187275\" \"chr10_100358645_100359733\"\n",
      "[3] \"chr10_100636566_100638239\" \"chr10_101060309_101063187\"\n",
      "[5] \"chr10_101066038_101068076\" \"chr10_101353538_101354690\"\n",
      "\n",
      "\n"
     ]
    }
   ],
   "source": [
    "dat = dat_peak_annot_chipseq_tf_subset\n",
    "lst = split(dat$Peak, dat$Label)\n",
    "lst_annot = lst\n",
    "\n",
    "print(length(lst))\n",
    "print(names(lst))\n",
    "cat(\"\\n\\n\")\n",
    "\n",
    "for (idx in names(lst_annot)){\n",
    "    x = lst_annot[[idx]]\n",
    "    cat(idx, length(x), \"\\n\")\n",
    "    print(head(x))\n",
    "    cat(\"\\n\\n\")\n",
    "}"
   ]
  },
  {
   "cell_type": "code",
   "execution_count": null,
   "metadata": {},
   "outputs": [],
   "source": []
  },
  {
   "cell_type": "code",
   "execution_count": null,
   "metadata": {},
   "outputs": [],
   "source": []
  },
  {
   "cell_type": "code",
   "execution_count": null,
   "metadata": {},
   "outputs": [],
   "source": []
  },
  {
   "cell_type": "code",
   "execution_count": 8,
   "metadata": {},
   "outputs": [
    {
     "name": "stdout",
     "output_type": "stream",
     "text": [
      "[1] 1722\n"
     ]
    },
    {
     "data": {
      "text/html": [
       "<style>\n",
       ".dl-inline {width: auto; margin:0; padding: 0}\n",
       ".dl-inline>dt, .dl-inline>dd {float: none; width: auto; display: inline-block}\n",
       ".dl-inline>dt::after {content: \":\\0020\"; padding-right: .5ex}\n",
       ".dl-inline>dt:not(:first-of-type) {padding-left: .5ex}\n",
       "</style><dl class=dl-inline><dt>chr11_61792068_61793464</dt><dd>1.66656537445798</dd><dt>chr11_61800085_61801113</dt><dd>1.85540384710792</dd><dt>chr11_61806630_61807154</dt><dd>-1.35622712612471</dd><dt>chr11_61814735_61817343</dt><dd>2.53101446929766</dd><dt>chr11_61822094_61822443</dt><dd>-1.77314590429897</dd><dt>chr11_61825795_61826306</dt><dd>-0.392137545509691</dd></dl>\n"
      ],
      "text/latex": [
       "\\begin{description*}\n",
       "\\item[chr11\\textbackslash{}\\_61792068\\textbackslash{}\\_61793464] 1.66656537445798\n",
       "\\item[chr11\\textbackslash{}\\_61800085\\textbackslash{}\\_61801113] 1.85540384710792\n",
       "\\item[chr11\\textbackslash{}\\_61806630\\textbackslash{}\\_61807154] -1.35622712612471\n",
       "\\item[chr11\\textbackslash{}\\_61814735\\textbackslash{}\\_61817343] 2.53101446929766\n",
       "\\item[chr11\\textbackslash{}\\_61822094\\textbackslash{}\\_61822443] -1.77314590429897\n",
       "\\item[chr11\\textbackslash{}\\_61825795\\textbackslash{}\\_61826306] -0.392137545509691\n",
       "\\end{description*}\n"
      ],
      "text/markdown": [
       "chr11_61792068_61793464\n",
       ":   1.66656537445798chr11_61800085_61801113\n",
       ":   1.85540384710792chr11_61806630_61807154\n",
       ":   -1.35622712612471chr11_61814735_61817343\n",
       ":   2.53101446929766chr11_61822094_61822443\n",
       ":   -1.77314590429897chr11_61825795_61826306\n",
       ":   -0.392137545509691\n",
       "\n"
      ],
      "text/plain": [
       "chr11_61792068_61793464 chr11_61800085_61801113 chr11_61806630_61807154 \n",
       "              1.6665654               1.8554038              -1.3562271 \n",
       "chr11_61814735_61817343 chr11_61822094_61822443 chr11_61825795_61826306 \n",
       "              2.5310145              -1.7731459              -0.3921375 "
      ]
     },
     "metadata": {},
     "output_type": "display_data"
    }
   ],
   "source": [
    "vec_score = lst_score[[\"TMPRA\"]]\n",
    "print(length(vec_score))\n",
    "head(vec_score)"
   ]
  },
  {
   "cell_type": "code",
   "execution_count": 9,
   "metadata": {},
   "outputs": [
    {
     "data": {
      "text/plain": [
       "   user  system elapsed \n",
       " 12.641   1.504   3.926 "
      ]
     },
     "metadata": {},
     "output_type": "display_data"
    }
   ],
   "source": [
    "set.seed(123)\n",
    "system.time(res_wstarr <- fgsea(\n",
    "    pathways  = lst_annot, \n",
    "    stats     = vec_score\n",
    "))"
   ]
  },
  {
   "cell_type": "code",
   "execution_count": null,
   "metadata": {},
   "outputs": [],
   "source": []
  },
  {
   "cell_type": "code",
   "execution_count": null,
   "metadata": {},
   "outputs": [],
   "source": []
  },
  {
   "cell_type": "code",
   "execution_count": null,
   "metadata": {},
   "outputs": [],
   "source": []
  },
  {
   "cell_type": "code",
   "execution_count": 10,
   "metadata": {},
   "outputs": [
    {
     "name": "stdout",
     "output_type": "stream",
     "text": [
      "[1] 10000\n"
     ]
    },
    {
     "data": {
      "text/html": [
       "<style>\n",
       ".dl-inline {width: auto; margin:0; padding: 0}\n",
       ".dl-inline>dt, .dl-inline>dd {float: none; width: auto; display: inline-block}\n",
       ".dl-inline>dt::after {content: \":\\0020\"; padding-right: .5ex}\n",
       ".dl-inline>dt:not(:first-of-type) {padding-left: .5ex}\n",
       "</style><dl class=dl-inline><dt>chr5_58046256_58046825</dt><dd>0.120278288465188</dd><dt>chr6_135535670_135536393</dt><dd>-0.27050547067587</dd><dt>chr20_33698520_33699384</dt><dd>0.225766542583518</dd><dt>chr2_231031535_231032342</dt><dd>-0.607471074201875</dd><dt>chr3_58236957_58238651</dt><dd>0.2355063088418</dd><dt>chr8_129391299_129391560</dt><dd>-0.241183037237143</dd></dl>\n"
      ],
      "text/latex": [
       "\\begin{description*}\n",
       "\\item[chr5\\textbackslash{}\\_58046256\\textbackslash{}\\_58046825] 0.120278288465188\n",
       "\\item[chr6\\textbackslash{}\\_135535670\\textbackslash{}\\_135536393] -0.27050547067587\n",
       "\\item[chr20\\textbackslash{}\\_33698520\\textbackslash{}\\_33699384] 0.225766542583518\n",
       "\\item[chr2\\textbackslash{}\\_231031535\\textbackslash{}\\_231032342] -0.607471074201875\n",
       "\\item[chr3\\textbackslash{}\\_58236957\\textbackslash{}\\_58238651] 0.2355063088418\n",
       "\\item[chr8\\textbackslash{}\\_129391299\\textbackslash{}\\_129391560] -0.241183037237143\n",
       "\\end{description*}\n"
      ],
      "text/markdown": [
       "chr5_58046256_58046825\n",
       ":   0.120278288465188chr6_135535670_135536393\n",
       ":   -0.27050547067587chr20_33698520_33699384\n",
       ":   0.225766542583518chr2_231031535_231032342\n",
       ":   -0.607471074201875chr3_58236957_58238651\n",
       ":   0.2355063088418chr8_129391299_129391560\n",
       ":   -0.241183037237143\n",
       "\n"
      ],
      "text/plain": [
       "  chr5_58046256_58046825 chr6_135535670_135536393  chr20_33698520_33699384 \n",
       "               0.1202783               -0.2705055                0.2257665 \n",
       "chr2_231031535_231032342   chr3_58236957_58238651 chr8_129391299_129391560 \n",
       "              -0.6074711                0.2355063               -0.2411830 "
      ]
     },
     "metadata": {},
     "output_type": "display_data"
    }
   ],
   "source": [
    "set.seed(123)\n",
    "vec_score = lst_score[[\"WSTARR\"]]\n",
    "vec_score = sample(vec_score, 10000)\n",
    "\n",
    "print(length(vec_score))\n",
    "head(vec_score)"
   ]
  },
  {
   "cell_type": "code",
   "execution_count": 12,
   "metadata": {},
   "outputs": [
    {
     "name": "stderr",
     "output_type": "stream",
     "text": [
      "Warning message in fgseaMultilevel(pathways = pathways, stats = stats, minSize = minSize, :\n",
      "“For some pathways, in reality P-values are less than 1e-50. You can set the `eps` argument to zero for better estimation.”\n"
     ]
    },
    {
     "data": {
      "text/plain": [
       "   user  system elapsed \n",
       " 83.444   2.149  20.022 "
      ]
     },
     "metadata": {},
     "output_type": "display_data"
    }
   ],
   "source": [
    "set.seed(123)\n",
    "system.time(res_wstarr <- fgsea(\n",
    "    pathways  = lst_annot, \n",
    "    stats     = vec_score\n",
    "))"
   ]
  },
  {
   "cell_type": "code",
   "execution_count": 13,
   "metadata": {},
   "outputs": [
    {
     "name": "stdout",
     "output_type": "stream",
     "text": [
      "  |======================================================================| 100%\n",
      "\n"
     ]
    },
    {
     "name": "stderr",
     "output_type": "stream",
     "text": [
      "Warning message in fgseaMultilevel(pathways = pathways, stats = stats, minSize = minSize, :\n",
      "“For some pathways, in reality P-values are less than 1e-50. You can set the `eps` argument to zero for better estimation.”\n"
     ]
    },
    {
     "data": {
      "text/plain": [
       "   user  system elapsed \n",
       " 95.300   2.307  16.943 "
      ]
     },
     "metadata": {},
     "output_type": "display_data"
    }
   ],
   "source": [
    "set.seed(123)\n",
    "system.time(res_wstarr <- fgsea(\n",
    "    pathways  = lst_annot, \n",
    "    stats     = vec_score,\n",
    "    nproc     = 10\n",
    "))"
   ]
  },
  {
   "cell_type": "code",
   "execution_count": null,
   "metadata": {},
   "outputs": [],
   "source": []
  },
  {
   "cell_type": "code",
   "execution_count": null,
   "metadata": {},
   "outputs": [],
   "source": []
  },
  {
   "cell_type": "code",
   "execution_count": null,
   "metadata": {},
   "outputs": [],
   "source": []
  },
  {
   "cell_type": "code",
   "execution_count": 15,
   "metadata": {},
   "outputs": [
    {
     "name": "stdout",
     "output_type": "stream",
     "text": [
      "[1] 50000\n"
     ]
    },
    {
     "data": {
      "text/html": [
       "<style>\n",
       ".dl-inline {width: auto; margin:0; padding: 0}\n",
       ".dl-inline>dt, .dl-inline>dd {float: none; width: auto; display: inline-block}\n",
       ".dl-inline>dt::after {content: \":\\0020\"; padding-right: .5ex}\n",
       ".dl-inline>dt:not(:first-of-type) {padding-left: .5ex}\n",
       "</style><dl class=dl-inline><dt>chr5_58046256_58046825</dt><dd>0.120278288465188</dd><dt>chr6_135535670_135536393</dt><dd>-0.27050547067587</dd><dt>chr20_33698520_33699384</dt><dd>0.225766542583518</dd><dt>chr2_231031535_231032342</dt><dd>-0.607471074201875</dd><dt>chr3_58236957_58238651</dt><dd>0.2355063088418</dd><dt>chr8_129391299_129391560</dt><dd>-0.241183037237143</dd></dl>\n"
      ],
      "text/latex": [
       "\\begin{description*}\n",
       "\\item[chr5\\textbackslash{}\\_58046256\\textbackslash{}\\_58046825] 0.120278288465188\n",
       "\\item[chr6\\textbackslash{}\\_135535670\\textbackslash{}\\_135536393] -0.27050547067587\n",
       "\\item[chr20\\textbackslash{}\\_33698520\\textbackslash{}\\_33699384] 0.225766542583518\n",
       "\\item[chr2\\textbackslash{}\\_231031535\\textbackslash{}\\_231032342] -0.607471074201875\n",
       "\\item[chr3\\textbackslash{}\\_58236957\\textbackslash{}\\_58238651] 0.2355063088418\n",
       "\\item[chr8\\textbackslash{}\\_129391299\\textbackslash{}\\_129391560] -0.241183037237143\n",
       "\\end{description*}\n"
      ],
      "text/markdown": [
       "chr5_58046256_58046825\n",
       ":   0.120278288465188chr6_135535670_135536393\n",
       ":   -0.27050547067587chr20_33698520_33699384\n",
       ":   0.225766542583518chr2_231031535_231032342\n",
       ":   -0.607471074201875chr3_58236957_58238651\n",
       ":   0.2355063088418chr8_129391299_129391560\n",
       ":   -0.241183037237143\n",
       "\n"
      ],
      "text/plain": [
       "  chr5_58046256_58046825 chr6_135535670_135536393  chr20_33698520_33699384 \n",
       "               0.1202783               -0.2705055                0.2257665 \n",
       "chr2_231031535_231032342   chr3_58236957_58238651 chr8_129391299_129391560 \n",
       "              -0.6074711                0.2355063               -0.2411830 "
      ]
     },
     "metadata": {},
     "output_type": "display_data"
    }
   ],
   "source": [
    "set.seed(123)\n",
    "vec_score = lst_score[[\"WSTARR\"]]\n",
    "vec_score = sample(vec_score, 50000)\n",
    "\n",
    "print(length(vec_score))\n",
    "head(vec_score)"
   ]
  },
  {
   "cell_type": "code",
   "execution_count": 16,
   "metadata": {},
   "outputs": [
    {
     "name": "stderr",
     "output_type": "stream",
     "text": [
      "Warning message in preparePathwaysAndStats(pathways, stats, minSize, maxSize, gseaParam, :\n",
      "“There are ties in the preranked stats (0% of the list).\n",
      "The order of those tied genes will be arbitrary, which may produce unexpected results.”\n",
      "Warning message in fgseaMultilevel(pathways = pathways, stats = stats, minSize = minSize, :\n",
      "“For some pathways, in reality P-values are less than 1e-50. You can set the `eps` argument to zero for better estimation.”\n"
     ]
    },
    {
     "data": {
      "text/plain": [
       "   user  system elapsed \n",
       "701.161   3.533 127.980 "
      ]
     },
     "metadata": {},
     "output_type": "display_data"
    }
   ],
   "source": [
    "set.seed(123)\n",
    "system.time(res_wstarr <- fgsea(\n",
    "    pathways  = lst_annot, \n",
    "    stats     = vec_score\n",
    "))"
   ]
  },
  {
   "cell_type": "code",
   "execution_count": 17,
   "metadata": {},
   "outputs": [
    {
     "name": "stderr",
     "output_type": "stream",
     "text": [
      "Warning message in preparePathwaysAndStats(pathways, stats, minSize, maxSize, gseaParam, :\n",
      "“There are ties in the preranked stats (0% of the list).\n",
      "The order of those tied genes will be arbitrary, which may produce unexpected results.”\n"
     ]
    },
    {
     "name": "stdout",
     "output_type": "stream",
     "text": [
      "  |======================================================================| 100%\n",
      "\n"
     ]
    },
    {
     "name": "stderr",
     "output_type": "stream",
     "text": [
      "Warning message in fgseaMultilevel(pathways = pathways, stats = stats, minSize = minSize, :\n",
      "“For some pathways, in reality P-values are less than 1e-50. You can set the `eps` argument to zero for better estimation.”\n"
     ]
    },
    {
     "data": {
      "text/plain": [
       "   user  system elapsed \n",
       "495.120   2.535 266.264 "
      ]
     },
     "metadata": {},
     "output_type": "display_data"
    }
   ],
   "source": [
    "set.seed(123)\n",
    "system.time(res_wstarr <- fgsea(\n",
    "    pathways  = lst_annot, \n",
    "    stats     = vec_score,\n",
    "    nproc     = 2\n",
    "))"
   ]
  },
  {
   "cell_type": "code",
   "execution_count": 18,
   "metadata": {},
   "outputs": [
    {
     "name": "stderr",
     "output_type": "stream",
     "text": [
      "Warning message in preparePathwaysAndStats(pathways, stats, minSize, maxSize, gseaParam, :\n",
      "“There are ties in the preranked stats (0% of the list).\n",
      "The order of those tied genes will be arbitrary, which may produce unexpected results.”\n"
     ]
    },
    {
     "name": "stdout",
     "output_type": "stream",
     "text": [
      "  |======================================================================| 100%\n",
      "\n"
     ]
    },
    {
     "name": "stderr",
     "output_type": "stream",
     "text": [
      "Warning message in fgseaMultilevel(pathways = pathways, stats = stats, minSize = minSize, :\n",
      "“For some pathways, in reality P-values are less than 1e-50. You can set the `eps` argument to zero for better estimation.”\n"
     ]
    },
    {
     "data": {
      "text/plain": [
       "   user  system elapsed \n",
       "666.931   3.204 127.666 "
      ]
     },
     "metadata": {},
     "output_type": "display_data"
    }
   ],
   "source": [
    "set.seed(123)\n",
    "system.time(res_wstarr <- fgsea(\n",
    "    pathways  = lst_annot, \n",
    "    stats     = vec_score,\n",
    "    nproc     = 10\n",
    "))"
   ]
  },
  {
   "cell_type": "code",
   "execution_count": 19,
   "metadata": {},
   "outputs": [
    {
     "name": "stderr",
     "output_type": "stream",
     "text": [
      "Warning message in preparePathwaysAndStats(pathways, stats, minSize, maxSize, gseaParam, :\n",
      "“There are ties in the preranked stats (0% of the list).\n",
      "The order of those tied genes will be arbitrary, which may produce unexpected results.”\n"
     ]
    },
    {
     "name": "stdout",
     "output_type": "stream",
     "text": [
      "  |======================================================================| 100%\n",
      "\n"
     ]
    },
    {
     "name": "stderr",
     "output_type": "stream",
     "text": [
      "Warning message in fgseaMultilevel(pathways = pathways, stats = stats, minSize = minSize, :\n",
      "“For some pathways, in reality P-values are less than 1e-50. You can set the `eps` argument to zero for better estimation.”\n"
     ]
    },
    {
     "data": {
      "text/plain": [
       "   user  system elapsed \n",
       "700.593   3.518 129.621 "
      ]
     },
     "metadata": {},
     "output_type": "display_data"
    }
   ],
   "source": [
    "set.seed(123)\n",
    "system.time(res_wstarr <- fgsea(\n",
    "    pathways  = lst_annot, \n",
    "    stats     = vec_score,\n",
    "    nproc     = 20\n",
    "))"
   ]
  },
  {
   "cell_type": "code",
   "execution_count": null,
   "metadata": {},
   "outputs": [],
   "source": []
  }
 ],
 "metadata": {
  "kernelspec": {
   "display_name": "R",
   "language": "R",
   "name": "ir"
  },
  "language_info": {
   "codemirror_mode": "r",
   "file_extension": ".r",
   "mimetype": "text/x-r-source",
   "name": "R",
   "pygments_lexer": "r",
   "version": "4.3.0"
  }
 },
 "nbformat": 4,
 "nbformat_minor": 4
}
