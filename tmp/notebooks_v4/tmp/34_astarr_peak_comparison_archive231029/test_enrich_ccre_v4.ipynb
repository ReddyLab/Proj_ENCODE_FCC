{
 "cells": [
  {
   "cell_type": "code",
   "execution_count": 1,
   "metadata": {},
   "outputs": [
    {
     "name": "stdout",
     "output_type": "stream",
     "text": [
      "You are in Singularity: singularity_proj_encode_fcc \n",
      "BASE DIRECTORY (FD_BASE): /data/reddylab/Kuei \n",
      "WORK DIRECTORY (FD_WORK): /data/reddylab/Kuei/out \n",
      "CODE DIRECTORY (FD_CODE): /data/reddylab/Kuei/code \n",
      "PATH OF PROJECT (FD_PRJ): /data/reddylab/Kuei/code/Proj_CombEffect_ENCODE_FCC \n",
      "PATH OF RESULTS (FD_RES): /data/reddylab/Kuei/out/proj_combeffect_encode_fcc \n",
      "PATH OF LOG     (FD_LOG): /data/reddylab/Kuei/out/proj_combeffect_encode_fcc/log \n"
     ]
    }
   ],
   "source": [
    "suppressMessages(suppressWarnings(source(\"../config/config_sing.R\")))\n",
    "library(fgsea)\n",
    "show_env()"
   ]
  },
  {
   "cell_type": "code",
   "execution_count": 2,
   "metadata": {},
   "outputs": [
    {
     "name": "stderr",
     "output_type": "stream",
     "text": [
      "\u001b[1mRows: \u001b[22m\u001b[34m5166\u001b[39m \u001b[1mColumns: \u001b[22m\u001b[34m10\u001b[39m\n",
      "\u001b[36m──\u001b[39m \u001b[1mColumn specification\u001b[22m \u001b[36m────────────────────────────────────────────────────────────────────────\u001b[39m\n",
      "\u001b[1mDelimiter:\u001b[22m \"\\t\"\n",
      "\u001b[31mchr\u001b[39m (6): Chrom, Peak, TMPRA_Gene, TMPRA_Dataset, CRISPR_HCFF, Assay\n",
      "\u001b[32mdbl\u001b[39m (4): Start, End, Log2FC, RankNorm_Total\n",
      "\n",
      "\u001b[36mℹ\u001b[39m Use `spec()` to retrieve the full column specification for this data.\n",
      "\u001b[36mℹ\u001b[39m Specify the column types or set `show_col_types = FALSE` to quiet this message.\n"
     ]
    },
    {
     "name": "stdout",
     "output_type": "stream",
     "text": [
      "[1] 5166   10\n"
     ]
    },
    {
     "data": {
      "text/html": [
       "<table class=\"dataframe\">\n",
       "<caption>A tibble: 6 × 10</caption>\n",
       "<thead>\n",
       "\t<tr><th scope=col>Chrom</th><th scope=col>Start</th><th scope=col>End</th><th scope=col>Peak</th><th scope=col>TMPRA_Gene</th><th scope=col>TMPRA_Dataset</th><th scope=col>CRISPR_HCFF</th><th scope=col>Assay</th><th scope=col>Log2FC</th><th scope=col>RankNorm_Total</th></tr>\n",
       "\t<tr><th scope=col>&lt;chr&gt;</th><th scope=col>&lt;dbl&gt;</th><th scope=col>&lt;dbl&gt;</th><th scope=col>&lt;chr&gt;</th><th scope=col>&lt;chr&gt;</th><th scope=col>&lt;chr&gt;</th><th scope=col>&lt;chr&gt;</th><th scope=col>&lt;chr&gt;</th><th scope=col>&lt;dbl&gt;</th><th scope=col>&lt;dbl&gt;</th></tr>\n",
       "</thead>\n",
       "<tbody>\n",
       "\t<tr><td>chr11</td><td>4539569</td><td>4540043</td><td>chr11_4539569_4540043</td><td>HBE1</td><td>OL45</td><td>HBE1,HBG1,HBG2,HBS1L,MYB</td><td>ASTARR</td><td> 0.14501695</td><td>0.6550523</td></tr>\n",
       "\t<tr><td>chr11</td><td>4551336</td><td>4552012</td><td>chr11_4551336_4552012</td><td>HBE1</td><td>OL45</td><td>NA                      </td><td>ASTARR</td><td> 0.32125162</td><td>0.7560976</td></tr>\n",
       "\t<tr><td>chr11</td><td>4553969</td><td>4555012</td><td>chr11_4553969_4555012</td><td>HBE1</td><td>OL45</td><td>NA                      </td><td>ASTARR</td><td> 0.14529397</td><td>0.6556330</td></tr>\n",
       "\t<tr><td>chr11</td><td>4569016</td><td>4569992</td><td>chr11_4569016_4569992</td><td>HBE1</td><td>OL45</td><td>NA                      </td><td>ASTARR</td><td> 0.01136464</td><td>0.5673635</td></tr>\n",
       "\t<tr><td>chr11</td><td>4577444</td><td>4578031</td><td>chr11_4577444_4578031</td><td>HBE1</td><td>OL45</td><td>NA                      </td><td>ASTARR</td><td> 0.24524353</td><td>0.7154472</td></tr>\n",
       "\t<tr><td>chr11</td><td>4601808</td><td>4602487</td><td>chr11_4601808_4602487</td><td>HBE1</td><td>OL45</td><td>NA                      </td><td>ASTARR</td><td>-0.57215284</td><td>0.1277584</td></tr>\n",
       "</tbody>\n",
       "</table>\n"
      ],
      "text/latex": [
       "A tibble: 6 × 10\n",
       "\\begin{tabular}{llllllllll}\n",
       " Chrom & Start & End & Peak & TMPRA\\_Gene & TMPRA\\_Dataset & CRISPR\\_HCFF & Assay & Log2FC & RankNorm\\_Total\\\\\n",
       " <chr> & <dbl> & <dbl> & <chr> & <chr> & <chr> & <chr> & <chr> & <dbl> & <dbl>\\\\\n",
       "\\hline\n",
       "\t chr11 & 4539569 & 4540043 & chr11\\_4539569\\_4540043 & HBE1 & OL45 & HBE1,HBG1,HBG2,HBS1L,MYB & ASTARR &  0.14501695 & 0.6550523\\\\\n",
       "\t chr11 & 4551336 & 4552012 & chr11\\_4551336\\_4552012 & HBE1 & OL45 & NA                       & ASTARR &  0.32125162 & 0.7560976\\\\\n",
       "\t chr11 & 4553969 & 4555012 & chr11\\_4553969\\_4555012 & HBE1 & OL45 & NA                       & ASTARR &  0.14529397 & 0.6556330\\\\\n",
       "\t chr11 & 4569016 & 4569992 & chr11\\_4569016\\_4569992 & HBE1 & OL45 & NA                       & ASTARR &  0.01136464 & 0.5673635\\\\\n",
       "\t chr11 & 4577444 & 4578031 & chr11\\_4577444\\_4578031 & HBE1 & OL45 & NA                       & ASTARR &  0.24524353 & 0.7154472\\\\\n",
       "\t chr11 & 4601808 & 4602487 & chr11\\_4601808\\_4602487 & HBE1 & OL45 & NA                       & ASTARR & -0.57215284 & 0.1277584\\\\\n",
       "\\end{tabular}\n"
      ],
      "text/markdown": [
       "\n",
       "A tibble: 6 × 10\n",
       "\n",
       "| Chrom &lt;chr&gt; | Start &lt;dbl&gt; | End &lt;dbl&gt; | Peak &lt;chr&gt; | TMPRA_Gene &lt;chr&gt; | TMPRA_Dataset &lt;chr&gt; | CRISPR_HCFF &lt;chr&gt; | Assay &lt;chr&gt; | Log2FC &lt;dbl&gt; | RankNorm_Total &lt;dbl&gt; |\n",
       "|---|---|---|---|---|---|---|---|---|---|\n",
       "| chr11 | 4539569 | 4540043 | chr11_4539569_4540043 | HBE1 | OL45 | HBE1,HBG1,HBG2,HBS1L,MYB | ASTARR |  0.14501695 | 0.6550523 |\n",
       "| chr11 | 4551336 | 4552012 | chr11_4551336_4552012 | HBE1 | OL45 | NA                       | ASTARR |  0.32125162 | 0.7560976 |\n",
       "| chr11 | 4553969 | 4555012 | chr11_4553969_4555012 | HBE1 | OL45 | NA                       | ASTARR |  0.14529397 | 0.6556330 |\n",
       "| chr11 | 4569016 | 4569992 | chr11_4569016_4569992 | HBE1 | OL45 | NA                       | ASTARR |  0.01136464 | 0.5673635 |\n",
       "| chr11 | 4577444 | 4578031 | chr11_4577444_4578031 | HBE1 | OL45 | NA                       | ASTARR |  0.24524353 | 0.7154472 |\n",
       "| chr11 | 4601808 | 4602487 | chr11_4601808_4602487 | HBE1 | OL45 | NA                       | ASTARR | -0.57215284 | 0.1277584 |\n",
       "\n"
      ],
      "text/plain": [
       "  Chrom Start   End     Peak                  TMPRA_Gene TMPRA_Dataset\n",
       "1 chr11 4539569 4540043 chr11_4539569_4540043 HBE1       OL45         \n",
       "2 chr11 4551336 4552012 chr11_4551336_4552012 HBE1       OL45         \n",
       "3 chr11 4553969 4555012 chr11_4553969_4555012 HBE1       OL45         \n",
       "4 chr11 4569016 4569992 chr11_4569016_4569992 HBE1       OL45         \n",
       "5 chr11 4577444 4578031 chr11_4577444_4578031 HBE1       OL45         \n",
       "6 chr11 4601808 4602487 chr11_4601808_4602487 HBE1       OL45         \n",
       "  CRISPR_HCFF              Assay  Log2FC      RankNorm_Total\n",
       "1 HBE1,HBG1,HBG2,HBS1L,MYB ASTARR  0.14501695 0.6550523     \n",
       "2 NA                       ASTARR  0.32125162 0.7560976     \n",
       "3 NA                       ASTARR  0.14529397 0.6556330     \n",
       "4 NA                       ASTARR  0.01136464 0.5673635     \n",
       "5 NA                       ASTARR  0.24524353 0.7154472     \n",
       "6 NA                       ASTARR -0.57215284 0.1277584     "
      ]
     },
     "metadata": {},
     "output_type": "display_data"
    }
   ],
   "source": [
    "### set file directories\n",
    "fdiry = file.path(FD_RES, \"results\", \"comparison\")\n",
    "fname = \"result.ranknorm.starrmpra.tsv\"\n",
    "fpath = file.path(fdiry, fname)\n",
    "\n",
    "### read data\n",
    "dat = read_tsv(fpath)\n",
    "\n",
    "### assign and show\n",
    "dat_peak_log2fc = dat\n",
    "print(dim(dat))\n",
    "head(dat)"
   ]
  },
  {
   "cell_type": "code",
   "execution_count": 3,
   "metadata": {},
   "outputs": [
    {
     "name": "stderr",
     "output_type": "stream",
     "text": [
      "\u001b[1mRows: \u001b[22m\u001b[34m451244\u001b[39m \u001b[1mColumns: \u001b[22m\u001b[34m4\u001b[39m\n",
      "\u001b[36m──\u001b[39m \u001b[1mColumn specification\u001b[22m \u001b[36m────────────────────────────────────────────────────────────────────────\u001b[39m\n",
      "\u001b[1mDelimiter:\u001b[22m \"\\t\"\n",
      "\u001b[31mchr\u001b[39m (3): Peak, Category, Annotation\n",
      "\u001b[32mdbl\u001b[39m (1): Count\n",
      "\n",
      "\u001b[36mℹ\u001b[39m Use `spec()` to retrieve the full column specification for this data.\n",
      "\u001b[36mℹ\u001b[39m Specify the column types or set `show_col_types = FALSE` to quiet this message.\n"
     ]
    },
    {
     "name": "stdout",
     "output_type": "stream",
     "text": [
      "[1] 451244      4\n"
     ]
    },
    {
     "data": {
      "text/html": [
       "<table class=\"dataframe\">\n",
       "<caption>A tibble: 6 × 4</caption>\n",
       "<thead>\n",
       "\t<tr><th scope=col>Peak</th><th scope=col>Category</th><th scope=col>Annotation</th><th scope=col>Count</th></tr>\n",
       "\t<tr><th scope=col>&lt;chr&gt;</th><th scope=col>&lt;chr&gt;</th><th scope=col>&lt;chr&gt;</th><th scope=col>&lt;dbl&gt;</th></tr>\n",
       "</thead>\n",
       "<tbody>\n",
       "\t<tr><td>chr10_100009096_100010466</td><td>DNase-H3K4me3,CTCF-bound</td><td>ccre_v3</td><td>2</td></tr>\n",
       "\t<tr><td>chr10_100009096_100010466</td><td>Low-DNase               </td><td>ccre_v3</td><td>1</td></tr>\n",
       "\t<tr><td>chr10_100009096_100010466</td><td>PLS,CTCF-bound          </td><td>ccre_v3</td><td>1</td></tr>\n",
       "\t<tr><td>chr10_100020710_100021134</td><td>Low-DNase               </td><td>ccre_v3</td><td>2</td></tr>\n",
       "\t<tr><td>chr10_100045961_100046653</td><td>CTCF-only,CTCF-bound    </td><td>ccre_v3</td><td>1</td></tr>\n",
       "\t<tr><td>chr10_100065094_100065486</td><td>Low-DNase               </td><td>ccre_v3</td><td>1</td></tr>\n",
       "</tbody>\n",
       "</table>\n"
      ],
      "text/latex": [
       "A tibble: 6 × 4\n",
       "\\begin{tabular}{llll}\n",
       " Peak & Category & Annotation & Count\\\\\n",
       " <chr> & <chr> & <chr> & <dbl>\\\\\n",
       "\\hline\n",
       "\t chr10\\_100009096\\_100010466 & DNase-H3K4me3,CTCF-bound & ccre\\_v3 & 2\\\\\n",
       "\t chr10\\_100009096\\_100010466 & Low-DNase                & ccre\\_v3 & 1\\\\\n",
       "\t chr10\\_100009096\\_100010466 & PLS,CTCF-bound           & ccre\\_v3 & 1\\\\\n",
       "\t chr10\\_100020710\\_100021134 & Low-DNase                & ccre\\_v3 & 2\\\\\n",
       "\t chr10\\_100045961\\_100046653 & CTCF-only,CTCF-bound     & ccre\\_v3 & 1\\\\\n",
       "\t chr10\\_100065094\\_100065486 & Low-DNase                & ccre\\_v3 & 1\\\\\n",
       "\\end{tabular}\n"
      ],
      "text/markdown": [
       "\n",
       "A tibble: 6 × 4\n",
       "\n",
       "| Peak &lt;chr&gt; | Category &lt;chr&gt; | Annotation &lt;chr&gt; | Count &lt;dbl&gt; |\n",
       "|---|---|---|---|\n",
       "| chr10_100009096_100010466 | DNase-H3K4me3,CTCF-bound | ccre_v3 | 2 |\n",
       "| chr10_100009096_100010466 | Low-DNase                | ccre_v3 | 1 |\n",
       "| chr10_100009096_100010466 | PLS,CTCF-bound           | ccre_v3 | 1 |\n",
       "| chr10_100020710_100021134 | Low-DNase                | ccre_v3 | 2 |\n",
       "| chr10_100045961_100046653 | CTCF-only,CTCF-bound     | ccre_v3 | 1 |\n",
       "| chr10_100065094_100065486 | Low-DNase                | ccre_v3 | 1 |\n",
       "\n"
      ],
      "text/plain": [
       "  Peak                      Category                 Annotation Count\n",
       "1 chr10_100009096_100010466 DNase-H3K4me3,CTCF-bound ccre_v3    2    \n",
       "2 chr10_100009096_100010466 Low-DNase                ccre_v3    1    \n",
       "3 chr10_100009096_100010466 PLS,CTCF-bound           ccre_v3    1    \n",
       "4 chr10_100020710_100021134 Low-DNase                ccre_v3    2    \n",
       "5 chr10_100045961_100046653 CTCF-only,CTCF-bound     ccre_v3    1    \n",
       "6 chr10_100065094_100065486 Low-DNase                ccre_v3    1    "
      ]
     },
     "metadata": {},
     "output_type": "display_data"
    }
   ],
   "source": [
    "fdiry = file.path(FD_RES, \"results\", \"region\", \"KS91_K562_ASTARRseq_peak_macs_input\", \"summary\")\n",
    "fname = \"peak.summary.ccre.tsv\"\n",
    "fpath = file.path(fdiry, fname)\n",
    "\n",
    "dat = read_tsv(fpath)\n",
    "\n",
    "dat_peak_annot_ccre_v3 = dat %>% dplyr::filter(Annotation == \"ccre_v3\")\n",
    "dat_peak_annot_ccre_v4 = dat %>% dplyr::filter(Annotation == \"ccre_v4\")\n",
    "print(dim(dat))\n",
    "head(dat)"
   ]
  },
  {
   "cell_type": "code",
   "execution_count": 5,
   "metadata": {},
   "outputs": [
    {
     "name": "stdout",
     "output_type": "stream",
     "text": [
      "[1] 11\n",
      " [1] \"CTCF-only,CTCF-bound\"     \"dELS\"                    \n",
      " [3] \"dELS,CTCF-bound\"          \"DNase-H3K4me3\"           \n",
      " [5] \"DNase-H3K4me3,CTCF-bound\" \"DNase-only\"              \n",
      " [7] \"Low-DNase\"                \"pELS\"                    \n",
      " [9] \"pELS,CTCF-bound\"          \"PLS\"                     \n",
      "[11] \"PLS,CTCF-bound\"          \n",
      "\n",
      "\n",
      "CTCF-only,CTCF-bound 12088 \n",
      "[1] \"chr10_100045961_100046653\" \"chr10_100338359_100339077\"\n",
      "[3] \"chr10_100342247_100342824\" \"chr10_100433434_100434444\"\n",
      "[5] \"chr10_100561032_100563457\" \"chr10_100670731_100671588\"\n",
      "\n",
      "\n",
      "dELS 9237 \n",
      "[1] \"chr10_100358645_100359733\" \"chr10_100370571_100371646\"\n",
      "[3] \"chr10_1008874_1009782\"     \"chr10_101042559_101043551\"\n",
      "[5] \"chr10_101066038_101068076\" \"chr10_101535682_101537113\"\n",
      "\n",
      "\n",
      "dELS,CTCF-bound 1994 \n",
      "[1] \"chr10_101066038_101068076\" \"chr10_101748332_101750218\"\n",
      "[3] \"chr10_101835785_101836530\" \"chr10_102057753_102058495\"\n",
      "[5] \"chr10_102112241_102115343\" \"chr10_102117513_102118070\"\n",
      "\n",
      "\n",
      "DNase-H3K4me3 2896 \n",
      "[1] \"chr10_100481467_100483191\" \"chr10_100968842_100970495\"\n",
      "[3] \"chr10_101566151_101567081\" \"chr10_101569570_101570830\"\n",
      "[5] \"chr10_102225896_102226585\" \"chr10_102229719_102232216\"\n",
      "\n",
      "\n",
      "DNase-H3K4me3,CTCF-bound 1533 \n",
      "[1] \"chr10_100009096_100010466\" \"chr10_100454273_100455313\"\n",
      "[3] \"chr10_100481467_100483191\" \"chr10_100968842_100970495\"\n",
      "[5] \"chr10_101049986_101050921\" \"chr10_101213416_101215567\"\n",
      "\n",
      "\n",
      "DNase-only 6325 \n",
      "[1] \"chr10_100364513_100365906\" \"chr10_100680694_100681343\"\n",
      "[3] \"chr10_101011384_101013302\" \"chr10_101034498_101034808\"\n",
      "[5] \"chr10_101071585_101072398\" \"chr10_101778130_101778928\"\n",
      "\n",
      "\n",
      "Low-DNase 113641 \n",
      "[1] \"chr10_100009096_100010466\" \"chr10_100020710_100021134\"\n",
      "[3] \"chr10_100065094_100065486\" \"chr10_100081317_100081607\"\n",
      "[5] \"chr10_100111648_100111979\" \"chr10_100146141_100147612\"\n",
      "\n",
      "\n",
      "pELS 10443 \n",
      "[1] \"chr10_100185017_100187275\" \"chr10_100228452_100230090\"\n",
      "[3] \"chr10_100346328_100347693\" \"chr10_100373060_100374238\"\n",
      "[5] \"chr10_100528900_100530538\" \"chr10_100535377_100536237\"\n",
      "\n",
      "\n",
      "pELS,CTCF-bound 3200 \n",
      "[1] \"chr10_100228452_100230090\" \"chr10_100996476_100998710\"\n",
      "[3] \"chr10_100998950_101000520\" \"chr10_101060309_101063187\"\n",
      "[5] \"chr10_101353538_101354690\" \"chr10_102055490_102056724\"\n",
      "\n",
      "\n",
      "PLS 9644 \n",
      "[1] \"chr10_100185017_100187275\" \"chr10_100228452_100230090\"\n",
      "[3] \"chr10_100267066_100268374\" \"chr10_100285974_100287341\"\n",
      "[5] \"chr10_100346328_100347693\" \"chr10_100373060_100374238\"\n",
      "\n",
      "\n",
      "PLS,CTCF-bound 2934 \n",
      "[1] \"chr10_100009096_100010466\" \"chr10_100535377_100536237\"\n",
      "[3] \"chr10_100998950_101000520\" \"chr10_102064702_102066200\"\n",
      "[5] \"chr10_102119436_102121755\" \"chr10_102132343_102134065\"\n",
      "\n",
      "\n"
     ]
    }
   ],
   "source": [
    "dat = dat_peak_annot_ccre_v3\n",
    "lst = split(dat$Peak, dat$Category)\n",
    "\n",
    "lst_annot = lst\n",
    "3846\n",
    "print(length(lst))\n",
    "print(names(lst))\n",
    "cat(\"\\n\\n\")\n",
    "\n",
    "for (idx in names(lst_annot)){\n",
    "    x = lst_annot[[idx]]\n",
    "    cat(idx, length(x), \"\\n\")\n",
    "    print(head(x))\n",
    "    cat(\"\\n\\n\")\n",
    "}"
   ]
  },
  {
   "cell_type": "code",
   "execution_count": 6,
   "metadata": {},
   "outputs": [
    {
     "data": {
      "text/html": [
       "<table class=\"dataframe\">\n",
       "<caption>A tibble: 6 × 2</caption>\n",
       "<thead>\n",
       "\t<tr><th scope=col>Peak</th><th scope=col>RankNorm</th></tr>\n",
       "\t<tr><th scope=col>&lt;chr&gt;</th><th scope=col>&lt;dbl&gt;</th></tr>\n",
       "</thead>\n",
       "<tbody>\n",
       "\t<tr><td>chrX_48996933_48997220  </td><td>0.002129307</td></tr>\n",
       "\t<tr><td>chr8_128298518_128298762</td><td>0.009291521</td></tr>\n",
       "\t<tr><td>chr8_128242220_128242507</td><td>0.039876113</td></tr>\n",
       "\t<tr><td>chr11_34024311_34024546 </td><td>0.040456833</td></tr>\n",
       "\t<tr><td>chr8_128189792_128190210</td><td>0.041231127</td></tr>\n",
       "\t<tr><td>chr20_56703281_56703575 </td><td>0.048199768</td></tr>\n",
       "</tbody>\n",
       "</table>\n"
      ],
      "text/latex": [
       "A tibble: 6 × 2\n",
       "\\begin{tabular}{ll}\n",
       " Peak & RankNorm\\\\\n",
       " <chr> & <dbl>\\\\\n",
       "\\hline\n",
       "\t chrX\\_48996933\\_48997220   & 0.002129307\\\\\n",
       "\t chr8\\_128298518\\_128298762 & 0.009291521\\\\\n",
       "\t chr8\\_128242220\\_128242507 & 0.039876113\\\\\n",
       "\t chr11\\_34024311\\_34024546  & 0.040456833\\\\\n",
       "\t chr8\\_128189792\\_128190210 & 0.041231127\\\\\n",
       "\t chr20\\_56703281\\_56703575  & 0.048199768\\\\\n",
       "\\end{tabular}\n"
      ],
      "text/markdown": [
       "\n",
       "A tibble: 6 × 2\n",
       "\n",
       "| Peak &lt;chr&gt; | RankNorm &lt;dbl&gt; |\n",
       "|---|---|\n",
       "| chrX_48996933_48997220   | 0.002129307 |\n",
       "| chr8_128298518_128298762 | 0.009291521 |\n",
       "| chr8_128242220_128242507 | 0.039876113 |\n",
       "| chr11_34024311_34024546  | 0.040456833 |\n",
       "| chr8_128189792_128190210 | 0.041231127 |\n",
       "| chr20_56703281_56703575  | 0.048199768 |\n",
       "\n"
      ],
      "text/plain": [
       "  Peak                     RankNorm   \n",
       "1 chrX_48996933_48997220   0.002129307\n",
       "2 chr8_128298518_128298762 0.009291521\n",
       "3 chr8_128242220_128242507 0.039876113\n",
       "4 chr11_34024311_34024546  0.040456833\n",
       "5 chr8_128189792_128190210 0.041231127\n",
       "6 chr20_56703281_56703575  0.048199768"
      ]
     },
     "metadata": {},
     "output_type": "display_data"
    }
   ],
   "source": [
    "dat = dat_peak_log2fc\n",
    "dat = dat %>% \n",
    "    dplyr::group_by(Peak) %>% \n",
    "    dplyr::summarise(\n",
    "        RankNorm = mean(RankNorm_Total),\n",
    "        .groups  = \"drop\") %>%\n",
    "    dplyr::arrange(RankNorm)\n",
    "\n",
    "head(dat)"
   ]
  },
  {
   "cell_type": "code",
   "execution_count": 7,
   "metadata": {},
   "outputs": [
    {
     "name": "stdout",
     "output_type": "stream",
     "text": [
      "[1] 1722\n",
      "  chrX_48996933_48997220 chr8_128298518_128298762 chr8_128242220_128242507 \n",
      "             0.002129307              0.009291521              0.039876113 \n",
      " chr11_34024311_34024546 chr8_128189792_128190210  chr20_56703281_56703575 \n",
      "             0.040456833              0.041231127              0.048199768 \n"
     ]
    }
   ],
   "source": [
    "dat = dat_peak_log2fc\n",
    "dat = dat %>% \n",
    "    dplyr::group_by(Peak) %>% \n",
    "    dplyr::summarise(\n",
    "        RankNorm = mean(RankNorm_Total),\n",
    "        .groups  = \"drop\") %>%\n",
    "    dplyr::arrange(RankNorm)\n",
    "\n",
    "vec = dat$RankNorm\n",
    "names(vec) = dat$Peak\n",
    "\n",
    "vec_peak = vec\n",
    "print(length(vec))\n",
    "print(head(vec))"
   ]
  },
  {
   "cell_type": "code",
   "execution_count": 8,
   "metadata": {},
   "outputs": [
    {
     "name": "stderr",
     "output_type": "stream",
     "text": [
      "Warning message in preparePathwaysAndStats(pathways, stats, minSize, maxSize, gseaParam, :\n",
      "“There are ties in the preranked stats (13.24% of the list).\n",
      "The order of those tied genes will be arbitrary, which may produce unexpected results.”\n"
     ]
    },
    {
     "name": "stdout",
     "output_type": "stream",
     "text": [
      "[1] \"data.table\" \"data.frame\"\n"
     ]
    }
   ],
   "source": [
    "set.seed(42)\n",
    "fgseaRes = fgsea(pathways  = lst_annot, \n",
    "                 stats     = vec_peak,\n",
    "                 eps       = 0.0,\n",
    "                 #minSize   = 15,\n",
    "                 #maxSize   = 500,\n",
    "                 scoreType = \"pos\"\n",
    "                )\n",
    "\n",
    "print(class(fgseaRes))"
   ]
  },
  {
   "cell_type": "code",
   "execution_count": 11,
   "metadata": {},
   "outputs": [
    {
     "data": {
      "text/html": [
       "<table class=\"dataframe\">\n",
       "<caption>A data.table: 6 × 8</caption>\n",
       "<thead>\n",
       "\t<tr><th scope=col>pathway</th><th scope=col>pval</th><th scope=col>padj</th><th scope=col>log2err</th><th scope=col>ES</th><th scope=col>NES</th><th scope=col>size</th><th scope=col>nLogP</th></tr>\n",
       "\t<tr><th scope=col>&lt;chr&gt;</th><th scope=col>&lt;dbl&gt;</th><th scope=col>&lt;dbl&gt;</th><th scope=col>&lt;dbl&gt;</th><th scope=col>&lt;dbl&gt;</th><th scope=col>&lt;dbl&gt;</th><th scope=col>&lt;int&gt;</th><th scope=col>&lt;dbl&gt;</th></tr>\n",
       "</thead>\n",
       "<tbody>\n",
       "\t<tr><td>CTCF-only,CTCF-bound    </td><td>6.093906e-02</td><td>6.703297e-02</td><td>0.1797823</td><td>0.2931971</td><td>1.335655</td><td> 80</td><td> 1.1737116</td></tr>\n",
       "\t<tr><td>DNase-H3K4me3           </td><td>1.268731e-01</td><td>1.268731e-01</td><td>0.1198878</td><td>0.3977387</td><td>1.378297</td><td> 14</td><td> 0.8966304</td></tr>\n",
       "\t<tr><td>DNase-H3K4me3,CTCF-bound</td><td>1.907497e-02</td><td>2.622808e-02</td><td>0.3524879</td><td>0.5601636</td><td>1.799412</td><td> 10</td><td> 1.5812335</td></tr>\n",
       "\t<tr><td>DNase-only              </td><td>3.904027e-03</td><td>6.134899e-03</td><td>0.4317077</td><td>0.3858264</td><td>1.658223</td><td> 50</td><td> 2.2121926</td></tr>\n",
       "\t<tr><td>Low-DNase               </td><td>5.694306e-02</td><td>6.703297e-02</td><td>0.1864326</td><td>0.2232089</td><td>1.177959</td><td>780</td><td> 1.1737116</td></tr>\n",
       "\t<tr><td>PLS                     </td><td>6.860061e-24</td><td>3.773034e-23</td><td>1.2627399</td><td>0.6124824</td><td>2.877429</td><td>109</td><td>22.4233093</td></tr>\n",
       "</tbody>\n",
       "</table>\n"
      ],
      "text/latex": [
       "A data.table: 6 × 8\n",
       "\\begin{tabular}{llllllll}\n",
       " pathway & pval & padj & log2err & ES & NES & size & nLogP\\\\\n",
       " <chr> & <dbl> & <dbl> & <dbl> & <dbl> & <dbl> & <int> & <dbl>\\\\\n",
       "\\hline\n",
       "\t CTCF-only,CTCF-bound     & 6.093906e-02 & 6.703297e-02 & 0.1797823 & 0.2931971 & 1.335655 &  80 &  1.1737116\\\\\n",
       "\t DNase-H3K4me3            & 1.268731e-01 & 1.268731e-01 & 0.1198878 & 0.3977387 & 1.378297 &  14 &  0.8966304\\\\\n",
       "\t DNase-H3K4me3,CTCF-bound & 1.907497e-02 & 2.622808e-02 & 0.3524879 & 0.5601636 & 1.799412 &  10 &  1.5812335\\\\\n",
       "\t DNase-only               & 3.904027e-03 & 6.134899e-03 & 0.4317077 & 0.3858264 & 1.658223 &  50 &  2.2121926\\\\\n",
       "\t Low-DNase                & 5.694306e-02 & 6.703297e-02 & 0.1864326 & 0.2232089 & 1.177959 & 780 &  1.1737116\\\\\n",
       "\t PLS                      & 6.860061e-24 & 3.773034e-23 & 1.2627399 & 0.6124824 & 2.877429 & 109 & 22.4233093\\\\\n",
       "\\end{tabular}\n"
      ],
      "text/markdown": [
       "\n",
       "A data.table: 6 × 8\n",
       "\n",
       "| pathway &lt;chr&gt; | pval &lt;dbl&gt; | padj &lt;dbl&gt; | log2err &lt;dbl&gt; | ES &lt;dbl&gt; | NES &lt;dbl&gt; | size &lt;int&gt; | nLogP &lt;dbl&gt; |\n",
       "|---|---|---|---|---|---|---|---|\n",
       "| CTCF-only,CTCF-bound     | 6.093906e-02 | 6.703297e-02 | 0.1797823 | 0.2931971 | 1.335655 |  80 |  1.1737116 |\n",
       "| DNase-H3K4me3            | 1.268731e-01 | 1.268731e-01 | 0.1198878 | 0.3977387 | 1.378297 |  14 |  0.8966304 |\n",
       "| DNase-H3K4me3,CTCF-bound | 1.907497e-02 | 2.622808e-02 | 0.3524879 | 0.5601636 | 1.799412 |  10 |  1.5812335 |\n",
       "| DNase-only               | 3.904027e-03 | 6.134899e-03 | 0.4317077 | 0.3858264 | 1.658223 |  50 |  2.2121926 |\n",
       "| Low-DNase                | 5.694306e-02 | 6.703297e-02 | 0.1864326 | 0.2232089 | 1.177959 | 780 |  1.1737116 |\n",
       "| PLS                      | 6.860061e-24 | 3.773034e-23 | 1.2627399 | 0.6124824 | 2.877429 | 109 | 22.4233093 |\n",
       "\n"
      ],
      "text/plain": [
       "  pathway                  pval         padj         log2err   ES       \n",
       "1 CTCF-only,CTCF-bound     6.093906e-02 6.703297e-02 0.1797823 0.2931971\n",
       "2 DNase-H3K4me3            1.268731e-01 1.268731e-01 0.1198878 0.3977387\n",
       "3 DNase-H3K4me3,CTCF-bound 1.907497e-02 2.622808e-02 0.3524879 0.5601636\n",
       "4 DNase-only               3.904027e-03 6.134899e-03 0.4317077 0.3858264\n",
       "5 Low-DNase                5.694306e-02 6.703297e-02 0.1864326 0.2232089\n",
       "6 PLS                      6.860061e-24 3.773034e-23 1.2627399 0.6124824\n",
       "  NES      size nLogP     \n",
       "1 1.335655  80   1.1737116\n",
       "2 1.378297  14   0.8966304\n",
       "3 1.799412  10   1.5812335\n",
       "4 1.658223  50   2.2121926\n",
       "5 1.177959 780   1.1737116\n",
       "6 2.877429 109  22.4233093"
      ]
     },
     "metadata": {},
     "output_type": "display_data"
    }
   ],
   "source": [
    "dat = fgseaRes\n",
    "dat = dat %>% \n",
    "    dplyr::select(pathway, pval, padj, log2err, ES, NES, size) %>%\n",
    "    dplyr::mutate(nLogP = -log10(padj))\n",
    "head(dat)"
   ]
  },
  {
   "cell_type": "code",
   "execution_count": 12,
   "metadata": {},
   "outputs": [],
   "source": [
    "theme_color = scale_colour_gradient(low = \"#fcbba1\", high = \"#cb181d\")\n",
    "\n",
    "theme_text = theme(\n",
    "        axis.text.x = element_text(size=15),\n",
    "        axis.text.y = element_text(size=15)\n",
    ")\n",
    "\n",
    "theme_grid = theme(\n",
    "    panel.grid.major.x = element_line(\n",
    "        color     = \"grey90\",\n",
    "        linewidth = 0.5,\n",
    "        linetype  = 1),\n",
    "    panel.grid.major.y = element_line(\n",
    "        color     = \"grey90\",\n",
    "        linewidth = 0.5,\n",
    "        linetype  = 1),\n",
    "    panel.grid.minor.y = element_line(\n",
    "        color     = \"grey90\",\n",
    "        linewidth = 0.5,\n",
    "        linetype  = 1)\n",
    ")"
   ]
  },
  {
   "cell_type": "code",
   "execution_count": 13,
   "metadata": {},
   "outputs": [
    {
     "data": {
      "image/png": "[encoded data removed]",
      "text/plain": [
       "plot without title"
      ]
     },
     "metadata": {
      "image/png": {
       "height": 300,
       "width": 480
      }
     },
     "output_type": "display_data"
    }
   ],
   "source": [
    "dat = fgseaRes\n",
    "dat = dat %>% \n",
    "    dplyr::select(pathway, pval, padj, log2err, ES, NES, size) %>%\n",
    "    dplyr::mutate(nlogP = -log10(padj)) %>%\n",
    "    dplyr::arrange(NES) %>%\n",
    "    dplyr::mutate(pathway = factor(pathway, levels=pathway))\n",
    "\n",
    "gpt = ggplot(dat, aes(x = NES, y=pathway, size=size, color=nlogP)) + \n",
    "    geom_point() + \n",
    "    scale_size(range = c(5, 10)) +\n",
    "    xlim(1, 4.0) +\n",
    "    labs(x = \"Normalized Enrichment Score\", y = \"\") +\n",
    "    theme_cowplot() +\n",
    "    theme_grid +\n",
    "    theme_text +\n",
    "    theme_color\n",
    "\n",
    "options(repr.plot.height=5, repr.plot.width=8)\n",
    "print(gpt)"
   ]
  },
  {
   "cell_type": "code",
   "execution_count": 22,
   "metadata": {},
   "outputs": [
    {
     "data": {
      "text/html": [
       "<table class=\"dataframe\">\n",
       "<caption>A data.table: 11 × 8</caption>\n",
       "<thead>\n",
       "\t<tr><th scope=col>pathway</th><th scope=col>pval</th><th scope=col>padj</th><th scope=col>log2err</th><th scope=col>ES</th><th scope=col>NES</th><th scope=col>size</th><th scope=col>nlogP</th></tr>\n",
       "\t<tr><th scope=col>&lt;fct&gt;</th><th scope=col>&lt;dbl&gt;</th><th scope=col>&lt;dbl&gt;</th><th scope=col>&lt;dbl&gt;</th><th scope=col>&lt;dbl&gt;</th><th scope=col>&lt;dbl&gt;</th><th scope=col>&lt;int&gt;</th><th scope=col>&lt;dbl&gt;</th></tr>\n",
       "</thead>\n",
       "<tbody>\n",
       "\t<tr><td>CTCF-only,CTCF-bound    </td><td>6.093906e-02</td><td>6.703297e-02</td><td>0.1797823</td><td>0.2931971</td><td>1.335655</td><td> 80</td><td> 1.1737116</td></tr>\n",
       "\t<tr><td>DNase-H3K4me3           </td><td>1.268731e-01</td><td>1.268731e-01</td><td>0.1198878</td><td>0.3977387</td><td>1.378297</td><td> 14</td><td> 0.8966304</td></tr>\n",
       "\t<tr><td>DNase-H3K4me3,CTCF-bound</td><td>1.907497e-02</td><td>2.622808e-02</td><td>0.3524879</td><td>0.5601636</td><td>1.799412</td><td> 10</td><td> 1.5812335</td></tr>\n",
       "\t<tr><td>DNase-only              </td><td>3.904027e-03</td><td>6.134899e-03</td><td>0.4317077</td><td>0.3858264</td><td>1.658223</td><td> 50</td><td> 2.2121926</td></tr>\n",
       "\t<tr><td>Low-DNase               </td><td>5.694306e-02</td><td>6.703297e-02</td><td>0.1864326</td><td>0.2232089</td><td>1.177959</td><td>780</td><td> 1.1737116</td></tr>\n",
       "\t<tr><td>PLS                     </td><td>6.860061e-24</td><td>3.773034e-23</td><td>1.2627399</td><td>0.6124824</td><td>2.877429</td><td>109</td><td>22.4233093</td></tr>\n",
       "\t<tr><td>PLS,CTCF-bound          </td><td>1.717779e-07</td><td>4.723893e-07</td><td>0.6901325</td><td>0.6548939</td><td>2.535078</td><td> 25</td><td> 6.3256999</td></tr>\n",
       "\t<tr><td>dELS                    </td><td>3.863003e-13</td><td>1.416434e-12</td><td>0.9325952</td><td>0.5251367</td><td>2.437213</td><td> 96</td><td>11.8488035</td></tr>\n",
       "\t<tr><td>dELS,CTCF-bound         </td><td>3.607315e-03</td><td>6.134899e-03</td><td>0.4317077</td><td>0.4973922</td><td>1.885144</td><td> 21</td><td> 2.2121926</td></tr>\n",
       "\t<tr><td>pELS                    </td><td>3.587727e-27</td><td>3.946500e-26</td><td>1.3499257</td><td>0.6140054</td><td>2.924097</td><td>124</td><td>25.4037879</td></tr>\n",
       "\t<tr><td>pELS,CTCF-bound         </td><td>6.002587e-07</td><td>1.320569e-06</td><td>0.6594444</td><td>0.5938230</td><td>2.392592</td><td> 31</td><td> 5.8792389</td></tr>\n",
       "</tbody>\n",
       "</table>\n"
      ],
      "text/latex": [
       "A data.table: 11 × 8\n",
       "\\begin{tabular}{llllllll}\n",
       " pathway & pval & padj & log2err & ES & NES & size & nlogP\\\\\n",
       " <fct> & <dbl> & <dbl> & <dbl> & <dbl> & <dbl> & <int> & <dbl>\\\\\n",
       "\\hline\n",
       "\t CTCF-only,CTCF-bound     & 6.093906e-02 & 6.703297e-02 & 0.1797823 & 0.2931971 & 1.335655 &  80 &  1.1737116\\\\\n",
       "\t DNase-H3K4me3            & 1.268731e-01 & 1.268731e-01 & 0.1198878 & 0.3977387 & 1.378297 &  14 &  0.8966304\\\\\n",
       "\t DNase-H3K4me3,CTCF-bound & 1.907497e-02 & 2.622808e-02 & 0.3524879 & 0.5601636 & 1.799412 &  10 &  1.5812335\\\\\n",
       "\t DNase-only               & 3.904027e-03 & 6.134899e-03 & 0.4317077 & 0.3858264 & 1.658223 &  50 &  2.2121926\\\\\n",
       "\t Low-DNase                & 5.694306e-02 & 6.703297e-02 & 0.1864326 & 0.2232089 & 1.177959 & 780 &  1.1737116\\\\\n",
       "\t PLS                      & 6.860061e-24 & 3.773034e-23 & 1.2627399 & 0.6124824 & 2.877429 & 109 & 22.4233093\\\\\n",
       "\t PLS,CTCF-bound           & 1.717779e-07 & 4.723893e-07 & 0.6901325 & 0.6548939 & 2.535078 &  25 &  6.3256999\\\\\n",
       "\t dELS                     & 3.863003e-13 & 1.416434e-12 & 0.9325952 & 0.5251367 & 2.437213 &  96 & 11.8488035\\\\\n",
       "\t dELS,CTCF-bound          & 3.607315e-03 & 6.134899e-03 & 0.4317077 & 0.4973922 & 1.885144 &  21 &  2.2121926\\\\\n",
       "\t pELS                     & 3.587727e-27 & 3.946500e-26 & 1.3499257 & 0.6140054 & 2.924097 & 124 & 25.4037879\\\\\n",
       "\t pELS,CTCF-bound          & 6.002587e-07 & 1.320569e-06 & 0.6594444 & 0.5938230 & 2.392592 &  31 &  5.8792389\\\\\n",
       "\\end{tabular}\n"
      ],
      "text/markdown": [
       "\n",
       "A data.table: 11 × 8\n",
       "\n",
       "| pathway &lt;fct&gt; | pval &lt;dbl&gt; | padj &lt;dbl&gt; | log2err &lt;dbl&gt; | ES &lt;dbl&gt; | NES &lt;dbl&gt; | size &lt;int&gt; | nlogP &lt;dbl&gt; |\n",
       "|---|---|---|---|---|---|---|---|\n",
       "| CTCF-only,CTCF-bound     | 6.093906e-02 | 6.703297e-02 | 0.1797823 | 0.2931971 | 1.335655 |  80 |  1.1737116 |\n",
       "| DNase-H3K4me3            | 1.268731e-01 | 1.268731e-01 | 0.1198878 | 0.3977387 | 1.378297 |  14 |  0.8966304 |\n",
       "| DNase-H3K4me3,CTCF-bound | 1.907497e-02 | 2.622808e-02 | 0.3524879 | 0.5601636 | 1.799412 |  10 |  1.5812335 |\n",
       "| DNase-only               | 3.904027e-03 | 6.134899e-03 | 0.4317077 | 0.3858264 | 1.658223 |  50 |  2.2121926 |\n",
       "| Low-DNase                | 5.694306e-02 | 6.703297e-02 | 0.1864326 | 0.2232089 | 1.177959 | 780 |  1.1737116 |\n",
       "| PLS                      | 6.860061e-24 | 3.773034e-23 | 1.2627399 | 0.6124824 | 2.877429 | 109 | 22.4233093 |\n",
       "| PLS,CTCF-bound           | 1.717779e-07 | 4.723893e-07 | 0.6901325 | 0.6548939 | 2.535078 |  25 |  6.3256999 |\n",
       "| dELS                     | 3.863003e-13 | 1.416434e-12 | 0.9325952 | 0.5251367 | 2.437213 |  96 | 11.8488035 |\n",
       "| dELS,CTCF-bound          | 3.607315e-03 | 6.134899e-03 | 0.4317077 | 0.4973922 | 1.885144 |  21 |  2.2121926 |\n",
       "| pELS                     | 3.587727e-27 | 3.946500e-26 | 1.3499257 | 0.6140054 | 2.924097 | 124 | 25.4037879 |\n",
       "| pELS,CTCF-bound          | 6.002587e-07 | 1.320569e-06 | 0.6594444 | 0.5938230 | 2.392592 |  31 |  5.8792389 |\n",
       "\n"
      ],
      "text/plain": [
       "   pathway                  pval         padj         log2err   ES       \n",
       "1  CTCF-only,CTCF-bound     6.093906e-02 6.703297e-02 0.1797823 0.2931971\n",
       "2  DNase-H3K4me3            1.268731e-01 1.268731e-01 0.1198878 0.3977387\n",
       "3  DNase-H3K4me3,CTCF-bound 1.907497e-02 2.622808e-02 0.3524879 0.5601636\n",
       "4  DNase-only               3.904027e-03 6.134899e-03 0.4317077 0.3858264\n",
       "5  Low-DNase                5.694306e-02 6.703297e-02 0.1864326 0.2232089\n",
       "6  PLS                      6.860061e-24 3.773034e-23 1.2627399 0.6124824\n",
       "7  PLS,CTCF-bound           1.717779e-07 4.723893e-07 0.6901325 0.6548939\n",
       "8  dELS                     3.863003e-13 1.416434e-12 0.9325952 0.5251367\n",
       "9  dELS,CTCF-bound          3.607315e-03 6.134899e-03 0.4317077 0.4973922\n",
       "10 pELS                     3.587727e-27 3.946500e-26 1.3499257 0.6140054\n",
       "11 pELS,CTCF-bound          6.002587e-07 1.320569e-06 0.6594444 0.5938230\n",
       "   NES      size nlogP     \n",
       "1  1.335655  80   1.1737116\n",
       "2  1.378297  14   0.8966304\n",
       "3  1.799412  10   1.5812335\n",
       "4  1.658223  50   2.2121926\n",
       "5  1.177959 780   1.1737116\n",
       "6  2.877429 109  22.4233093\n",
       "7  2.535078  25   6.3256999\n",
       "8  2.437213  96  11.8488035\n",
       "9  1.885144  21   2.2121926\n",
       "10 2.924097 124  25.4037879\n",
       "11 2.392592  31   5.8792389"
      ]
     },
     "metadata": {},
     "output_type": "display_data"
    }
   ],
   "source": [
    "dat = fgseaRes\n",
    "dat = dat %>% \n",
    "    dplyr::select(pathway, pval, padj, log2err, ES, NES, size) %>%\n",
    "    dplyr::mutate(nlogP = -log10(padj)) %>%\n",
    "    dplyr::mutate(pathway = factor(pathway, levels=pathway))\n",
    "dat"
   ]
  },
  {
   "cell_type": "code",
   "execution_count": 34,
   "metadata": {},
   "outputs": [
    {
     "data": {
      "image/png": "[encoded data removed]",
      "text/plain": [
       "plot without title"
      ]
     },
     "metadata": {
      "image/png": {
       "height": 300,
       "width": 480
      }
     },
     "output_type": "display_data"
    }
   ],
   "source": [
    "dat = fgseaRes\n",
    "dat = dat %>% \n",
    "    dplyr::select(pathway, pval, padj, log2err, ES, NES, size) %>%\n",
    "    dplyr::mutate(nlogP = -log10(padj)) %>%\n",
    "    dplyr::arrange(nlogP) %>%\n",
    "    dplyr::mutate(pathway = factor(pathway, levels=pathway))\n",
    "    \n",
    "gpt = ggplot(dat, aes(x = nlogP, y=pathway, size=size)) + \n",
    "    geom_point() + \n",
    "    scale_size(range = c(3, 10)) +\n",
    "    labs(x = \"nLog10P\", y = \"\") +\n",
    "    theme_cowplot() +\n",
    "    theme_grid +\n",
    "    theme_text\n",
    "\n",
    "options(repr.plot.height=5, repr.plot.width=8)\n",
    "print(gpt)"
   ]
  },
  {
   "cell_type": "code",
   "execution_count": 30,
   "metadata": {},
   "outputs": [
    {
     "data": {
      "text/html": [
       "<style>\n",
       ".list-inline {list-style: none; margin:0; padding: 0}\n",
       ".list-inline>li {display: inline-block}\n",
       ".list-inline>li:not(:last-child)::after {content: \"\\00b7\"; padding: 0 .5ex}\n",
       "</style>\n",
       "<ol class=list-inline><li>DNase-H3K4me3</li><li>CTCF-only,CTCF-bound</li><li>Low-DNase</li><li>DNase-H3K4me3,CTCF-bound</li><li>DNase-only</li><li>dELS,CTCF-bound</li><li>pELS,CTCF-bound</li><li>PLS,CTCF-bound</li><li>dELS</li><li>PLS</li><li>pELS</li></ol>\n",
       "\n",
       "<details>\n",
       "\t<summary style=display:list-item;cursor:pointer>\n",
       "\t\t<strong>Levels</strong>:\n",
       "\t</summary>\n",
       "\t<style>\n",
       "\t.list-inline {list-style: none; margin:0; padding: 0}\n",
       "\t.list-inline>li {display: inline-block}\n",
       "\t.list-inline>li:not(:last-child)::after {content: \"\\00b7\"; padding: 0 .5ex}\n",
       "\t</style>\n",
       "\t<ol class=list-inline><li>'DNase-H3K4me3'</li><li>'CTCF-only,CTCF-bound'</li><li>'Low-DNase'</li><li>'DNase-H3K4me3,CTCF-bound'</li><li>'DNase-only'</li><li>'dELS,CTCF-bound'</li><li>'pELS,CTCF-bound'</li><li>'PLS,CTCF-bound'</li><li>'dELS'</li><li>'PLS'</li><li>'pELS'</li></ol>\n",
       "</details>"
      ],
      "text/latex": [
       "\\begin{enumerate*}\n",
       "\\item DNase-H3K4me3\n",
       "\\item CTCF-only,CTCF-bound\n",
       "\\item Low-DNase\n",
       "\\item DNase-H3K4me3,CTCF-bound\n",
       "\\item DNase-only\n",
       "\\item dELS,CTCF-bound\n",
       "\\item pELS,CTCF-bound\n",
       "\\item PLS,CTCF-bound\n",
       "\\item dELS\n",
       "\\item PLS\n",
       "\\item pELS\n",
       "\\end{enumerate*}\n",
       "\n",
       "\\emph{Levels}: \\begin{enumerate*}\n",
       "\\item 'DNase-H3K4me3'\n",
       "\\item 'CTCF-only,CTCF-bound'\n",
       "\\item 'Low-DNase'\n",
       "\\item 'DNase-H3K4me3,CTCF-bound'\n",
       "\\item 'DNase-only'\n",
       "\\item 'dELS,CTCF-bound'\n",
       "\\item 'pELS,CTCF-bound'\n",
       "\\item 'PLS,CTCF-bound'\n",
       "\\item 'dELS'\n",
       "\\item 'PLS'\n",
       "\\item 'pELS'\n",
       "\\end{enumerate*}\n"
      ],
      "text/markdown": [
       "1. DNase-H3K4me3\n",
       "2. CTCF-only,CTCF-bound\n",
       "3. Low-DNase\n",
       "4. DNase-H3K4me3,CTCF-bound\n",
       "5. DNase-only\n",
       "6. dELS,CTCF-bound\n",
       "7. pELS,CTCF-bound\n",
       "8. PLS,CTCF-bound\n",
       "9. dELS\n",
       "10. PLS\n",
       "11. pELS\n",
       "\n",
       "\n",
       "\n",
       "**Levels**: 1. 'DNase-H3K4me3'\n",
       "2. 'CTCF-only,CTCF-bound'\n",
       "3. 'Low-DNase'\n",
       "4. 'DNase-H3K4me3,CTCF-bound'\n",
       "5. 'DNase-only'\n",
       "6. 'dELS,CTCF-bound'\n",
       "7. 'pELS,CTCF-bound'\n",
       "8. 'PLS,CTCF-bound'\n",
       "9. 'dELS'\n",
       "10. 'PLS'\n",
       "11. 'pELS'\n",
       "\n",
       "\n"
      ],
      "text/plain": [
       " [1] DNase-H3K4me3            CTCF-only,CTCF-bound     Low-DNase               \n",
       " [4] DNase-H3K4me3,CTCF-bound DNase-only               dELS,CTCF-bound         \n",
       " [7] pELS,CTCF-bound          PLS,CTCF-bound           dELS                    \n",
       "[10] PLS                      pELS                    \n",
       "11 Levels: DNase-H3K4me3 CTCF-only,CTCF-bound ... pELS"
      ]
     },
     "metadata": {},
     "output_type": "display_data"
    }
   ],
   "source": [
    "dat$pathway"
   ]
  },
  {
   "cell_type": "code",
   "execution_count": 32,
   "metadata": {},
   "outputs": [
    {
     "data": {
      "text/html": [
       "11"
      ],
      "text/latex": [
       "11"
      ],
      "text/markdown": [
       "11"
      ],
      "text/plain": [
       "[1] 11"
      ]
     },
     "metadata": {},
     "output_type": "display_data"
    }
   ],
   "source": [
    "length(dat$pathway)"
   ]
  },
  {
   "cell_type": "code",
   "execution_count": 33,
   "metadata": {},
   "outputs": [
    {
     "ename": "ERROR",
     "evalue": "Error in parse(text = x, srcfile = src): <text>:1:16: unexpected ','\n1: 'DNase-H3K4me3',\n                   ^\n",
     "output_type": "error",
     "traceback": [
      "Error in parse(text = x, srcfile = src): <text>:1:16: unexpected ','\n1: 'DNase-H3K4me3',\n                   ^\nTraceback:\n"
     ]
    }
   ],
   "source": [
    "'DNase-H3K4me3', 'CTCF-only,CTCF-bound', 'Low-DNase', 'DNase-H3K4me3,CTCF-bound', 'DNase-only', 'dELS,CTCF-bound', 'pELS,CTCF-bound', 'PLS,CTCF-bound', 'dELS', 'PLS', 'pELS'"
   ]
  },
  {
   "cell_type": "code",
   "execution_count": null,
   "metadata": {},
   "outputs": [],
   "source": []
  }
 ],
 "metadata": {
  "kernelspec": {
   "display_name": "R",
   "language": "R",
   "name": "ir"
  },
  "language_info": {
   "codemirror_mode": "r",
   "file_extension": ".r",
   "mimetype": "text/x-r-source",
   "name": "R",
   "pygments_lexer": "r",
   "version": "4.3.0"
  }
 },
 "nbformat": 4,
 "nbformat_minor": 4
}
