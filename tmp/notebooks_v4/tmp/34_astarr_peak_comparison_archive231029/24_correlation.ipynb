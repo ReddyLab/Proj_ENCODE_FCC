{
 "cells": [
  {
   "cell_type": "markdown",
   "metadata": {},
   "source": [
    "**Set environment**"
   ]
  },
  {
   "cell_type": "code",
   "execution_count": 1,
   "metadata": {},
   "outputs": [
    {
     "name": "stdout",
     "output_type": "stream",
     "text": [
      "You are in Singularity: singularity_proj_encode_fcc \n",
      "BASE DIRECTORY (FD_BASE): /data/reddylab/Kuei \n",
      "WORK DIRECTORY (FD_WORK): /data/reddylab/Kuei/out \n",
      "CODE DIRECTORY (FD_CODE): /data/reddylab/Kuei/code \n",
      "PATH OF PROJECT (FD_PRJ): /data/reddylab/Kuei/code/Proj_CombEffect_ENCODE_FCC \n",
      "PATH OF RESULTS (FD_RES): /data/reddylab/Kuei/out/proj_combeffect_encode_fcc \n",
      "PATH OF LOG     (FD_LOG): /data/reddylab/Kuei/out/proj_combeffect_encode_fcc/log \n"
     ]
    }
   ],
   "source": [
    "suppressMessages(suppressWarnings(source(\"../config/config_sing.R\")))\n",
    "show_env()"
   ]
  },
  {
   "cell_type": "markdown",
   "metadata": {},
   "source": [
    "## Import data"
   ]
  },
  {
   "cell_type": "markdown",
   "metadata": {},
   "source": [
    "**Score: RankNorm of STARR/MPRA**"
   ]
  },
  {
   "cell_type": "code",
   "execution_count": 2,
   "metadata": {},
   "outputs": [
    {
     "name": "stdout",
     "output_type": "stream",
     "text": [
      "[1] 495260      9\n"
     ]
    },
    {
     "data": {
      "text/html": [
       "<table class=\"dataframe\">\n",
       "<caption>A tibble: 6 × 9</caption>\n",
       "<thead>\n",
       "\t<tr><th scope=col>Assay</th><th scope=col>Peak</th><th scope=col>baseMean</th><th scope=col>log2FoldChange</th><th scope=col>lfcSE</th><th scope=col>stat</th><th scope=col>pvalue</th><th scope=col>padj</th><th scope=col>Dataset</th></tr>\n",
       "\t<tr><th scope=col>&lt;chr&gt;</th><th scope=col>&lt;chr&gt;</th><th scope=col>&lt;dbl&gt;</th><th scope=col>&lt;dbl&gt;</th><th scope=col>&lt;dbl&gt;</th><th scope=col>&lt;dbl&gt;</th><th scope=col>&lt;dbl&gt;</th><th scope=col>&lt;dbl&gt;</th><th scope=col>&lt;chr&gt;</th></tr>\n",
       "</thead>\n",
       "<tbody>\n",
       "\t<tr><td>ASTARR</td><td>chr1:100006256-100006880</td><td> 74.39238</td><td>-0.01311792</td><td>0.15512423</td><td>-0.08456397</td><td>9.326080e-01</td><td>0.9510236543</td><td>NA</td></tr>\n",
       "\t<tr><td>ASTARR</td><td>chr1:100010437-100010915</td><td> 48.25931</td><td>-0.80687947</td><td>0.22174651</td><td>-3.63874709</td><td>2.739677e-04</td><td>0.0008947519</td><td>NA</td></tr>\n",
       "\t<tr><td>ASTARR</td><td>chr1:10002087-10003910  </td><td>224.35927</td><td>-0.34892859</td><td>0.09743886</td><td>-3.58100041</td><td>3.422811e-04</td><td>0.0010926173</td><td>NA</td></tr>\n",
       "\t<tr><td>ASTARR</td><td>chr1:100021298-100021629</td><td> 38.13434</td><td>-1.03799571</td><td>0.25401013</td><td>-4.08643436</td><td>4.380534e-05</td><td>0.0001707736</td><td>NA</td></tr>\n",
       "\t<tr><td>ASTARR</td><td>chr1:100023727-100023976</td><td> 32.62049</td><td>-0.19100207</td><td>0.25625467</td><td>-0.74536036</td><td>4.560539e-01</td><td>0.5497617125</td><td>NA</td></tr>\n",
       "\t<tr><td>ASTARR</td><td>chr1:100027983-100029702</td><td>290.98442</td><td>-0.18001582</td><td>0.09610434</td><td>-1.87312902</td><td>6.105057e-02</td><td>0.1032752224</td><td>NA</td></tr>\n",
       "</tbody>\n",
       "</table>\n"
      ],
      "text/latex": [
       "A tibble: 6 × 9\n",
       "\\begin{tabular}{lllllllll}\n",
       " Assay & Peak & baseMean & log2FoldChange & lfcSE & stat & pvalue & padj & Dataset\\\\\n",
       " <chr> & <chr> & <dbl> & <dbl> & <dbl> & <dbl> & <dbl> & <dbl> & <chr>\\\\\n",
       "\\hline\n",
       "\t ASTARR & chr1:100006256-100006880 &  74.39238 & -0.01311792 & 0.15512423 & -0.08456397 & 9.326080e-01 & 0.9510236543 & NA\\\\\n",
       "\t ASTARR & chr1:100010437-100010915 &  48.25931 & -0.80687947 & 0.22174651 & -3.63874709 & 2.739677e-04 & 0.0008947519 & NA\\\\\n",
       "\t ASTARR & chr1:10002087-10003910   & 224.35927 & -0.34892859 & 0.09743886 & -3.58100041 & 3.422811e-04 & 0.0010926173 & NA\\\\\n",
       "\t ASTARR & chr1:100021298-100021629 &  38.13434 & -1.03799571 & 0.25401013 & -4.08643436 & 4.380534e-05 & 0.0001707736 & NA\\\\\n",
       "\t ASTARR & chr1:100023727-100023976 &  32.62049 & -0.19100207 & 0.25625467 & -0.74536036 & 4.560539e-01 & 0.5497617125 & NA\\\\\n",
       "\t ASTARR & chr1:100027983-100029702 & 290.98442 & -0.18001582 & 0.09610434 & -1.87312902 & 6.105057e-02 & 0.1032752224 & NA\\\\\n",
       "\\end{tabular}\n"
      ],
      "text/markdown": [
       "\n",
       "A tibble: 6 × 9\n",
       "\n",
       "| Assay &lt;chr&gt; | Peak &lt;chr&gt; | baseMean &lt;dbl&gt; | log2FoldChange &lt;dbl&gt; | lfcSE &lt;dbl&gt; | stat &lt;dbl&gt; | pvalue &lt;dbl&gt; | padj &lt;dbl&gt; | Dataset &lt;chr&gt; |\n",
       "|---|---|---|---|---|---|---|---|---|\n",
       "| ASTARR | chr1:100006256-100006880 |  74.39238 | -0.01311792 | 0.15512423 | -0.08456397 | 9.326080e-01 | 0.9510236543 | NA |\n",
       "| ASTARR | chr1:100010437-100010915 |  48.25931 | -0.80687947 | 0.22174651 | -3.63874709 | 2.739677e-04 | 0.0008947519 | NA |\n",
       "| ASTARR | chr1:10002087-10003910   | 224.35927 | -0.34892859 | 0.09743886 | -3.58100041 | 3.422811e-04 | 0.0010926173 | NA |\n",
       "| ASTARR | chr1:100021298-100021629 |  38.13434 | -1.03799571 | 0.25401013 | -4.08643436 | 4.380534e-05 | 0.0001707736 | NA |\n",
       "| ASTARR | chr1:100023727-100023976 |  32.62049 | -0.19100207 | 0.25625467 | -0.74536036 | 4.560539e-01 | 0.5497617125 | NA |\n",
       "| ASTARR | chr1:100027983-100029702 | 290.98442 | -0.18001582 | 0.09610434 | -1.87312902 | 6.105057e-02 | 0.1032752224 | NA |\n",
       "\n"
      ],
      "text/plain": [
       "  Assay  Peak                     baseMean  log2FoldChange lfcSE     \n",
       "1 ASTARR chr1:100006256-100006880  74.39238 -0.01311792    0.15512423\n",
       "2 ASTARR chr1:100010437-100010915  48.25931 -0.80687947    0.22174651\n",
       "3 ASTARR chr1:10002087-10003910   224.35927 -0.34892859    0.09743886\n",
       "4 ASTARR chr1:100021298-100021629  38.13434 -1.03799571    0.25401013\n",
       "5 ASTARR chr1:100023727-100023976  32.62049 -0.19100207    0.25625467\n",
       "6 ASTARR chr1:100027983-100029702 290.98442 -0.18001582    0.09610434\n",
       "  stat        pvalue       padj         Dataset\n",
       "1 -0.08456397 9.326080e-01 0.9510236543 NA     \n",
       "2 -3.63874709 2.739677e-04 0.0008947519 NA     \n",
       "3 -3.58100041 3.422811e-04 0.0010926173 NA     \n",
       "4 -4.08643436 4.380534e-05 0.0001707736 NA     \n",
       "5 -0.74536036 4.560539e-01 0.5497617125 NA     \n",
       "6 -1.87312902 6.105057e-02 0.1032752224 NA     "
      ]
     },
     "metadata": {},
     "output_type": "display_data"
    }
   ],
   "source": [
    "### init\n",
    "ASSAYS = c(\"KS91_K562_ASTARRseq\", \"A001_K562_WSTARRseq\", \"Tewhey_K562_TileMPRA\")\n",
    "LABELS = c(\"ASTARR\", \"WSTARR\", \"TMPRA\")\n",
    "FOLDER = \"coverage_astarrseq_peak_macs_input\"\n",
    "\n",
    "fnames = c(\n",
    "    \"result.Log2FC.raw.deseq.WGS.tsv\",\n",
    "    \"result.Log2FC.raw.deseq.WGS.tsv\",\n",
    "    \"result.Log2FC.raw.deseq.Merge.tsv\"\n",
    ")\n",
    "names(fnames) = ASSAYS\n",
    "\n",
    "### loop and import data\n",
    "lst = lapply(ASSAYS, function(ASSAY){\n",
    "    \n",
    "    ### set file directories\n",
    "    fdiry = file.path(FD_RES, \"results\", ASSAY, FOLDER, \"summary\")\n",
    "    fname = fnames[ASSAY]\n",
    "    fpath = file.path(fdiry, fname)\n",
    "\n",
    "    ### read data\n",
    "    dat = read_tsv(fpath, show_col_types = FALSE)\n",
    "    return(dat)\n",
    "})\n",
    "\n",
    "names(lst) = LABELS\n",
    "dat = bind_rows(lst, .id = \"Assay\")\n",
    "\n",
    "### assign and show\n",
    "dat_peak_score_summary_starrmpra_full = dat\n",
    "print(dim(dat))\n",
    "head(dat)"
   ]
  },
  {
   "cell_type": "markdown",
   "metadata": {},
   "source": [
    "```\n",
    "### set file directories\n",
    "fdiry = file.path(FD_RES, \"results\", \"comparison\")\n",
    "fname = \"result.ranknorm.starrmpra.full.tsv\"\n",
    "fpath = file.path(fdiry, fname)\n",
    "\n",
    "### read data\n",
    "dat = read_tsv(fpath, show_col_types = FALSE)\n",
    "\n",
    "### assign and show\n",
    "dat_peak_score_summary_starrmpra_full = dat\n",
    "print(dim(dat))\n",
    "head(dat)\n",
    "```"
   ]
  },
  {
   "cell_type": "markdown",
   "metadata": {},
   "source": [
    "```\n",
    "### set file directories\n",
    "fdiry = file.path(FD_RES, \"results\", \"comparison\")\n",
    "fname = \"result.ranknorm.starrmpra.mean.tsv\"\n",
    "fpath = file.path(fdiry, fname)\n",
    "\n",
    "### read data\n",
    "dat = read_tsv(fpath, show_col_types = FALSE)\n",
    "\n",
    "### assign and show\n",
    "dat_peak_score_summary_starrmpra_mean = dat\n",
    "print(dim(dat))\n",
    "head(dat)\n",
    "```"
   ]
  },
  {
   "cell_type": "markdown",
   "metadata": {},
   "source": [
    "**Score: CRISPRi-HCRFF**"
   ]
  },
  {
   "cell_type": "code",
   "execution_count": 3,
   "metadata": {},
   "outputs": [
    {
     "name": "stdout",
     "output_type": "stream",
     "text": [
      "[1] 1330    6\n"
     ]
    },
    {
     "data": {
      "text/html": [
       "<table class=\"dataframe\">\n",
       "<caption>A tibble: 6 × 6</caption>\n",
       "<thead>\n",
       "\t<tr><th scope=col>Peak</th><th scope=col>Mean_Tot</th><th scope=col>Mean_Pos</th><th scope=col>Mean_Neg</th><th scope=col>Count</th><th scope=col>Note</th></tr>\n",
       "\t<tr><th scope=col>&lt;chr&gt;</th><th scope=col>&lt;dbl&gt;</th><th scope=col>&lt;dbl&gt;</th><th scope=col>&lt;dbl&gt;</th><th scope=col>&lt;dbl&gt;</th><th scope=col>&lt;chr&gt;</th></tr>\n",
       "</thead>\n",
       "<tbody>\n",
       "\t<tr><td>chr11:33065336-33066228</td><td>-0.08308383</td><td>0.03675483</td><td>-0.2734393</td><td>138</td><td>CAPRIN1:138|CAT:138|LMO2:138</td></tr>\n",
       "\t<tr><td>chr11:33068519-33069100</td><td>-0.12006903</td><td>0.00000000</td><td>-0.1593220</td><td>159</td><td>CAPRIN1:159|CAT:159|LMO2:159</td></tr>\n",
       "\t<tr><td>chr11:33072412-33072630</td><td> 0.10643558</td><td>0.35299267</td><td>-0.1982723</td><td> 36</td><td>CAPRIN1:36|CAT:36|LMO2:36   </td></tr>\n",
       "\t<tr><td>chr11:33103533-33104120</td><td> 0.98158422</td><td>1.44209600</td><td> 0.0000000</td><td>  9</td><td>CAPRIN1:9|CAT:9|LMO2:9      </td></tr>\n",
       "\t<tr><td>chr11:33114629-33115134</td><td> 0.22095793</td><td>0.42649733</td><td> 0.0000000</td><td> 27</td><td>CAPRIN1:27|CAT:27|LMO2:27   </td></tr>\n",
       "\t<tr><td>chr11:33125296-33126416</td><td>-0.05128921</td><td>0.04323581</td><td>-0.1542515</td><td>159</td><td>CAPRIN1:159|CAT:159|LMO2:159</td></tr>\n",
       "</tbody>\n",
       "</table>\n"
      ],
      "text/latex": [
       "A tibble: 6 × 6\n",
       "\\begin{tabular}{llllll}\n",
       " Peak & Mean\\_Tot & Mean\\_Pos & Mean\\_Neg & Count & Note\\\\\n",
       " <chr> & <dbl> & <dbl> & <dbl> & <dbl> & <chr>\\\\\n",
       "\\hline\n",
       "\t chr11:33065336-33066228 & -0.08308383 & 0.03675483 & -0.2734393 & 138 & CAPRIN1:138\\textbar{}CAT:138\\textbar{}LMO2:138\\\\\n",
       "\t chr11:33068519-33069100 & -0.12006903 & 0.00000000 & -0.1593220 & 159 & CAPRIN1:159\\textbar{}CAT:159\\textbar{}LMO2:159\\\\\n",
       "\t chr11:33072412-33072630 &  0.10643558 & 0.35299267 & -0.1982723 &  36 & CAPRIN1:36\\textbar{}CAT:36\\textbar{}LMO2:36   \\\\\n",
       "\t chr11:33103533-33104120 &  0.98158422 & 1.44209600 &  0.0000000 &   9 & CAPRIN1:9\\textbar{}CAT:9\\textbar{}LMO2:9      \\\\\n",
       "\t chr11:33114629-33115134 &  0.22095793 & 0.42649733 &  0.0000000 &  27 & CAPRIN1:27\\textbar{}CAT:27\\textbar{}LMO2:27   \\\\\n",
       "\t chr11:33125296-33126416 & -0.05128921 & 0.04323581 & -0.1542515 & 159 & CAPRIN1:159\\textbar{}CAT:159\\textbar{}LMO2:159\\\\\n",
       "\\end{tabular}\n"
      ],
      "text/markdown": [
       "\n",
       "A tibble: 6 × 6\n",
       "\n",
       "| Peak &lt;chr&gt; | Mean_Tot &lt;dbl&gt; | Mean_Pos &lt;dbl&gt; | Mean_Neg &lt;dbl&gt; | Count &lt;dbl&gt; | Note &lt;chr&gt; |\n",
       "|---|---|---|---|---|---|\n",
       "| chr11:33065336-33066228 | -0.08308383 | 0.03675483 | -0.2734393 | 138 | CAPRIN1:138|CAT:138|LMO2:138 |\n",
       "| chr11:33068519-33069100 | -0.12006903 | 0.00000000 | -0.1593220 | 159 | CAPRIN1:159|CAT:159|LMO2:159 |\n",
       "| chr11:33072412-33072630 |  0.10643558 | 0.35299267 | -0.1982723 |  36 | CAPRIN1:36|CAT:36|LMO2:36    |\n",
       "| chr11:33103533-33104120 |  0.98158422 | 1.44209600 |  0.0000000 |   9 | CAPRIN1:9|CAT:9|LMO2:9       |\n",
       "| chr11:33114629-33115134 |  0.22095793 | 0.42649733 |  0.0000000 |  27 | CAPRIN1:27|CAT:27|LMO2:27    |\n",
       "| chr11:33125296-33126416 | -0.05128921 | 0.04323581 | -0.1542515 | 159 | CAPRIN1:159|CAT:159|LMO2:159 |\n",
       "\n"
      ],
      "text/plain": [
       "  Peak                    Mean_Tot    Mean_Pos   Mean_Neg   Count\n",
       "1 chr11:33065336-33066228 -0.08308383 0.03675483 -0.2734393 138  \n",
       "2 chr11:33068519-33069100 -0.12006903 0.00000000 -0.1593220 159  \n",
       "3 chr11:33072412-33072630  0.10643558 0.35299267 -0.1982723  36  \n",
       "4 chr11:33103533-33104120  0.98158422 1.44209600  0.0000000   9  \n",
       "5 chr11:33114629-33115134  0.22095793 0.42649733  0.0000000  27  \n",
       "6 chr11:33125296-33126416 -0.05128921 0.04323581 -0.1542515 159  \n",
       "  Note                        \n",
       "1 CAPRIN1:138|CAT:138|LMO2:138\n",
       "2 CAPRIN1:159|CAT:159|LMO2:159\n",
       "3 CAPRIN1:36|CAT:36|LMO2:36   \n",
       "4 CAPRIN1:9|CAT:9|LMO2:9      \n",
       "5 CAPRIN1:27|CAT:27|LMO2:27   \n",
       "6 CAPRIN1:159|CAT:159|LMO2:159"
      ]
     },
     "metadata": {},
     "output_type": "display_data"
    }
   ],
   "source": [
    "ASSAY   = \"CRISPRi_FlowFISH\"\n",
    "FOLDER  = \"coverage_astarrseq_peak_macs_input\"\n",
    "\n",
    "fdiry = file.path(FD_RES, \"results\", ASSAY, FOLDER, \"summary\")\n",
    "fname = \"results.summary.Merge.tsv\"\n",
    "fpath = file.path(fdiry, fname)\n",
    "\n",
    "dat = read_tsv(fpath, show_col_types = FALSE)\n",
    "\n",
    "dat_peak_score_summary_crispri_hcrff = dat\n",
    "print(dim(dat))\n",
    "head(dat)"
   ]
  },
  {
   "cell_type": "markdown",
   "metadata": {},
   "source": [
    "**Score: CRISPRi-Growth**"
   ]
  },
  {
   "cell_type": "code",
   "execution_count": 4,
   "metadata": {},
   "outputs": [
    {
     "name": "stdout",
     "output_type": "stream",
     "text": [
      "[1] 80288     8\n"
     ]
    },
    {
     "data": {
      "text/html": [
       "<table class=\"dataframe\">\n",
       "<caption>A tibble: 6 × 8</caption>\n",
       "<thead>\n",
       "\t<tr><th scope=col>Peak</th><th scope=col>Mean</th><th scope=col>Median</th><th scope=col>Max</th><th scope=col>Min</th><th scope=col>Count</th><th scope=col>Mean_Neg</th><th scope=col>Mean_Pos</th></tr>\n",
       "\t<tr><th scope=col>&lt;chr&gt;</th><th scope=col>&lt;dbl&gt;</th><th scope=col>&lt;dbl&gt;</th><th scope=col>&lt;dbl&gt;</th><th scope=col>&lt;dbl&gt;</th><th scope=col>&lt;dbl&gt;</th><th scope=col>&lt;dbl&gt;</th><th scope=col>&lt;dbl&gt;</th></tr>\n",
       "</thead>\n",
       "<tbody>\n",
       "\t<tr><td>chr10:100009096-100010466</td><td>-0.03786170</td><td> 0.0303830</td><td>0.526902</td><td>-0.655965</td><td>10</td><td>-0.3840866</td><td>0.3083632</td></tr>\n",
       "\t<tr><td>chr10:100045961-100046653</td><td> 0.10873570</td><td> 0.1820295</td><td>0.646953</td><td>-0.497578</td><td>10</td><td>-0.2750008</td><td>0.3645600</td></tr>\n",
       "\t<tr><td>chr10:100065094-100065486</td><td>-0.00323730</td><td>-0.0931995</td><td>1.305380</td><td>-0.677550</td><td>10</td><td>-0.3639722</td><td>0.5378650</td></tr>\n",
       "\t<tr><td>chr10:100129051-100131059</td><td>-0.26576144</td><td>-0.2617330</td><td>0.253159</td><td>-0.767330</td><td> 9</td><td>-0.4522120</td><td>0.1071397</td></tr>\n",
       "\t<tr><td>chr10:100185017-100187275</td><td>-0.01202196</td><td>-0.0613300</td><td>0.730481</td><td>-0.954435</td><td>25</td><td>-0.2790666</td><td>0.3278531</td></tr>\n",
       "\t<tr><td>chr10:100228452-100230090</td><td>-0.01822050</td><td> 0.0722880</td><td>0.446912</td><td>-0.768059</td><td>10</td><td>-0.3293750</td><td>0.1892158</td></tr>\n",
       "</tbody>\n",
       "</table>\n"
      ],
      "text/latex": [
       "A tibble: 6 × 8\n",
       "\\begin{tabular}{llllllll}\n",
       " Peak & Mean & Median & Max & Min & Count & Mean\\_Neg & Mean\\_Pos\\\\\n",
       " <chr> & <dbl> & <dbl> & <dbl> & <dbl> & <dbl> & <dbl> & <dbl>\\\\\n",
       "\\hline\n",
       "\t chr10:100009096-100010466 & -0.03786170 &  0.0303830 & 0.526902 & -0.655965 & 10 & -0.3840866 & 0.3083632\\\\\n",
       "\t chr10:100045961-100046653 &  0.10873570 &  0.1820295 & 0.646953 & -0.497578 & 10 & -0.2750008 & 0.3645600\\\\\n",
       "\t chr10:100065094-100065486 & -0.00323730 & -0.0931995 & 1.305380 & -0.677550 & 10 & -0.3639722 & 0.5378650\\\\\n",
       "\t chr10:100129051-100131059 & -0.26576144 & -0.2617330 & 0.253159 & -0.767330 &  9 & -0.4522120 & 0.1071397\\\\\n",
       "\t chr10:100185017-100187275 & -0.01202196 & -0.0613300 & 0.730481 & -0.954435 & 25 & -0.2790666 & 0.3278531\\\\\n",
       "\t chr10:100228452-100230090 & -0.01822050 &  0.0722880 & 0.446912 & -0.768059 & 10 & -0.3293750 & 0.1892158\\\\\n",
       "\\end{tabular}\n"
      ],
      "text/markdown": [
       "\n",
       "A tibble: 6 × 8\n",
       "\n",
       "| Peak &lt;chr&gt; | Mean &lt;dbl&gt; | Median &lt;dbl&gt; | Max &lt;dbl&gt; | Min &lt;dbl&gt; | Count &lt;dbl&gt; | Mean_Neg &lt;dbl&gt; | Mean_Pos &lt;dbl&gt; |\n",
       "|---|---|---|---|---|---|---|---|\n",
       "| chr10:100009096-100010466 | -0.03786170 |  0.0303830 | 0.526902 | -0.655965 | 10 | -0.3840866 | 0.3083632 |\n",
       "| chr10:100045961-100046653 |  0.10873570 |  0.1820295 | 0.646953 | -0.497578 | 10 | -0.2750008 | 0.3645600 |\n",
       "| chr10:100065094-100065486 | -0.00323730 | -0.0931995 | 1.305380 | -0.677550 | 10 | -0.3639722 | 0.5378650 |\n",
       "| chr10:100129051-100131059 | -0.26576144 | -0.2617330 | 0.253159 | -0.767330 |  9 | -0.4522120 | 0.1071397 |\n",
       "| chr10:100185017-100187275 | -0.01202196 | -0.0613300 | 0.730481 | -0.954435 | 25 | -0.2790666 | 0.3278531 |\n",
       "| chr10:100228452-100230090 | -0.01822050 |  0.0722880 | 0.446912 | -0.768059 | 10 | -0.3293750 | 0.1892158 |\n",
       "\n"
      ],
      "text/plain": [
       "  Peak                      Mean        Median     Max      Min       Count\n",
       "1 chr10:100009096-100010466 -0.03786170  0.0303830 0.526902 -0.655965 10   \n",
       "2 chr10:100045961-100046653  0.10873570  0.1820295 0.646953 -0.497578 10   \n",
       "3 chr10:100065094-100065486 -0.00323730 -0.0931995 1.305380 -0.677550 10   \n",
       "4 chr10:100129051-100131059 -0.26576144 -0.2617330 0.253159 -0.767330  9   \n",
       "5 chr10:100185017-100187275 -0.01202196 -0.0613300 0.730481 -0.954435 25   \n",
       "6 chr10:100228452-100230090 -0.01822050  0.0722880 0.446912 -0.768059 10   \n",
       "  Mean_Neg   Mean_Pos \n",
       "1 -0.3840866 0.3083632\n",
       "2 -0.2750008 0.3645600\n",
       "3 -0.3639722 0.5378650\n",
       "4 -0.4522120 0.1071397\n",
       "5 -0.2790666 0.3278531\n",
       "6 -0.3293750 0.1892158"
      ]
     },
     "metadata": {},
     "output_type": "display_data"
    }
   ],
   "source": [
    "ASSAY   = \"CRISPRi_Growth_K562_Gersbach\"\n",
    "FOLDER  = \"coverage_astarrseq_peak_macs_input\"\n",
    "\n",
    "fdiry = file.path(FD_RES, \"results\", ASSAY, FOLDER, \"summary\")\n",
    "fname = \"results.summary.tsv\"\n",
    "fpath = file.path(fdiry, fname)\n",
    "\n",
    "dat = read_tsv(fpath, show_col_types = FALSE)\n",
    "\n",
    "dat_peak_score_summary_crispri_growth = dat\n",
    "print(dim(dat))\n",
    "head(dat)"
   ]
  },
  {
   "cell_type": "markdown",
   "metadata": {},
   "source": [
    "**Score: LentiMPRA**"
   ]
  },
  {
   "cell_type": "code",
   "execution_count": 5,
   "metadata": {},
   "outputs": [
    {
     "name": "stdout",
     "output_type": "stream",
     "text": [
      "[1] 68420     8\n"
     ]
    },
    {
     "data": {
      "text/html": [
       "<table class=\"dataframe\">\n",
       "<caption>A tibble: 6 × 8</caption>\n",
       "<thead>\n",
       "\t<tr><th scope=col>Peak</th><th scope=col>Mean</th><th scope=col>Median</th><th scope=col>Max</th><th scope=col>Min</th><th scope=col>Count</th><th scope=col>Mean_Neg</th><th scope=col>Mean_Pos</th></tr>\n",
       "\t<tr><th scope=col>&lt;chr&gt;</th><th scope=col>&lt;dbl&gt;</th><th scope=col>&lt;dbl&gt;</th><th scope=col>&lt;dbl&gt;</th><th scope=col>&lt;dbl&gt;</th><th scope=col>&lt;dbl&gt;</th><th scope=col>&lt;dbl&gt;</th><th scope=col>&lt;dbl&gt;</th></tr>\n",
       "</thead>\n",
       "<tbody>\n",
       "\t<tr><td>chr10:100045961-100046653</td><td>1.35946554</td><td>1.35946554</td><td>1.4810917</td><td> 1.23783940</td><td>2</td><td> 0.0000000</td><td>1.3594655</td></tr>\n",
       "\t<tr><td>chr10:100065094-100065486</td><td>1.07264569</td><td>1.07264569</td><td>1.3503890</td><td> 0.79490241</td><td>2</td><td> 0.0000000</td><td>1.0726457</td></tr>\n",
       "\t<tr><td>chr10:100081317-100081607</td><td>0.08511404</td><td>0.08511404</td><td>0.7150285</td><td>-0.54480044</td><td>2</td><td>-0.5448004</td><td>0.7150285</td></tr>\n",
       "\t<tr><td>chr10:100129051-100131059</td><td>0.21944739</td><td>0.21944739</td><td>0.2611997</td><td> 0.17769514</td><td>2</td><td> 0.0000000</td><td>0.2194474</td></tr>\n",
       "\t<tr><td>chr10:100185017-100187275</td><td>0.59521771</td><td>0.59521771</td><td>1.1724880</td><td> 0.01794737</td><td>2</td><td> 0.0000000</td><td>0.5952177</td></tr>\n",
       "\t<tr><td>chr10:100228452-100230090</td><td>5.54013719</td><td>5.54013719</td><td>6.0266418</td><td> 5.05363263</td><td>2</td><td> 0.0000000</td><td>5.5401372</td></tr>\n",
       "</tbody>\n",
       "</table>\n"
      ],
      "text/latex": [
       "A tibble: 6 × 8\n",
       "\\begin{tabular}{llllllll}\n",
       " Peak & Mean & Median & Max & Min & Count & Mean\\_Neg & Mean\\_Pos\\\\\n",
       " <chr> & <dbl> & <dbl> & <dbl> & <dbl> & <dbl> & <dbl> & <dbl>\\\\\n",
       "\\hline\n",
       "\t chr10:100045961-100046653 & 1.35946554 & 1.35946554 & 1.4810917 &  1.23783940 & 2 &  0.0000000 & 1.3594655\\\\\n",
       "\t chr10:100065094-100065486 & 1.07264569 & 1.07264569 & 1.3503890 &  0.79490241 & 2 &  0.0000000 & 1.0726457\\\\\n",
       "\t chr10:100081317-100081607 & 0.08511404 & 0.08511404 & 0.7150285 & -0.54480044 & 2 & -0.5448004 & 0.7150285\\\\\n",
       "\t chr10:100129051-100131059 & 0.21944739 & 0.21944739 & 0.2611997 &  0.17769514 & 2 &  0.0000000 & 0.2194474\\\\\n",
       "\t chr10:100185017-100187275 & 0.59521771 & 0.59521771 & 1.1724880 &  0.01794737 & 2 &  0.0000000 & 0.5952177\\\\\n",
       "\t chr10:100228452-100230090 & 5.54013719 & 5.54013719 & 6.0266418 &  5.05363263 & 2 &  0.0000000 & 5.5401372\\\\\n",
       "\\end{tabular}\n"
      ],
      "text/markdown": [
       "\n",
       "A tibble: 6 × 8\n",
       "\n",
       "| Peak &lt;chr&gt; | Mean &lt;dbl&gt; | Median &lt;dbl&gt; | Max &lt;dbl&gt; | Min &lt;dbl&gt; | Count &lt;dbl&gt; | Mean_Neg &lt;dbl&gt; | Mean_Pos &lt;dbl&gt; |\n",
       "|---|---|---|---|---|---|---|---|\n",
       "| chr10:100045961-100046653 | 1.35946554 | 1.35946554 | 1.4810917 |  1.23783940 | 2 |  0.0000000 | 1.3594655 |\n",
       "| chr10:100065094-100065486 | 1.07264569 | 1.07264569 | 1.3503890 |  0.79490241 | 2 |  0.0000000 | 1.0726457 |\n",
       "| chr10:100081317-100081607 | 0.08511404 | 0.08511404 | 0.7150285 | -0.54480044 | 2 | -0.5448004 | 0.7150285 |\n",
       "| chr10:100129051-100131059 | 0.21944739 | 0.21944739 | 0.2611997 |  0.17769514 | 2 |  0.0000000 | 0.2194474 |\n",
       "| chr10:100185017-100187275 | 0.59521771 | 0.59521771 | 1.1724880 |  0.01794737 | 2 |  0.0000000 | 0.5952177 |\n",
       "| chr10:100228452-100230090 | 5.54013719 | 5.54013719 | 6.0266418 |  5.05363263 | 2 |  0.0000000 | 5.5401372 |\n",
       "\n"
      ],
      "text/plain": [
       "  Peak                      Mean       Median     Max       Min         Count\n",
       "1 chr10:100045961-100046653 1.35946554 1.35946554 1.4810917  1.23783940 2    \n",
       "2 chr10:100065094-100065486 1.07264569 1.07264569 1.3503890  0.79490241 2    \n",
       "3 chr10:100081317-100081607 0.08511404 0.08511404 0.7150285 -0.54480044 2    \n",
       "4 chr10:100129051-100131059 0.21944739 0.21944739 0.2611997  0.17769514 2    \n",
       "5 chr10:100185017-100187275 0.59521771 0.59521771 1.1724880  0.01794737 2    \n",
       "6 chr10:100228452-100230090 5.54013719 5.54013719 6.0266418  5.05363263 2    \n",
       "  Mean_Neg   Mean_Pos \n",
       "1  0.0000000 1.3594655\n",
       "2  0.0000000 1.0726457\n",
       "3 -0.5448004 0.7150285\n",
       "4  0.0000000 0.2194474\n",
       "5  0.0000000 0.5952177\n",
       "6  0.0000000 5.5401372"
      ]
     },
     "metadata": {},
     "output_type": "display_data"
    }
   ],
   "source": [
    "ASSAY   = \"LentiMPRA_K562_Nadav\"\n",
    "FOLDER  = \"coverage_astarrseq_peak_macs_input\"\n",
    "\n",
    "fdiry = file.path(FD_RES, \"results\", ASSAY, FOLDER, \"summary\")\n",
    "fname = \"results.summary.vikram230621.tsv\"\n",
    "fpath = file.path(fdiry, fname)\n",
    "\n",
    "dat = read_tsv(fpath, show_col_types = FALSE)\n",
    "\n",
    "dat_peak_score_summary_lmpra = dat\n",
    "print(dim(dat))\n",
    "head(dat)"
   ]
  },
  {
   "cell_type": "markdown",
   "metadata": {},
   "source": [
    "**Score: ATAC**"
   ]
  },
  {
   "cell_type": "code",
   "execution_count": 6,
   "metadata": {},
   "outputs": [
    {
     "name": "stdout",
     "output_type": "stream",
     "text": [
      "[1] 246852     15\n"
     ]
    },
    {
     "data": {
      "text/html": [
       "<table class=\"dataframe\">\n",
       "<caption>A tibble: 6 × 15</caption>\n",
       "<thead>\n",
       "\t<tr><th scope=col>Chrom</th><th scope=col>Start</th><th scope=col>End</th><th scope=col>Peak</th><th scope=col>Length</th><th scope=col>Input</th><th scope=col>Output</th><th scope=col>Log2FC</th><th scope=col>pLog2FC</th><th scope=col>Input_Residual</th><th scope=col>Input_Score</th><th scope=col>Output_Residual</th><th scope=col>Output_Score</th><th scope=col>Input_FPKM</th><th scope=col>Output_FPKM</th></tr>\n",
       "\t<tr><th scope=col>&lt;chr&gt;</th><th scope=col>&lt;dbl&gt;</th><th scope=col>&lt;dbl&gt;</th><th scope=col>&lt;chr&gt;</th><th scope=col>&lt;dbl&gt;</th><th scope=col>&lt;dbl&gt;</th><th scope=col>&lt;dbl&gt;</th><th scope=col>&lt;dbl&gt;</th><th scope=col>&lt;dbl&gt;</th><th scope=col>&lt;dbl&gt;</th><th scope=col>&lt;dbl&gt;</th><th scope=col>&lt;dbl&gt;</th><th scope=col>&lt;dbl&gt;</th><th scope=col>&lt;dbl&gt;</th><th scope=col>&lt;dbl&gt;</th></tr>\n",
       "</thead>\n",
       "<tbody>\n",
       "\t<tr><td>chr1</td><td>10015</td><td>10442</td><td>chr1:10015-10442</td><td>427</td><td>0.4863317</td><td>0.09736537</td><td>-2.3204599</td><td>-0.43771215</td><td> 0.25149985</td><td>0.1362392</td><td>-0.1433799</td><td>0.07463616</td><td>1.1389501</td><td>0.2280219</td></tr>\n",
       "\t<tr><td>chr1</td><td>14253</td><td>14645</td><td>chr1:14253-14645</td><td>392</td><td>0.3152472</td><td>0.27902967</td><td>-0.1760648</td><td>-0.04028420</td><td> 0.19879784</td><td>0.1357280</td><td> 0.1693269</td><td>0.07589325</td><td>0.8042019</td><td>0.7118104</td></tr>\n",
       "\t<tr><td>chr1</td><td>16015</td><td>16477</td><td>chr1:16015-16477</td><td>462</td><td>0.4361424</td><td>0.15900628</td><td>-1.4557156</td><td>-0.30931046</td><td> 0.08292808</td><td>0.1346040</td><td>-0.2127815</td><td>0.07435717</td><td>0.9440313</td><td>0.3441694</td></tr>\n",
       "\t<tr><td>chr1</td><td>17237</td><td>17772</td><td>chr1:17237-17772</td><td>535</td><td>0.8007562</td><td>0.22194085</td><td>-1.8511878</td><td>-0.55942840</td><td> 0.20062968</td><td>0.1357457</td><td>-0.4231641</td><td>0.07351143</td><td>1.4967405</td><td>0.4148427</td></tr>\n",
       "\t<tr><td>chr1</td><td>28903</td><td>29613</td><td>chr1:28903-29613</td><td>710</td><td>0.7629703</td><td>0.16679463</td><td>-2.1935541</td><td>-0.59545755</td><td>-0.42906879</td><td>0.1296375</td><td>-1.1335228</td><td>0.07065579</td><td>1.0746061</td><td>0.2349220</td></tr>\n",
       "\t<tr><td>chr1</td><td>30803</td><td>31072</td><td>chr1:30803-31072</td><td>269</td><td>0.2774187</td><td>0.21678565</td><td>-0.3557958</td><td>-0.07015643</td><td> 0.57699942</td><td>0.1393966</td><td> 0.5676036</td><td>0.07749432</td><td>1.0312963</td><td>0.8058946</td></tr>\n",
       "</tbody>\n",
       "</table>\n"
      ],
      "text/latex": [
       "A tibble: 6 × 15\n",
       "\\begin{tabular}{lllllllllllllll}\n",
       " Chrom & Start & End & Peak & Length & Input & Output & Log2FC & pLog2FC & Input\\_Residual & Input\\_Score & Output\\_Residual & Output\\_Score & Input\\_FPKM & Output\\_FPKM\\\\\n",
       " <chr> & <dbl> & <dbl> & <chr> & <dbl> & <dbl> & <dbl> & <dbl> & <dbl> & <dbl> & <dbl> & <dbl> & <dbl> & <dbl> & <dbl>\\\\\n",
       "\\hline\n",
       "\t chr1 & 10015 & 10442 & chr1:10015-10442 & 427 & 0.4863317 & 0.09736537 & -2.3204599 & -0.43771215 &  0.25149985 & 0.1362392 & -0.1433799 & 0.07463616 & 1.1389501 & 0.2280219\\\\\n",
       "\t chr1 & 14253 & 14645 & chr1:14253-14645 & 392 & 0.3152472 & 0.27902967 & -0.1760648 & -0.04028420 &  0.19879784 & 0.1357280 &  0.1693269 & 0.07589325 & 0.8042019 & 0.7118104\\\\\n",
       "\t chr1 & 16015 & 16477 & chr1:16015-16477 & 462 & 0.4361424 & 0.15900628 & -1.4557156 & -0.30931046 &  0.08292808 & 0.1346040 & -0.2127815 & 0.07435717 & 0.9440313 & 0.3441694\\\\\n",
       "\t chr1 & 17237 & 17772 & chr1:17237-17772 & 535 & 0.8007562 & 0.22194085 & -1.8511878 & -0.55942840 &  0.20062968 & 0.1357457 & -0.4231641 & 0.07351143 & 1.4967405 & 0.4148427\\\\\n",
       "\t chr1 & 28903 & 29613 & chr1:28903-29613 & 710 & 0.7629703 & 0.16679463 & -2.1935541 & -0.59545755 & -0.42906879 & 0.1296375 & -1.1335228 & 0.07065579 & 1.0746061 & 0.2349220\\\\\n",
       "\t chr1 & 30803 & 31072 & chr1:30803-31072 & 269 & 0.2774187 & 0.21678565 & -0.3557958 & -0.07015643 &  0.57699942 & 0.1393966 &  0.5676036 & 0.07749432 & 1.0312963 & 0.8058946\\\\\n",
       "\\end{tabular}\n"
      ],
      "text/markdown": [
       "\n",
       "A tibble: 6 × 15\n",
       "\n",
       "| Chrom &lt;chr&gt; | Start &lt;dbl&gt; | End &lt;dbl&gt; | Peak &lt;chr&gt; | Length &lt;dbl&gt; | Input &lt;dbl&gt; | Output &lt;dbl&gt; | Log2FC &lt;dbl&gt; | pLog2FC &lt;dbl&gt; | Input_Residual &lt;dbl&gt; | Input_Score &lt;dbl&gt; | Output_Residual &lt;dbl&gt; | Output_Score &lt;dbl&gt; | Input_FPKM &lt;dbl&gt; | Output_FPKM &lt;dbl&gt; |\n",
       "|---|---|---|---|---|---|---|---|---|---|---|---|---|---|---|\n",
       "| chr1 | 10015 | 10442 | chr1:10015-10442 | 427 | 0.4863317 | 0.09736537 | -2.3204599 | -0.43771215 |  0.25149985 | 0.1362392 | -0.1433799 | 0.07463616 | 1.1389501 | 0.2280219 |\n",
       "| chr1 | 14253 | 14645 | chr1:14253-14645 | 392 | 0.3152472 | 0.27902967 | -0.1760648 | -0.04028420 |  0.19879784 | 0.1357280 |  0.1693269 | 0.07589325 | 0.8042019 | 0.7118104 |\n",
       "| chr1 | 16015 | 16477 | chr1:16015-16477 | 462 | 0.4361424 | 0.15900628 | -1.4557156 | -0.30931046 |  0.08292808 | 0.1346040 | -0.2127815 | 0.07435717 | 0.9440313 | 0.3441694 |\n",
       "| chr1 | 17237 | 17772 | chr1:17237-17772 | 535 | 0.8007562 | 0.22194085 | -1.8511878 | -0.55942840 |  0.20062968 | 0.1357457 | -0.4231641 | 0.07351143 | 1.4967405 | 0.4148427 |\n",
       "| chr1 | 28903 | 29613 | chr1:28903-29613 | 710 | 0.7629703 | 0.16679463 | -2.1935541 | -0.59545755 | -0.42906879 | 0.1296375 | -1.1335228 | 0.07065579 | 1.0746061 | 0.2349220 |\n",
       "| chr1 | 30803 | 31072 | chr1:30803-31072 | 269 | 0.2774187 | 0.21678565 | -0.3557958 | -0.07015643 |  0.57699942 | 0.1393966 |  0.5676036 | 0.07749432 | 1.0312963 | 0.8058946 |\n",
       "\n"
      ],
      "text/plain": [
       "  Chrom Start End   Peak             Length Input     Output     Log2FC    \n",
       "1 chr1  10015 10442 chr1:10015-10442 427    0.4863317 0.09736537 -2.3204599\n",
       "2 chr1  14253 14645 chr1:14253-14645 392    0.3152472 0.27902967 -0.1760648\n",
       "3 chr1  16015 16477 chr1:16015-16477 462    0.4361424 0.15900628 -1.4557156\n",
       "4 chr1  17237 17772 chr1:17237-17772 535    0.8007562 0.22194085 -1.8511878\n",
       "5 chr1  28903 29613 chr1:28903-29613 710    0.7629703 0.16679463 -2.1935541\n",
       "6 chr1  30803 31072 chr1:30803-31072 269    0.2774187 0.21678565 -0.3557958\n",
       "  pLog2FC     Input_Residual Input_Score Output_Residual Output_Score\n",
       "1 -0.43771215  0.25149985    0.1362392   -0.1433799      0.07463616  \n",
       "2 -0.04028420  0.19879784    0.1357280    0.1693269      0.07589325  \n",
       "3 -0.30931046  0.08292808    0.1346040   -0.2127815      0.07435717  \n",
       "4 -0.55942840  0.20062968    0.1357457   -0.4231641      0.07351143  \n",
       "5 -0.59545755 -0.42906879    0.1296375   -1.1335228      0.07065579  \n",
       "6 -0.07015643  0.57699942    0.1393966    0.5676036      0.07749432  \n",
       "  Input_FPKM Output_FPKM\n",
       "1 1.1389501  0.2280219  \n",
       "2 0.8042019  0.7118104  \n",
       "3 0.9440313  0.3441694  \n",
       "4 1.4967405  0.4148427  \n",
       "5 1.0746061  0.2349220  \n",
       "6 1.0312963  0.8058946  "
      ]
     },
     "metadata": {},
     "output_type": "display_data"
    }
   ],
   "source": [
    "fdiry = file.path(\n",
    "    FD_RES, \n",
    "    \"results\", \n",
    "    \"KS91_K562_ASTARRseq\", \n",
    "    \"coverage_astarrseq_peak_macs_input\",\n",
    "    \"summary\"\n",
    ")\n",
    "fname = \"result.score.raw.cpm.WGS.tsv\"\n",
    "fpath = file.path(fdiry, fname)\n",
    "\n",
    "### read data\n",
    "dat = read_tsv(fpath, show_col_types = FALSE)\n",
    "\n",
    "### assign and show\n",
    "dat_peak_score_summary_astarr = dat\n",
    "print(dim(dat))\n",
    "head(dat)"
   ]
  },
  {
   "cell_type": "markdown",
   "metadata": {},
   "source": [
    "## Arrange"
   ]
  },
  {
   "cell_type": "markdown",
   "metadata": {},
   "source": [
    "**STARR/TMPRA**"
   ]
  },
  {
   "cell_type": "code",
   "execution_count": 7,
   "metadata": {},
   "outputs": [
    {
     "name": "stdout",
     "output_type": "stream",
     "text": [
      "[1] 495260      3\n"
     ]
    },
    {
     "data": {
      "text/html": [
       "<table class=\"dataframe\">\n",
       "<caption>A tibble: 6 × 3</caption>\n",
       "<thead>\n",
       "\t<tr><th scope=col>Assay</th><th scope=col>Peak</th><th scope=col>Score</th></tr>\n",
       "\t<tr><th scope=col>&lt;chr&gt;</th><th scope=col>&lt;chr&gt;</th><th scope=col>&lt;dbl&gt;</th></tr>\n",
       "</thead>\n",
       "<tbody>\n",
       "\t<tr><td>ASTARR</td><td>chr1:100006256-100006880</td><td>-0.01311792</td></tr>\n",
       "\t<tr><td>ASTARR</td><td>chr1:100010437-100010915</td><td>-0.80687947</td></tr>\n",
       "\t<tr><td>ASTARR</td><td>chr1:10002087-10003910  </td><td>-0.34892859</td></tr>\n",
       "\t<tr><td>ASTARR</td><td>chr1:100021298-100021629</td><td>-1.03799571</td></tr>\n",
       "\t<tr><td>ASTARR</td><td>chr1:100023727-100023976</td><td>-0.19100207</td></tr>\n",
       "\t<tr><td>ASTARR</td><td>chr1:100027983-100029702</td><td>-0.18001582</td></tr>\n",
       "</tbody>\n",
       "</table>\n"
      ],
      "text/latex": [
       "A tibble: 6 × 3\n",
       "\\begin{tabular}{lll}\n",
       " Assay & Peak & Score\\\\\n",
       " <chr> & <chr> & <dbl>\\\\\n",
       "\\hline\n",
       "\t ASTARR & chr1:100006256-100006880 & -0.01311792\\\\\n",
       "\t ASTARR & chr1:100010437-100010915 & -0.80687947\\\\\n",
       "\t ASTARR & chr1:10002087-10003910   & -0.34892859\\\\\n",
       "\t ASTARR & chr1:100021298-100021629 & -1.03799571\\\\\n",
       "\t ASTARR & chr1:100023727-100023976 & -0.19100207\\\\\n",
       "\t ASTARR & chr1:100027983-100029702 & -0.18001582\\\\\n",
       "\\end{tabular}\n"
      ],
      "text/markdown": [
       "\n",
       "A tibble: 6 × 3\n",
       "\n",
       "| Assay &lt;chr&gt; | Peak &lt;chr&gt; | Score &lt;dbl&gt; |\n",
       "|---|---|---|\n",
       "| ASTARR | chr1:100006256-100006880 | -0.01311792 |\n",
       "| ASTARR | chr1:100010437-100010915 | -0.80687947 |\n",
       "| ASTARR | chr1:10002087-10003910   | -0.34892859 |\n",
       "| ASTARR | chr1:100021298-100021629 | -1.03799571 |\n",
       "| ASTARR | chr1:100023727-100023976 | -0.19100207 |\n",
       "| ASTARR | chr1:100027983-100029702 | -0.18001582 |\n",
       "\n"
      ],
      "text/plain": [
       "  Assay  Peak                     Score      \n",
       "1 ASTARR chr1:100006256-100006880 -0.01311792\n",
       "2 ASTARR chr1:100010437-100010915 -0.80687947\n",
       "3 ASTARR chr1:10002087-10003910   -0.34892859\n",
       "4 ASTARR chr1:100021298-100021629 -1.03799571\n",
       "5 ASTARR chr1:100023727-100023976 -0.19100207\n",
       "6 ASTARR chr1:100027983-100029702 -0.18001582"
      ]
     },
     "metadata": {},
     "output_type": "display_data"
    }
   ],
   "source": [
    "dat = dat_peak_score_summary_starrmpra_full\n",
    "dat = dat %>% \n",
    "    dplyr::mutate(Score = log2FoldChange) %>%\n",
    "    dplyr::select(Assay, Peak, Score)\n",
    "\n",
    "dat_score_starrmpra = dat\n",
    "print(dim(dat))\n",
    "head(dat)"
   ]
  },
  {
   "cell_type": "markdown",
   "metadata": {},
   "source": [
    "**ATAC (ASTARR Input)**"
   ]
  },
  {
   "cell_type": "code",
   "execution_count": 8,
   "metadata": {},
   "outputs": [
    {
     "name": "stdout",
     "output_type": "stream",
     "text": [
      "[1] 246852      3\n"
     ]
    },
    {
     "data": {
      "text/html": [
       "<table class=\"dataframe\">\n",
       "<caption>A tibble: 6 × 3</caption>\n",
       "<thead>\n",
       "\t<tr><th scope=col>Assay</th><th scope=col>Peak</th><th scope=col>Score</th></tr>\n",
       "\t<tr><th scope=col>&lt;chr&gt;</th><th scope=col>&lt;chr&gt;</th><th scope=col>&lt;dbl&gt;</th></tr>\n",
       "</thead>\n",
       "<tbody>\n",
       "\t<tr><td>ATAC</td><td>chr1:10015-10442</td><td>1.1389501</td></tr>\n",
       "\t<tr><td>ATAC</td><td>chr1:14253-14645</td><td>0.8042019</td></tr>\n",
       "\t<tr><td>ATAC</td><td>chr1:16015-16477</td><td>0.9440313</td></tr>\n",
       "\t<tr><td>ATAC</td><td>chr1:17237-17772</td><td>1.4967405</td></tr>\n",
       "\t<tr><td>ATAC</td><td>chr1:28903-29613</td><td>1.0746061</td></tr>\n",
       "\t<tr><td>ATAC</td><td>chr1:30803-31072</td><td>1.0312963</td></tr>\n",
       "</tbody>\n",
       "</table>\n"
      ],
      "text/latex": [
       "A tibble: 6 × 3\n",
       "\\begin{tabular}{lll}\n",
       " Assay & Peak & Score\\\\\n",
       " <chr> & <chr> & <dbl>\\\\\n",
       "\\hline\n",
       "\t ATAC & chr1:10015-10442 & 1.1389501\\\\\n",
       "\t ATAC & chr1:14253-14645 & 0.8042019\\\\\n",
       "\t ATAC & chr1:16015-16477 & 0.9440313\\\\\n",
       "\t ATAC & chr1:17237-17772 & 1.4967405\\\\\n",
       "\t ATAC & chr1:28903-29613 & 1.0746061\\\\\n",
       "\t ATAC & chr1:30803-31072 & 1.0312963\\\\\n",
       "\\end{tabular}\n"
      ],
      "text/markdown": [
       "\n",
       "A tibble: 6 × 3\n",
       "\n",
       "| Assay &lt;chr&gt; | Peak &lt;chr&gt; | Score &lt;dbl&gt; |\n",
       "|---|---|---|\n",
       "| ATAC | chr1:10015-10442 | 1.1389501 |\n",
       "| ATAC | chr1:14253-14645 | 0.8042019 |\n",
       "| ATAC | chr1:16015-16477 | 0.9440313 |\n",
       "| ATAC | chr1:17237-17772 | 1.4967405 |\n",
       "| ATAC | chr1:28903-29613 | 1.0746061 |\n",
       "| ATAC | chr1:30803-31072 | 1.0312963 |\n",
       "\n"
      ],
      "text/plain": [
       "  Assay Peak             Score    \n",
       "1 ATAC  chr1:10015-10442 1.1389501\n",
       "2 ATAC  chr1:14253-14645 0.8042019\n",
       "3 ATAC  chr1:16015-16477 0.9440313\n",
       "4 ATAC  chr1:17237-17772 1.4967405\n",
       "5 ATAC  chr1:28903-29613 1.0746061\n",
       "6 ATAC  chr1:30803-31072 1.0312963"
      ]
     },
     "metadata": {},
     "output_type": "display_data"
    }
   ],
   "source": [
    "dat = dat_peak_score_summary_astarr\n",
    "dat = dat %>% \n",
    "    dplyr::mutate(Assay = \"ATAC\", Score = Input_FPKM) %>%\n",
    "    dplyr::select(Assay, Peak, Score)\n",
    "\n",
    "dat_score_atac = dat\n",
    "print(dim(dat))\n",
    "head(dat)"
   ]
  },
  {
   "cell_type": "markdown",
   "metadata": {},
   "source": [
    "**CRISPRi-HCRFF**"
   ]
  },
  {
   "cell_type": "code",
   "execution_count": 9,
   "metadata": {},
   "outputs": [
    {
     "name": "stdout",
     "output_type": "stream",
     "text": [
      "[1] 1330    3\n"
     ]
    },
    {
     "data": {
      "text/html": [
       "<table class=\"dataframe\">\n",
       "<caption>A tibble: 6 × 3</caption>\n",
       "<thead>\n",
       "\t<tr><th scope=col>Assay</th><th scope=col>Peak</th><th scope=col>Score</th></tr>\n",
       "\t<tr><th scope=col>&lt;chr&gt;</th><th scope=col>&lt;chr&gt;</th><th scope=col>&lt;dbl&gt;</th></tr>\n",
       "</thead>\n",
       "<tbody>\n",
       "\t<tr><td>CRISPRi-HCRFF</td><td>chr11:33065336-33066228</td><td>-0.08308383</td></tr>\n",
       "\t<tr><td>CRISPRi-HCRFF</td><td>chr11:33068519-33069100</td><td>-0.12006903</td></tr>\n",
       "\t<tr><td>CRISPRi-HCRFF</td><td>chr11:33072412-33072630</td><td> 0.10643558</td></tr>\n",
       "\t<tr><td>CRISPRi-HCRFF</td><td>chr11:33103533-33104120</td><td> 0.98158422</td></tr>\n",
       "\t<tr><td>CRISPRi-HCRFF</td><td>chr11:33114629-33115134</td><td> 0.22095793</td></tr>\n",
       "\t<tr><td>CRISPRi-HCRFF</td><td>chr11:33125296-33126416</td><td>-0.05128921</td></tr>\n",
       "</tbody>\n",
       "</table>\n"
      ],
      "text/latex": [
       "A tibble: 6 × 3\n",
       "\\begin{tabular}{lll}\n",
       " Assay & Peak & Score\\\\\n",
       " <chr> & <chr> & <dbl>\\\\\n",
       "\\hline\n",
       "\t CRISPRi-HCRFF & chr11:33065336-33066228 & -0.08308383\\\\\n",
       "\t CRISPRi-HCRFF & chr11:33068519-33069100 & -0.12006903\\\\\n",
       "\t CRISPRi-HCRFF & chr11:33072412-33072630 &  0.10643558\\\\\n",
       "\t CRISPRi-HCRFF & chr11:33103533-33104120 &  0.98158422\\\\\n",
       "\t CRISPRi-HCRFF & chr11:33114629-33115134 &  0.22095793\\\\\n",
       "\t CRISPRi-HCRFF & chr11:33125296-33126416 & -0.05128921\\\\\n",
       "\\end{tabular}\n"
      ],
      "text/markdown": [
       "\n",
       "A tibble: 6 × 3\n",
       "\n",
       "| Assay &lt;chr&gt; | Peak &lt;chr&gt; | Score &lt;dbl&gt; |\n",
       "|---|---|---|\n",
       "| CRISPRi-HCRFF | chr11:33065336-33066228 | -0.08308383 |\n",
       "| CRISPRi-HCRFF | chr11:33068519-33069100 | -0.12006903 |\n",
       "| CRISPRi-HCRFF | chr11:33072412-33072630 |  0.10643558 |\n",
       "| CRISPRi-HCRFF | chr11:33103533-33104120 |  0.98158422 |\n",
       "| CRISPRi-HCRFF | chr11:33114629-33115134 |  0.22095793 |\n",
       "| CRISPRi-HCRFF | chr11:33125296-33126416 | -0.05128921 |\n",
       "\n"
      ],
      "text/plain": [
       "  Assay         Peak                    Score      \n",
       "1 CRISPRi-HCRFF chr11:33065336-33066228 -0.08308383\n",
       "2 CRISPRi-HCRFF chr11:33068519-33069100 -0.12006903\n",
       "3 CRISPRi-HCRFF chr11:33072412-33072630  0.10643558\n",
       "4 CRISPRi-HCRFF chr11:33103533-33104120  0.98158422\n",
       "5 CRISPRi-HCRFF chr11:33114629-33115134  0.22095793\n",
       "6 CRISPRi-HCRFF chr11:33125296-33126416 -0.05128921"
      ]
     },
     "metadata": {},
     "output_type": "display_data"
    }
   ],
   "source": [
    "dat = dat_peak_score_summary_crispri_hcrff\n",
    "dat = dat %>% \n",
    "    dplyr::mutate(Assay = \"CRISPRi-HCRFF\", Score = Mean_Tot) %>%\n",
    "    dplyr::select(Assay, Peak, Score)\n",
    "\n",
    "dat_score_crispri_hcrff = dat\n",
    "print(dim(dat))\n",
    "head(dat)"
   ]
  },
  {
   "cell_type": "markdown",
   "metadata": {},
   "source": [
    "**CRISPRi-Growth**"
   ]
  },
  {
   "cell_type": "code",
   "execution_count": 10,
   "metadata": {},
   "outputs": [
    {
     "name": "stdout",
     "output_type": "stream",
     "text": [
      "[1] 80288     3\n"
     ]
    },
    {
     "data": {
      "text/html": [
       "<table class=\"dataframe\">\n",
       "<caption>A tibble: 6 × 3</caption>\n",
       "<thead>\n",
       "\t<tr><th scope=col>Assay</th><th scope=col>Peak</th><th scope=col>Score</th></tr>\n",
       "\t<tr><th scope=col>&lt;chr&gt;</th><th scope=col>&lt;chr&gt;</th><th scope=col>&lt;dbl&gt;</th></tr>\n",
       "</thead>\n",
       "<tbody>\n",
       "\t<tr><td>CRISPRi-Growth</td><td>chr10:100009096-100010466</td><td>-0.03786170</td></tr>\n",
       "\t<tr><td>CRISPRi-Growth</td><td>chr10:100045961-100046653</td><td> 0.10873570</td></tr>\n",
       "\t<tr><td>CRISPRi-Growth</td><td>chr10:100065094-100065486</td><td>-0.00323730</td></tr>\n",
       "\t<tr><td>CRISPRi-Growth</td><td>chr10:100129051-100131059</td><td>-0.26576144</td></tr>\n",
       "\t<tr><td>CRISPRi-Growth</td><td>chr10:100185017-100187275</td><td>-0.01202196</td></tr>\n",
       "\t<tr><td>CRISPRi-Growth</td><td>chr10:100228452-100230090</td><td>-0.01822050</td></tr>\n",
       "</tbody>\n",
       "</table>\n"
      ],
      "text/latex": [
       "A tibble: 6 × 3\n",
       "\\begin{tabular}{lll}\n",
       " Assay & Peak & Score\\\\\n",
       " <chr> & <chr> & <dbl>\\\\\n",
       "\\hline\n",
       "\t CRISPRi-Growth & chr10:100009096-100010466 & -0.03786170\\\\\n",
       "\t CRISPRi-Growth & chr10:100045961-100046653 &  0.10873570\\\\\n",
       "\t CRISPRi-Growth & chr10:100065094-100065486 & -0.00323730\\\\\n",
       "\t CRISPRi-Growth & chr10:100129051-100131059 & -0.26576144\\\\\n",
       "\t CRISPRi-Growth & chr10:100185017-100187275 & -0.01202196\\\\\n",
       "\t CRISPRi-Growth & chr10:100228452-100230090 & -0.01822050\\\\\n",
       "\\end{tabular}\n"
      ],
      "text/markdown": [
       "\n",
       "A tibble: 6 × 3\n",
       "\n",
       "| Assay &lt;chr&gt; | Peak &lt;chr&gt; | Score &lt;dbl&gt; |\n",
       "|---|---|---|\n",
       "| CRISPRi-Growth | chr10:100009096-100010466 | -0.03786170 |\n",
       "| CRISPRi-Growth | chr10:100045961-100046653 |  0.10873570 |\n",
       "| CRISPRi-Growth | chr10:100065094-100065486 | -0.00323730 |\n",
       "| CRISPRi-Growth | chr10:100129051-100131059 | -0.26576144 |\n",
       "| CRISPRi-Growth | chr10:100185017-100187275 | -0.01202196 |\n",
       "| CRISPRi-Growth | chr10:100228452-100230090 | -0.01822050 |\n",
       "\n"
      ],
      "text/plain": [
       "  Assay          Peak                      Score      \n",
       "1 CRISPRi-Growth chr10:100009096-100010466 -0.03786170\n",
       "2 CRISPRi-Growth chr10:100045961-100046653  0.10873570\n",
       "3 CRISPRi-Growth chr10:100065094-100065486 -0.00323730\n",
       "4 CRISPRi-Growth chr10:100129051-100131059 -0.26576144\n",
       "5 CRISPRi-Growth chr10:100185017-100187275 -0.01202196\n",
       "6 CRISPRi-Growth chr10:100228452-100230090 -0.01822050"
      ]
     },
     "metadata": {},
     "output_type": "display_data"
    }
   ],
   "source": [
    "dat = dat_peak_score_summary_crispri_growth\n",
    "dat = dat %>% \n",
    "    dplyr::mutate(Assay = \"CRISPRi-Growth\", Score = Mean) %>%\n",
    "    dplyr::select(Assay, Peak, Score)\n",
    "\n",
    "dat_score_crispri_growth = dat\n",
    "print(dim(dat))\n",
    "head(dat)"
   ]
  },
  {
   "cell_type": "markdown",
   "metadata": {},
   "source": [
    "**LentiMPRA**"
   ]
  },
  {
   "cell_type": "code",
   "execution_count": 11,
   "metadata": {},
   "outputs": [
    {
     "name": "stdout",
     "output_type": "stream",
     "text": [
      "[1] 68420     3\n"
     ]
    },
    {
     "data": {
      "text/html": [
       "<table class=\"dataframe\">\n",
       "<caption>A tibble: 6 × 3</caption>\n",
       "<thead>\n",
       "\t<tr><th scope=col>Assay</th><th scope=col>Peak</th><th scope=col>Score</th></tr>\n",
       "\t<tr><th scope=col>&lt;chr&gt;</th><th scope=col>&lt;chr&gt;</th><th scope=col>&lt;dbl&gt;</th></tr>\n",
       "</thead>\n",
       "<tbody>\n",
       "\t<tr><td>LMPRA</td><td>chr10:100045961-100046653</td><td>1.35946554</td></tr>\n",
       "\t<tr><td>LMPRA</td><td>chr10:100065094-100065486</td><td>1.07264569</td></tr>\n",
       "\t<tr><td>LMPRA</td><td>chr10:100081317-100081607</td><td>0.08511404</td></tr>\n",
       "\t<tr><td>LMPRA</td><td>chr10:100129051-100131059</td><td>0.21944739</td></tr>\n",
       "\t<tr><td>LMPRA</td><td>chr10:100185017-100187275</td><td>0.59521771</td></tr>\n",
       "\t<tr><td>LMPRA</td><td>chr10:100228452-100230090</td><td>5.54013719</td></tr>\n",
       "</tbody>\n",
       "</table>\n"
      ],
      "text/latex": [
       "A tibble: 6 × 3\n",
       "\\begin{tabular}{lll}\n",
       " Assay & Peak & Score\\\\\n",
       " <chr> & <chr> & <dbl>\\\\\n",
       "\\hline\n",
       "\t LMPRA & chr10:100045961-100046653 & 1.35946554\\\\\n",
       "\t LMPRA & chr10:100065094-100065486 & 1.07264569\\\\\n",
       "\t LMPRA & chr10:100081317-100081607 & 0.08511404\\\\\n",
       "\t LMPRA & chr10:100129051-100131059 & 0.21944739\\\\\n",
       "\t LMPRA & chr10:100185017-100187275 & 0.59521771\\\\\n",
       "\t LMPRA & chr10:100228452-100230090 & 5.54013719\\\\\n",
       "\\end{tabular}\n"
      ],
      "text/markdown": [
       "\n",
       "A tibble: 6 × 3\n",
       "\n",
       "| Assay &lt;chr&gt; | Peak &lt;chr&gt; | Score &lt;dbl&gt; |\n",
       "|---|---|---|\n",
       "| LMPRA | chr10:100045961-100046653 | 1.35946554 |\n",
       "| LMPRA | chr10:100065094-100065486 | 1.07264569 |\n",
       "| LMPRA | chr10:100081317-100081607 | 0.08511404 |\n",
       "| LMPRA | chr10:100129051-100131059 | 0.21944739 |\n",
       "| LMPRA | chr10:100185017-100187275 | 0.59521771 |\n",
       "| LMPRA | chr10:100228452-100230090 | 5.54013719 |\n",
       "\n"
      ],
      "text/plain": [
       "  Assay Peak                      Score     \n",
       "1 LMPRA chr10:100045961-100046653 1.35946554\n",
       "2 LMPRA chr10:100065094-100065486 1.07264569\n",
       "3 LMPRA chr10:100081317-100081607 0.08511404\n",
       "4 LMPRA chr10:100129051-100131059 0.21944739\n",
       "5 LMPRA chr10:100185017-100187275 0.59521771\n",
       "6 LMPRA chr10:100228452-100230090 5.54013719"
      ]
     },
     "metadata": {},
     "output_type": "display_data"
    }
   ],
   "source": [
    "dat = dat_peak_score_summary_lmpra\n",
    "dat = dat %>% \n",
    "    dplyr::mutate(Assay = \"LMPRA\", Score = Mean) %>%\n",
    "    dplyr::select(Assay, Peak, Score)\n",
    "\n",
    "dat_score_lmpra = dat\n",
    "print(dim(dat))\n",
    "head(dat)"
   ]
  },
  {
   "cell_type": "markdown",
   "metadata": {},
   "source": [
    "## Combine"
   ]
  },
  {
   "cell_type": "code",
   "execution_count": 20,
   "metadata": {},
   "outputs": [
    {
     "name": "stdout",
     "output_type": "stream",
     "text": [
      "[1] \"ASTARR\"         \"ATAC\"           \"CRISPRi-Growth\" \"CRISPRi-HCRFF\" \n",
      "[5] \"LMPRA\"          \"TMPRA\"          \"WSTARR\"        \n",
      "[1] 892150      3\n"
     ]
    },
    {
     "data": {
      "text/html": [
       "<table class=\"dataframe\">\n",
       "<caption>A tibble: 6 × 3</caption>\n",
       "<thead>\n",
       "\t<tr><th scope=col>Assay</th><th scope=col>Peak</th><th scope=col>Score</th></tr>\n",
       "\t<tr><th scope=col>&lt;chr&gt;</th><th scope=col>&lt;chr&gt;</th><th scope=col>&lt;dbl&gt;</th></tr>\n",
       "</thead>\n",
       "<tbody>\n",
       "\t<tr><td>ASTARR</td><td>chr1:100006256-100006880</td><td>-0.01311792</td></tr>\n",
       "\t<tr><td>ASTARR</td><td>chr1:100010437-100010915</td><td>-0.80687947</td></tr>\n",
       "\t<tr><td>ASTARR</td><td>chr1:10002087-10003910  </td><td>-0.34892859</td></tr>\n",
       "\t<tr><td>ASTARR</td><td>chr1:100021298-100021629</td><td>-1.03799571</td></tr>\n",
       "\t<tr><td>ASTARR</td><td>chr1:100023727-100023976</td><td>-0.19100207</td></tr>\n",
       "\t<tr><td>ASTARR</td><td>chr1:100027983-100029702</td><td>-0.18001582</td></tr>\n",
       "</tbody>\n",
       "</table>\n"
      ],
      "text/latex": [
       "A tibble: 6 × 3\n",
       "\\begin{tabular}{lll}\n",
       " Assay & Peak & Score\\\\\n",
       " <chr> & <chr> & <dbl>\\\\\n",
       "\\hline\n",
       "\t ASTARR & chr1:100006256-100006880 & -0.01311792\\\\\n",
       "\t ASTARR & chr1:100010437-100010915 & -0.80687947\\\\\n",
       "\t ASTARR & chr1:10002087-10003910   & -0.34892859\\\\\n",
       "\t ASTARR & chr1:100021298-100021629 & -1.03799571\\\\\n",
       "\t ASTARR & chr1:100023727-100023976 & -0.19100207\\\\\n",
       "\t ASTARR & chr1:100027983-100029702 & -0.18001582\\\\\n",
       "\\end{tabular}\n"
      ],
      "text/markdown": [
       "\n",
       "A tibble: 6 × 3\n",
       "\n",
       "| Assay &lt;chr&gt; | Peak &lt;chr&gt; | Score &lt;dbl&gt; |\n",
       "|---|---|---|\n",
       "| ASTARR | chr1:100006256-100006880 | -0.01311792 |\n",
       "| ASTARR | chr1:100010437-100010915 | -0.80687947 |\n",
       "| ASTARR | chr1:10002087-10003910   | -0.34892859 |\n",
       "| ASTARR | chr1:100021298-100021629 | -1.03799571 |\n",
       "| ASTARR | chr1:100023727-100023976 | -0.19100207 |\n",
       "| ASTARR | chr1:100027983-100029702 | -0.18001582 |\n",
       "\n"
      ],
      "text/plain": [
       "  Assay  Peak                     Score      \n",
       "1 ASTARR chr1:100006256-100006880 -0.01311792\n",
       "2 ASTARR chr1:100010437-100010915 -0.80687947\n",
       "3 ASTARR chr1:10002087-10003910   -0.34892859\n",
       "4 ASTARR chr1:100021298-100021629 -1.03799571\n",
       "5 ASTARR chr1:100023727-100023976 -0.19100207\n",
       "6 ASTARR chr1:100027983-100029702 -0.18001582"
      ]
     },
     "metadata": {},
     "output_type": "display_data"
    }
   ],
   "source": [
    "lst = list(\n",
    "    dat_score_starrmpra,\n",
    "    dat_score_lmpra,\n",
    "    dat_score_crispri_hcrff,\n",
    "    dat_score_crispri_growth,\n",
    "    dat_score_atac\n",
    ")\n",
    "\n",
    "dat = bind_rows(lst)\n",
    "lst = split(dat, dat$Assay)\n",
    "\n",
    "dat_score_merge = dat\n",
    "lst_score_merge = lst\n",
    "print(names(lst))\n",
    "print(dim(dat))\n",
    "head(dat)"
   ]
  },
  {
   "cell_type": "code",
   "execution_count": 21,
   "metadata": {},
   "outputs": [
    {
     "data": {
      "text/plain": [
       "\n",
       "        ASTARR           ATAC CRISPRi-Growth  CRISPRi-HCRFF          LMPRA \n",
       "        246850         246852          80288           1330          68420 \n",
       "         TMPRA         WSTARR \n",
       "          1722         246688 "
      ]
     },
     "metadata": {},
     "output_type": "display_data"
    }
   ],
   "source": [
    "dat = dat_score_merge\n",
    "table(dat$Assay)"
   ]
  },
  {
   "cell_type": "code",
   "execution_count": 52,
   "metadata": {},
   "outputs": [
    {
     "name": "stdout",
     "output_type": "stream",
     "text": [
      "[1] 49  4\n"
     ]
    },
    {
     "data": {
      "text/html": [
       "<table class=\"dataframe\">\n",
       "<caption>A data.frame: 49 × 4</caption>\n",
       "<thead>\n",
       "\t<tr><th scope=col>Assay1</th><th scope=col>Assay2</th><th scope=col>Count</th><th scope=col>Correlation</th></tr>\n",
       "\t<tr><th scope=col>&lt;chr&gt;</th><th scope=col>&lt;chr&gt;</th><th scope=col>&lt;chr&gt;</th><th scope=col>&lt;dbl&gt;</th></tr>\n",
       "</thead>\n",
       "<tbody>\n",
       "\t<tr><td>ASTARR        </td><td>ASTARR        </td><td>246850</td><td> 1.000000000</td></tr>\n",
       "\t<tr><td>ATAC          </td><td>ASTARR        </td><td>246850</td><td> 0.094091979</td></tr>\n",
       "\t<tr><td>CRISPRi-Growth</td><td>ASTARR        </td><td>80288 </td><td>-0.018035144</td></tr>\n",
       "\t<tr><td>CRISPRi-HCRFF </td><td>ASTARR        </td><td>1330  </td><td> 0.064354946</td></tr>\n",
       "\t<tr><td>LMPRA         </td><td>ASTARR        </td><td>68420 </td><td> 0.203478532</td></tr>\n",
       "\t<tr><td>TMPRA         </td><td>ASTARR        </td><td>1722  </td><td> 0.208043995</td></tr>\n",
       "\t<tr><td>WSTARR        </td><td>ASTARR        </td><td>246683</td><td> 0.239029242</td></tr>\n",
       "\t<tr><td>ASTARR        </td><td>ATAC          </td><td>246850</td><td> 0.094091979</td></tr>\n",
       "\t<tr><td>ATAC          </td><td>ATAC          </td><td>246852</td><td> 1.000000000</td></tr>\n",
       "\t<tr><td>CRISPRi-Growth</td><td>ATAC          </td><td>80288 </td><td> 0.087898281</td></tr>\n",
       "\t<tr><td>CRISPRi-HCRFF </td><td>ATAC          </td><td>1330  </td><td> 0.065926062</td></tr>\n",
       "\t<tr><td>LMPRA         </td><td>ATAC          </td><td>68420 </td><td> 0.283943604</td></tr>\n",
       "\t<tr><td>TMPRA         </td><td>ATAC          </td><td>1722  </td><td> 0.450044707</td></tr>\n",
       "\t<tr><td>WSTARR        </td><td>ATAC          </td><td>246684</td><td> 0.291007467</td></tr>\n",
       "\t<tr><td>ASTARR        </td><td>CRISPRi-Growth</td><td>80288 </td><td>-0.018035144</td></tr>\n",
       "\t<tr><td>ATAC          </td><td>CRISPRi-Growth</td><td>80288 </td><td> 0.087898281</td></tr>\n",
       "\t<tr><td>CRISPRi-Growth</td><td>CRISPRi-Growth</td><td>80288 </td><td> 1.000000000</td></tr>\n",
       "\t<tr><td>CRISPRi-HCRFF </td><td>CRISPRi-Growth</td><td>558   </td><td> 0.070265702</td></tr>\n",
       "\t<tr><td>LMPRA         </td><td>CRISPRi-Growth</td><td>53900 </td><td> 0.073292628</td></tr>\n",
       "\t<tr><td>TMPRA         </td><td>CRISPRi-Growth</td><td>708   </td><td> 0.153386072</td></tr>\n",
       "\t<tr><td>WSTARR        </td><td>CRISPRi-Growth</td><td>80270 </td><td> 0.094069222</td></tr>\n",
       "\t<tr><td>ASTARR        </td><td>CRISPRi-HCRFF </td><td>1330  </td><td> 0.064354946</td></tr>\n",
       "\t<tr><td>ATAC          </td><td>CRISPRi-HCRFF </td><td>1330  </td><td> 0.065926062</td></tr>\n",
       "\t<tr><td>CRISPRi-Growth</td><td>CRISPRi-HCRFF </td><td>558   </td><td> 0.070265702</td></tr>\n",
       "\t<tr><td>CRISPRi-HCRFF </td><td>CRISPRi-HCRFF </td><td>1330  </td><td> 1.000000000</td></tr>\n",
       "\t<tr><td>LMPRA         </td><td>CRISPRi-HCRFF </td><td>719   </td><td> 0.018517564</td></tr>\n",
       "\t<tr><td>TMPRA         </td><td>CRISPRi-HCRFF </td><td>632   </td><td> 0.001951819</td></tr>\n",
       "\t<tr><td>WSTARR        </td><td>CRISPRi-HCRFF </td><td>1330  </td><td> 0.035550241</td></tr>\n",
       "\t<tr><td>ASTARR        </td><td>LMPRA         </td><td>68420 </td><td> 0.203478532</td></tr>\n",
       "\t<tr><td>ATAC          </td><td>LMPRA         </td><td>68420 </td><td> 0.283943604</td></tr>\n",
       "\t<tr><td>CRISPRi-Growth</td><td>LMPRA         </td><td>53900 </td><td> 0.073292628</td></tr>\n",
       "\t<tr><td>CRISPRi-HCRFF </td><td>LMPRA         </td><td>719   </td><td> 0.018517564</td></tr>\n",
       "\t<tr><td>LMPRA         </td><td>LMPRA         </td><td>68420 </td><td> 1.000000000</td></tr>\n",
       "\t<tr><td>TMPRA         </td><td>LMPRA         </td><td>1241  </td><td> 0.444814666</td></tr>\n",
       "\t<tr><td>WSTARR        </td><td>LMPRA         </td><td>68407 </td><td> 0.398918004</td></tr>\n",
       "\t<tr><td>ASTARR        </td><td>TMPRA         </td><td>1722  </td><td> 0.208043995</td></tr>\n",
       "\t<tr><td>ATAC          </td><td>TMPRA         </td><td>1722  </td><td> 0.450044707</td></tr>\n",
       "\t<tr><td>CRISPRi-Growth</td><td>TMPRA         </td><td>708   </td><td> 0.153386072</td></tr>\n",
       "\t<tr><td>CRISPRi-HCRFF </td><td>TMPRA         </td><td>632   </td><td> 0.001951819</td></tr>\n",
       "\t<tr><td>LMPRA         </td><td>TMPRA         </td><td>1241  </td><td> 0.444814666</td></tr>\n",
       "\t<tr><td>TMPRA         </td><td>TMPRA         </td><td>1722  </td><td> 1.000000000</td></tr>\n",
       "\t<tr><td>WSTARR        </td><td>TMPRA         </td><td>1722  </td><td> 0.537486978</td></tr>\n",
       "\t<tr><td>ASTARR        </td><td>WSTARR        </td><td>246683</td><td> 0.239029242</td></tr>\n",
       "\t<tr><td>ATAC          </td><td>WSTARR        </td><td>246684</td><td> 0.291007467</td></tr>\n",
       "\t<tr><td>CRISPRi-Growth</td><td>WSTARR        </td><td>80270 </td><td> 0.094069222</td></tr>\n",
       "\t<tr><td>CRISPRi-HCRFF </td><td>WSTARR        </td><td>1330  </td><td> 0.035550241</td></tr>\n",
       "\t<tr><td>LMPRA         </td><td>WSTARR        </td><td>68407 </td><td> 0.398918004</td></tr>\n",
       "\t<tr><td>TMPRA         </td><td>WSTARR        </td><td>1722  </td><td> 0.537486978</td></tr>\n",
       "\t<tr><td>WSTARR        </td><td>WSTARR        </td><td>246688</td><td> 1.000000000</td></tr>\n",
       "</tbody>\n",
       "</table>\n"
      ],
      "text/latex": [
       "A data.frame: 49 × 4\n",
       "\\begin{tabular}{llll}\n",
       " Assay1 & Assay2 & Count & Correlation\\\\\n",
       " <chr> & <chr> & <chr> & <dbl>\\\\\n",
       "\\hline\n",
       "\t ASTARR         & ASTARR         & 246850 &  1.000000000\\\\\n",
       "\t ATAC           & ASTARR         & 246850 &  0.094091979\\\\\n",
       "\t CRISPRi-Growth & ASTARR         & 80288  & -0.018035144\\\\\n",
       "\t CRISPRi-HCRFF  & ASTARR         & 1330   &  0.064354946\\\\\n",
       "\t LMPRA          & ASTARR         & 68420  &  0.203478532\\\\\n",
       "\t TMPRA          & ASTARR         & 1722   &  0.208043995\\\\\n",
       "\t WSTARR         & ASTARR         & 246683 &  0.239029242\\\\\n",
       "\t ASTARR         & ATAC           & 246850 &  0.094091979\\\\\n",
       "\t ATAC           & ATAC           & 246852 &  1.000000000\\\\\n",
       "\t CRISPRi-Growth & ATAC           & 80288  &  0.087898281\\\\\n",
       "\t CRISPRi-HCRFF  & ATAC           & 1330   &  0.065926062\\\\\n",
       "\t LMPRA          & ATAC           & 68420  &  0.283943604\\\\\n",
       "\t TMPRA          & ATAC           & 1722   &  0.450044707\\\\\n",
       "\t WSTARR         & ATAC           & 246684 &  0.291007467\\\\\n",
       "\t ASTARR         & CRISPRi-Growth & 80288  & -0.018035144\\\\\n",
       "\t ATAC           & CRISPRi-Growth & 80288  &  0.087898281\\\\\n",
       "\t CRISPRi-Growth & CRISPRi-Growth & 80288  &  1.000000000\\\\\n",
       "\t CRISPRi-HCRFF  & CRISPRi-Growth & 558    &  0.070265702\\\\\n",
       "\t LMPRA          & CRISPRi-Growth & 53900  &  0.073292628\\\\\n",
       "\t TMPRA          & CRISPRi-Growth & 708    &  0.153386072\\\\\n",
       "\t WSTARR         & CRISPRi-Growth & 80270  &  0.094069222\\\\\n",
       "\t ASTARR         & CRISPRi-HCRFF  & 1330   &  0.064354946\\\\\n",
       "\t ATAC           & CRISPRi-HCRFF  & 1330   &  0.065926062\\\\\n",
       "\t CRISPRi-Growth & CRISPRi-HCRFF  & 558    &  0.070265702\\\\\n",
       "\t CRISPRi-HCRFF  & CRISPRi-HCRFF  & 1330   &  1.000000000\\\\\n",
       "\t LMPRA          & CRISPRi-HCRFF  & 719    &  0.018517564\\\\\n",
       "\t TMPRA          & CRISPRi-HCRFF  & 632    &  0.001951819\\\\\n",
       "\t WSTARR         & CRISPRi-HCRFF  & 1330   &  0.035550241\\\\\n",
       "\t ASTARR         & LMPRA          & 68420  &  0.203478532\\\\\n",
       "\t ATAC           & LMPRA          & 68420  &  0.283943604\\\\\n",
       "\t CRISPRi-Growth & LMPRA          & 53900  &  0.073292628\\\\\n",
       "\t CRISPRi-HCRFF  & LMPRA          & 719    &  0.018517564\\\\\n",
       "\t LMPRA          & LMPRA          & 68420  &  1.000000000\\\\\n",
       "\t TMPRA          & LMPRA          & 1241   &  0.444814666\\\\\n",
       "\t WSTARR         & LMPRA          & 68407  &  0.398918004\\\\\n",
       "\t ASTARR         & TMPRA          & 1722   &  0.208043995\\\\\n",
       "\t ATAC           & TMPRA          & 1722   &  0.450044707\\\\\n",
       "\t CRISPRi-Growth & TMPRA          & 708    &  0.153386072\\\\\n",
       "\t CRISPRi-HCRFF  & TMPRA          & 632    &  0.001951819\\\\\n",
       "\t LMPRA          & TMPRA          & 1241   &  0.444814666\\\\\n",
       "\t TMPRA          & TMPRA          & 1722   &  1.000000000\\\\\n",
       "\t WSTARR         & TMPRA          & 1722   &  0.537486978\\\\\n",
       "\t ASTARR         & WSTARR         & 246683 &  0.239029242\\\\\n",
       "\t ATAC           & WSTARR         & 246684 &  0.291007467\\\\\n",
       "\t CRISPRi-Growth & WSTARR         & 80270  &  0.094069222\\\\\n",
       "\t CRISPRi-HCRFF  & WSTARR         & 1330   &  0.035550241\\\\\n",
       "\t LMPRA          & WSTARR         & 68407  &  0.398918004\\\\\n",
       "\t TMPRA          & WSTARR         & 1722   &  0.537486978\\\\\n",
       "\t WSTARR         & WSTARR         & 246688 &  1.000000000\\\\\n",
       "\\end{tabular}\n"
      ],
      "text/markdown": [
       "\n",
       "A data.frame: 49 × 4\n",
       "\n",
       "| Assay1 &lt;chr&gt; | Assay2 &lt;chr&gt; | Count &lt;chr&gt; | Correlation &lt;dbl&gt; |\n",
       "|---|---|---|---|\n",
       "| ASTARR         | ASTARR         | 246850 |  1.000000000 |\n",
       "| ATAC           | ASTARR         | 246850 |  0.094091979 |\n",
       "| CRISPRi-Growth | ASTARR         | 80288  | -0.018035144 |\n",
       "| CRISPRi-HCRFF  | ASTARR         | 1330   |  0.064354946 |\n",
       "| LMPRA          | ASTARR         | 68420  |  0.203478532 |\n",
       "| TMPRA          | ASTARR         | 1722   |  0.208043995 |\n",
       "| WSTARR         | ASTARR         | 246683 |  0.239029242 |\n",
       "| ASTARR         | ATAC           | 246850 |  0.094091979 |\n",
       "| ATAC           | ATAC           | 246852 |  1.000000000 |\n",
       "| CRISPRi-Growth | ATAC           | 80288  |  0.087898281 |\n",
       "| CRISPRi-HCRFF  | ATAC           | 1330   |  0.065926062 |\n",
       "| LMPRA          | ATAC           | 68420  |  0.283943604 |\n",
       "| TMPRA          | ATAC           | 1722   |  0.450044707 |\n",
       "| WSTARR         | ATAC           | 246684 |  0.291007467 |\n",
       "| ASTARR         | CRISPRi-Growth | 80288  | -0.018035144 |\n",
       "| ATAC           | CRISPRi-Growth | 80288  |  0.087898281 |\n",
       "| CRISPRi-Growth | CRISPRi-Growth | 80288  |  1.000000000 |\n",
       "| CRISPRi-HCRFF  | CRISPRi-Growth | 558    |  0.070265702 |\n",
       "| LMPRA          | CRISPRi-Growth | 53900  |  0.073292628 |\n",
       "| TMPRA          | CRISPRi-Growth | 708    |  0.153386072 |\n",
       "| WSTARR         | CRISPRi-Growth | 80270  |  0.094069222 |\n",
       "| ASTARR         | CRISPRi-HCRFF  | 1330   |  0.064354946 |\n",
       "| ATAC           | CRISPRi-HCRFF  | 1330   |  0.065926062 |\n",
       "| CRISPRi-Growth | CRISPRi-HCRFF  | 558    |  0.070265702 |\n",
       "| CRISPRi-HCRFF  | CRISPRi-HCRFF  | 1330   |  1.000000000 |\n",
       "| LMPRA          | CRISPRi-HCRFF  | 719    |  0.018517564 |\n",
       "| TMPRA          | CRISPRi-HCRFF  | 632    |  0.001951819 |\n",
       "| WSTARR         | CRISPRi-HCRFF  | 1330   |  0.035550241 |\n",
       "| ASTARR         | LMPRA          | 68420  |  0.203478532 |\n",
       "| ATAC           | LMPRA          | 68420  |  0.283943604 |\n",
       "| CRISPRi-Growth | LMPRA          | 53900  |  0.073292628 |\n",
       "| CRISPRi-HCRFF  | LMPRA          | 719    |  0.018517564 |\n",
       "| LMPRA          | LMPRA          | 68420  |  1.000000000 |\n",
       "| TMPRA          | LMPRA          | 1241   |  0.444814666 |\n",
       "| WSTARR         | LMPRA          | 68407  |  0.398918004 |\n",
       "| ASTARR         | TMPRA          | 1722   |  0.208043995 |\n",
       "| ATAC           | TMPRA          | 1722   |  0.450044707 |\n",
       "| CRISPRi-Growth | TMPRA          | 708    |  0.153386072 |\n",
       "| CRISPRi-HCRFF  | TMPRA          | 632    |  0.001951819 |\n",
       "| LMPRA          | TMPRA          | 1241   |  0.444814666 |\n",
       "| TMPRA          | TMPRA          | 1722   |  1.000000000 |\n",
       "| WSTARR         | TMPRA          | 1722   |  0.537486978 |\n",
       "| ASTARR         | WSTARR         | 246683 |  0.239029242 |\n",
       "| ATAC           | WSTARR         | 246684 |  0.291007467 |\n",
       "| CRISPRi-Growth | WSTARR         | 80270  |  0.094069222 |\n",
       "| CRISPRi-HCRFF  | WSTARR         | 1330   |  0.035550241 |\n",
       "| LMPRA          | WSTARR         | 68407  |  0.398918004 |\n",
       "| TMPRA          | WSTARR         | 1722   |  0.537486978 |\n",
       "| WSTARR         | WSTARR         | 246688 |  1.000000000 |\n",
       "\n"
      ],
      "text/plain": [
       "   Assay1         Assay2         Count  Correlation \n",
       "1  ASTARR         ASTARR         246850  1.000000000\n",
       "2  ATAC           ASTARR         246850  0.094091979\n",
       "3  CRISPRi-Growth ASTARR         80288  -0.018035144\n",
       "4  CRISPRi-HCRFF  ASTARR         1330    0.064354946\n",
       "5  LMPRA          ASTARR         68420   0.203478532\n",
       "6  TMPRA          ASTARR         1722    0.208043995\n",
       "7  WSTARR         ASTARR         246683  0.239029242\n",
       "8  ASTARR         ATAC           246850  0.094091979\n",
       "9  ATAC           ATAC           246852  1.000000000\n",
       "10 CRISPRi-Growth ATAC           80288   0.087898281\n",
       "11 CRISPRi-HCRFF  ATAC           1330    0.065926062\n",
       "12 LMPRA          ATAC           68420   0.283943604\n",
       "13 TMPRA          ATAC           1722    0.450044707\n",
       "14 WSTARR         ATAC           246684  0.291007467\n",
       "15 ASTARR         CRISPRi-Growth 80288  -0.018035144\n",
       "16 ATAC           CRISPRi-Growth 80288   0.087898281\n",
       "17 CRISPRi-Growth CRISPRi-Growth 80288   1.000000000\n",
       "18 CRISPRi-HCRFF  CRISPRi-Growth 558     0.070265702\n",
       "19 LMPRA          CRISPRi-Growth 53900   0.073292628\n",
       "20 TMPRA          CRISPRi-Growth 708     0.153386072\n",
       "21 WSTARR         CRISPRi-Growth 80270   0.094069222\n",
       "22 ASTARR         CRISPRi-HCRFF  1330    0.064354946\n",
       "23 ATAC           CRISPRi-HCRFF  1330    0.065926062\n",
       "24 CRISPRi-Growth CRISPRi-HCRFF  558     0.070265702\n",
       "25 CRISPRi-HCRFF  CRISPRi-HCRFF  1330    1.000000000\n",
       "26 LMPRA          CRISPRi-HCRFF  719     0.018517564\n",
       "27 TMPRA          CRISPRi-HCRFF  632     0.001951819\n",
       "28 WSTARR         CRISPRi-HCRFF  1330    0.035550241\n",
       "29 ASTARR         LMPRA          68420   0.203478532\n",
       "30 ATAC           LMPRA          68420   0.283943604\n",
       "31 CRISPRi-Growth LMPRA          53900   0.073292628\n",
       "32 CRISPRi-HCRFF  LMPRA          719     0.018517564\n",
       "33 LMPRA          LMPRA          68420   1.000000000\n",
       "34 TMPRA          LMPRA          1241    0.444814666\n",
       "35 WSTARR         LMPRA          68407   0.398918004\n",
       "36 ASTARR         TMPRA          1722    0.208043995\n",
       "37 ATAC           TMPRA          1722    0.450044707\n",
       "38 CRISPRi-Growth TMPRA          708     0.153386072\n",
       "39 CRISPRi-HCRFF  TMPRA          632     0.001951819\n",
       "40 LMPRA          TMPRA          1241    0.444814666\n",
       "41 TMPRA          TMPRA          1722    1.000000000\n",
       "42 WSTARR         TMPRA          1722    0.537486978\n",
       "43 ASTARR         WSTARR         246683  0.239029242\n",
       "44 ATAC           WSTARR         246684  0.291007467\n",
       "45 CRISPRi-Growth WSTARR         80270   0.094069222\n",
       "46 CRISPRi-HCRFF  WSTARR         1330    0.035550241\n",
       "47 LMPRA          WSTARR         68407   0.398918004\n",
       "48 TMPRA          WSTARR         1722    0.537486978\n",
       "49 WSTARR         WSTARR         246688  1.000000000"
      ]
     },
     "metadata": {},
     "output_type": "display_data"
    }
   ],
   "source": [
    "lst = lst_score_merge\n",
    "vec = names(lst)\n",
    "dat = expand.grid(vec, vec)\n",
    "\n",
    "dat = apply(dat, 1, function(vec_row){\n",
    "    \n",
    "    idn1 = vec_row[1]\n",
    "    idn2 = vec_row[2]\n",
    "    \n",
    "    dat = dat_score_merge\n",
    "    dat = dat %>% \n",
    "        dplyr::filter(Assay %in% vec_row) %>% \n",
    "        tidyr::spread(Assay, Score) %>% \n",
    "        na.omit\n",
    "    \n",
    "    vec1 = dat[[idn1]]\n",
    "    vec2 = dat[[idn2]]\n",
    "    val_size = length(vec1)\n",
    "    val_corr = cor(vec1, vec2, method=\"spearman\")\n",
    "    \n",
    "    vec = c(idn1, idn2, val_size, val_corr)\n",
    "    names(vec) = c(\"Assay1\", \"Assay2\", \"Count\", \"Correlation\")\n",
    "    return(vec)\n",
    "})\n",
    "dat = as.data.frame(t(dat))\n",
    "dat = dat %>% dplyr::mutate(Correlation = as.double(Correlation))\n",
    "\n",
    "dat_score_corr = dat\n",
    "print(dim(dat))\n",
    "dat"
   ]
  },
  {
   "cell_type": "code",
   "execution_count": 74,
   "metadata": {},
   "outputs": [
    {
     "data": {
      "text/html": [
       "<table class=\"dataframe\">\n",
       "<caption>A data.frame: 49 × 4</caption>\n",
       "<thead>\n",
       "\t<tr><th scope=col>Assay1</th><th scope=col>Assay2</th><th scope=col>Count</th><th scope=col>Correlation</th></tr>\n",
       "\t<tr><th scope=col>&lt;chr&gt;</th><th scope=col>&lt;chr&gt;</th><th scope=col>&lt;chr&gt;</th><th scope=col>&lt;dbl&gt;</th></tr>\n",
       "</thead>\n",
       "<tbody>\n",
       "\t<tr><td>ASTARR        </td><td>ASTARR        </td><td>246850</td><td> 1.000000000</td></tr>\n",
       "\t<tr><td>ATAC          </td><td>ATAC          </td><td>246852</td><td> 1.000000000</td></tr>\n",
       "\t<tr><td>CRISPRi-Growth</td><td>CRISPRi-Growth</td><td>80288 </td><td> 1.000000000</td></tr>\n",
       "\t<tr><td>CRISPRi-HCRFF </td><td>CRISPRi-HCRFF </td><td>1330  </td><td> 1.000000000</td></tr>\n",
       "\t<tr><td>LMPRA         </td><td>LMPRA         </td><td>68420 </td><td> 1.000000000</td></tr>\n",
       "\t<tr><td>TMPRA         </td><td>TMPRA         </td><td>1722  </td><td> 1.000000000</td></tr>\n",
       "\t<tr><td>WSTARR        </td><td>WSTARR        </td><td>246688</td><td> 1.000000000</td></tr>\n",
       "\t<tr><td>WSTARR        </td><td>TMPRA         </td><td>1722  </td><td> 0.537486978</td></tr>\n",
       "\t<tr><td>TMPRA         </td><td>WSTARR        </td><td>1722  </td><td> 0.537486978</td></tr>\n",
       "\t<tr><td>TMPRA         </td><td>ATAC          </td><td>1722  </td><td> 0.450044707</td></tr>\n",
       "\t<tr><td>ATAC          </td><td>TMPRA         </td><td>1722  </td><td> 0.450044707</td></tr>\n",
       "\t<tr><td>TMPRA         </td><td>LMPRA         </td><td>1241  </td><td> 0.444814666</td></tr>\n",
       "\t<tr><td>LMPRA         </td><td>TMPRA         </td><td>1241  </td><td> 0.444814666</td></tr>\n",
       "\t<tr><td>WSTARR        </td><td>LMPRA         </td><td>68407 </td><td> 0.398918004</td></tr>\n",
       "\t<tr><td>LMPRA         </td><td>WSTARR        </td><td>68407 </td><td> 0.398918004</td></tr>\n",
       "\t<tr><td>WSTARR        </td><td>ATAC          </td><td>246684</td><td> 0.291007467</td></tr>\n",
       "\t<tr><td>ATAC          </td><td>WSTARR        </td><td>246684</td><td> 0.291007467</td></tr>\n",
       "\t<tr><td>LMPRA         </td><td>ATAC          </td><td>68420 </td><td> 0.283943604</td></tr>\n",
       "\t<tr><td>ATAC          </td><td>LMPRA         </td><td>68420 </td><td> 0.283943604</td></tr>\n",
       "\t<tr><td>WSTARR        </td><td>ASTARR        </td><td>246683</td><td> 0.239029242</td></tr>\n",
       "\t<tr><td>ASTARR        </td><td>WSTARR        </td><td>246683</td><td> 0.239029242</td></tr>\n",
       "\t<tr><td>TMPRA         </td><td>ASTARR        </td><td>1722  </td><td> 0.208043995</td></tr>\n",
       "\t<tr><td>ASTARR        </td><td>TMPRA         </td><td>1722  </td><td> 0.208043995</td></tr>\n",
       "\t<tr><td>LMPRA         </td><td>ASTARR        </td><td>68420 </td><td> 0.203478532</td></tr>\n",
       "\t<tr><td>ASTARR        </td><td>LMPRA         </td><td>68420 </td><td> 0.203478532</td></tr>\n",
       "\t<tr><td>TMPRA         </td><td>CRISPRi-Growth</td><td>708   </td><td> 0.153386072</td></tr>\n",
       "\t<tr><td>CRISPRi-Growth</td><td>TMPRA         </td><td>708   </td><td> 0.153386072</td></tr>\n",
       "\t<tr><td>ATAC          </td><td>ASTARR        </td><td>246850</td><td> 0.094091979</td></tr>\n",
       "\t<tr><td>ASTARR        </td><td>ATAC          </td><td>246850</td><td> 0.094091979</td></tr>\n",
       "\t<tr><td>WSTARR        </td><td>CRISPRi-Growth</td><td>80270 </td><td> 0.094069222</td></tr>\n",
       "\t<tr><td>CRISPRi-Growth</td><td>WSTARR        </td><td>80270 </td><td> 0.094069222</td></tr>\n",
       "\t<tr><td>CRISPRi-Growth</td><td>ATAC          </td><td>80288 </td><td> 0.087898281</td></tr>\n",
       "\t<tr><td>ATAC          </td><td>CRISPRi-Growth</td><td>80288 </td><td> 0.087898281</td></tr>\n",
       "\t<tr><td>LMPRA         </td><td>CRISPRi-Growth</td><td>53900 </td><td> 0.073292628</td></tr>\n",
       "\t<tr><td>CRISPRi-Growth</td><td>LMPRA         </td><td>53900 </td><td> 0.073292628</td></tr>\n",
       "\t<tr><td>CRISPRi-HCRFF </td><td>CRISPRi-Growth</td><td>558   </td><td> 0.070265702</td></tr>\n",
       "\t<tr><td>CRISPRi-Growth</td><td>CRISPRi-HCRFF </td><td>558   </td><td> 0.070265702</td></tr>\n",
       "\t<tr><td>CRISPRi-HCRFF </td><td>ATAC          </td><td>1330  </td><td> 0.065926062</td></tr>\n",
       "\t<tr><td>ATAC          </td><td>CRISPRi-HCRFF </td><td>1330  </td><td> 0.065926062</td></tr>\n",
       "\t<tr><td>CRISPRi-HCRFF </td><td>ASTARR        </td><td>1330  </td><td> 0.064354946</td></tr>\n",
       "\t<tr><td>ASTARR        </td><td>CRISPRi-HCRFF </td><td>1330  </td><td> 0.064354946</td></tr>\n",
       "\t<tr><td>WSTARR        </td><td>CRISPRi-HCRFF </td><td>1330  </td><td> 0.035550241</td></tr>\n",
       "\t<tr><td>CRISPRi-HCRFF </td><td>WSTARR        </td><td>1330  </td><td> 0.035550241</td></tr>\n",
       "\t<tr><td>LMPRA         </td><td>CRISPRi-HCRFF </td><td>719   </td><td> 0.018517564</td></tr>\n",
       "\t<tr><td>CRISPRi-HCRFF </td><td>LMPRA         </td><td>719   </td><td> 0.018517564</td></tr>\n",
       "\t<tr><td>TMPRA         </td><td>CRISPRi-HCRFF </td><td>632   </td><td> 0.001951819</td></tr>\n",
       "\t<tr><td>CRISPRi-HCRFF </td><td>TMPRA         </td><td>632   </td><td> 0.001951819</td></tr>\n",
       "\t<tr><td>CRISPRi-Growth</td><td>ASTARR        </td><td>80288 </td><td>-0.018035144</td></tr>\n",
       "\t<tr><td>ASTARR        </td><td>CRISPRi-Growth</td><td>80288 </td><td>-0.018035144</td></tr>\n",
       "</tbody>\n",
       "</table>\n"
      ],
      "text/latex": [
       "A data.frame: 49 × 4\n",
       "\\begin{tabular}{llll}\n",
       " Assay1 & Assay2 & Count & Correlation\\\\\n",
       " <chr> & <chr> & <chr> & <dbl>\\\\\n",
       "\\hline\n",
       "\t ASTARR         & ASTARR         & 246850 &  1.000000000\\\\\n",
       "\t ATAC           & ATAC           & 246852 &  1.000000000\\\\\n",
       "\t CRISPRi-Growth & CRISPRi-Growth & 80288  &  1.000000000\\\\\n",
       "\t CRISPRi-HCRFF  & CRISPRi-HCRFF  & 1330   &  1.000000000\\\\\n",
       "\t LMPRA          & LMPRA          & 68420  &  1.000000000\\\\\n",
       "\t TMPRA          & TMPRA          & 1722   &  1.000000000\\\\\n",
       "\t WSTARR         & WSTARR         & 246688 &  1.000000000\\\\\n",
       "\t WSTARR         & TMPRA          & 1722   &  0.537486978\\\\\n",
       "\t TMPRA          & WSTARR         & 1722   &  0.537486978\\\\\n",
       "\t TMPRA          & ATAC           & 1722   &  0.450044707\\\\\n",
       "\t ATAC           & TMPRA          & 1722   &  0.450044707\\\\\n",
       "\t TMPRA          & LMPRA          & 1241   &  0.444814666\\\\\n",
       "\t LMPRA          & TMPRA          & 1241   &  0.444814666\\\\\n",
       "\t WSTARR         & LMPRA          & 68407  &  0.398918004\\\\\n",
       "\t LMPRA          & WSTARR         & 68407  &  0.398918004\\\\\n",
       "\t WSTARR         & ATAC           & 246684 &  0.291007467\\\\\n",
       "\t ATAC           & WSTARR         & 246684 &  0.291007467\\\\\n",
       "\t LMPRA          & ATAC           & 68420  &  0.283943604\\\\\n",
       "\t ATAC           & LMPRA          & 68420  &  0.283943604\\\\\n",
       "\t WSTARR         & ASTARR         & 246683 &  0.239029242\\\\\n",
       "\t ASTARR         & WSTARR         & 246683 &  0.239029242\\\\\n",
       "\t TMPRA          & ASTARR         & 1722   &  0.208043995\\\\\n",
       "\t ASTARR         & TMPRA          & 1722   &  0.208043995\\\\\n",
       "\t LMPRA          & ASTARR         & 68420  &  0.203478532\\\\\n",
       "\t ASTARR         & LMPRA          & 68420  &  0.203478532\\\\\n",
       "\t TMPRA          & CRISPRi-Growth & 708    &  0.153386072\\\\\n",
       "\t CRISPRi-Growth & TMPRA          & 708    &  0.153386072\\\\\n",
       "\t ATAC           & ASTARR         & 246850 &  0.094091979\\\\\n",
       "\t ASTARR         & ATAC           & 246850 &  0.094091979\\\\\n",
       "\t WSTARR         & CRISPRi-Growth & 80270  &  0.094069222\\\\\n",
       "\t CRISPRi-Growth & WSTARR         & 80270  &  0.094069222\\\\\n",
       "\t CRISPRi-Growth & ATAC           & 80288  &  0.087898281\\\\\n",
       "\t ATAC           & CRISPRi-Growth & 80288  &  0.087898281\\\\\n",
       "\t LMPRA          & CRISPRi-Growth & 53900  &  0.073292628\\\\\n",
       "\t CRISPRi-Growth & LMPRA          & 53900  &  0.073292628\\\\\n",
       "\t CRISPRi-HCRFF  & CRISPRi-Growth & 558    &  0.070265702\\\\\n",
       "\t CRISPRi-Growth & CRISPRi-HCRFF  & 558    &  0.070265702\\\\\n",
       "\t CRISPRi-HCRFF  & ATAC           & 1330   &  0.065926062\\\\\n",
       "\t ATAC           & CRISPRi-HCRFF  & 1330   &  0.065926062\\\\\n",
       "\t CRISPRi-HCRFF  & ASTARR         & 1330   &  0.064354946\\\\\n",
       "\t ASTARR         & CRISPRi-HCRFF  & 1330   &  0.064354946\\\\\n",
       "\t WSTARR         & CRISPRi-HCRFF  & 1330   &  0.035550241\\\\\n",
       "\t CRISPRi-HCRFF  & WSTARR         & 1330   &  0.035550241\\\\\n",
       "\t LMPRA          & CRISPRi-HCRFF  & 719    &  0.018517564\\\\\n",
       "\t CRISPRi-HCRFF  & LMPRA          & 719    &  0.018517564\\\\\n",
       "\t TMPRA          & CRISPRi-HCRFF  & 632    &  0.001951819\\\\\n",
       "\t CRISPRi-HCRFF  & TMPRA          & 632    &  0.001951819\\\\\n",
       "\t CRISPRi-Growth & ASTARR         & 80288  & -0.018035144\\\\\n",
       "\t ASTARR         & CRISPRi-Growth & 80288  & -0.018035144\\\\\n",
       "\\end{tabular}\n"
      ],
      "text/markdown": [
       "\n",
       "A data.frame: 49 × 4\n",
       "\n",
       "| Assay1 &lt;chr&gt; | Assay2 &lt;chr&gt; | Count &lt;chr&gt; | Correlation &lt;dbl&gt; |\n",
       "|---|---|---|---|\n",
       "| ASTARR         | ASTARR         | 246850 |  1.000000000 |\n",
       "| ATAC           | ATAC           | 246852 |  1.000000000 |\n",
       "| CRISPRi-Growth | CRISPRi-Growth | 80288  |  1.000000000 |\n",
       "| CRISPRi-HCRFF  | CRISPRi-HCRFF  | 1330   |  1.000000000 |\n",
       "| LMPRA          | LMPRA          | 68420  |  1.000000000 |\n",
       "| TMPRA          | TMPRA          | 1722   |  1.000000000 |\n",
       "| WSTARR         | WSTARR         | 246688 |  1.000000000 |\n",
       "| WSTARR         | TMPRA          | 1722   |  0.537486978 |\n",
       "| TMPRA          | WSTARR         | 1722   |  0.537486978 |\n",
       "| TMPRA          | ATAC           | 1722   |  0.450044707 |\n",
       "| ATAC           | TMPRA          | 1722   |  0.450044707 |\n",
       "| TMPRA          | LMPRA          | 1241   |  0.444814666 |\n",
       "| LMPRA          | TMPRA          | 1241   |  0.444814666 |\n",
       "| WSTARR         | LMPRA          | 68407  |  0.398918004 |\n",
       "| LMPRA          | WSTARR         | 68407  |  0.398918004 |\n",
       "| WSTARR         | ATAC           | 246684 |  0.291007467 |\n",
       "| ATAC           | WSTARR         | 246684 |  0.291007467 |\n",
       "| LMPRA          | ATAC           | 68420  |  0.283943604 |\n",
       "| ATAC           | LMPRA          | 68420  |  0.283943604 |\n",
       "| WSTARR         | ASTARR         | 246683 |  0.239029242 |\n",
       "| ASTARR         | WSTARR         | 246683 |  0.239029242 |\n",
       "| TMPRA          | ASTARR         | 1722   |  0.208043995 |\n",
       "| ASTARR         | TMPRA          | 1722   |  0.208043995 |\n",
       "| LMPRA          | ASTARR         | 68420  |  0.203478532 |\n",
       "| ASTARR         | LMPRA          | 68420  |  0.203478532 |\n",
       "| TMPRA          | CRISPRi-Growth | 708    |  0.153386072 |\n",
       "| CRISPRi-Growth | TMPRA          | 708    |  0.153386072 |\n",
       "| ATAC           | ASTARR         | 246850 |  0.094091979 |\n",
       "| ASTARR         | ATAC           | 246850 |  0.094091979 |\n",
       "| WSTARR         | CRISPRi-Growth | 80270  |  0.094069222 |\n",
       "| CRISPRi-Growth | WSTARR         | 80270  |  0.094069222 |\n",
       "| CRISPRi-Growth | ATAC           | 80288  |  0.087898281 |\n",
       "| ATAC           | CRISPRi-Growth | 80288  |  0.087898281 |\n",
       "| LMPRA          | CRISPRi-Growth | 53900  |  0.073292628 |\n",
       "| CRISPRi-Growth | LMPRA          | 53900  |  0.073292628 |\n",
       "| CRISPRi-HCRFF  | CRISPRi-Growth | 558    |  0.070265702 |\n",
       "| CRISPRi-Growth | CRISPRi-HCRFF  | 558    |  0.070265702 |\n",
       "| CRISPRi-HCRFF  | ATAC           | 1330   |  0.065926062 |\n",
       "| ATAC           | CRISPRi-HCRFF  | 1330   |  0.065926062 |\n",
       "| CRISPRi-HCRFF  | ASTARR         | 1330   |  0.064354946 |\n",
       "| ASTARR         | CRISPRi-HCRFF  | 1330   |  0.064354946 |\n",
       "| WSTARR         | CRISPRi-HCRFF  | 1330   |  0.035550241 |\n",
       "| CRISPRi-HCRFF  | WSTARR         | 1330   |  0.035550241 |\n",
       "| LMPRA          | CRISPRi-HCRFF  | 719    |  0.018517564 |\n",
       "| CRISPRi-HCRFF  | LMPRA          | 719    |  0.018517564 |\n",
       "| TMPRA          | CRISPRi-HCRFF  | 632    |  0.001951819 |\n",
       "| CRISPRi-HCRFF  | TMPRA          | 632    |  0.001951819 |\n",
       "| CRISPRi-Growth | ASTARR         | 80288  | -0.018035144 |\n",
       "| ASTARR         | CRISPRi-Growth | 80288  | -0.018035144 |\n",
       "\n"
      ],
      "text/plain": [
       "   Assay1         Assay2         Count  Correlation \n",
       "1  ASTARR         ASTARR         246850  1.000000000\n",
       "2  ATAC           ATAC           246852  1.000000000\n",
       "3  CRISPRi-Growth CRISPRi-Growth 80288   1.000000000\n",
       "4  CRISPRi-HCRFF  CRISPRi-HCRFF  1330    1.000000000\n",
       "5  LMPRA          LMPRA          68420   1.000000000\n",
       "6  TMPRA          TMPRA          1722    1.000000000\n",
       "7  WSTARR         WSTARR         246688  1.000000000\n",
       "8  WSTARR         TMPRA          1722    0.537486978\n",
       "9  TMPRA          WSTARR         1722    0.537486978\n",
       "10 TMPRA          ATAC           1722    0.450044707\n",
       "11 ATAC           TMPRA          1722    0.450044707\n",
       "12 TMPRA          LMPRA          1241    0.444814666\n",
       "13 LMPRA          TMPRA          1241    0.444814666\n",
       "14 WSTARR         LMPRA          68407   0.398918004\n",
       "15 LMPRA          WSTARR         68407   0.398918004\n",
       "16 WSTARR         ATAC           246684  0.291007467\n",
       "17 ATAC           WSTARR         246684  0.291007467\n",
       "18 LMPRA          ATAC           68420   0.283943604\n",
       "19 ATAC           LMPRA          68420   0.283943604\n",
       "20 WSTARR         ASTARR         246683  0.239029242\n",
       "21 ASTARR         WSTARR         246683  0.239029242\n",
       "22 TMPRA          ASTARR         1722    0.208043995\n",
       "23 ASTARR         TMPRA          1722    0.208043995\n",
       "24 LMPRA          ASTARR         68420   0.203478532\n",
       "25 ASTARR         LMPRA          68420   0.203478532\n",
       "26 TMPRA          CRISPRi-Growth 708     0.153386072\n",
       "27 CRISPRi-Growth TMPRA          708     0.153386072\n",
       "28 ATAC           ASTARR         246850  0.094091979\n",
       "29 ASTARR         ATAC           246850  0.094091979\n",
       "30 WSTARR         CRISPRi-Growth 80270   0.094069222\n",
       "31 CRISPRi-Growth WSTARR         80270   0.094069222\n",
       "32 CRISPRi-Growth ATAC           80288   0.087898281\n",
       "33 ATAC           CRISPRi-Growth 80288   0.087898281\n",
       "34 LMPRA          CRISPRi-Growth 53900   0.073292628\n",
       "35 CRISPRi-Growth LMPRA          53900   0.073292628\n",
       "36 CRISPRi-HCRFF  CRISPRi-Growth 558     0.070265702\n",
       "37 CRISPRi-Growth CRISPRi-HCRFF  558     0.070265702\n",
       "38 CRISPRi-HCRFF  ATAC           1330    0.065926062\n",
       "39 ATAC           CRISPRi-HCRFF  1330    0.065926062\n",
       "40 CRISPRi-HCRFF  ASTARR         1330    0.064354946\n",
       "41 ASTARR         CRISPRi-HCRFF  1330    0.064354946\n",
       "42 WSTARR         CRISPRi-HCRFF  1330    0.035550241\n",
       "43 CRISPRi-HCRFF  WSTARR         1330    0.035550241\n",
       "44 LMPRA          CRISPRi-HCRFF  719     0.018517564\n",
       "45 CRISPRi-HCRFF  LMPRA          719     0.018517564\n",
       "46 TMPRA          CRISPRi-HCRFF  632     0.001951819\n",
       "47 CRISPRi-HCRFF  TMPRA          632     0.001951819\n",
       "48 CRISPRi-Growth ASTARR         80288  -0.018035144\n",
       "49 ASTARR         CRISPRi-Growth 80288  -0.018035144"
      ]
     },
     "metadata": {},
     "output_type": "display_data"
    }
   ],
   "source": [
    "dat = dat_score_corr\n",
    "dat = dat %>% arrange(-Correlation)\n",
    "dat"
   ]
  },
  {
   "cell_type": "code",
   "execution_count": 54,
   "metadata": {},
   "outputs": [
    {
     "data": {
      "text/html": [
       "<table class=\"dataframe\">\n",
       "<caption>A data.frame: 7 × 7</caption>\n",
       "<thead>\n",
       "\t<tr><th></th><th scope=col>ASTARR</th><th scope=col>ATAC</th><th scope=col>CRISPRi-Growth</th><th scope=col>CRISPRi-HCRFF</th><th scope=col>LMPRA</th><th scope=col>TMPRA</th><th scope=col>WSTARR</th></tr>\n",
       "\t<tr><th></th><th scope=col>&lt;dbl&gt;</th><th scope=col>&lt;dbl&gt;</th><th scope=col>&lt;dbl&gt;</th><th scope=col>&lt;dbl&gt;</th><th scope=col>&lt;dbl&gt;</th><th scope=col>&lt;dbl&gt;</th><th scope=col>&lt;dbl&gt;</th></tr>\n",
       "</thead>\n",
       "<tbody>\n",
       "\t<tr><th scope=row>ASTARR</th><td> 1.00000000</td><td>0.09409198</td><td>-0.01803514</td><td>0.064354946</td><td>0.20347853</td><td>0.208043995</td><td>0.23902924</td></tr>\n",
       "\t<tr><th scope=row>ATAC</th><td> 0.09409198</td><td>1.00000000</td><td> 0.08789828</td><td>0.065926062</td><td>0.28394360</td><td>0.450044707</td><td>0.29100747</td></tr>\n",
       "\t<tr><th scope=row>CRISPRi-Growth</th><td>-0.01803514</td><td>0.08789828</td><td> 1.00000000</td><td>0.070265702</td><td>0.07329263</td><td>0.153386072</td><td>0.09406922</td></tr>\n",
       "\t<tr><th scope=row>CRISPRi-HCRFF</th><td> 0.06435495</td><td>0.06592606</td><td> 0.07026570</td><td>1.000000000</td><td>0.01851756</td><td>0.001951819</td><td>0.03555024</td></tr>\n",
       "\t<tr><th scope=row>LMPRA</th><td> 0.20347853</td><td>0.28394360</td><td> 0.07329263</td><td>0.018517564</td><td>1.00000000</td><td>0.444814666</td><td>0.39891800</td></tr>\n",
       "\t<tr><th scope=row>TMPRA</th><td> 0.20804399</td><td>0.45004471</td><td> 0.15338607</td><td>0.001951819</td><td>0.44481467</td><td>1.000000000</td><td>0.53748698</td></tr>\n",
       "\t<tr><th scope=row>WSTARR</th><td> 0.23902924</td><td>0.29100747</td><td> 0.09406922</td><td>0.035550241</td><td>0.39891800</td><td>0.537486978</td><td>1.00000000</td></tr>\n",
       "</tbody>\n",
       "</table>\n"
      ],
      "text/latex": [
       "A data.frame: 7 × 7\n",
       "\\begin{tabular}{r|lllllll}\n",
       "  & ASTARR & ATAC & CRISPRi-Growth & CRISPRi-HCRFF & LMPRA & TMPRA & WSTARR\\\\\n",
       "  & <dbl> & <dbl> & <dbl> & <dbl> & <dbl> & <dbl> & <dbl>\\\\\n",
       "\\hline\n",
       "\tASTARR &  1.00000000 & 0.09409198 & -0.01803514 & 0.064354946 & 0.20347853 & 0.208043995 & 0.23902924\\\\\n",
       "\tATAC &  0.09409198 & 1.00000000 &  0.08789828 & 0.065926062 & 0.28394360 & 0.450044707 & 0.29100747\\\\\n",
       "\tCRISPRi-Growth & -0.01803514 & 0.08789828 &  1.00000000 & 0.070265702 & 0.07329263 & 0.153386072 & 0.09406922\\\\\n",
       "\tCRISPRi-HCRFF &  0.06435495 & 0.06592606 &  0.07026570 & 1.000000000 & 0.01851756 & 0.001951819 & 0.03555024\\\\\n",
       "\tLMPRA &  0.20347853 & 0.28394360 &  0.07329263 & 0.018517564 & 1.00000000 & 0.444814666 & 0.39891800\\\\\n",
       "\tTMPRA &  0.20804399 & 0.45004471 &  0.15338607 & 0.001951819 & 0.44481467 & 1.000000000 & 0.53748698\\\\\n",
       "\tWSTARR &  0.23902924 & 0.29100747 &  0.09406922 & 0.035550241 & 0.39891800 & 0.537486978 & 1.00000000\\\\\n",
       "\\end{tabular}\n"
      ],
      "text/markdown": [
       "\n",
       "A data.frame: 7 × 7\n",
       "\n",
       "| <!--/--> | ASTARR &lt;dbl&gt; | ATAC &lt;dbl&gt; | CRISPRi-Growth &lt;dbl&gt; | CRISPRi-HCRFF &lt;dbl&gt; | LMPRA &lt;dbl&gt; | TMPRA &lt;dbl&gt; | WSTARR &lt;dbl&gt; |\n",
       "|---|---|---|---|---|---|---|---|\n",
       "| ASTARR |  1.00000000 | 0.09409198 | -0.01803514 | 0.064354946 | 0.20347853 | 0.208043995 | 0.23902924 |\n",
       "| ATAC |  0.09409198 | 1.00000000 |  0.08789828 | 0.065926062 | 0.28394360 | 0.450044707 | 0.29100747 |\n",
       "| CRISPRi-Growth | -0.01803514 | 0.08789828 |  1.00000000 | 0.070265702 | 0.07329263 | 0.153386072 | 0.09406922 |\n",
       "| CRISPRi-HCRFF |  0.06435495 | 0.06592606 |  0.07026570 | 1.000000000 | 0.01851756 | 0.001951819 | 0.03555024 |\n",
       "| LMPRA |  0.20347853 | 0.28394360 |  0.07329263 | 0.018517564 | 1.00000000 | 0.444814666 | 0.39891800 |\n",
       "| TMPRA |  0.20804399 | 0.45004471 |  0.15338607 | 0.001951819 | 0.44481467 | 1.000000000 | 0.53748698 |\n",
       "| WSTARR |  0.23902924 | 0.29100747 |  0.09406922 | 0.035550241 | 0.39891800 | 0.537486978 | 1.00000000 |\n",
       "\n"
      ],
      "text/plain": [
       "               ASTARR      ATAC       CRISPRi-Growth CRISPRi-HCRFF LMPRA     \n",
       "ASTARR          1.00000000 0.09409198 -0.01803514    0.064354946   0.20347853\n",
       "ATAC            0.09409198 1.00000000  0.08789828    0.065926062   0.28394360\n",
       "CRISPRi-Growth -0.01803514 0.08789828  1.00000000    0.070265702   0.07329263\n",
       "CRISPRi-HCRFF   0.06435495 0.06592606  0.07026570    1.000000000   0.01851756\n",
       "LMPRA           0.20347853 0.28394360  0.07329263    0.018517564   1.00000000\n",
       "TMPRA           0.20804399 0.45004471  0.15338607    0.001951819   0.44481467\n",
       "WSTARR          0.23902924 0.29100747  0.09406922    0.035550241   0.39891800\n",
       "               TMPRA       WSTARR    \n",
       "ASTARR         0.208043995 0.23902924\n",
       "ATAC           0.450044707 0.29100747\n",
       "CRISPRi-Growth 0.153386072 0.09406922\n",
       "CRISPRi-HCRFF  0.001951819 0.03555024\n",
       "LMPRA          0.444814666 0.39891800\n",
       "TMPRA          1.000000000 0.53748698\n",
       "WSTARR         0.537486978 1.00000000"
      ]
     },
     "metadata": {},
     "output_type": "display_data"
    }
   ],
   "source": [
    "dat = dat_score_corr\n",
    "dat = dat %>% dplyr::mutate(Correlation = as.double(Correlation))\n",
    "dat = dat %>% \n",
    "    dplyr::select(Assay1, Assay2, Correlation) %>%\n",
    "    tidyr::spread(Assay2, Correlation)\n",
    "dat = dat %>% column_to_rownames(\"Assay1\")\n",
    "\n",
    "mat_score_corr = dat\n",
    "dat"
   ]
  },
  {
   "cell_type": "code",
   "execution_count": 46,
   "metadata": {},
   "outputs": [],
   "source": [
    "library(pheatmap)"
   ]
  },
  {
   "cell_type": "code",
   "execution_count": 55,
   "metadata": {},
   "outputs": [
    {
     "data": {
      "text/plain": [
       "    Min.  1st Qu.   Median     Mean  3rd Qu.     Max. \n",
       "-0.01804  0.07027  0.20348  0.29788  0.44481  1.00000 "
      ]
     },
     "metadata": {},
     "output_type": "display_data"
    }
   ],
   "source": [
    "dat = dat_score_corr\n",
    "summary(dat$Correlation)"
   ]
  },
  {
   "cell_type": "code",
   "execution_count": 70,
   "metadata": {},
   "outputs": [],
   "source": [
    "mat = mat_score_corr\n",
    "\n",
    "paletteLength <- 50\n",
    "myColor <- colorRampPalette(c(\"#abd9e9\", \"white\", \"#d73027\"))(paletteLength)\n",
    "# length(breaks) == length(paletteLength) + 1\n",
    "# use floor and ceiling to deal with even/odd length pallettelengths\n",
    "myBreaks <- c(seq(-0.1, 0, length.out=ceiling(paletteLength/2) + 1), \n",
    "              seq(1/paletteLength, 1, length.out=floor(paletteLength/2)))"
   ]
  },
  {
   "cell_type": "code",
   "execution_count": 71,
   "metadata": {},
   "outputs": [
    {
     "data": {
      "image/png": "[encoded data removed]",
      "text/plain": [
       "plot without title"
      ]
     },
     "metadata": {
      "image/png": {
       "height": 420,
       "width": 420
      }
     },
     "output_type": "display_data"
    }
   ],
   "source": [
    "mat = mat_score_corr\n",
    "pheatmap(\n",
    "    mat,\n",
    "    color=myColor, \n",
    "    breaks=myBreaks\n",
    ")"
   ]
  },
  {
   "cell_type": "code",
   "execution_count": null,
   "metadata": {},
   "outputs": [],
   "source": []
  }
 ],
 "metadata": {
  "kernelspec": {
   "display_name": "R",
   "language": "R",
   "name": "ir"
  },
  "language_info": {
   "codemirror_mode": "r",
   "file_extension": ".r",
   "mimetype": "text/x-r-source",
   "name": "R",
   "pygments_lexer": "r",
   "version": "4.3.1"
  }
 },
 "nbformat": 4,
 "nbformat_minor": 4
}
