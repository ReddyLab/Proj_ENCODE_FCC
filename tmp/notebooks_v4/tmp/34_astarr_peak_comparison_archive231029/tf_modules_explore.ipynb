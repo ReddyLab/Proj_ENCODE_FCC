{
 "cells": [
  {
   "cell_type": "code",
   "execution_count": 1,
   "metadata": {},
   "outputs": [
    {
     "name": "stdout",
     "output_type": "stream",
     "text": [
      "You are in Singularity: singularity_proj_encode_fcc \n",
      "BASE DIRECTORY (FD_BASE): /data/reddylab/Kuei \n",
      "WORK DIRECTORY (FD_WORK): /data/reddylab/Kuei/out \n",
      "CODE DIRECTORY (FD_CODE): /data/reddylab/Kuei/code \n",
      "PATH OF PROJECT (FD_PRJ): /data/reddylab/Kuei/code/Proj_CombEffect_ENCODE_FCC \n",
      "PATH OF RESULTS (FD_RES): /data/reddylab/Kuei/out/proj_combeffect_encode_fcc \n",
      "PATH OF LOG     (FD_LOG): /data/reddylab/Kuei/out/proj_combeffect_encode_fcc/log \n"
     ]
    }
   ],
   "source": [
    "suppressMessages(suppressWarnings(source(\"../config/config_sing.R\")))\n",
    "show_env()"
   ]
  },
  {
   "cell_type": "code",
   "execution_count": 2,
   "metadata": {},
   "outputs": [
    {
     "data": {
      "text/html": [
       "<style>\n",
       ".list-inline {list-style: none; margin:0; padding: 0}\n",
       ".list-inline>li {display: inline-block}\n",
       ".list-inline>li:not(:last-child)::after {content: \"\\00b7\"; padding: 0 .5ex}\n",
       "</style>\n",
       "<ol class=list-inline><li>'K562.full.region.assignments.txt'</li><li>'K562.TFzscore.txt'</li></ol>\n"
      ],
      "text/latex": [
       "\\begin{enumerate*}\n",
       "\\item 'K562.full.region.assignments.txt'\n",
       "\\item 'K562.TFzscore.txt'\n",
       "\\end{enumerate*}\n"
      ],
      "text/markdown": [
       "1. 'K562.full.region.assignments.txt'\n",
       "2. 'K562.TFzscore.txt'\n",
       "\n",
       "\n"
      ],
      "text/plain": [
       "[1] \"K562.full.region.assignments.txt\" \"K562.TFzscore.txt\"               "
      ]
     },
     "metadata": {},
     "output_type": "display_data"
    }
   ],
   "source": [
    "fdiry = file.path(FD_RES, \"source\", \"TF_modules\")\n",
    "dir(fdiry)"
   ]
  },
  {
   "cell_type": "code",
   "execution_count": 23,
   "metadata": {},
   "outputs": [
    {
     "name": "stderr",
     "output_type": "stream",
     "text": [
      "\u001b[1mRows: \u001b[22m\u001b[34m173997\u001b[39m \u001b[1mColumns: \u001b[22m\u001b[34m74\u001b[39m\n",
      "\u001b[36m──\u001b[39m \u001b[1mColumn specification\u001b[22m \u001b[36m─────────────────────────────────────────────────────────────────────\u001b[39m\n",
      "\u001b[1mDelimiter:\u001b[22m \"\\t\"\n",
      "\u001b[31mchr\u001b[39m  (2): chr, TFs\n",
      "\u001b[32mdbl\u001b[39m (72): 1, 2, 3, 4, 5, 6, 7, 8, 9, 10, 11, 12, 13, 14, 15, 16, 17, 18, 19,...\n",
      "\n",
      "\u001b[36mℹ\u001b[39m Use `spec()` to retrieve the full column specification for this data.\n",
      "\u001b[36mℹ\u001b[39m Specify the column types or set `show_col_types = FALSE` to quiet this message.\n"
     ]
    },
    {
     "name": "stdout",
     "output_type": "stream",
     "text": [
      "[1] 173997     74\n"
     ]
    },
    {
     "data": {
      "text/html": [
       "<table class=\"dataframe\">\n",
       "<caption>A tibble: 6 × 74</caption>\n",
       "<thead>\n",
       "\t<tr><th scope=col>1</th><th scope=col>2</th><th scope=col>3</th><th scope=col>4</th><th scope=col>5</th><th scope=col>6</th><th scope=col>7</th><th scope=col>8</th><th scope=col>9</th><th scope=col>10</th><th scope=col>⋯</th><th scope=col>71</th><th scope=col>72</th><th scope=col>73</th><th scope=col>74</th><th scope=col>75</th><th scope=col>77</th><th scope=col>chr</th><th scope=col>start</th><th scope=col>end</th><th scope=col>TFs</th></tr>\n",
       "\t<tr><th scope=col>&lt;dbl&gt;</th><th scope=col>&lt;dbl&gt;</th><th scope=col>&lt;dbl&gt;</th><th scope=col>&lt;dbl&gt;</th><th scope=col>&lt;dbl&gt;</th><th scope=col>&lt;dbl&gt;</th><th scope=col>&lt;dbl&gt;</th><th scope=col>&lt;dbl&gt;</th><th scope=col>&lt;dbl&gt;</th><th scope=col>&lt;dbl&gt;</th><th scope=col>⋯</th><th scope=col>&lt;dbl&gt;</th><th scope=col>&lt;dbl&gt;</th><th scope=col>&lt;dbl&gt;</th><th scope=col>&lt;dbl&gt;</th><th scope=col>&lt;dbl&gt;</th><th scope=col>&lt;dbl&gt;</th><th scope=col>&lt;chr&gt;</th><th scope=col>&lt;dbl&gt;</th><th scope=col>&lt;dbl&gt;</th><th scope=col>&lt;chr&gt;</th></tr>\n",
       "</thead>\n",
       "<tbody>\n",
       "\t<tr><td>0</td><td>1</td><td>0</td><td>0</td><td>1</td><td>0</td><td>0</td><td>0</td><td>0</td><td>1</td><td>⋯</td><td>0</td><td>0</td><td>0</td><td>0</td><td>0</td><td>0</td><td>chr1</td><td>115702</td><td>115751</td><td>NONO,RNF2,FOXK2,NR2F1,SOX6,ESRRA,ATF4,GMEB1,NFIC,TRIM24,HDAC1,TCF12,NCOR1,NFE2,ATF7,ZNF24,GABPB1,ZBTB2,MTA3,FOXM1,ZBTB40,DPF2,NFRKB,HDAC2,GATAD2A,IKZF1,ARID3A,NBN,EP300,SMARCE1,ZNF281,KDM1A,NCOA1,MAFG,POLR2A,EGR1,REST,TCF3,SMARCC2,MTA1,MEIS2</td></tr>\n",
       "\t<tr><td>0</td><td>0</td><td>0</td><td>0</td><td>0</td><td>0</td><td>0</td><td>0</td><td>0</td><td>0</td><td>⋯</td><td>0</td><td>0</td><td>0</td><td>0</td><td>0</td><td>0</td><td>chr1</td><td>118585</td><td>118665</td><td>RNF2,MAFG,NFE2L1,NFE2                                                                                                                                                                                                                            </td></tr>\n",
       "\t<tr><td>0</td><td>0</td><td>0</td><td>0</td><td>0</td><td>0</td><td>0</td><td>0</td><td>0</td><td>0</td><td>⋯</td><td>0</td><td>0</td><td>0</td><td>0</td><td>0</td><td>0</td><td>chr1</td><td>136446</td><td>136510</td><td>CEBPB,ESRRA,NR2F1,EGR1                                                                                                                                                                                                                           </td></tr>\n",
       "\t<tr><td>0</td><td>1</td><td>0</td><td>0</td><td>0</td><td>0</td><td>0</td><td>0</td><td>0</td><td>0</td><td>⋯</td><td>0</td><td>0</td><td>0</td><td>0</td><td>0</td><td>0</td><td>chr1</td><td>139031</td><td>139110</td><td>ZFX,CTCF,RFX1                                                                                                                                                                                                                                    </td></tr>\n",
       "\t<tr><td>0</td><td>1</td><td>0</td><td>0</td><td>0</td><td>0</td><td>0</td><td>0</td><td>0</td><td>1</td><td>⋯</td><td>0</td><td>0</td><td>0</td><td>0</td><td>0</td><td>0</td><td>chr1</td><td>268005</td><td>268051</td><td>SMC3,CTCF,MAZ,ATF7,ARID2,ZNF281,REST,RAD21                                                                                                                                                                                                       </td></tr>\n",
       "\t<tr><td>0</td><td>0</td><td>0</td><td>0</td><td>0</td><td>0</td><td>0</td><td>0</td><td>0</td><td>0</td><td>⋯</td><td>0</td><td>0</td><td>0</td><td>0</td><td>0</td><td>0</td><td>chr1</td><td>586187</td><td>586203</td><td>CTCF,MAZ,SMC3                                                                                                                                                                                                                                    </td></tr>\n",
       "</tbody>\n",
       "</table>\n"
      ],
      "text/latex": [
       "A tibble: 6 × 74\n",
       "\\begin{tabular}{lllllllllllllllllllll}\n",
       " 1 & 2 & 3 & 4 & 5 & 6 & 7 & 8 & 9 & 10 & ⋯ & 71 & 72 & 73 & 74 & 75 & 77 & chr & start & end & TFs\\\\\n",
       " <dbl> & <dbl> & <dbl> & <dbl> & <dbl> & <dbl> & <dbl> & <dbl> & <dbl> & <dbl> & ⋯ & <dbl> & <dbl> & <dbl> & <dbl> & <dbl> & <dbl> & <chr> & <dbl> & <dbl> & <chr>\\\\\n",
       "\\hline\n",
       "\t 0 & 1 & 0 & 0 & 1 & 0 & 0 & 0 & 0 & 1 & ⋯ & 0 & 0 & 0 & 0 & 0 & 0 & chr1 & 115702 & 115751 & NONO,RNF2,FOXK2,NR2F1,SOX6,ESRRA,ATF4,GMEB1,NFIC,TRIM24,HDAC1,TCF12,NCOR1,NFE2,ATF7,ZNF24,GABPB1,ZBTB2,MTA3,FOXM1,ZBTB40,DPF2,NFRKB,HDAC2,GATAD2A,IKZF1,ARID3A,NBN,EP300,SMARCE1,ZNF281,KDM1A,NCOA1,MAFG,POLR2A,EGR1,REST,TCF3,SMARCC2,MTA1,MEIS2\\\\\n",
       "\t 0 & 0 & 0 & 0 & 0 & 0 & 0 & 0 & 0 & 0 & ⋯ & 0 & 0 & 0 & 0 & 0 & 0 & chr1 & 118585 & 118665 & RNF2,MAFG,NFE2L1,NFE2                                                                                                                                                                                                                            \\\\\n",
       "\t 0 & 0 & 0 & 0 & 0 & 0 & 0 & 0 & 0 & 0 & ⋯ & 0 & 0 & 0 & 0 & 0 & 0 & chr1 & 136446 & 136510 & CEBPB,ESRRA,NR2F1,EGR1                                                                                                                                                                                                                           \\\\\n",
       "\t 0 & 1 & 0 & 0 & 0 & 0 & 0 & 0 & 0 & 0 & ⋯ & 0 & 0 & 0 & 0 & 0 & 0 & chr1 & 139031 & 139110 & ZFX,CTCF,RFX1                                                                                                                                                                                                                                    \\\\\n",
       "\t 0 & 1 & 0 & 0 & 0 & 0 & 0 & 0 & 0 & 1 & ⋯ & 0 & 0 & 0 & 0 & 0 & 0 & chr1 & 268005 & 268051 & SMC3,CTCF,MAZ,ATF7,ARID2,ZNF281,REST,RAD21                                                                                                                                                                                                       \\\\\n",
       "\t 0 & 0 & 0 & 0 & 0 & 0 & 0 & 0 & 0 & 0 & ⋯ & 0 & 0 & 0 & 0 & 0 & 0 & chr1 & 586187 & 586203 & CTCF,MAZ,SMC3                                                                                                                                                                                                                                    \\\\\n",
       "\\end{tabular}\n"
      ],
      "text/markdown": [
       "\n",
       "A tibble: 6 × 74\n",
       "\n",
       "| 1 &lt;dbl&gt; | 2 &lt;dbl&gt; | 3 &lt;dbl&gt; | 4 &lt;dbl&gt; | 5 &lt;dbl&gt; | 6 &lt;dbl&gt; | 7 &lt;dbl&gt; | 8 &lt;dbl&gt; | 9 &lt;dbl&gt; | 10 &lt;dbl&gt; | ⋯ ⋯ | 71 &lt;dbl&gt; | 72 &lt;dbl&gt; | 73 &lt;dbl&gt; | 74 &lt;dbl&gt; | 75 &lt;dbl&gt; | 77 &lt;dbl&gt; | chr &lt;chr&gt; | start &lt;dbl&gt; | end &lt;dbl&gt; | TFs &lt;chr&gt; |\n",
       "|---|---|---|---|---|---|---|---|---|---|---|---|---|---|---|---|---|---|---|---|---|\n",
       "| 0 | 1 | 0 | 0 | 1 | 0 | 0 | 0 | 0 | 1 | ⋯ | 0 | 0 | 0 | 0 | 0 | 0 | chr1 | 115702 | 115751 | NONO,RNF2,FOXK2,NR2F1,SOX6,ESRRA,ATF4,GMEB1,NFIC,TRIM24,HDAC1,TCF12,NCOR1,NFE2,ATF7,ZNF24,GABPB1,ZBTB2,MTA3,FOXM1,ZBTB40,DPF2,NFRKB,HDAC2,GATAD2A,IKZF1,ARID3A,NBN,EP300,SMARCE1,ZNF281,KDM1A,NCOA1,MAFG,POLR2A,EGR1,REST,TCF3,SMARCC2,MTA1,MEIS2 |\n",
       "| 0 | 0 | 0 | 0 | 0 | 0 | 0 | 0 | 0 | 0 | ⋯ | 0 | 0 | 0 | 0 | 0 | 0 | chr1 | 118585 | 118665 | RNF2,MAFG,NFE2L1,NFE2                                                                                                                                                                                                                             |\n",
       "| 0 | 0 | 0 | 0 | 0 | 0 | 0 | 0 | 0 | 0 | ⋯ | 0 | 0 | 0 | 0 | 0 | 0 | chr1 | 136446 | 136510 | CEBPB,ESRRA,NR2F1,EGR1                                                                                                                                                                                                                            |\n",
       "| 0 | 1 | 0 | 0 | 0 | 0 | 0 | 0 | 0 | 0 | ⋯ | 0 | 0 | 0 | 0 | 0 | 0 | chr1 | 139031 | 139110 | ZFX,CTCF,RFX1                                                                                                                                                                                                                                     |\n",
       "| 0 | 1 | 0 | 0 | 0 | 0 | 0 | 0 | 0 | 1 | ⋯ | 0 | 0 | 0 | 0 | 0 | 0 | chr1 | 268005 | 268051 | SMC3,CTCF,MAZ,ATF7,ARID2,ZNF281,REST,RAD21                                                                                                                                                                                                        |\n",
       "| 0 | 0 | 0 | 0 | 0 | 0 | 0 | 0 | 0 | 0 | ⋯ | 0 | 0 | 0 | 0 | 0 | 0 | chr1 | 586187 | 586203 | CTCF,MAZ,SMC3                                                                                                                                                                                                                                     |\n",
       "\n"
      ],
      "text/plain": [
       "  1 2 3 4 5 6 7 8 9 10 ⋯ 71 72 73 74 75 77 chr  start  end   \n",
       "1 0 1 0 0 1 0 0 0 0 1  ⋯ 0  0  0  0  0  0  chr1 115702 115751\n",
       "2 0 0 0 0 0 0 0 0 0 0  ⋯ 0  0  0  0  0  0  chr1 118585 118665\n",
       "3 0 0 0 0 0 0 0 0 0 0  ⋯ 0  0  0  0  0  0  chr1 136446 136510\n",
       "4 0 1 0 0 0 0 0 0 0 0  ⋯ 0  0  0  0  0  0  chr1 139031 139110\n",
       "5 0 1 0 0 0 0 0 0 0 1  ⋯ 0  0  0  0  0  0  chr1 268005 268051\n",
       "6 0 0 0 0 0 0 0 0 0 0  ⋯ 0  0  0  0  0  0  chr1 586187 586203\n",
       "  TFs                                                                                                                                                                                                                                              \n",
       "1 NONO,RNF2,FOXK2,NR2F1,SOX6,ESRRA,ATF4,GMEB1,NFIC,TRIM24,HDAC1,TCF12,NCOR1,NFE2,ATF7,ZNF24,GABPB1,ZBTB2,MTA3,FOXM1,ZBTB40,DPF2,NFRKB,HDAC2,GATAD2A,IKZF1,ARID3A,NBN,EP300,SMARCE1,ZNF281,KDM1A,NCOA1,MAFG,POLR2A,EGR1,REST,TCF3,SMARCC2,MTA1,MEIS2\n",
       "2 RNF2,MAFG,NFE2L1,NFE2                                                                                                                                                                                                                            \n",
       "3 CEBPB,ESRRA,NR2F1,EGR1                                                                                                                                                                                                                           \n",
       "4 ZFX,CTCF,RFX1                                                                                                                                                                                                                                    \n",
       "5 SMC3,CTCF,MAZ,ATF7,ARID2,ZNF281,REST,RAD21                                                                                                                                                                                                       \n",
       "6 CTCF,MAZ,SMC3                                                                                                                                                                                                                                    "
      ]
     },
     "metadata": {},
     "output_type": "display_data"
    }
   ],
   "source": [
    "### set file directory\n",
    "fdiry = file.path(FD_RES, \"source\", \"TF_modules\")\n",
    "fname = \"K562.full.region.assignments.txt\"\n",
    "fpath = file.path(fdiry, fname)\n",
    "\n",
    "### read table\n",
    "dat = read_tsv(fpath)\n",
    "\n",
    "### assign and show info\n",
    "dat_region = dat\n",
    "print(dim(dat))\n",
    "head(dat)"
   ]
  },
  {
   "cell_type": "code",
   "execution_count": 26,
   "metadata": {},
   "outputs": [
    {
     "name": "stderr",
     "output_type": "stream",
     "text": [
      "\u001b[1mRows: \u001b[22m\u001b[34m2503\u001b[39m \u001b[1mColumns: \u001b[22m\u001b[34m2\u001b[39m\n",
      "\u001b[36m──\u001b[39m \u001b[1mColumn specification\u001b[22m \u001b[36m─────────────────────────────────────────────────────────────────────\u001b[39m\n",
      "\u001b[1mDelimiter:\u001b[22m \"\\t\"\n",
      "\u001b[31mchr\u001b[39m (1): TF\n",
      "\u001b[32mdbl\u001b[39m (1): module\n",
      "\n",
      "\u001b[36mℹ\u001b[39m Use `spec()` to retrieve the full column specification for this data.\n",
      "\u001b[36mℹ\u001b[39m Specify the column types or set `show_col_types = FALSE` to quiet this message.\n"
     ]
    },
    {
     "name": "stdout",
     "output_type": "stream",
     "text": [
      "[1] 2503    2\n"
     ]
    },
    {
     "data": {
      "text/html": [
       "<table class=\"dataframe\">\n",
       "<caption>A tibble: 6 × 2</caption>\n",
       "<thead>\n",
       "\t<tr><th scope=col>module</th><th scope=col>TF</th></tr>\n",
       "\t<tr><th scope=col>&lt;dbl&gt;</th><th scope=col>&lt;chr&gt;</th></tr>\n",
       "</thead>\n",
       "<tbody>\n",
       "\t<tr><td>1</td><td>ZNF589</td></tr>\n",
       "\t<tr><td>1</td><td>JUNB  </td></tr>\n",
       "\t<tr><td>1</td><td>FOSL1 </td></tr>\n",
       "\t<tr><td>1</td><td>MEIS2 </td></tr>\n",
       "\t<tr><td>1</td><td>EGR1  </td></tr>\n",
       "\t<tr><td>1</td><td>MEF2D </td></tr>\n",
       "</tbody>\n",
       "</table>\n"
      ],
      "text/latex": [
       "A tibble: 6 × 2\n",
       "\\begin{tabular}{ll}\n",
       " module & TF\\\\\n",
       " <dbl> & <chr>\\\\\n",
       "\\hline\n",
       "\t 1 & ZNF589\\\\\n",
       "\t 1 & JUNB  \\\\\n",
       "\t 1 & FOSL1 \\\\\n",
       "\t 1 & MEIS2 \\\\\n",
       "\t 1 & EGR1  \\\\\n",
       "\t 1 & MEF2D \\\\\n",
       "\\end{tabular}\n"
      ],
      "text/markdown": [
       "\n",
       "A tibble: 6 × 2\n",
       "\n",
       "| module &lt;dbl&gt; | TF &lt;chr&gt; |\n",
       "|---|---|\n",
       "| 1 | ZNF589 |\n",
       "| 1 | JUNB   |\n",
       "| 1 | FOSL1  |\n",
       "| 1 | MEIS2  |\n",
       "| 1 | EGR1   |\n",
       "| 1 | MEF2D  |\n",
       "\n"
      ],
      "text/plain": [
       "  module TF    \n",
       "1 1      ZNF589\n",
       "2 1      JUNB  \n",
       "3 1      FOSL1 \n",
       "4 1      MEIS2 \n",
       "5 1      EGR1  \n",
       "6 1      MEF2D "
      ]
     },
     "metadata": {},
     "output_type": "display_data"
    }
   ],
   "source": [
    "### set file directory\n",
    "fdiry = file.path(FD_RES, \"source\", \"TF_modules\")\n",
    "fname = \"K562.TFzscore.txt\"\n",
    "fpath = file.path(fdiry, fname)\n",
    "\n",
    "### read table\n",
    "dat = read_tsv(fpath)\n",
    "\n",
    "### assign and show info\n",
    "dat_tfzscore = dat\n",
    "print(dim(dat))\n",
    "head(dat)"
   ]
  },
  {
   "cell_type": "code",
   "execution_count": 30,
   "metadata": {},
   "outputs": [
    {
     "data": {
      "text/html": [
       "<table class=\"dataframe\">\n",
       "<caption>A data.frame: 6 × 2</caption>\n",
       "<thead>\n",
       "\t<tr><th></th><th scope=col>Module</th><th scope=col>Count</th></tr>\n",
       "\t<tr><th></th><th scope=col>&lt;fct&gt;</th><th scope=col>&lt;int&gt;</th></tr>\n",
       "</thead>\n",
       "<tbody>\n",
       "\t<tr><th scope=row>1</th><td>1</td><td>34</td></tr>\n",
       "\t<tr><th scope=row>2</th><td>2</td><td>11</td></tr>\n",
       "\t<tr><th scope=row>3</th><td>3</td><td>37</td></tr>\n",
       "\t<tr><th scope=row>4</th><td>4</td><td>15</td></tr>\n",
       "\t<tr><th scope=row>5</th><td>5</td><td>46</td></tr>\n",
       "\t<tr><th scope=row>6</th><td>6</td><td>10</td></tr>\n",
       "</tbody>\n",
       "</table>\n"
      ],
      "text/latex": [
       "A data.frame: 6 × 2\n",
       "\\begin{tabular}{r|ll}\n",
       "  & Module & Count\\\\\n",
       "  & <fct> & <int>\\\\\n",
       "\\hline\n",
       "\t1 & 1 & 34\\\\\n",
       "\t2 & 2 & 11\\\\\n",
       "\t3 & 3 & 37\\\\\n",
       "\t4 & 4 & 15\\\\\n",
       "\t5 & 5 & 46\\\\\n",
       "\t6 & 6 & 10\\\\\n",
       "\\end{tabular}\n"
      ],
      "text/markdown": [
       "\n",
       "A data.frame: 6 × 2\n",
       "\n",
       "| <!--/--> | Module &lt;fct&gt; | Count &lt;int&gt; |\n",
       "|---|---|---|\n",
       "| 1 | 1 | 34 |\n",
       "| 2 | 2 | 11 |\n",
       "| 3 | 3 | 37 |\n",
       "| 4 | 4 | 15 |\n",
       "| 5 | 5 | 46 |\n",
       "| 6 | 6 | 10 |\n",
       "\n"
      ],
      "text/plain": [
       "  Module Count\n",
       "1 1      34   \n",
       "2 2      11   \n",
       "3 3      37   \n",
       "4 4      15   \n",
       "5 5      46   \n",
       "6 6      10   "
      ]
     },
     "metadata": {},
     "output_type": "display_data"
    }
   ],
   "source": [
    "dat = dat_tfzscore\n",
    "lst = split(dat$TF, dat$module)\n",
    "res = lapply(lst, length)\n",
    "dat = data.frame(Module = names(res), Count = unlist(res))\n",
    "dat = dat %>% dplyr::mutate(Module = factor(Module, levels=1:77))\n",
    "head(dat)"
   ]
  },
  {
   "cell_type": "code",
   "execution_count": 34,
   "metadata": {},
   "outputs": [
    {
     "data": {
      "image/png": "[encoded data removed]",
      "text/plain": [
       "plot without title"
      ]
     },
     "metadata": {
      "image/png": {
       "height": 300,
       "width": 900
      }
     },
     "output_type": "display_data"
    }
   ],
   "source": [
    "gpt = ggplot(dat, aes(x=Module, y=Count)) + \n",
    "    geom_col() + \n",
    "    labs(x=\"TF Modules\", y=\"Count (#TFs)\") +\n",
    "    theme_cowplot()\n",
    "\n",
    "options(repr.plot.height=5, repr.plot.width=15)\n",
    "print(gpt)"
   ]
  },
  {
   "cell_type": "code",
   "execution_count": 40,
   "metadata": {},
   "outputs": [
    {
     "data": {
      "text/html": [
       "'ARID3A, ATF2, ATF3, ATF7, BHLHE40, CREM, DPF2, EGR1, EHMT2, EP300, FOSL1, FOXA3, FOXK2, IKZF1, JUN, JUNB, JUND, LCOR, MEF2A, MEF2D, MEIS2, NR2F1, PBX2, PRDM10, RCOR1, RNF2, SMARCC2, SMARCE1, SOX6, TCF3, TEAD1, TEAD4, ZNF318, ZNF589'"
      ],
      "text/latex": [
       "'ARID3A, ATF2, ATF3, ATF7, BHLHE40, CREM, DPF2, EGR1, EHMT2, EP300, FOSL1, FOXA3, FOXK2, IKZF1, JUN, JUNB, JUND, LCOR, MEF2A, MEF2D, MEIS2, NR2F1, PBX2, PRDM10, RCOR1, RNF2, SMARCC2, SMARCE1, SOX6, TCF3, TEAD1, TEAD4, ZNF318, ZNF589'"
      ],
      "text/markdown": [
       "'ARID3A, ATF2, ATF3, ATF7, BHLHE40, CREM, DPF2, EGR1, EHMT2, EP300, FOSL1, FOXA3, FOXK2, IKZF1, JUN, JUNB, JUND, LCOR, MEF2A, MEF2D, MEIS2, NR2F1, PBX2, PRDM10, RCOR1, RNF2, SMARCC2, SMARCE1, SOX6, TCF3, TEAD1, TEAD4, ZNF318, ZNF589'"
      ],
      "text/plain": [
       "[1] \"ARID3A, ATF2, ATF3, ATF7, BHLHE40, CREM, DPF2, EGR1, EHMT2, EP300, FOSL1, FOXA3, FOXK2, IKZF1, JUN, JUNB, JUND, LCOR, MEF2A, MEF2D, MEIS2, NR2F1, PBX2, PRDM10, RCOR1, RNF2, SMARCC2, SMARCE1, SOX6, TCF3, TEAD1, TEAD4, ZNF318, ZNF589\""
      ]
     },
     "metadata": {},
     "output_type": "display_data"
    }
   ],
   "source": [
    "paste(sort(lst[[1]]), collapse=\", \") "
   ]
  },
  {
   "cell_type": "code",
   "execution_count": 24,
   "metadata": {},
   "outputs": [
    {
     "data": {
      "text/plain": [
       "\n",
       " chr1 chr10 chr11 chr12 chr13 chr14 chr15 chr16 chr17 chr18 chr19  chr2 chr20 \n",
       "20011  7690  8866  8630  2439  3955  5440  6940  7997  3019  9143 12289  4712 \n",
       "chr21 chr22  chr3  chr4  chr5  chr6  chr7  chr8  chr9  chrX \n",
       " 2278  4669 10238  6871  8448 11951 10825  7125  6316  4130 "
      ]
     },
     "metadata": {},
     "output_type": "display_data"
    }
   ],
   "source": [
    "CHROMS = paste0(\"chr\", c(1:22, \"X\", \"Y\"))\n",
    "dat = dat_region\n",
    "dat = dat %>% dplyr::filter(chr %in% CHROMS)\n",
    "table(dat$chr)"
   ]
  },
  {
   "cell_type": "code",
   "execution_count": 5,
   "metadata": {},
   "outputs": [
    {
     "data": {
      "text/html": [
       "<style>\n",
       ".list-inline {list-style: none; margin:0; padding: 0}\n",
       ".list-inline>li {display: inline-block}\n",
       ".list-inline>li:not(:last-child)::after {content: \"\\00b7\"; padding: 0 .5ex}\n",
       "</style>\n",
       "<ol class=list-inline><li>'1'</li><li>'2'</li><li>'3'</li><li>'4'</li><li>'5'</li><li>'6'</li><li>'7'</li><li>'8'</li><li>'9'</li><li>'10'</li><li>'11'</li><li>'12'</li><li>'13'</li><li>'14'</li><li>'15'</li><li>'16'</li><li>'17'</li><li>'18'</li><li>'19'</li><li>'20'</li><li>'21'</li><li>'22'</li><li>'23'</li><li>'24'</li><li>'25'</li><li>'26'</li><li>'27'</li><li>'28'</li><li>'29'</li><li>'30'</li><li>'31'</li><li>'33'</li><li>'34'</li><li>'35'</li><li>'36'</li><li>'37'</li><li>'39'</li><li>'40'</li><li>'41'</li><li>'42'</li><li>'43'</li><li>'44'</li><li>'45'</li><li>'46'</li><li>'47'</li><li>'48'</li><li>'49'</li><li>'50'</li><li>'51'</li><li>'52'</li><li>'53'</li><li>'54'</li><li>'55'</li><li>'56'</li><li>'57'</li><li>'58'</li><li>'59'</li><li>'61'</li><li>'63'</li><li>'64'</li><li>'65'</li><li>'66'</li><li>'67'</li><li>'68'</li><li>'71'</li><li>'72'</li><li>'73'</li><li>'74'</li><li>'75'</li><li>'77'</li><li>'chr'</li><li>'start'</li><li>'end'</li><li>'TFs'</li></ol>\n"
      ],
      "text/latex": [
       "\\begin{enumerate*}\n",
       "\\item '1'\n",
       "\\item '2'\n",
       "\\item '3'\n",
       "\\item '4'\n",
       "\\item '5'\n",
       "\\item '6'\n",
       "\\item '7'\n",
       "\\item '8'\n",
       "\\item '9'\n",
       "\\item '10'\n",
       "\\item '11'\n",
       "\\item '12'\n",
       "\\item '13'\n",
       "\\item '14'\n",
       "\\item '15'\n",
       "\\item '16'\n",
       "\\item '17'\n",
       "\\item '18'\n",
       "\\item '19'\n",
       "\\item '20'\n",
       "\\item '21'\n",
       "\\item '22'\n",
       "\\item '23'\n",
       "\\item '24'\n",
       "\\item '25'\n",
       "\\item '26'\n",
       "\\item '27'\n",
       "\\item '28'\n",
       "\\item '29'\n",
       "\\item '30'\n",
       "\\item '31'\n",
       "\\item '33'\n",
       "\\item '34'\n",
       "\\item '35'\n",
       "\\item '36'\n",
       "\\item '37'\n",
       "\\item '39'\n",
       "\\item '40'\n",
       "\\item '41'\n",
       "\\item '42'\n",
       "\\item '43'\n",
       "\\item '44'\n",
       "\\item '45'\n",
       "\\item '46'\n",
       "\\item '47'\n",
       "\\item '48'\n",
       "\\item '49'\n",
       "\\item '50'\n",
       "\\item '51'\n",
       "\\item '52'\n",
       "\\item '53'\n",
       "\\item '54'\n",
       "\\item '55'\n",
       "\\item '56'\n",
       "\\item '57'\n",
       "\\item '58'\n",
       "\\item '59'\n",
       "\\item '61'\n",
       "\\item '63'\n",
       "\\item '64'\n",
       "\\item '65'\n",
       "\\item '66'\n",
       "\\item '67'\n",
       "\\item '68'\n",
       "\\item '71'\n",
       "\\item '72'\n",
       "\\item '73'\n",
       "\\item '74'\n",
       "\\item '75'\n",
       "\\item '77'\n",
       "\\item 'chr'\n",
       "\\item 'start'\n",
       "\\item 'end'\n",
       "\\item 'TFs'\n",
       "\\end{enumerate*}\n"
      ],
      "text/markdown": [
       "1. '1'\n",
       "2. '2'\n",
       "3. '3'\n",
       "4. '4'\n",
       "5. '5'\n",
       "6. '6'\n",
       "7. '7'\n",
       "8. '8'\n",
       "9. '9'\n",
       "10. '10'\n",
       "11. '11'\n",
       "12. '12'\n",
       "13. '13'\n",
       "14. '14'\n",
       "15. '15'\n",
       "16. '16'\n",
       "17. '17'\n",
       "18. '18'\n",
       "19. '19'\n",
       "20. '20'\n",
       "21. '21'\n",
       "22. '22'\n",
       "23. '23'\n",
       "24. '24'\n",
       "25. '25'\n",
       "26. '26'\n",
       "27. '27'\n",
       "28. '28'\n",
       "29. '29'\n",
       "30. '30'\n",
       "31. '31'\n",
       "32. '33'\n",
       "33. '34'\n",
       "34. '35'\n",
       "35. '36'\n",
       "36. '37'\n",
       "37. '39'\n",
       "38. '40'\n",
       "39. '41'\n",
       "40. '42'\n",
       "41. '43'\n",
       "42. '44'\n",
       "43. '45'\n",
       "44. '46'\n",
       "45. '47'\n",
       "46. '48'\n",
       "47. '49'\n",
       "48. '50'\n",
       "49. '51'\n",
       "50. '52'\n",
       "51. '53'\n",
       "52. '54'\n",
       "53. '55'\n",
       "54. '56'\n",
       "55. '57'\n",
       "56. '58'\n",
       "57. '59'\n",
       "58. '61'\n",
       "59. '63'\n",
       "60. '64'\n",
       "61. '65'\n",
       "62. '66'\n",
       "63. '67'\n",
       "64. '68'\n",
       "65. '71'\n",
       "66. '72'\n",
       "67. '73'\n",
       "68. '74'\n",
       "69. '75'\n",
       "70. '77'\n",
       "71. 'chr'\n",
       "72. 'start'\n",
       "73. 'end'\n",
       "74. 'TFs'\n",
       "\n",
       "\n"
      ],
      "text/plain": [
       " [1] \"1\"     \"2\"     \"3\"     \"4\"     \"5\"     \"6\"     \"7\"     \"8\"     \"9\"    \n",
       "[10] \"10\"    \"11\"    \"12\"    \"13\"    \"14\"    \"15\"    \"16\"    \"17\"    \"18\"   \n",
       "[19] \"19\"    \"20\"    \"21\"    \"22\"    \"23\"    \"24\"    \"25\"    \"26\"    \"27\"   \n",
       "[28] \"28\"    \"29\"    \"30\"    \"31\"    \"33\"    \"34\"    \"35\"    \"36\"    \"37\"   \n",
       "[37] \"39\"    \"40\"    \"41\"    \"42\"    \"43\"    \"44\"    \"45\"    \"46\"    \"47\"   \n",
       "[46] \"48\"    \"49\"    \"50\"    \"51\"    \"52\"    \"53\"    \"54\"    \"55\"    \"56\"   \n",
       "[55] \"57\"    \"58\"    \"59\"    \"61\"    \"63\"    \"64\"    \"65\"    \"66\"    \"67\"   \n",
       "[64] \"68\"    \"71\"    \"72\"    \"73\"    \"74\"    \"75\"    \"77\"    \"chr\"   \"start\"\n",
       "[73] \"end\"   \"TFs\"  "
      ]
     },
     "metadata": {},
     "output_type": "display_data"
    }
   ],
   "source": [
    "colnames(dat)"
   ]
  },
  {
   "cell_type": "code",
   "execution_count": 6,
   "metadata": {},
   "outputs": [],
   "source": [
    "library(pheatmap)"
   ]
  },
  {
   "cell_type": "code",
   "execution_count": 25,
   "metadata": {},
   "outputs": [
    {
     "data": {
      "text/html": [
       "<table class=\"dataframe\">\n",
       "<caption>A data.frame: 6 × 70</caption>\n",
       "<thead>\n",
       "\t<tr><th></th><th scope=col>1</th><th scope=col>2</th><th scope=col>3</th><th scope=col>4</th><th scope=col>5</th><th scope=col>6</th><th scope=col>7</th><th scope=col>8</th><th scope=col>9</th><th scope=col>10</th><th scope=col>⋯</th><th scope=col>65</th><th scope=col>66</th><th scope=col>67</th><th scope=col>68</th><th scope=col>71</th><th scope=col>72</th><th scope=col>73</th><th scope=col>74</th><th scope=col>75</th><th scope=col>77</th></tr>\n",
       "\t<tr><th></th><th scope=col>&lt;dbl&gt;</th><th scope=col>&lt;dbl&gt;</th><th scope=col>&lt;dbl&gt;</th><th scope=col>&lt;dbl&gt;</th><th scope=col>&lt;dbl&gt;</th><th scope=col>&lt;dbl&gt;</th><th scope=col>&lt;dbl&gt;</th><th scope=col>&lt;dbl&gt;</th><th scope=col>&lt;dbl&gt;</th><th scope=col>&lt;dbl&gt;</th><th scope=col>⋯</th><th scope=col>&lt;dbl&gt;</th><th scope=col>&lt;dbl&gt;</th><th scope=col>&lt;dbl&gt;</th><th scope=col>&lt;dbl&gt;</th><th scope=col>&lt;dbl&gt;</th><th scope=col>&lt;dbl&gt;</th><th scope=col>&lt;dbl&gt;</th><th scope=col>&lt;dbl&gt;</th><th scope=col>&lt;dbl&gt;</th><th scope=col>&lt;dbl&gt;</th></tr>\n",
       "</thead>\n",
       "<tbody>\n",
       "\t<tr><th scope=row>chr1:861878-862129</th><td>0</td><td>0</td><td>0</td><td>0</td><td>1</td><td>0</td><td>0</td><td>0</td><td>0</td><td>0</td><td>⋯</td><td>0</td><td>0</td><td>0</td><td>0</td><td>0</td><td>0</td><td>0</td><td>0</td><td>0</td><td>0</td></tr>\n",
       "\t<tr><th scope=row>chr1:921082-921616</th><td>0</td><td>0</td><td>1</td><td>0</td><td>0</td><td>0</td><td>0</td><td>0</td><td>0</td><td>1</td><td>⋯</td><td>0</td><td>0</td><td>0</td><td>0</td><td>0</td><td>0</td><td>0</td><td>0</td><td>0</td><td>0</td></tr>\n",
       "\t<tr><th scope=row>chr1:923234-923417</th><td>0</td><td>0</td><td>0</td><td>0</td><td>0</td><td>0</td><td>0</td><td>0</td><td>0</td><td>0</td><td>⋯</td><td>0</td><td>0</td><td>0</td><td>0</td><td>0</td><td>0</td><td>0</td><td>0</td><td>0</td><td>0</td></tr>\n",
       "\t<tr><th scope=row>chr1:941420-941995</th><td>0</td><td>0</td><td>0</td><td>0</td><td>0</td><td>0</td><td>0</td><td>0</td><td>0</td><td>0</td><td>⋯</td><td>0</td><td>0</td><td>0</td><td>0</td><td>0</td><td>0</td><td>0</td><td>0</td><td>0</td><td>0</td></tr>\n",
       "\t<tr><th scope=row>chr1:960392-960709</th><td>0</td><td>0</td><td>0</td><td>0</td><td>0</td><td>0</td><td>0</td><td>0</td><td>0</td><td>0</td><td>⋯</td><td>0</td><td>0</td><td>0</td><td>0</td><td>0</td><td>0</td><td>0</td><td>0</td><td>0</td><td>0</td></tr>\n",
       "\t<tr><th scope=row>chr1:980693-980811</th><td>0</td><td>0</td><td>0</td><td>0</td><td>0</td><td>0</td><td>0</td><td>0</td><td>0</td><td>0</td><td>⋯</td><td>0</td><td>0</td><td>0</td><td>0</td><td>0</td><td>0</td><td>0</td><td>0</td><td>0</td><td>0</td></tr>\n",
       "</tbody>\n",
       "</table>\n"
      ],
      "text/latex": [
       "A data.frame: 6 × 70\n",
       "\\begin{tabular}{r|lllllllllllllllllllll}\n",
       "  & 1 & 2 & 3 & 4 & 5 & 6 & 7 & 8 & 9 & 10 & ⋯ & 65 & 66 & 67 & 68 & 71 & 72 & 73 & 74 & 75 & 77\\\\\n",
       "  & <dbl> & <dbl> & <dbl> & <dbl> & <dbl> & <dbl> & <dbl> & <dbl> & <dbl> & <dbl> & ⋯ & <dbl> & <dbl> & <dbl> & <dbl> & <dbl> & <dbl> & <dbl> & <dbl> & <dbl> & <dbl>\\\\\n",
       "\\hline\n",
       "\tchr1:861878-862129 & 0 & 0 & 0 & 0 & 1 & 0 & 0 & 0 & 0 & 0 & ⋯ & 0 & 0 & 0 & 0 & 0 & 0 & 0 & 0 & 0 & 0\\\\\n",
       "\tchr1:921082-921616 & 0 & 0 & 1 & 0 & 0 & 0 & 0 & 0 & 0 & 1 & ⋯ & 0 & 0 & 0 & 0 & 0 & 0 & 0 & 0 & 0 & 0\\\\\n",
       "\tchr1:923234-923417 & 0 & 0 & 0 & 0 & 0 & 0 & 0 & 0 & 0 & 0 & ⋯ & 0 & 0 & 0 & 0 & 0 & 0 & 0 & 0 & 0 & 0\\\\\n",
       "\tchr1:941420-941995 & 0 & 0 & 0 & 0 & 0 & 0 & 0 & 0 & 0 & 0 & ⋯ & 0 & 0 & 0 & 0 & 0 & 0 & 0 & 0 & 0 & 0\\\\\n",
       "\tchr1:960392-960709 & 0 & 0 & 0 & 0 & 0 & 0 & 0 & 0 & 0 & 0 & ⋯ & 0 & 0 & 0 & 0 & 0 & 0 & 0 & 0 & 0 & 0\\\\\n",
       "\tchr1:980693-980811 & 0 & 0 & 0 & 0 & 0 & 0 & 0 & 0 & 0 & 0 & ⋯ & 0 & 0 & 0 & 0 & 0 & 0 & 0 & 0 & 0 & 0\\\\\n",
       "\\end{tabular}\n"
      ],
      "text/markdown": [
       "\n",
       "A data.frame: 6 × 70\n",
       "\n",
       "| <!--/--> | 1 &lt;dbl&gt; | 2 &lt;dbl&gt; | 3 &lt;dbl&gt; | 4 &lt;dbl&gt; | 5 &lt;dbl&gt; | 6 &lt;dbl&gt; | 7 &lt;dbl&gt; | 8 &lt;dbl&gt; | 9 &lt;dbl&gt; | 10 &lt;dbl&gt; | ⋯ ⋯ | 65 &lt;dbl&gt; | 66 &lt;dbl&gt; | 67 &lt;dbl&gt; | 68 &lt;dbl&gt; | 71 &lt;dbl&gt; | 72 &lt;dbl&gt; | 73 &lt;dbl&gt; | 74 &lt;dbl&gt; | 75 &lt;dbl&gt; | 77 &lt;dbl&gt; |\n",
       "|---|---|---|---|---|---|---|---|---|---|---|---|---|---|---|---|---|---|---|---|---|---|\n",
       "| chr1:861878-862129 | 0 | 0 | 0 | 0 | 1 | 0 | 0 | 0 | 0 | 0 | ⋯ | 0 | 0 | 0 | 0 | 0 | 0 | 0 | 0 | 0 | 0 |\n",
       "| chr1:921082-921616 | 0 | 0 | 1 | 0 | 0 | 0 | 0 | 0 | 0 | 1 | ⋯ | 0 | 0 | 0 | 0 | 0 | 0 | 0 | 0 | 0 | 0 |\n",
       "| chr1:923234-923417 | 0 | 0 | 0 | 0 | 0 | 0 | 0 | 0 | 0 | 0 | ⋯ | 0 | 0 | 0 | 0 | 0 | 0 | 0 | 0 | 0 | 0 |\n",
       "| chr1:941420-941995 | 0 | 0 | 0 | 0 | 0 | 0 | 0 | 0 | 0 | 0 | ⋯ | 0 | 0 | 0 | 0 | 0 | 0 | 0 | 0 | 0 | 0 |\n",
       "| chr1:960392-960709 | 0 | 0 | 0 | 0 | 0 | 0 | 0 | 0 | 0 | 0 | ⋯ | 0 | 0 | 0 | 0 | 0 | 0 | 0 | 0 | 0 | 0 |\n",
       "| chr1:980693-980811 | 0 | 0 | 0 | 0 | 0 | 0 | 0 | 0 | 0 | 0 | ⋯ | 0 | 0 | 0 | 0 | 0 | 0 | 0 | 0 | 0 | 0 |\n",
       "\n"
      ],
      "text/plain": [
       "                   1 2 3 4 5 6 7 8 9 10 ⋯ 65 66 67 68 71 72 73 74 75 77\n",
       "chr1:861878-862129 0 0 0 0 1 0 0 0 0 0  ⋯ 0  0  0  0  0  0  0  0  0  0 \n",
       "chr1:921082-921616 0 0 1 0 0 0 0 0 0 1  ⋯ 0  0  0  0  0  0  0  0  0  0 \n",
       "chr1:923234-923417 0 0 0 0 0 0 0 0 0 0  ⋯ 0  0  0  0  0  0  0  0  0  0 \n",
       "chr1:941420-941995 0 0 0 0 0 0 0 0 0 0  ⋯ 0  0  0  0  0  0  0  0  0  0 \n",
       "chr1:960392-960709 0 0 0 0 0 0 0 0 0 0  ⋯ 0  0  0  0  0  0  0  0  0  0 \n",
       "chr1:980693-980811 0 0 0 0 0 0 0 0 0 0  ⋯ 0  0  0  0  0  0  0  0  0  0 "
      ]
     },
     "metadata": {},
     "output_type": "display_data"
    }
   ],
   "source": [
    "dat = dat_region\n",
    "dat = dat %>% \n",
    "    dplyr::mutate(Loc = paste0(chr, \":\", start, \"-\", end)) %>%\n",
    "    dplyr::filter(chr %in% CHROMS) %>%\n",
    "    dplyr::mutate(chr = factor(chr, levels=CHROMS)) \n",
    "\n",
    "set.seed(123)\n",
    "dat = dat %>% dplyr::slice_sample(n=10000) %>%\n",
    "    dplyr::arrange(chr, start, end)\n",
    "\n",
    "mat = dat %>% \n",
    "    dplyr::select(-chr, -start, -end, -TFs) %>% \n",
    "    column_to_rownames(\"Loc\")\n",
    "\n",
    "ant = dat %>% \n",
    "    dplyr::select(Loc, chr) %>% \n",
    "    column_to_rownames(\"Loc\")\n",
    "\n",
    "head(mat)"
   ]
  },
  {
   "cell_type": "code",
   "execution_count": 22,
   "metadata": {},
   "outputs": [
    {
     "data": {
      "image/png": "[encoded data removed]",
      "text/plain": [
       "plot without title"
      ]
     },
     "metadata": {
      "image/png": {
       "height": 600,
       "width": 600
      }
     },
     "output_type": "display_data"
    }
   ],
   "source": [
    "myColor = c(\"grey95\", \"black\")\n",
    "myBreaks = c(0, 0.5, 1)\n",
    "\n",
    "options(repr.plot.height=10, repr.plot.width=10)\n",
    "pheatmap(mat,\n",
    "         cluster_row  = FALSE,\n",
    "         cluster_cols = FALSE,\n",
    "         show_rownames = FALSE,\n",
    "         annotation_names_row = FALSE,\n",
    "         annotation_row = ant,\n",
    "         color=myColor, \n",
    "         breaks=myBreaks)"
   ]
  },
  {
   "cell_type": "code",
   "execution_count": null,
   "metadata": {},
   "outputs": [],
   "source": []
  }
 ],
 "metadata": {
  "kernelspec": {
   "display_name": "R",
   "language": "R",
   "name": "ir"
  },
  "language_info": {
   "codemirror_mode": "r",
   "file_extension": ".r",
   "mimetype": "text/x-r-source",
   "name": "R",
   "pygments_lexer": "r",
   "version": "4.3.0"
  }
 },
 "nbformat": 4,
 "nbformat_minor": 4
}
