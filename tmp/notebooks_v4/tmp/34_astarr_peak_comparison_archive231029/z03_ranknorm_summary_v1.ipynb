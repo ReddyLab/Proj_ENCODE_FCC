{
 "cells": [
  {
   "cell_type": "markdown",
   "metadata": {},
   "source": [
    "**Set environment**"
   ]
  },
  {
   "cell_type": "code",
   "execution_count": 1,
   "metadata": {},
   "outputs": [
    {
     "name": "stdout",
     "output_type": "stream",
     "text": [
      "You are in Singularity: singularity_proj_encode_fcc \n",
      "BASE DIRECTORY (FD_BASE): /data/reddylab/Kuei \n",
      "WORK DIRECTORY (FD_WORK): /data/reddylab/Kuei/out \n",
      "CODE DIRECTORY (FD_CODE): /data/reddylab/Kuei/code \n",
      "PATH OF PROJECT (FD_PRJ): /data/reddylab/Kuei/code/Proj_CombEffect_ENCODE_FCC \n",
      "PATH OF RESULTS (FD_RES): /data/reddylab/Kuei/out/proj_combeffect_encode_fcc \n",
      "PATH OF LOG     (FD_LOG): /data/reddylab/Kuei/out/proj_combeffect_encode_fcc/log \n"
     ]
    }
   ],
   "source": [
    "suppressMessages(suppressWarnings(source(\"../config/config_sing.R\")))\n",
    "show_env()"
   ]
  },
  {
   "cell_type": "markdown",
   "metadata": {},
   "source": [
    "## Import data"
   ]
  },
  {
   "cell_type": "markdown",
   "metadata": {},
   "source": [
    "**STARR/MPRA**"
   ]
  },
  {
   "cell_type": "code",
   "execution_count": 2,
   "metadata": {},
   "outputs": [
    {
     "name": "stderr",
     "output_type": "stream",
     "text": [
      "\u001b[1mRows: \u001b[22m\u001b[34m5166\u001b[39m \u001b[1mColumns: \u001b[22m\u001b[34m10\u001b[39m\n",
      "\u001b[36m──\u001b[39m \u001b[1mColumn specification\u001b[22m \u001b[36m─────────────────────────────────────────────────────────────────────\u001b[39m\n",
      "\u001b[1mDelimiter:\u001b[22m \"\\t\"\n",
      "\u001b[31mchr\u001b[39m (6): Chrom, Peak, TMPRA_Gene, TMPRA_Dataset, CRISPR_HCFF, Assay\n",
      "\u001b[32mdbl\u001b[39m (4): Start, End, Log2FC, RankNorm_Total\n",
      "\n",
      "\u001b[36mℹ\u001b[39m Use `spec()` to retrieve the full column specification for this data.\n",
      "\u001b[36mℹ\u001b[39m Specify the column types or set `show_col_types = FALSE` to quiet this message.\n"
     ]
    },
    {
     "name": "stdout",
     "output_type": "stream",
     "text": [
      "[1] 5166   10\n"
     ]
    },
    {
     "data": {
      "text/html": [
       "<table class=\"dataframe\">\n",
       "<caption>A tibble: 6 × 10</caption>\n",
       "<thead>\n",
       "\t<tr><th scope=col>Chrom</th><th scope=col>Start</th><th scope=col>End</th><th scope=col>Peak</th><th scope=col>TMPRA_Gene</th><th scope=col>TMPRA_Dataset</th><th scope=col>CRISPR_HCFF</th><th scope=col>Assay</th><th scope=col>Log2FC</th><th scope=col>RankNorm_Total</th></tr>\n",
       "\t<tr><th scope=col>&lt;chr&gt;</th><th scope=col>&lt;dbl&gt;</th><th scope=col>&lt;dbl&gt;</th><th scope=col>&lt;chr&gt;</th><th scope=col>&lt;chr&gt;</th><th scope=col>&lt;chr&gt;</th><th scope=col>&lt;chr&gt;</th><th scope=col>&lt;chr&gt;</th><th scope=col>&lt;dbl&gt;</th><th scope=col>&lt;dbl&gt;</th></tr>\n",
       "</thead>\n",
       "<tbody>\n",
       "\t<tr><td>chr11</td><td>4539569</td><td>4540043</td><td>chr11:4539569-4540043</td><td>HBE1</td><td>OL45</td><td>HBE1,HBG1,HBG2,HBS1L,MYB</td><td>ASTARR</td><td> 0.14501695</td><td>0.6550523</td></tr>\n",
       "\t<tr><td>chr11</td><td>4551336</td><td>4552012</td><td>chr11:4551336-4552012</td><td>HBE1</td><td>OL45</td><td>NA                      </td><td>ASTARR</td><td> 0.32125162</td><td>0.7560976</td></tr>\n",
       "\t<tr><td>chr11</td><td>4553969</td><td>4555012</td><td>chr11:4553969-4555012</td><td>HBE1</td><td>OL45</td><td>NA                      </td><td>ASTARR</td><td> 0.14529397</td><td>0.6556330</td></tr>\n",
       "\t<tr><td>chr11</td><td>4569016</td><td>4569992</td><td>chr11:4569016-4569992</td><td>HBE1</td><td>OL45</td><td>NA                      </td><td>ASTARR</td><td> 0.01136464</td><td>0.5673635</td></tr>\n",
       "\t<tr><td>chr11</td><td>4577444</td><td>4578031</td><td>chr11:4577444-4578031</td><td>HBE1</td><td>OL45</td><td>NA                      </td><td>ASTARR</td><td> 0.24524353</td><td>0.7154472</td></tr>\n",
       "\t<tr><td>chr11</td><td>4601808</td><td>4602487</td><td>chr11:4601808-4602487</td><td>HBE1</td><td>OL45</td><td>NA                      </td><td>ASTARR</td><td>-0.57215284</td><td>0.1277584</td></tr>\n",
       "</tbody>\n",
       "</table>\n"
      ],
      "text/latex": [
       "A tibble: 6 × 10\n",
       "\\begin{tabular}{llllllllll}\n",
       " Chrom & Start & End & Peak & TMPRA\\_Gene & TMPRA\\_Dataset & CRISPR\\_HCFF & Assay & Log2FC & RankNorm\\_Total\\\\\n",
       " <chr> & <dbl> & <dbl> & <chr> & <chr> & <chr> & <chr> & <chr> & <dbl> & <dbl>\\\\\n",
       "\\hline\n",
       "\t chr11 & 4539569 & 4540043 & chr11:4539569-4540043 & HBE1 & OL45 & HBE1,HBG1,HBG2,HBS1L,MYB & ASTARR &  0.14501695 & 0.6550523\\\\\n",
       "\t chr11 & 4551336 & 4552012 & chr11:4551336-4552012 & HBE1 & OL45 & NA                       & ASTARR &  0.32125162 & 0.7560976\\\\\n",
       "\t chr11 & 4553969 & 4555012 & chr11:4553969-4555012 & HBE1 & OL45 & NA                       & ASTARR &  0.14529397 & 0.6556330\\\\\n",
       "\t chr11 & 4569016 & 4569992 & chr11:4569016-4569992 & HBE1 & OL45 & NA                       & ASTARR &  0.01136464 & 0.5673635\\\\\n",
       "\t chr11 & 4577444 & 4578031 & chr11:4577444-4578031 & HBE1 & OL45 & NA                       & ASTARR &  0.24524353 & 0.7154472\\\\\n",
       "\t chr11 & 4601808 & 4602487 & chr11:4601808-4602487 & HBE1 & OL45 & NA                       & ASTARR & -0.57215284 & 0.1277584\\\\\n",
       "\\end{tabular}\n"
      ],
      "text/markdown": [
       "\n",
       "A tibble: 6 × 10\n",
       "\n",
       "| Chrom &lt;chr&gt; | Start &lt;dbl&gt; | End &lt;dbl&gt; | Peak &lt;chr&gt; | TMPRA_Gene &lt;chr&gt; | TMPRA_Dataset &lt;chr&gt; | CRISPR_HCFF &lt;chr&gt; | Assay &lt;chr&gt; | Log2FC &lt;dbl&gt; | RankNorm_Total &lt;dbl&gt; |\n",
       "|---|---|---|---|---|---|---|---|---|---|\n",
       "| chr11 | 4539569 | 4540043 | chr11:4539569-4540043 | HBE1 | OL45 | HBE1,HBG1,HBG2,HBS1L,MYB | ASTARR |  0.14501695 | 0.6550523 |\n",
       "| chr11 | 4551336 | 4552012 | chr11:4551336-4552012 | HBE1 | OL45 | NA                       | ASTARR |  0.32125162 | 0.7560976 |\n",
       "| chr11 | 4553969 | 4555012 | chr11:4553969-4555012 | HBE1 | OL45 | NA                       | ASTARR |  0.14529397 | 0.6556330 |\n",
       "| chr11 | 4569016 | 4569992 | chr11:4569016-4569992 | HBE1 | OL45 | NA                       | ASTARR |  0.01136464 | 0.5673635 |\n",
       "| chr11 | 4577444 | 4578031 | chr11:4577444-4578031 | HBE1 | OL45 | NA                       | ASTARR |  0.24524353 | 0.7154472 |\n",
       "| chr11 | 4601808 | 4602487 | chr11:4601808-4602487 | HBE1 | OL45 | NA                       | ASTARR | -0.57215284 | 0.1277584 |\n",
       "\n"
      ],
      "text/plain": [
       "  Chrom Start   End     Peak                  TMPRA_Gene TMPRA_Dataset\n",
       "1 chr11 4539569 4540043 chr11:4539569-4540043 HBE1       OL45         \n",
       "2 chr11 4551336 4552012 chr11:4551336-4552012 HBE1       OL45         \n",
       "3 chr11 4553969 4555012 chr11:4553969-4555012 HBE1       OL45         \n",
       "4 chr11 4569016 4569992 chr11:4569016-4569992 HBE1       OL45         \n",
       "5 chr11 4577444 4578031 chr11:4577444-4578031 HBE1       OL45         \n",
       "6 chr11 4601808 4602487 chr11:4601808-4602487 HBE1       OL45         \n",
       "  CRISPR_HCFF              Assay  Log2FC      RankNorm_Total\n",
       "1 HBE1,HBG1,HBG2,HBS1L,MYB ASTARR  0.14501695 0.6550523     \n",
       "2 NA                       ASTARR  0.32125162 0.7560976     \n",
       "3 NA                       ASTARR  0.14529397 0.6556330     \n",
       "4 NA                       ASTARR  0.01136464 0.5673635     \n",
       "5 NA                       ASTARR  0.24524353 0.7154472     \n",
       "6 NA                       ASTARR -0.57215284 0.1277584     "
      ]
     },
     "metadata": {},
     "output_type": "display_data"
    }
   ],
   "source": [
    "### set file directories\n",
    "fdiry = file.path(FD_RES, \"results\", \"comparison\")\n",
    "fname = \"result.ranknorm.starrmpra.tsv\"\n",
    "fpath = file.path(fdiry, fname)\n",
    "\n",
    "### read data\n",
    "dat = read_tsv(fpath)\n",
    "\n",
    "### assign and show\n",
    "dat_peak_summary_starrmpra = dat\n",
    "print(dim(dat))\n",
    "head(dat)"
   ]
  },
  {
   "cell_type": "markdown",
   "metadata": {},
   "source": [
    "**CRISPR**"
   ]
  },
  {
   "cell_type": "code",
   "execution_count": 3,
   "metadata": {},
   "outputs": [
    {
     "name": "stderr",
     "output_type": "stream",
     "text": [
      "\u001b[1mRows: \u001b[22m\u001b[34m3084\u001b[39m \u001b[1mColumns: \u001b[22m\u001b[34m9\u001b[39m\n",
      "\u001b[36m──\u001b[39m \u001b[1mColumn specification\u001b[22m \u001b[36m─────────────────────────────────────────────────────────────────────\u001b[39m\n",
      "\u001b[1mDelimiter:\u001b[22m \"\\t\"\n",
      "\u001b[31mchr\u001b[39m (2): Peak, Gene\n",
      "\u001b[32mdbl\u001b[39m (7): Mean, Median, Max, Min, Count, Mean_Neg, Mean_Pos\n",
      "\n",
      "\u001b[36mℹ\u001b[39m Use `spec()` to retrieve the full column specification for this data.\n",
      "\u001b[36mℹ\u001b[39m Specify the column types or set `show_col_types = FALSE` to quiet this message.\n"
     ]
    },
    {
     "name": "stdout",
     "output_type": "stream",
     "text": [
      "[1] 3084    9\n"
     ]
    },
    {
     "data": {
      "text/html": [
       "<table class=\"dataframe\">\n",
       "<caption>A tibble: 6 × 9</caption>\n",
       "<thead>\n",
       "\t<tr><th scope=col>Peak</th><th scope=col>Gene</th><th scope=col>Mean</th><th scope=col>Median</th><th scope=col>Max</th><th scope=col>Min</th><th scope=col>Count</th><th scope=col>Mean_Neg</th><th scope=col>Mean_Pos</th></tr>\n",
       "\t<tr><th scope=col>&lt;chr&gt;</th><th scope=col>&lt;chr&gt;</th><th scope=col>&lt;dbl&gt;</th><th scope=col>&lt;dbl&gt;</th><th scope=col>&lt;dbl&gt;</th><th scope=col>&lt;dbl&gt;</th><th scope=col>&lt;dbl&gt;</th><th scope=col>&lt;dbl&gt;</th><th scope=col>&lt;dbl&gt;</th></tr>\n",
       "</thead>\n",
       "<tbody>\n",
       "\t<tr><td>chr11:33065336-33066228</td><td>CAPRIN1</td><td>-0.27343935</td><td>-0.2533300</td><td>1.82911</td><td>-2.32196</td><td>46</td><td>-0.5695431</td><td>0.4782085</td></tr>\n",
       "\t<tr><td>chr11:33065336-33066228</td><td>CAT    </td><td>-0.01256696</td><td>-0.1384765</td><td>1.43868</td><td>-1.77410</td><td>46</td><td>-0.5122241</td><td>0.6369873</td></tr>\n",
       "\t<tr><td>chr11:33065336-33066228</td><td>LMO2   </td><td> 0.03675483</td><td>-0.0071000</td><td>1.09905</td><td>-1.14702</td><td>46</td><td>-0.4276747</td><td>0.5011843</td></tr>\n",
       "\t<tr><td>chr11:33068519-33069100</td><td>CAPRIN1</td><td>-0.11785479</td><td>-0.0847600</td><td>1.64429</td><td>-2.01338</td><td>53</td><td>-0.4252182</td><td>0.4797963</td></tr>\n",
       "\t<tr><td>chr11:33068519-33069100</td><td>CAT    </td><td>-0.15932204</td><td>-0.1697360</td><td>2.12211</td><td>-2.59035</td><td>53</td><td>-0.6266582</td><td>0.6769637</td></tr>\n",
       "\t<tr><td>chr11:33068519-33069100</td><td>LMO2   </td><td>-0.08303026</td><td>-0.1090310</td><td>2.73010</td><td>-2.25265</td><td>53</td><td>-0.5389359</td><td>0.5116293</td></tr>\n",
       "</tbody>\n",
       "</table>\n"
      ],
      "text/latex": [
       "A tibble: 6 × 9\n",
       "\\begin{tabular}{lllllllll}\n",
       " Peak & Gene & Mean & Median & Max & Min & Count & Mean\\_Neg & Mean\\_Pos\\\\\n",
       " <chr> & <chr> & <dbl> & <dbl> & <dbl> & <dbl> & <dbl> & <dbl> & <dbl>\\\\\n",
       "\\hline\n",
       "\t chr11:33065336-33066228 & CAPRIN1 & -0.27343935 & -0.2533300 & 1.82911 & -2.32196 & 46 & -0.5695431 & 0.4782085\\\\\n",
       "\t chr11:33065336-33066228 & CAT     & -0.01256696 & -0.1384765 & 1.43868 & -1.77410 & 46 & -0.5122241 & 0.6369873\\\\\n",
       "\t chr11:33065336-33066228 & LMO2    &  0.03675483 & -0.0071000 & 1.09905 & -1.14702 & 46 & -0.4276747 & 0.5011843\\\\\n",
       "\t chr11:33068519-33069100 & CAPRIN1 & -0.11785479 & -0.0847600 & 1.64429 & -2.01338 & 53 & -0.4252182 & 0.4797963\\\\\n",
       "\t chr11:33068519-33069100 & CAT     & -0.15932204 & -0.1697360 & 2.12211 & -2.59035 & 53 & -0.6266582 & 0.6769637\\\\\n",
       "\t chr11:33068519-33069100 & LMO2    & -0.08303026 & -0.1090310 & 2.73010 & -2.25265 & 53 & -0.5389359 & 0.5116293\\\\\n",
       "\\end{tabular}\n"
      ],
      "text/markdown": [
       "\n",
       "A tibble: 6 × 9\n",
       "\n",
       "| Peak &lt;chr&gt; | Gene &lt;chr&gt; | Mean &lt;dbl&gt; | Median &lt;dbl&gt; | Max &lt;dbl&gt; | Min &lt;dbl&gt; | Count &lt;dbl&gt; | Mean_Neg &lt;dbl&gt; | Mean_Pos &lt;dbl&gt; |\n",
       "|---|---|---|---|---|---|---|---|---|\n",
       "| chr11:33065336-33066228 | CAPRIN1 | -0.27343935 | -0.2533300 | 1.82911 | -2.32196 | 46 | -0.5695431 | 0.4782085 |\n",
       "| chr11:33065336-33066228 | CAT     | -0.01256696 | -0.1384765 | 1.43868 | -1.77410 | 46 | -0.5122241 | 0.6369873 |\n",
       "| chr11:33065336-33066228 | LMO2    |  0.03675483 | -0.0071000 | 1.09905 | -1.14702 | 46 | -0.4276747 | 0.5011843 |\n",
       "| chr11:33068519-33069100 | CAPRIN1 | -0.11785479 | -0.0847600 | 1.64429 | -2.01338 | 53 | -0.4252182 | 0.4797963 |\n",
       "| chr11:33068519-33069100 | CAT     | -0.15932204 | -0.1697360 | 2.12211 | -2.59035 | 53 | -0.6266582 | 0.6769637 |\n",
       "| chr11:33068519-33069100 | LMO2    | -0.08303026 | -0.1090310 | 2.73010 | -2.25265 | 53 | -0.5389359 | 0.5116293 |\n",
       "\n"
      ],
      "text/plain": [
       "  Peak                    Gene    Mean        Median     Max     Min      Count\n",
       "1 chr11:33065336-33066228 CAPRIN1 -0.27343935 -0.2533300 1.82911 -2.32196 46   \n",
       "2 chr11:33065336-33066228 CAT     -0.01256696 -0.1384765 1.43868 -1.77410 46   \n",
       "3 chr11:33065336-33066228 LMO2     0.03675483 -0.0071000 1.09905 -1.14702 46   \n",
       "4 chr11:33068519-33069100 CAPRIN1 -0.11785479 -0.0847600 1.64429 -2.01338 53   \n",
       "5 chr11:33068519-33069100 CAT     -0.15932204 -0.1697360 2.12211 -2.59035 53   \n",
       "6 chr11:33068519-33069100 LMO2    -0.08303026 -0.1090310 2.73010 -2.25265 53   \n",
       "  Mean_Neg   Mean_Pos \n",
       "1 -0.5695431 0.4782085\n",
       "2 -0.5122241 0.6369873\n",
       "3 -0.4276747 0.5011843\n",
       "4 -0.4252182 0.4797963\n",
       "5 -0.6266582 0.6769637\n",
       "6 -0.5389359 0.5116293"
      ]
     },
     "metadata": {},
     "output_type": "display_data"
    }
   ],
   "source": [
    "ASSAY   = \"CRISPRi_FlowFISH\"\n",
    "FOLDER  = \"coverage_astarrseq_peak_macs_input\"\n",
    "\n",
    "fdiry = file.path(FD_RES, \"results\", ASSAY, FOLDER, \"summary\")\n",
    "fname = \"results.summary.Merge.tsv\"\n",
    "fpath = file.path(fdiry, fname)\n",
    "\n",
    "dat = read_tsv(fpath)\n",
    "\n",
    "dat_peak_summary_crispri_hcrff = dat\n",
    "print(dim(dat))\n",
    "head(dat)"
   ]
  },
  {
   "cell_type": "code",
   "execution_count": 4,
   "metadata": {},
   "outputs": [
    {
     "name": "stderr",
     "output_type": "stream",
     "text": [
      "\u001b[1mRows: \u001b[22m\u001b[34m80288\u001b[39m \u001b[1mColumns: \u001b[22m\u001b[34m8\u001b[39m\n",
      "\u001b[36m──\u001b[39m \u001b[1mColumn specification\u001b[22m \u001b[36m─────────────────────────────────────────────────────────────────────\u001b[39m\n",
      "\u001b[1mDelimiter:\u001b[22m \"\\t\"\n",
      "\u001b[31mchr\u001b[39m (1): Peak\n",
      "\u001b[32mdbl\u001b[39m (7): Mean, Median, Max, Min, Count, Mean_Neg, Mean_Pos\n",
      "\n",
      "\u001b[36mℹ\u001b[39m Use `spec()` to retrieve the full column specification for this data.\n",
      "\u001b[36mℹ\u001b[39m Specify the column types or set `show_col_types = FALSE` to quiet this message.\n"
     ]
    },
    {
     "name": "stdout",
     "output_type": "stream",
     "text": [
      "[1] 80288     8\n"
     ]
    },
    {
     "data": {
      "text/html": [
       "<table class=\"dataframe\">\n",
       "<caption>A tibble: 6 × 8</caption>\n",
       "<thead>\n",
       "\t<tr><th scope=col>Peak</th><th scope=col>Mean</th><th scope=col>Median</th><th scope=col>Max</th><th scope=col>Min</th><th scope=col>Count</th><th scope=col>Mean_Neg</th><th scope=col>Mean_Pos</th></tr>\n",
       "\t<tr><th scope=col>&lt;chr&gt;</th><th scope=col>&lt;dbl&gt;</th><th scope=col>&lt;dbl&gt;</th><th scope=col>&lt;dbl&gt;</th><th scope=col>&lt;dbl&gt;</th><th scope=col>&lt;dbl&gt;</th><th scope=col>&lt;dbl&gt;</th><th scope=col>&lt;dbl&gt;</th></tr>\n",
       "</thead>\n",
       "<tbody>\n",
       "\t<tr><td>chr10:100009096-100010466</td><td>-0.03786170</td><td> 0.0303830</td><td>0.526902</td><td>-0.655965</td><td>10</td><td>-0.3840866</td><td>0.3083632</td></tr>\n",
       "\t<tr><td>chr10:100045961-100046653</td><td> 0.10873570</td><td> 0.1820295</td><td>0.646953</td><td>-0.497578</td><td>10</td><td>-0.2750008</td><td>0.3645600</td></tr>\n",
       "\t<tr><td>chr10:100065094-100065486</td><td>-0.00323730</td><td>-0.0931995</td><td>1.305380</td><td>-0.677550</td><td>10</td><td>-0.3639722</td><td>0.5378650</td></tr>\n",
       "\t<tr><td>chr10:100129051-100131059</td><td>-0.26576144</td><td>-0.2617330</td><td>0.253159</td><td>-0.767330</td><td> 9</td><td>-0.4522120</td><td>0.1071397</td></tr>\n",
       "\t<tr><td>chr10:100185017-100187275</td><td>-0.01202196</td><td>-0.0613300</td><td>0.730481</td><td>-0.954435</td><td>25</td><td>-0.2790666</td><td>0.3278531</td></tr>\n",
       "\t<tr><td>chr10:100228452-100230090</td><td>-0.01822050</td><td> 0.0722880</td><td>0.446912</td><td>-0.768059</td><td>10</td><td>-0.3293750</td><td>0.1892158</td></tr>\n",
       "</tbody>\n",
       "</table>\n"
      ],
      "text/latex": [
       "A tibble: 6 × 8\n",
       "\\begin{tabular}{llllllll}\n",
       " Peak & Mean & Median & Max & Min & Count & Mean\\_Neg & Mean\\_Pos\\\\\n",
       " <chr> & <dbl> & <dbl> & <dbl> & <dbl> & <dbl> & <dbl> & <dbl>\\\\\n",
       "\\hline\n",
       "\t chr10:100009096-100010466 & -0.03786170 &  0.0303830 & 0.526902 & -0.655965 & 10 & -0.3840866 & 0.3083632\\\\\n",
       "\t chr10:100045961-100046653 &  0.10873570 &  0.1820295 & 0.646953 & -0.497578 & 10 & -0.2750008 & 0.3645600\\\\\n",
       "\t chr10:100065094-100065486 & -0.00323730 & -0.0931995 & 1.305380 & -0.677550 & 10 & -0.3639722 & 0.5378650\\\\\n",
       "\t chr10:100129051-100131059 & -0.26576144 & -0.2617330 & 0.253159 & -0.767330 &  9 & -0.4522120 & 0.1071397\\\\\n",
       "\t chr10:100185017-100187275 & -0.01202196 & -0.0613300 & 0.730481 & -0.954435 & 25 & -0.2790666 & 0.3278531\\\\\n",
       "\t chr10:100228452-100230090 & -0.01822050 &  0.0722880 & 0.446912 & -0.768059 & 10 & -0.3293750 & 0.1892158\\\\\n",
       "\\end{tabular}\n"
      ],
      "text/markdown": [
       "\n",
       "A tibble: 6 × 8\n",
       "\n",
       "| Peak &lt;chr&gt; | Mean &lt;dbl&gt; | Median &lt;dbl&gt; | Max &lt;dbl&gt; | Min &lt;dbl&gt; | Count &lt;dbl&gt; | Mean_Neg &lt;dbl&gt; | Mean_Pos &lt;dbl&gt; |\n",
       "|---|---|---|---|---|---|---|---|\n",
       "| chr10:100009096-100010466 | -0.03786170 |  0.0303830 | 0.526902 | -0.655965 | 10 | -0.3840866 | 0.3083632 |\n",
       "| chr10:100045961-100046653 |  0.10873570 |  0.1820295 | 0.646953 | -0.497578 | 10 | -0.2750008 | 0.3645600 |\n",
       "| chr10:100065094-100065486 | -0.00323730 | -0.0931995 | 1.305380 | -0.677550 | 10 | -0.3639722 | 0.5378650 |\n",
       "| chr10:100129051-100131059 | -0.26576144 | -0.2617330 | 0.253159 | -0.767330 |  9 | -0.4522120 | 0.1071397 |\n",
       "| chr10:100185017-100187275 | -0.01202196 | -0.0613300 | 0.730481 | -0.954435 | 25 | -0.2790666 | 0.3278531 |\n",
       "| chr10:100228452-100230090 | -0.01822050 |  0.0722880 | 0.446912 | -0.768059 | 10 | -0.3293750 | 0.1892158 |\n",
       "\n"
      ],
      "text/plain": [
       "  Peak                      Mean        Median     Max      Min       Count\n",
       "1 chr10:100009096-100010466 -0.03786170  0.0303830 0.526902 -0.655965 10   \n",
       "2 chr10:100045961-100046653  0.10873570  0.1820295 0.646953 -0.497578 10   \n",
       "3 chr10:100065094-100065486 -0.00323730 -0.0931995 1.305380 -0.677550 10   \n",
       "4 chr10:100129051-100131059 -0.26576144 -0.2617330 0.253159 -0.767330  9   \n",
       "5 chr10:100185017-100187275 -0.01202196 -0.0613300 0.730481 -0.954435 25   \n",
       "6 chr10:100228452-100230090 -0.01822050  0.0722880 0.446912 -0.768059 10   \n",
       "  Mean_Neg   Mean_Pos \n",
       "1 -0.3840866 0.3083632\n",
       "2 -0.2750008 0.3645600\n",
       "3 -0.3639722 0.5378650\n",
       "4 -0.4522120 0.1071397\n",
       "5 -0.2790666 0.3278531\n",
       "6 -0.3293750 0.1892158"
      ]
     },
     "metadata": {},
     "output_type": "display_data"
    }
   ],
   "source": [
    "ASSAY   = \"CRISPRi_Growth_K562_Gersbach\"\n",
    "FOLDER  = \"coverage_astarrseq_peak_macs_input\"\n",
    "\n",
    "fdiry = file.path(FD_RES, \"results\", ASSAY, FOLDER, \"summary\")\n",
    "fname = \"results.summary.tsv\"\n",
    "fpath = file.path(fdiry, fname)\n",
    "\n",
    "dat = read_tsv(fpath)\n",
    "\n",
    "dat_peak_summary_crispri_growth = dat\n",
    "print(dim(dat))\n",
    "head(dat)"
   ]
  },
  {
   "cell_type": "code",
   "execution_count": 5,
   "metadata": {},
   "outputs": [
    {
     "name": "stderr",
     "output_type": "stream",
     "text": [
      "\u001b[1mRows: \u001b[22m\u001b[34m37180\u001b[39m \u001b[1mColumns: \u001b[22m\u001b[34m7\u001b[39m\n",
      "\u001b[36m──\u001b[39m \u001b[1mColumn specification\u001b[22m \u001b[36m─────────────────────────────────────────────────────────────────────\u001b[39m\n",
      "\u001b[1mDelimiter:\u001b[22m \"\\t\"\n",
      "\u001b[31mchr\u001b[39m (1): Peak\n",
      "\u001b[32mdbl\u001b[39m (6): Mean, Median, Max, Min, Count, Mean_Pos\n",
      "\n",
      "\u001b[36mℹ\u001b[39m Use `spec()` to retrieve the full column specification for this data.\n",
      "\u001b[36mℹ\u001b[39m Specify the column types or set `show_col_types = FALSE` to quiet this message.\n"
     ]
    },
    {
     "name": "stdout",
     "output_type": "stream",
     "text": [
      "[1] 37180     7\n"
     ]
    },
    {
     "data": {
      "text/html": [
       "<table class=\"dataframe\">\n",
       "<caption>A tibble: 6 × 7</caption>\n",
       "<thead>\n",
       "\t<tr><th scope=col>Peak</th><th scope=col>Mean</th><th scope=col>Median</th><th scope=col>Max</th><th scope=col>Min</th><th scope=col>Count</th><th scope=col>Mean_Pos</th></tr>\n",
       "\t<tr><th scope=col>&lt;chr&gt;</th><th scope=col>&lt;dbl&gt;</th><th scope=col>&lt;dbl&gt;</th><th scope=col>&lt;dbl&gt;</th><th scope=col>&lt;dbl&gt;</th><th scope=col>&lt;dbl&gt;</th><th scope=col>&lt;dbl&gt;</th></tr>\n",
       "</thead>\n",
       "<tbody>\n",
       "\t<tr><td>chr10:100045961-100046653</td><td>0.065811</td><td>0.065811</td><td>0.065811</td><td>0.065811</td><td>200</td><td>0.065811</td></tr>\n",
       "\t<tr><td>chr10:100228452-100230090</td><td>2.158430</td><td>2.158430</td><td>2.158430</td><td>2.158430</td><td>200</td><td>2.158430</td></tr>\n",
       "\t<tr><td>chr10:100267066-100268374</td><td>1.338820</td><td>1.338820</td><td>1.338820</td><td>1.338820</td><td>200</td><td>1.338820</td></tr>\n",
       "\t<tr><td>chr10:100285974-100287341</td><td>1.322260</td><td>1.322260</td><td>1.322260</td><td>1.322260</td><td>200</td><td>1.322260</td></tr>\n",
       "\t<tr><td>chr10:100289686-100290090</td><td>0.548885</td><td>0.548885</td><td>0.548885</td><td>0.548885</td><td>200</td><td>0.548885</td></tr>\n",
       "\t<tr><td>chr10:100342247-100342824</td><td>0.176936</td><td>0.176936</td><td>0.176936</td><td>0.176936</td><td>200</td><td>0.176936</td></tr>\n",
       "</tbody>\n",
       "</table>\n"
      ],
      "text/latex": [
       "A tibble: 6 × 7\n",
       "\\begin{tabular}{lllllll}\n",
       " Peak & Mean & Median & Max & Min & Count & Mean\\_Pos\\\\\n",
       " <chr> & <dbl> & <dbl> & <dbl> & <dbl> & <dbl> & <dbl>\\\\\n",
       "\\hline\n",
       "\t chr10:100045961-100046653 & 0.065811 & 0.065811 & 0.065811 & 0.065811 & 200 & 0.065811\\\\\n",
       "\t chr10:100228452-100230090 & 2.158430 & 2.158430 & 2.158430 & 2.158430 & 200 & 2.158430\\\\\n",
       "\t chr10:100267066-100268374 & 1.338820 & 1.338820 & 1.338820 & 1.338820 & 200 & 1.338820\\\\\n",
       "\t chr10:100285974-100287341 & 1.322260 & 1.322260 & 1.322260 & 1.322260 & 200 & 1.322260\\\\\n",
       "\t chr10:100289686-100290090 & 0.548885 & 0.548885 & 0.548885 & 0.548885 & 200 & 0.548885\\\\\n",
       "\t chr10:100342247-100342824 & 0.176936 & 0.176936 & 0.176936 & 0.176936 & 200 & 0.176936\\\\\n",
       "\\end{tabular}\n"
      ],
      "text/markdown": [
       "\n",
       "A tibble: 6 × 7\n",
       "\n",
       "| Peak &lt;chr&gt; | Mean &lt;dbl&gt; | Median &lt;dbl&gt; | Max &lt;dbl&gt; | Min &lt;dbl&gt; | Count &lt;dbl&gt; | Mean_Pos &lt;dbl&gt; |\n",
       "|---|---|---|---|---|---|---|\n",
       "| chr10:100045961-100046653 | 0.065811 | 0.065811 | 0.065811 | 0.065811 | 200 | 0.065811 |\n",
       "| chr10:100228452-100230090 | 2.158430 | 2.158430 | 2.158430 | 2.158430 | 200 | 2.158430 |\n",
       "| chr10:100267066-100268374 | 1.338820 | 1.338820 | 1.338820 | 1.338820 | 200 | 1.338820 |\n",
       "| chr10:100285974-100287341 | 1.322260 | 1.322260 | 1.322260 | 1.322260 | 200 | 1.322260 |\n",
       "| chr10:100289686-100290090 | 0.548885 | 0.548885 | 0.548885 | 0.548885 | 200 | 0.548885 |\n",
       "| chr10:100342247-100342824 | 0.176936 | 0.176936 | 0.176936 | 0.176936 | 200 | 0.176936 |\n",
       "\n"
      ],
      "text/plain": [
       "  Peak                      Mean     Median   Max      Min      Count Mean_Pos\n",
       "1 chr10:100045961-100046653 0.065811 0.065811 0.065811 0.065811 200   0.065811\n",
       "2 chr10:100228452-100230090 2.158430 2.158430 2.158430 2.158430 200   2.158430\n",
       "3 chr10:100267066-100268374 1.338820 1.338820 1.338820 1.338820 200   1.338820\n",
       "4 chr10:100285974-100287341 1.322260 1.322260 1.322260 1.322260 200   1.322260\n",
       "5 chr10:100289686-100290090 0.548885 0.548885 0.548885 0.548885 200   0.548885\n",
       "6 chr10:100342247-100342824 0.176936 0.176936 0.176936 0.176936 200   0.176936"
      ]
     },
     "metadata": {},
     "output_type": "display_data"
    }
   ],
   "source": [
    "ASSAY   = \"LentiMPRA_K562_Nadav\"\n",
    "FOLDER  = \"coverage_astarrseq_peak_macs_input\"\n",
    "\n",
    "fdiry = file.path(FD_RES, \"results\", ASSAY, FOLDER, \"summary\")\n",
    "fname = \"results.summary.tsv\"\n",
    "fpath = file.path(fdiry, fname)\n",
    "\n",
    "dat = read_tsv(fpath)\n",
    "\n",
    "dat_peak_summary_lmpra = dat\n",
    "print(dim(dat))\n",
    "head(dat)"
   ]
  },
  {
   "cell_type": "markdown",
   "metadata": {},
   "source": [
    "## Process STARR/MPRA/CRISPR"
   ]
  },
  {
   "cell_type": "code",
   "execution_count": 6,
   "metadata": {},
   "outputs": [
    {
     "name": "stdout",
     "output_type": "stream",
     "text": [
      "[1] 1722    2\n"
     ]
    },
    {
     "data": {
      "text/html": [
       "<table class=\"dataframe\">\n",
       "<caption>A tibble: 6 × 2</caption>\n",
       "<thead>\n",
       "\t<tr><th scope=col>Peak</th><th scope=col>RankNorm</th></tr>\n",
       "\t<tr><th scope=col>&lt;chr&gt;</th><th scope=col>&lt;dbl&gt;</th></tr>\n",
       "</thead>\n",
       "<tbody>\n",
       "\t<tr><td>chr11:32870601-32871324</td><td>0.1445993</td></tr>\n",
       "\t<tr><td>chr11:32874343-32875070</td><td>0.2466125</td></tr>\n",
       "\t<tr><td>chr11:32884749-32885822</td><td>0.3211382</td></tr>\n",
       "\t<tr><td>chr11:32892099-32894437</td><td>0.7084785</td></tr>\n",
       "\t<tr><td>chr11:32901572-32902485</td><td>0.2684863</td></tr>\n",
       "\t<tr><td>chr11:32903491-32904506</td><td>0.2586140</td></tr>\n",
       "</tbody>\n",
       "</table>\n"
      ],
      "text/latex": [
       "A tibble: 6 × 2\n",
       "\\begin{tabular}{ll}\n",
       " Peak & RankNorm\\\\\n",
       " <chr> & <dbl>\\\\\n",
       "\\hline\n",
       "\t chr11:32870601-32871324 & 0.1445993\\\\\n",
       "\t chr11:32874343-32875070 & 0.2466125\\\\\n",
       "\t chr11:32884749-32885822 & 0.3211382\\\\\n",
       "\t chr11:32892099-32894437 & 0.7084785\\\\\n",
       "\t chr11:32901572-32902485 & 0.2684863\\\\\n",
       "\t chr11:32903491-32904506 & 0.2586140\\\\\n",
       "\\end{tabular}\n"
      ],
      "text/markdown": [
       "\n",
       "A tibble: 6 × 2\n",
       "\n",
       "| Peak &lt;chr&gt; | RankNorm &lt;dbl&gt; |\n",
       "|---|---|\n",
       "| chr11:32870601-32871324 | 0.1445993 |\n",
       "| chr11:32874343-32875070 | 0.2466125 |\n",
       "| chr11:32884749-32885822 | 0.3211382 |\n",
       "| chr11:32892099-32894437 | 0.7084785 |\n",
       "| chr11:32901572-32902485 | 0.2684863 |\n",
       "| chr11:32903491-32904506 | 0.2586140 |\n",
       "\n"
      ],
      "text/plain": [
       "  Peak                    RankNorm \n",
       "1 chr11:32870601-32871324 0.1445993\n",
       "2 chr11:32874343-32875070 0.2466125\n",
       "3 chr11:32884749-32885822 0.3211382\n",
       "4 chr11:32892099-32894437 0.7084785\n",
       "5 chr11:32901572-32902485 0.2684863\n",
       "6 chr11:32903491-32904506 0.2586140"
      ]
     },
     "metadata": {},
     "output_type": "display_data"
    }
   ],
   "source": [
    "dat = dat_peak_summary_starrmpra\n",
    "dat = dat %>% \n",
    "    dplyr::group_by(Peak) %>% \n",
    "    dplyr::summarise(\n",
    "        RankNorm = mean(RankNorm_Total),\n",
    "        .groups  = \"drop\")\n",
    "\n",
    "dat_peak_score_starrmpra = dat\n",
    "print(dim(dat))\n",
    "head(dat)"
   ]
  },
  {
   "cell_type": "code",
   "execution_count": 13,
   "metadata": {},
   "outputs": [
    {
     "data": {
      "text/html": [
       "<style>\n",
       ".list-inline {list-style: none; margin:0; padding: 0}\n",
       ".list-inline>li {display: inline-block}\n",
       ".list-inline>li:not(:last-child)::after {content: \"\\00b7\"; padding: 0 .5ex}\n",
       "</style>\n",
       "<ol class=list-inline><li>3</li><li>5</li><li>4</li><li>1</li><li>2</li></ol>\n"
      ],
      "text/latex": [
       "\\begin{enumerate*}\n",
       "\\item 3\n",
       "\\item 5\n",
       "\\item 4\n",
       "\\item 1\n",
       "\\item 2\n",
       "\\end{enumerate*}\n"
      ],
      "text/markdown": [
       "1. 3\n",
       "2. 5\n",
       "3. 4\n",
       "4. 1\n",
       "5. 2\n",
       "\n",
       "\n"
      ],
      "text/plain": [
       "[1] 3 5 4 1 2"
      ]
     },
     "metadata": {},
     "output_type": "display_data"
    }
   ],
   "source": [
    "dat = dat_peak_summary_crispri_hcrff\n",
    "table(dat$Peak) %>% unique"
   ]
  },
  {
   "cell_type": "code",
   "execution_count": 15,
   "metadata": {},
   "outputs": [
    {
     "data": {
      "text/html": [
       "1"
      ],
      "text/latex": [
       "1"
      ],
      "text/markdown": [
       "1"
      ],
      "text/plain": [
       "[1] 1"
      ]
     },
     "metadata": {},
     "output_type": "display_data"
    }
   ],
   "source": [
    "dat = dat_peak_summary_crispri_growth\n",
    "table(dat$Peak) %>% unique"
   ]
  },
  {
   "cell_type": "code",
   "execution_count": 16,
   "metadata": {},
   "outputs": [
    {
     "data": {
      "text/html": [
       "1"
      ],
      "text/latex": [
       "1"
      ],
      "text/markdown": [
       "1"
      ],
      "text/plain": [
       "[1] 1"
      ]
     },
     "metadata": {},
     "output_type": "display_data"
    }
   ],
   "source": [
    "dat = dat_peak_summary_lmpra\n",
    "table(dat$Peak) %>% unique"
   ]
  },
  {
   "cell_type": "code",
   "execution_count": 26,
   "metadata": {},
   "outputs": [
    {
     "name": "stdout",
     "output_type": "stream",
     "text": [
      "[1] 1330    6\n"
     ]
    },
    {
     "data": {
      "text/html": [
       "<table class=\"dataframe\">\n",
       "<caption>A tibble: 6 × 6</caption>\n",
       "<thead>\n",
       "\t<tr><th scope=col>Peak</th><th scope=col>CRISPRi_HCRFF_Tot</th><th scope=col>CRISPRi_HCRFF_Pos</th><th scope=col>CRISPRi_HCRFF_Neg</th><th scope=col>CRISPRi_HCRFF_Count</th><th scope=col>CRISPRi_HCRFF_Note</th></tr>\n",
       "\t<tr><th scope=col>&lt;chr&gt;</th><th scope=col>&lt;dbl&gt;</th><th scope=col>&lt;dbl&gt;</th><th scope=col>&lt;dbl&gt;</th><th scope=col>&lt;dbl&gt;</th><th scope=col>&lt;chr&gt;</th></tr>\n",
       "</thead>\n",
       "<tbody>\n",
       "\t<tr><td>chr11:33065336-33066228</td><td>-0.08308383</td><td>0.03675483</td><td>-0.2734393</td><td>138</td><td>CAPRIN1:46|CAT:46|LMO2:46</td></tr>\n",
       "\t<tr><td>chr11:33068519-33069100</td><td>-0.12006903</td><td>0.00000000</td><td>-0.1593220</td><td>159</td><td>CAPRIN1:53|CAT:53|LMO2:53</td></tr>\n",
       "\t<tr><td>chr11:33072412-33072630</td><td> 0.10643558</td><td>0.35299267</td><td>-0.1982723</td><td> 36</td><td>CAPRIN1:12|CAT:12|LMO2:12</td></tr>\n",
       "\t<tr><td>chr11:33103533-33104120</td><td> 0.98158422</td><td>1.44209600</td><td> 0.0000000</td><td>  9</td><td>CAPRIN1:3|CAT:3|LMO2:3   </td></tr>\n",
       "\t<tr><td>chr11:33114629-33115134</td><td> 0.22095793</td><td>0.42649733</td><td> 0.0000000</td><td> 27</td><td>CAPRIN1:9|CAT:9|LMO2:9   </td></tr>\n",
       "\t<tr><td>chr11:33125296-33126416</td><td>-0.05128921</td><td>0.04323581</td><td>-0.1542515</td><td>159</td><td>CAPRIN1:53|CAT:53|LMO2:53</td></tr>\n",
       "</tbody>\n",
       "</table>\n"
      ],
      "text/latex": [
       "A tibble: 6 × 6\n",
       "\\begin{tabular}{llllll}\n",
       " Peak & CRISPRi\\_HCRFF\\_Tot & CRISPRi\\_HCRFF\\_Pos & CRISPRi\\_HCRFF\\_Neg & CRISPRi\\_HCRFF\\_Count & CRISPRi\\_HCRFF\\_Note\\\\\n",
       " <chr> & <dbl> & <dbl> & <dbl> & <dbl> & <chr>\\\\\n",
       "\\hline\n",
       "\t chr11:33065336-33066228 & -0.08308383 & 0.03675483 & -0.2734393 & 138 & CAPRIN1:46\\textbar{}CAT:46\\textbar{}LMO2:46\\\\\n",
       "\t chr11:33068519-33069100 & -0.12006903 & 0.00000000 & -0.1593220 & 159 & CAPRIN1:53\\textbar{}CAT:53\\textbar{}LMO2:53\\\\\n",
       "\t chr11:33072412-33072630 &  0.10643558 & 0.35299267 & -0.1982723 &  36 & CAPRIN1:12\\textbar{}CAT:12\\textbar{}LMO2:12\\\\\n",
       "\t chr11:33103533-33104120 &  0.98158422 & 1.44209600 &  0.0000000 &   9 & CAPRIN1:3\\textbar{}CAT:3\\textbar{}LMO2:3   \\\\\n",
       "\t chr11:33114629-33115134 &  0.22095793 & 0.42649733 &  0.0000000 &  27 & CAPRIN1:9\\textbar{}CAT:9\\textbar{}LMO2:9   \\\\\n",
       "\t chr11:33125296-33126416 & -0.05128921 & 0.04323581 & -0.1542515 & 159 & CAPRIN1:53\\textbar{}CAT:53\\textbar{}LMO2:53\\\\\n",
       "\\end{tabular}\n"
      ],
      "text/markdown": [
       "\n",
       "A tibble: 6 × 6\n",
       "\n",
       "| Peak &lt;chr&gt; | CRISPRi_HCRFF_Tot &lt;dbl&gt; | CRISPRi_HCRFF_Pos &lt;dbl&gt; | CRISPRi_HCRFF_Neg &lt;dbl&gt; | CRISPRi_HCRFF_Count &lt;dbl&gt; | CRISPRi_HCRFF_Note &lt;chr&gt; |\n",
       "|---|---|---|---|---|---|\n",
       "| chr11:33065336-33066228 | -0.08308383 | 0.03675483 | -0.2734393 | 138 | CAPRIN1:46|CAT:46|LMO2:46 |\n",
       "| chr11:33068519-33069100 | -0.12006903 | 0.00000000 | -0.1593220 | 159 | CAPRIN1:53|CAT:53|LMO2:53 |\n",
       "| chr11:33072412-33072630 |  0.10643558 | 0.35299267 | -0.1982723 |  36 | CAPRIN1:12|CAT:12|LMO2:12 |\n",
       "| chr11:33103533-33104120 |  0.98158422 | 1.44209600 |  0.0000000 |   9 | CAPRIN1:3|CAT:3|LMO2:3    |\n",
       "| chr11:33114629-33115134 |  0.22095793 | 0.42649733 |  0.0000000 |  27 | CAPRIN1:9|CAT:9|LMO2:9    |\n",
       "| chr11:33125296-33126416 | -0.05128921 | 0.04323581 | -0.1542515 | 159 | CAPRIN1:53|CAT:53|LMO2:53 |\n",
       "\n"
      ],
      "text/plain": [
       "  Peak                    CRISPRi_HCRFF_Tot CRISPRi_HCRFF_Pos CRISPRi_HCRFF_Neg\n",
       "1 chr11:33065336-33066228 -0.08308383       0.03675483        -0.2734393       \n",
       "2 chr11:33068519-33069100 -0.12006903       0.00000000        -0.1593220       \n",
       "3 chr11:33072412-33072630  0.10643558       0.35299267        -0.1982723       \n",
       "4 chr11:33103533-33104120  0.98158422       1.44209600         0.0000000       \n",
       "5 chr11:33114629-33115134  0.22095793       0.42649733         0.0000000       \n",
       "6 chr11:33125296-33126416 -0.05128921       0.04323581        -0.1542515       \n",
       "  CRISPRi_HCRFF_Count CRISPRi_HCRFF_Note       \n",
       "1 138                 CAPRIN1:46|CAT:46|LMO2:46\n",
       "2 159                 CAPRIN1:53|CAT:53|LMO2:53\n",
       "3  36                 CAPRIN1:12|CAT:12|LMO2:12\n",
       "4   9                 CAPRIN1:3|CAT:3|LMO2:3   \n",
       "5  27                 CAPRIN1:9|CAT:9|LMO2:9   \n",
       "6 159                 CAPRIN1:53|CAT:53|LMO2:53"
      ]
     },
     "metadata": {},
     "output_type": "display_data"
    }
   ],
   "source": [
    "dat = dat_peak_summary_crispri_hcrff\n",
    "dat = dat %>% \n",
    "    dplyr::group_by(Peak) %>%\n",
    "    dplyr::summarize(\n",
    "        CRISPRi_HCRFF_Tot   = mean(Mean),\n",
    "        CRISPRi_HCRFF_Pos   = max(Mean, 0),\n",
    "        CRISPRi_HCRFF_Neg   = min(Mean, 0),\n",
    "        CRISPRi_HCRFF_Count = sum(Count),\n",
    "        CRISPRi_HCRFF_Note  = paste(Gene, Count, sep=\":\", collapse=\"|\"),\n",
    "        .groups    = \"drop\"\n",
    "    )\n",
    "\n",
    "dat_peak_score_crispri_hcrff = dat\n",
    "print(dim(dat))\n",
    "head(dat)"
   ]
  },
  {
   "cell_type": "code",
   "execution_count": 28,
   "metadata": {},
   "outputs": [
    {
     "name": "stdout",
     "output_type": "stream",
     "text": [
      "[1] 80288     5\n"
     ]
    },
    {
     "data": {
      "text/html": [
       "<table class=\"dataframe\">\n",
       "<caption>A tibble: 6 × 5</caption>\n",
       "<thead>\n",
       "\t<tr><th scope=col>Peak</th><th scope=col>CRISPRi_Growth_Tot</th><th scope=col>CRISPRi_Growth_Pos</th><th scope=col>CRISPRi_Growth_Neg</th><th scope=col>CRISPRi_Growth_Count</th></tr>\n",
       "\t<tr><th scope=col>&lt;chr&gt;</th><th scope=col>&lt;dbl&gt;</th><th scope=col>&lt;dbl&gt;</th><th scope=col>&lt;dbl&gt;</th><th scope=col>&lt;dbl&gt;</th></tr>\n",
       "</thead>\n",
       "<tbody>\n",
       "\t<tr><td>chr10:100009096-100010466</td><td>-0.03786170</td><td>0.3083632</td><td>-0.3840866</td><td>10</td></tr>\n",
       "\t<tr><td>chr10:100045961-100046653</td><td> 0.10873570</td><td>0.3645600</td><td>-0.2750008</td><td>10</td></tr>\n",
       "\t<tr><td>chr10:100065094-100065486</td><td>-0.00323730</td><td>0.5378650</td><td>-0.3639722</td><td>10</td></tr>\n",
       "\t<tr><td>chr10:100129051-100131059</td><td>-0.26576144</td><td>0.1071397</td><td>-0.4522120</td><td> 9</td></tr>\n",
       "\t<tr><td>chr10:100185017-100187275</td><td>-0.01202196</td><td>0.3278531</td><td>-0.2790666</td><td>25</td></tr>\n",
       "\t<tr><td>chr10:100228452-100230090</td><td>-0.01822050</td><td>0.1892158</td><td>-0.3293750</td><td>10</td></tr>\n",
       "</tbody>\n",
       "</table>\n"
      ],
      "text/latex": [
       "A tibble: 6 × 5\n",
       "\\begin{tabular}{lllll}\n",
       " Peak & CRISPRi\\_Growth\\_Tot & CRISPRi\\_Growth\\_Pos & CRISPRi\\_Growth\\_Neg & CRISPRi\\_Growth\\_Count\\\\\n",
       " <chr> & <dbl> & <dbl> & <dbl> & <dbl>\\\\\n",
       "\\hline\n",
       "\t chr10:100009096-100010466 & -0.03786170 & 0.3083632 & -0.3840866 & 10\\\\\n",
       "\t chr10:100045961-100046653 &  0.10873570 & 0.3645600 & -0.2750008 & 10\\\\\n",
       "\t chr10:100065094-100065486 & -0.00323730 & 0.5378650 & -0.3639722 & 10\\\\\n",
       "\t chr10:100129051-100131059 & -0.26576144 & 0.1071397 & -0.4522120 &  9\\\\\n",
       "\t chr10:100185017-100187275 & -0.01202196 & 0.3278531 & -0.2790666 & 25\\\\\n",
       "\t chr10:100228452-100230090 & -0.01822050 & 0.1892158 & -0.3293750 & 10\\\\\n",
       "\\end{tabular}\n"
      ],
      "text/markdown": [
       "\n",
       "A tibble: 6 × 5\n",
       "\n",
       "| Peak &lt;chr&gt; | CRISPRi_Growth_Tot &lt;dbl&gt; | CRISPRi_Growth_Pos &lt;dbl&gt; | CRISPRi_Growth_Neg &lt;dbl&gt; | CRISPRi_Growth_Count &lt;dbl&gt; |\n",
       "|---|---|---|---|---|\n",
       "| chr10:100009096-100010466 | -0.03786170 | 0.3083632 | -0.3840866 | 10 |\n",
       "| chr10:100045961-100046653 |  0.10873570 | 0.3645600 | -0.2750008 | 10 |\n",
       "| chr10:100065094-100065486 | -0.00323730 | 0.5378650 | -0.3639722 | 10 |\n",
       "| chr10:100129051-100131059 | -0.26576144 | 0.1071397 | -0.4522120 |  9 |\n",
       "| chr10:100185017-100187275 | -0.01202196 | 0.3278531 | -0.2790666 | 25 |\n",
       "| chr10:100228452-100230090 | -0.01822050 | 0.1892158 | -0.3293750 | 10 |\n",
       "\n"
      ],
      "text/plain": [
       "  Peak                      CRISPRi_Growth_Tot CRISPRi_Growth_Pos\n",
       "1 chr10:100009096-100010466 -0.03786170        0.3083632         \n",
       "2 chr10:100045961-100046653  0.10873570        0.3645600         \n",
       "3 chr10:100065094-100065486 -0.00323730        0.5378650         \n",
       "4 chr10:100129051-100131059 -0.26576144        0.1071397         \n",
       "5 chr10:100185017-100187275 -0.01202196        0.3278531         \n",
       "6 chr10:100228452-100230090 -0.01822050        0.1892158         \n",
       "  CRISPRi_Growth_Neg CRISPRi_Growth_Count\n",
       "1 -0.3840866         10                  \n",
       "2 -0.2750008         10                  \n",
       "3 -0.3639722         10                  \n",
       "4 -0.4522120          9                  \n",
       "5 -0.2790666         25                  \n",
       "6 -0.3293750         10                  "
      ]
     },
     "metadata": {},
     "output_type": "display_data"
    }
   ],
   "source": [
    "dat = dat_peak_summary_crispri_growth\n",
    "dat = dat %>% dplyr::select(Peak, Mean, Mean_Pos, Mean_Neg, Count)\n",
    "colnames(dat) = c(\n",
    "    \"Peak\", \n",
    "    \"CRISPRi_Growth_Tot\",\n",
    "    \"CRISPRi_Growth_Pos\",\n",
    "    \"CRISPRi_Growth_Neg\",\n",
    "    \"CRISPRi_Growth_Count\"\n",
    ")\n",
    "\n",
    "dat_peak_score_crispri_growth = dat\n",
    "print(dim(dat))\n",
    "head(dat)"
   ]
  },
  {
   "cell_type": "code",
   "execution_count": 32,
   "metadata": {},
   "outputs": [
    {
     "name": "stdout",
     "output_type": "stream",
     "text": [
      "[1] 37180     3\n"
     ]
    },
    {
     "data": {
      "text/html": [
       "<table class=\"dataframe\">\n",
       "<caption>A tibble: 6 × 3</caption>\n",
       "<thead>\n",
       "\t<tr><th scope=col>Peak</th><th scope=col>LMPRA_Tot</th><th scope=col>LMPRA_Count</th></tr>\n",
       "\t<tr><th scope=col>&lt;chr&gt;</th><th scope=col>&lt;dbl&gt;</th><th scope=col>&lt;dbl&gt;</th></tr>\n",
       "</thead>\n",
       "<tbody>\n",
       "\t<tr><td>chr10:100045961-100046653</td><td>0.065811</td><td>200</td></tr>\n",
       "\t<tr><td>chr10:100228452-100230090</td><td>2.158430</td><td>200</td></tr>\n",
       "\t<tr><td>chr10:100267066-100268374</td><td>1.338820</td><td>200</td></tr>\n",
       "\t<tr><td>chr10:100285974-100287341</td><td>1.322260</td><td>200</td></tr>\n",
       "\t<tr><td>chr10:100289686-100290090</td><td>0.548885</td><td>200</td></tr>\n",
       "\t<tr><td>chr10:100342247-100342824</td><td>0.176936</td><td>200</td></tr>\n",
       "</tbody>\n",
       "</table>\n"
      ],
      "text/latex": [
       "A tibble: 6 × 3\n",
       "\\begin{tabular}{lll}\n",
       " Peak & LMPRA\\_Tot & LMPRA\\_Count\\\\\n",
       " <chr> & <dbl> & <dbl>\\\\\n",
       "\\hline\n",
       "\t chr10:100045961-100046653 & 0.065811 & 200\\\\\n",
       "\t chr10:100228452-100230090 & 2.158430 & 200\\\\\n",
       "\t chr10:100267066-100268374 & 1.338820 & 200\\\\\n",
       "\t chr10:100285974-100287341 & 1.322260 & 200\\\\\n",
       "\t chr10:100289686-100290090 & 0.548885 & 200\\\\\n",
       "\t chr10:100342247-100342824 & 0.176936 & 200\\\\\n",
       "\\end{tabular}\n"
      ],
      "text/markdown": [
       "\n",
       "A tibble: 6 × 3\n",
       "\n",
       "| Peak &lt;chr&gt; | LMPRA_Tot &lt;dbl&gt; | LMPRA_Count &lt;dbl&gt; |\n",
       "|---|---|---|\n",
       "| chr10:100045961-100046653 | 0.065811 | 200 |\n",
       "| chr10:100228452-100230090 | 2.158430 | 200 |\n",
       "| chr10:100267066-100268374 | 1.338820 | 200 |\n",
       "| chr10:100285974-100287341 | 1.322260 | 200 |\n",
       "| chr10:100289686-100290090 | 0.548885 | 200 |\n",
       "| chr10:100342247-100342824 | 0.176936 | 200 |\n",
       "\n"
      ],
      "text/plain": [
       "  Peak                      LMPRA_Tot LMPRA_Count\n",
       "1 chr10:100045961-100046653 0.065811  200        \n",
       "2 chr10:100228452-100230090 2.158430  200        \n",
       "3 chr10:100267066-100268374 1.338820  200        \n",
       "4 chr10:100285974-100287341 1.322260  200        \n",
       "5 chr10:100289686-100290090 0.548885  200        \n",
       "6 chr10:100342247-100342824 0.176936  200        "
      ]
     },
     "metadata": {},
     "output_type": "display_data"
    }
   ],
   "source": [
    "dat = dat_peak_summary_lmpra\n",
    "dat = dat %>% dplyr::select(Peak, Mean, Count)\n",
    "colnames(dat) = c(\n",
    "    \"Peak\", \n",
    "    \"LMPRA_Tot\",\n",
    "    \"LMPRA_Count\"\n",
    ")\n",
    "\n",
    "dat_peak_score_lmpra = dat\n",
    "print(dim(dat))\n",
    "head(dat)"
   ]
  },
  {
   "cell_type": "markdown",
   "metadata": {},
   "source": [
    "**Merge**"
   ]
  },
  {
   "cell_type": "code",
   "execution_count": 68,
   "metadata": {},
   "outputs": [
    {
     "name": "stdout",
     "output_type": "stream",
     "text": [
      "[1] 1722   13\n"
     ]
    },
    {
     "data": {
      "text/html": [
       "<table class=\"dataframe\">\n",
       "<caption>A tibble: 6 × 13</caption>\n",
       "<thead>\n",
       "\t<tr><th scope=col>Peak</th><th scope=col>RankNorm</th><th scope=col>CRISPRi_HCRFF_Tot</th><th scope=col>CRISPRi_HCRFF_Pos</th><th scope=col>CRISPRi_HCRFF_Neg</th><th scope=col>CRISPRi_HCRFF_Count</th><th scope=col>CRISPRi_HCRFF_Note</th><th scope=col>CRISPRi_Growth_Tot</th><th scope=col>CRISPRi_Growth_Pos</th><th scope=col>CRISPRi_Growth_Neg</th><th scope=col>CRISPRi_Growth_Count</th><th scope=col>LMPRA_Tot</th><th scope=col>LMPRA_Count</th></tr>\n",
       "\t<tr><th scope=col>&lt;chr&gt;</th><th scope=col>&lt;dbl&gt;</th><th scope=col>&lt;dbl&gt;</th><th scope=col>&lt;dbl&gt;</th><th scope=col>&lt;dbl&gt;</th><th scope=col>&lt;dbl&gt;</th><th scope=col>&lt;chr&gt;</th><th scope=col>&lt;dbl&gt;</th><th scope=col>&lt;dbl&gt;</th><th scope=col>&lt;dbl&gt;</th><th scope=col>&lt;dbl&gt;</th><th scope=col>&lt;dbl&gt;</th><th scope=col>&lt;dbl&gt;</th></tr>\n",
       "</thead>\n",
       "<tbody>\n",
       "\t<tr><td>chrX:48996933-48997220  </td><td>0.002129307</td><td>          NA</td><td>        NA</td><td>        NA</td><td>NA</td><td>NA            </td><td>0.1123736</td><td>0.4560482</td><td>-0.4604173</td><td> 8</td><td>NA</td><td>NA</td></tr>\n",
       "\t<tr><td>chr8:128298518-128298762</td><td>0.009291521</td><td> 0.236334000</td><td>0.29710614</td><td> 0.0000000</td><td>14</td><td>MYC:7|PVT1:7  </td><td>       NA</td><td>       NA</td><td>        NA</td><td>NA</td><td>NA</td><td>NA</td></tr>\n",
       "\t<tr><td>chr8:128242220-128242507</td><td>0.039876113</td><td>-0.179385300</td><td>0.01841620</td><td>-0.3771868</td><td>20</td><td>MYC:10|PVT1:10</td><td>       NA</td><td>       NA</td><td>        NA</td><td>NA</td><td>NA</td><td>NA</td></tr>\n",
       "\t<tr><td>chr11:34024311-34024546 </td><td>0.040456833</td><td>          NA</td><td>        NA</td><td>        NA</td><td>NA</td><td>NA            </td><td>       NA</td><td>       NA</td><td>        NA</td><td>NA</td><td>NA</td><td>NA</td></tr>\n",
       "\t<tr><td>chr8:128189792-128190210</td><td>0.041231127</td><td>-0.007601455</td><td>0.09226309</td><td>-0.1074660</td><td>22</td><td>MYC:11|PVT1:11</td><td>       NA</td><td>       NA</td><td>        NA</td><td>NA</td><td>NA</td><td>NA</td></tr>\n",
       "\t<tr><td>chr20:56703281-56703575 </td><td>0.048199768</td><td>          NA</td><td>        NA</td><td>        NA</td><td>NA</td><td>NA            </td><td>       NA</td><td>       NA</td><td>        NA</td><td>NA</td><td>NA</td><td>NA</td></tr>\n",
       "</tbody>\n",
       "</table>\n"
      ],
      "text/latex": [
       "A tibble: 6 × 13\n",
       "\\begin{tabular}{lllllllllllll}\n",
       " Peak & RankNorm & CRISPRi\\_HCRFF\\_Tot & CRISPRi\\_HCRFF\\_Pos & CRISPRi\\_HCRFF\\_Neg & CRISPRi\\_HCRFF\\_Count & CRISPRi\\_HCRFF\\_Note & CRISPRi\\_Growth\\_Tot & CRISPRi\\_Growth\\_Pos & CRISPRi\\_Growth\\_Neg & CRISPRi\\_Growth\\_Count & LMPRA\\_Tot & LMPRA\\_Count\\\\\n",
       " <chr> & <dbl> & <dbl> & <dbl> & <dbl> & <dbl> & <chr> & <dbl> & <dbl> & <dbl> & <dbl> & <dbl> & <dbl>\\\\\n",
       "\\hline\n",
       "\t chrX:48996933-48997220   & 0.002129307 &           NA &         NA &         NA & NA & NA             & 0.1123736 & 0.4560482 & -0.4604173 &  8 & NA & NA\\\\\n",
       "\t chr8:128298518-128298762 & 0.009291521 &  0.236334000 & 0.29710614 &  0.0000000 & 14 & MYC:7\\textbar{}PVT1:7   &        NA &        NA &         NA & NA & NA & NA\\\\\n",
       "\t chr8:128242220-128242507 & 0.039876113 & -0.179385300 & 0.01841620 & -0.3771868 & 20 & MYC:10\\textbar{}PVT1:10 &        NA &        NA &         NA & NA & NA & NA\\\\\n",
       "\t chr11:34024311-34024546  & 0.040456833 &           NA &         NA &         NA & NA & NA             &        NA &        NA &         NA & NA & NA & NA\\\\\n",
       "\t chr8:128189792-128190210 & 0.041231127 & -0.007601455 & 0.09226309 & -0.1074660 & 22 & MYC:11\\textbar{}PVT1:11 &        NA &        NA &         NA & NA & NA & NA\\\\\n",
       "\t chr20:56703281-56703575  & 0.048199768 &           NA &         NA &         NA & NA & NA             &        NA &        NA &         NA & NA & NA & NA\\\\\n",
       "\\end{tabular}\n"
      ],
      "text/markdown": [
       "\n",
       "A tibble: 6 × 13\n",
       "\n",
       "| Peak &lt;chr&gt; | RankNorm &lt;dbl&gt; | CRISPRi_HCRFF_Tot &lt;dbl&gt; | CRISPRi_HCRFF_Pos &lt;dbl&gt; | CRISPRi_HCRFF_Neg &lt;dbl&gt; | CRISPRi_HCRFF_Count &lt;dbl&gt; | CRISPRi_HCRFF_Note &lt;chr&gt; | CRISPRi_Growth_Tot &lt;dbl&gt; | CRISPRi_Growth_Pos &lt;dbl&gt; | CRISPRi_Growth_Neg &lt;dbl&gt; | CRISPRi_Growth_Count &lt;dbl&gt; | LMPRA_Tot &lt;dbl&gt; | LMPRA_Count &lt;dbl&gt; |\n",
       "|---|---|---|---|---|---|---|---|---|---|---|---|---|\n",
       "| chrX:48996933-48997220   | 0.002129307 |           NA |         NA |         NA | NA | NA             | 0.1123736 | 0.4560482 | -0.4604173 |  8 | NA | NA |\n",
       "| chr8:128298518-128298762 | 0.009291521 |  0.236334000 | 0.29710614 |  0.0000000 | 14 | MYC:7|PVT1:7   |        NA |        NA |         NA | NA | NA | NA |\n",
       "| chr8:128242220-128242507 | 0.039876113 | -0.179385300 | 0.01841620 | -0.3771868 | 20 | MYC:10|PVT1:10 |        NA |        NA |         NA | NA | NA | NA |\n",
       "| chr11:34024311-34024546  | 0.040456833 |           NA |         NA |         NA | NA | NA             |        NA |        NA |         NA | NA | NA | NA |\n",
       "| chr8:128189792-128190210 | 0.041231127 | -0.007601455 | 0.09226309 | -0.1074660 | 22 | MYC:11|PVT1:11 |        NA |        NA |         NA | NA | NA | NA |\n",
       "| chr20:56703281-56703575  | 0.048199768 |           NA |         NA |         NA | NA | NA             |        NA |        NA |         NA | NA | NA | NA |\n",
       "\n"
      ],
      "text/plain": [
       "  Peak                     RankNorm    CRISPRi_HCRFF_Tot CRISPRi_HCRFF_Pos\n",
       "1 chrX:48996933-48997220   0.002129307           NA              NA       \n",
       "2 chr8:128298518-128298762 0.009291521  0.236334000      0.29710614       \n",
       "3 chr8:128242220-128242507 0.039876113 -0.179385300      0.01841620       \n",
       "4 chr11:34024311-34024546  0.040456833           NA              NA       \n",
       "5 chr8:128189792-128190210 0.041231127 -0.007601455      0.09226309       \n",
       "6 chr20:56703281-56703575  0.048199768           NA              NA       \n",
       "  CRISPRi_HCRFF_Neg CRISPRi_HCRFF_Count CRISPRi_HCRFF_Note CRISPRi_Growth_Tot\n",
       "1         NA        NA                  NA                 0.1123736         \n",
       "2  0.0000000        14                  MYC:7|PVT1:7              NA         \n",
       "3 -0.3771868        20                  MYC:10|PVT1:10            NA         \n",
       "4         NA        NA                  NA                        NA         \n",
       "5 -0.1074660        22                  MYC:11|PVT1:11            NA         \n",
       "6         NA        NA                  NA                        NA         \n",
       "  CRISPRi_Growth_Pos CRISPRi_Growth_Neg CRISPRi_Growth_Count LMPRA_Tot\n",
       "1 0.4560482          -0.4604173          8                   NA       \n",
       "2        NA                  NA         NA                   NA       \n",
       "3        NA                  NA         NA                   NA       \n",
       "4        NA                  NA         NA                   NA       \n",
       "5        NA                  NA         NA                   NA       \n",
       "6        NA                  NA         NA                   NA       \n",
       "  LMPRA_Count\n",
       "1 NA         \n",
       "2 NA         \n",
       "3 NA         \n",
       "4 NA         \n",
       "5 NA         \n",
       "6 NA         "
      ]
     },
     "metadata": {},
     "output_type": "display_data"
    }
   ],
   "source": [
    "dat = dat_peak_score_starrmpra\n",
    "dat = dat %>%\n",
    "    dplyr::left_join(dat_peak_score_crispri_hcrff,  by = \"Peak\") %>%\n",
    "    dplyr::left_join(dat_peak_score_crispri_growth, by = \"Peak\") %>%\n",
    "    dplyr::left_join(dat_peak_score_lmpra,          by = \"Peak\") %>%\n",
    "    dplyr::arrange(RankNorm)\n",
    "\n",
    "dat_peak_score_starrmpra_crispr = dat\n",
    "print(dim(dat))\n",
    "head(dat)"
   ]
  },
  {
   "cell_type": "code",
   "execution_count": 69,
   "metadata": {},
   "outputs": [
    {
     "name": "stdout",
     "output_type": "stream",
     "text": [
      "$Peak\n",
      "[1] 1722\n",
      "\n",
      "$RankNorm\n",
      "[1] 1722\n",
      "\n",
      "$CRISPRi_HCRFF_Tot\n",
      "[1] 632\n",
      "\n",
      "$CRISPRi_HCRFF_Pos\n",
      "[1] 632\n",
      "\n",
      "$CRISPRi_HCRFF_Neg\n",
      "[1] 632\n",
      "\n",
      "$CRISPRi_HCRFF_Count\n",
      "[1] 632\n",
      "\n",
      "$CRISPRi_HCRFF_Note\n",
      "[1] 632\n",
      "\n",
      "$CRISPRi_Growth_Tot\n",
      "[1] 708\n",
      "\n",
      "$CRISPRi_Growth_Pos\n",
      "[1] 708\n",
      "\n",
      "$CRISPRi_Growth_Neg\n",
      "[1] 708\n",
      "\n",
      "$CRISPRi_Growth_Count\n",
      "[1] 708\n",
      "\n",
      "$LMPRA_Tot\n",
      "[1] 386\n",
      "\n",
      "$LMPRA_Count\n",
      "[1] 386\n",
      "\n"
     ]
    }
   ],
   "source": [
    "dat = dat_peak_score_starrmpra_crispr\n",
    "tmp = lapply(dat, function(vec){\n",
    "    val = sum(!is.na(vec))\n",
    "    return(val)\n",
    "})\n",
    "print(tmp)"
   ]
  },
  {
   "cell_type": "markdown",
   "metadata": {},
   "source": [
    "```\n",
    "dat = dplyr::left_join(\n",
    "    dat_peak_starrmpra_score,\n",
    "    dat_peak_crispr_score, \n",
    "    by = \"Peak\") %>%\n",
    "    dplyr::mutate(\n",
    "        CRISPR_pos   = ifelse(is.na(CRISPR_pos), 0, CRISPR_pos),\n",
    "        CRISPR_neg   = ifelse(is.na(CRISPR_neg), 0, CRISPR_neg),\n",
    "        CRISPR_count = ifelse(is.na(CRISPR_count), 0, CRISPR_count)\n",
    "    ) %>%\n",
    "    dplyr::arrange(RankNorm)\n",
    "\n",
    "### assign and show\n",
    "dat_score_starrmpra_crispr = dat\n",
    "print(dim(dat))\n",
    "head(dat)\n",
    "```"
   ]
  },
  {
   "cell_type": "markdown",
   "metadata": {},
   "source": [
    "## Save results"
   ]
  },
  {
   "cell_type": "code",
   "execution_count": 70,
   "metadata": {},
   "outputs": [
    {
     "name": "stdout",
     "output_type": "stream",
     "text": [
      "[1] \"/data/reddylab/Kuei/out/proj_combeffect_encode_fcc/results/comparison/result.ranknorm.starrmpra.crispr.tsv\"\n"
     ]
    }
   ],
   "source": [
    "### set file directories\n",
    "fdiry = file.path(FD_RES, \"results\", \"comparison\")\n",
    "fname = \"result.ranknorm.starrmpra.crispr.tsv\"\n",
    "fpath = file.path(fdiry, fname)\n",
    "print(fpath)\n",
    "\n",
    "dat = dat_score_starrmpra_crispr\n",
    "write_tsv(dat, fpath)"
   ]
  },
  {
   "cell_type": "code",
   "execution_count": null,
   "metadata": {},
   "outputs": [],
   "source": []
  },
  {
   "cell_type": "code",
   "execution_count": 54,
   "metadata": {},
   "outputs": [
    {
     "name": "stdout",
     "output_type": "stream",
     "text": [
      "[1] \"chrX:48996933-48997220\"   \"chr8:128298518-128298762\"\n",
      "[3] \"chr8:128242220-128242507\" \"chr11:34024311-34024546\" \n",
      "[5] \"chr8:128189792-128190210\" \"chr20:56703281-56703575\" \n"
     ]
    },
    {
     "data": {
      "text/html": [
       "<table class=\"dataframe\">\n",
       "<caption>A tibble: 6 × 2</caption>\n",
       "<thead>\n",
       "\t<tr><th scope=col>Peak</th><th scope=col>RankNorm</th></tr>\n",
       "\t<tr><th scope=col>&lt;chr&gt;</th><th scope=col>&lt;dbl&gt;</th></tr>\n",
       "</thead>\n",
       "<tbody>\n",
       "\t<tr><td>chrX:48996933-48997220  </td><td>0.002129307</td></tr>\n",
       "\t<tr><td>chr8:128298518-128298762</td><td>0.009291521</td></tr>\n",
       "\t<tr><td>chr8:128242220-128242507</td><td>0.039876113</td></tr>\n",
       "\t<tr><td>chr11:34024311-34024546 </td><td>0.040456833</td></tr>\n",
       "\t<tr><td>chr8:128189792-128190210</td><td>0.041231127</td></tr>\n",
       "\t<tr><td>chr20:56703281-56703575 </td><td>0.048199768</td></tr>\n",
       "</tbody>\n",
       "</table>\n"
      ],
      "text/latex": [
       "A tibble: 6 × 2\n",
       "\\begin{tabular}{ll}\n",
       " Peak & RankNorm\\\\\n",
       " <chr> & <dbl>\\\\\n",
       "\\hline\n",
       "\t chrX:48996933-48997220   & 0.002129307\\\\\n",
       "\t chr8:128298518-128298762 & 0.009291521\\\\\n",
       "\t chr8:128242220-128242507 & 0.039876113\\\\\n",
       "\t chr11:34024311-34024546  & 0.040456833\\\\\n",
       "\t chr8:128189792-128190210 & 0.041231127\\\\\n",
       "\t chr20:56703281-56703575  & 0.048199768\\\\\n",
       "\\end{tabular}\n"
      ],
      "text/markdown": [
       "\n",
       "A tibble: 6 × 2\n",
       "\n",
       "| Peak &lt;chr&gt; | RankNorm &lt;dbl&gt; |\n",
       "|---|---|\n",
       "| chrX:48996933-48997220   | 0.002129307 |\n",
       "| chr8:128298518-128298762 | 0.009291521 |\n",
       "| chr8:128242220-128242507 | 0.039876113 |\n",
       "| chr11:34024311-34024546  | 0.040456833 |\n",
       "| chr8:128189792-128190210 | 0.041231127 |\n",
       "| chr20:56703281-56703575  | 0.048199768 |\n",
       "\n"
      ],
      "text/plain": [
       "  Peak                     RankNorm   \n",
       "1 chrX:48996933-48997220   0.002129307\n",
       "2 chr8:128298518-128298762 0.009291521\n",
       "3 chr8:128242220-128242507 0.039876113\n",
       "4 chr11:34024311-34024546  0.040456833\n",
       "5 chr8:128189792-128190210 0.041231127\n",
       "6 chr20:56703281-56703575  0.048199768"
      ]
     },
     "metadata": {},
     "output_type": "display_data"
    }
   ],
   "source": [
    "dat = dat_peak_score_starrmpra\n",
    "dat = dat %>% dplyr::arrange(RankNorm)\n",
    "vec = dat %>% dplyr::pull(Peak)\n",
    "peaks = vec\n",
    "\n",
    "print(head(peaks))\n",
    "head(dat)"
   ]
  },
  {
   "cell_type": "code",
   "execution_count": 56,
   "metadata": {},
   "outputs": [
    {
     "name": "stdout",
     "output_type": "stream",
     "text": [
      "[1] 3444    3\n"
     ]
    },
    {
     "data": {
      "text/html": [
       "<table class=\"dataframe\">\n",
       "<caption>A tibble: 6 × 3</caption>\n",
       "<thead>\n",
       "\t<tr><th scope=col>Peak</th><th scope=col>Group</th><th scope=col>Score</th></tr>\n",
       "\t<tr><th scope=col>&lt;fct&gt;</th><th scope=col>&lt;chr&gt;</th><th scope=col>&lt;dbl&gt;</th></tr>\n",
       "</thead>\n",
       "<tbody>\n",
       "\t<tr><td>chr11:32870601-32871324</td><td>CRISPRi_HCRFF_Pos</td><td>0</td></tr>\n",
       "\t<tr><td>chr11:32874343-32875070</td><td>CRISPRi_HCRFF_Pos</td><td>0</td></tr>\n",
       "\t<tr><td>chr11:32884749-32885822</td><td>CRISPRi_HCRFF_Pos</td><td>0</td></tr>\n",
       "\t<tr><td>chr11:32892099-32894437</td><td>CRISPRi_HCRFF_Pos</td><td>0</td></tr>\n",
       "\t<tr><td>chr11:32901572-32902485</td><td>CRISPRi_HCRFF_Pos</td><td>0</td></tr>\n",
       "\t<tr><td>chr11:32903491-32904506</td><td>CRISPRi_HCRFF_Pos</td><td>0</td></tr>\n",
       "</tbody>\n",
       "</table>\n"
      ],
      "text/latex": [
       "A tibble: 6 × 3\n",
       "\\begin{tabular}{lll}\n",
       " Peak & Group & Score\\\\\n",
       " <fct> & <chr> & <dbl>\\\\\n",
       "\\hline\n",
       "\t chr11:32870601-32871324 & CRISPRi\\_HCRFF\\_Pos & 0\\\\\n",
       "\t chr11:32874343-32875070 & CRISPRi\\_HCRFF\\_Pos & 0\\\\\n",
       "\t chr11:32884749-32885822 & CRISPRi\\_HCRFF\\_Pos & 0\\\\\n",
       "\t chr11:32892099-32894437 & CRISPRi\\_HCRFF\\_Pos & 0\\\\\n",
       "\t chr11:32901572-32902485 & CRISPRi\\_HCRFF\\_Pos & 0\\\\\n",
       "\t chr11:32903491-32904506 & CRISPRi\\_HCRFF\\_Pos & 0\\\\\n",
       "\\end{tabular}\n"
      ],
      "text/markdown": [
       "\n",
       "A tibble: 6 × 3\n",
       "\n",
       "| Peak &lt;fct&gt; | Group &lt;chr&gt; | Score &lt;dbl&gt; |\n",
       "|---|---|---|\n",
       "| chr11:32870601-32871324 | CRISPRi_HCRFF_Pos | 0 |\n",
       "| chr11:32874343-32875070 | CRISPRi_HCRFF_Pos | 0 |\n",
       "| chr11:32884749-32885822 | CRISPRi_HCRFF_Pos | 0 |\n",
       "| chr11:32892099-32894437 | CRISPRi_HCRFF_Pos | 0 |\n",
       "| chr11:32901572-32902485 | CRISPRi_HCRFF_Pos | 0 |\n",
       "| chr11:32903491-32904506 | CRISPRi_HCRFF_Pos | 0 |\n",
       "\n"
      ],
      "text/plain": [
       "  Peak                    Group             Score\n",
       "1 chr11:32870601-32871324 CRISPRi_HCRFF_Pos 0    \n",
       "2 chr11:32874343-32875070 CRISPRi_HCRFF_Pos 0    \n",
       "3 chr11:32884749-32885822 CRISPRi_HCRFF_Pos 0    \n",
       "4 chr11:32892099-32894437 CRISPRi_HCRFF_Pos 0    \n",
       "5 chr11:32901572-32902485 CRISPRi_HCRFF_Pos 0    \n",
       "6 chr11:32903491-32904506 CRISPRi_HCRFF_Pos 0    "
      ]
     },
     "metadata": {},
     "output_type": "display_data"
    }
   ],
   "source": [
    "dat = dat_peak_score_starrmpra_crispr\n",
    "dat = dat %>% \n",
    "    dplyr::select(Peak, CRISPRi_HCRFF_Pos, CRISPRi_HCRFF_Neg) %>%\n",
    "    tidyr::gather(Group, Score, -Peak) %>%\n",
    "    dplyr::mutate(Peak  = factor(Peak,  levels=peaks)) %>%\n",
    "    replace(is.na(.), 0)\n",
    "\n",
    "dat_score_crispr = dat\n",
    "print(dim(dat))\n",
    "head(dat)"
   ]
  },
  {
   "cell_type": "code",
   "execution_count": 57,
   "metadata": {},
   "outputs": [
    {
     "data": {
      "image/png": "[encoded data removed]",
      "text/plain": [
       "plot without title"
      ]
     },
     "metadata": {
      "image/png": {
       "height": 180,
       "width": 900
      }
     },
     "output_type": "display_data"
    }
   ],
   "source": [
    "theme_fill = scale_fill_manual(\n",
    "    values = c(\n",
    "        \"CRISPRi_HCRFF_Pos\"=\"#e31a1c\", \n",
    "        \"CRISPRi_HCRFF_Neg\"=\"#1f78b4\")\n",
    ")\n",
    "\n",
    "theme_text = theme(\n",
    "    axis.ticks.x = element_blank(),\n",
    "    axis.text.x  = element_blank(),\n",
    "    axis.text.y  = element_text(size = 15),\n",
    "    axis.title.x = element_blank(),\n",
    "    axis.title.y = element_blank(),\n",
    "    plot.title = element_text(face = \"plain\", size = 17)\n",
    "    #axis.title.y = element_text(size = 15)\n",
    ")\n",
    "\n",
    "theme_legend = theme(legend.position = \"none\")\n",
    "\n",
    "dat = dat_score_crispr\n",
    "\n",
    "gpt = ggplot(dat, aes(x=Peak, y=Score, fill=Group)) + \n",
    "    geom_bar(stat=\"identity\", position=\"identity\") + \n",
    "    labs(title = \"CRISPRi-HCRFF\") +\n",
    "    theme_cowplot() + \n",
    "    theme_text +\n",
    "    theme_fill +\n",
    "    theme_legend\n",
    "\n",
    "gpt_score_crispr = gpt\n",
    "\n",
    "options(repr.plot.height=3, repr.plot.width=15)\n",
    "print(gpt)"
   ]
  },
  {
   "cell_type": "code",
   "execution_count": 58,
   "metadata": {},
   "outputs": [
    {
     "name": "stdout",
     "output_type": "stream",
     "text": [
      "[1] 3444    3\n"
     ]
    },
    {
     "data": {
      "text/html": [
       "<table class=\"dataframe\">\n",
       "<caption>A tibble: 6 × 3</caption>\n",
       "<thead>\n",
       "\t<tr><th scope=col>Peak</th><th scope=col>Group</th><th scope=col>Score</th></tr>\n",
       "\t<tr><th scope=col>&lt;fct&gt;</th><th scope=col>&lt;chr&gt;</th><th scope=col>&lt;dbl&gt;</th></tr>\n",
       "</thead>\n",
       "<tbody>\n",
       "\t<tr><td>chr11:32870601-32871324</td><td>CRISPRi_Growth_Pos</td><td>0.2160544</td></tr>\n",
       "\t<tr><td>chr11:32874343-32875070</td><td>CRISPRi_Growth_Pos</td><td>0.0000000</td></tr>\n",
       "\t<tr><td>chr11:32884749-32885822</td><td>CRISPRi_Growth_Pos</td><td>0.0000000</td></tr>\n",
       "\t<tr><td>chr11:32892099-32894437</td><td>CRISPRi_Growth_Pos</td><td>0.4237940</td></tr>\n",
       "\t<tr><td>chr11:32901572-32902485</td><td>CRISPRi_Growth_Pos</td><td>0.0000000</td></tr>\n",
       "\t<tr><td>chr11:32903491-32904506</td><td>CRISPRi_Growth_Pos</td><td>0.0000000</td></tr>\n",
       "</tbody>\n",
       "</table>\n"
      ],
      "text/latex": [
       "A tibble: 6 × 3\n",
       "\\begin{tabular}{lll}\n",
       " Peak & Group & Score\\\\\n",
       " <fct> & <chr> & <dbl>\\\\\n",
       "\\hline\n",
       "\t chr11:32870601-32871324 & CRISPRi\\_Growth\\_Pos & 0.2160544\\\\\n",
       "\t chr11:32874343-32875070 & CRISPRi\\_Growth\\_Pos & 0.0000000\\\\\n",
       "\t chr11:32884749-32885822 & CRISPRi\\_Growth\\_Pos & 0.0000000\\\\\n",
       "\t chr11:32892099-32894437 & CRISPRi\\_Growth\\_Pos & 0.4237940\\\\\n",
       "\t chr11:32901572-32902485 & CRISPRi\\_Growth\\_Pos & 0.0000000\\\\\n",
       "\t chr11:32903491-32904506 & CRISPRi\\_Growth\\_Pos & 0.0000000\\\\\n",
       "\\end{tabular}\n"
      ],
      "text/markdown": [
       "\n",
       "A tibble: 6 × 3\n",
       "\n",
       "| Peak &lt;fct&gt; | Group &lt;chr&gt; | Score &lt;dbl&gt; |\n",
       "|---|---|---|\n",
       "| chr11:32870601-32871324 | CRISPRi_Growth_Pos | 0.2160544 |\n",
       "| chr11:32874343-32875070 | CRISPRi_Growth_Pos | 0.0000000 |\n",
       "| chr11:32884749-32885822 | CRISPRi_Growth_Pos | 0.0000000 |\n",
       "| chr11:32892099-32894437 | CRISPRi_Growth_Pos | 0.4237940 |\n",
       "| chr11:32901572-32902485 | CRISPRi_Growth_Pos | 0.0000000 |\n",
       "| chr11:32903491-32904506 | CRISPRi_Growth_Pos | 0.0000000 |\n",
       "\n"
      ],
      "text/plain": [
       "  Peak                    Group              Score    \n",
       "1 chr11:32870601-32871324 CRISPRi_Growth_Pos 0.2160544\n",
       "2 chr11:32874343-32875070 CRISPRi_Growth_Pos 0.0000000\n",
       "3 chr11:32884749-32885822 CRISPRi_Growth_Pos 0.0000000\n",
       "4 chr11:32892099-32894437 CRISPRi_Growth_Pos 0.4237940\n",
       "5 chr11:32901572-32902485 CRISPRi_Growth_Pos 0.0000000\n",
       "6 chr11:32903491-32904506 CRISPRi_Growth_Pos 0.0000000"
      ]
     },
     "metadata": {},
     "output_type": "display_data"
    }
   ],
   "source": [
    "dat = dat_peak_score_starrmpra_crispr\n",
    "dat = dat %>% \n",
    "    dplyr::select(Peak, CRISPRi_Growth_Pos, CRISPRi_Growth_Neg) %>%\n",
    "    tidyr::gather(Group, Score, -Peak) %>%\n",
    "    dplyr::mutate(Peak  = factor(Peak,  levels=peaks)) %>%\n",
    "    replace(is.na(.), 0)\n",
    "\n",
    "dat_score_crispr = dat\n",
    "print(dim(dat))\n",
    "head(dat)"
   ]
  },
  {
   "cell_type": "code",
   "execution_count": 60,
   "metadata": {},
   "outputs": [
    {
     "data": {
      "image/png": "[encoded data removed]",
      "text/plain": [
       "plot without title"
      ]
     },
     "metadata": {
      "image/png": {
       "height": 180,
       "width": 900
      }
     },
     "output_type": "display_data"
    }
   ],
   "source": [
    "theme_fill = scale_fill_manual(\n",
    "    values = c(\n",
    "        \"CRISPRi_Growth_Pos\"=\"#e31a1c\", \n",
    "        \"CRISPRi_Growth_Neg\"=\"#1f78b4\")\n",
    ")\n",
    "\n",
    "theme_text = theme(\n",
    "    axis.ticks.x = element_blank(),\n",
    "    axis.text.x  = element_blank(),\n",
    "    axis.text.y  = element_text(size = 15),\n",
    "    axis.title.x = element_blank(),\n",
    "    axis.title.y = element_blank(),\n",
    "    plot.title = element_text(face = \"plain\", size = 17)\n",
    "    #axis.title.y = element_text(size = 15)\n",
    ")\n",
    "\n",
    "theme_legend = theme(legend.position = \"none\")\n",
    "\n",
    "dat = dat_score_crispr\n",
    "\n",
    "gpt = ggplot(dat, aes(x=Peak, y=Score, fill=Group)) + \n",
    "    geom_bar(stat=\"identity\", position=\"identity\") + \n",
    "    labs(title = \"CRISPRi-Growth\") +\n",
    "    theme_cowplot() + \n",
    "    theme_text +\n",
    "    theme_fill +\n",
    "    theme_legend\n",
    "\n",
    "gpt_score_crispr = gpt\n",
    "\n",
    "options(repr.plot.height=3, repr.plot.width=15)\n",
    "print(gpt)"
   ]
  },
  {
   "cell_type": "code",
   "execution_count": 61,
   "metadata": {},
   "outputs": [
    {
     "name": "stdout",
     "output_type": "stream",
     "text": [
      "[1] 1722    3\n"
     ]
    },
    {
     "data": {
      "text/html": [
       "<table class=\"dataframe\">\n",
       "<caption>A tibble: 6 × 3</caption>\n",
       "<thead>\n",
       "\t<tr><th scope=col>Peak</th><th scope=col>CRISPRi_Growth_Tot</th><th scope=col>Score</th></tr>\n",
       "\t<tr><th scope=col>&lt;fct&gt;</th><th scope=col>&lt;dbl&gt;</th><th scope=col>&lt;dbl&gt;</th></tr>\n",
       "</thead>\n",
       "<tbody>\n",
       "\t<tr><td>chr11:32870601-32871324</td><td>-0.0420142</td><td>-0.0420142</td></tr>\n",
       "\t<tr><td>chr11:32874343-32875070</td><td> 0.0000000</td><td> 0.0000000</td></tr>\n",
       "\t<tr><td>chr11:32884749-32885822</td><td> 0.0000000</td><td> 0.0000000</td></tr>\n",
       "\t<tr><td>chr11:32892099-32894437</td><td>-0.0965777</td><td>-0.0965777</td></tr>\n",
       "\t<tr><td>chr11:32901572-32902485</td><td> 0.0000000</td><td> 0.0000000</td></tr>\n",
       "\t<tr><td>chr11:32903491-32904506</td><td> 0.0000000</td><td> 0.0000000</td></tr>\n",
       "</tbody>\n",
       "</table>\n"
      ],
      "text/latex": [
       "A tibble: 6 × 3\n",
       "\\begin{tabular}{lll}\n",
       " Peak & CRISPRi\\_Growth\\_Tot & Score\\\\\n",
       " <fct> & <dbl> & <dbl>\\\\\n",
       "\\hline\n",
       "\t chr11:32870601-32871324 & -0.0420142 & -0.0420142\\\\\n",
       "\t chr11:32874343-32875070 &  0.0000000 &  0.0000000\\\\\n",
       "\t chr11:32884749-32885822 &  0.0000000 &  0.0000000\\\\\n",
       "\t chr11:32892099-32894437 & -0.0965777 & -0.0965777\\\\\n",
       "\t chr11:32901572-32902485 &  0.0000000 &  0.0000000\\\\\n",
       "\t chr11:32903491-32904506 &  0.0000000 &  0.0000000\\\\\n",
       "\\end{tabular}\n"
      ],
      "text/markdown": [
       "\n",
       "A tibble: 6 × 3\n",
       "\n",
       "| Peak &lt;fct&gt; | CRISPRi_Growth_Tot &lt;dbl&gt; | Score &lt;dbl&gt; |\n",
       "|---|---|---|\n",
       "| chr11:32870601-32871324 | -0.0420142 | -0.0420142 |\n",
       "| chr11:32874343-32875070 |  0.0000000 |  0.0000000 |\n",
       "| chr11:32884749-32885822 |  0.0000000 |  0.0000000 |\n",
       "| chr11:32892099-32894437 | -0.0965777 | -0.0965777 |\n",
       "| chr11:32901572-32902485 |  0.0000000 |  0.0000000 |\n",
       "| chr11:32903491-32904506 |  0.0000000 |  0.0000000 |\n",
       "\n"
      ],
      "text/plain": [
       "  Peak                    CRISPRi_Growth_Tot Score     \n",
       "1 chr11:32870601-32871324 -0.0420142         -0.0420142\n",
       "2 chr11:32874343-32875070  0.0000000          0.0000000\n",
       "3 chr11:32884749-32885822  0.0000000          0.0000000\n",
       "4 chr11:32892099-32894437 -0.0965777         -0.0965777\n",
       "5 chr11:32901572-32902485  0.0000000          0.0000000\n",
       "6 chr11:32903491-32904506  0.0000000          0.0000000"
      ]
     },
     "metadata": {},
     "output_type": "display_data"
    }
   ],
   "source": [
    "dat = dat_peak_score_starrmpra_crispr\n",
    "dat = dat %>% \n",
    "    dplyr::select(Peak, CRISPRi_Growth_Tot) %>%\n",
    "    dplyr::mutate(\n",
    "        Peak  = factor(Peak,  levels=peaks),\n",
    "        Score = CRISPRi_Growth_Tot) %>%\n",
    "    replace(is.na(.), 0)\n",
    "\n",
    "dat_score_crispr = dat\n",
    "print(dim(dat))\n",
    "head(dat)"
   ]
  },
  {
   "cell_type": "code",
   "execution_count": 64,
   "metadata": {},
   "outputs": [
    {
     "data": {
      "image/png": "[encoded data removed]",
      "text/plain": [
       "plot without title"
      ]
     },
     "metadata": {
      "image/png": {
       "height": 180,
       "width": 900
      }
     },
     "output_type": "display_data"
    }
   ],
   "source": [
    "theme_text = theme(\n",
    "    axis.ticks.x = element_blank(),\n",
    "    axis.text.x  = element_blank(),\n",
    "    axis.text.y  = element_text(size = 15),\n",
    "    axis.title.x = element_blank(),\n",
    "    axis.title.y = element_blank(),\n",
    "    plot.title = element_text(face = \"plain\", size = 17)\n",
    "    #axis.title.y = element_text(size = 15)\n",
    ")\n",
    "\n",
    "theme_legend = theme(legend.position = \"none\")\n",
    "\n",
    "dat = dat_score_crispr\n",
    "\n",
    "gpt = ggplot(dat, aes(x=Peak, y=Score)) + \n",
    "    geom_bar(stat=\"identity\", position=\"identity\") + \n",
    "    labs(title = \"CRISPRi-Growth\") +\n",
    "    theme_cowplot() + \n",
    "    theme_text +\n",
    "    theme_legend\n",
    "\n",
    "gpt_score_crispr = gpt\n",
    "\n",
    "options(repr.plot.height=3, repr.plot.width=15)\n",
    "print(gpt)"
   ]
  },
  {
   "cell_type": "code",
   "execution_count": 65,
   "metadata": {},
   "outputs": [
    {
     "name": "stdout",
     "output_type": "stream",
     "text": [
      "[1] 1722    3\n"
     ]
    },
    {
     "data": {
      "text/html": [
       "<table class=\"dataframe\">\n",
       "<caption>A tibble: 6 × 3</caption>\n",
       "<thead>\n",
       "\t<tr><th scope=col>Peak</th><th scope=col>LMPRA_Tot</th><th scope=col>Score</th></tr>\n",
       "\t<tr><th scope=col>&lt;fct&gt;</th><th scope=col>&lt;dbl&gt;</th><th scope=col>&lt;dbl&gt;</th></tr>\n",
       "</thead>\n",
       "<tbody>\n",
       "\t<tr><td>chr11:32870601-32871324</td><td>0.000000</td><td>0.000000</td></tr>\n",
       "\t<tr><td>chr11:32874343-32875070</td><td>0.000000</td><td>0.000000</td></tr>\n",
       "\t<tr><td>chr11:32884749-32885822</td><td>0.163440</td><td>0.163440</td></tr>\n",
       "\t<tr><td>chr11:32892099-32894437</td><td>0.000000</td><td>0.000000</td></tr>\n",
       "\t<tr><td>chr11:32901572-32902485</td><td>0.000000</td><td>0.000000</td></tr>\n",
       "\t<tr><td>chr11:32903491-32904506</td><td>0.077066</td><td>0.077066</td></tr>\n",
       "</tbody>\n",
       "</table>\n"
      ],
      "text/latex": [
       "A tibble: 6 × 3\n",
       "\\begin{tabular}{lll}\n",
       " Peak & LMPRA\\_Tot & Score\\\\\n",
       " <fct> & <dbl> & <dbl>\\\\\n",
       "\\hline\n",
       "\t chr11:32870601-32871324 & 0.000000 & 0.000000\\\\\n",
       "\t chr11:32874343-32875070 & 0.000000 & 0.000000\\\\\n",
       "\t chr11:32884749-32885822 & 0.163440 & 0.163440\\\\\n",
       "\t chr11:32892099-32894437 & 0.000000 & 0.000000\\\\\n",
       "\t chr11:32901572-32902485 & 0.000000 & 0.000000\\\\\n",
       "\t chr11:32903491-32904506 & 0.077066 & 0.077066\\\\\n",
       "\\end{tabular}\n"
      ],
      "text/markdown": [
       "\n",
       "A tibble: 6 × 3\n",
       "\n",
       "| Peak &lt;fct&gt; | LMPRA_Tot &lt;dbl&gt; | Score &lt;dbl&gt; |\n",
       "|---|---|---|\n",
       "| chr11:32870601-32871324 | 0.000000 | 0.000000 |\n",
       "| chr11:32874343-32875070 | 0.000000 | 0.000000 |\n",
       "| chr11:32884749-32885822 | 0.163440 | 0.163440 |\n",
       "| chr11:32892099-32894437 | 0.000000 | 0.000000 |\n",
       "| chr11:32901572-32902485 | 0.000000 | 0.000000 |\n",
       "| chr11:32903491-32904506 | 0.077066 | 0.077066 |\n",
       "\n"
      ],
      "text/plain": [
       "  Peak                    LMPRA_Tot Score   \n",
       "1 chr11:32870601-32871324 0.000000  0.000000\n",
       "2 chr11:32874343-32875070 0.000000  0.000000\n",
       "3 chr11:32884749-32885822 0.163440  0.163440\n",
       "4 chr11:32892099-32894437 0.000000  0.000000\n",
       "5 chr11:32901572-32902485 0.000000  0.000000\n",
       "6 chr11:32903491-32904506 0.077066  0.077066"
      ]
     },
     "metadata": {},
     "output_type": "display_data"
    }
   ],
   "source": [
    "dat = dat_peak_score_starrmpra_crispr\n",
    "dat = dat %>% \n",
    "    dplyr::select(Peak, LMPRA_Tot) %>%\n",
    "    dplyr::mutate(\n",
    "        Peak  = factor(Peak,  levels=peaks),\n",
    "        Score = LMPRA_Tot) %>%\n",
    "    replace(is.na(.), 0)\n",
    "\n",
    "dat_score = dat\n",
    "print(dim(dat))\n",
    "head(dat)"
   ]
  },
  {
   "cell_type": "code",
   "execution_count": 66,
   "metadata": {},
   "outputs": [
    {
     "data": {
      "image/png": "[encoded data removed]",
      "text/plain": [
       "plot without title"
      ]
     },
     "metadata": {
      "image/png": {
       "height": 180,
       "width": 900
      }
     },
     "output_type": "display_data"
    }
   ],
   "source": [
    "theme_text = theme(\n",
    "    axis.ticks.x = element_blank(),\n",
    "    axis.text.x  = element_blank(),\n",
    "    axis.text.y  = element_text(size = 15),\n",
    "    axis.title.x = element_blank(),\n",
    "    axis.title.y = element_blank(),\n",
    "    plot.title = element_text(face = \"plain\", size = 17)\n",
    "    #axis.title.y = element_text(size = 15)\n",
    ")\n",
    "\n",
    "theme_legend = theme(legend.position = \"none\")\n",
    "\n",
    "dat = dat_score\n",
    "\n",
    "gpt = ggplot(dat, aes(x=Peak, y=Score)) + \n",
    "    geom_bar(stat=\"identity\", position=\"identity\") + \n",
    "    labs(title = \"LentiMPRA\") +\n",
    "    theme_cowplot() + \n",
    "    theme_text +\n",
    "    theme_legend\n",
    "\n",
    "gpt_score_crispr = gpt\n",
    "\n",
    "options(repr.plot.height=3, repr.plot.width=15)\n",
    "print(gpt)"
   ]
  },
  {
   "cell_type": "code",
   "execution_count": null,
   "metadata": {},
   "outputs": [],
   "source": []
  }
 ],
 "metadata": {
  "kernelspec": {
   "display_name": "R",
   "language": "R",
   "name": "ir"
  },
  "language_info": {
   "codemirror_mode": "r",
   "file_extension": ".r",
   "mimetype": "text/x-r-source",
   "name": "R",
   "pygments_lexer": "r",
   "version": "4.3.0"
  }
 },
 "nbformat": 4,
 "nbformat_minor": 4
}
