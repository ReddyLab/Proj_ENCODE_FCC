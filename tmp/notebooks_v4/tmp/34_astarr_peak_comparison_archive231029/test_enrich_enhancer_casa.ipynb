{
 "cells": [
  {
   "cell_type": "code",
   "execution_count": 1,
   "metadata": {},
   "outputs": [
    {
     "name": "stdout",
     "output_type": "stream",
     "text": [
      "You are in Singularity: singularity_proj_encode_fcc \n",
      "BASE DIRECTORY (FD_BASE): /data/reddylab/Kuei \n",
      "WORK DIRECTORY (FD_WORK): /data/reddylab/Kuei/out \n",
      "CODE DIRECTORY (FD_CODE): /data/reddylab/Kuei/code \n",
      "PATH OF PROJECT (FD_PRJ): /data/reddylab/Kuei/code/Proj_CombEffect_ENCODE_FCC \n",
      "PATH OF RESULTS (FD_RES): /data/reddylab/Kuei/out/proj_combeffect_encode_fcc \n",
      "PATH OF LOG     (FD_LOG): /data/reddylab/Kuei/out/proj_combeffect_encode_fcc/log \n"
     ]
    }
   ],
   "source": [
    "suppressMessages(suppressWarnings(source(\"../config/config_sing.R\")))\n",
    "library(fgsea)\n",
    "show_env()"
   ]
  },
  {
   "cell_type": "code",
   "execution_count": 2,
   "metadata": {},
   "outputs": [
    {
     "name": "stderr",
     "output_type": "stream",
     "text": [
      "\u001b[1mRows: \u001b[22m\u001b[34m5166\u001b[39m \u001b[1mColumns: \u001b[22m\u001b[34m10\u001b[39m\n",
      "\u001b[36m──\u001b[39m \u001b[1mColumn specification\u001b[22m \u001b[36m────────────────────────────────────────────────────────────────────────\u001b[39m\n",
      "\u001b[1mDelimiter:\u001b[22m \"\\t\"\n",
      "\u001b[31mchr\u001b[39m (6): Chrom, Peak, TMPRA_Gene, TMPRA_Dataset, CRISPR_HCFF, Assay\n",
      "\u001b[32mdbl\u001b[39m (4): Start, End, Log2FC, RankNorm_Total\n",
      "\n",
      "\u001b[36mℹ\u001b[39m Use `spec()` to retrieve the full column specification for this data.\n",
      "\u001b[36mℹ\u001b[39m Specify the column types or set `show_col_types = FALSE` to quiet this message.\n"
     ]
    },
    {
     "name": "stdout",
     "output_type": "stream",
     "text": [
      "[1] 5166   10\n"
     ]
    },
    {
     "data": {
      "text/html": [
       "<table class=\"dataframe\">\n",
       "<caption>A tibble: 6 × 10</caption>\n",
       "<thead>\n",
       "\t<tr><th scope=col>Chrom</th><th scope=col>Start</th><th scope=col>End</th><th scope=col>Peak</th><th scope=col>TMPRA_Gene</th><th scope=col>TMPRA_Dataset</th><th scope=col>CRISPR_HCFF</th><th scope=col>Assay</th><th scope=col>Log2FC</th><th scope=col>RankNorm_Total</th></tr>\n",
       "\t<tr><th scope=col>&lt;chr&gt;</th><th scope=col>&lt;dbl&gt;</th><th scope=col>&lt;dbl&gt;</th><th scope=col>&lt;chr&gt;</th><th scope=col>&lt;chr&gt;</th><th scope=col>&lt;chr&gt;</th><th scope=col>&lt;chr&gt;</th><th scope=col>&lt;chr&gt;</th><th scope=col>&lt;dbl&gt;</th><th scope=col>&lt;dbl&gt;</th></tr>\n",
       "</thead>\n",
       "<tbody>\n",
       "\t<tr><td>chr11</td><td>4539569</td><td>4540043</td><td>chr11_4539569_4540043</td><td>HBE1</td><td>OL45</td><td>HBE1,HBG1,HBG2,HBS1L,MYB</td><td>ASTARR</td><td> 0.14501695</td><td>0.6550523</td></tr>\n",
       "\t<tr><td>chr11</td><td>4551336</td><td>4552012</td><td>chr11_4551336_4552012</td><td>HBE1</td><td>OL45</td><td>NA                      </td><td>ASTARR</td><td> 0.32125162</td><td>0.7560976</td></tr>\n",
       "\t<tr><td>chr11</td><td>4553969</td><td>4555012</td><td>chr11_4553969_4555012</td><td>HBE1</td><td>OL45</td><td>NA                      </td><td>ASTARR</td><td> 0.14529397</td><td>0.6556330</td></tr>\n",
       "\t<tr><td>chr11</td><td>4569016</td><td>4569992</td><td>chr11_4569016_4569992</td><td>HBE1</td><td>OL45</td><td>NA                      </td><td>ASTARR</td><td> 0.01136464</td><td>0.5673635</td></tr>\n",
       "\t<tr><td>chr11</td><td>4577444</td><td>4578031</td><td>chr11_4577444_4578031</td><td>HBE1</td><td>OL45</td><td>NA                      </td><td>ASTARR</td><td> 0.24524353</td><td>0.7154472</td></tr>\n",
       "\t<tr><td>chr11</td><td>4601808</td><td>4602487</td><td>chr11_4601808_4602487</td><td>HBE1</td><td>OL45</td><td>NA                      </td><td>ASTARR</td><td>-0.57215284</td><td>0.1277584</td></tr>\n",
       "</tbody>\n",
       "</table>\n"
      ],
      "text/latex": [
       "A tibble: 6 × 10\n",
       "\\begin{tabular}{llllllllll}\n",
       " Chrom & Start & End & Peak & TMPRA\\_Gene & TMPRA\\_Dataset & CRISPR\\_HCFF & Assay & Log2FC & RankNorm\\_Total\\\\\n",
       " <chr> & <dbl> & <dbl> & <chr> & <chr> & <chr> & <chr> & <chr> & <dbl> & <dbl>\\\\\n",
       "\\hline\n",
       "\t chr11 & 4539569 & 4540043 & chr11\\_4539569\\_4540043 & HBE1 & OL45 & HBE1,HBG1,HBG2,HBS1L,MYB & ASTARR &  0.14501695 & 0.6550523\\\\\n",
       "\t chr11 & 4551336 & 4552012 & chr11\\_4551336\\_4552012 & HBE1 & OL45 & NA                       & ASTARR &  0.32125162 & 0.7560976\\\\\n",
       "\t chr11 & 4553969 & 4555012 & chr11\\_4553969\\_4555012 & HBE1 & OL45 & NA                       & ASTARR &  0.14529397 & 0.6556330\\\\\n",
       "\t chr11 & 4569016 & 4569992 & chr11\\_4569016\\_4569992 & HBE1 & OL45 & NA                       & ASTARR &  0.01136464 & 0.5673635\\\\\n",
       "\t chr11 & 4577444 & 4578031 & chr11\\_4577444\\_4578031 & HBE1 & OL45 & NA                       & ASTARR &  0.24524353 & 0.7154472\\\\\n",
       "\t chr11 & 4601808 & 4602487 & chr11\\_4601808\\_4602487 & HBE1 & OL45 & NA                       & ASTARR & -0.57215284 & 0.1277584\\\\\n",
       "\\end{tabular}\n"
      ],
      "text/markdown": [
       "\n",
       "A tibble: 6 × 10\n",
       "\n",
       "| Chrom &lt;chr&gt; | Start &lt;dbl&gt; | End &lt;dbl&gt; | Peak &lt;chr&gt; | TMPRA_Gene &lt;chr&gt; | TMPRA_Dataset &lt;chr&gt; | CRISPR_HCFF &lt;chr&gt; | Assay &lt;chr&gt; | Log2FC &lt;dbl&gt; | RankNorm_Total &lt;dbl&gt; |\n",
       "|---|---|---|---|---|---|---|---|---|---|\n",
       "| chr11 | 4539569 | 4540043 | chr11_4539569_4540043 | HBE1 | OL45 | HBE1,HBG1,HBG2,HBS1L,MYB | ASTARR |  0.14501695 | 0.6550523 |\n",
       "| chr11 | 4551336 | 4552012 | chr11_4551336_4552012 | HBE1 | OL45 | NA                       | ASTARR |  0.32125162 | 0.7560976 |\n",
       "| chr11 | 4553969 | 4555012 | chr11_4553969_4555012 | HBE1 | OL45 | NA                       | ASTARR |  0.14529397 | 0.6556330 |\n",
       "| chr11 | 4569016 | 4569992 | chr11_4569016_4569992 | HBE1 | OL45 | NA                       | ASTARR |  0.01136464 | 0.5673635 |\n",
       "| chr11 | 4577444 | 4578031 | chr11_4577444_4578031 | HBE1 | OL45 | NA                       | ASTARR |  0.24524353 | 0.7154472 |\n",
       "| chr11 | 4601808 | 4602487 | chr11_4601808_4602487 | HBE1 | OL45 | NA                       | ASTARR | -0.57215284 | 0.1277584 |\n",
       "\n"
      ],
      "text/plain": [
       "  Chrom Start   End     Peak                  TMPRA_Gene TMPRA_Dataset\n",
       "1 chr11 4539569 4540043 chr11_4539569_4540043 HBE1       OL45         \n",
       "2 chr11 4551336 4552012 chr11_4551336_4552012 HBE1       OL45         \n",
       "3 chr11 4553969 4555012 chr11_4553969_4555012 HBE1       OL45         \n",
       "4 chr11 4569016 4569992 chr11_4569016_4569992 HBE1       OL45         \n",
       "5 chr11 4577444 4578031 chr11_4577444_4578031 HBE1       OL45         \n",
       "6 chr11 4601808 4602487 chr11_4601808_4602487 HBE1       OL45         \n",
       "  CRISPR_HCFF              Assay  Log2FC      RankNorm_Total\n",
       "1 HBE1,HBG1,HBG2,HBS1L,MYB ASTARR  0.14501695 0.6550523     \n",
       "2 NA                       ASTARR  0.32125162 0.7560976     \n",
       "3 NA                       ASTARR  0.14529397 0.6556330     \n",
       "4 NA                       ASTARR  0.01136464 0.5673635     \n",
       "5 NA                       ASTARR  0.24524353 0.7154472     \n",
       "6 NA                       ASTARR -0.57215284 0.1277584     "
      ]
     },
     "metadata": {},
     "output_type": "display_data"
    }
   ],
   "source": [
    "### set file directories\n",
    "fdiry = file.path(FD_RES, \"results\", \"comparison\")\n",
    "fname = \"result.ranknorm.starrmpra.tsv\"\n",
    "fpath = file.path(fdiry, fname)\n",
    "\n",
    "### read data\n",
    "dat = read_tsv(fpath)\n",
    "\n",
    "### assign and show\n",
    "dat_peak_log2fc = dat\n",
    "print(dim(dat))\n",
    "head(dat)"
   ]
  },
  {
   "cell_type": "code",
   "execution_count": 3,
   "metadata": {},
   "outputs": [
    {
     "name": "stderr",
     "output_type": "stream",
     "text": [
      "\u001b[1mRows: \u001b[22m\u001b[34m16537\u001b[39m \u001b[1mColumns: \u001b[22m\u001b[34m4\u001b[39m\n",
      "\u001b[36m──\u001b[39m \u001b[1mColumn specification\u001b[22m \u001b[36m────────────────────────────────────────────────────────────────────────\u001b[39m\n",
      "\u001b[1mDelimiter:\u001b[22m \"\\t\"\n",
      "\u001b[31mchr\u001b[39m (3): Peak, Name, Annotate\n",
      "\u001b[32mdbl\u001b[39m (1): Count\n",
      "\n",
      "\u001b[36mℹ\u001b[39m Use `spec()` to retrieve the full column specification for this data.\n",
      "\u001b[36mℹ\u001b[39m Specify the column types or set `show_col_types = FALSE` to quiet this message.\n"
     ]
    },
    {
     "name": "stdout",
     "output_type": "stream",
     "text": [
      "[1] 16537     4\n"
     ]
    },
    {
     "data": {
      "text/html": [
       "<table class=\"dataframe\">\n",
       "<caption>A tibble: 6 × 4</caption>\n",
       "<thead>\n",
       "\t<tr><th scope=col>Peak</th><th scope=col>Name</th><th scope=col>Count</th><th scope=col>Annotate</th></tr>\n",
       "\t<tr><th scope=col>&lt;chr&gt;</th><th scope=col>&lt;chr&gt;</th><th scope=col>&lt;dbl&gt;</th><th scope=col>&lt;chr&gt;</th></tr>\n",
       "</thead>\n",
       "<tbody>\n",
       "\t<tr><td>chr10_100228452_100230090</td><td>Enhancer_ASTARR</td><td>1</td><td>chr10_100229600_100229770                          </td></tr>\n",
       "\t<tr><td>chr10_100267066_100268374</td><td>Enhancer_ASTARR</td><td>1</td><td>chr10_100267660_100267770                          </td></tr>\n",
       "\t<tr><td>chr10_100373060_100374238</td><td>Enhancer_ASTARR</td><td>1</td><td>chr10_100373870_100374200                          </td></tr>\n",
       "\t<tr><td>chr10_100528900_100530538</td><td>Enhancer_ASTARR</td><td>2</td><td>chr10_100529730_100529820,chr10_100529840_100529970</td></tr>\n",
       "\t<tr><td>chr10_100535377_100536237</td><td>Enhancer_ASTARR</td><td>1</td><td>chr10_100535720_100536060                          </td></tr>\n",
       "\t<tr><td>chr10_101042559_101043551</td><td>Enhancer_ASTARR</td><td>2</td><td>chr10_101042970_101043060,chr10_101043080_101043180</td></tr>\n",
       "</tbody>\n",
       "</table>\n"
      ],
      "text/latex": [
       "A tibble: 6 × 4\n",
       "\\begin{tabular}{llll}\n",
       " Peak & Name & Count & Annotate\\\\\n",
       " <chr> & <chr> & <dbl> & <chr>\\\\\n",
       "\\hline\n",
       "\t chr10\\_100228452\\_100230090 & Enhancer\\_ASTARR & 1 & chr10\\_100229600\\_100229770                          \\\\\n",
       "\t chr10\\_100267066\\_100268374 & Enhancer\\_ASTARR & 1 & chr10\\_100267660\\_100267770                          \\\\\n",
       "\t chr10\\_100373060\\_100374238 & Enhancer\\_ASTARR & 1 & chr10\\_100373870\\_100374200                          \\\\\n",
       "\t chr10\\_100528900\\_100530538 & Enhancer\\_ASTARR & 2 & chr10\\_100529730\\_100529820,chr10\\_100529840\\_100529970\\\\\n",
       "\t chr10\\_100535377\\_100536237 & Enhancer\\_ASTARR & 1 & chr10\\_100535720\\_100536060                          \\\\\n",
       "\t chr10\\_101042559\\_101043551 & Enhancer\\_ASTARR & 2 & chr10\\_101042970\\_101043060,chr10\\_101043080\\_101043180\\\\\n",
       "\\end{tabular}\n"
      ],
      "text/markdown": [
       "\n",
       "A tibble: 6 × 4\n",
       "\n",
       "| Peak &lt;chr&gt; | Name &lt;chr&gt; | Count &lt;dbl&gt; | Annotate &lt;chr&gt; |\n",
       "|---|---|---|---|\n",
       "| chr10_100228452_100230090 | Enhancer_ASTARR | 1 | chr10_100229600_100229770                           |\n",
       "| chr10_100267066_100268374 | Enhancer_ASTARR | 1 | chr10_100267660_100267770                           |\n",
       "| chr10_100373060_100374238 | Enhancer_ASTARR | 1 | chr10_100373870_100374200                           |\n",
       "| chr10_100528900_100530538 | Enhancer_ASTARR | 2 | chr10_100529730_100529820,chr10_100529840_100529970 |\n",
       "| chr10_100535377_100536237 | Enhancer_ASTARR | 1 | chr10_100535720_100536060                           |\n",
       "| chr10_101042559_101043551 | Enhancer_ASTARR | 2 | chr10_101042970_101043060,chr10_101043080_101043180 |\n",
       "\n"
      ],
      "text/plain": [
       "  Peak                      Name            Count\n",
       "1 chr10_100228452_100230090 Enhancer_ASTARR 1    \n",
       "2 chr10_100267066_100268374 Enhancer_ASTARR 1    \n",
       "3 chr10_100373060_100374238 Enhancer_ASTARR 1    \n",
       "4 chr10_100528900_100530538 Enhancer_ASTARR 2    \n",
       "5 chr10_100535377_100536237 Enhancer_ASTARR 1    \n",
       "6 chr10_101042559_101043551 Enhancer_ASTARR 2    \n",
       "  Annotate                                           \n",
       "1 chr10_100229600_100229770                          \n",
       "2 chr10_100267660_100267770                          \n",
       "3 chr10_100373870_100374200                          \n",
       "4 chr10_100529730_100529820,chr10_100529840_100529970\n",
       "5 chr10_100535720_100536060                          \n",
       "6 chr10_101042970_101043060,chr10_101043080_101043180"
      ]
     },
     "metadata": {},
     "output_type": "display_data"
    }
   ],
   "source": [
    "fdiry = file.path(FD_RES, \"results\", \"region\", \"KS91_K562_ASTARRseq_peak_macs_input\")\n",
    "fname = \"peak.summary.enhancer_junke_peak_astarr.tsv\"\n",
    "fpath = file.path(fdiry, fname)\n",
    "\n",
    "dat = read_tsv(fpath)\n",
    "\n",
    "dat_peak_annot_enhancer_astarr = dat\n",
    "print(dim(dat))\n",
    "head(dat)"
   ]
  },
  {
   "cell_type": "code",
   "execution_count": 4,
   "metadata": {},
   "outputs": [
    {
     "name": "stderr",
     "output_type": "stream",
     "text": [
      "\u001b[1mRows: \u001b[22m\u001b[34m20947\u001b[39m \u001b[1mColumns: \u001b[22m\u001b[34m4\u001b[39m\n",
      "\u001b[36m──\u001b[39m \u001b[1mColumn specification\u001b[22m \u001b[36m────────────────────────────────────────────────────────────────────────\u001b[39m\n",
      "\u001b[1mDelimiter:\u001b[22m \"\\t\"\n",
      "\u001b[31mchr\u001b[39m (3): Peak, Name, Annotate\n",
      "\u001b[32mdbl\u001b[39m (1): Count\n",
      "\n",
      "\u001b[36mℹ\u001b[39m Use `spec()` to retrieve the full column specification for this data.\n",
      "\u001b[36mℹ\u001b[39m Specify the column types or set `show_col_types = FALSE` to quiet this message.\n"
     ]
    },
    {
     "name": "stdout",
     "output_type": "stream",
     "text": [
      "[1] 20947     4\n"
     ]
    },
    {
     "data": {
      "text/html": [
       "<table class=\"dataframe\">\n",
       "<caption>A tibble: 6 × 4</caption>\n",
       "<thead>\n",
       "\t<tr><th scope=col>Peak</th><th scope=col>Name</th><th scope=col>Count</th><th scope=col>Annotate</th></tr>\n",
       "\t<tr><th scope=col>&lt;chr&gt;</th><th scope=col>&lt;chr&gt;</th><th scope=col>&lt;dbl&gt;</th><th scope=col>&lt;chr&gt;</th></tr>\n",
       "</thead>\n",
       "<tbody>\n",
       "\t<tr><td>chr10_100009096_100010466</td><td>Enhancer_WSTARR</td><td>2</td><td>chr10_100009900_100009950,chr10_100010000_100010030</td></tr>\n",
       "\t<tr><td>chr10_100185017_100187275</td><td>Enhancer_WSTARR</td><td>1</td><td>chr10_100185860_100186300                          </td></tr>\n",
       "\t<tr><td>chr10_100267066_100268374</td><td>Enhancer_WSTARR</td><td>1</td><td>chr10_100267670_100267780                          </td></tr>\n",
       "\t<tr><td>chr10_100285974_100287341</td><td>Enhancer_WSTARR</td><td>2</td><td>chr10_100286470_100286500,chr10_100286550_100286830</td></tr>\n",
       "\t<tr><td>chr10_100346328_100347693</td><td>Enhancer_WSTARR</td><td>1</td><td>chr10_100346760_100347200                          </td></tr>\n",
       "\t<tr><td>chr10_100373060_100374238</td><td>Enhancer_WSTARR</td><td>2</td><td>chr10_100373130_100373290,chr10_100373410_100374270</td></tr>\n",
       "</tbody>\n",
       "</table>\n"
      ],
      "text/latex": [
       "A tibble: 6 × 4\n",
       "\\begin{tabular}{llll}\n",
       " Peak & Name & Count & Annotate\\\\\n",
       " <chr> & <chr> & <dbl> & <chr>\\\\\n",
       "\\hline\n",
       "\t chr10\\_100009096\\_100010466 & Enhancer\\_WSTARR & 2 & chr10\\_100009900\\_100009950,chr10\\_100010000\\_100010030\\\\\n",
       "\t chr10\\_100185017\\_100187275 & Enhancer\\_WSTARR & 1 & chr10\\_100185860\\_100186300                          \\\\\n",
       "\t chr10\\_100267066\\_100268374 & Enhancer\\_WSTARR & 1 & chr10\\_100267670\\_100267780                          \\\\\n",
       "\t chr10\\_100285974\\_100287341 & Enhancer\\_WSTARR & 2 & chr10\\_100286470\\_100286500,chr10\\_100286550\\_100286830\\\\\n",
       "\t chr10\\_100346328\\_100347693 & Enhancer\\_WSTARR & 1 & chr10\\_100346760\\_100347200                          \\\\\n",
       "\t chr10\\_100373060\\_100374238 & Enhancer\\_WSTARR & 2 & chr10\\_100373130\\_100373290,chr10\\_100373410\\_100374270\\\\\n",
       "\\end{tabular}\n"
      ],
      "text/markdown": [
       "\n",
       "A tibble: 6 × 4\n",
       "\n",
       "| Peak &lt;chr&gt; | Name &lt;chr&gt; | Count &lt;dbl&gt; | Annotate &lt;chr&gt; |\n",
       "|---|---|---|---|\n",
       "| chr10_100009096_100010466 | Enhancer_WSTARR | 2 | chr10_100009900_100009950,chr10_100010000_100010030 |\n",
       "| chr10_100185017_100187275 | Enhancer_WSTARR | 1 | chr10_100185860_100186300                           |\n",
       "| chr10_100267066_100268374 | Enhancer_WSTARR | 1 | chr10_100267670_100267780                           |\n",
       "| chr10_100285974_100287341 | Enhancer_WSTARR | 2 | chr10_100286470_100286500,chr10_100286550_100286830 |\n",
       "| chr10_100346328_100347693 | Enhancer_WSTARR | 1 | chr10_100346760_100347200                           |\n",
       "| chr10_100373060_100374238 | Enhancer_WSTARR | 2 | chr10_100373130_100373290,chr10_100373410_100374270 |\n",
       "\n"
      ],
      "text/plain": [
       "  Peak                      Name            Count\n",
       "1 chr10_100009096_100010466 Enhancer_WSTARR 2    \n",
       "2 chr10_100185017_100187275 Enhancer_WSTARR 1    \n",
       "3 chr10_100267066_100268374 Enhancer_WSTARR 1    \n",
       "4 chr10_100285974_100287341 Enhancer_WSTARR 2    \n",
       "5 chr10_100346328_100347693 Enhancer_WSTARR 1    \n",
       "6 chr10_100373060_100374238 Enhancer_WSTARR 2    \n",
       "  Annotate                                           \n",
       "1 chr10_100009900_100009950,chr10_100010000_100010030\n",
       "2 chr10_100185860_100186300                          \n",
       "3 chr10_100267670_100267780                          \n",
       "4 chr10_100286470_100286500,chr10_100286550_100286830\n",
       "5 chr10_100346760_100347200                          \n",
       "6 chr10_100373130_100373290,chr10_100373410_100374270"
      ]
     },
     "metadata": {},
     "output_type": "display_data"
    }
   ],
   "source": [
    "fdiry = file.path(FD_RES, \"results\", \"region\", \"KS91_K562_ASTARRseq_peak_macs_input\")\n",
    "fname = \"peak.summary.enhancer_junke_peak_wstarr.tsv\"\n",
    "fpath = file.path(fdiry, fname)\n",
    "\n",
    "dat = read_tsv(fpath)\n",
    "\n",
    "dat_peak_annot_enhancer_wstarr = dat\n",
    "print(dim(dat))\n",
    "head(dat)"
   ]
  },
  {
   "cell_type": "code",
   "execution_count": 5,
   "metadata": {},
   "outputs": [
    {
     "name": "stderr",
     "output_type": "stream",
     "text": [
      "\u001b[1mRows: \u001b[22m\u001b[34m87\u001b[39m \u001b[1mColumns: \u001b[22m\u001b[34m6\u001b[39m\n",
      "\u001b[36m──\u001b[39m \u001b[1mColumn specification\u001b[22m \u001b[36m────────────────────────────────────────────────────────────────────────\u001b[39m\n",
      "\u001b[1mDelimiter:\u001b[22m \"\\t\"\n",
      "\u001b[31mchr\u001b[39m (4): Peak, CASA, Gene_Symbol, Gene_ENS\n",
      "\u001b[32mdbl\u001b[39m (2): Score, Overlap\n",
      "\n",
      "\u001b[36mℹ\u001b[39m Use `spec()` to retrieve the full column specification for this data.\n",
      "\u001b[36mℹ\u001b[39m Specify the column types or set `show_col_types = FALSE` to quiet this message.\n"
     ]
    },
    {
     "name": "stdout",
     "output_type": "stream",
     "text": [
      "[1] 87  6\n"
     ]
    },
    {
     "data": {
      "text/html": [
       "<table class=\"dataframe\">\n",
       "<caption>A tibble: 6 × 6</caption>\n",
       "<thead>\n",
       "\t<tr><th scope=col>Peak</th><th scope=col>CASA</th><th scope=col>Score</th><th scope=col>Gene_Symbol</th><th scope=col>Gene_ENS</th><th scope=col>Overlap</th></tr>\n",
       "\t<tr><th scope=col>&lt;chr&gt;</th><th scope=col>&lt;chr&gt;</th><th scope=col>&lt;dbl&gt;</th><th scope=col>&lt;chr&gt;</th><th scope=col>&lt;chr&gt;</th><th scope=col>&lt;dbl&gt;</th></tr>\n",
       "</thead>\n",
       "<tbody>\n",
       "\t<tr><td>chr11_5249943_5250880</td><td>chr11_5249847_5250847</td><td>1.890890</td><td>HBG1</td><td>ENST00000330597.5</td><td> 904</td></tr>\n",
       "\t<tr><td>chr11_5249943_5250880</td><td>chr11_5249847_5250847</td><td>1.922956</td><td>HBG2</td><td>ENST00000336906.6</td><td> 904</td></tr>\n",
       "\t<tr><td>chr11_5254190_5254453</td><td>chr11_5253647_5254647</td><td>1.504404</td><td>HBG1</td><td>ENST00000330597.5</td><td> 263</td></tr>\n",
       "\t<tr><td>chr11_5254190_5254453</td><td>chr11_5253647_5254647</td><td>1.430535</td><td>HBG2</td><td>ENST00000336906.6</td><td> 263</td></tr>\n",
       "\t<tr><td>chr11_5269440_5270695</td><td>chr11_5269147_5271147</td><td>1.906478</td><td>HBE1</td><td>ENST00000336906.6</td><td>1255</td></tr>\n",
       "\t<tr><td>chr11_5275424_5276195</td><td>chr11_5275847_5276247</td><td>1.173871</td><td>HBG1</td><td>ENST00000330597.5</td><td> 348</td></tr>\n",
       "</tbody>\n",
       "</table>\n"
      ],
      "text/latex": [
       "A tibble: 6 × 6\n",
       "\\begin{tabular}{llllll}\n",
       " Peak & CASA & Score & Gene\\_Symbol & Gene\\_ENS & Overlap\\\\\n",
       " <chr> & <chr> & <dbl> & <chr> & <chr> & <dbl>\\\\\n",
       "\\hline\n",
       "\t chr11\\_5249943\\_5250880 & chr11\\_5249847\\_5250847 & 1.890890 & HBG1 & ENST00000330597.5 &  904\\\\\n",
       "\t chr11\\_5249943\\_5250880 & chr11\\_5249847\\_5250847 & 1.922956 & HBG2 & ENST00000336906.6 &  904\\\\\n",
       "\t chr11\\_5254190\\_5254453 & chr11\\_5253647\\_5254647 & 1.504404 & HBG1 & ENST00000330597.5 &  263\\\\\n",
       "\t chr11\\_5254190\\_5254453 & chr11\\_5253647\\_5254647 & 1.430535 & HBG2 & ENST00000336906.6 &  263\\\\\n",
       "\t chr11\\_5269440\\_5270695 & chr11\\_5269147\\_5271147 & 1.906478 & HBE1 & ENST00000336906.6 & 1255\\\\\n",
       "\t chr11\\_5275424\\_5276195 & chr11\\_5275847\\_5276247 & 1.173871 & HBG1 & ENST00000330597.5 &  348\\\\\n",
       "\\end{tabular}\n"
      ],
      "text/markdown": [
       "\n",
       "A tibble: 6 × 6\n",
       "\n",
       "| Peak &lt;chr&gt; | CASA &lt;chr&gt; | Score &lt;dbl&gt; | Gene_Symbol &lt;chr&gt; | Gene_ENS &lt;chr&gt; | Overlap &lt;dbl&gt; |\n",
       "|---|---|---|---|---|---|\n",
       "| chr11_5249943_5250880 | chr11_5249847_5250847 | 1.890890 | HBG1 | ENST00000330597.5 |  904 |\n",
       "| chr11_5249943_5250880 | chr11_5249847_5250847 | 1.922956 | HBG2 | ENST00000336906.6 |  904 |\n",
       "| chr11_5254190_5254453 | chr11_5253647_5254647 | 1.504404 | HBG1 | ENST00000330597.5 |  263 |\n",
       "| chr11_5254190_5254453 | chr11_5253647_5254647 | 1.430535 | HBG2 | ENST00000336906.6 |  263 |\n",
       "| chr11_5269440_5270695 | chr11_5269147_5271147 | 1.906478 | HBE1 | ENST00000336906.6 | 1255 |\n",
       "| chr11_5275424_5276195 | chr11_5275847_5276247 | 1.173871 | HBG1 | ENST00000330597.5 |  348 |\n",
       "\n"
      ],
      "text/plain": [
       "  Peak                  CASA                  Score    Gene_Symbol\n",
       "1 chr11_5249943_5250880 chr11_5249847_5250847 1.890890 HBG1       \n",
       "2 chr11_5249943_5250880 chr11_5249847_5250847 1.922956 HBG2       \n",
       "3 chr11_5254190_5254453 chr11_5253647_5254647 1.504404 HBG1       \n",
       "4 chr11_5254190_5254453 chr11_5253647_5254647 1.430535 HBG2       \n",
       "5 chr11_5269440_5270695 chr11_5269147_5271147 1.906478 HBE1       \n",
       "6 chr11_5275424_5276195 chr11_5275847_5276247 1.173871 HBG1       \n",
       "  Gene_ENS          Overlap\n",
       "1 ENST00000330597.5  904   \n",
       "2 ENST00000336906.6  904   \n",
       "3 ENST00000330597.5  263   \n",
       "4 ENST00000336906.6  263   \n",
       "5 ENST00000336906.6 1255   \n",
       "6 ENST00000330597.5  348   "
      ]
     },
     "metadata": {},
     "output_type": "display_data"
    }
   ],
   "source": [
    "fdiry = file.path(FD_RES, \"results\", \"region\", \"KS91_K562_ASTARRseq_peak_macs_input\")\n",
    "fname = \"peak.summary.crispri_casa_peak.tsv\"\n",
    "fpath = file.path(fdiry, fname)\n",
    "\n",
    "dat = read_tsv(fpath)\n",
    "\n",
    "dat_peak_annot_casa = dat\n",
    "print(dim(dat))\n",
    "head(dat)"
   ]
  },
  {
   "cell_type": "code",
   "execution_count": null,
   "metadata": {},
   "outputs": [],
   "source": []
  },
  {
   "cell_type": "code",
   "execution_count": null,
   "metadata": {},
   "outputs": [],
   "source": []
  },
  {
   "cell_type": "code",
   "execution_count": null,
   "metadata": {},
   "outputs": [],
   "source": []
  },
  {
   "cell_type": "code",
   "execution_count": 10,
   "metadata": {},
   "outputs": [],
   "source": [
    "dat = bind_rows(\n",
    "    dat_peak_annot_enhancer_astarr,\n",
    "    dat_peak_annot_enhancer_wstarr)\n",
    "\n",
    "dat_peak_annot_enhancer = dat"
   ]
  },
  {
   "cell_type": "code",
   "execution_count": 17,
   "metadata": {},
   "outputs": [
    {
     "name": "stdout",
     "output_type": "stream",
     "text": [
      "[1] \"Enhancer\" \"CRISPR\"  \n",
      "\n",
      "\n",
      "37484 \n",
      "[1] \"chr10_100228452_100230090\" \"chr10_100267066_100268374\"\n",
      "[3] \"chr10_100373060_100374238\" \"chr10_100528900_100530538\"\n",
      "[5] \"chr10_100535377_100536237\" \"chr10_101042559_101043551\"\n",
      "\n",
      "\n",
      "87 \n",
      "[1] \"chr11_5249943_5250880\" \"chr11_5249943_5250880\" \"chr11_5254190_5254453\"\n",
      "[4] \"chr11_5254190_5254453\" \"chr11_5269440_5270695\" \"chr11_5275424_5276195\"\n",
      "\n",
      "\n"
     ]
    }
   ],
   "source": [
    "lst = list(\n",
    "    \"Enhancer\" = dat_peak_annot_enhancer,\n",
    "    \"CRISPR\"   = dat_peak_annot_casa\n",
    ")\n",
    "\n",
    "lst = lapply(lst, function(dat){\n",
    "    peak = dat$Peak\n",
    "    return(peak)\n",
    "})\n",
    "\n",
    "lst_annot = lst\n",
    "\n",
    "print(names(lst))\n",
    "cat(\"\\n\\n\")\n",
    "for (x in lst_annot){\n",
    "    cat(length(x), \"\\n\")\n",
    "    print(head(x))\n",
    "    cat(\"\\n\\n\")\n",
    "}"
   ]
  },
  {
   "cell_type": "code",
   "execution_count": null,
   "metadata": {},
   "outputs": [],
   "source": []
  },
  {
   "cell_type": "code",
   "execution_count": null,
   "metadata": {},
   "outputs": [],
   "source": []
  },
  {
   "cell_type": "code",
   "execution_count": null,
   "metadata": {},
   "outputs": [],
   "source": []
  },
  {
   "cell_type": "code",
   "execution_count": 21,
   "metadata": {},
   "outputs": [
    {
     "data": {
      "text/html": [
       "<table class=\"dataframe\">\n",
       "<caption>A tibble: 6 × 2</caption>\n",
       "<thead>\n",
       "\t<tr><th scope=col>Peak</th><th scope=col>RankNorm</th></tr>\n",
       "\t<tr><th scope=col>&lt;chr&gt;</th><th scope=col>&lt;dbl&gt;</th></tr>\n",
       "</thead>\n",
       "<tbody>\n",
       "\t<tr><td>chrX_48996933_48997220  </td><td>0.002129307</td></tr>\n",
       "\t<tr><td>chr8_128298518_128298762</td><td>0.009291521</td></tr>\n",
       "\t<tr><td>chr8_128242220_128242507</td><td>0.039876113</td></tr>\n",
       "\t<tr><td>chr11_34024311_34024546 </td><td>0.040456833</td></tr>\n",
       "\t<tr><td>chr8_128189792_128190210</td><td>0.041231127</td></tr>\n",
       "\t<tr><td>chr20_56703281_56703575 </td><td>0.048199768</td></tr>\n",
       "</tbody>\n",
       "</table>\n"
      ],
      "text/latex": [
       "A tibble: 6 × 2\n",
       "\\begin{tabular}{ll}\n",
       " Peak & RankNorm\\\\\n",
       " <chr> & <dbl>\\\\\n",
       "\\hline\n",
       "\t chrX\\_48996933\\_48997220   & 0.002129307\\\\\n",
       "\t chr8\\_128298518\\_128298762 & 0.009291521\\\\\n",
       "\t chr8\\_128242220\\_128242507 & 0.039876113\\\\\n",
       "\t chr11\\_34024311\\_34024546  & 0.040456833\\\\\n",
       "\t chr8\\_128189792\\_128190210 & 0.041231127\\\\\n",
       "\t chr20\\_56703281\\_56703575  & 0.048199768\\\\\n",
       "\\end{tabular}\n"
      ],
      "text/markdown": [
       "\n",
       "A tibble: 6 × 2\n",
       "\n",
       "| Peak &lt;chr&gt; | RankNorm &lt;dbl&gt; |\n",
       "|---|---|\n",
       "| chrX_48996933_48997220   | 0.002129307 |\n",
       "| chr8_128298518_128298762 | 0.009291521 |\n",
       "| chr8_128242220_128242507 | 0.039876113 |\n",
       "| chr11_34024311_34024546  | 0.040456833 |\n",
       "| chr8_128189792_128190210 | 0.041231127 |\n",
       "| chr20_56703281_56703575  | 0.048199768 |\n",
       "\n"
      ],
      "text/plain": [
       "  Peak                     RankNorm   \n",
       "1 chrX_48996933_48997220   0.002129307\n",
       "2 chr8_128298518_128298762 0.009291521\n",
       "3 chr8_128242220_128242507 0.039876113\n",
       "4 chr11_34024311_34024546  0.040456833\n",
       "5 chr8_128189792_128190210 0.041231127\n",
       "6 chr20_56703281_56703575  0.048199768"
      ]
     },
     "metadata": {},
     "output_type": "display_data"
    }
   ],
   "source": [
    "dat = dat_peak_log2fc\n",
    "dat = dat %>% \n",
    "    dplyr::group_by(Peak) %>% \n",
    "    dplyr::summarise(\n",
    "        RankNorm = mean(RankNorm_Total),\n",
    "        .groups  = \"drop\") %>%\n",
    "    dplyr::arrange(RankNorm)\n",
    "\n",
    "head(dat)"
   ]
  },
  {
   "cell_type": "code",
   "execution_count": 22,
   "metadata": {},
   "outputs": [
    {
     "name": "stdout",
     "output_type": "stream",
     "text": [
      "[1] 1722\n",
      "  chrX_48996933_48997220 chr8_128298518_128298762 chr8_128242220_128242507 \n",
      "             0.002129307              0.009291521              0.039876113 \n",
      " chr11_34024311_34024546 chr8_128189792_128190210  chr20_56703281_56703575 \n",
      "             0.040456833              0.041231127              0.048199768 \n"
     ]
    }
   ],
   "source": [
    "dat = dat_peak_log2fc\n",
    "dat = dat %>% \n",
    "    dplyr::group_by(Peak) %>% \n",
    "    dplyr::summarise(\n",
    "        RankNorm = mean(RankNorm_Total),\n",
    "        .groups  = \"drop\") %>%\n",
    "    dplyr::arrange(RankNorm)\n",
    "\n",
    "vec = dat$RankNorm\n",
    "names(vec) = dat$Peak\n",
    "\n",
    "vec_peak = vec\n",
    "print(length(vec))\n",
    "print(head(vec))"
   ]
  },
  {
   "cell_type": "code",
   "execution_count": 27,
   "metadata": {},
   "outputs": [
    {
     "data": {
      "text/html": [
       "0.132404181184669"
      ],
      "text/latex": [
       "0.132404181184669"
      ],
      "text/markdown": [
       "0.132404181184669"
      ],
      "text/plain": [
       "[1] 0.1324042"
      ]
     },
     "metadata": {},
     "output_type": "display_data"
    }
   ],
   "source": [
    "mean(duplicated(vec))"
   ]
  },
  {
   "cell_type": "code",
   "execution_count": 29,
   "metadata": {},
   "outputs": [
    {
     "name": "stderr",
     "output_type": "stream",
     "text": [
      "Warning message in preparePathwaysAndStats(pathways, stats, minSize, maxSize, gseaParam, :\n",
      "“There are ties in the preranked stats (13.24% of the list).\n",
      "The order of those tied genes will be arbitrary, which may produce unexpected results.”\n"
     ]
    },
    {
     "name": "stdout",
     "output_type": "stream",
     "text": [
      "[1] \"data.table\" \"data.frame\"\n"
     ]
    }
   ],
   "source": [
    "set.seed(42)\n",
    "fgseaRes = fgsea(pathways  = lst_annot, \n",
    "                 stats     = vec_peak,\n",
    "                 eps       = 0.0,\n",
    "                 minSize   = 15,\n",
    "                 maxSize   = 500,\n",
    "                 scoreType = \"pos\"\n",
    "                )\n",
    "\n",
    "print(class(fgseaRes))"
   ]
  },
  {
   "cell_type": "code",
   "execution_count": 36,
   "metadata": {},
   "outputs": [
    {
     "data": {
      "text/html": [
       "<table class=\"dataframe\">\n",
       "<caption>A data.table: 2 × 7</caption>\n",
       "<thead>\n",
       "\t<tr><th scope=col>pathway</th><th scope=col>pval</th><th scope=col>padj</th><th scope=col>log2err</th><th scope=col>ES</th><th scope=col>NES</th><th scope=col>size</th></tr>\n",
       "\t<tr><th scope=col>&lt;chr&gt;</th><th scope=col>&lt;dbl&gt;</th><th scope=col>&lt;dbl&gt;</th><th scope=col>&lt;dbl&gt;</th><th scope=col>&lt;dbl&gt;</th><th scope=col>&lt;dbl&gt;</th><th scope=col>&lt;int&gt;</th></tr>\n",
       "</thead>\n",
       "<tbody>\n",
       "\t<tr><td>CRISPR  </td><td>5.400721e-08</td><td>5.400721e-08</td><td>0.7195128</td><td>0.5793107</td><td>2.364570</td><td> 37</td></tr>\n",
       "\t<tr><td>Enhancer</td><td>1.218759e-86</td><td>2.437518e-86</td><td>2.4336132</td><td>0.7433624</td><td>3.744937</td><td>248</td></tr>\n",
       "</tbody>\n",
       "</table>\n"
      ],
      "text/latex": [
       "A data.table: 2 × 7\n",
       "\\begin{tabular}{lllllll}\n",
       " pathway & pval & padj & log2err & ES & NES & size\\\\\n",
       " <chr> & <dbl> & <dbl> & <dbl> & <dbl> & <dbl> & <int>\\\\\n",
       "\\hline\n",
       "\t CRISPR   & 5.400721e-08 & 5.400721e-08 & 0.7195128 & 0.5793107 & 2.364570 &  37\\\\\n",
       "\t Enhancer & 1.218759e-86 & 2.437518e-86 & 2.4336132 & 0.7433624 & 3.744937 & 248\\\\\n",
       "\\end{tabular}\n"
      ],
      "text/markdown": [
       "\n",
       "A data.table: 2 × 7\n",
       "\n",
       "| pathway &lt;chr&gt; | pval &lt;dbl&gt; | padj &lt;dbl&gt; | log2err &lt;dbl&gt; | ES &lt;dbl&gt; | NES &lt;dbl&gt; | size &lt;int&gt; |\n",
       "|---|---|---|---|---|---|---|\n",
       "| CRISPR   | 5.400721e-08 | 5.400721e-08 | 0.7195128 | 0.5793107 | 2.364570 |  37 |\n",
       "| Enhancer | 1.218759e-86 | 2.437518e-86 | 2.4336132 | 0.7433624 | 3.744937 | 248 |\n",
       "\n"
      ],
      "text/plain": [
       "  pathway  pval         padj         log2err   ES        NES      size\n",
       "1 CRISPR   5.400721e-08 5.400721e-08 0.7195128 0.5793107 2.364570  37 \n",
       "2 Enhancer 1.218759e-86 2.437518e-86 2.4336132 0.7433624 3.744937 248 "
      ]
     },
     "metadata": {},
     "output_type": "display_data"
    }
   ],
   "source": [
    "dat = fgseaRes\n",
    "dat = dat %>% dplyr::select(\n",
    "    pathway, pval, padj, log2err, ES, NES, size\n",
    ")\n",
    "head(dat)"
   ]
  },
  {
   "cell_type": "code",
   "execution_count": 53,
   "metadata": {},
   "outputs": [],
   "source": [
    "theme_text = theme(\n",
    "        axis.text.x = element_text(size=15),\n",
    "        axis.text.y = element_text(size=15)\n",
    ")\n",
    "\n",
    "theme_grid = theme(\n",
    "    panel.grid.major.x = element_line(\n",
    "        color     = \"grey90\",\n",
    "        linewidth = 0.5,\n",
    "        linetype  = 1),\n",
    "    panel.grid.major.y = element_line(\n",
    "        color     = \"grey90\",\n",
    "        linewidth = 0.5,\n",
    "        linetype  = 1),\n",
    "    panel.grid.minor.y = element_line(\n",
    "        color     = \"grey90\",\n",
    "        linewidth = 0.5,\n",
    "        linetype  = 1)\n",
    ")"
   ]
  },
  {
   "cell_type": "code",
   "execution_count": 62,
   "metadata": {},
   "outputs": [
    {
     "data": {
      "image/png": "[encoded data removed]",
      "text/plain": [
       "plot without title"
      ]
     },
     "metadata": {
      "image/png": {
       "height": 180,
       "width": 480
      }
     },
     "output_type": "display_data"
    }
   ],
   "source": [
    "dat = fgseaRes\n",
    "dat = dat %>% dplyr::select(pathway, pval, padj, log2err, ES, NES, size)\n",
    "\n",
    "gpt = ggplot(dat, aes(x = NES, y=pathway, size=size)) + \n",
    "    geom_point() + \n",
    "    scale_size(range = c(5, 10)) +\n",
    "    xlim(1, 4.0) +\n",
    "    labs(x = \"Normalized Enrichment Score\", y = \"\") +\n",
    "    theme_cowplot() +\n",
    "    theme_grid +\n",
    "    theme_text\n",
    "\n",
    "options(repr.plot.height=3, repr.plot.width=8)\n",
    "print(gpt)"
   ]
  },
  {
   "cell_type": "code",
   "execution_count": 34,
   "metadata": {},
   "outputs": [
    {
     "data": {
      "image/png": "[encoded data removed]",
      "text/plain": [
       "plot without title"
      ]
     },
     "metadata": {
      "image/png": {
       "height": 180,
       "width": 360
      }
     },
     "output_type": "display_data"
    }
   ],
   "source": [
    "options(repr.plot.height=3, repr.plot.width=6)\n",
    "\n",
    "plotEnrichment(\n",
    "    lst_annot[[\"Enhancer\"]],\n",
    "    vec_peak) + \n",
    "    labs(title=\"Enhancer\")"
   ]
  },
  {
   "cell_type": "code",
   "execution_count": 35,
   "metadata": {},
   "outputs": [
    {
     "data": {
      "image/png": "[encoded data removed]",
      "text/plain": [
       "plot without title"
      ]
     },
     "metadata": {
      "image/png": {
       "height": 180,
       "width": 360
      }
     },
     "output_type": "display_data"
    }
   ],
   "source": [
    "options(repr.plot.height=3, repr.plot.width=6)\n",
    "\n",
    "plotEnrichment(\n",
    "    lst_annot[[\"CRISPR\"]],\n",
    "    vec_peak) + \n",
    "    labs(title=\"CRISPR\")"
   ]
  }
 ],
 "metadata": {
  "kernelspec": {
   "display_name": "R",
   "language": "R",
   "name": "ir"
  },
  "language_info": {
   "codemirror_mode": "r",
   "file_extension": ".r",
   "mimetype": "text/x-r-source",
   "name": "R",
   "pygments_lexer": "r",
   "version": "4.2.3"
  }
 },
 "nbformat": 4,
 "nbformat_minor": 4
}
