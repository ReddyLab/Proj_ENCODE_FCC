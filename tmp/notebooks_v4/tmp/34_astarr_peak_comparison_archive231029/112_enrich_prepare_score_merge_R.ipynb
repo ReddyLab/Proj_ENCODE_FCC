{
 "cells": [
  {
   "cell_type": "markdown",
   "metadata": {},
   "source": [
    "**Set environment**"
   ]
  },
  {
   "cell_type": "code",
   "execution_count": 1,
   "metadata": {},
   "outputs": [
    {
     "name": "stdout",
     "output_type": "stream",
     "text": [
      "You are in Singularity: singularity_proj_encode_fcc \n",
      "BASE DIRECTORY (FD_BASE): /data/reddylab/Kuei \n",
      "WORK DIRECTORY (FD_WORK): /data/reddylab/Kuei/out \n",
      "CODE DIRECTORY (FD_CODE): /data/reddylab/Kuei/code \n",
      "PATH OF PROJECT (FD_PRJ): /data/reddylab/Kuei/code/Proj_CombEffect_ENCODE_FCC \n",
      "PATH OF RESULTS (FD_RES): /data/reddylab/Kuei/out/proj_combeffect_encode_fcc \n",
      "PATH OF LOG     (FD_LOG): /data/reddylab/Kuei/out/proj_combeffect_encode_fcc/log \n"
     ]
    }
   ],
   "source": [
    "suppressMessages(suppressWarnings(source(\"../config/config_sing.R\")))\n",
    "show_env()"
   ]
  },
  {
   "cell_type": "markdown",
   "metadata": {},
   "source": [
    "## Import data"
   ]
  },
  {
   "cell_type": "markdown",
   "metadata": {},
   "source": [
    "**Score: RankNorm of STARR/MPRA**"
   ]
  },
  {
   "cell_type": "code",
   "execution_count": 2,
   "metadata": {},
   "outputs": [
    {
     "name": "stdout",
     "output_type": "stream",
     "text": [
      "[1] 5166   10\n"
     ]
    },
    {
     "data": {
      "text/html": [
       "<table class=\"dataframe\">\n",
       "<caption>A tibble: 6 × 10</caption>\n",
       "<thead>\n",
       "\t<tr><th scope=col>Chrom</th><th scope=col>Start</th><th scope=col>End</th><th scope=col>Peak</th><th scope=col>TMPRA_Gene</th><th scope=col>TMPRA_Dataset</th><th scope=col>CRISPR_HCFF</th><th scope=col>Assay</th><th scope=col>Log2FC</th><th scope=col>RankNorm_Total</th></tr>\n",
       "\t<tr><th scope=col>&lt;chr&gt;</th><th scope=col>&lt;dbl&gt;</th><th scope=col>&lt;dbl&gt;</th><th scope=col>&lt;chr&gt;</th><th scope=col>&lt;chr&gt;</th><th scope=col>&lt;chr&gt;</th><th scope=col>&lt;chr&gt;</th><th scope=col>&lt;chr&gt;</th><th scope=col>&lt;dbl&gt;</th><th scope=col>&lt;dbl&gt;</th></tr>\n",
       "</thead>\n",
       "<tbody>\n",
       "\t<tr><td>chr11</td><td>4539569</td><td>4540043</td><td>chr11:4539569-4540043</td><td>HBE1</td><td>OL45</td><td>HBE1,HBG1,HBG2,HBS1L,MYB</td><td>ASTARR</td><td> 0.14501695</td><td>0.6550523</td></tr>\n",
       "\t<tr><td>chr11</td><td>4551336</td><td>4552012</td><td>chr11:4551336-4552012</td><td>HBE1</td><td>OL45</td><td>NA                      </td><td>ASTARR</td><td> 0.32125162</td><td>0.7560976</td></tr>\n",
       "\t<tr><td>chr11</td><td>4553969</td><td>4555012</td><td>chr11:4553969-4555012</td><td>HBE1</td><td>OL45</td><td>NA                      </td><td>ASTARR</td><td> 0.14529397</td><td>0.6556330</td></tr>\n",
       "\t<tr><td>chr11</td><td>4569016</td><td>4569992</td><td>chr11:4569016-4569992</td><td>HBE1</td><td>OL45</td><td>NA                      </td><td>ASTARR</td><td> 0.01136464</td><td>0.5673635</td></tr>\n",
       "\t<tr><td>chr11</td><td>4577444</td><td>4578031</td><td>chr11:4577444-4578031</td><td>HBE1</td><td>OL45</td><td>NA                      </td><td>ASTARR</td><td> 0.24524353</td><td>0.7154472</td></tr>\n",
       "\t<tr><td>chr11</td><td>4601808</td><td>4602487</td><td>chr11:4601808-4602487</td><td>HBE1</td><td>OL45</td><td>NA                      </td><td>ASTARR</td><td>-0.57215284</td><td>0.1277584</td></tr>\n",
       "</tbody>\n",
       "</table>\n"
      ],
      "text/latex": [
       "A tibble: 6 × 10\n",
       "\\begin{tabular}{llllllllll}\n",
       " Chrom & Start & End & Peak & TMPRA\\_Gene & TMPRA\\_Dataset & CRISPR\\_HCFF & Assay & Log2FC & RankNorm\\_Total\\\\\n",
       " <chr> & <dbl> & <dbl> & <chr> & <chr> & <chr> & <chr> & <chr> & <dbl> & <dbl>\\\\\n",
       "\\hline\n",
       "\t chr11 & 4539569 & 4540043 & chr11:4539569-4540043 & HBE1 & OL45 & HBE1,HBG1,HBG2,HBS1L,MYB & ASTARR &  0.14501695 & 0.6550523\\\\\n",
       "\t chr11 & 4551336 & 4552012 & chr11:4551336-4552012 & HBE1 & OL45 & NA                       & ASTARR &  0.32125162 & 0.7560976\\\\\n",
       "\t chr11 & 4553969 & 4555012 & chr11:4553969-4555012 & HBE1 & OL45 & NA                       & ASTARR &  0.14529397 & 0.6556330\\\\\n",
       "\t chr11 & 4569016 & 4569992 & chr11:4569016-4569992 & HBE1 & OL45 & NA                       & ASTARR &  0.01136464 & 0.5673635\\\\\n",
       "\t chr11 & 4577444 & 4578031 & chr11:4577444-4578031 & HBE1 & OL45 & NA                       & ASTARR &  0.24524353 & 0.7154472\\\\\n",
       "\t chr11 & 4601808 & 4602487 & chr11:4601808-4602487 & HBE1 & OL45 & NA                       & ASTARR & -0.57215284 & 0.1277584\\\\\n",
       "\\end{tabular}\n"
      ],
      "text/markdown": [
       "\n",
       "A tibble: 6 × 10\n",
       "\n",
       "| Chrom &lt;chr&gt; | Start &lt;dbl&gt; | End &lt;dbl&gt; | Peak &lt;chr&gt; | TMPRA_Gene &lt;chr&gt; | TMPRA_Dataset &lt;chr&gt; | CRISPR_HCFF &lt;chr&gt; | Assay &lt;chr&gt; | Log2FC &lt;dbl&gt; | RankNorm_Total &lt;dbl&gt; |\n",
       "|---|---|---|---|---|---|---|---|---|---|\n",
       "| chr11 | 4539569 | 4540043 | chr11:4539569-4540043 | HBE1 | OL45 | HBE1,HBG1,HBG2,HBS1L,MYB | ASTARR |  0.14501695 | 0.6550523 |\n",
       "| chr11 | 4551336 | 4552012 | chr11:4551336-4552012 | HBE1 | OL45 | NA                       | ASTARR |  0.32125162 | 0.7560976 |\n",
       "| chr11 | 4553969 | 4555012 | chr11:4553969-4555012 | HBE1 | OL45 | NA                       | ASTARR |  0.14529397 | 0.6556330 |\n",
       "| chr11 | 4569016 | 4569992 | chr11:4569016-4569992 | HBE1 | OL45 | NA                       | ASTARR |  0.01136464 | 0.5673635 |\n",
       "| chr11 | 4577444 | 4578031 | chr11:4577444-4578031 | HBE1 | OL45 | NA                       | ASTARR |  0.24524353 | 0.7154472 |\n",
       "| chr11 | 4601808 | 4602487 | chr11:4601808-4602487 | HBE1 | OL45 | NA                       | ASTARR | -0.57215284 | 0.1277584 |\n",
       "\n"
      ],
      "text/plain": [
       "  Chrom Start   End     Peak                  TMPRA_Gene TMPRA_Dataset\n",
       "1 chr11 4539569 4540043 chr11:4539569-4540043 HBE1       OL45         \n",
       "2 chr11 4551336 4552012 chr11:4551336-4552012 HBE1       OL45         \n",
       "3 chr11 4553969 4555012 chr11:4553969-4555012 HBE1       OL45         \n",
       "4 chr11 4569016 4569992 chr11:4569016-4569992 HBE1       OL45         \n",
       "5 chr11 4577444 4578031 chr11:4577444-4578031 HBE1       OL45         \n",
       "6 chr11 4601808 4602487 chr11:4601808-4602487 HBE1       OL45         \n",
       "  CRISPR_HCFF              Assay  Log2FC      RankNorm_Total\n",
       "1 HBE1,HBG1,HBG2,HBS1L,MYB ASTARR  0.14501695 0.6550523     \n",
       "2 NA                       ASTARR  0.32125162 0.7560976     \n",
       "3 NA                       ASTARR  0.14529397 0.6556330     \n",
       "4 NA                       ASTARR  0.01136464 0.5673635     \n",
       "5 NA                       ASTARR  0.24524353 0.7154472     \n",
       "6 NA                       ASTARR -0.57215284 0.1277584     "
      ]
     },
     "metadata": {},
     "output_type": "display_data"
    }
   ],
   "source": [
    "### set file directories\n",
    "fdiry = file.path(FD_RES, \"results\", \"comparison\")\n",
    "fname = \"result.ranknorm.starrmpra.full.tsv\"\n",
    "fpath = file.path(fdiry, fname)\n",
    "\n",
    "### read data\n",
    "dat = read_tsv(fpath, show_col_types = FALSE)\n",
    "\n",
    "### assign and show\n",
    "dat_peak_score_summary_starrmpra_full = dat\n",
    "print(dim(dat))\n",
    "head(dat)"
   ]
  },
  {
   "cell_type": "markdown",
   "metadata": {},
   "source": [
    "**Score: Mean(RankNorm)**"
   ]
  },
  {
   "cell_type": "code",
   "execution_count": 3,
   "metadata": {},
   "outputs": [
    {
     "name": "stdout",
     "output_type": "stream",
     "text": [
      "[1] 1722    2\n"
     ]
    },
    {
     "data": {
      "text/html": [
       "<table class=\"dataframe\">\n",
       "<caption>A tibble: 6 × 2</caption>\n",
       "<thead>\n",
       "\t<tr><th scope=col>Peak</th><th scope=col>RankNorm</th></tr>\n",
       "\t<tr><th scope=col>&lt;chr&gt;</th><th scope=col>&lt;dbl&gt;</th></tr>\n",
       "</thead>\n",
       "<tbody>\n",
       "\t<tr><td>chr11:32870601-32871324</td><td>0.1445993</td></tr>\n",
       "\t<tr><td>chr11:32874343-32875070</td><td>0.2466125</td></tr>\n",
       "\t<tr><td>chr11:32884749-32885822</td><td>0.3211382</td></tr>\n",
       "\t<tr><td>chr11:32892099-32894437</td><td>0.7084785</td></tr>\n",
       "\t<tr><td>chr11:32901572-32902485</td><td>0.2684863</td></tr>\n",
       "\t<tr><td>chr11:32903491-32904506</td><td>0.2586140</td></tr>\n",
       "</tbody>\n",
       "</table>\n"
      ],
      "text/latex": [
       "A tibble: 6 × 2\n",
       "\\begin{tabular}{ll}\n",
       " Peak & RankNorm\\\\\n",
       " <chr> & <dbl>\\\\\n",
       "\\hline\n",
       "\t chr11:32870601-32871324 & 0.1445993\\\\\n",
       "\t chr11:32874343-32875070 & 0.2466125\\\\\n",
       "\t chr11:32884749-32885822 & 0.3211382\\\\\n",
       "\t chr11:32892099-32894437 & 0.7084785\\\\\n",
       "\t chr11:32901572-32902485 & 0.2684863\\\\\n",
       "\t chr11:32903491-32904506 & 0.2586140\\\\\n",
       "\\end{tabular}\n"
      ],
      "text/markdown": [
       "\n",
       "A tibble: 6 × 2\n",
       "\n",
       "| Peak &lt;chr&gt; | RankNorm &lt;dbl&gt; |\n",
       "|---|---|\n",
       "| chr11:32870601-32871324 | 0.1445993 |\n",
       "| chr11:32874343-32875070 | 0.2466125 |\n",
       "| chr11:32884749-32885822 | 0.3211382 |\n",
       "| chr11:32892099-32894437 | 0.7084785 |\n",
       "| chr11:32901572-32902485 | 0.2684863 |\n",
       "| chr11:32903491-32904506 | 0.2586140 |\n",
       "\n"
      ],
      "text/plain": [
       "  Peak                    RankNorm \n",
       "1 chr11:32870601-32871324 0.1445993\n",
       "2 chr11:32874343-32875070 0.2466125\n",
       "3 chr11:32884749-32885822 0.3211382\n",
       "4 chr11:32892099-32894437 0.7084785\n",
       "5 chr11:32901572-32902485 0.2684863\n",
       "6 chr11:32903491-32904506 0.2586140"
      ]
     },
     "metadata": {},
     "output_type": "display_data"
    }
   ],
   "source": [
    "### set file directories\n",
    "fdiry = file.path(FD_RES, \"results\", \"comparison\")\n",
    "fname = \"result.ranknorm.starrmpra.mean.tsv\"\n",
    "fpath = file.path(fdiry, fname)\n",
    "\n",
    "### read data\n",
    "dat = read_tsv(fpath, show_col_types = FALSE)\n",
    "\n",
    "### assign and show\n",
    "dat_peak_score_summary_starrmpra_mean = dat\n",
    "print(dim(dat))\n",
    "head(dat)"
   ]
  },
  {
   "cell_type": "markdown",
   "metadata": {},
   "source": [
    "**Score: CRISPRi-HCRFF**"
   ]
  },
  {
   "cell_type": "code",
   "execution_count": 4,
   "metadata": {},
   "outputs": [
    {
     "name": "stdout",
     "output_type": "stream",
     "text": [
      "[1] 1330    6\n"
     ]
    },
    {
     "data": {
      "text/html": [
       "<table class=\"dataframe\">\n",
       "<caption>A tibble: 6 × 6</caption>\n",
       "<thead>\n",
       "\t<tr><th scope=col>Peak</th><th scope=col>Mean_Merge_Tot</th><th scope=col>Mean_Merge_Pos</th><th scope=col>Mean_Merge_Neg</th><th scope=col>Count</th><th scope=col>Note</th></tr>\n",
       "\t<tr><th scope=col>&lt;chr&gt;</th><th scope=col>&lt;dbl&gt;</th><th scope=col>&lt;dbl&gt;</th><th scope=col>&lt;dbl&gt;</th><th scope=col>&lt;dbl&gt;</th><th scope=col>&lt;chr&gt;</th></tr>\n",
       "</thead>\n",
       "<tbody>\n",
       "\t<tr><td>chr11:33065336-33066228</td><td>-0.08308383</td><td>0.03675483</td><td>-0.2734393</td><td>138</td><td>CAPRIN1:138|CAT:138|LMO2:138</td></tr>\n",
       "\t<tr><td>chr11:33068519-33069100</td><td>-0.12006903</td><td>0.00000000</td><td>-0.1593220</td><td>159</td><td>CAPRIN1:159|CAT:159|LMO2:159</td></tr>\n",
       "\t<tr><td>chr11:33072412-33072630</td><td> 0.10643558</td><td>0.35299267</td><td>-0.1982723</td><td> 36</td><td>CAPRIN1:36|CAT:36|LMO2:36   </td></tr>\n",
       "\t<tr><td>chr11:33103533-33104120</td><td> 0.98158422</td><td>1.44209600</td><td> 0.0000000</td><td>  9</td><td>CAPRIN1:9|CAT:9|LMO2:9      </td></tr>\n",
       "\t<tr><td>chr11:33114629-33115134</td><td> 0.22095793</td><td>0.42649733</td><td> 0.0000000</td><td> 27</td><td>CAPRIN1:27|CAT:27|LMO2:27   </td></tr>\n",
       "\t<tr><td>chr11:33125296-33126416</td><td>-0.05128921</td><td>0.04323581</td><td>-0.1542515</td><td>159</td><td>CAPRIN1:159|CAT:159|LMO2:159</td></tr>\n",
       "</tbody>\n",
       "</table>\n"
      ],
      "text/latex": [
       "A tibble: 6 × 6\n",
       "\\begin{tabular}{llllll}\n",
       " Peak & Mean\\_Merge\\_Tot & Mean\\_Merge\\_Pos & Mean\\_Merge\\_Neg & Count & Note\\\\\n",
       " <chr> & <dbl> & <dbl> & <dbl> & <dbl> & <chr>\\\\\n",
       "\\hline\n",
       "\t chr11:33065336-33066228 & -0.08308383 & 0.03675483 & -0.2734393 & 138 & CAPRIN1:138\\textbar{}CAT:138\\textbar{}LMO2:138\\\\\n",
       "\t chr11:33068519-33069100 & -0.12006903 & 0.00000000 & -0.1593220 & 159 & CAPRIN1:159\\textbar{}CAT:159\\textbar{}LMO2:159\\\\\n",
       "\t chr11:33072412-33072630 &  0.10643558 & 0.35299267 & -0.1982723 &  36 & CAPRIN1:36\\textbar{}CAT:36\\textbar{}LMO2:36   \\\\\n",
       "\t chr11:33103533-33104120 &  0.98158422 & 1.44209600 &  0.0000000 &   9 & CAPRIN1:9\\textbar{}CAT:9\\textbar{}LMO2:9      \\\\\n",
       "\t chr11:33114629-33115134 &  0.22095793 & 0.42649733 &  0.0000000 &  27 & CAPRIN1:27\\textbar{}CAT:27\\textbar{}LMO2:27   \\\\\n",
       "\t chr11:33125296-33126416 & -0.05128921 & 0.04323581 & -0.1542515 & 159 & CAPRIN1:159\\textbar{}CAT:159\\textbar{}LMO2:159\\\\\n",
       "\\end{tabular}\n"
      ],
      "text/markdown": [
       "\n",
       "A tibble: 6 × 6\n",
       "\n",
       "| Peak &lt;chr&gt; | Mean_Merge_Tot &lt;dbl&gt; | Mean_Merge_Pos &lt;dbl&gt; | Mean_Merge_Neg &lt;dbl&gt; | Count &lt;dbl&gt; | Note &lt;chr&gt; |\n",
       "|---|---|---|---|---|---|\n",
       "| chr11:33065336-33066228 | -0.08308383 | 0.03675483 | -0.2734393 | 138 | CAPRIN1:138|CAT:138|LMO2:138 |\n",
       "| chr11:33068519-33069100 | -0.12006903 | 0.00000000 | -0.1593220 | 159 | CAPRIN1:159|CAT:159|LMO2:159 |\n",
       "| chr11:33072412-33072630 |  0.10643558 | 0.35299267 | -0.1982723 |  36 | CAPRIN1:36|CAT:36|LMO2:36    |\n",
       "| chr11:33103533-33104120 |  0.98158422 | 1.44209600 |  0.0000000 |   9 | CAPRIN1:9|CAT:9|LMO2:9       |\n",
       "| chr11:33114629-33115134 |  0.22095793 | 0.42649733 |  0.0000000 |  27 | CAPRIN1:27|CAT:27|LMO2:27    |\n",
       "| chr11:33125296-33126416 | -0.05128921 | 0.04323581 | -0.1542515 | 159 | CAPRIN1:159|CAT:159|LMO2:159 |\n",
       "\n"
      ],
      "text/plain": [
       "  Peak                    Mean_Merge_Tot Mean_Merge_Pos Mean_Merge_Neg Count\n",
       "1 chr11:33065336-33066228 -0.08308383    0.03675483     -0.2734393     138  \n",
       "2 chr11:33068519-33069100 -0.12006903    0.00000000     -0.1593220     159  \n",
       "3 chr11:33072412-33072630  0.10643558    0.35299267     -0.1982723      36  \n",
       "4 chr11:33103533-33104120  0.98158422    1.44209600      0.0000000       9  \n",
       "5 chr11:33114629-33115134  0.22095793    0.42649733      0.0000000      27  \n",
       "6 chr11:33125296-33126416 -0.05128921    0.04323581     -0.1542515     159  \n",
       "  Note                        \n",
       "1 CAPRIN1:138|CAT:138|LMO2:138\n",
       "2 CAPRIN1:159|CAT:159|LMO2:159\n",
       "3 CAPRIN1:36|CAT:36|LMO2:36   \n",
       "4 CAPRIN1:9|CAT:9|LMO2:9      \n",
       "5 CAPRIN1:27|CAT:27|LMO2:27   \n",
       "6 CAPRIN1:159|CAT:159|LMO2:159"
      ]
     },
     "metadata": {},
     "output_type": "display_data"
    }
   ],
   "source": [
    "ASSAY   = \"CRISPRi_FlowFISH\"\n",
    "FOLDER  = \"coverage_astarrseq_peak_macs_input\"\n",
    "\n",
    "fdiry = file.path(FD_RES, \"results\", ASSAY, FOLDER, \"summary\")\n",
    "fname = \"results.summary.Merge.tsv\"\n",
    "fpath = file.path(fdiry, fname)\n",
    "\n",
    "dat = read_tsv(fpath, show_col_types = FALSE)\n",
    "\n",
    "dat_peak_score_summary_crispri_hcrff = dat\n",
    "print(dim(dat))\n",
    "head(dat)"
   ]
  },
  {
   "cell_type": "markdown",
   "metadata": {},
   "source": [
    "**Score: CRISPRi-Growth**"
   ]
  },
  {
   "cell_type": "code",
   "execution_count": 5,
   "metadata": {},
   "outputs": [
    {
     "name": "stdout",
     "output_type": "stream",
     "text": [
      "[1] 80288     8\n"
     ]
    },
    {
     "data": {
      "text/html": [
       "<table class=\"dataframe\">\n",
       "<caption>A tibble: 6 × 8</caption>\n",
       "<thead>\n",
       "\t<tr><th scope=col>Peak</th><th scope=col>Mean</th><th scope=col>Median</th><th scope=col>Max</th><th scope=col>Min</th><th scope=col>Count</th><th scope=col>Mean_Neg</th><th scope=col>Mean_Pos</th></tr>\n",
       "\t<tr><th scope=col>&lt;chr&gt;</th><th scope=col>&lt;dbl&gt;</th><th scope=col>&lt;dbl&gt;</th><th scope=col>&lt;dbl&gt;</th><th scope=col>&lt;dbl&gt;</th><th scope=col>&lt;dbl&gt;</th><th scope=col>&lt;dbl&gt;</th><th scope=col>&lt;dbl&gt;</th></tr>\n",
       "</thead>\n",
       "<tbody>\n",
       "\t<tr><td>chr10:100009096-100010466</td><td>-0.03786170</td><td> 0.0303830</td><td>0.526902</td><td>-0.655965</td><td>10</td><td>-0.3840866</td><td>0.3083632</td></tr>\n",
       "\t<tr><td>chr10:100045961-100046653</td><td> 0.10873570</td><td> 0.1820295</td><td>0.646953</td><td>-0.497578</td><td>10</td><td>-0.2750008</td><td>0.3645600</td></tr>\n",
       "\t<tr><td>chr10:100065094-100065486</td><td>-0.00323730</td><td>-0.0931995</td><td>1.305380</td><td>-0.677550</td><td>10</td><td>-0.3639722</td><td>0.5378650</td></tr>\n",
       "\t<tr><td>chr10:100129051-100131059</td><td>-0.26576144</td><td>-0.2617330</td><td>0.253159</td><td>-0.767330</td><td> 9</td><td>-0.4522120</td><td>0.1071397</td></tr>\n",
       "\t<tr><td>chr10:100185017-100187275</td><td>-0.01202196</td><td>-0.0613300</td><td>0.730481</td><td>-0.954435</td><td>25</td><td>-0.2790666</td><td>0.3278531</td></tr>\n",
       "\t<tr><td>chr10:100228452-100230090</td><td>-0.01822050</td><td> 0.0722880</td><td>0.446912</td><td>-0.768059</td><td>10</td><td>-0.3293750</td><td>0.1892158</td></tr>\n",
       "</tbody>\n",
       "</table>\n"
      ],
      "text/latex": [
       "A tibble: 6 × 8\n",
       "\\begin{tabular}{llllllll}\n",
       " Peak & Mean & Median & Max & Min & Count & Mean\\_Neg & Mean\\_Pos\\\\\n",
       " <chr> & <dbl> & <dbl> & <dbl> & <dbl> & <dbl> & <dbl> & <dbl>\\\\\n",
       "\\hline\n",
       "\t chr10:100009096-100010466 & -0.03786170 &  0.0303830 & 0.526902 & -0.655965 & 10 & -0.3840866 & 0.3083632\\\\\n",
       "\t chr10:100045961-100046653 &  0.10873570 &  0.1820295 & 0.646953 & -0.497578 & 10 & -0.2750008 & 0.3645600\\\\\n",
       "\t chr10:100065094-100065486 & -0.00323730 & -0.0931995 & 1.305380 & -0.677550 & 10 & -0.3639722 & 0.5378650\\\\\n",
       "\t chr10:100129051-100131059 & -0.26576144 & -0.2617330 & 0.253159 & -0.767330 &  9 & -0.4522120 & 0.1071397\\\\\n",
       "\t chr10:100185017-100187275 & -0.01202196 & -0.0613300 & 0.730481 & -0.954435 & 25 & -0.2790666 & 0.3278531\\\\\n",
       "\t chr10:100228452-100230090 & -0.01822050 &  0.0722880 & 0.446912 & -0.768059 & 10 & -0.3293750 & 0.1892158\\\\\n",
       "\\end{tabular}\n"
      ],
      "text/markdown": [
       "\n",
       "A tibble: 6 × 8\n",
       "\n",
       "| Peak &lt;chr&gt; | Mean &lt;dbl&gt; | Median &lt;dbl&gt; | Max &lt;dbl&gt; | Min &lt;dbl&gt; | Count &lt;dbl&gt; | Mean_Neg &lt;dbl&gt; | Mean_Pos &lt;dbl&gt; |\n",
       "|---|---|---|---|---|---|---|---|\n",
       "| chr10:100009096-100010466 | -0.03786170 |  0.0303830 | 0.526902 | -0.655965 | 10 | -0.3840866 | 0.3083632 |\n",
       "| chr10:100045961-100046653 |  0.10873570 |  0.1820295 | 0.646953 | -0.497578 | 10 | -0.2750008 | 0.3645600 |\n",
       "| chr10:100065094-100065486 | -0.00323730 | -0.0931995 | 1.305380 | -0.677550 | 10 | -0.3639722 | 0.5378650 |\n",
       "| chr10:100129051-100131059 | -0.26576144 | -0.2617330 | 0.253159 | -0.767330 |  9 | -0.4522120 | 0.1071397 |\n",
       "| chr10:100185017-100187275 | -0.01202196 | -0.0613300 | 0.730481 | -0.954435 | 25 | -0.2790666 | 0.3278531 |\n",
       "| chr10:100228452-100230090 | -0.01822050 |  0.0722880 | 0.446912 | -0.768059 | 10 | -0.3293750 | 0.1892158 |\n",
       "\n"
      ],
      "text/plain": [
       "  Peak                      Mean        Median     Max      Min       Count\n",
       "1 chr10:100009096-100010466 -0.03786170  0.0303830 0.526902 -0.655965 10   \n",
       "2 chr10:100045961-100046653  0.10873570  0.1820295 0.646953 -0.497578 10   \n",
       "3 chr10:100065094-100065486 -0.00323730 -0.0931995 1.305380 -0.677550 10   \n",
       "4 chr10:100129051-100131059 -0.26576144 -0.2617330 0.253159 -0.767330  9   \n",
       "5 chr10:100185017-100187275 -0.01202196 -0.0613300 0.730481 -0.954435 25   \n",
       "6 chr10:100228452-100230090 -0.01822050  0.0722880 0.446912 -0.768059 10   \n",
       "  Mean_Neg   Mean_Pos \n",
       "1 -0.3840866 0.3083632\n",
       "2 -0.2750008 0.3645600\n",
       "3 -0.3639722 0.5378650\n",
       "4 -0.4522120 0.1071397\n",
       "5 -0.2790666 0.3278531\n",
       "6 -0.3293750 0.1892158"
      ]
     },
     "metadata": {},
     "output_type": "display_data"
    }
   ],
   "source": [
    "ASSAY   = \"CRISPRi_Growth_K562_Gersbach\"\n",
    "FOLDER  = \"coverage_astarrseq_peak_macs_input\"\n",
    "\n",
    "fdiry = file.path(FD_RES, \"results\", ASSAY, FOLDER, \"summary\")\n",
    "fname = \"results.summary.tsv\"\n",
    "fpath = file.path(fdiry, fname)\n",
    "\n",
    "dat = read_tsv(fpath, show_col_types = FALSE)\n",
    "\n",
    "dat_peak_score_summary_crispri_growth = dat\n",
    "print(dim(dat))\n",
    "head(dat)"
   ]
  },
  {
   "cell_type": "markdown",
   "metadata": {},
   "source": [
    "**Score: LentiMPRA**"
   ]
  },
  {
   "cell_type": "code",
   "execution_count": 6,
   "metadata": {},
   "outputs": [
    {
     "name": "stdout",
     "output_type": "stream",
     "text": [
      "[1] 68420     8\n"
     ]
    },
    {
     "data": {
      "text/html": [
       "<table class=\"dataframe\">\n",
       "<caption>A tibble: 6 × 8</caption>\n",
       "<thead>\n",
       "\t<tr><th scope=col>Peak</th><th scope=col>Mean</th><th scope=col>Median</th><th scope=col>Max</th><th scope=col>Min</th><th scope=col>Count</th><th scope=col>Mean_Neg</th><th scope=col>Mean_Pos</th></tr>\n",
       "\t<tr><th scope=col>&lt;chr&gt;</th><th scope=col>&lt;dbl&gt;</th><th scope=col>&lt;dbl&gt;</th><th scope=col>&lt;dbl&gt;</th><th scope=col>&lt;dbl&gt;</th><th scope=col>&lt;dbl&gt;</th><th scope=col>&lt;dbl&gt;</th><th scope=col>&lt;dbl&gt;</th></tr>\n",
       "</thead>\n",
       "<tbody>\n",
       "\t<tr><td>chr10:100045961-100046653</td><td>1.35946554</td><td>1.35946554</td><td>1.4810917</td><td> 1.23783940</td><td>2</td><td> 0.0000000</td><td>1.3594655</td></tr>\n",
       "\t<tr><td>chr10:100065094-100065486</td><td>1.07264569</td><td>1.07264569</td><td>1.3503890</td><td> 0.79490241</td><td>2</td><td> 0.0000000</td><td>1.0726457</td></tr>\n",
       "\t<tr><td>chr10:100081317-100081607</td><td>0.08511404</td><td>0.08511404</td><td>0.7150285</td><td>-0.54480044</td><td>2</td><td>-0.5448004</td><td>0.7150285</td></tr>\n",
       "\t<tr><td>chr10:100129051-100131059</td><td>0.21944739</td><td>0.21944739</td><td>0.2611997</td><td> 0.17769514</td><td>2</td><td> 0.0000000</td><td>0.2194474</td></tr>\n",
       "\t<tr><td>chr10:100185017-100187275</td><td>0.59521771</td><td>0.59521771</td><td>1.1724880</td><td> 0.01794737</td><td>2</td><td> 0.0000000</td><td>0.5952177</td></tr>\n",
       "\t<tr><td>chr10:100228452-100230090</td><td>5.54013719</td><td>5.54013719</td><td>6.0266418</td><td> 5.05363263</td><td>2</td><td> 0.0000000</td><td>5.5401372</td></tr>\n",
       "</tbody>\n",
       "</table>\n"
      ],
      "text/latex": [
       "A tibble: 6 × 8\n",
       "\\begin{tabular}{llllllll}\n",
       " Peak & Mean & Median & Max & Min & Count & Mean\\_Neg & Mean\\_Pos\\\\\n",
       " <chr> & <dbl> & <dbl> & <dbl> & <dbl> & <dbl> & <dbl> & <dbl>\\\\\n",
       "\\hline\n",
       "\t chr10:100045961-100046653 & 1.35946554 & 1.35946554 & 1.4810917 &  1.23783940 & 2 &  0.0000000 & 1.3594655\\\\\n",
       "\t chr10:100065094-100065486 & 1.07264569 & 1.07264569 & 1.3503890 &  0.79490241 & 2 &  0.0000000 & 1.0726457\\\\\n",
       "\t chr10:100081317-100081607 & 0.08511404 & 0.08511404 & 0.7150285 & -0.54480044 & 2 & -0.5448004 & 0.7150285\\\\\n",
       "\t chr10:100129051-100131059 & 0.21944739 & 0.21944739 & 0.2611997 &  0.17769514 & 2 &  0.0000000 & 0.2194474\\\\\n",
       "\t chr10:100185017-100187275 & 0.59521771 & 0.59521771 & 1.1724880 &  0.01794737 & 2 &  0.0000000 & 0.5952177\\\\\n",
       "\t chr10:100228452-100230090 & 5.54013719 & 5.54013719 & 6.0266418 &  5.05363263 & 2 &  0.0000000 & 5.5401372\\\\\n",
       "\\end{tabular}\n"
      ],
      "text/markdown": [
       "\n",
       "A tibble: 6 × 8\n",
       "\n",
       "| Peak &lt;chr&gt; | Mean &lt;dbl&gt; | Median &lt;dbl&gt; | Max &lt;dbl&gt; | Min &lt;dbl&gt; | Count &lt;dbl&gt; | Mean_Neg &lt;dbl&gt; | Mean_Pos &lt;dbl&gt; |\n",
       "|---|---|---|---|---|---|---|---|\n",
       "| chr10:100045961-100046653 | 1.35946554 | 1.35946554 | 1.4810917 |  1.23783940 | 2 |  0.0000000 | 1.3594655 |\n",
       "| chr10:100065094-100065486 | 1.07264569 | 1.07264569 | 1.3503890 |  0.79490241 | 2 |  0.0000000 | 1.0726457 |\n",
       "| chr10:100081317-100081607 | 0.08511404 | 0.08511404 | 0.7150285 | -0.54480044 | 2 | -0.5448004 | 0.7150285 |\n",
       "| chr10:100129051-100131059 | 0.21944739 | 0.21944739 | 0.2611997 |  0.17769514 | 2 |  0.0000000 | 0.2194474 |\n",
       "| chr10:100185017-100187275 | 0.59521771 | 0.59521771 | 1.1724880 |  0.01794737 | 2 |  0.0000000 | 0.5952177 |\n",
       "| chr10:100228452-100230090 | 5.54013719 | 5.54013719 | 6.0266418 |  5.05363263 | 2 |  0.0000000 | 5.5401372 |\n",
       "\n"
      ],
      "text/plain": [
       "  Peak                      Mean       Median     Max       Min         Count\n",
       "1 chr10:100045961-100046653 1.35946554 1.35946554 1.4810917  1.23783940 2    \n",
       "2 chr10:100065094-100065486 1.07264569 1.07264569 1.3503890  0.79490241 2    \n",
       "3 chr10:100081317-100081607 0.08511404 0.08511404 0.7150285 -0.54480044 2    \n",
       "4 chr10:100129051-100131059 0.21944739 0.21944739 0.2611997  0.17769514 2    \n",
       "5 chr10:100185017-100187275 0.59521771 0.59521771 1.1724880  0.01794737 2    \n",
       "6 chr10:100228452-100230090 5.54013719 5.54013719 6.0266418  5.05363263 2    \n",
       "  Mean_Neg   Mean_Pos \n",
       "1  0.0000000 1.3594655\n",
       "2  0.0000000 1.0726457\n",
       "3 -0.5448004 0.7150285\n",
       "4  0.0000000 0.2194474\n",
       "5  0.0000000 0.5952177\n",
       "6  0.0000000 5.5401372"
      ]
     },
     "metadata": {},
     "output_type": "display_data"
    }
   ],
   "source": [
    "ASSAY   = \"LentiMPRA_K562_Nadav\"\n",
    "FOLDER  = \"coverage_astarrseq_peak_macs_input\"\n",
    "\n",
    "fdiry = file.path(FD_RES, \"results\", ASSAY, FOLDER, \"summary\")\n",
    "fname = \"results.summary.vikram230621.tsv\"\n",
    "fpath = file.path(fdiry, fname)\n",
    "\n",
    "dat = read_tsv(fpath, show_col_types = FALSE)\n",
    "\n",
    "dat_peak_score_summary_lmpra = dat\n",
    "print(dim(dat))\n",
    "head(dat)"
   ]
  },
  {
   "cell_type": "markdown",
   "metadata": {},
   "source": [
    "**Score: ATAC**"
   ]
  },
  {
   "cell_type": "code",
   "execution_count": 7,
   "metadata": {},
   "outputs": [
    {
     "name": "stdout",
     "output_type": "stream",
     "text": [
      "[1] 246852     15\n"
     ]
    },
    {
     "data": {
      "text/html": [
       "<table class=\"dataframe\">\n",
       "<caption>A tibble: 6 × 15</caption>\n",
       "<thead>\n",
       "\t<tr><th scope=col>Chrom</th><th scope=col>Start</th><th scope=col>End</th><th scope=col>Peak</th><th scope=col>Length</th><th scope=col>Input</th><th scope=col>Output</th><th scope=col>Log2FC</th><th scope=col>pLog2FC</th><th scope=col>Input_Residual</th><th scope=col>Input_Score</th><th scope=col>Output_Residual</th><th scope=col>Output_Score</th><th scope=col>Input_FPKM</th><th scope=col>Output_FPKM</th></tr>\n",
       "\t<tr><th scope=col>&lt;chr&gt;</th><th scope=col>&lt;dbl&gt;</th><th scope=col>&lt;dbl&gt;</th><th scope=col>&lt;chr&gt;</th><th scope=col>&lt;dbl&gt;</th><th scope=col>&lt;dbl&gt;</th><th scope=col>&lt;dbl&gt;</th><th scope=col>&lt;dbl&gt;</th><th scope=col>&lt;dbl&gt;</th><th scope=col>&lt;dbl&gt;</th><th scope=col>&lt;dbl&gt;</th><th scope=col>&lt;dbl&gt;</th><th scope=col>&lt;dbl&gt;</th><th scope=col>&lt;dbl&gt;</th><th scope=col>&lt;dbl&gt;</th></tr>\n",
       "</thead>\n",
       "<tbody>\n",
       "\t<tr><td>chr1</td><td>10015</td><td>10442</td><td>chr1:10015-10442</td><td>427</td><td>0.4863317</td><td>0.09736537</td><td>-2.3204599</td><td>-0.43771215</td><td> 0.25149985</td><td>0.1362392</td><td>-0.1433799</td><td>0.07463616</td><td>1.1389501</td><td>0.2280219</td></tr>\n",
       "\t<tr><td>chr1</td><td>14253</td><td>14645</td><td>chr1:14253-14645</td><td>392</td><td>0.3152472</td><td>0.27902967</td><td>-0.1760648</td><td>-0.04028420</td><td> 0.19879784</td><td>0.1357280</td><td> 0.1693269</td><td>0.07589325</td><td>0.8042019</td><td>0.7118104</td></tr>\n",
       "\t<tr><td>chr1</td><td>16015</td><td>16477</td><td>chr1:16015-16477</td><td>462</td><td>0.4361424</td><td>0.15900628</td><td>-1.4557156</td><td>-0.30931046</td><td> 0.08292808</td><td>0.1346040</td><td>-0.2127815</td><td>0.07435717</td><td>0.9440313</td><td>0.3441694</td></tr>\n",
       "\t<tr><td>chr1</td><td>17237</td><td>17772</td><td>chr1:17237-17772</td><td>535</td><td>0.8007562</td><td>0.22194085</td><td>-1.8511878</td><td>-0.55942840</td><td> 0.20062968</td><td>0.1357457</td><td>-0.4231641</td><td>0.07351143</td><td>1.4967405</td><td>0.4148427</td></tr>\n",
       "\t<tr><td>chr1</td><td>28903</td><td>29613</td><td>chr1:28903-29613</td><td>710</td><td>0.7629703</td><td>0.16679463</td><td>-2.1935541</td><td>-0.59545755</td><td>-0.42906879</td><td>0.1296375</td><td>-1.1335228</td><td>0.07065579</td><td>1.0746061</td><td>0.2349220</td></tr>\n",
       "\t<tr><td>chr1</td><td>30803</td><td>31072</td><td>chr1:30803-31072</td><td>269</td><td>0.2774187</td><td>0.21678565</td><td>-0.3557958</td><td>-0.07015643</td><td> 0.57699942</td><td>0.1393966</td><td> 0.5676036</td><td>0.07749432</td><td>1.0312963</td><td>0.8058946</td></tr>\n",
       "</tbody>\n",
       "</table>\n"
      ],
      "text/latex": [
       "A tibble: 6 × 15\n",
       "\\begin{tabular}{lllllllllllllll}\n",
       " Chrom & Start & End & Peak & Length & Input & Output & Log2FC & pLog2FC & Input\\_Residual & Input\\_Score & Output\\_Residual & Output\\_Score & Input\\_FPKM & Output\\_FPKM\\\\\n",
       " <chr> & <dbl> & <dbl> & <chr> & <dbl> & <dbl> & <dbl> & <dbl> & <dbl> & <dbl> & <dbl> & <dbl> & <dbl> & <dbl> & <dbl>\\\\\n",
       "\\hline\n",
       "\t chr1 & 10015 & 10442 & chr1:10015-10442 & 427 & 0.4863317 & 0.09736537 & -2.3204599 & -0.43771215 &  0.25149985 & 0.1362392 & -0.1433799 & 0.07463616 & 1.1389501 & 0.2280219\\\\\n",
       "\t chr1 & 14253 & 14645 & chr1:14253-14645 & 392 & 0.3152472 & 0.27902967 & -0.1760648 & -0.04028420 &  0.19879784 & 0.1357280 &  0.1693269 & 0.07589325 & 0.8042019 & 0.7118104\\\\\n",
       "\t chr1 & 16015 & 16477 & chr1:16015-16477 & 462 & 0.4361424 & 0.15900628 & -1.4557156 & -0.30931046 &  0.08292808 & 0.1346040 & -0.2127815 & 0.07435717 & 0.9440313 & 0.3441694\\\\\n",
       "\t chr1 & 17237 & 17772 & chr1:17237-17772 & 535 & 0.8007562 & 0.22194085 & -1.8511878 & -0.55942840 &  0.20062968 & 0.1357457 & -0.4231641 & 0.07351143 & 1.4967405 & 0.4148427\\\\\n",
       "\t chr1 & 28903 & 29613 & chr1:28903-29613 & 710 & 0.7629703 & 0.16679463 & -2.1935541 & -0.59545755 & -0.42906879 & 0.1296375 & -1.1335228 & 0.07065579 & 1.0746061 & 0.2349220\\\\\n",
       "\t chr1 & 30803 & 31072 & chr1:30803-31072 & 269 & 0.2774187 & 0.21678565 & -0.3557958 & -0.07015643 &  0.57699942 & 0.1393966 &  0.5676036 & 0.07749432 & 1.0312963 & 0.8058946\\\\\n",
       "\\end{tabular}\n"
      ],
      "text/markdown": [
       "\n",
       "A tibble: 6 × 15\n",
       "\n",
       "| Chrom &lt;chr&gt; | Start &lt;dbl&gt; | End &lt;dbl&gt; | Peak &lt;chr&gt; | Length &lt;dbl&gt; | Input &lt;dbl&gt; | Output &lt;dbl&gt; | Log2FC &lt;dbl&gt; | pLog2FC &lt;dbl&gt; | Input_Residual &lt;dbl&gt; | Input_Score &lt;dbl&gt; | Output_Residual &lt;dbl&gt; | Output_Score &lt;dbl&gt; | Input_FPKM &lt;dbl&gt; | Output_FPKM &lt;dbl&gt; |\n",
       "|---|---|---|---|---|---|---|---|---|---|---|---|---|---|---|\n",
       "| chr1 | 10015 | 10442 | chr1:10015-10442 | 427 | 0.4863317 | 0.09736537 | -2.3204599 | -0.43771215 |  0.25149985 | 0.1362392 | -0.1433799 | 0.07463616 | 1.1389501 | 0.2280219 |\n",
       "| chr1 | 14253 | 14645 | chr1:14253-14645 | 392 | 0.3152472 | 0.27902967 | -0.1760648 | -0.04028420 |  0.19879784 | 0.1357280 |  0.1693269 | 0.07589325 | 0.8042019 | 0.7118104 |\n",
       "| chr1 | 16015 | 16477 | chr1:16015-16477 | 462 | 0.4361424 | 0.15900628 | -1.4557156 | -0.30931046 |  0.08292808 | 0.1346040 | -0.2127815 | 0.07435717 | 0.9440313 | 0.3441694 |\n",
       "| chr1 | 17237 | 17772 | chr1:17237-17772 | 535 | 0.8007562 | 0.22194085 | -1.8511878 | -0.55942840 |  0.20062968 | 0.1357457 | -0.4231641 | 0.07351143 | 1.4967405 | 0.4148427 |\n",
       "| chr1 | 28903 | 29613 | chr1:28903-29613 | 710 | 0.7629703 | 0.16679463 | -2.1935541 | -0.59545755 | -0.42906879 | 0.1296375 | -1.1335228 | 0.07065579 | 1.0746061 | 0.2349220 |\n",
       "| chr1 | 30803 | 31072 | chr1:30803-31072 | 269 | 0.2774187 | 0.21678565 | -0.3557958 | -0.07015643 |  0.57699942 | 0.1393966 |  0.5676036 | 0.07749432 | 1.0312963 | 0.8058946 |\n",
       "\n"
      ],
      "text/plain": [
       "  Chrom Start End   Peak             Length Input     Output     Log2FC    \n",
       "1 chr1  10015 10442 chr1:10015-10442 427    0.4863317 0.09736537 -2.3204599\n",
       "2 chr1  14253 14645 chr1:14253-14645 392    0.3152472 0.27902967 -0.1760648\n",
       "3 chr1  16015 16477 chr1:16015-16477 462    0.4361424 0.15900628 -1.4557156\n",
       "4 chr1  17237 17772 chr1:17237-17772 535    0.8007562 0.22194085 -1.8511878\n",
       "5 chr1  28903 29613 chr1:28903-29613 710    0.7629703 0.16679463 -2.1935541\n",
       "6 chr1  30803 31072 chr1:30803-31072 269    0.2774187 0.21678565 -0.3557958\n",
       "  pLog2FC     Input_Residual Input_Score Output_Residual Output_Score\n",
       "1 -0.43771215  0.25149985    0.1362392   -0.1433799      0.07463616  \n",
       "2 -0.04028420  0.19879784    0.1357280    0.1693269      0.07589325  \n",
       "3 -0.30931046  0.08292808    0.1346040   -0.2127815      0.07435717  \n",
       "4 -0.55942840  0.20062968    0.1357457   -0.4231641      0.07351143  \n",
       "5 -0.59545755 -0.42906879    0.1296375   -1.1335228      0.07065579  \n",
       "6 -0.07015643  0.57699942    0.1393966    0.5676036      0.07749432  \n",
       "  Input_FPKM Output_FPKM\n",
       "1 1.1389501  0.2280219  \n",
       "2 0.8042019  0.7118104  \n",
       "3 0.9440313  0.3441694  \n",
       "4 1.4967405  0.4148427  \n",
       "5 1.0746061  0.2349220  \n",
       "6 1.0312963  0.8058946  "
      ]
     },
     "metadata": {},
     "output_type": "display_data"
    }
   ],
   "source": [
    "fdiry = file.path(\n",
    "    FD_RES, \n",
    "    \"results\", \n",
    "    \"KS91_K562_ASTARRseq\", \n",
    "    \"coverage_astarrseq_peak_macs_input\",\n",
    "    \"summary\"\n",
    ")\n",
    "fname = \"result.score.raw.cpm.WGS.tsv\"\n",
    "fpath = file.path(fdiry, fname)\n",
    "\n",
    "### read data\n",
    "dat = read_tsv(fpath, show_col_types = FALSE)\n",
    "\n",
    "### assign and show\n",
    "dat_peak_score_summary_astarr = dat\n",
    "print(dim(dat))\n",
    "head(dat)"
   ]
  },
  {
   "cell_type": "markdown",
   "metadata": {},
   "source": [
    "## Summarize"
   ]
  },
  {
   "cell_type": "markdown",
   "metadata": {},
   "source": [
    "**Score vector for STARR/TMPRA**"
   ]
  },
  {
   "cell_type": "code",
   "execution_count": 12,
   "metadata": {},
   "outputs": [
    {
     "name": "stdout",
     "output_type": "stream",
     "text": [
      "[1] 5166    3\n"
     ]
    },
    {
     "data": {
      "text/html": [
       "<table class=\"dataframe\">\n",
       "<caption>A tibble: 6 × 3</caption>\n",
       "<thead>\n",
       "\t<tr><th scope=col>Assay</th><th scope=col>Peak</th><th scope=col>Score</th></tr>\n",
       "\t<tr><th scope=col>&lt;chr&gt;</th><th scope=col>&lt;chr&gt;</th><th scope=col>&lt;dbl&gt;</th></tr>\n",
       "</thead>\n",
       "<tbody>\n",
       "\t<tr><td>ASTARR</td><td>chr11:4539569-4540043</td><td>0.6550523</td></tr>\n",
       "\t<tr><td>ASTARR</td><td>chr11:4551336-4552012</td><td>0.7560976</td></tr>\n",
       "\t<tr><td>ASTARR</td><td>chr11:4553969-4555012</td><td>0.6556330</td></tr>\n",
       "\t<tr><td>ASTARR</td><td>chr11:4569016-4569992</td><td>0.5673635</td></tr>\n",
       "\t<tr><td>ASTARR</td><td>chr11:4577444-4578031</td><td>0.7154472</td></tr>\n",
       "\t<tr><td>ASTARR</td><td>chr11:4601808-4602487</td><td>0.1277584</td></tr>\n",
       "</tbody>\n",
       "</table>\n"
      ],
      "text/latex": [
       "A tibble: 6 × 3\n",
       "\\begin{tabular}{lll}\n",
       " Assay & Peak & Score\\\\\n",
       " <chr> & <chr> & <dbl>\\\\\n",
       "\\hline\n",
       "\t ASTARR & chr11:4539569-4540043 & 0.6550523\\\\\n",
       "\t ASTARR & chr11:4551336-4552012 & 0.7560976\\\\\n",
       "\t ASTARR & chr11:4553969-4555012 & 0.6556330\\\\\n",
       "\t ASTARR & chr11:4569016-4569992 & 0.5673635\\\\\n",
       "\t ASTARR & chr11:4577444-4578031 & 0.7154472\\\\\n",
       "\t ASTARR & chr11:4601808-4602487 & 0.1277584\\\\\n",
       "\\end{tabular}\n"
      ],
      "text/markdown": [
       "\n",
       "A tibble: 6 × 3\n",
       "\n",
       "| Assay &lt;chr&gt; | Peak &lt;chr&gt; | Score &lt;dbl&gt; |\n",
       "|---|---|---|\n",
       "| ASTARR | chr11:4539569-4540043 | 0.6550523 |\n",
       "| ASTARR | chr11:4551336-4552012 | 0.7560976 |\n",
       "| ASTARR | chr11:4553969-4555012 | 0.6556330 |\n",
       "| ASTARR | chr11:4569016-4569992 | 0.5673635 |\n",
       "| ASTARR | chr11:4577444-4578031 | 0.7154472 |\n",
       "| ASTARR | chr11:4601808-4602487 | 0.1277584 |\n",
       "\n"
      ],
      "text/plain": [
       "  Assay  Peak                  Score    \n",
       "1 ASTARR chr11:4539569-4540043 0.6550523\n",
       "2 ASTARR chr11:4551336-4552012 0.7560976\n",
       "3 ASTARR chr11:4553969-4555012 0.6556330\n",
       "4 ASTARR chr11:4569016-4569992 0.5673635\n",
       "5 ASTARR chr11:4577444-4578031 0.7154472\n",
       "6 ASTARR chr11:4601808-4602487 0.1277584"
      ]
     },
     "metadata": {},
     "output_type": "display_data"
    }
   ],
   "source": [
    "dat = dat_peak_score_summary_starrmpra_full\n",
    "dat = dat %>%\n",
    "    dplyr::mutate(Score = RankNorm_Total) %>%\n",
    "    dplyr::select(Assay, Peak, Score)\n",
    "\n",
    "dat_peak_score_starrmpra = dat\n",
    "print(dim(dat))\n",
    "head(dat)"
   ]
  },
  {
   "cell_type": "code",
   "execution_count": 14,
   "metadata": {},
   "outputs": [
    {
     "name": "stdout",
     "output_type": "stream",
     "text": [
      "[1] 1722    3\n"
     ]
    },
    {
     "data": {
      "text/html": [
       "<table class=\"dataframe\">\n",
       "<caption>A tibble: 6 × 3</caption>\n",
       "<thead>\n",
       "\t<tr><th scope=col>Assay</th><th scope=col>Peak</th><th scope=col>Score</th></tr>\n",
       "\t<tr><th scope=col>&lt;chr&gt;</th><th scope=col>&lt;chr&gt;</th><th scope=col>&lt;dbl&gt;</th></tr>\n",
       "</thead>\n",
       "<tbody>\n",
       "\t<tr><td>Overall</td><td>chr11:32870601-32871324</td><td>0.1445993</td></tr>\n",
       "\t<tr><td>Overall</td><td>chr11:32874343-32875070</td><td>0.2466125</td></tr>\n",
       "\t<tr><td>Overall</td><td>chr11:32884749-32885822</td><td>0.3211382</td></tr>\n",
       "\t<tr><td>Overall</td><td>chr11:32892099-32894437</td><td>0.7084785</td></tr>\n",
       "\t<tr><td>Overall</td><td>chr11:32901572-32902485</td><td>0.2684863</td></tr>\n",
       "\t<tr><td>Overall</td><td>chr11:32903491-32904506</td><td>0.2586140</td></tr>\n",
       "</tbody>\n",
       "</table>\n"
      ],
      "text/latex": [
       "A tibble: 6 × 3\n",
       "\\begin{tabular}{lll}\n",
       " Assay & Peak & Score\\\\\n",
       " <chr> & <chr> & <dbl>\\\\\n",
       "\\hline\n",
       "\t Overall & chr11:32870601-32871324 & 0.1445993\\\\\n",
       "\t Overall & chr11:32874343-32875070 & 0.2466125\\\\\n",
       "\t Overall & chr11:32884749-32885822 & 0.3211382\\\\\n",
       "\t Overall & chr11:32892099-32894437 & 0.7084785\\\\\n",
       "\t Overall & chr11:32901572-32902485 & 0.2684863\\\\\n",
       "\t Overall & chr11:32903491-32904506 & 0.2586140\\\\\n",
       "\\end{tabular}\n"
      ],
      "text/markdown": [
       "\n",
       "A tibble: 6 × 3\n",
       "\n",
       "| Assay &lt;chr&gt; | Peak &lt;chr&gt; | Score &lt;dbl&gt; |\n",
       "|---|---|---|\n",
       "| Overall | chr11:32870601-32871324 | 0.1445993 |\n",
       "| Overall | chr11:32874343-32875070 | 0.2466125 |\n",
       "| Overall | chr11:32884749-32885822 | 0.3211382 |\n",
       "| Overall | chr11:32892099-32894437 | 0.7084785 |\n",
       "| Overall | chr11:32901572-32902485 | 0.2684863 |\n",
       "| Overall | chr11:32903491-32904506 | 0.2586140 |\n",
       "\n"
      ],
      "text/plain": [
       "  Assay   Peak                    Score    \n",
       "1 Overall chr11:32870601-32871324 0.1445993\n",
       "2 Overall chr11:32874343-32875070 0.2466125\n",
       "3 Overall chr11:32884749-32885822 0.3211382\n",
       "4 Overall chr11:32892099-32894437 0.7084785\n",
       "5 Overall chr11:32901572-32902485 0.2684863\n",
       "6 Overall chr11:32903491-32904506 0.2586140"
      ]
     },
     "metadata": {},
     "output_type": "display_data"
    }
   ],
   "source": [
    "dat = dat_peak_score_summary_starrmpra_mean\n",
    "dat = dat %>%\n",
    "    dplyr::mutate(\n",
    "        Assay = \"Overall\",\n",
    "        Score = RankNorm) %>%\n",
    "    dplyr::select(Assay, Peak, Score)\n",
    "\n",
    "dat_peak_score_starrmpra_overall = dat\n",
    "print(dim(dat))\n",
    "head(dat)"
   ]
  },
  {
   "cell_type": "markdown",
   "metadata": {},
   "source": [
    "**Score vector for LMPRA**"
   ]
  },
  {
   "cell_type": "code",
   "execution_count": 17,
   "metadata": {},
   "outputs": [
    {
     "data": {
      "text/html": [
       "<table class=\"dataframe\">\n",
       "<caption>A tibble: 3 × 8</caption>\n",
       "<thead>\n",
       "\t<tr><th scope=col>Peak</th><th scope=col>Mean</th><th scope=col>Median</th><th scope=col>Max</th><th scope=col>Min</th><th scope=col>Count</th><th scope=col>Mean_Neg</th><th scope=col>Mean_Pos</th></tr>\n",
       "\t<tr><th scope=col>&lt;chr&gt;</th><th scope=col>&lt;dbl&gt;</th><th scope=col>&lt;dbl&gt;</th><th scope=col>&lt;dbl&gt;</th><th scope=col>&lt;dbl&gt;</th><th scope=col>&lt;dbl&gt;</th><th scope=col>&lt;dbl&gt;</th><th scope=col>&lt;dbl&gt;</th></tr>\n",
       "</thead>\n",
       "<tbody>\n",
       "\t<tr><td>chr10:100045961-100046653</td><td>1.35946554</td><td>1.35946554</td><td>1.4810917</td><td> 1.2378394</td><td>2</td><td> 0.0000000</td><td>1.3594655</td></tr>\n",
       "\t<tr><td>chr10:100065094-100065486</td><td>1.07264569</td><td>1.07264569</td><td>1.3503890</td><td> 0.7949024</td><td>2</td><td> 0.0000000</td><td>1.0726457</td></tr>\n",
       "\t<tr><td>chr10:100081317-100081607</td><td>0.08511404</td><td>0.08511404</td><td>0.7150285</td><td>-0.5448004</td><td>2</td><td>-0.5448004</td><td>0.7150285</td></tr>\n",
       "</tbody>\n",
       "</table>\n"
      ],
      "text/latex": [
       "A tibble: 3 × 8\n",
       "\\begin{tabular}{llllllll}\n",
       " Peak & Mean & Median & Max & Min & Count & Mean\\_Neg & Mean\\_Pos\\\\\n",
       " <chr> & <dbl> & <dbl> & <dbl> & <dbl> & <dbl> & <dbl> & <dbl>\\\\\n",
       "\\hline\n",
       "\t chr10:100045961-100046653 & 1.35946554 & 1.35946554 & 1.4810917 &  1.2378394 & 2 &  0.0000000 & 1.3594655\\\\\n",
       "\t chr10:100065094-100065486 & 1.07264569 & 1.07264569 & 1.3503890 &  0.7949024 & 2 &  0.0000000 & 1.0726457\\\\\n",
       "\t chr10:100081317-100081607 & 0.08511404 & 0.08511404 & 0.7150285 & -0.5448004 & 2 & -0.5448004 & 0.7150285\\\\\n",
       "\\end{tabular}\n"
      ],
      "text/markdown": [
       "\n",
       "A tibble: 3 × 8\n",
       "\n",
       "| Peak &lt;chr&gt; | Mean &lt;dbl&gt; | Median &lt;dbl&gt; | Max &lt;dbl&gt; | Min &lt;dbl&gt; | Count &lt;dbl&gt; | Mean_Neg &lt;dbl&gt; | Mean_Pos &lt;dbl&gt; |\n",
       "|---|---|---|---|---|---|---|---|\n",
       "| chr10:100045961-100046653 | 1.35946554 | 1.35946554 | 1.4810917 |  1.2378394 | 2 |  0.0000000 | 1.3594655 |\n",
       "| chr10:100065094-100065486 | 1.07264569 | 1.07264569 | 1.3503890 |  0.7949024 | 2 |  0.0000000 | 1.0726457 |\n",
       "| chr10:100081317-100081607 | 0.08511404 | 0.08511404 | 0.7150285 | -0.5448004 | 2 | -0.5448004 | 0.7150285 |\n",
       "\n"
      ],
      "text/plain": [
       "  Peak                      Mean       Median     Max       Min        Count\n",
       "1 chr10:100045961-100046653 1.35946554 1.35946554 1.4810917  1.2378394 2    \n",
       "2 chr10:100065094-100065486 1.07264569 1.07264569 1.3503890  0.7949024 2    \n",
       "3 chr10:100081317-100081607 0.08511404 0.08511404 0.7150285 -0.5448004 2    \n",
       "  Mean_Neg   Mean_Pos \n",
       "1  0.0000000 1.3594655\n",
       "2  0.0000000 1.0726457\n",
       "3 -0.5448004 0.7150285"
      ]
     },
     "metadata": {},
     "output_type": "display_data"
    }
   ],
   "source": [
    "dat = dat_peak_score_summary_lmpra\n",
    "head(dat, 3)"
   ]
  },
  {
   "cell_type": "code",
   "execution_count": 18,
   "metadata": {},
   "outputs": [
    {
     "name": "stdout",
     "output_type": "stream",
     "text": [
      "[1] 68420     3\n"
     ]
    },
    {
     "data": {
      "text/html": [
       "<table class=\"dataframe\">\n",
       "<caption>A tibble: 6 × 3</caption>\n",
       "<thead>\n",
       "\t<tr><th scope=col>Assay</th><th scope=col>Peak</th><th scope=col>Score</th></tr>\n",
       "\t<tr><th scope=col>&lt;chr&gt;</th><th scope=col>&lt;chr&gt;</th><th scope=col>&lt;dbl&gt;</th></tr>\n",
       "</thead>\n",
       "<tbody>\n",
       "\t<tr><td>LMPRA_Tot</td><td>chr10:100045961-100046653</td><td>1.35946554</td></tr>\n",
       "\t<tr><td>LMPRA_Tot</td><td>chr10:100065094-100065486</td><td>1.07264569</td></tr>\n",
       "\t<tr><td>LMPRA_Tot</td><td>chr10:100081317-100081607</td><td>0.08511404</td></tr>\n",
       "\t<tr><td>LMPRA_Tot</td><td>chr10:100129051-100131059</td><td>0.21944739</td></tr>\n",
       "\t<tr><td>LMPRA_Tot</td><td>chr10:100185017-100187275</td><td>0.59521771</td></tr>\n",
       "\t<tr><td>LMPRA_Tot</td><td>chr10:100228452-100230090</td><td>5.54013719</td></tr>\n",
       "</tbody>\n",
       "</table>\n"
      ],
      "text/latex": [
       "A tibble: 6 × 3\n",
       "\\begin{tabular}{lll}\n",
       " Assay & Peak & Score\\\\\n",
       " <chr> & <chr> & <dbl>\\\\\n",
       "\\hline\n",
       "\t LMPRA\\_Tot & chr10:100045961-100046653 & 1.35946554\\\\\n",
       "\t LMPRA\\_Tot & chr10:100065094-100065486 & 1.07264569\\\\\n",
       "\t LMPRA\\_Tot & chr10:100081317-100081607 & 0.08511404\\\\\n",
       "\t LMPRA\\_Tot & chr10:100129051-100131059 & 0.21944739\\\\\n",
       "\t LMPRA\\_Tot & chr10:100185017-100187275 & 0.59521771\\\\\n",
       "\t LMPRA\\_Tot & chr10:100228452-100230090 & 5.54013719\\\\\n",
       "\\end{tabular}\n"
      ],
      "text/markdown": [
       "\n",
       "A tibble: 6 × 3\n",
       "\n",
       "| Assay &lt;chr&gt; | Peak &lt;chr&gt; | Score &lt;dbl&gt; |\n",
       "|---|---|---|\n",
       "| LMPRA_Tot | chr10:100045961-100046653 | 1.35946554 |\n",
       "| LMPRA_Tot | chr10:100065094-100065486 | 1.07264569 |\n",
       "| LMPRA_Tot | chr10:100081317-100081607 | 0.08511404 |\n",
       "| LMPRA_Tot | chr10:100129051-100131059 | 0.21944739 |\n",
       "| LMPRA_Tot | chr10:100185017-100187275 | 0.59521771 |\n",
       "| LMPRA_Tot | chr10:100228452-100230090 | 5.54013719 |\n",
       "\n"
      ],
      "text/plain": [
       "  Assay     Peak                      Score     \n",
       "1 LMPRA_Tot chr10:100045961-100046653 1.35946554\n",
       "2 LMPRA_Tot chr10:100065094-100065486 1.07264569\n",
       "3 LMPRA_Tot chr10:100081317-100081607 0.08511404\n",
       "4 LMPRA_Tot chr10:100129051-100131059 0.21944739\n",
       "5 LMPRA_Tot chr10:100185017-100187275 0.59521771\n",
       "6 LMPRA_Tot chr10:100228452-100230090 5.54013719"
      ]
     },
     "metadata": {},
     "output_type": "display_data"
    }
   ],
   "source": [
    "dat = dat_peak_score_summary_lmpra\n",
    "dat = dat %>%\n",
    "    dplyr::mutate(\n",
    "        Assay = \"LMPRA_Tot\",\n",
    "        Score = Mean) %>%\n",
    "    dplyr::select(Assay, Peak, Score)\n",
    "\n",
    "dat_peak_score_lmpra = dat\n",
    "print(dim(dat))\n",
    "head(dat)"
   ]
  },
  {
   "cell_type": "markdown",
   "metadata": {},
   "source": [
    "**Score vector for CRISPRi-HCRFF**"
   ]
  },
  {
   "cell_type": "code",
   "execution_count": 25,
   "metadata": {},
   "outputs": [
    {
     "data": {
      "text/html": [
       "<table class=\"dataframe\">\n",
       "<caption>A tibble: 3 × 6</caption>\n",
       "<thead>\n",
       "\t<tr><th scope=col>Peak</th><th scope=col>Mean_Merge_Tot</th><th scope=col>Mean_Merge_Pos</th><th scope=col>Mean_Merge_Neg</th><th scope=col>Count</th><th scope=col>Note</th></tr>\n",
       "\t<tr><th scope=col>&lt;chr&gt;</th><th scope=col>&lt;dbl&gt;</th><th scope=col>&lt;dbl&gt;</th><th scope=col>&lt;dbl&gt;</th><th scope=col>&lt;dbl&gt;</th><th scope=col>&lt;chr&gt;</th></tr>\n",
       "</thead>\n",
       "<tbody>\n",
       "\t<tr><td>chr11:33065336-33066228</td><td>-0.08308383</td><td>0.03675483</td><td>-0.2734393</td><td>138</td><td>CAPRIN1:138|CAT:138|LMO2:138</td></tr>\n",
       "\t<tr><td>chr11:33068519-33069100</td><td>-0.12006903</td><td>0.00000000</td><td>-0.1593220</td><td>159</td><td>CAPRIN1:159|CAT:159|LMO2:159</td></tr>\n",
       "\t<tr><td>chr11:33072412-33072630</td><td> 0.10643558</td><td>0.35299267</td><td>-0.1982723</td><td> 36</td><td>CAPRIN1:36|CAT:36|LMO2:36   </td></tr>\n",
       "</tbody>\n",
       "</table>\n"
      ],
      "text/latex": [
       "A tibble: 3 × 6\n",
       "\\begin{tabular}{llllll}\n",
       " Peak & Mean\\_Merge\\_Tot & Mean\\_Merge\\_Pos & Mean\\_Merge\\_Neg & Count & Note\\\\\n",
       " <chr> & <dbl> & <dbl> & <dbl> & <dbl> & <chr>\\\\\n",
       "\\hline\n",
       "\t chr11:33065336-33066228 & -0.08308383 & 0.03675483 & -0.2734393 & 138 & CAPRIN1:138\\textbar{}CAT:138\\textbar{}LMO2:138\\\\\n",
       "\t chr11:33068519-33069100 & -0.12006903 & 0.00000000 & -0.1593220 & 159 & CAPRIN1:159\\textbar{}CAT:159\\textbar{}LMO2:159\\\\\n",
       "\t chr11:33072412-33072630 &  0.10643558 & 0.35299267 & -0.1982723 &  36 & CAPRIN1:36\\textbar{}CAT:36\\textbar{}LMO2:36   \\\\\n",
       "\\end{tabular}\n"
      ],
      "text/markdown": [
       "\n",
       "A tibble: 3 × 6\n",
       "\n",
       "| Peak &lt;chr&gt; | Mean_Merge_Tot &lt;dbl&gt; | Mean_Merge_Pos &lt;dbl&gt; | Mean_Merge_Neg &lt;dbl&gt; | Count &lt;dbl&gt; | Note &lt;chr&gt; |\n",
       "|---|---|---|---|---|---|\n",
       "| chr11:33065336-33066228 | -0.08308383 | 0.03675483 | -0.2734393 | 138 | CAPRIN1:138|CAT:138|LMO2:138 |\n",
       "| chr11:33068519-33069100 | -0.12006903 | 0.00000000 | -0.1593220 | 159 | CAPRIN1:159|CAT:159|LMO2:159 |\n",
       "| chr11:33072412-33072630 |  0.10643558 | 0.35299267 | -0.1982723 |  36 | CAPRIN1:36|CAT:36|LMO2:36    |\n",
       "\n"
      ],
      "text/plain": [
       "  Peak                    Mean_Merge_Tot Mean_Merge_Pos Mean_Merge_Neg Count\n",
       "1 chr11:33065336-33066228 -0.08308383    0.03675483     -0.2734393     138  \n",
       "2 chr11:33068519-33069100 -0.12006903    0.00000000     -0.1593220     159  \n",
       "3 chr11:33072412-33072630  0.10643558    0.35299267     -0.1982723      36  \n",
       "  Note                        \n",
       "1 CAPRIN1:138|CAT:138|LMO2:138\n",
       "2 CAPRIN1:159|CAT:159|LMO2:159\n",
       "3 CAPRIN1:36|CAT:36|LMO2:36   "
      ]
     },
     "metadata": {},
     "output_type": "display_data"
    }
   ],
   "source": [
    "dat = dat_peak_score_summary_crispri_hcrff\n",
    "head(dat, 3)"
   ]
  },
  {
   "cell_type": "code",
   "execution_count": 26,
   "metadata": {},
   "outputs": [
    {
     "name": "stdout",
     "output_type": "stream",
     "text": [
      "[1] 1330    3\n"
     ]
    },
    {
     "data": {
      "text/html": [
       "<table class=\"dataframe\">\n",
       "<caption>A tibble: 6 × 3</caption>\n",
       "<thead>\n",
       "\t<tr><th scope=col>Assay</th><th scope=col>Peak</th><th scope=col>Score</th></tr>\n",
       "\t<tr><th scope=col>&lt;chr&gt;</th><th scope=col>&lt;chr&gt;</th><th scope=col>&lt;dbl&gt;</th></tr>\n",
       "</thead>\n",
       "<tbody>\n",
       "\t<tr><td>CRISPRi_HCRFF_Tot</td><td>chr11:33065336-33066228</td><td>-0.08308383</td></tr>\n",
       "\t<tr><td>CRISPRi_HCRFF_Tot</td><td>chr11:33068519-33069100</td><td>-0.12006903</td></tr>\n",
       "\t<tr><td>CRISPRi_HCRFF_Tot</td><td>chr11:33072412-33072630</td><td> 0.10643558</td></tr>\n",
       "\t<tr><td>CRISPRi_HCRFF_Tot</td><td>chr11:33103533-33104120</td><td> 0.98158422</td></tr>\n",
       "\t<tr><td>CRISPRi_HCRFF_Tot</td><td>chr11:33114629-33115134</td><td> 0.22095793</td></tr>\n",
       "\t<tr><td>CRISPRi_HCRFF_Tot</td><td>chr11:33125296-33126416</td><td>-0.05128921</td></tr>\n",
       "</tbody>\n",
       "</table>\n"
      ],
      "text/latex": [
       "A tibble: 6 × 3\n",
       "\\begin{tabular}{lll}\n",
       " Assay & Peak & Score\\\\\n",
       " <chr> & <chr> & <dbl>\\\\\n",
       "\\hline\n",
       "\t CRISPRi\\_HCRFF\\_Tot & chr11:33065336-33066228 & -0.08308383\\\\\n",
       "\t CRISPRi\\_HCRFF\\_Tot & chr11:33068519-33069100 & -0.12006903\\\\\n",
       "\t CRISPRi\\_HCRFF\\_Tot & chr11:33072412-33072630 &  0.10643558\\\\\n",
       "\t CRISPRi\\_HCRFF\\_Tot & chr11:33103533-33104120 &  0.98158422\\\\\n",
       "\t CRISPRi\\_HCRFF\\_Tot & chr11:33114629-33115134 &  0.22095793\\\\\n",
       "\t CRISPRi\\_HCRFF\\_Tot & chr11:33125296-33126416 & -0.05128921\\\\\n",
       "\\end{tabular}\n"
      ],
      "text/markdown": [
       "\n",
       "A tibble: 6 × 3\n",
       "\n",
       "| Assay &lt;chr&gt; | Peak &lt;chr&gt; | Score &lt;dbl&gt; |\n",
       "|---|---|---|\n",
       "| CRISPRi_HCRFF_Tot | chr11:33065336-33066228 | -0.08308383 |\n",
       "| CRISPRi_HCRFF_Tot | chr11:33068519-33069100 | -0.12006903 |\n",
       "| CRISPRi_HCRFF_Tot | chr11:33072412-33072630 |  0.10643558 |\n",
       "| CRISPRi_HCRFF_Tot | chr11:33103533-33104120 |  0.98158422 |\n",
       "| CRISPRi_HCRFF_Tot | chr11:33114629-33115134 |  0.22095793 |\n",
       "| CRISPRi_HCRFF_Tot | chr11:33125296-33126416 | -0.05128921 |\n",
       "\n"
      ],
      "text/plain": [
       "  Assay             Peak                    Score      \n",
       "1 CRISPRi_HCRFF_Tot chr11:33065336-33066228 -0.08308383\n",
       "2 CRISPRi_HCRFF_Tot chr11:33068519-33069100 -0.12006903\n",
       "3 CRISPRi_HCRFF_Tot chr11:33072412-33072630  0.10643558\n",
       "4 CRISPRi_HCRFF_Tot chr11:33103533-33104120  0.98158422\n",
       "5 CRISPRi_HCRFF_Tot chr11:33114629-33115134  0.22095793\n",
       "6 CRISPRi_HCRFF_Tot chr11:33125296-33126416 -0.05128921"
      ]
     },
     "metadata": {},
     "output_type": "display_data"
    }
   ],
   "source": [
    "dat = dat_peak_score_summary_crispri_hcrff\n",
    "dat = dat %>%\n",
    "    dplyr::mutate(\n",
    "        Assay = \"CRISPRi_HCRFF_Tot\",\n",
    "        Score = Mean_Merge_Tot) %>%\n",
    "    dplyr::select(Assay, Peak, Score)\n",
    "\n",
    "dat_peak_score_crispri_hcrff = dat\n",
    "print(dim(dat))\n",
    "head(dat)"
   ]
  },
  {
   "cell_type": "markdown",
   "metadata": {},
   "source": [
    "**Score vector for CRISPRi-Growth**"
   ]
  },
  {
   "cell_type": "code",
   "execution_count": 27,
   "metadata": {},
   "outputs": [
    {
     "data": {
      "text/html": [
       "<table class=\"dataframe\">\n",
       "<caption>A tibble: 3 × 8</caption>\n",
       "<thead>\n",
       "\t<tr><th scope=col>Peak</th><th scope=col>Mean</th><th scope=col>Median</th><th scope=col>Max</th><th scope=col>Min</th><th scope=col>Count</th><th scope=col>Mean_Neg</th><th scope=col>Mean_Pos</th></tr>\n",
       "\t<tr><th scope=col>&lt;chr&gt;</th><th scope=col>&lt;dbl&gt;</th><th scope=col>&lt;dbl&gt;</th><th scope=col>&lt;dbl&gt;</th><th scope=col>&lt;dbl&gt;</th><th scope=col>&lt;dbl&gt;</th><th scope=col>&lt;dbl&gt;</th><th scope=col>&lt;dbl&gt;</th></tr>\n",
       "</thead>\n",
       "<tbody>\n",
       "\t<tr><td>chr10:100009096-100010466</td><td>-0.0378617</td><td> 0.0303830</td><td>0.526902</td><td>-0.655965</td><td>10</td><td>-0.3840866</td><td>0.3083632</td></tr>\n",
       "\t<tr><td>chr10:100045961-100046653</td><td> 0.1087357</td><td> 0.1820295</td><td>0.646953</td><td>-0.497578</td><td>10</td><td>-0.2750008</td><td>0.3645600</td></tr>\n",
       "\t<tr><td>chr10:100065094-100065486</td><td>-0.0032373</td><td>-0.0931995</td><td>1.305380</td><td>-0.677550</td><td>10</td><td>-0.3639722</td><td>0.5378650</td></tr>\n",
       "</tbody>\n",
       "</table>\n"
      ],
      "text/latex": [
       "A tibble: 3 × 8\n",
       "\\begin{tabular}{llllllll}\n",
       " Peak & Mean & Median & Max & Min & Count & Mean\\_Neg & Mean\\_Pos\\\\\n",
       " <chr> & <dbl> & <dbl> & <dbl> & <dbl> & <dbl> & <dbl> & <dbl>\\\\\n",
       "\\hline\n",
       "\t chr10:100009096-100010466 & -0.0378617 &  0.0303830 & 0.526902 & -0.655965 & 10 & -0.3840866 & 0.3083632\\\\\n",
       "\t chr10:100045961-100046653 &  0.1087357 &  0.1820295 & 0.646953 & -0.497578 & 10 & -0.2750008 & 0.3645600\\\\\n",
       "\t chr10:100065094-100065486 & -0.0032373 & -0.0931995 & 1.305380 & -0.677550 & 10 & -0.3639722 & 0.5378650\\\\\n",
       "\\end{tabular}\n"
      ],
      "text/markdown": [
       "\n",
       "A tibble: 3 × 8\n",
       "\n",
       "| Peak &lt;chr&gt; | Mean &lt;dbl&gt; | Median &lt;dbl&gt; | Max &lt;dbl&gt; | Min &lt;dbl&gt; | Count &lt;dbl&gt; | Mean_Neg &lt;dbl&gt; | Mean_Pos &lt;dbl&gt; |\n",
       "|---|---|---|---|---|---|---|---|\n",
       "| chr10:100009096-100010466 | -0.0378617 |  0.0303830 | 0.526902 | -0.655965 | 10 | -0.3840866 | 0.3083632 |\n",
       "| chr10:100045961-100046653 |  0.1087357 |  0.1820295 | 0.646953 | -0.497578 | 10 | -0.2750008 | 0.3645600 |\n",
       "| chr10:100065094-100065486 | -0.0032373 | -0.0931995 | 1.305380 | -0.677550 | 10 | -0.3639722 | 0.5378650 |\n",
       "\n"
      ],
      "text/plain": [
       "  Peak                      Mean       Median     Max      Min       Count\n",
       "1 chr10:100009096-100010466 -0.0378617  0.0303830 0.526902 -0.655965 10   \n",
       "2 chr10:100045961-100046653  0.1087357  0.1820295 0.646953 -0.497578 10   \n",
       "3 chr10:100065094-100065486 -0.0032373 -0.0931995 1.305380 -0.677550 10   \n",
       "  Mean_Neg   Mean_Pos \n",
       "1 -0.3840866 0.3083632\n",
       "2 -0.2750008 0.3645600\n",
       "3 -0.3639722 0.5378650"
      ]
     },
     "metadata": {},
     "output_type": "display_data"
    }
   ],
   "source": [
    "dat = dat_peak_score_summary_crispri_growth\n",
    "head(dat, 3)"
   ]
  },
  {
   "cell_type": "code",
   "execution_count": 28,
   "metadata": {},
   "outputs": [
    {
     "name": "stdout",
     "output_type": "stream",
     "text": [
      "[1] 80288     3\n"
     ]
    },
    {
     "data": {
      "text/html": [
       "<table class=\"dataframe\">\n",
       "<caption>A tibble: 6 × 3</caption>\n",
       "<thead>\n",
       "\t<tr><th scope=col>Assay</th><th scope=col>Peak</th><th scope=col>Score</th></tr>\n",
       "\t<tr><th scope=col>&lt;chr&gt;</th><th scope=col>&lt;chr&gt;</th><th scope=col>&lt;dbl&gt;</th></tr>\n",
       "</thead>\n",
       "<tbody>\n",
       "\t<tr><td>CRISPRi_Growth_Tot</td><td>chr10:100009096-100010466</td><td>-0.03786170</td></tr>\n",
       "\t<tr><td>CRISPRi_Growth_Tot</td><td>chr10:100045961-100046653</td><td> 0.10873570</td></tr>\n",
       "\t<tr><td>CRISPRi_Growth_Tot</td><td>chr10:100065094-100065486</td><td>-0.00323730</td></tr>\n",
       "\t<tr><td>CRISPRi_Growth_Tot</td><td>chr10:100129051-100131059</td><td>-0.26576144</td></tr>\n",
       "\t<tr><td>CRISPRi_Growth_Tot</td><td>chr10:100185017-100187275</td><td>-0.01202196</td></tr>\n",
       "\t<tr><td>CRISPRi_Growth_Tot</td><td>chr10:100228452-100230090</td><td>-0.01822050</td></tr>\n",
       "</tbody>\n",
       "</table>\n"
      ],
      "text/latex": [
       "A tibble: 6 × 3\n",
       "\\begin{tabular}{lll}\n",
       " Assay & Peak & Score\\\\\n",
       " <chr> & <chr> & <dbl>\\\\\n",
       "\\hline\n",
       "\t CRISPRi\\_Growth\\_Tot & chr10:100009096-100010466 & -0.03786170\\\\\n",
       "\t CRISPRi\\_Growth\\_Tot & chr10:100045961-100046653 &  0.10873570\\\\\n",
       "\t CRISPRi\\_Growth\\_Tot & chr10:100065094-100065486 & -0.00323730\\\\\n",
       "\t CRISPRi\\_Growth\\_Tot & chr10:100129051-100131059 & -0.26576144\\\\\n",
       "\t CRISPRi\\_Growth\\_Tot & chr10:100185017-100187275 & -0.01202196\\\\\n",
       "\t CRISPRi\\_Growth\\_Tot & chr10:100228452-100230090 & -0.01822050\\\\\n",
       "\\end{tabular}\n"
      ],
      "text/markdown": [
       "\n",
       "A tibble: 6 × 3\n",
       "\n",
       "| Assay &lt;chr&gt; | Peak &lt;chr&gt; | Score &lt;dbl&gt; |\n",
       "|---|---|---|\n",
       "| CRISPRi_Growth_Tot | chr10:100009096-100010466 | -0.03786170 |\n",
       "| CRISPRi_Growth_Tot | chr10:100045961-100046653 |  0.10873570 |\n",
       "| CRISPRi_Growth_Tot | chr10:100065094-100065486 | -0.00323730 |\n",
       "| CRISPRi_Growth_Tot | chr10:100129051-100131059 | -0.26576144 |\n",
       "| CRISPRi_Growth_Tot | chr10:100185017-100187275 | -0.01202196 |\n",
       "| CRISPRi_Growth_Tot | chr10:100228452-100230090 | -0.01822050 |\n",
       "\n"
      ],
      "text/plain": [
       "  Assay              Peak                      Score      \n",
       "1 CRISPRi_Growth_Tot chr10:100009096-100010466 -0.03786170\n",
       "2 CRISPRi_Growth_Tot chr10:100045961-100046653  0.10873570\n",
       "3 CRISPRi_Growth_Tot chr10:100065094-100065486 -0.00323730\n",
       "4 CRISPRi_Growth_Tot chr10:100129051-100131059 -0.26576144\n",
       "5 CRISPRi_Growth_Tot chr10:100185017-100187275 -0.01202196\n",
       "6 CRISPRi_Growth_Tot chr10:100228452-100230090 -0.01822050"
      ]
     },
     "metadata": {},
     "output_type": "display_data"
    }
   ],
   "source": [
    "dat = dat_peak_score_summary_crispri_growth\n",
    "dat = dat %>%\n",
    "    dplyr::mutate(\n",
    "        Assay = \"CRISPRi_Growth_Tot\",\n",
    "        Score = Mean) %>%\n",
    "    dplyr::select(Assay, Peak, Score)\n",
    "\n",
    "dat_peak_score_crispri_growth = dat\n",
    "print(dim(dat))\n",
    "head(dat)"
   ]
  },
  {
   "cell_type": "markdown",
   "metadata": {},
   "source": [
    "**Score vector for ATAC**"
   ]
  },
  {
   "cell_type": "code",
   "execution_count": 29,
   "metadata": {},
   "outputs": [
    {
     "name": "stdout",
     "output_type": "stream",
     "text": [
      "[1] 246852      3\n"
     ]
    },
    {
     "data": {
      "text/html": [
       "<table class=\"dataframe\">\n",
       "<caption>A tibble: 6 × 3</caption>\n",
       "<thead>\n",
       "\t<tr><th scope=col>Peak</th><th scope=col>Assay</th><th scope=col>Score</th></tr>\n",
       "\t<tr><th scope=col>&lt;chr&gt;</th><th scope=col>&lt;chr&gt;</th><th scope=col>&lt;dbl&gt;</th></tr>\n",
       "</thead>\n",
       "<tbody>\n",
       "\t<tr><td>chr1:10015-10442</td><td>ATAC</td><td>1.1389501</td></tr>\n",
       "\t<tr><td>chr1:14253-14645</td><td>ATAC</td><td>0.8042019</td></tr>\n",
       "\t<tr><td>chr1:16015-16477</td><td>ATAC</td><td>0.9440313</td></tr>\n",
       "\t<tr><td>chr1:17237-17772</td><td>ATAC</td><td>1.4967405</td></tr>\n",
       "\t<tr><td>chr1:28903-29613</td><td>ATAC</td><td>1.0746061</td></tr>\n",
       "\t<tr><td>chr1:30803-31072</td><td>ATAC</td><td>1.0312963</td></tr>\n",
       "</tbody>\n",
       "</table>\n"
      ],
      "text/latex": [
       "A tibble: 6 × 3\n",
       "\\begin{tabular}{lll}\n",
       " Peak & Assay & Score\\\\\n",
       " <chr> & <chr> & <dbl>\\\\\n",
       "\\hline\n",
       "\t chr1:10015-10442 & ATAC & 1.1389501\\\\\n",
       "\t chr1:14253-14645 & ATAC & 0.8042019\\\\\n",
       "\t chr1:16015-16477 & ATAC & 0.9440313\\\\\n",
       "\t chr1:17237-17772 & ATAC & 1.4967405\\\\\n",
       "\t chr1:28903-29613 & ATAC & 1.0746061\\\\\n",
       "\t chr1:30803-31072 & ATAC & 1.0312963\\\\\n",
       "\\end{tabular}\n"
      ],
      "text/markdown": [
       "\n",
       "A tibble: 6 × 3\n",
       "\n",
       "| Peak &lt;chr&gt; | Assay &lt;chr&gt; | Score &lt;dbl&gt; |\n",
       "|---|---|---|\n",
       "| chr1:10015-10442 | ATAC | 1.1389501 |\n",
       "| chr1:14253-14645 | ATAC | 0.8042019 |\n",
       "| chr1:16015-16477 | ATAC | 0.9440313 |\n",
       "| chr1:17237-17772 | ATAC | 1.4967405 |\n",
       "| chr1:28903-29613 | ATAC | 1.0746061 |\n",
       "| chr1:30803-31072 | ATAC | 1.0312963 |\n",
       "\n"
      ],
      "text/plain": [
       "  Peak             Assay Score    \n",
       "1 chr1:10015-10442 ATAC  1.1389501\n",
       "2 chr1:14253-14645 ATAC  0.8042019\n",
       "3 chr1:16015-16477 ATAC  0.9440313\n",
       "4 chr1:17237-17772 ATAC  1.4967405\n",
       "5 chr1:28903-29613 ATAC  1.0746061\n",
       "6 chr1:30803-31072 ATAC  1.0312963"
      ]
     },
     "metadata": {},
     "output_type": "display_data"
    }
   ],
   "source": [
    "dat = dat_peak_score_summary_astarr\n",
    "dat = dat %>% \n",
    "    dplyr::mutate(\n",
    "        Assay = \"ATAC\", \n",
    "        Score = Input_FPKM) %>%\n",
    "    dplyr::select(Peak, Assay, Score)\n",
    "    \n",
    "dat_peak_score_atac = dat\n",
    "print(dim(dat))\n",
    "head(dat)"
   ]
  },
  {
   "cell_type": "markdown",
   "metadata": {},
   "source": [
    "## Combine and save score vectors"
   ]
  },
  {
   "cell_type": "code",
   "execution_count": 30,
   "metadata": {},
   "outputs": [
    {
     "name": "stdout",
     "output_type": "stream",
     "text": [
      "[1] 1722\n"
     ]
    },
    {
     "data": {
      "text/html": [
       "<style>\n",
       ".list-inline {list-style: none; margin:0; padding: 0}\n",
       ".list-inline>li {display: inline-block}\n",
       ".list-inline>li:not(:last-child)::after {content: \"\\00b7\"; padding: 0 .5ex}\n",
       "</style>\n",
       "<ol class=list-inline><li>'chr11:32870601-32871324'</li><li>'chr11:32874343-32875070'</li><li>'chr11:32884749-32885822'</li><li>'chr11:32892099-32894437'</li><li>'chr11:32901572-32902485'</li><li>'chr11:32903491-32904506'</li></ol>\n"
      ],
      "text/latex": [
       "\\begin{enumerate*}\n",
       "\\item 'chr11:32870601-32871324'\n",
       "\\item 'chr11:32874343-32875070'\n",
       "\\item 'chr11:32884749-32885822'\n",
       "\\item 'chr11:32892099-32894437'\n",
       "\\item 'chr11:32901572-32902485'\n",
       "\\item 'chr11:32903491-32904506'\n",
       "\\end{enumerate*}\n"
      ],
      "text/markdown": [
       "1. 'chr11:32870601-32871324'\n",
       "2. 'chr11:32874343-32875070'\n",
       "3. 'chr11:32884749-32885822'\n",
       "4. 'chr11:32892099-32894437'\n",
       "5. 'chr11:32901572-32902485'\n",
       "6. 'chr11:32903491-32904506'\n",
       "\n",
       "\n"
      ],
      "text/plain": [
       "[1] \"chr11:32870601-32871324\" \"chr11:32874343-32875070\"\n",
       "[3] \"chr11:32884749-32885822\" \"chr11:32892099-32894437\"\n",
       "[5] \"chr11:32901572-32902485\" \"chr11:32903491-32904506\""
      ]
     },
     "metadata": {},
     "output_type": "display_data"
    }
   ],
   "source": [
    "dat = dat_peak_score_summary_starrmpra_mean\n",
    "vec = unique(dat$Peak)\n",
    "\n",
    "VEC_PEAKS = vec\n",
    "print(length(vec))\n",
    "head(vec)"
   ]
  },
  {
   "cell_type": "code",
   "execution_count": 31,
   "metadata": {},
   "outputs": [
    {
     "name": "stdout",
     "output_type": "stream",
     "text": [
      "\n",
      "            ASTARR               ATAC CRISPRi_Growth_Tot  CRISPRi_HCRFF_Tot \n",
      "              1722               1722                708                632 \n",
      "         LMPRA_Tot            Overall              TMPRA             WSTARR \n",
      "              1241               1722               1722               1722 \n",
      "\n"
     ]
    },
    {
     "data": {
      "text/plain": [
       "                   Length Class  Mode   \n",
       "ASTARR             1722   -none- numeric\n",
       "ATAC               1722   -none- numeric\n",
       "CRISPRi_Growth_Tot  708   -none- numeric\n",
       "CRISPRi_HCRFF_Tot   632   -none- numeric\n",
       "LMPRA_Tot          1241   -none- numeric\n",
       "Overall            1722   -none- numeric\n",
       "TMPRA              1722   -none- numeric\n",
       "WSTARR             1722   -none- numeric"
      ]
     },
     "metadata": {},
     "output_type": "display_data"
    }
   ],
   "source": [
    "###\n",
    "dat = bind_rows(\n",
    "    dat_peak_score_starrmpra, \n",
    "    dat_peak_score_starrmpra_overall,\n",
    "    dat_peak_score_lmpra,\n",
    "    dat_peak_score_crispri_hcrff,\n",
    "    dat_peak_score_crispri_growth,\n",
    "    dat_peak_score_atac\n",
    ")\n",
    "\n",
    "###\n",
    "dat = dat %>% dplyr::filter(Peak %in% VEC_PEAKS)\n",
    "\n",
    "###\n",
    "lst = split(dat, dat$Assay)\n",
    "lst = lapply(lst, function(dat){\n",
    "    vec = dat %>% \n",
    "        dplyr::select(Peak, Score) %>% \n",
    "        tibble::deframe() %>%\n",
    "        na.omit\n",
    "    return(vec)\n",
    "})\n",
    "\n",
    "### assign and show\n",
    "lst_peak_score_merge = lst\n",
    "print(table(dat$Assay))\n",
    "cat(\"\\n\")\n",
    "summary(lst)"
   ]
  },
  {
   "cell_type": "code",
   "execution_count": 32,
   "metadata": {},
   "outputs": [
    {
     "name": "stdout",
     "output_type": "stream",
     "text": [
      "ASTARR \n",
      "[1] \"score_merge.astarr.rds\"\n",
      "[1] \"/data/reddylab/Kuei/out/proj_combeffect_encode_fcc/results/region/KS91_K562_ASTARRseq_peak_macs_input/enrichment_prepare_score_merge/score_merge.astarr.rds\"\n",
      "\n",
      "ATAC \n",
      "[1] \"score_merge.atac.rds\"\n",
      "[1] \"/data/reddylab/Kuei/out/proj_combeffect_encode_fcc/results/region/KS91_K562_ASTARRseq_peak_macs_input/enrichment_prepare_score_merge/score_merge.atac.rds\"\n",
      "\n",
      "CRISPRi_Growth_Tot \n",
      "[1] \"score_merge.crispri_growth_tot.rds\"\n",
      "[1] \"/data/reddylab/Kuei/out/proj_combeffect_encode_fcc/results/region/KS91_K562_ASTARRseq_peak_macs_input/enrichment_prepare_score_merge/score_merge.crispri_growth_tot.rds\"\n",
      "\n",
      "CRISPRi_HCRFF_Tot \n",
      "[1] \"score_merge.crispri_hcrff_tot.rds\"\n",
      "[1] \"/data/reddylab/Kuei/out/proj_combeffect_encode_fcc/results/region/KS91_K562_ASTARRseq_peak_macs_input/enrichment_prepare_score_merge/score_merge.crispri_hcrff_tot.rds\"\n",
      "\n",
      "LMPRA_Tot \n",
      "[1] \"score_merge.lmpra_tot.rds\"\n",
      "[1] \"/data/reddylab/Kuei/out/proj_combeffect_encode_fcc/results/region/KS91_K562_ASTARRseq_peak_macs_input/enrichment_prepare_score_merge/score_merge.lmpra_tot.rds\"\n",
      "\n",
      "Overall \n",
      "[1] \"score_merge.overall.rds\"\n",
      "[1] \"/data/reddylab/Kuei/out/proj_combeffect_encode_fcc/results/region/KS91_K562_ASTARRseq_peak_macs_input/enrichment_prepare_score_merge/score_merge.overall.rds\"\n",
      "\n",
      "TMPRA \n",
      "[1] \"score_merge.tmpra.rds\"\n",
      "[1] \"/data/reddylab/Kuei/out/proj_combeffect_encode_fcc/results/region/KS91_K562_ASTARRseq_peak_macs_input/enrichment_prepare_score_merge/score_merge.tmpra.rds\"\n",
      "\n",
      "WSTARR \n",
      "[1] \"score_merge.wstarr.rds\"\n",
      "[1] \"/data/reddylab/Kuei/out/proj_combeffect_encode_fcc/results/region/KS91_K562_ASTARRseq_peak_macs_input/enrichment_prepare_score_merge/score_merge.wstarr.rds\"\n",
      "\n"
     ]
    }
   ],
   "source": [
    "fdiry = file.path(\n",
    "    FD_RES, \n",
    "    \"results\", \n",
    "    \"region\", \n",
    "    \"KS91_K562_ASTARRseq_peak_macs_input\", \n",
    "    \"enrichment_prepare_score_merge\")\n",
    "\n",
    "lst = lst_peak_score_merge\n",
    "for(idx in names(lst)){\n",
    "    cat(idx, \"\\n\")\n",
    "    txt = tolower(idx)\n",
    "    txt = paste(\"score_merge\", txt, sep=\".\")\n",
    "    txt = paste(txt, \"rds\", sep=\".\")\n",
    "    \n",
    "    fname = txt\n",
    "    fpath = file.path(fdiry, fname)\n",
    "    print(fname)\n",
    "    print(fpath)\n",
    "    cat(\"\\n\")\n",
    "    \n",
    "    vec_peak_score = lst[[idx]]\n",
    "    saveRDS(vec_peak_score, file = fpath)\n",
    "}"
   ]
  },
  {
   "cell_type": "code",
   "execution_count": null,
   "metadata": {},
   "outputs": [],
   "source": []
  },
  {
   "cell_type": "code",
   "execution_count": null,
   "metadata": {},
   "outputs": [],
   "source": []
  },
  {
   "cell_type": "code",
   "execution_count": null,
   "metadata": {},
   "outputs": [],
   "source": []
  },
  {
   "cell_type": "code",
   "execution_count": null,
   "metadata": {},
   "outputs": [],
   "source": []
  },
  {
   "cell_type": "code",
   "execution_count": null,
   "metadata": {},
   "outputs": [],
   "source": []
  },
  {
   "cell_type": "code",
   "execution_count": null,
   "metadata": {},
   "outputs": [],
   "source": []
  },
  {
   "cell_type": "code",
   "execution_count": null,
   "metadata": {},
   "outputs": [],
   "source": [
    "dat = bind_rows(\n",
    "    dat_peak_score_starrmpra, \n",
    "    dat_peak_score_starrmpra_overall,\n",
    "    dat_peak_score_lmpra,\n",
    "    dat_peak_score_crispri_hcrff,\n",
    "    dat_peak_score_crispri_growth,\n",
    "    dat_peak_score_atac\n",
    ")\n",
    "\n",
    "lst = split(dat, dat$Assay)\n",
    "lst = lapply(lst, function(dat){\n",
    "    vec = dat %>% \n",
    "        dplyr::select(Peak, Score) %>% \n",
    "        tibble::deframe() %>%\n",
    "        na.omit\n",
    "    return(vec)\n",
    "})\n",
    "\n",
    "### assign and show\n",
    "lst_peak_score_merge = lst\n",
    "print(table(dat$Assay))\n",
    "cat(\"\\n\")\n",
    "summary(lst)\n",
    "\n",
    "for(idx in c(\"ASTARR\", \"WSTARR\", \"TMPRA\", \"Overall\")){\n",
    "    cat(\"\\n\", idx, \"\\n\")\n",
    "    print(summary(lst[[idx]]))\n",
    "}"
   ]
  },
  {
   "cell_type": "code",
   "execution_count": null,
   "metadata": {},
   "outputs": [],
   "source": []
  },
  {
   "cell_type": "code",
   "execution_count": null,
   "metadata": {},
   "outputs": [],
   "source": []
  },
  {
   "cell_type": "markdown",
   "metadata": {},
   "source": [
    "**Score vector for the rest**"
   ]
  },
  {
   "cell_type": "code",
   "execution_count": null,
   "metadata": {},
   "outputs": [],
   "source": [
    "CRISPRi_Growth_Tot  CRISPRi_HCRFF_Tot          LMPRA_Tot"
   ]
  },
  {
   "cell_type": "code",
   "execution_count": null,
   "metadata": {},
   "outputs": [],
   "source": [
    "lst = list(\n",
    "    \"LMPRA_Tot\"          = dat_peak_score_summary_lmpra,\n",
    "    \"CRISPRi_HCRFF_Tot \" = dat_peak_score_summary_crispri_hcrff,\n",
    "    \"CRISPRi_Growth_Tot\" = dat_peak_score_summary_crispri_growth,\n",
    "    \"ATAC\"               = dat_peak_score_summary_astarr\n",
    ")\n",
    "\n",
    "for (idn in names(lst)){\n",
    "    print\n",
    "}"
   ]
  },
  {
   "cell_type": "code",
   "execution_count": null,
   "metadata": {},
   "outputs": [],
   "source": []
  },
  {
   "cell_type": "code",
   "execution_count": null,
   "metadata": {},
   "outputs": [],
   "source": []
  },
  {
   "cell_type": "code",
   "execution_count": null,
   "metadata": {},
   "outputs": [],
   "source": []
  },
  {
   "cell_type": "markdown",
   "metadata": {},
   "source": [
    "**Merge (Each reporter assays)**"
   ]
  },
  {
   "cell_type": "code",
   "execution_count": 5,
   "metadata": {},
   "outputs": [
    {
     "name": "stdout",
     "output_type": "stream",
     "text": [
      "[1] 5166    3\n"
     ]
    },
    {
     "data": {
      "text/html": [
       "<table class=\"dataframe\">\n",
       "<caption>A tibble: 6 × 3</caption>\n",
       "<thead>\n",
       "\t<tr><th scope=col>Assay</th><th scope=col>Peak</th><th scope=col>Score</th></tr>\n",
       "\t<tr><th scope=col>&lt;chr&gt;</th><th scope=col>&lt;chr&gt;</th><th scope=col>&lt;dbl&gt;</th></tr>\n",
       "</thead>\n",
       "<tbody>\n",
       "\t<tr><td>ASTARR</td><td>chr11:4539569-4540043</td><td>0.6550523</td></tr>\n",
       "\t<tr><td>ASTARR</td><td>chr11:4551336-4552012</td><td>0.7560976</td></tr>\n",
       "\t<tr><td>ASTARR</td><td>chr11:4553969-4555012</td><td>0.6556330</td></tr>\n",
       "\t<tr><td>ASTARR</td><td>chr11:4569016-4569992</td><td>0.5673635</td></tr>\n",
       "\t<tr><td>ASTARR</td><td>chr11:4577444-4578031</td><td>0.7154472</td></tr>\n",
       "\t<tr><td>ASTARR</td><td>chr11:4601808-4602487</td><td>0.1277584</td></tr>\n",
       "</tbody>\n",
       "</table>\n"
      ],
      "text/latex": [
       "A tibble: 6 × 3\n",
       "\\begin{tabular}{lll}\n",
       " Assay & Peak & Score\\\\\n",
       " <chr> & <chr> & <dbl>\\\\\n",
       "\\hline\n",
       "\t ASTARR & chr11:4539569-4540043 & 0.6550523\\\\\n",
       "\t ASTARR & chr11:4551336-4552012 & 0.7560976\\\\\n",
       "\t ASTARR & chr11:4553969-4555012 & 0.6556330\\\\\n",
       "\t ASTARR & chr11:4569016-4569992 & 0.5673635\\\\\n",
       "\t ASTARR & chr11:4577444-4578031 & 0.7154472\\\\\n",
       "\t ASTARR & chr11:4601808-4602487 & 0.1277584\\\\\n",
       "\\end{tabular}\n"
      ],
      "text/markdown": [
       "\n",
       "A tibble: 6 × 3\n",
       "\n",
       "| Assay &lt;chr&gt; | Peak &lt;chr&gt; | Score &lt;dbl&gt; |\n",
       "|---|---|---|\n",
       "| ASTARR | chr11:4539569-4540043 | 0.6550523 |\n",
       "| ASTARR | chr11:4551336-4552012 | 0.7560976 |\n",
       "| ASTARR | chr11:4553969-4555012 | 0.6556330 |\n",
       "| ASTARR | chr11:4569016-4569992 | 0.5673635 |\n",
       "| ASTARR | chr11:4577444-4578031 | 0.7154472 |\n",
       "| ASTARR | chr11:4601808-4602487 | 0.1277584 |\n",
       "\n"
      ],
      "text/plain": [
       "  Assay  Peak                  Score    \n",
       "1 ASTARR chr11:4539569-4540043 0.6550523\n",
       "2 ASTARR chr11:4551336-4552012 0.7560976\n",
       "3 ASTARR chr11:4553969-4555012 0.6556330\n",
       "4 ASTARR chr11:4569016-4569992 0.5673635\n",
       "5 ASTARR chr11:4577444-4578031 0.7154472\n",
       "6 ASTARR chr11:4601808-4602487 0.1277584"
      ]
     },
     "metadata": {},
     "output_type": "display_data"
    }
   ],
   "source": [
    "dat = dat_peak_summary_starrmpra\n",
    "dat = dat %>%\n",
    "    dplyr::mutate(Score = RankNorm_Total) %>%\n",
    "    dplyr::select(Assay, Peak, Score)\n",
    "\n",
    "dat_peak_score_starrmpra = dat\n",
    "print(dim(dat))\n",
    "head(dat)"
   ]
  },
  {
   "cell_type": "markdown",
   "metadata": {},
   "source": [
    "**Merge (Overall)**"
   ]
  },
  {
   "cell_type": "code",
   "execution_count": 7,
   "metadata": {},
   "outputs": [
    {
     "name": "stdout",
     "output_type": "stream",
     "text": [
      "\n",
      "CRISPRi_Growth_Tot  CRISPRi_HCRFF_Tot          LMPRA_Tot            Overall \n",
      "              1722               1722               1722               1722 \n"
     ]
    },
    {
     "data": {
      "text/html": [
       "<table class=\"dataframe\">\n",
       "<caption>A tibble: 6 × 3</caption>\n",
       "<thead>\n",
       "\t<tr><th scope=col>Peak</th><th scope=col>Assay</th><th scope=col>Score</th></tr>\n",
       "\t<tr><th scope=col>&lt;chr&gt;</th><th scope=col>&lt;chr&gt;</th><th scope=col>&lt;dbl&gt;</th></tr>\n",
       "</thead>\n",
       "<tbody>\n",
       "\t<tr><td>chr11:32870601-32871324</td><td>Overall</td><td>0.1445993</td></tr>\n",
       "\t<tr><td>chr11:32874343-32875070</td><td>Overall</td><td>0.2466125</td></tr>\n",
       "\t<tr><td>chr11:32884749-32885822</td><td>Overall</td><td>0.3211382</td></tr>\n",
       "\t<tr><td>chr11:32892099-32894437</td><td>Overall</td><td>0.7084785</td></tr>\n",
       "\t<tr><td>chr11:32901572-32902485</td><td>Overall</td><td>0.2684863</td></tr>\n",
       "\t<tr><td>chr11:32903491-32904506</td><td>Overall</td><td>0.2586140</td></tr>\n",
       "</tbody>\n",
       "</table>\n"
      ],
      "text/latex": [
       "A tibble: 6 × 3\n",
       "\\begin{tabular}{lll}\n",
       " Peak & Assay & Score\\\\\n",
       " <chr> & <chr> & <dbl>\\\\\n",
       "\\hline\n",
       "\t chr11:32870601-32871324 & Overall & 0.1445993\\\\\n",
       "\t chr11:32874343-32875070 & Overall & 0.2466125\\\\\n",
       "\t chr11:32884749-32885822 & Overall & 0.3211382\\\\\n",
       "\t chr11:32892099-32894437 & Overall & 0.7084785\\\\\n",
       "\t chr11:32901572-32902485 & Overall & 0.2684863\\\\\n",
       "\t chr11:32903491-32904506 & Overall & 0.2586140\\\\\n",
       "\\end{tabular}\n"
      ],
      "text/markdown": [
       "\n",
       "A tibble: 6 × 3\n",
       "\n",
       "| Peak &lt;chr&gt; | Assay &lt;chr&gt; | Score &lt;dbl&gt; |\n",
       "|---|---|---|\n",
       "| chr11:32870601-32871324 | Overall | 0.1445993 |\n",
       "| chr11:32874343-32875070 | Overall | 0.2466125 |\n",
       "| chr11:32884749-32885822 | Overall | 0.3211382 |\n",
       "| chr11:32892099-32894437 | Overall | 0.7084785 |\n",
       "| chr11:32901572-32902485 | Overall | 0.2684863 |\n",
       "| chr11:32903491-32904506 | Overall | 0.2586140 |\n",
       "\n"
      ],
      "text/plain": [
       "  Peak                    Assay   Score    \n",
       "1 chr11:32870601-32871324 Overall 0.1445993\n",
       "2 chr11:32874343-32875070 Overall 0.2466125\n",
       "3 chr11:32884749-32885822 Overall 0.3211382\n",
       "4 chr11:32892099-32894437 Overall 0.7084785\n",
       "5 chr11:32901572-32902485 Overall 0.2684863\n",
       "6 chr11:32903491-32904506 Overall 0.2586140"
      ]
     },
     "metadata": {},
     "output_type": "display_data"
    }
   ],
   "source": [
    "dat = dat_peak_summary_starrmpra_crispr\n",
    "dat = dat %>% \n",
    "    dplyr::select(Peak, RankNorm, CRISPRi_HCRFF_Tot, CRISPRi_Growth_Tot, LMPRA_Tot) %>%\n",
    "    dplyr::rename(\"Overall\" = RankNorm) %>%\n",
    "    tidyr::gather(Assay, Score, -Peak)\n",
    "\n",
    "dat_peak_score_starrmpra_crispr = dat\n",
    "print(table(dat$Assay))\n",
    "head(dat)"
   ]
  },
  {
   "cell_type": "code",
   "execution_count": 15,
   "metadata": {},
   "outputs": [
    {
     "name": "stdout",
     "output_type": "stream",
     "text": [
      "[1] 1722    3\n"
     ]
    },
    {
     "data": {
      "text/html": [
       "<table class=\"dataframe\">\n",
       "<caption>A tibble: 6 × 3</caption>\n",
       "<thead>\n",
       "\t<tr><th scope=col>Peak</th><th scope=col>Assay</th><th scope=col>Score</th></tr>\n",
       "\t<tr><th scope=col>&lt;chr&gt;</th><th scope=col>&lt;chr&gt;</th><th scope=col>&lt;dbl&gt;</th></tr>\n",
       "</thead>\n",
       "<tbody>\n",
       "\t<tr><td>chr11:4539569-4540043</td><td>ATAC</td><td>0.6697688</td></tr>\n",
       "\t<tr><td>chr11:4551336-4552012</td><td>ATAC</td><td>0.7865060</td></tr>\n",
       "\t<tr><td>chr11:4553969-4555012</td><td>ATAC</td><td>0.6403216</td></tr>\n",
       "\t<tr><td>chr11:4569016-4569992</td><td>ATAC</td><td>0.6289273</td></tr>\n",
       "\t<tr><td>chr11:4577444-4578031</td><td>ATAC</td><td>0.8070304</td></tr>\n",
       "\t<tr><td>chr11:4601808-4602487</td><td>ATAC</td><td>0.6303807</td></tr>\n",
       "</tbody>\n",
       "</table>\n"
      ],
      "text/latex": [
       "A tibble: 6 × 3\n",
       "\\begin{tabular}{lll}\n",
       " Peak & Assay & Score\\\\\n",
       " <chr> & <chr> & <dbl>\\\\\n",
       "\\hline\n",
       "\t chr11:4539569-4540043 & ATAC & 0.6697688\\\\\n",
       "\t chr11:4551336-4552012 & ATAC & 0.7865060\\\\\n",
       "\t chr11:4553969-4555012 & ATAC & 0.6403216\\\\\n",
       "\t chr11:4569016-4569992 & ATAC & 0.6289273\\\\\n",
       "\t chr11:4577444-4578031 & ATAC & 0.8070304\\\\\n",
       "\t chr11:4601808-4602487 & ATAC & 0.6303807\\\\\n",
       "\\end{tabular}\n"
      ],
      "text/markdown": [
       "\n",
       "A tibble: 6 × 3\n",
       "\n",
       "| Peak &lt;chr&gt; | Assay &lt;chr&gt; | Score &lt;dbl&gt; |\n",
       "|---|---|---|\n",
       "| chr11:4539569-4540043 | ATAC | 0.6697688 |\n",
       "| chr11:4551336-4552012 | ATAC | 0.7865060 |\n",
       "| chr11:4553969-4555012 | ATAC | 0.6403216 |\n",
       "| chr11:4569016-4569992 | ATAC | 0.6289273 |\n",
       "| chr11:4577444-4578031 | ATAC | 0.8070304 |\n",
       "| chr11:4601808-4602487 | ATAC | 0.6303807 |\n",
       "\n"
      ],
      "text/plain": [
       "  Peak                  Assay Score    \n",
       "1 chr11:4539569-4540043 ATAC  0.6697688\n",
       "2 chr11:4551336-4552012 ATAC  0.7865060\n",
       "3 chr11:4553969-4555012 ATAC  0.6403216\n",
       "4 chr11:4569016-4569992 ATAC  0.6289273\n",
       "5 chr11:4577444-4578031 ATAC  0.8070304\n",
       "6 chr11:4601808-4602487 ATAC  0.6303807"
      ]
     },
     "metadata": {},
     "output_type": "display_data"
    }
   ],
   "source": [
    "dat = dat_peak_score_astarr\n",
    "dat = dat %>% \n",
    "    dplyr::mutate(Assay = \"ATAC\", Score = Input_FPKM) %>%\n",
    "    dplyr::select(Peak, Assay, Score) %>%\n",
    "    dplyr::filter(Peak %in% VEC_PEAKS)\n",
    "    \n",
    "dat_peak_score_atac = dat\n",
    "print(dim(dat))\n",
    "head(dat)"
   ]
  },
  {
   "cell_type": "markdown",
   "metadata": {},
   "source": [
    "**Combine**"
   ]
  },
  {
   "cell_type": "code",
   "execution_count": 16,
   "metadata": {},
   "outputs": [
    {
     "name": "stdout",
     "output_type": "stream",
     "text": [
      "\n",
      "            ASTARR               ATAC CRISPRi_Growth_Tot  CRISPRi_HCRFF_Tot \n",
      "              1722               1722               1722               1722 \n",
      "         LMPRA_Tot            Overall              TMPRA             WSTARR \n",
      "              1722               1722               1722               1722 \n",
      "\n"
     ]
    },
    {
     "data": {
      "text/plain": [
       "                   Length Class  Mode   \n",
       "ASTARR             1722   -none- numeric\n",
       "ATAC               1722   -none- numeric\n",
       "CRISPRi_Growth_Tot  708   -none- numeric\n",
       "CRISPRi_HCRFF_Tot   632   -none- numeric\n",
       "LMPRA_Tot           386   -none- numeric\n",
       "Overall            1722   -none- numeric\n",
       "TMPRA              1722   -none- numeric\n",
       "WSTARR             1722   -none- numeric"
      ]
     },
     "metadata": {},
     "output_type": "display_data"
    },
    {
     "name": "stdout",
     "output_type": "stream",
     "text": [
      "\n",
      " ASTARR \n",
      "     Min.   1st Qu.    Median      Mean   3rd Qu.      Max. \n",
      "0.0005807 0.2504355 0.5002904 0.5002904 0.7501452 1.0000000 \n",
      "\n",
      " WSTARR \n",
      "     Min.   1st Qu.    Median      Mean   3rd Qu.      Max. \n",
      "0.0005807 0.2504355 0.5002904 0.5002904 0.7501452 1.0000000 \n",
      "\n",
      " TMPRA \n",
      "     Min.   1st Qu.    Median      Mean   3rd Qu.      Max. \n",
      "0.0005807 0.2504355 0.5002904 0.5002904 0.7501452 1.0000000 \n",
      "\n",
      " Overall \n",
      "    Min.  1st Qu.   Median     Mean  3rd Qu.     Max. \n",
      "0.002129 0.346738 0.486353 0.500290 0.648326 0.997096 \n"
     ]
    }
   ],
   "source": [
    "dat = bind_rows(\n",
    "    dat_peak_score_starrmpra, \n",
    "    dat_peak_score_starrmpra_crispr,\n",
    "    dat_peak_score_atac\n",
    ")\n",
    "\n",
    "lst = split(dat, dat$Assay)\n",
    "lst = lapply(lst, function(dat){\n",
    "    vec = dat %>% \n",
    "        dplyr::select(Peak, Score) %>% \n",
    "        tibble::deframe() %>%\n",
    "        na.omit\n",
    "    return(vec)\n",
    "})\n",
    "\n",
    "### assign and show\n",
    "lst_peak_score_merge = lst\n",
    "print(table(dat$Assay))\n",
    "cat(\"\\n\")\n",
    "summary(lst)\n",
    "\n",
    "for(idx in c(\"ASTARR\", \"WSTARR\", \"TMPRA\", \"Overall\")){\n",
    "    cat(\"\\n\", idx, \"\\n\")\n",
    "    print(summary(lst[[idx]]))\n",
    "}"
   ]
  },
  {
   "cell_type": "markdown",
   "metadata": {},
   "source": [
    "**Save**"
   ]
  },
  {
   "cell_type": "code",
   "execution_count": 20,
   "metadata": {},
   "outputs": [
    {
     "name": "stdout",
     "output_type": "stream",
     "text": [
      "ASTARR \n",
      "[1] \"score_merge.astarr.rds\"\n",
      "[1] \"/data/reddylab/Kuei/out/proj_combeffect_encode_fcc/results/region/KS91_K562_ASTARRseq_peak_macs_input/enrichment_prepare_score_merge/score_merge.astarr.rds\"\n",
      "\n",
      "ATAC \n",
      "[1] \"score_merge.atac.rds\"\n",
      "[1] \"/data/reddylab/Kuei/out/proj_combeffect_encode_fcc/results/region/KS91_K562_ASTARRseq_peak_macs_input/enrichment_prepare_score_merge/score_merge.atac.rds\"\n",
      "\n",
      "CRISPRi_Growth_Tot \n",
      "[1] \"score_merge.crispri_growth_tot.rds\"\n",
      "[1] \"/data/reddylab/Kuei/out/proj_combeffect_encode_fcc/results/region/KS91_K562_ASTARRseq_peak_macs_input/enrichment_prepare_score_merge/score_merge.crispri_growth_tot.rds\"\n",
      "\n",
      "CRISPRi_HCRFF_Tot \n",
      "[1] \"score_merge.crispri_hcrff_tot.rds\"\n",
      "[1] \"/data/reddylab/Kuei/out/proj_combeffect_encode_fcc/results/region/KS91_K562_ASTARRseq_peak_macs_input/enrichment_prepare_score_merge/score_merge.crispri_hcrff_tot.rds\"\n",
      "\n",
      "LMPRA_Tot \n",
      "[1] \"score_merge.lmpra_tot.rds\"\n",
      "[1] \"/data/reddylab/Kuei/out/proj_combeffect_encode_fcc/results/region/KS91_K562_ASTARRseq_peak_macs_input/enrichment_prepare_score_merge/score_merge.lmpra_tot.rds\"\n",
      "\n",
      "Overall \n",
      "[1] \"score_merge.overall.rds\"\n",
      "[1] \"/data/reddylab/Kuei/out/proj_combeffect_encode_fcc/results/region/KS91_K562_ASTARRseq_peak_macs_input/enrichment_prepare_score_merge/score_merge.overall.rds\"\n",
      "\n",
      "TMPRA \n",
      "[1] \"score_merge.tmpra.rds\"\n",
      "[1] \"/data/reddylab/Kuei/out/proj_combeffect_encode_fcc/results/region/KS91_K562_ASTARRseq_peak_macs_input/enrichment_prepare_score_merge/score_merge.tmpra.rds\"\n",
      "\n",
      "WSTARR \n",
      "[1] \"score_merge.wstarr.rds\"\n",
      "[1] \"/data/reddylab/Kuei/out/proj_combeffect_encode_fcc/results/region/KS91_K562_ASTARRseq_peak_macs_input/enrichment_prepare_score_merge/score_merge.wstarr.rds\"\n",
      "\n"
     ]
    }
   ],
   "source": [
    "fdiry = file.path(\n",
    "    FD_RES, \n",
    "    \"results\", \n",
    "    \"region\", \n",
    "    \"KS91_K562_ASTARRseq_peak_macs_input\", \n",
    "    \"enrichment_prepare_score_merge\")\n",
    "\n",
    "lst = lst_peak_score_merge\n",
    "for(idx in names(lst)){\n",
    "    cat(idx, \"\\n\")\n",
    "    txt = tolower(idx)\n",
    "    txt = paste(\"score_merge\", txt, sep=\".\")\n",
    "    txt = paste(txt, \"rds\", sep=\".\")\n",
    "    \n",
    "    fname = txt\n",
    "    fpath = file.path(fdiry, fname)\n",
    "    print(fname)\n",
    "    print(fpath)\n",
    "    cat(\"\\n\")\n",
    "    \n",
    "    vec_peak_score = lst[[idx]]\n",
    "    saveRDS(vec_peak_score, file = fpath)\n",
    "}"
   ]
  },
  {
   "cell_type": "code",
   "execution_count": null,
   "metadata": {},
   "outputs": [],
   "source": []
  }
 ],
 "metadata": {
  "kernelspec": {
   "display_name": "R",
   "language": "R",
   "name": "ir"
  },
  "language_info": {
   "codemirror_mode": "r",
   "file_extension": ".r",
   "mimetype": "text/x-r-source",
   "name": "R",
   "pygments_lexer": "r",
   "version": "4.3.0"
  }
 },
 "nbformat": 4,
 "nbformat_minor": 4
}
