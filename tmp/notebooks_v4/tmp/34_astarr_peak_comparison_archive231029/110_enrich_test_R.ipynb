{
 "cells": [
  {
   "cell_type": "code",
   "execution_count": 9,
   "metadata": {},
   "outputs": [
    {
     "name": "stdout",
     "output_type": "stream",
     "text": [
      "You are in Singularity: singularity_proj_encode_fcc \n",
      "BASE DIRECTORY (FD_BASE): /data/reddylab/Kuei \n",
      "WORK DIRECTORY (FD_WORK): /data/reddylab/Kuei/out \n",
      "CODE DIRECTORY (FD_CODE): /data/reddylab/Kuei/code \n",
      "PATH OF PROJECT (FD_PRJ): /data/reddylab/Kuei/code/Proj_CombEffect_ENCODE_FCC \n",
      "PATH OF RESULTS (FD_RES): /data/reddylab/Kuei/out/proj_combeffect_encode_fcc \n",
      "PATH OF LOG     (FD_LOG): /data/reddylab/Kuei/out/proj_combeffect_encode_fcc/log \n"
     ]
    }
   ],
   "source": [
    "suppressMessages(suppressWarnings(source(\"../config/config_sing.R\")))\n",
    "library(fgsea)\n",
    "show_env()"
   ]
  },
  {
   "cell_type": "code",
   "execution_count": 2,
   "metadata": {},
   "outputs": [],
   "source": [
    "FDIRY        = file.path(FD_RES, \"results/region/KS91_K562_ASTARRseq_peak_macs_input\")\n",
    "FD_INP_SCORE = file.path(FDIRY,  \"enrichment_prepare_score_merge\")\n",
    "FD_INP_ANNOT = file.path(FDIRY,  \"enrichment_prepare_annot_others\")\n",
    "FD_OUT       = file.path(FDIRY,  \"enrichment_results_merge\")"
   ]
  },
  {
   "cell_type": "code",
   "execution_count": 3,
   "metadata": {},
   "outputs": [
    {
     "data": {
      "text/html": [
       "<style>\n",
       ".list-inline {list-style: none; margin:0; padding: 0}\n",
       ".list-inline>li {display: inline-block}\n",
       ".list-inline>li:not(:last-child)::after {content: \"\\00b7\"; padding: 0 .5ex}\n",
       "</style>\n",
       "<ol class=list-inline><li>'score_merge_astarr.rds'</li><li>'score_merge_crispri_growth_tot.rds'</li><li>'score_merge_crispri_hcrff_tot.rds'</li><li>'score_merge_lmpra_tot.rds'</li><li>'score_merge_overall.rds'</li><li>'score_merge_tmpra.rds'</li><li>'score_merge_wstarr.rds'</li></ol>\n"
      ],
      "text/latex": [
       "\\begin{enumerate*}\n",
       "\\item 'score\\_merge\\_astarr.rds'\n",
       "\\item 'score\\_merge\\_crispri\\_growth\\_tot.rds'\n",
       "\\item 'score\\_merge\\_crispri\\_hcrff\\_tot.rds'\n",
       "\\item 'score\\_merge\\_lmpra\\_tot.rds'\n",
       "\\item 'score\\_merge\\_overall.rds'\n",
       "\\item 'score\\_merge\\_tmpra.rds'\n",
       "\\item 'score\\_merge\\_wstarr.rds'\n",
       "\\end{enumerate*}\n"
      ],
      "text/markdown": [
       "1. 'score_merge_astarr.rds'\n",
       "2. 'score_merge_crispri_growth_tot.rds'\n",
       "3. 'score_merge_crispri_hcrff_tot.rds'\n",
       "4. 'score_merge_lmpra_tot.rds'\n",
       "5. 'score_merge_overall.rds'\n",
       "6. 'score_merge_tmpra.rds'\n",
       "7. 'score_merge_wstarr.rds'\n",
       "\n",
       "\n"
      ],
      "text/plain": [
       "[1] \"score_merge_astarr.rds\"             \"score_merge_crispri_growth_tot.rds\"\n",
       "[3] \"score_merge_crispri_hcrff_tot.rds\"  \"score_merge_lmpra_tot.rds\"         \n",
       "[5] \"score_merge_overall.rds\"            \"score_merge_tmpra.rds\"             \n",
       "[7] \"score_merge_wstarr.rds\"            "
      ]
     },
     "metadata": {},
     "output_type": "display_data"
    }
   ],
   "source": [
    "dir(FD_INP_SCORE)"
   ]
  },
  {
   "cell_type": "code",
   "execution_count": 4,
   "metadata": {},
   "outputs": [
    {
     "data": {
      "text/html": [
       "<style>\n",
       ".list-inline {list-style: none; margin:0; padding: 0}\n",
       ".list-inline>li {display: inline-block}\n",
       ".list-inline>li:not(:last-child)::after {content: \"\\00b7\"; padding: 0 .5ex}\n",
       "</style>\n",
       "<ol class=list-inline><li>'annot_ccre_v3_CTCF_only_CTCF_bound.rds'</li><li>'annot_ccre_v3_dELS_CTCF_bound.rds'</li><li>'annot_ccre_v3_dELS.rds'</li><li>'annot_ccre_v3_DNase_H3K4me3_CTCF_bound.rds'</li><li>'annot_ccre_v3_DNase_H3K4me3.rds'</li><li>'annot_ccre_v3_DNase_only.rds'</li><li>'annot_ccre_v3_Low_DNase.rds'</li><li>'annot_ccre_v3_pELS_CTCF_bound.rds'</li><li>'annot_ccre_v3_pELS.rds'</li><li>'annot_ccre_v3_PLS_CTCF_bound.rds'</li><li>'annot_ccre_v3_PLS.rds'</li><li>'annot_ccre_v4_CA_CTCF.rds'</li><li>'annot_ccre_v4_CA_H3K4me3.rds'</li><li>'annot_ccre_v4_CA_only.rds'</li><li>'annot_ccre_v4_CA_TF.rds'</li><li>'annot_ccre_v4_dELS.rds'</li><li>'annot_ccre_v4_Low_DNase.rds'</li><li>'annot_ccre_v4_pELS.rds'</li><li>'annot_ccre_v4_PLS.rds'</li><li>'annot_ChromHMM_Biv.rds'</li><li>'annot_ChromHMM_Enh1.rds'</li><li>'annot_ChromHMM_Enh2.rds'</li><li>'annot_ChromHMM_EnhG1.rds'</li><li>'annot_ChromHMM_EnhG2.rds'</li><li>'annot_ChromHMM_Het.rds'</li><li>'annot_ChromHMM_Quies.rds'</li><li>'annot_ChromHMM_ReprPC.rds'</li><li>'annot_ChromHMM_Tss.rds'</li><li>'annot_ChromHMM_TssFlnk.rds'</li><li>'annot_ChromHMM_TssFlnkD.rds'</li><li>'annot_ChromHMM_TssFlnkU.rds'</li><li>'annot_ChromHMM_Tx.rds'</li><li>'annot_ChromHMM_TxWk.rds'</li><li>'annot_ChromHMM_ZNF_Rpts.rds'</li><li>'annot_CRISPRi_HCRFF_CRISPR_CASA.rds'</li><li>'annot_Enhancer_Enhancer_STARR.rds'</li><li>'annot_Enhancer_Enhancer_ZScore_STARR.rds'</li><li>'annot_TSS_POL2_TSS.rds'</li></ol>\n"
      ],
      "text/latex": [
       "\\begin{enumerate*}\n",
       "\\item 'annot\\_ccre\\_v3\\_CTCF\\_only\\_CTCF\\_bound.rds'\n",
       "\\item 'annot\\_ccre\\_v3\\_dELS\\_CTCF\\_bound.rds'\n",
       "\\item 'annot\\_ccre\\_v3\\_dELS.rds'\n",
       "\\item 'annot\\_ccre\\_v3\\_DNase\\_H3K4me3\\_CTCF\\_bound.rds'\n",
       "\\item 'annot\\_ccre\\_v3\\_DNase\\_H3K4me3.rds'\n",
       "\\item 'annot\\_ccre\\_v3\\_DNase\\_only.rds'\n",
       "\\item 'annot\\_ccre\\_v3\\_Low\\_DNase.rds'\n",
       "\\item 'annot\\_ccre\\_v3\\_pELS\\_CTCF\\_bound.rds'\n",
       "\\item 'annot\\_ccre\\_v3\\_pELS.rds'\n",
       "\\item 'annot\\_ccre\\_v3\\_PLS\\_CTCF\\_bound.rds'\n",
       "\\item 'annot\\_ccre\\_v3\\_PLS.rds'\n",
       "\\item 'annot\\_ccre\\_v4\\_CA\\_CTCF.rds'\n",
       "\\item 'annot\\_ccre\\_v4\\_CA\\_H3K4me3.rds'\n",
       "\\item 'annot\\_ccre\\_v4\\_CA\\_only.rds'\n",
       "\\item 'annot\\_ccre\\_v4\\_CA\\_TF.rds'\n",
       "\\item 'annot\\_ccre\\_v4\\_dELS.rds'\n",
       "\\item 'annot\\_ccre\\_v4\\_Low\\_DNase.rds'\n",
       "\\item 'annot\\_ccre\\_v4\\_pELS.rds'\n",
       "\\item 'annot\\_ccre\\_v4\\_PLS.rds'\n",
       "\\item 'annot\\_ChromHMM\\_Biv.rds'\n",
       "\\item 'annot\\_ChromHMM\\_Enh1.rds'\n",
       "\\item 'annot\\_ChromHMM\\_Enh2.rds'\n",
       "\\item 'annot\\_ChromHMM\\_EnhG1.rds'\n",
       "\\item 'annot\\_ChromHMM\\_EnhG2.rds'\n",
       "\\item 'annot\\_ChromHMM\\_Het.rds'\n",
       "\\item 'annot\\_ChromHMM\\_Quies.rds'\n",
       "\\item 'annot\\_ChromHMM\\_ReprPC.rds'\n",
       "\\item 'annot\\_ChromHMM\\_Tss.rds'\n",
       "\\item 'annot\\_ChromHMM\\_TssFlnk.rds'\n",
       "\\item 'annot\\_ChromHMM\\_TssFlnkD.rds'\n",
       "\\item 'annot\\_ChromHMM\\_TssFlnkU.rds'\n",
       "\\item 'annot\\_ChromHMM\\_Tx.rds'\n",
       "\\item 'annot\\_ChromHMM\\_TxWk.rds'\n",
       "\\item 'annot\\_ChromHMM\\_ZNF\\_Rpts.rds'\n",
       "\\item 'annot\\_CRISPRi\\_HCRFF\\_CRISPR\\_CASA.rds'\n",
       "\\item 'annot\\_Enhancer\\_Enhancer\\_STARR.rds'\n",
       "\\item 'annot\\_Enhancer\\_Enhancer\\_ZScore\\_STARR.rds'\n",
       "\\item 'annot\\_TSS\\_POL2\\_TSS.rds'\n",
       "\\end{enumerate*}\n"
      ],
      "text/markdown": [
       "1. 'annot_ccre_v3_CTCF_only_CTCF_bound.rds'\n",
       "2. 'annot_ccre_v3_dELS_CTCF_bound.rds'\n",
       "3. 'annot_ccre_v3_dELS.rds'\n",
       "4. 'annot_ccre_v3_DNase_H3K4me3_CTCF_bound.rds'\n",
       "5. 'annot_ccre_v3_DNase_H3K4me3.rds'\n",
       "6. 'annot_ccre_v3_DNase_only.rds'\n",
       "7. 'annot_ccre_v3_Low_DNase.rds'\n",
       "8. 'annot_ccre_v3_pELS_CTCF_bound.rds'\n",
       "9. 'annot_ccre_v3_pELS.rds'\n",
       "10. 'annot_ccre_v3_PLS_CTCF_bound.rds'\n",
       "11. 'annot_ccre_v3_PLS.rds'\n",
       "12. 'annot_ccre_v4_CA_CTCF.rds'\n",
       "13. 'annot_ccre_v4_CA_H3K4me3.rds'\n",
       "14. 'annot_ccre_v4_CA_only.rds'\n",
       "15. 'annot_ccre_v4_CA_TF.rds'\n",
       "16. 'annot_ccre_v4_dELS.rds'\n",
       "17. 'annot_ccre_v4_Low_DNase.rds'\n",
       "18. 'annot_ccre_v4_pELS.rds'\n",
       "19. 'annot_ccre_v4_PLS.rds'\n",
       "20. 'annot_ChromHMM_Biv.rds'\n",
       "21. 'annot_ChromHMM_Enh1.rds'\n",
       "22. 'annot_ChromHMM_Enh2.rds'\n",
       "23. 'annot_ChromHMM_EnhG1.rds'\n",
       "24. 'annot_ChromHMM_EnhG2.rds'\n",
       "25. 'annot_ChromHMM_Het.rds'\n",
       "26. 'annot_ChromHMM_Quies.rds'\n",
       "27. 'annot_ChromHMM_ReprPC.rds'\n",
       "28. 'annot_ChromHMM_Tss.rds'\n",
       "29. 'annot_ChromHMM_TssFlnk.rds'\n",
       "30. 'annot_ChromHMM_TssFlnkD.rds'\n",
       "31. 'annot_ChromHMM_TssFlnkU.rds'\n",
       "32. 'annot_ChromHMM_Tx.rds'\n",
       "33. 'annot_ChromHMM_TxWk.rds'\n",
       "34. 'annot_ChromHMM_ZNF_Rpts.rds'\n",
       "35. 'annot_CRISPRi_HCRFF_CRISPR_CASA.rds'\n",
       "36. 'annot_Enhancer_Enhancer_STARR.rds'\n",
       "37. 'annot_Enhancer_Enhancer_ZScore_STARR.rds'\n",
       "38. 'annot_TSS_POL2_TSS.rds'\n",
       "\n",
       "\n"
      ],
      "text/plain": [
       " [1] \"annot_ccre_v3_CTCF_only_CTCF_bound.rds\"    \n",
       " [2] \"annot_ccre_v3_dELS_CTCF_bound.rds\"         \n",
       " [3] \"annot_ccre_v3_dELS.rds\"                    \n",
       " [4] \"annot_ccre_v3_DNase_H3K4me3_CTCF_bound.rds\"\n",
       " [5] \"annot_ccre_v3_DNase_H3K4me3.rds\"           \n",
       " [6] \"annot_ccre_v3_DNase_only.rds\"              \n",
       " [7] \"annot_ccre_v3_Low_DNase.rds\"               \n",
       " [8] \"annot_ccre_v3_pELS_CTCF_bound.rds\"         \n",
       " [9] \"annot_ccre_v3_pELS.rds\"                    \n",
       "[10] \"annot_ccre_v3_PLS_CTCF_bound.rds\"          \n",
       "[11] \"annot_ccre_v3_PLS.rds\"                     \n",
       "[12] \"annot_ccre_v4_CA_CTCF.rds\"                 \n",
       "[13] \"annot_ccre_v4_CA_H3K4me3.rds\"              \n",
       "[14] \"annot_ccre_v4_CA_only.rds\"                 \n",
       "[15] \"annot_ccre_v4_CA_TF.rds\"                   \n",
       "[16] \"annot_ccre_v4_dELS.rds\"                    \n",
       "[17] \"annot_ccre_v4_Low_DNase.rds\"               \n",
       "[18] \"annot_ccre_v4_pELS.rds\"                    \n",
       "[19] \"annot_ccre_v4_PLS.rds\"                     \n",
       "[20] \"annot_ChromHMM_Biv.rds\"                    \n",
       "[21] \"annot_ChromHMM_Enh1.rds\"                   \n",
       "[22] \"annot_ChromHMM_Enh2.rds\"                   \n",
       "[23] \"annot_ChromHMM_EnhG1.rds\"                  \n",
       "[24] \"annot_ChromHMM_EnhG2.rds\"                  \n",
       "[25] \"annot_ChromHMM_Het.rds\"                    \n",
       "[26] \"annot_ChromHMM_Quies.rds\"                  \n",
       "[27] \"annot_ChromHMM_ReprPC.rds\"                 \n",
       "[28] \"annot_ChromHMM_Tss.rds\"                    \n",
       "[29] \"annot_ChromHMM_TssFlnk.rds\"                \n",
       "[30] \"annot_ChromHMM_TssFlnkD.rds\"               \n",
       "[31] \"annot_ChromHMM_TssFlnkU.rds\"               \n",
       "[32] \"annot_ChromHMM_Tx.rds\"                     \n",
       "[33] \"annot_ChromHMM_TxWk.rds\"                   \n",
       "[34] \"annot_ChromHMM_ZNF_Rpts.rds\"               \n",
       "[35] \"annot_CRISPRi_HCRFF_CRISPR_CASA.rds\"       \n",
       "[36] \"annot_Enhancer_Enhancer_STARR.rds\"         \n",
       "[37] \"annot_Enhancer_Enhancer_ZScore_STARR.rds\"  \n",
       "[38] \"annot_TSS_POL2_TSS.rds\"                    "
      ]
     },
     "metadata": {},
     "output_type": "display_data"
    }
   ],
   "source": [
    "dir(FD_INP_ANNOT)"
   ]
  },
  {
   "cell_type": "code",
   "execution_count": 8,
   "metadata": {},
   "outputs": [
    {
     "name": "stdout",
     "output_type": "stream",
     "text": [
      "[1] \"numeric\"\n",
      "[1] \"list\"\n"
     ]
    }
   ],
   "source": [
    "FN_INP_SCORE = \"score_merge_astarr.rds\"\n",
    "FP_INP_SCORE = file.path(FD_INP_SCORE, FN_INP_SCORE)\n",
    "\n",
    "FN_INP_ANNOT = \"annot_ccre_v3_CTCF_only_CTCF_bound.rds\"\n",
    "FP_INP_ANNOT = file.path(FD_INP_ANNOT, FN_INP_ANNOT)\n",
    "\n",
    "vec_score = readRDS(FP_INP_SCORE)\n",
    "lst_annot = readRDS(FP_INP_ANNOT)\n",
    "\n",
    "print(class(vec_score))\n",
    "print(class(lst_annot))"
   ]
  },
  {
   "cell_type": "code",
   "execution_count": 13,
   "metadata": {},
   "outputs": [
    {
     "name": "stdout",
     "output_type": "stream",
     "text": [
      "[1] 1\n",
      "[1] 12088\n"
     ]
    }
   ],
   "source": [
    "lst = lst_annot\n",
    "vec = lst[[1]]\n",
    "print(length(lst))\n",
    "print(length(vec))"
   ]
  },
  {
   "cell_type": "code",
   "execution_count": 14,
   "metadata": {},
   "outputs": [
    {
     "data": {
      "text/html": [
       "<style>\n",
       ".list-inline {list-style: none; margin:0; padding: 0}\n",
       ".list-inline>li {display: inline-block}\n",
       ".list-inline>li:not(:last-child)::after {content: \"\\00b7\"; padding: 0 .5ex}\n",
       "</style>\n",
       "<ol class=list-inline><li>'chr10_100045961_100046653'</li><li>'chr10_100338359_100339077'</li><li>'chr10_100342247_100342824'</li><li>'chr10_100433434_100434444'</li><li>'chr10_100561032_100563457'</li><li>'chr10_100670731_100671588'</li></ol>\n"
      ],
      "text/latex": [
       "\\begin{enumerate*}\n",
       "\\item 'chr10\\_100045961\\_100046653'\n",
       "\\item 'chr10\\_100338359\\_100339077'\n",
       "\\item 'chr10\\_100342247\\_100342824'\n",
       "\\item 'chr10\\_100433434\\_100434444'\n",
       "\\item 'chr10\\_100561032\\_100563457'\n",
       "\\item 'chr10\\_100670731\\_100671588'\n",
       "\\end{enumerate*}\n"
      ],
      "text/markdown": [
       "1. 'chr10_100045961_100046653'\n",
       "2. 'chr10_100338359_100339077'\n",
       "3. 'chr10_100342247_100342824'\n",
       "4. 'chr10_100433434_100434444'\n",
       "5. 'chr10_100561032_100563457'\n",
       "6. 'chr10_100670731_100671588'\n",
       "\n",
       "\n"
      ],
      "text/plain": [
       "[1] \"chr10_100045961_100046653\" \"chr10_100338359_100339077\"\n",
       "[3] \"chr10_100342247_100342824\" \"chr10_100433434_100434444\"\n",
       "[5] \"chr10_100561032_100563457\" \"chr10_100670731_100671588\""
      ]
     },
     "metadata": {},
     "output_type": "display_data"
    }
   ],
   "source": [
    "head(vec)"
   ]
  },
  {
   "cell_type": "code",
   "execution_count": 11,
   "metadata": {},
   "outputs": [
    {
     "name": "stdout",
     "output_type": "stream",
     "text": [
      "Empty data.table (0 rows and 8 cols): pathway,pval,padj,log2err,ES,NES...\n"
     ]
    }
   ],
   "source": [
    "fgseaRes = fgsea(\n",
    "    pathways  = lst_annot, \n",
    "    stats     = vec_score,\n",
    "    eps       = 0.0,\n",
    "    scoreType = \"pos\"\n",
    ")\n",
    "print(fgseaRes)"
   ]
  },
  {
   "cell_type": "code",
   "execution_count": 7,
   "metadata": {},
   "outputs": [
    {
     "data": {
      "text/html": [
       "<style>\n",
       ".dl-inline {width: auto; margin:0; padding: 0}\n",
       ".dl-inline>dt, .dl-inline>dd {float: none; width: auto; display: inline-block}\n",
       ".dl-inline>dt::after {content: \":\\0020\"; padding-right: .5ex}\n",
       ".dl-inline>dt:not(:first-of-type) {padding-left: .5ex}\n",
       "</style><dl class=dl-inline><dt>chr11:4539569-4540043</dt><dd>0.655052264808362</dd><dt>chr11:4551336-4552012</dt><dd>0.75609756097561</dd><dt>chr11:4553969-4555012</dt><dd>0.655632984901278</dd><dt>chr11:4569016-4569992</dt><dd>0.567363530778165</dd><dt>chr11:4577444-4578031</dt><dd>0.715447154471545</dd><dt>chr11:4601808-4602487</dt><dd>0.127758420441347</dd></dl>\n"
      ],
      "text/latex": [
       "\\begin{description*}\n",
       "\\item[chr11:4539569-4540043] 0.655052264808362\n",
       "\\item[chr11:4551336-4552012] 0.75609756097561\n",
       "\\item[chr11:4553969-4555012] 0.655632984901278\n",
       "\\item[chr11:4569016-4569992] 0.567363530778165\n",
       "\\item[chr11:4577444-4578031] 0.715447154471545\n",
       "\\item[chr11:4601808-4602487] 0.127758420441347\n",
       "\\end{description*}\n"
      ],
      "text/markdown": [
       "chr11:4539569-4540043\n",
       ":   0.655052264808362chr11:4551336-4552012\n",
       ":   0.75609756097561chr11:4553969-4555012\n",
       ":   0.655632984901278chr11:4569016-4569992\n",
       ":   0.567363530778165chr11:4577444-4578031\n",
       ":   0.715447154471545chr11:4601808-4602487\n",
       ":   0.127758420441347\n",
       "\n"
      ],
      "text/plain": [
       "chr11:4539569-4540043 chr11:4551336-4552012 chr11:4553969-4555012 \n",
       "            0.6550523             0.7560976             0.6556330 \n",
       "chr11:4569016-4569992 chr11:4577444-4578031 chr11:4601808-4602487 \n",
       "            0.5673635             0.7154472             0.1277584 "
      ]
     },
     "metadata": {},
     "output_type": "display_data"
    }
   ],
   "source": [
    "head(vec_score )"
   ]
  },
  {
   "cell_type": "code",
   "execution_count": null,
   "metadata": {},
   "outputs": [],
   "source": []
  }
 ],
 "metadata": {
  "kernelspec": {
   "display_name": "R",
   "language": "R",
   "name": "ir"
  },
  "language_info": {
   "codemirror_mode": "r",
   "file_extension": ".r",
   "mimetype": "text/x-r-source",
   "name": "R",
   "pygments_lexer": "r",
   "version": "4.3.0"
  }
 },
 "nbformat": 4,
 "nbformat_minor": 4
}
