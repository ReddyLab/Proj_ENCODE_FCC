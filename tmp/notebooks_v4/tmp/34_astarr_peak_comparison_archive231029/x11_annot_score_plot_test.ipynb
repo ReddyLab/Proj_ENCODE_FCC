{
 "cells": [
  {
   "cell_type": "code",
   "execution_count": 1,
   "metadata": {},
   "outputs": [
    {
     "name": "stdout",
     "output_type": "stream",
     "text": [
      "You are in Singularity: singularity_proj_encode_fcc \n",
      "BASE DIRECTORY (FD_BASE): /data/reddylab/Kuei \n",
      "WORK DIRECTORY (FD_WORK): /data/reddylab/Kuei/out \n",
      "CODE DIRECTORY (FD_CODE): /data/reddylab/Kuei/code \n",
      "PATH OF PROJECT (FD_PRJ): /data/reddylab/Kuei/code/Proj_CombEffect_ENCODE_FCC \n",
      "PATH OF RESULTS (FD_RES): /data/reddylab/Kuei/out/proj_combeffect_encode_fcc \n",
      "PATH OF LOG     (FD_LOG): /data/reddylab/Kuei/out/proj_combeffect_encode_fcc/log \n"
     ]
    }
   ],
   "source": [
    "suppressMessages(suppressWarnings(source(\"../config/config_sing.R\")))\n",
    "show_env()"
   ]
  },
  {
   "cell_type": "markdown",
   "metadata": {},
   "source": [
    "## Import RankNorm"
   ]
  },
  {
   "cell_type": "code",
   "execution_count": 2,
   "metadata": {},
   "outputs": [
    {
     "name": "stderr",
     "output_type": "stream",
     "text": [
      "\u001b[1mRows: \u001b[22m\u001b[34m5166\u001b[39m \u001b[1mColumns: \u001b[22m\u001b[34m10\u001b[39m\n",
      "\u001b[36m──\u001b[39m \u001b[1mColumn specification\u001b[22m \u001b[36m───────────────────────────────────────────────────────────────────────\u001b[39m\n",
      "\u001b[1mDelimiter:\u001b[22m \"\\t\"\n",
      "\u001b[31mchr\u001b[39m (6): Chrom, Peak, TMPRA_Gene, TMPRA_Dataset, CRISPR_HCFF, Assay\n",
      "\u001b[32mdbl\u001b[39m (4): Start, End, Log2FC, RankNorm_Total\n",
      "\n",
      "\u001b[36mℹ\u001b[39m Use `spec()` to retrieve the full column specification for this data.\n",
      "\u001b[36mℹ\u001b[39m Specify the column types or set `show_col_types = FALSE` to quiet this message.\n"
     ]
    },
    {
     "name": "stdout",
     "output_type": "stream",
     "text": [
      "[1] 5166   10\n"
     ]
    },
    {
     "data": {
      "text/html": [
       "<table class=\"dataframe\">\n",
       "<caption>A tibble: 6 × 10</caption>\n",
       "<thead>\n",
       "\t<tr><th scope=col>Chrom</th><th scope=col>Start</th><th scope=col>End</th><th scope=col>Peak</th><th scope=col>TMPRA_Gene</th><th scope=col>TMPRA_Dataset</th><th scope=col>CRISPR_HCFF</th><th scope=col>Assay</th><th scope=col>Log2FC</th><th scope=col>RankNorm_Total</th></tr>\n",
       "\t<tr><th scope=col>&lt;chr&gt;</th><th scope=col>&lt;dbl&gt;</th><th scope=col>&lt;dbl&gt;</th><th scope=col>&lt;chr&gt;</th><th scope=col>&lt;chr&gt;</th><th scope=col>&lt;chr&gt;</th><th scope=col>&lt;chr&gt;</th><th scope=col>&lt;chr&gt;</th><th scope=col>&lt;dbl&gt;</th><th scope=col>&lt;dbl&gt;</th></tr>\n",
       "</thead>\n",
       "<tbody>\n",
       "\t<tr><td>chr11</td><td>4539569</td><td>4540043</td><td>chr11_4539569_4540043</td><td>HBE1</td><td>OL45</td><td>HBE1,HBG1,HBG2,HBS1L,MYB</td><td>ASTARR</td><td> 0.14501695</td><td>0.6550523</td></tr>\n",
       "\t<tr><td>chr11</td><td>4551336</td><td>4552012</td><td>chr11_4551336_4552012</td><td>HBE1</td><td>OL45</td><td>NA                      </td><td>ASTARR</td><td> 0.32125162</td><td>0.7560976</td></tr>\n",
       "\t<tr><td>chr11</td><td>4553969</td><td>4555012</td><td>chr11_4553969_4555012</td><td>HBE1</td><td>OL45</td><td>NA                      </td><td>ASTARR</td><td> 0.14529397</td><td>0.6556330</td></tr>\n",
       "\t<tr><td>chr11</td><td>4569016</td><td>4569992</td><td>chr11_4569016_4569992</td><td>HBE1</td><td>OL45</td><td>NA                      </td><td>ASTARR</td><td> 0.01136464</td><td>0.5673635</td></tr>\n",
       "\t<tr><td>chr11</td><td>4577444</td><td>4578031</td><td>chr11_4577444_4578031</td><td>HBE1</td><td>OL45</td><td>NA                      </td><td>ASTARR</td><td> 0.24524353</td><td>0.7154472</td></tr>\n",
       "\t<tr><td>chr11</td><td>4601808</td><td>4602487</td><td>chr11_4601808_4602487</td><td>HBE1</td><td>OL45</td><td>NA                      </td><td>ASTARR</td><td>-0.57215284</td><td>0.1277584</td></tr>\n",
       "</tbody>\n",
       "</table>\n"
      ],
      "text/latex": [
       "A tibble: 6 × 10\n",
       "\\begin{tabular}{llllllllll}\n",
       " Chrom & Start & End & Peak & TMPRA\\_Gene & TMPRA\\_Dataset & CRISPR\\_HCFF & Assay & Log2FC & RankNorm\\_Total\\\\\n",
       " <chr> & <dbl> & <dbl> & <chr> & <chr> & <chr> & <chr> & <chr> & <dbl> & <dbl>\\\\\n",
       "\\hline\n",
       "\t chr11 & 4539569 & 4540043 & chr11\\_4539569\\_4540043 & HBE1 & OL45 & HBE1,HBG1,HBG2,HBS1L,MYB & ASTARR &  0.14501695 & 0.6550523\\\\\n",
       "\t chr11 & 4551336 & 4552012 & chr11\\_4551336\\_4552012 & HBE1 & OL45 & NA                       & ASTARR &  0.32125162 & 0.7560976\\\\\n",
       "\t chr11 & 4553969 & 4555012 & chr11\\_4553969\\_4555012 & HBE1 & OL45 & NA                       & ASTARR &  0.14529397 & 0.6556330\\\\\n",
       "\t chr11 & 4569016 & 4569992 & chr11\\_4569016\\_4569992 & HBE1 & OL45 & NA                       & ASTARR &  0.01136464 & 0.5673635\\\\\n",
       "\t chr11 & 4577444 & 4578031 & chr11\\_4577444\\_4578031 & HBE1 & OL45 & NA                       & ASTARR &  0.24524353 & 0.7154472\\\\\n",
       "\t chr11 & 4601808 & 4602487 & chr11\\_4601808\\_4602487 & HBE1 & OL45 & NA                       & ASTARR & -0.57215284 & 0.1277584\\\\\n",
       "\\end{tabular}\n"
      ],
      "text/markdown": [
       "\n",
       "A tibble: 6 × 10\n",
       "\n",
       "| Chrom &lt;chr&gt; | Start &lt;dbl&gt; | End &lt;dbl&gt; | Peak &lt;chr&gt; | TMPRA_Gene &lt;chr&gt; | TMPRA_Dataset &lt;chr&gt; | CRISPR_HCFF &lt;chr&gt; | Assay &lt;chr&gt; | Log2FC &lt;dbl&gt; | RankNorm_Total &lt;dbl&gt; |\n",
       "|---|---|---|---|---|---|---|---|---|---|\n",
       "| chr11 | 4539569 | 4540043 | chr11_4539569_4540043 | HBE1 | OL45 | HBE1,HBG1,HBG2,HBS1L,MYB | ASTARR |  0.14501695 | 0.6550523 |\n",
       "| chr11 | 4551336 | 4552012 | chr11_4551336_4552012 | HBE1 | OL45 | NA                       | ASTARR |  0.32125162 | 0.7560976 |\n",
       "| chr11 | 4553969 | 4555012 | chr11_4553969_4555012 | HBE1 | OL45 | NA                       | ASTARR |  0.14529397 | 0.6556330 |\n",
       "| chr11 | 4569016 | 4569992 | chr11_4569016_4569992 | HBE1 | OL45 | NA                       | ASTARR |  0.01136464 | 0.5673635 |\n",
       "| chr11 | 4577444 | 4578031 | chr11_4577444_4578031 | HBE1 | OL45 | NA                       | ASTARR |  0.24524353 | 0.7154472 |\n",
       "| chr11 | 4601808 | 4602487 | chr11_4601808_4602487 | HBE1 | OL45 | NA                       | ASTARR | -0.57215284 | 0.1277584 |\n",
       "\n"
      ],
      "text/plain": [
       "  Chrom Start   End     Peak                  TMPRA_Gene TMPRA_Dataset\n",
       "1 chr11 4539569 4540043 chr11_4539569_4540043 HBE1       OL45         \n",
       "2 chr11 4551336 4552012 chr11_4551336_4552012 HBE1       OL45         \n",
       "3 chr11 4553969 4555012 chr11_4553969_4555012 HBE1       OL45         \n",
       "4 chr11 4569016 4569992 chr11_4569016_4569992 HBE1       OL45         \n",
       "5 chr11 4577444 4578031 chr11_4577444_4578031 HBE1       OL45         \n",
       "6 chr11 4601808 4602487 chr11_4601808_4602487 HBE1       OL45         \n",
       "  CRISPR_HCFF              Assay  Log2FC      RankNorm_Total\n",
       "1 HBE1,HBG1,HBG2,HBS1L,MYB ASTARR  0.14501695 0.6550523     \n",
       "2 NA                       ASTARR  0.32125162 0.7560976     \n",
       "3 NA                       ASTARR  0.14529397 0.6556330     \n",
       "4 NA                       ASTARR  0.01136464 0.5673635     \n",
       "5 NA                       ASTARR  0.24524353 0.7154472     \n",
       "6 NA                       ASTARR -0.57215284 0.1277584     "
      ]
     },
     "metadata": {},
     "output_type": "display_data"
    }
   ],
   "source": [
    "### set file directories\n",
    "fdiry = file.path(FD_RES, \"results\", \"comparison\")\n",
    "fname = \"result.ranknorm.starrmpra.tsv\"\n",
    "fpath = file.path(fdiry, fname)\n",
    "\n",
    "### read data\n",
    "dat = read_tsv(fpath)\n",
    "\n",
    "### assign and show\n",
    "dat_peak_log2fc = dat\n",
    "print(dim(dat))\n",
    "head(dat)"
   ]
  },
  {
   "cell_type": "markdown",
   "metadata": {},
   "source": [
    "## Import annotation"
   ]
  },
  {
   "cell_type": "code",
   "execution_count": 3,
   "metadata": {},
   "outputs": [
    {
     "name": "stderr",
     "output_type": "stream",
     "text": [
      "\u001b[1mRows: \u001b[22m\u001b[34m16537\u001b[39m \u001b[1mColumns: \u001b[22m\u001b[34m4\u001b[39m\n",
      "\u001b[36m──\u001b[39m \u001b[1mColumn specification\u001b[22m \u001b[36m───────────────────────────────────────────────────────────────────────\u001b[39m\n",
      "\u001b[1mDelimiter:\u001b[22m \"\\t\"\n",
      "\u001b[31mchr\u001b[39m (3): Peak, Name, Annotate\n",
      "\u001b[32mdbl\u001b[39m (1): Count\n",
      "\n",
      "\u001b[36mℹ\u001b[39m Use `spec()` to retrieve the full column specification for this data.\n",
      "\u001b[36mℹ\u001b[39m Specify the column types or set `show_col_types = FALSE` to quiet this message.\n"
     ]
    },
    {
     "name": "stdout",
     "output_type": "stream",
     "text": [
      "[1] 16537     4\n"
     ]
    },
    {
     "data": {
      "text/html": [
       "<table class=\"dataframe\">\n",
       "<caption>A tibble: 6 × 4</caption>\n",
       "<thead>\n",
       "\t<tr><th scope=col>Peak</th><th scope=col>Name</th><th scope=col>Count</th><th scope=col>Annotate</th></tr>\n",
       "\t<tr><th scope=col>&lt;chr&gt;</th><th scope=col>&lt;chr&gt;</th><th scope=col>&lt;dbl&gt;</th><th scope=col>&lt;chr&gt;</th></tr>\n",
       "</thead>\n",
       "<tbody>\n",
       "\t<tr><td>chr10_100228452_100230090</td><td>Enhancer_ASTARR</td><td>1</td><td>chr10_100229600_100229770                          </td></tr>\n",
       "\t<tr><td>chr10_100267066_100268374</td><td>Enhancer_ASTARR</td><td>1</td><td>chr10_100267660_100267770                          </td></tr>\n",
       "\t<tr><td>chr10_100373060_100374238</td><td>Enhancer_ASTARR</td><td>1</td><td>chr10_100373870_100374200                          </td></tr>\n",
       "\t<tr><td>chr10_100528900_100530538</td><td>Enhancer_ASTARR</td><td>2</td><td>chr10_100529730_100529820,chr10_100529840_100529970</td></tr>\n",
       "\t<tr><td>chr10_100535377_100536237</td><td>Enhancer_ASTARR</td><td>1</td><td>chr10_100535720_100536060                          </td></tr>\n",
       "\t<tr><td>chr10_101042559_101043551</td><td>Enhancer_ASTARR</td><td>2</td><td>chr10_101042970_101043060,chr10_101043080_101043180</td></tr>\n",
       "</tbody>\n",
       "</table>\n"
      ],
      "text/latex": [
       "A tibble: 6 × 4\n",
       "\\begin{tabular}{llll}\n",
       " Peak & Name & Count & Annotate\\\\\n",
       " <chr> & <chr> & <dbl> & <chr>\\\\\n",
       "\\hline\n",
       "\t chr10\\_100228452\\_100230090 & Enhancer\\_ASTARR & 1 & chr10\\_100229600\\_100229770                          \\\\\n",
       "\t chr10\\_100267066\\_100268374 & Enhancer\\_ASTARR & 1 & chr10\\_100267660\\_100267770                          \\\\\n",
       "\t chr10\\_100373060\\_100374238 & Enhancer\\_ASTARR & 1 & chr10\\_100373870\\_100374200                          \\\\\n",
       "\t chr10\\_100528900\\_100530538 & Enhancer\\_ASTARR & 2 & chr10\\_100529730\\_100529820,chr10\\_100529840\\_100529970\\\\\n",
       "\t chr10\\_100535377\\_100536237 & Enhancer\\_ASTARR & 1 & chr10\\_100535720\\_100536060                          \\\\\n",
       "\t chr10\\_101042559\\_101043551 & Enhancer\\_ASTARR & 2 & chr10\\_101042970\\_101043060,chr10\\_101043080\\_101043180\\\\\n",
       "\\end{tabular}\n"
      ],
      "text/markdown": [
       "\n",
       "A tibble: 6 × 4\n",
       "\n",
       "| Peak &lt;chr&gt; | Name &lt;chr&gt; | Count &lt;dbl&gt; | Annotate &lt;chr&gt; |\n",
       "|---|---|---|---|\n",
       "| chr10_100228452_100230090 | Enhancer_ASTARR | 1 | chr10_100229600_100229770                           |\n",
       "| chr10_100267066_100268374 | Enhancer_ASTARR | 1 | chr10_100267660_100267770                           |\n",
       "| chr10_100373060_100374238 | Enhancer_ASTARR | 1 | chr10_100373870_100374200                           |\n",
       "| chr10_100528900_100530538 | Enhancer_ASTARR | 2 | chr10_100529730_100529820,chr10_100529840_100529970 |\n",
       "| chr10_100535377_100536237 | Enhancer_ASTARR | 1 | chr10_100535720_100536060                           |\n",
       "| chr10_101042559_101043551 | Enhancer_ASTARR | 2 | chr10_101042970_101043060,chr10_101043080_101043180 |\n",
       "\n"
      ],
      "text/plain": [
       "  Peak                      Name            Count\n",
       "1 chr10_100228452_100230090 Enhancer_ASTARR 1    \n",
       "2 chr10_100267066_100268374 Enhancer_ASTARR 1    \n",
       "3 chr10_100373060_100374238 Enhancer_ASTARR 1    \n",
       "4 chr10_100528900_100530538 Enhancer_ASTARR 2    \n",
       "5 chr10_100535377_100536237 Enhancer_ASTARR 1    \n",
       "6 chr10_101042559_101043551 Enhancer_ASTARR 2    \n",
       "  Annotate                                           \n",
       "1 chr10_100229600_100229770                          \n",
       "2 chr10_100267660_100267770                          \n",
       "3 chr10_100373870_100374200                          \n",
       "4 chr10_100529730_100529820,chr10_100529840_100529970\n",
       "5 chr10_100535720_100536060                          \n",
       "6 chr10_101042970_101043060,chr10_101043080_101043180"
      ]
     },
     "metadata": {},
     "output_type": "display_data"
    }
   ],
   "source": [
    "fdiry = file.path(FD_RES, \"results\", \"region\", \"KS91_K562_ASTARRseq_peak_macs_input\")\n",
    "fname = \"peak.summary.enhancer_junke_peak_astarr.tsv\"\n",
    "fpath = file.path(fdiry, fname)\n",
    "\n",
    "dat = read_tsv(fpath)\n",
    "\n",
    "dat_peak_annot_enhancer_astarr = dat\n",
    "print(dim(dat))\n",
    "head(dat)"
   ]
  },
  {
   "cell_type": "code",
   "execution_count": 4,
   "metadata": {},
   "outputs": [
    {
     "name": "stderr",
     "output_type": "stream",
     "text": [
      "\u001b[1mRows: \u001b[22m\u001b[34m20947\u001b[39m \u001b[1mColumns: \u001b[22m\u001b[34m4\u001b[39m\n",
      "\u001b[36m──\u001b[39m \u001b[1mColumn specification\u001b[22m \u001b[36m───────────────────────────────────────────────────────────────────────\u001b[39m\n",
      "\u001b[1mDelimiter:\u001b[22m \"\\t\"\n",
      "\u001b[31mchr\u001b[39m (3): Peak, Name, Annotate\n",
      "\u001b[32mdbl\u001b[39m (1): Count\n",
      "\n",
      "\u001b[36mℹ\u001b[39m Use `spec()` to retrieve the full column specification for this data.\n",
      "\u001b[36mℹ\u001b[39m Specify the column types or set `show_col_types = FALSE` to quiet this message.\n"
     ]
    },
    {
     "name": "stdout",
     "output_type": "stream",
     "text": [
      "[1] 20947     4\n"
     ]
    },
    {
     "data": {
      "text/html": [
       "<table class=\"dataframe\">\n",
       "<caption>A tibble: 6 × 4</caption>\n",
       "<thead>\n",
       "\t<tr><th scope=col>Peak</th><th scope=col>Name</th><th scope=col>Count</th><th scope=col>Annotate</th></tr>\n",
       "\t<tr><th scope=col>&lt;chr&gt;</th><th scope=col>&lt;chr&gt;</th><th scope=col>&lt;dbl&gt;</th><th scope=col>&lt;chr&gt;</th></tr>\n",
       "</thead>\n",
       "<tbody>\n",
       "\t<tr><td>chr10_100009096_100010466</td><td>Enhancer_WSTARR</td><td>2</td><td>chr10_100009900_100009950,chr10_100010000_100010030</td></tr>\n",
       "\t<tr><td>chr10_100185017_100187275</td><td>Enhancer_WSTARR</td><td>1</td><td>chr10_100185860_100186300                          </td></tr>\n",
       "\t<tr><td>chr10_100267066_100268374</td><td>Enhancer_WSTARR</td><td>1</td><td>chr10_100267670_100267780                          </td></tr>\n",
       "\t<tr><td>chr10_100285974_100287341</td><td>Enhancer_WSTARR</td><td>2</td><td>chr10_100286470_100286500,chr10_100286550_100286830</td></tr>\n",
       "\t<tr><td>chr10_100346328_100347693</td><td>Enhancer_WSTARR</td><td>1</td><td>chr10_100346760_100347200                          </td></tr>\n",
       "\t<tr><td>chr10_100373060_100374238</td><td>Enhancer_WSTARR</td><td>2</td><td>chr10_100373130_100373290,chr10_100373410_100374270</td></tr>\n",
       "</tbody>\n",
       "</table>\n"
      ],
      "text/latex": [
       "A tibble: 6 × 4\n",
       "\\begin{tabular}{llll}\n",
       " Peak & Name & Count & Annotate\\\\\n",
       " <chr> & <chr> & <dbl> & <chr>\\\\\n",
       "\\hline\n",
       "\t chr10\\_100009096\\_100010466 & Enhancer\\_WSTARR & 2 & chr10\\_100009900\\_100009950,chr10\\_100010000\\_100010030\\\\\n",
       "\t chr10\\_100185017\\_100187275 & Enhancer\\_WSTARR & 1 & chr10\\_100185860\\_100186300                          \\\\\n",
       "\t chr10\\_100267066\\_100268374 & Enhancer\\_WSTARR & 1 & chr10\\_100267670\\_100267780                          \\\\\n",
       "\t chr10\\_100285974\\_100287341 & Enhancer\\_WSTARR & 2 & chr10\\_100286470\\_100286500,chr10\\_100286550\\_100286830\\\\\n",
       "\t chr10\\_100346328\\_100347693 & Enhancer\\_WSTARR & 1 & chr10\\_100346760\\_100347200                          \\\\\n",
       "\t chr10\\_100373060\\_100374238 & Enhancer\\_WSTARR & 2 & chr10\\_100373130\\_100373290,chr10\\_100373410\\_100374270\\\\\n",
       "\\end{tabular}\n"
      ],
      "text/markdown": [
       "\n",
       "A tibble: 6 × 4\n",
       "\n",
       "| Peak &lt;chr&gt; | Name &lt;chr&gt; | Count &lt;dbl&gt; | Annotate &lt;chr&gt; |\n",
       "|---|---|---|---|\n",
       "| chr10_100009096_100010466 | Enhancer_WSTARR | 2 | chr10_100009900_100009950,chr10_100010000_100010030 |\n",
       "| chr10_100185017_100187275 | Enhancer_WSTARR | 1 | chr10_100185860_100186300                           |\n",
       "| chr10_100267066_100268374 | Enhancer_WSTARR | 1 | chr10_100267670_100267780                           |\n",
       "| chr10_100285974_100287341 | Enhancer_WSTARR | 2 | chr10_100286470_100286500,chr10_100286550_100286830 |\n",
       "| chr10_100346328_100347693 | Enhancer_WSTARR | 1 | chr10_100346760_100347200                           |\n",
       "| chr10_100373060_100374238 | Enhancer_WSTARR | 2 | chr10_100373130_100373290,chr10_100373410_100374270 |\n",
       "\n"
      ],
      "text/plain": [
       "  Peak                      Name            Count\n",
       "1 chr10_100009096_100010466 Enhancer_WSTARR 2    \n",
       "2 chr10_100185017_100187275 Enhancer_WSTARR 1    \n",
       "3 chr10_100267066_100268374 Enhancer_WSTARR 1    \n",
       "4 chr10_100285974_100287341 Enhancer_WSTARR 2    \n",
       "5 chr10_100346328_100347693 Enhancer_WSTARR 1    \n",
       "6 chr10_100373060_100374238 Enhancer_WSTARR 2    \n",
       "  Annotate                                           \n",
       "1 chr10_100009900_100009950,chr10_100010000_100010030\n",
       "2 chr10_100185860_100186300                          \n",
       "3 chr10_100267670_100267780                          \n",
       "4 chr10_100286470_100286500,chr10_100286550_100286830\n",
       "5 chr10_100346760_100347200                          \n",
       "6 chr10_100373130_100373290,chr10_100373410_100374270"
      ]
     },
     "metadata": {},
     "output_type": "display_data"
    }
   ],
   "source": [
    "fdiry = file.path(FD_RES, \"results\", \"region\", \"KS91_K562_ASTARRseq_peak_macs_input\")\n",
    "fname = \"peak.summary.enhancer_junke_peak_wstarr.tsv\"\n",
    "fpath = file.path(fdiry, fname)\n",
    "\n",
    "dat = read_tsv(fpath)\n",
    "\n",
    "dat_peak_annot_enhancer_wstarr = dat\n",
    "print(dim(dat))\n",
    "head(dat)"
   ]
  },
  {
   "cell_type": "code",
   "execution_count": 5,
   "metadata": {},
   "outputs": [
    {
     "name": "stderr",
     "output_type": "stream",
     "text": [
      "\u001b[1mRows: \u001b[22m\u001b[34m87\u001b[39m \u001b[1mColumns: \u001b[22m\u001b[34m6\u001b[39m\n",
      "\u001b[36m──\u001b[39m \u001b[1mColumn specification\u001b[22m \u001b[36m───────────────────────────────────────────────────────────────────────\u001b[39m\n",
      "\u001b[1mDelimiter:\u001b[22m \"\\t\"\n",
      "\u001b[31mchr\u001b[39m (4): Peak, CASA, Gene_Symbol, Gene_ENS\n",
      "\u001b[32mdbl\u001b[39m (2): Score, Overlap\n",
      "\n",
      "\u001b[36mℹ\u001b[39m Use `spec()` to retrieve the full column specification for this data.\n",
      "\u001b[36mℹ\u001b[39m Specify the column types or set `show_col_types = FALSE` to quiet this message.\n"
     ]
    },
    {
     "name": "stdout",
     "output_type": "stream",
     "text": [
      "[1] 87  6\n"
     ]
    },
    {
     "data": {
      "text/html": [
       "<table class=\"dataframe\">\n",
       "<caption>A tibble: 6 × 6</caption>\n",
       "<thead>\n",
       "\t<tr><th scope=col>Peak</th><th scope=col>CASA</th><th scope=col>Score</th><th scope=col>Gene_Symbol</th><th scope=col>Gene_ENS</th><th scope=col>Overlap</th></tr>\n",
       "\t<tr><th scope=col>&lt;chr&gt;</th><th scope=col>&lt;chr&gt;</th><th scope=col>&lt;dbl&gt;</th><th scope=col>&lt;chr&gt;</th><th scope=col>&lt;chr&gt;</th><th scope=col>&lt;dbl&gt;</th></tr>\n",
       "</thead>\n",
       "<tbody>\n",
       "\t<tr><td>chr11_5249943_5250880</td><td>chr11_5249847_5250847</td><td>1.890890</td><td>HBG1</td><td>ENST00000330597.5</td><td> 904</td></tr>\n",
       "\t<tr><td>chr11_5249943_5250880</td><td>chr11_5249847_5250847</td><td>1.922956</td><td>HBG2</td><td>ENST00000336906.6</td><td> 904</td></tr>\n",
       "\t<tr><td>chr11_5254190_5254453</td><td>chr11_5253647_5254647</td><td>1.504404</td><td>HBG1</td><td>ENST00000330597.5</td><td> 263</td></tr>\n",
       "\t<tr><td>chr11_5254190_5254453</td><td>chr11_5253647_5254647</td><td>1.430535</td><td>HBG2</td><td>ENST00000336906.6</td><td> 263</td></tr>\n",
       "\t<tr><td>chr11_5269440_5270695</td><td>chr11_5269147_5271147</td><td>1.906478</td><td>HBE1</td><td>ENST00000336906.6</td><td>1255</td></tr>\n",
       "\t<tr><td>chr11_5275424_5276195</td><td>chr11_5275847_5276247</td><td>1.173871</td><td>HBG1</td><td>ENST00000330597.5</td><td> 348</td></tr>\n",
       "</tbody>\n",
       "</table>\n"
      ],
      "text/latex": [
       "A tibble: 6 × 6\n",
       "\\begin{tabular}{llllll}\n",
       " Peak & CASA & Score & Gene\\_Symbol & Gene\\_ENS & Overlap\\\\\n",
       " <chr> & <chr> & <dbl> & <chr> & <chr> & <dbl>\\\\\n",
       "\\hline\n",
       "\t chr11\\_5249943\\_5250880 & chr11\\_5249847\\_5250847 & 1.890890 & HBG1 & ENST00000330597.5 &  904\\\\\n",
       "\t chr11\\_5249943\\_5250880 & chr11\\_5249847\\_5250847 & 1.922956 & HBG2 & ENST00000336906.6 &  904\\\\\n",
       "\t chr11\\_5254190\\_5254453 & chr11\\_5253647\\_5254647 & 1.504404 & HBG1 & ENST00000330597.5 &  263\\\\\n",
       "\t chr11\\_5254190\\_5254453 & chr11\\_5253647\\_5254647 & 1.430535 & HBG2 & ENST00000336906.6 &  263\\\\\n",
       "\t chr11\\_5269440\\_5270695 & chr11\\_5269147\\_5271147 & 1.906478 & HBE1 & ENST00000336906.6 & 1255\\\\\n",
       "\t chr11\\_5275424\\_5276195 & chr11\\_5275847\\_5276247 & 1.173871 & HBG1 & ENST00000330597.5 &  348\\\\\n",
       "\\end{tabular}\n"
      ],
      "text/markdown": [
       "\n",
       "A tibble: 6 × 6\n",
       "\n",
       "| Peak &lt;chr&gt; | CASA &lt;chr&gt; | Score &lt;dbl&gt; | Gene_Symbol &lt;chr&gt; | Gene_ENS &lt;chr&gt; | Overlap &lt;dbl&gt; |\n",
       "|---|---|---|---|---|---|\n",
       "| chr11_5249943_5250880 | chr11_5249847_5250847 | 1.890890 | HBG1 | ENST00000330597.5 |  904 |\n",
       "| chr11_5249943_5250880 | chr11_5249847_5250847 | 1.922956 | HBG2 | ENST00000336906.6 |  904 |\n",
       "| chr11_5254190_5254453 | chr11_5253647_5254647 | 1.504404 | HBG1 | ENST00000330597.5 |  263 |\n",
       "| chr11_5254190_5254453 | chr11_5253647_5254647 | 1.430535 | HBG2 | ENST00000336906.6 |  263 |\n",
       "| chr11_5269440_5270695 | chr11_5269147_5271147 | 1.906478 | HBE1 | ENST00000336906.6 | 1255 |\n",
       "| chr11_5275424_5276195 | chr11_5275847_5276247 | 1.173871 | HBG1 | ENST00000330597.5 |  348 |\n",
       "\n"
      ],
      "text/plain": [
       "  Peak                  CASA                  Score    Gene_Symbol\n",
       "1 chr11_5249943_5250880 chr11_5249847_5250847 1.890890 HBG1       \n",
       "2 chr11_5249943_5250880 chr11_5249847_5250847 1.922956 HBG2       \n",
       "3 chr11_5254190_5254453 chr11_5253647_5254647 1.504404 HBG1       \n",
       "4 chr11_5254190_5254453 chr11_5253647_5254647 1.430535 HBG2       \n",
       "5 chr11_5269440_5270695 chr11_5269147_5271147 1.906478 HBE1       \n",
       "6 chr11_5275424_5276195 chr11_5275847_5276247 1.173871 HBG1       \n",
       "  Gene_ENS          Overlap\n",
       "1 ENST00000330597.5  904   \n",
       "2 ENST00000336906.6  904   \n",
       "3 ENST00000330597.5  263   \n",
       "4 ENST00000336906.6  263   \n",
       "5 ENST00000336906.6 1255   \n",
       "6 ENST00000330597.5  348   "
      ]
     },
     "metadata": {},
     "output_type": "display_data"
    }
   ],
   "source": [
    "fdiry = file.path(FD_RES, \"results\", \"region\", \"KS91_K562_ASTARRseq_peak_macs_input\")\n",
    "fname = \"peak.summary.crispri_casa_peak.tsv\"\n",
    "fpath = file.path(fdiry, fname)\n",
    "\n",
    "dat = read_tsv(fpath)\n",
    "\n",
    "dat_peak_annot_casa = dat\n",
    "print(dim(dat))\n",
    "head(dat)"
   ]
  },
  {
   "cell_type": "code",
   "execution_count": 6,
   "metadata": {},
   "outputs": [
    {
     "name": "stderr",
     "output_type": "stream",
     "text": [
      "\u001b[1mRows: \u001b[22m\u001b[34m19001\u001b[39m \u001b[1mColumns: \u001b[22m\u001b[34m4\u001b[39m\n",
      "\u001b[36m──\u001b[39m \u001b[1mColumn specification\u001b[22m \u001b[36m───────────────────────────────────────────────────────────────────────\u001b[39m\n",
      "\u001b[1mDelimiter:\u001b[22m \"\\t\"\n",
      "\u001b[31mchr\u001b[39m (3): Peak, Name, Annotate\n",
      "\u001b[32mdbl\u001b[39m (1): Count\n",
      "\n",
      "\u001b[36mℹ\u001b[39m Use `spec()` to retrieve the full column specification for this data.\n",
      "\u001b[36mℹ\u001b[39m Specify the column types or set `show_col_types = FALSE` to quiet this message.\n"
     ]
    },
    {
     "name": "stdout",
     "output_type": "stream",
     "text": [
      "[1] 19001     4\n"
     ]
    },
    {
     "data": {
      "text/html": [
       "<table class=\"dataframe\">\n",
       "<caption>A tibble: 6 × 4</caption>\n",
       "<thead>\n",
       "\t<tr><th scope=col>Peak</th><th scope=col>Name</th><th scope=col>Count</th><th scope=col>Annotate</th></tr>\n",
       "\t<tr><th scope=col>&lt;chr&gt;</th><th scope=col>&lt;chr&gt;</th><th scope=col>&lt;dbl&gt;</th><th scope=col>&lt;chr&gt;</th></tr>\n",
       "</thead>\n",
       "<tbody>\n",
       "\t<tr><td>chr10_100009096_100010466</td><td>TSS</td><td>1</td><td>ENSG00000107554.17                  </td></tr>\n",
       "\t<tr><td>chr10_100185017_100187275</td><td>TSS</td><td>1</td><td>ENSG00000107566.14                  </td></tr>\n",
       "\t<tr><td>chr10_100228452_100230090</td><td>TSS</td><td>2</td><td>ENSG00000213341.11,ENSG00000227492.2</td></tr>\n",
       "\t<tr><td>chr10_100267066_100268374</td><td>TSS</td><td>1</td><td>ENSG00000095485.18                  </td></tr>\n",
       "\t<tr><td>chr10_100285974_100287341</td><td>TSS</td><td>1</td><td>ENSG00000196072.12                  </td></tr>\n",
       "\t<tr><td>chr10_100346328_100347693</td><td>TSS</td><td>2</td><td>ENSG00000231188.1,ENSG00000099194.6 </td></tr>\n",
       "</tbody>\n",
       "</table>\n"
      ],
      "text/latex": [
       "A tibble: 6 × 4\n",
       "\\begin{tabular}{llll}\n",
       " Peak & Name & Count & Annotate\\\\\n",
       " <chr> & <chr> & <dbl> & <chr>\\\\\n",
       "\\hline\n",
       "\t chr10\\_100009096\\_100010466 & TSS & 1 & ENSG00000107554.17                  \\\\\n",
       "\t chr10\\_100185017\\_100187275 & TSS & 1 & ENSG00000107566.14                  \\\\\n",
       "\t chr10\\_100228452\\_100230090 & TSS & 2 & ENSG00000213341.11,ENSG00000227492.2\\\\\n",
       "\t chr10\\_100267066\\_100268374 & TSS & 1 & ENSG00000095485.18                  \\\\\n",
       "\t chr10\\_100285974\\_100287341 & TSS & 1 & ENSG00000196072.12                  \\\\\n",
       "\t chr10\\_100346328\\_100347693 & TSS & 2 & ENSG00000231188.1,ENSG00000099194.6 \\\\\n",
       "\\end{tabular}\n"
      ],
      "text/markdown": [
       "\n",
       "A tibble: 6 × 4\n",
       "\n",
       "| Peak &lt;chr&gt; | Name &lt;chr&gt; | Count &lt;dbl&gt; | Annotate &lt;chr&gt; |\n",
       "|---|---|---|---|\n",
       "| chr10_100009096_100010466 | TSS | 1 | ENSG00000107554.17                   |\n",
       "| chr10_100185017_100187275 | TSS | 1 | ENSG00000107566.14                   |\n",
       "| chr10_100228452_100230090 | TSS | 2 | ENSG00000213341.11,ENSG00000227492.2 |\n",
       "| chr10_100267066_100268374 | TSS | 1 | ENSG00000095485.18                   |\n",
       "| chr10_100285974_100287341 | TSS | 1 | ENSG00000196072.12                   |\n",
       "| chr10_100346328_100347693 | TSS | 2 | ENSG00000231188.1,ENSG00000099194.6  |\n",
       "\n"
      ],
      "text/plain": [
       "  Peak                      Name Count Annotate                            \n",
       "1 chr10_100009096_100010466 TSS  1     ENSG00000107554.17                  \n",
       "2 chr10_100185017_100187275 TSS  1     ENSG00000107566.14                  \n",
       "3 chr10_100228452_100230090 TSS  2     ENSG00000213341.11,ENSG00000227492.2\n",
       "4 chr10_100267066_100268374 TSS  1     ENSG00000095485.18                  \n",
       "5 chr10_100285974_100287341 TSS  1     ENSG00000196072.12                  \n",
       "6 chr10_100346328_100347693 TSS  2     ENSG00000231188.1,ENSG00000099194.6 "
      ]
     },
     "metadata": {},
     "output_type": "display_data"
    }
   ],
   "source": [
    "fdiry = file.path(FD_RES, \"results\", \"region\", \"KS91_K562_ASTARRseq_peak_macs_input\")\n",
    "fname = \"peak.summary.gencode_v24_tss.tsv\"\n",
    "fpath = file.path(fdiry, fname)\n",
    "\n",
    "dat = read_tsv(fpath)\n",
    "\n",
    "dat_peak_annot_tss = dat\n",
    "print(dim(dat))\n",
    "head(dat)"
   ]
  },
  {
   "cell_type": "code",
   "execution_count": 8,
   "metadata": {},
   "outputs": [
    {
     "name": "stderr",
     "output_type": "stream",
     "text": [
      "\u001b[1mRows: \u001b[22m\u001b[34m39437\u001b[39m \u001b[1mColumns: \u001b[22m\u001b[34m2\u001b[39m\n",
      "\u001b[36m──\u001b[39m \u001b[1mColumn specification\u001b[22m \u001b[36m───────────────────────────────────────────────────────────────────────\u001b[39m\n",
      "\u001b[1mDelimiter:\u001b[22m \"\\t\"\n",
      "\u001b[31mchr\u001b[39m (1): Peak\n",
      "\u001b[32mdbl\u001b[39m (1): Count\n",
      "\n",
      "\u001b[36mℹ\u001b[39m Use `spec()` to retrieve the full column specification for this data.\n",
      "\u001b[36mℹ\u001b[39m Specify the column types or set `show_col_types = FALSE` to quiet this message.\n"
     ]
    },
    {
     "name": "stdout",
     "output_type": "stream",
     "text": [
      "[1] 39437     3\n"
     ]
    },
    {
     "data": {
      "text/html": [
       "<table class=\"dataframe\">\n",
       "<caption>A tibble: 6 × 3</caption>\n",
       "<thead>\n",
       "\t<tr><th scope=col>Peak</th><th scope=col>Count</th><th scope=col>Name</th></tr>\n",
       "\t<tr><th scope=col>&lt;chr&gt;</th><th scope=col>&lt;dbl&gt;</th><th scope=col>&lt;chr&gt;</th></tr>\n",
       "</thead>\n",
       "<tbody>\n",
       "\t<tr><td>chr10_100009096_100010466</td><td>2</td><td>CTCF</td></tr>\n",
       "\t<tr><td>chr10_100045961_100046653</td><td>1</td><td>CTCF</td></tr>\n",
       "\t<tr><td>chr10_100228452_100230090</td><td>1</td><td>CTCF</td></tr>\n",
       "\t<tr><td>chr10_100240591_100241246</td><td>1</td><td>CTCF</td></tr>\n",
       "\t<tr><td>chr10_100285974_100287341</td><td>1</td><td>CTCF</td></tr>\n",
       "\t<tr><td>chr10_100338359_100339077</td><td>1</td><td>CTCF</td></tr>\n",
       "</tbody>\n",
       "</table>\n"
      ],
      "text/latex": [
       "A tibble: 6 × 3\n",
       "\\begin{tabular}{lll}\n",
       " Peak & Count & Name\\\\\n",
       " <chr> & <dbl> & <chr>\\\\\n",
       "\\hline\n",
       "\t chr10\\_100009096\\_100010466 & 2 & CTCF\\\\\n",
       "\t chr10\\_100045961\\_100046653 & 1 & CTCF\\\\\n",
       "\t chr10\\_100228452\\_100230090 & 1 & CTCF\\\\\n",
       "\t chr10\\_100240591\\_100241246 & 1 & CTCF\\\\\n",
       "\t chr10\\_100285974\\_100287341 & 1 & CTCF\\\\\n",
       "\t chr10\\_100338359\\_100339077 & 1 & CTCF\\\\\n",
       "\\end{tabular}\n"
      ],
      "text/markdown": [
       "\n",
       "A tibble: 6 × 3\n",
       "\n",
       "| Peak &lt;chr&gt; | Count &lt;dbl&gt; | Name &lt;chr&gt; |\n",
       "|---|---|---|\n",
       "| chr10_100009096_100010466 | 2 | CTCF |\n",
       "| chr10_100045961_100046653 | 1 | CTCF |\n",
       "| chr10_100228452_100230090 | 1 | CTCF |\n",
       "| chr10_100240591_100241246 | 1 | CTCF |\n",
       "| chr10_100285974_100287341 | 1 | CTCF |\n",
       "| chr10_100338359_100339077 | 1 | CTCF |\n",
       "\n"
      ],
      "text/plain": [
       "  Peak                      Count Name\n",
       "1 chr10_100009096_100010466 2     CTCF\n",
       "2 chr10_100045961_100046653 1     CTCF\n",
       "3 chr10_100228452_100230090 1     CTCF\n",
       "4 chr10_100240591_100241246 1     CTCF\n",
       "5 chr10_100285974_100287341 1     CTCF\n",
       "6 chr10_100338359_100339077 1     CTCF"
      ]
     },
     "metadata": {},
     "output_type": "display_data"
    }
   ],
   "source": [
    "fdiry = file.path(FD_RES, \"results\", \"region\", \"KS91_K562_ASTARRseq_peak_macs_input\")\n",
    "fname = \"peak.summary.CTCF.tsv\"\n",
    "fpath = file.path(fdiry, fname)\n",
    "\n",
    "dat = read_tsv(fpath)\n",
    "dat = dat %>% dplyr::mutate(Name = \"CTCF\")\n",
    "\n",
    "dat_peak_annot_ctcf = dat\n",
    "print(dim(dat))\n",
    "head(dat)"
   ]
  },
  {
   "cell_type": "markdown",
   "metadata": {},
   "source": [
    "## Combine"
   ]
  },
  {
   "cell_type": "code",
   "execution_count": 10,
   "metadata": {},
   "outputs": [],
   "source": [
    "dat = bind_rows(\n",
    "    dat_peak_annot_enhancer_astarr,\n",
    "    dat_peak_annot_enhancer_wstarr)\n",
    "\n",
    "dat_peak_annot_enhancer = dat"
   ]
  },
  {
   "cell_type": "code",
   "execution_count": 12,
   "metadata": {},
   "outputs": [
    {
     "name": "stdout",
     "output_type": "stream",
     "text": [
      "\u001b[90m# A tibble: 6 × 4\u001b[39m\n",
      "  Peak                      Name            Count Annotate                      \n",
      "  \u001b[3m\u001b[90m<chr>\u001b[39m\u001b[23m                     \u001b[3m\u001b[90m<chr>\u001b[39m\u001b[23m           \u001b[3m\u001b[90m<dbl>\u001b[39m\u001b[23m \u001b[3m\u001b[90m<chr>\u001b[39m\u001b[23m                         \n",
      "\u001b[90m1\u001b[39m chr10_100228452_100230090 Enhancer_ASTARR     1 chr10_100229600_100229770     \n",
      "\u001b[90m2\u001b[39m chr10_100267066_100268374 Enhancer_ASTARR     1 chr10_100267660_100267770     \n",
      "\u001b[90m3\u001b[39m chr10_100373060_100374238 Enhancer_ASTARR     1 chr10_100373870_100374200     \n",
      "\u001b[90m4\u001b[39m chr10_100528900_100530538 Enhancer_ASTARR     2 chr10_100529730_100529820,chr…\n",
      "\u001b[90m5\u001b[39m chr10_100535377_100536237 Enhancer_ASTARR     1 chr10_100535720_100536060     \n",
      "\u001b[90m6\u001b[39m chr10_101042559_101043551 Enhancer_ASTARR     2 chr10_101042970_101043060,chr…\n",
      "\u001b[90m# A tibble: 6 × 6\u001b[39m\n",
      "  Peak                  CASA                  Score Gene_Symbol Gene_ENS Overlap\n",
      "  \u001b[3m\u001b[90m<chr>\u001b[39m\u001b[23m                 \u001b[3m\u001b[90m<chr>\u001b[39m\u001b[23m                 \u001b[3m\u001b[90m<dbl>\u001b[39m\u001b[23m \u001b[3m\u001b[90m<chr>\u001b[39m\u001b[23m       \u001b[3m\u001b[90m<chr>\u001b[39m\u001b[23m      \u001b[3m\u001b[90m<dbl>\u001b[39m\u001b[23m\n",
      "\u001b[90m1\u001b[39m chr11_5249943_5250880 chr11_5249847_5250847  1.89 HBG1        ENST000…     904\n",
      "\u001b[90m2\u001b[39m chr11_5249943_5250880 chr11_5249847_5250847  1.92 HBG2        ENST000…     904\n",
      "\u001b[90m3\u001b[39m chr11_5254190_5254453 chr11_5253647_5254647  1.50 HBG1        ENST000…     263\n",
      "\u001b[90m4\u001b[39m chr11_5254190_5254453 chr11_5253647_5254647  1.43 HBG2        ENST000…     263\n",
      "\u001b[90m5\u001b[39m chr11_5269440_5270695 chr11_5269147_5271147  1.91 HBE1        ENST000…    \u001b[4m1\u001b[24m255\n",
      "\u001b[90m6\u001b[39m chr11_5275424_5276195 chr11_5275847_5276247  1.17 HBG1        ENST000…     348\n",
      "\u001b[90m# A tibble: 6 × 4\u001b[39m\n",
      "  Peak                      Name  Count Annotate                            \n",
      "  \u001b[3m\u001b[90m<chr>\u001b[39m\u001b[23m                     \u001b[3m\u001b[90m<chr>\u001b[39m\u001b[23m \u001b[3m\u001b[90m<dbl>\u001b[39m\u001b[23m \u001b[3m\u001b[90m<chr>\u001b[39m\u001b[23m                               \n",
      "\u001b[90m1\u001b[39m chr10_100009096_100010466 TSS       1 ENSG00000107554.17                  \n",
      "\u001b[90m2\u001b[39m chr10_100185017_100187275 TSS       1 ENSG00000107566.14                  \n",
      "\u001b[90m3\u001b[39m chr10_100228452_100230090 TSS       2 ENSG00000213341.11,ENSG00000227492.2\n",
      "\u001b[90m4\u001b[39m chr10_100267066_100268374 TSS       1 ENSG00000095485.18                  \n",
      "\u001b[90m5\u001b[39m chr10_100285974_100287341 TSS       1 ENSG00000196072.12                  \n",
      "\u001b[90m6\u001b[39m chr10_100346328_100347693 TSS       2 ENSG00000231188.1,ENSG00000099194.6 \n",
      "\u001b[90m# A tibble: 6 × 3\u001b[39m\n",
      "  Peak                      Count Name \n",
      "  \u001b[3m\u001b[90m<chr>\u001b[39m\u001b[23m                     \u001b[3m\u001b[90m<dbl>\u001b[39m\u001b[23m \u001b[3m\u001b[90m<chr>\u001b[39m\u001b[23m\n",
      "\u001b[90m1\u001b[39m chr10_100009096_100010466     2 CTCF \n",
      "\u001b[90m2\u001b[39m chr10_100045961_100046653     1 CTCF \n",
      "\u001b[90m3\u001b[39m chr10_100228452_100230090     1 CTCF \n",
      "\u001b[90m4\u001b[39m chr10_100240591_100241246     1 CTCF \n",
      "\u001b[90m5\u001b[39m chr10_100285974_100287341     1 CTCF \n",
      "\u001b[90m6\u001b[39m chr10_100338359_100339077     1 CTCF \n"
     ]
    }
   ],
   "source": [
    "lst = list(\n",
    "    \"Enhancer\" = dat_peak_annot_enhancer,\n",
    "    \"CRISPR\"   = dat_peak_annot_casa,\n",
    "    \"TSS\"      = dat_peak_annot_tss,\n",
    "    \"CTCF\"     = dat_peak_annot_ctcf\n",
    ")\n",
    "lst_annot = lst\n",
    "\n",
    "for (dat in lst_annot){\n",
    "    print(head(dat))\n",
    "}"
   ]
  },
  {
   "cell_type": "code",
   "execution_count": 15,
   "metadata": {},
   "outputs": [],
   "source": [
    "dat = dat_peak_log2fc\n",
    "dat = dat %>% \n",
    "    dplyr::group_by(Peak) %>% \n",
    "    dplyr::summarise(\n",
    "        RankNorm = mean(RankNorm_Total),\n",
    "        .groups  = \"drop\") %>%\n",
    "    dplyr::arrange(RankNorm)\n",
    "\n",
    "peaks  = dat$Peak\n",
    "assays = c(\"ASTARR\", \"WSTARR\", \"TMPRA\")"
   ]
  },
  {
   "cell_type": "code",
   "execution_count": 16,
   "metadata": {},
   "outputs": [
    {
     "data": {
      "text/html": [
       "<table class=\"dataframe\">\n",
       "<caption>A tibble: 6 × 3</caption>\n",
       "<thead>\n",
       "\t<tr><th scope=col>Assay</th><th scope=col>Peak</th><th scope=col>Score</th></tr>\n",
       "\t<tr><th scope=col>&lt;chr&gt;</th><th scope=col>&lt;chr&gt;</th><th scope=col>&lt;dbl&gt;</th></tr>\n",
       "</thead>\n",
       "<tbody>\n",
       "\t<tr><td>ASTARR</td><td>chr11_4539569_4540043</td><td>0.6550523</td></tr>\n",
       "\t<tr><td>ASTARR</td><td>chr11_4551336_4552012</td><td>0.7560976</td></tr>\n",
       "\t<tr><td>ASTARR</td><td>chr11_4553969_4555012</td><td>0.6556330</td></tr>\n",
       "\t<tr><td>ASTARR</td><td>chr11_4569016_4569992</td><td>0.5673635</td></tr>\n",
       "\t<tr><td>ASTARR</td><td>chr11_4577444_4578031</td><td>0.7154472</td></tr>\n",
       "\t<tr><td>ASTARR</td><td>chr11_4601808_4602487</td><td>0.1277584</td></tr>\n",
       "</tbody>\n",
       "</table>\n"
      ],
      "text/latex": [
       "A tibble: 6 × 3\n",
       "\\begin{tabular}{lll}\n",
       " Assay & Peak & Score\\\\\n",
       " <chr> & <chr> & <dbl>\\\\\n",
       "\\hline\n",
       "\t ASTARR & chr11\\_4539569\\_4540043 & 0.6550523\\\\\n",
       "\t ASTARR & chr11\\_4551336\\_4552012 & 0.7560976\\\\\n",
       "\t ASTARR & chr11\\_4553969\\_4555012 & 0.6556330\\\\\n",
       "\t ASTARR & chr11\\_4569016\\_4569992 & 0.5673635\\\\\n",
       "\t ASTARR & chr11\\_4577444\\_4578031 & 0.7154472\\\\\n",
       "\t ASTARR & chr11\\_4601808\\_4602487 & 0.1277584\\\\\n",
       "\\end{tabular}\n"
      ],
      "text/markdown": [
       "\n",
       "A tibble: 6 × 3\n",
       "\n",
       "| Assay &lt;chr&gt; | Peak &lt;chr&gt; | Score &lt;dbl&gt; |\n",
       "|---|---|---|\n",
       "| ASTARR | chr11_4539569_4540043 | 0.6550523 |\n",
       "| ASTARR | chr11_4551336_4552012 | 0.7560976 |\n",
       "| ASTARR | chr11_4553969_4555012 | 0.6556330 |\n",
       "| ASTARR | chr11_4569016_4569992 | 0.5673635 |\n",
       "| ASTARR | chr11_4577444_4578031 | 0.7154472 |\n",
       "| ASTARR | chr11_4601808_4602487 | 0.1277584 |\n",
       "\n"
      ],
      "text/plain": [
       "  Assay  Peak                  Score    \n",
       "1 ASTARR chr11_4539569_4540043 0.6550523\n",
       "2 ASTARR chr11_4551336_4552012 0.7560976\n",
       "3 ASTARR chr11_4553969_4555012 0.6556330\n",
       "4 ASTARR chr11_4569016_4569992 0.5673635\n",
       "5 ASTARR chr11_4577444_4578031 0.7154472\n",
       "6 ASTARR chr11_4601808_4602487 0.1277584"
      ]
     },
     "metadata": {},
     "output_type": "display_data"
    }
   ],
   "source": [
    "dat = dat_peak_log2fc\n",
    "dat = dat %>% \n",
    "    dplyr::mutate(Score = RankNorm_Total) %>%\n",
    "    dplyr::select(Assay, Peak, Score)\n",
    "\n",
    "head(dat)"
   ]
  },
  {
   "cell_type": "code",
   "execution_count": 27,
   "metadata": {},
   "outputs": [
    {
     "name": "stdout",
     "output_type": "stream",
     "text": [
      "[1] 6888    3\n"
     ]
    },
    {
     "data": {
      "text/html": [
       "<table class=\"dataframe\">\n",
       "<caption>A tibble: 6 × 3</caption>\n",
       "<thead>\n",
       "\t<tr><th scope=col>Peak</th><th scope=col>Annot</th><th scope=col>Label</th></tr>\n",
       "\t<tr><th scope=col>&lt;chr&gt;</th><th scope=col>&lt;chr&gt;</th><th scope=col>&lt;chr&gt;</th></tr>\n",
       "</thead>\n",
       "<tbody>\n",
       "\t<tr><td>chr11_4539569_4540043</td><td>Enhancer</td><td>0</td></tr>\n",
       "\t<tr><td>chr11_4551336_4552012</td><td>Enhancer</td><td>0</td></tr>\n",
       "\t<tr><td>chr11_4553969_4555012</td><td>Enhancer</td><td>0</td></tr>\n",
       "\t<tr><td>chr11_4569016_4569992</td><td>Enhancer</td><td>0</td></tr>\n",
       "\t<tr><td>chr11_4577444_4578031</td><td>Enhancer</td><td>0</td></tr>\n",
       "\t<tr><td>chr11_4601808_4602487</td><td>Enhancer</td><td>0</td></tr>\n",
       "</tbody>\n",
       "</table>\n"
      ],
      "text/latex": [
       "A tibble: 6 × 3\n",
       "\\begin{tabular}{lll}\n",
       " Peak & Annot & Label\\\\\n",
       " <chr> & <chr> & <chr>\\\\\n",
       "\\hline\n",
       "\t chr11\\_4539569\\_4540043 & Enhancer & 0\\\\\n",
       "\t chr11\\_4551336\\_4552012 & Enhancer & 0\\\\\n",
       "\t chr11\\_4553969\\_4555012 & Enhancer & 0\\\\\n",
       "\t chr11\\_4569016\\_4569992 & Enhancer & 0\\\\\n",
       "\t chr11\\_4577444\\_4578031 & Enhancer & 0\\\\\n",
       "\t chr11\\_4601808\\_4602487 & Enhancer & 0\\\\\n",
       "\\end{tabular}\n"
      ],
      "text/markdown": [
       "\n",
       "A tibble: 6 × 3\n",
       "\n",
       "| Peak &lt;chr&gt; | Annot &lt;chr&gt; | Label &lt;chr&gt; |\n",
       "|---|---|---|\n",
       "| chr11_4539569_4540043 | Enhancer | 0 |\n",
       "| chr11_4551336_4552012 | Enhancer | 0 |\n",
       "| chr11_4553969_4555012 | Enhancer | 0 |\n",
       "| chr11_4569016_4569992 | Enhancer | 0 |\n",
       "| chr11_4577444_4578031 | Enhancer | 0 |\n",
       "| chr11_4601808_4602487 | Enhancer | 0 |\n",
       "\n"
      ],
      "text/plain": [
       "  Peak                  Annot    Label\n",
       "1 chr11_4539569_4540043 Enhancer 0    \n",
       "2 chr11_4551336_4552012 Enhancer 0    \n",
       "3 chr11_4553969_4555012 Enhancer 0    \n",
       "4 chr11_4569016_4569992 Enhancer 0    \n",
       "5 chr11_4577444_4578031 Enhancer 0    \n",
       "6 chr11_4601808_4602487 Enhancer 0    "
      ]
     },
     "metadata": {},
     "output_type": "display_data"
    }
   ],
   "source": [
    "dat = dat_peak_log2fc\n",
    "dat = dat %>% dplyr::select(Peak) %>% distinct\n",
    "\n",
    "for (idx in names(lst_annot)){\n",
    "    ant = lst_annot[[idx]]\n",
    "    vec = ant$Peak\n",
    "    dat[[idx]] = ifelse(dat$Peak %in% vec, \"1\", \"0\")\n",
    "}\n",
    "\n",
    "dat = dat %>% tidyr::gather(Annot, Label, -Peak)\n",
    "\n",
    "dat_annot = dat\n",
    "print(dim(dat))\n",
    "head(dat)"
   ]
  },
  {
   "cell_type": "code",
   "execution_count": 36,
   "metadata": {},
   "outputs": [],
   "source": [
    "theme_fill = scale_fill_gradient2(\n",
    "    low  = \"#4575b4\",\n",
    "    mid  = \"#ffffbf\",\n",
    "    high = \"#d73027\",\n",
    "    midpoint = 0.5\n",
    ")\n",
    "\n",
    "theme_text = theme(\n",
    "    axis.ticks.x = element_blank(),\n",
    "    axis.text.x  = element_blank(),\n",
    "    axis.text.y  = element_text(size = 15),\n",
    "    axis.title.x = element_text(size = 20),\n",
    "    axis.title.y = element_blank()\n",
    ")"
   ]
  },
  {
   "cell_type": "code",
   "execution_count": 41,
   "metadata": {},
   "outputs": [
    {
     "data": {
      "image/png": "[encoded data removed]",
      "text/plain": [
       "plot without title"
      ]
     },
     "metadata": {
      "image/png": {
       "height": 180,
       "width": 900
      }
     },
     "output_type": "display_data"
    }
   ],
   "source": [
    "dat = dat_peak_log2fc\n",
    "dat = dat %>% \n",
    "    dplyr::mutate(\n",
    "        Assay = factor(Assay, levels=assays),\n",
    "        Peak  = factor(Peak,  levels=peaks),\n",
    "        Score = RankNorm_Total\n",
    "    )\n",
    "\n",
    "gpt = ggplot(dat, aes(x=Peak, y=Assay, fill=Score)) +\n",
    "    geom_tile() +\n",
    "    labs(x=\"\", y = \"\") +\n",
    "    theme_cowplot() + \n",
    "    theme_text +\n",
    "    theme_fill\n",
    "\n",
    "gpt_score = gpt\n",
    "options(repr.plot.height=3, repr.plot.width=15)\n",
    "print(gpt)"
   ]
  },
  {
   "cell_type": "code",
   "execution_count": 42,
   "metadata": {},
   "outputs": [
    {
     "data": {
      "image/png": "[encoded data removed]",
      "text/plain": [
       "plot without title"
      ]
     },
     "metadata": {
      "image/png": {
       "height": 180,
       "width": 900
      }
     },
     "output_type": "display_data"
    }
   ],
   "source": [
    "dat = dat_annot\n",
    "dat = dat %>% dplyr::mutate(Peak  = factor(Peak,  levels=peaks))\n",
    "    \n",
    "gpt = ggplot(dat, aes(x=Peak, y=Annot, fill=Label)) +\n",
    "    geom_tile() +\n",
    "    scale_fill_manual(values = c(\"1\" = \"black\", \"0\" = \"white\")) +\n",
    "    labs(x=\"\", y=\"\") +\n",
    "    theme_cowplot() +\n",
    "    theme(axis.text.x = element_blank(),\n",
    "          axis.text.y = element_text(size=15),\n",
    "          axis.ticks.x = element_blank(),\n",
    "          legend.position = \"bottom\",\n",
    "          legend.key.size = unit(1, 'cm'),\n",
    "          legend.title = element_text(size=20),\n",
    "          legend.text = element_text(size=10))\n",
    "\n",
    "gpt_annot = gpt\n",
    "options(repr.plot.height=3, repr.plot.width=15)\n",
    "print(gpt)"
   ]
  },
  {
   "cell_type": "code",
   "execution_count": 44,
   "metadata": {},
   "outputs": [
    {
     "data": {
      "image/png": "[encoded data removed]",
      "text/plain": [
       "plot without title"
      ]
     },
     "metadata": {
      "image/png": {
       "height": 360,
       "width": 900
      }
     },
     "output_type": "display_data"
    }
   ],
   "source": [
    "options(repr.plot.height=6, repr.plot.width=15)\n",
    "plot_grid(\n",
    "    gpt_score + theme(legend.position = \"none\"), \n",
    "    gpt_annot + theme(legend.position = \"none\"), \n",
    "    ncol  = 1,\n",
    "    align = \"v\",\n",
    "    rel_heights = c(2, 1))"
   ]
  },
  {
   "cell_type": "code",
   "execution_count": null,
   "metadata": {},
   "outputs": [],
   "source": []
  }
 ],
 "metadata": {
  "kernelspec": {
   "display_name": "R",
   "language": "R",
   "name": "ir"
  },
  "language_info": {
   "codemirror_mode": "r",
   "file_extension": ".r",
   "mimetype": "text/x-r-source",
   "name": "R",
   "pygments_lexer": "r",
   "version": "4.3.0"
  }
 },
 "nbformat": 4,
 "nbformat_minor": 4
}
