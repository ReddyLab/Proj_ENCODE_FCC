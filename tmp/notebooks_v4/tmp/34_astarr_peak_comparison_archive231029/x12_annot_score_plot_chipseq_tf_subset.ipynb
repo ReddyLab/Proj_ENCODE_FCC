{
 "cells": [
  {
   "cell_type": "code",
   "execution_count": 1,
   "metadata": {},
   "outputs": [
    {
     "name": "stdout",
     "output_type": "stream",
     "text": [
      "You are in Singularity: singularity_proj_encode_fcc \n",
      "BASE DIRECTORY (FD_BASE): /data/reddylab/Kuei \n",
      "WORK DIRECTORY (FD_WORK): /data/reddylab/Kuei/out \n",
      "CODE DIRECTORY (FD_CODE): /data/reddylab/Kuei/code \n",
      "PATH OF PROJECT (FD_PRJ): /data/reddylab/Kuei/code/Proj_CombEffect_ENCODE_FCC \n",
      "PATH OF RESULTS (FD_RES): /data/reddylab/Kuei/out/proj_combeffect_encode_fcc \n",
      "PATH OF LOG     (FD_LOG): /data/reddylab/Kuei/out/proj_combeffect_encode_fcc/log \n"
     ]
    }
   ],
   "source": [
    "suppressMessages(suppressWarnings(source(\"../config/config_sing.R\")))\n",
    "show_env()"
   ]
  },
  {
   "cell_type": "code",
   "execution_count": null,
   "metadata": {},
   "outputs": [],
   "source": []
  },
  {
   "cell_type": "code",
   "execution_count": null,
   "metadata": {},
   "outputs": [],
   "source": []
  },
  {
   "cell_type": "markdown",
   "metadata": {},
   "source": [
    "## Import RankNorm"
   ]
  },
  {
   "cell_type": "code",
   "execution_count": 3,
   "metadata": {},
   "outputs": [
    {
     "name": "stderr",
     "output_type": "stream",
     "text": [
      "\u001b[1mRows: \u001b[22m\u001b[34m5166\u001b[39m \u001b[1mColumns: \u001b[22m\u001b[34m10\u001b[39m\n",
      "\u001b[36m──\u001b[39m \u001b[1mColumn specification\u001b[22m \u001b[36m─────────────────────────────────────────\u001b[39m\n",
      "\u001b[1mDelimiter:\u001b[22m \"\\t\"\n",
      "\u001b[31mchr\u001b[39m (6): Chrom, Peak, TMPRA_Gene, TMPRA_Dataset, CRISPR_HCFF, Assay\n",
      "\u001b[32mdbl\u001b[39m (4): Start, End, Log2FC, RankNorm_Total\n",
      "\n",
      "\u001b[36mℹ\u001b[39m Use `spec()` to retrieve the full column specification for this data.\n",
      "\u001b[36mℹ\u001b[39m Specify the column types or set `show_col_types = FALSE` to quiet this message.\n"
     ]
    },
    {
     "name": "stdout",
     "output_type": "stream",
     "text": [
      "[1] 5166   10\n"
     ]
    },
    {
     "data": {
      "text/html": [
       "<table class=\"dataframe\">\n",
       "<caption>A tibble: 6 × 10</caption>\n",
       "<thead>\n",
       "\t<tr><th scope=col>Chrom</th><th scope=col>Start</th><th scope=col>End</th><th scope=col>Peak</th><th scope=col>TMPRA_Gene</th><th scope=col>TMPRA_Dataset</th><th scope=col>CRISPR_HCFF</th><th scope=col>Assay</th><th scope=col>Log2FC</th><th scope=col>RankNorm_Total</th></tr>\n",
       "\t<tr><th scope=col>&lt;chr&gt;</th><th scope=col>&lt;dbl&gt;</th><th scope=col>&lt;dbl&gt;</th><th scope=col>&lt;chr&gt;</th><th scope=col>&lt;chr&gt;</th><th scope=col>&lt;chr&gt;</th><th scope=col>&lt;chr&gt;</th><th scope=col>&lt;chr&gt;</th><th scope=col>&lt;dbl&gt;</th><th scope=col>&lt;dbl&gt;</th></tr>\n",
       "</thead>\n",
       "<tbody>\n",
       "\t<tr><td>chr11</td><td>4539569</td><td>4540043</td><td>chr11_4539569_4540043</td><td>HBE1</td><td>OL45</td><td>HBE1,HBG1,HBG2,HBS1L,MYB</td><td>ASTARR</td><td> 0.14501695</td><td>0.6550523</td></tr>\n",
       "\t<tr><td>chr11</td><td>4551336</td><td>4552012</td><td>chr11_4551336_4552012</td><td>HBE1</td><td>OL45</td><td>NA                      </td><td>ASTARR</td><td> 0.32125162</td><td>0.7560976</td></tr>\n",
       "\t<tr><td>chr11</td><td>4553969</td><td>4555012</td><td>chr11_4553969_4555012</td><td>HBE1</td><td>OL45</td><td>NA                      </td><td>ASTARR</td><td> 0.14529397</td><td>0.6556330</td></tr>\n",
       "\t<tr><td>chr11</td><td>4569016</td><td>4569992</td><td>chr11_4569016_4569992</td><td>HBE1</td><td>OL45</td><td>NA                      </td><td>ASTARR</td><td> 0.01136464</td><td>0.5673635</td></tr>\n",
       "\t<tr><td>chr11</td><td>4577444</td><td>4578031</td><td>chr11_4577444_4578031</td><td>HBE1</td><td>OL45</td><td>NA                      </td><td>ASTARR</td><td> 0.24524353</td><td>0.7154472</td></tr>\n",
       "\t<tr><td>chr11</td><td>4601808</td><td>4602487</td><td>chr11_4601808_4602487</td><td>HBE1</td><td>OL45</td><td>NA                      </td><td>ASTARR</td><td>-0.57215284</td><td>0.1277584</td></tr>\n",
       "</tbody>\n",
       "</table>\n"
      ],
      "text/latex": [
       "A tibble: 6 × 10\n",
       "\\begin{tabular}{llllllllll}\n",
       " Chrom & Start & End & Peak & TMPRA\\_Gene & TMPRA\\_Dataset & CRISPR\\_HCFF & Assay & Log2FC & RankNorm\\_Total\\\\\n",
       " <chr> & <dbl> & <dbl> & <chr> & <chr> & <chr> & <chr> & <chr> & <dbl> & <dbl>\\\\\n",
       "\\hline\n",
       "\t chr11 & 4539569 & 4540043 & chr11\\_4539569\\_4540043 & HBE1 & OL45 & HBE1,HBG1,HBG2,HBS1L,MYB & ASTARR &  0.14501695 & 0.6550523\\\\\n",
       "\t chr11 & 4551336 & 4552012 & chr11\\_4551336\\_4552012 & HBE1 & OL45 & NA                       & ASTARR &  0.32125162 & 0.7560976\\\\\n",
       "\t chr11 & 4553969 & 4555012 & chr11\\_4553969\\_4555012 & HBE1 & OL45 & NA                       & ASTARR &  0.14529397 & 0.6556330\\\\\n",
       "\t chr11 & 4569016 & 4569992 & chr11\\_4569016\\_4569992 & HBE1 & OL45 & NA                       & ASTARR &  0.01136464 & 0.5673635\\\\\n",
       "\t chr11 & 4577444 & 4578031 & chr11\\_4577444\\_4578031 & HBE1 & OL45 & NA                       & ASTARR &  0.24524353 & 0.7154472\\\\\n",
       "\t chr11 & 4601808 & 4602487 & chr11\\_4601808\\_4602487 & HBE1 & OL45 & NA                       & ASTARR & -0.57215284 & 0.1277584\\\\\n",
       "\\end{tabular}\n"
      ],
      "text/markdown": [
       "\n",
       "A tibble: 6 × 10\n",
       "\n",
       "| Chrom &lt;chr&gt; | Start &lt;dbl&gt; | End &lt;dbl&gt; | Peak &lt;chr&gt; | TMPRA_Gene &lt;chr&gt; | TMPRA_Dataset &lt;chr&gt; | CRISPR_HCFF &lt;chr&gt; | Assay &lt;chr&gt; | Log2FC &lt;dbl&gt; | RankNorm_Total &lt;dbl&gt; |\n",
       "|---|---|---|---|---|---|---|---|---|---|\n",
       "| chr11 | 4539569 | 4540043 | chr11_4539569_4540043 | HBE1 | OL45 | HBE1,HBG1,HBG2,HBS1L,MYB | ASTARR |  0.14501695 | 0.6550523 |\n",
       "| chr11 | 4551336 | 4552012 | chr11_4551336_4552012 | HBE1 | OL45 | NA                       | ASTARR |  0.32125162 | 0.7560976 |\n",
       "| chr11 | 4553969 | 4555012 | chr11_4553969_4555012 | HBE1 | OL45 | NA                       | ASTARR |  0.14529397 | 0.6556330 |\n",
       "| chr11 | 4569016 | 4569992 | chr11_4569016_4569992 | HBE1 | OL45 | NA                       | ASTARR |  0.01136464 | 0.5673635 |\n",
       "| chr11 | 4577444 | 4578031 | chr11_4577444_4578031 | HBE1 | OL45 | NA                       | ASTARR |  0.24524353 | 0.7154472 |\n",
       "| chr11 | 4601808 | 4602487 | chr11_4601808_4602487 | HBE1 | OL45 | NA                       | ASTARR | -0.57215284 | 0.1277584 |\n",
       "\n"
      ],
      "text/plain": [
       "  Chrom Start   End     Peak                  TMPRA_Gene TMPRA_Dataset\n",
       "1 chr11 4539569 4540043 chr11_4539569_4540043 HBE1       OL45         \n",
       "2 chr11 4551336 4552012 chr11_4551336_4552012 HBE1       OL45         \n",
       "3 chr11 4553969 4555012 chr11_4553969_4555012 HBE1       OL45         \n",
       "4 chr11 4569016 4569992 chr11_4569016_4569992 HBE1       OL45         \n",
       "5 chr11 4577444 4578031 chr11_4577444_4578031 HBE1       OL45         \n",
       "6 chr11 4601808 4602487 chr11_4601808_4602487 HBE1       OL45         \n",
       "  CRISPR_HCFF              Assay  Log2FC      RankNorm_Total\n",
       "1 HBE1,HBG1,HBG2,HBS1L,MYB ASTARR  0.14501695 0.6550523     \n",
       "2 NA                       ASTARR  0.32125162 0.7560976     \n",
       "3 NA                       ASTARR  0.14529397 0.6556330     \n",
       "4 NA                       ASTARR  0.01136464 0.5673635     \n",
       "5 NA                       ASTARR  0.24524353 0.7154472     \n",
       "6 NA                       ASTARR -0.57215284 0.1277584     "
      ]
     },
     "metadata": {},
     "output_type": "display_data"
    }
   ],
   "source": [
    "### set file directories\n",
    "fdiry = file.path(FD_RES, \"results\", \"comparison\")\n",
    "fname = \"result.ranknorm.starrmpra.tsv\"\n",
    "fpath = file.path(fdiry, fname)\n",
    "\n",
    "### read data\n",
    "dat = read_tsv(fpath)\n",
    "\n",
    "### assign and show\n",
    "dat_peak_starrmpra_res = dat\n",
    "print(dim(dat))\n",
    "head(dat)"
   ]
  },
  {
   "cell_type": "code",
   "execution_count": 4,
   "metadata": {},
   "outputs": [
    {
     "name": "stderr",
     "output_type": "stream",
     "text": [
      "\u001b[1mRows: \u001b[22m\u001b[34m1722\u001b[39m \u001b[1mColumns: \u001b[22m\u001b[34m4\u001b[39m\n",
      "\u001b[36m──\u001b[39m \u001b[1mColumn specification\u001b[22m \u001b[36m─────────────────────────────────────────\u001b[39m\n",
      "\u001b[1mDelimiter:\u001b[22m \"\\t\"\n",
      "\u001b[31mchr\u001b[39m (1): Peak\n",
      "\u001b[32mdbl\u001b[39m (3): RankNorm, CRISPR_pos, CRISPR_neg\n",
      "\n",
      "\u001b[36mℹ\u001b[39m Use `spec()` to retrieve the full column specification for this data.\n",
      "\u001b[36mℹ\u001b[39m Specify the column types or set `show_col_types = FALSE` to quiet this message.\n"
     ]
    },
    {
     "name": "stdout",
     "output_type": "stream",
     "text": [
      "[1] 1722    4\n"
     ]
    },
    {
     "data": {
      "text/html": [
       "<table class=\"dataframe\">\n",
       "<caption>A tibble: 6 × 4</caption>\n",
       "<thead>\n",
       "\t<tr><th scope=col>Peak</th><th scope=col>RankNorm</th><th scope=col>CRISPR_pos</th><th scope=col>CRISPR_neg</th></tr>\n",
       "\t<tr><th scope=col>&lt;chr&gt;</th><th scope=col>&lt;dbl&gt;</th><th scope=col>&lt;dbl&gt;</th><th scope=col>&lt;dbl&gt;</th></tr>\n",
       "</thead>\n",
       "<tbody>\n",
       "\t<tr><td>chrX_48996933_48997220  </td><td>0.002129307</td><td>0.00000000</td><td> 0.0000000</td></tr>\n",
       "\t<tr><td>chr8_128298518_128298762</td><td>0.009291521</td><td>0.29710614</td><td> 0.0000000</td></tr>\n",
       "\t<tr><td>chr8_128242220_128242507</td><td>0.039876113</td><td>0.01841620</td><td>-0.3771868</td></tr>\n",
       "\t<tr><td>chr11_34024311_34024546 </td><td>0.040456833</td><td>0.00000000</td><td> 0.0000000</td></tr>\n",
       "\t<tr><td>chr8_128189792_128190210</td><td>0.041231127</td><td>0.09226309</td><td>-0.1074660</td></tr>\n",
       "\t<tr><td>chr20_56703281_56703575 </td><td>0.048199768</td><td>0.00000000</td><td> 0.0000000</td></tr>\n",
       "</tbody>\n",
       "</table>\n"
      ],
      "text/latex": [
       "A tibble: 6 × 4\n",
       "\\begin{tabular}{llll}\n",
       " Peak & RankNorm & CRISPR\\_pos & CRISPR\\_neg\\\\\n",
       " <chr> & <dbl> & <dbl> & <dbl>\\\\\n",
       "\\hline\n",
       "\t chrX\\_48996933\\_48997220   & 0.002129307 & 0.00000000 &  0.0000000\\\\\n",
       "\t chr8\\_128298518\\_128298762 & 0.009291521 & 0.29710614 &  0.0000000\\\\\n",
       "\t chr8\\_128242220\\_128242507 & 0.039876113 & 0.01841620 & -0.3771868\\\\\n",
       "\t chr11\\_34024311\\_34024546  & 0.040456833 & 0.00000000 &  0.0000000\\\\\n",
       "\t chr8\\_128189792\\_128190210 & 0.041231127 & 0.09226309 & -0.1074660\\\\\n",
       "\t chr20\\_56703281\\_56703575  & 0.048199768 & 0.00000000 &  0.0000000\\\\\n",
       "\\end{tabular}\n"
      ],
      "text/markdown": [
       "\n",
       "A tibble: 6 × 4\n",
       "\n",
       "| Peak &lt;chr&gt; | RankNorm &lt;dbl&gt; | CRISPR_pos &lt;dbl&gt; | CRISPR_neg &lt;dbl&gt; |\n",
       "|---|---|---|---|\n",
       "| chrX_48996933_48997220   | 0.002129307 | 0.00000000 |  0.0000000 |\n",
       "| chr8_128298518_128298762 | 0.009291521 | 0.29710614 |  0.0000000 |\n",
       "| chr8_128242220_128242507 | 0.039876113 | 0.01841620 | -0.3771868 |\n",
       "| chr11_34024311_34024546  | 0.040456833 | 0.00000000 |  0.0000000 |\n",
       "| chr8_128189792_128190210 | 0.041231127 | 0.09226309 | -0.1074660 |\n",
       "| chr20_56703281_56703575  | 0.048199768 | 0.00000000 |  0.0000000 |\n",
       "\n"
      ],
      "text/plain": [
       "  Peak                     RankNorm    CRISPR_pos CRISPR_neg\n",
       "1 chrX_48996933_48997220   0.002129307 0.00000000  0.0000000\n",
       "2 chr8_128298518_128298762 0.009291521 0.29710614  0.0000000\n",
       "3 chr8_128242220_128242507 0.039876113 0.01841620 -0.3771868\n",
       "4 chr11_34024311_34024546  0.040456833 0.00000000  0.0000000\n",
       "5 chr8_128189792_128190210 0.041231127 0.09226309 -0.1074660\n",
       "6 chr20_56703281_56703575  0.048199768 0.00000000  0.0000000"
      ]
     },
     "metadata": {},
     "output_type": "display_data"
    }
   ],
   "source": [
    "### set file directories\n",
    "fdiry = file.path(FD_RES, \"results\", \"comparison\")\n",
    "fname = \"result.ranknorm.starrmpra.crispr.tsv\"\n",
    "fpath = file.path(fdiry, fname)\n",
    "\n",
    "### read data\n",
    "dat = read_tsv(fpath)\n",
    "\n",
    "### assign and show\n",
    "dat_peak_score_starrmpra_crispr = dat\n",
    "print(dim(dat))\n",
    "head(dat)"
   ]
  },
  {
   "cell_type": "code",
   "execution_count": 5,
   "metadata": {},
   "outputs": [
    {
     "name": "stdout",
     "output_type": "stream",
     "text": [
      "[1] 1722    4\n"
     ]
    },
    {
     "data": {
      "text/html": [
       "<table class=\"dataframe\">\n",
       "<caption>A tibble: 6 × 4</caption>\n",
       "<thead>\n",
       "\t<tr><th scope=col>Peak</th><th scope=col>RankNorm</th><th scope=col>CRISPR_pos</th><th scope=col>CRISPR_neg</th></tr>\n",
       "\t<tr><th scope=col>&lt;chr&gt;</th><th scope=col>&lt;dbl&gt;</th><th scope=col>&lt;dbl&gt;</th><th scope=col>&lt;dbl&gt;</th></tr>\n",
       "</thead>\n",
       "<tbody>\n",
       "\t<tr><td>chrX_48996933_48997220  </td><td>0.002129307</td><td>0.00000000</td><td> 0.0000000</td></tr>\n",
       "\t<tr><td>chr8_128298518_128298762</td><td>0.009291521</td><td>0.29710614</td><td> 0.0000000</td></tr>\n",
       "\t<tr><td>chr8_128242220_128242507</td><td>0.039876113</td><td>0.01841620</td><td>-0.3771868</td></tr>\n",
       "\t<tr><td>chr11_34024311_34024546 </td><td>0.040456833</td><td>0.00000000</td><td> 0.0000000</td></tr>\n",
       "\t<tr><td>chr8_128189792_128190210</td><td>0.041231127</td><td>0.09226309</td><td>-0.1074660</td></tr>\n",
       "\t<tr><td>chr20_56703281_56703575 </td><td>0.048199768</td><td>0.00000000</td><td> 0.0000000</td></tr>\n",
       "</tbody>\n",
       "</table>\n"
      ],
      "text/latex": [
       "A tibble: 6 × 4\n",
       "\\begin{tabular}{llll}\n",
       " Peak & RankNorm & CRISPR\\_pos & CRISPR\\_neg\\\\\n",
       " <chr> & <dbl> & <dbl> & <dbl>\\\\\n",
       "\\hline\n",
       "\t chrX\\_48996933\\_48997220   & 0.002129307 & 0.00000000 &  0.0000000\\\\\n",
       "\t chr8\\_128298518\\_128298762 & 0.009291521 & 0.29710614 &  0.0000000\\\\\n",
       "\t chr8\\_128242220\\_128242507 & 0.039876113 & 0.01841620 & -0.3771868\\\\\n",
       "\t chr11\\_34024311\\_34024546  & 0.040456833 & 0.00000000 &  0.0000000\\\\\n",
       "\t chr8\\_128189792\\_128190210 & 0.041231127 & 0.09226309 & -0.1074660\\\\\n",
       "\t chr20\\_56703281\\_56703575  & 0.048199768 & 0.00000000 &  0.0000000\\\\\n",
       "\\end{tabular}\n"
      ],
      "text/markdown": [
       "\n",
       "A tibble: 6 × 4\n",
       "\n",
       "| Peak &lt;chr&gt; | RankNorm &lt;dbl&gt; | CRISPR_pos &lt;dbl&gt; | CRISPR_neg &lt;dbl&gt; |\n",
       "|---|---|---|---|\n",
       "| chrX_48996933_48997220   | 0.002129307 | 0.00000000 |  0.0000000 |\n",
       "| chr8_128298518_128298762 | 0.009291521 | 0.29710614 |  0.0000000 |\n",
       "| chr8_128242220_128242507 | 0.039876113 | 0.01841620 | -0.3771868 |\n",
       "| chr11_34024311_34024546  | 0.040456833 | 0.00000000 |  0.0000000 |\n",
       "| chr8_128189792_128190210 | 0.041231127 | 0.09226309 | -0.1074660 |\n",
       "| chr20_56703281_56703575  | 0.048199768 | 0.00000000 |  0.0000000 |\n",
       "\n"
      ],
      "text/plain": [
       "  Peak                     RankNorm    CRISPR_pos CRISPR_neg\n",
       "1 chrX_48996933_48997220   0.002129307 0.00000000  0.0000000\n",
       "2 chr8_128298518_128298762 0.009291521 0.29710614  0.0000000\n",
       "3 chr8_128242220_128242507 0.039876113 0.01841620 -0.3771868\n",
       "4 chr11_34024311_34024546  0.040456833 0.00000000  0.0000000\n",
       "5 chr8_128189792_128190210 0.041231127 0.09226309 -0.1074660\n",
       "6 chr20_56703281_56703575  0.048199768 0.00000000  0.0000000"
      ]
     },
     "metadata": {},
     "output_type": "display_data"
    }
   ],
   "source": [
    "dat = dat_peak_score_starrmpra_crispr\n",
    "dat = dat %>% arrange(RankNorm)\n",
    "\n",
    "peaks  = dat$Peak\n",
    "assays = c(\"ASTARR\", \"WSTARR\", \"TMPRA\")\n",
    "print(dim(dat))\n",
    "head(dat)"
   ]
  },
  {
   "cell_type": "markdown",
   "metadata": {},
   "source": [
    "## Import annotation"
   ]
  },
  {
   "cell_type": "code",
   "execution_count": 6,
   "metadata": {},
   "outputs": [
    {
     "name": "stderr",
     "output_type": "stream",
     "text": [
      "\u001b[1mRows: \u001b[22m\u001b[34m270491\u001b[39m \u001b[1mColumns: \u001b[22m\u001b[34m4\u001b[39m\n",
      "\u001b[36m──\u001b[39m \u001b[1mColumn specification\u001b[22m \u001b[36m─────────────────────────────────────────\u001b[39m\n",
      "\u001b[1mDelimiter:\u001b[22m \"\\t\"\n",
      "\u001b[31mchr\u001b[39m (3): Peak, Annotation, Label\n",
      "\u001b[32mdbl\u001b[39m (1): Count\n",
      "\n",
      "\u001b[36mℹ\u001b[39m Use `spec()` to retrieve the full column specification for this data.\n",
      "\u001b[36mℹ\u001b[39m Specify the column types or set `show_col_types = FALSE` to quiet this message.\n"
     ]
    },
    {
     "name": "stdout",
     "output_type": "stream",
     "text": [
      "[1] 270491      4\n"
     ]
    },
    {
     "data": {
      "text/html": [
       "<table class=\"dataframe\">\n",
       "<caption>A tibble: 6 × 4</caption>\n",
       "<thead>\n",
       "\t<tr><th scope=col>Peak</th><th scope=col>Annotation</th><th scope=col>Label</th><th scope=col>Count</th></tr>\n",
       "\t<tr><th scope=col>&lt;chr&gt;</th><th scope=col>&lt;chr&gt;</th><th scope=col>&lt;chr&gt;</th><th scope=col>&lt;dbl&gt;</th></tr>\n",
       "</thead>\n",
       "<tbody>\n",
       "\t<tr><td>chr10_100009096_100010466</td><td>ChIPseq_TF</td><td>YY1</td><td>1</td></tr>\n",
       "\t<tr><td>chr10_100185017_100187275</td><td>ChIPseq_TF</td><td>YY1</td><td>1</td></tr>\n",
       "\t<tr><td>chr10_100228452_100230090</td><td>ChIPseq_TF</td><td>YY1</td><td>1</td></tr>\n",
       "\t<tr><td>chr10_100267066_100268374</td><td>ChIPseq_TF</td><td>YY1</td><td>1</td></tr>\n",
       "\t<tr><td>chr10_100285974_100287341</td><td>ChIPseq_TF</td><td>YY1</td><td>2</td></tr>\n",
       "\t<tr><td>chr10_100346328_100347693</td><td>ChIPseq_TF</td><td>YY1</td><td>1</td></tr>\n",
       "</tbody>\n",
       "</table>\n"
      ],
      "text/latex": [
       "A tibble: 6 × 4\n",
       "\\begin{tabular}{llll}\n",
       " Peak & Annotation & Label & Count\\\\\n",
       " <chr> & <chr> & <chr> & <dbl>\\\\\n",
       "\\hline\n",
       "\t chr10\\_100009096\\_100010466 & ChIPseq\\_TF & YY1 & 1\\\\\n",
       "\t chr10\\_100185017\\_100187275 & ChIPseq\\_TF & YY1 & 1\\\\\n",
       "\t chr10\\_100228452\\_100230090 & ChIPseq\\_TF & YY1 & 1\\\\\n",
       "\t chr10\\_100267066\\_100268374 & ChIPseq\\_TF & YY1 & 1\\\\\n",
       "\t chr10\\_100285974\\_100287341 & ChIPseq\\_TF & YY1 & 2\\\\\n",
       "\t chr10\\_100346328\\_100347693 & ChIPseq\\_TF & YY1 & 1\\\\\n",
       "\\end{tabular}\n"
      ],
      "text/markdown": [
       "\n",
       "A tibble: 6 × 4\n",
       "\n",
       "| Peak &lt;chr&gt; | Annotation &lt;chr&gt; | Label &lt;chr&gt; | Count &lt;dbl&gt; |\n",
       "|---|---|---|---|\n",
       "| chr10_100009096_100010466 | ChIPseq_TF | YY1 | 1 |\n",
       "| chr10_100185017_100187275 | ChIPseq_TF | YY1 | 1 |\n",
       "| chr10_100228452_100230090 | ChIPseq_TF | YY1 | 1 |\n",
       "| chr10_100267066_100268374 | ChIPseq_TF | YY1 | 1 |\n",
       "| chr10_100285974_100287341 | ChIPseq_TF | YY1 | 2 |\n",
       "| chr10_100346328_100347693 | ChIPseq_TF | YY1 | 1 |\n",
       "\n"
      ],
      "text/plain": [
       "  Peak                      Annotation Label Count\n",
       "1 chr10_100009096_100010466 ChIPseq_TF YY1   1    \n",
       "2 chr10_100185017_100187275 ChIPseq_TF YY1   1    \n",
       "3 chr10_100228452_100230090 ChIPseq_TF YY1   1    \n",
       "4 chr10_100267066_100268374 ChIPseq_TF YY1   1    \n",
       "5 chr10_100285974_100287341 ChIPseq_TF YY1   2    \n",
       "6 chr10_100346328_100347693 ChIPseq_TF YY1   1    "
      ]
     },
     "metadata": {},
     "output_type": "display_data"
    }
   ],
   "source": [
    "fdiry = file.path(FD_RES, \"results\", \"region\", \"KS91_K562_ASTARRseq_peak_macs_input\", \"summary\")\n",
    "fname = \"peak.summary.chipseq_tf_subset.tsv\"\n",
    "fpath = file.path(fdiry, fname)\n",
    "\n",
    "dat = read_tsv(fpath)\n",
    "\n",
    "dat_peak_annot_chipseq_tf_subset = dat\n",
    "print(dim(dat))\n",
    "head(dat)"
   ]
  },
  {
   "cell_type": "markdown",
   "metadata": {},
   "source": [
    "## Combine"
   ]
  },
  {
   "cell_type": "code",
   "execution_count": 7,
   "metadata": {},
   "outputs": [
    {
     "data": {
      "text/html": [
       "<table class=\"dataframe\">\n",
       "<caption>A tibble: 6 × 4</caption>\n",
       "<thead>\n",
       "\t<tr><th scope=col>Peak</th><th scope=col>Annotation</th><th scope=col>Label</th><th scope=col>Count</th></tr>\n",
       "\t<tr><th scope=col>&lt;chr&gt;</th><th scope=col>&lt;chr&gt;</th><th scope=col>&lt;chr&gt;</th><th scope=col>&lt;dbl&gt;</th></tr>\n",
       "</thead>\n",
       "<tbody>\n",
       "\t<tr><td>chr10_100009096_100010466</td><td>ChIPseq_TF</td><td>ATF1</td><td>1</td></tr>\n",
       "\t<tr><td>chr10_100185017_100187275</td><td>ChIPseq_TF</td><td>ATF1</td><td>2</td></tr>\n",
       "\t<tr><td>chr10_100228452_100230090</td><td>ChIPseq_TF</td><td>ATF1</td><td>2</td></tr>\n",
       "\t<tr><td>chr10_100267066_100268374</td><td>ChIPseq_TF</td><td>ATF1</td><td>2</td></tr>\n",
       "\t<tr><td>chr10_100285974_100287341</td><td>ChIPseq_TF</td><td>ATF1</td><td>2</td></tr>\n",
       "\t<tr><td>chr10_100346328_100347693</td><td>ChIPseq_TF</td><td>ATF1</td><td>1</td></tr>\n",
       "</tbody>\n",
       "</table>\n"
      ],
      "text/latex": [
       "A tibble: 6 × 4\n",
       "\\begin{tabular}{llll}\n",
       " Peak & Annotation & Label & Count\\\\\n",
       " <chr> & <chr> & <chr> & <dbl>\\\\\n",
       "\\hline\n",
       "\t chr10\\_100009096\\_100010466 & ChIPseq\\_TF & ATF1 & 1\\\\\n",
       "\t chr10\\_100185017\\_100187275 & ChIPseq\\_TF & ATF1 & 2\\\\\n",
       "\t chr10\\_100228452\\_100230090 & ChIPseq\\_TF & ATF1 & 2\\\\\n",
       "\t chr10\\_100267066\\_100268374 & ChIPseq\\_TF & ATF1 & 2\\\\\n",
       "\t chr10\\_100285974\\_100287341 & ChIPseq\\_TF & ATF1 & 2\\\\\n",
       "\t chr10\\_100346328\\_100347693 & ChIPseq\\_TF & ATF1 & 1\\\\\n",
       "\\end{tabular}\n"
      ],
      "text/markdown": [
       "\n",
       "A tibble: 6 × 4\n",
       "\n",
       "| Peak &lt;chr&gt; | Annotation &lt;chr&gt; | Label &lt;chr&gt; | Count &lt;dbl&gt; |\n",
       "|---|---|---|---|\n",
       "| chr10_100009096_100010466 | ChIPseq_TF | ATF1 | 1 |\n",
       "| chr10_100185017_100187275 | ChIPseq_TF | ATF1 | 2 |\n",
       "| chr10_100228452_100230090 | ChIPseq_TF | ATF1 | 2 |\n",
       "| chr10_100267066_100268374 | ChIPseq_TF | ATF1 | 2 |\n",
       "| chr10_100285974_100287341 | ChIPseq_TF | ATF1 | 2 |\n",
       "| chr10_100346328_100347693 | ChIPseq_TF | ATF1 | 1 |\n",
       "\n"
      ],
      "text/plain": [
       "  Peak                      Annotation Label Count\n",
       "1 chr10_100009096_100010466 ChIPseq_TF ATF1  1    \n",
       "2 chr10_100185017_100187275 ChIPseq_TF ATF1  2    \n",
       "3 chr10_100228452_100230090 ChIPseq_TF ATF1  2    \n",
       "4 chr10_100267066_100268374 ChIPseq_TF ATF1  2    \n",
       "5 chr10_100285974_100287341 ChIPseq_TF ATF1  2    \n",
       "6 chr10_100346328_100347693 ChIPseq_TF ATF1  1    "
      ]
     },
     "metadata": {},
     "output_type": "display_data"
    }
   ],
   "source": [
    "dat = dat_peak_annot_chipseq_tf_subset\n",
    "lst = split(dat, dat$Label)\n",
    "lst_annot = lst\n",
    "\n",
    "head(lst[[1]])"
   ]
  },
  {
   "cell_type": "code",
   "execution_count": 11,
   "metadata": {},
   "outputs": [
    {
     "name": "stdout",
     "output_type": "stream",
     "text": [
      "[1] 5166   10\n"
     ]
    },
    {
     "data": {
      "text/html": [
       "<table class=\"dataframe\">\n",
       "<caption>A tibble: 6 × 10</caption>\n",
       "<thead>\n",
       "\t<tr><th scope=col>Chrom</th><th scope=col>Start</th><th scope=col>End</th><th scope=col>Peak</th><th scope=col>TMPRA_Gene</th><th scope=col>TMPRA_Dataset</th><th scope=col>CRISPR_HCFF</th><th scope=col>Assay</th><th scope=col>Log2FC</th><th scope=col>RankNorm_Total</th></tr>\n",
       "\t<tr><th scope=col>&lt;chr&gt;</th><th scope=col>&lt;dbl&gt;</th><th scope=col>&lt;dbl&gt;</th><th scope=col>&lt;chr&gt;</th><th scope=col>&lt;chr&gt;</th><th scope=col>&lt;chr&gt;</th><th scope=col>&lt;chr&gt;</th><th scope=col>&lt;chr&gt;</th><th scope=col>&lt;dbl&gt;</th><th scope=col>&lt;dbl&gt;</th></tr>\n",
       "</thead>\n",
       "<tbody>\n",
       "\t<tr><td>chr11</td><td>4539569</td><td>4540043</td><td>chr11_4539569_4540043</td><td>HBE1</td><td>OL45</td><td>HBE1,HBG1,HBG2,HBS1L,MYB</td><td>ASTARR</td><td> 0.14501695</td><td>0.6550523</td></tr>\n",
       "\t<tr><td>chr11</td><td>4551336</td><td>4552012</td><td>chr11_4551336_4552012</td><td>HBE1</td><td>OL45</td><td>NA                      </td><td>ASTARR</td><td> 0.32125162</td><td>0.7560976</td></tr>\n",
       "\t<tr><td>chr11</td><td>4553969</td><td>4555012</td><td>chr11_4553969_4555012</td><td>HBE1</td><td>OL45</td><td>NA                      </td><td>ASTARR</td><td> 0.14529397</td><td>0.6556330</td></tr>\n",
       "\t<tr><td>chr11</td><td>4569016</td><td>4569992</td><td>chr11_4569016_4569992</td><td>HBE1</td><td>OL45</td><td>NA                      </td><td>ASTARR</td><td> 0.01136464</td><td>0.5673635</td></tr>\n",
       "\t<tr><td>chr11</td><td>4577444</td><td>4578031</td><td>chr11_4577444_4578031</td><td>HBE1</td><td>OL45</td><td>NA                      </td><td>ASTARR</td><td> 0.24524353</td><td>0.7154472</td></tr>\n",
       "\t<tr><td>chr11</td><td>4601808</td><td>4602487</td><td>chr11_4601808_4602487</td><td>HBE1</td><td>OL45</td><td>NA                      </td><td>ASTARR</td><td>-0.57215284</td><td>0.1277584</td></tr>\n",
       "</tbody>\n",
       "</table>\n"
      ],
      "text/latex": [
       "A tibble: 6 × 10\n",
       "\\begin{tabular}{llllllllll}\n",
       " Chrom & Start & End & Peak & TMPRA\\_Gene & TMPRA\\_Dataset & CRISPR\\_HCFF & Assay & Log2FC & RankNorm\\_Total\\\\\n",
       " <chr> & <dbl> & <dbl> & <chr> & <chr> & <chr> & <chr> & <chr> & <dbl> & <dbl>\\\\\n",
       "\\hline\n",
       "\t chr11 & 4539569 & 4540043 & chr11\\_4539569\\_4540043 & HBE1 & OL45 & HBE1,HBG1,HBG2,HBS1L,MYB & ASTARR &  0.14501695 & 0.6550523\\\\\n",
       "\t chr11 & 4551336 & 4552012 & chr11\\_4551336\\_4552012 & HBE1 & OL45 & NA                       & ASTARR &  0.32125162 & 0.7560976\\\\\n",
       "\t chr11 & 4553969 & 4555012 & chr11\\_4553969\\_4555012 & HBE1 & OL45 & NA                       & ASTARR &  0.14529397 & 0.6556330\\\\\n",
       "\t chr11 & 4569016 & 4569992 & chr11\\_4569016\\_4569992 & HBE1 & OL45 & NA                       & ASTARR &  0.01136464 & 0.5673635\\\\\n",
       "\t chr11 & 4577444 & 4578031 & chr11\\_4577444\\_4578031 & HBE1 & OL45 & NA                       & ASTARR &  0.24524353 & 0.7154472\\\\\n",
       "\t chr11 & 4601808 & 4602487 & chr11\\_4601808\\_4602487 & HBE1 & OL45 & NA                       & ASTARR & -0.57215284 & 0.1277584\\\\\n",
       "\\end{tabular}\n"
      ],
      "text/markdown": [
       "\n",
       "A tibble: 6 × 10\n",
       "\n",
       "| Chrom &lt;chr&gt; | Start &lt;dbl&gt; | End &lt;dbl&gt; | Peak &lt;chr&gt; | TMPRA_Gene &lt;chr&gt; | TMPRA_Dataset &lt;chr&gt; | CRISPR_HCFF &lt;chr&gt; | Assay &lt;chr&gt; | Log2FC &lt;dbl&gt; | RankNorm_Total &lt;dbl&gt; |\n",
       "|---|---|---|---|---|---|---|---|---|---|\n",
       "| chr11 | 4539569 | 4540043 | chr11_4539569_4540043 | HBE1 | OL45 | HBE1,HBG1,HBG2,HBS1L,MYB | ASTARR |  0.14501695 | 0.6550523 |\n",
       "| chr11 | 4551336 | 4552012 | chr11_4551336_4552012 | HBE1 | OL45 | NA                       | ASTARR |  0.32125162 | 0.7560976 |\n",
       "| chr11 | 4553969 | 4555012 | chr11_4553969_4555012 | HBE1 | OL45 | NA                       | ASTARR |  0.14529397 | 0.6556330 |\n",
       "| chr11 | 4569016 | 4569992 | chr11_4569016_4569992 | HBE1 | OL45 | NA                       | ASTARR |  0.01136464 | 0.5673635 |\n",
       "| chr11 | 4577444 | 4578031 | chr11_4577444_4578031 | HBE1 | OL45 | NA                       | ASTARR |  0.24524353 | 0.7154472 |\n",
       "| chr11 | 4601808 | 4602487 | chr11_4601808_4602487 | HBE1 | OL45 | NA                       | ASTARR | -0.57215284 | 0.1277584 |\n",
       "\n"
      ],
      "text/plain": [
       "  Chrom Start   End     Peak                  TMPRA_Gene TMPRA_Dataset\n",
       "1 chr11 4539569 4540043 chr11_4539569_4540043 HBE1       OL45         \n",
       "2 chr11 4551336 4552012 chr11_4551336_4552012 HBE1       OL45         \n",
       "3 chr11 4553969 4555012 chr11_4553969_4555012 HBE1       OL45         \n",
       "4 chr11 4569016 4569992 chr11_4569016_4569992 HBE1       OL45         \n",
       "5 chr11 4577444 4578031 chr11_4577444_4578031 HBE1       OL45         \n",
       "6 chr11 4601808 4602487 chr11_4601808_4602487 HBE1       OL45         \n",
       "  CRISPR_HCFF              Assay  Log2FC      RankNorm_Total\n",
       "1 HBE1,HBG1,HBG2,HBS1L,MYB ASTARR  0.14501695 0.6550523     \n",
       "2 NA                       ASTARR  0.32125162 0.7560976     \n",
       "3 NA                       ASTARR  0.14529397 0.6556330     \n",
       "4 NA                       ASTARR  0.01136464 0.5673635     \n",
       "5 NA                       ASTARR  0.24524353 0.7154472     \n",
       "6 NA                       ASTARR -0.57215284 0.1277584     "
      ]
     },
     "metadata": {},
     "output_type": "display_data"
    }
   ],
   "source": [
    "dat = dat_peak_starrmpra_res\n",
    "print(dim(dat))\n",
    "head(dat)"
   ]
  },
  {
   "cell_type": "code",
   "execution_count": 13,
   "metadata": {},
   "outputs": [
    {
     "name": "stdout",
     "output_type": "stream",
     "text": [
      "[1] 1722    4\n"
     ]
    },
    {
     "data": {
      "text/html": [
       "<table class=\"dataframe\">\n",
       "<caption>A tibble: 6 × 4</caption>\n",
       "<thead>\n",
       "\t<tr><th scope=col>Peak</th><th scope=col>RankNorm</th><th scope=col>CRISPR_pos</th><th scope=col>CRISPR_neg</th></tr>\n",
       "\t<tr><th scope=col>&lt;chr&gt;</th><th scope=col>&lt;dbl&gt;</th><th scope=col>&lt;dbl&gt;</th><th scope=col>&lt;dbl&gt;</th></tr>\n",
       "</thead>\n",
       "<tbody>\n",
       "\t<tr><td>chrX_48996933_48997220  </td><td>0.002129307</td><td>0.00000000</td><td> 0.0000000</td></tr>\n",
       "\t<tr><td>chr8_128298518_128298762</td><td>0.009291521</td><td>0.29710614</td><td> 0.0000000</td></tr>\n",
       "\t<tr><td>chr8_128242220_128242507</td><td>0.039876113</td><td>0.01841620</td><td>-0.3771868</td></tr>\n",
       "\t<tr><td>chr11_34024311_34024546 </td><td>0.040456833</td><td>0.00000000</td><td> 0.0000000</td></tr>\n",
       "\t<tr><td>chr8_128189792_128190210</td><td>0.041231127</td><td>0.09226309</td><td>-0.1074660</td></tr>\n",
       "\t<tr><td>chr20_56703281_56703575 </td><td>0.048199768</td><td>0.00000000</td><td> 0.0000000</td></tr>\n",
       "</tbody>\n",
       "</table>\n"
      ],
      "text/latex": [
       "A tibble: 6 × 4\n",
       "\\begin{tabular}{llll}\n",
       " Peak & RankNorm & CRISPR\\_pos & CRISPR\\_neg\\\\\n",
       " <chr> & <dbl> & <dbl> & <dbl>\\\\\n",
       "\\hline\n",
       "\t chrX\\_48996933\\_48997220   & 0.002129307 & 0.00000000 &  0.0000000\\\\\n",
       "\t chr8\\_128298518\\_128298762 & 0.009291521 & 0.29710614 &  0.0000000\\\\\n",
       "\t chr8\\_128242220\\_128242507 & 0.039876113 & 0.01841620 & -0.3771868\\\\\n",
       "\t chr11\\_34024311\\_34024546  & 0.040456833 & 0.00000000 &  0.0000000\\\\\n",
       "\t chr8\\_128189792\\_128190210 & 0.041231127 & 0.09226309 & -0.1074660\\\\\n",
       "\t chr20\\_56703281\\_56703575  & 0.048199768 & 0.00000000 &  0.0000000\\\\\n",
       "\\end{tabular}\n"
      ],
      "text/markdown": [
       "\n",
       "A tibble: 6 × 4\n",
       "\n",
       "| Peak &lt;chr&gt; | RankNorm &lt;dbl&gt; | CRISPR_pos &lt;dbl&gt; | CRISPR_neg &lt;dbl&gt; |\n",
       "|---|---|---|---|\n",
       "| chrX_48996933_48997220   | 0.002129307 | 0.00000000 |  0.0000000 |\n",
       "| chr8_128298518_128298762 | 0.009291521 | 0.29710614 |  0.0000000 |\n",
       "| chr8_128242220_128242507 | 0.039876113 | 0.01841620 | -0.3771868 |\n",
       "| chr11_34024311_34024546  | 0.040456833 | 0.00000000 |  0.0000000 |\n",
       "| chr8_128189792_128190210 | 0.041231127 | 0.09226309 | -0.1074660 |\n",
       "| chr20_56703281_56703575  | 0.048199768 | 0.00000000 |  0.0000000 |\n",
       "\n"
      ],
      "text/plain": [
       "  Peak                     RankNorm    CRISPR_pos CRISPR_neg\n",
       "1 chrX_48996933_48997220   0.002129307 0.00000000  0.0000000\n",
       "2 chr8_128298518_128298762 0.009291521 0.29710614  0.0000000\n",
       "3 chr8_128242220_128242507 0.039876113 0.01841620 -0.3771868\n",
       "4 chr11_34024311_34024546  0.040456833 0.00000000  0.0000000\n",
       "5 chr8_128189792_128190210 0.041231127 0.09226309 -0.1074660\n",
       "6 chr20_56703281_56703575  0.048199768 0.00000000  0.0000000"
      ]
     },
     "metadata": {},
     "output_type": "display_data"
    }
   ],
   "source": [
    "dat = dat_peak_score_starrmpra_crispr\n",
    "print(dim(dat))\n",
    "head(dat)"
   ]
  },
  {
   "cell_type": "code",
   "execution_count": null,
   "metadata": {},
   "outputs": [],
   "source": []
  },
  {
   "cell_type": "code",
   "execution_count": 16,
   "metadata": {},
   "outputs": [
    {
     "name": "stdout",
     "output_type": "stream",
     "text": [
      "[1] 5166    3\n"
     ]
    },
    {
     "data": {
      "text/html": [
       "<table class=\"dataframe\">\n",
       "<caption>A tibble: 6 × 3</caption>\n",
       "<thead>\n",
       "\t<tr><th scope=col>Assay</th><th scope=col>Peak</th><th scope=col>Score</th></tr>\n",
       "\t<tr><th scope=col>&lt;chr&gt;</th><th scope=col>&lt;chr&gt;</th><th scope=col>&lt;dbl&gt;</th></tr>\n",
       "</thead>\n",
       "<tbody>\n",
       "\t<tr><td>ASTARR</td><td>chr11_4539569_4540043</td><td>0.6550523</td></tr>\n",
       "\t<tr><td>ASTARR</td><td>chr11_4551336_4552012</td><td>0.7560976</td></tr>\n",
       "\t<tr><td>ASTARR</td><td>chr11_4553969_4555012</td><td>0.6556330</td></tr>\n",
       "\t<tr><td>ASTARR</td><td>chr11_4569016_4569992</td><td>0.5673635</td></tr>\n",
       "\t<tr><td>ASTARR</td><td>chr11_4577444_4578031</td><td>0.7154472</td></tr>\n",
       "\t<tr><td>ASTARR</td><td>chr11_4601808_4602487</td><td>0.1277584</td></tr>\n",
       "</tbody>\n",
       "</table>\n"
      ],
      "text/latex": [
       "A tibble: 6 × 3\n",
       "\\begin{tabular}{lll}\n",
       " Assay & Peak & Score\\\\\n",
       " <chr> & <chr> & <dbl>\\\\\n",
       "\\hline\n",
       "\t ASTARR & chr11\\_4539569\\_4540043 & 0.6550523\\\\\n",
       "\t ASTARR & chr11\\_4551336\\_4552012 & 0.7560976\\\\\n",
       "\t ASTARR & chr11\\_4553969\\_4555012 & 0.6556330\\\\\n",
       "\t ASTARR & chr11\\_4569016\\_4569992 & 0.5673635\\\\\n",
       "\t ASTARR & chr11\\_4577444\\_4578031 & 0.7154472\\\\\n",
       "\t ASTARR & chr11\\_4601808\\_4602487 & 0.1277584\\\\\n",
       "\\end{tabular}\n"
      ],
      "text/markdown": [
       "\n",
       "A tibble: 6 × 3\n",
       "\n",
       "| Assay &lt;chr&gt; | Peak &lt;chr&gt; | Score &lt;dbl&gt; |\n",
       "|---|---|---|\n",
       "| ASTARR | chr11_4539569_4540043 | 0.6550523 |\n",
       "| ASTARR | chr11_4551336_4552012 | 0.7560976 |\n",
       "| ASTARR | chr11_4553969_4555012 | 0.6556330 |\n",
       "| ASTARR | chr11_4569016_4569992 | 0.5673635 |\n",
       "| ASTARR | chr11_4577444_4578031 | 0.7154472 |\n",
       "| ASTARR | chr11_4601808_4602487 | 0.1277584 |\n",
       "\n"
      ],
      "text/plain": [
       "  Assay  Peak                  Score    \n",
       "1 ASTARR chr11_4539569_4540043 0.6550523\n",
       "2 ASTARR chr11_4551336_4552012 0.7560976\n",
       "3 ASTARR chr11_4553969_4555012 0.6556330\n",
       "4 ASTARR chr11_4569016_4569992 0.5673635\n",
       "5 ASTARR chr11_4577444_4578031 0.7154472\n",
       "6 ASTARR chr11_4601808_4602487 0.1277584"
      ]
     },
     "metadata": {},
     "output_type": "display_data"
    }
   ],
   "source": [
    "dat = dat_peak_starrmpra_res\n",
    "dat = dat %>% \n",
    "    dplyr::mutate(Score = RankNorm_Total) %>%\n",
    "    dplyr::select(Assay, Peak, Score)\n",
    "\n",
    "dat_score = dat\n",
    "print(dim(dat))\n",
    "head(dat)"
   ]
  },
  {
   "cell_type": "code",
   "execution_count": 17,
   "metadata": {},
   "outputs": [
    {
     "name": "stdout",
     "output_type": "stream",
     "text": [
      "[1] 27552     3\n"
     ]
    },
    {
     "data": {
      "text/html": [
       "<table class=\"dataframe\">\n",
       "<caption>A tibble: 6 × 3</caption>\n",
       "<thead>\n",
       "\t<tr><th scope=col>Peak</th><th scope=col>Label</th><th scope=col>Value</th></tr>\n",
       "\t<tr><th scope=col>&lt;chr&gt;</th><th scope=col>&lt;chr&gt;</th><th scope=col>&lt;chr&gt;</th></tr>\n",
       "</thead>\n",
       "<tbody>\n",
       "\t<tr><td>chrX_48996933_48997220  </td><td>ATF1</td><td>0</td></tr>\n",
       "\t<tr><td>chr8_128298518_128298762</td><td>ATF1</td><td>0</td></tr>\n",
       "\t<tr><td>chr8_128242220_128242507</td><td>ATF1</td><td>0</td></tr>\n",
       "\t<tr><td>chr11_34024311_34024546 </td><td>ATF1</td><td>0</td></tr>\n",
       "\t<tr><td>chr8_128189792_128190210</td><td>ATF1</td><td>0</td></tr>\n",
       "\t<tr><td>chr20_56703281_56703575 </td><td>ATF1</td><td>0</td></tr>\n",
       "</tbody>\n",
       "</table>\n"
      ],
      "text/latex": [
       "A tibble: 6 × 3\n",
       "\\begin{tabular}{lll}\n",
       " Peak & Label & Value\\\\\n",
       " <chr> & <chr> & <chr>\\\\\n",
       "\\hline\n",
       "\t chrX\\_48996933\\_48997220   & ATF1 & 0\\\\\n",
       "\t chr8\\_128298518\\_128298762 & ATF1 & 0\\\\\n",
       "\t chr8\\_128242220\\_128242507 & ATF1 & 0\\\\\n",
       "\t chr11\\_34024311\\_34024546  & ATF1 & 0\\\\\n",
       "\t chr8\\_128189792\\_128190210 & ATF1 & 0\\\\\n",
       "\t chr20\\_56703281\\_56703575  & ATF1 & 0\\\\\n",
       "\\end{tabular}\n"
      ],
      "text/markdown": [
       "\n",
       "A tibble: 6 × 3\n",
       "\n",
       "| Peak &lt;chr&gt; | Label &lt;chr&gt; | Value &lt;chr&gt; |\n",
       "|---|---|---|\n",
       "| chrX_48996933_48997220   | ATF1 | 0 |\n",
       "| chr8_128298518_128298762 | ATF1 | 0 |\n",
       "| chr8_128242220_128242507 | ATF1 | 0 |\n",
       "| chr11_34024311_34024546  | ATF1 | 0 |\n",
       "| chr8_128189792_128190210 | ATF1 | 0 |\n",
       "| chr20_56703281_56703575  | ATF1 | 0 |\n",
       "\n"
      ],
      "text/plain": [
       "  Peak                     Label Value\n",
       "1 chrX_48996933_48997220   ATF1  0    \n",
       "2 chr8_128298518_128298762 ATF1  0    \n",
       "3 chr8_128242220_128242507 ATF1  0    \n",
       "4 chr11_34024311_34024546  ATF1  0    \n",
       "5 chr8_128189792_128190210 ATF1  0    \n",
       "6 chr20_56703281_56703575  ATF1  0    "
      ]
     },
     "metadata": {},
     "output_type": "display_data"
    }
   ],
   "source": [
    "dat = dat_peak_score_starrmpra_crispr\n",
    "dat = dat %>% dplyr::select(Peak) %>% distinct\n",
    "\n",
    "for (idx in names(lst_annot)){\n",
    "    ant = lst_annot[[idx]]\n",
    "    vec = ant$Peak\n",
    "    dat[[idx]] = ifelse(dat$Peak %in% vec, \"1\", \"0\")\n",
    "}\n",
    "\n",
    "dat = dat %>% tidyr::gather(Label, Value, -Peak)\n",
    "\n",
    "dat_annot = dat\n",
    "print(dim(dat))\n",
    "head(dat)"
   ]
  },
  {
   "cell_type": "code",
   "execution_count": 19,
   "metadata": {},
   "outputs": [],
   "source": [
    "dat = dat_peak_score_starrmpra_crispr\n",
    "vec_peak  = dat %>% dplyr::arrange(RankNorm) %>% dplyr::pull(Peak)\n",
    "dat_score = dat_score %>% dplyr::mutate(Peak  = factor(Peak,  levels=vec_peak))\n",
    "dat_annot = dat_annot %>% dplyr::mutate(Peak  = factor(Peak,  levels=vec_peak))"
   ]
  },
  {
   "cell_type": "code",
   "execution_count": 20,
   "metadata": {},
   "outputs": [],
   "source": [
    "vec_label = c('KLF10', 'GATA1', 'CTCF', 'NFE2', 'ELK1', 'TAL1', 'KLF16', 'SP1', 'ZEB2', 'EP300', 'REST', 'POLR2A', 'JUN', 'NRF1', 'YY1', 'ATF1')\n",
    "vec_assay = c(\"ASTARR\", \"WSTARR\", \"TMPRA\")\n",
    "dat_score = dat_score %>% dplyr::mutate(Assay = factor(Assay,  levels=vec_assay))\n",
    "dat_annot = dat_annot %>% dplyr::mutate(Label = factor(Label,  levels=vec_label))"
   ]
  },
  {
   "cell_type": "code",
   "execution_count": null,
   "metadata": {},
   "outputs": [],
   "source": []
  },
  {
   "cell_type": "code",
   "execution_count": null,
   "metadata": {},
   "outputs": [],
   "source": []
  },
  {
   "cell_type": "code",
   "execution_count": 21,
   "metadata": {},
   "outputs": [],
   "source": [
    "theme_fill = scale_fill_gradient2(\n",
    "    low  = \"#4575b4\",\n",
    "    mid  = \"#ffffbf\",\n",
    "    high = \"#d73027\",\n",
    "    midpoint = 0.5\n",
    ")\n",
    "\n",
    "theme_text = theme(\n",
    "    axis.ticks.x = element_blank(),\n",
    "    axis.text.x  = element_blank(),\n",
    "    axis.text.y  = element_text(size = 15),\n",
    "    axis.title.x = element_text(size = 20),\n",
    "    axis.title.y = element_blank()\n",
    ")"
   ]
  },
  {
   "cell_type": "code",
   "execution_count": 23,
   "metadata": {},
   "outputs": [
    {
     "data": {
      "image/png": "[encoded data removed]",
      "text/plain": [
       "plot without title"
      ]
     },
     "metadata": {
      "image/png": {
       "height": 180,
       "width": 900
      }
     },
     "output_type": "display_data"
    }
   ],
   "source": [
    "dat = dat_score\n",
    "gpt = ggplot(dat, aes(x=Peak, y=Assay, fill=Score)) +\n",
    "    geom_tile() +\n",
    "    labs(x=\"\", y = \"\") +\n",
    "    theme_cowplot() + \n",
    "    theme_text +\n",
    "    theme_fill\n",
    "\n",
    "gpt_score = gpt\n",
    "options(repr.plot.height=3, repr.plot.width=15)\n",
    "print(gpt)"
   ]
  },
  {
   "cell_type": "code",
   "execution_count": 25,
   "metadata": {},
   "outputs": [
    {
     "data": {
      "image/png": "[encoded data removed]",
      "text/plain": [
       "plot without title"
      ]
     },
     "metadata": {
      "image/png": {
       "height": 300,
       "width": 900
      }
     },
     "output_type": "display_data"
    }
   ],
   "source": [
    "dat = dat_annot\n",
    "gpt = ggplot(dat, aes(x=Peak, y=Label, fill=Value)) +\n",
    "    geom_tile() +\n",
    "    scale_fill_manual(values = c(\"1\" = \"black\", \"0\" = \"white\")) +\n",
    "    labs(x=\"\", y=\"\") +\n",
    "    theme_cowplot() +\n",
    "    theme(axis.text.x = element_blank(),\n",
    "          axis.text.y = element_text(size=15),\n",
    "          axis.ticks.x = element_blank(),\n",
    "          legend.position = \"bottom\",\n",
    "          legend.key.size = unit(1, 'cm'),\n",
    "          legend.title = element_text(size=20),\n",
    "          legend.text = element_text(size=10))\n",
    "\n",
    "gpt_annot = gpt\n",
    "options(repr.plot.height=5, repr.plot.width=15)\n",
    "print(gpt)"
   ]
  },
  {
   "cell_type": "code",
   "execution_count": 27,
   "metadata": {},
   "outputs": [
    {
     "data": {
      "image/png": "[encoded data removed]",
      "text/plain": [
       "plot without title"
      ]
     },
     "metadata": {
      "image/png": {
       "height": 360,
       "width": 900
      }
     },
     "output_type": "display_data"
    }
   ],
   "source": [
    "options(repr.plot.height=6, repr.plot.width=15)\n",
    "plot_grid(\n",
    "    gpt_score + theme(legend.position = \"none\"), \n",
    "    gpt_annot + theme(legend.position = \"none\"), \n",
    "    ncol  = 1,\n",
    "    align = \"v\",\n",
    "    rel_heights = c(2, 3))"
   ]
  },
  {
   "cell_type": "code",
   "execution_count": null,
   "metadata": {},
   "outputs": [],
   "source": []
  }
 ],
 "metadata": {
  "kernelspec": {
   "display_name": "R",
   "language": "R",
   "name": "ir"
  },
  "language_info": {
   "codemirror_mode": "r",
   "file_extension": ".r",
   "mimetype": "text/x-r-source",
   "name": "R",
   "pygments_lexer": "r",
   "version": "4.3.0"
  }
 },
 "nbformat": 4,
 "nbformat_minor": 4
}
