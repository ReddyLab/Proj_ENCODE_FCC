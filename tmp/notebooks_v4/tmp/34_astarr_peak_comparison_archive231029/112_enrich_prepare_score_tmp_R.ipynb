{
 "cells": [
  {
   "cell_type": "markdown",
   "metadata": {},
   "source": [
    "**Set environment**"
   ]
  },
  {
   "cell_type": "code",
   "execution_count": 1,
   "metadata": {},
   "outputs": [
    {
     "name": "stdout",
     "output_type": "stream",
     "text": [
      "You are in Singularity: singularity_proj_encode_fcc \n",
      "BASE DIRECTORY (FD_BASE): /data/reddylab/Kuei \n",
      "WORK DIRECTORY (FD_WORK): /data/reddylab/Kuei/out \n",
      "CODE DIRECTORY (FD_CODE): /data/reddylab/Kuei/code \n",
      "PATH OF PROJECT (FD_PRJ): /data/reddylab/Kuei/code/Proj_CombEffect_ENCODE_FCC \n",
      "PATH OF RESULTS (FD_RES): /data/reddylab/Kuei/out/proj_combeffect_encode_fcc \n",
      "PATH OF LOG     (FD_LOG): /data/reddylab/Kuei/out/proj_combeffect_encode_fcc/log \n"
     ]
    }
   ],
   "source": [
    "suppressMessages(suppressWarnings(source(\"../config/config_sing.R\")))\n",
    "show_env()"
   ]
  },
  {
   "cell_type": "markdown",
   "metadata": {},
   "source": [
    "## Import data (Merge)"
   ]
  },
  {
   "cell_type": "code",
   "execution_count": 17,
   "metadata": {},
   "outputs": [
    {
     "name": "stdout",
     "output_type": "stream",
     "text": [
      "[1] 5166   10\n"
     ]
    },
    {
     "data": {
      "text/html": [
       "<table class=\"dataframe\">\n",
       "<caption>A tibble: 6 × 10</caption>\n",
       "<thead>\n",
       "\t<tr><th scope=col>Chrom</th><th scope=col>Start</th><th scope=col>End</th><th scope=col>Peak</th><th scope=col>TMPRA_Gene</th><th scope=col>TMPRA_Dataset</th><th scope=col>CRISPR_HCFF</th><th scope=col>Assay</th><th scope=col>Log2FC</th><th scope=col>RankNorm_Total</th></tr>\n",
       "\t<tr><th scope=col>&lt;chr&gt;</th><th scope=col>&lt;dbl&gt;</th><th scope=col>&lt;dbl&gt;</th><th scope=col>&lt;chr&gt;</th><th scope=col>&lt;chr&gt;</th><th scope=col>&lt;chr&gt;</th><th scope=col>&lt;chr&gt;</th><th scope=col>&lt;chr&gt;</th><th scope=col>&lt;dbl&gt;</th><th scope=col>&lt;dbl&gt;</th></tr>\n",
       "</thead>\n",
       "<tbody>\n",
       "\t<tr><td>chr11</td><td>4539569</td><td>4540043</td><td>chr11:4539569-4540043</td><td>HBE1</td><td>OL45</td><td>HBE1,HBG1,HBG2,HBS1L,MYB</td><td>ASTARR</td><td> 0.14501695</td><td>0.6550523</td></tr>\n",
       "\t<tr><td>chr11</td><td>4551336</td><td>4552012</td><td>chr11:4551336-4552012</td><td>HBE1</td><td>OL45</td><td>NA                      </td><td>ASTARR</td><td> 0.32125162</td><td>0.7560976</td></tr>\n",
       "\t<tr><td>chr11</td><td>4553969</td><td>4555012</td><td>chr11:4553969-4555012</td><td>HBE1</td><td>OL45</td><td>NA                      </td><td>ASTARR</td><td> 0.14529397</td><td>0.6556330</td></tr>\n",
       "\t<tr><td>chr11</td><td>4569016</td><td>4569992</td><td>chr11:4569016-4569992</td><td>HBE1</td><td>OL45</td><td>NA                      </td><td>ASTARR</td><td> 0.01136464</td><td>0.5673635</td></tr>\n",
       "\t<tr><td>chr11</td><td>4577444</td><td>4578031</td><td>chr11:4577444-4578031</td><td>HBE1</td><td>OL45</td><td>NA                      </td><td>ASTARR</td><td> 0.24524353</td><td>0.7154472</td></tr>\n",
       "\t<tr><td>chr11</td><td>4601808</td><td>4602487</td><td>chr11:4601808-4602487</td><td>HBE1</td><td>OL45</td><td>NA                      </td><td>ASTARR</td><td>-0.57215284</td><td>0.1277584</td></tr>\n",
       "</tbody>\n",
       "</table>\n"
      ],
      "text/latex": [
       "A tibble: 6 × 10\n",
       "\\begin{tabular}{llllllllll}\n",
       " Chrom & Start & End & Peak & TMPRA\\_Gene & TMPRA\\_Dataset & CRISPR\\_HCFF & Assay & Log2FC & RankNorm\\_Total\\\\\n",
       " <chr> & <dbl> & <dbl> & <chr> & <chr> & <chr> & <chr> & <chr> & <dbl> & <dbl>\\\\\n",
       "\\hline\n",
       "\t chr11 & 4539569 & 4540043 & chr11:4539569-4540043 & HBE1 & OL45 & HBE1,HBG1,HBG2,HBS1L,MYB & ASTARR &  0.14501695 & 0.6550523\\\\\n",
       "\t chr11 & 4551336 & 4552012 & chr11:4551336-4552012 & HBE1 & OL45 & NA                       & ASTARR &  0.32125162 & 0.7560976\\\\\n",
       "\t chr11 & 4553969 & 4555012 & chr11:4553969-4555012 & HBE1 & OL45 & NA                       & ASTARR &  0.14529397 & 0.6556330\\\\\n",
       "\t chr11 & 4569016 & 4569992 & chr11:4569016-4569992 & HBE1 & OL45 & NA                       & ASTARR &  0.01136464 & 0.5673635\\\\\n",
       "\t chr11 & 4577444 & 4578031 & chr11:4577444-4578031 & HBE1 & OL45 & NA                       & ASTARR &  0.24524353 & 0.7154472\\\\\n",
       "\t chr11 & 4601808 & 4602487 & chr11:4601808-4602487 & HBE1 & OL45 & NA                       & ASTARR & -0.57215284 & 0.1277584\\\\\n",
       "\\end{tabular}\n"
      ],
      "text/markdown": [
       "\n",
       "A tibble: 6 × 10\n",
       "\n",
       "| Chrom &lt;chr&gt; | Start &lt;dbl&gt; | End &lt;dbl&gt; | Peak &lt;chr&gt; | TMPRA_Gene &lt;chr&gt; | TMPRA_Dataset &lt;chr&gt; | CRISPR_HCFF &lt;chr&gt; | Assay &lt;chr&gt; | Log2FC &lt;dbl&gt; | RankNorm_Total &lt;dbl&gt; |\n",
       "|---|---|---|---|---|---|---|---|---|---|\n",
       "| chr11 | 4539569 | 4540043 | chr11:4539569-4540043 | HBE1 | OL45 | HBE1,HBG1,HBG2,HBS1L,MYB | ASTARR |  0.14501695 | 0.6550523 |\n",
       "| chr11 | 4551336 | 4552012 | chr11:4551336-4552012 | HBE1 | OL45 | NA                       | ASTARR |  0.32125162 | 0.7560976 |\n",
       "| chr11 | 4553969 | 4555012 | chr11:4553969-4555012 | HBE1 | OL45 | NA                       | ASTARR |  0.14529397 | 0.6556330 |\n",
       "| chr11 | 4569016 | 4569992 | chr11:4569016-4569992 | HBE1 | OL45 | NA                       | ASTARR |  0.01136464 | 0.5673635 |\n",
       "| chr11 | 4577444 | 4578031 | chr11:4577444-4578031 | HBE1 | OL45 | NA                       | ASTARR |  0.24524353 | 0.7154472 |\n",
       "| chr11 | 4601808 | 4602487 | chr11:4601808-4602487 | HBE1 | OL45 | NA                       | ASTARR | -0.57215284 | 0.1277584 |\n",
       "\n"
      ],
      "text/plain": [
       "  Chrom Start   End     Peak                  TMPRA_Gene TMPRA_Dataset\n",
       "1 chr11 4539569 4540043 chr11:4539569-4540043 HBE1       OL45         \n",
       "2 chr11 4551336 4552012 chr11:4551336-4552012 HBE1       OL45         \n",
       "3 chr11 4553969 4555012 chr11:4553969-4555012 HBE1       OL45         \n",
       "4 chr11 4569016 4569992 chr11:4569016-4569992 HBE1       OL45         \n",
       "5 chr11 4577444 4578031 chr11:4577444-4578031 HBE1       OL45         \n",
       "6 chr11 4601808 4602487 chr11:4601808-4602487 HBE1       OL45         \n",
       "  CRISPR_HCFF              Assay  Log2FC      RankNorm_Total\n",
       "1 HBE1,HBG1,HBG2,HBS1L,MYB ASTARR  0.14501695 0.6550523     \n",
       "2 NA                       ASTARR  0.32125162 0.7560976     \n",
       "3 NA                       ASTARR  0.14529397 0.6556330     \n",
       "4 NA                       ASTARR  0.01136464 0.5673635     \n",
       "5 NA                       ASTARR  0.24524353 0.7154472     \n",
       "6 NA                       ASTARR -0.57215284 0.1277584     "
      ]
     },
     "metadata": {},
     "output_type": "display_data"
    }
   ],
   "source": [
    "### set file directories\n",
    "fdiry = file.path(FD_RES, \"results\", \"comparison\")\n",
    "fname = \"result.ranknorm.starrmpra.tsv\"\n",
    "fpath = file.path(fdiry, fname)\n",
    "\n",
    "### read data\n",
    "dat = read_tsv(fpath, show_col_types = FALSE)\n",
    "\n",
    "### assign and show\n",
    "dat_peak_summary_starrmpra = dat\n",
    "print(dim(dat))\n",
    "head(dat)"
   ]
  },
  {
   "cell_type": "code",
   "execution_count": 18,
   "metadata": {},
   "outputs": [
    {
     "name": "stdout",
     "output_type": "stream",
     "text": [
      "[1] 1722   13\n"
     ]
    },
    {
     "data": {
      "text/html": [
       "<table class=\"dataframe\">\n",
       "<caption>A tibble: 6 × 13</caption>\n",
       "<thead>\n",
       "\t<tr><th scope=col>Peak</th><th scope=col>RankNorm</th><th scope=col>CRISPRi_HCRFF_Tot</th><th scope=col>CRISPRi_HCRFF_Pos</th><th scope=col>CRISPRi_HCRFF_Neg</th><th scope=col>CRISPRi_HCRFF_Count</th><th scope=col>CRISPRi_HCRFF_Note</th><th scope=col>CRISPRi_Growth_Tot</th><th scope=col>CRISPRi_Growth_Pos</th><th scope=col>CRISPRi_Growth_Neg</th><th scope=col>CRISPRi_Growth_Count</th><th scope=col>LMPRA_Tot</th><th scope=col>LMPRA_Count</th></tr>\n",
       "\t<tr><th scope=col>&lt;chr&gt;</th><th scope=col>&lt;dbl&gt;</th><th scope=col>&lt;dbl&gt;</th><th scope=col>&lt;dbl&gt;</th><th scope=col>&lt;dbl&gt;</th><th scope=col>&lt;dbl&gt;</th><th scope=col>&lt;chr&gt;</th><th scope=col>&lt;dbl&gt;</th><th scope=col>&lt;dbl&gt;</th><th scope=col>&lt;dbl&gt;</th><th scope=col>&lt;dbl&gt;</th><th scope=col>&lt;dbl&gt;</th><th scope=col>&lt;dbl&gt;</th></tr>\n",
       "</thead>\n",
       "<tbody>\n",
       "\t<tr><td>chr11:32870601-32871324</td><td>0.1445993</td><td>NA</td><td>NA</td><td>NA</td><td>NA</td><td>NA</td><td>-0.0420142</td><td>0.2160544</td><td>-0.3000828</td><td>10</td><td>      NA</td><td> NA</td></tr>\n",
       "\t<tr><td>chr11:32874343-32875070</td><td>0.2466125</td><td>NA</td><td>NA</td><td>NA</td><td>NA</td><td>NA</td><td>        NA</td><td>       NA</td><td>        NA</td><td>NA</td><td>      NA</td><td> NA</td></tr>\n",
       "\t<tr><td>chr11:32884749-32885822</td><td>0.3211382</td><td>NA</td><td>NA</td><td>NA</td><td>NA</td><td>NA</td><td>        NA</td><td>       NA</td><td>        NA</td><td>NA</td><td>0.163440</td><td>200</td></tr>\n",
       "\t<tr><td>chr11:32892099-32894437</td><td>0.7084785</td><td>NA</td><td>NA</td><td>NA</td><td>NA</td><td>NA</td><td>-0.0965777</td><td>0.4237940</td><td>-0.3195941</td><td>10</td><td>      NA</td><td> NA</td></tr>\n",
       "\t<tr><td>chr11:32901572-32902485</td><td>0.2684863</td><td>NA</td><td>NA</td><td>NA</td><td>NA</td><td>NA</td><td>        NA</td><td>       NA</td><td>        NA</td><td>NA</td><td>      NA</td><td> NA</td></tr>\n",
       "\t<tr><td>chr11:32903491-32904506</td><td>0.2586140</td><td>NA</td><td>NA</td><td>NA</td><td>NA</td><td>NA</td><td>        NA</td><td>       NA</td><td>        NA</td><td>NA</td><td>0.077066</td><td> 91</td></tr>\n",
       "</tbody>\n",
       "</table>\n"
      ],
      "text/latex": [
       "A tibble: 6 × 13\n",
       "\\begin{tabular}{lllllllllllll}\n",
       " Peak & RankNorm & CRISPRi\\_HCRFF\\_Tot & CRISPRi\\_HCRFF\\_Pos & CRISPRi\\_HCRFF\\_Neg & CRISPRi\\_HCRFF\\_Count & CRISPRi\\_HCRFF\\_Note & CRISPRi\\_Growth\\_Tot & CRISPRi\\_Growth\\_Pos & CRISPRi\\_Growth\\_Neg & CRISPRi\\_Growth\\_Count & LMPRA\\_Tot & LMPRA\\_Count\\\\\n",
       " <chr> & <dbl> & <dbl> & <dbl> & <dbl> & <dbl> & <chr> & <dbl> & <dbl> & <dbl> & <dbl> & <dbl> & <dbl>\\\\\n",
       "\\hline\n",
       "\t chr11:32870601-32871324 & 0.1445993 & NA & NA & NA & NA & NA & -0.0420142 & 0.2160544 & -0.3000828 & 10 &       NA &  NA\\\\\n",
       "\t chr11:32874343-32875070 & 0.2466125 & NA & NA & NA & NA & NA &         NA &        NA &         NA & NA &       NA &  NA\\\\\n",
       "\t chr11:32884749-32885822 & 0.3211382 & NA & NA & NA & NA & NA &         NA &        NA &         NA & NA & 0.163440 & 200\\\\\n",
       "\t chr11:32892099-32894437 & 0.7084785 & NA & NA & NA & NA & NA & -0.0965777 & 0.4237940 & -0.3195941 & 10 &       NA &  NA\\\\\n",
       "\t chr11:32901572-32902485 & 0.2684863 & NA & NA & NA & NA & NA &         NA &        NA &         NA & NA &       NA &  NA\\\\\n",
       "\t chr11:32903491-32904506 & 0.2586140 & NA & NA & NA & NA & NA &         NA &        NA &         NA & NA & 0.077066 &  91\\\\\n",
       "\\end{tabular}\n"
      ],
      "text/markdown": [
       "\n",
       "A tibble: 6 × 13\n",
       "\n",
       "| Peak &lt;chr&gt; | RankNorm &lt;dbl&gt; | CRISPRi_HCRFF_Tot &lt;dbl&gt; | CRISPRi_HCRFF_Pos &lt;dbl&gt; | CRISPRi_HCRFF_Neg &lt;dbl&gt; | CRISPRi_HCRFF_Count &lt;dbl&gt; | CRISPRi_HCRFF_Note &lt;chr&gt; | CRISPRi_Growth_Tot &lt;dbl&gt; | CRISPRi_Growth_Pos &lt;dbl&gt; | CRISPRi_Growth_Neg &lt;dbl&gt; | CRISPRi_Growth_Count &lt;dbl&gt; | LMPRA_Tot &lt;dbl&gt; | LMPRA_Count &lt;dbl&gt; |\n",
       "|---|---|---|---|---|---|---|---|---|---|---|---|---|\n",
       "| chr11:32870601-32871324 | 0.1445993 | NA | NA | NA | NA | NA | -0.0420142 | 0.2160544 | -0.3000828 | 10 |       NA |  NA |\n",
       "| chr11:32874343-32875070 | 0.2466125 | NA | NA | NA | NA | NA |         NA |        NA |         NA | NA |       NA |  NA |\n",
       "| chr11:32884749-32885822 | 0.3211382 | NA | NA | NA | NA | NA |         NA |        NA |         NA | NA | 0.163440 | 200 |\n",
       "| chr11:32892099-32894437 | 0.7084785 | NA | NA | NA | NA | NA | -0.0965777 | 0.4237940 | -0.3195941 | 10 |       NA |  NA |\n",
       "| chr11:32901572-32902485 | 0.2684863 | NA | NA | NA | NA | NA |         NA |        NA |         NA | NA |       NA |  NA |\n",
       "| chr11:32903491-32904506 | 0.2586140 | NA | NA | NA | NA | NA |         NA |        NA |         NA | NA | 0.077066 |  91 |\n",
       "\n"
      ],
      "text/plain": [
       "  Peak                    RankNorm  CRISPRi_HCRFF_Tot CRISPRi_HCRFF_Pos\n",
       "1 chr11:32870601-32871324 0.1445993 NA                NA               \n",
       "2 chr11:32874343-32875070 0.2466125 NA                NA               \n",
       "3 chr11:32884749-32885822 0.3211382 NA                NA               \n",
       "4 chr11:32892099-32894437 0.7084785 NA                NA               \n",
       "5 chr11:32901572-32902485 0.2684863 NA                NA               \n",
       "6 chr11:32903491-32904506 0.2586140 NA                NA               \n",
       "  CRISPRi_HCRFF_Neg CRISPRi_HCRFF_Count CRISPRi_HCRFF_Note CRISPRi_Growth_Tot\n",
       "1 NA                NA                  NA                 -0.0420142        \n",
       "2 NA                NA                  NA                         NA        \n",
       "3 NA                NA                  NA                         NA        \n",
       "4 NA                NA                  NA                 -0.0965777        \n",
       "5 NA                NA                  NA                         NA        \n",
       "6 NA                NA                  NA                         NA        \n",
       "  CRISPRi_Growth_Pos CRISPRi_Growth_Neg CRISPRi_Growth_Count LMPRA_Tot\n",
       "1 0.2160544          -0.3000828         10                         NA \n",
       "2        NA                  NA         NA                         NA \n",
       "3        NA                  NA         NA                   0.163440 \n",
       "4 0.4237940          -0.3195941         10                         NA \n",
       "5        NA                  NA         NA                         NA \n",
       "6        NA                  NA         NA                   0.077066 \n",
       "  LMPRA_Count\n",
       "1  NA        \n",
       "2  NA        \n",
       "3 200        \n",
       "4  NA        \n",
       "5  NA        \n",
       "6  91        "
      ]
     },
     "metadata": {},
     "output_type": "display_data"
    }
   ],
   "source": [
    "### set file directories\n",
    "fdiry = file.path(FD_RES, \"results\", \"comparison\")\n",
    "fname = \"result.ranknorm.starrmpra.crispr.tsv\"\n",
    "fpath = file.path(fdiry, fname)\n",
    "\n",
    "### read data\n",
    "dat = read_tsv(fpath, show_col_types = FALSE)\n",
    "\n",
    "### assign and show\n",
    "dat_peak_summary_starrmpra_crispr = dat\n",
    "print(dim(dat))\n",
    "head(dat)"
   ]
  },
  {
   "cell_type": "markdown",
   "metadata": {},
   "source": [
    "## Import data (Split)"
   ]
  },
  {
   "cell_type": "markdown",
   "metadata": {},
   "source": [
    "**ATAC**"
   ]
  },
  {
   "cell_type": "code",
   "execution_count": 8,
   "metadata": {},
   "outputs": [
    {
     "name": "stdout",
     "output_type": "stream",
     "text": [
      "[1] 246852     15\n"
     ]
    },
    {
     "data": {
      "text/html": [
       "<table class=\"dataframe\">\n",
       "<caption>A tibble: 6 × 15</caption>\n",
       "<thead>\n",
       "\t<tr><th scope=col>Chrom</th><th scope=col>Start</th><th scope=col>End</th><th scope=col>Peak</th><th scope=col>Length</th><th scope=col>Input</th><th scope=col>Output</th><th scope=col>Log2FC</th><th scope=col>pLog2FC</th><th scope=col>Input_Residual</th><th scope=col>Input_Score</th><th scope=col>Output_Residual</th><th scope=col>Output_Score</th><th scope=col>Input_FPKM</th><th scope=col>Output_FPKM</th></tr>\n",
       "\t<tr><th scope=col>&lt;chr&gt;</th><th scope=col>&lt;dbl&gt;</th><th scope=col>&lt;dbl&gt;</th><th scope=col>&lt;chr&gt;</th><th scope=col>&lt;dbl&gt;</th><th scope=col>&lt;dbl&gt;</th><th scope=col>&lt;dbl&gt;</th><th scope=col>&lt;dbl&gt;</th><th scope=col>&lt;dbl&gt;</th><th scope=col>&lt;dbl&gt;</th><th scope=col>&lt;dbl&gt;</th><th scope=col>&lt;dbl&gt;</th><th scope=col>&lt;dbl&gt;</th><th scope=col>&lt;dbl&gt;</th><th scope=col>&lt;dbl&gt;</th></tr>\n",
       "</thead>\n",
       "<tbody>\n",
       "\t<tr><td>chr1</td><td>10015</td><td>10442</td><td>chr1:10015-10442</td><td>427</td><td>0.4863317</td><td>0.09736537</td><td>-2.3204599</td><td>-0.43771215</td><td> 0.25149985</td><td>0.1362392</td><td>-0.1433799</td><td>0.07463616</td><td>1.1389501</td><td>0.2280219</td></tr>\n",
       "\t<tr><td>chr1</td><td>14253</td><td>14645</td><td>chr1:14253-14645</td><td>392</td><td>0.3152472</td><td>0.27902967</td><td>-0.1760648</td><td>-0.04028420</td><td> 0.19879784</td><td>0.1357280</td><td> 0.1693269</td><td>0.07589325</td><td>0.8042019</td><td>0.7118104</td></tr>\n",
       "\t<tr><td>chr1</td><td>16015</td><td>16477</td><td>chr1:16015-16477</td><td>462</td><td>0.4361424</td><td>0.15900628</td><td>-1.4557156</td><td>-0.30931046</td><td> 0.08292808</td><td>0.1346040</td><td>-0.2127815</td><td>0.07435717</td><td>0.9440313</td><td>0.3441694</td></tr>\n",
       "\t<tr><td>chr1</td><td>17237</td><td>17772</td><td>chr1:17237-17772</td><td>535</td><td>0.8007562</td><td>0.22194085</td><td>-1.8511878</td><td>-0.55942840</td><td> 0.20062968</td><td>0.1357457</td><td>-0.4231641</td><td>0.07351143</td><td>1.4967405</td><td>0.4148427</td></tr>\n",
       "\t<tr><td>chr1</td><td>28903</td><td>29613</td><td>chr1:28903-29613</td><td>710</td><td>0.7629703</td><td>0.16679463</td><td>-2.1935541</td><td>-0.59545755</td><td>-0.42906879</td><td>0.1296375</td><td>-1.1335228</td><td>0.07065579</td><td>1.0746061</td><td>0.2349220</td></tr>\n",
       "\t<tr><td>chr1</td><td>30803</td><td>31072</td><td>chr1:30803-31072</td><td>269</td><td>0.2774187</td><td>0.21678565</td><td>-0.3557958</td><td>-0.07015643</td><td> 0.57699942</td><td>0.1393966</td><td> 0.5676036</td><td>0.07749432</td><td>1.0312963</td><td>0.8058946</td></tr>\n",
       "</tbody>\n",
       "</table>\n"
      ],
      "text/latex": [
       "A tibble: 6 × 15\n",
       "\\begin{tabular}{lllllllllllllll}\n",
       " Chrom & Start & End & Peak & Length & Input & Output & Log2FC & pLog2FC & Input\\_Residual & Input\\_Score & Output\\_Residual & Output\\_Score & Input\\_FPKM & Output\\_FPKM\\\\\n",
       " <chr> & <dbl> & <dbl> & <chr> & <dbl> & <dbl> & <dbl> & <dbl> & <dbl> & <dbl> & <dbl> & <dbl> & <dbl> & <dbl> & <dbl>\\\\\n",
       "\\hline\n",
       "\t chr1 & 10015 & 10442 & chr1:10015-10442 & 427 & 0.4863317 & 0.09736537 & -2.3204599 & -0.43771215 &  0.25149985 & 0.1362392 & -0.1433799 & 0.07463616 & 1.1389501 & 0.2280219\\\\\n",
       "\t chr1 & 14253 & 14645 & chr1:14253-14645 & 392 & 0.3152472 & 0.27902967 & -0.1760648 & -0.04028420 &  0.19879784 & 0.1357280 &  0.1693269 & 0.07589325 & 0.8042019 & 0.7118104\\\\\n",
       "\t chr1 & 16015 & 16477 & chr1:16015-16477 & 462 & 0.4361424 & 0.15900628 & -1.4557156 & -0.30931046 &  0.08292808 & 0.1346040 & -0.2127815 & 0.07435717 & 0.9440313 & 0.3441694\\\\\n",
       "\t chr1 & 17237 & 17772 & chr1:17237-17772 & 535 & 0.8007562 & 0.22194085 & -1.8511878 & -0.55942840 &  0.20062968 & 0.1357457 & -0.4231641 & 0.07351143 & 1.4967405 & 0.4148427\\\\\n",
       "\t chr1 & 28903 & 29613 & chr1:28903-29613 & 710 & 0.7629703 & 0.16679463 & -2.1935541 & -0.59545755 & -0.42906879 & 0.1296375 & -1.1335228 & 0.07065579 & 1.0746061 & 0.2349220\\\\\n",
       "\t chr1 & 30803 & 31072 & chr1:30803-31072 & 269 & 0.2774187 & 0.21678565 & -0.3557958 & -0.07015643 &  0.57699942 & 0.1393966 &  0.5676036 & 0.07749432 & 1.0312963 & 0.8058946\\\\\n",
       "\\end{tabular}\n"
      ],
      "text/markdown": [
       "\n",
       "A tibble: 6 × 15\n",
       "\n",
       "| Chrom &lt;chr&gt; | Start &lt;dbl&gt; | End &lt;dbl&gt; | Peak &lt;chr&gt; | Length &lt;dbl&gt; | Input &lt;dbl&gt; | Output &lt;dbl&gt; | Log2FC &lt;dbl&gt; | pLog2FC &lt;dbl&gt; | Input_Residual &lt;dbl&gt; | Input_Score &lt;dbl&gt; | Output_Residual &lt;dbl&gt; | Output_Score &lt;dbl&gt; | Input_FPKM &lt;dbl&gt; | Output_FPKM &lt;dbl&gt; |\n",
       "|---|---|---|---|---|---|---|---|---|---|---|---|---|---|---|\n",
       "| chr1 | 10015 | 10442 | chr1:10015-10442 | 427 | 0.4863317 | 0.09736537 | -2.3204599 | -0.43771215 |  0.25149985 | 0.1362392 | -0.1433799 | 0.07463616 | 1.1389501 | 0.2280219 |\n",
       "| chr1 | 14253 | 14645 | chr1:14253-14645 | 392 | 0.3152472 | 0.27902967 | -0.1760648 | -0.04028420 |  0.19879784 | 0.1357280 |  0.1693269 | 0.07589325 | 0.8042019 | 0.7118104 |\n",
       "| chr1 | 16015 | 16477 | chr1:16015-16477 | 462 | 0.4361424 | 0.15900628 | -1.4557156 | -0.30931046 |  0.08292808 | 0.1346040 | -0.2127815 | 0.07435717 | 0.9440313 | 0.3441694 |\n",
       "| chr1 | 17237 | 17772 | chr1:17237-17772 | 535 | 0.8007562 | 0.22194085 | -1.8511878 | -0.55942840 |  0.20062968 | 0.1357457 | -0.4231641 | 0.07351143 | 1.4967405 | 0.4148427 |\n",
       "| chr1 | 28903 | 29613 | chr1:28903-29613 | 710 | 0.7629703 | 0.16679463 | -2.1935541 | -0.59545755 | -0.42906879 | 0.1296375 | -1.1335228 | 0.07065579 | 1.0746061 | 0.2349220 |\n",
       "| chr1 | 30803 | 31072 | chr1:30803-31072 | 269 | 0.2774187 | 0.21678565 | -0.3557958 | -0.07015643 |  0.57699942 | 0.1393966 |  0.5676036 | 0.07749432 | 1.0312963 | 0.8058946 |\n",
       "\n"
      ],
      "text/plain": [
       "  Chrom Start End   Peak             Length Input     Output     Log2FC    \n",
       "1 chr1  10015 10442 chr1:10015-10442 427    0.4863317 0.09736537 -2.3204599\n",
       "2 chr1  14253 14645 chr1:14253-14645 392    0.3152472 0.27902967 -0.1760648\n",
       "3 chr1  16015 16477 chr1:16015-16477 462    0.4361424 0.15900628 -1.4557156\n",
       "4 chr1  17237 17772 chr1:17237-17772 535    0.8007562 0.22194085 -1.8511878\n",
       "5 chr1  28903 29613 chr1:28903-29613 710    0.7629703 0.16679463 -2.1935541\n",
       "6 chr1  30803 31072 chr1:30803-31072 269    0.2774187 0.21678565 -0.3557958\n",
       "  pLog2FC     Input_Residual Input_Score Output_Residual Output_Score\n",
       "1 -0.43771215  0.25149985    0.1362392   -0.1433799      0.07463616  \n",
       "2 -0.04028420  0.19879784    0.1357280    0.1693269      0.07589325  \n",
       "3 -0.30931046  0.08292808    0.1346040   -0.2127815      0.07435717  \n",
       "4 -0.55942840  0.20062968    0.1357457   -0.4231641      0.07351143  \n",
       "5 -0.59545755 -0.42906879    0.1296375   -1.1335228      0.07065579  \n",
       "6 -0.07015643  0.57699942    0.1393966    0.5676036      0.07749432  \n",
       "  Input_FPKM Output_FPKM\n",
       "1 1.1389501  0.2280219  \n",
       "2 0.8042019  0.7118104  \n",
       "3 0.9440313  0.3441694  \n",
       "4 1.4967405  0.4148427  \n",
       "5 1.0746061  0.2349220  \n",
       "6 1.0312963  0.8058946  "
      ]
     },
     "metadata": {},
     "output_type": "display_data"
    }
   ],
   "source": [
    "### init: file path\n",
    "ASSAY  = \"KS91_K562_ASTARRseq\"\n",
    "FOLDER = \"coverage_astarrseq_peak_macs_input\"\n",
    "\n",
    "fdiry = file.path(FD_RES, \"results\", ASSAY, FOLDER, \"summary\")\n",
    "fname = \"result.score.raw.cpm.WGS.tsv\"\n",
    "fpath = file.path(fdiry, fname)\n",
    "\n",
    "### read data\n",
    "dat = read_tsv(fpath, show_col_types = FALSE)\n",
    "\n",
    "### assign and show\n",
    "dat_peak_score_astarr = dat\n",
    "print(dim(dat))\n",
    "head(dat)"
   ]
  },
  {
   "cell_type": "markdown",
   "metadata": {},
   "source": [
    "**DESeq2 results of ASTARR/WSTARR/TMPRA**"
   ]
  },
  {
   "cell_type": "code",
   "execution_count": 9,
   "metadata": {},
   "outputs": [
    {
     "name": "stdout",
     "output_type": "stream",
     "text": [
      "[1] 495260      9\n"
     ]
    },
    {
     "data": {
      "text/html": [
       "<table class=\"dataframe\">\n",
       "<caption>A tibble: 6 × 9</caption>\n",
       "<thead>\n",
       "\t<tr><th scope=col>Assay</th><th scope=col>Peak</th><th scope=col>baseMean</th><th scope=col>log2FoldChange</th><th scope=col>lfcSE</th><th scope=col>stat</th><th scope=col>pvalue</th><th scope=col>padj</th><th scope=col>Dataset</th></tr>\n",
       "\t<tr><th scope=col>&lt;chr&gt;</th><th scope=col>&lt;chr&gt;</th><th scope=col>&lt;dbl&gt;</th><th scope=col>&lt;dbl&gt;</th><th scope=col>&lt;dbl&gt;</th><th scope=col>&lt;dbl&gt;</th><th scope=col>&lt;dbl&gt;</th><th scope=col>&lt;dbl&gt;</th><th scope=col>&lt;chr&gt;</th></tr>\n",
       "</thead>\n",
       "<tbody>\n",
       "\t<tr><td>ASTARR</td><td>chr1:100006256-100006880</td><td> 74.39238</td><td>-0.01311792</td><td>0.15512423</td><td>-0.08456397</td><td>9.326080e-01</td><td>0.9510236543</td><td>NA</td></tr>\n",
       "\t<tr><td>ASTARR</td><td>chr1:100010437-100010915</td><td> 48.25931</td><td>-0.80687947</td><td>0.22174651</td><td>-3.63874709</td><td>2.739677e-04</td><td>0.0008947519</td><td>NA</td></tr>\n",
       "\t<tr><td>ASTARR</td><td>chr1:10002087-10003910  </td><td>224.35927</td><td>-0.34892859</td><td>0.09743886</td><td>-3.58100041</td><td>3.422811e-04</td><td>0.0010926173</td><td>NA</td></tr>\n",
       "\t<tr><td>ASTARR</td><td>chr1:100021298-100021629</td><td> 38.13434</td><td>-1.03799571</td><td>0.25401013</td><td>-4.08643436</td><td>4.380534e-05</td><td>0.0001707736</td><td>NA</td></tr>\n",
       "\t<tr><td>ASTARR</td><td>chr1:100023727-100023976</td><td> 32.62049</td><td>-0.19100207</td><td>0.25625467</td><td>-0.74536036</td><td>4.560539e-01</td><td>0.5497617125</td><td>NA</td></tr>\n",
       "\t<tr><td>ASTARR</td><td>chr1:100027983-100029702</td><td>290.98442</td><td>-0.18001582</td><td>0.09610434</td><td>-1.87312902</td><td>6.105057e-02</td><td>0.1032752224</td><td>NA</td></tr>\n",
       "</tbody>\n",
       "</table>\n"
      ],
      "text/latex": [
       "A tibble: 6 × 9\n",
       "\\begin{tabular}{lllllllll}\n",
       " Assay & Peak & baseMean & log2FoldChange & lfcSE & stat & pvalue & padj & Dataset\\\\\n",
       " <chr> & <chr> & <dbl> & <dbl> & <dbl> & <dbl> & <dbl> & <dbl> & <chr>\\\\\n",
       "\\hline\n",
       "\t ASTARR & chr1:100006256-100006880 &  74.39238 & -0.01311792 & 0.15512423 & -0.08456397 & 9.326080e-01 & 0.9510236543 & NA\\\\\n",
       "\t ASTARR & chr1:100010437-100010915 &  48.25931 & -0.80687947 & 0.22174651 & -3.63874709 & 2.739677e-04 & 0.0008947519 & NA\\\\\n",
       "\t ASTARR & chr1:10002087-10003910   & 224.35927 & -0.34892859 & 0.09743886 & -3.58100041 & 3.422811e-04 & 0.0010926173 & NA\\\\\n",
       "\t ASTARR & chr1:100021298-100021629 &  38.13434 & -1.03799571 & 0.25401013 & -4.08643436 & 4.380534e-05 & 0.0001707736 & NA\\\\\n",
       "\t ASTARR & chr1:100023727-100023976 &  32.62049 & -0.19100207 & 0.25625467 & -0.74536036 & 4.560539e-01 & 0.5497617125 & NA\\\\\n",
       "\t ASTARR & chr1:100027983-100029702 & 290.98442 & -0.18001582 & 0.09610434 & -1.87312902 & 6.105057e-02 & 0.1032752224 & NA\\\\\n",
       "\\end{tabular}\n"
      ],
      "text/markdown": [
       "\n",
       "A tibble: 6 × 9\n",
       "\n",
       "| Assay &lt;chr&gt; | Peak &lt;chr&gt; | baseMean &lt;dbl&gt; | log2FoldChange &lt;dbl&gt; | lfcSE &lt;dbl&gt; | stat &lt;dbl&gt; | pvalue &lt;dbl&gt; | padj &lt;dbl&gt; | Dataset &lt;chr&gt; |\n",
       "|---|---|---|---|---|---|---|---|---|\n",
       "| ASTARR | chr1:100006256-100006880 |  74.39238 | -0.01311792 | 0.15512423 | -0.08456397 | 9.326080e-01 | 0.9510236543 | NA |\n",
       "| ASTARR | chr1:100010437-100010915 |  48.25931 | -0.80687947 | 0.22174651 | -3.63874709 | 2.739677e-04 | 0.0008947519 | NA |\n",
       "| ASTARR | chr1:10002087-10003910   | 224.35927 | -0.34892859 | 0.09743886 | -3.58100041 | 3.422811e-04 | 0.0010926173 | NA |\n",
       "| ASTARR | chr1:100021298-100021629 |  38.13434 | -1.03799571 | 0.25401013 | -4.08643436 | 4.380534e-05 | 0.0001707736 | NA |\n",
       "| ASTARR | chr1:100023727-100023976 |  32.62049 | -0.19100207 | 0.25625467 | -0.74536036 | 4.560539e-01 | 0.5497617125 | NA |\n",
       "| ASTARR | chr1:100027983-100029702 | 290.98442 | -0.18001582 | 0.09610434 | -1.87312902 | 6.105057e-02 | 0.1032752224 | NA |\n",
       "\n"
      ],
      "text/plain": [
       "  Assay  Peak                     baseMean  log2FoldChange lfcSE     \n",
       "1 ASTARR chr1:100006256-100006880  74.39238 -0.01311792    0.15512423\n",
       "2 ASTARR chr1:100010437-100010915  48.25931 -0.80687947    0.22174651\n",
       "3 ASTARR chr1:10002087-10003910   224.35927 -0.34892859    0.09743886\n",
       "4 ASTARR chr1:100021298-100021629  38.13434 -1.03799571    0.25401013\n",
       "5 ASTARR chr1:100023727-100023976  32.62049 -0.19100207    0.25625467\n",
       "6 ASTARR chr1:100027983-100029702 290.98442 -0.18001582    0.09610434\n",
       "  stat        pvalue       padj         Dataset\n",
       "1 -0.08456397 9.326080e-01 0.9510236543 NA     \n",
       "2 -3.63874709 2.739677e-04 0.0008947519 NA     \n",
       "3 -3.58100041 3.422811e-04 0.0010926173 NA     \n",
       "4 -4.08643436 4.380534e-05 0.0001707736 NA     \n",
       "5 -0.74536036 4.560539e-01 0.5497617125 NA     \n",
       "6 -1.87312902 6.105057e-02 0.1032752224 NA     "
      ]
     },
     "metadata": {},
     "output_type": "display_data"
    }
   ],
   "source": [
    "### init\n",
    "ASSAYS = c(\"KS91_K562_ASTARRseq\", \"A001_K562_WSTARRseq\", \"Tewhey_K562_TileMPRA\")\n",
    "LABELS = c(\"ASTARR\", \"WSTARR\", \"TMPRA\")\n",
    "FOLDER = \"coverage_astarrseq_peak_macs_input\"\n",
    "\n",
    "fnames = c(\n",
    "    \"result.Log2FC.raw.deseq.WGS.tsv\",\n",
    "    \"result.Log2FC.raw.deseq.WGS.tsv\",\n",
    "    \"result.Log2FC.raw.deseq.Merge.tsv\"\n",
    ")\n",
    "names(fnames) = ASSAYS\n",
    "\n",
    "### loop and import data\n",
    "lst = lapply(ASSAYS, function(ASSAY){\n",
    "    \n",
    "    ### set file directories\n",
    "    fdiry = file.path(FD_RES, \"results\", ASSAY, FOLDER, \"summary\")\n",
    "    fname = fnames[ASSAY]\n",
    "    fpath = file.path(fdiry, fname)\n",
    "\n",
    "    ### read data\n",
    "    dat = read_tsv(fpath, show_col_types = FALSE)\n",
    "    return(dat)\n",
    "})\n",
    "\n",
    "names(lst) = LABELS\n",
    "dat = bind_rows(lst, .id = \"Assay\")\n",
    "\n",
    "### assign and show\n",
    "dat_peak_deseq = dat\n",
    "print(dim(dat))\n",
    "head(dat)"
   ]
  },
  {
   "cell_type": "markdown",
   "metadata": {},
   "source": [
    "## Summarize (Merge)"
   ]
  },
  {
   "cell_type": "markdown",
   "metadata": {},
   "source": [
    "**Merge (Each reporter assays)**"
   ]
  },
  {
   "cell_type": "code",
   "execution_count": 19,
   "metadata": {},
   "outputs": [
    {
     "name": "stdout",
     "output_type": "stream",
     "text": [
      "[1] 5166    3\n"
     ]
    },
    {
     "data": {
      "text/html": [
       "<table class=\"dataframe\">\n",
       "<caption>A tibble: 6 × 3</caption>\n",
       "<thead>\n",
       "\t<tr><th scope=col>Assay</th><th scope=col>Peak</th><th scope=col>Score</th></tr>\n",
       "\t<tr><th scope=col>&lt;chr&gt;</th><th scope=col>&lt;chr&gt;</th><th scope=col>&lt;dbl&gt;</th></tr>\n",
       "</thead>\n",
       "<tbody>\n",
       "\t<tr><td>ASTARR</td><td>chr11:4539569-4540043</td><td>0.6550523</td></tr>\n",
       "\t<tr><td>ASTARR</td><td>chr11:4551336-4552012</td><td>0.7560976</td></tr>\n",
       "\t<tr><td>ASTARR</td><td>chr11:4553969-4555012</td><td>0.6556330</td></tr>\n",
       "\t<tr><td>ASTARR</td><td>chr11:4569016-4569992</td><td>0.5673635</td></tr>\n",
       "\t<tr><td>ASTARR</td><td>chr11:4577444-4578031</td><td>0.7154472</td></tr>\n",
       "\t<tr><td>ASTARR</td><td>chr11:4601808-4602487</td><td>0.1277584</td></tr>\n",
       "</tbody>\n",
       "</table>\n"
      ],
      "text/latex": [
       "A tibble: 6 × 3\n",
       "\\begin{tabular}{lll}\n",
       " Assay & Peak & Score\\\\\n",
       " <chr> & <chr> & <dbl>\\\\\n",
       "\\hline\n",
       "\t ASTARR & chr11:4539569-4540043 & 0.6550523\\\\\n",
       "\t ASTARR & chr11:4551336-4552012 & 0.7560976\\\\\n",
       "\t ASTARR & chr11:4553969-4555012 & 0.6556330\\\\\n",
       "\t ASTARR & chr11:4569016-4569992 & 0.5673635\\\\\n",
       "\t ASTARR & chr11:4577444-4578031 & 0.7154472\\\\\n",
       "\t ASTARR & chr11:4601808-4602487 & 0.1277584\\\\\n",
       "\\end{tabular}\n"
      ],
      "text/markdown": [
       "\n",
       "A tibble: 6 × 3\n",
       "\n",
       "| Assay &lt;chr&gt; | Peak &lt;chr&gt; | Score &lt;dbl&gt; |\n",
       "|---|---|---|\n",
       "| ASTARR | chr11:4539569-4540043 | 0.6550523 |\n",
       "| ASTARR | chr11:4551336-4552012 | 0.7560976 |\n",
       "| ASTARR | chr11:4553969-4555012 | 0.6556330 |\n",
       "| ASTARR | chr11:4569016-4569992 | 0.5673635 |\n",
       "| ASTARR | chr11:4577444-4578031 | 0.7154472 |\n",
       "| ASTARR | chr11:4601808-4602487 | 0.1277584 |\n",
       "\n"
      ],
      "text/plain": [
       "  Assay  Peak                  Score    \n",
       "1 ASTARR chr11:4539569-4540043 0.6550523\n",
       "2 ASTARR chr11:4551336-4552012 0.7560976\n",
       "3 ASTARR chr11:4553969-4555012 0.6556330\n",
       "4 ASTARR chr11:4569016-4569992 0.5673635\n",
       "5 ASTARR chr11:4577444-4578031 0.7154472\n",
       "6 ASTARR chr11:4601808-4602487 0.1277584"
      ]
     },
     "metadata": {},
     "output_type": "display_data"
    }
   ],
   "source": [
    "dat = dat_peak_summary_starrmpra\n",
    "dat = dat %>%\n",
    "    dplyr::mutate(Score = RankNorm_Total) %>%\n",
    "    dplyr::select(Assay, Peak, Score)\n",
    "\n",
    "dat_peak_score_starrmpra = dat\n",
    "print(dim(dat))\n",
    "head(dat)"
   ]
  },
  {
   "cell_type": "markdown",
   "metadata": {},
   "source": [
    "**Merge (Overall)**"
   ]
  },
  {
   "cell_type": "code",
   "execution_count": 12,
   "metadata": {},
   "outputs": [
    {
     "data": {
      "text/html": [
       "<table class=\"dataframe\">\n",
       "<caption>A tibble: 6 × 13</caption>\n",
       "<thead>\n",
       "\t<tr><th scope=col>Peak</th><th scope=col>RankNorm</th><th scope=col>CRISPRi_HCRFF_Tot</th><th scope=col>CRISPRi_HCRFF_Pos</th><th scope=col>CRISPRi_HCRFF_Neg</th><th scope=col>CRISPRi_HCRFF_Count</th><th scope=col>CRISPRi_HCRFF_Note</th><th scope=col>CRISPRi_Growth_Tot</th><th scope=col>CRISPRi_Growth_Pos</th><th scope=col>CRISPRi_Growth_Neg</th><th scope=col>CRISPRi_Growth_Count</th><th scope=col>LMPRA_Tot</th><th scope=col>LMPRA_Count</th></tr>\n",
       "\t<tr><th scope=col>&lt;chr&gt;</th><th scope=col>&lt;dbl&gt;</th><th scope=col>&lt;dbl&gt;</th><th scope=col>&lt;dbl&gt;</th><th scope=col>&lt;dbl&gt;</th><th scope=col>&lt;dbl&gt;</th><th scope=col>&lt;chr&gt;</th><th scope=col>&lt;dbl&gt;</th><th scope=col>&lt;dbl&gt;</th><th scope=col>&lt;dbl&gt;</th><th scope=col>&lt;dbl&gt;</th><th scope=col>&lt;dbl&gt;</th><th scope=col>&lt;dbl&gt;</th></tr>\n",
       "</thead>\n",
       "<tbody>\n",
       "\t<tr><td>chr11:32870601-32871324</td><td>0.1445993</td><td>NA</td><td>NA</td><td>NA</td><td>NA</td><td>NA</td><td>-0.0420142</td><td>0.2160544</td><td>-0.3000828</td><td>10</td><td>      NA</td><td> NA</td></tr>\n",
       "\t<tr><td>chr11:32874343-32875070</td><td>0.2466125</td><td>NA</td><td>NA</td><td>NA</td><td>NA</td><td>NA</td><td>        NA</td><td>       NA</td><td>        NA</td><td>NA</td><td>      NA</td><td> NA</td></tr>\n",
       "\t<tr><td>chr11:32884749-32885822</td><td>0.3211382</td><td>NA</td><td>NA</td><td>NA</td><td>NA</td><td>NA</td><td>        NA</td><td>       NA</td><td>        NA</td><td>NA</td><td>0.163440</td><td>200</td></tr>\n",
       "\t<tr><td>chr11:32892099-32894437</td><td>0.7084785</td><td>NA</td><td>NA</td><td>NA</td><td>NA</td><td>NA</td><td>-0.0965777</td><td>0.4237940</td><td>-0.3195941</td><td>10</td><td>      NA</td><td> NA</td></tr>\n",
       "\t<tr><td>chr11:32901572-32902485</td><td>0.2684863</td><td>NA</td><td>NA</td><td>NA</td><td>NA</td><td>NA</td><td>        NA</td><td>       NA</td><td>        NA</td><td>NA</td><td>      NA</td><td> NA</td></tr>\n",
       "\t<tr><td>chr11:32903491-32904506</td><td>0.2586140</td><td>NA</td><td>NA</td><td>NA</td><td>NA</td><td>NA</td><td>        NA</td><td>       NA</td><td>        NA</td><td>NA</td><td>0.077066</td><td> 91</td></tr>\n",
       "</tbody>\n",
       "</table>\n"
      ],
      "text/latex": [
       "A tibble: 6 × 13\n",
       "\\begin{tabular}{lllllllllllll}\n",
       " Peak & RankNorm & CRISPRi\\_HCRFF\\_Tot & CRISPRi\\_HCRFF\\_Pos & CRISPRi\\_HCRFF\\_Neg & CRISPRi\\_HCRFF\\_Count & CRISPRi\\_HCRFF\\_Note & CRISPRi\\_Growth\\_Tot & CRISPRi\\_Growth\\_Pos & CRISPRi\\_Growth\\_Neg & CRISPRi\\_Growth\\_Count & LMPRA\\_Tot & LMPRA\\_Count\\\\\n",
       " <chr> & <dbl> & <dbl> & <dbl> & <dbl> & <dbl> & <chr> & <dbl> & <dbl> & <dbl> & <dbl> & <dbl> & <dbl>\\\\\n",
       "\\hline\n",
       "\t chr11:32870601-32871324 & 0.1445993 & NA & NA & NA & NA & NA & -0.0420142 & 0.2160544 & -0.3000828 & 10 &       NA &  NA\\\\\n",
       "\t chr11:32874343-32875070 & 0.2466125 & NA & NA & NA & NA & NA &         NA &        NA &         NA & NA &       NA &  NA\\\\\n",
       "\t chr11:32884749-32885822 & 0.3211382 & NA & NA & NA & NA & NA &         NA &        NA &         NA & NA & 0.163440 & 200\\\\\n",
       "\t chr11:32892099-32894437 & 0.7084785 & NA & NA & NA & NA & NA & -0.0965777 & 0.4237940 & -0.3195941 & 10 &       NA &  NA\\\\\n",
       "\t chr11:32901572-32902485 & 0.2684863 & NA & NA & NA & NA & NA &         NA &        NA &         NA & NA &       NA &  NA\\\\\n",
       "\t chr11:32903491-32904506 & 0.2586140 & NA & NA & NA & NA & NA &         NA &        NA &         NA & NA & 0.077066 &  91\\\\\n",
       "\\end{tabular}\n"
      ],
      "text/markdown": [
       "\n",
       "A tibble: 6 × 13\n",
       "\n",
       "| Peak &lt;chr&gt; | RankNorm &lt;dbl&gt; | CRISPRi_HCRFF_Tot &lt;dbl&gt; | CRISPRi_HCRFF_Pos &lt;dbl&gt; | CRISPRi_HCRFF_Neg &lt;dbl&gt; | CRISPRi_HCRFF_Count &lt;dbl&gt; | CRISPRi_HCRFF_Note &lt;chr&gt; | CRISPRi_Growth_Tot &lt;dbl&gt; | CRISPRi_Growth_Pos &lt;dbl&gt; | CRISPRi_Growth_Neg &lt;dbl&gt; | CRISPRi_Growth_Count &lt;dbl&gt; | LMPRA_Tot &lt;dbl&gt; | LMPRA_Count &lt;dbl&gt; |\n",
       "|---|---|---|---|---|---|---|---|---|---|---|---|---|\n",
       "| chr11:32870601-32871324 | 0.1445993 | NA | NA | NA | NA | NA | -0.0420142 | 0.2160544 | -0.3000828 | 10 |       NA |  NA |\n",
       "| chr11:32874343-32875070 | 0.2466125 | NA | NA | NA | NA | NA |         NA |        NA |         NA | NA |       NA |  NA |\n",
       "| chr11:32884749-32885822 | 0.3211382 | NA | NA | NA | NA | NA |         NA |        NA |         NA | NA | 0.163440 | 200 |\n",
       "| chr11:32892099-32894437 | 0.7084785 | NA | NA | NA | NA | NA | -0.0965777 | 0.4237940 | -0.3195941 | 10 |       NA |  NA |\n",
       "| chr11:32901572-32902485 | 0.2684863 | NA | NA | NA | NA | NA |         NA |        NA |         NA | NA |       NA |  NA |\n",
       "| chr11:32903491-32904506 | 0.2586140 | NA | NA | NA | NA | NA |         NA |        NA |         NA | NA | 0.077066 |  91 |\n",
       "\n"
      ],
      "text/plain": [
       "  Peak                    RankNorm  CRISPRi_HCRFF_Tot CRISPRi_HCRFF_Pos\n",
       "1 chr11:32870601-32871324 0.1445993 NA                NA               \n",
       "2 chr11:32874343-32875070 0.2466125 NA                NA               \n",
       "3 chr11:32884749-32885822 0.3211382 NA                NA               \n",
       "4 chr11:32892099-32894437 0.7084785 NA                NA               \n",
       "5 chr11:32901572-32902485 0.2684863 NA                NA               \n",
       "6 chr11:32903491-32904506 0.2586140 NA                NA               \n",
       "  CRISPRi_HCRFF_Neg CRISPRi_HCRFF_Count CRISPRi_HCRFF_Note CRISPRi_Growth_Tot\n",
       "1 NA                NA                  NA                 -0.0420142        \n",
       "2 NA                NA                  NA                         NA        \n",
       "3 NA                NA                  NA                         NA        \n",
       "4 NA                NA                  NA                 -0.0965777        \n",
       "5 NA                NA                  NA                         NA        \n",
       "6 NA                NA                  NA                         NA        \n",
       "  CRISPRi_Growth_Pos CRISPRi_Growth_Neg CRISPRi_Growth_Count LMPRA_Tot\n",
       "1 0.2160544          -0.3000828         10                         NA \n",
       "2        NA                  NA         NA                         NA \n",
       "3        NA                  NA         NA                   0.163440 \n",
       "4 0.4237940          -0.3195941         10                         NA \n",
       "5        NA                  NA         NA                         NA \n",
       "6        NA                  NA         NA                   0.077066 \n",
       "  LMPRA_Count\n",
       "1  NA        \n",
       "2  NA        \n",
       "3 200        \n",
       "4  NA        \n",
       "5  NA        \n",
       "6  91        "
      ]
     },
     "metadata": {},
     "output_type": "display_data"
    }
   ],
   "source": [
    "dat = dat_peak_score_starrmpra_crispr\n",
    "head(dat)"
   ]
  },
  {
   "cell_type": "code",
   "execution_count": 20,
   "metadata": {},
   "outputs": [
    {
     "name": "stdout",
     "output_type": "stream",
     "text": [
      "\n",
      "CRISPRi_Growth_Tot  CRISPRi_HCRFF_Tot          LMPRA_Tot            Overall \n",
      "              1722               1722               1722               1722 \n"
     ]
    },
    {
     "data": {
      "text/html": [
       "<table class=\"dataframe\">\n",
       "<caption>A tibble: 6 × 3</caption>\n",
       "<thead>\n",
       "\t<tr><th scope=col>Peak</th><th scope=col>Assay</th><th scope=col>Score</th></tr>\n",
       "\t<tr><th scope=col>&lt;chr&gt;</th><th scope=col>&lt;chr&gt;</th><th scope=col>&lt;dbl&gt;</th></tr>\n",
       "</thead>\n",
       "<tbody>\n",
       "\t<tr><td>chr11:32870601-32871324</td><td>Overall</td><td>0.1445993</td></tr>\n",
       "\t<tr><td>chr11:32874343-32875070</td><td>Overall</td><td>0.2466125</td></tr>\n",
       "\t<tr><td>chr11:32884749-32885822</td><td>Overall</td><td>0.3211382</td></tr>\n",
       "\t<tr><td>chr11:32892099-32894437</td><td>Overall</td><td>0.7084785</td></tr>\n",
       "\t<tr><td>chr11:32901572-32902485</td><td>Overall</td><td>0.2684863</td></tr>\n",
       "\t<tr><td>chr11:32903491-32904506</td><td>Overall</td><td>0.2586140</td></tr>\n",
       "</tbody>\n",
       "</table>\n"
      ],
      "text/latex": [
       "A tibble: 6 × 3\n",
       "\\begin{tabular}{lll}\n",
       " Peak & Assay & Score\\\\\n",
       " <chr> & <chr> & <dbl>\\\\\n",
       "\\hline\n",
       "\t chr11:32870601-32871324 & Overall & 0.1445993\\\\\n",
       "\t chr11:32874343-32875070 & Overall & 0.2466125\\\\\n",
       "\t chr11:32884749-32885822 & Overall & 0.3211382\\\\\n",
       "\t chr11:32892099-32894437 & Overall & 0.7084785\\\\\n",
       "\t chr11:32901572-32902485 & Overall & 0.2684863\\\\\n",
       "\t chr11:32903491-32904506 & Overall & 0.2586140\\\\\n",
       "\\end{tabular}\n"
      ],
      "text/markdown": [
       "\n",
       "A tibble: 6 × 3\n",
       "\n",
       "| Peak &lt;chr&gt; | Assay &lt;chr&gt; | Score &lt;dbl&gt; |\n",
       "|---|---|---|\n",
       "| chr11:32870601-32871324 | Overall | 0.1445993 |\n",
       "| chr11:32874343-32875070 | Overall | 0.2466125 |\n",
       "| chr11:32884749-32885822 | Overall | 0.3211382 |\n",
       "| chr11:32892099-32894437 | Overall | 0.7084785 |\n",
       "| chr11:32901572-32902485 | Overall | 0.2684863 |\n",
       "| chr11:32903491-32904506 | Overall | 0.2586140 |\n",
       "\n"
      ],
      "text/plain": [
       "  Peak                    Assay   Score    \n",
       "1 chr11:32870601-32871324 Overall 0.1445993\n",
       "2 chr11:32874343-32875070 Overall 0.2466125\n",
       "3 chr11:32884749-32885822 Overall 0.3211382\n",
       "4 chr11:32892099-32894437 Overall 0.7084785\n",
       "5 chr11:32901572-32902485 Overall 0.2684863\n",
       "6 chr11:32903491-32904506 Overall 0.2586140"
      ]
     },
     "metadata": {},
     "output_type": "display_data"
    }
   ],
   "source": [
    "dat = dat_peak_summary_starrmpra_crispr\n",
    "dat = dat %>% \n",
    "    dplyr::select(Peak, RankNorm, CRISPRi_HCRFF_Tot, CRISPRi_Growth_Tot, LMPRA_Tot) %>%\n",
    "    dplyr::rename(\"Overall\" = RankNorm) %>%\n",
    "    tidyr::gather(Assay, Score, -Peak)\n",
    "\n",
    "dat_peak_score_starrmpra_crispr = dat\n",
    "print(table(dat$Assay))\n",
    "head(dat)"
   ]
  },
  {
   "cell_type": "markdown",
   "metadata": {},
   "source": [
    "**Combine**"
   ]
  },
  {
   "cell_type": "code",
   "execution_count": 22,
   "metadata": {},
   "outputs": [
    {
     "name": "stdout",
     "output_type": "stream",
     "text": [
      "\n",
      "            ASTARR CRISPRi_Growth_Tot  CRISPRi_HCRFF_Tot          LMPRA_Tot \n",
      "              1722               1722               1722               1722 \n",
      "           Overall              TMPRA             WSTARR \n",
      "              1722               1722               1722 \n",
      "\n"
     ]
    },
    {
     "data": {
      "text/plain": [
       "                   Length Class  Mode   \n",
       "ASTARR             1722   -none- numeric\n",
       "CRISPRi_Growth_Tot  708   -none- numeric\n",
       "CRISPRi_HCRFF_Tot   632   -none- numeric\n",
       "LMPRA_Tot           386   -none- numeric\n",
       "Overall            1722   -none- numeric\n",
       "TMPRA              1722   -none- numeric\n",
       "WSTARR             1722   -none- numeric"
      ]
     },
     "metadata": {},
     "output_type": "display_data"
    },
    {
     "name": "stdout",
     "output_type": "stream",
     "text": [
      "\n",
      " ASTARR \n",
      "     Min.   1st Qu.    Median      Mean   3rd Qu.      Max. \n",
      "0.0005807 0.2504355 0.5002904 0.5002904 0.7501452 1.0000000 \n",
      "\n",
      " WSTARR \n",
      "     Min.   1st Qu.    Median      Mean   3rd Qu.      Max. \n",
      "0.0005807 0.2504355 0.5002904 0.5002904 0.7501452 1.0000000 \n",
      "\n",
      " TMPRA \n",
      "     Min.   1st Qu.    Median      Mean   3rd Qu.      Max. \n",
      "0.0005807 0.2504355 0.5002904 0.5002904 0.7501452 1.0000000 \n",
      "\n",
      " Overall \n",
      "    Min.  1st Qu.   Median     Mean  3rd Qu.     Max. \n",
      "0.002129 0.346738 0.486353 0.500290 0.648326 0.997096 \n"
     ]
    }
   ],
   "source": [
    "dat = bind_rows(\n",
    "    dat_peak_score_starrmpra, \n",
    "    dat_peak_score_starrmpra_crispr)\n",
    "\n",
    "lst = split(dat, dat$Assay)\n",
    "lst = lapply(lst, function(dat){\n",
    "    vec = dat %>% \n",
    "        dplyr::select(Peak, Score) %>% \n",
    "        tibble::deframe() %>%\n",
    "        na.omit\n",
    "    return(vec)\n",
    "})\n",
    "\n",
    "### assign and show\n",
    "lst_peak_score_merge = lst\n",
    "print(table(dat$Assay))\n",
    "cat(\"\\n\")\n",
    "summary(lst)\n",
    "\n",
    "for(idx in c(\"ASTARR\", \"WSTARR\", \"TMPRA\", \"Overall\")){\n",
    "    cat(\"\\n\", idx, \"\\n\")\n",
    "    print(summary(lst[[idx]]))\n",
    "}"
   ]
  },
  {
   "cell_type": "markdown",
   "metadata": {},
   "source": [
    "**Save**"
   ]
  },
  {
   "cell_type": "code",
   "execution_count": 24,
   "metadata": {},
   "outputs": [
    {
     "name": "stdout",
     "output_type": "stream",
     "text": [
      "ASTARR \n",
      "[1] \"score_merge_astarr.rds\"\n",
      "[1] \"/data/reddylab/Kuei/out/proj_combeffect_encode_fcc/results/region/KS91_K562_ASTARRseq_peak_macs_input/enrichment_prepare_score_merge/score_merge_astarr.rds\"\n",
      "\n",
      "CRISPRi_Growth_Tot \n",
      "[1] \"score_merge_crispri_growth_tot.rds\"\n",
      "[1] \"/data/reddylab/Kuei/out/proj_combeffect_encode_fcc/results/region/KS91_K562_ASTARRseq_peak_macs_input/enrichment_prepare_score_merge/score_merge_crispri_growth_tot.rds\"\n",
      "\n",
      "CRISPRi_HCRFF_Tot \n",
      "[1] \"score_merge_crispri_hcrff_tot.rds\"\n",
      "[1] \"/data/reddylab/Kuei/out/proj_combeffect_encode_fcc/results/region/KS91_K562_ASTARRseq_peak_macs_input/enrichment_prepare_score_merge/score_merge_crispri_hcrff_tot.rds\"\n",
      "\n",
      "LMPRA_Tot \n",
      "[1] \"score_merge_lmpra_tot.rds\"\n",
      "[1] \"/data/reddylab/Kuei/out/proj_combeffect_encode_fcc/results/region/KS91_K562_ASTARRseq_peak_macs_input/enrichment_prepare_score_merge/score_merge_lmpra_tot.rds\"\n",
      "\n",
      "Overall \n",
      "[1] \"score_merge_overall.rds\"\n",
      "[1] \"/data/reddylab/Kuei/out/proj_combeffect_encode_fcc/results/region/KS91_K562_ASTARRseq_peak_macs_input/enrichment_prepare_score_merge/score_merge_overall.rds\"\n",
      "\n",
      "TMPRA \n",
      "[1] \"score_merge_tmpra.rds\"\n",
      "[1] \"/data/reddylab/Kuei/out/proj_combeffect_encode_fcc/results/region/KS91_K562_ASTARRseq_peak_macs_input/enrichment_prepare_score_merge/score_merge_tmpra.rds\"\n",
      "\n",
      "WSTARR \n",
      "[1] \"score_merge_wstarr.rds\"\n",
      "[1] \"/data/reddylab/Kuei/out/proj_combeffect_encode_fcc/results/region/KS91_K562_ASTARRseq_peak_macs_input/enrichment_prepare_score_merge/score_merge_wstarr.rds\"\n",
      "\n"
     ]
    }
   ],
   "source": [
    "fdiry = file.path(\n",
    "    FD_RES, \n",
    "    \"results\", \n",
    "    \"region\", \n",
    "    \"KS91_K562_ASTARRseq_peak_macs_input\", \n",
    "    \"enrichment_prepare_score_merge\")\n",
    "\n",
    "lst = lst_peak_score_merge\n",
    "for(idx in names(lst)){\n",
    "    cat(idx, \"\\n\")\n",
    "    txt = tolower(idx)\n",
    "    txt = paste(\"score\", \"merge\", txt, sep=\"_\")\n",
    "    txt = paste(txt, \"rds\", sep=\".\")\n",
    "    \n",
    "    fname = txt\n",
    "    fpath = file.path(fdiry, fname)\n",
    "    print(fname)\n",
    "    print(fpath)\n",
    "    cat(\"\\n\")\n",
    "    \n",
    "    vec_peak_score = lst[[idx]]\n",
    "    saveRDS(vec_peak_score, file = fpath)\n",
    "}"
   ]
  },
  {
   "cell_type": "markdown",
   "metadata": {},
   "source": [
    "## Summarize (Split)"
   ]
  },
  {
   "cell_type": "markdown",
   "metadata": {},
   "source": [
    "**Split (ATAC)**"
   ]
  },
  {
   "cell_type": "code",
   "execution_count": 12,
   "metadata": {},
   "outputs": [
    {
     "name": "stdout",
     "output_type": "stream",
     "text": [
      "[1] 246852      3\n"
     ]
    },
    {
     "data": {
      "text/html": [
       "<table class=\"dataframe\">\n",
       "<caption>A tibble: 6 × 3</caption>\n",
       "<thead>\n",
       "\t<tr><th scope=col>Peak</th><th scope=col>Score</th><th scope=col>Assay</th></tr>\n",
       "\t<tr><th scope=col>&lt;chr&gt;</th><th scope=col>&lt;dbl&gt;</th><th scope=col>&lt;chr&gt;</th></tr>\n",
       "</thead>\n",
       "<tbody>\n",
       "\t<tr><td>chr1_10015_10442</td><td>1.1389501</td><td>ATAC</td></tr>\n",
       "\t<tr><td>chr1_14253_14645</td><td>0.8042019</td><td>ATAC</td></tr>\n",
       "\t<tr><td>chr1_16015_16477</td><td>0.9440313</td><td>ATAC</td></tr>\n",
       "\t<tr><td>chr1_17237_17772</td><td>1.4967405</td><td>ATAC</td></tr>\n",
       "\t<tr><td>chr1_28903_29613</td><td>1.0746061</td><td>ATAC</td></tr>\n",
       "\t<tr><td>chr1_30803_31072</td><td>1.0312963</td><td>ATAC</td></tr>\n",
       "</tbody>\n",
       "</table>\n"
      ],
      "text/latex": [
       "A tibble: 6 × 3\n",
       "\\begin{tabular}{lll}\n",
       " Peak & Score & Assay\\\\\n",
       " <chr> & <dbl> & <chr>\\\\\n",
       "\\hline\n",
       "\t chr1\\_10015\\_10442 & 1.1389501 & ATAC\\\\\n",
       "\t chr1\\_14253\\_14645 & 0.8042019 & ATAC\\\\\n",
       "\t chr1\\_16015\\_16477 & 0.9440313 & ATAC\\\\\n",
       "\t chr1\\_17237\\_17772 & 1.4967405 & ATAC\\\\\n",
       "\t chr1\\_28903\\_29613 & 1.0746061 & ATAC\\\\\n",
       "\t chr1\\_30803\\_31072 & 1.0312963 & ATAC\\\\\n",
       "\\end{tabular}\n"
      ],
      "text/markdown": [
       "\n",
       "A tibble: 6 × 3\n",
       "\n",
       "| Peak &lt;chr&gt; | Score &lt;dbl&gt; | Assay &lt;chr&gt; |\n",
       "|---|---|---|\n",
       "| chr1_10015_10442 | 1.1389501 | ATAC |\n",
       "| chr1_14253_14645 | 0.8042019 | ATAC |\n",
       "| chr1_16015_16477 | 0.9440313 | ATAC |\n",
       "| chr1_17237_17772 | 1.4967405 | ATAC |\n",
       "| chr1_28903_29613 | 1.0746061 | ATAC |\n",
       "| chr1_30803_31072 | 1.0312963 | ATAC |\n",
       "\n"
      ],
      "text/plain": [
       "  Peak             Score     Assay\n",
       "1 chr1_10015_10442 1.1389501 ATAC \n",
       "2 chr1_14253_14645 0.8042019 ATAC \n",
       "3 chr1_16015_16477 0.9440313 ATAC \n",
       "4 chr1_17237_17772 1.4967405 ATAC \n",
       "5 chr1_28903_29613 1.0746061 ATAC \n",
       "6 chr1_30803_31072 1.0312963 ATAC "
      ]
     },
     "metadata": {},
     "output_type": "display_data"
    }
   ],
   "source": [
    "dat = dat_peak_score_astarr\n",
    "dat = dat %>% \n",
    "    dplyr::mutate(Score = Input_FPKM) %>%\n",
    "    dplyr::select(Peak, Score) %>% \n",
    "    dplyr::mutate(Assay = \"ATAC\")\n",
    "\n",
    "dat_peak_fpkm_atac = dat\n",
    "print(dim(dat))\n",
    "head(dat)"
   ]
  },
  {
   "cell_type": "markdown",
   "metadata": {},
   "source": [
    "**Split (Each reporter assay)**"
   ]
  },
  {
   "cell_type": "code",
   "execution_count": 13,
   "metadata": {},
   "outputs": [
    {
     "name": "stdout",
     "output_type": "stream",
     "text": [
      "[1] 495260      3\n"
     ]
    },
    {
     "data": {
      "text/html": [
       "<table class=\"dataframe\">\n",
       "<caption>A tibble: 6 × 3</caption>\n",
       "<thead>\n",
       "\t<tr><th scope=col>Assay</th><th scope=col>Peak</th><th scope=col>Score</th></tr>\n",
       "\t<tr><th scope=col>&lt;chr&gt;</th><th scope=col>&lt;chr&gt;</th><th scope=col>&lt;dbl&gt;</th></tr>\n",
       "</thead>\n",
       "<tbody>\n",
       "\t<tr><td>ASTARR</td><td>chr1_100006256_100006880</td><td>-0.01311792</td></tr>\n",
       "\t<tr><td>ASTARR</td><td>chr1_100010437_100010915</td><td>-0.80687947</td></tr>\n",
       "\t<tr><td>ASTARR</td><td>chr1_10002087_10003910  </td><td>-0.34892859</td></tr>\n",
       "\t<tr><td>ASTARR</td><td>chr1_100021298_100021629</td><td>-1.03799571</td></tr>\n",
       "\t<tr><td>ASTARR</td><td>chr1_100023727_100023976</td><td>-0.19100207</td></tr>\n",
       "\t<tr><td>ASTARR</td><td>chr1_100027983_100029702</td><td>-0.18001582</td></tr>\n",
       "</tbody>\n",
       "</table>\n"
      ],
      "text/latex": [
       "A tibble: 6 × 3\n",
       "\\begin{tabular}{lll}\n",
       " Assay & Peak & Score\\\\\n",
       " <chr> & <chr> & <dbl>\\\\\n",
       "\\hline\n",
       "\t ASTARR & chr1\\_100006256\\_100006880 & -0.01311792\\\\\n",
       "\t ASTARR & chr1\\_100010437\\_100010915 & -0.80687947\\\\\n",
       "\t ASTARR & chr1\\_10002087\\_10003910   & -0.34892859\\\\\n",
       "\t ASTARR & chr1\\_100021298\\_100021629 & -1.03799571\\\\\n",
       "\t ASTARR & chr1\\_100023727\\_100023976 & -0.19100207\\\\\n",
       "\t ASTARR & chr1\\_100027983\\_100029702 & -0.18001582\\\\\n",
       "\\end{tabular}\n"
      ],
      "text/markdown": [
       "\n",
       "A tibble: 6 × 3\n",
       "\n",
       "| Assay &lt;chr&gt; | Peak &lt;chr&gt; | Score &lt;dbl&gt; |\n",
       "|---|---|---|\n",
       "| ASTARR | chr1_100006256_100006880 | -0.01311792 |\n",
       "| ASTARR | chr1_100010437_100010915 | -0.80687947 |\n",
       "| ASTARR | chr1_10002087_10003910   | -0.34892859 |\n",
       "| ASTARR | chr1_100021298_100021629 | -1.03799571 |\n",
       "| ASTARR | chr1_100023727_100023976 | -0.19100207 |\n",
       "| ASTARR | chr1_100027983_100029702 | -0.18001582 |\n",
       "\n"
      ],
      "text/plain": [
       "  Assay  Peak                     Score      \n",
       "1 ASTARR chr1_100006256_100006880 -0.01311792\n",
       "2 ASTARR chr1_100010437_100010915 -0.80687947\n",
       "3 ASTARR chr1_10002087_10003910   -0.34892859\n",
       "4 ASTARR chr1_100021298_100021629 -1.03799571\n",
       "5 ASTARR chr1_100023727_100023976 -0.19100207\n",
       "6 ASTARR chr1_100027983_100029702 -0.18001582"
      ]
     },
     "metadata": {},
     "output_type": "display_data"
    }
   ],
   "source": [
    "dat = dat_peak_deseq\n",
    "dat = dat %>%\n",
    "    dplyr::mutate(Score = log2FoldChange) %>%\n",
    "    dplyr::select(Assay, Peak, Score)\n",
    "\n",
    "dat_peak_log2fc_starrmpra = dat\n",
    "print(dim(dat))\n",
    "head(dat)"
   ]
  },
  {
   "cell_type": "markdown",
   "metadata": {},
   "source": [
    "**Combine**"
   ]
  },
  {
   "cell_type": "code",
   "execution_count": 14,
   "metadata": {},
   "outputs": [
    {
     "name": "stdout",
     "output_type": "stream",
     "text": [
      "\n",
      "ASTARR   ATAC  TMPRA WSTARR \n",
      "246850 246852   1722 246688 \n",
      "\n"
     ]
    },
    {
     "data": {
      "text/plain": [
       "       Length Class  Mode   \n",
       "ASTARR 246850 -none- numeric\n",
       "ATAC   246852 -none- numeric\n",
       "TMPRA    1722 -none- numeric\n",
       "WSTARR 246688 -none- numeric"
      ]
     },
     "metadata": {},
     "output_type": "display_data"
    },
    {
     "name": "stdout",
     "output_type": "stream",
     "text": [
      "\n",
      " ATAC \n",
      "    Min.  1st Qu.   Median     Mean  3rd Qu.     Max. \n",
      " 0.00072  0.64626  0.79821  1.46021  1.22449 39.91072 \n",
      "\n",
      " ASTARR \n",
      "    Min.  1st Qu.   Median     Mean  3rd Qu.     Max. \n",
      "-8.31132 -0.32792  0.01359  0.05892  0.42169  4.55950 \n",
      "\n",
      " WSTARR \n",
      "    Min.  1st Qu.   Median     Mean  3rd Qu.     Max. \n",
      "-4.71138 -0.25013 -0.03281 -0.01136  0.20141  3.47479 \n",
      "\n",
      " TMPRA \n",
      "     Min.   1st Qu.    Median      Mean   3rd Qu.      Max. \n",
      "-2.439058 -0.678092 -0.001937  0.314684  1.003965  6.104344 \n"
     ]
    }
   ],
   "source": [
    "dat = bind_rows(dat_peak_log2fc_starrmpra, dat_peak_fpkm_atac)\n",
    "lst = split(dat, dat$Assay)\n",
    "lst = lapply(lst, function(dat){\n",
    "    vec = dat %>% \n",
    "        dplyr::select(Peak, Score) %>% \n",
    "        tibble::deframe()\n",
    "    return(vec)\n",
    "})\n",
    "\n",
    "### assign and show\n",
    "lst_peak_score_split = lst\n",
    "print(table(dat$Assay))\n",
    "cat(\"\\n\")\n",
    "summary(lst)\n",
    "\n",
    "for(idx in c(\"ATAC\", \"ASTARR\", \"WSTARR\", \"TMPRA\")){\n",
    "    cat(\"\\n\", idx, \"\\n\")\n",
    "    print(summary(lst[[idx]]))\n",
    "}"
   ]
  },
  {
   "cell_type": "markdown",
   "metadata": {},
   "source": [
    "**Save**"
   ]
  },
  {
   "cell_type": "code",
   "execution_count": 16,
   "metadata": {},
   "outputs": [
    {
     "name": "stdout",
     "output_type": "stream",
     "text": [
      "ASTARR \n",
      "[1] \"score_split_astarr.rds\"\n",
      "[1] \"/data/reddylab/Kuei/out/proj_combeffect_encode_fcc/results/region/KS91_K562_ASTARRseq_peak_macs_input/enrichment_prepare_score_split/score_split_astarr.rds\"\n",
      "\n",
      "ATAC \n",
      "[1] \"score_split_atac.rds\"\n",
      "[1] \"/data/reddylab/Kuei/out/proj_combeffect_encode_fcc/results/region/KS91_K562_ASTARRseq_peak_macs_input/enrichment_prepare_score_split/score_split_atac.rds\"\n",
      "\n",
      "TMPRA \n",
      "[1] \"score_split_tmpra.rds\"\n",
      "[1] \"/data/reddylab/Kuei/out/proj_combeffect_encode_fcc/results/region/KS91_K562_ASTARRseq_peak_macs_input/enrichment_prepare_score_split/score_split_tmpra.rds\"\n",
      "\n",
      "WSTARR \n",
      "[1] \"score_split_wstarr.rds\"\n",
      "[1] \"/data/reddylab/Kuei/out/proj_combeffect_encode_fcc/results/region/KS91_K562_ASTARRseq_peak_macs_input/enrichment_prepare_score_split/score_split_wstarr.rds\"\n",
      "\n"
     ]
    }
   ],
   "source": [
    "fdiry = file.path(\n",
    "    FD_RES, \n",
    "    \"results\", \n",
    "    \"region\", \n",
    "    \"KS91_K562_ASTARRseq_peak_macs_input\", \n",
    "    \"enrichment_prepare_score_split\")\n",
    "\n",
    "lst = lst_peak_score_split\n",
    "for(idx in names(lst)){\n",
    "    cat(idx, \"\\n\")\n",
    "    txt = tolower(idx)\n",
    "    txt = paste(\"score\", \"split\", txt, sep=\"_\")\n",
    "    txt = paste(txt, \"rds\", sep=\".\")\n",
    "    \n",
    "    fname = txt\n",
    "    fpath = file.path(fdiry, fname)\n",
    "    print(fname)\n",
    "    print(fpath)\n",
    "    cat(\"\\n\")\n",
    "    \n",
    "    vec_peak_score = lst[[idx]]\n",
    "    saveRDS(vec_peak_score, file = fpath)\n",
    "}"
   ]
  },
  {
   "cell_type": "code",
   "execution_count": null,
   "metadata": {},
   "outputs": [],
   "source": []
  }
 ],
 "metadata": {
  "kernelspec": {
   "display_name": "R",
   "language": "R",
   "name": "ir"
  },
  "language_info": {
   "codemirror_mode": "r",
   "file_extension": ".r",
   "mimetype": "text/x-r-source",
   "name": "R",
   "pygments_lexer": "r",
   "version": "4.3.0"
  }
 },
 "nbformat": 4,
 "nbformat_minor": 4
}
