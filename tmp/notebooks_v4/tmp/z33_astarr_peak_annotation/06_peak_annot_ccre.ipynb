{
 "cells": [
  {
   "cell_type": "markdown",
   "id": "7263c2bb-e942-4276-9d6b-936b9c844b6e",
   "metadata": {},
   "source": [
    "**Set environment**"
   ]
  },
  {
   "cell_type": "code",
   "execution_count": 1,
   "id": "c803b98a-3c5b-4bc8-8d3f-d32c1a3de79d",
   "metadata": {},
   "outputs": [
    {
     "name": "stdout",
     "output_type": "stream",
     "text": [
      "You are on Duke Server: HARDAC\n",
      "BASE DIRECTORY (FD_BASE): /data/reddylab/Kuei\n",
      "WORK DIRECTORY (FD_WORK): /data/reddylab/Kuei/out\n",
      "CODE DIRECTORY (FD_CODE): /data/reddylab/Kuei/code\n",
      "SING DIRECTORY (FD_SING): /data/reddylab/Kuei/singularity\n",
      "PATH OF PROJECT (FD_PRJ): /data/reddylab/Kuei/code/Proj_CombEffect_ENCODE_FCC\n",
      "PATH OF RESULTS (FD_RES): /data/reddylab/Kuei/out/proj_combeffect_encode_fcc\n",
      "PATH OF LOG     (FD_LOG): /data/reddylab/Kuei/out/proj_combeffect_encode_fcc/log\n",
      "\n"
     ]
    }
   ],
   "source": [
    "### set env\n",
    "source ../config/config_duke.sh\n",
    "source ../config/config_load_module_bedtools.sh\n",
    "show_env"
   ]
  },
  {
   "cell_type": "markdown",
   "id": "ec088a8d-917b-42e3-a110-c31de6bb1f28",
   "metadata": {},
   "source": [
    "**Check data**"
   ]
  },
  {
   "cell_type": "code",
   "execution_count": 2,
   "id": "30a2f446-2caf-4ba7-92da-72f5dee8153b",
   "metadata": {},
   "outputs": [
    {
     "name": "stdout",
     "output_type": "stream",
     "text": [
      "ENCFF082GFK.bigBed\n",
      "ENCFF135QQP.bigBed\n",
      "ENCFF144YZB.bigBed\n",
      "\u001b[0m\u001b[38;5;9mENCFF286VQG.bed.gz\u001b[0m\n",
      "\u001b[38;5;9mENCFF436MAO.bed.gz\u001b[0m\n",
      "\u001b[38;5;9mENCFF455VKH.bed.gz\u001b[0m\n",
      "ENCFF511HSV.bigBed\n",
      "\u001b[38;5;9mENCFF539BTC.bed.gz\u001b[0m\n",
      "ENCFF556WKM.bigBed\n",
      "\u001b[38;5;9mENCFF658OPM.bed.gz\u001b[0m\n",
      "\u001b[38;5;9mENCFF706JDX.bed.gz\u001b[0m\n",
      "ENCFF953CSP.bigBed\n",
      "ENCFF971AHO_ENCFF847JMY_ENCFF779QTH_ENCFF405AYC.7group.bed\n",
      "files.txt\n",
      "\u001b[38;5;9mK562.ENCSR913HQX.ENCFF286VQG.ccres.bed.gz\u001b[0m\n",
      "metadata.tsv\n"
     ]
    }
   ],
   "source": [
    "ls -1 ${FD_RES}/source/annotation_cCREs"
   ]
  },
  {
   "cell_type": "code",
   "execution_count": 4,
   "id": "d9e65835-0c13-493b-8514-66346f7d3474",
   "metadata": {},
   "outputs": [
    {
     "name": "stdout",
     "output_type": "stream",
     "text": [
      "ls: cannot access /data/reddylab/Kuei/out/proj_combeffect_encode_fcc/results/region/annotation_ccre: No such file or directory\n"
     ]
    },
    {
     "ename": "",
     "evalue": "2",
     "output_type": "error",
     "traceback": []
    }
   ],
   "source": [
    "ls -1 ${FD_RES}/results/region/annotation_ccre"
   ]
  },
  {
   "cell_type": "markdown",
   "id": "5ebd0209-dfd7-4fe2-9a4e-60929a921306",
   "metadata": {},
   "source": [
    "## Annotate ATAC peaks using cCREs (v3)"
   ]
  },
  {
   "cell_type": "code",
   "execution_count": 11,
   "id": "bd97d165-6808-408d-898f-1d1a99d14f2d",
   "metadata": {},
   "outputs": [
    {
     "name": "stdout",
     "output_type": "stream",
     "text": [
      "Submitted batch job 29676416\n"
     ]
    }
   ],
   "source": [
    "sbatch -p ${NODE} \\\n",
    "    --exclude=dl-01 \\\n",
    "    --cpus-per-task 8 \\\n",
    "    --mem 8G \\\n",
    "    --output ${FD_LOG}/annotation_astarr_peak_macs_input_ccre_v3.txt \\\n",
    "    --array 0 \\\n",
    "    <<'EOF'\n",
    "#!/bin/bash\n",
    "### set directories & global variables\n",
    "source ../config/config_duke.sh\n",
    "\n",
    "### set input and output\n",
    "FD_BED=${FD_RES}/results/region/KS91_K562_ASTARRseq_peak_macs_input\n",
    "FN_BED=KS91_K562_hg38_ASTARRseq_Input.all_reps.masked.union_narrowPeak.q5.bed\n",
    "FP_BED=${FD_BED}/${FN_BED}\n",
    "\n",
    "FD_ANN=${FD_RES}/source/annotation_cCREs\n",
    "FN_ANN=ENCFF971AHO_ENCFF847JMY_ENCFF779QTH_ENCFF405AYC.7group.bed\n",
    "FP_ANN=${FD_ANN}/${FN_ANN}\n",
    "\n",
    "FD_OUT=${FD_RES}/results/region/KS91_K562_ASTARRseq_peak_macs_input/annotation_ccre\n",
    "FN_OUT=peak.annotation.ccre_v3.bed.gz\n",
    "FP_OUT=${FD_OUT}/${FN_OUT}\n",
    "\n",
    "### print start message\n",
    "timer_start=`date +%s`\n",
    "echo \"Hostname:          \" $(hostname)\n",
    "echo \"Slurm Array Index: \" ${SLURM_ARRAY_TASK_ID}\n",
    "echo \"Time Stamp:        \" $(date +\"%m-%d-%y+%T\")\n",
    "echo\n",
    "\n",
    "### show I/O file\n",
    "echo \"Input: \" ${FP_BED}\n",
    "echo\n",
    "echo \"show first few lines of input\"\n",
    "cat ${FP_BED} | head -5\n",
    "echo\n",
    "echo \"Input: \" ${FP_ANN}\n",
    "echo\n",
    "echo \"show first few lines of input\"\n",
    "cat ${FP_ANN} | head -5\n",
    "echo\n",
    "\n",
    "### init: create output folder if not exist\n",
    "mkdir -p ${FD_OUT}\n",
    "\n",
    "### annotation using intersect\n",
    "bedtools intersect -a ${FP_BED} -b ${FP_ANN} -wo | gzip -c > ${FP_OUT}\n",
    "\n",
    "### show output file\n",
    "echo\n",
    "echo \"Output: \" ${FP_OUT}\n",
    "echo\n",
    "echo \"show first few lines of output:\"\n",
    "zcat ${FP_OUT} | head -5\n",
    "echo\n",
    "\n",
    "### print end message\n",
    "timer=`date +%s`\n",
    "runtime=$(echo \"${timer} - ${timer_start}\" | bc -l)\n",
    "echo\n",
    "echo 'Done!'\n",
    "echo \"Run Time: $(displaytime ${runtime})\"\n",
    "\n",
    "EOF"
   ]
  },
  {
   "cell_type": "markdown",
   "id": "b3b1d3bb-e089-4ea1-a1d2-96ffb6c900ec",
   "metadata": {},
   "source": [
    "## Annotate ATAC peaks using cCREs (v4)"
   ]
  },
  {
   "cell_type": "code",
   "execution_count": 12,
   "id": "781e14cb-7a34-4084-8354-1834688db080",
   "metadata": {},
   "outputs": [
    {
     "name": "stdout",
     "output_type": "stream",
     "text": [
      "Submitted batch job 29676417\n"
     ]
    }
   ],
   "source": [
    "sbatch -p ${NODE} \\\n",
    "    --exclude=dl-01 \\\n",
    "    --cpus-per-task 8 \\\n",
    "    --mem 8G \\\n",
    "    --output ${FD_LOG}/annotation_astarr_peak_macs_input_ccre_v4.txt \\\n",
    "    --array 0 \\\n",
    "    <<'EOF'\n",
    "#!/bin/bash\n",
    "### set directories & global variables\n",
    "source ../config/config_duke.sh\n",
    "\n",
    "### set input and output\n",
    "FD_BED=${FD_RES}/results/region/KS91_K562_ASTARRseq_peak_macs_input\n",
    "FN_BED=KS91_K562_hg38_ASTARRseq_Input.all_reps.masked.union_narrowPeak.q5.bed\n",
    "FP_BED=${FD_BED}/${FN_BED}\n",
    "\n",
    "FD_ANN=${FD_RES}/source/annotation_cCREs\n",
    "FN_ANN=K562.ENCSR913HQX.ENCFF286VQG.ccres.bed.gz\n",
    "FP_ANN=${FD_ANN}/${FN_ANN}\n",
    "\n",
    "FD_OUT=${FD_RES}/results/region/KS91_K562_ASTARRseq_peak_macs_input/annotation_ccre\n",
    "FN_OUT=peak.annotation.ccre_v4.bed.gz\n",
    "FP_OUT=${FD_OUT}/${FN_OUT}\n",
    "\n",
    "### print start message\n",
    "timer_start=`date +%s`\n",
    "echo \"Hostname:          \" $(hostname)\n",
    "echo \"Slurm Array Index: \" ${SLURM_ARRAY_TASK_ID}\n",
    "echo \"Time Stamp:        \" $(date +\"%m-%d-%y+%T\")\n",
    "echo\n",
    "\n",
    "### show I/O file\n",
    "echo \"Input: \" ${FP_BED}\n",
    "echo\n",
    "echo \"show first few lines of input\"\n",
    "cat ${FP_BED} | head -5\n",
    "echo\n",
    "echo \"Input: \" ${FP_ANN}\n",
    "echo\n",
    "echo \"show first few lines of input\"\n",
    "zcat ${FP_ANN} | head -5\n",
    "echo\n",
    "\n",
    "### init: create output folder if not exist\n",
    "mkdir -p ${FD_OUT}\n",
    "\n",
    "### annotation using intersect\n",
    "bedtools intersect -a ${FP_BED} -b ${FP_ANN} -wo | gzip -c > ${FP_OUT}\n",
    "\n",
    "### show output file\n",
    "echo\n",
    "echo \"Output: \" ${FP_OUT}\n",
    "echo\n",
    "echo \"show first few lines of output:\"\n",
    "zcat ${FP_OUT} | head -5\n",
    "echo\n",
    "\n",
    "### print end message\n",
    "timer=`date +%s`\n",
    "runtime=$(echo \"${timer} - ${timer_start}\" | bc -l)\n",
    "echo\n",
    "echo 'Done!'\n",
    "echo \"Run Time: $(displaytime ${runtime})\"\n",
    "\n",
    "EOF"
   ]
  },
  {
   "cell_type": "markdown",
   "id": "ca6fe9be-fd6f-4ed4-93f4-9e201afda627",
   "metadata": {},
   "source": [
    "**Check results**"
   ]
  },
  {
   "cell_type": "code",
   "execution_count": 13,
   "id": "be96dd98-d816-4ded-9ebc-80b1278c488f",
   "metadata": {},
   "outputs": [
    {
     "name": "stdout",
     "output_type": "stream",
     "text": [
      "Hostname:           x2-04-2.genome.duke.edu\n",
      "Slurm Array Index:  0\n",
      "Time Stamp:         04-12-23+14:15:37\n",
      "\n",
      "Input:  /data/reddylab/Kuei/out/proj_combeffect_encode_fcc/results/region/KS91_K562_ASTARRseq_peak_macs_input/KS91_K562_hg38_ASTARRseq_Input.all_reps.masked.union_narrowPeak.q5.bed\n",
      "\n",
      "show first few lines of input\n",
      "chr1\t10015\t10442\n",
      "chr1\t14253\t14645\n",
      "chr1\t16015\t16477\n",
      "chr1\t17237\t17772\n",
      "chr1\t28903\t29613\n",
      "\n",
      "Input:  /data/reddylab/Kuei/out/proj_combeffect_encode_fcc/source/annotation_cCREs/ENCFF971AHO_ENCFF847JMY_ENCFF779QTH_ENCFF405AYC.7group.bed\n",
      "\n",
      "show first few lines of input\n",
      "chr1\t181251\t181601\tEH38E1310153\t0\t.\t181251\t181601\t6,218,147\tDNase-only\tAll-data/Full-classification\n",
      "chr1\t190865\t191071\tEH38E1310154\t0\t.\t190865\t191071\t225,225,225\tLow-DNase\tAll-data/Full-classification\n",
      "chr1\t778562\t778912\tEH38E1310158\t0\t.\t778562\t778912\t255,0,0\tPLS,CTCF-bound\tAll-data/Full-classification\n",
      "chr1\t779086\t779355\tEH38E1310159\t0\t.\t779086\t779355\t255,0,0\tPLS\tAll-data/Full-classification\n",
      "chr1\t779727\t780060\tEH38E1310160\t0\t.\t779727\t780060\t225,225,225\tLow-DNase\tAll-data/Full-classification\n",
      "\n",
      "\n",
      "Output:  /data/reddylab/Kuei/out/proj_combeffect_encode_fcc/results/region/KS91_K562_ASTARRseq_peak_macs_input/annotation_ccre/peak.annotation.ccre_v3.bed.gz\n",
      "\n",
      "show first few lines of output:\n",
      "chr1\t180982\t182087\tchr1\t181251\t181601\tEH38E1310153\t0\t.\t181251\t181601\t6,218,147\tDNase-only\tAll-data/Full-classification\t350\n",
      "chr1\t777949\t779437\tchr1\t778562\t778912\tEH38E1310158\t0\t.\t778562\t778912\t255,0,0\tPLS,CTCF-bound\tAll-data/Full-classification\t350\n",
      "chr1\t777949\t779437\tchr1\t779086\t779355\tEH38E1310159\t0\t.\t779086\t779355\t255,0,0\tPLS\tAll-data/Full-classification\t269\n",
      "chr1\t812211\t813042\tchr1\t812113\t812266\tEH38E1310165\t0\t.\t812113\t812266\t225,225,225\tLow-DNase\tAll-data/Full-classification\t55\n",
      "chr1\t816774\t817547\tchr1\t817080\t817403\tEH38E1310166\t0\t.\t817080\t817403\t225,225,225\tLow-DNase\tAll-data/Full-classification\t323\n",
      "\n",
      "\n",
      "Done!\n",
      "Run Time: 4 seconds\n"
     ]
    }
   ],
   "source": [
    "cat ${FD_LOG}/annotation_astarr_peak_macs_input_ccre_v3.txt"
   ]
  },
  {
   "cell_type": "code",
   "execution_count": 14,
   "id": "1d5ecb6e-fda8-4b11-af1e-869d0c249ce0",
   "metadata": {},
   "outputs": [
    {
     "name": "stdout",
     "output_type": "stream",
     "text": [
      "Hostname:           x2-04-2.genome.duke.edu\n",
      "Slurm Array Index:  0\n",
      "Time Stamp:         04-12-23+14:15:37\n",
      "\n",
      "Input:  /data/reddylab/Kuei/out/proj_combeffect_encode_fcc/results/region/KS91_K562_ASTARRseq_peak_macs_input/KS91_K562_hg38_ASTARRseq_Input.all_reps.masked.union_narrowPeak.q5.bed\n",
      "\n",
      "show first few lines of input\n",
      "chr1\t10015\t10442\n",
      "chr1\t14253\t14645\n",
      "chr1\t16015\t16477\n",
      "chr1\t17237\t17772\n",
      "chr1\t28903\t29613\n",
      "\n",
      "Input:  /data/reddylab/Kuei/out/proj_combeffect_encode_fcc/source/annotation_cCREs/K562.ENCSR913HQX.ENCFF286VQG.ccres.bed.gz\n",
      "\n",
      "show first few lines of input\n",
      "chr1\t10033\t10250\tEH38E2776516\t0\t.\t10033\t10250\t225,225,225\tLow-DNase\tAll-data/Full-classification\n",
      "chr1\t10385\t10713\tEH38E2776517\t0\t.\t10385\t10713\t225,225,225\tLow-DNase\tAll-data/Full-classification\n",
      "chr1\t16097\t16381\tEH38E3951272\t0\t.\t16097\t16381\t225,225,225\tLow-DNase\tAll-data/Full-classification\n",
      "chr1\t17343\t17642\tEH38E3951273\t0\t.\t17343\t17642\t225,225,225\tLow-DNase\tAll-data/Full-classification\n",
      "chr1\t29320\t29517\tEH38E3951274\t0\t.\t29320\t29517\t225,225,225\tLow-DNase\tAll-data/Full-classification\n",
      "\n",
      "\n",
      "Output:  /data/reddylab/Kuei/out/proj_combeffect_encode_fcc/results/region/KS91_K562_ASTARRseq_peak_macs_input/annotation_ccre/peak.annotation.ccre_v4.bed.gz\n",
      "\n",
      "show first few lines of output:\n",
      "chr1\t10015\t10442\tchr1\t10033\t10250\tEH38E2776516\t0\t.\t10033\t10250\t225,225,225\tLow-DNase\tAll-data/Full-classification\t217\n",
      "chr1\t10015\t10442\tchr1\t10385\t10713\tEH38E2776517\t0\t.\t10385\t10713\t225,225,225\tLow-DNase\tAll-data/Full-classification\t57\n",
      "chr1\t16015\t16477\tchr1\t16097\t16381\tEH38E3951272\t0\t.\t16097\t16381\t225,225,225\tLow-DNase\tAll-data/Full-classification\t284\n",
      "chr1\t17237\t17772\tchr1\t17343\t17642\tEH38E3951273\t0\t.\t17343\t17642\t225,225,225\tLow-DNase\tAll-data/Full-classification\t299\n",
      "chr1\t28903\t29613\tchr1\t29320\t29517\tEH38E3951274\t0\t.\t29320\t29517\t225,225,225\tLow-DNase\tAll-data/Full-classification\t197\n",
      "\n",
      "\n",
      "Done!\n",
      "Run Time: 10 seconds\n"
     ]
    }
   ],
   "source": [
    "cat ${FD_LOG}/annotation_astarr_peak_macs_input_ccre_v4.txt"
   ]
  },
  {
   "cell_type": "code",
   "execution_count": null,
   "id": "4ce7549b-4c80-4f04-a364-54abeac9570e",
   "metadata": {},
   "outputs": [],
   "source": []
  }
 ],
 "metadata": {
  "kernelspec": {
   "display_name": "Bash",
   "language": "bash",
   "name": "bash"
  },
  "language_info": {
   "codemirror_mode": "shell",
   "file_extension": ".sh",
   "mimetype": "text/x-sh",
   "name": "bash"
  }
 },
 "nbformat": 4,
 "nbformat_minor": 5
}
