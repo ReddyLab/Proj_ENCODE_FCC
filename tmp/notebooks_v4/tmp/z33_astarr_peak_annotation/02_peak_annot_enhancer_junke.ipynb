{
 "cells": [
  {
   "cell_type": "markdown",
   "id": "c055cf24-c8e6-4288-8f0c-9016f9b72ca8",
   "metadata": {},
   "source": [
    "**Set environment**"
   ]
  },
  {
   "cell_type": "code",
   "execution_count": 1,
   "id": "b2b6c09e-9887-4ae2-85db-b0c343361055",
   "metadata": {},
   "outputs": [
    {
     "name": "stdout",
     "output_type": "stream",
     "text": [
      "You are on Duke Server: HARDAC\n",
      "BASE DIRECTORY (FD_BASE): /data/reddylab/Kuei\n",
      "WORK DIRECTORY (FD_WORK): /data/reddylab/Kuei/out\n",
      "CODE DIRECTORY (FD_CODE): /data/reddylab/Kuei/code\n",
      "SING DIRECTORY (FD_SING): /data/reddylab/Kuei/singularity\n",
      "PATH OF PROJECT (FD_PRJ): /data/reddylab/Kuei/code/Proj_CombEffect_ENCODE_FCC\n",
      "PATH OF RESULTS (FD_RES): /data/reddylab/Kuei/out/proj_combeffect_encode_fcc\n",
      "PATH OF LOG     (FD_LOG): /data/reddylab/Kuei/out/proj_combeffect_encode_fcc/log\n",
      "\n"
     ]
    }
   ],
   "source": [
    "### set env\n",
    "source ../config/config_duke.sh\n",
    "source ../config/config_load_module_bedtools.sh\n",
    "show_env"
   ]
  },
  {
   "cell_type": "markdown",
   "id": "21fd823f-749e-4628-ad3c-240b19bf1220",
   "metadata": {},
   "source": [
    "**Check data**"
   ]
  },
  {
   "cell_type": "code",
   "execution_count": 2,
   "id": "04665dbb-da90-4810-b969-b70f1832447d",
   "metadata": {},
   "outputs": [
    {
     "name": "stdout",
     "output_type": "stream",
     "text": [
      "description.tsv\n",
      "\u001b[0m\u001b[38;5;9menhancer_junke_peak_astarr.bed.gz\u001b[0m\n",
      "\u001b[38;5;9menhancer_junke_peak_wstarr.bed.gz\u001b[0m\n"
     ]
    }
   ],
   "source": [
    "ls -1 ${FD_RES}/results/region/annotation_enhancer_junke"
   ]
  },
  {
   "cell_type": "code",
   "execution_count": 3,
   "id": "bb48328e-ffd0-4d2a-8422-e8cf85631194",
   "metadata": {},
   "outputs": [
    {
     "name": "stdout",
     "output_type": "stream",
     "text": [
      "description.tsv\n",
      "\u001b[0m\u001b[38;5;9menhancer_zscore_junke_peak_astarr.bed.gz\u001b[0m\n",
      "\u001b[38;5;9menhancer_zscore_junke_peak_wstarr.bed.gz\u001b[0m\n"
     ]
    }
   ],
   "source": [
    "ls -1 ${FD_RES}/results/region/annotation_enhancer_zscore_junke"
   ]
  },
  {
   "cell_type": "markdown",
   "id": "51b3d539-7400-43b7-ac6c-d8fd0935ed71",
   "metadata": {},
   "source": [
    "## Annotation: first version of enhancer calls by Junke"
   ]
  },
  {
   "cell_type": "markdown",
   "id": "0b29cd93-1535-4efd-a556-2a877961b384",
   "metadata": {},
   "source": [
    "**RUN**"
   ]
  },
  {
   "cell_type": "code",
   "execution_count": 4,
   "id": "267dbff7-de8e-479f-9b69-d30524a9cc93",
   "metadata": {},
   "outputs": [
    {
     "name": "stdout",
     "output_type": "stream",
     "text": [
      "Submitted batch job 29809895\n"
     ]
    }
   ],
   "source": [
    "sbatch -p ${NODE} \\\n",
    "    --exclude=dl-01 \\\n",
    "    --cpus-per-task 8 \\\n",
    "    --mem 4G \\\n",
    "    --output ${FD_LOG}/annotation_astarr_peak_macs_input_enhancer_junke_peak.%a.txt \\\n",
    "    --array 0-1 \\\n",
    "    <<'EOF'\n",
    "#!/bin/bash\n",
    "### set directories\n",
    "source ../config/config_duke.sh\n",
    "\n",
    "### print start message\n",
    "timer_start=`date +%s`\n",
    "echo \"Hostname:          \" $(hostname)\n",
    "echo \"Slurm Array Index: \" ${SLURM_ARRAY_TASK_ID}\n",
    "echo \"Time Stamp:        \" $(date +\"%m-%d-%y+%T\")\n",
    "echo\n",
    "\n",
    "### set input and output\n",
    "FOLDER=annotation_enhancer_junke\n",
    "FD_INP=${FD_RES}/results/region/${FOLDER}\n",
    "FP_INPS=($(ls ${FD_INP}/*.bed.gz))\n",
    "FP_INP=${FP_INPS[SLURM_ARRAY_TASK_ID]}\n",
    "FN_INP=$(basename ${FP_INP})\n",
    "\n",
    "FD_REG=${FD_RES}/results/region/KS91_K562_ASTARRseq_peak_macs_input\n",
    "FN_REG=KS91_K562_hg38_ASTARRseq_Input.all_reps.masked.union_narrowPeak.q5.bed\n",
    "FP_REG=${FD_REG}/${FN_REG}\n",
    "\n",
    "FD_OUT=${FD_RES}/results/region/KS91_K562_ASTARRseq_peak_macs_input/${FOLDER}\n",
    "FN_OUT=peak.annotation.${FN_INP}\n",
    "FP_OUT=${FD_OUT}/${FN_OUT}\n",
    "\n",
    "### show I/O file\n",
    "echo \"Input: \" ${FP_REG}\n",
    "echo\n",
    "echo \"show first few lines of input\"\n",
    "cat ${FP_REG} | head -5\n",
    "echo\n",
    "echo \"Input: \" ${FP_INP}\n",
    "echo\n",
    "echo \"show first few lines of input\"\n",
    "zcat ${FP_INP} | head -5\n",
    "echo\n",
    "\n",
    "### init: create output folder if not exist\n",
    "mkdir -p ${FD_OUT}\n",
    "\n",
    "### annotation using intersect\n",
    "bedtools intersect \\\n",
    "    -a ${FP_REG} \\\n",
    "    -b ${FP_INP} \\\n",
    "    -wo \\\n",
    "    -f 0.5 \\\n",
    "    -F 0.5 \\\n",
    "    -e \\\n",
    "| gzip -c \\\n",
    "> ${FP_OUT}\n",
    "\n",
    "### show output file\n",
    "echo\n",
    "echo \"Output: \" ${FP_OUT}\n",
    "echo\n",
    "echo \"show first few lines of output:\"\n",
    "zcat ${FP_OUT} | head -5\n",
    "echo\n",
    "\n",
    "### print end message\n",
    "timer=`date +%s`\n",
    "runtime=$(echo \"${timer} - ${timer_start}\" | bc -l)\n",
    "echo\n",
    "echo 'Done!'\n",
    "echo \"Run Time: $(displaytime ${runtime})\"\n",
    "\n",
    "EOF"
   ]
  },
  {
   "cell_type": "markdown",
   "id": "97beb391-5098-48c2-8fda-5edf8581653f",
   "metadata": {},
   "source": [
    "**Check results**"
   ]
  },
  {
   "cell_type": "code",
   "execution_count": 5,
   "id": "a743f1c6-3125-405a-ab4d-45e64e17b5ee",
   "metadata": {},
   "outputs": [
    {
     "name": "stdout",
     "output_type": "stream",
     "text": [
      "Hostname:           x2-06-2.genome.duke.edu\n",
      "Slurm Array Index:  0\n",
      "Time Stamp:         05-02-23+10:47:41\n",
      "\n",
      "Input:  /data/reddylab/Kuei/out/proj_combeffect_encode_fcc/results/region/KS91_K562_ASTARRseq_peak_macs_input/KS91_K562_hg38_ASTARRseq_Input.all_reps.masked.union_narrowPeak.q5.bed\n",
      "\n",
      "show first few lines of input\n",
      "chr1\t10015\t10442\n",
      "chr1\t14253\t14645\n",
      "chr1\t16015\t16477\n",
      "chr1\t17237\t17772\n",
      "chr1\t28903\t29613\n",
      "\n",
      "Input:  /data/reddylab/Kuei/out/proj_combeffect_encode_fcc/results/region/annotation_enhancer_junke/enhancer_junke_peak_astarr.bed.gz\n",
      "\n",
      "show first few lines of input\n",
      "chr1\t115570\t115740\t1.5069715049032106\n",
      "chr1\t605280\t605470\t1.616298222666554\n",
      "chr1\t778370\t778900\t1.5174461435262607\n",
      "chr1\t827450\t827550\t1.34171830362684\n",
      "chr1\t944320\t944500\t1.081724668340518\n",
      "\n",
      "\n",
      "Output:  /data/reddylab/Kuei/out/proj_combeffect_encode_fcc/results/region/KS91_K562_ASTARRseq_peak_macs_input/annotation_enhancer_junke/peak.annotation.enhancer_junke_peak_astarr.bed.gz\n",
      "\n",
      "show first few lines of output:\n",
      "chr1\t115411\t115986\tchr1\t115570\t115740\t1.5069715049032106\t170\n",
      "chr1\t605090\t605823\tchr1\t605280\t605470\t1.616298222666554\t190\n",
      "chr1\t777949\t779437\tchr1\t778370\t778900\t1.5174461435262607\t530\n",
      "chr1\t826754\t828040\tchr1\t827450\t827550\t1.34171830362684\t100\n",
      "chr1\t965936\t967556\tchr1\t967240\t967410\t1.1607315385645216\t170\n",
      "\n",
      "\n",
      "Done!\n",
      "Run Time: 0 seconds\n"
     ]
    }
   ],
   "source": [
    "cat ${FD_LOG}/annotation_astarr_peak_macs_input_enhancer_junke_peak.0.txt"
   ]
  },
  {
   "cell_type": "code",
   "execution_count": 6,
   "id": "4ebd129f-8ba5-4904-9c9b-7c2f5f342a8b",
   "metadata": {},
   "outputs": [
    {
     "name": "stdout",
     "output_type": "stream",
     "text": [
      "Hostname:           x2-06-2.genome.duke.edu\n",
      "Slurm Array Index:  1\n",
      "Time Stamp:         05-02-23+10:47:41\n",
      "\n",
      "Input:  /data/reddylab/Kuei/out/proj_combeffect_encode_fcc/results/region/KS91_K562_ASTARRseq_peak_macs_input/KS91_K562_hg38_ASTARRseq_Input.all_reps.masked.union_narrowPeak.q5.bed\n",
      "\n",
      "show first few lines of input\n",
      "chr1\t10015\t10442\n",
      "chr1\t14253\t14645\n",
      "chr1\t16015\t16477\n",
      "chr1\t17237\t17772\n",
      "chr1\t28903\t29613\n",
      "\n",
      "Input:  /data/reddylab/Kuei/out/proj_combeffect_encode_fcc/results/region/annotation_enhancer_junke/enhancer_junke_peak_wstarr.bed.gz\n",
      "\n",
      "show first few lines of input\n",
      "chr1\t778420\t779100\t1.6558135355826122\n",
      "chr1\t827490\t827570\t1.16800876592722\n",
      "chr1\t827670\t827740\t1.02222264327026\n",
      "chr1\t844100\t844200\t1.08529978266911\n",
      "chr1\t913190\t913280\t1.03664179256162\n",
      "\n",
      "\n",
      "Output:  /data/reddylab/Kuei/out/proj_combeffect_encode_fcc/results/region/KS91_K562_ASTARRseq_peak_macs_input/annotation_enhancer_junke/peak.annotation.enhancer_junke_peak_wstarr.bed.gz\n",
      "\n",
      "show first few lines of output:\n",
      "chr1\t777949\t779437\tchr1\t778420\t779100\t1.6558135355826122\t680\n",
      "chr1\t826754\t828040\tchr1\t827490\t827570\t1.16800876592722\t80\n",
      "chr1\t826754\t828040\tchr1\t827670\t827740\t1.02222264327026\t70\n",
      "chr1\t912650\t914455\tchr1\t913190\t913280\t1.03664179256162\t90\n",
      "chr1\t920697\t921526\tchr1\t921020\t921320\t1.0374781563177278\t300\n",
      "\n",
      "\n",
      "Done!\n",
      "Run Time: 0 seconds\n"
     ]
    }
   ],
   "source": [
    "cat ${FD_LOG}/annotation_astarr_peak_macs_input_enhancer_junke_peak.1.txt"
   ]
  },
  {
   "cell_type": "markdown",
   "id": "6b41a229-d4b8-4e8a-bad4-d93fd1766c0a",
   "metadata": {
    "tags": []
   },
   "source": [
    "## Annotation: enhancer calls using z-score"
   ]
  },
  {
   "cell_type": "markdown",
   "id": "4b6dd68e-6d45-4d9d-b1c6-22a48f19734a",
   "metadata": {},
   "source": [
    "**RUN**"
   ]
  },
  {
   "cell_type": "code",
   "execution_count": 7,
   "id": "d26a5de7-3926-484c-8921-eb2bf5ca553d",
   "metadata": {},
   "outputs": [
    {
     "name": "stdout",
     "output_type": "stream",
     "text": [
      "Submitted batch job 29809899\n"
     ]
    }
   ],
   "source": [
    "sbatch -p ${NODE} \\\n",
    "    --exclude=dl-01 \\\n",
    "    --cpus-per-task 8 \\\n",
    "    --mem 4G \\\n",
    "    --output ${FD_LOG}/annotation_astarr_peak_macs_input_enhancer_zscore_junke_peak.%a.txt \\\n",
    "    --array 0-1 \\\n",
    "    <<'EOF'\n",
    "#!/bin/bash\n",
    "### set directories\n",
    "source ../config/config_duke.sh\n",
    "\n",
    "### print start message\n",
    "timer_start=`date +%s`\n",
    "echo \"Hostname:          \" $(hostname)\n",
    "echo \"Slurm Array Index: \" ${SLURM_ARRAY_TASK_ID}\n",
    "echo \"Time Stamp:        \" $(date +\"%m-%d-%y+%T\")\n",
    "echo\n",
    "\n",
    "### set input and output\n",
    "FOLDER=annotation_enhancer_zscore_junke\n",
    "FD_INP=${FD_RES}/results/region/${FOLDER}\n",
    "FP_INPS=($(ls ${FD_INP}/*.bed.gz))\n",
    "FP_INP=${FP_INPS[SLURM_ARRAY_TASK_ID]}\n",
    "FN_INP=$(basename ${FP_INP})\n",
    "\n",
    "FD_REG=${FD_RES}/results/region/KS91_K562_ASTARRseq_peak_macs_input\n",
    "FN_REG=KS91_K562_hg38_ASTARRseq_Input.all_reps.masked.union_narrowPeak.q5.bed\n",
    "FP_REG=${FD_REG}/${FN_REG}\n",
    "\n",
    "FD_OUT=${FD_RES}/results/region/KS91_K562_ASTARRseq_peak_macs_input/${FOLDER}\n",
    "FN_OUT=peak.annotation.${FN_INP}\n",
    "FP_OUT=${FD_OUT}/${FN_OUT}\n",
    "\n",
    "### show I/O file\n",
    "echo \"Input: \" ${FP_REG}\n",
    "echo\n",
    "echo \"show first few lines of input\"\n",
    "cat ${FP_REG} | head -5\n",
    "echo\n",
    "echo \"Input: \" ${FP_INP}\n",
    "echo\n",
    "echo \"show first few lines of input\"\n",
    "zcat ${FP_INP} | head -5\n",
    "echo\n",
    "\n",
    "### init: create output folder if not exist\n",
    "mkdir -p ${FD_OUT}\n",
    "\n",
    "### annotation using intersect\n",
    "bedtools intersect \\\n",
    "    -a ${FP_REG} \\\n",
    "    -b ${FP_INP} \\\n",
    "    -wo \\\n",
    "    -f 0.5 \\\n",
    "    -F 0.5 \\\n",
    "    -e \\\n",
    "| gzip -c \\\n",
    "> ${FP_OUT}\n",
    "\n",
    "### show output file\n",
    "echo\n",
    "echo \"Output: \" ${FP_OUT}\n",
    "echo\n",
    "echo \"show first few lines of output:\"\n",
    "zcat ${FP_OUT} | head -5\n",
    "echo\n",
    "\n",
    "### print end message\n",
    "timer=`date +%s`\n",
    "runtime=$(echo \"${timer} - ${timer_start}\" | bc -l)\n",
    "echo\n",
    "echo 'Done!'\n",
    "echo \"Run Time: $(displaytime ${runtime})\"\n",
    "\n",
    "EOF"
   ]
  },
  {
   "cell_type": "markdown",
   "id": "785afe9b-8377-4f7a-a50e-7b0858ed2110",
   "metadata": {},
   "source": [
    "**Check results**"
   ]
  },
  {
   "cell_type": "code",
   "execution_count": 8,
   "id": "f3b6009b-0ede-4f69-8c76-8faaaaafeb28",
   "metadata": {},
   "outputs": [
    {
     "name": "stdout",
     "output_type": "stream",
     "text": [
      "Hostname:           x2-06-2.genome.duke.edu\n",
      "Slurm Array Index:  0\n",
      "Time Stamp:         05-02-23+10:48:41\n",
      "\n",
      "Input:  /data/reddylab/Kuei/out/proj_combeffect_encode_fcc/results/region/KS91_K562_ASTARRseq_peak_macs_input/KS91_K562_hg38_ASTARRseq_Input.all_reps.masked.union_narrowPeak.q5.bed\n",
      "\n",
      "show first few lines of input\n",
      "chr1\t10015\t10442\n",
      "chr1\t14253\t14645\n",
      "chr1\t16015\t16477\n",
      "chr1\t17237\t17772\n",
      "chr1\t28903\t29613\n",
      "\n",
      "Input:  /data/reddylab/Kuei/out/proj_combeffect_encode_fcc/results/region/annotation_enhancer_zscore_junke/enhancer_zscore_junke_peak_astarr.bed.gz\n",
      "\n",
      "show first few lines of input\n",
      "chr1\t1013020\t1013470\tpeak_both_1\t2.658360178935336\t.\t2.1815960444053615\t1013360\t1013460\t2.89262816549784\t2.346891463569688\n",
      "chr1\t1724540\t1724700\tpeak_both_2\t2.619778787285912\t.\t2.15437368509707\t1724570\t1724670\t2.798618155474315\t2.280559634622436\n",
      "chr1\t2290700\t2291030\tpeak_both_3\t2.951714496770693\t.\t2.388581751849955\t2290810\t2290910\t3.36653733999668\t2.6812735393882527\n",
      "chr1\t3313260\t3313400\tpeak_both_4\t2.655312311266967\t.\t2.179445521958002\t3313270\t3313370\t2.705815975077895\t2.2150800292650183\n",
      "chr1\t5856530\t5856630\tpeak_both_5\t2.396074947613395\t.\t1.9965321443474449\t5856530\t5856630\t2.396074947613395\t1.9965321443474449\n",
      "\n",
      "\n",
      "Output:  /data/reddylab/Kuei/out/proj_combeffect_encode_fcc/results/region/KS91_K562_ASTARRseq_peak_macs_input/annotation_enhancer_zscore_junke/peak.annotation.enhancer_zscore_junke_peak_astarr.bed.gz\n",
      "\n",
      "show first few lines of output:\n",
      "chr1\t1012902\t1014502\tchr1\t1013020\t1013470\tpeak_both_1\t2.658360178935336\t.\t2.1815960444053615\t1013360\t1013460\t2.89262816549784\t2.346891463569688\t450\n",
      "chr1\t1723926\t1724986\tchr1\t1724540\t1724700\tpeak_both_2\t2.619778787285912\t.\t2.15437368509707\t1724570\t1724670\t2.798618155474315\t2.280559634622436\t160\n",
      "chr1\t2289710\t2291474\tchr1\t2290700\t2291030\tpeak_both_3\t2.951714496770693\t.\t2.388581751849955\t2290810\t2290910\t3.36653733999668\t2.6812735393882527\t330\n",
      "chr1\t3312817\t3313807\tchr1\t3313260\t3313400\tpeak_both_4\t2.655312311266967\t.\t2.179445521958002\t3313270\t3313370\t2.705815975077895\t2.2150800292650183\t140\n",
      "chr1\t5855596\t5857313\tchr1\t5856530\t5856630\tpeak_both_5\t2.396074947613395\t.\t1.9965321443474449\t5856530\t5856630\t2.396074947613395\t1.9965321443474449\t100\n",
      "\n",
      "\n",
      "Done!\n",
      "Run Time: 0 seconds\n"
     ]
    }
   ],
   "source": [
    "cat ${FD_LOG}/annotation_astarr_peak_macs_input_enhancer_zscore_junke_peak.0.txt"
   ]
  },
  {
   "cell_type": "code",
   "execution_count": 9,
   "id": "33f11c46-b0d4-4db9-8a57-8b2eaa6513fa",
   "metadata": {},
   "outputs": [
    {
     "name": "stdout",
     "output_type": "stream",
     "text": [
      "Hostname:           x2-07-2.genome.duke.edu\n",
      "Slurm Array Index:  1\n",
      "Time Stamp:         05-02-23+10:48:42\n",
      "\n",
      "Input:  /data/reddylab/Kuei/out/proj_combeffect_encode_fcc/results/region/KS91_K562_ASTARRseq_peak_macs_input/KS91_K562_hg38_ASTARRseq_Input.all_reps.masked.union_narrowPeak.q5.bed\n",
      "\n",
      "show first few lines of input\n",
      "chr1\t10015\t10442\n",
      "chr1\t14253\t14645\n",
      "chr1\t16015\t16477\n",
      "chr1\t17237\t17772\n",
      "chr1\t28903\t29613\n",
      "\n",
      "Input:  /data/reddylab/Kuei/out/proj_combeffect_encode_fcc/results/region/annotation_enhancer_zscore_junke/enhancer_zscore_junke_peak_wstarr.bed.gz\n",
      "\n",
      "show first few lines of input\n",
      "chr1\t778420\t779050\tpeak_both_1\t1.7160523417401703\t.\t3.1333773540387195\t778630\t778730\t2.2489173568744247\t4.143802526903223\n",
      "chr1\t827430\t827560\tpeak_both_2\t1.39270100900738\t.\t2.520234593690341\t827450\t827550\t1.4164671444154702\t2.565300230945567\n",
      "chr1\t959270\t959620\tpeak_both_3\t1.7887397381151169\t.\t3.2712080859525448\t959290\t959390\t2.1368672535956\t3.931331747701352\n",
      "chr1\t997730\t997950\tpeak_both_4\t1.2288622673649527\t.\t2.209561563665574\t997760\t997860\t1.30995297469849\t2.3633267568159453\n",
      "chr1\t1000690\t1000990\tpeak_both_5\t1.1763882874494396\t.\t2.110059759791919\t1000790\t1000890\t1.255086781995185\t2.259288809733444\n",
      "\n",
      "\n",
      "Output:  /data/reddylab/Kuei/out/proj_combeffect_encode_fcc/results/region/KS91_K562_ASTARRseq_peak_macs_input/annotation_enhancer_zscore_junke/peak.annotation.enhancer_zscore_junke_peak_wstarr.bed.gz\n",
      "\n",
      "show first few lines of output:\n",
      "chr1\t777949\t779437\tchr1\t778420\t779050\tpeak_both_1\t1.7160523417401703\t.\t3.1333773540387195\t778630\t778730\t2.2489173568744247\t4.143802526903223\t630\n",
      "chr1\t826754\t828040\tchr1\t827430\t827560\tpeak_both_2\t1.39270100900738\t.\t2.520234593690341\t827450\t827550\t1.4164671444154702\t2.565300230945567\t130\n",
      "chr1\t958685\t959974\tchr1\t959270\t959620\tpeak_both_3\t1.7887397381151169\t.\t3.2712080859525448\t959290\t959390\t2.1368672535956\t3.931331747701352\t350\n",
      "chr1\t998921\t1001204\tchr1\t1000690\t1000990\tpeak_both_5\t1.1763882874494396\t.\t2.110059759791919\t1000790\t1000890\t1.255086781995185\t2.259288809733444\t300\n",
      "chr1\t998921\t1001204\tchr1\t1001030\t1001180\tpeak_both_6\t1.3333446062255367\t.\t2.4076822552217547\t1001050\t1001150\t1.36870731006013\t2.4747374476629824\t150\n",
      "\n",
      "\n",
      "Done!\n",
      "Run Time: 0 seconds\n"
     ]
    }
   ],
   "source": [
    "cat ${FD_LOG}/annotation_astarr_peak_macs_input_enhancer_zscore_junke_peak.1.txt"
   ]
  },
  {
   "cell_type": "code",
   "execution_count": null,
   "id": "68a6fada-0cc4-45a1-9c0c-2e06150837a4",
   "metadata": {},
   "outputs": [],
   "source": []
  },
  {
   "cell_type": "code",
   "execution_count": null,
   "id": "a0eed44d-1305-4201-b4a4-f7f0b4b96a94",
   "metadata": {},
   "outputs": [],
   "source": []
  },
  {
   "cell_type": "code",
   "execution_count": null,
   "id": "006637d6-df63-49c4-a1e2-888b8ea90726",
   "metadata": {},
   "outputs": [],
   "source": []
  },
  {
   "cell_type": "code",
   "execution_count": null,
   "id": "ee1db5e0-1810-4e0d-baa8-73aa3997c5f3",
   "metadata": {},
   "outputs": [],
   "source": []
  },
  {
   "cell_type": "code",
   "execution_count": null,
   "id": "e82001df-cf94-4520-abc0-ab4af0e11050",
   "metadata": {},
   "outputs": [],
   "source": []
  },
  {
   "cell_type": "code",
   "execution_count": null,
   "id": "c3e9c32a-a6e0-4ddd-b9d8-cb7352397cc0",
   "metadata": {},
   "outputs": [],
   "source": []
  },
  {
   "cell_type": "code",
   "execution_count": null,
   "id": "1d2d6045-6fca-4df1-a0cd-5fe914e0d026",
   "metadata": {},
   "outputs": [],
   "source": []
  },
  {
   "cell_type": "code",
   "execution_count": null,
   "id": "e25ace45-d891-4057-9ee3-7c96acfef2ea",
   "metadata": {},
   "outputs": [],
   "source": []
  },
  {
   "cell_type": "markdown",
   "id": "f12d2312-70e9-491e-8f63-835aa51c27b2",
   "metadata": {},
   "source": [
    "## Annotate ATAC peaks using Junke's enhancers (ASTARR)"
   ]
  },
  {
   "cell_type": "code",
   "execution_count": 3,
   "id": "f4568e84-5799-4f9c-8f42-5e762d9573e9",
   "metadata": {},
   "outputs": [
    {
     "name": "stdout",
     "output_type": "stream",
     "text": [
      "Submitted batch job 29603139\n"
     ]
    }
   ],
   "source": [
    "sbatch -p ${NODE} \\\n",
    "    --exclude=dl-01 \\\n",
    "    --cpus-per-task 8 \\\n",
    "    --mem 8G \\\n",
    "    --output ${FD_LOG}/annotation_astarr_peak_macs_input_enhancer_junke_peak_astarr.txt \\\n",
    "    --array 0 \\\n",
    "    <<'EOF'\n",
    "#!/bin/bash\n",
    "### set directories & global variables\n",
    "source ../config/config_duke.sh\n",
    "\n",
    "### set input and output\n",
    "FD_BED=${FD_RES}/results/region/KS91_K562_ASTARRseq_peak_macs_input\n",
    "FN_BED=KS91_K562_hg38_ASTARRseq_Input.all_reps.masked.union_narrowPeak.q5.bed\n",
    "FP_BED=${FD_BED}/${FN_BED}\n",
    "\n",
    "FD_ANN=${FD_RES}/results/region/annotation_enhancer_junke\n",
    "FN_ANN=enhancer_junke_peak_astarr.bed.gz\n",
    "FP_ANN=${FD_ANN}/${FN_ANN}\n",
    "\n",
    "FD_OUT=${FD_RES}/results/region/KS91_K562_ASTARRseq_peak_macs_input\n",
    "FN_OUT=peak.annotation.enhancer_junke_peak_astarr.bed.gz\n",
    "FP_OUT=${FD_OUT}/${FN_OUT}\n",
    "\n",
    "### print start message\n",
    "timer_start=`date +%s`\n",
    "echo \"Hostname:          \" $(hostname)\n",
    "echo \"Slurm Array Index: \" ${SLURM_ARRAY_TASK_ID}\n",
    "echo \"Time Stamp:        \" $(date +\"%m-%d-%y+%T\")\n",
    "echo\n",
    "\n",
    "### show I/O file\n",
    "echo \"Input: \" ${FP_BED}\n",
    "echo\n",
    "echo \"show first few lines of input\"\n",
    "cat ${FP_BED} | head -5\n",
    "echo\n",
    "echo \"Input: \" ${FP_ANN}\n",
    "echo\n",
    "echo \"show first few lines of input\"\n",
    "zcat ${FP_ANN} | head -5\n",
    "echo\n",
    "\n",
    "### init: create output folder if not exist\n",
    "mkdir -p ${FD_OUT}\n",
    "\n",
    "### annotation using intersect\n",
    "bedtools intersect \\\n",
    "    -a ${FP_BED} \\\n",
    "    -b ${FP_ANN} \\\n",
    "    -wo \\\n",
    "    -f 0.5 \\\n",
    "    -F 0.5 \\\n",
    "    -e \\\n",
    "| gzip -c \\\n",
    "> ${FP_OUT}\n",
    "\n",
    "### show output file\n",
    "echo\n",
    "echo \"Output: \" ${FP_OUT}\n",
    "echo\n",
    "echo \"show first few lines of output:\"\n",
    "zcat ${FP_OUT} | head -5\n",
    "echo\n",
    "\n",
    "### print end message\n",
    "timer=`date +%s`\n",
    "runtime=$(echo \"${timer} - ${timer_start}\" | bc -l)\n",
    "echo\n",
    "echo 'Done!'\n",
    "echo \"Run Time: $(displaytime ${runtime})\"\n",
    "\n",
    "EOF"
   ]
  },
  {
   "cell_type": "markdown",
   "id": "5f6b3cff-1812-49fc-ab86-2aebf2ac455d",
   "metadata": {},
   "source": [
    "**Check results**"
   ]
  },
  {
   "cell_type": "code",
   "execution_count": 4,
   "id": "5f7ce280-1284-4b5a-b7f4-4797647cccea",
   "metadata": {},
   "outputs": [
    {
     "name": "stdout",
     "output_type": "stream",
     "text": [
      "Hostname:           x2-08-1.genome.duke.edu\n",
      "Slurm Array Index:  0\n",
      "Time Stamp:         03-23-23+11:41:00\n",
      "\n",
      "Input:  /data/reddylab/Kuei/out/proj_combeffect_encode_fcc/results/region/KS91_K562_ASTARRseq_peak_macs_input/KS91_K562_hg38_ASTARRseq_Input.all_reps.masked.union_narrowPeak.q5.bed\n",
      "\n",
      "show first few lines of input\n",
      "chr1\t10015\t10442\n",
      "chr1\t14253\t14645\n",
      "chr1\t16015\t16477\n",
      "chr1\t17237\t17772\n",
      "chr1\t28903\t29613\n",
      "\n",
      "Input:  /data/reddylab/Kuei/out/proj_combeffect_encode_fcc/results/region/annotation_enhancer_junke/enhancer_junke_peak_astarr.bed.gz\n",
      "\n",
      "show first few lines of input\n",
      "chr1\t115570\t115740\n",
      "chr1\t605280\t605470\n",
      "chr1\t778370\t778900\n",
      "chr1\t827450\t827550\n",
      "chr1\t944320\t944500\n",
      "\n",
      "\n",
      "Output:  /data/reddylab/Kuei/out/proj_combeffect_encode_fcc/results/region/KS91_K562_ASTARRseq_peak_macs_input/peak.annotation.enhancer_junke_peak_astarr.bed.gz\n",
      "\n",
      "show first few lines of output:\n",
      "chr1\t115411\t115986\tchr1\t115570\t115740\t170\n",
      "chr1\t605090\t605823\tchr1\t605280\t605470\t190\n",
      "chr1\t777949\t779437\tchr1\t778370\t778900\t530\n",
      "chr1\t826754\t828040\tchr1\t827450\t827550\t100\n",
      "chr1\t965936\t967556\tchr1\t967240\t967410\t170\n",
      "\n",
      "\n",
      "Done!\n",
      "Run Time: 0 seconds\n"
     ]
    }
   ],
   "source": [
    "cat ${FD_LOG}/annotation_astarr_peak_macs_input_enhancer_junke_peak_astarr.txt"
   ]
  },
  {
   "cell_type": "markdown",
   "id": "aadfbc31-ffa9-42b3-be87-8ddfddd48a84",
   "metadata": {},
   "source": [
    "## Annotate ATAC peaks using Junke's enhancers (WSTARR)"
   ]
  },
  {
   "cell_type": "code",
   "execution_count": 5,
   "id": "c1175480-37a9-4fbd-a502-180cd6e2be25",
   "metadata": {},
   "outputs": [
    {
     "name": "stdout",
     "output_type": "stream",
     "text": [
      "Submitted batch job 29603147\n"
     ]
    }
   ],
   "source": [
    "sbatch -p ${NODE} \\\n",
    "    --exclude=dl-01 \\\n",
    "    --cpus-per-task 8 \\\n",
    "    --mem 8G \\\n",
    "    --output ${FD_LOG}/annotation_astarr_peak_macs_input_enhancer_junke_peak_wstarr.txt \\\n",
    "    --array 0 \\\n",
    "    <<'EOF'\n",
    "#!/bin/bash\n",
    "### set directories & global variables\n",
    "source ../config/config_duke.sh\n",
    "\n",
    "### set input and output\n",
    "FD_BED=${FD_RES}/results/region/KS91_K562_ASTARRseq_peak_macs_input\n",
    "FN_BED=KS91_K562_hg38_ASTARRseq_Input.all_reps.masked.union_narrowPeak.q5.bed\n",
    "FP_BED=${FD_BED}/${FN_BED}\n",
    "\n",
    "FD_ANN=${FD_RES}/results/region/annotation_enhancer_junke\n",
    "FN_ANN=enhancer_junke_peak_wstarr.bed.gz\n",
    "FP_ANN=${FD_ANN}/${FN_ANN}\n",
    "\n",
    "FD_OUT=${FD_RES}/results/region/KS91_K562_ASTARRseq_peak_macs_input\n",
    "FN_OUT=peak.annotation.enhancer_junke_peak_wstarr.bed.gz\n",
    "FP_OUT=${FD_OUT}/${FN_OUT}\n",
    "\n",
    "### print start message\n",
    "timer_start=`date +%s`\n",
    "echo \"Hostname:          \" $(hostname)\n",
    "echo \"Slurm Array Index: \" ${SLURM_ARRAY_TASK_ID}\n",
    "echo \"Time Stamp:        \" $(date +\"%m-%d-%y+%T\")\n",
    "echo\n",
    "\n",
    "### show I/O file\n",
    "echo \"Input: \" ${FP_BED}\n",
    "echo\n",
    "echo \"show first few lines of input\"\n",
    "cat ${FP_BED} | head -5\n",
    "echo\n",
    "echo \"Input: \" ${FP_ANN}\n",
    "echo\n",
    "echo \"show first few lines of input\"\n",
    "zcat ${FP_ANN} | head -5\n",
    "echo\n",
    "\n",
    "### init: create output folder if not exist\n",
    "mkdir -p ${FD_OUT}\n",
    "\n",
    "### annotation using intersect\n",
    "bedtools intersect \\\n",
    "    -a ${FP_BED} \\\n",
    "    -b ${FP_ANN} \\\n",
    "    -wo \\\n",
    "    -f 0.5 \\\n",
    "    -F 0.5 \\\n",
    "    -e \\\n",
    "| gzip -c \\\n",
    "> ${FP_OUT}\n",
    "\n",
    "### show output file\n",
    "echo\n",
    "echo \"Output: \" ${FP_OUT}\n",
    "echo\n",
    "echo \"show first few lines of output:\"\n",
    "zcat ${FP_OUT} | head -5\n",
    "echo\n",
    "\n",
    "### print end message\n",
    "timer=`date +%s`\n",
    "runtime=$(echo \"${timer} - ${timer_start}\" | bc -l)\n",
    "echo\n",
    "echo 'Done!'\n",
    "echo \"Run Time: $(displaytime ${runtime})\"\n",
    "\n",
    "EOF"
   ]
  },
  {
   "cell_type": "markdown",
   "id": "f66ffc69-2954-4d84-9c3b-1688fe41a038",
   "metadata": {},
   "source": [
    "**Check results**"
   ]
  },
  {
   "cell_type": "code",
   "execution_count": 6,
   "id": "89558892-7fc4-4af3-8c11-6634f1936dcc",
   "metadata": {},
   "outputs": [
    {
     "name": "stdout",
     "output_type": "stream",
     "text": [
      "Hostname:           x2-08-1.genome.duke.edu\n",
      "Slurm Array Index:  0\n",
      "Time Stamp:         03-23-23+11:41:59\n",
      "\n",
      "Input:  /data/reddylab/Kuei/out/proj_combeffect_encode_fcc/results/region/KS91_K562_ASTARRseq_peak_macs_input/KS91_K562_hg38_ASTARRseq_Input.all_reps.masked.union_narrowPeak.q5.bed\n",
      "\n",
      "show first few lines of input\n",
      "chr1\t10015\t10442\n",
      "chr1\t14253\t14645\n",
      "chr1\t16015\t16477\n",
      "chr1\t17237\t17772\n",
      "chr1\t28903\t29613\n",
      "\n",
      "Input:  /data/reddylab/Kuei/out/proj_combeffect_encode_fcc/results/region/annotation_enhancer_junke/enhancer_junke_peak_wstarr.bed.gz\n",
      "\n",
      "show first few lines of input\n",
      "chr1\t778420\t779100\n",
      "chr1\t827490\t827570\n",
      "chr1\t827670\t827740\n",
      "chr1\t844100\t844200\n",
      "chr1\t913190\t913280\n",
      "\n",
      "\n",
      "Output:  /data/reddylab/Kuei/out/proj_combeffect_encode_fcc/results/region/KS91_K562_ASTARRseq_peak_macs_input/peak.annotation.enhancer_junke_peak_wstarr.bed.gz\n",
      "\n",
      "show first few lines of output:\n",
      "chr1\t777949\t779437\tchr1\t778420\t779100\t680\n",
      "chr1\t826754\t828040\tchr1\t827490\t827570\t80\n",
      "chr1\t826754\t828040\tchr1\t827670\t827740\t70\n",
      "chr1\t912650\t914455\tchr1\t913190\t913280\t90\n",
      "chr1\t920697\t921526\tchr1\t921020\t921320\t300\n",
      "\n",
      "\n",
      "Done!\n",
      "Run Time: 1 seconds\n"
     ]
    }
   ],
   "source": [
    "cat ${FD_LOG}/annotation_astarr_peak_macs_input_enhancer_junke_peak_wstarr.txt"
   ]
  },
  {
   "cell_type": "code",
   "execution_count": null,
   "id": "24f8d201-cba9-41d4-a0b3-eb2c5bb97c16",
   "metadata": {},
   "outputs": [],
   "source": []
  }
 ],
 "metadata": {
  "kernelspec": {
   "display_name": "Bash",
   "language": "bash",
   "name": "bash"
  },
  "language_info": {
   "codemirror_mode": "shell",
   "file_extension": ".sh",
   "mimetype": "text/x-sh",
   "name": "bash"
  }
 },
 "nbformat": 4,
 "nbformat_minor": 5
}
