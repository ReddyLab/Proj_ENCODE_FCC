{
 "cells": [
  {
   "cell_type": "markdown",
   "metadata": {},
   "source": [
    "**Set environment**"
   ]
  },
  {
   "cell_type": "code",
   "execution_count": 1,
   "metadata": {},
   "outputs": [
    {
     "name": "stdout",
     "output_type": "stream",
     "text": [
      "You are in Singularity: singularity_proj_encode_fcc \n",
      "BASE DIRECTORY (FD_BASE): /data/reddylab/Kuei \n",
      "WORK DIRECTORY (FD_WORK): /data/reddylab/Kuei/out \n",
      "CODE DIRECTORY (FD_CODE): /data/reddylab/Kuei/code \n",
      "PATH OF PROJECT (FD_PRJ): /data/reddylab/Kuei/code/Proj_CombEffect_ENCODE_FCC \n",
      "PATH OF RESULTS (FD_RES): /data/reddylab/Kuei/out/proj_combeffect_encode_fcc \n",
      "PATH OF LOG     (FD_LOG): /data/reddylab/Kuei/out/proj_combeffect_encode_fcc/log \n"
     ]
    }
   ],
   "source": [
    "suppressMessages(suppressWarnings(source(\"../config/config_sing.R\")))\n",
    "show_env()"
   ]
  },
  {
   "cell_type": "markdown",
   "metadata": {},
   "source": [
    "**Check data**"
   ]
  },
  {
   "cell_type": "code",
   "execution_count": 5,
   "metadata": {},
   "outputs": [
    {
     "data": {
      "text/html": [
       "'peak.annotation.ChIP_ENCSR000EWA-ENCSR000AKP-ENCSR000EWC-ENCSR000DWB-ENCSR000EWB-ENCSR000APE.bed.gz'"
      ],
      "text/latex": [
       "'peak.annotation.ChIP\\_ENCSR000EWA-ENCSR000AKP-ENCSR000EWC-ENCSR000DWB-ENCSR000EWB-ENCSR000APE.bed.gz'"
      ],
      "text/markdown": [
       "'peak.annotation.ChIP_ENCSR000EWA-ENCSR000AKP-ENCSR000EWC-ENCSR000DWB-ENCSR000EWB-ENCSR000APE.bed.gz'"
      ],
      "text/plain": [
       "[1] \"peak.annotation.ChIP_ENCSR000EWA-ENCSR000AKP-ENCSR000EWC-ENCSR000DWB-ENCSR000EWB-ENCSR000APE.bed.gz\""
      ]
     },
     "metadata": {},
     "output_type": "display_data"
    }
   ],
   "source": [
    "fdiry = file.path(\n",
    "    FD_RES, \n",
    "    \"results\", \n",
    "    \"region\", \n",
    "    \"KS91_K562_ASTARRseq_peak_macs_input\", \n",
    "    \"annotation_chromHMM\")\n",
    "dir(fdiry)"
   ]
  },
  {
   "cell_type": "code",
   "execution_count": 6,
   "metadata": {},
   "outputs": [
    {
     "data": {
      "text/html": [
       "<style>\n",
       ".list-inline {list-style: none; margin:0; padding: 0}\n",
       ".list-inline>li {display: inline-block}\n",
       ".list-inline>li:not(:last-child)::after {content: \"\\00b7\"; padding: 0 .5ex}\n",
       "</style>\n",
       "<ol class=list-inline><li>'ChIP_ENCSR000EWA-ENCSR000AKP-ENCSR000EWC-ENCSR000DWB-ENCSR000EWB-ENCSR000APE.bed'</li><li>'description.tsv'</li></ol>\n"
      ],
      "text/latex": [
       "\\begin{enumerate*}\n",
       "\\item 'ChIP\\_ENCSR000EWA-ENCSR000AKP-ENCSR000EWC-ENCSR000DWB-ENCSR000EWB-ENCSR000APE.bed'\n",
       "\\item 'description.tsv'\n",
       "\\end{enumerate*}\n"
      ],
      "text/markdown": [
       "1. 'ChIP_ENCSR000EWA-ENCSR000AKP-ENCSR000EWC-ENCSR000DWB-ENCSR000EWB-ENCSR000APE.bed'\n",
       "2. 'description.tsv'\n",
       "\n",
       "\n"
      ],
      "text/plain": [
       "[1] \"ChIP_ENCSR000EWA-ENCSR000AKP-ENCSR000EWC-ENCSR000DWB-ENCSR000EWB-ENCSR000APE.bed\"\n",
       "[2] \"description.tsv\"                                                                 "
      ]
     },
     "metadata": {},
     "output_type": "display_data"
    }
   ],
   "source": [
    "fdiry = file.path(\n",
    "    FD_RES, \n",
    "    \"results\", \n",
    "    \"region\", \n",
    "    \"annotation_chromHMM\")\n",
    "dir(fdiry)"
   ]
  },
  {
   "cell_type": "markdown",
   "metadata": {},
   "source": [
    "## Import data"
   ]
  },
  {
   "cell_type": "code",
   "execution_count": 7,
   "metadata": {},
   "outputs": [
    {
     "name": "stderr",
     "output_type": "stream",
     "text": [
      "\u001b[1mRows: \u001b[22m\u001b[34m9\u001b[39m \u001b[1mColumns: \u001b[22m\u001b[34m2\u001b[39m\n",
      "\u001b[36m──\u001b[39m \u001b[1mColumn specification\u001b[22m \u001b[36m─────────────────────────────────────────────────────────────────────\u001b[39m\n",
      "\u001b[1mDelimiter:\u001b[22m \"\\t\"\n",
      "\u001b[31mchr\u001b[39m (2): Name, Description\n",
      "\n",
      "\u001b[36mℹ\u001b[39m Use `spec()` to retrieve the full column specification for this data.\n",
      "\u001b[36mℹ\u001b[39m Specify the column types or set `show_col_types = FALSE` to quiet this message.\n"
     ]
    },
    {
     "name": "stdout",
     "output_type": "stream",
     "text": [
      "[1] 9 2\n"
     ]
    },
    {
     "data": {
      "text/html": [
       "<table class=\"dataframe\">\n",
       "<caption>A spec_tbl_df: 9 × 2</caption>\n",
       "<thead>\n",
       "\t<tr><th scope=col>Name</th><th scope=col>Description</th></tr>\n",
       "\t<tr><th scope=col>&lt;chr&gt;</th><th scope=col>&lt;chr&gt;</th></tr>\n",
       "</thead>\n",
       "<tbody>\n",
       "\t<tr><td>Chrom     </td><td>Chromosome                                                 </td></tr>\n",
       "\t<tr><td>Start     </td><td>Start position                                             </td></tr>\n",
       "\t<tr><td>End       </td><td>End position                                               </td></tr>\n",
       "\t<tr><td>Name      </td><td>ChromHMM Label                                             </td></tr>\n",
       "\t<tr><td>Score     </td><td>Score                                                      </td></tr>\n",
       "\t<tr><td>Strand    </td><td>[+-.]; Use '.' if no strand is assigned.                   </td></tr>\n",
       "\t<tr><td>ThickStart</td><td>The starting position at which the feature is drawn thickly</td></tr>\n",
       "\t<tr><td>ThickEnd  </td><td>The ending position at which the feature is drawn thickly  </td></tr>\n",
       "\t<tr><td>ItemRgb   </td><td>An RGB value of the form R,G,B (e.g. 255,0,0)              </td></tr>\n",
       "</tbody>\n",
       "</table>\n"
      ],
      "text/latex": [
       "A spec\\_tbl\\_df: 9 × 2\n",
       "\\begin{tabular}{ll}\n",
       " Name & Description\\\\\n",
       " <chr> & <chr>\\\\\n",
       "\\hline\n",
       "\t Chrom      & Chromosome                                                 \\\\\n",
       "\t Start      & Start position                                             \\\\\n",
       "\t End        & End position                                               \\\\\n",
       "\t Name       & ChromHMM Label                                             \\\\\n",
       "\t Score      & Score                                                      \\\\\n",
       "\t Strand     & {[}+-.{]}; Use '.' if no strand is assigned.                   \\\\\n",
       "\t ThickStart & The starting position at which the feature is drawn thickly\\\\\n",
       "\t ThickEnd   & The ending position at which the feature is drawn thickly  \\\\\n",
       "\t ItemRgb    & An RGB value of the form R,G,B (e.g. 255,0,0)              \\\\\n",
       "\\end{tabular}\n"
      ],
      "text/markdown": [
       "\n",
       "A spec_tbl_df: 9 × 2\n",
       "\n",
       "| Name &lt;chr&gt; | Description &lt;chr&gt; |\n",
       "|---|---|\n",
       "| Chrom      | Chromosome                                                  |\n",
       "| Start      | Start position                                              |\n",
       "| End        | End position                                                |\n",
       "| Name       | ChromHMM Label                                              |\n",
       "| Score      | Score                                                       |\n",
       "| Strand     | [+-.]; Use '.' if no strand is assigned.                    |\n",
       "| ThickStart | The starting position at which the feature is drawn thickly |\n",
       "| ThickEnd   | The ending position at which the feature is drawn thickly   |\n",
       "| ItemRgb    | An RGB value of the form R,G,B (e.g. 255,0,0)               |\n",
       "\n"
      ],
      "text/plain": [
       "  Name       Description                                                \n",
       "1 Chrom      Chromosome                                                 \n",
       "2 Start      Start position                                             \n",
       "3 End        End position                                               \n",
       "4 Name       ChromHMM Label                                             \n",
       "5 Score      Score                                                      \n",
       "6 Strand     [+-.]; Use '.' if no strand is assigned.                   \n",
       "7 ThickStart The starting position at which the feature is drawn thickly\n",
       "8 ThickEnd   The ending position at which the feature is drawn thickly  \n",
       "9 ItemRgb    An RGB value of the form R,G,B (e.g. 255,0,0)              "
      ]
     },
     "metadata": {},
     "output_type": "display_data"
    }
   ],
   "source": [
    "fdiry = file.path(\n",
    "    FD_RES, \n",
    "    \"results\", \n",
    "    \"region\", \n",
    "    \"annotation_chromHMM\")\n",
    "fname = \"description.tsv\"\n",
    "fpath = file.path(fdiry, fname)\n",
    "\n",
    "dat = read_tsv(fpath)\n",
    "\n",
    "dat_cnames = dat\n",
    "print(dim(dat))\n",
    "dat"
   ]
  },
  {
   "cell_type": "code",
   "execution_count": 9,
   "metadata": {},
   "outputs": [
    {
     "name": "stdout",
     "output_type": "stream",
     "text": [
      "[1] 375968     16\n"
     ]
    },
    {
     "data": {
      "text/html": [
       "<table class=\"dataframe\">\n",
       "<caption>A tibble: 6 × 16</caption>\n",
       "<thead>\n",
       "\t<tr><th scope=col>Chrom_ATAC</th><th scope=col>Start_ATAC</th><th scope=col>End_ATAC</th><th scope=col>Chrom</th><th scope=col>Start</th><th scope=col>End</th><th scope=col>Name</th><th scope=col>Score</th><th scope=col>Strand</th><th scope=col>ThickStart</th><th scope=col>ThickEnd</th><th scope=col>ItemRgb</th><th scope=col>Overlap</th><th scope=col>Peak_ATAC</th><th scope=col>Annotation</th><th scope=col>Label</th></tr>\n",
       "\t<tr><th scope=col>&lt;chr&gt;</th><th scope=col>&lt;dbl&gt;</th><th scope=col>&lt;dbl&gt;</th><th scope=col>&lt;chr&gt;</th><th scope=col>&lt;dbl&gt;</th><th scope=col>&lt;dbl&gt;</th><th scope=col>&lt;chr&gt;</th><th scope=col>&lt;dbl&gt;</th><th scope=col>&lt;chr&gt;</th><th scope=col>&lt;dbl&gt;</th><th scope=col>&lt;dbl&gt;</th><th scope=col>&lt;chr&gt;</th><th scope=col>&lt;dbl&gt;</th><th scope=col>&lt;chr&gt;</th><th scope=col>&lt;chr&gt;</th><th scope=col>&lt;chr&gt;</th></tr>\n",
       "</thead>\n",
       "<tbody>\n",
       "\t<tr><td>chr1</td><td>10015</td><td>10442</td><td>chr1</td><td>    0</td><td>16000</td><td>Quies</td><td>1</td><td>.</td><td>    0</td><td>16000</td><td>220,220,220</td><td>427</td><td>chr1_10015_10442</td><td>ChromHMM</td><td>Quies</td></tr>\n",
       "\t<tr><td>chr1</td><td>14253</td><td>14645</td><td>chr1</td><td>    0</td><td>16000</td><td>Quies</td><td>1</td><td>.</td><td>    0</td><td>16000</td><td>220,220,220</td><td>392</td><td>chr1_14253_14645</td><td>ChromHMM</td><td>Quies</td></tr>\n",
       "\t<tr><td>chr1</td><td>16015</td><td>16477</td><td>chr1</td><td>16000</td><td>16200</td><td>TxWk </td><td>1</td><td>.</td><td>16000</td><td>16200</td><td>63,154,80  </td><td>185</td><td>chr1_16015_16477</td><td>ChromHMM</td><td>TxWk </td></tr>\n",
       "\t<tr><td>chr1</td><td>16015</td><td>16477</td><td>chr1</td><td>16200</td><td>17400</td><td>Quies</td><td>1</td><td>.</td><td>16200</td><td>17400</td><td>220,220,220</td><td>277</td><td>chr1_16015_16477</td><td>ChromHMM</td><td>Quies</td></tr>\n",
       "\t<tr><td>chr1</td><td>17237</td><td>17772</td><td>chr1</td><td>17400</td><td>17600</td><td>TxWk </td><td>1</td><td>.</td><td>17400</td><td>17600</td><td>63,154,80  </td><td>200</td><td>chr1_17237_17772</td><td>ChromHMM</td><td>TxWk </td></tr>\n",
       "\t<tr><td>chr1</td><td>17237</td><td>17772</td><td>chr1</td><td>16200</td><td>17400</td><td>Quies</td><td>1</td><td>.</td><td>16200</td><td>17400</td><td>220,220,220</td><td>163</td><td>chr1_17237_17772</td><td>ChromHMM</td><td>Quies</td></tr>\n",
       "</tbody>\n",
       "</table>\n"
      ],
      "text/latex": [
       "A tibble: 6 × 16\n",
       "\\begin{tabular}{llllllllllllllll}\n",
       " Chrom\\_ATAC & Start\\_ATAC & End\\_ATAC & Chrom & Start & End & Name & Score & Strand & ThickStart & ThickEnd & ItemRgb & Overlap & Peak\\_ATAC & Annotation & Label\\\\\n",
       " <chr> & <dbl> & <dbl> & <chr> & <dbl> & <dbl> & <chr> & <dbl> & <chr> & <dbl> & <dbl> & <chr> & <dbl> & <chr> & <chr> & <chr>\\\\\n",
       "\\hline\n",
       "\t chr1 & 10015 & 10442 & chr1 &     0 & 16000 & Quies & 1 & . &     0 & 16000 & 220,220,220 & 427 & chr1\\_10015\\_10442 & ChromHMM & Quies\\\\\n",
       "\t chr1 & 14253 & 14645 & chr1 &     0 & 16000 & Quies & 1 & . &     0 & 16000 & 220,220,220 & 392 & chr1\\_14253\\_14645 & ChromHMM & Quies\\\\\n",
       "\t chr1 & 16015 & 16477 & chr1 & 16000 & 16200 & TxWk  & 1 & . & 16000 & 16200 & 63,154,80   & 185 & chr1\\_16015\\_16477 & ChromHMM & TxWk \\\\\n",
       "\t chr1 & 16015 & 16477 & chr1 & 16200 & 17400 & Quies & 1 & . & 16200 & 17400 & 220,220,220 & 277 & chr1\\_16015\\_16477 & ChromHMM & Quies\\\\\n",
       "\t chr1 & 17237 & 17772 & chr1 & 17400 & 17600 & TxWk  & 1 & . & 17400 & 17600 & 63,154,80   & 200 & chr1\\_17237\\_17772 & ChromHMM & TxWk \\\\\n",
       "\t chr1 & 17237 & 17772 & chr1 & 16200 & 17400 & Quies & 1 & . & 16200 & 17400 & 220,220,220 & 163 & chr1\\_17237\\_17772 & ChromHMM & Quies\\\\\n",
       "\\end{tabular}\n"
      ],
      "text/markdown": [
       "\n",
       "A tibble: 6 × 16\n",
       "\n",
       "| Chrom_ATAC &lt;chr&gt; | Start_ATAC &lt;dbl&gt; | End_ATAC &lt;dbl&gt; | Chrom &lt;chr&gt; | Start &lt;dbl&gt; | End &lt;dbl&gt; | Name &lt;chr&gt; | Score &lt;dbl&gt; | Strand &lt;chr&gt; | ThickStart &lt;dbl&gt; | ThickEnd &lt;dbl&gt; | ItemRgb &lt;chr&gt; | Overlap &lt;dbl&gt; | Peak_ATAC &lt;chr&gt; | Annotation &lt;chr&gt; | Label &lt;chr&gt; |\n",
       "|---|---|---|---|---|---|---|---|---|---|---|---|---|---|---|---|\n",
       "| chr1 | 10015 | 10442 | chr1 |     0 | 16000 | Quies | 1 | . |     0 | 16000 | 220,220,220 | 427 | chr1_10015_10442 | ChromHMM | Quies |\n",
       "| chr1 | 14253 | 14645 | chr1 |     0 | 16000 | Quies | 1 | . |     0 | 16000 | 220,220,220 | 392 | chr1_14253_14645 | ChromHMM | Quies |\n",
       "| chr1 | 16015 | 16477 | chr1 | 16000 | 16200 | TxWk  | 1 | . | 16000 | 16200 | 63,154,80   | 185 | chr1_16015_16477 | ChromHMM | TxWk  |\n",
       "| chr1 | 16015 | 16477 | chr1 | 16200 | 17400 | Quies | 1 | . | 16200 | 17400 | 220,220,220 | 277 | chr1_16015_16477 | ChromHMM | Quies |\n",
       "| chr1 | 17237 | 17772 | chr1 | 17400 | 17600 | TxWk  | 1 | . | 17400 | 17600 | 63,154,80   | 200 | chr1_17237_17772 | ChromHMM | TxWk  |\n",
       "| chr1 | 17237 | 17772 | chr1 | 16200 | 17400 | Quies | 1 | . | 16200 | 17400 | 220,220,220 | 163 | chr1_17237_17772 | ChromHMM | Quies |\n",
       "\n"
      ],
      "text/plain": [
       "  Chrom_ATAC Start_ATAC End_ATAC Chrom Start End   Name  Score Strand\n",
       "1 chr1       10015      10442    chr1      0 16000 Quies 1     .     \n",
       "2 chr1       14253      14645    chr1      0 16000 Quies 1     .     \n",
       "3 chr1       16015      16477    chr1  16000 16200 TxWk  1     .     \n",
       "4 chr1       16015      16477    chr1  16200 17400 Quies 1     .     \n",
       "5 chr1       17237      17772    chr1  17400 17600 TxWk  1     .     \n",
       "6 chr1       17237      17772    chr1  16200 17400 Quies 1     .     \n",
       "  ThickStart ThickEnd ItemRgb     Overlap Peak_ATAC        Annotation Label\n",
       "1     0      16000    220,220,220 427     chr1_10015_10442 ChromHMM   Quies\n",
       "2     0      16000    220,220,220 392     chr1_14253_14645 ChromHMM   Quies\n",
       "3 16000      16200    63,154,80   185     chr1_16015_16477 ChromHMM   TxWk \n",
       "4 16200      17400    220,220,220 277     chr1_16015_16477 ChromHMM   Quies\n",
       "5 17400      17600    63,154,80   200     chr1_17237_17772 ChromHMM   TxWk \n",
       "6 16200      17400    220,220,220 163     chr1_17237_17772 ChromHMM   Quies"
      ]
     },
     "metadata": {},
     "output_type": "display_data"
    }
   ],
   "source": [
    "### init\n",
    "annotation = \"ChromHMM\"\n",
    "cnames = dat_cnames$Name\n",
    "cnames = c(\"Chrom_ATAC\", \"Start_ATAC\", \"End_ATAC\", cnames, \"Overlap\")\n",
    "\n",
    "###\n",
    "fdiry = file.path(\n",
    "    FD_RES, \n",
    "    \"results\", \n",
    "    \"region\", \n",
    "    \"KS91_K562_ASTARRseq_peak_macs_input\", \n",
    "    \"annotation_chromHMM\")\n",
    "fname = \"peak.annotation.ChIP_ENCSR000EWA-ENCSR000AKP-ENCSR000EWC-ENCSR000DWB-ENCSR000EWB-ENCSR000APE.bed.gz\"\n",
    "fpath = file.path(fdiry, fname)\n",
    "\n",
    "### read data\n",
    "dat = read_tsv(fpath, col_names = cnames, show_col_types = FALSE)\n",
    "dat = dat %>% dplyr::mutate(\n",
    "    Peak_ATAC  = paste(Chrom_ATAC, Start_ATAC, End_ATAC, sep=\"_\"),\n",
    "    Annotation = annotation,\n",
    "    Label      = Name\n",
    ")\n",
    "\n",
    "### assign and show\n",
    "dat_peak_annot = dat\n",
    "print(dim(dat))\n",
    "head(dat)"
   ]
  },
  {
   "cell_type": "markdown",
   "metadata": {},
   "source": [
    "## Arrange and summarize"
   ]
  },
  {
   "cell_type": "code",
   "execution_count": 10,
   "metadata": {},
   "outputs": [
    {
     "name": "stdout",
     "output_type": "stream",
     "text": [
      "[1] 343446      4\n"
     ]
    },
    {
     "data": {
      "text/html": [
       "<table class=\"dataframe\">\n",
       "<caption>A tibble: 6 × 4</caption>\n",
       "<thead>\n",
       "\t<tr><th scope=col>Peak</th><th scope=col>Annotation</th><th scope=col>Label</th><th scope=col>Count</th></tr>\n",
       "\t<tr><th scope=col>&lt;chr&gt;</th><th scope=col>&lt;chr&gt;</th><th scope=col>&lt;chr&gt;</th><th scope=col>&lt;int&gt;</th></tr>\n",
       "</thead>\n",
       "<tbody>\n",
       "\t<tr><td>chr10_100009096_100010466</td><td>ChromHMM</td><td>TssFlnk </td><td>3</td></tr>\n",
       "\t<tr><td>chr10_100009096_100010466</td><td>ChromHMM</td><td>TssFlnkD</td><td>2</td></tr>\n",
       "\t<tr><td>chr10_100020710_100021134</td><td>ChromHMM</td><td>Biv     </td><td>1</td></tr>\n",
       "\t<tr><td>chr10_100020710_100021134</td><td>ChromHMM</td><td>ReprPC  </td><td>1</td></tr>\n",
       "\t<tr><td>chr10_1000372_1000820    </td><td>ChromHMM</td><td>Tx      </td><td>1</td></tr>\n",
       "\t<tr><td>chr10_100045961_100046653</td><td>ChromHMM</td><td>Quies   </td><td>1</td></tr>\n",
       "</tbody>\n",
       "</table>\n"
      ],
      "text/latex": [
       "A tibble: 6 × 4\n",
       "\\begin{tabular}{llll}\n",
       " Peak & Annotation & Label & Count\\\\\n",
       " <chr> & <chr> & <chr> & <int>\\\\\n",
       "\\hline\n",
       "\t chr10\\_100009096\\_100010466 & ChromHMM & TssFlnk  & 3\\\\\n",
       "\t chr10\\_100009096\\_100010466 & ChromHMM & TssFlnkD & 2\\\\\n",
       "\t chr10\\_100020710\\_100021134 & ChromHMM & Biv      & 1\\\\\n",
       "\t chr10\\_100020710\\_100021134 & ChromHMM & ReprPC   & 1\\\\\n",
       "\t chr10\\_1000372\\_1000820     & ChromHMM & Tx       & 1\\\\\n",
       "\t chr10\\_100045961\\_100046653 & ChromHMM & Quies    & 1\\\\\n",
       "\\end{tabular}\n"
      ],
      "text/markdown": [
       "\n",
       "A tibble: 6 × 4\n",
       "\n",
       "| Peak &lt;chr&gt; | Annotation &lt;chr&gt; | Label &lt;chr&gt; | Count &lt;int&gt; |\n",
       "|---|---|---|---|\n",
       "| chr10_100009096_100010466 | ChromHMM | TssFlnk  | 3 |\n",
       "| chr10_100009096_100010466 | ChromHMM | TssFlnkD | 2 |\n",
       "| chr10_100020710_100021134 | ChromHMM | Biv      | 1 |\n",
       "| chr10_100020710_100021134 | ChromHMM | ReprPC   | 1 |\n",
       "| chr10_1000372_1000820     | ChromHMM | Tx       | 1 |\n",
       "| chr10_100045961_100046653 | ChromHMM | Quies    | 1 |\n",
       "\n"
      ],
      "text/plain": [
       "  Peak                      Annotation Label    Count\n",
       "1 chr10_100009096_100010466 ChromHMM   TssFlnk  3    \n",
       "2 chr10_100009096_100010466 ChromHMM   TssFlnkD 2    \n",
       "3 chr10_100020710_100021134 ChromHMM   Biv      1    \n",
       "4 chr10_100020710_100021134 ChromHMM   ReprPC   1    \n",
       "5 chr10_1000372_1000820     ChromHMM   Tx       1    \n",
       "6 chr10_100045961_100046653 ChromHMM   Quies    1    "
      ]
     },
     "metadata": {},
     "output_type": "display_data"
    }
   ],
   "source": [
    "dat = dat_peak_annot\n",
    "dat = dat %>% \n",
    "    dplyr::group_by(Peak_ATAC, Annotation, Label) %>%\n",
    "    dplyr::summarise(Count = n(), .groups = \"drop\")\n",
    "\n",
    "dat = dat %>% dplyr::rename(\"Peak\" = \"Peak_ATAC\")\n",
    "\n",
    "### assign and show\n",
    "dat_peak_annot_count = dat\n",
    "print(dim(dat))\n",
    "head(dat)"
   ]
  },
  {
   "cell_type": "code",
   "execution_count": 11,
   "metadata": {},
   "outputs": [
    {
     "data": {
      "text/plain": [
       "\n",
       "     1      2      3      4      5      6 \n",
       "313666  27329   2193    231     21      6 "
      ]
     },
     "metadata": {},
     "output_type": "display_data"
    }
   ],
   "source": [
    "dat = dat_peak_annot_count\n",
    "table(dat$Count)"
   ]
  },
  {
   "cell_type": "markdown",
   "metadata": {},
   "source": [
    "## Save results"
   ]
  },
  {
   "cell_type": "code",
   "execution_count": 12,
   "metadata": {},
   "outputs": [],
   "source": [
    "fdiry = file.path(FD_RES, \"results\", \"region\", \"KS91_K562_ASTARRseq_peak_macs_input\", \"summary\")\n",
    "fname = \"peak.summary.chromHMM.tsv\"\n",
    "fpath = file.path(fdiry, fname)\n",
    "\n",
    "dat = dat_peak_annot_count\n",
    "write_tsv(dat, fpath)"
   ]
  },
  {
   "cell_type": "code",
   "execution_count": null,
   "metadata": {},
   "outputs": [],
   "source": []
  }
 ],
 "metadata": {
  "kernelspec": {
   "display_name": "R (alex_py3)",
   "language": "R",
   "name": "ir_alex_py3"
  },
  "language_info": {
   "codemirror_mode": "r",
   "file_extension": ".r",
   "mimetype": "text/x-r-source",
   "name": "R",
   "pygments_lexer": "r",
   "version": "3.6.2"
  }
 },
 "nbformat": 4,
 "nbformat_minor": 4
}
