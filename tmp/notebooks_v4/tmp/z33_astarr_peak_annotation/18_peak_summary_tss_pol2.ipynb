{
 "cells": [
  {
   "cell_type": "markdown",
   "metadata": {},
   "source": [
    "**Set environment**"
   ]
  },
  {
   "cell_type": "code",
   "execution_count": 1,
   "metadata": {},
   "outputs": [
    {
     "name": "stdout",
     "output_type": "stream",
     "text": [
      "You are in Singularity: singularity_proj_encode_fcc \n",
      "BASE DIRECTORY (FD_BASE): /data/reddylab/Kuei \n",
      "WORK DIRECTORY (FD_WORK): /data/reddylab/Kuei/out \n",
      "CODE DIRECTORY (FD_CODE): /data/reddylab/Kuei/code \n",
      "PATH OF PROJECT (FD_PRJ): /data/reddylab/Kuei/code/Proj_CombEffect_ENCODE_FCC \n",
      "PATH OF RESULTS (FD_RES): /data/reddylab/Kuei/out/proj_combeffect_encode_fcc \n",
      "PATH OF LOG     (FD_LOG): /data/reddylab/Kuei/out/proj_combeffect_encode_fcc/log \n"
     ]
    }
   ],
   "source": [
    "suppressMessages(suppressWarnings(source(\"../config/config_sing.R\")))\n",
    "show_env()"
   ]
  },
  {
   "cell_type": "markdown",
   "metadata": {},
   "source": [
    "**Check data**"
   ]
  },
  {
   "cell_type": "code",
   "execution_count": 2,
   "metadata": {},
   "outputs": [
    {
     "data": {
      "text/html": [
       "'peak.annotation.K562.TSS.selected_by_highest_Pol2_signal.bed.gz'"
      ],
      "text/latex": [
       "'peak.annotation.K562.TSS.selected\\_by\\_highest\\_Pol2\\_signal.bed.gz'"
      ],
      "text/markdown": [
       "'peak.annotation.K562.TSS.selected_by_highest_Pol2_signal.bed.gz'"
      ],
      "text/plain": [
       "[1] \"peak.annotation.K562.TSS.selected_by_highest_Pol2_signal.bed.gz\""
      ]
     },
     "metadata": {},
     "output_type": "display_data"
    }
   ],
   "source": [
    "fdiry = file.path(\n",
    "    FD_RES, \n",
    "    \"results\", \n",
    "    \"region\", \n",
    "    \"KS91_K562_ASTARRseq_peak_macs_input\", \n",
    "    \"annotation_tss_pol2\")\n",
    "dir(fdiry)"
   ]
  },
  {
   "cell_type": "code",
   "execution_count": 4,
   "metadata": {},
   "outputs": [
    {
     "data": {
      "text/html": [
       "<style>\n",
       ".list-inline {list-style: none; margin:0; padding: 0}\n",
       ".list-inline>li {display: inline-block}\n",
       ".list-inline>li:not(:last-child)::after {content: \"\\00b7\"; padding: 0 .5ex}\n",
       "</style>\n",
       "<ol class=list-inline><li>'description.tsv'</li><li>'K562.TSS.selected_by_highest_Pol2_signal.bed'</li></ol>\n"
      ],
      "text/latex": [
       "\\begin{enumerate*}\n",
       "\\item 'description.tsv'\n",
       "\\item 'K562.TSS.selected\\_by\\_highest\\_Pol2\\_signal.bed'\n",
       "\\end{enumerate*}\n"
      ],
      "text/markdown": [
       "1. 'description.tsv'\n",
       "2. 'K562.TSS.selected_by_highest_Pol2_signal.bed'\n",
       "\n",
       "\n"
      ],
      "text/plain": [
       "[1] \"description.tsv\"                             \n",
       "[2] \"K562.TSS.selected_by_highest_Pol2_signal.bed\""
      ]
     },
     "metadata": {},
     "output_type": "display_data"
    }
   ],
   "source": [
    "fdiry = file.path(\n",
    "    FD_RES, \n",
    "    \"results\", \n",
    "    \"region\", \n",
    "    \"annotation_tss_pol2\")\n",
    "dir(fdiry)"
   ]
  },
  {
   "cell_type": "markdown",
   "metadata": {},
   "source": [
    "## Import data"
   ]
  },
  {
   "cell_type": "code",
   "execution_count": 3,
   "metadata": {},
   "outputs": [
    {
     "name": "stderr",
     "output_type": "stream",
     "text": [
      "\u001b[1mRows: \u001b[22m\u001b[34m5\u001b[39m \u001b[1mColumns: \u001b[22m\u001b[34m2\u001b[39m\n",
      "\u001b[36m──\u001b[39m \u001b[1mColumn specification\u001b[22m \u001b[36m─────────────────────────────────────────────────────────────────────\u001b[39m\n",
      "\u001b[1mDelimiter:\u001b[22m \"\\t\"\n",
      "\u001b[31mchr\u001b[39m (2): Name, Description\n",
      "\n",
      "\u001b[36mℹ\u001b[39m Use `spec()` to retrieve the full column specification for this data.\n",
      "\u001b[36mℹ\u001b[39m Specify the column types or set `show_col_types = FALSE` to quiet this message.\n"
     ]
    },
    {
     "name": "stdout",
     "output_type": "stream",
     "text": [
      "[1] 5 2\n"
     ]
    },
    {
     "data": {
      "text/html": [
       "<table class=\"dataframe\">\n",
       "<caption>A spec_tbl_df: 5 × 2</caption>\n",
       "<thead>\n",
       "\t<tr><th scope=col>Name</th><th scope=col>Description</th></tr>\n",
       "\t<tr><th scope=col>&lt;chr&gt;</th><th scope=col>&lt;chr&gt;</th></tr>\n",
       "</thead>\n",
       "<tbody>\n",
       "\t<tr><td>Chrom</td><td>Chromosome                                                                                 </td></tr>\n",
       "\t<tr><td>Start</td><td>TSS position                                                                               </td></tr>\n",
       "\t<tr><td>End  </td><td>TSS position                                                                               </td></tr>\n",
       "\t<tr><td>Name </td><td>Gene name                                                                                  </td></tr>\n",
       "\t<tr><td>Score</td><td>highest level of pol2 chip seq (ENCFF914WIS.bigWig) at [TSS-500, TSS+500] among TSS isoform</td></tr>\n",
       "</tbody>\n",
       "</table>\n"
      ],
      "text/latex": [
       "A spec\\_tbl\\_df: 5 × 2\n",
       "\\begin{tabular}{ll}\n",
       " Name & Description\\\\\n",
       " <chr> & <chr>\\\\\n",
       "\\hline\n",
       "\t Chrom & Chromosome                                                                                 \\\\\n",
       "\t Start & TSS position                                                                               \\\\\n",
       "\t End   & TSS position                                                                               \\\\\n",
       "\t Name  & Gene name                                                                                  \\\\\n",
       "\t Score & highest level of pol2 chip seq (ENCFF914WIS.bigWig) at {[}TSS-500, TSS+500{]} among TSS isoform\\\\\n",
       "\\end{tabular}\n"
      ],
      "text/markdown": [
       "\n",
       "A spec_tbl_df: 5 × 2\n",
       "\n",
       "| Name &lt;chr&gt; | Description &lt;chr&gt; |\n",
       "|---|---|\n",
       "| Chrom | Chromosome                                                                                  |\n",
       "| Start | TSS position                                                                                |\n",
       "| End   | TSS position                                                                                |\n",
       "| Name  | Gene name                                                                                   |\n",
       "| Score | highest level of pol2 chip seq (ENCFF914WIS.bigWig) at [TSS-500, TSS+500] among TSS isoform |\n",
       "\n"
      ],
      "text/plain": [
       "  Name \n",
       "1 Chrom\n",
       "2 Start\n",
       "3 End  \n",
       "4 Name \n",
       "5 Score\n",
       "  Description                                                                                \n",
       "1 Chromosome                                                                                 \n",
       "2 TSS position                                                                               \n",
       "3 TSS position                                                                               \n",
       "4 Gene name                                                                                  \n",
       "5 highest level of pol2 chip seq (ENCFF914WIS.bigWig) at [TSS-500, TSS+500] among TSS isoform"
      ]
     },
     "metadata": {},
     "output_type": "display_data"
    }
   ],
   "source": [
    "fdiry = file.path(\n",
    "    FD_RES, \n",
    "    \"results\", \n",
    "    \"region\", \n",
    "    \"annotation_tss_pol2\")\n",
    "fname = \"description.tsv\"\n",
    "fpath = file.path(fdiry, fname)\n",
    "\n",
    "dat = read_tsv(fpath)\n",
    "\n",
    "dat_cnames = dat\n",
    "print(dim(dat))\n",
    "dat"
   ]
  },
  {
   "cell_type": "code",
   "execution_count": 8,
   "metadata": {},
   "outputs": [
    {
     "name": "stdout",
     "output_type": "stream",
     "text": [
      "[1] 17751    12\n"
     ]
    },
    {
     "data": {
      "text/html": [
       "<table class=\"dataframe\">\n",
       "<caption>A tibble: 6 × 12</caption>\n",
       "<thead>\n",
       "\t<tr><th scope=col>Chrom_ATAC</th><th scope=col>Start_ATAC</th><th scope=col>End_ATAC</th><th scope=col>Chrom</th><th scope=col>Start</th><th scope=col>End</th><th scope=col>Name</th><th scope=col>Score</th><th scope=col>Overlap</th><th scope=col>Peak_ATAC</th><th scope=col>Annotation</th><th scope=col>Label</th></tr>\n",
       "\t<tr><th scope=col>&lt;chr&gt;</th><th scope=col>&lt;dbl&gt;</th><th scope=col>&lt;dbl&gt;</th><th scope=col>&lt;chr&gt;</th><th scope=col>&lt;dbl&gt;</th><th scope=col>&lt;dbl&gt;</th><th scope=col>&lt;chr&gt;</th><th scope=col>&lt;dbl&gt;</th><th scope=col>&lt;dbl&gt;</th><th scope=col>&lt;chr&gt;</th><th scope=col>&lt;chr&gt;</th><th scope=col>&lt;chr&gt;</th></tr>\n",
       "</thead>\n",
       "<tbody>\n",
       "\t<tr><td>chr1</td><td> 17237</td><td> 17772</td><td>chr1</td><td> 17436</td><td> 17437</td><td>MIR6859-1   </td><td>  9.43812</td><td>1</td><td>chr1_17237_17772  </td><td>TSS_POL2</td><td>TSS</td></tr>\n",
       "\t<tr><td>chr1</td><td> 17237</td><td> 17772</td><td>chr1</td><td> 17436</td><td> 17437</td><td>MIR6859-2   </td><td>  9.43812</td><td>1</td><td>chr1_17237_17772  </td><td>TSS_POL2</td><td>TSS</td></tr>\n",
       "\t<tr><td>chr1</td><td> 17237</td><td> 17772</td><td>chr1</td><td> 17436</td><td> 17437</td><td>MIR6859-3   </td><td>  9.43812</td><td>1</td><td>chr1_17237_17772  </td><td>TSS_POL2</td><td>TSS</td></tr>\n",
       "\t<tr><td>chr1</td><td> 17237</td><td> 17772</td><td>chr1</td><td> 17436</td><td> 17437</td><td>MIR6859-4   </td><td>  9.43812</td><td>1</td><td>chr1_17237_17772  </td><td>TSS_POL2</td><td>TSS</td></tr>\n",
       "\t<tr><td>chr1</td><td> 28903</td><td> 29613</td><td>chr1</td><td> 29370</td><td> 29371</td><td>WASH7P      </td><td>  0.00023</td><td>1</td><td>chr1_28903_29613  </td><td>TSS_POL2</td><td>TSS</td></tr>\n",
       "\t<tr><td>chr1</td><td>777949</td><td>779437</td><td>chr1</td><td>778634</td><td>778635</td><td>LOC100288069</td><td>230.56100</td><td>1</td><td>chr1_777949_779437</td><td>TSS_POL2</td><td>TSS</td></tr>\n",
       "</tbody>\n",
       "</table>\n"
      ],
      "text/latex": [
       "A tibble: 6 × 12\n",
       "\\begin{tabular}{llllllllllll}\n",
       " Chrom\\_ATAC & Start\\_ATAC & End\\_ATAC & Chrom & Start & End & Name & Score & Overlap & Peak\\_ATAC & Annotation & Label\\\\\n",
       " <chr> & <dbl> & <dbl> & <chr> & <dbl> & <dbl> & <chr> & <dbl> & <dbl> & <chr> & <chr> & <chr>\\\\\n",
       "\\hline\n",
       "\t chr1 &  17237 &  17772 & chr1 &  17436 &  17437 & MIR6859-1    &   9.43812 & 1 & chr1\\_17237\\_17772   & TSS\\_POL2 & TSS\\\\\n",
       "\t chr1 &  17237 &  17772 & chr1 &  17436 &  17437 & MIR6859-2    &   9.43812 & 1 & chr1\\_17237\\_17772   & TSS\\_POL2 & TSS\\\\\n",
       "\t chr1 &  17237 &  17772 & chr1 &  17436 &  17437 & MIR6859-3    &   9.43812 & 1 & chr1\\_17237\\_17772   & TSS\\_POL2 & TSS\\\\\n",
       "\t chr1 &  17237 &  17772 & chr1 &  17436 &  17437 & MIR6859-4    &   9.43812 & 1 & chr1\\_17237\\_17772   & TSS\\_POL2 & TSS\\\\\n",
       "\t chr1 &  28903 &  29613 & chr1 &  29370 &  29371 & WASH7P       &   0.00023 & 1 & chr1\\_28903\\_29613   & TSS\\_POL2 & TSS\\\\\n",
       "\t chr1 & 777949 & 779437 & chr1 & 778634 & 778635 & LOC100288069 & 230.56100 & 1 & chr1\\_777949\\_779437 & TSS\\_POL2 & TSS\\\\\n",
       "\\end{tabular}\n"
      ],
      "text/markdown": [
       "\n",
       "A tibble: 6 × 12\n",
       "\n",
       "| Chrom_ATAC &lt;chr&gt; | Start_ATAC &lt;dbl&gt; | End_ATAC &lt;dbl&gt; | Chrom &lt;chr&gt; | Start &lt;dbl&gt; | End &lt;dbl&gt; | Name &lt;chr&gt; | Score &lt;dbl&gt; | Overlap &lt;dbl&gt; | Peak_ATAC &lt;chr&gt; | Annotation &lt;chr&gt; | Label &lt;chr&gt; |\n",
       "|---|---|---|---|---|---|---|---|---|---|---|---|\n",
       "| chr1 |  17237 |  17772 | chr1 |  17436 |  17437 | MIR6859-1    |   9.43812 | 1 | chr1_17237_17772   | TSS_POL2 | TSS |\n",
       "| chr1 |  17237 |  17772 | chr1 |  17436 |  17437 | MIR6859-2    |   9.43812 | 1 | chr1_17237_17772   | TSS_POL2 | TSS |\n",
       "| chr1 |  17237 |  17772 | chr1 |  17436 |  17437 | MIR6859-3    |   9.43812 | 1 | chr1_17237_17772   | TSS_POL2 | TSS |\n",
       "| chr1 |  17237 |  17772 | chr1 |  17436 |  17437 | MIR6859-4    |   9.43812 | 1 | chr1_17237_17772   | TSS_POL2 | TSS |\n",
       "| chr1 |  28903 |  29613 | chr1 |  29370 |  29371 | WASH7P       |   0.00023 | 1 | chr1_28903_29613   | TSS_POL2 | TSS |\n",
       "| chr1 | 777949 | 779437 | chr1 | 778634 | 778635 | LOC100288069 | 230.56100 | 1 | chr1_777949_779437 | TSS_POL2 | TSS |\n",
       "\n"
      ],
      "text/plain": [
       "  Chrom_ATAC Start_ATAC End_ATAC Chrom Start  End    Name         Score    \n",
       "1 chr1        17237      17772   chr1   17436  17437 MIR6859-1      9.43812\n",
       "2 chr1        17237      17772   chr1   17436  17437 MIR6859-2      9.43812\n",
       "3 chr1        17237      17772   chr1   17436  17437 MIR6859-3      9.43812\n",
       "4 chr1        17237      17772   chr1   17436  17437 MIR6859-4      9.43812\n",
       "5 chr1        28903      29613   chr1   29370  29371 WASH7P         0.00023\n",
       "6 chr1       777949     779437   chr1  778634 778635 LOC100288069 230.56100\n",
       "  Overlap Peak_ATAC          Annotation Label\n",
       "1 1       chr1_17237_17772   TSS_POL2   TSS  \n",
       "2 1       chr1_17237_17772   TSS_POL2   TSS  \n",
       "3 1       chr1_17237_17772   TSS_POL2   TSS  \n",
       "4 1       chr1_17237_17772   TSS_POL2   TSS  \n",
       "5 1       chr1_28903_29613   TSS_POL2   TSS  \n",
       "6 1       chr1_777949_779437 TSS_POL2   TSS  "
      ]
     },
     "metadata": {},
     "output_type": "display_data"
    }
   ],
   "source": [
    "### init\n",
    "annotation = \"TSS_POL2\"\n",
    "label      = \"TSS\"\n",
    "cnames = dat_cnames$Name\n",
    "cnames = c(\"Chrom_ATAC\", \"Start_ATAC\", \"End_ATAC\", cnames, \"Overlap\")\n",
    "\n",
    "###\n",
    "fdiry = file.path(\n",
    "    FD_RES, \n",
    "    \"results\", \n",
    "    \"region\", \n",
    "    \"KS91_K562_ASTARRseq_peak_macs_input\", \n",
    "    \"annotation_tss_pol2\")\n",
    "fname = \"peak.annotation.K562.TSS.selected_by_highest_Pol2_signal.bed.gz\"\n",
    "fpath = file.path(fdiry, fname)\n",
    "\n",
    "### read data\n",
    "dat = read_tsv(fpath, col_names = cnames, show_col_types = FALSE)\n",
    "dat = dat %>% dplyr::mutate(\n",
    "    Peak_ATAC  = paste(Chrom_ATAC, Start_ATAC, End_ATAC, sep=\"_\"),\n",
    "    Annotation = annotation,\n",
    "    Label      = label\n",
    ")\n",
    "\n",
    "### assign and show\n",
    "dat_peak_annot = dat\n",
    "print(dim(dat))\n",
    "head(dat)"
   ]
  },
  {
   "cell_type": "markdown",
   "metadata": {},
   "source": [
    "## Arrange and summarize"
   ]
  },
  {
   "cell_type": "code",
   "execution_count": 15,
   "metadata": {},
   "outputs": [
    {
     "name": "stdout",
     "output_type": "stream",
     "text": [
      "[1] 15191     4\n"
     ]
    },
    {
     "data": {
      "text/html": [
       "<table class=\"dataframe\">\n",
       "<caption>A tibble: 6 × 4</caption>\n",
       "<thead>\n",
       "\t<tr><th scope=col>Peak</th><th scope=col>Annotation</th><th scope=col>Label</th><th scope=col>Count</th></tr>\n",
       "\t<tr><th scope=col>&lt;chr&gt;</th><th scope=col>&lt;chr&gt;</th><th scope=col>&lt;chr&gt;</th><th scope=col>&lt;int&gt;</th></tr>\n",
       "</thead>\n",
       "<tbody>\n",
       "\t<tr><td>chr10_100009096_100010466</td><td>TSS_POL2</td><td>TSS</td><td>1</td></tr>\n",
       "\t<tr><td>chr10_100185017_100187275</td><td>TSS_POL2</td><td>TSS</td><td>1</td></tr>\n",
       "\t<tr><td>chr10_100228452_100230090</td><td>TSS_POL2</td><td>TSS</td><td>1</td></tr>\n",
       "\t<tr><td>chr10_100267066_100268374</td><td>TSS_POL2</td><td>TSS</td><td>1</td></tr>\n",
       "\t<tr><td>chr10_100285974_100287341</td><td>TSS_POL2</td><td>TSS</td><td>1</td></tr>\n",
       "\t<tr><td>chr10_100346328_100347693</td><td>TSS_POL2</td><td>TSS</td><td>1</td></tr>\n",
       "</tbody>\n",
       "</table>\n"
      ],
      "text/latex": [
       "A tibble: 6 × 4\n",
       "\\begin{tabular}{llll}\n",
       " Peak & Annotation & Label & Count\\\\\n",
       " <chr> & <chr> & <chr> & <int>\\\\\n",
       "\\hline\n",
       "\t chr10\\_100009096\\_100010466 & TSS\\_POL2 & TSS & 1\\\\\n",
       "\t chr10\\_100185017\\_100187275 & TSS\\_POL2 & TSS & 1\\\\\n",
       "\t chr10\\_100228452\\_100230090 & TSS\\_POL2 & TSS & 1\\\\\n",
       "\t chr10\\_100267066\\_100268374 & TSS\\_POL2 & TSS & 1\\\\\n",
       "\t chr10\\_100285974\\_100287341 & TSS\\_POL2 & TSS & 1\\\\\n",
       "\t chr10\\_100346328\\_100347693 & TSS\\_POL2 & TSS & 1\\\\\n",
       "\\end{tabular}\n"
      ],
      "text/markdown": [
       "\n",
       "A tibble: 6 × 4\n",
       "\n",
       "| Peak &lt;chr&gt; | Annotation &lt;chr&gt; | Label &lt;chr&gt; | Count &lt;int&gt; |\n",
       "|---|---|---|---|\n",
       "| chr10_100009096_100010466 | TSS_POL2 | TSS | 1 |\n",
       "| chr10_100185017_100187275 | TSS_POL2 | TSS | 1 |\n",
       "| chr10_100228452_100230090 | TSS_POL2 | TSS | 1 |\n",
       "| chr10_100267066_100268374 | TSS_POL2 | TSS | 1 |\n",
       "| chr10_100285974_100287341 | TSS_POL2 | TSS | 1 |\n",
       "| chr10_100346328_100347693 | TSS_POL2 | TSS | 1 |\n",
       "\n"
      ],
      "text/plain": [
       "  Peak                      Annotation Label Count\n",
       "1 chr10_100009096_100010466 TSS_POL2   TSS   1    \n",
       "2 chr10_100185017_100187275 TSS_POL2   TSS   1    \n",
       "3 chr10_100228452_100230090 TSS_POL2   TSS   1    \n",
       "4 chr10_100267066_100268374 TSS_POL2   TSS   1    \n",
       "5 chr10_100285974_100287341 TSS_POL2   TSS   1    \n",
       "6 chr10_100346328_100347693 TSS_POL2   TSS   1    "
      ]
     },
     "metadata": {},
     "output_type": "display_data"
    }
   ],
   "source": [
    "dat = dat_peak_annot\n",
    "dat = dat %>% \n",
    "    dplyr::group_by(Peak_ATAC, Annotation, Label) %>%\n",
    "    dplyr::summarise(Count = n(), .groups = \"drop\")\n",
    "\n",
    "dat = dat %>% dplyr::rename(\"Peak\" = \"Peak_ATAC\")\n",
    "\n",
    "### assign and show\n",
    "dat_peak_annot_count = dat\n",
    "print(dim(dat))\n",
    "head(dat)"
   ]
  },
  {
   "cell_type": "code",
   "execution_count": 16,
   "metadata": {},
   "outputs": [
    {
     "data": {
      "text/plain": [
       "\n",
       "    1     2     3     4     5     6    10 \n",
       "12784  2283   107    12     2     2     1 "
      ]
     },
     "metadata": {},
     "output_type": "display_data"
    }
   ],
   "source": [
    "dat = dat_peak_annot_count\n",
    "table(dat$Count)"
   ]
  },
  {
   "cell_type": "code",
   "execution_count": 19,
   "metadata": {},
   "outputs": [
    {
     "name": "stderr",
     "output_type": "stream",
     "text": [
      "Warning message:\n",
      "“\u001b[1m\u001b[22mExpected 3 pieces. Additional pieces discarded in 9 rows [2933, 7882, 7883, 7884, 8863,\n",
      "8864, 14715, 14716, 14717].”\n"
     ]
    }
   ],
   "source": [
    "dat = dat_peak_annot_count\n",
    "dat = dat %>% \n",
    "    tidyr::separate(Peak, c(\"Chrom\", \"Start\", \"End\"), sep = \"_\")"
   ]
  },
  {
   "cell_type": "code",
   "execution_count": 21,
   "metadata": {},
   "outputs": [
    {
     "data": {
      "text/html": [
       "<table class=\"dataframe\">\n",
       "<caption>A tibble: 1 × 4</caption>\n",
       "<thead>\n",
       "\t<tr><th scope=col>Peak</th><th scope=col>Annotation</th><th scope=col>Label</th><th scope=col>Count</th></tr>\n",
       "\t<tr><th scope=col>&lt;chr&gt;</th><th scope=col>&lt;chr&gt;</th><th scope=col>&lt;chr&gt;</th><th scope=col>&lt;int&gt;</th></tr>\n",
       "</thead>\n",
       "<tbody>\n",
       "\t<tr><td>chr22_KI270733v1_random_129881_130367</td><td>TSS_POL2</td><td>TSS</td><td>4</td></tr>\n",
       "</tbody>\n",
       "</table>\n"
      ],
      "text/latex": [
       "A tibble: 1 × 4\n",
       "\\begin{tabular}{llll}\n",
       " Peak & Annotation & Label & Count\\\\\n",
       " <chr> & <chr> & <chr> & <int>\\\\\n",
       "\\hline\n",
       "\t chr22\\_KI270733v1\\_random\\_129881\\_130367 & TSS\\_POL2 & TSS & 4\\\\\n",
       "\\end{tabular}\n"
      ],
      "text/markdown": [
       "\n",
       "A tibble: 1 × 4\n",
       "\n",
       "| Peak &lt;chr&gt; | Annotation &lt;chr&gt; | Label &lt;chr&gt; | Count &lt;int&gt; |\n",
       "|---|---|---|---|\n",
       "| chr22_KI270733v1_random_129881_130367 | TSS_POL2 | TSS | 4 |\n",
       "\n"
      ],
      "text/plain": [
       "  Peak                                  Annotation Label Count\n",
       "1 chr22_KI270733v1_random_129881_130367 TSS_POL2   TSS   4    "
      ]
     },
     "metadata": {},
     "output_type": "display_data"
    }
   ],
   "source": [
    "dat = dat_peak_annot_count\n",
    "dat[8864,]"
   ]
  },
  {
   "cell_type": "code",
   "execution_count": 20,
   "metadata": {},
   "outputs": [
    {
     "data": {
      "text/html": [
       "<table class=\"dataframe\">\n",
       "<caption>A tibble: 1 × 6</caption>\n",
       "<thead>\n",
       "\t<tr><th scope=col>Chrom</th><th scope=col>Start</th><th scope=col>End</th><th scope=col>Annotation</th><th scope=col>Label</th><th scope=col>Count</th></tr>\n",
       "\t<tr><th scope=col>&lt;chr&gt;</th><th scope=col>&lt;chr&gt;</th><th scope=col>&lt;chr&gt;</th><th scope=col>&lt;chr&gt;</th><th scope=col>&lt;chr&gt;</th><th scope=col>&lt;int&gt;</th></tr>\n",
       "</thead>\n",
       "<tbody>\n",
       "\t<tr><td>chr22</td><td>KI270733v1</td><td>random</td><td>TSS_POL2</td><td>TSS</td><td>4</td></tr>\n",
       "</tbody>\n",
       "</table>\n"
      ],
      "text/latex": [
       "A tibble: 1 × 6\n",
       "\\begin{tabular}{llllll}\n",
       " Chrom & Start & End & Annotation & Label & Count\\\\\n",
       " <chr> & <chr> & <chr> & <chr> & <chr> & <int>\\\\\n",
       "\\hline\n",
       "\t chr22 & KI270733v1 & random & TSS\\_POL2 & TSS & 4\\\\\n",
       "\\end{tabular}\n"
      ],
      "text/markdown": [
       "\n",
       "A tibble: 1 × 6\n",
       "\n",
       "| Chrom &lt;chr&gt; | Start &lt;chr&gt; | End &lt;chr&gt; | Annotation &lt;chr&gt; | Label &lt;chr&gt; | Count &lt;int&gt; |\n",
       "|---|---|---|---|---|---|\n",
       "| chr22 | KI270733v1 | random | TSS_POL2 | TSS | 4 |\n",
       "\n"
      ],
      "text/plain": [
       "  Chrom Start      End    Annotation Label Count\n",
       "1 chr22 KI270733v1 random TSS_POL2   TSS   4    "
      ]
     },
     "metadata": {},
     "output_type": "display_data"
    }
   ],
   "source": [
    "dat[8864,]"
   ]
  },
  {
   "cell_type": "code",
   "execution_count": 13,
   "metadata": {},
   "outputs": [
    {
     "data": {
      "text/html": [
       "-2457"
      ],
      "text/latex": [
       "-2457"
      ],
      "text/markdown": [
       "-2457"
      ],
      "text/plain": [
       "[1] -2457"
      ]
     },
     "metadata": {},
     "output_type": "display_data"
    }
   ],
   "source": [
    "50090348-50092805"
   ]
  },
  {
   "cell_type": "markdown",
   "metadata": {},
   "source": [
    "### Save results"
   ]
  },
  {
   "cell_type": "code",
   "execution_count": 22,
   "metadata": {},
   "outputs": [
    {
     "data": {
      "text/html": [
       "<table class=\"dataframe\">\n",
       "<caption>A tibble: 6 × 4</caption>\n",
       "<thead>\n",
       "\t<tr><th scope=col>Peak</th><th scope=col>Annotation</th><th scope=col>Label</th><th scope=col>Count</th></tr>\n",
       "\t<tr><th scope=col>&lt;chr&gt;</th><th scope=col>&lt;chr&gt;</th><th scope=col>&lt;chr&gt;</th><th scope=col>&lt;int&gt;</th></tr>\n",
       "</thead>\n",
       "<tbody>\n",
       "\t<tr><td>chr10_100009096_100010466</td><td>TSS_POL2</td><td>TSS</td><td>1</td></tr>\n",
       "\t<tr><td>chr10_100185017_100187275</td><td>TSS_POL2</td><td>TSS</td><td>1</td></tr>\n",
       "\t<tr><td>chr10_100228452_100230090</td><td>TSS_POL2</td><td>TSS</td><td>1</td></tr>\n",
       "\t<tr><td>chr10_100267066_100268374</td><td>TSS_POL2</td><td>TSS</td><td>1</td></tr>\n",
       "\t<tr><td>chr10_100285974_100287341</td><td>TSS_POL2</td><td>TSS</td><td>1</td></tr>\n",
       "\t<tr><td>chr10_100346328_100347693</td><td>TSS_POL2</td><td>TSS</td><td>1</td></tr>\n",
       "</tbody>\n",
       "</table>\n"
      ],
      "text/latex": [
       "A tibble: 6 × 4\n",
       "\\begin{tabular}{llll}\n",
       " Peak & Annotation & Label & Count\\\\\n",
       " <chr> & <chr> & <chr> & <int>\\\\\n",
       "\\hline\n",
       "\t chr10\\_100009096\\_100010466 & TSS\\_POL2 & TSS & 1\\\\\n",
       "\t chr10\\_100185017\\_100187275 & TSS\\_POL2 & TSS & 1\\\\\n",
       "\t chr10\\_100228452\\_100230090 & TSS\\_POL2 & TSS & 1\\\\\n",
       "\t chr10\\_100267066\\_100268374 & TSS\\_POL2 & TSS & 1\\\\\n",
       "\t chr10\\_100285974\\_100287341 & TSS\\_POL2 & TSS & 1\\\\\n",
       "\t chr10\\_100346328\\_100347693 & TSS\\_POL2 & TSS & 1\\\\\n",
       "\\end{tabular}\n"
      ],
      "text/markdown": [
       "\n",
       "A tibble: 6 × 4\n",
       "\n",
       "| Peak &lt;chr&gt; | Annotation &lt;chr&gt; | Label &lt;chr&gt; | Count &lt;int&gt; |\n",
       "|---|---|---|---|\n",
       "| chr10_100009096_100010466 | TSS_POL2 | TSS | 1 |\n",
       "| chr10_100185017_100187275 | TSS_POL2 | TSS | 1 |\n",
       "| chr10_100228452_100230090 | TSS_POL2 | TSS | 1 |\n",
       "| chr10_100267066_100268374 | TSS_POL2 | TSS | 1 |\n",
       "| chr10_100285974_100287341 | TSS_POL2 | TSS | 1 |\n",
       "| chr10_100346328_100347693 | TSS_POL2 | TSS | 1 |\n",
       "\n"
      ],
      "text/plain": [
       "  Peak                      Annotation Label Count\n",
       "1 chr10_100009096_100010466 TSS_POL2   TSS   1    \n",
       "2 chr10_100185017_100187275 TSS_POL2   TSS   1    \n",
       "3 chr10_100228452_100230090 TSS_POL2   TSS   1    \n",
       "4 chr10_100267066_100268374 TSS_POL2   TSS   1    \n",
       "5 chr10_100285974_100287341 TSS_POL2   TSS   1    \n",
       "6 chr10_100346328_100347693 TSS_POL2   TSS   1    "
      ]
     },
     "metadata": {},
     "output_type": "display_data"
    }
   ],
   "source": [
    "dat_peak_annot_count %>% head"
   ]
  },
  {
   "cell_type": "code",
   "execution_count": 23,
   "metadata": {},
   "outputs": [],
   "source": [
    "fdiry = file.path(FD_RES, \"results\", \"region\", \"KS91_K562_ASTARRseq_peak_macs_input\", \"summary\")\n",
    "fname = \"peak.summary.tss_pol2.tsv\"\n",
    "fpath = file.path(fdiry, fname)\n",
    "\n",
    "dat = dat_peak_annot_count\n",
    "write_tsv(dat, fpath)"
   ]
  },
  {
   "cell_type": "code",
   "execution_count": null,
   "metadata": {},
   "outputs": [],
   "source": []
  }
 ],
 "metadata": {
  "kernelspec": {
   "display_name": "R (alex_py3)",
   "language": "R",
   "name": "ir_alex_py3"
  },
  "language_info": {
   "codemirror_mode": "r",
   "file_extension": ".r",
   "mimetype": "text/x-r-source",
   "name": "R",
   "pygments_lexer": "r",
   "version": "3.6.2"
  }
 },
 "nbformat": 4,
 "nbformat_minor": 4
}
