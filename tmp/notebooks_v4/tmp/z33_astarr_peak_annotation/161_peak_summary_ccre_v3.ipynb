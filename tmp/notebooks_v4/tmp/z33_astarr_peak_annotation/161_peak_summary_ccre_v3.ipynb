{
 "cells": [
  {
   "cell_type": "markdown",
   "metadata": {},
   "source": [
    "**Set environment**"
   ]
  },
  {
   "cell_type": "code",
   "execution_count": 1,
   "metadata": {},
   "outputs": [
    {
     "name": "stdout",
     "output_type": "stream",
     "text": [
      "You are in Singularity: singularity_proj_encode_fcc \n",
      "BASE DIRECTORY (FD_BASE): /data/reddylab/Kuei \n",
      "WORK DIRECTORY (FD_WORK): /data/reddylab/Kuei/out \n",
      "CODE DIRECTORY (FD_CODE): /data/reddylab/Kuei/code \n",
      "PATH OF PROJECT (FD_PRJ): /data/reddylab/Kuei/code/Proj_CombEffect_ENCODE_FCC \n",
      "PATH OF RESULTS (FD_RES): /data/reddylab/Kuei/out/proj_combeffect_encode_fcc \n",
      "PATH OF LOG     (FD_LOG): /data/reddylab/Kuei/out/proj_combeffect_encode_fcc/log \n"
     ]
    }
   ],
   "source": [
    "suppressMessages(suppressWarnings(source(\"../config/config_sing.R\")))\n",
    "show_env()"
   ]
  },
  {
   "cell_type": "markdown",
   "metadata": {},
   "source": [
    "**Check data**"
   ]
  },
  {
   "cell_type": "code",
   "execution_count": 2,
   "metadata": {},
   "outputs": [
    {
     "data": {
      "text/html": [
       "<style>\n",
       ".list-inline {list-style: none; margin:0; padding: 0}\n",
       ".list-inline>li {display: inline-block}\n",
       ".list-inline>li:not(:last-child)::after {content: \"\\00b7\"; padding: 0 .5ex}\n",
       "</style>\n",
       "<ol class=list-inline><li>'peak.annotation.ccre_v3.bed.gz'</li><li>'peak.annotation.ccre_v4.bed.gz'</li></ol>\n"
      ],
      "text/latex": [
       "\\begin{enumerate*}\n",
       "\\item 'peak.annotation.ccre\\_v3.bed.gz'\n",
       "\\item 'peak.annotation.ccre\\_v4.bed.gz'\n",
       "\\end{enumerate*}\n"
      ],
      "text/markdown": [
       "1. 'peak.annotation.ccre_v3.bed.gz'\n",
       "2. 'peak.annotation.ccre_v4.bed.gz'\n",
       "\n",
       "\n"
      ],
      "text/plain": [
       "[1] \"peak.annotation.ccre_v3.bed.gz\" \"peak.annotation.ccre_v4.bed.gz\""
      ]
     },
     "metadata": {},
     "output_type": "display_data"
    }
   ],
   "source": [
    "fdiry = file.path(\n",
    "    FD_RES, \n",
    "    \"results\", \n",
    "    \"region\", \n",
    "    \"KS91_K562_ASTARRseq_peak_macs_input\", \n",
    "    \"annotation_ccre\")\n",
    "fnames = dir(fdiry)\n",
    "fnames"
   ]
  },
  {
   "cell_type": "code",
   "execution_count": 3,
   "metadata": {},
   "outputs": [
    {
     "data": {
      "text/html": [
       "'description.tsv'"
      ],
      "text/latex": [
       "'description.tsv'"
      ],
      "text/markdown": [
       "'description.tsv'"
      ],
      "text/plain": [
       "[1] \"description.tsv\""
      ]
     },
     "metadata": {},
     "output_type": "display_data"
    }
   ],
   "source": [
    "fdiry = file.path(\n",
    "    FD_RES, \n",
    "    \"results\", \n",
    "    \"region\", \n",
    "    \"annotation_ccre\")\n",
    "fnames = dir(fdiry)\n",
    "fnames"
   ]
  },
  {
   "cell_type": "markdown",
   "metadata": {},
   "source": [
    "## Import data"
   ]
  },
  {
   "cell_type": "code",
   "execution_count": 4,
   "metadata": {},
   "outputs": [
    {
     "name": "stderr",
     "output_type": "stream",
     "text": [
      "\u001b[1mRows: \u001b[22m\u001b[34m11\u001b[39m \u001b[1mColumns: \u001b[22m\u001b[34m2\u001b[39m\n",
      "\u001b[36m──\u001b[39m \u001b[1mColumn specification\u001b[22m \u001b[36m─────────────────────────────────────────────────────────────────────\u001b[39m\n",
      "\u001b[1mDelimiter:\u001b[22m \"\\t\"\n",
      "\u001b[31mchr\u001b[39m (2): Name, Description\n",
      "\n",
      "\u001b[36mℹ\u001b[39m Use `spec()` to retrieve the full column specification for this data.\n",
      "\u001b[36mℹ\u001b[39m Specify the column types or set `show_col_types = FALSE` to quiet this message.\n"
     ]
    },
    {
     "name": "stdout",
     "output_type": "stream",
     "text": [
      "[1] 11  2\n"
     ]
    },
    {
     "data": {
      "text/html": [
       "<table class=\"dataframe\">\n",
       "<caption>A spec_tbl_df: 11 × 2</caption>\n",
       "<thead>\n",
       "\t<tr><th scope=col>Name</th><th scope=col>Description</th></tr>\n",
       "\t<tr><th scope=col>&lt;chr&gt;</th><th scope=col>&lt;chr&gt;</th></tr>\n",
       "</thead>\n",
       "<tbody>\n",
       "\t<tr><td>Chrom     </td><td>Chromosome                                                 </td></tr>\n",
       "\t<tr><td>Start     </td><td>Start position                                             </td></tr>\n",
       "\t<tr><td>End       </td><td>End position                                               </td></tr>\n",
       "\t<tr><td>Name      </td><td>Name                                                       </td></tr>\n",
       "\t<tr><td>Score     </td><td>Score                                                      </td></tr>\n",
       "\t<tr><td>Strand    </td><td>[+-.]; Use '.' if no strand is assigned.                   </td></tr>\n",
       "\t<tr><td>ThickStart</td><td>The starting position at which the feature is drawn thickly</td></tr>\n",
       "\t<tr><td>ThickEnd  </td><td>The ending position at which the feature is drawn thickly  </td></tr>\n",
       "\t<tr><td>ItemRgb   </td><td>An RGB value of the form R,G,B (e.g. 255,0,0)              </td></tr>\n",
       "\t<tr><td>Category  </td><td>Label of cCREs type                                        </td></tr>\n",
       "\t<tr><td>Note      </td><td>Description                                                </td></tr>\n",
       "</tbody>\n",
       "</table>\n"
      ],
      "text/latex": [
       "A spec\\_tbl\\_df: 11 × 2\n",
       "\\begin{tabular}{ll}\n",
       " Name & Description\\\\\n",
       " <chr> & <chr>\\\\\n",
       "\\hline\n",
       "\t Chrom      & Chromosome                                                 \\\\\n",
       "\t Start      & Start position                                             \\\\\n",
       "\t End        & End position                                               \\\\\n",
       "\t Name       & Name                                                       \\\\\n",
       "\t Score      & Score                                                      \\\\\n",
       "\t Strand     & {[}+-.{]}; Use '.' if no strand is assigned.                   \\\\\n",
       "\t ThickStart & The starting position at which the feature is drawn thickly\\\\\n",
       "\t ThickEnd   & The ending position at which the feature is drawn thickly  \\\\\n",
       "\t ItemRgb    & An RGB value of the form R,G,B (e.g. 255,0,0)              \\\\\n",
       "\t Category   & Label of cCREs type                                        \\\\\n",
       "\t Note       & Description                                                \\\\\n",
       "\\end{tabular}\n"
      ],
      "text/markdown": [
       "\n",
       "A spec_tbl_df: 11 × 2\n",
       "\n",
       "| Name &lt;chr&gt; | Description &lt;chr&gt; |\n",
       "|---|---|\n",
       "| Chrom      | Chromosome                                                  |\n",
       "| Start      | Start position                                              |\n",
       "| End        | End position                                                |\n",
       "| Name       | Name                                                        |\n",
       "| Score      | Score                                                       |\n",
       "| Strand     | [+-.]; Use '.' if no strand is assigned.                    |\n",
       "| ThickStart | The starting position at which the feature is drawn thickly |\n",
       "| ThickEnd   | The ending position at which the feature is drawn thickly   |\n",
       "| ItemRgb    | An RGB value of the form R,G,B (e.g. 255,0,0)               |\n",
       "| Category   | Label of cCREs type                                         |\n",
       "| Note       | Description                                                 |\n",
       "\n"
      ],
      "text/plain": [
       "   Name       Description                                                \n",
       "1  Chrom      Chromosome                                                 \n",
       "2  Start      Start position                                             \n",
       "3  End        End position                                               \n",
       "4  Name       Name                                                       \n",
       "5  Score      Score                                                      \n",
       "6  Strand     [+-.]; Use '.' if no strand is assigned.                   \n",
       "7  ThickStart The starting position at which the feature is drawn thickly\n",
       "8  ThickEnd   The ending position at which the feature is drawn thickly  \n",
       "9  ItemRgb    An RGB value of the form R,G,B (e.g. 255,0,0)              \n",
       "10 Category   Label of cCREs type                                        \n",
       "11 Note       Description                                                "
      ]
     },
     "metadata": {},
     "output_type": "display_data"
    }
   ],
   "source": [
    "fdiry = file.path(\n",
    "    FD_RES, \n",
    "    \"results\", \n",
    "    \"region\", \n",
    "    \"annotation_ccre\")\n",
    "fname = \"description.tsv\"\n",
    "fpath = file.path(fdiry, fname)\n",
    "\n",
    "dat = read_tsv(fpath)\n",
    "\n",
    "dat_cnames = dat\n",
    "print(dim(dat))\n",
    "dat"
   ]
  },
  {
   "cell_type": "code",
   "execution_count": 6,
   "metadata": {},
   "outputs": [
    {
     "name": "stdout",
     "output_type": "stream",
     "text": [
      "[1] 264958     18\n"
     ]
    },
    {
     "data": {
      "text/html": [
       "<table class=\"dataframe\">\n",
       "<caption>A tibble: 6 × 18</caption>\n",
       "<thead>\n",
       "\t<tr><th scope=col>Chrom_ATAC</th><th scope=col>Start_ATAC</th><th scope=col>End_ATAC</th><th scope=col>Chrom</th><th scope=col>Start</th><th scope=col>End</th><th scope=col>Name</th><th scope=col>Score</th><th scope=col>Strand</th><th scope=col>ThickStart</th><th scope=col>ThickEnd</th><th scope=col>ItemRgb</th><th scope=col>Category</th><th scope=col>Note</th><th scope=col>Overlap</th><th scope=col>Peak_ATAC</th><th scope=col>Annotation</th><th scope=col>Label</th></tr>\n",
       "\t<tr><th scope=col>&lt;chr&gt;</th><th scope=col>&lt;dbl&gt;</th><th scope=col>&lt;dbl&gt;</th><th scope=col>&lt;chr&gt;</th><th scope=col>&lt;dbl&gt;</th><th scope=col>&lt;dbl&gt;</th><th scope=col>&lt;chr&gt;</th><th scope=col>&lt;dbl&gt;</th><th scope=col>&lt;chr&gt;</th><th scope=col>&lt;dbl&gt;</th><th scope=col>&lt;dbl&gt;</th><th scope=col>&lt;chr&gt;</th><th scope=col>&lt;chr&gt;</th><th scope=col>&lt;chr&gt;</th><th scope=col>&lt;dbl&gt;</th><th scope=col>&lt;chr&gt;</th><th scope=col>&lt;chr&gt;</th><th scope=col>&lt;chr&gt;</th></tr>\n",
       "</thead>\n",
       "<tbody>\n",
       "\t<tr><td>chr1</td><td>180982</td><td>182087</td><td>chr1</td><td>181251</td><td>181601</td><td>EH38E1310153</td><td>0</td><td>.</td><td>181251</td><td>181601</td><td>6,218,147  </td><td>DNase-only    </td><td>All-data/Full-classification</td><td>350</td><td>chr1_180982_182087</td><td>ccre_v3</td><td>DNase-only    </td></tr>\n",
       "\t<tr><td>chr1</td><td>777949</td><td>779437</td><td>chr1</td><td>778562</td><td>778912</td><td>EH38E1310158</td><td>0</td><td>.</td><td>778562</td><td>778912</td><td>255,0,0    </td><td>PLS,CTCF-bound</td><td>All-data/Full-classification</td><td>350</td><td>chr1_777949_779437</td><td>ccre_v3</td><td>PLS,CTCF-bound</td></tr>\n",
       "\t<tr><td>chr1</td><td>777949</td><td>779437</td><td>chr1</td><td>779086</td><td>779355</td><td>EH38E1310159</td><td>0</td><td>.</td><td>779086</td><td>779355</td><td>255,0,0    </td><td>PLS           </td><td>All-data/Full-classification</td><td>269</td><td>chr1_777949_779437</td><td>ccre_v3</td><td>PLS           </td></tr>\n",
       "\t<tr><td>chr1</td><td>812211</td><td>813042</td><td>chr1</td><td>812113</td><td>812266</td><td>EH38E1310165</td><td>0</td><td>.</td><td>812113</td><td>812266</td><td>225,225,225</td><td>Low-DNase     </td><td>All-data/Full-classification</td><td> 55</td><td>chr1_812211_813042</td><td>ccre_v3</td><td>Low-DNase     </td></tr>\n",
       "\t<tr><td>chr1</td><td>816774</td><td>817547</td><td>chr1</td><td>817080</td><td>817403</td><td>EH38E1310166</td><td>0</td><td>.</td><td>817080</td><td>817403</td><td>225,225,225</td><td>Low-DNase     </td><td>All-data/Full-classification</td><td>323</td><td>chr1_816774_817547</td><td>ccre_v3</td><td>Low-DNase     </td></tr>\n",
       "\t<tr><td>chr1</td><td>817905</td><td>818348</td><td>chr1</td><td>817903</td><td>818252</td><td>EH38E1310167</td><td>0</td><td>.</td><td>817903</td><td>818252</td><td>225,225,225</td><td>Low-DNase     </td><td>All-data/Full-classification</td><td>347</td><td>chr1_817905_818348</td><td>ccre_v3</td><td>Low-DNase     </td></tr>\n",
       "</tbody>\n",
       "</table>\n"
      ],
      "text/latex": [
       "A tibble: 6 × 18\n",
       "\\begin{tabular}{llllllllllllllllll}\n",
       " Chrom\\_ATAC & Start\\_ATAC & End\\_ATAC & Chrom & Start & End & Name & Score & Strand & ThickStart & ThickEnd & ItemRgb & Category & Note & Overlap & Peak\\_ATAC & Annotation & Label\\\\\n",
       " <chr> & <dbl> & <dbl> & <chr> & <dbl> & <dbl> & <chr> & <dbl> & <chr> & <dbl> & <dbl> & <chr> & <chr> & <chr> & <dbl> & <chr> & <chr> & <chr>\\\\\n",
       "\\hline\n",
       "\t chr1 & 180982 & 182087 & chr1 & 181251 & 181601 & EH38E1310153 & 0 & . & 181251 & 181601 & 6,218,147   & DNase-only     & All-data/Full-classification & 350 & chr1\\_180982\\_182087 & ccre\\_v3 & DNase-only    \\\\\n",
       "\t chr1 & 777949 & 779437 & chr1 & 778562 & 778912 & EH38E1310158 & 0 & . & 778562 & 778912 & 255,0,0     & PLS,CTCF-bound & All-data/Full-classification & 350 & chr1\\_777949\\_779437 & ccre\\_v3 & PLS,CTCF-bound\\\\\n",
       "\t chr1 & 777949 & 779437 & chr1 & 779086 & 779355 & EH38E1310159 & 0 & . & 779086 & 779355 & 255,0,0     & PLS            & All-data/Full-classification & 269 & chr1\\_777949\\_779437 & ccre\\_v3 & PLS           \\\\\n",
       "\t chr1 & 812211 & 813042 & chr1 & 812113 & 812266 & EH38E1310165 & 0 & . & 812113 & 812266 & 225,225,225 & Low-DNase      & All-data/Full-classification &  55 & chr1\\_812211\\_813042 & ccre\\_v3 & Low-DNase     \\\\\n",
       "\t chr1 & 816774 & 817547 & chr1 & 817080 & 817403 & EH38E1310166 & 0 & . & 817080 & 817403 & 225,225,225 & Low-DNase      & All-data/Full-classification & 323 & chr1\\_816774\\_817547 & ccre\\_v3 & Low-DNase     \\\\\n",
       "\t chr1 & 817905 & 818348 & chr1 & 817903 & 818252 & EH38E1310167 & 0 & . & 817903 & 818252 & 225,225,225 & Low-DNase      & All-data/Full-classification & 347 & chr1\\_817905\\_818348 & ccre\\_v3 & Low-DNase     \\\\\n",
       "\\end{tabular}\n"
      ],
      "text/markdown": [
       "\n",
       "A tibble: 6 × 18\n",
       "\n",
       "| Chrom_ATAC &lt;chr&gt; | Start_ATAC &lt;dbl&gt; | End_ATAC &lt;dbl&gt; | Chrom &lt;chr&gt; | Start &lt;dbl&gt; | End &lt;dbl&gt; | Name &lt;chr&gt; | Score &lt;dbl&gt; | Strand &lt;chr&gt; | ThickStart &lt;dbl&gt; | ThickEnd &lt;dbl&gt; | ItemRgb &lt;chr&gt; | Category &lt;chr&gt; | Note &lt;chr&gt; | Overlap &lt;dbl&gt; | Peak_ATAC &lt;chr&gt; | Annotation &lt;chr&gt; | Label &lt;chr&gt; |\n",
       "|---|---|---|---|---|---|---|---|---|---|---|---|---|---|---|---|---|---|\n",
       "| chr1 | 180982 | 182087 | chr1 | 181251 | 181601 | EH38E1310153 | 0 | . | 181251 | 181601 | 6,218,147   | DNase-only     | All-data/Full-classification | 350 | chr1_180982_182087 | ccre_v3 | DNase-only     |\n",
       "| chr1 | 777949 | 779437 | chr1 | 778562 | 778912 | EH38E1310158 | 0 | . | 778562 | 778912 | 255,0,0     | PLS,CTCF-bound | All-data/Full-classification | 350 | chr1_777949_779437 | ccre_v3 | PLS,CTCF-bound |\n",
       "| chr1 | 777949 | 779437 | chr1 | 779086 | 779355 | EH38E1310159 | 0 | . | 779086 | 779355 | 255,0,0     | PLS            | All-data/Full-classification | 269 | chr1_777949_779437 | ccre_v3 | PLS            |\n",
       "| chr1 | 812211 | 813042 | chr1 | 812113 | 812266 | EH38E1310165 | 0 | . | 812113 | 812266 | 225,225,225 | Low-DNase      | All-data/Full-classification |  55 | chr1_812211_813042 | ccre_v3 | Low-DNase      |\n",
       "| chr1 | 816774 | 817547 | chr1 | 817080 | 817403 | EH38E1310166 | 0 | . | 817080 | 817403 | 225,225,225 | Low-DNase      | All-data/Full-classification | 323 | chr1_816774_817547 | ccre_v3 | Low-DNase      |\n",
       "| chr1 | 817905 | 818348 | chr1 | 817903 | 818252 | EH38E1310167 | 0 | . | 817903 | 818252 | 225,225,225 | Low-DNase      | All-data/Full-classification | 347 | chr1_817905_818348 | ccre_v3 | Low-DNase      |\n",
       "\n"
      ],
      "text/plain": [
       "  Chrom_ATAC Start_ATAC End_ATAC Chrom Start  End    Name         Score Strand\n",
       "1 chr1       180982     182087   chr1  181251 181601 EH38E1310153 0     .     \n",
       "2 chr1       777949     779437   chr1  778562 778912 EH38E1310158 0     .     \n",
       "3 chr1       777949     779437   chr1  779086 779355 EH38E1310159 0     .     \n",
       "4 chr1       812211     813042   chr1  812113 812266 EH38E1310165 0     .     \n",
       "5 chr1       816774     817547   chr1  817080 817403 EH38E1310166 0     .     \n",
       "6 chr1       817905     818348   chr1  817903 818252 EH38E1310167 0     .     \n",
       "  ThickStart ThickEnd ItemRgb     Category       Note                        \n",
       "1 181251     181601   6,218,147   DNase-only     All-data/Full-classification\n",
       "2 778562     778912   255,0,0     PLS,CTCF-bound All-data/Full-classification\n",
       "3 779086     779355   255,0,0     PLS            All-data/Full-classification\n",
       "4 812113     812266   225,225,225 Low-DNase      All-data/Full-classification\n",
       "5 817080     817403   225,225,225 Low-DNase      All-data/Full-classification\n",
       "6 817903     818252   225,225,225 Low-DNase      All-data/Full-classification\n",
       "  Overlap Peak_ATAC          Annotation Label         \n",
       "1 350     chr1_180982_182087 ccre_v3    DNase-only    \n",
       "2 350     chr1_777949_779437 ccre_v3    PLS,CTCF-bound\n",
       "3 269     chr1_777949_779437 ccre_v3    PLS           \n",
       "4  55     chr1_812211_813042 ccre_v3    Low-DNase     \n",
       "5 323     chr1_816774_817547 ccre_v3    Low-DNase     \n",
       "6 347     chr1_817905_818348 ccre_v3    Low-DNase     "
      ]
     },
     "metadata": {},
     "output_type": "display_data"
    }
   ],
   "source": [
    "### init\n",
    "annotation = \"ccre_v3\"\n",
    "cnames = dat_cnames$Name\n",
    "cnames = c(\"Chrom_ATAC\", \"Start_ATAC\", \"End_ATAC\", cnames, \"Overlap\")\n",
    "\n",
    "###\n",
    "fdiry = file.path(\n",
    "    FD_RES, \n",
    "    \"results\", \n",
    "    \"region\", \n",
    "    \"KS91_K562_ASTARRseq_peak_macs_input\", \n",
    "    \"annotation_ccre\")\n",
    "fname = \"peak.annotation.ccre_v3.bed.gz\"\n",
    "fpath = file.path(fdiry, fname)\n",
    "\n",
    "### read data\n",
    "dat = read_tsv(fpath, col_names = cnames, show_col_types = FALSE)\n",
    "dat = dat %>% dplyr::mutate(\n",
    "    Peak_ATAC  = paste(Chrom_ATAC, Start_ATAC, End_ATAC, sep=\"_\"),\n",
    "    Annotation = annotation,\n",
    "    Label      = Category\n",
    ")\n",
    "\n",
    "### assign and show\n",
    "dat_peak_annot = dat\n",
    "print(dim(dat))\n",
    "head(dat)"
   ]
  },
  {
   "cell_type": "markdown",
   "metadata": {},
   "source": [
    "## Arrange and summarize"
   ]
  },
  {
   "cell_type": "code",
   "execution_count": 7,
   "metadata": {},
   "outputs": [
    {
     "name": "stdout",
     "output_type": "stream",
     "text": [
      "[1] 173935      4\n"
     ]
    },
    {
     "data": {
      "text/html": [
       "<table class=\"dataframe\">\n",
       "<caption>A tibble: 6 × 4</caption>\n",
       "<thead>\n",
       "\t<tr><th scope=col>Peak</th><th scope=col>Annotation</th><th scope=col>Label</th><th scope=col>Count</th></tr>\n",
       "\t<tr><th scope=col>&lt;chr&gt;</th><th scope=col>&lt;chr&gt;</th><th scope=col>&lt;chr&gt;</th><th scope=col>&lt;int&gt;</th></tr>\n",
       "</thead>\n",
       "<tbody>\n",
       "\t<tr><td>chr10_100009096_100010466</td><td>ccre_v3</td><td>DNase-H3K4me3,CTCF-bound</td><td>2</td></tr>\n",
       "\t<tr><td>chr10_100009096_100010466</td><td>ccre_v3</td><td>Low-DNase               </td><td>1</td></tr>\n",
       "\t<tr><td>chr10_100009096_100010466</td><td>ccre_v3</td><td>PLS,CTCF-bound          </td><td>1</td></tr>\n",
       "\t<tr><td>chr10_100020710_100021134</td><td>ccre_v3</td><td>Low-DNase               </td><td>2</td></tr>\n",
       "\t<tr><td>chr10_100045961_100046653</td><td>ccre_v3</td><td>CTCF-only,CTCF-bound    </td><td>1</td></tr>\n",
       "\t<tr><td>chr10_100065094_100065486</td><td>ccre_v3</td><td>Low-DNase               </td><td>1</td></tr>\n",
       "</tbody>\n",
       "</table>\n"
      ],
      "text/latex": [
       "A tibble: 6 × 4\n",
       "\\begin{tabular}{llll}\n",
       " Peak & Annotation & Label & Count\\\\\n",
       " <chr> & <chr> & <chr> & <int>\\\\\n",
       "\\hline\n",
       "\t chr10\\_100009096\\_100010466 & ccre\\_v3 & DNase-H3K4me3,CTCF-bound & 2\\\\\n",
       "\t chr10\\_100009096\\_100010466 & ccre\\_v3 & Low-DNase                & 1\\\\\n",
       "\t chr10\\_100009096\\_100010466 & ccre\\_v3 & PLS,CTCF-bound           & 1\\\\\n",
       "\t chr10\\_100020710\\_100021134 & ccre\\_v3 & Low-DNase                & 2\\\\\n",
       "\t chr10\\_100045961\\_100046653 & ccre\\_v3 & CTCF-only,CTCF-bound     & 1\\\\\n",
       "\t chr10\\_100065094\\_100065486 & ccre\\_v3 & Low-DNase                & 1\\\\\n",
       "\\end{tabular}\n"
      ],
      "text/markdown": [
       "\n",
       "A tibble: 6 × 4\n",
       "\n",
       "| Peak &lt;chr&gt; | Annotation &lt;chr&gt; | Label &lt;chr&gt; | Count &lt;int&gt; |\n",
       "|---|---|---|---|\n",
       "| chr10_100009096_100010466 | ccre_v3 | DNase-H3K4me3,CTCF-bound | 2 |\n",
       "| chr10_100009096_100010466 | ccre_v3 | Low-DNase                | 1 |\n",
       "| chr10_100009096_100010466 | ccre_v3 | PLS,CTCF-bound           | 1 |\n",
       "| chr10_100020710_100021134 | ccre_v3 | Low-DNase                | 2 |\n",
       "| chr10_100045961_100046653 | ccre_v3 | CTCF-only,CTCF-bound     | 1 |\n",
       "| chr10_100065094_100065486 | ccre_v3 | Low-DNase                | 1 |\n",
       "\n"
      ],
      "text/plain": [
       "  Peak                      Annotation Label                    Count\n",
       "1 chr10_100009096_100010466 ccre_v3    DNase-H3K4me3,CTCF-bound 2    \n",
       "2 chr10_100009096_100010466 ccre_v3    Low-DNase                1    \n",
       "3 chr10_100009096_100010466 ccre_v3    PLS,CTCF-bound           1    \n",
       "4 chr10_100020710_100021134 ccre_v3    Low-DNase                2    \n",
       "5 chr10_100045961_100046653 ccre_v3    CTCF-only,CTCF-bound     1    \n",
       "6 chr10_100065094_100065486 ccre_v3    Low-DNase                1    "
      ]
     },
     "metadata": {},
     "output_type": "display_data"
    }
   ],
   "source": [
    "dat = dat_peak_annot\n",
    "dat = dat %>% \n",
    "    dplyr::group_by(Peak_ATAC, Annotation, Label) %>%\n",
    "    dplyr::summarise(Count = n(), .groups = \"drop\")\n",
    "\n",
    "dat = dat %>% dplyr::rename(\"Peak\" = \"Peak_ATAC\")\n",
    "\n",
    "### assign and show\n",
    "dat_peak_annot_count = dat\n",
    "print(dim(dat))\n",
    "head(dat)"
   ]
  },
  {
   "cell_type": "markdown",
   "metadata": {},
   "source": [
    "## Save results"
   ]
  },
  {
   "cell_type": "code",
   "execution_count": 8,
   "metadata": {},
   "outputs": [],
   "source": [
    "fdiry = file.path(FD_RES, \"results\", \"region\", \"KS91_K562_ASTARRseq_peak_macs_input\", \"summary\")\n",
    "fname = \"peak.summary.ccre_v3.tsv\"\n",
    "fpath = file.path(fdiry, fname)\n",
    "\n",
    "dat = dat_peak_annot_count\n",
    "write_tsv(dat, fpath)"
   ]
  },
  {
   "cell_type": "code",
   "execution_count": null,
   "metadata": {},
   "outputs": [],
   "source": []
  },
  {
   "cell_type": "code",
   "execution_count": 11,
   "metadata": {},
   "outputs": [
    {
     "data": {
      "text/html": [
       "<style>\n",
       ".list-inline {list-style: none; margin:0; padding: 0}\n",
       ".list-inline>li {display: inline-block}\n",
       ".list-inline>li:not(:last-child)::after {content: \"\\00b7\"; padding: 0 .5ex}\n",
       "</style>\n",
       "<ol class=list-inline><li>'ccre_v3'</li><li>'ccre_v4'</li></ol>\n"
      ],
      "text/latex": [
       "\\begin{enumerate*}\n",
       "\\item 'ccre\\_v3'\n",
       "\\item 'ccre\\_v4'\n",
       "\\end{enumerate*}\n"
      ],
      "text/markdown": [
       "1. 'ccre_v3'\n",
       "2. 'ccre_v4'\n",
       "\n",
       "\n"
      ],
      "text/plain": [
       "[1] \"ccre_v3\" \"ccre_v4\""
      ]
     },
     "metadata": {},
     "output_type": "display_data"
    }
   ],
   "source": [
    "lst = str_split(string = fnames, pattern = \"\\\\.\")\n",
    "lst = lapply(lst, function(vec){vec[3]})\n",
    "annotations = unlist(lst)\n",
    "annotations"
   ]
  },
  {
   "cell_type": "code",
   "execution_count": 17,
   "metadata": {},
   "outputs": [
    {
     "name": "stdout",
     "output_type": "stream",
     "text": [
      "[1] 2\n"
     ]
    },
    {
     "data": {
      "text/html": [
       "<table class=\"dataframe\">\n",
       "<caption>A tibble: 6 × 17</caption>\n",
       "<thead>\n",
       "\t<tr><th scope=col>Chrom</th><th scope=col>Start</th><th scope=col>End</th><th scope=col>Chrom_ccre</th><th scope=col>Start_ccre</th><th scope=col>End_ccre</th><th scope=col>Name_ccre</th><th scope=col>Score</th><th scope=col>Strand</th><th scope=col>thickStart</th><th scope=col>thickEnd</th><th scope=col>itemRgb</th><th scope=col>Category</th><th scope=col>Note</th><th scope=col>Overlap</th><th scope=col>Peak</th><th scope=col>Annotation</th></tr>\n",
       "\t<tr><th scope=col>&lt;chr&gt;</th><th scope=col>&lt;dbl&gt;</th><th scope=col>&lt;dbl&gt;</th><th scope=col>&lt;chr&gt;</th><th scope=col>&lt;dbl&gt;</th><th scope=col>&lt;dbl&gt;</th><th scope=col>&lt;chr&gt;</th><th scope=col>&lt;dbl&gt;</th><th scope=col>&lt;chr&gt;</th><th scope=col>&lt;dbl&gt;</th><th scope=col>&lt;dbl&gt;</th><th scope=col>&lt;chr&gt;</th><th scope=col>&lt;chr&gt;</th><th scope=col>&lt;chr&gt;</th><th scope=col>&lt;dbl&gt;</th><th scope=col>&lt;chr&gt;</th><th scope=col>&lt;chr&gt;</th></tr>\n",
       "</thead>\n",
       "<tbody>\n",
       "\t<tr><td>chr1</td><td>180982</td><td>182087</td><td>chr1</td><td>181251</td><td>181601</td><td>EH38E1310153</td><td>0</td><td>.</td><td>181251</td><td>181601</td><td>6,218,147  </td><td>DNase-only    </td><td>All-data/Full-classification</td><td>350</td><td>chr1_180982_182087</td><td>ccre_v3</td></tr>\n",
       "\t<tr><td>chr1</td><td>777949</td><td>779437</td><td>chr1</td><td>778562</td><td>778912</td><td>EH38E1310158</td><td>0</td><td>.</td><td>778562</td><td>778912</td><td>255,0,0    </td><td>PLS,CTCF-bound</td><td>All-data/Full-classification</td><td>350</td><td>chr1_777949_779437</td><td>ccre_v3</td></tr>\n",
       "\t<tr><td>chr1</td><td>777949</td><td>779437</td><td>chr1</td><td>779086</td><td>779355</td><td>EH38E1310159</td><td>0</td><td>.</td><td>779086</td><td>779355</td><td>255,0,0    </td><td>PLS           </td><td>All-data/Full-classification</td><td>269</td><td>chr1_777949_779437</td><td>ccre_v3</td></tr>\n",
       "\t<tr><td>chr1</td><td>812211</td><td>813042</td><td>chr1</td><td>812113</td><td>812266</td><td>EH38E1310165</td><td>0</td><td>.</td><td>812113</td><td>812266</td><td>225,225,225</td><td>Low-DNase     </td><td>All-data/Full-classification</td><td> 55</td><td>chr1_812211_813042</td><td>ccre_v3</td></tr>\n",
       "\t<tr><td>chr1</td><td>816774</td><td>817547</td><td>chr1</td><td>817080</td><td>817403</td><td>EH38E1310166</td><td>0</td><td>.</td><td>817080</td><td>817403</td><td>225,225,225</td><td>Low-DNase     </td><td>All-data/Full-classification</td><td>323</td><td>chr1_816774_817547</td><td>ccre_v3</td></tr>\n",
       "\t<tr><td>chr1</td><td>817905</td><td>818348</td><td>chr1</td><td>817903</td><td>818252</td><td>EH38E1310167</td><td>0</td><td>.</td><td>817903</td><td>818252</td><td>225,225,225</td><td>Low-DNase     </td><td>All-data/Full-classification</td><td>347</td><td>chr1_817905_818348</td><td>ccre_v3</td></tr>\n",
       "</tbody>\n",
       "</table>\n"
      ],
      "text/latex": [
       "A tibble: 6 × 17\n",
       "\\begin{tabular}{lllllllllllllllll}\n",
       " Chrom & Start & End & Chrom\\_ccre & Start\\_ccre & End\\_ccre & Name\\_ccre & Score & Strand & thickStart & thickEnd & itemRgb & Category & Note & Overlap & Peak & Annotation\\\\\n",
       " <chr> & <dbl> & <dbl> & <chr> & <dbl> & <dbl> & <chr> & <dbl> & <chr> & <dbl> & <dbl> & <chr> & <chr> & <chr> & <dbl> & <chr> & <chr>\\\\\n",
       "\\hline\n",
       "\t chr1 & 180982 & 182087 & chr1 & 181251 & 181601 & EH38E1310153 & 0 & . & 181251 & 181601 & 6,218,147   & DNase-only     & All-data/Full-classification & 350 & chr1\\_180982\\_182087 & ccre\\_v3\\\\\n",
       "\t chr1 & 777949 & 779437 & chr1 & 778562 & 778912 & EH38E1310158 & 0 & . & 778562 & 778912 & 255,0,0     & PLS,CTCF-bound & All-data/Full-classification & 350 & chr1\\_777949\\_779437 & ccre\\_v3\\\\\n",
       "\t chr1 & 777949 & 779437 & chr1 & 779086 & 779355 & EH38E1310159 & 0 & . & 779086 & 779355 & 255,0,0     & PLS            & All-data/Full-classification & 269 & chr1\\_777949\\_779437 & ccre\\_v3\\\\\n",
       "\t chr1 & 812211 & 813042 & chr1 & 812113 & 812266 & EH38E1310165 & 0 & . & 812113 & 812266 & 225,225,225 & Low-DNase      & All-data/Full-classification &  55 & chr1\\_812211\\_813042 & ccre\\_v3\\\\\n",
       "\t chr1 & 816774 & 817547 & chr1 & 817080 & 817403 & EH38E1310166 & 0 & . & 817080 & 817403 & 225,225,225 & Low-DNase      & All-data/Full-classification & 323 & chr1\\_816774\\_817547 & ccre\\_v3\\\\\n",
       "\t chr1 & 817905 & 818348 & chr1 & 817903 & 818252 & EH38E1310167 & 0 & . & 817903 & 818252 & 225,225,225 & Low-DNase      & All-data/Full-classification & 347 & chr1\\_817905\\_818348 & ccre\\_v3\\\\\n",
       "\\end{tabular}\n"
      ],
      "text/markdown": [
       "\n",
       "A tibble: 6 × 17\n",
       "\n",
       "| Chrom &lt;chr&gt; | Start &lt;dbl&gt; | End &lt;dbl&gt; | Chrom_ccre &lt;chr&gt; | Start_ccre &lt;dbl&gt; | End_ccre &lt;dbl&gt; | Name_ccre &lt;chr&gt; | Score &lt;dbl&gt; | Strand &lt;chr&gt; | thickStart &lt;dbl&gt; | thickEnd &lt;dbl&gt; | itemRgb &lt;chr&gt; | Category &lt;chr&gt; | Note &lt;chr&gt; | Overlap &lt;dbl&gt; | Peak &lt;chr&gt; | Annotation &lt;chr&gt; |\n",
       "|---|---|---|---|---|---|---|---|---|---|---|---|---|---|---|---|---|\n",
       "| chr1 | 180982 | 182087 | chr1 | 181251 | 181601 | EH38E1310153 | 0 | . | 181251 | 181601 | 6,218,147   | DNase-only     | All-data/Full-classification | 350 | chr1_180982_182087 | ccre_v3 |\n",
       "| chr1 | 777949 | 779437 | chr1 | 778562 | 778912 | EH38E1310158 | 0 | . | 778562 | 778912 | 255,0,0     | PLS,CTCF-bound | All-data/Full-classification | 350 | chr1_777949_779437 | ccre_v3 |\n",
       "| chr1 | 777949 | 779437 | chr1 | 779086 | 779355 | EH38E1310159 | 0 | . | 779086 | 779355 | 255,0,0     | PLS            | All-data/Full-classification | 269 | chr1_777949_779437 | ccre_v3 |\n",
       "| chr1 | 812211 | 813042 | chr1 | 812113 | 812266 | EH38E1310165 | 0 | . | 812113 | 812266 | 225,225,225 | Low-DNase      | All-data/Full-classification |  55 | chr1_812211_813042 | ccre_v3 |\n",
       "| chr1 | 816774 | 817547 | chr1 | 817080 | 817403 | EH38E1310166 | 0 | . | 817080 | 817403 | 225,225,225 | Low-DNase      | All-data/Full-classification | 323 | chr1_816774_817547 | ccre_v3 |\n",
       "| chr1 | 817905 | 818348 | chr1 | 817903 | 818252 | EH38E1310167 | 0 | . | 817903 | 818252 | 225,225,225 | Low-DNase      | All-data/Full-classification | 347 | chr1_817905_818348 | ccre_v3 |\n",
       "\n"
      ],
      "text/plain": [
       "  Chrom Start  End    Chrom_ccre Start_ccre End_ccre Name_ccre    Score Strand\n",
       "1 chr1  180982 182087 chr1       181251     181601   EH38E1310153 0     .     \n",
       "2 chr1  777949 779437 chr1       778562     778912   EH38E1310158 0     .     \n",
       "3 chr1  777949 779437 chr1       779086     779355   EH38E1310159 0     .     \n",
       "4 chr1  812211 813042 chr1       812113     812266   EH38E1310165 0     .     \n",
       "5 chr1  816774 817547 chr1       817080     817403   EH38E1310166 0     .     \n",
       "6 chr1  817905 818348 chr1       817903     818252   EH38E1310167 0     .     \n",
       "  thickStart thickEnd itemRgb     Category       Note                        \n",
       "1 181251     181601   6,218,147   DNase-only     All-data/Full-classification\n",
       "2 778562     778912   255,0,0     PLS,CTCF-bound All-data/Full-classification\n",
       "3 779086     779355   255,0,0     PLS            All-data/Full-classification\n",
       "4 812113     812266   225,225,225 Low-DNase      All-data/Full-classification\n",
       "5 817080     817403   225,225,225 Low-DNase      All-data/Full-classification\n",
       "6 817903     818252   225,225,225 Low-DNase      All-data/Full-classification\n",
       "  Overlap Peak               Annotation\n",
       "1 350     chr1_180982_182087 ccre_v3   \n",
       "2 350     chr1_777949_779437 ccre_v3   \n",
       "3 269     chr1_777949_779437 ccre_v3   \n",
       "4  55     chr1_812211_813042 ccre_v3   \n",
       "5 323     chr1_816774_817547 ccre_v3   \n",
       "6 347     chr1_817905_818348 ccre_v3   "
      ]
     },
     "metadata": {},
     "output_type": "display_data"
    }
   ],
   "source": [
    "fdiry = file.path(FD_RES, \"results\", \"region\", \"KS91_K562_ASTARRseq_peak_macs_input\", \"annotation_ccre\")\n",
    "\n",
    "lst = lapply(annotations, function(annotation){\n",
    "    ###\n",
    "    fname = paste(\"*\", annotation, \"bed.gz\", sep = \".\")\n",
    "    fglob = file.path(fdiry, fname)\n",
    "    fpath = Sys.glob(fglob)\n",
    "    \n",
    "    ###\n",
    "    cnames = c(\n",
    "        \"Chrom\", \"Start\", \"End\",\n",
    "        \"Chrom_ccre\", \"Start_ccre\", \"End_ccre\", \"Name_ccre\", \"Score\", \"Strand\", \n",
    "        \"thickStart\", \"thickEnd\", \"itemRgb\", \n",
    "        \"Category\", \"Note\", \"Overlap\")\n",
    "    dat = read_tsv(fpath, col_names = cnames, show_col_types = FALSE)\n",
    "    dat = dat %>% \n",
    "        dplyr::mutate(Peak = paste(Chrom, Start, End, sep=\"_\")) %>%\n",
    "        dplyr::mutate(Annotation = annotation)\n",
    "    return(dat)\n",
    "})\n",
    "\n",
    "lst_peak_annot = lst\n",
    "print(length(lst))\n",
    "head(lst[[1]])"
   ]
  },
  {
   "cell_type": "code",
   "execution_count": 31,
   "metadata": {},
   "outputs": [
    {
     "data": {
      "text/html": [
       "<table class=\"dataframe\">\n",
       "<caption>A tibble: 9 × 17</caption>\n",
       "<thead>\n",
       "\t<tr><th scope=col>Chrom</th><th scope=col>Start</th><th scope=col>End</th><th scope=col>Chrom_ccre</th><th scope=col>Start_ccre</th><th scope=col>End_ccre</th><th scope=col>Name_ccre</th><th scope=col>Score</th><th scope=col>Strand</th><th scope=col>thickStart</th><th scope=col>thickEnd</th><th scope=col>itemRgb</th><th scope=col>Category</th><th scope=col>Note</th><th scope=col>Overlap</th><th scope=col>Peak</th><th scope=col>Annotation</th></tr>\n",
       "\t<tr><th scope=col>&lt;chr&gt;</th><th scope=col>&lt;dbl&gt;</th><th scope=col>&lt;dbl&gt;</th><th scope=col>&lt;chr&gt;</th><th scope=col>&lt;dbl&gt;</th><th scope=col>&lt;dbl&gt;</th><th scope=col>&lt;chr&gt;</th><th scope=col>&lt;dbl&gt;</th><th scope=col>&lt;chr&gt;</th><th scope=col>&lt;dbl&gt;</th><th scope=col>&lt;dbl&gt;</th><th scope=col>&lt;chr&gt;</th><th scope=col>&lt;chr&gt;</th><th scope=col>&lt;chr&gt;</th><th scope=col>&lt;dbl&gt;</th><th scope=col>&lt;chr&gt;</th><th scope=col>&lt;chr&gt;</th></tr>\n",
       "</thead>\n",
       "<tbody>\n",
       "\t<tr><td>chr10</td><td>100009096</td><td>100010466</td><td>chr10</td><td>100009359</td><td>100009597</td><td>EH38E1493252</td><td>0</td><td>.</td><td>100009359</td><td>100009597</td><td>255,170,170</td><td>DNase-H3K4me3,CTCF-bound</td><td>All-data/Full-classification</td><td>238</td><td>chr10_100009096_100010466</td><td>ccre_v3</td></tr>\n",
       "\t<tr><td>chr10</td><td>100009096</td><td>100010466</td><td>chr10</td><td>100009618</td><td>100009775</td><td>EH38E1493253</td><td>0</td><td>.</td><td>100009618</td><td>100009775</td><td>255,170,170</td><td>DNase-H3K4me3,CTCF-bound</td><td>All-data/Full-classification</td><td>157</td><td>chr10_100009096_100010466</td><td>ccre_v3</td></tr>\n",
       "\t<tr><td>chr10</td><td>100009096</td><td>100010466</td><td>chr10</td><td>100009796</td><td>100010146</td><td>EH38E1493254</td><td>0</td><td>.</td><td>100009796</td><td>100010146</td><td>255,0,0    </td><td>PLS,CTCF-bound          </td><td>All-data/Full-classification</td><td>350</td><td>chr10_100009096_100010466</td><td>ccre_v3</td></tr>\n",
       "\t<tr><td>chr10</td><td>100009096</td><td>100010466</td><td>chr10</td><td>100010233</td><td>100010583</td><td>EH38E1493255</td><td>0</td><td>.</td><td>100010233</td><td>100010583</td><td>225,225,225</td><td>Low-DNase               </td><td>All-data/Full-classification</td><td>233</td><td>chr10_100009096_100010466</td><td>ccre_v3</td></tr>\n",
       "\t<tr><td>chr10</td><td>100009096</td><td>100010466</td><td>chr10</td><td>100009359</td><td>100009597</td><td>EH38E1493252</td><td>0</td><td>.</td><td>100009359</td><td>100009597</td><td>255,170,170</td><td>CA-H3K4me3              </td><td>All-data/Full-classification</td><td>238</td><td>chr10_100009096_100010466</td><td>ccre_v4</td></tr>\n",
       "\t<tr><td>chr10</td><td>100009096</td><td>100010466</td><td>chr10</td><td>100009615</td><td>100009781</td><td>EH38E2919952</td><td>0</td><td>.</td><td>100009615</td><td>100009781</td><td>255,167,0  </td><td>pELS                    </td><td>All-data/Full-classification</td><td>166</td><td>chr10_100009096_100010466</td><td>ccre_v4</td></tr>\n",
       "\t<tr><td>chr10</td><td>100009096</td><td>100010466</td><td>chr10</td><td>100009828</td><td>100010178</td><td>EH38E2919953</td><td>0</td><td>.</td><td>100009828</td><td>100010178</td><td>255,0,0    </td><td>PLS                     </td><td>All-data/Full-classification</td><td>350</td><td>chr10_100009096_100010466</td><td>ccre_v4</td></tr>\n",
       "\t<tr><td>chr10</td><td>100009096</td><td>100010466</td><td>chr10</td><td>100010237</td><td>100010448</td><td>EH38E2919954</td><td>0</td><td>.</td><td>100010237</td><td>100010448</td><td>255,170,170</td><td>CA-H3K4me3              </td><td>All-data/Full-classification</td><td>211</td><td>chr10_100009096_100010466</td><td>ccre_v4</td></tr>\n",
       "\t<tr><td>chr10</td><td>100009096</td><td>100010466</td><td>chr10</td><td>100010459</td><td>100010690</td><td>EH38E2919955</td><td>0</td><td>.</td><td>100010459</td><td>100010690</td><td>225,225,225</td><td>Low-DNase               </td><td>All-data/Full-classification</td><td>  7</td><td>chr10_100009096_100010466</td><td>ccre_v4</td></tr>\n",
       "</tbody>\n",
       "</table>\n"
      ],
      "text/latex": [
       "A tibble: 9 × 17\n",
       "\\begin{tabular}{lllllllllllllllll}\n",
       " Chrom & Start & End & Chrom\\_ccre & Start\\_ccre & End\\_ccre & Name\\_ccre & Score & Strand & thickStart & thickEnd & itemRgb & Category & Note & Overlap & Peak & Annotation\\\\\n",
       " <chr> & <dbl> & <dbl> & <chr> & <dbl> & <dbl> & <chr> & <dbl> & <chr> & <dbl> & <dbl> & <chr> & <chr> & <chr> & <dbl> & <chr> & <chr>\\\\\n",
       "\\hline\n",
       "\t chr10 & 100009096 & 100010466 & chr10 & 100009359 & 100009597 & EH38E1493252 & 0 & . & 100009359 & 100009597 & 255,170,170 & DNase-H3K4me3,CTCF-bound & All-data/Full-classification & 238 & chr10\\_100009096\\_100010466 & ccre\\_v3\\\\\n",
       "\t chr10 & 100009096 & 100010466 & chr10 & 100009618 & 100009775 & EH38E1493253 & 0 & . & 100009618 & 100009775 & 255,170,170 & DNase-H3K4me3,CTCF-bound & All-data/Full-classification & 157 & chr10\\_100009096\\_100010466 & ccre\\_v3\\\\\n",
       "\t chr10 & 100009096 & 100010466 & chr10 & 100009796 & 100010146 & EH38E1493254 & 0 & . & 100009796 & 100010146 & 255,0,0     & PLS,CTCF-bound           & All-data/Full-classification & 350 & chr10\\_100009096\\_100010466 & ccre\\_v3\\\\\n",
       "\t chr10 & 100009096 & 100010466 & chr10 & 100010233 & 100010583 & EH38E1493255 & 0 & . & 100010233 & 100010583 & 225,225,225 & Low-DNase                & All-data/Full-classification & 233 & chr10\\_100009096\\_100010466 & ccre\\_v3\\\\\n",
       "\t chr10 & 100009096 & 100010466 & chr10 & 100009359 & 100009597 & EH38E1493252 & 0 & . & 100009359 & 100009597 & 255,170,170 & CA-H3K4me3               & All-data/Full-classification & 238 & chr10\\_100009096\\_100010466 & ccre\\_v4\\\\\n",
       "\t chr10 & 100009096 & 100010466 & chr10 & 100009615 & 100009781 & EH38E2919952 & 0 & . & 100009615 & 100009781 & 255,167,0   & pELS                     & All-data/Full-classification & 166 & chr10\\_100009096\\_100010466 & ccre\\_v4\\\\\n",
       "\t chr10 & 100009096 & 100010466 & chr10 & 100009828 & 100010178 & EH38E2919953 & 0 & . & 100009828 & 100010178 & 255,0,0     & PLS                      & All-data/Full-classification & 350 & chr10\\_100009096\\_100010466 & ccre\\_v4\\\\\n",
       "\t chr10 & 100009096 & 100010466 & chr10 & 100010237 & 100010448 & EH38E2919954 & 0 & . & 100010237 & 100010448 & 255,170,170 & CA-H3K4me3               & All-data/Full-classification & 211 & chr10\\_100009096\\_100010466 & ccre\\_v4\\\\\n",
       "\t chr10 & 100009096 & 100010466 & chr10 & 100010459 & 100010690 & EH38E2919955 & 0 & . & 100010459 & 100010690 & 225,225,225 & Low-DNase                & All-data/Full-classification &   7 & chr10\\_100009096\\_100010466 & ccre\\_v4\\\\\n",
       "\\end{tabular}\n"
      ],
      "text/markdown": [
       "\n",
       "A tibble: 9 × 17\n",
       "\n",
       "| Chrom &lt;chr&gt; | Start &lt;dbl&gt; | End &lt;dbl&gt; | Chrom_ccre &lt;chr&gt; | Start_ccre &lt;dbl&gt; | End_ccre &lt;dbl&gt; | Name_ccre &lt;chr&gt; | Score &lt;dbl&gt; | Strand &lt;chr&gt; | thickStart &lt;dbl&gt; | thickEnd &lt;dbl&gt; | itemRgb &lt;chr&gt; | Category &lt;chr&gt; | Note &lt;chr&gt; | Overlap &lt;dbl&gt; | Peak &lt;chr&gt; | Annotation &lt;chr&gt; |\n",
       "|---|---|---|---|---|---|---|---|---|---|---|---|---|---|---|---|---|\n",
       "| chr10 | 100009096 | 100010466 | chr10 | 100009359 | 100009597 | EH38E1493252 | 0 | . | 100009359 | 100009597 | 255,170,170 | DNase-H3K4me3,CTCF-bound | All-data/Full-classification | 238 | chr10_100009096_100010466 | ccre_v3 |\n",
       "| chr10 | 100009096 | 100010466 | chr10 | 100009618 | 100009775 | EH38E1493253 | 0 | . | 100009618 | 100009775 | 255,170,170 | DNase-H3K4me3,CTCF-bound | All-data/Full-classification | 157 | chr10_100009096_100010466 | ccre_v3 |\n",
       "| chr10 | 100009096 | 100010466 | chr10 | 100009796 | 100010146 | EH38E1493254 | 0 | . | 100009796 | 100010146 | 255,0,0     | PLS,CTCF-bound           | All-data/Full-classification | 350 | chr10_100009096_100010466 | ccre_v3 |\n",
       "| chr10 | 100009096 | 100010466 | chr10 | 100010233 | 100010583 | EH38E1493255 | 0 | . | 100010233 | 100010583 | 225,225,225 | Low-DNase                | All-data/Full-classification | 233 | chr10_100009096_100010466 | ccre_v3 |\n",
       "| chr10 | 100009096 | 100010466 | chr10 | 100009359 | 100009597 | EH38E1493252 | 0 | . | 100009359 | 100009597 | 255,170,170 | CA-H3K4me3               | All-data/Full-classification | 238 | chr10_100009096_100010466 | ccre_v4 |\n",
       "| chr10 | 100009096 | 100010466 | chr10 | 100009615 | 100009781 | EH38E2919952 | 0 | . | 100009615 | 100009781 | 255,167,0   | pELS                     | All-data/Full-classification | 166 | chr10_100009096_100010466 | ccre_v4 |\n",
       "| chr10 | 100009096 | 100010466 | chr10 | 100009828 | 100010178 | EH38E2919953 | 0 | . | 100009828 | 100010178 | 255,0,0     | PLS                      | All-data/Full-classification | 350 | chr10_100009096_100010466 | ccre_v4 |\n",
       "| chr10 | 100009096 | 100010466 | chr10 | 100010237 | 100010448 | EH38E2919954 | 0 | . | 100010237 | 100010448 | 255,170,170 | CA-H3K4me3               | All-data/Full-classification | 211 | chr10_100009096_100010466 | ccre_v4 |\n",
       "| chr10 | 100009096 | 100010466 | chr10 | 100010459 | 100010690 | EH38E2919955 | 0 | . | 100010459 | 100010690 | 225,225,225 | Low-DNase                | All-data/Full-classification |   7 | chr10_100009096_100010466 | ccre_v4 |\n",
       "\n"
      ],
      "text/plain": [
       "  Chrom Start     End       Chrom_ccre Start_ccre End_ccre  Name_ccre    Score\n",
       "1 chr10 100009096 100010466 chr10      100009359  100009597 EH38E1493252 0    \n",
       "2 chr10 100009096 100010466 chr10      100009618  100009775 EH38E1493253 0    \n",
       "3 chr10 100009096 100010466 chr10      100009796  100010146 EH38E1493254 0    \n",
       "4 chr10 100009096 100010466 chr10      100010233  100010583 EH38E1493255 0    \n",
       "5 chr10 100009096 100010466 chr10      100009359  100009597 EH38E1493252 0    \n",
       "6 chr10 100009096 100010466 chr10      100009615  100009781 EH38E2919952 0    \n",
       "7 chr10 100009096 100010466 chr10      100009828  100010178 EH38E2919953 0    \n",
       "8 chr10 100009096 100010466 chr10      100010237  100010448 EH38E2919954 0    \n",
       "9 chr10 100009096 100010466 chr10      100010459  100010690 EH38E2919955 0    \n",
       "  Strand thickStart thickEnd  itemRgb     Category                \n",
       "1 .      100009359  100009597 255,170,170 DNase-H3K4me3,CTCF-bound\n",
       "2 .      100009618  100009775 255,170,170 DNase-H3K4me3,CTCF-bound\n",
       "3 .      100009796  100010146 255,0,0     PLS,CTCF-bound          \n",
       "4 .      100010233  100010583 225,225,225 Low-DNase               \n",
       "5 .      100009359  100009597 255,170,170 CA-H3K4me3              \n",
       "6 .      100009615  100009781 255,167,0   pELS                    \n",
       "7 .      100009828  100010178 255,0,0     PLS                     \n",
       "8 .      100010237  100010448 255,170,170 CA-H3K4me3              \n",
       "9 .      100010459  100010690 225,225,225 Low-DNase               \n",
       "  Note                         Overlap Peak                      Annotation\n",
       "1 All-data/Full-classification 238     chr10_100009096_100010466 ccre_v3   \n",
       "2 All-data/Full-classification 157     chr10_100009096_100010466 ccre_v3   \n",
       "3 All-data/Full-classification 350     chr10_100009096_100010466 ccre_v3   \n",
       "4 All-data/Full-classification 233     chr10_100009096_100010466 ccre_v3   \n",
       "5 All-data/Full-classification 238     chr10_100009096_100010466 ccre_v4   \n",
       "6 All-data/Full-classification 166     chr10_100009096_100010466 ccre_v4   \n",
       "7 All-data/Full-classification 350     chr10_100009096_100010466 ccre_v4   \n",
       "8 All-data/Full-classification 211     chr10_100009096_100010466 ccre_v4   \n",
       "9 All-data/Full-classification   7     chr10_100009096_100010466 ccre_v4   "
      ]
     },
     "metadata": {},
     "output_type": "display_data"
    }
   ],
   "source": [
    "lst = lst_peak_annot\n",
    "dat = bind_rows(lst)\n",
    "dat %>% dplyr::filter(Peak == \"chr10_100009096_100010466\")"
   ]
  },
  {
   "cell_type": "code",
   "execution_count": 33,
   "metadata": {},
   "outputs": [
    {
     "data": {
      "text/plain": [
       "         \n",
       "          CA-CTCF CA-H3K4me3 CA-only  CA-TF CTCF-only,CTCF-bound   dELS\n",
       "  ccre_v3       0          0       0      0                12696  15142\n",
       "  ccre_v4   24167       5078    1812  30229                    0  29665\n",
       "         \n",
       "          dELS,CTCF-bound DNase-H3K4me3 DNase-H3K4me3,CTCF-bound DNase-only\n",
       "  ccre_v3            2598          4202                     1977       7151\n",
       "  ccre_v4               0             0                        0          0\n",
       "         \n",
       "          Low-DNase   pELS pELS,CTCF-bound    PLS PLS,CTCF-bound\n",
       "  ccre_v3    175906  23331            4375  14142           3438\n",
       "  ccre_v4    335622  34290               0  19610              0"
      ]
     },
     "metadata": {},
     "output_type": "display_data"
    }
   ],
   "source": [
    "table(dat$Annotation, dat$Category)"
   ]
  },
  {
   "cell_type": "code",
   "execution_count": 34,
   "metadata": {},
   "outputs": [
    {
     "name": "stdout",
     "output_type": "stream",
     "text": [
      "[1] 451244      4\n"
     ]
    },
    {
     "data": {
      "text/html": [
       "<table class=\"dataframe\">\n",
       "<caption>A tibble: 6 × 4</caption>\n",
       "<thead>\n",
       "\t<tr><th scope=col>Peak</th><th scope=col>Category</th><th scope=col>Annotation</th><th scope=col>Count</th></tr>\n",
       "\t<tr><th scope=col>&lt;chr&gt;</th><th scope=col>&lt;chr&gt;</th><th scope=col>&lt;chr&gt;</th><th scope=col>&lt;int&gt;</th></tr>\n",
       "</thead>\n",
       "<tbody>\n",
       "\t<tr><td>chr10_100009096_100010466</td><td>DNase-H3K4me3,CTCF-bound</td><td>ccre_v3</td><td>2</td></tr>\n",
       "\t<tr><td>chr10_100009096_100010466</td><td>Low-DNase               </td><td>ccre_v3</td><td>1</td></tr>\n",
       "\t<tr><td>chr10_100009096_100010466</td><td>PLS,CTCF-bound          </td><td>ccre_v3</td><td>1</td></tr>\n",
       "\t<tr><td>chr10_100020710_100021134</td><td>Low-DNase               </td><td>ccre_v3</td><td>2</td></tr>\n",
       "\t<tr><td>chr10_100045961_100046653</td><td>CTCF-only,CTCF-bound    </td><td>ccre_v3</td><td>1</td></tr>\n",
       "\t<tr><td>chr10_100065094_100065486</td><td>Low-DNase               </td><td>ccre_v3</td><td>1</td></tr>\n",
       "</tbody>\n",
       "</table>\n"
      ],
      "text/latex": [
       "A tibble: 6 × 4\n",
       "\\begin{tabular}{llll}\n",
       " Peak & Category & Annotation & Count\\\\\n",
       " <chr> & <chr> & <chr> & <int>\\\\\n",
       "\\hline\n",
       "\t chr10\\_100009096\\_100010466 & DNase-H3K4me3,CTCF-bound & ccre\\_v3 & 2\\\\\n",
       "\t chr10\\_100009096\\_100010466 & Low-DNase                & ccre\\_v3 & 1\\\\\n",
       "\t chr10\\_100009096\\_100010466 & PLS,CTCF-bound           & ccre\\_v3 & 1\\\\\n",
       "\t chr10\\_100020710\\_100021134 & Low-DNase                & ccre\\_v3 & 2\\\\\n",
       "\t chr10\\_100045961\\_100046653 & CTCF-only,CTCF-bound     & ccre\\_v3 & 1\\\\\n",
       "\t chr10\\_100065094\\_100065486 & Low-DNase                & ccre\\_v3 & 1\\\\\n",
       "\\end{tabular}\n"
      ],
      "text/markdown": [
       "\n",
       "A tibble: 6 × 4\n",
       "\n",
       "| Peak &lt;chr&gt; | Category &lt;chr&gt; | Annotation &lt;chr&gt; | Count &lt;int&gt; |\n",
       "|---|---|---|---|\n",
       "| chr10_100009096_100010466 | DNase-H3K4me3,CTCF-bound | ccre_v3 | 2 |\n",
       "| chr10_100009096_100010466 | Low-DNase                | ccre_v3 | 1 |\n",
       "| chr10_100009096_100010466 | PLS,CTCF-bound           | ccre_v3 | 1 |\n",
       "| chr10_100020710_100021134 | Low-DNase                | ccre_v3 | 2 |\n",
       "| chr10_100045961_100046653 | CTCF-only,CTCF-bound     | ccre_v3 | 1 |\n",
       "| chr10_100065094_100065486 | Low-DNase                | ccre_v3 | 1 |\n",
       "\n"
      ],
      "text/plain": [
       "  Peak                      Category                 Annotation Count\n",
       "1 chr10_100009096_100010466 DNase-H3K4me3,CTCF-bound ccre_v3    2    \n",
       "2 chr10_100009096_100010466 Low-DNase                ccre_v3    1    \n",
       "3 chr10_100009096_100010466 PLS,CTCF-bound           ccre_v3    1    \n",
       "4 chr10_100020710_100021134 Low-DNase                ccre_v3    2    \n",
       "5 chr10_100045961_100046653 CTCF-only,CTCF-bound     ccre_v3    1    \n",
       "6 chr10_100065094_100065486 Low-DNase                ccre_v3    1    "
      ]
     },
     "metadata": {},
     "output_type": "display_data"
    }
   ],
   "source": [
    "lst = lst_peak_annot\n",
    "dat = bind_rows(lst)\n",
    "dat = dat %>% \n",
    "    dplyr::select(Peak, Category, Annotation) %>%\n",
    "    dplyr::group_by(Peak, Category, Annotation) %>%\n",
    "    dplyr::summarize(Count = n(), .groups = \"drop\") %>%\n",
    "    dplyr::arrange(Annotation, Peak, Category, Count)\n",
    "\n",
    "dat_peak_summary_ccre = dat\n",
    "print(dim(dat))\n",
    "head(dat)"
   ]
  },
  {
   "cell_type": "code",
   "execution_count": 35,
   "metadata": {},
   "outputs": [],
   "source": [
    "fdiry = file.path(FD_RES, \"results\", \"region\", \"KS91_K562_ASTARRseq_peak_macs_input\", \"summary\")\n",
    "fname = \"peak.summary.ccre.tsv\"\n",
    "fpath = file.path(fdiry, fname)\n",
    "\n",
    "write_tsv(dat_peak_summary_ccre, fpath)"
   ]
  },
  {
   "cell_type": "code",
   "execution_count": 36,
   "metadata": {},
   "outputs": [],
   "source": [
    "library(\"UpSetR\")"
   ]
  },
  {
   "cell_type": "code",
   "execution_count": 38,
   "metadata": {},
   "outputs": [
    {
     "name": "stdout",
     "output_type": "stream",
     "text": [
      " [1] \"DNase-H3K4me3,CTCF-bound\" \"Low-DNase\"               \n",
      " [3] \"PLS,CTCF-bound\"           \"CTCF-only,CTCF-bound\"    \n",
      " [5] \"PLS\"                      \"pELS\"                    \n",
      " [7] \"pELS,CTCF-bound\"          \"dELS\"                    \n",
      " [9] \"DNase-only\"               \"DNase-H3K4me3\"           \n",
      "[11] \"dELS,CTCF-bound\"         \n"
     ]
    }
   ],
   "source": [
    "dat = dat_peak_summary_ccre\n",
    "dat = dat %>% dplyr::filter(Annotation == \"ccre_v3\")\n",
    "lst = split(dat$Peak, dat$Category)\n",
    "print(unique(dat$Category))"
   ]
  },
  {
   "cell_type": "code",
   "execution_count": 43,
   "metadata": {},
   "outputs": [
    {
     "name": "stdout",
     "output_type": "stream",
     "text": [
      "[1] 11\n",
      " [1] \"CTCF-only,CTCF-bound\"     \"dELS\"                    \n",
      " [3] \"dELS,CTCF-bound\"          \"DNase-H3K4me3\"           \n",
      " [5] \"DNase-H3K4me3,CTCF-bound\" \"DNase-only\"              \n",
      " [7] \"Low-DNase\"                \"pELS\"                    \n",
      " [9] \"pELS,CTCF-bound\"          \"PLS\"                     \n",
      "[11] \"PLS,CTCF-bound\"          \n",
      "\n",
      "\n",
      "CTCF-only,CTCF-bound | 12088 \n",
      "dELS | 9237 \n",
      "dELS,CTCF-bound | 1994 \n",
      "DNase-H3K4me3 | 2896 \n",
      "DNase-H3K4me3,CTCF-bound | 1533 \n",
      "DNase-only | 6325 \n",
      "Low-DNase | 113641 \n",
      "pELS | 10443 \n",
      "pELS,CTCF-bound | 3200 \n",
      "PLS | 9644 \n",
      "PLS,CTCF-bound | 2934 \n"
     ]
    }
   ],
   "source": [
    "print(length(lst))\n",
    "print(names(lst))\n",
    "cat(\"\\n\\n\")\n",
    "for (idx in names(lst)){\n",
    "    vec = lst[[idx]]\n",
    "    cat(idx, \"|\", length(vec), \"\\n\")\n",
    "}"
   ]
  },
  {
   "cell_type": "code",
   "execution_count": 47,
   "metadata": {},
   "outputs": [
    {
     "data": {
      "image/png": "[encoded data removed]",
      "text/plain": [
       "plot without title"
      ]
     },
     "metadata": {
      "image/png": {
       "height": 600,
       "width": 1200
      }
     },
     "output_type": "display_data"
    }
   ],
   "source": [
    "options(repr.plot.height=10, repr.plot.width=20)\n",
    "upset(fromList(lst), order.by = \"freq\", text.scale = 2, nsets = 11)"
   ]
  },
  {
   "cell_type": "code",
   "execution_count": 48,
   "metadata": {},
   "outputs": [
    {
     "name": "stdout",
     "output_type": "stream",
     "text": [
      "[1] \"CA-H3K4me3\" \"Low-DNase\"  \"PLS\"        \"pELS\"       \"CA-CTCF\"   \n",
      "[6] \"CA-TF\"      \"dELS\"       \"CA-only\"   \n"
     ]
    }
   ],
   "source": [
    "dat = dat_peak_summary_ccre\n",
    "dat = dat %>% dplyr::filter(Annotation == \"ccre_v4\")\n",
    "lst = split(dat$Peak, dat$Category)\n",
    "print(unique(dat$Category))"
   ]
  },
  {
   "cell_type": "code",
   "execution_count": 49,
   "metadata": {},
   "outputs": [
    {
     "name": "stdout",
     "output_type": "stream",
     "text": [
      "[1] 8\n",
      "[1] \"CA-CTCF\"    \"CA-H3K4me3\" \"CA-only\"    \"CA-TF\"      \"dELS\"      \n",
      "[6] \"Low-DNase\"  \"pELS\"       \"PLS\"       \n",
      "\n",
      "\n",
      "CA-CTCF | 23298 \n",
      "CA-H3K4me3 | 3240 \n",
      "CA-only | 1546 \n",
      "CA-TF | 26756 \n",
      "dELS | 15782 \n",
      "Low-DNase | 181650 \n",
      "pELS | 12960 \n",
      "PLS | 12077 \n"
     ]
    }
   ],
   "source": [
    "print(length(lst))\n",
    "print(names(lst))\n",
    "cat(\"\\n\\n\")\n",
    "for (idx in names(lst)){\n",
    "    vec = lst[[idx]]\n",
    "    cat(idx, \"|\", length(vec), \"\\n\")\n",
    "}"
   ]
  },
  {
   "cell_type": "code",
   "execution_count": 50,
   "metadata": {},
   "outputs": [
    {
     "data": {
      "image/png": "[encoded data removed]",
      "text/plain": [
       "plot without title"
      ]
     },
     "metadata": {
      "image/png": {
       "height": 600,
       "width": 1200
      }
     },
     "output_type": "display_data"
    }
   ],
   "source": [
    "options(repr.plot.height=10, repr.plot.width=20)\n",
    "upset(fromList(lst), order.by = \"freq\", text.scale = 2, nsets = 8)"
   ]
  },
  {
   "cell_type": "code",
   "execution_count": null,
   "metadata": {},
   "outputs": [],
   "source": []
  }
 ],
 "metadata": {
  "kernelspec": {
   "display_name": "R",
   "language": "R",
   "name": "ir"
  },
  "language_info": {
   "codemirror_mode": "r",
   "file_extension": ".r",
   "mimetype": "text/x-r-source",
   "name": "R",
   "pygments_lexer": "r",
   "version": "4.3.0"
  }
 },
 "nbformat": 4,
 "nbformat_minor": 4
}
