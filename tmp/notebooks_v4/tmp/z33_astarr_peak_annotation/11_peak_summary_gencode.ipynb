{
 "cells": [
  {
   "cell_type": "markdown",
   "metadata": {},
   "source": [
    "**Set environment**"
   ]
  },
  {
   "cell_type": "code",
   "execution_count": 2,
   "metadata": {},
   "outputs": [
    {
     "name": "stdout",
     "output_type": "stream",
     "text": [
      "You are in Singularity: singularity_proj_encode_fcc \n",
      "BASE DIRECTORY (FD_BASE): /data/reddylab/Kuei \n",
      "WORK DIRECTORY (FD_WORK): /data/reddylab/Kuei/out \n",
      "CODE DIRECTORY (FD_CODE): /data/reddylab/Kuei/code \n",
      "PATH OF PROJECT (FD_PRJ): /data/reddylab/Kuei/code/Proj_CombEffect_ENCODE_FCC \n",
      "PATH OF RESULTS (FD_RES): /data/reddylab/Kuei/out/proj_combeffect_encode_fcc \n",
      "PATH OF LOG     (FD_LOG): /data/reddylab/Kuei/out/proj_combeffect_encode_fcc/log \n"
     ]
    }
   ],
   "source": [
    "suppressMessages(suppressWarnings(source(\"../config/config_sing.R\")))\n",
    "show_env()"
   ]
  },
  {
   "cell_type": "markdown",
   "metadata": {},
   "source": [
    "**Check data**"
   ]
  },
  {
   "cell_type": "code",
   "execution_count": 3,
   "metadata": {},
   "outputs": [
    {
     "name": "stdout",
     "output_type": "stream",
     "text": [
      "[1] \"KS91_K562_hg38_ASTARRseq_Input.all_reps.masked.union_narrowPeak.q5.bed\"\n",
      "[2] \"peak.annotation.crispri_casa_peak.bed.gz\"                              \n",
      "[3] \"peak.annotation.enhancer_junke_peak_astarr.bed.gz\"                     \n",
      "[4] \"peak.annotation.enhancer_junke_peak_wstarr.bed.gz\"                     \n",
      "[5] \"peak.annotation.gencode_v24_tes.bed.gz\"                                \n",
      "[6] \"peak.annotation.gencode_v24_tss.bed.gz\"                                \n"
     ]
    }
   ],
   "source": [
    "fdiry = file.path(FD_RES, \"results\", \"region\", \"KS91_K562_ASTARRseq_peak_macs_input\")\n",
    "print(dir(fdiry))"
   ]
  },
  {
   "cell_type": "markdown",
   "metadata": {},
   "source": [
    "## Import data"
   ]
  },
  {
   "cell_type": "code",
   "execution_count": 11,
   "metadata": {},
   "outputs": [
    {
     "name": "stdout",
     "output_type": "stream",
     "text": [
      "[1] 23742    14\n"
     ]
    },
    {
     "data": {
      "text/html": [
       "<table class=\"dataframe\">\n",
       "<caption>A tibble: 6 × 14</caption>\n",
       "<thead>\n",
       "\t<tr><th scope=col>Chrom</th><th scope=col>Start</th><th scope=col>End</th><th scope=col>Chrom_TSS</th><th scope=col>Start_TSS</th><th scope=col>End_TSS</th><th scope=col>Name_TSS</th><th scope=col>Score</th><th scope=col>Strand</th><th scope=col>Gene_Symbol</th><th scope=col>X</th><th scope=col>Note</th><th scope=col>Overlap</th><th scope=col>Peak</th></tr>\n",
       "\t<tr><th scope=col>&lt;chr&gt;</th><th scope=col>&lt;dbl&gt;</th><th scope=col>&lt;dbl&gt;</th><th scope=col>&lt;chr&gt;</th><th scope=col>&lt;dbl&gt;</th><th scope=col>&lt;dbl&gt;</th><th scope=col>&lt;chr&gt;</th><th scope=col>&lt;chr&gt;</th><th scope=col>&lt;chr&gt;</th><th scope=col>&lt;chr&gt;</th><th scope=col>&lt;dbl&gt;</th><th scope=col>&lt;chr&gt;</th><th scope=col>&lt;dbl&gt;</th><th scope=col>&lt;chr&gt;</th></tr>\n",
       "</thead>\n",
       "<tbody>\n",
       "\t<tr><td>chr1</td><td> 17237</td><td> 17772</td><td>chr1</td><td> 17436</td><td> 17437</td><td>ENSG00000278267.1 </td><td>.</td><td>-</td><td>MIR6859-1      </td><td>3</td><td>HGNC:50039          </td><td>1</td><td>chr1_17237_17772  </td></tr>\n",
       "\t<tr><td>chr1</td><td> 28903</td><td> 29613</td><td>chr1</td><td> 29570</td><td> 29571</td><td>ENSG00000227232.5 </td><td>.</td><td>-</td><td>WASH7P         </td><td>2</td><td>HGNC:38034          </td><td>1</td><td>chr1_28903_29613  </td></tr>\n",
       "\t<tr><td>chr1</td><td> 28903</td><td> 29613</td><td>chr1</td><td> 29553</td><td> 29554</td><td>ENSG00000243485.5 </td><td>.</td><td>+</td><td>MIR1302-2HG    </td><td>2</td><td>HGNC:52482          </td><td>1</td><td>chr1_28903_29613  </td></tr>\n",
       "\t<tr><td>chr1</td><td>137737</td><td>139544</td><td>chr1</td><td>137965</td><td>137966</td><td>ENSG00000269981.1 </td><td>.</td><td>-</td><td>ENSG00000269981</td><td>2</td><td>OTTHUMG00000182738.2</td><td>1</td><td>chr1_137737_139544</td></tr>\n",
       "\t<tr><td>chr1</td><td>777949</td><td>779437</td><td>chr1</td><td>778688</td><td>778689</td><td>ENSG00000291215.1 </td><td>.</td><td>-</td><td>ENSG00000291215</td><td>2</td><td>ncRNA_host          </td><td>1</td><td>chr1_777949_779437</td></tr>\n",
       "\t<tr><td>chr1</td><td>777949</td><td>779437</td><td>chr1</td><td>778746</td><td>778747</td><td>ENSG00000237491.10</td><td>.</td><td>+</td><td>LINC01409      </td><td>2</td><td>HGNC:50701          </td><td>1</td><td>chr1_777949_779437</td></tr>\n",
       "</tbody>\n",
       "</table>\n"
      ],
      "text/latex": [
       "A tibble: 6 × 14\n",
       "\\begin{tabular}{llllllllllllll}\n",
       " Chrom & Start & End & Chrom\\_TSS & Start\\_TSS & End\\_TSS & Name\\_TSS & Score & Strand & Gene\\_Symbol & X & Note & Overlap & Peak\\\\\n",
       " <chr> & <dbl> & <dbl> & <chr> & <dbl> & <dbl> & <chr> & <chr> & <chr> & <chr> & <dbl> & <chr> & <dbl> & <chr>\\\\\n",
       "\\hline\n",
       "\t chr1 &  17237 &  17772 & chr1 &  17436 &  17437 & ENSG00000278267.1  & . & - & MIR6859-1       & 3 & HGNC:50039           & 1 & chr1\\_17237\\_17772  \\\\\n",
       "\t chr1 &  28903 &  29613 & chr1 &  29570 &  29571 & ENSG00000227232.5  & . & - & WASH7P          & 2 & HGNC:38034           & 1 & chr1\\_28903\\_29613  \\\\\n",
       "\t chr1 &  28903 &  29613 & chr1 &  29553 &  29554 & ENSG00000243485.5  & . & + & MIR1302-2HG     & 2 & HGNC:52482           & 1 & chr1\\_28903\\_29613  \\\\\n",
       "\t chr1 & 137737 & 139544 & chr1 & 137965 & 137966 & ENSG00000269981.1  & . & - & ENSG00000269981 & 2 & OTTHUMG00000182738.2 & 1 & chr1\\_137737\\_139544\\\\\n",
       "\t chr1 & 777949 & 779437 & chr1 & 778688 & 778689 & ENSG00000291215.1  & . & - & ENSG00000291215 & 2 & ncRNA\\_host           & 1 & chr1\\_777949\\_779437\\\\\n",
       "\t chr1 & 777949 & 779437 & chr1 & 778746 & 778747 & ENSG00000237491.10 & . & + & LINC01409       & 2 & HGNC:50701           & 1 & chr1\\_777949\\_779437\\\\\n",
       "\\end{tabular}\n"
      ],
      "text/markdown": [
       "\n",
       "A tibble: 6 × 14\n",
       "\n",
       "| Chrom &lt;chr&gt; | Start &lt;dbl&gt; | End &lt;dbl&gt; | Chrom_TSS &lt;chr&gt; | Start_TSS &lt;dbl&gt; | End_TSS &lt;dbl&gt; | Name_TSS &lt;chr&gt; | Score &lt;chr&gt; | Strand &lt;chr&gt; | Gene_Symbol &lt;chr&gt; | X &lt;dbl&gt; | Note &lt;chr&gt; | Overlap &lt;dbl&gt; | Peak &lt;chr&gt; |\n",
       "|---|---|---|---|---|---|---|---|---|---|---|---|---|---|\n",
       "| chr1 |  17237 |  17772 | chr1 |  17436 |  17437 | ENSG00000278267.1  | . | - | MIR6859-1       | 3 | HGNC:50039           | 1 | chr1_17237_17772   |\n",
       "| chr1 |  28903 |  29613 | chr1 |  29570 |  29571 | ENSG00000227232.5  | . | - | WASH7P          | 2 | HGNC:38034           | 1 | chr1_28903_29613   |\n",
       "| chr1 |  28903 |  29613 | chr1 |  29553 |  29554 | ENSG00000243485.5  | . | + | MIR1302-2HG     | 2 | HGNC:52482           | 1 | chr1_28903_29613   |\n",
       "| chr1 | 137737 | 139544 | chr1 | 137965 | 137966 | ENSG00000269981.1  | . | - | ENSG00000269981 | 2 | OTTHUMG00000182738.2 | 1 | chr1_137737_139544 |\n",
       "| chr1 | 777949 | 779437 | chr1 | 778688 | 778689 | ENSG00000291215.1  | . | - | ENSG00000291215 | 2 | ncRNA_host           | 1 | chr1_777949_779437 |\n",
       "| chr1 | 777949 | 779437 | chr1 | 778746 | 778747 | ENSG00000237491.10 | . | + | LINC01409       | 2 | HGNC:50701           | 1 | chr1_777949_779437 |\n",
       "\n"
      ],
      "text/plain": [
       "  Chrom Start  End    Chrom_TSS Start_TSS End_TSS Name_TSS           Score\n",
       "1 chr1   17237  17772 chr1       17436     17437  ENSG00000278267.1  .    \n",
       "2 chr1   28903  29613 chr1       29570     29571  ENSG00000227232.5  .    \n",
       "3 chr1   28903  29613 chr1       29553     29554  ENSG00000243485.5  .    \n",
       "4 chr1  137737 139544 chr1      137965    137966  ENSG00000269981.1  .    \n",
       "5 chr1  777949 779437 chr1      778688    778689  ENSG00000291215.1  .    \n",
       "6 chr1  777949 779437 chr1      778746    778747  ENSG00000237491.10 .    \n",
       "  Strand Gene_Symbol     X Note                 Overlap Peak              \n",
       "1 -      MIR6859-1       3 HGNC:50039           1       chr1_17237_17772  \n",
       "2 -      WASH7P          2 HGNC:38034           1       chr1_28903_29613  \n",
       "3 +      MIR1302-2HG     2 HGNC:52482           1       chr1_28903_29613  \n",
       "4 -      ENSG00000269981 2 OTTHUMG00000182738.2 1       chr1_137737_139544\n",
       "5 -      ENSG00000291215 2 ncRNA_host           1       chr1_777949_779437\n",
       "6 +      LINC01409       2 HGNC:50701           1       chr1_777949_779437"
      ]
     },
     "metadata": {},
     "output_type": "display_data"
    }
   ],
   "source": [
    "### set file path\n",
    "fdiry = file.path(FD_RES, \"results\", \"region\", \"KS91_K562_ASTARRseq_peak_macs_input\")\n",
    "fname = \"peak.annotation.gencode_v24_tss.bed.gz\"\n",
    "fpath = file.path(fdiry, fname)\n",
    "\n",
    "\n",
    "### import data\n",
    "cnames = c(\n",
    "    \"Chrom\",     \"Start\",     \"End\", \n",
    "    \"Chrom_TSS\", \"Start_TSS\", \"End_TSS\", \"Name_TSS\", \"Score\", \"Strand\", \n",
    "    \"Gene_Symbol\", \"X\", \"Note\", \n",
    "    \"Overlap\")\n",
    "dat = read_tsv(fpath, col_names = cnames, show_col_types = FALSE)\n",
    "dat = dat %>% mutate(Peak = paste(Chrom, Start, End, sep=\"_\"))\n",
    "\n",
    "### assign\n",
    "dat_peak_annot_tss = dat\n",
    "print(dim(dat))\n",
    "head(dat)"
   ]
  },
  {
   "cell_type": "code",
   "execution_count": 12,
   "metadata": {},
   "outputs": [
    {
     "name": "stdout",
     "output_type": "stream",
     "text": [
      "[1] 6764   14\n"
     ]
    },
    {
     "data": {
      "text/html": [
       "<table class=\"dataframe\">\n",
       "<caption>A tibble: 6 × 14</caption>\n",
       "<thead>\n",
       "\t<tr><th scope=col>Chrom</th><th scope=col>Start</th><th scope=col>End</th><th scope=col>Chrom_TES</th><th scope=col>Start_TES</th><th scope=col>End_TES</th><th scope=col>Name_TES</th><th scope=col>Score</th><th scope=col>Strand</th><th scope=col>Gene_Symbol</th><th scope=col>X</th><th scope=col>Note</th><th scope=col>Overlap</th><th scope=col>Peak</th></tr>\n",
       "\t<tr><th scope=col>&lt;chr&gt;</th><th scope=col>&lt;dbl&gt;</th><th scope=col>&lt;dbl&gt;</th><th scope=col>&lt;chr&gt;</th><th scope=col>&lt;dbl&gt;</th><th scope=col>&lt;dbl&gt;</th><th scope=col>&lt;chr&gt;</th><th scope=col>&lt;chr&gt;</th><th scope=col>&lt;chr&gt;</th><th scope=col>&lt;chr&gt;</th><th scope=col>&lt;dbl&gt;</th><th scope=col>&lt;chr&gt;</th><th scope=col>&lt;dbl&gt;</th><th scope=col>&lt;chr&gt;</th></tr>\n",
       "</thead>\n",
       "<tbody>\n",
       "\t<tr><td>chr1</td><td> 14253</td><td> 14645</td><td>chr1</td><td> 14409</td><td> 14410</td><td>ENSG00000290825.1</td><td>.</td><td>+</td><td>DDX11L2  </td><td>2</td><td>overlaps_pseudogene</td><td>1</td><td>chr1_14253_14645  </td></tr>\n",
       "\t<tr><td>chr1</td><td> 14253</td><td> 14645</td><td>chr1</td><td> 14403</td><td> 14404</td><td>ENSG00000227232.5</td><td>.</td><td>-</td><td>WASH7P   </td><td>2</td><td>HGNC:38034         </td><td>1</td><td>chr1_14253_14645  </td></tr>\n",
       "\t<tr><td>chr1</td><td> 17237</td><td> 17772</td><td>chr1</td><td> 17368</td><td> 17369</td><td>ENSG00000278267.1</td><td>.</td><td>-</td><td>MIR6859-1</td><td>3</td><td>HGNC:50039         </td><td>1</td><td>chr1_17237_17772  </td></tr>\n",
       "\t<tr><td>chr1</td><td>183239</td><td>184602</td><td>chr1</td><td>184174</td><td>184175</td><td>ENSG00000279928.2</td><td>.</td><td>+</td><td>DDX11L17 </td><td>2</td><td>HGNC:55080         </td><td>1</td><td>chr1_183239_184602</td></tr>\n",
       "\t<tr><td>chr1</td><td>819732</td><td>820291</td><td>chr1</td><td>819837</td><td>819838</td><td>ENSG00000177757.2</td><td>.</td><td>+</td><td>FAM87B   </td><td>2</td><td>HGNC:32236         </td><td>1</td><td>chr1_819732_820291</td></tr>\n",
       "\t<tr><td>chr1</td><td>916493</td><td>917278</td><td>chr1</td><td>916864</td><td>916865</td><td>ENSG00000223764.2</td><td>.</td><td>-</td><td>LINC02593</td><td>2</td><td>HGNC:53933         </td><td>1</td><td>chr1_916493_917278</td></tr>\n",
       "</tbody>\n",
       "</table>\n"
      ],
      "text/latex": [
       "A tibble: 6 × 14\n",
       "\\begin{tabular}{llllllllllllll}\n",
       " Chrom & Start & End & Chrom\\_TES & Start\\_TES & End\\_TES & Name\\_TES & Score & Strand & Gene\\_Symbol & X & Note & Overlap & Peak\\\\\n",
       " <chr> & <dbl> & <dbl> & <chr> & <dbl> & <dbl> & <chr> & <chr> & <chr> & <chr> & <dbl> & <chr> & <dbl> & <chr>\\\\\n",
       "\\hline\n",
       "\t chr1 &  14253 &  14645 & chr1 &  14409 &  14410 & ENSG00000290825.1 & . & + & DDX11L2   & 2 & overlaps\\_pseudogene & 1 & chr1\\_14253\\_14645  \\\\\n",
       "\t chr1 &  14253 &  14645 & chr1 &  14403 &  14404 & ENSG00000227232.5 & . & - & WASH7P    & 2 & HGNC:38034          & 1 & chr1\\_14253\\_14645  \\\\\n",
       "\t chr1 &  17237 &  17772 & chr1 &  17368 &  17369 & ENSG00000278267.1 & . & - & MIR6859-1 & 3 & HGNC:50039          & 1 & chr1\\_17237\\_17772  \\\\\n",
       "\t chr1 & 183239 & 184602 & chr1 & 184174 & 184175 & ENSG00000279928.2 & . & + & DDX11L17  & 2 & HGNC:55080          & 1 & chr1\\_183239\\_184602\\\\\n",
       "\t chr1 & 819732 & 820291 & chr1 & 819837 & 819838 & ENSG00000177757.2 & . & + & FAM87B    & 2 & HGNC:32236          & 1 & chr1\\_819732\\_820291\\\\\n",
       "\t chr1 & 916493 & 917278 & chr1 & 916864 & 916865 & ENSG00000223764.2 & . & - & LINC02593 & 2 & HGNC:53933          & 1 & chr1\\_916493\\_917278\\\\\n",
       "\\end{tabular}\n"
      ],
      "text/markdown": [
       "\n",
       "A tibble: 6 × 14\n",
       "\n",
       "| Chrom &lt;chr&gt; | Start &lt;dbl&gt; | End &lt;dbl&gt; | Chrom_TES &lt;chr&gt; | Start_TES &lt;dbl&gt; | End_TES &lt;dbl&gt; | Name_TES &lt;chr&gt; | Score &lt;chr&gt; | Strand &lt;chr&gt; | Gene_Symbol &lt;chr&gt; | X &lt;dbl&gt; | Note &lt;chr&gt; | Overlap &lt;dbl&gt; | Peak &lt;chr&gt; |\n",
       "|---|---|---|---|---|---|---|---|---|---|---|---|---|---|\n",
       "| chr1 |  14253 |  14645 | chr1 |  14409 |  14410 | ENSG00000290825.1 | . | + | DDX11L2   | 2 | overlaps_pseudogene | 1 | chr1_14253_14645   |\n",
       "| chr1 |  14253 |  14645 | chr1 |  14403 |  14404 | ENSG00000227232.5 | . | - | WASH7P    | 2 | HGNC:38034          | 1 | chr1_14253_14645   |\n",
       "| chr1 |  17237 |  17772 | chr1 |  17368 |  17369 | ENSG00000278267.1 | . | - | MIR6859-1 | 3 | HGNC:50039          | 1 | chr1_17237_17772   |\n",
       "| chr1 | 183239 | 184602 | chr1 | 184174 | 184175 | ENSG00000279928.2 | . | + | DDX11L17  | 2 | HGNC:55080          | 1 | chr1_183239_184602 |\n",
       "| chr1 | 819732 | 820291 | chr1 | 819837 | 819838 | ENSG00000177757.2 | . | + | FAM87B    | 2 | HGNC:32236          | 1 | chr1_819732_820291 |\n",
       "| chr1 | 916493 | 917278 | chr1 | 916864 | 916865 | ENSG00000223764.2 | . | - | LINC02593 | 2 | HGNC:53933          | 1 | chr1_916493_917278 |\n",
       "\n"
      ],
      "text/plain": [
       "  Chrom Start  End    Chrom_TES Start_TES End_TES Name_TES          Score\n",
       "1 chr1   14253  14645 chr1       14409     14410  ENSG00000290825.1 .    \n",
       "2 chr1   14253  14645 chr1       14403     14404  ENSG00000227232.5 .    \n",
       "3 chr1   17237  17772 chr1       17368     17369  ENSG00000278267.1 .    \n",
       "4 chr1  183239 184602 chr1      184174    184175  ENSG00000279928.2 .    \n",
       "5 chr1  819732 820291 chr1      819837    819838  ENSG00000177757.2 .    \n",
       "6 chr1  916493 917278 chr1      916864    916865  ENSG00000223764.2 .    \n",
       "  Strand Gene_Symbol X Note                Overlap Peak              \n",
       "1 +      DDX11L2     2 overlaps_pseudogene 1       chr1_14253_14645  \n",
       "2 -      WASH7P      2 HGNC:38034          1       chr1_14253_14645  \n",
       "3 -      MIR6859-1   3 HGNC:50039          1       chr1_17237_17772  \n",
       "4 +      DDX11L17    2 HGNC:55080          1       chr1_183239_184602\n",
       "5 +      FAM87B      2 HGNC:32236          1       chr1_819732_820291\n",
       "6 -      LINC02593   2 HGNC:53933          1       chr1_916493_917278"
      ]
     },
     "metadata": {},
     "output_type": "display_data"
    }
   ],
   "source": [
    "### set file path\n",
    "fdiry = file.path(FD_RES, \"results\", \"region\", \"KS91_K562_ASTARRseq_peak_macs_input\")\n",
    "fname = \"peak.annotation.gencode_v24_tes.bed.gz\"\n",
    "fpath = file.path(fdiry, fname)\n",
    "\n",
    "\n",
    "### import data\n",
    "cnames = c(\n",
    "    \"Chrom\",     \"Start\",     \"End\", \n",
    "    \"Chrom_TES\", \"Start_TES\", \"End_TES\", \"Name_TES\", \"Score\", \"Strand\", \n",
    "    \"Gene_Symbol\", \"X\", \"Note\", \n",
    "    \"Overlap\")\n",
    "dat = read_tsv(fpath, col_names = cnames, show_col_types = FALSE)\n",
    "dat = dat %>% mutate(Peak = paste(Chrom, Start, End, sep=\"_\"))\n",
    "\n",
    "### assign\n",
    "dat_peak_annot_tes = dat\n",
    "print(dim(dat))\n",
    "head(dat)"
   ]
  },
  {
   "cell_type": "markdown",
   "metadata": {},
   "source": [
    "## Summarize"
   ]
  },
  {
   "cell_type": "code",
   "execution_count": 13,
   "metadata": {},
   "outputs": [
    {
     "name": "stdout",
     "output_type": "stream",
     "text": [
      "[1] 19001     4\n"
     ]
    },
    {
     "data": {
      "text/html": [
       "<table class=\"dataframe\">\n",
       "<caption>A tibble: 6 × 4</caption>\n",
       "<thead>\n",
       "\t<tr><th scope=col>Peak</th><th scope=col>Name</th><th scope=col>Count</th><th scope=col>Annotate</th></tr>\n",
       "\t<tr><th scope=col>&lt;chr&gt;</th><th scope=col>&lt;chr&gt;</th><th scope=col>&lt;int&gt;</th><th scope=col>&lt;chr&gt;</th></tr>\n",
       "</thead>\n",
       "<tbody>\n",
       "\t<tr><td>chr10_100009096_100010466</td><td>TSS</td><td>1</td><td>ENSG00000107554.17                  </td></tr>\n",
       "\t<tr><td>chr10_100185017_100187275</td><td>TSS</td><td>1</td><td>ENSG00000107566.14                  </td></tr>\n",
       "\t<tr><td>chr10_100228452_100230090</td><td>TSS</td><td>2</td><td>ENSG00000213341.11,ENSG00000227492.2</td></tr>\n",
       "\t<tr><td>chr10_100267066_100268374</td><td>TSS</td><td>1</td><td>ENSG00000095485.18                  </td></tr>\n",
       "\t<tr><td>chr10_100285974_100287341</td><td>TSS</td><td>1</td><td>ENSG00000196072.12                  </td></tr>\n",
       "\t<tr><td>chr10_100346328_100347693</td><td>TSS</td><td>2</td><td>ENSG00000231188.1,ENSG00000099194.6 </td></tr>\n",
       "</tbody>\n",
       "</table>\n"
      ],
      "text/latex": [
       "A tibble: 6 × 4\n",
       "\\begin{tabular}{llll}\n",
       " Peak & Name & Count & Annotate\\\\\n",
       " <chr> & <chr> & <int> & <chr>\\\\\n",
       "\\hline\n",
       "\t chr10\\_100009096\\_100010466 & TSS & 1 & ENSG00000107554.17                  \\\\\n",
       "\t chr10\\_100185017\\_100187275 & TSS & 1 & ENSG00000107566.14                  \\\\\n",
       "\t chr10\\_100228452\\_100230090 & TSS & 2 & ENSG00000213341.11,ENSG00000227492.2\\\\\n",
       "\t chr10\\_100267066\\_100268374 & TSS & 1 & ENSG00000095485.18                  \\\\\n",
       "\t chr10\\_100285974\\_100287341 & TSS & 1 & ENSG00000196072.12                  \\\\\n",
       "\t chr10\\_100346328\\_100347693 & TSS & 2 & ENSG00000231188.1,ENSG00000099194.6 \\\\\n",
       "\\end{tabular}\n"
      ],
      "text/markdown": [
       "\n",
       "A tibble: 6 × 4\n",
       "\n",
       "| Peak &lt;chr&gt; | Name &lt;chr&gt; | Count &lt;int&gt; | Annotate &lt;chr&gt; |\n",
       "|---|---|---|---|\n",
       "| chr10_100009096_100010466 | TSS | 1 | ENSG00000107554.17                   |\n",
       "| chr10_100185017_100187275 | TSS | 1 | ENSG00000107566.14                   |\n",
       "| chr10_100228452_100230090 | TSS | 2 | ENSG00000213341.11,ENSG00000227492.2 |\n",
       "| chr10_100267066_100268374 | TSS | 1 | ENSG00000095485.18                   |\n",
       "| chr10_100285974_100287341 | TSS | 1 | ENSG00000196072.12                   |\n",
       "| chr10_100346328_100347693 | TSS | 2 | ENSG00000231188.1,ENSG00000099194.6  |\n",
       "\n"
      ],
      "text/plain": [
       "  Peak                      Name Count Annotate                            \n",
       "1 chr10_100009096_100010466 TSS  1     ENSG00000107554.17                  \n",
       "2 chr10_100185017_100187275 TSS  1     ENSG00000107566.14                  \n",
       "3 chr10_100228452_100230090 TSS  2     ENSG00000213341.11,ENSG00000227492.2\n",
       "4 chr10_100267066_100268374 TSS  1     ENSG00000095485.18                  \n",
       "5 chr10_100285974_100287341 TSS  1     ENSG00000196072.12                  \n",
       "6 chr10_100346328_100347693 TSS  2     ENSG00000231188.1,ENSG00000099194.6 "
      ]
     },
     "metadata": {},
     "output_type": "display_data"
    }
   ],
   "source": [
    "###\n",
    "dat = dat_peak_annot_tss\n",
    "dat = dat %>% \n",
    "    dplyr::group_by(Peak) %>% \n",
    "    dplyr::summarize(\n",
    "        Name = \"TSS\",\n",
    "        Count = n(), \n",
    "        Annotate = paste(Name_TSS, collapse = \",\"),\n",
    "        .groups=\"drop\")\n",
    "\n",
    "###\n",
    "dat_peak_count_tss = dat\n",
    "print(dim(dat))\n",
    "head(dat)"
   ]
  },
  {
   "cell_type": "code",
   "execution_count": 15,
   "metadata": {},
   "outputs": [
    {
     "name": "stdout",
     "output_type": "stream",
     "text": [
      "[1] 6290    4\n"
     ]
    },
    {
     "data": {
      "text/html": [
       "<table class=\"dataframe\">\n",
       "<caption>A tibble: 6 × 4</caption>\n",
       "<thead>\n",
       "\t<tr><th scope=col>Peak</th><th scope=col>Name</th><th scope=col>Count</th><th scope=col>Annotate</th></tr>\n",
       "\t<tr><th scope=col>&lt;chr&gt;</th><th scope=col>&lt;chr&gt;</th><th scope=col>&lt;int&gt;</th><th scope=col>&lt;chr&gt;</th></tr>\n",
       "</thead>\n",
       "<tbody>\n",
       "\t<tr><td>chr10_100364513_100365906</td><td>TES</td><td>1</td><td>ENSG00000099194.6 </td></tr>\n",
       "\t<tr><td>chr10_100968842_100970495</td><td>TES</td><td>1</td><td>ENSG00000055950.17</td></tr>\n",
       "\t<tr><td>chr10_101041093_101041563</td><td>TES</td><td>1</td><td>ENSG00000107819.15</td></tr>\n",
       "\t<tr><td>chr10_101066038_101068076</td><td>TES</td><td>1</td><td>ENSG00000288844.1 </td></tr>\n",
       "\t<tr><td>chr10_101226853_101227410</td><td>TES</td><td>1</td><td>ENSG00000138136.7 </td></tr>\n",
       "\t<tr><td>chr10_101310393_101311876</td><td>TES</td><td>1</td><td>ENSG00000225208.1 </td></tr>\n",
       "</tbody>\n",
       "</table>\n"
      ],
      "text/latex": [
       "A tibble: 6 × 4\n",
       "\\begin{tabular}{llll}\n",
       " Peak & Name & Count & Annotate\\\\\n",
       " <chr> & <chr> & <int> & <chr>\\\\\n",
       "\\hline\n",
       "\t chr10\\_100364513\\_100365906 & TES & 1 & ENSG00000099194.6 \\\\\n",
       "\t chr10\\_100968842\\_100970495 & TES & 1 & ENSG00000055950.17\\\\\n",
       "\t chr10\\_101041093\\_101041563 & TES & 1 & ENSG00000107819.15\\\\\n",
       "\t chr10\\_101066038\\_101068076 & TES & 1 & ENSG00000288844.1 \\\\\n",
       "\t chr10\\_101226853\\_101227410 & TES & 1 & ENSG00000138136.7 \\\\\n",
       "\t chr10\\_101310393\\_101311876 & TES & 1 & ENSG00000225208.1 \\\\\n",
       "\\end{tabular}\n"
      ],
      "text/markdown": [
       "\n",
       "A tibble: 6 × 4\n",
       "\n",
       "| Peak &lt;chr&gt; | Name &lt;chr&gt; | Count &lt;int&gt; | Annotate &lt;chr&gt; |\n",
       "|---|---|---|---|\n",
       "| chr10_100364513_100365906 | TES | 1 | ENSG00000099194.6  |\n",
       "| chr10_100968842_100970495 | TES | 1 | ENSG00000055950.17 |\n",
       "| chr10_101041093_101041563 | TES | 1 | ENSG00000107819.15 |\n",
       "| chr10_101066038_101068076 | TES | 1 | ENSG00000288844.1  |\n",
       "| chr10_101226853_101227410 | TES | 1 | ENSG00000138136.7  |\n",
       "| chr10_101310393_101311876 | TES | 1 | ENSG00000225208.1  |\n",
       "\n"
      ],
      "text/plain": [
       "  Peak                      Name Count Annotate          \n",
       "1 chr10_100364513_100365906 TES  1     ENSG00000099194.6 \n",
       "2 chr10_100968842_100970495 TES  1     ENSG00000055950.17\n",
       "3 chr10_101041093_101041563 TES  1     ENSG00000107819.15\n",
       "4 chr10_101066038_101068076 TES  1     ENSG00000288844.1 \n",
       "5 chr10_101226853_101227410 TES  1     ENSG00000138136.7 \n",
       "6 chr10_101310393_101311876 TES  1     ENSG00000225208.1 "
      ]
     },
     "metadata": {},
     "output_type": "display_data"
    }
   ],
   "source": [
    "###\n",
    "dat = dat_peak_annot_tes\n",
    "dat = dat %>% \n",
    "    dplyr::group_by(Peak) %>% \n",
    "    dplyr::summarize(\n",
    "        Name = \"TES\",\n",
    "        Count = n(), \n",
    "        Annotate = paste(Name_TES, collapse = \",\"),\n",
    "        .groups=\"drop\")\n",
    "\n",
    "###\n",
    "dat_peak_count_tes = dat\n",
    "print(dim(dat))\n",
    "head(dat)"
   ]
  },
  {
   "cell_type": "markdown",
   "metadata": {},
   "source": [
    "## Save tables"
   ]
  },
  {
   "cell_type": "code",
   "execution_count": 16,
   "metadata": {},
   "outputs": [],
   "source": [
    "fdiry = file.path(FD_RES, \"results\", \"region\", \"KS91_K562_ASTARRseq_peak_macs_input\")\n",
    "fname = \"peak.summary.gencode_v24_tss.tsv\"\n",
    "fpath = file.path(fdiry, fname)\n",
    "\n",
    "write_tsv(dat_peak_count_tss, fpath)"
   ]
  },
  {
   "cell_type": "code",
   "execution_count": 17,
   "metadata": {},
   "outputs": [],
   "source": [
    "fdiry = file.path(FD_RES, \"results\", \"region\", \"KS91_K562_ASTARRseq_peak_macs_input\")\n",
    "fname = \"peak.summary.gencode_v24_tes.tsv\"\n",
    "fpath = file.path(fdiry, fname)\n",
    "\n",
    "write_tsv(dat_peak_count_tes, fpath)"
   ]
  },
  {
   "cell_type": "code",
   "execution_count": null,
   "metadata": {},
   "outputs": [],
   "source": []
  }
 ],
 "metadata": {
  "kernelspec": {
   "display_name": "R",
   "language": "R",
   "name": "ir"
  },
  "language_info": {
   "codemirror_mode": "r",
   "file_extension": ".r",
   "mimetype": "text/x-r-source",
   "name": "R",
   "pygments_lexer": "r",
   "version": "4.2.3"
  }
 },
 "nbformat": 4,
 "nbformat_minor": 4
}
