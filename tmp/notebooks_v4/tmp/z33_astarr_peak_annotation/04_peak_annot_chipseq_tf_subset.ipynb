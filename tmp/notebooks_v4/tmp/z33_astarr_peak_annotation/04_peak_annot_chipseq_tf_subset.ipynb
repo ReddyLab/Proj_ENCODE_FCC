{
 "cells": [
  {
   "cell_type": "markdown",
   "id": "35e8a7e2-c863-4cd3-accf-d5fe264305ca",
   "metadata": {},
   "source": [
    "**Set environment**"
   ]
  },
  {
   "cell_type": "code",
   "execution_count": 1,
   "id": "a60c08d3-2d24-4a35-b076-6bcae25bb7ab",
   "metadata": {},
   "outputs": [
    {
     "name": "stdout",
     "output_type": "stream",
     "text": [
      "You are on Duke Server: HARDAC\n",
      "BASE DIRECTORY (FD_BASE): /data/reddylab/Kuei\n",
      "WORK DIRECTORY (FD_WORK): /data/reddylab/Kuei/out\n",
      "CODE DIRECTORY (FD_CODE): /data/reddylab/Kuei/code\n",
      "SING DIRECTORY (FD_SING): /data/reddylab/Kuei/singularity\n",
      "PATH OF PROJECT (FD_PRJ): /data/reddylab/Kuei/code/Proj_CombEffect_ENCODE_FCC\n",
      "PATH OF RESULTS (FD_RES): /data/reddylab/Kuei/out/proj_combeffect_encode_fcc\n",
      "PATH OF LOG     (FD_LOG): /data/reddylab/Kuei/out/proj_combeffect_encode_fcc/log\n",
      "\n"
     ]
    }
   ],
   "source": [
    "### set env\n",
    "source ../config/config_duke.sh\n",
    "source ../config/config_load_module_bedtools.sh\n",
    "show_env"
   ]
  },
  {
   "cell_type": "markdown",
   "id": "d936f8d1-60d9-4f3a-b4b3-9dc4cef7d01d",
   "metadata": {},
   "source": [
    "**Check data**"
   ]
  },
  {
   "cell_type": "code",
   "execution_count": 2,
   "id": "2d366f58-be03-46b6-84b9-6125dfe73232",
   "metadata": {},
   "outputs": [
    {
     "name": "stdout",
     "output_type": "stream",
     "text": [
      "\u001b[0m\u001b[38;5;27mannotation_ccre\u001b[0m\n",
      "\u001b[38;5;27mannotation_chipseq_histone\u001b[0m\n",
      "\u001b[38;5;27mannotation_chipseq_tf\u001b[0m\n",
      "\u001b[38;5;27mannotation_chipseq_tf_subset\u001b[0m\n",
      "\u001b[38;5;27mannotation_chromHMM\u001b[0m\n",
      "\u001b[38;5;27mannotation_crispri_hcrff\u001b[0m\n",
      "\u001b[38;5;27mannotation_enhancer_junke\u001b[0m\n",
      "\u001b[38;5;27mannotation_enhancer_zscore_junke\u001b[0m\n",
      "\u001b[38;5;27mannotation_gencode\u001b[0m\n",
      "\u001b[38;5;27mannotation_hic\u001b[0m\n",
      "\u001b[38;5;27mannotation_tss_pol2\u001b[0m\n",
      "\u001b[38;5;27mhic_intact_loop\u001b[0m\n",
      "\u001b[38;5;27mKS91_K562_ASTARRseq_peak_macs_input\u001b[0m\n",
      "region_screened_crispri_flowfish.bed\n",
      "region_screened_selected.bed\n",
      "region_screened_selected_perbase.bed\n",
      "\u001b[38;5;9mregion_screened_selected_perbase.bed.gz\u001b[0m\n",
      "region_screened_tmpra.bed\n",
      "region_screened_tmpra_crispr.bed\n"
     ]
    }
   ],
   "source": [
    "ls -1 ${FD_RES}/results/region"
   ]
  },
  {
   "cell_type": "code",
   "execution_count": 3,
   "id": "51382134-c239-4561-909d-84b4045547c6",
   "metadata": {},
   "outputs": [
    {
     "name": "stdout",
     "output_type": "stream",
     "text": [
      "accession_info_peaks.tsv\n",
      "description.tsv\n",
      "download_log.txt\n",
      "\u001b[0m\u001b[38;5;34mdownload.sh\u001b[0m\n",
      "\u001b[38;5;9mK562.ENCSR000BMH.ENCFF398UQZ.YY1.bed.gz\u001b[0m\n",
      "\u001b[38;5;9mK562.ENCSR000BMW.ENCFF707MDI.REST.bed.gz\u001b[0m\n",
      "\u001b[38;5;9mK562.ENCSR000EFS.ENCFF190CGV.JUN.bed.gz\u001b[0m\n",
      "\u001b[38;5;9mK562.ENCSR000EFT.ENCFF657CTC.GATA1.bed.gz\u001b[0m\n",
      "\u001b[38;5;9mK562.ENCSR000EFU.ENCFF715WGN.ELK1.bed.gz\u001b[0m\n",
      "\u001b[38;5;9mK562.ENCSR000EGE.ENCFF702XPO.EP300.bed.gz\u001b[0m\n",
      "\u001b[38;5;9mK562.ENCSR000EGM.ENCFF660GHM.CTCF.bed.gz\u001b[0m\n",
      "\u001b[38;5;9mK562.ENCSR000EHB.ENCFF852ZRK.TAL1.bed.gz\u001b[0m\n",
      "\u001b[38;5;9mK562.ENCSR004GKA.ENCFF242AOL.ZEB2.bed.gz\u001b[0m\n",
      "\u001b[38;5;9mK562.ENCSR091GVJ.ENCFF627RSK.ATF1.bed.gz\u001b[0m\n",
      "\u001b[38;5;9mK562.ENCSR121SPB.ENCFF142ZTD.KLF10.bed.gz\u001b[0m\n",
      "\u001b[38;5;9mK562.ENCSR388QZF.ENCFF355MNE.POLR2A.bed.gz\u001b[0m\n",
      "\u001b[38;5;9mK562.ENCSR552YGL.ENCFF023IFO.NFE2.bed.gz\u001b[0m\n",
      "\u001b[38;5;9mK562.ENCSR760UVO.ENCFF488OTN.KLF16.bed.gz\u001b[0m\n",
      "\u001b[38;5;9mK562.ENCSR991ELG.ENCFF553GPK.SP1.bed.gz\u001b[0m\n",
      "\u001b[38;5;9mK562.ENCSR998AJK.ENCFF777PKJ.NRF1.bed.gz\u001b[0m\n"
     ]
    }
   ],
   "source": [
    "ls -1 ${FD_RES}/results/region/annotation_chipseq_tf_subset"
   ]
  },
  {
   "cell_type": "code",
   "execution_count": 4,
   "id": "c30252a0-42c2-4b63-aff9-22a757097003",
   "metadata": {},
   "outputs": [
    {
     "name": "stdout",
     "output_type": "stream",
     "text": [
      "16\n",
      "K562.ENCSR000BMH.ENCFF398UQZ.YY1.bed.gz\n",
      "K562.ENCSR000BMW.ENCFF707MDI.REST.bed.gz\n",
      "K562.ENCSR000EFS.ENCFF190CGV.JUN.bed.gz\n",
      "K562.ENCSR000EFT.ENCFF657CTC.GATA1.bed.gz\n",
      "K562.ENCSR000EFU.ENCFF715WGN.ELK1.bed.gz\n",
      "K562.ENCSR000EGE.ENCFF702XPO.EP300.bed.gz\n",
      "K562.ENCSR000EGM.ENCFF660GHM.CTCF.bed.gz\n",
      "K562.ENCSR000EHB.ENCFF852ZRK.TAL1.bed.gz\n",
      "K562.ENCSR004GKA.ENCFF242AOL.ZEB2.bed.gz\n",
      "K562.ENCSR091GVJ.ENCFF627RSK.ATF1.bed.gz\n",
      "K562.ENCSR121SPB.ENCFF142ZTD.KLF10.bed.gz\n",
      "K562.ENCSR388QZF.ENCFF355MNE.POLR2A.bed.gz\n",
      "K562.ENCSR552YGL.ENCFF023IFO.NFE2.bed.gz\n",
      "K562.ENCSR760UVO.ENCFF488OTN.KLF16.bed.gz\n",
      "K562.ENCSR991ELG.ENCFF553GPK.SP1.bed.gz\n",
      "K562.ENCSR998AJK.ENCFF777PKJ.NRF1.bed.gz\n"
     ]
    }
   ],
   "source": [
    "FD_INP=${FD_RES}/results/region/annotation_chipseq_tf_subset\n",
    "FP_INPS=($(ls ${FD_INP}/K562.*.bed.gz))\n",
    "\n",
    "echo ${#FP_INPS[@]}\n",
    "basename -a ${FP_INPS[@]}"
   ]
  },
  {
   "cell_type": "code",
   "execution_count": 5,
   "id": "ff8e802b-585b-452c-9621-f7d7bb950b8e",
   "metadata": {},
   "outputs": [
    {
     "name": "stdout",
     "output_type": "stream",
     "text": [
      "chr1\t778486\t778776\t.\t1000\t.\t132.48683\t-1.00000\t4.33080\t136\n",
      "chr1\t904638\t904883\t.\t1000\t.\t75.95987\t-1.00000\t4.33080\t112\n",
      "chr1\t913032\t913129\t.\t1000\t.\t41.88374\t-1.00000\t3.88398\t56\n",
      "chr1\t921136\t921238\t.\t1000\t.\t50.33578\t-1.00000\t4.33080\t62\n",
      "chr1\t923707\t924017\t.\t1000\t.\t34.69952\t-1.00000\t3.76640\t155\n",
      "chr1\t924711\t925021\t.\t634\t.\t20.27464\t-1.00000\t3.58222\t155\n",
      "chr1\t939152\t939462\t.\t1000\t.\t39.58505\t-1.00000\t3.91418\t155\n",
      "chr1\t939368\t939678\t.\t1000\t.\t17.19876\t-1.00000\t3.52219\t155\n",
      "chr1\t940224\t940534\t.\t686\t.\t24.18068\t-1.00000\t3.70828\t155\n",
      "chr1\t941827\t942137\t.\t1000\t.\t40.54679\t-1.00000\t3.90079\t155\n"
     ]
    }
   ],
   "source": [
    "FD_INP=${FD_RES}/results/region/annotation_chipseq_tf_subset\n",
    "FN_INP=K562.ENCSR000BMH.ENCFF398UQZ.YY1.bed.gz\n",
    "FP_INP=${FD_INP}/${FN_INP}\n",
    "\n",
    "zcat ${FP_INP} | head"
   ]
  },
  {
   "cell_type": "markdown",
   "id": "b4cb0710-3b86-4f56-9a35-ee2f87aafc2d",
   "metadata": {},
   "source": [
    "**RUN**"
   ]
  },
  {
   "cell_type": "code",
   "execution_count": 11,
   "id": "e802cc17-756c-49c2-a354-2900ec64574f",
   "metadata": {},
   "outputs": [
    {
     "name": "stdout",
     "output_type": "stream",
     "text": [
      "Submitted batch job 29811005\n"
     ]
    }
   ],
   "source": [
    "sbatch -p ${NODE} \\\n",
    "    --exclude=dl-01 \\\n",
    "    --cpus-per-task 8 \\\n",
    "    --mem 8G \\\n",
    "    --output ${FD_LOG}/annotation_astarr_peak_macs_input_chipseq_tf_subset.%a.txt \\\n",
    "    --array 0-15 \\\n",
    "    <<'EOF'\n",
    "#!/bin/bash\n",
    "### set directories\n",
    "source ../config/config_duke.sh\n",
    "\n",
    "### print start message\n",
    "timer_start=`date +%s`\n",
    "echo \"Hostname:          \" $(hostname)\n",
    "echo \"Slurm Array Index: \" ${SLURM_ARRAY_TASK_ID}\n",
    "echo \"Time Stamp:        \" $(date +\"%m-%d-%y+%T\")\n",
    "echo\n",
    "\n",
    "### set input and output\n",
    "FD_INP=${FD_RES}/results/region/annotation_chipseq_tf_subset\n",
    "FP_INPS=($(ls ${FD_INP}/K562.*.bed.gz))\n",
    "FP_INP=${FP_INPS[SLURM_ARRAY_TASK_ID]}\n",
    "FN_INP=$(basename ${FP_INP})\n",
    "\n",
    "FD_REG=${FD_RES}/results/region/KS91_K562_ASTARRseq_peak_macs_input\n",
    "FN_REG=KS91_K562_hg38_ASTARRseq_Input.all_reps.masked.union_narrowPeak.q5.bed\n",
    "FP_REG=${FD_REG}/${FN_REG}\n",
    "\n",
    "FD_OUT=${FD_RES}/results/region/KS91_K562_ASTARRseq_peak_macs_input/annotation_chipseq_tf_subset\n",
    "FN_OUT=peak.annotation.${FN_INP}\n",
    "FP_OUT=${FD_OUT}/${FN_OUT}\n",
    "\n",
    "### show I/O file\n",
    "echo \"Input: \" ${FP_REG}\n",
    "echo\n",
    "echo \"show first few lines of input\"\n",
    "cat ${FP_REG} | head -5\n",
    "echo\n",
    "echo \"Input: \" ${FP_INP}\n",
    "echo\n",
    "echo \"show first few lines of input\"\n",
    "zcat ${FP_INP} | head -5\n",
    "echo\n",
    "\n",
    "### init: create output folder if not exist\n",
    "mkdir -p ${FD_OUT}\n",
    "\n",
    "### annotation using intersect\n",
    "bedtools intersect \\\n",
    "    -a ${FP_REG} \\\n",
    "    -b ${FP_INP} \\\n",
    "    -wo \\\n",
    "    -f 0.7 \\\n",
    "    -F 0.7 \\\n",
    "    -e \\\n",
    "| gzip -c \\\n",
    "> ${FP_OUT}\n",
    "\n",
    "### show output file\n",
    "echo\n",
    "echo \"Output: \" ${FP_OUT}\n",
    "echo\n",
    "echo \"show first few lines of output:\"\n",
    "zcat ${FP_OUT} | head -5\n",
    "echo\n",
    "\n",
    "### print end message\n",
    "timer=`date +%s`\n",
    "runtime=$(echo \"${timer} - ${timer_start}\" | bc -l)\n",
    "echo\n",
    "echo 'Done!'\n",
    "echo \"Run Time: $(displaytime ${runtime})\"\n",
    "\n",
    "EOF"
   ]
  },
  {
   "cell_type": "markdown",
   "id": "3559b091-29da-47c4-bf8d-1dc4dcb41f94",
   "metadata": {},
   "source": [
    "**Check Results**"
   ]
  },
  {
   "cell_type": "code",
   "execution_count": 12,
   "id": "3d75db88-4a50-4b69-b57f-8ea7628a1be4",
   "metadata": {},
   "outputs": [
    {
     "name": "stdout",
     "output_type": "stream",
     "text": [
      "Hostname:           x1-01-3.genome.duke.edu\n",
      "Slurm Array Index:  0\n",
      "Time Stamp:         05-04-23+14:24:26\n",
      "\n",
      "Input:  /data/reddylab/Kuei/out/proj_combeffect_encode_fcc/results/region/KS91_K562_ASTARRseq_peak_macs_input/KS91_K562_hg38_ASTARRseq_Input.all_reps.masked.union_narrowPeak.q5.bed\n",
      "\n",
      "show first few lines of input\n",
      "chr1\t10015\t10442\n",
      "chr1\t14253\t14645\n",
      "chr1\t16015\t16477\n",
      "chr1\t17237\t17772\n",
      "chr1\t28903\t29613\n",
      "\n",
      "Input:  /data/reddylab/Kuei/out/proj_combeffect_encode_fcc/results/region/annotation_chipseq_tf_subset/K562.ENCSR000BMH.ENCFF398UQZ.YY1.bed.gz\n",
      "\n",
      "show first few lines of input\n",
      "chr1\t778486\t778776\t.\t1000\t.\t132.48683\t-1.00000\t4.33080\t136\n",
      "chr1\t904638\t904883\t.\t1000\t.\t75.95987\t-1.00000\t4.33080\t112\n",
      "chr1\t913032\t913129\t.\t1000\t.\t41.88374\t-1.00000\t3.88398\t56\n",
      "chr1\t921136\t921238\t.\t1000\t.\t50.33578\t-1.00000\t4.33080\t62\n",
      "chr1\t923707\t924017\t.\t1000\t.\t34.69952\t-1.00000\t3.76640\t155\n",
      "\n",
      "\n",
      "Output:  /data/reddylab/Kuei/out/proj_combeffect_encode_fcc/results/region/KS91_K562_ASTARRseq_peak_macs_input/annotation_chipseq_tf_subset/peak.annotation.K562.ENCSR000BMH.ENCFF398UQZ.YY1.bed.gz\n",
      "\n",
      "show first few lines of output:\n",
      "chr1\t777949\t779437\tchr1\t778486\t778776\t.\t1000\t.\t132.48683\t-1.00000\t4.33080\t136\t290\n",
      "chr1\t903633\t905556\tchr1\t904638\t904883\t.\t1000\t.\t75.95987\t-1.00000\t4.33080\t112\t245\n",
      "chr1\t912650\t914455\tchr1\t913032\t913129\t.\t1000\t.\t41.88374\t-1.00000\t3.88398\t56\t97\n",
      "chr1\t920697\t921526\tchr1\t921136\t921238\t.\t1000\t.\t50.33578\t-1.00000\t4.33080\t62\t102\n",
      "chr1\t923417\t925194\tchr1\t923707\t924017\t.\t1000\t.\t34.69952\t-1.00000\t3.76640\t155\t310\n",
      "\n",
      "\n",
      "Done!\n",
      "Run Time: 0 seconds\n"
     ]
    }
   ],
   "source": [
    "cat ${FD_LOG}/annotation_astarr_peak_macs_input_chipseq_tf_subset.0.txt"
   ]
  },
  {
   "cell_type": "code",
   "execution_count": 13,
   "id": "709932b6-7f06-4e0e-a032-d8439cc4dfd2",
   "metadata": {},
   "outputs": [
    {
     "name": "stdout",
     "output_type": "stream",
     "text": [
      "Hostname:           x1-02-1.genome.duke.edu\n",
      "Slurm Array Index:  10\n",
      "Time Stamp:         05-04-23+14:24:26\n",
      "\n",
      "Input:  /data/reddylab/Kuei/out/proj_combeffect_encode_fcc/results/region/KS91_K562_ASTARRseq_peak_macs_input/KS91_K562_hg38_ASTARRseq_Input.all_reps.masked.union_narrowPeak.q5.bed\n",
      "\n",
      "show first few lines of input\n",
      "chr1\t10015\t10442\n",
      "chr1\t14253\t14645\n",
      "chr1\t16015\t16477\n",
      "chr1\t17237\t17772\n",
      "chr1\t28903\t29613\n",
      "\n",
      "Input:  /data/reddylab/Kuei/out/proj_combeffect_encode_fcc/results/region/annotation_chipseq_tf_subset/K562.ENCSR121SPB.ENCFF142ZTD.KLF10.bed.gz\n",
      "\n",
      "show first few lines of input\n",
      "chr1\t1609906\t1610196\t.\t1000\t.\t54.00116\t-1.00000\t-0.46631\t145\n",
      "chr1\t6603933\t6604223\t.\t643\t.\t43.50786\t-1.00000\t-0.50695\t145\n",
      "chr1\t8122997\t8123287\t.\t599\t.\t42.19470\t-1.00000\t-0.50434\t145\n",
      "chr1\t8869167\t8869457\t.\t759\t.\t44.05824\t-1.00000\t-0.50172\t145\n",
      "chr1\t8878287\t8878577\t.\t678\t.\t48.26522\t-1.00000\t-0.48160\t145\n",
      "\n",
      "\n",
      "Output:  /data/reddylab/Kuei/out/proj_combeffect_encode_fcc/results/region/KS91_K562_ASTARRseq_peak_macs_input/annotation_chipseq_tf_subset/peak.annotation.K562.ENCSR121SPB.ENCFF142ZTD.KLF10.bed.gz\n",
      "\n",
      "show first few lines of output:\n",
      "chr1\t6600828\t6604195\tchr1\t6603933\t6604223\t.\t643\t.\t43.50786\t-1.00000\t-0.50695\t145\t262\n",
      "chr1\t8877894\t8879515\tchr1\t8878287\t8878577\t.\t678\t.\t48.26522\t-1.00000\t-0.48160\t145\t290\n",
      "chr1\t11272662\t11274098\tchr1\t11273156\t11273446\t.\t709\t.\t43.72786\t-1.00000\t-0.50434\t145\t290\n",
      "chr1\t11784395\t11785870\tchr1\t11785079\t11785369\t.\t936\t.\t49.64789\t-1.00000\t-0.47846\t145\t290\n",
      "chr1\t11787315\t11788369\tchr1\t11787733\t11788023\t.\t681\t.\t34.69328\t-1.00000\t-0.51569\t145\t290\n",
      "\n",
      "\n",
      "Done!\n",
      "Run Time: 0 seconds\n"
     ]
    }
   ],
   "source": [
    "cat ${FD_LOG}/annotation_astarr_peak_macs_input_chipseq_tf_subset.10.txt"
   ]
  },
  {
   "cell_type": "code",
   "execution_count": 14,
   "id": "7868e261-0677-4408-9562-1da0237db961",
   "metadata": {},
   "outputs": [
    {
     "name": "stdout",
     "output_type": "stream",
     "text": [
      "Hostname:           x1-02-2.genome.duke.edu\n",
      "Slurm Array Index:  15\n",
      "Time Stamp:         05-04-23+14:24:26\n",
      "\n",
      "Input:  /data/reddylab/Kuei/out/proj_combeffect_encode_fcc/results/region/KS91_K562_ASTARRseq_peak_macs_input/KS91_K562_hg38_ASTARRseq_Input.all_reps.masked.union_narrowPeak.q5.bed\n",
      "\n",
      "show first few lines of input\n",
      "chr1\t10015\t10442\n",
      "chr1\t14253\t14645\n",
      "chr1\t16015\t16477\n",
      "chr1\t17237\t17772\n",
      "chr1\t28903\t29613\n",
      "\n",
      "Input:  /data/reddylab/Kuei/out/proj_combeffect_encode_fcc/results/region/annotation_chipseq_tf_subset/K562.ENCSR998AJK.ENCFF777PKJ.NRF1.bed.gz\n",
      "\n",
      "show first few lines of input\n",
      "chr1\t115456\t116012\t.\t652\t.\t43.47197\t-1.00000\t4.00600\t278\n",
      "chr1\t605244\t605809\t.\t1000\t.\t1170.12478\t-1.00000\t4.52697\t219\n",
      "chr1\t778442\t779304\t.\t1000\t.\t1273.41457\t-1.00000\t4.52697\t343\n",
      "chr1\t778442\t779304\t.\t1000\t.\t462.19284\t-1.00000\t4.52697\t558\n",
      "chr1\t817373\t817524\t.\t1000\t.\t155.55627\t-1.00000\t4.52697\t9\n",
      "\n",
      "\n",
      "Output:  /data/reddylab/Kuei/out/proj_combeffect_encode_fcc/results/region/KS91_K562_ASTARRseq_peak_macs_input/annotation_chipseq_tf_subset/peak.annotation.K562.ENCSR998AJK.ENCFF777PKJ.NRF1.bed.gz\n",
      "\n",
      "show first few lines of output:\n",
      "chr1\t115411\t115986\tchr1\t115456\t116012\t.\t652\t.\t43.47197\t-1.00000\t4.00600\t278\t530\n",
      "chr1\t605090\t605823\tchr1\t605244\t605809\t.\t1000\t.\t1170.12478\t-1.00000\t4.52697\t219\t565\n",
      "chr1\t777949\t779437\tchr1\t778442\t779304\t.\t1000\t.\t1273.41457\t-1.00000\t4.52697\t343\t862\n",
      "chr1\t777949\t779437\tchr1\t778442\t779304\t.\t1000\t.\t462.19284\t-1.00000\t4.52697\t558\t862\n",
      "chr1\t816774\t817547\tchr1\t817373\t817524\t.\t1000\t.\t155.55627\t-1.00000\t4.52697\t9\t151\n",
      "\n",
      "\n",
      "Done!\n",
      "Run Time: 0 seconds\n"
     ]
    }
   ],
   "source": [
    "cat ${FD_LOG}/annotation_astarr_peak_macs_input_chipseq_tf_subset.15.txt"
   ]
  },
  {
   "cell_type": "code",
   "execution_count": null,
   "id": "9db5a6e3-a023-4f83-a90e-94c77281633f",
   "metadata": {},
   "outputs": [],
   "source": []
  },
  {
   "cell_type": "code",
   "execution_count": null,
   "id": "4eb263c9-4d77-4433-bd8a-f15e5fec15dd",
   "metadata": {},
   "outputs": [],
   "source": []
  }
 ],
 "metadata": {
  "kernelspec": {
   "display_name": "Bash",
   "language": "bash",
   "name": "bash"
  },
  "language_info": {
   "codemirror_mode": "shell",
   "file_extension": ".sh",
   "mimetype": "text/x-sh",
   "name": "bash"
  }
 },
 "nbformat": 4,
 "nbformat_minor": 5
}
