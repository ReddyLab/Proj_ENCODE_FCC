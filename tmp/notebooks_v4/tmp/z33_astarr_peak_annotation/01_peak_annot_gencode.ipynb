{
 "cells": [
  {
   "cell_type": "markdown",
   "id": "88b2db7b-ca58-4cf6-b1f0-661642c0ea7d",
   "metadata": {},
   "source": [
    "**Set environment**"
   ]
  },
  {
   "cell_type": "code",
   "execution_count": 1,
   "id": "965c9e3d-bca0-4e81-944b-3babc3a70498",
   "metadata": {},
   "outputs": [
    {
     "name": "stdout",
     "output_type": "stream",
     "text": [
      "You are on Duke Server: HARDAC\n",
      "BASE DIRECTORY (FD_BASE): /data/reddylab/Kuei\n",
      "WORK DIRECTORY (FD_WORK): /data/reddylab/Kuei/out\n",
      "CODE DIRECTORY (FD_CODE): /data/reddylab/Kuei/code\n",
      "SING DIRECTORY (FD_SING): /data/reddylab/Kuei/singularity\n",
      "PATH OF PROJECT (FD_PRJ): /data/reddylab/Kuei/code/Proj_CombEffect_ENCODE_FCC\n",
      "PATH OF RESULTS (FD_RES): /data/reddylab/Kuei/out/proj_combeffect_encode_fcc\n",
      "PATH OF LOG     (FD_LOG): /data/reddylab/Kuei/out/proj_combeffect_encode_fcc/log\n",
      "\n"
     ]
    }
   ],
   "source": [
    "### set env\n",
    "source ../config/config_duke.sh\n",
    "source ../config/config_load_module_bedtools.sh\n",
    "show_env"
   ]
  },
  {
   "cell_type": "markdown",
   "id": "1fce5961-e2d8-43d6-9544-0e66f13a9dbb",
   "metadata": {},
   "source": [
    "**Check data**"
   ]
  },
  {
   "cell_type": "code",
   "execution_count": 11,
   "id": "207ee983-aac3-41e1-95f1-d2c1fbd736fc",
   "metadata": {},
   "outputs": [
    {
     "name": "stdout",
     "output_type": "stream",
     "text": [
      "gencode.v42.basic.annotation.tes.bed\n",
      "gencode.v42.basic.annotation.tss.bed\n"
     ]
    }
   ],
   "source": [
    "ls -1 ${FD_RES}/results/region/annotation_gencode"
   ]
  },
  {
   "cell_type": "markdown",
   "id": "22df9443-33df-4494-86f1-092e89647803",
   "metadata": {},
   "source": [
    "## Annotate ATAC peaks using TSS sites"
   ]
  },
  {
   "cell_type": "code",
   "execution_count": 6,
   "id": "4d114815-3358-4a32-a66f-0e636f06a9f4",
   "metadata": {},
   "outputs": [
    {
     "name": "stdout",
     "output_type": "stream",
     "text": [
      "Submitted batch job 29556814\n"
     ]
    }
   ],
   "source": [
    "sbatch -p ${NODE} \\\n",
    "    --exclude=dl-01 \\\n",
    "    --cpus-per-task 8 \\\n",
    "    --mem 8G \\\n",
    "    --output ${FD_LOG}/annotation_astarr_peak_macs_input_gencode_tss.txt \\\n",
    "    --array 0 \\\n",
    "    <<'EOF'\n",
    "#!/bin/bash\n",
    "### set directories & global variables\n",
    "source ../config/config_duke.sh\n",
    "\n",
    "### set input and output\n",
    "FD_BED=${FD_RES}/results/region/KS91_K562_ASTARRseq_peak_macs_input\n",
    "FN_BED=KS91_K562_hg38_ASTARRseq_Input.all_reps.masked.union_narrowPeak.q5.bed\n",
    "FP_BED=${FD_BED}/${FN_BED}\n",
    "\n",
    "FD_ANN=${FD_RES}/results/region/annotation_gencode\n",
    "FN_ANN=gencode.v42.basic.annotation.tss.bed\n",
    "FP_ANN=${FD_ANN}/${FN_ANN}\n",
    "\n",
    "FD_OUT=${FD_RES}/results/region/KS91_K562_ASTARRseq_peak_macs_input\n",
    "FN_OUT=peak.annotation.gencode_v24_tss.bed.gz\n",
    "FP_OUT=${FD_OUT}/${FN_OUT}\n",
    "\n",
    "### print start message\n",
    "timer_start=`date +%s`\n",
    "echo \"Hostname:          \" $(hostname)\n",
    "echo \"Slurm Array Index: \" ${SLURM_ARRAY_TASK_ID}\n",
    "echo \"Time Stamp:        \" $(date +\"%m-%d-%y+%T\")\n",
    "echo\n",
    "\n",
    "### show I/O file\n",
    "echo \"Input: \" ${FP_BED}\n",
    "echo\n",
    "echo \"show first few lines of input\"\n",
    "cat ${FP_BED} | head -5\n",
    "echo\n",
    "echo \"Input: \" ${FP_ANN}\n",
    "echo\n",
    "echo \"show first few lines of input\"\n",
    "cat ${FP_ANN} | head -5\n",
    "echo\n",
    "\n",
    "### init: create output folder if not exist\n",
    "mkdir -p ${FD_OUT}\n",
    "\n",
    "### annotation using intersect\n",
    "bedtools intersect -a ${FP_BED} -b ${FP_ANN} -wo | gzip -c > ${FP_OUT}\n",
    "\n",
    "### show output file\n",
    "echo\n",
    "echo \"Output: \" ${FP_OUT}\n",
    "echo\n",
    "echo \"show first few lines of output:\"\n",
    "zcat ${FP_OUT} | head -5\n",
    "echo\n",
    "\n",
    "### print end message\n",
    "timer=`date +%s`\n",
    "runtime=$(echo \"${timer} - ${timer_start}\" | bc -l)\n",
    "echo\n",
    "echo 'Done!'\n",
    "echo \"Run Time: $(displaytime ${runtime})\"\n",
    "\n",
    "EOF"
   ]
  },
  {
   "cell_type": "markdown",
   "id": "9d1b22ef-d95e-4a6e-95e2-f280e330f667",
   "metadata": {},
   "source": [
    "**Check results**"
   ]
  },
  {
   "cell_type": "code",
   "execution_count": 8,
   "id": "b9d59b31-a9b4-402b-8537-b7d7f0b10e20",
   "metadata": {},
   "outputs": [
    {
     "name": "stdout",
     "output_type": "stream",
     "text": [
      "Hostname:           x3-01-3.genome.duke.edu\n",
      "Slurm Array Index:  0\n",
      "Time Stamp:         03-07-23+16:00:01\n",
      "\n",
      "Input:  /data/reddylab/Kuei/out/proj_combeffect_encode_fcc/results/region/KS91_K562_ASTARRseq_peak_macs_input/KS91_K562_hg38_ASTARRseq_Input.all_reps.masked.union_narrowPeak.q5.bed\n",
      "\n",
      "show first few lines of input\n",
      "chr1\t10015\t10442\n",
      "chr1\t14253\t14645\n",
      "chr1\t16015\t16477\n",
      "chr1\t17237\t17772\n",
      "chr1\t28903\t29613\n",
      "\n",
      "Input:  /data/reddylab/Kuei/out/proj_combeffect_encode_fcc/results/region/annotation_gencode/gencode.v42.basic.annotation.tss.bed\n",
      "\n",
      "show first few lines of input\n",
      "chr1\t11868\t11869\tENSG00000290825.1\t.\t+\tDDX11L2\t2\toverlaps_pseudogene\n",
      "chr1\t12009\t12010\tENSG00000223972.6\t.\t+\tDDX11L1\t2\tHGNC:37102\n",
      "chr1\t29570\t29571\tENSG00000227232.5\t.\t-\tWASH7P\t2\tHGNC:38034\n",
      "chr1\t17436\t17437\tENSG00000278267.1\t.\t-\tMIR6859-1\t3\tHGNC:50039\n",
      "chr1\t29553\t29554\tENSG00000243485.5\t.\t+\tMIR1302-2HG\t2\tHGNC:52482\n",
      "\n",
      "\n",
      "Output:  /data/reddylab/Kuei/out/proj_combeffect_encode_fcc/results/region/KS91_K562_ASTARRseq_peak_macs_input/peak.annotation.gencode_v24_tss.bed.gz\n",
      "\n",
      "show first few lines of output:\n",
      "chr1\t17237\t17772\tchr1\t17436\t17437\tENSG00000278267.1\t.\t-\tMIR6859-1\t3\tHGNC:50039\t1\n",
      "chr1\t28903\t29613\tchr1\t29570\t29571\tENSG00000227232.5\t.\t-\tWASH7P\t2\tHGNC:38034\t1\n",
      "chr1\t28903\t29613\tchr1\t29553\t29554\tENSG00000243485.5\t.\t+\tMIR1302-2HG\t2\tHGNC:52482\t1\n",
      "chr1\t137737\t139544\tchr1\t137965\t137966\tENSG00000269981.1\t.\t-\tENSG00000269981\t2\tOTTHUMG00000182738.2\t1\n",
      "chr1\t777949\t779437\tchr1\t778688\t778689\tENSG00000291215.1\t.\t-\tENSG00000291215\t2\tncRNA_host\t1\n",
      "\n",
      "\n",
      "Done!\n",
      "Run Time: 0 seconds\n"
     ]
    }
   ],
   "source": [
    "cat ${FD_LOG}/annotation_astarr_peak_macs_input_gencode_tss.txt"
   ]
  },
  {
   "cell_type": "markdown",
   "id": "9450bd93-a3e9-44c7-9068-a4de749ec0e3",
   "metadata": {},
   "source": [
    "## Annotate ATAC peaks using TES sites"
   ]
  },
  {
   "cell_type": "code",
   "execution_count": 7,
   "id": "71ef1578-e193-4f4c-96d5-75a07c46a230",
   "metadata": {},
   "outputs": [
    {
     "name": "stdout",
     "output_type": "stream",
     "text": [
      "Submitted batch job 29556815\n"
     ]
    }
   ],
   "source": [
    "sbatch -p ${NODE} \\\n",
    "    --exclude=dl-01 \\\n",
    "    --cpus-per-task 8 \\\n",
    "    --mem 8G \\\n",
    "    --output ${FD_LOG}/annotation_astarr_peak_macs_input_gencode_tes.txt \\\n",
    "    --array 0 \\\n",
    "    <<'EOF'\n",
    "#!/bin/bash\n",
    "### set directories & global variables\n",
    "source ../config/config_duke.sh\n",
    "\n",
    "### set input and output\n",
    "FD_BED=${FD_RES}/results/region/KS91_K562_ASTARRseq_peak_macs_input\n",
    "FN_BED=KS91_K562_hg38_ASTARRseq_Input.all_reps.masked.union_narrowPeak.q5.bed\n",
    "FP_BED=${FD_BED}/${FN_BED}\n",
    "\n",
    "FD_ANN=${FD_RES}/results/region/annotation_gencode\n",
    "FN_ANN=gencode.v42.basic.annotation.tes.bed\n",
    "FP_ANN=${FD_ANN}/${FN_ANN}\n",
    "\n",
    "FD_OUT=${FD_RES}/results/region/KS91_K562_ASTARRseq_peak_macs_input\n",
    "FN_OUT=peak.annotation.gencode_v24_tes.bed.gz\n",
    "FP_OUT=${FD_OUT}/${FN_OUT}\n",
    "\n",
    "### print start message\n",
    "timer_start=`date +%s`\n",
    "echo \"Hostname:          \" $(hostname)\n",
    "echo \"Slurm Array Index: \" ${SLURM_ARRAY_TASK_ID}\n",
    "echo \"Time Stamp:        \" $(date +\"%m-%d-%y+%T\")\n",
    "echo\n",
    "\n",
    "### show I/O file\n",
    "echo \"Input: \" ${FP_BED}\n",
    "echo\n",
    "echo \"show first few lines of input\"\n",
    "cat ${FP_BED} | head -5\n",
    "echo\n",
    "echo \"Input: \" ${FP_ANN}\n",
    "echo\n",
    "echo \"show first few lines of input\"\n",
    "cat ${FP_ANN} | head -5\n",
    "echo\n",
    "\n",
    "### init: create output folder if not exist\n",
    "mkdir -p ${FD_OUT}\n",
    "\n",
    "### annotation using intersect\n",
    "bedtools intersect -a ${FP_BED} -b ${FP_ANN} -wo | gzip -c > ${FP_OUT}\n",
    "\n",
    "### show output file\n",
    "echo\n",
    "echo \"Output: \" ${FP_OUT}\n",
    "echo\n",
    "echo \"show first few lines of output:\"\n",
    "zcat ${FP_OUT} | head -5\n",
    "echo\n",
    "\n",
    "### print end message\n",
    "timer=`date +%s`\n",
    "runtime=$(echo \"${timer} - ${timer_start}\" | bc -l)\n",
    "echo\n",
    "echo 'Done!'\n",
    "echo \"Run Time: $(displaytime ${runtime})\"\n",
    "\n",
    "EOF"
   ]
  },
  {
   "cell_type": "markdown",
   "id": "4eb4eb66-3d78-4705-aeb8-e9a6177eb719",
   "metadata": {},
   "source": [
    "**Check results**"
   ]
  },
  {
   "cell_type": "code",
   "execution_count": 9,
   "id": "1dce687d-bbd5-4852-a2e1-c7e318c2701a",
   "metadata": {},
   "outputs": [
    {
     "name": "stdout",
     "output_type": "stream",
     "text": [
      "Hostname:           x3-02-1.genome.duke.edu\n",
      "Slurm Array Index:  0\n",
      "Time Stamp:         03-07-23+16:00:01\n",
      "\n",
      "Input:  /data/reddylab/Kuei/out/proj_combeffect_encode_fcc/results/region/KS91_K562_ASTARRseq_peak_macs_input/KS91_K562_hg38_ASTARRseq_Input.all_reps.masked.union_narrowPeak.q5.bed\n",
      "\n",
      "show first few lines of input\n",
      "chr1\t10015\t10442\n",
      "chr1\t14253\t14645\n",
      "chr1\t16015\t16477\n",
      "chr1\t17237\t17772\n",
      "chr1\t28903\t29613\n",
      "\n",
      "Input:  /data/reddylab/Kuei/out/proj_combeffect_encode_fcc/results/region/annotation_gencode/gencode.v42.basic.annotation.tes.bed\n",
      "\n",
      "show first few lines of input\n",
      "chr1\t14409\t14410\tENSG00000290825.1\t.\t+\tDDX11L2\t2\toverlaps_pseudogene\n",
      "chr1\t13670\t13671\tENSG00000223972.6\t.\t+\tDDX11L1\t2\tHGNC:37102\n",
      "chr1\t14403\t14404\tENSG00000227232.5\t.\t-\tWASH7P\t2\tHGNC:38034\n",
      "chr1\t17368\t17369\tENSG00000278267.1\t.\t-\tMIR6859-1\t3\tHGNC:50039\n",
      "chr1\t31109\t31110\tENSG00000243485.5\t.\t+\tMIR1302-2HG\t2\tHGNC:52482\n",
      "\n",
      "\n",
      "Output:  /data/reddylab/Kuei/out/proj_combeffect_encode_fcc/results/region/KS91_K562_ASTARRseq_peak_macs_input/peak.annotation.gencode_v24_tes.bed.gz\n",
      "\n",
      "show first few lines of output:\n",
      "chr1\t14253\t14645\tchr1\t14409\t14410\tENSG00000290825.1\t.\t+\tDDX11L2\t2\toverlaps_pseudogene\t1\n",
      "chr1\t14253\t14645\tchr1\t14403\t14404\tENSG00000227232.5\t.\t-\tWASH7P\t2\tHGNC:38034\t1\n",
      "chr1\t17237\t17772\tchr1\t17368\t17369\tENSG00000278267.1\t.\t-\tMIR6859-1\t3\tHGNC:50039\t1\n",
      "chr1\t183239\t184602\tchr1\t184174\t184175\tENSG00000279928.2\t.\t+\tDDX11L17\t2\tHGNC:55080\t1\n",
      "chr1\t819732\t820291\tchr1\t819837\t819838\tENSG00000177757.2\t.\t+\tFAM87B\t2\tHGNC:32236\t1\n",
      "\n",
      "\n",
      "Done!\n",
      "Run Time: 0 seconds\n"
     ]
    }
   ],
   "source": [
    "cat ${FD_LOG}/annotation_astarr_peak_macs_input_gencode_tes.txt"
   ]
  },
  {
   "cell_type": "code",
   "execution_count": null,
   "id": "d3d64a65-96d4-4989-9605-28597627c963",
   "metadata": {},
   "outputs": [],
   "source": []
  }
 ],
 "metadata": {
  "kernelspec": {
   "display_name": "Bash",
   "language": "bash",
   "name": "bash"
  },
  "language_info": {
   "codemirror_mode": "shell",
   "file_extension": ".sh",
   "mimetype": "text/x-sh",
   "name": "bash"
  }
 },
 "nbformat": 4,
 "nbformat_minor": 5
}
