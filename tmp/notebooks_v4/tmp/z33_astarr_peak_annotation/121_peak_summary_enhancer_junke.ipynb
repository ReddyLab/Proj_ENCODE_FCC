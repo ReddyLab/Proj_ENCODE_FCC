{
 "cells": [
  {
   "cell_type": "markdown",
   "metadata": {},
   "source": [
    "**Set environment**"
   ]
  },
  {
   "cell_type": "code",
   "execution_count": 1,
   "metadata": {},
   "outputs": [
    {
     "name": "stdout",
     "output_type": "stream",
     "text": [
      "You are in Singularity: singularity_proj_encode_fcc \n",
      "BASE DIRECTORY (FD_BASE): /data/reddylab/Kuei \n",
      "WORK DIRECTORY (FD_WORK): /data/reddylab/Kuei/out \n",
      "CODE DIRECTORY (FD_CODE): /data/reddylab/Kuei/code \n",
      "PATH OF PROJECT (FD_PRJ): /data/reddylab/Kuei/code/Proj_CombEffect_ENCODE_FCC \n",
      "PATH OF RESULTS (FD_RES): /data/reddylab/Kuei/out/proj_combeffect_encode_fcc \n",
      "PATH OF LOG     (FD_LOG): /data/reddylab/Kuei/out/proj_combeffect_encode_fcc/log \n"
     ]
    }
   ],
   "source": [
    "suppressMessages(suppressWarnings(source(\"../config/config_sing.R\")))\n",
    "show_env()"
   ]
  },
  {
   "cell_type": "markdown",
   "metadata": {},
   "source": [
    "**Check data**"
   ]
  },
  {
   "cell_type": "code",
   "execution_count": 2,
   "metadata": {},
   "outputs": [
    {
     "data": {
      "text/html": [
       "<style>\n",
       ".list-inline {list-style: none; margin:0; padding: 0}\n",
       ".list-inline>li {display: inline-block}\n",
       ".list-inline>li:not(:last-child)::after {content: \"\\00b7\"; padding: 0 .5ex}\n",
       "</style>\n",
       "<ol class=list-inline><li>'peak.annotation.enhancer_junke_peak_astarr.bed.gz'</li><li>'peak.annotation.enhancer_junke_peak_wstarr.bed.gz'</li></ol>\n"
      ],
      "text/latex": [
       "\\begin{enumerate*}\n",
       "\\item 'peak.annotation.enhancer\\_junke\\_peak\\_astarr.bed.gz'\n",
       "\\item 'peak.annotation.enhancer\\_junke\\_peak\\_wstarr.bed.gz'\n",
       "\\end{enumerate*}\n"
      ],
      "text/markdown": [
       "1. 'peak.annotation.enhancer_junke_peak_astarr.bed.gz'\n",
       "2. 'peak.annotation.enhancer_junke_peak_wstarr.bed.gz'\n",
       "\n",
       "\n"
      ],
      "text/plain": [
       "[1] \"peak.annotation.enhancer_junke_peak_astarr.bed.gz\"\n",
       "[2] \"peak.annotation.enhancer_junke_peak_wstarr.bed.gz\""
      ]
     },
     "metadata": {},
     "output_type": "display_data"
    }
   ],
   "source": [
    "fdiry = file.path(\n",
    "    FD_RES, \n",
    "    \"results\", \n",
    "    \"region\", \n",
    "    \"KS91_K562_ASTARRseq_peak_macs_input\", \n",
    "    \"annotation_enhancer_junke\")\n",
    "dir(fdiry)"
   ]
  },
  {
   "cell_type": "code",
   "execution_count": 3,
   "metadata": {},
   "outputs": [
    {
     "data": {
      "text/html": [
       "<style>\n",
       ".list-inline {list-style: none; margin:0; padding: 0}\n",
       ".list-inline>li {display: inline-block}\n",
       ".list-inline>li:not(:last-child)::after {content: \"\\00b7\"; padding: 0 .5ex}\n",
       "</style>\n",
       "<ol class=list-inline><li>'description.tsv'</li><li>'enhancer_junke_peak_astarr.bed.gz'</li><li>'enhancer_junke_peak_wstarr.bed.gz'</li></ol>\n"
      ],
      "text/latex": [
       "\\begin{enumerate*}\n",
       "\\item 'description.tsv'\n",
       "\\item 'enhancer\\_junke\\_peak\\_astarr.bed.gz'\n",
       "\\item 'enhancer\\_junke\\_peak\\_wstarr.bed.gz'\n",
       "\\end{enumerate*}\n"
      ],
      "text/markdown": [
       "1. 'description.tsv'\n",
       "2. 'enhancer_junke_peak_astarr.bed.gz'\n",
       "3. 'enhancer_junke_peak_wstarr.bed.gz'\n",
       "\n",
       "\n"
      ],
      "text/plain": [
       "[1] \"description.tsv\"                   \"enhancer_junke_peak_astarr.bed.gz\"\n",
       "[3] \"enhancer_junke_peak_wstarr.bed.gz\""
      ]
     },
     "metadata": {},
     "output_type": "display_data"
    }
   ],
   "source": [
    "fdiry = file.path(\n",
    "    FD_RES, \n",
    "    \"results\", \n",
    "    \"region\", \n",
    "    \"annotation_enhancer_junke\")\n",
    "dir(fdiry)"
   ]
  },
  {
   "cell_type": "markdown",
   "metadata": {},
   "source": [
    "## Import data"
   ]
  },
  {
   "cell_type": "code",
   "execution_count": 4,
   "metadata": {},
   "outputs": [
    {
     "name": "stderr",
     "output_type": "stream",
     "text": [
      "\u001b[1mRows: \u001b[22m\u001b[34m4\u001b[39m \u001b[1mColumns: \u001b[22m\u001b[34m2\u001b[39m\n",
      "\u001b[36m──\u001b[39m \u001b[1mColumn specification\u001b[22m \u001b[36m─────────────────────────────────────────────────────────────────────\u001b[39m\n",
      "\u001b[1mDelimiter:\u001b[22m \"\\t\"\n",
      "\u001b[31mchr\u001b[39m (2): Name, Description\n",
      "\n",
      "\u001b[36mℹ\u001b[39m Use `spec()` to retrieve the full column specification for this data.\n",
      "\u001b[36mℹ\u001b[39m Specify the column types or set `show_col_types = FALSE` to quiet this message.\n"
     ]
    },
    {
     "name": "stdout",
     "output_type": "stream",
     "text": [
      "[1] 4 2\n"
     ]
    },
    {
     "data": {
      "text/html": [
       "<table class=\"dataframe\">\n",
       "<caption>A spec_tbl_df: 4 × 2</caption>\n",
       "<thead>\n",
       "\t<tr><th scope=col>Name</th><th scope=col>Description</th></tr>\n",
       "\t<tr><th scope=col>&lt;chr&gt;</th><th scope=col>&lt;chr&gt;</th></tr>\n",
       "</thead>\n",
       "<tbody>\n",
       "\t<tr><td>Chrom</td><td>Seqnames</td></tr>\n",
       "\t<tr><td>Start</td><td>Start   </td></tr>\n",
       "\t<tr><td>End  </td><td>End     </td></tr>\n",
       "\t<tr><td>Score</td><td>Activity</td></tr>\n",
       "</tbody>\n",
       "</table>\n"
      ],
      "text/latex": [
       "A spec\\_tbl\\_df: 4 × 2\n",
       "\\begin{tabular}{ll}\n",
       " Name & Description\\\\\n",
       " <chr> & <chr>\\\\\n",
       "\\hline\n",
       "\t Chrom & Seqnames\\\\\n",
       "\t Start & Start   \\\\\n",
       "\t End   & End     \\\\\n",
       "\t Score & Activity\\\\\n",
       "\\end{tabular}\n"
      ],
      "text/markdown": [
       "\n",
       "A spec_tbl_df: 4 × 2\n",
       "\n",
       "| Name &lt;chr&gt; | Description &lt;chr&gt; |\n",
       "|---|---|\n",
       "| Chrom | Seqnames |\n",
       "| Start | Start    |\n",
       "| End   | End      |\n",
       "| Score | Activity |\n",
       "\n"
      ],
      "text/plain": [
       "  Name  Description\n",
       "1 Chrom Seqnames   \n",
       "2 Start Start      \n",
       "3 End   End        \n",
       "4 Score Activity   "
      ]
     },
     "metadata": {},
     "output_type": "display_data"
    }
   ],
   "source": [
    "folder = \"annotation_enhancer_junke\"\n",
    "fdiry  = file.path(FD_RES, \"results\", \"region\", folder)\n",
    "fname = \"description.tsv\"\n",
    "fpath = file.path(fdiry, fname)\n",
    "\n",
    "dat = read_tsv(fpath)\n",
    "\n",
    "dat_cnames = dat\n",
    "print(dim(dat))\n",
    "dat"
   ]
  },
  {
   "cell_type": "markdown",
   "metadata": {},
   "source": [
    "**ASTARR**"
   ]
  },
  {
   "cell_type": "code",
   "execution_count": 5,
   "metadata": {},
   "outputs": [
    {
     "name": "stdout",
     "output_type": "stream",
     "text": [
      "[1] 21517    13\n"
     ]
    },
    {
     "data": {
      "text/html": [
       "<table class=\"dataframe\">\n",
       "<caption>A tibble: 6 × 13</caption>\n",
       "<thead>\n",
       "\t<tr><th scope=col>Chrom_ATAC</th><th scope=col>Start_ATAC</th><th scope=col>End_ATAC</th><th scope=col>Chrom</th><th scope=col>Start</th><th scope=col>End</th><th scope=col>Score</th><th scope=col>Overlap</th><th scope=col>Peak_ATAC</th><th scope=col>Annotation</th><th scope=col>Label</th><th scope=col>Loc</th><th scope=col>Value</th></tr>\n",
       "\t<tr><th scope=col>&lt;chr&gt;</th><th scope=col>&lt;dbl&gt;</th><th scope=col>&lt;dbl&gt;</th><th scope=col>&lt;chr&gt;</th><th scope=col>&lt;dbl&gt;</th><th scope=col>&lt;dbl&gt;</th><th scope=col>&lt;dbl&gt;</th><th scope=col>&lt;dbl&gt;</th><th scope=col>&lt;chr&gt;</th><th scope=col>&lt;chr&gt;</th><th scope=col>&lt;chr&gt;</th><th scope=col>&lt;chr&gt;</th><th scope=col>&lt;dbl&gt;</th></tr>\n",
       "</thead>\n",
       "<tbody>\n",
       "\t<tr><td>chr1</td><td> 115411</td><td> 115986</td><td>chr1</td><td> 115570</td><td> 115740</td><td>1.506972</td><td>170</td><td>chr1_115411_115986  </td><td>Enhancer</td><td>Enhancer_ASTARR</td><td>chr1:115570-115740  </td><td>1.506972</td></tr>\n",
       "\t<tr><td>chr1</td><td> 605090</td><td> 605823</td><td>chr1</td><td> 605280</td><td> 605470</td><td>1.616298</td><td>190</td><td>chr1_605090_605823  </td><td>Enhancer</td><td>Enhancer_ASTARR</td><td>chr1:605280-605470  </td><td>1.616298</td></tr>\n",
       "\t<tr><td>chr1</td><td> 777949</td><td> 779437</td><td>chr1</td><td> 778370</td><td> 778900</td><td>1.517446</td><td>530</td><td>chr1_777949_779437  </td><td>Enhancer</td><td>Enhancer_ASTARR</td><td>chr1:778370-778900  </td><td>1.517446</td></tr>\n",
       "\t<tr><td>chr1</td><td> 826754</td><td> 828040</td><td>chr1</td><td> 827450</td><td> 827550</td><td>1.341718</td><td>100</td><td>chr1_826754_828040  </td><td>Enhancer</td><td>Enhancer_ASTARR</td><td>chr1:827450-827550  </td><td>1.341718</td></tr>\n",
       "\t<tr><td>chr1</td><td> 965936</td><td> 967556</td><td>chr1</td><td> 967240</td><td> 967410</td><td>1.160732</td><td>170</td><td>chr1_965936_967556  </td><td>Enhancer</td><td>Enhancer_ASTARR</td><td>chr1:967240-967410  </td><td>1.160732</td></tr>\n",
       "\t<tr><td>chr1</td><td>1001499</td><td>1002142</td><td>chr1</td><td>1002070</td><td>1002160</td><td>1.349141</td><td> 72</td><td>chr1_1001499_1002142</td><td>Enhancer</td><td>Enhancer_ASTARR</td><td>chr1:1002070-1002160</td><td>1.349141</td></tr>\n",
       "</tbody>\n",
       "</table>\n"
      ],
      "text/latex": [
       "A tibble: 6 × 13\n",
       "\\begin{tabular}{lllllllllllll}\n",
       " Chrom\\_ATAC & Start\\_ATAC & End\\_ATAC & Chrom & Start & End & Score & Overlap & Peak\\_ATAC & Annotation & Label & Loc & Value\\\\\n",
       " <chr> & <dbl> & <dbl> & <chr> & <dbl> & <dbl> & <dbl> & <dbl> & <chr> & <chr> & <chr> & <chr> & <dbl>\\\\\n",
       "\\hline\n",
       "\t chr1 &  115411 &  115986 & chr1 &  115570 &  115740 & 1.506972 & 170 & chr1\\_115411\\_115986   & Enhancer & Enhancer\\_ASTARR & chr1:115570-115740   & 1.506972\\\\\n",
       "\t chr1 &  605090 &  605823 & chr1 &  605280 &  605470 & 1.616298 & 190 & chr1\\_605090\\_605823   & Enhancer & Enhancer\\_ASTARR & chr1:605280-605470   & 1.616298\\\\\n",
       "\t chr1 &  777949 &  779437 & chr1 &  778370 &  778900 & 1.517446 & 530 & chr1\\_777949\\_779437   & Enhancer & Enhancer\\_ASTARR & chr1:778370-778900   & 1.517446\\\\\n",
       "\t chr1 &  826754 &  828040 & chr1 &  827450 &  827550 & 1.341718 & 100 & chr1\\_826754\\_828040   & Enhancer & Enhancer\\_ASTARR & chr1:827450-827550   & 1.341718\\\\\n",
       "\t chr1 &  965936 &  967556 & chr1 &  967240 &  967410 & 1.160732 & 170 & chr1\\_965936\\_967556   & Enhancer & Enhancer\\_ASTARR & chr1:967240-967410   & 1.160732\\\\\n",
       "\t chr1 & 1001499 & 1002142 & chr1 & 1002070 & 1002160 & 1.349141 &  72 & chr1\\_1001499\\_1002142 & Enhancer & Enhancer\\_ASTARR & chr1:1002070-1002160 & 1.349141\\\\\n",
       "\\end{tabular}\n"
      ],
      "text/markdown": [
       "\n",
       "A tibble: 6 × 13\n",
       "\n",
       "| Chrom_ATAC &lt;chr&gt; | Start_ATAC &lt;dbl&gt; | End_ATAC &lt;dbl&gt; | Chrom &lt;chr&gt; | Start &lt;dbl&gt; | End &lt;dbl&gt; | Score &lt;dbl&gt; | Overlap &lt;dbl&gt; | Peak_ATAC &lt;chr&gt; | Annotation &lt;chr&gt; | Label &lt;chr&gt; | Loc &lt;chr&gt; | Value &lt;dbl&gt; |\n",
       "|---|---|---|---|---|---|---|---|---|---|---|---|---|\n",
       "| chr1 |  115411 |  115986 | chr1 |  115570 |  115740 | 1.506972 | 170 | chr1_115411_115986   | Enhancer | Enhancer_ASTARR | chr1:115570-115740   | 1.506972 |\n",
       "| chr1 |  605090 |  605823 | chr1 |  605280 |  605470 | 1.616298 | 190 | chr1_605090_605823   | Enhancer | Enhancer_ASTARR | chr1:605280-605470   | 1.616298 |\n",
       "| chr1 |  777949 |  779437 | chr1 |  778370 |  778900 | 1.517446 | 530 | chr1_777949_779437   | Enhancer | Enhancer_ASTARR | chr1:778370-778900   | 1.517446 |\n",
       "| chr1 |  826754 |  828040 | chr1 |  827450 |  827550 | 1.341718 | 100 | chr1_826754_828040   | Enhancer | Enhancer_ASTARR | chr1:827450-827550   | 1.341718 |\n",
       "| chr1 |  965936 |  967556 | chr1 |  967240 |  967410 | 1.160732 | 170 | chr1_965936_967556   | Enhancer | Enhancer_ASTARR | chr1:967240-967410   | 1.160732 |\n",
       "| chr1 | 1001499 | 1002142 | chr1 | 1002070 | 1002160 | 1.349141 |  72 | chr1_1001499_1002142 | Enhancer | Enhancer_ASTARR | chr1:1002070-1002160 | 1.349141 |\n",
       "\n"
      ],
      "text/plain": [
       "  Chrom_ATAC Start_ATAC End_ATAC Chrom Start   End     Score    Overlap\n",
       "1 chr1        115411     115986  chr1   115570  115740 1.506972 170    \n",
       "2 chr1        605090     605823  chr1   605280  605470 1.616298 190    \n",
       "3 chr1        777949     779437  chr1   778370  778900 1.517446 530    \n",
       "4 chr1        826754     828040  chr1   827450  827550 1.341718 100    \n",
       "5 chr1        965936     967556  chr1   967240  967410 1.160732 170    \n",
       "6 chr1       1001499    1002142  chr1  1002070 1002160 1.349141  72    \n",
       "  Peak_ATAC            Annotation Label           Loc                  Value   \n",
       "1 chr1_115411_115986   Enhancer   Enhancer_ASTARR chr1:115570-115740   1.506972\n",
       "2 chr1_605090_605823   Enhancer   Enhancer_ASTARR chr1:605280-605470   1.616298\n",
       "3 chr1_777949_779437   Enhancer   Enhancer_ASTARR chr1:778370-778900   1.517446\n",
       "4 chr1_826754_828040   Enhancer   Enhancer_ASTARR chr1:827450-827550   1.341718\n",
       "5 chr1_965936_967556   Enhancer   Enhancer_ASTARR chr1:967240-967410   1.160732\n",
       "6 chr1_1001499_1002142 Enhancer   Enhancer_ASTARR chr1:1002070-1002160 1.349141"
      ]
     },
     "metadata": {},
     "output_type": "display_data"
    }
   ],
   "source": [
    "### init\n",
    "annotation = \"Enhancer\"\n",
    "label      = \"Enhancer_ASTARR\"\n",
    "cnames = dat_cnames$Name\n",
    "cnames = c(\"Chrom_ATAC\", \"Start_ATAC\", \"End_ATAC\", cnames, \"Overlap\")\n",
    "\n",
    "###\n",
    "fdiry = file.path(\n",
    "    FD_RES, \n",
    "    \"results\", \n",
    "    \"region\", \n",
    "    \"KS91_K562_ASTARRseq_peak_macs_input\", \n",
    "    folder)\n",
    "fname = \"peak.annotation.enhancer_junke_peak_astarr.bed.gz\"\n",
    "fpath = file.path(fdiry, fname)\n",
    "\n",
    "### read data\n",
    "dat = read_tsv(fpath, col_names = cnames, show_col_types = FALSE)\n",
    "dat = dat %>% dplyr::mutate(\n",
    "    Peak_ATAC  = paste(Chrom_ATAC, Start_ATAC, End_ATAC, sep=\"_\"),\n",
    "    Annotation = annotation,\n",
    "    Label      = label,\n",
    "    Loc        = paste0(Chrom, \":\", Start, \"-\", End),\n",
    "    Value      = Score\n",
    ")\n",
    "\n",
    "### assign and show\n",
    "dat_peak_annot_astarr = dat\n",
    "print(dim(dat))\n",
    "head(dat)"
   ]
  },
  {
   "cell_type": "markdown",
   "metadata": {},
   "source": [
    "**WSTARR**"
   ]
  },
  {
   "cell_type": "code",
   "execution_count": 6,
   "metadata": {},
   "outputs": [
    {
     "name": "stdout",
     "output_type": "stream",
     "text": [
      "[1] 26262    13\n"
     ]
    },
    {
     "data": {
      "text/html": [
       "<table class=\"dataframe\">\n",
       "<caption>A tibble: 6 × 13</caption>\n",
       "<thead>\n",
       "\t<tr><th scope=col>Chrom_ATAC</th><th scope=col>Start_ATAC</th><th scope=col>End_ATAC</th><th scope=col>Chrom</th><th scope=col>Start</th><th scope=col>End</th><th scope=col>Score</th><th scope=col>Overlap</th><th scope=col>Peak_ATAC</th><th scope=col>Annotation</th><th scope=col>Label</th><th scope=col>Loc</th><th scope=col>Value</th></tr>\n",
       "\t<tr><th scope=col>&lt;chr&gt;</th><th scope=col>&lt;dbl&gt;</th><th scope=col>&lt;dbl&gt;</th><th scope=col>&lt;chr&gt;</th><th scope=col>&lt;dbl&gt;</th><th scope=col>&lt;dbl&gt;</th><th scope=col>&lt;dbl&gt;</th><th scope=col>&lt;dbl&gt;</th><th scope=col>&lt;chr&gt;</th><th scope=col>&lt;chr&gt;</th><th scope=col>&lt;chr&gt;</th><th scope=col>&lt;chr&gt;</th><th scope=col>&lt;dbl&gt;</th></tr>\n",
       "</thead>\n",
       "<tbody>\n",
       "\t<tr><td>chr1</td><td>777949</td><td>779437</td><td>chr1</td><td>778420</td><td>779100</td><td>1.655814</td><td>680</td><td>chr1_777949_779437</td><td>Enhancer</td><td>Enhancer_WSTARR</td><td>chr1:778420-779100</td><td>1.655814</td></tr>\n",
       "\t<tr><td>chr1</td><td>826754</td><td>828040</td><td>chr1</td><td>827490</td><td>827570</td><td>1.168009</td><td> 80</td><td>chr1_826754_828040</td><td>Enhancer</td><td>Enhancer_WSTARR</td><td>chr1:827490-827570</td><td>1.168009</td></tr>\n",
       "\t<tr><td>chr1</td><td>826754</td><td>828040</td><td>chr1</td><td>827670</td><td>827740</td><td>1.022223</td><td> 70</td><td>chr1_826754_828040</td><td>Enhancer</td><td>Enhancer_WSTARR</td><td>chr1:827670-827740</td><td>1.022223</td></tr>\n",
       "\t<tr><td>chr1</td><td>912650</td><td>914455</td><td>chr1</td><td>913190</td><td>913280</td><td>1.036642</td><td> 90</td><td>chr1_912650_914455</td><td>Enhancer</td><td>Enhancer_WSTARR</td><td>chr1:913190-913280</td><td>1.036642</td></tr>\n",
       "\t<tr><td>chr1</td><td>920697</td><td>921526</td><td>chr1</td><td>921020</td><td>921320</td><td>1.037478</td><td>300</td><td>chr1_920697_921526</td><td>Enhancer</td><td>Enhancer_WSTARR</td><td>chr1:921020-921320</td><td>1.037478</td></tr>\n",
       "\t<tr><td>chr1</td><td>940325</td><td>943460</td><td>chr1</td><td>941220</td><td>941320</td><td>1.096993</td><td>100</td><td>chr1_940325_943460</td><td>Enhancer</td><td>Enhancer_WSTARR</td><td>chr1:941220-941320</td><td>1.096993</td></tr>\n",
       "</tbody>\n",
       "</table>\n"
      ],
      "text/latex": [
       "A tibble: 6 × 13\n",
       "\\begin{tabular}{lllllllllllll}\n",
       " Chrom\\_ATAC & Start\\_ATAC & End\\_ATAC & Chrom & Start & End & Score & Overlap & Peak\\_ATAC & Annotation & Label & Loc & Value\\\\\n",
       " <chr> & <dbl> & <dbl> & <chr> & <dbl> & <dbl> & <dbl> & <dbl> & <chr> & <chr> & <chr> & <chr> & <dbl>\\\\\n",
       "\\hline\n",
       "\t chr1 & 777949 & 779437 & chr1 & 778420 & 779100 & 1.655814 & 680 & chr1\\_777949\\_779437 & Enhancer & Enhancer\\_WSTARR & chr1:778420-779100 & 1.655814\\\\\n",
       "\t chr1 & 826754 & 828040 & chr1 & 827490 & 827570 & 1.168009 &  80 & chr1\\_826754\\_828040 & Enhancer & Enhancer\\_WSTARR & chr1:827490-827570 & 1.168009\\\\\n",
       "\t chr1 & 826754 & 828040 & chr1 & 827670 & 827740 & 1.022223 &  70 & chr1\\_826754\\_828040 & Enhancer & Enhancer\\_WSTARR & chr1:827670-827740 & 1.022223\\\\\n",
       "\t chr1 & 912650 & 914455 & chr1 & 913190 & 913280 & 1.036642 &  90 & chr1\\_912650\\_914455 & Enhancer & Enhancer\\_WSTARR & chr1:913190-913280 & 1.036642\\\\\n",
       "\t chr1 & 920697 & 921526 & chr1 & 921020 & 921320 & 1.037478 & 300 & chr1\\_920697\\_921526 & Enhancer & Enhancer\\_WSTARR & chr1:921020-921320 & 1.037478\\\\\n",
       "\t chr1 & 940325 & 943460 & chr1 & 941220 & 941320 & 1.096993 & 100 & chr1\\_940325\\_943460 & Enhancer & Enhancer\\_WSTARR & chr1:941220-941320 & 1.096993\\\\\n",
       "\\end{tabular}\n"
      ],
      "text/markdown": [
       "\n",
       "A tibble: 6 × 13\n",
       "\n",
       "| Chrom_ATAC &lt;chr&gt; | Start_ATAC &lt;dbl&gt; | End_ATAC &lt;dbl&gt; | Chrom &lt;chr&gt; | Start &lt;dbl&gt; | End &lt;dbl&gt; | Score &lt;dbl&gt; | Overlap &lt;dbl&gt; | Peak_ATAC &lt;chr&gt; | Annotation &lt;chr&gt; | Label &lt;chr&gt; | Loc &lt;chr&gt; | Value &lt;dbl&gt; |\n",
       "|---|---|---|---|---|---|---|---|---|---|---|---|---|\n",
       "| chr1 | 777949 | 779437 | chr1 | 778420 | 779100 | 1.655814 | 680 | chr1_777949_779437 | Enhancer | Enhancer_WSTARR | chr1:778420-779100 | 1.655814 |\n",
       "| chr1 | 826754 | 828040 | chr1 | 827490 | 827570 | 1.168009 |  80 | chr1_826754_828040 | Enhancer | Enhancer_WSTARR | chr1:827490-827570 | 1.168009 |\n",
       "| chr1 | 826754 | 828040 | chr1 | 827670 | 827740 | 1.022223 |  70 | chr1_826754_828040 | Enhancer | Enhancer_WSTARR | chr1:827670-827740 | 1.022223 |\n",
       "| chr1 | 912650 | 914455 | chr1 | 913190 | 913280 | 1.036642 |  90 | chr1_912650_914455 | Enhancer | Enhancer_WSTARR | chr1:913190-913280 | 1.036642 |\n",
       "| chr1 | 920697 | 921526 | chr1 | 921020 | 921320 | 1.037478 | 300 | chr1_920697_921526 | Enhancer | Enhancer_WSTARR | chr1:921020-921320 | 1.037478 |\n",
       "| chr1 | 940325 | 943460 | chr1 | 941220 | 941320 | 1.096993 | 100 | chr1_940325_943460 | Enhancer | Enhancer_WSTARR | chr1:941220-941320 | 1.096993 |\n",
       "\n"
      ],
      "text/plain": [
       "  Chrom_ATAC Start_ATAC End_ATAC Chrom Start  End    Score    Overlap\n",
       "1 chr1       777949     779437   chr1  778420 779100 1.655814 680    \n",
       "2 chr1       826754     828040   chr1  827490 827570 1.168009  80    \n",
       "3 chr1       826754     828040   chr1  827670 827740 1.022223  70    \n",
       "4 chr1       912650     914455   chr1  913190 913280 1.036642  90    \n",
       "5 chr1       920697     921526   chr1  921020 921320 1.037478 300    \n",
       "6 chr1       940325     943460   chr1  941220 941320 1.096993 100    \n",
       "  Peak_ATAC          Annotation Label           Loc                Value   \n",
       "1 chr1_777949_779437 Enhancer   Enhancer_WSTARR chr1:778420-779100 1.655814\n",
       "2 chr1_826754_828040 Enhancer   Enhancer_WSTARR chr1:827490-827570 1.168009\n",
       "3 chr1_826754_828040 Enhancer   Enhancer_WSTARR chr1:827670-827740 1.022223\n",
       "4 chr1_912650_914455 Enhancer   Enhancer_WSTARR chr1:913190-913280 1.036642\n",
       "5 chr1_920697_921526 Enhancer   Enhancer_WSTARR chr1:921020-921320 1.037478\n",
       "6 chr1_940325_943460 Enhancer   Enhancer_WSTARR chr1:941220-941320 1.096993"
      ]
     },
     "metadata": {},
     "output_type": "display_data"
    }
   ],
   "source": [
    "### init\n",
    "annotation = \"Enhancer\"\n",
    "label      = \"Enhancer_WSTARR\"\n",
    "cnames = dat_cnames$Name\n",
    "cnames = c(\"Chrom_ATAC\", \"Start_ATAC\", \"End_ATAC\", cnames, \"Overlap\")\n",
    "\n",
    "###\n",
    "fdiry = file.path(\n",
    "    FD_RES, \n",
    "    \"results\", \n",
    "    \"region\", \n",
    "    \"KS91_K562_ASTARRseq_peak_macs_input\", \n",
    "    folder)\n",
    "fname = \"peak.annotation.enhancer_junke_peak_wstarr.bed.gz\"\n",
    "fpath = file.path(fdiry, fname)\n",
    "\n",
    "### read data\n",
    "dat = read_tsv(fpath, col_names = cnames, show_col_types = FALSE)\n",
    "dat = dat %>% dplyr::mutate(\n",
    "    Peak_ATAC  = paste(Chrom_ATAC, Start_ATAC, End_ATAC, sep=\"_\"),\n",
    "    Annotation = annotation,\n",
    "    Label      = label,\n",
    "    Loc        = paste0(Chrom, \":\", Start, \"-\", End),\n",
    "    Value      = Score\n",
    ")\n",
    "\n",
    "### assign and show\n",
    "dat_peak_annot_wstarr = dat\n",
    "print(dim(dat))\n",
    "head(dat)"
   ]
  },
  {
   "cell_type": "markdown",
   "metadata": {},
   "source": [
    "## Arrange and summarize"
   ]
  },
  {
   "cell_type": "code",
   "execution_count": 7,
   "metadata": {},
   "outputs": [
    {
     "name": "stdout",
     "output_type": "stream",
     "text": [
      "[1] 16537     6\n"
     ]
    },
    {
     "data": {
      "text/html": [
       "<table class=\"dataframe\">\n",
       "<caption>A tibble: 6 × 6</caption>\n",
       "<thead>\n",
       "\t<tr><th scope=col>Peak</th><th scope=col>Annotation</th><th scope=col>Label</th><th scope=col>Count</th><th scope=col>Loc</th><th scope=col>Score</th></tr>\n",
       "\t<tr><th scope=col>&lt;chr&gt;</th><th scope=col>&lt;chr&gt;</th><th scope=col>&lt;chr&gt;</th><th scope=col>&lt;int&gt;</th><th scope=col>&lt;chr&gt;</th><th scope=col>&lt;dbl&gt;</th></tr>\n",
       "</thead>\n",
       "<tbody>\n",
       "\t<tr><td>chr10_100228452_100230090</td><td>Enhancer</td><td>Enhancer_ASTARR</td><td>1</td><td>chr10:100229600-100229770                          </td><td>1.233322</td></tr>\n",
       "\t<tr><td>chr10_100267066_100268374</td><td>Enhancer</td><td>Enhancer_ASTARR</td><td>1</td><td>chr10:100267660-100267770                          </td><td>1.526371</td></tr>\n",
       "\t<tr><td>chr10_100373060_100374238</td><td>Enhancer</td><td>Enhancer_ASTARR</td><td>1</td><td>chr10:100373870-100374200                          </td><td>1.831382</td></tr>\n",
       "\t<tr><td>chr10_100528900_100530538</td><td>Enhancer</td><td>Enhancer_ASTARR</td><td>2</td><td>chr10:100529730-100529820|chr10:100529840-100529970</td><td>1.213262</td></tr>\n",
       "\t<tr><td>chr10_100535377_100536237</td><td>Enhancer</td><td>Enhancer_ASTARR</td><td>1</td><td>chr10:100535720-100536060                          </td><td>1.625216</td></tr>\n",
       "\t<tr><td>chr10_101042559_101043551</td><td>Enhancer</td><td>Enhancer_ASTARR</td><td>2</td><td>chr10:101042970-101043060|chr10:101043080-101043180</td><td>1.076811</td></tr>\n",
       "</tbody>\n",
       "</table>\n"
      ],
      "text/latex": [
       "A tibble: 6 × 6\n",
       "\\begin{tabular}{llllll}\n",
       " Peak & Annotation & Label & Count & Loc & Score\\\\\n",
       " <chr> & <chr> & <chr> & <int> & <chr> & <dbl>\\\\\n",
       "\\hline\n",
       "\t chr10\\_100228452\\_100230090 & Enhancer & Enhancer\\_ASTARR & 1 & chr10:100229600-100229770                           & 1.233322\\\\\n",
       "\t chr10\\_100267066\\_100268374 & Enhancer & Enhancer\\_ASTARR & 1 & chr10:100267660-100267770                           & 1.526371\\\\\n",
       "\t chr10\\_100373060\\_100374238 & Enhancer & Enhancer\\_ASTARR & 1 & chr10:100373870-100374200                           & 1.831382\\\\\n",
       "\t chr10\\_100528900\\_100530538 & Enhancer & Enhancer\\_ASTARR & 2 & chr10:100529730-100529820\\textbar{}chr10:100529840-100529970 & 1.213262\\\\\n",
       "\t chr10\\_100535377\\_100536237 & Enhancer & Enhancer\\_ASTARR & 1 & chr10:100535720-100536060                           & 1.625216\\\\\n",
       "\t chr10\\_101042559\\_101043551 & Enhancer & Enhancer\\_ASTARR & 2 & chr10:101042970-101043060\\textbar{}chr10:101043080-101043180 & 1.076811\\\\\n",
       "\\end{tabular}\n"
      ],
      "text/markdown": [
       "\n",
       "A tibble: 6 × 6\n",
       "\n",
       "| Peak &lt;chr&gt; | Annotation &lt;chr&gt; | Label &lt;chr&gt; | Count &lt;int&gt; | Loc &lt;chr&gt; | Score &lt;dbl&gt; |\n",
       "|---|---|---|---|---|---|\n",
       "| chr10_100228452_100230090 | Enhancer | Enhancer_ASTARR | 1 | chr10:100229600-100229770                           | 1.233322 |\n",
       "| chr10_100267066_100268374 | Enhancer | Enhancer_ASTARR | 1 | chr10:100267660-100267770                           | 1.526371 |\n",
       "| chr10_100373060_100374238 | Enhancer | Enhancer_ASTARR | 1 | chr10:100373870-100374200                           | 1.831382 |\n",
       "| chr10_100528900_100530538 | Enhancer | Enhancer_ASTARR | 2 | chr10:100529730-100529820|chr10:100529840-100529970 | 1.213262 |\n",
       "| chr10_100535377_100536237 | Enhancer | Enhancer_ASTARR | 1 | chr10:100535720-100536060                           | 1.625216 |\n",
       "| chr10_101042559_101043551 | Enhancer | Enhancer_ASTARR | 2 | chr10:101042970-101043060|chr10:101043080-101043180 | 1.076811 |\n",
       "\n"
      ],
      "text/plain": [
       "  Peak                      Annotation Label           Count\n",
       "1 chr10_100228452_100230090 Enhancer   Enhancer_ASTARR 1    \n",
       "2 chr10_100267066_100268374 Enhancer   Enhancer_ASTARR 1    \n",
       "3 chr10_100373060_100374238 Enhancer   Enhancer_ASTARR 1    \n",
       "4 chr10_100528900_100530538 Enhancer   Enhancer_ASTARR 2    \n",
       "5 chr10_100535377_100536237 Enhancer   Enhancer_ASTARR 1    \n",
       "6 chr10_101042559_101043551 Enhancer   Enhancer_ASTARR 2    \n",
       "  Loc                                                 Score   \n",
       "1 chr10:100229600-100229770                           1.233322\n",
       "2 chr10:100267660-100267770                           1.526371\n",
       "3 chr10:100373870-100374200                           1.831382\n",
       "4 chr10:100529730-100529820|chr10:100529840-100529970 1.213262\n",
       "5 chr10:100535720-100536060                           1.625216\n",
       "6 chr10:101042970-101043060|chr10:101043080-101043180 1.076811"
      ]
     },
     "metadata": {},
     "output_type": "display_data"
    }
   ],
   "source": [
    "dat = dat_peak_annot_astarr\n",
    "dat = dat %>% \n",
    "    dplyr::group_by(Peak_ATAC, Annotation, Label) %>%\n",
    "    dplyr::summarise(\n",
    "        Count = n(), \n",
    "        Loc   = paste(Loc, collapse=\"|\"),\n",
    "        Score = mean(Value),\n",
    "        .groups = \"drop\")\n",
    "\n",
    "dat = dat %>% dplyr::rename(\"Peak\" = \"Peak_ATAC\")\n",
    "\n",
    "### assign and show\n",
    "dat_peak_annot_count_astarr = dat\n",
    "print(dim(dat))\n",
    "head(dat)"
   ]
  },
  {
   "cell_type": "code",
   "execution_count": 8,
   "metadata": {},
   "outputs": [
    {
     "name": "stdout",
     "output_type": "stream",
     "text": [
      "[1] 20947     6\n"
     ]
    },
    {
     "data": {
      "text/html": [
       "<table class=\"dataframe\">\n",
       "<caption>A tibble: 6 × 6</caption>\n",
       "<thead>\n",
       "\t<tr><th scope=col>Peak</th><th scope=col>Annotation</th><th scope=col>Label</th><th scope=col>Count</th><th scope=col>Loc</th><th scope=col>Score</th></tr>\n",
       "\t<tr><th scope=col>&lt;chr&gt;</th><th scope=col>&lt;chr&gt;</th><th scope=col>&lt;chr&gt;</th><th scope=col>&lt;int&gt;</th><th scope=col>&lt;chr&gt;</th><th scope=col>&lt;dbl&gt;</th></tr>\n",
       "</thead>\n",
       "<tbody>\n",
       "\t<tr><td>chr10_100009096_100010466</td><td>Enhancer</td><td>Enhancer_WSTARR</td><td>2</td><td>chr10:100009900-100009950|chr10:100010000-100010030</td><td>1.077966</td></tr>\n",
       "\t<tr><td>chr10_100185017_100187275</td><td>Enhancer</td><td>Enhancer_WSTARR</td><td>1</td><td>chr10:100185860-100186300                          </td><td>1.228202</td></tr>\n",
       "\t<tr><td>chr10_100267066_100268374</td><td>Enhancer</td><td>Enhancer_WSTARR</td><td>1</td><td>chr10:100267670-100267780                          </td><td>1.265577</td></tr>\n",
       "\t<tr><td>chr10_100285974_100287341</td><td>Enhancer</td><td>Enhancer_WSTARR</td><td>2</td><td>chr10:100286470-100286500|chr10:100286550-100286830</td><td>1.131675</td></tr>\n",
       "\t<tr><td>chr10_100346328_100347693</td><td>Enhancer</td><td>Enhancer_WSTARR</td><td>1</td><td>chr10:100346760-100347200                          </td><td>1.427866</td></tr>\n",
       "\t<tr><td>chr10_100373060_100374238</td><td>Enhancer</td><td>Enhancer_WSTARR</td><td>2</td><td>chr10:100373130-100373290|chr10:100373410-100374270</td><td>1.695778</td></tr>\n",
       "</tbody>\n",
       "</table>\n"
      ],
      "text/latex": [
       "A tibble: 6 × 6\n",
       "\\begin{tabular}{llllll}\n",
       " Peak & Annotation & Label & Count & Loc & Score\\\\\n",
       " <chr> & <chr> & <chr> & <int> & <chr> & <dbl>\\\\\n",
       "\\hline\n",
       "\t chr10\\_100009096\\_100010466 & Enhancer & Enhancer\\_WSTARR & 2 & chr10:100009900-100009950\\textbar{}chr10:100010000-100010030 & 1.077966\\\\\n",
       "\t chr10\\_100185017\\_100187275 & Enhancer & Enhancer\\_WSTARR & 1 & chr10:100185860-100186300                           & 1.228202\\\\\n",
       "\t chr10\\_100267066\\_100268374 & Enhancer & Enhancer\\_WSTARR & 1 & chr10:100267670-100267780                           & 1.265577\\\\\n",
       "\t chr10\\_100285974\\_100287341 & Enhancer & Enhancer\\_WSTARR & 2 & chr10:100286470-100286500\\textbar{}chr10:100286550-100286830 & 1.131675\\\\\n",
       "\t chr10\\_100346328\\_100347693 & Enhancer & Enhancer\\_WSTARR & 1 & chr10:100346760-100347200                           & 1.427866\\\\\n",
       "\t chr10\\_100373060\\_100374238 & Enhancer & Enhancer\\_WSTARR & 2 & chr10:100373130-100373290\\textbar{}chr10:100373410-100374270 & 1.695778\\\\\n",
       "\\end{tabular}\n"
      ],
      "text/markdown": [
       "\n",
       "A tibble: 6 × 6\n",
       "\n",
       "| Peak &lt;chr&gt; | Annotation &lt;chr&gt; | Label &lt;chr&gt; | Count &lt;int&gt; | Loc &lt;chr&gt; | Score &lt;dbl&gt; |\n",
       "|---|---|---|---|---|---|\n",
       "| chr10_100009096_100010466 | Enhancer | Enhancer_WSTARR | 2 | chr10:100009900-100009950|chr10:100010000-100010030 | 1.077966 |\n",
       "| chr10_100185017_100187275 | Enhancer | Enhancer_WSTARR | 1 | chr10:100185860-100186300                           | 1.228202 |\n",
       "| chr10_100267066_100268374 | Enhancer | Enhancer_WSTARR | 1 | chr10:100267670-100267780                           | 1.265577 |\n",
       "| chr10_100285974_100287341 | Enhancer | Enhancer_WSTARR | 2 | chr10:100286470-100286500|chr10:100286550-100286830 | 1.131675 |\n",
       "| chr10_100346328_100347693 | Enhancer | Enhancer_WSTARR | 1 | chr10:100346760-100347200                           | 1.427866 |\n",
       "| chr10_100373060_100374238 | Enhancer | Enhancer_WSTARR | 2 | chr10:100373130-100373290|chr10:100373410-100374270 | 1.695778 |\n",
       "\n"
      ],
      "text/plain": [
       "  Peak                      Annotation Label           Count\n",
       "1 chr10_100009096_100010466 Enhancer   Enhancer_WSTARR 2    \n",
       "2 chr10_100185017_100187275 Enhancer   Enhancer_WSTARR 1    \n",
       "3 chr10_100267066_100268374 Enhancer   Enhancer_WSTARR 1    \n",
       "4 chr10_100285974_100287341 Enhancer   Enhancer_WSTARR 2    \n",
       "5 chr10_100346328_100347693 Enhancer   Enhancer_WSTARR 1    \n",
       "6 chr10_100373060_100374238 Enhancer   Enhancer_WSTARR 2    \n",
       "  Loc                                                 Score   \n",
       "1 chr10:100009900-100009950|chr10:100010000-100010030 1.077966\n",
       "2 chr10:100185860-100186300                           1.228202\n",
       "3 chr10:100267670-100267780                           1.265577\n",
       "4 chr10:100286470-100286500|chr10:100286550-100286830 1.131675\n",
       "5 chr10:100346760-100347200                           1.427866\n",
       "6 chr10:100373130-100373290|chr10:100373410-100374270 1.695778"
      ]
     },
     "metadata": {},
     "output_type": "display_data"
    }
   ],
   "source": [
    "dat = dat_peak_annot_wstarr\n",
    "dat = dat %>% \n",
    "    dplyr::group_by(Peak_ATAC, Annotation, Label) %>%\n",
    "    dplyr::summarise(\n",
    "        Count = n(), \n",
    "        Loc   = paste(Loc, collapse=\"|\"),\n",
    "        Score = mean(Value),\n",
    "        .groups = \"drop\")\n",
    "\n",
    "dat = dat %>% dplyr::rename(\"Peak\" = \"Peak_ATAC\")\n",
    "\n",
    "### assign and show\n",
    "dat_peak_annot_count_wstarr = dat\n",
    "print(dim(dat))\n",
    "head(dat)"
   ]
  },
  {
   "cell_type": "code",
   "execution_count": 9,
   "metadata": {},
   "outputs": [
    {
     "name": "stdout",
     "output_type": "stream",
     "text": [
      "[1] 29012     5\n"
     ]
    },
    {
     "data": {
      "text/html": [
       "<table class=\"dataframe\">\n",
       "<caption>A tibble: 6 × 5</caption>\n",
       "<thead>\n",
       "\t<tr><th scope=col>Peak</th><th scope=col>Annotation</th><th scope=col>Label</th><th scope=col>Count</th><th scope=col>Note</th></tr>\n",
       "\t<tr><th scope=col>&lt;chr&gt;</th><th scope=col>&lt;chr&gt;</th><th scope=col>&lt;chr&gt;</th><th scope=col>&lt;int&gt;</th><th scope=col>&lt;chr&gt;</th></tr>\n",
       "</thead>\n",
       "<tbody>\n",
       "\t<tr><td>chr10_100009096_100010466</td><td>Enhancer</td><td>Enhancer_STARR</td><td>2</td><td>WSTARR|WSTARR</td></tr>\n",
       "\t<tr><td>chr10_100185017_100187275</td><td>Enhancer</td><td>Enhancer_STARR</td><td>1</td><td>WSTARR       </td></tr>\n",
       "\t<tr><td>chr10_100228452_100230090</td><td>Enhancer</td><td>Enhancer_STARR</td><td>1</td><td>ASTARR       </td></tr>\n",
       "\t<tr><td>chr10_100267066_100268374</td><td>Enhancer</td><td>Enhancer_STARR</td><td>2</td><td>ASTARR|WSTARR</td></tr>\n",
       "\t<tr><td>chr10_100285974_100287341</td><td>Enhancer</td><td>Enhancer_STARR</td><td>2</td><td>WSTARR|WSTARR</td></tr>\n",
       "\t<tr><td>chr10_100346328_100347693</td><td>Enhancer</td><td>Enhancer_STARR</td><td>1</td><td>WSTARR       </td></tr>\n",
       "</tbody>\n",
       "</table>\n"
      ],
      "text/latex": [
       "A tibble: 6 × 5\n",
       "\\begin{tabular}{lllll}\n",
       " Peak & Annotation & Label & Count & Note\\\\\n",
       " <chr> & <chr> & <chr> & <int> & <chr>\\\\\n",
       "\\hline\n",
       "\t chr10\\_100009096\\_100010466 & Enhancer & Enhancer\\_STARR & 2 & WSTARR\\textbar{}WSTARR\\\\\n",
       "\t chr10\\_100185017\\_100187275 & Enhancer & Enhancer\\_STARR & 1 & WSTARR       \\\\\n",
       "\t chr10\\_100228452\\_100230090 & Enhancer & Enhancer\\_STARR & 1 & ASTARR       \\\\\n",
       "\t chr10\\_100267066\\_100268374 & Enhancer & Enhancer\\_STARR & 2 & ASTARR\\textbar{}WSTARR\\\\\n",
       "\t chr10\\_100285974\\_100287341 & Enhancer & Enhancer\\_STARR & 2 & WSTARR\\textbar{}WSTARR\\\\\n",
       "\t chr10\\_100346328\\_100347693 & Enhancer & Enhancer\\_STARR & 1 & WSTARR       \\\\\n",
       "\\end{tabular}\n"
      ],
      "text/markdown": [
       "\n",
       "A tibble: 6 × 5\n",
       "\n",
       "| Peak &lt;chr&gt; | Annotation &lt;chr&gt; | Label &lt;chr&gt; | Count &lt;int&gt; | Note &lt;chr&gt; |\n",
       "|---|---|---|---|---|\n",
       "| chr10_100009096_100010466 | Enhancer | Enhancer_STARR | 2 | WSTARR|WSTARR |\n",
       "| chr10_100185017_100187275 | Enhancer | Enhancer_STARR | 1 | WSTARR        |\n",
       "| chr10_100228452_100230090 | Enhancer | Enhancer_STARR | 1 | ASTARR        |\n",
       "| chr10_100267066_100268374 | Enhancer | Enhancer_STARR | 2 | ASTARR|WSTARR |\n",
       "| chr10_100285974_100287341 | Enhancer | Enhancer_STARR | 2 | WSTARR|WSTARR |\n",
       "| chr10_100346328_100347693 | Enhancer | Enhancer_STARR | 1 | WSTARR        |\n",
       "\n"
      ],
      "text/plain": [
       "  Peak                      Annotation Label          Count Note         \n",
       "1 chr10_100009096_100010466 Enhancer   Enhancer_STARR 2     WSTARR|WSTARR\n",
       "2 chr10_100185017_100187275 Enhancer   Enhancer_STARR 1     WSTARR       \n",
       "3 chr10_100228452_100230090 Enhancer   Enhancer_STARR 1     ASTARR       \n",
       "4 chr10_100267066_100268374 Enhancer   Enhancer_STARR 2     ASTARR|WSTARR\n",
       "5 chr10_100285974_100287341 Enhancer   Enhancer_STARR 2     WSTARR|WSTARR\n",
       "6 chr10_100346328_100347693 Enhancer   Enhancer_STARR 1     WSTARR       "
      ]
     },
     "metadata": {},
     "output_type": "display_data"
    }
   ],
   "source": [
    "dat = bind_rows(\n",
    "    dat_peak_annot_astarr %>% dplyr::mutate(Label=\"Enhancer_STARR\", Note=\"ASTARR\"), \n",
    "    dat_peak_annot_wstarr %>% dplyr::mutate(Label=\"Enhancer_STARR\", Note=\"WSTARR\"))\n",
    "\n",
    "dat = dat %>% \n",
    "    dplyr::group_by(Peak_ATAC, Annotation, Label) %>%\n",
    "    dplyr::summarise(\n",
    "        Count = n(), \n",
    "        Note  = paste(Note, collapse=\"|\"),\n",
    "        .groups = \"drop\")\n",
    "\n",
    "dat = dat %>% dplyr::rename(\"Peak\" = \"Peak_ATAC\")\n",
    "\n",
    "dat_peak_annot_count_starr = dat\n",
    "print(dim(dat))\n",
    "head(dat)"
   ]
  },
  {
   "cell_type": "code",
   "execution_count": 10,
   "metadata": {},
   "outputs": [
    {
     "data": {
      "text/plain": [
       "\n",
       "    1     2     3     4     5     6     7     8     9    10    11 \n",
       "16516  8296  2835   885   341    92    25    11     6     3     2 "
      ]
     },
     "metadata": {},
     "output_type": "display_data"
    }
   ],
   "source": [
    "dat = dat_peak_annot_count_starr\n",
    "table(dat$Count)"
   ]
  },
  {
   "cell_type": "code",
   "execution_count": 11,
   "metadata": {},
   "outputs": [
    {
     "data": {
      "text/html": [
       "<table class=\"dataframe\">\n",
       "<caption>A tibble: 5 × 5</caption>\n",
       "<thead>\n",
       "\t<tr><th scope=col>Peak</th><th scope=col>Annotation</th><th scope=col>Label</th><th scope=col>Count</th><th scope=col>Note</th></tr>\n",
       "\t<tr><th scope=col>&lt;chr&gt;</th><th scope=col>&lt;chr&gt;</th><th scope=col>&lt;chr&gt;</th><th scope=col>&lt;int&gt;</th><th scope=col>&lt;chr&gt;</th></tr>\n",
       "</thead>\n",
       "<tbody>\n",
       "\t<tr><td>chr1_16643694_16645841  </td><td>Enhancer</td><td>Enhancer_STARR</td><td>11</td><td>ASTARR|ASTARR|ASTARR|ASTARR|ASTARR|ASTARR|WSTARR|WSTARR|WSTARR|WSTARR|WSTARR</td></tr>\n",
       "\t<tr><td>chr1_45686078_45688517  </td><td>Enhancer</td><td>Enhancer_STARR</td><td>11</td><td>ASTARR|ASTARR|ASTARR|ASTARR|ASTARR|ASTARR|ASTARR|WSTARR|WSTARR|WSTARR|WSTARR</td></tr>\n",
       "\t<tr><td>chr2_201115932_201119539</td><td>Enhancer</td><td>Enhancer_STARR</td><td>10</td><td>ASTARR|ASTARR|ASTARR|ASTARR|ASTARR|ASTARR|ASTARR|ASTARR|WSTARR|WSTARR       </td></tr>\n",
       "\t<tr><td>chr6_17705609_17707214  </td><td>Enhancer</td><td>Enhancer_STARR</td><td>10</td><td>ASTARR|ASTARR|ASTARR|ASTARR|ASTARR|ASTARR|ASTARR|ASTARR|WSTARR|WSTARR       </td></tr>\n",
       "\t<tr><td>chr7_26199829_26202433  </td><td>Enhancer</td><td>Enhancer_STARR</td><td>10</td><td>ASTARR|ASTARR|ASTARR|ASTARR|WSTARR|WSTARR|WSTARR|WSTARR|WSTARR|WSTARR       </td></tr>\n",
       "</tbody>\n",
       "</table>\n"
      ],
      "text/latex": [
       "A tibble: 5 × 5\n",
       "\\begin{tabular}{lllll}\n",
       " Peak & Annotation & Label & Count & Note\\\\\n",
       " <chr> & <chr> & <chr> & <int> & <chr>\\\\\n",
       "\\hline\n",
       "\t chr1\\_16643694\\_16645841   & Enhancer & Enhancer\\_STARR & 11 & ASTARR\\textbar{}ASTARR\\textbar{}ASTARR\\textbar{}ASTARR\\textbar{}ASTARR\\textbar{}ASTARR\\textbar{}WSTARR\\textbar{}WSTARR\\textbar{}WSTARR\\textbar{}WSTARR\\textbar{}WSTARR\\\\\n",
       "\t chr1\\_45686078\\_45688517   & Enhancer & Enhancer\\_STARR & 11 & ASTARR\\textbar{}ASTARR\\textbar{}ASTARR\\textbar{}ASTARR\\textbar{}ASTARR\\textbar{}ASTARR\\textbar{}ASTARR\\textbar{}WSTARR\\textbar{}WSTARR\\textbar{}WSTARR\\textbar{}WSTARR\\\\\n",
       "\t chr2\\_201115932\\_201119539 & Enhancer & Enhancer\\_STARR & 10 & ASTARR\\textbar{}ASTARR\\textbar{}ASTARR\\textbar{}ASTARR\\textbar{}ASTARR\\textbar{}ASTARR\\textbar{}ASTARR\\textbar{}ASTARR\\textbar{}WSTARR\\textbar{}WSTARR       \\\\\n",
       "\t chr6\\_17705609\\_17707214   & Enhancer & Enhancer\\_STARR & 10 & ASTARR\\textbar{}ASTARR\\textbar{}ASTARR\\textbar{}ASTARR\\textbar{}ASTARR\\textbar{}ASTARR\\textbar{}ASTARR\\textbar{}ASTARR\\textbar{}WSTARR\\textbar{}WSTARR       \\\\\n",
       "\t chr7\\_26199829\\_26202433   & Enhancer & Enhancer\\_STARR & 10 & ASTARR\\textbar{}ASTARR\\textbar{}ASTARR\\textbar{}ASTARR\\textbar{}WSTARR\\textbar{}WSTARR\\textbar{}WSTARR\\textbar{}WSTARR\\textbar{}WSTARR\\textbar{}WSTARR       \\\\\n",
       "\\end{tabular}\n"
      ],
      "text/markdown": [
       "\n",
       "A tibble: 5 × 5\n",
       "\n",
       "| Peak &lt;chr&gt; | Annotation &lt;chr&gt; | Label &lt;chr&gt; | Count &lt;int&gt; | Note &lt;chr&gt; |\n",
       "|---|---|---|---|---|\n",
       "| chr1_16643694_16645841   | Enhancer | Enhancer_STARR | 11 | ASTARR|ASTARR|ASTARR|ASTARR|ASTARR|ASTARR|WSTARR|WSTARR|WSTARR|WSTARR|WSTARR |\n",
       "| chr1_45686078_45688517   | Enhancer | Enhancer_STARR | 11 | ASTARR|ASTARR|ASTARR|ASTARR|ASTARR|ASTARR|ASTARR|WSTARR|WSTARR|WSTARR|WSTARR |\n",
       "| chr2_201115932_201119539 | Enhancer | Enhancer_STARR | 10 | ASTARR|ASTARR|ASTARR|ASTARR|ASTARR|ASTARR|ASTARR|ASTARR|WSTARR|WSTARR        |\n",
       "| chr6_17705609_17707214   | Enhancer | Enhancer_STARR | 10 | ASTARR|ASTARR|ASTARR|ASTARR|ASTARR|ASTARR|ASTARR|ASTARR|WSTARR|WSTARR        |\n",
       "| chr7_26199829_26202433   | Enhancer | Enhancer_STARR | 10 | ASTARR|ASTARR|ASTARR|ASTARR|WSTARR|WSTARR|WSTARR|WSTARR|WSTARR|WSTARR        |\n",
       "\n"
      ],
      "text/plain": [
       "  Peak                     Annotation Label          Count\n",
       "1 chr1_16643694_16645841   Enhancer   Enhancer_STARR 11   \n",
       "2 chr1_45686078_45688517   Enhancer   Enhancer_STARR 11   \n",
       "3 chr2_201115932_201119539 Enhancer   Enhancer_STARR 10   \n",
       "4 chr6_17705609_17707214   Enhancer   Enhancer_STARR 10   \n",
       "5 chr7_26199829_26202433   Enhancer   Enhancer_STARR 10   \n",
       "  Note                                                                        \n",
       "1 ASTARR|ASTARR|ASTARR|ASTARR|ASTARR|ASTARR|WSTARR|WSTARR|WSTARR|WSTARR|WSTARR\n",
       "2 ASTARR|ASTARR|ASTARR|ASTARR|ASTARR|ASTARR|ASTARR|WSTARR|WSTARR|WSTARR|WSTARR\n",
       "3 ASTARR|ASTARR|ASTARR|ASTARR|ASTARR|ASTARR|ASTARR|ASTARR|WSTARR|WSTARR       \n",
       "4 ASTARR|ASTARR|ASTARR|ASTARR|ASTARR|ASTARR|ASTARR|ASTARR|WSTARR|WSTARR       \n",
       "5 ASTARR|ASTARR|ASTARR|ASTARR|WSTARR|WSTARR|WSTARR|WSTARR|WSTARR|WSTARR       "
      ]
     },
     "metadata": {},
     "output_type": "display_data"
    }
   ],
   "source": [
    "dat = dat_peak_annot_count_starr\n",
    "dat %>% dplyr::filter(Count >= 10)"
   ]
  },
  {
   "cell_type": "markdown",
   "metadata": {},
   "source": [
    "## Save results"
   ]
  },
  {
   "cell_type": "code",
   "execution_count": 12,
   "metadata": {},
   "outputs": [],
   "source": [
    "fdiry = file.path(FD_RES, \"results\", \"region\", \"KS91_K562_ASTARRseq_peak_macs_input\", \"summary\")\n",
    "fname = \"peak.summary.enhancer_junke_peak_astarr.tsv\"\n",
    "fpath = file.path(fdiry, fname)\n",
    "\n",
    "dat = dat_peak_annot_count_astarr\n",
    "write_tsv(dat, fpath)"
   ]
  },
  {
   "cell_type": "code",
   "execution_count": 13,
   "metadata": {},
   "outputs": [],
   "source": [
    "fdiry = file.path(FD_RES, \"results\", \"region\", \"KS91_K562_ASTARRseq_peak_macs_input\", \"summary\")\n",
    "fname = \"peak.summary.enhancer_junke_peak_wstarr.tsv\"\n",
    "fpath = file.path(fdiry, fname)\n",
    "\n",
    "dat = dat_peak_annot_count_wstarr\n",
    "write_tsv(dat, fpath)"
   ]
  },
  {
   "cell_type": "code",
   "execution_count": 14,
   "metadata": {},
   "outputs": [],
   "source": [
    "fdiry = file.path(FD_RES, \"results\", \"region\", \"KS91_K562_ASTARRseq_peak_macs_input\", \"summary\")\n",
    "fname = \"peak.summary.enhancer_junke_peak_starr.tsv\"\n",
    "fpath = file.path(fdiry, fname)\n",
    "\n",
    "dat = dat_peak_annot_count_starr\n",
    "write_tsv(dat, fpath)"
   ]
  },
  {
   "cell_type": "code",
   "execution_count": null,
   "metadata": {},
   "outputs": [],
   "source": []
  },
  {
   "cell_type": "code",
   "execution_count": null,
   "metadata": {},
   "outputs": [],
   "source": []
  },
  {
   "cell_type": "code",
   "execution_count": null,
   "metadata": {},
   "outputs": [],
   "source": []
  },
  {
   "cell_type": "code",
   "execution_count": null,
   "metadata": {},
   "outputs": [],
   "source": []
  },
  {
   "cell_type": "code",
   "execution_count": null,
   "metadata": {},
   "outputs": [],
   "source": []
  },
  {
   "cell_type": "code",
   "execution_count": null,
   "metadata": {},
   "outputs": [],
   "source": []
  },
  {
   "cell_type": "code",
   "execution_count": null,
   "metadata": {},
   "outputs": [],
   "source": []
  },
  {
   "cell_type": "code",
   "execution_count": null,
   "metadata": {},
   "outputs": [],
   "source": []
  },
  {
   "cell_type": "code",
   "execution_count": null,
   "metadata": {},
   "outputs": [],
   "source": []
  },
  {
   "cell_type": "code",
   "execution_count": null,
   "metadata": {},
   "outputs": [],
   "source": []
  },
  {
   "cell_type": "code",
   "execution_count": null,
   "metadata": {},
   "outputs": [],
   "source": []
  },
  {
   "cell_type": "code",
   "execution_count": null,
   "metadata": {},
   "outputs": [],
   "source": []
  },
  {
   "cell_type": "code",
   "execution_count": null,
   "metadata": {},
   "outputs": [],
   "source": []
  },
  {
   "cell_type": "markdown",
   "metadata": {},
   "source": [
    "## Import data"
   ]
  },
  {
   "cell_type": "code",
   "execution_count": 3,
   "metadata": {},
   "outputs": [
    {
     "name": "stdout",
     "output_type": "stream",
     "text": [
      "[1] 21517     9\n"
     ]
    },
    {
     "data": {
      "text/html": [
       "<table class=\"dataframe\">\n",
       "<caption>A tibble: 6 × 9</caption>\n",
       "<thead>\n",
       "\t<tr><th scope=col>Chrom</th><th scope=col>Start</th><th scope=col>End</th><th scope=col>Chrom_Enhancer</th><th scope=col>Start_Enhancer</th><th scope=col>End_Enhancer</th><th scope=col>Overlap</th><th scope=col>Peak</th><th scope=col>Enhancer</th></tr>\n",
       "\t<tr><th scope=col>&lt;chr&gt;</th><th scope=col>&lt;dbl&gt;</th><th scope=col>&lt;dbl&gt;</th><th scope=col>&lt;chr&gt;</th><th scope=col>&lt;dbl&gt;</th><th scope=col>&lt;dbl&gt;</th><th scope=col>&lt;dbl&gt;</th><th scope=col>&lt;chr&gt;</th><th scope=col>&lt;chr&gt;</th></tr>\n",
       "</thead>\n",
       "<tbody>\n",
       "\t<tr><td>chr1</td><td> 115411</td><td> 115986</td><td>chr1</td><td> 115570</td><td> 115740</td><td>170</td><td>chr1_115411_115986  </td><td>chr1_115570_115740  </td></tr>\n",
       "\t<tr><td>chr1</td><td> 605090</td><td> 605823</td><td>chr1</td><td> 605280</td><td> 605470</td><td>190</td><td>chr1_605090_605823  </td><td>chr1_605280_605470  </td></tr>\n",
       "\t<tr><td>chr1</td><td> 777949</td><td> 779437</td><td>chr1</td><td> 778370</td><td> 778900</td><td>530</td><td>chr1_777949_779437  </td><td>chr1_778370_778900  </td></tr>\n",
       "\t<tr><td>chr1</td><td> 826754</td><td> 828040</td><td>chr1</td><td> 827450</td><td> 827550</td><td>100</td><td>chr1_826754_828040  </td><td>chr1_827450_827550  </td></tr>\n",
       "\t<tr><td>chr1</td><td> 965936</td><td> 967556</td><td>chr1</td><td> 967240</td><td> 967410</td><td>170</td><td>chr1_965936_967556  </td><td>chr1_967240_967410  </td></tr>\n",
       "\t<tr><td>chr1</td><td>1001499</td><td>1002142</td><td>chr1</td><td>1002070</td><td>1002160</td><td> 72</td><td>chr1_1001499_1002142</td><td>chr1_1002070_1002160</td></tr>\n",
       "</tbody>\n",
       "</table>\n"
      ],
      "text/latex": [
       "A tibble: 6 × 9\n",
       "\\begin{tabular}{lllllllll}\n",
       " Chrom & Start & End & Chrom\\_Enhancer & Start\\_Enhancer & End\\_Enhancer & Overlap & Peak & Enhancer\\\\\n",
       " <chr> & <dbl> & <dbl> & <chr> & <dbl> & <dbl> & <dbl> & <chr> & <chr>\\\\\n",
       "\\hline\n",
       "\t chr1 &  115411 &  115986 & chr1 &  115570 &  115740 & 170 & chr1\\_115411\\_115986   & chr1\\_115570\\_115740  \\\\\n",
       "\t chr1 &  605090 &  605823 & chr1 &  605280 &  605470 & 190 & chr1\\_605090\\_605823   & chr1\\_605280\\_605470  \\\\\n",
       "\t chr1 &  777949 &  779437 & chr1 &  778370 &  778900 & 530 & chr1\\_777949\\_779437   & chr1\\_778370\\_778900  \\\\\n",
       "\t chr1 &  826754 &  828040 & chr1 &  827450 &  827550 & 100 & chr1\\_826754\\_828040   & chr1\\_827450\\_827550  \\\\\n",
       "\t chr1 &  965936 &  967556 & chr1 &  967240 &  967410 & 170 & chr1\\_965936\\_967556   & chr1\\_967240\\_967410  \\\\\n",
       "\t chr1 & 1001499 & 1002142 & chr1 & 1002070 & 1002160 &  72 & chr1\\_1001499\\_1002142 & chr1\\_1002070\\_1002160\\\\\n",
       "\\end{tabular}\n"
      ],
      "text/markdown": [
       "\n",
       "A tibble: 6 × 9\n",
       "\n",
       "| Chrom &lt;chr&gt; | Start &lt;dbl&gt; | End &lt;dbl&gt; | Chrom_Enhancer &lt;chr&gt; | Start_Enhancer &lt;dbl&gt; | End_Enhancer &lt;dbl&gt; | Overlap &lt;dbl&gt; | Peak &lt;chr&gt; | Enhancer &lt;chr&gt; |\n",
       "|---|---|---|---|---|---|---|---|---|\n",
       "| chr1 |  115411 |  115986 | chr1 |  115570 |  115740 | 170 | chr1_115411_115986   | chr1_115570_115740   |\n",
       "| chr1 |  605090 |  605823 | chr1 |  605280 |  605470 | 190 | chr1_605090_605823   | chr1_605280_605470   |\n",
       "| chr1 |  777949 |  779437 | chr1 |  778370 |  778900 | 530 | chr1_777949_779437   | chr1_778370_778900   |\n",
       "| chr1 |  826754 |  828040 | chr1 |  827450 |  827550 | 100 | chr1_826754_828040   | chr1_827450_827550   |\n",
       "| chr1 |  965936 |  967556 | chr1 |  967240 |  967410 | 170 | chr1_965936_967556   | chr1_967240_967410   |\n",
       "| chr1 | 1001499 | 1002142 | chr1 | 1002070 | 1002160 |  72 | chr1_1001499_1002142 | chr1_1002070_1002160 |\n",
       "\n"
      ],
      "text/plain": [
       "  Chrom Start   End     Chrom_Enhancer Start_Enhancer End_Enhancer Overlap\n",
       "1 chr1   115411  115986 chr1            115570         115740      170    \n",
       "2 chr1   605090  605823 chr1            605280         605470      190    \n",
       "3 chr1   777949  779437 chr1            778370         778900      530    \n",
       "4 chr1   826754  828040 chr1            827450         827550      100    \n",
       "5 chr1   965936  967556 chr1            967240         967410      170    \n",
       "6 chr1  1001499 1002142 chr1           1002070        1002160       72    \n",
       "  Peak                 Enhancer            \n",
       "1 chr1_115411_115986   chr1_115570_115740  \n",
       "2 chr1_605090_605823   chr1_605280_605470  \n",
       "3 chr1_777949_779437   chr1_778370_778900  \n",
       "4 chr1_826754_828040   chr1_827450_827550  \n",
       "5 chr1_965936_967556   chr1_967240_967410  \n",
       "6 chr1_1001499_1002142 chr1_1002070_1002160"
      ]
     },
     "metadata": {},
     "output_type": "display_data"
    }
   ],
   "source": [
    "### set file path\n",
    "fdiry = file.path(FD_RES, \"results\", \"region\", \"KS91_K562_ASTARRseq_peak_macs_input\")\n",
    "fname = \"peak.annotation.enhancer_junke_peak_astarr.bed.gz\"\n",
    "fpath = file.path(fdiry, fname)\n",
    "\n",
    "\n",
    "### import data\n",
    "cnames = c(\"Chrom\", \"Start\", \"End\",\n",
    "           \"Chrom_Enhancer\", \"Start_Enhancer\", \"End_Enhancer\",\n",
    "           \"Overlap\")\n",
    "dat = read_tsv(fpath, col_names = cnames, show_col_types = FALSE)\n",
    "dat = dat %>% mutate(\n",
    "    Peak     = paste(Chrom, Start, End, sep=\"_\"),\n",
    "    Enhancer = paste(Chrom_Enhancer, Start_Enhancer, End_Enhancer, sep=\"_\"),\n",
    ")\n",
    "\n",
    "### assign\n",
    "dat_peak_annot_enhancer_astarr = dat\n",
    "print(dim(dat))\n",
    "head(dat)"
   ]
  },
  {
   "cell_type": "code",
   "execution_count": 4,
   "metadata": {},
   "outputs": [
    {
     "name": "stdout",
     "output_type": "stream",
     "text": [
      "[1] 26262     9\n"
     ]
    },
    {
     "data": {
      "text/html": [
       "<table class=\"dataframe\">\n",
       "<caption>A tibble: 6 × 9</caption>\n",
       "<thead>\n",
       "\t<tr><th scope=col>Chrom</th><th scope=col>Start</th><th scope=col>End</th><th scope=col>Chrom_Enhancer</th><th scope=col>Start_Enhancer</th><th scope=col>End_Enhancer</th><th scope=col>Overlap</th><th scope=col>Peak</th><th scope=col>Enhancer</th></tr>\n",
       "\t<tr><th scope=col>&lt;chr&gt;</th><th scope=col>&lt;dbl&gt;</th><th scope=col>&lt;dbl&gt;</th><th scope=col>&lt;chr&gt;</th><th scope=col>&lt;dbl&gt;</th><th scope=col>&lt;dbl&gt;</th><th scope=col>&lt;dbl&gt;</th><th scope=col>&lt;chr&gt;</th><th scope=col>&lt;chr&gt;</th></tr>\n",
       "</thead>\n",
       "<tbody>\n",
       "\t<tr><td>chr1</td><td>777949</td><td>779437</td><td>chr1</td><td>778420</td><td>779100</td><td>680</td><td>chr1_777949_779437</td><td>chr1_778420_779100</td></tr>\n",
       "\t<tr><td>chr1</td><td>826754</td><td>828040</td><td>chr1</td><td>827490</td><td>827570</td><td> 80</td><td>chr1_826754_828040</td><td>chr1_827490_827570</td></tr>\n",
       "\t<tr><td>chr1</td><td>826754</td><td>828040</td><td>chr1</td><td>827670</td><td>827740</td><td> 70</td><td>chr1_826754_828040</td><td>chr1_827670_827740</td></tr>\n",
       "\t<tr><td>chr1</td><td>912650</td><td>914455</td><td>chr1</td><td>913190</td><td>913280</td><td> 90</td><td>chr1_912650_914455</td><td>chr1_913190_913280</td></tr>\n",
       "\t<tr><td>chr1</td><td>920697</td><td>921526</td><td>chr1</td><td>921020</td><td>921320</td><td>300</td><td>chr1_920697_921526</td><td>chr1_921020_921320</td></tr>\n",
       "\t<tr><td>chr1</td><td>940325</td><td>943460</td><td>chr1</td><td>941220</td><td>941320</td><td>100</td><td>chr1_940325_943460</td><td>chr1_941220_941320</td></tr>\n",
       "</tbody>\n",
       "</table>\n"
      ],
      "text/latex": [
       "A tibble: 6 × 9\n",
       "\\begin{tabular}{lllllllll}\n",
       " Chrom & Start & End & Chrom\\_Enhancer & Start\\_Enhancer & End\\_Enhancer & Overlap & Peak & Enhancer\\\\\n",
       " <chr> & <dbl> & <dbl> & <chr> & <dbl> & <dbl> & <dbl> & <chr> & <chr>\\\\\n",
       "\\hline\n",
       "\t chr1 & 777949 & 779437 & chr1 & 778420 & 779100 & 680 & chr1\\_777949\\_779437 & chr1\\_778420\\_779100\\\\\n",
       "\t chr1 & 826754 & 828040 & chr1 & 827490 & 827570 &  80 & chr1\\_826754\\_828040 & chr1\\_827490\\_827570\\\\\n",
       "\t chr1 & 826754 & 828040 & chr1 & 827670 & 827740 &  70 & chr1\\_826754\\_828040 & chr1\\_827670\\_827740\\\\\n",
       "\t chr1 & 912650 & 914455 & chr1 & 913190 & 913280 &  90 & chr1\\_912650\\_914455 & chr1\\_913190\\_913280\\\\\n",
       "\t chr1 & 920697 & 921526 & chr1 & 921020 & 921320 & 300 & chr1\\_920697\\_921526 & chr1\\_921020\\_921320\\\\\n",
       "\t chr1 & 940325 & 943460 & chr1 & 941220 & 941320 & 100 & chr1\\_940325\\_943460 & chr1\\_941220\\_941320\\\\\n",
       "\\end{tabular}\n"
      ],
      "text/markdown": [
       "\n",
       "A tibble: 6 × 9\n",
       "\n",
       "| Chrom &lt;chr&gt; | Start &lt;dbl&gt; | End &lt;dbl&gt; | Chrom_Enhancer &lt;chr&gt; | Start_Enhancer &lt;dbl&gt; | End_Enhancer &lt;dbl&gt; | Overlap &lt;dbl&gt; | Peak &lt;chr&gt; | Enhancer &lt;chr&gt; |\n",
       "|---|---|---|---|---|---|---|---|---|\n",
       "| chr1 | 777949 | 779437 | chr1 | 778420 | 779100 | 680 | chr1_777949_779437 | chr1_778420_779100 |\n",
       "| chr1 | 826754 | 828040 | chr1 | 827490 | 827570 |  80 | chr1_826754_828040 | chr1_827490_827570 |\n",
       "| chr1 | 826754 | 828040 | chr1 | 827670 | 827740 |  70 | chr1_826754_828040 | chr1_827670_827740 |\n",
       "| chr1 | 912650 | 914455 | chr1 | 913190 | 913280 |  90 | chr1_912650_914455 | chr1_913190_913280 |\n",
       "| chr1 | 920697 | 921526 | chr1 | 921020 | 921320 | 300 | chr1_920697_921526 | chr1_921020_921320 |\n",
       "| chr1 | 940325 | 943460 | chr1 | 941220 | 941320 | 100 | chr1_940325_943460 | chr1_941220_941320 |\n",
       "\n"
      ],
      "text/plain": [
       "  Chrom Start  End    Chrom_Enhancer Start_Enhancer End_Enhancer Overlap\n",
       "1 chr1  777949 779437 chr1           778420         779100       680    \n",
       "2 chr1  826754 828040 chr1           827490         827570        80    \n",
       "3 chr1  826754 828040 chr1           827670         827740        70    \n",
       "4 chr1  912650 914455 chr1           913190         913280        90    \n",
       "5 chr1  920697 921526 chr1           921020         921320       300    \n",
       "6 chr1  940325 943460 chr1           941220         941320       100    \n",
       "  Peak               Enhancer          \n",
       "1 chr1_777949_779437 chr1_778420_779100\n",
       "2 chr1_826754_828040 chr1_827490_827570\n",
       "3 chr1_826754_828040 chr1_827670_827740\n",
       "4 chr1_912650_914455 chr1_913190_913280\n",
       "5 chr1_920697_921526 chr1_921020_921320\n",
       "6 chr1_940325_943460 chr1_941220_941320"
      ]
     },
     "metadata": {},
     "output_type": "display_data"
    }
   ],
   "source": [
    "### set file path\n",
    "fdiry = file.path(FD_RES, \"results\", \"region\", \"KS91_K562_ASTARRseq_peak_macs_input\")\n",
    "fname = \"peak.annotation.enhancer_junke_peak_wstarr.bed.gz\"\n",
    "fpath = file.path(fdiry, fname)\n",
    "\n",
    "\n",
    "### import data\n",
    "cnames = c(\"Chrom\", \"Start\", \"End\",\n",
    "           \"Chrom_Enhancer\", \"Start_Enhancer\", \"End_Enhancer\",\n",
    "           \"Overlap\")\n",
    "dat = read_tsv(fpath, col_names = cnames, show_col_types = FALSE)\n",
    "dat = dat %>% mutate(\n",
    "    Peak     = paste(Chrom, Start, End, sep=\"_\"),\n",
    "    Enhancer = paste(Chrom_Enhancer, Start_Enhancer, End_Enhancer, sep=\"_\"),\n",
    ")\n",
    "\n",
    "### assign\n",
    "dat_peak_annot_enhancer_wstarr = dat\n",
    "print(dim(dat))\n",
    "head(dat)"
   ]
  },
  {
   "cell_type": "markdown",
   "metadata": {},
   "source": [
    "## Summary"
   ]
  },
  {
   "cell_type": "code",
   "execution_count": 7,
   "metadata": {},
   "outputs": [
    {
     "name": "stdout",
     "output_type": "stream",
     "text": [
      "[1] 16537     5\n"
     ]
    },
    {
     "data": {
      "text/html": [
       "<table class=\"dataframe\">\n",
       "<caption>A tibble: 6 × 5</caption>\n",
       "<thead>\n",
       "\t<tr><th scope=col>Peak</th><th scope=col>Name</th><th scope=col>Assay</th><th scope=col>Count</th><th scope=col>Annotate</th></tr>\n",
       "\t<tr><th scope=col>&lt;chr&gt;</th><th scope=col>&lt;chr&gt;</th><th scope=col>&lt;chr&gt;</th><th scope=col>&lt;int&gt;</th><th scope=col>&lt;chr&gt;</th></tr>\n",
       "</thead>\n",
       "<tbody>\n",
       "\t<tr><td>chr10_100228452_100230090</td><td>Enhancer</td><td>ASTARR</td><td>1</td><td>chr10_100229600_100229770                          </td></tr>\n",
       "\t<tr><td>chr10_100267066_100268374</td><td>Enhancer</td><td>ASTARR</td><td>1</td><td>chr10_100267660_100267770                          </td></tr>\n",
       "\t<tr><td>chr10_100373060_100374238</td><td>Enhancer</td><td>ASTARR</td><td>1</td><td>chr10_100373870_100374200                          </td></tr>\n",
       "\t<tr><td>chr10_100528900_100530538</td><td>Enhancer</td><td>ASTARR</td><td>2</td><td>chr10_100529730_100529820,chr10_100529840_100529970</td></tr>\n",
       "\t<tr><td>chr10_100535377_100536237</td><td>Enhancer</td><td>ASTARR</td><td>1</td><td>chr10_100535720_100536060                          </td></tr>\n",
       "\t<tr><td>chr10_101042559_101043551</td><td>Enhancer</td><td>ASTARR</td><td>2</td><td>chr10_101042970_101043060,chr10_101043080_101043180</td></tr>\n",
       "</tbody>\n",
       "</table>\n"
      ],
      "text/latex": [
       "A tibble: 6 × 5\n",
       "\\begin{tabular}{lllll}\n",
       " Peak & Name & Assay & Count & Annotate\\\\\n",
       " <chr> & <chr> & <chr> & <int> & <chr>\\\\\n",
       "\\hline\n",
       "\t chr10\\_100228452\\_100230090 & Enhancer & ASTARR & 1 & chr10\\_100229600\\_100229770                          \\\\\n",
       "\t chr10\\_100267066\\_100268374 & Enhancer & ASTARR & 1 & chr10\\_100267660\\_100267770                          \\\\\n",
       "\t chr10\\_100373060\\_100374238 & Enhancer & ASTARR & 1 & chr10\\_100373870\\_100374200                          \\\\\n",
       "\t chr10\\_100528900\\_100530538 & Enhancer & ASTARR & 2 & chr10\\_100529730\\_100529820,chr10\\_100529840\\_100529970\\\\\n",
       "\t chr10\\_100535377\\_100536237 & Enhancer & ASTARR & 1 & chr10\\_100535720\\_100536060                          \\\\\n",
       "\t chr10\\_101042559\\_101043551 & Enhancer & ASTARR & 2 & chr10\\_101042970\\_101043060,chr10\\_101043080\\_101043180\\\\\n",
       "\\end{tabular}\n"
      ],
      "text/markdown": [
       "\n",
       "A tibble: 6 × 5\n",
       "\n",
       "| Peak &lt;chr&gt; | Name &lt;chr&gt; | Assay &lt;chr&gt; | Count &lt;int&gt; | Annotate &lt;chr&gt; |\n",
       "|---|---|---|---|---|\n",
       "| chr10_100228452_100230090 | Enhancer | ASTARR | 1 | chr10_100229600_100229770                           |\n",
       "| chr10_100267066_100268374 | Enhancer | ASTARR | 1 | chr10_100267660_100267770                           |\n",
       "| chr10_100373060_100374238 | Enhancer | ASTARR | 1 | chr10_100373870_100374200                           |\n",
       "| chr10_100528900_100530538 | Enhancer | ASTARR | 2 | chr10_100529730_100529820,chr10_100529840_100529970 |\n",
       "| chr10_100535377_100536237 | Enhancer | ASTARR | 1 | chr10_100535720_100536060                           |\n",
       "| chr10_101042559_101043551 | Enhancer | ASTARR | 2 | chr10_101042970_101043060,chr10_101043080_101043180 |\n",
       "\n"
      ],
      "text/plain": [
       "  Peak                      Name     Assay  Count\n",
       "1 chr10_100228452_100230090 Enhancer ASTARR 1    \n",
       "2 chr10_100267066_100268374 Enhancer ASTARR 1    \n",
       "3 chr10_100373060_100374238 Enhancer ASTARR 1    \n",
       "4 chr10_100528900_100530538 Enhancer ASTARR 2    \n",
       "5 chr10_100535377_100536237 Enhancer ASTARR 1    \n",
       "6 chr10_101042559_101043551 Enhancer ASTARR 2    \n",
       "  Annotate                                           \n",
       "1 chr10_100229600_100229770                          \n",
       "2 chr10_100267660_100267770                          \n",
       "3 chr10_100373870_100374200                          \n",
       "4 chr10_100529730_100529820,chr10_100529840_100529970\n",
       "5 chr10_100535720_100536060                          \n",
       "6 chr10_101042970_101043060,chr10_101043080_101043180"
      ]
     },
     "metadata": {},
     "output_type": "display_data"
    }
   ],
   "source": [
    "###\n",
    "dat = dat_peak_annot_enhancer_astarr\n",
    "dat = dat %>% \n",
    "    group_by(Peak) %>% \n",
    "    summarize(\n",
    "        Name  = \"Enhancer\",\n",
    "        Assay = \"ASTARR\",\n",
    "        Count = n(), \n",
    "        Annotate = paste(Enhancer, collapse = \",\"),\n",
    "        .groups=\"drop\")\n",
    "\n",
    "###\n",
    "dat_peak_count_enhancer_astarr = dat\n",
    "print(dim(dat))\n",
    "head(dat)"
   ]
  },
  {
   "cell_type": "code",
   "execution_count": 11,
   "metadata": {},
   "outputs": [
    {
     "name": "stdout",
     "output_type": "stream",
     "text": [
      "[1] 20947     5\n"
     ]
    },
    {
     "data": {
      "text/html": [
       "<table class=\"dataframe\">\n",
       "<caption>A tibble: 6 × 5</caption>\n",
       "<thead>\n",
       "\t<tr><th scope=col>Peak</th><th scope=col>Name</th><th scope=col>Assay</th><th scope=col>Count</th><th scope=col>Annotate</th></tr>\n",
       "\t<tr><th scope=col>&lt;chr&gt;</th><th scope=col>&lt;chr&gt;</th><th scope=col>&lt;chr&gt;</th><th scope=col>&lt;int&gt;</th><th scope=col>&lt;chr&gt;</th></tr>\n",
       "</thead>\n",
       "<tbody>\n",
       "\t<tr><td>chr10_100009096_100010466</td><td>Enhancer</td><td>WSTARR</td><td>2</td><td>chr10_100009900_100009950,chr10_100010000_100010030</td></tr>\n",
       "\t<tr><td>chr10_100185017_100187275</td><td>Enhancer</td><td>WSTARR</td><td>1</td><td>chr10_100185860_100186300                          </td></tr>\n",
       "\t<tr><td>chr10_100267066_100268374</td><td>Enhancer</td><td>WSTARR</td><td>1</td><td>chr10_100267670_100267780                          </td></tr>\n",
       "\t<tr><td>chr10_100285974_100287341</td><td>Enhancer</td><td>WSTARR</td><td>2</td><td>chr10_100286470_100286500,chr10_100286550_100286830</td></tr>\n",
       "\t<tr><td>chr10_100346328_100347693</td><td>Enhancer</td><td>WSTARR</td><td>1</td><td>chr10_100346760_100347200                          </td></tr>\n",
       "\t<tr><td>chr10_100373060_100374238</td><td>Enhancer</td><td>WSTARR</td><td>2</td><td>chr10_100373130_100373290,chr10_100373410_100374270</td></tr>\n",
       "</tbody>\n",
       "</table>\n"
      ],
      "text/latex": [
       "A tibble: 6 × 5\n",
       "\\begin{tabular}{lllll}\n",
       " Peak & Name & Assay & Count & Annotate\\\\\n",
       " <chr> & <chr> & <chr> & <int> & <chr>\\\\\n",
       "\\hline\n",
       "\t chr10\\_100009096\\_100010466 & Enhancer & WSTARR & 2 & chr10\\_100009900\\_100009950,chr10\\_100010000\\_100010030\\\\\n",
       "\t chr10\\_100185017\\_100187275 & Enhancer & WSTARR & 1 & chr10\\_100185860\\_100186300                          \\\\\n",
       "\t chr10\\_100267066\\_100268374 & Enhancer & WSTARR & 1 & chr10\\_100267670\\_100267780                          \\\\\n",
       "\t chr10\\_100285974\\_100287341 & Enhancer & WSTARR & 2 & chr10\\_100286470\\_100286500,chr10\\_100286550\\_100286830\\\\\n",
       "\t chr10\\_100346328\\_100347693 & Enhancer & WSTARR & 1 & chr10\\_100346760\\_100347200                          \\\\\n",
       "\t chr10\\_100373060\\_100374238 & Enhancer & WSTARR & 2 & chr10\\_100373130\\_100373290,chr10\\_100373410\\_100374270\\\\\n",
       "\\end{tabular}\n"
      ],
      "text/markdown": [
       "\n",
       "A tibble: 6 × 5\n",
       "\n",
       "| Peak &lt;chr&gt; | Name &lt;chr&gt; | Assay &lt;chr&gt; | Count &lt;int&gt; | Annotate &lt;chr&gt; |\n",
       "|---|---|---|---|---|\n",
       "| chr10_100009096_100010466 | Enhancer | WSTARR | 2 | chr10_100009900_100009950,chr10_100010000_100010030 |\n",
       "| chr10_100185017_100187275 | Enhancer | WSTARR | 1 | chr10_100185860_100186300                           |\n",
       "| chr10_100267066_100268374 | Enhancer | WSTARR | 1 | chr10_100267670_100267780                           |\n",
       "| chr10_100285974_100287341 | Enhancer | WSTARR | 2 | chr10_100286470_100286500,chr10_100286550_100286830 |\n",
       "| chr10_100346328_100347693 | Enhancer | WSTARR | 1 | chr10_100346760_100347200                           |\n",
       "| chr10_100373060_100374238 | Enhancer | WSTARR | 2 | chr10_100373130_100373290,chr10_100373410_100374270 |\n",
       "\n"
      ],
      "text/plain": [
       "  Peak                      Name     Assay  Count\n",
       "1 chr10_100009096_100010466 Enhancer WSTARR 2    \n",
       "2 chr10_100185017_100187275 Enhancer WSTARR 1    \n",
       "3 chr10_100267066_100268374 Enhancer WSTARR 1    \n",
       "4 chr10_100285974_100287341 Enhancer WSTARR 2    \n",
       "5 chr10_100346328_100347693 Enhancer WSTARR 1    \n",
       "6 chr10_100373060_100374238 Enhancer WSTARR 2    \n",
       "  Annotate                                           \n",
       "1 chr10_100009900_100009950,chr10_100010000_100010030\n",
       "2 chr10_100185860_100186300                          \n",
       "3 chr10_100267670_100267780                          \n",
       "4 chr10_100286470_100286500,chr10_100286550_100286830\n",
       "5 chr10_100346760_100347200                          \n",
       "6 chr10_100373130_100373290,chr10_100373410_100374270"
      ]
     },
     "metadata": {},
     "output_type": "display_data"
    }
   ],
   "source": [
    "###\n",
    "dat = dat_peak_annot_enhancer_wstarr\n",
    "dat = dat %>% \n",
    "    group_by(Peak) %>% \n",
    "    summarize(\n",
    "        Name   = \"Enhancer\",\n",
    "        Assay  = \"WSTARR\",\n",
    "        Count  = n(), \n",
    "        Annotate = paste(Enhancer, collapse = \",\"),\n",
    "        .groups=\"drop\")\n",
    "\n",
    "###\n",
    "dat_peak_count_enhancer_wstarr = dat\n",
    "print(dim(dat))\n",
    "head(dat)"
   ]
  },
  {
   "cell_type": "code",
   "execution_count": 16,
   "metadata": {},
   "outputs": [
    {
     "name": "stdout",
     "output_type": "stream",
     "text": [
      "[1] 29012     4\n"
     ]
    },
    {
     "data": {
      "text/html": [
       "<table class=\"dataframe\">\n",
       "<caption>A tibble: 6 × 4</caption>\n",
       "<thead>\n",
       "\t<tr><th scope=col>Peak</th><th scope=col>Name</th><th scope=col>Assay</th><th scope=col>Annotate</th></tr>\n",
       "\t<tr><th scope=col>&lt;chr&gt;</th><th scope=col>&lt;chr&gt;</th><th scope=col>&lt;chr&gt;</th><th scope=col>&lt;chr&gt;</th></tr>\n",
       "</thead>\n",
       "<tbody>\n",
       "\t<tr><td>chr10_100009096_100010466</td><td>Enhancer</td><td>WSTARR       </td><td>chr10_100009900_100009950,chr10_100010000_100010030</td></tr>\n",
       "\t<tr><td>chr10_100185017_100187275</td><td>Enhancer</td><td>WSTARR       </td><td>chr10_100185860_100186300                          </td></tr>\n",
       "\t<tr><td>chr10_100228452_100230090</td><td>Enhancer</td><td>ASTARR       </td><td>chr10_100229600_100229770                          </td></tr>\n",
       "\t<tr><td>chr10_100267066_100268374</td><td>Enhancer</td><td>ASTARR,WSTARR</td><td>chr10_100267660_100267770,chr10_100267670_100267780</td></tr>\n",
       "\t<tr><td>chr10_100285974_100287341</td><td>Enhancer</td><td>WSTARR       </td><td>chr10_100286470_100286500,chr10_100286550_100286830</td></tr>\n",
       "\t<tr><td>chr10_100346328_100347693</td><td>Enhancer</td><td>WSTARR       </td><td>chr10_100346760_100347200                          </td></tr>\n",
       "</tbody>\n",
       "</table>\n"
      ],
      "text/latex": [
       "A tibble: 6 × 4\n",
       "\\begin{tabular}{llll}\n",
       " Peak & Name & Assay & Annotate\\\\\n",
       " <chr> & <chr> & <chr> & <chr>\\\\\n",
       "\\hline\n",
       "\t chr10\\_100009096\\_100010466 & Enhancer & WSTARR        & chr10\\_100009900\\_100009950,chr10\\_100010000\\_100010030\\\\\n",
       "\t chr10\\_100185017\\_100187275 & Enhancer & WSTARR        & chr10\\_100185860\\_100186300                          \\\\\n",
       "\t chr10\\_100228452\\_100230090 & Enhancer & ASTARR        & chr10\\_100229600\\_100229770                          \\\\\n",
       "\t chr10\\_100267066\\_100268374 & Enhancer & ASTARR,WSTARR & chr10\\_100267660\\_100267770,chr10\\_100267670\\_100267780\\\\\n",
       "\t chr10\\_100285974\\_100287341 & Enhancer & WSTARR        & chr10\\_100286470\\_100286500,chr10\\_100286550\\_100286830\\\\\n",
       "\t chr10\\_100346328\\_100347693 & Enhancer & WSTARR        & chr10\\_100346760\\_100347200                          \\\\\n",
       "\\end{tabular}\n"
      ],
      "text/markdown": [
       "\n",
       "A tibble: 6 × 4\n",
       "\n",
       "| Peak &lt;chr&gt; | Name &lt;chr&gt; | Assay &lt;chr&gt; | Annotate &lt;chr&gt; |\n",
       "|---|---|---|---|\n",
       "| chr10_100009096_100010466 | Enhancer | WSTARR        | chr10_100009900_100009950,chr10_100010000_100010030 |\n",
       "| chr10_100185017_100187275 | Enhancer | WSTARR        | chr10_100185860_100186300                           |\n",
       "| chr10_100228452_100230090 | Enhancer | ASTARR        | chr10_100229600_100229770                           |\n",
       "| chr10_100267066_100268374 | Enhancer | ASTARR,WSTARR | chr10_100267660_100267770,chr10_100267670_100267780 |\n",
       "| chr10_100285974_100287341 | Enhancer | WSTARR        | chr10_100286470_100286500,chr10_100286550_100286830 |\n",
       "| chr10_100346328_100347693 | Enhancer | WSTARR        | chr10_100346760_100347200                           |\n",
       "\n"
      ],
      "text/plain": [
       "  Peak                      Name     Assay        \n",
       "1 chr10_100009096_100010466 Enhancer WSTARR       \n",
       "2 chr10_100185017_100187275 Enhancer WSTARR       \n",
       "3 chr10_100228452_100230090 Enhancer ASTARR       \n",
       "4 chr10_100267066_100268374 Enhancer ASTARR,WSTARR\n",
       "5 chr10_100285974_100287341 Enhancer WSTARR       \n",
       "6 chr10_100346328_100347693 Enhancer WSTARR       \n",
       "  Annotate                                           \n",
       "1 chr10_100009900_100009950,chr10_100010000_100010030\n",
       "2 chr10_100185860_100186300                          \n",
       "3 chr10_100229600_100229770                          \n",
       "4 chr10_100267660_100267770,chr10_100267670_100267780\n",
       "5 chr10_100286470_100286500,chr10_100286550_100286830\n",
       "6 chr10_100346760_100347200                          "
      ]
     },
     "metadata": {},
     "output_type": "display_data"
    }
   ],
   "source": [
    "dat = bind_rows(\n",
    "    dat_peak_count_enhancer_astarr,\n",
    "    dat_peak_count_enhancer_wstarr)\n",
    "\n",
    "dat = dat %>%\n",
    "    dplyr::group_by(Peak, Name) %>%\n",
    "    dplyr::summarize(\n",
    "        Assay    = paste(Assay,    collapse = \",\"),\n",
    "        Annotate = paste(Annotate, collapse = \",\"),\n",
    "        .groups=\"drop\")\n",
    "\n",
    "dat_peak_merge_enhancer = dat\n",
    "print(dim(dat))\n",
    "head(dat)"
   ]
  },
  {
   "cell_type": "markdown",
   "metadata": {},
   "source": [
    "## Save tables"
   ]
  },
  {
   "cell_type": "code",
   "execution_count": 7,
   "metadata": {},
   "outputs": [],
   "source": [
    "fdiry = file.path(FD_RES, \"results\", \"region\", \"KS91_K562_ASTARRseq_peak_macs_input\")\n",
    "fname = \"peak.summary.enhancer_junke_peak_astarr.tsv\"\n",
    "fpath = file.path(fdiry, fname)\n",
    "\n",
    "write_tsv(dat_peak_count_enhancer_astarr, fpath)"
   ]
  },
  {
   "cell_type": "code",
   "execution_count": 8,
   "metadata": {},
   "outputs": [],
   "source": [
    "fdiry = file.path(FD_RES, \"results\", \"region\", \"KS91_K562_ASTARRseq_peak_macs_input\")\n",
    "fname = \"peak.summary.enhancer_junke_peak_wstarr.tsv\"\n",
    "fpath = file.path(fdiry, fname)\n",
    "\n",
    "write_tsv(dat_peak_count_enhancer_wstarr, fpath)"
   ]
  },
  {
   "cell_type": "code",
   "execution_count": 17,
   "metadata": {},
   "outputs": [],
   "source": [
    "fdiry = file.path(FD_RES, \"results\", \"region\", \"KS91_K562_ASTARRseq_peak_macs_input\")\n",
    "fname = \"peak.summary.enhancer_junke_peak_merge.tsv\"\n",
    "fpath = file.path(fdiry, fname)\n",
    "\n",
    "write_tsv(dat_peak_merge_enhancer, fpath)"
   ]
  },
  {
   "cell_type": "code",
   "execution_count": null,
   "metadata": {},
   "outputs": [],
   "source": []
  }
 ],
 "metadata": {
  "kernelspec": {
   "display_name": "R",
   "language": "R",
   "name": "ir"
  },
  "language_info": {
   "codemirror_mode": "r",
   "file_extension": ".r",
   "mimetype": "text/x-r-source",
   "name": "R",
   "pygments_lexer": "r",
   "version": "4.3.0"
  }
 },
 "nbformat": 4,
 "nbformat_minor": 4
}
