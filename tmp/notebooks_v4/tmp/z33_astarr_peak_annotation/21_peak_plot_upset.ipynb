{
 "cells": [
  {
   "cell_type": "markdown",
   "metadata": {},
   "source": [
    "**Set environment**"
   ]
  },
  {
   "cell_type": "code",
   "execution_count": 1,
   "metadata": {},
   "outputs": [
    {
     "name": "stdout",
     "output_type": "stream",
     "text": [
      "You are in Singularity: singularity_proj_encode_fcc \n",
      "BASE DIRECTORY (FD_BASE): /data/reddylab/Kuei \n",
      "WORK DIRECTORY (FD_WORK): /data/reddylab/Kuei/out \n",
      "CODE DIRECTORY (FD_CODE): /data/reddylab/Kuei/code \n",
      "PATH OF PROJECT (FD_PRJ): /data/reddylab/Kuei/code/Proj_CombEffect_ENCODE_FCC \n",
      "PATH OF RESULTS (FD_RES): /data/reddylab/Kuei/out/proj_combeffect_encode_fcc \n",
      "PATH OF LOG     (FD_LOG): /data/reddylab/Kuei/out/proj_combeffect_encode_fcc/log \n"
     ]
    }
   ],
   "source": [
    "suppressMessages(suppressWarnings(source(\"../config/config_sing.R\")))\n",
    "suppressWarnings(suppressMessages(library(\"GenomicRanges\")))\n",
    "library(\"UpSetR\")\n",
    "show_env()"
   ]
  },
  {
   "cell_type": "code",
   "execution_count": 2,
   "metadata": {},
   "outputs": [
    {
     "data": {
      "text/html": [
       "<style>\n",
       ".list-inline {list-style: none; margin:0; padding: 0}\n",
       ".list-inline>li {display: inline-block}\n",
       ".list-inline>li:not(:last-child)::after {content: \"\\00b7\"; padding: 0 .5ex}\n",
       "</style>\n",
       "<ol class=list-inline><li>'KS91_K562_hg38_ASTARRseq_Input.all_reps.masked.union_narrowPeak.q5.bed'</li><li>'peak.annotation.crispri_casa_peak.bed.gz'</li><li>'peak.annotation.enhancer_junke_peak_astarr.bed.gz'</li><li>'peak.annotation.enhancer_junke_peak_wstarr.bed.gz'</li><li>'peak.annotation.gencode_v24_tes.bed.gz'</li><li>'peak.annotation.gencode_v24_tss.bed.gz'</li><li>'peak.annotation.screen.tsv'</li><li>'peak.summary.crispri_casa_peak.tsv'</li><li>'peak.summary.enhancer_junke_peak_astarr.tsv'</li><li>'peak.summary.enhancer_junke_peak_wstarr.tsv'</li><li>'peak.summary.gencode_v24_tes.tsv'</li><li>'peak.summary.gencode_v24_tss.tsv'</li></ol>\n"
      ],
      "text/latex": [
       "\\begin{enumerate*}\n",
       "\\item 'KS91\\_K562\\_hg38\\_ASTARRseq\\_Input.all\\_reps.masked.union\\_narrowPeak.q5.bed'\n",
       "\\item 'peak.annotation.crispri\\_casa\\_peak.bed.gz'\n",
       "\\item 'peak.annotation.enhancer\\_junke\\_peak\\_astarr.bed.gz'\n",
       "\\item 'peak.annotation.enhancer\\_junke\\_peak\\_wstarr.bed.gz'\n",
       "\\item 'peak.annotation.gencode\\_v24\\_tes.bed.gz'\n",
       "\\item 'peak.annotation.gencode\\_v24\\_tss.bed.gz'\n",
       "\\item 'peak.annotation.screen.tsv'\n",
       "\\item 'peak.summary.crispri\\_casa\\_peak.tsv'\n",
       "\\item 'peak.summary.enhancer\\_junke\\_peak\\_astarr.tsv'\n",
       "\\item 'peak.summary.enhancer\\_junke\\_peak\\_wstarr.tsv'\n",
       "\\item 'peak.summary.gencode\\_v24\\_tes.tsv'\n",
       "\\item 'peak.summary.gencode\\_v24\\_tss.tsv'\n",
       "\\end{enumerate*}\n"
      ],
      "text/markdown": [
       "1. 'KS91_K562_hg38_ASTARRseq_Input.all_reps.masked.union_narrowPeak.q5.bed'\n",
       "2. 'peak.annotation.crispri_casa_peak.bed.gz'\n",
       "3. 'peak.annotation.enhancer_junke_peak_astarr.bed.gz'\n",
       "4. 'peak.annotation.enhancer_junke_peak_wstarr.bed.gz'\n",
       "5. 'peak.annotation.gencode_v24_tes.bed.gz'\n",
       "6. 'peak.annotation.gencode_v24_tss.bed.gz'\n",
       "7. 'peak.annotation.screen.tsv'\n",
       "8. 'peak.summary.crispri_casa_peak.tsv'\n",
       "9. 'peak.summary.enhancer_junke_peak_astarr.tsv'\n",
       "10. 'peak.summary.enhancer_junke_peak_wstarr.tsv'\n",
       "11. 'peak.summary.gencode_v24_tes.tsv'\n",
       "12. 'peak.summary.gencode_v24_tss.tsv'\n",
       "\n",
       "\n"
      ],
      "text/plain": [
       " [1] \"KS91_K562_hg38_ASTARRseq_Input.all_reps.masked.union_narrowPeak.q5.bed\"\n",
       " [2] \"peak.annotation.crispri_casa_peak.bed.gz\"                              \n",
       " [3] \"peak.annotation.enhancer_junke_peak_astarr.bed.gz\"                     \n",
       " [4] \"peak.annotation.enhancer_junke_peak_wstarr.bed.gz\"                     \n",
       " [5] \"peak.annotation.gencode_v24_tes.bed.gz\"                                \n",
       " [6] \"peak.annotation.gencode_v24_tss.bed.gz\"                                \n",
       " [7] \"peak.annotation.screen.tsv\"                                            \n",
       " [8] \"peak.summary.crispri_casa_peak.tsv\"                                    \n",
       " [9] \"peak.summary.enhancer_junke_peak_astarr.tsv\"                           \n",
       "[10] \"peak.summary.enhancer_junke_peak_wstarr.tsv\"                           \n",
       "[11] \"peak.summary.gencode_v24_tes.tsv\"                                      \n",
       "[12] \"peak.summary.gencode_v24_tss.tsv\"                                      "
      ]
     },
     "metadata": {},
     "output_type": "display_data"
    }
   ],
   "source": [
    "fdiry = file.path(FD_RES, \"results\", \"region\", \"KS91_K562_ASTARRseq_peak_macs_input\")\n",
    "dir(fdiry)"
   ]
  },
  {
   "cell_type": "markdown",
   "metadata": {},
   "source": [
    "## Import data"
   ]
  },
  {
   "cell_type": "code",
   "execution_count": 3,
   "metadata": {},
   "outputs": [
    {
     "name": "stdout",
     "output_type": "stream",
     "text": [
      "[1] 247520      3\n"
     ]
    },
    {
     "data": {
      "text/html": [
       "<table class=\"dataframe\">\n",
       "<caption>A tibble: 6 × 3</caption>\n",
       "<thead>\n",
       "\t<tr><th scope=col>Chrom</th><th scope=col>Start</th><th scope=col>End</th></tr>\n",
       "\t<tr><th scope=col>&lt;chr&gt;</th><th scope=col>&lt;dbl&gt;</th><th scope=col>&lt;dbl&gt;</th></tr>\n",
       "</thead>\n",
       "<tbody>\n",
       "\t<tr><td>chr1</td><td>10015</td><td>10442</td></tr>\n",
       "\t<tr><td>chr1</td><td>14253</td><td>14645</td></tr>\n",
       "\t<tr><td>chr1</td><td>16015</td><td>16477</td></tr>\n",
       "\t<tr><td>chr1</td><td>17237</td><td>17772</td></tr>\n",
       "\t<tr><td>chr1</td><td>28903</td><td>29613</td></tr>\n",
       "\t<tr><td>chr1</td><td>30803</td><td>31072</td></tr>\n",
       "</tbody>\n",
       "</table>\n"
      ],
      "text/latex": [
       "A tibble: 6 × 3\n",
       "\\begin{tabular}{lll}\n",
       " Chrom & Start & End\\\\\n",
       " <chr> & <dbl> & <dbl>\\\\\n",
       "\\hline\n",
       "\t chr1 & 10015 & 10442\\\\\n",
       "\t chr1 & 14253 & 14645\\\\\n",
       "\t chr1 & 16015 & 16477\\\\\n",
       "\t chr1 & 17237 & 17772\\\\\n",
       "\t chr1 & 28903 & 29613\\\\\n",
       "\t chr1 & 30803 & 31072\\\\\n",
       "\\end{tabular}\n"
      ],
      "text/markdown": [
       "\n",
       "A tibble: 6 × 3\n",
       "\n",
       "| Chrom &lt;chr&gt; | Start &lt;dbl&gt; | End &lt;dbl&gt; |\n",
       "|---|---|---|\n",
       "| chr1 | 10015 | 10442 |\n",
       "| chr1 | 14253 | 14645 |\n",
       "| chr1 | 16015 | 16477 |\n",
       "| chr1 | 17237 | 17772 |\n",
       "| chr1 | 28903 | 29613 |\n",
       "| chr1 | 30803 | 31072 |\n",
       "\n"
      ],
      "text/plain": [
       "  Chrom Start End  \n",
       "1 chr1  10015 10442\n",
       "2 chr1  14253 14645\n",
       "3 chr1  16015 16477\n",
       "4 chr1  17237 17772\n",
       "5 chr1  28903 29613\n",
       "6 chr1  30803 31072"
      ]
     },
     "metadata": {},
     "output_type": "display_data"
    }
   ],
   "source": [
    "fdiry = file.path(FD_RES, \"results\", \"region\", \"KS91_K562_ASTARRseq_peak_macs_input\")\n",
    "fname = \"KS91_K562_hg38_ASTARRseq_Input.all_reps.masked.union_narrowPeak.q5.bed\"\n",
    "fpath = file.path(fdiry, fname)\n",
    "\n",
    "cnames = c(\"Chrom\", \"Start\", \"End\")\n",
    "dat = read_tsv(fpath, col_names = cnames, show_col_types = FALSE)\n",
    "\n",
    "dat_peak_atac_wgs = dat\n",
    "print(dim(dat))\n",
    "head(dat)"
   ]
  },
  {
   "cell_type": "code",
   "execution_count": 4,
   "metadata": {},
   "outputs": [
    {
     "name": "stdout",
     "output_type": "stream",
     "text": [
      "[1] \"/data/reddylab/Kuei/out/proj_combeffect_encode_fcc/results/region/region_screened_tmpra.bed\"\n",
      "[1] 8 4\n"
     ]
    },
    {
     "data": {
      "text/html": [
       "<table class=\"dataframe\">\n",
       "<caption>A tibble: 6 × 4</caption>\n",
       "<thead>\n",
       "\t<tr><th scope=col>Chrom</th><th scope=col>Start</th><th scope=col>End</th><th scope=col>Gene</th></tr>\n",
       "\t<tr><th scope=col>&lt;chr&gt;</th><th scope=col>&lt;dbl&gt;</th><th scope=col>&lt;dbl&gt;</th><th scope=col>&lt;chr&gt;</th></tr>\n",
       "</thead>\n",
       "<tbody>\n",
       "\t<tr><td>chr11</td><td> 4505501</td><td> 6505900</td><td>HBE1  </td></tr>\n",
       "\t<tr><td>chr11</td><td>32869701</td><td>34870100</td><td>LMO2  </td></tr>\n",
       "\t<tr><td>chr11</td><td>61787329</td><td>61898348</td><td>FADS  </td></tr>\n",
       "\t<tr><td>chr16</td><td>   10001</td><td> 1173100</td><td>HBA2  </td></tr>\n",
       "\t<tr><td>chr2 </td><td>59553301</td><td>61553700</td><td>BCL11A</td></tr>\n",
       "\t<tr><td>chr20</td><td>56391301</td><td>58391700</td><td>RBM38 </td></tr>\n",
       "</tbody>\n",
       "</table>\n"
      ],
      "text/latex": [
       "A tibble: 6 × 4\n",
       "\\begin{tabular}{llll}\n",
       " Chrom & Start & End & Gene\\\\\n",
       " <chr> & <dbl> & <dbl> & <chr>\\\\\n",
       "\\hline\n",
       "\t chr11 &  4505501 &  6505900 & HBE1  \\\\\n",
       "\t chr11 & 32869701 & 34870100 & LMO2  \\\\\n",
       "\t chr11 & 61787329 & 61898348 & FADS  \\\\\n",
       "\t chr16 &    10001 &  1173100 & HBA2  \\\\\n",
       "\t chr2  & 59553301 & 61553700 & BCL11A\\\\\n",
       "\t chr20 & 56391301 & 58391700 & RBM38 \\\\\n",
       "\\end{tabular}\n"
      ],
      "text/markdown": [
       "\n",
       "A tibble: 6 × 4\n",
       "\n",
       "| Chrom &lt;chr&gt; | Start &lt;dbl&gt; | End &lt;dbl&gt; | Gene &lt;chr&gt; |\n",
       "|---|---|---|---|\n",
       "| chr11 |  4505501 |  6505900 | HBE1   |\n",
       "| chr11 | 32869701 | 34870100 | LMO2   |\n",
       "| chr11 | 61787329 | 61898348 | FADS   |\n",
       "| chr16 |    10001 |  1173100 | HBA2   |\n",
       "| chr2  | 59553301 | 61553700 | BCL11A |\n",
       "| chr20 | 56391301 | 58391700 | RBM38  |\n",
       "\n"
      ],
      "text/plain": [
       "  Chrom Start    End      Gene  \n",
       "1 chr11  4505501  6505900 HBE1  \n",
       "2 chr11 32869701 34870100 LMO2  \n",
       "3 chr11 61787329 61898348 FADS  \n",
       "4 chr16    10001  1173100 HBA2  \n",
       "5 chr2  59553301 61553700 BCL11A\n",
       "6 chr20 56391301 58391700 RBM38 "
      ]
     },
     "metadata": {},
     "output_type": "display_data"
    }
   ],
   "source": [
    "fdiry = file.path(FD_RES, \"results\", \"region\")\n",
    "fname = \"region_screened_tmpra.bed\"\n",
    "fpath = file.path(fdiry, fname)\n",
    "print(fpath)\n",
    "\n",
    "cnames = c(\"Chrom\", \"Start\", \"End\", \"Gene\")\n",
    "dat = read_tsv(fpath, col_names = cnames, show_col_types = FALSE)\n",
    "\n",
    "dat_range_tmpra = dat\n",
    "print(dim(dat))\n",
    "head(dat)"
   ]
  },
  {
   "cell_type": "code",
   "execution_count": 5,
   "metadata": {},
   "outputs": [
    {
     "name": "stdout",
     "output_type": "stream",
     "text": [
      "[1] \"/data/reddylab/Kuei/out/proj_combeffect_encode_fcc/results/region/region_screened_crispri_flowfish.bed\"\n",
      "[1] 13  4\n"
     ]
    },
    {
     "data": {
      "text/html": [
       "<table class=\"dataframe\">\n",
       "<caption>A tibble: 6 × 4</caption>\n",
       "<thead>\n",
       "\t<tr><th scope=col>Chrom</th><th scope=col>Start</th><th scope=col>End</th><th scope=col>Gene</th></tr>\n",
       "\t<tr><th scope=col>&lt;chr&gt;</th><th scope=col>&lt;dbl&gt;</th><th scope=col>&lt;dbl&gt;</th><th scope=col>&lt;chr&gt;</th></tr>\n",
       "</thead>\n",
       "<tbody>\n",
       "\t<tr><td>chr11</td><td>  4091884</td><td>  6419310</td><td>HBE1,HBG1,HBG2,HBS1L,MYB</td></tr>\n",
       "\t<tr><td>chr11</td><td> 33064196</td><td> 34664117</td><td>CAPRIN1,CAT,LMO2        </td></tr>\n",
       "\t<tr><td>chr11</td><td> 61788524</td><td> 61897153</td><td>FADS1,FADS2,FADS3,FEN1  </td></tr>\n",
       "\t<tr><td>chr12</td><td> 54300766</td><td> 54301042</td><td>GATA1,HDAC6             </td></tr>\n",
       "\t<tr><td>chr12</td><td>110726151</td><td>112325737</td><td>ERP29                   </td></tr>\n",
       "\t<tr><td>chr19</td><td> 12887110</td><td> 12887237</td><td>GATA1,HDAC6             </td></tr>\n",
       "</tbody>\n",
       "</table>\n"
      ],
      "text/latex": [
       "A tibble: 6 × 4\n",
       "\\begin{tabular}{llll}\n",
       " Chrom & Start & End & Gene\\\\\n",
       " <chr> & <dbl> & <dbl> & <chr>\\\\\n",
       "\\hline\n",
       "\t chr11 &   4091884 &   6419310 & HBE1,HBG1,HBG2,HBS1L,MYB\\\\\n",
       "\t chr11 &  33064196 &  34664117 & CAPRIN1,CAT,LMO2        \\\\\n",
       "\t chr11 &  61788524 &  61897153 & FADS1,FADS2,FADS3,FEN1  \\\\\n",
       "\t chr12 &  54300766 &  54301042 & GATA1,HDAC6             \\\\\n",
       "\t chr12 & 110726151 & 112325737 & ERP29                   \\\\\n",
       "\t chr19 &  12887110 &  12887237 & GATA1,HDAC6             \\\\\n",
       "\\end{tabular}\n"
      ],
      "text/markdown": [
       "\n",
       "A tibble: 6 × 4\n",
       "\n",
       "| Chrom &lt;chr&gt; | Start &lt;dbl&gt; | End &lt;dbl&gt; | Gene &lt;chr&gt; |\n",
       "|---|---|---|---|\n",
       "| chr11 |   4091884 |   6419310 | HBE1,HBG1,HBG2,HBS1L,MYB |\n",
       "| chr11 |  33064196 |  34664117 | CAPRIN1,CAT,LMO2         |\n",
       "| chr11 |  61788524 |  61897153 | FADS1,FADS2,FADS3,FEN1   |\n",
       "| chr12 |  54300766 |  54301042 | GATA1,HDAC6              |\n",
       "| chr12 | 110726151 | 112325737 | ERP29                    |\n",
       "| chr19 |  12887110 |  12887237 | GATA1,HDAC6              |\n",
       "\n"
      ],
      "text/plain": [
       "  Chrom Start     End       Gene                    \n",
       "1 chr11   4091884   6419310 HBE1,HBG1,HBG2,HBS1L,MYB\n",
       "2 chr11  33064196  34664117 CAPRIN1,CAT,LMO2        \n",
       "3 chr11  61788524  61897153 FADS1,FADS2,FADS3,FEN1  \n",
       "4 chr12  54300766  54301042 GATA1,HDAC6             \n",
       "5 chr12 110726151 112325737 ERP29                   \n",
       "6 chr19  12887110  12887237 GATA1,HDAC6             "
      ]
     },
     "metadata": {},
     "output_type": "display_data"
    }
   ],
   "source": [
    "fdiry = file.path(FD_RES, \"results\", \"region\")\n",
    "fname = \"region_screened_crispri_flowfish.bed\"\n",
    "fpath = file.path(fdiry, fname)\n",
    "print(fpath)\n",
    "\n",
    "cnames = c(\"Chrom\", \"Start\", \"End\", \"Gene\")\n",
    "dat = read_tsv(fpath, col_names = cnames, show_col_types = FALSE)\n",
    "\n",
    "dat_range_crispr = dat\n",
    "print(dim(dat))\n",
    "head(dat)"
   ]
  },
  {
   "cell_type": "code",
   "execution_count": 6,
   "metadata": {},
   "outputs": [
    {
     "name": "stdout",
     "output_type": "stream",
     "text": [
      "[1] 610960      6\n"
     ]
    },
    {
     "data": {
      "text/html": [
       "<table class=\"dataframe\">\n",
       "<caption>A tibble: 6 × 6</caption>\n",
       "<thead>\n",
       "\t<tr><th scope=col>Chrom</th><th scope=col>Start</th><th scope=col>End</th><th scope=col>Name</th><th scope=col>Score</th><th scope=col>Gene</th></tr>\n",
       "\t<tr><th scope=col>&lt;chr&gt;</th><th scope=col>&lt;dbl&gt;</th><th scope=col>&lt;dbl&gt;</th><th scope=col>&lt;chr&gt;</th><th scope=col>&lt;dbl&gt;</th><th scope=col>&lt;chr&gt;</th></tr>\n",
       "</thead>\n",
       "<tbody>\n",
       "\t<tr><td>chr11</td><td>33064196</td><td>33064197</td><td>id-1495</td><td> 0.807624</td><td>CAPRIN1</td></tr>\n",
       "\t<tr><td>chr11</td><td>33064217</td><td>33064218</td><td>id-1496</td><td>-2.712460</td><td>CAPRIN1</td></tr>\n",
       "\t<tr><td>chr11</td><td>33064229</td><td>33064230</td><td>id-1497</td><td> 0.642045</td><td>CAPRIN1</td></tr>\n",
       "\t<tr><td>chr11</td><td>33064230</td><td>33064231</td><td>id-1498</td><td> 1.853540</td><td>CAPRIN1</td></tr>\n",
       "\t<tr><td>chr11</td><td>33064258</td><td>33064259</td><td>id-1499</td><td> 0.126467</td><td>CAPRIN1</td></tr>\n",
       "\t<tr><td>chr11</td><td>33064264</td><td>33064265</td><td>id-1500</td><td> 0.217096</td><td>CAPRIN1</td></tr>\n",
       "</tbody>\n",
       "</table>\n"
      ],
      "text/latex": [
       "A tibble: 6 × 6\n",
       "\\begin{tabular}{llllll}\n",
       " Chrom & Start & End & Name & Score & Gene\\\\\n",
       " <chr> & <dbl> & <dbl> & <chr> & <dbl> & <chr>\\\\\n",
       "\\hline\n",
       "\t chr11 & 33064196 & 33064197 & id-1495 &  0.807624 & CAPRIN1\\\\\n",
       "\t chr11 & 33064217 & 33064218 & id-1496 & -2.712460 & CAPRIN1\\\\\n",
       "\t chr11 & 33064229 & 33064230 & id-1497 &  0.642045 & CAPRIN1\\\\\n",
       "\t chr11 & 33064230 & 33064231 & id-1498 &  1.853540 & CAPRIN1\\\\\n",
       "\t chr11 & 33064258 & 33064259 & id-1499 &  0.126467 & CAPRIN1\\\\\n",
       "\t chr11 & 33064264 & 33064265 & id-1500 &  0.217096 & CAPRIN1\\\\\n",
       "\\end{tabular}\n"
      ],
      "text/markdown": [
       "\n",
       "A tibble: 6 × 6\n",
       "\n",
       "| Chrom &lt;chr&gt; | Start &lt;dbl&gt; | End &lt;dbl&gt; | Name &lt;chr&gt; | Score &lt;dbl&gt; | Gene &lt;chr&gt; |\n",
       "|---|---|---|---|---|---|\n",
       "| chr11 | 33064196 | 33064197 | id-1495 |  0.807624 | CAPRIN1 |\n",
       "| chr11 | 33064217 | 33064218 | id-1496 | -2.712460 | CAPRIN1 |\n",
       "| chr11 | 33064229 | 33064230 | id-1497 |  0.642045 | CAPRIN1 |\n",
       "| chr11 | 33064230 | 33064231 | id-1498 |  1.853540 | CAPRIN1 |\n",
       "| chr11 | 33064258 | 33064259 | id-1499 |  0.126467 | CAPRIN1 |\n",
       "| chr11 | 33064264 | 33064265 | id-1500 |  0.217096 | CAPRIN1 |\n",
       "\n"
      ],
      "text/plain": [
       "  Chrom Start    End      Name    Score     Gene   \n",
       "1 chr11 33064196 33064197 id-1495  0.807624 CAPRIN1\n",
       "2 chr11 33064217 33064218 id-1496 -2.712460 CAPRIN1\n",
       "3 chr11 33064229 33064230 id-1497  0.642045 CAPRIN1\n",
       "4 chr11 33064230 33064231 id-1498  1.853540 CAPRIN1\n",
       "5 chr11 33064258 33064259 id-1499  0.126467 CAPRIN1\n",
       "6 chr11 33064264 33064265 id-1500  0.217096 CAPRIN1"
      ]
     },
     "metadata": {},
     "output_type": "display_data"
    }
   ],
   "source": [
    "fdiry = file.path(FD_RES, \"results\", \"CRISPRi_FlowFISH\", \"coverage\")\n",
    "fname = \"Merge_HCRFF_rAVG.log2FC_2.filtered.bed\"\n",
    "fpath = file.path(fdiry, fname)\n",
    "\n",
    "cnames = c(\"Chrom\", \"Start\", \"End\", \"Name\", \"Score\", \"Gene\")\n",
    "dat = read_tsv(fpath, col_names = cnames, show_col_types = FALSE)\n",
    "\n",
    "dat_crispr_log2fc_filter = dat\n",
    "print(dim(dat))\n",
    "head(dat)"
   ]
  },
  {
   "cell_type": "code",
   "execution_count": 12,
   "metadata": {},
   "outputs": [
    {
     "name": "stdout",
     "output_type": "stream",
     "text": [
      "[1] 113   8\n"
     ]
    },
    {
     "data": {
      "text/html": [
       "<table class=\"dataframe\">\n",
       "<caption>A tibble: 6 × 8</caption>\n",
       "<thead>\n",
       "\t<tr><th scope=col>Chrom</th><th scope=col>Start</th><th scope=col>End</th><th scope=col>Name</th><th scope=col>Score</th><th scope=col>Strand</th><th scope=col>Gene_Symbol</th><th scope=col>Gene_ENS</th></tr>\n",
       "\t<tr><th scope=col>&lt;chr&gt;</th><th scope=col>&lt;dbl&gt;</th><th scope=col>&lt;dbl&gt;</th><th scope=col>&lt;chr&gt;</th><th scope=col>&lt;dbl&gt;</th><th scope=col>&lt;chr&gt;</th><th scope=col>&lt;chr&gt;</th><th scope=col>&lt;chr&gt;</th></tr>\n",
       "</thead>\n",
       "<tbody>\n",
       "\t<tr><td>chr11</td><td>33944871</td><td>33945471</td><td>chr11:33944871-33945471</td><td>0.8037646</td><td>.</td><td>CAPRIN1</td><td>ENSG00000135387</td></tr>\n",
       "\t<tr><td>chr11</td><td>34050971</td><td>34051471</td><td>chr11:34050971-34051471</td><td>0.9739873</td><td>.</td><td>CAPRIN1</td><td>ENSG00000135387</td></tr>\n",
       "\t<tr><td>chr11</td><td>34051571</td><td>34054171</td><td>chr11:34051571-34054171</td><td>2.0642907</td><td>.</td><td>CAPRIN1</td><td>ENSG00000135387</td></tr>\n",
       "\t<tr><td>chr11</td><td>34085871</td><td>34086871</td><td>chr11:34085871-34086871</td><td>1.0092724</td><td>.</td><td>CAPRIN1</td><td>ENSG00000135387</td></tr>\n",
       "\t<tr><td>chr11</td><td>33944868</td><td>33945268</td><td>chr11:33944868-33945268</td><td>1.2146755</td><td>.</td><td>CAT    </td><td>ENSG00000121691</td></tr>\n",
       "\t<tr><td>chr11</td><td>34437468</td><td>34440568</td><td>chr11:34437468-34440568</td><td>3.2866681</td><td>.</td><td>CAT    </td><td>ENSG00000121691</td></tr>\n",
       "</tbody>\n",
       "</table>\n"
      ],
      "text/latex": [
       "A tibble: 6 × 8\n",
       "\\begin{tabular}{llllllll}\n",
       " Chrom & Start & End & Name & Score & Strand & Gene\\_Symbol & Gene\\_ENS\\\\\n",
       " <chr> & <dbl> & <dbl> & <chr> & <dbl> & <chr> & <chr> & <chr>\\\\\n",
       "\\hline\n",
       "\t chr11 & 33944871 & 33945471 & chr11:33944871-33945471 & 0.8037646 & . & CAPRIN1 & ENSG00000135387\\\\\n",
       "\t chr11 & 34050971 & 34051471 & chr11:34050971-34051471 & 0.9739873 & . & CAPRIN1 & ENSG00000135387\\\\\n",
       "\t chr11 & 34051571 & 34054171 & chr11:34051571-34054171 & 2.0642907 & . & CAPRIN1 & ENSG00000135387\\\\\n",
       "\t chr11 & 34085871 & 34086871 & chr11:34085871-34086871 & 1.0092724 & . & CAPRIN1 & ENSG00000135387\\\\\n",
       "\t chr11 & 33944868 & 33945268 & chr11:33944868-33945268 & 1.2146755 & . & CAT     & ENSG00000121691\\\\\n",
       "\t chr11 & 34437468 & 34440568 & chr11:34437468-34440568 & 3.2866681 & . & CAT     & ENSG00000121691\\\\\n",
       "\\end{tabular}\n"
      ],
      "text/markdown": [
       "\n",
       "A tibble: 6 × 8\n",
       "\n",
       "| Chrom &lt;chr&gt; | Start &lt;dbl&gt; | End &lt;dbl&gt; | Name &lt;chr&gt; | Score &lt;dbl&gt; | Strand &lt;chr&gt; | Gene_Symbol &lt;chr&gt; | Gene_ENS &lt;chr&gt; |\n",
       "|---|---|---|---|---|---|---|---|\n",
       "| chr11 | 33944871 | 33945471 | chr11:33944871-33945471 | 0.8037646 | . | CAPRIN1 | ENSG00000135387 |\n",
       "| chr11 | 34050971 | 34051471 | chr11:34050971-34051471 | 0.9739873 | . | CAPRIN1 | ENSG00000135387 |\n",
       "| chr11 | 34051571 | 34054171 | chr11:34051571-34054171 | 2.0642907 | . | CAPRIN1 | ENSG00000135387 |\n",
       "| chr11 | 34085871 | 34086871 | chr11:34085871-34086871 | 1.0092724 | . | CAPRIN1 | ENSG00000135387 |\n",
       "| chr11 | 33944868 | 33945268 | chr11:33944868-33945268 | 1.2146755 | . | CAT     | ENSG00000121691 |\n",
       "| chr11 | 34437468 | 34440568 | chr11:34437468-34440568 | 3.2866681 | . | CAT     | ENSG00000121691 |\n",
       "\n"
      ],
      "text/plain": [
       "  Chrom Start    End      Name                    Score     Strand Gene_Symbol\n",
       "1 chr11 33944871 33945471 chr11:33944871-33945471 0.8037646 .      CAPRIN1    \n",
       "2 chr11 34050971 34051471 chr11:34050971-34051471 0.9739873 .      CAPRIN1    \n",
       "3 chr11 34051571 34054171 chr11:34051571-34054171 2.0642907 .      CAPRIN1    \n",
       "4 chr11 34085871 34086871 chr11:34085871-34086871 1.0092724 .      CAPRIN1    \n",
       "5 chr11 33944868 33945268 chr11:33944868-33945268 1.2146755 .      CAT        \n",
       "6 chr11 34437468 34440568 chr11:34437468-34440568 3.2866681 .      CAT        \n",
       "  Gene_ENS       \n",
       "1 ENSG00000135387\n",
       "2 ENSG00000135387\n",
       "3 ENSG00000135387\n",
       "4 ENSG00000135387\n",
       "5 ENSG00000121691\n",
       "6 ENSG00000121691"
      ]
     },
     "metadata": {},
     "output_type": "display_data"
    }
   ],
   "source": [
    "fdiry = file.path(FD_RES, \"results\", \"region\", \"annotation_crispri_casa\")\n",
    "fname = \"crispri_casa_peak.tsv\"\n",
    "fpath = file.path(fdiry, fname)\n",
    "\n",
    "dat = read_tsv(fpath, show_col_types = FALSE)\n",
    "\n",
    "dat_crispr_casa = dat\n",
    "print(dim(dat))\n",
    "head(dat)"
   ]
  },
  {
   "cell_type": "code",
   "execution_count": 13,
   "metadata": {},
   "outputs": [
    {
     "name": "stdout",
     "output_type": "stream",
     "text": [
      "[1] 610960      6\n"
     ]
    },
    {
     "data": {
      "text/html": [
       "<table class=\"dataframe\">\n",
       "<caption>A tibble: 6 × 6</caption>\n",
       "<thead>\n",
       "\t<tr><th scope=col>Chrom</th><th scope=col>Start</th><th scope=col>End</th><th scope=col>Name</th><th scope=col>Score</th><th scope=col>Gene</th></tr>\n",
       "\t<tr><th scope=col>&lt;chr&gt;</th><th scope=col>&lt;dbl&gt;</th><th scope=col>&lt;dbl&gt;</th><th scope=col>&lt;chr&gt;</th><th scope=col>&lt;dbl&gt;</th><th scope=col>&lt;chr&gt;</th></tr>\n",
       "</thead>\n",
       "<tbody>\n",
       "\t<tr><td>chr11</td><td>33064196</td><td>33064197</td><td>id-1495</td><td> 0.807624</td><td>CAPRIN1</td></tr>\n",
       "\t<tr><td>chr11</td><td>33064217</td><td>33064218</td><td>id-1496</td><td>-2.712460</td><td>CAPRIN1</td></tr>\n",
       "\t<tr><td>chr11</td><td>33064229</td><td>33064230</td><td>id-1497</td><td> 0.642045</td><td>CAPRIN1</td></tr>\n",
       "\t<tr><td>chr11</td><td>33064230</td><td>33064231</td><td>id-1498</td><td> 1.853540</td><td>CAPRIN1</td></tr>\n",
       "\t<tr><td>chr11</td><td>33064258</td><td>33064259</td><td>id-1499</td><td> 0.126467</td><td>CAPRIN1</td></tr>\n",
       "\t<tr><td>chr11</td><td>33064264</td><td>33064265</td><td>id-1500</td><td> 0.217096</td><td>CAPRIN1</td></tr>\n",
       "</tbody>\n",
       "</table>\n"
      ],
      "text/latex": [
       "A tibble: 6 × 6\n",
       "\\begin{tabular}{llllll}\n",
       " Chrom & Start & End & Name & Score & Gene\\\\\n",
       " <chr> & <dbl> & <dbl> & <chr> & <dbl> & <chr>\\\\\n",
       "\\hline\n",
       "\t chr11 & 33064196 & 33064197 & id-1495 &  0.807624 & CAPRIN1\\\\\n",
       "\t chr11 & 33064217 & 33064218 & id-1496 & -2.712460 & CAPRIN1\\\\\n",
       "\t chr11 & 33064229 & 33064230 & id-1497 &  0.642045 & CAPRIN1\\\\\n",
       "\t chr11 & 33064230 & 33064231 & id-1498 &  1.853540 & CAPRIN1\\\\\n",
       "\t chr11 & 33064258 & 33064259 & id-1499 &  0.126467 & CAPRIN1\\\\\n",
       "\t chr11 & 33064264 & 33064265 & id-1500 &  0.217096 & CAPRIN1\\\\\n",
       "\\end{tabular}\n"
      ],
      "text/markdown": [
       "\n",
       "A tibble: 6 × 6\n",
       "\n",
       "| Chrom &lt;chr&gt; | Start &lt;dbl&gt; | End &lt;dbl&gt; | Name &lt;chr&gt; | Score &lt;dbl&gt; | Gene &lt;chr&gt; |\n",
       "|---|---|---|---|---|---|\n",
       "| chr11 | 33064196 | 33064197 | id-1495 |  0.807624 | CAPRIN1 |\n",
       "| chr11 | 33064217 | 33064218 | id-1496 | -2.712460 | CAPRIN1 |\n",
       "| chr11 | 33064229 | 33064230 | id-1497 |  0.642045 | CAPRIN1 |\n",
       "| chr11 | 33064230 | 33064231 | id-1498 |  1.853540 | CAPRIN1 |\n",
       "| chr11 | 33064258 | 33064259 | id-1499 |  0.126467 | CAPRIN1 |\n",
       "| chr11 | 33064264 | 33064265 | id-1500 |  0.217096 | CAPRIN1 |\n",
       "\n"
      ],
      "text/plain": [
       "  Chrom Start    End      Name    Score     Gene   \n",
       "1 chr11 33064196 33064197 id-1495  0.807624 CAPRIN1\n",
       "2 chr11 33064217 33064218 id-1496 -2.712460 CAPRIN1\n",
       "3 chr11 33064229 33064230 id-1497  0.642045 CAPRIN1\n",
       "4 chr11 33064230 33064231 id-1498  1.853540 CAPRIN1\n",
       "5 chr11 33064258 33064259 id-1499  0.126467 CAPRIN1\n",
       "6 chr11 33064264 33064265 id-1500  0.217096 CAPRIN1"
      ]
     },
     "metadata": {},
     "output_type": "display_data"
    }
   ],
   "source": [
    "fdiry = file.path(FD_RES, \"results\", \"CRISPRi_FlowFISH\", \"coverage\")\n",
    "fname = \"Merge_HCRFF_rAVG.log2FC_2.filtered.bed\"\n",
    "fpath = file.path(fdiry, fname)\n",
    "\n",
    "cnames = c(\"Chrom\", \"Start\", \"End\", \"Name\", \"Score\", \"Gene\")\n",
    "dat = read_tsv(fpath, col_names = cnames, show_col_types = FALSE)\n",
    "\n",
    "dat_crispr_log2fc_filter = dat\n",
    "print(dim(dat))\n",
    "head(dat)"
   ]
  },
  {
   "cell_type": "code",
   "execution_count": 14,
   "metadata": {},
   "outputs": [
    {
     "name": "stdout",
     "output_type": "stream",
     "text": [
      "[1] 87  6\n"
     ]
    },
    {
     "data": {
      "text/html": [
       "<table class=\"dataframe\">\n",
       "<caption>A tibble: 6 × 6</caption>\n",
       "<thead>\n",
       "\t<tr><th scope=col>Peak</th><th scope=col>CASA</th><th scope=col>Score</th><th scope=col>Gene_Symbol</th><th scope=col>Gene_ENS</th><th scope=col>Overlap</th></tr>\n",
       "\t<tr><th scope=col>&lt;chr&gt;</th><th scope=col>&lt;chr&gt;</th><th scope=col>&lt;dbl&gt;</th><th scope=col>&lt;chr&gt;</th><th scope=col>&lt;chr&gt;</th><th scope=col>&lt;dbl&gt;</th></tr>\n",
       "</thead>\n",
       "<tbody>\n",
       "\t<tr><td>chr11_5249943_5250880</td><td>chr11_5249847_5250847</td><td>1.890890</td><td>HBG1</td><td>ENST00000330597.5</td><td> 904</td></tr>\n",
       "\t<tr><td>chr11_5249943_5250880</td><td>chr11_5249847_5250847</td><td>1.922956</td><td>HBG2</td><td>ENST00000336906.6</td><td> 904</td></tr>\n",
       "\t<tr><td>chr11_5254190_5254453</td><td>chr11_5253647_5254647</td><td>1.504404</td><td>HBG1</td><td>ENST00000330597.5</td><td> 263</td></tr>\n",
       "\t<tr><td>chr11_5254190_5254453</td><td>chr11_5253647_5254647</td><td>1.430535</td><td>HBG2</td><td>ENST00000336906.6</td><td> 263</td></tr>\n",
       "\t<tr><td>chr11_5269440_5270695</td><td>chr11_5269147_5271147</td><td>1.906478</td><td>HBE1</td><td>ENST00000336906.6</td><td>1255</td></tr>\n",
       "\t<tr><td>chr11_5275424_5276195</td><td>chr11_5275847_5276247</td><td>1.173871</td><td>HBG1</td><td>ENST00000330597.5</td><td> 348</td></tr>\n",
       "</tbody>\n",
       "</table>\n"
      ],
      "text/latex": [
       "A tibble: 6 × 6\n",
       "\\begin{tabular}{llllll}\n",
       " Peak & CASA & Score & Gene\\_Symbol & Gene\\_ENS & Overlap\\\\\n",
       " <chr> & <chr> & <dbl> & <chr> & <chr> & <dbl>\\\\\n",
       "\\hline\n",
       "\t chr11\\_5249943\\_5250880 & chr11\\_5249847\\_5250847 & 1.890890 & HBG1 & ENST00000330597.5 &  904\\\\\n",
       "\t chr11\\_5249943\\_5250880 & chr11\\_5249847\\_5250847 & 1.922956 & HBG2 & ENST00000336906.6 &  904\\\\\n",
       "\t chr11\\_5254190\\_5254453 & chr11\\_5253647\\_5254647 & 1.504404 & HBG1 & ENST00000330597.5 &  263\\\\\n",
       "\t chr11\\_5254190\\_5254453 & chr11\\_5253647\\_5254647 & 1.430535 & HBG2 & ENST00000336906.6 &  263\\\\\n",
       "\t chr11\\_5269440\\_5270695 & chr11\\_5269147\\_5271147 & 1.906478 & HBE1 & ENST00000336906.6 & 1255\\\\\n",
       "\t chr11\\_5275424\\_5276195 & chr11\\_5275847\\_5276247 & 1.173871 & HBG1 & ENST00000330597.5 &  348\\\\\n",
       "\\end{tabular}\n"
      ],
      "text/markdown": [
       "\n",
       "A tibble: 6 × 6\n",
       "\n",
       "| Peak &lt;chr&gt; | CASA &lt;chr&gt; | Score &lt;dbl&gt; | Gene_Symbol &lt;chr&gt; | Gene_ENS &lt;chr&gt; | Overlap &lt;dbl&gt; |\n",
       "|---|---|---|---|---|---|\n",
       "| chr11_5249943_5250880 | chr11_5249847_5250847 | 1.890890 | HBG1 | ENST00000330597.5 |  904 |\n",
       "| chr11_5249943_5250880 | chr11_5249847_5250847 | 1.922956 | HBG2 | ENST00000336906.6 |  904 |\n",
       "| chr11_5254190_5254453 | chr11_5253647_5254647 | 1.504404 | HBG1 | ENST00000330597.5 |  263 |\n",
       "| chr11_5254190_5254453 | chr11_5253647_5254647 | 1.430535 | HBG2 | ENST00000336906.6 |  263 |\n",
       "| chr11_5269440_5270695 | chr11_5269147_5271147 | 1.906478 | HBE1 | ENST00000336906.6 | 1255 |\n",
       "| chr11_5275424_5276195 | chr11_5275847_5276247 | 1.173871 | HBG1 | ENST00000330597.5 |  348 |\n",
       "\n"
      ],
      "text/plain": [
       "  Peak                  CASA                  Score    Gene_Symbol\n",
       "1 chr11_5249943_5250880 chr11_5249847_5250847 1.890890 HBG1       \n",
       "2 chr11_5249943_5250880 chr11_5249847_5250847 1.922956 HBG2       \n",
       "3 chr11_5254190_5254453 chr11_5253647_5254647 1.504404 HBG1       \n",
       "4 chr11_5254190_5254453 chr11_5253647_5254647 1.430535 HBG2       \n",
       "5 chr11_5269440_5270695 chr11_5269147_5271147 1.906478 HBE1       \n",
       "6 chr11_5275424_5276195 chr11_5275847_5276247 1.173871 HBG1       \n",
       "  Gene_ENS          Overlap\n",
       "1 ENST00000330597.5  904   \n",
       "2 ENST00000336906.6  904   \n",
       "3 ENST00000330597.5  263   \n",
       "4 ENST00000336906.6  263   \n",
       "5 ENST00000336906.6 1255   \n",
       "6 ENST00000330597.5  348   "
      ]
     },
     "metadata": {},
     "output_type": "display_data"
    }
   ],
   "source": [
    "fdiry = file.path(FD_RES, \"results\", \"region\", \"KS91_K562_ASTARRseq_peak_macs_input\")\n",
    "fname = \"peak.summary.crispri_casa_peak.tsv\"\n",
    "fpath = file.path(fdiry, fname)\n",
    "\n",
    "dat = read_tsv(fpath, show_col_types = FALSE)\n",
    "\n",
    "dat_peak_summary_crispri = dat\n",
    "print(dim(dat))\n",
    "head(dat)"
   ]
  },
  {
   "cell_type": "code",
   "execution_count": 15,
   "metadata": {},
   "outputs": [
    {
     "name": "stdout",
     "output_type": "stream",
     "text": [
      "[1] 17120     4\n"
     ]
    },
    {
     "data": {
      "text/html": [
       "<table class=\"dataframe\">\n",
       "<caption>A tibble: 6 × 4</caption>\n",
       "<thead>\n",
       "\t<tr><th scope=col>Peak</th><th scope=col>Name</th><th scope=col>Count</th><th scope=col>Annotate</th></tr>\n",
       "\t<tr><th scope=col>&lt;chr&gt;</th><th scope=col>&lt;chr&gt;</th><th scope=col>&lt;dbl&gt;</th><th scope=col>&lt;chr&gt;</th></tr>\n",
       "</thead>\n",
       "<tbody>\n",
       "\t<tr><td>chr10_100373060_100374238</td><td>Enhancer_ASTARR</td><td>1</td><td>chr10_100373870_100374180                          </td></tr>\n",
       "\t<tr><td>chr10_100528900_100530538</td><td>Enhancer_ASTARR</td><td>1</td><td>chr10_100529840_100529950                          </td></tr>\n",
       "\t<tr><td>chr10_100535377_100536237</td><td>Enhancer_ASTARR</td><td>1</td><td>chr10_100535730_100536000                          </td></tr>\n",
       "\t<tr><td>chr10_100630761_100631892</td><td>Enhancer_ASTARR</td><td>2</td><td>chr10_100631300_100631320,chr10_100631350_100631370</td></tr>\n",
       "\t<tr><td>chr10_100636566_100638239</td><td>Enhancer_ASTARR</td><td>2</td><td>chr10_100637440_100637480,chr10_100637490_100637550</td></tr>\n",
       "\t<tr><td>chr10_101060309_101063187</td><td>Enhancer_ASTARR</td><td>2</td><td>chr10_101060690_101060710,chr10_101060740_101060830</td></tr>\n",
       "</tbody>\n",
       "</table>\n"
      ],
      "text/latex": [
       "A tibble: 6 × 4\n",
       "\\begin{tabular}{llll}\n",
       " Peak & Name & Count & Annotate\\\\\n",
       " <chr> & <chr> & <dbl> & <chr>\\\\\n",
       "\\hline\n",
       "\t chr10\\_100373060\\_100374238 & Enhancer\\_ASTARR & 1 & chr10\\_100373870\\_100374180                          \\\\\n",
       "\t chr10\\_100528900\\_100530538 & Enhancer\\_ASTARR & 1 & chr10\\_100529840\\_100529950                          \\\\\n",
       "\t chr10\\_100535377\\_100536237 & Enhancer\\_ASTARR & 1 & chr10\\_100535730\\_100536000                          \\\\\n",
       "\t chr10\\_100630761\\_100631892 & Enhancer\\_ASTARR & 2 & chr10\\_100631300\\_100631320,chr10\\_100631350\\_100631370\\\\\n",
       "\t chr10\\_100636566\\_100638239 & Enhancer\\_ASTARR & 2 & chr10\\_100637440\\_100637480,chr10\\_100637490\\_100637550\\\\\n",
       "\t chr10\\_101060309\\_101063187 & Enhancer\\_ASTARR & 2 & chr10\\_101060690\\_101060710,chr10\\_101060740\\_101060830\\\\\n",
       "\\end{tabular}\n"
      ],
      "text/markdown": [
       "\n",
       "A tibble: 6 × 4\n",
       "\n",
       "| Peak &lt;chr&gt; | Name &lt;chr&gt; | Count &lt;dbl&gt; | Annotate &lt;chr&gt; |\n",
       "|---|---|---|---|\n",
       "| chr10_100373060_100374238 | Enhancer_ASTARR | 1 | chr10_100373870_100374180                           |\n",
       "| chr10_100528900_100530538 | Enhancer_ASTARR | 1 | chr10_100529840_100529950                           |\n",
       "| chr10_100535377_100536237 | Enhancer_ASTARR | 1 | chr10_100535730_100536000                           |\n",
       "| chr10_100630761_100631892 | Enhancer_ASTARR | 2 | chr10_100631300_100631320,chr10_100631350_100631370 |\n",
       "| chr10_100636566_100638239 | Enhancer_ASTARR | 2 | chr10_100637440_100637480,chr10_100637490_100637550 |\n",
       "| chr10_101060309_101063187 | Enhancer_ASTARR | 2 | chr10_101060690_101060710,chr10_101060740_101060830 |\n",
       "\n"
      ],
      "text/plain": [
       "  Peak                      Name            Count\n",
       "1 chr10_100373060_100374238 Enhancer_ASTARR 1    \n",
       "2 chr10_100528900_100530538 Enhancer_ASTARR 1    \n",
       "3 chr10_100535377_100536237 Enhancer_ASTARR 1    \n",
       "4 chr10_100630761_100631892 Enhancer_ASTARR 2    \n",
       "5 chr10_100636566_100638239 Enhancer_ASTARR 2    \n",
       "6 chr10_101060309_101063187 Enhancer_ASTARR 2    \n",
       "  Annotate                                           \n",
       "1 chr10_100373870_100374180                          \n",
       "2 chr10_100529840_100529950                          \n",
       "3 chr10_100535730_100536000                          \n",
       "4 chr10_100631300_100631320,chr10_100631350_100631370\n",
       "5 chr10_100637440_100637480,chr10_100637490_100637550\n",
       "6 chr10_101060690_101060710,chr10_101060740_101060830"
      ]
     },
     "metadata": {},
     "output_type": "display_data"
    }
   ],
   "source": [
    "fdiry = file.path(FD_RES, \"results\", \"region\", \"KS91_K562_ASTARRseq_peak_macs_input\")\n",
    "fname = \"peak.summary.enhancer_junke_peak_astarr.tsv\"\n",
    "fpath = file.path(fdiry, fname)\n",
    "\n",
    "dat = read_tsv(fpath, show_col_types = FALSE)\n",
    "\n",
    "dat_peak_count_enhancer_astarr = dat\n",
    "print(dim(dat))\n",
    "head(dat)"
   ]
  },
  {
   "cell_type": "code",
   "execution_count": 16,
   "metadata": {},
   "outputs": [
    {
     "name": "stdout",
     "output_type": "stream",
     "text": [
      "[1] 20688     4\n"
     ]
    },
    {
     "data": {
      "text/html": [
       "<table class=\"dataframe\">\n",
       "<caption>A tibble: 6 × 4</caption>\n",
       "<thead>\n",
       "\t<tr><th scope=col>Peak</th><th scope=col>Name</th><th scope=col>Count</th><th scope=col>Annotate</th></tr>\n",
       "\t<tr><th scope=col>&lt;chr&gt;</th><th scope=col>&lt;chr&gt;</th><th scope=col>&lt;dbl&gt;</th><th scope=col>&lt;chr&gt;</th></tr>\n",
       "</thead>\n",
       "<tbody>\n",
       "\t<tr><td>chr10_100185017_100187275</td><td>Enhancer_WSTARR</td><td>2</td><td>chr10_100185920_100186270,chr10_100186350_100186370                          </td></tr>\n",
       "\t<tr><td>chr10_100267066_100268374</td><td>Enhancer_WSTARR</td><td>3</td><td>chr10_100267610_100267630,chr10_100267660_100267720,chr10_100267760_100267780</td></tr>\n",
       "\t<tr><td>chr10_100285974_100287341</td><td>Enhancer_WSTARR</td><td>1</td><td>chr10_100286910_100286920                                                    </td></tr>\n",
       "\t<tr><td>chr10_100346328_100347693</td><td>Enhancer_WSTARR</td><td>1</td><td>chr10_100346800_100347090                                                    </td></tr>\n",
       "\t<tr><td>chr10_100370571_100371646</td><td>Enhancer_WSTARR</td><td>1</td><td>chr10_100371470_100371490                                                    </td></tr>\n",
       "\t<tr><td>chr10_100373060_100374238</td><td>Enhancer_WSTARR</td><td>3</td><td>chr10_100373130_100373160,chr10_100373430_100373470,chr10_100373690_100374250</td></tr>\n",
       "</tbody>\n",
       "</table>\n"
      ],
      "text/latex": [
       "A tibble: 6 × 4\n",
       "\\begin{tabular}{llll}\n",
       " Peak & Name & Count & Annotate\\\\\n",
       " <chr> & <chr> & <dbl> & <chr>\\\\\n",
       "\\hline\n",
       "\t chr10\\_100185017\\_100187275 & Enhancer\\_WSTARR & 2 & chr10\\_100185920\\_100186270,chr10\\_100186350\\_100186370                          \\\\\n",
       "\t chr10\\_100267066\\_100268374 & Enhancer\\_WSTARR & 3 & chr10\\_100267610\\_100267630,chr10\\_100267660\\_100267720,chr10\\_100267760\\_100267780\\\\\n",
       "\t chr10\\_100285974\\_100287341 & Enhancer\\_WSTARR & 1 & chr10\\_100286910\\_100286920                                                    \\\\\n",
       "\t chr10\\_100346328\\_100347693 & Enhancer\\_WSTARR & 1 & chr10\\_100346800\\_100347090                                                    \\\\\n",
       "\t chr10\\_100370571\\_100371646 & Enhancer\\_WSTARR & 1 & chr10\\_100371470\\_100371490                                                    \\\\\n",
       "\t chr10\\_100373060\\_100374238 & Enhancer\\_WSTARR & 3 & chr10\\_100373130\\_100373160,chr10\\_100373430\\_100373470,chr10\\_100373690\\_100374250\\\\\n",
       "\\end{tabular}\n"
      ],
      "text/markdown": [
       "\n",
       "A tibble: 6 × 4\n",
       "\n",
       "| Peak &lt;chr&gt; | Name &lt;chr&gt; | Count &lt;dbl&gt; | Annotate &lt;chr&gt; |\n",
       "|---|---|---|---|\n",
       "| chr10_100185017_100187275 | Enhancer_WSTARR | 2 | chr10_100185920_100186270,chr10_100186350_100186370                           |\n",
       "| chr10_100267066_100268374 | Enhancer_WSTARR | 3 | chr10_100267610_100267630,chr10_100267660_100267720,chr10_100267760_100267780 |\n",
       "| chr10_100285974_100287341 | Enhancer_WSTARR | 1 | chr10_100286910_100286920                                                     |\n",
       "| chr10_100346328_100347693 | Enhancer_WSTARR | 1 | chr10_100346800_100347090                                                     |\n",
       "| chr10_100370571_100371646 | Enhancer_WSTARR | 1 | chr10_100371470_100371490                                                     |\n",
       "| chr10_100373060_100374238 | Enhancer_WSTARR | 3 | chr10_100373130_100373160,chr10_100373430_100373470,chr10_100373690_100374250 |\n",
       "\n"
      ],
      "text/plain": [
       "  Peak                      Name            Count\n",
       "1 chr10_100185017_100187275 Enhancer_WSTARR 2    \n",
       "2 chr10_100267066_100268374 Enhancer_WSTARR 3    \n",
       "3 chr10_100285974_100287341 Enhancer_WSTARR 1    \n",
       "4 chr10_100346328_100347693 Enhancer_WSTARR 1    \n",
       "5 chr10_100370571_100371646 Enhancer_WSTARR 1    \n",
       "6 chr10_100373060_100374238 Enhancer_WSTARR 3    \n",
       "  Annotate                                                                     \n",
       "1 chr10_100185920_100186270,chr10_100186350_100186370                          \n",
       "2 chr10_100267610_100267630,chr10_100267660_100267720,chr10_100267760_100267780\n",
       "3 chr10_100286910_100286920                                                    \n",
       "4 chr10_100346800_100347090                                                    \n",
       "5 chr10_100371470_100371490                                                    \n",
       "6 chr10_100373130_100373160,chr10_100373430_100373470,chr10_100373690_100374250"
      ]
     },
     "metadata": {},
     "output_type": "display_data"
    }
   ],
   "source": [
    "fdiry = file.path(FD_RES, \"results\", \"region\", \"KS91_K562_ASTARRseq_peak_macs_input\")\n",
    "fname = \"peak.summary.enhancer_junke_peak_wstarr.tsv\"\n",
    "fpath = file.path(fdiry, fname)\n",
    "\n",
    "dat = read_tsv(fpath, show_col_types = FALSE)\n",
    "\n",
    "dat_peak_count_enhancer_wstarr = dat\n",
    "print(dim(dat))\n",
    "head(dat)"
   ]
  },
  {
   "cell_type": "code",
   "execution_count": null,
   "metadata": {},
   "outputs": [],
   "source": []
  },
  {
   "cell_type": "code",
   "execution_count": 21,
   "metadata": {},
   "outputs": [
    {
     "name": "stdout",
     "output_type": "stream",
     "text": [
      "[1] 87\n",
      "[1] 77\n",
      "[1] 57\n"
     ]
    }
   ],
   "source": [
    "dat = dat_peak_summary_crispri\n",
    "print(nrow(dat))\n",
    "\n",
    "dat = dat_peak_summary_crispri\n",
    "dat = dat %>% dplyr::select(CASA) %>% distinct\n",
    "print(nrow(dat))\n",
    "\n",
    "dat = dat_peak_summary_crispri\n",
    "dat = dat %>% dplyr::select(Peak) %>% distinct\n",
    "print(nrow(dat))"
   ]
  },
  {
   "cell_type": "code",
   "execution_count": 22,
   "metadata": {},
   "outputs": [
    {
     "data": {
      "text/html": [
       "0.68141592920354"
      ],
      "text/latex": [
       "0.68141592920354"
      ],
      "text/markdown": [
       "0.68141592920354"
      ],
      "text/plain": [
       "[1] 0.6814159"
      ]
     },
     "metadata": {},
     "output_type": "display_data"
    }
   ],
   "source": [
    "77/113"
   ]
  },
  {
   "cell_type": "code",
   "execution_count": null,
   "metadata": {},
   "outputs": [],
   "source": []
  },
  {
   "cell_type": "code",
   "execution_count": null,
   "metadata": {},
   "outputs": [],
   "source": []
  },
  {
   "cell_type": "code",
   "execution_count": null,
   "metadata": {},
   "outputs": [],
   "source": []
  },
  {
   "cell_type": "code",
   "execution_count": 12,
   "metadata": {},
   "outputs": [
    {
     "data": {
      "text/plain": [
       "GRanges object with 247520 ranges and 0 metadata columns:\n",
       "           seqnames              ranges strand\n",
       "              <Rle>           <IRanges>  <Rle>\n",
       "       [1]     chr1         10015-10442      *\n",
       "       [2]     chr1         14253-14645      *\n",
       "       [3]     chr1         16015-16477      *\n",
       "       [4]     chr1         17237-17772      *\n",
       "       [5]     chr1         28903-29613      *\n",
       "       ...      ...                 ...    ...\n",
       "  [247516]     chrX 156009687-156010227      *\n",
       "  [247517]     chrX 156016391-156016836      *\n",
       "  [247518]     chrX 156024950-156025593      *\n",
       "  [247519]     chrX 156030187-156030740      *\n",
       "  [247520]     chrY   11215098-11215422      *\n",
       "  -------\n",
       "  seqinfo: 83 sequences from an unspecified genome; no seqlengths"
      ]
     },
     "metadata": {},
     "output_type": "display_data"
    }
   ],
   "source": [
    "dat = dat_peak_atac_wgs\n",
    "grg = GRanges(\n",
    "    seqnames = dat$Chrom,\n",
    "    ranges   = IRanges(\n",
    "        start = dat$Start, \n",
    "        end   = dat$End\n",
    "    )\n",
    ")\n",
    "\n",
    "grg_peak_atac_wgs = grg\n",
    "grg"
   ]
  },
  {
   "cell_type": "code",
   "execution_count": 13,
   "metadata": {},
   "outputs": [
    {
     "data": {
      "text/plain": [
       "GRanges object with 8 ranges and 0 metadata columns:\n",
       "      seqnames              ranges strand\n",
       "         <Rle>           <IRanges>  <Rle>\n",
       "  [1]    chr11     4505501-6505900      *\n",
       "  [2]    chr11   32869701-34870100      *\n",
       "  [3]    chr11   61787329-61898348      *\n",
       "  [4]    chr16       10001-1173100      *\n",
       "  [5]     chr2   59553301-61553700      *\n",
       "  [6]    chr20   56391301-58391700      *\n",
       "  [7]     chr8 126735901-128736550      *\n",
       "  [8]     chrX   47785501-49880650      *\n",
       "  -------\n",
       "  seqinfo: 6 sequences from an unspecified genome; no seqlengths"
      ]
     },
     "metadata": {},
     "output_type": "display_data"
    }
   ],
   "source": [
    "dat = dat_range_tmpra\n",
    "grg = GRanges(\n",
    "    seqnames = dat$Chrom,\n",
    "    ranges   = IRanges(\n",
    "        start = dat$Start, \n",
    "        end   = dat$End\n",
    "    )\n",
    ")\n",
    "\n",
    "grg_range_tmpra = grg\n",
    "grg"
   ]
  },
  {
   "cell_type": "code",
   "execution_count": 14,
   "metadata": {},
   "outputs": [
    {
     "data": {
      "text/plain": [
       "GRanges object with 13 ranges and 0 metadata columns:\n",
       "       seqnames              ranges strand\n",
       "          <Rle>           <IRanges>  <Rle>\n",
       "   [1]    chr11     4091884-6419310      *\n",
       "   [2]    chr11   33064196-34664117      *\n",
       "   [3]    chr11   61788524-61897153      *\n",
       "   [4]    chr12   54300766-54301042      *\n",
       "   [5]    chr12 110726151-112325737      *\n",
       "   ...      ...                 ...    ...\n",
       "   [9]     chr5   87611207-89911163      *\n",
       "  [10]     chr6 108840570-109828800      *\n",
       "  [11]     chr6 134253831-136927585      *\n",
       "  [12]     chr8 126736094-128735225      *\n",
       "  [13]     chrX   48397930-49656988      *\n",
       "  -------\n",
       "  seqinfo: 9 sequences from an unspecified genome; no seqlengths"
      ]
     },
     "metadata": {},
     "output_type": "display_data"
    }
   ],
   "source": [
    "dat = dat_range_crispr\n",
    "grg = GRanges(\n",
    "    seqnames = dat$Chrom,\n",
    "    ranges   = IRanges(\n",
    "        start = dat$Start, \n",
    "        end   = dat$End\n",
    "    )\n",
    ")\n",
    "\n",
    "grg_range_crispr = grg\n",
    "grg"
   ]
  },
  {
   "cell_type": "code",
   "execution_count": 28,
   "metadata": {},
   "outputs": [
    {
     "name": "stdout",
     "output_type": "stream",
     "text": [
      "[1] 610960\n",
      "GRanges object with 610960 ranges and 1 metadata column:\n",
      "           seqnames              ranges strand |        Name\n",
      "              <Rle>           <IRanges>  <Rle> | <character>\n",
      "       [1]    chr11   33064196-33064197      * |     CAPRIN1\n",
      "       [2]    chr11   33064217-33064218      * |     CAPRIN1\n",
      "       [3]    chr11   33064229-33064230      * |     CAPRIN1\n",
      "       [4]    chr11   33064230-33064231      * |     CAPRIN1\n",
      "       [5]    chr11   33064258-33064259      * |     CAPRIN1\n",
      "       ...      ...                 ...    ... .         ...\n",
      "  [610956]     chr8 128731456-128731457      * |        PVT1\n",
      "  [610957]     chr8 128732458-128732459      * |        PVT1\n",
      "  [610958]     chr8 128732691-128732692      * |        PVT1\n",
      "  [610959]     chr8 128733323-128733324      * |        PVT1\n",
      "  [610960]     chr8 128735224-128735225      * |        PVT1\n",
      "  -------\n",
      "  seqinfo: 9 sequences from an unspecified genome; no seqlengths\n"
     ]
    }
   ],
   "source": [
    "### construct a granges object of the guides\n",
    "dat = dat_crispr_log2fc_filter\n",
    "grg = GRanges(\n",
    "    seqnames = dat$Chrom,\n",
    "    ranges   = IRanges(\n",
    "        start = dat$Start, \n",
    "        end   = dat$End\n",
    "    )\n",
    ")\n",
    "grg$Name = dat$Gene\n",
    "\n",
    "### assign and show\n",
    "grg_crispr_guides = grg\n",
    "print(length(grg))\n",
    "print(grg)"
   ]
  },
  {
   "cell_type": "code",
   "execution_count": 24,
   "metadata": {},
   "outputs": [
    {
     "data": {
      "text/html": [
       "<table class=\"dataframe\">\n",
       "<caption>A tibble: 6 × 8</caption>\n",
       "<thead>\n",
       "\t<tr><th scope=col>Chrom</th><th scope=col>Start</th><th scope=col>End</th><th scope=col>Name</th><th scope=col>Score</th><th scope=col>Strand</th><th scope=col>Gene_Symbol</th><th scope=col>Gene_ENS</th></tr>\n",
       "\t<tr><th scope=col>&lt;chr&gt;</th><th scope=col>&lt;dbl&gt;</th><th scope=col>&lt;dbl&gt;</th><th scope=col>&lt;chr&gt;</th><th scope=col>&lt;dbl&gt;</th><th scope=col>&lt;chr&gt;</th><th scope=col>&lt;chr&gt;</th><th scope=col>&lt;chr&gt;</th></tr>\n",
       "</thead>\n",
       "<tbody>\n",
       "\t<tr><td>chr11</td><td>33944871</td><td>33945471</td><td>chr11:33944871-33945471</td><td>0.8037646</td><td>.</td><td>CAPRIN1</td><td>ENSG00000135387</td></tr>\n",
       "\t<tr><td>chr11</td><td>34050971</td><td>34051471</td><td>chr11:34050971-34051471</td><td>0.9739873</td><td>.</td><td>CAPRIN1</td><td>ENSG00000135387</td></tr>\n",
       "\t<tr><td>chr11</td><td>34051571</td><td>34054171</td><td>chr11:34051571-34054171</td><td>2.0642907</td><td>.</td><td>CAPRIN1</td><td>ENSG00000135387</td></tr>\n",
       "\t<tr><td>chr11</td><td>34085871</td><td>34086871</td><td>chr11:34085871-34086871</td><td>1.0092724</td><td>.</td><td>CAPRIN1</td><td>ENSG00000135387</td></tr>\n",
       "\t<tr><td>chr11</td><td>33944868</td><td>33945268</td><td>chr11:33944868-33945268</td><td>1.2146755</td><td>.</td><td>CAT    </td><td>ENSG00000121691</td></tr>\n",
       "\t<tr><td>chr11</td><td>34437468</td><td>34440568</td><td>chr11:34437468-34440568</td><td>3.2866681</td><td>.</td><td>CAT    </td><td>ENSG00000121691</td></tr>\n",
       "</tbody>\n",
       "</table>\n"
      ],
      "text/latex": [
       "A tibble: 6 × 8\n",
       "\\begin{tabular}{llllllll}\n",
       " Chrom & Start & End & Name & Score & Strand & Gene\\_Symbol & Gene\\_ENS\\\\\n",
       " <chr> & <dbl> & <dbl> & <chr> & <dbl> & <chr> & <chr> & <chr>\\\\\n",
       "\\hline\n",
       "\t chr11 & 33944871 & 33945471 & chr11:33944871-33945471 & 0.8037646 & . & CAPRIN1 & ENSG00000135387\\\\\n",
       "\t chr11 & 34050971 & 34051471 & chr11:34050971-34051471 & 0.9739873 & . & CAPRIN1 & ENSG00000135387\\\\\n",
       "\t chr11 & 34051571 & 34054171 & chr11:34051571-34054171 & 2.0642907 & . & CAPRIN1 & ENSG00000135387\\\\\n",
       "\t chr11 & 34085871 & 34086871 & chr11:34085871-34086871 & 1.0092724 & . & CAPRIN1 & ENSG00000135387\\\\\n",
       "\t chr11 & 33944868 & 33945268 & chr11:33944868-33945268 & 1.2146755 & . & CAT     & ENSG00000121691\\\\\n",
       "\t chr11 & 34437468 & 34440568 & chr11:34437468-34440568 & 3.2866681 & . & CAT     & ENSG00000121691\\\\\n",
       "\\end{tabular}\n"
      ],
      "text/markdown": [
       "\n",
       "A tibble: 6 × 8\n",
       "\n",
       "| Chrom &lt;chr&gt; | Start &lt;dbl&gt; | End &lt;dbl&gt; | Name &lt;chr&gt; | Score &lt;dbl&gt; | Strand &lt;chr&gt; | Gene_Symbol &lt;chr&gt; | Gene_ENS &lt;chr&gt; |\n",
       "|---|---|---|---|---|---|---|---|\n",
       "| chr11 | 33944871 | 33945471 | chr11:33944871-33945471 | 0.8037646 | . | CAPRIN1 | ENSG00000135387 |\n",
       "| chr11 | 34050971 | 34051471 | chr11:34050971-34051471 | 0.9739873 | . | CAPRIN1 | ENSG00000135387 |\n",
       "| chr11 | 34051571 | 34054171 | chr11:34051571-34054171 | 2.0642907 | . | CAPRIN1 | ENSG00000135387 |\n",
       "| chr11 | 34085871 | 34086871 | chr11:34085871-34086871 | 1.0092724 | . | CAPRIN1 | ENSG00000135387 |\n",
       "| chr11 | 33944868 | 33945268 | chr11:33944868-33945268 | 1.2146755 | . | CAT     | ENSG00000121691 |\n",
       "| chr11 | 34437468 | 34440568 | chr11:34437468-34440568 | 3.2866681 | . | CAT     | ENSG00000121691 |\n",
       "\n"
      ],
      "text/plain": [
       "  Chrom Start    End      Name                    Score     Strand Gene_Symbol\n",
       "1 chr11 33944871 33945471 chr11:33944871-33945471 0.8037646 .      CAPRIN1    \n",
       "2 chr11 34050971 34051471 chr11:34050971-34051471 0.9739873 .      CAPRIN1    \n",
       "3 chr11 34051571 34054171 chr11:34051571-34054171 2.0642907 .      CAPRIN1    \n",
       "4 chr11 34085871 34086871 chr11:34085871-34086871 1.0092724 .      CAPRIN1    \n",
       "5 chr11 33944868 33945268 chr11:33944868-33945268 1.2146755 .      CAT        \n",
       "6 chr11 34437468 34440568 chr11:34437468-34440568 3.2866681 .      CAT        \n",
       "  Gene_ENS       \n",
       "1 ENSG00000135387\n",
       "2 ENSG00000135387\n",
       "3 ENSG00000135387\n",
       "4 ENSG00000135387\n",
       "5 ENSG00000121691\n",
       "6 ENSG00000121691"
      ]
     },
     "metadata": {},
     "output_type": "display_data"
    }
   ],
   "source": [
    "head(dat_crispr_casa)"
   ]
  },
  {
   "cell_type": "code",
   "execution_count": 25,
   "metadata": {},
   "outputs": [
    {
     "name": "stdout",
     "output_type": "stream",
     "text": [
      "[1] 113\n",
      "GRanges object with 113 ranges and 1 metadata column:\n",
      "        seqnames              ranges strand |        Name\n",
      "           <Rle>           <IRanges>  <Rle> | <character>\n",
      "    [1]    chr11   33944871-33945471      * |     CAPRIN1\n",
      "    [2]    chr11   34050971-34051471      * |     CAPRIN1\n",
      "    [3]    chr11   34051571-34054171      * |     CAPRIN1\n",
      "    [4]    chr11   34085871-34086871      * |     CAPRIN1\n",
      "    [5]    chr11   33944868-33945268      * |         CAT\n",
      "    ...      ...                 ...    ... .         ...\n",
      "  [109]     chr8 128057569-128058469      * |        PVT1\n",
      "  [110]     chr8 128058869-128059269      * |        PVT1\n",
      "  [111]     chr8 128059469-128059669      * |        PVT1\n",
      "  [112]     chr8 128066469-128066869      * |        PVT1\n",
      "  [113]     chr8 128077069-128077269      * |        PVT1\n",
      "  -------\n",
      "  seqinfo: 7 sequences from an unspecified genome; no seqlengths\n"
     ]
    }
   ],
   "source": [
    "### construct a granges object of the guides\n",
    "dat = dat_crispr_casa\n",
    "grg = GRanges(\n",
    "    seqnames = dat$Chrom,\n",
    "    ranges   = IRanges(\n",
    "        start = dat$Start, \n",
    "        end   = dat$End\n",
    "    )\n",
    ")\n",
    "grg$Name = dat$Gene_Symbol\n",
    "\n",
    "### assign and show\n",
    "grg_crispr_casa = grg\n",
    "print(length(grg))\n",
    "print(grg)"
   ]
  },
  {
   "cell_type": "code",
   "execution_count": 26,
   "metadata": {},
   "outputs": [
    {
     "data": {
      "text/plain": [
       "GRanges object with 80 ranges and 0 metadata columns:\n",
       "       seqnames            ranges strand\n",
       "          <Rle>         <IRanges>  <Rle>\n",
       "   [1]    chr11   5248847-5249047      *\n",
       "   [2]    chr11   5249847-5250847      *\n",
       "   [3]    chr11   5253147-5253547      *\n",
       "   [4]    chr11   5253647-5254647      *\n",
       "   [5]    chr11   5269147-5271147      *\n",
       "   ...      ...               ...    ...\n",
       "  [76]     chr4 55631941-55633941      *\n",
       "  [77]     chr4 55634441-55640941      *\n",
       "  [78]     chr4 55666941-55667441      *\n",
       "  [79]     chr4 55670441-55671441      *\n",
       "  [80]     chr4 55810941-55811941      *\n",
       "  -------\n",
       "  seqinfo: 7 sequences from an unspecified genome; no seqlengths"
      ]
     },
     "metadata": {},
     "output_type": "display_data"
    }
   ],
   "source": [
    "grg = grg_crispr_casa\n",
    "reduce(grg)"
   ]
  },
  {
   "cell_type": "code",
   "execution_count": 45,
   "metadata": {},
   "outputs": [
    {
     "name": "stdout",
     "output_type": "stream",
     "text": [
      "[1] 1722\n",
      "[1] 632\n",
      "[1] 632   4\n"
     ]
    },
    {
     "data": {
      "text/html": [
       "<table class=\"dataframe\">\n",
       "<caption>A data.frame: 6 × 4</caption>\n",
       "<thead>\n",
       "\t<tr><th></th><th scope=col>Chrom</th><th scope=col>Start</th><th scope=col>End</th><th scope=col>Peak</th></tr>\n",
       "\t<tr><th></th><th scope=col>&lt;fct&gt;</th><th scope=col>&lt;int&gt;</th><th scope=col>&lt;int&gt;</th><th scope=col>&lt;chr&gt;</th></tr>\n",
       "</thead>\n",
       "<tbody>\n",
       "\t<tr><th scope=row>1</th><td>chr11</td><td>4539569</td><td>4540043</td><td>chr11_4539569_4540043</td></tr>\n",
       "\t<tr><th scope=row>2</th><td>chr11</td><td>4607676</td><td>4608647</td><td>chr11_4607676_4608647</td></tr>\n",
       "\t<tr><th scope=row>3</th><td>chr11</td><td>4626130</td><td>4626814</td><td>chr11_4626130_4626814</td></tr>\n",
       "\t<tr><th scope=row>4</th><td>chr11</td><td>4636783</td><td>4637731</td><td>chr11_4636783_4637731</td></tr>\n",
       "\t<tr><th scope=row>5</th><td>chr11</td><td>4658480</td><td>4659558</td><td>chr11_4658480_4659558</td></tr>\n",
       "\t<tr><th scope=row>6</th><td>chr11</td><td>4801687</td><td>4802066</td><td>chr11_4801687_4802066</td></tr>\n",
       "</tbody>\n",
       "</table>\n"
      ],
      "text/latex": [
       "A data.frame: 6 × 4\n",
       "\\begin{tabular}{r|llll}\n",
       "  & Chrom & Start & End & Peak\\\\\n",
       "  & <fct> & <int> & <int> & <chr>\\\\\n",
       "\\hline\n",
       "\t1 & chr11 & 4539569 & 4540043 & chr11\\_4539569\\_4540043\\\\\n",
       "\t2 & chr11 & 4607676 & 4608647 & chr11\\_4607676\\_4608647\\\\\n",
       "\t3 & chr11 & 4626130 & 4626814 & chr11\\_4626130\\_4626814\\\\\n",
       "\t4 & chr11 & 4636783 & 4637731 & chr11\\_4636783\\_4637731\\\\\n",
       "\t5 & chr11 & 4658480 & 4659558 & chr11\\_4658480\\_4659558\\\\\n",
       "\t6 & chr11 & 4801687 & 4802066 & chr11\\_4801687\\_4802066\\\\\n",
       "\\end{tabular}\n"
      ],
      "text/markdown": [
       "\n",
       "A data.frame: 6 × 4\n",
       "\n",
       "| <!--/--> | Chrom &lt;fct&gt; | Start &lt;int&gt; | End &lt;int&gt; | Peak &lt;chr&gt; |\n",
       "|---|---|---|---|---|\n",
       "| 1 | chr11 | 4539569 | 4540043 | chr11_4539569_4540043 |\n",
       "| 2 | chr11 | 4607676 | 4608647 | chr11_4607676_4608647 |\n",
       "| 3 | chr11 | 4626130 | 4626814 | chr11_4626130_4626814 |\n",
       "| 4 | chr11 | 4636783 | 4637731 | chr11_4636783_4637731 |\n",
       "| 5 | chr11 | 4658480 | 4659558 | chr11_4658480_4659558 |\n",
       "| 6 | chr11 | 4801687 | 4802066 | chr11_4801687_4802066 |\n",
       "\n"
      ],
      "text/plain": [
       "  Chrom Start   End     Peak                 \n",
       "1 chr11 4539569 4540043 chr11_4539569_4540043\n",
       "2 chr11 4607676 4608647 chr11_4607676_4608647\n",
       "3 chr11 4626130 4626814 chr11_4626130_4626814\n",
       "4 chr11 4636783 4637731 chr11_4636783_4637731\n",
       "5 chr11 4658480 4659558 chr11_4658480_4659558\n",
       "6 chr11 4801687 4802066 chr11_4801687_4802066"
      ]
     },
     "metadata": {},
     "output_type": "display_data"
    }
   ],
   "source": [
    "grg = grg_peak_atac_wgs\n",
    "\n",
    "res = GenomicRanges::findOverlaps(grg, grg_range_tmpra)\n",
    "idx = unique(queryHits(res))\n",
    "grg = grg[idx]\n",
    "\n",
    "print(length(idx))\n",
    "\n",
    "res = GenomicRanges::findOverlaps(grg, grg_guides_total)\n",
    "idx = unique(queryHits(res))\n",
    "grg = grg[idx]\n",
    "\n",
    "print(length(idx))\n",
    "\n",
    "dat = data.frame(\n",
    "    Chrom = seqnames(grg),\n",
    "    Start = start(grg),\n",
    "    End   = end(grg)\n",
    ")\n",
    "dat = dat %>% dplyr::mutate(Peak = paste(Chrom, Start, End, sep=\"_\"))\n",
    "\n",
    "dat_peak_overlap = dat\n",
    "print(dim(dat))\n",
    "head(dat)"
   ]
  },
  {
   "cell_type": "code",
   "execution_count": 54,
   "metadata": {},
   "outputs": [
    {
     "data": {
      "text/html": [
       "589059"
      ],
      "text/latex": [
       "589059"
      ],
      "text/markdown": [
       "589059"
      ],
      "text/plain": [
       "[1] 589059"
      ]
     },
     "metadata": {},
     "output_type": "display_data"
    }
   ],
   "source": [
    "sum(lengths(reduce(grg)))"
   ]
  },
  {
   "cell_type": "code",
   "execution_count": null,
   "metadata": {},
   "outputs": [],
   "source": []
  },
  {
   "cell_type": "code",
   "execution_count": 55,
   "metadata": {},
   "outputs": [],
   "source": [
    "dat0 = dat_peak_overlap\n",
    "dat1 = dat_peak_summary_crispri\n",
    "dat2 = bind_rows(\n",
    "    dat_peak_count_enhancer_astarr, \n",
    "    dat_peak_count_enhancer_wstarr)\n",
    "\n",
    "lst = list(\n",
    "    `Open Chromatin Regions`           = unique(dat0$Peak),\n",
    "    `CRISPR Hits`                      = unique(intersect(dat1$Peak, dat0$Peak)),\n",
    "    `Enhancer Calls (ASTARR + WSTARR)` = unique(intersect(dat2$Peak, dat0$Peak))\n",
    ")"
   ]
  },
  {
   "cell_type": "code",
   "execution_count": 56,
   "metadata": {},
   "outputs": [
    {
     "data": {
      "image/png": "[encoded data removed]",
      "text/plain": [
       "plot without title"
      ]
     },
     "metadata": {
      "image/png": {
       "height": 300,
       "width": 780
      }
     },
     "output_type": "display_data"
    }
   ],
   "source": [
    "options(repr.plot.height=5, repr.plot.width=13)\n",
    "upset(fromList(lst), order.by = \"freq\", text.scale = 2)"
   ]
  },
  {
   "cell_type": "code",
   "execution_count": 57,
   "metadata": {},
   "outputs": [],
   "source": [
    "dat0 = dat_peak_overlap\n",
    "dat1 = dat_peak_summary_crispri\n",
    "dat2 = dat_peak_count_enhancer_astarr\n",
    "dat3 = dat_peak_count_enhancer_wstarr\n",
    "\n",
    "\n",
    "lst = list(\n",
    "    `Open Chromatin Regions`  = unique(dat0$Peak),\n",
    "    `CRISPR Hits (CASA)`      = unique(intersect(dat1$Peak, dat0$Peak)),\n",
    "    `Enhancer calls (ASTARR)` = unique(intersect(dat2$Peak, dat0$Peak)),\n",
    "    `Enhancer calls (WSTARR)` = unique(intersect(dat3$Peak, dat0$Peak))\n",
    ")"
   ]
  },
  {
   "cell_type": "code",
   "execution_count": 58,
   "metadata": {},
   "outputs": [
    {
     "data": {
      "image/png": "[encoded data removed]",
      "text/plain": [
       "plot without title"
      ]
     },
     "metadata": {
      "image/png": {
       "height": 300,
       "width": 780
      }
     },
     "output_type": "display_data"
    }
   ],
   "source": [
    "options(repr.plot.height=5, repr.plot.width=13)\n",
    "upset(fromList(lst), order.by = \"freq\", text.scale = 2)"
   ]
  },
  {
   "cell_type": "code",
   "execution_count": null,
   "metadata": {},
   "outputs": [],
   "source": []
  }
 ],
 "metadata": {
  "kernelspec": {
   "display_name": "R",
   "language": "R",
   "name": "ir"
  },
  "language_info": {
   "codemirror_mode": "r",
   "file_extension": ".r",
   "mimetype": "text/x-r-source",
   "name": "R",
   "pygments_lexer": "r",
   "version": "4.2.3"
  }
 },
 "nbformat": 4,
 "nbformat_minor": 4
}
