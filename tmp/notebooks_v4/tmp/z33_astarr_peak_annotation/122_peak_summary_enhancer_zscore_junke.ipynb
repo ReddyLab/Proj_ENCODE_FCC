{
 "cells": [
  {
   "cell_type": "markdown",
   "metadata": {},
   "source": [
    "**Set environment**"
   ]
  },
  {
   "cell_type": "code",
   "execution_count": 1,
   "metadata": {},
   "outputs": [
    {
     "name": "stdout",
     "output_type": "stream",
     "text": [
      "You are in Singularity: singularity_proj_encode_fcc \n",
      "BASE DIRECTORY (FD_BASE): /data/reddylab/Kuei \n",
      "WORK DIRECTORY (FD_WORK): /data/reddylab/Kuei/out \n",
      "CODE DIRECTORY (FD_CODE): /data/reddylab/Kuei/code \n",
      "PATH OF PROJECT (FD_PRJ): /data/reddylab/Kuei/code/Proj_CombEffect_ENCODE_FCC \n",
      "PATH OF RESULTS (FD_RES): /data/reddylab/Kuei/out/proj_combeffect_encode_fcc \n",
      "PATH OF LOG     (FD_LOG): /data/reddylab/Kuei/out/proj_combeffect_encode_fcc/log \n"
     ]
    }
   ],
   "source": [
    "suppressMessages(suppressWarnings(source(\"../config/config_sing.R\")))\n",
    "show_env()"
   ]
  },
  {
   "cell_type": "markdown",
   "metadata": {},
   "source": [
    "**Check data**"
   ]
  },
  {
   "cell_type": "code",
   "execution_count": 2,
   "metadata": {},
   "outputs": [
    {
     "data": {
      "text/html": [
       "<style>\n",
       ".list-inline {list-style: none; margin:0; padding: 0}\n",
       ".list-inline>li {display: inline-block}\n",
       ".list-inline>li:not(:last-child)::after {content: \"\\00b7\"; padding: 0 .5ex}\n",
       "</style>\n",
       "<ol class=list-inline><li>'peak.annotation.enhancer_zscore_junke_peak_astarr.bed.gz'</li><li>'peak.annotation.enhancer_zscore_junke_peak_wstarr.bed.gz'</li></ol>\n"
      ],
      "text/latex": [
       "\\begin{enumerate*}\n",
       "\\item 'peak.annotation.enhancer\\_zscore\\_junke\\_peak\\_astarr.bed.gz'\n",
       "\\item 'peak.annotation.enhancer\\_zscore\\_junke\\_peak\\_wstarr.bed.gz'\n",
       "\\end{enumerate*}\n"
      ],
      "text/markdown": [
       "1. 'peak.annotation.enhancer_zscore_junke_peak_astarr.bed.gz'\n",
       "2. 'peak.annotation.enhancer_zscore_junke_peak_wstarr.bed.gz'\n",
       "\n",
       "\n"
      ],
      "text/plain": [
       "[1] \"peak.annotation.enhancer_zscore_junke_peak_astarr.bed.gz\"\n",
       "[2] \"peak.annotation.enhancer_zscore_junke_peak_wstarr.bed.gz\""
      ]
     },
     "metadata": {},
     "output_type": "display_data"
    }
   ],
   "source": [
    "fdiry = file.path(\n",
    "    FD_RES, \n",
    "    \"results\", \n",
    "    \"region\", \n",
    "    \"KS91_K562_ASTARRseq_peak_macs_input\", \n",
    "    \"annotation_enhancer_zscore_junke\")\n",
    "dir(fdiry)"
   ]
  },
  {
   "cell_type": "code",
   "execution_count": 3,
   "metadata": {},
   "outputs": [
    {
     "data": {
      "text/html": [
       "<style>\n",
       ".list-inline {list-style: none; margin:0; padding: 0}\n",
       ".list-inline>li {display: inline-block}\n",
       ".list-inline>li:not(:last-child)::after {content: \"\\00b7\"; padding: 0 .5ex}\n",
       "</style>\n",
       "<ol class=list-inline><li>'description.tsv'</li><li>'enhancer_zscore_junke_peak_astarr.bed.gz'</li><li>'enhancer_zscore_junke_peak_wstarr.bed.gz'</li></ol>\n"
      ],
      "text/latex": [
       "\\begin{enumerate*}\n",
       "\\item 'description.tsv'\n",
       "\\item 'enhancer\\_zscore\\_junke\\_peak\\_astarr.bed.gz'\n",
       "\\item 'enhancer\\_zscore\\_junke\\_peak\\_wstarr.bed.gz'\n",
       "\\end{enumerate*}\n"
      ],
      "text/markdown": [
       "1. 'description.tsv'\n",
       "2. 'enhancer_zscore_junke_peak_astarr.bed.gz'\n",
       "3. 'enhancer_zscore_junke_peak_wstarr.bed.gz'\n",
       "\n",
       "\n"
      ],
      "text/plain": [
       "[1] \"description.tsv\"                         \n",
       "[2] \"enhancer_zscore_junke_peak_astarr.bed.gz\"\n",
       "[3] \"enhancer_zscore_junke_peak_wstarr.bed.gz\""
      ]
     },
     "metadata": {},
     "output_type": "display_data"
    }
   ],
   "source": [
    "fdiry = file.path(\n",
    "    FD_RES, \n",
    "    \"results\", \n",
    "    \"region\", \n",
    "    \"annotation_enhancer_zscore_junke\")\n",
    "dir(fdiry)"
   ]
  },
  {
   "cell_type": "markdown",
   "metadata": {},
   "source": [
    "## Import data"
   ]
  },
  {
   "cell_type": "code",
   "execution_count": 4,
   "metadata": {},
   "outputs": [
    {
     "name": "stderr",
     "output_type": "stream",
     "text": [
      "\u001b[1mRows: \u001b[22m\u001b[34m11\u001b[39m \u001b[1mColumns: \u001b[22m\u001b[34m2\u001b[39m\n",
      "\u001b[36m──\u001b[39m \u001b[1mColumn specification\u001b[22m \u001b[36m─────────────────────────────────────────────────────────────────────\u001b[39m\n",
      "\u001b[1mDelimiter:\u001b[22m \"\\t\"\n",
      "\u001b[31mchr\u001b[39m (2): Name, Description\n",
      "\n",
      "\u001b[36mℹ\u001b[39m Use `spec()` to retrieve the full column specification for this data.\n",
      "\u001b[36mℹ\u001b[39m Specify the column types or set `show_col_types = FALSE` to quiet this message.\n"
     ]
    },
    {
     "name": "stdout",
     "output_type": "stream",
     "text": [
      "[1] 11  2\n"
     ]
    },
    {
     "data": {
      "text/html": [
       "<table class=\"dataframe\">\n",
       "<caption>A spec_tbl_df: 11 × 2</caption>\n",
       "<thead>\n",
       "\t<tr><th scope=col>Name</th><th scope=col>Description</th></tr>\n",
       "\t<tr><th scope=col>&lt;chr&gt;</th><th scope=col>&lt;chr&gt;</th></tr>\n",
       "</thead>\n",
       "<tbody>\n",
       "\t<tr><td>Chrom        </td><td>Seqnames                      </td></tr>\n",
       "\t<tr><td>Start        </td><td>Start                         </td></tr>\n",
       "\t<tr><td>End          </td><td>End                           </td></tr>\n",
       "\t<tr><td>Name         </td><td>Name                          </td></tr>\n",
       "\t<tr><td>Log2FC       </td><td>Mean logFC across all the bins</td></tr>\n",
       "\t<tr><td>Strand       </td><td>Strand                        </td></tr>\n",
       "\t<tr><td>Zscore       </td><td>Z_score based on mean logFC   </td></tr>\n",
       "\t<tr><td>summit_Start </td><td>Summit start                  </td></tr>\n",
       "\t<tr><td>summit_End   </td><td>Summit end                    </td></tr>\n",
       "\t<tr><td>summit_Log2FC</td><td>Summit logFC                  </td></tr>\n",
       "\t<tr><td>summit_Zscore</td><td>Summit z-score                </td></tr>\n",
       "</tbody>\n",
       "</table>\n"
      ],
      "text/latex": [
       "A spec\\_tbl\\_df: 11 × 2\n",
       "\\begin{tabular}{ll}\n",
       " Name & Description\\\\\n",
       " <chr> & <chr>\\\\\n",
       "\\hline\n",
       "\t Chrom         & Seqnames                      \\\\\n",
       "\t Start         & Start                         \\\\\n",
       "\t End           & End                           \\\\\n",
       "\t Name          & Name                          \\\\\n",
       "\t Log2FC        & Mean logFC across all the bins\\\\\n",
       "\t Strand        & Strand                        \\\\\n",
       "\t Zscore        & Z\\_score based on mean logFC   \\\\\n",
       "\t summit\\_Start  & Summit start                  \\\\\n",
       "\t summit\\_End    & Summit end                    \\\\\n",
       "\t summit\\_Log2FC & Summit logFC                  \\\\\n",
       "\t summit\\_Zscore & Summit z-score                \\\\\n",
       "\\end{tabular}\n"
      ],
      "text/markdown": [
       "\n",
       "A spec_tbl_df: 11 × 2\n",
       "\n",
       "| Name &lt;chr&gt; | Description &lt;chr&gt; |\n",
       "|---|---|\n",
       "| Chrom         | Seqnames                       |\n",
       "| Start         | Start                          |\n",
       "| End           | End                            |\n",
       "| Name          | Name                           |\n",
       "| Log2FC        | Mean logFC across all the bins |\n",
       "| Strand        | Strand                         |\n",
       "| Zscore        | Z_score based on mean logFC    |\n",
       "| summit_Start  | Summit start                   |\n",
       "| summit_End    | Summit end                     |\n",
       "| summit_Log2FC | Summit logFC                   |\n",
       "| summit_Zscore | Summit z-score                 |\n",
       "\n"
      ],
      "text/plain": [
       "   Name          Description                   \n",
       "1  Chrom         Seqnames                      \n",
       "2  Start         Start                         \n",
       "3  End           End                           \n",
       "4  Name          Name                          \n",
       "5  Log2FC        Mean logFC across all the bins\n",
       "6  Strand        Strand                        \n",
       "7  Zscore        Z_score based on mean logFC   \n",
       "8  summit_Start  Summit start                  \n",
       "9  summit_End    Summit end                    \n",
       "10 summit_Log2FC Summit logFC                  \n",
       "11 summit_Zscore Summit z-score                "
      ]
     },
     "metadata": {},
     "output_type": "display_data"
    }
   ],
   "source": [
    "folder = \"annotation_enhancer_zscore_junke\"\n",
    "fdiry  = file.path(FD_RES, \"results\", \"region\", folder)\n",
    "fname = \"description.tsv\"\n",
    "fpath = file.path(fdiry, fname)\n",
    "\n",
    "dat = read_tsv(fpath)\n",
    "\n",
    "dat_cnames = dat\n",
    "print(dim(dat))\n",
    "dat"
   ]
  },
  {
   "cell_type": "markdown",
   "metadata": {},
   "source": [
    "**ASTARR**"
   ]
  },
  {
   "cell_type": "code",
   "execution_count": 5,
   "metadata": {},
   "outputs": [
    {
     "name": "stdout",
     "output_type": "stream",
     "text": [
      "[1] 2896   20\n"
     ]
    },
    {
     "data": {
      "text/html": [
       "<table class=\"dataframe\">\n",
       "<caption>A tibble: 6 × 20</caption>\n",
       "<thead>\n",
       "\t<tr><th scope=col>Chrom_ATAC</th><th scope=col>Start_ATAC</th><th scope=col>End_ATAC</th><th scope=col>Chrom</th><th scope=col>Start</th><th scope=col>End</th><th scope=col>Name</th><th scope=col>Log2FC</th><th scope=col>Strand</th><th scope=col>Zscore</th><th scope=col>summit_Start</th><th scope=col>summit_End</th><th scope=col>summit_Log2FC</th><th scope=col>summit_Zscore</th><th scope=col>Overlap</th><th scope=col>Peak_ATAC</th><th scope=col>Annotation</th><th scope=col>Label</th><th scope=col>Loc</th><th scope=col>Value</th></tr>\n",
       "\t<tr><th scope=col>&lt;chr&gt;</th><th scope=col>&lt;dbl&gt;</th><th scope=col>&lt;dbl&gt;</th><th scope=col>&lt;chr&gt;</th><th scope=col>&lt;dbl&gt;</th><th scope=col>&lt;dbl&gt;</th><th scope=col>&lt;chr&gt;</th><th scope=col>&lt;dbl&gt;</th><th scope=col>&lt;chr&gt;</th><th scope=col>&lt;dbl&gt;</th><th scope=col>&lt;dbl&gt;</th><th scope=col>&lt;dbl&gt;</th><th scope=col>&lt;dbl&gt;</th><th scope=col>&lt;dbl&gt;</th><th scope=col>&lt;dbl&gt;</th><th scope=col>&lt;chr&gt;</th><th scope=col>&lt;chr&gt;</th><th scope=col>&lt;chr&gt;</th><th scope=col>&lt;chr&gt;</th><th scope=col>&lt;dbl&gt;</th></tr>\n",
       "</thead>\n",
       "<tbody>\n",
       "\t<tr><td>chr1</td><td>1012902</td><td>1014502</td><td>chr1</td><td>1013020</td><td>1013470</td><td>peak_both_1</td><td>2.658360</td><td>.</td><td>2.181596</td><td>1013360</td><td>1013460</td><td>2.892628</td><td>2.346891</td><td>450</td><td>chr1_1012902_1014502</td><td>Enhancer</td><td>Enhancer_ZScore_ASTARR</td><td>chr1:1013020-1013470</td><td>2.181596</td></tr>\n",
       "\t<tr><td>chr1</td><td>1723926</td><td>1724986</td><td>chr1</td><td>1724540</td><td>1724700</td><td>peak_both_2</td><td>2.619779</td><td>.</td><td>2.154374</td><td>1724570</td><td>1724670</td><td>2.798618</td><td>2.280560</td><td>160</td><td>chr1_1723926_1724986</td><td>Enhancer</td><td>Enhancer_ZScore_ASTARR</td><td>chr1:1724540-1724700</td><td>2.154374</td></tr>\n",
       "\t<tr><td>chr1</td><td>2289710</td><td>2291474</td><td>chr1</td><td>2290700</td><td>2291030</td><td>peak_both_3</td><td>2.951714</td><td>.</td><td>2.388582</td><td>2290810</td><td>2290910</td><td>3.366537</td><td>2.681274</td><td>330</td><td>chr1_2289710_2291474</td><td>Enhancer</td><td>Enhancer_ZScore_ASTARR</td><td>chr1:2290700-2291030</td><td>2.388582</td></tr>\n",
       "\t<tr><td>chr1</td><td>3312817</td><td>3313807</td><td>chr1</td><td>3313260</td><td>3313400</td><td>peak_both_4</td><td>2.655312</td><td>.</td><td>2.179446</td><td>3313270</td><td>3313370</td><td>2.705816</td><td>2.215080</td><td>140</td><td>chr1_3312817_3313807</td><td>Enhancer</td><td>Enhancer_ZScore_ASTARR</td><td>chr1:3313260-3313400</td><td>2.179446</td></tr>\n",
       "\t<tr><td>chr1</td><td>5855596</td><td>5857313</td><td>chr1</td><td>5856530</td><td>5856630</td><td>peak_both_5</td><td>2.396075</td><td>.</td><td>1.996532</td><td>5856530</td><td>5856630</td><td>2.396075</td><td>1.996532</td><td>100</td><td>chr1_5855596_5857313</td><td>Enhancer</td><td>Enhancer_ZScore_ASTARR</td><td>chr1:5856530-5856630</td><td>1.996532</td></tr>\n",
       "\t<tr><td>chr1</td><td>5917163</td><td>5918204</td><td>chr1</td><td>5917710</td><td>5917930</td><td>peak_both_6</td><td>2.640920</td><td>.</td><td>2.169290</td><td>5917760</td><td>5917860</td><td>2.806423</td><td>2.286066</td><td>220</td><td>chr1_5917163_5918204</td><td>Enhancer</td><td>Enhancer_ZScore_ASTARR</td><td>chr1:5917710-5917930</td><td>2.169290</td></tr>\n",
       "</tbody>\n",
       "</table>\n"
      ],
      "text/latex": [
       "A tibble: 6 × 20\n",
       "\\begin{tabular}{llllllllllllllllllll}\n",
       " Chrom\\_ATAC & Start\\_ATAC & End\\_ATAC & Chrom & Start & End & Name & Log2FC & Strand & Zscore & summit\\_Start & summit\\_End & summit\\_Log2FC & summit\\_Zscore & Overlap & Peak\\_ATAC & Annotation & Label & Loc & Value\\\\\n",
       " <chr> & <dbl> & <dbl> & <chr> & <dbl> & <dbl> & <chr> & <dbl> & <chr> & <dbl> & <dbl> & <dbl> & <dbl> & <dbl> & <dbl> & <chr> & <chr> & <chr> & <chr> & <dbl>\\\\\n",
       "\\hline\n",
       "\t chr1 & 1012902 & 1014502 & chr1 & 1013020 & 1013470 & peak\\_both\\_1 & 2.658360 & . & 2.181596 & 1013360 & 1013460 & 2.892628 & 2.346891 & 450 & chr1\\_1012902\\_1014502 & Enhancer & Enhancer\\_ZScore\\_ASTARR & chr1:1013020-1013470 & 2.181596\\\\\n",
       "\t chr1 & 1723926 & 1724986 & chr1 & 1724540 & 1724700 & peak\\_both\\_2 & 2.619779 & . & 2.154374 & 1724570 & 1724670 & 2.798618 & 2.280560 & 160 & chr1\\_1723926\\_1724986 & Enhancer & Enhancer\\_ZScore\\_ASTARR & chr1:1724540-1724700 & 2.154374\\\\\n",
       "\t chr1 & 2289710 & 2291474 & chr1 & 2290700 & 2291030 & peak\\_both\\_3 & 2.951714 & . & 2.388582 & 2290810 & 2290910 & 3.366537 & 2.681274 & 330 & chr1\\_2289710\\_2291474 & Enhancer & Enhancer\\_ZScore\\_ASTARR & chr1:2290700-2291030 & 2.388582\\\\\n",
       "\t chr1 & 3312817 & 3313807 & chr1 & 3313260 & 3313400 & peak\\_both\\_4 & 2.655312 & . & 2.179446 & 3313270 & 3313370 & 2.705816 & 2.215080 & 140 & chr1\\_3312817\\_3313807 & Enhancer & Enhancer\\_ZScore\\_ASTARR & chr1:3313260-3313400 & 2.179446\\\\\n",
       "\t chr1 & 5855596 & 5857313 & chr1 & 5856530 & 5856630 & peak\\_both\\_5 & 2.396075 & . & 1.996532 & 5856530 & 5856630 & 2.396075 & 1.996532 & 100 & chr1\\_5855596\\_5857313 & Enhancer & Enhancer\\_ZScore\\_ASTARR & chr1:5856530-5856630 & 1.996532\\\\\n",
       "\t chr1 & 5917163 & 5918204 & chr1 & 5917710 & 5917930 & peak\\_both\\_6 & 2.640920 & . & 2.169290 & 5917760 & 5917860 & 2.806423 & 2.286066 & 220 & chr1\\_5917163\\_5918204 & Enhancer & Enhancer\\_ZScore\\_ASTARR & chr1:5917710-5917930 & 2.169290\\\\\n",
       "\\end{tabular}\n"
      ],
      "text/markdown": [
       "\n",
       "A tibble: 6 × 20\n",
       "\n",
       "| Chrom_ATAC &lt;chr&gt; | Start_ATAC &lt;dbl&gt; | End_ATAC &lt;dbl&gt; | Chrom &lt;chr&gt; | Start &lt;dbl&gt; | End &lt;dbl&gt; | Name &lt;chr&gt; | Log2FC &lt;dbl&gt; | Strand &lt;chr&gt; | Zscore &lt;dbl&gt; | summit_Start &lt;dbl&gt; | summit_End &lt;dbl&gt; | summit_Log2FC &lt;dbl&gt; | summit_Zscore &lt;dbl&gt; | Overlap &lt;dbl&gt; | Peak_ATAC &lt;chr&gt; | Annotation &lt;chr&gt; | Label &lt;chr&gt; | Loc &lt;chr&gt; | Value &lt;dbl&gt; |\n",
       "|---|---|---|---|---|---|---|---|---|---|---|---|---|---|---|---|---|---|---|---|\n",
       "| chr1 | 1012902 | 1014502 | chr1 | 1013020 | 1013470 | peak_both_1 | 2.658360 | . | 2.181596 | 1013360 | 1013460 | 2.892628 | 2.346891 | 450 | chr1_1012902_1014502 | Enhancer | Enhancer_ZScore_ASTARR | chr1:1013020-1013470 | 2.181596 |\n",
       "| chr1 | 1723926 | 1724986 | chr1 | 1724540 | 1724700 | peak_both_2 | 2.619779 | . | 2.154374 | 1724570 | 1724670 | 2.798618 | 2.280560 | 160 | chr1_1723926_1724986 | Enhancer | Enhancer_ZScore_ASTARR | chr1:1724540-1724700 | 2.154374 |\n",
       "| chr1 | 2289710 | 2291474 | chr1 | 2290700 | 2291030 | peak_both_3 | 2.951714 | . | 2.388582 | 2290810 | 2290910 | 3.366537 | 2.681274 | 330 | chr1_2289710_2291474 | Enhancer | Enhancer_ZScore_ASTARR | chr1:2290700-2291030 | 2.388582 |\n",
       "| chr1 | 3312817 | 3313807 | chr1 | 3313260 | 3313400 | peak_both_4 | 2.655312 | . | 2.179446 | 3313270 | 3313370 | 2.705816 | 2.215080 | 140 | chr1_3312817_3313807 | Enhancer | Enhancer_ZScore_ASTARR | chr1:3313260-3313400 | 2.179446 |\n",
       "| chr1 | 5855596 | 5857313 | chr1 | 5856530 | 5856630 | peak_both_5 | 2.396075 | . | 1.996532 | 5856530 | 5856630 | 2.396075 | 1.996532 | 100 | chr1_5855596_5857313 | Enhancer | Enhancer_ZScore_ASTARR | chr1:5856530-5856630 | 1.996532 |\n",
       "| chr1 | 5917163 | 5918204 | chr1 | 5917710 | 5917930 | peak_both_6 | 2.640920 | . | 2.169290 | 5917760 | 5917860 | 2.806423 | 2.286066 | 220 | chr1_5917163_5918204 | Enhancer | Enhancer_ZScore_ASTARR | chr1:5917710-5917930 | 2.169290 |\n",
       "\n"
      ],
      "text/plain": [
       "  Chrom_ATAC Start_ATAC End_ATAC Chrom Start   End     Name        Log2FC  \n",
       "1 chr1       1012902    1014502  chr1  1013020 1013470 peak_both_1 2.658360\n",
       "2 chr1       1723926    1724986  chr1  1724540 1724700 peak_both_2 2.619779\n",
       "3 chr1       2289710    2291474  chr1  2290700 2291030 peak_both_3 2.951714\n",
       "4 chr1       3312817    3313807  chr1  3313260 3313400 peak_both_4 2.655312\n",
       "5 chr1       5855596    5857313  chr1  5856530 5856630 peak_both_5 2.396075\n",
       "6 chr1       5917163    5918204  chr1  5917710 5917930 peak_both_6 2.640920\n",
       "  Strand Zscore   summit_Start summit_End summit_Log2FC summit_Zscore Overlap\n",
       "1 .      2.181596 1013360      1013460    2.892628      2.346891      450    \n",
       "2 .      2.154374 1724570      1724670    2.798618      2.280560      160    \n",
       "3 .      2.388582 2290810      2290910    3.366537      2.681274      330    \n",
       "4 .      2.179446 3313270      3313370    2.705816      2.215080      140    \n",
       "5 .      1.996532 5856530      5856630    2.396075      1.996532      100    \n",
       "6 .      2.169290 5917760      5917860    2.806423      2.286066      220    \n",
       "  Peak_ATAC            Annotation Label                  Loc                 \n",
       "1 chr1_1012902_1014502 Enhancer   Enhancer_ZScore_ASTARR chr1:1013020-1013470\n",
       "2 chr1_1723926_1724986 Enhancer   Enhancer_ZScore_ASTARR chr1:1724540-1724700\n",
       "3 chr1_2289710_2291474 Enhancer   Enhancer_ZScore_ASTARR chr1:2290700-2291030\n",
       "4 chr1_3312817_3313807 Enhancer   Enhancer_ZScore_ASTARR chr1:3313260-3313400\n",
       "5 chr1_5855596_5857313 Enhancer   Enhancer_ZScore_ASTARR chr1:5856530-5856630\n",
       "6 chr1_5917163_5918204 Enhancer   Enhancer_ZScore_ASTARR chr1:5917710-5917930\n",
       "  Value   \n",
       "1 2.181596\n",
       "2 2.154374\n",
       "3 2.388582\n",
       "4 2.179446\n",
       "5 1.996532\n",
       "6 2.169290"
      ]
     },
     "metadata": {},
     "output_type": "display_data"
    }
   ],
   "source": [
    "### init\n",
    "annotation = \"Enhancer\"\n",
    "label      = \"Enhancer_ZScore_ASTARR\"\n",
    "cnames = dat_cnames$Name\n",
    "cnames = c(\"Chrom_ATAC\", \"Start_ATAC\", \"End_ATAC\", cnames, \"Overlap\")\n",
    "\n",
    "###\n",
    "fdiry = file.path(\n",
    "    FD_RES, \n",
    "    \"results\", \n",
    "    \"region\", \n",
    "    \"KS91_K562_ASTARRseq_peak_macs_input\", \n",
    "    folder)\n",
    "fname = \"peak.annotation.enhancer_zscore_junke_peak_astarr.bed.gz\"\n",
    "fpath = file.path(fdiry, fname)\n",
    "\n",
    "### read data\n",
    "dat = read_tsv(fpath, col_names = cnames, show_col_types = FALSE)\n",
    "dat = dat %>% dplyr::mutate(\n",
    "    Peak_ATAC  = paste(Chrom_ATAC, Start_ATAC, End_ATAC, sep=\"_\"),\n",
    "    Annotation = annotation,\n",
    "    Label      = label,\n",
    "    Loc        = paste0(Chrom, \":\", Start, \"-\", End),\n",
    "    Value      = Zscore\n",
    ")\n",
    "\n",
    "### assign and show\n",
    "dat_peak_annot_astarr = dat\n",
    "print(dim(dat))\n",
    "head(dat)"
   ]
  },
  {
   "cell_type": "markdown",
   "metadata": {},
   "source": [
    "**WSTARR**"
   ]
  },
  {
   "cell_type": "code",
   "execution_count": 6,
   "metadata": {},
   "outputs": [
    {
     "name": "stdout",
     "output_type": "stream",
     "text": [
      "[1] 16199    20\n"
     ]
    },
    {
     "data": {
      "text/html": [
       "<table class=\"dataframe\">\n",
       "<caption>A tibble: 6 × 20</caption>\n",
       "<thead>\n",
       "\t<tr><th scope=col>Chrom_ATAC</th><th scope=col>Start_ATAC</th><th scope=col>End_ATAC</th><th scope=col>Chrom</th><th scope=col>Start</th><th scope=col>End</th><th scope=col>Name</th><th scope=col>Log2FC</th><th scope=col>Strand</th><th scope=col>Zscore</th><th scope=col>summit_Start</th><th scope=col>summit_End</th><th scope=col>summit_Log2FC</th><th scope=col>summit_Zscore</th><th scope=col>Overlap</th><th scope=col>Peak_ATAC</th><th scope=col>Annotation</th><th scope=col>Label</th><th scope=col>Loc</th><th scope=col>Value</th></tr>\n",
       "\t<tr><th scope=col>&lt;chr&gt;</th><th scope=col>&lt;dbl&gt;</th><th scope=col>&lt;dbl&gt;</th><th scope=col>&lt;chr&gt;</th><th scope=col>&lt;dbl&gt;</th><th scope=col>&lt;dbl&gt;</th><th scope=col>&lt;chr&gt;</th><th scope=col>&lt;dbl&gt;</th><th scope=col>&lt;chr&gt;</th><th scope=col>&lt;dbl&gt;</th><th scope=col>&lt;dbl&gt;</th><th scope=col>&lt;dbl&gt;</th><th scope=col>&lt;dbl&gt;</th><th scope=col>&lt;dbl&gt;</th><th scope=col>&lt;dbl&gt;</th><th scope=col>&lt;chr&gt;</th><th scope=col>&lt;chr&gt;</th><th scope=col>&lt;chr&gt;</th><th scope=col>&lt;chr&gt;</th><th scope=col>&lt;dbl&gt;</th></tr>\n",
       "</thead>\n",
       "<tbody>\n",
       "\t<tr><td>chr1</td><td> 777949</td><td> 779437</td><td>chr1</td><td> 778420</td><td> 779050</td><td>peak_both_1</td><td>1.716052</td><td>.</td><td>3.133377</td><td> 778630</td><td> 778730</td><td>2.248917</td><td>4.143803</td><td>630</td><td>chr1_777949_779437  </td><td>Enhancer</td><td>Enhancer_ZScore_WSTARR</td><td>chr1:778420-779050  </td><td>3.133377</td></tr>\n",
       "\t<tr><td>chr1</td><td> 826754</td><td> 828040</td><td>chr1</td><td> 827430</td><td> 827560</td><td>peak_both_2</td><td>1.392701</td><td>.</td><td>2.520235</td><td> 827450</td><td> 827550</td><td>1.416467</td><td>2.565300</td><td>130</td><td>chr1_826754_828040  </td><td>Enhancer</td><td>Enhancer_ZScore_WSTARR</td><td>chr1:827430-827560  </td><td>2.520235</td></tr>\n",
       "\t<tr><td>chr1</td><td> 958685</td><td> 959974</td><td>chr1</td><td> 959270</td><td> 959620</td><td>peak_both_3</td><td>1.788740</td><td>.</td><td>3.271208</td><td> 959290</td><td> 959390</td><td>2.136867</td><td>3.931332</td><td>350</td><td>chr1_958685_959974  </td><td>Enhancer</td><td>Enhancer_ZScore_WSTARR</td><td>chr1:959270-959620  </td><td>3.271208</td></tr>\n",
       "\t<tr><td>chr1</td><td> 998921</td><td>1001204</td><td>chr1</td><td>1000690</td><td>1000990</td><td>peak_both_5</td><td>1.176388</td><td>.</td><td>2.110060</td><td>1000790</td><td>1000890</td><td>1.255087</td><td>2.259289</td><td>300</td><td>chr1_998921_1001204 </td><td>Enhancer</td><td>Enhancer_ZScore_WSTARR</td><td>chr1:1000690-1000990</td><td>2.110060</td></tr>\n",
       "\t<tr><td>chr1</td><td> 998921</td><td>1001204</td><td>chr1</td><td>1001030</td><td>1001180</td><td>peak_both_6</td><td>1.333345</td><td>.</td><td>2.407682</td><td>1001050</td><td>1001150</td><td>1.368707</td><td>2.474737</td><td>150</td><td>chr1_998921_1001204 </td><td>Enhancer</td><td>Enhancer_ZScore_WSTARR</td><td>chr1:1001030-1001180</td><td>2.407682</td></tr>\n",
       "\t<tr><td>chr1</td><td>1006485</td><td>1006802</td><td>chr1</td><td>1006360</td><td>1006760</td><td>peak_both_8</td><td>1.265439</td><td>.</td><td>2.278919</td><td>1006630</td><td>1006730</td><td>1.386323</td><td>2.508141</td><td>275</td><td>chr1_1006485_1006802</td><td>Enhancer</td><td>Enhancer_ZScore_WSTARR</td><td>chr1:1006360-1006760</td><td>2.278919</td></tr>\n",
       "</tbody>\n",
       "</table>\n"
      ],
      "text/latex": [
       "A tibble: 6 × 20\n",
       "\\begin{tabular}{llllllllllllllllllll}\n",
       " Chrom\\_ATAC & Start\\_ATAC & End\\_ATAC & Chrom & Start & End & Name & Log2FC & Strand & Zscore & summit\\_Start & summit\\_End & summit\\_Log2FC & summit\\_Zscore & Overlap & Peak\\_ATAC & Annotation & Label & Loc & Value\\\\\n",
       " <chr> & <dbl> & <dbl> & <chr> & <dbl> & <dbl> & <chr> & <dbl> & <chr> & <dbl> & <dbl> & <dbl> & <dbl> & <dbl> & <dbl> & <chr> & <chr> & <chr> & <chr> & <dbl>\\\\\n",
       "\\hline\n",
       "\t chr1 &  777949 &  779437 & chr1 &  778420 &  779050 & peak\\_both\\_1 & 1.716052 & . & 3.133377 &  778630 &  778730 & 2.248917 & 4.143803 & 630 & chr1\\_777949\\_779437   & Enhancer & Enhancer\\_ZScore\\_WSTARR & chr1:778420-779050   & 3.133377\\\\\n",
       "\t chr1 &  826754 &  828040 & chr1 &  827430 &  827560 & peak\\_both\\_2 & 1.392701 & . & 2.520235 &  827450 &  827550 & 1.416467 & 2.565300 & 130 & chr1\\_826754\\_828040   & Enhancer & Enhancer\\_ZScore\\_WSTARR & chr1:827430-827560   & 2.520235\\\\\n",
       "\t chr1 &  958685 &  959974 & chr1 &  959270 &  959620 & peak\\_both\\_3 & 1.788740 & . & 3.271208 &  959290 &  959390 & 2.136867 & 3.931332 & 350 & chr1\\_958685\\_959974   & Enhancer & Enhancer\\_ZScore\\_WSTARR & chr1:959270-959620   & 3.271208\\\\\n",
       "\t chr1 &  998921 & 1001204 & chr1 & 1000690 & 1000990 & peak\\_both\\_5 & 1.176388 & . & 2.110060 & 1000790 & 1000890 & 1.255087 & 2.259289 & 300 & chr1\\_998921\\_1001204  & Enhancer & Enhancer\\_ZScore\\_WSTARR & chr1:1000690-1000990 & 2.110060\\\\\n",
       "\t chr1 &  998921 & 1001204 & chr1 & 1001030 & 1001180 & peak\\_both\\_6 & 1.333345 & . & 2.407682 & 1001050 & 1001150 & 1.368707 & 2.474737 & 150 & chr1\\_998921\\_1001204  & Enhancer & Enhancer\\_ZScore\\_WSTARR & chr1:1001030-1001180 & 2.407682\\\\\n",
       "\t chr1 & 1006485 & 1006802 & chr1 & 1006360 & 1006760 & peak\\_both\\_8 & 1.265439 & . & 2.278919 & 1006630 & 1006730 & 1.386323 & 2.508141 & 275 & chr1\\_1006485\\_1006802 & Enhancer & Enhancer\\_ZScore\\_WSTARR & chr1:1006360-1006760 & 2.278919\\\\\n",
       "\\end{tabular}\n"
      ],
      "text/markdown": [
       "\n",
       "A tibble: 6 × 20\n",
       "\n",
       "| Chrom_ATAC &lt;chr&gt; | Start_ATAC &lt;dbl&gt; | End_ATAC &lt;dbl&gt; | Chrom &lt;chr&gt; | Start &lt;dbl&gt; | End &lt;dbl&gt; | Name &lt;chr&gt; | Log2FC &lt;dbl&gt; | Strand &lt;chr&gt; | Zscore &lt;dbl&gt; | summit_Start &lt;dbl&gt; | summit_End &lt;dbl&gt; | summit_Log2FC &lt;dbl&gt; | summit_Zscore &lt;dbl&gt; | Overlap &lt;dbl&gt; | Peak_ATAC &lt;chr&gt; | Annotation &lt;chr&gt; | Label &lt;chr&gt; | Loc &lt;chr&gt; | Value &lt;dbl&gt; |\n",
       "|---|---|---|---|---|---|---|---|---|---|---|---|---|---|---|---|---|---|---|---|\n",
       "| chr1 |  777949 |  779437 | chr1 |  778420 |  779050 | peak_both_1 | 1.716052 | . | 3.133377 |  778630 |  778730 | 2.248917 | 4.143803 | 630 | chr1_777949_779437   | Enhancer | Enhancer_ZScore_WSTARR | chr1:778420-779050   | 3.133377 |\n",
       "| chr1 |  826754 |  828040 | chr1 |  827430 |  827560 | peak_both_2 | 1.392701 | . | 2.520235 |  827450 |  827550 | 1.416467 | 2.565300 | 130 | chr1_826754_828040   | Enhancer | Enhancer_ZScore_WSTARR | chr1:827430-827560   | 2.520235 |\n",
       "| chr1 |  958685 |  959974 | chr1 |  959270 |  959620 | peak_both_3 | 1.788740 | . | 3.271208 |  959290 |  959390 | 2.136867 | 3.931332 | 350 | chr1_958685_959974   | Enhancer | Enhancer_ZScore_WSTARR | chr1:959270-959620   | 3.271208 |\n",
       "| chr1 |  998921 | 1001204 | chr1 | 1000690 | 1000990 | peak_both_5 | 1.176388 | . | 2.110060 | 1000790 | 1000890 | 1.255087 | 2.259289 | 300 | chr1_998921_1001204  | Enhancer | Enhancer_ZScore_WSTARR | chr1:1000690-1000990 | 2.110060 |\n",
       "| chr1 |  998921 | 1001204 | chr1 | 1001030 | 1001180 | peak_both_6 | 1.333345 | . | 2.407682 | 1001050 | 1001150 | 1.368707 | 2.474737 | 150 | chr1_998921_1001204  | Enhancer | Enhancer_ZScore_WSTARR | chr1:1001030-1001180 | 2.407682 |\n",
       "| chr1 | 1006485 | 1006802 | chr1 | 1006360 | 1006760 | peak_both_8 | 1.265439 | . | 2.278919 | 1006630 | 1006730 | 1.386323 | 2.508141 | 275 | chr1_1006485_1006802 | Enhancer | Enhancer_ZScore_WSTARR | chr1:1006360-1006760 | 2.278919 |\n",
       "\n"
      ],
      "text/plain": [
       "  Chrom_ATAC Start_ATAC End_ATAC Chrom Start   End     Name        Log2FC  \n",
       "1 chr1        777949     779437  chr1   778420  779050 peak_both_1 1.716052\n",
       "2 chr1        826754     828040  chr1   827430  827560 peak_both_2 1.392701\n",
       "3 chr1        958685     959974  chr1   959270  959620 peak_both_3 1.788740\n",
       "4 chr1        998921    1001204  chr1  1000690 1000990 peak_both_5 1.176388\n",
       "5 chr1        998921    1001204  chr1  1001030 1001180 peak_both_6 1.333345\n",
       "6 chr1       1006485    1006802  chr1  1006360 1006760 peak_both_8 1.265439\n",
       "  Strand Zscore   summit_Start summit_End summit_Log2FC summit_Zscore Overlap\n",
       "1 .      3.133377  778630       778730    2.248917      4.143803      630    \n",
       "2 .      2.520235  827450       827550    1.416467      2.565300      130    \n",
       "3 .      3.271208  959290       959390    2.136867      3.931332      350    \n",
       "4 .      2.110060 1000790      1000890    1.255087      2.259289      300    \n",
       "5 .      2.407682 1001050      1001150    1.368707      2.474737      150    \n",
       "6 .      2.278919 1006630      1006730    1.386323      2.508141      275    \n",
       "  Peak_ATAC            Annotation Label                  Loc                 \n",
       "1 chr1_777949_779437   Enhancer   Enhancer_ZScore_WSTARR chr1:778420-779050  \n",
       "2 chr1_826754_828040   Enhancer   Enhancer_ZScore_WSTARR chr1:827430-827560  \n",
       "3 chr1_958685_959974   Enhancer   Enhancer_ZScore_WSTARR chr1:959270-959620  \n",
       "4 chr1_998921_1001204  Enhancer   Enhancer_ZScore_WSTARR chr1:1000690-1000990\n",
       "5 chr1_998921_1001204  Enhancer   Enhancer_ZScore_WSTARR chr1:1001030-1001180\n",
       "6 chr1_1006485_1006802 Enhancer   Enhancer_ZScore_WSTARR chr1:1006360-1006760\n",
       "  Value   \n",
       "1 3.133377\n",
       "2 2.520235\n",
       "3 3.271208\n",
       "4 2.110060\n",
       "5 2.407682\n",
       "6 2.278919"
      ]
     },
     "metadata": {},
     "output_type": "display_data"
    }
   ],
   "source": [
    "### init\n",
    "annotation = \"Enhancer\"\n",
    "label      = \"Enhancer_ZScore_WSTARR\"\n",
    "cnames = dat_cnames$Name\n",
    "cnames = c(\"Chrom_ATAC\", \"Start_ATAC\", \"End_ATAC\", cnames, \"Overlap\")\n",
    "\n",
    "###\n",
    "fdiry = file.path(\n",
    "    FD_RES, \n",
    "    \"results\", \n",
    "    \"region\", \n",
    "    \"KS91_K562_ASTARRseq_peak_macs_input\", \n",
    "    folder)\n",
    "fname = \"peak.annotation.enhancer_zscore_junke_peak_wstarr.bed.gz\"\n",
    "fpath = file.path(fdiry, fname)\n",
    "\n",
    "### read data\n",
    "dat = read_tsv(fpath, col_names = cnames, show_col_types = FALSE)\n",
    "dat = dat %>% dplyr::mutate(\n",
    "    Peak_ATAC  = paste(Chrom_ATAC, Start_ATAC, End_ATAC, sep=\"_\"),\n",
    "    Annotation = annotation,\n",
    "    Label      = label,\n",
    "    Loc        = paste0(Chrom, \":\", Start, \"-\", End),\n",
    "    Value      = Zscore\n",
    ")\n",
    "\n",
    "### assign and show\n",
    "dat_peak_annot_wstarr = dat\n",
    "print(dim(dat))\n",
    "head(dat)"
   ]
  },
  {
   "cell_type": "markdown",
   "metadata": {},
   "source": [
    "## Arrange and summarize"
   ]
  },
  {
   "cell_type": "code",
   "execution_count": 7,
   "metadata": {},
   "outputs": [
    {
     "name": "stdout",
     "output_type": "stream",
     "text": [
      "[1] 2838    6\n"
     ]
    },
    {
     "data": {
      "text/html": [
       "<table class=\"dataframe\">\n",
       "<caption>A tibble: 6 × 6</caption>\n",
       "<thead>\n",
       "\t<tr><th scope=col>Peak</th><th scope=col>Annotation</th><th scope=col>Label</th><th scope=col>Count</th><th scope=col>Loc</th><th scope=col>Score</th></tr>\n",
       "\t<tr><th scope=col>&lt;chr&gt;</th><th scope=col>&lt;chr&gt;</th><th scope=col>&lt;chr&gt;</th><th scope=col>&lt;int&gt;</th><th scope=col>&lt;chr&gt;</th><th scope=col>&lt;dbl&gt;</th></tr>\n",
       "</thead>\n",
       "<tbody>\n",
       "\t<tr><td>chr10_101824168_101825305</td><td>Enhancer</td><td>Enhancer_ZScore_ASTARR</td><td>1</td><td>chr10:101824800-101824940</td><td>2.100458</td></tr>\n",
       "\t<tr><td>chr10_102455762_102456338</td><td>Enhancer</td><td>Enhancer_ZScore_ASTARR</td><td>1</td><td>chr10:102455970-102456280</td><td>2.495199</td></tr>\n",
       "\t<tr><td>chr10_102813802_102815732</td><td>Enhancer</td><td>Enhancer_ZScore_ASTARR</td><td>1</td><td>chr10:102814550-102814680</td><td>2.035775</td></tr>\n",
       "\t<tr><td>chr10_103907922_103909162</td><td>Enhancer</td><td>Enhancer_ZScore_ASTARR</td><td>1</td><td>chr10:103908260-103908570</td><td>3.151352</td></tr>\n",
       "\t<tr><td>chr10_104260133_104261134</td><td>Enhancer</td><td>Enhancer_ZScore_ASTARR</td><td>1</td><td>chr10:104260770-104260900</td><td>2.777685</td></tr>\n",
       "\t<tr><td>chr10_104337650_104341006</td><td>Enhancer</td><td>Enhancer_ZScore_ASTARR</td><td>1</td><td>chr10:104340110-104340390</td><td>2.479348</td></tr>\n",
       "</tbody>\n",
       "</table>\n"
      ],
      "text/latex": [
       "A tibble: 6 × 6\n",
       "\\begin{tabular}{llllll}\n",
       " Peak & Annotation & Label & Count & Loc & Score\\\\\n",
       " <chr> & <chr> & <chr> & <int> & <chr> & <dbl>\\\\\n",
       "\\hline\n",
       "\t chr10\\_101824168\\_101825305 & Enhancer & Enhancer\\_ZScore\\_ASTARR & 1 & chr10:101824800-101824940 & 2.100458\\\\\n",
       "\t chr10\\_102455762\\_102456338 & Enhancer & Enhancer\\_ZScore\\_ASTARR & 1 & chr10:102455970-102456280 & 2.495199\\\\\n",
       "\t chr10\\_102813802\\_102815732 & Enhancer & Enhancer\\_ZScore\\_ASTARR & 1 & chr10:102814550-102814680 & 2.035775\\\\\n",
       "\t chr10\\_103907922\\_103909162 & Enhancer & Enhancer\\_ZScore\\_ASTARR & 1 & chr10:103908260-103908570 & 3.151352\\\\\n",
       "\t chr10\\_104260133\\_104261134 & Enhancer & Enhancer\\_ZScore\\_ASTARR & 1 & chr10:104260770-104260900 & 2.777685\\\\\n",
       "\t chr10\\_104337650\\_104341006 & Enhancer & Enhancer\\_ZScore\\_ASTARR & 1 & chr10:104340110-104340390 & 2.479348\\\\\n",
       "\\end{tabular}\n"
      ],
      "text/markdown": [
       "\n",
       "A tibble: 6 × 6\n",
       "\n",
       "| Peak &lt;chr&gt; | Annotation &lt;chr&gt; | Label &lt;chr&gt; | Count &lt;int&gt; | Loc &lt;chr&gt; | Score &lt;dbl&gt; |\n",
       "|---|---|---|---|---|---|\n",
       "| chr10_101824168_101825305 | Enhancer | Enhancer_ZScore_ASTARR | 1 | chr10:101824800-101824940 | 2.100458 |\n",
       "| chr10_102455762_102456338 | Enhancer | Enhancer_ZScore_ASTARR | 1 | chr10:102455970-102456280 | 2.495199 |\n",
       "| chr10_102813802_102815732 | Enhancer | Enhancer_ZScore_ASTARR | 1 | chr10:102814550-102814680 | 2.035775 |\n",
       "| chr10_103907922_103909162 | Enhancer | Enhancer_ZScore_ASTARR | 1 | chr10:103908260-103908570 | 3.151352 |\n",
       "| chr10_104260133_104261134 | Enhancer | Enhancer_ZScore_ASTARR | 1 | chr10:104260770-104260900 | 2.777685 |\n",
       "| chr10_104337650_104341006 | Enhancer | Enhancer_ZScore_ASTARR | 1 | chr10:104340110-104340390 | 2.479348 |\n",
       "\n"
      ],
      "text/plain": [
       "  Peak                      Annotation Label                  Count\n",
       "1 chr10_101824168_101825305 Enhancer   Enhancer_ZScore_ASTARR 1    \n",
       "2 chr10_102455762_102456338 Enhancer   Enhancer_ZScore_ASTARR 1    \n",
       "3 chr10_102813802_102815732 Enhancer   Enhancer_ZScore_ASTARR 1    \n",
       "4 chr10_103907922_103909162 Enhancer   Enhancer_ZScore_ASTARR 1    \n",
       "5 chr10_104260133_104261134 Enhancer   Enhancer_ZScore_ASTARR 1    \n",
       "6 chr10_104337650_104341006 Enhancer   Enhancer_ZScore_ASTARR 1    \n",
       "  Loc                       Score   \n",
       "1 chr10:101824800-101824940 2.100458\n",
       "2 chr10:102455970-102456280 2.495199\n",
       "3 chr10:102814550-102814680 2.035775\n",
       "4 chr10:103908260-103908570 3.151352\n",
       "5 chr10:104260770-104260900 2.777685\n",
       "6 chr10:104340110-104340390 2.479348"
      ]
     },
     "metadata": {},
     "output_type": "display_data"
    }
   ],
   "source": [
    "dat = dat_peak_annot_astarr\n",
    "dat = dat %>% \n",
    "    dplyr::group_by(Peak_ATAC, Annotation, Label) %>%\n",
    "    dplyr::summarise(\n",
    "        Count = n(), \n",
    "        Loc   = paste(Loc, collapse=\"|\"),\n",
    "        Score = mean(Value),\n",
    "        .groups = \"drop\")\n",
    "\n",
    "dat = dat %>% dplyr::rename(\"Peak\" = \"Peak_ATAC\")\n",
    "\n",
    "### assign and show\n",
    "dat_peak_annot_count_astarr = dat\n",
    "print(dim(dat))\n",
    "head(dat)"
   ]
  },
  {
   "cell_type": "code",
   "execution_count": 8,
   "metadata": {},
   "outputs": [
    {
     "name": "stdout",
     "output_type": "stream",
     "text": [
      "[1] 13760     6\n"
     ]
    },
    {
     "data": {
      "text/html": [
       "<table class=\"dataframe\">\n",
       "<caption>A tibble: 6 × 6</caption>\n",
       "<thead>\n",
       "\t<tr><th scope=col>Peak</th><th scope=col>Annotation</th><th scope=col>Label</th><th scope=col>Count</th><th scope=col>Loc</th><th scope=col>Score</th></tr>\n",
       "\t<tr><th scope=col>&lt;chr&gt;</th><th scope=col>&lt;chr&gt;</th><th scope=col>&lt;chr&gt;</th><th scope=col>&lt;int&gt;</th><th scope=col>&lt;chr&gt;</th><th scope=col>&lt;dbl&gt;</th></tr>\n",
       "</thead>\n",
       "<tbody>\n",
       "\t<tr><td>chr10_100185017_100187275</td><td>Enhancer</td><td>Enhancer_ZScore_WSTARR</td><td>1</td><td>chr10:100185960-100186300                          </td><td>2.380972</td></tr>\n",
       "\t<tr><td>chr10_100346328_100347693</td><td>Enhancer</td><td>Enhancer_ZScore_WSTARR</td><td>2</td><td>chr10:100346770-100347050|chr10:100347100-100347200</td><td>2.407352</td></tr>\n",
       "\t<tr><td>chr10_100373060_100374238</td><td>Enhancer</td><td>Enhancer_ZScore_WSTARR</td><td>2</td><td>chr10:100373130-100373230|chr10:100373620-100374070</td><td>2.799678</td></tr>\n",
       "\t<tr><td>chr10_100528900_100530538</td><td>Enhancer</td><td>Enhancer_ZScore_WSTARR</td><td>1</td><td>chr10:100529810-100529910                          </td><td>2.063700</td></tr>\n",
       "\t<tr><td>chr10_100535377_100536237</td><td>Enhancer</td><td>Enhancer_ZScore_WSTARR</td><td>1</td><td>chr10:100535680-100536220                          </td><td>3.141553</td></tr>\n",
       "\t<tr><td>chr10_100912166_100913618</td><td>Enhancer</td><td>Enhancer_ZScore_WSTARR</td><td>1</td><td>chr10:100912700-100912900                          </td><td>2.193468</td></tr>\n",
       "</tbody>\n",
       "</table>\n"
      ],
      "text/latex": [
       "A tibble: 6 × 6\n",
       "\\begin{tabular}{llllll}\n",
       " Peak & Annotation & Label & Count & Loc & Score\\\\\n",
       " <chr> & <chr> & <chr> & <int> & <chr> & <dbl>\\\\\n",
       "\\hline\n",
       "\t chr10\\_100185017\\_100187275 & Enhancer & Enhancer\\_ZScore\\_WSTARR & 1 & chr10:100185960-100186300                           & 2.380972\\\\\n",
       "\t chr10\\_100346328\\_100347693 & Enhancer & Enhancer\\_ZScore\\_WSTARR & 2 & chr10:100346770-100347050\\textbar{}chr10:100347100-100347200 & 2.407352\\\\\n",
       "\t chr10\\_100373060\\_100374238 & Enhancer & Enhancer\\_ZScore\\_WSTARR & 2 & chr10:100373130-100373230\\textbar{}chr10:100373620-100374070 & 2.799678\\\\\n",
       "\t chr10\\_100528900\\_100530538 & Enhancer & Enhancer\\_ZScore\\_WSTARR & 1 & chr10:100529810-100529910                           & 2.063700\\\\\n",
       "\t chr10\\_100535377\\_100536237 & Enhancer & Enhancer\\_ZScore\\_WSTARR & 1 & chr10:100535680-100536220                           & 3.141553\\\\\n",
       "\t chr10\\_100912166\\_100913618 & Enhancer & Enhancer\\_ZScore\\_WSTARR & 1 & chr10:100912700-100912900                           & 2.193468\\\\\n",
       "\\end{tabular}\n"
      ],
      "text/markdown": [
       "\n",
       "A tibble: 6 × 6\n",
       "\n",
       "| Peak &lt;chr&gt; | Annotation &lt;chr&gt; | Label &lt;chr&gt; | Count &lt;int&gt; | Loc &lt;chr&gt; | Score &lt;dbl&gt; |\n",
       "|---|---|---|---|---|---|\n",
       "| chr10_100185017_100187275 | Enhancer | Enhancer_ZScore_WSTARR | 1 | chr10:100185960-100186300                           | 2.380972 |\n",
       "| chr10_100346328_100347693 | Enhancer | Enhancer_ZScore_WSTARR | 2 | chr10:100346770-100347050|chr10:100347100-100347200 | 2.407352 |\n",
       "| chr10_100373060_100374238 | Enhancer | Enhancer_ZScore_WSTARR | 2 | chr10:100373130-100373230|chr10:100373620-100374070 | 2.799678 |\n",
       "| chr10_100528900_100530538 | Enhancer | Enhancer_ZScore_WSTARR | 1 | chr10:100529810-100529910                           | 2.063700 |\n",
       "| chr10_100535377_100536237 | Enhancer | Enhancer_ZScore_WSTARR | 1 | chr10:100535680-100536220                           | 3.141553 |\n",
       "| chr10_100912166_100913618 | Enhancer | Enhancer_ZScore_WSTARR | 1 | chr10:100912700-100912900                           | 2.193468 |\n",
       "\n"
      ],
      "text/plain": [
       "  Peak                      Annotation Label                  Count\n",
       "1 chr10_100185017_100187275 Enhancer   Enhancer_ZScore_WSTARR 1    \n",
       "2 chr10_100346328_100347693 Enhancer   Enhancer_ZScore_WSTARR 2    \n",
       "3 chr10_100373060_100374238 Enhancer   Enhancer_ZScore_WSTARR 2    \n",
       "4 chr10_100528900_100530538 Enhancer   Enhancer_ZScore_WSTARR 1    \n",
       "5 chr10_100535377_100536237 Enhancer   Enhancer_ZScore_WSTARR 1    \n",
       "6 chr10_100912166_100913618 Enhancer   Enhancer_ZScore_WSTARR 1    \n",
       "  Loc                                                 Score   \n",
       "1 chr10:100185960-100186300                           2.380972\n",
       "2 chr10:100346770-100347050|chr10:100347100-100347200 2.407352\n",
       "3 chr10:100373130-100373230|chr10:100373620-100374070 2.799678\n",
       "4 chr10:100529810-100529910                           2.063700\n",
       "5 chr10:100535680-100536220                           3.141553\n",
       "6 chr10:100912700-100912900                           2.193468"
      ]
     },
     "metadata": {},
     "output_type": "display_data"
    }
   ],
   "source": [
    "dat = dat_peak_annot_wstarr\n",
    "dat = dat %>% \n",
    "    dplyr::group_by(Peak_ATAC, Annotation, Label) %>%\n",
    "    dplyr::summarise(\n",
    "        Count = n(), \n",
    "        Loc   = paste(Loc, collapse=\"|\"),\n",
    "        Score = mean(Value),\n",
    "        .groups = \"drop\")\n",
    "\n",
    "dat = dat %>% dplyr::rename(\"Peak\" = \"Peak_ATAC\")\n",
    "\n",
    "### assign and show\n",
    "dat_peak_annot_count_wstarr = dat\n",
    "print(dim(dat))\n",
    "head(dat)"
   ]
  },
  {
   "cell_type": "code",
   "execution_count": 11,
   "metadata": {},
   "outputs": [
    {
     "name": "stdout",
     "output_type": "stream",
     "text": [
      "[1] 14856     5\n"
     ]
    },
    {
     "data": {
      "text/html": [
       "<table class=\"dataframe\">\n",
       "<caption>A tibble: 6 × 5</caption>\n",
       "<thead>\n",
       "\t<tr><th scope=col>Peak</th><th scope=col>Annotation</th><th scope=col>Label</th><th scope=col>Count</th><th scope=col>Note</th></tr>\n",
       "\t<tr><th scope=col>&lt;chr&gt;</th><th scope=col>&lt;chr&gt;</th><th scope=col>&lt;chr&gt;</th><th scope=col>&lt;int&gt;</th><th scope=col>&lt;chr&gt;</th></tr>\n",
       "</thead>\n",
       "<tbody>\n",
       "\t<tr><td>chr10_100185017_100187275</td><td>Enhancer</td><td>Enhancer_ZScore_STARR</td><td>1</td><td>WSTARR       </td></tr>\n",
       "\t<tr><td>chr10_100346328_100347693</td><td>Enhancer</td><td>Enhancer_ZScore_STARR</td><td>2</td><td>WSTARR|WSTARR</td></tr>\n",
       "\t<tr><td>chr10_100373060_100374238</td><td>Enhancer</td><td>Enhancer_ZScore_STARR</td><td>2</td><td>WSTARR|WSTARR</td></tr>\n",
       "\t<tr><td>chr10_100528900_100530538</td><td>Enhancer</td><td>Enhancer_ZScore_STARR</td><td>1</td><td>WSTARR       </td></tr>\n",
       "\t<tr><td>chr10_100535377_100536237</td><td>Enhancer</td><td>Enhancer_ZScore_STARR</td><td>1</td><td>WSTARR       </td></tr>\n",
       "\t<tr><td>chr10_100912166_100913618</td><td>Enhancer</td><td>Enhancer_ZScore_STARR</td><td>1</td><td>WSTARR       </td></tr>\n",
       "</tbody>\n",
       "</table>\n"
      ],
      "text/latex": [
       "A tibble: 6 × 5\n",
       "\\begin{tabular}{lllll}\n",
       " Peak & Annotation & Label & Count & Note\\\\\n",
       " <chr> & <chr> & <chr> & <int> & <chr>\\\\\n",
       "\\hline\n",
       "\t chr10\\_100185017\\_100187275 & Enhancer & Enhancer\\_ZScore\\_STARR & 1 & WSTARR       \\\\\n",
       "\t chr10\\_100346328\\_100347693 & Enhancer & Enhancer\\_ZScore\\_STARR & 2 & WSTARR\\textbar{}WSTARR\\\\\n",
       "\t chr10\\_100373060\\_100374238 & Enhancer & Enhancer\\_ZScore\\_STARR & 2 & WSTARR\\textbar{}WSTARR\\\\\n",
       "\t chr10\\_100528900\\_100530538 & Enhancer & Enhancer\\_ZScore\\_STARR & 1 & WSTARR       \\\\\n",
       "\t chr10\\_100535377\\_100536237 & Enhancer & Enhancer\\_ZScore\\_STARR & 1 & WSTARR       \\\\\n",
       "\t chr10\\_100912166\\_100913618 & Enhancer & Enhancer\\_ZScore\\_STARR & 1 & WSTARR       \\\\\n",
       "\\end{tabular}\n"
      ],
      "text/markdown": [
       "\n",
       "A tibble: 6 × 5\n",
       "\n",
       "| Peak &lt;chr&gt; | Annotation &lt;chr&gt; | Label &lt;chr&gt; | Count &lt;int&gt; | Note &lt;chr&gt; |\n",
       "|---|---|---|---|---|\n",
       "| chr10_100185017_100187275 | Enhancer | Enhancer_ZScore_STARR | 1 | WSTARR        |\n",
       "| chr10_100346328_100347693 | Enhancer | Enhancer_ZScore_STARR | 2 | WSTARR|WSTARR |\n",
       "| chr10_100373060_100374238 | Enhancer | Enhancer_ZScore_STARR | 2 | WSTARR|WSTARR |\n",
       "| chr10_100528900_100530538 | Enhancer | Enhancer_ZScore_STARR | 1 | WSTARR        |\n",
       "| chr10_100535377_100536237 | Enhancer | Enhancer_ZScore_STARR | 1 | WSTARR        |\n",
       "| chr10_100912166_100913618 | Enhancer | Enhancer_ZScore_STARR | 1 | WSTARR        |\n",
       "\n"
      ],
      "text/plain": [
       "  Peak                      Annotation Label                 Count\n",
       "1 chr10_100185017_100187275 Enhancer   Enhancer_ZScore_STARR 1    \n",
       "2 chr10_100346328_100347693 Enhancer   Enhancer_ZScore_STARR 2    \n",
       "3 chr10_100373060_100374238 Enhancer   Enhancer_ZScore_STARR 2    \n",
       "4 chr10_100528900_100530538 Enhancer   Enhancer_ZScore_STARR 1    \n",
       "5 chr10_100535377_100536237 Enhancer   Enhancer_ZScore_STARR 1    \n",
       "6 chr10_100912166_100913618 Enhancer   Enhancer_ZScore_STARR 1    \n",
       "  Note         \n",
       "1 WSTARR       \n",
       "2 WSTARR|WSTARR\n",
       "3 WSTARR|WSTARR\n",
       "4 WSTARR       \n",
       "5 WSTARR       \n",
       "6 WSTARR       "
      ]
     },
     "metadata": {},
     "output_type": "display_data"
    }
   ],
   "source": [
    "dat = bind_rows(\n",
    "    dat_peak_annot_astarr %>% dplyr::mutate(Label=\"Enhancer_ZScore_STARR\", Note=\"ASTARR\"), \n",
    "    dat_peak_annot_wstarr %>% dplyr::mutate(Label=\"Enhancer_ZScore_STARR\", Note=\"WSTARR\"))\n",
    "\n",
    "dat = dat %>% \n",
    "    dplyr::group_by(Peak_ATAC, Annotation, Label) %>%\n",
    "    dplyr::summarise(\n",
    "        Count = n(), \n",
    "        Note  = paste(Note, collapse=\"|\"),\n",
    "        .groups = \"drop\")\n",
    "\n",
    "dat = dat %>% dplyr::rename(\"Peak\" = \"Peak_ATAC\")\n",
    "\n",
    "dat_peak_annot_count_starr = dat\n",
    "print(dim(dat))\n",
    "head(dat)"
   ]
  },
  {
   "cell_type": "code",
   "execution_count": 12,
   "metadata": {},
   "outputs": [
    {
     "data": {
      "text/plain": [
       "\n",
       "    1     2     3     4     5     7     8 \n",
       "11355  2866   552    70    10     2     1 "
      ]
     },
     "metadata": {},
     "output_type": "display_data"
    }
   ],
   "source": [
    "dat = dat_peak_annot_count_starr\n",
    "table(dat$Count)"
   ]
  },
  {
   "cell_type": "code",
   "execution_count": 13,
   "metadata": {},
   "outputs": [
    {
     "data": {
      "text/html": [
       "<table class=\"dataframe\">\n",
       "<caption>A tibble: 3 × 5</caption>\n",
       "<thead>\n",
       "\t<tr><th scope=col>Peak</th><th scope=col>Annotation</th><th scope=col>Label</th><th scope=col>Count</th><th scope=col>Note</th></tr>\n",
       "\t<tr><th scope=col>&lt;chr&gt;</th><th scope=col>&lt;chr&gt;</th><th scope=col>&lt;chr&gt;</th><th scope=col>&lt;int&gt;</th><th scope=col>&lt;chr&gt;</th></tr>\n",
       "</thead>\n",
       "<tbody>\n",
       "\t<tr><td>chr7_105012385_105014543</td><td>Enhancer</td><td>Enhancer_ZScore_STARR</td><td>7</td><td>ASTARR|ASTARR|WSTARR|WSTARR|WSTARR|WSTARR|WSTARR       </td></tr>\n",
       "\t<tr><td>chrX_153970236_153973064</td><td>Enhancer</td><td>Enhancer_ZScore_STARR</td><td>8</td><td>ASTARR|ASTARR|WSTARR|WSTARR|WSTARR|WSTARR|WSTARR|WSTARR</td></tr>\n",
       "\t<tr><td>chrX_41084245_41086839  </td><td>Enhancer</td><td>Enhancer_ZScore_STARR</td><td>7</td><td>ASTARR|WSTARR|WSTARR|WSTARR|WSTARR|WSTARR|WSTARR       </td></tr>\n",
       "</tbody>\n",
       "</table>\n"
      ],
      "text/latex": [
       "A tibble: 3 × 5\n",
       "\\begin{tabular}{lllll}\n",
       " Peak & Annotation & Label & Count & Note\\\\\n",
       " <chr> & <chr> & <chr> & <int> & <chr>\\\\\n",
       "\\hline\n",
       "\t chr7\\_105012385\\_105014543 & Enhancer & Enhancer\\_ZScore\\_STARR & 7 & ASTARR\\textbar{}ASTARR\\textbar{}WSTARR\\textbar{}WSTARR\\textbar{}WSTARR\\textbar{}WSTARR\\textbar{}WSTARR       \\\\\n",
       "\t chrX\\_153970236\\_153973064 & Enhancer & Enhancer\\_ZScore\\_STARR & 8 & ASTARR\\textbar{}ASTARR\\textbar{}WSTARR\\textbar{}WSTARR\\textbar{}WSTARR\\textbar{}WSTARR\\textbar{}WSTARR\\textbar{}WSTARR\\\\\n",
       "\t chrX\\_41084245\\_41086839   & Enhancer & Enhancer\\_ZScore\\_STARR & 7 & ASTARR\\textbar{}WSTARR\\textbar{}WSTARR\\textbar{}WSTARR\\textbar{}WSTARR\\textbar{}WSTARR\\textbar{}WSTARR       \\\\\n",
       "\\end{tabular}\n"
      ],
      "text/markdown": [
       "\n",
       "A tibble: 3 × 5\n",
       "\n",
       "| Peak &lt;chr&gt; | Annotation &lt;chr&gt; | Label &lt;chr&gt; | Count &lt;int&gt; | Note &lt;chr&gt; |\n",
       "|---|---|---|---|---|\n",
       "| chr7_105012385_105014543 | Enhancer | Enhancer_ZScore_STARR | 7 | ASTARR|ASTARR|WSTARR|WSTARR|WSTARR|WSTARR|WSTARR        |\n",
       "| chrX_153970236_153973064 | Enhancer | Enhancer_ZScore_STARR | 8 | ASTARR|ASTARR|WSTARR|WSTARR|WSTARR|WSTARR|WSTARR|WSTARR |\n",
       "| chrX_41084245_41086839   | Enhancer | Enhancer_ZScore_STARR | 7 | ASTARR|WSTARR|WSTARR|WSTARR|WSTARR|WSTARR|WSTARR        |\n",
       "\n"
      ],
      "text/plain": [
       "  Peak                     Annotation Label                 Count\n",
       "1 chr7_105012385_105014543 Enhancer   Enhancer_ZScore_STARR 7    \n",
       "2 chrX_153970236_153973064 Enhancer   Enhancer_ZScore_STARR 8    \n",
       "3 chrX_41084245_41086839   Enhancer   Enhancer_ZScore_STARR 7    \n",
       "  Note                                                   \n",
       "1 ASTARR|ASTARR|WSTARR|WSTARR|WSTARR|WSTARR|WSTARR       \n",
       "2 ASTARR|ASTARR|WSTARR|WSTARR|WSTARR|WSTARR|WSTARR|WSTARR\n",
       "3 ASTARR|WSTARR|WSTARR|WSTARR|WSTARR|WSTARR|WSTARR       "
      ]
     },
     "metadata": {},
     "output_type": "display_data"
    }
   ],
   "source": [
    "dat = dat_peak_annot_count_starr\n",
    "dat %>% dplyr::filter(Count >= 7)"
   ]
  },
  {
   "cell_type": "markdown",
   "metadata": {},
   "source": [
    "## Save results"
   ]
  },
  {
   "cell_type": "code",
   "execution_count": 14,
   "metadata": {},
   "outputs": [],
   "source": [
    "fdiry = file.path(FD_RES, \"results\", \"region\", \"KS91_K562_ASTARRseq_peak_macs_input\", \"summary\")\n",
    "fname = \"peak.summary.enhancer_zscore_junke_peak_astarr.tsv\"\n",
    "fpath = file.path(fdiry, fname)\n",
    "\n",
    "dat = dat_peak_annot_count_astarr\n",
    "write_tsv(dat, fpath)"
   ]
  },
  {
   "cell_type": "code",
   "execution_count": 15,
   "metadata": {},
   "outputs": [],
   "source": [
    "fdiry = file.path(FD_RES, \"results\", \"region\", \"KS91_K562_ASTARRseq_peak_macs_input\", \"summary\")\n",
    "fname = \"peak.summary.enhancer_zscore_junke_peak_wstarr.tsv\"\n",
    "fpath = file.path(fdiry, fname)\n",
    "\n",
    "dat = dat_peak_annot_count_wstarr\n",
    "write_tsv(dat, fpath)"
   ]
  },
  {
   "cell_type": "code",
   "execution_count": 16,
   "metadata": {},
   "outputs": [],
   "source": [
    "fdiry = file.path(FD_RES, \"results\", \"region\", \"KS91_K562_ASTARRseq_peak_macs_input\", \"summary\")\n",
    "fname = \"peak.summary.enhancer_zscore_junke_peak_starr.tsv\"\n",
    "fpath = file.path(fdiry, fname)\n",
    "\n",
    "dat = dat_peak_annot_count_starr\n",
    "write_tsv(dat, fpath)"
   ]
  },
  {
   "cell_type": "code",
   "execution_count": null,
   "metadata": {},
   "outputs": [],
   "source": []
  },
  {
   "cell_type": "code",
   "execution_count": null,
   "metadata": {},
   "outputs": [],
   "source": []
  },
  {
   "cell_type": "code",
   "execution_count": null,
   "metadata": {},
   "outputs": [],
   "source": []
  },
  {
   "cell_type": "code",
   "execution_count": null,
   "metadata": {},
   "outputs": [],
   "source": []
  },
  {
   "cell_type": "code",
   "execution_count": null,
   "metadata": {},
   "outputs": [],
   "source": []
  },
  {
   "cell_type": "code",
   "execution_count": null,
   "metadata": {},
   "outputs": [],
   "source": []
  },
  {
   "cell_type": "code",
   "execution_count": null,
   "metadata": {},
   "outputs": [],
   "source": []
  },
  {
   "cell_type": "code",
   "execution_count": null,
   "metadata": {},
   "outputs": [],
   "source": []
  },
  {
   "cell_type": "code",
   "execution_count": null,
   "metadata": {},
   "outputs": [],
   "source": []
  },
  {
   "cell_type": "code",
   "execution_count": null,
   "metadata": {},
   "outputs": [],
   "source": []
  },
  {
   "cell_type": "code",
   "execution_count": null,
   "metadata": {},
   "outputs": [],
   "source": []
  },
  {
   "cell_type": "code",
   "execution_count": null,
   "metadata": {},
   "outputs": [],
   "source": []
  },
  {
   "cell_type": "code",
   "execution_count": null,
   "metadata": {},
   "outputs": [],
   "source": []
  },
  {
   "cell_type": "markdown",
   "metadata": {},
   "source": [
    "## Import data"
   ]
  },
  {
   "cell_type": "code",
   "execution_count": 3,
   "metadata": {},
   "outputs": [
    {
     "name": "stdout",
     "output_type": "stream",
     "text": [
      "[1] 21517     9\n"
     ]
    },
    {
     "data": {
      "text/html": [
       "<table class=\"dataframe\">\n",
       "<caption>A tibble: 6 × 9</caption>\n",
       "<thead>\n",
       "\t<tr><th scope=col>Chrom</th><th scope=col>Start</th><th scope=col>End</th><th scope=col>Chrom_Enhancer</th><th scope=col>Start_Enhancer</th><th scope=col>End_Enhancer</th><th scope=col>Overlap</th><th scope=col>Peak</th><th scope=col>Enhancer</th></tr>\n",
       "\t<tr><th scope=col>&lt;chr&gt;</th><th scope=col>&lt;dbl&gt;</th><th scope=col>&lt;dbl&gt;</th><th scope=col>&lt;chr&gt;</th><th scope=col>&lt;dbl&gt;</th><th scope=col>&lt;dbl&gt;</th><th scope=col>&lt;dbl&gt;</th><th scope=col>&lt;chr&gt;</th><th scope=col>&lt;chr&gt;</th></tr>\n",
       "</thead>\n",
       "<tbody>\n",
       "\t<tr><td>chr1</td><td> 115411</td><td> 115986</td><td>chr1</td><td> 115570</td><td> 115740</td><td>170</td><td>chr1_115411_115986  </td><td>chr1_115570_115740  </td></tr>\n",
       "\t<tr><td>chr1</td><td> 605090</td><td> 605823</td><td>chr1</td><td> 605280</td><td> 605470</td><td>190</td><td>chr1_605090_605823  </td><td>chr1_605280_605470  </td></tr>\n",
       "\t<tr><td>chr1</td><td> 777949</td><td> 779437</td><td>chr1</td><td> 778370</td><td> 778900</td><td>530</td><td>chr1_777949_779437  </td><td>chr1_778370_778900  </td></tr>\n",
       "\t<tr><td>chr1</td><td> 826754</td><td> 828040</td><td>chr1</td><td> 827450</td><td> 827550</td><td>100</td><td>chr1_826754_828040  </td><td>chr1_827450_827550  </td></tr>\n",
       "\t<tr><td>chr1</td><td> 965936</td><td> 967556</td><td>chr1</td><td> 967240</td><td> 967410</td><td>170</td><td>chr1_965936_967556  </td><td>chr1_967240_967410  </td></tr>\n",
       "\t<tr><td>chr1</td><td>1001499</td><td>1002142</td><td>chr1</td><td>1002070</td><td>1002160</td><td> 72</td><td>chr1_1001499_1002142</td><td>chr1_1002070_1002160</td></tr>\n",
       "</tbody>\n",
       "</table>\n"
      ],
      "text/latex": [
       "A tibble: 6 × 9\n",
       "\\begin{tabular}{lllllllll}\n",
       " Chrom & Start & End & Chrom\\_Enhancer & Start\\_Enhancer & End\\_Enhancer & Overlap & Peak & Enhancer\\\\\n",
       " <chr> & <dbl> & <dbl> & <chr> & <dbl> & <dbl> & <dbl> & <chr> & <chr>\\\\\n",
       "\\hline\n",
       "\t chr1 &  115411 &  115986 & chr1 &  115570 &  115740 & 170 & chr1\\_115411\\_115986   & chr1\\_115570\\_115740  \\\\\n",
       "\t chr1 &  605090 &  605823 & chr1 &  605280 &  605470 & 190 & chr1\\_605090\\_605823   & chr1\\_605280\\_605470  \\\\\n",
       "\t chr1 &  777949 &  779437 & chr1 &  778370 &  778900 & 530 & chr1\\_777949\\_779437   & chr1\\_778370\\_778900  \\\\\n",
       "\t chr1 &  826754 &  828040 & chr1 &  827450 &  827550 & 100 & chr1\\_826754\\_828040   & chr1\\_827450\\_827550  \\\\\n",
       "\t chr1 &  965936 &  967556 & chr1 &  967240 &  967410 & 170 & chr1\\_965936\\_967556   & chr1\\_967240\\_967410  \\\\\n",
       "\t chr1 & 1001499 & 1002142 & chr1 & 1002070 & 1002160 &  72 & chr1\\_1001499\\_1002142 & chr1\\_1002070\\_1002160\\\\\n",
       "\\end{tabular}\n"
      ],
      "text/markdown": [
       "\n",
       "A tibble: 6 × 9\n",
       "\n",
       "| Chrom &lt;chr&gt; | Start &lt;dbl&gt; | End &lt;dbl&gt; | Chrom_Enhancer &lt;chr&gt; | Start_Enhancer &lt;dbl&gt; | End_Enhancer &lt;dbl&gt; | Overlap &lt;dbl&gt; | Peak &lt;chr&gt; | Enhancer &lt;chr&gt; |\n",
       "|---|---|---|---|---|---|---|---|---|\n",
       "| chr1 |  115411 |  115986 | chr1 |  115570 |  115740 | 170 | chr1_115411_115986   | chr1_115570_115740   |\n",
       "| chr1 |  605090 |  605823 | chr1 |  605280 |  605470 | 190 | chr1_605090_605823   | chr1_605280_605470   |\n",
       "| chr1 |  777949 |  779437 | chr1 |  778370 |  778900 | 530 | chr1_777949_779437   | chr1_778370_778900   |\n",
       "| chr1 |  826754 |  828040 | chr1 |  827450 |  827550 | 100 | chr1_826754_828040   | chr1_827450_827550   |\n",
       "| chr1 |  965936 |  967556 | chr1 |  967240 |  967410 | 170 | chr1_965936_967556   | chr1_967240_967410   |\n",
       "| chr1 | 1001499 | 1002142 | chr1 | 1002070 | 1002160 |  72 | chr1_1001499_1002142 | chr1_1002070_1002160 |\n",
       "\n"
      ],
      "text/plain": [
       "  Chrom Start   End     Chrom_Enhancer Start_Enhancer End_Enhancer Overlap\n",
       "1 chr1   115411  115986 chr1            115570         115740      170    \n",
       "2 chr1   605090  605823 chr1            605280         605470      190    \n",
       "3 chr1   777949  779437 chr1            778370         778900      530    \n",
       "4 chr1   826754  828040 chr1            827450         827550      100    \n",
       "5 chr1   965936  967556 chr1            967240         967410      170    \n",
       "6 chr1  1001499 1002142 chr1           1002070        1002160       72    \n",
       "  Peak                 Enhancer            \n",
       "1 chr1_115411_115986   chr1_115570_115740  \n",
       "2 chr1_605090_605823   chr1_605280_605470  \n",
       "3 chr1_777949_779437   chr1_778370_778900  \n",
       "4 chr1_826754_828040   chr1_827450_827550  \n",
       "5 chr1_965936_967556   chr1_967240_967410  \n",
       "6 chr1_1001499_1002142 chr1_1002070_1002160"
      ]
     },
     "metadata": {},
     "output_type": "display_data"
    }
   ],
   "source": [
    "### set file path\n",
    "fdiry = file.path(FD_RES, \"results\", \"region\", \"KS91_K562_ASTARRseq_peak_macs_input\")\n",
    "fname = \"peak.annotation.enhancer_junke_peak_astarr.bed.gz\"\n",
    "fpath = file.path(fdiry, fname)\n",
    "\n",
    "\n",
    "### import data\n",
    "cnames = c(\"Chrom\", \"Start\", \"End\",\n",
    "           \"Chrom_Enhancer\", \"Start_Enhancer\", \"End_Enhancer\",\n",
    "           \"Overlap\")\n",
    "dat = read_tsv(fpath, col_names = cnames, show_col_types = FALSE)\n",
    "dat = dat %>% mutate(\n",
    "    Peak     = paste(Chrom, Start, End, sep=\"_\"),\n",
    "    Enhancer = paste(Chrom_Enhancer, Start_Enhancer, End_Enhancer, sep=\"_\"),\n",
    ")\n",
    "\n",
    "### assign\n",
    "dat_peak_annot_enhancer_astarr = dat\n",
    "print(dim(dat))\n",
    "head(dat)"
   ]
  },
  {
   "cell_type": "code",
   "execution_count": 4,
   "metadata": {},
   "outputs": [
    {
     "name": "stdout",
     "output_type": "stream",
     "text": [
      "[1] 26262     9\n"
     ]
    },
    {
     "data": {
      "text/html": [
       "<table class=\"dataframe\">\n",
       "<caption>A tibble: 6 × 9</caption>\n",
       "<thead>\n",
       "\t<tr><th scope=col>Chrom</th><th scope=col>Start</th><th scope=col>End</th><th scope=col>Chrom_Enhancer</th><th scope=col>Start_Enhancer</th><th scope=col>End_Enhancer</th><th scope=col>Overlap</th><th scope=col>Peak</th><th scope=col>Enhancer</th></tr>\n",
       "\t<tr><th scope=col>&lt;chr&gt;</th><th scope=col>&lt;dbl&gt;</th><th scope=col>&lt;dbl&gt;</th><th scope=col>&lt;chr&gt;</th><th scope=col>&lt;dbl&gt;</th><th scope=col>&lt;dbl&gt;</th><th scope=col>&lt;dbl&gt;</th><th scope=col>&lt;chr&gt;</th><th scope=col>&lt;chr&gt;</th></tr>\n",
       "</thead>\n",
       "<tbody>\n",
       "\t<tr><td>chr1</td><td>777949</td><td>779437</td><td>chr1</td><td>778420</td><td>779100</td><td>680</td><td>chr1_777949_779437</td><td>chr1_778420_779100</td></tr>\n",
       "\t<tr><td>chr1</td><td>826754</td><td>828040</td><td>chr1</td><td>827490</td><td>827570</td><td> 80</td><td>chr1_826754_828040</td><td>chr1_827490_827570</td></tr>\n",
       "\t<tr><td>chr1</td><td>826754</td><td>828040</td><td>chr1</td><td>827670</td><td>827740</td><td> 70</td><td>chr1_826754_828040</td><td>chr1_827670_827740</td></tr>\n",
       "\t<tr><td>chr1</td><td>912650</td><td>914455</td><td>chr1</td><td>913190</td><td>913280</td><td> 90</td><td>chr1_912650_914455</td><td>chr1_913190_913280</td></tr>\n",
       "\t<tr><td>chr1</td><td>920697</td><td>921526</td><td>chr1</td><td>921020</td><td>921320</td><td>300</td><td>chr1_920697_921526</td><td>chr1_921020_921320</td></tr>\n",
       "\t<tr><td>chr1</td><td>940325</td><td>943460</td><td>chr1</td><td>941220</td><td>941320</td><td>100</td><td>chr1_940325_943460</td><td>chr1_941220_941320</td></tr>\n",
       "</tbody>\n",
       "</table>\n"
      ],
      "text/latex": [
       "A tibble: 6 × 9\n",
       "\\begin{tabular}{lllllllll}\n",
       " Chrom & Start & End & Chrom\\_Enhancer & Start\\_Enhancer & End\\_Enhancer & Overlap & Peak & Enhancer\\\\\n",
       " <chr> & <dbl> & <dbl> & <chr> & <dbl> & <dbl> & <dbl> & <chr> & <chr>\\\\\n",
       "\\hline\n",
       "\t chr1 & 777949 & 779437 & chr1 & 778420 & 779100 & 680 & chr1\\_777949\\_779437 & chr1\\_778420\\_779100\\\\\n",
       "\t chr1 & 826754 & 828040 & chr1 & 827490 & 827570 &  80 & chr1\\_826754\\_828040 & chr1\\_827490\\_827570\\\\\n",
       "\t chr1 & 826754 & 828040 & chr1 & 827670 & 827740 &  70 & chr1\\_826754\\_828040 & chr1\\_827670\\_827740\\\\\n",
       "\t chr1 & 912650 & 914455 & chr1 & 913190 & 913280 &  90 & chr1\\_912650\\_914455 & chr1\\_913190\\_913280\\\\\n",
       "\t chr1 & 920697 & 921526 & chr1 & 921020 & 921320 & 300 & chr1\\_920697\\_921526 & chr1\\_921020\\_921320\\\\\n",
       "\t chr1 & 940325 & 943460 & chr1 & 941220 & 941320 & 100 & chr1\\_940325\\_943460 & chr1\\_941220\\_941320\\\\\n",
       "\\end{tabular}\n"
      ],
      "text/markdown": [
       "\n",
       "A tibble: 6 × 9\n",
       "\n",
       "| Chrom &lt;chr&gt; | Start &lt;dbl&gt; | End &lt;dbl&gt; | Chrom_Enhancer &lt;chr&gt; | Start_Enhancer &lt;dbl&gt; | End_Enhancer &lt;dbl&gt; | Overlap &lt;dbl&gt; | Peak &lt;chr&gt; | Enhancer &lt;chr&gt; |\n",
       "|---|---|---|---|---|---|---|---|---|\n",
       "| chr1 | 777949 | 779437 | chr1 | 778420 | 779100 | 680 | chr1_777949_779437 | chr1_778420_779100 |\n",
       "| chr1 | 826754 | 828040 | chr1 | 827490 | 827570 |  80 | chr1_826754_828040 | chr1_827490_827570 |\n",
       "| chr1 | 826754 | 828040 | chr1 | 827670 | 827740 |  70 | chr1_826754_828040 | chr1_827670_827740 |\n",
       "| chr1 | 912650 | 914455 | chr1 | 913190 | 913280 |  90 | chr1_912650_914455 | chr1_913190_913280 |\n",
       "| chr1 | 920697 | 921526 | chr1 | 921020 | 921320 | 300 | chr1_920697_921526 | chr1_921020_921320 |\n",
       "| chr1 | 940325 | 943460 | chr1 | 941220 | 941320 | 100 | chr1_940325_943460 | chr1_941220_941320 |\n",
       "\n"
      ],
      "text/plain": [
       "  Chrom Start  End    Chrom_Enhancer Start_Enhancer End_Enhancer Overlap\n",
       "1 chr1  777949 779437 chr1           778420         779100       680    \n",
       "2 chr1  826754 828040 chr1           827490         827570        80    \n",
       "3 chr1  826754 828040 chr1           827670         827740        70    \n",
       "4 chr1  912650 914455 chr1           913190         913280        90    \n",
       "5 chr1  920697 921526 chr1           921020         921320       300    \n",
       "6 chr1  940325 943460 chr1           941220         941320       100    \n",
       "  Peak               Enhancer          \n",
       "1 chr1_777949_779437 chr1_778420_779100\n",
       "2 chr1_826754_828040 chr1_827490_827570\n",
       "3 chr1_826754_828040 chr1_827670_827740\n",
       "4 chr1_912650_914455 chr1_913190_913280\n",
       "5 chr1_920697_921526 chr1_921020_921320\n",
       "6 chr1_940325_943460 chr1_941220_941320"
      ]
     },
     "metadata": {},
     "output_type": "display_data"
    }
   ],
   "source": [
    "### set file path\n",
    "fdiry = file.path(FD_RES, \"results\", \"region\", \"KS91_K562_ASTARRseq_peak_macs_input\")\n",
    "fname = \"peak.annotation.enhancer_junke_peak_wstarr.bed.gz\"\n",
    "fpath = file.path(fdiry, fname)\n",
    "\n",
    "\n",
    "### import data\n",
    "cnames = c(\"Chrom\", \"Start\", \"End\",\n",
    "           \"Chrom_Enhancer\", \"Start_Enhancer\", \"End_Enhancer\",\n",
    "           \"Overlap\")\n",
    "dat = read_tsv(fpath, col_names = cnames, show_col_types = FALSE)\n",
    "dat = dat %>% mutate(\n",
    "    Peak     = paste(Chrom, Start, End, sep=\"_\"),\n",
    "    Enhancer = paste(Chrom_Enhancer, Start_Enhancer, End_Enhancer, sep=\"_\"),\n",
    ")\n",
    "\n",
    "### assign\n",
    "dat_peak_annot_enhancer_wstarr = dat\n",
    "print(dim(dat))\n",
    "head(dat)"
   ]
  },
  {
   "cell_type": "markdown",
   "metadata": {},
   "source": [
    "## Summary"
   ]
  },
  {
   "cell_type": "code",
   "execution_count": 7,
   "metadata": {},
   "outputs": [
    {
     "name": "stdout",
     "output_type": "stream",
     "text": [
      "[1] 16537     5\n"
     ]
    },
    {
     "data": {
      "text/html": [
       "<table class=\"dataframe\">\n",
       "<caption>A tibble: 6 × 5</caption>\n",
       "<thead>\n",
       "\t<tr><th scope=col>Peak</th><th scope=col>Name</th><th scope=col>Assay</th><th scope=col>Count</th><th scope=col>Annotate</th></tr>\n",
       "\t<tr><th scope=col>&lt;chr&gt;</th><th scope=col>&lt;chr&gt;</th><th scope=col>&lt;chr&gt;</th><th scope=col>&lt;int&gt;</th><th scope=col>&lt;chr&gt;</th></tr>\n",
       "</thead>\n",
       "<tbody>\n",
       "\t<tr><td>chr10_100228452_100230090</td><td>Enhancer</td><td>ASTARR</td><td>1</td><td>chr10_100229600_100229770                          </td></tr>\n",
       "\t<tr><td>chr10_100267066_100268374</td><td>Enhancer</td><td>ASTARR</td><td>1</td><td>chr10_100267660_100267770                          </td></tr>\n",
       "\t<tr><td>chr10_100373060_100374238</td><td>Enhancer</td><td>ASTARR</td><td>1</td><td>chr10_100373870_100374200                          </td></tr>\n",
       "\t<tr><td>chr10_100528900_100530538</td><td>Enhancer</td><td>ASTARR</td><td>2</td><td>chr10_100529730_100529820,chr10_100529840_100529970</td></tr>\n",
       "\t<tr><td>chr10_100535377_100536237</td><td>Enhancer</td><td>ASTARR</td><td>1</td><td>chr10_100535720_100536060                          </td></tr>\n",
       "\t<tr><td>chr10_101042559_101043551</td><td>Enhancer</td><td>ASTARR</td><td>2</td><td>chr10_101042970_101043060,chr10_101043080_101043180</td></tr>\n",
       "</tbody>\n",
       "</table>\n"
      ],
      "text/latex": [
       "A tibble: 6 × 5\n",
       "\\begin{tabular}{lllll}\n",
       " Peak & Name & Assay & Count & Annotate\\\\\n",
       " <chr> & <chr> & <chr> & <int> & <chr>\\\\\n",
       "\\hline\n",
       "\t chr10\\_100228452\\_100230090 & Enhancer & ASTARR & 1 & chr10\\_100229600\\_100229770                          \\\\\n",
       "\t chr10\\_100267066\\_100268374 & Enhancer & ASTARR & 1 & chr10\\_100267660\\_100267770                          \\\\\n",
       "\t chr10\\_100373060\\_100374238 & Enhancer & ASTARR & 1 & chr10\\_100373870\\_100374200                          \\\\\n",
       "\t chr10\\_100528900\\_100530538 & Enhancer & ASTARR & 2 & chr10\\_100529730\\_100529820,chr10\\_100529840\\_100529970\\\\\n",
       "\t chr10\\_100535377\\_100536237 & Enhancer & ASTARR & 1 & chr10\\_100535720\\_100536060                          \\\\\n",
       "\t chr10\\_101042559\\_101043551 & Enhancer & ASTARR & 2 & chr10\\_101042970\\_101043060,chr10\\_101043080\\_101043180\\\\\n",
       "\\end{tabular}\n"
      ],
      "text/markdown": [
       "\n",
       "A tibble: 6 × 5\n",
       "\n",
       "| Peak &lt;chr&gt; | Name &lt;chr&gt; | Assay &lt;chr&gt; | Count &lt;int&gt; | Annotate &lt;chr&gt; |\n",
       "|---|---|---|---|---|\n",
       "| chr10_100228452_100230090 | Enhancer | ASTARR | 1 | chr10_100229600_100229770                           |\n",
       "| chr10_100267066_100268374 | Enhancer | ASTARR | 1 | chr10_100267660_100267770                           |\n",
       "| chr10_100373060_100374238 | Enhancer | ASTARR | 1 | chr10_100373870_100374200                           |\n",
       "| chr10_100528900_100530538 | Enhancer | ASTARR | 2 | chr10_100529730_100529820,chr10_100529840_100529970 |\n",
       "| chr10_100535377_100536237 | Enhancer | ASTARR | 1 | chr10_100535720_100536060                           |\n",
       "| chr10_101042559_101043551 | Enhancer | ASTARR | 2 | chr10_101042970_101043060,chr10_101043080_101043180 |\n",
       "\n"
      ],
      "text/plain": [
       "  Peak                      Name     Assay  Count\n",
       "1 chr10_100228452_100230090 Enhancer ASTARR 1    \n",
       "2 chr10_100267066_100268374 Enhancer ASTARR 1    \n",
       "3 chr10_100373060_100374238 Enhancer ASTARR 1    \n",
       "4 chr10_100528900_100530538 Enhancer ASTARR 2    \n",
       "5 chr10_100535377_100536237 Enhancer ASTARR 1    \n",
       "6 chr10_101042559_101043551 Enhancer ASTARR 2    \n",
       "  Annotate                                           \n",
       "1 chr10_100229600_100229770                          \n",
       "2 chr10_100267660_100267770                          \n",
       "3 chr10_100373870_100374200                          \n",
       "4 chr10_100529730_100529820,chr10_100529840_100529970\n",
       "5 chr10_100535720_100536060                          \n",
       "6 chr10_101042970_101043060,chr10_101043080_101043180"
      ]
     },
     "metadata": {},
     "output_type": "display_data"
    }
   ],
   "source": [
    "###\n",
    "dat = dat_peak_annot_enhancer_astarr\n",
    "dat = dat %>% \n",
    "    group_by(Peak) %>% \n",
    "    summarize(\n",
    "        Name  = \"Enhancer\",\n",
    "        Assay = \"ASTARR\",\n",
    "        Count = n(), \n",
    "        Annotate = paste(Enhancer, collapse = \",\"),\n",
    "        .groups=\"drop\")\n",
    "\n",
    "###\n",
    "dat_peak_count_enhancer_astarr = dat\n",
    "print(dim(dat))\n",
    "head(dat)"
   ]
  },
  {
   "cell_type": "code",
   "execution_count": 11,
   "metadata": {},
   "outputs": [
    {
     "name": "stdout",
     "output_type": "stream",
     "text": [
      "[1] 20947     5\n"
     ]
    },
    {
     "data": {
      "text/html": [
       "<table class=\"dataframe\">\n",
       "<caption>A tibble: 6 × 5</caption>\n",
       "<thead>\n",
       "\t<tr><th scope=col>Peak</th><th scope=col>Name</th><th scope=col>Assay</th><th scope=col>Count</th><th scope=col>Annotate</th></tr>\n",
       "\t<tr><th scope=col>&lt;chr&gt;</th><th scope=col>&lt;chr&gt;</th><th scope=col>&lt;chr&gt;</th><th scope=col>&lt;int&gt;</th><th scope=col>&lt;chr&gt;</th></tr>\n",
       "</thead>\n",
       "<tbody>\n",
       "\t<tr><td>chr10_100009096_100010466</td><td>Enhancer</td><td>WSTARR</td><td>2</td><td>chr10_100009900_100009950,chr10_100010000_100010030</td></tr>\n",
       "\t<tr><td>chr10_100185017_100187275</td><td>Enhancer</td><td>WSTARR</td><td>1</td><td>chr10_100185860_100186300                          </td></tr>\n",
       "\t<tr><td>chr10_100267066_100268374</td><td>Enhancer</td><td>WSTARR</td><td>1</td><td>chr10_100267670_100267780                          </td></tr>\n",
       "\t<tr><td>chr10_100285974_100287341</td><td>Enhancer</td><td>WSTARR</td><td>2</td><td>chr10_100286470_100286500,chr10_100286550_100286830</td></tr>\n",
       "\t<tr><td>chr10_100346328_100347693</td><td>Enhancer</td><td>WSTARR</td><td>1</td><td>chr10_100346760_100347200                          </td></tr>\n",
       "\t<tr><td>chr10_100373060_100374238</td><td>Enhancer</td><td>WSTARR</td><td>2</td><td>chr10_100373130_100373290,chr10_100373410_100374270</td></tr>\n",
       "</tbody>\n",
       "</table>\n"
      ],
      "text/latex": [
       "A tibble: 6 × 5\n",
       "\\begin{tabular}{lllll}\n",
       " Peak & Name & Assay & Count & Annotate\\\\\n",
       " <chr> & <chr> & <chr> & <int> & <chr>\\\\\n",
       "\\hline\n",
       "\t chr10\\_100009096\\_100010466 & Enhancer & WSTARR & 2 & chr10\\_100009900\\_100009950,chr10\\_100010000\\_100010030\\\\\n",
       "\t chr10\\_100185017\\_100187275 & Enhancer & WSTARR & 1 & chr10\\_100185860\\_100186300                          \\\\\n",
       "\t chr10\\_100267066\\_100268374 & Enhancer & WSTARR & 1 & chr10\\_100267670\\_100267780                          \\\\\n",
       "\t chr10\\_100285974\\_100287341 & Enhancer & WSTARR & 2 & chr10\\_100286470\\_100286500,chr10\\_100286550\\_100286830\\\\\n",
       "\t chr10\\_100346328\\_100347693 & Enhancer & WSTARR & 1 & chr10\\_100346760\\_100347200                          \\\\\n",
       "\t chr10\\_100373060\\_100374238 & Enhancer & WSTARR & 2 & chr10\\_100373130\\_100373290,chr10\\_100373410\\_100374270\\\\\n",
       "\\end{tabular}\n"
      ],
      "text/markdown": [
       "\n",
       "A tibble: 6 × 5\n",
       "\n",
       "| Peak &lt;chr&gt; | Name &lt;chr&gt; | Assay &lt;chr&gt; | Count &lt;int&gt; | Annotate &lt;chr&gt; |\n",
       "|---|---|---|---|---|\n",
       "| chr10_100009096_100010466 | Enhancer | WSTARR | 2 | chr10_100009900_100009950,chr10_100010000_100010030 |\n",
       "| chr10_100185017_100187275 | Enhancer | WSTARR | 1 | chr10_100185860_100186300                           |\n",
       "| chr10_100267066_100268374 | Enhancer | WSTARR | 1 | chr10_100267670_100267780                           |\n",
       "| chr10_100285974_100287341 | Enhancer | WSTARR | 2 | chr10_100286470_100286500,chr10_100286550_100286830 |\n",
       "| chr10_100346328_100347693 | Enhancer | WSTARR | 1 | chr10_100346760_100347200                           |\n",
       "| chr10_100373060_100374238 | Enhancer | WSTARR | 2 | chr10_100373130_100373290,chr10_100373410_100374270 |\n",
       "\n"
      ],
      "text/plain": [
       "  Peak                      Name     Assay  Count\n",
       "1 chr10_100009096_100010466 Enhancer WSTARR 2    \n",
       "2 chr10_100185017_100187275 Enhancer WSTARR 1    \n",
       "3 chr10_100267066_100268374 Enhancer WSTARR 1    \n",
       "4 chr10_100285974_100287341 Enhancer WSTARR 2    \n",
       "5 chr10_100346328_100347693 Enhancer WSTARR 1    \n",
       "6 chr10_100373060_100374238 Enhancer WSTARR 2    \n",
       "  Annotate                                           \n",
       "1 chr10_100009900_100009950,chr10_100010000_100010030\n",
       "2 chr10_100185860_100186300                          \n",
       "3 chr10_100267670_100267780                          \n",
       "4 chr10_100286470_100286500,chr10_100286550_100286830\n",
       "5 chr10_100346760_100347200                          \n",
       "6 chr10_100373130_100373290,chr10_100373410_100374270"
      ]
     },
     "metadata": {},
     "output_type": "display_data"
    }
   ],
   "source": [
    "###\n",
    "dat = dat_peak_annot_enhancer_wstarr\n",
    "dat = dat %>% \n",
    "    group_by(Peak) %>% \n",
    "    summarize(\n",
    "        Name   = \"Enhancer\",\n",
    "        Assay  = \"WSTARR\",\n",
    "        Count  = n(), \n",
    "        Annotate = paste(Enhancer, collapse = \",\"),\n",
    "        .groups=\"drop\")\n",
    "\n",
    "###\n",
    "dat_peak_count_enhancer_wstarr = dat\n",
    "print(dim(dat))\n",
    "head(dat)"
   ]
  },
  {
   "cell_type": "code",
   "execution_count": 16,
   "metadata": {},
   "outputs": [
    {
     "name": "stdout",
     "output_type": "stream",
     "text": [
      "[1] 29012     4\n"
     ]
    },
    {
     "data": {
      "text/html": [
       "<table class=\"dataframe\">\n",
       "<caption>A tibble: 6 × 4</caption>\n",
       "<thead>\n",
       "\t<tr><th scope=col>Peak</th><th scope=col>Name</th><th scope=col>Assay</th><th scope=col>Annotate</th></tr>\n",
       "\t<tr><th scope=col>&lt;chr&gt;</th><th scope=col>&lt;chr&gt;</th><th scope=col>&lt;chr&gt;</th><th scope=col>&lt;chr&gt;</th></tr>\n",
       "</thead>\n",
       "<tbody>\n",
       "\t<tr><td>chr10_100009096_100010466</td><td>Enhancer</td><td>WSTARR       </td><td>chr10_100009900_100009950,chr10_100010000_100010030</td></tr>\n",
       "\t<tr><td>chr10_100185017_100187275</td><td>Enhancer</td><td>WSTARR       </td><td>chr10_100185860_100186300                          </td></tr>\n",
       "\t<tr><td>chr10_100228452_100230090</td><td>Enhancer</td><td>ASTARR       </td><td>chr10_100229600_100229770                          </td></tr>\n",
       "\t<tr><td>chr10_100267066_100268374</td><td>Enhancer</td><td>ASTARR,WSTARR</td><td>chr10_100267660_100267770,chr10_100267670_100267780</td></tr>\n",
       "\t<tr><td>chr10_100285974_100287341</td><td>Enhancer</td><td>WSTARR       </td><td>chr10_100286470_100286500,chr10_100286550_100286830</td></tr>\n",
       "\t<tr><td>chr10_100346328_100347693</td><td>Enhancer</td><td>WSTARR       </td><td>chr10_100346760_100347200                          </td></tr>\n",
       "</tbody>\n",
       "</table>\n"
      ],
      "text/latex": [
       "A tibble: 6 × 4\n",
       "\\begin{tabular}{llll}\n",
       " Peak & Name & Assay & Annotate\\\\\n",
       " <chr> & <chr> & <chr> & <chr>\\\\\n",
       "\\hline\n",
       "\t chr10\\_100009096\\_100010466 & Enhancer & WSTARR        & chr10\\_100009900\\_100009950,chr10\\_100010000\\_100010030\\\\\n",
       "\t chr10\\_100185017\\_100187275 & Enhancer & WSTARR        & chr10\\_100185860\\_100186300                          \\\\\n",
       "\t chr10\\_100228452\\_100230090 & Enhancer & ASTARR        & chr10\\_100229600\\_100229770                          \\\\\n",
       "\t chr10\\_100267066\\_100268374 & Enhancer & ASTARR,WSTARR & chr10\\_100267660\\_100267770,chr10\\_100267670\\_100267780\\\\\n",
       "\t chr10\\_100285974\\_100287341 & Enhancer & WSTARR        & chr10\\_100286470\\_100286500,chr10\\_100286550\\_100286830\\\\\n",
       "\t chr10\\_100346328\\_100347693 & Enhancer & WSTARR        & chr10\\_100346760\\_100347200                          \\\\\n",
       "\\end{tabular}\n"
      ],
      "text/markdown": [
       "\n",
       "A tibble: 6 × 4\n",
       "\n",
       "| Peak &lt;chr&gt; | Name &lt;chr&gt; | Assay &lt;chr&gt; | Annotate &lt;chr&gt; |\n",
       "|---|---|---|---|\n",
       "| chr10_100009096_100010466 | Enhancer | WSTARR        | chr10_100009900_100009950,chr10_100010000_100010030 |\n",
       "| chr10_100185017_100187275 | Enhancer | WSTARR        | chr10_100185860_100186300                           |\n",
       "| chr10_100228452_100230090 | Enhancer | ASTARR        | chr10_100229600_100229770                           |\n",
       "| chr10_100267066_100268374 | Enhancer | ASTARR,WSTARR | chr10_100267660_100267770,chr10_100267670_100267780 |\n",
       "| chr10_100285974_100287341 | Enhancer | WSTARR        | chr10_100286470_100286500,chr10_100286550_100286830 |\n",
       "| chr10_100346328_100347693 | Enhancer | WSTARR        | chr10_100346760_100347200                           |\n",
       "\n"
      ],
      "text/plain": [
       "  Peak                      Name     Assay        \n",
       "1 chr10_100009096_100010466 Enhancer WSTARR       \n",
       "2 chr10_100185017_100187275 Enhancer WSTARR       \n",
       "3 chr10_100228452_100230090 Enhancer ASTARR       \n",
       "4 chr10_100267066_100268374 Enhancer ASTARR,WSTARR\n",
       "5 chr10_100285974_100287341 Enhancer WSTARR       \n",
       "6 chr10_100346328_100347693 Enhancer WSTARR       \n",
       "  Annotate                                           \n",
       "1 chr10_100009900_100009950,chr10_100010000_100010030\n",
       "2 chr10_100185860_100186300                          \n",
       "3 chr10_100229600_100229770                          \n",
       "4 chr10_100267660_100267770,chr10_100267670_100267780\n",
       "5 chr10_100286470_100286500,chr10_100286550_100286830\n",
       "6 chr10_100346760_100347200                          "
      ]
     },
     "metadata": {},
     "output_type": "display_data"
    }
   ],
   "source": [
    "dat = bind_rows(\n",
    "    dat_peak_count_enhancer_astarr,\n",
    "    dat_peak_count_enhancer_wstarr)\n",
    "\n",
    "dat = dat %>%\n",
    "    dplyr::group_by(Peak, Name) %>%\n",
    "    dplyr::summarize(\n",
    "        Assay    = paste(Assay,    collapse = \",\"),\n",
    "        Annotate = paste(Annotate, collapse = \",\"),\n",
    "        .groups=\"drop\")\n",
    "\n",
    "dat_peak_merge_enhancer = dat\n",
    "print(dim(dat))\n",
    "head(dat)"
   ]
  },
  {
   "cell_type": "markdown",
   "metadata": {},
   "source": [
    "## Save tables"
   ]
  },
  {
   "cell_type": "code",
   "execution_count": 7,
   "metadata": {},
   "outputs": [],
   "source": [
    "fdiry = file.path(FD_RES, \"results\", \"region\", \"KS91_K562_ASTARRseq_peak_macs_input\")\n",
    "fname = \"peak.summary.enhancer_junke_peak_astarr.tsv\"\n",
    "fpath = file.path(fdiry, fname)\n",
    "\n",
    "write_tsv(dat_peak_count_enhancer_astarr, fpath)"
   ]
  },
  {
   "cell_type": "code",
   "execution_count": 8,
   "metadata": {},
   "outputs": [],
   "source": [
    "fdiry = file.path(FD_RES, \"results\", \"region\", \"KS91_K562_ASTARRseq_peak_macs_input\")\n",
    "fname = \"peak.summary.enhancer_junke_peak_wstarr.tsv\"\n",
    "fpath = file.path(fdiry, fname)\n",
    "\n",
    "write_tsv(dat_peak_count_enhancer_wstarr, fpath)"
   ]
  },
  {
   "cell_type": "code",
   "execution_count": 17,
   "metadata": {},
   "outputs": [],
   "source": [
    "fdiry = file.path(FD_RES, \"results\", \"region\", \"KS91_K562_ASTARRseq_peak_macs_input\")\n",
    "fname = \"peak.summary.enhancer_junke_peak_merge.tsv\"\n",
    "fpath = file.path(fdiry, fname)\n",
    "\n",
    "write_tsv(dat_peak_merge_enhancer, fpath)"
   ]
  },
  {
   "cell_type": "code",
   "execution_count": null,
   "metadata": {},
   "outputs": [],
   "source": []
  }
 ],
 "metadata": {
  "kernelspec": {
   "display_name": "R (alex_py3)",
   "language": "R",
   "name": "ir_alex_py3"
  },
  "language_info": {
   "codemirror_mode": "r",
   "file_extension": ".r",
   "mimetype": "text/x-r-source",
   "name": "R",
   "pygments_lexer": "r",
   "version": "3.6.2"
  }
 },
 "nbformat": 4,
 "nbformat_minor": 4
}
