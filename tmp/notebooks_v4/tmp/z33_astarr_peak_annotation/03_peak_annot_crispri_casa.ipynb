{
 "cells": [
  {
   "cell_type": "markdown",
   "id": "38f123ac-7b90-42de-bbb3-c91f68d61fc6",
   "metadata": {},
   "source": [
    "**Set environment**"
   ]
  },
  {
   "cell_type": "code",
   "execution_count": 1,
   "id": "5547bab1-b3ed-4852-95da-fad4fa098a81",
   "metadata": {},
   "outputs": [
    {
     "name": "stdout",
     "output_type": "stream",
     "text": [
      "You are on Duke Server: HARDAC\n",
      "BASE DIRECTORY (FD_BASE): /data/reddylab/Kuei\n",
      "WORK DIRECTORY (FD_WORK): /data/reddylab/Kuei/out\n",
      "CODE DIRECTORY (FD_CODE): /data/reddylab/Kuei/code\n",
      "SING DIRECTORY (FD_SING): /data/reddylab/Kuei/singularity\n",
      "PATH OF PROJECT (FD_PRJ): /data/reddylab/Kuei/code/Proj_CombEffect_ENCODE_FCC\n",
      "PATH OF RESULTS (FD_RES): /data/reddylab/Kuei/out/proj_combeffect_encode_fcc\n",
      "PATH OF LOG     (FD_LOG): /data/reddylab/Kuei/out/proj_combeffect_encode_fcc/log\n",
      "\n"
     ]
    }
   ],
   "source": [
    "### set env\n",
    "source ../config/config_duke.sh\n",
    "source ../config/config_load_module_bedtools.sh\n",
    "show_env"
   ]
  },
  {
   "cell_type": "markdown",
   "id": "b9054b19-6130-4c6c-8ba4-d7480da5207a",
   "metadata": {},
   "source": [
    "**Check data**"
   ]
  },
  {
   "cell_type": "code",
   "execution_count": 5,
   "id": "6598cfc3-afdd-4c88-bd08-91e21d69bbed",
   "metadata": {},
   "outputs": [
    {
     "name": "stdout",
     "output_type": "stream",
     "text": [
      "crispri_casa_peak.bed\n"
     ]
    }
   ],
   "source": [
    "ls -1 ${FD_RES}/results/region/annotation_crispri_casa"
   ]
  },
  {
   "cell_type": "markdown",
   "id": "014c713c-607d-4502-b477-a508ca0abab9",
   "metadata": {},
   "source": [
    "## Annotate ATAC peaks using CRISPRi FlowFISH CASA peaks"
   ]
  },
  {
   "cell_type": "code",
   "execution_count": 10,
   "id": "36c30182-9cf5-4621-bbfc-e7c386fc1d67",
   "metadata": {},
   "outputs": [
    {
     "name": "stdout",
     "output_type": "stream",
     "text": [
      "Submitted batch job 29556841\n"
     ]
    }
   ],
   "source": [
    "sbatch -p ${NODE} \\\n",
    "    --exclude=dl-01 \\\n",
    "    --cpus-per-task 8 \\\n",
    "    --mem 8G \\\n",
    "    --output ${FD_LOG}/annotation_astarr_peak_macs_input_crispri_casa.txt \\\n",
    "    --array 0 \\\n",
    "    <<'EOF'\n",
    "#!/bin/bash\n",
    "### set directories & global variables\n",
    "source ../config/config_duke.sh\n",
    "\n",
    "### set input and output\n",
    "FD_BED=${FD_RES}/results/region/KS91_K562_ASTARRseq_peak_macs_input\n",
    "FN_BED=KS91_K562_hg38_ASTARRseq_Input.all_reps.masked.union_narrowPeak.q5.bed\n",
    "FP_BED=${FD_BED}/${FN_BED}\n",
    "\n",
    "FD_ANN=${FD_RES}/results/region/annotation_crispri_casa\n",
    "FN_ANN=crispri_casa_peak.bed\n",
    "FP_ANN=${FD_ANN}/${FN_ANN}\n",
    "\n",
    "FD_OUT=${FD_RES}/results/region/KS91_K562_ASTARRseq_peak_macs_input\n",
    "FN_OUT=peak.annotation.crispri_casa_peak.bed.gz\n",
    "FP_OUT=${FD_OUT}/${FN_OUT}\n",
    "\n",
    "### print start message\n",
    "timer_start=`date +%s`\n",
    "echo \"Hostname:          \" $(hostname)\n",
    "echo \"Slurm Array Index: \" ${SLURM_ARRAY_TASK_ID}\n",
    "echo \"Time Stamp:        \" $(date +\"%m-%d-%y+%T\")\n",
    "echo\n",
    "\n",
    "### show I/O file\n",
    "echo \"Input: \" ${FP_BED}\n",
    "echo\n",
    "echo \"show first few lines of input\"\n",
    "cat ${FP_BED} | head -5\n",
    "echo\n",
    "echo \"Input: \" ${FP_ANN}\n",
    "echo\n",
    "echo \"show first few lines of input\"\n",
    "cat ${FP_ANN} | head -5\n",
    "echo\n",
    "\n",
    "### init: create output folder if not exist\n",
    "mkdir -p ${FD_OUT}\n",
    "\n",
    "### annotation using intersect\n",
    "bedtools intersect \\\n",
    "    -a ${FP_BED} \\\n",
    "    -b ${FP_ANN} \\\n",
    "    -wo \\\n",
    "    -f 0.5 \\\n",
    "    -F 0.5 \\\n",
    "    -e \\\n",
    "| gzip -c \\\n",
    "> ${FP_OUT}\n",
    "\n",
    "### show output file\n",
    "echo\n",
    "echo \"Output: \" ${FP_OUT}\n",
    "echo\n",
    "echo \"show first few lines of output:\"\n",
    "zcat ${FP_OUT} | head -5\n",
    "echo\n",
    "\n",
    "### print end message\n",
    "timer=`date +%s`\n",
    "runtime=$(echo \"${timer} - ${timer_start}\" | bc -l)\n",
    "echo\n",
    "echo 'Done!'\n",
    "echo \"Run Time: $(displaytime ${runtime})\"\n",
    "\n",
    "EOF"
   ]
  },
  {
   "cell_type": "markdown",
   "id": "6b562111-b9d8-43a1-a202-b7c977e686bd",
   "metadata": {},
   "source": [
    "**Check results**"
   ]
  },
  {
   "cell_type": "code",
   "execution_count": 11,
   "id": "2c5f6dca-9839-449d-a5f6-58881a594d60",
   "metadata": {},
   "outputs": [
    {
     "name": "stdout",
     "output_type": "stream",
     "text": [
      "Hostname:           x3-01-3.genome.duke.edu\n",
      "Slurm Array Index:  0\n",
      "Time Stamp:         03-07-23+16:25:01\n",
      "\n",
      "Input:  /data/reddylab/Kuei/out/proj_combeffect_encode_fcc/results/region/KS91_K562_ASTARRseq_peak_macs_input/KS91_K562_hg38_ASTARRseq_Input.all_reps.masked.union_narrowPeak.q5.bed\n",
      "\n",
      "show first few lines of input\n",
      "chr1\t10015\t10442\n",
      "chr1\t14253\t14645\n",
      "chr1\t16015\t16477\n",
      "chr1\t17237\t17772\n",
      "chr1\t28903\t29613\n",
      "\n",
      "Input:  /data/reddylab/Kuei/out/proj_combeffect_encode_fcc/results/region/annotation_crispri_casa/crispri_casa_peak.bed\n",
      "\n",
      "show first few lines of input\n",
      "chr11\t33944871\t33945471\tchr11:33944871-33945471\t0.803764617\t.\tCAPRIN1\tENSG00000135387\n",
      "chr11\t34050971\t34051471\tchr11:34050971-34051471\t0.973987294\t.\tCAPRIN1\tENSG00000135387\n",
      "chr11\t34051571\t34054171\tchr11:34051571-34054171\t2.06429067\t.\tCAPRIN1\tENSG00000135387\n",
      "chr11\t34085871\t34086871\tchr11:34085871-34086871\t1.009272431\t.\tCAPRIN1\tENSG00000135387\n",
      "chr11\t33944868\t33945268\tchr11:33944868-33945268\t1.214675507\t.\tCAT\tENSG00000121691\n",
      "\n",
      "\n",
      "Output:  /data/reddylab/Kuei/out/proj_combeffect_encode_fcc/results/region/KS91_K562_ASTARRseq_peak_macs_input/peak.annotation.crispri_casa_peak.bed.gz\n",
      "\n",
      "show first few lines of output:\n",
      "chr11\t5249943\t5250880\tchr11\t5249847\t5250847\tchr11:5249847-5250847\t1.8908898984108689\t.\tHBG1\tENST00000330597.5\t904\n",
      "chr11\t5249943\t5250880\tchr11\t5249847\t5250847\tchr11:5249847-5250847\t1.9229557946824665\t.\tHBG2\tENST00000336906.6\t904\n",
      "chr11\t5254190\t5254453\tchr11\t5253647\t5254647\tchr11:5253647-5254647\t1.5044043629848811\t.\tHBG1\tENST00000330597.5\t263\n",
      "chr11\t5254190\t5254453\tchr11\t5253647\t5254647\tchr11:5253647-5254647\t1.430535293771277\t.\tHBG2\tENST00000336906.6\t263\n",
      "chr11\t5269440\t5270695\tchr11\t5269147\t5271147\tchr11:5269147-5271147\t1.906478008877551\t.\tHBE1\tENST00000336906.6\t1255\n",
      "\n",
      "\n",
      "Done!\n",
      "Run Time: 0 seconds\n"
     ]
    }
   ],
   "source": [
    "cat ${FD_LOG}/annotation_astarr_peak_macs_input_crispri_casa.txt"
   ]
  },
  {
   "cell_type": "code",
   "execution_count": null,
   "id": "40bcd152-e9d2-42c2-968c-0a8d5e6dad03",
   "metadata": {},
   "outputs": [],
   "source": []
  }
 ],
 "metadata": {
  "kernelspec": {
   "display_name": "Bash",
   "language": "bash",
   "name": "bash"
  },
  "language_info": {
   "codemirror_mode": "shell",
   "file_extension": ".sh",
   "mimetype": "text/x-sh",
   "name": "bash"
  }
 },
 "nbformat": 4,
 "nbformat_minor": 5
}
