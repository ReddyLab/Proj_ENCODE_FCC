{
 "cells": [
  {
   "cell_type": "markdown",
   "metadata": {},
   "source": [
    "**Set environment**"
   ]
  },
  {
   "cell_type": "code",
   "execution_count": 1,
   "metadata": {},
   "outputs": [
    {
     "name": "stdout",
     "output_type": "stream",
     "text": [
      "You are in Singularity: singularity_proj_encode_fcc \n",
      "BASE DIRECTORY (FD_BASE): /data/reddylab/Kuei \n",
      "WORK DIRECTORY (FD_WORK): /data/reddylab/Kuei/out \n",
      "CODE DIRECTORY (FD_CODE): /data/reddylab/Kuei/code \n",
      "PATH OF PROJECT (FD_PRJ): /data/reddylab/Kuei/code/Proj_CombEffect_ENCODE_FCC \n",
      "PATH OF RESULTS (FD_RES): /data/reddylab/Kuei/out/proj_combeffect_encode_fcc \n",
      "PATH OF LOG     (FD_LOG): /data/reddylab/Kuei/out/proj_combeffect_encode_fcc/log \n"
     ]
    }
   ],
   "source": [
    "suppressMessages(suppressWarnings(source(\"../config/config_sing.R\")))\n",
    "show_env()"
   ]
  },
  {
   "cell_type": "markdown",
   "metadata": {},
   "source": [
    "**Check data**"
   ]
  },
  {
   "cell_type": "code",
   "execution_count": 3,
   "metadata": {},
   "outputs": [
    {
     "data": {
      "text/html": [
       "<style>\n",
       ".list-inline {list-style: none; margin:0; padding: 0}\n",
       ".list-inline>li {display: inline-block}\n",
       ".list-inline>li:not(:last-child)::after {content: \"\\00b7\"; padding: 0 .5ex}\n",
       "</style>\n",
       "<ol class=list-inline><li>'peak.annotation.K562.ENCSR000AKP.ENCFF544LXB.H3K27ac.bed.gz'</li><li>'peak.annotation.K562.ENCSR000AKQ.ENCFF323WOT.H3K27me3.bed.gz'</li><li>'peak.annotation.K562.ENCSR000AKR.ENCFF193ERO.H3K36me3.bed.gz'</li><li>'peak.annotation.K562.ENCSR000AKS.ENCFF135ZLM.H3K4me1.bed.gz'</li><li>'peak.annotation.K562.ENCSR000AKT.ENCFF749KLQ.H3K4me2.bed.gz'</li><li>'peak.annotation.K562.ENCSR000AKU.ENCFF689QIJ.H3K4me3.bed.gz'</li><li>'peak.annotation.K562.ENCSR000AKV.ENCFF891CHI.H3K9ac.bed.gz'</li><li>'peak.annotation.K562.ENCSR000AKW.ENCFF462AVD.H3K9me1.bed.gz'</li><li>'peak.annotation.K562.ENCSR000AKX.ENCFF909RKY.H4K20me1.bed.gz'</li><li>'peak.annotation.K562.ENCSR000APC.ENCFF213OTI.H2AFZ.bed.gz'</li><li>'peak.annotation.K562.ENCSR000APD.ENCFF209OQD.H3K79me2.bed.gz'</li><li>'peak.annotation.K562.ENCSR000APE.ENCFF963GZJ.H3K9me3.bed.gz'</li><li>'peak.annotation.K562.ENCSR000DWB.ENCFF561OUZ.H3K36me3.bed.gz'</li><li>'peak.annotation.K562.ENCSR000DWD.ENCFF706WUF.H3K4me3.bed.gz'</li><li>'peak.annotation.K562.ENCSR000EVZ.ENCFF148UQI.H3K9ac.bed.gz'</li><li>'peak.annotation.K562.ENCSR000EWA.ENCFF122CSI.H3K4me3.bed.gz'</li><li>'peak.annotation.K562.ENCSR000EWB.ENCFF801AHF.H3K27me3.bed.gz'</li><li>'peak.annotation.K562.ENCSR000EWC.ENCFF540NGG.H3K4me1.bed.gz'</li><li>'peak.annotation.K562.ENCSR668LDD.ENCFF885FQN.H3K4me3.bed.gz'</li></ol>\n"
      ],
      "text/latex": [
       "\\begin{enumerate*}\n",
       "\\item 'peak.annotation.K562.ENCSR000AKP.ENCFF544LXB.H3K27ac.bed.gz'\n",
       "\\item 'peak.annotation.K562.ENCSR000AKQ.ENCFF323WOT.H3K27me3.bed.gz'\n",
       "\\item 'peak.annotation.K562.ENCSR000AKR.ENCFF193ERO.H3K36me3.bed.gz'\n",
       "\\item 'peak.annotation.K562.ENCSR000AKS.ENCFF135ZLM.H3K4me1.bed.gz'\n",
       "\\item 'peak.annotation.K562.ENCSR000AKT.ENCFF749KLQ.H3K4me2.bed.gz'\n",
       "\\item 'peak.annotation.K562.ENCSR000AKU.ENCFF689QIJ.H3K4me3.bed.gz'\n",
       "\\item 'peak.annotation.K562.ENCSR000AKV.ENCFF891CHI.H3K9ac.bed.gz'\n",
       "\\item 'peak.annotation.K562.ENCSR000AKW.ENCFF462AVD.H3K9me1.bed.gz'\n",
       "\\item 'peak.annotation.K562.ENCSR000AKX.ENCFF909RKY.H4K20me1.bed.gz'\n",
       "\\item 'peak.annotation.K562.ENCSR000APC.ENCFF213OTI.H2AFZ.bed.gz'\n",
       "\\item 'peak.annotation.K562.ENCSR000APD.ENCFF209OQD.H3K79me2.bed.gz'\n",
       "\\item 'peak.annotation.K562.ENCSR000APE.ENCFF963GZJ.H3K9me3.bed.gz'\n",
       "\\item 'peak.annotation.K562.ENCSR000DWB.ENCFF561OUZ.H3K36me3.bed.gz'\n",
       "\\item 'peak.annotation.K562.ENCSR000DWD.ENCFF706WUF.H3K4me3.bed.gz'\n",
       "\\item 'peak.annotation.K562.ENCSR000EVZ.ENCFF148UQI.H3K9ac.bed.gz'\n",
       "\\item 'peak.annotation.K562.ENCSR000EWA.ENCFF122CSI.H3K4me3.bed.gz'\n",
       "\\item 'peak.annotation.K562.ENCSR000EWB.ENCFF801AHF.H3K27me3.bed.gz'\n",
       "\\item 'peak.annotation.K562.ENCSR000EWC.ENCFF540NGG.H3K4me1.bed.gz'\n",
       "\\item 'peak.annotation.K562.ENCSR668LDD.ENCFF885FQN.H3K4me3.bed.gz'\n",
       "\\end{enumerate*}\n"
      ],
      "text/markdown": [
       "1. 'peak.annotation.K562.ENCSR000AKP.ENCFF544LXB.H3K27ac.bed.gz'\n",
       "2. 'peak.annotation.K562.ENCSR000AKQ.ENCFF323WOT.H3K27me3.bed.gz'\n",
       "3. 'peak.annotation.K562.ENCSR000AKR.ENCFF193ERO.H3K36me3.bed.gz'\n",
       "4. 'peak.annotation.K562.ENCSR000AKS.ENCFF135ZLM.H3K4me1.bed.gz'\n",
       "5. 'peak.annotation.K562.ENCSR000AKT.ENCFF749KLQ.H3K4me2.bed.gz'\n",
       "6. 'peak.annotation.K562.ENCSR000AKU.ENCFF689QIJ.H3K4me3.bed.gz'\n",
       "7. 'peak.annotation.K562.ENCSR000AKV.ENCFF891CHI.H3K9ac.bed.gz'\n",
       "8. 'peak.annotation.K562.ENCSR000AKW.ENCFF462AVD.H3K9me1.bed.gz'\n",
       "9. 'peak.annotation.K562.ENCSR000AKX.ENCFF909RKY.H4K20me1.bed.gz'\n",
       "10. 'peak.annotation.K562.ENCSR000APC.ENCFF213OTI.H2AFZ.bed.gz'\n",
       "11. 'peak.annotation.K562.ENCSR000APD.ENCFF209OQD.H3K79me2.bed.gz'\n",
       "12. 'peak.annotation.K562.ENCSR000APE.ENCFF963GZJ.H3K9me3.bed.gz'\n",
       "13. 'peak.annotation.K562.ENCSR000DWB.ENCFF561OUZ.H3K36me3.bed.gz'\n",
       "14. 'peak.annotation.K562.ENCSR000DWD.ENCFF706WUF.H3K4me3.bed.gz'\n",
       "15. 'peak.annotation.K562.ENCSR000EVZ.ENCFF148UQI.H3K9ac.bed.gz'\n",
       "16. 'peak.annotation.K562.ENCSR000EWA.ENCFF122CSI.H3K4me3.bed.gz'\n",
       "17. 'peak.annotation.K562.ENCSR000EWB.ENCFF801AHF.H3K27me3.bed.gz'\n",
       "18. 'peak.annotation.K562.ENCSR000EWC.ENCFF540NGG.H3K4me1.bed.gz'\n",
       "19. 'peak.annotation.K562.ENCSR668LDD.ENCFF885FQN.H3K4me3.bed.gz'\n",
       "\n",
       "\n"
      ],
      "text/plain": [
       " [1] \"peak.annotation.K562.ENCSR000AKP.ENCFF544LXB.H3K27ac.bed.gz\" \n",
       " [2] \"peak.annotation.K562.ENCSR000AKQ.ENCFF323WOT.H3K27me3.bed.gz\"\n",
       " [3] \"peak.annotation.K562.ENCSR000AKR.ENCFF193ERO.H3K36me3.bed.gz\"\n",
       " [4] \"peak.annotation.K562.ENCSR000AKS.ENCFF135ZLM.H3K4me1.bed.gz\" \n",
       " [5] \"peak.annotation.K562.ENCSR000AKT.ENCFF749KLQ.H3K4me2.bed.gz\" \n",
       " [6] \"peak.annotation.K562.ENCSR000AKU.ENCFF689QIJ.H3K4me3.bed.gz\" \n",
       " [7] \"peak.annotation.K562.ENCSR000AKV.ENCFF891CHI.H3K9ac.bed.gz\"  \n",
       " [8] \"peak.annotation.K562.ENCSR000AKW.ENCFF462AVD.H3K9me1.bed.gz\" \n",
       " [9] \"peak.annotation.K562.ENCSR000AKX.ENCFF909RKY.H4K20me1.bed.gz\"\n",
       "[10] \"peak.annotation.K562.ENCSR000APC.ENCFF213OTI.H2AFZ.bed.gz\"   \n",
       "[11] \"peak.annotation.K562.ENCSR000APD.ENCFF209OQD.H3K79me2.bed.gz\"\n",
       "[12] \"peak.annotation.K562.ENCSR000APE.ENCFF963GZJ.H3K9me3.bed.gz\" \n",
       "[13] \"peak.annotation.K562.ENCSR000DWB.ENCFF561OUZ.H3K36me3.bed.gz\"\n",
       "[14] \"peak.annotation.K562.ENCSR000DWD.ENCFF706WUF.H3K4me3.bed.gz\" \n",
       "[15] \"peak.annotation.K562.ENCSR000EVZ.ENCFF148UQI.H3K9ac.bed.gz\"  \n",
       "[16] \"peak.annotation.K562.ENCSR000EWA.ENCFF122CSI.H3K4me3.bed.gz\" \n",
       "[17] \"peak.annotation.K562.ENCSR000EWB.ENCFF801AHF.H3K27me3.bed.gz\"\n",
       "[18] \"peak.annotation.K562.ENCSR000EWC.ENCFF540NGG.H3K4me1.bed.gz\" \n",
       "[19] \"peak.annotation.K562.ENCSR668LDD.ENCFF885FQN.H3K4me3.bed.gz\" "
      ]
     },
     "metadata": {},
     "output_type": "display_data"
    }
   ],
   "source": [
    "fdiry = file.path(\n",
    "    FD_RES, \n",
    "    \"results\", \n",
    "    \"region\", \n",
    "    \"KS91_K562_ASTARRseq_peak_macs_input\", \n",
    "    \"annotation_chipseq_histone\")\n",
    "fnames = dir(fdiry)\n",
    "fnames"
   ]
  },
  {
   "cell_type": "code",
   "execution_count": 4,
   "metadata": {},
   "outputs": [
    {
     "data": {
      "text/html": [
       "<style>\n",
       ".list-inline {list-style: none; margin:0; padding: 0}\n",
       ".list-inline>li {display: inline-block}\n",
       ".list-inline>li:not(:last-child)::after {content: \"\\00b7\"; padding: 0 .5ex}\n",
       "</style>\n",
       "<ol class=list-inline><li>'H3K27ac'</li><li>'H3K27me3'</li><li>'H3K36me3'</li><li>'H3K4me1'</li><li>'H3K4me2'</li><li>'H3K4me3'</li><li>'H3K9ac'</li><li>'H3K9me1'</li><li>'H4K20me1'</li><li>'H2AFZ'</li><li>'H3K79me2'</li><li>'H3K9me3'</li><li>'H3K36me3'</li><li>'H3K4me3'</li><li>'H3K9ac'</li><li>'H3K4me3'</li><li>'H3K27me3'</li><li>'H3K4me1'</li><li>'H3K4me3'</li></ol>\n"
      ],
      "text/latex": [
       "\\begin{enumerate*}\n",
       "\\item 'H3K27ac'\n",
       "\\item 'H3K27me3'\n",
       "\\item 'H3K36me3'\n",
       "\\item 'H3K4me1'\n",
       "\\item 'H3K4me2'\n",
       "\\item 'H3K4me3'\n",
       "\\item 'H3K9ac'\n",
       "\\item 'H3K9me1'\n",
       "\\item 'H4K20me1'\n",
       "\\item 'H2AFZ'\n",
       "\\item 'H3K79me2'\n",
       "\\item 'H3K9me3'\n",
       "\\item 'H3K36me3'\n",
       "\\item 'H3K4me3'\n",
       "\\item 'H3K9ac'\n",
       "\\item 'H3K4me3'\n",
       "\\item 'H3K27me3'\n",
       "\\item 'H3K4me1'\n",
       "\\item 'H3K4me3'\n",
       "\\end{enumerate*}\n"
      ],
      "text/markdown": [
       "1. 'H3K27ac'\n",
       "2. 'H3K27me3'\n",
       "3. 'H3K36me3'\n",
       "4. 'H3K4me1'\n",
       "5. 'H3K4me2'\n",
       "6. 'H3K4me3'\n",
       "7. 'H3K9ac'\n",
       "8. 'H3K9me1'\n",
       "9. 'H4K20me1'\n",
       "10. 'H2AFZ'\n",
       "11. 'H3K79me2'\n",
       "12. 'H3K9me3'\n",
       "13. 'H3K36me3'\n",
       "14. 'H3K4me3'\n",
       "15. 'H3K9ac'\n",
       "16. 'H3K4me3'\n",
       "17. 'H3K27me3'\n",
       "18. 'H3K4me1'\n",
       "19. 'H3K4me3'\n",
       "\n",
       "\n"
      ],
      "text/plain": [
       " [1] \"H3K27ac\"  \"H3K27me3\" \"H3K36me3\" \"H3K4me1\"  \"H3K4me2\"  \"H3K4me3\" \n",
       " [7] \"H3K9ac\"   \"H3K9me1\"  \"H4K20me1\" \"H2AFZ\"    \"H3K79me2\" \"H3K9me3\" \n",
       "[13] \"H3K36me3\" \"H3K4me3\"  \"H3K9ac\"   \"H3K4me3\"  \"H3K27me3\" \"H3K4me1\" \n",
       "[19] \"H3K4me3\" "
      ]
     },
     "metadata": {},
     "output_type": "display_data"
    }
   ],
   "source": [
    "lst = str_split(string = fnames, pattern = \"\\\\.\")\n",
    "lst = lapply(lst, function(vec){vec[6]})\n",
    "labels = unlist(lst)\n",
    "labels"
   ]
  },
  {
   "cell_type": "markdown",
   "metadata": {},
   "source": [
    "## Import data"
   ]
  },
  {
   "cell_type": "code",
   "execution_count": 6,
   "metadata": {},
   "outputs": [
    {
     "name": "stdout",
     "output_type": "stream",
     "text": [
      "[1] 10  2\n"
     ]
    },
    {
     "data": {
      "text/html": [
       "<table class=\"dataframe\">\n",
       "<caption>A spec_tbl_df: 10 × 2</caption>\n",
       "<thead>\n",
       "\t<tr><th scope=col>Name</th><th scope=col>Description</th></tr>\n",
       "\t<tr><th scope=col>&lt;chr&gt;</th><th scope=col>&lt;chr&gt;</th></tr>\n",
       "</thead>\n",
       "<tbody>\n",
       "\t<tr><td>chrom      </td><td>Name of the chromosome (or contig, scaffold, etc.).                                                                                                                                                                                                              </td></tr>\n",
       "\t<tr><td>Start      </td><td>The starting position of the feature in the chromosome or scaffold. The first base in a chromosome is numbered 0.                                                                                                                                                </td></tr>\n",
       "\t<tr><td>End        </td><td>The ending position of the feature in the chromosome or scaffold. The chromEnd base is not included in the display of the feature. For example, the first 100 bases of a chromosome are defined as chromStart=0, chromEnd=100, and span the bases numbered 0-99. </td></tr>\n",
       "\t<tr><td>Name       </td><td>Name given to a region (preferably unique). Use '.' if no name is assigned.                                                                                                                                                                                      </td></tr>\n",
       "\t<tr><td>Score      </td><td>Indicates how dark the peak will be displayed in the browser (0-1000). If all scores were '0' when the data were submitted to the DCC, the DCC assigned scores 1-1000 based on signal value. Ideally the average signalValue per base spread is between 100-1000.</td></tr>\n",
       "\t<tr><td>Strand     </td><td>+/- to denote strand or orientation (whenever applicable). Use '.' if no orientation is assigned.                                                                                                                                                                </td></tr>\n",
       "\t<tr><td>SignalValue</td><td>Measurement of overall (usually, average) enrichment for the region.                                                                                                                                                                                             </td></tr>\n",
       "\t<tr><td>pValue     </td><td>Measurement of statistical significance (-log10). Use -1 if no pValue is assigned.                                                                                                                                                                               </td></tr>\n",
       "\t<tr><td>qValue     </td><td>Measurement of statistical significance using false discovery rate (-log10). Use -1 if no qValue is assigned.                                                                                                                                                    </td></tr>\n",
       "\t<tr><td>peak       </td><td>Point-source called for this peak; 0-based offset from chromStart. Use -1 if no point-source called.                                                                                                                                                             </td></tr>\n",
       "</tbody>\n",
       "</table>\n"
      ],
      "text/latex": [
       "A spec\\_tbl\\_df: 10 × 2\n",
       "\\begin{tabular}{ll}\n",
       " Name & Description\\\\\n",
       " <chr> & <chr>\\\\\n",
       "\\hline\n",
       "\t chrom       & Name of the chromosome (or contig, scaffold, etc.).                                                                                                                                                                                                              \\\\\n",
       "\t Start       & The starting position of the feature in the chromosome or scaffold. The first base in a chromosome is numbered 0.                                                                                                                                                \\\\\n",
       "\t End         & The ending position of the feature in the chromosome or scaffold. The chromEnd base is not included in the display of the feature. For example, the first 100 bases of a chromosome are defined as chromStart=0, chromEnd=100, and span the bases numbered 0-99. \\\\\n",
       "\t Name        & Name given to a region (preferably unique). Use '.' if no name is assigned.                                                                                                                                                                                      \\\\\n",
       "\t Score       & Indicates how dark the peak will be displayed in the browser (0-1000). If all scores were '0' when the data were submitted to the DCC, the DCC assigned scores 1-1000 based on signal value. Ideally the average signalValue per base spread is between 100-1000.\\\\\n",
       "\t Strand      & +/- to denote strand or orientation (whenever applicable). Use '.' if no orientation is assigned.                                                                                                                                                                \\\\\n",
       "\t SignalValue & Measurement of overall (usually, average) enrichment for the region.                                                                                                                                                                                             \\\\\n",
       "\t pValue      & Measurement of statistical significance (-log10). Use -1 if no pValue is assigned.                                                                                                                                                                               \\\\\n",
       "\t qValue      & Measurement of statistical significance using false discovery rate (-log10). Use -1 if no qValue is assigned.                                                                                                                                                    \\\\\n",
       "\t peak        & Point-source called for this peak; 0-based offset from chromStart. Use -1 if no point-source called.                                                                                                                                                             \\\\\n",
       "\\end{tabular}\n"
      ],
      "text/markdown": [
       "\n",
       "A spec_tbl_df: 10 × 2\n",
       "\n",
       "| Name &lt;chr&gt; | Description &lt;chr&gt; |\n",
       "|---|---|\n",
       "| chrom       | Name of the chromosome (or contig, scaffold, etc.).                                                                                                                                                                                                               |\n",
       "| Start       | The starting position of the feature in the chromosome or scaffold. The first base in a chromosome is numbered 0.                                                                                                                                                 |\n",
       "| End         | The ending position of the feature in the chromosome or scaffold. The chromEnd base is not included in the display of the feature. For example, the first 100 bases of a chromosome are defined as chromStart=0, chromEnd=100, and span the bases numbered 0-99.  |\n",
       "| Name        | Name given to a region (preferably unique). Use '.' if no name is assigned.                                                                                                                                                                                       |\n",
       "| Score       | Indicates how dark the peak will be displayed in the browser (0-1000). If all scores were '0' when the data were submitted to the DCC, the DCC assigned scores 1-1000 based on signal value. Ideally the average signalValue per base spread is between 100-1000. |\n",
       "| Strand      | +/- to denote strand or orientation (whenever applicable). Use '.' if no orientation is assigned.                                                                                                                                                                 |\n",
       "| SignalValue | Measurement of overall (usually, average) enrichment for the region.                                                                                                                                                                                              |\n",
       "| pValue      | Measurement of statistical significance (-log10). Use -1 if no pValue is assigned.                                                                                                                                                                                |\n",
       "| qValue      | Measurement of statistical significance using false discovery rate (-log10). Use -1 if no qValue is assigned.                                                                                                                                                     |\n",
       "| peak        | Point-source called for this peak; 0-based offset from chromStart. Use -1 if no point-source called.                                                                                                                                                              |\n",
       "\n"
      ],
      "text/plain": [
       "   Name       \n",
       "1  chrom      \n",
       "2  Start      \n",
       "3  End        \n",
       "4  Name       \n",
       "5  Score      \n",
       "6  Strand     \n",
       "7  SignalValue\n",
       "8  pValue     \n",
       "9  qValue     \n",
       "10 peak       \n",
       "   Description                                                                                                                                                                                                                                                      \n",
       "1  Name of the chromosome (or contig, scaffold, etc.).                                                                                                                                                                                                              \n",
       "2  The starting position of the feature in the chromosome or scaffold. The first base in a chromosome is numbered 0.                                                                                                                                                \n",
       "3  The ending position of the feature in the chromosome or scaffold. The chromEnd base is not included in the display of the feature. For example, the first 100 bases of a chromosome are defined as chromStart=0, chromEnd=100, and span the bases numbered 0-99. \n",
       "4  Name given to a region (preferably unique). Use '.' if no name is assigned.                                                                                                                                                                                      \n",
       "5  Indicates how dark the peak will be displayed in the browser (0-1000). If all scores were '0' when the data were submitted to the DCC, the DCC assigned scores 1-1000 based on signal value. Ideally the average signalValue per base spread is between 100-1000.\n",
       "6  +/- to denote strand or orientation (whenever applicable). Use '.' if no orientation is assigned.                                                                                                                                                                \n",
       "7  Measurement of overall (usually, average) enrichment for the region.                                                                                                                                                                                             \n",
       "8  Measurement of statistical significance (-log10). Use -1 if no pValue is assigned.                                                                                                                                                                               \n",
       "9  Measurement of statistical significance using false discovery rate (-log10). Use -1 if no qValue is assigned.                                                                                                                                                    \n",
       "10 Point-source called for this peak; 0-based offset from chromStart. Use -1 if no point-source called.                                                                                                                                                             "
      ]
     },
     "metadata": {},
     "output_type": "display_data"
    }
   ],
   "source": [
    "fdiry = file.path(\n",
    "    FD_RES, \n",
    "    \"results\", \n",
    "    \"region\", \n",
    "    \"annotation_chipseq_histone\")\n",
    "fname = \"description.tsv\"\n",
    "fpath = file.path(fdiry, fname)\n",
    "\n",
    "dat = read_tsv(fpath, show_col_types = FALSE)\n",
    "\n",
    "dat_cnames = dat\n",
    "print(dim(dat))\n",
    "dat"
   ]
  },
  {
   "cell_type": "code",
   "execution_count": 7,
   "metadata": {},
   "outputs": [
    {
     "name": "stdout",
     "output_type": "stream",
     "text": [
      "[1] 19\n"
     ]
    },
    {
     "data": {
      "text/html": [
       "<table class=\"dataframe\">\n",
       "<caption>A tibble: 6 × 17</caption>\n",
       "<thead>\n",
       "\t<tr><th scope=col>Chrom_ATAC</th><th scope=col>Start_ATAC</th><th scope=col>End_ATAC</th><th scope=col>chrom</th><th scope=col>Start</th><th scope=col>End</th><th scope=col>Name</th><th scope=col>Score</th><th scope=col>Strand</th><th scope=col>SignalValue</th><th scope=col>pValue</th><th scope=col>qValue</th><th scope=col>peak</th><th scope=col>Overlap</th><th scope=col>Peak_ATAC</th><th scope=col>Annotation</th><th scope=col>Label</th></tr>\n",
       "\t<tr><th scope=col>&lt;chr&gt;</th><th scope=col>&lt;dbl&gt;</th><th scope=col>&lt;dbl&gt;</th><th scope=col>&lt;chr&gt;</th><th scope=col>&lt;dbl&gt;</th><th scope=col>&lt;dbl&gt;</th><th scope=col>&lt;chr&gt;</th><th scope=col>&lt;dbl&gt;</th><th scope=col>&lt;chr&gt;</th><th scope=col>&lt;dbl&gt;</th><th scope=col>&lt;dbl&gt;</th><th scope=col>&lt;dbl&gt;</th><th scope=col>&lt;dbl&gt;</th><th scope=col>&lt;dbl&gt;</th><th scope=col>&lt;chr&gt;</th><th scope=col>&lt;chr&gt;</th><th scope=col>&lt;chr&gt;</th></tr>\n",
       "</thead>\n",
       "<tbody>\n",
       "\t<tr><td>chr1</td><td>137737</td><td>139544</td><td>chr1</td><td>137650</td><td>138169</td><td>Peak_16228</td><td>317</td><td>.</td><td> 9.24885</td><td>31.74444</td><td>29.32013</td><td>338</td><td> 432</td><td>chr1_137737_139544</td><td>ChIPseq_Histone</td><td>H3K27ac</td></tr>\n",
       "\t<tr><td>chr1</td><td>137737</td><td>139544</td><td>chr1</td><td>138356</td><td>139236</td><td>Peak_19531</td><td>228</td><td>.</td><td> 7.55215</td><td>22.82356</td><td>20.52066</td><td>178</td><td> 880</td><td>chr1_137737_139544</td><td>ChIPseq_Histone</td><td>H3K27ac</td></tr>\n",
       "\t<tr><td>chr1</td><td>137737</td><td>139544</td><td>chr1</td><td>139285</td><td>139490</td><td>Peak_33716</td><td> 88</td><td>.</td><td> 4.27130</td><td> 8.85756</td><td> 6.82864</td><td>172</td><td> 205</td><td>chr1_137737_139544</td><td>ChIPseq_Histone</td><td>H3K27ac</td></tr>\n",
       "\t<tr><td>chr1</td><td>777949</td><td>779437</td><td>chr1</td><td>777712</td><td>778823</td><td>Peak_6597 </td><td>939</td><td>.</td><td>19.33186</td><td>93.91751</td><td>90.86520</td><td>823</td><td> 874</td><td>chr1_777949_779437</td><td>ChIPseq_Histone</td><td>H3K27ac</td></tr>\n",
       "\t<tr><td>chr1</td><td>777949</td><td>779437</td><td>chr1</td><td>778887</td><td>779412</td><td>Peak_16912</td><td>296</td><td>.</td><td> 8.99031</td><td>29.63080</td><td>27.23310</td><td>306</td><td> 525</td><td>chr1_777949_779437</td><td>ChIPseq_Histone</td><td>H3K27ac</td></tr>\n",
       "\t<tr><td>chr1</td><td>826754</td><td>828040</td><td>chr1</td><td>826565</td><td>827901</td><td>Peak_8064 </td><td>783</td><td>.</td><td>17.13224</td><td>78.32069</td><td>75.40894</td><td>869</td><td>1147</td><td>chr1_826754_828040</td><td>ChIPseq_Histone</td><td>H3K27ac</td></tr>\n",
       "</tbody>\n",
       "</table>\n"
      ],
      "text/latex": [
       "A tibble: 6 × 17\n",
       "\\begin{tabular}{lllllllllllllllll}\n",
       " Chrom\\_ATAC & Start\\_ATAC & End\\_ATAC & chrom & Start & End & Name & Score & Strand & SignalValue & pValue & qValue & peak & Overlap & Peak\\_ATAC & Annotation & Label\\\\\n",
       " <chr> & <dbl> & <dbl> & <chr> & <dbl> & <dbl> & <chr> & <dbl> & <chr> & <dbl> & <dbl> & <dbl> & <dbl> & <dbl> & <chr> & <chr> & <chr>\\\\\n",
       "\\hline\n",
       "\t chr1 & 137737 & 139544 & chr1 & 137650 & 138169 & Peak\\_16228 & 317 & . &  9.24885 & 31.74444 & 29.32013 & 338 &  432 & chr1\\_137737\\_139544 & ChIPseq\\_Histone & H3K27ac\\\\\n",
       "\t chr1 & 137737 & 139544 & chr1 & 138356 & 139236 & Peak\\_19531 & 228 & . &  7.55215 & 22.82356 & 20.52066 & 178 &  880 & chr1\\_137737\\_139544 & ChIPseq\\_Histone & H3K27ac\\\\\n",
       "\t chr1 & 137737 & 139544 & chr1 & 139285 & 139490 & Peak\\_33716 &  88 & . &  4.27130 &  8.85756 &  6.82864 & 172 &  205 & chr1\\_137737\\_139544 & ChIPseq\\_Histone & H3K27ac\\\\\n",
       "\t chr1 & 777949 & 779437 & chr1 & 777712 & 778823 & Peak\\_6597  & 939 & . & 19.33186 & 93.91751 & 90.86520 & 823 &  874 & chr1\\_777949\\_779437 & ChIPseq\\_Histone & H3K27ac\\\\\n",
       "\t chr1 & 777949 & 779437 & chr1 & 778887 & 779412 & Peak\\_16912 & 296 & . &  8.99031 & 29.63080 & 27.23310 & 306 &  525 & chr1\\_777949\\_779437 & ChIPseq\\_Histone & H3K27ac\\\\\n",
       "\t chr1 & 826754 & 828040 & chr1 & 826565 & 827901 & Peak\\_8064  & 783 & . & 17.13224 & 78.32069 & 75.40894 & 869 & 1147 & chr1\\_826754\\_828040 & ChIPseq\\_Histone & H3K27ac\\\\\n",
       "\\end{tabular}\n"
      ],
      "text/markdown": [
       "\n",
       "A tibble: 6 × 17\n",
       "\n",
       "| Chrom_ATAC &lt;chr&gt; | Start_ATAC &lt;dbl&gt; | End_ATAC &lt;dbl&gt; | chrom &lt;chr&gt; | Start &lt;dbl&gt; | End &lt;dbl&gt; | Name &lt;chr&gt; | Score &lt;dbl&gt; | Strand &lt;chr&gt; | SignalValue &lt;dbl&gt; | pValue &lt;dbl&gt; | qValue &lt;dbl&gt; | peak &lt;dbl&gt; | Overlap &lt;dbl&gt; | Peak_ATAC &lt;chr&gt; | Annotation &lt;chr&gt; | Label &lt;chr&gt; |\n",
       "|---|---|---|---|---|---|---|---|---|---|---|---|---|---|---|---|---|\n",
       "| chr1 | 137737 | 139544 | chr1 | 137650 | 138169 | Peak_16228 | 317 | . |  9.24885 | 31.74444 | 29.32013 | 338 |  432 | chr1_137737_139544 | ChIPseq_Histone | H3K27ac |\n",
       "| chr1 | 137737 | 139544 | chr1 | 138356 | 139236 | Peak_19531 | 228 | . |  7.55215 | 22.82356 | 20.52066 | 178 |  880 | chr1_137737_139544 | ChIPseq_Histone | H3K27ac |\n",
       "| chr1 | 137737 | 139544 | chr1 | 139285 | 139490 | Peak_33716 |  88 | . |  4.27130 |  8.85756 |  6.82864 | 172 |  205 | chr1_137737_139544 | ChIPseq_Histone | H3K27ac |\n",
       "| chr1 | 777949 | 779437 | chr1 | 777712 | 778823 | Peak_6597  | 939 | . | 19.33186 | 93.91751 | 90.86520 | 823 |  874 | chr1_777949_779437 | ChIPseq_Histone | H3K27ac |\n",
       "| chr1 | 777949 | 779437 | chr1 | 778887 | 779412 | Peak_16912 | 296 | . |  8.99031 | 29.63080 | 27.23310 | 306 |  525 | chr1_777949_779437 | ChIPseq_Histone | H3K27ac |\n",
       "| chr1 | 826754 | 828040 | chr1 | 826565 | 827901 | Peak_8064  | 783 | . | 17.13224 | 78.32069 | 75.40894 | 869 | 1147 | chr1_826754_828040 | ChIPseq_Histone | H3K27ac |\n",
       "\n"
      ],
      "text/plain": [
       "  Chrom_ATAC Start_ATAC End_ATAC chrom Start  End    Name       Score Strand\n",
       "1 chr1       137737     139544   chr1  137650 138169 Peak_16228 317   .     \n",
       "2 chr1       137737     139544   chr1  138356 139236 Peak_19531 228   .     \n",
       "3 chr1       137737     139544   chr1  139285 139490 Peak_33716  88   .     \n",
       "4 chr1       777949     779437   chr1  777712 778823 Peak_6597  939   .     \n",
       "5 chr1       777949     779437   chr1  778887 779412 Peak_16912 296   .     \n",
       "6 chr1       826754     828040   chr1  826565 827901 Peak_8064  783   .     \n",
       "  SignalValue pValue   qValue   peak Overlap Peak_ATAC          Annotation     \n",
       "1  9.24885    31.74444 29.32013 338   432    chr1_137737_139544 ChIPseq_Histone\n",
       "2  7.55215    22.82356 20.52066 178   880    chr1_137737_139544 ChIPseq_Histone\n",
       "3  4.27130     8.85756  6.82864 172   205    chr1_137737_139544 ChIPseq_Histone\n",
       "4 19.33186    93.91751 90.86520 823   874    chr1_777949_779437 ChIPseq_Histone\n",
       "5  8.99031    29.63080 27.23310 306   525    chr1_777949_779437 ChIPseq_Histone\n",
       "6 17.13224    78.32069 75.40894 869  1147    chr1_826754_828040 ChIPseq_Histone\n",
       "  Label  \n",
       "1 H3K27ac\n",
       "2 H3K27ac\n",
       "3 H3K27ac\n",
       "4 H3K27ac\n",
       "5 H3K27ac\n",
       "6 H3K27ac"
      ]
     },
     "metadata": {},
     "output_type": "display_data"
    }
   ],
   "source": [
    "annotation = \"ChIPseq_Histone\"\n",
    "cnames = dat_cnames$Name\n",
    "cnames = c(\"Chrom_ATAC\", \"Start_ATAC\", \"End_ATAC\", cnames, \"Overlap\")\n",
    "\n",
    "fdiry = file.path(\n",
    "    FD_RES, \n",
    "    \"results\", \n",
    "    \"region\", \n",
    "    \"KS91_K562_ASTARRseq_peak_macs_input\", \n",
    "    \"annotation_chipseq_histone\")\n",
    "\n",
    "lst = lapply(labels, function(label){\n",
    "    ### set file path\n",
    "    fname = paste(\"*\", label, \"bed.gz\", sep = \".\")\n",
    "    fglob = file.path(fdiry, fname)\n",
    "    fpath = Sys.glob(fglob)\n",
    "    \n",
    "    ### read data\n",
    "    dat = read_tsv(fpath, col_names = cnames, show_col_types = FALSE)\n",
    "    dat = dat %>% dplyr::mutate(\n",
    "        Peak_ATAC  = paste(Chrom_ATAC, Start_ATAC, End_ATAC, sep=\"_\"),\n",
    "        #Peak_ATAC  = paste0(Chrom_ATAC, \":\", Start_ATAC, \"_\", End_ATAC),\n",
    "        Annotation = annotation,\n",
    "        Label      = label\n",
    "    )\n",
    "    return(dat)\n",
    "})\n",
    "\n",
    "lst_peak_annot = lst\n",
    "print(length(lst))\n",
    "head(lst[[1]])"
   ]
  },
  {
   "cell_type": "markdown",
   "metadata": {},
   "source": [
    "## Arrange and summarize"
   ]
  },
  {
   "cell_type": "code",
   "execution_count": 8,
   "metadata": {},
   "outputs": [
    {
     "name": "stdout",
     "output_type": "stream",
     "text": [
      "[1] 701933      4\n"
     ]
    },
    {
     "data": {
      "text/html": [
       "<table class=\"dataframe\">\n",
       "<caption>A tibble: 6 × 4</caption>\n",
       "<thead>\n",
       "\t<tr><th scope=col>Peak</th><th scope=col>Annotation</th><th scope=col>Label</th><th scope=col>Count</th></tr>\n",
       "\t<tr><th scope=col>&lt;chr&gt;</th><th scope=col>&lt;chr&gt;</th><th scope=col>&lt;chr&gt;</th><th scope=col>&lt;int&gt;</th></tr>\n",
       "</thead>\n",
       "<tbody>\n",
       "\t<tr><td>chr10_100009096_100010466</td><td>ChIPseq_Histone</td><td>H3K27ac</td><td>1</td></tr>\n",
       "\t<tr><td>chr10_100185017_100187275</td><td>ChIPseq_Histone</td><td>H3K27ac</td><td>1</td></tr>\n",
       "\t<tr><td>chr10_100228452_100230090</td><td>ChIPseq_Histone</td><td>H3K27ac</td><td>1</td></tr>\n",
       "\t<tr><td>chr10_100267066_100268374</td><td>ChIPseq_Histone</td><td>H3K27ac</td><td>1</td></tr>\n",
       "\t<tr><td>chr10_100285974_100287341</td><td>ChIPseq_Histone</td><td>H3K27ac</td><td>1</td></tr>\n",
       "\t<tr><td>chr10_100289686_100290090</td><td>ChIPseq_Histone</td><td>H3K27ac</td><td>1</td></tr>\n",
       "</tbody>\n",
       "</table>\n"
      ],
      "text/latex": [
       "A tibble: 6 × 4\n",
       "\\begin{tabular}{llll}\n",
       " Peak & Annotation & Label & Count\\\\\n",
       " <chr> & <chr> & <chr> & <int>\\\\\n",
       "\\hline\n",
       "\t chr10\\_100009096\\_100010466 & ChIPseq\\_Histone & H3K27ac & 1\\\\\n",
       "\t chr10\\_100185017\\_100187275 & ChIPseq\\_Histone & H3K27ac & 1\\\\\n",
       "\t chr10\\_100228452\\_100230090 & ChIPseq\\_Histone & H3K27ac & 1\\\\\n",
       "\t chr10\\_100267066\\_100268374 & ChIPseq\\_Histone & H3K27ac & 1\\\\\n",
       "\t chr10\\_100285974\\_100287341 & ChIPseq\\_Histone & H3K27ac & 1\\\\\n",
       "\t chr10\\_100289686\\_100290090 & ChIPseq\\_Histone & H3K27ac & 1\\\\\n",
       "\\end{tabular}\n"
      ],
      "text/markdown": [
       "\n",
       "A tibble: 6 × 4\n",
       "\n",
       "| Peak &lt;chr&gt; | Annotation &lt;chr&gt; | Label &lt;chr&gt; | Count &lt;int&gt; |\n",
       "|---|---|---|---|\n",
       "| chr10_100009096_100010466 | ChIPseq_Histone | H3K27ac | 1 |\n",
       "| chr10_100185017_100187275 | ChIPseq_Histone | H3K27ac | 1 |\n",
       "| chr10_100228452_100230090 | ChIPseq_Histone | H3K27ac | 1 |\n",
       "| chr10_100267066_100268374 | ChIPseq_Histone | H3K27ac | 1 |\n",
       "| chr10_100285974_100287341 | ChIPseq_Histone | H3K27ac | 1 |\n",
       "| chr10_100289686_100290090 | ChIPseq_Histone | H3K27ac | 1 |\n",
       "\n"
      ],
      "text/plain": [
       "  Peak                      Annotation      Label   Count\n",
       "1 chr10_100009096_100010466 ChIPseq_Histone H3K27ac 1    \n",
       "2 chr10_100185017_100187275 ChIPseq_Histone H3K27ac 1    \n",
       "3 chr10_100228452_100230090 ChIPseq_Histone H3K27ac 1    \n",
       "4 chr10_100267066_100268374 ChIPseq_Histone H3K27ac 1    \n",
       "5 chr10_100285974_100287341 ChIPseq_Histone H3K27ac 1    \n",
       "6 chr10_100289686_100290090 ChIPseq_Histone H3K27ac 1    "
      ]
     },
     "metadata": {},
     "output_type": "display_data"
    }
   ],
   "source": [
    "lst = lst_peak_annot\n",
    "\n",
    "lst = lapply(lst, function(dat){\n",
    "    dat = dat %>% \n",
    "        dplyr::group_by(Peak_ATAC, Annotation, Label) %>%\n",
    "        dplyr::summarise(Count = n(), .groups = \"drop\")\n",
    "    return(dat)\n",
    "})\n",
    "\n",
    "dat = bind_rows(lst)\n",
    "dat = dat %>% dplyr::rename(\"Peak\" = \"Peak_ATAC\")\n",
    "\n",
    "dat_peak_annot_count = dat\n",
    "print(dim(dat))\n",
    "head(dat)"
   ]
  },
  {
   "cell_type": "code",
   "execution_count": 10,
   "metadata": {},
   "outputs": [
    {
     "data": {
      "text/plain": [
       "\n",
       "     1      2      3      4      5      6      7      8      9     10     11 \n",
       "455033 148046  37935  47376   8327   3134   1272    562    144     88     16 "
      ]
     },
     "metadata": {},
     "output_type": "display_data"
    }
   ],
   "source": [
    "dat = dat_peak_annot_count\n",
    "table(dat$Count)"
   ]
  },
  {
   "cell_type": "code",
   "execution_count": 12,
   "metadata": {},
   "outputs": [
    {
     "data": {
      "text/html": [
       "<table class=\"dataframe\">\n",
       "<caption>A tibble: 16 × 4</caption>\n",
       "<thead>\n",
       "\t<tr><th scope=col>Peak</th><th scope=col>Annotation</th><th scope=col>Label</th><th scope=col>Count</th></tr>\n",
       "\t<tr><th scope=col>&lt;chr&gt;</th><th scope=col>&lt;chr&gt;</th><th scope=col>&lt;chr&gt;</th><th scope=col>&lt;int&gt;</th></tr>\n",
       "</thead>\n",
       "<tbody>\n",
       "\t<tr><td>chr11_2890447_2893046  </td><td>ChIPseq_Histone</td><td>H3K4me3</td><td>11</td></tr>\n",
       "\t<tr><td>chr17_38255901_38257878</td><td>ChIPseq_Histone</td><td>H3K4me3</td><td>11</td></tr>\n",
       "\t<tr><td>chr17_79809894_79811714</td><td>ChIPseq_Histone</td><td>H3K4me3</td><td>11</td></tr>\n",
       "\t<tr><td>chr8_8227407_8229235   </td><td>ChIPseq_Histone</td><td>H3K4me3</td><td>11</td></tr>\n",
       "\t<tr><td>chr11_2890447_2893046  </td><td>ChIPseq_Histone</td><td>H3K4me3</td><td>11</td></tr>\n",
       "\t<tr><td>chr17_38255901_38257878</td><td>ChIPseq_Histone</td><td>H3K4me3</td><td>11</td></tr>\n",
       "\t<tr><td>chr17_79809894_79811714</td><td>ChIPseq_Histone</td><td>H3K4me3</td><td>11</td></tr>\n",
       "\t<tr><td>chr8_8227407_8229235   </td><td>ChIPseq_Histone</td><td>H3K4me3</td><td>11</td></tr>\n",
       "\t<tr><td>chr11_2890447_2893046  </td><td>ChIPseq_Histone</td><td>H3K4me3</td><td>11</td></tr>\n",
       "\t<tr><td>chr17_38255901_38257878</td><td>ChIPseq_Histone</td><td>H3K4me3</td><td>11</td></tr>\n",
       "\t<tr><td>chr17_79809894_79811714</td><td>ChIPseq_Histone</td><td>H3K4me3</td><td>11</td></tr>\n",
       "\t<tr><td>chr8_8227407_8229235   </td><td>ChIPseq_Histone</td><td>H3K4me3</td><td>11</td></tr>\n",
       "\t<tr><td>chr11_2890447_2893046  </td><td>ChIPseq_Histone</td><td>H3K4me3</td><td>11</td></tr>\n",
       "\t<tr><td>chr17_38255901_38257878</td><td>ChIPseq_Histone</td><td>H3K4me3</td><td>11</td></tr>\n",
       "\t<tr><td>chr17_79809894_79811714</td><td>ChIPseq_Histone</td><td>H3K4me3</td><td>11</td></tr>\n",
       "\t<tr><td>chr8_8227407_8229235   </td><td>ChIPseq_Histone</td><td>H3K4me3</td><td>11</td></tr>\n",
       "</tbody>\n",
       "</table>\n"
      ],
      "text/latex": [
       "A tibble: 16 × 4\n",
       "\\begin{tabular}{llll}\n",
       " Peak & Annotation & Label & Count\\\\\n",
       " <chr> & <chr> & <chr> & <int>\\\\\n",
       "\\hline\n",
       "\t chr11\\_2890447\\_2893046   & ChIPseq\\_Histone & H3K4me3 & 11\\\\\n",
       "\t chr17\\_38255901\\_38257878 & ChIPseq\\_Histone & H3K4me3 & 11\\\\\n",
       "\t chr17\\_79809894\\_79811714 & ChIPseq\\_Histone & H3K4me3 & 11\\\\\n",
       "\t chr8\\_8227407\\_8229235    & ChIPseq\\_Histone & H3K4me3 & 11\\\\\n",
       "\t chr11\\_2890447\\_2893046   & ChIPseq\\_Histone & H3K4me3 & 11\\\\\n",
       "\t chr17\\_38255901\\_38257878 & ChIPseq\\_Histone & H3K4me3 & 11\\\\\n",
       "\t chr17\\_79809894\\_79811714 & ChIPseq\\_Histone & H3K4me3 & 11\\\\\n",
       "\t chr8\\_8227407\\_8229235    & ChIPseq\\_Histone & H3K4me3 & 11\\\\\n",
       "\t chr11\\_2890447\\_2893046   & ChIPseq\\_Histone & H3K4me3 & 11\\\\\n",
       "\t chr17\\_38255901\\_38257878 & ChIPseq\\_Histone & H3K4me3 & 11\\\\\n",
       "\t chr17\\_79809894\\_79811714 & ChIPseq\\_Histone & H3K4me3 & 11\\\\\n",
       "\t chr8\\_8227407\\_8229235    & ChIPseq\\_Histone & H3K4me3 & 11\\\\\n",
       "\t chr11\\_2890447\\_2893046   & ChIPseq\\_Histone & H3K4me3 & 11\\\\\n",
       "\t chr17\\_38255901\\_38257878 & ChIPseq\\_Histone & H3K4me3 & 11\\\\\n",
       "\t chr17\\_79809894\\_79811714 & ChIPseq\\_Histone & H3K4me3 & 11\\\\\n",
       "\t chr8\\_8227407\\_8229235    & ChIPseq\\_Histone & H3K4me3 & 11\\\\\n",
       "\\end{tabular}\n"
      ],
      "text/markdown": [
       "\n",
       "A tibble: 16 × 4\n",
       "\n",
       "| Peak &lt;chr&gt; | Annotation &lt;chr&gt; | Label &lt;chr&gt; | Count &lt;int&gt; |\n",
       "|---|---|---|---|\n",
       "| chr11_2890447_2893046   | ChIPseq_Histone | H3K4me3 | 11 |\n",
       "| chr17_38255901_38257878 | ChIPseq_Histone | H3K4me3 | 11 |\n",
       "| chr17_79809894_79811714 | ChIPseq_Histone | H3K4me3 | 11 |\n",
       "| chr8_8227407_8229235    | ChIPseq_Histone | H3K4me3 | 11 |\n",
       "| chr11_2890447_2893046   | ChIPseq_Histone | H3K4me3 | 11 |\n",
       "| chr17_38255901_38257878 | ChIPseq_Histone | H3K4me3 | 11 |\n",
       "| chr17_79809894_79811714 | ChIPseq_Histone | H3K4me3 | 11 |\n",
       "| chr8_8227407_8229235    | ChIPseq_Histone | H3K4me3 | 11 |\n",
       "| chr11_2890447_2893046   | ChIPseq_Histone | H3K4me3 | 11 |\n",
       "| chr17_38255901_38257878 | ChIPseq_Histone | H3K4me3 | 11 |\n",
       "| chr17_79809894_79811714 | ChIPseq_Histone | H3K4me3 | 11 |\n",
       "| chr8_8227407_8229235    | ChIPseq_Histone | H3K4me3 | 11 |\n",
       "| chr11_2890447_2893046   | ChIPseq_Histone | H3K4me3 | 11 |\n",
       "| chr17_38255901_38257878 | ChIPseq_Histone | H3K4me3 | 11 |\n",
       "| chr17_79809894_79811714 | ChIPseq_Histone | H3K4me3 | 11 |\n",
       "| chr8_8227407_8229235    | ChIPseq_Histone | H3K4me3 | 11 |\n",
       "\n"
      ],
      "text/plain": [
       "   Peak                    Annotation      Label   Count\n",
       "1  chr11_2890447_2893046   ChIPseq_Histone H3K4me3 11   \n",
       "2  chr17_38255901_38257878 ChIPseq_Histone H3K4me3 11   \n",
       "3  chr17_79809894_79811714 ChIPseq_Histone H3K4me3 11   \n",
       "4  chr8_8227407_8229235    ChIPseq_Histone H3K4me3 11   \n",
       "5  chr11_2890447_2893046   ChIPseq_Histone H3K4me3 11   \n",
       "6  chr17_38255901_38257878 ChIPseq_Histone H3K4me3 11   \n",
       "7  chr17_79809894_79811714 ChIPseq_Histone H3K4me3 11   \n",
       "8  chr8_8227407_8229235    ChIPseq_Histone H3K4me3 11   \n",
       "9  chr11_2890447_2893046   ChIPseq_Histone H3K4me3 11   \n",
       "10 chr17_38255901_38257878 ChIPseq_Histone H3K4me3 11   \n",
       "11 chr17_79809894_79811714 ChIPseq_Histone H3K4me3 11   \n",
       "12 chr8_8227407_8229235    ChIPseq_Histone H3K4me3 11   \n",
       "13 chr11_2890447_2893046   ChIPseq_Histone H3K4me3 11   \n",
       "14 chr17_38255901_38257878 ChIPseq_Histone H3K4me3 11   \n",
       "15 chr17_79809894_79811714 ChIPseq_Histone H3K4me3 11   \n",
       "16 chr8_8227407_8229235    ChIPseq_Histone H3K4me3 11   "
      ]
     },
     "metadata": {},
     "output_type": "display_data"
    }
   ],
   "source": [
    "dat = dat_peak_annot_count\n",
    "dat %>% dplyr::filter(Count == 11)"
   ]
  },
  {
   "cell_type": "markdown",
   "metadata": {},
   "source": [
    "## Save results"
   ]
  },
  {
   "cell_type": "code",
   "execution_count": 9,
   "metadata": {},
   "outputs": [],
   "source": [
    "fdiry = file.path(FD_RES, \"results\", \"region\", \"KS91_K562_ASTARRseq_peak_macs_input\", \"summary\")\n",
    "fname = \"peak.summary.chipseq_histone.tsv\"\n",
    "fpath = file.path(fdiry, fname)\n",
    "\n",
    "dat = dat_peak_annot_count\n",
    "write_tsv(dat, fpath)"
   ]
  },
  {
   "cell_type": "code",
   "execution_count": null,
   "metadata": {},
   "outputs": [],
   "source": []
  }
 ],
 "metadata": {
  "kernelspec": {
   "display_name": "R",
   "language": "R",
   "name": "ir"
  },
  "language_info": {
   "codemirror_mode": "r",
   "file_extension": ".r",
   "mimetype": "text/x-r-source",
   "name": "R",
   "pygments_lexer": "r",
   "version": "4.3.0"
  }
 },
 "nbformat": 4,
 "nbformat_minor": 4
}
