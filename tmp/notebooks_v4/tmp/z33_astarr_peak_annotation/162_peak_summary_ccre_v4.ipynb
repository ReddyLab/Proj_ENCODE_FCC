{
 "cells": [
  {
   "cell_type": "markdown",
   "metadata": {},
   "source": [
    "**Set environment**"
   ]
  },
  {
   "cell_type": "code",
   "execution_count": 1,
   "metadata": {},
   "outputs": [
    {
     "name": "stdout",
     "output_type": "stream",
     "text": [
      "You are in Singularity: singularity_proj_encode_fcc \n",
      "BASE DIRECTORY (FD_BASE): /data/reddylab/Kuei \n",
      "WORK DIRECTORY (FD_WORK): /data/reddylab/Kuei/out \n",
      "CODE DIRECTORY (FD_CODE): /data/reddylab/Kuei/code \n",
      "PATH OF PROJECT (FD_PRJ): /data/reddylab/Kuei/code/Proj_CombEffect_ENCODE_FCC \n",
      "PATH OF RESULTS (FD_RES): /data/reddylab/Kuei/out/proj_combeffect_encode_fcc \n",
      "PATH OF LOG     (FD_LOG): /data/reddylab/Kuei/out/proj_combeffect_encode_fcc/log \n"
     ]
    }
   ],
   "source": [
    "suppressMessages(suppressWarnings(source(\"../config/config_sing.R\")))\n",
    "show_env()"
   ]
  },
  {
   "cell_type": "markdown",
   "metadata": {},
   "source": [
    "**Check data**"
   ]
  },
  {
   "cell_type": "code",
   "execution_count": 2,
   "metadata": {},
   "outputs": [
    {
     "data": {
      "text/html": [
       "<style>\n",
       ".list-inline {list-style: none; margin:0; padding: 0}\n",
       ".list-inline>li {display: inline-block}\n",
       ".list-inline>li:not(:last-child)::after {content: \"\\00b7\"; padding: 0 .5ex}\n",
       "</style>\n",
       "<ol class=list-inline><li>'peak.annotation.ccre_v3.bed.gz'</li><li>'peak.annotation.ccre_v4.bed.gz'</li></ol>\n"
      ],
      "text/latex": [
       "\\begin{enumerate*}\n",
       "\\item 'peak.annotation.ccre\\_v3.bed.gz'\n",
       "\\item 'peak.annotation.ccre\\_v4.bed.gz'\n",
       "\\end{enumerate*}\n"
      ],
      "text/markdown": [
       "1. 'peak.annotation.ccre_v3.bed.gz'\n",
       "2. 'peak.annotation.ccre_v4.bed.gz'\n",
       "\n",
       "\n"
      ],
      "text/plain": [
       "[1] \"peak.annotation.ccre_v3.bed.gz\" \"peak.annotation.ccre_v4.bed.gz\""
      ]
     },
     "metadata": {},
     "output_type": "display_data"
    }
   ],
   "source": [
    "fdiry = file.path(\n",
    "    FD_RES, \n",
    "    \"results\", \n",
    "    \"region\", \n",
    "    \"KS91_K562_ASTARRseq_peak_macs_input\", \n",
    "    \"annotation_ccre\")\n",
    "fnames = dir(fdiry)\n",
    "fnames"
   ]
  },
  {
   "cell_type": "code",
   "execution_count": 3,
   "metadata": {},
   "outputs": [
    {
     "data": {
      "text/html": [
       "'description.tsv'"
      ],
      "text/latex": [
       "'description.tsv'"
      ],
      "text/markdown": [
       "'description.tsv'"
      ],
      "text/plain": [
       "[1] \"description.tsv\""
      ]
     },
     "metadata": {},
     "output_type": "display_data"
    }
   ],
   "source": [
    "fdiry = file.path(\n",
    "    FD_RES, \n",
    "    \"results\", \n",
    "    \"region\", \n",
    "    \"annotation_ccre\")\n",
    "fnames = dir(fdiry)\n",
    "fnames"
   ]
  },
  {
   "cell_type": "markdown",
   "metadata": {},
   "source": [
    "## Import data"
   ]
  },
  {
   "cell_type": "code",
   "execution_count": 4,
   "metadata": {},
   "outputs": [
    {
     "name": "stderr",
     "output_type": "stream",
     "text": [
      "\u001b[1mRows: \u001b[22m\u001b[34m11\u001b[39m \u001b[1mColumns: \u001b[22m\u001b[34m2\u001b[39m\n",
      "\u001b[36m──\u001b[39m \u001b[1mColumn specification\u001b[22m \u001b[36m─────────────────────────────────────────────────────────────────────\u001b[39m\n",
      "\u001b[1mDelimiter:\u001b[22m \"\\t\"\n",
      "\u001b[31mchr\u001b[39m (2): Name, Description\n",
      "\n",
      "\u001b[36mℹ\u001b[39m Use `spec()` to retrieve the full column specification for this data.\n",
      "\u001b[36mℹ\u001b[39m Specify the column types or set `show_col_types = FALSE` to quiet this message.\n"
     ]
    },
    {
     "name": "stdout",
     "output_type": "stream",
     "text": [
      "[1] 11  2\n"
     ]
    },
    {
     "data": {
      "text/html": [
       "<table class=\"dataframe\">\n",
       "<caption>A spec_tbl_df: 11 × 2</caption>\n",
       "<thead>\n",
       "\t<tr><th scope=col>Name</th><th scope=col>Description</th></tr>\n",
       "\t<tr><th scope=col>&lt;chr&gt;</th><th scope=col>&lt;chr&gt;</th></tr>\n",
       "</thead>\n",
       "<tbody>\n",
       "\t<tr><td>Chrom     </td><td>Chromosome                                                 </td></tr>\n",
       "\t<tr><td>Start     </td><td>Start position                                             </td></tr>\n",
       "\t<tr><td>End       </td><td>End position                                               </td></tr>\n",
       "\t<tr><td>Name      </td><td>Name                                                       </td></tr>\n",
       "\t<tr><td>Score     </td><td>Score                                                      </td></tr>\n",
       "\t<tr><td>Strand    </td><td>[+-.]; Use '.' if no strand is assigned.                   </td></tr>\n",
       "\t<tr><td>ThickStart</td><td>The starting position at which the feature is drawn thickly</td></tr>\n",
       "\t<tr><td>ThickEnd  </td><td>The ending position at which the feature is drawn thickly  </td></tr>\n",
       "\t<tr><td>ItemRgb   </td><td>An RGB value of the form R,G,B (e.g. 255,0,0)              </td></tr>\n",
       "\t<tr><td>Category  </td><td>Label of cCREs type                                        </td></tr>\n",
       "\t<tr><td>Note      </td><td>Description                                                </td></tr>\n",
       "</tbody>\n",
       "</table>\n"
      ],
      "text/latex": [
       "A spec\\_tbl\\_df: 11 × 2\n",
       "\\begin{tabular}{ll}\n",
       " Name & Description\\\\\n",
       " <chr> & <chr>\\\\\n",
       "\\hline\n",
       "\t Chrom      & Chromosome                                                 \\\\\n",
       "\t Start      & Start position                                             \\\\\n",
       "\t End        & End position                                               \\\\\n",
       "\t Name       & Name                                                       \\\\\n",
       "\t Score      & Score                                                      \\\\\n",
       "\t Strand     & {[}+-.{]}; Use '.' if no strand is assigned.                   \\\\\n",
       "\t ThickStart & The starting position at which the feature is drawn thickly\\\\\n",
       "\t ThickEnd   & The ending position at which the feature is drawn thickly  \\\\\n",
       "\t ItemRgb    & An RGB value of the form R,G,B (e.g. 255,0,0)              \\\\\n",
       "\t Category   & Label of cCREs type                                        \\\\\n",
       "\t Note       & Description                                                \\\\\n",
       "\\end{tabular}\n"
      ],
      "text/markdown": [
       "\n",
       "A spec_tbl_df: 11 × 2\n",
       "\n",
       "| Name &lt;chr&gt; | Description &lt;chr&gt; |\n",
       "|---|---|\n",
       "| Chrom      | Chromosome                                                  |\n",
       "| Start      | Start position                                              |\n",
       "| End        | End position                                                |\n",
       "| Name       | Name                                                        |\n",
       "| Score      | Score                                                       |\n",
       "| Strand     | [+-.]; Use '.' if no strand is assigned.                    |\n",
       "| ThickStart | The starting position at which the feature is drawn thickly |\n",
       "| ThickEnd   | The ending position at which the feature is drawn thickly   |\n",
       "| ItemRgb    | An RGB value of the form R,G,B (e.g. 255,0,0)               |\n",
       "| Category   | Label of cCREs type                                         |\n",
       "| Note       | Description                                                 |\n",
       "\n"
      ],
      "text/plain": [
       "   Name       Description                                                \n",
       "1  Chrom      Chromosome                                                 \n",
       "2  Start      Start position                                             \n",
       "3  End        End position                                               \n",
       "4  Name       Name                                                       \n",
       "5  Score      Score                                                      \n",
       "6  Strand     [+-.]; Use '.' if no strand is assigned.                   \n",
       "7  ThickStart The starting position at which the feature is drawn thickly\n",
       "8  ThickEnd   The ending position at which the feature is drawn thickly  \n",
       "9  ItemRgb    An RGB value of the form R,G,B (e.g. 255,0,0)              \n",
       "10 Category   Label of cCREs type                                        \n",
       "11 Note       Description                                                "
      ]
     },
     "metadata": {},
     "output_type": "display_data"
    }
   ],
   "source": [
    "fdiry = file.path(\n",
    "    FD_RES, \n",
    "    \"results\", \n",
    "    \"region\", \n",
    "    \"annotation_ccre\")\n",
    "fname = \"description.tsv\"\n",
    "fpath = file.path(fdiry, fname)\n",
    "\n",
    "dat = read_tsv(fpath)\n",
    "\n",
    "dat_cnames = dat\n",
    "print(dim(dat))\n",
    "dat"
   ]
  },
  {
   "cell_type": "code",
   "execution_count": 5,
   "metadata": {},
   "outputs": [
    {
     "name": "stdout",
     "output_type": "stream",
     "text": [
      "[1] 480473     18\n"
     ]
    },
    {
     "data": {
      "text/html": [
       "<table class=\"dataframe\">\n",
       "<caption>A tibble: 6 × 18</caption>\n",
       "<thead>\n",
       "\t<tr><th scope=col>Chrom_ATAC</th><th scope=col>Start_ATAC</th><th scope=col>End_ATAC</th><th scope=col>Chrom</th><th scope=col>Start</th><th scope=col>End</th><th scope=col>Name</th><th scope=col>Score</th><th scope=col>Strand</th><th scope=col>ThickStart</th><th scope=col>ThickEnd</th><th scope=col>ItemRgb</th><th scope=col>Category</th><th scope=col>Note</th><th scope=col>Overlap</th><th scope=col>Peak_ATAC</th><th scope=col>Annotation</th><th scope=col>Label</th></tr>\n",
       "\t<tr><th scope=col>&lt;chr&gt;</th><th scope=col>&lt;dbl&gt;</th><th scope=col>&lt;dbl&gt;</th><th scope=col>&lt;chr&gt;</th><th scope=col>&lt;dbl&gt;</th><th scope=col>&lt;dbl&gt;</th><th scope=col>&lt;chr&gt;</th><th scope=col>&lt;dbl&gt;</th><th scope=col>&lt;chr&gt;</th><th scope=col>&lt;dbl&gt;</th><th scope=col>&lt;dbl&gt;</th><th scope=col>&lt;chr&gt;</th><th scope=col>&lt;chr&gt;</th><th scope=col>&lt;chr&gt;</th><th scope=col>&lt;dbl&gt;</th><th scope=col>&lt;chr&gt;</th><th scope=col>&lt;chr&gt;</th><th scope=col>&lt;chr&gt;</th></tr>\n",
       "</thead>\n",
       "<tbody>\n",
       "\t<tr><td>chr1</td><td> 10015</td><td> 10442</td><td>chr1</td><td> 10033</td><td> 10250</td><td>EH38E2776516</td><td>0</td><td>.</td><td> 10033</td><td> 10250</td><td>225,225,225</td><td>Low-DNase</td><td>All-data/Full-classification</td><td>217</td><td>chr1_10015_10442  </td><td>ccre_v4</td><td>Low-DNase</td></tr>\n",
       "\t<tr><td>chr1</td><td> 10015</td><td> 10442</td><td>chr1</td><td> 10385</td><td> 10713</td><td>EH38E2776517</td><td>0</td><td>.</td><td> 10385</td><td> 10713</td><td>225,225,225</td><td>Low-DNase</td><td>All-data/Full-classification</td><td> 57</td><td>chr1_10015_10442  </td><td>ccre_v4</td><td>Low-DNase</td></tr>\n",
       "\t<tr><td>chr1</td><td> 16015</td><td> 16477</td><td>chr1</td><td> 16097</td><td> 16381</td><td>EH38E3951272</td><td>0</td><td>.</td><td> 16097</td><td> 16381</td><td>225,225,225</td><td>Low-DNase</td><td>All-data/Full-classification</td><td>284</td><td>chr1_16015_16477  </td><td>ccre_v4</td><td>Low-DNase</td></tr>\n",
       "\t<tr><td>chr1</td><td> 17237</td><td> 17772</td><td>chr1</td><td> 17343</td><td> 17642</td><td>EH38E3951273</td><td>0</td><td>.</td><td> 17343</td><td> 17642</td><td>225,225,225</td><td>Low-DNase</td><td>All-data/Full-classification</td><td>299</td><td>chr1_17237_17772  </td><td>ccre_v4</td><td>Low-DNase</td></tr>\n",
       "\t<tr><td>chr1</td><td> 28903</td><td> 29613</td><td>chr1</td><td> 29320</td><td> 29517</td><td>EH38E3951274</td><td>0</td><td>.</td><td> 29320</td><td> 29517</td><td>225,225,225</td><td>Low-DNase</td><td>All-data/Full-classification</td><td>197</td><td>chr1_28903_29613  </td><td>ccre_v4</td><td>Low-DNase</td></tr>\n",
       "\t<tr><td>chr1</td><td>115411</td><td>115986</td><td>chr1</td><td>115562</td><td>115912</td><td>EH38E3951280</td><td>0</td><td>.</td><td>115562</td><td>115912</td><td>0,176,240  </td><td>CA-CTCF  </td><td>All-data/Full-classification</td><td>350</td><td>chr1_115411_115986</td><td>ccre_v4</td><td>CA-CTCF  </td></tr>\n",
       "</tbody>\n",
       "</table>\n"
      ],
      "text/latex": [
       "A tibble: 6 × 18\n",
       "\\begin{tabular}{llllllllllllllllll}\n",
       " Chrom\\_ATAC & Start\\_ATAC & End\\_ATAC & Chrom & Start & End & Name & Score & Strand & ThickStart & ThickEnd & ItemRgb & Category & Note & Overlap & Peak\\_ATAC & Annotation & Label\\\\\n",
       " <chr> & <dbl> & <dbl> & <chr> & <dbl> & <dbl> & <chr> & <dbl> & <chr> & <dbl> & <dbl> & <chr> & <chr> & <chr> & <dbl> & <chr> & <chr> & <chr>\\\\\n",
       "\\hline\n",
       "\t chr1 &  10015 &  10442 & chr1 &  10033 &  10250 & EH38E2776516 & 0 & . &  10033 &  10250 & 225,225,225 & Low-DNase & All-data/Full-classification & 217 & chr1\\_10015\\_10442   & ccre\\_v4 & Low-DNase\\\\\n",
       "\t chr1 &  10015 &  10442 & chr1 &  10385 &  10713 & EH38E2776517 & 0 & . &  10385 &  10713 & 225,225,225 & Low-DNase & All-data/Full-classification &  57 & chr1\\_10015\\_10442   & ccre\\_v4 & Low-DNase\\\\\n",
       "\t chr1 &  16015 &  16477 & chr1 &  16097 &  16381 & EH38E3951272 & 0 & . &  16097 &  16381 & 225,225,225 & Low-DNase & All-data/Full-classification & 284 & chr1\\_16015\\_16477   & ccre\\_v4 & Low-DNase\\\\\n",
       "\t chr1 &  17237 &  17772 & chr1 &  17343 &  17642 & EH38E3951273 & 0 & . &  17343 &  17642 & 225,225,225 & Low-DNase & All-data/Full-classification & 299 & chr1\\_17237\\_17772   & ccre\\_v4 & Low-DNase\\\\\n",
       "\t chr1 &  28903 &  29613 & chr1 &  29320 &  29517 & EH38E3951274 & 0 & . &  29320 &  29517 & 225,225,225 & Low-DNase & All-data/Full-classification & 197 & chr1\\_28903\\_29613   & ccre\\_v4 & Low-DNase\\\\\n",
       "\t chr1 & 115411 & 115986 & chr1 & 115562 & 115912 & EH38E3951280 & 0 & . & 115562 & 115912 & 0,176,240   & CA-CTCF   & All-data/Full-classification & 350 & chr1\\_115411\\_115986 & ccre\\_v4 & CA-CTCF  \\\\\n",
       "\\end{tabular}\n"
      ],
      "text/markdown": [
       "\n",
       "A tibble: 6 × 18\n",
       "\n",
       "| Chrom_ATAC &lt;chr&gt; | Start_ATAC &lt;dbl&gt; | End_ATAC &lt;dbl&gt; | Chrom &lt;chr&gt; | Start &lt;dbl&gt; | End &lt;dbl&gt; | Name &lt;chr&gt; | Score &lt;dbl&gt; | Strand &lt;chr&gt; | ThickStart &lt;dbl&gt; | ThickEnd &lt;dbl&gt; | ItemRgb &lt;chr&gt; | Category &lt;chr&gt; | Note &lt;chr&gt; | Overlap &lt;dbl&gt; | Peak_ATAC &lt;chr&gt; | Annotation &lt;chr&gt; | Label &lt;chr&gt; |\n",
       "|---|---|---|---|---|---|---|---|---|---|---|---|---|---|---|---|---|---|\n",
       "| chr1 |  10015 |  10442 | chr1 |  10033 |  10250 | EH38E2776516 | 0 | . |  10033 |  10250 | 225,225,225 | Low-DNase | All-data/Full-classification | 217 | chr1_10015_10442   | ccre_v4 | Low-DNase |\n",
       "| chr1 |  10015 |  10442 | chr1 |  10385 |  10713 | EH38E2776517 | 0 | . |  10385 |  10713 | 225,225,225 | Low-DNase | All-data/Full-classification |  57 | chr1_10015_10442   | ccre_v4 | Low-DNase |\n",
       "| chr1 |  16015 |  16477 | chr1 |  16097 |  16381 | EH38E3951272 | 0 | . |  16097 |  16381 | 225,225,225 | Low-DNase | All-data/Full-classification | 284 | chr1_16015_16477   | ccre_v4 | Low-DNase |\n",
       "| chr1 |  17237 |  17772 | chr1 |  17343 |  17642 | EH38E3951273 | 0 | . |  17343 |  17642 | 225,225,225 | Low-DNase | All-data/Full-classification | 299 | chr1_17237_17772   | ccre_v4 | Low-DNase |\n",
       "| chr1 |  28903 |  29613 | chr1 |  29320 |  29517 | EH38E3951274 | 0 | . |  29320 |  29517 | 225,225,225 | Low-DNase | All-data/Full-classification | 197 | chr1_28903_29613   | ccre_v4 | Low-DNase |\n",
       "| chr1 | 115411 | 115986 | chr1 | 115562 | 115912 | EH38E3951280 | 0 | . | 115562 | 115912 | 0,176,240   | CA-CTCF   | All-data/Full-classification | 350 | chr1_115411_115986 | ccre_v4 | CA-CTCF   |\n",
       "\n"
      ],
      "text/plain": [
       "  Chrom_ATAC Start_ATAC End_ATAC Chrom Start  End    Name         Score Strand\n",
       "1 chr1        10015      10442   chr1   10033  10250 EH38E2776516 0     .     \n",
       "2 chr1        10015      10442   chr1   10385  10713 EH38E2776517 0     .     \n",
       "3 chr1        16015      16477   chr1   16097  16381 EH38E3951272 0     .     \n",
       "4 chr1        17237      17772   chr1   17343  17642 EH38E3951273 0     .     \n",
       "5 chr1        28903      29613   chr1   29320  29517 EH38E3951274 0     .     \n",
       "6 chr1       115411     115986   chr1  115562 115912 EH38E3951280 0     .     \n",
       "  ThickStart ThickEnd ItemRgb     Category  Note                        \n",
       "1  10033      10250   225,225,225 Low-DNase All-data/Full-classification\n",
       "2  10385      10713   225,225,225 Low-DNase All-data/Full-classification\n",
       "3  16097      16381   225,225,225 Low-DNase All-data/Full-classification\n",
       "4  17343      17642   225,225,225 Low-DNase All-data/Full-classification\n",
       "5  29320      29517   225,225,225 Low-DNase All-data/Full-classification\n",
       "6 115562     115912   0,176,240   CA-CTCF   All-data/Full-classification\n",
       "  Overlap Peak_ATAC          Annotation Label    \n",
       "1 217     chr1_10015_10442   ccre_v4    Low-DNase\n",
       "2  57     chr1_10015_10442   ccre_v4    Low-DNase\n",
       "3 284     chr1_16015_16477   ccre_v4    Low-DNase\n",
       "4 299     chr1_17237_17772   ccre_v4    Low-DNase\n",
       "5 197     chr1_28903_29613   ccre_v4    Low-DNase\n",
       "6 350     chr1_115411_115986 ccre_v4    CA-CTCF  "
      ]
     },
     "metadata": {},
     "output_type": "display_data"
    }
   ],
   "source": [
    "### init\n",
    "annotation = \"ccre_v4\"\n",
    "cnames = dat_cnames$Name\n",
    "cnames = c(\"Chrom_ATAC\", \"Start_ATAC\", \"End_ATAC\", cnames, \"Overlap\")\n",
    "\n",
    "###\n",
    "fdiry = file.path(\n",
    "    FD_RES, \n",
    "    \"results\", \n",
    "    \"region\", \n",
    "    \"KS91_K562_ASTARRseq_peak_macs_input\", \n",
    "    \"annotation_ccre\")\n",
    "fname = \"peak.annotation.ccre_v4.bed.gz\"\n",
    "fpath = file.path(fdiry, fname)\n",
    "\n",
    "### read data\n",
    "dat = read_tsv(fpath, col_names = cnames, show_col_types = FALSE)\n",
    "dat = dat %>% dplyr::mutate(\n",
    "    Peak_ATAC  = paste(Chrom_ATAC, Start_ATAC, End_ATAC, sep=\"_\"),\n",
    "    Annotation = annotation,\n",
    "    Label      = Category\n",
    ")\n",
    "\n",
    "### assign and show\n",
    "dat_peak_annot = dat\n",
    "print(dim(dat))\n",
    "head(dat)"
   ]
  },
  {
   "cell_type": "markdown",
   "metadata": {},
   "source": [
    "## Arrange and summarize"
   ]
  },
  {
   "cell_type": "code",
   "execution_count": 6,
   "metadata": {},
   "outputs": [
    {
     "name": "stdout",
     "output_type": "stream",
     "text": [
      "[1] 277309      4\n"
     ]
    },
    {
     "data": {
      "text/html": [
       "<table class=\"dataframe\">\n",
       "<caption>A tibble: 6 × 4</caption>\n",
       "<thead>\n",
       "\t<tr><th scope=col>Peak</th><th scope=col>Annotation</th><th scope=col>Label</th><th scope=col>Count</th></tr>\n",
       "\t<tr><th scope=col>&lt;chr&gt;</th><th scope=col>&lt;chr&gt;</th><th scope=col>&lt;chr&gt;</th><th scope=col>&lt;int&gt;</th></tr>\n",
       "</thead>\n",
       "<tbody>\n",
       "\t<tr><td>chr10_100009096_100010466</td><td>ccre_v4</td><td>CA-H3K4me3</td><td>2</td></tr>\n",
       "\t<tr><td>chr10_100009096_100010466</td><td>ccre_v4</td><td>Low-DNase </td><td>1</td></tr>\n",
       "\t<tr><td>chr10_100009096_100010466</td><td>ccre_v4</td><td>PLS       </td><td>1</td></tr>\n",
       "\t<tr><td>chr10_100009096_100010466</td><td>ccre_v4</td><td>pELS      </td><td>1</td></tr>\n",
       "\t<tr><td>chr10_100020710_100021134</td><td>ccre_v4</td><td>Low-DNase </td><td>2</td></tr>\n",
       "\t<tr><td>chr10_100045961_100046653</td><td>ccre_v4</td><td>CA-CTCF   </td><td>1</td></tr>\n",
       "</tbody>\n",
       "</table>\n"
      ],
      "text/latex": [
       "A tibble: 6 × 4\n",
       "\\begin{tabular}{llll}\n",
       " Peak & Annotation & Label & Count\\\\\n",
       " <chr> & <chr> & <chr> & <int>\\\\\n",
       "\\hline\n",
       "\t chr10\\_100009096\\_100010466 & ccre\\_v4 & CA-H3K4me3 & 2\\\\\n",
       "\t chr10\\_100009096\\_100010466 & ccre\\_v4 & Low-DNase  & 1\\\\\n",
       "\t chr10\\_100009096\\_100010466 & ccre\\_v4 & PLS        & 1\\\\\n",
       "\t chr10\\_100009096\\_100010466 & ccre\\_v4 & pELS       & 1\\\\\n",
       "\t chr10\\_100020710\\_100021134 & ccre\\_v4 & Low-DNase  & 2\\\\\n",
       "\t chr10\\_100045961\\_100046653 & ccre\\_v4 & CA-CTCF    & 1\\\\\n",
       "\\end{tabular}\n"
      ],
      "text/markdown": [
       "\n",
       "A tibble: 6 × 4\n",
       "\n",
       "| Peak &lt;chr&gt; | Annotation &lt;chr&gt; | Label &lt;chr&gt; | Count &lt;int&gt; |\n",
       "|---|---|---|---|\n",
       "| chr10_100009096_100010466 | ccre_v4 | CA-H3K4me3 | 2 |\n",
       "| chr10_100009096_100010466 | ccre_v4 | Low-DNase  | 1 |\n",
       "| chr10_100009096_100010466 | ccre_v4 | PLS        | 1 |\n",
       "| chr10_100009096_100010466 | ccre_v4 | pELS       | 1 |\n",
       "| chr10_100020710_100021134 | ccre_v4 | Low-DNase  | 2 |\n",
       "| chr10_100045961_100046653 | ccre_v4 | CA-CTCF    | 1 |\n",
       "\n"
      ],
      "text/plain": [
       "  Peak                      Annotation Label      Count\n",
       "1 chr10_100009096_100010466 ccre_v4    CA-H3K4me3 2    \n",
       "2 chr10_100009096_100010466 ccre_v4    Low-DNase  1    \n",
       "3 chr10_100009096_100010466 ccre_v4    PLS        1    \n",
       "4 chr10_100009096_100010466 ccre_v4    pELS       1    \n",
       "5 chr10_100020710_100021134 ccre_v4    Low-DNase  2    \n",
       "6 chr10_100045961_100046653 ccre_v4    CA-CTCF    1    "
      ]
     },
     "metadata": {},
     "output_type": "display_data"
    }
   ],
   "source": [
    "dat = dat_peak_annot\n",
    "dat = dat %>% \n",
    "    dplyr::group_by(Peak_ATAC, Annotation, Label) %>%\n",
    "    dplyr::summarise(Count = n(), .groups = \"drop\")\n",
    "\n",
    "dat = dat %>% dplyr::rename(\"Peak\" = \"Peak_ATAC\")\n",
    "\n",
    "### assign and show\n",
    "dat_peak_annot_count = dat\n",
    "print(dim(dat))\n",
    "head(dat)"
   ]
  },
  {
   "cell_type": "markdown",
   "metadata": {},
   "source": [
    "## Save results"
   ]
  },
  {
   "cell_type": "code",
   "execution_count": 7,
   "metadata": {},
   "outputs": [],
   "source": [
    "fdiry = file.path(FD_RES, \"results\", \"region\", \"KS91_K562_ASTARRseq_peak_macs_input\", \"summary\")\n",
    "fname = \"peak.summary.ccre_v4.tsv\"\n",
    "fpath = file.path(fdiry, fname)\n",
    "\n",
    "dat = dat_peak_annot_count\n",
    "write_tsv(dat, fpath)"
   ]
  }
 ],
 "metadata": {
  "kernelspec": {
   "display_name": "R",
   "language": "R",
   "name": "ir"
  },
  "language_info": {
   "codemirror_mode": "r",
   "file_extension": ".r",
   "mimetype": "text/x-r-source",
   "name": "R",
   "pygments_lexer": "r",
   "version": "4.3.0"
  }
 },
 "nbformat": 4,
 "nbformat_minor": 4
}
