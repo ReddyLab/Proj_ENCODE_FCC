{
 "cells": [
  {
   "cell_type": "code",
   "execution_count": 1,
   "id": "fda88dfd",
   "metadata": {},
   "outputs": [
    {
     "name": "stdout",
     "output_type": "stream",
     "text": [
      "You are on Duke Server: HARDAC\n",
      "BASE DIRECTORY (FD_BASE): /data/reddylab/Kuei\n",
      "WORK DIRECTORY (FD_WORK): /data/reddylab/Kuei/out\n",
      "CODE DIRECTORY (FD_CODE): /data/reddylab/Kuei/code\n",
      "SING DIRECTORY (FD_SING): /data/reddylab/Kuei/singularity\n",
      "PATH OF PROJECT (FD_PRJ): /data/reddylab/Kuei/code/Proj_CombEffect_ENCODE_FCC\n",
      "PATH OF RESULTS (FD_RES): /data/reddylab/Kuei/out/proj_combeffect_encode_fcc\n",
      "PATH OF LOG     (FD_LOG): /data/reddylab/Kuei/out/proj_combeffect_encode_fcc/log\n",
      "\n"
     ]
    }
   ],
   "source": [
    "### set env\n",
    "source ../config/config_duke.sh\n",
    "source ../config/config_load_module_bedtools.sh\n",
    "show_env"
   ]
  },
  {
   "cell_type": "code",
   "execution_count": 2,
   "id": "6cccd353",
   "metadata": {},
   "outputs": [
    {
     "name": "stdout",
     "output_type": "stream",
     "text": [
      "\u001b[0m\u001b[38;5;27mannotation_chipseq_histone\u001b[0m\n",
      "\u001b[38;5;27mannotation_chipseq_tf\u001b[0m\n",
      "\u001b[38;5;27mannotation_chipseq_tf_subset\u001b[0m\n",
      "\u001b[38;5;27mannotation_chromHMM\u001b[0m\n",
      "\u001b[38;5;27mannotation_crispri_hcrff\u001b[0m\n",
      "\u001b[38;5;27mannotation_enhancer_junke\u001b[0m\n",
      "\u001b[38;5;27mannotation_gencode\u001b[0m\n",
      "\u001b[38;5;27mannotation_hic\u001b[0m\n",
      "\u001b[38;5;27mannotation_tss_pol2\u001b[0m\n",
      "\u001b[38;5;27mhic_intact_loop\u001b[0m\n",
      "\u001b[38;5;27mKS91_K562_ASTARRseq_peak_macs_input\u001b[0m\n",
      "region_screened_crispri_flowfish.bed\n",
      "region_screened_selected.bed\n",
      "region_screened_selected_perbase.bed\n",
      "\u001b[38;5;9mregion_screened_selected_perbase.bed.gz\u001b[0m\n",
      "region_screened_tmpra.bed\n",
      "region_screened_tmpra_crispr.bed\n"
     ]
    }
   ],
   "source": [
    "ls -1 ${FD_RES}/results/region"
   ]
  },
  {
   "cell_type": "code",
   "execution_count": 3,
   "id": "eb57334c-aa05-4f95-a2bd-b7aaeac637d9",
   "metadata": {},
   "outputs": [
    {
     "name": "stdout",
     "output_type": "stream",
     "text": [
      "ChIP_ENCSR000EWA-ENCSR000AKP-ENCSR000EWC-ENCSR000DWB-ENCSR000EWB-ENCSR000APE.bed\n",
      "description.tsv\n"
     ]
    }
   ],
   "source": [
    "ls -1 ${FD_RES}/results/region/annotation_chromHMM"
   ]
  },
  {
   "cell_type": "markdown",
   "id": "924c08e5-98d3-42cb-afde-c2d3596e06ae",
   "metadata": {},
   "source": [
    "**RUN**"
   ]
  },
  {
   "cell_type": "code",
   "execution_count": 6,
   "id": "562d26bf-86d1-4895-a617-1210d6e42378",
   "metadata": {},
   "outputs": [
    {
     "name": "stdout",
     "output_type": "stream",
     "text": [
      "Submitted batch job 29809723\n"
     ]
    }
   ],
   "source": [
    "sbatch -p ${NODE} \\\n",
    "    --exclude=dl-01 \\\n",
    "    --cpus-per-task 8 \\\n",
    "    --mem 4G \\\n",
    "    --output ${FD_LOG}/annotation_astarr_peak_macs_input_chromhmm.%a.txt \\\n",
    "    --array 0 \\\n",
    "    <<'EOF'\n",
    "#!/bin/bash\n",
    "### set directories\n",
    "source ../config/config_duke.sh\n",
    "\n",
    "### print start message\n",
    "timer_start=`date +%s`\n",
    "echo \"Hostname:          \" $(hostname)\n",
    "echo \"Slurm Array Index: \" ${SLURM_ARRAY_TASK_ID}\n",
    "echo \"Time Stamp:        \" $(date +\"%m-%d-%y+%T\")\n",
    "echo\n",
    "\n",
    "### set input and output\n",
    "FD_INP=${FD_RES}/results/region/annotation_chromHMM\n",
    "FN_INP=\"ChIP_ENCSR000EWA-ENCSR000AKP-ENCSR000EWC-ENCSR000DWB-ENCSR000EWB-ENCSR000APE.bed\"\n",
    "FP_INP=${FD_INP}/${FN_INP}\n",
    "\n",
    "FD_REG=${FD_RES}/results/region/KS91_K562_ASTARRseq_peak_macs_input\n",
    "FN_REG=KS91_K562_hg38_ASTARRseq_Input.all_reps.masked.union_narrowPeak.q5.bed\n",
    "FP_REG=${FD_REG}/${FN_REG}\n",
    "\n",
    "FD_OUT=${FD_RES}/results/region/KS91_K562_ASTARRseq_peak_macs_input/annotation_chromHMM\n",
    "FN_OUT=peak.annotation.${FN_INP}.gz\n",
    "FP_OUT=${FD_OUT}/${FN_OUT}\n",
    "\n",
    "### show I/O file\n",
    "echo \"Input: \" ${FP_REG}\n",
    "echo\n",
    "echo \"show first few lines of input\"\n",
    "cat ${FP_REG} | head -5\n",
    "echo\n",
    "echo \"Input: \" ${FP_INP}\n",
    "echo\n",
    "echo \"show first few lines of input\"\n",
    "cat ${FP_INP} | head -5\n",
    "echo\n",
    "\n",
    "### init: create output folder if not exist\n",
    "mkdir -p ${FD_OUT}\n",
    "\n",
    "### annotation using intersect\n",
    "bedtools intersect \\\n",
    "    -a ${FP_REG} \\\n",
    "    -b ${FP_INP} \\\n",
    "    -wo \\\n",
    "| gzip -c \\\n",
    "> ${FP_OUT}\n",
    "\n",
    "### show output file\n",
    "echo\n",
    "echo \"Output: \" ${FP_OUT}\n",
    "echo\n",
    "echo \"show first few lines of output:\"\n",
    "zcat ${FP_OUT} | head -5\n",
    "echo\n",
    "\n",
    "### print end message\n",
    "timer=`date +%s`\n",
    "runtime=$(echo \"${timer} - ${timer_start}\" | bc -l)\n",
    "echo\n",
    "echo 'Done!'\n",
    "echo \"Run Time: $(displaytime ${runtime})\"\n",
    "\n",
    "EOF"
   ]
  },
  {
   "cell_type": "markdown",
   "id": "4155ca5b-ae2f-4e69-a251-0363d9cb3a6c",
   "metadata": {},
   "source": [
    "**Check Results**"
   ]
  },
  {
   "cell_type": "code",
   "execution_count": 8,
   "id": "78b0fceb-0f95-4d63-80fe-5c4921e49f6b",
   "metadata": {},
   "outputs": [
    {
     "name": "stdout",
     "output_type": "stream",
     "text": [
      "Hostname:           x2-06-2.genome.duke.edu\n",
      "Slurm Array Index:  0\n",
      "Time Stamp:         05-01-23+15:43:32\n",
      "\n",
      "Input:  /data/reddylab/Kuei/out/proj_combeffect_encode_fcc/results/region/KS91_K562_ASTARRseq_peak_macs_input/KS91_K562_hg38_ASTARRseq_Input.all_reps.masked.union_narrowPeak.q5.bed\n",
      "\n",
      "show first few lines of input\n",
      "chr1\t10015\t10442\n",
      "chr1\t14253\t14645\n",
      "chr1\t16015\t16477\n",
      "chr1\t17237\t17772\n",
      "chr1\t28903\t29613\n",
      "\n",
      "Input:  /data/reddylab/Kuei/out/proj_combeffect_encode_fcc/results/region/annotation_chromHMM/ChIP_ENCSR000EWA-ENCSR000AKP-ENCSR000EWC-ENCSR000DWB-ENCSR000EWB-ENCSR000APE.bed\n",
      "\n",
      "show first few lines of input\n",
      "chr1\t0\t16000\tQuies\t1\t.\t0\t16000\t220,220,220\n",
      "chr1\t16000\t16200\tTxWk\t1\t.\t16000\t16200\t63,154,80\n",
      "chr1\t16200\t17400\tQuies\t1\t.\t16200\t17400\t220,220,220\n",
      "chr1\t17400\t17600\tTxWk\t1\t.\t17400\t17600\t63,154,80\n",
      "chr1\t17600\t118400\tQuies\t1\t.\t17600\t118400\t220,220,220\n",
      "\n",
      "\n",
      "Output:  /data/reddylab/Kuei/out/proj_combeffect_encode_fcc/results/region/KS91_K562_ASTARRseq_peak_macs_input/annotation_chromHMM/peak.annotation.ChIP_ENCSR000EWA-ENCSR000AKP-ENCSR000EWC-ENCSR000DWB-ENCSR000EWB-ENCSR000APE.bed.gz\n",
      "\n",
      "show first few lines of output:\n",
      "chr1\t10015\t10442\tchr1\t0\t16000\tQuies\t1\t.\t0\t16000\t220,220,220\t427\n",
      "chr1\t14253\t14645\tchr1\t0\t16000\tQuies\t1\t.\t0\t16000\t220,220,220\t392\n",
      "chr1\t16015\t16477\tchr1\t16000\t16200\tTxWk\t1\t.\t16000\t16200\t63,154,80\t185\n",
      "chr1\t16015\t16477\tchr1\t16200\t17400\tQuies\t1\t.\t16200\t17400\t220,220,220\t277\n",
      "chr1\t17237\t17772\tchr1\t17400\t17600\tTxWk\t1\t.\t17400\t17600\t63,154,80\t200\n",
      "\n",
      "\n",
      "Done!\n",
      "Run Time: 3 seconds\n"
     ]
    }
   ],
   "source": [
    "cat ${FD_LOG}/annotation_astarr_peak_macs_input_chromhmm.0.txt"
   ]
  },
  {
   "cell_type": "code",
   "execution_count": null,
   "id": "df1c2167-bd75-4548-a75c-1fab396641ec",
   "metadata": {},
   "outputs": [],
   "source": []
  }
 ],
 "metadata": {
  "kernelspec": {
   "display_name": "Bash",
   "language": "bash",
   "name": "bash"
  },
  "language_info": {
   "codemirror_mode": "shell",
   "file_extension": ".sh",
   "mimetype": "text/x-sh",
   "name": "bash"
  }
 },
 "nbformat": 4,
 "nbformat_minor": 5
}
