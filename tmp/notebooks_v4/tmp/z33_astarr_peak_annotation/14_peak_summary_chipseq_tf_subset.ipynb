{
 "cells": [
  {
   "cell_type": "markdown",
   "metadata": {},
   "source": [
    "**Set environment**"
   ]
  },
  {
   "cell_type": "code",
   "execution_count": 1,
   "metadata": {},
   "outputs": [
    {
     "name": "stdout",
     "output_type": "stream",
     "text": [
      "You are in Singularity: singularity_proj_encode_fcc \n",
      "BASE DIRECTORY (FD_BASE): /data/reddylab/Kuei \n",
      "WORK DIRECTORY (FD_WORK): /data/reddylab/Kuei/out \n",
      "CODE DIRECTORY (FD_CODE): /data/reddylab/Kuei/code \n",
      "PATH OF PROJECT (FD_PRJ): /data/reddylab/Kuei/code/Proj_CombEffect_ENCODE_FCC \n",
      "PATH OF RESULTS (FD_RES): /data/reddylab/Kuei/out/proj_combeffect_encode_fcc \n",
      "PATH OF LOG     (FD_LOG): /data/reddylab/Kuei/out/proj_combeffect_encode_fcc/log \n"
     ]
    }
   ],
   "source": [
    "suppressMessages(suppressWarnings(source(\"../config/config_sing.R\")))\n",
    "show_env()"
   ]
  },
  {
   "cell_type": "markdown",
   "metadata": {},
   "source": [
    "**Check data**"
   ]
  },
  {
   "cell_type": "code",
   "execution_count": 2,
   "metadata": {},
   "outputs": [
    {
     "name": "stdout",
     "output_type": "stream",
     "text": [
      "[1] 16\n",
      "[1] \"peak.annotation.K562.ENCSR000BMH.ENCFF398UQZ.YY1.bed.gz\"  \n",
      "[2] \"peak.annotation.K562.ENCSR000BMW.ENCFF707MDI.REST.bed.gz\" \n",
      "[3] \"peak.annotation.K562.ENCSR000EFS.ENCFF190CGV.JUN.bed.gz\"  \n",
      "[4] \"peak.annotation.K562.ENCSR000EFT.ENCFF657CTC.GATA1.bed.gz\"\n",
      "[5] \"peak.annotation.K562.ENCSR000EFU.ENCFF715WGN.ELK1.bed.gz\" \n",
      "[6] \"peak.annotation.K562.ENCSR000EGE.ENCFF702XPO.EP300.bed.gz\"\n"
     ]
    }
   ],
   "source": [
    "fdiry = file.path(\n",
    "    FD_RES, \n",
    "    \"results\", \n",
    "    \"region\", \n",
    "    \"KS91_K562_ASTARRseq_peak_macs_input\", \n",
    "    \"annotation_chipseq_tf_subset\")\n",
    "fnames = dir(fdiry)\n",
    "print(length(fnames))\n",
    "print(head(fnames))"
   ]
  },
  {
   "cell_type": "code",
   "execution_count": 3,
   "metadata": {},
   "outputs": [
    {
     "name": "stdout",
     "output_type": "stream",
     "text": [
      "peak annotation K562 ENCSR000BMH ENCFF398UQZ YY1 bed gz \n",
      "YY1_ENCFF398UQZ \n",
      "\n",
      "peak annotation K562 ENCSR000BMW ENCFF707MDI REST bed gz \n",
      "REST_ENCFF707MDI \n",
      "\n",
      "peak annotation K562 ENCSR000EFS ENCFF190CGV JUN bed gz \n",
      "JUN_ENCFF190CGV \n",
      "\n",
      "peak annotation K562 ENCSR000EFT ENCFF657CTC GATA1 bed gz \n",
      "GATA1_ENCFF657CTC \n",
      "\n",
      "peak annotation K562 ENCSR000EFU ENCFF715WGN ELK1 bed gz \n",
      "ELK1_ENCFF715WGN \n",
      "\n",
      "peak annotation K562 ENCSR000EGE ENCFF702XPO EP300 bed gz \n",
      "EP300_ENCFF702XPO \n",
      "\n"
     ]
    }
   ],
   "source": [
    "lst = str_split(string = fnames, pattern = \"\\\\.\")\n",
    "for (vec in head(lst)){\n",
    "    index  = vec[5]\n",
    "    target = vec[6]\n",
    "    label  = paste(target, index, sep=\"_\")\n",
    "    cat(vec,   \"\\n\")\n",
    "    cat(label, \"\\n\")\n",
    "    cat(\"\\n\")\n",
    "}"
   ]
  },
  {
   "cell_type": "markdown",
   "metadata": {},
   "source": [
    "## Import data"
   ]
  },
  {
   "cell_type": "code",
   "execution_count": 4,
   "metadata": {},
   "outputs": [
    {
     "name": "stderr",
     "output_type": "stream",
     "text": [
      "\u001b[1mRows: \u001b[22m\u001b[34m10\u001b[39m \u001b[1mColumns: \u001b[22m\u001b[34m2\u001b[39m\n",
      "\u001b[36m──\u001b[39m \u001b[1mColumn specification\u001b[22m \u001b[36m─────────────────────────────────────────────────────────────────────\u001b[39m\n",
      "\u001b[1mDelimiter:\u001b[22m \"\\t\"\n",
      "\u001b[31mchr\u001b[39m (2): Name, Description\n",
      "\n",
      "\u001b[36mℹ\u001b[39m Use `spec()` to retrieve the full column specification for this data.\n",
      "\u001b[36mℹ\u001b[39m Specify the column types or set `show_col_types = FALSE` to quiet this message.\n"
     ]
    },
    {
     "name": "stdout",
     "output_type": "stream",
     "text": [
      "[1] 10  2\n"
     ]
    },
    {
     "data": {
      "text/html": [
       "<table class=\"dataframe\">\n",
       "<caption>A spec_tbl_df: 10 × 2</caption>\n",
       "<thead>\n",
       "\t<tr><th scope=col>Name</th><th scope=col>Description</th></tr>\n",
       "\t<tr><th scope=col>&lt;chr&gt;</th><th scope=col>&lt;chr&gt;</th></tr>\n",
       "</thead>\n",
       "<tbody>\n",
       "\t<tr><td>Chrom      </td><td>Chromosome                                                                                                   </td></tr>\n",
       "\t<tr><td>Start      </td><td>Start position                                                                                               </td></tr>\n",
       "\t<tr><td>End        </td><td>End position                                                                                                 </td></tr>\n",
       "\t<tr><td>Name       </td><td>Name given to a region                                                                                       </td></tr>\n",
       "\t<tr><td>Score      </td><td>Scaled IDR value, min(int(log2(-125IDR), 1000).                                                              </td></tr>\n",
       "\t<tr><td>Strand     </td><td>[+-.]; Use '.' if no strand is assigned.                                                                     </td></tr>\n",
       "\t<tr><td>SignalValue</td><td>Measurement of enrichment for the region for merged peaks.                                                   </td></tr>\n",
       "\t<tr><td>PValue     </td><td>Measurement of statistical significance (-log10). Use -1 if no pValue is assigned.                           </td></tr>\n",
       "\t<tr><td>QValue     </td><td>Measurement of statistical significance using false discovery rate (-log10). Use -1 if no qValue is assigned.</td></tr>\n",
       "\t<tr><td>Peak       </td><td>Point-source called for this peak; 0-based offset from chromStart. Use -1 if no point-source called.         </td></tr>\n",
       "</tbody>\n",
       "</table>\n"
      ],
      "text/latex": [
       "A spec\\_tbl\\_df: 10 × 2\n",
       "\\begin{tabular}{ll}\n",
       " Name & Description\\\\\n",
       " <chr> & <chr>\\\\\n",
       "\\hline\n",
       "\t Chrom       & Chromosome                                                                                                   \\\\\n",
       "\t Start       & Start position                                                                                               \\\\\n",
       "\t End         & End position                                                                                                 \\\\\n",
       "\t Name        & Name given to a region                                                                                       \\\\\n",
       "\t Score       & Scaled IDR value, min(int(log2(-125IDR), 1000).                                                              \\\\\n",
       "\t Strand      & {[}+-.{]}; Use '.' if no strand is assigned.                                                                     \\\\\n",
       "\t SignalValue & Measurement of enrichment for the region for merged peaks.                                                   \\\\\n",
       "\t PValue      & Measurement of statistical significance (-log10). Use -1 if no pValue is assigned.                           \\\\\n",
       "\t QValue      & Measurement of statistical significance using false discovery rate (-log10). Use -1 if no qValue is assigned.\\\\\n",
       "\t Peak        & Point-source called for this peak; 0-based offset from chromStart. Use -1 if no point-source called.         \\\\\n",
       "\\end{tabular}\n"
      ],
      "text/markdown": [
       "\n",
       "A spec_tbl_df: 10 × 2\n",
       "\n",
       "| Name &lt;chr&gt; | Description &lt;chr&gt; |\n",
       "|---|---|\n",
       "| Chrom       | Chromosome                                                                                                    |\n",
       "| Start       | Start position                                                                                                |\n",
       "| End         | End position                                                                                                  |\n",
       "| Name        | Name given to a region                                                                                        |\n",
       "| Score       | Scaled IDR value, min(int(log2(-125IDR), 1000).                                                               |\n",
       "| Strand      | [+-.]; Use '.' if no strand is assigned.                                                                      |\n",
       "| SignalValue | Measurement of enrichment for the region for merged peaks.                                                    |\n",
       "| PValue      | Measurement of statistical significance (-log10). Use -1 if no pValue is assigned.                            |\n",
       "| QValue      | Measurement of statistical significance using false discovery rate (-log10). Use -1 if no qValue is assigned. |\n",
       "| Peak        | Point-source called for this peak; 0-based offset from chromStart. Use -1 if no point-source called.          |\n",
       "\n"
      ],
      "text/plain": [
       "   Name       \n",
       "1  Chrom      \n",
       "2  Start      \n",
       "3  End        \n",
       "4  Name       \n",
       "5  Score      \n",
       "6  Strand     \n",
       "7  SignalValue\n",
       "8  PValue     \n",
       "9  QValue     \n",
       "10 Peak       \n",
       "   Description                                                                                                  \n",
       "1  Chromosome                                                                                                   \n",
       "2  Start position                                                                                               \n",
       "3  End position                                                                                                 \n",
       "4  Name given to a region                                                                                       \n",
       "5  Scaled IDR value, min(int(log2(-125IDR), 1000).                                                              \n",
       "6  [+-.]; Use '.' if no strand is assigned.                                                                     \n",
       "7  Measurement of enrichment for the region for merged peaks.                                                   \n",
       "8  Measurement of statistical significance (-log10). Use -1 if no pValue is assigned.                           \n",
       "9  Measurement of statistical significance using false discovery rate (-log10). Use -1 if no qValue is assigned.\n",
       "10 Point-source called for this peak; 0-based offset from chromStart. Use -1 if no point-source called.         "
      ]
     },
     "metadata": {},
     "output_type": "display_data"
    }
   ],
   "source": [
    "fdiry = file.path(\n",
    "    FD_RES, \n",
    "    \"results\", \n",
    "    \"region\", \n",
    "    \"annotation_chipseq_tf_subset\")\n",
    "fname = \"description.tsv\"\n",
    "fpath = file.path(fdiry, fname)\n",
    "\n",
    "dat = read_tsv(fpath)\n",
    "\n",
    "dat_cnames = dat\n",
    "print(dim(dat))\n",
    "dat"
   ]
  },
  {
   "cell_type": "code",
   "execution_count": 5,
   "metadata": {},
   "outputs": [
    {
     "name": "stdout",
     "output_type": "stream",
     "text": [
      "Read: YY1_ENCFF398UQZ \n",
      "Read: REST_ENCFF707MDI \n",
      "Read: JUN_ENCFF190CGV \n",
      "Read: GATA1_ENCFF657CTC \n",
      "Read: ELK1_ENCFF715WGN \n",
      "Read: EP300_ENCFF702XPO \n",
      "Read: CTCF_ENCFF660GHM \n",
      "Read: TAL1_ENCFF852ZRK \n",
      "Read: ZEB2_ENCFF242AOL \n",
      "Read: ATF1_ENCFF627RSK \n",
      "Read: KLF10_ENCFF142ZTD \n",
      "Read: POLR2A_ENCFF355MNE \n",
      "Read: NFE2_ENCFF023IFO \n",
      "Read: KLF16_ENCFF488OTN \n",
      "Read: SP1_ENCFF553GPK \n",
      "Read: NRF1_ENCFF777PKJ \n",
      "[1] 16\n"
     ]
    },
    {
     "data": {
      "text/html": [
       "<table class=\"dataframe\">\n",
       "<caption>A tibble: 6 × 17</caption>\n",
       "<thead>\n",
       "\t<tr><th scope=col>Chrom_ATAC</th><th scope=col>Start_ATAC</th><th scope=col>End_ATAC</th><th scope=col>Chrom</th><th scope=col>Start</th><th scope=col>End</th><th scope=col>Name</th><th scope=col>Score</th><th scope=col>Strand</th><th scope=col>SignalValue</th><th scope=col>PValue</th><th scope=col>QValue</th><th scope=col>Peak</th><th scope=col>Overlap</th><th scope=col>Peak_ATAC</th><th scope=col>Annotation</th><th scope=col>Label</th></tr>\n",
       "\t<tr><th scope=col>&lt;chr&gt;</th><th scope=col>&lt;dbl&gt;</th><th scope=col>&lt;dbl&gt;</th><th scope=col>&lt;chr&gt;</th><th scope=col>&lt;dbl&gt;</th><th scope=col>&lt;dbl&gt;</th><th scope=col>&lt;chr&gt;</th><th scope=col>&lt;dbl&gt;</th><th scope=col>&lt;chr&gt;</th><th scope=col>&lt;dbl&gt;</th><th scope=col>&lt;dbl&gt;</th><th scope=col>&lt;dbl&gt;</th><th scope=col>&lt;dbl&gt;</th><th scope=col>&lt;dbl&gt;</th><th scope=col>&lt;chr&gt;</th><th scope=col>&lt;chr&gt;</th><th scope=col>&lt;chr&gt;</th></tr>\n",
       "</thead>\n",
       "<tbody>\n",
       "\t<tr><td>chr1</td><td>777949</td><td>779437</td><td>chr1</td><td>778486</td><td>778776</td><td>.</td><td>1000</td><td>.</td><td>132.48683</td><td>-1</td><td>4.33080</td><td>136</td><td>290</td><td>chr1_777949_779437</td><td>ChIPseq_TF</td><td>YY1_ENCFF398UQZ</td></tr>\n",
       "\t<tr><td>chr1</td><td>903633</td><td>905556</td><td>chr1</td><td>904638</td><td>904883</td><td>.</td><td>1000</td><td>.</td><td> 75.95987</td><td>-1</td><td>4.33080</td><td>112</td><td>245</td><td>chr1_903633_905556</td><td>ChIPseq_TF</td><td>YY1_ENCFF398UQZ</td></tr>\n",
       "\t<tr><td>chr1</td><td>912650</td><td>914455</td><td>chr1</td><td>913032</td><td>913129</td><td>.</td><td>1000</td><td>.</td><td> 41.88374</td><td>-1</td><td>3.88398</td><td> 56</td><td> 97</td><td>chr1_912650_914455</td><td>ChIPseq_TF</td><td>YY1_ENCFF398UQZ</td></tr>\n",
       "\t<tr><td>chr1</td><td>920697</td><td>921526</td><td>chr1</td><td>921136</td><td>921238</td><td>.</td><td>1000</td><td>.</td><td> 50.33578</td><td>-1</td><td>4.33080</td><td> 62</td><td>102</td><td>chr1_920697_921526</td><td>ChIPseq_TF</td><td>YY1_ENCFF398UQZ</td></tr>\n",
       "\t<tr><td>chr1</td><td>923417</td><td>925194</td><td>chr1</td><td>923707</td><td>924017</td><td>.</td><td>1000</td><td>.</td><td> 34.69952</td><td>-1</td><td>3.76640</td><td>155</td><td>310</td><td>chr1_923417_925194</td><td>ChIPseq_TF</td><td>YY1_ENCFF398UQZ</td></tr>\n",
       "\t<tr><td>chr1</td><td>923417</td><td>925194</td><td>chr1</td><td>924711</td><td>925021</td><td>.</td><td> 634</td><td>.</td><td> 20.27464</td><td>-1</td><td>3.58222</td><td>155</td><td>310</td><td>chr1_923417_925194</td><td>ChIPseq_TF</td><td>YY1_ENCFF398UQZ</td></tr>\n",
       "</tbody>\n",
       "</table>\n"
      ],
      "text/latex": [
       "A tibble: 6 × 17\n",
       "\\begin{tabular}{lllllllllllllllll}\n",
       " Chrom\\_ATAC & Start\\_ATAC & End\\_ATAC & Chrom & Start & End & Name & Score & Strand & SignalValue & PValue & QValue & Peak & Overlap & Peak\\_ATAC & Annotation & Label\\\\\n",
       " <chr> & <dbl> & <dbl> & <chr> & <dbl> & <dbl> & <chr> & <dbl> & <chr> & <dbl> & <dbl> & <dbl> & <dbl> & <dbl> & <chr> & <chr> & <chr>\\\\\n",
       "\\hline\n",
       "\t chr1 & 777949 & 779437 & chr1 & 778486 & 778776 & . & 1000 & . & 132.48683 & -1 & 4.33080 & 136 & 290 & chr1\\_777949\\_779437 & ChIPseq\\_TF & YY1\\_ENCFF398UQZ\\\\\n",
       "\t chr1 & 903633 & 905556 & chr1 & 904638 & 904883 & . & 1000 & . &  75.95987 & -1 & 4.33080 & 112 & 245 & chr1\\_903633\\_905556 & ChIPseq\\_TF & YY1\\_ENCFF398UQZ\\\\\n",
       "\t chr1 & 912650 & 914455 & chr1 & 913032 & 913129 & . & 1000 & . &  41.88374 & -1 & 3.88398 &  56 &  97 & chr1\\_912650\\_914455 & ChIPseq\\_TF & YY1\\_ENCFF398UQZ\\\\\n",
       "\t chr1 & 920697 & 921526 & chr1 & 921136 & 921238 & . & 1000 & . &  50.33578 & -1 & 4.33080 &  62 & 102 & chr1\\_920697\\_921526 & ChIPseq\\_TF & YY1\\_ENCFF398UQZ\\\\\n",
       "\t chr1 & 923417 & 925194 & chr1 & 923707 & 924017 & . & 1000 & . &  34.69952 & -1 & 3.76640 & 155 & 310 & chr1\\_923417\\_925194 & ChIPseq\\_TF & YY1\\_ENCFF398UQZ\\\\\n",
       "\t chr1 & 923417 & 925194 & chr1 & 924711 & 925021 & . &  634 & . &  20.27464 & -1 & 3.58222 & 155 & 310 & chr1\\_923417\\_925194 & ChIPseq\\_TF & YY1\\_ENCFF398UQZ\\\\\n",
       "\\end{tabular}\n"
      ],
      "text/markdown": [
       "\n",
       "A tibble: 6 × 17\n",
       "\n",
       "| Chrom_ATAC &lt;chr&gt; | Start_ATAC &lt;dbl&gt; | End_ATAC &lt;dbl&gt; | Chrom &lt;chr&gt; | Start &lt;dbl&gt; | End &lt;dbl&gt; | Name &lt;chr&gt; | Score &lt;dbl&gt; | Strand &lt;chr&gt; | SignalValue &lt;dbl&gt; | PValue &lt;dbl&gt; | QValue &lt;dbl&gt; | Peak &lt;dbl&gt; | Overlap &lt;dbl&gt; | Peak_ATAC &lt;chr&gt; | Annotation &lt;chr&gt; | Label &lt;chr&gt; |\n",
       "|---|---|---|---|---|---|---|---|---|---|---|---|---|---|---|---|---|\n",
       "| chr1 | 777949 | 779437 | chr1 | 778486 | 778776 | . | 1000 | . | 132.48683 | -1 | 4.33080 | 136 | 290 | chr1_777949_779437 | ChIPseq_TF | YY1_ENCFF398UQZ |\n",
       "| chr1 | 903633 | 905556 | chr1 | 904638 | 904883 | . | 1000 | . |  75.95987 | -1 | 4.33080 | 112 | 245 | chr1_903633_905556 | ChIPseq_TF | YY1_ENCFF398UQZ |\n",
       "| chr1 | 912650 | 914455 | chr1 | 913032 | 913129 | . | 1000 | . |  41.88374 | -1 | 3.88398 |  56 |  97 | chr1_912650_914455 | ChIPseq_TF | YY1_ENCFF398UQZ |\n",
       "| chr1 | 920697 | 921526 | chr1 | 921136 | 921238 | . | 1000 | . |  50.33578 | -1 | 4.33080 |  62 | 102 | chr1_920697_921526 | ChIPseq_TF | YY1_ENCFF398UQZ |\n",
       "| chr1 | 923417 | 925194 | chr1 | 923707 | 924017 | . | 1000 | . |  34.69952 | -1 | 3.76640 | 155 | 310 | chr1_923417_925194 | ChIPseq_TF | YY1_ENCFF398UQZ |\n",
       "| chr1 | 923417 | 925194 | chr1 | 924711 | 925021 | . |  634 | . |  20.27464 | -1 | 3.58222 | 155 | 310 | chr1_923417_925194 | ChIPseq_TF | YY1_ENCFF398UQZ |\n",
       "\n"
      ],
      "text/plain": [
       "  Chrom_ATAC Start_ATAC End_ATAC Chrom Start  End    Name Score Strand\n",
       "1 chr1       777949     779437   chr1  778486 778776 .    1000  .     \n",
       "2 chr1       903633     905556   chr1  904638 904883 .    1000  .     \n",
       "3 chr1       912650     914455   chr1  913032 913129 .    1000  .     \n",
       "4 chr1       920697     921526   chr1  921136 921238 .    1000  .     \n",
       "5 chr1       923417     925194   chr1  923707 924017 .    1000  .     \n",
       "6 chr1       923417     925194   chr1  924711 925021 .     634  .     \n",
       "  SignalValue PValue QValue  Peak Overlap Peak_ATAC          Annotation\n",
       "1 132.48683   -1     4.33080 136  290     chr1_777949_779437 ChIPseq_TF\n",
       "2  75.95987   -1     4.33080 112  245     chr1_903633_905556 ChIPseq_TF\n",
       "3  41.88374   -1     3.88398  56   97     chr1_912650_914455 ChIPseq_TF\n",
       "4  50.33578   -1     4.33080  62  102     chr1_920697_921526 ChIPseq_TF\n",
       "5  34.69952   -1     3.76640 155  310     chr1_923417_925194 ChIPseq_TF\n",
       "6  20.27464   -1     3.58222 155  310     chr1_923417_925194 ChIPseq_TF\n",
       "  Label          \n",
       "1 YY1_ENCFF398UQZ\n",
       "2 YY1_ENCFF398UQZ\n",
       "3 YY1_ENCFF398UQZ\n",
       "4 YY1_ENCFF398UQZ\n",
       "5 YY1_ENCFF398UQZ\n",
       "6 YY1_ENCFF398UQZ"
      ]
     },
     "metadata": {},
     "output_type": "display_data"
    }
   ],
   "source": [
    "annotation = \"ChIPseq_TF\"\n",
    "cnames = dat_cnames$Name\n",
    "cnames = c(\"Chrom_ATAC\", \"Start_ATAC\", \"End_ATAC\", cnames, \"Overlap\")\n",
    "\n",
    "fdiry = file.path(\n",
    "    FD_RES, \n",
    "    \"results\", \n",
    "    \"region\", \n",
    "    \"KS91_K562_ASTARRseq_peak_macs_input\", \n",
    "    \"annotation_chipseq_tf_subset\")\n",
    "fnames = dir(fdiry)\n",
    "\n",
    "lst = str_split(string = fnames, pattern = \"\\\\.\")\n",
    "lst = lapply(lst, function(vec){\n",
    "    \n",
    "    ### parse info\n",
    "    index  = vec[5]\n",
    "    target = vec[6]\n",
    "    label  = paste(target, index, sep=\"_\")\n",
    "    \n",
    "    ### show progress\n",
    "    cat(\"Read:\", label, \"\\n\"); flush.console()\n",
    "    \n",
    "    ### set file path\n",
    "    fname = paste(\"*\", index, target, \"bed.gz\", sep = \".\")\n",
    "    fglob = file.path(fdiry, fname)\n",
    "    fpath = Sys.glob(fglob)\n",
    "    \n",
    "    ### read data\n",
    "    dat = read_tsv(fpath, col_names = cnames, show_col_types = FALSE)\n",
    "    dat = dat %>% dplyr::mutate(\n",
    "        Peak_ATAC  = paste(Chrom_ATAC, Start_ATAC, End_ATAC, sep=\"_\"),\n",
    "        #Peak_ATAC  = paste0(Chrom_ATAC, \":\", Start_ATAC, \"_\", End_ATAC),\n",
    "        Annotation = annotation,\n",
    "        Label      = label\n",
    "    )\n",
    "    return(dat)\n",
    "})\n",
    "\n",
    "lst_peak_annot = lst\n",
    "print(length(lst))\n",
    "head(lst[[1]])"
   ]
  },
  {
   "cell_type": "markdown",
   "metadata": {},
   "source": [
    "## Arrange and summarize"
   ]
  },
  {
   "cell_type": "code",
   "execution_count": 6,
   "metadata": {},
   "outputs": [
    {
     "name": "stdout",
     "output_type": "stream",
     "text": [
      "[1] 270491      4\n"
     ]
    },
    {
     "data": {
      "text/html": [
       "<table class=\"dataframe\">\n",
       "<caption>A tibble: 6 × 4</caption>\n",
       "<thead>\n",
       "\t<tr><th scope=col>Peak</th><th scope=col>Annotation</th><th scope=col>Label</th><th scope=col>Count</th></tr>\n",
       "\t<tr><th scope=col>&lt;chr&gt;</th><th scope=col>&lt;chr&gt;</th><th scope=col>&lt;chr&gt;</th><th scope=col>&lt;int&gt;</th></tr>\n",
       "</thead>\n",
       "<tbody>\n",
       "\t<tr><td>chr10_100009096_100010466</td><td>ChIPseq_TF</td><td>YY1_ENCFF398UQZ</td><td>1</td></tr>\n",
       "\t<tr><td>chr10_100185017_100187275</td><td>ChIPseq_TF</td><td>YY1_ENCFF398UQZ</td><td>1</td></tr>\n",
       "\t<tr><td>chr10_100228452_100230090</td><td>ChIPseq_TF</td><td>YY1_ENCFF398UQZ</td><td>1</td></tr>\n",
       "\t<tr><td>chr10_100267066_100268374</td><td>ChIPseq_TF</td><td>YY1_ENCFF398UQZ</td><td>1</td></tr>\n",
       "\t<tr><td>chr10_100285974_100287341</td><td>ChIPseq_TF</td><td>YY1_ENCFF398UQZ</td><td>2</td></tr>\n",
       "\t<tr><td>chr10_100346328_100347693</td><td>ChIPseq_TF</td><td>YY1_ENCFF398UQZ</td><td>1</td></tr>\n",
       "</tbody>\n",
       "</table>\n"
      ],
      "text/latex": [
       "A tibble: 6 × 4\n",
       "\\begin{tabular}{llll}\n",
       " Peak & Annotation & Label & Count\\\\\n",
       " <chr> & <chr> & <chr> & <int>\\\\\n",
       "\\hline\n",
       "\t chr10\\_100009096\\_100010466 & ChIPseq\\_TF & YY1\\_ENCFF398UQZ & 1\\\\\n",
       "\t chr10\\_100185017\\_100187275 & ChIPseq\\_TF & YY1\\_ENCFF398UQZ & 1\\\\\n",
       "\t chr10\\_100228452\\_100230090 & ChIPseq\\_TF & YY1\\_ENCFF398UQZ & 1\\\\\n",
       "\t chr10\\_100267066\\_100268374 & ChIPseq\\_TF & YY1\\_ENCFF398UQZ & 1\\\\\n",
       "\t chr10\\_100285974\\_100287341 & ChIPseq\\_TF & YY1\\_ENCFF398UQZ & 2\\\\\n",
       "\t chr10\\_100346328\\_100347693 & ChIPseq\\_TF & YY1\\_ENCFF398UQZ & 1\\\\\n",
       "\\end{tabular}\n"
      ],
      "text/markdown": [
       "\n",
       "A tibble: 6 × 4\n",
       "\n",
       "| Peak &lt;chr&gt; | Annotation &lt;chr&gt; | Label &lt;chr&gt; | Count &lt;int&gt; |\n",
       "|---|---|---|---|\n",
       "| chr10_100009096_100010466 | ChIPseq_TF | YY1_ENCFF398UQZ | 1 |\n",
       "| chr10_100185017_100187275 | ChIPseq_TF | YY1_ENCFF398UQZ | 1 |\n",
       "| chr10_100228452_100230090 | ChIPseq_TF | YY1_ENCFF398UQZ | 1 |\n",
       "| chr10_100267066_100268374 | ChIPseq_TF | YY1_ENCFF398UQZ | 1 |\n",
       "| chr10_100285974_100287341 | ChIPseq_TF | YY1_ENCFF398UQZ | 2 |\n",
       "| chr10_100346328_100347693 | ChIPseq_TF | YY1_ENCFF398UQZ | 1 |\n",
       "\n"
      ],
      "text/plain": [
       "  Peak                      Annotation Label           Count\n",
       "1 chr10_100009096_100010466 ChIPseq_TF YY1_ENCFF398UQZ 1    \n",
       "2 chr10_100185017_100187275 ChIPseq_TF YY1_ENCFF398UQZ 1    \n",
       "3 chr10_100228452_100230090 ChIPseq_TF YY1_ENCFF398UQZ 1    \n",
       "4 chr10_100267066_100268374 ChIPseq_TF YY1_ENCFF398UQZ 1    \n",
       "5 chr10_100285974_100287341 ChIPseq_TF YY1_ENCFF398UQZ 2    \n",
       "6 chr10_100346328_100347693 ChIPseq_TF YY1_ENCFF398UQZ 1    "
      ]
     },
     "metadata": {},
     "output_type": "display_data"
    }
   ],
   "source": [
    "lst = lst_peak_annot\n",
    "\n",
    "lst = lapply(lst, function(dat){\n",
    "    dat = dat %>% \n",
    "        dplyr::group_by(Peak_ATAC, Annotation, Label) %>%\n",
    "        dplyr::summarise(Count = n(), .groups = \"drop\")\n",
    "    return(dat)\n",
    "})\n",
    "\n",
    "dat = bind_rows(lst)\n",
    "dat = dat %>% dplyr::rename(\"Peak\" = \"Peak_ATAC\")\n",
    "\n",
    "dat_peak_annot_count = dat\n",
    "print(dim(dat))\n",
    "head(dat)"
   ]
  },
  {
   "cell_type": "code",
   "execution_count": 7,
   "metadata": {},
   "outputs": [],
   "source": [
    "fdiry = file.path(FD_RES, \"results\", \"region\", \"KS91_K562_ASTARRseq_peak_macs_input\", \"summary\")\n",
    "fname = \"peak.summary.chipseq_tf_subset.tsv\"\n",
    "fpath = file.path(fdiry, fname)\n",
    "\n",
    "dat = dat_peak_annot_count\n",
    "write_tsv(dat, fpath)"
   ]
  },
  {
   "cell_type": "code",
   "execution_count": null,
   "metadata": {},
   "outputs": [],
   "source": []
  },
  {
   "cell_type": "code",
   "execution_count": null,
   "metadata": {},
   "outputs": [],
   "source": []
  },
  {
   "cell_type": "code",
   "execution_count": null,
   "metadata": {},
   "outputs": [],
   "source": []
  },
  {
   "cell_type": "code",
   "execution_count": null,
   "metadata": {},
   "outputs": [],
   "source": []
  },
  {
   "cell_type": "code",
   "execution_count": null,
   "metadata": {},
   "outputs": [],
   "source": []
  }
 ],
 "metadata": {
  "kernelspec": {
   "display_name": "R (alex_py3)",
   "language": "R",
   "name": "ir_alex_py3"
  },
  "language_info": {
   "codemirror_mode": "r",
   "file_extension": ".r",
   "mimetype": "text/x-r-source",
   "name": "R",
   "pygments_lexer": "r",
   "version": "3.6.2"
  }
 },
 "nbformat": 4,
 "nbformat_minor": 4
}
