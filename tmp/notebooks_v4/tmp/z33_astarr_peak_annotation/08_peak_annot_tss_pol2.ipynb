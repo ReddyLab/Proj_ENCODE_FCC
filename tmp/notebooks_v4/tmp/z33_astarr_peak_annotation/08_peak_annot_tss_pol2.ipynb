{
 "cells": [
  {
   "cell_type": "code",
   "execution_count": 1,
   "id": "aefb5354-28f3-42cb-932d-1f0b3627626a",
   "metadata": {},
   "outputs": [
    {
     "name": "stdout",
     "output_type": "stream",
     "text": [
      "You are on Duke Server: HARDAC\n",
      "BASE DIRECTORY (FD_BASE): /data/reddylab/Kuei\n",
      "WORK DIRECTORY (FD_WORK): /data/reddylab/Kuei/out\n",
      "CODE DIRECTORY (FD_CODE): /data/reddylab/Kuei/code\n",
      "SING DIRECTORY (FD_SING): /data/reddylab/Kuei/singularity\n",
      "PATH OF PROJECT (FD_PRJ): /data/reddylab/Kuei/code/Proj_CombEffect_ENCODE_FCC\n",
      "PATH OF RESULTS (FD_RES): /data/reddylab/Kuei/out/proj_combeffect_encode_fcc\n",
      "PATH OF LOG     (FD_LOG): /data/reddylab/Kuei/out/proj_combeffect_encode_fcc/log\n",
      "\n"
     ]
    }
   ],
   "source": [
    "### set env\n",
    "source ../config/config_duke.sh\n",
    "source ../config/config_load_module_bedtools.sh\n",
    "show_env"
   ]
  },
  {
   "cell_type": "code",
   "execution_count": 2,
   "id": "f621f19e-817d-4d13-8483-83d34710c546",
   "metadata": {},
   "outputs": [
    {
     "name": "stdout",
     "output_type": "stream",
     "text": [
      "\u001b[0m\u001b[38;5;27mannotation_chipseq_histone\u001b[0m\n",
      "\u001b[38;5;27mannotation_chipseq_tf\u001b[0m\n",
      "\u001b[38;5;27mannotation_chipseq_tf_subset\u001b[0m\n",
      "\u001b[38;5;27mannotation_chromHMM\u001b[0m\n",
      "\u001b[38;5;27mannotation_crispri_hcrff\u001b[0m\n",
      "\u001b[38;5;27mannotation_enhancer_junke\u001b[0m\n",
      "\u001b[38;5;27mannotation_gencode\u001b[0m\n",
      "\u001b[38;5;27mannotation_hic\u001b[0m\n",
      "\u001b[38;5;27mannotation_tss_pol2\u001b[0m\n",
      "\u001b[38;5;27mhic_intact_loop\u001b[0m\n",
      "\u001b[38;5;27mKS91_K562_ASTARRseq_peak_macs_input\u001b[0m\n",
      "region_screened_crispri_flowfish.bed\n",
      "region_screened_selected.bed\n",
      "region_screened_selected_perbase.bed\n",
      "\u001b[38;5;9mregion_screened_selected_perbase.bed.gz\u001b[0m\n",
      "region_screened_tmpra.bed\n",
      "region_screened_tmpra_crispr.bed\n"
     ]
    }
   ],
   "source": [
    "ls -1 ${FD_RES}/results/region"
   ]
  },
  {
   "cell_type": "code",
   "execution_count": 3,
   "id": "bfb5febf-58fe-43d8-a447-f5a00ed6f35e",
   "metadata": {},
   "outputs": [
    {
     "name": "stdout",
     "output_type": "stream",
     "text": [
      "description.tsv\n",
      "K562.TSS.selected_by_highest_Pol2_signal.bed\n"
     ]
    }
   ],
   "source": [
    "ls -1 ${FD_RES}/results/region/annotation_tss_pol2"
   ]
  },
  {
   "cell_type": "markdown",
   "id": "ce270fc8-df11-4e04-be81-4a3e6a7c69e3",
   "metadata": {},
   "source": [
    "**RUN**"
   ]
  },
  {
   "cell_type": "code",
   "execution_count": 14,
   "id": "09f49cd5-62dc-4e3e-842e-8b80732bf652",
   "metadata": {},
   "outputs": [
    {
     "name": "stdout",
     "output_type": "stream",
     "text": [
      "Submitted batch job 29809698\n"
     ]
    }
   ],
   "source": [
    "sbatch -p ${NODE} \\\n",
    "    --exclude=dl-01 \\\n",
    "    --cpus-per-task 8 \\\n",
    "    --mem 4G \\\n",
    "    --output ${FD_LOG}/annotation_astarr_peak_macs_input_tss_pol2.%a.txt \\\n",
    "    --array 0 \\\n",
    "    <<'EOF'\n",
    "#!/bin/bash\n",
    "### set directories\n",
    "source ../config/config_duke.sh\n",
    "\n",
    "### print start message\n",
    "timer_start=`date +%s`\n",
    "echo \"Hostname:          \" $(hostname)\n",
    "echo \"Slurm Array Index: \" ${SLURM_ARRAY_TASK_ID}\n",
    "echo \"Time Stamp:        \" $(date +\"%m-%d-%y+%T\")\n",
    "echo\n",
    "\n",
    "### set input and output\n",
    "FD_INP=${FD_RES}/results/region/annotation_tss_pol2\n",
    "FN_INP=\"K562.TSS.selected_by_highest_Pol2_signal.bed\"\n",
    "FP_INP=${FD_INP}/${FN_INP}\n",
    "\n",
    "FD_REG=${FD_RES}/results/region/KS91_K562_ASTARRseq_peak_macs_input\n",
    "FN_REG=KS91_K562_hg38_ASTARRseq_Input.all_reps.masked.union_narrowPeak.q5.bed\n",
    "FP_REG=${FD_REG}/${FN_REG}\n",
    "\n",
    "FD_OUT=${FD_RES}/results/region/KS91_K562_ASTARRseq_peak_macs_input/annotation_tss_pol2\n",
    "FN_OUT=peak.annotation.${FN_INP}.gz\n",
    "FP_OUT=${FD_OUT}/${FN_OUT}\n",
    "\n",
    "### show I/O file\n",
    "echo \"Input: \" ${FP_REG}\n",
    "echo\n",
    "echo \"show first few lines of input\"\n",
    "cat ${FP_REG} | head -5\n",
    "echo\n",
    "echo \"Input: \" ${FP_INP}\n",
    "echo\n",
    "echo \"show first few lines of input\"\n",
    "cat ${FP_INP} | head -5\n",
    "echo\n",
    "\n",
    "### init: create output folder if not exist\n",
    "mkdir -p ${FD_OUT}\n",
    "\n",
    "### annotation using intersect\n",
    "bedtools intersect \\\n",
    "    -a ${FP_REG} \\\n",
    "    -b ${FP_INP} \\\n",
    "    -wo \\\n",
    "| gzip -c \\\n",
    "> ${FP_OUT}\n",
    "\n",
    "### show output file\n",
    "echo\n",
    "echo \"Output: \" ${FP_OUT}\n",
    "echo\n",
    "echo \"show first few lines of output:\"\n",
    "zcat ${FP_OUT} | head -5\n",
    "echo\n",
    "\n",
    "### print end message\n",
    "timer=`date +%s`\n",
    "runtime=$(echo \"${timer} - ${timer_start}\" | bc -l)\n",
    "echo\n",
    "echo 'Done!'\n",
    "echo \"Run Time: $(displaytime ${runtime})\"\n",
    "\n",
    "EOF"
   ]
  },
  {
   "cell_type": "markdown",
   "id": "40b71d1a-a380-4716-806f-26899d82d54a",
   "metadata": {},
   "source": [
    "**Check Results**"
   ]
  },
  {
   "cell_type": "code",
   "execution_count": 15,
   "id": "38ebaeab-bf49-4477-933d-96c309f9ba45",
   "metadata": {},
   "outputs": [
    {
     "name": "stdout",
     "output_type": "stream",
     "text": [
      "Hostname:           x2-06-2.genome.duke.edu\n",
      "Slurm Array Index:  0\n",
      "Time Stamp:         05-01-23+13:56:02\n",
      "\n",
      "Input:  /data/reddylab/Kuei/out/proj_combeffect_encode_fcc/results/region/KS91_K562_ASTARRseq_peak_macs_input/KS91_K562_hg38_ASTARRseq_Input.all_reps.masked.union_narrowPeak.q5.bed\n",
      "\n",
      "show first few lines of input\n",
      "chr1\t10015\t10442\n",
      "chr1\t14253\t14645\n",
      "chr1\t16015\t16477\n",
      "chr1\t17237\t17772\n",
      "chr1\t28903\t29613\n",
      "\n",
      "Input:  /data/reddylab/Kuei/out/proj_combeffect_encode_fcc/results/region/annotation_tss_pol2/K562.TSS.selected_by_highest_Pol2_signal.bed\n",
      "\n",
      "show first few lines of input\n",
      "chr19\t58351969\t58351970\tA1BG-AS1\t1.5218\n",
      "chr19\t58353492\t58353493\tA1BG\t5.62284\n",
      "chr10\t50885675\t50885676\tA1CF\t0.00706126\n",
      "chr12\t9065176\t9065177\tA2M-AS1\t0.00201544\n",
      "chr12\t9115919\t9115920\tA2M\t0.0400522\n",
      "\n",
      "\n",
      "Output:  /data/reddylab/Kuei/out/proj_combeffect_encode_fcc/results/region/KS91_K562_ASTARRseq_peak_macs_input/annotation_tss_pol2/peak.annotation.K562.TSS.selected_by_highest_Pol2_signal.bed.gz\n",
      "\n",
      "show first few lines of output:\n",
      "chr1\t17237\t17772\tchr1\t17436\t17437\tMIR6859-1\t9.43812\t1\n",
      "chr1\t17237\t17772\tchr1\t17436\t17437\tMIR6859-2\t9.43812\t1\n",
      "chr1\t17237\t17772\tchr1\t17436\t17437\tMIR6859-3\t9.43812\t1\n",
      "chr1\t17237\t17772\tchr1\t17436\t17437\tMIR6859-4\t9.43812\t1\n",
      "chr1\t28903\t29613\tchr1\t29370\t29371\tWASH7P\t2.3e-4\t1\n",
      "\n",
      "\n",
      "Done!\n",
      "Run Time: 0 seconds\n"
     ]
    }
   ],
   "source": [
    "cat ${FD_LOG}/annotation_astarr_peak_macs_input_tss_pol2.0.txt"
   ]
  },
  {
   "cell_type": "code",
   "execution_count": 10,
   "id": "34c514ab-496a-40d2-b891-d722d72c2f90",
   "metadata": {},
   "outputs": [
    {
     "name": "stdout",
     "output_type": "stream",
     "text": [
      "/data/reddylab/Kuei/out/proj_combeffect_encode_fcc/results/region/KS91_K562_ASTARRseq_peak_macs_input/annotation_tss_pol2/peak.annotation.K562.TSS.selected_by_highest_Pol2_signal.bed\n"
     ]
    }
   ],
   "source": [
    "ls /data/reddylab/Kuei/out/proj_combeffect_encode_fcc/results/region/KS91_K562_ASTARRseq_peak_macs_input/annotation_tss_pol2/peak.annotation.K562.TSS.selected_by_highest_Pol2_signal.bed"
   ]
  },
  {
   "cell_type": "code",
   "execution_count": 11,
   "id": "e82f4008-5a59-4c1d-b837-8cdc6343129e",
   "metadata": {},
   "outputs": [
    {
     "name": "stdout",
     "output_type": "stream",
     "text": [
      "chr1\t17237\t17772\tchr1\t17436\t17437\tMIR6859-1\t9.43812\t1\n",
      "chr1\t17237\t17772\tchr1\t17436\t17437\tMIR6859-2\t9.43812\t1\n",
      "chr1\t17237\t17772\tchr1\t17436\t17437\tMIR6859-3\t9.43812\t1\n",
      "chr1\t17237\t17772\tchr1\t17436\t17437\tMIR6859-4\t9.43812\t1\n",
      "chr1\t28903\t29613\tchr1\t29370\t29371\tWASH7P\t2.3e-4\t1\n",
      "chr1\t777949\t779437\tchr1\t778634\t778635\tLOC100288069\t230.561\t1\n",
      "chr1\t816774\t817547\tchr1\t817370\t817371\tFAM87B\t1.06609\t1\n",
      "chr1\t826754\t828040\tchr1\t827522\t827523\tLINC00115\t64.4656\t1\n",
      "chr1\t826754\t828040\tchr1\t827590\t827591\tLINC01128\t64.4603\t1\n",
      "chr1\t876474\t878030\tchr1\t876802\t876803\tFAM41C\t0.00788399\t1\n"
     ]
    }
   ],
   "source": [
    "zcat /data/reddylab/Kuei/out/proj_combeffect_encode_fcc/results/region/KS91_K562_ASTARRseq_peak_macs_input/annotation_tss_pol2/peak.annotation.K562.TSS.selected_by_highest_Pol2_signal.bed | head"
   ]
  },
  {
   "cell_type": "code",
   "execution_count": null,
   "id": "3ff6dfef-722c-431e-a3b2-9bd04b3276fc",
   "metadata": {},
   "outputs": [],
   "source": []
  }
 ],
 "metadata": {
  "kernelspec": {
   "display_name": "Bash",
   "language": "bash",
   "name": "bash"
  },
  "language_info": {
   "codemirror_mode": "shell",
   "file_extension": ".sh",
   "mimetype": "text/x-sh",
   "name": "bash"
  }
 },
 "nbformat": 4,
 "nbformat_minor": 5
}
