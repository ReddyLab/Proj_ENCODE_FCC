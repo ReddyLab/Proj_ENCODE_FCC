{
 "cells": [
  {
   "cell_type": "code",
   "execution_count": 1,
   "metadata": {},
   "outputs": [
    {
     "name": "stdout",
     "output_type": "stream",
     "text": [
      "You are in Singularity: singularity_proj_encode_fcc \n",
      "BASE DIRECTORY (FD_BASE): /data/reddylab/Kuei \n",
      "WORK DIRECTORY (FD_WORK): /data/reddylab/Kuei/out \n",
      "CODE DIRECTORY (FD_CODE): /data/reddylab/Kuei/code \n",
      "PATH OF PROJECT (FD_PRJ): /data/reddylab/Kuei/code/Proj_CombEffect_ENCODE_FCC \n",
      "PATH OF RESULTS (FD_RES): /data/reddylab/Kuei/out/proj_combeffect_encode_fcc \n",
      "PATH OF LOG     (FD_LOG): /data/reddylab/Kuei/out/proj_combeffect_encode_fcc/log \n"
     ]
    }
   ],
   "source": [
    "suppressWarnings(suppressMessages(source(\"../config/config_sing.R\")))\n",
    "show_env()"
   ]
  },
  {
   "cell_type": "markdown",
   "metadata": {},
   "source": [
    "## Peak"
   ]
  },
  {
   "cell_type": "code",
   "execution_count": 22,
   "metadata": {},
   "outputs": [
    {
     "name": "stdout",
     "output_type": "stream",
     "text": [
      "[1] 247520      6\n"
     ]
    },
    {
     "data": {
      "text/html": [
       "<table class=\"dataframe\">\n",
       "<caption>A tibble: 6 × 6</caption>\n",
       "<thead>\n",
       "\t<tr><th scope=col>Chrom</th><th scope=col>Start</th><th scope=col>End</th><th scope=col>Peak</th><th scope=col>Annotation</th><th scope=col>Label</th></tr>\n",
       "\t<tr><th scope=col>&lt;chr&gt;</th><th scope=col>&lt;dbl&gt;</th><th scope=col>&lt;dbl&gt;</th><th scope=col>&lt;chr&gt;</th><th scope=col>&lt;chr&gt;</th><th scope=col>&lt;chr&gt;</th></tr>\n",
       "</thead>\n",
       "<tbody>\n",
       "\t<tr><td>chr1</td><td>10015</td><td>10442</td><td>chr1_10015_10442</td><td>ATAC</td><td>OCR</td></tr>\n",
       "\t<tr><td>chr1</td><td>14253</td><td>14645</td><td>chr1_14253_14645</td><td>ATAC</td><td>OCR</td></tr>\n",
       "\t<tr><td>chr1</td><td>16015</td><td>16477</td><td>chr1_16015_16477</td><td>ATAC</td><td>OCR</td></tr>\n",
       "\t<tr><td>chr1</td><td>17237</td><td>17772</td><td>chr1_17237_17772</td><td>ATAC</td><td>OCR</td></tr>\n",
       "\t<tr><td>chr1</td><td>28903</td><td>29613</td><td>chr1_28903_29613</td><td>ATAC</td><td>OCR</td></tr>\n",
       "\t<tr><td>chr1</td><td>30803</td><td>31072</td><td>chr1_30803_31072</td><td>ATAC</td><td>OCR</td></tr>\n",
       "</tbody>\n",
       "</table>\n"
      ],
      "text/latex": [
       "A tibble: 6 × 6\n",
       "\\begin{tabular}{llllll}\n",
       " Chrom & Start & End & Peak & Annotation & Label\\\\\n",
       " <chr> & <dbl> & <dbl> & <chr> & <chr> & <chr>\\\\\n",
       "\\hline\n",
       "\t chr1 & 10015 & 10442 & chr1\\_10015\\_10442 & ATAC & OCR\\\\\n",
       "\t chr1 & 14253 & 14645 & chr1\\_14253\\_14645 & ATAC & OCR\\\\\n",
       "\t chr1 & 16015 & 16477 & chr1\\_16015\\_16477 & ATAC & OCR\\\\\n",
       "\t chr1 & 17237 & 17772 & chr1\\_17237\\_17772 & ATAC & OCR\\\\\n",
       "\t chr1 & 28903 & 29613 & chr1\\_28903\\_29613 & ATAC & OCR\\\\\n",
       "\t chr1 & 30803 & 31072 & chr1\\_30803\\_31072 & ATAC & OCR\\\\\n",
       "\\end{tabular}\n"
      ],
      "text/markdown": [
       "\n",
       "A tibble: 6 × 6\n",
       "\n",
       "| Chrom &lt;chr&gt; | Start &lt;dbl&gt; | End &lt;dbl&gt; | Peak &lt;chr&gt; | Annotation &lt;chr&gt; | Label &lt;chr&gt; |\n",
       "|---|---|---|---|---|---|\n",
       "| chr1 | 10015 | 10442 | chr1_10015_10442 | ATAC | OCR |\n",
       "| chr1 | 14253 | 14645 | chr1_14253_14645 | ATAC | OCR |\n",
       "| chr1 | 16015 | 16477 | chr1_16015_16477 | ATAC | OCR |\n",
       "| chr1 | 17237 | 17772 | chr1_17237_17772 | ATAC | OCR |\n",
       "| chr1 | 28903 | 29613 | chr1_28903_29613 | ATAC | OCR |\n",
       "| chr1 | 30803 | 31072 | chr1_30803_31072 | ATAC | OCR |\n",
       "\n"
      ],
      "text/plain": [
       "  Chrom Start End   Peak             Annotation Label\n",
       "1 chr1  10015 10442 chr1_10015_10442 ATAC       OCR  \n",
       "2 chr1  14253 14645 chr1_14253_14645 ATAC       OCR  \n",
       "3 chr1  16015 16477 chr1_16015_16477 ATAC       OCR  \n",
       "4 chr1  17237 17772 chr1_17237_17772 ATAC       OCR  \n",
       "5 chr1  28903 29613 chr1_28903_29613 ATAC       OCR  \n",
       "6 chr1  30803 31072 chr1_30803_31072 ATAC       OCR  "
      ]
     },
     "metadata": {},
     "output_type": "display_data"
    }
   ],
   "source": [
    "fdiry = file.path(FD_RES, \"results\", \"region\", \"KS91_K562_ASTARRseq_peak_macs_input\")\n",
    "fname = \"KS91_K562_hg38_ASTARRseq_Input.all_reps.masked.union_narrowPeak.q5.bed\"\n",
    "fpath = file.path(fdiry, fname)\n",
    "\n",
    "cnames = c(\"Chrom\", \"Start\", \"End\")\n",
    "dat = read_tsv(fpath, col_names = cnames, show_col_types = FALSE)\n",
    "dat = dat %>% \n",
    "    dplyr::mutate(Peak = paste(Chrom, Start, End, sep=\"_\")) %>%\n",
    "    dplyr::mutate(Annotation = \"ATAC\", Label = \"OCR\")\n",
    "\n",
    "dat_peak_atac_wgs = dat\n",
    "print(dim(dat))\n",
    "head(dat)"
   ]
  },
  {
   "cell_type": "markdown",
   "metadata": {},
   "source": [
    "## Enhancer"
   ]
  },
  {
   "cell_type": "code",
   "execution_count": 16,
   "metadata": {},
   "outputs": [
    {
     "name": "stdout",
     "output_type": "stream",
     "text": [
      "[1] 14856     5\n"
     ]
    },
    {
     "data": {
      "text/html": [
       "<table class=\"dataframe\">\n",
       "<caption>A tibble: 6 × 5</caption>\n",
       "<thead>\n",
       "\t<tr><th scope=col>Peak</th><th scope=col>Annotation</th><th scope=col>Label</th><th scope=col>Count</th><th scope=col>Note</th></tr>\n",
       "\t<tr><th scope=col>&lt;chr&gt;</th><th scope=col>&lt;chr&gt;</th><th scope=col>&lt;chr&gt;</th><th scope=col>&lt;dbl&gt;</th><th scope=col>&lt;chr&gt;</th></tr>\n",
       "</thead>\n",
       "<tbody>\n",
       "\t<tr><td>chr10_100185017_100187275</td><td>Enhancer</td><td>Enhancer_STARR</td><td>1</td><td>WSTARR       </td></tr>\n",
       "\t<tr><td>chr10_100346328_100347693</td><td>Enhancer</td><td>Enhancer_STARR</td><td>2</td><td>WSTARR|WSTARR</td></tr>\n",
       "\t<tr><td>chr10_100373060_100374238</td><td>Enhancer</td><td>Enhancer_STARR</td><td>2</td><td>WSTARR|WSTARR</td></tr>\n",
       "\t<tr><td>chr10_100528900_100530538</td><td>Enhancer</td><td>Enhancer_STARR</td><td>1</td><td>WSTARR       </td></tr>\n",
       "\t<tr><td>chr10_100535377_100536237</td><td>Enhancer</td><td>Enhancer_STARR</td><td>1</td><td>WSTARR       </td></tr>\n",
       "\t<tr><td>chr10_100912166_100913618</td><td>Enhancer</td><td>Enhancer_STARR</td><td>1</td><td>WSTARR       </td></tr>\n",
       "</tbody>\n",
       "</table>\n"
      ],
      "text/latex": [
       "A tibble: 6 × 5\n",
       "\\begin{tabular}{lllll}\n",
       " Peak & Annotation & Label & Count & Note\\\\\n",
       " <chr> & <chr> & <chr> & <dbl> & <chr>\\\\\n",
       "\\hline\n",
       "\t chr10\\_100185017\\_100187275 & Enhancer & Enhancer\\_STARR & 1 & WSTARR       \\\\\n",
       "\t chr10\\_100346328\\_100347693 & Enhancer & Enhancer\\_STARR & 2 & WSTARR\\textbar{}WSTARR\\\\\n",
       "\t chr10\\_100373060\\_100374238 & Enhancer & Enhancer\\_STARR & 2 & WSTARR\\textbar{}WSTARR\\\\\n",
       "\t chr10\\_100528900\\_100530538 & Enhancer & Enhancer\\_STARR & 1 & WSTARR       \\\\\n",
       "\t chr10\\_100535377\\_100536237 & Enhancer & Enhancer\\_STARR & 1 & WSTARR       \\\\\n",
       "\t chr10\\_100912166\\_100913618 & Enhancer & Enhancer\\_STARR & 1 & WSTARR       \\\\\n",
       "\\end{tabular}\n"
      ],
      "text/markdown": [
       "\n",
       "A tibble: 6 × 5\n",
       "\n",
       "| Peak &lt;chr&gt; | Annotation &lt;chr&gt; | Label &lt;chr&gt; | Count &lt;dbl&gt; | Note &lt;chr&gt; |\n",
       "|---|---|---|---|---|\n",
       "| chr10_100185017_100187275 | Enhancer | Enhancer_STARR | 1 | WSTARR        |\n",
       "| chr10_100346328_100347693 | Enhancer | Enhancer_STARR | 2 | WSTARR|WSTARR |\n",
       "| chr10_100373060_100374238 | Enhancer | Enhancer_STARR | 2 | WSTARR|WSTARR |\n",
       "| chr10_100528900_100530538 | Enhancer | Enhancer_STARR | 1 | WSTARR        |\n",
       "| chr10_100535377_100536237 | Enhancer | Enhancer_STARR | 1 | WSTARR        |\n",
       "| chr10_100912166_100913618 | Enhancer | Enhancer_STARR | 1 | WSTARR        |\n",
       "\n"
      ],
      "text/plain": [
       "  Peak                      Annotation Label          Count Note         \n",
       "1 chr10_100185017_100187275 Enhancer   Enhancer_STARR 1     WSTARR       \n",
       "2 chr10_100346328_100347693 Enhancer   Enhancer_STARR 2     WSTARR|WSTARR\n",
       "3 chr10_100373060_100374238 Enhancer   Enhancer_STARR 2     WSTARR|WSTARR\n",
       "4 chr10_100528900_100530538 Enhancer   Enhancer_STARR 1     WSTARR       \n",
       "5 chr10_100535377_100536237 Enhancer   Enhancer_STARR 1     WSTARR       \n",
       "6 chr10_100912166_100913618 Enhancer   Enhancer_STARR 1     WSTARR       "
      ]
     },
     "metadata": {},
     "output_type": "display_data"
    }
   ],
   "source": [
    "fdiry = file.path(FD_RES, \"results\", \"region\", \"KS91_K562_ASTARRseq_peak_macs_input\", \"summary\")\n",
    "fname = \"peak.summary.enhancer_zscore_junke_peak_starr.tsv\"\n",
    "fpath = file.path(fdiry, fname)\n",
    "\n",
    "dat = read_tsv(fpath, show_col_types = FALSE)\n",
    "dat = dat %>% dplyr::mutate(Label = \"Enhancer_STARR\")\n",
    "\n",
    "dat_peak_annot_enh_zscore = dat\n",
    "print(dim(dat))\n",
    "head(dat)"
   ]
  },
  {
   "cell_type": "markdown",
   "metadata": {},
   "source": [
    "## TSS-Pol2"
   ]
  },
  {
   "cell_type": "code",
   "execution_count": 3,
   "metadata": {},
   "outputs": [
    {
     "name": "stdout",
     "output_type": "stream",
     "text": [
      "[1] 6 2\n"
     ]
    },
    {
     "data": {
      "text/html": [
       "<table class=\"dataframe\">\n",
       "<caption>A spec_tbl_df: 6 × 2</caption>\n",
       "<thead>\n",
       "\t<tr><th scope=col>Name</th><th scope=col>Description</th></tr>\n",
       "\t<tr><th scope=col>&lt;chr&gt;</th><th scope=col>&lt;chr&gt;</th></tr>\n",
       "</thead>\n",
       "<tbody>\n",
       "\t<tr><td>Chrom</td><td>Chromosome     </td></tr>\n",
       "\t<tr><td>Start</td><td>Start position </td></tr>\n",
       "\t<tr><td>End  </td><td>End position   </td></tr>\n",
       "\t<tr><td>Name </td><td>Name           </td></tr>\n",
       "\t<tr><td>Score</td><td>Pol2 score     </td></tr>\n",
       "\t<tr><td>Gene </td><td>Gene of the TSS</td></tr>\n",
       "</tbody>\n",
       "</table>\n"
      ],
      "text/latex": [
       "A spec\\_tbl\\_df: 6 × 2\n",
       "\\begin{tabular}{ll}\n",
       " Name & Description\\\\\n",
       " <chr> & <chr>\\\\\n",
       "\\hline\n",
       "\t Chrom & Chromosome     \\\\\n",
       "\t Start & Start position \\\\\n",
       "\t End   & End position   \\\\\n",
       "\t Name  & Name           \\\\\n",
       "\t Score & Pol2 score     \\\\\n",
       "\t Gene  & Gene of the TSS\\\\\n",
       "\\end{tabular}\n"
      ],
      "text/markdown": [
       "\n",
       "A spec_tbl_df: 6 × 2\n",
       "\n",
       "| Name &lt;chr&gt; | Description &lt;chr&gt; |\n",
       "|---|---|\n",
       "| Chrom | Chromosome      |\n",
       "| Start | Start position  |\n",
       "| End   | End position    |\n",
       "| Name  | Name            |\n",
       "| Score | Pol2 score      |\n",
       "| Gene  | Gene of the TSS |\n",
       "\n"
      ],
      "text/plain": [
       "  Name  Description    \n",
       "1 Chrom Chromosome     \n",
       "2 Start Start position \n",
       "3 End   End position   \n",
       "4 Name  Name           \n",
       "5 Score Pol2 score     \n",
       "6 Gene  Gene of the TSS"
      ]
     },
     "metadata": {},
     "output_type": "display_data"
    }
   ],
   "source": [
    "fdiry = file.path(\n",
    "    FD_RES, \n",
    "    \"results\", \n",
    "    \"region\", \n",
    "    \"annotation_tss_pol2_span\")\n",
    "fname = \"description.tsv\"\n",
    "fpath = file.path(fdiry, fname)\n",
    "\n",
    "dat = read_tsv(fpath, show_col_types = FALSE)\n",
    "\n",
    "dat_cnames = dat\n",
    "print(dim(dat))\n",
    "dat"
   ]
  },
  {
   "cell_type": "code",
   "execution_count": 19,
   "metadata": {},
   "outputs": [
    {
     "name": "stdout",
     "output_type": "stream",
     "text": [
      "[1] 16234     4\n"
     ]
    },
    {
     "data": {
      "text/html": [
       "<table class=\"dataframe\">\n",
       "<caption>A tibble: 6 × 4</caption>\n",
       "<thead>\n",
       "\t<tr><th scope=col>Peak</th><th scope=col>Annotation</th><th scope=col>Label</th><th scope=col>Note</th></tr>\n",
       "\t<tr><th scope=col>&lt;chr&gt;</th><th scope=col>&lt;chr&gt;</th><th scope=col>&lt;chr&gt;</th><th scope=col>&lt;chr&gt;</th></tr>\n",
       "</thead>\n",
       "<tbody>\n",
       "\t<tr><td>chr1_30803_31072  </td><td>TSS-POL2</td><td>Proximal</td><td>chr1:30365-30366:0-1K  </td></tr>\n",
       "\t<tr><td>chr1_180982_182087</td><td>TSS-POL2</td><td>Proximal</td><td>chr1:182387-182388:0-1K</td></tr>\n",
       "\t<tr><td>chr1_777949_779437</td><td>TSS-POL2</td><td>Proximal</td><td>chr1:778634-778635:0-1K</td></tr>\n",
       "\t<tr><td>chr1_816774_817547</td><td>TSS-POL2</td><td>Proximal</td><td>chr1:817370-817371:0-1K</td></tr>\n",
       "\t<tr><td>chr1_817905_818348</td><td>TSS-POL2</td><td>Proximal</td><td>chr1:817370-817371:0-1K</td></tr>\n",
       "\t<tr><td>chr1_826754_828040</td><td>TSS-POL2</td><td>Proximal</td><td>chr1:827522-827523:0-1K</td></tr>\n",
       "</tbody>\n",
       "</table>\n"
      ],
      "text/latex": [
       "A tibble: 6 × 4\n",
       "\\begin{tabular}{llll}\n",
       " Peak & Annotation & Label & Note\\\\\n",
       " <chr> & <chr> & <chr> & <chr>\\\\\n",
       "\\hline\n",
       "\t chr1\\_30803\\_31072   & TSS-POL2 & Proximal & chr1:30365-30366:0-1K  \\\\\n",
       "\t chr1\\_180982\\_182087 & TSS-POL2 & Proximal & chr1:182387-182388:0-1K\\\\\n",
       "\t chr1\\_777949\\_779437 & TSS-POL2 & Proximal & chr1:778634-778635:0-1K\\\\\n",
       "\t chr1\\_816774\\_817547 & TSS-POL2 & Proximal & chr1:817370-817371:0-1K\\\\\n",
       "\t chr1\\_817905\\_818348 & TSS-POL2 & Proximal & chr1:817370-817371:0-1K\\\\\n",
       "\t chr1\\_826754\\_828040 & TSS-POL2 & Proximal & chr1:827522-827523:0-1K\\\\\n",
       "\\end{tabular}\n"
      ],
      "text/markdown": [
       "\n",
       "A tibble: 6 × 4\n",
       "\n",
       "| Peak &lt;chr&gt; | Annotation &lt;chr&gt; | Label &lt;chr&gt; | Note &lt;chr&gt; |\n",
       "|---|---|---|---|\n",
       "| chr1_30803_31072   | TSS-POL2 | Proximal | chr1:30365-30366:0-1K   |\n",
       "| chr1_180982_182087 | TSS-POL2 | Proximal | chr1:182387-182388:0-1K |\n",
       "| chr1_777949_779437 | TSS-POL2 | Proximal | chr1:778634-778635:0-1K |\n",
       "| chr1_816774_817547 | TSS-POL2 | Proximal | chr1:817370-817371:0-1K |\n",
       "| chr1_817905_818348 | TSS-POL2 | Proximal | chr1:817370-817371:0-1K |\n",
       "| chr1_826754_828040 | TSS-POL2 | Proximal | chr1:827522-827523:0-1K |\n",
       "\n"
      ],
      "text/plain": [
       "  Peak               Annotation Label    Note                   \n",
       "1 chr1_30803_31072   TSS-POL2   Proximal chr1:30365-30366:0-1K  \n",
       "2 chr1_180982_182087 TSS-POL2   Proximal chr1:182387-182388:0-1K\n",
       "3 chr1_777949_779437 TSS-POL2   Proximal chr1:778634-778635:0-1K\n",
       "4 chr1_816774_817547 TSS-POL2   Proximal chr1:817370-817371:0-1K\n",
       "5 chr1_817905_818348 TSS-POL2   Proximal chr1:817370-817371:0-1K\n",
       "6 chr1_826754_828040 TSS-POL2   Proximal chr1:827522-827523:0-1K"
      ]
     },
     "metadata": {},
     "output_type": "display_data"
    }
   ],
   "source": [
    "###\n",
    "fdiry = file.path(\n",
    "    FD_RES, \n",
    "    \"results\", \n",
    "    \"region\", \n",
    "    \"KS91_K562_ASTARRseq_peak_macs_input\", \n",
    "    \"annotation_tss_pol2_span\")\n",
    "\n",
    "fname = \"peak.annotation.K562.TSS.highest_Pol2.0_1K.bed.gz\"\n",
    "fpath = file.path(fdiry, fname)\n",
    "\n",
    "\n",
    "### read data\n",
    "cnames = dat_cnames$Name\n",
    "cnames = c(\"Chrom_ATAC\", \"Start_ATAC\", \"End_ATAC\", cnames, \"Overlap\")\n",
    "dat = read_tsv(fpath, col_names = cnames, show_col_types = FALSE)\n",
    "\n",
    "### \n",
    "dat = dat %>% \n",
    "    dplyr::mutate(\n",
    "        Peak_ATAC  = paste(Chrom_ATAC, Start_ATAC, End_ATAC, sep=\"_\"),\n",
    "        Annotation = \"TSS-POL2\",\n",
    "        Label      = \"Proximal\",\n",
    "        Note       = Name\n",
    "    ) %>%\n",
    "    dplyr::mutate(Note = str_remove(Note, fixed(\":+\"))) %>%\n",
    "    dplyr::mutate(Note = str_remove(Note, fixed(\":-\")))\n",
    "\n",
    "dat = dat %>% \n",
    "    dplyr::select(Peak_ATAC, Annotation, Label, Note) %>% \n",
    "    dplyr::rename(\"Peak\" = \"Peak_ATAC\") %>%\n",
    "    dplyr::distinct()\n",
    "\n",
    "dat_peak_annot_tss_pol2_span = dat\n",
    "print(dim(dat))\n",
    "head(dat)"
   ]
  },
  {
   "cell_type": "markdown",
   "metadata": {},
   "source": [
    "## Start labeling"
   ]
  },
  {
   "cell_type": "code",
   "execution_count": 31,
   "metadata": {},
   "outputs": [
    {
     "name": "stdout",
     "output_type": "stream",
     "text": [
      "Proximal \n",
      "Enhancer_STARR \n",
      "[1] 247520      5\n"
     ]
    },
    {
     "data": {
      "text/html": [
       "<table class=\"dataframe\">\n",
       "<caption>A tibble: 6 × 5</caption>\n",
       "<thead>\n",
       "\t<tr><th scope=col>Chrom</th><th scope=col>Start</th><th scope=col>End</th><th scope=col>Peak</th><th scope=col>Label</th></tr>\n",
       "\t<tr><th scope=col>&lt;chr&gt;</th><th scope=col>&lt;dbl&gt;</th><th scope=col>&lt;dbl&gt;</th><th scope=col>&lt;chr&gt;</th><th scope=col>&lt;chr&gt;</th></tr>\n",
       "</thead>\n",
       "<tbody>\n",
       "\t<tr><td>chr1</td><td>10015</td><td>10442</td><td>chr1_10015_10442</td><td>OCR         </td></tr>\n",
       "\t<tr><td>chr1</td><td>14253</td><td>14645</td><td>chr1_14253_14645</td><td>OCR         </td></tr>\n",
       "\t<tr><td>chr1</td><td>16015</td><td>16477</td><td>chr1_16015_16477</td><td>OCR         </td></tr>\n",
       "\t<tr><td>chr1</td><td>17237</td><td>17772</td><td>chr1_17237_17772</td><td>OCR         </td></tr>\n",
       "\t<tr><td>chr1</td><td>28903</td><td>29613</td><td>chr1_28903_29613</td><td>OCR         </td></tr>\n",
       "\t<tr><td>chr1</td><td>30803</td><td>31072</td><td>chr1_30803_31072</td><td>OCR:Proximal</td></tr>\n",
       "</tbody>\n",
       "</table>\n"
      ],
      "text/latex": [
       "A tibble: 6 × 5\n",
       "\\begin{tabular}{lllll}\n",
       " Chrom & Start & End & Peak & Label\\\\\n",
       " <chr> & <dbl> & <dbl> & <chr> & <chr>\\\\\n",
       "\\hline\n",
       "\t chr1 & 10015 & 10442 & chr1\\_10015\\_10442 & OCR         \\\\\n",
       "\t chr1 & 14253 & 14645 & chr1\\_14253\\_14645 & OCR         \\\\\n",
       "\t chr1 & 16015 & 16477 & chr1\\_16015\\_16477 & OCR         \\\\\n",
       "\t chr1 & 17237 & 17772 & chr1\\_17237\\_17772 & OCR         \\\\\n",
       "\t chr1 & 28903 & 29613 & chr1\\_28903\\_29613 & OCR         \\\\\n",
       "\t chr1 & 30803 & 31072 & chr1\\_30803\\_31072 & OCR:Proximal\\\\\n",
       "\\end{tabular}\n"
      ],
      "text/markdown": [
       "\n",
       "A tibble: 6 × 5\n",
       "\n",
       "| Chrom &lt;chr&gt; | Start &lt;dbl&gt; | End &lt;dbl&gt; | Peak &lt;chr&gt; | Label &lt;chr&gt; |\n",
       "|---|---|---|---|---|\n",
       "| chr1 | 10015 | 10442 | chr1_10015_10442 | OCR          |\n",
       "| chr1 | 14253 | 14645 | chr1_14253_14645 | OCR          |\n",
       "| chr1 | 16015 | 16477 | chr1_16015_16477 | OCR          |\n",
       "| chr1 | 17237 | 17772 | chr1_17237_17772 | OCR          |\n",
       "| chr1 | 28903 | 29613 | chr1_28903_29613 | OCR          |\n",
       "| chr1 | 30803 | 31072 | chr1_30803_31072 | OCR:Proximal |\n",
       "\n"
      ],
      "text/plain": [
       "  Chrom Start End   Peak             Label       \n",
       "1 chr1  10015 10442 chr1_10015_10442 OCR         \n",
       "2 chr1  14253 14645 chr1_14253_14645 OCR         \n",
       "3 chr1  16015 16477 chr1_16015_16477 OCR         \n",
       "4 chr1  17237 17772 chr1_17237_17772 OCR         \n",
       "5 chr1  28903 29613 chr1_28903_29613 OCR         \n",
       "6 chr1  30803 31072 chr1_30803_31072 OCR:Proximal"
      ]
     },
     "metadata": {},
     "output_type": "display_data"
    }
   ],
   "source": [
    "dat = dat_peak_atac_wgs \n",
    "dat = dat %>% dplyr::select(Chrom, Start, End, Peak, Label)\n",
    "\n",
    "lst = list(dat_peak_annot_tss_pol2_span, dat_peak_annot_enh_zscore)\n",
    "for (dat_annot in lst){\n",
    "    vec = dat_annot$Peak\n",
    "    lab = unique(dat_annot$Label)\n",
    "    \n",
    "    cat(lab, \"\\n\")\n",
    "    dat = dat %>% \n",
    "        dplyr::mutate(\n",
    "            Label = ifelse(\n",
    "                Peak %in% vec,\n",
    "                paste(Label, lab, sep=\":\"),\n",
    "                Label\n",
    "            )\n",
    "        )\n",
    "}\n",
    "\n",
    "dat_peak_label = dat\n",
    "print(dim(dat))\n",
    "head(dat)"
   ]
  },
  {
   "cell_type": "code",
   "execution_count": 32,
   "metadata": {},
   "outputs": [
    {
     "data": {
      "text/plain": [
       "\n",
       "                        OCR          OCR:Enhancer_STARR \n",
       "                     223469                       10026 \n",
       "               OCR:Proximal OCR:Proximal:Enhancer_STARR \n",
       "                       9195                        4830 "
      ]
     },
     "metadata": {},
     "output_type": "display_data"
    }
   ],
   "source": [
    "dat = dat_peak_label\n",
    "table(dat$Label)"
   ]
  },
  {
   "cell_type": "code",
   "execution_count": 38,
   "metadata": {},
   "outputs": [
    {
     "data": {
      "image/png": "[encoded data removed]",
      "text/plain": [
       "plot without title"
      ]
     },
     "metadata": {
      "image/png": {
       "height": 420,
       "width": 420
      }
     },
     "output_type": "display_data"
    }
   ],
   "source": [
    "dat = dat_peak_label\n",
    "dat = as.data.frame(table(dat$Label))\n",
    "\n",
    "gpt = ggplot(dat, aes(x=Var1, y=Freq)) +\n",
    "    geom_col() +\n",
    "    labs(x=\"Label\", y=\"Count\") +\n",
    "    theme_cowplot() +\n",
    "    theme(axis.text.x = element_text(angle=90, hjust=1, vjust=0.5))\n",
    "\n",
    "print(gpt)"
   ]
  },
  {
   "cell_type": "code",
   "execution_count": null,
   "metadata": {},
   "outputs": [],
   "source": []
  }
 ],
 "metadata": {
  "kernelspec": {
   "display_name": "R",
   "language": "R",
   "name": "ir"
  },
  "language_info": {
   "codemirror_mode": "r",
   "file_extension": ".r",
   "mimetype": "text/x-r-source",
   "name": "R",
   "pygments_lexer": "r",
   "version": "4.3.0"
  }
 },
 "nbformat": 4,
 "nbformat_minor": 4
}
