{
 "cells": [
  {
   "cell_type": "markdown",
   "id": "d4975e93-46af-457d-accb-d8ad4383aa0d",
   "metadata": {},
   "source": [
    "**Set environment**"
   ]
  },
  {
   "cell_type": "code",
   "execution_count": 1,
   "id": "287dd913-fef2-4cd2-896b-90170f7428b3",
   "metadata": {},
   "outputs": [
    {
     "name": "stdout",
     "output_type": "stream",
     "text": [
      "You are on Duke Server: HARDAC\n",
      "BASE DIRECTORY (FD_BASE): /data/reddylab/Kuei\n",
      "WORK DIRECTORY (FD_WORK): /data/reddylab/Kuei/out\n",
      "CODE DIRECTORY (FD_CODE): /data/reddylab/Kuei/code\n",
      "SING DIRECTORY (FD_SING): /data/reddylab/Kuei/singularity\n",
      "PATH OF PROJECT (FD_PRJ): /data/reddylab/Kuei/code/Proj_CombEffect_ENCODE_FCC\n",
      "PATH OF RESULTS (FD_RES): /data/reddylab/Kuei/out/proj_combeffect_encode_fcc\n",
      "PATH OF LOG     (FD_LOG): /data/reddylab/Kuei/out/proj_combeffect_encode_fcc/log\n",
      "\n"
     ]
    }
   ],
   "source": [
    "### set env\n",
    "source ../config/config_duke.sh\n",
    "source ../config/config_load_module_bedtools.sh\n",
    "show_env"
   ]
  },
  {
   "cell_type": "markdown",
   "id": "00876178-266f-47a9-88d8-cb7640e975ba",
   "metadata": {},
   "source": [
    "**Check data**"
   ]
  },
  {
   "cell_type": "code",
   "execution_count": 2,
   "id": "c943d646-882f-4ac9-9102-218a47519c33",
   "metadata": {},
   "outputs": [
    {
     "name": "stdout",
     "output_type": "stream",
     "text": [
      "accession_info_peaks.tsv\n",
      "description.tsv\n",
      "\u001b[0m\u001b[38;5;34mdownload.sh\u001b[0m\n",
      "\u001b[38;5;9mK562.ENCSR000AKP.ENCFF544LXB.H3K27ac.bed.gz\u001b[0m\n",
      "\u001b[38;5;9mK562.ENCSR000AKQ.ENCFF323WOT.H3K27me3.bed.gz\u001b[0m\n",
      "\u001b[38;5;9mK562.ENCSR000AKR.ENCFF193ERO.H3K36me3.bed.gz\u001b[0m\n",
      "\u001b[38;5;9mK562.ENCSR000AKS.ENCFF135ZLM.H3K4me1.bed.gz\u001b[0m\n",
      "\u001b[38;5;9mK562.ENCSR000AKT.ENCFF749KLQ.H3K4me2.bed.gz\u001b[0m\n",
      "\u001b[38;5;9mK562.ENCSR000AKU.ENCFF689QIJ.H3K4me3.bed.gz\u001b[0m\n",
      "\u001b[38;5;9mK562.ENCSR000AKV.ENCFF891CHI.H3K9ac.bed.gz\u001b[0m\n",
      "\u001b[38;5;9mK562.ENCSR000AKW.ENCFF462AVD.H3K9me1.bed.gz\u001b[0m\n",
      "\u001b[38;5;9mK562.ENCSR000AKX.ENCFF909RKY.H4K20me1.bed.gz\u001b[0m\n",
      "\u001b[38;5;9mK562.ENCSR000APC.ENCFF213OTI.H2AFZ.bed.gz\u001b[0m\n",
      "\u001b[38;5;9mK562.ENCSR000APD.ENCFF209OQD.H3K79me2.bed.gz\u001b[0m\n",
      "\u001b[38;5;9mK562.ENCSR000APE.ENCFF963GZJ.H3K9me3.bed.gz\u001b[0m\n",
      "\u001b[38;5;9mK562.ENCSR000DWB.ENCFF561OUZ.H3K36me3.bed.gz\u001b[0m\n",
      "\u001b[38;5;9mK562.ENCSR000DWD.ENCFF706WUF.H3K4me3.bed.gz\u001b[0m\n",
      "\u001b[38;5;9mK562.ENCSR000EVZ.ENCFF148UQI.H3K9ac.bed.gz\u001b[0m\n",
      "\u001b[38;5;9mK562.ENCSR000EWA.ENCFF122CSI.H3K4me3.bed.gz\u001b[0m\n",
      "\u001b[38;5;9mK562.ENCSR000EWB.ENCFF801AHF.H3K27me3.bed.gz\u001b[0m\n",
      "\u001b[38;5;9mK562.ENCSR000EWC.ENCFF540NGG.H3K4me1.bed.gz\u001b[0m\n",
      "\u001b[38;5;9mK562.ENCSR668LDD.ENCFF885FQN.H3K4me3.bed.gz\u001b[0m\n"
     ]
    }
   ],
   "source": [
    "ls -1 ${FD_RES}/results/region/annotation_chipseq_histone"
   ]
  },
  {
   "cell_type": "code",
   "execution_count": 3,
   "id": "461866a9-1b84-44ec-850f-6a4c4bd5adf1",
   "metadata": {},
   "outputs": [
    {
     "name": "stdout",
     "output_type": "stream",
     "text": [
      "19\n",
      "K562.ENCSR000AKP.ENCFF544LXB.H3K27ac.bed.gz\n",
      "K562.ENCSR000AKQ.ENCFF323WOT.H3K27me3.bed.gz\n",
      "K562.ENCSR000AKR.ENCFF193ERO.H3K36me3.bed.gz\n",
      "K562.ENCSR000AKS.ENCFF135ZLM.H3K4me1.bed.gz\n",
      "K562.ENCSR000AKT.ENCFF749KLQ.H3K4me2.bed.gz\n",
      "K562.ENCSR000AKU.ENCFF689QIJ.H3K4me3.bed.gz\n",
      "K562.ENCSR000AKV.ENCFF891CHI.H3K9ac.bed.gz\n",
      "K562.ENCSR000AKW.ENCFF462AVD.H3K9me1.bed.gz\n",
      "K562.ENCSR000AKX.ENCFF909RKY.H4K20me1.bed.gz\n",
      "K562.ENCSR000APC.ENCFF213OTI.H2AFZ.bed.gz\n",
      "K562.ENCSR000APD.ENCFF209OQD.H3K79me2.bed.gz\n",
      "K562.ENCSR000APE.ENCFF963GZJ.H3K9me3.bed.gz\n",
      "K562.ENCSR000DWB.ENCFF561OUZ.H3K36me3.bed.gz\n",
      "K562.ENCSR000DWD.ENCFF706WUF.H3K4me3.bed.gz\n",
      "K562.ENCSR000EVZ.ENCFF148UQI.H3K9ac.bed.gz\n",
      "K562.ENCSR000EWA.ENCFF122CSI.H3K4me3.bed.gz\n",
      "K562.ENCSR000EWB.ENCFF801AHF.H3K27me3.bed.gz\n",
      "K562.ENCSR000EWC.ENCFF540NGG.H3K4me1.bed.gz\n",
      "K562.ENCSR668LDD.ENCFF885FQN.H3K4me3.bed.gz\n"
     ]
    }
   ],
   "source": [
    "FD_INP=${FD_RES}/results/region/annotation_chipseq_histone\n",
    "FP_INPS=($(ls ${FD_INP}/K562.*.bed.gz))\n",
    "\n",
    "echo ${#FP_INPS[@]}\n",
    "basename -a ${FP_INPS[@]}"
   ]
  },
  {
   "cell_type": "code",
   "execution_count": 4,
   "id": "46be9648-f454-49d8-8f59-5610efac5d39",
   "metadata": {},
   "outputs": [
    {
     "name": "stdout",
     "output_type": "stream",
     "text": [
      "chr1\t118751\t119101\tPeak_29282\t111\t.\t5.05870\t11.17124\t9.08295\t187\n",
      "chr1\t120082\t120287\tPeak_29283\t111\t.\t4.92747\t11.17124\t9.08295\t171\n",
      "chr1\t137650\t138169\tPeak_16228\t317\t.\t9.24885\t31.74444\t29.32013\t338\n",
      "chr1\t138356\t139236\tPeak_19531\t228\t.\t7.55215\t22.82356\t20.52066\t178\n",
      "chr1\t139285\t139490\tPeak_33716\t88\t.\t4.27130\t8.85756\t6.82864\t172\n",
      "chr1\t777712\t778823\tPeak_6597\t939\t.\t19.33186\t93.91751\t90.86520\t823\n",
      "chr1\t778887\t779412\tPeak_16912\t296\t.\t8.99031\t29.63080\t27.23310\t306\n",
      "chr1\t826565\t827901\tPeak_8064\t783\t.\t17.13224\t78.32069\t75.40894\t869\n",
      "chr1\t904427\t905189\tPeak_20746\t205\t.\t6.90387\t20.59898\t18.33118\t515\n",
      "chr1\t958526\t959284\tPeak_18429\t254\t.\t5.37920\t25.40607\t23.06551\t348\n"
     ]
    }
   ],
   "source": [
    "FD_INP=${FD_RES}/results/region/annotation_chipseq_histone\n",
    "FN_INP=K562.ENCSR000AKP.ENCFF544LXB.H3K27ac.bed.gz\n",
    "FP_INP=${FD_INP}/${FN_INP}\n",
    "\n",
    "zcat ${FP_INP} | head"
   ]
  },
  {
   "cell_type": "markdown",
   "id": "f57be7ab-9269-49c2-ba66-473358129a63",
   "metadata": {},
   "source": [
    "**RUN**"
   ]
  },
  {
   "cell_type": "code",
   "execution_count": 11,
   "id": "30767dd2-6ed6-46a3-adc4-8894def84306",
   "metadata": {},
   "outputs": [
    {
     "name": "stdout",
     "output_type": "stream",
     "text": [
      "Submitted batch job 29810986\n"
     ]
    }
   ],
   "source": [
    "sbatch -p ${NODE} \\\n",
    "    --exclude=dl-01 \\\n",
    "    --cpus-per-task 8 \\\n",
    "    --mem 8G \\\n",
    "    --output ${FD_LOG}/annotation_astarr_peak_macs_input_chipseq_histone.%a.txt \\\n",
    "    --array 0-18 \\\n",
    "    <<'EOF'\n",
    "#!/bin/bash\n",
    "### set directories\n",
    "source ../config/config_duke.sh\n",
    "\n",
    "### print start message\n",
    "timer_start=`date +%s`\n",
    "echo \"Hostname:          \" $(hostname)\n",
    "echo \"Slurm Array Index: \" ${SLURM_ARRAY_TASK_ID}\n",
    "echo \"Time Stamp:        \" $(date +\"%m-%d-%y+%T\")\n",
    "echo\n",
    "\n",
    "### set input and output\n",
    "FD_INP=${FD_RES}/results/region/annotation_chipseq_histone\n",
    "FP_INPS=($(ls ${FD_INP}/K562.*.bed.gz))\n",
    "FP_INP=${FP_INPS[SLURM_ARRAY_TASK_ID]}\n",
    "FN_INP=$(basename ${FP_INP})\n",
    "\n",
    "FD_REG=${FD_RES}/results/region/KS91_K562_ASTARRseq_peak_macs_input\n",
    "FN_REG=KS91_K562_hg38_ASTARRseq_Input.all_reps.masked.union_narrowPeak.q5.bed\n",
    "FP_REG=${FD_REG}/${FN_REG}\n",
    "\n",
    "FD_OUT=${FD_RES}/results/region/KS91_K562_ASTARRseq_peak_macs_input/annotation_chipseq_histone\n",
    "FN_OUT=peak.annotation.${FN_INP}\n",
    "FP_OUT=${FD_OUT}/${FN_OUT}\n",
    "\n",
    "### show I/O file\n",
    "echo \"Input: \" ${FP_REG}\n",
    "echo\n",
    "echo \"show first few lines of input\"\n",
    "cat ${FP_REG} | head -5\n",
    "echo\n",
    "echo \"Input: \" ${FP_INP}\n",
    "echo\n",
    "echo \"show first few lines of input\"\n",
    "zcat ${FP_INP} | head -5\n",
    "echo\n",
    "\n",
    "### init: create output folder if not exist\n",
    "mkdir -p ${FD_OUT}\n",
    "\n",
    "### annotation using intersect\n",
    "bedtools intersect \\\n",
    "    -a ${FP_REG} \\\n",
    "    -b ${FP_INP} \\\n",
    "    -wo \\\n",
    "    -f 0.7 \\\n",
    "    -F 0.7 \\\n",
    "    -e \\\n",
    "| gzip -c \\\n",
    "> ${FP_OUT}\n",
    "\n",
    "### show output file\n",
    "echo\n",
    "echo \"Output: \" ${FP_OUT}\n",
    "echo\n",
    "echo \"show first few lines of output:\"\n",
    "zcat ${FP_OUT} | head -5\n",
    "echo\n",
    "\n",
    "### print end message\n",
    "timer=`date +%s`\n",
    "runtime=$(echo \"${timer} - ${timer_start}\" | bc -l)\n",
    "echo\n",
    "echo 'Done!'\n",
    "echo \"Run Time: $(displaytime ${runtime})\"\n",
    "\n",
    "EOF"
   ]
  },
  {
   "cell_type": "markdown",
   "id": "1cabf1e3-92ef-48f6-aaee-c2cae3ade01c",
   "metadata": {},
   "source": [
    "**Check results**"
   ]
  },
  {
   "cell_type": "code",
   "execution_count": 12,
   "id": "5eef5a64-cdbd-4a2b-b528-31456268866a",
   "metadata": {},
   "outputs": [
    {
     "name": "stdout",
     "output_type": "stream",
     "text": [
      "Hostname:           x1-01-3.genome.duke.edu\n",
      "Slurm Array Index:  0\n",
      "Time Stamp:         05-04-23+14:22:54\n",
      "\n",
      "Input:  /data/reddylab/Kuei/out/proj_combeffect_encode_fcc/results/region/KS91_K562_ASTARRseq_peak_macs_input/KS91_K562_hg38_ASTARRseq_Input.all_reps.masked.union_narrowPeak.q5.bed\n",
      "\n",
      "show first few lines of input\n",
      "chr1\t10015\t10442\n",
      "chr1\t14253\t14645\n",
      "chr1\t16015\t16477\n",
      "chr1\t17237\t17772\n",
      "chr1\t28903\t29613\n",
      "\n",
      "Input:  /data/reddylab/Kuei/out/proj_combeffect_encode_fcc/results/region/annotation_chipseq_histone/K562.ENCSR000AKP.ENCFF544LXB.H3K27ac.bed.gz\n",
      "\n",
      "show first few lines of input\n",
      "chr1\t118751\t119101\tPeak_29282\t111\t.\t5.05870\t11.17124\t9.08295\t187\n",
      "chr1\t120082\t120287\tPeak_29283\t111\t.\t4.92747\t11.17124\t9.08295\t171\n",
      "chr1\t137650\t138169\tPeak_16228\t317\t.\t9.24885\t31.74444\t29.32013\t338\n",
      "chr1\t138356\t139236\tPeak_19531\t228\t.\t7.55215\t22.82356\t20.52066\t178\n",
      "chr1\t139285\t139490\tPeak_33716\t88\t.\t4.27130\t8.85756\t6.82864\t172\n",
      "\n",
      "\n",
      "Output:  /data/reddylab/Kuei/out/proj_combeffect_encode_fcc/results/region/KS91_K562_ASTARRseq_peak_macs_input/annotation_chipseq_histone/peak.annotation.K562.ENCSR000AKP.ENCFF544LXB.H3K27ac.bed.gz\n",
      "\n",
      "show first few lines of output:\n",
      "chr1\t137737\t139544\tchr1\t137650\t138169\tPeak_16228\t317\t.\t9.24885\t31.74444\t29.32013\t338\t432\n",
      "chr1\t137737\t139544\tchr1\t138356\t139236\tPeak_19531\t228\t.\t7.55215\t22.82356\t20.52066\t178\t880\n",
      "chr1\t137737\t139544\tchr1\t139285\t139490\tPeak_33716\t88\t.\t4.27130\t8.85756\t6.82864\t172\t205\n",
      "chr1\t777949\t779437\tchr1\t777712\t778823\tPeak_6597\t939\t.\t19.33186\t93.91751\t90.86520\t823\t874\n",
      "chr1\t777949\t779437\tchr1\t778887\t779412\tPeak_16912\t296\t.\t8.99031\t29.63080\t27.23310\t306\t525\n",
      "\n",
      "\n",
      "Done!\n",
      "Run Time: 0 seconds\n"
     ]
    }
   ],
   "source": [
    "cat ${FD_LOG}/annotation_astarr_peak_macs_input_chipseq_histone.0.txt"
   ]
  },
  {
   "cell_type": "code",
   "execution_count": 13,
   "id": "6e371c60-8f30-489e-ac06-226d741afcef",
   "metadata": {},
   "outputs": [
    {
     "name": "stdout",
     "output_type": "stream",
     "text": [
      "Hostname:           x1-02-2.genome.duke.edu\n",
      "Slurm Array Index:  18\n",
      "Time Stamp:         05-04-23+14:22:54\n",
      "\n",
      "Input:  /data/reddylab/Kuei/out/proj_combeffect_encode_fcc/results/region/KS91_K562_ASTARRseq_peak_macs_input/KS91_K562_hg38_ASTARRseq_Input.all_reps.masked.union_narrowPeak.q5.bed\n",
      "\n",
      "show first few lines of input\n",
      "chr1\t10015\t10442\n",
      "chr1\t14253\t14645\n",
      "chr1\t16015\t16477\n",
      "chr1\t17237\t17772\n",
      "chr1\t28903\t29613\n",
      "\n",
      "Input:  /data/reddylab/Kuei/out/proj_combeffect_encode_fcc/results/region/annotation_chipseq_histone/K562.ENCSR668LDD.ENCFF885FQN.H3K4me3.bed.gz\n",
      "\n",
      "show first few lines of input\n",
      "chr1\t137611\t138186\tPeak_11639\t868\t.\t17.17918\t86.81271\t84.40081\t199\n",
      "chr1\t138333\t139668\tPeak_13836\t392\t.\t10.05165\t39.23344\t36.98688\t859\n",
      "chr1\t777481\t780024\tPeak_8178\t1000\t.\t35.08939\t233.59062\t230.75691\t1621\n",
      "chr1\t825575\t826429\tPeak_16217\t190\t.\t4.61296\t19.01589\t16.87489\t277\n",
      "chr1\t826512\t827941\tPeak_8944\t1000\t.\t31.25149\t199.79292\t197.06018\t919\n",
      "\n",
      "\n",
      "Output:  /data/reddylab/Kuei/out/proj_combeffect_encode_fcc/results/region/KS91_K562_ASTARRseq_peak_macs_input/annotation_chipseq_histone/peak.annotation.K562.ENCSR668LDD.ENCFF885FQN.H3K4me3.bed.gz\n",
      "\n",
      "show first few lines of output:\n",
      "chr1\t137737\t139544\tchr1\t137611\t138186\tPeak_11639\t868\t.\t17.17918\t86.81271\t84.40081\t199\t449\n",
      "chr1\t137737\t139544\tchr1\t138333\t139668\tPeak_13836\t392\t.\t10.05165\t39.23344\t36.98688\t859\t1211\n",
      "chr1\t777949\t779437\tchr1\t777481\t780024\tPeak_8178\t1000\t.\t35.08939\t233.59062\t230.75691\t1621\t1488\n",
      "chr1\t826754\t828040\tchr1\t826512\t827941\tPeak_8944\t1000\t.\t31.25149\t199.79292\t197.06018\t919\t1187\n",
      "chr1\t869623\t870250\tchr1\t869712\t870217\tPeak_18688\t107\t.\t4.56893\t10.78949\t8.71444\t293\t505\n",
      "\n",
      "\n",
      "Done!\n",
      "Run Time: 0 seconds\n"
     ]
    }
   ],
   "source": [
    "cat ${FD_LOG}/annotation_astarr_peak_macs_input_chipseq_histone.18.txt"
   ]
  },
  {
   "cell_type": "code",
   "execution_count": null,
   "id": "cf6261f2-d876-4ae3-8886-7620d51950d2",
   "metadata": {},
   "outputs": [],
   "source": []
  }
 ],
 "metadata": {
  "kernelspec": {
   "display_name": "Bash",
   "language": "bash",
   "name": "bash"
  },
  "language_info": {
   "codemirror_mode": "shell",
   "file_extension": ".sh",
   "mimetype": "text/x-sh",
   "name": "bash"
  }
 },
 "nbformat": 4,
 "nbformat_minor": 5
}
