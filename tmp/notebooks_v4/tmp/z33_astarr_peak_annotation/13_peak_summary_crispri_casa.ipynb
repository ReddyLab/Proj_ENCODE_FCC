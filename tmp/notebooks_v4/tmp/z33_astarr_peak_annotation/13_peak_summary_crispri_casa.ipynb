{
 "cells": [
  {
   "cell_type": "markdown",
   "metadata": {},
   "source": [
    "**Set environment**"
   ]
  },
  {
   "cell_type": "code",
   "execution_count": 1,
   "metadata": {},
   "outputs": [
    {
     "name": "stdout",
     "output_type": "stream",
     "text": [
      "You are in Singularity: singularity_proj_encode_fcc \n",
      "BASE DIRECTORY (FD_BASE): /data/reddylab/Kuei \n",
      "WORK DIRECTORY (FD_WORK): /data/reddylab/Kuei/out \n",
      "CODE DIRECTORY (FD_CODE): /data/reddylab/Kuei/code \n",
      "PATH OF PROJECT (FD_PRJ): /data/reddylab/Kuei/code/Proj_CombEffect_ENCODE_FCC \n",
      "PATH OF RESULTS (FD_RES): /data/reddylab/Kuei/out/proj_combeffect_encode_fcc \n",
      "PATH OF LOG     (FD_LOG): /data/reddylab/Kuei/out/proj_combeffect_encode_fcc/log \n"
     ]
    }
   ],
   "source": [
    "suppressMessages(suppressWarnings(source(\"../config/config_sing.R\")))\n",
    "show_env()"
   ]
  },
  {
   "cell_type": "markdown",
   "metadata": {},
   "source": [
    "**Check data**"
   ]
  },
  {
   "cell_type": "code",
   "execution_count": 3,
   "metadata": {},
   "outputs": [
    {
     "data": {
      "text/html": [
       "'peak.annotation.crispri_casa_peak.bed.gz'"
      ],
      "text/latex": [
       "'peak.annotation.crispri\\_casa\\_peak.bed.gz'"
      ],
      "text/markdown": [
       "'peak.annotation.crispri_casa_peak.bed.gz'"
      ],
      "text/plain": [
       "[1] \"peak.annotation.crispri_casa_peak.bed.gz\""
      ]
     },
     "metadata": {},
     "output_type": "display_data"
    }
   ],
   "source": [
    "fdiry = file.path(\n",
    "    FD_RES, \n",
    "    \"results\", \n",
    "    \"region\", \n",
    "    \"KS91_K562_ASTARRseq_peak_macs_input\", \n",
    "    \"annotation_crispri_hcrff\")\n",
    "dir(fdiry)"
   ]
  },
  {
   "cell_type": "code",
   "execution_count": 4,
   "metadata": {},
   "outputs": [
    {
     "data": {
      "text/html": [
       "<style>\n",
       ".list-inline {list-style: none; margin:0; padding: 0}\n",
       ".list-inline>li {display: inline-block}\n",
       ".list-inline>li:not(:last-child)::after {content: \"\\00b7\"; padding: 0 .5ex}\n",
       "</style>\n",
       "<ol class=list-inline><li>'crispri_casa_peak.bed'</li><li>'crispri_casa_peak.tsv'</li><li>'crispri_gene_tss.tsv'</li><li>'description.tsv'</li><li>'K562_HCRFF_20genes_TSS_TES_coords.tsv'</li></ol>\n"
      ],
      "text/latex": [
       "\\begin{enumerate*}\n",
       "\\item 'crispri\\_casa\\_peak.bed'\n",
       "\\item 'crispri\\_casa\\_peak.tsv'\n",
       "\\item 'crispri\\_gene\\_tss.tsv'\n",
       "\\item 'description.tsv'\n",
       "\\item 'K562\\_HCRFF\\_20genes\\_TSS\\_TES\\_coords.tsv'\n",
       "\\end{enumerate*}\n"
      ],
      "text/markdown": [
       "1. 'crispri_casa_peak.bed'\n",
       "2. 'crispri_casa_peak.tsv'\n",
       "3. 'crispri_gene_tss.tsv'\n",
       "4. 'description.tsv'\n",
       "5. 'K562_HCRFF_20genes_TSS_TES_coords.tsv'\n",
       "\n",
       "\n"
      ],
      "text/plain": [
       "[1] \"crispri_casa_peak.bed\"                \n",
       "[2] \"crispri_casa_peak.tsv\"                \n",
       "[3] \"crispri_gene_tss.tsv\"                 \n",
       "[4] \"description.tsv\"                      \n",
       "[5] \"K562_HCRFF_20genes_TSS_TES_coords.tsv\""
      ]
     },
     "metadata": {},
     "output_type": "display_data"
    }
   ],
   "source": [
    "fdiry = file.path(\n",
    "    FD_RES, \n",
    "    \"results\", \n",
    "    \"region\", \n",
    "    \"annotation_crispri_hcrff\")\n",
    "dir(fdiry)"
   ]
  },
  {
   "cell_type": "markdown",
   "metadata": {},
   "source": [
    "## Import data"
   ]
  },
  {
   "cell_type": "code",
   "execution_count": 10,
   "metadata": {},
   "outputs": [
    {
     "name": "stderr",
     "output_type": "stream",
     "text": [
      "\u001b[1mRows: \u001b[22m\u001b[34m8\u001b[39m \u001b[1mColumns: \u001b[22m\u001b[34m2\u001b[39m\n",
      "\u001b[36m──\u001b[39m \u001b[1mColumn specification\u001b[22m \u001b[36m─────────────────────────────────────────────────────────────────────\u001b[39m\n",
      "\u001b[1mDelimiter:\u001b[22m \"\\t\"\n",
      "\u001b[31mchr\u001b[39m (2): Name, Description\n",
      "\n",
      "\u001b[36mℹ\u001b[39m Use `spec()` to retrieve the full column specification for this data.\n",
      "\u001b[36mℹ\u001b[39m Specify the column types or set `show_col_types = FALSE` to quiet this message.\n"
     ]
    },
    {
     "name": "stdout",
     "output_type": "stream",
     "text": [
      "[1] 8 2\n"
     ]
    },
    {
     "data": {
      "text/html": [
       "<table class=\"dataframe\">\n",
       "<caption>A spec_tbl_df: 8 × 2</caption>\n",
       "<thead>\n",
       "\t<tr><th scope=col>Name</th><th scope=col>Description</th></tr>\n",
       "\t<tr><th scope=col>&lt;chr&gt;</th><th scope=col>&lt;chr&gt;</th></tr>\n",
       "</thead>\n",
       "<tbody>\n",
       "\t<tr><td>Chrom      </td><td>Chromosome                                                 </td></tr>\n",
       "\t<tr><td>Start      </td><td>Start position                                             </td></tr>\n",
       "\t<tr><td>End        </td><td>End position                                               </td></tr>\n",
       "\t<tr><td>Name       </td><td>Name                                                       </td></tr>\n",
       "\t<tr><td>Score      </td><td>Score                                                      </td></tr>\n",
       "\t<tr><td>Strand     </td><td>[+-.]; Use '.' if no strand is assigned.                   </td></tr>\n",
       "\t<tr><td>Gene_Symbol</td><td>Gene symbol;     Gene that is screened for CRISPRi-FlowFish</td></tr>\n",
       "\t<tr><td>Gene_ENS   </td><td>Gene Ensembl ID; Gene that is screened for CRISPRi-FlowFish</td></tr>\n",
       "</tbody>\n",
       "</table>\n"
      ],
      "text/latex": [
       "A spec\\_tbl\\_df: 8 × 2\n",
       "\\begin{tabular}{ll}\n",
       " Name & Description\\\\\n",
       " <chr> & <chr>\\\\\n",
       "\\hline\n",
       "\t Chrom       & Chromosome                                                 \\\\\n",
       "\t Start       & Start position                                             \\\\\n",
       "\t End         & End position                                               \\\\\n",
       "\t Name        & Name                                                       \\\\\n",
       "\t Score       & Score                                                      \\\\\n",
       "\t Strand      & {[}+-.{]}; Use '.' if no strand is assigned.                   \\\\\n",
       "\t Gene\\_Symbol & Gene symbol;     Gene that is screened for CRISPRi-FlowFish\\\\\n",
       "\t Gene\\_ENS    & Gene Ensembl ID; Gene that is screened for CRISPRi-FlowFish\\\\\n",
       "\\end{tabular}\n"
      ],
      "text/markdown": [
       "\n",
       "A spec_tbl_df: 8 × 2\n",
       "\n",
       "| Name &lt;chr&gt; | Description &lt;chr&gt; |\n",
       "|---|---|\n",
       "| Chrom       | Chromosome                                                  |\n",
       "| Start       | Start position                                              |\n",
       "| End         | End position                                                |\n",
       "| Name        | Name                                                        |\n",
       "| Score       | Score                                                       |\n",
       "| Strand      | [+-.]; Use '.' if no strand is assigned.                    |\n",
       "| Gene_Symbol | Gene symbol;     Gene that is screened for CRISPRi-FlowFish |\n",
       "| Gene_ENS    | Gene Ensembl ID; Gene that is screened for CRISPRi-FlowFish |\n",
       "\n"
      ],
      "text/plain": [
       "  Name        Description                                                \n",
       "1 Chrom       Chromosome                                                 \n",
       "2 Start       Start position                                             \n",
       "3 End         End position                                               \n",
       "4 Name        Name                                                       \n",
       "5 Score       Score                                                      \n",
       "6 Strand      [+-.]; Use '.' if no strand is assigned.                   \n",
       "7 Gene_Symbol Gene symbol;     Gene that is screened for CRISPRi-FlowFish\n",
       "8 Gene_ENS    Gene Ensembl ID; Gene that is screened for CRISPRi-FlowFish"
      ]
     },
     "metadata": {},
     "output_type": "display_data"
    }
   ],
   "source": [
    "folder = \"annotation_crispri_hcrff\"\n",
    "fdiry  = file.path(FD_RES, \"results\", \"region\", folder)\n",
    "fname = \"description.tsv\"\n",
    "fpath = file.path(fdiry, fname)\n",
    "\n",
    "dat = read_tsv(fpath)\n",
    "\n",
    "dat_cnames = dat\n",
    "print(dim(dat))\n",
    "dat"
   ]
  },
  {
   "cell_type": "code",
   "execution_count": 12,
   "metadata": {},
   "outputs": [
    {
     "name": "stdout",
     "output_type": "stream",
     "text": [
      "[1] 87 15\n"
     ]
    },
    {
     "data": {
      "text/html": [
       "<table class=\"dataframe\">\n",
       "<caption>A tibble: 6 × 15</caption>\n",
       "<thead>\n",
       "\t<tr><th scope=col>Chrom_ATAC</th><th scope=col>Start_ATAC</th><th scope=col>End_ATAC</th><th scope=col>Chrom</th><th scope=col>Start</th><th scope=col>End</th><th scope=col>Name</th><th scope=col>Score</th><th scope=col>Strand</th><th scope=col>Gene_Symbol</th><th scope=col>Gene_ENS</th><th scope=col>Overlap</th><th scope=col>Peak_ATAC</th><th scope=col>Annotation</th><th scope=col>Label</th></tr>\n",
       "\t<tr><th scope=col>&lt;chr&gt;</th><th scope=col>&lt;dbl&gt;</th><th scope=col>&lt;dbl&gt;</th><th scope=col>&lt;chr&gt;</th><th scope=col>&lt;dbl&gt;</th><th scope=col>&lt;dbl&gt;</th><th scope=col>&lt;chr&gt;</th><th scope=col>&lt;dbl&gt;</th><th scope=col>&lt;chr&gt;</th><th scope=col>&lt;chr&gt;</th><th scope=col>&lt;chr&gt;</th><th scope=col>&lt;dbl&gt;</th><th scope=col>&lt;chr&gt;</th><th scope=col>&lt;chr&gt;</th><th scope=col>&lt;chr&gt;</th></tr>\n",
       "</thead>\n",
       "<tbody>\n",
       "\t<tr><td>chr11</td><td>5249943</td><td>5250880</td><td>chr11</td><td>5249847</td><td>5250847</td><td>chr11:5249847-5250847</td><td>1.890890</td><td>.</td><td>HBG1</td><td>ENST00000330597.5</td><td> 904</td><td>chr11_5249943_5250880</td><td>CRISPRi_HCRFF</td><td>CASA</td></tr>\n",
       "\t<tr><td>chr11</td><td>5249943</td><td>5250880</td><td>chr11</td><td>5249847</td><td>5250847</td><td>chr11:5249847-5250847</td><td>1.922956</td><td>.</td><td>HBG2</td><td>ENST00000336906.6</td><td> 904</td><td>chr11_5249943_5250880</td><td>CRISPRi_HCRFF</td><td>CASA</td></tr>\n",
       "\t<tr><td>chr11</td><td>5254190</td><td>5254453</td><td>chr11</td><td>5253647</td><td>5254647</td><td>chr11:5253647-5254647</td><td>1.504404</td><td>.</td><td>HBG1</td><td>ENST00000330597.5</td><td> 263</td><td>chr11_5254190_5254453</td><td>CRISPRi_HCRFF</td><td>CASA</td></tr>\n",
       "\t<tr><td>chr11</td><td>5254190</td><td>5254453</td><td>chr11</td><td>5253647</td><td>5254647</td><td>chr11:5253647-5254647</td><td>1.430535</td><td>.</td><td>HBG2</td><td>ENST00000336906.6</td><td> 263</td><td>chr11_5254190_5254453</td><td>CRISPRi_HCRFF</td><td>CASA</td></tr>\n",
       "\t<tr><td>chr11</td><td>5269440</td><td>5270695</td><td>chr11</td><td>5269147</td><td>5271147</td><td>chr11:5269147-5271147</td><td>1.906478</td><td>.</td><td>HBE1</td><td>ENST00000336906.6</td><td>1255</td><td>chr11_5269440_5270695</td><td>CRISPRi_HCRFF</td><td>CASA</td></tr>\n",
       "\t<tr><td>chr11</td><td>5275424</td><td>5276195</td><td>chr11</td><td>5275847</td><td>5276247</td><td>chr11:5275847-5276247</td><td>1.173871</td><td>.</td><td>HBG1</td><td>ENST00000330597.5</td><td> 348</td><td>chr11_5275424_5276195</td><td>CRISPRi_HCRFF</td><td>CASA</td></tr>\n",
       "</tbody>\n",
       "</table>\n"
      ],
      "text/latex": [
       "A tibble: 6 × 15\n",
       "\\begin{tabular}{lllllllllllllll}\n",
       " Chrom\\_ATAC & Start\\_ATAC & End\\_ATAC & Chrom & Start & End & Name & Score & Strand & Gene\\_Symbol & Gene\\_ENS & Overlap & Peak\\_ATAC & Annotation & Label\\\\\n",
       " <chr> & <dbl> & <dbl> & <chr> & <dbl> & <dbl> & <chr> & <dbl> & <chr> & <chr> & <chr> & <dbl> & <chr> & <chr> & <chr>\\\\\n",
       "\\hline\n",
       "\t chr11 & 5249943 & 5250880 & chr11 & 5249847 & 5250847 & chr11:5249847-5250847 & 1.890890 & . & HBG1 & ENST00000330597.5 &  904 & chr11\\_5249943\\_5250880 & CRISPRi\\_HCRFF & CASA\\\\\n",
       "\t chr11 & 5249943 & 5250880 & chr11 & 5249847 & 5250847 & chr11:5249847-5250847 & 1.922956 & . & HBG2 & ENST00000336906.6 &  904 & chr11\\_5249943\\_5250880 & CRISPRi\\_HCRFF & CASA\\\\\n",
       "\t chr11 & 5254190 & 5254453 & chr11 & 5253647 & 5254647 & chr11:5253647-5254647 & 1.504404 & . & HBG1 & ENST00000330597.5 &  263 & chr11\\_5254190\\_5254453 & CRISPRi\\_HCRFF & CASA\\\\\n",
       "\t chr11 & 5254190 & 5254453 & chr11 & 5253647 & 5254647 & chr11:5253647-5254647 & 1.430535 & . & HBG2 & ENST00000336906.6 &  263 & chr11\\_5254190\\_5254453 & CRISPRi\\_HCRFF & CASA\\\\\n",
       "\t chr11 & 5269440 & 5270695 & chr11 & 5269147 & 5271147 & chr11:5269147-5271147 & 1.906478 & . & HBE1 & ENST00000336906.6 & 1255 & chr11\\_5269440\\_5270695 & CRISPRi\\_HCRFF & CASA\\\\\n",
       "\t chr11 & 5275424 & 5276195 & chr11 & 5275847 & 5276247 & chr11:5275847-5276247 & 1.173871 & . & HBG1 & ENST00000330597.5 &  348 & chr11\\_5275424\\_5276195 & CRISPRi\\_HCRFF & CASA\\\\\n",
       "\\end{tabular}\n"
      ],
      "text/markdown": [
       "\n",
       "A tibble: 6 × 15\n",
       "\n",
       "| Chrom_ATAC &lt;chr&gt; | Start_ATAC &lt;dbl&gt; | End_ATAC &lt;dbl&gt; | Chrom &lt;chr&gt; | Start &lt;dbl&gt; | End &lt;dbl&gt; | Name &lt;chr&gt; | Score &lt;dbl&gt; | Strand &lt;chr&gt; | Gene_Symbol &lt;chr&gt; | Gene_ENS &lt;chr&gt; | Overlap &lt;dbl&gt; | Peak_ATAC &lt;chr&gt; | Annotation &lt;chr&gt; | Label &lt;chr&gt; |\n",
       "|---|---|---|---|---|---|---|---|---|---|---|---|---|---|---|\n",
       "| chr11 | 5249943 | 5250880 | chr11 | 5249847 | 5250847 | chr11:5249847-5250847 | 1.890890 | . | HBG1 | ENST00000330597.5 |  904 | chr11_5249943_5250880 | CRISPRi_HCRFF | CASA |\n",
       "| chr11 | 5249943 | 5250880 | chr11 | 5249847 | 5250847 | chr11:5249847-5250847 | 1.922956 | . | HBG2 | ENST00000336906.6 |  904 | chr11_5249943_5250880 | CRISPRi_HCRFF | CASA |\n",
       "| chr11 | 5254190 | 5254453 | chr11 | 5253647 | 5254647 | chr11:5253647-5254647 | 1.504404 | . | HBG1 | ENST00000330597.5 |  263 | chr11_5254190_5254453 | CRISPRi_HCRFF | CASA |\n",
       "| chr11 | 5254190 | 5254453 | chr11 | 5253647 | 5254647 | chr11:5253647-5254647 | 1.430535 | . | HBG2 | ENST00000336906.6 |  263 | chr11_5254190_5254453 | CRISPRi_HCRFF | CASA |\n",
       "| chr11 | 5269440 | 5270695 | chr11 | 5269147 | 5271147 | chr11:5269147-5271147 | 1.906478 | . | HBE1 | ENST00000336906.6 | 1255 | chr11_5269440_5270695 | CRISPRi_HCRFF | CASA |\n",
       "| chr11 | 5275424 | 5276195 | chr11 | 5275847 | 5276247 | chr11:5275847-5276247 | 1.173871 | . | HBG1 | ENST00000330597.5 |  348 | chr11_5275424_5276195 | CRISPRi_HCRFF | CASA |\n",
       "\n"
      ],
      "text/plain": [
       "  Chrom_ATAC Start_ATAC End_ATAC Chrom Start   End     Name                 \n",
       "1 chr11      5249943    5250880  chr11 5249847 5250847 chr11:5249847-5250847\n",
       "2 chr11      5249943    5250880  chr11 5249847 5250847 chr11:5249847-5250847\n",
       "3 chr11      5254190    5254453  chr11 5253647 5254647 chr11:5253647-5254647\n",
       "4 chr11      5254190    5254453  chr11 5253647 5254647 chr11:5253647-5254647\n",
       "5 chr11      5269440    5270695  chr11 5269147 5271147 chr11:5269147-5271147\n",
       "6 chr11      5275424    5276195  chr11 5275847 5276247 chr11:5275847-5276247\n",
       "  Score    Strand Gene_Symbol Gene_ENS          Overlap Peak_ATAC            \n",
       "1 1.890890 .      HBG1        ENST00000330597.5  904    chr11_5249943_5250880\n",
       "2 1.922956 .      HBG2        ENST00000336906.6  904    chr11_5249943_5250880\n",
       "3 1.504404 .      HBG1        ENST00000330597.5  263    chr11_5254190_5254453\n",
       "4 1.430535 .      HBG2        ENST00000336906.6  263    chr11_5254190_5254453\n",
       "5 1.906478 .      HBE1        ENST00000336906.6 1255    chr11_5269440_5270695\n",
       "6 1.173871 .      HBG1        ENST00000330597.5  348    chr11_5275424_5276195\n",
       "  Annotation    Label\n",
       "1 CRISPRi_HCRFF CASA \n",
       "2 CRISPRi_HCRFF CASA \n",
       "3 CRISPRi_HCRFF CASA \n",
       "4 CRISPRi_HCRFF CASA \n",
       "5 CRISPRi_HCRFF CASA \n",
       "6 CRISPRi_HCRFF CASA "
      ]
     },
     "metadata": {},
     "output_type": "display_data"
    }
   ],
   "source": [
    "### init\n",
    "annotation = \"CRISPRi_HCRFF\"\n",
    "label      = \"CASA\"\n",
    "cnames = dat_cnames$Name\n",
    "cnames = c(\"Chrom_ATAC\", \"Start_ATAC\", \"End_ATAC\", cnames, \"Overlap\")\n",
    "\n",
    "###\n",
    "fdiry = file.path(\n",
    "    FD_RES, \n",
    "    \"results\", \n",
    "    \"region\", \n",
    "    \"KS91_K562_ASTARRseq_peak_macs_input\", \n",
    "    folder)\n",
    "fname = \"peak.annotation.crispri_casa_peak.bed.gz\"\n",
    "fpath = file.path(fdiry, fname)\n",
    "\n",
    "### read data\n",
    "dat = read_tsv(fpath, col_names = cnames, show_col_types = FALSE)\n",
    "dat = dat %>% dplyr::mutate(\n",
    "    Peak_ATAC  = paste(Chrom_ATAC, Start_ATAC, End_ATAC, sep=\"_\"),\n",
    "    Annotation = annotation,\n",
    "    Label      = label\n",
    ")\n",
    "\n",
    "### assign and show\n",
    "dat_peak_annot = dat\n",
    "print(dim(dat))\n",
    "head(dat)"
   ]
  },
  {
   "cell_type": "markdown",
   "metadata": {},
   "source": [
    "## Arrange and summarize"
   ]
  },
  {
   "cell_type": "code",
   "execution_count": 13,
   "metadata": {},
   "outputs": [
    {
     "name": "stdout",
     "output_type": "stream",
     "text": [
      "[1] 57  5\n"
     ]
    },
    {
     "data": {
      "text/html": [
       "<table class=\"dataframe\">\n",
       "<caption>A tibble: 6 × 5</caption>\n",
       "<thead>\n",
       "\t<tr><th scope=col>Peak</th><th scope=col>Annotation</th><th scope=col>Label</th><th scope=col>Count</th><th scope=col>Note</th></tr>\n",
       "\t<tr><th scope=col>&lt;chr&gt;</th><th scope=col>&lt;chr&gt;</th><th scope=col>&lt;chr&gt;</th><th scope=col>&lt;int&gt;</th><th scope=col>&lt;chr&gt;</th></tr>\n",
       "</thead>\n",
       "<tbody>\n",
       "\t<tr><td>chr11_33868682_33871379</td><td>CRISPRi_HCRFF</td><td>CASA</td><td>1</td><td>LMO2            </td></tr>\n",
       "\t<tr><td>chr11_33880631_33881416</td><td>CRISPRi_HCRFF</td><td>CASA</td><td>1</td><td>LMO2            </td></tr>\n",
       "\t<tr><td>chr11_33881831_33882405</td><td>CRISPRi_HCRFF</td><td>CASA</td><td>1</td><td>LMO2            </td></tr>\n",
       "\t<tr><td>chr11_33936760_33937819</td><td>CRISPRi_HCRFF</td><td>CASA</td><td>1</td><td>LMO2            </td></tr>\n",
       "\t<tr><td>chr11_33941500_33942221</td><td>CRISPRi_HCRFF</td><td>CASA</td><td>1</td><td>LMO2            </td></tr>\n",
       "\t<tr><td>chr11_33944510_33945297</td><td>CRISPRi_HCRFF</td><td>CASA</td><td>3</td><td>CAPRIN1|CAT|LMO2</td></tr>\n",
       "</tbody>\n",
       "</table>\n"
      ],
      "text/latex": [
       "A tibble: 6 × 5\n",
       "\\begin{tabular}{lllll}\n",
       " Peak & Annotation & Label & Count & Note\\\\\n",
       " <chr> & <chr> & <chr> & <int> & <chr>\\\\\n",
       "\\hline\n",
       "\t chr11\\_33868682\\_33871379 & CRISPRi\\_HCRFF & CASA & 1 & LMO2            \\\\\n",
       "\t chr11\\_33880631\\_33881416 & CRISPRi\\_HCRFF & CASA & 1 & LMO2            \\\\\n",
       "\t chr11\\_33881831\\_33882405 & CRISPRi\\_HCRFF & CASA & 1 & LMO2            \\\\\n",
       "\t chr11\\_33936760\\_33937819 & CRISPRi\\_HCRFF & CASA & 1 & LMO2            \\\\\n",
       "\t chr11\\_33941500\\_33942221 & CRISPRi\\_HCRFF & CASA & 1 & LMO2            \\\\\n",
       "\t chr11\\_33944510\\_33945297 & CRISPRi\\_HCRFF & CASA & 3 & CAPRIN1\\textbar{}CAT\\textbar{}LMO2\\\\\n",
       "\\end{tabular}\n"
      ],
      "text/markdown": [
       "\n",
       "A tibble: 6 × 5\n",
       "\n",
       "| Peak &lt;chr&gt; | Annotation &lt;chr&gt; | Label &lt;chr&gt; | Count &lt;int&gt; | Note &lt;chr&gt; |\n",
       "|---|---|---|---|---|\n",
       "| chr11_33868682_33871379 | CRISPRi_HCRFF | CASA | 1 | LMO2             |\n",
       "| chr11_33880631_33881416 | CRISPRi_HCRFF | CASA | 1 | LMO2             |\n",
       "| chr11_33881831_33882405 | CRISPRi_HCRFF | CASA | 1 | LMO2             |\n",
       "| chr11_33936760_33937819 | CRISPRi_HCRFF | CASA | 1 | LMO2             |\n",
       "| chr11_33941500_33942221 | CRISPRi_HCRFF | CASA | 1 | LMO2             |\n",
       "| chr11_33944510_33945297 | CRISPRi_HCRFF | CASA | 3 | CAPRIN1|CAT|LMO2 |\n",
       "\n"
      ],
      "text/plain": [
       "  Peak                    Annotation    Label Count Note            \n",
       "1 chr11_33868682_33871379 CRISPRi_HCRFF CASA  1     LMO2            \n",
       "2 chr11_33880631_33881416 CRISPRi_HCRFF CASA  1     LMO2            \n",
       "3 chr11_33881831_33882405 CRISPRi_HCRFF CASA  1     LMO2            \n",
       "4 chr11_33936760_33937819 CRISPRi_HCRFF CASA  1     LMO2            \n",
       "5 chr11_33941500_33942221 CRISPRi_HCRFF CASA  1     LMO2            \n",
       "6 chr11_33944510_33945297 CRISPRi_HCRFF CASA  3     CAPRIN1|CAT|LMO2"
      ]
     },
     "metadata": {},
     "output_type": "display_data"
    }
   ],
   "source": [
    "dat = dat_peak_annot\n",
    "dat = dat %>% \n",
    "    dplyr::group_by(Peak_ATAC, Annotation, Label) %>%\n",
    "    dplyr::summarise(\n",
    "        Count = n(), \n",
    "        Note  = paste(Gene_Symbol, collapse=\"|\"),\n",
    "        .groups = \"drop\")\n",
    "\n",
    "dat = dat %>% dplyr::rename(\"Peak\" = \"Peak_ATAC\")\n",
    "\n",
    "### assign and show\n",
    "dat_peak_annot_count = dat\n",
    "print(dim(dat))\n",
    "head(dat)"
   ]
  },
  {
   "cell_type": "code",
   "execution_count": 14,
   "metadata": {},
   "outputs": [
    {
     "data": {
      "text/plain": [
       "\n",
       " 1  2  3 \n",
       "38  8 11 "
      ]
     },
     "metadata": {},
     "output_type": "display_data"
    }
   ],
   "source": [
    "dat = dat_peak_annot_count\n",
    "table(dat$Count)"
   ]
  },
  {
   "cell_type": "markdown",
   "metadata": {},
   "source": [
    "## Save results"
   ]
  },
  {
   "cell_type": "code",
   "execution_count": 15,
   "metadata": {},
   "outputs": [],
   "source": [
    "fdiry = file.path(FD_RES, \"results\", \"region\", \"KS91_K562_ASTARRseq_peak_macs_input\", \"summary\")\n",
    "fname = \"peak.summary.crispri_hcrff_casa.tsv\"\n",
    "fpath = file.path(fdiry, fname)\n",
    "\n",
    "dat = dat_peak_annot_count\n",
    "write_tsv(dat, fpath)"
   ]
  },
  {
   "cell_type": "code",
   "execution_count": null,
   "metadata": {},
   "outputs": [],
   "source": []
  },
  {
   "cell_type": "code",
   "execution_count": null,
   "metadata": {},
   "outputs": [],
   "source": []
  },
  {
   "cell_type": "code",
   "execution_count": null,
   "metadata": {},
   "outputs": [],
   "source": []
  },
  {
   "cell_type": "code",
   "execution_count": 3,
   "metadata": {},
   "outputs": [
    {
     "name": "stdout",
     "output_type": "stream",
     "text": [
      "[1] 87 14\n"
     ]
    },
    {
     "data": {
      "text/html": [
       "<table class=\"dataframe\">\n",
       "<caption>A tibble: 6 × 14</caption>\n",
       "<thead>\n",
       "\t<tr><th scope=col>Chrom</th><th scope=col>Start</th><th scope=col>End</th><th scope=col>Chrom_CASA</th><th scope=col>Start_CASA</th><th scope=col>End_CASA</th><th scope=col>Name</th><th scope=col>Score</th><th scope=col>Strand</th><th scope=col>Gene_Symbol</th><th scope=col>Gene_ENS</th><th scope=col>Overlap</th><th scope=col>Peak</th><th scope=col>CASA</th></tr>\n",
       "\t<tr><th scope=col>&lt;chr&gt;</th><th scope=col>&lt;dbl&gt;</th><th scope=col>&lt;dbl&gt;</th><th scope=col>&lt;chr&gt;</th><th scope=col>&lt;dbl&gt;</th><th scope=col>&lt;dbl&gt;</th><th scope=col>&lt;chr&gt;</th><th scope=col>&lt;dbl&gt;</th><th scope=col>&lt;chr&gt;</th><th scope=col>&lt;chr&gt;</th><th scope=col>&lt;chr&gt;</th><th scope=col>&lt;dbl&gt;</th><th scope=col>&lt;chr&gt;</th><th scope=col>&lt;chr&gt;</th></tr>\n",
       "</thead>\n",
       "<tbody>\n",
       "\t<tr><td>chr11</td><td>5249943</td><td>5250880</td><td>chr11</td><td>5249847</td><td>5250847</td><td>chr11:5249847-5250847</td><td>1.890890</td><td>.</td><td>HBG1</td><td>ENST00000330597.5</td><td> 904</td><td>chr11_5249943_5250880</td><td>chr11_5249847_5250847</td></tr>\n",
       "\t<tr><td>chr11</td><td>5249943</td><td>5250880</td><td>chr11</td><td>5249847</td><td>5250847</td><td>chr11:5249847-5250847</td><td>1.922956</td><td>.</td><td>HBG2</td><td>ENST00000336906.6</td><td> 904</td><td>chr11_5249943_5250880</td><td>chr11_5249847_5250847</td></tr>\n",
       "\t<tr><td>chr11</td><td>5254190</td><td>5254453</td><td>chr11</td><td>5253647</td><td>5254647</td><td>chr11:5253647-5254647</td><td>1.504404</td><td>.</td><td>HBG1</td><td>ENST00000330597.5</td><td> 263</td><td>chr11_5254190_5254453</td><td>chr11_5253647_5254647</td></tr>\n",
       "\t<tr><td>chr11</td><td>5254190</td><td>5254453</td><td>chr11</td><td>5253647</td><td>5254647</td><td>chr11:5253647-5254647</td><td>1.430535</td><td>.</td><td>HBG2</td><td>ENST00000336906.6</td><td> 263</td><td>chr11_5254190_5254453</td><td>chr11_5253647_5254647</td></tr>\n",
       "\t<tr><td>chr11</td><td>5269440</td><td>5270695</td><td>chr11</td><td>5269147</td><td>5271147</td><td>chr11:5269147-5271147</td><td>1.906478</td><td>.</td><td>HBE1</td><td>ENST00000336906.6</td><td>1255</td><td>chr11_5269440_5270695</td><td>chr11_5269147_5271147</td></tr>\n",
       "\t<tr><td>chr11</td><td>5275424</td><td>5276195</td><td>chr11</td><td>5275847</td><td>5276247</td><td>chr11:5275847-5276247</td><td>1.173871</td><td>.</td><td>HBG1</td><td>ENST00000330597.5</td><td> 348</td><td>chr11_5275424_5276195</td><td>chr11_5275847_5276247</td></tr>\n",
       "</tbody>\n",
       "</table>\n"
      ],
      "text/latex": [
       "A tibble: 6 × 14\n",
       "\\begin{tabular}{llllllllllllll}\n",
       " Chrom & Start & End & Chrom\\_CASA & Start\\_CASA & End\\_CASA & Name & Score & Strand & Gene\\_Symbol & Gene\\_ENS & Overlap & Peak & CASA\\\\\n",
       " <chr> & <dbl> & <dbl> & <chr> & <dbl> & <dbl> & <chr> & <dbl> & <chr> & <chr> & <chr> & <dbl> & <chr> & <chr>\\\\\n",
       "\\hline\n",
       "\t chr11 & 5249943 & 5250880 & chr11 & 5249847 & 5250847 & chr11:5249847-5250847 & 1.890890 & . & HBG1 & ENST00000330597.5 &  904 & chr11\\_5249943\\_5250880 & chr11\\_5249847\\_5250847\\\\\n",
       "\t chr11 & 5249943 & 5250880 & chr11 & 5249847 & 5250847 & chr11:5249847-5250847 & 1.922956 & . & HBG2 & ENST00000336906.6 &  904 & chr11\\_5249943\\_5250880 & chr11\\_5249847\\_5250847\\\\\n",
       "\t chr11 & 5254190 & 5254453 & chr11 & 5253647 & 5254647 & chr11:5253647-5254647 & 1.504404 & . & HBG1 & ENST00000330597.5 &  263 & chr11\\_5254190\\_5254453 & chr11\\_5253647\\_5254647\\\\\n",
       "\t chr11 & 5254190 & 5254453 & chr11 & 5253647 & 5254647 & chr11:5253647-5254647 & 1.430535 & . & HBG2 & ENST00000336906.6 &  263 & chr11\\_5254190\\_5254453 & chr11\\_5253647\\_5254647\\\\\n",
       "\t chr11 & 5269440 & 5270695 & chr11 & 5269147 & 5271147 & chr11:5269147-5271147 & 1.906478 & . & HBE1 & ENST00000336906.6 & 1255 & chr11\\_5269440\\_5270695 & chr11\\_5269147\\_5271147\\\\\n",
       "\t chr11 & 5275424 & 5276195 & chr11 & 5275847 & 5276247 & chr11:5275847-5276247 & 1.173871 & . & HBG1 & ENST00000330597.5 &  348 & chr11\\_5275424\\_5276195 & chr11\\_5275847\\_5276247\\\\\n",
       "\\end{tabular}\n"
      ],
      "text/markdown": [
       "\n",
       "A tibble: 6 × 14\n",
       "\n",
       "| Chrom &lt;chr&gt; | Start &lt;dbl&gt; | End &lt;dbl&gt; | Chrom_CASA &lt;chr&gt; | Start_CASA &lt;dbl&gt; | End_CASA &lt;dbl&gt; | Name &lt;chr&gt; | Score &lt;dbl&gt; | Strand &lt;chr&gt; | Gene_Symbol &lt;chr&gt; | Gene_ENS &lt;chr&gt; | Overlap &lt;dbl&gt; | Peak &lt;chr&gt; | CASA &lt;chr&gt; |\n",
       "|---|---|---|---|---|---|---|---|---|---|---|---|---|---|\n",
       "| chr11 | 5249943 | 5250880 | chr11 | 5249847 | 5250847 | chr11:5249847-5250847 | 1.890890 | . | HBG1 | ENST00000330597.5 |  904 | chr11_5249943_5250880 | chr11_5249847_5250847 |\n",
       "| chr11 | 5249943 | 5250880 | chr11 | 5249847 | 5250847 | chr11:5249847-5250847 | 1.922956 | . | HBG2 | ENST00000336906.6 |  904 | chr11_5249943_5250880 | chr11_5249847_5250847 |\n",
       "| chr11 | 5254190 | 5254453 | chr11 | 5253647 | 5254647 | chr11:5253647-5254647 | 1.504404 | . | HBG1 | ENST00000330597.5 |  263 | chr11_5254190_5254453 | chr11_5253647_5254647 |\n",
       "| chr11 | 5254190 | 5254453 | chr11 | 5253647 | 5254647 | chr11:5253647-5254647 | 1.430535 | . | HBG2 | ENST00000336906.6 |  263 | chr11_5254190_5254453 | chr11_5253647_5254647 |\n",
       "| chr11 | 5269440 | 5270695 | chr11 | 5269147 | 5271147 | chr11:5269147-5271147 | 1.906478 | . | HBE1 | ENST00000336906.6 | 1255 | chr11_5269440_5270695 | chr11_5269147_5271147 |\n",
       "| chr11 | 5275424 | 5276195 | chr11 | 5275847 | 5276247 | chr11:5275847-5276247 | 1.173871 | . | HBG1 | ENST00000330597.5 |  348 | chr11_5275424_5276195 | chr11_5275847_5276247 |\n",
       "\n"
      ],
      "text/plain": [
       "  Chrom Start   End     Chrom_CASA Start_CASA End_CASA Name                 \n",
       "1 chr11 5249943 5250880 chr11      5249847    5250847  chr11:5249847-5250847\n",
       "2 chr11 5249943 5250880 chr11      5249847    5250847  chr11:5249847-5250847\n",
       "3 chr11 5254190 5254453 chr11      5253647    5254647  chr11:5253647-5254647\n",
       "4 chr11 5254190 5254453 chr11      5253647    5254647  chr11:5253647-5254647\n",
       "5 chr11 5269440 5270695 chr11      5269147    5271147  chr11:5269147-5271147\n",
       "6 chr11 5275424 5276195 chr11      5275847    5276247  chr11:5275847-5276247\n",
       "  Score    Strand Gene_Symbol Gene_ENS          Overlap Peak                 \n",
       "1 1.890890 .      HBG1        ENST00000330597.5  904    chr11_5249943_5250880\n",
       "2 1.922956 .      HBG2        ENST00000336906.6  904    chr11_5249943_5250880\n",
       "3 1.504404 .      HBG1        ENST00000330597.5  263    chr11_5254190_5254453\n",
       "4 1.430535 .      HBG2        ENST00000336906.6  263    chr11_5254190_5254453\n",
       "5 1.906478 .      HBE1        ENST00000336906.6 1255    chr11_5269440_5270695\n",
       "6 1.173871 .      HBG1        ENST00000330597.5  348    chr11_5275424_5276195\n",
       "  CASA                 \n",
       "1 chr11_5249847_5250847\n",
       "2 chr11_5249847_5250847\n",
       "3 chr11_5253647_5254647\n",
       "4 chr11_5253647_5254647\n",
       "5 chr11_5269147_5271147\n",
       "6 chr11_5275847_5276247"
      ]
     },
     "metadata": {},
     "output_type": "display_data"
    }
   ],
   "source": [
    "### set file path\n",
    "fdiry = file.path(FD_RES, \"results\", \"region\", \"KS91_K562_ASTARRseq_peak_macs_input\")\n",
    "fname = \"peak.annotation.crispri_casa_peak.bed.gz\"\n",
    "fpath = file.path(fdiry, fname)\n",
    "\n",
    "\n",
    "### import data\n",
    "cnames = c(\n",
    "    \"Chrom\", \"Start\", \"End\",\n",
    "    \"Chrom_CASA\", \"Start_CASA\", \"End_CASA\", \n",
    "    \"Name\", \"Score\", \"Strand\", \"Gene_Symbol\", \"Gene_ENS\", \n",
    "    \"Overlap\")\n",
    "dat = read_tsv(fpath, col_names = cnames, show_col_types = FALSE)\n",
    "dat = dat %>% mutate(\n",
    "    Peak = paste(Chrom, Start, End, sep=\"_\"),\n",
    "    CASA = paste(Chrom_CASA, Start_CASA, End_CASA, sep=\"_\"),\n",
    ")\n",
    "\n",
    "### assign\n",
    "dat_peak_annot_crispri = dat\n",
    "print(dim(dat))\n",
    "head(dat)"
   ]
  },
  {
   "cell_type": "markdown",
   "metadata": {},
   "source": [
    "## Arrange"
   ]
  },
  {
   "cell_type": "code",
   "execution_count": 5,
   "metadata": {},
   "outputs": [
    {
     "name": "stdout",
     "output_type": "stream",
     "text": [
      "[1] 87  6\n"
     ]
    },
    {
     "data": {
      "text/html": [
       "<table class=\"dataframe\">\n",
       "<caption>A tibble: 6 × 6</caption>\n",
       "<thead>\n",
       "\t<tr><th scope=col>Peak</th><th scope=col>CASA</th><th scope=col>Score</th><th scope=col>Gene_Symbol</th><th scope=col>Gene_ENS</th><th scope=col>Overlap</th></tr>\n",
       "\t<tr><th scope=col>&lt;chr&gt;</th><th scope=col>&lt;chr&gt;</th><th scope=col>&lt;dbl&gt;</th><th scope=col>&lt;chr&gt;</th><th scope=col>&lt;chr&gt;</th><th scope=col>&lt;dbl&gt;</th></tr>\n",
       "</thead>\n",
       "<tbody>\n",
       "\t<tr><td>chr11_5249943_5250880</td><td>chr11_5249847_5250847</td><td>1.890890</td><td>HBG1</td><td>ENST00000330597.5</td><td> 904</td></tr>\n",
       "\t<tr><td>chr11_5249943_5250880</td><td>chr11_5249847_5250847</td><td>1.922956</td><td>HBG2</td><td>ENST00000336906.6</td><td> 904</td></tr>\n",
       "\t<tr><td>chr11_5254190_5254453</td><td>chr11_5253647_5254647</td><td>1.504404</td><td>HBG1</td><td>ENST00000330597.5</td><td> 263</td></tr>\n",
       "\t<tr><td>chr11_5254190_5254453</td><td>chr11_5253647_5254647</td><td>1.430535</td><td>HBG2</td><td>ENST00000336906.6</td><td> 263</td></tr>\n",
       "\t<tr><td>chr11_5269440_5270695</td><td>chr11_5269147_5271147</td><td>1.906478</td><td>HBE1</td><td>ENST00000336906.6</td><td>1255</td></tr>\n",
       "\t<tr><td>chr11_5275424_5276195</td><td>chr11_5275847_5276247</td><td>1.173871</td><td>HBG1</td><td>ENST00000330597.5</td><td> 348</td></tr>\n",
       "</tbody>\n",
       "</table>\n"
      ],
      "text/latex": [
       "A tibble: 6 × 6\n",
       "\\begin{tabular}{llllll}\n",
       " Peak & CASA & Score & Gene\\_Symbol & Gene\\_ENS & Overlap\\\\\n",
       " <chr> & <chr> & <dbl> & <chr> & <chr> & <dbl>\\\\\n",
       "\\hline\n",
       "\t chr11\\_5249943\\_5250880 & chr11\\_5249847\\_5250847 & 1.890890 & HBG1 & ENST00000330597.5 &  904\\\\\n",
       "\t chr11\\_5249943\\_5250880 & chr11\\_5249847\\_5250847 & 1.922956 & HBG2 & ENST00000336906.6 &  904\\\\\n",
       "\t chr11\\_5254190\\_5254453 & chr11\\_5253647\\_5254647 & 1.504404 & HBG1 & ENST00000330597.5 &  263\\\\\n",
       "\t chr11\\_5254190\\_5254453 & chr11\\_5253647\\_5254647 & 1.430535 & HBG2 & ENST00000336906.6 &  263\\\\\n",
       "\t chr11\\_5269440\\_5270695 & chr11\\_5269147\\_5271147 & 1.906478 & HBE1 & ENST00000336906.6 & 1255\\\\\n",
       "\t chr11\\_5275424\\_5276195 & chr11\\_5275847\\_5276247 & 1.173871 & HBG1 & ENST00000330597.5 &  348\\\\\n",
       "\\end{tabular}\n"
      ],
      "text/markdown": [
       "\n",
       "A tibble: 6 × 6\n",
       "\n",
       "| Peak &lt;chr&gt; | CASA &lt;chr&gt; | Score &lt;dbl&gt; | Gene_Symbol &lt;chr&gt; | Gene_ENS &lt;chr&gt; | Overlap &lt;dbl&gt; |\n",
       "|---|---|---|---|---|---|\n",
       "| chr11_5249943_5250880 | chr11_5249847_5250847 | 1.890890 | HBG1 | ENST00000330597.5 |  904 |\n",
       "| chr11_5249943_5250880 | chr11_5249847_5250847 | 1.922956 | HBG2 | ENST00000336906.6 |  904 |\n",
       "| chr11_5254190_5254453 | chr11_5253647_5254647 | 1.504404 | HBG1 | ENST00000330597.5 |  263 |\n",
       "| chr11_5254190_5254453 | chr11_5253647_5254647 | 1.430535 | HBG2 | ENST00000336906.6 |  263 |\n",
       "| chr11_5269440_5270695 | chr11_5269147_5271147 | 1.906478 | HBE1 | ENST00000336906.6 | 1255 |\n",
       "| chr11_5275424_5276195 | chr11_5275847_5276247 | 1.173871 | HBG1 | ENST00000330597.5 |  348 |\n",
       "\n"
      ],
      "text/plain": [
       "  Peak                  CASA                  Score    Gene_Symbol\n",
       "1 chr11_5249943_5250880 chr11_5249847_5250847 1.890890 HBG1       \n",
       "2 chr11_5249943_5250880 chr11_5249847_5250847 1.922956 HBG2       \n",
       "3 chr11_5254190_5254453 chr11_5253647_5254647 1.504404 HBG1       \n",
       "4 chr11_5254190_5254453 chr11_5253647_5254647 1.430535 HBG2       \n",
       "5 chr11_5269440_5270695 chr11_5269147_5271147 1.906478 HBE1       \n",
       "6 chr11_5275424_5276195 chr11_5275847_5276247 1.173871 HBG1       \n",
       "  Gene_ENS          Overlap\n",
       "1 ENST00000330597.5  904   \n",
       "2 ENST00000336906.6  904   \n",
       "3 ENST00000330597.5  263   \n",
       "4 ENST00000336906.6  263   \n",
       "5 ENST00000336906.6 1255   \n",
       "6 ENST00000330597.5  348   "
      ]
     },
     "metadata": {},
     "output_type": "display_data"
    }
   ],
   "source": [
    "###\n",
    "dat = dat_peak_annot_crispri\n",
    "dat = dat %>% \n",
    "    dplyr::select(Peak, CASA, Score, Gene_Symbol, Gene_ENS, Overlap)\n",
    "\n",
    "###\n",
    "dat_peak_summary_crispri = dat\n",
    "print(dim(dat))\n",
    "head(dat)"
   ]
  },
  {
   "cell_type": "markdown",
   "metadata": {},
   "source": [
    "## Save tables"
   ]
  },
  {
   "cell_type": "code",
   "execution_count": 6,
   "metadata": {},
   "outputs": [],
   "source": [
    "fdiry = file.path(FD_RES, \"results\", \"region\", \"KS91_K562_ASTARRseq_peak_macs_input\")\n",
    "fname = \"peak.summary.crispri_casa_peak.tsv\"\n",
    "fpath = file.path(fdiry, fname)\n",
    "\n",
    "write_tsv(dat_peak_summary_crispri, fpath)"
   ]
  },
  {
   "cell_type": "code",
   "execution_count": null,
   "metadata": {},
   "outputs": [],
   "source": []
  }
 ],
 "metadata": {
  "kernelspec": {
   "display_name": "R (alex_py3)",
   "language": "R",
   "name": "ir_alex_py3"
  },
  "language_info": {
   "codemirror_mode": "r",
   "file_extension": ".r",
   "mimetype": "text/x-r-source",
   "name": "R",
   "pygments_lexer": "r",
   "version": "3.6.2"
  }
 },
 "nbformat": 4,
 "nbformat_minor": 4
}
