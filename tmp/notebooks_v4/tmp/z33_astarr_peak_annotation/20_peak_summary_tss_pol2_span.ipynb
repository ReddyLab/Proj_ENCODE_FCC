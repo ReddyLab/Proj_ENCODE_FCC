{
 "cells": [
  {
   "cell_type": "markdown",
   "metadata": {},
   "source": [
    "**Set environment**"
   ]
  },
  {
   "cell_type": "code",
   "execution_count": 1,
   "metadata": {},
   "outputs": [
    {
     "name": "stdout",
     "output_type": "stream",
     "text": [
      "You are in Singularity: singularity_proj_encode_fcc \n",
      "BASE DIRECTORY (FD_BASE): /data/reddylab/Kuei \n",
      "WORK DIRECTORY (FD_WORK): /data/reddylab/Kuei/out \n",
      "CODE DIRECTORY (FD_CODE): /data/reddylab/Kuei/code \n",
      "PATH OF PROJECT (FD_PRJ): /data/reddylab/Kuei/code/Proj_CombEffect_ENCODE_FCC \n",
      "PATH OF RESULTS (FD_RES): /data/reddylab/Kuei/out/proj_combeffect_encode_fcc \n",
      "PATH OF LOG     (FD_LOG): /data/reddylab/Kuei/out/proj_combeffect_encode_fcc/log \n"
     ]
    }
   ],
   "source": [
    "suppressMessages(suppressWarnings(source(\"../config/config_sing.R\")))\n",
    "show_env()"
   ]
  },
  {
   "cell_type": "markdown",
   "metadata": {},
   "source": [
    "**Check data**"
   ]
  },
  {
   "cell_type": "code",
   "execution_count": 2,
   "metadata": {},
   "outputs": [
    {
     "data": {
      "text/html": [
       "<style>\n",
       ".list-inline {list-style: none; margin:0; padding: 0}\n",
       ".list-inline>li {display: inline-block}\n",
       ".list-inline>li:not(:last-child)::after {content: \"\\00b7\"; padding: 0 .5ex}\n",
       "</style>\n",
       "<ol class=list-inline><li>'peak.annotation.K562.TSS.highest_Pol2.0_1K.bed.gz'</li><li>'peak.annotation.K562.TSS.highest_Pol2.1_2K.bed.gz'</li><li>'peak.annotation.K562.TSS.highest_Pol2.10_11K.bed.gz'</li><li>'peak.annotation.K562.TSS.highest_Pol2.100_101K.bed.gz'</li><li>'peak.annotation.K562.TSS.highest_Pol2.101_102K.bed.gz'</li><li>'peak.annotation.K562.TSS.highest_Pol2.102_103K.bed.gz'</li></ol>\n"
      ],
      "text/latex": [
       "\\begin{enumerate*}\n",
       "\\item 'peak.annotation.K562.TSS.highest\\_Pol2.0\\_1K.bed.gz'\n",
       "\\item 'peak.annotation.K562.TSS.highest\\_Pol2.1\\_2K.bed.gz'\n",
       "\\item 'peak.annotation.K562.TSS.highest\\_Pol2.10\\_11K.bed.gz'\n",
       "\\item 'peak.annotation.K562.TSS.highest\\_Pol2.100\\_101K.bed.gz'\n",
       "\\item 'peak.annotation.K562.TSS.highest\\_Pol2.101\\_102K.bed.gz'\n",
       "\\item 'peak.annotation.K562.TSS.highest\\_Pol2.102\\_103K.bed.gz'\n",
       "\\end{enumerate*}\n"
      ],
      "text/markdown": [
       "1. 'peak.annotation.K562.TSS.highest_Pol2.0_1K.bed.gz'\n",
       "2. 'peak.annotation.K562.TSS.highest_Pol2.1_2K.bed.gz'\n",
       "3. 'peak.annotation.K562.TSS.highest_Pol2.10_11K.bed.gz'\n",
       "4. 'peak.annotation.K562.TSS.highest_Pol2.100_101K.bed.gz'\n",
       "5. 'peak.annotation.K562.TSS.highest_Pol2.101_102K.bed.gz'\n",
       "6. 'peak.annotation.K562.TSS.highest_Pol2.102_103K.bed.gz'\n",
       "\n",
       "\n"
      ],
      "text/plain": [
       "[1] \"peak.annotation.K562.TSS.highest_Pol2.0_1K.bed.gz\"    \n",
       "[2] \"peak.annotation.K562.TSS.highest_Pol2.1_2K.bed.gz\"    \n",
       "[3] \"peak.annotation.K562.TSS.highest_Pol2.10_11K.bed.gz\"  \n",
       "[4] \"peak.annotation.K562.TSS.highest_Pol2.100_101K.bed.gz\"\n",
       "[5] \"peak.annotation.K562.TSS.highest_Pol2.101_102K.bed.gz\"\n",
       "[6] \"peak.annotation.K562.TSS.highest_Pol2.102_103K.bed.gz\""
      ]
     },
     "metadata": {},
     "output_type": "display_data"
    }
   ],
   "source": [
    "fdiry = file.path(\n",
    "    FD_RES, \n",
    "    \"results\", \n",
    "    \"region\", \n",
    "    \"KS91_K562_ASTARRseq_peak_macs_input\", \n",
    "    \"annotation_tss_pol2_span\")\n",
    "fnames = dir(fdiry)\n",
    "head(fnames)"
   ]
  },
  {
   "cell_type": "code",
   "execution_count": 3,
   "metadata": {},
   "outputs": [
    {
     "data": {
      "text/html": [
       "<style>\n",
       ".list-inline {list-style: none; margin:0; padding: 0}\n",
       ".list-inline>li {display: inline-block}\n",
       ".list-inline>li:not(:last-child)::after {content: \"\\00b7\"; padding: 0 .5ex}\n",
       "</style>\n",
       "<ol class=list-inline><li>'0_1K'</li><li>'1_2K'</li><li>'10_11K'</li><li>'100_101K'</li><li>'101_102K'</li><li>'102_103K'</li></ol>\n"
      ],
      "text/latex": [
       "\\begin{enumerate*}\n",
       "\\item '0\\_1K'\n",
       "\\item '1\\_2K'\n",
       "\\item '10\\_11K'\n",
       "\\item '100\\_101K'\n",
       "\\item '101\\_102K'\n",
       "\\item '102\\_103K'\n",
       "\\end{enumerate*}\n"
      ],
      "text/markdown": [
       "1. '0_1K'\n",
       "2. '1_2K'\n",
       "3. '10_11K'\n",
       "4. '100_101K'\n",
       "5. '101_102K'\n",
       "6. '102_103K'\n",
       "\n",
       "\n"
      ],
      "text/plain": [
       "[1] \"0_1K\"     \"1_2K\"     \"10_11K\"   \"100_101K\" \"101_102K\" \"102_103K\""
      ]
     },
     "metadata": {},
     "output_type": "display_data"
    }
   ],
   "source": [
    "lst = str_split(string = fnames, pattern = \"\\\\.\")\n",
    "lst = lapply(lst, function(vec){vec[6]})\n",
    "labels = unlist(lst)\n",
    "head(labels)"
   ]
  },
  {
   "cell_type": "markdown",
   "metadata": {},
   "source": [
    "## Import data"
   ]
  },
  {
   "cell_type": "code",
   "execution_count": 4,
   "metadata": {},
   "outputs": [
    {
     "name": "stdout",
     "output_type": "stream",
     "text": [
      "[1] 6 2\n"
     ]
    },
    {
     "data": {
      "text/html": [
       "<table class=\"dataframe\">\n",
       "<caption>A spec_tbl_df: 6 × 2</caption>\n",
       "<thead>\n",
       "\t<tr><th scope=col>Name</th><th scope=col>Description</th></tr>\n",
       "\t<tr><th scope=col>&lt;chr&gt;</th><th scope=col>&lt;chr&gt;</th></tr>\n",
       "</thead>\n",
       "<tbody>\n",
       "\t<tr><td>Chrom</td><td>Chromosome     </td></tr>\n",
       "\t<tr><td>Start</td><td>Start position </td></tr>\n",
       "\t<tr><td>End  </td><td>End position   </td></tr>\n",
       "\t<tr><td>Name </td><td>Name           </td></tr>\n",
       "\t<tr><td>Score</td><td>Pol2 score     </td></tr>\n",
       "\t<tr><td>Gene </td><td>Gene of the TSS</td></tr>\n",
       "</tbody>\n",
       "</table>\n"
      ],
      "text/latex": [
       "A spec\\_tbl\\_df: 6 × 2\n",
       "\\begin{tabular}{ll}\n",
       " Name & Description\\\\\n",
       " <chr> & <chr>\\\\\n",
       "\\hline\n",
       "\t Chrom & Chromosome     \\\\\n",
       "\t Start & Start position \\\\\n",
       "\t End   & End position   \\\\\n",
       "\t Name  & Name           \\\\\n",
       "\t Score & Pol2 score     \\\\\n",
       "\t Gene  & Gene of the TSS\\\\\n",
       "\\end{tabular}\n"
      ],
      "text/markdown": [
       "\n",
       "A spec_tbl_df: 6 × 2\n",
       "\n",
       "| Name &lt;chr&gt; | Description &lt;chr&gt; |\n",
       "|---|---|\n",
       "| Chrom | Chromosome      |\n",
       "| Start | Start position  |\n",
       "| End   | End position    |\n",
       "| Name  | Name            |\n",
       "| Score | Pol2 score      |\n",
       "| Gene  | Gene of the TSS |\n",
       "\n"
      ],
      "text/plain": [
       "  Name  Description    \n",
       "1 Chrom Chromosome     \n",
       "2 Start Start position \n",
       "3 End   End position   \n",
       "4 Name  Name           \n",
       "5 Score Pol2 score     \n",
       "6 Gene  Gene of the TSS"
      ]
     },
     "metadata": {},
     "output_type": "display_data"
    }
   ],
   "source": [
    "fdiry = file.path(\n",
    "    FD_RES, \n",
    "    \"results\", \n",
    "    \"region\", \n",
    "    \"annotation_tss_pol2_span\")\n",
    "fname = \"description.tsv\"\n",
    "fpath = file.path(fdiry, fname)\n",
    "\n",
    "dat = read_tsv(fpath, show_col_types = FALSE)\n",
    "\n",
    "dat_cnames = dat\n",
    "print(dim(dat))\n",
    "dat"
   ]
  },
  {
   "cell_type": "code",
   "execution_count": 5,
   "metadata": {},
   "outputs": [
    {
     "name": "stdout",
     "output_type": "stream",
     "text": [
      "[1] 500\n"
     ]
    },
    {
     "data": {
      "text/html": [
       "<table class=\"dataframe\">\n",
       "<caption>A tibble: 6 × 17</caption>\n",
       "<thead>\n",
       "\t<tr><th scope=col>Chrom_ATAC</th><th scope=col>Start_ATAC</th><th scope=col>End_ATAC</th><th scope=col>Chrom</th><th scope=col>Start</th><th scope=col>End</th><th scope=col>Name</th><th scope=col>Chrom_TSS</th><th scope=col>Loc_TSS</th><th scope=col>Label</th><th scope=col>Direction</th><th scope=col>Score</th><th scope=col>Gene</th><th scope=col>Overlap</th><th scope=col>Peak_ATAC</th><th scope=col>Annotation</th><th scope=col>TSS</th></tr>\n",
       "\t<tr><th scope=col>&lt;chr&gt;</th><th scope=col>&lt;dbl&gt;</th><th scope=col>&lt;dbl&gt;</th><th scope=col>&lt;chr&gt;</th><th scope=col>&lt;dbl&gt;</th><th scope=col>&lt;dbl&gt;</th><th scope=col>&lt;chr&gt;</th><th scope=col>&lt;chr&gt;</th><th scope=col>&lt;chr&gt;</th><th scope=col>&lt;chr&gt;</th><th scope=col>&lt;chr&gt;</th><th scope=col>&lt;dbl&gt;</th><th scope=col>&lt;chr&gt;</th><th scope=col>&lt;dbl&gt;</th><th scope=col>&lt;chr&gt;</th><th scope=col>&lt;chr&gt;</th><th scope=col>&lt;chr&gt;</th></tr>\n",
       "</thead>\n",
       "<tbody>\n",
       "\t<tr><td>chr1</td><td> 30803</td><td> 31072</td><td>chr1</td><td> 30365</td><td> 31365</td><td>chr1:30365-30366:0-1K:+  </td><td>chr1</td><td>30365-30366  </td><td>0-1K</td><td>+</td><td>5.62995e-01</td><td>MIR1302-10  </td><td>269</td><td>chr1_30803_31072  </td><td>TSS_POL2_Span</td><td>chr1:30365-30366  </td></tr>\n",
       "\t<tr><td>chr1</td><td> 30803</td><td> 31072</td><td>chr1</td><td> 30365</td><td> 31365</td><td>chr1:30365-30366:0-1K:+  </td><td>chr1</td><td>30365-30366  </td><td>0-1K</td><td>+</td><td>5.62995e-01</td><td>MIR1302-11  </td><td>269</td><td>chr1_30803_31072  </td><td>TSS_POL2_Span</td><td>chr1:30365-30366  </td></tr>\n",
       "\t<tr><td>chr1</td><td> 30803</td><td> 31072</td><td>chr1</td><td> 30365</td><td> 31365</td><td>chr1:30365-30366:0-1K:+  </td><td>chr1</td><td>30365-30366  </td><td>0-1K</td><td>+</td><td>5.62995e-01</td><td>MIR1302-2   </td><td>269</td><td>chr1_30803_31072  </td><td>TSS_POL2_Span</td><td>chr1:30365-30366  </td></tr>\n",
       "\t<tr><td>chr1</td><td> 30803</td><td> 31072</td><td>chr1</td><td> 30365</td><td> 31365</td><td>chr1:30365-30366:0-1K:+  </td><td>chr1</td><td>30365-30366  </td><td>0-1K</td><td>+</td><td>5.62995e-01</td><td>MIR1302-9   </td><td>269</td><td>chr1_30803_31072  </td><td>TSS_POL2_Span</td><td>chr1:30365-30366  </td></tr>\n",
       "\t<tr><td>chr1</td><td>180982</td><td>182087</td><td>chr1</td><td>181387</td><td>182387</td><td>chr1:182387-182388:0-1K:-</td><td>chr1</td><td>182387-182388</td><td>0-1K</td><td>-</td><td>7.79966e-03</td><td>DDX11L17    </td><td>700</td><td>chr1_180982_182087</td><td>TSS_POL2_Span</td><td>chr1:182387-182388</td></tr>\n",
       "\t<tr><td>chr1</td><td>777949</td><td>779437</td><td>chr1</td><td>778634</td><td>779634</td><td>chr1:778634-778635:0-1K:+</td><td>chr1</td><td>778634-778635</td><td>0-1K</td><td>+</td><td>2.30561e+02</td><td>LOC100288069</td><td>803</td><td>chr1_777949_779437</td><td>TSS_POL2_Span</td><td>chr1:778634-778635</td></tr>\n",
       "</tbody>\n",
       "</table>\n"
      ],
      "text/latex": [
       "A tibble: 6 × 17\n",
       "\\begin{tabular}{lllllllllllllllll}\n",
       " Chrom\\_ATAC & Start\\_ATAC & End\\_ATAC & Chrom & Start & End & Name & Chrom\\_TSS & Loc\\_TSS & Label & Direction & Score & Gene & Overlap & Peak\\_ATAC & Annotation & TSS\\\\\n",
       " <chr> & <dbl> & <dbl> & <chr> & <dbl> & <dbl> & <chr> & <chr> & <chr> & <chr> & <chr> & <dbl> & <chr> & <dbl> & <chr> & <chr> & <chr>\\\\\n",
       "\\hline\n",
       "\t chr1 &  30803 &  31072 & chr1 &  30365 &  31365 & chr1:30365-30366:0-1K:+   & chr1 & 30365-30366   & 0-1K & + & 5.62995e-01 & MIR1302-10   & 269 & chr1\\_30803\\_31072   & TSS\\_POL2\\_Span & chr1:30365-30366  \\\\\n",
       "\t chr1 &  30803 &  31072 & chr1 &  30365 &  31365 & chr1:30365-30366:0-1K:+   & chr1 & 30365-30366   & 0-1K & + & 5.62995e-01 & MIR1302-11   & 269 & chr1\\_30803\\_31072   & TSS\\_POL2\\_Span & chr1:30365-30366  \\\\\n",
       "\t chr1 &  30803 &  31072 & chr1 &  30365 &  31365 & chr1:30365-30366:0-1K:+   & chr1 & 30365-30366   & 0-1K & + & 5.62995e-01 & MIR1302-2    & 269 & chr1\\_30803\\_31072   & TSS\\_POL2\\_Span & chr1:30365-30366  \\\\\n",
       "\t chr1 &  30803 &  31072 & chr1 &  30365 &  31365 & chr1:30365-30366:0-1K:+   & chr1 & 30365-30366   & 0-1K & + & 5.62995e-01 & MIR1302-9    & 269 & chr1\\_30803\\_31072   & TSS\\_POL2\\_Span & chr1:30365-30366  \\\\\n",
       "\t chr1 & 180982 & 182087 & chr1 & 181387 & 182387 & chr1:182387-182388:0-1K:- & chr1 & 182387-182388 & 0-1K & - & 7.79966e-03 & DDX11L17     & 700 & chr1\\_180982\\_182087 & TSS\\_POL2\\_Span & chr1:182387-182388\\\\\n",
       "\t chr1 & 777949 & 779437 & chr1 & 778634 & 779634 & chr1:778634-778635:0-1K:+ & chr1 & 778634-778635 & 0-1K & + & 2.30561e+02 & LOC100288069 & 803 & chr1\\_777949\\_779437 & TSS\\_POL2\\_Span & chr1:778634-778635\\\\\n",
       "\\end{tabular}\n"
      ],
      "text/markdown": [
       "\n",
       "A tibble: 6 × 17\n",
       "\n",
       "| Chrom_ATAC &lt;chr&gt; | Start_ATAC &lt;dbl&gt; | End_ATAC &lt;dbl&gt; | Chrom &lt;chr&gt; | Start &lt;dbl&gt; | End &lt;dbl&gt; | Name &lt;chr&gt; | Chrom_TSS &lt;chr&gt; | Loc_TSS &lt;chr&gt; | Label &lt;chr&gt; | Direction &lt;chr&gt; | Score &lt;dbl&gt; | Gene &lt;chr&gt; | Overlap &lt;dbl&gt; | Peak_ATAC &lt;chr&gt; | Annotation &lt;chr&gt; | TSS &lt;chr&gt; |\n",
       "|---|---|---|---|---|---|---|---|---|---|---|---|---|---|---|---|---|\n",
       "| chr1 |  30803 |  31072 | chr1 |  30365 |  31365 | chr1:30365-30366:0-1K:+   | chr1 | 30365-30366   | 0-1K | + | 5.62995e-01 | MIR1302-10   | 269 | chr1_30803_31072   | TSS_POL2_Span | chr1:30365-30366   |\n",
       "| chr1 |  30803 |  31072 | chr1 |  30365 |  31365 | chr1:30365-30366:0-1K:+   | chr1 | 30365-30366   | 0-1K | + | 5.62995e-01 | MIR1302-11   | 269 | chr1_30803_31072   | TSS_POL2_Span | chr1:30365-30366   |\n",
       "| chr1 |  30803 |  31072 | chr1 |  30365 |  31365 | chr1:30365-30366:0-1K:+   | chr1 | 30365-30366   | 0-1K | + | 5.62995e-01 | MIR1302-2    | 269 | chr1_30803_31072   | TSS_POL2_Span | chr1:30365-30366   |\n",
       "| chr1 |  30803 |  31072 | chr1 |  30365 |  31365 | chr1:30365-30366:0-1K:+   | chr1 | 30365-30366   | 0-1K | + | 5.62995e-01 | MIR1302-9    | 269 | chr1_30803_31072   | TSS_POL2_Span | chr1:30365-30366   |\n",
       "| chr1 | 180982 | 182087 | chr1 | 181387 | 182387 | chr1:182387-182388:0-1K:- | chr1 | 182387-182388 | 0-1K | - | 7.79966e-03 | DDX11L17     | 700 | chr1_180982_182087 | TSS_POL2_Span | chr1:182387-182388 |\n",
       "| chr1 | 777949 | 779437 | chr1 | 778634 | 779634 | chr1:778634-778635:0-1K:+ | chr1 | 778634-778635 | 0-1K | + | 2.30561e+02 | LOC100288069 | 803 | chr1_777949_779437 | TSS_POL2_Span | chr1:778634-778635 |\n",
       "\n"
      ],
      "text/plain": [
       "  Chrom_ATAC Start_ATAC End_ATAC Chrom Start  End    Name                     \n",
       "1 chr1        30803      31072   chr1   30365  31365 chr1:30365-30366:0-1K:+  \n",
       "2 chr1        30803      31072   chr1   30365  31365 chr1:30365-30366:0-1K:+  \n",
       "3 chr1        30803      31072   chr1   30365  31365 chr1:30365-30366:0-1K:+  \n",
       "4 chr1        30803      31072   chr1   30365  31365 chr1:30365-30366:0-1K:+  \n",
       "5 chr1       180982     182087   chr1  181387 182387 chr1:182387-182388:0-1K:-\n",
       "6 chr1       777949     779437   chr1  778634 779634 chr1:778634-778635:0-1K:+\n",
       "  Chrom_TSS Loc_TSS       Label Direction Score       Gene         Overlap\n",
       "1 chr1      30365-30366   0-1K  +         5.62995e-01 MIR1302-10   269    \n",
       "2 chr1      30365-30366   0-1K  +         5.62995e-01 MIR1302-11   269    \n",
       "3 chr1      30365-30366   0-1K  +         5.62995e-01 MIR1302-2    269    \n",
       "4 chr1      30365-30366   0-1K  +         5.62995e-01 MIR1302-9    269    \n",
       "5 chr1      182387-182388 0-1K  -         7.79966e-03 DDX11L17     700    \n",
       "6 chr1      778634-778635 0-1K  +         2.30561e+02 LOC100288069 803    \n",
       "  Peak_ATAC          Annotation    TSS               \n",
       "1 chr1_30803_31072   TSS_POL2_Span chr1:30365-30366  \n",
       "2 chr1_30803_31072   TSS_POL2_Span chr1:30365-30366  \n",
       "3 chr1_30803_31072   TSS_POL2_Span chr1:30365-30366  \n",
       "4 chr1_30803_31072   TSS_POL2_Span chr1:30365-30366  \n",
       "5 chr1_180982_182087 TSS_POL2_Span chr1:182387-182388\n",
       "6 chr1_777949_779437 TSS_POL2_Span chr1:778634-778635"
      ]
     },
     "metadata": {},
     "output_type": "display_data"
    }
   ],
   "source": [
    "annotation = \"TSS_POL2_Span\"\n",
    "cnames = dat_cnames$Name\n",
    "cnames = c(\"Chrom_ATAC\", \"Start_ATAC\", \"End_ATAC\", cnames, \"Overlap\")\n",
    "\n",
    "fdiry = file.path(\n",
    "    FD_RES, \n",
    "    \"results\", \n",
    "    \"region\", \n",
    "    \"KS91_K562_ASTARRseq_peak_macs_input\", \n",
    "    \"annotation_tss_pol2_span\")\n",
    "\n",
    "lst = lapply(labels, function(label){\n",
    "    ### set file path\n",
    "    fname = paste(\"*\", label, \"bed.gz\", sep = \".\")\n",
    "    fglob = file.path(fdiry, fname)\n",
    "    fpath = Sys.glob(fglob)\n",
    "    \n",
    "    ### read data\n",
    "    dat = read_tsv(fpath, col_names = cnames, show_col_types = FALSE)\n",
    "    dat = dat %>% dplyr::mutate(\n",
    "        Peak_ATAC  = paste(Chrom_ATAC, Start_ATAC, End_ATAC, sep=\"_\"),\n",
    "        #Peak_ATAC  = paste0(Chrom_ATAC, \":\", Start_ATAC, \"_\", End_ATAC),\n",
    "        Annotation = annotation\n",
    "    )\n",
    "    \n",
    "    ### set label\n",
    "    dat = dat %>% \n",
    "        tidyr::separate(Name, c(\"Chrom_TSS\", \"Loc_TSS\", \"Label\", \"Direction\"), sep=\":\", remove = FALSE) %>%\n",
    "        dplyr::mutate(TSS = paste(Chrom_TSS, Loc_TSS, sep=\":\"))\n",
    "    \n",
    "    return(dat)\n",
    "})\n",
    "\n",
    "lst_peak_annot = lst\n",
    "print(length(lst))\n",
    "head(lst[[1]])"
   ]
  },
  {
   "cell_type": "markdown",
   "metadata": {},
   "source": [
    "## Arrange and summarize"
   ]
  },
  {
   "cell_type": "code",
   "execution_count": 8,
   "metadata": {},
   "outputs": [
    {
     "name": "stdout",
     "output_type": "stream",
     "text": [
      "[1] 3270027       6\n"
     ]
    },
    {
     "data": {
      "text/html": [
       "<table class=\"dataframe\">\n",
       "<caption>A tibble: 6 × 6</caption>\n",
       "<thead>\n",
       "\t<tr><th scope=col>Peak</th><th scope=col>Annotation</th><th scope=col>Label</th><th scope=col>Direction</th><th scope=col>TSS</th><th scope=col>Gene</th></tr>\n",
       "\t<tr><th scope=col>&lt;chr&gt;</th><th scope=col>&lt;chr&gt;</th><th scope=col>&lt;chr&gt;</th><th scope=col>&lt;chr&gt;</th><th scope=col>&lt;chr&gt;</th><th scope=col>&lt;chr&gt;</th></tr>\n",
       "</thead>\n",
       "<tbody>\n",
       "\t<tr><td>chr1_30803_31072  </td><td>TSS_POL2_Span</td><td>0-1K</td><td>+</td><td>chr1:30365-30366  </td><td>MIR1302-10  </td></tr>\n",
       "\t<tr><td>chr1_30803_31072  </td><td>TSS_POL2_Span</td><td>0-1K</td><td>+</td><td>chr1:30365-30366  </td><td>MIR1302-11  </td></tr>\n",
       "\t<tr><td>chr1_30803_31072  </td><td>TSS_POL2_Span</td><td>0-1K</td><td>+</td><td>chr1:30365-30366  </td><td>MIR1302-2   </td></tr>\n",
       "\t<tr><td>chr1_30803_31072  </td><td>TSS_POL2_Span</td><td>0-1K</td><td>+</td><td>chr1:30365-30366  </td><td>MIR1302-9   </td></tr>\n",
       "\t<tr><td>chr1_180982_182087</td><td>TSS_POL2_Span</td><td>0-1K</td><td>-</td><td>chr1:182387-182388</td><td>DDX11L17    </td></tr>\n",
       "\t<tr><td>chr1_777949_779437</td><td>TSS_POL2_Span</td><td>0-1K</td><td>+</td><td>chr1:778634-778635</td><td>LOC100288069</td></tr>\n",
       "</tbody>\n",
       "</table>\n"
      ],
      "text/latex": [
       "A tibble: 6 × 6\n",
       "\\begin{tabular}{llllll}\n",
       " Peak & Annotation & Label & Direction & TSS & Gene\\\\\n",
       " <chr> & <chr> & <chr> & <chr> & <chr> & <chr>\\\\\n",
       "\\hline\n",
       "\t chr1\\_30803\\_31072   & TSS\\_POL2\\_Span & 0-1K & + & chr1:30365-30366   & MIR1302-10  \\\\\n",
       "\t chr1\\_30803\\_31072   & TSS\\_POL2\\_Span & 0-1K & + & chr1:30365-30366   & MIR1302-11  \\\\\n",
       "\t chr1\\_30803\\_31072   & TSS\\_POL2\\_Span & 0-1K & + & chr1:30365-30366   & MIR1302-2   \\\\\n",
       "\t chr1\\_30803\\_31072   & TSS\\_POL2\\_Span & 0-1K & + & chr1:30365-30366   & MIR1302-9   \\\\\n",
       "\t chr1\\_180982\\_182087 & TSS\\_POL2\\_Span & 0-1K & - & chr1:182387-182388 & DDX11L17    \\\\\n",
       "\t chr1\\_777949\\_779437 & TSS\\_POL2\\_Span & 0-1K & + & chr1:778634-778635 & LOC100288069\\\\\n",
       "\\end{tabular}\n"
      ],
      "text/markdown": [
       "\n",
       "A tibble: 6 × 6\n",
       "\n",
       "| Peak &lt;chr&gt; | Annotation &lt;chr&gt; | Label &lt;chr&gt; | Direction &lt;chr&gt; | TSS &lt;chr&gt; | Gene &lt;chr&gt; |\n",
       "|---|---|---|---|---|---|\n",
       "| chr1_30803_31072   | TSS_POL2_Span | 0-1K | + | chr1:30365-30366   | MIR1302-10   |\n",
       "| chr1_30803_31072   | TSS_POL2_Span | 0-1K | + | chr1:30365-30366   | MIR1302-11   |\n",
       "| chr1_30803_31072   | TSS_POL2_Span | 0-1K | + | chr1:30365-30366   | MIR1302-2    |\n",
       "| chr1_30803_31072   | TSS_POL2_Span | 0-1K | + | chr1:30365-30366   | MIR1302-9    |\n",
       "| chr1_180982_182087 | TSS_POL2_Span | 0-1K | - | chr1:182387-182388 | DDX11L17     |\n",
       "| chr1_777949_779437 | TSS_POL2_Span | 0-1K | + | chr1:778634-778635 | LOC100288069 |\n",
       "\n"
      ],
      "text/plain": [
       "  Peak               Annotation    Label Direction TSS               \n",
       "1 chr1_30803_31072   TSS_POL2_Span 0-1K  +         chr1:30365-30366  \n",
       "2 chr1_30803_31072   TSS_POL2_Span 0-1K  +         chr1:30365-30366  \n",
       "3 chr1_30803_31072   TSS_POL2_Span 0-1K  +         chr1:30365-30366  \n",
       "4 chr1_30803_31072   TSS_POL2_Span 0-1K  +         chr1:30365-30366  \n",
       "5 chr1_180982_182087 TSS_POL2_Span 0-1K  -         chr1:182387-182388\n",
       "6 chr1_777949_779437 TSS_POL2_Span 0-1K  +         chr1:778634-778635\n",
       "  Gene        \n",
       "1 MIR1302-10  \n",
       "2 MIR1302-11  \n",
       "3 MIR1302-2   \n",
       "4 MIR1302-9   \n",
       "5 DDX11L17    \n",
       "6 LOC100288069"
      ]
     },
     "metadata": {},
     "output_type": "display_data"
    }
   ],
   "source": [
    "lst = lst_peak_annot\n",
    "dat = bind_rows(lst)\n",
    "dat = dat %>% \n",
    "    dplyr::select(Peak_ATAC, Annotation, Label, Direction, TSS, Gene) %>% \n",
    "    dplyr::rename(\"Peak\" = \"Peak_ATAC\")\n",
    "\n",
    "dat_peak_annot = dat\n",
    "print(dim(dat))\n",
    "head(dat)"
   ]
  },
  {
   "cell_type": "markdown",
   "metadata": {},
   "source": [
    "## Save results"
   ]
  },
  {
   "cell_type": "code",
   "execution_count": 9,
   "metadata": {},
   "outputs": [],
   "source": [
    "fdiry = file.path(FD_RES, \"results\", \"region\", \"KS91_K562_ASTARRseq_peak_macs_input\", \"summary\")\n",
    "fname = \"peak.summary.tss_pol2_span.tsv\"\n",
    "fpath = file.path(fdiry, fname)\n",
    "\n",
    "dat = dat_peak_annot\n",
    "write_tsv(dat, fpath)"
   ]
  },
  {
   "cell_type": "code",
   "execution_count": null,
   "metadata": {},
   "outputs": [],
   "source": []
  }
 ],
 "metadata": {
  "kernelspec": {
   "display_name": "R (alex_py3)",
   "language": "R",
   "name": "ir_alex_py3"
  },
  "language_info": {
   "codemirror_mode": "r",
   "file_extension": ".r",
   "mimetype": "text/x-r-source",
   "name": "R",
   "pygments_lexer": "r",
   "version": "3.6.2"
  }
 },
 "nbformat": 4,
 "nbformat_minor": 4
}
