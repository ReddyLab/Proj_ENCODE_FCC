{
 "cells": [
  {
   "cell_type": "code",
   "execution_count": 1,
   "metadata": {},
   "outputs": [
    {
     "name": "stdout",
     "output_type": "stream",
     "text": [
      "You are on Duke Server: HARDAC\n",
      "BASE DIRECTORY (FD_BASE): /data/reddylab/Kuei\n",
      "WORK DIRECTORY (FD_WORK): /data/reddylab/Kuei/out\n",
      "CODE DIRECTORY (FD_CODE): /data/reddylab/Kuei/code\n",
      "SING DIRECTORY (FD_SING): /data/reddylab/Kuei/singularity\n",
      "PATH OF PROJECT (FD_PRJ): /data/reddylab/Kuei/code/Proj_CombEffect_ENCODE_FCC\n",
      "PATH OF RESULTS (FD_RES): /data/reddylab/Kuei/out/proj_combeffect_encode_fcc\n",
      "PATH OF LOG     (FD_LOG): /data/reddylab/Kuei/out/proj_combeffect_encode_fcc/log\n",
      "\n"
     ]
    }
   ],
   "source": [
    "### set env\n",
    "source ../config/config_duke.sh\n",
    "show_env"
   ]
  },
  {
   "cell_type": "code",
   "execution_count": 4,
   "metadata": {},
   "outputs": [
    {
     "name": "stdout",
     "output_type": "stream",
     "text": [
      "\u001b[0m\u001b[38;5;34m/data/common/shared_conda_envs/ucsc/bin/bigBedToBed\u001b[0m\n"
     ]
    }
   ],
   "source": [
    "FD_UCSC=/data/common/shared_conda_envs/ucsc/bin\n",
    "ls ${FD_UCSC}/bigBedToBed"
   ]
  },
  {
   "cell_type": "code",
   "execution_count": 20,
   "metadata": {},
   "outputs": [
    {
     "name": "stdout",
     "output_type": "stream",
     "text": [
      "bigBedToBed v1 - Convert from bigBed to ascii bed format.\n",
      "usage:\n",
      "   bigBedToBed input.bb output.bed\n",
      "options:\n",
      "   -chrom=chr1 - if set restrict output to given chromosome\n",
      "   -start=N - if set, restrict output to only that over start\n",
      "   -end=N - if set, restict output to only that under end\n",
      "   -maxItems=N - if set, restrict output to first N items\n",
      "   -udcDir=/dir/to/cache - place to put cache for remote bigBed/bigWigs\n",
      "\n"
     ]
    },
    {
     "ename": "",
     "evalue": "255",
     "output_type": "error",
     "traceback": []
    }
   ],
   "source": [
    "${FD_UCSC}/bigBedToBed"
   ]
  },
  {
   "cell_type": "code",
   "execution_count": 9,
   "metadata": {},
   "outputs": [
    {
     "name": "stdout",
     "output_type": "stream",
     "text": [
      "ChIP_ENCSR000EWA-ENCSR000AKP-ENCSR000EWC-ENCSR000DWB-ENCSR000EWB-ENCSR000APE.bb\n"
     ]
    }
   ],
   "source": [
    "ls ${FD_RES}/source/annotation_chromHMM"
   ]
  },
  {
   "cell_type": "code",
   "execution_count": 14,
   "metadata": {},
   "outputs": [
    {
     "name": "stdout",
     "output_type": "stream",
     "text": [
      "\u001b[0m\u001b[38;5;27mannotation_chipseq\u001b[0m                   region_screened_crispri_flowfish.bed\n",
      "\u001b[38;5;27mannotation_chromHMM\u001b[0m                  region_screened_selected.bed\n",
      "\u001b[38;5;27mannotation_crispri_casa\u001b[0m              region_screened_selected_perbase.bed\n",
      "\u001b[38;5;27mannotation_enhancer_junke\u001b[0m            \u001b[38;5;9mregion_screened_selected_perbase.bed.gz\u001b[0m\n",
      "\u001b[38;5;27mannotation_gencode\u001b[0m                   region_screened_tmpra.bed\n",
      "\u001b[38;5;27mKS91_K562_ASTARRseq_peak_macs_input\u001b[0m  region_screened_tmpra_crispr.bed\n"
     ]
    }
   ],
   "source": [
    "ls ${FD_RES}/results/region"
   ]
  },
  {
   "cell_type": "code",
   "execution_count": 21,
   "metadata": {},
   "outputs": [
    {
     "name": "stdout",
     "output_type": "stream",
     "text": [
      "/data/reddylab/Kuei/out/proj_combeffect_encode_fcc/source/annotation_chromHMM/ChIP_ENCSR000EWA-ENCSR000AKP-ENCSR000EWC-ENCSR000DWB-ENCSR000EWB-ENCSR000APE.bb\n",
      "\n",
      "/data/reddylab/Kuei/out/proj_combeffect_encode_fcc/results/region/annotation_chromHMM/ChIP_ENCSR000EWA-ENCSR000AKP-ENCSR000EWC-ENCSR000DWB-ENCSR000EWB-ENCSR000APE.bed\n",
      "\n"
     ]
    }
   ],
   "source": [
    "FD_INP=${FD_RES}/source/annotation_chromHMM\n",
    "FN_INP=ChIP_ENCSR000EWA-ENCSR000AKP-ENCSR000EWC-ENCSR000DWB-ENCSR000EWB-ENCSR000APE.bb\n",
    "FP_INP=${FD_INP}/${FN_INP}\n",
    "\n",
    "FD_OUT=${FD_RES}/results/region/annotation_chromHMM\n",
    "FN_OUT=${FN_INP%%.bb}.bed\n",
    "FP_OUT=${FD_OUT}/${FN_OUT}\n",
    "\n",
    "echo ${FP_INP}\n",
    "echo\n",
    "echo ${FP_OUT}\n",
    "echo\n",
    "\n",
    "${FD_UCSC}/bigBedToBed ${FP_INP} ${FP_OUT}"
   ]
  },
  {
   "cell_type": "code",
   "execution_count": 22,
   "metadata": {},
   "outputs": [
    {
     "name": "stdout",
     "output_type": "stream",
     "text": [
      "ChIP_ENCSR000EWA-ENCSR000AKP-ENCSR000EWC-ENCSR000DWB-ENCSR000EWB-ENCSR000APE.bed\n"
     ]
    }
   ],
   "source": [
    "ls ${FD_OUT}"
   ]
  },
  {
   "cell_type": "code",
   "execution_count": 23,
   "metadata": {},
   "outputs": [
    {
     "name": "stdout",
     "output_type": "stream",
     "text": [
      "chr1\t0\t16000\tQuies\t1\t.\t0\t16000\t220,220,220\n",
      "chr1\t16000\t16200\tTxWk\t1\t.\t16000\t16200\t63,154,80\n",
      "chr1\t16200\t17400\tQuies\t1\t.\t16200\t17400\t220,220,220\n",
      "chr1\t17400\t17600\tTxWk\t1\t.\t17400\t17600\t63,154,80\n",
      "chr1\t17600\t118400\tQuies\t1\t.\t17600\t118400\t220,220,220\n",
      "chr1\t118400\t120200\tEnh1\t1\t.\t118400\t120200\t255,223,0\n",
      "chr1\t120200\t133200\tQuies\t1\t.\t120200\t133200\t220,220,220\n",
      "chr1\t133200\t133800\tTxWk\t1\t.\t133200\t133800\t63,154,80\n",
      "chr1\t133800\t135000\tQuies\t1\t.\t133800\t135000\t220,220,220\n",
      "chr1\t135000\t135400\tTxWk\t1\t.\t135000\t135400\t63,154,80\n"
     ]
    }
   ],
   "source": [
    "head ${FP_OUT}"
   ]
  },
  {
   "cell_type": "code",
   "execution_count": null,
   "metadata": {},
   "outputs": [],
   "source": []
  }
 ],
 "metadata": {
  "kernelspec": {
   "display_name": "Bash",
   "language": "bash",
   "name": "bash"
  },
  "language_info": {
   "codemirror_mode": "shell",
   "file_extension": ".sh",
   "mimetype": "text/x-sh",
   "name": "bash"
  }
 },
 "nbformat": 4,
 "nbformat_minor": 5
}
