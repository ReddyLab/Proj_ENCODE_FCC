{
 "cells": [
  {
   "cell_type": "markdown",
   "metadata": {},
   "source": [
    "**Set environment**"
   ]
  },
  {
   "cell_type": "code",
   "execution_count": 1,
   "metadata": {},
   "outputs": [
    {
     "name": "stdout",
     "output_type": "stream",
     "text": [
      "You are in Singularity: singularity_proj_encode_fcc \n",
      "BASE DIRECTORY (FD_BASE): /data/reddylab/Kuei \n",
      "WORK DIRECTORY (FD_WORK): /data/reddylab/Kuei/out \n",
      "CODE DIRECTORY (FD_CODE): /data/reddylab/Kuei/code \n",
      "PATH OF PROJECT (FD_PRJ): /data/reddylab/Kuei/code/Proj_CombEffect_ENCODE_FCC \n",
      "PATH OF RESULTS (FD_RES): /data/reddylab/Kuei/out/proj_combeffect_encode_fcc \n",
      "PATH OF LOG     (FD_LOG): /data/reddylab/Kuei/out/proj_combeffect_encode_fcc/log \n"
     ]
    }
   ],
   "source": [
    "suppressMessages(suppressWarnings(source(\"../config/config_sing.R\")))\n",
    "show_env()"
   ]
  },
  {
   "cell_type": "markdown",
   "metadata": {},
   "source": [
    "**Check data**"
   ]
  },
  {
   "cell_type": "code",
   "execution_count": 2,
   "metadata": {},
   "outputs": [
    {
     "data": {
      "text/html": [
       "<style>\n",
       ".list-inline {list-style: none; margin:0; padding: 0}\n",
       ".list-inline>li {display: inline-block}\n",
       ".list-inline>li:not(:last-child)::after {content: \"\\00b7\"; padding: 0 .5ex}\n",
       "</style>\n",
       "<ol class=list-inline><li>'distal_regulation_combined_crispr_data_methods-1.pdf'</li><li>'K562.ENCSR998YDI.ENCFF968BZL.element_gene_links.tsv'</li></ol>\n"
      ],
      "text/latex": [
       "\\begin{enumerate*}\n",
       "\\item 'distal\\_regulation\\_combined\\_crispr\\_data\\_methods-1.pdf'\n",
       "\\item 'K562.ENCSR998YDI.ENCFF968BZL.element\\_gene\\_links.tsv'\n",
       "\\end{enumerate*}\n"
      ],
      "text/markdown": [
       "1. 'distal_regulation_combined_crispr_data_methods-1.pdf'\n",
       "2. 'K562.ENCSR998YDI.ENCFF968BZL.element_gene_links.tsv'\n",
       "\n",
       "\n"
      ],
      "text/plain": [
       "[1] \"distal_regulation_combined_crispr_data_methods-1.pdf\"\n",
       "[2] \"K562.ENCSR998YDI.ENCFF968BZL.element_gene_links.tsv\" "
      ]
     },
     "metadata": {},
     "output_type": "display_data"
    }
   ],
   "source": [
    "fdiry = file.path(FD_RES, \"source\", \"ENCODE_E2G\", \"annotation_e2g_benchmark_ENCSR998YDI\")\n",
    "dir(fdiry)"
   ]
  },
  {
   "cell_type": "markdown",
   "metadata": {},
   "source": [
    "## Import data"
   ]
  },
  {
   "cell_type": "code",
   "execution_count": 5,
   "metadata": {},
   "outputs": [
    {
     "name": "stdout",
     "output_type": "stream",
     "text": [
      "[1] 10412    28\n"
     ]
    },
    {
     "data": {
      "text/html": [
       "<table class=\"dataframe\">\n",
       "<caption>A tibble: 6 × 28</caption>\n",
       "<thead>\n",
       "\t<tr><th scope=col>chrom</th><th scope=col>chromStart</th><th scope=col>chromEnd</th><th scope=col>name</th><th scope=col>EffectSize</th><th scope=col>strandPerturbationTarget</th><th scope=col>PerturbationTargetID</th><th scope=col>chrTSS</th><th scope=col>startTSS</th><th scope=col>endTSS</th><th scope=col>⋯</th><th scope=col>pValue</th><th scope=col>pValueAdjusted</th><th scope=col>PowerAtEffectSize25</th><th scope=col>PowerAtEffectSize10</th><th scope=col>PowerAtEffectSize15</th><th scope=col>PowerAtEffectSize20</th><th scope=col>PowerAtEffectSize50</th><th scope=col>ValidConnection</th><th scope=col>Notes</th><th scope=col>Reference</th></tr>\n",
       "\t<tr><th scope=col>&lt;chr&gt;</th><th scope=col>&lt;dbl&gt;</th><th scope=col>&lt;dbl&gt;</th><th scope=col>&lt;chr&gt;</th><th scope=col>&lt;dbl&gt;</th><th scope=col>&lt;chr&gt;</th><th scope=col>&lt;chr&gt;</th><th scope=col>&lt;chr&gt;</th><th scope=col>&lt;dbl&gt;</th><th scope=col>&lt;dbl&gt;</th><th scope=col>⋯</th><th scope=col>&lt;dbl&gt;</th><th scope=col>&lt;dbl&gt;</th><th scope=col>&lt;dbl&gt;</th><th scope=col>&lt;dbl&gt;</th><th scope=col>&lt;dbl&gt;</th><th scope=col>&lt;dbl&gt;</th><th scope=col>&lt;dbl&gt;</th><th scope=col>&lt;lgl&gt;</th><th scope=col>&lt;chr&gt;</th><th scope=col>&lt;chr&gt;</th></tr>\n",
       "</thead>\n",
       "<tbody>\n",
       "\t<tr><td>chr1</td><td>3774714</td><td>3775214</td><td>CEP104|chr1:3691278-3691778:.</td><td>-0.293431866</td><td>.</td><td>chr1:3691278-3691778:.</td><td>chr1</td><td>3857213</td><td>3857214</td><td>⋯</td><td>       NA</td><td>0.004023984</td><td>0.8250936</td><td>  NA</td><td>  NA</td><td>  NA</td><td>NA</td><td>TRUE</td><td>Dataset: Fulco2019    </td><td>Ulirsch et al., 2016  </td></tr>\n",
       "\t<tr><td>chr1</td><td>3774714</td><td>3775214</td><td>LRRC47|chr1:3691278-3691778:.</td><td>-0.331178093</td><td>.</td><td>chr1:3691278-3691778:.</td><td>chr1</td><td>3796503</td><td>3796504</td><td>⋯</td><td>       NA</td><td>0.007771168</td><td>0.6089942</td><td>  NA</td><td>  NA</td><td>  NA</td><td>NA</td><td>TRUE</td><td>Dataset: Fulco2019    </td><td>Ulirsch et al., 2016  </td></tr>\n",
       "\t<tr><td>chr1</td><td>3774714</td><td>3775214</td><td>SMIM1|chr1:3691278-3691778:. </td><td>-0.472019217</td><td>.</td><td>chr1:3691278-3691778:.</td><td>chr1</td><td>3772761</td><td>3772762</td><td>⋯</td><td>       NA</td><td>0.000641649</td><td>0.6393323</td><td>  NA</td><td>  NA</td><td>  NA</td><td>NA</td><td>TRUE</td><td>Dataset: Fulco2019    </td><td>Ulirsch et al., 2016  </td></tr>\n",
       "\t<tr><td>chr1</td><td>3803570</td><td>3805848</td><td>LRRC47|chr1:3720134-3722412:.</td><td>-0.001471265</td><td>.</td><td>chr1:3720134-3722412:.</td><td>chr1</td><td>3796503</td><td>3796504</td><td>⋯</td><td>0.6818652</td><td>0.999918431</td><td>1.0000000</td><td>0.40</td><td>0.80</td><td>0.85</td><td> 1</td><td>TRUE</td><td>Dataset: Gasperini2019</td><td>Gasperini et al., 2019</td></tr>\n",
       "\t<tr><td>chr1</td><td>3803570</td><td>3805848</td><td>SMIM1|chr1:3720134-3722412:. </td><td> 0.025676924</td><td>.</td><td>chr1:3720134-3722412:.</td><td>chr1</td><td>3772788</td><td>3772789</td><td>⋯</td><td>0.3199596</td><td>0.994159681</td><td>1.0000000</td><td>0.80</td><td>0.85</td><td>1.00</td><td> 1</td><td>TRUE</td><td>Dataset: Gasperini2019</td><td>Gasperini et al., 2019</td></tr>\n",
       "\t<tr><td>chr1</td><td>4126791</td><td>4127291</td><td>SMIM1|chr1:4186851-4187351:. </td><td> 0.023383787</td><td>.</td><td>chr1:4186851-4187351:.</td><td>chr1</td><td>3772788</td><td>3772789</td><td>⋯</td><td>0.3058098</td><td>0.992197132</td><td>0.9500000</td><td>0.55</td><td>0.80</td><td>0.90</td><td> 1</td><td>TRUE</td><td>Dataset: Gasperini2019</td><td>Gasperini et al., 2019</td></tr>\n",
       "</tbody>\n",
       "</table>\n"
      ],
      "text/latex": [
       "A tibble: 6 × 28\n",
       "\\begin{tabular}{lllllllllllllllllllll}\n",
       " chrom & chromStart & chromEnd & name & EffectSize & strandPerturbationTarget & PerturbationTargetID & chrTSS & startTSS & endTSS & ⋯ & pValue & pValueAdjusted & PowerAtEffectSize25 & PowerAtEffectSize10 & PowerAtEffectSize15 & PowerAtEffectSize20 & PowerAtEffectSize50 & ValidConnection & Notes & Reference\\\\\n",
       " <chr> & <dbl> & <dbl> & <chr> & <dbl> & <chr> & <chr> & <chr> & <dbl> & <dbl> & ⋯ & <dbl> & <dbl> & <dbl> & <dbl> & <dbl> & <dbl> & <dbl> & <lgl> & <chr> & <chr>\\\\\n",
       "\\hline\n",
       "\t chr1 & 3774714 & 3775214 & CEP104\\textbar{}chr1:3691278-3691778:. & -0.293431866 & . & chr1:3691278-3691778:. & chr1 & 3857213 & 3857214 & ⋯ &        NA & 0.004023984 & 0.8250936 &   NA &   NA &   NA & NA & TRUE & Dataset: Fulco2019     & Ulirsch et al., 2016  \\\\\n",
       "\t chr1 & 3774714 & 3775214 & LRRC47\\textbar{}chr1:3691278-3691778:. & -0.331178093 & . & chr1:3691278-3691778:. & chr1 & 3796503 & 3796504 & ⋯ &        NA & 0.007771168 & 0.6089942 &   NA &   NA &   NA & NA & TRUE & Dataset: Fulco2019     & Ulirsch et al., 2016  \\\\\n",
       "\t chr1 & 3774714 & 3775214 & SMIM1\\textbar{}chr1:3691278-3691778:.  & -0.472019217 & . & chr1:3691278-3691778:. & chr1 & 3772761 & 3772762 & ⋯ &        NA & 0.000641649 & 0.6393323 &   NA &   NA &   NA & NA & TRUE & Dataset: Fulco2019     & Ulirsch et al., 2016  \\\\\n",
       "\t chr1 & 3803570 & 3805848 & LRRC47\\textbar{}chr1:3720134-3722412:. & -0.001471265 & . & chr1:3720134-3722412:. & chr1 & 3796503 & 3796504 & ⋯ & 0.6818652 & 0.999918431 & 1.0000000 & 0.40 & 0.80 & 0.85 &  1 & TRUE & Dataset: Gasperini2019 & Gasperini et al., 2019\\\\\n",
       "\t chr1 & 3803570 & 3805848 & SMIM1\\textbar{}chr1:3720134-3722412:.  &  0.025676924 & . & chr1:3720134-3722412:. & chr1 & 3772788 & 3772789 & ⋯ & 0.3199596 & 0.994159681 & 1.0000000 & 0.80 & 0.85 & 1.00 &  1 & TRUE & Dataset: Gasperini2019 & Gasperini et al., 2019\\\\\n",
       "\t chr1 & 4126791 & 4127291 & SMIM1\\textbar{}chr1:4186851-4187351:.  &  0.023383787 & . & chr1:4186851-4187351:. & chr1 & 3772788 & 3772789 & ⋯ & 0.3058098 & 0.992197132 & 0.9500000 & 0.55 & 0.80 & 0.90 &  1 & TRUE & Dataset: Gasperini2019 & Gasperini et al., 2019\\\\\n",
       "\\end{tabular}\n"
      ],
      "text/markdown": [
       "\n",
       "A tibble: 6 × 28\n",
       "\n",
       "| chrom &lt;chr&gt; | chromStart &lt;dbl&gt; | chromEnd &lt;dbl&gt; | name &lt;chr&gt; | EffectSize &lt;dbl&gt; | strandPerturbationTarget &lt;chr&gt; | PerturbationTargetID &lt;chr&gt; | chrTSS &lt;chr&gt; | startTSS &lt;dbl&gt; | endTSS &lt;dbl&gt; | ⋯ ⋯ | pValue &lt;dbl&gt; | pValueAdjusted &lt;dbl&gt; | PowerAtEffectSize25 &lt;dbl&gt; | PowerAtEffectSize10 &lt;dbl&gt; | PowerAtEffectSize15 &lt;dbl&gt; | PowerAtEffectSize20 &lt;dbl&gt; | PowerAtEffectSize50 &lt;dbl&gt; | ValidConnection &lt;lgl&gt; | Notes &lt;chr&gt; | Reference &lt;chr&gt; |\n",
       "|---|---|---|---|---|---|---|---|---|---|---|---|---|---|---|---|---|---|---|---|---|\n",
       "| chr1 | 3774714 | 3775214 | CEP104|chr1:3691278-3691778:. | -0.293431866 | . | chr1:3691278-3691778:. | chr1 | 3857213 | 3857214 | ⋯ |        NA | 0.004023984 | 0.8250936 |   NA |   NA |   NA | NA | TRUE | Dataset: Fulco2019     | Ulirsch et al., 2016   |\n",
       "| chr1 | 3774714 | 3775214 | LRRC47|chr1:3691278-3691778:. | -0.331178093 | . | chr1:3691278-3691778:. | chr1 | 3796503 | 3796504 | ⋯ |        NA | 0.007771168 | 0.6089942 |   NA |   NA |   NA | NA | TRUE | Dataset: Fulco2019     | Ulirsch et al., 2016   |\n",
       "| chr1 | 3774714 | 3775214 | SMIM1|chr1:3691278-3691778:.  | -0.472019217 | . | chr1:3691278-3691778:. | chr1 | 3772761 | 3772762 | ⋯ |        NA | 0.000641649 | 0.6393323 |   NA |   NA |   NA | NA | TRUE | Dataset: Fulco2019     | Ulirsch et al., 2016   |\n",
       "| chr1 | 3803570 | 3805848 | LRRC47|chr1:3720134-3722412:. | -0.001471265 | . | chr1:3720134-3722412:. | chr1 | 3796503 | 3796504 | ⋯ | 0.6818652 | 0.999918431 | 1.0000000 | 0.40 | 0.80 | 0.85 |  1 | TRUE | Dataset: Gasperini2019 | Gasperini et al., 2019 |\n",
       "| chr1 | 3803570 | 3805848 | SMIM1|chr1:3720134-3722412:.  |  0.025676924 | . | chr1:3720134-3722412:. | chr1 | 3772788 | 3772789 | ⋯ | 0.3199596 | 0.994159681 | 1.0000000 | 0.80 | 0.85 | 1.00 |  1 | TRUE | Dataset: Gasperini2019 | Gasperini et al., 2019 |\n",
       "| chr1 | 4126791 | 4127291 | SMIM1|chr1:4186851-4187351:.  |  0.023383787 | . | chr1:4186851-4187351:. | chr1 | 3772788 | 3772789 | ⋯ | 0.3058098 | 0.992197132 | 0.9500000 | 0.55 | 0.80 | 0.90 |  1 | TRUE | Dataset: Gasperini2019 | Gasperini et al., 2019 |\n",
       "\n"
      ],
      "text/plain": [
       "  chrom chromStart chromEnd name                          EffectSize  \n",
       "1 chr1  3774714    3775214  CEP104|chr1:3691278-3691778:. -0.293431866\n",
       "2 chr1  3774714    3775214  LRRC47|chr1:3691278-3691778:. -0.331178093\n",
       "3 chr1  3774714    3775214  SMIM1|chr1:3691278-3691778:.  -0.472019217\n",
       "4 chr1  3803570    3805848  LRRC47|chr1:3720134-3722412:. -0.001471265\n",
       "5 chr1  3803570    3805848  SMIM1|chr1:3720134-3722412:.   0.025676924\n",
       "6 chr1  4126791    4127291  SMIM1|chr1:4186851-4187351:.   0.023383787\n",
       "  strandPerturbationTarget PerturbationTargetID   chrTSS startTSS endTSS  ⋯\n",
       "1 .                        chr1:3691278-3691778:. chr1   3857213  3857214 ⋯\n",
       "2 .                        chr1:3691278-3691778:. chr1   3796503  3796504 ⋯\n",
       "3 .                        chr1:3691278-3691778:. chr1   3772761  3772762 ⋯\n",
       "4 .                        chr1:3720134-3722412:. chr1   3796503  3796504 ⋯\n",
       "5 .                        chr1:3720134-3722412:. chr1   3772788  3772789 ⋯\n",
       "6 .                        chr1:4186851-4187351:. chr1   3772788  3772789 ⋯\n",
       "  pValue    pValueAdjusted PowerAtEffectSize25 PowerAtEffectSize10\n",
       "1        NA 0.004023984    0.8250936             NA               \n",
       "2        NA 0.007771168    0.6089942             NA               \n",
       "3        NA 0.000641649    0.6393323             NA               \n",
       "4 0.6818652 0.999918431    1.0000000           0.40               \n",
       "5 0.3199596 0.994159681    1.0000000           0.80               \n",
       "6 0.3058098 0.992197132    0.9500000           0.55               \n",
       "  PowerAtEffectSize15 PowerAtEffectSize20 PowerAtEffectSize50 ValidConnection\n",
       "1   NA                  NA                NA                  TRUE           \n",
       "2   NA                  NA                NA                  TRUE           \n",
       "3   NA                  NA                NA                  TRUE           \n",
       "4 0.80                0.85                 1                  TRUE           \n",
       "5 0.85                1.00                 1                  TRUE           \n",
       "6 0.80                0.90                 1                  TRUE           \n",
       "  Notes                  Reference             \n",
       "1 Dataset: Fulco2019     Ulirsch et al., 2016  \n",
       "2 Dataset: Fulco2019     Ulirsch et al., 2016  \n",
       "3 Dataset: Fulco2019     Ulirsch et al., 2016  \n",
       "4 Dataset: Gasperini2019 Gasperini et al., 2019\n",
       "5 Dataset: Gasperini2019 Gasperini et al., 2019\n",
       "6 Dataset: Gasperini2019 Gasperini et al., 2019"
      ]
     },
     "metadata": {},
     "output_type": "display_data"
    }
   ],
   "source": [
    "fdiry = file.path(FD_RES, \"source\", \"ENCODE_E2G\", \"annotation_e2g_benchmark_ENCSR998YDI\")\n",
    "fname = \"K562.ENCSR998YDI.ENCFF968BZL.element_gene_links.tsv\"\n",
    "fpath = file.path(fdiry, fname)\n",
    "\n",
    "dat = read_tsv(fpath, show_col_types = FALSE)\n",
    "\n",
    "dat_peak_encode_e2g_import = dat\n",
    "print(dim(dat))\n",
    "head(dat)"
   ]
  },
  {
   "cell_type": "code",
   "execution_count": 4,
   "metadata": {},
   "outputs": [
    {
     "name": "stdout",
     "output_type": "stream",
     "text": [
      "chrom \n",
      "chromStart \n",
      "chromEnd \n",
      "name \n",
      "EffectSize \n",
      "strandPerturbationTarget \n",
      "PerturbationTargetID \n",
      "chrTSS \n",
      "startTSS \n",
      "endTSS \n",
      "strandGene \n",
      "EffectSize95ConfidenceIntervalLow \n",
      "EffectSize95ConfidenceIntervalHigh \n",
      "measuredGeneSymbol \n",
      "measuredEnsemblID \n",
      "guideSpacerSeq \n",
      "guideSeq \n",
      "Significant \n",
      "pValue \n",
      "pValueAdjusted \n",
      "PowerAtEffectSize25 \n",
      "PowerAtEffectSize10 \n",
      "PowerAtEffectSize15 \n",
      "PowerAtEffectSize20 \n",
      "PowerAtEffectSize50 \n",
      "ValidConnection \n",
      "Notes \n",
      "Reference \n"
     ]
    }
   ],
   "source": [
    "for (txt in colnames(dat)){cat(txt, \"\\n\")}"
   ]
  },
  {
   "cell_type": "markdown",
   "metadata": {},
   "source": [
    "## Arrange"
   ]
  },
  {
   "cell_type": "code",
   "execution_count": 13,
   "metadata": {},
   "outputs": [
    {
     "data": {
      "text/html": [
       "<table class=\"dataframe\">\n",
       "<caption>A tibble: 6 × 4</caption>\n",
       "<thead>\n",
       "\t<tr><th scope=col>Significant</th><th scope=col>pValue</th><th scope=col>pValueAdjusted</th><th scope=col>ValidConnection</th></tr>\n",
       "\t<tr><th scope=col>&lt;lgl&gt;</th><th scope=col>&lt;dbl&gt;</th><th scope=col>&lt;dbl&gt;</th><th scope=col>&lt;lgl&gt;</th></tr>\n",
       "</thead>\n",
       "<tbody>\n",
       "\t<tr><td> TRUE</td><td>       NA</td><td>0.004023984</td><td>TRUE</td></tr>\n",
       "\t<tr><td> TRUE</td><td>       NA</td><td>0.007771168</td><td>TRUE</td></tr>\n",
       "\t<tr><td> TRUE</td><td>       NA</td><td>0.000641649</td><td>TRUE</td></tr>\n",
       "\t<tr><td>FALSE</td><td>0.6818652</td><td>0.999918431</td><td>TRUE</td></tr>\n",
       "\t<tr><td>FALSE</td><td>0.3199596</td><td>0.994159681</td><td>TRUE</td></tr>\n",
       "\t<tr><td>FALSE</td><td>0.3058098</td><td>0.992197132</td><td>TRUE</td></tr>\n",
       "</tbody>\n",
       "</table>\n"
      ],
      "text/latex": [
       "A tibble: 6 × 4\n",
       "\\begin{tabular}{llll}\n",
       " Significant & pValue & pValueAdjusted & ValidConnection\\\\\n",
       " <lgl> & <dbl> & <dbl> & <lgl>\\\\\n",
       "\\hline\n",
       "\t  TRUE &        NA & 0.004023984 & TRUE\\\\\n",
       "\t  TRUE &        NA & 0.007771168 & TRUE\\\\\n",
       "\t  TRUE &        NA & 0.000641649 & TRUE\\\\\n",
       "\t FALSE & 0.6818652 & 0.999918431 & TRUE\\\\\n",
       "\t FALSE & 0.3199596 & 0.994159681 & TRUE\\\\\n",
       "\t FALSE & 0.3058098 & 0.992197132 & TRUE\\\\\n",
       "\\end{tabular}\n"
      ],
      "text/markdown": [
       "\n",
       "A tibble: 6 × 4\n",
       "\n",
       "| Significant &lt;lgl&gt; | pValue &lt;dbl&gt; | pValueAdjusted &lt;dbl&gt; | ValidConnection &lt;lgl&gt; |\n",
       "|---|---|---|---|\n",
       "|  TRUE |        NA | 0.004023984 | TRUE |\n",
       "|  TRUE |        NA | 0.007771168 | TRUE |\n",
       "|  TRUE |        NA | 0.000641649 | TRUE |\n",
       "| FALSE | 0.6818652 | 0.999918431 | TRUE |\n",
       "| FALSE | 0.3199596 | 0.994159681 | TRUE |\n",
       "| FALSE | 0.3058098 | 0.992197132 | TRUE |\n",
       "\n"
      ],
      "text/plain": [
       "  Significant pValue    pValueAdjusted ValidConnection\n",
       "1  TRUE              NA 0.004023984    TRUE           \n",
       "2  TRUE              NA 0.007771168    TRUE           \n",
       "3  TRUE              NA 0.000641649    TRUE           \n",
       "4 FALSE       0.6818652 0.999918431    TRUE           \n",
       "5 FALSE       0.3199596 0.994159681    TRUE           \n",
       "6 FALSE       0.3058098 0.992197132    TRUE           "
      ]
     },
     "metadata": {},
     "output_type": "display_data"
    }
   ],
   "source": [
    "dat = dat_peak_encode_e2g_import\n",
    "dat = dat %>% dplyr::select(Significant, pValue, pValueAdjusted, ValidConnection)\n",
    "head(dat)"
   ]
  },
  {
   "cell_type": "code",
   "execution_count": 12,
   "metadata": {},
   "outputs": [
    {
     "data": {
      "text/plain": [
       "\n",
       "FALSE  TRUE \n",
       " 9843   569 "
      ]
     },
     "metadata": {},
     "output_type": "display_data"
    }
   ],
   "source": [
    "table(dat$Significant)"
   ]
  },
  {
   "cell_type": "code",
   "execution_count": 8,
   "metadata": {},
   "outputs": [
    {
     "name": "stdout",
     "output_type": "stream",
     "text": [
      "#Row:  10412 \n",
      "#Gene: 2146 \n"
     ]
    },
    {
     "data": {
      "text/html": [
       "<table class=\"dataframe\">\n",
       "<caption>A tibble: 6 × 12</caption>\n",
       "<thead>\n",
       "\t<tr><th scope=col>Chrom</th><th scope=col>Start</th><th scope=col>End</th><th scope=col>Name</th><th scope=col>EffectSize</th><th scope=col>Region</th><th scope=col>Gene_Symbol</th><th scope=col>Gene_TSS</th><th scope=col>Significant</th><th scope=col>Reference</th><th scope=col>Assay_Type</th><th scope=col>Assay_Label</th></tr>\n",
       "\t<tr><th scope=col>&lt;chr&gt;</th><th scope=col>&lt;dbl&gt;</th><th scope=col>&lt;dbl&gt;</th><th scope=col>&lt;chr&gt;</th><th scope=col>&lt;dbl&gt;</th><th scope=col>&lt;chr&gt;</th><th scope=col>&lt;chr&gt;</th><th scope=col>&lt;chr&gt;</th><th scope=col>&lt;lgl&gt;</th><th scope=col>&lt;chr&gt;</th><th scope=col>&lt;chr&gt;</th><th scope=col>&lt;chr&gt;</th></tr>\n",
       "</thead>\n",
       "<tbody>\n",
       "\t<tr><td>chr1</td><td>3774714</td><td>3775214</td><td>CEP104|chr1:3691278-3691778:.</td><td>-0.29343</td><td>chr1:3774714-3775214</td><td>CEP104</td><td>chr1:3857213-3857214</td><td> TRUE</td><td>Ulirsch et al., 2016  </td><td>ENCODE-E2G_Benchmark</td><td>ENCODE-E2G_Benchmark:CEP104</td></tr>\n",
       "\t<tr><td>chr1</td><td>3774714</td><td>3775214</td><td>LRRC47|chr1:3691278-3691778:.</td><td>-0.33118</td><td>chr1:3774714-3775214</td><td>LRRC47</td><td>chr1:3796503-3796504</td><td> TRUE</td><td>Ulirsch et al., 2016  </td><td>ENCODE-E2G_Benchmark</td><td>ENCODE-E2G_Benchmark:LRRC47</td></tr>\n",
       "\t<tr><td>chr1</td><td>3774714</td><td>3775214</td><td>SMIM1|chr1:3691278-3691778:. </td><td>-0.47202</td><td>chr1:3774714-3775214</td><td>SMIM1 </td><td>chr1:3772761-3772762</td><td> TRUE</td><td>Ulirsch et al., 2016  </td><td>ENCODE-E2G_Benchmark</td><td>ENCODE-E2G_Benchmark:SMIM1 </td></tr>\n",
       "\t<tr><td>chr1</td><td>3803570</td><td>3805848</td><td>LRRC47|chr1:3720134-3722412:.</td><td>-0.00147</td><td>chr1:3803570-3805848</td><td>LRRC47</td><td>chr1:3796503-3796504</td><td>FALSE</td><td>Gasperini et al., 2019</td><td>ENCODE-E2G_Benchmark</td><td>ENCODE-E2G_Benchmark:LRRC47</td></tr>\n",
       "\t<tr><td>chr1</td><td>3803570</td><td>3805848</td><td>SMIM1|chr1:3720134-3722412:. </td><td> 0.02568</td><td>chr1:3803570-3805848</td><td>SMIM1 </td><td>chr1:3772788-3772789</td><td>FALSE</td><td>Gasperini et al., 2019</td><td>ENCODE-E2G_Benchmark</td><td>ENCODE-E2G_Benchmark:SMIM1 </td></tr>\n",
       "\t<tr><td>chr1</td><td>4126791</td><td>4127291</td><td>SMIM1|chr1:4186851-4187351:. </td><td> 0.02338</td><td>chr1:4126791-4127291</td><td>SMIM1 </td><td>chr1:3772788-3772789</td><td>FALSE</td><td>Gasperini et al., 2019</td><td>ENCODE-E2G_Benchmark</td><td>ENCODE-E2G_Benchmark:SMIM1 </td></tr>\n",
       "</tbody>\n",
       "</table>\n"
      ],
      "text/latex": [
       "A tibble: 6 × 12\n",
       "\\begin{tabular}{llllllllllll}\n",
       " Chrom & Start & End & Name & EffectSize & Region & Gene\\_Symbol & Gene\\_TSS & Significant & Reference & Assay\\_Type & Assay\\_Label\\\\\n",
       " <chr> & <dbl> & <dbl> & <chr> & <dbl> & <chr> & <chr> & <chr> & <lgl> & <chr> & <chr> & <chr>\\\\\n",
       "\\hline\n",
       "\t chr1 & 3774714 & 3775214 & CEP104\\textbar{}chr1:3691278-3691778:. & -0.29343 & chr1:3774714-3775214 & CEP104 & chr1:3857213-3857214 &  TRUE & Ulirsch et al., 2016   & ENCODE-E2G\\_Benchmark & ENCODE-E2G\\_Benchmark:CEP104\\\\\n",
       "\t chr1 & 3774714 & 3775214 & LRRC47\\textbar{}chr1:3691278-3691778:. & -0.33118 & chr1:3774714-3775214 & LRRC47 & chr1:3796503-3796504 &  TRUE & Ulirsch et al., 2016   & ENCODE-E2G\\_Benchmark & ENCODE-E2G\\_Benchmark:LRRC47\\\\\n",
       "\t chr1 & 3774714 & 3775214 & SMIM1\\textbar{}chr1:3691278-3691778:.  & -0.47202 & chr1:3774714-3775214 & SMIM1  & chr1:3772761-3772762 &  TRUE & Ulirsch et al., 2016   & ENCODE-E2G\\_Benchmark & ENCODE-E2G\\_Benchmark:SMIM1 \\\\\n",
       "\t chr1 & 3803570 & 3805848 & LRRC47\\textbar{}chr1:3720134-3722412:. & -0.00147 & chr1:3803570-3805848 & LRRC47 & chr1:3796503-3796504 & FALSE & Gasperini et al., 2019 & ENCODE-E2G\\_Benchmark & ENCODE-E2G\\_Benchmark:LRRC47\\\\\n",
       "\t chr1 & 3803570 & 3805848 & SMIM1\\textbar{}chr1:3720134-3722412:.  &  0.02568 & chr1:3803570-3805848 & SMIM1  & chr1:3772788-3772789 & FALSE & Gasperini et al., 2019 & ENCODE-E2G\\_Benchmark & ENCODE-E2G\\_Benchmark:SMIM1 \\\\\n",
       "\t chr1 & 4126791 & 4127291 & SMIM1\\textbar{}chr1:4186851-4187351:.  &  0.02338 & chr1:4126791-4127291 & SMIM1  & chr1:3772788-3772789 & FALSE & Gasperini et al., 2019 & ENCODE-E2G\\_Benchmark & ENCODE-E2G\\_Benchmark:SMIM1 \\\\\n",
       "\\end{tabular}\n"
      ],
      "text/markdown": [
       "\n",
       "A tibble: 6 × 12\n",
       "\n",
       "| Chrom &lt;chr&gt; | Start &lt;dbl&gt; | End &lt;dbl&gt; | Name &lt;chr&gt; | EffectSize &lt;dbl&gt; | Region &lt;chr&gt; | Gene_Symbol &lt;chr&gt; | Gene_TSS &lt;chr&gt; | Significant &lt;lgl&gt; | Reference &lt;chr&gt; | Assay_Type &lt;chr&gt; | Assay_Label &lt;chr&gt; |\n",
       "|---|---|---|---|---|---|---|---|---|---|---|---|\n",
       "| chr1 | 3774714 | 3775214 | CEP104|chr1:3691278-3691778:. | -0.29343 | chr1:3774714-3775214 | CEP104 | chr1:3857213-3857214 |  TRUE | Ulirsch et al., 2016   | ENCODE-E2G_Benchmark | ENCODE-E2G_Benchmark:CEP104 |\n",
       "| chr1 | 3774714 | 3775214 | LRRC47|chr1:3691278-3691778:. | -0.33118 | chr1:3774714-3775214 | LRRC47 | chr1:3796503-3796504 |  TRUE | Ulirsch et al., 2016   | ENCODE-E2G_Benchmark | ENCODE-E2G_Benchmark:LRRC47 |\n",
       "| chr1 | 3774714 | 3775214 | SMIM1|chr1:3691278-3691778:.  | -0.47202 | chr1:3774714-3775214 | SMIM1  | chr1:3772761-3772762 |  TRUE | Ulirsch et al., 2016   | ENCODE-E2G_Benchmark | ENCODE-E2G_Benchmark:SMIM1  |\n",
       "| chr1 | 3803570 | 3805848 | LRRC47|chr1:3720134-3722412:. | -0.00147 | chr1:3803570-3805848 | LRRC47 | chr1:3796503-3796504 | FALSE | Gasperini et al., 2019 | ENCODE-E2G_Benchmark | ENCODE-E2G_Benchmark:LRRC47 |\n",
       "| chr1 | 3803570 | 3805848 | SMIM1|chr1:3720134-3722412:.  |  0.02568 | chr1:3803570-3805848 | SMIM1  | chr1:3772788-3772789 | FALSE | Gasperini et al., 2019 | ENCODE-E2G_Benchmark | ENCODE-E2G_Benchmark:SMIM1  |\n",
       "| chr1 | 4126791 | 4127291 | SMIM1|chr1:4186851-4187351:.  |  0.02338 | chr1:4126791-4127291 | SMIM1  | chr1:3772788-3772789 | FALSE | Gasperini et al., 2019 | ENCODE-E2G_Benchmark | ENCODE-E2G_Benchmark:SMIM1  |\n",
       "\n"
      ],
      "text/plain": [
       "  Chrom Start   End     Name                          EffectSize\n",
       "1 chr1  3774714 3775214 CEP104|chr1:3691278-3691778:. -0.29343  \n",
       "2 chr1  3774714 3775214 LRRC47|chr1:3691278-3691778:. -0.33118  \n",
       "3 chr1  3774714 3775214 SMIM1|chr1:3691278-3691778:.  -0.47202  \n",
       "4 chr1  3803570 3805848 LRRC47|chr1:3720134-3722412:. -0.00147  \n",
       "5 chr1  3803570 3805848 SMIM1|chr1:3720134-3722412:.   0.02568  \n",
       "6 chr1  4126791 4127291 SMIM1|chr1:4186851-4187351:.   0.02338  \n",
       "  Region               Gene_Symbol Gene_TSS             Significant\n",
       "1 chr1:3774714-3775214 CEP104      chr1:3857213-3857214  TRUE      \n",
       "2 chr1:3774714-3775214 LRRC47      chr1:3796503-3796504  TRUE      \n",
       "3 chr1:3774714-3775214 SMIM1       chr1:3772761-3772762  TRUE      \n",
       "4 chr1:3803570-3805848 LRRC47      chr1:3796503-3796504 FALSE      \n",
       "5 chr1:3803570-3805848 SMIM1       chr1:3772788-3772789 FALSE      \n",
       "6 chr1:4126791-4127291 SMIM1       chr1:3772788-3772789 FALSE      \n",
       "  Reference              Assay_Type           Assay_Label                \n",
       "1 Ulirsch et al., 2016   ENCODE-E2G_Benchmark ENCODE-E2G_Benchmark:CEP104\n",
       "2 Ulirsch et al., 2016   ENCODE-E2G_Benchmark ENCODE-E2G_Benchmark:LRRC47\n",
       "3 Ulirsch et al., 2016   ENCODE-E2G_Benchmark ENCODE-E2G_Benchmark:SMIM1 \n",
       "4 Gasperini et al., 2019 ENCODE-E2G_Benchmark ENCODE-E2G_Benchmark:LRRC47\n",
       "5 Gasperini et al., 2019 ENCODE-E2G_Benchmark ENCODE-E2G_Benchmark:SMIM1 \n",
       "6 Gasperini et al., 2019 ENCODE-E2G_Benchmark ENCODE-E2G_Benchmark:SMIM1 "
      ]
     },
     "metadata": {},
     "output_type": "display_data"
    }
   ],
   "source": [
    "dat = dat_peak_encode_e2g_import\n",
    "dat = dat %>% \n",
    "    dplyr::rename(\n",
    "        Chrom = chrom, \n",
    "        Start = chromStart, \n",
    "        End   = chromEnd, \n",
    "        Name  = name)\n",
    "\n",
    "txt = \"ENCODE-E2G_Benchmark\"\n",
    "dat = dat %>% \n",
    "    tidyr::separate(Name, c(\"Gene_Symbol\", \"Loc\"), sep=\"\\\\|\", remove = FALSE) %>% \n",
    "    dplyr::mutate(\n",
    "        EffectSize   = round(EffectSize, 5),\n",
    "        Region       = paste0(Chrom,  \":\", Start,    \"-\", End),\n",
    "        Gene_TSS     = paste0(chrTSS, \":\", startTSS, \"-\", endTSS),\n",
    "        Assay_Type   = txt,\n",
    "        Assay_Label  = paste0(txt, \":\", Gene_Symbol)\n",
    "    )\n",
    "\n",
    "vec = c('Chrom','Start','End','Name','EffectSize', \n",
    "        \"Region\", \"Gene_Symbol\", \"Gene_TSS\", \n",
    "        'Significant', \n",
    "        'Reference', \n",
    "        'Assay_Type', 'Assay_Label')\n",
    "dat = dat %>% \n",
    "    dplyr::select({{vec}}) %>% \n",
    "    dplyr::distinct()\n",
    "vec = dat$Gene_Symbol\n",
    "\n",
    "\n",
    "dat_peak_encode_e2g_arrange = dat\n",
    "cat(\"#Row: \", nrow(dat), \"\\n\")\n",
    "cat(\"#Gene:\", length(unique(vec)), \"\\n\")\n",
    "head(dat)"
   ]
  },
  {
   "cell_type": "markdown",
   "metadata": {},
   "source": [
    "## Define active and inactive regions"
   ]
  },
  {
   "cell_type": "code",
   "execution_count": 9,
   "metadata": {},
   "outputs": [
    {
     "name": "stdout",
     "output_type": "stream",
     "text": [
      "[1] 569  12\n"
     ]
    },
    {
     "data": {
      "text/html": [
       "<table class=\"dataframe\">\n",
       "<caption>A tibble: 6 × 12</caption>\n",
       "<thead>\n",
       "\t<tr><th scope=col>Chrom</th><th scope=col>Start</th><th scope=col>End</th><th scope=col>Name</th><th scope=col>EffectSize</th><th scope=col>Region</th><th scope=col>Gene_Symbol</th><th scope=col>Gene_TSS</th><th scope=col>Significant</th><th scope=col>Reference</th><th scope=col>Assay_Type</th><th scope=col>Assay_Label</th></tr>\n",
       "\t<tr><th scope=col>&lt;chr&gt;</th><th scope=col>&lt;dbl&gt;</th><th scope=col>&lt;dbl&gt;</th><th scope=col>&lt;chr&gt;</th><th scope=col>&lt;dbl&gt;</th><th scope=col>&lt;chr&gt;</th><th scope=col>&lt;chr&gt;</th><th scope=col>&lt;chr&gt;</th><th scope=col>&lt;lgl&gt;</th><th scope=col>&lt;chr&gt;</th><th scope=col>&lt;chr&gt;</th><th scope=col>&lt;chr&gt;</th></tr>\n",
       "</thead>\n",
       "<tbody>\n",
       "\t<tr><td>chr1</td><td> 3774714</td><td> 3775214</td><td>CEP104|chr1:3691278-3691778:.        </td><td>-0.29343</td><td>chr1:3774714-3775214  </td><td>CEP104      </td><td>chr1:3857213-3857214  </td><td>TRUE</td><td>Ulirsch et al., 2016  </td><td>ENCODE-E2G_Benchmark</td><td>ENCODE-E2G_Benchmark:CEP104      </td></tr>\n",
       "\t<tr><td>chr1</td><td> 3774714</td><td> 3775214</td><td>LRRC47|chr1:3691278-3691778:.        </td><td>-0.33118</td><td>chr1:3774714-3775214  </td><td>LRRC47      </td><td>chr1:3796503-3796504  </td><td>TRUE</td><td>Ulirsch et al., 2016  </td><td>ENCODE-E2G_Benchmark</td><td>ENCODE-E2G_Benchmark:LRRC47      </td></tr>\n",
       "\t<tr><td>chr1</td><td> 3774714</td><td> 3775214</td><td>SMIM1|chr1:3691278-3691778:.         </td><td>-0.47202</td><td>chr1:3774714-3775214  </td><td>SMIM1       </td><td>chr1:3772761-3772762  </td><td>TRUE</td><td>Ulirsch et al., 2016  </td><td>ENCODE-E2G_Benchmark</td><td>ENCODE-E2G_Benchmark:SMIM1       </td></tr>\n",
       "\t<tr><td>chr1</td><td> 8858063</td><td> 8858563</td><td>ENO1|chr1:8918122-8918622:.          </td><td>-0.10741</td><td>chr1:8858063-8858563  </td><td>ENO1        </td><td>chr1:8879248-8879249  </td><td>TRUE</td><td>Gasperini et al., 2019</td><td>ENCODE-E2G_Benchmark</td><td>ENCODE-E2G_Benchmark:ENO1        </td></tr>\n",
       "\t<tr><td>chr1</td><td>17441310</td><td>17441810</td><td>SDHB|chr1:17767806-17768306:.        </td><td>-0.08968</td><td>chr1:17441310-17441810</td><td>SDHB        </td><td>chr1:17054169-17054170</td><td>TRUE</td><td>Gasperini et al., 2019</td><td>ENCODE-E2G_Benchmark</td><td>ENCODE-E2G_Benchmark:SDHB        </td></tr>\n",
       "\t<tr><td>chr1</td><td>17487740</td><td>17488240</td><td>RP4-798A10.7|chr1:17814236-17814736:.</td><td> 0.03966</td><td>chr1:17487740-17488240</td><td>RP4-798A10.7</td><td>chr1:16514645-16514646</td><td>TRUE</td><td>Gasperini et al., 2019</td><td>ENCODE-E2G_Benchmark</td><td>ENCODE-E2G_Benchmark:RP4-798A10.7</td></tr>\n",
       "</tbody>\n",
       "</table>\n"
      ],
      "text/latex": [
       "A tibble: 6 × 12\n",
       "\\begin{tabular}{llllllllllll}\n",
       " Chrom & Start & End & Name & EffectSize & Region & Gene\\_Symbol & Gene\\_TSS & Significant & Reference & Assay\\_Type & Assay\\_Label\\\\\n",
       " <chr> & <dbl> & <dbl> & <chr> & <dbl> & <chr> & <chr> & <chr> & <lgl> & <chr> & <chr> & <chr>\\\\\n",
       "\\hline\n",
       "\t chr1 &  3774714 &  3775214 & CEP104\\textbar{}chr1:3691278-3691778:.         & -0.29343 & chr1:3774714-3775214   & CEP104       & chr1:3857213-3857214   & TRUE & Ulirsch et al., 2016   & ENCODE-E2G\\_Benchmark & ENCODE-E2G\\_Benchmark:CEP104      \\\\\n",
       "\t chr1 &  3774714 &  3775214 & LRRC47\\textbar{}chr1:3691278-3691778:.         & -0.33118 & chr1:3774714-3775214   & LRRC47       & chr1:3796503-3796504   & TRUE & Ulirsch et al., 2016   & ENCODE-E2G\\_Benchmark & ENCODE-E2G\\_Benchmark:LRRC47      \\\\\n",
       "\t chr1 &  3774714 &  3775214 & SMIM1\\textbar{}chr1:3691278-3691778:.          & -0.47202 & chr1:3774714-3775214   & SMIM1        & chr1:3772761-3772762   & TRUE & Ulirsch et al., 2016   & ENCODE-E2G\\_Benchmark & ENCODE-E2G\\_Benchmark:SMIM1       \\\\\n",
       "\t chr1 &  8858063 &  8858563 & ENO1\\textbar{}chr1:8918122-8918622:.           & -0.10741 & chr1:8858063-8858563   & ENO1         & chr1:8879248-8879249   & TRUE & Gasperini et al., 2019 & ENCODE-E2G\\_Benchmark & ENCODE-E2G\\_Benchmark:ENO1        \\\\\n",
       "\t chr1 & 17441310 & 17441810 & SDHB\\textbar{}chr1:17767806-17768306:.         & -0.08968 & chr1:17441310-17441810 & SDHB         & chr1:17054169-17054170 & TRUE & Gasperini et al., 2019 & ENCODE-E2G\\_Benchmark & ENCODE-E2G\\_Benchmark:SDHB        \\\\\n",
       "\t chr1 & 17487740 & 17488240 & RP4-798A10.7\\textbar{}chr1:17814236-17814736:. &  0.03966 & chr1:17487740-17488240 & RP4-798A10.7 & chr1:16514645-16514646 & TRUE & Gasperini et al., 2019 & ENCODE-E2G\\_Benchmark & ENCODE-E2G\\_Benchmark:RP4-798A10.7\\\\\n",
       "\\end{tabular}\n"
      ],
      "text/markdown": [
       "\n",
       "A tibble: 6 × 12\n",
       "\n",
       "| Chrom &lt;chr&gt; | Start &lt;dbl&gt; | End &lt;dbl&gt; | Name &lt;chr&gt; | EffectSize &lt;dbl&gt; | Region &lt;chr&gt; | Gene_Symbol &lt;chr&gt; | Gene_TSS &lt;chr&gt; | Significant &lt;lgl&gt; | Reference &lt;chr&gt; | Assay_Type &lt;chr&gt; | Assay_Label &lt;chr&gt; |\n",
       "|---|---|---|---|---|---|---|---|---|---|---|---|\n",
       "| chr1 |  3774714 |  3775214 | CEP104|chr1:3691278-3691778:.         | -0.29343 | chr1:3774714-3775214   | CEP104       | chr1:3857213-3857214   | TRUE | Ulirsch et al., 2016   | ENCODE-E2G_Benchmark | ENCODE-E2G_Benchmark:CEP104       |\n",
       "| chr1 |  3774714 |  3775214 | LRRC47|chr1:3691278-3691778:.         | -0.33118 | chr1:3774714-3775214   | LRRC47       | chr1:3796503-3796504   | TRUE | Ulirsch et al., 2016   | ENCODE-E2G_Benchmark | ENCODE-E2G_Benchmark:LRRC47       |\n",
       "| chr1 |  3774714 |  3775214 | SMIM1|chr1:3691278-3691778:.          | -0.47202 | chr1:3774714-3775214   | SMIM1        | chr1:3772761-3772762   | TRUE | Ulirsch et al., 2016   | ENCODE-E2G_Benchmark | ENCODE-E2G_Benchmark:SMIM1        |\n",
       "| chr1 |  8858063 |  8858563 | ENO1|chr1:8918122-8918622:.           | -0.10741 | chr1:8858063-8858563   | ENO1         | chr1:8879248-8879249   | TRUE | Gasperini et al., 2019 | ENCODE-E2G_Benchmark | ENCODE-E2G_Benchmark:ENO1         |\n",
       "| chr1 | 17441310 | 17441810 | SDHB|chr1:17767806-17768306:.         | -0.08968 | chr1:17441310-17441810 | SDHB         | chr1:17054169-17054170 | TRUE | Gasperini et al., 2019 | ENCODE-E2G_Benchmark | ENCODE-E2G_Benchmark:SDHB         |\n",
       "| chr1 | 17487740 | 17488240 | RP4-798A10.7|chr1:17814236-17814736:. |  0.03966 | chr1:17487740-17488240 | RP4-798A10.7 | chr1:16514645-16514646 | TRUE | Gasperini et al., 2019 | ENCODE-E2G_Benchmark | ENCODE-E2G_Benchmark:RP4-798A10.7 |\n",
       "\n"
      ],
      "text/plain": [
       "  Chrom Start    End      Name                                  EffectSize\n",
       "1 chr1   3774714  3775214 CEP104|chr1:3691278-3691778:.         -0.29343  \n",
       "2 chr1   3774714  3775214 LRRC47|chr1:3691278-3691778:.         -0.33118  \n",
       "3 chr1   3774714  3775214 SMIM1|chr1:3691278-3691778:.          -0.47202  \n",
       "4 chr1   8858063  8858563 ENO1|chr1:8918122-8918622:.           -0.10741  \n",
       "5 chr1  17441310 17441810 SDHB|chr1:17767806-17768306:.         -0.08968  \n",
       "6 chr1  17487740 17488240 RP4-798A10.7|chr1:17814236-17814736:.  0.03966  \n",
       "  Region                 Gene_Symbol  Gene_TSS               Significant\n",
       "1 chr1:3774714-3775214   CEP104       chr1:3857213-3857214   TRUE       \n",
       "2 chr1:3774714-3775214   LRRC47       chr1:3796503-3796504   TRUE       \n",
       "3 chr1:3774714-3775214   SMIM1        chr1:3772761-3772762   TRUE       \n",
       "4 chr1:8858063-8858563   ENO1         chr1:8879248-8879249   TRUE       \n",
       "5 chr1:17441310-17441810 SDHB         chr1:17054169-17054170 TRUE       \n",
       "6 chr1:17487740-17488240 RP4-798A10.7 chr1:16514645-16514646 TRUE       \n",
       "  Reference              Assay_Type           Assay_Label                      \n",
       "1 Ulirsch et al., 2016   ENCODE-E2G_Benchmark ENCODE-E2G_Benchmark:CEP104      \n",
       "2 Ulirsch et al., 2016   ENCODE-E2G_Benchmark ENCODE-E2G_Benchmark:LRRC47      \n",
       "3 Ulirsch et al., 2016   ENCODE-E2G_Benchmark ENCODE-E2G_Benchmark:SMIM1       \n",
       "4 Gasperini et al., 2019 ENCODE-E2G_Benchmark ENCODE-E2G_Benchmark:ENO1        \n",
       "5 Gasperini et al., 2019 ENCODE-E2G_Benchmark ENCODE-E2G_Benchmark:SDHB        \n",
       "6 Gasperini et al., 2019 ENCODE-E2G_Benchmark ENCODE-E2G_Benchmark:RP4-798A10.7"
      ]
     },
     "metadata": {},
     "output_type": "display_data"
    }
   ],
   "source": [
    "dat = dat_peak_encode_e2g_arrange\n",
    "dat = dat %>% \n",
    "    dplyr::filter(Significant) %>%\n",
    "    dplyr::arrange(Chrom, Start, End)\n",
    "\n",
    "dat_peak_encode_e2g_active = dat\n",
    "print(dim(dat))\n",
    "head(dat)"
   ]
  },
  {
   "cell_type": "code",
   "execution_count": 6,
   "metadata": {},
   "outputs": [
    {
     "name": "stdout",
     "output_type": "stream",
     "text": [
      "[1] 429   3\n"
     ]
    }
   ],
   "source": [
    "dat = dat_peak_encode_e2g_active\n",
    "dat = dat %>%\n",
    "    dplyr::select(Chrom, Start, End) %>%\n",
    "    dplyr::distinct()\n",
    "\n",
    "print(dim(dat))"
   ]
  },
  {
   "cell_type": "code",
   "execution_count": 7,
   "metadata": {},
   "outputs": [
    {
     "name": "stdout",
     "output_type": "stream",
     "text": [
      "[1] 3531    3\n"
     ]
    },
    {
     "data": {
      "text/html": [
       "<table class=\"dataframe\">\n",
       "<caption>A tibble: 6 × 3</caption>\n",
       "<thead>\n",
       "\t<tr><th scope=col>Chrom</th><th scope=col>Start</th><th scope=col>End</th></tr>\n",
       "\t<tr><th scope=col>&lt;chr&gt;</th><th scope=col>&lt;dbl&gt;</th><th scope=col>&lt;dbl&gt;</th></tr>\n",
       "</thead>\n",
       "<tbody>\n",
       "\t<tr><td>chr1</td><td>3803570</td><td>3805848</td></tr>\n",
       "\t<tr><td>chr1</td><td>4126791</td><td>4127291</td></tr>\n",
       "\t<tr><td>chr1</td><td>5304578</td><td>5305078</td></tr>\n",
       "\t<tr><td>chr1</td><td>8197448</td><td>8198244</td></tr>\n",
       "\t<tr><td>chr1</td><td>8899850</td><td>8900350</td></tr>\n",
       "\t<tr><td>chr1</td><td>9145155</td><td>9145655</td></tr>\n",
       "</tbody>\n",
       "</table>\n"
      ],
      "text/latex": [
       "A tibble: 6 × 3\n",
       "\\begin{tabular}{lll}\n",
       " Chrom & Start & End\\\\\n",
       " <chr> & <dbl> & <dbl>\\\\\n",
       "\\hline\n",
       "\t chr1 & 3803570 & 3805848\\\\\n",
       "\t chr1 & 4126791 & 4127291\\\\\n",
       "\t chr1 & 5304578 & 5305078\\\\\n",
       "\t chr1 & 8197448 & 8198244\\\\\n",
       "\t chr1 & 8899850 & 8900350\\\\\n",
       "\t chr1 & 9145155 & 9145655\\\\\n",
       "\\end{tabular}\n"
      ],
      "text/markdown": [
       "\n",
       "A tibble: 6 × 3\n",
       "\n",
       "| Chrom &lt;chr&gt; | Start &lt;dbl&gt; | End &lt;dbl&gt; |\n",
       "|---|---|---|\n",
       "| chr1 | 3803570 | 3805848 |\n",
       "| chr1 | 4126791 | 4127291 |\n",
       "| chr1 | 5304578 | 5305078 |\n",
       "| chr1 | 8197448 | 8198244 |\n",
       "| chr1 | 8899850 | 8900350 |\n",
       "| chr1 | 9145155 | 9145655 |\n",
       "\n"
      ],
      "text/plain": [
       "  Chrom Start   End    \n",
       "1 chr1  3803570 3805848\n",
       "2 chr1  4126791 4127291\n",
       "3 chr1  5304578 5305078\n",
       "4 chr1  8197448 8198244\n",
       "5 chr1  8899850 8900350\n",
       "6 chr1  9145155 9145655"
      ]
     },
     "metadata": {},
     "output_type": "display_data"
    }
   ],
   "source": [
    "vec_txt_region_total    = unique(dat_peak_encode_e2g_arrange$Region)\n",
    "vec_txt_region_active   = unique(dat_peak_encode_e2g_active$Region)\n",
    "vec_txt_region_inactive = setdiff(vec_txt_region_total, vec_txt_region_active)\n",
    "\n",
    "dat = dat_peak_encode_e2g_arrange\n",
    "dat = dat %>% \n",
    "    dplyr::filter(!Regulated) %>%\n",
    "    dplyr::filter(Region %in% vec_txt_region_inactive) %>%\n",
    "    dplyr::select(Chrom, Start, End) %>%\n",
    "    dplyr::distinct() %>%\n",
    "    dplyr::arrange(Chrom, Start, End)\n",
    "\n",
    "dat_peak_encode_e2g_inactive = dat\n",
    "print(dim(dat))\n",
    "head(dat)"
   ]
  },
  {
   "cell_type": "code",
   "execution_count": 8,
   "metadata": {},
   "outputs": [
    {
     "name": "stdout",
     "output_type": "stream",
     "text": [
      "[1] 3961    3\n"
     ]
    },
    {
     "data": {
      "text/html": [
       "<table class=\"dataframe\">\n",
       "<caption>A tibble: 6 × 3</caption>\n",
       "<thead>\n",
       "\t<tr><th scope=col>Chrom</th><th scope=col>Start</th><th scope=col>End</th></tr>\n",
       "\t<tr><th scope=col>&lt;chr&gt;</th><th scope=col>&lt;dbl&gt;</th><th scope=col>&lt;dbl&gt;</th></tr>\n",
       "</thead>\n",
       "<tbody>\n",
       "\t<tr><td>chr1</td><td>3774714</td><td>3775214</td></tr>\n",
       "\t<tr><td>chr1</td><td>3803570</td><td>3805848</td></tr>\n",
       "\t<tr><td>chr1</td><td>4126791</td><td>4127291</td></tr>\n",
       "\t<tr><td>chr1</td><td>5304578</td><td>5305078</td></tr>\n",
       "\t<tr><td>chr1</td><td>8197448</td><td>8198244</td></tr>\n",
       "\t<tr><td>chr1</td><td>8858063</td><td>8858563</td></tr>\n",
       "</tbody>\n",
       "</table>\n"
      ],
      "text/latex": [
       "A tibble: 6 × 3\n",
       "\\begin{tabular}{lll}\n",
       " Chrom & Start & End\\\\\n",
       " <chr> & <dbl> & <dbl>\\\\\n",
       "\\hline\n",
       "\t chr1 & 3774714 & 3775214\\\\\n",
       "\t chr1 & 3803570 & 3805848\\\\\n",
       "\t chr1 & 4126791 & 4127291\\\\\n",
       "\t chr1 & 5304578 & 5305078\\\\\n",
       "\t chr1 & 8197448 & 8198244\\\\\n",
       "\t chr1 & 8858063 & 8858563\\\\\n",
       "\\end{tabular}\n"
      ],
      "text/markdown": [
       "\n",
       "A tibble: 6 × 3\n",
       "\n",
       "| Chrom &lt;chr&gt; | Start &lt;dbl&gt; | End &lt;dbl&gt; |\n",
       "|---|---|---|\n",
       "| chr1 | 3774714 | 3775214 |\n",
       "| chr1 | 3803570 | 3805848 |\n",
       "| chr1 | 4126791 | 4127291 |\n",
       "| chr1 | 5304578 | 5305078 |\n",
       "| chr1 | 8197448 | 8198244 |\n",
       "| chr1 | 8858063 | 8858563 |\n",
       "\n"
      ],
      "text/plain": [
       "  Chrom Start   End    \n",
       "1 chr1  3774714 3775214\n",
       "2 chr1  3803570 3805848\n",
       "3 chr1  4126791 4127291\n",
       "4 chr1  5304578 5305078\n",
       "5 chr1  8197448 8198244\n",
       "6 chr1  8858063 8858563"
      ]
     },
     "metadata": {},
     "output_type": "display_data"
    }
   ],
   "source": [
    "dat = dat_peak_encode_e2g_arrange\n",
    "dat = dat %>% \n",
    "    dplyr::select(Chrom, Start, End) %>%\n",
    "    dplyr::distinct() %>%\n",
    "    dplyr::arrange(Chrom, Start, End)\n",
    "\n",
    "dat_peak_encode_e2g_total = dat\n",
    "print(dim(dat))\n",
    "head(dat)"
   ]
  },
  {
   "cell_type": "markdown",
   "metadata": {},
   "source": [
    "## Data dictionary"
   ]
  },
  {
   "cell_type": "code",
   "execution_count": 9,
   "metadata": {},
   "outputs": [
    {
     "data": {
      "text/html": [
       "<table class=\"dataframe\">\n",
       "<caption>A tibble: 11 × 2</caption>\n",
       "<thead>\n",
       "\t<tr><th scope=col>Name</th><th scope=col>Description</th></tr>\n",
       "\t<tr><th scope=col>&lt;chr&gt;</th><th scope=col>&lt;chr&gt;</th></tr>\n",
       "</thead>\n",
       "<tbody>\n",
       "\t<tr><td>Chrom      </td><td>Chromosome of the perturbed element                                                                              </td></tr>\n",
       "\t<tr><td>Start      </td><td>Start of the perturbed element (0-based)                                                                         </td></tr>\n",
       "\t<tr><td>End        </td><td>End of the perturbed element                                                                                     </td></tr>\n",
       "\t<tr><td>Name       </td><td>Identifier for the given E-G pair in the form of 'gene|chr:start-stop:strand', e.g. 'BET1L|chr11:220536-220704:*'</td></tr>\n",
       "\t<tr><td>Score      </td><td>Change in gene expression upon CRISPRi perturbation, e.g. precentage change in expression or log fold change     </td></tr>\n",
       "\t<tr><td>Region     </td><td>Location of the perturbed element                                                                                </td></tr>\n",
       "\t<tr><td>Gene_Symbol</td><td>target gene symbol                                                                                               </td></tr>\n",
       "\t<tr><td>Gene_TSS   </td><td>target gene TSS                                                                                                  </td></tr>\n",
       "\t<tr><td>Reference  </td><td>Study from which this E-G pair was collected, e.g. Fulco2019                                                     </td></tr>\n",
       "\t<tr><td>Assay_Type </td><td>Assay type                                                                                                       </td></tr>\n",
       "\t<tr><td>Assay_Label</td><td>Assay label                                                                                                      </td></tr>\n",
       "</tbody>\n",
       "</table>\n"
      ],
      "text/latex": [
       "A tibble: 11 × 2\n",
       "\\begin{tabular}{ll}\n",
       " Name & Description\\\\\n",
       " <chr> & <chr>\\\\\n",
       "\\hline\n",
       "\t Chrom       & Chromosome of the perturbed element                                                                              \\\\\n",
       "\t Start       & Start of the perturbed element (0-based)                                                                         \\\\\n",
       "\t End         & End of the perturbed element                                                                                     \\\\\n",
       "\t Name        & Identifier for the given E-G pair in the form of 'gene\\textbar{}chr:start-stop:strand', e.g. 'BET1L\\textbar{}chr11:220536-220704:*'\\\\\n",
       "\t Score       & Change in gene expression upon CRISPRi perturbation, e.g. precentage change in expression or log fold change     \\\\\n",
       "\t Region      & Location of the perturbed element                                                                                \\\\\n",
       "\t Gene\\_Symbol & target gene symbol                                                                                               \\\\\n",
       "\t Gene\\_TSS    & target gene TSS                                                                                                  \\\\\n",
       "\t Reference   & Study from which this E-G pair was collected, e.g. Fulco2019                                                     \\\\\n",
       "\t Assay\\_Type  & Assay type                                                                                                       \\\\\n",
       "\t Assay\\_Label & Assay label                                                                                                      \\\\\n",
       "\\end{tabular}\n"
      ],
      "text/markdown": [
       "\n",
       "A tibble: 11 × 2\n",
       "\n",
       "| Name &lt;chr&gt; | Description &lt;chr&gt; |\n",
       "|---|---|\n",
       "| Chrom       | Chromosome of the perturbed element                                                                               |\n",
       "| Start       | Start of the perturbed element (0-based)                                                                          |\n",
       "| End         | End of the perturbed element                                                                                      |\n",
       "| Name        | Identifier for the given E-G pair in the form of 'gene|chr:start-stop:strand', e.g. 'BET1L|chr11:220536-220704:*' |\n",
       "| Score       | Change in gene expression upon CRISPRi perturbation, e.g. precentage change in expression or log fold change      |\n",
       "| Region      | Location of the perturbed element                                                                                 |\n",
       "| Gene_Symbol | target gene symbol                                                                                                |\n",
       "| Gene_TSS    | target gene TSS                                                                                                   |\n",
       "| Reference   | Study from which this E-G pair was collected, e.g. Fulco2019                                                      |\n",
       "| Assay_Type  | Assay type                                                                                                        |\n",
       "| Assay_Label | Assay label                                                                                                       |\n",
       "\n"
      ],
      "text/plain": [
       "   Name       \n",
       "1  Chrom      \n",
       "2  Start      \n",
       "3  End        \n",
       "4  Name       \n",
       "5  Score      \n",
       "6  Region     \n",
       "7  Gene_Symbol\n",
       "8  Gene_TSS   \n",
       "9  Reference  \n",
       "10 Assay_Type \n",
       "11 Assay_Label\n",
       "   Description                                                                                                      \n",
       "1  Chromosome of the perturbed element                                                                              \n",
       "2  Start of the perturbed element (0-based)                                                                         \n",
       "3  End of the perturbed element                                                                                     \n",
       "4  Identifier for the given E-G pair in the form of 'gene|chr:start-stop:strand', e.g. 'BET1L|chr11:220536-220704:*'\n",
       "5  Change in gene expression upon CRISPRi perturbation, e.g. precentage change in expression or log fold change     \n",
       "6  Location of the perturbed element                                                                                \n",
       "7  target gene symbol                                                                                               \n",
       "8  target gene TSS                                                                                                  \n",
       "9  Study from which this E-G pair was collected, e.g. Fulco2019                                                     \n",
       "10 Assay type                                                                                                       \n",
       "11 Assay label                                                                                                      "
      ]
     },
     "metadata": {},
     "output_type": "display_data"
    }
   ],
   "source": [
    "dat_cnames = tribble(\n",
    "    ~Name,         ~Description,\n",
    "    \"Chrom\",       \"Chromosome of the perturbed element\",\n",
    "    \"Start\",       \"Start of the perturbed element (0-based)\",\n",
    "    \"End\",         \"End of the perturbed element\",\n",
    "    \"Name\",        \"Identifier for the given E-G pair in the form of 'gene|chr:start-stop:strand', e.g. 'BET1L|chr11:220536-220704:*'\",\n",
    "    \"Score\",       \"Change in gene expression upon CRISPRi perturbation, e.g. precentage change in expression or log fold change\",\n",
    "    \"Region\",      \"Location of the perturbed element\",\n",
    "    \"Gene_Symbol\", \"target gene symbol\",\n",
    "    \"Gene_TSS\",    \"target gene TSS\",\n",
    "    \"Reference\",   \"Study from which this E-G pair was collected, e.g. Fulco2019\",\n",
    "    \"Assay_Type\",  \"Assay type\",\n",
    "    \"Assay_Label\", \"Assay label\"\n",
    ")\n",
    "dat_cnames"
   ]
  },
  {
   "cell_type": "markdown",
   "metadata": {},
   "source": [
    "## Interact for active regions"
   ]
  },
  {
   "cell_type": "code",
   "execution_count": 10,
   "metadata": {},
   "outputs": [
    {
     "name": "stdout",
     "output_type": "stream",
     "text": [
      "[1] 487  13\n"
     ]
    },
    {
     "data": {
      "text/html": [
       "<table class=\"dataframe\">\n",
       "<caption>A tibble: 6 × 13</caption>\n",
       "<thead>\n",
       "\t<tr><th scope=col>chrom</th><th scope=col>chromStart</th><th scope=col>chromEnd</th><th scope=col>chrTSS</th><th scope=col>startTSS</th><th scope=col>endTSS</th><th scope=col>name</th><th scope=col>EffectSize</th><th scope=col>Strand1</th><th scope=col>Strand2</th><th scope=col>Gene_Symbol</th><th scope=col>Gene_TSS</th><th scope=col>Reference</th></tr>\n",
       "\t<tr><th scope=col>&lt;chr&gt;</th><th scope=col>&lt;dbl&gt;</th><th scope=col>&lt;dbl&gt;</th><th scope=col>&lt;chr&gt;</th><th scope=col>&lt;dbl&gt;</th><th scope=col>&lt;dbl&gt;</th><th scope=col>&lt;chr&gt;</th><th scope=col>&lt;dbl&gt;</th><th scope=col>&lt;chr&gt;</th><th scope=col>&lt;chr&gt;</th><th scope=col>&lt;chr&gt;</th><th scope=col>&lt;chr&gt;</th><th scope=col>&lt;chr&gt;</th></tr>\n",
       "</thead>\n",
       "<tbody>\n",
       "\t<tr><td>chr1</td><td> 3774714</td><td> 3775214</td><td>chr1</td><td> 3857213</td><td> 3857214</td><td>CEP104|chr1:3691278-3691778:*</td><td>-0.29343</td><td>.</td><td>.</td><td>CEP104</td><td>chr1:3857213-3857214  </td><td>Ulirsch2016           </td></tr>\n",
       "\t<tr><td>chr1</td><td> 3774714</td><td> 3775214</td><td>chr1</td><td> 3796503</td><td> 3796504</td><td>LRRC47|chr1:3691278-3691778:*</td><td>-0.33118</td><td>.</td><td>.</td><td>LRRC47</td><td>chr1:3796503-3796504  </td><td>Ulirsch2016           </td></tr>\n",
       "\t<tr><td>chr1</td><td> 3774714</td><td> 3775214</td><td>chr1</td><td> 3772761</td><td> 3772762</td><td>SMIM1|chr1:3691278-3691778:* </td><td>-0.47202</td><td>.</td><td>.</td><td>SMIM1 </td><td>chr1:3772761-3772762  </td><td>Ulirsch2016           </td></tr>\n",
       "\t<tr><td>chr1</td><td> 8858063</td><td> 8858563</td><td>chr1</td><td> 8879248</td><td> 8879249</td><td>ENO1|chr1:8918122-8918622:.  </td><td>-0.10741</td><td>.</td><td>.</td><td>ENO1  </td><td>chr1:8879248-8879249  </td><td>Gasperini et al., 2019</td></tr>\n",
       "\t<tr><td>chr1</td><td>17441310</td><td>17441810</td><td>chr1</td><td>17054169</td><td>17054170</td><td>SDHB|chr1:17767806-17768306:.</td><td>-0.08968</td><td>.</td><td>.</td><td>SDHB  </td><td>chr1:17054169-17054170</td><td>Gasperini et al., 2019</td></tr>\n",
       "\t<tr><td>chr1</td><td>25933351</td><td>25933954</td><td>chr1</td><td>26900238</td><td>26900239</td><td>NUDC|chr1:26259842-26260445:.</td><td>-0.08462</td><td>.</td><td>.</td><td>NUDC  </td><td>chr1:26900238-26900239</td><td>Gasperini et al., 2019</td></tr>\n",
       "</tbody>\n",
       "</table>\n"
      ],
      "text/latex": [
       "A tibble: 6 × 13\n",
       "\\begin{tabular}{lllllllllllll}\n",
       " chrom & chromStart & chromEnd & chrTSS & startTSS & endTSS & name & EffectSize & Strand1 & Strand2 & Gene\\_Symbol & Gene\\_TSS & Reference\\\\\n",
       " <chr> & <dbl> & <dbl> & <chr> & <dbl> & <dbl> & <chr> & <dbl> & <chr> & <chr> & <chr> & <chr> & <chr>\\\\\n",
       "\\hline\n",
       "\t chr1 &  3774714 &  3775214 & chr1 &  3857213 &  3857214 & CEP104\\textbar{}chr1:3691278-3691778:* & -0.29343 & . & . & CEP104 & chr1:3857213-3857214   & Ulirsch2016           \\\\\n",
       "\t chr1 &  3774714 &  3775214 & chr1 &  3796503 &  3796504 & LRRC47\\textbar{}chr1:3691278-3691778:* & -0.33118 & . & . & LRRC47 & chr1:3796503-3796504   & Ulirsch2016           \\\\\n",
       "\t chr1 &  3774714 &  3775214 & chr1 &  3772761 &  3772762 & SMIM1\\textbar{}chr1:3691278-3691778:*  & -0.47202 & . & . & SMIM1  & chr1:3772761-3772762   & Ulirsch2016           \\\\\n",
       "\t chr1 &  8858063 &  8858563 & chr1 &  8879248 &  8879249 & ENO1\\textbar{}chr1:8918122-8918622:.   & -0.10741 & . & . & ENO1   & chr1:8879248-8879249   & Gasperini et al., 2019\\\\\n",
       "\t chr1 & 17441310 & 17441810 & chr1 & 17054169 & 17054170 & SDHB\\textbar{}chr1:17767806-17768306:. & -0.08968 & . & . & SDHB   & chr1:17054169-17054170 & Gasperini et al., 2019\\\\\n",
       "\t chr1 & 25933351 & 25933954 & chr1 & 26900238 & 26900239 & NUDC\\textbar{}chr1:26259842-26260445:. & -0.08462 & . & . & NUDC   & chr1:26900238-26900239 & Gasperini et al., 2019\\\\\n",
       "\\end{tabular}\n"
      ],
      "text/markdown": [
       "\n",
       "A tibble: 6 × 13\n",
       "\n",
       "| chrom &lt;chr&gt; | chromStart &lt;dbl&gt; | chromEnd &lt;dbl&gt; | chrTSS &lt;chr&gt; | startTSS &lt;dbl&gt; | endTSS &lt;dbl&gt; | name &lt;chr&gt; | EffectSize &lt;dbl&gt; | Strand1 &lt;chr&gt; | Strand2 &lt;chr&gt; | Gene_Symbol &lt;chr&gt; | Gene_TSS &lt;chr&gt; | Reference &lt;chr&gt; |\n",
       "|---|---|---|---|---|---|---|---|---|---|---|---|---|\n",
       "| chr1 |  3774714 |  3775214 | chr1 |  3857213 |  3857214 | CEP104|chr1:3691278-3691778:* | -0.29343 | . | . | CEP104 | chr1:3857213-3857214   | Ulirsch2016            |\n",
       "| chr1 |  3774714 |  3775214 | chr1 |  3796503 |  3796504 | LRRC47|chr1:3691278-3691778:* | -0.33118 | . | . | LRRC47 | chr1:3796503-3796504   | Ulirsch2016            |\n",
       "| chr1 |  3774714 |  3775214 | chr1 |  3772761 |  3772762 | SMIM1|chr1:3691278-3691778:*  | -0.47202 | . | . | SMIM1  | chr1:3772761-3772762   | Ulirsch2016            |\n",
       "| chr1 |  8858063 |  8858563 | chr1 |  8879248 |  8879249 | ENO1|chr1:8918122-8918622:.   | -0.10741 | . | . | ENO1   | chr1:8879248-8879249   | Gasperini et al., 2019 |\n",
       "| chr1 | 17441310 | 17441810 | chr1 | 17054169 | 17054170 | SDHB|chr1:17767806-17768306:. | -0.08968 | . | . | SDHB   | chr1:17054169-17054170 | Gasperini et al., 2019 |\n",
       "| chr1 | 25933351 | 25933954 | chr1 | 26900238 | 26900239 | NUDC|chr1:26259842-26260445:. | -0.08462 | . | . | NUDC   | chr1:26900238-26900239 | Gasperini et al., 2019 |\n",
       "\n"
      ],
      "text/plain": [
       "  chrom chromStart chromEnd chrTSS startTSS endTSS  \n",
       "1 chr1   3774714    3775214 chr1    3857213  3857214\n",
       "2 chr1   3774714    3775214 chr1    3796503  3796504\n",
       "3 chr1   3774714    3775214 chr1    3772761  3772762\n",
       "4 chr1   8858063    8858563 chr1    8879248  8879249\n",
       "5 chr1  17441310   17441810 chr1   17054169 17054170\n",
       "6 chr1  25933351   25933954 chr1   26900238 26900239\n",
       "  name                          EffectSize Strand1 Strand2 Gene_Symbol\n",
       "1 CEP104|chr1:3691278-3691778:* -0.29343   .       .       CEP104     \n",
       "2 LRRC47|chr1:3691278-3691778:* -0.33118   .       .       LRRC47     \n",
       "3 SMIM1|chr1:3691278-3691778:*  -0.47202   .       .       SMIM1      \n",
       "4 ENO1|chr1:8918122-8918622:.   -0.10741   .       .       ENO1       \n",
       "5 SDHB|chr1:17767806-17768306:. -0.08968   .       .       SDHB       \n",
       "6 NUDC|chr1:26259842-26260445:. -0.08462   .       .       NUDC       \n",
       "  Gene_TSS               Reference             \n",
       "1 chr1:3857213-3857214   Ulirsch2016           \n",
       "2 chr1:3796503-3796504   Ulirsch2016           \n",
       "3 chr1:3772761-3772762   Ulirsch2016           \n",
       "4 chr1:8879248-8879249   Gasperini et al., 2019\n",
       "5 chr1:17054169-17054170 Gasperini et al., 2019\n",
       "6 chr1:26900238-26900239 Gasperini et al., 2019"
      ]
     },
     "metadata": {},
     "output_type": "display_data"
    }
   ],
   "source": [
    "txt = c('chrom',  'chromStart', 'chromEnd',\n",
    "        \"chrTSS\", \"startTSS\",   \"endTSS\",\n",
    "        \"name\", \n",
    "        \"EffectSize\", \n",
    "        \"Strand1\", \"Strand2\",\n",
    "        \"Gene_Symbol\", \"Gene_TSS\", \"Reference\")\n",
    "\n",
    "\n",
    "dat = dat_peak_encode_e2g_import\n",
    "dat = dat %>% \n",
    "    dplyr::filter(Regulated) %>%\n",
    "    tidyr::separate(name, c(\"Gene_Symbol\", \"Loc\"), sep=\"\\\\|\", remove = FALSE) %>% \n",
    "    dplyr::mutate(\n",
    "        EffectSize   = round(EffectSize, 5),\n",
    "        Gene_TSS     = paste0(chrTSS, \":\", startTSS, \"-\", endTSS),\n",
    "        Strand1      = \".\",\n",
    "        Strand2      = \".\"\n",
    "    )\n",
    "\n",
    "dat = dat %>% \n",
    "    dplyr::select({{txt}}) %>% \n",
    "    dplyr::arrange(chrom, chromStart, chromEnd)\n",
    "\n",
    "dat_peak_encode_e2g_bedpe = dat\n",
    "print(dim(dat))\n",
    "head(dat)"
   ]
  },
  {
   "cell_type": "code",
   "execution_count": 11,
   "metadata": {},
   "outputs": [
    {
     "name": "stdout",
     "output_type": "stream",
     "text": [
      "[1] 487  18\n"
     ]
    },
    {
     "data": {
      "text/html": [
       "<table class=\"dataframe\">\n",
       "<caption>A tibble: 6 × 18</caption>\n",
       "<thead>\n",
       "\t<tr><th scope=col>chrom</th><th scope=col>chromStart</th><th scope=col>chromEnd</th><th scope=col>name</th><th scope=col>score</th><th scope=col>value</th><th scope=col>exp</th><th scope=col>color</th><th scope=col>sourceChrom</th><th scope=col>sourceStart</th><th scope=col>sourceEnd</th><th scope=col>sourceName</th><th scope=col>sourceStrand</th><th scope=col>targetChrom</th><th scope=col>targetStart</th><th scope=col>targetEnd</th><th scope=col>targetName</th><th scope=col>targetStrand</th></tr>\n",
       "\t<tr><th scope=col>&lt;chr&gt;</th><th scope=col>&lt;dbl&gt;</th><th scope=col>&lt;dbl&gt;</th><th scope=col>&lt;chr&gt;</th><th scope=col>&lt;dbl&gt;</th><th scope=col>&lt;dbl&gt;</th><th scope=col>&lt;chr&gt;</th><th scope=col>&lt;chr&gt;</th><th scope=col>&lt;chr&gt;</th><th scope=col>&lt;dbl&gt;</th><th scope=col>&lt;dbl&gt;</th><th scope=col>&lt;chr&gt;</th><th scope=col>&lt;chr&gt;</th><th scope=col>&lt;chr&gt;</th><th scope=col>&lt;dbl&gt;</th><th scope=col>&lt;dbl&gt;</th><th scope=col>&lt;chr&gt;</th><th scope=col>&lt;chr&gt;</th></tr>\n",
       "</thead>\n",
       "<tbody>\n",
       "\t<tr><td>chr1</td><td> 3774714</td><td> 3775214</td><td>CEP104|chr1:3691278-3691778:*</td><td>1000</td><td>1</td><td>.</td><td>.</td><td>chr1</td><td> 3774714</td><td> 3775214</td><td>chr1:3774714-3775214  </td><td>.</td><td>chr1</td><td> 3857213</td><td> 3857214</td><td>chr1:3857213-3857214  </td><td>.</td></tr>\n",
       "\t<tr><td>chr1</td><td> 3774714</td><td> 3775214</td><td>LRRC47|chr1:3691278-3691778:*</td><td>1000</td><td>1</td><td>.</td><td>.</td><td>chr1</td><td> 3774714</td><td> 3775214</td><td>chr1:3774714-3775214  </td><td>.</td><td>chr1</td><td> 3796503</td><td> 3796504</td><td>chr1:3796503-3796504  </td><td>.</td></tr>\n",
       "\t<tr><td>chr1</td><td> 3774714</td><td> 3775214</td><td>SMIM1|chr1:3691278-3691778:* </td><td>1000</td><td>1</td><td>.</td><td>.</td><td>chr1</td><td> 3774714</td><td> 3775214</td><td>chr1:3774714-3775214  </td><td>.</td><td>chr1</td><td> 3772761</td><td> 3772762</td><td>chr1:3772761-3772762  </td><td>.</td></tr>\n",
       "\t<tr><td>chr1</td><td> 8858063</td><td> 8858563</td><td>ENO1|chr1:8918122-8918622:.  </td><td>1000</td><td>1</td><td>.</td><td>.</td><td>chr1</td><td> 8858063</td><td> 8858563</td><td>chr1:8858063-8858563  </td><td>.</td><td>chr1</td><td> 8879248</td><td> 8879249</td><td>chr1:8879248-8879249  </td><td>.</td></tr>\n",
       "\t<tr><td>chr1</td><td>17441310</td><td>17441810</td><td>SDHB|chr1:17767806-17768306:.</td><td>1000</td><td>1</td><td>.</td><td>.</td><td>chr1</td><td>17441310</td><td>17441810</td><td>chr1:17441310-17441810</td><td>.</td><td>chr1</td><td>17054169</td><td>17054170</td><td>chr1:17054169-17054170</td><td>.</td></tr>\n",
       "\t<tr><td>chr1</td><td>25933351</td><td>25933954</td><td>NUDC|chr1:26259842-26260445:.</td><td>1000</td><td>1</td><td>.</td><td>.</td><td>chr1</td><td>25933351</td><td>25933954</td><td>chr1:25933351-25933954</td><td>.</td><td>chr1</td><td>26900238</td><td>26900239</td><td>chr1:26900238-26900239</td><td>.</td></tr>\n",
       "</tbody>\n",
       "</table>\n"
      ],
      "text/latex": [
       "A tibble: 6 × 18\n",
       "\\begin{tabular}{llllllllllllllllll}\n",
       " chrom & chromStart & chromEnd & name & score & value & exp & color & sourceChrom & sourceStart & sourceEnd & sourceName & sourceStrand & targetChrom & targetStart & targetEnd & targetName & targetStrand\\\\\n",
       " <chr> & <dbl> & <dbl> & <chr> & <dbl> & <dbl> & <chr> & <chr> & <chr> & <dbl> & <dbl> & <chr> & <chr> & <chr> & <dbl> & <dbl> & <chr> & <chr>\\\\\n",
       "\\hline\n",
       "\t chr1 &  3774714 &  3775214 & CEP104\\textbar{}chr1:3691278-3691778:* & 1000 & 1 & . & . & chr1 &  3774714 &  3775214 & chr1:3774714-3775214   & . & chr1 &  3857213 &  3857214 & chr1:3857213-3857214   & .\\\\\n",
       "\t chr1 &  3774714 &  3775214 & LRRC47\\textbar{}chr1:3691278-3691778:* & 1000 & 1 & . & . & chr1 &  3774714 &  3775214 & chr1:3774714-3775214   & . & chr1 &  3796503 &  3796504 & chr1:3796503-3796504   & .\\\\\n",
       "\t chr1 &  3774714 &  3775214 & SMIM1\\textbar{}chr1:3691278-3691778:*  & 1000 & 1 & . & . & chr1 &  3774714 &  3775214 & chr1:3774714-3775214   & . & chr1 &  3772761 &  3772762 & chr1:3772761-3772762   & .\\\\\n",
       "\t chr1 &  8858063 &  8858563 & ENO1\\textbar{}chr1:8918122-8918622:.   & 1000 & 1 & . & . & chr1 &  8858063 &  8858563 & chr1:8858063-8858563   & . & chr1 &  8879248 &  8879249 & chr1:8879248-8879249   & .\\\\\n",
       "\t chr1 & 17441310 & 17441810 & SDHB\\textbar{}chr1:17767806-17768306:. & 1000 & 1 & . & . & chr1 & 17441310 & 17441810 & chr1:17441310-17441810 & . & chr1 & 17054169 & 17054170 & chr1:17054169-17054170 & .\\\\\n",
       "\t chr1 & 25933351 & 25933954 & NUDC\\textbar{}chr1:26259842-26260445:. & 1000 & 1 & . & . & chr1 & 25933351 & 25933954 & chr1:25933351-25933954 & . & chr1 & 26900238 & 26900239 & chr1:26900238-26900239 & .\\\\\n",
       "\\end{tabular}\n"
      ],
      "text/markdown": [
       "\n",
       "A tibble: 6 × 18\n",
       "\n",
       "| chrom &lt;chr&gt; | chromStart &lt;dbl&gt; | chromEnd &lt;dbl&gt; | name &lt;chr&gt; | score &lt;dbl&gt; | value &lt;dbl&gt; | exp &lt;chr&gt; | color &lt;chr&gt; | sourceChrom &lt;chr&gt; | sourceStart &lt;dbl&gt; | sourceEnd &lt;dbl&gt; | sourceName &lt;chr&gt; | sourceStrand &lt;chr&gt; | targetChrom &lt;chr&gt; | targetStart &lt;dbl&gt; | targetEnd &lt;dbl&gt; | targetName &lt;chr&gt; | targetStrand &lt;chr&gt; |\n",
       "|---|---|---|---|---|---|---|---|---|---|---|---|---|---|---|---|---|---|\n",
       "| chr1 |  3774714 |  3775214 | CEP104|chr1:3691278-3691778:* | 1000 | 1 | . | . | chr1 |  3774714 |  3775214 | chr1:3774714-3775214   | . | chr1 |  3857213 |  3857214 | chr1:3857213-3857214   | . |\n",
       "| chr1 |  3774714 |  3775214 | LRRC47|chr1:3691278-3691778:* | 1000 | 1 | . | . | chr1 |  3774714 |  3775214 | chr1:3774714-3775214   | . | chr1 |  3796503 |  3796504 | chr1:3796503-3796504   | . |\n",
       "| chr1 |  3774714 |  3775214 | SMIM1|chr1:3691278-3691778:*  | 1000 | 1 | . | . | chr1 |  3774714 |  3775214 | chr1:3774714-3775214   | . | chr1 |  3772761 |  3772762 | chr1:3772761-3772762   | . |\n",
       "| chr1 |  8858063 |  8858563 | ENO1|chr1:8918122-8918622:.   | 1000 | 1 | . | . | chr1 |  8858063 |  8858563 | chr1:8858063-8858563   | . | chr1 |  8879248 |  8879249 | chr1:8879248-8879249   | . |\n",
       "| chr1 | 17441310 | 17441810 | SDHB|chr1:17767806-17768306:. | 1000 | 1 | . | . | chr1 | 17441310 | 17441810 | chr1:17441310-17441810 | . | chr1 | 17054169 | 17054170 | chr1:17054169-17054170 | . |\n",
       "| chr1 | 25933351 | 25933954 | NUDC|chr1:26259842-26260445:. | 1000 | 1 | . | . | chr1 | 25933351 | 25933954 | chr1:25933351-25933954 | . | chr1 | 26900238 | 26900239 | chr1:26900238-26900239 | . |\n",
       "\n"
      ],
      "text/plain": [
       "  chrom chromStart chromEnd name                          score value exp color\n",
       "1 chr1   3774714    3775214 CEP104|chr1:3691278-3691778:* 1000  1     .   .    \n",
       "2 chr1   3774714    3775214 LRRC47|chr1:3691278-3691778:* 1000  1     .   .    \n",
       "3 chr1   3774714    3775214 SMIM1|chr1:3691278-3691778:*  1000  1     .   .    \n",
       "4 chr1   8858063    8858563 ENO1|chr1:8918122-8918622:.   1000  1     .   .    \n",
       "5 chr1  17441310   17441810 SDHB|chr1:17767806-17768306:. 1000  1     .   .    \n",
       "6 chr1  25933351   25933954 NUDC|chr1:26259842-26260445:. 1000  1     .   .    \n",
       "  sourceChrom sourceStart sourceEnd sourceName             sourceStrand\n",
       "1 chr1         3774714     3775214  chr1:3774714-3775214   .           \n",
       "2 chr1         3774714     3775214  chr1:3774714-3775214   .           \n",
       "3 chr1         3774714     3775214  chr1:3774714-3775214   .           \n",
       "4 chr1         8858063     8858563  chr1:8858063-8858563   .           \n",
       "5 chr1        17441310    17441810  chr1:17441310-17441810 .           \n",
       "6 chr1        25933351    25933954  chr1:25933351-25933954 .           \n",
       "  targetChrom targetStart targetEnd targetName             targetStrand\n",
       "1 chr1         3857213     3857214  chr1:3857213-3857214   .           \n",
       "2 chr1         3796503     3796504  chr1:3796503-3796504   .           \n",
       "3 chr1         3772761     3772762  chr1:3772761-3772762   .           \n",
       "4 chr1         8879248     8879249  chr1:8879248-8879249   .           \n",
       "5 chr1        17054169    17054170  chr1:17054169-17054170 .           \n",
       "6 chr1        26900238    26900239  chr1:26900238-26900239 .           "
      ]
     },
     "metadata": {},
     "output_type": "display_data"
    }
   ],
   "source": [
    "dat = dat_peak_encode_e2g_bedpe\n",
    "\n",
    "dat = dat %>%\n",
    "    dplyr::mutate(score = 1000, value = 1, exp = \".\", color = \".\") %>%\n",
    "    dplyr::mutate(\n",
    "        chromMid = as.integer((chromStart + chromEnd) / 2),\n",
    "        sourceName = paste0(chrom, \":\", chromStart, \"-\", chromEnd),\n",
    "        targetName = Gene_TSS,\n",
    "    ) %>%\n",
    "    dplyr::mutate(\n",
    "        sourceChrom   = chrom,\n",
    "        sourceStart   = chromStart,\n",
    "        sourceEnd     = chromEnd,\n",
    "        sourceStrand  = \".\",\n",
    "        targetChrom   = chrTSS,\n",
    "        targetStart   = startTSS,\n",
    "        targetEnd     = endTSS,\n",
    "        targetStrand  = \".\"\n",
    "    ) %>%\n",
    "    dplyr::select(\n",
    "        chrom, chromStart, chromEnd, name, \n",
    "        score, value, exp, color,\n",
    "        sourceChrom,\n",
    "        sourceStart,\n",
    "        sourceEnd,\n",
    "        sourceName,\n",
    "        sourceStrand,\n",
    "        targetChrom,\n",
    "        targetStart,\n",
    "        targetEnd,\n",
    "        targetName,\n",
    "        targetStrand\n",
    "    )\n",
    "\n",
    "dat_peak_encode_e2g_interact = dat\n",
    "print(dim(dat))\n",
    "head(dat)"
   ]
  },
  {
   "cell_type": "markdown",
   "metadata": {},
   "source": [
    "## Save results"
   ]
  },
  {
   "cell_type": "code",
   "execution_count": 12,
   "metadata": {},
   "outputs": [],
   "source": [
    "FD_OUT = file.path(FD_RES, \"results\", \"region\", \"annotation_encode_e2g\")"
   ]
  },
  {
   "cell_type": "code",
   "execution_count": 13,
   "metadata": {},
   "outputs": [
    {
     "name": "stdout",
     "output_type": "stream",
     "text": [
      "[1] \"/data/reddylab/Kuei/out/proj_combeffect_encode_fcc/results/region/annotation_encode_e2g/description.tsv\"\n"
     ]
    }
   ],
   "source": [
    "fdiry = FD_OUT\n",
    "fname = \"description.tsv\"\n",
    "fpath = file.path(fdiry, fname)\n",
    "print(fpath)\n",
    "\n",
    "dat = dat_cnames\n",
    "write_tsv(dat, fpath)"
   ]
  },
  {
   "cell_type": "code",
   "execution_count": 14,
   "metadata": {},
   "outputs": [
    {
     "name": "stdout",
     "output_type": "stream",
     "text": [
      "[1] \"/data/reddylab/Kuei/out/proj_combeffect_encode_fcc/results/region/annotation_encode_e2g/K562.EPCrisprBenchmark.total.bed.gz\"\n"
     ]
    }
   ],
   "source": [
    "fdiry = FD_OUT\n",
    "fname = \"K562.EPCrisprBenchmark.total.bed.gz\"\n",
    "fpath = file.path(fdiry, fname)\n",
    "print(fpath)\n",
    "\n",
    "dat = dat_peak_encode_e2g_total\n",
    "colnames(dat)[1] = \"#Chrom\"\n",
    "write_tsv(dat, fpath)"
   ]
  },
  {
   "cell_type": "code",
   "execution_count": 15,
   "metadata": {},
   "outputs": [
    {
     "name": "stdout",
     "output_type": "stream",
     "text": [
      "[1] \"/data/reddylab/Kuei/out/proj_combeffect_encode_fcc/results/region/annotation_encode_e2g/K562.EPCrisprBenchmark.active.bed.gz\"\n"
     ]
    }
   ],
   "source": [
    "fdiry = FD_OUT\n",
    "fname = \"K562.EPCrisprBenchmark.active.bed.gz\"\n",
    "fpath = file.path(fdiry, fname)\n",
    "print(fpath)\n",
    "\n",
    "dat = dat_peak_encode_e2g_active\n",
    "colnames(dat)[1] = \"#Chrom\"\n",
    "write_tsv(dat, fpath)"
   ]
  },
  {
   "cell_type": "code",
   "execution_count": 16,
   "metadata": {},
   "outputs": [
    {
     "name": "stdout",
     "output_type": "stream",
     "text": [
      "[1] \"/data/reddylab/Kuei/out/proj_combeffect_encode_fcc/results/region/annotation_encode_e2g/K562.EPCrisprBenchmark.inactive.bed.gz\"\n"
     ]
    }
   ],
   "source": [
    "fdiry = FD_OUT\n",
    "fname = \"K562.EPCrisprBenchmark.inactive.bed.gz\"\n",
    "fpath = file.path(fdiry, fname)\n",
    "print(fpath)\n",
    "\n",
    "dat = dat_peak_encode_e2g_inactive\n",
    "colnames(dat)[1] = \"#Chrom\"\n",
    "write_tsv(dat, fpath)"
   ]
  },
  {
   "cell_type": "code",
   "execution_count": 17,
   "metadata": {},
   "outputs": [
    {
     "name": "stdout",
     "output_type": "stream",
     "text": [
      "[1] \"/data/reddylab/Kuei/out/proj_combeffect_encode_fcc/results/region/annotation_encode_e2g/K562.EPCrisprBenchmark.active.region2TSS.bedpe.gz\"\n"
     ]
    }
   ],
   "source": [
    "fdiry = FD_OUT\n",
    "fname = \"K562.EPCrisprBenchmark.active.region2TSS.bedpe.gz\"\n",
    "fpath = file.path(fdiry, fname)\n",
    "print(fpath)\n",
    "\n",
    "dat = dat_peak_encode_e2g_bedpe\n",
    "colnames(dat)[1] = \"#chrom\"\n",
    "write_tsv(dat, fpath)"
   ]
  },
  {
   "cell_type": "code",
   "execution_count": 18,
   "metadata": {},
   "outputs": [
    {
     "name": "stdout",
     "output_type": "stream",
     "text": [
      "[1] \"/data/reddylab/Kuei/out/proj_combeffect_encode_fcc/results/region/annotation_encode_e2g/K562.EPCrisprBenchmark.active.region2TSS.bed\"\n"
     ]
    }
   ],
   "source": [
    "fdiry = FD_OUT\n",
    "fname = \"K562.EPCrisprBenchmark.active.region2TSS.bed\"\n",
    "fpath = file.path(fdiry, fname)\n",
    "print(fpath)\n",
    "\n",
    "dat = dat_peak_encode_e2g_interact\n",
    "colnames(dat)[1] = \"#chrom\"\n",
    "write_tsv(dat, fpath)"
   ]
  },
  {
   "cell_type": "code",
   "execution_count": null,
   "metadata": {},
   "outputs": [],
   "source": []
  },
  {
   "cell_type": "code",
   "execution_count": null,
   "metadata": {},
   "outputs": [],
   "source": []
  },
  {
   "cell_type": "code",
   "execution_count": null,
   "metadata": {},
   "outputs": [],
   "source": []
  },
  {
   "cell_type": "code",
   "execution_count": null,
   "metadata": {},
   "outputs": [],
   "source": []
  },
  {
   "cell_type": "code",
   "execution_count": null,
   "metadata": {},
   "outputs": [],
   "source": []
  },
  {
   "cell_type": "code",
   "execution_count": null,
   "metadata": {},
   "outputs": [],
   "source": []
  },
  {
   "cell_type": "code",
   "execution_count": null,
   "metadata": {},
   "outputs": [],
   "source": []
  },
  {
   "cell_type": "code",
   "execution_count": 8,
   "metadata": {},
   "outputs": [
    {
     "name": "stdout",
     "output_type": "stream",
     "text": [
      "[1] 464  10\n"
     ]
    },
    {
     "data": {
      "text/html": [
       "<table class=\"dataframe\">\n",
       "<caption>A tibble: 6 × 10</caption>\n",
       "<thead>\n",
       "\t<tr><th scope=col>chrom</th><th scope=col>chromStart</th><th scope=col>chromEnd</th><th scope=col>name</th><th scope=col>EffectSize</th><th scope=col>Gene_Symbol</th><th scope=col>Gene_TSS</th><th scope=col>Reference</th><th scope=col>Assay_Type</th><th scope=col>Assay_Label</th></tr>\n",
       "\t<tr><th scope=col>&lt;chr&gt;</th><th scope=col>&lt;dbl&gt;</th><th scope=col>&lt;dbl&gt;</th><th scope=col>&lt;chr&gt;</th><th scope=col>&lt;dbl&gt;</th><th scope=col>&lt;chr&gt;</th><th scope=col>&lt;chr&gt;</th><th scope=col>&lt;chr&gt;</th><th scope=col>&lt;chr&gt;</th><th scope=col>&lt;chr&gt;</th></tr>\n",
       "</thead>\n",
       "<tbody>\n",
       "\t<tr><td>chr1</td><td> 8858063</td><td> 8858563</td><td>ENO1|chr1:8918122-8918622:.    </td><td>-0.10741</td><td>ENO1  </td><td>chr1:8879248-8879249  </td><td>Gasperini et al., 2019</td><td>CRISPRi-E2G</td><td>CRISPRi-E2G:ENO1  </td></tr>\n",
       "\t<tr><td>chr1</td><td>17441310</td><td>17441810</td><td>SDHB|chr1:17767806-17768306:.  </td><td>-0.08968</td><td>SDHB  </td><td>chr1:17054169-17054170</td><td>Gasperini et al., 2019</td><td>CRISPRi-E2G</td><td>CRISPRi-E2G:SDHB  </td></tr>\n",
       "\t<tr><td>chr1</td><td>25933351</td><td>25933954</td><td>NUDC|chr1:26259842-26260445:.  </td><td>-0.08462</td><td>NUDC  </td><td>chr1:26900238-26900239</td><td>Gasperini et al., 2019</td><td>CRISPRi-E2G</td><td>CRISPRi-E2G:NUDC  </td></tr>\n",
       "\t<tr><td>chr1</td><td>25933351</td><td>25933954</td><td>STMN1|chr1:26259842-26260445:. </td><td>-0.12223</td><td>STMN1 </td><td>chr1:25906990-25906991</td><td>Gasperini et al., 2019</td><td>CRISPRi-E2G</td><td>CRISPRi-E2G:STMN1 </td></tr>\n",
       "\t<tr><td>chr1</td><td>26377523</td><td>26378866</td><td>LIN28A|chr1:26704014-26705357:.</td><td>-0.05172</td><td>LIN28A</td><td>chr1:26410778-26410779</td><td>Gasperini et al., 2019</td><td>CRISPRi-E2G</td><td>CRISPRi-E2G:LIN28A</td></tr>\n",
       "\t<tr><td>chr1</td><td>28883765</td><td>28884265</td><td>EPB41|chr1:29210277-29210777:. </td><td>-0.26521</td><td>EPB41 </td><td>chr1:28887091-28887092</td><td>Gasperini et al., 2019</td><td>CRISPRi-E2G</td><td>CRISPRi-E2G:EPB41 </td></tr>\n",
       "</tbody>\n",
       "</table>\n"
      ],
      "text/latex": [
       "A tibble: 6 × 10\n",
       "\\begin{tabular}{llllllllll}\n",
       " chrom & chromStart & chromEnd & name & EffectSize & Gene\\_Symbol & Gene\\_TSS & Reference & Assay\\_Type & Assay\\_Label\\\\\n",
       " <chr> & <dbl> & <dbl> & <chr> & <dbl> & <chr> & <chr> & <chr> & <chr> & <chr>\\\\\n",
       "\\hline\n",
       "\t chr1 &  8858063 &  8858563 & ENO1\\textbar{}chr1:8918122-8918622:.     & -0.10741 & ENO1   & chr1:8879248-8879249   & Gasperini et al., 2019 & CRISPRi-E2G & CRISPRi-E2G:ENO1  \\\\\n",
       "\t chr1 & 17441310 & 17441810 & SDHB\\textbar{}chr1:17767806-17768306:.   & -0.08968 & SDHB   & chr1:17054169-17054170 & Gasperini et al., 2019 & CRISPRi-E2G & CRISPRi-E2G:SDHB  \\\\\n",
       "\t chr1 & 25933351 & 25933954 & NUDC\\textbar{}chr1:26259842-26260445:.   & -0.08462 & NUDC   & chr1:26900238-26900239 & Gasperini et al., 2019 & CRISPRi-E2G & CRISPRi-E2G:NUDC  \\\\\n",
       "\t chr1 & 25933351 & 25933954 & STMN1\\textbar{}chr1:26259842-26260445:.  & -0.12223 & STMN1  & chr1:25906990-25906991 & Gasperini et al., 2019 & CRISPRi-E2G & CRISPRi-E2G:STMN1 \\\\\n",
       "\t chr1 & 26377523 & 26378866 & LIN28A\\textbar{}chr1:26704014-26705357:. & -0.05172 & LIN28A & chr1:26410778-26410779 & Gasperini et al., 2019 & CRISPRi-E2G & CRISPRi-E2G:LIN28A\\\\\n",
       "\t chr1 & 28883765 & 28884265 & EPB41\\textbar{}chr1:29210277-29210777:.  & -0.26521 & EPB41  & chr1:28887091-28887092 & Gasperini et al., 2019 & CRISPRi-E2G & CRISPRi-E2G:EPB41 \\\\\n",
       "\\end{tabular}\n"
      ],
      "text/markdown": [
       "\n",
       "A tibble: 6 × 10\n",
       "\n",
       "| chrom &lt;chr&gt; | chromStart &lt;dbl&gt; | chromEnd &lt;dbl&gt; | name &lt;chr&gt; | EffectSize &lt;dbl&gt; | Gene_Symbol &lt;chr&gt; | Gene_TSS &lt;chr&gt; | Reference &lt;chr&gt; | Assay_Type &lt;chr&gt; | Assay_Label &lt;chr&gt; |\n",
       "|---|---|---|---|---|---|---|---|---|---|\n",
       "| chr1 |  8858063 |  8858563 | ENO1|chr1:8918122-8918622:.     | -0.10741 | ENO1   | chr1:8879248-8879249   | Gasperini et al., 2019 | CRISPRi-E2G | CRISPRi-E2G:ENO1   |\n",
       "| chr1 | 17441310 | 17441810 | SDHB|chr1:17767806-17768306:.   | -0.08968 | SDHB   | chr1:17054169-17054170 | Gasperini et al., 2019 | CRISPRi-E2G | CRISPRi-E2G:SDHB   |\n",
       "| chr1 | 25933351 | 25933954 | NUDC|chr1:26259842-26260445:.   | -0.08462 | NUDC   | chr1:26900238-26900239 | Gasperini et al., 2019 | CRISPRi-E2G | CRISPRi-E2G:NUDC   |\n",
       "| chr1 | 25933351 | 25933954 | STMN1|chr1:26259842-26260445:.  | -0.12223 | STMN1  | chr1:25906990-25906991 | Gasperini et al., 2019 | CRISPRi-E2G | CRISPRi-E2G:STMN1  |\n",
       "| chr1 | 26377523 | 26378866 | LIN28A|chr1:26704014-26705357:. | -0.05172 | LIN28A | chr1:26410778-26410779 | Gasperini et al., 2019 | CRISPRi-E2G | CRISPRi-E2G:LIN28A |\n",
       "| chr1 | 28883765 | 28884265 | EPB41|chr1:29210277-29210777:.  | -0.26521 | EPB41  | chr1:28887091-28887092 | Gasperini et al., 2019 | CRISPRi-E2G | CRISPRi-E2G:EPB41  |\n",
       "\n"
      ],
      "text/plain": [
       "  chrom chromStart chromEnd name                            EffectSize\n",
       "1 chr1   8858063    8858563 ENO1|chr1:8918122-8918622:.     -0.10741  \n",
       "2 chr1  17441310   17441810 SDHB|chr1:17767806-17768306:.   -0.08968  \n",
       "3 chr1  25933351   25933954 NUDC|chr1:26259842-26260445:.   -0.08462  \n",
       "4 chr1  25933351   25933954 STMN1|chr1:26259842-26260445:.  -0.12223  \n",
       "5 chr1  26377523   26378866 LIN28A|chr1:26704014-26705357:. -0.05172  \n",
       "6 chr1  28883765   28884265 EPB41|chr1:29210277-29210777:.  -0.26521  \n",
       "  Gene_Symbol Gene_TSS               Reference              Assay_Type \n",
       "1 ENO1        chr1:8879248-8879249   Gasperini et al., 2019 CRISPRi-E2G\n",
       "2 SDHB        chr1:17054169-17054170 Gasperini et al., 2019 CRISPRi-E2G\n",
       "3 NUDC        chr1:26900238-26900239 Gasperini et al., 2019 CRISPRi-E2G\n",
       "4 STMN1       chr1:25906990-25906991 Gasperini et al., 2019 CRISPRi-E2G\n",
       "5 LIN28A      chr1:26410778-26410779 Gasperini et al., 2019 CRISPRi-E2G\n",
       "6 EPB41       chr1:28887091-28887092 Gasperini et al., 2019 CRISPRi-E2G\n",
       "  Assay_Label       \n",
       "1 CRISPRi-E2G:ENO1  \n",
       "2 CRISPRi-E2G:SDHB  \n",
       "3 CRISPRi-E2G:NUDC  \n",
       "4 CRISPRi-E2G:STMN1 \n",
       "5 CRISPRi-E2G:LIN28A\n",
       "6 CRISPRi-E2G:EPB41 "
      ]
     },
     "metadata": {},
     "output_type": "display_data"
    }
   ],
   "source": [
    "txt = c('chrom','chromStart','chromEnd','name','EffectSize', \n",
    "        \"Gene_Symbol\", \"Gene_TSS\", \n",
    "        'Reference', \n",
    "        'Assay_Type', 'Assay_Label')\n",
    "vec = c(\n",
    "    \"Gasperini et al., 2019\", \n",
    "    \"Fulco2019\", \n",
    "    \"Schraivogel et al., 2020\", \n",
    "    \"Klann2017\", \n",
    "    \"Fulco2016\", \n",
    "    \"Thakore2015\")\n",
    "\n",
    "dat = dat_peak_crispri_e2g_import\n",
    "dat = dat %>% \n",
    "    dplyr::filter(Regulated) %>% \n",
    "    dplyr::filter(Reference %in% vec)\n",
    "\n",
    "dat = dat %>% \n",
    "    tidyr::separate(name, c(\"Gene_Symbol\", \"Loc\"), sep=\"\\\\|\", remove = FALSE) %>% \n",
    "    dplyr::mutate(\n",
    "        EffectSize   = round(EffectSize, 5),\n",
    "        Gene_TSS     = paste0(chrTSS, \":\", startTSS, \"-\", endTSS),\n",
    "        Assay_Type   = \"CRISPRi-E2G\",\n",
    "        Assay_Label  = paste0(\"CRISPRi-E2G\", \":\", Gene_Symbol)\n",
    "    )\n",
    "        #Assay_Label2 = paste0(\"CRISPRi-E2G\", \"(\", Reference, \")\", \":\", Gene_Symbol)\n",
    "\n",
    "dat = dat %>% \n",
    "    dplyr::select({{txt}}) %>% \n",
    "    dplyr::arrange(chrom, chromStart, chromEnd)\n",
    "\n",
    "dat_peak_crispri_e2g_arrange = dat\n",
    "print(dim(dat))\n",
    "head(dat)"
   ]
  },
  {
   "cell_type": "code",
   "execution_count": 9,
   "metadata": {},
   "outputs": [
    {
     "name": "stdout",
     "output_type": "stream",
     "text": [
      "[1] 464  13\n"
     ]
    },
    {
     "data": {
      "text/html": [
       "<table class=\"dataframe\">\n",
       "<caption>A tibble: 6 × 13</caption>\n",
       "<thead>\n",
       "\t<tr><th scope=col>chrom</th><th scope=col>chromStart</th><th scope=col>chromEnd</th><th scope=col>chrTSS</th><th scope=col>startTSS</th><th scope=col>endTSS</th><th scope=col>name</th><th scope=col>EffectSize</th><th scope=col>Strand1</th><th scope=col>Strand2</th><th scope=col>Gene_Symbol</th><th scope=col>Gene_TSS</th><th scope=col>Reference</th></tr>\n",
       "\t<tr><th scope=col>&lt;chr&gt;</th><th scope=col>&lt;dbl&gt;</th><th scope=col>&lt;dbl&gt;</th><th scope=col>&lt;chr&gt;</th><th scope=col>&lt;dbl&gt;</th><th scope=col>&lt;dbl&gt;</th><th scope=col>&lt;chr&gt;</th><th scope=col>&lt;dbl&gt;</th><th scope=col>&lt;chr&gt;</th><th scope=col>&lt;chr&gt;</th><th scope=col>&lt;chr&gt;</th><th scope=col>&lt;chr&gt;</th><th scope=col>&lt;chr&gt;</th></tr>\n",
       "</thead>\n",
       "<tbody>\n",
       "\t<tr><td>chr1</td><td> 8858063</td><td> 8858563</td><td>chr1</td><td> 8879248</td><td> 8879249</td><td>ENO1|chr1:8918122-8918622:.    </td><td>-0.10741</td><td>.</td><td>.</td><td>ENO1  </td><td>chr1:8879248-8879249  </td><td>Gasperini et al., 2019</td></tr>\n",
       "\t<tr><td>chr1</td><td>17441310</td><td>17441810</td><td>chr1</td><td>17054169</td><td>17054170</td><td>SDHB|chr1:17767806-17768306:.  </td><td>-0.08968</td><td>.</td><td>.</td><td>SDHB  </td><td>chr1:17054169-17054170</td><td>Gasperini et al., 2019</td></tr>\n",
       "\t<tr><td>chr1</td><td>25933351</td><td>25933954</td><td>chr1</td><td>26900238</td><td>26900239</td><td>NUDC|chr1:26259842-26260445:.  </td><td>-0.08462</td><td>.</td><td>.</td><td>NUDC  </td><td>chr1:26900238-26900239</td><td>Gasperini et al., 2019</td></tr>\n",
       "\t<tr><td>chr1</td><td>25933351</td><td>25933954</td><td>chr1</td><td>25906990</td><td>25906991</td><td>STMN1|chr1:26259842-26260445:. </td><td>-0.12223</td><td>.</td><td>.</td><td>STMN1 </td><td>chr1:25906990-25906991</td><td>Gasperini et al., 2019</td></tr>\n",
       "\t<tr><td>chr1</td><td>26377523</td><td>26378866</td><td>chr1</td><td>26410778</td><td>26410779</td><td>LIN28A|chr1:26704014-26705357:.</td><td>-0.05172</td><td>.</td><td>.</td><td>LIN28A</td><td>chr1:26410778-26410779</td><td>Gasperini et al., 2019</td></tr>\n",
       "\t<tr><td>chr1</td><td>28883765</td><td>28884265</td><td>chr1</td><td>28887091</td><td>28887092</td><td>EPB41|chr1:29210277-29210777:. </td><td>-0.26521</td><td>.</td><td>.</td><td>EPB41 </td><td>chr1:28887091-28887092</td><td>Gasperini et al., 2019</td></tr>\n",
       "</tbody>\n",
       "</table>\n"
      ],
      "text/latex": [
       "A tibble: 6 × 13\n",
       "\\begin{tabular}{lllllllllllll}\n",
       " chrom & chromStart & chromEnd & chrTSS & startTSS & endTSS & name & EffectSize & Strand1 & Strand2 & Gene\\_Symbol & Gene\\_TSS & Reference\\\\\n",
       " <chr> & <dbl> & <dbl> & <chr> & <dbl> & <dbl> & <chr> & <dbl> & <chr> & <chr> & <chr> & <chr> & <chr>\\\\\n",
       "\\hline\n",
       "\t chr1 &  8858063 &  8858563 & chr1 &  8879248 &  8879249 & ENO1\\textbar{}chr1:8918122-8918622:.     & -0.10741 & . & . & ENO1   & chr1:8879248-8879249   & Gasperini et al., 2019\\\\\n",
       "\t chr1 & 17441310 & 17441810 & chr1 & 17054169 & 17054170 & SDHB\\textbar{}chr1:17767806-17768306:.   & -0.08968 & . & . & SDHB   & chr1:17054169-17054170 & Gasperini et al., 2019\\\\\n",
       "\t chr1 & 25933351 & 25933954 & chr1 & 26900238 & 26900239 & NUDC\\textbar{}chr1:26259842-26260445:.   & -0.08462 & . & . & NUDC   & chr1:26900238-26900239 & Gasperini et al., 2019\\\\\n",
       "\t chr1 & 25933351 & 25933954 & chr1 & 25906990 & 25906991 & STMN1\\textbar{}chr1:26259842-26260445:.  & -0.12223 & . & . & STMN1  & chr1:25906990-25906991 & Gasperini et al., 2019\\\\\n",
       "\t chr1 & 26377523 & 26378866 & chr1 & 26410778 & 26410779 & LIN28A\\textbar{}chr1:26704014-26705357:. & -0.05172 & . & . & LIN28A & chr1:26410778-26410779 & Gasperini et al., 2019\\\\\n",
       "\t chr1 & 28883765 & 28884265 & chr1 & 28887091 & 28887092 & EPB41\\textbar{}chr1:29210277-29210777:.  & -0.26521 & . & . & EPB41  & chr1:28887091-28887092 & Gasperini et al., 2019\\\\\n",
       "\\end{tabular}\n"
      ],
      "text/markdown": [
       "\n",
       "A tibble: 6 × 13\n",
       "\n",
       "| chrom &lt;chr&gt; | chromStart &lt;dbl&gt; | chromEnd &lt;dbl&gt; | chrTSS &lt;chr&gt; | startTSS &lt;dbl&gt; | endTSS &lt;dbl&gt; | name &lt;chr&gt; | EffectSize &lt;dbl&gt; | Strand1 &lt;chr&gt; | Strand2 &lt;chr&gt; | Gene_Symbol &lt;chr&gt; | Gene_TSS &lt;chr&gt; | Reference &lt;chr&gt; |\n",
       "|---|---|---|---|---|---|---|---|---|---|---|---|---|\n",
       "| chr1 |  8858063 |  8858563 | chr1 |  8879248 |  8879249 | ENO1|chr1:8918122-8918622:.     | -0.10741 | . | . | ENO1   | chr1:8879248-8879249   | Gasperini et al., 2019 |\n",
       "| chr1 | 17441310 | 17441810 | chr1 | 17054169 | 17054170 | SDHB|chr1:17767806-17768306:.   | -0.08968 | . | . | SDHB   | chr1:17054169-17054170 | Gasperini et al., 2019 |\n",
       "| chr1 | 25933351 | 25933954 | chr1 | 26900238 | 26900239 | NUDC|chr1:26259842-26260445:.   | -0.08462 | . | . | NUDC   | chr1:26900238-26900239 | Gasperini et al., 2019 |\n",
       "| chr1 | 25933351 | 25933954 | chr1 | 25906990 | 25906991 | STMN1|chr1:26259842-26260445:.  | -0.12223 | . | . | STMN1  | chr1:25906990-25906991 | Gasperini et al., 2019 |\n",
       "| chr1 | 26377523 | 26378866 | chr1 | 26410778 | 26410779 | LIN28A|chr1:26704014-26705357:. | -0.05172 | . | . | LIN28A | chr1:26410778-26410779 | Gasperini et al., 2019 |\n",
       "| chr1 | 28883765 | 28884265 | chr1 | 28887091 | 28887092 | EPB41|chr1:29210277-29210777:.  | -0.26521 | . | . | EPB41  | chr1:28887091-28887092 | Gasperini et al., 2019 |\n",
       "\n"
      ],
      "text/plain": [
       "  chrom chromStart chromEnd chrTSS startTSS endTSS  \n",
       "1 chr1   8858063    8858563 chr1    8879248  8879249\n",
       "2 chr1  17441310   17441810 chr1   17054169 17054170\n",
       "3 chr1  25933351   25933954 chr1   26900238 26900239\n",
       "4 chr1  25933351   25933954 chr1   25906990 25906991\n",
       "5 chr1  26377523   26378866 chr1   26410778 26410779\n",
       "6 chr1  28883765   28884265 chr1   28887091 28887092\n",
       "  name                            EffectSize Strand1 Strand2 Gene_Symbol\n",
       "1 ENO1|chr1:8918122-8918622:.     -0.10741   .       .       ENO1       \n",
       "2 SDHB|chr1:17767806-17768306:.   -0.08968   .       .       SDHB       \n",
       "3 NUDC|chr1:26259842-26260445:.   -0.08462   .       .       NUDC       \n",
       "4 STMN1|chr1:26259842-26260445:.  -0.12223   .       .       STMN1      \n",
       "5 LIN28A|chr1:26704014-26705357:. -0.05172   .       .       LIN28A     \n",
       "6 EPB41|chr1:29210277-29210777:.  -0.26521   .       .       EPB41      \n",
       "  Gene_TSS               Reference             \n",
       "1 chr1:8879248-8879249   Gasperini et al., 2019\n",
       "2 chr1:17054169-17054170 Gasperini et al., 2019\n",
       "3 chr1:26900238-26900239 Gasperini et al., 2019\n",
       "4 chr1:25906990-25906991 Gasperini et al., 2019\n",
       "5 chr1:26410778-26410779 Gasperini et al., 2019\n",
       "6 chr1:28887091-28887092 Gasperini et al., 2019"
      ]
     },
     "metadata": {},
     "output_type": "display_data"
    }
   ],
   "source": [
    "txt = c('chrom',  'chromStart', 'chromEnd',\n",
    "        \"chrTSS\", \"startTSS\",   \"endTSS\",\n",
    "        'name', 'EffectSize', \n",
    "        \"Strand1\", \"Strand2\",\n",
    "        \"Gene_Symbol\", \"Gene_TSS\", \n",
    "        'Reference')\n",
    "\n",
    "#txt = c('chrom',  'chromStart', 'chromEnd',\n",
    "#        \"chrTSS\", \"startTSS\",   \"endTSS\",\n",
    "#        'name')\n",
    "\n",
    "vec = c(\n",
    "    \"Gasperini et al., 2019\", \n",
    "    \"Fulco2019\", \n",
    "    \"Schraivogel et al., 2020\", \n",
    "    \"Klann2017\", \n",
    "    \"Fulco2016\", \n",
    "    \"Thakore2015\")\n",
    "\n",
    "dat = dat_peak_crispri_e2g_import\n",
    "dat = dat %>% \n",
    "    dplyr::filter(Regulated) %>% \n",
    "    dplyr::filter(Reference %in% vec)\n",
    "\n",
    "dat = dat %>% \n",
    "    tidyr::separate(name, c(\"Gene_Symbol\", \"Loc\"), sep=\"\\\\|\", remove = FALSE) %>% \n",
    "    dplyr::mutate(\n",
    "        EffectSize   = round(EffectSize, 5),\n",
    "        Gene_TSS     = paste0(chrTSS, \":\", startTSS, \"-\", endTSS),\n",
    "        Strand1      = \".\",\n",
    "        Strand2      = \".\"\n",
    "    )\n",
    "        #Assay_Label2 = paste0(\"CRISPRi-E2G\", \"(\", Reference, \")\", \":\", Gene_Symbol)\n",
    "\n",
    "dat = dat %>% \n",
    "    dplyr::select({{txt}}) %>% \n",
    "    dplyr::arrange(chrom, chromStart, chromEnd)\n",
    "\n",
    "dat_peak_crispri_e2g_bedpe = dat\n",
    "print(dim(dat))\n",
    "head(dat)"
   ]
  },
  {
   "cell_type": "code",
   "execution_count": 10,
   "metadata": {},
   "outputs": [
    {
     "name": "stdout",
     "output_type": "stream",
     "text": [
      "[1] 464  18\n"
     ]
    },
    {
     "data": {
      "text/html": [
       "<table class=\"dataframe\">\n",
       "<caption>A tibble: 6 × 18</caption>\n",
       "<thead>\n",
       "\t<tr><th scope=col>chrom</th><th scope=col>chromStart</th><th scope=col>chromEnd</th><th scope=col>name</th><th scope=col>score</th><th scope=col>value</th><th scope=col>exp</th><th scope=col>color</th><th scope=col>sourceChrom</th><th scope=col>sourceStart</th><th scope=col>sourceEnd</th><th scope=col>sourceName</th><th scope=col>sourceStrand</th><th scope=col>targetChrom</th><th scope=col>targetStart</th><th scope=col>targetEnd</th><th scope=col>targetName</th><th scope=col>targetStrand</th></tr>\n",
       "\t<tr><th scope=col>&lt;chr&gt;</th><th scope=col>&lt;dbl&gt;</th><th scope=col>&lt;dbl&gt;</th><th scope=col>&lt;chr&gt;</th><th scope=col>&lt;dbl&gt;</th><th scope=col>&lt;dbl&gt;</th><th scope=col>&lt;chr&gt;</th><th scope=col>&lt;chr&gt;</th><th scope=col>&lt;chr&gt;</th><th scope=col>&lt;dbl&gt;</th><th scope=col>&lt;dbl&gt;</th><th scope=col>&lt;chr&gt;</th><th scope=col>&lt;chr&gt;</th><th scope=col>&lt;chr&gt;</th><th scope=col>&lt;dbl&gt;</th><th scope=col>&lt;dbl&gt;</th><th scope=col>&lt;chr&gt;</th><th scope=col>&lt;chr&gt;</th></tr>\n",
       "</thead>\n",
       "<tbody>\n",
       "\t<tr><td>chr1</td><td> 8858063</td><td> 8858563</td><td>ENO1|chr1:8918122-8918622:.    </td><td>1000</td><td>1</td><td>.</td><td>.</td><td>chr1</td><td> 8858063</td><td> 8858563</td><td>chr1:8858063-8858563  </td><td>.</td><td>chr1</td><td> 8879248</td><td> 8879249</td><td>chr1:8879248-8879249  </td><td>.</td></tr>\n",
       "\t<tr><td>chr1</td><td>17441310</td><td>17441810</td><td>SDHB|chr1:17767806-17768306:.  </td><td>1000</td><td>1</td><td>.</td><td>.</td><td>chr1</td><td>17441310</td><td>17441810</td><td>chr1:17441310-17441810</td><td>.</td><td>chr1</td><td>17054169</td><td>17054170</td><td>chr1:17054169-17054170</td><td>.</td></tr>\n",
       "\t<tr><td>chr1</td><td>25933351</td><td>25933954</td><td>NUDC|chr1:26259842-26260445:.  </td><td>1000</td><td>1</td><td>.</td><td>.</td><td>chr1</td><td>25933351</td><td>25933954</td><td>chr1:25933351-25933954</td><td>.</td><td>chr1</td><td>26900238</td><td>26900239</td><td>chr1:26900238-26900239</td><td>.</td></tr>\n",
       "\t<tr><td>chr1</td><td>25933351</td><td>25933954</td><td>STMN1|chr1:26259842-26260445:. </td><td>1000</td><td>1</td><td>.</td><td>.</td><td>chr1</td><td>25933351</td><td>25933954</td><td>chr1:25933351-25933954</td><td>.</td><td>chr1</td><td>25906990</td><td>25906991</td><td>chr1:25906990-25906991</td><td>.</td></tr>\n",
       "\t<tr><td>chr1</td><td>26377523</td><td>26378866</td><td>LIN28A|chr1:26704014-26705357:.</td><td>1000</td><td>1</td><td>.</td><td>.</td><td>chr1</td><td>26377523</td><td>26378866</td><td>chr1:26377523-26378866</td><td>.</td><td>chr1</td><td>26410778</td><td>26410779</td><td>chr1:26410778-26410779</td><td>.</td></tr>\n",
       "\t<tr><td>chr1</td><td>28883765</td><td>28884265</td><td>EPB41|chr1:29210277-29210777:. </td><td>1000</td><td>1</td><td>.</td><td>.</td><td>chr1</td><td>28883765</td><td>28884265</td><td>chr1:28883765-28884265</td><td>.</td><td>chr1</td><td>28887091</td><td>28887092</td><td>chr1:28887091-28887092</td><td>.</td></tr>\n",
       "</tbody>\n",
       "</table>\n"
      ],
      "text/latex": [
       "A tibble: 6 × 18\n",
       "\\begin{tabular}{llllllllllllllllll}\n",
       " chrom & chromStart & chromEnd & name & score & value & exp & color & sourceChrom & sourceStart & sourceEnd & sourceName & sourceStrand & targetChrom & targetStart & targetEnd & targetName & targetStrand\\\\\n",
       " <chr> & <dbl> & <dbl> & <chr> & <dbl> & <dbl> & <chr> & <chr> & <chr> & <dbl> & <dbl> & <chr> & <chr> & <chr> & <dbl> & <dbl> & <chr> & <chr>\\\\\n",
       "\\hline\n",
       "\t chr1 &  8858063 &  8858563 & ENO1\\textbar{}chr1:8918122-8918622:.     & 1000 & 1 & . & . & chr1 &  8858063 &  8858563 & chr1:8858063-8858563   & . & chr1 &  8879248 &  8879249 & chr1:8879248-8879249   & .\\\\\n",
       "\t chr1 & 17441310 & 17441810 & SDHB\\textbar{}chr1:17767806-17768306:.   & 1000 & 1 & . & . & chr1 & 17441310 & 17441810 & chr1:17441310-17441810 & . & chr1 & 17054169 & 17054170 & chr1:17054169-17054170 & .\\\\\n",
       "\t chr1 & 25933351 & 25933954 & NUDC\\textbar{}chr1:26259842-26260445:.   & 1000 & 1 & . & . & chr1 & 25933351 & 25933954 & chr1:25933351-25933954 & . & chr1 & 26900238 & 26900239 & chr1:26900238-26900239 & .\\\\\n",
       "\t chr1 & 25933351 & 25933954 & STMN1\\textbar{}chr1:26259842-26260445:.  & 1000 & 1 & . & . & chr1 & 25933351 & 25933954 & chr1:25933351-25933954 & . & chr1 & 25906990 & 25906991 & chr1:25906990-25906991 & .\\\\\n",
       "\t chr1 & 26377523 & 26378866 & LIN28A\\textbar{}chr1:26704014-26705357:. & 1000 & 1 & . & . & chr1 & 26377523 & 26378866 & chr1:26377523-26378866 & . & chr1 & 26410778 & 26410779 & chr1:26410778-26410779 & .\\\\\n",
       "\t chr1 & 28883765 & 28884265 & EPB41\\textbar{}chr1:29210277-29210777:.  & 1000 & 1 & . & . & chr1 & 28883765 & 28884265 & chr1:28883765-28884265 & . & chr1 & 28887091 & 28887092 & chr1:28887091-28887092 & .\\\\\n",
       "\\end{tabular}\n"
      ],
      "text/markdown": [
       "\n",
       "A tibble: 6 × 18\n",
       "\n",
       "| chrom &lt;chr&gt; | chromStart &lt;dbl&gt; | chromEnd &lt;dbl&gt; | name &lt;chr&gt; | score &lt;dbl&gt; | value &lt;dbl&gt; | exp &lt;chr&gt; | color &lt;chr&gt; | sourceChrom &lt;chr&gt; | sourceStart &lt;dbl&gt; | sourceEnd &lt;dbl&gt; | sourceName &lt;chr&gt; | sourceStrand &lt;chr&gt; | targetChrom &lt;chr&gt; | targetStart &lt;dbl&gt; | targetEnd &lt;dbl&gt; | targetName &lt;chr&gt; | targetStrand &lt;chr&gt; |\n",
       "|---|---|---|---|---|---|---|---|---|---|---|---|---|---|---|---|---|---|\n",
       "| chr1 |  8858063 |  8858563 | ENO1|chr1:8918122-8918622:.     | 1000 | 1 | . | . | chr1 |  8858063 |  8858563 | chr1:8858063-8858563   | . | chr1 |  8879248 |  8879249 | chr1:8879248-8879249   | . |\n",
       "| chr1 | 17441310 | 17441810 | SDHB|chr1:17767806-17768306:.   | 1000 | 1 | . | . | chr1 | 17441310 | 17441810 | chr1:17441310-17441810 | . | chr1 | 17054169 | 17054170 | chr1:17054169-17054170 | . |\n",
       "| chr1 | 25933351 | 25933954 | NUDC|chr1:26259842-26260445:.   | 1000 | 1 | . | . | chr1 | 25933351 | 25933954 | chr1:25933351-25933954 | . | chr1 | 26900238 | 26900239 | chr1:26900238-26900239 | . |\n",
       "| chr1 | 25933351 | 25933954 | STMN1|chr1:26259842-26260445:.  | 1000 | 1 | . | . | chr1 | 25933351 | 25933954 | chr1:25933351-25933954 | . | chr1 | 25906990 | 25906991 | chr1:25906990-25906991 | . |\n",
       "| chr1 | 26377523 | 26378866 | LIN28A|chr1:26704014-26705357:. | 1000 | 1 | . | . | chr1 | 26377523 | 26378866 | chr1:26377523-26378866 | . | chr1 | 26410778 | 26410779 | chr1:26410778-26410779 | . |\n",
       "| chr1 | 28883765 | 28884265 | EPB41|chr1:29210277-29210777:.  | 1000 | 1 | . | . | chr1 | 28883765 | 28884265 | chr1:28883765-28884265 | . | chr1 | 28887091 | 28887092 | chr1:28887091-28887092 | . |\n",
       "\n"
      ],
      "text/plain": [
       "  chrom chromStart chromEnd name                            score value exp\n",
       "1 chr1   8858063    8858563 ENO1|chr1:8918122-8918622:.     1000  1     .  \n",
       "2 chr1  17441310   17441810 SDHB|chr1:17767806-17768306:.   1000  1     .  \n",
       "3 chr1  25933351   25933954 NUDC|chr1:26259842-26260445:.   1000  1     .  \n",
       "4 chr1  25933351   25933954 STMN1|chr1:26259842-26260445:.  1000  1     .  \n",
       "5 chr1  26377523   26378866 LIN28A|chr1:26704014-26705357:. 1000  1     .  \n",
       "6 chr1  28883765   28884265 EPB41|chr1:29210277-29210777:.  1000  1     .  \n",
       "  color sourceChrom sourceStart sourceEnd sourceName             sourceStrand\n",
       "1 .     chr1         8858063     8858563  chr1:8858063-8858563   .           \n",
       "2 .     chr1        17441310    17441810  chr1:17441310-17441810 .           \n",
       "3 .     chr1        25933351    25933954  chr1:25933351-25933954 .           \n",
       "4 .     chr1        25933351    25933954  chr1:25933351-25933954 .           \n",
       "5 .     chr1        26377523    26378866  chr1:26377523-26378866 .           \n",
       "6 .     chr1        28883765    28884265  chr1:28883765-28884265 .           \n",
       "  targetChrom targetStart targetEnd targetName             targetStrand\n",
       "1 chr1         8879248     8879249  chr1:8879248-8879249   .           \n",
       "2 chr1        17054169    17054170  chr1:17054169-17054170 .           \n",
       "3 chr1        26900238    26900239  chr1:26900238-26900239 .           \n",
       "4 chr1        25906990    25906991  chr1:25906990-25906991 .           \n",
       "5 chr1        26410778    26410779  chr1:26410778-26410779 .           \n",
       "6 chr1        28887091    28887092  chr1:28887091-28887092 .           "
      ]
     },
     "metadata": {},
     "output_type": "display_data"
    }
   ],
   "source": [
    "dat = dat_peak_crispri_e2g_bedpe\n",
    "\n",
    "dat = dat %>%\n",
    "    dplyr::mutate(score = 1000, value = 1, exp = \".\", color = \".\") %>%\n",
    "    dplyr::mutate(\n",
    "        chromMid = as.integer((chromStart + chromEnd) / 2),\n",
    "        sourceName = paste0(chrom, \":\", chromStart, \"-\", chromEnd),\n",
    "        targetName = Gene_TSS,\n",
    "    ) %>%\n",
    "    dplyr::mutate(\n",
    "        #name          = \".\",\n",
    "        sourceChrom   = chrom,\n",
    "        sourceStart   = chromStart,\n",
    "        sourceEnd     = chromEnd,\n",
    "        #sourceName    = \".\",\n",
    "        sourceStrand  = \".\",\n",
    "        targetChrom   = chrTSS,\n",
    "        targetStart   = startTSS,\n",
    "        targetEnd     = endTSS,\n",
    "        #targetName    = \".\",\n",
    "        targetStrand  = \".\"\n",
    "    ) %>%\n",
    "    dplyr::select(\n",
    "        chrom, chromStart, chromEnd, name, \n",
    "        score, value, exp, color,\n",
    "        sourceChrom,\n",
    "        sourceStart,\n",
    "        sourceEnd,\n",
    "        sourceName,\n",
    "        sourceStrand,\n",
    "        targetChrom,\n",
    "        targetStart,\n",
    "        targetEnd,\n",
    "        targetName,\n",
    "        targetStrand\n",
    "    )\n",
    "\n",
    "dat_peak_crispri_e2g_interact = dat\n",
    "print(dim(dat))\n",
    "head(dat)"
   ]
  },
  {
   "cell_type": "code",
   "execution_count": 12,
   "metadata": {},
   "outputs": [
    {
     "name": "stdout",
     "output_type": "stream",
     "text": [
      "[1] 464  10\n"
     ]
    },
    {
     "data": {
      "text/plain": [
       "\n",
       "        CRISPRi-E2G:ABCD1    CRISPRi-E2G:AC002480.3    CRISPRi-E2G:AC073072.5 \n",
       "                        1                         2                         1 \n",
       "     CRISPRi-E2G:ADAMTS14         CRISPRi-E2G:AGAP1         CRISPRi-E2G:AGFG1 \n",
       "                        1                         1                         1 \n",
       "          CRISPRi-E2G:AK1        CRISPRi-E2G:AKAP11        CRISPRi-E2G:AKR1C1 \n",
       "                        1                         2                         1 \n",
       "       CRISPRi-E2G:ANP32B        CRISPRi-E2G:ANTXR2         CRISPRi-E2G:ANXA1 \n",
       "                        1                         1                         2 \n",
       "         CRISPRi-E2G:APIP         CRISPRi-E2G:APLP2         CRISPRi-E2G:ARL4A \n",
       "                        1                         1                         1 \n",
       "        CRISPRi-E2G:ASAH1          CRISPRi-E2G:ASB1         CRISPRi-E2G:ASH2L \n",
       "                        1                         1                         1 \n",
       "       CRISPRi-E2G:ATP1B3        CRISPRi-E2G:ATP5G1        CRISPRi-E2G:ATP5G3 \n",
       "                        1                         1                         1 \n",
       "        CRISPRi-E2G:BCAT2          CRISPRi-E2G:BEX4         CRISPRi-E2G:BLVRA \n",
       "                        1                         2                         1 \n",
       "        CRISPRi-E2G:BMP2K        CRISPRi-E2G:BORCS5          CRISPRi-E2G:BPGM \n",
       "                        3                         1                         1 \n",
       "          CRISPRi-E2G:BSG          CRISPRi-E2G:BST2          CRISPRi-E2G:BTG1 \n",
       "                        1                         1                         2 \n",
       "      CRISPRi-E2G:C1GALT1      CRISPRi-E2G:C20orf27       CRISPRi-E2G:C7orf26 \n",
       "                        1                         1                         1 \n",
       "          CRISPRi-E2G:CA8         CRISPRi-E2G:CAB39           CRISPRi-E2G:CAT \n",
       "                        2                         2                         2 \n",
       "       CRISPRi-E2G:CCDC22        CRISPRi-E2G:CCDC26          CRISPRi-E2G:CCM2 \n",
       "                        1                         1                         1 \n",
       "        CRISPRi-E2G:CCND2         CRISPRi-E2G:CD2AP          CRISPRi-E2G:CD46 \n",
       "                        1                         1                         1 \n",
       "         CRISPRi-E2G:CD47          CRISPRi-E2G:CD58          CRISPRi-E2G:CD69 \n",
       "                        1                         1                         1 \n",
       "         CRISPRi-E2G:CD83           CRISPRi-E2G:CD9      CRISPRi-E2G:CDC42EP3 \n",
       "                        1                         1                         1 \n",
       "         CRISPRi-E2G:CDK6         CRISPRi-E2G:CERS2          CRISPRi-E2G:CHD4 \n",
       "                        1                         1                         1 \n",
       "         CRISPRi-E2G:CHPF         CRISPRi-E2G:CHST2        CRISPRi-E2G:CITED2 \n",
       "                        1                         1                         2 \n",
       "      CRISPRi-E2G:CLEC11A          CRISPRi-E2G:CMBL        CRISPRi-E2G:CNKSR3 \n",
       "                        1                         1                         1 \n",
       "       CRISPRi-E2G:CNRIP1          CRISPRi-E2G:COA1       CRISPRi-E2G:COL18A1 \n",
       "                        1                         1                         1 \n",
       "        CRISPRi-E2G:CPEB4        CRISPRi-E2G:CRELD1          CRISPRi-E2G:CSTB \n",
       "                        2                         1                         1 \n",
       "  CRISPRi-E2G:CTA-392E5.1 CRISPRi-E2G:CTD-2366F13.1  CRISPRi-E2G:CTD-2576D5.4 \n",
       "                        1                         1                         1 \n",
       "         CRISPRi-E2G:CTR9          CRISPRi-E2G:CTSB          CRISPRi-E2G:CTSC \n",
       "                        2                         1                         1 \n",
       "         CRISPRi-E2G:CTSL        CRISPRi-E2G:CYBRD1        CRISPRi-E2G:DAZAP1 \n",
       "                        1                         1                         1 \n",
       "         CRISPRi-E2G:DCP2        CRISPRi-E2G:DDX39A         CRISPRi-E2G:DDX46 \n",
       "                        1                         1                         1 \n",
       "        CRISPRi-E2G:DECR1          CRISPRi-E2G:DHPS          CRISPRi-E2G:DLK1 \n",
       "                        1                         1                         1 \n",
       "       CRISPRi-E2G:DNASE2         CRISPRi-E2G:DRAM1         CRISPRi-E2G:DRAP1 \n",
       "                        2                         1                         1 \n",
       "         CRISPRi-E2G:E2F1           CRISPRi-E2G:EBP          CRISPRi-E2G:ECI2 \n",
       "                        1                         1                         1 \n",
       "          CRISPRi-E2G:EED          CRISPRi-E2G:EI24        CRISPRi-E2G:ELAVL1 \n",
       "                        1                         2                         1 \n",
       "         CRISPRi-E2G:ELF3          CRISPRi-E2G:ELK1        CRISPRi-E2G:ELOVL6 \n",
       "                        1                         1                         1 \n",
       "        CRISPRi-E2G:EMID1        CRISPRi-E2G:ENDOD1          CRISPRi-E2G:ENO1 \n",
       "                        1                         1                         1 \n",
       "         CRISPRi-E2G:ENY2         CRISPRi-E2G:EPB41         CRISPRi-E2G:EPHB6 \n",
       "                        1                         2                         1 \n",
       "         CRISPRi-E2G:EREG          CRISPRi-E2G:ETFA        CRISPRi-E2G:EXOSC4 \n",
       "                        1                         1                         1 \n",
       "        CRISPRi-E2G:FADS1       CRISPRi-E2G:FAM102B        CRISPRi-E2G:FAM69C \n",
       "                        1                         1                         1 \n",
       "       CRISPRi-E2G:FAM83A        CRISPRi-E2G:FAM89A        CRISPRi-E2G:FCGR2A \n",
       "                        3                         4                         1 \n",
       "         CRISPRi-E2G:FEZ1          CRISPRi-E2G:FGF2         CRISPRi-E2G:FGFR3 \n",
       "                        4                         1                         1 \n",
       "         CRISPRi-E2G:FIBP         CRISPRi-E2G:FKBPL         CRISPRi-E2G:FSCN1 \n",
       "                        1                         1                         1 \n",
       "         CRISPRi-E2G:FTH1           CRISPRi-E2G:FTL         CRISPRi-E2G:FTSJ1 \n",
       "                        1                         4                         1 \n",
       "         CRISPRi-E2G:FUT1           CRISPRi-E2G:FXN       CRISPRi-E2G:GADD45A \n",
       "                        2                         1                         1 \n",
       "        CRISPRi-E2G:GATA1         CRISPRi-E2G:GATA2         CRISPRi-E2G:GFI1B \n",
       "                        3                         2                         1 \n",
       "        CRISPRi-E2G:GLRX5          CRISPRi-E2G:GLUL          CRISPRi-E2G:GMPR \n",
       "                        2                         2                         1 \n",
       "       CRISPRi-E2G:GNPDA1         CRISPRi-E2G:GPR68         CRISPRi-E2G:GSK3B \n",
       "                        1                         1                         1 \n",
       "        CRISPRi-E2G:GSTP1          CRISPRi-E2G:GYPC          CRISPRi-E2G:H1FX \n",
       "                        1                         2                         2 \n",
       "          CRISPRi-E2G:HBB           CRISPRi-E2G:HBD          CRISPRi-E2G:HBE1 \n",
       "                        1                         1                         7 \n",
       "         CRISPRi-E2G:HBG1          CRISPRi-E2G:HBG2           CRISPRi-E2G:HBZ \n",
       "                        3                         1                         2 \n",
       "        CRISPRi-E2G:HDAC6         CRISPRi-E2G:HDDC2         CRISPRi-E2G:HEMGN \n",
       "                        2                         1                         1 \n",
       "         CRISPRi-E2G:HHEX         CRISPRi-E2G:HMGA1       CRISPRi-E2G:HNRNPA1 \n",
       "                        2                         1                         3 \n",
       "       CRISPRi-E2G:HNRNPM         CRISPRi-E2G:ICAM2         CRISPRi-E2G:ICAM3 \n",
       "                        1                         2                         1 \n",
       "          CRISPRi-E2G:ID1           CRISPRi-E2G:ID2        CRISPRi-E2G:IFITM1 \n",
       "                        2                         2                         7 \n",
       "       CRISPRi-E2G:IFITM2           CRISPRi-E2G:IL6         CRISPRi-E2G:IMPA2 \n",
       "                        4                         2                         2 \n",
       "        CRISPRi-E2G:IRAK1         CRISPRi-E2G:ISOC1          CRISPRi-E2G:JUNB \n",
       "                        1                         1                         3 \n",
       "         CRISPRi-E2G:JUND           CRISPRi-E2G:JUP         CRISPRi-E2G:KCNN4 \n",
       "                        1                         1                         1 \n",
       "       CRISPRi-E2G:KDELR2           CRISPRi-E2G:KEL         CRISPRi-E2G:KIF2A \n",
       "                        1                         1                         1 \n",
       "          CRISPRi-E2G:KIT          CRISPRi-E2G:KLF1         CRISPRi-E2G:KLRF1 \n",
       "                        2                         3                         1 \n",
       "        CRISPRi-E2G:KRT10         CRISPRi-E2G:KRT19         CRISPRi-E2G:LARP1 \n",
       "                        1                         1                         1 \n",
       "         CRISPRi-E2G:LDHA        CRISPRi-E2G:LGALS3         CRISPRi-E2G:LIMK2 \n",
       "                        1                         1                         1 \n",
       "       CRISPRi-E2G:LIN28A     CRISPRi-E2G:LINC00534     CRISPRi-E2G:LINC00659 \n",
       "                        1                         1                         1 \n",
       "    CRISPRi-E2G:LINC01033          CRISPRi-E2G:LMO2          CRISPRi-E2G:LSM3 \n",
       "                        2                         4                         1 \n",
       "         CRISPRi-E2G:LY6E          CRISPRi-E2G:LYL1           CRISPRi-E2G:LYN \n",
       "                        1                         1                         3 \n",
       "       CRISPRi-E2G:MANSC1          CRISPRi-E2G:MBD3          CRISPRi-E2G:MEG3 \n",
       "                        1                         1                         1 \n",
       "        CRISPRi-E2G:MEX3B         CRISPRi-E2G:MFGE8         CRISPRi-E2G:MGAT3 \n",
       "                        1                         3                         1 \n",
       "       CRISPRi-E2G:MINPP1          CRISPRi-E2G:MITF         CRISPRi-E2G:MKNK2 \n",
       "                        1                         1                         1 \n",
       "        CRISPRi-E2G:MOCS2          CRISPRi-E2G:MPST         CRISPRi-E2G:MRAP2 \n",
       "                        2                         1                         1 \n",
       "       CRISPRi-E2G:MRPS10        CRISPRi-E2G:MRPS23        CRISPRi-E2G:MS4A4A \n",
       "                        2                         1                         1 \n",
       "          CRISPRi-E2G:MSN           CRISPRi-E2G:MYC         CRISPRi-E2G:NAT10 \n",
       "                        2                         9                         1 \n",
       "         CRISPRi-E2G:NAV1        CRISPRi-E2G:NDUFB2        CRISPRi-E2G:NDUFB4 \n",
       "                        1                         1                         1 \n",
       "         CRISPRi-E2G:NENF          CRISPRi-E2G:NET1          CRISPRi-E2G:NFE2 \n",
       "                        1                         2                         3 \n",
       "          CRISPRi-E2G:NMU         CRISPRi-E2G:NPTXR          CRISPRi-E2G:NRTN \n",
       "                        3                         1                         1 \n",
       "       CRISPRi-E2G:NSMCE2         CRISPRi-E2G:NUCB1          CRISPRi-E2G:NUDC \n",
       "                        1                         1                         1 \n",
       "       CRISPRi-E2G:OR2AT4          CRISPRi-E2G:PCTP         CRISPRi-E2G:PDIA6 \n",
       "                        1                         1                         1 \n",
       "       CRISPRi-E2G:PDLIM1         CRISPRi-E2G:PDZD8         CRISPRi-E2G:PEX19 \n",
       "                        1                         1                         1 \n",
       "        CRISPRi-E2G:PHF19        CRISPRi-E2G:PICALM          CRISPRi-E2G:PIM1 \n",
       "                        1                         6                         2 \n",
       "         CRISPRi-E2G:PIM2           CRISPRi-E2G:PKM        CRISPRi-E2G:PKNOX1 \n",
       "                        2                         1                         1 \n",
       "     CRISPRi-E2G:PLA2G12A        CRISPRi-E2G:PLAGL1         CRISPRi-E2G:PLIN3 \n",
       "                        1                         1                         1 \n",
       "         CRISPRi-E2G:PLP2      CRISPRi-E2G:PPP1R14C       CRISPRi-E2G:PPP1R35 \n",
       "                        7                         1                         1 \n",
       "      CRISPRi-E2G:PPP1R9B         CRISPRi-E2G:PQBP1         CRISPRi-E2G:PRDX2 \n",
       "                        1                         3                         6 \n",
       "      CRISPRi-E2G:PRELID2        CRISPRi-E2G:PRKAA1       CRISPRi-E2G:PRKAR2B \n",
       "                        1                         1                         5 \n",
       "        CRISPRi-E2G:PRKCB         CRISPRi-E2G:PSMA1        CRISPRi-E2G:PTGER3 \n",
       "                        3                         1                         1 \n",
       "        CRISPRi-E2G:PTPRC         CRISPRi-E2G:PYCR2         CRISPRi-E2G:RAB21 \n",
       "                        1                         1                         1 \n",
       "        CRISPRi-E2G:RAB31        CRISPRi-E2G:RAD23A          CRISPRi-E2G:RELN \n",
       "                        1                         1                         1 \n",
       "         CRISPRi-E2G:RHAG        CRISPRi-E2G:RNASE1        CRISPRi-E2G:RNF213 \n",
       "                        1                         1                         1 \n",
       "        CRISPRi-E2G:RNF24          CRISPRi-E2G:RNH1  CRISPRi-E2G:RP11-20B24.2 \n",
       "                        1                         1                         1 \n",
       " CRISPRi-E2G:RP11-328K4.1 CRISPRi-E2G:RP11-498C9.15 CRISPRi-E2G:RP11-809O17.1 \n",
       "                        1                         1                         1 \n",
       " CRISPRi-E2G:RP11-85G21.3   CRISPRi-E2G:RP3-460G2.2   CRISPRi-E2G:RP6-159A1.3 \n",
       "                        1                         2                         2 \n",
       "         CRISPRi-E2G:RPN1       CRISPRi-E2G:RPS6KC1          CRISPRi-E2G:RTN4 \n",
       "                        1                         1                         1 \n",
       "       CRISPRi-E2G:SAMSN1        CRISPRi-E2G:SCARB1          CRISPRi-E2G:SCG3 \n",
       "                        1                         1                         2 \n",
       "         CRISPRi-E2G:SDHB       CRISPRi-E2G:SEC61A2      CRISPRi-E2G:SERPINH1 \n",
       "                        1                         1                         1 \n",
       "        CRISPRi-E2G:SIAH2          CRISPRi-E2G:SKA1       CRISPRi-E2G:SLC10A4 \n",
       "                        2                         1                         1 \n",
       "      CRISPRi-E2G:SLC20A1      CRISPRi-E2G:SLC25A37      CRISPRi-E2G:SLC25A39 \n",
       "                        1                         1                         3 \n",
       "       CRISPRi-E2G:SLC6A6        CRISPRi-E2G:SMIM10        CRISPRi-E2G:SNHG15 \n",
       "                        2                         1                         1 \n",
       "        CRISPRi-E2G:SOCS1         CRISPRi-E2G:SOCS3         CRISPRi-E2G:SPCS3 \n",
       "                        2                         1                         1 \n",
       "          CRISPRi-E2G:SPN         CRISPRi-E2G:SPTA1        CRISPRi-E2G:SRD5A3 \n",
       "                        1                         2                         1 \n",
       "        CRISPRi-E2G:SRSF7         CRISPRi-E2G:SSBP2       CRISPRi-E2G:ST3GAL5 \n",
       "                        2                         2                         1 \n",
       "          CRISPRi-E2G:ST7       CRISPRi-E2G:STEAP1B         CRISPRi-E2G:STMN1 \n",
       "                        1                         1                         1 \n",
       "        CRISPRi-E2G:STRBP        CRISPRi-E2G:SYNGR1         CRISPRi-E2G:SYT10 \n",
       "                        1                         1                         1 \n",
       "       CRISPRi-E2G:TCEAL8         CRISPRi-E2G:TEX15          CRISPRi-E2G:TFRC \n",
       "                        1                         2                         1 \n",
       "       CRISPRi-E2G:TGFBR1        CRISPRi-E2G:TIMM13         CRISPRi-E2G:TMED9 \n",
       "                        1                         1                         1 \n",
       "      CRISPRi-E2G:TMEM165      CRISPRi-E2G:TMEM183A        CRISPRi-E2G:TMEM56 \n",
       "                        1                         1                         4 \n",
       "       CRISPRi-E2G:TMEM98        CRISPRi-E2G:TMSB10        CRISPRi-E2G:TMSB4X \n",
       "                        1                         1                         6 \n",
       "         CRISPRi-E2G:TNIK          CRISPRi-E2G:TOP1       CRISPRi-E2G:TPD52L1 \n",
       "                        1                         1                         1 \n",
       "        CRISPRi-E2G:TPST2        CRISPRi-E2G:TRIM24        CRISPRi-E2G:TRIM27 \n",
       "                        1                         1                         1 \n",
       "       CRISPRi-E2G:TRIM58        CRISPRi-E2G:TSPAN5         CRISPRi-E2G:TUBG1 \n",
       "                        1                         2                         1 \n",
       "        CRISPRi-E2G:UBE2F        CRISPRi-E2G:UBE2Q2          CRISPRi-E2G:UBTF \n",
       "                        2                         1                         1 \n",
       "          CRISPRi-E2G:UXT          CRISPRi-E2G:VAPA           CRISPRi-E2G:VCL \n",
       "                        1                         1                         1 \n",
       "         CRISPRi-E2G:WDR3         CRISPRi-E2G:WIPF3          CRISPRi-E2G:XPR1 \n",
       "                        1                         1                         1 \n",
       "      CRISPRi-E2G:ZDHHC19          CRISPRi-E2G:ZEB2       CRISPRi-E2G:ZFP36L2 \n",
       "                        1                         1                         3 \n",
       "       CRISPRi-E2G:ZMYND8        CRISPRi-E2G:ZNF431        CRISPRi-E2G:ZNF550 \n",
       "                        2                         1                         1 \n",
       "       CRISPRi-E2G:ZNF672 \n",
       "                        1 "
      ]
     },
     "metadata": {},
     "output_type": "display_data"
    }
   ],
   "source": [
    "dat = dat_peak_crispri_e2g_arrange\n",
    "print(dim(dat))\n",
    "table(dat$Assay_Label)"
   ]
  },
  {
   "cell_type": "code",
   "execution_count": 13,
   "metadata": {},
   "outputs": [
    {
     "data": {
      "text/html": [
       "<table class=\"dataframe\">\n",
       "<caption>A tibble: 10 × 2</caption>\n",
       "<thead>\n",
       "\t<tr><th scope=col>Name</th><th scope=col>Description</th></tr>\n",
       "\t<tr><th scope=col>&lt;chr&gt;</th><th scope=col>&lt;chr&gt;</th></tr>\n",
       "</thead>\n",
       "<tbody>\n",
       "\t<tr><td>Chrom      </td><td>Chromosome of the perturbed element                                                                              </td></tr>\n",
       "\t<tr><td>Start      </td><td>Start of the perturbed element (0-based)                                                                         </td></tr>\n",
       "\t<tr><td>End        </td><td>End of the perturbed element                                                                                     </td></tr>\n",
       "\t<tr><td>Name       </td><td>Identifier for the given E-G pair in the form of 'gene|chr:start-stop:strand', e.g. 'BET1L|chr11:220536-220704:*'</td></tr>\n",
       "\t<tr><td>Score      </td><td>Change in gene expression upon CRISPRi perturbation, e.g. precentage change in expression or log fold change     </td></tr>\n",
       "\t<tr><td>Gene_Symbol</td><td>target gene symbol                                                                                               </td></tr>\n",
       "\t<tr><td>Gene_TSS   </td><td>target gene TSS                                                                                                  </td></tr>\n",
       "\t<tr><td>Reference  </td><td>Study from which this E-G pair was collected, e.g. Fulco2019                                                     </td></tr>\n",
       "\t<tr><td>Assay_Type </td><td>Assay type                                                                                                       </td></tr>\n",
       "\t<tr><td>Assay_Label</td><td>Assay label                                                                                                      </td></tr>\n",
       "</tbody>\n",
       "</table>\n"
      ],
      "text/latex": [
       "A tibble: 10 × 2\n",
       "\\begin{tabular}{ll}\n",
       " Name & Description\\\\\n",
       " <chr> & <chr>\\\\\n",
       "\\hline\n",
       "\t Chrom       & Chromosome of the perturbed element                                                                              \\\\\n",
       "\t Start       & Start of the perturbed element (0-based)                                                                         \\\\\n",
       "\t End         & End of the perturbed element                                                                                     \\\\\n",
       "\t Name        & Identifier for the given E-G pair in the form of 'gene\\textbar{}chr:start-stop:strand', e.g. 'BET1L\\textbar{}chr11:220536-220704:*'\\\\\n",
       "\t Score       & Change in gene expression upon CRISPRi perturbation, e.g. precentage change in expression or log fold change     \\\\\n",
       "\t Gene\\_Symbol & target gene symbol                                                                                               \\\\\n",
       "\t Gene\\_TSS    & target gene TSS                                                                                                  \\\\\n",
       "\t Reference   & Study from which this E-G pair was collected, e.g. Fulco2019                                                     \\\\\n",
       "\t Assay\\_Type  & Assay type                                                                                                       \\\\\n",
       "\t Assay\\_Label & Assay label                                                                                                      \\\\\n",
       "\\end{tabular}\n"
      ],
      "text/markdown": [
       "\n",
       "A tibble: 10 × 2\n",
       "\n",
       "| Name &lt;chr&gt; | Description &lt;chr&gt; |\n",
       "|---|---|\n",
       "| Chrom       | Chromosome of the perturbed element                                                                               |\n",
       "| Start       | Start of the perturbed element (0-based)                                                                          |\n",
       "| End         | End of the perturbed element                                                                                      |\n",
       "| Name        | Identifier for the given E-G pair in the form of 'gene|chr:start-stop:strand', e.g. 'BET1L|chr11:220536-220704:*' |\n",
       "| Score       | Change in gene expression upon CRISPRi perturbation, e.g. precentage change in expression or log fold change      |\n",
       "| Gene_Symbol | target gene symbol                                                                                                |\n",
       "| Gene_TSS    | target gene TSS                                                                                                   |\n",
       "| Reference   | Study from which this E-G pair was collected, e.g. Fulco2019                                                      |\n",
       "| Assay_Type  | Assay type                                                                                                        |\n",
       "| Assay_Label | Assay label                                                                                                       |\n",
       "\n"
      ],
      "text/plain": [
       "   Name       \n",
       "1  Chrom      \n",
       "2  Start      \n",
       "3  End        \n",
       "4  Name       \n",
       "5  Score      \n",
       "6  Gene_Symbol\n",
       "7  Gene_TSS   \n",
       "8  Reference  \n",
       "9  Assay_Type \n",
       "10 Assay_Label\n",
       "   Description                                                                                                      \n",
       "1  Chromosome of the perturbed element                                                                              \n",
       "2  Start of the perturbed element (0-based)                                                                         \n",
       "3  End of the perturbed element                                                                                     \n",
       "4  Identifier for the given E-G pair in the form of 'gene|chr:start-stop:strand', e.g. 'BET1L|chr11:220536-220704:*'\n",
       "5  Change in gene expression upon CRISPRi perturbation, e.g. precentage change in expression or log fold change     \n",
       "6  target gene symbol                                                                                               \n",
       "7  target gene TSS                                                                                                  \n",
       "8  Study from which this E-G pair was collected, e.g. Fulco2019                                                     \n",
       "9  Assay type                                                                                                       \n",
       "10 Assay label                                                                                                      "
      ]
     },
     "metadata": {},
     "output_type": "display_data"
    }
   ],
   "source": [
    "dat_cnames = tribble(\n",
    "    ~Name,      ~Description,\n",
    "    \"Chrom\",    \"Chromosome of the perturbed element\",\n",
    "    \"Start\",    \"Start of the perturbed element (0-based)\",\n",
    "    \"End\",      \"End of the perturbed element\",\n",
    "    \"Name\",     \"Identifier for the given E-G pair in the form of 'gene|chr:start-stop:strand', e.g. 'BET1L|chr11:220536-220704:*'\",\n",
    "    \"Score\",     \"Change in gene expression upon CRISPRi perturbation, e.g. precentage change in expression or log fold change\",\n",
    "    \"Gene_Symbol\", \"target gene symbol\",\n",
    "    \"Gene_TSS\",    \"target gene TSS\",\n",
    "    \"Reference\", \"Study from which this E-G pair was collected, e.g. Fulco2019\",\n",
    "    \"Assay_Type\",  \"Assay type\",\n",
    "    \"Assay_Label\", \"Assay label\"\n",
    ")\n",
    "dat_cnames"
   ]
  },
  {
   "cell_type": "markdown",
   "metadata": {},
   "source": [
    "## Save results"
   ]
  },
  {
   "cell_type": "code",
   "execution_count": 11,
   "metadata": {},
   "outputs": [
    {
     "name": "stdout",
     "output_type": "stream",
     "text": [
      "[1] \"/data/reddylab/Kuei/out/proj_combeffect_encode_fcc/results/region/annotation_crispri_e2g/description.tsv\"\n"
     ]
    }
   ],
   "source": [
    "fdiry = file.path(FD_RES, \"results\", \"region\", \"annotation_crispri_e2g\")\n",
    "fname = \"description.tsv\"\n",
    "fpath = file.path(fdiry, fname)\n",
    "print(fpath)\n",
    "\n",
    "dat = dat_cnames\n",
    "write_tsv(dat, fpath)"
   ]
  },
  {
   "cell_type": "code",
   "execution_count": 12,
   "metadata": {},
   "outputs": [
    {
     "name": "stdout",
     "output_type": "stream",
     "text": [
      "[1] \"/data/reddylab/Kuei/out/proj_combeffect_encode_fcc/results/region/annotation_crispri_e2g/crispri_e2g.region.bed.gz\"\n"
     ]
    }
   ],
   "source": [
    "fdiry = file.path(FD_RES, \"results\", \"region\", \"annotation_crispri_e2g\")\n",
    "fname = \"crispri_e2g.region.bed.gz\"\n",
    "fpath = file.path(fdiry, fname)\n",
    "print(fpath)\n",
    "\n",
    "dat = dat_peak_crispri_e2g_arrange\n",
    "write_tsv(dat, fpath, col_names = FALSE)"
   ]
  },
  {
   "cell_type": "code",
   "execution_count": 13,
   "metadata": {},
   "outputs": [
    {
     "name": "stdout",
     "output_type": "stream",
     "text": [
      "[1] \"/data/reddylab/Kuei/out/proj_combeffect_encode_fcc/results/region/annotation_crispri_e2g/crispri_e2g.region2TSS.bedpe.gz\"\n"
     ]
    }
   ],
   "source": [
    "fdiry = file.path(FD_RES, \"results\", \"region\", \"annotation_crispri_e2g\")\n",
    "fname = \"crispri_e2g.region2TSS.bedpe.gz\"\n",
    "fpath = file.path(fdiry, fname)\n",
    "print(fpath)\n",
    "\n",
    "dat = dat_peak_crispri_e2g_bedpe\n",
    "colnames(dat)[1] = \"#chrom\"\n",
    "write_tsv(dat, fpath)"
   ]
  },
  {
   "cell_type": "code",
   "execution_count": 19,
   "metadata": {},
   "outputs": [
    {
     "name": "stdout",
     "output_type": "stream",
     "text": [
      "[1] \"/data/reddylab/Kuei/out/proj_combeffect_encode_fcc/results/region/annotation_crispri_e2g/crispri_e2g.region2TSS.inter.bed\"\n"
     ]
    }
   ],
   "source": [
    "fdiry = file.path(FD_RES, \"results\", \"region\", \"annotation_crispri_e2g\")\n",
    "fname = \"crispri_e2g.region2TSS.inter.bed\"\n",
    "fpath = file.path(fdiry, fname)\n",
    "print(fpath)\n",
    "\n",
    "dat = dat_peak_crispri_e2g_interact\n",
    "colnames(dat)[1] = \"#chrom\"\n",
    "write_tsv(dat, fpath, col_names = FALSE)"
   ]
  },
  {
   "cell_type": "code",
   "execution_count": null,
   "metadata": {},
   "outputs": [],
   "source": []
  }
 ],
 "metadata": {
  "kernelspec": {
   "display_name": "R",
   "language": "R",
   "name": "ir"
  },
  "language_info": {
   "codemirror_mode": "r",
   "file_extension": ".r",
   "mimetype": "text/x-r-source",
   "name": "R",
   "pygments_lexer": "r",
   "version": "4.3.0"
  }
 },
 "nbformat": 4,
 "nbformat_minor": 4
}
