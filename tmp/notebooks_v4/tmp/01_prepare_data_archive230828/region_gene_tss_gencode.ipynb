{
 "cells": [
  {
   "cell_type": "markdown",
   "metadata": {},
   "source": [
    "**Set environment**"
   ]
  },
  {
   "cell_type": "code",
   "execution_count": 1,
   "metadata": {},
   "outputs": [
    {
     "name": "stdout",
     "output_type": "stream",
     "text": [
      "You are in Singularity: singularity_proj_encode_fcc \n",
      "BASE DIRECTORY (FD_BASE): /data/reddylab/Kuei \n",
      "WORK DIRECTORY (FD_WORK): /data/reddylab/Kuei/out \n",
      "CODE DIRECTORY (FD_CODE): /data/reddylab/Kuei/code \n",
      "PATH OF PROJECT (FD_PRJ): /data/reddylab/Kuei/code/Proj_CombEffect_ENCODE_FCC \n",
      "PATH OF RESULTS (FD_RES): /data/reddylab/Kuei/out/proj_combeffect_encode_fcc \n",
      "PATH OF LOG     (FD_LOG): /data/reddylab/Kuei/out/proj_combeffect_encode_fcc/log \n"
     ]
    }
   ],
   "source": [
    "suppressWarnings(suppressMessages(source(\"../config/config_sing.R\")))\n",
    "show_env()"
   ]
  },
  {
   "cell_type": "markdown",
   "metadata": {},
   "source": [
    "**Check data**"
   ]
  },
  {
   "cell_type": "code",
   "execution_count": 2,
   "metadata": {},
   "outputs": [
    {
     "name": "stdout",
     "output_type": "stream",
     "text": [
      "[1] \"gencode.v42.basic.annotation.genes.bed\"            \n",
      "[2] \"gencode.v42.basic.annotation.genes.length.txt\"     \n",
      "[3] \"gencode.v42.basic.annotation.genes.w_gene_type.bed\"\n",
      "[4] \"gencode.v42.basic.annotation.gtf.gz\"               \n",
      "[5] \"gencode.v42.basic.annotation.tss.bed\"              \n"
     ]
    }
   ],
   "source": [
    "fdiry = \"/data/reddylab/Reference_Data/Gencode/v42\"\n",
    "print(dir(fdiry))"
   ]
  },
  {
   "cell_type": "code",
   "execution_count": 9,
   "metadata": {},
   "outputs": [
    {
     "name": "stdout",
     "output_type": "stream",
     "text": [
      "[1] \"gencode.v42.annotation.gtf.gz\"                           \n",
      "[2] \"gencode.v42.chr_patch_hapl_scaff.annotation.gtf.gz\"      \n",
      "[3] \"gencode.v42.chr_patch_hapl_scaff.basic.annotation.gtf.gz\"\n",
      "[4] \"gencode.v42.primary_assembly.basic.annotation.gtf.gz\"    \n"
     ]
    }
   ],
   "source": [
    "fdiry = file.path(FD_RES, \"source\", \"annotation_gencode\")\n",
    "print(dir(fdiry))"
   ]
  },
  {
   "cell_type": "code",
   "execution_count": null,
   "metadata": {},
   "outputs": [],
   "source": []
  },
  {
   "cell_type": "code",
   "execution_count": 10,
   "metadata": {},
   "outputs": [
    {
     "name": "stderr",
     "output_type": "stream",
     "text": [
      "\u001b[1mRows: \u001b[22m\u001b[34m1996102\u001b[39m \u001b[1mColumns: \u001b[22m\u001b[34m9\u001b[39m\n",
      "\u001b[36m──\u001b[39m \u001b[1mColumn specification\u001b[22m \u001b[36m─────────────────────────────────────────\u001b[39m\n",
      "\u001b[1mDelimiter:\u001b[22m \"\\t\"\n",
      "\u001b[31mchr\u001b[39m (7): X1, X2, X3, X6, X7, X8, X9\n",
      "\u001b[32mdbl\u001b[39m (2): X4, X5\n",
      "\n",
      "\u001b[36mℹ\u001b[39m Use `spec()` to retrieve the full column specification for this data.\n",
      "\u001b[36mℹ\u001b[39m Specify the column types or set `show_col_types = FALSE` to quiet this message.\n"
     ]
    },
    {
     "name": "stdout",
     "output_type": "stream",
     "text": [
      "[1] 1996102       9\n"
     ]
    },
    {
     "data": {
      "text/html": [
       "<table class=\"dataframe\">\n",
       "<caption>A tibble: 6 × 9</caption>\n",
       "<thead>\n",
       "\t<tr><th scope=col>X1</th><th scope=col>X2</th><th scope=col>X3</th><th scope=col>X4</th><th scope=col>X5</th><th scope=col>X6</th><th scope=col>X7</th><th scope=col>X8</th><th scope=col>X9</th></tr>\n",
       "\t<tr><th scope=col>&lt;chr&gt;</th><th scope=col>&lt;chr&gt;</th><th scope=col>&lt;chr&gt;</th><th scope=col>&lt;dbl&gt;</th><th scope=col>&lt;dbl&gt;</th><th scope=col>&lt;chr&gt;</th><th scope=col>&lt;chr&gt;</th><th scope=col>&lt;chr&gt;</th><th scope=col>&lt;chr&gt;</th></tr>\n",
       "</thead>\n",
       "<tbody>\n",
       "\t<tr><td>chr1</td><td>HAVANA</td><td>gene      </td><td>11869</td><td>14409</td><td>.</td><td>+</td><td>.</td><td>gene_id \"ENSG00000290825.1\"; gene_type \"lncRNA\"; gene_name \"DDX11L2\"; level 2; tag \"overlaps_pseudogene\";                                                                                                                                                                                                                           </td></tr>\n",
       "\t<tr><td>chr1</td><td>HAVANA</td><td>transcript</td><td>11869</td><td>14409</td><td>.</td><td>+</td><td>.</td><td>gene_id \"ENSG00000290825.1\"; transcript_id \"ENST00000456328.2\"; gene_type \"lncRNA\"; gene_name \"DDX11L2\"; transcript_type \"lncRNA\"; transcript_name \"DDX11L2-202\"; level 2; transcript_support_level \"1\"; tag \"basic\"; tag \"Ensembl_canonical\"; havana_transcript \"OTTHUMT00000362751.1\";                                            </td></tr>\n",
       "\t<tr><td>chr1</td><td>HAVANA</td><td>exon      </td><td>11869</td><td>12227</td><td>.</td><td>+</td><td>.</td><td>gene_id \"ENSG00000290825.1\"; transcript_id \"ENST00000456328.2\"; gene_type \"lncRNA\"; gene_name \"DDX11L2\"; transcript_type \"lncRNA\"; transcript_name \"DDX11L2-202\"; exon_number 1; exon_id \"ENSE00002234944.1\"; level 2; transcript_support_level \"1\"; tag \"basic\"; tag \"Ensembl_canonical\"; havana_transcript \"OTTHUMT00000362751.1\";</td></tr>\n",
       "\t<tr><td>chr1</td><td>HAVANA</td><td>exon      </td><td>12613</td><td>12721</td><td>.</td><td>+</td><td>.</td><td>gene_id \"ENSG00000290825.1\"; transcript_id \"ENST00000456328.2\"; gene_type \"lncRNA\"; gene_name \"DDX11L2\"; transcript_type \"lncRNA\"; transcript_name \"DDX11L2-202\"; exon_number 2; exon_id \"ENSE00003582793.1\"; level 2; transcript_support_level \"1\"; tag \"basic\"; tag \"Ensembl_canonical\"; havana_transcript \"OTTHUMT00000362751.1\";</td></tr>\n",
       "\t<tr><td>chr1</td><td>HAVANA</td><td>exon      </td><td>13221</td><td>14409</td><td>.</td><td>+</td><td>.</td><td>gene_id \"ENSG00000290825.1\"; transcript_id \"ENST00000456328.2\"; gene_type \"lncRNA\"; gene_name \"DDX11L2\"; transcript_type \"lncRNA\"; transcript_name \"DDX11L2-202\"; exon_number 3; exon_id \"ENSE00002312635.1\"; level 2; transcript_support_level \"1\"; tag \"basic\"; tag \"Ensembl_canonical\"; havana_transcript \"OTTHUMT00000362751.1\";</td></tr>\n",
       "\t<tr><td>chr1</td><td>HAVANA</td><td>gene      </td><td>12010</td><td>13670</td><td>.</td><td>+</td><td>.</td><td>gene_id \"ENSG00000223972.6\"; gene_type \"transcribed_unprocessed_pseudogene\"; gene_name \"DDX11L1\"; level 2; hgnc_id \"HGNC:37102\"; havana_gene \"OTTHUMG00000000961.2\";                                                                                                                                                                </td></tr>\n",
       "</tbody>\n",
       "</table>\n"
      ],
      "text/latex": [
       "A tibble: 6 × 9\n",
       "\\begin{tabular}{lllllllll}\n",
       " X1 & X2 & X3 & X4 & X5 & X6 & X7 & X8 & X9\\\\\n",
       " <chr> & <chr> & <chr> & <dbl> & <dbl> & <chr> & <chr> & <chr> & <chr>\\\\\n",
       "\\hline\n",
       "\t chr1 & HAVANA & gene       & 11869 & 14409 & . & + & . & gene\\_id \"ENSG00000290825.1\"; gene\\_type \"lncRNA\"; gene\\_name \"DDX11L2\"; level 2; tag \"overlaps\\_pseudogene\";                                                                                                                                                                                                                           \\\\\n",
       "\t chr1 & HAVANA & transcript & 11869 & 14409 & . & + & . & gene\\_id \"ENSG00000290825.1\"; transcript\\_id \"ENST00000456328.2\"; gene\\_type \"lncRNA\"; gene\\_name \"DDX11L2\"; transcript\\_type \"lncRNA\"; transcript\\_name \"DDX11L2-202\"; level 2; transcript\\_support\\_level \"1\"; tag \"basic\"; tag \"Ensembl\\_canonical\"; havana\\_transcript \"OTTHUMT00000362751.1\";                                            \\\\\n",
       "\t chr1 & HAVANA & exon       & 11869 & 12227 & . & + & . & gene\\_id \"ENSG00000290825.1\"; transcript\\_id \"ENST00000456328.2\"; gene\\_type \"lncRNA\"; gene\\_name \"DDX11L2\"; transcript\\_type \"lncRNA\"; transcript\\_name \"DDX11L2-202\"; exon\\_number 1; exon\\_id \"ENSE00002234944.1\"; level 2; transcript\\_support\\_level \"1\"; tag \"basic\"; tag \"Ensembl\\_canonical\"; havana\\_transcript \"OTTHUMT00000362751.1\";\\\\\n",
       "\t chr1 & HAVANA & exon       & 12613 & 12721 & . & + & . & gene\\_id \"ENSG00000290825.1\"; transcript\\_id \"ENST00000456328.2\"; gene\\_type \"lncRNA\"; gene\\_name \"DDX11L2\"; transcript\\_type \"lncRNA\"; transcript\\_name \"DDX11L2-202\"; exon\\_number 2; exon\\_id \"ENSE00003582793.1\"; level 2; transcript\\_support\\_level \"1\"; tag \"basic\"; tag \"Ensembl\\_canonical\"; havana\\_transcript \"OTTHUMT00000362751.1\";\\\\\n",
       "\t chr1 & HAVANA & exon       & 13221 & 14409 & . & + & . & gene\\_id \"ENSG00000290825.1\"; transcript\\_id \"ENST00000456328.2\"; gene\\_type \"lncRNA\"; gene\\_name \"DDX11L2\"; transcript\\_type \"lncRNA\"; transcript\\_name \"DDX11L2-202\"; exon\\_number 3; exon\\_id \"ENSE00002312635.1\"; level 2; transcript\\_support\\_level \"1\"; tag \"basic\"; tag \"Ensembl\\_canonical\"; havana\\_transcript \"OTTHUMT00000362751.1\";\\\\\n",
       "\t chr1 & HAVANA & gene       & 12010 & 13670 & . & + & . & gene\\_id \"ENSG00000223972.6\"; gene\\_type \"transcribed\\_unprocessed\\_pseudogene\"; gene\\_name \"DDX11L1\"; level 2; hgnc\\_id \"HGNC:37102\"; havana\\_gene \"OTTHUMG00000000961.2\";                                                                                                                                                                \\\\\n",
       "\\end{tabular}\n"
      ],
      "text/markdown": [
       "\n",
       "A tibble: 6 × 9\n",
       "\n",
       "| X1 &lt;chr&gt; | X2 &lt;chr&gt; | X3 &lt;chr&gt; | X4 &lt;dbl&gt; | X5 &lt;dbl&gt; | X6 &lt;chr&gt; | X7 &lt;chr&gt; | X8 &lt;chr&gt; | X9 &lt;chr&gt; |\n",
       "|---|---|---|---|---|---|---|---|---|\n",
       "| chr1 | HAVANA | gene       | 11869 | 14409 | . | + | . | gene_id \"ENSG00000290825.1\"; gene_type \"lncRNA\"; gene_name \"DDX11L2\"; level 2; tag \"overlaps_pseudogene\";                                                                                                                                                                                                                            |\n",
       "| chr1 | HAVANA | transcript | 11869 | 14409 | . | + | . | gene_id \"ENSG00000290825.1\"; transcript_id \"ENST00000456328.2\"; gene_type \"lncRNA\"; gene_name \"DDX11L2\"; transcript_type \"lncRNA\"; transcript_name \"DDX11L2-202\"; level 2; transcript_support_level \"1\"; tag \"basic\"; tag \"Ensembl_canonical\"; havana_transcript \"OTTHUMT00000362751.1\";                                             |\n",
       "| chr1 | HAVANA | exon       | 11869 | 12227 | . | + | . | gene_id \"ENSG00000290825.1\"; transcript_id \"ENST00000456328.2\"; gene_type \"lncRNA\"; gene_name \"DDX11L2\"; transcript_type \"lncRNA\"; transcript_name \"DDX11L2-202\"; exon_number 1; exon_id \"ENSE00002234944.1\"; level 2; transcript_support_level \"1\"; tag \"basic\"; tag \"Ensembl_canonical\"; havana_transcript \"OTTHUMT00000362751.1\"; |\n",
       "| chr1 | HAVANA | exon       | 12613 | 12721 | . | + | . | gene_id \"ENSG00000290825.1\"; transcript_id \"ENST00000456328.2\"; gene_type \"lncRNA\"; gene_name \"DDX11L2\"; transcript_type \"lncRNA\"; transcript_name \"DDX11L2-202\"; exon_number 2; exon_id \"ENSE00003582793.1\"; level 2; transcript_support_level \"1\"; tag \"basic\"; tag \"Ensembl_canonical\"; havana_transcript \"OTTHUMT00000362751.1\"; |\n",
       "| chr1 | HAVANA | exon       | 13221 | 14409 | . | + | . | gene_id \"ENSG00000290825.1\"; transcript_id \"ENST00000456328.2\"; gene_type \"lncRNA\"; gene_name \"DDX11L2\"; transcript_type \"lncRNA\"; transcript_name \"DDX11L2-202\"; exon_number 3; exon_id \"ENSE00002312635.1\"; level 2; transcript_support_level \"1\"; tag \"basic\"; tag \"Ensembl_canonical\"; havana_transcript \"OTTHUMT00000362751.1\"; |\n",
       "| chr1 | HAVANA | gene       | 12010 | 13670 | . | + | . | gene_id \"ENSG00000223972.6\"; gene_type \"transcribed_unprocessed_pseudogene\"; gene_name \"DDX11L1\"; level 2; hgnc_id \"HGNC:37102\"; havana_gene \"OTTHUMG00000000961.2\";                                                                                                                                                                 |\n",
       "\n"
      ],
      "text/plain": [
       "  X1   X2     X3         X4    X5    X6 X7 X8\n",
       "1 chr1 HAVANA gene       11869 14409 .  +  . \n",
       "2 chr1 HAVANA transcript 11869 14409 .  +  . \n",
       "3 chr1 HAVANA exon       11869 12227 .  +  . \n",
       "4 chr1 HAVANA exon       12613 12721 .  +  . \n",
       "5 chr1 HAVANA exon       13221 14409 .  +  . \n",
       "6 chr1 HAVANA gene       12010 13670 .  +  . \n",
       "  X9                                                                                                                                                                                                                                                                                                                                  \n",
       "1 gene_id \"ENSG00000290825.1\"; gene_type \"lncRNA\"; gene_name \"DDX11L2\"; level 2; tag \"overlaps_pseudogene\";                                                                                                                                                                                                                           \n",
       "2 gene_id \"ENSG00000290825.1\"; transcript_id \"ENST00000456328.2\"; gene_type \"lncRNA\"; gene_name \"DDX11L2\"; transcript_type \"lncRNA\"; transcript_name \"DDX11L2-202\"; level 2; transcript_support_level \"1\"; tag \"basic\"; tag \"Ensembl_canonical\"; havana_transcript \"OTTHUMT00000362751.1\";                                            \n",
       "3 gene_id \"ENSG00000290825.1\"; transcript_id \"ENST00000456328.2\"; gene_type \"lncRNA\"; gene_name \"DDX11L2\"; transcript_type \"lncRNA\"; transcript_name \"DDX11L2-202\"; exon_number 1; exon_id \"ENSE00002234944.1\"; level 2; transcript_support_level \"1\"; tag \"basic\"; tag \"Ensembl_canonical\"; havana_transcript \"OTTHUMT00000362751.1\";\n",
       "4 gene_id \"ENSG00000290825.1\"; transcript_id \"ENST00000456328.2\"; gene_type \"lncRNA\"; gene_name \"DDX11L2\"; transcript_type \"lncRNA\"; transcript_name \"DDX11L2-202\"; exon_number 2; exon_id \"ENSE00003582793.1\"; level 2; transcript_support_level \"1\"; tag \"basic\"; tag \"Ensembl_canonical\"; havana_transcript \"OTTHUMT00000362751.1\";\n",
       "5 gene_id \"ENSG00000290825.1\"; transcript_id \"ENST00000456328.2\"; gene_type \"lncRNA\"; gene_name \"DDX11L2\"; transcript_type \"lncRNA\"; transcript_name \"DDX11L2-202\"; exon_number 3; exon_id \"ENSE00002312635.1\"; level 2; transcript_support_level \"1\"; tag \"basic\"; tag \"Ensembl_canonical\"; havana_transcript \"OTTHUMT00000362751.1\";\n",
       "6 gene_id \"ENSG00000223972.6\"; gene_type \"transcribed_unprocessed_pseudogene\"; gene_name \"DDX11L1\"; level 2; hgnc_id \"HGNC:37102\"; havana_gene \"OTTHUMG00000000961.2\";                                                                                                                                                                "
      ]
     },
     "metadata": {},
     "output_type": "display_data"
    }
   ],
   "source": [
    "fdiry = file.path(FD_RES, \"source\", \"annotation_gencode\")\n",
    "fname = \"gencode.v42.primary_assembly.basic.annotation.gtf.gz\"\n",
    "fpath = file.path(fdiry, fname)\n",
    "\n",
    "#cnames = c(\"Chrom\", \"Start\", \"End\", \"Name\", \"Score\", \"Strand\", \"Gene_Symbol\", \"X\", \"Note\")\n",
    "dat = read_tsv(fpath, col_names = FALSE, comment = \"##\")\n",
    "\n",
    "dat_gencode_basic = dat\n",
    "print(dim(dat))\n",
    "head(dat)"
   ]
  },
  {
   "cell_type": "code",
   "execution_count": 13,
   "metadata": {},
   "outputs": [
    {
     "data": {
      "text/html": [
       "<table class=\"dataframe\">\n",
       "<caption>A tibble: 40 × 5</caption>\n",
       "<thead>\n",
       "\t<tr><th scope=col>X1</th><th scope=col>X2</th><th scope=col>X3</th><th scope=col>X4</th><th scope=col>X5</th></tr>\n",
       "\t<tr><th scope=col>&lt;chr&gt;</th><th scope=col>&lt;chr&gt;</th><th scope=col>&lt;chr&gt;</th><th scope=col>&lt;dbl&gt;</th><th scope=col>&lt;dbl&gt;</th></tr>\n",
       "</thead>\n",
       "<tbody>\n",
       "\t<tr><td>chr11</td><td>HAVANA</td><td>CDS        </td><td>5268472</td><td>5268597</td></tr>\n",
       "\t<tr><td>chr11</td><td>HAVANA</td><td>CDS        </td><td>5268472</td><td>5268597</td></tr>\n",
       "\t<tr><td>chr11</td><td>HAVANA</td><td>CDS        </td><td>5268472</td><td>5268597</td></tr>\n",
       "\t<tr><td>chr11</td><td>HAVANA</td><td>CDS        </td><td>5269454</td><td>5269676</td></tr>\n",
       "\t<tr><td>chr11</td><td>HAVANA</td><td>CDS        </td><td>5269454</td><td>5269676</td></tr>\n",
       "\t<tr><td>chr11</td><td>HAVANA</td><td>CDS        </td><td>5269454</td><td>5269676</td></tr>\n",
       "\t<tr><td>chr11</td><td>HAVANA</td><td>CDS        </td><td>5269799</td><td>5269890</td></tr>\n",
       "\t<tr><td>chr11</td><td>HAVANA</td><td>CDS        </td><td>5269799</td><td>5269890</td></tr>\n",
       "\t<tr><td>chr11</td><td>HAVANA</td><td>CDS        </td><td>5269799</td><td>5269890</td></tr>\n",
       "\t<tr><td>chr11</td><td>HAVANA</td><td>UTR        </td><td>5268345</td><td>5268471</td></tr>\n",
       "\t<tr><td>chr11</td><td>HAVANA</td><td>UTR        </td><td>5268345</td><td>5268471</td></tr>\n",
       "\t<tr><td>chr11</td><td>HAVANA</td><td>UTR        </td><td>5268345</td><td>5268471</td></tr>\n",
       "\t<tr><td>chr11</td><td>HAVANA</td><td>UTR        </td><td>5269891</td><td>5269945</td></tr>\n",
       "\t<tr><td>chr11</td><td>HAVANA</td><td>UTR        </td><td>5269891</td><td>5270156</td></tr>\n",
       "\t<tr><td>chr11</td><td>HAVANA</td><td>UTR        </td><td>5269891</td><td>5270156</td></tr>\n",
       "\t<tr><td>chr11</td><td>HAVANA</td><td>UTR        </td><td>5281909</td><td>5281951</td></tr>\n",
       "\t<tr><td>chr11</td><td>HAVANA</td><td>UTR        </td><td>5505569</td><td>5505604</td></tr>\n",
       "\t<tr><td>chr11</td><td>HAVANA</td><td>UTR        </td><td>5505569</td><td>5505652</td></tr>\n",
       "\t<tr><td>chr11</td><td>HAVANA</td><td>exon       </td><td>5268345</td><td>5268597</td></tr>\n",
       "\t<tr><td>chr11</td><td>HAVANA</td><td>exon       </td><td>5268345</td><td>5268597</td></tr>\n",
       "\t<tr><td>chr11</td><td>HAVANA</td><td>exon       </td><td>5268345</td><td>5268597</td></tr>\n",
       "\t<tr><td>chr11</td><td>HAVANA</td><td>exon       </td><td>5269454</td><td>5269676</td></tr>\n",
       "\t<tr><td>chr11</td><td>HAVANA</td><td>exon       </td><td>5269454</td><td>5269676</td></tr>\n",
       "\t<tr><td>chr11</td><td>HAVANA</td><td>exon       </td><td>5269454</td><td>5269676</td></tr>\n",
       "\t<tr><td>chr11</td><td>HAVANA</td><td>exon       </td><td>5269799</td><td>5269945</td></tr>\n",
       "\t<tr><td>chr11</td><td>HAVANA</td><td>exon       </td><td>5269799</td><td>5270156</td></tr>\n",
       "\t<tr><td>chr11</td><td>HAVANA</td><td>exon       </td><td>5269799</td><td>5270156</td></tr>\n",
       "\t<tr><td>chr11</td><td>HAVANA</td><td>exon       </td><td>5281909</td><td>5281951</td></tr>\n",
       "\t<tr><td>chr11</td><td>HAVANA</td><td>exon       </td><td>5505569</td><td>5505604</td></tr>\n",
       "\t<tr><td>chr11</td><td>HAVANA</td><td>exon       </td><td>5505569</td><td>5505652</td></tr>\n",
       "\t<tr><td>chr11</td><td>HAVANA</td><td>gene       </td><td>5268345</td><td>5505652</td></tr>\n",
       "\t<tr><td>chr11</td><td>HAVANA</td><td>start_codon</td><td>5269888</td><td>5269890</td></tr>\n",
       "\t<tr><td>chr11</td><td>HAVANA</td><td>start_codon</td><td>5269888</td><td>5269890</td></tr>\n",
       "\t<tr><td>chr11</td><td>HAVANA</td><td>start_codon</td><td>5269888</td><td>5269890</td></tr>\n",
       "\t<tr><td>chr11</td><td>HAVANA</td><td>stop_codon </td><td>5268469</td><td>5268471</td></tr>\n",
       "\t<tr><td>chr11</td><td>HAVANA</td><td>stop_codon </td><td>5268469</td><td>5268471</td></tr>\n",
       "\t<tr><td>chr11</td><td>HAVANA</td><td>stop_codon </td><td>5268469</td><td>5268471</td></tr>\n",
       "\t<tr><td>chr11</td><td>HAVANA</td><td>transcript </td><td>5268345</td><td>5269945</td></tr>\n",
       "\t<tr><td>chr11</td><td>HAVANA</td><td>transcript </td><td>5268345</td><td>5505604</td></tr>\n",
       "\t<tr><td>chr11</td><td>HAVANA</td><td>transcript </td><td>5268345</td><td>5505652</td></tr>\n",
       "</tbody>\n",
       "</table>\n"
      ],
      "text/latex": [
       "A tibble: 40 × 5\n",
       "\\begin{tabular}{lllll}\n",
       " X1 & X2 & X3 & X4 & X5\\\\\n",
       " <chr> & <chr> & <chr> & <dbl> & <dbl>\\\\\n",
       "\\hline\n",
       "\t chr11 & HAVANA & CDS         & 5268472 & 5268597\\\\\n",
       "\t chr11 & HAVANA & CDS         & 5268472 & 5268597\\\\\n",
       "\t chr11 & HAVANA & CDS         & 5268472 & 5268597\\\\\n",
       "\t chr11 & HAVANA & CDS         & 5269454 & 5269676\\\\\n",
       "\t chr11 & HAVANA & CDS         & 5269454 & 5269676\\\\\n",
       "\t chr11 & HAVANA & CDS         & 5269454 & 5269676\\\\\n",
       "\t chr11 & HAVANA & CDS         & 5269799 & 5269890\\\\\n",
       "\t chr11 & HAVANA & CDS         & 5269799 & 5269890\\\\\n",
       "\t chr11 & HAVANA & CDS         & 5269799 & 5269890\\\\\n",
       "\t chr11 & HAVANA & UTR         & 5268345 & 5268471\\\\\n",
       "\t chr11 & HAVANA & UTR         & 5268345 & 5268471\\\\\n",
       "\t chr11 & HAVANA & UTR         & 5268345 & 5268471\\\\\n",
       "\t chr11 & HAVANA & UTR         & 5269891 & 5269945\\\\\n",
       "\t chr11 & HAVANA & UTR         & 5269891 & 5270156\\\\\n",
       "\t chr11 & HAVANA & UTR         & 5269891 & 5270156\\\\\n",
       "\t chr11 & HAVANA & UTR         & 5281909 & 5281951\\\\\n",
       "\t chr11 & HAVANA & UTR         & 5505569 & 5505604\\\\\n",
       "\t chr11 & HAVANA & UTR         & 5505569 & 5505652\\\\\n",
       "\t chr11 & HAVANA & exon        & 5268345 & 5268597\\\\\n",
       "\t chr11 & HAVANA & exon        & 5268345 & 5268597\\\\\n",
       "\t chr11 & HAVANA & exon        & 5268345 & 5268597\\\\\n",
       "\t chr11 & HAVANA & exon        & 5269454 & 5269676\\\\\n",
       "\t chr11 & HAVANA & exon        & 5269454 & 5269676\\\\\n",
       "\t chr11 & HAVANA & exon        & 5269454 & 5269676\\\\\n",
       "\t chr11 & HAVANA & exon        & 5269799 & 5269945\\\\\n",
       "\t chr11 & HAVANA & exon        & 5269799 & 5270156\\\\\n",
       "\t chr11 & HAVANA & exon        & 5269799 & 5270156\\\\\n",
       "\t chr11 & HAVANA & exon        & 5281909 & 5281951\\\\\n",
       "\t chr11 & HAVANA & exon        & 5505569 & 5505604\\\\\n",
       "\t chr11 & HAVANA & exon        & 5505569 & 5505652\\\\\n",
       "\t chr11 & HAVANA & gene        & 5268345 & 5505652\\\\\n",
       "\t chr11 & HAVANA & start\\_codon & 5269888 & 5269890\\\\\n",
       "\t chr11 & HAVANA & start\\_codon & 5269888 & 5269890\\\\\n",
       "\t chr11 & HAVANA & start\\_codon & 5269888 & 5269890\\\\\n",
       "\t chr11 & HAVANA & stop\\_codon  & 5268469 & 5268471\\\\\n",
       "\t chr11 & HAVANA & stop\\_codon  & 5268469 & 5268471\\\\\n",
       "\t chr11 & HAVANA & stop\\_codon  & 5268469 & 5268471\\\\\n",
       "\t chr11 & HAVANA & transcript  & 5268345 & 5269945\\\\\n",
       "\t chr11 & HAVANA & transcript  & 5268345 & 5505604\\\\\n",
       "\t chr11 & HAVANA & transcript  & 5268345 & 5505652\\\\\n",
       "\\end{tabular}\n"
      ],
      "text/markdown": [
       "\n",
       "A tibble: 40 × 5\n",
       "\n",
       "| X1 &lt;chr&gt; | X2 &lt;chr&gt; | X3 &lt;chr&gt; | X4 &lt;dbl&gt; | X5 &lt;dbl&gt; |\n",
       "|---|---|---|---|---|\n",
       "| chr11 | HAVANA | CDS         | 5268472 | 5268597 |\n",
       "| chr11 | HAVANA | CDS         | 5268472 | 5268597 |\n",
       "| chr11 | HAVANA | CDS         | 5268472 | 5268597 |\n",
       "| chr11 | HAVANA | CDS         | 5269454 | 5269676 |\n",
       "| chr11 | HAVANA | CDS         | 5269454 | 5269676 |\n",
       "| chr11 | HAVANA | CDS         | 5269454 | 5269676 |\n",
       "| chr11 | HAVANA | CDS         | 5269799 | 5269890 |\n",
       "| chr11 | HAVANA | CDS         | 5269799 | 5269890 |\n",
       "| chr11 | HAVANA | CDS         | 5269799 | 5269890 |\n",
       "| chr11 | HAVANA | UTR         | 5268345 | 5268471 |\n",
       "| chr11 | HAVANA | UTR         | 5268345 | 5268471 |\n",
       "| chr11 | HAVANA | UTR         | 5268345 | 5268471 |\n",
       "| chr11 | HAVANA | UTR         | 5269891 | 5269945 |\n",
       "| chr11 | HAVANA | UTR         | 5269891 | 5270156 |\n",
       "| chr11 | HAVANA | UTR         | 5269891 | 5270156 |\n",
       "| chr11 | HAVANA | UTR         | 5281909 | 5281951 |\n",
       "| chr11 | HAVANA | UTR         | 5505569 | 5505604 |\n",
       "| chr11 | HAVANA | UTR         | 5505569 | 5505652 |\n",
       "| chr11 | HAVANA | exon        | 5268345 | 5268597 |\n",
       "| chr11 | HAVANA | exon        | 5268345 | 5268597 |\n",
       "| chr11 | HAVANA | exon        | 5268345 | 5268597 |\n",
       "| chr11 | HAVANA | exon        | 5269454 | 5269676 |\n",
       "| chr11 | HAVANA | exon        | 5269454 | 5269676 |\n",
       "| chr11 | HAVANA | exon        | 5269454 | 5269676 |\n",
       "| chr11 | HAVANA | exon        | 5269799 | 5269945 |\n",
       "| chr11 | HAVANA | exon        | 5269799 | 5270156 |\n",
       "| chr11 | HAVANA | exon        | 5269799 | 5270156 |\n",
       "| chr11 | HAVANA | exon        | 5281909 | 5281951 |\n",
       "| chr11 | HAVANA | exon        | 5505569 | 5505604 |\n",
       "| chr11 | HAVANA | exon        | 5505569 | 5505652 |\n",
       "| chr11 | HAVANA | gene        | 5268345 | 5505652 |\n",
       "| chr11 | HAVANA | start_codon | 5269888 | 5269890 |\n",
       "| chr11 | HAVANA | start_codon | 5269888 | 5269890 |\n",
       "| chr11 | HAVANA | start_codon | 5269888 | 5269890 |\n",
       "| chr11 | HAVANA | stop_codon  | 5268469 | 5268471 |\n",
       "| chr11 | HAVANA | stop_codon  | 5268469 | 5268471 |\n",
       "| chr11 | HAVANA | stop_codon  | 5268469 | 5268471 |\n",
       "| chr11 | HAVANA | transcript  | 5268345 | 5269945 |\n",
       "| chr11 | HAVANA | transcript  | 5268345 | 5505604 |\n",
       "| chr11 | HAVANA | transcript  | 5268345 | 5505652 |\n",
       "\n"
      ],
      "text/plain": [
       "   X1    X2     X3          X4      X5     \n",
       "1  chr11 HAVANA CDS         5268472 5268597\n",
       "2  chr11 HAVANA CDS         5268472 5268597\n",
       "3  chr11 HAVANA CDS         5268472 5268597\n",
       "4  chr11 HAVANA CDS         5269454 5269676\n",
       "5  chr11 HAVANA CDS         5269454 5269676\n",
       "6  chr11 HAVANA CDS         5269454 5269676\n",
       "7  chr11 HAVANA CDS         5269799 5269890\n",
       "8  chr11 HAVANA CDS         5269799 5269890\n",
       "9  chr11 HAVANA CDS         5269799 5269890\n",
       "10 chr11 HAVANA UTR         5268345 5268471\n",
       "11 chr11 HAVANA UTR         5268345 5268471\n",
       "12 chr11 HAVANA UTR         5268345 5268471\n",
       "13 chr11 HAVANA UTR         5269891 5269945\n",
       "14 chr11 HAVANA UTR         5269891 5270156\n",
       "15 chr11 HAVANA UTR         5269891 5270156\n",
       "16 chr11 HAVANA UTR         5281909 5281951\n",
       "17 chr11 HAVANA UTR         5505569 5505604\n",
       "18 chr11 HAVANA UTR         5505569 5505652\n",
       "19 chr11 HAVANA exon        5268345 5268597\n",
       "20 chr11 HAVANA exon        5268345 5268597\n",
       "21 chr11 HAVANA exon        5268345 5268597\n",
       "22 chr11 HAVANA exon        5269454 5269676\n",
       "23 chr11 HAVANA exon        5269454 5269676\n",
       "24 chr11 HAVANA exon        5269454 5269676\n",
       "25 chr11 HAVANA exon        5269799 5269945\n",
       "26 chr11 HAVANA exon        5269799 5270156\n",
       "27 chr11 HAVANA exon        5269799 5270156\n",
       "28 chr11 HAVANA exon        5281909 5281951\n",
       "29 chr11 HAVANA exon        5505569 5505604\n",
       "30 chr11 HAVANA exon        5505569 5505652\n",
       "31 chr11 HAVANA gene        5268345 5505652\n",
       "32 chr11 HAVANA start_codon 5269888 5269890\n",
       "33 chr11 HAVANA start_codon 5269888 5269890\n",
       "34 chr11 HAVANA start_codon 5269888 5269890\n",
       "35 chr11 HAVANA stop_codon  5268469 5268471\n",
       "36 chr11 HAVANA stop_codon  5268469 5268471\n",
       "37 chr11 HAVANA stop_codon  5268469 5268471\n",
       "38 chr11 HAVANA transcript  5268345 5269945\n",
       "39 chr11 HAVANA transcript  5268345 5505604\n",
       "40 chr11 HAVANA transcript  5268345 5505652"
      ]
     },
     "metadata": {},
     "output_type": "display_data"
    }
   ],
   "source": [
    "dat = dat_gencode_basic\n",
    "dat %>% dplyr::filter(str_detect(X9, \"HBE1\")) %>% dplyr::select(X1:X5) %>% dplyr::arrange(X3, X4, X5)"
   ]
  },
  {
   "cell_type": "code",
   "execution_count": 14,
   "metadata": {},
   "outputs": [
    {
     "data": {
      "text/html": [
       "<table class=\"dataframe\">\n",
       "<caption>A tibble: 4 × 5</caption>\n",
       "<thead>\n",
       "\t<tr><th scope=col>X1</th><th scope=col>X2</th><th scope=col>X3</th><th scope=col>X4</th><th scope=col>X5</th></tr>\n",
       "\t<tr><th scope=col>&lt;chr&gt;</th><th scope=col>&lt;chr&gt;</th><th scope=col>&lt;chr&gt;</th><th scope=col>&lt;dbl&gt;</th><th scope=col>&lt;dbl&gt;</th></tr>\n",
       "</thead>\n",
       "<tbody>\n",
       "\t<tr><td>chr11</td><td>HAVANA</td><td>gene      </td><td>5268345</td><td>5505652</td></tr>\n",
       "\t<tr><td>chr11</td><td>HAVANA</td><td>transcript</td><td>5268345</td><td>5269945</td></tr>\n",
       "\t<tr><td>chr11</td><td>HAVANA</td><td>transcript</td><td>5268345</td><td>5505604</td></tr>\n",
       "\t<tr><td>chr11</td><td>HAVANA</td><td>transcript</td><td>5268345</td><td>5505652</td></tr>\n",
       "</tbody>\n",
       "</table>\n"
      ],
      "text/latex": [
       "A tibble: 4 × 5\n",
       "\\begin{tabular}{lllll}\n",
       " X1 & X2 & X3 & X4 & X5\\\\\n",
       " <chr> & <chr> & <chr> & <dbl> & <dbl>\\\\\n",
       "\\hline\n",
       "\t chr11 & HAVANA & gene       & 5268345 & 5505652\\\\\n",
       "\t chr11 & HAVANA & transcript & 5268345 & 5269945\\\\\n",
       "\t chr11 & HAVANA & transcript & 5268345 & 5505604\\\\\n",
       "\t chr11 & HAVANA & transcript & 5268345 & 5505652\\\\\n",
       "\\end{tabular}\n"
      ],
      "text/markdown": [
       "\n",
       "A tibble: 4 × 5\n",
       "\n",
       "| X1 &lt;chr&gt; | X2 &lt;chr&gt; | X3 &lt;chr&gt; | X4 &lt;dbl&gt; | X5 &lt;dbl&gt; |\n",
       "|---|---|---|---|---|\n",
       "| chr11 | HAVANA | gene       | 5268345 | 5505652 |\n",
       "| chr11 | HAVANA | transcript | 5268345 | 5269945 |\n",
       "| chr11 | HAVANA | transcript | 5268345 | 5505604 |\n",
       "| chr11 | HAVANA | transcript | 5268345 | 5505652 |\n",
       "\n"
      ],
      "text/plain": [
       "  X1    X2     X3         X4      X5     \n",
       "1 chr11 HAVANA gene       5268345 5505652\n",
       "2 chr11 HAVANA transcript 5268345 5269945\n",
       "3 chr11 HAVANA transcript 5268345 5505604\n",
       "4 chr11 HAVANA transcript 5268345 5505652"
      ]
     },
     "metadata": {},
     "output_type": "display_data"
    }
   ],
   "source": [
    "dat = dat_gencode_basic\n",
    "dat %>% dplyr::filter(str_detect(X9, \"HBE1\")) %>% dplyr::select(X1:X5) %>% dplyr::filter(X3 %in% c(\"gene\", \"transcript\")) %>% dplyr::arrange(X3, X4, X5)"
   ]
  },
  {
   "cell_type": "code",
   "execution_count": 20,
   "metadata": {},
   "outputs": [
    {
     "name": "stderr",
     "output_type": "stream",
     "text": [
      "\u001b[1mRows: \u001b[22m\u001b[34m1999158\u001b[39m \u001b[1mColumns: \u001b[22m\u001b[34m9\u001b[39m\n",
      "\u001b[36m──\u001b[39m \u001b[1mColumn specification\u001b[22m \u001b[36m─────────────────────────────────────────\u001b[39m\n",
      "\u001b[1mDelimiter:\u001b[22m \"\\t\"\n",
      "\u001b[31mchr\u001b[39m (7): X1, X2, X3, X6, X7, X8, X9\n",
      "\u001b[32mdbl\u001b[39m (2): X4, X5\n",
      "\n",
      "\u001b[36mℹ\u001b[39m Use `spec()` to retrieve the full column specification for this data.\n",
      "\u001b[36mℹ\u001b[39m Specify the column types or set `show_col_types = FALSE` to quiet this message.\n"
     ]
    },
    {
     "name": "stdout",
     "output_type": "stream",
     "text": [
      "[1] 1999158       9\n"
     ]
    },
    {
     "data": {
      "text/html": [
       "<table class=\"dataframe\">\n",
       "<caption>A tibble: 6 × 9</caption>\n",
       "<thead>\n",
       "\t<tr><th scope=col>X1</th><th scope=col>X2</th><th scope=col>X3</th><th scope=col>X4</th><th scope=col>X5</th><th scope=col>X6</th><th scope=col>X7</th><th scope=col>X8</th><th scope=col>X9</th></tr>\n",
       "\t<tr><th scope=col>&lt;chr&gt;</th><th scope=col>&lt;chr&gt;</th><th scope=col>&lt;chr&gt;</th><th scope=col>&lt;dbl&gt;</th><th scope=col>&lt;dbl&gt;</th><th scope=col>&lt;chr&gt;</th><th scope=col>&lt;chr&gt;</th><th scope=col>&lt;chr&gt;</th><th scope=col>&lt;chr&gt;</th></tr>\n",
       "</thead>\n",
       "<tbody>\n",
       "\t<tr><td>chr1</td><td>HAVANA</td><td>gene      </td><td>11869</td><td>14409</td><td>.</td><td>+</td><td>.</td><td>gene_id \"ENSG00000290825.1\"; gene_type \"lncRNA\"; gene_name \"DDX11L2\"; level 2; tag \"overlaps_pseudogene\";                                                                                                                                                                                                                           </td></tr>\n",
       "\t<tr><td>chr1</td><td>HAVANA</td><td>transcript</td><td>11869</td><td>14409</td><td>.</td><td>+</td><td>.</td><td>gene_id \"ENSG00000290825.1\"; transcript_id \"ENST00000456328.2\"; gene_type \"lncRNA\"; gene_name \"DDX11L2\"; transcript_type \"lncRNA\"; transcript_name \"DDX11L2-202\"; level 2; transcript_support_level \"1\"; tag \"basic\"; tag \"Ensembl_canonical\"; havana_transcript \"OTTHUMT00000362751.1\";                                            </td></tr>\n",
       "\t<tr><td>chr1</td><td>HAVANA</td><td>exon      </td><td>11869</td><td>12227</td><td>.</td><td>+</td><td>.</td><td>gene_id \"ENSG00000290825.1\"; transcript_id \"ENST00000456328.2\"; gene_type \"lncRNA\"; gene_name \"DDX11L2\"; transcript_type \"lncRNA\"; transcript_name \"DDX11L2-202\"; exon_number 1; exon_id \"ENSE00002234944.1\"; level 2; transcript_support_level \"1\"; tag \"basic\"; tag \"Ensembl_canonical\"; havana_transcript \"OTTHUMT00000362751.1\";</td></tr>\n",
       "\t<tr><td>chr1</td><td>HAVANA</td><td>exon      </td><td>12613</td><td>12721</td><td>.</td><td>+</td><td>.</td><td>gene_id \"ENSG00000290825.1\"; transcript_id \"ENST00000456328.2\"; gene_type \"lncRNA\"; gene_name \"DDX11L2\"; transcript_type \"lncRNA\"; transcript_name \"DDX11L2-202\"; exon_number 2; exon_id \"ENSE00003582793.1\"; level 2; transcript_support_level \"1\"; tag \"basic\"; tag \"Ensembl_canonical\"; havana_transcript \"OTTHUMT00000362751.1\";</td></tr>\n",
       "\t<tr><td>chr1</td><td>HAVANA</td><td>exon      </td><td>13221</td><td>14409</td><td>.</td><td>+</td><td>.</td><td>gene_id \"ENSG00000290825.1\"; transcript_id \"ENST00000456328.2\"; gene_type \"lncRNA\"; gene_name \"DDX11L2\"; transcript_type \"lncRNA\"; transcript_name \"DDX11L2-202\"; exon_number 3; exon_id \"ENSE00002312635.1\"; level 2; transcript_support_level \"1\"; tag \"basic\"; tag \"Ensembl_canonical\"; havana_transcript \"OTTHUMT00000362751.1\";</td></tr>\n",
       "\t<tr><td>chr1</td><td>HAVANA</td><td>gene      </td><td>12010</td><td>13670</td><td>.</td><td>+</td><td>.</td><td>gene_id \"ENSG00000223972.6\"; gene_type \"transcribed_unprocessed_pseudogene\"; gene_name \"DDX11L1\"; level 2; hgnc_id \"HGNC:37102\"; havana_gene \"OTTHUMG00000000961.2\";                                                                                                                                                                </td></tr>\n",
       "</tbody>\n",
       "</table>\n"
      ],
      "text/latex": [
       "A tibble: 6 × 9\n",
       "\\begin{tabular}{lllllllll}\n",
       " X1 & X2 & X3 & X4 & X5 & X6 & X7 & X8 & X9\\\\\n",
       " <chr> & <chr> & <chr> & <dbl> & <dbl> & <chr> & <chr> & <chr> & <chr>\\\\\n",
       "\\hline\n",
       "\t chr1 & HAVANA & gene       & 11869 & 14409 & . & + & . & gene\\_id \"ENSG00000290825.1\"; gene\\_type \"lncRNA\"; gene\\_name \"DDX11L2\"; level 2; tag \"overlaps\\_pseudogene\";                                                                                                                                                                                                                           \\\\\n",
       "\t chr1 & HAVANA & transcript & 11869 & 14409 & . & + & . & gene\\_id \"ENSG00000290825.1\"; transcript\\_id \"ENST00000456328.2\"; gene\\_type \"lncRNA\"; gene\\_name \"DDX11L2\"; transcript\\_type \"lncRNA\"; transcript\\_name \"DDX11L2-202\"; level 2; transcript\\_support\\_level \"1\"; tag \"basic\"; tag \"Ensembl\\_canonical\"; havana\\_transcript \"OTTHUMT00000362751.1\";                                            \\\\\n",
       "\t chr1 & HAVANA & exon       & 11869 & 12227 & . & + & . & gene\\_id \"ENSG00000290825.1\"; transcript\\_id \"ENST00000456328.2\"; gene\\_type \"lncRNA\"; gene\\_name \"DDX11L2\"; transcript\\_type \"lncRNA\"; transcript\\_name \"DDX11L2-202\"; exon\\_number 1; exon\\_id \"ENSE00002234944.1\"; level 2; transcript\\_support\\_level \"1\"; tag \"basic\"; tag \"Ensembl\\_canonical\"; havana\\_transcript \"OTTHUMT00000362751.1\";\\\\\n",
       "\t chr1 & HAVANA & exon       & 12613 & 12721 & . & + & . & gene\\_id \"ENSG00000290825.1\"; transcript\\_id \"ENST00000456328.2\"; gene\\_type \"lncRNA\"; gene\\_name \"DDX11L2\"; transcript\\_type \"lncRNA\"; transcript\\_name \"DDX11L2-202\"; exon\\_number 2; exon\\_id \"ENSE00003582793.1\"; level 2; transcript\\_support\\_level \"1\"; tag \"basic\"; tag \"Ensembl\\_canonical\"; havana\\_transcript \"OTTHUMT00000362751.1\";\\\\\n",
       "\t chr1 & HAVANA & exon       & 13221 & 14409 & . & + & . & gene\\_id \"ENSG00000290825.1\"; transcript\\_id \"ENST00000456328.2\"; gene\\_type \"lncRNA\"; gene\\_name \"DDX11L2\"; transcript\\_type \"lncRNA\"; transcript\\_name \"DDX11L2-202\"; exon\\_number 3; exon\\_id \"ENSE00002312635.1\"; level 2; transcript\\_support\\_level \"1\"; tag \"basic\"; tag \"Ensembl\\_canonical\"; havana\\_transcript \"OTTHUMT00000362751.1\";\\\\\n",
       "\t chr1 & HAVANA & gene       & 12010 & 13670 & . & + & . & gene\\_id \"ENSG00000223972.6\"; gene\\_type \"transcribed\\_unprocessed\\_pseudogene\"; gene\\_name \"DDX11L1\"; level 2; hgnc\\_id \"HGNC:37102\"; havana\\_gene \"OTTHUMG00000000961.2\";                                                                                                                                                                \\\\\n",
       "\\end{tabular}\n"
      ],
      "text/markdown": [
       "\n",
       "A tibble: 6 × 9\n",
       "\n",
       "| X1 &lt;chr&gt; | X2 &lt;chr&gt; | X3 &lt;chr&gt; | X4 &lt;dbl&gt; | X5 &lt;dbl&gt; | X6 &lt;chr&gt; | X7 &lt;chr&gt; | X8 &lt;chr&gt; | X9 &lt;chr&gt; |\n",
       "|---|---|---|---|---|---|---|---|---|\n",
       "| chr1 | HAVANA | gene       | 11869 | 14409 | . | + | . | gene_id \"ENSG00000290825.1\"; gene_type \"lncRNA\"; gene_name \"DDX11L2\"; level 2; tag \"overlaps_pseudogene\";                                                                                                                                                                                                                            |\n",
       "| chr1 | HAVANA | transcript | 11869 | 14409 | . | + | . | gene_id \"ENSG00000290825.1\"; transcript_id \"ENST00000456328.2\"; gene_type \"lncRNA\"; gene_name \"DDX11L2\"; transcript_type \"lncRNA\"; transcript_name \"DDX11L2-202\"; level 2; transcript_support_level \"1\"; tag \"basic\"; tag \"Ensembl_canonical\"; havana_transcript \"OTTHUMT00000362751.1\";                                             |\n",
       "| chr1 | HAVANA | exon       | 11869 | 12227 | . | + | . | gene_id \"ENSG00000290825.1\"; transcript_id \"ENST00000456328.2\"; gene_type \"lncRNA\"; gene_name \"DDX11L2\"; transcript_type \"lncRNA\"; transcript_name \"DDX11L2-202\"; exon_number 1; exon_id \"ENSE00002234944.1\"; level 2; transcript_support_level \"1\"; tag \"basic\"; tag \"Ensembl_canonical\"; havana_transcript \"OTTHUMT00000362751.1\"; |\n",
       "| chr1 | HAVANA | exon       | 12613 | 12721 | . | + | . | gene_id \"ENSG00000290825.1\"; transcript_id \"ENST00000456328.2\"; gene_type \"lncRNA\"; gene_name \"DDX11L2\"; transcript_type \"lncRNA\"; transcript_name \"DDX11L2-202\"; exon_number 2; exon_id \"ENSE00003582793.1\"; level 2; transcript_support_level \"1\"; tag \"basic\"; tag \"Ensembl_canonical\"; havana_transcript \"OTTHUMT00000362751.1\"; |\n",
       "| chr1 | HAVANA | exon       | 13221 | 14409 | . | + | . | gene_id \"ENSG00000290825.1\"; transcript_id \"ENST00000456328.2\"; gene_type \"lncRNA\"; gene_name \"DDX11L2\"; transcript_type \"lncRNA\"; transcript_name \"DDX11L2-202\"; exon_number 3; exon_id \"ENSE00002312635.1\"; level 2; transcript_support_level \"1\"; tag \"basic\"; tag \"Ensembl_canonical\"; havana_transcript \"OTTHUMT00000362751.1\"; |\n",
       "| chr1 | HAVANA | gene       | 12010 | 13670 | . | + | . | gene_id \"ENSG00000223972.6\"; gene_type \"transcribed_unprocessed_pseudogene\"; gene_name \"DDX11L1\"; level 2; hgnc_id \"HGNC:37102\"; havana_gene \"OTTHUMG00000000961.2\";                                                                                                                                                                 |\n",
       "\n"
      ],
      "text/plain": [
       "  X1   X2     X3         X4    X5    X6 X7 X8\n",
       "1 chr1 HAVANA gene       11869 14409 .  +  . \n",
       "2 chr1 HAVANA transcript 11869 14409 .  +  . \n",
       "3 chr1 HAVANA exon       11869 12227 .  +  . \n",
       "4 chr1 HAVANA exon       12613 12721 .  +  . \n",
       "5 chr1 HAVANA exon       13221 14409 .  +  . \n",
       "6 chr1 HAVANA gene       12010 13670 .  +  . \n",
       "  X9                                                                                                                                                                                                                                                                                                                                  \n",
       "1 gene_id \"ENSG00000290825.1\"; gene_type \"lncRNA\"; gene_name \"DDX11L2\"; level 2; tag \"overlaps_pseudogene\";                                                                                                                                                                                                                           \n",
       "2 gene_id \"ENSG00000290825.1\"; transcript_id \"ENST00000456328.2\"; gene_type \"lncRNA\"; gene_name \"DDX11L2\"; transcript_type \"lncRNA\"; transcript_name \"DDX11L2-202\"; level 2; transcript_support_level \"1\"; tag \"basic\"; tag \"Ensembl_canonical\"; havana_transcript \"OTTHUMT00000362751.1\";                                            \n",
       "3 gene_id \"ENSG00000290825.1\"; transcript_id \"ENST00000456328.2\"; gene_type \"lncRNA\"; gene_name \"DDX11L2\"; transcript_type \"lncRNA\"; transcript_name \"DDX11L2-202\"; exon_number 1; exon_id \"ENSE00002234944.1\"; level 2; transcript_support_level \"1\"; tag \"basic\"; tag \"Ensembl_canonical\"; havana_transcript \"OTTHUMT00000362751.1\";\n",
       "4 gene_id \"ENSG00000290825.1\"; transcript_id \"ENST00000456328.2\"; gene_type \"lncRNA\"; gene_name \"DDX11L2\"; transcript_type \"lncRNA\"; transcript_name \"DDX11L2-202\"; exon_number 2; exon_id \"ENSE00003582793.1\"; level 2; transcript_support_level \"1\"; tag \"basic\"; tag \"Ensembl_canonical\"; havana_transcript \"OTTHUMT00000362751.1\";\n",
       "5 gene_id \"ENSG00000290825.1\"; transcript_id \"ENST00000456328.2\"; gene_type \"lncRNA\"; gene_name \"DDX11L2\"; transcript_type \"lncRNA\"; transcript_name \"DDX11L2-202\"; exon_number 3; exon_id \"ENSE00002312635.1\"; level 2; transcript_support_level \"1\"; tag \"basic\"; tag \"Ensembl_canonical\"; havana_transcript \"OTTHUMT00000362751.1\";\n",
       "6 gene_id \"ENSG00000223972.6\"; gene_type \"transcribed_unprocessed_pseudogene\"; gene_name \"DDX11L1\"; level 2; hgnc_id \"HGNC:37102\"; havana_gene \"OTTHUMG00000000961.2\";                                                                                                                                                                "
      ]
     },
     "metadata": {},
     "output_type": "display_data"
    }
   ],
   "source": [
    "fdiry = file.path(FD_RES, \"source\", \"annotation_gencode\")\n",
    "fname = \"gencode.v43.primary_assembly.basic.annotation.gtf.gz\"\n",
    "fpath = file.path(fdiry, fname)\n",
    "\n",
    "#cnames = c(\"Chrom\", \"Start\", \"End\", \"Name\", \"Score\", \"Strand\", \"Gene_Symbol\", \"X\", \"Note\")\n",
    "dat = read_tsv(fpath, col_names = FALSE, comment = \"##\")\n",
    "\n",
    "dat_gencode_v43_basic = dat\n",
    "print(dim(dat))\n",
    "head(dat)"
   ]
  },
  {
   "cell_type": "code",
   "execution_count": 22,
   "metadata": {},
   "outputs": [
    {
     "data": {
      "text/html": [
       "<table class=\"dataframe\">\n",
       "<caption>A tibble: 4 × 5</caption>\n",
       "<thead>\n",
       "\t<tr><th scope=col>X1</th><th scope=col>X2</th><th scope=col>X3</th><th scope=col>X4</th><th scope=col>X5</th></tr>\n",
       "\t<tr><th scope=col>&lt;chr&gt;</th><th scope=col>&lt;chr&gt;</th><th scope=col>&lt;chr&gt;</th><th scope=col>&lt;dbl&gt;</th><th scope=col>&lt;dbl&gt;</th></tr>\n",
       "</thead>\n",
       "<tbody>\n",
       "\t<tr><td>chr11</td><td>HAVANA</td><td>gene      </td><td>5268345</td><td>5505652</td></tr>\n",
       "\t<tr><td>chr11</td><td>HAVANA</td><td>transcript</td><td>5268345</td><td>5269945</td></tr>\n",
       "\t<tr><td>chr11</td><td>HAVANA</td><td>transcript</td><td>5268345</td><td>5505604</td></tr>\n",
       "\t<tr><td>chr11</td><td>HAVANA</td><td>transcript</td><td>5268345</td><td>5505652</td></tr>\n",
       "</tbody>\n",
       "</table>\n"
      ],
      "text/latex": [
       "A tibble: 4 × 5\n",
       "\\begin{tabular}{lllll}\n",
       " X1 & X2 & X3 & X4 & X5\\\\\n",
       " <chr> & <chr> & <chr> & <dbl> & <dbl>\\\\\n",
       "\\hline\n",
       "\t chr11 & HAVANA & gene       & 5268345 & 5505652\\\\\n",
       "\t chr11 & HAVANA & transcript & 5268345 & 5269945\\\\\n",
       "\t chr11 & HAVANA & transcript & 5268345 & 5505604\\\\\n",
       "\t chr11 & HAVANA & transcript & 5268345 & 5505652\\\\\n",
       "\\end{tabular}\n"
      ],
      "text/markdown": [
       "\n",
       "A tibble: 4 × 5\n",
       "\n",
       "| X1 &lt;chr&gt; | X2 &lt;chr&gt; | X3 &lt;chr&gt; | X4 &lt;dbl&gt; | X5 &lt;dbl&gt; |\n",
       "|---|---|---|---|---|\n",
       "| chr11 | HAVANA | gene       | 5268345 | 5505652 |\n",
       "| chr11 | HAVANA | transcript | 5268345 | 5269945 |\n",
       "| chr11 | HAVANA | transcript | 5268345 | 5505604 |\n",
       "| chr11 | HAVANA | transcript | 5268345 | 5505652 |\n",
       "\n"
      ],
      "text/plain": [
       "  X1    X2     X3         X4      X5     \n",
       "1 chr11 HAVANA gene       5268345 5505652\n",
       "2 chr11 HAVANA transcript 5268345 5269945\n",
       "3 chr11 HAVANA transcript 5268345 5505604\n",
       "4 chr11 HAVANA transcript 5268345 5505652"
      ]
     },
     "metadata": {},
     "output_type": "display_data"
    }
   ],
   "source": [
    "dat = dat_gencode_v43_basic\n",
    "dat %>% \n",
    "    dplyr::filter(str_detect(X9, \"HBE1\")) %>% \n",
    "    dplyr::select(X1:X5) %>% \n",
    "    dplyr::filter(X3 %in% c(\"gene\", \"transcript\")) %>% \n",
    "    dplyr::arrange(X3, X4, X5)"
   ]
  },
  {
   "cell_type": "markdown",
   "metadata": {},
   "source": [
    "## Import data"
   ]
  },
  {
   "cell_type": "code",
   "execution_count": 15,
   "metadata": {},
   "outputs": [
    {
     "name": "stderr",
     "output_type": "stream",
     "text": [
      "\u001b[1mRows: \u001b[22m\u001b[34m62696\u001b[39m \u001b[1mColumns: \u001b[22m\u001b[34m9\u001b[39m\n",
      "\u001b[36m──\u001b[39m \u001b[1mColumn specification\u001b[22m \u001b[36m─────────────────────────────────────────\u001b[39m\n",
      "\u001b[1mDelimiter:\u001b[22m \"\\t\"\n",
      "\u001b[31mchr\u001b[39m (6): Chrom, Name, Score, Strand, Gene_Symbol, Note\n",
      "\u001b[32mdbl\u001b[39m (3): Start, End, X\n",
      "\n",
      "\u001b[36mℹ\u001b[39m Use `spec()` to retrieve the full column specification for this data.\n",
      "\u001b[36mℹ\u001b[39m Specify the column types or set `show_col_types = FALSE` to quiet this message.\n"
     ]
    },
    {
     "name": "stdout",
     "output_type": "stream",
     "text": [
      "[1] 62696     9\n"
     ]
    },
    {
     "data": {
      "text/html": [
       "<table class=\"dataframe\">\n",
       "<caption>A tibble: 6 × 9</caption>\n",
       "<thead>\n",
       "\t<tr><th scope=col>Chrom</th><th scope=col>Start</th><th scope=col>End</th><th scope=col>Name</th><th scope=col>Score</th><th scope=col>Strand</th><th scope=col>Gene_Symbol</th><th scope=col>X</th><th scope=col>Note</th></tr>\n",
       "\t<tr><th scope=col>&lt;chr&gt;</th><th scope=col>&lt;dbl&gt;</th><th scope=col>&lt;dbl&gt;</th><th scope=col>&lt;chr&gt;</th><th scope=col>&lt;chr&gt;</th><th scope=col>&lt;chr&gt;</th><th scope=col>&lt;chr&gt;</th><th scope=col>&lt;dbl&gt;</th><th scope=col>&lt;chr&gt;</th></tr>\n",
       "</thead>\n",
       "<tbody>\n",
       "\t<tr><td>chr1</td><td>11868</td><td>14409</td><td>ENSG00000290825.1</td><td>.</td><td>+</td><td>DDX11L2    </td><td>2</td><td>overlaps_pseudogene</td></tr>\n",
       "\t<tr><td>chr1</td><td>12009</td><td>13670</td><td>ENSG00000223972.6</td><td>.</td><td>+</td><td>DDX11L1    </td><td>2</td><td>HGNC:37102         </td></tr>\n",
       "\t<tr><td>chr1</td><td>14403</td><td>29570</td><td>ENSG00000227232.5</td><td>.</td><td>-</td><td>WASH7P     </td><td>2</td><td>HGNC:38034         </td></tr>\n",
       "\t<tr><td>chr1</td><td>17368</td><td>17436</td><td>ENSG00000278267.1</td><td>.</td><td>-</td><td>MIR6859-1  </td><td>3</td><td>HGNC:50039         </td></tr>\n",
       "\t<tr><td>chr1</td><td>29553</td><td>31109</td><td>ENSG00000243485.5</td><td>.</td><td>+</td><td>MIR1302-2HG</td><td>2</td><td>HGNC:52482         </td></tr>\n",
       "\t<tr><td>chr1</td><td>30365</td><td>30503</td><td>ENSG00000284332.1</td><td>.</td><td>+</td><td>MIR1302-2  </td><td>3</td><td>HGNC:35294         </td></tr>\n",
       "</tbody>\n",
       "</table>\n"
      ],
      "text/latex": [
       "A tibble: 6 × 9\n",
       "\\begin{tabular}{lllllllll}\n",
       " Chrom & Start & End & Name & Score & Strand & Gene\\_Symbol & X & Note\\\\\n",
       " <chr> & <dbl> & <dbl> & <chr> & <chr> & <chr> & <chr> & <dbl> & <chr>\\\\\n",
       "\\hline\n",
       "\t chr1 & 11868 & 14409 & ENSG00000290825.1 & . & + & DDX11L2     & 2 & overlaps\\_pseudogene\\\\\n",
       "\t chr1 & 12009 & 13670 & ENSG00000223972.6 & . & + & DDX11L1     & 2 & HGNC:37102         \\\\\n",
       "\t chr1 & 14403 & 29570 & ENSG00000227232.5 & . & - & WASH7P      & 2 & HGNC:38034         \\\\\n",
       "\t chr1 & 17368 & 17436 & ENSG00000278267.1 & . & - & MIR6859-1   & 3 & HGNC:50039         \\\\\n",
       "\t chr1 & 29553 & 31109 & ENSG00000243485.5 & . & + & MIR1302-2HG & 2 & HGNC:52482         \\\\\n",
       "\t chr1 & 30365 & 30503 & ENSG00000284332.1 & . & + & MIR1302-2   & 3 & HGNC:35294         \\\\\n",
       "\\end{tabular}\n"
      ],
      "text/markdown": [
       "\n",
       "A tibble: 6 × 9\n",
       "\n",
       "| Chrom &lt;chr&gt; | Start &lt;dbl&gt; | End &lt;dbl&gt; | Name &lt;chr&gt; | Score &lt;chr&gt; | Strand &lt;chr&gt; | Gene_Symbol &lt;chr&gt; | X &lt;dbl&gt; | Note &lt;chr&gt; |\n",
       "|---|---|---|---|---|---|---|---|---|\n",
       "| chr1 | 11868 | 14409 | ENSG00000290825.1 | . | + | DDX11L2     | 2 | overlaps_pseudogene |\n",
       "| chr1 | 12009 | 13670 | ENSG00000223972.6 | . | + | DDX11L1     | 2 | HGNC:37102          |\n",
       "| chr1 | 14403 | 29570 | ENSG00000227232.5 | . | - | WASH7P      | 2 | HGNC:38034          |\n",
       "| chr1 | 17368 | 17436 | ENSG00000278267.1 | . | - | MIR6859-1   | 3 | HGNC:50039          |\n",
       "| chr1 | 29553 | 31109 | ENSG00000243485.5 | . | + | MIR1302-2HG | 2 | HGNC:52482          |\n",
       "| chr1 | 30365 | 30503 | ENSG00000284332.1 | . | + | MIR1302-2   | 3 | HGNC:35294          |\n",
       "\n"
      ],
      "text/plain": [
       "  Chrom Start End   Name              Score Strand Gene_Symbol X\n",
       "1 chr1  11868 14409 ENSG00000290825.1 .     +      DDX11L2     2\n",
       "2 chr1  12009 13670 ENSG00000223972.6 .     +      DDX11L1     2\n",
       "3 chr1  14403 29570 ENSG00000227232.5 .     -      WASH7P      2\n",
       "4 chr1  17368 17436 ENSG00000278267.1 .     -      MIR6859-1   3\n",
       "5 chr1  29553 31109 ENSG00000243485.5 .     +      MIR1302-2HG 2\n",
       "6 chr1  30365 30503 ENSG00000284332.1 .     +      MIR1302-2   3\n",
       "  Note               \n",
       "1 overlaps_pseudogene\n",
       "2 HGNC:37102         \n",
       "3 HGNC:38034         \n",
       "4 HGNC:50039         \n",
       "5 HGNC:52482         \n",
       "6 HGNC:35294         "
      ]
     },
     "metadata": {},
     "output_type": "display_data"
    }
   ],
   "source": [
    "fdiry = \"/data/reddylab/Reference_Data/Gencode/v42\"\n",
    "fname = \"gencode.v42.basic.annotation.genes.bed\"\n",
    "fpath = file.path(fdiry, fname)\n",
    "\n",
    "cnames = c(\"Chrom\", \"Start\", \"End\", \"Name\", \"Score\", \"Strand\", \"Gene_Symbol\", \"X\", \"Note\")\n",
    "dat = read_tsv(fpath, col_names = cnames, comment = \"##\")\n",
    "\n",
    "dat_gencode_gene = dat\n",
    "print(dim(dat))\n",
    "head(dat)"
   ]
  },
  {
   "cell_type": "code",
   "execution_count": 16,
   "metadata": {},
   "outputs": [
    {
     "name": "stderr",
     "output_type": "stream",
     "text": [
      "Warning message:\n",
      "“\u001b[1m\u001b[22mOne or more parsing issues, call `problems()` on your data frame\n",
      "for details, e.g.:\n",
      "  dat <- vroom(...)\n",
      "  problems(dat)”\n",
      "\u001b[1mRows: \u001b[22m\u001b[34m62696\u001b[39m \u001b[1mColumns: \u001b[22m\u001b[34m9\u001b[39m\n",
      "\u001b[36m──\u001b[39m \u001b[1mColumn specification\u001b[22m \u001b[36m─────────────────────────────────────────\u001b[39m\n",
      "\u001b[1mDelimiter:\u001b[22m \"\\t\"\n",
      "\u001b[31mchr\u001b[39m (6): Chrom, Name, Score, Strand, Gene_Symbol, Note\n",
      "\u001b[32mdbl\u001b[39m (3): Start, End, X\n",
      "\n",
      "\u001b[36mℹ\u001b[39m Use `spec()` to retrieve the full column specification for this data.\n",
      "\u001b[36mℹ\u001b[39m Specify the column types or set `show_col_types = FALSE` to quiet this message.\n"
     ]
    },
    {
     "name": "stdout",
     "output_type": "stream",
     "text": [
      "[1] 62696     9\n"
     ]
    },
    {
     "data": {
      "text/html": [
       "<table class=\"dataframe\">\n",
       "<caption>A tibble: 6 × 9</caption>\n",
       "<thead>\n",
       "\t<tr><th scope=col>Chrom</th><th scope=col>Start</th><th scope=col>End</th><th scope=col>Name</th><th scope=col>Score</th><th scope=col>Strand</th><th scope=col>Gene_Symbol</th><th scope=col>X</th><th scope=col>Note</th></tr>\n",
       "\t<tr><th scope=col>&lt;chr&gt;</th><th scope=col>&lt;dbl&gt;</th><th scope=col>&lt;dbl&gt;</th><th scope=col>&lt;chr&gt;</th><th scope=col>&lt;chr&gt;</th><th scope=col>&lt;chr&gt;</th><th scope=col>&lt;chr&gt;</th><th scope=col>&lt;dbl&gt;</th><th scope=col>&lt;chr&gt;</th></tr>\n",
       "</thead>\n",
       "<tbody>\n",
       "\t<tr><td>chr1</td><td>11868</td><td>11869</td><td>ENSG00000290825.1</td><td>.</td><td>+</td><td>DDX11L2    </td><td>2</td><td>overlaps_pseudogene</td></tr>\n",
       "\t<tr><td>chr1</td><td>12009</td><td>12010</td><td>ENSG00000223972.6</td><td>.</td><td>+</td><td>DDX11L1    </td><td>2</td><td>HGNC:37102         </td></tr>\n",
       "\t<tr><td>chr1</td><td>29570</td><td>29571</td><td>ENSG00000227232.5</td><td>.</td><td>-</td><td>WASH7P     </td><td>2</td><td>HGNC:38034         </td></tr>\n",
       "\t<tr><td>chr1</td><td>17436</td><td>17437</td><td>ENSG00000278267.1</td><td>.</td><td>-</td><td>MIR6859-1  </td><td>3</td><td>HGNC:50039         </td></tr>\n",
       "\t<tr><td>chr1</td><td>29553</td><td>29554</td><td>ENSG00000243485.5</td><td>.</td><td>+</td><td>MIR1302-2HG</td><td>2</td><td>HGNC:52482         </td></tr>\n",
       "\t<tr><td>chr1</td><td>30365</td><td>30366</td><td>ENSG00000284332.1</td><td>.</td><td>+</td><td>MIR1302-2  </td><td>3</td><td>HGNC:35294         </td></tr>\n",
       "</tbody>\n",
       "</table>\n"
      ],
      "text/latex": [
       "A tibble: 6 × 9\n",
       "\\begin{tabular}{lllllllll}\n",
       " Chrom & Start & End & Name & Score & Strand & Gene\\_Symbol & X & Note\\\\\n",
       " <chr> & <dbl> & <dbl> & <chr> & <chr> & <chr> & <chr> & <dbl> & <chr>\\\\\n",
       "\\hline\n",
       "\t chr1 & 11868 & 11869 & ENSG00000290825.1 & . & + & DDX11L2     & 2 & overlaps\\_pseudogene\\\\\n",
       "\t chr1 & 12009 & 12010 & ENSG00000223972.6 & . & + & DDX11L1     & 2 & HGNC:37102         \\\\\n",
       "\t chr1 & 29570 & 29571 & ENSG00000227232.5 & . & - & WASH7P      & 2 & HGNC:38034         \\\\\n",
       "\t chr1 & 17436 & 17437 & ENSG00000278267.1 & . & - & MIR6859-1   & 3 & HGNC:50039         \\\\\n",
       "\t chr1 & 29553 & 29554 & ENSG00000243485.5 & . & + & MIR1302-2HG & 2 & HGNC:52482         \\\\\n",
       "\t chr1 & 30365 & 30366 & ENSG00000284332.1 & . & + & MIR1302-2   & 3 & HGNC:35294         \\\\\n",
       "\\end{tabular}\n"
      ],
      "text/markdown": [
       "\n",
       "A tibble: 6 × 9\n",
       "\n",
       "| Chrom &lt;chr&gt; | Start &lt;dbl&gt; | End &lt;dbl&gt; | Name &lt;chr&gt; | Score &lt;chr&gt; | Strand &lt;chr&gt; | Gene_Symbol &lt;chr&gt; | X &lt;dbl&gt; | Note &lt;chr&gt; |\n",
       "|---|---|---|---|---|---|---|---|---|\n",
       "| chr1 | 11868 | 11869 | ENSG00000290825.1 | . | + | DDX11L2     | 2 | overlaps_pseudogene |\n",
       "| chr1 | 12009 | 12010 | ENSG00000223972.6 | . | + | DDX11L1     | 2 | HGNC:37102          |\n",
       "| chr1 | 29570 | 29571 | ENSG00000227232.5 | . | - | WASH7P      | 2 | HGNC:38034          |\n",
       "| chr1 | 17436 | 17437 | ENSG00000278267.1 | . | - | MIR6859-1   | 3 | HGNC:50039          |\n",
       "| chr1 | 29553 | 29554 | ENSG00000243485.5 | . | + | MIR1302-2HG | 2 | HGNC:52482          |\n",
       "| chr1 | 30365 | 30366 | ENSG00000284332.1 | . | + | MIR1302-2   | 3 | HGNC:35294          |\n",
       "\n"
      ],
      "text/plain": [
       "  Chrom Start End   Name              Score Strand Gene_Symbol X\n",
       "1 chr1  11868 11869 ENSG00000290825.1 .     +      DDX11L2     2\n",
       "2 chr1  12009 12010 ENSG00000223972.6 .     +      DDX11L1     2\n",
       "3 chr1  29570 29571 ENSG00000227232.5 .     -      WASH7P      2\n",
       "4 chr1  17436 17437 ENSG00000278267.1 .     -      MIR6859-1   3\n",
       "5 chr1  29553 29554 ENSG00000243485.5 .     +      MIR1302-2HG 2\n",
       "6 chr1  30365 30366 ENSG00000284332.1 .     +      MIR1302-2   3\n",
       "  Note               \n",
       "1 overlaps_pseudogene\n",
       "2 HGNC:37102         \n",
       "3 HGNC:38034         \n",
       "4 HGNC:50039         \n",
       "5 HGNC:52482         \n",
       "6 HGNC:35294         "
      ]
     },
     "metadata": {},
     "output_type": "display_data"
    }
   ],
   "source": [
    "fdiry = \"/data/reddylab/Reference_Data/Gencode/v42\"\n",
    "fname = \"gencode.v42.basic.annotation.tss.bed\"\n",
    "fpath = file.path(fdiry, fname)\n",
    "\n",
    "cnames = c(\"Chrom\", \"Start\", \"End\", \"Name\", \"Score\", \"Strand\", \"Gene_Symbol\", \"X\", \"Note\")\n",
    "dat = read_tsv(fpath, col_names = cnames)\n",
    "\n",
    "dat_gencode_tss = dat\n",
    "print(dim(dat))\n",
    "head(dat)"
   ]
  },
  {
   "cell_type": "markdown",
   "metadata": {},
   "source": [
    "chr11:5505652-5505653"
   ]
  },
  {
   "cell_type": "code",
   "execution_count": 17,
   "metadata": {},
   "outputs": [
    {
     "data": {
      "text/html": [
       "<table class=\"dataframe\">\n",
       "<caption>A spec_tbl_df: 1 × 9</caption>\n",
       "<thead>\n",
       "\t<tr><th scope=col>Chrom</th><th scope=col>Start</th><th scope=col>End</th><th scope=col>Name</th><th scope=col>Score</th><th scope=col>Strand</th><th scope=col>Gene_Symbol</th><th scope=col>X</th><th scope=col>Note</th></tr>\n",
       "\t<tr><th scope=col>&lt;chr&gt;</th><th scope=col>&lt;dbl&gt;</th><th scope=col>&lt;dbl&gt;</th><th scope=col>&lt;chr&gt;</th><th scope=col>&lt;chr&gt;</th><th scope=col>&lt;chr&gt;</th><th scope=col>&lt;chr&gt;</th><th scope=col>&lt;dbl&gt;</th><th scope=col>&lt;chr&gt;</th></tr>\n",
       "</thead>\n",
       "<tbody>\n",
       "\t<tr><td>chr11</td><td>5505652</td><td>5505653</td><td>ENSG00000213931.7</td><td>.</td><td>-</td><td>HBE1</td><td>2</td><td>HGNC:4830</td></tr>\n",
       "</tbody>\n",
       "</table>\n"
      ],
      "text/latex": [
       "A spec\\_tbl\\_df: 1 × 9\n",
       "\\begin{tabular}{lllllllll}\n",
       " Chrom & Start & End & Name & Score & Strand & Gene\\_Symbol & X & Note\\\\\n",
       " <chr> & <dbl> & <dbl> & <chr> & <chr> & <chr> & <chr> & <dbl> & <chr>\\\\\n",
       "\\hline\n",
       "\t chr11 & 5505652 & 5505653 & ENSG00000213931.7 & . & - & HBE1 & 2 & HGNC:4830\\\\\n",
       "\\end{tabular}\n"
      ],
      "text/markdown": [
       "\n",
       "A spec_tbl_df: 1 × 9\n",
       "\n",
       "| Chrom &lt;chr&gt; | Start &lt;dbl&gt; | End &lt;dbl&gt; | Name &lt;chr&gt; | Score &lt;chr&gt; | Strand &lt;chr&gt; | Gene_Symbol &lt;chr&gt; | X &lt;dbl&gt; | Note &lt;chr&gt; |\n",
       "|---|---|---|---|---|---|---|---|---|\n",
       "| chr11 | 5505652 | 5505653 | ENSG00000213931.7 | . | - | HBE1 | 2 | HGNC:4830 |\n",
       "\n"
      ],
      "text/plain": [
       "  Chrom Start   End     Name              Score Strand Gene_Symbol X Note     \n",
       "1 chr11 5505652 5505653 ENSG00000213931.7 .     -      HBE1        2 HGNC:4830"
      ]
     },
     "metadata": {},
     "output_type": "display_data"
    }
   ],
   "source": [
    "dat = dat_gencode_tss\n",
    "dat %>% dplyr::filter(Gene_Symbol == \"HBE1\")"
   ]
  },
  {
   "cell_type": "code",
   "execution_count": 18,
   "metadata": {},
   "outputs": [
    {
     "data": {
      "text/html": [
       "<table class=\"dataframe\">\n",
       "<caption>A spec_tbl_df: 1 × 9</caption>\n",
       "<thead>\n",
       "\t<tr><th scope=col>Chrom</th><th scope=col>Start</th><th scope=col>End</th><th scope=col>Name</th><th scope=col>Score</th><th scope=col>Strand</th><th scope=col>Gene_Symbol</th><th scope=col>X</th><th scope=col>Note</th></tr>\n",
       "\t<tr><th scope=col>&lt;chr&gt;</th><th scope=col>&lt;dbl&gt;</th><th scope=col>&lt;dbl&gt;</th><th scope=col>&lt;chr&gt;</th><th scope=col>&lt;chr&gt;</th><th scope=col>&lt;chr&gt;</th><th scope=col>&lt;chr&gt;</th><th scope=col>&lt;dbl&gt;</th><th scope=col>&lt;chr&gt;</th></tr>\n",
       "</thead>\n",
       "<tbody>\n",
       "\t<tr><td>chr11</td><td>5268344</td><td>5505652</td><td>ENSG00000213931.7</td><td>.</td><td>-</td><td>HBE1</td><td>2</td><td>HGNC:4830</td></tr>\n",
       "</tbody>\n",
       "</table>\n"
      ],
      "text/latex": [
       "A spec\\_tbl\\_df: 1 × 9\n",
       "\\begin{tabular}{lllllllll}\n",
       " Chrom & Start & End & Name & Score & Strand & Gene\\_Symbol & X & Note\\\\\n",
       " <chr> & <dbl> & <dbl> & <chr> & <chr> & <chr> & <chr> & <dbl> & <chr>\\\\\n",
       "\\hline\n",
       "\t chr11 & 5268344 & 5505652 & ENSG00000213931.7 & . & - & HBE1 & 2 & HGNC:4830\\\\\n",
       "\\end{tabular}\n"
      ],
      "text/markdown": [
       "\n",
       "A spec_tbl_df: 1 × 9\n",
       "\n",
       "| Chrom &lt;chr&gt; | Start &lt;dbl&gt; | End &lt;dbl&gt; | Name &lt;chr&gt; | Score &lt;chr&gt; | Strand &lt;chr&gt; | Gene_Symbol &lt;chr&gt; | X &lt;dbl&gt; | Note &lt;chr&gt; |\n",
       "|---|---|---|---|---|---|---|---|---|\n",
       "| chr11 | 5268344 | 5505652 | ENSG00000213931.7 | . | - | HBE1 | 2 | HGNC:4830 |\n",
       "\n"
      ],
      "text/plain": [
       "  Chrom Start   End     Name              Score Strand Gene_Symbol X Note     \n",
       "1 chr11 5268344 5505652 ENSG00000213931.7 .     -      HBE1        2 HGNC:4830"
      ]
     },
     "metadata": {},
     "output_type": "display_data"
    }
   ],
   "source": [
    "dat = dat_gencode_gene\n",
    "dat %>% dplyr::filter(Gene_Symbol == \"HBE1\")"
   ]
  },
  {
   "cell_type": "markdown",
   "metadata": {},
   "source": [
    "## Create TSS and TES table from Gene table"
   ]
  },
  {
   "cell_type": "code",
   "execution_count": 7,
   "metadata": {},
   "outputs": [
    {
     "name": "stdout",
     "output_type": "stream",
     "text": [
      "[1] 62696     9\n"
     ]
    },
    {
     "data": {
      "text/html": [
       "<table class=\"dataframe\">\n",
       "<caption>A rowwise_df: 6 × 9</caption>\n",
       "<thead>\n",
       "\t<tr><th scope=col>Chrom</th><th scope=col>Start</th><th scope=col>End</th><th scope=col>Name</th><th scope=col>Score</th><th scope=col>Strand</th><th scope=col>Gene_Symbol</th><th scope=col>X</th><th scope=col>Note</th></tr>\n",
       "\t<tr><th scope=col>&lt;chr&gt;</th><th scope=col>&lt;dbl&gt;</th><th scope=col>&lt;dbl&gt;</th><th scope=col>&lt;chr&gt;</th><th scope=col>&lt;chr&gt;</th><th scope=col>&lt;chr&gt;</th><th scope=col>&lt;chr&gt;</th><th scope=col>&lt;dbl&gt;</th><th scope=col>&lt;chr&gt;</th></tr>\n",
       "</thead>\n",
       "<tbody>\n",
       "\t<tr><td>chr1</td><td>11868</td><td>11869</td><td>ENSG00000290825.1</td><td>.</td><td>+</td><td>DDX11L2    </td><td>2</td><td>overlaps_pseudogene</td></tr>\n",
       "\t<tr><td>chr1</td><td>12009</td><td>12010</td><td>ENSG00000223972.6</td><td>.</td><td>+</td><td>DDX11L1    </td><td>2</td><td>HGNC:37102         </td></tr>\n",
       "\t<tr><td>chr1</td><td>29570</td><td>29571</td><td>ENSG00000227232.5</td><td>.</td><td>-</td><td>WASH7P     </td><td>2</td><td>HGNC:38034         </td></tr>\n",
       "\t<tr><td>chr1</td><td>17436</td><td>17437</td><td>ENSG00000278267.1</td><td>.</td><td>-</td><td>MIR6859-1  </td><td>3</td><td>HGNC:50039         </td></tr>\n",
       "\t<tr><td>chr1</td><td>29553</td><td>29554</td><td>ENSG00000243485.5</td><td>.</td><td>+</td><td>MIR1302-2HG</td><td>2</td><td>HGNC:52482         </td></tr>\n",
       "\t<tr><td>chr1</td><td>30365</td><td>30366</td><td>ENSG00000284332.1</td><td>.</td><td>+</td><td>MIR1302-2  </td><td>3</td><td>HGNC:35294         </td></tr>\n",
       "</tbody>\n",
       "</table>\n"
      ],
      "text/latex": [
       "A rowwise\\_df: 6 × 9\n",
       "\\begin{tabular}{lllllllll}\n",
       " Chrom & Start & End & Name & Score & Strand & Gene\\_Symbol & X & Note\\\\\n",
       " <chr> & <dbl> & <dbl> & <chr> & <chr> & <chr> & <chr> & <dbl> & <chr>\\\\\n",
       "\\hline\n",
       "\t chr1 & 11868 & 11869 & ENSG00000290825.1 & . & + & DDX11L2     & 2 & overlaps\\_pseudogene\\\\\n",
       "\t chr1 & 12009 & 12010 & ENSG00000223972.6 & . & + & DDX11L1     & 2 & HGNC:37102         \\\\\n",
       "\t chr1 & 29570 & 29571 & ENSG00000227232.5 & . & - & WASH7P      & 2 & HGNC:38034         \\\\\n",
       "\t chr1 & 17436 & 17437 & ENSG00000278267.1 & . & - & MIR6859-1   & 3 & HGNC:50039         \\\\\n",
       "\t chr1 & 29553 & 29554 & ENSG00000243485.5 & . & + & MIR1302-2HG & 2 & HGNC:52482         \\\\\n",
       "\t chr1 & 30365 & 30366 & ENSG00000284332.1 & . & + & MIR1302-2   & 3 & HGNC:35294         \\\\\n",
       "\\end{tabular}\n"
      ],
      "text/markdown": [
       "\n",
       "A rowwise_df: 6 × 9\n",
       "\n",
       "| Chrom &lt;chr&gt; | Start &lt;dbl&gt; | End &lt;dbl&gt; | Name &lt;chr&gt; | Score &lt;chr&gt; | Strand &lt;chr&gt; | Gene_Symbol &lt;chr&gt; | X &lt;dbl&gt; | Note &lt;chr&gt; |\n",
       "|---|---|---|---|---|---|---|---|---|\n",
       "| chr1 | 11868 | 11869 | ENSG00000290825.1 | . | + | DDX11L2     | 2 | overlaps_pseudogene |\n",
       "| chr1 | 12009 | 12010 | ENSG00000223972.6 | . | + | DDX11L1     | 2 | HGNC:37102          |\n",
       "| chr1 | 29570 | 29571 | ENSG00000227232.5 | . | - | WASH7P      | 2 | HGNC:38034          |\n",
       "| chr1 | 17436 | 17437 | ENSG00000278267.1 | . | - | MIR6859-1   | 3 | HGNC:50039          |\n",
       "| chr1 | 29553 | 29554 | ENSG00000243485.5 | . | + | MIR1302-2HG | 2 | HGNC:52482          |\n",
       "| chr1 | 30365 | 30366 | ENSG00000284332.1 | . | + | MIR1302-2   | 3 | HGNC:35294          |\n",
       "\n"
      ],
      "text/plain": [
       "  Chrom Start End   Name              Score Strand Gene_Symbol X\n",
       "1 chr1  11868 11869 ENSG00000290825.1 .     +      DDX11L2     2\n",
       "2 chr1  12009 12010 ENSG00000223972.6 .     +      DDX11L1     2\n",
       "3 chr1  29570 29571 ENSG00000227232.5 .     -      WASH7P      2\n",
       "4 chr1  17436 17437 ENSG00000278267.1 .     -      MIR6859-1   3\n",
       "5 chr1  29553 29554 ENSG00000243485.5 .     +      MIR1302-2HG 2\n",
       "6 chr1  30365 30366 ENSG00000284332.1 .     +      MIR1302-2   3\n",
       "  Note               \n",
       "1 overlaps_pseudogene\n",
       "2 HGNC:37102         \n",
       "3 HGNC:38034         \n",
       "4 HGNC:50039         \n",
       "5 HGNC:52482         \n",
       "6 HGNC:35294         "
      ]
     },
     "metadata": {},
     "output_type": "display_data"
    }
   ],
   "source": [
    "dat = dat_gencode_gene\n",
    "dat = dat %>%\n",
    "    dplyr::rowwise() %>%\n",
    "    dplyr::mutate(\n",
    "        Loc = ifelse(\n",
    "            Strand == \"+\",\n",
    "            Start,\n",
    "            End\n",
    "        )) %>%\n",
    "    dplyr::mutate(\n",
    "        Start = Loc,\n",
    "        End   = Loc + 1\n",
    "    ) %>%\n",
    "    dplyr::select(-Loc)\n",
    "\n",
    "dat_tss = dat\n",
    "print(dim(dat))\n",
    "head(dat)"
   ]
  },
  {
   "cell_type": "code",
   "execution_count": 8,
   "metadata": {},
   "outputs": [
    {
     "name": "stdout",
     "output_type": "stream",
     "text": [
      "[1] 62696     9\n"
     ]
    },
    {
     "data": {
      "text/html": [
       "<table class=\"dataframe\">\n",
       "<caption>A rowwise_df: 6 × 9</caption>\n",
       "<thead>\n",
       "\t<tr><th scope=col>Chrom</th><th scope=col>Start</th><th scope=col>End</th><th scope=col>Name</th><th scope=col>Score</th><th scope=col>Strand</th><th scope=col>Gene_Symbol</th><th scope=col>X</th><th scope=col>Note</th></tr>\n",
       "\t<tr><th scope=col>&lt;chr&gt;</th><th scope=col>&lt;dbl&gt;</th><th scope=col>&lt;dbl&gt;</th><th scope=col>&lt;chr&gt;</th><th scope=col>&lt;chr&gt;</th><th scope=col>&lt;chr&gt;</th><th scope=col>&lt;chr&gt;</th><th scope=col>&lt;dbl&gt;</th><th scope=col>&lt;chr&gt;</th></tr>\n",
       "</thead>\n",
       "<tbody>\n",
       "\t<tr><td>chr1</td><td>14409</td><td>14410</td><td>ENSG00000290825.1</td><td>.</td><td>+</td><td>DDX11L2    </td><td>2</td><td>overlaps_pseudogene</td></tr>\n",
       "\t<tr><td>chr1</td><td>13670</td><td>13671</td><td>ENSG00000223972.6</td><td>.</td><td>+</td><td>DDX11L1    </td><td>2</td><td>HGNC:37102         </td></tr>\n",
       "\t<tr><td>chr1</td><td>14403</td><td>14404</td><td>ENSG00000227232.5</td><td>.</td><td>-</td><td>WASH7P     </td><td>2</td><td>HGNC:38034         </td></tr>\n",
       "\t<tr><td>chr1</td><td>17368</td><td>17369</td><td>ENSG00000278267.1</td><td>.</td><td>-</td><td>MIR6859-1  </td><td>3</td><td>HGNC:50039         </td></tr>\n",
       "\t<tr><td>chr1</td><td>31109</td><td>31110</td><td>ENSG00000243485.5</td><td>.</td><td>+</td><td>MIR1302-2HG</td><td>2</td><td>HGNC:52482         </td></tr>\n",
       "\t<tr><td>chr1</td><td>30503</td><td>30504</td><td>ENSG00000284332.1</td><td>.</td><td>+</td><td>MIR1302-2  </td><td>3</td><td>HGNC:35294         </td></tr>\n",
       "</tbody>\n",
       "</table>\n"
      ],
      "text/latex": [
       "A rowwise\\_df: 6 × 9\n",
       "\\begin{tabular}{lllllllll}\n",
       " Chrom & Start & End & Name & Score & Strand & Gene\\_Symbol & X & Note\\\\\n",
       " <chr> & <dbl> & <dbl> & <chr> & <chr> & <chr> & <chr> & <dbl> & <chr>\\\\\n",
       "\\hline\n",
       "\t chr1 & 14409 & 14410 & ENSG00000290825.1 & . & + & DDX11L2     & 2 & overlaps\\_pseudogene\\\\\n",
       "\t chr1 & 13670 & 13671 & ENSG00000223972.6 & . & + & DDX11L1     & 2 & HGNC:37102         \\\\\n",
       "\t chr1 & 14403 & 14404 & ENSG00000227232.5 & . & - & WASH7P      & 2 & HGNC:38034         \\\\\n",
       "\t chr1 & 17368 & 17369 & ENSG00000278267.1 & . & - & MIR6859-1   & 3 & HGNC:50039         \\\\\n",
       "\t chr1 & 31109 & 31110 & ENSG00000243485.5 & . & + & MIR1302-2HG & 2 & HGNC:52482         \\\\\n",
       "\t chr1 & 30503 & 30504 & ENSG00000284332.1 & . & + & MIR1302-2   & 3 & HGNC:35294         \\\\\n",
       "\\end{tabular}\n"
      ],
      "text/markdown": [
       "\n",
       "A rowwise_df: 6 × 9\n",
       "\n",
       "| Chrom &lt;chr&gt; | Start &lt;dbl&gt; | End &lt;dbl&gt; | Name &lt;chr&gt; | Score &lt;chr&gt; | Strand &lt;chr&gt; | Gene_Symbol &lt;chr&gt; | X &lt;dbl&gt; | Note &lt;chr&gt; |\n",
       "|---|---|---|---|---|---|---|---|---|\n",
       "| chr1 | 14409 | 14410 | ENSG00000290825.1 | . | + | DDX11L2     | 2 | overlaps_pseudogene |\n",
       "| chr1 | 13670 | 13671 | ENSG00000223972.6 | . | + | DDX11L1     | 2 | HGNC:37102          |\n",
       "| chr1 | 14403 | 14404 | ENSG00000227232.5 | . | - | WASH7P      | 2 | HGNC:38034          |\n",
       "| chr1 | 17368 | 17369 | ENSG00000278267.1 | . | - | MIR6859-1   | 3 | HGNC:50039          |\n",
       "| chr1 | 31109 | 31110 | ENSG00000243485.5 | . | + | MIR1302-2HG | 2 | HGNC:52482          |\n",
       "| chr1 | 30503 | 30504 | ENSG00000284332.1 | . | + | MIR1302-2   | 3 | HGNC:35294          |\n",
       "\n"
      ],
      "text/plain": [
       "  Chrom Start End   Name              Score Strand Gene_Symbol X\n",
       "1 chr1  14409 14410 ENSG00000290825.1 .     +      DDX11L2     2\n",
       "2 chr1  13670 13671 ENSG00000223972.6 .     +      DDX11L1     2\n",
       "3 chr1  14403 14404 ENSG00000227232.5 .     -      WASH7P      2\n",
       "4 chr1  17368 17369 ENSG00000278267.1 .     -      MIR6859-1   3\n",
       "5 chr1  31109 31110 ENSG00000243485.5 .     +      MIR1302-2HG 2\n",
       "6 chr1  30503 30504 ENSG00000284332.1 .     +      MIR1302-2   3\n",
       "  Note               \n",
       "1 overlaps_pseudogene\n",
       "2 HGNC:37102         \n",
       "3 HGNC:38034         \n",
       "4 HGNC:50039         \n",
       "5 HGNC:52482         \n",
       "6 HGNC:35294         "
      ]
     },
     "metadata": {},
     "output_type": "display_data"
    }
   ],
   "source": [
    "dat = dat_gencode_gene\n",
    "dat = dat %>%\n",
    "    dplyr::rowwise() %>%\n",
    "    dplyr::mutate(\n",
    "        Loc = ifelse(\n",
    "            Strand == \"+\",\n",
    "            End,\n",
    "            Start\n",
    "        )) %>%\n",
    "    dplyr::mutate(\n",
    "        Start = Loc,\n",
    "        End   = Loc + 1\n",
    "    ) %>%\n",
    "    dplyr::select(-Loc)\n",
    "\n",
    "dat_tes = dat\n",
    "print(dim(dat))\n",
    "head(dat)"
   ]
  },
  {
   "cell_type": "markdown",
   "metadata": {},
   "source": [
    "**Double check**"
   ]
  },
  {
   "cell_type": "code",
   "execution_count": 9,
   "metadata": {},
   "outputs": [
    {
     "data": {
      "text/html": [
       "TRUE"
      ],
      "text/latex": [
       "TRUE"
      ],
      "text/markdown": [
       "TRUE"
      ],
      "text/plain": [
       "[1] TRUE"
      ]
     },
     "metadata": {},
     "output_type": "display_data"
    }
   ],
   "source": [
    "all(dat_tss$Start == dat_gencode_tss$Start)"
   ]
  },
  {
   "cell_type": "markdown",
   "metadata": {},
   "source": [
    "## Save tables"
   ]
  },
  {
   "cell_type": "code",
   "execution_count": 11,
   "metadata": {},
   "outputs": [
    {
     "name": "stdout",
     "output_type": "stream",
     "text": [
      "[1] \"/data/reddylab/Kuei/out/proj_combeffect_encode_fcc/results/region/annotation_gencode/gencode.v42.basic.annotation.tss.bed\"\n"
     ]
    }
   ],
   "source": [
    "fdiry = file.path(FD_RES, \"results\", \"region\", \"annotation_gencode\")\n",
    "fname = \"gencode.v42.basic.annotation.tss.bed\"\n",
    "fpath = file.path(fdiry, fname)\n",
    "print(fpath)\n",
    "\n",
    "dat = dat_tss\n",
    "write_tsv(dat, fpath, col_names = FALSE)"
   ]
  },
  {
   "cell_type": "code",
   "execution_count": 12,
   "metadata": {},
   "outputs": [
    {
     "name": "stdout",
     "output_type": "stream",
     "text": [
      "[1] \"/data/reddylab/Kuei/out/proj_combeffect_encode_fcc/results/region/annotation_gencode/gencode.v42.basic.annotation.tes.bed\"\n"
     ]
    }
   ],
   "source": [
    "fdiry = file.path(FD_RES, \"results\", \"region\", \"annotation_gencode\")\n",
    "fname = \"gencode.v42.basic.annotation.tes.bed\"\n",
    "fpath = file.path(fdiry, fname)\n",
    "print(fpath)\n",
    "\n",
    "dat = dat_tes\n",
    "write_tsv(dat, fpath, col_names = FALSE)"
   ]
  },
  {
   "cell_type": "code",
   "execution_count": null,
   "metadata": {},
   "outputs": [],
   "source": []
  }
 ],
 "metadata": {
  "kernelspec": {
   "display_name": "R",
   "language": "R",
   "name": "ir"
  },
  "language_info": {
   "codemirror_mode": "r",
   "file_extension": ".r",
   "mimetype": "text/x-r-source",
   "name": "R",
   "pygments_lexer": "r",
   "version": "4.3.0"
  }
 },
 "nbformat": 4,
 "nbformat_minor": 4
}
