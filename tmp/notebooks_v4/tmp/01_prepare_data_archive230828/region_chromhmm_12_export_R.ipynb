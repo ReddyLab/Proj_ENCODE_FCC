{
 "cells": [
  {
   "cell_type": "markdown",
   "metadata": {},
   "source": [
    "**Set environment**"
   ]
  },
  {
   "cell_type": "code",
   "execution_count": 1,
   "metadata": {},
   "outputs": [
    {
     "name": "stdout",
     "output_type": "stream",
     "text": [
      "You are in Singularity: singularity_proj_encode_fcc \n",
      "BASE DIRECTORY (FD_BASE): /data/reddylab/Kuei \n",
      "WORK DIRECTORY (FD_WORK): /data/reddylab/Kuei/out \n",
      "CODE DIRECTORY (FD_CODE): /data/reddylab/Kuei/code \n",
      "PATH OF PROJECT (FD_PRJ): /data/reddylab/Kuei/code/Proj_CombEffect_ENCODE_FCC \n",
      "PATH OF RESULTS (FD_RES): /data/reddylab/Kuei/out/proj_combeffect_encode_fcc \n",
      "PATH OF LOG     (FD_LOG): /data/reddylab/Kuei/out/proj_combeffect_encode_fcc/log \n"
     ]
    }
   ],
   "source": [
    "suppressWarnings(suppressMessages(source(\"../config/config_sing.R\")))\n",
    "show_env()"
   ]
  },
  {
   "cell_type": "markdown",
   "metadata": {},
   "source": [
    "**Check data**"
   ]
  },
  {
   "cell_type": "code",
   "execution_count": 4,
   "metadata": {},
   "outputs": [
    {
     "name": "stdout",
     "output_type": "stream",
     "text": [
      "[1] \"ChIP_ENCSR000EWA-ENCSR000AKP-ENCSR000EWC-ENCSR000DWB-ENCSR000EWB-ENCSR000APE.bb\"\n",
      "[2] \"Human epigenomes with ChromHMM state (DAC, Kaili Fan).xlsx\"                     \n",
      "[3] \"K562.ENCSR365YNI.ENCFF106BGJ.ChromHMM.bed.gz\"                                   \n",
      "[4] \"Readme.md\"                                                                      \n"
     ]
    }
   ],
   "source": [
    "fdiry = file.path(FD_RES, \"source\", \"annotation_chromHMM\")\n",
    "print(dir(fdiry))"
   ]
  },
  {
   "cell_type": "code",
   "execution_count": 5,
   "metadata": {},
   "outputs": [
    {
     "name": "stdout",
     "output_type": "stream",
     "text": [
      "[1] \"ChIP_ENCSR000EWA-ENCSR000AKP-ENCSR000EWC-ENCSR000DWB-ENCSR000EWB-ENCSR000APE.bed\"\n",
      "[2] \"description.tsv\"                                                                 \n",
      "[3] \"K562.ENCSR365YNI.ENCFF106BGJ.ChromHMM.bed.gz\"                                    \n"
     ]
    }
   ],
   "source": [
    "fdiry = file.path(FD_RES, \"results\", \"region\", \"annotation_chromHMM\")\n",
    "print(dir(fdiry))"
   ]
  },
  {
   "cell_type": "code",
   "execution_count": 7,
   "metadata": {},
   "outputs": [
    {
     "name": "stderr",
     "output_type": "stream",
     "text": [
      "\u001b[1mRows: \u001b[22m\u001b[34m429105\u001b[39m \u001b[1mColumns: \u001b[22m\u001b[34m9\u001b[39m\n",
      "\u001b[36m──\u001b[39m \u001b[1mColumn specification\u001b[22m \u001b[36m─────────────────────────────────────────────────────────────────────\u001b[39m\n",
      "\u001b[1mDelimiter:\u001b[22m \"\\t\"\n",
      "\u001b[31mchr\u001b[39m (4): X1, X4, X6, X9\n",
      "\u001b[32mdbl\u001b[39m (5): X2, X3, X5, X7, X8\n",
      "\n",
      "\u001b[36mℹ\u001b[39m Use `spec()` to retrieve the full column specification for this data.\n",
      "\u001b[36mℹ\u001b[39m Specify the column types or set `show_col_types = FALSE` to quiet this message.\n"
     ]
    },
    {
     "name": "stdout",
     "output_type": "stream",
     "text": [
      "[1] 429105      9\n"
     ]
    },
    {
     "data": {
      "text/html": [
       "<table class=\"dataframe\">\n",
       "<caption>A tibble: 6 × 9</caption>\n",
       "<thead>\n",
       "\t<tr><th scope=col>X1</th><th scope=col>X2</th><th scope=col>X3</th><th scope=col>X4</th><th scope=col>X5</th><th scope=col>X6</th><th scope=col>X7</th><th scope=col>X8</th><th scope=col>X9</th></tr>\n",
       "\t<tr><th scope=col>&lt;chr&gt;</th><th scope=col>&lt;dbl&gt;</th><th scope=col>&lt;dbl&gt;</th><th scope=col>&lt;chr&gt;</th><th scope=col>&lt;dbl&gt;</th><th scope=col>&lt;chr&gt;</th><th scope=col>&lt;dbl&gt;</th><th scope=col>&lt;dbl&gt;</th><th scope=col>&lt;chr&gt;</th></tr>\n",
       "</thead>\n",
       "<tbody>\n",
       "\t<tr><td>chr1</td><td>     0</td><td> 16000</td><td>Quies</td><td>1</td><td>.</td><td>     0</td><td> 16000</td><td>220,220,220</td></tr>\n",
       "\t<tr><td>chr1</td><td> 16000</td><td> 16200</td><td>TxWk </td><td>1</td><td>.</td><td> 16000</td><td> 16200</td><td>63,154,80  </td></tr>\n",
       "\t<tr><td>chr1</td><td> 16200</td><td> 17400</td><td>Quies</td><td>1</td><td>.</td><td> 16200</td><td> 17400</td><td>220,220,220</td></tr>\n",
       "\t<tr><td>chr1</td><td> 17400</td><td> 17600</td><td>TxWk </td><td>1</td><td>.</td><td> 17400</td><td> 17600</td><td>63,154,80  </td></tr>\n",
       "\t<tr><td>chr1</td><td> 17600</td><td>118400</td><td>Quies</td><td>1</td><td>.</td><td> 17600</td><td>118400</td><td>220,220,220</td></tr>\n",
       "\t<tr><td>chr1</td><td>118400</td><td>120200</td><td>Enh1 </td><td>1</td><td>.</td><td>118400</td><td>120200</td><td>255,223,0  </td></tr>\n",
       "</tbody>\n",
       "</table>\n"
      ],
      "text/latex": [
       "A tibble: 6 × 9\n",
       "\\begin{tabular}{lllllllll}\n",
       " X1 & X2 & X3 & X4 & X5 & X6 & X7 & X8 & X9\\\\\n",
       " <chr> & <dbl> & <dbl> & <chr> & <dbl> & <chr> & <dbl> & <dbl> & <chr>\\\\\n",
       "\\hline\n",
       "\t chr1 &      0 &  16000 & Quies & 1 & . &      0 &  16000 & 220,220,220\\\\\n",
       "\t chr1 &  16000 &  16200 & TxWk  & 1 & . &  16000 &  16200 & 63,154,80  \\\\\n",
       "\t chr1 &  16200 &  17400 & Quies & 1 & . &  16200 &  17400 & 220,220,220\\\\\n",
       "\t chr1 &  17400 &  17600 & TxWk  & 1 & . &  17400 &  17600 & 63,154,80  \\\\\n",
       "\t chr1 &  17600 & 118400 & Quies & 1 & . &  17600 & 118400 & 220,220,220\\\\\n",
       "\t chr1 & 118400 & 120200 & Enh1  & 1 & . & 118400 & 120200 & 255,223,0  \\\\\n",
       "\\end{tabular}\n"
      ],
      "text/markdown": [
       "\n",
       "A tibble: 6 × 9\n",
       "\n",
       "| X1 &lt;chr&gt; | X2 &lt;dbl&gt; | X3 &lt;dbl&gt; | X4 &lt;chr&gt; | X5 &lt;dbl&gt; | X6 &lt;chr&gt; | X7 &lt;dbl&gt; | X8 &lt;dbl&gt; | X9 &lt;chr&gt; |\n",
       "|---|---|---|---|---|---|---|---|---|\n",
       "| chr1 |      0 |  16000 | Quies | 1 | . |      0 |  16000 | 220,220,220 |\n",
       "| chr1 |  16000 |  16200 | TxWk  | 1 | . |  16000 |  16200 | 63,154,80   |\n",
       "| chr1 |  16200 |  17400 | Quies | 1 | . |  16200 |  17400 | 220,220,220 |\n",
       "| chr1 |  17400 |  17600 | TxWk  | 1 | . |  17400 |  17600 | 63,154,80   |\n",
       "| chr1 |  17600 | 118400 | Quies | 1 | . |  17600 | 118400 | 220,220,220 |\n",
       "| chr1 | 118400 | 120200 | Enh1  | 1 | . | 118400 | 120200 | 255,223,0   |\n",
       "\n"
      ],
      "text/plain": [
       "  X1   X2     X3     X4    X5 X6 X7     X8     X9         \n",
       "1 chr1      0  16000 Quies 1  .       0  16000 220,220,220\n",
       "2 chr1  16000  16200 TxWk  1  .   16000  16200 63,154,80  \n",
       "3 chr1  16200  17400 Quies 1  .   16200  17400 220,220,220\n",
       "4 chr1  17400  17600 TxWk  1  .   17400  17600 63,154,80  \n",
       "5 chr1  17600 118400 Quies 1  .   17600 118400 220,220,220\n",
       "6 chr1 118400 120200 Enh1  1  .  118400 120200 255,223,0  "
      ]
     },
     "metadata": {},
     "output_type": "display_data"
    }
   ],
   "source": [
    "fdiry = file.path(FD_RES, \"results\", \"region\", \"annotation_chromHMM\")\n",
    "fname = \"K562.ENCSR365YNI.ENCFF106BGJ.ChromHMM.bed.gz\"\n",
    "fpath = file.path(fdiry, fname)\n",
    "\n",
    "dat = read_tsv(fpath, col_names=FALSE)\n",
    "\n",
    "print(dim(dat))\n",
    "head(dat)"
   ]
  },
  {
   "cell_type": "code",
   "execution_count": 9,
   "metadata": {},
   "outputs": [
    {
     "name": "stdout",
     "output_type": "stream",
     "text": [
      "[1] 9 2\n"
     ]
    },
    {
     "data": {
      "text/html": [
       "<table class=\"dataframe\">\n",
       "<caption>A tibble: 9 × 2</caption>\n",
       "<thead>\n",
       "\t<tr><th scope=col>Name</th><th scope=col>Description</th></tr>\n",
       "\t<tr><th scope=col>&lt;chr&gt;</th><th scope=col>&lt;chr&gt;</th></tr>\n",
       "</thead>\n",
       "<tbody>\n",
       "\t<tr><td>Chrom     </td><td>Chromosome                                                 </td></tr>\n",
       "\t<tr><td>Start     </td><td>Start position                                             </td></tr>\n",
       "\t<tr><td>End       </td><td>End position                                               </td></tr>\n",
       "\t<tr><td>Name      </td><td>ChromHMM Label; 15 state ChIP-seq model                    </td></tr>\n",
       "\t<tr><td>Score     </td><td>Score                                                      </td></tr>\n",
       "\t<tr><td>Strand    </td><td>[+-.]; Use '.' if no strand is assigned.                   </td></tr>\n",
       "\t<tr><td>ThickStart</td><td>The starting position at which the feature is drawn thickly</td></tr>\n",
       "\t<tr><td>ThickEnd  </td><td>The ending position at which the feature is drawn thickly  </td></tr>\n",
       "\t<tr><td>ItemRgb   </td><td>An RGB value of the form R,G,B (e.g. 255,0,0)              </td></tr>\n",
       "</tbody>\n",
       "</table>\n"
      ],
      "text/latex": [
       "A tibble: 9 × 2\n",
       "\\begin{tabular}{ll}\n",
       " Name & Description\\\\\n",
       " <chr> & <chr>\\\\\n",
       "\\hline\n",
       "\t Chrom      & Chromosome                                                 \\\\\n",
       "\t Start      & Start position                                             \\\\\n",
       "\t End        & End position                                               \\\\\n",
       "\t Name       & ChromHMM Label; 15 state ChIP-seq model                    \\\\\n",
       "\t Score      & Score                                                      \\\\\n",
       "\t Strand     & {[}+-.{]}; Use '.' if no strand is assigned.                   \\\\\n",
       "\t ThickStart & The starting position at which the feature is drawn thickly\\\\\n",
       "\t ThickEnd   & The ending position at which the feature is drawn thickly  \\\\\n",
       "\t ItemRgb    & An RGB value of the form R,G,B (e.g. 255,0,0)              \\\\\n",
       "\\end{tabular}\n"
      ],
      "text/markdown": [
       "\n",
       "A tibble: 9 × 2\n",
       "\n",
       "| Name &lt;chr&gt; | Description &lt;chr&gt; |\n",
       "|---|---|\n",
       "| Chrom      | Chromosome                                                  |\n",
       "| Start      | Start position                                              |\n",
       "| End        | End position                                                |\n",
       "| Name       | ChromHMM Label; 15 state ChIP-seq model                     |\n",
       "| Score      | Score                                                       |\n",
       "| Strand     | [+-.]; Use '.' if no strand is assigned.                    |\n",
       "| ThickStart | The starting position at which the feature is drawn thickly |\n",
       "| ThickEnd   | The ending position at which the feature is drawn thickly   |\n",
       "| ItemRgb    | An RGB value of the form R,G,B (e.g. 255,0,0)               |\n",
       "\n"
      ],
      "text/plain": [
       "  Name       Description                                                \n",
       "1 Chrom      Chromosome                                                 \n",
       "2 Start      Start position                                             \n",
       "3 End        End position                                               \n",
       "4 Name       ChromHMM Label; 15 state ChIP-seq model                    \n",
       "5 Score      Score                                                      \n",
       "6 Strand     [+-.]; Use '.' if no strand is assigned.                   \n",
       "7 ThickStart The starting position at which the feature is drawn thickly\n",
       "8 ThickEnd   The ending position at which the feature is drawn thickly  \n",
       "9 ItemRgb    An RGB value of the form R,G,B (e.g. 255,0,0)              "
      ]
     },
     "metadata": {},
     "output_type": "display_data"
    }
   ],
   "source": [
    "dat_cnames = tribble(\n",
    "    ~Name,         ~Description,\n",
    "    \"Chrom\",       \"Chromosome\",\n",
    "    \"Start\",       \"Start position\",\n",
    "    \"End\",         \"End position\",\n",
    "    \"Name\",        \"ChromHMM Label; 15 state ChIP-seq model\",\n",
    "    \"Score\",       \"Score\",\n",
    "    \"Strand\",      \"[+-.]; Use '.' if no strand is assigned.\",\n",
    "    \"ThickStart\",  \"The starting position at which the feature is drawn thickly\",\n",
    "    \"ThickEnd\",    \"The ending position at which the feature is drawn thickly\",\n",
    "    \"ItemRgb\",     \"An RGB value of the form R,G,B (e.g. 255,0,0)\"\n",
    ")\n",
    "\n",
    "print(dim(dat_cnames))\n",
    "dat_cnames"
   ]
  },
  {
   "cell_type": "code",
   "execution_count": 10,
   "metadata": {},
   "outputs": [],
   "source": [
    "fdiry = file.path(FD_RES, \"results\", \"region\", \"annotation_chromHMM\")\n",
    "fname = \"description.tsv\"\n",
    "fpath = file.path(fdiry, fname)\n",
    "\n",
    "dat = dat_cnames\n",
    "write_tsv(dat, fpath)"
   ]
  },
  {
   "cell_type": "code",
   "execution_count": null,
   "metadata": {},
   "outputs": [],
   "source": []
  }
 ],
 "metadata": {
  "kernelspec": {
   "display_name": "R",
   "language": "R",
   "name": "ir"
  },
  "language_info": {
   "codemirror_mode": "r",
   "file_extension": ".r",
   "mimetype": "text/x-r-source",
   "name": "R",
   "pygments_lexer": "r",
   "version": "4.3.0"
  }
 },
 "nbformat": 4,
 "nbformat_minor": 4
}
