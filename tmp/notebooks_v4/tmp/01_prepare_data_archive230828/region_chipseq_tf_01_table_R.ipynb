{
 "cells": [
  {
   "cell_type": "markdown",
   "metadata": {},
   "source": [
    "**Set environment**"
   ]
  },
  {
   "cell_type": "code",
   "execution_count": 1,
   "metadata": {},
   "outputs": [
    {
     "name": "stdout",
     "output_type": "stream",
     "text": [
      "You are in Singularity: singularity_proj_encode_fcc \n",
      "BASE DIRECTORY (FD_BASE): /data/reddylab/Kuei \n",
      "WORK DIRECTORY (FD_WORK): /data/reddylab/Kuei/out \n",
      "CODE DIRECTORY (FD_CODE): /data/reddylab/Kuei/code \n",
      "PATH OF PROJECT (FD_PRJ): /data/reddylab/Kuei/code/Proj_CombEffect_ENCODE_FCC \n",
      "PATH OF RESULTS (FD_RES): /data/reddylab/Kuei/out/proj_combeffect_encode_fcc \n",
      "PATH OF LOG     (FD_LOG): /data/reddylab/Kuei/out/proj_combeffect_encode_fcc/log \n"
     ]
    }
   ],
   "source": [
    "suppressMessages(suppressWarnings(source(\"../config/config_sing.R\")))\n",
    "show_env()"
   ]
  },
  {
   "cell_type": "markdown",
   "metadata": {},
   "source": [
    "**Check data**"
   ]
  },
  {
   "cell_type": "code",
   "execution_count": 2,
   "metadata": {},
   "outputs": [
    {
     "name": "stdout",
     "output_type": "stream",
     "text": [
      "ENCODE4_TF_Accessions_for_Flagship_update221025.csv \n",
      "K562.ENCFF336UPT.CTCF.bw \n",
      "K562.ENCSR000EGM.ENCFF336UPT.CTCF.bw \n",
      "K562.ENCSR000EGM.ENCFF660GHM.CTCF.bed.gz \n",
      "K562.ENCSR000EGW.ENCFF067OLL.SMC3.bw \n"
     ]
    }
   ],
   "source": [
    "fdiry = file.path(FD_RES, \"source\", \"annotation_chipseq_tf\")\n",
    "for (x in dir(fdiry)){cat(x, \"\\n\")}"
   ]
  },
  {
   "cell_type": "markdown",
   "metadata": {},
   "source": [
    "## Import data"
   ]
  },
  {
   "cell_type": "code",
   "execution_count": 3,
   "metadata": {},
   "outputs": [
    {
     "name": "stderr",
     "output_type": "stream",
     "text": [
      "\u001b[1mRows: \u001b[22m\u001b[34m3092\u001b[39m \u001b[1mColumns: \u001b[22m\u001b[34m6\u001b[39m\n",
      "\u001b[36m──\u001b[39m \u001b[1mColumn specification\u001b[22m \u001b[36m──────────────────────────────────────────────────────────────────────\u001b[39m\n",
      "\u001b[1mDelimiter:\u001b[22m \",\"\n",
      "\u001b[31mchr\u001b[39m (6): Experiment_Accession, Peak_Accession, Biosample, Target, Lab, RFA\n",
      "\n",
      "\u001b[36mℹ\u001b[39m Use `spec()` to retrieve the full column specification for this data.\n",
      "\u001b[36mℹ\u001b[39m Specify the column types or set `show_col_types = FALSE` to quiet this message.\n"
     ]
    },
    {
     "name": "stdout",
     "output_type": "stream",
     "text": [
      "[1] 3092    6\n"
     ]
    },
    {
     "data": {
      "text/html": [
       "<table class=\"dataframe\">\n",
       "<caption>A tibble: 6 × 6</caption>\n",
       "<thead>\n",
       "\t<tr><th scope=col>Experiment_Accession</th><th scope=col>Peak_Accession</th><th scope=col>Biosample</th><th scope=col>Target</th><th scope=col>Lab</th><th scope=col>RFA</th></tr>\n",
       "\t<tr><th scope=col>&lt;chr&gt;</th><th scope=col>&lt;chr&gt;</th><th scope=col>&lt;chr&gt;</th><th scope=col>&lt;chr&gt;</th><th scope=col>&lt;chr&gt;</th><th scope=col>&lt;chr&gt;</th></tr>\n",
       "</thead>\n",
       "<tbody>\n",
       "\t<tr><td>ENCSR753RME</td><td>ENCFF917CYG</td><td>Homo sapiens testis tissue male adult (37 years)                  </td><td>CTCF</td><td>Bradley Bernstein, Broad</td><td>ENCODE4</td></tr>\n",
       "\t<tr><td>ENCSR992XTY</td><td>ENCFF112GJQ</td><td>Homo sapiens WTC11                                                </td><td>CTCF</td><td>Bradley Bernstein, Broad</td><td>ENCODE4</td></tr>\n",
       "\t<tr><td>ENCSR934GQS</td><td>ENCFF483KVM</td><td>Homo sapiens ovary tissue female adult (41 years)                 </td><td>CTCF</td><td>Bradley Bernstein, Broad</td><td>ENCODE4</td></tr>\n",
       "\t<tr><td>ENCSR164ASX</td><td>ENCFF238PEB</td><td>Homo sapiens upper lobe of right lung tissue male adult (60 years)</td><td>CTCF</td><td>Bradley Bernstein, Broad</td><td>ENCODE4</td></tr>\n",
       "\t<tr><td>ENCSR000VGD</td><td>ENCFF870ZRR</td><td>Homo sapiens right lobe of liver tissue female adult (47 years)   </td><td>CTCF</td><td>Bradley Bernstein, Broad</td><td>ENCODE4</td></tr>\n",
       "\t<tr><td>ENCSR856TKC</td><td>ENCFF072KJO</td><td>Homo sapiens natural killer cell male adult (33 years)            </td><td>CTCF</td><td>Bradley Bernstein, Broad</td><td>ENCODE4</td></tr>\n",
       "</tbody>\n",
       "</table>\n"
      ],
      "text/latex": [
       "A tibble: 6 × 6\n",
       "\\begin{tabular}{llllll}\n",
       " Experiment\\_Accession & Peak\\_Accession & Biosample & Target & Lab & RFA\\\\\n",
       " <chr> & <chr> & <chr> & <chr> & <chr> & <chr>\\\\\n",
       "\\hline\n",
       "\t ENCSR753RME & ENCFF917CYG & Homo sapiens testis tissue male adult (37 years)                   & CTCF & Bradley Bernstein, Broad & ENCODE4\\\\\n",
       "\t ENCSR992XTY & ENCFF112GJQ & Homo sapiens WTC11                                                 & CTCF & Bradley Bernstein, Broad & ENCODE4\\\\\n",
       "\t ENCSR934GQS & ENCFF483KVM & Homo sapiens ovary tissue female adult (41 years)                  & CTCF & Bradley Bernstein, Broad & ENCODE4\\\\\n",
       "\t ENCSR164ASX & ENCFF238PEB & Homo sapiens upper lobe of right lung tissue male adult (60 years) & CTCF & Bradley Bernstein, Broad & ENCODE4\\\\\n",
       "\t ENCSR000VGD & ENCFF870ZRR & Homo sapiens right lobe of liver tissue female adult (47 years)    & CTCF & Bradley Bernstein, Broad & ENCODE4\\\\\n",
       "\t ENCSR856TKC & ENCFF072KJO & Homo sapiens natural killer cell male adult (33 years)             & CTCF & Bradley Bernstein, Broad & ENCODE4\\\\\n",
       "\\end{tabular}\n"
      ],
      "text/markdown": [
       "\n",
       "A tibble: 6 × 6\n",
       "\n",
       "| Experiment_Accession &lt;chr&gt; | Peak_Accession &lt;chr&gt; | Biosample &lt;chr&gt; | Target &lt;chr&gt; | Lab &lt;chr&gt; | RFA &lt;chr&gt; |\n",
       "|---|---|---|---|---|---|\n",
       "| ENCSR753RME | ENCFF917CYG | Homo sapiens testis tissue male adult (37 years)                   | CTCF | Bradley Bernstein, Broad | ENCODE4 |\n",
       "| ENCSR992XTY | ENCFF112GJQ | Homo sapiens WTC11                                                 | CTCF | Bradley Bernstein, Broad | ENCODE4 |\n",
       "| ENCSR934GQS | ENCFF483KVM | Homo sapiens ovary tissue female adult (41 years)                  | CTCF | Bradley Bernstein, Broad | ENCODE4 |\n",
       "| ENCSR164ASX | ENCFF238PEB | Homo sapiens upper lobe of right lung tissue male adult (60 years) | CTCF | Bradley Bernstein, Broad | ENCODE4 |\n",
       "| ENCSR000VGD | ENCFF870ZRR | Homo sapiens right lobe of liver tissue female adult (47 years)    | CTCF | Bradley Bernstein, Broad | ENCODE4 |\n",
       "| ENCSR856TKC | ENCFF072KJO | Homo sapiens natural killer cell male adult (33 years)             | CTCF | Bradley Bernstein, Broad | ENCODE4 |\n",
       "\n"
      ],
      "text/plain": [
       "  Experiment_Accession Peak_Accession\n",
       "1 ENCSR753RME          ENCFF917CYG   \n",
       "2 ENCSR992XTY          ENCFF112GJQ   \n",
       "3 ENCSR934GQS          ENCFF483KVM   \n",
       "4 ENCSR164ASX          ENCFF238PEB   \n",
       "5 ENCSR000VGD          ENCFF870ZRR   \n",
       "6 ENCSR856TKC          ENCFF072KJO   \n",
       "  Biosample                                                          Target\n",
       "1 Homo sapiens testis tissue male adult (37 years)                   CTCF  \n",
       "2 Homo sapiens WTC11                                                 CTCF  \n",
       "3 Homo sapiens ovary tissue female adult (41 years)                  CTCF  \n",
       "4 Homo sapiens upper lobe of right lung tissue male adult (60 years) CTCF  \n",
       "5 Homo sapiens right lobe of liver tissue female adult (47 years)    CTCF  \n",
       "6 Homo sapiens natural killer cell male adult (33 years)             CTCF  \n",
       "  Lab                      RFA    \n",
       "1 Bradley Bernstein, Broad ENCODE4\n",
       "2 Bradley Bernstein, Broad ENCODE4\n",
       "3 Bradley Bernstein, Broad ENCODE4\n",
       "4 Bradley Bernstein, Broad ENCODE4\n",
       "5 Bradley Bernstein, Broad ENCODE4\n",
       "6 Bradley Bernstein, Broad ENCODE4"
      ]
     },
     "metadata": {},
     "output_type": "display_data"
    }
   ],
   "source": [
    "fdiry = file.path(FD_RES, \"source\", \"annotation_chipseq_tf\")\n",
    "fname = \"ENCODE4_TF_Accessions_for_Flagship_update221025.csv\"\n",
    "fpath = file.path(fdiry, fname)\n",
    "\n",
    "dat = read_csv(fpath)\n",
    "\n",
    "dat_chipseq_tf_import = dat\n",
    "print(dim(dat))\n",
    "head(dat)"
   ]
  },
  {
   "cell_type": "markdown",
   "metadata": {},
   "source": [
    "## Select for K562 only"
   ]
  },
  {
   "cell_type": "code",
   "execution_count": 4,
   "metadata": {},
   "outputs": [
    {
     "name": "stdout",
     "output_type": "stream",
     "text": [
      "[1] 735   6\n"
     ]
    },
    {
     "data": {
      "text/html": [
       "<table class=\"dataframe\">\n",
       "<caption>A tibble: 6 × 6</caption>\n",
       "<thead>\n",
       "\t<tr><th scope=col>Experiment_Accession</th><th scope=col>Peak_Accession</th><th scope=col>Biosample</th><th scope=col>Target</th><th scope=col>Lab</th><th scope=col>RFA</th></tr>\n",
       "\t<tr><th scope=col>&lt;chr&gt;</th><th scope=col>&lt;chr&gt;</th><th scope=col>&lt;chr&gt;</th><th scope=col>&lt;chr&gt;</th><th scope=col>&lt;chr&gt;</th><th scope=col>&lt;chr&gt;</th></tr>\n",
       "</thead>\n",
       "<tbody>\n",
       "\t<tr><td>ENCSR805SIA</td><td>ENCFF500BWO</td><td>Homo sapiens K562 genetically modified (insertion) using CRISPR targeting H. sapiens PURB  </td><td>PURB  </td><td>Richard Myers, HAIB     </td><td>ENCODE4</td></tr>\n",
       "\t<tr><td>ENCSR125RFR</td><td>ENCFF863ZFH</td><td>Homo sapiens K562 genetically modified (insertion) using CRISPR targeting H. sapiens ATF6  </td><td>ATF6  </td><td>Richard Myers, HAIB     </td><td>ENCODE4</td></tr>\n",
       "\t<tr><td>ENCSR841GLE</td><td>ENCFF515LWL</td><td>Homo sapiens K562 genetically modified (insertion) using CRISPR targeting H. sapiens ZNF217</td><td>ZNF217</td><td>Richard Myers, HAIB     </td><td>ENCODE4</td></tr>\n",
       "\t<tr><td>ENCSR014ARU</td><td>ENCFF121HYT</td><td>Homo sapiens K562 genetically modified (insertion) using CRISPR targeting H. sapiens ATF2  </td><td>ATF2  </td><td>Richard Myers, HAIB     </td><td>ENCODE4</td></tr>\n",
       "\t<tr><td>ENCSR172XJS</td><td>ENCFF169QYL</td><td>Homo sapiens K562 genetically modified (insertion) using CRISPR targeting H. sapiens ZNF165</td><td>ZNF165</td><td>Michael Snyder, Stanford</td><td>ENCODE4</td></tr>\n",
       "\t<tr><td>ENCSR676KDJ</td><td>ENCFF528IDR</td><td>Homo sapiens K562 genetically modified (insertion) using CRISPR targeting H. sapiens ARID4B</td><td>ARID4B</td><td>Michael Snyder, Stanford</td><td>ENCODE4</td></tr>\n",
       "</tbody>\n",
       "</table>\n"
      ],
      "text/latex": [
       "A tibble: 6 × 6\n",
       "\\begin{tabular}{llllll}\n",
       " Experiment\\_Accession & Peak\\_Accession & Biosample & Target & Lab & RFA\\\\\n",
       " <chr> & <chr> & <chr> & <chr> & <chr> & <chr>\\\\\n",
       "\\hline\n",
       "\t ENCSR805SIA & ENCFF500BWO & Homo sapiens K562 genetically modified (insertion) using CRISPR targeting H. sapiens PURB   & PURB   & Richard Myers, HAIB      & ENCODE4\\\\\n",
       "\t ENCSR125RFR & ENCFF863ZFH & Homo sapiens K562 genetically modified (insertion) using CRISPR targeting H. sapiens ATF6   & ATF6   & Richard Myers, HAIB      & ENCODE4\\\\\n",
       "\t ENCSR841GLE & ENCFF515LWL & Homo sapiens K562 genetically modified (insertion) using CRISPR targeting H. sapiens ZNF217 & ZNF217 & Richard Myers, HAIB      & ENCODE4\\\\\n",
       "\t ENCSR014ARU & ENCFF121HYT & Homo sapiens K562 genetically modified (insertion) using CRISPR targeting H. sapiens ATF2   & ATF2   & Richard Myers, HAIB      & ENCODE4\\\\\n",
       "\t ENCSR172XJS & ENCFF169QYL & Homo sapiens K562 genetically modified (insertion) using CRISPR targeting H. sapiens ZNF165 & ZNF165 & Michael Snyder, Stanford & ENCODE4\\\\\n",
       "\t ENCSR676KDJ & ENCFF528IDR & Homo sapiens K562 genetically modified (insertion) using CRISPR targeting H. sapiens ARID4B & ARID4B & Michael Snyder, Stanford & ENCODE4\\\\\n",
       "\\end{tabular}\n"
      ],
      "text/markdown": [
       "\n",
       "A tibble: 6 × 6\n",
       "\n",
       "| Experiment_Accession &lt;chr&gt; | Peak_Accession &lt;chr&gt; | Biosample &lt;chr&gt; | Target &lt;chr&gt; | Lab &lt;chr&gt; | RFA &lt;chr&gt; |\n",
       "|---|---|---|---|---|---|\n",
       "| ENCSR805SIA | ENCFF500BWO | Homo sapiens K562 genetically modified (insertion) using CRISPR targeting H. sapiens PURB   | PURB   | Richard Myers, HAIB      | ENCODE4 |\n",
       "| ENCSR125RFR | ENCFF863ZFH | Homo sapiens K562 genetically modified (insertion) using CRISPR targeting H. sapiens ATF6   | ATF6   | Richard Myers, HAIB      | ENCODE4 |\n",
       "| ENCSR841GLE | ENCFF515LWL | Homo sapiens K562 genetically modified (insertion) using CRISPR targeting H. sapiens ZNF217 | ZNF217 | Richard Myers, HAIB      | ENCODE4 |\n",
       "| ENCSR014ARU | ENCFF121HYT | Homo sapiens K562 genetically modified (insertion) using CRISPR targeting H. sapiens ATF2   | ATF2   | Richard Myers, HAIB      | ENCODE4 |\n",
       "| ENCSR172XJS | ENCFF169QYL | Homo sapiens K562 genetically modified (insertion) using CRISPR targeting H. sapiens ZNF165 | ZNF165 | Michael Snyder, Stanford | ENCODE4 |\n",
       "| ENCSR676KDJ | ENCFF528IDR | Homo sapiens K562 genetically modified (insertion) using CRISPR targeting H. sapiens ARID4B | ARID4B | Michael Snyder, Stanford | ENCODE4 |\n",
       "\n"
      ],
      "text/plain": [
       "  Experiment_Accession Peak_Accession\n",
       "1 ENCSR805SIA          ENCFF500BWO   \n",
       "2 ENCSR125RFR          ENCFF863ZFH   \n",
       "3 ENCSR841GLE          ENCFF515LWL   \n",
       "4 ENCSR014ARU          ENCFF121HYT   \n",
       "5 ENCSR172XJS          ENCFF169QYL   \n",
       "6 ENCSR676KDJ          ENCFF528IDR   \n",
       "  Biosample                                                                                  \n",
       "1 Homo sapiens K562 genetically modified (insertion) using CRISPR targeting H. sapiens PURB  \n",
       "2 Homo sapiens K562 genetically modified (insertion) using CRISPR targeting H. sapiens ATF6  \n",
       "3 Homo sapiens K562 genetically modified (insertion) using CRISPR targeting H. sapiens ZNF217\n",
       "4 Homo sapiens K562 genetically modified (insertion) using CRISPR targeting H. sapiens ATF2  \n",
       "5 Homo sapiens K562 genetically modified (insertion) using CRISPR targeting H. sapiens ZNF165\n",
       "6 Homo sapiens K562 genetically modified (insertion) using CRISPR targeting H. sapiens ARID4B\n",
       "  Target Lab                      RFA    \n",
       "1 PURB   Richard Myers, HAIB      ENCODE4\n",
       "2 ATF6   Richard Myers, HAIB      ENCODE4\n",
       "3 ZNF217 Richard Myers, HAIB      ENCODE4\n",
       "4 ATF2   Richard Myers, HAIB      ENCODE4\n",
       "5 ZNF165 Michael Snyder, Stanford ENCODE4\n",
       "6 ARID4B Michael Snyder, Stanford ENCODE4"
      ]
     },
     "metadata": {},
     "output_type": "display_data"
    }
   ],
   "source": [
    "dat = dat_chipseq_tf_import\n",
    "dat = dat %>% dplyr::filter(str_detect(Biosample, \"K562\"))\n",
    "\n",
    "dat_chipseq_tf_k562_full = dat\n",
    "print(dim(dat))\n",
    "head(dat)"
   ]
  },
  {
   "cell_type": "code",
   "execution_count": 5,
   "metadata": {},
   "outputs": [
    {
     "name": "stdout",
     "output_type": "stream",
     "text": [
      "[1] 278\n"
     ]
    }
   ],
   "source": [
    "dat = dat_chipseq_tf_k562_full\n",
    "vec = unique(dat$Biosample)\n",
    "print(length(vec))"
   ]
  },
  {
   "cell_type": "code",
   "execution_count": 6,
   "metadata": {},
   "outputs": [
    {
     "data": {
      "text/html": [
       "223"
      ],
      "text/latex": [
       "223"
      ],
      "text/markdown": [
       "223"
      ],
      "text/plain": [
       "[1] 223"
      ]
     },
     "metadata": {},
     "output_type": "display_data"
    }
   ],
   "source": [
    "string  = vec\n",
    "pattern = \"Homo sapiens K562 genetically modified \\\\(insertion\\\\) using CRISPR targeting\"\n",
    "sum(str_detect(string, pattern))"
   ]
  },
  {
   "cell_type": "code",
   "execution_count": 7,
   "metadata": {},
   "outputs": [
    {
     "data": {
      "text/html": [
       "54"
      ],
      "text/latex": [
       "54"
      ],
      "text/markdown": [
       "54"
      ],
      "text/plain": [
       "[1] 54"
      ]
     },
     "metadata": {},
     "output_type": "display_data"
    }
   ],
   "source": [
    "string  = vec\n",
    "pattern = \"Homo sapiens K562 stably expressing\"\n",
    "sum(str_detect(string, pattern))"
   ]
  },
  {
   "cell_type": "code",
   "execution_count": 12,
   "metadata": {},
   "outputs": [
    {
     "data": {
      "text/html": [
       "1"
      ],
      "text/latex": [
       "1"
      ],
      "text/markdown": [
       "1"
      ],
      "text/plain": [
       "[1] 1"
      ]
     },
     "metadata": {},
     "output_type": "display_data"
    }
   ],
   "source": [
    "sum(vec == \"Homo sapiens K562\")"
   ]
  },
  {
   "cell_type": "code",
   "execution_count": 10,
   "metadata": {},
   "outputs": [
    {
     "data": {
      "text/html": [
       "278"
      ],
      "text/latex": [
       "278"
      ],
      "text/markdown": [
       "278"
      ],
      "text/plain": [
       "[1] 278"
      ]
     },
     "metadata": {},
     "output_type": "display_data"
    }
   ],
   "source": [
    "n1 = sum(str_detect(vec, \"Homo sapiens K562 genetically modified \\\\(insertion\\\\) using CRISPR targeting\"))\n",
    "n2 = sum(str_detect(vec, \"Homo sapiens K562 stably expressing\"))\n",
    "n3 = sum(vec == \"Homo sapiens K562\")\n",
    "n1 + n2 + n3"
   ]
  },
  {
   "cell_type": "markdown",
   "metadata": {},
   "source": [
    "## TF Subset"
   ]
  },
  {
   "cell_type": "code",
   "execution_count": 11,
   "metadata": {},
   "outputs": [
    {
     "name": "stdout",
     "output_type": "stream",
     "text": [
      "[1] 16\n",
      "[1] 16\n",
      "[1] 16\n"
     ]
    }
   ],
   "source": [
    "targets = c(\n",
    "    \"POLR2A\", \"JUN\", \"CTCF\", \"SP1\", \"ELK1\", \"NRF1\", \n",
    "    \"TAL1\", \"GATA1\", \"NFE2\", \"KLF10\", \"KLF16\", \"YY1\", \n",
    "    \"ATF1\", \"EP300\", \"REST\", \"ZEB2\"\n",
    ")\n",
    "\n",
    "idx_accession_exp = c(\n",
    "    \"ENCSR388QZF\",\n",
    "    \"ENCSR000EFS\",\n",
    "    \"ENCSR000EGM\",\n",
    "    \"ENCSR991ELG\",\n",
    "    \"ENCSR000EFU\",\n",
    "    \"ENCSR998AJK\",\n",
    "    \"ENCSR000EHB\",\n",
    "    \"ENCSR000EFT\",\n",
    "    \"ENCSR552YGL\",\n",
    "    \"ENCSR121SPB\",\n",
    "    \"ENCSR760UVO\",\n",
    "    \"ENCSR000BMH\",\n",
    "    \"ENCSR091GVJ\",\n",
    "    \"ENCSR000EGE\",\n",
    "    \"ENCSR000BMW\",\n",
    "    \"ENCSR004GKA\"\n",
    ")\n",
    "idx_accession_peak = c(\n",
    "    \"ENCFF355MNE\",\n",
    "    \"ENCFF190CGV\",\n",
    "    \"ENCFF660GHM\",\n",
    "    \"ENCFF553GPK\",\n",
    "    \"ENCFF715WGN\",\n",
    "    \"ENCFF777PKJ\",\n",
    "    \"ENCFF852ZRK\",\n",
    "    \"ENCFF657CTC\",\n",
    "    \"ENCFF023IFO\",\n",
    "    \"ENCFF142ZTD\",\n",
    "    \"ENCFF488OTN\",\n",
    "    \"ENCFF398UQZ\",\n",
    "    \"ENCFF627RSK\",\n",
    "    \"ENCFF702XPO\",\n",
    "    \"ENCFF707MDI\",\n",
    "    \"ENCFF242AOL\"\n",
    ")\n",
    "\n",
    "print(length(targets))\n",
    "print(length(idx_accession_exp))\n",
    "print(length(idx_accession_peak))"
   ]
  },
  {
   "cell_type": "code",
   "execution_count": 12,
   "metadata": {},
   "outputs": [
    {
     "name": "stdout",
     "output_type": "stream",
     "text": [
      "[1] TRUE\n",
      "[1] TRUE\n",
      "[1] TRUE\n",
      "[1] 16  6\n"
     ]
    },
    {
     "data": {
      "text/html": [
       "<table class=\"dataframe\">\n",
       "<caption>A tibble: 16 × 6</caption>\n",
       "<thead>\n",
       "\t<tr><th scope=col>Experiment_Accession</th><th scope=col>Peak_Accession</th><th scope=col>Biosample</th><th scope=col>Target</th><th scope=col>Lab</th><th scope=col>RFA</th></tr>\n",
       "\t<tr><th scope=col>&lt;chr&gt;</th><th scope=col>&lt;chr&gt;</th><th scope=col>&lt;chr&gt;</th><th scope=col>&lt;fct&gt;</th><th scope=col>&lt;chr&gt;</th><th scope=col>&lt;chr&gt;</th></tr>\n",
       "</thead>\n",
       "<tbody>\n",
       "\t<tr><td>ENCSR388QZF</td><td>ENCFF355MNE</td><td>Homo sapiens K562                                                                         </td><td>POLR2A</td><td>Michael Snyder, Stanford</td><td>ENCODE3</td></tr>\n",
       "\t<tr><td>ENCSR000EFS</td><td>ENCFF190CGV</td><td>Homo sapiens K562                                                                         </td><td>JUN   </td><td>Michael Snyder, Stanford</td><td>ENCODE2</td></tr>\n",
       "\t<tr><td>ENCSR000EGM</td><td>ENCFF660GHM</td><td>Homo sapiens K562                                                                         </td><td>CTCF  </td><td>Michael Snyder, Stanford</td><td>ENCODE2</td></tr>\n",
       "\t<tr><td>ENCSR991ELG</td><td>ENCFF553GPK</td><td>Homo sapiens K562                                                                         </td><td>SP1   </td><td>Michael Snyder, Stanford</td><td>ENCODE3</td></tr>\n",
       "\t<tr><td>ENCSR000EFU</td><td>ENCFF715WGN</td><td>Homo sapiens K562                                                                         </td><td>ELK1  </td><td>Michael Snyder, Stanford</td><td>ENCODE2</td></tr>\n",
       "\t<tr><td>ENCSR998AJK</td><td>ENCFF777PKJ</td><td>Homo sapiens K562                                                                         </td><td>NRF1  </td><td>Michael Snyder, Stanford</td><td>ENCODE3</td></tr>\n",
       "\t<tr><td>ENCSR000EHB</td><td>ENCFF852ZRK</td><td>Homo sapiens K562                                                                         </td><td>TAL1  </td><td>Michael Snyder, Stanford</td><td>ENCODE2</td></tr>\n",
       "\t<tr><td>ENCSR000EFT</td><td>ENCFF657CTC</td><td>Homo sapiens K562                                                                         </td><td>GATA1 </td><td>Michael Snyder, Stanford</td><td>ENCODE2</td></tr>\n",
       "\t<tr><td>ENCSR552YGL</td><td>ENCFF023IFO</td><td>Homo sapiens K562 stably expressing NFE2                                                  </td><td>NFE2  </td><td>Michael Snyder, Stanford</td><td>ENCODE3</td></tr>\n",
       "\t<tr><td>ENCSR121SPB</td><td>ENCFF142ZTD</td><td>Homo sapiens K562 genetically modified (insertion) using CRISPR targeting H. sapiens KLF10</td><td>KLF10 </td><td>Michael Snyder, Stanford</td><td>ENCODE4</td></tr>\n",
       "\t<tr><td>ENCSR760UVO</td><td>ENCFF488OTN</td><td>Homo sapiens K562                                                                         </td><td>KLF16 </td><td>Richard Myers, HAIB     </td><td>ENCODE3</td></tr>\n",
       "\t<tr><td>ENCSR000BMH</td><td>ENCFF398UQZ</td><td>Homo sapiens K562                                                                         </td><td>YY1   </td><td>Richard Myers, HAIB     </td><td>ENCODE2</td></tr>\n",
       "\t<tr><td>ENCSR091GVJ</td><td>ENCFF627RSK</td><td>Homo sapiens K562 stably expressing ATF1                                                  </td><td>ATF1  </td><td>Michael Snyder, Stanford</td><td>ENCODE3</td></tr>\n",
       "\t<tr><td>ENCSR000EGE</td><td>ENCFF702XPO</td><td>Homo sapiens K562                                                                         </td><td>EP300 </td><td>Michael Snyder, Stanford</td><td>ENCODE2</td></tr>\n",
       "\t<tr><td>ENCSR000BMW</td><td>ENCFF707MDI</td><td>Homo sapiens K562                                                                         </td><td>REST  </td><td>Richard Myers, HAIB     </td><td>ENCODE2</td></tr>\n",
       "\t<tr><td>ENCSR004GKA</td><td>ENCFF242AOL</td><td>Homo sapiens K562                                                                         </td><td>ZEB2  </td><td>Michael Snyder, Stanford</td><td>ENCODE3</td></tr>\n",
       "</tbody>\n",
       "</table>\n"
      ],
      "text/latex": [
       "A tibble: 16 × 6\n",
       "\\begin{tabular}{llllll}\n",
       " Experiment\\_Accession & Peak\\_Accession & Biosample & Target & Lab & RFA\\\\\n",
       " <chr> & <chr> & <chr> & <fct> & <chr> & <chr>\\\\\n",
       "\\hline\n",
       "\t ENCSR388QZF & ENCFF355MNE & Homo sapiens K562                                                                          & POLR2A & Michael Snyder, Stanford & ENCODE3\\\\\n",
       "\t ENCSR000EFS & ENCFF190CGV & Homo sapiens K562                                                                          & JUN    & Michael Snyder, Stanford & ENCODE2\\\\\n",
       "\t ENCSR000EGM & ENCFF660GHM & Homo sapiens K562                                                                          & CTCF   & Michael Snyder, Stanford & ENCODE2\\\\\n",
       "\t ENCSR991ELG & ENCFF553GPK & Homo sapiens K562                                                                          & SP1    & Michael Snyder, Stanford & ENCODE3\\\\\n",
       "\t ENCSR000EFU & ENCFF715WGN & Homo sapiens K562                                                                          & ELK1   & Michael Snyder, Stanford & ENCODE2\\\\\n",
       "\t ENCSR998AJK & ENCFF777PKJ & Homo sapiens K562                                                                          & NRF1   & Michael Snyder, Stanford & ENCODE3\\\\\n",
       "\t ENCSR000EHB & ENCFF852ZRK & Homo sapiens K562                                                                          & TAL1   & Michael Snyder, Stanford & ENCODE2\\\\\n",
       "\t ENCSR000EFT & ENCFF657CTC & Homo sapiens K562                                                                          & GATA1  & Michael Snyder, Stanford & ENCODE2\\\\\n",
       "\t ENCSR552YGL & ENCFF023IFO & Homo sapiens K562 stably expressing NFE2                                                   & NFE2   & Michael Snyder, Stanford & ENCODE3\\\\\n",
       "\t ENCSR121SPB & ENCFF142ZTD & Homo sapiens K562 genetically modified (insertion) using CRISPR targeting H. sapiens KLF10 & KLF10  & Michael Snyder, Stanford & ENCODE4\\\\\n",
       "\t ENCSR760UVO & ENCFF488OTN & Homo sapiens K562                                                                          & KLF16  & Richard Myers, HAIB      & ENCODE3\\\\\n",
       "\t ENCSR000BMH & ENCFF398UQZ & Homo sapiens K562                                                                          & YY1    & Richard Myers, HAIB      & ENCODE2\\\\\n",
       "\t ENCSR091GVJ & ENCFF627RSK & Homo sapiens K562 stably expressing ATF1                                                   & ATF1   & Michael Snyder, Stanford & ENCODE3\\\\\n",
       "\t ENCSR000EGE & ENCFF702XPO & Homo sapiens K562                                                                          & EP300  & Michael Snyder, Stanford & ENCODE2\\\\\n",
       "\t ENCSR000BMW & ENCFF707MDI & Homo sapiens K562                                                                          & REST   & Richard Myers, HAIB      & ENCODE2\\\\\n",
       "\t ENCSR004GKA & ENCFF242AOL & Homo sapiens K562                                                                          & ZEB2   & Michael Snyder, Stanford & ENCODE3\\\\\n",
       "\\end{tabular}\n"
      ],
      "text/markdown": [
       "\n",
       "A tibble: 16 × 6\n",
       "\n",
       "| Experiment_Accession &lt;chr&gt; | Peak_Accession &lt;chr&gt; | Biosample &lt;chr&gt; | Target &lt;fct&gt; | Lab &lt;chr&gt; | RFA &lt;chr&gt; |\n",
       "|---|---|---|---|---|---|\n",
       "| ENCSR388QZF | ENCFF355MNE | Homo sapiens K562                                                                          | POLR2A | Michael Snyder, Stanford | ENCODE3 |\n",
       "| ENCSR000EFS | ENCFF190CGV | Homo sapiens K562                                                                          | JUN    | Michael Snyder, Stanford | ENCODE2 |\n",
       "| ENCSR000EGM | ENCFF660GHM | Homo sapiens K562                                                                          | CTCF   | Michael Snyder, Stanford | ENCODE2 |\n",
       "| ENCSR991ELG | ENCFF553GPK | Homo sapiens K562                                                                          | SP1    | Michael Snyder, Stanford | ENCODE3 |\n",
       "| ENCSR000EFU | ENCFF715WGN | Homo sapiens K562                                                                          | ELK1   | Michael Snyder, Stanford | ENCODE2 |\n",
       "| ENCSR998AJK | ENCFF777PKJ | Homo sapiens K562                                                                          | NRF1   | Michael Snyder, Stanford | ENCODE3 |\n",
       "| ENCSR000EHB | ENCFF852ZRK | Homo sapiens K562                                                                          | TAL1   | Michael Snyder, Stanford | ENCODE2 |\n",
       "| ENCSR000EFT | ENCFF657CTC | Homo sapiens K562                                                                          | GATA1  | Michael Snyder, Stanford | ENCODE2 |\n",
       "| ENCSR552YGL | ENCFF023IFO | Homo sapiens K562 stably expressing NFE2                                                   | NFE2   | Michael Snyder, Stanford | ENCODE3 |\n",
       "| ENCSR121SPB | ENCFF142ZTD | Homo sapiens K562 genetically modified (insertion) using CRISPR targeting H. sapiens KLF10 | KLF10  | Michael Snyder, Stanford | ENCODE4 |\n",
       "| ENCSR760UVO | ENCFF488OTN | Homo sapiens K562                                                                          | KLF16  | Richard Myers, HAIB      | ENCODE3 |\n",
       "| ENCSR000BMH | ENCFF398UQZ | Homo sapiens K562                                                                          | YY1    | Richard Myers, HAIB      | ENCODE2 |\n",
       "| ENCSR091GVJ | ENCFF627RSK | Homo sapiens K562 stably expressing ATF1                                                   | ATF1   | Michael Snyder, Stanford | ENCODE3 |\n",
       "| ENCSR000EGE | ENCFF702XPO | Homo sapiens K562                                                                          | EP300  | Michael Snyder, Stanford | ENCODE2 |\n",
       "| ENCSR000BMW | ENCFF707MDI | Homo sapiens K562                                                                          | REST   | Richard Myers, HAIB      | ENCODE2 |\n",
       "| ENCSR004GKA | ENCFF242AOL | Homo sapiens K562                                                                          | ZEB2   | Michael Snyder, Stanford | ENCODE3 |\n",
       "\n"
      ],
      "text/plain": [
       "   Experiment_Accession Peak_Accession\n",
       "1  ENCSR388QZF          ENCFF355MNE   \n",
       "2  ENCSR000EFS          ENCFF190CGV   \n",
       "3  ENCSR000EGM          ENCFF660GHM   \n",
       "4  ENCSR991ELG          ENCFF553GPK   \n",
       "5  ENCSR000EFU          ENCFF715WGN   \n",
       "6  ENCSR998AJK          ENCFF777PKJ   \n",
       "7  ENCSR000EHB          ENCFF852ZRK   \n",
       "8  ENCSR000EFT          ENCFF657CTC   \n",
       "9  ENCSR552YGL          ENCFF023IFO   \n",
       "10 ENCSR121SPB          ENCFF142ZTD   \n",
       "11 ENCSR760UVO          ENCFF488OTN   \n",
       "12 ENCSR000BMH          ENCFF398UQZ   \n",
       "13 ENCSR091GVJ          ENCFF627RSK   \n",
       "14 ENCSR000EGE          ENCFF702XPO   \n",
       "15 ENCSR000BMW          ENCFF707MDI   \n",
       "16 ENCSR004GKA          ENCFF242AOL   \n",
       "   Biosample                                                                                 \n",
       "1  Homo sapiens K562                                                                         \n",
       "2  Homo sapiens K562                                                                         \n",
       "3  Homo sapiens K562                                                                         \n",
       "4  Homo sapiens K562                                                                         \n",
       "5  Homo sapiens K562                                                                         \n",
       "6  Homo sapiens K562                                                                         \n",
       "7  Homo sapiens K562                                                                         \n",
       "8  Homo sapiens K562                                                                         \n",
       "9  Homo sapiens K562 stably expressing NFE2                                                  \n",
       "10 Homo sapiens K562 genetically modified (insertion) using CRISPR targeting H. sapiens KLF10\n",
       "11 Homo sapiens K562                                                                         \n",
       "12 Homo sapiens K562                                                                         \n",
       "13 Homo sapiens K562 stably expressing ATF1                                                  \n",
       "14 Homo sapiens K562                                                                         \n",
       "15 Homo sapiens K562                                                                         \n",
       "16 Homo sapiens K562                                                                         \n",
       "   Target Lab                      RFA    \n",
       "1  POLR2A Michael Snyder, Stanford ENCODE3\n",
       "2  JUN    Michael Snyder, Stanford ENCODE2\n",
       "3  CTCF   Michael Snyder, Stanford ENCODE2\n",
       "4  SP1    Michael Snyder, Stanford ENCODE3\n",
       "5  ELK1   Michael Snyder, Stanford ENCODE2\n",
       "6  NRF1   Michael Snyder, Stanford ENCODE3\n",
       "7  TAL1   Michael Snyder, Stanford ENCODE2\n",
       "8  GATA1  Michael Snyder, Stanford ENCODE2\n",
       "9  NFE2   Michael Snyder, Stanford ENCODE3\n",
       "10 KLF10  Michael Snyder, Stanford ENCODE4\n",
       "11 KLF16  Richard Myers, HAIB      ENCODE3\n",
       "12 YY1    Richard Myers, HAIB      ENCODE2\n",
       "13 ATF1   Michael Snyder, Stanford ENCODE3\n",
       "14 EP300  Michael Snyder, Stanford ENCODE2\n",
       "15 REST   Richard Myers, HAIB      ENCODE2\n",
       "16 ZEB2   Michael Snyder, Stanford ENCODE3"
      ]
     },
     "metadata": {},
     "output_type": "display_data"
    }
   ],
   "source": [
    "dat = dat_chipseq_tf_k562_full\n",
    "dat = dat %>%\n",
    "    dplyr::filter(str_detect(Biosample, \"K562\")) %>%\n",
    "    dplyr::filter(Target %in% targets) %>%\n",
    "    dplyr::filter(Peak_Accession %in% idx_accession_peak) %>%\n",
    "    dplyr::mutate(Target = factor(Target, levels=targets)) %>%\n",
    "    dplyr::arrange(Target)\n",
    "\n",
    "print(all(dat$Experiment_Accession == idx_accession_exp))\n",
    "print(all(dat$Peak_Accession       == idx_accession_peak))\n",
    "print(all(dat$Target               == targets))\n",
    "\n",
    "dat_chipseq_tf_k562_subset = dat\n",
    "print(dim(dat))\n",
    "dat"
   ]
  },
  {
   "cell_type": "markdown",
   "metadata": {},
   "source": [
    "## Add CMD"
   ]
  },
  {
   "cell_type": "code",
   "execution_count": 13,
   "metadata": {},
   "outputs": [
    {
     "name": "stdout",
     "output_type": "stream",
     "text": [
      "[1] 735  10\n",
      "[1] 16 10\n"
     ]
    }
   ],
   "source": [
    "lst = list(dat_chipseq_tf_k562_full, dat_chipseq_tf_k562_subset)\n",
    "lst = lapply(lst, function(dat){\n",
    "    dat = dat %>% \n",
    "    dplyr::mutate(\n",
    "        FN_INP = paste(\n",
    "            Peak_Accession,\n",
    "            \"bed.gz\",\n",
    "            sep = \".\"),\n",
    "        FN_OUT = paste(\n",
    "            \"K562\", \n",
    "            Experiment_Accession, \n",
    "            Peak_Accession,\n",
    "            Target,\n",
    "            \"bed.gz\",\n",
    "            sep = \".\")) %>%\n",
    "    dplyr::mutate(\n",
    "        URL = file.path(\n",
    "            \"https://www.encodeproject.org\",\n",
    "            Peak_Accession,\n",
    "            \"@@download\",\n",
    "            FN_INP)) %>%\n",
    "    dplyr::mutate(\n",
    "        CMD = paste(\n",
    "            \"wget\",\n",
    "            URL,\n",
    "            \"-O\",\n",
    "            FN_OUT))\n",
    "})\n",
    "\n",
    "lst_chipseq_tf_k562_cmd = lst\n",
    "print(dim(lst[[1]]))\n",
    "print(dim(lst[[2]]))"
   ]
  },
  {
   "cell_type": "code",
   "execution_count": 14,
   "metadata": {},
   "outputs": [
    {
     "data": {
      "text/html": [
       "<table class=\"dataframe\">\n",
       "<caption>A tibble: 6 × 10</caption>\n",
       "<thead>\n",
       "\t<tr><th scope=col>Experiment_Accession</th><th scope=col>Peak_Accession</th><th scope=col>Biosample</th><th scope=col>Target</th><th scope=col>Lab</th><th scope=col>RFA</th><th scope=col>FN_INP</th><th scope=col>FN_OUT</th><th scope=col>URL</th><th scope=col>CMD</th></tr>\n",
       "\t<tr><th scope=col>&lt;chr&gt;</th><th scope=col>&lt;chr&gt;</th><th scope=col>&lt;chr&gt;</th><th scope=col>&lt;fct&gt;</th><th scope=col>&lt;chr&gt;</th><th scope=col>&lt;chr&gt;</th><th scope=col>&lt;chr&gt;</th><th scope=col>&lt;chr&gt;</th><th scope=col>&lt;chr&gt;</th><th scope=col>&lt;chr&gt;</th></tr>\n",
       "</thead>\n",
       "<tbody>\n",
       "\t<tr><td>ENCSR388QZF</td><td>ENCFF355MNE</td><td>Homo sapiens K562</td><td>POLR2A</td><td>Michael Snyder, Stanford</td><td>ENCODE3</td><td>ENCFF355MNE.bed.gz</td><td>K562.ENCSR388QZF.ENCFF355MNE.POLR2A.bed.gz</td><td>https://www.encodeproject.org/ENCFF355MNE/@@download/ENCFF355MNE.bed.gz</td><td>wget https://www.encodeproject.org/ENCFF355MNE/@@download/ENCFF355MNE.bed.gz -O K562.ENCSR388QZF.ENCFF355MNE.POLR2A.bed.gz</td></tr>\n",
       "\t<tr><td>ENCSR000EFS</td><td>ENCFF190CGV</td><td>Homo sapiens K562</td><td>JUN   </td><td>Michael Snyder, Stanford</td><td>ENCODE2</td><td>ENCFF190CGV.bed.gz</td><td>K562.ENCSR000EFS.ENCFF190CGV.JUN.bed.gz   </td><td>https://www.encodeproject.org/ENCFF190CGV/@@download/ENCFF190CGV.bed.gz</td><td>wget https://www.encodeproject.org/ENCFF190CGV/@@download/ENCFF190CGV.bed.gz -O K562.ENCSR000EFS.ENCFF190CGV.JUN.bed.gz   </td></tr>\n",
       "\t<tr><td>ENCSR000EGM</td><td>ENCFF660GHM</td><td>Homo sapiens K562</td><td>CTCF  </td><td>Michael Snyder, Stanford</td><td>ENCODE2</td><td>ENCFF660GHM.bed.gz</td><td>K562.ENCSR000EGM.ENCFF660GHM.CTCF.bed.gz  </td><td>https://www.encodeproject.org/ENCFF660GHM/@@download/ENCFF660GHM.bed.gz</td><td>wget https://www.encodeproject.org/ENCFF660GHM/@@download/ENCFF660GHM.bed.gz -O K562.ENCSR000EGM.ENCFF660GHM.CTCF.bed.gz  </td></tr>\n",
       "\t<tr><td>ENCSR991ELG</td><td>ENCFF553GPK</td><td>Homo sapiens K562</td><td>SP1   </td><td>Michael Snyder, Stanford</td><td>ENCODE3</td><td>ENCFF553GPK.bed.gz</td><td>K562.ENCSR991ELG.ENCFF553GPK.SP1.bed.gz   </td><td>https://www.encodeproject.org/ENCFF553GPK/@@download/ENCFF553GPK.bed.gz</td><td>wget https://www.encodeproject.org/ENCFF553GPK/@@download/ENCFF553GPK.bed.gz -O K562.ENCSR991ELG.ENCFF553GPK.SP1.bed.gz   </td></tr>\n",
       "\t<tr><td>ENCSR000EFU</td><td>ENCFF715WGN</td><td>Homo sapiens K562</td><td>ELK1  </td><td>Michael Snyder, Stanford</td><td>ENCODE2</td><td>ENCFF715WGN.bed.gz</td><td>K562.ENCSR000EFU.ENCFF715WGN.ELK1.bed.gz  </td><td>https://www.encodeproject.org/ENCFF715WGN/@@download/ENCFF715WGN.bed.gz</td><td>wget https://www.encodeproject.org/ENCFF715WGN/@@download/ENCFF715WGN.bed.gz -O K562.ENCSR000EFU.ENCFF715WGN.ELK1.bed.gz  </td></tr>\n",
       "\t<tr><td>ENCSR998AJK</td><td>ENCFF777PKJ</td><td>Homo sapiens K562</td><td>NRF1  </td><td>Michael Snyder, Stanford</td><td>ENCODE3</td><td>ENCFF777PKJ.bed.gz</td><td>K562.ENCSR998AJK.ENCFF777PKJ.NRF1.bed.gz  </td><td>https://www.encodeproject.org/ENCFF777PKJ/@@download/ENCFF777PKJ.bed.gz</td><td>wget https://www.encodeproject.org/ENCFF777PKJ/@@download/ENCFF777PKJ.bed.gz -O K562.ENCSR998AJK.ENCFF777PKJ.NRF1.bed.gz  </td></tr>\n",
       "</tbody>\n",
       "</table>\n"
      ],
      "text/latex": [
       "A tibble: 6 × 10\n",
       "\\begin{tabular}{llllllllll}\n",
       " Experiment\\_Accession & Peak\\_Accession & Biosample & Target & Lab & RFA & FN\\_INP & FN\\_OUT & URL & CMD\\\\\n",
       " <chr> & <chr> & <chr> & <fct> & <chr> & <chr> & <chr> & <chr> & <chr> & <chr>\\\\\n",
       "\\hline\n",
       "\t ENCSR388QZF & ENCFF355MNE & Homo sapiens K562 & POLR2A & Michael Snyder, Stanford & ENCODE3 & ENCFF355MNE.bed.gz & K562.ENCSR388QZF.ENCFF355MNE.POLR2A.bed.gz & https://www.encodeproject.org/ENCFF355MNE/@@download/ENCFF355MNE.bed.gz & wget https://www.encodeproject.org/ENCFF355MNE/@@download/ENCFF355MNE.bed.gz -O K562.ENCSR388QZF.ENCFF355MNE.POLR2A.bed.gz\\\\\n",
       "\t ENCSR000EFS & ENCFF190CGV & Homo sapiens K562 & JUN    & Michael Snyder, Stanford & ENCODE2 & ENCFF190CGV.bed.gz & K562.ENCSR000EFS.ENCFF190CGV.JUN.bed.gz    & https://www.encodeproject.org/ENCFF190CGV/@@download/ENCFF190CGV.bed.gz & wget https://www.encodeproject.org/ENCFF190CGV/@@download/ENCFF190CGV.bed.gz -O K562.ENCSR000EFS.ENCFF190CGV.JUN.bed.gz   \\\\\n",
       "\t ENCSR000EGM & ENCFF660GHM & Homo sapiens K562 & CTCF   & Michael Snyder, Stanford & ENCODE2 & ENCFF660GHM.bed.gz & K562.ENCSR000EGM.ENCFF660GHM.CTCF.bed.gz   & https://www.encodeproject.org/ENCFF660GHM/@@download/ENCFF660GHM.bed.gz & wget https://www.encodeproject.org/ENCFF660GHM/@@download/ENCFF660GHM.bed.gz -O K562.ENCSR000EGM.ENCFF660GHM.CTCF.bed.gz  \\\\\n",
       "\t ENCSR991ELG & ENCFF553GPK & Homo sapiens K562 & SP1    & Michael Snyder, Stanford & ENCODE3 & ENCFF553GPK.bed.gz & K562.ENCSR991ELG.ENCFF553GPK.SP1.bed.gz    & https://www.encodeproject.org/ENCFF553GPK/@@download/ENCFF553GPK.bed.gz & wget https://www.encodeproject.org/ENCFF553GPK/@@download/ENCFF553GPK.bed.gz -O K562.ENCSR991ELG.ENCFF553GPK.SP1.bed.gz   \\\\\n",
       "\t ENCSR000EFU & ENCFF715WGN & Homo sapiens K562 & ELK1   & Michael Snyder, Stanford & ENCODE2 & ENCFF715WGN.bed.gz & K562.ENCSR000EFU.ENCFF715WGN.ELK1.bed.gz   & https://www.encodeproject.org/ENCFF715WGN/@@download/ENCFF715WGN.bed.gz & wget https://www.encodeproject.org/ENCFF715WGN/@@download/ENCFF715WGN.bed.gz -O K562.ENCSR000EFU.ENCFF715WGN.ELK1.bed.gz  \\\\\n",
       "\t ENCSR998AJK & ENCFF777PKJ & Homo sapiens K562 & NRF1   & Michael Snyder, Stanford & ENCODE3 & ENCFF777PKJ.bed.gz & K562.ENCSR998AJK.ENCFF777PKJ.NRF1.bed.gz   & https://www.encodeproject.org/ENCFF777PKJ/@@download/ENCFF777PKJ.bed.gz & wget https://www.encodeproject.org/ENCFF777PKJ/@@download/ENCFF777PKJ.bed.gz -O K562.ENCSR998AJK.ENCFF777PKJ.NRF1.bed.gz  \\\\\n",
       "\\end{tabular}\n"
      ],
      "text/markdown": [
       "\n",
       "A tibble: 6 × 10\n",
       "\n",
       "| Experiment_Accession &lt;chr&gt; | Peak_Accession &lt;chr&gt; | Biosample &lt;chr&gt; | Target &lt;fct&gt; | Lab &lt;chr&gt; | RFA &lt;chr&gt; | FN_INP &lt;chr&gt; | FN_OUT &lt;chr&gt; | URL &lt;chr&gt; | CMD &lt;chr&gt; |\n",
       "|---|---|---|---|---|---|---|---|---|---|\n",
       "| ENCSR388QZF | ENCFF355MNE | Homo sapiens K562 | POLR2A | Michael Snyder, Stanford | ENCODE3 | ENCFF355MNE.bed.gz | K562.ENCSR388QZF.ENCFF355MNE.POLR2A.bed.gz | https://www.encodeproject.org/ENCFF355MNE/@@download/ENCFF355MNE.bed.gz | wget https://www.encodeproject.org/ENCFF355MNE/@@download/ENCFF355MNE.bed.gz -O K562.ENCSR388QZF.ENCFF355MNE.POLR2A.bed.gz |\n",
       "| ENCSR000EFS | ENCFF190CGV | Homo sapiens K562 | JUN    | Michael Snyder, Stanford | ENCODE2 | ENCFF190CGV.bed.gz | K562.ENCSR000EFS.ENCFF190CGV.JUN.bed.gz    | https://www.encodeproject.org/ENCFF190CGV/@@download/ENCFF190CGV.bed.gz | wget https://www.encodeproject.org/ENCFF190CGV/@@download/ENCFF190CGV.bed.gz -O K562.ENCSR000EFS.ENCFF190CGV.JUN.bed.gz    |\n",
       "| ENCSR000EGM | ENCFF660GHM | Homo sapiens K562 | CTCF   | Michael Snyder, Stanford | ENCODE2 | ENCFF660GHM.bed.gz | K562.ENCSR000EGM.ENCFF660GHM.CTCF.bed.gz   | https://www.encodeproject.org/ENCFF660GHM/@@download/ENCFF660GHM.bed.gz | wget https://www.encodeproject.org/ENCFF660GHM/@@download/ENCFF660GHM.bed.gz -O K562.ENCSR000EGM.ENCFF660GHM.CTCF.bed.gz   |\n",
       "| ENCSR991ELG | ENCFF553GPK | Homo sapiens K562 | SP1    | Michael Snyder, Stanford | ENCODE3 | ENCFF553GPK.bed.gz | K562.ENCSR991ELG.ENCFF553GPK.SP1.bed.gz    | https://www.encodeproject.org/ENCFF553GPK/@@download/ENCFF553GPK.bed.gz | wget https://www.encodeproject.org/ENCFF553GPK/@@download/ENCFF553GPK.bed.gz -O K562.ENCSR991ELG.ENCFF553GPK.SP1.bed.gz    |\n",
       "| ENCSR000EFU | ENCFF715WGN | Homo sapiens K562 | ELK1   | Michael Snyder, Stanford | ENCODE2 | ENCFF715WGN.bed.gz | K562.ENCSR000EFU.ENCFF715WGN.ELK1.bed.gz   | https://www.encodeproject.org/ENCFF715WGN/@@download/ENCFF715WGN.bed.gz | wget https://www.encodeproject.org/ENCFF715WGN/@@download/ENCFF715WGN.bed.gz -O K562.ENCSR000EFU.ENCFF715WGN.ELK1.bed.gz   |\n",
       "| ENCSR998AJK | ENCFF777PKJ | Homo sapiens K562 | NRF1   | Michael Snyder, Stanford | ENCODE3 | ENCFF777PKJ.bed.gz | K562.ENCSR998AJK.ENCFF777PKJ.NRF1.bed.gz   | https://www.encodeproject.org/ENCFF777PKJ/@@download/ENCFF777PKJ.bed.gz | wget https://www.encodeproject.org/ENCFF777PKJ/@@download/ENCFF777PKJ.bed.gz -O K562.ENCSR998AJK.ENCFF777PKJ.NRF1.bed.gz   |\n",
       "\n"
      ],
      "text/plain": [
       "  Experiment_Accession Peak_Accession Biosample         Target\n",
       "1 ENCSR388QZF          ENCFF355MNE    Homo sapiens K562 POLR2A\n",
       "2 ENCSR000EFS          ENCFF190CGV    Homo sapiens K562 JUN   \n",
       "3 ENCSR000EGM          ENCFF660GHM    Homo sapiens K562 CTCF  \n",
       "4 ENCSR991ELG          ENCFF553GPK    Homo sapiens K562 SP1   \n",
       "5 ENCSR000EFU          ENCFF715WGN    Homo sapiens K562 ELK1  \n",
       "6 ENCSR998AJK          ENCFF777PKJ    Homo sapiens K562 NRF1  \n",
       "  Lab                      RFA     FN_INP            \n",
       "1 Michael Snyder, Stanford ENCODE3 ENCFF355MNE.bed.gz\n",
       "2 Michael Snyder, Stanford ENCODE2 ENCFF190CGV.bed.gz\n",
       "3 Michael Snyder, Stanford ENCODE2 ENCFF660GHM.bed.gz\n",
       "4 Michael Snyder, Stanford ENCODE3 ENCFF553GPK.bed.gz\n",
       "5 Michael Snyder, Stanford ENCODE2 ENCFF715WGN.bed.gz\n",
       "6 Michael Snyder, Stanford ENCODE3 ENCFF777PKJ.bed.gz\n",
       "  FN_OUT                                    \n",
       "1 K562.ENCSR388QZF.ENCFF355MNE.POLR2A.bed.gz\n",
       "2 K562.ENCSR000EFS.ENCFF190CGV.JUN.bed.gz   \n",
       "3 K562.ENCSR000EGM.ENCFF660GHM.CTCF.bed.gz  \n",
       "4 K562.ENCSR991ELG.ENCFF553GPK.SP1.bed.gz   \n",
       "5 K562.ENCSR000EFU.ENCFF715WGN.ELK1.bed.gz  \n",
       "6 K562.ENCSR998AJK.ENCFF777PKJ.NRF1.bed.gz  \n",
       "  URL                                                                    \n",
       "1 https://www.encodeproject.org/ENCFF355MNE/@@download/ENCFF355MNE.bed.gz\n",
       "2 https://www.encodeproject.org/ENCFF190CGV/@@download/ENCFF190CGV.bed.gz\n",
       "3 https://www.encodeproject.org/ENCFF660GHM/@@download/ENCFF660GHM.bed.gz\n",
       "4 https://www.encodeproject.org/ENCFF553GPK/@@download/ENCFF553GPK.bed.gz\n",
       "5 https://www.encodeproject.org/ENCFF715WGN/@@download/ENCFF715WGN.bed.gz\n",
       "6 https://www.encodeproject.org/ENCFF777PKJ/@@download/ENCFF777PKJ.bed.gz\n",
       "  CMD                                                                                                                       \n",
       "1 wget https://www.encodeproject.org/ENCFF355MNE/@@download/ENCFF355MNE.bed.gz -O K562.ENCSR388QZF.ENCFF355MNE.POLR2A.bed.gz\n",
       "2 wget https://www.encodeproject.org/ENCFF190CGV/@@download/ENCFF190CGV.bed.gz -O K562.ENCSR000EFS.ENCFF190CGV.JUN.bed.gz   \n",
       "3 wget https://www.encodeproject.org/ENCFF660GHM/@@download/ENCFF660GHM.bed.gz -O K562.ENCSR000EGM.ENCFF660GHM.CTCF.bed.gz  \n",
       "4 wget https://www.encodeproject.org/ENCFF553GPK/@@download/ENCFF553GPK.bed.gz -O K562.ENCSR991ELG.ENCFF553GPK.SP1.bed.gz   \n",
       "5 wget https://www.encodeproject.org/ENCFF715WGN/@@download/ENCFF715WGN.bed.gz -O K562.ENCSR000EFU.ENCFF715WGN.ELK1.bed.gz  \n",
       "6 wget https://www.encodeproject.org/ENCFF777PKJ/@@download/ENCFF777PKJ.bed.gz -O K562.ENCSR998AJK.ENCFF777PKJ.NRF1.bed.gz  "
      ]
     },
     "metadata": {},
     "output_type": "display_data"
    }
   ],
   "source": [
    "dat = lst[[2]]\n",
    "head(dat)"
   ]
  },
  {
   "cell_type": "markdown",
   "metadata": {},
   "source": [
    "**Check NA**"
   ]
  },
  {
   "cell_type": "code",
   "execution_count": 15,
   "metadata": {},
   "outputs": [
    {
     "data": {
      "text/html": [
       "<table class=\"dataframe\">\n",
       "<caption>A spec_tbl_df: 2 × 6</caption>\n",
       "<thead>\n",
       "\t<tr><th scope=col>Experiment_Accession</th><th scope=col>Peak_Accession</th><th scope=col>Biosample</th><th scope=col>Target</th><th scope=col>Lab</th><th scope=col>RFA</th></tr>\n",
       "\t<tr><th scope=col>&lt;chr&gt;</th><th scope=col>&lt;chr&gt;</th><th scope=col>&lt;chr&gt;</th><th scope=col>&lt;chr&gt;</th><th scope=col>&lt;chr&gt;</th><th scope=col>&lt;chr&gt;</th></tr>\n",
       "</thead>\n",
       "<tbody>\n",
       "\t<tr><td>ENCSR000DKB</td><td>NA         </td><td>Homo sapiens K562 stably expressing FOS</td><td>FOS</td><td>Kevin White, UChicago </td><td>ENCODE2</td></tr>\n",
       "\t<tr><td>ENCSR000FAI</td><td>ENCFF258PLH</td><td>Homo sapiens K562                      </td><td>FOS</td><td>Sherman Weissman, Yale</td><td>ENCODE2</td></tr>\n",
       "</tbody>\n",
       "</table>\n"
      ],
      "text/latex": [
       "A spec\\_tbl\\_df: 2 × 6\n",
       "\\begin{tabular}{llllll}\n",
       " Experiment\\_Accession & Peak\\_Accession & Biosample & Target & Lab & RFA\\\\\n",
       " <chr> & <chr> & <chr> & <chr> & <chr> & <chr>\\\\\n",
       "\\hline\n",
       "\t ENCSR000DKB & NA          & Homo sapiens K562 stably expressing FOS & FOS & Kevin White, UChicago  & ENCODE2\\\\\n",
       "\t ENCSR000FAI & ENCFF258PLH & Homo sapiens K562                       & FOS & Sherman Weissman, Yale & ENCODE2\\\\\n",
       "\\end{tabular}\n"
      ],
      "text/markdown": [
       "\n",
       "A spec_tbl_df: 2 × 6\n",
       "\n",
       "| Experiment_Accession &lt;chr&gt; | Peak_Accession &lt;chr&gt; | Biosample &lt;chr&gt; | Target &lt;chr&gt; | Lab &lt;chr&gt; | RFA &lt;chr&gt; |\n",
       "|---|---|---|---|---|---|\n",
       "| ENCSR000DKB | NA          | Homo sapiens K562 stably expressing FOS | FOS | Kevin White, UChicago  | ENCODE2 |\n",
       "| ENCSR000FAI | ENCFF258PLH | Homo sapiens K562                       | FOS | Sherman Weissman, Yale | ENCODE2 |\n",
       "\n"
      ],
      "text/plain": [
       "  Experiment_Accession Peak_Accession Biosample                              \n",
       "1 ENCSR000DKB          NA             Homo sapiens K562 stably expressing FOS\n",
       "2 ENCSR000FAI          ENCFF258PLH    Homo sapiens K562                      \n",
       "  Target Lab                    RFA    \n",
       "1 FOS    Kevin White, UChicago  ENCODE2\n",
       "2 FOS    Sherman Weissman, Yale ENCODE2"
      ]
     },
     "metadata": {},
     "output_type": "display_data"
    }
   ],
   "source": [
    "dat = dat_chipseq_tf_k562_full\n",
    "dat %>% dplyr::filter(Target == \"FOS\")"
   ]
  },
  {
   "cell_type": "code",
   "execution_count": 17,
   "metadata": {},
   "outputs": [
    {
     "name": "stdout",
     "output_type": "stream",
     "text": [
      "[1] 735   6\n",
      "[1] 734   6\n"
     ]
    },
    {
     "data": {
      "text/html": [
       "<table class=\"dataframe\">\n",
       "<caption>A tibble: 1 × 6</caption>\n",
       "<thead>\n",
       "\t<tr><th scope=col>Experiment_Accession</th><th scope=col>Peak_Accession</th><th scope=col>Biosample</th><th scope=col>Target</th><th scope=col>Lab</th><th scope=col>RFA</th></tr>\n",
       "\t<tr><th scope=col>&lt;chr&gt;</th><th scope=col>&lt;chr&gt;</th><th scope=col>&lt;chr&gt;</th><th scope=col>&lt;chr&gt;</th><th scope=col>&lt;chr&gt;</th><th scope=col>&lt;chr&gt;</th></tr>\n",
       "</thead>\n",
       "<tbody>\n",
       "\t<tr><td>ENCSR000FAI</td><td>ENCFF258PLH</td><td>Homo sapiens K562</td><td>FOS</td><td>Sherman Weissman, Yale</td><td>ENCODE2</td></tr>\n",
       "</tbody>\n",
       "</table>\n"
      ],
      "text/latex": [
       "A tibble: 1 × 6\n",
       "\\begin{tabular}{llllll}\n",
       " Experiment\\_Accession & Peak\\_Accession & Biosample & Target & Lab & RFA\\\\\n",
       " <chr> & <chr> & <chr> & <chr> & <chr> & <chr>\\\\\n",
       "\\hline\n",
       "\t ENCSR000FAI & ENCFF258PLH & Homo sapiens K562 & FOS & Sherman Weissman, Yale & ENCODE2\\\\\n",
       "\\end{tabular}\n"
      ],
      "text/markdown": [
       "\n",
       "A tibble: 1 × 6\n",
       "\n",
       "| Experiment_Accession &lt;chr&gt; | Peak_Accession &lt;chr&gt; | Biosample &lt;chr&gt; | Target &lt;chr&gt; | Lab &lt;chr&gt; | RFA &lt;chr&gt; |\n",
       "|---|---|---|---|---|---|\n",
       "| ENCSR000FAI | ENCFF258PLH | Homo sapiens K562 | FOS | Sherman Weissman, Yale | ENCODE2 |\n",
       "\n"
      ],
      "text/plain": [
       "  Experiment_Accession Peak_Accession Biosample         Target\n",
       "1 ENCSR000FAI          ENCFF258PLH    Homo sapiens K562 FOS   \n",
       "  Lab                    RFA    \n",
       "1 Sherman Weissman, Yale ENCODE2"
      ]
     },
     "metadata": {},
     "output_type": "display_data"
    }
   ],
   "source": [
    "dat = dat_chipseq_tf_k562_full\n",
    "print(dim(dat))\n",
    "dat = dat %>% na.omit\n",
    "print(dim(dat))\n",
    "dat %>% dplyr::filter(Target == \"FOS\")"
   ]
  },
  {
   "cell_type": "markdown",
   "metadata": {},
   "source": [
    "## Save results"
   ]
  },
  {
   "cell_type": "code",
   "execution_count": 48,
   "metadata": {},
   "outputs": [
    {
     "name": "stdout",
     "output_type": "stream",
     "text": [
      "[1] 735  10\n"
     ]
    }
   ],
   "source": [
    "fdiry = file.path(FD_RES, \"results\", \"region\", \"annotation_chipseq_tf\")\n",
    "fname = \"accession_info_peaks.tsv\"\n",
    "fpath = file.path(fdiry, fname)\n",
    "\n",
    "lst = lst_chipseq_tf_k562_cmd\n",
    "dat = lst[[1]]\n",
    "print(dim(dat))\n",
    "\n",
    "write_tsv(dat, fpath)"
   ]
  },
  {
   "cell_type": "code",
   "execution_count": 49,
   "metadata": {},
   "outputs": [
    {
     "name": "stdout",
     "output_type": "stream",
     "text": [
      "[1] 16 10\n"
     ]
    }
   ],
   "source": [
    "fdiry = file.path(FD_RES, \"results\", \"region\", \"annotation_chipseq_tf_subset\")\n",
    "fname = \"accession_info_peaks.tsv\"\n",
    "fpath = file.path(fdiry, fname)\n",
    "\n",
    "lst = lst_chipseq_tf_k562_cmd\n",
    "dat = lst[[2]]\n",
    "print(dim(dat))\n",
    "\n",
    "write_tsv(dat, fpath)"
   ]
  },
  {
   "cell_type": "code",
   "execution_count": null,
   "metadata": {},
   "outputs": [],
   "source": []
  }
 ],
 "metadata": {
  "kernelspec": {
   "display_name": "R",
   "language": "R",
   "name": "ir"
  },
  "language_info": {
   "codemirror_mode": "r",
   "file_extension": ".r",
   "mimetype": "text/x-r-source",
   "name": "R",
   "pygments_lexer": "r",
   "version": "4.3.0"
  }
 },
 "nbformat": 4,
 "nbformat_minor": 4
}
