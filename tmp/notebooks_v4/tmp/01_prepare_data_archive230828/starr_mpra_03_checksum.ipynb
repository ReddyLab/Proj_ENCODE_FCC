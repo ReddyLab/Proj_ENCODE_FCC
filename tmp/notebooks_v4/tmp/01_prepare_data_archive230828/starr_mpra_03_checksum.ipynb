{
 "cells": [
  {
   "cell_type": "code",
   "execution_count": 23,
   "id": "3676420e-b8b1-4685-af14-46fe085b6178",
   "metadata": {},
   "outputs": [
    {
     "name": "stdout",
     "output_type": "stream",
     "text": [
      "You are on Duke Server: HARDAC\n",
      "BASE DIRECTORY (FD_BASE): /data/reddylab/Kuei\n",
      "WORK DIRECTORY (FD_WORK): /data/reddylab/Kuei/out\n",
      "CODE DIRECTORY (FD_CODE): /data/reddylab/Kuei/code\n",
      "SING DIRECTORY (FD_SING): /data/reddylab/Kuei/singularity\n",
      "PATH OF PROJECT (FD_PRJ): /data/reddylab/Kuei/code/Proj_CombEffect_ENCODE_FCC\n",
      "PATH OF RESULTS (FD_RES): /data/reddylab/Kuei/out/proj_combeffect_encode_fcc\n",
      "PATH OF LOG     (FD_LOG): /data/reddylab/Kuei/out/proj_combeffect_encode_fcc/log\n",
      "\n"
     ]
    }
   ],
   "source": [
    "source ../config/config_duke.sh\n",
    "show_env"
   ]
  },
  {
   "cell_type": "markdown",
   "id": "f31cb849-4cd2-4149-8163-f7b01a977569",
   "metadata": {},
   "source": [
    "## ASTARR"
   ]
  },
  {
   "cell_type": "code",
   "execution_count": 40,
   "id": "50a2d6f9-bc6b-439d-ad09-2de30a17e192",
   "metadata": {},
   "outputs": [
    {
     "name": "stdout",
     "output_type": "stream",
     "text": [
      "KS91_K562_hg38_ASTARRseq_Input_rep1.masked.dedup.fragments.counts.txt.gz\n",
      "KS91_K562_hg38_ASTARRseq_Input_rep2.masked.dedup.fragments.counts.txt.gz\n",
      "KS91_K562_hg38_ASTARRseq_Input_rep3.masked.dedup.fragments.counts.txt.gz\n",
      "KS91_K562_hg38_ASTARRseq_Input_rep4.masked.dedup.fragments.counts.txt.gz\n",
      "KS91_K562_hg38_ASTARRseq_Input_rep5.masked.dedup.fragments.counts.txt.gz\n",
      "KS91_K562_hg38_ASTARRseq_Input_rep6.masked.dedup.fragments.counts.txt.gz\n",
      "KS91_K562_hg38_ASTARRseq_Output_rep1.f3q10.fragments.counts.txt.gz\n",
      "KS91_K562_hg38_ASTARRseq_Output_rep2.f3q10.fragments.counts.txt.gz\n",
      "KS91_K562_hg38_ASTARRseq_Output_rep3.f3q10.fragments.counts.txt.gz\n",
      "KS91_K562_hg38_ASTARRseq_Output_rep4.f3q10.fragments.counts.txt.gz\n"
     ]
    }
   ],
   "source": [
    "FD_OUT=${FD_RES}/source/KS91_K562_astarrseq_fragments_wgs\n",
    "FN_OUT=md5sums_source.txt\n",
    "FP_OUT=${FD_OUT}/${FN_OUT}\n",
    "\n",
    "cat /dev/null > ${FP_OUT}\n",
    "for FP_INP in ${FP_WGS_ASTARR[@]}; do\n",
    "    FNAME=$(basename ${FP_INP})\n",
    "    echo ${FNAME}\n",
    "    md5sum ${FP_INP} >> ${FP_OUT}\n",
    "done"
   ]
  },
  {
   "cell_type": "code",
   "execution_count": 41,
   "id": "55d7816b-0be5-4911-9667-48dea04ef859",
   "metadata": {},
   "outputs": [
    {
     "name": "stdout",
     "output_type": "stream",
     "text": [
      "KS91_K562_hg38_ASTARRseq_Input_rep1.masked.dedup.fragments.counts.txt.gz\n",
      "KS91_K562_hg38_ASTARRseq_Input_rep2.masked.dedup.fragments.counts.txt.gz\n",
      "KS91_K562_hg38_ASTARRseq_Input_rep3.masked.dedup.fragments.counts.txt.gz\n",
      "KS91_K562_hg38_ASTARRseq_Input_rep4.masked.dedup.fragments.counts.txt.gz\n",
      "KS91_K562_hg38_ASTARRseq_Input_rep5.masked.dedup.fragments.counts.txt.gz\n",
      "KS91_K562_hg38_ASTARRseq_Input_rep6.masked.dedup.fragments.counts.txt.gz\n",
      "KS91_K562_hg38_ASTARRseq_Output_rep1.f3q10.fragments.counts.txt.gz\n",
      "KS91_K562_hg38_ASTARRseq_Output_rep2.f3q10.fragments.counts.txt.gz\n",
      "KS91_K562_hg38_ASTARRseq_Output_rep3.f3q10.fragments.counts.txt.gz\n",
      "KS91_K562_hg38_ASTARRseq_Output_rep4.f3q10.fragments.counts.txt.gz\n"
     ]
    }
   ],
   "source": [
    "FD_INP=${FD_RES}/source/KS91_K562_astarrseq_fragments_wgs\n",
    "FP_INPS=($(ls ${FD_INP}/*counts*))\n",
    "\n",
    "FD_OUT=${FD_RES}/source/KS91_K562_astarrseq_fragments_wgs\n",
    "FN_OUT=md5sums_check.txt\n",
    "FP_OUT=${FD_OUT}/${FN_OUT}\n",
    "\n",
    "cat /dev/null > ${FP_OUT}\n",
    "for FP_INP in ${FP_INPS[@]}; do\n",
    "    FNAME=$(basename ${FP_INP})\n",
    "    echo ${FNAME}\n",
    "    md5sum ${FP_INP} >> ${FP_OUT}\n",
    "done"
   ]
  },
  {
   "cell_type": "code",
   "execution_count": 42,
   "id": "df0e4d66-c2a4-4790-925f-00560e629c4d",
   "metadata": {},
   "outputs": [
    {
     "name": "stdout",
     "output_type": "stream",
     "text": [
      "/data/reddylab/Kuei/out/proj_combeffect_encode_fcc/source/KS91_K562_astarrseq_fragments_wgs/md5sums_source.txt\n",
      "\n",
      "5d3c2ffff120fc0282aaa0d7b6828c34\n",
      "8474b5a3ca446579e1f9b7c0c0e5cc11\n",
      "635de8206bd77ef9179987285b7042d3\n",
      "7eb9a74256bcbe34b566e9fb0247e188\n",
      "2807114cadb981440fa3976293225259\n",
      "8012b0e83d6ab908d5edef244be74e00\n",
      "850cded43890008c3c880fb0bf8c7459\n",
      "a946b9e9a24a27fc91b0621e391297e9\n",
      "bd9351542aca8600514c099c13a53924\n",
      "ede73569c023fa6b6d4a6f9c86f8d7cd\n"
     ]
    }
   ],
   "source": [
    "FD_OUT=${FD_RES}/source/KS91_K562_astarrseq_fragments_wgs\n",
    "FN_OUT=md5sums_source.txt\n",
    "FP_OUT=${FD_OUT}/${FN_OUT}\n",
    "\n",
    "echo ${FP_OUT}\n",
    "echo\n",
    "cat  ${FP_OUT} | cut -d ' ' -f1"
   ]
  },
  {
   "cell_type": "code",
   "execution_count": 43,
   "id": "293f0bdc-2c22-49c5-856c-570c33ba1bd0",
   "metadata": {},
   "outputs": [
    {
     "name": "stdout",
     "output_type": "stream",
     "text": [
      "/data/reddylab/Kuei/out/proj_combeffect_encode_fcc/source/KS91_K562_astarrseq_fragments_wgs/md5sums_check.txt\n",
      "\n",
      "5d3c2ffff120fc0282aaa0d7b6828c34\n",
      "8474b5a3ca446579e1f9b7c0c0e5cc11\n",
      "635de8206bd77ef9179987285b7042d3\n",
      "7eb9a74256bcbe34b566e9fb0247e188\n",
      "2807114cadb981440fa3976293225259\n",
      "8012b0e83d6ab908d5edef244be74e00\n",
      "850cded43890008c3c880fb0bf8c7459\n",
      "a946b9e9a24a27fc91b0621e391297e9\n",
      "bd9351542aca8600514c099c13a53924\n",
      "ede73569c023fa6b6d4a6f9c86f8d7cd\n"
     ]
    }
   ],
   "source": [
    "FD_OUT=${FD_RES}/source/KS91_K562_astarrseq_fragments_wgs\n",
    "FN_OUT=md5sums_check.txt\n",
    "FP_OUT=${FD_OUT}/${FN_OUT}\n",
    "\n",
    "echo ${FP_OUT}\n",
    "echo\n",
    "cat  ${FP_OUT} | cut -d ' ' -f1"
   ]
  },
  {
   "cell_type": "markdown",
   "id": "75facdf8-0554-4b87-a957-62291c80f956",
   "metadata": {},
   "source": [
    "## WSTARR"
   ]
  },
  {
   "cell_type": "code",
   "execution_count": 26,
   "id": "0aac4b36-e4bd-47e3-b465-01c440483d17",
   "metadata": {},
   "outputs": [
    {
     "name": "stdout",
     "output_type": "stream",
     "text": [
      "A001-input-K562-rep1.masked.dedup.fragments.counts.txt.gz\n",
      "A001-input-K562-rep2.masked.dedup.fragments.counts.txt.gz\n",
      "A001-input-K562-rep3.masked.dedup.fragments.counts.txt.gz\n",
      "A001-input-K562-rep4.masked.dedup.fragments.counts.txt.gz\n",
      "A001-K562-rep1.masked.dedup.fragments.counts.txt.gz\n",
      "A001-K562-rep2.masked.dedup.fragments.counts.txt.gz\n",
      "A001-K562-rep3.masked.dedup.fragments.counts.txt.gz\n"
     ]
    }
   ],
   "source": [
    "FD_INP=/data/reddylab/Alex/encode4_duke/data/starr_seq/fragments\n",
    "ls ${FD_INP}/*count* | xargs -n 1 basename"
   ]
  },
  {
   "cell_type": "code",
   "execution_count": 27,
   "id": "1f261eaf-dbc6-47b2-8de7-cbe0b1f4af22",
   "metadata": {},
   "outputs": [
    {
     "name": "stdout",
     "output_type": "stream",
     "text": [
      "A001-input-K562-rep1.masked.dedup.fragments.counts.txt.gz\n",
      "A001-input-K562-rep2.masked.dedup.fragments.counts.txt.gz\n",
      "A001-input-K562-rep3.masked.dedup.fragments.counts.txt.gz\n",
      "A001-input-K562-rep4.masked.dedup.fragments.counts.txt.gz\n",
      "A001-K562-rep1.masked.dedup.fragments.counts.txt.gz\n",
      "A001-K562-rep2.masked.dedup.fragments.counts.txt.gz\n",
      "A001-K562-rep3.masked.dedup.fragments.counts.txt.gz\n"
     ]
    }
   ],
   "source": [
    "FD_INP=/data/reddylab/Kuei/out/proj_combeffect_encode_fcc/source/A001_K562_wstarrseq_fragments_wgs\n",
    "ls ${FD_INP}/*count* | xargs -n 1 basename"
   ]
  },
  {
   "cell_type": "code",
   "execution_count": 3,
   "id": "1baf0c97-9871-4ed0-aa03-81b3ebf4bac6",
   "metadata": {},
   "outputs": [
    {
     "name": "stdout",
     "output_type": "stream",
     "text": [
      "A001-input-K562-rep1.masked.dedup.fragments.counts.txt.gz\n",
      "26908970\n",
      "\n",
      "A001-input-K562-rep2.masked.dedup.fragments.counts.txt.gz\n",
      "99899775\n",
      "\n",
      "A001-input-K562-rep3.masked.dedup.fragments.counts.txt.gz\n",
      "105623984\n",
      "\n",
      "A001-input-K562-rep4.masked.dedup.fragments.counts.txt.gz\n",
      "108635002\n",
      "\n",
      "A001-K562-rep1.masked.dedup.fragments.counts.txt.gz\n",
      "160349140\n",
      "\n",
      "A001-K562-rep2.masked.dedup.fragments.counts.txt.gz\n",
      "157326312\n",
      "\n",
      "A001-K562-rep3.masked.dedup.fragments.counts.txt.gz\n",
      "328185275\n",
      "\n"
     ]
    }
   ],
   "source": [
    "FDIRY=/data/reddylab/Alex/encode4_duke/data/starr_seq/fragments\n",
    "FPATHS=($(ls ${FDIRY}/*counts*gz))\n",
    "for FPATH in ${FPATHS[@]}; do\n",
    "    FNAME=$(basename ${FPATH})\n",
    "    echo ${FNAME}\n",
    "    zcat ${FPATH} | wc -l \n",
    "    echo\n",
    "done"
   ]
  },
  {
   "cell_type": "code",
   "execution_count": 17,
   "id": "ae382ca1-4ceb-4b0b-a6a4-8dd90e9e9308",
   "metadata": {},
   "outputs": [
    {
     "name": "stdout",
     "output_type": "stream",
     "text": [
      "A001-input-K562-rep1.masked.dedup.fragments.counts.txt.gz\n",
      "A001-input-K562-rep2.masked.dedup.fragments.counts.txt.gz\n",
      "A001-input-K562-rep3.masked.dedup.fragments.counts.txt.gz\n",
      "A001-input-K562-rep4.masked.dedup.fragments.counts.txt.gz\n",
      "A001-K562-rep1.masked.dedup.fragments.counts.txt.gz\n",
      "A001-K562-rep2.masked.dedup.fragments.counts.txt.gz\n",
      "A001-K562-rep3.masked.dedup.fragments.counts.txt.gz\n"
     ]
    }
   ],
   "source": [
    "FD_INP=/data/reddylab/Alex/encode4_duke/data/starr_seq/fragments\n",
    "FP_INPS=($(ls ${FD_INP}/*counts*gz))\n",
    "\n",
    "FD_OUT=/data/reddylab/Kuei/out/proj_combeffect_encode_fcc/source/A001_K562_wstarrseq_fragments_wgs\n",
    "FN_OUT=md5sums_source.txt\n",
    "FP_OUT=${FD_OUT}/${FN_OUT}\n",
    "\n",
    "cat /dev/null > ${FP_OUT}\n",
    "for FP_INP in ${FP_INPS[@]}; do\n",
    "    FNAME=$(basename ${FP_INP})\n",
    "    echo ${FNAME}\n",
    "    md5sum ${FP_INP} >> ${FP_OUT}\n",
    "done"
   ]
  },
  {
   "cell_type": "code",
   "execution_count": 33,
   "id": "1f636d93-853c-40be-929e-865e37c6dc45",
   "metadata": {},
   "outputs": [
    {
     "name": "stdout",
     "output_type": "stream",
     "text": [
      "/data/reddylab/Kuei/out/proj_combeffect_encode_fcc/source/A001_K562_wstarrseq_fragments_wgs/md5sums_source.txt\n",
      "\n",
      "f9d70933fe390f6c2db7696a3de05ec5\n",
      "7458127731a9e5d11ddab95429d00217\n",
      "d1cde914570bb8399f23bb36770e2f59\n",
      "3b6028fc313fa6dd28c8503a7d1138c6\n",
      "d3a595c2b06809208cdb0a77c526c9bc\n",
      "841861a42ecbfa64cb3e8527529ba441\n",
      "13b776edac76e99dd3a4249e3d06d00c\n"
     ]
    }
   ],
   "source": [
    "FD_OUT=/data/reddylab/Kuei/out/proj_combeffect_encode_fcc/source/A001_K562_wstarrseq_fragments_wgs\n",
    "FN_OUT=md5sums_source.txt\n",
    "FP_OUT=${FD_OUT}/${FN_OUT}\n",
    "\n",
    "echo ${FP_OUT}\n",
    "echo\n",
    "cat  ${FP_OUT} | cut -d ' ' -f1"
   ]
  },
  {
   "cell_type": "code",
   "execution_count": 28,
   "id": "9eddff49-cfe4-43e6-a74b-c6a1edb7ed97",
   "metadata": {},
   "outputs": [
    {
     "name": "stdout",
     "output_type": "stream",
     "text": [
      "A001-input-K562-rep1.masked.dedup.fragments.counts.txt.gz\n",
      "A001-input-K562-rep2.masked.dedup.fragments.counts.txt.gz\n",
      "A001-input-K562-rep3.masked.dedup.fragments.counts.txt.gz\n",
      "A001-input-K562-rep4.masked.dedup.fragments.counts.txt.gz\n",
      "A001-K562-rep1.masked.dedup.fragments.counts.txt.gz\n",
      "A001-K562-rep2.masked.dedup.fragments.counts.txt.gz\n",
      "A001-K562-rep3.masked.dedup.fragments.counts.txt.gz\n"
     ]
    }
   ],
   "source": [
    "FD_INP=/data/reddylab/Kuei/out/proj_combeffect_encode_fcc/source/A001_K562_wstarrseq_fragments_wgs\n",
    "FP_INPS=($(ls ${FD_INP}/*counts*gz))\n",
    "\n",
    "FD_OUT=/data/reddylab/Kuei/out/proj_combeffect_encode_fcc/source/A001_K562_wstarrseq_fragments_wgs\n",
    "FN_OUT=md5sums_check.txt\n",
    "FP_OUT=${FD_OUT}/${FN_OUT}\n",
    "\n",
    "cat /dev/null > ${FP_OUT}\n",
    "for FP_INP in ${FP_INPS[@]}; do\n",
    "    FNAME=$(basename ${FP_INP})\n",
    "    echo ${FNAME}\n",
    "    md5sum ${FP_INP} >> ${FP_OUT}\n",
    "done"
   ]
  },
  {
   "cell_type": "code",
   "execution_count": 32,
   "id": "05dd06be-d2b3-456d-9c2f-c8bd49560efc",
   "metadata": {},
   "outputs": [
    {
     "name": "stdout",
     "output_type": "stream",
     "text": [
      "/data/reddylab/Kuei/out/proj_combeffect_encode_fcc/source/A001_K562_wstarrseq_fragments_wgs/md5sums_check.txt\n",
      "\n",
      "f9d70933fe390f6c2db7696a3de05ec5\n",
      "7458127731a9e5d11ddab95429d00217\n",
      "d1cde914570bb8399f23bb36770e2f59\n",
      "3b6028fc313fa6dd28c8503a7d1138c6\n",
      "d3a595c2b06809208cdb0a77c526c9bc\n",
      "841861a42ecbfa64cb3e8527529ba441\n",
      "13b776edac76e99dd3a4249e3d06d00c\n"
     ]
    }
   ],
   "source": [
    "FD_OUT=/data/reddylab/Kuei/out/proj_combeffect_encode_fcc/source/A001_K562_wstarrseq_fragments_wgs\n",
    "FN_OUT=md5sums_check.txt\n",
    "FP_OUT=${FD_OUT}/${FN_OUT}\n",
    "\n",
    "echo ${FP_OUT}\n",
    "echo\n",
    "cat  ${FP_OUT} | cut -d ' ' -f1"
   ]
  },
  {
   "cell_type": "code",
   "execution_count": null,
   "id": "734a5465-11d4-4fc1-b252-212c6ccaa289",
   "metadata": {},
   "outputs": [],
   "source": []
  }
 ],
 "metadata": {
  "kernelspec": {
   "display_name": "Bash",
   "language": "bash",
   "name": "bash"
  },
  "language_info": {
   "codemirror_mode": "shell",
   "file_extension": ".sh",
   "mimetype": "text/x-sh",
   "name": "bash"
  }
 },
 "nbformat": 4,
 "nbformat_minor": 5
}
