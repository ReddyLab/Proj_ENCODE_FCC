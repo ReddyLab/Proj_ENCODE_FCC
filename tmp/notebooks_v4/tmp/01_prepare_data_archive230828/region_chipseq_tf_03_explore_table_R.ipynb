{
 "cells": [
  {
   "cell_type": "markdown",
   "metadata": {},
   "source": [
    "**Set environment**"
   ]
  },
  {
   "cell_type": "code",
   "execution_count": 1,
   "metadata": {},
   "outputs": [
    {
     "name": "stdout",
     "output_type": "stream",
     "text": [
      "You are in Singularity: singularity_proj_encode_fcc \n",
      "BASE DIRECTORY (FD_BASE): /data/reddylab/Kuei \n",
      "WORK DIRECTORY (FD_WORK): /data/reddylab/Kuei/out \n",
      "CODE DIRECTORY (FD_CODE): /data/reddylab/Kuei/code \n",
      "PATH OF PROJECT (FD_PRJ): /data/reddylab/Kuei/code/Proj_CombEffect_ENCODE_FCC \n",
      "PATH OF RESULTS (FD_RES): /data/reddylab/Kuei/out/proj_combeffect_encode_fcc \n",
      "PATH OF LOG     (FD_LOG): /data/reddylab/Kuei/out/proj_combeffect_encode_fcc/log \n"
     ]
    }
   ],
   "source": [
    "suppressMessages(suppressWarnings(source(\"../config/config_sing.R\")))\n",
    "show_env()"
   ]
  },
  {
   "cell_type": "code",
   "execution_count": 2,
   "metadata": {},
   "outputs": [
    {
     "data": {
      "text/html": [
       "<style>\n",
       ".list-inline {list-style: none; margin:0; padding: 0}\n",
       ".list-inline>li {display: inline-block}\n",
       ".list-inline>li:not(:last-child)::after {content: \"\\00b7\"; padding: 0 .5ex}\n",
       "</style>\n",
       "<ol class=list-inline><li>'accession_info_peaks.tsv'</li><li>'description.tsv'</li><li>'download_log.txt'</li><li>'download.sh'</li><li>'K562.ENCSR000BMH.ENCFF398UQZ.YY1.bed.gz'</li><li>'K562.ENCSR000BMW.ENCFF707MDI.REST.bed.gz'</li><li>'K562.ENCSR000EFS.ENCFF190CGV.JUN.bed.gz'</li><li>'K562.ENCSR000EFT.ENCFF657CTC.GATA1.bed.gz'</li><li>'K562.ENCSR000EFU.ENCFF715WGN.ELK1.bed.gz'</li><li>'K562.ENCSR000EGE.ENCFF702XPO.EP300.bed.gz'</li><li>'K562.ENCSR000EGM.ENCFF660GHM.CTCF.bed.gz'</li><li>'K562.ENCSR000EHB.ENCFF852ZRK.TAL1.bed.gz'</li><li>'K562.ENCSR004GKA.ENCFF242AOL.ZEB2.bed.gz'</li><li>'K562.ENCSR091GVJ.ENCFF627RSK.ATF1.bed.gz'</li><li>'K562.ENCSR121SPB.ENCFF142ZTD.KLF10.bed.gz'</li><li>'K562.ENCSR388QZF.ENCFF355MNE.POLR2A.bed.gz'</li><li>'K562.ENCSR552YGL.ENCFF023IFO.NFE2.bed.gz'</li><li>'K562.ENCSR760UVO.ENCFF488OTN.KLF16.bed.gz'</li><li>'K562.ENCSR991ELG.ENCFF553GPK.SP1.bed.gz'</li><li>'K562.ENCSR998AJK.ENCFF777PKJ.NRF1.bed.gz'</li></ol>\n"
      ],
      "text/latex": [
       "\\begin{enumerate*}\n",
       "\\item 'accession\\_info\\_peaks.tsv'\n",
       "\\item 'description.tsv'\n",
       "\\item 'download\\_log.txt'\n",
       "\\item 'download.sh'\n",
       "\\item 'K562.ENCSR000BMH.ENCFF398UQZ.YY1.bed.gz'\n",
       "\\item 'K562.ENCSR000BMW.ENCFF707MDI.REST.bed.gz'\n",
       "\\item 'K562.ENCSR000EFS.ENCFF190CGV.JUN.bed.gz'\n",
       "\\item 'K562.ENCSR000EFT.ENCFF657CTC.GATA1.bed.gz'\n",
       "\\item 'K562.ENCSR000EFU.ENCFF715WGN.ELK1.bed.gz'\n",
       "\\item 'K562.ENCSR000EGE.ENCFF702XPO.EP300.bed.gz'\n",
       "\\item 'K562.ENCSR000EGM.ENCFF660GHM.CTCF.bed.gz'\n",
       "\\item 'K562.ENCSR000EHB.ENCFF852ZRK.TAL1.bed.gz'\n",
       "\\item 'K562.ENCSR004GKA.ENCFF242AOL.ZEB2.bed.gz'\n",
       "\\item 'K562.ENCSR091GVJ.ENCFF627RSK.ATF1.bed.gz'\n",
       "\\item 'K562.ENCSR121SPB.ENCFF142ZTD.KLF10.bed.gz'\n",
       "\\item 'K562.ENCSR388QZF.ENCFF355MNE.POLR2A.bed.gz'\n",
       "\\item 'K562.ENCSR552YGL.ENCFF023IFO.NFE2.bed.gz'\n",
       "\\item 'K562.ENCSR760UVO.ENCFF488OTN.KLF16.bed.gz'\n",
       "\\item 'K562.ENCSR991ELG.ENCFF553GPK.SP1.bed.gz'\n",
       "\\item 'K562.ENCSR998AJK.ENCFF777PKJ.NRF1.bed.gz'\n",
       "\\end{enumerate*}\n"
      ],
      "text/markdown": [
       "1. 'accession_info_peaks.tsv'\n",
       "2. 'description.tsv'\n",
       "3. 'download_log.txt'\n",
       "4. 'download.sh'\n",
       "5. 'K562.ENCSR000BMH.ENCFF398UQZ.YY1.bed.gz'\n",
       "6. 'K562.ENCSR000BMW.ENCFF707MDI.REST.bed.gz'\n",
       "7. 'K562.ENCSR000EFS.ENCFF190CGV.JUN.bed.gz'\n",
       "8. 'K562.ENCSR000EFT.ENCFF657CTC.GATA1.bed.gz'\n",
       "9. 'K562.ENCSR000EFU.ENCFF715WGN.ELK1.bed.gz'\n",
       "10. 'K562.ENCSR000EGE.ENCFF702XPO.EP300.bed.gz'\n",
       "11. 'K562.ENCSR000EGM.ENCFF660GHM.CTCF.bed.gz'\n",
       "12. 'K562.ENCSR000EHB.ENCFF852ZRK.TAL1.bed.gz'\n",
       "13. 'K562.ENCSR004GKA.ENCFF242AOL.ZEB2.bed.gz'\n",
       "14. 'K562.ENCSR091GVJ.ENCFF627RSK.ATF1.bed.gz'\n",
       "15. 'K562.ENCSR121SPB.ENCFF142ZTD.KLF10.bed.gz'\n",
       "16. 'K562.ENCSR388QZF.ENCFF355MNE.POLR2A.bed.gz'\n",
       "17. 'K562.ENCSR552YGL.ENCFF023IFO.NFE2.bed.gz'\n",
       "18. 'K562.ENCSR760UVO.ENCFF488OTN.KLF16.bed.gz'\n",
       "19. 'K562.ENCSR991ELG.ENCFF553GPK.SP1.bed.gz'\n",
       "20. 'K562.ENCSR998AJK.ENCFF777PKJ.NRF1.bed.gz'\n",
       "\n",
       "\n"
      ],
      "text/plain": [
       " [1] \"accession_info_peaks.tsv\"                  \n",
       " [2] \"description.tsv\"                           \n",
       " [3] \"download_log.txt\"                          \n",
       " [4] \"download.sh\"                               \n",
       " [5] \"K562.ENCSR000BMH.ENCFF398UQZ.YY1.bed.gz\"   \n",
       " [6] \"K562.ENCSR000BMW.ENCFF707MDI.REST.bed.gz\"  \n",
       " [7] \"K562.ENCSR000EFS.ENCFF190CGV.JUN.bed.gz\"   \n",
       " [8] \"K562.ENCSR000EFT.ENCFF657CTC.GATA1.bed.gz\" \n",
       " [9] \"K562.ENCSR000EFU.ENCFF715WGN.ELK1.bed.gz\"  \n",
       "[10] \"K562.ENCSR000EGE.ENCFF702XPO.EP300.bed.gz\" \n",
       "[11] \"K562.ENCSR000EGM.ENCFF660GHM.CTCF.bed.gz\"  \n",
       "[12] \"K562.ENCSR000EHB.ENCFF852ZRK.TAL1.bed.gz\"  \n",
       "[13] \"K562.ENCSR004GKA.ENCFF242AOL.ZEB2.bed.gz\"  \n",
       "[14] \"K562.ENCSR091GVJ.ENCFF627RSK.ATF1.bed.gz\"  \n",
       "[15] \"K562.ENCSR121SPB.ENCFF142ZTD.KLF10.bed.gz\" \n",
       "[16] \"K562.ENCSR388QZF.ENCFF355MNE.POLR2A.bed.gz\"\n",
       "[17] \"K562.ENCSR552YGL.ENCFF023IFO.NFE2.bed.gz\"  \n",
       "[18] \"K562.ENCSR760UVO.ENCFF488OTN.KLF16.bed.gz\" \n",
       "[19] \"K562.ENCSR991ELG.ENCFF553GPK.SP1.bed.gz\"   \n",
       "[20] \"K562.ENCSR998AJK.ENCFF777PKJ.NRF1.bed.gz\"  "
      ]
     },
     "metadata": {},
     "output_type": "display_data"
    }
   ],
   "source": [
    "fdiry = file.path(\n",
    "    FD_RES, \n",
    "    \"results\", \n",
    "    \"region\", \n",
    "    \"annotation_chipseq_tf_subset\")\n",
    "fnames = dir(fdiry)\n",
    "fnames"
   ]
  },
  {
   "cell_type": "markdown",
   "metadata": {},
   "source": [
    "## Import data"
   ]
  },
  {
   "cell_type": "code",
   "execution_count": 3,
   "metadata": {},
   "outputs": [
    {
     "name": "stdout",
     "output_type": "stream",
     "text": [
      "[1] 58684    10\n"
     ]
    },
    {
     "data": {
      "text/html": [
       "<table class=\"dataframe\">\n",
       "<caption>A tibble: 6 × 10</caption>\n",
       "<thead>\n",
       "\t<tr><th scope=col>X1</th><th scope=col>X2</th><th scope=col>X3</th><th scope=col>X4</th><th scope=col>X5</th><th scope=col>X6</th><th scope=col>X7</th><th scope=col>X8</th><th scope=col>X9</th><th scope=col>X10</th></tr>\n",
       "\t<tr><th scope=col>&lt;chr&gt;</th><th scope=col>&lt;dbl&gt;</th><th scope=col>&lt;dbl&gt;</th><th scope=col>&lt;chr&gt;</th><th scope=col>&lt;dbl&gt;</th><th scope=col>&lt;chr&gt;</th><th scope=col>&lt;dbl&gt;</th><th scope=col>&lt;dbl&gt;</th><th scope=col>&lt;dbl&gt;</th><th scope=col>&lt;dbl&gt;</th></tr>\n",
       "</thead>\n",
       "<tbody>\n",
       "\t<tr><td>chr1</td><td> 16127</td><td> 16367</td><td>.</td><td> 776</td><td>.</td><td> 24.18824</td><td>-1</td><td>3.52629</td><td>120</td></tr>\n",
       "\t<tr><td>chr1</td><td>267886</td><td>268126</td><td>.</td><td>1000</td><td>.</td><td> 78.91004</td><td>-1</td><td>4.97158</td><td>120</td></tr>\n",
       "\t<tr><td>chr1</td><td>586068</td><td>586308</td><td>.</td><td>1000</td><td>.</td><td> 52.49940</td><td>-1</td><td>4.97158</td><td>120</td></tr>\n",
       "\t<tr><td>chr1</td><td>778768</td><td>778927</td><td>.</td><td>1000</td><td>.</td><td>167.75580</td><td>-1</td><td>4.97158</td><td>136</td></tr>\n",
       "\t<tr><td>chr1</td><td>858026</td><td>858266</td><td>.</td><td>1000</td><td>.</td><td> 37.67029</td><td>-1</td><td>4.97158</td><td>120</td></tr>\n",
       "\t<tr><td>chr1</td><td>869845</td><td>869994</td><td>.</td><td>1000</td><td>.</td><td>194.36523</td><td>-1</td><td>4.97158</td><td> 76</td></tr>\n",
       "</tbody>\n",
       "</table>\n"
      ],
      "text/latex": [
       "A tibble: 6 × 10\n",
       "\\begin{tabular}{llllllllll}\n",
       " X1 & X2 & X3 & X4 & X5 & X6 & X7 & X8 & X9 & X10\\\\\n",
       " <chr> & <dbl> & <dbl> & <chr> & <dbl> & <chr> & <dbl> & <dbl> & <dbl> & <dbl>\\\\\n",
       "\\hline\n",
       "\t chr1 &  16127 &  16367 & . &  776 & . &  24.18824 & -1 & 3.52629 & 120\\\\\n",
       "\t chr1 & 267886 & 268126 & . & 1000 & . &  78.91004 & -1 & 4.97158 & 120\\\\\n",
       "\t chr1 & 586068 & 586308 & . & 1000 & . &  52.49940 & -1 & 4.97158 & 120\\\\\n",
       "\t chr1 & 778768 & 778927 & . & 1000 & . & 167.75580 & -1 & 4.97158 & 136\\\\\n",
       "\t chr1 & 858026 & 858266 & . & 1000 & . &  37.67029 & -1 & 4.97158 & 120\\\\\n",
       "\t chr1 & 869845 & 869994 & . & 1000 & . & 194.36523 & -1 & 4.97158 &  76\\\\\n",
       "\\end{tabular}\n"
      ],
      "text/markdown": [
       "\n",
       "A tibble: 6 × 10\n",
       "\n",
       "| X1 &lt;chr&gt; | X2 &lt;dbl&gt; | X3 &lt;dbl&gt; | X4 &lt;chr&gt; | X5 &lt;dbl&gt; | X6 &lt;chr&gt; | X7 &lt;dbl&gt; | X8 &lt;dbl&gt; | X9 &lt;dbl&gt; | X10 &lt;dbl&gt; |\n",
       "|---|---|---|---|---|---|---|---|---|---|\n",
       "| chr1 |  16127 |  16367 | . |  776 | . |  24.18824 | -1 | 3.52629 | 120 |\n",
       "| chr1 | 267886 | 268126 | . | 1000 | . |  78.91004 | -1 | 4.97158 | 120 |\n",
       "| chr1 | 586068 | 586308 | . | 1000 | . |  52.49940 | -1 | 4.97158 | 120 |\n",
       "| chr1 | 778768 | 778927 | . | 1000 | . | 167.75580 | -1 | 4.97158 | 136 |\n",
       "| chr1 | 858026 | 858266 | . | 1000 | . |  37.67029 | -1 | 4.97158 | 120 |\n",
       "| chr1 | 869845 | 869994 | . | 1000 | . | 194.36523 | -1 | 4.97158 |  76 |\n",
       "\n"
      ],
      "text/plain": [
       "  X1   X2     X3     X4 X5   X6 X7        X8 X9      X10\n",
       "1 chr1  16127  16367 .   776 .   24.18824 -1 3.52629 120\n",
       "2 chr1 267886 268126 .  1000 .   78.91004 -1 4.97158 120\n",
       "3 chr1 586068 586308 .  1000 .   52.49940 -1 4.97158 120\n",
       "4 chr1 778768 778927 .  1000 .  167.75580 -1 4.97158 136\n",
       "5 chr1 858026 858266 .  1000 .   37.67029 -1 4.97158 120\n",
       "6 chr1 869845 869994 .  1000 .  194.36523 -1 4.97158  76"
      ]
     },
     "metadata": {},
     "output_type": "display_data"
    }
   ],
   "source": [
    "fdiry = file.path(\n",
    "    FD_RES, \n",
    "    \"results\", \n",
    "    \"region\", \n",
    "    \"annotation_chipseq_tf_subset\")\n",
    "fname = \"K562.ENCSR000EGM.ENCFF660GHM.CTCF.bed.gz\"\n",
    "fpath = file.path(fdiry, fname)\n",
    "\n",
    "dat = read_tsv(fpath, col_names = FALSE, show_col_types = FALSE)\n",
    "\n",
    "dat_chipseq_tf_ctcf = dat\n",
    "print(dim(dat))\n",
    "head(dat)"
   ]
  },
  {
   "cell_type": "code",
   "execution_count": 4,
   "metadata": {},
   "outputs": [
    {
     "data": {
      "text/plain": [
       "   Min. 1st Qu.  Median    Mean 3rd Qu.    Max. \n",
       "     -1      -1      -1      -1      -1      -1 "
      ]
     },
     "metadata": {},
     "output_type": "display_data"
    }
   ],
   "source": [
    "summary(dat$X8)"
   ]
  },
  {
   "cell_type": "markdown",
   "metadata": {},
   "source": [
    "## Define column names"
   ]
  },
  {
   "cell_type": "markdown",
   "metadata": {},
   "source": [
    "ENCODE-DCC/chip-seq-pipeline: ENCODE Uniform processing pipeline for ChIP-seq\n",
    "https://github.com/ENCODE-DCC/chip-seq-pipeline"
   ]
  },
  {
   "cell_type": "markdown",
   "metadata": {},
   "source": [
    "A narrowPeak (.narrowPeak) file is used by the ENCODE project to provide called peaks of signal enrichement based on pooled, normalized (interpreted) data. It is a BED 6+4 format. See the UCSC web site for more detail on this format.\n",
    "\n",
    "[IGV | narrowPeak](https://software.broadinstitute.org/software/igv/node/270)\n",
    "\n",
    "[UCSC | ENCODE narrowPeak: Narrow (or Point-Source) Peaks format](http://genome.ucsc.edu/FAQ/FAQformat.html#format12)"
   ]
  },
  {
   "cell_type": "markdown",
   "metadata": {},
   "source": [
    "- chrom string\n",
    "    - Name of the chromosome for common peaks\n",
    "- chromStart int\n",
    "    - The starting position of the feature in the chromosome or scaffold for common peaks, shifted based on offset. The first base in a chromosome is numbered 0.\n",
    "- chromEnd int\n",
    "    - The ending position of the feature in the chromosome or scaffold for common peaks. \n",
    "    - The chromEnd base is not included in the display of the feature.\n",
    "- name string\n",
    "    - Name given to a region (preferably unique) for common peaks. \n",
    "    - Use '.' if no name is assigned.\n",
    "- score int\n",
    "    - Contains the scaled IDR value, min(int(log2(-125IDR), 1000). \n",
    "    - e.g. peaks with an \n",
    "        - IDR of 0 have a score of 1000, \n",
    "        - idr 0.05 have a score of int(-125log2(0.05)) = 540, and \n",
    "        - idr 1.0 has a score of 0.\n",
    "- strand [+-.] \n",
    "    - Use '.' if no strand is assigned.\n",
    "- signalValue float\n",
    "    - Measurement of enrichment for the region for merged peaks. \n",
    "    - When a peak list is provided this is the value from the peak list.\n",
    "- p-value float\n",
    "    - Merged peak p-value. \n",
    "    - When a peak list is provided this is the value from the peak list.\n",
    "- q-value float\n",
    "    - Merged peak q-value. When a peak list is provided this is the value from the peak list.\n",
    "- peak\n",
    "    - Point-source called for this peak; 0-based offset from chromStart. Use -1 if no point-source called."
   ]
  },
  {
   "cell_type": "code",
   "execution_count": 5,
   "metadata": {},
   "outputs": [
    {
     "data": {
      "text/html": [
       "<table class=\"dataframe\">\n",
       "<caption>A tibble: 10 × 2</caption>\n",
       "<thead>\n",
       "\t<tr><th scope=col>Name</th><th scope=col>Description</th></tr>\n",
       "\t<tr><th scope=col>&lt;chr&gt;</th><th scope=col>&lt;chr&gt;</th></tr>\n",
       "</thead>\n",
       "<tbody>\n",
       "\t<tr><td>Chrom      </td><td>Chromosome                                                                                                   </td></tr>\n",
       "\t<tr><td>Start      </td><td>Start position                                                                                               </td></tr>\n",
       "\t<tr><td>End        </td><td>End position                                                                                                 </td></tr>\n",
       "\t<tr><td>Name       </td><td>Name given to a region                                                                                       </td></tr>\n",
       "\t<tr><td>Score      </td><td>Scaled IDR value, min(int(log2(-125IDR), 1000).                                                              </td></tr>\n",
       "\t<tr><td>Strand     </td><td>[+-.]; Use '.' if no strand is assigned.                                                                     </td></tr>\n",
       "\t<tr><td>SignalValue</td><td>Measurement of enrichment for the region for merged peaks.                                                   </td></tr>\n",
       "\t<tr><td>PValue     </td><td>Measurement of statistical significance (-log10). Use -1 if no pValue is assigned.                           </td></tr>\n",
       "\t<tr><td>QValue     </td><td>Measurement of statistical significance using false discovery rate (-log10). Use -1 if no qValue is assigned.</td></tr>\n",
       "\t<tr><td>Peak       </td><td>Point-source called for this peak; 0-based offset from chromStart. Use -1 if no point-source called.         </td></tr>\n",
       "</tbody>\n",
       "</table>\n"
      ],
      "text/latex": [
       "A tibble: 10 × 2\n",
       "\\begin{tabular}{ll}\n",
       " Name & Description\\\\\n",
       " <chr> & <chr>\\\\\n",
       "\\hline\n",
       "\t Chrom       & Chromosome                                                                                                   \\\\\n",
       "\t Start       & Start position                                                                                               \\\\\n",
       "\t End         & End position                                                                                                 \\\\\n",
       "\t Name        & Name given to a region                                                                                       \\\\\n",
       "\t Score       & Scaled IDR value, min(int(log2(-125IDR), 1000).                                                              \\\\\n",
       "\t Strand      & {[}+-.{]}; Use '.' if no strand is assigned.                                                                     \\\\\n",
       "\t SignalValue & Measurement of enrichment for the region for merged peaks.                                                   \\\\\n",
       "\t PValue      & Measurement of statistical significance (-log10). Use -1 if no pValue is assigned.                           \\\\\n",
       "\t QValue      & Measurement of statistical significance using false discovery rate (-log10). Use -1 if no qValue is assigned.\\\\\n",
       "\t Peak        & Point-source called for this peak; 0-based offset from chromStart. Use -1 if no point-source called.         \\\\\n",
       "\\end{tabular}\n"
      ],
      "text/markdown": [
       "\n",
       "A tibble: 10 × 2\n",
       "\n",
       "| Name &lt;chr&gt; | Description &lt;chr&gt; |\n",
       "|---|---|\n",
       "| Chrom       | Chromosome                                                                                                    |\n",
       "| Start       | Start position                                                                                                |\n",
       "| End         | End position                                                                                                  |\n",
       "| Name        | Name given to a region                                                                                        |\n",
       "| Score       | Scaled IDR value, min(int(log2(-125IDR), 1000).                                                               |\n",
       "| Strand      | [+-.]; Use '.' if no strand is assigned.                                                                      |\n",
       "| SignalValue | Measurement of enrichment for the region for merged peaks.                                                    |\n",
       "| PValue      | Measurement of statistical significance (-log10). Use -1 if no pValue is assigned.                            |\n",
       "| QValue      | Measurement of statistical significance using false discovery rate (-log10). Use -1 if no qValue is assigned. |\n",
       "| Peak        | Point-source called for this peak; 0-based offset from chromStart. Use -1 if no point-source called.          |\n",
       "\n"
      ],
      "text/plain": [
       "   Name       \n",
       "1  Chrom      \n",
       "2  Start      \n",
       "3  End        \n",
       "4  Name       \n",
       "5  Score      \n",
       "6  Strand     \n",
       "7  SignalValue\n",
       "8  PValue     \n",
       "9  QValue     \n",
       "10 Peak       \n",
       "   Description                                                                                                  \n",
       "1  Chromosome                                                                                                   \n",
       "2  Start position                                                                                               \n",
       "3  End position                                                                                                 \n",
       "4  Name given to a region                                                                                       \n",
       "5  Scaled IDR value, min(int(log2(-125IDR), 1000).                                                              \n",
       "6  [+-.]; Use '.' if no strand is assigned.                                                                     \n",
       "7  Measurement of enrichment for the region for merged peaks.                                                   \n",
       "8  Measurement of statistical significance (-log10). Use -1 if no pValue is assigned.                           \n",
       "9  Measurement of statistical significance using false discovery rate (-log10). Use -1 if no qValue is assigned.\n",
       "10 Point-source called for this peak; 0-based offset from chromStart. Use -1 if no point-source called.         "
      ]
     },
     "metadata": {},
     "output_type": "display_data"
    }
   ],
   "source": [
    "dat_cnames = tribble(\n",
    "    ~Name,         ~Description,\n",
    "    \"Chrom\",       \"Chromosome\",\n",
    "    \"Start\",       \"Start position\",\n",
    "    \"End\",         \"End position\",\n",
    "    \"Name\",        \"Name given to a region\",\n",
    "    \"Score\",       \"Scaled IDR value, min(int(log2(-125IDR), 1000).\",\n",
    "    \"Strand\",      \"[+-.]; Use '.' if no strand is assigned.\",\n",
    "    \"SignalValue\", \"Measurement of enrichment for the region for merged peaks.\",\n",
    "    \"PValue\",      \"Measurement of statistical significance (-log10). Use -1 if no pValue is assigned.\",\n",
    "    \"QValue\",      \"Measurement of statistical significance using false discovery rate (-log10). Use -1 if no qValue is assigned.\",\n",
    "    \"Peak\",        \"Point-source called for this peak; 0-based offset from chromStart. Use -1 if no point-source called.\"\n",
    ")\n",
    "\n",
    "dat_cnames"
   ]
  },
  {
   "cell_type": "markdown",
   "metadata": {},
   "source": [
    "## Save results"
   ]
  },
  {
   "cell_type": "code",
   "execution_count": 6,
   "metadata": {},
   "outputs": [],
   "source": [
    "fdiry = file.path(\n",
    "    FD_RES, \n",
    "    \"results\", \n",
    "    \"region\", \n",
    "    \"annotation_chipseq_tf_subset\")\n",
    "fname = \"description.tsv\"\n",
    "fpath = file.path(fdiry, fname)\n",
    "\n",
    "dat = dat_cnames\n",
    "write_tsv(dat, fpath)"
   ]
  },
  {
   "cell_type": "code",
   "execution_count": 7,
   "metadata": {},
   "outputs": [],
   "source": [
    "fdiry = file.path(\n",
    "    FD_RES, \n",
    "    \"results\", \n",
    "    \"region\", \n",
    "    \"annotation_chipseq_tf\")\n",
    "fname = \"description.tsv\"\n",
    "fpath = file.path(fdiry, fname)\n",
    "\n",
    "dat = dat_cnames\n",
    "write_tsv(dat, fpath)"
   ]
  },
  {
   "cell_type": "code",
   "execution_count": null,
   "metadata": {},
   "outputs": [],
   "source": []
  }
 ],
 "metadata": {
  "kernelspec": {
   "display_name": "R",
   "language": "R",
   "name": "ir"
  },
  "language_info": {
   "codemirror_mode": "r",
   "file_extension": ".r",
   "mimetype": "text/x-r-source",
   "name": "R",
   "pygments_lexer": "r",
   "version": "4.3.0"
  }
 },
 "nbformat": 4,
 "nbformat_minor": 4
}
