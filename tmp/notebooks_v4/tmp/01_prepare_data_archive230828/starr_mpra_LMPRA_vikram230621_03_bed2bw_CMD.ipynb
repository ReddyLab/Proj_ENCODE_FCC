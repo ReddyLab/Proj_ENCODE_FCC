{
 "cells": [
  {
   "cell_type": "markdown",
   "id": "006709a0-ede1-410d-9137-6e0e26f0d8ca",
   "metadata": {},
   "source": [
    "**Set environment**"
   ]
  },
  {
   "cell_type": "code",
   "execution_count": 1,
   "id": "00ff78e8-76a6-4684-b438-1161c252e157",
   "metadata": {},
   "outputs": [
    {
     "name": "stdout",
     "output_type": "stream",
     "text": [
      "You are on Duke Server: HARDAC\n",
      "BASE DIRECTORY (FD_BASE): /data/reddylab/Kuei\n",
      "WORK DIRECTORY (FD_WORK): /data/reddylab/Kuei/out\n",
      "CODE DIRECTORY (FD_CODE): /data/reddylab/Kuei/code\n",
      "SING DIRECTORY (FD_SING): /data/reddylab/Kuei/singularity\n",
      "PATH OF PROJECT (FD_PRJ): /data/reddylab/Kuei/code/Proj_CombEffect_ENCODE_FCC\n",
      "PATH OF RESULTS (FD_RES): /data/reddylab/Kuei/out/proj_combeffect_encode_fcc\n",
      "PATH OF LOG     (FD_LOG): /data/reddylab/Kuei/out/proj_combeffect_encode_fcc/log\n",
      "\n"
     ]
    }
   ],
   "source": [
    "### set env\n",
    "source ../config/config_duke.sh\n",
    "source ../config/config_load_module_bedtools.sh\n",
    "show_env"
   ]
  },
  {
   "cell_type": "markdown",
   "id": "aeea3d0f-2041-4a4d-a750-92fdc208c9bc",
   "metadata": {},
   "source": [
    "**Check data**"
   ]
  },
  {
   "cell_type": "code",
   "execution_count": 2,
   "id": "75c0344b-0e72-4aa3-86da-6bff136fb7fb",
   "metadata": {},
   "outputs": [
    {
     "name": "stdout",
     "output_type": "stream",
     "text": [
      "chr1\t115631\t115831\n",
      "chr1\t138940\t139140\n",
      "chr1\t203225\t203425\n",
      "chr1\t267911\t268111\n",
      "chr1\t586093\t586293\n",
      "chr1\t629847\t630047\n",
      "chr1\t630216\t630416\n",
      "chr1\t631350\t631550\n",
      "chr1\t633928\t634128\n",
      "chr1\t634309\t634509\n"
     ]
    }
   ],
   "source": [
    "FDIRY=${FD_RES}/results/LentiMPRA_K562_Nadav/coverage\n",
    "FNAME=K562.vikram230621.LMPRA.region.bed.gz\n",
    "FPATH=${FDIRY}/${FNAME}\n",
    "zcat ${FPATH} | head"
   ]
  },
  {
   "cell_type": "markdown",
   "id": "8a0b113a-92f9-4ef6-9fbc-ad02773d870c",
   "metadata": {},
   "source": [
    "## Merge"
   ]
  },
  {
   "cell_type": "code",
   "execution_count": 3,
   "id": "4647a953-ee82-48c1-bc1e-ee1bbdb337a7",
   "metadata": {},
   "outputs": [
    {
     "name": "stdout",
     "output_type": "stream",
     "text": [
      "Submitted batch job 30021744\n"
     ]
    }
   ],
   "source": [
    "sbatch -p ${NODE} \\\n",
    "    --exclude=dl-01 \\\n",
    "    --cpus-per-task 8 \\\n",
    "    --mem 4G \\\n",
    "    --output ${FD_LOG}/merge_region_LMPRA_K562_vikram230621.%a.txt \\\n",
    "    --array 0 \\\n",
    "    <<'EOF'\n",
    "#!/bin/bash\n",
    "### set directories\n",
    "source ../config/config_duke.sh\n",
    "\n",
    "### print start message\n",
    "timer_start=`date +%s`\n",
    "echo \"Hostname:          \" $(hostname)\n",
    "echo \"Slurm Array Index: \" ${SLURM_ARRAY_TASK_ID}\n",
    "echo \"Time Stamp:        \" $(date +\"%m-%d-%y+%T\")\n",
    "echo\n",
    "\n",
    "### set input and output\n",
    "FD_INP=${FD_RES}/results/LentiMPRA_K562_Nadav/coverage\n",
    "FD_OUT=${FD_RES}/results/LentiMPRA_K562_Nadav/coverage\n",
    "\n",
    "FN_INP=K562.vikram230621.LMPRA.region.bed.gz\n",
    "FP_INP=${FD_INP}/${FN_INP}\n",
    "\n",
    "FN_OUT=K562.vikram230621.LMPRA.region_merge.bed.gz\n",
    "FP_OUT=${FD_OUT}/${FN_OUT}\n",
    "\n",
    "### show I/O file\n",
    "echo \"Input: \" ${FP_INP}\n",
    "echo\n",
    "echo \"show first few lines of input\"\n",
    "zcat ${FP_INP} | head -5\n",
    "echo\n",
    "\n",
    "### init: create output folder if not exist\n",
    "mkdir -p ${FD_OUT}\n",
    "\n",
    "### merge the regions within the bed file\n",
    "bedtools merge \\\n",
    "    -i ${FP_INP} \\\n",
    "| gzip -c \\\n",
    "> ${FP_OUT}\n",
    "\n",
    "### show output file\n",
    "echo\n",
    "echo \"Output: \" ${FP_OUT}\n",
    "echo\n",
    "echo \"show first few lines of output:\"\n",
    "zcat ${FP_OUT} | head -5\n",
    "echo\n",
    "\n",
    "### print end message\n",
    "timer=`date +%s`\n",
    "runtime=$(echo \"${timer} - ${timer_start}\" | bc -l)\n",
    "echo\n",
    "echo 'Done!'\n",
    "echo \"Run Time: $(displaytime ${runtime})\"\n",
    "\n",
    "EOF"
   ]
  },
  {
   "cell_type": "code",
   "execution_count": 4,
   "id": "58646a6a-380b-42e4-8d30-079ee6b1939e",
   "metadata": {},
   "outputs": [
    {
     "name": "stdout",
     "output_type": "stream",
     "text": [
      "Hostname:           x1-01-4.genome.duke.edu\n",
      "Slurm Array Index:  0\n",
      "Time Stamp:         06-21-23+22:06:26\n",
      "\n",
      "Input:  /data/reddylab/Kuei/out/proj_combeffect_encode_fcc/results/LentiMPRA_K562_Nadav/coverage/K562.vikram230621.LMPRA.region.bed.gz\n",
      "\n",
      "show first few lines of input\n",
      "chr1\t115631\t115831\n",
      "chr1\t138940\t139140\n",
      "chr1\t203225\t203425\n",
      "chr1\t267911\t268111\n",
      "chr1\t586093\t586293\n",
      "\n",
      "\n",
      "Output:  /data/reddylab/Kuei/out/proj_combeffect_encode_fcc/results/LentiMPRA_K562_Nadav/coverage/K562.vikram230621.LMPRA.region_merge.bed.gz\n",
      "\n",
      "show first few lines of output:\n",
      "chr1\t115631\t115831\n",
      "chr1\t138940\t139140\n",
      "chr1\t203225\t203425\n",
      "chr1\t267911\t268111\n",
      "chr1\t586093\t586293\n",
      "\n",
      "\n",
      "Done!\n",
      "Run Time: 1 seconds\n"
     ]
    }
   ],
   "source": [
    "cat ${FD_LOG}/merge_region_LMPRA_K562_vikram230621.0.txt"
   ]
  },
  {
   "cell_type": "markdown",
   "id": "ee40269d-9360-45b5-8e13-73c030121469",
   "metadata": {},
   "source": [
    "## Make windows"
   ]
  },
  {
   "cell_type": "code",
   "execution_count": 5,
   "id": "72088daf-a7e6-4199-adc2-2a8d4df549cb",
   "metadata": {},
   "outputs": [
    {
     "name": "stdout",
     "output_type": "stream",
     "text": [
      "Submitted batch job 30021745\n"
     ]
    }
   ],
   "source": [
    "sbatch -p ${NODE} \\\n",
    "    --exclude=dl-01 \\\n",
    "    --cpus-per-task 8 \\\n",
    "    --mem 4G \\\n",
    "    --output ${FD_LOG}/makewindow_region_LMPRA_K562_vikram230621.%a.txt \\\n",
    "    --array 0 \\\n",
    "    <<'EOF'\n",
    "#!/bin/bash\n",
    "### set directories\n",
    "source ../config/config_duke.sh\n",
    "\n",
    "### print start message\n",
    "timer_start=`date +%s`\n",
    "echo \"Hostname:          \" $(hostname)\n",
    "echo \"Slurm Array Index: \" ${SLURM_ARRAY_TASK_ID}\n",
    "echo \"Time Stamp:        \" $(date +\"%m-%d-%y+%T\")\n",
    "echo\n",
    "\n",
    "### set input and output\n",
    "FD_INP=${FD_RES}/results/LentiMPRA_K562_Nadav/coverage\n",
    "FD_OUT=${FD_RES}/results/LentiMPRA_K562_Nadav/coverage\n",
    "\n",
    "FN_INP=K562.vikram230621.LMPRA.region_merge.bed.gz\n",
    "FP_INP=${FD_INP}/${FN_INP}\n",
    "\n",
    "FN_OUT=K562.vikram230621.LMPRA.region_merge_perbase.bed.gz\n",
    "FP_OUT=${FD_OUT}/${FN_OUT}\n",
    "\n",
    "### show I/O file\n",
    "echo \"Input: \" ${FP_INP}\n",
    "echo\n",
    "echo \"show first few lines of input\"\n",
    "zcat ${FP_INP} | head -5\n",
    "echo\n",
    "\n",
    "### init: create output folder if not exist\n",
    "mkdir -p ${FD_OUT}\n",
    "\n",
    "### merge the regions within the bed file\n",
    "bedtools makewindows -b ${FP_INP} -w 1 | gzip -c > ${FP_OUT}\n",
    "\n",
    "### show output file\n",
    "echo\n",
    "echo \"Output: \" ${FP_OUT}\n",
    "echo\n",
    "echo \"show first few lines of output:\"\n",
    "zcat ${FP_OUT} | head -5\n",
    "echo\n",
    "\n",
    "### print end message\n",
    "timer=`date +%s`\n",
    "runtime=$(echo \"${timer} - ${timer_start}\" | bc -l)\n",
    "echo\n",
    "echo 'Done!'\n",
    "echo \"Run Time: $(displaytime ${runtime})\"\n",
    "\n",
    "EOF"
   ]
  },
  {
   "cell_type": "code",
   "execution_count": 8,
   "id": "8135f600-d53f-4a5a-b828-ee8a0dbfb5f9",
   "metadata": {},
   "outputs": [
    {
     "name": "stdout",
     "output_type": "stream",
     "text": [
      "Hostname:           x1-01-4.genome.duke.edu\n",
      "Slurm Array Index:  0\n",
      "Time Stamp:         06-21-23+22:07:14\n",
      "\n",
      "Input:  /data/reddylab/Kuei/out/proj_combeffect_encode_fcc/results/LentiMPRA_K562_Nadav/coverage/K562.vikram230621.LMPRA.region_merge.bed.gz\n",
      "\n",
      "show first few lines of input\n",
      "chr1\t115631\t115831\n",
      "chr1\t138940\t139140\n",
      "chr1\t203225\t203425\n",
      "chr1\t267911\t268111\n",
      "chr1\t586093\t586293\n",
      "\n",
      "\n",
      "Output:  /data/reddylab/Kuei/out/proj_combeffect_encode_fcc/results/LentiMPRA_K562_Nadav/coverage/K562.vikram230621.LMPRA.region_merge_perbase.bed.gz\n",
      "\n",
      "show first few lines of output:\n",
      "chr1\t115631\t115632\n",
      "chr1\t115632\t115633\n",
      "chr1\t115633\t115634\n",
      "chr1\t115634\t115635\n",
      "chr1\t115635\t115636\n",
      "\n",
      "\n",
      "Done!\n",
      "Run Time: 40 seconds\n"
     ]
    }
   ],
   "source": [
    "cat ${FD_LOG}/makewindow_region_LMPRA_K562_vikram230621.0.txt"
   ]
  },
  {
   "cell_type": "code",
   "execution_count": 9,
   "id": "7efa8353-52ba-490e-b7ba-29c378df8983",
   "metadata": {},
   "outputs": [
    {
     "name": "stdout",
     "output_type": "stream",
     "text": [
      "chr1\t115821\t115822\n",
      "chr1\t115822\t115823\n",
      "chr1\t115823\t115824\n",
      "chr1\t115824\t115825\n",
      "chr1\t115825\t115826\n",
      "chr1\t115826\t115827\n",
      "chr1\t115827\t115828\n",
      "chr1\t115828\t115829\n",
      "chr1\t115829\t115830\n",
      "chr1\t115830\t115831\n",
      "chr1\t138940\t138941\n",
      "chr1\t138941\t138942\n",
      "chr1\t138942\t138943\n",
      "chr1\t138943\t138944\n",
      "chr1\t138944\t138945\n",
      "chr1\t138945\t138946\n",
      "chr1\t138946\t138947\n",
      "chr1\t138947\t138948\n",
      "chr1\t138948\t138949\n",
      "chr1\t138949\t138950\n"
     ]
    }
   ],
   "source": [
    "FPATH=/data/reddylab/Kuei/out/proj_combeffect_encode_fcc/results/LentiMPRA_K562_Nadav/coverage/K562.vikram230621.LMPRA.region_merge_perbase.bed.gz\n",
    "zcat ${FPATH} | head -n 210 | tail -n 20"
   ]
  },
  {
   "cell_type": "markdown",
   "id": "c1623245-7779-4b90-88d3-a2c31aedeeeb",
   "metadata": {},
   "source": [
    "## Map and summarize"
   ]
  },
  {
   "cell_type": "code",
   "execution_count": 22,
   "id": "b468f0a4-62ef-4d24-ba59-e9eb7265c018",
   "metadata": {},
   "outputs": [
    {
     "name": "stdout",
     "output_type": "stream",
     "text": [
      "Submitted batch job 30021937\n"
     ]
    }
   ],
   "source": [
    "sbatch -p ${NODE} \\\n",
    "    --exclude=dl-01 \\\n",
    "    --cpus-per-task 8 \\\n",
    "    --mem 4G \\\n",
    "    --output ${FD_LOG}/coverage_LMPRA.K562.vikram230621.Log2FC_Mean.%a.txt \\\n",
    "    --array 0 \\\n",
    "    <<'EOF'\n",
    "#!/bin/bash\n",
    "### set directories\n",
    "source ../config/config_duke.sh\n",
    "\n",
    "### print start message\n",
    "timer_start=`date +%s`\n",
    "echo \"Hostname:          \" $(hostname)\n",
    "echo \"Slurm Array Index: \" ${SLURM_ARRAY_TASK_ID}\n",
    "echo \"Time Stamp:        \" $(date +\"%m-%d-%y+%T\")\n",
    "echo\n",
    "\n",
    "### set input and output\n",
    "FD_INP=${FD_RES}/results/LentiMPRA_K562_Nadav/coverage\n",
    "FD_OUT=${FD_RES}/results/LentiMPRA_K562_Nadav/coverage\n",
    "\n",
    "FN_REG=K562.vikram230621.LMPRA.region_merge_perbase.bed.gz\n",
    "FP_REG=${FD_INP}/${FN_REG}\n",
    "\n",
    "FN_INP=K562.vikram230621.LMPRA.stranded.bed.gz\n",
    "FP_INP=${FD_INP}/${FN_INP}\n",
    "\n",
    "FN_OUT=K562.vikram230621.LMPRA.Mean.Log2FC.unstranded.bg\n",
    "FP_OUT=${FD_OUT}/${FN_OUT}\n",
    "\n",
    "### show I/O file\n",
    "echo \"Input: \" ${FP_INP}\n",
    "echo\n",
    "echo \"show first few lines of input\"\n",
    "zcat ${FP_INP} | head -5\n",
    "echo\n",
    "\n",
    "### init: create output folder if not exist\n",
    "mkdir -p ${FD_OUT}\n",
    "\n",
    "### merge the regions within the bed file\n",
    "### execute\n",
    "bedtools map \\\n",
    "    -a ${FP_REG} \\\n",
    "    -b ${FP_INP} \\\n",
    "    -c 11    \\\n",
    "    -o mean \\\n",
    "| grep -v $'\\t\\\\.' \\\n",
    "> ${FP_OUT}\n",
    "\n",
    "### show output file\n",
    "echo\n",
    "echo \"Output: \" ${FP_OUT}\n",
    "echo\n",
    "echo \"show first few lines of output:\"\n",
    "cat ${FP_OUT} | head -5\n",
    "echo\n",
    "\n",
    "### print end message\n",
    "timer=`date +%s`\n",
    "runtime=$(echo \"${timer} - ${timer_start}\" | bc -l)\n",
    "echo\n",
    "echo 'Done!'\n",
    "echo \"Run Time: $(displaytime ${runtime})\"\n",
    "\n",
    "EOF"
   ]
  },
  {
   "cell_type": "code",
   "execution_count": 23,
   "id": "15d080d7-711c-4e60-9379-761d9fe0f249",
   "metadata": {},
   "outputs": [
    {
     "name": "stdout",
     "output_type": "stream",
     "text": [
      "Submitted batch job 30021938\n"
     ]
    }
   ],
   "source": [
    "sbatch -p ${NODE} \\\n",
    "    --exclude=dl-01 \\\n",
    "    --cpus-per-task 8 \\\n",
    "    --mem 4G \\\n",
    "    --output ${FD_LOG}/coverage_LMPRA.K562.vikram230621.ZScore_Mean.%a.txt \\\n",
    "    --array 0 \\\n",
    "    <<'EOF'\n",
    "#!/bin/bash\n",
    "### set directories\n",
    "source ../config/config_duke.sh\n",
    "\n",
    "### print start message\n",
    "timer_start=`date +%s`\n",
    "echo \"Hostname:          \" $(hostname)\n",
    "echo \"Slurm Array Index: \" ${SLURM_ARRAY_TASK_ID}\n",
    "echo \"Time Stamp:        \" $(date +\"%m-%d-%y+%T\")\n",
    "echo\n",
    "\n",
    "### set input and output\n",
    "FD_INP=${FD_RES}/results/LentiMPRA_K562_Nadav/coverage\n",
    "FD_OUT=${FD_RES}/results/LentiMPRA_K562_Nadav/coverage\n",
    "\n",
    "FN_REG=K562.vikram230621.LMPRA.region_merge_perbase.bed.gz\n",
    "FP_REG=${FD_INP}/${FN_REG}\n",
    "\n",
    "FN_INP=K562.vikram230621.LMPRA.stranded.bed.gz\n",
    "FP_INP=${FD_INP}/${FN_INP}\n",
    "\n",
    "FN_OUT=K562.vikram230621.LMPRA.Mean.ZScore.unstranded.bg\n",
    "FP_OUT=${FD_OUT}/${FN_OUT}\n",
    "\n",
    "### show I/O file\n",
    "echo \"Input: \" ${FP_INP}\n",
    "echo\n",
    "echo \"show first few lines of input\"\n",
    "zcat ${FP_INP} | head -5\n",
    "echo\n",
    "\n",
    "### init: create output folder if not exist\n",
    "mkdir -p ${FD_OUT}\n",
    "\n",
    "### merge the regions within the bed file\n",
    "### execute\n",
    "bedtools map \\\n",
    "    -a ${FP_REG} \\\n",
    "    -b ${FP_INP} \\\n",
    "    -c 15    \\\n",
    "    -o mean \\\n",
    "| grep -v $'\\t\\\\.' \\\n",
    "> ${FP_OUT}\n",
    "\n",
    "### show output file\n",
    "echo\n",
    "echo \"Output: \" ${FP_OUT}\n",
    "echo\n",
    "echo \"show first few lines of output:\"\n",
    "cat ${FP_OUT} | head -5\n",
    "echo\n",
    "\n",
    "### print end message\n",
    "timer=`date +%s`\n",
    "runtime=$(echo \"${timer} - ${timer_start}\" | bc -l)\n",
    "echo\n",
    "echo 'Done!'\n",
    "echo \"Run Time: $(displaytime ${runtime})\"\n",
    "\n",
    "EOF"
   ]
  },
  {
   "cell_type": "code",
   "execution_count": 26,
   "id": "9f8f132d-f3e4-46c3-969e-edc70660997a",
   "metadata": {},
   "outputs": [
    {
     "name": "stdout",
     "output_type": "stream",
     "text": [
      "Hostname:           x1-02-1.genome.duke.edu\n",
      "Slurm Array Index:  0\n",
      "Time Stamp:         06-23-23+13:34:11\n",
      "\n",
      "Input:  /data/reddylab/Kuei/out/proj_combeffect_encode_fcc/results/LentiMPRA_K562_Nadav/coverage/K562.vikram230621.LMPRA.stranded.bed.gz\n",
      "\n",
      "show first few lines of input\n",
      "chr1\t115631\t115831\tpeak1_Reversed:\t0\t-\tpotential enhancer\t0.138\t-0.044\t0.025\t0.04\t2.4069025995500155\t1.746127748956286\t1.9966412912143483\t2.0511007569226227\n",
      "chr1\t138940\t139140\tpeak2_Reversed:\t0\t-\tpotential enhancer\t-0.37\t0.33\t-0.261\t-0.101\t0.5625420275631225\t3.103983760615928\t0.9582808117099164\t1.5391817792648435\n",
      "chr1\t138940\t139140\tpeak2\t0\t+\tpotential enhancer\t-0.245\t-0.609\t-0.775\t-0.543\t1.0163709084654091\t-0.30517879272204945\t-0.9078635465602862\t-0.06555714360564233\n",
      "chr1\t203225\t203425\tpeak3\t0\t+\tpotential enhancer\t-0.339\t0.117\t-0.337\t-0.186\t0.6750915900268895\t2.330659347558431\t0.6823528521213261\t1.2305781402512883\n",
      "chr1\t203225\t203425\tpeak3_Reversed:\t0\t-\tpotential enhancer\t-0.373\t-0.069\t-0.402\t-0.281\t0.5516501344214676\t1.6553619727758286\t0.44636183405213703\t0.8856681907655505\n",
      "\n",
      "\n",
      "Output:  /data/reddylab/Kuei/out/proj_combeffect_encode_fcc/results/LentiMPRA_K562_Nadav/coverage/K562.vikram230621.LMPRA.Mean.Log2FC.unstranded.bg\n",
      "\n",
      "show first few lines of output:\n",
      "chr1\t115631\t115632\t0.04\n",
      "chr1\t115632\t115633\t0.04\n",
      "chr1\t115633\t115634\t0.04\n",
      "chr1\t115634\t115635\t0.04\n",
      "chr1\t115635\t115636\t0.04\n",
      "\n",
      "\n",
      "Done!\n",
      "Run Time: 1 minutes and 13 seconds\n"
     ]
    }
   ],
   "source": [
    "cat ${FD_LOG}/coverage_LMPRA.K562.vikram230621.Log2FC_Mean.0.txt"
   ]
  },
  {
   "cell_type": "code",
   "execution_count": 27,
   "id": "f13f905c-95f9-41fc-b57c-551d99ba38f5",
   "metadata": {},
   "outputs": [
    {
     "name": "stdout",
     "output_type": "stream",
     "text": [
      "Hostname:           x1-01-2.genome.duke.edu\n",
      "Slurm Array Index:  0\n",
      "Time Stamp:         06-23-23+13:34:22\n",
      "\n",
      "Input:  /data/reddylab/Kuei/out/proj_combeffect_encode_fcc/results/LentiMPRA_K562_Nadav/coverage/K562.vikram230621.LMPRA.stranded.bed.gz\n",
      "\n",
      "show first few lines of input\n",
      "chr1\t115631\t115831\tpeak1_Reversed:\t0\t-\tpotential enhancer\t0.138\t-0.044\t0.025\t0.04\t2.4069025995500155\t1.746127748956286\t1.9966412912143483\t2.0511007569226227\n",
      "chr1\t138940\t139140\tpeak2_Reversed:\t0\t-\tpotential enhancer\t-0.37\t0.33\t-0.261\t-0.101\t0.5625420275631225\t3.103983760615928\t0.9582808117099164\t1.5391817792648435\n",
      "chr1\t138940\t139140\tpeak2\t0\t+\tpotential enhancer\t-0.245\t-0.609\t-0.775\t-0.543\t1.0163709084654091\t-0.30517879272204945\t-0.9078635465602862\t-0.06555714360564233\n",
      "chr1\t203225\t203425\tpeak3\t0\t+\tpotential enhancer\t-0.339\t0.117\t-0.337\t-0.186\t0.6750915900268895\t2.330659347558431\t0.6823528521213261\t1.2305781402512883\n",
      "chr1\t203225\t203425\tpeak3_Reversed:\t0\t-\tpotential enhancer\t-0.373\t-0.069\t-0.402\t-0.281\t0.5516501344214676\t1.6553619727758286\t0.44636183405213703\t0.8856681907655505\n",
      "\n",
      "\n",
      "Output:  /data/reddylab/Kuei/out/proj_combeffect_encode_fcc/results/LentiMPRA_K562_Nadav/coverage/K562.vikram230621.LMPRA.Mean.ZScore.unstranded.bg\n",
      "\n",
      "show first few lines of output:\n",
      "chr1\t115631\t115632\t2.051100757\n",
      "chr1\t115632\t115633\t2.051100757\n",
      "chr1\t115633\t115634\t2.051100757\n",
      "chr1\t115634\t115635\t2.051100757\n",
      "chr1\t115635\t115636\t2.051100757\n",
      "\n",
      "\n",
      "Done!\n",
      "Run Time: 1 minutes and 7 seconds\n"
     ]
    }
   ],
   "source": [
    "cat ${FD_LOG}/coverage_LMPRA.K562.vikram230621.ZScore_Mean.0.txt"
   ]
  },
  {
   "cell_type": "code",
   "execution_count": 30,
   "id": "1daf2a53-a072-4b31-a261-bbd270fa0ea5",
   "metadata": {},
   "outputs": [
    {
     "name": "stdout",
     "output_type": "stream",
     "text": [
      "chr1\t115665\t115666\t0.04\n",
      "chr1\t115666\t115667\t0.04\n",
      "chr1\t115667\t115668\t0.04\n",
      "chr1\t115668\t115669\t0.04\n",
      "chr1\t115669\t115670\t0.04\n"
     ]
    }
   ],
   "source": [
    "FDIRY=/data/reddylab/Kuei/out/proj_combeffect_encode_fcc/results/LentiMPRA_K562_Nadav/coverage\n",
    "FNAME=K562.vikram230621.LMPRA.Mean.Log2FC.unstranded.bg\n",
    "FPATH=${FDIRY}/${FNAME}\n",
    "cat ${FPATH} | head -n 39 | tail -n 5"
   ]
  },
  {
   "cell_type": "code",
   "execution_count": 29,
   "id": "1b3054e5-ca13-477b-9f8d-485bc160d69e",
   "metadata": {},
   "outputs": [
    {
     "name": "stdout",
     "output_type": "stream",
     "text": [
      "chr1\t115665\t115666\t2.051100757\n",
      "chr1\t115666\t115667\t2.051100757\n",
      "chr1\t115667\t115668\t2.051100757\n",
      "chr1\t115668\t115669\t2.051100757\n",
      "chr1\t115669\t115670\t2.051100757\n"
     ]
    }
   ],
   "source": [
    "FDIRY=/data/reddylab/Kuei/out/proj_combeffect_encode_fcc/results/LentiMPRA_K562_Nadav/coverage\n",
    "FNAME=K562.vikram230621.LMPRA.Mean.ZScore.unstranded.bg\n",
    "FPATH=${FDIRY}/${FNAME}\n",
    "cat ${FPATH} | head -n 39 | tail -n 5"
   ]
  },
  {
   "cell_type": "markdown",
   "id": "48a82a9c-605d-4f96-b62e-cb2c413b7673",
   "metadata": {},
   "source": [
    "## Convert bg to bw"
   ]
  },
  {
   "cell_type": "code",
   "execution_count": 31,
   "id": "be046538-c026-4129-a0b8-d5efaeaa31cb",
   "metadata": {},
   "outputs": [
    {
     "name": "stdout",
     "output_type": "stream",
     "text": [
      "\u001b[0m\u001b[38;5;34m/data/common/shared_conda_envs/ucsc/bin/bedGraphToBigWig\u001b[0m\n"
     ]
    }
   ],
   "source": [
    "FD_UCSC=/data/common/shared_conda_envs/ucsc/bin\n",
    "ls ${FD_UCSC}/bedGraphToBigWig"
   ]
  },
  {
   "cell_type": "code",
   "execution_count": 34,
   "id": "31f40c5c-e9a8-4979-8c02-12b17ad8eac2",
   "metadata": {},
   "outputs": [
    {
     "name": "stdout",
     "output_type": "stream",
     "text": [
      "description.vikram230621.tsv\n",
      "\u001b[0m\u001b[38;5;9mK562.ENCSR382BVV.ENCFF348WYK.LMPRA.region.bed.gz\u001b[0m\n",
      "\u001b[38;5;9mK562.ENCSR382BVV.ENCFF348WYK.LMPRA.region_merge.bed.gz\u001b[0m\n",
      "\u001b[38;5;9mK562.ENCSR382BVV.ENCFF348WYK.LMPRA.region_merge_perbase.bed.gz\u001b[0m\n",
      "\u001b[38;5;9mK562.ENCSR382BVV.ENCFF348WYK.LMPRA.stranded.bed.gz\u001b[0m\n",
      "\u001b[38;5;9mK562.ENCSR382BVV.ENCFF348WYK.LMPRA.unstranded.bed.gz\u001b[0m\n",
      "K562.ENCSR382BVV.ENCFF348WYK.LMPRA.unstranded.bg\n",
      "K562.ENCSR382BVV.ENCFF348WYK.LMPRA.unstranded.bw\n",
      "K562.vikram230621.LMPRA.Mean.Log2FC.unstranded.bg\n",
      "K562.vikram230621.LMPRA.Mean.Log2FC.unstranded.bw\n",
      "K562.vikram230621.LMPRA.Mean.ZScore.unstranded.bg\n",
      "\u001b[38;5;9mK562.vikram230621.LMPRA.region.bed.gz\u001b[0m\n",
      "\u001b[38;5;9mK562.vikram230621.LMPRA.region_merge.bed.gz\u001b[0m\n",
      "\u001b[38;5;9mK562.vikram230621.LMPRA.region_merge_perbase.bed.gz\u001b[0m\n",
      "\u001b[38;5;9mK562.vikram230621.LMPRA.stranded.bed.gz\u001b[0m\n",
      "nadav_K562_MPRA_log2FC_Z_bp.bed\n",
      "\u001b[38;5;9mnadav_K562_MPRA_log2FC_Z_bp.bed.gz\u001b[0m\n",
      "nadav_K562_MPRA_log2FC_Z_bp.wig\n",
      "\n",
      "K562.ENCSR382BVV.ENCFF348WYK.LMPRA.unstranded.bg\n",
      "K562.vikram230621.LMPRA.Mean.Log2FC.unstranded.bg\n",
      "K562.vikram230621.LMPRA.Mean.ZScore.unstranded.bg\n"
     ]
    }
   ],
   "source": [
    "FDIRY=${FD_RES}/results/LentiMPRA_K562_Nadav/coverage\n",
    "ls ${FDIRY}\n",
    "echo\n",
    "ls ${FDIRY}/*bg | xargs -n 1 basename"
   ]
  },
  {
   "cell_type": "code",
   "execution_count": 41,
   "id": "876a87fa-23cf-44dd-8822-73208f2c56a3",
   "metadata": {},
   "outputs": [
    {
     "name": "stdout",
     "output_type": "stream",
     "text": [
      "K562.vikram230621.LMPRA.Mean.Log2FC.unstranded.bg\n",
      "K562.vikram230621.LMPRA.Mean.Log2FC.unstranded.bw\n",
      "\n",
      "K562.vikram230621.LMPRA.Mean.ZScore.unstranded.bg\n",
      "K562.vikram230621.LMPRA.Mean.ZScore.unstranded.bw\n",
      "\n"
     ]
    }
   ],
   "source": [
    "FP_CHR=${FD_RES}/source/chrom.sizes.hg38\n",
    "FD_INP=${FD_RES}/results/LentiMPRA_K562_Nadav/coverage\n",
    "FD_OUT=${FD_INP}\n",
    "\n",
    "PREFIX=vikram230621\n",
    "FP_INPS=($(ls ${FD_INP}/*${PREFIX}*bg))\n",
    "\n",
    "for FP_INP in ${FP_INPS[@]}; do\n",
    "    FN_INP=$(basename ${FP_INP})\n",
    "    FN_OUT=${FN_INP/bg/bw}\n",
    "    FP_OUT=${FD_OUT}/${FN_OUT}\n",
    "    \n",
    "    echo ${FN_INP}\n",
    "    ${FD_UCSC}/bedGraphToBigWig ${FP_INP} ${FP_CHR} ${FP_OUT}\n",
    "    echo ${FN_OUT}\n",
    "    echo\n",
    "done"
   ]
  },
  {
   "cell_type": "markdown",
   "id": "62fb1dcb-77bb-480e-a6b4-a168cda36b79",
   "metadata": {},
   "source": [
    "```\n",
    "FP_CHR=${FD_RES}/source/chrom.sizes.hg38\n",
    "\n",
    "FD_INP=${FD_RES}/results/LentiMPRA_K562_Nadav/coverage\n",
    "FN_INP=K562.vikram230621.LMPRA.unstranded.bg\n",
    "FP_INP=${FD_INP}/${FN_INP}\n",
    "\n",
    "FD_OUT=${FD_INP}\n",
    "FN_OUT=K562.vikram230621.LMPRA.unstranded.bw\n",
    "FP_OUT=${FD_OUT}/${FN_OUT}\n",
    "\n",
    "${FD_UCSC}/bedGraphToBigWig ${FP_INP} ${FP_CHR} ${FP_OUT}\n",
    "```"
   ]
  },
  {
   "cell_type": "code",
   "execution_count": null,
   "id": "a71d31f6-cf9e-438e-8c97-a089678c6877",
   "metadata": {},
   "outputs": [],
   "source": []
  }
 ],
 "metadata": {
  "kernelspec": {
   "display_name": "Bash",
   "language": "bash",
   "name": "bash"
  },
  "language_info": {
   "codemirror_mode": "shell",
   "file_extension": ".sh",
   "mimetype": "text/x-sh",
   "name": "bash"
  }
 },
 "nbformat": 4,
 "nbformat_minor": 5
}
