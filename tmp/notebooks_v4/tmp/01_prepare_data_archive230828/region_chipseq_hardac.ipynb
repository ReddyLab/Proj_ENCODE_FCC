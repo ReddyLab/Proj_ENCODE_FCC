{
 "cells": [
  {
   "cell_type": "code",
   "execution_count": 1,
   "id": "1707b1a8-1933-4d19-9bfc-5c21569a68e4",
   "metadata": {},
   "outputs": [
    {
     "name": "stdout",
     "output_type": "stream",
     "text": [
      "You are on Duke Server: HARDAC\n",
      "BASE DIRECTORY (FD_BASE): /data/reddylab/Kuei\n",
      "WORK DIRECTORY (FD_WORK): /data/reddylab/Kuei/out\n",
      "CODE DIRECTORY (FD_CODE): /data/reddylab/Kuei/code\n",
      "SING DIRECTORY (FD_SING): /data/reddylab/Kuei/singularity\n",
      "PATH OF PROJECT (FD_PRJ): /data/reddylab/Kuei/code/Proj_CombEffect_ENCODE_FCC\n",
      "PATH OF RESULTS (FD_RES): /data/reddylab/Kuei/out/proj_combeffect_encode_fcc\n",
      "PATH OF LOG     (FD_LOG): /data/reddylab/Kuei/out/proj_combeffect_encode_fcc/log\n",
      "\n"
     ]
    }
   ],
   "source": [
    "source ../config/config_duke.sh\n",
    "show_env"
   ]
  },
  {
   "cell_type": "code",
   "execution_count": 2,
   "id": "66b8e9f4-560c-40af-8b22-619f6854cd3c",
   "metadata": {},
   "outputs": [
    {
     "name": "stdout",
     "output_type": "stream",
     "text": [
      "K562.ENCFF100FDI.H3K4me1.bw  K562.ENCFF469JMR.H3K27ac.bw\n",
      "K562.ENCFF183YBH.KLF16.bw    K562.ENCFF475BKW.Sp1.bw\n",
      "K562.ENCFF199FSE.ATF1.bw     K562.ENCFF590LGA.NRF1.bw\n",
      "K562.ENCFF262TFX.ELK1.bw     K562.ENCFF665RDD.H3K27me3.bw\n",
      "K562.ENCFF336UPT.CTCF.bw     K562.ENCFF750TBY.KLF10.bw\n",
      "K562.ENCFF357GNC.ATACseq.bw  K562.ENCFF756UVW.JUN.bw\n",
      "K562.ENCFF398LBP.NFE2.bw     K562.ENCFF914WIS.POLR2A.bw\n",
      "K562.ENCFF405ZDL.H3K4me3.bw  K562.ENCFF927TDC.YY1.bw\n"
     ]
    }
   ],
   "source": [
    "ls /data/reddylab/Alex/encode4_duke/ipynbs/jamborees/20211206_MPRA_STARR_Jamboree/data/encode_data"
   ]
  },
  {
   "cell_type": "code",
   "execution_count": 1,
   "id": "97716484-6d43-42a0-a465-fc7dd81ee208",
   "metadata": {},
   "outputs": [
    {
     "name": "stdout",
     "output_type": "stream",
     "text": [
      "\u001b[0m\u001b[38;5;27mCRISPR\u001b[0m                        K562.ENCFF475BKW.SP1.bw\n",
      "K562.ENCFF054RSU.H3K4me2.bw   K562.ENCFF538LAN.REST.bw\n",
      "K562.ENCFF106ZRO.ZEB2.bw      K562.ENCFF700NBW.TAL1.bw\n",
      "K562.ENCFF296TSL.H3K36me3.bw  K562.ENCFF899LDN.EP300.bw\n",
      "K562.ENCFF325DSL.EP300.bw     K562.ENCFF927TDC.YY1.bw\n",
      "K562.ENCFF331URE.GATA1.bw     \u001b[38;5;27mpeaksets_for_scaling\u001b[0m\n",
      "K562.ENCFF397QRA.FOXA1.bw\n"
     ]
    }
   ],
   "source": [
    "ls /data/reddylab/Revathy/collabs/Jamborees/fcc_capstone/data/encode_data"
   ]
  },
  {
   "cell_type": "code",
   "execution_count": null,
   "id": "66d7926a-00f6-4bf6-a4c7-2c065c1fadcf",
   "metadata": {},
   "outputs": [],
   "source": []
  },
  {
   "cell_type": "code",
   "execution_count": null,
   "id": "1aabf593-46f9-47e1-8596-8a21e4414440",
   "metadata": {},
   "outputs": [],
   "source": []
  },
  {
   "cell_type": "code",
   "execution_count": null,
   "id": "a037cfdc-3d0e-4fab-b26c-941972cf4c09",
   "metadata": {},
   "outputs": [],
   "source": []
  },
  {
   "cell_type": "code",
   "execution_count": null,
   "id": "4518f8c7-74e4-44b8-b7a0-690a4b4495f1",
   "metadata": {},
   "outputs": [],
   "source": []
  },
  {
   "cell_type": "code",
   "execution_count": 12,
   "id": "1c849cb6-335c-42a1-866a-8500c668d4f9",
   "metadata": {},
   "outputs": [],
   "source": [
    "FDIRY=${FD_RES}/results/region/annotation_chipseq\n",
    "ls ${FDIRY}"
   ]
  },
  {
   "cell_type": "code",
   "execution_count": 17,
   "id": "7abf8b29-b37d-4f5d-9d2b-bb274e6c9c3a",
   "metadata": {},
   "outputs": [
    {
     "name": "stdout",
     "output_type": "stream",
     "text": [
      "58684\n",
      "chr12\t53676079\t53676369\t.\t1000\t.\t592.70051\t-1.00000\t4.97158\t147\n",
      "chr12\t57905364\t57905661\t.\t1000\t.\t589.67924\t-1.00000\t4.97158\t151\n",
      "chr22\t20564334\t20564661\t.\t1000\t.\t571.30110\t-1.00000\t4.97158\t156\n",
      "chr16\t57649065\t57649362\t.\t1000\t.\t564.30575\t-1.00000\t4.97158\t143\n",
      "chr17\t45135294\t45135610\t.\t1000\t.\t563.70875\t-1.00000\t4.97158\t156\n",
      "chr15\t40274737\t40275016\t.\t1000\t.\t563.45361\t-1.00000\t4.97158\t135\n",
      "chr1\t114346538\t114346847\t.\t1000\t.\t559.65120\t-1.00000\t4.97158\t151\n",
      "chr7\t151172578\t151172888\t.\t1000\t.\t558.36665\t-1.00000\t4.97158\t150\n",
      "chr1\t225474965\t225475268\t.\t1000\t.\t558.06442\t-1.00000\t4.97158\t151\n",
      "chr5\t179668464\t179668730\t.\t1000\t.\t557.68264\t-1.00000\t4.97158\t136\n"
     ]
    }
   ],
   "source": [
    "FDIRY=${FD_RES}/source/annotation_chipseq\n",
    "FNAME=K562.ENCSR000EGM.ENCFF660GHM.CTCF.bed.gz\n",
    "FPATH=${FDIRY}/${FNAME}\n",
    "\n",
    "zcat ${FPATH} | wc -l\n",
    "zcat ${FPATH} | head"
   ]
  },
  {
   "cell_type": "code",
   "execution_count": 18,
   "id": "ba7c3d7f-df67-4f8c-beb4-57077470df67",
   "metadata": {},
   "outputs": [
    {
     "name": "stdout",
     "output_type": "stream",
     "text": [
      "chr1\t114346538\t114346847\t.\t1000\t.\t559.65120\t-1.00000\t4.97158\t151\n",
      "chr1\t225474965\t225475268\t.\t1000\t.\t558.06442\t-1.00000\t4.97158\t151\n",
      "chr12\t53676079\t53676369\t.\t1000\t.\t592.70051\t-1.00000\t4.97158\t147\n",
      "chr12\t57905364\t57905661\t.\t1000\t.\t589.67924\t-1.00000\t4.97158\t151\n",
      "chr15\t40274737\t40275016\t.\t1000\t.\t563.45361\t-1.00000\t4.97158\t135\n",
      "chr16\t57649065\t57649362\t.\t1000\t.\t564.30575\t-1.00000\t4.97158\t143\n",
      "chr17\t45135294\t45135610\t.\t1000\t.\t563.70875\t-1.00000\t4.97158\t156\n",
      "chr22\t20564334\t20564661\t.\t1000\t.\t571.30110\t-1.00000\t4.97158\t156\n",
      "chr5\t179668464\t179668730\t.\t1000\t.\t557.68264\t-1.00000\t4.97158\t136\n",
      "chr7\t151172578\t151172888\t.\t1000\t.\t558.36665\t-1.00000\t4.97158\t150\n"
     ]
    }
   ],
   "source": [
    "FDIRY=${FD_RES}/source/annotation_chipseq\n",
    "FNAME=K562.ENCSR000EGM.ENCFF660GHM.CTCF.bed.gz\n",
    "FPATH=${FDIRY}/${FNAME}\n",
    "\n",
    "zcat ${FPATH} | head | sort -k 1,1 -k2,2n"
   ]
  },
  {
   "cell_type": "code",
   "execution_count": 19,
   "id": "2c6c04e6-43b1-44a2-88d0-8b946309478c",
   "metadata": {},
   "outputs": [],
   "source": [
    "FD_INP=${FD_RES}/source/annotation_chipseq\n",
    "FD_OUT=${FD_RES}/results/region/annotation_chipseq\n",
    "FNAME=K562.ENCSR000EGM.ENCFF660GHM.CTCF.bed.gz\n",
    "\n",
    "FP_INP=${FD_INP}/${FNAME}\n",
    "FP_OUT=${FD_OUT}/${FNAME}\n",
    "\n",
    "zcat ${FP_INP} | sort -k 1,1 -k2,2n | gzip -c > ${FP_OUT}"
   ]
  },
  {
   "cell_type": "code",
   "execution_count": 20,
   "id": "22d76064-4804-4cfd-83a6-589bac3f34db",
   "metadata": {},
   "outputs": [
    {
     "name": "stdout",
     "output_type": "stream",
     "text": [
      "chr1\t16127\t16367\t.\t776\t.\t24.18824\t-1.00000\t3.52629\t120\n",
      "chr1\t267886\t268126\t.\t1000\t.\t78.91004\t-1.00000\t4.97158\t120\n",
      "chr1\t586068\t586308\t.\t1000\t.\t52.49940\t-1.00000\t4.97158\t120\n",
      "chr1\t778768\t778927\t.\t1000\t.\t167.75580\t-1.00000\t4.97158\t136\n",
      "chr1\t858026\t858266\t.\t1000\t.\t37.67029\t-1.00000\t4.97158\t120\n",
      "chr1\t869845\t869994\t.\t1000\t.\t194.36523\t-1.00000\t4.97158\t76\n",
      "chr1\t904677\t904866\t.\t1000\t.\t257.10072\t-1.00000\t4.97158\t94\n",
      "chr1\t912906\t913146\t.\t1000\t.\t34.12473\t-1.00000\t4.97158\t120\n",
      "chr1\t919710\t919950\t.\t703\t.\t23.58081\t-1.00000\t3.40998\t120\n",
      "chr1\t921092\t921332\t.\t1000\t.\t90.24380\t-1.00000\t4.97158\t120\n"
     ]
    }
   ],
   "source": [
    "zcat ${FP_OUT} | head"
   ]
  },
  {
   "cell_type": "code",
   "execution_count": null,
   "id": "788e07cb-301d-4240-b8cf-3878c8e58ba0",
   "metadata": {},
   "outputs": [],
   "source": []
  }
 ],
 "metadata": {
  "kernelspec": {
   "display_name": "Bash",
   "language": "bash",
   "name": "bash"
  },
  "language_info": {
   "codemirror_mode": "shell",
   "file_extension": ".sh",
   "mimetype": "text/x-sh",
   "name": "bash"
  }
 },
 "nbformat": 4,
 "nbformat_minor": 5
}
