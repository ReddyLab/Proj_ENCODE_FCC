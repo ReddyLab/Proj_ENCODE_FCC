{
 "cells": [
  {
   "cell_type": "markdown",
   "metadata": {},
   "source": [
    "**Set environment**"
   ]
  },
  {
   "cell_type": "code",
   "execution_count": 1,
   "metadata": {},
   "outputs": [
    {
     "name": "stdout",
     "output_type": "stream",
     "text": [
      "You are in Singularity: singularity_proj_encode_fcc \n",
      "BASE DIRECTORY (FD_BASE): /data/reddylab/Kuei \n",
      "WORK DIRECTORY (FD_WORK): /data/reddylab/Kuei/out \n",
      "CODE DIRECTORY (FD_CODE): /data/reddylab/Kuei/code \n",
      "PATH OF PROJECT (FD_PRJ): /data/reddylab/Kuei/code/Proj_CombEffect_ENCODE_FCC \n",
      "PATH OF RESULTS (FD_RES): /data/reddylab/Kuei/out/proj_combeffect_encode_fcc \n",
      "PATH OF LOG     (FD_LOG): /data/reddylab/Kuei/out/proj_combeffect_encode_fcc/log \n"
     ]
    }
   ],
   "source": [
    "suppressMessages(suppressWarnings(source(\"../config/config_sing.R\")))\n",
    "show_env()"
   ]
  },
  {
   "cell_type": "markdown",
   "metadata": {},
   "source": [
    "## Import data"
   ]
  },
  {
   "cell_type": "code",
   "execution_count": 2,
   "metadata": {},
   "outputs": [
    {
     "name": "stderr",
     "output_type": "stream",
     "text": [
      "\u001b[1mRows: \u001b[22m\u001b[34m226631\u001b[39m \u001b[1mColumns: \u001b[22m\u001b[34m11\u001b[39m\n",
      "\u001b[36m──\u001b[39m \u001b[1mColumn specification\u001b[22m \u001b[36m─────────────────────────────────────────────────────────────────────\u001b[39m\n",
      "\u001b[1mDelimiter:\u001b[22m \"\\t\"\n",
      "\u001b[31mchr\u001b[39m (3): X1, X4, X6\n",
      "\u001b[32mdbl\u001b[39m (8): X2, X3, X5, X7, X8, X9, X10, X11\n",
      "\n",
      "\u001b[36mℹ\u001b[39m Use `spec()` to retrieve the full column specification for this data.\n",
      "\u001b[36mℹ\u001b[39m Specify the column types or set `show_col_types = FALSE` to quiet this message.\n"
     ]
    },
    {
     "name": "stdout",
     "output_type": "stream",
     "text": [
      "[1] 226631     11\n"
     ]
    },
    {
     "data": {
      "text/html": [
       "<table class=\"dataframe\">\n",
       "<caption>A tibble: 6 × 11</caption>\n",
       "<thead>\n",
       "\t<tr><th scope=col>X1</th><th scope=col>X2</th><th scope=col>X3</th><th scope=col>X4</th><th scope=col>X5</th><th scope=col>X6</th><th scope=col>X7</th><th scope=col>X8</th><th scope=col>X9</th><th scope=col>X10</th><th scope=col>X11</th></tr>\n",
       "\t<tr><th scope=col>&lt;chr&gt;</th><th scope=col>&lt;dbl&gt;</th><th scope=col>&lt;dbl&gt;</th><th scope=col>&lt;chr&gt;</th><th scope=col>&lt;dbl&gt;</th><th scope=col>&lt;chr&gt;</th><th scope=col>&lt;dbl&gt;</th><th scope=col>&lt;dbl&gt;</th><th scope=col>&lt;dbl&gt;</th><th scope=col>&lt;dbl&gt;</th><th scope=col>&lt;dbl&gt;</th></tr>\n",
       "</thead>\n",
       "<tbody>\n",
       "\t<tr><td>chr1</td><td>115631</td><td>115831</td><td>peak1_Reversed:</td><td>0</td><td>-</td><td> 0.1572</td><td>0.0780</td><td>0.0735</td><td>-1</td><td>-1</td></tr>\n",
       "\t<tr><td>chr1</td><td>138940</td><td>139140</td><td>peak2_Reversed:</td><td>0</td><td>-</td><td> 0.2047</td><td>0.0510</td><td>0.0490</td><td>-1</td><td>-1</td></tr>\n",
       "\t<tr><td>chr1</td><td>138940</td><td>139140</td><td>peak2          </td><td>0</td><td>+</td><td>-0.2317</td><td>0.0790</td><td>0.0562</td><td>-1</td><td>-1</td></tr>\n",
       "\t<tr><td>chr1</td><td>203225</td><td>203425</td><td>peak3_Reversed:</td><td>0</td><td>-</td><td> 0.0023</td><td>0.0768</td><td>0.0643</td><td>-1</td><td>-1</td></tr>\n",
       "\t<tr><td>chr1</td><td>203225</td><td>203425</td><td>peak3          </td><td>0</td><td>+</td><td> 0.0524</td><td>0.0834</td><td>0.0721</td><td>-1</td><td>-1</td></tr>\n",
       "\t<tr><td>chr1</td><td>267911</td><td>268111</td><td>peak4_Reversed:</td><td>0</td><td>-</td><td>-0.3220</td><td>0.0529</td><td>0.0352</td><td>-1</td><td>-1</td></tr>\n",
       "</tbody>\n",
       "</table>\n"
      ],
      "text/latex": [
       "A tibble: 6 × 11\n",
       "\\begin{tabular}{lllllllllll}\n",
       " X1 & X2 & X3 & X4 & X5 & X6 & X7 & X8 & X9 & X10 & X11\\\\\n",
       " <chr> & <dbl> & <dbl> & <chr> & <dbl> & <chr> & <dbl> & <dbl> & <dbl> & <dbl> & <dbl>\\\\\n",
       "\\hline\n",
       "\t chr1 & 115631 & 115831 & peak1\\_Reversed: & 0 & - &  0.1572 & 0.0780 & 0.0735 & -1 & -1\\\\\n",
       "\t chr1 & 138940 & 139140 & peak2\\_Reversed: & 0 & - &  0.2047 & 0.0510 & 0.0490 & -1 & -1\\\\\n",
       "\t chr1 & 138940 & 139140 & peak2           & 0 & + & -0.2317 & 0.0790 & 0.0562 & -1 & -1\\\\\n",
       "\t chr1 & 203225 & 203425 & peak3\\_Reversed: & 0 & - &  0.0023 & 0.0768 & 0.0643 & -1 & -1\\\\\n",
       "\t chr1 & 203225 & 203425 & peak3           & 0 & + &  0.0524 & 0.0834 & 0.0721 & -1 & -1\\\\\n",
       "\t chr1 & 267911 & 268111 & peak4\\_Reversed: & 0 & - & -0.3220 & 0.0529 & 0.0352 & -1 & -1\\\\\n",
       "\\end{tabular}\n"
      ],
      "text/markdown": [
       "\n",
       "A tibble: 6 × 11\n",
       "\n",
       "| X1 &lt;chr&gt; | X2 &lt;dbl&gt; | X3 &lt;dbl&gt; | X4 &lt;chr&gt; | X5 &lt;dbl&gt; | X6 &lt;chr&gt; | X7 &lt;dbl&gt; | X8 &lt;dbl&gt; | X9 &lt;dbl&gt; | X10 &lt;dbl&gt; | X11 &lt;dbl&gt; |\n",
       "|---|---|---|---|---|---|---|---|---|---|---|\n",
       "| chr1 | 115631 | 115831 | peak1_Reversed: | 0 | - |  0.1572 | 0.0780 | 0.0735 | -1 | -1 |\n",
       "| chr1 | 138940 | 139140 | peak2_Reversed: | 0 | - |  0.2047 | 0.0510 | 0.0490 | -1 | -1 |\n",
       "| chr1 | 138940 | 139140 | peak2           | 0 | + | -0.2317 | 0.0790 | 0.0562 | -1 | -1 |\n",
       "| chr1 | 203225 | 203425 | peak3_Reversed: | 0 | - |  0.0023 | 0.0768 | 0.0643 | -1 | -1 |\n",
       "| chr1 | 203225 | 203425 | peak3           | 0 | + |  0.0524 | 0.0834 | 0.0721 | -1 | -1 |\n",
       "| chr1 | 267911 | 268111 | peak4_Reversed: | 0 | - | -0.3220 | 0.0529 | 0.0352 | -1 | -1 |\n",
       "\n"
      ],
      "text/plain": [
       "  X1   X2     X3     X4              X5 X6 X7      X8     X9     X10 X11\n",
       "1 chr1 115631 115831 peak1_Reversed: 0  -   0.1572 0.0780 0.0735 -1  -1 \n",
       "2 chr1 138940 139140 peak2_Reversed: 0  -   0.2047 0.0510 0.0490 -1  -1 \n",
       "3 chr1 138940 139140 peak2           0  +  -0.2317 0.0790 0.0562 -1  -1 \n",
       "4 chr1 203225 203425 peak3_Reversed: 0  -   0.0023 0.0768 0.0643 -1  -1 \n",
       "5 chr1 203225 203425 peak3           0  +   0.0524 0.0834 0.0721 -1  -1 \n",
       "6 chr1 267911 268111 peak4_Reversed: 0  -  -0.3220 0.0529 0.0352 -1  -1 "
      ]
     },
     "metadata": {},
     "output_type": "display_data"
    }
   ],
   "source": [
    "fdiry = file.path(FD_RES, \"source\", \"MPRA\", \"MPRA_LentiMPRA_K562_Nadav\")\n",
    "fname = \"ENCFF348WYK.bed.gz\"\n",
    "fpath = file.path(fdiry, fname)\n",
    "\n",
    "cnames = c(\"Chrom\", \"Start\", \"End\", \"Name\", \"Score\", \"Strand\")\n",
    "dat = read_tsv(fpath, col_names=FALSE)\n",
    "\n",
    "dat_lmpra_import = dat\n",
    "print(dim(dat))\n",
    "head(dat)"
   ]
  },
  {
   "cell_type": "code",
   "execution_count": 3,
   "metadata": {},
   "outputs": [
    {
     "data": {
      "text/html": [
       "<table class=\"dataframe\">\n",
       "<caption>A tibble: 6 × 11</caption>\n",
       "<thead>\n",
       "\t<tr><th scope=col>X1</th><th scope=col>X2</th><th scope=col>X3</th><th scope=col>X4</th><th scope=col>X5</th><th scope=col>X6</th><th scope=col>X7</th><th scope=col>X8</th><th scope=col>X9</th><th scope=col>X10</th><th scope=col>X11</th></tr>\n",
       "\t<tr><th scope=col>&lt;chr&gt;</th><th scope=col>&lt;dbl&gt;</th><th scope=col>&lt;dbl&gt;</th><th scope=col>&lt;chr&gt;</th><th scope=col>&lt;dbl&gt;</th><th scope=col>&lt;chr&gt;</th><th scope=col>&lt;dbl&gt;</th><th scope=col>&lt;dbl&gt;</th><th scope=col>&lt;dbl&gt;</th><th scope=col>&lt;dbl&gt;</th><th scope=col>&lt;dbl&gt;</th></tr>\n",
       "</thead>\n",
       "<tbody>\n",
       "\t<tr><td>chrY</td><td>25051988</td><td>25052188</td><td>ENSG00000185894_Reversed:</td><td>0</td><td>+</td><td>-0.6518</td><td>0.1329</td><td>0.0713</td><td>-1</td><td>-1</td></tr>\n",
       "\t<tr><td>chrY</td><td>25051988</td><td>25052188</td><td>ENSG00000185894          </td><td>0</td><td>-</td><td>-0.5484</td><td>0.0654</td><td>0.0363</td><td>-1</td><td>-1</td></tr>\n",
       "\t<tr><td>chrY</td><td>25307614</td><td>25307814</td><td>ENSG00000279115_Reversed:</td><td>0</td><td>-</td><td> 0.0619</td><td>0.0566</td><td>0.0497</td><td>-1</td><td>-1</td></tr>\n",
       "\t<tr><td>chrY</td><td>25307614</td><td>25307814</td><td>ENSG00000279115          </td><td>0</td><td>+</td><td>-0.4995</td><td>0.0805</td><td>0.0462</td><td>-1</td><td>-1</td></tr>\n",
       "\t<tr><td>chrY</td><td>25622201</td><td>25622401</td><td>ENSG00000172288_Reversed:</td><td>0</td><td>-</td><td>-0.4231</td><td>0.0730</td><td>0.0445</td><td>-1</td><td>-1</td></tr>\n",
       "\t<tr><td>chrY</td><td>25622201</td><td>25622401</td><td>ENSG00000172288          </td><td>0</td><td>+</td><td>-0.3133</td><td>0.0479</td><td>0.0305</td><td>-1</td><td>-1</td></tr>\n",
       "</tbody>\n",
       "</table>\n"
      ],
      "text/latex": [
       "A tibble: 6 × 11\n",
       "\\begin{tabular}{lllllllllll}\n",
       " X1 & X2 & X3 & X4 & X5 & X6 & X7 & X8 & X9 & X10 & X11\\\\\n",
       " <chr> & <dbl> & <dbl> & <chr> & <dbl> & <chr> & <dbl> & <dbl> & <dbl> & <dbl> & <dbl>\\\\\n",
       "\\hline\n",
       "\t chrY & 25051988 & 25052188 & ENSG00000185894\\_Reversed: & 0 & + & -0.6518 & 0.1329 & 0.0713 & -1 & -1\\\\\n",
       "\t chrY & 25051988 & 25052188 & ENSG00000185894           & 0 & - & -0.5484 & 0.0654 & 0.0363 & -1 & -1\\\\\n",
       "\t chrY & 25307614 & 25307814 & ENSG00000279115\\_Reversed: & 0 & - &  0.0619 & 0.0566 & 0.0497 & -1 & -1\\\\\n",
       "\t chrY & 25307614 & 25307814 & ENSG00000279115           & 0 & + & -0.4995 & 0.0805 & 0.0462 & -1 & -1\\\\\n",
       "\t chrY & 25622201 & 25622401 & ENSG00000172288\\_Reversed: & 0 & - & -0.4231 & 0.0730 & 0.0445 & -1 & -1\\\\\n",
       "\t chrY & 25622201 & 25622401 & ENSG00000172288           & 0 & + & -0.3133 & 0.0479 & 0.0305 & -1 & -1\\\\\n",
       "\\end{tabular}\n"
      ],
      "text/markdown": [
       "\n",
       "A tibble: 6 × 11\n",
       "\n",
       "| X1 &lt;chr&gt; | X2 &lt;dbl&gt; | X3 &lt;dbl&gt; | X4 &lt;chr&gt; | X5 &lt;dbl&gt; | X6 &lt;chr&gt; | X7 &lt;dbl&gt; | X8 &lt;dbl&gt; | X9 &lt;dbl&gt; | X10 &lt;dbl&gt; | X11 &lt;dbl&gt; |\n",
       "|---|---|---|---|---|---|---|---|---|---|---|\n",
       "| chrY | 25051988 | 25052188 | ENSG00000185894_Reversed: | 0 | + | -0.6518 | 0.1329 | 0.0713 | -1 | -1 |\n",
       "| chrY | 25051988 | 25052188 | ENSG00000185894           | 0 | - | -0.5484 | 0.0654 | 0.0363 | -1 | -1 |\n",
       "| chrY | 25307614 | 25307814 | ENSG00000279115_Reversed: | 0 | - |  0.0619 | 0.0566 | 0.0497 | -1 | -1 |\n",
       "| chrY | 25307614 | 25307814 | ENSG00000279115           | 0 | + | -0.4995 | 0.0805 | 0.0462 | -1 | -1 |\n",
       "| chrY | 25622201 | 25622401 | ENSG00000172288_Reversed: | 0 | - | -0.4231 | 0.0730 | 0.0445 | -1 | -1 |\n",
       "| chrY | 25622201 | 25622401 | ENSG00000172288           | 0 | + | -0.3133 | 0.0479 | 0.0305 | -1 | -1 |\n",
       "\n"
      ],
      "text/plain": [
       "  X1   X2       X3       X4                        X5 X6 X7      X8     X9    \n",
       "1 chrY 25051988 25052188 ENSG00000185894_Reversed: 0  +  -0.6518 0.1329 0.0713\n",
       "2 chrY 25051988 25052188 ENSG00000185894           0  -  -0.5484 0.0654 0.0363\n",
       "3 chrY 25307614 25307814 ENSG00000279115_Reversed: 0  -   0.0619 0.0566 0.0497\n",
       "4 chrY 25307614 25307814 ENSG00000279115           0  +  -0.4995 0.0805 0.0462\n",
       "5 chrY 25622201 25622401 ENSG00000172288_Reversed: 0  -  -0.4231 0.0730 0.0445\n",
       "6 chrY 25622201 25622401 ENSG00000172288           0  +  -0.3133 0.0479 0.0305\n",
       "  X10 X11\n",
       "1 -1  -1 \n",
       "2 -1  -1 \n",
       "3 -1  -1 \n",
       "4 -1  -1 \n",
       "5 -1  -1 \n",
       "6 -1  -1 "
      ]
     },
     "metadata": {},
     "output_type": "display_data"
    }
   ],
   "source": [
    "tail(dat)"
   ]
  },
  {
   "cell_type": "code",
   "execution_count": 4,
   "metadata": {},
   "outputs": [
    {
     "name": "stdout",
     "output_type": "stream",
     "text": [
      "[1] 226631      6\n"
     ]
    },
    {
     "data": {
      "text/html": [
       "<table class=\"dataframe\">\n",
       "<caption>A tibble: 6 × 6</caption>\n",
       "<thead>\n",
       "\t<tr><th scope=col>Chrom</th><th scope=col>Start</th><th scope=col>End</th><th scope=col>Name</th><th scope=col>Score</th><th scope=col>Strand</th></tr>\n",
       "\t<tr><th scope=col>&lt;chr&gt;</th><th scope=col>&lt;dbl&gt;</th><th scope=col>&lt;dbl&gt;</th><th scope=col>&lt;chr&gt;</th><th scope=col>&lt;dbl&gt;</th><th scope=col>&lt;chr&gt;</th></tr>\n",
       "</thead>\n",
       "<tbody>\n",
       "\t<tr><td>chr1</td><td>115631</td><td>115831</td><td>peak1_Reversed:</td><td> 0.1572</td><td>-</td></tr>\n",
       "\t<tr><td>chr1</td><td>138940</td><td>139140</td><td>peak2_Reversed:</td><td> 0.2047</td><td>-</td></tr>\n",
       "\t<tr><td>chr1</td><td>138940</td><td>139140</td><td>peak2          </td><td>-0.2317</td><td>+</td></tr>\n",
       "\t<tr><td>chr1</td><td>203225</td><td>203425</td><td>peak3_Reversed:</td><td> 0.0023</td><td>-</td></tr>\n",
       "\t<tr><td>chr1</td><td>203225</td><td>203425</td><td>peak3          </td><td> 0.0524</td><td>+</td></tr>\n",
       "\t<tr><td>chr1</td><td>267911</td><td>268111</td><td>peak4_Reversed:</td><td>-0.3220</td><td>-</td></tr>\n",
       "</tbody>\n",
       "</table>\n"
      ],
      "text/latex": [
       "A tibble: 6 × 6\n",
       "\\begin{tabular}{llllll}\n",
       " Chrom & Start & End & Name & Score & Strand\\\\\n",
       " <chr> & <dbl> & <dbl> & <chr> & <dbl> & <chr>\\\\\n",
       "\\hline\n",
       "\t chr1 & 115631 & 115831 & peak1\\_Reversed: &  0.1572 & -\\\\\n",
       "\t chr1 & 138940 & 139140 & peak2\\_Reversed: &  0.2047 & -\\\\\n",
       "\t chr1 & 138940 & 139140 & peak2           & -0.2317 & +\\\\\n",
       "\t chr1 & 203225 & 203425 & peak3\\_Reversed: &  0.0023 & -\\\\\n",
       "\t chr1 & 203225 & 203425 & peak3           &  0.0524 & +\\\\\n",
       "\t chr1 & 267911 & 268111 & peak4\\_Reversed: & -0.3220 & -\\\\\n",
       "\\end{tabular}\n"
      ],
      "text/markdown": [
       "\n",
       "A tibble: 6 × 6\n",
       "\n",
       "| Chrom &lt;chr&gt; | Start &lt;dbl&gt; | End &lt;dbl&gt; | Name &lt;chr&gt; | Score &lt;dbl&gt; | Strand &lt;chr&gt; |\n",
       "|---|---|---|---|---|---|\n",
       "| chr1 | 115631 | 115831 | peak1_Reversed: |  0.1572 | - |\n",
       "| chr1 | 138940 | 139140 | peak2_Reversed: |  0.2047 | - |\n",
       "| chr1 | 138940 | 139140 | peak2           | -0.2317 | + |\n",
       "| chr1 | 203225 | 203425 | peak3_Reversed: |  0.0023 | - |\n",
       "| chr1 | 203225 | 203425 | peak3           |  0.0524 | + |\n",
       "| chr1 | 267911 | 268111 | peak4_Reversed: | -0.3220 | - |\n",
       "\n"
      ],
      "text/plain": [
       "  Chrom Start  End    Name            Score   Strand\n",
       "1 chr1  115631 115831 peak1_Reversed:  0.1572 -     \n",
       "2 chr1  138940 139140 peak2_Reversed:  0.2047 -     \n",
       "3 chr1  138940 139140 peak2           -0.2317 +     \n",
       "4 chr1  203225 203425 peak3_Reversed:  0.0023 -     \n",
       "5 chr1  203225 203425 peak3            0.0524 +     \n",
       "6 chr1  267911 268111 peak4_Reversed: -0.3220 -     "
      ]
     },
     "metadata": {},
     "output_type": "display_data"
    }
   ],
   "source": [
    "dat = dat_lmpra_import\n",
    "dat = dat %>% dplyr::select(X1, X2, X3, X4, X7, X6)\n",
    "colnames(dat) = c(\"Chrom\", \"Start\", \"End\", \"Name\", \"Score\", \"Strand\")\n",
    "\n",
    "dat_lmpra_score_stranded = dat\n",
    "print(dim(dat))\n",
    "head(dat)"
   ]
  },
  {
   "cell_type": "code",
   "execution_count": 5,
   "metadata": {},
   "outputs": [
    {
     "name": "stdout",
     "output_type": "stream",
     "text": [
      "[1] 114898      6\n"
     ]
    },
    {
     "data": {
      "text/html": [
       "<table class=\"dataframe\">\n",
       "<caption>A tibble: 6 × 6</caption>\n",
       "<thead>\n",
       "\t<tr><th scope=col>Chrom</th><th scope=col>Start</th><th scope=col>End</th><th scope=col>Name</th><th scope=col>Score</th><th scope=col>Strand</th></tr>\n",
       "\t<tr><th scope=col>&lt;chr&gt;</th><th scope=col>&lt;dbl&gt;</th><th scope=col>&lt;dbl&gt;</th><th scope=col>&lt;chr&gt;</th><th scope=col>&lt;dbl&gt;</th><th scope=col>&lt;chr&gt;</th></tr>\n",
       "</thead>\n",
       "<tbody>\n",
       "\t<tr><td>chr1</td><td>115631</td><td>115831</td><td>peak1</td><td> 0.15720</td><td>*</td></tr>\n",
       "\t<tr><td>chr1</td><td>138940</td><td>139140</td><td>peak2</td><td>-0.01350</td><td>*</td></tr>\n",
       "\t<tr><td>chr1</td><td>203225</td><td>203425</td><td>peak3</td><td> 0.02735</td><td>*</td></tr>\n",
       "\t<tr><td>chr1</td><td>267911</td><td>268111</td><td>peak4</td><td> 0.05975</td><td>*</td></tr>\n",
       "\t<tr><td>chr1</td><td>586093</td><td>586293</td><td>peak5</td><td> 0.07640</td><td>*</td></tr>\n",
       "\t<tr><td>chr1</td><td>629847</td><td>630047</td><td>peak6</td><td>-0.48830</td><td>*</td></tr>\n",
       "</tbody>\n",
       "</table>\n"
      ],
      "text/latex": [
       "A tibble: 6 × 6\n",
       "\\begin{tabular}{llllll}\n",
       " Chrom & Start & End & Name & Score & Strand\\\\\n",
       " <chr> & <dbl> & <dbl> & <chr> & <dbl> & <chr>\\\\\n",
       "\\hline\n",
       "\t chr1 & 115631 & 115831 & peak1 &  0.15720 & *\\\\\n",
       "\t chr1 & 138940 & 139140 & peak2 & -0.01350 & *\\\\\n",
       "\t chr1 & 203225 & 203425 & peak3 &  0.02735 & *\\\\\n",
       "\t chr1 & 267911 & 268111 & peak4 &  0.05975 & *\\\\\n",
       "\t chr1 & 586093 & 586293 & peak5 &  0.07640 & *\\\\\n",
       "\t chr1 & 629847 & 630047 & peak6 & -0.48830 & *\\\\\n",
       "\\end{tabular}\n"
      ],
      "text/markdown": [
       "\n",
       "A tibble: 6 × 6\n",
       "\n",
       "| Chrom &lt;chr&gt; | Start &lt;dbl&gt; | End &lt;dbl&gt; | Name &lt;chr&gt; | Score &lt;dbl&gt; | Strand &lt;chr&gt; |\n",
       "|---|---|---|---|---|---|\n",
       "| chr1 | 115631 | 115831 | peak1 |  0.15720 | * |\n",
       "| chr1 | 138940 | 139140 | peak2 | -0.01350 | * |\n",
       "| chr1 | 203225 | 203425 | peak3 |  0.02735 | * |\n",
       "| chr1 | 267911 | 268111 | peak4 |  0.05975 | * |\n",
       "| chr1 | 586093 | 586293 | peak5 |  0.07640 | * |\n",
       "| chr1 | 629847 | 630047 | peak6 | -0.48830 | * |\n",
       "\n"
      ],
      "text/plain": [
       "  Chrom Start  End    Name  Score    Strand\n",
       "1 chr1  115631 115831 peak1  0.15720 *     \n",
       "2 chr1  138940 139140 peak2 -0.01350 *     \n",
       "3 chr1  203225 203425 peak3  0.02735 *     \n",
       "4 chr1  267911 268111 peak4  0.05975 *     \n",
       "5 chr1  586093 586293 peak5  0.07640 *     \n",
       "6 chr1  629847 630047 peak6 -0.48830 *     "
      ]
     },
     "metadata": {},
     "output_type": "display_data"
    }
   ],
   "source": [
    "dat = dat_lmpra_score_stranded\n",
    "dat = dat %>% dplyr::mutate(Name = str_remove(Name, \"_Reversed:\"))\n",
    "dat = dat %>% \n",
    "    dplyr::group_by(Chrom, Start, End) %>%\n",
    "    dplyr::summarise(\n",
    "        Name  = paste(unique(Name), collapse=\",\"),\n",
    "        Score = mean(Score),\n",
    "        .groups = \"drop\"\n",
    "    ) %>%\n",
    "    dplyr::mutate(Strand = \"*\") %>%\n",
    "    dplyr::arrange(Chrom, Start, End)\n",
    "\n",
    "dat_lmpra_score_unstranded = dat\n",
    "print(dim(dat))\n",
    "head(dat)"
   ]
  },
  {
   "cell_type": "code",
   "execution_count": 6,
   "metadata": {},
   "outputs": [
    {
     "data": {
      "image/png": "[encoded data removed]",
      "text/plain": [
       "plot without title"
      ]
     },
     "metadata": {
      "image/png": {
       "height": 300,
       "width": 420
      }
     },
     "output_type": "display_data"
    }
   ],
   "source": [
    "dat = dat_lmpra_score_stranded\n",
    "gpt = ggplot(dat, aes(x=Score)) + \n",
    "    geom_histogram(binwidth = 0.1) + \n",
    "    labs(title=\"LMPRA Score (stranded)\") +\n",
    "    theme_cowplot()\n",
    "\n",
    "options(repr.plot.height=5, repr.plot.width=7)\n",
    "print(gpt)"
   ]
  },
  {
   "cell_type": "code",
   "execution_count": 7,
   "metadata": {},
   "outputs": [
    {
     "data": {
      "image/png": "[encoded data removed]",
      "text/plain": [
       "plot without title"
      ]
     },
     "metadata": {
      "image/png": {
       "height": 300,
       "width": 420
      }
     },
     "output_type": "display_data"
    }
   ],
   "source": [
    "dat = dat_lmpra_score_unstranded\n",
    "gpt = ggplot(dat, aes(x=Score)) + \n",
    "    geom_histogram(binwidth = 0.1) + \n",
    "    labs(title=\"LMPRA Score (unstranded)\") +\n",
    "    theme_cowplot()\n",
    "\n",
    "options(repr.plot.height=5, repr.plot.width=7)\n",
    "print(gpt)"
   ]
  },
  {
   "cell_type": "markdown",
   "metadata": {},
   "source": [
    "```\n",
    "dat_cnames = data.frame(\n",
    "    \"Name\" = c(\"Chrom\", \"Start\", \"End\", \"Name\", \"Score\", \"Strand\"),\n",
    "    \"Description\" = c(\"Chrom\", \"Start\", \"End\", \"Name\", \"Score\", \"Strand\")\n",
    ")\n",
    "dat_cnames\n",
    "```"
   ]
  },
  {
   "cell_type": "markdown",
   "metadata": {},
   "source": [
    "## Save results"
   ]
  },
  {
   "cell_type": "markdown",
   "metadata": {},
   "source": [
    "```\n",
    "fdiry = file.path(FD_RES, \"results\", \"LentiMPRA_K562_Nadav\", \"coverage\")\n",
    "fname = \"description.tsv\"\n",
    "fpath = file.path(fdiry, fname)\n",
    "print(fpath)\n",
    "\n",
    "dat = dat_cnames\n",
    "write_tsv(dat, fpath)\n",
    "```"
   ]
  },
  {
   "cell_type": "code",
   "execution_count": 8,
   "metadata": {},
   "outputs": [],
   "source": [
    "fdiry = file.path(FD_RES, \"results\", \"LentiMPRA_K562_Nadav\", \"coverage\")\n",
    "fname = \"K562.ENCSR382BVV.ENCFF348WYK.LMPRA.stranded.bed.gz\"\n",
    "fpath = file.path(fdiry, fname)\n",
    "\n",
    "dat = dat_lmpra_score_stranded\n",
    "dat = dat %>% dplyr::arrange(Chrom, Start, End)\n",
    "write_tsv(dat, fpath)"
   ]
  },
  {
   "cell_type": "code",
   "execution_count": 9,
   "metadata": {},
   "outputs": [],
   "source": [
    "fdiry = file.path(FD_RES, \"results\", \"LentiMPRA_K562_Nadav\", \"coverage\")\n",
    "fname = \"K562.ENCSR382BVV.ENCFF348WYK.LMPRA.unstranded.bed.gz\"\n",
    "fpath = file.path(fdiry, fname)\n",
    "\n",
    "dat = dat_lmpra_score_unstranded\n",
    "dat = dat %>% dplyr::arrange(Chrom, Start, End)\n",
    "write_tsv(dat, fpath)"
   ]
  },
  {
   "cell_type": "code",
   "execution_count": 10,
   "metadata": {},
   "outputs": [],
   "source": [
    "fdiry = file.path(FD_RES, \"results\", \"LentiMPRA_K562_Nadav\", \"coverage\")\n",
    "fname = \"K562.ENCSR382BVV.ENCFF348WYK.LMPRA.unstranded.bg\"\n",
    "fpath = file.path(fdiry, fname)\n",
    "\n",
    "dat = dat_lmpra_score_unstranded\n",
    "dat = dat %>% \n",
    "    dplyr::select(Chrom, Start, End, Score) %>% \n",
    "    dplyr::arrange(Chrom, Start, End)\n",
    "write_tsv(dat, fpath)"
   ]
  },
  {
   "cell_type": "code",
   "execution_count": null,
   "metadata": {},
   "outputs": [],
   "source": []
  }
 ],
 "metadata": {
  "kernelspec": {
   "display_name": "R",
   "language": "R",
   "name": "ir"
  },
  "language_info": {
   "codemirror_mode": "r",
   "file_extension": ".r",
   "mimetype": "text/x-r-source",
   "name": "R",
   "pygments_lexer": "r",
   "version": "4.3.0"
  }
 },
 "nbformat": 4,
 "nbformat_minor": 4
}
