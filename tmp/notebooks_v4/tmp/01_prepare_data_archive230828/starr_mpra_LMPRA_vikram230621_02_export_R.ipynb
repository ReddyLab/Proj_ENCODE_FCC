{
 "cells": [
  {
   "cell_type": "markdown",
   "metadata": {},
   "source": [
    "**Set environment**"
   ]
  },
  {
   "cell_type": "code",
   "execution_count": 1,
   "metadata": {},
   "outputs": [
    {
     "name": "stdout",
     "output_type": "stream",
     "text": [
      "You are in Singularity: singularity_proj_encode_fcc \n",
      "BASE DIRECTORY (FD_BASE): /data/reddylab/Kuei \n",
      "WORK DIRECTORY (FD_WORK): /data/reddylab/Kuei/out \n",
      "CODE DIRECTORY (FD_CODE): /data/reddylab/Kuei/code \n",
      "PATH OF PROJECT (FD_PRJ): /data/reddylab/Kuei/code/Proj_CombEffect_ENCODE_FCC \n",
      "PATH OF RESULTS (FD_RES): /data/reddylab/Kuei/out/proj_combeffect_encode_fcc \n",
      "PATH OF LOG     (FD_LOG): /data/reddylab/Kuei/out/proj_combeffect_encode_fcc/log \n"
     ]
    }
   ],
   "source": [
    "suppressMessages(suppressWarnings(source(\"../config/config_sing.R\")))\n",
    "show_env()"
   ]
  },
  {
   "cell_type": "markdown",
   "metadata": {},
   "source": [
    "## Import data"
   ]
  },
  {
   "cell_type": "code",
   "execution_count": 2,
   "metadata": {},
   "outputs": [
    {
     "name": "stdout",
     "output_type": "stream",
     "text": [
      "[1] 243780      7\n"
     ]
    },
    {
     "data": {
      "text/html": [
       "<table class=\"dataframe\">\n",
       "<caption>A tibble: 6 × 7</caption>\n",
       "<thead>\n",
       "\t<tr><th scope=col>name</th><th scope=col>category</th><th scope=col>chr.hg38</th><th scope=col>start.hg38</th><th scope=col>stop.hg38</th><th scope=col>str.hg38</th><th scope=col>230nt sequence (15nt 5' adaptor - 200nt element - 15nt 3' adaptor)</th></tr>\n",
       "\t<tr><th scope=col>&lt;chr&gt;</th><th scope=col>&lt;chr&gt;</th><th scope=col>&lt;chr&gt;</th><th scope=col>&lt;dbl&gt;</th><th scope=col>&lt;dbl&gt;</th><th scope=col>&lt;chr&gt;</th><th scope=col>&lt;chr&gt;</th></tr>\n",
       "</thead>\n",
       "<tbody>\n",
       "\t<tr><td>peak1            </td><td>potential enhancer</td><td>chr1</td><td> 115631</td><td> 115831</td><td>+</td><td>AGGACCGGATCAACTGAGCCGGGTCATGAAAAAGGGGATCTTGTGTGTCTGTCCACGATAAGCACTATCACAAGGACTTTCTATAAACTCACAAGAAATTTCTGCCCACCCAGCACACAGTTTGTCCAGCTCATCCTGTAGGTGTCTCTATAATAGGACCTATCATAAAAAATTCCTCAAGACTGCAGCATTTCAGATAAGCCACCCTCACAAGACATTGCGTGAACCGA</td></tr>\n",
       "\t<tr><td>peak1_Reversed:  </td><td>potential enhancer</td><td>chr1</td><td> 115631</td><td> 115831</td><td>-</td><td>AGGACCGGATCAACTTCTTGTGAGGGTGGCTTATCTGAAATGCTGCAGTCTTGAGGAATTTTTTATGATAGGTCCTATTATAGAGACACCTACAGGATGAGCTGGACAAACTGTGTGCTGGGTGGGCAGAAATTTCTTGTGAGTTTATAGAAAGTCCTTGTGATAGTGCTTATCGTGGACAGACACACAAGATCCCCTTTTTCATGACCCGGCTCCATTGCGTGAACCGA</td></tr>\n",
       "\t<tr><td>peak10           </td><td>potential enhancer</td><td>chr1</td><td> 634309</td><td> 634509</td><td>+</td><td>AGGACCGGATCAACTTGTCGCCTTAATCCAAGCCTACGTTTTTACACTTCTAGTAAGCCTCTACCTGCACGACAACACATAATGACCCACCAATCACATGCCTATCATATAGTAAAACCCAGCCCATGGCCCCTAACAGGGGCCCTCTCAGCCCTCCTAATGACCTCCGGCCTAGCCATGTGATTTCACTTCCACTCCACAACCCTCCTCATACTCATTGCGTGAACCGA</td></tr>\n",
       "\t<tr><td>peak10_Reversed: </td><td>potential enhancer</td><td>chr1</td><td> 634309</td><td> 634509</td><td>-</td><td>AGGACCGGATCAACTAGTATGAGGAGGGTTGTGGAGTGGAAGTGAAATCACATGGCTAGGCCGGAGGTCATTAGGAGGGCTGAGAGGGCCCCTGTTAGGGGCCATGGGCTGGGTTTTACTATATGATAGGCATGTGATTGGTGGGTCATTATGTGTTGTCGTGCAGGTAGAGGCTTACTAGAAGTGTAAAAACGTAGGCTTGGATTAAGGCGACACATTGCGTGAACCGA</td></tr>\n",
       "\t<tr><td>peak100          </td><td>potential enhancer</td><td>chr1</td><td>2133494</td><td>2133694</td><td>+</td><td>AGGACCGGATCAACTCCCCTCCCCAGCTGTGCGCCCGCCCCTTGGTTCCACCCCCCCCAGCTGTGCATCCGTCCCTTGGCTCCGCCCCGCACTGTGCGTCCATTTTTGACTCCGCCCCCGGCTGTGCGCTCATCCCTCGGCTCCGCCCCCGGCTGTGCGTCCGTCCCTCGGTTCCGCCCCCGGCTGCGCGTCTGTCCCTCGACTCGGCCCCTCAGCATTGCGTGAACCGA</td></tr>\n",
       "\t<tr><td>peak100_Reversed:</td><td>potential enhancer</td><td>chr1</td><td>2133494</td><td>2133694</td><td>-</td><td>AGGACCGGATCAACTCTGAGGGGCCGAGTCGAGGGACAGACGCGCAGCCGGGGGCGGAACCGAGGGACGGACGCACAGCCGGGGGCGGAGCCGAGGGATGAGCGCACAGCCGGGGGCGGAGTCAAAAATGGACGCACAGTGCGGGGCGGAGCCAAGGGACGGATGCACAGCTGGGGGGGGTGGAACCAAGGGGCGGGCGCACAGCTGGGGAGGGGCATTGCGTGAACCGA</td></tr>\n",
       "</tbody>\n",
       "</table>\n"
      ],
      "text/latex": [
       "A tibble: 6 × 7\n",
       "\\begin{tabular}{lllllll}\n",
       " name & category & chr.hg38 & start.hg38 & stop.hg38 & str.hg38 & 230nt sequence (15nt 5' adaptor - 200nt element - 15nt 3' adaptor)\\\\\n",
       " <chr> & <chr> & <chr> & <dbl> & <dbl> & <chr> & <chr>\\\\\n",
       "\\hline\n",
       "\t peak1             & potential enhancer & chr1 &  115631 &  115831 & + & AGGACCGGATCAACTGAGCCGGGTCATGAAAAAGGGGATCTTGTGTGTCTGTCCACGATAAGCACTATCACAAGGACTTTCTATAAACTCACAAGAAATTTCTGCCCACCCAGCACACAGTTTGTCCAGCTCATCCTGTAGGTGTCTCTATAATAGGACCTATCATAAAAAATTCCTCAAGACTGCAGCATTTCAGATAAGCCACCCTCACAAGACATTGCGTGAACCGA\\\\\n",
       "\t peak1\\_Reversed:   & potential enhancer & chr1 &  115631 &  115831 & - & AGGACCGGATCAACTTCTTGTGAGGGTGGCTTATCTGAAATGCTGCAGTCTTGAGGAATTTTTTATGATAGGTCCTATTATAGAGACACCTACAGGATGAGCTGGACAAACTGTGTGCTGGGTGGGCAGAAATTTCTTGTGAGTTTATAGAAAGTCCTTGTGATAGTGCTTATCGTGGACAGACACACAAGATCCCCTTTTTCATGACCCGGCTCCATTGCGTGAACCGA\\\\\n",
       "\t peak10            & potential enhancer & chr1 &  634309 &  634509 & + & AGGACCGGATCAACTTGTCGCCTTAATCCAAGCCTACGTTTTTACACTTCTAGTAAGCCTCTACCTGCACGACAACACATAATGACCCACCAATCACATGCCTATCATATAGTAAAACCCAGCCCATGGCCCCTAACAGGGGCCCTCTCAGCCCTCCTAATGACCTCCGGCCTAGCCATGTGATTTCACTTCCACTCCACAACCCTCCTCATACTCATTGCGTGAACCGA\\\\\n",
       "\t peak10\\_Reversed:  & potential enhancer & chr1 &  634309 &  634509 & - & AGGACCGGATCAACTAGTATGAGGAGGGTTGTGGAGTGGAAGTGAAATCACATGGCTAGGCCGGAGGTCATTAGGAGGGCTGAGAGGGCCCCTGTTAGGGGCCATGGGCTGGGTTTTACTATATGATAGGCATGTGATTGGTGGGTCATTATGTGTTGTCGTGCAGGTAGAGGCTTACTAGAAGTGTAAAAACGTAGGCTTGGATTAAGGCGACACATTGCGTGAACCGA\\\\\n",
       "\t peak100           & potential enhancer & chr1 & 2133494 & 2133694 & + & AGGACCGGATCAACTCCCCTCCCCAGCTGTGCGCCCGCCCCTTGGTTCCACCCCCCCCAGCTGTGCATCCGTCCCTTGGCTCCGCCCCGCACTGTGCGTCCATTTTTGACTCCGCCCCCGGCTGTGCGCTCATCCCTCGGCTCCGCCCCCGGCTGTGCGTCCGTCCCTCGGTTCCGCCCCCGGCTGCGCGTCTGTCCCTCGACTCGGCCCCTCAGCATTGCGTGAACCGA\\\\\n",
       "\t peak100\\_Reversed: & potential enhancer & chr1 & 2133494 & 2133694 & - & AGGACCGGATCAACTCTGAGGGGCCGAGTCGAGGGACAGACGCGCAGCCGGGGGCGGAACCGAGGGACGGACGCACAGCCGGGGGCGGAGCCGAGGGATGAGCGCACAGCCGGGGGCGGAGTCAAAAATGGACGCACAGTGCGGGGCGGAGCCAAGGGACGGATGCACAGCTGGGGGGGGTGGAACCAAGGGGCGGGCGCACAGCTGGGGAGGGGCATTGCGTGAACCGA\\\\\n",
       "\\end{tabular}\n"
      ],
      "text/markdown": [
       "\n",
       "A tibble: 6 × 7\n",
       "\n",
       "| name &lt;chr&gt; | category &lt;chr&gt; | chr.hg38 &lt;chr&gt; | start.hg38 &lt;dbl&gt; | stop.hg38 &lt;dbl&gt; | str.hg38 &lt;chr&gt; | 230nt sequence (15nt 5' adaptor - 200nt element - 15nt 3' adaptor) &lt;chr&gt; |\n",
       "|---|---|---|---|---|---|---|\n",
       "| peak1             | potential enhancer | chr1 |  115631 |  115831 | + | AGGACCGGATCAACTGAGCCGGGTCATGAAAAAGGGGATCTTGTGTGTCTGTCCACGATAAGCACTATCACAAGGACTTTCTATAAACTCACAAGAAATTTCTGCCCACCCAGCACACAGTTTGTCCAGCTCATCCTGTAGGTGTCTCTATAATAGGACCTATCATAAAAAATTCCTCAAGACTGCAGCATTTCAGATAAGCCACCCTCACAAGACATTGCGTGAACCGA |\n",
       "| peak1_Reversed:   | potential enhancer | chr1 |  115631 |  115831 | - | AGGACCGGATCAACTTCTTGTGAGGGTGGCTTATCTGAAATGCTGCAGTCTTGAGGAATTTTTTATGATAGGTCCTATTATAGAGACACCTACAGGATGAGCTGGACAAACTGTGTGCTGGGTGGGCAGAAATTTCTTGTGAGTTTATAGAAAGTCCTTGTGATAGTGCTTATCGTGGACAGACACACAAGATCCCCTTTTTCATGACCCGGCTCCATTGCGTGAACCGA |\n",
       "| peak10            | potential enhancer | chr1 |  634309 |  634509 | + | AGGACCGGATCAACTTGTCGCCTTAATCCAAGCCTACGTTTTTACACTTCTAGTAAGCCTCTACCTGCACGACAACACATAATGACCCACCAATCACATGCCTATCATATAGTAAAACCCAGCCCATGGCCCCTAACAGGGGCCCTCTCAGCCCTCCTAATGACCTCCGGCCTAGCCATGTGATTTCACTTCCACTCCACAACCCTCCTCATACTCATTGCGTGAACCGA |\n",
       "| peak10_Reversed:  | potential enhancer | chr1 |  634309 |  634509 | - | AGGACCGGATCAACTAGTATGAGGAGGGTTGTGGAGTGGAAGTGAAATCACATGGCTAGGCCGGAGGTCATTAGGAGGGCTGAGAGGGCCCCTGTTAGGGGCCATGGGCTGGGTTTTACTATATGATAGGCATGTGATTGGTGGGTCATTATGTGTTGTCGTGCAGGTAGAGGCTTACTAGAAGTGTAAAAACGTAGGCTTGGATTAAGGCGACACATTGCGTGAACCGA |\n",
       "| peak100           | potential enhancer | chr1 | 2133494 | 2133694 | + | AGGACCGGATCAACTCCCCTCCCCAGCTGTGCGCCCGCCCCTTGGTTCCACCCCCCCCAGCTGTGCATCCGTCCCTTGGCTCCGCCCCGCACTGTGCGTCCATTTTTGACTCCGCCCCCGGCTGTGCGCTCATCCCTCGGCTCCGCCCCCGGCTGTGCGTCCGTCCCTCGGTTCCGCCCCCGGCTGCGCGTCTGTCCCTCGACTCGGCCCCTCAGCATTGCGTGAACCGA |\n",
       "| peak100_Reversed: | potential enhancer | chr1 | 2133494 | 2133694 | - | AGGACCGGATCAACTCTGAGGGGCCGAGTCGAGGGACAGACGCGCAGCCGGGGGCGGAACCGAGGGACGGACGCACAGCCGGGGGCGGAGCCGAGGGATGAGCGCACAGCCGGGGGCGGAGTCAAAAATGGACGCACAGTGCGGGGCGGAGCCAAGGGACGGATGCACAGCTGGGGGGGGTGGAACCAAGGGGCGGGCGCACAGCTGGGGAGGGGCATTGCGTGAACCGA |\n",
       "\n"
      ],
      "text/plain": [
       "  name              category           chr.hg38 start.hg38 stop.hg38 str.hg38\n",
       "1 peak1             potential enhancer chr1      115631     115831   +       \n",
       "2 peak1_Reversed:   potential enhancer chr1      115631     115831   -       \n",
       "3 peak10            potential enhancer chr1      634309     634509   +       \n",
       "4 peak10_Reversed:  potential enhancer chr1      634309     634509   -       \n",
       "5 peak100           potential enhancer chr1     2133494    2133694   +       \n",
       "6 peak100_Reversed: potential enhancer chr1     2133494    2133694   -       \n",
       "  230nt sequence (15nt 5' adaptor - 200nt element - 15nt 3' adaptor)                                                                                                                                                                    \n",
       "1 AGGACCGGATCAACTGAGCCGGGTCATGAAAAAGGGGATCTTGTGTGTCTGTCCACGATAAGCACTATCACAAGGACTTTCTATAAACTCACAAGAAATTTCTGCCCACCCAGCACACAGTTTGTCCAGCTCATCCTGTAGGTGTCTCTATAATAGGACCTATCATAAAAAATTCCTCAAGACTGCAGCATTTCAGATAAGCCACCCTCACAAGACATTGCGTGAACCGA\n",
       "2 AGGACCGGATCAACTTCTTGTGAGGGTGGCTTATCTGAAATGCTGCAGTCTTGAGGAATTTTTTATGATAGGTCCTATTATAGAGACACCTACAGGATGAGCTGGACAAACTGTGTGCTGGGTGGGCAGAAATTTCTTGTGAGTTTATAGAAAGTCCTTGTGATAGTGCTTATCGTGGACAGACACACAAGATCCCCTTTTTCATGACCCGGCTCCATTGCGTGAACCGA\n",
       "3 AGGACCGGATCAACTTGTCGCCTTAATCCAAGCCTACGTTTTTACACTTCTAGTAAGCCTCTACCTGCACGACAACACATAATGACCCACCAATCACATGCCTATCATATAGTAAAACCCAGCCCATGGCCCCTAACAGGGGCCCTCTCAGCCCTCCTAATGACCTCCGGCCTAGCCATGTGATTTCACTTCCACTCCACAACCCTCCTCATACTCATTGCGTGAACCGA\n",
       "4 AGGACCGGATCAACTAGTATGAGGAGGGTTGTGGAGTGGAAGTGAAATCACATGGCTAGGCCGGAGGTCATTAGGAGGGCTGAGAGGGCCCCTGTTAGGGGCCATGGGCTGGGTTTTACTATATGATAGGCATGTGATTGGTGGGTCATTATGTGTTGTCGTGCAGGTAGAGGCTTACTAGAAGTGTAAAAACGTAGGCTTGGATTAAGGCGACACATTGCGTGAACCGA\n",
       "5 AGGACCGGATCAACTCCCCTCCCCAGCTGTGCGCCCGCCCCTTGGTTCCACCCCCCCCAGCTGTGCATCCGTCCCTTGGCTCCGCCCCGCACTGTGCGTCCATTTTTGACTCCGCCCCCGGCTGTGCGCTCATCCCTCGGCTCCGCCCCCGGCTGTGCGTCCGTCCCTCGGTTCCGCCCCCGGCTGCGCGTCTGTCCCTCGACTCGGCCCCTCAGCATTGCGTGAACCGA\n",
       "6 AGGACCGGATCAACTCTGAGGGGCCGAGTCGAGGGACAGACGCGCAGCCGGGGGCGGAACCGAGGGACGGACGCACAGCCGGGGGCGGAGCCGAGGGATGAGCGCACAGCCGGGGGCGGAGTCAAAAATGGACGCACAGTGCGGGGCGGAGCCAAGGGACGGATGCACAGCTGGGGGGGGTGGAACCAAGGGGCGGGCGCACAGCTGGGGAGGGGCATTGCGTGAACCGA"
      ]
     },
     "metadata": {},
     "output_type": "display_data"
    }
   ],
   "source": [
    "fdiry = file.path(FD_RES, \"source\", \"MPRA\", \"MPRA_LentiMPRA_K562_Nadav\", \"vikram230621\")\n",
    "fname = \"LentiMPRA.K562.Library_Design.csv\"\n",
    "fpath = file.path(fdiry, fname)\n",
    "\n",
    "dat = read_csv(fpath, show_col_types = FALSE)\n",
    "\n",
    "dat_lmpra_library = dat\n",
    "print(dim(dat))\n",
    "head(dat)"
   ]
  },
  {
   "cell_type": "code",
   "execution_count": 3,
   "metadata": {},
   "outputs": [
    {
     "name": "stdout",
     "output_type": "stream",
     "text": [
      "[1] 226254      5\n"
     ]
    },
    {
     "data": {
      "text/html": [
       "<table class=\"dataframe\">\n",
       "<caption>A tibble: 6 × 5</caption>\n",
       "<thead>\n",
       "\t<tr><th scope=col>name</th><th scope=col>replicate 1 [log2(rna/dna)]</th><th scope=col>replicate 2 [log2(rna/dna)]</th><th scope=col>replicate 3 [log2(rna/dna)]</th><th scope=col>mean</th></tr>\n",
       "\t<tr><th scope=col>&lt;chr&gt;</th><th scope=col>&lt;dbl&gt;</th><th scope=col>&lt;dbl&gt;</th><th scope=col>&lt;dbl&gt;</th><th scope=col>&lt;dbl&gt;</th></tr>\n",
       "</thead>\n",
       "<tbody>\n",
       "\t<tr><td>peak29573_Reversed:</td><td>-0.190</td><td> 0.225</td><td> 0.201</td><td> 0.079</td></tr>\n",
       "\t<tr><td>peak71109_Reversed:</td><td> 0.650</td><td> 0.454</td><td> 0.758</td><td> 0.620</td></tr>\n",
       "\t<tr><td>ENSG00000123569    </td><td>-0.762</td><td>-0.578</td><td>-0.228</td><td>-0.523</td></tr>\n",
       "\t<tr><td>peak25742_Reversed:</td><td>-0.511</td><td>-0.644</td><td>-0.154</td><td>-0.436</td></tr>\n",
       "\t<tr><td>peak83398          </td><td>-0.154</td><td>-0.298</td><td> 0.103</td><td>-0.116</td></tr>\n",
       "\t<tr><td>peak1037_Reversed: </td><td>-0.056</td><td> 0.275</td><td> 0.008</td><td> 0.076</td></tr>\n",
       "</tbody>\n",
       "</table>\n"
      ],
      "text/latex": [
       "A tibble: 6 × 5\n",
       "\\begin{tabular}{lllll}\n",
       " name & replicate 1 {[}log2(rna/dna){]} & replicate 2 {[}log2(rna/dna){]} & replicate 3 {[}log2(rna/dna){]} & mean\\\\\n",
       " <chr> & <dbl> & <dbl> & <dbl> & <dbl>\\\\\n",
       "\\hline\n",
       "\t peak29573\\_Reversed: & -0.190 &  0.225 &  0.201 &  0.079\\\\\n",
       "\t peak71109\\_Reversed: &  0.650 &  0.454 &  0.758 &  0.620\\\\\n",
       "\t ENSG00000123569     & -0.762 & -0.578 & -0.228 & -0.523\\\\\n",
       "\t peak25742\\_Reversed: & -0.511 & -0.644 & -0.154 & -0.436\\\\\n",
       "\t peak83398           & -0.154 & -0.298 &  0.103 & -0.116\\\\\n",
       "\t peak1037\\_Reversed:  & -0.056 &  0.275 &  0.008 &  0.076\\\\\n",
       "\\end{tabular}\n"
      ],
      "text/markdown": [
       "\n",
       "A tibble: 6 × 5\n",
       "\n",
       "| name &lt;chr&gt; | replicate 1 [log2(rna/dna)] &lt;dbl&gt; | replicate 2 [log2(rna/dna)] &lt;dbl&gt; | replicate 3 [log2(rna/dna)] &lt;dbl&gt; | mean &lt;dbl&gt; |\n",
       "|---|---|---|---|---|\n",
       "| peak29573_Reversed: | -0.190 |  0.225 |  0.201 |  0.079 |\n",
       "| peak71109_Reversed: |  0.650 |  0.454 |  0.758 |  0.620 |\n",
       "| ENSG00000123569     | -0.762 | -0.578 | -0.228 | -0.523 |\n",
       "| peak25742_Reversed: | -0.511 | -0.644 | -0.154 | -0.436 |\n",
       "| peak83398           | -0.154 | -0.298 |  0.103 | -0.116 |\n",
       "| peak1037_Reversed:  | -0.056 |  0.275 |  0.008 |  0.076 |\n",
       "\n"
      ],
      "text/plain": [
       "  name                replicate 1 [log2(rna/dna)] replicate 2 [log2(rna/dna)]\n",
       "1 peak29573_Reversed: -0.190                       0.225                     \n",
       "2 peak71109_Reversed:  0.650                       0.454                     \n",
       "3 ENSG00000123569     -0.762                      -0.578                     \n",
       "4 peak25742_Reversed: -0.511                      -0.644                     \n",
       "5 peak83398           -0.154                      -0.298                     \n",
       "6 peak1037_Reversed:  -0.056                       0.275                     \n",
       "  replicate 3 [log2(rna/dna)] mean  \n",
       "1  0.201                       0.079\n",
       "2  0.758                       0.620\n",
       "3 -0.228                      -0.523\n",
       "4 -0.154                      -0.436\n",
       "5  0.103                      -0.116\n",
       "6  0.008                       0.076"
      ]
     },
     "metadata": {},
     "output_type": "display_data"
    }
   ],
   "source": [
    "fdiry = file.path(FD_RES, \"source\", \"MPRA\", \"MPRA_LentiMPRA_K562_Nadav\", \"vikram230621\")\n",
    "fname = \"LentiMPRA.K562.Log2FC.matrix.csv\"\n",
    "fpath = file.path(fdiry, fname)\n",
    "\n",
    "dat = read_csv(fpath, show_col_types = FALSE)\n",
    "\n",
    "dat_lmpra_score_matrix = dat\n",
    "print(dim(dat))\n",
    "head(dat)"
   ]
  },
  {
   "cell_type": "markdown",
   "metadata": {},
   "source": [
    "## Combine"
   ]
  },
  {
   "cell_type": "code",
   "execution_count": 4,
   "metadata": {},
   "outputs": [
    {
     "name": "stdout",
     "output_type": "stream",
     "text": [
      " [1] \"name\"                                                              \n",
      " [2] \"replicate 1 [log2(rna/dna)]\"                                       \n",
      " [3] \"replicate 2 [log2(rna/dna)]\"                                       \n",
      " [4] \"replicate 3 [log2(rna/dna)]\"                                       \n",
      " [5] \"mean\"                                                              \n",
      " [6] \"category\"                                                          \n",
      " [7] \"chr.hg38\"                                                          \n",
      " [8] \"start.hg38\"                                                        \n",
      " [9] \"stop.hg38\"                                                         \n",
      "[10] \"str.hg38\"                                                          \n",
      "[11] \"230nt sequence (15nt 5' adaptor - 200nt element - 15nt 3' adaptor)\"\n",
      "[1] 226254     11\n"
     ]
    },
    {
     "data": {
      "text/html": [
       "<table class=\"dataframe\">\n",
       "<caption>A tibble: 6 × 11</caption>\n",
       "<thead>\n",
       "\t<tr><th scope=col>name</th><th scope=col>replicate 1 [log2(rna/dna)]</th><th scope=col>replicate 2 [log2(rna/dna)]</th><th scope=col>replicate 3 [log2(rna/dna)]</th><th scope=col>mean</th><th scope=col>category</th><th scope=col>chr.hg38</th><th scope=col>start.hg38</th><th scope=col>stop.hg38</th><th scope=col>str.hg38</th><th scope=col>230nt sequence (15nt 5' adaptor - 200nt element - 15nt 3' adaptor)</th></tr>\n",
       "\t<tr><th scope=col>&lt;chr&gt;</th><th scope=col>&lt;dbl&gt;</th><th scope=col>&lt;dbl&gt;</th><th scope=col>&lt;dbl&gt;</th><th scope=col>&lt;dbl&gt;</th><th scope=col>&lt;chr&gt;</th><th scope=col>&lt;chr&gt;</th><th scope=col>&lt;dbl&gt;</th><th scope=col>&lt;dbl&gt;</th><th scope=col>&lt;chr&gt;</th><th scope=col>&lt;chr&gt;</th></tr>\n",
       "</thead>\n",
       "<tbody>\n",
       "\t<tr><td>peak29573_Reversed:</td><td>-0.190</td><td> 0.225</td><td> 0.201</td><td> 0.079</td><td>potential enhancer</td><td>chr16</td><td>  3163448</td><td>  3163648</td><td>-</td><td>AGGACCGGATCAACTGGGTTATAATGGTTGAGCTTTAGGCTCAGAGGCCTGACACCTCGACCTGTGACCCAGGGCCCAGCAGCAGCCTCGCGGCCTGGCCGTCATCGGCCATCGGCCCAACTTCCTCTTTGTCCACAAGGGGAGCAGTCTCAGGAGTCCCTCCTGCTCCCAGCCAGGGAGTGTCATCGCAGACCTGGTCATTCTCAAAGCCTGGACATTGCGTGAACCGA</td></tr>\n",
       "\t<tr><td>peak71109_Reversed:</td><td> 0.650</td><td> 0.454</td><td> 0.758</td><td> 0.620</td><td>potential enhancer</td><td>chr6 </td><td>125083195</td><td>125083395</td><td>-</td><td>AGGACCGGATCAACTTCAGTGAACTCTTATCTTCTGAAAAGTGGCCTTGCTTGTTGGTACAGATAGGACTTCAGCTATTAACACCAAGTCTCACAAGATGGCCTGGAAGGAGGTGCAGAGTTCAAAGACAGTCCAAGCAATTCTCAGAAGAGGCGTGCTCAGAATTCTTAGGATAACTGGTTCTTAAAATATCTTCTTCCAAGAACCACAAAGGTCATTGCGTGAACCGA</td></tr>\n",
       "\t<tr><td>ENSG00000123569    </td><td>-0.762</td><td>-0.578</td><td>-0.228</td><td>-0.523</td><td>promoter          </td><td>chrX </td><td>104013573</td><td>104013773</td><td>-</td><td>AGGACCGGATCAACTGATGCCACGCAACGGGACCATCCAGTCACCTTCAACGCAGGTAGGTTTGCTGAGAGGCTCCCTGCGTGACACTTCATCCAATCAGACGTGAAGCTGGCCCGAGACGTGGAGCCATGCTGCGTACCGAAGTGCCCCGGCTTCCCCGGTCCACAACCGCCATTGTCTGGTCGTGCCATCTAATGGCCACTGCCTCCGCCATGCATTGCGTGAACCGA</td></tr>\n",
       "\t<tr><td>peak25742_Reversed:</td><td>-0.511</td><td>-0.644</td><td>-0.154</td><td>-0.436</td><td>potential enhancer</td><td>chr14</td><td> 76947662</td><td> 76947862</td><td>-</td><td>AGGACCGGATCAACTGCCACACTCCCCCCTTCCCATTTCTCACCCGACATGGGATCTCCACCCCCTTTCCAGCTCCATTTAGCTCTGAGTGTTTTAGGTCATTCTATGCCTGGCATTCTGCCAAGGCTTTGACAAAGACAGGAGTTTCTGCTCATTCATCCTAATGCAAGTTCCTGCGTTTATGATAATAGGGAAAAAATGCATGAAAGGGCTTGCATTGCGTGAACCGA</td></tr>\n",
       "\t<tr><td>peak83398          </td><td>-0.154</td><td>-0.298</td><td> 0.103</td><td>-0.116</td><td>potential enhancer</td><td>chr9 </td><td> 98271532</td><td> 98271732</td><td>+</td><td>AGGACCGGATCAACTGTTCCTTCAACAAGAAATAATGTCCCTTTCAAAATGTATAATGGCCATTGGCCAGAAGAGGTGGTGTGGCTTCATGATCTGCCAATGGCAAGCTCAAGGAGCTGCGTTGCTCATTTCTGTTGAGTTCCTGGGGCTCTTGCTGCAGAGCTGTGCCTTTTGTTGACCTCCTGTGCTGTTCACACGTGCTACAAATCTCAGGGCATTGCGTGAACCGA</td></tr>\n",
       "\t<tr><td>peak1037_Reversed: </td><td>-0.056</td><td> 0.275</td><td> 0.008</td><td> 0.076</td><td>potential enhancer</td><td>chr1 </td><td> 17059727</td><td> 17059927</td><td>-</td><td>AGGACCGGATCAACTGGAAGAGAGTTTAGATAAGGCCTTTCTAAGGGCAGGTTGGCAAGGTCCAGTAGGGAGCCCTGGGTAGTTCTGTGAGGCAGCAGCACCCTCTGTGGGTAGACCAGAATGGCTGCAACCACCATGTTCCCACGAGCCTTAGGCGCACGCCTGCAGCCCAGCCCATCTACCTAACAGAAGAGGCTGACCTACTTGCTGGGTGACATTGCGTGAACCGA</td></tr>\n",
       "</tbody>\n",
       "</table>\n"
      ],
      "text/latex": [
       "A tibble: 6 × 11\n",
       "\\begin{tabular}{lllllllllll}\n",
       " name & replicate 1 {[}log2(rna/dna){]} & replicate 2 {[}log2(rna/dna){]} & replicate 3 {[}log2(rna/dna){]} & mean & category & chr.hg38 & start.hg38 & stop.hg38 & str.hg38 & 230nt sequence (15nt 5' adaptor - 200nt element - 15nt 3' adaptor)\\\\\n",
       " <chr> & <dbl> & <dbl> & <dbl> & <dbl> & <chr> & <chr> & <dbl> & <dbl> & <chr> & <chr>\\\\\n",
       "\\hline\n",
       "\t peak29573\\_Reversed: & -0.190 &  0.225 &  0.201 &  0.079 & potential enhancer & chr16 &   3163448 &   3163648 & - & AGGACCGGATCAACTGGGTTATAATGGTTGAGCTTTAGGCTCAGAGGCCTGACACCTCGACCTGTGACCCAGGGCCCAGCAGCAGCCTCGCGGCCTGGCCGTCATCGGCCATCGGCCCAACTTCCTCTTTGTCCACAAGGGGAGCAGTCTCAGGAGTCCCTCCTGCTCCCAGCCAGGGAGTGTCATCGCAGACCTGGTCATTCTCAAAGCCTGGACATTGCGTGAACCGA\\\\\n",
       "\t peak71109\\_Reversed: &  0.650 &  0.454 &  0.758 &  0.620 & potential enhancer & chr6  & 125083195 & 125083395 & - & AGGACCGGATCAACTTCAGTGAACTCTTATCTTCTGAAAAGTGGCCTTGCTTGTTGGTACAGATAGGACTTCAGCTATTAACACCAAGTCTCACAAGATGGCCTGGAAGGAGGTGCAGAGTTCAAAGACAGTCCAAGCAATTCTCAGAAGAGGCGTGCTCAGAATTCTTAGGATAACTGGTTCTTAAAATATCTTCTTCCAAGAACCACAAAGGTCATTGCGTGAACCGA\\\\\n",
       "\t ENSG00000123569     & -0.762 & -0.578 & -0.228 & -0.523 & promoter           & chrX  & 104013573 & 104013773 & - & AGGACCGGATCAACTGATGCCACGCAACGGGACCATCCAGTCACCTTCAACGCAGGTAGGTTTGCTGAGAGGCTCCCTGCGTGACACTTCATCCAATCAGACGTGAAGCTGGCCCGAGACGTGGAGCCATGCTGCGTACCGAAGTGCCCCGGCTTCCCCGGTCCACAACCGCCATTGTCTGGTCGTGCCATCTAATGGCCACTGCCTCCGCCATGCATTGCGTGAACCGA\\\\\n",
       "\t peak25742\\_Reversed: & -0.511 & -0.644 & -0.154 & -0.436 & potential enhancer & chr14 &  76947662 &  76947862 & - & AGGACCGGATCAACTGCCACACTCCCCCCTTCCCATTTCTCACCCGACATGGGATCTCCACCCCCTTTCCAGCTCCATTTAGCTCTGAGTGTTTTAGGTCATTCTATGCCTGGCATTCTGCCAAGGCTTTGACAAAGACAGGAGTTTCTGCTCATTCATCCTAATGCAAGTTCCTGCGTTTATGATAATAGGGAAAAAATGCATGAAAGGGCTTGCATTGCGTGAACCGA\\\\\n",
       "\t peak83398           & -0.154 & -0.298 &  0.103 & -0.116 & potential enhancer & chr9  &  98271532 &  98271732 & + & AGGACCGGATCAACTGTTCCTTCAACAAGAAATAATGTCCCTTTCAAAATGTATAATGGCCATTGGCCAGAAGAGGTGGTGTGGCTTCATGATCTGCCAATGGCAAGCTCAAGGAGCTGCGTTGCTCATTTCTGTTGAGTTCCTGGGGCTCTTGCTGCAGAGCTGTGCCTTTTGTTGACCTCCTGTGCTGTTCACACGTGCTACAAATCTCAGGGCATTGCGTGAACCGA\\\\\n",
       "\t peak1037\\_Reversed:  & -0.056 &  0.275 &  0.008 &  0.076 & potential enhancer & chr1  &  17059727 &  17059927 & - & AGGACCGGATCAACTGGAAGAGAGTTTAGATAAGGCCTTTCTAAGGGCAGGTTGGCAAGGTCCAGTAGGGAGCCCTGGGTAGTTCTGTGAGGCAGCAGCACCCTCTGTGGGTAGACCAGAATGGCTGCAACCACCATGTTCCCACGAGCCTTAGGCGCACGCCTGCAGCCCAGCCCATCTACCTAACAGAAGAGGCTGACCTACTTGCTGGGTGACATTGCGTGAACCGA\\\\\n",
       "\\end{tabular}\n"
      ],
      "text/markdown": [
       "\n",
       "A tibble: 6 × 11\n",
       "\n",
       "| name &lt;chr&gt; | replicate 1 [log2(rna/dna)] &lt;dbl&gt; | replicate 2 [log2(rna/dna)] &lt;dbl&gt; | replicate 3 [log2(rna/dna)] &lt;dbl&gt; | mean &lt;dbl&gt; | category &lt;chr&gt; | chr.hg38 &lt;chr&gt; | start.hg38 &lt;dbl&gt; | stop.hg38 &lt;dbl&gt; | str.hg38 &lt;chr&gt; | 230nt sequence (15nt 5' adaptor - 200nt element - 15nt 3' adaptor) &lt;chr&gt; |\n",
       "|---|---|---|---|---|---|---|---|---|---|---|\n",
       "| peak29573_Reversed: | -0.190 |  0.225 |  0.201 |  0.079 | potential enhancer | chr16 |   3163448 |   3163648 | - | AGGACCGGATCAACTGGGTTATAATGGTTGAGCTTTAGGCTCAGAGGCCTGACACCTCGACCTGTGACCCAGGGCCCAGCAGCAGCCTCGCGGCCTGGCCGTCATCGGCCATCGGCCCAACTTCCTCTTTGTCCACAAGGGGAGCAGTCTCAGGAGTCCCTCCTGCTCCCAGCCAGGGAGTGTCATCGCAGACCTGGTCATTCTCAAAGCCTGGACATTGCGTGAACCGA |\n",
       "| peak71109_Reversed: |  0.650 |  0.454 |  0.758 |  0.620 | potential enhancer | chr6  | 125083195 | 125083395 | - | AGGACCGGATCAACTTCAGTGAACTCTTATCTTCTGAAAAGTGGCCTTGCTTGTTGGTACAGATAGGACTTCAGCTATTAACACCAAGTCTCACAAGATGGCCTGGAAGGAGGTGCAGAGTTCAAAGACAGTCCAAGCAATTCTCAGAAGAGGCGTGCTCAGAATTCTTAGGATAACTGGTTCTTAAAATATCTTCTTCCAAGAACCACAAAGGTCATTGCGTGAACCGA |\n",
       "| ENSG00000123569     | -0.762 | -0.578 | -0.228 | -0.523 | promoter           | chrX  | 104013573 | 104013773 | - | AGGACCGGATCAACTGATGCCACGCAACGGGACCATCCAGTCACCTTCAACGCAGGTAGGTTTGCTGAGAGGCTCCCTGCGTGACACTTCATCCAATCAGACGTGAAGCTGGCCCGAGACGTGGAGCCATGCTGCGTACCGAAGTGCCCCGGCTTCCCCGGTCCACAACCGCCATTGTCTGGTCGTGCCATCTAATGGCCACTGCCTCCGCCATGCATTGCGTGAACCGA |\n",
       "| peak25742_Reversed: | -0.511 | -0.644 | -0.154 | -0.436 | potential enhancer | chr14 |  76947662 |  76947862 | - | AGGACCGGATCAACTGCCACACTCCCCCCTTCCCATTTCTCACCCGACATGGGATCTCCACCCCCTTTCCAGCTCCATTTAGCTCTGAGTGTTTTAGGTCATTCTATGCCTGGCATTCTGCCAAGGCTTTGACAAAGACAGGAGTTTCTGCTCATTCATCCTAATGCAAGTTCCTGCGTTTATGATAATAGGGAAAAAATGCATGAAAGGGCTTGCATTGCGTGAACCGA |\n",
       "| peak83398           | -0.154 | -0.298 |  0.103 | -0.116 | potential enhancer | chr9  |  98271532 |  98271732 | + | AGGACCGGATCAACTGTTCCTTCAACAAGAAATAATGTCCCTTTCAAAATGTATAATGGCCATTGGCCAGAAGAGGTGGTGTGGCTTCATGATCTGCCAATGGCAAGCTCAAGGAGCTGCGTTGCTCATTTCTGTTGAGTTCCTGGGGCTCTTGCTGCAGAGCTGTGCCTTTTGTTGACCTCCTGTGCTGTTCACACGTGCTACAAATCTCAGGGCATTGCGTGAACCGA |\n",
       "| peak1037_Reversed:  | -0.056 |  0.275 |  0.008 |  0.076 | potential enhancer | chr1  |  17059727 |  17059927 | - | AGGACCGGATCAACTGGAAGAGAGTTTAGATAAGGCCTTTCTAAGGGCAGGTTGGCAAGGTCCAGTAGGGAGCCCTGGGTAGTTCTGTGAGGCAGCAGCACCCTCTGTGGGTAGACCAGAATGGCTGCAACCACCATGTTCCCACGAGCCTTAGGCGCACGCCTGCAGCCCAGCCCATCTACCTAACAGAAGAGGCTGACCTACTTGCTGGGTGACATTGCGTGAACCGA |\n",
       "\n"
      ],
      "text/plain": [
       "  name                replicate 1 [log2(rna/dna)] replicate 2 [log2(rna/dna)]\n",
       "1 peak29573_Reversed: -0.190                       0.225                     \n",
       "2 peak71109_Reversed:  0.650                       0.454                     \n",
       "3 ENSG00000123569     -0.762                      -0.578                     \n",
       "4 peak25742_Reversed: -0.511                      -0.644                     \n",
       "5 peak83398           -0.154                      -0.298                     \n",
       "6 peak1037_Reversed:  -0.056                       0.275                     \n",
       "  replicate 3 [log2(rna/dna)] mean   category           chr.hg38 start.hg38\n",
       "1  0.201                       0.079 potential enhancer chr16      3163448 \n",
       "2  0.758                       0.620 potential enhancer chr6     125083195 \n",
       "3 -0.228                      -0.523 promoter           chrX     104013573 \n",
       "4 -0.154                      -0.436 potential enhancer chr14     76947662 \n",
       "5  0.103                      -0.116 potential enhancer chr9      98271532 \n",
       "6  0.008                       0.076 potential enhancer chr1      17059727 \n",
       "  stop.hg38 str.hg38\n",
       "1   3163648 -       \n",
       "2 125083395 -       \n",
       "3 104013773 -       \n",
       "4  76947862 -       \n",
       "5  98271732 +       \n",
       "6  17059927 -       \n",
       "  230nt sequence (15nt 5' adaptor - 200nt element - 15nt 3' adaptor)                                                                                                                                                                    \n",
       "1 AGGACCGGATCAACTGGGTTATAATGGTTGAGCTTTAGGCTCAGAGGCCTGACACCTCGACCTGTGACCCAGGGCCCAGCAGCAGCCTCGCGGCCTGGCCGTCATCGGCCATCGGCCCAACTTCCTCTTTGTCCACAAGGGGAGCAGTCTCAGGAGTCCCTCCTGCTCCCAGCCAGGGAGTGTCATCGCAGACCTGGTCATTCTCAAAGCCTGGACATTGCGTGAACCGA\n",
       "2 AGGACCGGATCAACTTCAGTGAACTCTTATCTTCTGAAAAGTGGCCTTGCTTGTTGGTACAGATAGGACTTCAGCTATTAACACCAAGTCTCACAAGATGGCCTGGAAGGAGGTGCAGAGTTCAAAGACAGTCCAAGCAATTCTCAGAAGAGGCGTGCTCAGAATTCTTAGGATAACTGGTTCTTAAAATATCTTCTTCCAAGAACCACAAAGGTCATTGCGTGAACCGA\n",
       "3 AGGACCGGATCAACTGATGCCACGCAACGGGACCATCCAGTCACCTTCAACGCAGGTAGGTTTGCTGAGAGGCTCCCTGCGTGACACTTCATCCAATCAGACGTGAAGCTGGCCCGAGACGTGGAGCCATGCTGCGTACCGAAGTGCCCCGGCTTCCCCGGTCCACAACCGCCATTGTCTGGTCGTGCCATCTAATGGCCACTGCCTCCGCCATGCATTGCGTGAACCGA\n",
       "4 AGGACCGGATCAACTGCCACACTCCCCCCTTCCCATTTCTCACCCGACATGGGATCTCCACCCCCTTTCCAGCTCCATTTAGCTCTGAGTGTTTTAGGTCATTCTATGCCTGGCATTCTGCCAAGGCTTTGACAAAGACAGGAGTTTCTGCTCATTCATCCTAATGCAAGTTCCTGCGTTTATGATAATAGGGAAAAAATGCATGAAAGGGCTTGCATTGCGTGAACCGA\n",
       "5 AGGACCGGATCAACTGTTCCTTCAACAAGAAATAATGTCCCTTTCAAAATGTATAATGGCCATTGGCCAGAAGAGGTGGTGTGGCTTCATGATCTGCCAATGGCAAGCTCAAGGAGCTGCGTTGCTCATTTCTGTTGAGTTCCTGGGGCTCTTGCTGCAGAGCTGTGCCTTTTGTTGACCTCCTGTGCTGTTCACACGTGCTACAAATCTCAGGGCATTGCGTGAACCGA\n",
       "6 AGGACCGGATCAACTGGAAGAGAGTTTAGATAAGGCCTTTCTAAGGGCAGGTTGGCAAGGTCCAGTAGGGAGCCCTGGGTAGTTCTGTGAGGCAGCAGCACCCTCTGTGGGTAGACCAGAATGGCTGCAACCACCATGTTCCCACGAGCCTTAGGCGCACGCCTGCAGCCCAGCCCATCTACCTAACAGAAGAGGCTGACCTACTTGCTGGGTGACATTGCGTGAACCGA"
      ]
     },
     "metadata": {},
     "output_type": "display_data"
    }
   ],
   "source": [
    "dat = dplyr::left_join(\n",
    "    dat_lmpra_score_matrix,\n",
    "    dat_lmpra_library,\n",
    "    by=\"name\")\n",
    "\n",
    "dat_lmpra_score_full = dat\n",
    "print(colnames(dat))\n",
    "print(dim(dat))\n",
    "head(dat)"
   ]
  },
  {
   "cell_type": "markdown",
   "metadata": {},
   "source": [
    "## Summarize"
   ]
  },
  {
   "cell_type": "code",
   "execution_count": 5,
   "metadata": {},
   "outputs": [
    {
     "name": "stdout",
     "output_type": "stream",
     "text": [
      "[1] 6 3\n"
     ]
    },
    {
     "data": {
      "text/html": [
       "<table class=\"dataframe\">\n",
       "<caption>A tibble: 6 × 3</caption>\n",
       "<thead>\n",
       "\t<tr><th scope=col>Category</th><th scope=col>Mean</th><th scope=col>SD</th></tr>\n",
       "\t<tr><th scope=col>&lt;chr&gt;</th><th scope=col>&lt;dbl&gt;</th><th scope=col>&lt;dbl&gt;</th></tr>\n",
       "</thead>\n",
       "<tbody>\n",
       "\t<tr><td>intergenic (7 loci)                </td><td>-0.54672426</td><td>0.3044024</td></tr>\n",
       "\t<tr><td>negative control (Ernst et al 2016)</td><td>-0.38569730</td><td>0.4338708</td></tr>\n",
       "\t<tr><td>negative control, shuffled         </td><td>-0.52494332</td><td>0.2754342</td></tr>\n",
       "\t<tr><td>positive control (Ernst et al 2016)</td><td> 0.55226829</td><td>0.7328469</td></tr>\n",
       "\t<tr><td>potential enhancer                 </td><td>-0.12200757</td><td>0.4872096</td></tr>\n",
       "\t<tr><td>promoter                           </td><td> 0.04519611</td><td>0.6971866</td></tr>\n",
       "</tbody>\n",
       "</table>\n"
      ],
      "text/latex": [
       "A tibble: 6 × 3\n",
       "\\begin{tabular}{lll}\n",
       " Category & Mean & SD\\\\\n",
       " <chr> & <dbl> & <dbl>\\\\\n",
       "\\hline\n",
       "\t intergenic (7 loci)                 & -0.54672426 & 0.3044024\\\\\n",
       "\t negative control (Ernst et al 2016) & -0.38569730 & 0.4338708\\\\\n",
       "\t negative control, shuffled          & -0.52494332 & 0.2754342\\\\\n",
       "\t positive control (Ernst et al 2016) &  0.55226829 & 0.7328469\\\\\n",
       "\t potential enhancer                  & -0.12200757 & 0.4872096\\\\\n",
       "\t promoter                            &  0.04519611 & 0.6971866\\\\\n",
       "\\end{tabular}\n"
      ],
      "text/markdown": [
       "\n",
       "A tibble: 6 × 3\n",
       "\n",
       "| Category &lt;chr&gt; | Mean &lt;dbl&gt; | SD &lt;dbl&gt; |\n",
       "|---|---|---|\n",
       "| intergenic (7 loci)                 | -0.54672426 | 0.3044024 |\n",
       "| negative control (Ernst et al 2016) | -0.38569730 | 0.4338708 |\n",
       "| negative control, shuffled          | -0.52494332 | 0.2754342 |\n",
       "| positive control (Ernst et al 2016) |  0.55226829 | 0.7328469 |\n",
       "| potential enhancer                  | -0.12200757 | 0.4872096 |\n",
       "| promoter                            |  0.04519611 | 0.6971866 |\n",
       "\n"
      ],
      "text/plain": [
       "  Category                            Mean        SD       \n",
       "1 intergenic (7 loci)                 -0.54672426 0.3044024\n",
       "2 negative control (Ernst et al 2016) -0.38569730 0.4338708\n",
       "3 negative control, shuffled          -0.52494332 0.2754342\n",
       "4 positive control (Ernst et al 2016)  0.55226829 0.7328469\n",
       "5 potential enhancer                  -0.12200757 0.4872096\n",
       "6 promoter                             0.04519611 0.6971866"
      ]
     },
     "metadata": {},
     "output_type": "display_data"
    }
   ],
   "source": [
    "dat = dat_lmpra_score_full\n",
    "dat = dat %>% \n",
    "    dplyr::group_by(category) %>% \n",
    "    dplyr::summarise(Mean = mean(mean), SD = sd(mean)) %>%\n",
    "    dplyr::rename(\"Category\" = \"category\")\n",
    "\n",
    "dat_lmpra_score_summary = dat\n",
    "print(dim(dat))\n",
    "dat"
   ]
  },
  {
   "cell_type": "markdown",
   "metadata": {},
   "source": [
    "## Arrange"
   ]
  },
  {
   "cell_type": "code",
   "execution_count": 6,
   "metadata": {},
   "outputs": [
    {
     "name": "stdout",
     "output_type": "stream",
     "text": [
      "[1] -0.5249433\n",
      "[1] 0.2754342\n"
     ]
    }
   ],
   "source": [
    "dat = dat_lmpra_score_summary\n",
    "idn = \"negative control, shuffled\"\n",
    "lst_mu = split(dat$Mean, dat$Category)\n",
    "lst_sd = split(dat$SD,   dat$Category)\n",
    "\n",
    "val_mu = lst_mu[[idn]]\n",
    "val_sd = lst_sd[[idn]]\n",
    "\n",
    "print(val_mu)\n",
    "print(val_sd)"
   ]
  },
  {
   "cell_type": "code",
   "execution_count": 7,
   "metadata": {},
   "outputs": [
    {
     "name": "stdout",
     "output_type": "stream",
     "text": [
      "[1] 224253     15\n"
     ]
    },
    {
     "data": {
      "text/html": [
       "<table class=\"dataframe\">\n",
       "<caption>A tibble: 6 × 15</caption>\n",
       "<thead>\n",
       "\t<tr><th scope=col>Chrom</th><th scope=col>Start</th><th scope=col>End</th><th scope=col>Name</th><th scope=col>Score</th><th scope=col>Strand</th><th scope=col>Category</th><th scope=col>Log2FC_Rep1</th><th scope=col>Log2FC_Rep2</th><th scope=col>Log2FC_Rep3</th><th scope=col>Log2FC_Mean</th><th scope=col>ZScore_Rep1</th><th scope=col>ZScore_Rep2</th><th scope=col>ZScore_Rep3</th><th scope=col>ZScore_Mean</th></tr>\n",
       "\t<tr><th scope=col>&lt;chr&gt;</th><th scope=col>&lt;dbl&gt;</th><th scope=col>&lt;dbl&gt;</th><th scope=col>&lt;chr&gt;</th><th scope=col>&lt;dbl&gt;</th><th scope=col>&lt;chr&gt;</th><th scope=col>&lt;chr&gt;</th><th scope=col>&lt;dbl&gt;</th><th scope=col>&lt;dbl&gt;</th><th scope=col>&lt;dbl&gt;</th><th scope=col>&lt;dbl&gt;</th><th scope=col>&lt;dbl&gt;</th><th scope=col>&lt;dbl&gt;</th><th scope=col>&lt;dbl&gt;</th><th scope=col>&lt;dbl&gt;</th></tr>\n",
       "</thead>\n",
       "<tbody>\n",
       "\t<tr><td>chr16</td><td>  3163448</td><td>  3163648</td><td>peak29573_Reversed:</td><td>0</td><td>-</td><td>potential enhancer</td><td>-0.190</td><td> 0.225</td><td> 0.201</td><td> 0.079</td><td> 1.21605562</td><td> 2.7227675</td><td>2.635632</td><td>2.192695368</td></tr>\n",
       "\t<tr><td>chr6 </td><td>125083195</td><td>125083395</td><td>peak71109_Reversed:</td><td>0</td><td>-</td><td>potential enhancer</td><td> 0.650</td><td> 0.454</td><td> 0.758</td><td> 0.620</td><td> 4.26578570</td><td> 3.5541820</td><td>4.657894</td><td>4.156866764</td></tr>\n",
       "\t<tr><td>chrX </td><td>104013573</td><td>104013773</td><td>ENSG00000123569    </td><td>0</td><td>-</td><td>promoter          </td><td>-0.762</td><td>-0.578</td><td>-0.228</td><td>-0.523</td><td>-0.86066534</td><td>-0.1926292</td><td>1.078092</td><td>0.007055477</td></tr>\n",
       "\t<tr><td>chr14</td><td> 76947662</td><td> 76947862</td><td>peak25742_Reversed:</td><td>0</td><td>-</td><td>potential enhancer</td><td>-0.511</td><td>-0.644</td><td>-0.154</td><td>-0.436</td><td> 0.05062305</td><td>-0.4322509</td><td>1.346758</td><td>0.322920378</td></tr>\n",
       "\t<tr><td>chr9 </td><td> 98271532</td><td> 98271732</td><td>peak83398          </td><td>0</td><td>+</td><td>potential enhancer</td><td>-0.154</td><td>-0.298</td><td> 0.103</td><td>-0.116</td><td> 1.34675833</td><td> 0.8239475</td><td>2.279831</td><td>1.484722314</td></tr>\n",
       "\t<tr><td>chr1 </td><td> 17059727</td><td> 17059927</td><td>peak1037_Reversed: </td><td>0</td><td>-</td><td>potential enhancer</td><td>-0.056</td><td> 0.275</td><td> 0.008</td><td> 0.076</td><td> 1.70256018</td><td> 2.9042991</td><td>1.934921</td><td>2.181803475</td></tr>\n",
       "</tbody>\n",
       "</table>\n"
      ],
      "text/latex": [
       "A tibble: 6 × 15\n",
       "\\begin{tabular}{lllllllllllllll}\n",
       " Chrom & Start & End & Name & Score & Strand & Category & Log2FC\\_Rep1 & Log2FC\\_Rep2 & Log2FC\\_Rep3 & Log2FC\\_Mean & ZScore\\_Rep1 & ZScore\\_Rep2 & ZScore\\_Rep3 & ZScore\\_Mean\\\\\n",
       " <chr> & <dbl> & <dbl> & <chr> & <dbl> & <chr> & <chr> & <dbl> & <dbl> & <dbl> & <dbl> & <dbl> & <dbl> & <dbl> & <dbl>\\\\\n",
       "\\hline\n",
       "\t chr16 &   3163448 &   3163648 & peak29573\\_Reversed: & 0 & - & potential enhancer & -0.190 &  0.225 &  0.201 &  0.079 &  1.21605562 &  2.7227675 & 2.635632 & 2.192695368\\\\\n",
       "\t chr6  & 125083195 & 125083395 & peak71109\\_Reversed: & 0 & - & potential enhancer &  0.650 &  0.454 &  0.758 &  0.620 &  4.26578570 &  3.5541820 & 4.657894 & 4.156866764\\\\\n",
       "\t chrX  & 104013573 & 104013773 & ENSG00000123569     & 0 & - & promoter           & -0.762 & -0.578 & -0.228 & -0.523 & -0.86066534 & -0.1926292 & 1.078092 & 0.007055477\\\\\n",
       "\t chr14 &  76947662 &  76947862 & peak25742\\_Reversed: & 0 & - & potential enhancer & -0.511 & -0.644 & -0.154 & -0.436 &  0.05062305 & -0.4322509 & 1.346758 & 0.322920378\\\\\n",
       "\t chr9  &  98271532 &  98271732 & peak83398           & 0 & + & potential enhancer & -0.154 & -0.298 &  0.103 & -0.116 &  1.34675833 &  0.8239475 & 2.279831 & 1.484722314\\\\\n",
       "\t chr1  &  17059727 &  17059927 & peak1037\\_Reversed:  & 0 & - & potential enhancer & -0.056 &  0.275 &  0.008 &  0.076 &  1.70256018 &  2.9042991 & 1.934921 & 2.181803475\\\\\n",
       "\\end{tabular}\n"
      ],
      "text/markdown": [
       "\n",
       "A tibble: 6 × 15\n",
       "\n",
       "| Chrom &lt;chr&gt; | Start &lt;dbl&gt; | End &lt;dbl&gt; | Name &lt;chr&gt; | Score &lt;dbl&gt; | Strand &lt;chr&gt; | Category &lt;chr&gt; | Log2FC_Rep1 &lt;dbl&gt; | Log2FC_Rep2 &lt;dbl&gt; | Log2FC_Rep3 &lt;dbl&gt; | Log2FC_Mean &lt;dbl&gt; | ZScore_Rep1 &lt;dbl&gt; | ZScore_Rep2 &lt;dbl&gt; | ZScore_Rep3 &lt;dbl&gt; | ZScore_Mean &lt;dbl&gt; |\n",
       "|---|---|---|---|---|---|---|---|---|---|---|---|---|---|---|\n",
       "| chr16 |   3163448 |   3163648 | peak29573_Reversed: | 0 | - | potential enhancer | -0.190 |  0.225 |  0.201 |  0.079 |  1.21605562 |  2.7227675 | 2.635632 | 2.192695368 |\n",
       "| chr6  | 125083195 | 125083395 | peak71109_Reversed: | 0 | - | potential enhancer |  0.650 |  0.454 |  0.758 |  0.620 |  4.26578570 |  3.5541820 | 4.657894 | 4.156866764 |\n",
       "| chrX  | 104013573 | 104013773 | ENSG00000123569     | 0 | - | promoter           | -0.762 | -0.578 | -0.228 | -0.523 | -0.86066534 | -0.1926292 | 1.078092 | 0.007055477 |\n",
       "| chr14 |  76947662 |  76947862 | peak25742_Reversed: | 0 | - | potential enhancer | -0.511 | -0.644 | -0.154 | -0.436 |  0.05062305 | -0.4322509 | 1.346758 | 0.322920378 |\n",
       "| chr9  |  98271532 |  98271732 | peak83398           | 0 | + | potential enhancer | -0.154 | -0.298 |  0.103 | -0.116 |  1.34675833 |  0.8239475 | 2.279831 | 1.484722314 |\n",
       "| chr1  |  17059727 |  17059927 | peak1037_Reversed:  | 0 | - | potential enhancer | -0.056 |  0.275 |  0.008 |  0.076 |  1.70256018 |  2.9042991 | 1.934921 | 2.181803475 |\n",
       "\n"
      ],
      "text/plain": [
       "  Chrom Start     End       Name                Score Strand Category          \n",
       "1 chr16   3163448   3163648 peak29573_Reversed: 0     -      potential enhancer\n",
       "2 chr6  125083195 125083395 peak71109_Reversed: 0     -      potential enhancer\n",
       "3 chrX  104013573 104013773 ENSG00000123569     0     -      promoter          \n",
       "4 chr14  76947662  76947862 peak25742_Reversed: 0     -      potential enhancer\n",
       "5 chr9   98271532  98271732 peak83398           0     +      potential enhancer\n",
       "6 chr1   17059727  17059927 peak1037_Reversed:  0     -      potential enhancer\n",
       "  Log2FC_Rep1 Log2FC_Rep2 Log2FC_Rep3 Log2FC_Mean ZScore_Rep1 ZScore_Rep2\n",
       "1 -0.190       0.225       0.201       0.079       1.21605562  2.7227675 \n",
       "2  0.650       0.454       0.758       0.620       4.26578570  3.5541820 \n",
       "3 -0.762      -0.578      -0.228      -0.523      -0.86066534 -0.1926292 \n",
       "4 -0.511      -0.644      -0.154      -0.436       0.05062305 -0.4322509 \n",
       "5 -0.154      -0.298       0.103      -0.116       1.34675833  0.8239475 \n",
       "6 -0.056       0.275       0.008       0.076       1.70256018  2.9042991 \n",
       "  ZScore_Rep3 ZScore_Mean\n",
       "1 2.635632    2.192695368\n",
       "2 4.657894    4.156866764\n",
       "3 1.078092    0.007055477\n",
       "4 1.346758    0.322920378\n",
       "5 2.279831    1.484722314\n",
       "6 1.934921    2.181803475"
      ]
     },
     "metadata": {},
     "output_type": "display_data"
    }
   ],
   "source": [
    "dat = dat_lmpra_score_full\n",
    "\n",
    "dat = dat %>% \n",
    "    dplyr::mutate(Score = 0) %>%\n",
    "    dplyr::select(\n",
    "        chr.hg38, \n",
    "        start.hg38, \n",
    "        stop.hg38, \n",
    "        name, \n",
    "        Score, \n",
    "        str.hg38, \n",
    "        category,\n",
    "        `replicate 1 [log2(rna/dna)]`,\n",
    "        `replicate 2 [log2(rna/dna)]`,\n",
    "        `replicate 3 [log2(rna/dna)]`,\n",
    "        mean\n",
    "    ) %>%\n",
    "    na.omit\n",
    "colnames(dat) = c(\n",
    "    \"Chrom\", \"Start\", \"End\", \"Name\", \"Score\", \"Strand\", \n",
    "    \"Category\",\n",
    "    \"Log2FC_Rep1\",\n",
    "    \"Log2FC_Rep2\",\n",
    "    \"Log2FC_Rep3\",\n",
    "    \"Log2FC_Mean\"\n",
    ")\n",
    "\n",
    "dat = dat %>%\n",
    "    dplyr::mutate(\n",
    "        ZScore_Rep1 = (Log2FC_Rep1 - val_mu) / val_sd,\n",
    "        ZScore_Rep2 = (Log2FC_Rep2 - val_mu) / val_sd,\n",
    "        ZScore_Rep3 = (Log2FC_Rep3 - val_mu) / val_sd,\n",
    "        ZScore_Mean = (Log2FC_Mean - val_mu) / val_sd\n",
    "    )\n",
    "\n",
    "dat_lmpra_score_arrange = dat\n",
    "print(dim(dat))\n",
    "head(dat)"
   ]
  },
  {
   "cell_type": "code",
   "execution_count": 8,
   "metadata": {},
   "outputs": [
    {
     "data": {
      "text/html": [
       "<style>\n",
       ".list-inline {list-style: none; margin:0; padding: 0}\n",
       ".list-inline>li {display: inline-block}\n",
       ".list-inline>li:not(:last-child)::after {content: \"\\00b7\"; padding: 0 .5ex}\n",
       "</style>\n",
       "<ol class=list-inline><li>'Chrom'</li><li>'Start'</li><li>'End'</li><li>'Name'</li><li>'Score'</li><li>'Strand'</li><li>'Category'</li><li>'Log2FC_Rep1'</li><li>'Log2FC_Rep2'</li><li>'Log2FC_Rep3'</li><li>'Log2FC_Mean'</li><li>'ZScore_Rep1'</li><li>'ZScore_Rep2'</li><li>'ZScore_Rep3'</li><li>'ZScore_Mean'</li></ol>\n"
      ],
      "text/latex": [
       "\\begin{enumerate*}\n",
       "\\item 'Chrom'\n",
       "\\item 'Start'\n",
       "\\item 'End'\n",
       "\\item 'Name'\n",
       "\\item 'Score'\n",
       "\\item 'Strand'\n",
       "\\item 'Category'\n",
       "\\item 'Log2FC\\_Rep1'\n",
       "\\item 'Log2FC\\_Rep2'\n",
       "\\item 'Log2FC\\_Rep3'\n",
       "\\item 'Log2FC\\_Mean'\n",
       "\\item 'ZScore\\_Rep1'\n",
       "\\item 'ZScore\\_Rep2'\n",
       "\\item 'ZScore\\_Rep3'\n",
       "\\item 'ZScore\\_Mean'\n",
       "\\end{enumerate*}\n"
      ],
      "text/markdown": [
       "1. 'Chrom'\n",
       "2. 'Start'\n",
       "3. 'End'\n",
       "4. 'Name'\n",
       "5. 'Score'\n",
       "6. 'Strand'\n",
       "7. 'Category'\n",
       "8. 'Log2FC_Rep1'\n",
       "9. 'Log2FC_Rep2'\n",
       "10. 'Log2FC_Rep3'\n",
       "11. 'Log2FC_Mean'\n",
       "12. 'ZScore_Rep1'\n",
       "13. 'ZScore_Rep2'\n",
       "14. 'ZScore_Rep3'\n",
       "15. 'ZScore_Mean'\n",
       "\n",
       "\n"
      ],
      "text/plain": [
       " [1] \"Chrom\"       \"Start\"       \"End\"         \"Name\"        \"Score\"      \n",
       " [6] \"Strand\"      \"Category\"    \"Log2FC_Rep1\" \"Log2FC_Rep2\" \"Log2FC_Rep3\"\n",
       "[11] \"Log2FC_Mean\" \"ZScore_Rep1\" \"ZScore_Rep2\" \"ZScore_Rep3\" \"ZScore_Mean\""
      ]
     },
     "metadata": {},
     "output_type": "display_data"
    }
   ],
   "source": [
    "dat = dat_lmpra_score_arrange\n",
    "colnames(dat)"
   ]
  },
  {
   "cell_type": "markdown",
   "metadata": {},
   "source": [
    "## Data dictionary"
   ]
  },
  {
   "cell_type": "code",
   "execution_count": 15,
   "metadata": {},
   "outputs": [
    {
     "data": {
      "text/html": [
       "<table class=\"dataframe\">\n",
       "<caption>A tibble: 15 × 3</caption>\n",
       "<thead>\n",
       "\t<tr><th scope=col>Idx</th><th scope=col>Name</th><th scope=col>Description</th></tr>\n",
       "\t<tr><th scope=col>&lt;int&gt;</th><th scope=col>&lt;chr&gt;</th><th scope=col>&lt;chr&gt;</th></tr>\n",
       "</thead>\n",
       "<tbody>\n",
       "\t<tr><td> 1</td><td>Chrom      </td><td>Chromosome                                                              </td></tr>\n",
       "\t<tr><td> 2</td><td>Start      </td><td>Start position                                                          </td></tr>\n",
       "\t<tr><td> 3</td><td>End        </td><td>End position                                                            </td></tr>\n",
       "\t<tr><td> 4</td><td>Name       </td><td>Site name                                                               </td></tr>\n",
       "\t<tr><td> 5</td><td>Score      </td><td>Score (NULL)                                                            </td></tr>\n",
       "\t<tr><td> 6</td><td>Strand     </td><td>Strand                                                                  </td></tr>\n",
       "\t<tr><td> 7</td><td>Category   </td><td>Site property (potential enhancer/promoter or postive/negative controls)</td></tr>\n",
       "\t<tr><td> 8</td><td>Log2FC_Rep1</td><td>Log2FoldChange of replicate 1                                           </td></tr>\n",
       "\t<tr><td> 9</td><td>Log2FC_Rep2</td><td>Log2FoldChange of replicate 2                                           </td></tr>\n",
       "\t<tr><td>10</td><td>Log2FC_Rep3</td><td>Log2FoldChange of replicate 3                                           </td></tr>\n",
       "\t<tr><td>11</td><td>Log2FC_Mean</td><td>Log2FoldChange mean                                                     </td></tr>\n",
       "\t<tr><td>12</td><td>ZScore_Rep1</td><td>Z score of Log2FC (Rep1) wpt negative shuffled controls                 </td></tr>\n",
       "\t<tr><td>13</td><td>ZScore_Rep2</td><td>Z score of Log2FC (Rep2) wpt negative shuffled controls                 </td></tr>\n",
       "\t<tr><td>14</td><td>ZScore_Rep3</td><td>Z score of Log2FC (Rep3) wpt negative shuffled controls                 </td></tr>\n",
       "\t<tr><td>15</td><td>ZScore_Mean</td><td>Z score of Log2FC (Mean) wpt negative shuffled controls                 </td></tr>\n",
       "</tbody>\n",
       "</table>\n"
      ],
      "text/latex": [
       "A tibble: 15 × 3\n",
       "\\begin{tabular}{lll}\n",
       " Idx & Name & Description\\\\\n",
       " <int> & <chr> & <chr>\\\\\n",
       "\\hline\n",
       "\t  1 & Chrom       & Chromosome                                                              \\\\\n",
       "\t  2 & Start       & Start position                                                          \\\\\n",
       "\t  3 & End         & End position                                                            \\\\\n",
       "\t  4 & Name        & Site name                                                               \\\\\n",
       "\t  5 & Score       & Score (NULL)                                                            \\\\\n",
       "\t  6 & Strand      & Strand                                                                  \\\\\n",
       "\t  7 & Category    & Site property (potential enhancer/promoter or postive/negative controls)\\\\\n",
       "\t  8 & Log2FC\\_Rep1 & Log2FoldChange of replicate 1                                           \\\\\n",
       "\t  9 & Log2FC\\_Rep2 & Log2FoldChange of replicate 2                                           \\\\\n",
       "\t 10 & Log2FC\\_Rep3 & Log2FoldChange of replicate 3                                           \\\\\n",
       "\t 11 & Log2FC\\_Mean & Log2FoldChange mean                                                     \\\\\n",
       "\t 12 & ZScore\\_Rep1 & Z score of Log2FC (Rep1) wpt negative shuffled controls                 \\\\\n",
       "\t 13 & ZScore\\_Rep2 & Z score of Log2FC (Rep2) wpt negative shuffled controls                 \\\\\n",
       "\t 14 & ZScore\\_Rep3 & Z score of Log2FC (Rep3) wpt negative shuffled controls                 \\\\\n",
       "\t 15 & ZScore\\_Mean & Z score of Log2FC (Mean) wpt negative shuffled controls                 \\\\\n",
       "\\end{tabular}\n"
      ],
      "text/markdown": [
       "\n",
       "A tibble: 15 × 3\n",
       "\n",
       "| Idx &lt;int&gt; | Name &lt;chr&gt; | Description &lt;chr&gt; |\n",
       "|---|---|---|\n",
       "|  1 | Chrom       | Chromosome                                                               |\n",
       "|  2 | Start       | Start position                                                           |\n",
       "|  3 | End         | End position                                                             |\n",
       "|  4 | Name        | Site name                                                                |\n",
       "|  5 | Score       | Score (NULL)                                                             |\n",
       "|  6 | Strand      | Strand                                                                   |\n",
       "|  7 | Category    | Site property (potential enhancer/promoter or postive/negative controls) |\n",
       "|  8 | Log2FC_Rep1 | Log2FoldChange of replicate 1                                            |\n",
       "|  9 | Log2FC_Rep2 | Log2FoldChange of replicate 2                                            |\n",
       "| 10 | Log2FC_Rep3 | Log2FoldChange of replicate 3                                            |\n",
       "| 11 | Log2FC_Mean | Log2FoldChange mean                                                      |\n",
       "| 12 | ZScore_Rep1 | Z score of Log2FC (Rep1) wpt negative shuffled controls                  |\n",
       "| 13 | ZScore_Rep2 | Z score of Log2FC (Rep2) wpt negative shuffled controls                  |\n",
       "| 14 | ZScore_Rep3 | Z score of Log2FC (Rep3) wpt negative shuffled controls                  |\n",
       "| 15 | ZScore_Mean | Z score of Log2FC (Mean) wpt negative shuffled controls                  |\n",
       "\n"
      ],
      "text/plain": [
       "   Idx Name       \n",
       "1   1  Chrom      \n",
       "2   2  Start      \n",
       "3   3  End        \n",
       "4   4  Name       \n",
       "5   5  Score      \n",
       "6   6  Strand     \n",
       "7   7  Category   \n",
       "8   8  Log2FC_Rep1\n",
       "9   9  Log2FC_Rep2\n",
       "10 10  Log2FC_Rep3\n",
       "11 11  Log2FC_Mean\n",
       "12 12  ZScore_Rep1\n",
       "13 13  ZScore_Rep2\n",
       "14 14  ZScore_Rep3\n",
       "15 15  ZScore_Mean\n",
       "   Description                                                             \n",
       "1  Chromosome                                                              \n",
       "2  Start position                                                          \n",
       "3  End position                                                            \n",
       "4  Site name                                                               \n",
       "5  Score (NULL)                                                            \n",
       "6  Strand                                                                  \n",
       "7  Site property (potential enhancer/promoter or postive/negative controls)\n",
       "8  Log2FoldChange of replicate 1                                           \n",
       "9  Log2FoldChange of replicate 2                                           \n",
       "10 Log2FoldChange of replicate 3                                           \n",
       "11 Log2FoldChange mean                                                     \n",
       "12 Z score of Log2FC (Rep1) wpt negative shuffled controls                 \n",
       "13 Z score of Log2FC (Rep2) wpt negative shuffled controls                 \n",
       "14 Z score of Log2FC (Rep3) wpt negative shuffled controls                 \n",
       "15 Z score of Log2FC (Mean) wpt negative shuffled controls                 "
      ]
     },
     "metadata": {},
     "output_type": "display_data"
    }
   ],
   "source": [
    "dat_cnames = tribble(\n",
    "    ~Name,         ~Description,\n",
    "    'Chrom',       \"Chromosome\",\n",
    "    'Start',       \"Start position\",\n",
    "    'End',         \"End position\",\n",
    "    'Name',        \"Site name\",\n",
    "    'Score',       \"Score (NULL)\",\n",
    "    'Strand',      \"Strand\",\n",
    "    'Category',    \"Site property (potential enhancer/promoter or postive/negative controls)\",\n",
    "    'Log2FC_Rep1', \"Log2FoldChange of replicate 1\",\n",
    "    'Log2FC_Rep2', \"Log2FoldChange of replicate 2\",\n",
    "    'Log2FC_Rep3', \"Log2FoldChange of replicate 3\",\n",
    "    'Log2FC_Mean', \"Log2FoldChange mean\",\n",
    "    'ZScore_Rep1', \"Z score of Log2FC (Rep1) wpt negative shuffled controls \",\n",
    "    'ZScore_Rep2', \"Z score of Log2FC (Rep2) wpt negative shuffled controls\",\n",
    "    'ZScore_Rep3', \"Z score of Log2FC (Rep3) wpt negative shuffled controls\",\n",
    "    'ZScore_Mean', \"Z score of Log2FC (Mean) wpt negative shuffled controls\"\n",
    ")\n",
    "dat = dat_cnames\n",
    "dat %>% \n",
    "    dplyr::mutate(Idx = 1:nrow(dat)) %>% \n",
    "    dplyr::select(Idx, Name, Description)"
   ]
  },
  {
   "cell_type": "markdown",
   "metadata": {},
   "source": [
    "## Save results"
   ]
  },
  {
   "cell_type": "code",
   "execution_count": 10,
   "metadata": {},
   "outputs": [],
   "source": [
    "fdiry = file.path(FD_RES, \"results\", \"LentiMPRA_K562_Nadav\", \"coverage\")\n",
    "fname = \"description.vikram230621.tsv\"\n",
    "fpath = file.path(fdiry, fname)\n",
    "\n",
    "dat = dat_cnames\n",
    "write_tsv(dat, fpath)"
   ]
  },
  {
   "cell_type": "code",
   "execution_count": 13,
   "metadata": {},
   "outputs": [],
   "source": [
    "fdiry = file.path(FD_RES, \"results\", \"LentiMPRA_K562_Nadav\", \"coverage\")\n",
    "fname = \"K562.vikram230621.LMPRA.stranded.bed.gz\"\n",
    "fpath = file.path(fdiry, fname)\n",
    "\n",
    "dat = dat_lmpra_score_arrange\n",
    "dat = dat %>% dplyr::arrange(Chrom, Start, End)\n",
    "write_tsv(dat, fpath, col_names=FALSE)"
   ]
  },
  {
   "cell_type": "code",
   "execution_count": 14,
   "metadata": {},
   "outputs": [],
   "source": [
    "fdiry = file.path(FD_RES, \"results\", \"LentiMPRA_K562_Nadav\", \"coverage\")\n",
    "fname = \"K562.vikram230621.LMPRA.region.bed.gz\"\n",
    "fpath = file.path(fdiry, fname)\n",
    "\n",
    "dat = dat_lmpra_score_arrange\n",
    "dat = dat %>% \n",
    "    dplyr::select(Chrom, Start, End) %>% \n",
    "    dplyr::distinct() %>%\n",
    "    dplyr::arrange(Chrom, Start, End)\n",
    "write_tsv(dat, fpath, col_names=FALSE)"
   ]
  },
  {
   "cell_type": "code",
   "execution_count": null,
   "metadata": {},
   "outputs": [],
   "source": []
  }
 ],
 "metadata": {
  "kernelspec": {
   "display_name": "R",
   "language": "R",
   "name": "ir"
  },
  "language_info": {
   "codemirror_mode": "r",
   "file_extension": ".r",
   "mimetype": "text/x-r-source",
   "name": "R",
   "pygments_lexer": "r",
   "version": "4.3.0"
  }
 },
 "nbformat": 4,
 "nbformat_minor": 4
}
