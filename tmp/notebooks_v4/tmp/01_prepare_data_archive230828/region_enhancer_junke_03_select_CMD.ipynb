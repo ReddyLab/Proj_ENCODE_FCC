{
 "cells": [
  {
   "cell_type": "markdown",
   "metadata": {},
   "source": [
    "**Set environment**"
   ]
  },
  {
   "cell_type": "code",
   "execution_count": 1,
   "metadata": {},
   "outputs": [
    {
     "name": "stdout",
     "output_type": "stream",
     "text": [
      "You are on Duke Server: HARDAC\n",
      "BASE DIRECTORY (FD_BASE): /data/reddylab/Kuei\n",
      "WORK DIRECTORY (FD_WORK): /data/reddylab/Kuei/out\n",
      "CODE DIRECTORY (FD_CODE): /data/reddylab/Kuei/code\n",
      "SING DIRECTORY (FD_SING): /data/reddylab/Kuei/singularity\n",
      "PATH OF PROJECT (FD_PRJ): /data/reddylab/Kuei/code/Proj_CombEffect_ENCODE_FCC\n",
      "PATH OF RESULTS (FD_RES): /data/reddylab/Kuei/out/proj_combeffect_encode_fcc\n",
      "PATH OF LOG     (FD_LOG): /data/reddylab/Kuei/out/proj_combeffect_encode_fcc/log\n",
      "\n"
     ]
    }
   ],
   "source": [
    "### set env\n",
    "source ../config/config_duke.sh\n",
    "show_env"
   ]
  },
  {
   "cell_type": "code",
   "execution_count": 2,
   "metadata": {},
   "outputs": [],
   "source": [
    "FD_INP=${FD_RES}/source/annotation_enhancer_junke\n",
    "FD_OUT=${FD_RES}/results/region/annotation_enhancer_junke"
   ]
  },
  {
   "cell_type": "code",
   "execution_count": 14,
   "metadata": {},
   "outputs": [
    {
     "name": "stdout",
     "output_type": "stream",
     "text": [
      "/data/reddylab/Kuei/out/proj_combeffect_encode_fcc/source/annotation_enhancer_junke/ATAC_STARR_deep:\n",
      "\u001b[0m\u001b[38;5;27mdeep_ATAC_STARR_seq.full_overlap_100bp_bin_10bp_stepSize\u001b[0m\n",
      "\u001b[38;5;9mdeep_ATAC_STARR_seq.full_overlap_100bp_bin_10bp_stepSize.tar.gz\u001b[0m\n",
      "\u001b[38;5;27mdeep_ATAC_STARR_seq.full_overlap_30bp_bin_10bp_stepSize\u001b[0m\n",
      "\u001b[38;5;9mdeep_ATAC_STARR_seq.full_overlap_30bp_bin_10bp_stepSize.tar.gz\u001b[0m\n",
      "\u001b[38;5;9mdeep_ATAC_STARR_seq.full_overlap_30bp_bin_10bp_stepSize.zip\u001b[0m\n",
      "\n",
      "/data/reddylab/Kuei/out/proj_combeffect_encode_fcc/source/annotation_enhancer_junke/WHG_STARR_seq_TR:\n",
      "\u001b[38;5;27mWHG_STARR_seq_TR.full_overlap_100_bp_bin_10_bp_stepSize\u001b[0m\n",
      "\u001b[38;5;9mWHG_STARR_seq_TR.full_overlap_100_bp_bin_10_bp_stepSize.tar.gz\u001b[0m\n",
      "\u001b[38;5;27mWHG_STARR_seq_TR.full_overlap_30bp_bin_10bp_stepSize\u001b[0m\n",
      "\u001b[38;5;9mWHG_STARR_seq_TR.full_overlap_30bp_bin_10bp_stepSize.tar.gz\u001b[0m\n",
      "\u001b[38;5;9mWHG_STARR_seq_TR.full_overlap_30bp_bin_10bp_stepSize.zip\u001b[0m\n"
     ]
    }
   ],
   "source": [
    "ls ${FD_INP}/*"
   ]
  },
  {
   "cell_type": "markdown",
   "metadata": {},
   "source": [
    "## Get the enhancer calls for ASTARR"
   ]
  },
  {
   "cell_type": "code",
   "execution_count": 20,
   "metadata": {},
   "outputs": [
    {
     "name": "stdout",
     "output_type": "stream",
     "text": [
      "deep_ATAC_STARR_seq.full_overlap_30bp_bin_10bp_stepSize\n",
      "chr1\t115570\t115690\n",
      "chr1\t605280\t605300\n",
      "chr1\t605330\t605340\n",
      "chr1\t605350\t605370\n",
      "chr1\t605440\t605480\n",
      "chr1\t778380\t778500\n",
      "chr1\t778600\t778870\n",
      "chr1\t827380\t827400\n",
      "chr1\t842880\t842960\n",
      "chr1\t944400\t944440\n",
      "\n",
      "deep_ATAC_STARR_seq.full_overlap_100bp_bin_10bp_stepSize\n",
      "chr1\t115570\t115740\n",
      "chr1\t605280\t605470\n",
      "chr1\t778370\t778900\n",
      "chr1\t827450\t827550\n",
      "chr1\t944320\t944500\n",
      "chr1\t967240\t967410\n",
      "chr1\t1002070\t1002160\n",
      "chr1\t1013020\t1013710\n",
      "chr1\t1021930\t1022160\n",
      "chr1\t1064200\t1064540\n",
      "\n"
     ]
    }
   ],
   "source": [
    "ASSAY=ATAC_STARR_deep\n",
    "FN_INP=orientation_independent_up_regulated_peaks_union.bed.gz\n",
    "\n",
    "FOLDER=deep_ATAC_STARR_seq.full_overlap_30bp_bin_10bp_stepSize\n",
    "FP_INP=${FD_INP}/${ASSAY}/${FOLDER}/processed/merged_peak/${FN_INP}\n",
    "\n",
    "echo ${FOLDER}\n",
    "zcat ${FP_INP} |\\\n",
    "    cut -f1-3 |\\\n",
    "    head\n",
    "echo\n",
    "\n",
    "FOLDER=deep_ATAC_STARR_seq.full_overlap_100bp_bin_10bp_stepSize\n",
    "FP_INP=${FD_INP}/${ASSAY}/${FOLDER}/processed/merged_peak/${FN_INP}\n",
    "\n",
    "echo ${FOLDER}\n",
    "zcat ${FP_INP} |\\\n",
    "    cut -f1-3 |\\\n",
    "    head\n",
    "echo"
   ]
  },
  {
   "cell_type": "code",
   "execution_count": 21,
   "metadata": {},
   "outputs": [
    {
     "name": "stdout",
     "output_type": "stream",
     "text": [
      "/data/reddylab/Kuei/out/proj_combeffect_encode_fcc/source/annotation_enhancer_junke/ATAC_STARR_deep/deep_ATAC_STARR_seq.full_overlap_100bp_bin_10bp_stepSize/processed/merged_peak/orientation_independent_up_regulated_peaks_union.bed.gz\n",
      "/data/reddylab/Kuei/out/proj_combeffect_encode_fcc/results/region/annotation_enhancer_junke/enhancer_junke_peak_astarr.bed.gz\n",
      "chr1\t115570\t115740\n",
      "chr1\t605280\t605470\n",
      "chr1\t778370\t778900\n",
      "chr1\t827450\t827550\n",
      "chr1\t944320\t944500\n",
      "chr1\t967240\t967410\n",
      "chr1\t1002070\t1002160\n",
      "chr1\t1013020\t1013710\n",
      "chr1\t1021930\t1022160\n",
      "chr1\t1064200\t1064540\n"
     ]
    }
   ],
   "source": [
    "ASSAY=ATAC_STARR_deep\n",
    "FOLDER=deep_ATAC_STARR_seq.full_overlap_100bp_bin_10bp_stepSize\n",
    "FN_INP=orientation_independent_up_regulated_peaks_union.bed.gz\n",
    "FP_INP=${FD_INP}/${ASSAY}/${FOLDER}/processed/merged_peak/${FN_INP}\n",
    "\n",
    "FN_OUT=enhancer_junke_peak_astarr.bed.gz\n",
    "FP_OUT=${FD_OUT}/${FN_OUT}\n",
    "\n",
    "echo ${FP_INP}\n",
    "echo ${FP_OUT}\n",
    "\n",
    "zcat ${FP_INP} |\\\n",
    "    cut -f1-3 |\\\n",
    "    head\n",
    "\n",
    "zcat ${FP_INP} |\\\n",
    "    cut -f1-3 |\\\n",
    "    gzip -c > ${FP_OUT}"
   ]
  },
  {
   "cell_type": "markdown",
   "metadata": {},
   "source": [
    "## Get the enhancer calls for WSTARR"
   ]
  },
  {
   "cell_type": "code",
   "execution_count": 23,
   "metadata": {},
   "outputs": [
    {
     "name": "stdout",
     "output_type": "stream",
     "text": [
      "WHG_STARR_seq_TR.full_overlap_30bp_bin_10bp_stepSize\n",
      "chr1\t778410\t778450\n",
      "chr1\t778460\t778820\n",
      "chr1\t778830\t778860\n",
      "chr1\t778870\t779090\n",
      "chr1\t818900\t818920\n",
      "chr1\t818940\t818960\n",
      "chr1\t827220\t827240\n",
      "chr1\t827480\t827510\n",
      "chr1\t844080\t844150\n",
      "chr1\t913130\t913170\n",
      "\n",
      "WHG_STARR_seq_TR.full_overlap_100_bp_bin_10_bp_stepSize\n",
      "chr1\t778420\t779100\n",
      "chr1\t827490\t827570\n",
      "chr1\t827670\t827740\n",
      "chr1\t844100\t844200\n",
      "chr1\t913190\t913280\n",
      "chr1\t921020\t921320\n",
      "chr1\t936850\t937000\n",
      "chr1\t941220\t941320\n",
      "chr1\t943050\t943140\n",
      "chr1\t945380\t945460\n",
      "\n"
     ]
    }
   ],
   "source": [
    "ASSAY=WHG_STARR_seq_TR\n",
    "FN_INP=orientation_independent_up_regulated_peaks_union.bed.gz\n",
    "\n",
    "FOLDER=WHG_STARR_seq_TR.full_overlap_30bp_bin_10bp_stepSize\n",
    "FP_INP=${FD_INP}/${ASSAY}/${FOLDER}/processed/merged_peak/${FN_INP}\n",
    "\n",
    "echo ${FOLDER}\n",
    "zcat ${FP_INP} |\\\n",
    "    cut -f1-3 |\\\n",
    "    head\n",
    "echo\n",
    "\n",
    "FOLDER=WHG_STARR_seq_TR.full_overlap_100_bp_bin_10_bp_stepSize\n",
    "FP_INP=${FD_INP}/${ASSAY}/${FOLDER}/processed/merged_peak/${FN_INP}\n",
    "\n",
    "echo ${FOLDER}\n",
    "zcat ${FP_INP} |\\\n",
    "    cut -f1-3 |\\\n",
    "    head\n",
    "echo"
   ]
  },
  {
   "cell_type": "code",
   "execution_count": 26,
   "metadata": {},
   "outputs": [
    {
     "name": "stdout",
     "output_type": "stream",
     "text": [
      "/data/reddylab/Kuei/out/proj_combeffect_encode_fcc/source/annotation_enhancer_junke/WHG_STARR_seq_TR/WHG_STARR_seq_TR.full_overlap_100_bp_bin_10_bp_stepSize/processed/merged_peak/orientation_independent_up_regulated_peaks_union.bed.gz\n",
      "/data/reddylab/Kuei/out/proj_combeffect_encode_fcc/results/region/annotation_enhancer_junke/enhancer_junke_peak_wstarr.bed.gz\n",
      "chr1\t778420\t779100\n",
      "chr1\t827490\t827570\n",
      "chr1\t827670\t827740\n",
      "chr1\t844100\t844200\n",
      "chr1\t913190\t913280\n",
      "chr1\t921020\t921320\n",
      "chr1\t936850\t937000\n",
      "chr1\t941220\t941320\n",
      "chr1\t943050\t943140\n",
      "chr1\t945380\t945460\n"
     ]
    }
   ],
   "source": [
    "ASSAY=WHG_STARR_seq_TR\n",
    "FOLDER=WHG_STARR_seq_TR.full_overlap_100_bp_bin_10_bp_stepSize\n",
    "FN_INP=orientation_independent_up_regulated_peaks_union.bed.gz\n",
    "FP_INP=${FD_INP}/${ASSAY}/${FOLDER}/processed/merged_peak/${FN_INP}\n",
    "\n",
    "FN_OUT=enhancer_junke_peak_wstarr.bed.gz\n",
    "FP_OUT=${FD_OUT}/${FN_OUT}\n",
    "\n",
    "echo ${FP_INP}\n",
    "echo ${FP_OUT}\n",
    "\n",
    "zcat ${FP_INP} |\\\n",
    "    cut -f1-3 |\\\n",
    "    head\n",
    "    \n",
    "zcat ${FP_INP} |\\\n",
    "    cut -f1-3 |\\\n",
    "    gzip -c > ${FP_OUT}"
   ]
  },
  {
   "cell_type": "markdown",
   "metadata": {},
   "source": [
    "## Check the results"
   ]
  },
  {
   "cell_type": "code",
   "execution_count": 27,
   "metadata": {},
   "outputs": [
    {
     "name": "stdout",
     "output_type": "stream",
     "text": [
      "chr1\t115570\t115740\n",
      "chr1\t605280\t605470\n",
      "chr1\t778370\t778900\n",
      "chr1\t827450\t827550\n",
      "chr1\t944320\t944500\n",
      "chr1\t967240\t967410\n",
      "chr1\t1002070\t1002160\n",
      "chr1\t1013020\t1013710\n",
      "chr1\t1021930\t1022160\n",
      "chr1\t1064200\t1064540\n",
      "22991\n"
     ]
    }
   ],
   "source": [
    "FN_OUT=enhancer_junke_peak_astarr.bed.gz\n",
    "FP_OUT=${FD_OUT}/${FN_OUT}\n",
    "\n",
    "zcat ${FP_OUT} | head\n",
    "zcat ${FP_OUT} | wc -l"
   ]
  },
  {
   "cell_type": "code",
   "execution_count": 28,
   "metadata": {},
   "outputs": [
    {
     "name": "stdout",
     "output_type": "stream",
     "text": [
      "chr1\t778420\t779100\n",
      "chr1\t827490\t827570\n",
      "chr1\t827670\t827740\n",
      "chr1\t844100\t844200\n",
      "chr1\t913190\t913280\n",
      "chr1\t921020\t921320\n",
      "chr1\t936850\t937000\n",
      "chr1\t941220\t941320\n",
      "chr1\t943050\t943140\n",
      "chr1\t945380\t945460\n",
      "45596\n"
     ]
    }
   ],
   "source": [
    "FN_OUT=enhancer_junke_peak_wstarr.bed.gz\n",
    "FP_OUT=${FD_OUT}/${FN_OUT}\n",
    "\n",
    "zcat ${FP_OUT} | head\n",
    "zcat ${FP_OUT} | wc -l"
   ]
  },
  {
   "cell_type": "code",
   "execution_count": null,
   "metadata": {},
   "outputs": [],
   "source": []
  }
 ],
 "metadata": {
  "kernelspec": {
   "display_name": "Bash",
   "language": "bash",
   "name": "bash"
  },
  "language_info": {
   "codemirror_mode": "shell",
   "file_extension": ".sh",
   "mimetype": "text/x-sh",
   "name": "bash"
  }
 },
 "nbformat": 4,
 "nbformat_minor": 5
}
