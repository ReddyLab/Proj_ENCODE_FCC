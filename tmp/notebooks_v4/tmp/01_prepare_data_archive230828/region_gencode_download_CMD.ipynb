{
 "cells": [
  {
   "cell_type": "markdown",
   "id": "21f23dc6-8b0f-4d19-aaf4-74ca977e2110",
   "metadata": {},
   "source": [
    "- Comprehensive gene annotation\n",
    "    - Regions: CHR\n",
    "    - Description:\n",
    "        - It contains the comprehensive gene annotation on the reference chromosomes only\n",
    "    - Download Link:\n",
    "        - https://ftp.ebi.ac.uk/pub/databases/gencode/Gencode_human/release_42/gencode.v42.annotation.gtf.gz\n",
    "        \n",
    "- Comprehensive gene annotation\n",
    "    - Regions: ALL\n",
    "    - Description:\n",
    "        - It contains the comprehensive gene annotation on the reference chromosomes, scaffolds, assembly patches and alternate loci (haplotypes)\n",
    "    - Download Link:\n",
    "        - https://ftp.ebi.ac.uk/pub/databases/gencode/Gencode_human/release_42/gencode.v42.chr_patch_hapl_scaff.annotation.gtf.gz\n",
    "        \n",
    "- Basic gene annotation\n",
    "    - Regions: CHR\n",
    "    - Description:\n",
    "        - It contains the basic gene annotation on the reference chromosomes only\n",
    "        - This is a subset of the corresponding comprehensive annotation, including only those transcripts tagged as 'basic' in every gene\n",
    "        - This is the main annotation file for most users\n",
    "    - Download Link:\n",
    "        - https://ftp.ebi.ac.uk/pub/databases/gencode/Gencode_human/release_42/gencode.v42.basic.annotation.gtf.gz\n",
    "        \n",
    "- Basic gene annotation\n",
    "    - Regions: ALL\n",
    "    - Description:\n",
    "        - It contains the basic gene annotation on the reference chromosomes, scaffolds, assembly patches and alternate loci (haplotypes)\n",
    "        - This is a subset of the corresponding comprehensive annotation, including only those transcripts tagged as 'basic' in every gene\n",
    "        - This is a superset of the main annotation file\n",
    "    - Download Link:\n",
    "        - https://ftp.ebi.ac.uk/pub/databases/gencode/Gencode_human/release_42/gencode.v42.basic.annotation.gtf.gz"
   ]
  },
  {
   "cell_type": "code",
   "execution_count": 1,
   "id": "b2f53d9c-ae9e-42b6-8ec8-64180516a04b",
   "metadata": {},
   "outputs": [
    {
     "name": "stdout",
     "output_type": "stream",
     "text": [
      "You are on Duke Server: HARDAC\n",
      "BASE DIRECTORY (FD_BASE): /data/reddylab/Kuei\n",
      "WORK DIRECTORY (FD_WORK): /data/reddylab/Kuei/out\n",
      "CODE DIRECTORY (FD_CODE): /data/reddylab/Kuei/code\n",
      "SING DIRECTORY (FD_SING): /data/reddylab/Kuei/singularity\n",
      "PATH OF PROJECT (FD_PRJ): /data/reddylab/Kuei/code/Proj_CombEffect_ENCODE_FCC\n",
      "PATH OF RESULTS (FD_RES): /data/reddylab/Kuei/out/proj_combeffect_encode_fcc\n",
      "PATH OF LOG     (FD_LOG): /data/reddylab/Kuei/out/proj_combeffect_encode_fcc/log\n",
      "\n"
     ]
    }
   ],
   "source": [
    "source ../config/config_duke.sh\n",
    "show_env"
   ]
  },
  {
   "cell_type": "code",
   "execution_count": 2,
   "id": "8673b308-91fa-44ae-aa59-800cadcd3f5a",
   "metadata": {},
   "outputs": [
    {
     "name": "stdout",
     "output_type": "stream",
     "text": [
      "\u001b[0m\u001b[38;5;9mgencode.v42.annotation.gtf.gz\u001b[0m\n",
      "\u001b[38;5;9mgencode.v42.chr_patch_hapl_scaff.annotation.gtf.gz\u001b[0m\n",
      "\u001b[38;5;9mgencode.v42.chr_patch_hapl_scaff.basic.annotation.gtf.gz\u001b[0m\n",
      "\u001b[38;5;9mgencode.v42.primary_assembly.basic.annotation.gtf.gz\u001b[0m\n"
     ]
    }
   ],
   "source": [
    "ls ${FD_RES}/source/annotation_gencode"
   ]
  },
  {
   "cell_type": "code",
   "execution_count": null,
   "id": "f5906ef1-453c-4638-9362-3f7ebad1a3ea",
   "metadata": {},
   "outputs": [],
   "source": []
  }
 ],
 "metadata": {
  "kernelspec": {
   "display_name": "Bash",
   "language": "bash",
   "name": "bash"
  },
  "language_info": {
   "codemirror_mode": "shell",
   "file_extension": ".sh",
   "mimetype": "text/x-sh",
   "name": "bash"
  }
 },
 "nbformat": 4,
 "nbformat_minor": 5
}
