{
 "cells": [
  {
   "cell_type": "code",
   "execution_count": 1,
   "id": "650bc5e5-481b-44be-b0dd-d8e2237e65d5",
   "metadata": {},
   "outputs": [
    {
     "name": "stdout",
     "output_type": "stream",
     "text": [
      "You are on Duke Server: HARDAC\n",
      "BASE DIRECTORY (FD_BASE): /data/reddylab/Kuei\n",
      "WORK DIRECTORY (FD_WORK): /data/reddylab/Kuei/out\n",
      "CODE DIRECTORY (FD_CODE): /data/reddylab/Kuei/code\n",
      "SING DIRECTORY (FD_SING): /data/reddylab/Kuei/singularity\n",
      "PATH OF PROJECT (FD_PRJ): /data/reddylab/Kuei/code/Proj_CombEffect_ENCODE_FCC\n",
      "PATH OF RESULTS (FD_RES): /data/reddylab/Kuei/out/proj_combeffect_encode_fcc\n",
      "PATH OF LOG     (FD_LOG): /data/reddylab/Kuei/out/proj_combeffect_encode_fcc/log\n",
      "\n"
     ]
    }
   ],
   "source": [
    "source ../config/config_duke.sh\n",
    "show_env"
   ]
  },
  {
   "cell_type": "code",
   "execution_count": 2,
   "id": "1025043d-4fdc-43fe-b151-b9e14ae4ddba",
   "metadata": {},
   "outputs": [
    {
     "name": "stdout",
     "output_type": "stream",
     "text": [
      "KS91_K562_hg38_ASTARRseq_Input.all_reps.masked.union_narrowPeak.q5.bed\n"
     ]
    }
   ],
   "source": [
    "ls ${FD_RES}/source/KS91_K562_astarrseq_peak_macs"
   ]
  },
  {
   "cell_type": "code",
   "execution_count": 3,
   "id": "7e96a8f3-a005-446a-986d-cc724162b3e2",
   "metadata": {},
   "outputs": [
    {
     "name": "stdout",
     "output_type": "stream",
     "text": [
      "\u001b[0m\u001b[38;5;27mA001_K562_WSTARRseq\u001b[0m  \u001b[38;5;27mKS91_K562_ASTARRseq\u001b[0m  \u001b[38;5;27mTewhey_K562_TileMPRA\u001b[0m\n",
      "\u001b[38;5;27mCRISPRi_FlowFISH\u001b[0m     \u001b[38;5;27mregion\u001b[0m\n"
     ]
    }
   ],
   "source": [
    "ls ${FD_RES}/results"
   ]
  },
  {
   "cell_type": "code",
   "execution_count": 4,
   "id": "cd5a3d01-fd7e-407a-8c0d-ab4800b3a13c",
   "metadata": {},
   "outputs": [
    {
     "name": "stdout",
     "output_type": "stream",
     "text": [
      "\u001b[0m\u001b[38;5;27mKS91_K562_ASTARRseq_peak_macs_input\u001b[0m\n"
     ]
    }
   ],
   "source": [
    "ls ${FD_RES}/results/region"
   ]
  },
  {
   "cell_type": "code",
   "execution_count": 5,
   "id": "bc99515f-2970-4856-83d8-88a723172d9b",
   "metadata": {},
   "outputs": [],
   "source": [
    "FD_INP=\"${FD_RES}/source/KS91_K562_astarrseq_peak_macs/\"\n",
    "FN_INP=\"KS91_K562_hg38_ASTARRseq_Input.all_reps.masked.union_narrowPeak.q5.bed\"\n",
    "FD_OUT=\"${FD_RES}/results/region/KS91_K562_ASTARRseq_peak_macs_input\"\n",
    "\n",
    "cp ${FD_INP}/${FN_INP} ${FD_OUT}/"
   ]
  },
  {
   "cell_type": "code",
   "execution_count": 6,
   "id": "ee422e97-4a97-4394-b13d-b17150ce0d45",
   "metadata": {},
   "outputs": [
    {
     "name": "stdout",
     "output_type": "stream",
     "text": [
      "/data/reddylab/Kuei/out/proj_combeffect_encode_fcc/results/region/KS91_K562_ASTARRseq_peak_macs_input\n",
      "KS91_K562_hg38_ASTARRseq_Input.all_reps.masked.union_narrowPeak.q5.bed\n"
     ]
    }
   ],
   "source": [
    "echo ${FD_OUT}\n",
    "ls   ${FD_OUT}"
   ]
  },
  {
   "cell_type": "code",
   "execution_count": null,
   "id": "8a306204-8331-42f2-b412-398f27e051eb",
   "metadata": {},
   "outputs": [],
   "source": []
  }
 ],
 "metadata": {
  "kernelspec": {
   "display_name": "Bash",
   "language": "bash",
   "name": "bash"
  },
  "language_info": {
   "codemirror_mode": "shell",
   "file_extension": ".sh",
   "mimetype": "text/x-sh",
   "name": "bash"
  }
 },
 "nbformat": 4,
 "nbformat_minor": 5
}
