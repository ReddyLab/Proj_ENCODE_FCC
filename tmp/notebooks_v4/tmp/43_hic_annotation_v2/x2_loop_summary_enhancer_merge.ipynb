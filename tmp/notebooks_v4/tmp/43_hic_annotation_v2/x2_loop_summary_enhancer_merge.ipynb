{
 "cells": [
  {
   "cell_type": "markdown",
   "metadata": {},
   "source": [
    "**Set environment**"
   ]
  },
  {
   "cell_type": "code",
   "execution_count": 1,
   "metadata": {},
   "outputs": [
    {
     "name": "stdout",
     "output_type": "stream",
     "text": [
      "You are in Singularity: singularity_proj_encode_fcc \n",
      "BASE DIRECTORY (FD_BASE): /data/reddylab/Kuei \n",
      "WORK DIRECTORY (FD_WORK): /data/reddylab/Kuei/out \n",
      "CODE DIRECTORY (FD_CODE): /data/reddylab/Kuei/code \n",
      "PATH OF PROJECT (FD_PRJ): /data/reddylab/Kuei/code/Proj_CombEffect_ENCODE_FCC \n",
      "PATH OF RESULTS (FD_RES): /data/reddylab/Kuei/out/proj_combeffect_encode_fcc \n",
      "PATH OF LOG     (FD_LOG): /data/reddylab/Kuei/out/proj_combeffect_encode_fcc/log \n"
     ]
    }
   ],
   "source": [
    "suppressMessages(suppressWarnings(source(\"../config/config_sing.R\")))\n",
    "show_env()"
   ]
  },
  {
   "cell_type": "code",
   "execution_count": 10,
   "metadata": {},
   "outputs": [
    {
     "data": {
      "text/html": [
       "<style>\n",
       ".list-inline {list-style: none; margin:0; padding: 0}\n",
       ".list-inline>li {display: inline-block}\n",
       ".list-inline>li:not(:last-child)::after {content: \"\\00b7\"; padding: 0 .5ex}\n",
       "</style>\n",
       "<ol class=list-inline><li>'annotation_crispri_growth'</li><li>'annotation_crispri_hcrff'</li><li>'annotation_encode_e2g_benchmark'</li><li>'annotation_encode_e2g_prediction'</li><li>'annotation_enhancer_merge'</li><li>'annotation_enhancer_zscore_junke'</li><li>'hic_intact.deep.Loop_A.bed.gz'</li><li>'hic_intact.deep.Loop_B.bed.gz'</li><li>'hic_intact.deep.Loop_info.tsv'</li><li>'KS91_K562_ASTARRseq_peak_macs_input'</li></ol>\n"
      ],
      "text/latex": [
       "\\begin{enumerate*}\n",
       "\\item 'annotation\\_crispri\\_growth'\n",
       "\\item 'annotation\\_crispri\\_hcrff'\n",
       "\\item 'annotation\\_encode\\_e2g\\_benchmark'\n",
       "\\item 'annotation\\_encode\\_e2g\\_prediction'\n",
       "\\item 'annotation\\_enhancer\\_merge'\n",
       "\\item 'annotation\\_enhancer\\_zscore\\_junke'\n",
       "\\item 'hic\\_intact.deep.Loop\\_A.bed.gz'\n",
       "\\item 'hic\\_intact.deep.Loop\\_B.bed.gz'\n",
       "\\item 'hic\\_intact.deep.Loop\\_info.tsv'\n",
       "\\item 'KS91\\_K562\\_ASTARRseq\\_peak\\_macs\\_input'\n",
       "\\end{enumerate*}\n"
      ],
      "text/markdown": [
       "1. 'annotation_crispri_growth'\n",
       "2. 'annotation_crispri_hcrff'\n",
       "3. 'annotation_encode_e2g_benchmark'\n",
       "4. 'annotation_encode_e2g_prediction'\n",
       "5. 'annotation_enhancer_merge'\n",
       "6. 'annotation_enhancer_zscore_junke'\n",
       "7. 'hic_intact.deep.Loop_A.bed.gz'\n",
       "8. 'hic_intact.deep.Loop_B.bed.gz'\n",
       "9. 'hic_intact.deep.Loop_info.tsv'\n",
       "10. 'KS91_K562_ASTARRseq_peak_macs_input'\n",
       "\n",
       "\n"
      ],
      "text/plain": [
       " [1] \"annotation_crispri_growth\"           \"annotation_crispri_hcrff\"           \n",
       " [3] \"annotation_encode_e2g_benchmark\"     \"annotation_encode_e2g_prediction\"   \n",
       " [5] \"annotation_enhancer_merge\"           \"annotation_enhancer_zscore_junke\"   \n",
       " [7] \"hic_intact.deep.Loop_A.bed.gz\"       \"hic_intact.deep.Loop_B.bed.gz\"      \n",
       " [9] \"hic_intact.deep.Loop_info.tsv\"       \"KS91_K562_ASTARRseq_peak_macs_input\""
      ]
     },
     "metadata": {},
     "output_type": "display_data"
    }
   ],
   "source": [
    "PREFIX_REGS = c(\"Loop_A\", \"Loop_B\")\n",
    "FOLDER_REG  = \"hic_intact_deep\"\n",
    "FOLDER_ANT  = \"annotation_enhancer_merge\"\n",
    "\n",
    "FD_REG = file.path(FD_RES, \"results\", \"region\", FOLDER_REG)\n",
    "FD_ANT = file.path(FD_RES, \"results\", \"region\", FOLDER_ANT)\n",
    "FD_OUT = file.path(FD_RES, \"results\", \"region\", FOLDER_REG, FOLDER_ANT)\n",
    "\n",
    "dir(FD_REG)"
   ]
  },
  {
   "cell_type": "code",
   "execution_count": 11,
   "metadata": {},
   "outputs": [
    {
     "name": "stdout",
     "output_type": "stream",
     "text": [
      "[1] 128714     12\n"
     ]
    },
    {
     "data": {
      "text/html": [
       "<table class=\"dataframe\">\n",
       "<caption>A tibble: 6 × 12</caption>\n",
       "<thead>\n",
       "\t<tr><th scope=col>Chrom_A</th><th scope=col>Start_A</th><th scope=col>End_A</th><th scope=col>Chrom_B</th><th scope=col>Start_B</th><th scope=col>End_B</th><th scope=col>Loop_A</th><th scope=col>Loop_B</th><th scope=col>Length_A</th><th scope=col>Length_B</th><th scope=col>Distance</th><th scope=col>Loop</th></tr>\n",
       "\t<tr><th scope=col>&lt;chr&gt;</th><th scope=col>&lt;dbl&gt;</th><th scope=col>&lt;dbl&gt;</th><th scope=col>&lt;chr&gt;</th><th scope=col>&lt;dbl&gt;</th><th scope=col>&lt;dbl&gt;</th><th scope=col>&lt;chr&gt;</th><th scope=col>&lt;chr&gt;</th><th scope=col>&lt;dbl&gt;</th><th scope=col>&lt;dbl&gt;</th><th scope=col>&lt;dbl&gt;</th><th scope=col>&lt;chr&gt;</th></tr>\n",
       "</thead>\n",
       "<tbody>\n",
       "\t<tr><td>chr10</td><td> 72223000</td><td> 72224000</td><td>chr10</td><td> 72328000</td><td> 72329000</td><td>chr10:72223000-72224000  </td><td>chr10:72328000-72329000  </td><td>1000</td><td>1000</td><td> 105000</td><td>chr10:72223000-72224000|chr10:72328000-72329000    </td></tr>\n",
       "\t<tr><td>chr10</td><td> 64041000</td><td> 64042000</td><td>chr10</td><td> 67697000</td><td> 67698000</td><td>chr10:64041000-64042000  </td><td>chr10:67697000-67698000  </td><td>1000</td><td>1000</td><td>3656000</td><td>chr10:64041000-64042000|chr10:67697000-67698000    </td></tr>\n",
       "\t<tr><td>chr10</td><td> 78302000</td><td> 78304000</td><td>chr10</td><td> 79194000</td><td> 79196000</td><td>chr10:78302000-78304000  </td><td>chr10:79194000-79196000  </td><td>2000</td><td>2000</td><td> 892000</td><td>chr10:78302000-78304000|chr10:79194000-79196000    </td></tr>\n",
       "\t<tr><td>chr10</td><td> 13372000</td><td> 13373000</td><td>chr10</td><td> 13404000</td><td> 13405000</td><td>chr10:13372000-13373000  </td><td>chr10:13404000-13405000  </td><td>1000</td><td>1000</td><td>  32000</td><td>chr10:13372000-13373000|chr10:13404000-13405000    </td></tr>\n",
       "\t<tr><td>chr10</td><td>132388000</td><td>132389000</td><td>chr10</td><td>132637000</td><td>132638000</td><td>chr10:132388000-132389000</td><td>chr10:132637000-132638000</td><td>1000</td><td>1000</td><td> 249000</td><td>chr10:132388000-132389000|chr10:132637000-132638000</td></tr>\n",
       "\t<tr><td>chr10</td><td>114550000</td><td>114552000</td><td>chr10</td><td>114876000</td><td>114878000</td><td>chr10:114550000-114552000</td><td>chr10:114876000-114878000</td><td>2000</td><td>2000</td><td> 326000</td><td>chr10:114550000-114552000|chr10:114876000-114878000</td></tr>\n",
       "</tbody>\n",
       "</table>\n"
      ],
      "text/latex": [
       "A tibble: 6 × 12\n",
       "\\begin{tabular}{llllllllllll}\n",
       " Chrom\\_A & Start\\_A & End\\_A & Chrom\\_B & Start\\_B & End\\_B & Loop\\_A & Loop\\_B & Length\\_A & Length\\_B & Distance & Loop\\\\\n",
       " <chr> & <dbl> & <dbl> & <chr> & <dbl> & <dbl> & <chr> & <chr> & <dbl> & <dbl> & <dbl> & <chr>\\\\\n",
       "\\hline\n",
       "\t chr10 &  72223000 &  72224000 & chr10 &  72328000 &  72329000 & chr10:72223000-72224000   & chr10:72328000-72329000   & 1000 & 1000 &  105000 & chr10:72223000-72224000\\textbar{}chr10:72328000-72329000    \\\\\n",
       "\t chr10 &  64041000 &  64042000 & chr10 &  67697000 &  67698000 & chr10:64041000-64042000   & chr10:67697000-67698000   & 1000 & 1000 & 3656000 & chr10:64041000-64042000\\textbar{}chr10:67697000-67698000    \\\\\n",
       "\t chr10 &  78302000 &  78304000 & chr10 &  79194000 &  79196000 & chr10:78302000-78304000   & chr10:79194000-79196000   & 2000 & 2000 &  892000 & chr10:78302000-78304000\\textbar{}chr10:79194000-79196000    \\\\\n",
       "\t chr10 &  13372000 &  13373000 & chr10 &  13404000 &  13405000 & chr10:13372000-13373000   & chr10:13404000-13405000   & 1000 & 1000 &   32000 & chr10:13372000-13373000\\textbar{}chr10:13404000-13405000    \\\\\n",
       "\t chr10 & 132388000 & 132389000 & chr10 & 132637000 & 132638000 & chr10:132388000-132389000 & chr10:132637000-132638000 & 1000 & 1000 &  249000 & chr10:132388000-132389000\\textbar{}chr10:132637000-132638000\\\\\n",
       "\t chr10 & 114550000 & 114552000 & chr10 & 114876000 & 114878000 & chr10:114550000-114552000 & chr10:114876000-114878000 & 2000 & 2000 &  326000 & chr10:114550000-114552000\\textbar{}chr10:114876000-114878000\\\\\n",
       "\\end{tabular}\n"
      ],
      "text/markdown": [
       "\n",
       "A tibble: 6 × 12\n",
       "\n",
       "| Chrom_A &lt;chr&gt; | Start_A &lt;dbl&gt; | End_A &lt;dbl&gt; | Chrom_B &lt;chr&gt; | Start_B &lt;dbl&gt; | End_B &lt;dbl&gt; | Loop_A &lt;chr&gt; | Loop_B &lt;chr&gt; | Length_A &lt;dbl&gt; | Length_B &lt;dbl&gt; | Distance &lt;dbl&gt; | Loop &lt;chr&gt; |\n",
       "|---|---|---|---|---|---|---|---|---|---|---|---|\n",
       "| chr10 |  72223000 |  72224000 | chr10 |  72328000 |  72329000 | chr10:72223000-72224000   | chr10:72328000-72329000   | 1000 | 1000 |  105000 | chr10:72223000-72224000|chr10:72328000-72329000     |\n",
       "| chr10 |  64041000 |  64042000 | chr10 |  67697000 |  67698000 | chr10:64041000-64042000   | chr10:67697000-67698000   | 1000 | 1000 | 3656000 | chr10:64041000-64042000|chr10:67697000-67698000     |\n",
       "| chr10 |  78302000 |  78304000 | chr10 |  79194000 |  79196000 | chr10:78302000-78304000   | chr10:79194000-79196000   | 2000 | 2000 |  892000 | chr10:78302000-78304000|chr10:79194000-79196000     |\n",
       "| chr10 |  13372000 |  13373000 | chr10 |  13404000 |  13405000 | chr10:13372000-13373000   | chr10:13404000-13405000   | 1000 | 1000 |   32000 | chr10:13372000-13373000|chr10:13404000-13405000     |\n",
       "| chr10 | 132388000 | 132389000 | chr10 | 132637000 | 132638000 | chr10:132388000-132389000 | chr10:132637000-132638000 | 1000 | 1000 |  249000 | chr10:132388000-132389000|chr10:132637000-132638000 |\n",
       "| chr10 | 114550000 | 114552000 | chr10 | 114876000 | 114878000 | chr10:114550000-114552000 | chr10:114876000-114878000 | 2000 | 2000 |  326000 | chr10:114550000-114552000|chr10:114876000-114878000 |\n",
       "\n"
      ],
      "text/plain": [
       "  Chrom_A Start_A   End_A     Chrom_B Start_B   End_B    \n",
       "1 chr10    72223000  72224000 chr10    72328000  72329000\n",
       "2 chr10    64041000  64042000 chr10    67697000  67698000\n",
       "3 chr10    78302000  78304000 chr10    79194000  79196000\n",
       "4 chr10    13372000  13373000 chr10    13404000  13405000\n",
       "5 chr10   132388000 132389000 chr10   132637000 132638000\n",
       "6 chr10   114550000 114552000 chr10   114876000 114878000\n",
       "  Loop_A                    Loop_B                    Length_A Length_B\n",
       "1 chr10:72223000-72224000   chr10:72328000-72329000   1000     1000    \n",
       "2 chr10:64041000-64042000   chr10:67697000-67698000   1000     1000    \n",
       "3 chr10:78302000-78304000   chr10:79194000-79196000   2000     2000    \n",
       "4 chr10:13372000-13373000   chr10:13404000-13405000   1000     1000    \n",
       "5 chr10:132388000-132389000 chr10:132637000-132638000 1000     1000    \n",
       "6 chr10:114550000-114552000 chr10:114876000-114878000 2000     2000    \n",
       "  Distance Loop                                               \n",
       "1  105000  chr10:72223000-72224000|chr10:72328000-72329000    \n",
       "2 3656000  chr10:64041000-64042000|chr10:67697000-67698000    \n",
       "3  892000  chr10:78302000-78304000|chr10:79194000-79196000    \n",
       "4   32000  chr10:13372000-13373000|chr10:13404000-13405000    \n",
       "5  249000  chr10:132388000-132389000|chr10:132637000-132638000\n",
       "6  326000  chr10:114550000-114552000|chr10:114876000-114878000"
      ]
     },
     "metadata": {},
     "output_type": "display_data"
    }
   ],
   "source": [
    "fdiry = FD_REG\n",
    "fname = \"hic_intact.deep.Loop_info.tsv\"\n",
    "fpath = file.path(fdiry, fname)\n",
    "\n",
    "dat = read_tsv(fpath, show_col_types = FALSE)\n",
    "\n",
    "dat_loop_info = dat\n",
    "print(dim(dat))\n",
    "head(dat)"
   ]
  },
  {
   "cell_type": "code",
   "execution_count": 5,
   "metadata": {},
   "outputs": [
    {
     "data": {
      "text/html": [
       "<table class=\"dataframe\">\n",
       "<caption>A spec_tbl_df: 5 × 2</caption>\n",
       "<thead>\n",
       "\t<tr><th scope=col>Name</th><th scope=col>Description</th></tr>\n",
       "\t<tr><th scope=col>&lt;chr&gt;</th><th scope=col>&lt;chr&gt;</th></tr>\n",
       "</thead>\n",
       "<tbody>\n",
       "\t<tr><td>Chrom      </td><td>Chromosome </td></tr>\n",
       "\t<tr><td>Start      </td><td>Start      </td></tr>\n",
       "\t<tr><td>End        </td><td>End        </td></tr>\n",
       "\t<tr><td>Assay_Type </td><td>Assay type </td></tr>\n",
       "\t<tr><td>Assay_Label</td><td>Assay label</td></tr>\n",
       "</tbody>\n",
       "</table>\n"
      ],
      "text/latex": [
       "A spec\\_tbl\\_df: 5 × 2\n",
       "\\begin{tabular}{ll}\n",
       " Name & Description\\\\\n",
       " <chr> & <chr>\\\\\n",
       "\\hline\n",
       "\t Chrom       & Chromosome \\\\\n",
       "\t Start       & Start      \\\\\n",
       "\t End         & End        \\\\\n",
       "\t Assay\\_Type  & Assay type \\\\\n",
       "\t Assay\\_Label & Assay label\\\\\n",
       "\\end{tabular}\n"
      ],
      "text/markdown": [
       "\n",
       "A spec_tbl_df: 5 × 2\n",
       "\n",
       "| Name &lt;chr&gt; | Description &lt;chr&gt; |\n",
       "|---|---|\n",
       "| Chrom       | Chromosome  |\n",
       "| Start       | Start       |\n",
       "| End         | End         |\n",
       "| Assay_Type  | Assay type  |\n",
       "| Assay_Label | Assay label |\n",
       "\n"
      ],
      "text/plain": [
       "  Name        Description\n",
       "1 Chrom       Chromosome \n",
       "2 Start       Start      \n",
       "3 End         End        \n",
       "4 Assay_Type  Assay type \n",
       "5 Assay_Label Assay label"
      ]
     },
     "metadata": {},
     "output_type": "display_data"
    }
   ],
   "source": [
    "fdiry = FD_ANT\n",
    "fname = \"description.tsv\"\n",
    "fpath = file.path(fdiry, fname)\n",
    "\n",
    "dat = read_tsv(fpath, show_col_types = FALSE)\n",
    "\n",
    "dat_cnames = dat\n",
    "dat"
   ]
  },
  {
   "cell_type": "code",
   "execution_count": 13,
   "metadata": {},
   "outputs": [
    {
     "name": "stdout",
     "output_type": "stream",
     "text": [
      "[1] 365894      9\n"
     ]
    },
    {
     "data": {
      "text/html": [
       "<table class=\"dataframe\">\n",
       "<caption>A tibble: 6 × 9</caption>\n",
       "<thead>\n",
       "\t<tr><th scope=col>Chrom</th><th scope=col>Start</th><th scope=col>End</th><th scope=col>Assay_Type</th><th scope=col>Assay_Label</th><th scope=col>Chrom_Loop</th><th scope=col>Start_Loop</th><th scope=col>End_Loop</th><th scope=col>Distance</th></tr>\n",
       "\t<tr><th scope=col>&lt;chr&gt;</th><th scope=col>&lt;dbl&gt;</th><th scope=col>&lt;dbl&gt;</th><th scope=col>&lt;chr&gt;</th><th scope=col>&lt;chr&gt;</th><th scope=col>&lt;chr&gt;</th><th scope=col>&lt;dbl&gt;</th><th scope=col>&lt;dbl&gt;</th><th scope=col>&lt;dbl&gt;</th></tr>\n",
       "</thead>\n",
       "<tbody>\n",
       "\t<tr><td>chr1</td><td>10015</td><td>10442</td><td>ATAC</td><td>ATAC</td><td>chr1</td><td>778000</td><td>779000</td><td>767559</td></tr>\n",
       "\t<tr><td>chr1</td><td>14253</td><td>14645</td><td>ATAC</td><td>ATAC</td><td>chr1</td><td>778000</td><td>779000</td><td>763356</td></tr>\n",
       "\t<tr><td>chr1</td><td>16015</td><td>16477</td><td>ATAC</td><td>ATAC</td><td>chr1</td><td>778000</td><td>779000</td><td>761524</td></tr>\n",
       "\t<tr><td>chr1</td><td>17237</td><td>17772</td><td>ATAC</td><td>ATAC</td><td>chr1</td><td>778000</td><td>779000</td><td>760229</td></tr>\n",
       "\t<tr><td>chr1</td><td>28903</td><td>29613</td><td>ATAC</td><td>ATAC</td><td>chr1</td><td>778000</td><td>779000</td><td>748388</td></tr>\n",
       "\t<tr><td>chr1</td><td>30803</td><td>31072</td><td>ATAC</td><td>ATAC</td><td>chr1</td><td>778000</td><td>779000</td><td>746929</td></tr>\n",
       "</tbody>\n",
       "</table>\n"
      ],
      "text/latex": [
       "A tibble: 6 × 9\n",
       "\\begin{tabular}{lllllllll}\n",
       " Chrom & Start & End & Assay\\_Type & Assay\\_Label & Chrom\\_Loop & Start\\_Loop & End\\_Loop & Distance\\\\\n",
       " <chr> & <dbl> & <dbl> & <chr> & <chr> & <chr> & <dbl> & <dbl> & <dbl>\\\\\n",
       "\\hline\n",
       "\t chr1 & 10015 & 10442 & ATAC & ATAC & chr1 & 778000 & 779000 & 767559\\\\\n",
       "\t chr1 & 14253 & 14645 & ATAC & ATAC & chr1 & 778000 & 779000 & 763356\\\\\n",
       "\t chr1 & 16015 & 16477 & ATAC & ATAC & chr1 & 778000 & 779000 & 761524\\\\\n",
       "\t chr1 & 17237 & 17772 & ATAC & ATAC & chr1 & 778000 & 779000 & 760229\\\\\n",
       "\t chr1 & 28903 & 29613 & ATAC & ATAC & chr1 & 778000 & 779000 & 748388\\\\\n",
       "\t chr1 & 30803 & 31072 & ATAC & ATAC & chr1 & 778000 & 779000 & 746929\\\\\n",
       "\\end{tabular}\n"
      ],
      "text/markdown": [
       "\n",
       "A tibble: 6 × 9\n",
       "\n",
       "| Chrom &lt;chr&gt; | Start &lt;dbl&gt; | End &lt;dbl&gt; | Assay_Type &lt;chr&gt; | Assay_Label &lt;chr&gt; | Chrom_Loop &lt;chr&gt; | Start_Loop &lt;dbl&gt; | End_Loop &lt;dbl&gt; | Distance &lt;dbl&gt; |\n",
       "|---|---|---|---|---|---|---|---|---|\n",
       "| chr1 | 10015 | 10442 | ATAC | ATAC | chr1 | 778000 | 779000 | 767559 |\n",
       "| chr1 | 14253 | 14645 | ATAC | ATAC | chr1 | 778000 | 779000 | 763356 |\n",
       "| chr1 | 16015 | 16477 | ATAC | ATAC | chr1 | 778000 | 779000 | 761524 |\n",
       "| chr1 | 17237 | 17772 | ATAC | ATAC | chr1 | 778000 | 779000 | 760229 |\n",
       "| chr1 | 28903 | 29613 | ATAC | ATAC | chr1 | 778000 | 779000 | 748388 |\n",
       "| chr1 | 30803 | 31072 | ATAC | ATAC | chr1 | 778000 | 779000 | 746929 |\n",
       "\n"
      ],
      "text/plain": [
       "  Chrom Start End   Assay_Type Assay_Label Chrom_Loop Start_Loop End_Loop\n",
       "1 chr1  10015 10442 ATAC       ATAC        chr1       778000     779000  \n",
       "2 chr1  14253 14645 ATAC       ATAC        chr1       778000     779000  \n",
       "3 chr1  16015 16477 ATAC       ATAC        chr1       778000     779000  \n",
       "4 chr1  17237 17772 ATAC       ATAC        chr1       778000     779000  \n",
       "5 chr1  28903 29613 ATAC       ATAC        chr1       778000     779000  \n",
       "6 chr1  30803 31072 ATAC       ATAC        chr1       778000     779000  \n",
       "  Distance\n",
       "1 767559  \n",
       "2 763356  \n",
       "3 761524  \n",
       "4 760229  \n",
       "5 748388  \n",
       "6 746929  "
      ]
     },
     "metadata": {},
     "output_type": "display_data"
    }
   ],
   "source": [
    "fdiry = FD_OUT\n",
    "fname = \"Loop_A.annotation.enhancer_merge.concat.starrmpra_crispr_atac.active.merge.bed.gz\"\n",
    "fpath = file.path(fdiry, fname)\n",
    "\n",
    "cnames = dat_cnames$Name\n",
    "cnames = c(cnames, \"Chrom_Loop\", \"Start_Loop\", \"End_Loop\", \"Distance\")\n",
    "dat    = read_tsv(fpath, col_names = cnames, show_col_types = FALSE)\n",
    "\n",
    "dat_annot_loop_A = dat\n",
    "print(dim(dat))\n",
    "head(dat)"
   ]
  },
  {
   "cell_type": "code",
   "execution_count": 14,
   "metadata": {},
   "outputs": [
    {
     "name": "stdout",
     "output_type": "stream",
     "text": [
      "[1] 365858      9\n"
     ]
    },
    {
     "data": {
      "text/html": [
       "<table class=\"dataframe\">\n",
       "<caption>A tibble: 6 × 9</caption>\n",
       "<thead>\n",
       "\t<tr><th scope=col>Chrom</th><th scope=col>Start</th><th scope=col>End</th><th scope=col>Assay_Type</th><th scope=col>Assay_Label</th><th scope=col>Chrom_Loop</th><th scope=col>Start_Loop</th><th scope=col>End_Loop</th><th scope=col>Distance</th></tr>\n",
       "\t<tr><th scope=col>&lt;chr&gt;</th><th scope=col>&lt;dbl&gt;</th><th scope=col>&lt;dbl&gt;</th><th scope=col>&lt;chr&gt;</th><th scope=col>&lt;chr&gt;</th><th scope=col>&lt;chr&gt;</th><th scope=col>&lt;dbl&gt;</th><th scope=col>&lt;dbl&gt;</th><th scope=col>&lt;dbl&gt;</th></tr>\n",
       "</thead>\n",
       "<tbody>\n",
       "\t<tr><td>chr1</td><td>10015</td><td>10442</td><td>ATAC</td><td>ATAC</td><td>chr1</td><td>827000</td><td>828000</td><td>816559</td></tr>\n",
       "\t<tr><td>chr1</td><td>14253</td><td>14645</td><td>ATAC</td><td>ATAC</td><td>chr1</td><td>827000</td><td>828000</td><td>812356</td></tr>\n",
       "\t<tr><td>chr1</td><td>16015</td><td>16477</td><td>ATAC</td><td>ATAC</td><td>chr1</td><td>827000</td><td>828000</td><td>810524</td></tr>\n",
       "\t<tr><td>chr1</td><td>17237</td><td>17772</td><td>ATAC</td><td>ATAC</td><td>chr1</td><td>827000</td><td>828000</td><td>809229</td></tr>\n",
       "\t<tr><td>chr1</td><td>28903</td><td>29613</td><td>ATAC</td><td>ATAC</td><td>chr1</td><td>827000</td><td>828000</td><td>797388</td></tr>\n",
       "\t<tr><td>chr1</td><td>30803</td><td>31072</td><td>ATAC</td><td>ATAC</td><td>chr1</td><td>827000</td><td>828000</td><td>795929</td></tr>\n",
       "</tbody>\n",
       "</table>\n"
      ],
      "text/latex": [
       "A tibble: 6 × 9\n",
       "\\begin{tabular}{lllllllll}\n",
       " Chrom & Start & End & Assay\\_Type & Assay\\_Label & Chrom\\_Loop & Start\\_Loop & End\\_Loop & Distance\\\\\n",
       " <chr> & <dbl> & <dbl> & <chr> & <chr> & <chr> & <dbl> & <dbl> & <dbl>\\\\\n",
       "\\hline\n",
       "\t chr1 & 10015 & 10442 & ATAC & ATAC & chr1 & 827000 & 828000 & 816559\\\\\n",
       "\t chr1 & 14253 & 14645 & ATAC & ATAC & chr1 & 827000 & 828000 & 812356\\\\\n",
       "\t chr1 & 16015 & 16477 & ATAC & ATAC & chr1 & 827000 & 828000 & 810524\\\\\n",
       "\t chr1 & 17237 & 17772 & ATAC & ATAC & chr1 & 827000 & 828000 & 809229\\\\\n",
       "\t chr1 & 28903 & 29613 & ATAC & ATAC & chr1 & 827000 & 828000 & 797388\\\\\n",
       "\t chr1 & 30803 & 31072 & ATAC & ATAC & chr1 & 827000 & 828000 & 795929\\\\\n",
       "\\end{tabular}\n"
      ],
      "text/markdown": [
       "\n",
       "A tibble: 6 × 9\n",
       "\n",
       "| Chrom &lt;chr&gt; | Start &lt;dbl&gt; | End &lt;dbl&gt; | Assay_Type &lt;chr&gt; | Assay_Label &lt;chr&gt; | Chrom_Loop &lt;chr&gt; | Start_Loop &lt;dbl&gt; | End_Loop &lt;dbl&gt; | Distance &lt;dbl&gt; |\n",
       "|---|---|---|---|---|---|---|---|---|\n",
       "| chr1 | 10015 | 10442 | ATAC | ATAC | chr1 | 827000 | 828000 | 816559 |\n",
       "| chr1 | 14253 | 14645 | ATAC | ATAC | chr1 | 827000 | 828000 | 812356 |\n",
       "| chr1 | 16015 | 16477 | ATAC | ATAC | chr1 | 827000 | 828000 | 810524 |\n",
       "| chr1 | 17237 | 17772 | ATAC | ATAC | chr1 | 827000 | 828000 | 809229 |\n",
       "| chr1 | 28903 | 29613 | ATAC | ATAC | chr1 | 827000 | 828000 | 797388 |\n",
       "| chr1 | 30803 | 31072 | ATAC | ATAC | chr1 | 827000 | 828000 | 795929 |\n",
       "\n"
      ],
      "text/plain": [
       "  Chrom Start End   Assay_Type Assay_Label Chrom_Loop Start_Loop End_Loop\n",
       "1 chr1  10015 10442 ATAC       ATAC        chr1       827000     828000  \n",
       "2 chr1  14253 14645 ATAC       ATAC        chr1       827000     828000  \n",
       "3 chr1  16015 16477 ATAC       ATAC        chr1       827000     828000  \n",
       "4 chr1  17237 17772 ATAC       ATAC        chr1       827000     828000  \n",
       "5 chr1  28903 29613 ATAC       ATAC        chr1       827000     828000  \n",
       "6 chr1  30803 31072 ATAC       ATAC        chr1       827000     828000  \n",
       "  Distance\n",
       "1 816559  \n",
       "2 812356  \n",
       "3 810524  \n",
       "4 809229  \n",
       "5 797388  \n",
       "6 795929  "
      ]
     },
     "metadata": {},
     "output_type": "display_data"
    }
   ],
   "source": [
    "fdiry = FD_OUT\n",
    "fname = \"Loop_B.annotation.enhancer_merge.concat.starrmpra_crispr_atac.active.merge.bed.gz\"\n",
    "fpath = file.path(fdiry, fname)\n",
    "\n",
    "cnames = dat_cnames$Name\n",
    "cnames = c(cnames, \"Chrom_Loop\", \"Start_Loop\", \"End_Loop\", \"Distance\")\n",
    "dat    = read_tsv(fpath, col_names = cnames, show_col_types = FALSE)\n",
    "\n",
    "dat_annot_loop_B = dat\n",
    "print(dim(dat))\n",
    "head(dat)"
   ]
  },
  {
   "cell_type": "code",
   "execution_count": null,
   "metadata": {},
   "outputs": [],
   "source": []
  },
  {
   "cell_type": "code",
   "execution_count": 19,
   "metadata": {},
   "outputs": [
    {
     "data": {
      "text/html": [
       "<table class=\"dataframe\">\n",
       "<caption>A tibble: 6 × 3</caption>\n",
       "<thead>\n",
       "\t<tr><th scope=col>Peak</th><th scope=col>Loop_A</th><th scope=col>Assay_Type</th></tr>\n",
       "\t<tr><th scope=col>&lt;chr&gt;</th><th scope=col>&lt;chr&gt;</th><th scope=col>&lt;chr&gt;</th></tr>\n",
       "</thead>\n",
       "<tbody>\n",
       "\t<tr><td>chr1:777949-779437</td><td>chr1:778000-779000</td><td>ASTARR,ATAC,ENCODE-E2G_Prediction,LMPRA,WSTARR</td></tr>\n",
       "\t<tr><td>chr1:869623-870250</td><td>chr1:868000-870000</td><td>ATAC                                          </td></tr>\n",
       "\t<tr><td>chr1:869623-870250</td><td>chr1:870000-872000</td><td>ATAC                                          </td></tr>\n",
       "\t<tr><td>chr1:869623-870250</td><td>chr1:870000-875000</td><td>ATAC                                          </td></tr>\n",
       "\t<tr><td>chr1:873248-873781</td><td>chr1:870000-875000</td><td>ATAC                                          </td></tr>\n",
       "\t<tr><td>chr1:903633-905556</td><td>chr1:904000-905000</td><td>ATAC,ENCODE-E2G_Prediction,LMPRA              </td></tr>\n",
       "</tbody>\n",
       "</table>\n"
      ],
      "text/latex": [
       "A tibble: 6 × 3\n",
       "\\begin{tabular}{lll}\n",
       " Peak & Loop\\_A & Assay\\_Type\\\\\n",
       " <chr> & <chr> & <chr>\\\\\n",
       "\\hline\n",
       "\t chr1:777949-779437 & chr1:778000-779000 & ASTARR,ATAC,ENCODE-E2G\\_Prediction,LMPRA,WSTARR\\\\\n",
       "\t chr1:869623-870250 & chr1:868000-870000 & ATAC                                          \\\\\n",
       "\t chr1:869623-870250 & chr1:870000-872000 & ATAC                                          \\\\\n",
       "\t chr1:869623-870250 & chr1:870000-875000 & ATAC                                          \\\\\n",
       "\t chr1:873248-873781 & chr1:870000-875000 & ATAC                                          \\\\\n",
       "\t chr1:903633-905556 & chr1:904000-905000 & ATAC,ENCODE-E2G\\_Prediction,LMPRA              \\\\\n",
       "\\end{tabular}\n"
      ],
      "text/markdown": [
       "\n",
       "A tibble: 6 × 3\n",
       "\n",
       "| Peak &lt;chr&gt; | Loop_A &lt;chr&gt; | Assay_Type &lt;chr&gt; |\n",
       "|---|---|---|\n",
       "| chr1:777949-779437 | chr1:778000-779000 | ASTARR,ATAC,ENCODE-E2G_Prediction,LMPRA,WSTARR |\n",
       "| chr1:869623-870250 | chr1:868000-870000 | ATAC                                           |\n",
       "| chr1:869623-870250 | chr1:870000-872000 | ATAC                                           |\n",
       "| chr1:869623-870250 | chr1:870000-875000 | ATAC                                           |\n",
       "| chr1:873248-873781 | chr1:870000-875000 | ATAC                                           |\n",
       "| chr1:903633-905556 | chr1:904000-905000 | ATAC,ENCODE-E2G_Prediction,LMPRA               |\n",
       "\n"
      ],
      "text/plain": [
       "  Peak               Loop_A            \n",
       "1 chr1:777949-779437 chr1:778000-779000\n",
       "2 chr1:869623-870250 chr1:868000-870000\n",
       "3 chr1:869623-870250 chr1:870000-872000\n",
       "4 chr1:869623-870250 chr1:870000-875000\n",
       "5 chr1:873248-873781 chr1:870000-875000\n",
       "6 chr1:903633-905556 chr1:904000-905000\n",
       "  Assay_Type                                    \n",
       "1 ASTARR,ATAC,ENCODE-E2G_Prediction,LMPRA,WSTARR\n",
       "2 ATAC                                          \n",
       "3 ATAC                                          \n",
       "4 ATAC                                          \n",
       "5 ATAC                                          \n",
       "6 ATAC,ENCODE-E2G_Prediction,LMPRA              "
      ]
     },
     "metadata": {},
     "output_type": "display_data"
    }
   ],
   "source": [
    "dat = dat_annot_loop_A\n",
    "dat = dat %>% \n",
    "    dplyr::filter(Distance == 0) %>% \n",
    "    dplyr::mutate(Peak   = paste0(Chrom, \":\", Start, \"-\", End)) %>%\n",
    "    dplyr::mutate(Loop_A = paste0(Chrom_Loop, \":\", Start_Loop, \"-\", End_Loop)) %>%\n",
    "    dplyr::select(Peak, Loop_A, Assay_Type) %>% \n",
    "    dplyr::distinct()\n",
    "head(dat)"
   ]
  },
  {
   "cell_type": "code",
   "execution_count": 23,
   "metadata": {},
   "outputs": [
    {
     "data": {
      "text/html": [
       "<table class=\"dataframe\">\n",
       "<caption>A tibble: 6 × 7</caption>\n",
       "<thead>\n",
       "\t<tr><th scope=col>Chrom</th><th scope=col>Start</th><th scope=col>End</th><th scope=col>Chrom_Loop</th><th scope=col>Start_Loop</th><th scope=col>End_Loop</th><th scope=col>Distance</th></tr>\n",
       "\t<tr><th scope=col>&lt;chr&gt;</th><th scope=col>&lt;dbl&gt;</th><th scope=col>&lt;dbl&gt;</th><th scope=col>&lt;chr&gt;</th><th scope=col>&lt;dbl&gt;</th><th scope=col>&lt;dbl&gt;</th><th scope=col>&lt;dbl&gt;</th></tr>\n",
       "</thead>\n",
       "<tbody>\n",
       "\t<tr><td>chr1</td><td>10015</td><td>10442</td><td>chr1</td><td>778000</td><td>779000</td><td>767559</td></tr>\n",
       "\t<tr><td>chr1</td><td>14253</td><td>14645</td><td>chr1</td><td>778000</td><td>779000</td><td>763356</td></tr>\n",
       "\t<tr><td>chr1</td><td>16015</td><td>16477</td><td>chr1</td><td>778000</td><td>779000</td><td>761524</td></tr>\n",
       "\t<tr><td>chr1</td><td>17237</td><td>17772</td><td>chr1</td><td>778000</td><td>779000</td><td>760229</td></tr>\n",
       "\t<tr><td>chr1</td><td>28903</td><td>29613</td><td>chr1</td><td>778000</td><td>779000</td><td>748388</td></tr>\n",
       "\t<tr><td>chr1</td><td>30803</td><td>31072</td><td>chr1</td><td>778000</td><td>779000</td><td>746929</td></tr>\n",
       "</tbody>\n",
       "</table>\n"
      ],
      "text/latex": [
       "A tibble: 6 × 7\n",
       "\\begin{tabular}{lllllll}\n",
       " Chrom & Start & End & Chrom\\_Loop & Start\\_Loop & End\\_Loop & Distance\\\\\n",
       " <chr> & <dbl> & <dbl> & <chr> & <dbl> & <dbl> & <dbl>\\\\\n",
       "\\hline\n",
       "\t chr1 & 10015 & 10442 & chr1 & 778000 & 779000 & 767559\\\\\n",
       "\t chr1 & 14253 & 14645 & chr1 & 778000 & 779000 & 763356\\\\\n",
       "\t chr1 & 16015 & 16477 & chr1 & 778000 & 779000 & 761524\\\\\n",
       "\t chr1 & 17237 & 17772 & chr1 & 778000 & 779000 & 760229\\\\\n",
       "\t chr1 & 28903 & 29613 & chr1 & 778000 & 779000 & 748388\\\\\n",
       "\t chr1 & 30803 & 31072 & chr1 & 778000 & 779000 & 746929\\\\\n",
       "\\end{tabular}\n"
      ],
      "text/markdown": [
       "\n",
       "A tibble: 6 × 7\n",
       "\n",
       "| Chrom &lt;chr&gt; | Start &lt;dbl&gt; | End &lt;dbl&gt; | Chrom_Loop &lt;chr&gt; | Start_Loop &lt;dbl&gt; | End_Loop &lt;dbl&gt; | Distance &lt;dbl&gt; |\n",
       "|---|---|---|---|---|---|---|\n",
       "| chr1 | 10015 | 10442 | chr1 | 778000 | 779000 | 767559 |\n",
       "| chr1 | 14253 | 14645 | chr1 | 778000 | 779000 | 763356 |\n",
       "| chr1 | 16015 | 16477 | chr1 | 778000 | 779000 | 761524 |\n",
       "| chr1 | 17237 | 17772 | chr1 | 778000 | 779000 | 760229 |\n",
       "| chr1 | 28903 | 29613 | chr1 | 778000 | 779000 | 748388 |\n",
       "| chr1 | 30803 | 31072 | chr1 | 778000 | 779000 | 746929 |\n",
       "\n"
      ],
      "text/plain": [
       "  Chrom Start End   Chrom_Loop Start_Loop End_Loop Distance\n",
       "1 chr1  10015 10442 chr1       778000     779000   767559  \n",
       "2 chr1  14253 14645 chr1       778000     779000   763356  \n",
       "3 chr1  16015 16477 chr1       778000     779000   761524  \n",
       "4 chr1  17237 17772 chr1       778000     779000   760229  \n",
       "5 chr1  28903 29613 chr1       778000     779000   748388  \n",
       "6 chr1  30803 31072 chr1       778000     779000   746929  "
      ]
     },
     "metadata": {},
     "output_type": "display_data"
    }
   ],
   "source": [
    "dat = dat_annot_loop_A\n",
    "dat = dat %>% dplyr::select(\n",
    "    head(names(.), 3),\n",
    "    tail(names(.), 4))\n",
    "head(dat)"
   ]
  },
  {
   "cell_type": "code",
   "execution_count": 21,
   "metadata": {},
   "outputs": [
    {
     "data": {
      "text/html": [
       "<pre class=language-r><code>function (offset = 0L, vars = NULL) \n",
       "{\n",
       "<span style=white-space:pre-wrap>    if (!is_integerish(offset, n = 1)) {</span>\n",
       "<span style=white-space:pre-wrap>        not &lt;- obj_type_friendly(offset)</span>\n",
       "<span style=white-space:pre-wrap>        cli::cli_abort(\"{.arg offset} must be a single integer, not {not}.\")</span>\n",
       "<span style=white-space:pre-wrap>    }</span>\n",
       "<span style=white-space:pre-wrap>    vars &lt;- vars %||% peek_vars(fn = \"last_col\")</span>\n",
       "<span style=white-space:pre-wrap>    n &lt;- length(vars)</span>\n",
       "<span style=white-space:pre-wrap>    if (offset &amp;&amp; n &lt;= offset) {</span>\n",
       "<span style=white-space:pre-wrap>        cli::cli_abort(\"{.arg offset} ({offset}) must be smaller than the number of columns ({n}).\")</span>\n",
       "<span style=white-space:pre-wrap>    }</span>\n",
       "<span style=white-space:pre-wrap>    else if (n == 0) {</span>\n",
       "<span style=white-space:pre-wrap>        cli::cli_abort(\"Can't select last column when input is empty.\")</span>\n",
       "<span style=white-space:pre-wrap>    }</span>\n",
       "<span style=white-space:pre-wrap>    else {</span>\n",
       "<span style=white-space:pre-wrap>        n - as.integer(offset)</span>\n",
       "<span style=white-space:pre-wrap>    }</span>\n",
       "}</code></pre>"
      ],
      "text/latex": [
       "\\begin{minted}{r}\n",
       "function (offset = 0L, vars = NULL) \n",
       "\\{\n",
       "    if (!is\\_integerish(offset, n = 1)) \\{\n",
       "        not <- obj\\_type\\_friendly(offset)\n",
       "        cli::cli\\_abort(\"\\{.arg offset\\} must be a single integer, not \\{not\\}.\")\n",
       "    \\}\n",
       "    vars <- vars \\%\\textbar{}\\textbar{}\\% peek\\_vars(fn = \"last\\_col\")\n",
       "    n <- length(vars)\n",
       "    if (offset \\&\\& n <= offset) \\{\n",
       "        cli::cli\\_abort(\"\\{.arg offset\\} (\\{offset\\}) must be smaller than the number of columns (\\{n\\}).\")\n",
       "    \\}\n",
       "    else if (n == 0) \\{\n",
       "        cli::cli\\_abort(\"Can't select last column when input is empty.\")\n",
       "    \\}\n",
       "    else \\{\n",
       "        n - as.integer(offset)\n",
       "    \\}\n",
       "\\}\n",
       "\\end{minted}"
      ],
      "text/markdown": [
       "```r\n",
       "function (offset = 0L, vars = NULL) \n",
       "{\n",
       "    if (!is_integerish(offset, n = 1)) {\n",
       "        not <- obj_type_friendly(offset)\n",
       "        cli::cli_abort(\"{.arg offset} must be a single integer, not {not}.\")\n",
       "    }\n",
       "    vars <- vars %||% peek_vars(fn = \"last_col\")\n",
       "    n <- length(vars)\n",
       "    if (offset && n <= offset) {\n",
       "        cli::cli_abort(\"{.arg offset} ({offset}) must be smaller than the number of columns ({n}).\")\n",
       "    }\n",
       "    else if (n == 0) {\n",
       "        cli::cli_abort(\"Can't select last column when input is empty.\")\n",
       "    }\n",
       "    else {\n",
       "        n - as.integer(offset)\n",
       "    }\n",
       "}\n",
       "```"
      ],
      "text/plain": [
       "function (offset = 0L, vars = NULL) \n",
       "{\n",
       "    if (!is_integerish(offset, n = 1)) {\n",
       "        not <- obj_type_friendly(offset)\n",
       "        cli::cli_abort(\"{.arg offset} must be a single integer, not {not}.\")\n",
       "    }\n",
       "    vars <- vars %||% peek_vars(fn = \"last_col\")\n",
       "    n <- length(vars)\n",
       "    if (offset && n <= offset) {\n",
       "        cli::cli_abort(\"{.arg offset} ({offset}) must be smaller than the number of columns ({n}).\")\n",
       "    }\n",
       "    else if (n == 0) {\n",
       "        cli::cli_abort(\"Can't select last column when input is empty.\")\n",
       "    }\n",
       "    else {\n",
       "        n - as.integer(offset)\n",
       "    }\n",
       "}\n",
       "<bytecode: 0x55b66b6c3448>\n",
       "<environment: namespace:tidyselect>"
      ]
     },
     "metadata": {},
     "output_type": "display_data"
    }
   ],
   "source": [
    "last_col"
   ]
  },
  {
   "cell_type": "code",
   "execution_count": null,
   "metadata": {},
   "outputs": [],
   "source": []
  }
 ],
 "metadata": {
  "kernelspec": {
   "display_name": "R",
   "language": "R",
   "name": "ir"
  },
  "language_info": {
   "codemirror_mode": "r",
   "file_extension": ".r",
   "mimetype": "text/x-r-source",
   "name": "R",
   "pygments_lexer": "r",
   "version": "4.3.1"
  }
 },
 "nbformat": 4,
 "nbformat_minor": 4
}
