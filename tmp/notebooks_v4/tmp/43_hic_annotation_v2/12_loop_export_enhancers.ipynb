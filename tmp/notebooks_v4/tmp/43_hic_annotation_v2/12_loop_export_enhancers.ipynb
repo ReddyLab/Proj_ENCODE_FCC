{
 "cells": [
  {
   "cell_type": "markdown",
   "metadata": {},
   "source": [
    "**Set environment**"
   ]
  },
  {
   "cell_type": "code",
   "execution_count": 1,
   "metadata": {},
   "outputs": [
    {
     "name": "stdout",
     "output_type": "stream",
     "text": [
      "You are in Singularity: singularity_proj_encode_fcc \n",
      "BASE DIRECTORY (FD_BASE): /data/reddylab/Kuei \n",
      "WORK DIRECTORY (FD_WORK): /data/reddylab/Kuei/out \n",
      "CODE DIRECTORY (FD_CODE): /data/reddylab/Kuei/code \n",
      "PATH OF PROJECT (FD_PRJ): /data/reddylab/Kuei/code/Proj_CombEffect_ENCODE_FCC \n",
      "PATH OF RESULTS (FD_RES): /data/reddylab/Kuei/out/proj_combeffect_encode_fcc \n",
      "PATH OF LOG     (FD_LOG): /data/reddylab/Kuei/out/proj_combeffect_encode_fcc/log \n"
     ]
    }
   ],
   "source": [
    "suppressMessages(suppressWarnings(source(\"../config/config_sing.R\")))\n",
    "show_env()"
   ]
  },
  {
   "cell_type": "markdown",
   "metadata": {},
   "source": [
    "**Check data files**"
   ]
  },
  {
   "cell_type": "code",
   "execution_count": 4,
   "metadata": {},
   "outputs": [
    {
     "name": "stdout",
     "output_type": "stream",
     "text": [
      "peak.summary.crispri_growth.dhs.active.tsv \n",
      "peak.summary.crispri_hcrff.casa.merge.tsv \n",
      "peak.summary.encode_e2g_benchmark.active.merge.tsv \n",
      "peak.summary.encode_e2g_prediction.active.merge.tsv \n",
      "peak.summary.enhancer_zscore_junke.concat.tsv \n",
      "peak.summary.KS91_K562_ASTARRseq_peak_macs_input.tsv \n"
     ]
    }
   ],
   "source": [
    "FOLDER_REG = \"hic_intact_deep\"\n",
    "\n",
    "fdiry = file.path(FD_RES, \"results\", \"region\", FOLDER_REG, \"summary\")\n",
    "for (fname in dir(fdiry)){cat(fname, \"\\n\")}"
   ]
  },
  {
   "cell_type": "markdown",
   "metadata": {},
   "source": [
    "## Import data"
   ]
  },
  {
   "cell_type": "code",
   "execution_count": 35,
   "metadata": {},
   "outputs": [
    {
     "name": "stdout",
     "output_type": "stream",
     "text": [
      "[1] 1424119       6\n"
     ]
    },
    {
     "data": {
      "text/html": [
       "<table class=\"dataframe\">\n",
       "<caption>A tibble: 6 × 6</caption>\n",
       "<thead>\n",
       "\t<tr><th scope=col>Peak</th><th scope=col>Loop</th><th scope=col>Distance</th><th scope=col>Annotation</th><th scope=col>Label_Peak</th><th scope=col>Label_Loop</th></tr>\n",
       "\t<tr><th scope=col>&lt;chr&gt;</th><th scope=col>&lt;chr&gt;</th><th scope=col>&lt;dbl&gt;</th><th scope=col>&lt;chr&gt;</th><th scope=col>&lt;chr&gt;</th><th scope=col>&lt;chr&gt;</th></tr>\n",
       "</thead>\n",
       "<tbody>\n",
       "\t<tr><td>chr1:605550-605627</td><td>chr1:778000-779000  </td><td>172374</td><td>CRISPRi</td><td>CRISPRi-Growth</td><td>Loop_A</td></tr>\n",
       "\t<tr><td>chr1:826642-827902</td><td>chr1:868000-870000  </td><td> 40099</td><td>CRISPRi</td><td>CRISPRi-Growth</td><td>Loop_A</td></tr>\n",
       "\t<tr><td>chr1:964946-965136</td><td>chr1:955000-960000  </td><td>  4947</td><td>CRISPRi</td><td>CRISPRi-Growth</td><td>Loop_A</td></tr>\n",
       "\t<tr><td>chr1:964946-965136</td><td>chr1:958000-960000  </td><td>  4947</td><td>CRISPRi</td><td>CRISPRi-Growth</td><td>Loop_A</td></tr>\n",
       "\t<tr><td>chr1:964946-965136</td><td>chr1:959000-960000  </td><td>  4947</td><td>CRISPRi</td><td>CRISPRi-Growth</td><td>Loop_A</td></tr>\n",
       "\t<tr><td>chr1:995761-996190</td><td>chr1:1000000-1001000</td><td>  3811</td><td>CRISPRi</td><td>CRISPRi-Growth</td><td>Loop_A</td></tr>\n",
       "</tbody>\n",
       "</table>\n"
      ],
      "text/latex": [
       "A tibble: 6 × 6\n",
       "\\begin{tabular}{llllll}\n",
       " Peak & Loop & Distance & Annotation & Label\\_Peak & Label\\_Loop\\\\\n",
       " <chr> & <chr> & <dbl> & <chr> & <chr> & <chr>\\\\\n",
       "\\hline\n",
       "\t chr1:605550-605627 & chr1:778000-779000   & 172374 & CRISPRi & CRISPRi-Growth & Loop\\_A\\\\\n",
       "\t chr1:826642-827902 & chr1:868000-870000   &  40099 & CRISPRi & CRISPRi-Growth & Loop\\_A\\\\\n",
       "\t chr1:964946-965136 & chr1:955000-960000   &   4947 & CRISPRi & CRISPRi-Growth & Loop\\_A\\\\\n",
       "\t chr1:964946-965136 & chr1:958000-960000   &   4947 & CRISPRi & CRISPRi-Growth & Loop\\_A\\\\\n",
       "\t chr1:964946-965136 & chr1:959000-960000   &   4947 & CRISPRi & CRISPRi-Growth & Loop\\_A\\\\\n",
       "\t chr1:995761-996190 & chr1:1000000-1001000 &   3811 & CRISPRi & CRISPRi-Growth & Loop\\_A\\\\\n",
       "\\end{tabular}\n"
      ],
      "text/markdown": [
       "\n",
       "A tibble: 6 × 6\n",
       "\n",
       "| Peak &lt;chr&gt; | Loop &lt;chr&gt; | Distance &lt;dbl&gt; | Annotation &lt;chr&gt; | Label_Peak &lt;chr&gt; | Label_Loop &lt;chr&gt; |\n",
       "|---|---|---|---|---|---|\n",
       "| chr1:605550-605627 | chr1:778000-779000   | 172374 | CRISPRi | CRISPRi-Growth | Loop_A |\n",
       "| chr1:826642-827902 | chr1:868000-870000   |  40099 | CRISPRi | CRISPRi-Growth | Loop_A |\n",
       "| chr1:964946-965136 | chr1:955000-960000   |   4947 | CRISPRi | CRISPRi-Growth | Loop_A |\n",
       "| chr1:964946-965136 | chr1:958000-960000   |   4947 | CRISPRi | CRISPRi-Growth | Loop_A |\n",
       "| chr1:964946-965136 | chr1:959000-960000   |   4947 | CRISPRi | CRISPRi-Growth | Loop_A |\n",
       "| chr1:995761-996190 | chr1:1000000-1001000 |   3811 | CRISPRi | CRISPRi-Growth | Loop_A |\n",
       "\n"
      ],
      "text/plain": [
       "  Peak               Loop                 Distance Annotation Label_Peak    \n",
       "1 chr1:605550-605627 chr1:778000-779000   172374   CRISPRi    CRISPRi-Growth\n",
       "2 chr1:826642-827902 chr1:868000-870000    40099   CRISPRi    CRISPRi-Growth\n",
       "3 chr1:964946-965136 chr1:955000-960000     4947   CRISPRi    CRISPRi-Growth\n",
       "4 chr1:964946-965136 chr1:958000-960000     4947   CRISPRi    CRISPRi-Growth\n",
       "5 chr1:964946-965136 chr1:959000-960000     4947   CRISPRi    CRISPRi-Growth\n",
       "6 chr1:995761-996190 chr1:1000000-1001000   3811   CRISPRi    CRISPRi-Growth\n",
       "  Label_Loop\n",
       "1 Loop_A    \n",
       "2 Loop_A    \n",
       "3 Loop_A    \n",
       "4 Loop_A    \n",
       "5 Loop_A    \n",
       "6 Loop_A    "
      ]
     },
     "metadata": {},
     "output_type": "display_data"
    }
   ],
   "source": [
    "### get file paths\n",
    "fdiry  = file.path(FD_RES, \"results\", \"region\", FOLDER_REG, \"summary\")\n",
    "fname  = \"peak.summary.*\"\n",
    "fglob  = file.path(fdiry, fname)\n",
    "fpaths = Sys.glob(fglob)\n",
    "\n",
    "### read tables\n",
    "lst = lapply(fpaths, function(fpath){\n",
    "    dat = read_tsv(fpath, show_col_types = FALSE)\n",
    "    return(dat)\n",
    "})\n",
    "\n",
    "dat = bind_rows(lst)\n",
    "\n",
    "### assign and show\n",
    "dat_peak_summary_combine = dat\n",
    "print(dim(dat))\n",
    "head(dat)"
   ]
  },
  {
   "cell_type": "code",
   "execution_count": 31,
   "metadata": {},
   "outputs": [
    {
     "name": "stdout",
     "output_type": "stream",
     "text": [
      "ASTARR_A \n",
      "9368 \n",
      "\n",
      "ASTARR_AB \n",
      "3123 \n",
      "\n",
      "ASTARR_R \n",
      "17897 \n",
      "\n",
      "ATAC \n",
      "230509 \n",
      "\n",
      "CRISPRi-Growth \n",
      "6242 \n",
      "\n",
      "CRISPRi-HCRFF \n",
      "80 \n",
      "\n",
      "ENCODE-E2G_Benchmark \n",
      "409 \n",
      "\n",
      "ENCODE-E2G_Prediction \n",
      "51829 \n",
      "\n",
      "LMPRA_A \n",
      "40096 \n",
      "\n",
      "LMPRA_AB \n",
      "26732 \n",
      "\n",
      "LMPRA_R \n",
      "1525 \n",
      "\n",
      "TMPRA_A \n",
      "8294 \n",
      "\n",
      "TMPRA_R \n",
      "363 \n",
      "\n",
      "WSTARR_A \n",
      "79738 \n",
      "\n",
      "WSTARR_AB \n",
      "25505 \n",
      "\n",
      "WSTARR_R \n",
      "62201 \n",
      "\n"
     ]
    }
   ],
   "source": [
    "dat = dat_peak_summary_combine\n",
    "lst = split(dat$Peak, dat$Label_Peak)\n",
    "for (idx in names(lst)){\n",
    "    cat(idx, \"\\n\")\n",
    "    vec = lst[[idx]]\n",
    "    vec = unique(vec)\n",
    "    cat(length(vec), \"\\n\")\n",
    "    cat(\"\\n\")\n",
    "}"
   ]
  },
  {
   "cell_type": "markdown",
   "metadata": {},
   "source": [
    "## Filter to get looped peaks"
   ]
  },
  {
   "cell_type": "code",
   "execution_count": 32,
   "metadata": {},
   "outputs": [
    {
     "name": "stdout",
     "output_type": "stream",
     "text": [
      "ASTARR_A \n",
      "6106 \n",
      "\n",
      "ASTARR_AB \n",
      "2095 \n",
      "\n",
      "ASTARR_R \n",
      "12235 \n",
      "\n",
      "ATAC \n",
      "65084 \n",
      "\n",
      "CRISPRi-Growth \n",
      "3183 \n",
      "\n",
      "CRISPRi-HCRFF \n",
      "55 \n",
      "\n",
      "ENCODE-E2G_Benchmark \n",
      "342 \n",
      "\n",
      "ENCODE-E2G_Prediction \n",
      "32449 \n",
      "\n",
      "LMPRA_A \n",
      "21085 \n",
      "\n",
      "LMPRA_AB \n",
      "14303 \n",
      "\n",
      "LMPRA_R \n",
      "579 \n",
      "\n",
      "TMPRA_A \n",
      "1391 \n",
      "\n",
      "TMPRA_R \n",
      "51 \n",
      "\n",
      "WSTARR_A \n",
      "22816 \n",
      "\n",
      "WSTARR_AB \n",
      "10454 \n",
      "\n",
      "WSTARR_R \n",
      "6789 \n",
      "\n"
     ]
    }
   ],
   "source": [
    "dat = dat_peak_summary_combine\n",
    "\n",
    "### filter\n",
    "dat = dat %>% \n",
    "    dplyr::filter(Distance == 0) %>%\n",
    "    dplyr::select(Peak, Label_Peak) %>%\n",
    "    tidyr::separate(Peak, c(\"Chrom\", \"Start\", \"End\"), remove = FALSE)\n",
    "\n",
    "### split by assays and arrange\n",
    "lst = split(dat, dat$Label_Peak)\n",
    "lst = lapply(lst, function(dat){\n",
    "    dat = dat %>% \n",
    "        dplyr::select(Chrom, Start, End, Peak) %>%\n",
    "        dplyr::arrange(Chrom, Start, End) %>%\n",
    "        dplyr::distinct()\n",
    "    return(dat)\n",
    "})\n",
    "\n",
    "### assign and show\n",
    "lst_dat_peak_summary_filter = lst\n",
    "\n",
    "for (idx in names(lst)){\n",
    "    cat(idx, \"\\n\")\n",
    "    dat = lst[[idx]]\n",
    "    cat(nrow(dat), \"\\n\")\n",
    "    cat(\"\\n\")\n",
    "}"
   ]
  },
  {
   "cell_type": "code",
   "execution_count": 33,
   "metadata": {},
   "outputs": [
    {
     "data": {
      "text/html": [
       "<table class=\"dataframe\">\n",
       "<caption>A tibble: 6 × 4</caption>\n",
       "<thead>\n",
       "\t<tr><th scope=col>Chrom</th><th scope=col>Start</th><th scope=col>End</th><th scope=col>Peak</th></tr>\n",
       "\t<tr><th scope=col>&lt;chr&gt;</th><th scope=col>&lt;chr&gt;</th><th scope=col>&lt;chr&gt;</th><th scope=col>&lt;chr&gt;</th></tr>\n",
       "</thead>\n",
       "<tbody>\n",
       "\t<tr><td>chr1</td><td>100133020</td><td>100133120</td><td>chr1:100133020-100133120</td></tr>\n",
       "\t<tr><td>chr1</td><td>100322940</td><td>100323170</td><td>chr1:100322940-100323170</td></tr>\n",
       "\t<tr><td>chr1</td><td>100347430</td><td>100348010</td><td>chr1:100347430-100348010</td></tr>\n",
       "\t<tr><td>chr1</td><td>100352390</td><td>100352520</td><td>chr1:100352390-100352520</td></tr>\n",
       "\t<tr><td>chr1</td><td>100785600</td><td>100785700</td><td>chr1:100785600-100785700</td></tr>\n",
       "\t<tr><td>chr1</td><td>10415490 </td><td>10415720 </td><td>chr1:10415490-10415720  </td></tr>\n",
       "</tbody>\n",
       "</table>\n"
      ],
      "text/latex": [
       "A tibble: 6 × 4\n",
       "\\begin{tabular}{llll}\n",
       " Chrom & Start & End & Peak\\\\\n",
       " <chr> & <chr> & <chr> & <chr>\\\\\n",
       "\\hline\n",
       "\t chr1 & 100133020 & 100133120 & chr1:100133020-100133120\\\\\n",
       "\t chr1 & 100322940 & 100323170 & chr1:100322940-100323170\\\\\n",
       "\t chr1 & 100347430 & 100348010 & chr1:100347430-100348010\\\\\n",
       "\t chr1 & 100352390 & 100352520 & chr1:100352390-100352520\\\\\n",
       "\t chr1 & 100785600 & 100785700 & chr1:100785600-100785700\\\\\n",
       "\t chr1 & 10415490  & 10415720  & chr1:10415490-10415720  \\\\\n",
       "\\end{tabular}\n"
      ],
      "text/markdown": [
       "\n",
       "A tibble: 6 × 4\n",
       "\n",
       "| Chrom &lt;chr&gt; | Start &lt;chr&gt; | End &lt;chr&gt; | Peak &lt;chr&gt; |\n",
       "|---|---|---|---|\n",
       "| chr1 | 100133020 | 100133120 | chr1:100133020-100133120 |\n",
       "| chr1 | 100322940 | 100323170 | chr1:100322940-100323170 |\n",
       "| chr1 | 100347430 | 100348010 | chr1:100347430-100348010 |\n",
       "| chr1 | 100352390 | 100352520 | chr1:100352390-100352520 |\n",
       "| chr1 | 100785600 | 100785700 | chr1:100785600-100785700 |\n",
       "| chr1 | 10415490  | 10415720  | chr1:10415490-10415720   |\n",
       "\n"
      ],
      "text/plain": [
       "  Chrom Start     End       Peak                    \n",
       "1 chr1  100133020 100133120 chr1:100133020-100133120\n",
       "2 chr1  100322940 100323170 chr1:100322940-100323170\n",
       "3 chr1  100347430 100348010 chr1:100347430-100348010\n",
       "4 chr1  100352390 100352520 chr1:100352390-100352520\n",
       "5 chr1  100785600 100785700 chr1:100785600-100785700\n",
       "6 chr1  10415490  10415720  chr1:10415490-10415720  "
      ]
     },
     "metadata": {},
     "output_type": "display_data"
    }
   ],
   "source": [
    "lst = lst_dat_peak_summary_filter\n",
    "dat = lst[[1]]\n",
    "head(dat)"
   ]
  },
  {
   "cell_type": "markdown",
   "metadata": {},
   "source": [
    "## Save results"
   ]
  },
  {
   "cell_type": "code",
   "execution_count": 34,
   "metadata": {},
   "outputs": [],
   "source": [
    "lst = lst_dat_peak_summary_filter\n",
    "\n",
    "for (idx in names(lst)){\n",
    "    \n",
    "    ### get table\n",
    "    dat = lst[[idx]]\n",
    "    \n",
    "    ### set file name\n",
    "    txt = idx\n",
    "    txt = tolower(txt)\n",
    "    txt = str_replace(string = txt, pattern = \"-\", replacement = \"_\")\n",
    "    \n",
    "    ### set file path\n",
    "    fdiry = file.path(FD_RES, \"results\", \"region\", FOLDER_REG, \"summary\")\n",
    "    fname = paste(\"peak.looped\", txt, \"bed.gz\", sep=\".\")\n",
    "    fpath = file.path(fdiry, fname)\n",
    "    \n",
    "    ### write table\n",
    "    write_tsv(dat, fpath)\n",
    "}"
   ]
  },
  {
   "cell_type": "code",
   "execution_count": null,
   "metadata": {},
   "outputs": [],
   "source": []
  }
 ],
 "metadata": {
  "kernelspec": {
   "display_name": "R",
   "language": "R",
   "name": "ir"
  },
  "language_info": {
   "codemirror_mode": "r",
   "file_extension": ".r",
   "mimetype": "text/x-r-source",
   "name": "R",
   "pygments_lexer": "r",
   "version": "4.3.1"
  }
 },
 "nbformat": 4,
 "nbformat_minor": 4
}
