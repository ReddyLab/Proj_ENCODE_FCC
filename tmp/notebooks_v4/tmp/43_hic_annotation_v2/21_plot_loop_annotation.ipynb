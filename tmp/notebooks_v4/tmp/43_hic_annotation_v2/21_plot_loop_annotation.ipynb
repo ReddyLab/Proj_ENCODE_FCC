{
 "cells": [
  {
   "cell_type": "markdown",
   "metadata": {},
   "source": [
    "**Set environment**"
   ]
  },
  {
   "cell_type": "code",
   "execution_count": 1,
   "metadata": {},
   "outputs": [
    {
     "name": "stdout",
     "output_type": "stream",
     "text": [
      "You are in Singularity: singularity_proj_encode_fcc \n",
      "BASE DIRECTORY (FD_BASE): /data/reddylab/Kuei \n",
      "WORK DIRECTORY (FD_WORK): /data/reddylab/Kuei/out \n",
      "CODE DIRECTORY (FD_CODE): /data/reddylab/Kuei/code \n",
      "PATH OF PROJECT (FD_PRJ): /data/reddylab/Kuei/code/Proj_CombEffect_ENCODE_FCC \n",
      "PATH OF RESULTS (FD_RES): /data/reddylab/Kuei/out/proj_combeffect_encode_fcc \n",
      "PATH OF LOG     (FD_LOG): /data/reddylab/Kuei/out/proj_combeffect_encode_fcc/log \n"
     ]
    }
   ],
   "source": [
    "suppressMessages(suppressWarnings(source(\"../config/config_sing.R\")))\n",
    "show_env()"
   ]
  },
  {
   "cell_type": "markdown",
   "metadata": {},
   "source": [
    "**Check data files**"
   ]
  },
  {
   "cell_type": "code",
   "execution_count": 2,
   "metadata": {},
   "outputs": [
    {
     "name": "stdout",
     "output_type": "stream",
     "text": [
      "peak.looped.astarr_a.bed.gz \n",
      "peak.looped.astarr_ab.bed.gz \n",
      "peak.looped.astarr_r.bed.gz \n",
      "peak.looped.atac.bed.gz \n",
      "peak.looped.crispri_growth.bed.gz \n",
      "peak.looped.crispri_hcrff.bed.gz \n",
      "peak.looped.encode_e2g_benchmark.bed.gz \n",
      "peak.looped.encode_e2g_prediction.bed.gz \n",
      "peak.looped.lmpra_a.bed.gz \n",
      "peak.looped.lmpra_ab.bed.gz \n",
      "peak.looped.lmpra_r.bed.gz \n",
      "peak.looped.tmpra_a.bed.gz \n",
      "peak.looped.tmpra_r.bed.gz \n",
      "peak.looped.wstarr_a.bed.gz \n",
      "peak.looped.wstarr_ab.bed.gz \n",
      "peak.looped.wstarr_r.bed.gz \n",
      "peak.summary.crispri_growth.dhs.active.tsv \n",
      "peak.summary.crispri_hcrff.casa.merge.tsv \n",
      "peak.summary.encode_e2g_benchmark.active.merge.tsv \n",
      "peak.summary.encode_e2g_prediction.active.merge.tsv \n",
      "peak.summary.enhancer_zscore_junke.concat.tsv \n",
      "peak.summary.KS91_K562_ASTARRseq_peak_macs_input.tsv \n"
     ]
    }
   ],
   "source": [
    "FOLDER_REG = \"hic_intact_deep\"\n",
    "\n",
    "fdiry = file.path(FD_RES, \"results\", \"region\", FOLDER_REG, \"summary\")\n",
    "for (fname in dir(fdiry)){cat(fname, \"\\n\")}"
   ]
  },
  {
   "cell_type": "markdown",
   "metadata": {},
   "source": [
    "## Import data"
   ]
  },
  {
   "cell_type": "code",
   "execution_count": 3,
   "metadata": {},
   "outputs": [
    {
     "name": "stdout",
     "output_type": "stream",
     "text": [
      "[1] 1424119       6\n"
     ]
    },
    {
     "data": {
      "text/html": [
       "<table class=\"dataframe\">\n",
       "<caption>A tibble: 6 × 6</caption>\n",
       "<thead>\n",
       "\t<tr><th scope=col>Peak</th><th scope=col>Loop</th><th scope=col>Distance</th><th scope=col>Annotation</th><th scope=col>Label_Peak</th><th scope=col>Label_Loop</th></tr>\n",
       "\t<tr><th scope=col>&lt;chr&gt;</th><th scope=col>&lt;chr&gt;</th><th scope=col>&lt;dbl&gt;</th><th scope=col>&lt;chr&gt;</th><th scope=col>&lt;chr&gt;</th><th scope=col>&lt;chr&gt;</th></tr>\n",
       "</thead>\n",
       "<tbody>\n",
       "\t<tr><td>chr1:605550-605627</td><td>chr1:778000-779000  </td><td>172374</td><td>CRISPRi</td><td>CRISPRi-Growth</td><td>Loop_A</td></tr>\n",
       "\t<tr><td>chr1:826642-827902</td><td>chr1:868000-870000  </td><td> 40099</td><td>CRISPRi</td><td>CRISPRi-Growth</td><td>Loop_A</td></tr>\n",
       "\t<tr><td>chr1:964946-965136</td><td>chr1:955000-960000  </td><td>  4947</td><td>CRISPRi</td><td>CRISPRi-Growth</td><td>Loop_A</td></tr>\n",
       "\t<tr><td>chr1:964946-965136</td><td>chr1:958000-960000  </td><td>  4947</td><td>CRISPRi</td><td>CRISPRi-Growth</td><td>Loop_A</td></tr>\n",
       "\t<tr><td>chr1:964946-965136</td><td>chr1:959000-960000  </td><td>  4947</td><td>CRISPRi</td><td>CRISPRi-Growth</td><td>Loop_A</td></tr>\n",
       "\t<tr><td>chr1:995761-996190</td><td>chr1:1000000-1001000</td><td>  3811</td><td>CRISPRi</td><td>CRISPRi-Growth</td><td>Loop_A</td></tr>\n",
       "</tbody>\n",
       "</table>\n"
      ],
      "text/latex": [
       "A tibble: 6 × 6\n",
       "\\begin{tabular}{llllll}\n",
       " Peak & Loop & Distance & Annotation & Label\\_Peak & Label\\_Loop\\\\\n",
       " <chr> & <chr> & <dbl> & <chr> & <chr> & <chr>\\\\\n",
       "\\hline\n",
       "\t chr1:605550-605627 & chr1:778000-779000   & 172374 & CRISPRi & CRISPRi-Growth & Loop\\_A\\\\\n",
       "\t chr1:826642-827902 & chr1:868000-870000   &  40099 & CRISPRi & CRISPRi-Growth & Loop\\_A\\\\\n",
       "\t chr1:964946-965136 & chr1:955000-960000   &   4947 & CRISPRi & CRISPRi-Growth & Loop\\_A\\\\\n",
       "\t chr1:964946-965136 & chr1:958000-960000   &   4947 & CRISPRi & CRISPRi-Growth & Loop\\_A\\\\\n",
       "\t chr1:964946-965136 & chr1:959000-960000   &   4947 & CRISPRi & CRISPRi-Growth & Loop\\_A\\\\\n",
       "\t chr1:995761-996190 & chr1:1000000-1001000 &   3811 & CRISPRi & CRISPRi-Growth & Loop\\_A\\\\\n",
       "\\end{tabular}\n"
      ],
      "text/markdown": [
       "\n",
       "A tibble: 6 × 6\n",
       "\n",
       "| Peak &lt;chr&gt; | Loop &lt;chr&gt; | Distance &lt;dbl&gt; | Annotation &lt;chr&gt; | Label_Peak &lt;chr&gt; | Label_Loop &lt;chr&gt; |\n",
       "|---|---|---|---|---|---|\n",
       "| chr1:605550-605627 | chr1:778000-779000   | 172374 | CRISPRi | CRISPRi-Growth | Loop_A |\n",
       "| chr1:826642-827902 | chr1:868000-870000   |  40099 | CRISPRi | CRISPRi-Growth | Loop_A |\n",
       "| chr1:964946-965136 | chr1:955000-960000   |   4947 | CRISPRi | CRISPRi-Growth | Loop_A |\n",
       "| chr1:964946-965136 | chr1:958000-960000   |   4947 | CRISPRi | CRISPRi-Growth | Loop_A |\n",
       "| chr1:964946-965136 | chr1:959000-960000   |   4947 | CRISPRi | CRISPRi-Growth | Loop_A |\n",
       "| chr1:995761-996190 | chr1:1000000-1001000 |   3811 | CRISPRi | CRISPRi-Growth | Loop_A |\n",
       "\n"
      ],
      "text/plain": [
       "  Peak               Loop                 Distance Annotation Label_Peak    \n",
       "1 chr1:605550-605627 chr1:778000-779000   172374   CRISPRi    CRISPRi-Growth\n",
       "2 chr1:826642-827902 chr1:868000-870000    40099   CRISPRi    CRISPRi-Growth\n",
       "3 chr1:964946-965136 chr1:955000-960000     4947   CRISPRi    CRISPRi-Growth\n",
       "4 chr1:964946-965136 chr1:958000-960000     4947   CRISPRi    CRISPRi-Growth\n",
       "5 chr1:964946-965136 chr1:959000-960000     4947   CRISPRi    CRISPRi-Growth\n",
       "6 chr1:995761-996190 chr1:1000000-1001000   3811   CRISPRi    CRISPRi-Growth\n",
       "  Label_Loop\n",
       "1 Loop_A    \n",
       "2 Loop_A    \n",
       "3 Loop_A    \n",
       "4 Loop_A    \n",
       "5 Loop_A    \n",
       "6 Loop_A    "
      ]
     },
     "metadata": {},
     "output_type": "display_data"
    }
   ],
   "source": [
    "### get file paths\n",
    "fdiry  = file.path(FD_RES, \"results\", \"region\", FOLDER_REG, \"summary\")\n",
    "fname  = \"peak.summary.*\"\n",
    "fglob  = file.path(fdiry, fname)\n",
    "fpaths = Sys.glob(fglob)\n",
    "\n",
    "### read tables\n",
    "lst = lapply(fpaths, function(fpath){\n",
    "    dat = read_tsv(fpath, show_col_types = FALSE)\n",
    "    return(dat)\n",
    "})\n",
    "\n",
    "dat = bind_rows(lst)\n",
    "\n",
    "### assign and show\n",
    "dat_peak_summary_combine = dat\n",
    "print(dim(dat))\n",
    "head(dat)"
   ]
  },
  {
   "cell_type": "markdown",
   "metadata": {},
   "source": [
    "## Arrange and summary"
   ]
  },
  {
   "cell_type": "code",
   "execution_count": 4,
   "metadata": {},
   "outputs": [],
   "source": [
    "dat = dat_peak_summary_combine\n",
    "\n",
    "### summarize\n",
    "dat = dat %>% \n",
    "    dplyr::group_by(Peak, Annotation, Label_Peak) %>%\n",
    "    dplyr::summarise(Distance = min(Distance), .groups = \"drop\")\n",
    "dat_peak_distance = dat\n",
    "\n",
    "### filter\n",
    "dat = dat %>% dplyr::filter(Distance == 0)\n",
    "dat_peak_looped = dat"
   ]
  },
  {
   "cell_type": "code",
   "execution_count": 5,
   "metadata": {},
   "outputs": [
    {
     "data": {
      "text/html": [
       "<table class=\"dataframe\">\n",
       "<caption>A tibble: 16 × 6</caption>\n",
       "<thead>\n",
       "\t<tr><th scope=col>Assay</th><th scope=col>Count</th><th scope=col>Total</th><th scope=col>Freq</th><th scope=col>Count_Label</th><th scope=col>Assay_Label</th></tr>\n",
       "\t<tr><th scope=col>&lt;chr&gt;</th><th scope=col>&lt;int&gt;</th><th scope=col>&lt;int&gt;</th><th scope=col>&lt;dbl&gt;</th><th scope=col>&lt;chr&gt;</th><th scope=col>&lt;chr&gt;</th></tr>\n",
       "</thead>\n",
       "<tbody>\n",
       "\t<tr><td>ASTARR_A             </td><td> 6106</td><td>  9368</td><td>0.6517933</td><td>9K  </td><td>ASTARR_A\n",
       "(9K)              </td></tr>\n",
       "\t<tr><td>ASTARR_AB            </td><td> 2095</td><td>  3123</td><td>0.6708293</td><td>3K  </td><td>ASTARR_AB\n",
       "(3K)             </td></tr>\n",
       "\t<tr><td>ASTARR_R             </td><td>12235</td><td> 17897</td><td>0.6836341</td><td>18K </td><td>ASTARR_R\n",
       "(18K)             </td></tr>\n",
       "\t<tr><td>ATAC                 </td><td>65084</td><td>230509</td><td>0.2823491</td><td>231K</td><td>ATAC\n",
       "(231K)                </td></tr>\n",
       "\t<tr><td>CRISPRi-Growth       </td><td> 3183</td><td>  6242</td><td>0.5099327</td><td>6K  </td><td>CRISPRi-Growth\n",
       "(6K)        </td></tr>\n",
       "\t<tr><td>CRISPRi-HCRFF        </td><td>   55</td><td>    80</td><td>0.6875000</td><td>80  </td><td>CRISPRi-HCRFF\n",
       "(80)         </td></tr>\n",
       "\t<tr><td>ENCODE-E2G_Benchmark </td><td>  342</td><td>   409</td><td>0.8361858</td><td>409 </td><td>ENCODE-E2G_Benchmark\n",
       "(409) </td></tr>\n",
       "\t<tr><td>ENCODE-E2G_Prediction</td><td>32449</td><td> 51829</td><td>0.6260781</td><td>52K </td><td>ENCODE-E2G_Prediction\n",
       "(52K)</td></tr>\n",
       "\t<tr><td>LMPRA_A              </td><td>21085</td><td> 40096</td><td>0.5258629</td><td>40K </td><td>LMPRA_A\n",
       "(40K)              </td></tr>\n",
       "\t<tr><td>LMPRA_AB             </td><td>14303</td><td> 26732</td><td>0.5350516</td><td>27K </td><td>LMPRA_AB\n",
       "(27K)             </td></tr>\n",
       "\t<tr><td>LMPRA_R              </td><td>  579</td><td>  1525</td><td>0.3796721</td><td>2K  </td><td>LMPRA_R\n",
       "(2K)               </td></tr>\n",
       "\t<tr><td>TMPRA_A              </td><td> 1391</td><td>  8294</td><td>0.1677116</td><td>8K  </td><td>TMPRA_A\n",
       "(8K)               </td></tr>\n",
       "\t<tr><td>TMPRA_R              </td><td>   51</td><td>   363</td><td>0.1404959</td><td>363 </td><td>TMPRA_R\n",
       "(363)              </td></tr>\n",
       "\t<tr><td>WSTARR_A             </td><td>22816</td><td> 79738</td><td>0.2861371</td><td>80K </td><td>WSTARR_A\n",
       "(80K)             </td></tr>\n",
       "\t<tr><td>WSTARR_AB            </td><td>10454</td><td> 25505</td><td>0.4098804</td><td>26K </td><td>WSTARR_AB\n",
       "(26K)            </td></tr>\n",
       "\t<tr><td>WSTARR_R             </td><td> 6789</td><td> 62201</td><td>0.1091462</td><td>62K </td><td>WSTARR_R\n",
       "(62K)             </td></tr>\n",
       "</tbody>\n",
       "</table>\n"
      ],
      "text/latex": [
       "A tibble: 16 × 6\n",
       "\\begin{tabular}{llllll}\n",
       " Assay & Count & Total & Freq & Count\\_Label & Assay\\_Label\\\\\n",
       " <chr> & <int> & <int> & <dbl> & <chr> & <chr>\\\\\n",
       "\\hline\n",
       "\t ASTARR\\_A              &  6106 &   9368 & 0.6517933 & 9K   & ASTARR\\_A\n",
       "(9K)              \\\\\n",
       "\t ASTARR\\_AB             &  2095 &   3123 & 0.6708293 & 3K   & ASTARR\\_AB\n",
       "(3K)             \\\\\n",
       "\t ASTARR\\_R              & 12235 &  17897 & 0.6836341 & 18K  & ASTARR\\_R\n",
       "(18K)             \\\\\n",
       "\t ATAC                  & 65084 & 230509 & 0.2823491 & 231K & ATAC\n",
       "(231K)                \\\\\n",
       "\t CRISPRi-Growth        &  3183 &   6242 & 0.5099327 & 6K   & CRISPRi-Growth\n",
       "(6K)        \\\\\n",
       "\t CRISPRi-HCRFF         &    55 &     80 & 0.6875000 & 80   & CRISPRi-HCRFF\n",
       "(80)         \\\\\n",
       "\t ENCODE-E2G\\_Benchmark  &   342 &    409 & 0.8361858 & 409  & ENCODE-E2G\\_Benchmark\n",
       "(409) \\\\\n",
       "\t ENCODE-E2G\\_Prediction & 32449 &  51829 & 0.6260781 & 52K  & ENCODE-E2G\\_Prediction\n",
       "(52K)\\\\\n",
       "\t LMPRA\\_A               & 21085 &  40096 & 0.5258629 & 40K  & LMPRA\\_A\n",
       "(40K)              \\\\\n",
       "\t LMPRA\\_AB              & 14303 &  26732 & 0.5350516 & 27K  & LMPRA\\_AB\n",
       "(27K)             \\\\\n",
       "\t LMPRA\\_R               &   579 &   1525 & 0.3796721 & 2K   & LMPRA\\_R\n",
       "(2K)               \\\\\n",
       "\t TMPRA\\_A               &  1391 &   8294 & 0.1677116 & 8K   & TMPRA\\_A\n",
       "(8K)               \\\\\n",
       "\t TMPRA\\_R               &    51 &    363 & 0.1404959 & 363  & TMPRA\\_R\n",
       "(363)              \\\\\n",
       "\t WSTARR\\_A              & 22816 &  79738 & 0.2861371 & 80K  & WSTARR\\_A\n",
       "(80K)             \\\\\n",
       "\t WSTARR\\_AB             & 10454 &  25505 & 0.4098804 & 26K  & WSTARR\\_AB\n",
       "(26K)            \\\\\n",
       "\t WSTARR\\_R              &  6789 &  62201 & 0.1091462 & 62K  & WSTARR\\_R\n",
       "(62K)             \\\\\n",
       "\\end{tabular}\n"
      ],
      "text/markdown": [
       "\n",
       "A tibble: 16 × 6\n",
       "\n",
       "| Assay &lt;chr&gt; | Count &lt;int&gt; | Total &lt;int&gt; | Freq &lt;dbl&gt; | Count_Label &lt;chr&gt; | Assay_Label &lt;chr&gt; |\n",
       "|---|---|---|---|---|---|\n",
       "| ASTARR_A              |  6106 |   9368 | 0.6517933 | 9K   | ASTARR_A\n",
       "(9K)               |\n",
       "| ASTARR_AB             |  2095 |   3123 | 0.6708293 | 3K   | ASTARR_AB\n",
       "(3K)              |\n",
       "| ASTARR_R              | 12235 |  17897 | 0.6836341 | 18K  | ASTARR_R\n",
       "(18K)              |\n",
       "| ATAC                  | 65084 | 230509 | 0.2823491 | 231K | ATAC\n",
       "(231K)                 |\n",
       "| CRISPRi-Growth        |  3183 |   6242 | 0.5099327 | 6K   | CRISPRi-Growth\n",
       "(6K)         |\n",
       "| CRISPRi-HCRFF         |    55 |     80 | 0.6875000 | 80   | CRISPRi-HCRFF\n",
       "(80)          |\n",
       "| ENCODE-E2G_Benchmark  |   342 |    409 | 0.8361858 | 409  | ENCODE-E2G_Benchmark\n",
       "(409)  |\n",
       "| ENCODE-E2G_Prediction | 32449 |  51829 | 0.6260781 | 52K  | ENCODE-E2G_Prediction\n",
       "(52K) |\n",
       "| LMPRA_A               | 21085 |  40096 | 0.5258629 | 40K  | LMPRA_A\n",
       "(40K)               |\n",
       "| LMPRA_AB              | 14303 |  26732 | 0.5350516 | 27K  | LMPRA_AB\n",
       "(27K)              |\n",
       "| LMPRA_R               |   579 |   1525 | 0.3796721 | 2K   | LMPRA_R\n",
       "(2K)                |\n",
       "| TMPRA_A               |  1391 |   8294 | 0.1677116 | 8K   | TMPRA_A\n",
       "(8K)                |\n",
       "| TMPRA_R               |    51 |    363 | 0.1404959 | 363  | TMPRA_R\n",
       "(363)               |\n",
       "| WSTARR_A              | 22816 |  79738 | 0.2861371 | 80K  | WSTARR_A\n",
       "(80K)              |\n",
       "| WSTARR_AB             | 10454 |  25505 | 0.4098804 | 26K  | WSTARR_AB\n",
       "(26K)             |\n",
       "| WSTARR_R              |  6789 |  62201 | 0.1091462 | 62K  | WSTARR_R\n",
       "(62K)              |\n",
       "\n"
      ],
      "text/plain": [
       "   Assay                 Count Total  Freq      Count_Label\n",
       "1  ASTARR_A               6106   9368 0.6517933 9K         \n",
       "2  ASTARR_AB              2095   3123 0.6708293 3K         \n",
       "3  ASTARR_R              12235  17897 0.6836341 18K        \n",
       "4  ATAC                  65084 230509 0.2823491 231K       \n",
       "5  CRISPRi-Growth         3183   6242 0.5099327 6K         \n",
       "6  CRISPRi-HCRFF            55     80 0.6875000 80         \n",
       "7  ENCODE-E2G_Benchmark    342    409 0.8361858 409        \n",
       "8  ENCODE-E2G_Prediction 32449  51829 0.6260781 52K        \n",
       "9  LMPRA_A               21085  40096 0.5258629 40K        \n",
       "10 LMPRA_AB              14303  26732 0.5350516 27K        \n",
       "11 LMPRA_R                 579   1525 0.3796721 2K         \n",
       "12 TMPRA_A                1391   8294 0.1677116 8K         \n",
       "13 TMPRA_R                  51    363 0.1404959 363        \n",
       "14 WSTARR_A              22816  79738 0.2861371 80K        \n",
       "15 WSTARR_AB             10454  25505 0.4098804 26K        \n",
       "16 WSTARR_R               6789  62201 0.1091462 62K        \n",
       "   Assay_Label                 \n",
       "1  ASTARR_A\\n(9K)              \n",
       "2  ASTARR_AB\\n(3K)             \n",
       "3  ASTARR_R\\n(18K)             \n",
       "4  ATAC\\n(231K)                \n",
       "5  CRISPRi-Growth\\n(6K)        \n",
       "6  CRISPRi-HCRFF\\n(80)         \n",
       "7  ENCODE-E2G_Benchmark\\n(409) \n",
       "8  ENCODE-E2G_Prediction\\n(52K)\n",
       "9  LMPRA_A\\n(40K)              \n",
       "10 LMPRA_AB\\n(27K)             \n",
       "11 LMPRA_R\\n(2K)               \n",
       "12 TMPRA_A\\n(8K)               \n",
       "13 TMPRA_R\\n(363)              \n",
       "14 WSTARR_A\\n(80K)             \n",
       "15 WSTARR_AB\\n(26K)            \n",
       "16 WSTARR_R\\n(62K)             "
      ]
     },
     "metadata": {},
     "output_type": "display_data"
    }
   ],
   "source": [
    "### init\n",
    "dat = dat_peak_summary_combine\n",
    "lst = split(dat, dat$Label_Peak)\n",
    "\n",
    "###\n",
    "lst = lapply(lst, function(dat){\n",
    "    ###\n",
    "    vec_txt_peak   = unique(dat$Peak)\n",
    "    num_peak_total = length(vec_txt_peak)\n",
    "    \n",
    "    ###\n",
    "    dat = dat %>% dplyr::filter(Distance == 0)\n",
    "    vec_txt_peak    = unique(dat$Peak)\n",
    "    num_peak_looped = length(vec_txt_peak)\n",
    "    \n",
    "    ###\n",
    "    res = list(num_peak_looped, num_peak_total, num_peak_looped/num_peak_total)\n",
    "    names(res) = c(\"Count\", \"Total\", \"Freq\")\n",
    "    return(res)\n",
    "})\n",
    "\n",
    "###\n",
    "dat = bind_rows(lst, .id = \"Assay\")\n",
    "dat = dat %>% \n",
    "    dplyr::mutate(\n",
    "        Count_Label = ifelse(\n",
    "            Total > 1000, \n",
    "            paste0(round(Total / 1000), \"K\"),\n",
    "            Total\n",
    "        )\n",
    "    ) %>%\n",
    "    dplyr::mutate(\n",
    "        Assay_Label = paste0(Assay, \"\\n(\", Count_Label, \")\")\n",
    "    )\n",
    "\n",
    "dat_peak_isLoop = dat\n",
    "dat"
   ]
  },
  {
   "cell_type": "markdown",
   "metadata": {},
   "source": [
    "## Bar plot"
   ]
  },
  {
   "cell_type": "code",
   "execution_count": 6,
   "metadata": {},
   "outputs": [
    {
     "data": {
      "image/png": "[encoded data removed]",
      "text/plain": [
       "plot without title"
      ]
     },
     "metadata": {
      "image/png": {
       "height": 360,
       "width": 600
      }
     },
     "output_type": "display_data"
    }
   ],
   "source": [
    "dat = dat_peak_isLoop\n",
    "dat = dat %>% \n",
    "    dplyr::arrange(Freq) %>%\n",
    "    dplyr::mutate(Assay_Label = factor(Assay_Label, levels=Assay_Label))\n",
    "\n",
    "gpt = ggplot(dat, aes(x=Freq, y=Assay_Label)) + \n",
    "    geom_col() + \n",
    "    labs(x=\"#Looped / #Total\", y=\"Assays\") +\n",
    "    theme_cowplot()\n",
    "\n",
    "options(repr.plot.height=6, repr.plot.width=10)\n",
    "print(gpt)"
   ]
  },
  {
   "cell_type": "code",
   "execution_count": 7,
   "metadata": {},
   "outputs": [
    {
     "data": {
      "image/png": "[encoded data removed]",
      "text/plain": [
       "plot without title"
      ]
     },
     "metadata": {
      "image/png": {
       "height": 360,
       "width": 600
      }
     },
     "output_type": "display_data"
    }
   ],
   "source": [
    "dat = dat_peak_isLoop\n",
    "vec = c(\n",
    "    \"ATAC\", \n",
    "    \"ASTARR_A\",\n",
    "    \"WSTARR_A\",\n",
    "    \"TMPRA_A\",\n",
    "    \"LMPRA_A\",\n",
    "    \"CRISPRi-HCRFF\",\n",
    "    \"CRISPRi-Growth\",\n",
    "    \"ENCODE-E2G_Benchmark\",\n",
    "    \"ENCODE-E2G_Prediction\"\n",
    ")\n",
    "dat = dat %>% \n",
    "    dplyr::filter( Assay %in% vec) %>%\n",
    "    dplyr::mutate( Assay = factor(Assay, levels=vec)) %>%\n",
    "    dplyr::arrange(Assay) %>%\n",
    "    dplyr::mutate( Assay_Label = factor(Assay_Label, levels=Assay_Label))\n",
    "\n",
    "gpt = ggplot(dat, aes(x=Freq, y=Assay)) + \n",
    "    geom_col() + \n",
    "    labs(x=\"#Looped / #Total\", y=\"Assays\") +\n",
    "    theme_cowplot()\n",
    "\n",
    "options(repr.plot.height=6, repr.plot.width=10)\n",
    "print(gpt)"
   ]
  },
  {
   "cell_type": "code",
   "execution_count": null,
   "metadata": {},
   "outputs": [],
   "source": [
    "#fname = \"figure_enhancer_loop_overlap.pdf\"\n",
    "#save_plot(fname, gpt)"
   ]
  },
  {
   "cell_type": "markdown",
   "metadata": {},
   "source": [
    "## Plot distance"
   ]
  },
  {
   "cell_type": "code",
   "execution_count": 8,
   "metadata": {},
   "outputs": [
    {
     "data": {
      "text/plain": [
       "\n",
       "             ASTARR_A             ASTARR_AB              ASTARR_R \n",
       "                26172                  8748                 50084 \n",
       "                 ATAC        CRISPRi-Growth         CRISPRi-HCRFF \n",
       "               569206                 17064                   280 \n",
       " ENCODE-E2G_Benchmark ENCODE-E2G_Prediction               LMPRA_A \n",
       "                 1286                146733                105612 \n",
       "             LMPRA_AB               LMPRA_R               TMPRA_A \n",
       "                70772                  3895                 19704 \n",
       "              TMPRA_R              WSTARR_A             WSTARR_AB \n",
       "                  866                195931                 66684 \n",
       "             WSTARR_R \n",
       "               141082 "
      ]
     },
     "metadata": {},
     "output_type": "display_data"
    }
   ],
   "source": [
    "dat = dat_peak_summary_combine\n",
    "table(dat$Label_Peak)"
   ]
  },
  {
   "cell_type": "code",
   "execution_count": 13,
   "metadata": {},
   "outputs": [
    {
     "data": {
      "text/html": [
       "<table class=\"dataframe\">\n",
       "<caption>A tibble: 9 × 4</caption>\n",
       "<thead>\n",
       "\t<tr><th scope=col>Assay</th><th scope=col>P1</th><th scope=col>P2</th><th scope=col>P3</th></tr>\n",
       "\t<tr><th scope=col>&lt;chr&gt;</th><th scope=col>&lt;dbl&gt;</th><th scope=col>&lt;dbl&gt;</th><th scope=col>&lt;dbl&gt;</th></tr>\n",
       "</thead>\n",
       "<tbody>\n",
       "\t<tr><td>ASTARR_A             </td><td>0.7401695</td><td>0.7502334</td><td>0.7566508</td></tr>\n",
       "\t<tr><td>ATAC                 </td><td>2.6897288</td><td>2.6930083</td><td>2.6974157</td></tr>\n",
       "\t<tr><td>CRISPRi-Growth       </td><td>1.2023530</td><td>1.2141473</td><td>1.2276070</td></tr>\n",
       "\t<tr><td>CRISPRi-HCRFF        </td><td>0.6622926</td><td>0.7286979</td><td>0.7746073</td></tr>\n",
       "\t<tr><td>ENCODE-E2G_Benchmark </td><td>0.5281375</td><td>0.5626397</td><td>0.5929369</td></tr>\n",
       "\t<tr><td>ENCODE-E2G_Prediction</td><td>0.9234142</td><td>0.9267274</td><td>0.9307854</td></tr>\n",
       "\t<tr><td>LMPRA_A              </td><td>1.1832632</td><td>1.1890163</td><td>1.1930831</td></tr>\n",
       "\t<tr><td>TMPRA_A              </td><td>3.0481204</td><td>3.0680436</td><td>3.0898002</td></tr>\n",
       "\t<tr><td>WSTARR_A             </td><td>1.7660224</td><td>1.7710727</td><td>1.7754922</td></tr>\n",
       "</tbody>\n",
       "</table>\n"
      ],
      "text/latex": [
       "A tibble: 9 × 4\n",
       "\\begin{tabular}{llll}\n",
       " Assay & P1 & P2 & P3\\\\\n",
       " <chr> & <dbl> & <dbl> & <dbl>\\\\\n",
       "\\hline\n",
       "\t ASTARR\\_A              & 0.7401695 & 0.7502334 & 0.7566508\\\\\n",
       "\t ATAC                  & 2.6897288 & 2.6930083 & 2.6974157\\\\\n",
       "\t CRISPRi-Growth        & 1.2023530 & 1.2141473 & 1.2276070\\\\\n",
       "\t CRISPRi-HCRFF         & 0.6622926 & 0.7286979 & 0.7746073\\\\\n",
       "\t ENCODE-E2G\\_Benchmark  & 0.5281375 & 0.5626397 & 0.5929369\\\\\n",
       "\t ENCODE-E2G\\_Prediction & 0.9234142 & 0.9267274 & 0.9307854\\\\\n",
       "\t LMPRA\\_A               & 1.1832632 & 1.1890163 & 1.1930831\\\\\n",
       "\t TMPRA\\_A               & 3.0481204 & 3.0680436 & 3.0898002\\\\\n",
       "\t WSTARR\\_A              & 1.7660224 & 1.7710727 & 1.7754922\\\\\n",
       "\\end{tabular}\n"
      ],
      "text/markdown": [
       "\n",
       "A tibble: 9 × 4\n",
       "\n",
       "| Assay &lt;chr&gt; | P1 &lt;dbl&gt; | P2 &lt;dbl&gt; | P3 &lt;dbl&gt; |\n",
       "|---|---|---|---|\n",
       "| ASTARR_A              | 0.7401695 | 0.7502334 | 0.7566508 |\n",
       "| ATAC                  | 2.6897288 | 2.6930083 | 2.6974157 |\n",
       "| CRISPRi-Growth        | 1.2023530 | 1.2141473 | 1.2276070 |\n",
       "| CRISPRi-HCRFF         | 0.6622926 | 0.7286979 | 0.7746073 |\n",
       "| ENCODE-E2G_Benchmark  | 0.5281375 | 0.5626397 | 0.5929369 |\n",
       "| ENCODE-E2G_Prediction | 0.9234142 | 0.9267274 | 0.9307854 |\n",
       "| LMPRA_A               | 1.1832632 | 1.1890163 | 1.1930831 |\n",
       "| TMPRA_A               | 3.0481204 | 3.0680436 | 3.0898002 |\n",
       "| WSTARR_A              | 1.7660224 | 1.7710727 | 1.7754922 |\n",
       "\n"
      ],
      "text/plain": [
       "  Assay                 P1        P2        P3       \n",
       "1 ASTARR_A              0.7401695 0.7502334 0.7566508\n",
       "2 ATAC                  2.6897288 2.6930083 2.6974157\n",
       "3 CRISPRi-Growth        1.2023530 1.2141473 1.2276070\n",
       "4 CRISPRi-HCRFF         0.6622926 0.7286979 0.7746073\n",
       "5 ENCODE-E2G_Benchmark  0.5281375 0.5626397 0.5929369\n",
       "6 ENCODE-E2G_Prediction 0.9234142 0.9267274 0.9307854\n",
       "7 LMPRA_A               1.1832632 1.1890163 1.1930831\n",
       "8 TMPRA_A               3.0481204 3.0680436 3.0898002\n",
       "9 WSTARR_A              1.7660224 1.7710727 1.7754922"
      ]
     },
     "metadata": {},
     "output_type": "display_data"
    }
   ],
   "source": [
    "fun = function(vec){\n",
    "    num = length(vec)\n",
    "    num = round(num * 0.9)\n",
    "    \n",
    "    vec = sample(vec, size = num)\n",
    "    res = mean(vec)\n",
    "    return(res)\n",
    "}\n",
    "\n",
    "dat = dat_peak_summary_combine\n",
    "vec = c(\n",
    "    \"ATAC\", \n",
    "    \"ASTARR_A\",\n",
    "    \"WSTARR_A\",\n",
    "    \"TMPRA_A\",\n",
    "    \"LMPRA_A\",\n",
    "    \"CRISPRi-HCRFF\",\n",
    "    \"CRISPRi-Growth\",\n",
    "    \"ENCODE-E2G_Benchmark\",\n",
    "    \"ENCODE-E2G_Prediction\"\n",
    ")\n",
    "dat = dat %>% dplyr::filter(Label_Peak %in% vec)\n",
    "dat = dat %>% dplyr::filter(Distance < 10^4)\n",
    "\n",
    "lst = split(dat$Distance, dat$Label_Peak)\n",
    "lst = lapply(lst, function(vec){\n",
    "    res = replicate(n=100, fun(vec))\n",
    "    return(res)\n",
    "})\n",
    "\n",
    "lst = lapply(lst, function(vec){\n",
    "    vec = vec / 1000\n",
    "    res = quantile(vec, probs = c(0.025, 0.5, 0.975))\n",
    "    names(res) = c(\"P1\", \"P2\", \"P3\")\n",
    "    return(res)\n",
    "})\n",
    "\n",
    "dat = bind_rows(lst, .id=\"Assay\")\n",
    "\n",
    "dat_peak_dist2Loop = dat\n",
    "dat"
   ]
  },
  {
   "cell_type": "code",
   "execution_count": 14,
   "metadata": {},
   "outputs": [
    {
     "data": {
      "image/png": "[encoded data removed]",
      "text/plain": [
       "plot without title"
      ]
     },
     "metadata": {
      "image/png": {
       "height": 360,
       "width": 600
      }
     },
     "output_type": "display_data"
    }
   ],
   "source": [
    "dat = dat_peak_dist2Loop\n",
    "\n",
    "gpt = ggplot(dat, aes(x=P2, y=Assay)) + \n",
    "    geom_point() +\n",
    "    geom_errorbar(aes(xmin=P1, xmax=P3)) +\n",
    "    theme_cowplot()\n",
    "\n",
    "print(gpt)"
   ]
  },
  {
   "cell_type": "code",
   "execution_count": 15,
   "metadata": {},
   "outputs": [
    {
     "data": {
      "image/png": "[encoded data removed]",
      "text/plain": [
       "plot without title"
      ]
     },
     "metadata": {
      "image/png": {
       "height": 360,
       "width": 600
      }
     },
     "output_type": "display_data"
    }
   ],
   "source": [
    "dat = dat_peak_dist2Loop\n",
    "vec = c(\n",
    "    \"ATAC\", \n",
    "    \"ASTARR_A\",\n",
    "    \"WSTARR_A\",\n",
    "    \"TMPRA_A\",\n",
    "    \"LMPRA_A\",\n",
    "    \"CRISPRi-HCRFF\",\n",
    "    \"CRISPRi-Growth\",\n",
    "    \"ENCODE-E2G_Benchmark\",\n",
    "    \"ENCODE-E2G_Prediction\"\n",
    ")\n",
    "dat = dat %>% \n",
    "    dplyr::mutate( Assay = factor(Assay, levels=vec)) %>%\n",
    "    dplyr::arrange(P2) %>%\n",
    "    dplyr::mutate( Assay = factor(Assay, levels=Assay))\n",
    "\n",
    "gpt = ggplot(dat, aes(x=P2, y=Assay)) + \n",
    "    geom_col() + \n",
    "    labs(x=\"Mean (Distance to the nearest Loop) (Kb)\", y=\"Assays\") +\n",
    "    theme_cowplot()\n",
    "\n",
    "options(repr.plot.height=6, repr.plot.width=10)\n",
    "print(gpt)"
   ]
  },
  {
   "cell_type": "code",
   "execution_count": 16,
   "metadata": {},
   "outputs": [
    {
     "data": {
      "image/png": "[encoded data removed]",
      "text/plain": [
       "plot without title"
      ]
     },
     "metadata": {
      "image/png": {
       "height": 360,
       "width": 600
      }
     },
     "output_type": "display_data"
    }
   ],
   "source": [
    "dat = dat_peak_dist2Loop\n",
    "vec = c(\n",
    "    \"ATAC\", \n",
    "    \"ASTARR_A\",\n",
    "    \"WSTARR_A\",\n",
    "    \"TMPRA_A\",\n",
    "    \"LMPRA_A\",\n",
    "    \"CRISPRi-HCRFF\",\n",
    "    \"CRISPRi-Growth\",\n",
    "    \"ENCODE-E2G_Benchmark\",\n",
    "    \"ENCODE-E2G_Prediction\"\n",
    ")\n",
    "dat = dat %>% \n",
    "    dplyr::mutate( Assay = factor(Assay, levels=vec)) %>%\n",
    "    dplyr::arrange(Assay) #%>%\n",
    "    #dplyr::mutate( Assay_Label = factor(Assay_Label, levels=Assay_Label))\n",
    "\n",
    "gpt = ggplot(dat, aes(x=P2, y=Assay)) + \n",
    "    geom_col() + \n",
    "    labs(x=\"Mean (Distance to the nearest Loop) (Kb)\", y=\"Assays\") +\n",
    "    theme_cowplot()\n",
    "\n",
    "options(repr.plot.height=6, repr.plot.width=10)\n",
    "print(gpt)"
   ]
  },
  {
   "cell_type": "code",
   "execution_count": 94,
   "metadata": {},
   "outputs": [],
   "source": [
    "fname = \"figure_enhancer_loop_distance.pdf\"\n",
    "save_plot(fname, gpt)"
   ]
  }
 ],
 "metadata": {
  "kernelspec": {
   "display_name": "R",
   "language": "R",
   "name": "ir"
  },
  "language_info": {
   "codemirror_mode": "r",
   "file_extension": ".r",
   "mimetype": "text/x-r-source",
   "name": "R",
   "pygments_lexer": "r",
   "version": "4.3.1"
  }
 },
 "nbformat": 4,
 "nbformat_minor": 4
}
