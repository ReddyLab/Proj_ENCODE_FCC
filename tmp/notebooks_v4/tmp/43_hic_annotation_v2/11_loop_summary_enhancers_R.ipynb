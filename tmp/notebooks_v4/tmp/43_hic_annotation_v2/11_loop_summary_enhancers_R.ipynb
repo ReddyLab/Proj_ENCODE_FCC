{
 "cells": [
  {
   "cell_type": "markdown",
   "metadata": {},
   "source": [
    "**Set environment**"
   ]
  },
  {
   "cell_type": "code",
   "execution_count": 1,
   "metadata": {},
   "outputs": [
    {
     "name": "stdout",
     "output_type": "stream",
     "text": [
      "You are in Singularity: singularity_proj_encode_fcc \n",
      "BASE DIRECTORY (FD_BASE): /data/reddylab/Kuei \n",
      "WORK DIRECTORY (FD_WORK): /data/reddylab/Kuei/out \n",
      "CODE DIRECTORY (FD_CODE): /data/reddylab/Kuei/code \n",
      "PATH OF PROJECT (FD_PRJ): /data/reddylab/Kuei/code/Proj_CombEffect_ENCODE_FCC \n",
      "PATH OF RESULTS (FD_RES): /data/reddylab/Kuei/out/proj_combeffect_encode_fcc \n",
      "PATH OF LOG     (FD_LOG): /data/reddylab/Kuei/out/proj_combeffect_encode_fcc/log \n"
     ]
    }
   ],
   "source": [
    "suppressMessages(suppressWarnings(source(\"../config/config_sing.R\")))\n",
    "show_env()"
   ]
  },
  {
   "cell_type": "markdown",
   "metadata": {},
   "source": [
    "**Check data files**"
   ]
  },
  {
   "cell_type": "code",
   "execution_count": 2,
   "metadata": {},
   "outputs": [],
   "source": [
    "FOLDERS_ANT  = c(\n",
    "    \"annotation_enhancer_zscore_junke\",\n",
    "    \"annotation_crispri_hcrff\",\n",
    "    \"annotation_crispri_growth\",\n",
    "    \"annotation_encode_e2g_benchmark\",\n",
    "    \"annotation_encode_e2g_prediction\",\n",
    "    \"annotation_enhancer_merge\",\n",
    "    \"KS91_K562_ASTARRseq_peak_macs_input\"\n",
    ")\n",
    "\n",
    "FOLDERS_LOOP = c(\n",
    "    \"hic_intact_ENCSR479XDG\",\n",
    "    \"hic_intact_deep\"\n",
    ")"
   ]
  },
  {
   "cell_type": "code",
   "execution_count": 3,
   "metadata": {},
   "outputs": [
    {
     "name": "stdout",
     "output_type": "stream",
     "text": [
      "annotation_enhancer_zscore_junke \n",
      " [1] \"Loop_A.annotation.enhancer_zscore_junke.peak.ASTARR_AB.bed.gz\"\n",
      " [2] \"Loop_A.annotation.enhancer_zscore_junke.peak.ASTARR_A.bed.gz\" \n",
      " [3] \"Loop_A.annotation.enhancer_zscore_junke.peak.ASTARR_R.bed.gz\" \n",
      " [4] \"Loop_A.annotation.enhancer_zscore_junke.peak.LMPRA_AB.bed.gz\" \n",
      " [5] \"Loop_A.annotation.enhancer_zscore_junke.peak.LMPRA_A.bed.gz\"  \n",
      " [6] \"Loop_A.annotation.enhancer_zscore_junke.peak.LMPRA_R.bed.gz\"  \n",
      " [7] \"Loop_A.annotation.enhancer_zscore_junke.peak.TMPRA_A.bed.gz\"  \n",
      " [8] \"Loop_A.annotation.enhancer_zscore_junke.peak.TMPRA_R.bed.gz\"  \n",
      " [9] \"Loop_A.annotation.enhancer_zscore_junke.peak.WSTARR_AB.bed.gz\"\n",
      "[10] \"Loop_A.annotation.enhancer_zscore_junke.peak.WSTARR_A.bed.gz\" \n",
      "[11] \"Loop_A.annotation.enhancer_zscore_junke.peak.WSTARR_R.bed.gz\" \n",
      "[12] \"Loop_B.annotation.enhancer_zscore_junke.peak.ASTARR_AB.bed.gz\"\n",
      "[13] \"Loop_B.annotation.enhancer_zscore_junke.peak.ASTARR_A.bed.gz\" \n",
      "[14] \"Loop_B.annotation.enhancer_zscore_junke.peak.ASTARR_R.bed.gz\" \n",
      "[15] \"Loop_B.annotation.enhancer_zscore_junke.peak.LMPRA_AB.bed.gz\" \n",
      "[16] \"Loop_B.annotation.enhancer_zscore_junke.peak.LMPRA_A.bed.gz\"  \n",
      "[17] \"Loop_B.annotation.enhancer_zscore_junke.peak.LMPRA_R.bed.gz\"  \n",
      "[18] \"Loop_B.annotation.enhancer_zscore_junke.peak.TMPRA_A.bed.gz\"  \n",
      "[19] \"Loop_B.annotation.enhancer_zscore_junke.peak.TMPRA_R.bed.gz\"  \n",
      "[20] \"Loop_B.annotation.enhancer_zscore_junke.peak.WSTARR_AB.bed.gz\"\n",
      "[21] \"Loop_B.annotation.enhancer_zscore_junke.peak.WSTARR_A.bed.gz\" \n",
      "[22] \"Loop_B.annotation.enhancer_zscore_junke.peak.WSTARR_R.bed.gz\" \n",
      "\n",
      "annotation_crispri_hcrff \n",
      "[1] \"Loop_A.annotation.crispri_hcrff.casa.bed.gz\"      \n",
      "[2] \"Loop_A.annotation.crispri_hcrff.casa.merge.bed.gz\"\n",
      "[3] \"Loop_B.annotation.crispri_hcrff.casa.bed.gz\"      \n",
      "[4] \"Loop_B.annotation.crispri_hcrff.casa.merge.bed.gz\"\n",
      "\n",
      "annotation_crispri_growth \n",
      "[1] \"Loop_A.annotation.crispri_growth.dhs.active.bed.gz\"\n",
      "[2] \"Loop_B.annotation.crispri_growth.dhs.active.bed.gz\"\n",
      "\n",
      "annotation_encode_e2g_benchmark \n",
      "[1] \"Loop_A.annotation.K562.EPCrisprBenchmark.active.merge.bed.gz\"\n",
      "[2] \"Loop_A.annotation.K562.EPCrisprBenchmark.total.merge.bed.gz\" \n",
      "[3] \"Loop_B.annotation.K562.EPCrisprBenchmark.active.merge.bed.gz\"\n",
      "[4] \"Loop_B.annotation.K562.EPCrisprBenchmark.total.merge.bed.gz\" \n",
      "\n",
      "annotation_encode_e2g_prediction \n",
      "[1] \"Loop_A.annotation.K562.ENCSR328LMT.ENCFF122UMY.element_gene_links.total.merge.bed.gz\" \n",
      "[2] \"Loop_A.annotation.K562.ENCSR328LMT.ENCFF202FID.element_gene_links.active.merge.bed.gz\"\n",
      "[3] \"Loop_B.annotation.K562.ENCSR328LMT.ENCFF122UMY.element_gene_links.total.merge.bed.gz\" \n",
      "[4] \"Loop_B.annotation.K562.ENCSR328LMT.ENCFF202FID.element_gene_links.active.merge.bed.gz\"\n",
      "\n",
      "annotation_enhancer_merge \n",
      "[1] \"Loop_A.annotation.enhancer_merge.concat.starrmpra_crispr_atac.active.merge.bed.gz\"\n",
      "[2] \"Loop_A.annotation.enhancer_merge.concat.starrmpra_crispr_atac.total.merge.bed.gz\" \n",
      "[3] \"Loop_B.annotation.enhancer_merge.concat.starrmpra_crispr_atac.active.merge.bed.gz\"\n",
      "[4] \"Loop_B.annotation.enhancer_merge.concat.starrmpra_crispr_atac.total.merge.bed.gz\" \n",
      "\n",
      "KS91_K562_ASTARRseq_peak_macs_input \n",
      "[1] \"Loop_A.annotation.KS91_K562_hg38_ASTARRseq_Input.all_reps.masked.union_narrowPeak.q5.bed.gz\"\n",
      "[2] \"Loop_B.annotation.KS91_K562_hg38_ASTARRseq_Input.all_reps.masked.union_narrowPeak.q5.bed.gz\"\n",
      "\n"
     ]
    }
   ],
   "source": [
    "folder_reg = \"hic_intact_deep\"\n",
    "\n",
    "for (folder_ant in FOLDERS_ANT){\n",
    "    cat(folder_ant, \"\\n\")\n",
    "    fdiry  = file.path(FD_RES, \"results\", \"region\", folder_reg, folder_ant)\n",
    "    fname  = \"*.bed.gz\"\n",
    "    fglob  = file.path(fdiry, fname)\n",
    "    fpaths = Sys.glob(fglob)\n",
    "    fnames = basename(fpaths)\n",
    "    print(fnames)\n",
    "    cat(\"\\n\")\n",
    "}"
   ]
  },
  {
   "cell_type": "markdown",
   "metadata": {},
   "source": [
    "**Helper function**"
   ]
  },
  {
   "cell_type": "code",
   "execution_count": 4,
   "metadata": {},
   "outputs": [],
   "source": [
    "fun_format = function(txt){\n",
    "    txt = format(txt, scientific = FALSE)\n",
    "    txt = str_remove_all(txt, \" \")\n",
    "    return(txt)\n",
    "}\n",
    "\n",
    "fun_get_label = function(txt, patterns = c(\"Loop_A\", \"Loop_B\")){\n",
    "    idx = str_detect(string = txt, pattern = patterns)\n",
    "    return(patterns[idx])\n",
    "}"
   ]
  },
  {
   "cell_type": "markdown",
   "metadata": {},
   "source": [
    "## Import data | Enhancer STARR/MPRA (Junke)"
   ]
  },
  {
   "cell_type": "markdown",
   "metadata": {},
   "source": [
    "**Get files**"
   ]
  },
  {
   "cell_type": "code",
   "execution_count": 5,
   "metadata": {},
   "outputs": [
    {
     "name": "stdout",
     "output_type": "stream",
     "text": [
      "annotation_enhancer_zscore_junke \n",
      " [1] \"Loop_A.annotation.enhancer_zscore_junke.peak.ASTARR_AB.bed.gz\"\n",
      " [2] \"Loop_A.annotation.enhancer_zscore_junke.peak.ASTARR_A.bed.gz\" \n",
      " [3] \"Loop_A.annotation.enhancer_zscore_junke.peak.ASTARR_R.bed.gz\" \n",
      " [4] \"Loop_A.annotation.enhancer_zscore_junke.peak.LMPRA_AB.bed.gz\" \n",
      " [5] \"Loop_A.annotation.enhancer_zscore_junke.peak.LMPRA_A.bed.gz\"  \n",
      " [6] \"Loop_A.annotation.enhancer_zscore_junke.peak.LMPRA_R.bed.gz\"  \n",
      " [7] \"Loop_A.annotation.enhancer_zscore_junke.peak.TMPRA_A.bed.gz\"  \n",
      " [8] \"Loop_A.annotation.enhancer_zscore_junke.peak.TMPRA_R.bed.gz\"  \n",
      " [9] \"Loop_A.annotation.enhancer_zscore_junke.peak.WSTARR_AB.bed.gz\"\n",
      "[10] \"Loop_A.annotation.enhancer_zscore_junke.peak.WSTARR_A.bed.gz\" \n",
      "[11] \"Loop_A.annotation.enhancer_zscore_junke.peak.WSTARR_R.bed.gz\" \n",
      "[12] \"Loop_B.annotation.enhancer_zscore_junke.peak.ASTARR_AB.bed.gz\"\n",
      "[13] \"Loop_B.annotation.enhancer_zscore_junke.peak.ASTARR_A.bed.gz\" \n",
      "[14] \"Loop_B.annotation.enhancer_zscore_junke.peak.ASTARR_R.bed.gz\" \n",
      "[15] \"Loop_B.annotation.enhancer_zscore_junke.peak.LMPRA_AB.bed.gz\" \n",
      "[16] \"Loop_B.annotation.enhancer_zscore_junke.peak.LMPRA_A.bed.gz\"  \n",
      "[17] \"Loop_B.annotation.enhancer_zscore_junke.peak.LMPRA_R.bed.gz\"  \n",
      "[18] \"Loop_B.annotation.enhancer_zscore_junke.peak.TMPRA_A.bed.gz\"  \n",
      "[19] \"Loop_B.annotation.enhancer_zscore_junke.peak.TMPRA_R.bed.gz\"  \n",
      "[20] \"Loop_B.annotation.enhancer_zscore_junke.peak.WSTARR_AB.bed.gz\"\n",
      "[21] \"Loop_B.annotation.enhancer_zscore_junke.peak.WSTARR_A.bed.gz\" \n",
      "[22] \"Loop_B.annotation.enhancer_zscore_junke.peak.WSTARR_R.bed.gz\" \n",
      "\n",
      "[1] \"Enhancer_ZScore\"\n",
      " [1] \"ASTARR_AB\" \"ASTARR_A\"  \"ASTARR_R\"  \"LMPRA_AB\"  \"LMPRA_A\"   \"LMPRA_R\"  \n",
      " [7] \"TMPRA_A\"   \"TMPRA_R\"   \"WSTARR_AB\" \"WSTARR_A\"  \"WSTARR_R\"  \"ASTARR_AB\"\n",
      "[13] \"ASTARR_A\"  \"ASTARR_R\"  \"LMPRA_AB\"  \"LMPRA_A\"   \"LMPRA_R\"   \"TMPRA_A\"  \n",
      "[19] \"TMPRA_R\"   \"WSTARR_AB\" \"WSTARR_A\"  \"WSTARR_R\" \n"
     ]
    }
   ],
   "source": [
    "folder_reg = \"hic_intact_deep\"\n",
    "folder_ant = \"annotation_enhancer_zscore_junke\"\n",
    "\n",
    "cat(folder_ant, \"\\n\")\n",
    "fdiry  = file.path(FD_RES, \"results\", \"region\", folder_reg, folder_ant)\n",
    "fname  = \"*.bed.gz\"\n",
    "fglob  = file.path(fdiry, fname)\n",
    "fpaths = Sys.glob(fglob)\n",
    "fnames = basename(fpaths)\n",
    "print(fnames)\n",
    "cat(\"\\n\")\n",
    "\n",
    "annotation = \"Enhancer_ZScore\"\n",
    "labels     = fnames %>% \n",
    "    str_split(., \"\\\\.\") %>%\n",
    "    do.call(rbind, .) %>%\n",
    "    as.data.frame %>%\n",
    "    dplyr::pull(5)\n",
    "\n",
    "print(annotation)\n",
    "print(labels)"
   ]
  },
  {
   "cell_type": "markdown",
   "metadata": {},
   "source": [
    "**Import data**"
   ]
  },
  {
   "cell_type": "code",
   "execution_count": 6,
   "metadata": {},
   "outputs": [
    {
     "name": "stdout",
     "output_type": "stream",
     "text": [
      "[1] 689550      6\n"
     ]
    },
    {
     "data": {
      "text/html": [
       "<table class=\"dataframe\">\n",
       "<caption>A tibble: 6 × 6</caption>\n",
       "<thead>\n",
       "\t<tr><th scope=col>Peak</th><th scope=col>Loop</th><th scope=col>Distance</th><th scope=col>Annotation</th><th scope=col>Label_Peak</th><th scope=col>Label_Loop</th></tr>\n",
       "\t<tr><th scope=col>&lt;chr&gt;</th><th scope=col>&lt;chr&gt;</th><th scope=col>&lt;dbl&gt;</th><th scope=col>&lt;chr&gt;</th><th scope=col>&lt;chr&gt;</th><th scope=col>&lt;chr&gt;</th></tr>\n",
       "</thead>\n",
       "<tbody>\n",
       "\t<tr><td>chr1:1013020-1013470</td><td>chr1:1000000-1010000</td><td> 3021</td><td>Enhancer_ZScore</td><td>ASTARR_AB</td><td>Loop_A</td></tr>\n",
       "\t<tr><td>chr1:1724540-1724700</td><td>chr1:1724000-1725000</td><td>    0</td><td>Enhancer_ZScore</td><td>ASTARR_AB</td><td>Loop_A</td></tr>\n",
       "\t<tr><td>chr1:2290700-2291030</td><td>chr1:2260000-2261000</td><td>29701</td><td>Enhancer_ZScore</td><td>ASTARR_AB</td><td>Loop_A</td></tr>\n",
       "\t<tr><td>chr1:3313260-3313400</td><td>chr1:3349000-3350000</td><td>35601</td><td>Enhancer_ZScore</td><td>ASTARR_AB</td><td>Loop_A</td></tr>\n",
       "\t<tr><td>chr1:5856530-5856630</td><td>chr1:5830000-5832000</td><td>24531</td><td>Enhancer_ZScore</td><td>ASTARR_AB</td><td>Loop_A</td></tr>\n",
       "\t<tr><td>chr1:5917710-5917930</td><td>chr1:5915000-5920000</td><td>    0</td><td>Enhancer_ZScore</td><td>ASTARR_AB</td><td>Loop_A</td></tr>\n",
       "</tbody>\n",
       "</table>\n"
      ],
      "text/latex": [
       "A tibble: 6 × 6\n",
       "\\begin{tabular}{llllll}\n",
       " Peak & Loop & Distance & Annotation & Label\\_Peak & Label\\_Loop\\\\\n",
       " <chr> & <chr> & <dbl> & <chr> & <chr> & <chr>\\\\\n",
       "\\hline\n",
       "\t chr1:1013020-1013470 & chr1:1000000-1010000 &  3021 & Enhancer\\_ZScore & ASTARR\\_AB & Loop\\_A\\\\\n",
       "\t chr1:1724540-1724700 & chr1:1724000-1725000 &     0 & Enhancer\\_ZScore & ASTARR\\_AB & Loop\\_A\\\\\n",
       "\t chr1:2290700-2291030 & chr1:2260000-2261000 & 29701 & Enhancer\\_ZScore & ASTARR\\_AB & Loop\\_A\\\\\n",
       "\t chr1:3313260-3313400 & chr1:3349000-3350000 & 35601 & Enhancer\\_ZScore & ASTARR\\_AB & Loop\\_A\\\\\n",
       "\t chr1:5856530-5856630 & chr1:5830000-5832000 & 24531 & Enhancer\\_ZScore & ASTARR\\_AB & Loop\\_A\\\\\n",
       "\t chr1:5917710-5917930 & chr1:5915000-5920000 &     0 & Enhancer\\_ZScore & ASTARR\\_AB & Loop\\_A\\\\\n",
       "\\end{tabular}\n"
      ],
      "text/markdown": [
       "\n",
       "A tibble: 6 × 6\n",
       "\n",
       "| Peak &lt;chr&gt; | Loop &lt;chr&gt; | Distance &lt;dbl&gt; | Annotation &lt;chr&gt; | Label_Peak &lt;chr&gt; | Label_Loop &lt;chr&gt; |\n",
       "|---|---|---|---|---|---|\n",
       "| chr1:1013020-1013470 | chr1:1000000-1010000 |  3021 | Enhancer_ZScore | ASTARR_AB | Loop_A |\n",
       "| chr1:1724540-1724700 | chr1:1724000-1725000 |     0 | Enhancer_ZScore | ASTARR_AB | Loop_A |\n",
       "| chr1:2290700-2291030 | chr1:2260000-2261000 | 29701 | Enhancer_ZScore | ASTARR_AB | Loop_A |\n",
       "| chr1:3313260-3313400 | chr1:3349000-3350000 | 35601 | Enhancer_ZScore | ASTARR_AB | Loop_A |\n",
       "| chr1:5856530-5856630 | chr1:5830000-5832000 | 24531 | Enhancer_ZScore | ASTARR_AB | Loop_A |\n",
       "| chr1:5917710-5917930 | chr1:5915000-5920000 |     0 | Enhancer_ZScore | ASTARR_AB | Loop_A |\n",
       "\n"
      ],
      "text/plain": [
       "  Peak                 Loop                 Distance Annotation      Label_Peak\n",
       "1 chr1:1013020-1013470 chr1:1000000-1010000  3021    Enhancer_ZScore ASTARR_AB \n",
       "2 chr1:1724540-1724700 chr1:1724000-1725000     0    Enhancer_ZScore ASTARR_AB \n",
       "3 chr1:2290700-2291030 chr1:2260000-2261000 29701    Enhancer_ZScore ASTARR_AB \n",
       "4 chr1:3313260-3313400 chr1:3349000-3350000 35601    Enhancer_ZScore ASTARR_AB \n",
       "5 chr1:5856530-5856630 chr1:5830000-5832000 24531    Enhancer_ZScore ASTARR_AB \n",
       "6 chr1:5917710-5917930 chr1:5915000-5920000     0    Enhancer_ZScore ASTARR_AB \n",
       "  Label_Loop\n",
       "1 Loop_A    \n",
       "2 Loop_A    \n",
       "3 Loop_A    \n",
       "4 Loop_A    \n",
       "5 Loop_A    \n",
       "6 Loop_A    "
      ]
     },
     "metadata": {},
     "output_type": "display_data"
    }
   ],
   "source": [
    "lst = lapply(seq_along(fpaths), function(idx){\n",
    "    ### get file paths and labels\n",
    "    fpath      = fpaths[idx]\n",
    "    label_peak = labels[idx]\n",
    "    label_loop = fun_get_label(fpath)\n",
    "    \n",
    "    ### read table\n",
    "    dat = read_tsv(fpath, col_names = FALSE, show_col_types = FALSE)\n",
    "    dat = dat %>% dplyr::select(\n",
    "        head(names(.), 3),\n",
    "        tail(names(.), 4))\n",
    "    \n",
    "    ### set column names\n",
    "    cnames = c(\"Chrom\", \"Start\", \"End\")\n",
    "    cnames = c(\n",
    "        paste(cnames, \"Peak\", sep = \"_\"),\n",
    "        paste(cnames, \"Loop\", sep = \"_\"),\n",
    "        \"Distance\"\n",
    "    )\n",
    "    colnames(dat) = cnames\n",
    "    \n",
    "    ### summarize info\n",
    "    dat = dat %>% \n",
    "        dplyr::mutate(\n",
    "            Peak = paste0(Chrom_Peak, \":\", fun_format(Start_Peak), \"-\", fun_format(End_Peak)),\n",
    "            Loop = paste0(Chrom_Loop, \":\", fun_format(Start_Loop), \"-\", fun_format(End_Loop))\n",
    "        ) %>%\n",
    "        dplyr::mutate(\n",
    "            Annotation = annotation,\n",
    "            Label_Peak = label_peak,\n",
    "            Label_Loop = label_loop\n",
    "        ) %>%\n",
    "        dplyr::select(Peak, Loop, Distance, Annotation, Label_Peak, Label_Loop)\n",
    "    return(dat)\n",
    "})\n",
    "\n",
    "### combine tables\n",
    "dat = bind_rows(lst)\n",
    "\n",
    "### assign and show\n",
    "dat_peak_starrmpra = dat\n",
    "print(dim(dat))\n",
    "head(dat)"
   ]
  },
  {
   "cell_type": "markdown",
   "metadata": {},
   "source": [
    "## Import data | annotation_crispri_hcrff "
   ]
  },
  {
   "cell_type": "markdown",
   "metadata": {},
   "source": [
    "**Get files**"
   ]
  },
  {
   "cell_type": "code",
   "execution_count": 7,
   "metadata": {},
   "outputs": [
    {
     "name": "stdout",
     "output_type": "stream",
     "text": [
      "annotation_crispri_hcrff \n",
      "[1] \"Loop_A.annotation.crispri_hcrff.casa.merge.bed.gz\"\n",
      "[2] \"Loop_B.annotation.crispri_hcrff.casa.merge.bed.gz\"\n",
      "\n"
     ]
    }
   ],
   "source": [
    "folder_reg = \"hic_intact_deep\"\n",
    "folder_ant = \"annotation_crispri_hcrff\"\n",
    "\n",
    "cat(folder_ant, \"\\n\")\n",
    "fdiry  = file.path(FD_RES, \"results\", \"region\", folder_reg, folder_ant)\n",
    "fname  = \"*casa.merge.bed.gz\"\n",
    "fglob  = file.path(fdiry, fname)\n",
    "fpaths = Sys.glob(fglob)\n",
    "fnames = basename(fpaths)\n",
    "print(fnames)\n",
    "cat(\"\\n\")\n",
    "\n",
    "annotation = \"CRISPRi\"\n",
    "label      = \"CRISPRi-HCRFF\""
   ]
  },
  {
   "cell_type": "markdown",
   "metadata": {},
   "source": [
    "**Import data**"
   ]
  },
  {
   "cell_type": "code",
   "execution_count": 8,
   "metadata": {},
   "outputs": [
    {
     "name": "stdout",
     "output_type": "stream",
     "text": [
      "[1] 280   6\n"
     ]
    },
    {
     "data": {
      "text/html": [
       "<table class=\"dataframe\">\n",
       "<caption>A tibble: 6 × 6</caption>\n",
       "<thead>\n",
       "\t<tr><th scope=col>Peak</th><th scope=col>Loop</th><th scope=col>Distance</th><th scope=col>Annotation</th><th scope=col>Label_Peak</th><th scope=col>Label_Loop</th></tr>\n",
       "\t<tr><th scope=col>&lt;chr&gt;</th><th scope=col>&lt;chr&gt;</th><th scope=col>&lt;dbl&gt;</th><th scope=col>&lt;chr&gt;</th><th scope=col>&lt;chr&gt;</th><th scope=col>&lt;chr&gt;</th></tr>\n",
       "</thead>\n",
       "<tbody>\n",
       "\t<tr><td>chr11:5248847-5249047</td><td>chr11:5240000-5250000</td><td>  0</td><td>CRISPRi</td><td>CRISPRi-HCRFF</td><td>Loop_A</td></tr>\n",
       "\t<tr><td>chr11:5249847-5250847</td><td>chr11:5240000-5250000</td><td>  0</td><td>CRISPRi</td><td>CRISPRi-HCRFF</td><td>Loop_A</td></tr>\n",
       "\t<tr><td>chr11:5253147-5253547</td><td>chr11:5252000-5253000</td><td>148</td><td>CRISPRi</td><td>CRISPRi-HCRFF</td><td>Loop_A</td></tr>\n",
       "\t<tr><td>chr11:5253647-5254647</td><td>chr11:5252000-5253000</td><td>648</td><td>CRISPRi</td><td>CRISPRi-HCRFF</td><td>Loop_A</td></tr>\n",
       "\t<tr><td>chr11:5269147-5271147</td><td>chr11:5270000-5271000</td><td>  0</td><td>CRISPRi</td><td>CRISPRi-HCRFF</td><td>Loop_A</td></tr>\n",
       "\t<tr><td>chr11:5269147-5271147</td><td>chr11:5270000-5280000</td><td>  0</td><td>CRISPRi</td><td>CRISPRi-HCRFF</td><td>Loop_A</td></tr>\n",
       "</tbody>\n",
       "</table>\n"
      ],
      "text/latex": [
       "A tibble: 6 × 6\n",
       "\\begin{tabular}{llllll}\n",
       " Peak & Loop & Distance & Annotation & Label\\_Peak & Label\\_Loop\\\\\n",
       " <chr> & <chr> & <dbl> & <chr> & <chr> & <chr>\\\\\n",
       "\\hline\n",
       "\t chr11:5248847-5249047 & chr11:5240000-5250000 &   0 & CRISPRi & CRISPRi-HCRFF & Loop\\_A\\\\\n",
       "\t chr11:5249847-5250847 & chr11:5240000-5250000 &   0 & CRISPRi & CRISPRi-HCRFF & Loop\\_A\\\\\n",
       "\t chr11:5253147-5253547 & chr11:5252000-5253000 & 148 & CRISPRi & CRISPRi-HCRFF & Loop\\_A\\\\\n",
       "\t chr11:5253647-5254647 & chr11:5252000-5253000 & 648 & CRISPRi & CRISPRi-HCRFF & Loop\\_A\\\\\n",
       "\t chr11:5269147-5271147 & chr11:5270000-5271000 &   0 & CRISPRi & CRISPRi-HCRFF & Loop\\_A\\\\\n",
       "\t chr11:5269147-5271147 & chr11:5270000-5280000 &   0 & CRISPRi & CRISPRi-HCRFF & Loop\\_A\\\\\n",
       "\\end{tabular}\n"
      ],
      "text/markdown": [
       "\n",
       "A tibble: 6 × 6\n",
       "\n",
       "| Peak &lt;chr&gt; | Loop &lt;chr&gt; | Distance &lt;dbl&gt; | Annotation &lt;chr&gt; | Label_Peak &lt;chr&gt; | Label_Loop &lt;chr&gt; |\n",
       "|---|---|---|---|---|---|\n",
       "| chr11:5248847-5249047 | chr11:5240000-5250000 |   0 | CRISPRi | CRISPRi-HCRFF | Loop_A |\n",
       "| chr11:5249847-5250847 | chr11:5240000-5250000 |   0 | CRISPRi | CRISPRi-HCRFF | Loop_A |\n",
       "| chr11:5253147-5253547 | chr11:5252000-5253000 | 148 | CRISPRi | CRISPRi-HCRFF | Loop_A |\n",
       "| chr11:5253647-5254647 | chr11:5252000-5253000 | 648 | CRISPRi | CRISPRi-HCRFF | Loop_A |\n",
       "| chr11:5269147-5271147 | chr11:5270000-5271000 |   0 | CRISPRi | CRISPRi-HCRFF | Loop_A |\n",
       "| chr11:5269147-5271147 | chr11:5270000-5280000 |   0 | CRISPRi | CRISPRi-HCRFF | Loop_A |\n",
       "\n"
      ],
      "text/plain": [
       "  Peak                  Loop                  Distance Annotation Label_Peak   \n",
       "1 chr11:5248847-5249047 chr11:5240000-5250000   0      CRISPRi    CRISPRi-HCRFF\n",
       "2 chr11:5249847-5250847 chr11:5240000-5250000   0      CRISPRi    CRISPRi-HCRFF\n",
       "3 chr11:5253147-5253547 chr11:5252000-5253000 148      CRISPRi    CRISPRi-HCRFF\n",
       "4 chr11:5253647-5254647 chr11:5252000-5253000 648      CRISPRi    CRISPRi-HCRFF\n",
       "5 chr11:5269147-5271147 chr11:5270000-5271000   0      CRISPRi    CRISPRi-HCRFF\n",
       "6 chr11:5269147-5271147 chr11:5270000-5280000   0      CRISPRi    CRISPRi-HCRFF\n",
       "  Label_Loop\n",
       "1 Loop_A    \n",
       "2 Loop_A    \n",
       "3 Loop_A    \n",
       "4 Loop_A    \n",
       "5 Loop_A    \n",
       "6 Loop_A    "
      ]
     },
     "metadata": {},
     "output_type": "display_data"
    }
   ],
   "source": [
    "lst = lapply(seq_along(fpaths), function(idx){\n",
    "    ### get file paths and labels\n",
    "    fpath = fpaths[idx]\n",
    "    label_peak = label\n",
    "    label_loop = fun_get_label(fpath)\n",
    "    \n",
    "    ### read table\n",
    "    dat = read_tsv(fpath, col_names = FALSE, show_col_types = FALSE)\n",
    "    dat = dat %>% dplyr::select(\n",
    "        head(names(.), 3),\n",
    "        tail(names(.), 4))\n",
    "    \n",
    "    ### set column names\n",
    "    cnames = c(\"Chrom\", \"Start\", \"End\")\n",
    "    cnames = c(\n",
    "        paste(cnames, \"Peak\", sep = \"_\"),\n",
    "        paste(cnames, \"Loop\", sep = \"_\"),\n",
    "        \"Distance\"\n",
    "    )\n",
    "    colnames(dat) = cnames\n",
    "    \n",
    "    ### summarize info\n",
    "    dat = dat %>% \n",
    "        dplyr::mutate(\n",
    "            Peak = paste0(Chrom_Peak, \":\", fun_format(Start_Peak), \"-\", fun_format(End_Peak)),\n",
    "            Loop = paste0(Chrom_Loop, \":\", fun_format(Start_Loop), \"-\", fun_format(End_Loop))\n",
    "        ) %>%\n",
    "        dplyr::mutate(\n",
    "            Annotation = annotation,\n",
    "            Label_Peak = label_peak,\n",
    "            Label_Loop = label_loop\n",
    "        ) %>%\n",
    "        dplyr::select(Peak, Loop, Distance, Annotation, Label_Peak, Label_Loop)\n",
    "    return(dat)\n",
    "})\n",
    "\n",
    "### combine tables\n",
    "dat = bind_rows(lst)\n",
    "\n",
    "### assign and show\n",
    "dat_peak_crispri_hcrff = dat\n",
    "print(dim(dat))\n",
    "head(dat)"
   ]
  },
  {
   "cell_type": "markdown",
   "metadata": {},
   "source": [
    "## Import data | annotation_crispri_growth"
   ]
  },
  {
   "cell_type": "markdown",
   "metadata": {},
   "source": [
    "**Get files**"
   ]
  },
  {
   "cell_type": "code",
   "execution_count": 9,
   "metadata": {},
   "outputs": [
    {
     "name": "stdout",
     "output_type": "stream",
     "text": [
      "annotation_crispri_growth \n",
      "[1] \"Loop_A.annotation.crispri_growth.dhs.active.bed.gz\"\n",
      "[2] \"Loop_B.annotation.crispri_growth.dhs.active.bed.gz\"\n",
      "\n"
     ]
    }
   ],
   "source": [
    "folder_reg = \"hic_intact_deep\"\n",
    "folder_ant = \"annotation_crispri_growth\"\n",
    "\n",
    "cat(folder_ant, \"\\n\")\n",
    "fdiry  = file.path(FD_RES, \"results\", \"region\", folder_reg, folder_ant)\n",
    "fname  = \"*.active.bed.gz\"\n",
    "fglob  = file.path(fdiry, fname)\n",
    "fpaths = Sys.glob(fglob)\n",
    "fnames = basename(fpaths)\n",
    "print(fnames)\n",
    "cat(\"\\n\")\n",
    "\n",
    "annotation = \"CRISPRi\"\n",
    "label      = \"CRISPRi-Growth\""
   ]
  },
  {
   "cell_type": "markdown",
   "metadata": {},
   "source": [
    "**Import data**"
   ]
  },
  {
   "cell_type": "code",
   "execution_count": 10,
   "metadata": {},
   "outputs": [
    {
     "name": "stdout",
     "output_type": "stream",
     "text": [
      "[1] 17064     6\n"
     ]
    },
    {
     "data": {
      "text/html": [
       "<table class=\"dataframe\">\n",
       "<caption>A tibble: 6 × 6</caption>\n",
       "<thead>\n",
       "\t<tr><th scope=col>Peak</th><th scope=col>Loop</th><th scope=col>Distance</th><th scope=col>Annotation</th><th scope=col>Label_Peak</th><th scope=col>Label_Loop</th></tr>\n",
       "\t<tr><th scope=col>&lt;chr&gt;</th><th scope=col>&lt;chr&gt;</th><th scope=col>&lt;dbl&gt;</th><th scope=col>&lt;chr&gt;</th><th scope=col>&lt;chr&gt;</th><th scope=col>&lt;chr&gt;</th></tr>\n",
       "</thead>\n",
       "<tbody>\n",
       "\t<tr><td>chr1:605550-605627</td><td>chr1:778000-779000  </td><td>172374</td><td>CRISPRi</td><td>CRISPRi-Growth</td><td>Loop_A</td></tr>\n",
       "\t<tr><td>chr1:826642-827902</td><td>chr1:868000-870000  </td><td> 40099</td><td>CRISPRi</td><td>CRISPRi-Growth</td><td>Loop_A</td></tr>\n",
       "\t<tr><td>chr1:964946-965136</td><td>chr1:955000-960000  </td><td>  4947</td><td>CRISPRi</td><td>CRISPRi-Growth</td><td>Loop_A</td></tr>\n",
       "\t<tr><td>chr1:964946-965136</td><td>chr1:958000-960000  </td><td>  4947</td><td>CRISPRi</td><td>CRISPRi-Growth</td><td>Loop_A</td></tr>\n",
       "\t<tr><td>chr1:964946-965136</td><td>chr1:959000-960000  </td><td>  4947</td><td>CRISPRi</td><td>CRISPRi-Growth</td><td>Loop_A</td></tr>\n",
       "\t<tr><td>chr1:995761-996190</td><td>chr1:1000000-1001000</td><td>  3811</td><td>CRISPRi</td><td>CRISPRi-Growth</td><td>Loop_A</td></tr>\n",
       "</tbody>\n",
       "</table>\n"
      ],
      "text/latex": [
       "A tibble: 6 × 6\n",
       "\\begin{tabular}{llllll}\n",
       " Peak & Loop & Distance & Annotation & Label\\_Peak & Label\\_Loop\\\\\n",
       " <chr> & <chr> & <dbl> & <chr> & <chr> & <chr>\\\\\n",
       "\\hline\n",
       "\t chr1:605550-605627 & chr1:778000-779000   & 172374 & CRISPRi & CRISPRi-Growth & Loop\\_A\\\\\n",
       "\t chr1:826642-827902 & chr1:868000-870000   &  40099 & CRISPRi & CRISPRi-Growth & Loop\\_A\\\\\n",
       "\t chr1:964946-965136 & chr1:955000-960000   &   4947 & CRISPRi & CRISPRi-Growth & Loop\\_A\\\\\n",
       "\t chr1:964946-965136 & chr1:958000-960000   &   4947 & CRISPRi & CRISPRi-Growth & Loop\\_A\\\\\n",
       "\t chr1:964946-965136 & chr1:959000-960000   &   4947 & CRISPRi & CRISPRi-Growth & Loop\\_A\\\\\n",
       "\t chr1:995761-996190 & chr1:1000000-1001000 &   3811 & CRISPRi & CRISPRi-Growth & Loop\\_A\\\\\n",
       "\\end{tabular}\n"
      ],
      "text/markdown": [
       "\n",
       "A tibble: 6 × 6\n",
       "\n",
       "| Peak &lt;chr&gt; | Loop &lt;chr&gt; | Distance &lt;dbl&gt; | Annotation &lt;chr&gt; | Label_Peak &lt;chr&gt; | Label_Loop &lt;chr&gt; |\n",
       "|---|---|---|---|---|---|\n",
       "| chr1:605550-605627 | chr1:778000-779000   | 172374 | CRISPRi | CRISPRi-Growth | Loop_A |\n",
       "| chr1:826642-827902 | chr1:868000-870000   |  40099 | CRISPRi | CRISPRi-Growth | Loop_A |\n",
       "| chr1:964946-965136 | chr1:955000-960000   |   4947 | CRISPRi | CRISPRi-Growth | Loop_A |\n",
       "| chr1:964946-965136 | chr1:958000-960000   |   4947 | CRISPRi | CRISPRi-Growth | Loop_A |\n",
       "| chr1:964946-965136 | chr1:959000-960000   |   4947 | CRISPRi | CRISPRi-Growth | Loop_A |\n",
       "| chr1:995761-996190 | chr1:1000000-1001000 |   3811 | CRISPRi | CRISPRi-Growth | Loop_A |\n",
       "\n"
      ],
      "text/plain": [
       "  Peak               Loop                 Distance Annotation Label_Peak    \n",
       "1 chr1:605550-605627 chr1:778000-779000   172374   CRISPRi    CRISPRi-Growth\n",
       "2 chr1:826642-827902 chr1:868000-870000    40099   CRISPRi    CRISPRi-Growth\n",
       "3 chr1:964946-965136 chr1:955000-960000     4947   CRISPRi    CRISPRi-Growth\n",
       "4 chr1:964946-965136 chr1:958000-960000     4947   CRISPRi    CRISPRi-Growth\n",
       "5 chr1:964946-965136 chr1:959000-960000     4947   CRISPRi    CRISPRi-Growth\n",
       "6 chr1:995761-996190 chr1:1000000-1001000   3811   CRISPRi    CRISPRi-Growth\n",
       "  Label_Loop\n",
       "1 Loop_A    \n",
       "2 Loop_A    \n",
       "3 Loop_A    \n",
       "4 Loop_A    \n",
       "5 Loop_A    \n",
       "6 Loop_A    "
      ]
     },
     "metadata": {},
     "output_type": "display_data"
    }
   ],
   "source": [
    "lst = lapply(seq_along(fpaths), function(idx){\n",
    "    ### get file paths and labels\n",
    "    fpath = fpaths[idx]\n",
    "    label_peak = label\n",
    "    label_loop = fun_get_label(fpath)\n",
    "    \n",
    "    ### read table\n",
    "    dat = read_tsv(fpath, col_names = FALSE, show_col_types = FALSE)\n",
    "    dat = dat %>% dplyr::select(\n",
    "        head(names(.), 3),\n",
    "        tail(names(.), 4))\n",
    "    \n",
    "    ### set column names\n",
    "    cnames = c(\"Chrom\", \"Start\", \"End\")\n",
    "    cnames = c(\n",
    "        paste(cnames, \"Peak\", sep = \"_\"),\n",
    "        paste(cnames, \"Loop\", sep = \"_\"),\n",
    "        \"Distance\"\n",
    "    )\n",
    "    colnames(dat) = cnames\n",
    "    \n",
    "    ### summarize info\n",
    "    dat = dat %>% \n",
    "        dplyr::mutate(\n",
    "            Peak = paste0(Chrom_Peak, \":\", fun_format(Start_Peak), \"-\", fun_format(End_Peak)),\n",
    "            Loop = paste0(Chrom_Loop, \":\", fun_format(Start_Loop), \"-\", fun_format(End_Loop))\n",
    "        ) %>%\n",
    "        dplyr::mutate(\n",
    "            Annotation = annotation,\n",
    "            Label_Peak = label_peak,\n",
    "            Label_Loop = label_loop\n",
    "        ) %>%\n",
    "        dplyr::select(Peak, Loop, Distance, Annotation, Label_Peak, Label_Loop)\n",
    "    return(dat)\n",
    "})\n",
    "\n",
    "### combine tables\n",
    "dat = bind_rows(lst)\n",
    "\n",
    "### assign and show\n",
    "dat_peak_crispri_growth = dat\n",
    "print(dim(dat))\n",
    "head(dat)"
   ]
  },
  {
   "cell_type": "markdown",
   "metadata": {},
   "source": [
    "## Import data | annotation_encode_e2g_benchmark"
   ]
  },
  {
   "cell_type": "markdown",
   "metadata": {},
   "source": [
    "**Get files**"
   ]
  },
  {
   "cell_type": "code",
   "execution_count": 11,
   "metadata": {},
   "outputs": [
    {
     "name": "stdout",
     "output_type": "stream",
     "text": [
      "annotation_encode_e2g_benchmark \n",
      "[1] \"Loop_A.annotation.K562.EPCrisprBenchmark.active.merge.bed.gz\"\n",
      "[2] \"Loop_B.annotation.K562.EPCrisprBenchmark.active.merge.bed.gz\"\n",
      "\n"
     ]
    }
   ],
   "source": [
    "folder_reg = \"hic_intact_deep\"\n",
    "folder_ant = \"annotation_encode_e2g_benchmark\"\n",
    "\n",
    "cat(folder_ant, \"\\n\")\n",
    "fdiry  = file.path(FD_RES, \"results\", \"region\", folder_reg, folder_ant)\n",
    "fname  = \"*.active.merge.bed.gz\"\n",
    "fglob  = file.path(fdiry, fname)\n",
    "fpaths = Sys.glob(fglob)\n",
    "fnames = basename(fpaths)\n",
    "print(fnames)\n",
    "cat(\"\\n\")\n",
    "\n",
    "annotation = \"ENCODE-E2G\"\n",
    "label      = \"ENCODE-E2G_Benchmark\""
   ]
  },
  {
   "cell_type": "markdown",
   "metadata": {},
   "source": [
    "**Import data**"
   ]
  },
  {
   "cell_type": "code",
   "execution_count": 12,
   "metadata": {},
   "outputs": [
    {
     "name": "stdout",
     "output_type": "stream",
     "text": [
      "[1] 1286    6\n"
     ]
    },
    {
     "data": {
      "text/html": [
       "<table class=\"dataframe\">\n",
       "<caption>A tibble: 6 × 6</caption>\n",
       "<thead>\n",
       "\t<tr><th scope=col>Peak</th><th scope=col>Loop</th><th scope=col>Distance</th><th scope=col>Annotation</th><th scope=col>Label_Peak</th><th scope=col>Label_Loop</th></tr>\n",
       "\t<tr><th scope=col>&lt;chr&gt;</th><th scope=col>&lt;chr&gt;</th><th scope=col>&lt;dbl&gt;</th><th scope=col>&lt;chr&gt;</th><th scope=col>&lt;chr&gt;</th><th scope=col>&lt;chr&gt;</th></tr>\n",
       "</thead>\n",
       "<tbody>\n",
       "\t<tr><td>chr1:3774714-3775214  </td><td>chr1:3770000-3775000  </td><td>0</td><td>ENCODE-E2G</td><td>ENCODE-E2G_Benchmark</td><td>Loop_A</td></tr>\n",
       "\t<tr><td>chr1:3774714-3775214  </td><td>chr1:3770000-3780000  </td><td>0</td><td>ENCODE-E2G</td><td>ENCODE-E2G_Benchmark</td><td>Loop_A</td></tr>\n",
       "\t<tr><td>chr1:3774714-3775214  </td><td>chr1:3775000-3776000  </td><td>0</td><td>ENCODE-E2G</td><td>ENCODE-E2G_Benchmark</td><td>Loop_A</td></tr>\n",
       "\t<tr><td>chr1:8858063-8858563  </td><td>chr1:8858000-8859000  </td><td>0</td><td>ENCODE-E2G</td><td>ENCODE-E2G_Benchmark</td><td>Loop_A</td></tr>\n",
       "\t<tr><td>chr1:8858063-8858563  </td><td>chr1:8858000-8860000  </td><td>0</td><td>ENCODE-E2G</td><td>ENCODE-E2G_Benchmark</td><td>Loop_A</td></tr>\n",
       "\t<tr><td>chr1:17441310-17441810</td><td>chr1:17440000-17445000</td><td>0</td><td>ENCODE-E2G</td><td>ENCODE-E2G_Benchmark</td><td>Loop_A</td></tr>\n",
       "</tbody>\n",
       "</table>\n"
      ],
      "text/latex": [
       "A tibble: 6 × 6\n",
       "\\begin{tabular}{llllll}\n",
       " Peak & Loop & Distance & Annotation & Label\\_Peak & Label\\_Loop\\\\\n",
       " <chr> & <chr> & <dbl> & <chr> & <chr> & <chr>\\\\\n",
       "\\hline\n",
       "\t chr1:3774714-3775214   & chr1:3770000-3775000   & 0 & ENCODE-E2G & ENCODE-E2G\\_Benchmark & Loop\\_A\\\\\n",
       "\t chr1:3774714-3775214   & chr1:3770000-3780000   & 0 & ENCODE-E2G & ENCODE-E2G\\_Benchmark & Loop\\_A\\\\\n",
       "\t chr1:3774714-3775214   & chr1:3775000-3776000   & 0 & ENCODE-E2G & ENCODE-E2G\\_Benchmark & Loop\\_A\\\\\n",
       "\t chr1:8858063-8858563   & chr1:8858000-8859000   & 0 & ENCODE-E2G & ENCODE-E2G\\_Benchmark & Loop\\_A\\\\\n",
       "\t chr1:8858063-8858563   & chr1:8858000-8860000   & 0 & ENCODE-E2G & ENCODE-E2G\\_Benchmark & Loop\\_A\\\\\n",
       "\t chr1:17441310-17441810 & chr1:17440000-17445000 & 0 & ENCODE-E2G & ENCODE-E2G\\_Benchmark & Loop\\_A\\\\\n",
       "\\end{tabular}\n"
      ],
      "text/markdown": [
       "\n",
       "A tibble: 6 × 6\n",
       "\n",
       "| Peak &lt;chr&gt; | Loop &lt;chr&gt; | Distance &lt;dbl&gt; | Annotation &lt;chr&gt; | Label_Peak &lt;chr&gt; | Label_Loop &lt;chr&gt; |\n",
       "|---|---|---|---|---|---|\n",
       "| chr1:3774714-3775214   | chr1:3770000-3775000   | 0 | ENCODE-E2G | ENCODE-E2G_Benchmark | Loop_A |\n",
       "| chr1:3774714-3775214   | chr1:3770000-3780000   | 0 | ENCODE-E2G | ENCODE-E2G_Benchmark | Loop_A |\n",
       "| chr1:3774714-3775214   | chr1:3775000-3776000   | 0 | ENCODE-E2G | ENCODE-E2G_Benchmark | Loop_A |\n",
       "| chr1:8858063-8858563   | chr1:8858000-8859000   | 0 | ENCODE-E2G | ENCODE-E2G_Benchmark | Loop_A |\n",
       "| chr1:8858063-8858563   | chr1:8858000-8860000   | 0 | ENCODE-E2G | ENCODE-E2G_Benchmark | Loop_A |\n",
       "| chr1:17441310-17441810 | chr1:17440000-17445000 | 0 | ENCODE-E2G | ENCODE-E2G_Benchmark | Loop_A |\n",
       "\n"
      ],
      "text/plain": [
       "  Peak                   Loop                   Distance Annotation\n",
       "1 chr1:3774714-3775214   chr1:3770000-3775000   0        ENCODE-E2G\n",
       "2 chr1:3774714-3775214   chr1:3770000-3780000   0        ENCODE-E2G\n",
       "3 chr1:3774714-3775214   chr1:3775000-3776000   0        ENCODE-E2G\n",
       "4 chr1:8858063-8858563   chr1:8858000-8859000   0        ENCODE-E2G\n",
       "5 chr1:8858063-8858563   chr1:8858000-8860000   0        ENCODE-E2G\n",
       "6 chr1:17441310-17441810 chr1:17440000-17445000 0        ENCODE-E2G\n",
       "  Label_Peak           Label_Loop\n",
       "1 ENCODE-E2G_Benchmark Loop_A    \n",
       "2 ENCODE-E2G_Benchmark Loop_A    \n",
       "3 ENCODE-E2G_Benchmark Loop_A    \n",
       "4 ENCODE-E2G_Benchmark Loop_A    \n",
       "5 ENCODE-E2G_Benchmark Loop_A    \n",
       "6 ENCODE-E2G_Benchmark Loop_A    "
      ]
     },
     "metadata": {},
     "output_type": "display_data"
    }
   ],
   "source": [
    "lst = lapply(seq_along(fpaths), function(idx){\n",
    "    ### get file paths and labels\n",
    "    fpath = fpaths[idx]\n",
    "    label_peak = label\n",
    "    label_loop = fun_get_label(fpath)\n",
    "    \n",
    "    ### read table\n",
    "    dat = read_tsv(fpath, col_names = FALSE, show_col_types = FALSE)\n",
    "    dat = dat %>% dplyr::select(\n",
    "        head(names(.), 3),\n",
    "        tail(names(.), 4))\n",
    "    \n",
    "    ### set column names\n",
    "    cnames = c(\"Chrom\", \"Start\", \"End\")\n",
    "    cnames = c(\n",
    "        paste(cnames, \"Peak\", sep = \"_\"),\n",
    "        paste(cnames, \"Loop\", sep = \"_\"),\n",
    "        \"Distance\"\n",
    "    )\n",
    "    colnames(dat) = cnames\n",
    "    \n",
    "    ### summarize info\n",
    "    dat = dat %>% \n",
    "        dplyr::mutate(\n",
    "            Peak = paste0(Chrom_Peak, \":\", fun_format(Start_Peak), \"-\", fun_format(End_Peak)),\n",
    "            Loop = paste0(Chrom_Loop, \":\", fun_format(Start_Loop), \"-\", fun_format(End_Loop))\n",
    "        ) %>%\n",
    "        dplyr::mutate(\n",
    "            Annotation = annotation,\n",
    "            Label_Peak = label_peak,\n",
    "            Label_Loop = label_loop\n",
    "        ) %>%\n",
    "        dplyr::select(Peak, Loop, Distance, Annotation, Label_Peak, Label_Loop)\n",
    "    return(dat)\n",
    "})\n",
    "\n",
    "### combine tables\n",
    "dat = bind_rows(lst)\n",
    "\n",
    "### assign and show\n",
    "dat_peak_encode_e2g_benchmark = dat\n",
    "print(dim(dat))\n",
    "head(dat)"
   ]
  },
  {
   "cell_type": "markdown",
   "metadata": {},
   "source": [
    "## Import data | annotation_encode_e2g_prediction"
   ]
  },
  {
   "cell_type": "markdown",
   "metadata": {},
   "source": [
    "**Get files**"
   ]
  },
  {
   "cell_type": "code",
   "execution_count": 13,
   "metadata": {},
   "outputs": [
    {
     "name": "stdout",
     "output_type": "stream",
     "text": [
      "annotation_encode_e2g_prediction \n",
      "[1] \"Loop_A.annotation.K562.ENCSR328LMT.ENCFF202FID.element_gene_links.active.merge.bed.gz\"\n",
      "[2] \"Loop_B.annotation.K562.ENCSR328LMT.ENCFF202FID.element_gene_links.active.merge.bed.gz\"\n",
      "\n"
     ]
    }
   ],
   "source": [
    "folder_reg = \"hic_intact_deep\"\n",
    "folder_ant = \"annotation_encode_e2g_prediction\"\n",
    "\n",
    "cat(folder_ant, \"\\n\")\n",
    "fdiry  = file.path(FD_RES, \"results\", \"region\", folder_reg, folder_ant)\n",
    "fname  = \"*.active.merge.bed.gz\"\n",
    "fglob  = file.path(fdiry, fname)\n",
    "fpaths = Sys.glob(fglob)\n",
    "fnames = basename(fpaths)\n",
    "print(fnames)\n",
    "cat(\"\\n\")\n",
    "\n",
    "annotation = \"ENCODE-E2G\"\n",
    "label      = \"ENCODE-E2G_Prediction\""
   ]
  },
  {
   "cell_type": "markdown",
   "metadata": {},
   "source": [
    "**Import data**"
   ]
  },
  {
   "cell_type": "code",
   "execution_count": 14,
   "metadata": {},
   "outputs": [
    {
     "name": "stdout",
     "output_type": "stream",
     "text": [
      "[1] 146733      6\n"
     ]
    },
    {
     "data": {
      "text/html": [
       "<table class=\"dataframe\">\n",
       "<caption>A tibble: 6 × 6</caption>\n",
       "<thead>\n",
       "\t<tr><th scope=col>Peak</th><th scope=col>Loop</th><th scope=col>Distance</th><th scope=col>Annotation</th><th scope=col>Label_Peak</th><th scope=col>Label_Loop</th></tr>\n",
       "\t<tr><th scope=col>&lt;chr&gt;</th><th scope=col>&lt;chr&gt;</th><th scope=col>&lt;dbl&gt;</th><th scope=col>&lt;chr&gt;</th><th scope=col>&lt;chr&gt;</th><th scope=col>&lt;chr&gt;</th></tr>\n",
       "</thead>\n",
       "<tbody>\n",
       "\t<tr><td>chr1:115484-115984</td><td>chr1:778000-779000</td><td>662017</td><td>ENCODE-E2G</td><td>ENCODE-E2G_Prediction</td><td>Loop_A</td></tr>\n",
       "\t<tr><td>chr1:628759-629259</td><td>chr1:778000-779000</td><td>148742</td><td>ENCODE-E2G</td><td>ENCODE-E2G_Prediction</td><td>Loop_A</td></tr>\n",
       "\t<tr><td>chr1:629372-629872</td><td>chr1:778000-779000</td><td>148129</td><td>ENCODE-E2G</td><td>ENCODE-E2G_Prediction</td><td>Loop_A</td></tr>\n",
       "\t<tr><td>chr1:632439-632939</td><td>chr1:778000-779000</td><td>145062</td><td>ENCODE-E2G</td><td>ENCODE-E2G_Prediction</td><td>Loop_A</td></tr>\n",
       "\t<tr><td>chr1:633766-634583</td><td>chr1:778000-779000</td><td>143418</td><td>ENCODE-E2G</td><td>ENCODE-E2G_Prediction</td><td>Loop_A</td></tr>\n",
       "\t<tr><td>chr1:778438-779143</td><td>chr1:778000-779000</td><td>     0</td><td>ENCODE-E2G</td><td>ENCODE-E2G_Prediction</td><td>Loop_A</td></tr>\n",
       "</tbody>\n",
       "</table>\n"
      ],
      "text/latex": [
       "A tibble: 6 × 6\n",
       "\\begin{tabular}{llllll}\n",
       " Peak & Loop & Distance & Annotation & Label\\_Peak & Label\\_Loop\\\\\n",
       " <chr> & <chr> & <dbl> & <chr> & <chr> & <chr>\\\\\n",
       "\\hline\n",
       "\t chr1:115484-115984 & chr1:778000-779000 & 662017 & ENCODE-E2G & ENCODE-E2G\\_Prediction & Loop\\_A\\\\\n",
       "\t chr1:628759-629259 & chr1:778000-779000 & 148742 & ENCODE-E2G & ENCODE-E2G\\_Prediction & Loop\\_A\\\\\n",
       "\t chr1:629372-629872 & chr1:778000-779000 & 148129 & ENCODE-E2G & ENCODE-E2G\\_Prediction & Loop\\_A\\\\\n",
       "\t chr1:632439-632939 & chr1:778000-779000 & 145062 & ENCODE-E2G & ENCODE-E2G\\_Prediction & Loop\\_A\\\\\n",
       "\t chr1:633766-634583 & chr1:778000-779000 & 143418 & ENCODE-E2G & ENCODE-E2G\\_Prediction & Loop\\_A\\\\\n",
       "\t chr1:778438-779143 & chr1:778000-779000 &      0 & ENCODE-E2G & ENCODE-E2G\\_Prediction & Loop\\_A\\\\\n",
       "\\end{tabular}\n"
      ],
      "text/markdown": [
       "\n",
       "A tibble: 6 × 6\n",
       "\n",
       "| Peak &lt;chr&gt; | Loop &lt;chr&gt; | Distance &lt;dbl&gt; | Annotation &lt;chr&gt; | Label_Peak &lt;chr&gt; | Label_Loop &lt;chr&gt; |\n",
       "|---|---|---|---|---|---|\n",
       "| chr1:115484-115984 | chr1:778000-779000 | 662017 | ENCODE-E2G | ENCODE-E2G_Prediction | Loop_A |\n",
       "| chr1:628759-629259 | chr1:778000-779000 | 148742 | ENCODE-E2G | ENCODE-E2G_Prediction | Loop_A |\n",
       "| chr1:629372-629872 | chr1:778000-779000 | 148129 | ENCODE-E2G | ENCODE-E2G_Prediction | Loop_A |\n",
       "| chr1:632439-632939 | chr1:778000-779000 | 145062 | ENCODE-E2G | ENCODE-E2G_Prediction | Loop_A |\n",
       "| chr1:633766-634583 | chr1:778000-779000 | 143418 | ENCODE-E2G | ENCODE-E2G_Prediction | Loop_A |\n",
       "| chr1:778438-779143 | chr1:778000-779000 |      0 | ENCODE-E2G | ENCODE-E2G_Prediction | Loop_A |\n",
       "\n"
      ],
      "text/plain": [
       "  Peak               Loop               Distance Annotation\n",
       "1 chr1:115484-115984 chr1:778000-779000 662017   ENCODE-E2G\n",
       "2 chr1:628759-629259 chr1:778000-779000 148742   ENCODE-E2G\n",
       "3 chr1:629372-629872 chr1:778000-779000 148129   ENCODE-E2G\n",
       "4 chr1:632439-632939 chr1:778000-779000 145062   ENCODE-E2G\n",
       "5 chr1:633766-634583 chr1:778000-779000 143418   ENCODE-E2G\n",
       "6 chr1:778438-779143 chr1:778000-779000      0   ENCODE-E2G\n",
       "  Label_Peak            Label_Loop\n",
       "1 ENCODE-E2G_Prediction Loop_A    \n",
       "2 ENCODE-E2G_Prediction Loop_A    \n",
       "3 ENCODE-E2G_Prediction Loop_A    \n",
       "4 ENCODE-E2G_Prediction Loop_A    \n",
       "5 ENCODE-E2G_Prediction Loop_A    \n",
       "6 ENCODE-E2G_Prediction Loop_A    "
      ]
     },
     "metadata": {},
     "output_type": "display_data"
    }
   ],
   "source": [
    "lst = lapply(seq_along(fpaths), function(idx){\n",
    "    ### get file paths and labels\n",
    "    fpath = fpaths[idx]\n",
    "    label_peak = label\n",
    "    label_loop = fun_get_label(fpath)\n",
    "    \n",
    "    ### read table\n",
    "    dat = read_tsv(fpath, col_names = FALSE, show_col_types = FALSE)\n",
    "    dat = dat %>% dplyr::select(\n",
    "        head(names(.), 3),\n",
    "        tail(names(.), 4))\n",
    "    \n",
    "    ### set column names\n",
    "    cnames = c(\"Chrom\", \"Start\", \"End\")\n",
    "    cnames = c(\n",
    "        paste(cnames, \"Peak\", sep = \"_\"),\n",
    "        paste(cnames, \"Loop\", sep = \"_\"),\n",
    "        \"Distance\"\n",
    "    )\n",
    "    colnames(dat) = cnames\n",
    "    \n",
    "    ### summarize info\n",
    "    dat = dat %>% \n",
    "        dplyr::mutate(\n",
    "            Peak = paste0(Chrom_Peak, \":\", fun_format(Start_Peak), \"-\", fun_format(End_Peak)),\n",
    "            Loop = paste0(Chrom_Loop, \":\", fun_format(Start_Loop), \"-\", fun_format(End_Loop))\n",
    "        ) %>%\n",
    "        dplyr::mutate(\n",
    "            Annotation = annotation,\n",
    "            Label_Peak = label_peak,\n",
    "            Label_Loop = label_loop\n",
    "        ) %>%\n",
    "        dplyr::select(Peak, Loop, Distance, Annotation, Label_Peak, Label_Loop)\n",
    "    return(dat)\n",
    "})\n",
    "\n",
    "### combine tables\n",
    "dat = bind_rows(lst)\n",
    "\n",
    "### assign and show\n",
    "dat_peak_encode_e2g_prediction = dat\n",
    "print(dim(dat))\n",
    "head(dat)"
   ]
  },
  {
   "cell_type": "markdown",
   "metadata": {},
   "source": [
    "## Import data | ATAC"
   ]
  },
  {
   "cell_type": "markdown",
   "metadata": {},
   "source": [
    "**Get files**"
   ]
  },
  {
   "cell_type": "code",
   "execution_count": 15,
   "metadata": {},
   "outputs": [
    {
     "name": "stdout",
     "output_type": "stream",
     "text": [
      "KS91_K562_ASTARRseq_peak_macs_input \n",
      "[1] \"Loop_A.annotation.KS91_K562_hg38_ASTARRseq_Input.all_reps.masked.union_narrowPeak.q5.bed.gz\"\n",
      "[2] \"Loop_B.annotation.KS91_K562_hg38_ASTARRseq_Input.all_reps.masked.union_narrowPeak.q5.bed.gz\"\n",
      "\n"
     ]
    }
   ],
   "source": [
    "folder_reg = \"hic_intact_deep\"\n",
    "folder_ant = \"KS91_K562_ASTARRseq_peak_macs_input\"\n",
    "\n",
    "cat(folder_ant, \"\\n\")\n",
    "fdiry  = file.path(FD_RES, \"results\", \"region\", folder_reg, folder_ant)\n",
    "fname  = \"*.bed.gz\"\n",
    "fglob  = file.path(fdiry, fname)\n",
    "fpaths = Sys.glob(fglob)\n",
    "fnames = basename(fpaths)\n",
    "print(fnames)\n",
    "cat(\"\\n\")\n",
    "\n",
    "annotation = \"ATAC\"\n",
    "label      = \"ATAC\""
   ]
  },
  {
   "cell_type": "markdown",
   "metadata": {},
   "source": [
    "**Import data**"
   ]
  },
  {
   "cell_type": "code",
   "execution_count": 16,
   "metadata": {},
   "outputs": [
    {
     "name": "stdout",
     "output_type": "stream",
     "text": [
      "[1] 569206      6\n"
     ]
    },
    {
     "data": {
      "text/html": [
       "<table class=\"dataframe\">\n",
       "<caption>A tibble: 6 × 6</caption>\n",
       "<thead>\n",
       "\t<tr><th scope=col>Peak</th><th scope=col>Loop</th><th scope=col>Distance</th><th scope=col>Annotation</th><th scope=col>Label_Peak</th><th scope=col>Label_Loop</th></tr>\n",
       "\t<tr><th scope=col>&lt;chr&gt;</th><th scope=col>&lt;chr&gt;</th><th scope=col>&lt;dbl&gt;</th><th scope=col>&lt;chr&gt;</th><th scope=col>&lt;chr&gt;</th><th scope=col>&lt;chr&gt;</th></tr>\n",
       "</thead>\n",
       "<tbody>\n",
       "\t<tr><td>chr1:10015-10442</td><td>chr1:778000-779000</td><td>767559</td><td>ATAC</td><td>ATAC</td><td>Loop_A</td></tr>\n",
       "\t<tr><td>chr1:14253-14645</td><td>chr1:778000-779000</td><td>763356</td><td>ATAC</td><td>ATAC</td><td>Loop_A</td></tr>\n",
       "\t<tr><td>chr1:16015-16477</td><td>chr1:778000-779000</td><td>761524</td><td>ATAC</td><td>ATAC</td><td>Loop_A</td></tr>\n",
       "\t<tr><td>chr1:17237-17772</td><td>chr1:778000-779000</td><td>760229</td><td>ATAC</td><td>ATAC</td><td>Loop_A</td></tr>\n",
       "\t<tr><td>chr1:28903-29613</td><td>chr1:778000-779000</td><td>748388</td><td>ATAC</td><td>ATAC</td><td>Loop_A</td></tr>\n",
       "\t<tr><td>chr1:30803-31072</td><td>chr1:778000-779000</td><td>746929</td><td>ATAC</td><td>ATAC</td><td>Loop_A</td></tr>\n",
       "</tbody>\n",
       "</table>\n"
      ],
      "text/latex": [
       "A tibble: 6 × 6\n",
       "\\begin{tabular}{llllll}\n",
       " Peak & Loop & Distance & Annotation & Label\\_Peak & Label\\_Loop\\\\\n",
       " <chr> & <chr> & <dbl> & <chr> & <chr> & <chr>\\\\\n",
       "\\hline\n",
       "\t chr1:10015-10442 & chr1:778000-779000 & 767559 & ATAC & ATAC & Loop\\_A\\\\\n",
       "\t chr1:14253-14645 & chr1:778000-779000 & 763356 & ATAC & ATAC & Loop\\_A\\\\\n",
       "\t chr1:16015-16477 & chr1:778000-779000 & 761524 & ATAC & ATAC & Loop\\_A\\\\\n",
       "\t chr1:17237-17772 & chr1:778000-779000 & 760229 & ATAC & ATAC & Loop\\_A\\\\\n",
       "\t chr1:28903-29613 & chr1:778000-779000 & 748388 & ATAC & ATAC & Loop\\_A\\\\\n",
       "\t chr1:30803-31072 & chr1:778000-779000 & 746929 & ATAC & ATAC & Loop\\_A\\\\\n",
       "\\end{tabular}\n"
      ],
      "text/markdown": [
       "\n",
       "A tibble: 6 × 6\n",
       "\n",
       "| Peak &lt;chr&gt; | Loop &lt;chr&gt; | Distance &lt;dbl&gt; | Annotation &lt;chr&gt; | Label_Peak &lt;chr&gt; | Label_Loop &lt;chr&gt; |\n",
       "|---|---|---|---|---|---|\n",
       "| chr1:10015-10442 | chr1:778000-779000 | 767559 | ATAC | ATAC | Loop_A |\n",
       "| chr1:14253-14645 | chr1:778000-779000 | 763356 | ATAC | ATAC | Loop_A |\n",
       "| chr1:16015-16477 | chr1:778000-779000 | 761524 | ATAC | ATAC | Loop_A |\n",
       "| chr1:17237-17772 | chr1:778000-779000 | 760229 | ATAC | ATAC | Loop_A |\n",
       "| chr1:28903-29613 | chr1:778000-779000 | 748388 | ATAC | ATAC | Loop_A |\n",
       "| chr1:30803-31072 | chr1:778000-779000 | 746929 | ATAC | ATAC | Loop_A |\n",
       "\n"
      ],
      "text/plain": [
       "  Peak             Loop               Distance Annotation Label_Peak Label_Loop\n",
       "1 chr1:10015-10442 chr1:778000-779000 767559   ATAC       ATAC       Loop_A    \n",
       "2 chr1:14253-14645 chr1:778000-779000 763356   ATAC       ATAC       Loop_A    \n",
       "3 chr1:16015-16477 chr1:778000-779000 761524   ATAC       ATAC       Loop_A    \n",
       "4 chr1:17237-17772 chr1:778000-779000 760229   ATAC       ATAC       Loop_A    \n",
       "5 chr1:28903-29613 chr1:778000-779000 748388   ATAC       ATAC       Loop_A    \n",
       "6 chr1:30803-31072 chr1:778000-779000 746929   ATAC       ATAC       Loop_A    "
      ]
     },
     "metadata": {},
     "output_type": "display_data"
    }
   ],
   "source": [
    "lst = lapply(seq_along(fpaths), function(idx){\n",
    "    ### get file paths and labels\n",
    "    fpath = fpaths[idx]\n",
    "    label_peak = label\n",
    "    label_loop = fun_get_label(fpath)\n",
    "    \n",
    "    ### read table\n",
    "    dat = read_tsv(fpath, col_names = FALSE, show_col_types = FALSE)\n",
    "    dat = dat %>% dplyr::select(\n",
    "        head(names(.), 3),\n",
    "        tail(names(.), 4))\n",
    "    \n",
    "    ### set column names\n",
    "    cnames = c(\"Chrom\", \"Start\", \"End\")\n",
    "    cnames = c(\n",
    "        paste(cnames, \"Peak\", sep = \"_\"),\n",
    "        paste(cnames, \"Loop\", sep = \"_\"),\n",
    "        \"Distance\"\n",
    "    )\n",
    "    colnames(dat) = cnames\n",
    "    \n",
    "    ### summarize info\n",
    "    dat = dat %>% \n",
    "        dplyr::mutate(\n",
    "            Peak = paste0(Chrom_Peak, \":\", fun_format(Start_Peak), \"-\", fun_format(End_Peak)),\n",
    "            Loop = paste0(Chrom_Loop, \":\", fun_format(Start_Loop), \"-\", fun_format(End_Loop))\n",
    "        ) %>%\n",
    "        dplyr::mutate(\n",
    "            Annotation = annotation,\n",
    "            Label_Peak = label_peak,\n",
    "            Label_Loop = label_loop\n",
    "        ) %>%\n",
    "        dplyr::select(Peak, Loop, Distance, Annotation, Label_Peak, Label_Loop)\n",
    "    return(dat)\n",
    "})\n",
    "\n",
    "### combine tables\n",
    "dat = bind_rows(lst)\n",
    "\n",
    "### assign and show\n",
    "dat_peak_atac = dat\n",
    "print(dim(dat))\n",
    "head(dat)"
   ]
  },
  {
   "cell_type": "markdown",
   "metadata": {},
   "source": [
    "## Save results"
   ]
  },
  {
   "cell_type": "code",
   "execution_count": 17,
   "metadata": {},
   "outputs": [
    {
     "name": "stdout",
     "output_type": "stream",
     "text": [
      "[1] 6\n",
      "[1] 6\n"
     ]
    }
   ],
   "source": [
    "lst_dat_peak = list(\n",
    "    dat_peak_starrmpra,\n",
    "    dat_peak_crispri_hcrff,\n",
    "    dat_peak_crispri_growth,\n",
    "    dat_peak_encode_e2g_benchmark,\n",
    "    dat_peak_encode_e2g_prediction,\n",
    "    dat_peak_atac\n",
    ")\n",
    "\n",
    "vec_txt_fname = c(\n",
    "    \"peak.summary.enhancer_zscore_junke.concat.tsv\",\n",
    "    \"peak.summary.crispri_hcrff.casa.merge.tsv\",\n",
    "    \"peak.summary.crispri_growth.dhs.active.tsv\",\n",
    "    \"peak.summary.encode_e2g_benchmark.active.merge.tsv\",\n",
    "    \"peak.summary.encode_e2g_prediction.active.merge.tsv\",\n",
    "    \"peak.summary.KS91_K562_ASTARRseq_peak_macs_input.tsv\"\n",
    ")\n",
    "\n",
    "print(length(lst_dat_peak))\n",
    "print(length(vec_txt_fname))"
   ]
  },
  {
   "cell_type": "code",
   "execution_count": 31,
   "metadata": {},
   "outputs": [
    {
     "name": "stdout",
     "output_type": "stream",
     "text": [
      "Peak annotation and label: \n",
      "* Enhancer_ZScore \n",
      "* ASTARR_AB ASTARR_A ASTARR_R LMPRA_AB LMPRA_A LMPRA_R TMPRA_A TMPRA_R WSTARR_AB WSTARR_A WSTARR_R \n",
      "\n",
      "File name: \n",
      "* peak.summary.enhancer_zscore_junke.concat.tsv \n",
      "\n",
      "Peak annotation and label: \n",
      "* CRISPRi \n",
      "* CRISPRi-HCRFF \n",
      "\n",
      "File name: \n",
      "* peak.summary.crispri_hcrff.casa.merge.tsv \n",
      "\n",
      "Peak annotation and label: \n",
      "* CRISPRi \n",
      "* CRISPRi-Growth \n",
      "\n",
      "File name: \n",
      "* peak.summary.crispri_growth.dhs.active.tsv \n",
      "\n",
      "Peak annotation and label: \n",
      "* ENCODE-E2G \n",
      "* ENCODE-E2G_Benchmark \n",
      "\n",
      "File name: \n",
      "* peak.summary.encode_e2g_benchmark.active.merge.tsv \n",
      "\n",
      "Peak annotation and label: \n",
      "* ENCODE-E2G \n",
      "* ENCODE-E2G_Prediction \n",
      "\n",
      "File name: \n",
      "* peak.summary.encode_e2g_prediction.active.merge.tsv \n",
      "\n",
      "Peak annotation and label: \n",
      "* ATAC \n",
      "* ATAC \n",
      "\n",
      "File name: \n",
      "* peak.summary.KS91_K562_ASTARRseq_peak_macs_input.tsv \n",
      "\n"
     ]
    }
   ],
   "source": [
    "fdiry = file.path(FD_RES, \"results\", \"region\", \"hic_intact_deep\", \"summary\")\n",
    "\n",
    "for (idx in seq_along(lst_dat_peak)){\n",
    "    ### get table and file name\n",
    "    dat   = lst_dat_peak[[idx]]\n",
    "    fname = vec_txt_fname[idx]\n",
    "    \n",
    "    ### double check the results\n",
    "    cat(\"Peak annotation and label:\", \"\\n\")\n",
    "    cat(\"*\", unique(dat$Annotation),  \"\\n\")\n",
    "    cat(\"*\", unique(dat$Label_Peak),  \"\\n\")\n",
    "    cat(\"\\n\")\n",
    "    cat(\"File name:\", \"\\n\")\n",
    "    cat(\"*\", fname,   \"\\n\")\n",
    "    cat(\"\\n\")\n",
    "    \n",
    "    ### write table\n",
    "    fpath = file.path(fdiry, fname)\n",
    "    write_tsv(dat, fpath)\n",
    "}"
   ]
  },
  {
   "cell_type": "code",
   "execution_count": null,
   "metadata": {},
   "outputs": [],
   "source": []
  },
  {
   "cell_type": "markdown",
   "metadata": {},
   "source": [
    "## Combine"
   ]
  },
  {
   "cell_type": "code",
   "execution_count": 35,
   "metadata": {},
   "outputs": [
    {
     "name": "stdout",
     "output_type": "stream",
     "text": [
      "[1] 426565      4\n"
     ]
    },
    {
     "data": {
      "text/html": [
       "<table class=\"dataframe\">\n",
       "<caption>A tibble: 6 × 4</caption>\n",
       "<thead>\n",
       "\t<tr><th scope=col>Peak</th><th scope=col>Annotation</th><th scope=col>Label</th><th scope=col>Distance</th></tr>\n",
       "\t<tr><th scope=col>&lt;chr&gt;</th><th scope=col>&lt;chr&gt;</th><th scope=col>&lt;chr&gt;</th><th scope=col>&lt;dbl&gt;</th></tr>\n",
       "</thead>\n",
       "<tbody>\n",
       "\t<tr><td>chr10:100009910-100010030</td><td>Enhancer_ZScore</td><td>WSTARR_A</td><td>    0</td></tr>\n",
       "\t<tr><td>chr10:100028090-100028450</td><td>Enhancer_ZScore</td><td>WSTARR_A</td><td>11551</td></tr>\n",
       "\t<tr><td>chr10:100065350-100065450</td><td>Enhancer_ZScore</td><td>WSTARR_A</td><td>15351</td></tr>\n",
       "\t<tr><td>chr10:100084860-100085030</td><td>Enhancer_ZScore</td><td>WSTARR_A</td><td>14971</td></tr>\n",
       "\t<tr><td>chr10:100151850-100152350</td><td>Enhancer_ZScore</td><td>WSTARR_A</td><td>32651</td></tr>\n",
       "\t<tr><td>chr10:100185810-100186310</td><td>Enhancer_ZScore</td><td>WSTARR_A</td><td>    0</td></tr>\n",
       "</tbody>\n",
       "</table>\n"
      ],
      "text/latex": [
       "A tibble: 6 × 4\n",
       "\\begin{tabular}{llll}\n",
       " Peak & Annotation & Label & Distance\\\\\n",
       " <chr> & <chr> & <chr> & <dbl>\\\\\n",
       "\\hline\n",
       "\t chr10:100009910-100010030 & Enhancer\\_ZScore & WSTARR\\_A &     0\\\\\n",
       "\t chr10:100028090-100028450 & Enhancer\\_ZScore & WSTARR\\_A & 11551\\\\\n",
       "\t chr10:100065350-100065450 & Enhancer\\_ZScore & WSTARR\\_A & 15351\\\\\n",
       "\t chr10:100084860-100085030 & Enhancer\\_ZScore & WSTARR\\_A & 14971\\\\\n",
       "\t chr10:100151850-100152350 & Enhancer\\_ZScore & WSTARR\\_A & 32651\\\\\n",
       "\t chr10:100185810-100186310 & Enhancer\\_ZScore & WSTARR\\_A &     0\\\\\n",
       "\\end{tabular}\n"
      ],
      "text/markdown": [
       "\n",
       "A tibble: 6 × 4\n",
       "\n",
       "| Peak &lt;chr&gt; | Annotation &lt;chr&gt; | Label &lt;chr&gt; | Distance &lt;dbl&gt; |\n",
       "|---|---|---|---|\n",
       "| chr10:100009910-100010030 | Enhancer_ZScore | WSTARR_A |     0 |\n",
       "| chr10:100028090-100028450 | Enhancer_ZScore | WSTARR_A | 11551 |\n",
       "| chr10:100065350-100065450 | Enhancer_ZScore | WSTARR_A | 15351 |\n",
       "| chr10:100084860-100085030 | Enhancer_ZScore | WSTARR_A | 14971 |\n",
       "| chr10:100151850-100152350 | Enhancer_ZScore | WSTARR_A | 32651 |\n",
       "| chr10:100185810-100186310 | Enhancer_ZScore | WSTARR_A |     0 |\n",
       "\n"
      ],
      "text/plain": [
       "  Peak                      Annotation      Label    Distance\n",
       "1 chr10:100009910-100010030 Enhancer_ZScore WSTARR_A     0   \n",
       "2 chr10:100028090-100028450 Enhancer_ZScore WSTARR_A 11551   \n",
       "3 chr10:100065350-100065450 Enhancer_ZScore WSTARR_A 15351   \n",
       "4 chr10:100084860-100085030 Enhancer_ZScore WSTARR_A 14971   \n",
       "5 chr10:100151850-100152350 Enhancer_ZScore WSTARR_A 32651   \n",
       "6 chr10:100185810-100186310 Enhancer_ZScore WSTARR_A     0   "
      ]
     },
     "metadata": {},
     "output_type": "display_data"
    }
   ],
   "source": [
    "lst = list(\n",
    "    dat_peak_starrmpra_active,\n",
    "    dat_peak_crispri_hcrff,\n",
    "    dat_peak_crispri_growth,\n",
    "    dat_peak_encode_e2g_benchmark,\n",
    "    dat_peak_encode_e2g_prediction,\n",
    "    dat_peak_atac\n",
    ")\n",
    "\n",
    "dat = bind_rows(lst)\n",
    "\n",
    "dat_peak_combine = dat\n",
    "print(dim(dat))\n",
    "head(dat)"
   ]
  },
  {
   "cell_type": "code",
   "execution_count": 49,
   "metadata": {},
   "outputs": [
    {
     "data": {
      "text/html": [
       "<table class=\"dataframe\">\n",
       "<caption>A tibble: 9 × 6</caption>\n",
       "<thead>\n",
       "\t<tr><th scope=col>Assay</th><th scope=col>Count</th><th scope=col>Total</th><th scope=col>Freq</th><th scope=col>Count_Label</th><th scope=col>Assay_Label</th></tr>\n",
       "\t<tr><th scope=col>&lt;chr&gt;</th><th scope=col>&lt;int&gt;</th><th scope=col>&lt;int&gt;</th><th scope=col>&lt;dbl&gt;</th><th scope=col>&lt;chr&gt;</th><th scope=col>&lt;chr&gt;</th></tr>\n",
       "</thead>\n",
       "<tbody>\n",
       "\t<tr><td>ASTARR_A             </td><td> 6106</td><td>  9368</td><td>0.6517933</td><td>9K  </td><td>ASTARR_A\n",
       "(9K)              </td></tr>\n",
       "\t<tr><td>ATAC                 </td><td>65084</td><td>230509</td><td>0.2823491</td><td>231K</td><td>ATAC\n",
       "(231K)                </td></tr>\n",
       "\t<tr><td>CRISPRi-Growth       </td><td> 3183</td><td>  6242</td><td>0.5099327</td><td>6K  </td><td>CRISPRi-Growth\n",
       "(6K)        </td></tr>\n",
       "\t<tr><td>CRISPRi-HCRFF        </td><td>   55</td><td>    80</td><td>0.6875000</td><td>80  </td><td>CRISPRi-HCRFF\n",
       "(80)         </td></tr>\n",
       "\t<tr><td>ENCODE-E2G_Benchmark </td><td>  342</td><td>   409</td><td>0.8361858</td><td>409 </td><td>ENCODE-E2G_Benchmark\n",
       "(409) </td></tr>\n",
       "\t<tr><td>ENCODE-E2G_Prediction</td><td>32449</td><td> 51829</td><td>0.6260781</td><td>52K </td><td>ENCODE-E2G_Prediction\n",
       "(52K)</td></tr>\n",
       "\t<tr><td>LMPRA_A              </td><td>21085</td><td> 40096</td><td>0.5258629</td><td>40K </td><td>LMPRA_A\n",
       "(40K)              </td></tr>\n",
       "\t<tr><td>TMPRA_A              </td><td> 1391</td><td>  8294</td><td>0.1677116</td><td>8K  </td><td>TMPRA_A\n",
       "(8K)               </td></tr>\n",
       "\t<tr><td>WSTARR_A             </td><td>22816</td><td> 79738</td><td>0.2861371</td><td>80K </td><td>WSTARR_A\n",
       "(80K)             </td></tr>\n",
       "</tbody>\n",
       "</table>\n"
      ],
      "text/latex": [
       "A tibble: 9 × 6\n",
       "\\begin{tabular}{llllll}\n",
       " Assay & Count & Total & Freq & Count\\_Label & Assay\\_Label\\\\\n",
       " <chr> & <int> & <int> & <dbl> & <chr> & <chr>\\\\\n",
       "\\hline\n",
       "\t ASTARR\\_A              &  6106 &   9368 & 0.6517933 & 9K   & ASTARR\\_A\n",
       "(9K)              \\\\\n",
       "\t ATAC                  & 65084 & 230509 & 0.2823491 & 231K & ATAC\n",
       "(231K)                \\\\\n",
       "\t CRISPRi-Growth        &  3183 &   6242 & 0.5099327 & 6K   & CRISPRi-Growth\n",
       "(6K)        \\\\\n",
       "\t CRISPRi-HCRFF         &    55 &     80 & 0.6875000 & 80   & CRISPRi-HCRFF\n",
       "(80)         \\\\\n",
       "\t ENCODE-E2G\\_Benchmark  &   342 &    409 & 0.8361858 & 409  & ENCODE-E2G\\_Benchmark\n",
       "(409) \\\\\n",
       "\t ENCODE-E2G\\_Prediction & 32449 &  51829 & 0.6260781 & 52K  & ENCODE-E2G\\_Prediction\n",
       "(52K)\\\\\n",
       "\t LMPRA\\_A               & 21085 &  40096 & 0.5258629 & 40K  & LMPRA\\_A\n",
       "(40K)              \\\\\n",
       "\t TMPRA\\_A               &  1391 &   8294 & 0.1677116 & 8K   & TMPRA\\_A\n",
       "(8K)               \\\\\n",
       "\t WSTARR\\_A              & 22816 &  79738 & 0.2861371 & 80K  & WSTARR\\_A\n",
       "(80K)             \\\\\n",
       "\\end{tabular}\n"
      ],
      "text/markdown": [
       "\n",
       "A tibble: 9 × 6\n",
       "\n",
       "| Assay &lt;chr&gt; | Count &lt;int&gt; | Total &lt;int&gt; | Freq &lt;dbl&gt; | Count_Label &lt;chr&gt; | Assay_Label &lt;chr&gt; |\n",
       "|---|---|---|---|---|---|\n",
       "| ASTARR_A              |  6106 |   9368 | 0.6517933 | 9K   | ASTARR_A\n",
       "(9K)               |\n",
       "| ATAC                  | 65084 | 230509 | 0.2823491 | 231K | ATAC\n",
       "(231K)                 |\n",
       "| CRISPRi-Growth        |  3183 |   6242 | 0.5099327 | 6K   | CRISPRi-Growth\n",
       "(6K)         |\n",
       "| CRISPRi-HCRFF         |    55 |     80 | 0.6875000 | 80   | CRISPRi-HCRFF\n",
       "(80)          |\n",
       "| ENCODE-E2G_Benchmark  |   342 |    409 | 0.8361858 | 409  | ENCODE-E2G_Benchmark\n",
       "(409)  |\n",
       "| ENCODE-E2G_Prediction | 32449 |  51829 | 0.6260781 | 52K  | ENCODE-E2G_Prediction\n",
       "(52K) |\n",
       "| LMPRA_A               | 21085 |  40096 | 0.5258629 | 40K  | LMPRA_A\n",
       "(40K)               |\n",
       "| TMPRA_A               |  1391 |   8294 | 0.1677116 | 8K   | TMPRA_A\n",
       "(8K)                |\n",
       "| WSTARR_A              | 22816 |  79738 | 0.2861371 | 80K  | WSTARR_A\n",
       "(80K)              |\n",
       "\n"
      ],
      "text/plain": [
       "  Assay                 Count Total  Freq      Count_Label\n",
       "1 ASTARR_A               6106   9368 0.6517933 9K         \n",
       "2 ATAC                  65084 230509 0.2823491 231K       \n",
       "3 CRISPRi-Growth         3183   6242 0.5099327 6K         \n",
       "4 CRISPRi-HCRFF            55     80 0.6875000 80         \n",
       "5 ENCODE-E2G_Benchmark    342    409 0.8361858 409        \n",
       "6 ENCODE-E2G_Prediction 32449  51829 0.6260781 52K        \n",
       "7 LMPRA_A               21085  40096 0.5258629 40K        \n",
       "8 TMPRA_A                1391   8294 0.1677116 8K         \n",
       "9 WSTARR_A              22816  79738 0.2861371 80K        \n",
       "  Assay_Label                 \n",
       "1 ASTARR_A\\n(9K)              \n",
       "2 ATAC\\n(231K)                \n",
       "3 CRISPRi-Growth\\n(6K)        \n",
       "4 CRISPRi-HCRFF\\n(80)         \n",
       "5 ENCODE-E2G_Benchmark\\n(409) \n",
       "6 ENCODE-E2G_Prediction\\n(52K)\n",
       "7 LMPRA_A\\n(40K)              \n",
       "8 TMPRA_A\\n(8K)               \n",
       "9 WSTARR_A\\n(80K)             "
      ]
     },
     "metadata": {},
     "output_type": "display_data"
    }
   ],
   "source": [
    "dat = dat_peak_combine\n",
    "lst = split(dat, dat$Label)\n",
    "lst = lapply(lst, function(dat){\n",
    "    ###\n",
    "    vec_txt_peak   = unique(dat$Peak)\n",
    "    num_peak_total = length(vec_txt_peak)\n",
    "    \n",
    "    ###\n",
    "    dat = dat %>% dplyr::filter(Distance == 0)\n",
    "    vec_txt_peak    = unique(dat$Peak)\n",
    "    num_peak_looped = length(vec_txt_peak)\n",
    "    \n",
    "    ###\n",
    "    res = list(num_peak_looped, num_peak_total, num_peak_looped/num_peak_total)\n",
    "    names(res) = c(\"Count\", \"Total\", \"Freq\")\n",
    "    return(res)\n",
    "})\n",
    "\n",
    "###\n",
    "dat = bind_rows(lst, .id = \"Assay\")\n",
    "dat = dat %>% \n",
    "    dplyr::mutate(\n",
    "        Count_Label = ifelse(\n",
    "            Total > 1000, \n",
    "            paste0(round(Total / 1000), \"K\"),\n",
    "            Total\n",
    "        )\n",
    "    ) %>%\n",
    "    dplyr::mutate(\n",
    "        Assay_Label = paste0(Assay, \"\\n(\", Count_Label, \")\")\n",
    "    )\n",
    "\n",
    "dat_peak_isLoop = dat\n",
    "dat"
   ]
  },
  {
   "cell_type": "markdown",
   "metadata": {},
   "source": [
    "## Bar plot"
   ]
  },
  {
   "cell_type": "code",
   "execution_count": 50,
   "metadata": {},
   "outputs": [
    {
     "data": {
      "image/png": "[encoded data removed]",
      "text/plain": [
       "plot without title"
      ]
     },
     "metadata": {
      "image/png": {
       "height": 360,
       "width": 600
      }
     },
     "output_type": "display_data"
    }
   ],
   "source": [
    "dat = dat_peak_isLoop\n",
    "dat = dat %>% \n",
    "    dplyr::arrange(Freq) %>%\n",
    "    dplyr::mutate(Assay_Label = factor(Assay_Label, levels=Assay_Label))\n",
    "\n",
    "gpt = ggplot(dat, aes(x=Freq, y=Assay_Label)) + \n",
    "    geom_col() + \n",
    "    labs(x=\"#Looped / #Total\", y=\"Assays\") +\n",
    "    theme_cowplot()\n",
    "\n",
    "options(repr.plot.height=6, repr.plot.width=10)\n",
    "print(gpt)"
   ]
  },
  {
   "cell_type": "code",
   "execution_count": 91,
   "metadata": {},
   "outputs": [
    {
     "data": {
      "image/png": "[encoded data removed]",
      "text/plain": [
       "plot without title"
      ]
     },
     "metadata": {
      "image/png": {
       "height": 360,
       "width": 600
      }
     },
     "output_type": "display_data"
    }
   ],
   "source": [
    "dat = dat_peak_isLoop\n",
    "vec = c(\n",
    "    \"ATAC\", \n",
    "    \"ASTARR_A\",\n",
    "    \"WSTARR_A\",\n",
    "    \"TMPRA_A\",\n",
    "    \"LMPRA_A\",\n",
    "    \"CRISPRi-HCRFF\",\n",
    "    \"CRISPRi-Growth\",\n",
    "    \"ENCODE-E2G_Benchmark\",\n",
    "    \"ENCODE-E2G_Prediction\"\n",
    ")\n",
    "dat = dat %>% \n",
    "    dplyr::mutate( Assay = factor(Assay, levels=vec)) %>%\n",
    "    dplyr::arrange(Assay) %>%\n",
    "    dplyr::mutate( Assay_Label = factor(Assay_Label, levels=Assay_Label))\n",
    "\n",
    "gpt = ggplot(dat, aes(x=Freq, y=Assay)) + \n",
    "    geom_col() + \n",
    "    labs(x=\"#Looped / #Total\", y=\"Assays\") +\n",
    "    theme_cowplot()\n",
    "\n",
    "options(repr.plot.height=6, repr.plot.width=10)\n",
    "print(gpt)"
   ]
  },
  {
   "cell_type": "code",
   "execution_count": 92,
   "metadata": {},
   "outputs": [],
   "source": [
    "fname = \"figure_enhancer_loop_overlap.pdf\"\n",
    "save_plot(fname, gpt)"
   ]
  },
  {
   "cell_type": "markdown",
   "metadata": {},
   "source": [
    "## Plot distance"
   ]
  },
  {
   "cell_type": "code",
   "execution_count": 82,
   "metadata": {},
   "outputs": [
    {
     "data": {
      "text/html": [
       "<table class=\"dataframe\">\n",
       "<caption>A tibble: 9 × 4</caption>\n",
       "<thead>\n",
       "\t<tr><th scope=col>Assay</th><th scope=col>Q1</th><th scope=col>Q2</th><th scope=col>Q3</th></tr>\n",
       "\t<tr><th scope=col>&lt;chr&gt;</th><th scope=col>&lt;dbl&gt;</th><th scope=col>&lt;dbl&gt;</th><th scope=col>&lt;dbl&gt;</th></tr>\n",
       "</thead>\n",
       "<tbody>\n",
       "\t<tr><td>ASTARR_A             </td><td> 5.4556860</td><td> 5.5076569</td><td> 5.5588780</td></tr>\n",
       "\t<tr><td>ATAC                 </td><td>11.9186304</td><td>11.9329645</td><td>11.9459916</td></tr>\n",
       "\t<tr><td>CRISPRi-Growth       </td><td> 6.1906311</td><td> 6.2703421</td><td> 6.3390595</td></tr>\n",
       "\t<tr><td>CRISPRi-HCRFF        </td><td> 0.8088090</td><td> 0.8671597</td><td> 0.9066111</td></tr>\n",
       "\t<tr><td>ENCODE-E2G_Benchmark </td><td> 0.7572154</td><td> 0.8036182</td><td> 0.8307283</td></tr>\n",
       "\t<tr><td>ENCODE-E2G_Prediction</td><td> 3.3083406</td><td> 3.3242277</td><td> 3.3386453</td></tr>\n",
       "\t<tr><td>LMPRA_A              </td><td> 7.9556888</td><td> 7.9822899</td><td> 8.0118149</td></tr>\n",
       "\t<tr><td>TMPRA_A              </td><td>23.1336187</td><td>23.2601342</td><td>23.3748121</td></tr>\n",
       "\t<tr><td>WSTARR_A             </td><td>18.9097422</td><td>18.9467318</td><td>18.9778415</td></tr>\n",
       "</tbody>\n",
       "</table>\n"
      ],
      "text/latex": [
       "A tibble: 9 × 4\n",
       "\\begin{tabular}{llll}\n",
       " Assay & Q1 & Q2 & Q3\\\\\n",
       " <chr> & <dbl> & <dbl> & <dbl>\\\\\n",
       "\\hline\n",
       "\t ASTARR\\_A              &  5.4556860 &  5.5076569 &  5.5588780\\\\\n",
       "\t ATAC                  & 11.9186304 & 11.9329645 & 11.9459916\\\\\n",
       "\t CRISPRi-Growth        &  6.1906311 &  6.2703421 &  6.3390595\\\\\n",
       "\t CRISPRi-HCRFF         &  0.8088090 &  0.8671597 &  0.9066111\\\\\n",
       "\t ENCODE-E2G\\_Benchmark  &  0.7572154 &  0.8036182 &  0.8307283\\\\\n",
       "\t ENCODE-E2G\\_Prediction &  3.3083406 &  3.3242277 &  3.3386453\\\\\n",
       "\t LMPRA\\_A               &  7.9556888 &  7.9822899 &  8.0118149\\\\\n",
       "\t TMPRA\\_A               & 23.1336187 & 23.2601342 & 23.3748121\\\\\n",
       "\t WSTARR\\_A              & 18.9097422 & 18.9467318 & 18.9778415\\\\\n",
       "\\end{tabular}\n"
      ],
      "text/markdown": [
       "\n",
       "A tibble: 9 × 4\n",
       "\n",
       "| Assay &lt;chr&gt; | Q1 &lt;dbl&gt; | Q2 &lt;dbl&gt; | Q3 &lt;dbl&gt; |\n",
       "|---|---|---|---|\n",
       "| ASTARR_A              |  5.4556860 |  5.5076569 |  5.5588780 |\n",
       "| ATAC                  | 11.9186304 | 11.9329645 | 11.9459916 |\n",
       "| CRISPRi-Growth        |  6.1906311 |  6.2703421 |  6.3390595 |\n",
       "| CRISPRi-HCRFF         |  0.8088090 |  0.8671597 |  0.9066111 |\n",
       "| ENCODE-E2G_Benchmark  |  0.7572154 |  0.8036182 |  0.8307283 |\n",
       "| ENCODE-E2G_Prediction |  3.3083406 |  3.3242277 |  3.3386453 |\n",
       "| LMPRA_A               |  7.9556888 |  7.9822899 |  8.0118149 |\n",
       "| TMPRA_A               | 23.1336187 | 23.2601342 | 23.3748121 |\n",
       "| WSTARR_A              | 18.9097422 | 18.9467318 | 18.9778415 |\n",
       "\n"
      ],
      "text/plain": [
       "  Assay                 Q1         Q2         Q3        \n",
       "1 ASTARR_A               5.4556860  5.5076569  5.5588780\n",
       "2 ATAC                  11.9186304 11.9329645 11.9459916\n",
       "3 CRISPRi-Growth         6.1906311  6.2703421  6.3390595\n",
       "4 CRISPRi-HCRFF          0.8088090  0.8671597  0.9066111\n",
       "5 ENCODE-E2G_Benchmark   0.7572154  0.8036182  0.8307283\n",
       "6 ENCODE-E2G_Prediction  3.3083406  3.3242277  3.3386453\n",
       "7 LMPRA_A                7.9556888  7.9822899  8.0118149\n",
       "8 TMPRA_A               23.1336187 23.2601342 23.3748121\n",
       "9 WSTARR_A              18.9097422 18.9467318 18.9778415"
      ]
     },
     "metadata": {},
     "output_type": "display_data"
    }
   ],
   "source": [
    "fun = function(vec){\n",
    "    num = length(vec)\n",
    "    num = round(num * 0.9)\n",
    "    \n",
    "    vec = sample(vec, size = num)\n",
    "    res = mean(vec)\n",
    "    return(res)\n",
    "}\n",
    "\n",
    "dat = dat_peak_combine\n",
    "dat = dat %>% dplyr::filter(Distance < 10^6)\n",
    "\n",
    "lst = split(dat$Distance, dat$Label)\n",
    "lst = lapply(lst, function(vec){\n",
    "    res = replicate(n=1000, fun(vec))\n",
    "    return(res)\n",
    "})\n",
    "\n",
    "lst = lapply(lst, function(vec){\n",
    "    vec = vec / 1000\n",
    "    res = quantile(vec, probs = c(0.25, 0.5, 0.75))\n",
    "    names(res) = c(\"Q1\", \"Q2\", \"Q3\")\n",
    "    return(res)\n",
    "})\n",
    "\n",
    "dat = bind_rows(lst, .id=\"Assay\")\n",
    "\n",
    "dat_peak_dist2Loop = dat\n",
    "dat"
   ]
  },
  {
   "cell_type": "code",
   "execution_count": 84,
   "metadata": {},
   "outputs": [
    {
     "data": {
      "image/png": "[encoded data removed]",
      "text/plain": [
       "plot without title"
      ]
     },
     "metadata": {
      "image/png": {
       "height": 360,
       "width": 600
      }
     },
     "output_type": "display_data"
    }
   ],
   "source": [
    "dat = dat_peak_dist2Loop\n",
    "\n",
    "gpt = ggplot(dat, aes(x=Q2, y=Assay)) + \n",
    "    geom_point() +\n",
    "    geom_errorbar(aes(xmin=Q1, xmax=Q3)) +\n",
    "    theme_cowplot()\n",
    "\n",
    "print(gpt)"
   ]
  },
  {
   "cell_type": "code",
   "execution_count": 93,
   "metadata": {},
   "outputs": [
    {
     "data": {
      "image/png": "[encoded data removed]",
      "text/plain": [
       "plot without title"
      ]
     },
     "metadata": {
      "image/png": {
       "height": 360,
       "width": 600
      }
     },
     "output_type": "display_data"
    }
   ],
   "source": [
    "dat = dat_peak_dist2Loop\n",
    "vec = c(\n",
    "    \"ATAC\", \n",
    "    \"ASTARR_A\",\n",
    "    \"WSTARR_A\",\n",
    "    \"TMPRA_A\",\n",
    "    \"LMPRA_A\",\n",
    "    \"CRISPRi-HCRFF\",\n",
    "    \"CRISPRi-Growth\",\n",
    "    \"ENCODE-E2G_Benchmark\",\n",
    "    \"ENCODE-E2G_Prediction\"\n",
    ")\n",
    "dat = dat %>% \n",
    "    dplyr::mutate( Assay = factor(Assay, levels=vec)) %>%\n",
    "    dplyr::arrange(Assay) #%>%\n",
    "    #dplyr::mutate( Assay_Label = factor(Assay_Label, levels=Assay_Label))\n",
    "\n",
    "gpt = ggplot(dat, aes(x=Q2, y=Assay)) + \n",
    "    geom_col() + \n",
    "    labs(x=\"Mean of Shortest Distance to Loop (Kb)\", y=\"Assays\") +\n",
    "    theme_cowplot()\n",
    "\n",
    "options(repr.plot.height=6, repr.plot.width=10)\n",
    "print(gpt)"
   ]
  },
  {
   "cell_type": "code",
   "execution_count": 94,
   "metadata": {},
   "outputs": [],
   "source": [
    "fname = \"figure_enhancer_loop_distance.pdf\"\n",
    "save_plot(fname, gpt)"
   ]
  },
  {
   "cell_type": "code",
   "execution_count": null,
   "metadata": {},
   "outputs": [],
   "source": []
  },
  {
   "cell_type": "code",
   "execution_count": null,
   "metadata": {},
   "outputs": [],
   "source": []
  }
 ],
 "metadata": {
  "kernelspec": {
   "display_name": "R",
   "language": "R",
   "name": "ir"
  },
  "language_info": {
   "codemirror_mode": "r",
   "file_extension": ".r",
   "mimetype": "text/x-r-source",
   "name": "R",
   "pygments_lexer": "r",
   "version": "4.3.0"
  }
 },
 "nbformat": 4,
 "nbformat_minor": 4
}
