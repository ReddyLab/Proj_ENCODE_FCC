{
 "cells": [
  {
   "cell_type": "code",
   "execution_count": 11,
   "metadata": {},
   "outputs": [
    {
     "name": "stdout",
     "output_type": "stream",
     "text": [
      "You are in Singularity: singularity_proj_encode_fcc \n",
      "BASE DIRECTORY (FD_BASE): /data/reddylab/Kuei \n",
      "WORK DIRECTORY (FD_WORK): /data/reddylab/Kuei/out \n",
      "CODE DIRECTORY (FD_CODE): /data/reddylab/Kuei/code \n",
      "PATH OF PROJECT (FD_PRJ): /data/reddylab/Kuei/code/Proj_CombEffect_ENCODE_FCC \n",
      "PATH OF RESULTS (FD_RES): /data/reddylab/Kuei/out/proj_combeffect_encode_fcc \n",
      "PATH OF LOG     (FD_LOG): /data/reddylab/Kuei/out/proj_combeffect_encode_fcc/log \n"
     ]
    }
   ],
   "source": [
    "suppressMessages(suppressWarnings(source(\"../config/config_sing.R\")))\n",
    "show_env()"
   ]
  },
  {
   "cell_type": "code",
   "execution_count": 12,
   "metadata": {},
   "outputs": [
    {
     "name": "stderr",
     "output_type": "stream",
     "text": [
      "\u001b[1mRows: \u001b[22m\u001b[34m20\u001b[39m \u001b[1mColumns: \u001b[22m\u001b[34m2\u001b[39m\n",
      "\u001b[36m──\u001b[39m \u001b[1mColumn specification\u001b[22m \u001b[36m─────────────────────────────────────────\u001b[39m\n",
      "\u001b[1mDelimiter:\u001b[22m \",\"\n",
      "\u001b[31mchr\u001b[39m (2): Gene_Symbol, Gene_Ensembl\n",
      "\n",
      "\u001b[36mℹ\u001b[39m Use `spec()` to retrieve the full column specification for this data.\n",
      "\u001b[36mℹ\u001b[39m Specify the column types or set `show_col_types = FALSE` to quiet this message.\n"
     ]
    },
    {
     "name": "stdout",
     "output_type": "stream",
     "text": [
      "[1] 20  2\n"
     ]
    },
    {
     "data": {
      "text/html": [
       "<table class=\"dataframe\">\n",
       "<caption>A spec_tbl_df: 20 × 2</caption>\n",
       "<thead>\n",
       "\t<tr><th scope=col>Gene_Symbol</th><th scope=col>Gene_Ensembl</th></tr>\n",
       "\t<tr><th scope=col>&lt;chr&gt;</th><th scope=col>&lt;chr&gt;</th></tr>\n",
       "</thead>\n",
       "<tbody>\n",
       "\t<tr><td>CAPRIN1</td><td>ENSG00000135387</td></tr>\n",
       "\t<tr><td>CAT    </td><td>ENSG00000121691</td></tr>\n",
       "\t<tr><td>CD164  </td><td>ENSG00000135535</td></tr>\n",
       "\t<tr><td>ERP29  </td><td>ENSG00000089248</td></tr>\n",
       "\t<tr><td>FADS1  </td><td>ENSG00000149485</td></tr>\n",
       "\t<tr><td>FADS2  </td><td>ENSG00000134824</td></tr>\n",
       "\t<tr><td>FADS3  </td><td>ENSG00000221968</td></tr>\n",
       "\t<tr><td>FEN1   </td><td>ENSG00000168496</td></tr>\n",
       "\t<tr><td>GATA1  </td><td>ENSG00000102145</td></tr>\n",
       "\t<tr><td>HBE1   </td><td>ENSG00000213931</td></tr>\n",
       "\t<tr><td>HBG1   </td><td>ENSG00000213934</td></tr>\n",
       "\t<tr><td>HBG2   </td><td>ENSG00000196565</td></tr>\n",
       "\t<tr><td>HBS1L  </td><td>ENSG00000112339</td></tr>\n",
       "\t<tr><td>HDAC6  </td><td>ENSG00000094631</td></tr>\n",
       "\t<tr><td>LMO2   </td><td>ENSG00000135363</td></tr>\n",
       "\t<tr><td>MEF2C  </td><td>ENSG00000081189</td></tr>\n",
       "\t<tr><td>MYB    </td><td>ENSG00000118513</td></tr>\n",
       "\t<tr><td>MYC    </td><td>ENSG00000136997</td></tr>\n",
       "\t<tr><td>NMU    </td><td>ENSG00000109255</td></tr>\n",
       "\t<tr><td>PVT1   </td><td>ENSG00000249859</td></tr>\n",
       "</tbody>\n",
       "</table>\n"
      ],
      "text/latex": [
       "A spec\\_tbl\\_df: 20 × 2\n",
       "\\begin{tabular}{ll}\n",
       " Gene\\_Symbol & Gene\\_Ensembl\\\\\n",
       " <chr> & <chr>\\\\\n",
       "\\hline\n",
       "\t CAPRIN1 & ENSG00000135387\\\\\n",
       "\t CAT     & ENSG00000121691\\\\\n",
       "\t CD164   & ENSG00000135535\\\\\n",
       "\t ERP29   & ENSG00000089248\\\\\n",
       "\t FADS1   & ENSG00000149485\\\\\n",
       "\t FADS2   & ENSG00000134824\\\\\n",
       "\t FADS3   & ENSG00000221968\\\\\n",
       "\t FEN1    & ENSG00000168496\\\\\n",
       "\t GATA1   & ENSG00000102145\\\\\n",
       "\t HBE1    & ENSG00000213931\\\\\n",
       "\t HBG1    & ENSG00000213934\\\\\n",
       "\t HBG2    & ENSG00000196565\\\\\n",
       "\t HBS1L   & ENSG00000112339\\\\\n",
       "\t HDAC6   & ENSG00000094631\\\\\n",
       "\t LMO2    & ENSG00000135363\\\\\n",
       "\t MEF2C   & ENSG00000081189\\\\\n",
       "\t MYB     & ENSG00000118513\\\\\n",
       "\t MYC     & ENSG00000136997\\\\\n",
       "\t NMU     & ENSG00000109255\\\\\n",
       "\t PVT1    & ENSG00000249859\\\\\n",
       "\\end{tabular}\n"
      ],
      "text/markdown": [
       "\n",
       "A spec_tbl_df: 20 × 2\n",
       "\n",
       "| Gene_Symbol &lt;chr&gt; | Gene_Ensembl &lt;chr&gt; |\n",
       "|---|---|\n",
       "| CAPRIN1 | ENSG00000135387 |\n",
       "| CAT     | ENSG00000121691 |\n",
       "| CD164   | ENSG00000135535 |\n",
       "| ERP29   | ENSG00000089248 |\n",
       "| FADS1   | ENSG00000149485 |\n",
       "| FADS2   | ENSG00000134824 |\n",
       "| FADS3   | ENSG00000221968 |\n",
       "| FEN1    | ENSG00000168496 |\n",
       "| GATA1   | ENSG00000102145 |\n",
       "| HBE1    | ENSG00000213931 |\n",
       "| HBG1    | ENSG00000213934 |\n",
       "| HBG2    | ENSG00000196565 |\n",
       "| HBS1L   | ENSG00000112339 |\n",
       "| HDAC6   | ENSG00000094631 |\n",
       "| LMO2    | ENSG00000135363 |\n",
       "| MEF2C   | ENSG00000081189 |\n",
       "| MYB     | ENSG00000118513 |\n",
       "| MYC     | ENSG00000136997 |\n",
       "| NMU     | ENSG00000109255 |\n",
       "| PVT1    | ENSG00000249859 |\n",
       "\n"
      ],
      "text/plain": [
       "   Gene_Symbol Gene_Ensembl   \n",
       "1  CAPRIN1     ENSG00000135387\n",
       "2  CAT         ENSG00000121691\n",
       "3  CD164       ENSG00000135535\n",
       "4  ERP29       ENSG00000089248\n",
       "5  FADS1       ENSG00000149485\n",
       "6  FADS2       ENSG00000134824\n",
       "7  FADS3       ENSG00000221968\n",
       "8  FEN1        ENSG00000168496\n",
       "9  GATA1       ENSG00000102145\n",
       "10 HBE1        ENSG00000213931\n",
       "11 HBG1        ENSG00000213934\n",
       "12 HBG2        ENSG00000196565\n",
       "13 HBS1L       ENSG00000112339\n",
       "14 HDAC6       ENSG00000094631\n",
       "15 LMO2        ENSG00000135363\n",
       "16 MEF2C       ENSG00000081189\n",
       "17 MYB         ENSG00000118513\n",
       "18 MYC         ENSG00000136997\n",
       "19 NMU         ENSG00000109255\n",
       "20 PVT1        ENSG00000249859"
      ]
     },
     "metadata": {},
     "output_type": "display_data"
    }
   ],
   "source": [
    "### get file paths\n",
    "fdiry = file.path(FD_RES, \"source\", \"CRISPRi_FlowFISH\")\n",
    "fname = \"HCRFF_20genes_ensembl.csv\"\n",
    "fpath = file.path(fdiry, fname)\n",
    "\n",
    "dat = read_csv(fpath)\n",
    "\n",
    "### assign and show info\n",
    "dat_crispr_gene_id = dat\n",
    "print(dim(dat))\n",
    "dat"
   ]
  },
  {
   "cell_type": "code",
   "execution_count": 31,
   "metadata": {},
   "outputs": [
    {
     "name": "stdout",
     "output_type": "stream",
     "text": [
      "[1] 20  5\n"
     ]
    },
    {
     "data": {
      "text/html": [
       "<table class=\"dataframe\">\n",
       "<caption>A spec_tbl_df: 20 × 5</caption>\n",
       "<thead>\n",
       "\t<tr><th scope=col>Gene_Symbol</th><th scope=col>Chrom</th><th scope=col>Strand</th><th scope=col>TSS</th><th scope=col>TES</th></tr>\n",
       "\t<tr><th scope=col>&lt;chr&gt;</th><th scope=col>&lt;chr&gt;</th><th scope=col>&lt;chr&gt;</th><th scope=col>&lt;dbl&gt;</th><th scope=col>&lt;dbl&gt;</th></tr>\n",
       "</thead>\n",
       "<tbody>\n",
       "\t<tr><td>CAPRIN1</td><td>chr11</td><td>+</td><td> 34051730</td><td> 34102610</td></tr>\n",
       "\t<tr><td>CAT    </td><td>chr11</td><td>+</td><td> 34438933</td><td> 34472060</td></tr>\n",
       "\t<tr><td>CD164  </td><td>chr6 </td><td>-</td><td>109366513</td><td>109382467</td></tr>\n",
       "\t<tr><td>ERP29  </td><td>chr12</td><td>+</td><td>112013347</td><td>112023220</td></tr>\n",
       "\t<tr><td>FADS1  </td><td>chr11</td><td>-</td><td> 61799628</td><td> 61817003</td></tr>\n",
       "\t<tr><td>FADS2  </td><td>chr11</td><td>+</td><td> 61816202</td><td> 61867354</td></tr>\n",
       "\t<tr><td>FADS3  </td><td>chr11</td><td>-</td><td> 61873525</td><td> 61891545</td></tr>\n",
       "\t<tr><td>FEN1   </td><td>chr11</td><td>+</td><td> 61792910</td><td> 61797238</td></tr>\n",
       "\t<tr><td>GATA1  </td><td>chrX </td><td>+</td><td> 48786589</td><td> 48794310</td></tr>\n",
       "\t<tr><td>HBE1   </td><td>chr11</td><td>-</td><td>  5268345</td><td>  5269945</td></tr>\n",
       "\t<tr><td>HBG1   </td><td>chr11</td><td>-</td><td>  5248268</td><td>  5249857</td></tr>\n",
       "\t<tr><td>HBG2   </td><td>chr11</td><td>-</td><td>  5253187</td><td>  5254781</td></tr>\n",
       "\t<tr><td>HBS1L  </td><td>chr6 </td><td>-</td><td>134960382</td><td>135054822</td></tr>\n",
       "\t<tr><td>HDAC6  </td><td>chrX </td><td>+</td><td> 48802066</td><td> 48824972</td></tr>\n",
       "\t<tr><td>LMO2   </td><td>chr11</td><td>-</td><td> 33858575</td><td> 33869878</td></tr>\n",
       "\t<tr><td>MEF2C  </td><td>chr5 </td><td>-</td><td> 88717116</td><td> 88883184</td></tr>\n",
       "\t<tr><td>MYB    </td><td>chr6 </td><td>+</td><td>135181307</td><td>135219172</td></tr>\n",
       "\t<tr><td>MYC    </td><td>chr8 </td><td>+</td><td>127736230</td><td>127742951</td></tr>\n",
       "\t<tr><td>NMU    </td><td>chr4 </td><td>-</td><td> 55595230</td><td> 55636298</td></tr>\n",
       "\t<tr><td>PVT1   </td><td>chr8 </td><td>+</td><td>127794532</td><td>128101253</td></tr>\n",
       "</tbody>\n",
       "</table>\n"
      ],
      "text/latex": [
       "A spec\\_tbl\\_df: 20 × 5\n",
       "\\begin{tabular}{lllll}\n",
       " Gene\\_Symbol & Chrom & Strand & TSS & TES\\\\\n",
       " <chr> & <chr> & <chr> & <dbl> & <dbl>\\\\\n",
       "\\hline\n",
       "\t CAPRIN1 & chr11 & + &  34051730 &  34102610\\\\\n",
       "\t CAT     & chr11 & + &  34438933 &  34472060\\\\\n",
       "\t CD164   & chr6  & - & 109366513 & 109382467\\\\\n",
       "\t ERP29   & chr12 & + & 112013347 & 112023220\\\\\n",
       "\t FADS1   & chr11 & - &  61799628 &  61817003\\\\\n",
       "\t FADS2   & chr11 & + &  61816202 &  61867354\\\\\n",
       "\t FADS3   & chr11 & - &  61873525 &  61891545\\\\\n",
       "\t FEN1    & chr11 & + &  61792910 &  61797238\\\\\n",
       "\t GATA1   & chrX  & + &  48786589 &  48794310\\\\\n",
       "\t HBE1    & chr11 & - &   5268345 &   5269945\\\\\n",
       "\t HBG1    & chr11 & - &   5248268 &   5249857\\\\\n",
       "\t HBG2    & chr11 & - &   5253187 &   5254781\\\\\n",
       "\t HBS1L   & chr6  & - & 134960382 & 135054822\\\\\n",
       "\t HDAC6   & chrX  & + &  48802066 &  48824972\\\\\n",
       "\t LMO2    & chr11 & - &  33858575 &  33869878\\\\\n",
       "\t MEF2C   & chr5  & - &  88717116 &  88883184\\\\\n",
       "\t MYB     & chr6  & + & 135181307 & 135219172\\\\\n",
       "\t MYC     & chr8  & + & 127736230 & 127742951\\\\\n",
       "\t NMU     & chr4  & - &  55595230 &  55636298\\\\\n",
       "\t PVT1    & chr8  & + & 127794532 & 128101253\\\\\n",
       "\\end{tabular}\n"
      ],
      "text/markdown": [
       "\n",
       "A spec_tbl_df: 20 × 5\n",
       "\n",
       "| Gene_Symbol &lt;chr&gt; | Chrom &lt;chr&gt; | Strand &lt;chr&gt; | TSS &lt;dbl&gt; | TES &lt;dbl&gt; |\n",
       "|---|---|---|---|---|\n",
       "| CAPRIN1 | chr11 | + |  34051730 |  34102610 |\n",
       "| CAT     | chr11 | + |  34438933 |  34472060 |\n",
       "| CD164   | chr6  | - | 109366513 | 109382467 |\n",
       "| ERP29   | chr12 | + | 112013347 | 112023220 |\n",
       "| FADS1   | chr11 | - |  61799628 |  61817003 |\n",
       "| FADS2   | chr11 | + |  61816202 |  61867354 |\n",
       "| FADS3   | chr11 | - |  61873525 |  61891545 |\n",
       "| FEN1    | chr11 | + |  61792910 |  61797238 |\n",
       "| GATA1   | chrX  | + |  48786589 |  48794310 |\n",
       "| HBE1    | chr11 | - |   5268345 |   5269945 |\n",
       "| HBG1    | chr11 | - |   5248268 |   5249857 |\n",
       "| HBG2    | chr11 | - |   5253187 |   5254781 |\n",
       "| HBS1L   | chr6  | - | 134960382 | 135054822 |\n",
       "| HDAC6   | chrX  | + |  48802066 |  48824972 |\n",
       "| LMO2    | chr11 | - |  33858575 |  33869878 |\n",
       "| MEF2C   | chr5  | - |  88717116 |  88883184 |\n",
       "| MYB     | chr6  | + | 135181307 | 135219172 |\n",
       "| MYC     | chr8  | + | 127736230 | 127742951 |\n",
       "| NMU     | chr4  | - |  55595230 |  55636298 |\n",
       "| PVT1    | chr8  | + | 127794532 | 128101253 |\n",
       "\n"
      ],
      "text/plain": [
       "   Gene_Symbol Chrom Strand TSS       TES      \n",
       "1  CAPRIN1     chr11 +       34051730  34102610\n",
       "2  CAT         chr11 +       34438933  34472060\n",
       "3  CD164       chr6  -      109366513 109382467\n",
       "4  ERP29       chr12 +      112013347 112023220\n",
       "5  FADS1       chr11 -       61799628  61817003\n",
       "6  FADS2       chr11 +       61816202  61867354\n",
       "7  FADS3       chr11 -       61873525  61891545\n",
       "8  FEN1        chr11 +       61792910  61797238\n",
       "9  GATA1       chrX  +       48786589  48794310\n",
       "10 HBE1        chr11 -        5268345   5269945\n",
       "11 HBG1        chr11 -        5248268   5249857\n",
       "12 HBG2        chr11 -        5253187   5254781\n",
       "13 HBS1L       chr6  -      134960382 135054822\n",
       "14 HDAC6       chrX  +       48802066  48824972\n",
       "15 LMO2        chr11 -       33858575  33869878\n",
       "16 MEF2C       chr5  -       88717116  88883184\n",
       "17 MYB         chr6  +      135181307 135219172\n",
       "18 MYC         chr8  +      127736230 127742951\n",
       "19 NMU         chr4  -       55595230  55636298\n",
       "20 PVT1        chr8  +      127794532 128101253"
      ]
     },
     "metadata": {},
     "output_type": "display_data"
    }
   ],
   "source": [
    "### set file path\n",
    "fdiry = file.path(FD_RES, \"source\", \"CRISPRi_FlowFISH\")\n",
    "fname = \"K562_HCRFF_20genes_TSS_TES_coords.out\"\n",
    "fpath = file.path(fdiry, fname)\n",
    "\n",
    "### read file\n",
    "dat = read_tsv(fpath, col_names = TRUE, show_col_types = FALSE)\n",
    "#dat = dat %>% dplyr::mutate(Loc = paste0(chr, \":\", TSS, \"-\", TES))\n",
    "\n",
    "colnames(dat) = c(\"Gene_Symbol\", \"Chrom\", \"Strand\", \"TSS\", \"TES\")\n",
    "\n",
    "### assign and show info\n",
    "dat_crispr_gene_coord = dat\n",
    "print(dim(dat))\n",
    "dat"
   ]
  },
  {
   "cell_type": "code",
   "execution_count": 23,
   "metadata": {},
   "outputs": [
    {
     "name": "stderr",
     "output_type": "stream",
     "text": [
      "Warning message:\n",
      "“\u001b[1m\u001b[22mOne or more parsing issues, call `problems()` on your data frame\n",
      "for details, e.g.:\n",
      "  dat <- vroom(...)\n",
      "  problems(dat)”\n"
     ]
    },
    {
     "name": "stdout",
     "output_type": "stream",
     "text": [
      "[1] 62696    11\n"
     ]
    },
    {
     "data": {
      "text/html": [
       "<table class=\"dataframe\">\n",
       "<caption>A tibble: 6 × 11</caption>\n",
       "<thead>\n",
       "\t<tr><th scope=col>Chrom</th><th scope=col>Start</th><th scope=col>End</th><th scope=col>Name</th><th scope=col>Gene_ENS</th><th scope=col>Gene_Transcript</th><th scope=col>Score</th><th scope=col>Strand</th><th scope=col>Gene_Symbol</th><th scope=col>X8</th><th scope=col>X9</th></tr>\n",
       "\t<tr><th scope=col>&lt;chr&gt;</th><th scope=col>&lt;dbl&gt;</th><th scope=col>&lt;dbl&gt;</th><th scope=col>&lt;chr&gt;</th><th scope=col>&lt;chr&gt;</th><th scope=col>&lt;chr&gt;</th><th scope=col>&lt;chr&gt;</th><th scope=col>&lt;chr&gt;</th><th scope=col>&lt;chr&gt;</th><th scope=col>&lt;dbl&gt;</th><th scope=col>&lt;chr&gt;</th></tr>\n",
       "</thead>\n",
       "<tbody>\n",
       "\t<tr><td>chr1</td><td>11868</td><td>11869</td><td>ENSG00000290825.1</td><td>ENSG00000290825</td><td>1</td><td>.</td><td>+</td><td>DDX11L2    </td><td>2</td><td>overlaps_pseudogene</td></tr>\n",
       "\t<tr><td>chr1</td><td>12009</td><td>12010</td><td>ENSG00000223972.6</td><td>ENSG00000223972</td><td>6</td><td>.</td><td>+</td><td>DDX11L1    </td><td>2</td><td>HGNC:37102         </td></tr>\n",
       "\t<tr><td>chr1</td><td>29570</td><td>29571</td><td>ENSG00000227232.5</td><td>ENSG00000227232</td><td>5</td><td>.</td><td>-</td><td>WASH7P     </td><td>2</td><td>HGNC:38034         </td></tr>\n",
       "\t<tr><td>chr1</td><td>17436</td><td>17437</td><td>ENSG00000278267.1</td><td>ENSG00000278267</td><td>1</td><td>.</td><td>-</td><td>MIR6859-1  </td><td>3</td><td>HGNC:50039         </td></tr>\n",
       "\t<tr><td>chr1</td><td>29553</td><td>29554</td><td>ENSG00000243485.5</td><td>ENSG00000243485</td><td>5</td><td>.</td><td>+</td><td>MIR1302-2HG</td><td>2</td><td>HGNC:52482         </td></tr>\n",
       "\t<tr><td>chr1</td><td>30365</td><td>30366</td><td>ENSG00000284332.1</td><td>ENSG00000284332</td><td>1</td><td>.</td><td>+</td><td>MIR1302-2  </td><td>3</td><td>HGNC:35294         </td></tr>\n",
       "</tbody>\n",
       "</table>\n"
      ],
      "text/latex": [
       "A tibble: 6 × 11\n",
       "\\begin{tabular}{lllllllllll}\n",
       " Chrom & Start & End & Name & Gene\\_ENS & Gene\\_Transcript & Score & Strand & Gene\\_Symbol & X8 & X9\\\\\n",
       " <chr> & <dbl> & <dbl> & <chr> & <chr> & <chr> & <chr> & <chr> & <chr> & <dbl> & <chr>\\\\\n",
       "\\hline\n",
       "\t chr1 & 11868 & 11869 & ENSG00000290825.1 & ENSG00000290825 & 1 & . & + & DDX11L2     & 2 & overlaps\\_pseudogene\\\\\n",
       "\t chr1 & 12009 & 12010 & ENSG00000223972.6 & ENSG00000223972 & 6 & . & + & DDX11L1     & 2 & HGNC:37102         \\\\\n",
       "\t chr1 & 29570 & 29571 & ENSG00000227232.5 & ENSG00000227232 & 5 & . & - & WASH7P      & 2 & HGNC:38034         \\\\\n",
       "\t chr1 & 17436 & 17437 & ENSG00000278267.1 & ENSG00000278267 & 1 & . & - & MIR6859-1   & 3 & HGNC:50039         \\\\\n",
       "\t chr1 & 29553 & 29554 & ENSG00000243485.5 & ENSG00000243485 & 5 & . & + & MIR1302-2HG & 2 & HGNC:52482         \\\\\n",
       "\t chr1 & 30365 & 30366 & ENSG00000284332.1 & ENSG00000284332 & 1 & . & + & MIR1302-2   & 3 & HGNC:35294         \\\\\n",
       "\\end{tabular}\n"
      ],
      "text/markdown": [
       "\n",
       "A tibble: 6 × 11\n",
       "\n",
       "| Chrom &lt;chr&gt; | Start &lt;dbl&gt; | End &lt;dbl&gt; | Name &lt;chr&gt; | Gene_ENS &lt;chr&gt; | Gene_Transcript &lt;chr&gt; | Score &lt;chr&gt; | Strand &lt;chr&gt; | Gene_Symbol &lt;chr&gt; | X8 &lt;dbl&gt; | X9 &lt;chr&gt; |\n",
       "|---|---|---|---|---|---|---|---|---|---|---|\n",
       "| chr1 | 11868 | 11869 | ENSG00000290825.1 | ENSG00000290825 | 1 | . | + | DDX11L2     | 2 | overlaps_pseudogene |\n",
       "| chr1 | 12009 | 12010 | ENSG00000223972.6 | ENSG00000223972 | 6 | . | + | DDX11L1     | 2 | HGNC:37102          |\n",
       "| chr1 | 29570 | 29571 | ENSG00000227232.5 | ENSG00000227232 | 5 | . | - | WASH7P      | 2 | HGNC:38034          |\n",
       "| chr1 | 17436 | 17437 | ENSG00000278267.1 | ENSG00000278267 | 1 | . | - | MIR6859-1   | 3 | HGNC:50039          |\n",
       "| chr1 | 29553 | 29554 | ENSG00000243485.5 | ENSG00000243485 | 5 | . | + | MIR1302-2HG | 2 | HGNC:52482          |\n",
       "| chr1 | 30365 | 30366 | ENSG00000284332.1 | ENSG00000284332 | 1 | . | + | MIR1302-2   | 3 | HGNC:35294          |\n",
       "\n"
      ],
      "text/plain": [
       "  Chrom Start End   Name              Gene_ENS        Gene_Transcript Score\n",
       "1 chr1  11868 11869 ENSG00000290825.1 ENSG00000290825 1               .    \n",
       "2 chr1  12009 12010 ENSG00000223972.6 ENSG00000223972 6               .    \n",
       "3 chr1  29570 29571 ENSG00000227232.5 ENSG00000227232 5               .    \n",
       "4 chr1  17436 17437 ENSG00000278267.1 ENSG00000278267 1               .    \n",
       "5 chr1  29553 29554 ENSG00000243485.5 ENSG00000243485 5               .    \n",
       "6 chr1  30365 30366 ENSG00000284332.1 ENSG00000284332 1               .    \n",
       "  Strand Gene_Symbol X8 X9                 \n",
       "1 +      DDX11L2     2  overlaps_pseudogene\n",
       "2 +      DDX11L1     2  HGNC:37102         \n",
       "3 -      WASH7P      2  HGNC:38034         \n",
       "4 -      MIR6859-1   3  HGNC:50039         \n",
       "5 +      MIR1302-2HG 2  HGNC:52482         \n",
       "6 +      MIR1302-2   3  HGNC:35294         "
      ]
     },
     "metadata": {},
     "output_type": "display_data"
    }
   ],
   "source": [
    "### set file path\n",
    "fdiry = file.path(FD_RLAB, \"Reference_Data\", \"Gencode\", \"v42\")\n",
    "fname = \"gencode.v42.basic.annotation.tss.bed\"\n",
    "fpath = file.path(fdiry, fname)\n",
    "\n",
    "### read file\n",
    "cnames = c(\"Chrom\", \"Start\", \"End\", \"Name\", \"Score\", \"Strand\", \"Gene_Symbol\", \"X8\", \"X9\")\n",
    "dat = read_tsv(fpath, col_names = cnames, show_col_types = FALSE)\n",
    "dat = dat %>% separate(col = Name, into = c(\"Gene_ENS\", \"Gene_Transcript\"), sep = \"\\\\.\", remove = FALSE)\n",
    "\n",
    "### assign and show info\n",
    "dat_gencode_tss = dat\n",
    "print(dim(dat))\n",
    "head(dat)"
   ]
  },
  {
   "cell_type": "code",
   "execution_count": 25,
   "metadata": {},
   "outputs": [
    {
     "data": {
      "text/html": [
       "<table class=\"dataframe\">\n",
       "<caption>A tibble: 1 × 11</caption>\n",
       "<thead>\n",
       "\t<tr><th scope=col>Chrom</th><th scope=col>Start</th><th scope=col>End</th><th scope=col>Name</th><th scope=col>Gene_ENS</th><th scope=col>Gene_Transcript</th><th scope=col>Score</th><th scope=col>Strand</th><th scope=col>Gene_Symbol</th><th scope=col>X8</th><th scope=col>X9</th></tr>\n",
       "\t<tr><th scope=col>&lt;chr&gt;</th><th scope=col>&lt;dbl&gt;</th><th scope=col>&lt;dbl&gt;</th><th scope=col>&lt;chr&gt;</th><th scope=col>&lt;chr&gt;</th><th scope=col>&lt;chr&gt;</th><th scope=col>&lt;chr&gt;</th><th scope=col>&lt;chr&gt;</th><th scope=col>&lt;chr&gt;</th><th scope=col>&lt;dbl&gt;</th><th scope=col>&lt;chr&gt;</th></tr>\n",
       "</thead>\n",
       "<tbody>\n",
       "\t<tr><td>chr11</td><td>5505652</td><td>5505653</td><td>ENSG00000213931.7</td><td>ENSG00000213931</td><td>7</td><td>.</td><td>-</td><td>HBE1</td><td>2</td><td>HGNC:4830</td></tr>\n",
       "</tbody>\n",
       "</table>\n"
      ],
      "text/latex": [
       "A tibble: 1 × 11\n",
       "\\begin{tabular}{lllllllllll}\n",
       " Chrom & Start & End & Name & Gene\\_ENS & Gene\\_Transcript & Score & Strand & Gene\\_Symbol & X8 & X9\\\\\n",
       " <chr> & <dbl> & <dbl> & <chr> & <chr> & <chr> & <chr> & <chr> & <chr> & <dbl> & <chr>\\\\\n",
       "\\hline\n",
       "\t chr11 & 5505652 & 5505653 & ENSG00000213931.7 & ENSG00000213931 & 7 & . & - & HBE1 & 2 & HGNC:4830\\\\\n",
       "\\end{tabular}\n"
      ],
      "text/markdown": [
       "\n",
       "A tibble: 1 × 11\n",
       "\n",
       "| Chrom &lt;chr&gt; | Start &lt;dbl&gt; | End &lt;dbl&gt; | Name &lt;chr&gt; | Gene_ENS &lt;chr&gt; | Gene_Transcript &lt;chr&gt; | Score &lt;chr&gt; | Strand &lt;chr&gt; | Gene_Symbol &lt;chr&gt; | X8 &lt;dbl&gt; | X9 &lt;chr&gt; |\n",
       "|---|---|---|---|---|---|---|---|---|---|---|\n",
       "| chr11 | 5505652 | 5505653 | ENSG00000213931.7 | ENSG00000213931 | 7 | . | - | HBE1 | 2 | HGNC:4830 |\n",
       "\n"
      ],
      "text/plain": [
       "  Chrom Start   End     Name              Gene_ENS        Gene_Transcript Score\n",
       "1 chr11 5505652 5505653 ENSG00000213931.7 ENSG00000213931 7               .    \n",
       "  Strand Gene_Symbol X8 X9       \n",
       "1 -      HBE1        2  HGNC:4830"
      ]
     },
     "metadata": {},
     "output_type": "display_data"
    }
   ],
   "source": [
    "dat = dat_gencode_tss\n",
    "dat %>% dplyr::filter(Gene_Symbol == \"HBE1\")"
   ]
  },
  {
   "cell_type": "code",
   "execution_count": 26,
   "metadata": {},
   "outputs": [
    {
     "data": {
      "text/html": [
       "<table class=\"dataframe\">\n",
       "<caption>A tibble: 1 × 11</caption>\n",
       "<thead>\n",
       "\t<tr><th scope=col>Chrom</th><th scope=col>Start</th><th scope=col>End</th><th scope=col>Name</th><th scope=col>Gene_ENS</th><th scope=col>Gene_Transcript</th><th scope=col>Score</th><th scope=col>Strand</th><th scope=col>Gene_Symbol</th><th scope=col>X8</th><th scope=col>X9</th></tr>\n",
       "\t<tr><th scope=col>&lt;chr&gt;</th><th scope=col>&lt;dbl&gt;</th><th scope=col>&lt;dbl&gt;</th><th scope=col>&lt;chr&gt;</th><th scope=col>&lt;chr&gt;</th><th scope=col>&lt;chr&gt;</th><th scope=col>&lt;chr&gt;</th><th scope=col>&lt;chr&gt;</th><th scope=col>&lt;chr&gt;</th><th scope=col>&lt;dbl&gt;</th><th scope=col>&lt;chr&gt;</th></tr>\n",
       "</thead>\n",
       "<tbody>\n",
       "\t<tr><td>chr11</td><td>34438933</td><td>34438934</td><td>ENSG00000121691.7</td><td>ENSG00000121691</td><td>7</td><td>.</td><td>+</td><td>CAT</td><td>2</td><td>HGNC:1516</td></tr>\n",
       "</tbody>\n",
       "</table>\n"
      ],
      "text/latex": [
       "A tibble: 1 × 11\n",
       "\\begin{tabular}{lllllllllll}\n",
       " Chrom & Start & End & Name & Gene\\_ENS & Gene\\_Transcript & Score & Strand & Gene\\_Symbol & X8 & X9\\\\\n",
       " <chr> & <dbl> & <dbl> & <chr> & <chr> & <chr> & <chr> & <chr> & <chr> & <dbl> & <chr>\\\\\n",
       "\\hline\n",
       "\t chr11 & 34438933 & 34438934 & ENSG00000121691.7 & ENSG00000121691 & 7 & . & + & CAT & 2 & HGNC:1516\\\\\n",
       "\\end{tabular}\n"
      ],
      "text/markdown": [
       "\n",
       "A tibble: 1 × 11\n",
       "\n",
       "| Chrom &lt;chr&gt; | Start &lt;dbl&gt; | End &lt;dbl&gt; | Name &lt;chr&gt; | Gene_ENS &lt;chr&gt; | Gene_Transcript &lt;chr&gt; | Score &lt;chr&gt; | Strand &lt;chr&gt; | Gene_Symbol &lt;chr&gt; | X8 &lt;dbl&gt; | X9 &lt;chr&gt; |\n",
       "|---|---|---|---|---|---|---|---|---|---|---|\n",
       "| chr11 | 34438933 | 34438934 | ENSG00000121691.7 | ENSG00000121691 | 7 | . | + | CAT | 2 | HGNC:1516 |\n",
       "\n"
      ],
      "text/plain": [
       "  Chrom Start    End      Name              Gene_ENS        Gene_Transcript\n",
       "1 chr11 34438933 34438934 ENSG00000121691.7 ENSG00000121691 7              \n",
       "  Score Strand Gene_Symbol X8 X9       \n",
       "1 .     +      CAT         2  HGNC:1516"
      ]
     },
     "metadata": {},
     "output_type": "display_data"
    }
   ],
   "source": [
    "dat = dat_gencode_tss\n",
    "dat %>% dplyr::filter(Gene_Symbol == \"CAT\")"
   ]
  },
  {
   "cell_type": "code",
   "execution_count": 33,
   "metadata": {},
   "outputs": [
    {
     "name": "stdout",
     "output_type": "stream",
     "text": [
      "[1] 20\n",
      "[1] 20 11\n"
     ]
    },
    {
     "data": {
      "text/html": [
       "<table class=\"dataframe\">\n",
       "<caption>A tibble: 20 × 11</caption>\n",
       "<thead>\n",
       "\t<tr><th scope=col>Chrom</th><th scope=col>Start</th><th scope=col>End</th><th scope=col>Name</th><th scope=col>Gene_ENS</th><th scope=col>Gene_Transcript</th><th scope=col>Score</th><th scope=col>Strand</th><th scope=col>Gene_Symbol</th><th scope=col>TSS</th><th scope=col>TES</th></tr>\n",
       "\t<tr><th scope=col>&lt;chr&gt;</th><th scope=col>&lt;dbl&gt;</th><th scope=col>&lt;dbl&gt;</th><th scope=col>&lt;chr&gt;</th><th scope=col>&lt;chr&gt;</th><th scope=col>&lt;chr&gt;</th><th scope=col>&lt;chr&gt;</th><th scope=col>&lt;chr&gt;</th><th scope=col>&lt;chr&gt;</th><th scope=col>&lt;dbl&gt;</th><th scope=col>&lt;dbl&gt;</th></tr>\n",
       "</thead>\n",
       "<tbody>\n",
       "\t<tr><td>chr11</td><td>  5249857</td><td>  5249858</td><td>ENSG00000213934.9 </td><td>ENSG00000213934</td><td>9 </td><td>.</td><td>-</td><td>HBG1   </td><td>  5248268</td><td>  5249857</td></tr>\n",
       "\t<tr><td>chr11</td><td>  5505605</td><td>  5505606</td><td>ENSG00000196565.15</td><td>ENSG00000196565</td><td>15</td><td>.</td><td>-</td><td>HBG2   </td><td>  5253187</td><td>  5254781</td></tr>\n",
       "\t<tr><td>chr11</td><td>  5505652</td><td>  5505653</td><td>ENSG00000213931.7 </td><td>ENSG00000213931</td><td>7 </td><td>.</td><td>-</td><td>HBE1   </td><td>  5268345</td><td>  5269945</td></tr>\n",
       "\t<tr><td>chr11</td><td> 33892076</td><td> 33892077</td><td>ENSG00000135363.12</td><td>ENSG00000135363</td><td>12</td><td>.</td><td>-</td><td>LMO2   </td><td> 33858575</td><td> 33869878</td></tr>\n",
       "\t<tr><td>chr11</td><td> 34051730</td><td> 34051731</td><td>ENSG00000135387.21</td><td>ENSG00000135387</td><td>21</td><td>.</td><td>+</td><td>CAPRIN1</td><td> 34051730</td><td> 34102610</td></tr>\n",
       "\t<tr><td>chr11</td><td> 34438933</td><td> 34438934</td><td>ENSG00000121691.7 </td><td>ENSG00000121691</td><td>7 </td><td>.</td><td>+</td><td>CAT    </td><td> 34438933</td><td> 34472060</td></tr>\n",
       "\t<tr><td>chr11</td><td> 61792910</td><td> 61792911</td><td>ENSG00000168496.4 </td><td>ENSG00000168496</td><td>4 </td><td>.</td><td>+</td><td>FEN1   </td><td> 61792910</td><td> 61797238</td></tr>\n",
       "\t<tr><td>chr11</td><td> 61792979</td><td> 61792980</td><td>ENSG00000134824.14</td><td>ENSG00000134824</td><td>14</td><td>.</td><td>+</td><td>FADS2  </td><td> 61816202</td><td> 61867354</td></tr>\n",
       "\t<tr><td>chr11</td><td> 61829318</td><td> 61829319</td><td>ENSG00000149485.19</td><td>ENSG00000149485</td><td>19</td><td>.</td><td>-</td><td>FADS1  </td><td> 61799628</td><td> 61817003</td></tr>\n",
       "\t<tr><td>chr11</td><td> 61892051</td><td> 61892052</td><td>ENSG00000221968.9 </td><td>ENSG00000221968</td><td>9 </td><td>.</td><td>-</td><td>FADS3  </td><td> 61873525</td><td> 61891545</td></tr>\n",
       "\t<tr><td>chr12</td><td>112013347</td><td>112013348</td><td>ENSG00000089248.7 </td><td>ENSG00000089248</td><td>7 </td><td>.</td><td>+</td><td>ERP29  </td><td>112013347</td><td>112023220</td></tr>\n",
       "\t<tr><td>chr4 </td><td> 55636698</td><td> 55636699</td><td>ENSG00000109255.11</td><td>ENSG00000109255</td><td>11</td><td>.</td><td>-</td><td>NMU    </td><td> 55595230</td><td> 55636298</td></tr>\n",
       "\t<tr><td>chr5 </td><td> 88904257</td><td> 88904258</td><td>ENSG00000081189.16</td><td>ENSG00000081189</td><td>16</td><td>.</td><td>-</td><td>MEF2C  </td><td> 88717116</td><td> 88883184</td></tr>\n",
       "\t<tr><td>chr6 </td><td>109382467</td><td>109382468</td><td>ENSG00000135535.17</td><td>ENSG00000135535</td><td>17</td><td>.</td><td>-</td><td>CD164  </td><td>109366513</td><td>109382467</td></tr>\n",
       "\t<tr><td>chr6 </td><td>135103056</td><td>135103057</td><td>ENSG00000112339.15</td><td>ENSG00000112339</td><td>15</td><td>.</td><td>-</td><td>HBS1L  </td><td>134960382</td><td>135054822</td></tr>\n",
       "\t<tr><td>chr6 </td><td>135181307</td><td>135181308</td><td>ENSG00000118513.20</td><td>ENSG00000118513</td><td>20</td><td>.</td><td>+</td><td>MYB    </td><td>135181307</td><td>135219172</td></tr>\n",
       "\t<tr><td>chr8 </td><td>127735433</td><td>127735434</td><td>ENSG00000136997.21</td><td>ENSG00000136997</td><td>21</td><td>.</td><td>+</td><td>MYC    </td><td>127736230</td><td>127742951</td></tr>\n",
       "\t<tr><td>chr8 </td><td>127794525</td><td>127794526</td><td>ENSG00000249859.14</td><td>ENSG00000249859</td><td>14</td><td>.</td><td>+</td><td>PVT1   </td><td>127794532</td><td>128101253</td></tr>\n",
       "\t<tr><td>chrX </td><td> 48786539</td><td> 48786540</td><td>ENSG00000102145.16</td><td>ENSG00000102145</td><td>16</td><td>.</td><td>+</td><td>GATA1  </td><td> 48786589</td><td> 48794310</td></tr>\n",
       "\t<tr><td>chrX </td><td> 48801376</td><td> 48801377</td><td>ENSG00000094631.22</td><td>ENSG00000094631</td><td>22</td><td>.</td><td>+</td><td>HDAC6  </td><td> 48802066</td><td> 48824972</td></tr>\n",
       "</tbody>\n",
       "</table>\n"
      ],
      "text/latex": [
       "A tibble: 20 × 11\n",
       "\\begin{tabular}{lllllllllll}\n",
       " Chrom & Start & End & Name & Gene\\_ENS & Gene\\_Transcript & Score & Strand & Gene\\_Symbol & TSS & TES\\\\\n",
       " <chr> & <dbl> & <dbl> & <chr> & <chr> & <chr> & <chr> & <chr> & <chr> & <dbl> & <dbl>\\\\\n",
       "\\hline\n",
       "\t chr11 &   5249857 &   5249858 & ENSG00000213934.9  & ENSG00000213934 & 9  & . & - & HBG1    &   5248268 &   5249857\\\\\n",
       "\t chr11 &   5505605 &   5505606 & ENSG00000196565.15 & ENSG00000196565 & 15 & . & - & HBG2    &   5253187 &   5254781\\\\\n",
       "\t chr11 &   5505652 &   5505653 & ENSG00000213931.7  & ENSG00000213931 & 7  & . & - & HBE1    &   5268345 &   5269945\\\\\n",
       "\t chr11 &  33892076 &  33892077 & ENSG00000135363.12 & ENSG00000135363 & 12 & . & - & LMO2    &  33858575 &  33869878\\\\\n",
       "\t chr11 &  34051730 &  34051731 & ENSG00000135387.21 & ENSG00000135387 & 21 & . & + & CAPRIN1 &  34051730 &  34102610\\\\\n",
       "\t chr11 &  34438933 &  34438934 & ENSG00000121691.7  & ENSG00000121691 & 7  & . & + & CAT     &  34438933 &  34472060\\\\\n",
       "\t chr11 &  61792910 &  61792911 & ENSG00000168496.4  & ENSG00000168496 & 4  & . & + & FEN1    &  61792910 &  61797238\\\\\n",
       "\t chr11 &  61792979 &  61792980 & ENSG00000134824.14 & ENSG00000134824 & 14 & . & + & FADS2   &  61816202 &  61867354\\\\\n",
       "\t chr11 &  61829318 &  61829319 & ENSG00000149485.19 & ENSG00000149485 & 19 & . & - & FADS1   &  61799628 &  61817003\\\\\n",
       "\t chr11 &  61892051 &  61892052 & ENSG00000221968.9  & ENSG00000221968 & 9  & . & - & FADS3   &  61873525 &  61891545\\\\\n",
       "\t chr12 & 112013347 & 112013348 & ENSG00000089248.7  & ENSG00000089248 & 7  & . & + & ERP29   & 112013347 & 112023220\\\\\n",
       "\t chr4  &  55636698 &  55636699 & ENSG00000109255.11 & ENSG00000109255 & 11 & . & - & NMU     &  55595230 &  55636298\\\\\n",
       "\t chr5  &  88904257 &  88904258 & ENSG00000081189.16 & ENSG00000081189 & 16 & . & - & MEF2C   &  88717116 &  88883184\\\\\n",
       "\t chr6  & 109382467 & 109382468 & ENSG00000135535.17 & ENSG00000135535 & 17 & . & - & CD164   & 109366513 & 109382467\\\\\n",
       "\t chr6  & 135103056 & 135103057 & ENSG00000112339.15 & ENSG00000112339 & 15 & . & - & HBS1L   & 134960382 & 135054822\\\\\n",
       "\t chr6  & 135181307 & 135181308 & ENSG00000118513.20 & ENSG00000118513 & 20 & . & + & MYB     & 135181307 & 135219172\\\\\n",
       "\t chr8  & 127735433 & 127735434 & ENSG00000136997.21 & ENSG00000136997 & 21 & . & + & MYC     & 127736230 & 127742951\\\\\n",
       "\t chr8  & 127794525 & 127794526 & ENSG00000249859.14 & ENSG00000249859 & 14 & . & + & PVT1    & 127794532 & 128101253\\\\\n",
       "\t chrX  &  48786539 &  48786540 & ENSG00000102145.16 & ENSG00000102145 & 16 & . & + & GATA1   &  48786589 &  48794310\\\\\n",
       "\t chrX  &  48801376 &  48801377 & ENSG00000094631.22 & ENSG00000094631 & 22 & . & + & HDAC6   &  48802066 &  48824972\\\\\n",
       "\\end{tabular}\n"
      ],
      "text/markdown": [
       "\n",
       "A tibble: 20 × 11\n",
       "\n",
       "| Chrom &lt;chr&gt; | Start &lt;dbl&gt; | End &lt;dbl&gt; | Name &lt;chr&gt; | Gene_ENS &lt;chr&gt; | Gene_Transcript &lt;chr&gt; | Score &lt;chr&gt; | Strand &lt;chr&gt; | Gene_Symbol &lt;chr&gt; | TSS &lt;dbl&gt; | TES &lt;dbl&gt; |\n",
       "|---|---|---|---|---|---|---|---|---|---|---|\n",
       "| chr11 |   5249857 |   5249858 | ENSG00000213934.9  | ENSG00000213934 | 9  | . | - | HBG1    |   5248268 |   5249857 |\n",
       "| chr11 |   5505605 |   5505606 | ENSG00000196565.15 | ENSG00000196565 | 15 | . | - | HBG2    |   5253187 |   5254781 |\n",
       "| chr11 |   5505652 |   5505653 | ENSG00000213931.7  | ENSG00000213931 | 7  | . | - | HBE1    |   5268345 |   5269945 |\n",
       "| chr11 |  33892076 |  33892077 | ENSG00000135363.12 | ENSG00000135363 | 12 | . | - | LMO2    |  33858575 |  33869878 |\n",
       "| chr11 |  34051730 |  34051731 | ENSG00000135387.21 | ENSG00000135387 | 21 | . | + | CAPRIN1 |  34051730 |  34102610 |\n",
       "| chr11 |  34438933 |  34438934 | ENSG00000121691.7  | ENSG00000121691 | 7  | . | + | CAT     |  34438933 |  34472060 |\n",
       "| chr11 |  61792910 |  61792911 | ENSG00000168496.4  | ENSG00000168496 | 4  | . | + | FEN1    |  61792910 |  61797238 |\n",
       "| chr11 |  61792979 |  61792980 | ENSG00000134824.14 | ENSG00000134824 | 14 | . | + | FADS2   |  61816202 |  61867354 |\n",
       "| chr11 |  61829318 |  61829319 | ENSG00000149485.19 | ENSG00000149485 | 19 | . | - | FADS1   |  61799628 |  61817003 |\n",
       "| chr11 |  61892051 |  61892052 | ENSG00000221968.9  | ENSG00000221968 | 9  | . | - | FADS3   |  61873525 |  61891545 |\n",
       "| chr12 | 112013347 | 112013348 | ENSG00000089248.7  | ENSG00000089248 | 7  | . | + | ERP29   | 112013347 | 112023220 |\n",
       "| chr4  |  55636698 |  55636699 | ENSG00000109255.11 | ENSG00000109255 | 11 | . | - | NMU     |  55595230 |  55636298 |\n",
       "| chr5  |  88904257 |  88904258 | ENSG00000081189.16 | ENSG00000081189 | 16 | . | - | MEF2C   |  88717116 |  88883184 |\n",
       "| chr6  | 109382467 | 109382468 | ENSG00000135535.17 | ENSG00000135535 | 17 | . | - | CD164   | 109366513 | 109382467 |\n",
       "| chr6  | 135103056 | 135103057 | ENSG00000112339.15 | ENSG00000112339 | 15 | . | - | HBS1L   | 134960382 | 135054822 |\n",
       "| chr6  | 135181307 | 135181308 | ENSG00000118513.20 | ENSG00000118513 | 20 | . | + | MYB     | 135181307 | 135219172 |\n",
       "| chr8  | 127735433 | 127735434 | ENSG00000136997.21 | ENSG00000136997 | 21 | . | + | MYC     | 127736230 | 127742951 |\n",
       "| chr8  | 127794525 | 127794526 | ENSG00000249859.14 | ENSG00000249859 | 14 | . | + | PVT1    | 127794532 | 128101253 |\n",
       "| chrX  |  48786539 |  48786540 | ENSG00000102145.16 | ENSG00000102145 | 16 | . | + | GATA1   |  48786589 |  48794310 |\n",
       "| chrX  |  48801376 |  48801377 | ENSG00000094631.22 | ENSG00000094631 | 22 | . | + | HDAC6   |  48802066 |  48824972 |\n",
       "\n"
      ],
      "text/plain": [
       "   Chrom Start     End       Name               Gene_ENS        Gene_Transcript\n",
       "1  chr11   5249857   5249858 ENSG00000213934.9  ENSG00000213934 9              \n",
       "2  chr11   5505605   5505606 ENSG00000196565.15 ENSG00000196565 15             \n",
       "3  chr11   5505652   5505653 ENSG00000213931.7  ENSG00000213931 7              \n",
       "4  chr11  33892076  33892077 ENSG00000135363.12 ENSG00000135363 12             \n",
       "5  chr11  34051730  34051731 ENSG00000135387.21 ENSG00000135387 21             \n",
       "6  chr11  34438933  34438934 ENSG00000121691.7  ENSG00000121691 7              \n",
       "7  chr11  61792910  61792911 ENSG00000168496.4  ENSG00000168496 4              \n",
       "8  chr11  61792979  61792980 ENSG00000134824.14 ENSG00000134824 14             \n",
       "9  chr11  61829318  61829319 ENSG00000149485.19 ENSG00000149485 19             \n",
       "10 chr11  61892051  61892052 ENSG00000221968.9  ENSG00000221968 9              \n",
       "11 chr12 112013347 112013348 ENSG00000089248.7  ENSG00000089248 7              \n",
       "12 chr4   55636698  55636699 ENSG00000109255.11 ENSG00000109255 11             \n",
       "13 chr5   88904257  88904258 ENSG00000081189.16 ENSG00000081189 16             \n",
       "14 chr6  109382467 109382468 ENSG00000135535.17 ENSG00000135535 17             \n",
       "15 chr6  135103056 135103057 ENSG00000112339.15 ENSG00000112339 15             \n",
       "16 chr6  135181307 135181308 ENSG00000118513.20 ENSG00000118513 20             \n",
       "17 chr8  127735433 127735434 ENSG00000136997.21 ENSG00000136997 21             \n",
       "18 chr8  127794525 127794526 ENSG00000249859.14 ENSG00000249859 14             \n",
       "19 chrX   48786539  48786540 ENSG00000102145.16 ENSG00000102145 16             \n",
       "20 chrX   48801376  48801377 ENSG00000094631.22 ENSG00000094631 22             \n",
       "   Score Strand Gene_Symbol TSS       TES      \n",
       "1  .     -      HBG1          5248268   5249857\n",
       "2  .     -      HBG2          5253187   5254781\n",
       "3  .     -      HBE1          5268345   5269945\n",
       "4  .     -      LMO2         33858575  33869878\n",
       "5  .     +      CAPRIN1      34051730  34102610\n",
       "6  .     +      CAT          34438933  34472060\n",
       "7  .     +      FEN1         61792910  61797238\n",
       "8  .     +      FADS2        61816202  61867354\n",
       "9  .     -      FADS1        61799628  61817003\n",
       "10 .     -      FADS3        61873525  61891545\n",
       "11 .     +      ERP29       112013347 112023220\n",
       "12 .     -      NMU          55595230  55636298\n",
       "13 .     -      MEF2C        88717116  88883184\n",
       "14 .     -      CD164       109366513 109382467\n",
       "15 .     -      HBS1L       134960382 135054822\n",
       "16 .     +      MYB         135181307 135219172\n",
       "17 .     +      MYC         127736230 127742951\n",
       "18 .     +      PVT1        127794532 128101253\n",
       "19 .     +      GATA1        48786589  48794310\n",
       "20 .     +      HDAC6        48802066  48824972"
      ]
     },
     "metadata": {},
     "output_type": "display_data"
    }
   ],
   "source": [
    "gene = dat_crispr_gene_id$Gene_Ensembl\n",
    "print(length(gene))\n",
    "\n",
    "dat = dat_gencode_tss\n",
    "dat = dat %>% \n",
    "    dplyr::filter(Gene_ENS %in% gene) %>%\n",
    "    dplyr::select(Chrom:Gene_Symbol) %>%\n",
    "    dplyr::left_join(dat_crispr_gene_coord, by=c(\"Chrom\", \"Gene_Symbol\", \"Strand\"))\n",
    "\n",
    "dat_crispr_gene_tss = dat\n",
    "print(dim(dat))\n",
    "dat"
   ]
  },
  {
   "cell_type": "code",
   "execution_count": 35,
   "metadata": {},
   "outputs": [
    {
     "data": {
      "text/html": [
       "<table class=\"dataframe\">\n",
       "<caption>A tibble: 20 × 7</caption>\n",
       "<thead>\n",
       "\t<tr><th scope=col>Chrom</th><th scope=col>Gene_Symbol</th><th scope=col>Start</th><th scope=col>End</th><th scope=col>Strand</th><th scope=col>TSS</th><th scope=col>TES</th></tr>\n",
       "\t<tr><th scope=col>&lt;chr&gt;</th><th scope=col>&lt;chr&gt;</th><th scope=col>&lt;dbl&gt;</th><th scope=col>&lt;dbl&gt;</th><th scope=col>&lt;chr&gt;</th><th scope=col>&lt;dbl&gt;</th><th scope=col>&lt;dbl&gt;</th></tr>\n",
       "</thead>\n",
       "<tbody>\n",
       "\t<tr><td>chr11</td><td>HBG1   </td><td>  5249857</td><td>  5249858</td><td>-</td><td>  5248268</td><td>  5249857</td></tr>\n",
       "\t<tr><td>chr11</td><td>HBG2   </td><td>  5505605</td><td>  5505606</td><td>-</td><td>  5253187</td><td>  5254781</td></tr>\n",
       "\t<tr><td>chr11</td><td>HBE1   </td><td>  5505652</td><td>  5505653</td><td>-</td><td>  5268345</td><td>  5269945</td></tr>\n",
       "\t<tr><td>chr11</td><td>LMO2   </td><td> 33892076</td><td> 33892077</td><td>-</td><td> 33858575</td><td> 33869878</td></tr>\n",
       "\t<tr><td>chr11</td><td>CAPRIN1</td><td> 34051730</td><td> 34051731</td><td>+</td><td> 34051730</td><td> 34102610</td></tr>\n",
       "\t<tr><td>chr11</td><td>CAT    </td><td> 34438933</td><td> 34438934</td><td>+</td><td> 34438933</td><td> 34472060</td></tr>\n",
       "\t<tr><td>chr11</td><td>FEN1   </td><td> 61792910</td><td> 61792911</td><td>+</td><td> 61792910</td><td> 61797238</td></tr>\n",
       "\t<tr><td>chr11</td><td>FADS2  </td><td> 61792979</td><td> 61792980</td><td>+</td><td> 61816202</td><td> 61867354</td></tr>\n",
       "\t<tr><td>chr11</td><td>FADS1  </td><td> 61829318</td><td> 61829319</td><td>-</td><td> 61799628</td><td> 61817003</td></tr>\n",
       "\t<tr><td>chr11</td><td>FADS3  </td><td> 61892051</td><td> 61892052</td><td>-</td><td> 61873525</td><td> 61891545</td></tr>\n",
       "\t<tr><td>chr12</td><td>ERP29  </td><td>112013347</td><td>112013348</td><td>+</td><td>112013347</td><td>112023220</td></tr>\n",
       "\t<tr><td>chr4 </td><td>NMU    </td><td> 55636698</td><td> 55636699</td><td>-</td><td> 55595230</td><td> 55636298</td></tr>\n",
       "\t<tr><td>chr5 </td><td>MEF2C  </td><td> 88904257</td><td> 88904258</td><td>-</td><td> 88717116</td><td> 88883184</td></tr>\n",
       "\t<tr><td>chr6 </td><td>CD164  </td><td>109382467</td><td>109382468</td><td>-</td><td>109366513</td><td>109382467</td></tr>\n",
       "\t<tr><td>chr6 </td><td>HBS1L  </td><td>135103056</td><td>135103057</td><td>-</td><td>134960382</td><td>135054822</td></tr>\n",
       "\t<tr><td>chr6 </td><td>MYB    </td><td>135181307</td><td>135181308</td><td>+</td><td>135181307</td><td>135219172</td></tr>\n",
       "\t<tr><td>chr8 </td><td>MYC    </td><td>127735433</td><td>127735434</td><td>+</td><td>127736230</td><td>127742951</td></tr>\n",
       "\t<tr><td>chr8 </td><td>PVT1   </td><td>127794525</td><td>127794526</td><td>+</td><td>127794532</td><td>128101253</td></tr>\n",
       "\t<tr><td>chrX </td><td>GATA1  </td><td> 48786539</td><td> 48786540</td><td>+</td><td> 48786589</td><td> 48794310</td></tr>\n",
       "\t<tr><td>chrX </td><td>HDAC6  </td><td> 48801376</td><td> 48801377</td><td>+</td><td> 48802066</td><td> 48824972</td></tr>\n",
       "</tbody>\n",
       "</table>\n"
      ],
      "text/latex": [
       "A tibble: 20 × 7\n",
       "\\begin{tabular}{lllllll}\n",
       " Chrom & Gene\\_Symbol & Start & End & Strand & TSS & TES\\\\\n",
       " <chr> & <chr> & <dbl> & <dbl> & <chr> & <dbl> & <dbl>\\\\\n",
       "\\hline\n",
       "\t chr11 & HBG1    &   5249857 &   5249858 & - &   5248268 &   5249857\\\\\n",
       "\t chr11 & HBG2    &   5505605 &   5505606 & - &   5253187 &   5254781\\\\\n",
       "\t chr11 & HBE1    &   5505652 &   5505653 & - &   5268345 &   5269945\\\\\n",
       "\t chr11 & LMO2    &  33892076 &  33892077 & - &  33858575 &  33869878\\\\\n",
       "\t chr11 & CAPRIN1 &  34051730 &  34051731 & + &  34051730 &  34102610\\\\\n",
       "\t chr11 & CAT     &  34438933 &  34438934 & + &  34438933 &  34472060\\\\\n",
       "\t chr11 & FEN1    &  61792910 &  61792911 & + &  61792910 &  61797238\\\\\n",
       "\t chr11 & FADS2   &  61792979 &  61792980 & + &  61816202 &  61867354\\\\\n",
       "\t chr11 & FADS1   &  61829318 &  61829319 & - &  61799628 &  61817003\\\\\n",
       "\t chr11 & FADS3   &  61892051 &  61892052 & - &  61873525 &  61891545\\\\\n",
       "\t chr12 & ERP29   & 112013347 & 112013348 & + & 112013347 & 112023220\\\\\n",
       "\t chr4  & NMU     &  55636698 &  55636699 & - &  55595230 &  55636298\\\\\n",
       "\t chr5  & MEF2C   &  88904257 &  88904258 & - &  88717116 &  88883184\\\\\n",
       "\t chr6  & CD164   & 109382467 & 109382468 & - & 109366513 & 109382467\\\\\n",
       "\t chr6  & HBS1L   & 135103056 & 135103057 & - & 134960382 & 135054822\\\\\n",
       "\t chr6  & MYB     & 135181307 & 135181308 & + & 135181307 & 135219172\\\\\n",
       "\t chr8  & MYC     & 127735433 & 127735434 & + & 127736230 & 127742951\\\\\n",
       "\t chr8  & PVT1    & 127794525 & 127794526 & + & 127794532 & 128101253\\\\\n",
       "\t chrX  & GATA1   &  48786539 &  48786540 & + &  48786589 &  48794310\\\\\n",
       "\t chrX  & HDAC6   &  48801376 &  48801377 & + &  48802066 &  48824972\\\\\n",
       "\\end{tabular}\n"
      ],
      "text/markdown": [
       "\n",
       "A tibble: 20 × 7\n",
       "\n",
       "| Chrom &lt;chr&gt; | Gene_Symbol &lt;chr&gt; | Start &lt;dbl&gt; | End &lt;dbl&gt; | Strand &lt;chr&gt; | TSS &lt;dbl&gt; | TES &lt;dbl&gt; |\n",
       "|---|---|---|---|---|---|---|\n",
       "| chr11 | HBG1    |   5249857 |   5249858 | - |   5248268 |   5249857 |\n",
       "| chr11 | HBG2    |   5505605 |   5505606 | - |   5253187 |   5254781 |\n",
       "| chr11 | HBE1    |   5505652 |   5505653 | - |   5268345 |   5269945 |\n",
       "| chr11 | LMO2    |  33892076 |  33892077 | - |  33858575 |  33869878 |\n",
       "| chr11 | CAPRIN1 |  34051730 |  34051731 | + |  34051730 |  34102610 |\n",
       "| chr11 | CAT     |  34438933 |  34438934 | + |  34438933 |  34472060 |\n",
       "| chr11 | FEN1    |  61792910 |  61792911 | + |  61792910 |  61797238 |\n",
       "| chr11 | FADS2   |  61792979 |  61792980 | + |  61816202 |  61867354 |\n",
       "| chr11 | FADS1   |  61829318 |  61829319 | - |  61799628 |  61817003 |\n",
       "| chr11 | FADS3   |  61892051 |  61892052 | - |  61873525 |  61891545 |\n",
       "| chr12 | ERP29   | 112013347 | 112013348 | + | 112013347 | 112023220 |\n",
       "| chr4  | NMU     |  55636698 |  55636699 | - |  55595230 |  55636298 |\n",
       "| chr5  | MEF2C   |  88904257 |  88904258 | - |  88717116 |  88883184 |\n",
       "| chr6  | CD164   | 109382467 | 109382468 | - | 109366513 | 109382467 |\n",
       "| chr6  | HBS1L   | 135103056 | 135103057 | - | 134960382 | 135054822 |\n",
       "| chr6  | MYB     | 135181307 | 135181308 | + | 135181307 | 135219172 |\n",
       "| chr8  | MYC     | 127735433 | 127735434 | + | 127736230 | 127742951 |\n",
       "| chr8  | PVT1    | 127794525 | 127794526 | + | 127794532 | 128101253 |\n",
       "| chrX  | GATA1   |  48786539 |  48786540 | + |  48786589 |  48794310 |\n",
       "| chrX  | HDAC6   |  48801376 |  48801377 | + |  48802066 |  48824972 |\n",
       "\n"
      ],
      "text/plain": [
       "   Chrom Gene_Symbol Start     End       Strand TSS       TES      \n",
       "1  chr11 HBG1          5249857   5249858 -        5248268   5249857\n",
       "2  chr11 HBG2          5505605   5505606 -        5253187   5254781\n",
       "3  chr11 HBE1          5505652   5505653 -        5268345   5269945\n",
       "4  chr11 LMO2         33892076  33892077 -       33858575  33869878\n",
       "5  chr11 CAPRIN1      34051730  34051731 +       34051730  34102610\n",
       "6  chr11 CAT          34438933  34438934 +       34438933  34472060\n",
       "7  chr11 FEN1         61792910  61792911 +       61792910  61797238\n",
       "8  chr11 FADS2        61792979  61792980 +       61816202  61867354\n",
       "9  chr11 FADS1        61829318  61829319 -       61799628  61817003\n",
       "10 chr11 FADS3        61892051  61892052 -       61873525  61891545\n",
       "11 chr12 ERP29       112013347 112013348 +      112013347 112023220\n",
       "12 chr4  NMU          55636698  55636699 -       55595230  55636298\n",
       "13 chr5  MEF2C        88904257  88904258 -       88717116  88883184\n",
       "14 chr6  CD164       109382467 109382468 -      109366513 109382467\n",
       "15 chr6  HBS1L       135103056 135103057 -      134960382 135054822\n",
       "16 chr6  MYB         135181307 135181308 +      135181307 135219172\n",
       "17 chr8  MYC         127735433 127735434 +      127736230 127742951\n",
       "18 chr8  PVT1        127794525 127794526 +      127794532 128101253\n",
       "19 chrX  GATA1        48786539  48786540 +       48786589  48794310\n",
       "20 chrX  HDAC6        48801376  48801377 +       48802066  48824972"
      ]
     },
     "metadata": {},
     "output_type": "display_data"
    }
   ],
   "source": [
    "dat = dat_crispr_gene_tss\n",
    "dat %>% dplyr::select(Chrom, Gene_Symbol, Start, End, Strand, TSS, TES)"
   ]
  },
  {
   "cell_type": "code",
   "execution_count": 22,
   "metadata": {},
   "outputs": [],
   "source": [
    "fdiry = file.path(FD_RES, \"results\", \"region\", \"annotation_crispri_hcrff\")\n",
    "fname = \"crispri_gene_tss.tsv\"\n",
    "fpath = file.path(fdiry, fname)\n",
    "\n",
    "write_tsv(dat_crispr_gene_tss, fpath)"
   ]
  },
  {
   "cell_type": "code",
   "execution_count": null,
   "metadata": {},
   "outputs": [],
   "source": []
  }
 ],
 "metadata": {
  "kernelspec": {
   "display_name": "R",
   "language": "R",
   "name": "ir"
  },
  "language_info": {
   "codemirror_mode": "r",
   "file_extension": ".r",
   "mimetype": "text/x-r-source",
   "name": "R",
   "pygments_lexer": "r",
   "version": "4.2.3"
  }
 },
 "nbformat": 4,
 "nbformat_minor": 4
}
