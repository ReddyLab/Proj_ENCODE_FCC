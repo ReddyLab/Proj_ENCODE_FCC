{
 "cells": [
  {
   "cell_type": "markdown",
   "metadata": {},
   "source": [
    "**Set environment**"
   ]
  },
  {
   "cell_type": "code",
   "execution_count": 5,
   "metadata": {},
   "outputs": [
    {
     "name": "stdout",
     "output_type": "stream",
     "text": [
      "You are in Singularity: singularity_proj_combeffect \n",
      "BASE DIRECTORY (FD_BASE): /data/reddylab/Kuei \n",
      "WORK DIRECTORY (FD_WORK): /data/reddylab/Kuei/out \n",
      "CODE DIRECTORY (FD_CODE): /data/reddylab/Kuei/code \n",
      "PATH OF PROJECT (FD_PRJ): /data/reddylab/Kuei/code/Proj_CombEffect_ENCODE_FCC \n",
      "PATH OF RESULTS (FD_RES): /data/reddylab/Kuei/out/proj_combeffect_encode_fcc \n",
      "PATH OF LOG     (FD_LOG): /data/reddylab/Kuei/out/proj_combeffect_encode_fcc/log \n"
     ]
    }
   ],
   "source": [
    "suppressMessages(suppressWarnings(source(\"../config/config_sing.R\")))\n",
    "suppressMessages(suppressWarnings(library(\"rtracklayer\")))\n",
    "show_env()"
   ]
  },
  {
   "cell_type": "markdown",
   "metadata": {},
   "source": [
    "## Group 01: NMU"
   ]
  },
  {
   "cell_type": "code",
   "execution_count": 44,
   "metadata": {},
   "outputs": [
    {
     "name": "stdout",
     "output_type": "stream",
     "text": [
      "[1] 11 25\n"
     ]
    },
    {
     "data": {
      "text/html": [
       "<table class=\"dataframe\">\n",
       "<caption>A spec_tbl_df: 11 × 25</caption>\n",
       "<thead>\n",
       "\t<tr><th scope=col>X1</th><th scope=col>X2</th><th scope=col>X3</th><th scope=col>X4</th><th scope=col>X5</th><th scope=col>X6</th><th scope=col>X7</th><th scope=col>X8</th><th scope=col>X9</th><th scope=col>X10</th><th scope=col>⋯</th><th scope=col>X16</th><th scope=col>X17</th><th scope=col>X18</th><th scope=col>X19</th><th scope=col>X20</th><th scope=col>X21</th><th scope=col>X22</th><th scope=col>X23</th><th scope=col>X24</th><th scope=col>X25</th></tr>\n",
       "\t<tr><th scope=col>&lt;chr&gt;</th><th scope=col>&lt;dbl&gt;</th><th scope=col>&lt;dbl&gt;</th><th scope=col>&lt;chr&gt;</th><th scope=col>&lt;dbl&gt;</th><th scope=col>&lt;chr&gt;</th><th scope=col>&lt;chr&gt;</th><th scope=col>&lt;chr&gt;</th><th scope=col>&lt;dbl&gt;</th><th scope=col>&lt;dbl&gt;</th><th scope=col>⋯</th><th scope=col>&lt;lgl&gt;</th><th scope=col>&lt;lgl&gt;</th><th scope=col>&lt;lgl&gt;</th><th scope=col>&lt;lgl&gt;</th><th scope=col>&lt;lgl&gt;</th><th scope=col>&lt;lgl&gt;</th><th scope=col>&lt;lgl&gt;</th><th scope=col>&lt;lgl&gt;</th><th scope=col>&lt;lgl&gt;</th><th scope=col>&lt;lgl&gt;</th></tr>\n",
       "</thead>\n",
       "<tbody>\n",
       "\t<tr><td>chr4</td><td>55602941</td><td>55606941</td><td>chr4:55602941-55606941:.</td><td> 0.5019663</td><td>.</td><td>chr4:55602941-55606941:.</td><td>chr4</td><td>55636297</td><td>55636298</td><td>⋯</td><td>NA</td><td>NA</td><td>TRUE</td><td>NA</td><td>NA</td><td>NA</td><td>NA</td><td>NA</td><td>TRUE</td><td>NA</td></tr>\n",
       "\t<tr><td>chr4</td><td>55608941</td><td>55610941</td><td>chr4:55608941-55610941:.</td><td> 0.5041968</td><td>.</td><td>chr4:55608941-55610941:.</td><td>chr4</td><td>55636297</td><td>55636298</td><td>⋯</td><td>NA</td><td>NA</td><td>TRUE</td><td>NA</td><td>NA</td><td>NA</td><td>NA</td><td>NA</td><td>TRUE</td><td>NA</td></tr>\n",
       "\t<tr><td>chr4</td><td>55611441</td><td>55613941</td><td>chr4:55611441-55613941:.</td><td> 0.4248977</td><td>.</td><td>chr4:55611441-55613941:.</td><td>chr4</td><td>55636297</td><td>55636298</td><td>⋯</td><td>NA</td><td>NA</td><td>TRUE</td><td>NA</td><td>NA</td><td>NA</td><td>NA</td><td>NA</td><td>TRUE</td><td>NA</td></tr>\n",
       "\t<tr><td>chr4</td><td>55614441</td><td>55616941</td><td>chr4:55614441-55616941:.</td><td> 0.6069630</td><td>.</td><td>chr4:55614441-55616941:.</td><td>chr4</td><td>55636297</td><td>55636298</td><td>⋯</td><td>NA</td><td>NA</td><td>TRUE</td><td>NA</td><td>NA</td><td>NA</td><td>NA</td><td>NA</td><td>TRUE</td><td>NA</td></tr>\n",
       "\t<tr><td>chr4</td><td>55617441</td><td>55618441</td><td>chr4:55617441-55618441:.</td><td> 0.4442868</td><td>.</td><td>chr4:55617441-55618441:.</td><td>chr4</td><td>55636297</td><td>55636298</td><td>⋯</td><td>NA</td><td>NA</td><td>TRUE</td><td>NA</td><td>NA</td><td>NA</td><td>NA</td><td>NA</td><td>TRUE</td><td>NA</td></tr>\n",
       "\t<tr><td>chr4</td><td>55624941</td><td>55627441</td><td>chr4:55624941-55627441:.</td><td> 0.4792917</td><td>.</td><td>chr4:55624941-55627441:.</td><td>chr4</td><td>55636297</td><td>55636298</td><td>⋯</td><td>NA</td><td>NA</td><td>TRUE</td><td>NA</td><td>NA</td><td>NA</td><td>NA</td><td>NA</td><td>TRUE</td><td>NA</td></tr>\n",
       "\t<tr><td>chr4</td><td>55631941</td><td>55633941</td><td>chr4:55631941-55633941:.</td><td> 0.5092534</td><td>.</td><td>chr4:55631941-55633941:.</td><td>chr4</td><td>55636297</td><td>55636298</td><td>⋯</td><td>NA</td><td>NA</td><td>TRUE</td><td>NA</td><td>NA</td><td>NA</td><td>NA</td><td>NA</td><td>TRUE</td><td>NA</td></tr>\n",
       "\t<tr><td>chr4</td><td>55634441</td><td>55640941</td><td>chr4:55634441-55640941:.</td><td> 2.2680105</td><td>.</td><td>chr4:55634441-55640941:.</td><td>chr4</td><td>55636297</td><td>55636298</td><td>⋯</td><td>NA</td><td>NA</td><td>TRUE</td><td>NA</td><td>NA</td><td>NA</td><td>NA</td><td>NA</td><td>TRUE</td><td>NA</td></tr>\n",
       "\t<tr><td>chr4</td><td>55666941</td><td>55667441</td><td>chr4:55666941-55667441:.</td><td> 0.2469252</td><td>.</td><td>chr4:55666941-55667441:.</td><td>chr4</td><td>55636297</td><td>55636298</td><td>⋯</td><td>NA</td><td>NA</td><td>TRUE</td><td>NA</td><td>NA</td><td>NA</td><td>NA</td><td>NA</td><td>TRUE</td><td>NA</td></tr>\n",
       "\t<tr><td>chr4</td><td>55670441</td><td>55671441</td><td>chr4:55670441-55671441:.</td><td> 0.2383604</td><td>.</td><td>chr4:55670441-55671441:.</td><td>chr4</td><td>55636297</td><td>55636298</td><td>⋯</td><td>NA</td><td>NA</td><td>TRUE</td><td>NA</td><td>NA</td><td>NA</td><td>NA</td><td>NA</td><td>TRUE</td><td>NA</td></tr>\n",
       "\t<tr><td>chr4</td><td>55810941</td><td>55811941</td><td>chr4:55810941-55811941:.</td><td>-0.2776190</td><td>.</td><td>chr4:55810941-55811941:.</td><td>chr4</td><td>55636297</td><td>55636298</td><td>⋯</td><td>NA</td><td>NA</td><td>TRUE</td><td>NA</td><td>NA</td><td>NA</td><td>NA</td><td>NA</td><td>TRUE</td><td>NA</td></tr>\n",
       "</tbody>\n",
       "</table>\n"
      ],
      "text/latex": [
       "A spec\\_tbl\\_df: 11 × 25\n",
       "\\begin{tabular}{lllllllllllllllllllll}\n",
       " X1 & X2 & X3 & X4 & X5 & X6 & X7 & X8 & X9 & X10 & ⋯ & X16 & X17 & X18 & X19 & X20 & X21 & X22 & X23 & X24 & X25\\\\\n",
       " <chr> & <dbl> & <dbl> & <chr> & <dbl> & <chr> & <chr> & <chr> & <dbl> & <dbl> & ⋯ & <lgl> & <lgl> & <lgl> & <lgl> & <lgl> & <lgl> & <lgl> & <lgl> & <lgl> & <lgl>\\\\\n",
       "\\hline\n",
       "\t chr4 & 55602941 & 55606941 & chr4:55602941-55606941:. &  0.5019663 & . & chr4:55602941-55606941:. & chr4 & 55636297 & 55636298 & ⋯ & NA & NA & TRUE & NA & NA & NA & NA & NA & TRUE & NA\\\\\n",
       "\t chr4 & 55608941 & 55610941 & chr4:55608941-55610941:. &  0.5041968 & . & chr4:55608941-55610941:. & chr4 & 55636297 & 55636298 & ⋯ & NA & NA & TRUE & NA & NA & NA & NA & NA & TRUE & NA\\\\\n",
       "\t chr4 & 55611441 & 55613941 & chr4:55611441-55613941:. &  0.4248977 & . & chr4:55611441-55613941:. & chr4 & 55636297 & 55636298 & ⋯ & NA & NA & TRUE & NA & NA & NA & NA & NA & TRUE & NA\\\\\n",
       "\t chr4 & 55614441 & 55616941 & chr4:55614441-55616941:. &  0.6069630 & . & chr4:55614441-55616941:. & chr4 & 55636297 & 55636298 & ⋯ & NA & NA & TRUE & NA & NA & NA & NA & NA & TRUE & NA\\\\\n",
       "\t chr4 & 55617441 & 55618441 & chr4:55617441-55618441:. &  0.4442868 & . & chr4:55617441-55618441:. & chr4 & 55636297 & 55636298 & ⋯ & NA & NA & TRUE & NA & NA & NA & NA & NA & TRUE & NA\\\\\n",
       "\t chr4 & 55624941 & 55627441 & chr4:55624941-55627441:. &  0.4792917 & . & chr4:55624941-55627441:. & chr4 & 55636297 & 55636298 & ⋯ & NA & NA & TRUE & NA & NA & NA & NA & NA & TRUE & NA\\\\\n",
       "\t chr4 & 55631941 & 55633941 & chr4:55631941-55633941:. &  0.5092534 & . & chr4:55631941-55633941:. & chr4 & 55636297 & 55636298 & ⋯ & NA & NA & TRUE & NA & NA & NA & NA & NA & TRUE & NA\\\\\n",
       "\t chr4 & 55634441 & 55640941 & chr4:55634441-55640941:. &  2.2680105 & . & chr4:55634441-55640941:. & chr4 & 55636297 & 55636298 & ⋯ & NA & NA & TRUE & NA & NA & NA & NA & NA & TRUE & NA\\\\\n",
       "\t chr4 & 55666941 & 55667441 & chr4:55666941-55667441:. &  0.2469252 & . & chr4:55666941-55667441:. & chr4 & 55636297 & 55636298 & ⋯ & NA & NA & TRUE & NA & NA & NA & NA & NA & TRUE & NA\\\\\n",
       "\t chr4 & 55670441 & 55671441 & chr4:55670441-55671441:. &  0.2383604 & . & chr4:55670441-55671441:. & chr4 & 55636297 & 55636298 & ⋯ & NA & NA & TRUE & NA & NA & NA & NA & NA & TRUE & NA\\\\\n",
       "\t chr4 & 55810941 & 55811941 & chr4:55810941-55811941:. & -0.2776190 & . & chr4:55810941-55811941:. & chr4 & 55636297 & 55636298 & ⋯ & NA & NA & TRUE & NA & NA & NA & NA & NA & TRUE & NA\\\\\n",
       "\\end{tabular}\n"
      ],
      "text/markdown": [
       "\n",
       "A spec_tbl_df: 11 × 25\n",
       "\n",
       "| X1 &lt;chr&gt; | X2 &lt;dbl&gt; | X3 &lt;dbl&gt; | X4 &lt;chr&gt; | X5 &lt;dbl&gt; | X6 &lt;chr&gt; | X7 &lt;chr&gt; | X8 &lt;chr&gt; | X9 &lt;dbl&gt; | X10 &lt;dbl&gt; | ⋯ ⋯ | X16 &lt;lgl&gt; | X17 &lt;lgl&gt; | X18 &lt;lgl&gt; | X19 &lt;lgl&gt; | X20 &lt;lgl&gt; | X21 &lt;lgl&gt; | X22 &lt;lgl&gt; | X23 &lt;lgl&gt; | X24 &lt;lgl&gt; | X25 &lt;lgl&gt; |\n",
       "|---|---|---|---|---|---|---|---|---|---|---|---|---|---|---|---|---|---|---|---|---|\n",
       "| chr4 | 55602941 | 55606941 | chr4:55602941-55606941:. |  0.5019663 | . | chr4:55602941-55606941:. | chr4 | 55636297 | 55636298 | ⋯ | NA | NA | TRUE | NA | NA | NA | NA | NA | TRUE | NA |\n",
       "| chr4 | 55608941 | 55610941 | chr4:55608941-55610941:. |  0.5041968 | . | chr4:55608941-55610941:. | chr4 | 55636297 | 55636298 | ⋯ | NA | NA | TRUE | NA | NA | NA | NA | NA | TRUE | NA |\n",
       "| chr4 | 55611441 | 55613941 | chr4:55611441-55613941:. |  0.4248977 | . | chr4:55611441-55613941:. | chr4 | 55636297 | 55636298 | ⋯ | NA | NA | TRUE | NA | NA | NA | NA | NA | TRUE | NA |\n",
       "| chr4 | 55614441 | 55616941 | chr4:55614441-55616941:. |  0.6069630 | . | chr4:55614441-55616941:. | chr4 | 55636297 | 55636298 | ⋯ | NA | NA | TRUE | NA | NA | NA | NA | NA | TRUE | NA |\n",
       "| chr4 | 55617441 | 55618441 | chr4:55617441-55618441:. |  0.4442868 | . | chr4:55617441-55618441:. | chr4 | 55636297 | 55636298 | ⋯ | NA | NA | TRUE | NA | NA | NA | NA | NA | TRUE | NA |\n",
       "| chr4 | 55624941 | 55627441 | chr4:55624941-55627441:. |  0.4792917 | . | chr4:55624941-55627441:. | chr4 | 55636297 | 55636298 | ⋯ | NA | NA | TRUE | NA | NA | NA | NA | NA | TRUE | NA |\n",
       "| chr4 | 55631941 | 55633941 | chr4:55631941-55633941:. |  0.5092534 | . | chr4:55631941-55633941:. | chr4 | 55636297 | 55636298 | ⋯ | NA | NA | TRUE | NA | NA | NA | NA | NA | TRUE | NA |\n",
       "| chr4 | 55634441 | 55640941 | chr4:55634441-55640941:. |  2.2680105 | . | chr4:55634441-55640941:. | chr4 | 55636297 | 55636298 | ⋯ | NA | NA | TRUE | NA | NA | NA | NA | NA | TRUE | NA |\n",
       "| chr4 | 55666941 | 55667441 | chr4:55666941-55667441:. |  0.2469252 | . | chr4:55666941-55667441:. | chr4 | 55636297 | 55636298 | ⋯ | NA | NA | TRUE | NA | NA | NA | NA | NA | TRUE | NA |\n",
       "| chr4 | 55670441 | 55671441 | chr4:55670441-55671441:. |  0.2383604 | . | chr4:55670441-55671441:. | chr4 | 55636297 | 55636298 | ⋯ | NA | NA | TRUE | NA | NA | NA | NA | NA | TRUE | NA |\n",
       "| chr4 | 55810941 | 55811941 | chr4:55810941-55811941:. | -0.2776190 | . | chr4:55810941-55811941:. | chr4 | 55636297 | 55636298 | ⋯ | NA | NA | TRUE | NA | NA | NA | NA | NA | TRUE | NA |\n",
       "\n"
      ],
      "text/plain": [
       "   X1   X2       X3       X4                       X5         X6\n",
       "1  chr4 55602941 55606941 chr4:55602941-55606941:.  0.5019663 . \n",
       "2  chr4 55608941 55610941 chr4:55608941-55610941:.  0.5041968 . \n",
       "3  chr4 55611441 55613941 chr4:55611441-55613941:.  0.4248977 . \n",
       "4  chr4 55614441 55616941 chr4:55614441-55616941:.  0.6069630 . \n",
       "5  chr4 55617441 55618441 chr4:55617441-55618441:.  0.4442868 . \n",
       "6  chr4 55624941 55627441 chr4:55624941-55627441:.  0.4792917 . \n",
       "7  chr4 55631941 55633941 chr4:55631941-55633941:.  0.5092534 . \n",
       "8  chr4 55634441 55640941 chr4:55634441-55640941:.  2.2680105 . \n",
       "9  chr4 55666941 55667441 chr4:55666941-55667441:.  0.2469252 . \n",
       "10 chr4 55670441 55671441 chr4:55670441-55671441:.  0.2383604 . \n",
       "11 chr4 55810941 55811941 chr4:55810941-55811941:. -0.2776190 . \n",
       "   X7                       X8   X9       X10      ⋯ X16 X17 X18  X19 X20 X21\n",
       "1  chr4:55602941-55606941:. chr4 55636297 55636298 ⋯ NA  NA  TRUE NA  NA  NA \n",
       "2  chr4:55608941-55610941:. chr4 55636297 55636298 ⋯ NA  NA  TRUE NA  NA  NA \n",
       "3  chr4:55611441-55613941:. chr4 55636297 55636298 ⋯ NA  NA  TRUE NA  NA  NA \n",
       "4  chr4:55614441-55616941:. chr4 55636297 55636298 ⋯ NA  NA  TRUE NA  NA  NA \n",
       "5  chr4:55617441-55618441:. chr4 55636297 55636298 ⋯ NA  NA  TRUE NA  NA  NA \n",
       "6  chr4:55624941-55627441:. chr4 55636297 55636298 ⋯ NA  NA  TRUE NA  NA  NA \n",
       "7  chr4:55631941-55633941:. chr4 55636297 55636298 ⋯ NA  NA  TRUE NA  NA  NA \n",
       "8  chr4:55634441-55640941:. chr4 55636297 55636298 ⋯ NA  NA  TRUE NA  NA  NA \n",
       "9  chr4:55666941-55667441:. chr4 55636297 55636298 ⋯ NA  NA  TRUE NA  NA  NA \n",
       "10 chr4:55670441-55671441:. chr4 55636297 55636298 ⋯ NA  NA  TRUE NA  NA  NA \n",
       "11 chr4:55810941-55811941:. chr4 55636297 55636298 ⋯ NA  NA  TRUE NA  NA  NA \n",
       "   X22 X23 X24  X25\n",
       "1  NA  NA  TRUE NA \n",
       "2  NA  NA  TRUE NA \n",
       "3  NA  NA  TRUE NA \n",
       "4  NA  NA  TRUE NA \n",
       "5  NA  NA  TRUE NA \n",
       "6  NA  NA  TRUE NA \n",
       "7  NA  NA  TRUE NA \n",
       "8  NA  NA  TRUE NA \n",
       "9  NA  NA  TRUE NA \n",
       "10 NA  NA  TRUE NA \n",
       "11 NA  NA  TRUE NA "
      ]
     },
     "metadata": {},
     "output_type": "display_data"
    }
   ],
   "source": [
    "### set file path\n",
    "fdiry = file.path(FD_RES, \"source\", \"CRISPRi_FlowFISH\", \"casa_peak_calls\")\n",
    "fname = \"NMU_HCRFF_CASA_elem_quant.bed\"\n",
    "fpath = file.path(fdiry, fname)\n",
    "\n",
    "### read file\n",
    "dat = read_tsv(fpath, col_names = FALSE, show_col_types = FALSE)\n",
    "\n",
    "### assign and show info\n",
    "dat_crispr_peak = dat\n",
    "print(dim(dat))\n",
    "dat"
   ]
  },
  {
   "cell_type": "code",
   "execution_count": 46,
   "metadata": {},
   "outputs": [
    {
     "data": {
      "text/html": [
       "<table class=\"dataframe\">\n",
       "<caption>A tibble: 11 × 11</caption>\n",
       "<thead>\n",
       "\t<tr><th scope=col>X5</th><th scope=col>X6</th><th scope=col>X7</th><th scope=col>X8</th><th scope=col>X9</th><th scope=col>X10</th><th scope=col>X11</th><th scope=col>X12</th><th scope=col>X13</th><th scope=col>X14</th><th scope=col>X15</th></tr>\n",
       "\t<tr><th scope=col>&lt;dbl&gt;</th><th scope=col>&lt;chr&gt;</th><th scope=col>&lt;chr&gt;</th><th scope=col>&lt;chr&gt;</th><th scope=col>&lt;dbl&gt;</th><th scope=col>&lt;dbl&gt;</th><th scope=col>&lt;chr&gt;</th><th scope=col>&lt;lgl&gt;</th><th scope=col>&lt;lgl&gt;</th><th scope=col>&lt;chr&gt;</th><th scope=col>&lt;chr&gt;</th></tr>\n",
       "</thead>\n",
       "<tbody>\n",
       "\t<tr><td> 0.5019663</td><td>.</td><td>chr4:55602941-55606941:.</td><td>chr4</td><td>55636297</td><td>55636298</td><td>-</td><td>NA</td><td>NA</td><td>NMU</td><td>ENSG00000109255</td></tr>\n",
       "\t<tr><td> 0.5041968</td><td>.</td><td>chr4:55608941-55610941:.</td><td>chr4</td><td>55636297</td><td>55636298</td><td>-</td><td>NA</td><td>NA</td><td>NMU</td><td>ENSG00000109255</td></tr>\n",
       "\t<tr><td> 0.4248977</td><td>.</td><td>chr4:55611441-55613941:.</td><td>chr4</td><td>55636297</td><td>55636298</td><td>-</td><td>NA</td><td>NA</td><td>NMU</td><td>ENSG00000109255</td></tr>\n",
       "\t<tr><td> 0.6069630</td><td>.</td><td>chr4:55614441-55616941:.</td><td>chr4</td><td>55636297</td><td>55636298</td><td>-</td><td>NA</td><td>NA</td><td>NMU</td><td>ENSG00000109255</td></tr>\n",
       "\t<tr><td> 0.4442868</td><td>.</td><td>chr4:55617441-55618441:.</td><td>chr4</td><td>55636297</td><td>55636298</td><td>-</td><td>NA</td><td>NA</td><td>NMU</td><td>ENSG00000109255</td></tr>\n",
       "\t<tr><td> 0.4792917</td><td>.</td><td>chr4:55624941-55627441:.</td><td>chr4</td><td>55636297</td><td>55636298</td><td>-</td><td>NA</td><td>NA</td><td>NMU</td><td>ENSG00000109255</td></tr>\n",
       "\t<tr><td> 0.5092534</td><td>.</td><td>chr4:55631941-55633941:.</td><td>chr4</td><td>55636297</td><td>55636298</td><td>-</td><td>NA</td><td>NA</td><td>NMU</td><td>ENSG00000109255</td></tr>\n",
       "\t<tr><td> 2.2680105</td><td>.</td><td>chr4:55634441-55640941:.</td><td>chr4</td><td>55636297</td><td>55636298</td><td>-</td><td>NA</td><td>NA</td><td>NMU</td><td>ENSG00000109255</td></tr>\n",
       "\t<tr><td> 0.2469252</td><td>.</td><td>chr4:55666941-55667441:.</td><td>chr4</td><td>55636297</td><td>55636298</td><td>-</td><td>NA</td><td>NA</td><td>NMU</td><td>ENSG00000109255</td></tr>\n",
       "\t<tr><td> 0.2383604</td><td>.</td><td>chr4:55670441-55671441:.</td><td>chr4</td><td>55636297</td><td>55636298</td><td>-</td><td>NA</td><td>NA</td><td>NMU</td><td>ENSG00000109255</td></tr>\n",
       "\t<tr><td>-0.2776190</td><td>.</td><td>chr4:55810941-55811941:.</td><td>chr4</td><td>55636297</td><td>55636298</td><td>-</td><td>NA</td><td>NA</td><td>NMU</td><td>ENSG00000109255</td></tr>\n",
       "</tbody>\n",
       "</table>\n"
      ],
      "text/latex": [
       "A tibble: 11 × 11\n",
       "\\begin{tabular}{lllllllllll}\n",
       " X5 & X6 & X7 & X8 & X9 & X10 & X11 & X12 & X13 & X14 & X15\\\\\n",
       " <dbl> & <chr> & <chr> & <chr> & <dbl> & <dbl> & <chr> & <lgl> & <lgl> & <chr> & <chr>\\\\\n",
       "\\hline\n",
       "\t  0.5019663 & . & chr4:55602941-55606941:. & chr4 & 55636297 & 55636298 & - & NA & NA & NMU & ENSG00000109255\\\\\n",
       "\t  0.5041968 & . & chr4:55608941-55610941:. & chr4 & 55636297 & 55636298 & - & NA & NA & NMU & ENSG00000109255\\\\\n",
       "\t  0.4248977 & . & chr4:55611441-55613941:. & chr4 & 55636297 & 55636298 & - & NA & NA & NMU & ENSG00000109255\\\\\n",
       "\t  0.6069630 & . & chr4:55614441-55616941:. & chr4 & 55636297 & 55636298 & - & NA & NA & NMU & ENSG00000109255\\\\\n",
       "\t  0.4442868 & . & chr4:55617441-55618441:. & chr4 & 55636297 & 55636298 & - & NA & NA & NMU & ENSG00000109255\\\\\n",
       "\t  0.4792917 & . & chr4:55624941-55627441:. & chr4 & 55636297 & 55636298 & - & NA & NA & NMU & ENSG00000109255\\\\\n",
       "\t  0.5092534 & . & chr4:55631941-55633941:. & chr4 & 55636297 & 55636298 & - & NA & NA & NMU & ENSG00000109255\\\\\n",
       "\t  2.2680105 & . & chr4:55634441-55640941:. & chr4 & 55636297 & 55636298 & - & NA & NA & NMU & ENSG00000109255\\\\\n",
       "\t  0.2469252 & . & chr4:55666941-55667441:. & chr4 & 55636297 & 55636298 & - & NA & NA & NMU & ENSG00000109255\\\\\n",
       "\t  0.2383604 & . & chr4:55670441-55671441:. & chr4 & 55636297 & 55636298 & - & NA & NA & NMU & ENSG00000109255\\\\\n",
       "\t -0.2776190 & . & chr4:55810941-55811941:. & chr4 & 55636297 & 55636298 & - & NA & NA & NMU & ENSG00000109255\\\\\n",
       "\\end{tabular}\n"
      ],
      "text/markdown": [
       "\n",
       "A tibble: 11 × 11\n",
       "\n",
       "| X5 &lt;dbl&gt; | X6 &lt;chr&gt; | X7 &lt;chr&gt; | X8 &lt;chr&gt; | X9 &lt;dbl&gt; | X10 &lt;dbl&gt; | X11 &lt;chr&gt; | X12 &lt;lgl&gt; | X13 &lt;lgl&gt; | X14 &lt;chr&gt; | X15 &lt;chr&gt; |\n",
       "|---|---|---|---|---|---|---|---|---|---|---|\n",
       "|  0.5019663 | . | chr4:55602941-55606941:. | chr4 | 55636297 | 55636298 | - | NA | NA | NMU | ENSG00000109255 |\n",
       "|  0.5041968 | . | chr4:55608941-55610941:. | chr4 | 55636297 | 55636298 | - | NA | NA | NMU | ENSG00000109255 |\n",
       "|  0.4248977 | . | chr4:55611441-55613941:. | chr4 | 55636297 | 55636298 | - | NA | NA | NMU | ENSG00000109255 |\n",
       "|  0.6069630 | . | chr4:55614441-55616941:. | chr4 | 55636297 | 55636298 | - | NA | NA | NMU | ENSG00000109255 |\n",
       "|  0.4442868 | . | chr4:55617441-55618441:. | chr4 | 55636297 | 55636298 | - | NA | NA | NMU | ENSG00000109255 |\n",
       "|  0.4792917 | . | chr4:55624941-55627441:. | chr4 | 55636297 | 55636298 | - | NA | NA | NMU | ENSG00000109255 |\n",
       "|  0.5092534 | . | chr4:55631941-55633941:. | chr4 | 55636297 | 55636298 | - | NA | NA | NMU | ENSG00000109255 |\n",
       "|  2.2680105 | . | chr4:55634441-55640941:. | chr4 | 55636297 | 55636298 | - | NA | NA | NMU | ENSG00000109255 |\n",
       "|  0.2469252 | . | chr4:55666941-55667441:. | chr4 | 55636297 | 55636298 | - | NA | NA | NMU | ENSG00000109255 |\n",
       "|  0.2383604 | . | chr4:55670441-55671441:. | chr4 | 55636297 | 55636298 | - | NA | NA | NMU | ENSG00000109255 |\n",
       "| -0.2776190 | . | chr4:55810941-55811941:. | chr4 | 55636297 | 55636298 | - | NA | NA | NMU | ENSG00000109255 |\n",
       "\n"
      ],
      "text/plain": [
       "   X5         X6 X7                       X8   X9       X10      X11 X12 X13\n",
       "1   0.5019663 .  chr4:55602941-55606941:. chr4 55636297 55636298 -   NA  NA \n",
       "2   0.5041968 .  chr4:55608941-55610941:. chr4 55636297 55636298 -   NA  NA \n",
       "3   0.4248977 .  chr4:55611441-55613941:. chr4 55636297 55636298 -   NA  NA \n",
       "4   0.6069630 .  chr4:55614441-55616941:. chr4 55636297 55636298 -   NA  NA \n",
       "5   0.4442868 .  chr4:55617441-55618441:. chr4 55636297 55636298 -   NA  NA \n",
       "6   0.4792917 .  chr4:55624941-55627441:. chr4 55636297 55636298 -   NA  NA \n",
       "7   0.5092534 .  chr4:55631941-55633941:. chr4 55636297 55636298 -   NA  NA \n",
       "8   2.2680105 .  chr4:55634441-55640941:. chr4 55636297 55636298 -   NA  NA \n",
       "9   0.2469252 .  chr4:55666941-55667441:. chr4 55636297 55636298 -   NA  NA \n",
       "10  0.2383604 .  chr4:55670441-55671441:. chr4 55636297 55636298 -   NA  NA \n",
       "11 -0.2776190 .  chr4:55810941-55811941:. chr4 55636297 55636298 -   NA  NA \n",
       "   X14 X15            \n",
       "1  NMU ENSG00000109255\n",
       "2  NMU ENSG00000109255\n",
       "3  NMU ENSG00000109255\n",
       "4  NMU ENSG00000109255\n",
       "5  NMU ENSG00000109255\n",
       "6  NMU ENSG00000109255\n",
       "7  NMU ENSG00000109255\n",
       "8  NMU ENSG00000109255\n",
       "9  NMU ENSG00000109255\n",
       "10 NMU ENSG00000109255\n",
       "11 NMU ENSG00000109255"
      ]
     },
     "metadata": {},
     "output_type": "display_data"
    }
   ],
   "source": [
    "dat[,c(5:15)]"
   ]
  },
  {
   "cell_type": "code",
   "execution_count": 20,
   "metadata": {},
   "outputs": [
    {
     "data": {
      "text/plain": [
       "GRanges object with 43563 ranges and 1 metadata column:\n",
       "          seqnames    ranges strand |      score\n",
       "             <Rle> <IRanges>  <Rle> |  <numeric>\n",
       "      [1]     chr1  74582277      * |  0.0245143\n",
       "      [2]     chr1  74582311      * | -0.4396874\n",
       "      [3]     chr1  80526340      * |  1.1536757\n",
       "      [4]     chr1 102025741      * | -0.1152497\n",
       "      [5]     chr1 102026465      * | -0.0229528\n",
       "      ...      ...       ...    ... .        ...\n",
       "  [43559]     chrX 149651715      * |  0.3820211\n",
       "  [43560]     chrX 149652577      * | -0.0124368\n",
       "  [43561]     chrX 151921815      * | -0.4995973\n",
       "  [43562]     chrX 151922456      * | -0.3210040\n",
       "  [43563]     chrX 151922523      * |  0.3334368\n",
       "  -------\n",
       "  seqinfo: 21 sequences from an unspecified genome"
      ]
     },
     "metadata": {},
     "output_type": "display_data"
    }
   ],
   "source": [
    "### set file path\n",
    "fdiry = file.path(FD_RES, \"source\", \"CRISPRi_FlowFISH\", \"track_bigwig\")\n",
    "fname = \"NMU_HCRFF_rAVG.log2FC_2.bw\"\n",
    "fpath = file.path(fdiry, fname)\n",
    "\n",
    "\n",
    "### read file\n",
    "grg = import(fpath, format=\"BigWig\")\n",
    "\n",
    "### assign and show\n",
    "grg_crispr_track_bw = grg\n",
    "grg"
   ]
  },
  {
   "cell_type": "code",
   "execution_count": 22,
   "metadata": {},
   "outputs": [
    {
     "name": "stdout",
     "output_type": "stream",
     "text": [
      "[1] 43563     5\n"
     ]
    },
    {
     "data": {
      "text/html": [
       "<table class=\"dataframe\">\n",
       "<caption>A tibble: 6 × 5</caption>\n",
       "<thead>\n",
       "\t<tr><th scope=col>Chrom</th><th scope=col>Start</th><th scope=col>End</th><th scope=col>Name</th><th scope=col>Score</th></tr>\n",
       "\t<tr><th scope=col>&lt;chr&gt;</th><th scope=col>&lt;int&gt;</th><th scope=col>&lt;int&gt;</th><th scope=col>&lt;chr&gt;</th><th scope=col>&lt;dbl&gt;</th></tr>\n",
       "</thead>\n",
       "<tbody>\n",
       "\t<tr><td>chr1</td><td> 74582275</td><td> 74582276</td><td>id-1</td><td> 0.024514</td></tr>\n",
       "\t<tr><td>chr1</td><td> 74582309</td><td> 74582310</td><td>id-2</td><td>-0.439687</td></tr>\n",
       "\t<tr><td>chr1</td><td> 80526338</td><td> 80526339</td><td>id-3</td><td> 1.153680</td></tr>\n",
       "\t<tr><td>chr1</td><td>102025739</td><td>102025740</td><td>id-4</td><td>-0.115250</td></tr>\n",
       "\t<tr><td>chr1</td><td>102026463</td><td>102026464</td><td>id-5</td><td>-0.022953</td></tr>\n",
       "\t<tr><td>chr1</td><td>102522706</td><td>102522707</td><td>id-6</td><td>-0.469711</td></tr>\n",
       "</tbody>\n",
       "</table>\n"
      ],
      "text/latex": [
       "A tibble: 6 × 5\n",
       "\\begin{tabular}{lllll}\n",
       " Chrom & Start & End & Name & Score\\\\\n",
       " <chr> & <int> & <int> & <chr> & <dbl>\\\\\n",
       "\\hline\n",
       "\t chr1 &  74582275 &  74582276 & id-1 &  0.024514\\\\\n",
       "\t chr1 &  74582309 &  74582310 & id-2 & -0.439687\\\\\n",
       "\t chr1 &  80526338 &  80526339 & id-3 &  1.153680\\\\\n",
       "\t chr1 & 102025739 & 102025740 & id-4 & -0.115250\\\\\n",
       "\t chr1 & 102026463 & 102026464 & id-5 & -0.022953\\\\\n",
       "\t chr1 & 102522706 & 102522707 & id-6 & -0.469711\\\\\n",
       "\\end{tabular}\n"
      ],
      "text/markdown": [
       "\n",
       "A tibble: 6 × 5\n",
       "\n",
       "| Chrom &lt;chr&gt; | Start &lt;int&gt; | End &lt;int&gt; | Name &lt;chr&gt; | Score &lt;dbl&gt; |\n",
       "|---|---|---|---|---|\n",
       "| chr1 |  74582275 |  74582276 | id-1 |  0.024514 |\n",
       "| chr1 |  74582309 |  74582310 | id-2 | -0.439687 |\n",
       "| chr1 |  80526338 |  80526339 | id-3 |  1.153680 |\n",
       "| chr1 | 102025739 | 102025740 | id-4 | -0.115250 |\n",
       "| chr1 | 102026463 | 102026464 | id-5 | -0.022953 |\n",
       "| chr1 | 102522706 | 102522707 | id-6 | -0.469711 |\n",
       "\n"
      ],
      "text/plain": [
       "  Chrom Start     End       Name Score    \n",
       "1 chr1   74582275  74582276 id-1  0.024514\n",
       "2 chr1   74582309  74582310 id-2 -0.439687\n",
       "3 chr1   80526338  80526339 id-3  1.153680\n",
       "4 chr1  102025739 102025740 id-4 -0.115250\n",
       "5 chr1  102026463 102026464 id-5 -0.022953\n",
       "6 chr1  102522706 102522707 id-6 -0.469711"
      ]
     },
     "metadata": {},
     "output_type": "display_data"
    }
   ],
   "source": [
    "### set file path\n",
    "fdiry = file.path(FD_RES, \"result\", \"CRISPRi_FlowFISH\", \"coverage\")\n",
    "fname = \"NMU_HCRFF_rAVG.log2FC_2.bed\"\n",
    "fpath = file.path(fdiry, fname)\n",
    "\n",
    "### read file\n",
    "cnames = c(\"Chrom\", \"Start\", \"End\", \"Name\", \"Score\")\n",
    "ctypes = cols(\n",
    "    \"Chrom\" = col_character(),\n",
    "    \"Start\" = col_integer(),\n",
    "    \"End\"   = col_integer(),\n",
    "    \"Score\" = col_double()\n",
    ")\n",
    "dat = read_tsv(fpath, col_names = cnames, col_types = ctypes)\n",
    "\n",
    "### assign and show info\n",
    "dat_crispr_track = dat\n",
    "print(dim(dat))\n",
    "head(dat)"
   ]
  },
  {
   "cell_type": "code",
   "execution_count": 31,
   "metadata": {},
   "outputs": [
    {
     "data": {
      "text/plain": [
       "GRanges object with 21 ranges and 0 metadata columns:\n",
       "       seqnames             ranges strand\n",
       "          <Rle>          <IRanges>  <Rle>\n",
       "   [1]     chr1 74582277-248233869      *\n",
       "   [2]    chr10  2350911-130456456      *\n",
       "   [3]    chr11  5996387-124027721      *\n",
       "   [4]    chr12 11520060-128194750      *\n",
       "   [5]    chr13 19040912-105391551      *\n",
       "   ...      ...                ...    ...\n",
       "  [17]     chr6 47776775-142078147      *\n",
       "  [18]     chr7  9707777-156331017      *\n",
       "  [19]     chr8  4306953-139535920      *\n",
       "  [20]     chr9 24548733-103913442      *\n",
       "  [21]     chrX 14261427-151922523      *\n",
       "  -------\n",
       "  seqinfo: 21 sequences from an unspecified genome"
      ]
     },
     "metadata": {},
     "output_type": "display_data"
    }
   ],
   "source": [
    "grg = grg_crispr_track_bw\n",
    "range(grg)"
   ]
  },
  {
   "cell_type": "code",
   "execution_count": 33,
   "metadata": {},
   "outputs": [
    {
     "data": {
      "text/html": [
       "<style>\n",
       ".list-inline {list-style: none; margin:0; padding: 0}\n",
       ".list-inline>li {display: inline-block}\n",
       ".list-inline>li:not(:last-child)::after {content: \"\\00b7\"; padding: 0 .5ex}\n",
       "</style>\n",
       "<ol class=list-inline><li>'seqnames'</li><li>'ranges'</li><li>'strand'</li><li>'seqinfo'</li><li>'elementMetadata'</li><li>'elementType'</li><li>'metadata'</li></ol>\n"
      ],
      "text/latex": [
       "\\begin{enumerate*}\n",
       "\\item 'seqnames'\n",
       "\\item 'ranges'\n",
       "\\item 'strand'\n",
       "\\item 'seqinfo'\n",
       "\\item 'elementMetadata'\n",
       "\\item 'elementType'\n",
       "\\item 'metadata'\n",
       "\\end{enumerate*}\n"
      ],
      "text/markdown": [
       "1. 'seqnames'\n",
       "2. 'ranges'\n",
       "3. 'strand'\n",
       "4. 'seqinfo'\n",
       "5. 'elementMetadata'\n",
       "6. 'elementType'\n",
       "7. 'metadata'\n",
       "\n",
       "\n"
      ],
      "text/plain": [
       "[1] \"seqnames\"        \"ranges\"          \"strand\"          \"seqinfo\"        \n",
       "[5] \"elementMetadata\" \"elementType\"     \"metadata\"       "
      ]
     },
     "metadata": {},
     "output_type": "display_data"
    }
   ],
   "source": [
    "slotNames(grg)"
   ]
  },
  {
   "cell_type": "code",
   "execution_count": 39,
   "metadata": {},
   "outputs": [
    {
     "data": {
      "text/html": [
       "<style>\n",
       ".list-inline {list-style: none; margin:0; padding: 0}\n",
       ".list-inline>li {display: inline-block}\n",
       ".list-inline>li:not(:last-child)::after {content: \"\\00b7\"; padding: 0 .5ex}\n",
       "</style>\n",
       "<ol class=list-inline><li>'start'</li><li>'width'</li><li>'NAMES'</li><li>'elementType'</li><li>'elementMetadata'</li><li>'metadata'</li></ol>\n"
      ],
      "text/latex": [
       "\\begin{enumerate*}\n",
       "\\item 'start'\n",
       "\\item 'width'\n",
       "\\item 'NAMES'\n",
       "\\item 'elementType'\n",
       "\\item 'elementMetadata'\n",
       "\\item 'metadata'\n",
       "\\end{enumerate*}\n"
      ],
      "text/markdown": [
       "1. 'start'\n",
       "2. 'width'\n",
       "3. 'NAMES'\n",
       "4. 'elementType'\n",
       "5. 'elementMetadata'\n",
       "6. 'metadata'\n",
       "\n",
       "\n"
      ],
      "text/plain": [
       "[1] \"start\"           \"width\"           \"NAMES\"           \"elementType\"    \n",
       "[5] \"elementMetadata\" \"metadata\"       "
      ]
     },
     "metadata": {},
     "output_type": "display_data"
    }
   ],
   "source": [
    "slotNames(grg@ranges)"
   ]
  },
  {
   "cell_type": "code",
   "execution_count": 41,
   "metadata": {},
   "outputs": [
    {
     "data": {
      "text/plain": [
       "GRanges object with 18964 ranges and 1 metadata column:\n",
       "          seqnames    ranges strand |     score\n",
       "             <Rle> <IRanges>  <Rle> | <numeric>\n",
       "      [1]     chr4  55602924      * | -1.052749\n",
       "      [2]     chr4  55602956      * | -6.277575\n",
       "      [3]     chr4  55602970      * |  0.886529\n",
       "      [4]     chr4  55603307      * |  0.832548\n",
       "      [5]     chr4  55603308      * |  1.169147\n",
       "      ...      ...       ...    ... .       ...\n",
       "  [18960]     chr4 179362479      * |  0.249066\n",
       "  [18961]     chr4 179363079      * | -0.597375\n",
       "  [18962]     chr4 179364230      * | -0.829778\n",
       "  [18963]     chr4 180004328      * |  1.067776\n",
       "  [18964]     chr4 180005323      * |  0.137988\n",
       "  -------\n",
       "  seqinfo: 21 sequences from an unspecified genome"
      ]
     },
     "metadata": {},
     "output_type": "display_data"
    }
   ],
   "source": [
    "grg = grg_crispr_track_bw\n",
    "\n",
    "idx = (grg@seqnames == \"chr4\")\n",
    "grg = grg[idx]\n",
    "\n",
    "idx = (grg@ranges@start > 55602920)\n",
    "grg = grg[idx]\n",
    "\n",
    "grg"
   ]
  },
  {
   "cell_type": "code",
   "execution_count": 16,
   "metadata": {},
   "outputs": [
    {
     "data": {
      "text/html": [
       "<table class=\"dataframe\">\n",
       "<caption>A tibble: 21 × 4</caption>\n",
       "<thead>\n",
       "\t<tr><th scope=col>Chrom</th><th scope=col>Start</th><th scope=col>End</th><th scope=col>Count</th></tr>\n",
       "\t<tr><th scope=col>&lt;chr&gt;</th><th scope=col>&lt;int&gt;</th><th scope=col>&lt;int&gt;</th><th scope=col>&lt;int&gt;</th></tr>\n",
       "</thead>\n",
       "<tbody>\n",
       "\t<tr><td>chr1 </td><td>74582275</td><td>248233868</td><td>   60</td></tr>\n",
       "\t<tr><td>chr10</td><td> 2350909</td><td>130456455</td><td> 1552</td></tr>\n",
       "\t<tr><td>chr11</td><td> 5996385</td><td>124027720</td><td> 3074</td></tr>\n",
       "\t<tr><td>chr12</td><td>11520058</td><td>128194749</td><td>   30</td></tr>\n",
       "\t<tr><td>chr13</td><td>19040910</td><td>105391550</td><td>   67</td></tr>\n",
       "\t<tr><td>chr14</td><td>27400449</td><td> 97170083</td><td>   27</td></tr>\n",
       "\t<tr><td>chr15</td><td>19960785</td><td> 87166250</td><td>   34</td></tr>\n",
       "\t<tr><td>chr16</td><td>46501260</td><td> 63965316</td><td>    8</td></tr>\n",
       "\t<tr><td>chr17</td><td>22603780</td><td> 71592262</td><td>    7</td></tr>\n",
       "\t<tr><td>chr18</td><td>29747998</td><td> 78327940</td><td>   29</td></tr>\n",
       "\t<tr><td>chr19</td><td>22909104</td><td> 22909891</td><td>    2</td></tr>\n",
       "\t<tr><td>chr2 </td><td>13724999</td><td>208919973</td><td>   63</td></tr>\n",
       "\t<tr><td>chr21</td><td>22502174</td><td> 23816077</td><td>   21</td></tr>\n",
       "\t<tr><td>chr3 </td><td> 5862433</td><td>167072305</td><td>   48</td></tr>\n",
       "\t<tr><td>chr4 </td><td> 9208187</td><td>180005322</td><td>38183</td></tr>\n",
       "\t<tr><td>chr5 </td><td> 2409769</td><td>165081179</td><td>   68</td></tr>\n",
       "\t<tr><td>chr6 </td><td>47776773</td><td>142078146</td><td>   58</td></tr>\n",
       "\t<tr><td>chr7 </td><td> 9707775</td><td>156331016</td><td>   66</td></tr>\n",
       "\t<tr><td>chr8 </td><td> 4306951</td><td>139535919</td><td>   92</td></tr>\n",
       "\t<tr><td>chr9 </td><td>24548731</td><td>103913441</td><td>   38</td></tr>\n",
       "\t<tr><td>chrX </td><td>14261425</td><td>151922522</td><td>   36</td></tr>\n",
       "</tbody>\n",
       "</table>\n"
      ],
      "text/latex": [
       "A tibble: 21 × 4\n",
       "\\begin{tabular}{llll}\n",
       " Chrom & Start & End & Count\\\\\n",
       " <chr> & <int> & <int> & <int>\\\\\n",
       "\\hline\n",
       "\t chr1  & 74582275 & 248233868 &    60\\\\\n",
       "\t chr10 &  2350909 & 130456455 &  1552\\\\\n",
       "\t chr11 &  5996385 & 124027720 &  3074\\\\\n",
       "\t chr12 & 11520058 & 128194749 &    30\\\\\n",
       "\t chr13 & 19040910 & 105391550 &    67\\\\\n",
       "\t chr14 & 27400449 &  97170083 &    27\\\\\n",
       "\t chr15 & 19960785 &  87166250 &    34\\\\\n",
       "\t chr16 & 46501260 &  63965316 &     8\\\\\n",
       "\t chr17 & 22603780 &  71592262 &     7\\\\\n",
       "\t chr18 & 29747998 &  78327940 &    29\\\\\n",
       "\t chr19 & 22909104 &  22909891 &     2\\\\\n",
       "\t chr2  & 13724999 & 208919973 &    63\\\\\n",
       "\t chr21 & 22502174 &  23816077 &    21\\\\\n",
       "\t chr3  &  5862433 & 167072305 &    48\\\\\n",
       "\t chr4  &  9208187 & 180005322 & 38183\\\\\n",
       "\t chr5  &  2409769 & 165081179 &    68\\\\\n",
       "\t chr6  & 47776773 & 142078146 &    58\\\\\n",
       "\t chr7  &  9707775 & 156331016 &    66\\\\\n",
       "\t chr8  &  4306951 & 139535919 &    92\\\\\n",
       "\t chr9  & 24548731 & 103913441 &    38\\\\\n",
       "\t chrX  & 14261425 & 151922522 &    36\\\\\n",
       "\\end{tabular}\n"
      ],
      "text/markdown": [
       "\n",
       "A tibble: 21 × 4\n",
       "\n",
       "| Chrom &lt;chr&gt; | Start &lt;int&gt; | End &lt;int&gt; | Count &lt;int&gt; |\n",
       "|---|---|---|---|\n",
       "| chr1  | 74582275 | 248233868 |    60 |\n",
       "| chr10 |  2350909 | 130456455 |  1552 |\n",
       "| chr11 |  5996385 | 124027720 |  3074 |\n",
       "| chr12 | 11520058 | 128194749 |    30 |\n",
       "| chr13 | 19040910 | 105391550 |    67 |\n",
       "| chr14 | 27400449 |  97170083 |    27 |\n",
       "| chr15 | 19960785 |  87166250 |    34 |\n",
       "| chr16 | 46501260 |  63965316 |     8 |\n",
       "| chr17 | 22603780 |  71592262 |     7 |\n",
       "| chr18 | 29747998 |  78327940 |    29 |\n",
       "| chr19 | 22909104 |  22909891 |     2 |\n",
       "| chr2  | 13724999 | 208919973 |    63 |\n",
       "| chr21 | 22502174 |  23816077 |    21 |\n",
       "| chr3  |  5862433 | 167072305 |    48 |\n",
       "| chr4  |  9208187 | 180005322 | 38183 |\n",
       "| chr5  |  2409769 | 165081179 |    68 |\n",
       "| chr6  | 47776773 | 142078146 |    58 |\n",
       "| chr7  |  9707775 | 156331016 |    66 |\n",
       "| chr8  |  4306951 | 139535919 |    92 |\n",
       "| chr9  | 24548731 | 103913441 |    38 |\n",
       "| chrX  | 14261425 | 151922522 |    36 |\n",
       "\n"
      ],
      "text/plain": [
       "   Chrom Start    End       Count\n",
       "1  chr1  74582275 248233868    60\n",
       "2  chr10  2350909 130456455  1552\n",
       "3  chr11  5996385 124027720  3074\n",
       "4  chr12 11520058 128194749    30\n",
       "5  chr13 19040910 105391550    67\n",
       "6  chr14 27400449  97170083    27\n",
       "7  chr15 19960785  87166250    34\n",
       "8  chr16 46501260  63965316     8\n",
       "9  chr17 22603780  71592262     7\n",
       "10 chr18 29747998  78327940    29\n",
       "11 chr19 22909104  22909891     2\n",
       "12 chr2  13724999 208919973    63\n",
       "13 chr21 22502174  23816077    21\n",
       "14 chr3   5862433 167072305    48\n",
       "15 chr4   9208187 180005322 38183\n",
       "16 chr5   2409769 165081179    68\n",
       "17 chr6  47776773 142078146    58\n",
       "18 chr7   9707775 156331016    66\n",
       "19 chr8   4306951 139535919    92\n",
       "20 chr9  24548731 103913441    38\n",
       "21 chrX  14261425 151922522    36"
      ]
     },
     "metadata": {},
     "output_type": "display_data"
    }
   ],
   "source": [
    "dat = dat_crispr_track\n",
    "dat = dat %>%\n",
    "    dplyr::group_by(Chrom) %>%\n",
    "    dplyr::summarise(\n",
    "        Start = min(Start),\n",
    "        End   = max(End),\n",
    "        Count = n()\n",
    "    )\n",
    "dat"
   ]
  },
  {
   "cell_type": "markdown",
   "metadata": {},
   "source": [
    "## Gene: GATA1"
   ]
  },
  {
   "cell_type": "code",
   "execution_count": 47,
   "metadata": {},
   "outputs": [
    {
     "name": "stdout",
     "output_type": "stream",
     "text": [
      "[1]  3 25\n"
     ]
    },
    {
     "data": {
      "text/html": [
       "<table class=\"dataframe\">\n",
       "<caption>A spec_tbl_df: 3 × 25</caption>\n",
       "<thead>\n",
       "\t<tr><th scope=col>X1</th><th scope=col>X2</th><th scope=col>X3</th><th scope=col>X4</th><th scope=col>X5</th><th scope=col>X6</th><th scope=col>X7</th><th scope=col>X8</th><th scope=col>X9</th><th scope=col>X10</th><th scope=col>⋯</th><th scope=col>X16</th><th scope=col>X17</th><th scope=col>X18</th><th scope=col>X19</th><th scope=col>X20</th><th scope=col>X21</th><th scope=col>X22</th><th scope=col>X23</th><th scope=col>X24</th><th scope=col>X25</th></tr>\n",
       "\t<tr><th scope=col>&lt;chr&gt;</th><th scope=col>&lt;dbl&gt;</th><th scope=col>&lt;dbl&gt;</th><th scope=col>&lt;chr&gt;</th><th scope=col>&lt;dbl&gt;</th><th scope=col>&lt;chr&gt;</th><th scope=col>&lt;chr&gt;</th><th scope=col>&lt;chr&gt;</th><th scope=col>&lt;dbl&gt;</th><th scope=col>&lt;dbl&gt;</th><th scope=col>⋯</th><th scope=col>&lt;lgl&gt;</th><th scope=col>&lt;lgl&gt;</th><th scope=col>&lt;lgl&gt;</th><th scope=col>&lt;lgl&gt;</th><th scope=col>&lt;lgl&gt;</th><th scope=col>&lt;lgl&gt;</th><th scope=col>&lt;lgl&gt;</th><th scope=col>&lt;lgl&gt;</th><th scope=col>&lt;lgl&gt;</th><th scope=col>&lt;lgl&gt;</th></tr>\n",
       "</thead>\n",
       "<tbody>\n",
       "\t<tr><td>chrX</td><td>48782597</td><td>48783497</td><td>chrX:48782597-48783497:.</td><td>2.231263</td><td>.</td><td>chrX:48782597-48783497:.</td><td>chrX</td><td>48786589</td><td>48786590</td><td>⋯</td><td>NA</td><td>NA</td><td>TRUE</td><td>NA</td><td>NA</td><td>NA</td><td>NA</td><td>NA</td><td>TRUE</td><td>NA</td></tr>\n",
       "\t<tr><td>chrX</td><td>48786097</td><td>48786997</td><td>chrX:48786097-48786997:.</td><td>3.708137</td><td>.</td><td>chrX:48786097-48786997:.</td><td>chrX</td><td>48786589</td><td>48786590</td><td>⋯</td><td>NA</td><td>NA</td><td>TRUE</td><td>NA</td><td>NA</td><td>NA</td><td>NA</td><td>NA</td><td>TRUE</td><td>NA</td></tr>\n",
       "\t<tr><td>chrX</td><td>48800197</td><td>48801297</td><td>chrX:48800197-48801297:.</td><td>2.398983</td><td>.</td><td>chrX:48800197-48801297:.</td><td>chrX</td><td>48786589</td><td>48786590</td><td>⋯</td><td>NA</td><td>NA</td><td>TRUE</td><td>NA</td><td>NA</td><td>NA</td><td>NA</td><td>NA</td><td>TRUE</td><td>NA</td></tr>\n",
       "</tbody>\n",
       "</table>\n"
      ],
      "text/latex": [
       "A spec\\_tbl\\_df: 3 × 25\n",
       "\\begin{tabular}{lllllllllllllllllllll}\n",
       " X1 & X2 & X3 & X4 & X5 & X6 & X7 & X8 & X9 & X10 & ⋯ & X16 & X17 & X18 & X19 & X20 & X21 & X22 & X23 & X24 & X25\\\\\n",
       " <chr> & <dbl> & <dbl> & <chr> & <dbl> & <chr> & <chr> & <chr> & <dbl> & <dbl> & ⋯ & <lgl> & <lgl> & <lgl> & <lgl> & <lgl> & <lgl> & <lgl> & <lgl> & <lgl> & <lgl>\\\\\n",
       "\\hline\n",
       "\t chrX & 48782597 & 48783497 & chrX:48782597-48783497:. & 2.231263 & . & chrX:48782597-48783497:. & chrX & 48786589 & 48786590 & ⋯ & NA & NA & TRUE & NA & NA & NA & NA & NA & TRUE & NA\\\\\n",
       "\t chrX & 48786097 & 48786997 & chrX:48786097-48786997:. & 3.708137 & . & chrX:48786097-48786997:. & chrX & 48786589 & 48786590 & ⋯ & NA & NA & TRUE & NA & NA & NA & NA & NA & TRUE & NA\\\\\n",
       "\t chrX & 48800197 & 48801297 & chrX:48800197-48801297:. & 2.398983 & . & chrX:48800197-48801297:. & chrX & 48786589 & 48786590 & ⋯ & NA & NA & TRUE & NA & NA & NA & NA & NA & TRUE & NA\\\\\n",
       "\\end{tabular}\n"
      ],
      "text/markdown": [
       "\n",
       "A spec_tbl_df: 3 × 25\n",
       "\n",
       "| X1 &lt;chr&gt; | X2 &lt;dbl&gt; | X3 &lt;dbl&gt; | X4 &lt;chr&gt; | X5 &lt;dbl&gt; | X6 &lt;chr&gt; | X7 &lt;chr&gt; | X8 &lt;chr&gt; | X9 &lt;dbl&gt; | X10 &lt;dbl&gt; | ⋯ ⋯ | X16 &lt;lgl&gt; | X17 &lt;lgl&gt; | X18 &lt;lgl&gt; | X19 &lt;lgl&gt; | X20 &lt;lgl&gt; | X21 &lt;lgl&gt; | X22 &lt;lgl&gt; | X23 &lt;lgl&gt; | X24 &lt;lgl&gt; | X25 &lt;lgl&gt; |\n",
       "|---|---|---|---|---|---|---|---|---|---|---|---|---|---|---|---|---|---|---|---|---|\n",
       "| chrX | 48782597 | 48783497 | chrX:48782597-48783497:. | 2.231263 | . | chrX:48782597-48783497:. | chrX | 48786589 | 48786590 | ⋯ | NA | NA | TRUE | NA | NA | NA | NA | NA | TRUE | NA |\n",
       "| chrX | 48786097 | 48786997 | chrX:48786097-48786997:. | 3.708137 | . | chrX:48786097-48786997:. | chrX | 48786589 | 48786590 | ⋯ | NA | NA | TRUE | NA | NA | NA | NA | NA | TRUE | NA |\n",
       "| chrX | 48800197 | 48801297 | chrX:48800197-48801297:. | 2.398983 | . | chrX:48800197-48801297:. | chrX | 48786589 | 48786590 | ⋯ | NA | NA | TRUE | NA | NA | NA | NA | NA | TRUE | NA |\n",
       "\n"
      ],
      "text/plain": [
       "  X1   X2       X3       X4                       X5       X6\n",
       "1 chrX 48782597 48783497 chrX:48782597-48783497:. 2.231263 . \n",
       "2 chrX 48786097 48786997 chrX:48786097-48786997:. 3.708137 . \n",
       "3 chrX 48800197 48801297 chrX:48800197-48801297:. 2.398983 . \n",
       "  X7                       X8   X9       X10      ⋯ X16 X17 X18  X19 X20 X21\n",
       "1 chrX:48782597-48783497:. chrX 48786589 48786590 ⋯ NA  NA  TRUE NA  NA  NA \n",
       "2 chrX:48786097-48786997:. chrX 48786589 48786590 ⋯ NA  NA  TRUE NA  NA  NA \n",
       "3 chrX:48800197-48801297:. chrX 48786589 48786590 ⋯ NA  NA  TRUE NA  NA  NA \n",
       "  X22 X23 X24  X25\n",
       "1 NA  NA  TRUE NA \n",
       "2 NA  NA  TRUE NA \n",
       "3 NA  NA  TRUE NA "
      ]
     },
     "metadata": {},
     "output_type": "display_data"
    }
   ],
   "source": [
    "### set file path\n",
    "fdiry = file.path(FD_RES, \"source\", \"CRISPRi_FlowFISH\", \"casa_peak_calls\")\n",
    "fname = \"GATA1_HCRFF_CASA_elem_quant.bed\"\n",
    "fpath = file.path(fdiry, fname)\n",
    "\n",
    "### read file\n",
    "dat = read_tsv(fpath, col_names = FALSE, show_col_types = FALSE)\n",
    "\n",
    "### assign and show info\n",
    "dat_crispr_peak = dat\n",
    "print(dim(dat))\n",
    "dat"
   ]
  },
  {
   "cell_type": "code",
   "execution_count": 48,
   "metadata": {},
   "outputs": [
    {
     "name": "stdout",
     "output_type": "stream",
     "text": [
      "[1]  3 25\n"
     ]
    },
    {
     "data": {
      "text/html": [
       "<table class=\"dataframe\">\n",
       "<caption>A spec_tbl_df: 3 × 25</caption>\n",
       "<thead>\n",
       "\t<tr><th scope=col>X1</th><th scope=col>X2</th><th scope=col>X3</th><th scope=col>X4</th><th scope=col>X5</th><th scope=col>X6</th><th scope=col>X7</th><th scope=col>X8</th><th scope=col>X9</th><th scope=col>X10</th><th scope=col>⋯</th><th scope=col>X16</th><th scope=col>X17</th><th scope=col>X18</th><th scope=col>X19</th><th scope=col>X20</th><th scope=col>X21</th><th scope=col>X22</th><th scope=col>X23</th><th scope=col>X24</th><th scope=col>X25</th></tr>\n",
       "\t<tr><th scope=col>&lt;chr&gt;</th><th scope=col>&lt;dbl&gt;</th><th scope=col>&lt;dbl&gt;</th><th scope=col>&lt;chr&gt;</th><th scope=col>&lt;dbl&gt;</th><th scope=col>&lt;chr&gt;</th><th scope=col>&lt;chr&gt;</th><th scope=col>&lt;chr&gt;</th><th scope=col>&lt;dbl&gt;</th><th scope=col>&lt;dbl&gt;</th><th scope=col>⋯</th><th scope=col>&lt;lgl&gt;</th><th scope=col>&lt;lgl&gt;</th><th scope=col>&lt;lgl&gt;</th><th scope=col>&lt;lgl&gt;</th><th scope=col>&lt;lgl&gt;</th><th scope=col>&lt;lgl&gt;</th><th scope=col>&lt;lgl&gt;</th><th scope=col>&lt;lgl&gt;</th><th scope=col>&lt;lgl&gt;</th><th scope=col>&lt;lgl&gt;</th></tr>\n",
       "</thead>\n",
       "<tbody>\n",
       "\t<tr><td>chrX</td><td>48786297</td><td>48786997</td><td>chrX:48786297-48786997:.</td><td>-1.425316</td><td>.</td><td>chrX:48786297-48786997:.</td><td>chrX</td><td>48802033</td><td>48802034</td><td>⋯</td><td>NA</td><td>NA</td><td>TRUE</td><td>NA</td><td>NA</td><td>NA</td><td>NA</td><td>NA</td><td>TRUE</td><td>NA</td></tr>\n",
       "\t<tr><td>chrX</td><td>48800297</td><td>48801097</td><td>chrX:48800297-48801097:.</td><td> 1.396662</td><td>.</td><td>chrX:48800297-48801097:.</td><td>chrX</td><td>48802033</td><td>48802034</td><td>⋯</td><td>NA</td><td>NA</td><td>TRUE</td><td>NA</td><td>NA</td><td>NA</td><td>NA</td><td>NA</td><td>TRUE</td><td>NA</td></tr>\n",
       "\t<tr><td>chrX</td><td>48801697</td><td>48802997</td><td>chrX:48801697-48802997:.</td><td> 2.587553</td><td>.</td><td>chrX:48801697-48802997:.</td><td>chrX</td><td>48802033</td><td>48802034</td><td>⋯</td><td>NA</td><td>NA</td><td>TRUE</td><td>NA</td><td>NA</td><td>NA</td><td>NA</td><td>NA</td><td>TRUE</td><td>NA</td></tr>\n",
       "</tbody>\n",
       "</table>\n"
      ],
      "text/latex": [
       "A spec\\_tbl\\_df: 3 × 25\n",
       "\\begin{tabular}{lllllllllllllllllllll}\n",
       " X1 & X2 & X3 & X4 & X5 & X6 & X7 & X8 & X9 & X10 & ⋯ & X16 & X17 & X18 & X19 & X20 & X21 & X22 & X23 & X24 & X25\\\\\n",
       " <chr> & <dbl> & <dbl> & <chr> & <dbl> & <chr> & <chr> & <chr> & <dbl> & <dbl> & ⋯ & <lgl> & <lgl> & <lgl> & <lgl> & <lgl> & <lgl> & <lgl> & <lgl> & <lgl> & <lgl>\\\\\n",
       "\\hline\n",
       "\t chrX & 48786297 & 48786997 & chrX:48786297-48786997:. & -1.425316 & . & chrX:48786297-48786997:. & chrX & 48802033 & 48802034 & ⋯ & NA & NA & TRUE & NA & NA & NA & NA & NA & TRUE & NA\\\\\n",
       "\t chrX & 48800297 & 48801097 & chrX:48800297-48801097:. &  1.396662 & . & chrX:48800297-48801097:. & chrX & 48802033 & 48802034 & ⋯ & NA & NA & TRUE & NA & NA & NA & NA & NA & TRUE & NA\\\\\n",
       "\t chrX & 48801697 & 48802997 & chrX:48801697-48802997:. &  2.587553 & . & chrX:48801697-48802997:. & chrX & 48802033 & 48802034 & ⋯ & NA & NA & TRUE & NA & NA & NA & NA & NA & TRUE & NA\\\\\n",
       "\\end{tabular}\n"
      ],
      "text/markdown": [
       "\n",
       "A spec_tbl_df: 3 × 25\n",
       "\n",
       "| X1 &lt;chr&gt; | X2 &lt;dbl&gt; | X3 &lt;dbl&gt; | X4 &lt;chr&gt; | X5 &lt;dbl&gt; | X6 &lt;chr&gt; | X7 &lt;chr&gt; | X8 &lt;chr&gt; | X9 &lt;dbl&gt; | X10 &lt;dbl&gt; | ⋯ ⋯ | X16 &lt;lgl&gt; | X17 &lt;lgl&gt; | X18 &lt;lgl&gt; | X19 &lt;lgl&gt; | X20 &lt;lgl&gt; | X21 &lt;lgl&gt; | X22 &lt;lgl&gt; | X23 &lt;lgl&gt; | X24 &lt;lgl&gt; | X25 &lt;lgl&gt; |\n",
       "|---|---|---|---|---|---|---|---|---|---|---|---|---|---|---|---|---|---|---|---|---|\n",
       "| chrX | 48786297 | 48786997 | chrX:48786297-48786997:. | -1.425316 | . | chrX:48786297-48786997:. | chrX | 48802033 | 48802034 | ⋯ | NA | NA | TRUE | NA | NA | NA | NA | NA | TRUE | NA |\n",
       "| chrX | 48800297 | 48801097 | chrX:48800297-48801097:. |  1.396662 | . | chrX:48800297-48801097:. | chrX | 48802033 | 48802034 | ⋯ | NA | NA | TRUE | NA | NA | NA | NA | NA | TRUE | NA |\n",
       "| chrX | 48801697 | 48802997 | chrX:48801697-48802997:. |  2.587553 | . | chrX:48801697-48802997:. | chrX | 48802033 | 48802034 | ⋯ | NA | NA | TRUE | NA | NA | NA | NA | NA | TRUE | NA |\n",
       "\n"
      ],
      "text/plain": [
       "  X1   X2       X3       X4                       X5        X6\n",
       "1 chrX 48786297 48786997 chrX:48786297-48786997:. -1.425316 . \n",
       "2 chrX 48800297 48801097 chrX:48800297-48801097:.  1.396662 . \n",
       "3 chrX 48801697 48802997 chrX:48801697-48802997:.  2.587553 . \n",
       "  X7                       X8   X9       X10      ⋯ X16 X17 X18  X19 X20 X21\n",
       "1 chrX:48786297-48786997:. chrX 48802033 48802034 ⋯ NA  NA  TRUE NA  NA  NA \n",
       "2 chrX:48800297-48801097:. chrX 48802033 48802034 ⋯ NA  NA  TRUE NA  NA  NA \n",
       "3 chrX:48801697-48802997:. chrX 48802033 48802034 ⋯ NA  NA  TRUE NA  NA  NA \n",
       "  X22 X23 X24  X25\n",
       "1 NA  NA  TRUE NA \n",
       "2 NA  NA  TRUE NA \n",
       "3 NA  NA  TRUE NA "
      ]
     },
     "metadata": {},
     "output_type": "display_data"
    }
   ],
   "source": [
    "### set file path\n",
    "fdiry = file.path(FD_RES, \"source\", \"CRISPRi_FlowFISH\", \"casa_peak_calls\")\n",
    "fname = \"HDAC6_HCRFF_CASA_elem_quant.bed\"\n",
    "fpath = file.path(fdiry, fname)\n",
    "\n",
    "### read file\n",
    "dat = read_tsv(fpath, col_names = FALSE, show_col_types = FALSE)\n",
    "\n",
    "### assign and show info\n",
    "dat_crispr_peak = dat\n",
    "print(dim(dat))\n",
    "dat"
   ]
  },
  {
   "cell_type": "code",
   "execution_count": 49,
   "metadata": {},
   "outputs": [
    {
     "name": "stdout",
     "output_type": "stream",
     "text": [
      "[1]  4 25\n"
     ]
    },
    {
     "data": {
      "text/html": [
       "<table class=\"dataframe\">\n",
       "<caption>A spec_tbl_df: 4 × 25</caption>\n",
       "<thead>\n",
       "\t<tr><th scope=col>X1</th><th scope=col>X2</th><th scope=col>X3</th><th scope=col>X4</th><th scope=col>X5</th><th scope=col>X6</th><th scope=col>X7</th><th scope=col>X8</th><th scope=col>X9</th><th scope=col>X10</th><th scope=col>⋯</th><th scope=col>X16</th><th scope=col>X17</th><th scope=col>X18</th><th scope=col>X19</th><th scope=col>X20</th><th scope=col>X21</th><th scope=col>X22</th><th scope=col>X23</th><th scope=col>X24</th><th scope=col>X25</th></tr>\n",
       "\t<tr><th scope=col>&lt;chr&gt;</th><th scope=col>&lt;dbl&gt;</th><th scope=col>&lt;dbl&gt;</th><th scope=col>&lt;chr&gt;</th><th scope=col>&lt;dbl&gt;</th><th scope=col>&lt;chr&gt;</th><th scope=col>&lt;chr&gt;</th><th scope=col>&lt;chr&gt;</th><th scope=col>&lt;dbl&gt;</th><th scope=col>&lt;dbl&gt;</th><th scope=col>⋯</th><th scope=col>&lt;lgl&gt;</th><th scope=col>&lt;lgl&gt;</th><th scope=col>&lt;lgl&gt;</th><th scope=col>&lt;lgl&gt;</th><th scope=col>&lt;lgl&gt;</th><th scope=col>&lt;lgl&gt;</th><th scope=col>&lt;lgl&gt;</th><th scope=col>&lt;lgl&gt;</th><th scope=col>&lt;lgl&gt;</th><th scope=col>&lt;lgl&gt;</th></tr>\n",
       "</thead>\n",
       "<tbody>\n",
       "\t<tr><td>chr11</td><td>33944871</td><td>33945471</td><td>chr11:33944871-33945471:.</td><td>0.8037646</td><td>.</td><td>chr11:33944871-33945471:.</td><td>chr11</td><td>34051730</td><td>34051731</td><td>⋯</td><td>NA</td><td>NA</td><td>TRUE</td><td>NA</td><td>NA</td><td>NA</td><td>NA</td><td>NA</td><td>TRUE</td><td>NA</td></tr>\n",
       "\t<tr><td>chr11</td><td>34050971</td><td>34051471</td><td>chr11:34050971-34051471:.</td><td>0.9739873</td><td>.</td><td>chr11:34050971-34051471:.</td><td>chr11</td><td>34051730</td><td>34051731</td><td>⋯</td><td>NA</td><td>NA</td><td>TRUE</td><td>NA</td><td>NA</td><td>NA</td><td>NA</td><td>NA</td><td>TRUE</td><td>NA</td></tr>\n",
       "\t<tr><td>chr11</td><td>34051571</td><td>34054171</td><td>chr11:34051571-34054171:.</td><td>2.0642907</td><td>.</td><td>chr11:34051571-34054171:.</td><td>chr11</td><td>34051730</td><td>34051731</td><td>⋯</td><td>NA</td><td>NA</td><td>TRUE</td><td>NA</td><td>NA</td><td>NA</td><td>NA</td><td>NA</td><td>TRUE</td><td>NA</td></tr>\n",
       "\t<tr><td>chr11</td><td>34085871</td><td>34086871</td><td>chr11:34085871-34086871:.</td><td>1.0092724</td><td>.</td><td>chr11:34085871-34086871:.</td><td>chr11</td><td>34051730</td><td>34051731</td><td>⋯</td><td>NA</td><td>NA</td><td>TRUE</td><td>NA</td><td>NA</td><td>NA</td><td>NA</td><td>NA</td><td>TRUE</td><td>NA</td></tr>\n",
       "</tbody>\n",
       "</table>\n"
      ],
      "text/latex": [
       "A spec\\_tbl\\_df: 4 × 25\n",
       "\\begin{tabular}{lllllllllllllllllllll}\n",
       " X1 & X2 & X3 & X4 & X5 & X6 & X7 & X8 & X9 & X10 & ⋯ & X16 & X17 & X18 & X19 & X20 & X21 & X22 & X23 & X24 & X25\\\\\n",
       " <chr> & <dbl> & <dbl> & <chr> & <dbl> & <chr> & <chr> & <chr> & <dbl> & <dbl> & ⋯ & <lgl> & <lgl> & <lgl> & <lgl> & <lgl> & <lgl> & <lgl> & <lgl> & <lgl> & <lgl>\\\\\n",
       "\\hline\n",
       "\t chr11 & 33944871 & 33945471 & chr11:33944871-33945471:. & 0.8037646 & . & chr11:33944871-33945471:. & chr11 & 34051730 & 34051731 & ⋯ & NA & NA & TRUE & NA & NA & NA & NA & NA & TRUE & NA\\\\\n",
       "\t chr11 & 34050971 & 34051471 & chr11:34050971-34051471:. & 0.9739873 & . & chr11:34050971-34051471:. & chr11 & 34051730 & 34051731 & ⋯ & NA & NA & TRUE & NA & NA & NA & NA & NA & TRUE & NA\\\\\n",
       "\t chr11 & 34051571 & 34054171 & chr11:34051571-34054171:. & 2.0642907 & . & chr11:34051571-34054171:. & chr11 & 34051730 & 34051731 & ⋯ & NA & NA & TRUE & NA & NA & NA & NA & NA & TRUE & NA\\\\\n",
       "\t chr11 & 34085871 & 34086871 & chr11:34085871-34086871:. & 1.0092724 & . & chr11:34085871-34086871:. & chr11 & 34051730 & 34051731 & ⋯ & NA & NA & TRUE & NA & NA & NA & NA & NA & TRUE & NA\\\\\n",
       "\\end{tabular}\n"
      ],
      "text/markdown": [
       "\n",
       "A spec_tbl_df: 4 × 25\n",
       "\n",
       "| X1 &lt;chr&gt; | X2 &lt;dbl&gt; | X3 &lt;dbl&gt; | X4 &lt;chr&gt; | X5 &lt;dbl&gt; | X6 &lt;chr&gt; | X7 &lt;chr&gt; | X8 &lt;chr&gt; | X9 &lt;dbl&gt; | X10 &lt;dbl&gt; | ⋯ ⋯ | X16 &lt;lgl&gt; | X17 &lt;lgl&gt; | X18 &lt;lgl&gt; | X19 &lt;lgl&gt; | X20 &lt;lgl&gt; | X21 &lt;lgl&gt; | X22 &lt;lgl&gt; | X23 &lt;lgl&gt; | X24 &lt;lgl&gt; | X25 &lt;lgl&gt; |\n",
       "|---|---|---|---|---|---|---|---|---|---|---|---|---|---|---|---|---|---|---|---|---|\n",
       "| chr11 | 33944871 | 33945471 | chr11:33944871-33945471:. | 0.8037646 | . | chr11:33944871-33945471:. | chr11 | 34051730 | 34051731 | ⋯ | NA | NA | TRUE | NA | NA | NA | NA | NA | TRUE | NA |\n",
       "| chr11 | 34050971 | 34051471 | chr11:34050971-34051471:. | 0.9739873 | . | chr11:34050971-34051471:. | chr11 | 34051730 | 34051731 | ⋯ | NA | NA | TRUE | NA | NA | NA | NA | NA | TRUE | NA |\n",
       "| chr11 | 34051571 | 34054171 | chr11:34051571-34054171:. | 2.0642907 | . | chr11:34051571-34054171:. | chr11 | 34051730 | 34051731 | ⋯ | NA | NA | TRUE | NA | NA | NA | NA | NA | TRUE | NA |\n",
       "| chr11 | 34085871 | 34086871 | chr11:34085871-34086871:. | 1.0092724 | . | chr11:34085871-34086871:. | chr11 | 34051730 | 34051731 | ⋯ | NA | NA | TRUE | NA | NA | NA | NA | NA | TRUE | NA |\n",
       "\n"
      ],
      "text/plain": [
       "  X1    X2       X3       X4                        X5        X6\n",
       "1 chr11 33944871 33945471 chr11:33944871-33945471:. 0.8037646 . \n",
       "2 chr11 34050971 34051471 chr11:34050971-34051471:. 0.9739873 . \n",
       "3 chr11 34051571 34054171 chr11:34051571-34054171:. 2.0642907 . \n",
       "4 chr11 34085871 34086871 chr11:34085871-34086871:. 1.0092724 . \n",
       "  X7                        X8    X9       X10      ⋯ X16 X17 X18  X19 X20 X21\n",
       "1 chr11:33944871-33945471:. chr11 34051730 34051731 ⋯ NA  NA  TRUE NA  NA  NA \n",
       "2 chr11:34050971-34051471:. chr11 34051730 34051731 ⋯ NA  NA  TRUE NA  NA  NA \n",
       "3 chr11:34051571-34054171:. chr11 34051730 34051731 ⋯ NA  NA  TRUE NA  NA  NA \n",
       "4 chr11:34085871-34086871:. chr11 34051730 34051731 ⋯ NA  NA  TRUE NA  NA  NA \n",
       "  X22 X23 X24  X25\n",
       "1 NA  NA  TRUE NA \n",
       "2 NA  NA  TRUE NA \n",
       "3 NA  NA  TRUE NA \n",
       "4 NA  NA  TRUE NA "
      ]
     },
     "metadata": {},
     "output_type": "display_data"
    }
   ],
   "source": [
    "### set file path\n",
    "fdiry = file.path(FD_RES, \"source\", \"CRISPRi_FlowFISH\", \"casa_peak_calls\")\n",
    "fname = \"CAPRIN1_HCRFF_CASA_elem_quant.bed\"\n",
    "fpath = file.path(fdiry, fname)\n",
    "\n",
    "### read file\n",
    "dat = read_tsv(fpath, col_names = FALSE, show_col_types = FALSE)\n",
    "\n",
    "### assign and show info\n",
    "dat_crispr_peak = dat\n",
    "print(dim(dat))\n",
    "dat"
   ]
  },
  {
   "cell_type": "code",
   "execution_count": null,
   "metadata": {},
   "outputs": [],
   "source": []
  }
 ],
 "metadata": {
  "kernelspec": {
   "display_name": "R",
   "language": "R",
   "name": "ir"
  },
  "language_info": {
   "codemirror_mode": "r",
   "file_extension": ".r",
   "mimetype": "text/x-r-source",
   "name": "R",
   "pygments_lexer": "r",
   "version": "4.3.0"
  }
 },
 "nbformat": 4,
 "nbformat_minor": 4
}
