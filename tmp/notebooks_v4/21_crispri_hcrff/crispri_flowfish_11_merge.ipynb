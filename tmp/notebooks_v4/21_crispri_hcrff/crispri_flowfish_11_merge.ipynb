{
 "cells": [
  {
   "cell_type": "markdown",
   "metadata": {},
   "source": [
    "**Set environment**"
   ]
  },
  {
   "cell_type": "code",
   "execution_count": 1,
   "metadata": {},
   "outputs": [
    {
     "name": "stdout",
     "output_type": "stream",
     "text": [
      "You are in Singularity: singularity_proj_encode_fcc \n",
      "BASE DIRECTORY (FD_BASE): /data/reddylab/Kuei \n",
      "WORK DIRECTORY (FD_WORK): /data/reddylab/Kuei/out \n",
      "CODE DIRECTORY (FD_CODE): /data/reddylab/Kuei/code \n",
      "PATH OF PROJECT (FD_PRJ): /data/reddylab/Kuei/code/Proj_CombEffect_ENCODE_FCC \n",
      "PATH OF RESULTS (FD_RES): /data/reddylab/Kuei/out/proj_combeffect_encode_fcc \n",
      "PATH OF LOG     (FD_LOG): /data/reddylab/Kuei/out/proj_combeffect_encode_fcc/log \n"
     ]
    }
   ],
   "source": [
    "suppressWarnings(suppressMessages(source(\"../config/config_sing.R\")))\n",
    "show_env()"
   ]
  },
  {
   "cell_type": "markdown",
   "metadata": {},
   "source": [
    "## Import data"
   ]
  },
  {
   "cell_type": "code",
   "execution_count": 2,
   "metadata": {},
   "outputs": [
    {
     "name": "stdout",
     "output_type": "stream",
     "text": [
      "[1] 20\n",
      "CAPRIN1_HCRFF_rAVG.log2FC_2.bed \n",
      "CAT_HCRFF_rAVG.log2FC_2.bed \n",
      "CD164_HCRFF_rAVG.log2FC_2.bed \n",
      "ERP29_HCRFF_rAVG.log2FC_2.bed \n",
      "FADS1_HCRFF_rAVG.log2FC_2.bed \n",
      "FADS2_HCRFF_rAVG.log2FC_2.bed \n",
      "FADS3_HCRFF_rAVG.log2FC_2.bed \n",
      "FEN1_HCRFF_rAVG.log2FC_2.bed \n",
      "GATA1_HCRFF_rAVG.log2FC_2.bed \n",
      "HBE1_HCRFF_rAVG.log2FC_2.bed \n",
      "HBG1_HCRFF_rAVG.log2FC_2.bed \n",
      "HBG2_HCRFF_rAVG.log2FC_2.bed \n",
      "HBS1L_HCRFF_rAVG.log2FC_2.bed \n",
      "HDAC6_HCRFF_rAVG.log2FC_2.bed \n",
      "LMO2_HCRFF_rAVG.log2FC_2.bed \n",
      "MEF2C_HCRFF_rAVG.log2FC_2.bed \n",
      "MYB_HCRFF_rAVG.log2FC_2.bed \n",
      "MYC_HCRFF_rAVG.log2FC_2.bed \n",
      "NMU_HCRFF_rAVG.log2FC_2.bed \n",
      "PVT1_HCRFF_rAVG.log2FC_2.bed \n"
     ]
    }
   ],
   "source": [
    "fdiry = file.path(FD_RES, \"results\", \"CRISPRi_FlowFISH\", \"coverage\")\n",
    "fname = \"*_HCRFF_rAVG.log2FC_2.bed\"\n",
    "fglob = file.path(fdiry, fname)\n",
    "\n",
    "fpaths = Sys.glob(fglob)\n",
    "fpath_exclude = \"Merge_HCRFF_rAVG.log2FC_2.bed\"\n",
    "fpaths = setdiff(fpaths, fpath_exclude)\n",
    "fnames = basename(fpaths)\n",
    "\n",
    "print(length(fpaths))\n",
    "for (fname in fnames){cat(fname, \"\\n\")}"
   ]
  },
  {
   "cell_type": "code",
   "execution_count": 3,
   "metadata": {},
   "outputs": [
    {
     "name": "stdout",
     "output_type": "stream",
     "text": [
      "[1] 20\n",
      "CAPRIN1 57495 \n",
      "CAT 57495 \n",
      "CD164 57664 \n",
      "ERP29 57381 \n",
      "FADS1 9398 \n",
      "FADS2 9398 \n",
      "FADS3 9398 \n",
      "FEN1 9398 \n",
      "GATA1 13732 \n",
      "HBE1 20485 \n",
      "HBG1 20485 \n",
      "HBG2 20485 \n",
      "HBS1L 20485 \n",
      "HDAC6 13732 \n",
      "LMO2 57495 \n",
      "MEF2C 57632 \n",
      "MYB 20485 \n",
      "MYC 49986 \n",
      "NMU 43563 \n",
      "PVT1 49986 \n"
     ]
    }
   ],
   "source": [
    "### get gene name\n",
    "lst = str_split(fnames, pattern = \"_\")\n",
    "vec = lapply(lst, function(vec){return(vec[1])})\n",
    "\n",
    "### set columns\n",
    "cnames = c(\"Chrom\", \"Start\", \"End\", \"Name\", \"Score\")\n",
    "ctypes = cols(\n",
    "    \"Chrom\" = col_character(),\n",
    "    \"Start\" = col_integer(),\n",
    "    \"End\"   = col_integer(),\n",
    "    \"Name\"  = col_character(),\n",
    "    \"Score\" = col_double()\n",
    ")\n",
    "\n",
    "### read data\n",
    "lst = lapply(fpaths, function(fpath){\n",
    "    dat = read_tsv(fpath, col_names = cnames, col_types = ctypes)\n",
    "    return(dat)\n",
    "})\n",
    "names(lst) = vec\n",
    "\n",
    "### assign and show\n",
    "lst_dat_crispri_hcrff = lst\n",
    "print(length(lst))\n",
    "for (txt in names(lst)){\n",
    "    dat = lst[[txt]]\n",
    "    cat(txt, nrow(dat), \"\\n\")\n",
    "}"
   ]
  },
  {
   "cell_type": "markdown",
   "metadata": {},
   "source": [
    "## Merge"
   ]
  },
  {
   "cell_type": "code",
   "execution_count": 4,
   "metadata": {},
   "outputs": [
    {
     "name": "stdout",
     "output_type": "stream",
     "text": [
      "[1] 656178      6\n"
     ]
    },
    {
     "data": {
      "text/html": [
       "<table class=\"dataframe\">\n",
       "<caption>A tibble: 6 × 6</caption>\n",
       "<thead>\n",
       "\t<tr><th scope=col>Chrom</th><th scope=col>Start</th><th scope=col>End</th><th scope=col>Name</th><th scope=col>Score</th><th scope=col>Gene</th></tr>\n",
       "\t<tr><th scope=col>&lt;chr&gt;</th><th scope=col>&lt;int&gt;</th><th scope=col>&lt;int&gt;</th><th scope=col>&lt;chr&gt;</th><th scope=col>&lt;dbl&gt;</th><th scope=col>&lt;chr&gt;</th></tr>\n",
       "</thead>\n",
       "<tbody>\n",
       "\t<tr><td>chr10</td><td>100694991</td><td>100694992</td><td>id-1</td><td> 0.436247</td><td>CAPRIN1</td></tr>\n",
       "\t<tr><td>chr10</td><td>100695172</td><td>100695173</td><td>id-2</td><td>-1.057770</td><td>CAPRIN1</td></tr>\n",
       "\t<tr><td>chr10</td><td>100695184</td><td>100695185</td><td>id-3</td><td> 1.242010</td><td>CAPRIN1</td></tr>\n",
       "\t<tr><td>chr10</td><td>100695209</td><td>100695210</td><td>id-4</td><td>-0.471250</td><td>CAPRIN1</td></tr>\n",
       "\t<tr><td>chr10</td><td>100695328</td><td>100695329</td><td>id-5</td><td>-1.293510</td><td>CAPRIN1</td></tr>\n",
       "\t<tr><td>chr10</td><td>100695346</td><td>100695347</td><td>id-6</td><td> 0.928888</td><td>CAPRIN1</td></tr>\n",
       "</tbody>\n",
       "</table>\n"
      ],
      "text/latex": [
       "A tibble: 6 × 6\n",
       "\\begin{tabular}{llllll}\n",
       " Chrom & Start & End & Name & Score & Gene\\\\\n",
       " <chr> & <int> & <int> & <chr> & <dbl> & <chr>\\\\\n",
       "\\hline\n",
       "\t chr10 & 100694991 & 100694992 & id-1 &  0.436247 & CAPRIN1\\\\\n",
       "\t chr10 & 100695172 & 100695173 & id-2 & -1.057770 & CAPRIN1\\\\\n",
       "\t chr10 & 100695184 & 100695185 & id-3 &  1.242010 & CAPRIN1\\\\\n",
       "\t chr10 & 100695209 & 100695210 & id-4 & -0.471250 & CAPRIN1\\\\\n",
       "\t chr10 & 100695328 & 100695329 & id-5 & -1.293510 & CAPRIN1\\\\\n",
       "\t chr10 & 100695346 & 100695347 & id-6 &  0.928888 & CAPRIN1\\\\\n",
       "\\end{tabular}\n"
      ],
      "text/markdown": [
       "\n",
       "A tibble: 6 × 6\n",
       "\n",
       "| Chrom &lt;chr&gt; | Start &lt;int&gt; | End &lt;int&gt; | Name &lt;chr&gt; | Score &lt;dbl&gt; | Gene &lt;chr&gt; |\n",
       "|---|---|---|---|---|---|\n",
       "| chr10 | 100694991 | 100694992 | id-1 |  0.436247 | CAPRIN1 |\n",
       "| chr10 | 100695172 | 100695173 | id-2 | -1.057770 | CAPRIN1 |\n",
       "| chr10 | 100695184 | 100695185 | id-3 |  1.242010 | CAPRIN1 |\n",
       "| chr10 | 100695209 | 100695210 | id-4 | -0.471250 | CAPRIN1 |\n",
       "| chr10 | 100695328 | 100695329 | id-5 | -1.293510 | CAPRIN1 |\n",
       "| chr10 | 100695346 | 100695347 | id-6 |  0.928888 | CAPRIN1 |\n",
       "\n"
      ],
      "text/plain": [
       "  Chrom Start     End       Name Score     Gene   \n",
       "1 chr10 100694991 100694992 id-1  0.436247 CAPRIN1\n",
       "2 chr10 100695172 100695173 id-2 -1.057770 CAPRIN1\n",
       "3 chr10 100695184 100695185 id-3  1.242010 CAPRIN1\n",
       "4 chr10 100695209 100695210 id-4 -0.471250 CAPRIN1\n",
       "5 chr10 100695328 100695329 id-5 -1.293510 CAPRIN1\n",
       "6 chr10 100695346 100695347 id-6  0.928888 CAPRIN1"
      ]
     },
     "metadata": {},
     "output_type": "display_data"
    }
   ],
   "source": [
    "lst = lst_dat_crispri_hcrff\n",
    "dat = bind_rows(lst, .id = \"Gene\")\n",
    "dat = dat %>% dplyr::select(Chrom, Start, End, Name, Score, Gene)\n",
    "\n",
    "dat_crispri_hcrff_merge = dat\n",
    "print(dim(dat))\n",
    "head(dat)"
   ]
  },
  {
   "cell_type": "markdown",
   "metadata": {},
   "source": [
    "## Save"
   ]
  },
  {
   "cell_type": "code",
   "execution_count": 5,
   "metadata": {},
   "outputs": [],
   "source": [
    "fdiry = file.path(FD_RES, \"results\", \"CRISPRi_FlowFISH\", \"coverage\")\n",
    "fname = \"Merge_HCRFF_rAVG.log2FC_2.bed.gz\"\n",
    "fpath = file.path(fdiry, fname)\n",
    "\n",
    "dat = dat_crispri_hcrff_merge\n",
    "write_tsv(dat, fpath, col_names=FALSE)"
   ]
  },
  {
   "cell_type": "code",
   "execution_count": null,
   "metadata": {},
   "outputs": [],
   "source": []
  }
 ],
 "metadata": {
  "kernelspec": {
   "display_name": "R",
   "language": "R",
   "name": "ir"
  },
  "language_info": {
   "codemirror_mode": "r",
   "file_extension": ".r",
   "mimetype": "text/x-r-source",
   "name": "R",
   "pygments_lexer": "r",
   "version": "4.3.0"
  }
 },
 "nbformat": 4,
 "nbformat_minor": 4
}
