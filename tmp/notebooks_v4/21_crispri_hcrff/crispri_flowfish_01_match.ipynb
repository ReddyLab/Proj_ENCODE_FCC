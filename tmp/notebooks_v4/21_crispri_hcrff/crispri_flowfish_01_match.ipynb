{
 "cells": [
  {
   "cell_type": "markdown",
   "metadata": {},
   "source": [
    "**Set environment**"
   ]
  },
  {
   "cell_type": "code",
   "execution_count": 1,
   "metadata": {},
   "outputs": [
    {
     "name": "stdout",
     "output_type": "stream",
     "text": [
      "You are in Singularity: singularity_proj_encode_fcc \n",
      "BASE DIRECTORY (FD_BASE): /data/reddylab/Kuei \n",
      "WORK DIRECTORY (FD_WORK): /data/reddylab/Kuei/out \n",
      "CODE DIRECTORY (FD_CODE): /data/reddylab/Kuei/code \n",
      "PATH OF PROJECT (FD_PRJ): /data/reddylab/Kuei/code/Proj_CombEffect_ENCODE_FCC \n",
      "PATH OF RESULTS (FD_RES): /data/reddylab/Kuei/out/proj_combeffect_encode_fcc \n",
      "PATH OF LOG     (FD_LOG): /data/reddylab/Kuei/out/proj_combeffect_encode_fcc/log \n"
     ]
    }
   ],
   "source": [
    "suppressWarnings(suppressMessages(source(\"../config/config_sing.R\")))\n",
    "show_env()"
   ]
  },
  {
   "cell_type": "markdown",
   "metadata": {},
   "source": [
    "## Import data"
   ]
  },
  {
   "cell_type": "code",
   "execution_count": 7,
   "metadata": {},
   "outputs": [],
   "source": [
    "gene = \"CAPRIN1\""
   ]
  },
  {
   "cell_type": "markdown",
   "metadata": {},
   "source": [
    "**Attributes and information of guides**"
   ]
  },
  {
   "cell_type": "code",
   "execution_count": 52,
   "metadata": {},
   "outputs": [
    {
     "name": "stdout",
     "output_type": "stream",
     "text": [
      "[1] 60000    17\n"
     ]
    },
    {
     "data": {
      "text/html": [
       "<table class=\"dataframe\">\n",
       "<caption>A tibble: 6 × 17</caption>\n",
       "<thead>\n",
       "\t<tr><th scope=col>Chrom</th><th scope=col>Start</th><th scope=col>End</th><th scope=col>Name</th><th scope=col>SeqCounts</th><th scope=col>Strand</th><th scope=col>Guide_ID</th><th scope=col>Chrom_TSS</th><th scope=col>Start_TSS</th><th scope=col>End_TSS</th><th scope=col>Strand_Gene</th><th scope=col>Gene_Symbol</th><th scope=col>Gene_ENS</th><th scope=col>Guide_SpacerSeq</th><th scope=col>Guide_Seq</th><th scope=col>Guide_Type</th><th scope=col>Notes</th></tr>\n",
       "\t<tr><th scope=col>&lt;chr&gt;</th><th scope=col>&lt;int&gt;</th><th scope=col>&lt;int&gt;</th><th scope=col>&lt;chr&gt;</th><th scope=col>&lt;dbl&gt;</th><th scope=col>&lt;chr&gt;</th><th scope=col>&lt;chr&gt;</th><th scope=col>&lt;chr&gt;</th><th scope=col>&lt;dbl&gt;</th><th scope=col>&lt;dbl&gt;</th><th scope=col>&lt;chr&gt;</th><th scope=col>&lt;chr&gt;</th><th scope=col>&lt;chr&gt;</th><th scope=col>&lt;chr&gt;</th><th scope=col>&lt;chr&gt;</th><th scope=col>&lt;chr&gt;</th><th scope=col>&lt;chr&gt;</th></tr>\n",
       "</thead>\n",
       "<tbody>\n",
       "\t<tr><td>chr11</td><td>61748850</td><td>61748853</td><td>NA|chr11:61748831-61748850:+</td><td>121</td><td>+</td><td>chr11:61748831-61748850:+</td><td>chr11</td><td>34051731</td><td>34051732</td><td>+</td><td>CAPRIN1</td><td>ENSG00000135387</td><td>CTTTACCTCCACTGTAAGGC</td><td>GCTTTACCTCCACTGTAAGGC</td><td>negative_control</td><td>STT</td></tr>\n",
       "\t<tr><td>chr11</td><td>61748851</td><td>61748854</td><td>NA|chr11:61748832-61748851:+</td><td>153</td><td>+</td><td>chr11:61748832-61748851:+</td><td>chr11</td><td>34051731</td><td>34051732</td><td>+</td><td>CAPRIN1</td><td>ENSG00000135387</td><td>TTTACCTCCACTGTAAGGCA</td><td>GTTTACCTCCACTGTAAGGCA</td><td>negative_control</td><td>STT</td></tr>\n",
       "\t<tr><td>chr11</td><td>61748971</td><td>61748974</td><td>NA|chr11:61748975-61748994:-</td><td>172</td><td>-</td><td>chr11:61748975-61748994:-</td><td>chr11</td><td>34051731</td><td>34051732</td><td>+</td><td>CAPRIN1</td><td>ENSG00000135387</td><td>CTACCGAGCCACAGTGAGTG</td><td>GCTACCGAGCCACAGTGAGTG</td><td>negative_control</td><td>STT</td></tr>\n",
       "\t<tr><td>chr11</td><td>61749002</td><td>61749005</td><td>NA|chr11:61748983-61749002:+</td><td>  3</td><td>+</td><td>chr11:61748983-61749002:+</td><td>chr11</td><td>34051731</td><td>34051732</td><td>+</td><td>CAPRIN1</td><td>ENSG00000135387</td><td>GTGGCTCGGTAGAGAAGCCA</td><td>GTGGCTCGGTAGAGAAGCCA </td><td>negative_control</td><td>STT</td></tr>\n",
       "\t<tr><td>chr11</td><td>61749033</td><td>61749036</td><td>NA|chr11:61749014-61749033:+</td><td>246</td><td>+</td><td>chr11:61749014-61749033:+</td><td>chr11</td><td>34051731</td><td>34051732</td><td>+</td><td>CAPRIN1</td><td>ENSG00000135387</td><td>GAGGACTCATCTCCATTGAT</td><td>GAGGACTCATCTCCATTGAT </td><td>negative_control</td><td>STT</td></tr>\n",
       "\t<tr><td>chr11</td><td>61749038</td><td>61749041</td><td>NA|chr11:61749042-61749061:-</td><td>851</td><td>-</td><td>chr11:61749042-61749061:-</td><td>chr11</td><td>34051731</td><td>34051732</td><td>+</td><td>CAPRIN1</td><td>ENSG00000135387</td><td>ACTTGCATACAAGGACCTAG</td><td>GACTTGCATACAAGGACCTAG</td><td>negative_control</td><td>STT</td></tr>\n",
       "</tbody>\n",
       "</table>\n"
      ],
      "text/latex": [
       "A tibble: 6 × 17\n",
       "\\begin{tabular}{lllllllllllllllll}\n",
       " Chrom & Start & End & Name & SeqCounts & Strand & Guide\\_ID & Chrom\\_TSS & Start\\_TSS & End\\_TSS & Strand\\_Gene & Gene\\_Symbol & Gene\\_ENS & Guide\\_SpacerSeq & Guide\\_Seq & Guide\\_Type & Notes\\\\\n",
       " <chr> & <int> & <int> & <chr> & <dbl> & <chr> & <chr> & <chr> & <dbl> & <dbl> & <chr> & <chr> & <chr> & <chr> & <chr> & <chr> & <chr>\\\\\n",
       "\\hline\n",
       "\t chr11 & 61748850 & 61748853 & NA\\textbar{}chr11:61748831-61748850:+ & 121 & + & chr11:61748831-61748850:+ & chr11 & 34051731 & 34051732 & + & CAPRIN1 & ENSG00000135387 & CTTTACCTCCACTGTAAGGC & GCTTTACCTCCACTGTAAGGC & negative\\_control & STT\\\\\n",
       "\t chr11 & 61748851 & 61748854 & NA\\textbar{}chr11:61748832-61748851:+ & 153 & + & chr11:61748832-61748851:+ & chr11 & 34051731 & 34051732 & + & CAPRIN1 & ENSG00000135387 & TTTACCTCCACTGTAAGGCA & GTTTACCTCCACTGTAAGGCA & negative\\_control & STT\\\\\n",
       "\t chr11 & 61748971 & 61748974 & NA\\textbar{}chr11:61748975-61748994:- & 172 & - & chr11:61748975-61748994:- & chr11 & 34051731 & 34051732 & + & CAPRIN1 & ENSG00000135387 & CTACCGAGCCACAGTGAGTG & GCTACCGAGCCACAGTGAGTG & negative\\_control & STT\\\\\n",
       "\t chr11 & 61749002 & 61749005 & NA\\textbar{}chr11:61748983-61749002:+ &   3 & + & chr11:61748983-61749002:+ & chr11 & 34051731 & 34051732 & + & CAPRIN1 & ENSG00000135387 & GTGGCTCGGTAGAGAAGCCA & GTGGCTCGGTAGAGAAGCCA  & negative\\_control & STT\\\\\n",
       "\t chr11 & 61749033 & 61749036 & NA\\textbar{}chr11:61749014-61749033:+ & 246 & + & chr11:61749014-61749033:+ & chr11 & 34051731 & 34051732 & + & CAPRIN1 & ENSG00000135387 & GAGGACTCATCTCCATTGAT & GAGGACTCATCTCCATTGAT  & negative\\_control & STT\\\\\n",
       "\t chr11 & 61749038 & 61749041 & NA\\textbar{}chr11:61749042-61749061:- & 851 & - & chr11:61749042-61749061:- & chr11 & 34051731 & 34051732 & + & CAPRIN1 & ENSG00000135387 & ACTTGCATACAAGGACCTAG & GACTTGCATACAAGGACCTAG & negative\\_control & STT\\\\\n",
       "\\end{tabular}\n"
      ],
      "text/markdown": [
       "\n",
       "A tibble: 6 × 17\n",
       "\n",
       "| Chrom &lt;chr&gt; | Start &lt;int&gt; | End &lt;int&gt; | Name &lt;chr&gt; | SeqCounts &lt;dbl&gt; | Strand &lt;chr&gt; | Guide_ID &lt;chr&gt; | Chrom_TSS &lt;chr&gt; | Start_TSS &lt;dbl&gt; | End_TSS &lt;dbl&gt; | Strand_Gene &lt;chr&gt; | Gene_Symbol &lt;chr&gt; | Gene_ENS &lt;chr&gt; | Guide_SpacerSeq &lt;chr&gt; | Guide_Seq &lt;chr&gt; | Guide_Type &lt;chr&gt; | Notes &lt;chr&gt; |\n",
       "|---|---|---|---|---|---|---|---|---|---|---|---|---|---|---|---|---|\n",
       "| chr11 | 61748850 | 61748853 | NA|chr11:61748831-61748850:+ | 121 | + | chr11:61748831-61748850:+ | chr11 | 34051731 | 34051732 | + | CAPRIN1 | ENSG00000135387 | CTTTACCTCCACTGTAAGGC | GCTTTACCTCCACTGTAAGGC | negative_control | STT |\n",
       "| chr11 | 61748851 | 61748854 | NA|chr11:61748832-61748851:+ | 153 | + | chr11:61748832-61748851:+ | chr11 | 34051731 | 34051732 | + | CAPRIN1 | ENSG00000135387 | TTTACCTCCACTGTAAGGCA | GTTTACCTCCACTGTAAGGCA | negative_control | STT |\n",
       "| chr11 | 61748971 | 61748974 | NA|chr11:61748975-61748994:- | 172 | - | chr11:61748975-61748994:- | chr11 | 34051731 | 34051732 | + | CAPRIN1 | ENSG00000135387 | CTACCGAGCCACAGTGAGTG | GCTACCGAGCCACAGTGAGTG | negative_control | STT |\n",
       "| chr11 | 61749002 | 61749005 | NA|chr11:61748983-61749002:+ |   3 | + | chr11:61748983-61749002:+ | chr11 | 34051731 | 34051732 | + | CAPRIN1 | ENSG00000135387 | GTGGCTCGGTAGAGAAGCCA | GTGGCTCGGTAGAGAAGCCA  | negative_control | STT |\n",
       "| chr11 | 61749033 | 61749036 | NA|chr11:61749014-61749033:+ | 246 | + | chr11:61749014-61749033:+ | chr11 | 34051731 | 34051732 | + | CAPRIN1 | ENSG00000135387 | GAGGACTCATCTCCATTGAT | GAGGACTCATCTCCATTGAT  | negative_control | STT |\n",
       "| chr11 | 61749038 | 61749041 | NA|chr11:61749042-61749061:- | 851 | - | chr11:61749042-61749061:- | chr11 | 34051731 | 34051732 | + | CAPRIN1 | ENSG00000135387 | ACTTGCATACAAGGACCTAG | GACTTGCATACAAGGACCTAG | negative_control | STT |\n",
       "\n"
      ],
      "text/plain": [
       "  Chrom Start    End      Name                         SeqCounts Strand\n",
       "1 chr11 61748850 61748853 NA|chr11:61748831-61748850:+ 121       +     \n",
       "2 chr11 61748851 61748854 NA|chr11:61748832-61748851:+ 153       +     \n",
       "3 chr11 61748971 61748974 NA|chr11:61748975-61748994:- 172       -     \n",
       "4 chr11 61749002 61749005 NA|chr11:61748983-61749002:+   3       +     \n",
       "5 chr11 61749033 61749036 NA|chr11:61749014-61749033:+ 246       +     \n",
       "6 chr11 61749038 61749041 NA|chr11:61749042-61749061:- 851       -     \n",
       "  Guide_ID                  Chrom_TSS Start_TSS End_TSS  Strand_Gene\n",
       "1 chr11:61748831-61748850:+ chr11     34051731  34051732 +          \n",
       "2 chr11:61748832-61748851:+ chr11     34051731  34051732 +          \n",
       "3 chr11:61748975-61748994:- chr11     34051731  34051732 +          \n",
       "4 chr11:61748983-61749002:+ chr11     34051731  34051732 +          \n",
       "5 chr11:61749014-61749033:+ chr11     34051731  34051732 +          \n",
       "6 chr11:61749042-61749061:- chr11     34051731  34051732 +          \n",
       "  Gene_Symbol Gene_ENS        Guide_SpacerSeq      Guide_Seq            \n",
       "1 CAPRIN1     ENSG00000135387 CTTTACCTCCACTGTAAGGC GCTTTACCTCCACTGTAAGGC\n",
       "2 CAPRIN1     ENSG00000135387 TTTACCTCCACTGTAAGGCA GTTTACCTCCACTGTAAGGCA\n",
       "3 CAPRIN1     ENSG00000135387 CTACCGAGCCACAGTGAGTG GCTACCGAGCCACAGTGAGTG\n",
       "4 CAPRIN1     ENSG00000135387 GTGGCTCGGTAGAGAAGCCA GTGGCTCGGTAGAGAAGCCA \n",
       "5 CAPRIN1     ENSG00000135387 GAGGACTCATCTCCATTGAT GAGGACTCATCTCCATTGAT \n",
       "6 CAPRIN1     ENSG00000135387 ACTTGCATACAAGGACCTAG GACTTGCATACAAGGACCTAG\n",
       "  Guide_Type       Notes\n",
       "1 negative_control STT  \n",
       "2 negative_control STT  \n",
       "3 negative_control STT  \n",
       "4 negative_control STT  \n",
       "5 negative_control STT  \n",
       "6 negative_control STT  "
      ]
     },
     "metadata": {},
     "output_type": "display_data"
    }
   ],
   "source": [
    "### set file path\n",
    "fdiry = file.path(FD_RES, \"source\", \"CRISPRi_FlowFISH\", \"track_bedgraph\")\n",
    "fname = paste(gene, \"HS_exp_r1.tsv.gz\", sep=\"_\")\n",
    "fpath = file.path(fdiry, fname)\n",
    "\n",
    "### read data\n",
    "cnames = c(\"Chrom\", \"Start\", \"End\", \"Name\", \"SeqCounts\", \"Strand\", \"Guide_ID\", \n",
    "       \"Chrom_TSS\", \"Start_TSS\", \"End_TSS\", \"Strand_Gene\", \n",
    "       \"Gene_Symbol\", \n",
    "       \"Gene_ENS\", \n",
    "       \"Guide_SpacerSeq\",\n",
    "       \"Guide_Seq\",\n",
    "       \"Guide_Type\",\n",
    "       \"Notes\"\n",
    "      )\n",
    "ctypes = cols(\n",
    "    \"Chrom\" = col_character(),\n",
    "    \"Start\" = col_integer(),\n",
    "    \"End\"   = col_integer()\n",
    ")\n",
    "dat = read_tsv(fpath, col_names = cnames, col_types = ctypes, show_col_types = FALSE)\n",
    "\n",
    "### assign and show\n",
    "dat_crispr_info_HS = dat\n",
    "print(dim(dat))\n",
    "head(dat)"
   ]
  },
  {
   "cell_type": "code",
   "execution_count": 53,
   "metadata": {},
   "outputs": [
    {
     "name": "stdout",
     "output_type": "stream",
     "text": [
      "[1] 60000    17\n"
     ]
    },
    {
     "data": {
      "text/html": [
       "<table class=\"dataframe\">\n",
       "<caption>A tibble: 6 × 17</caption>\n",
       "<thead>\n",
       "\t<tr><th scope=col>Chrom</th><th scope=col>Start</th><th scope=col>End</th><th scope=col>Name</th><th scope=col>SeqCounts</th><th scope=col>Strand</th><th scope=col>Guide_ID</th><th scope=col>Chrom_TSS</th><th scope=col>Start_TSS</th><th scope=col>End_TSS</th><th scope=col>Strand_Gene</th><th scope=col>Gene_Symbol</th><th scope=col>Gene_ENS</th><th scope=col>Guide_SpacerSeq</th><th scope=col>Guide_Seq</th><th scope=col>Guide_Type</th><th scope=col>Notes</th></tr>\n",
       "\t<tr><th scope=col>&lt;chr&gt;</th><th scope=col>&lt;int&gt;</th><th scope=col>&lt;int&gt;</th><th scope=col>&lt;chr&gt;</th><th scope=col>&lt;dbl&gt;</th><th scope=col>&lt;chr&gt;</th><th scope=col>&lt;chr&gt;</th><th scope=col>&lt;chr&gt;</th><th scope=col>&lt;dbl&gt;</th><th scope=col>&lt;dbl&gt;</th><th scope=col>&lt;chr&gt;</th><th scope=col>&lt;chr&gt;</th><th scope=col>&lt;chr&gt;</th><th scope=col>&lt;chr&gt;</th><th scope=col>&lt;chr&gt;</th><th scope=col>&lt;chr&gt;</th><th scope=col>&lt;chr&gt;</th></tr>\n",
       "</thead>\n",
       "<tbody>\n",
       "\t<tr><td>chr11</td><td>61748850</td><td>61748853</td><td>NA|chr11:61748831-61748850:+</td><td>123</td><td>+</td><td>chr11:61748831-61748850:+</td><td>chr11</td><td>34051731</td><td>34051732</td><td>+</td><td>CAPRIN1</td><td>ENSG00000135387</td><td>CTTTACCTCCACTGTAAGGC</td><td>GCTTTACCTCCACTGTAAGGC</td><td>negative_control</td><td>STT</td></tr>\n",
       "\t<tr><td>chr11</td><td>61748851</td><td>61748854</td><td>NA|chr11:61748832-61748851:+</td><td>167</td><td>+</td><td>chr11:61748832-61748851:+</td><td>chr11</td><td>34051731</td><td>34051732</td><td>+</td><td>CAPRIN1</td><td>ENSG00000135387</td><td>TTTACCTCCACTGTAAGGCA</td><td>GTTTACCTCCACTGTAAGGCA</td><td>negative_control</td><td>STT</td></tr>\n",
       "\t<tr><td>chr11</td><td>61748971</td><td>61748974</td><td>NA|chr11:61748975-61748994:-</td><td>134</td><td>-</td><td>chr11:61748975-61748994:-</td><td>chr11</td><td>34051731</td><td>34051732</td><td>+</td><td>CAPRIN1</td><td>ENSG00000135387</td><td>CTACCGAGCCACAGTGAGTG</td><td>GCTACCGAGCCACAGTGAGTG</td><td>negative_control</td><td>STT</td></tr>\n",
       "\t<tr><td>chr11</td><td>61749002</td><td>61749005</td><td>NA|chr11:61748983-61749002:+</td><td>  0</td><td>+</td><td>chr11:61748983-61749002:+</td><td>chr11</td><td>34051731</td><td>34051732</td><td>+</td><td>CAPRIN1</td><td>ENSG00000135387</td><td>GTGGCTCGGTAGAGAAGCCA</td><td>GTGGCTCGGTAGAGAAGCCA </td><td>negative_control</td><td>STT</td></tr>\n",
       "\t<tr><td>chr11</td><td>61749033</td><td>61749036</td><td>NA|chr11:61749014-61749033:+</td><td>473</td><td>+</td><td>chr11:61749014-61749033:+</td><td>chr11</td><td>34051731</td><td>34051732</td><td>+</td><td>CAPRIN1</td><td>ENSG00000135387</td><td>GAGGACTCATCTCCATTGAT</td><td>GAGGACTCATCTCCATTGAT </td><td>negative_control</td><td>STT</td></tr>\n",
       "\t<tr><td>chr11</td><td>61749038</td><td>61749041</td><td>NA|chr11:61749042-61749061:-</td><td>510</td><td>-</td><td>chr11:61749042-61749061:-</td><td>chr11</td><td>34051731</td><td>34051732</td><td>+</td><td>CAPRIN1</td><td>ENSG00000135387</td><td>ACTTGCATACAAGGACCTAG</td><td>GACTTGCATACAAGGACCTAG</td><td>negative_control</td><td>STT</td></tr>\n",
       "</tbody>\n",
       "</table>\n"
      ],
      "text/latex": [
       "A tibble: 6 × 17\n",
       "\\begin{tabular}{lllllllllllllllll}\n",
       " Chrom & Start & End & Name & SeqCounts & Strand & Guide\\_ID & Chrom\\_TSS & Start\\_TSS & End\\_TSS & Strand\\_Gene & Gene\\_Symbol & Gene\\_ENS & Guide\\_SpacerSeq & Guide\\_Seq & Guide\\_Type & Notes\\\\\n",
       " <chr> & <int> & <int> & <chr> & <dbl> & <chr> & <chr> & <chr> & <dbl> & <dbl> & <chr> & <chr> & <chr> & <chr> & <chr> & <chr> & <chr>\\\\\n",
       "\\hline\n",
       "\t chr11 & 61748850 & 61748853 & NA\\textbar{}chr11:61748831-61748850:+ & 123 & + & chr11:61748831-61748850:+ & chr11 & 34051731 & 34051732 & + & CAPRIN1 & ENSG00000135387 & CTTTACCTCCACTGTAAGGC & GCTTTACCTCCACTGTAAGGC & negative\\_control & STT\\\\\n",
       "\t chr11 & 61748851 & 61748854 & NA\\textbar{}chr11:61748832-61748851:+ & 167 & + & chr11:61748832-61748851:+ & chr11 & 34051731 & 34051732 & + & CAPRIN1 & ENSG00000135387 & TTTACCTCCACTGTAAGGCA & GTTTACCTCCACTGTAAGGCA & negative\\_control & STT\\\\\n",
       "\t chr11 & 61748971 & 61748974 & NA\\textbar{}chr11:61748975-61748994:- & 134 & - & chr11:61748975-61748994:- & chr11 & 34051731 & 34051732 & + & CAPRIN1 & ENSG00000135387 & CTACCGAGCCACAGTGAGTG & GCTACCGAGCCACAGTGAGTG & negative\\_control & STT\\\\\n",
       "\t chr11 & 61749002 & 61749005 & NA\\textbar{}chr11:61748983-61749002:+ &   0 & + & chr11:61748983-61749002:+ & chr11 & 34051731 & 34051732 & + & CAPRIN1 & ENSG00000135387 & GTGGCTCGGTAGAGAAGCCA & GTGGCTCGGTAGAGAAGCCA  & negative\\_control & STT\\\\\n",
       "\t chr11 & 61749033 & 61749036 & NA\\textbar{}chr11:61749014-61749033:+ & 473 & + & chr11:61749014-61749033:+ & chr11 & 34051731 & 34051732 & + & CAPRIN1 & ENSG00000135387 & GAGGACTCATCTCCATTGAT & GAGGACTCATCTCCATTGAT  & negative\\_control & STT\\\\\n",
       "\t chr11 & 61749038 & 61749041 & NA\\textbar{}chr11:61749042-61749061:- & 510 & - & chr11:61749042-61749061:- & chr11 & 34051731 & 34051732 & + & CAPRIN1 & ENSG00000135387 & ACTTGCATACAAGGACCTAG & GACTTGCATACAAGGACCTAG & negative\\_control & STT\\\\\n",
       "\\end{tabular}\n"
      ],
      "text/markdown": [
       "\n",
       "A tibble: 6 × 17\n",
       "\n",
       "| Chrom &lt;chr&gt; | Start &lt;int&gt; | End &lt;int&gt; | Name &lt;chr&gt; | SeqCounts &lt;dbl&gt; | Strand &lt;chr&gt; | Guide_ID &lt;chr&gt; | Chrom_TSS &lt;chr&gt; | Start_TSS &lt;dbl&gt; | End_TSS &lt;dbl&gt; | Strand_Gene &lt;chr&gt; | Gene_Symbol &lt;chr&gt; | Gene_ENS &lt;chr&gt; | Guide_SpacerSeq &lt;chr&gt; | Guide_Seq &lt;chr&gt; | Guide_Type &lt;chr&gt; | Notes &lt;chr&gt; |\n",
       "|---|---|---|---|---|---|---|---|---|---|---|---|---|---|---|---|---|\n",
       "| chr11 | 61748850 | 61748853 | NA|chr11:61748831-61748850:+ | 123 | + | chr11:61748831-61748850:+ | chr11 | 34051731 | 34051732 | + | CAPRIN1 | ENSG00000135387 | CTTTACCTCCACTGTAAGGC | GCTTTACCTCCACTGTAAGGC | negative_control | STT |\n",
       "| chr11 | 61748851 | 61748854 | NA|chr11:61748832-61748851:+ | 167 | + | chr11:61748832-61748851:+ | chr11 | 34051731 | 34051732 | + | CAPRIN1 | ENSG00000135387 | TTTACCTCCACTGTAAGGCA | GTTTACCTCCACTGTAAGGCA | negative_control | STT |\n",
       "| chr11 | 61748971 | 61748974 | NA|chr11:61748975-61748994:- | 134 | - | chr11:61748975-61748994:- | chr11 | 34051731 | 34051732 | + | CAPRIN1 | ENSG00000135387 | CTACCGAGCCACAGTGAGTG | GCTACCGAGCCACAGTGAGTG | negative_control | STT |\n",
       "| chr11 | 61749002 | 61749005 | NA|chr11:61748983-61749002:+ |   0 | + | chr11:61748983-61749002:+ | chr11 | 34051731 | 34051732 | + | CAPRIN1 | ENSG00000135387 | GTGGCTCGGTAGAGAAGCCA | GTGGCTCGGTAGAGAAGCCA  | negative_control | STT |\n",
       "| chr11 | 61749033 | 61749036 | NA|chr11:61749014-61749033:+ | 473 | + | chr11:61749014-61749033:+ | chr11 | 34051731 | 34051732 | + | CAPRIN1 | ENSG00000135387 | GAGGACTCATCTCCATTGAT | GAGGACTCATCTCCATTGAT  | negative_control | STT |\n",
       "| chr11 | 61749038 | 61749041 | NA|chr11:61749042-61749061:- | 510 | - | chr11:61749042-61749061:- | chr11 | 34051731 | 34051732 | + | CAPRIN1 | ENSG00000135387 | ACTTGCATACAAGGACCTAG | GACTTGCATACAAGGACCTAG | negative_control | STT |\n",
       "\n"
      ],
      "text/plain": [
       "  Chrom Start    End      Name                         SeqCounts Strand\n",
       "1 chr11 61748850 61748853 NA|chr11:61748831-61748850:+ 123       +     \n",
       "2 chr11 61748851 61748854 NA|chr11:61748832-61748851:+ 167       +     \n",
       "3 chr11 61748971 61748974 NA|chr11:61748975-61748994:- 134       -     \n",
       "4 chr11 61749002 61749005 NA|chr11:61748983-61749002:+   0       +     \n",
       "5 chr11 61749033 61749036 NA|chr11:61749014-61749033:+ 473       +     \n",
       "6 chr11 61749038 61749041 NA|chr11:61749042-61749061:- 510       -     \n",
       "  Guide_ID                  Chrom_TSS Start_TSS End_TSS  Strand_Gene\n",
       "1 chr11:61748831-61748850:+ chr11     34051731  34051732 +          \n",
       "2 chr11:61748832-61748851:+ chr11     34051731  34051732 +          \n",
       "3 chr11:61748975-61748994:- chr11     34051731  34051732 +          \n",
       "4 chr11:61748983-61749002:+ chr11     34051731  34051732 +          \n",
       "5 chr11:61749014-61749033:+ chr11     34051731  34051732 +          \n",
       "6 chr11:61749042-61749061:- chr11     34051731  34051732 +          \n",
       "  Gene_Symbol Gene_ENS        Guide_SpacerSeq      Guide_Seq            \n",
       "1 CAPRIN1     ENSG00000135387 CTTTACCTCCACTGTAAGGC GCTTTACCTCCACTGTAAGGC\n",
       "2 CAPRIN1     ENSG00000135387 TTTACCTCCACTGTAAGGCA GTTTACCTCCACTGTAAGGCA\n",
       "3 CAPRIN1     ENSG00000135387 CTACCGAGCCACAGTGAGTG GCTACCGAGCCACAGTGAGTG\n",
       "4 CAPRIN1     ENSG00000135387 GTGGCTCGGTAGAGAAGCCA GTGGCTCGGTAGAGAAGCCA \n",
       "5 CAPRIN1     ENSG00000135387 GAGGACTCATCTCCATTGAT GAGGACTCATCTCCATTGAT \n",
       "6 CAPRIN1     ENSG00000135387 ACTTGCATACAAGGACCTAG GACTTGCATACAAGGACCTAG\n",
       "  Guide_Type       Notes\n",
       "1 negative_control STT  \n",
       "2 negative_control STT  \n",
       "3 negative_control STT  \n",
       "4 negative_control STT  \n",
       "5 negative_control STT  \n",
       "6 negative_control STT  "
      ]
     },
     "metadata": {},
     "output_type": "display_data"
    }
   ],
   "source": [
    "### set file path\n",
    "fdiry = file.path(FD_RES, \"source\", \"CRISPRi_FlowFISH\", \"track_bedgraph\")\n",
    "fname = paste(gene, \"LS_exp_r1.tsv.gz\", sep=\"_\")\n",
    "fpath = file.path(fdiry, fname)\n",
    "\n",
    "### read data\n",
    "cnames = c(\"Chrom\", \"Start\", \"End\", \"Name\", \"SeqCounts\", \"Strand\", \"Guide_ID\", \n",
    "       \"Chrom_TSS\", \"Start_TSS\", \"End_TSS\", \"Strand_Gene\", \n",
    "       \"Gene_Symbol\", \n",
    "       \"Gene_ENS\", \n",
    "       \"Guide_SpacerSeq\",\n",
    "       \"Guide_Seq\",\n",
    "       \"Guide_Type\",\n",
    "       \"Notes\"\n",
    "      )\n",
    "ctypes = cols(\n",
    "    \"Chrom\" = col_character(),\n",
    "    \"Start\" = col_integer(),\n",
    "    \"End\"   = col_integer()\n",
    ")\n",
    "dat = read_tsv(fpath, col_names = cnames, col_types = ctypes, show_col_types = FALSE)\n",
    "\n",
    "### assign and show\n",
    "dat_crispr_info_LS = dat\n",
    "print(dim(dat))\n",
    "head(dat)"
   ]
  },
  {
   "cell_type": "markdown",
   "metadata": {},
   "source": [
    "**Log2FC of guides**"
   ]
  },
  {
   "cell_type": "code",
   "execution_count": 54,
   "metadata": {},
   "outputs": [
    {
     "name": "stdout",
     "output_type": "stream",
     "text": [
      "[1] 57495     5\n"
     ]
    },
    {
     "data": {
      "text/html": [
       "<table class=\"dataframe\">\n",
       "<caption>A tibble: 6 × 5</caption>\n",
       "<thead>\n",
       "\t<tr><th scope=col>Chrom</th><th scope=col>Start</th><th scope=col>End</th><th scope=col>Name</th><th scope=col>Score</th></tr>\n",
       "\t<tr><th scope=col>&lt;chr&gt;</th><th scope=col>&lt;int&gt;</th><th scope=col>&lt;int&gt;</th><th scope=col>&lt;chr&gt;</th><th scope=col>&lt;dbl&gt;</th></tr>\n",
       "</thead>\n",
       "<tbody>\n",
       "\t<tr><td>chr10</td><td>100694991</td><td>100694992</td><td>id-1</td><td> 0.436247</td></tr>\n",
       "\t<tr><td>chr10</td><td>100695172</td><td>100695173</td><td>id-2</td><td>-1.057770</td></tr>\n",
       "\t<tr><td>chr10</td><td>100695184</td><td>100695185</td><td>id-3</td><td> 1.242010</td></tr>\n",
       "\t<tr><td>chr10</td><td>100695209</td><td>100695210</td><td>id-4</td><td>-0.471250</td></tr>\n",
       "\t<tr><td>chr10</td><td>100695328</td><td>100695329</td><td>id-5</td><td>-1.293510</td></tr>\n",
       "\t<tr><td>chr10</td><td>100695346</td><td>100695347</td><td>id-6</td><td> 0.928888</td></tr>\n",
       "</tbody>\n",
       "</table>\n"
      ],
      "text/latex": [
       "A tibble: 6 × 5\n",
       "\\begin{tabular}{lllll}\n",
       " Chrom & Start & End & Name & Score\\\\\n",
       " <chr> & <int> & <int> & <chr> & <dbl>\\\\\n",
       "\\hline\n",
       "\t chr10 & 100694991 & 100694992 & id-1 &  0.436247\\\\\n",
       "\t chr10 & 100695172 & 100695173 & id-2 & -1.057770\\\\\n",
       "\t chr10 & 100695184 & 100695185 & id-3 &  1.242010\\\\\n",
       "\t chr10 & 100695209 & 100695210 & id-4 & -0.471250\\\\\n",
       "\t chr10 & 100695328 & 100695329 & id-5 & -1.293510\\\\\n",
       "\t chr10 & 100695346 & 100695347 & id-6 &  0.928888\\\\\n",
       "\\end{tabular}\n"
      ],
      "text/markdown": [
       "\n",
       "A tibble: 6 × 5\n",
       "\n",
       "| Chrom &lt;chr&gt; | Start &lt;int&gt; | End &lt;int&gt; | Name &lt;chr&gt; | Score &lt;dbl&gt; |\n",
       "|---|---|---|---|---|\n",
       "| chr10 | 100694991 | 100694992 | id-1 |  0.436247 |\n",
       "| chr10 | 100695172 | 100695173 | id-2 | -1.057770 |\n",
       "| chr10 | 100695184 | 100695185 | id-3 |  1.242010 |\n",
       "| chr10 | 100695209 | 100695210 | id-4 | -0.471250 |\n",
       "| chr10 | 100695328 | 100695329 | id-5 | -1.293510 |\n",
       "| chr10 | 100695346 | 100695347 | id-6 |  0.928888 |\n",
       "\n"
      ],
      "text/plain": [
       "  Chrom Start     End       Name Score    \n",
       "1 chr10 100694991 100694992 id-1  0.436247\n",
       "2 chr10 100695172 100695173 id-2 -1.057770\n",
       "3 chr10 100695184 100695185 id-3  1.242010\n",
       "4 chr10 100695209 100695210 id-4 -0.471250\n",
       "5 chr10 100695328 100695329 id-5 -1.293510\n",
       "6 chr10 100695346 100695347 id-6  0.928888"
      ]
     },
     "metadata": {},
     "output_type": "display_data"
    }
   ],
   "source": [
    "fdiry = file.path(FD_RES, \"results\", \"CRISPRi_FlowFISH\", \"coverage\")\n",
    "fname = paste(gene, \"HCRFF_rAVG.log2FC_2.bed\", sep=\"_\")\n",
    "fpath = file.path(fdiry, fname)\n",
    "\n",
    "cnames = c(\"Chrom\", \"Start\", \"End\", \"Name\", \"Score\")\n",
    "ctypes = cols(\n",
    "    \"Chrom\" = col_character(),\n",
    "    \"Start\" = col_integer(),\n",
    "    \"End\"   = col_integer(),\n",
    "    \"Name\"  = col_character(),\n",
    "    \"Score\" = col_double()\n",
    ")\n",
    "ctypes = cols(\n",
    "    \"Chrom\" = col_character(),\n",
    "    \"Start\" = col_integer(),\n",
    "    \"End\"   = col_integer()\n",
    ")\n",
    "dat = read_tsv(fpath, col_names = cnames, col_types = ctypes, show_col_types = FALSE)\n",
    "\n",
    "dat_crispr_log2fc = dat\n",
    "print(dim(dat))\n",
    "head(dat)"
   ]
  },
  {
   "cell_type": "markdown",
   "metadata": {},
   "source": [
    "## Exploring guide attributes and scores"
   ]
  },
  {
   "cell_type": "code",
   "execution_count": 55,
   "metadata": {},
   "outputs": [
    {
     "name": "stdout",
     "output_type": "stream",
     "text": [
      "[1] 58500     5\n"
     ]
    },
    {
     "data": {
      "text/html": [
       "<table class=\"dataframe\">\n",
       "<caption>A tibble: 6 × 5</caption>\n",
       "<thead>\n",
       "\t<tr><th scope=col>Chrom</th><th scope=col>Start</th><th scope=col>End</th><th scope=col>Strand</th><th scope=col>Guide_Type</th></tr>\n",
       "\t<tr><th scope=col>&lt;chr&gt;</th><th scope=col>&lt;int&gt;</th><th scope=col>&lt;int&gt;</th><th scope=col>&lt;chr&gt;</th><th scope=col>&lt;chr&gt;</th></tr>\n",
       "</thead>\n",
       "<tbody>\n",
       "\t<tr><td>chr11</td><td>61748850</td><td>61748853</td><td>+</td><td>negative_control</td></tr>\n",
       "\t<tr><td>chr11</td><td>61748851</td><td>61748854</td><td>+</td><td>negative_control</td></tr>\n",
       "\t<tr><td>chr11</td><td>61748971</td><td>61748974</td><td>-</td><td>negative_control</td></tr>\n",
       "\t<tr><td>chr11</td><td>61749002</td><td>61749005</td><td>+</td><td>negative_control</td></tr>\n",
       "\t<tr><td>chr11</td><td>61749033</td><td>61749036</td><td>+</td><td>negative_control</td></tr>\n",
       "\t<tr><td>chr11</td><td>61749038</td><td>61749041</td><td>-</td><td>negative_control</td></tr>\n",
       "</tbody>\n",
       "</table>\n"
      ],
      "text/latex": [
       "A tibble: 6 × 5\n",
       "\\begin{tabular}{lllll}\n",
       " Chrom & Start & End & Strand & Guide\\_Type\\\\\n",
       " <chr> & <int> & <int> & <chr> & <chr>\\\\\n",
       "\\hline\n",
       "\t chr11 & 61748850 & 61748853 & + & negative\\_control\\\\\n",
       "\t chr11 & 61748851 & 61748854 & + & negative\\_control\\\\\n",
       "\t chr11 & 61748971 & 61748974 & - & negative\\_control\\\\\n",
       "\t chr11 & 61749002 & 61749005 & + & negative\\_control\\\\\n",
       "\t chr11 & 61749033 & 61749036 & + & negative\\_control\\\\\n",
       "\t chr11 & 61749038 & 61749041 & - & negative\\_control\\\\\n",
       "\\end{tabular}\n"
      ],
      "text/markdown": [
       "\n",
       "A tibble: 6 × 5\n",
       "\n",
       "| Chrom &lt;chr&gt; | Start &lt;int&gt; | End &lt;int&gt; | Strand &lt;chr&gt; | Guide_Type &lt;chr&gt; |\n",
       "|---|---|---|---|---|\n",
       "| chr11 | 61748850 | 61748853 | + | negative_control |\n",
       "| chr11 | 61748851 | 61748854 | + | negative_control |\n",
       "| chr11 | 61748971 | 61748974 | - | negative_control |\n",
       "| chr11 | 61749002 | 61749005 | + | negative_control |\n",
       "| chr11 | 61749033 | 61749036 | + | negative_control |\n",
       "| chr11 | 61749038 | 61749041 | - | negative_control |\n",
       "\n"
      ],
      "text/plain": [
       "  Chrom Start    End      Strand Guide_Type      \n",
       "1 chr11 61748850 61748853 +      negative_control\n",
       "2 chr11 61748851 61748854 +      negative_control\n",
       "3 chr11 61748971 61748974 -      negative_control\n",
       "4 chr11 61749002 61749005 +      negative_control\n",
       "5 chr11 61749033 61749036 +      negative_control\n",
       "6 chr11 61749038 61749041 -      negative_control"
      ]
     },
     "metadata": {},
     "output_type": "display_data"
    }
   ],
   "source": [
    "dat = dat_crispr_info_HS\n",
    "dat = dat %>% dplyr::select(Chrom, Start, End, Strand, Guide_Type) %>% na.omit\n",
    "\n",
    "dat_crispr_info = dat\n",
    "print(dim(dat))\n",
    "head(dat)"
   ]
  },
  {
   "cell_type": "code",
   "execution_count": 56,
   "metadata": {},
   "outputs": [
    {
     "data": {
      "text/plain": [
       "                  \n",
       "                   chr10 chr11  chr5\n",
       "  negative_control  1500  3000  1500\n",
       "  targeting            0 52500     0"
      ]
     },
     "metadata": {},
     "output_type": "display_data"
    }
   ],
   "source": [
    "dat = dat_crispr_info\n",
    "table(dat$Guide_Type, dat$Chrom)"
   ]
  },
  {
   "cell_type": "code",
   "execution_count": 57,
   "metadata": {},
   "outputs": [
    {
     "data": {
      "text/plain": [
       "\n",
       "chr10 chr11  chr5 \n",
       " 1500 55500  1500 "
      ]
     },
     "metadata": {},
     "output_type": "display_data"
    }
   ],
   "source": [
    "dat = dat_crispr_info\n",
    "table(dat$Chrom)"
   ]
  },
  {
   "cell_type": "code",
   "execution_count": 58,
   "metadata": {},
   "outputs": [
    {
     "data": {
      "text/plain": [
       "\n",
       "chr10 chr11  chr5 \n",
       " 1494 54529  1472 "
      ]
     },
     "metadata": {},
     "output_type": "display_data"
    }
   ],
   "source": [
    "dat = dat_crispr_log2fc\n",
    "table(dat$Chrom)"
   ]
  },
  {
   "cell_type": "markdown",
   "metadata": {},
   "source": [
    "## Matching guides between tables"
   ]
  },
  {
   "cell_type": "code",
   "execution_count": 91,
   "metadata": {},
   "outputs": [
    {
     "data": {
      "text/html": [
       "<table class=\"dataframe\">\n",
       "<caption>A tibble: 6 × 5</caption>\n",
       "<thead>\n",
       "\t<tr><th scope=col>Chrom</th><th scope=col>Start</th><th scope=col>End</th><th scope=col>Name</th><th scope=col>Score</th></tr>\n",
       "\t<tr><th scope=col>&lt;chr&gt;</th><th scope=col>&lt;int&gt;</th><th scope=col>&lt;int&gt;</th><th scope=col>&lt;chr&gt;</th><th scope=col>&lt;dbl&gt;</th></tr>\n",
       "</thead>\n",
       "<tbody>\n",
       "\t<tr><td>chr10</td><td>100694991</td><td>100694992</td><td>id-1</td><td> 0.436247</td></tr>\n",
       "\t<tr><td>chr10</td><td>100695172</td><td>100695173</td><td>id-2</td><td>-1.057770</td></tr>\n",
       "\t<tr><td>chr10</td><td>100695184</td><td>100695185</td><td>id-3</td><td> 1.242010</td></tr>\n",
       "\t<tr><td>chr10</td><td>100695209</td><td>100695210</td><td>id-4</td><td>-0.471250</td></tr>\n",
       "\t<tr><td>chr10</td><td>100695328</td><td>100695329</td><td>id-5</td><td>-1.293510</td></tr>\n",
       "\t<tr><td>chr10</td><td>100695346</td><td>100695347</td><td>id-6</td><td> 0.928888</td></tr>\n",
       "</tbody>\n",
       "</table>\n"
      ],
      "text/latex": [
       "A tibble: 6 × 5\n",
       "\\begin{tabular}{lllll}\n",
       " Chrom & Start & End & Name & Score\\\\\n",
       " <chr> & <int> & <int> & <chr> & <dbl>\\\\\n",
       "\\hline\n",
       "\t chr10 & 100694991 & 100694992 & id-1 &  0.436247\\\\\n",
       "\t chr10 & 100695172 & 100695173 & id-2 & -1.057770\\\\\n",
       "\t chr10 & 100695184 & 100695185 & id-3 &  1.242010\\\\\n",
       "\t chr10 & 100695209 & 100695210 & id-4 & -0.471250\\\\\n",
       "\t chr10 & 100695328 & 100695329 & id-5 & -1.293510\\\\\n",
       "\t chr10 & 100695346 & 100695347 & id-6 &  0.928888\\\\\n",
       "\\end{tabular}\n"
      ],
      "text/markdown": [
       "\n",
       "A tibble: 6 × 5\n",
       "\n",
       "| Chrom &lt;chr&gt; | Start &lt;int&gt; | End &lt;int&gt; | Name &lt;chr&gt; | Score &lt;dbl&gt; |\n",
       "|---|---|---|---|---|\n",
       "| chr10 | 100694991 | 100694992 | id-1 |  0.436247 |\n",
       "| chr10 | 100695172 | 100695173 | id-2 | -1.057770 |\n",
       "| chr10 | 100695184 | 100695185 | id-3 |  1.242010 |\n",
       "| chr10 | 100695209 | 100695210 | id-4 | -0.471250 |\n",
       "| chr10 | 100695328 | 100695329 | id-5 | -1.293510 |\n",
       "| chr10 | 100695346 | 100695347 | id-6 |  0.928888 |\n",
       "\n"
      ],
      "text/plain": [
       "  Chrom Start     End       Name Score    \n",
       "1 chr10 100694991 100694992 id-1  0.436247\n",
       "2 chr10 100695172 100695173 id-2 -1.057770\n",
       "3 chr10 100695184 100695185 id-3  1.242010\n",
       "4 chr10 100695209 100695210 id-4 -0.471250\n",
       "5 chr10 100695328 100695329 id-5 -1.293510\n",
       "6 chr10 100695346 100695347 id-6  0.928888"
      ]
     },
     "metadata": {},
     "output_type": "display_data"
    }
   ],
   "source": [
    "dat = dat_crispr_log2fc \n",
    "dat = dat %>% \n",
    "    dplyr::filter(Chrom == \"chr10\") %>% \n",
    "    dplyr::arrange(Chrom, Start, End)\n",
    "\n",
    "dat_score = dat\n",
    "head(dat)"
   ]
  },
  {
   "cell_type": "code",
   "execution_count": 95,
   "metadata": {},
   "outputs": [
    {
     "data": {
      "text/html": [
       "<table class=\"dataframe\">\n",
       "<caption>A tibble: 6 × 4</caption>\n",
       "<thead>\n",
       "\t<tr><th scope=col>Chrom</th><th scope=col>Start</th><th scope=col>Strand</th><th scope=col>Guide_Type</th></tr>\n",
       "\t<tr><th scope=col>&lt;chr&gt;</th><th scope=col>&lt;int&gt;</th><th scope=col>&lt;chr&gt;</th><th scope=col>&lt;chr&gt;</th></tr>\n",
       "</thead>\n",
       "<tbody>\n",
       "\t<tr><td>chr10</td><td>100694991</td><td>-</td><td>negative_control</td></tr>\n",
       "\t<tr><td>chr10</td><td>100695172</td><td>+</td><td>negative_control</td></tr>\n",
       "\t<tr><td>chr10</td><td>100695184</td><td>-</td><td>negative_control</td></tr>\n",
       "\t<tr><td>chr10</td><td>100695209</td><td>+</td><td>negative_control</td></tr>\n",
       "\t<tr><td>chr10</td><td>100695328</td><td>-</td><td>negative_control</td></tr>\n",
       "\t<tr><td>chr10</td><td>100695346</td><td>-</td><td>negative_control</td></tr>\n",
       "</tbody>\n",
       "</table>\n"
      ],
      "text/latex": [
       "A tibble: 6 × 4\n",
       "\\begin{tabular}{llll}\n",
       " Chrom & Start & Strand & Guide\\_Type\\\\\n",
       " <chr> & <int> & <chr> & <chr>\\\\\n",
       "\\hline\n",
       "\t chr10 & 100694991 & - & negative\\_control\\\\\n",
       "\t chr10 & 100695172 & + & negative\\_control\\\\\n",
       "\t chr10 & 100695184 & - & negative\\_control\\\\\n",
       "\t chr10 & 100695209 & + & negative\\_control\\\\\n",
       "\t chr10 & 100695328 & - & negative\\_control\\\\\n",
       "\t chr10 & 100695346 & - & negative\\_control\\\\\n",
       "\\end{tabular}\n"
      ],
      "text/markdown": [
       "\n",
       "A tibble: 6 × 4\n",
       "\n",
       "| Chrom &lt;chr&gt; | Start &lt;int&gt; | Strand &lt;chr&gt; | Guide_Type &lt;chr&gt; |\n",
       "|---|---|---|---|\n",
       "| chr10 | 100694991 | - | negative_control |\n",
       "| chr10 | 100695172 | + | negative_control |\n",
       "| chr10 | 100695184 | - | negative_control |\n",
       "| chr10 | 100695209 | + | negative_control |\n",
       "| chr10 | 100695328 | - | negative_control |\n",
       "| chr10 | 100695346 | - | negative_control |\n",
       "\n"
      ],
      "text/plain": [
       "  Chrom Start     Strand Guide_Type      \n",
       "1 chr10 100694991 -      negative_control\n",
       "2 chr10 100695172 +      negative_control\n",
       "3 chr10 100695184 -      negative_control\n",
       "4 chr10 100695209 +      negative_control\n",
       "5 chr10 100695328 -      negative_control\n",
       "6 chr10 100695346 -      negative_control"
      ]
     },
     "metadata": {},
     "output_type": "display_data"
    }
   ],
   "source": [
    "dat = dat_crispr_info  \n",
    "dat = dat %>% \n",
    "    dplyr::filter(Chrom == \"chr10\") %>% \n",
    "    dplyr::arrange(Chrom, Start, End) %>%\n",
    "    dplyr::mutate(\n",
    "        Loc = ifelse(\n",
    "            Strand == \"+\", \n",
    "            Start - 1,\n",
    "            Start + 1\n",
    "        )\n",
    "    ) %>%\n",
    "    dplyr::mutate(Loc = as.integer(Loc)) %>%\n",
    "    dplyr::select(Chrom, Loc, Strand, Guide_Type) %>%\n",
    "    dplyr::rename(Start = Loc)\n",
    "\n",
    "dat_info = dat\n",
    "head(dat)"
   ]
  },
  {
   "cell_type": "code",
   "execution_count": 96,
   "metadata": {},
   "outputs": [
    {
     "name": "stdout",
     "output_type": "stream",
     "text": [
      "[1] TRUE\n",
      "[1] TRUE\n",
      "[1] TRUE\n",
      "[1] TRUE\n",
      "[1] TRUE\n",
      "[1] FALSE\n"
     ]
    }
   ],
   "source": [
    "x = dat_info$Start\n",
    "y = dat_score$Start\n",
    "\n",
    "n = 5;   print(all(x[1:n] == y[1:n]))\n",
    "n = 100; print(all(x[1:n] == y[1:n]))\n",
    "n = 200; print(all(x[1:n] == y[1:n]))\n",
    "n = 300; print(all(x[1:n] == y[1:n]))\n",
    "n = 340; print(all(x[1:n] == y[1:n]))\n",
    "n = 345; print(all(x[1:n] == y[1:n]))"
   ]
  },
  {
   "cell_type": "code",
   "execution_count": 97,
   "metadata": {},
   "outputs": [
    {
     "name": "stderr",
     "output_type": "stream",
     "text": [
      "Warning message in dplyr::left_join(dat_score, dat_info, by = c(\"Chrom\", \"Start\")):\n",
      "“\u001b[1m\u001b[22mEach row in `x` is expected to match at most 1 row in `y`.\n",
      "\u001b[36mℹ\u001b[39m Row 469 of `x` matches multiple rows.\n",
      "\u001b[36mℹ\u001b[39m If multiple matches are expected, set `multiple = \"all\"` to silence this warning.”\n"
     ]
    }
   ],
   "source": [
    "dat = dplyr::left_join(\n",
    "    dat_score, \n",
    "    dat_info, \n",
    "    by=c(\"Chrom\", \"Start\"))"
   ]
  },
  {
   "cell_type": "markdown",
   "metadata": {},
   "source": [
    "Maybe it is better to do it by filtering the guides"
   ]
  },
  {
   "cell_type": "markdown",
   "metadata": {},
   "source": [
    "## Filter guides in track"
   ]
  },
  {
   "cell_type": "code",
   "execution_count": 104,
   "metadata": {},
   "outputs": [
    {
     "data": {
      "text/html": [
       "<table class=\"dataframe\">\n",
       "<caption>A tibble: 6 × 6</caption>\n",
       "<thead>\n",
       "\t<tr><th scope=col>Chrom</th><th scope=col>Start</th><th scope=col>End</th><th scope=col>Name</th><th scope=col>Score</th><th scope=col>Guide_Loc</th></tr>\n",
       "\t<tr><th scope=col>&lt;chr&gt;</th><th scope=col>&lt;int&gt;</th><th scope=col>&lt;int&gt;</th><th scope=col>&lt;chr&gt;</th><th scope=col>&lt;dbl&gt;</th><th scope=col>&lt;chr&gt;</th></tr>\n",
       "</thead>\n",
       "<tbody>\n",
       "\t<tr><td>chr10</td><td>100694991</td><td>100694992</td><td>id-1</td><td> 0.436247</td><td>chr10_100694991</td></tr>\n",
       "\t<tr><td>chr10</td><td>100695172</td><td>100695173</td><td>id-2</td><td>-1.057770</td><td>chr10_100695172</td></tr>\n",
       "\t<tr><td>chr10</td><td>100695184</td><td>100695185</td><td>id-3</td><td> 1.242010</td><td>chr10_100695184</td></tr>\n",
       "\t<tr><td>chr10</td><td>100695209</td><td>100695210</td><td>id-4</td><td>-0.471250</td><td>chr10_100695209</td></tr>\n",
       "\t<tr><td>chr10</td><td>100695328</td><td>100695329</td><td>id-5</td><td>-1.293510</td><td>chr10_100695328</td></tr>\n",
       "\t<tr><td>chr10</td><td>100695346</td><td>100695347</td><td>id-6</td><td> 0.928888</td><td>chr10_100695346</td></tr>\n",
       "</tbody>\n",
       "</table>\n"
      ],
      "text/latex": [
       "A tibble: 6 × 6\n",
       "\\begin{tabular}{llllll}\n",
       " Chrom & Start & End & Name & Score & Guide\\_Loc\\\\\n",
       " <chr> & <int> & <int> & <chr> & <dbl> & <chr>\\\\\n",
       "\\hline\n",
       "\t chr10 & 100694991 & 100694992 & id-1 &  0.436247 & chr10\\_100694991\\\\\n",
       "\t chr10 & 100695172 & 100695173 & id-2 & -1.057770 & chr10\\_100695172\\\\\n",
       "\t chr10 & 100695184 & 100695185 & id-3 &  1.242010 & chr10\\_100695184\\\\\n",
       "\t chr10 & 100695209 & 100695210 & id-4 & -0.471250 & chr10\\_100695209\\\\\n",
       "\t chr10 & 100695328 & 100695329 & id-5 & -1.293510 & chr10\\_100695328\\\\\n",
       "\t chr10 & 100695346 & 100695347 & id-6 &  0.928888 & chr10\\_100695346\\\\\n",
       "\\end{tabular}\n"
      ],
      "text/markdown": [
       "\n",
       "A tibble: 6 × 6\n",
       "\n",
       "| Chrom &lt;chr&gt; | Start &lt;int&gt; | End &lt;int&gt; | Name &lt;chr&gt; | Score &lt;dbl&gt; | Guide_Loc &lt;chr&gt; |\n",
       "|---|---|---|---|---|---|\n",
       "| chr10 | 100694991 | 100694992 | id-1 |  0.436247 | chr10_100694991 |\n",
       "| chr10 | 100695172 | 100695173 | id-2 | -1.057770 | chr10_100695172 |\n",
       "| chr10 | 100695184 | 100695185 | id-3 |  1.242010 | chr10_100695184 |\n",
       "| chr10 | 100695209 | 100695210 | id-4 | -0.471250 | chr10_100695209 |\n",
       "| chr10 | 100695328 | 100695329 | id-5 | -1.293510 | chr10_100695328 |\n",
       "| chr10 | 100695346 | 100695347 | id-6 |  0.928888 | chr10_100695346 |\n",
       "\n"
      ],
      "text/plain": [
       "  Chrom Start     End       Name Score     Guide_Loc      \n",
       "1 chr10 100694991 100694992 id-1  0.436247 chr10_100694991\n",
       "2 chr10 100695172 100695173 id-2 -1.057770 chr10_100695172\n",
       "3 chr10 100695184 100695185 id-3  1.242010 chr10_100695184\n",
       "4 chr10 100695209 100695210 id-4 -0.471250 chr10_100695209\n",
       "5 chr10 100695328 100695329 id-5 -1.293510 chr10_100695328\n",
       "6 chr10 100695346 100695347 id-6  0.928888 chr10_100695346"
      ]
     },
     "metadata": {},
     "output_type": "display_data"
    }
   ],
   "source": [
    "dat = dat_crispr_log2fc \n",
    "dat = dat %>%\n",
    "    dplyr::mutate(Guide_Loc  = paste(Chrom, as.integer(Start), sep = \"_\"))\n",
    "\n",
    "dat_score = dat\n",
    "head(dat)"
   ]
  },
  {
   "cell_type": "code",
   "execution_count": 101,
   "metadata": {},
   "outputs": [
    {
     "data": {
      "text/html": [
       "<table class=\"dataframe\">\n",
       "<caption>A tibble: 6 × 7</caption>\n",
       "<thead>\n",
       "\t<tr><th scope=col>Chrom</th><th scope=col>Start</th><th scope=col>End</th><th scope=col>Strand</th><th scope=col>Guide_Type</th><th scope=col>Loc</th><th scope=col>Guide_Loc</th></tr>\n",
       "\t<tr><th scope=col>&lt;chr&gt;</th><th scope=col>&lt;int&gt;</th><th scope=col>&lt;int&gt;</th><th scope=col>&lt;chr&gt;</th><th scope=col>&lt;chr&gt;</th><th scope=col>&lt;dbl&gt;</th><th scope=col>&lt;chr&gt;</th></tr>\n",
       "</thead>\n",
       "<tbody>\n",
       "\t<tr><td>chr11</td><td>33064195</td><td>33064198</td><td>-</td><td>targeting</td><td>33064196</td><td>chr11_33064196</td></tr>\n",
       "\t<tr><td>chr11</td><td>33064218</td><td>33064221</td><td>+</td><td>targeting</td><td>33064217</td><td>chr11_33064217</td></tr>\n",
       "\t<tr><td>chr11</td><td>33064231</td><td>33064234</td><td>+</td><td>targeting</td><td>33064230</td><td>chr11_33064230</td></tr>\n",
       "\t<tr><td>chr11</td><td>33064228</td><td>33064231</td><td>-</td><td>targeting</td><td>33064229</td><td>chr11_33064229</td></tr>\n",
       "\t<tr><td>chr11</td><td>33064265</td><td>33064268</td><td>+</td><td>targeting</td><td>33064264</td><td>chr11_33064264</td></tr>\n",
       "\t<tr><td>chr11</td><td>33064257</td><td>33064260</td><td>-</td><td>targeting</td><td>33064258</td><td>chr11_33064258</td></tr>\n",
       "</tbody>\n",
       "</table>\n"
      ],
      "text/latex": [
       "A tibble: 6 × 7\n",
       "\\begin{tabular}{lllllll}\n",
       " Chrom & Start & End & Strand & Guide\\_Type & Loc & Guide\\_Loc\\\\\n",
       " <chr> & <int> & <int> & <chr> & <chr> & <dbl> & <chr>\\\\\n",
       "\\hline\n",
       "\t chr11 & 33064195 & 33064198 & - & targeting & 33064196 & chr11\\_33064196\\\\\n",
       "\t chr11 & 33064218 & 33064221 & + & targeting & 33064217 & chr11\\_33064217\\\\\n",
       "\t chr11 & 33064231 & 33064234 & + & targeting & 33064230 & chr11\\_33064230\\\\\n",
       "\t chr11 & 33064228 & 33064231 & - & targeting & 33064229 & chr11\\_33064229\\\\\n",
       "\t chr11 & 33064265 & 33064268 & + & targeting & 33064264 & chr11\\_33064264\\\\\n",
       "\t chr11 & 33064257 & 33064260 & - & targeting & 33064258 & chr11\\_33064258\\\\\n",
       "\\end{tabular}\n"
      ],
      "text/markdown": [
       "\n",
       "A tibble: 6 × 7\n",
       "\n",
       "| Chrom &lt;chr&gt; | Start &lt;int&gt; | End &lt;int&gt; | Strand &lt;chr&gt; | Guide_Type &lt;chr&gt; | Loc &lt;dbl&gt; | Guide_Loc &lt;chr&gt; |\n",
       "|---|---|---|---|---|---|---|\n",
       "| chr11 | 33064195 | 33064198 | - | targeting | 33064196 | chr11_33064196 |\n",
       "| chr11 | 33064218 | 33064221 | + | targeting | 33064217 | chr11_33064217 |\n",
       "| chr11 | 33064231 | 33064234 | + | targeting | 33064230 | chr11_33064230 |\n",
       "| chr11 | 33064228 | 33064231 | - | targeting | 33064229 | chr11_33064229 |\n",
       "| chr11 | 33064265 | 33064268 | + | targeting | 33064264 | chr11_33064264 |\n",
       "| chr11 | 33064257 | 33064260 | - | targeting | 33064258 | chr11_33064258 |\n",
       "\n"
      ],
      "text/plain": [
       "  Chrom Start    End      Strand Guide_Type Loc      Guide_Loc     \n",
       "1 chr11 33064195 33064198 -      targeting  33064196 chr11_33064196\n",
       "2 chr11 33064218 33064221 +      targeting  33064217 chr11_33064217\n",
       "3 chr11 33064231 33064234 +      targeting  33064230 chr11_33064230\n",
       "4 chr11 33064228 33064231 -      targeting  33064229 chr11_33064229\n",
       "5 chr11 33064265 33064268 +      targeting  33064264 chr11_33064264\n",
       "6 chr11 33064257 33064260 -      targeting  33064258 chr11_33064258"
      ]
     },
     "metadata": {},
     "output_type": "display_data"
    }
   ],
   "source": [
    "dat = dat_crispr_info  \n",
    "dat = dat %>% \n",
    "    dplyr::mutate(\n",
    "        Loc = ifelse(\n",
    "            Strand == \"+\", \n",
    "            Start - 1,\n",
    "            Start + 1\n",
    "        )\n",
    "    ) %>%\n",
    "    dplyr::mutate(Guide_Loc  = paste(Chrom, as.integer(Loc), sep = \"_\")) %>%\n",
    "    dplyr::filter(Guide_Type == \"targeting\")\n",
    "\n",
    "dat_info = dat\n",
    "head(dat)"
   ]
  },
  {
   "cell_type": "code",
   "execution_count": 107,
   "metadata": {},
   "outputs": [
    {
     "name": "stdout",
     "output_type": "stream",
     "text": [
      "[1] 51543     6\n"
     ]
    },
    {
     "data": {
      "text/html": [
       "<table class=\"dataframe\">\n",
       "<caption>A tibble: 6 × 6</caption>\n",
       "<thead>\n",
       "\t<tr><th scope=col>Chrom</th><th scope=col>Start</th><th scope=col>End</th><th scope=col>Name</th><th scope=col>Score</th><th scope=col>Guide_Loc</th></tr>\n",
       "\t<tr><th scope=col>&lt;chr&gt;</th><th scope=col>&lt;int&gt;</th><th scope=col>&lt;int&gt;</th><th scope=col>&lt;chr&gt;</th><th scope=col>&lt;dbl&gt;</th><th scope=col>&lt;chr&gt;</th></tr>\n",
       "</thead>\n",
       "<tbody>\n",
       "\t<tr><td>chr11</td><td>33064196</td><td>33064197</td><td>id-1495</td><td> 0.807624</td><td>chr11_33064196</td></tr>\n",
       "\t<tr><td>chr11</td><td>33064217</td><td>33064218</td><td>id-1496</td><td>-2.712460</td><td>chr11_33064217</td></tr>\n",
       "\t<tr><td>chr11</td><td>33064229</td><td>33064230</td><td>id-1497</td><td> 0.642045</td><td>chr11_33064229</td></tr>\n",
       "\t<tr><td>chr11</td><td>33064230</td><td>33064231</td><td>id-1498</td><td> 1.853540</td><td>chr11_33064230</td></tr>\n",
       "\t<tr><td>chr11</td><td>33064258</td><td>33064259</td><td>id-1499</td><td> 0.126467</td><td>chr11_33064258</td></tr>\n",
       "\t<tr><td>chr11</td><td>33064264</td><td>33064265</td><td>id-1500</td><td> 0.217096</td><td>chr11_33064264</td></tr>\n",
       "</tbody>\n",
       "</table>\n"
      ],
      "text/latex": [
       "A tibble: 6 × 6\n",
       "\\begin{tabular}{llllll}\n",
       " Chrom & Start & End & Name & Score & Guide\\_Loc\\\\\n",
       " <chr> & <int> & <int> & <chr> & <dbl> & <chr>\\\\\n",
       "\\hline\n",
       "\t chr11 & 33064196 & 33064197 & id-1495 &  0.807624 & chr11\\_33064196\\\\\n",
       "\t chr11 & 33064217 & 33064218 & id-1496 & -2.712460 & chr11\\_33064217\\\\\n",
       "\t chr11 & 33064229 & 33064230 & id-1497 &  0.642045 & chr11\\_33064229\\\\\n",
       "\t chr11 & 33064230 & 33064231 & id-1498 &  1.853540 & chr11\\_33064230\\\\\n",
       "\t chr11 & 33064258 & 33064259 & id-1499 &  0.126467 & chr11\\_33064258\\\\\n",
       "\t chr11 & 33064264 & 33064265 & id-1500 &  0.217096 & chr11\\_33064264\\\\\n",
       "\\end{tabular}\n"
      ],
      "text/markdown": [
       "\n",
       "A tibble: 6 × 6\n",
       "\n",
       "| Chrom &lt;chr&gt; | Start &lt;int&gt; | End &lt;int&gt; | Name &lt;chr&gt; | Score &lt;dbl&gt; | Guide_Loc &lt;chr&gt; |\n",
       "|---|---|---|---|---|---|\n",
       "| chr11 | 33064196 | 33064197 | id-1495 |  0.807624 | chr11_33064196 |\n",
       "| chr11 | 33064217 | 33064218 | id-1496 | -2.712460 | chr11_33064217 |\n",
       "| chr11 | 33064229 | 33064230 | id-1497 |  0.642045 | chr11_33064229 |\n",
       "| chr11 | 33064230 | 33064231 | id-1498 |  1.853540 | chr11_33064230 |\n",
       "| chr11 | 33064258 | 33064259 | id-1499 |  0.126467 | chr11_33064258 |\n",
       "| chr11 | 33064264 | 33064265 | id-1500 |  0.217096 | chr11_33064264 |\n",
       "\n"
      ],
      "text/plain": [
       "  Chrom Start    End      Name    Score     Guide_Loc     \n",
       "1 chr11 33064196 33064197 id-1495  0.807624 chr11_33064196\n",
       "2 chr11 33064217 33064218 id-1496 -2.712460 chr11_33064217\n",
       "3 chr11 33064229 33064230 id-1497  0.642045 chr11_33064229\n",
       "4 chr11 33064230 33064231 id-1498  1.853540 chr11_33064230\n",
       "5 chr11 33064258 33064259 id-1499  0.126467 chr11_33064258\n",
       "6 chr11 33064264 33064265 id-1500  0.217096 chr11_33064264"
      ]
     },
     "metadata": {},
     "output_type": "display_data"
    }
   ],
   "source": [
    "vec = dat_info$Guide_Loc\n",
    "dat = dat_score %>% dplyr::filter(Guide_Loc %in% vec)\n",
    "\n",
    "dat_filter = dat\n",
    "print(dim(dat))\n",
    "head(dat)"
   ]
  },
  {
   "cell_type": "code",
   "execution_count": 106,
   "metadata": {},
   "outputs": [
    {
     "data": {
      "text/plain": [
       "                  \n",
       "                   chr10 chr11  chr5\n",
       "  negative_control  1500  3000  1500\n",
       "  targeting            0 52500     0"
      ]
     },
     "metadata": {},
     "output_type": "display_data"
    }
   ],
   "source": [
    "dat = dat_crispr_info\n",
    "table(dat$Guide_Type, dat$Chrom)"
   ]
  },
  {
   "cell_type": "code",
   "execution_count": 108,
   "metadata": {},
   "outputs": [
    {
     "data": {
      "text/plain": [
       "\n",
       "chr10 chr11  chr5 \n",
       " 1494 54529  1472 "
      ]
     },
     "metadata": {},
     "output_type": "display_data"
    }
   ],
   "source": [
    "dat = dat_score\n",
    "table(dat$Chrom)"
   ]
  },
  {
   "cell_type": "code",
   "execution_count": 109,
   "metadata": {},
   "outputs": [
    {
     "data": {
      "text/plain": [
       "\n",
       "chr11 \n",
       "51543 "
      ]
     },
     "metadata": {},
     "output_type": "display_data"
    }
   ],
   "source": [
    "dat = dat_filter\n",
    "table(dat$Chrom)"
   ]
  },
  {
   "cell_type": "code",
   "execution_count": null,
   "metadata": {},
   "outputs": [],
   "source": []
  }
 ],
 "metadata": {
  "kernelspec": {
   "display_name": "R",
   "language": "R",
   "name": "ir"
  },
  "language_info": {
   "codemirror_mode": "r",
   "file_extension": ".r",
   "mimetype": "text/x-r-source",
   "name": "R",
   "pygments_lexer": "r",
   "version": "4.3.0"
  }
 },
 "nbformat": 4,
 "nbformat_minor": 4
}
